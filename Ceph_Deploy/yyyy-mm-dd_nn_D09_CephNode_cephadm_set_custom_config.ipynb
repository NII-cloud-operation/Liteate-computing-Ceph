{
 "cells": [
  {
   "cell_type": "markdown",
   "metadata": {
    "collapsed": true,
    "lc_cell_meme": {
     "current": "35c33414-55a3-11e7-b0b2-00163e9c0e35-8-ffee-ac17-9684-9bd5-fc77-18b3-3ab1-8970",
     "history": [
      {
       "current": "35c33414-55a3-11e7-b0b2-00163e9c0e35",
       "next": "35c33626-55a3-11e7-b0b2-00163e9c0e35",
       "previous": null
      },
      {
       "current": "35c33414-55a3-11e7-b0b2-00163e9c0e35",
       "next": "35c33626-55a3-11e7-b0b2-00163e9c0e35",
       "previous": null
      },
      {
       "current": "35c33414-55a3-11e7-b0b2-00163e9c0e35",
       "next": "35c33626-55a3-11e7-b0b2-00163e9c0e35",
       "previous": "0db87670-9586-11ea-8d02-0242ac120007"
      },
      {
       "current": "35c33414-55a3-11e7-b0b2-00163e9c0e35-1-ffee",
       "next": "35c337f2-55a3-11e7-b0b2-00163e9c0e35",
       "previous": null
      },
      {
       "current": "35c33414-55a3-11e7-b0b2-00163e9c0e35-2-ffee-ac17",
       "next": "35c337f2-55a3-11e7-b0b2-00163e9c0e35-1-b874",
       "previous": null
      },
      {
       "current": "35c33414-55a3-11e7-b0b2-00163e9c0e35-3-ffee-ac17-9684",
       "next": "35c337f2-55a3-11e7-b0b2-00163e9c0e35-2-b874-13f7",
       "previous": null
      },
      {
       "current": "35c33414-55a3-11e7-b0b2-00163e9c0e35-4-ffee-ac17-9684-9bd5",
       "next": "35c337f2-55a3-11e7-b0b2-00163e9c0e35-3-b874-13f7-3f47",
       "previous": null
      },
      {
       "current": "35c33414-55a3-11e7-b0b2-00163e9c0e35-5-ffee-ac17-9684-9bd5-fc77",
       "next": "35c339aa-55a3-11e7-b0b2-00163e9c0e35-4-eee2-af6c-3cfe-ba77",
       "previous": null
      },
      {
       "current": "35c33414-55a3-11e7-b0b2-00163e9c0e35-6-ffee-ac17-9684-9bd5-fc77-18b3",
       "next": "35c339aa-55a3-11e7-b0b2-00163e9c0e35-5-eee2-af6c-3cfe-ba77-c100",
       "previous": null
      },
      {
       "current": "35c33414-55a3-11e7-b0b2-00163e9c0e35-7-ffee-ac17-9684-9bd5-fc77-18b3-3ab1",
       "next": "35c339aa-55a3-11e7-b0b2-00163e9c0e35-6-eee2-af6c-3cfe-ba77-c100-8d06",
       "previous": null
      },
      {
       "current": "35c33414-55a3-11e7-b0b2-00163e9c0e35-8-ffee-ac17-9684-9bd5-fc77-18b3-3ab1-8970",
       "next": "35c339aa-55a3-11e7-b0b2-00163e9c0e35-7-eee2-af6c-3cfe-ba77-c100-8d06-e72a",
       "previous": null
      }
     ],
     "next": "35c339aa-55a3-11e7-b0b2-00163e9c0e35-8-eee2-af6c-3cfe-ba77-c100-8d06-e72a-c583",
     "previous": null
    }
   },
   "source": [
    "# Cephノード構築：cephadm カスタム設定\n",
    "Cephノード構築時の共通的な初期設定を行う<br>\n"
   ]
  },
  {
   "cell_type": "markdown",
   "metadata": {
    "lc_cell_meme": {
     "current": "35c339aa-55a3-11e7-b0b2-00163e9c0e35-8-eee2-af6c-3cfe-ba77-c100-8d06-e72a-c583",
     "history": [
      {
       "current": "35c339aa-55a3-11e7-b0b2-00163e9c0e35",
       "next": "35c33b6c-55a3-11e7-b0b2-00163e9c0e35",
       "previous": "35c337f2-55a3-11e7-b0b2-00163e9c0e35"
      },
      {
       "current": "35c339aa-55a3-11e7-b0b2-00163e9c0e35",
       "next": "670888aa-5722-11e7-b0b2-00163e9c0e35",
       "previous": "35c337f2-55a3-11e7-b0b2-00163e9c0e35"
      },
      {
       "current": "35c339aa-55a3-11e7-b0b2-00163e9c0e35",
       "next": "670888aa-5722-11e7-b0b2-00163e9c0e35",
       "previous": "357fc83a-969d-11ea-8d02-0242ac120007"
      },
      {
       "current": "35c339aa-55a3-11e7-b0b2-00163e9c0e35-1-eee2",
       "next": "670888aa-5722-11e7-b0b2-00163e9c0e35",
       "previous": "8a48dae0-98a1-11ea-8d02-0242ac120007"
      },
      {
       "current": "35c339aa-55a3-11e7-b0b2-00163e9c0e35-2-eee2-af6c",
       "next": "670888aa-5722-11e7-b0b2-00163e9c0e35-1-17ba",
       "previous": "8a48dae0-98a1-11ea-8d02-0242ac120007-1-4da2"
      },
      {
       "current": "35c339aa-55a3-11e7-b0b2-00163e9c0e35-2-eee2-af6c",
       "next": "670888aa-5722-11e7-b0b2-00163e9c0e35-2-17ba-53fc",
       "previous": "8a48dae0-98a1-11ea-8d02-0242ac120007-2-4da2-9c77"
      },
      {
       "current": "35c339aa-55a3-11e7-b0b2-00163e9c0e35-3-eee2-af6c-3cfe",
       "next": "670888aa-5722-11e7-b0b2-00163e9c0e35-2-17ba-53fc",
       "previous": "35c337f2-55a3-11e7-b0b2-00163e9c0e35-2-b874-13f7"
      },
      {
       "current": "35c339aa-55a3-11e7-b0b2-00163e9c0e35-4-eee2-af6c-3cfe-ba77",
       "next": "670888aa-5722-11e7-b0b2-00163e9c0e35-3-17ba-53fc-2957",
       "previous": "35c337f2-55a3-11e7-b0b2-00163e9c0e35-3-b874-13f7-3f47"
      },
      {
       "current": "35c339aa-55a3-11e7-b0b2-00163e9c0e35-5-eee2-af6c-3cfe-ba77-c100",
       "next": "670888aa-5722-11e7-b0b2-00163e9c0e35-4-17ba-53fc-2957-9ea9",
       "previous": "35c33414-55a3-11e7-b0b2-00163e9c0e35-4-ffee-ac17-9684-9bd5"
      },
      {
       "current": "35c339aa-55a3-11e7-b0b2-00163e9c0e35-6-eee2-af6c-3cfe-ba77-c100-8d06",
       "next": "670888aa-5722-11e7-b0b2-00163e9c0e35-5-17ba-53fc-2957-9ea9-95bd",
       "previous": "35c33414-55a3-11e7-b0b2-00163e9c0e35-5-ffee-ac17-9684-9bd5-fc77"
      },
      {
       "current": "35c339aa-55a3-11e7-b0b2-00163e9c0e35-7-eee2-af6c-3cfe-ba77-c100-8d06-e72a",
       "next": "670888aa-5722-11e7-b0b2-00163e9c0e35-6-17ba-53fc-2957-9ea9-95bd-8621",
       "previous": "35c33414-55a3-11e7-b0b2-00163e9c0e35-6-ffee-ac17-9684-9bd5-fc77-18b3"
      },
      {
       "current": "35c339aa-55a3-11e7-b0b2-00163e9c0e35-8-eee2-af6c-3cfe-ba77-c100-8d06-e72a-c583",
       "next": "670888aa-5722-11e7-b0b2-00163e9c0e35-7-17ba-53fc-2957-9ea9-95bd-8621-e842",
       "previous": "35c33414-55a3-11e7-b0b2-00163e9c0e35-7-ffee-ac17-9684-9bd5-fc77-18b3-3ab1"
      }
     ],
     "next": "670888aa-5722-11e7-b0b2-00163e9c0e35-8-17ba-53fc-2957-9ea9-95bd-8621-e842-cb3d",
     "previous": "35c33414-55a3-11e7-b0b2-00163e9c0e35-8-ffee-ac17-9684-9bd5-fc77-18b3-3ab1-8970"
    }
   },
   "source": [
    "# パラメータ定義"
   ]
  },
  {
   "cell_type": "markdown",
   "metadata": {
    "lc_cell_meme": {
     "current": "670888aa-5722-11e7-b0b2-00163e9c0e35-8-17ba-53fc-2957-9ea9-95bd-8621-e842-cb3d",
     "history": [
      {
       "current": "670888aa-5722-11e7-b0b2-00163e9c0e35-1-17ba",
       "next": "35c33b6c-55a3-11e7-b0b2-00163e9c0e35",
       "previous": "35c339aa-55a3-11e7-b0b2-00163e9c0e35"
      },
      {
       "current": "670888aa-5722-11e7-b0b2-00163e9c0e35-2-17ba-53fc",
       "next": "35c33b6c-55a3-11e7-b0b2-00163e9c0e35-1-c84d",
       "previous": "35c339aa-55a3-11e7-b0b2-00163e9c0e35-1-eee2"
      },
      {
       "current": "670888aa-5722-11e7-b0b2-00163e9c0e35-3-17ba-53fc-2957",
       "next": "35c33b6c-55a3-11e7-b0b2-00163e9c0e35-2-c84d-3439",
       "previous": "35c339aa-55a3-11e7-b0b2-00163e9c0e35-2-eee2-af6c"
      },
      {
       "current": "670888aa-5722-11e7-b0b2-00163e9c0e35-4-17ba-53fc-2957-9ea9",
       "next": "35c33b6c-55a3-11e7-b0b2-00163e9c0e35-3-c84d-3439-eddb",
       "previous": "35c339aa-55a3-11e7-b0b2-00163e9c0e35-3-eee2-af6c-3cfe"
      },
      {
       "current": "670888aa-5722-11e7-b0b2-00163e9c0e35-5-17ba-53fc-2957-9ea9-95bd",
       "next": "35c33b6c-55a3-11e7-b0b2-00163e9c0e35-4-c84d-3439-eddb-6d2d",
       "previous": "35c339aa-55a3-11e7-b0b2-00163e9c0e35-4-eee2-af6c-3cfe-ba77"
      },
      {
       "current": "670888aa-5722-11e7-b0b2-00163e9c0e35-6-17ba-53fc-2957-9ea9-95bd-8621",
       "next": "35c33b6c-55a3-11e7-b0b2-00163e9c0e35-5-c84d-3439-eddb-6d2d-bb19",
       "previous": "35c339aa-55a3-11e7-b0b2-00163e9c0e35-5-eee2-af6c-3cfe-ba77-c100"
      },
      {
       "current": "670888aa-5722-11e7-b0b2-00163e9c0e35-7-17ba-53fc-2957-9ea9-95bd-8621-e842",
       "next": "35c33b6c-55a3-11e7-b0b2-00163e9c0e35-6-c84d-3439-eddb-6d2d-bb19-ee8c",
       "previous": "35c339aa-55a3-11e7-b0b2-00163e9c0e35-6-eee2-af6c-3cfe-ba77-c100-8d06"
      },
      {
       "current": "670888aa-5722-11e7-b0b2-00163e9c0e35-8-17ba-53fc-2957-9ea9-95bd-8621-e842-cb3d",
       "next": "35c33b6c-55a3-11e7-b0b2-00163e9c0e35-7-c84d-3439-eddb-6d2d-bb19-ee8c-c16b",
       "previous": "35c339aa-55a3-11e7-b0b2-00163e9c0e35-7-eee2-af6c-3cfe-ba77-c100-8d06-e72a"
      }
     ],
     "next": "35c33b6c-55a3-11e7-b0b2-00163e9c0e35-8-c84d-3439-eddb-6d2d-bb19-ee8c-c16b-0ca5",
     "previous": "35c339aa-55a3-11e7-b0b2-00163e9c0e35-8-eee2-af6c-3cfe-ba77-c100-8d06-e72a-c583"
    }
   },
   "source": [
    "## パラメータファイル設定"
   ]
  },
  {
   "cell_type": "markdown",
   "metadata": {
    "lc_cell_meme": {
     "current": "35c33b6c-55a3-11e7-b0b2-00163e9c0e35-8-c84d-3439-eddb-6d2d-bb19-ee8c-c16b-0ca5",
     "history": [
      {
       "current": "35c33b6c-55a3-11e7-b0b2-00163e9c0e35",
       "next": "35c33d24-55a3-11e7-b0b2-00163e9c0e35",
       "previous": "35c339aa-55a3-11e7-b0b2-00163e9c0e35"
      },
      {
       "current": "35c33b6c-55a3-11e7-b0b2-00163e9c0e35-1-c84d",
       "next": "35c33d24-55a3-11e7-b0b2-00163e9c0e35",
       "previous": "670888aa-5722-11e7-b0b2-00163e9c0e35"
      },
      {
       "current": "35c33b6c-55a3-11e7-b0b2-00163e9c0e35-2-c84d-3439",
       "next": "35c33d24-55a3-11e7-b0b2-00163e9c0e35-1-c8d8",
       "previous": "670888aa-5722-11e7-b0b2-00163e9c0e35-1-17ba"
      },
      {
       "current": "35c33b6c-55a3-11e7-b0b2-00163e9c0e35-3-c84d-3439-eddb",
       "next": "35c33d24-55a3-11e7-b0b2-00163e9c0e35-2-c8d8-c063",
       "previous": "670888aa-5722-11e7-b0b2-00163e9c0e35-2-17ba-53fc"
      },
      {
       "current": "35c33b6c-55a3-11e7-b0b2-00163e9c0e35-4-c84d-3439-eddb-6d2d",
       "next": "35c33d24-55a3-11e7-b0b2-00163e9c0e35-3-c8d8-c063-e3d4",
       "previous": "670888aa-5722-11e7-b0b2-00163e9c0e35-3-17ba-53fc-2957"
      },
      {
       "current": "35c33b6c-55a3-11e7-b0b2-00163e9c0e35-5-c84d-3439-eddb-6d2d-bb19",
       "next": "35c33d24-55a3-11e7-b0b2-00163e9c0e35-4-c8d8-c063-e3d4-cf81",
       "previous": "670888aa-5722-11e7-b0b2-00163e9c0e35-4-17ba-53fc-2957-9ea9"
      },
      {
       "current": "35c33b6c-55a3-11e7-b0b2-00163e9c0e35-6-c84d-3439-eddb-6d2d-bb19-ee8c",
       "next": "35c33d24-55a3-11e7-b0b2-00163e9c0e35-5-c8d8-c063-e3d4-cf81-3b9b",
       "previous": "670888aa-5722-11e7-b0b2-00163e9c0e35-5-17ba-53fc-2957-9ea9-95bd"
      },
      {
       "current": "35c33b6c-55a3-11e7-b0b2-00163e9c0e35-7-c84d-3439-eddb-6d2d-bb19-ee8c-c16b",
       "next": "a5173582-1cd3-11ef-ad2f-0242ac120005",
       "previous": "670888aa-5722-11e7-b0b2-00163e9c0e35-6-17ba-53fc-2957-9ea9-95bd-8621"
      },
      {
       "current": "35c33b6c-55a3-11e7-b0b2-00163e9c0e35-8-c84d-3439-eddb-6d2d-bb19-ee8c-c16b-0ca5",
       "next": "a5173582-1cd3-11ef-ad2f-0242ac120005-1-3a51",
       "previous": "670888aa-5722-11e7-b0b2-00163e9c0e35-7-17ba-53fc-2957-9ea9-95bd-8621-e842"
      }
     ],
     "next": "a5173582-1cd3-11ef-ad2f-0242ac120005-2-3a51-068e",
     "previous": "670888aa-5722-11e7-b0b2-00163e9c0e35-8-17ba-53fc-2957-9ea9-95bd-8621-e842-cb3d"
    }
   },
   "source": [
    "Cephクラスタの定義ファイルを指定するため、<br>\n",
    "パラメータ定義格納ディレクトリを表示する。"
   ]
  },
  {
   "cell_type": "code",
   "execution_count": null,
   "metadata": {
    "lc_cell_meme": {
     "current": "a5173582-1cd3-11ef-ad2f-0242ac120005-2-3a51-068e",
     "history": [
      {
       "current": "a5173582-1cd3-11ef-ad2f-0242ac120005-1-3a51",
       "next": "a517365e-1cd3-11ef-ad2f-0242ac120005",
       "previous": "35c33b6c-55a3-11e7-b0b2-00163e9c0e35-6-c84d-3439-eddb-6d2d-bb19-ee8c"
      },
      {
       "current": "a5173582-1cd3-11ef-ad2f-0242ac120005-2-3a51-068e",
       "next": "a517365e-1cd3-11ef-ad2f-0242ac120005-1-4b79",
       "previous": "35c33b6c-55a3-11e7-b0b2-00163e9c0e35-7-c84d-3439-eddb-6d2d-bb19-ee8c-c16b"
      }
     ],
     "next": "a517365e-1cd3-11ef-ad2f-0242ac120005-2-4b79-c521",
     "previous": "35c33b6c-55a3-11e7-b0b2-00163e9c0e35-8-c84d-3439-eddb-6d2d-bb19-ee8c-c16b-0ca5"
    }
   },
   "outputs": [],
   "source": [
    "!ls -p ~/notebooks/share/ | grep \"/$\""
   ]
  },
  {
   "cell_type": "code",
   "execution_count": null,
   "metadata": {
    "lc_cell_meme": {
     "current": "a517365e-1cd3-11ef-ad2f-0242ac120005-2-4b79-c521",
     "history": [
      {
       "current": "a517365e-1cd3-11ef-ad2f-0242ac120005-1-4b79",
       "next": "a5173690-1cd3-11ef-ad2f-0242ac120005",
       "previous": "a5173582-1cd3-11ef-ad2f-0242ac120005"
      },
      {
       "current": "a517365e-1cd3-11ef-ad2f-0242ac120005-2-4b79-c521",
       "next": "a5173690-1cd3-11ef-ad2f-0242ac120005-1-ecec",
       "previous": "a5173582-1cd3-11ef-ad2f-0242ac120005-1-3a51"
      }
     ],
     "next": "a5173690-1cd3-11ef-ad2f-0242ac120005-2-ecec-be91",
     "previous": "a5173582-1cd3-11ef-ad2f-0242ac120005-2-3a51-068e"
    }
   },
   "outputs": [],
   "source": [
    "!ls -p ~/notebooks/share/configuration"
   ]
  },
  {
   "cell_type": "code",
   "execution_count": null,
   "metadata": {
    "lc_cell_meme": {
     "current": "a5173690-1cd3-11ef-ad2f-0242ac120005-2-ecec-be91",
     "history": [
      {
       "current": "a5173690-1cd3-11ef-ad2f-0242ac120005-1-ecec",
       "next": "a51736b8-1cd3-11ef-ad2f-0242ac120005",
       "previous": "a517365e-1cd3-11ef-ad2f-0242ac120005"
      },
      {
       "current": "a5173690-1cd3-11ef-ad2f-0242ac120005-2-ecec-be91",
       "next": "a51736b8-1cd3-11ef-ad2f-0242ac120005-1-177d",
       "previous": "a517365e-1cd3-11ef-ad2f-0242ac120005-1-4b79"
      }
     ],
     "next": "a51736b8-1cd3-11ef-ad2f-0242ac120005-2-177d-94c0",
     "previous": "a517365e-1cd3-11ef-ad2f-0242ac120005-2-4b79-c521"
    }
   },
   "outputs": [],
   "source": [
    "!ls -p ~/notebooks/share/configuration/ceph"
   ]
  },
  {
   "cell_type": "code",
   "execution_count": null,
   "metadata": {
    "lc_cell_meme": {
     "current": "a51736b8-1cd3-11ef-ad2f-0242ac120005-2-177d-94c0",
     "history": [
      {
       "current": "a51736b8-1cd3-11ef-ad2f-0242ac120005-1-177d",
       "next": "a51736e0-1cd3-11ef-ad2f-0242ac120005",
       "previous": "a5173690-1cd3-11ef-ad2f-0242ac120005"
      },
      {
       "current": "a51736b8-1cd3-11ef-ad2f-0242ac120005-2-177d-94c0",
       "next": "a51736e0-1cd3-11ef-ad2f-0242ac120005-1-19a1",
       "previous": "a5173690-1cd3-11ef-ad2f-0242ac120005-1-ecec"
      }
     ],
     "next": "a51736e0-1cd3-11ef-ad2f-0242ac120005-2-19a1-e293",
     "previous": "a5173690-1cd3-11ef-ad2f-0242ac120005-2-ecec-be91"
    }
   },
   "outputs": [],
   "source": [
    "import sys, os.path, importlib, json, yaml\n",
    "\n",
    "config_file_name = \"ceph_admin_vm.yml\"\n",
    "config_file_path = os.path.expanduser(\"~/notebooks/share/configuration/ceph/{}\".format(config_file_name))\n",
    "with open(config_file_path) as f:\n",
    "    admin_params = yaml.safe_load(f)\n",
    "admin_params"
   ]
  },
  {
   "cell_type": "code",
   "execution_count": null,
   "metadata": {
    "lc_cell_meme": {
     "current": "a51736e0-1cd3-11ef-ad2f-0242ac120005-2-19a1-e293",
     "history": [
      {
       "current": "a51736e0-1cd3-11ef-ad2f-0242ac120005-1-19a1",
       "next": "a51736fe-1cd3-11ef-ad2f-0242ac120005",
       "previous": "a51736b8-1cd3-11ef-ad2f-0242ac120005"
      },
      {
       "current": "a51736e0-1cd3-11ef-ad2f-0242ac120005-2-19a1-e293",
       "next": "a51736fe-1cd3-11ef-ad2f-0242ac120005-1-3fe3",
       "previous": "a51736b8-1cd3-11ef-ad2f-0242ac120005-1-177d"
      }
     ],
     "next": "a51736fe-1cd3-11ef-ad2f-0242ac120005-2-3fe3-84da",
     "previous": "a51736b8-1cd3-11ef-ad2f-0242ac120005-2-177d-94c0"
    }
   },
   "outputs": [],
   "source": [
    "target_vm_name = 'xxx-ceph-admin1'\n",
    "admin_patam = admin_params[target_vm_name]\n",
    "admin_patam"
   ]
  },
  {
   "cell_type": "code",
   "execution_count": null,
   "metadata": {
    "lc_cell_meme": {
     "current": "a51736fe-1cd3-11ef-ad2f-0242ac120005-2-3fe3-84da",
     "history": [
      {
       "current": "a51736fe-1cd3-11ef-ad2f-0242ac120005",
       "next": "35c33d24-55a3-11e7-b0b2-00163e9c0e35-6-c8d8-c063-e3d4-cf81-3b9b-d186",
       "previous": "a51736e0-1cd3-11ef-ad2f-0242ac120005"
      },
      {
       "current": "a51736fe-1cd3-11ef-ad2f-0242ac120005-1-3fe3",
       "next": "eca05e7e-1cd3-11ef-ad2f-0242ac120005",
       "previous": "a51736e0-1cd3-11ef-ad2f-0242ac120005"
      },
      {
       "current": "a51736fe-1cd3-11ef-ad2f-0242ac120005-2-3fe3-84da",
       "next": "eca05e7e-1cd3-11ef-ad2f-0242ac120005-1-e910",
       "previous": "a51736e0-1cd3-11ef-ad2f-0242ac120005-1-19a1"
      }
     ],
     "next": "eca05e7e-1cd3-11ef-ad2f-0242ac120005-2-e910-76b2",
     "previous": "a51736e0-1cd3-11ef-ad2f-0242ac120005-2-19a1-e293"
    }
   },
   "outputs": [],
   "source": [
    "ceph_admin_ip = admin_patam['network']['provisioning']['ip']"
   ]
  },
  {
   "cell_type": "code",
   "execution_count": null,
   "metadata": {
    "lc_cell_meme": {
     "current": "eca05e7e-1cd3-11ef-ad2f-0242ac120005-2-e910-76b2",
     "history": [
      {
       "current": "eca05e7e-1cd3-11ef-ad2f-0242ac120005-1-e910",
       "next": "eca05f82-1cd3-11ef-ad2f-0242ac120005",
       "previous": "a51736fe-1cd3-11ef-ad2f-0242ac120005"
      },
      {
       "current": "eca05e7e-1cd3-11ef-ad2f-0242ac120005-2-e910-76b2",
       "next": "eca05f82-1cd3-11ef-ad2f-0242ac120005-1-f8c3",
       "previous": "a51736fe-1cd3-11ef-ad2f-0242ac120005-1-3fe3"
      }
     ],
     "next": "eca05f82-1cd3-11ef-ad2f-0242ac120005-2-f8c3-99c9",
     "previous": "a51736fe-1cd3-11ef-ad2f-0242ac120005-2-3fe3-84da"
    }
   },
   "outputs": [],
   "source": [
    "import sys, os.path, importlib, json, yaml\n",
    "\n",
    "config_file_name = \"xxx-openstack-parameter.yml\"\n",
    "config_file_path = os.path.expanduser(\"~/notebooks/share/configuration/{}\".format(config_file_name))\n",
    "with open(config_file_path) as f:\n",
    "    params = yaml.safe_load(f)\n",
    "params"
   ]
  },
  {
   "cell_type": "code",
   "execution_count": null,
   "metadata": {
    "lc_cell_meme": {
     "current": "eca05f82-1cd3-11ef-ad2f-0242ac120005-2-f8c3-99c9",
     "history": [
      {
       "current": "eca05f82-1cd3-11ef-ad2f-0242ac120005-1-f8c3",
       "next": "eca05fb4-1cd3-11ef-ad2f-0242ac120005",
       "previous": "eca05e7e-1cd3-11ef-ad2f-0242ac120005"
      },
      {
       "current": "eca05f82-1cd3-11ef-ad2f-0242ac120005-2-f8c3-99c9",
       "next": "eca05fb4-1cd3-11ef-ad2f-0242ac120005-1-e299",
       "previous": "eca05e7e-1cd3-11ef-ad2f-0242ac120005-1-e910"
      }
     ],
     "next": "eca05fb4-1cd3-11ef-ad2f-0242ac120005-2-e299-f09a",
     "previous": "eca05e7e-1cd3-11ef-ad2f-0242ac120005-2-e910-76b2"
    }
   },
   "outputs": [],
   "source": [
    "repo_server = params['repository']['addresses']['service_operation']\n",
    "repo_server"
   ]
  },
  {
   "cell_type": "code",
   "execution_count": null,
   "metadata": {
    "lc_cell_meme": {
     "current": "eca05fb4-1cd3-11ef-ad2f-0242ac120005-2-e299-f09a",
     "history": [
      {
       "current": "eca05fb4-1cd3-11ef-ad2f-0242ac120005-1-e299",
       "next": "eca05fdc-1cd3-11ef-ad2f-0242ac120005",
       "previous": "eca05f82-1cd3-11ef-ad2f-0242ac120005"
      },
      {
       "current": "eca05fb4-1cd3-11ef-ad2f-0242ac120005-2-e299-f09a",
       "next": "eca05fdc-1cd3-11ef-ad2f-0242ac120005-1-2507",
       "previous": "eca05f82-1cd3-11ef-ad2f-0242ac120005-1-f8c3"
      }
     ],
     "next": "eca05fdc-1cd3-11ef-ad2f-0242ac120005-2-2507-11d8",
     "previous": "eca05f82-1cd3-11ef-ad2f-0242ac120005-2-f8c3-99c9"
    }
   },
   "outputs": [],
   "source": [
    "provisioning_vip = params['openstack']['provisioning_vip']\n",
    "provisioning_vip"
   ]
  },
  {
   "cell_type": "code",
   "execution_count": null,
   "metadata": {
    "lc_cell_meme": {
     "current": "eca05fdc-1cd3-11ef-ad2f-0242ac120005-2-2507-11d8",
     "history": [
      {
       "current": "eca05fdc-1cd3-11ef-ad2f-0242ac120005",
       "next": "eca06004-1cd3-11ef-ad2f-0242ac120005",
       "previous": "eca05fb4-1cd3-11ef-ad2f-0242ac120005"
      },
      {
       "current": "eca05fdc-1cd3-11ef-ad2f-0242ac120005-1-2507",
       "next": "bf249b06-98af-11ea-8d02-0242ac120007-6-1e49-e772-9042-8909-49cb-a9b2",
       "previous": "eca05fb4-1cd3-11ef-ad2f-0242ac120005"
      },
      {
       "current": "eca05fdc-1cd3-11ef-ad2f-0242ac120005-2-2507-11d8",
       "next": "bf249b06-98af-11ea-8d02-0242ac120007-7-1e49-e772-9042-8909-49cb-a9b2-5d79",
       "previous": "eca05fb4-1cd3-11ef-ad2f-0242ac120005-1-e299"
      }
     ],
     "next": "bf249b06-98af-11ea-8d02-0242ac120007-8-1e49-e772-9042-8909-49cb-a9b2-5d79-1b7b",
     "previous": "eca05fb4-1cd3-11ef-ad2f-0242ac120005-2-e299-f09a"
    }
   },
   "outputs": [],
   "source": [
    "network_segment_controller_vip = params['network_segment_controller_vip']\n",
    "network_segment_controller_vip"
   ]
  },
  {
   "cell_type": "markdown",
   "metadata": {
    "lc_cell_meme": {
     "current": "bf249b06-98af-11ea-8d02-0242ac120007-8-1e49-e772-9042-8909-49cb-a9b2-5d79-1b7b",
     "history": [
      {
       "current": "bf249b06-98af-11ea-8d02-0242ac120007",
       "next": "d1bcb8ac-9599-11ea-8d02-0242ac120007",
       "previous": "7dae8996-9686-11ea-8d02-0242ac120007"
      },
      {
       "current": "bf249b06-98af-11ea-8d02-0242ac120007-1-1e49",
       "next": "dd8e3cbc-98f2-11ea-8d02-0242ac120007",
       "previous": "7dae8996-9686-11ea-8d02-0242ac120007"
      },
      {
       "current": "bf249b06-98af-11ea-8d02-0242ac120007-2-1e49-e772",
       "next": "dd8e3cbc-98f2-11ea-8d02-0242ac120007-1-706a",
       "previous": "7dae8996-9686-11ea-8d02-0242ac120007-1-20c5"
      },
      {
       "current": "bf249b06-98af-11ea-8d02-0242ac120007-2-1e49-e772",
       "next": "dd8e3cbc-98f2-11ea-8d02-0242ac120007-2-706a-309d",
       "previous": "7dae8996-9686-11ea-8d02-0242ac120007-2-20c5-a0b0"
      },
      {
       "current": "bf249b06-98af-11ea-8d02-0242ac120007-2-1e49-e772",
       "next": "dd8e3cbc-98f2-11ea-8d02-0242ac120007-2-706a-309d",
       "previous": "1afe76e2-def8-11eb-b29f-0242ac120008"
      },
      {
       "current": "bf249b06-98af-11ea-8d02-0242ac120007-2-1e49-e772",
       "next": "d1bcb8ac-9599-11ea-8d02-0242ac120007-2-ec95-2870",
       "previous": "1afe76e2-def8-11eb-b29f-0242ac120008"
      },
      {
       "current": "bf249b06-98af-11ea-8d02-0242ac120007-2-1e49-e772",
       "next": "d1bcb8ac-9599-11ea-8d02-0242ac120007-2-ec95-2870",
       "previous": "445f36bc-def7-11eb-b29f-0242ac120008"
      },
      {
       "current": "bf249b06-98af-11ea-8d02-0242ac120007-3-1e49-e772-9042",
       "next": "d1bcb8ac-9599-11ea-8d02-0242ac120007-2-ec95-2870",
       "previous": "17dd310e-deff-11eb-b29f-0242ac120008"
      },
      {
       "current": "bf249b06-98af-11ea-8d02-0242ac120007-4-1e49-e772-9042-8909",
       "next": "d1bcb8ac-9599-11ea-8d02-0242ac120007-3-ec95-2870-3f6b",
       "previous": "17dd310e-deff-11eb-b29f-0242ac120008-1-9f34"
      },
      {
       "current": "bf249b06-98af-11ea-8d02-0242ac120007-5-1e49-e772-9042-8909-49cb",
       "next": "d1bcb8ac-9599-11ea-8d02-0242ac120007-4-ec95-2870-3f6b-fdbd",
       "previous": "17dd310e-deff-11eb-b29f-0242ac120008-2-9f34-09ab"
      },
      {
       "current": "bf249b06-98af-11ea-8d02-0242ac120007-6-1e49-e772-9042-8909-49cb-a9b2",
       "next": "d1bcb8ac-9599-11ea-8d02-0242ac120007-5-ec95-2870-3f6b-fdbd-6eeb",
       "previous": "17dd310e-deff-11eb-b29f-0242ac120008-3-9f34-09ab-ec4e"
      },
      {
       "current": "bf249b06-98af-11ea-8d02-0242ac120007-6-1e49-e772-9042-8909-49cb-a9b2",
       "next": "d1bcb8ac-9599-11ea-8d02-0242ac120007-6-ec95-2870-3f6b-fdbd-6eeb-d024",
       "previous": "17dd310e-deff-11eb-b29f-0242ac120008-4-9f34-09ab-ec4e-be32"
      },
      {
       "current": "bf249b06-98af-11ea-8d02-0242ac120007-6-1e49-e772-9042-8909-49cb-a9b2",
       "next": "d1bcb8ac-9599-11ea-8d02-0242ac120007-6-ec95-2870-3f6b-fdbd-6eeb-d024",
       "previous": "35c34918-55a3-11e7-b0b2-00163e9c0e35-6-99ce-3eb9-c50f-6029-5c2e-8656"
      },
      {
       "current": "bf249b06-98af-11ea-8d02-0242ac120007-7-1e49-e772-9042-8909-49cb-a9b2-5d79",
       "next": "d1bcb8ac-9599-11ea-8d02-0242ac120007-6-ec95-2870-3f6b-fdbd-6eeb-d024",
       "previous": "eca05fdc-1cd3-11ef-ad2f-0242ac120005"
      },
      {
       "current": "bf249b06-98af-11ea-8d02-0242ac120007-8-1e49-e772-9042-8909-49cb-a9b2-5d79-1b7b",
       "next": "d1bcb8ac-9599-11ea-8d02-0242ac120007-7-ec95-2870-3f6b-fdbd-6eeb-d024-dba1",
       "previous": "eca05fdc-1cd3-11ef-ad2f-0242ac120005-1-2507"
      }
     ],
     "next": "d1bcb8ac-9599-11ea-8d02-0242ac120007-8-ec95-2870-3f6b-fdbd-6eeb-d024-dba1-8fec",
     "previous": "eca05fdc-1cd3-11ef-ad2f-0242ac120005-2-2507-11d8"
    }
   },
   "source": [
    "## CephノードとストレージセグメントIPアドレス対応表の読み込み"
   ]
  },
  {
   "cell_type": "code",
   "execution_count": null,
   "metadata": {
    "lc_cell_meme": {
     "current": "d1bcb8ac-9599-11ea-8d02-0242ac120007-8-ec95-2870-3f6b-fdbd-6eeb-d024-dba1-8fec",
     "history": [
      {
       "current": "d1bcb8ac-9599-11ea-8d02-0242ac120007",
       "next": "d1bcba78-9599-11ea-8d02-0242ac120007",
       "previous": "d1bcb5c8-9599-11ea-8d02-0242ac120007"
      },
      {
       "current": "d1bcb8ac-9599-11ea-8d02-0242ac120007",
       "next": "d1bcba78-9599-11ea-8d02-0242ac120007",
       "previous": "a85c1dda-959a-11ea-8d02-0242ac120007"
      },
      {
       "current": "d1bcb8ac-9599-11ea-8d02-0242ac120007",
       "next": "81dd4f74-9597-11ea-8d02-0242ac120007",
       "previous": "a85c1dda-959a-11ea-8d02-0242ac120007"
      },
      {
       "current": "d1bcb8ac-9599-11ea-8d02-0242ac120007",
       "next": "e879cdac-95bf-11ea-8d02-0242ac120007",
       "previous": "a85c1dda-959a-11ea-8d02-0242ac120007"
      },
      {
       "current": "d1bcb8ac-9599-11ea-8d02-0242ac120007",
       "next": "7899411a-9692-11ea-8d02-0242ac120007",
       "previous": "bf249b06-98af-11ea-8d02-0242ac120007"
      },
      {
       "current": "d1bcb8ac-9599-11ea-8d02-0242ac120007",
       "next": "06afe9a8-98b0-11ea-8d02-0242ac120007",
       "previous": "bf249b06-98af-11ea-8d02-0242ac120007"
      },
      {
       "current": "d1bcb8ac-9599-11ea-8d02-0242ac120007",
       "next": "06afe9a8-98b0-11ea-8d02-0242ac120007",
       "previous": "dd8e3cbc-98f2-11ea-8d02-0242ac120007"
      },
      {
       "current": "d1bcb8ac-9599-11ea-8d02-0242ac120007-1-ec95",
       "next": "250e7a70-98f3-11ea-8d02-0242ac120007",
       "previous": "dd8e3cbc-98f2-11ea-8d02-0242ac120007"
      },
      {
       "current": "d1bcb8ac-9599-11ea-8d02-0242ac120007-2-ec95-2870",
       "next": "250e7a70-98f3-11ea-8d02-0242ac120007-1-f0b4",
       "previous": "dd8e3cbc-98f2-11ea-8d02-0242ac120007-1-706a"
      },
      {
       "current": "d1bcb8ac-9599-11ea-8d02-0242ac120007-2-ec95-2870",
       "next": "250e7a70-98f3-11ea-8d02-0242ac120007-2-f0b4-6edf",
       "previous": "dd8e3cbc-98f2-11ea-8d02-0242ac120007-2-706a-309d"
      },
      {
       "current": "d1bcb8ac-9599-11ea-8d02-0242ac120007-3-ec95-2870-3f6b",
       "next": "250e7a70-98f3-11ea-8d02-0242ac120007-2-f0b4-6edf",
       "previous": "bf249b06-98af-11ea-8d02-0242ac120007-2-1e49-e772"
      },
      {
       "current": "d1bcb8ac-9599-11ea-8d02-0242ac120007-3-ec95-2870-3f6b",
       "next": "250e7a70-98f3-11ea-8d02-0242ac120007-3-f0b4-6edf-9d40",
       "previous": "bf249b06-98af-11ea-8d02-0242ac120007-3-1e49-e772-9042"
      },
      {
       "current": "d1bcb8ac-9599-11ea-8d02-0242ac120007-4-ec95-2870-3f6b-fdbd",
       "next": "87be945a-6f11-11ee-89fa-0242ac120005",
       "previous": "bf249b06-98af-11ea-8d02-0242ac120007-3-1e49-e772-9042"
      },
      {
       "current": "d1bcb8ac-9599-11ea-8d02-0242ac120007-5-ec95-2870-3f6b-fdbd-6eeb",
       "next": "87be945a-6f11-11ee-89fa-0242ac120005-1-17c8",
       "previous": "bf249b06-98af-11ea-8d02-0242ac120007-4-1e49-e772-9042-8909"
      },
      {
       "current": "d1bcb8ac-9599-11ea-8d02-0242ac120007-6-ec95-2870-3f6b-fdbd-6eeb-d024",
       "next": "87be945a-6f11-11ee-89fa-0242ac120005-2-17c8-6947",
       "previous": "bf249b06-98af-11ea-8d02-0242ac120007-5-1e49-e772-9042-8909-49cb"
      },
      {
       "current": "d1bcb8ac-9599-11ea-8d02-0242ac120007-6-ec95-2870-3f6b-fdbd-6eeb-d024",
       "next": "87be945a-6f11-11ee-89fa-0242ac120005-3-17c8-6947-d532",
       "previous": "bf249b06-98af-11ea-8d02-0242ac120007-6-1e49-e772-9042-8909-49cb-a9b2"
      },
      {
       "current": "d1bcb8ac-9599-11ea-8d02-0242ac120007-7-ec95-2870-3f6b-fdbd-6eeb-d024-dba1",
       "next": "cf4726ac-6f11-11ee-89fa-0242ac120005-3-0ca3-57d5-f436",
       "previous": "bf249b06-98af-11ea-8d02-0242ac120007-6-1e49-e772-9042-8909-49cb-a9b2"
      },
      {
       "current": "d1bcb8ac-9599-11ea-8d02-0242ac120007-8-ec95-2870-3f6b-fdbd-6eeb-d024-dba1-8fec",
       "next": "cf4726ac-6f11-11ee-89fa-0242ac120005-4-0ca3-57d5-f436-b10a",
       "previous": "bf249b06-98af-11ea-8d02-0242ac120007-7-1e49-e772-9042-8909-49cb-a9b2-5d79"
      }
     ],
     "next": "cf4726ac-6f11-11ee-89fa-0242ac120005-5-0ca3-57d5-f436-b10a-ff9e",
     "previous": "bf249b06-98af-11ea-8d02-0242ac120007-8-1e49-e772-9042-8909-49cb-a9b2-5d79-1b7b"
    },
    "scrolled": true
   },
   "outputs": [],
   "source": [
    "import os\n",
    "import csv\n",
    "import pandas as pd\n",
    "\n",
    "instance_ip_csv_path =  os.environ['HOME'] + \"/notebooks/share/configuration/ceph/ceph_instance_ip.csv\"\n",
    "instance_ip_list = []\n",
    "instance_ip_map = {}\n",
    "\n",
    "with open(instance_ip_csv_path, 'r') as path_csv:\n",
    "    reader = csv.DictReader(path_csv)\n",
    "    \n",
    "    for record in reader:\n",
    "        instance_ip_list.append(record)\n",
    "        instance_ip_map[record['instance_name']] = record\n",
    "\n",
    "pd.DataFrame(instance_ip_list)"
   ]
  },
  {
   "cell_type": "markdown",
   "metadata": {
    "lc_cell_meme": {
     "current": "cf4726ac-6f11-11ee-89fa-0242ac120005-5-0ca3-57d5-f436-b10a-ff9e",
     "history": [
      {
       "current": "cf4726ac-6f11-11ee-89fa-0242ac120005-1-0ca3",
       "next": "cf472882-6f11-11ee-89fa-0242ac120005",
       "previous": "250e7a70-98f3-11ea-8d02-0242ac120007-3-f0b4-6edf-9d40"
      },
      {
       "current": "cf4726ac-6f11-11ee-89fa-0242ac120005-2-0ca3-57d5",
       "next": "cf472882-6f11-11ee-89fa-0242ac120005-1-ce32",
       "previous": "250e7a70-98f3-11ea-8d02-0242ac120007-4-f0b4-6edf-9d40-8c73"
      },
      {
       "current": "cf4726ac-6f11-11ee-89fa-0242ac120005-3-0ca3-57d5-f436",
       "next": "cf472882-6f11-11ee-89fa-0242ac120005-2-ce32-4977",
       "previous": "250e7a70-98f3-11ea-8d02-0242ac120007-5-f0b4-6edf-9d40-8c73-4796"
      },
      {
       "current": "cf4726ac-6f11-11ee-89fa-0242ac120005-3-0ca3-57d5-f436",
       "next": "cf472882-6f11-11ee-89fa-0242ac120005-3-ce32-4977-3e94",
       "previous": "250e7a70-98f3-11ea-8d02-0242ac120007-6-f0b4-6edf-9d40-8c73-4796-62e0"
      },
      {
       "current": "cf4726ac-6f11-11ee-89fa-0242ac120005-4-0ca3-57d5-f436-b10a",
       "next": "cf472882-6f11-11ee-89fa-0242ac120005-3-ce32-4977-3e94",
       "previous": "d1bcb8ac-9599-11ea-8d02-0242ac120007-6-ec95-2870-3f6b-fdbd-6eeb-d024"
      },
      {
       "current": "cf4726ac-6f11-11ee-89fa-0242ac120005-5-0ca3-57d5-f436-b10a-ff9e",
       "next": "cf472882-6f11-11ee-89fa-0242ac120005-4-ce32-4977-3e94-5cdd",
       "previous": "d1bcb8ac-9599-11ea-8d02-0242ac120007-7-ec95-2870-3f6b-fdbd-6eeb-d024-dba1"
      }
     ],
     "next": "cf472882-6f11-11ee-89fa-0242ac120005-5-ce32-4977-3e94-5cdd-a77d",
     "previous": "d1bcb8ac-9599-11ea-8d02-0242ac120007-8-ec95-2870-3f6b-fdbd-6eeb-d024-dba1-8fec"
    }
   },
   "source": [
    "## 作業用ディレクトリを作成する"
   ]
  },
  {
   "cell_type": "code",
   "execution_count": null,
   "metadata": {
    "lc_cell_meme": {
     "current": "cf472882-6f11-11ee-89fa-0242ac120005-5-ce32-4977-3e94-5cdd-a77d",
     "history": [
      {
       "current": "cf472882-6f11-11ee-89fa-0242ac120005-1-ce32",
       "next": "cf4728fa-6f11-11ee-89fa-0242ac120005",
       "previous": "cf4726ac-6f11-11ee-89fa-0242ac120005"
      },
      {
       "current": "cf472882-6f11-11ee-89fa-0242ac120005-2-ce32-4977",
       "next": "cf4728fa-6f11-11ee-89fa-0242ac120005-1-6480",
       "previous": "cf4726ac-6f11-11ee-89fa-0242ac120005-1-0ca3"
      },
      {
       "current": "cf472882-6f11-11ee-89fa-0242ac120005-3-ce32-4977-3e94",
       "next": "cf4728fa-6f11-11ee-89fa-0242ac120005-2-6480-4bd3",
       "previous": "cf4726ac-6f11-11ee-89fa-0242ac120005-2-0ca3-57d5"
      },
      {
       "current": "cf472882-6f11-11ee-89fa-0242ac120005-4-ce32-4977-3e94-5cdd",
       "next": "cf4728fa-6f11-11ee-89fa-0242ac120005-3-6480-4bd3-565b",
       "previous": "cf4726ac-6f11-11ee-89fa-0242ac120005-3-0ca3-57d5-f436"
      },
      {
       "current": "cf472882-6f11-11ee-89fa-0242ac120005-5-ce32-4977-3e94-5cdd-a77d",
       "next": "cf4728fa-6f11-11ee-89fa-0242ac120005-4-6480-4bd3-565b-4e97",
       "previous": "cf4726ac-6f11-11ee-89fa-0242ac120005-4-0ca3-57d5-f436-b10a"
      }
     ],
     "next": "cf4728fa-6f11-11ee-89fa-0242ac120005-5-6480-4bd3-565b-4e97-5a2c",
     "previous": "cf4726ac-6f11-11ee-89fa-0242ac120005-5-0ca3-57d5-f436-b10a-ff9e"
    }
   },
   "outputs": [],
   "source": [
    "import os,tempfile\n",
    "temp_dir = tempfile.mkdtemp()\n",
    "print (temp_dir)"
   ]
  },
  {
   "cell_type": "markdown",
   "metadata": {
    "lc_cell_meme": {
     "current": "cf4728fa-6f11-11ee-89fa-0242ac120005-5-6480-4bd3-565b-4e97-5a2c",
     "history": [
      {
       "current": "cf4728fa-6f11-11ee-89fa-0242ac120005-1-6480",
       "next": "cf47294a-6f11-11ee-89fa-0242ac120005",
       "previous": "cf472882-6f11-11ee-89fa-0242ac120005"
      },
      {
       "current": "cf4728fa-6f11-11ee-89fa-0242ac120005-2-6480-4bd3",
       "next": "cf47294a-6f11-11ee-89fa-0242ac120005-1-f059",
       "previous": "cf472882-6f11-11ee-89fa-0242ac120005-1-ce32"
      },
      {
       "current": "cf4728fa-6f11-11ee-89fa-0242ac120005-3-6480-4bd3-565b",
       "next": "cf47294a-6f11-11ee-89fa-0242ac120005-2-f059-ccd5",
       "previous": "cf472882-6f11-11ee-89fa-0242ac120005-2-ce32-4977"
      },
      {
       "current": "cf4728fa-6f11-11ee-89fa-0242ac120005-4-6480-4bd3-565b-4e97",
       "next": "cf47294a-6f11-11ee-89fa-0242ac120005-3-f059-ccd5-da8a",
       "previous": "cf472882-6f11-11ee-89fa-0242ac120005-3-ce32-4977-3e94"
      },
      {
       "current": "cf4728fa-6f11-11ee-89fa-0242ac120005-5-6480-4bd3-565b-4e97-5a2c",
       "next": "cf47294a-6f11-11ee-89fa-0242ac120005-4-f059-ccd5-da8a-7ee2",
       "previous": "cf472882-6f11-11ee-89fa-0242ac120005-4-ce32-4977-3e94-5cdd"
      }
     ],
     "next": "cf47294a-6f11-11ee-89fa-0242ac120005-5-f059-ccd5-da8a-7ee2-0c17",
     "previous": "cf472882-6f11-11ee-89fa-0242ac120005-5-ce32-4977-3e94-5cdd-a77d"
    }
   },
   "source": [
    "## AnsibleのInventoryファイルを作業用ディレクトリへ作成する"
   ]
  },
  {
   "cell_type": "code",
   "execution_count": null,
   "metadata": {
    "lc_cell_meme": {
     "current": "cf47294a-6f11-11ee-89fa-0242ac120005-5-f059-ccd5-da8a-7ee2-0c17",
     "history": [
      {
       "current": "cf47294a-6f11-11ee-89fa-0242ac120005-1-f059",
       "next": "cf47299a-6f11-11ee-89fa-0242ac120005",
       "previous": "cf4728fa-6f11-11ee-89fa-0242ac120005"
      },
      {
       "current": "cf47294a-6f11-11ee-89fa-0242ac120005-2-f059-ccd5",
       "next": "cf47299a-6f11-11ee-89fa-0242ac120005-1-65a4",
       "previous": "cf4728fa-6f11-11ee-89fa-0242ac120005-1-6480"
      },
      {
       "current": "cf47294a-6f11-11ee-89fa-0242ac120005-3-f059-ccd5-da8a",
       "next": "cf47299a-6f11-11ee-89fa-0242ac120005-2-65a4-f30a",
       "previous": "cf4728fa-6f11-11ee-89fa-0242ac120005-2-6480-4bd3"
      },
      {
       "current": "cf47294a-6f11-11ee-89fa-0242ac120005-4-f059-ccd5-da8a-7ee2",
       "next": "cf47299a-6f11-11ee-89fa-0242ac120005-3-65a4-f30a-f44d",
       "previous": "cf4728fa-6f11-11ee-89fa-0242ac120005-3-6480-4bd3-565b"
      },
      {
       "current": "cf47294a-6f11-11ee-89fa-0242ac120005-5-f059-ccd5-da8a-7ee2-0c17",
       "next": "cf47299a-6f11-11ee-89fa-0242ac120005-4-65a4-f30a-f44d-2526",
       "previous": "cf4728fa-6f11-11ee-89fa-0242ac120005-4-6480-4bd3-565b-4e97"
      }
     ],
     "next": "cf47299a-6f11-11ee-89fa-0242ac120005-5-65a4-f30a-f44d-2526-2258",
     "previous": "cf4728fa-6f11-11ee-89fa-0242ac120005-5-6480-4bd3-565b-4e97-5a2c"
    }
   },
   "outputs": [],
   "source": [
    "import os\n",
    "\n",
    "with open( os.path.join(temp_dir, \"hosts\"), 'w') as f:\n",
    "    f.write('''[openstack_ctl]\n",
    "{openstack_cmn}\n",
    "'''.format(openstack_cmn = provisioning_vip))\n",
    "\n",
    "hosts = temp_dir + \"/hosts\"\n",
    "!cat $hosts"
   ]
  },
  {
   "cell_type": "code",
   "execution_count": null,
   "metadata": {
    "lc_cell_meme": {
     "current": "cf47299a-6f11-11ee-89fa-0242ac120005-5-65a4-f30a-f44d-2526-2258",
     "history": [
      {
       "current": "cf47299a-6f11-11ee-89fa-0242ac120005-1-65a4",
       "next": "cf4729e0-6f11-11ee-89fa-0242ac120005",
       "previous": "cf47294a-6f11-11ee-89fa-0242ac120005"
      },
      {
       "current": "cf47299a-6f11-11ee-89fa-0242ac120005-2-65a4-f30a",
       "next": "cf4729e0-6f11-11ee-89fa-0242ac120005-1-c09a",
       "previous": "cf47294a-6f11-11ee-89fa-0242ac120005-1-f059"
      },
      {
       "current": "cf47299a-6f11-11ee-89fa-0242ac120005-3-65a4-f30a-f44d",
       "next": "cf4729e0-6f11-11ee-89fa-0242ac120005-2-c09a-e698",
       "previous": "cf47294a-6f11-11ee-89fa-0242ac120005-2-f059-ccd5"
      },
      {
       "current": "cf47299a-6f11-11ee-89fa-0242ac120005-4-65a4-f30a-f44d-2526",
       "next": "cf4729e0-6f11-11ee-89fa-0242ac120005-3-c09a-e698-15fd",
       "previous": "cf47294a-6f11-11ee-89fa-0242ac120005-3-f059-ccd5-da8a"
      },
      {
       "current": "cf47299a-6f11-11ee-89fa-0242ac120005-5-65a4-f30a-f44d-2526-2258",
       "next": "cf4729e0-6f11-11ee-89fa-0242ac120005-4-c09a-e698-15fd-e237",
       "previous": "cf47294a-6f11-11ee-89fa-0242ac120005-4-f059-ccd5-da8a-7ee2"
      }
     ],
     "next": "cf4729e0-6f11-11ee-89fa-0242ac120005-5-c09a-e698-15fd-e237-7f71",
     "previous": "cf47294a-6f11-11ee-89fa-0242ac120005-5-f059-ccd5-da8a-7ee2-0c17"
    }
   },
   "outputs": [],
   "source": [
    "%env ANSIBLE_INVENTORY={hosts}"
   ]
  },
  {
   "cell_type": "markdown",
   "metadata": {
    "lc_cell_meme": {
     "current": "cf4729e0-6f11-11ee-89fa-0242ac120005-5-c09a-e698-15fd-e237-7f71",
     "history": [
      {
       "current": "cf4729e0-6f11-11ee-89fa-0242ac120005-1-c09a",
       "next": "cf472a30-6f11-11ee-89fa-0242ac120005",
       "previous": "cf47299a-6f11-11ee-89fa-0242ac120005"
      },
      {
       "current": "cf4729e0-6f11-11ee-89fa-0242ac120005-2-c09a-e698",
       "next": "cf472a30-6f11-11ee-89fa-0242ac120005-1-716a",
       "previous": "cf47299a-6f11-11ee-89fa-0242ac120005-1-65a4"
      },
      {
       "current": "cf4729e0-6f11-11ee-89fa-0242ac120005-3-c09a-e698-15fd",
       "next": "cf472a30-6f11-11ee-89fa-0242ac120005-2-716a-17ca",
       "previous": "cf47299a-6f11-11ee-89fa-0242ac120005-2-65a4-f30a"
      },
      {
       "current": "cf4729e0-6f11-11ee-89fa-0242ac120005-4-c09a-e698-15fd-e237",
       "next": "cf472a30-6f11-11ee-89fa-0242ac120005-3-716a-17ca-0d49",
       "previous": "cf47299a-6f11-11ee-89fa-0242ac120005-3-65a4-f30a-f44d"
      },
      {
       "current": "cf4729e0-6f11-11ee-89fa-0242ac120005-5-c09a-e698-15fd-e237-7f71",
       "next": "cf472a30-6f11-11ee-89fa-0242ac120005-4-716a-17ca-0d49-b620",
       "previous": "cf47299a-6f11-11ee-89fa-0242ac120005-4-65a4-f30a-f44d-2526"
      }
     ],
     "next": "cf472a30-6f11-11ee-89fa-0242ac120005-5-716a-17ca-0d49-b620-292c",
     "previous": "cf47299a-6f11-11ee-89fa-0242ac120005-5-65a4-f30a-f44d-2526-2258"
    }
   },
   "source": [
    "疎通確認"
   ]
  },
  {
   "cell_type": "code",
   "execution_count": null,
   "metadata": {
    "lc_cell_meme": {
     "current": "cf472a30-6f11-11ee-89fa-0242ac120005-5-716a-17ca-0d49-b620-292c",
     "history": [
      {
       "current": "cf472a30-6f11-11ee-89fa-0242ac120005-1-716a",
       "next": "cf472a76-6f11-11ee-89fa-0242ac120005",
       "previous": "cf4729e0-6f11-11ee-89fa-0242ac120005"
      },
      {
       "current": "cf472a30-6f11-11ee-89fa-0242ac120005-2-716a-17ca",
       "next": "cf472a76-6f11-11ee-89fa-0242ac120005-1-2ebf",
       "previous": "cf4729e0-6f11-11ee-89fa-0242ac120005-1-c09a"
      },
      {
       "current": "cf472a30-6f11-11ee-89fa-0242ac120005-3-716a-17ca-0d49",
       "next": "cf472a76-6f11-11ee-89fa-0242ac120005-2-2ebf-7eee",
       "previous": "cf4729e0-6f11-11ee-89fa-0242ac120005-2-c09a-e698"
      },
      {
       "current": "cf472a30-6f11-11ee-89fa-0242ac120005-4-716a-17ca-0d49-b620",
       "next": "cf472a76-6f11-11ee-89fa-0242ac120005-3-2ebf-7eee-5003",
       "previous": "cf4729e0-6f11-11ee-89fa-0242ac120005-3-c09a-e698-15fd"
      },
      {
       "current": "cf472a30-6f11-11ee-89fa-0242ac120005-5-716a-17ca-0d49-b620-292c",
       "next": "cf472a76-6f11-11ee-89fa-0242ac120005-4-2ebf-7eee-5003-9707",
       "previous": "cf4729e0-6f11-11ee-89fa-0242ac120005-4-c09a-e698-15fd-e237"
      }
     ],
     "next": "cf472a76-6f11-11ee-89fa-0242ac120005-5-2ebf-7eee-5003-9707-e1ce",
     "previous": "cf4729e0-6f11-11ee-89fa-0242ac120005-5-c09a-e698-15fd-e237-7f71"
    }
   },
   "outputs": [],
   "source": [
    "!ansible -m ping openstack_ctl"
   ]
  },
  {
   "cell_type": "code",
   "execution_count": null,
   "metadata": {
    "lc_cell_meme": {
     "current": "cf472a76-6f11-11ee-89fa-0242ac120005-5-2ebf-7eee-5003-9707-e1ce",
     "history": [
      {
       "current": "cf472a76-6f11-11ee-89fa-0242ac120005-1-2ebf",
       "next": "cf472ac6-6f11-11ee-89fa-0242ac120005",
       "previous": "cf472a30-6f11-11ee-89fa-0242ac120005"
      },
      {
       "current": "cf472a76-6f11-11ee-89fa-0242ac120005-2-2ebf-7eee",
       "next": "cf472ac6-6f11-11ee-89fa-0242ac120005-1-5ef1",
       "previous": "cf472a30-6f11-11ee-89fa-0242ac120005-1-716a"
      },
      {
       "current": "cf472a76-6f11-11ee-89fa-0242ac120005-3-2ebf-7eee-5003",
       "next": "cf472ac6-6f11-11ee-89fa-0242ac120005-2-5ef1-34d1",
       "previous": "cf472a30-6f11-11ee-89fa-0242ac120005-2-716a-17ca"
      },
      {
       "current": "cf472a76-6f11-11ee-89fa-0242ac120005-4-2ebf-7eee-5003-9707",
       "next": "cf472ac6-6f11-11ee-89fa-0242ac120005-3-5ef1-34d1-4e91",
       "previous": "cf472a30-6f11-11ee-89fa-0242ac120005-3-716a-17ca-0d49"
      },
      {
       "current": "cf472a76-6f11-11ee-89fa-0242ac120005-5-2ebf-7eee-5003-9707-e1ce",
       "next": "cf472ac6-6f11-11ee-89fa-0242ac120005-4-5ef1-34d1-4e91-e654",
       "previous": "cf472a30-6f11-11ee-89fa-0242ac120005-4-716a-17ca-0d49-b620"
      }
     ],
     "next": "cf472ac6-6f11-11ee-89fa-0242ac120005-5-5ef1-34d1-4e91-e654-dba0",
     "previous": "cf472a30-6f11-11ee-89fa-0242ac120005-5-716a-17ca-0d49-b620-292c"
    }
   },
   "outputs": [],
   "source": [
    "!ansible -a 'hostname' openstack_ctl"
   ]
  },
  {
   "cell_type": "markdown",
   "metadata": {
    "lc_cell_meme": {
     "current": "cf472ac6-6f11-11ee-89fa-0242ac120005-5-5ef1-34d1-4e91-e654-dba0",
     "history": [
      {
       "current": "cf472ac6-6f11-11ee-89fa-0242ac120005-1-5ef1",
       "next": "cf472b0c-6f11-11ee-89fa-0242ac120005",
       "previous": "cf472a76-6f11-11ee-89fa-0242ac120005"
      },
      {
       "current": "cf472ac6-6f11-11ee-89fa-0242ac120005-2-5ef1-34d1",
       "next": "cf472b0c-6f11-11ee-89fa-0242ac120005-1-49bc",
       "previous": "cf472a76-6f11-11ee-89fa-0242ac120005-1-2ebf"
      },
      {
       "current": "cf472ac6-6f11-11ee-89fa-0242ac120005-3-5ef1-34d1-4e91",
       "next": "cf472b0c-6f11-11ee-89fa-0242ac120005-2-49bc-a963",
       "previous": "cf472a76-6f11-11ee-89fa-0242ac120005-2-2ebf-7eee"
      },
      {
       "current": "cf472ac6-6f11-11ee-89fa-0242ac120005-4-5ef1-34d1-4e91-e654",
       "next": "cf472b0c-6f11-11ee-89fa-0242ac120005-3-49bc-a963-65b0",
       "previous": "cf472a76-6f11-11ee-89fa-0242ac120005-3-2ebf-7eee-5003"
      },
      {
       "current": "cf472ac6-6f11-11ee-89fa-0242ac120005-5-5ef1-34d1-4e91-e654-dba0",
       "next": "cf472b0c-6f11-11ee-89fa-0242ac120005-4-49bc-a963-65b0-77c8",
       "previous": "cf472a76-6f11-11ee-89fa-0242ac120005-4-2ebf-7eee-5003-9707"
      }
     ],
     "next": "cf472b0c-6f11-11ee-89fa-0242ac120005-5-49bc-a963-65b0-77c8-2a1d",
     "previous": "cf472a76-6f11-11ee-89fa-0242ac120005-5-2ebf-7eee-5003-9707-e1ce"
    }
   },
   "source": [
    "## OpenStack用OpenRCファイル設定\n",
    "\n",
    "`xxxxxxx`プロジェクト用のOpenRCファイルを事前にダウンロードしておくこと。  "
   ]
  },
  {
   "cell_type": "code",
   "execution_count": null,
   "metadata": {
    "lc_cell_meme": {
     "current": "cf472b0c-6f11-11ee-89fa-0242ac120005-5-49bc-a963-65b0-77c8-2a1d",
     "history": [
      {
       "current": "cf472b0c-6f11-11ee-89fa-0242ac120005-1-49bc",
       "next": "cf472b52-6f11-11ee-89fa-0242ac120005",
       "previous": "cf472ac6-6f11-11ee-89fa-0242ac120005"
      },
      {
       "current": "cf472b0c-6f11-11ee-89fa-0242ac120005-2-49bc-a963",
       "next": "cf472b52-6f11-11ee-89fa-0242ac120005-1-f6c2",
       "previous": "cf472ac6-6f11-11ee-89fa-0242ac120005-1-5ef1"
      },
      {
       "current": "cf472b0c-6f11-11ee-89fa-0242ac120005-3-49bc-a963-65b0",
       "next": "cf472b52-6f11-11ee-89fa-0242ac120005-2-f6c2-6d25",
       "previous": "cf472ac6-6f11-11ee-89fa-0242ac120005-2-5ef1-34d1"
      },
      {
       "current": "cf472b0c-6f11-11ee-89fa-0242ac120005-4-49bc-a963-65b0-77c8",
       "next": "cf472b52-6f11-11ee-89fa-0242ac120005-3-f6c2-6d25-b60f",
       "previous": "cf472ac6-6f11-11ee-89fa-0242ac120005-3-5ef1-34d1-4e91"
      },
      {
       "current": "cf472b0c-6f11-11ee-89fa-0242ac120005-5-49bc-a963-65b0-77c8-2a1d",
       "next": "cf472b52-6f11-11ee-89fa-0242ac120005-4-f6c2-6d25-b60f-cc25",
       "previous": "cf472ac6-6f11-11ee-89fa-0242ac120005-4-5ef1-34d1-4e91-e654"
      }
     ],
     "next": "cf472b52-6f11-11ee-89fa-0242ac120005-5-f6c2-6d25-b60f-cc25-15e7",
     "previous": "cf472ac6-6f11-11ee-89fa-0242ac120005-5-5ef1-34d1-4e91-e654-dba0"
    }
   },
   "outputs": [],
   "source": [
    "import os\n",
    "\n",
    "user_creds = os.path.expanduser('~/.keys/xxxxxxx-openrc.sh')\n",
    "\n",
    "assert os.path.exists(user_creds), '{} is not exist'.format(user_creds)"
   ]
  },
  {
   "cell_type": "code",
   "execution_count": null,
   "metadata": {
    "lc_cell_meme": {
     "current": "cf472b52-6f11-11ee-89fa-0242ac120005-5-f6c2-6d25-b60f-cc25-15e7",
     "history": [
      {
       "current": "cf472b52-6f11-11ee-89fa-0242ac120005-1-f6c2",
       "next": "cf472ba2-6f11-11ee-89fa-0242ac120005",
       "previous": "cf472b0c-6f11-11ee-89fa-0242ac120005"
      },
      {
       "current": "cf472b52-6f11-11ee-89fa-0242ac120005-2-f6c2-6d25",
       "next": "cf472ba2-6f11-11ee-89fa-0242ac120005-1-675b",
       "previous": "cf472b0c-6f11-11ee-89fa-0242ac120005-1-49bc"
      },
      {
       "current": "cf472b52-6f11-11ee-89fa-0242ac120005-3-f6c2-6d25-b60f",
       "next": "cf472ba2-6f11-11ee-89fa-0242ac120005-2-675b-5ece",
       "previous": "cf472b0c-6f11-11ee-89fa-0242ac120005-2-49bc-a963"
      },
      {
       "current": "cf472b52-6f11-11ee-89fa-0242ac120005-4-f6c2-6d25-b60f-cc25",
       "next": "cf472ba2-6f11-11ee-89fa-0242ac120005-3-675b-5ece-b4e7",
       "previous": "cf472b0c-6f11-11ee-89fa-0242ac120005-3-49bc-a963-65b0"
      },
      {
       "current": "cf472b52-6f11-11ee-89fa-0242ac120005-5-f6c2-6d25-b60f-cc25-15e7",
       "next": "cf472ba2-6f11-11ee-89fa-0242ac120005-4-675b-5ece-b4e7-a70f",
       "previous": "cf472b0c-6f11-11ee-89fa-0242ac120005-4-49bc-a963-65b0-77c8"
      }
     ],
     "next": "cf472ba2-6f11-11ee-89fa-0242ac120005-5-675b-5ece-b4e7-a70f-5a8e",
     "previous": "cf472b0c-6f11-11ee-89fa-0242ac120005-5-49bc-a963-65b0-77c8-2a1d"
    }
   },
   "outputs": [],
   "source": [
    "%env USER_CREDS={user_creds}"
   ]
  },
  {
   "cell_type": "code",
   "execution_count": null,
   "metadata": {
    "lc_cell_meme": {
     "current": "cf472ba2-6f11-11ee-89fa-0242ac120005-5-675b-5ece-b4e7-a70f-5a8e",
     "history": [
      {
       "current": "cf472ba2-6f11-11ee-89fa-0242ac120005",
       "next": "cf472be8-6f11-11ee-89fa-0242ac120005",
       "previous": "cf472b52-6f11-11ee-89fa-0242ac120005"
      },
      {
       "current": "cf472ba2-6f11-11ee-89fa-0242ac120005-1-675b",
       "next": "cf472be8-6f11-11ee-89fa-0242ac120005-1-a755",
       "previous": "cf472b52-6f11-11ee-89fa-0242ac120005"
      },
      {
       "current": "cf472ba2-6f11-11ee-89fa-0242ac120005-2-675b-5ece",
       "next": "cf472be8-6f11-11ee-89fa-0242ac120005-2-a755-2226",
       "previous": "cf472b52-6f11-11ee-89fa-0242ac120005-1-f6c2"
      },
      {
       "current": "cf472ba2-6f11-11ee-89fa-0242ac120005-3-675b-5ece-b4e7",
       "next": "cf472be8-6f11-11ee-89fa-0242ac120005-3-a755-2226-ec30",
       "previous": "cf472b52-6f11-11ee-89fa-0242ac120005-2-f6c2-6d25"
      },
      {
       "current": "cf472ba2-6f11-11ee-89fa-0242ac120005-4-675b-5ece-b4e7-a70f",
       "next": "cf472be8-6f11-11ee-89fa-0242ac120005-4-a755-2226-ec30-0952",
       "previous": "cf472b52-6f11-11ee-89fa-0242ac120005-3-f6c2-6d25-b60f"
      },
      {
       "current": "cf472ba2-6f11-11ee-89fa-0242ac120005-5-675b-5ece-b4e7-a70f-5a8e",
       "next": "cf472be8-6f11-11ee-89fa-0242ac120005-5-a755-2226-ec30-0952-9413",
       "previous": "cf472b52-6f11-11ee-89fa-0242ac120005-4-f6c2-6d25-b60f-cc25"
      }
     ],
     "next": "cf472be8-6f11-11ee-89fa-0242ac120005-6-a755-2226-ec30-0952-9413-447d",
     "previous": "cf472b52-6f11-11ee-89fa-0242ac120005-5-f6c2-6d25-b60f-cc25-15e7"
    }
   },
   "outputs": [],
   "source": [
    "!ls -l {user_creds}"
   ]
  },
  {
   "cell_type": "markdown",
   "metadata": {
    "heading_collapsed": true,
    "lc_cell_meme": {
     "current": "cf472be8-6f11-11ee-89fa-0242ac120005-6-a755-2226-ec30-0952-9413-447d",
     "history": [
      {
       "current": "cf472be8-6f11-11ee-89fa-0242ac120005-2-a755-2226",
       "next": "cf472c2e-6f11-11ee-89fa-0242ac120005",
       "previous": "cf472ba2-6f11-11ee-89fa-0242ac120005"
      },
      {
       "current": "cf472be8-6f11-11ee-89fa-0242ac120005-3-a755-2226-ec30",
       "next": "cf472c2e-6f11-11ee-89fa-0242ac120005-1-f073",
       "previous": "cf472ba2-6f11-11ee-89fa-0242ac120005-1-675b"
      },
      {
       "current": "cf472be8-6f11-11ee-89fa-0242ac120005-4-a755-2226-ec30-0952",
       "next": "cf472c2e-6f11-11ee-89fa-0242ac120005-2-f073-279a",
       "previous": "cf472ba2-6f11-11ee-89fa-0242ac120005-2-675b-5ece"
      },
      {
       "current": "cf472be8-6f11-11ee-89fa-0242ac120005-5-a755-2226-ec30-0952-9413",
       "next": "cf472c2e-6f11-11ee-89fa-0242ac120005-3-f073-279a-bdba",
       "previous": "cf472ba2-6f11-11ee-89fa-0242ac120005-3-675b-5ece-b4e7"
      },
      {
       "current": "cf472be8-6f11-11ee-89fa-0242ac120005-6-a755-2226-ec30-0952-9413-447d",
       "next": "cf472c2e-6f11-11ee-89fa-0242ac120005-4-f073-279a-bdba-0fa4",
       "previous": "cf472ba2-6f11-11ee-89fa-0242ac120005-4-675b-5ece-b4e7-a70f"
      }
     ],
     "next": "cf472c2e-6f11-11ee-89fa-0242ac120005-5-f073-279a-bdba-0fa4-f828",
     "previous": "cf472ba2-6f11-11ee-89fa-0242ac120005-5-675b-5ece-b4e7-a70f-5a8e"
    }
   },
   "source": [
    "## openstackコマンド用ユーティリティ関数"
   ]
  },
  {
   "cell_type": "code",
   "execution_count": null,
   "metadata": {
    "hidden": true,
    "lc_cell_meme": {
     "current": "cf472c2e-6f11-11ee-89fa-0242ac120005-5-f073-279a-bdba-0fa4-f828",
     "history": [
      {
       "current": "cf472c2e-6f11-11ee-89fa-0242ac120005",
       "next": "cf472c74-6f11-11ee-89fa-0242ac120005",
       "previous": "cf472be8-6f11-11ee-89fa-0242ac120005"
      },
      {
       "current": "cf472c2e-6f11-11ee-89fa-0242ac120005-1-f073",
       "next": "cf472c74-6f11-11ee-89fa-0242ac120005",
       "previous": "cf472be8-6f11-11ee-89fa-0242ac120005-1-a755"
      },
      {
       "current": "cf472c2e-6f11-11ee-89fa-0242ac120005-2-f073-279a",
       "next": "cf472c74-6f11-11ee-89fa-0242ac120005-1-d15e",
       "previous": "cf472be8-6f11-11ee-89fa-0242ac120005-2-a755-2226"
      },
      {
       "current": "cf472c2e-6f11-11ee-89fa-0242ac120005-3-f073-279a-bdba",
       "next": "cf472c74-6f11-11ee-89fa-0242ac120005-2-d15e-fe05",
       "previous": "cf472be8-6f11-11ee-89fa-0242ac120005-3-a755-2226-ec30"
      },
      {
       "current": "cf472c2e-6f11-11ee-89fa-0242ac120005-4-f073-279a-bdba-0fa4",
       "next": "cf472c74-6f11-11ee-89fa-0242ac120005-3-d15e-fe05-336f",
       "previous": "cf472be8-6f11-11ee-89fa-0242ac120005-4-a755-2226-ec30-0952"
      },
      {
       "current": "cf472c2e-6f11-11ee-89fa-0242ac120005-5-f073-279a-bdba-0fa4-f828",
       "next": "cf472c74-6f11-11ee-89fa-0242ac120005-4-d15e-fe05-336f-bd85",
       "previous": "cf472be8-6f11-11ee-89fa-0242ac120005-5-a755-2226-ec30-0952-9413"
      }
     ],
     "next": "cf472c74-6f11-11ee-89fa-0242ac120005-5-d15e-fe05-336f-bd85-0701",
     "previous": "cf472be8-6f11-11ee-89fa-0242ac120005-6-a755-2226-ec30-0952-9413-447d"
    }
   },
   "outputs": [],
   "source": [
    "def build_cmdline(param):\n",
    "    cmdline = ''\n",
    "    \n",
    "    for param_name, param_value in param.items():\n",
    "        if isinstance(param_value, dict):\n",
    "            for key, value in param_value.items():\n",
    "                cmdline += ' --{} {}={}'.format(param_name, key, value)\n",
    "        elif isinstance(param_value, list):\n",
    "            for item in param_value:\n",
    "                cmdline += ' --{} {}'.format(param_name, item)\n",
    "        elif isinstance(param_value, bool):\n",
    "            if param_value:\n",
    "                cmdline += ' --{}'.format(param_name)\n",
    "        else:\n",
    "            cmdline += ' --{} {}'.format(param_name, param_value)\n",
    "\n",
    "    return cmdline"
   ]
  },
  {
   "cell_type": "code",
   "execution_count": null,
   "metadata": {
    "hidden": true,
    "lc_cell_meme": {
     "current": "cf472c74-6f11-11ee-89fa-0242ac120005-5-d15e-fe05-336f-bd85-0701",
     "history": [
      {
       "current": "cf472c74-6f11-11ee-89fa-0242ac120005",
       "next": "cf472cc4-6f11-11ee-89fa-0242ac120005",
       "previous": "cf472c2e-6f11-11ee-89fa-0242ac120005"
      },
      {
       "current": "cf472c74-6f11-11ee-89fa-0242ac120005-1-d15e",
       "next": "cf472cc4-6f11-11ee-89fa-0242ac120005-1-e009",
       "previous": "cf472c2e-6f11-11ee-89fa-0242ac120005"
      },
      {
       "current": "cf472c74-6f11-11ee-89fa-0242ac120005-2-d15e-fe05",
       "next": "cf472cc4-6f11-11ee-89fa-0242ac120005-2-e009-3826",
       "previous": "cf472c2e-6f11-11ee-89fa-0242ac120005-1-f073"
      },
      {
       "current": "cf472c74-6f11-11ee-89fa-0242ac120005-3-d15e-fe05-336f",
       "next": "cf472cc4-6f11-11ee-89fa-0242ac120005-3-e009-3826-ac45",
       "previous": "cf472c2e-6f11-11ee-89fa-0242ac120005-2-f073-279a"
      },
      {
       "current": "cf472c74-6f11-11ee-89fa-0242ac120005-4-d15e-fe05-336f-bd85",
       "next": "cf472cc4-6f11-11ee-89fa-0242ac120005-4-e009-3826-ac45-ddca",
       "previous": "cf472c2e-6f11-11ee-89fa-0242ac120005-3-f073-279a-bdba"
      },
      {
       "current": "cf472c74-6f11-11ee-89fa-0242ac120005-5-d15e-fe05-336f-bd85-0701",
       "next": "cf472cc4-6f11-11ee-89fa-0242ac120005-5-e009-3826-ac45-ddca-f734",
       "previous": "cf472c2e-6f11-11ee-89fa-0242ac120005-4-f073-279a-bdba-0fa4"
      }
     ],
     "next": "cf472cc4-6f11-11ee-89fa-0242ac120005-6-e009-3826-ac45-ddca-f734-dbc9",
     "previous": "cf472c2e-6f11-11ee-89fa-0242ac120005-5-f073-279a-bdba-0fa4-f828"
    }
   },
   "outputs": [],
   "source": [
    "import json\n",
    "\n",
    "def run_openstack(cmd):\n",
    "    print('EXEC: {}'.format(cmd))\n",
    "    out = !source {user_creds} && {cmd}\n",
    "    print('OUTPUT: {}'.format('\\n'.join(out)))\n",
    "    return json.loads('\\n'.join(out))"
   ]
  },
  {
   "cell_type": "markdown",
   "metadata": {
    "hidden": true,
    "lc_cell_meme": {
     "current": "cf472cc4-6f11-11ee-89fa-0242ac120005-6-e009-3826-ac45-ddca-f734-dbc9",
     "history": [
      {
       "current": "cf472cc4-6f11-11ee-89fa-0242ac120005-2-e009-3826",
       "next": "cf472d0a-6f11-11ee-89fa-0242ac120005",
       "previous": "cf472c74-6f11-11ee-89fa-0242ac120005"
      },
      {
       "current": "cf472cc4-6f11-11ee-89fa-0242ac120005-3-e009-3826-ac45",
       "next": "cf472d0a-6f11-11ee-89fa-0242ac120005-1-769f",
       "previous": "cf472c74-6f11-11ee-89fa-0242ac120005-1-d15e"
      },
      {
       "current": "cf472cc4-6f11-11ee-89fa-0242ac120005-4-e009-3826-ac45-ddca",
       "next": "cf472d0a-6f11-11ee-89fa-0242ac120005-2-769f-b527",
       "previous": "cf472c74-6f11-11ee-89fa-0242ac120005-2-d15e-fe05"
      },
      {
       "current": "cf472cc4-6f11-11ee-89fa-0242ac120005-5-e009-3826-ac45-ddca-f734",
       "next": "cf472d0a-6f11-11ee-89fa-0242ac120005-3-769f-b527-7d1b",
       "previous": "cf472c74-6f11-11ee-89fa-0242ac120005-3-d15e-fe05-336f"
      },
      {
       "current": "cf472cc4-6f11-11ee-89fa-0242ac120005-6-e009-3826-ac45-ddca-f734-dbc9",
       "next": "cf472d0a-6f11-11ee-89fa-0242ac120005-4-769f-b527-7d1b-cf05",
       "previous": "cf472c74-6f11-11ee-89fa-0242ac120005-4-d15e-fe05-336f-bd85"
      }
     ],
     "next": "cf472d0a-6f11-11ee-89fa-0242ac120005-5-769f-b527-7d1b-cf05-cb6e",
     "previous": "cf472c74-6f11-11ee-89fa-0242ac120005-5-d15e-fe05-336f-bd85-0701"
    }
   },
   "source": [
    "テスト"
   ]
  },
  {
   "cell_type": "code",
   "execution_count": null,
   "metadata": {
    "hidden": true,
    "lc_cell_meme": {
     "current": "cf472d0a-6f11-11ee-89fa-0242ac120005-5-769f-b527-7d1b-cf05-cb6e",
     "history": [
      {
       "current": "cf472d0a-6f11-11ee-89fa-0242ac120005",
       "next": "06afe9a8-98b0-11ea-8d02-0242ac120007-3-a1c1-faf0-55bd",
       "previous": "cf472cc4-6f11-11ee-89fa-0242ac120005"
      },
      {
       "current": "cf472d0a-6f11-11ee-89fa-0242ac120005-1-769f",
       "next": "06afe9a8-98b0-11ea-8d02-0242ac120007-3-a1c1-faf0-55bd",
       "previous": "cf472cc4-6f11-11ee-89fa-0242ac120005-1-e009"
      },
      {
       "current": "cf472d0a-6f11-11ee-89fa-0242ac120005-2-769f-b527",
       "next": "06afe9a8-98b0-11ea-8d02-0242ac120007-4-a1c1-faf0-55bd-e1d3",
       "previous": "cf472cc4-6f11-11ee-89fa-0242ac120005-2-e009-3826"
      },
      {
       "current": "cf472d0a-6f11-11ee-89fa-0242ac120005-3-769f-b527-7d1b",
       "next": "06afe9a8-98b0-11ea-8d02-0242ac120007-5-a1c1-faf0-55bd-e1d3-e934",
       "previous": "cf472cc4-6f11-11ee-89fa-0242ac120005-3-e009-3826-ac45"
      },
      {
       "current": "cf472d0a-6f11-11ee-89fa-0242ac120005-4-769f-b527-7d1b-cf05",
       "next": "06afe9a8-98b0-11ea-8d02-0242ac120007-6-a1c1-faf0-55bd-e1d3-e934-acab",
       "previous": "cf472cc4-6f11-11ee-89fa-0242ac120005-4-e009-3826-ac45-ddca"
      },
      {
       "current": "cf472d0a-6f11-11ee-89fa-0242ac120005-5-769f-b527-7d1b-cf05-cb6e",
       "next": "06afe9a8-98b0-11ea-8d02-0242ac120007-7-a1c1-faf0-55bd-e1d3-e934-acab-a7fd",
       "previous": "cf472cc4-6f11-11ee-89fa-0242ac120005-5-e009-3826-ac45-ddca-f734"
      }
     ],
     "next": "06afe9a8-98b0-11ea-8d02-0242ac120007-8-a1c1-faf0-55bd-e1d3-e934-acab-a7fd-dd60",
     "previous": "cf472cc4-6f11-11ee-89fa-0242ac120005-6-e009-3826-ac45-ddca-f734-dbc9"
    }
   },
   "outputs": [],
   "source": [
    "run_openstack('openstack flavor list -f json' + build_cmdline({'all': True}))"
   ]
  },
  {
   "cell_type": "markdown",
   "metadata": {
    "lc_cell_meme": {
     "current": "06afe9a8-98b0-11ea-8d02-0242ac120007-8-a1c1-faf0-55bd-e1d3-e934-acab-a7fd-dd60",
     "history": [
      {
       "current": "06afe9a8-98b0-11ea-8d02-0242ac120007",
       "next": "7899411a-9692-11ea-8d02-0242ac120007",
       "previous": "d1bcb8ac-9599-11ea-8d02-0242ac120007"
      },
      {
       "current": "06afe9a8-98b0-11ea-8d02-0242ac120007-1-a1c1",
       "next": "7899411a-9692-11ea-8d02-0242ac120007",
       "previous": "250e7a70-98f3-11ea-8d02-0242ac120007"
      },
      {
       "current": "06afe9a8-98b0-11ea-8d02-0242ac120007-2-a1c1-faf0",
       "next": "7899411a-9692-11ea-8d02-0242ac120007-1-2cd2",
       "previous": "250e7a70-98f3-11ea-8d02-0242ac120007-1-f0b4"
      },
      {
       "current": "06afe9a8-98b0-11ea-8d02-0242ac120007-2-a1c1-faf0",
       "next": "7899411a-9692-11ea-8d02-0242ac120007-2-2cd2-395d",
       "previous": "250e7a70-98f3-11ea-8d02-0242ac120007-2-f0b4-6edf"
      },
      {
       "current": "06afe9a8-98b0-11ea-8d02-0242ac120007-2-a1c1-faf0",
       "next": "04bfc54e-defc-11eb-b29f-0242ac120008",
       "previous": "250e7a70-98f3-11ea-8d02-0242ac120007-2-f0b4-6edf"
      },
      {
       "current": "06afe9a8-98b0-11ea-8d02-0242ac120007-3-a1c1-faf0-55bd",
       "next": "329a4046-dfad-11eb-b29f-0242ac120008",
       "previous": "250e7a70-98f3-11ea-8d02-0242ac120007-2-f0b4-6edf"
      },
      {
       "current": "06afe9a8-98b0-11ea-8d02-0242ac120007-3-a1c1-faf0-55bd",
       "next": "329a4046-dfad-11eb-b29f-0242ac120008-1-1375",
       "previous": "250e7a70-98f3-11ea-8d02-0242ac120007-3-f0b4-6edf-9d40"
      },
      {
       "current": "06afe9a8-98b0-11ea-8d02-0242ac120007-4-a1c1-faf0-55bd-e1d3",
       "next": "329a4046-dfad-11eb-b29f-0242ac120008-1-1375",
       "previous": "cf472d0a-6f11-11ee-89fa-0242ac120005"
      },
      {
       "current": "06afe9a8-98b0-11ea-8d02-0242ac120007-5-a1c1-faf0-55bd-e1d3-e934",
       "next": "329a4046-dfad-11eb-b29f-0242ac120008-2-1375-e5de",
       "previous": "cf472d0a-6f11-11ee-89fa-0242ac120005-1-769f"
      },
      {
       "current": "06afe9a8-98b0-11ea-8d02-0242ac120007-6-a1c1-faf0-55bd-e1d3-e934-acab",
       "next": "329a4046-dfad-11eb-b29f-0242ac120008-3-1375-e5de-4402",
       "previous": "cf472d0a-6f11-11ee-89fa-0242ac120005-2-769f-b527"
      },
      {
       "current": "06afe9a8-98b0-11ea-8d02-0242ac120007-7-a1c1-faf0-55bd-e1d3-e934-acab-a7fd",
       "next": "329a4046-dfad-11eb-b29f-0242ac120008-4-1375-e5de-4402-9770",
       "previous": "cf472d0a-6f11-11ee-89fa-0242ac120005-3-769f-b527-7d1b"
      },
      {
       "current": "06afe9a8-98b0-11ea-8d02-0242ac120007-8-a1c1-faf0-55bd-e1d3-e934-acab-a7fd-dd60",
       "next": "329a4046-dfad-11eb-b29f-0242ac120008-5-1375-e5de-4402-9770-727c",
       "previous": "cf472d0a-6f11-11ee-89fa-0242ac120005-4-769f-b527-7d1b-cf05"
      }
     ],
     "next": "329a4046-dfad-11eb-b29f-0242ac120008-6-1375-e5de-4402-9770-727c-abaa",
     "previous": "cf472d0a-6f11-11ee-89fa-0242ac120005-5-769f-b527-7d1b-cf05-cb6e"
    }
   },
   "source": [
    "## デプロイされたCephノード情報の取得"
   ]
  },
  {
   "cell_type": "markdown",
   "metadata": {
    "lc_cell_meme": {
     "current": "329a4046-dfad-11eb-b29f-0242ac120008-6-1375-e5de-4402-9770-727c-abaa",
     "history": [
      {
       "current": "329a4046-dfad-11eb-b29f-0242ac120008-1-1375",
       "next": "329a4348-dfad-11eb-b29f-0242ac120008",
       "previous": "06afe9a8-98b0-11ea-8d02-0242ac120007-2-a1c1-faf0"
      },
      {
       "current": "329a4046-dfad-11eb-b29f-0242ac120008-1-1375",
       "next": "329a4348-dfad-11eb-b29f-0242ac120008-1-ed21",
       "previous": "06afe9a8-98b0-11ea-8d02-0242ac120007-3-a1c1-faf0-55bd"
      },
      {
       "current": "329a4046-dfad-11eb-b29f-0242ac120008-2-1375-e5de",
       "next": "16ce8056-6f12-11ee-89fa-0242ac120005",
       "previous": "06afe9a8-98b0-11ea-8d02-0242ac120007-3-a1c1-faf0-55bd"
      },
      {
       "current": "329a4046-dfad-11eb-b29f-0242ac120008-3-1375-e5de-4402",
       "next": "16ce8056-6f12-11ee-89fa-0242ac120005-1-d801",
       "previous": "06afe9a8-98b0-11ea-8d02-0242ac120007-4-a1c1-faf0-55bd-e1d3"
      },
      {
       "current": "329a4046-dfad-11eb-b29f-0242ac120008-4-1375-e5de-4402-9770",
       "next": "16ce8056-6f12-11ee-89fa-0242ac120005-2-d801-c0fe",
       "previous": "06afe9a8-98b0-11ea-8d02-0242ac120007-5-a1c1-faf0-55bd-e1d3-e934"
      },
      {
       "current": "329a4046-dfad-11eb-b29f-0242ac120008-5-1375-e5de-4402-9770-727c",
       "next": "16ce8056-6f12-11ee-89fa-0242ac120005-3-d801-c0fe-8c2b",
       "previous": "06afe9a8-98b0-11ea-8d02-0242ac120007-6-a1c1-faf0-55bd-e1d3-e934-acab"
      },
      {
       "current": "329a4046-dfad-11eb-b29f-0242ac120008-6-1375-e5de-4402-9770-727c-abaa",
       "next": "16ce8056-6f12-11ee-89fa-0242ac120005-4-d801-c0fe-8c2b-27dc",
       "previous": "06afe9a8-98b0-11ea-8d02-0242ac120007-7-a1c1-faf0-55bd-e1d3-e934-acab-a7fd"
      }
     ],
     "next": "16ce8056-6f12-11ee-89fa-0242ac120005-5-d801-c0fe-8c2b-27dc-f772",
     "previous": "06afe9a8-98b0-11ea-8d02-0242ac120007-8-a1c1-faf0-55bd-e1d3-e934-acab-a7fd-dd60"
    }
   },
   "source": [
    "ストレージノードを特定するにあたり、ノード名称が　ceph-nodexxx （xxxの部分は、右寄せ0埋めの数字3桁）というルールに従っていることを前提としている。<br>\n",
    " 例：ceph-node001<br>\n",
    " このノード名称ルールは、構築するCephクラスタ毎に変えるため、以下で定義する。"
   ]
  },
  {
   "cell_type": "code",
   "execution_count": null,
   "metadata": {
    "lc_cell_meme": {
     "current": "16ce8056-6f12-11ee-89fa-0242ac120005-5-d801-c0fe-8c2b-27dc-f772",
     "history": [
      {
       "current": "16ce8056-6f12-11ee-89fa-0242ac120005-1-d801",
       "next": "329a4348-dfad-11eb-b29f-0242ac120008-1-ed21",
       "previous": "329a4046-dfad-11eb-b29f-0242ac120008-1-1375"
      },
      {
       "current": "16ce8056-6f12-11ee-89fa-0242ac120005-2-d801-c0fe",
       "next": "329a4348-dfad-11eb-b29f-0242ac120008-2-ed21-8cd0",
       "previous": "329a4046-dfad-11eb-b29f-0242ac120008-2-1375-e5de"
      },
      {
       "current": "16ce8056-6f12-11ee-89fa-0242ac120005-3-d801-c0fe-8c2b",
       "next": "329a4348-dfad-11eb-b29f-0242ac120008-3-ed21-8cd0-9bd5",
       "previous": "329a4046-dfad-11eb-b29f-0242ac120008-3-1375-e5de-4402"
      },
      {
       "current": "16ce8056-6f12-11ee-89fa-0242ac120005-4-d801-c0fe-8c2b-27dc",
       "next": "329a4348-dfad-11eb-b29f-0242ac120008-4-ed21-8cd0-9bd5-3547",
       "previous": "329a4046-dfad-11eb-b29f-0242ac120008-4-1375-e5de-4402-9770"
      },
      {
       "current": "16ce8056-6f12-11ee-89fa-0242ac120005-5-d801-c0fe-8c2b-27dc-f772",
       "next": "329a4348-dfad-11eb-b29f-0242ac120008-5-ed21-8cd0-9bd5-3547-1f3f",
       "previous": "329a4046-dfad-11eb-b29f-0242ac120008-5-1375-e5de-4402-9770-727c"
      }
     ],
     "next": "329a4348-dfad-11eb-b29f-0242ac120008-6-ed21-8cd0-9bd5-3547-1f3f-78f9",
     "previous": "329a4046-dfad-11eb-b29f-0242ac120008-6-1375-e5de-4402-9770-727c-abaa"
    }
   },
   "outputs": [],
   "source": [
    "# 初期化対象のインスタンス名称を設定する\n",
    "raise Exception('この先手作業が必要です')"
   ]
  },
  {
   "cell_type": "code",
   "execution_count": null,
   "metadata": {
    "lc_cell_meme": {
     "current": "329a4348-dfad-11eb-b29f-0242ac120008-6-ed21-8cd0-9bd5-3547-1f3f-78f9",
     "history": [
      {
       "current": "329a4348-dfad-11eb-b29f-0242ac120008-1-ed21",
       "next": "04bfc54e-defc-11eb-b29f-0242ac120008",
       "previous": "329a4046-dfad-11eb-b29f-0242ac120008"
      },
      {
       "current": "329a4348-dfad-11eb-b29f-0242ac120008-1-ed21",
       "next": "04bfc54e-defc-11eb-b29f-0242ac120008-1-5336",
       "previous": "329a4046-dfad-11eb-b29f-0242ac120008-1-1375"
      },
      {
       "current": "329a4348-dfad-11eb-b29f-0242ac120008-1-ed21",
       "next": "16ce8164-6f12-11ee-89fa-0242ac120005",
       "previous": "16ce8056-6f12-11ee-89fa-0242ac120005"
      },
      {
       "current": "329a4348-dfad-11eb-b29f-0242ac120008-2-ed21-8cd0",
       "next": "16ce8164-6f12-11ee-89fa-0242ac120005-1-eea6",
       "previous": "16ce8056-6f12-11ee-89fa-0242ac120005"
      },
      {
       "current": "329a4348-dfad-11eb-b29f-0242ac120008-3-ed21-8cd0-9bd5",
       "next": "16ce8164-6f12-11ee-89fa-0242ac120005-2-eea6-104c",
       "previous": "16ce8056-6f12-11ee-89fa-0242ac120005-1-d801"
      },
      {
       "current": "329a4348-dfad-11eb-b29f-0242ac120008-4-ed21-8cd0-9bd5-3547",
       "next": "16ce8164-6f12-11ee-89fa-0242ac120005-3-eea6-104c-11a9",
       "previous": "16ce8056-6f12-11ee-89fa-0242ac120005-2-d801-c0fe"
      },
      {
       "current": "329a4348-dfad-11eb-b29f-0242ac120008-5-ed21-8cd0-9bd5-3547-1f3f",
       "next": "16ce8164-6f12-11ee-89fa-0242ac120005-4-eea6-104c-11a9-e8fd",
       "previous": "16ce8056-6f12-11ee-89fa-0242ac120005-3-d801-c0fe-8c2b"
      },
      {
       "current": "329a4348-dfad-11eb-b29f-0242ac120008-6-ed21-8cd0-9bd5-3547-1f3f-78f9",
       "next": "16ce8164-6f12-11ee-89fa-0242ac120005-5-eea6-104c-11a9-e8fd-aeba",
       "previous": "16ce8056-6f12-11ee-89fa-0242ac120005-4-d801-c0fe-8c2b-27dc"
      }
     ],
     "next": "16ce8164-6f12-11ee-89fa-0242ac120005-6-eea6-104c-11a9-e8fd-aeba-51f5",
     "previous": "16ce8056-6f12-11ee-89fa-0242ac120005-5-d801-c0fe-8c2b-27dc-f772"
    }
   },
   "outputs": [],
   "source": [
    "import pandas as pd\n",
    "import re\n",
    "\n",
    "# 対象インスタンス名称マッチングルール\n",
    "name_match_rule = r'ceph-xxx-node-[0-9]+'"
   ]
  },
  {
   "cell_type": "markdown",
   "metadata": {
    "heading_collapsed": true,
    "lc_cell_meme": {
     "current": "16ce8164-6f12-11ee-89fa-0242ac120005-6-eea6-104c-11a9-e8fd-aeba-51f5",
     "history": [
      {
       "current": "16ce8164-6f12-11ee-89fa-0242ac120005-2-eea6-104c",
       "next": "16ce81b4-6f12-11ee-89fa-0242ac120005",
       "previous": "329a4348-dfad-11eb-b29f-0242ac120008-1-ed21"
      },
      {
       "current": "16ce8164-6f12-11ee-89fa-0242ac120005-3-eea6-104c-11a9",
       "next": "16ce81b4-6f12-11ee-89fa-0242ac120005-1-efc2",
       "previous": "329a4348-dfad-11eb-b29f-0242ac120008-2-ed21-8cd0"
      },
      {
       "current": "16ce8164-6f12-11ee-89fa-0242ac120005-4-eea6-104c-11a9-e8fd",
       "next": "16ce81b4-6f12-11ee-89fa-0242ac120005-2-efc2-c803",
       "previous": "329a4348-dfad-11eb-b29f-0242ac120008-3-ed21-8cd0-9bd5"
      },
      {
       "current": "16ce8164-6f12-11ee-89fa-0242ac120005-5-eea6-104c-11a9-e8fd-aeba",
       "next": "16ce81b4-6f12-11ee-89fa-0242ac120005-3-efc2-c803-836f",
       "previous": "329a4348-dfad-11eb-b29f-0242ac120008-4-ed21-8cd0-9bd5-3547"
      },
      {
       "current": "16ce8164-6f12-11ee-89fa-0242ac120005-6-eea6-104c-11a9-e8fd-aeba-51f5",
       "next": "16ce81b4-6f12-11ee-89fa-0242ac120005-4-efc2-c803-836f-6d7b",
       "previous": "329a4348-dfad-11eb-b29f-0242ac120008-5-ed21-8cd0-9bd5-3547-1f3f"
      }
     ],
     "next": "16ce81b4-6f12-11ee-89fa-0242ac120005-5-efc2-c803-836f-6d7b-fbb7",
     "previous": "329a4348-dfad-11eb-b29f-0242ac120008-6-ed21-8cd0-9bd5-3547-1f3f-78f9"
    }
   },
   "source": [
    "## OpenStack Ironicからノード情報の取得"
   ]
  },
  {
   "cell_type": "code",
   "execution_count": null,
   "metadata": {
    "hidden": true,
    "lc_cell_meme": {
     "current": "16ce81b4-6f12-11ee-89fa-0242ac120005-5-efc2-c803-836f-6d7b-fbb7",
     "history": [
      {
       "current": "16ce81b4-6f12-11ee-89fa-0242ac120005",
       "next": "16ce81f0-6f12-11ee-89fa-0242ac120005",
       "previous": "16ce8164-6f12-11ee-89fa-0242ac120005"
      },
      {
       "current": "16ce81b4-6f12-11ee-89fa-0242ac120005-1-efc2",
       "next": "16ce8222-6f12-11ee-89fa-0242ac120005",
       "previous": "16ce8164-6f12-11ee-89fa-0242ac120005-1-eea6"
      },
      {
       "current": "16ce81b4-6f12-11ee-89fa-0242ac120005-2-efc2-c803",
       "next": "16ce8222-6f12-11ee-89fa-0242ac120005-1-4db1",
       "previous": "16ce8164-6f12-11ee-89fa-0242ac120005-2-eea6-104c"
      },
      {
       "current": "16ce81b4-6f12-11ee-89fa-0242ac120005-3-efc2-c803-836f",
       "next": "16ce8222-6f12-11ee-89fa-0242ac120005-2-4db1-aba9",
       "previous": "16ce8164-6f12-11ee-89fa-0242ac120005-3-eea6-104c-11a9"
      },
      {
       "current": "16ce81b4-6f12-11ee-89fa-0242ac120005-4-efc2-c803-836f-6d7b",
       "next": "16ce8222-6f12-11ee-89fa-0242ac120005-3-4db1-aba9-de2b",
       "previous": "16ce8164-6f12-11ee-89fa-0242ac120005-4-eea6-104c-11a9-e8fd"
      },
      {
       "current": "16ce81b4-6f12-11ee-89fa-0242ac120005-5-efc2-c803-836f-6d7b-fbb7",
       "next": "16ce8222-6f12-11ee-89fa-0242ac120005-4-4db1-aba9-de2b-2549",
       "previous": "16ce8164-6f12-11ee-89fa-0242ac120005-5-eea6-104c-11a9-e8fd-aeba"
      }
     ],
     "next": "16ce8222-6f12-11ee-89fa-0242ac120005-5-4db1-aba9-de2b-2549-25a1",
     "previous": "16ce8164-6f12-11ee-89fa-0242ac120005-6-eea6-104c-11a9-e8fd-aeba-51f5"
    }
   },
   "outputs": [],
   "source": [
    "cmd = \"openstack baremetal node list -f json --long\"\n",
    "nodes = run_openstack(cmd)"
   ]
  },
  {
   "cell_type": "code",
   "execution_count": null,
   "metadata": {
    "hidden": true,
    "lc_cell_meme": {
     "current": "16ce8222-6f12-11ee-89fa-0242ac120005-5-4db1-aba9-de2b-2549-25a1",
     "history": [
      {
       "current": "16ce8222-6f12-11ee-89fa-0242ac120005",
       "next": "16ce825e-6f12-11ee-89fa-0242ac120005",
       "previous": "16ce81f0-6f12-11ee-89fa-0242ac120005"
      },
      {
       "current": "16ce8222-6f12-11ee-89fa-0242ac120005-1-4db1",
       "next": "16ce81f0-6f12-11ee-89fa-0242ac120005",
       "previous": "16ce81b4-6f12-11ee-89fa-0242ac120005"
      },
      {
       "current": "16ce8222-6f12-11ee-89fa-0242ac120005-2-4db1-aba9",
       "next": "16ce81f0-6f12-11ee-89fa-0242ac120005-1-2d10",
       "previous": "16ce81b4-6f12-11ee-89fa-0242ac120005-1-efc2"
      },
      {
       "current": "16ce8222-6f12-11ee-89fa-0242ac120005-3-4db1-aba9-de2b",
       "next": "16ce81f0-6f12-11ee-89fa-0242ac120005-2-2d10-27c6",
       "previous": "16ce81b4-6f12-11ee-89fa-0242ac120005-2-efc2-c803"
      },
      {
       "current": "16ce8222-6f12-11ee-89fa-0242ac120005-4-4db1-aba9-de2b-2549",
       "next": "16ce81f0-6f12-11ee-89fa-0242ac120005-3-2d10-27c6-4a36",
       "previous": "16ce81b4-6f12-11ee-89fa-0242ac120005-3-efc2-c803-836f"
      },
      {
       "current": "16ce8222-6f12-11ee-89fa-0242ac120005-5-4db1-aba9-de2b-2549-25a1",
       "next": "16ce81f0-6f12-11ee-89fa-0242ac120005-4-2d10-27c6-4a36-2117",
       "previous": "16ce81b4-6f12-11ee-89fa-0242ac120005-4-efc2-c803-836f-6d7b"
      }
     ],
     "next": "16ce81f0-6f12-11ee-89fa-0242ac120005-5-2d10-27c6-4a36-2117-7373",
     "previous": "16ce81b4-6f12-11ee-89fa-0242ac120005-5-efc2-c803-836f-6d7b-fbb7"
    }
   },
   "outputs": [],
   "source": [
    "import pandas as pd\n",
    "import re\n",
    "\n",
    "for node in nodes:\n",
    "    instance_uuid = node.get(\"Instance UUID\", None)\n",
    "    if instance_uuid is None:\n",
    "        continue\n",
    "        \n",
    "    node[\"instance_name\"] = node[\"Instance Info\"][\"display_name\"]\n",
    "\n",
    "pd.set_option('display.max_rows', None)\n",
    "pd.DataFrame(nodes, columns=['Instance UUID', 'instance_name', 'UUID', 'Maintenance', 'Provisioning State', 'Power State', 'Name'])"
   ]
  },
  {
   "cell_type": "code",
   "execution_count": null,
   "metadata": {
    "hidden": true,
    "lc_cell_meme": {
     "current": "16ce81f0-6f12-11ee-89fa-0242ac120005-5-2d10-27c6-4a36-2117-7373",
     "history": [
      {
       "current": "16ce81f0-6f12-11ee-89fa-0242ac120005",
       "next": "16ce8222-6f12-11ee-89fa-0242ac120005",
       "previous": "16ce81b4-6f12-11ee-89fa-0242ac120005"
      },
      {
       "current": "16ce81f0-6f12-11ee-89fa-0242ac120005-1-2d10",
       "next": "16ce825e-6f12-11ee-89fa-0242ac120005",
       "previous": "16ce8222-6f12-11ee-89fa-0242ac120005"
      },
      {
       "current": "16ce81f0-6f12-11ee-89fa-0242ac120005-2-2d10-27c6",
       "next": "16ce825e-6f12-11ee-89fa-0242ac120005-1-5317",
       "previous": "16ce8222-6f12-11ee-89fa-0242ac120005-1-4db1"
      },
      {
       "current": "16ce81f0-6f12-11ee-89fa-0242ac120005-3-2d10-27c6-4a36",
       "next": "16ce825e-6f12-11ee-89fa-0242ac120005-2-5317-e69e",
       "previous": "16ce8222-6f12-11ee-89fa-0242ac120005-2-4db1-aba9"
      },
      {
       "current": "16ce81f0-6f12-11ee-89fa-0242ac120005-4-2d10-27c6-4a36-2117",
       "next": "16ce825e-6f12-11ee-89fa-0242ac120005-3-5317-e69e-4303",
       "previous": "16ce8222-6f12-11ee-89fa-0242ac120005-3-4db1-aba9-de2b"
      },
      {
       "current": "16ce81f0-6f12-11ee-89fa-0242ac120005-5-2d10-27c6-4a36-2117-7373",
       "next": "16ce825e-6f12-11ee-89fa-0242ac120005-4-5317-e69e-4303-c8de",
       "previous": "16ce8222-6f12-11ee-89fa-0242ac120005-4-4db1-aba9-de2b-2549"
      }
     ],
     "next": "16ce825e-6f12-11ee-89fa-0242ac120005-5-5317-e69e-4303-c8de-5c49",
     "previous": "16ce8222-6f12-11ee-89fa-0242ac120005-5-4db1-aba9-de2b-2549-25a1"
    }
   },
   "outputs": [],
   "source": [
    "cmd = \"openstack server list -f json --long\"\n",
    "nova_server_map = run_openstack(cmd)"
   ]
  },
  {
   "cell_type": "code",
   "execution_count": null,
   "metadata": {
    "hidden": true,
    "lc_cell_meme": {
     "current": "16ce825e-6f12-11ee-89fa-0242ac120005-5-5317-e69e-4303-c8de-5c49",
     "history": [
      {
       "current": "16ce825e-6f12-11ee-89fa-0242ac120005",
       "next": "16ce8290-6f12-11ee-89fa-0242ac120005",
       "previous": "16ce8222-6f12-11ee-89fa-0242ac120005"
      },
      {
       "current": "16ce825e-6f12-11ee-89fa-0242ac120005-1-5317",
       "next": "06afec50-98b0-11ea-8d02-0242ac120007-3-5828-a305-b690",
       "previous": "16ce81f0-6f12-11ee-89fa-0242ac120005"
      },
      {
       "current": "16ce825e-6f12-11ee-89fa-0242ac120005-2-5317-e69e",
       "next": "06afec50-98b0-11ea-8d02-0242ac120007-4-5828-a305-b690-9d01",
       "previous": "16ce81f0-6f12-11ee-89fa-0242ac120005-1-2d10"
      },
      {
       "current": "16ce825e-6f12-11ee-89fa-0242ac120005-3-5317-e69e-4303",
       "next": "06afec50-98b0-11ea-8d02-0242ac120007-5-5828-a305-b690-9d01-7890",
       "previous": "16ce81f0-6f12-11ee-89fa-0242ac120005-2-2d10-27c6"
      },
      {
       "current": "16ce825e-6f12-11ee-89fa-0242ac120005-4-5317-e69e-4303-c8de",
       "next": "06afec50-98b0-11ea-8d02-0242ac120007-6-5828-a305-b690-9d01-7890-44cb",
       "previous": "16ce81f0-6f12-11ee-89fa-0242ac120005-3-2d10-27c6-4a36"
      },
      {
       "current": "16ce825e-6f12-11ee-89fa-0242ac120005-5-5317-e69e-4303-c8de-5c49",
       "next": "06afec50-98b0-11ea-8d02-0242ac120007-7-5828-a305-b690-9d01-7890-44cb-37cc",
       "previous": "16ce81f0-6f12-11ee-89fa-0242ac120005-4-2d10-27c6-4a36-2117"
      }
     ],
     "next": "06afec50-98b0-11ea-8d02-0242ac120007-8-5828-a305-b690-9d01-7890-44cb-37cc-432a",
     "previous": "16ce81f0-6f12-11ee-89fa-0242ac120005-5-2d10-27c6-4a36-2117-7373"
    }
   },
   "outputs": [],
   "source": [
    "node_list = []\n",
    "for server in nova_server_map:\n",
    "    node_id = server['ID']\n",
    "    if re.match(name_match_rule, server['Name']) is None:\n",
    "        continue\n",
    "    for node in nodes:\n",
    "        if node['Instance UUID'] == node_id:\n",
    "            node_info = {}\n",
    "            node_list.append(node_info)\n",
    "            node_info['name'] = server['Name']\n",
    "            node_info['node_name'] = node['Name']\n",
    "            instance_ip_info = instance_ip_map.get(server['Name'], None)\n",
    "            if instance_ip_info is not None:\n",
    "                node_info['instance_ip'] = instance_ip_info.get('ipv4', None)\n",
    "            else:\n",
    "                node_info['instance_ip'] = None\n",
    "            address = server['Networks']\n",
    "            prov_net = address['provisioning-net']\n",
    "            for addr in prov_net:\n",
    "                node_info['prov_ip'] = addr\n",
    "\n",
    "pd.DataFrame(node_list)"
   ]
  },
  {
   "cell_type": "markdown",
   "metadata": {
    "lc_cell_meme": {
     "current": "06afec50-98b0-11ea-8d02-0242ac120007-8-5828-a305-b690-9d01-7890-44cb-37cc-432a",
     "history": [
      {
       "current": "06afec50-98b0-11ea-8d02-0242ac120007-1-5828",
       "next": "8a48d590-98a1-11ea-8d02-0242ac120007",
       "previous": "357fc83a-969d-11ea-8d02-0242ac120007"
      },
      {
       "current": "06afec50-98b0-11ea-8d02-0242ac120007-2-5828-a305",
       "next": "8a48d590-98a1-11ea-8d02-0242ac120007-1-1c0f",
       "previous": "357fc83a-969d-11ea-8d02-0242ac120007-1-9a36"
      },
      {
       "current": "06afec50-98b0-11ea-8d02-0242ac120007-3-5828-a305-b690",
       "next": "8a48d590-98a1-11ea-8d02-0242ac120007-2-1c0f-5b25",
       "previous": "357fc83a-969d-11ea-8d02-0242ac120007-2-9a36-95b8"
      },
      {
       "current": "06afec50-98b0-11ea-8d02-0242ac120007-3-5828-a305-b690",
       "next": "8a48d590-98a1-11ea-8d02-0242ac120007-3-1c0f-5b25-d7c0",
       "previous": "357fc83a-969d-11ea-8d02-0242ac120007-3-9a36-95b8-3fa9"
      },
      {
       "current": "06afec50-98b0-11ea-8d02-0242ac120007-4-5828-a305-b690-9d01",
       "next": "8a48d590-98a1-11ea-8d02-0242ac120007-3-1c0f-5b25-d7c0",
       "previous": "16ce825e-6f12-11ee-89fa-0242ac120005"
      },
      {
       "current": "06afec50-98b0-11ea-8d02-0242ac120007-5-5828-a305-b690-9d01-7890",
       "next": "8a48d590-98a1-11ea-8d02-0242ac120007-4-1c0f-5b25-d7c0-000b",
       "previous": "16ce825e-6f12-11ee-89fa-0242ac120005-1-5317"
      },
      {
       "current": "06afec50-98b0-11ea-8d02-0242ac120007-6-5828-a305-b690-9d01-7890-44cb",
       "next": "8a48d590-98a1-11ea-8d02-0242ac120007-5-1c0f-5b25-d7c0-000b-cfa2",
       "previous": "16ce825e-6f12-11ee-89fa-0242ac120005-2-5317-e69e"
      },
      {
       "current": "06afec50-98b0-11ea-8d02-0242ac120007-7-5828-a305-b690-9d01-7890-44cb-37cc",
       "next": "8a48d590-98a1-11ea-8d02-0242ac120007-6-1c0f-5b25-d7c0-000b-cfa2-0fb1",
       "previous": "16ce825e-6f12-11ee-89fa-0242ac120005-3-5317-e69e-4303"
      },
      {
       "current": "06afec50-98b0-11ea-8d02-0242ac120007-8-5828-a305-b690-9d01-7890-44cb-37cc-432a",
       "next": "8a48d590-98a1-11ea-8d02-0242ac120007-7-1c0f-5b25-d7c0-000b-cfa2-0fb1-b10a",
       "previous": "16ce825e-6f12-11ee-89fa-0242ac120005-4-5317-e69e-4303-c8de"
      }
     ],
     "next": "8a48d590-98a1-11ea-8d02-0242ac120007-8-1c0f-5b25-d7c0-000b-cfa2-0fb1-b10a-0c56",
     "previous": "16ce825e-6f12-11ee-89fa-0242ac120005-5-5317-e69e-4303-c8de-5c49"
    }
   },
   "source": [
    "## bootstrap Cephノード情報の取得"
   ]
  },
  {
   "cell_type": "markdown",
   "metadata": {
    "lc_cell_meme": {
     "current": "8a48d590-98a1-11ea-8d02-0242ac120007-8-1c0f-5b25-d7c0-000b-cfa2-0fb1-b10a-0c56",
     "history": [
      {
       "current": "8a48d590-98a1-11ea-8d02-0242ac120007",
       "next": "8a48d90a-98a1-11ea-8d02-0242ac120007",
       "previous": "357fc83a-969d-11ea-8d02-0242ac120007"
      },
      {
       "current": "8a48d590-98a1-11ea-8d02-0242ac120007",
       "next": "8a48d90a-98a1-11ea-8d02-0242ac120007",
       "previous": "06afec50-98b0-11ea-8d02-0242ac120007"
      },
      {
       "current": "8a48d590-98a1-11ea-8d02-0242ac120007",
       "next": "a85c1dda-959a-11ea-8d02-0242ac120007",
       "previous": "06afec50-98b0-11ea-8d02-0242ac120007"
      },
      {
       "current": "8a48d590-98a1-11ea-8d02-0242ac120007-1-1c0f",
       "next": "e879cdac-95bf-11ea-8d02-0242ac120007",
       "previous": "06afec50-98b0-11ea-8d02-0242ac120007"
      },
      {
       "current": "8a48d590-98a1-11ea-8d02-0242ac120007-2-1c0f-5b25",
       "next": "e879cdac-95bf-11ea-8d02-0242ac120007-1-4a2c",
       "previous": "06afec50-98b0-11ea-8d02-0242ac120007-1-5828"
      },
      {
       "current": "8a48d590-98a1-11ea-8d02-0242ac120007-3-1c0f-5b25-d7c0",
       "next": "e879cdac-95bf-11ea-8d02-0242ac120007-2-4a2c-6b2f",
       "previous": "06afec50-98b0-11ea-8d02-0242ac120007-2-5828-a305"
      },
      {
       "current": "8a48d590-98a1-11ea-8d02-0242ac120007-4-1c0f-5b25-d7c0-000b",
       "next": "e879cdac-95bf-11ea-8d02-0242ac120007-3-4a2c-6b2f-958d",
       "previous": "06afec50-98b0-11ea-8d02-0242ac120007-3-5828-a305-b690"
      },
      {
       "current": "8a48d590-98a1-11ea-8d02-0242ac120007-5-1c0f-5b25-d7c0-000b-cfa2",
       "next": "e879cdac-95bf-11ea-8d02-0242ac120007-4-4a2c-6b2f-958d-de30",
       "previous": "06afec50-98b0-11ea-8d02-0242ac120007-4-5828-a305-b690-9d01"
      },
      {
       "current": "8a48d590-98a1-11ea-8d02-0242ac120007-6-1c0f-5b25-d7c0-000b-cfa2-0fb1",
       "next": "e879cdac-95bf-11ea-8d02-0242ac120007-5-4a2c-6b2f-958d-de30-942b",
       "previous": "06afec50-98b0-11ea-8d02-0242ac120007-5-5828-a305-b690-9d01-7890"
      },
      {
       "current": "8a48d590-98a1-11ea-8d02-0242ac120007-7-1c0f-5b25-d7c0-000b-cfa2-0fb1-b10a",
       "next": "e879cdac-95bf-11ea-8d02-0242ac120007-6-4a2c-6b2f-958d-de30-942b-7196",
       "previous": "06afec50-98b0-11ea-8d02-0242ac120007-6-5828-a305-b690-9d01-7890-44cb"
      },
      {
       "current": "8a48d590-98a1-11ea-8d02-0242ac120007-8-1c0f-5b25-d7c0-000b-cfa2-0fb1-b10a-0c56",
       "next": "e879cdac-95bf-11ea-8d02-0242ac120007-7-4a2c-6b2f-958d-de30-942b-7196-9de2",
       "previous": "06afec50-98b0-11ea-8d02-0242ac120007-7-5828-a305-b690-9d01-7890-44cb-37cc"
      }
     ],
     "next": "e879cdac-95bf-11ea-8d02-0242ac120007-8-4a2c-6b2f-958d-de30-942b-7196-9de2-a023",
     "previous": "06afec50-98b0-11ea-8d02-0242ac120007-8-5828-a305-b690-9d01-7890-44cb-37cc-432a"
    }
   },
   "source": [
    "初期化対象のインスタンス名称を設定する"
   ]
  },
  {
   "cell_type": "code",
   "execution_count": null,
   "metadata": {
    "lc_cell_meme": {
     "current": "e879cdac-95bf-11ea-8d02-0242ac120007-8-4a2c-6b2f-958d-de30-942b-7196-9de2-a023",
     "history": [
      {
       "current": "e879cdac-95bf-11ea-8d02-0242ac120007",
       "next": "81dd4f74-9597-11ea-8d02-0242ac120007",
       "previous": "d1bcb8ac-9599-11ea-8d02-0242ac120007"
      },
      {
       "current": "e879cdac-95bf-11ea-8d02-0242ac120007",
       "next": "81dd4f74-9597-11ea-8d02-0242ac120007",
       "previous": "a85c1dda-959a-11ea-8d02-0242ac120007"
      },
      {
       "current": "e879cdac-95bf-11ea-8d02-0242ac120007",
       "next": "8a48d90a-98a1-11ea-8d02-0242ac120007",
       "previous": "a85c1dda-959a-11ea-8d02-0242ac120007"
      },
      {
       "current": "e879cdac-95bf-11ea-8d02-0242ac120007-1-4a2c",
       "next": "8a48d90a-98a1-11ea-8d02-0242ac120007",
       "previous": "8a48d590-98a1-11ea-8d02-0242ac120007"
      },
      {
       "current": "e879cdac-95bf-11ea-8d02-0242ac120007-2-4a2c-6b2f",
       "next": "8a48d90a-98a1-11ea-8d02-0242ac120007-1-0ebc",
       "previous": "8a48d590-98a1-11ea-8d02-0242ac120007-1-1c0f"
      },
      {
       "current": "e879cdac-95bf-11ea-8d02-0242ac120007-2-4a2c-6b2f",
       "next": "8a48d90a-98a1-11ea-8d02-0242ac120007-2-0ebc-93ac",
       "previous": "8a48d590-98a1-11ea-8d02-0242ac120007-2-1c0f-5b25"
      },
      {
       "current": "e879cdac-95bf-11ea-8d02-0242ac120007-3-4a2c-6b2f-958d",
       "next": "809aa1e6-def9-11eb-b29f-0242ac120008",
       "previous": "8a48d590-98a1-11ea-8d02-0242ac120007-2-1c0f-5b25"
      },
      {
       "current": "e879cdac-95bf-11ea-8d02-0242ac120007-3-4a2c-6b2f-958d",
       "next": "809aa1e6-def9-11eb-b29f-0242ac120008-1-b49e",
       "previous": "8a48d590-98a1-11ea-8d02-0242ac120007-3-1c0f-5b25-d7c0"
      },
      {
       "current": "e879cdac-95bf-11ea-8d02-0242ac120007-4-4a2c-6b2f-958d-de30",
       "next": "bb3e251e-61bc-11ee-89fa-0242ac120005",
       "previous": "8a48d590-98a1-11ea-8d02-0242ac120007-3-1c0f-5b25-d7c0"
      },
      {
       "current": "e879cdac-95bf-11ea-8d02-0242ac120007-5-4a2c-6b2f-958d-de30-942b",
       "next": "bb3e251e-61bc-11ee-89fa-0242ac120005-1-9005",
       "previous": "8a48d590-98a1-11ea-8d02-0242ac120007-4-1c0f-5b25-d7c0-000b"
      },
      {
       "current": "e879cdac-95bf-11ea-8d02-0242ac120007-6-4a2c-6b2f-958d-de30-942b-7196",
       "next": "bb3e251e-61bc-11ee-89fa-0242ac120005-2-9005-2a38",
       "previous": "8a48d590-98a1-11ea-8d02-0242ac120007-5-1c0f-5b25-d7c0-000b-cfa2"
      },
      {
       "current": "e879cdac-95bf-11ea-8d02-0242ac120007-7-4a2c-6b2f-958d-de30-942b-7196-9de2",
       "next": "bb3e251e-61bc-11ee-89fa-0242ac120005-3-9005-2a38-fff6",
       "previous": "8a48d590-98a1-11ea-8d02-0242ac120007-6-1c0f-5b25-d7c0-000b-cfa2-0fb1"
      },
      {
       "current": "e879cdac-95bf-11ea-8d02-0242ac120007-8-4a2c-6b2f-958d-de30-942b-7196-9de2-a023",
       "next": "bb3e251e-61bc-11ee-89fa-0242ac120005-4-9005-2a38-fff6-25bb",
       "previous": "8a48d590-98a1-11ea-8d02-0242ac120007-7-1c0f-5b25-d7c0-000b-cfa2-0fb1-b10a"
      }
     ],
     "next": "bb3e251e-61bc-11ee-89fa-0242ac120005-5-9005-2a38-fff6-25bb-530a",
     "previous": "8a48d590-98a1-11ea-8d02-0242ac120007-8-1c0f-5b25-d7c0-000b-cfa2-0fb1-b10a-0c56"
    },
    "scrolled": true
   },
   "outputs": [],
   "source": [
    "# 対象のインスタンス名称を設定する\n",
    "raise Exception('この先手作業が必要です')"
   ]
  },
  {
   "cell_type": "code",
   "execution_count": null,
   "metadata": {
    "lc_cell_meme": {
     "current": "bb3e251e-61bc-11ee-89fa-0242ac120005-5-9005-2a38-fff6-25bb-530a",
     "history": [
      {
       "current": "bb3e251e-61bc-11ee-89fa-0242ac120005",
       "next": "8a48dae0-98a1-11ea-8d02-0242ac120007-3-4da2-9c77-127e",
       "previous": "8a48d90a-98a1-11ea-8d02-0242ac120007-3-0ebc-93ac-04b4"
      },
      {
       "current": "bb3e251e-61bc-11ee-89fa-0242ac120005",
       "next": "8a48dae0-98a1-11ea-8d02-0242ac120007-3-4da2-9c77-127e",
       "previous": "6cd9fe0e-6250-11ee-89fa-0242ac120005"
      },
      {
       "current": "bb3e251e-61bc-11ee-89fa-0242ac120005",
       "next": "6cd9fe0e-6250-11ee-89fa-0242ac120005",
       "previous": "8a48d90a-98a1-11ea-8d02-0242ac120007-3-0ebc-93ac-04b4"
      },
      {
       "current": "bb3e251e-61bc-11ee-89fa-0242ac120005",
       "next": "6cd9fe0e-6250-11ee-89fa-0242ac120005",
       "previous": "809aa1e6-def9-11eb-b29f-0242ac120008-1-b49e"
      },
      {
       "current": "bb3e251e-61bc-11ee-89fa-0242ac120005",
       "next": "8a48dae0-98a1-11ea-8d02-0242ac120007-3-4da2-9c77-127e",
       "previous": "809aa1e6-def9-11eb-b29f-0242ac120008-1-b49e"
      },
      {
       "current": "bb3e251e-61bc-11ee-89fa-0242ac120005-1-9005",
       "next": "8a48dae0-98a1-11ea-8d02-0242ac120007-3-4da2-9c77-127e",
       "previous": "e879cdac-95bf-11ea-8d02-0242ac120007-3-4a2c-6b2f-958d"
      },
      {
       "current": "bb3e251e-61bc-11ee-89fa-0242ac120005-2-9005-2a38",
       "next": "8a48dae0-98a1-11ea-8d02-0242ac120007-4-4da2-9c77-127e-1c35",
       "previous": "e879cdac-95bf-11ea-8d02-0242ac120007-4-4a2c-6b2f-958d-de30"
      },
      {
       "current": "bb3e251e-61bc-11ee-89fa-0242ac120005-3-9005-2a38-fff6",
       "next": "8a48dae0-98a1-11ea-8d02-0242ac120007-5-4da2-9c77-127e-1c35-d8ab",
       "previous": "e879cdac-95bf-11ea-8d02-0242ac120007-5-4a2c-6b2f-958d-de30-942b"
      },
      {
       "current": "bb3e251e-61bc-11ee-89fa-0242ac120005-4-9005-2a38-fff6-25bb",
       "next": "8a48dae0-98a1-11ea-8d02-0242ac120007-6-4da2-9c77-127e-1c35-d8ab-9816",
       "previous": "e879cdac-95bf-11ea-8d02-0242ac120007-6-4a2c-6b2f-958d-de30-942b-7196"
      },
      {
       "current": "bb3e251e-61bc-11ee-89fa-0242ac120005-5-9005-2a38-fff6-25bb-530a",
       "next": "8a48dae0-98a1-11ea-8d02-0242ac120007-7-4da2-9c77-127e-1c35-d8ab-9816-ddf6",
       "previous": "e879cdac-95bf-11ea-8d02-0242ac120007-7-4a2c-6b2f-958d-de30-942b-7196-9de2"
      }
     ],
     "next": "8a48dae0-98a1-11ea-8d02-0242ac120007-8-4da2-9c77-127e-1c35-d8ab-9816-ddf6-ade4",
     "previous": "e879cdac-95bf-11ea-8d02-0242ac120007-8-4a2c-6b2f-958d-de30-942b-7196-9de2-a023"
    }
   },
   "outputs": [],
   "source": [
    "bootstrap_node_name = 'ceph-xxx-node-001'"
   ]
  },
  {
   "cell_type": "code",
   "execution_count": null,
   "metadata": {
    "lc_cell_meme": {
     "current": "8a48dae0-98a1-11ea-8d02-0242ac120007-8-4da2-9c77-127e-1c35-d8ab-9816-ddf6-ade4",
     "history": [
      {
       "current": "8a48dae0-98a1-11ea-8d02-0242ac120007-1-4da2",
       "next": "35c339aa-55a3-11e7-b0b2-00163e9c0e35",
       "previous": "8a48d90a-98a1-11ea-8d02-0242ac120007"
      },
      {
       "current": "8a48dae0-98a1-11ea-8d02-0242ac120007-2-4da2-9c77",
       "next": "35c339aa-55a3-11e7-b0b2-00163e9c0e35-1-eee2",
       "previous": "8a48d90a-98a1-11ea-8d02-0242ac120007-1-0ebc"
      },
      {
       "current": "8a48dae0-98a1-11ea-8d02-0242ac120007-2-4da2-9c77",
       "next": "35c339aa-55a3-11e7-b0b2-00163e9c0e35-2-eee2-af6c",
       "previous": "8a48d90a-98a1-11ea-8d02-0242ac120007-2-0ebc-93ac"
      },
      {
       "current": "8a48dae0-98a1-11ea-8d02-0242ac120007-2-4da2-9c77",
       "next": "35c362a4-55a3-11e7-b0b2-00163e9c0e35-2-3f0a-3633",
       "previous": "8a48d90a-98a1-11ea-8d02-0242ac120007-2-0ebc-93ac"
      },
      {
       "current": "8a48dae0-98a1-11ea-8d02-0242ac120007-2-4da2-9c77",
       "next": "1afe7a3e-def8-11eb-b29f-0242ac120008",
       "previous": "8a48d90a-98a1-11ea-8d02-0242ac120007-2-0ebc-93ac"
      },
      {
       "current": "8a48dae0-98a1-11ea-8d02-0242ac120007-3-4da2-9c77-127e",
       "next": "35c35a52-55a3-11e7-b0b2-00163e9c0e35-2-ed71-9007",
       "previous": "8a48d90a-98a1-11ea-8d02-0242ac120007-2-0ebc-93ac"
      },
      {
       "current": "8a48dae0-98a1-11ea-8d02-0242ac120007-3-4da2-9c77-127e",
       "next": "35c35a52-55a3-11e7-b0b2-00163e9c0e35-3-ed71-9007-f930",
       "previous": "8a48d90a-98a1-11ea-8d02-0242ac120007-3-0ebc-93ac-04b4"
      },
      {
       "current": "8a48dae0-98a1-11ea-8d02-0242ac120007-3-4da2-9c77-127e",
       "next": "2c2cd6ae-61bc-11ee-89fa-0242ac120005",
       "previous": "8a48d90a-98a1-11ea-8d02-0242ac120007-3-0ebc-93ac-04b4"
      },
      {
       "current": "8a48dae0-98a1-11ea-8d02-0242ac120007-3-4da2-9c77-127e",
       "next": "2c2cd6ae-61bc-11ee-89fa-0242ac120005",
       "previous": "bb3e251e-61bc-11ee-89fa-0242ac120005"
      },
      {
       "current": "8a48dae0-98a1-11ea-8d02-0242ac120007-3-4da2-9c77-127e",
       "next": "2c2cd6ae-61bc-11ee-89fa-0242ac120005",
       "previous": "6cd9fe0e-6250-11ee-89fa-0242ac120005"
      },
      {
       "current": "8a48dae0-98a1-11ea-8d02-0242ac120007-3-4da2-9c77-127e",
       "next": "35c35a52-55a3-11e7-b0b2-00163e9c0e35-3-ed71-9007-f930",
       "previous": "6cd9fe0e-6250-11ee-89fa-0242ac120005"
      },
      {
       "current": "8a48dae0-98a1-11ea-8d02-0242ac120007-4-4da2-9c77-127e-1c35",
       "next": "35c35a52-55a3-11e7-b0b2-00163e9c0e35-3-ed71-9007-f930",
       "previous": "bb3e251e-61bc-11ee-89fa-0242ac120005"
      },
      {
       "current": "8a48dae0-98a1-11ea-8d02-0242ac120007-5-4da2-9c77-127e-1c35-d8ab",
       "next": "35c35a52-55a3-11e7-b0b2-00163e9c0e35-4-ed71-9007-f930-7e8c",
       "previous": "bb3e251e-61bc-11ee-89fa-0242ac120005-1-9005"
      },
      {
       "current": "8a48dae0-98a1-11ea-8d02-0242ac120007-6-4da2-9c77-127e-1c35-d8ab-9816",
       "next": "35c35a52-55a3-11e7-b0b2-00163e9c0e35-5-ed71-9007-f930-7e8c-e1ac",
       "previous": "bb3e251e-61bc-11ee-89fa-0242ac120005-2-9005-2a38"
      },
      {
       "current": "8a48dae0-98a1-11ea-8d02-0242ac120007-7-4da2-9c77-127e-1c35-d8ab-9816-ddf6",
       "next": "35c35a52-55a3-11e7-b0b2-00163e9c0e35-6-ed71-9007-f930-7e8c-e1ac-10f8",
       "previous": "bb3e251e-61bc-11ee-89fa-0242ac120005-3-9005-2a38-fff6"
      },
      {
       "current": "8a48dae0-98a1-11ea-8d02-0242ac120007-8-4da2-9c77-127e-1c35-d8ab-9816-ddf6-ade4",
       "next": "35c35a52-55a3-11e7-b0b2-00163e9c0e35-7-ed71-9007-f930-7e8c-e1ac-10f8-1863",
       "previous": "bb3e251e-61bc-11ee-89fa-0242ac120005-4-9005-2a38-fff6-25bb"
      }
     ],
     "next": "35c35a52-55a3-11e7-b0b2-00163e9c0e35-8-ed71-9007-f930-7e8c-e1ac-10f8-1863-a8c7",
     "previous": "bb3e251e-61bc-11ee-89fa-0242ac120005-5-9005-2a38-fff6-25bb-530a"
    }
   },
   "outputs": [],
   "source": [
    "for elem in node_list:\n",
    "    if elem['name'] == bootstrap_node_name:\n",
    "        bootstrap_node = elem\n",
    "        break\n",
    "\n",
    "assert (bootstrap_node is not None), \"指定されたBootstrap nodeが存在しません。\"\n",
    "\n",
    "print(bootstrap_node)"
   ]
  },
  {
   "cell_type": "markdown",
   "metadata": {
    "lc_cell_meme": {
     "current": "35c35a52-55a3-11e7-b0b2-00163e9c0e35-8-ed71-9007-f930-7e8c-e1ac-10f8-1863-a8c7",
     "history": [
      {
       "current": "35c35a52-55a3-11e7-b0b2-00163e9c0e35",
       "next": "35c35bf6-55a3-11e7-b0b2-00163e9c0e35",
       "previous": "35c358ae-55a3-11e7-b0b2-00163e9c0e35"
      },
      {
       "current": "35c35a52-55a3-11e7-b0b2-00163e9c0e35",
       "next": "35c35bf6-55a3-11e7-b0b2-00163e9c0e35",
       "previous": "690aae12-2871-11ea-b5b0-0242ac120004"
      },
      {
       "current": "35c35a52-55a3-11e7-b0b2-00163e9c0e35",
       "next": "35c35bf6-55a3-11e7-b0b2-00163e9c0e35",
       "previous": "1f202142-40d1-11ea-ab19-0242ac120004"
      },
      {
       "current": "35c35a52-55a3-11e7-b0b2-00163e9c0e35",
       "next": "35c35bf6-55a3-11e7-b0b2-00163e9c0e35",
       "previous": "690aae12-2871-11ea-b5b0-0242ac120004"
      },
      {
       "current": "35c35a52-55a3-11e7-b0b2-00163e9c0e35",
       "next": "35c35bf6-55a3-11e7-b0b2-00163e9c0e35",
       "previous": "35c358ae-55a3-11e7-b0b2-00163e9c0e35"
      },
      {
       "current": "35c35a52-55a3-11e7-b0b2-00163e9c0e35",
       "next": "35c35bf6-55a3-11e7-b0b2-00163e9c0e35",
       "previous": "29c91c64-2850-11ea-b5b0-0242ac120004"
      },
      {
       "current": "35c35a52-55a3-11e7-b0b2-00163e9c0e35",
       "next": "35c35bf6-55a3-11e7-b0b2-00163e9c0e35",
       "previous": "35c35552-55a3-11e7-b0b2-00163e9c0e35"
      },
      {
       "current": "35c35a52-55a3-11e7-b0b2-00163e9c0e35",
       "next": "35c35bf6-55a3-11e7-b0b2-00163e9c0e35",
       "previous": "81dd5320-9597-11ea-8d02-0242ac120007"
      },
      {
       "current": "35c35a52-55a3-11e7-b0b2-00163e9c0e35-1-ed71",
       "next": "35c35bf6-55a3-11e7-b0b2-00163e9c0e35",
       "previous": "46b9463a-95bc-11ea-8d02-0242ac120007"
      },
      {
       "current": "35c35a52-55a3-11e7-b0b2-00163e9c0e35-1-ed71",
       "next": "35c35bf6-55a3-11e7-b0b2-00163e9c0e35-1-4f76",
       "previous": "46b9463a-95bc-11ea-8d02-0242ac120007-1-777e"
      },
      {
       "current": "35c35a52-55a3-11e7-b0b2-00163e9c0e35-2-ed71-9007",
       "next": "35c35bf6-55a3-11e7-b0b2-00163e9c0e35-1-4f76",
       "previous": "e3624638-98a7-11ea-8d02-0242ac120007-1-0249"
      },
      {
       "current": "35c35a52-55a3-11e7-b0b2-00163e9c0e35-2-ed71-9007",
       "next": "35c35bf6-55a3-11e7-b0b2-00163e9c0e35-2-4f76-7f4b",
       "previous": "e3624638-98a7-11ea-8d02-0242ac120007-2-0249-59e8"
      },
      {
       "current": "35c35a52-55a3-11e7-b0b2-00163e9c0e35-2-ed71-9007",
       "next": "35c35bf6-55a3-11e7-b0b2-00163e9c0e35-2-4f76-7f4b",
       "previous": "445f39dc-def7-11eb-b29f-0242ac120008"
      },
      {
       "current": "35c35a52-55a3-11e7-b0b2-00163e9c0e35-2-ed71-9007",
       "next": "35c35bf6-55a3-11e7-b0b2-00163e9c0e35-2-4f76-7f4b",
       "previous": "445f36bc-def7-11eb-b29f-0242ac120008"
      },
      {
       "current": "35c35a52-55a3-11e7-b0b2-00163e9c0e35-2-ed71-9007",
       "next": "35c35bf6-55a3-11e7-b0b2-00163e9c0e35-2-4f76-7f4b",
       "previous": "1afe7e1c-def8-11eb-b29f-0242ac120008"
      },
      {
       "current": "35c35a52-55a3-11e7-b0b2-00163e9c0e35-3-ed71-9007-f930",
       "next": "35c35bf6-55a3-11e7-b0b2-00163e9c0e35-2-4f76-7f4b",
       "previous": "8a48dae0-98a1-11ea-8d02-0242ac120007-2-4da2-9c77"
      },
      {
       "current": "35c35a52-55a3-11e7-b0b2-00163e9c0e35-3-ed71-9007-f930",
       "next": "35c35bf6-55a3-11e7-b0b2-00163e9c0e35-3-4f76-7f4b-c54b",
       "previous": "8a48dae0-98a1-11ea-8d02-0242ac120007-3-4da2-9c77-127e"
      },
      {
       "current": "35c35a52-55a3-11e7-b0b2-00163e9c0e35-3-ed71-9007-f930",
       "next": "35c35bf6-55a3-11e7-b0b2-00163e9c0e35-3-4f76-7f4b-c54b",
       "previous": "2c2cd6ae-61bc-11ee-89fa-0242ac120005"
      },
      {
       "current": "35c35a52-55a3-11e7-b0b2-00163e9c0e35-3-ed71-9007-f930",
       "next": "35c35bf6-55a3-11e7-b0b2-00163e9c0e35-3-4f76-7f4b-c54b",
       "previous": "8a48dae0-98a1-11ea-8d02-0242ac120007-3-4da2-9c77-127e"
      },
      {
       "current": "35c35a52-55a3-11e7-b0b2-00163e9c0e35-4-ed71-9007-f930-7e8c",
       "next": "35c35f52-55a3-11e7-b0b2-00163e9c0e35-3-e2de-8a27-98e3",
       "previous": "8a48dae0-98a1-11ea-8d02-0242ac120007-3-4da2-9c77-127e"
      },
      {
       "current": "35c35a52-55a3-11e7-b0b2-00163e9c0e35-5-ed71-9007-f930-7e8c-e1ac",
       "next": "35c35f52-55a3-11e7-b0b2-00163e9c0e35-4-e2de-8a27-98e3-a848",
       "previous": "8a48dae0-98a1-11ea-8d02-0242ac120007-4-4da2-9c77-127e-1c35"
      },
      {
       "current": "35c35a52-55a3-11e7-b0b2-00163e9c0e35-6-ed71-9007-f930-7e8c-e1ac-10f8",
       "next": "35c35f52-55a3-11e7-b0b2-00163e9c0e35-5-e2de-8a27-98e3-a848-d810",
       "previous": "8a48dae0-98a1-11ea-8d02-0242ac120007-5-4da2-9c77-127e-1c35-d8ab"
      },
      {
       "current": "35c35a52-55a3-11e7-b0b2-00163e9c0e35-7-ed71-9007-f930-7e8c-e1ac-10f8-1863",
       "next": "35c35f52-55a3-11e7-b0b2-00163e9c0e35-6-e2de-8a27-98e3-a848-d810-86b6",
       "previous": "8a48dae0-98a1-11ea-8d02-0242ac120007-6-4da2-9c77-127e-1c35-d8ab-9816"
      },
      {
       "current": "35c35a52-55a3-11e7-b0b2-00163e9c0e35-8-ed71-9007-f930-7e8c-e1ac-10f8-1863-a8c7",
       "next": "35c35f52-55a3-11e7-b0b2-00163e9c0e35-7-e2de-8a27-98e3-a848-d810-86b6-2625",
       "previous": "8a48dae0-98a1-11ea-8d02-0242ac120007-7-4da2-9c77-127e-1c35-d8ab-9816-ddf6"
      }
     ],
     "next": "35c35f52-55a3-11e7-b0b2-00163e9c0e35-8-e2de-8a27-98e3-a848-d810-86b6-2625-64a5",
     "previous": "8a48dae0-98a1-11ea-8d02-0242ac120007-8-4da2-9c77-127e-1c35-d8ab-9816-ddf6-ade4"
    }
   },
   "source": [
    "## 一時Inventoryファイルの生成\n",
    "以下を実行し、作業用ディレクトリ配下に一時Inventoryファイルを生成する。"
   ]
  },
  {
   "cell_type": "markdown",
   "metadata": {
    "lc_cell_meme": {
     "current": "35c35f52-55a3-11e7-b0b2-00163e9c0e35-8-e2de-8a27-98e3-a848-d810-86b6-2625-64a5",
     "history": [
      {
       "current": "35c35f52-55a3-11e7-b0b2-00163e9c0e35",
       "next": "35c360f6-55a3-11e7-b0b2-00163e9c0e35",
       "previous": "35c35dae-55a3-11e7-b0b2-00163e9c0e35"
      },
      {
       "current": "35c35f52-55a3-11e7-b0b2-00163e9c0e35-1-e2de",
       "next": "a33430b0-9327-11ea-8d02-0242ac120007",
       "previous": "35c35dae-55a3-11e7-b0b2-00163e9c0e35"
      },
      {
       "current": "35c35f52-55a3-11e7-b0b2-00163e9c0e35-2-e2de-8a27",
       "next": "a33430b0-9327-11ea-8d02-0242ac120007-1-3202",
       "previous": "35c35dae-55a3-11e7-b0b2-00163e9c0e35-1-7091"
      },
      {
       "current": "35c35f52-55a3-11e7-b0b2-00163e9c0e35-3-e2de-8a27-98e3",
       "next": "a33430b0-9327-11ea-8d02-0242ac120007-2-3202-0bdc",
       "previous": "35c35dae-55a3-11e7-b0b2-00163e9c0e35-2-7091-7055"
      },
      {
       "current": "35c35f52-55a3-11e7-b0b2-00163e9c0e35-3-e2de-8a27-98e3",
       "next": "a33430b0-9327-11ea-8d02-0242ac120007-3-3202-0bdc-fd62",
       "previous": "35c35dae-55a3-11e7-b0b2-00163e9c0e35-3-7091-7055-1fd7"
      },
      {
       "current": "35c35f52-55a3-11e7-b0b2-00163e9c0e35-4-e2de-8a27-98e3-a848",
       "next": "a33430b0-9327-11ea-8d02-0242ac120007-3-3202-0bdc-fd62",
       "previous": "35c35a52-55a3-11e7-b0b2-00163e9c0e35-3-ed71-9007-f930"
      },
      {
       "current": "35c35f52-55a3-11e7-b0b2-00163e9c0e35-5-e2de-8a27-98e3-a848-d810",
       "next": "a33430b0-9327-11ea-8d02-0242ac120007-4-3202-0bdc-fd62-7cf0",
       "previous": "35c35a52-55a3-11e7-b0b2-00163e9c0e35-4-ed71-9007-f930-7e8c"
      },
      {
       "current": "35c35f52-55a3-11e7-b0b2-00163e9c0e35-6-e2de-8a27-98e3-a848-d810-86b6",
       "next": "a33430b0-9327-11ea-8d02-0242ac120007-5-3202-0bdc-fd62-7cf0-9f87",
       "previous": "35c35a52-55a3-11e7-b0b2-00163e9c0e35-5-ed71-9007-f930-7e8c-e1ac"
      },
      {
       "current": "35c35f52-55a3-11e7-b0b2-00163e9c0e35-7-e2de-8a27-98e3-a848-d810-86b6-2625",
       "next": "a33430b0-9327-11ea-8d02-0242ac120007-6-3202-0bdc-fd62-7cf0-9f87-de67",
       "previous": "35c35a52-55a3-11e7-b0b2-00163e9c0e35-6-ed71-9007-f930-7e8c-e1ac-10f8"
      },
      {
       "current": "35c35f52-55a3-11e7-b0b2-00163e9c0e35-8-e2de-8a27-98e3-a848-d810-86b6-2625-64a5",
       "next": "a33430b0-9327-11ea-8d02-0242ac120007-7-3202-0bdc-fd62-7cf0-9f87-de67-90bd",
       "previous": "35c35a52-55a3-11e7-b0b2-00163e9c0e35-7-ed71-9007-f930-7e8c-e1ac-10f8-1863"
      }
     ],
     "next": "a33430b0-9327-11ea-8d02-0242ac120007-8-3202-0bdc-fd62-7cf0-9f87-de67-90bd-84eb",
     "previous": "35c35a52-55a3-11e7-b0b2-00163e9c0e35-8-ed71-9007-f930-7e8c-e1ac-10f8-1863-a8c7"
    }
   },
   "source": [
    "Inventoryファイルを生成する。"
   ]
  },
  {
   "cell_type": "code",
   "execution_count": null,
   "metadata": {
    "lc_cell_meme": {
     "current": "a33430b0-9327-11ea-8d02-0242ac120007-8-3202-0bdc-fd62-7cf0-9f87-de67-90bd-84eb",
     "history": [
      {
       "current": "a33430b0-9327-11ea-8d02-0242ac120007",
       "next": "35c360f6-55a3-11e7-b0b2-00163e9c0e35",
       "previous": "35c35f52-55a3-11e7-b0b2-00163e9c0e35"
      },
      {
       "current": "a33430b0-9327-11ea-8d02-0242ac120007-1-3202",
       "next": "9c0b8624-959f-11ea-8d02-0242ac120007",
       "previous": "35c35f52-55a3-11e7-b0b2-00163e9c0e35"
      },
      {
       "current": "a33430b0-9327-11ea-8d02-0242ac120007-2-3202-0bdc",
       "next": "9c0b8624-959f-11ea-8d02-0242ac120007-1-8098",
       "previous": "35c35f52-55a3-11e7-b0b2-00163e9c0e35-1-e2de"
      },
      {
       "current": "a33430b0-9327-11ea-8d02-0242ac120007-2-3202-0bdc",
       "next": "9c0b8624-959f-11ea-8d02-0242ac120007-2-8098-a371",
       "previous": "35c35f52-55a3-11e7-b0b2-00163e9c0e35-2-e2de-8a27"
      },
      {
       "current": "a33430b0-9327-11ea-8d02-0242ac120007-3-3202-0bdc-fd62",
       "next": "27f1be96-f4f0-11eb-b29f-0242ac120008",
       "previous": "35c35f52-55a3-11e7-b0b2-00163e9c0e35-2-e2de-8a27"
      },
      {
       "current": "a33430b0-9327-11ea-8d02-0242ac120007-3-3202-0bdc-fd62",
       "next": "27f1be96-f4f0-11eb-b29f-0242ac120008-1-0b6c",
       "previous": "35c35f52-55a3-11e7-b0b2-00163e9c0e35-3-e2de-8a27-98e3"
      },
      {
       "current": "a33430b0-9327-11ea-8d02-0242ac120007-4-3202-0bdc-fd62-7cf0",
       "next": "73b1e49c-61bc-11ee-89fa-0242ac120005",
       "previous": "35c35f52-55a3-11e7-b0b2-00163e9c0e35-3-e2de-8a27-98e3"
      },
      {
       "current": "a33430b0-9327-11ea-8d02-0242ac120007-5-3202-0bdc-fd62-7cf0-9f87",
       "next": "73b1e49c-61bc-11ee-89fa-0242ac120005-1-06d1",
       "previous": "35c35f52-55a3-11e7-b0b2-00163e9c0e35-4-e2de-8a27-98e3-a848"
      },
      {
       "current": "a33430b0-9327-11ea-8d02-0242ac120007-6-3202-0bdc-fd62-7cf0-9f87-de67",
       "next": "73b1e49c-61bc-11ee-89fa-0242ac120005-2-06d1-c7e2",
       "previous": "35c35f52-55a3-11e7-b0b2-00163e9c0e35-5-e2de-8a27-98e3-a848-d810"
      },
      {
       "current": "a33430b0-9327-11ea-8d02-0242ac120007-7-3202-0bdc-fd62-7cf0-9f87-de67-90bd",
       "next": "73b1e49c-61bc-11ee-89fa-0242ac120005-3-06d1-c7e2-628f",
       "previous": "35c35f52-55a3-11e7-b0b2-00163e9c0e35-6-e2de-8a27-98e3-a848-d810-86b6"
      },
      {
       "current": "a33430b0-9327-11ea-8d02-0242ac120007-8-3202-0bdc-fd62-7cf0-9f87-de67-90bd-84eb",
       "next": "73b1e49c-61bc-11ee-89fa-0242ac120005-4-06d1-c7e2-628f-5504",
       "previous": "35c35f52-55a3-11e7-b0b2-00163e9c0e35-7-e2de-8a27-98e3-a848-d810-86b6-2625"
      }
     ],
     "next": "73b1e49c-61bc-11ee-89fa-0242ac120005-5-06d1-c7e2-628f-5504-cb87",
     "previous": "35c35f52-55a3-11e7-b0b2-00163e9c0e35-8-e2de-8a27-98e3-a848-d810-86b6-2625-64a5"
    }
   },
   "outputs": [],
   "source": [
    "node_user='xxxxx'\n",
    "cephadmin_user='cephadmin'\n",
    "node_key='~/.ssh/id_ras'\n",
    "proxy_user='xxxxx'\n",
    "proxy_key='~/.ssh/id_ras'"
   ]
  },
  {
   "cell_type": "code",
   "execution_count": null,
   "metadata": {
    "lc_cell_meme": {
     "current": "73b1e49c-61bc-11ee-89fa-0242ac120005-5-06d1-c7e2-628f-5504-cb87",
     "history": [
      {
       "current": "73b1e49c-61bc-11ee-89fa-0242ac120005",
       "next": "35c360f6-55a3-11e7-b0b2-00163e9c0e35-3-4a79-f9ba-754f",
       "previous": "9c0b8624-959f-11ea-8d02-0242ac120007-3-8098-a371-0b4a"
      },
      {
       "current": "73b1e49c-61bc-11ee-89fa-0242ac120005-1-06d1",
       "next": "35c360f6-55a3-11e7-b0b2-00163e9c0e35-3-4a79-f9ba-754f",
       "previous": "a33430b0-9327-11ea-8d02-0242ac120007-3-3202-0bdc-fd62"
      },
      {
       "current": "73b1e49c-61bc-11ee-89fa-0242ac120005-2-06d1-c7e2",
       "next": "35c360f6-55a3-11e7-b0b2-00163e9c0e35-4-4a79-f9ba-754f-1475",
       "previous": "a33430b0-9327-11ea-8d02-0242ac120007-4-3202-0bdc-fd62-7cf0"
      },
      {
       "current": "73b1e49c-61bc-11ee-89fa-0242ac120005-3-06d1-c7e2-628f",
       "next": "35c360f6-55a3-11e7-b0b2-00163e9c0e35-5-4a79-f9ba-754f-1475-f1c5",
       "previous": "a33430b0-9327-11ea-8d02-0242ac120007-5-3202-0bdc-fd62-7cf0-9f87"
      },
      {
       "current": "73b1e49c-61bc-11ee-89fa-0242ac120005-4-06d1-c7e2-628f-5504",
       "next": "35c360f6-55a3-11e7-b0b2-00163e9c0e35-6-4a79-f9ba-754f-1475-f1c5-c02e",
       "previous": "a33430b0-9327-11ea-8d02-0242ac120007-6-3202-0bdc-fd62-7cf0-9f87-de67"
      },
      {
       "current": "73b1e49c-61bc-11ee-89fa-0242ac120005-5-06d1-c7e2-628f-5504-cb87",
       "next": "35c360f6-55a3-11e7-b0b2-00163e9c0e35-7-4a79-f9ba-754f-1475-f1c5-c02e-ae78",
       "previous": "a33430b0-9327-11ea-8d02-0242ac120007-7-3202-0bdc-fd62-7cf0-9f87-de67-90bd"
      }
     ],
     "next": "35c360f6-55a3-11e7-b0b2-00163e9c0e35-8-4a79-f9ba-754f-1475-f1c5-c02e-ae78-f455",
     "previous": "a33430b0-9327-11ea-8d02-0242ac120007-8-3202-0bdc-fd62-7cf0-9f87-de67-90bd-84eb"
    }
   },
   "outputs": [],
   "source": [
    "bootstrap_ip = bootstrap_node['prov_ip']"
   ]
  },
  {
   "cell_type": "code",
   "execution_count": null,
   "metadata": {
    "ExecuteTime": {
     "end_time": "2017-06-29T08:50:39.909299Z",
     "start_time": "2017-06-29T08:50:39.762658Z"
    },
    "lc_cell_meme": {
     "current": "35c360f6-55a3-11e7-b0b2-00163e9c0e35-8-4a79-f9ba-754f-1475-f1c5-c02e-ae78-f455",
     "history": [
      {
       "current": "35c360f6-55a3-11e7-b0b2-00163e9c0e35",
       "next": "35c362a4-55a3-11e7-b0b2-00163e9c0e35",
       "previous": "35c35f52-55a3-11e7-b0b2-00163e9c0e35"
      },
      {
       "current": "35c360f6-55a3-11e7-b0b2-00163e9c0e35",
       "next": "35c362a4-55a3-11e7-b0b2-00163e9c0e35",
       "previous": "a33430b0-9327-11ea-8d02-0242ac120007"
      },
      {
       "current": "35c360f6-55a3-11e7-b0b2-00163e9c0e35-1-4a79",
       "next": "35c362a4-55a3-11e7-b0b2-00163e9c0e35",
       "previous": "9c0b88cc-959f-11ea-8d02-0242ac120007"
      },
      {
       "current": "35c360f6-55a3-11e7-b0b2-00163e9c0e35-2-4a79-f9ba",
       "next": "35c362a4-55a3-11e7-b0b2-00163e9c0e35-1-3f0a",
       "previous": "9c0b88cc-959f-11ea-8d02-0242ac120007-1-b077"
      },
      {
       "current": "35c360f6-55a3-11e7-b0b2-00163e9c0e35-2-4a79-f9ba",
       "next": "35c362a4-55a3-11e7-b0b2-00163e9c0e35-2-3f0a-3633",
       "previous": "9c0b88cc-959f-11ea-8d02-0242ac120007-2-b077-046d"
      },
      {
       "current": "35c360f6-55a3-11e7-b0b2-00163e9c0e35-2-4a79-f9ba",
       "next": "7dae8996-9686-11ea-8d02-0242ac120007-2-20c5-a0b0",
       "previous": "9c0b88cc-959f-11ea-8d02-0242ac120007-2-b077-046d"
      },
      {
       "current": "35c360f6-55a3-11e7-b0b2-00163e9c0e35-2-4a79-f9ba",
       "next": "35c362a4-55a3-11e7-b0b2-00163e9c0e35-2-89a7-98f2",
       "previous": "9c0b88cc-959f-11ea-8d02-0242ac120007-2-b077-046d"
      },
      {
       "current": "35c360f6-55a3-11e7-b0b2-00163e9c0e35-3-4a79-f9ba-754f",
       "next": "35c362a4-55a3-11e7-b0b2-00163e9c0e35-2-89a7-98f2",
       "previous": "9c0b8624-959f-11ea-8d02-0242ac120007-2-8098-a371"
      },
      {
       "current": "35c360f6-55a3-11e7-b0b2-00163e9c0e35-3-4a79-f9ba-754f",
       "next": "35c362a4-55a3-11e7-b0b2-00163e9c0e35-3-89a7-98f2-5cf2",
       "previous": "9c0b8624-959f-11ea-8d02-0242ac120007-3-8098-a371-0b4a"
      },
      {
       "current": "35c360f6-55a3-11e7-b0b2-00163e9c0e35-4-4a79-f9ba-754f-1475",
       "next": "35c362a4-55a3-11e7-b0b2-00163e9c0e35-3-89a7-98f2-5cf2",
       "previous": "73b1e49c-61bc-11ee-89fa-0242ac120005"
      },
      {
       "current": "35c360f6-55a3-11e7-b0b2-00163e9c0e35-5-4a79-f9ba-754f-1475-f1c5",
       "next": "35c362a4-55a3-11e7-b0b2-00163e9c0e35-4-89a7-98f2-5cf2-bced",
       "previous": "73b1e49c-61bc-11ee-89fa-0242ac120005-1-06d1"
      },
      {
       "current": "35c360f6-55a3-11e7-b0b2-00163e9c0e35-6-4a79-f9ba-754f-1475-f1c5-c02e",
       "next": "35c362a4-55a3-11e7-b0b2-00163e9c0e35-5-89a7-98f2-5cf2-bced-e1e5",
       "previous": "73b1e49c-61bc-11ee-89fa-0242ac120005-2-06d1-c7e2"
      },
      {
       "current": "35c360f6-55a3-11e7-b0b2-00163e9c0e35-6-4a79-f9ba-754f-1475-f1c5-c02e",
       "next": "35c362a4-55a3-11e7-b0b2-00163e9c0e35-6-89a7-98f2-5cf2-bced-e1e5-d8a4",
       "previous": "73b1e49c-61bc-11ee-89fa-0242ac120005-3-06d1-c7e2-628f"
      },
      {
       "current": "35c360f6-55a3-11e7-b0b2-00163e9c0e35-7-4a79-f9ba-754f-1475-f1c5-c02e-ae78",
       "next": "c333bb70-1cd4-11ef-ad2f-0242ac120005",
       "previous": "73b1e49c-61bc-11ee-89fa-0242ac120005-3-06d1-c7e2-628f"
      },
      {
       "current": "35c360f6-55a3-11e7-b0b2-00163e9c0e35-8-4a79-f9ba-754f-1475-f1c5-c02e-ae78-f455",
       "next": "c333bb70-1cd4-11ef-ad2f-0242ac120005-1-4057",
       "previous": "73b1e49c-61bc-11ee-89fa-0242ac120005-4-06d1-c7e2-628f-5504"
      }
     ],
     "next": "c333bb70-1cd4-11ef-ad2f-0242ac120005-2-4057-e531",
     "previous": "73b1e49c-61bc-11ee-89fa-0242ac120005-5-06d1-c7e2-628f-5504-cb87"
    },
    "run_control": {
     "frozen": true
    },
    "scrolled": false
   },
   "outputs": [],
   "source": [
    "import os\n",
    "\n",
    "with open( os.path.join(temp_dir, \"hosts\"), 'w') as f:\n",
    "\n",
    "    f.write('''[ceph_admin]\n",
    "{ceph_admin_ip} ansible_user={proxy_user} ansible_ssh_private_key_file={proxy_key} ansible_python_interpreter=/usr/bin/python3\n",
    "'''.format(ceph_admin_ip=ceph_admin_ip, proxy_user=proxy_user, proxy_key=proxy_key, bootstrap_ip=bootstrap_ip))\n",
    "\n",
    "    f.write('''[bootstrap]\n",
    "{node_ip} ansible_user={node_user} ansible_ssh_private_key_file={node_key} ansible_ssh_common_args='-o ControlMaster=auto -o StrictHostKeyChecking=no -o ControlPersist=30m -o ProxyCommand=\"ssh -W %h:%p -i {proxy_key} -q {proxy_user}@{ceph_admin_ip}\"' ansible_python_interpreter=/usr/bin/python3\n",
    "'''.format(ceph_admin_ip=ceph_admin_ip, node_ip=bootstrap_ip, node_key=node_key,\n",
    "           node_user=node_user, proxy_user=proxy_user, proxy_key=proxy_key))    \n",
    "\n",
    "    f.write('''[openstack_ctl]\n",
    "{openstack_cmn}\n",
    "'''.format(openstack_cmn = provisioning_vip))\n",
    "\n",
    "hosts = temp_dir + \"/hosts\"\n",
    "\n",
    "!cat $hosts"
   ]
  },
  {
   "cell_type": "code",
   "execution_count": null,
   "metadata": {
    "lc_cell_meme": {
     "current": "c333bb70-1cd4-11ef-ad2f-0242ac120005-2-4057-e531",
     "history": [
      {
       "current": "c333bb70-1cd4-11ef-ad2f-0242ac120005-1-4057",
       "next": "35c362a4-55a3-11e7-b0b2-00163e9c0e35-6-89a7-98f2-5cf2-bced-e1e5-d8a4",
       "previous": "35c360f6-55a3-11e7-b0b2-00163e9c0e35-6-4a79-f9ba-754f-1475-f1c5-c02e"
      },
      {
       "current": "c333bb70-1cd4-11ef-ad2f-0242ac120005-2-4057-e531",
       "next": "35c362a4-55a3-11e7-b0b2-00163e9c0e35-7-89a7-98f2-5cf2-bced-e1e5-d8a4-1d0d",
       "previous": "35c360f6-55a3-11e7-b0b2-00163e9c0e35-7-4a79-f9ba-754f-1475-f1c5-c02e-ae78"
      }
     ],
     "next": "35c362a4-55a3-11e7-b0b2-00163e9c0e35-8-89a7-98f2-5cf2-bced-e1e5-d8a4-1d0d-86d3",
     "previous": "35c360f6-55a3-11e7-b0b2-00163e9c0e35-8-4a79-f9ba-754f-1475-f1c5-c02e-ae78-f455"
    }
   },
   "outputs": [],
   "source": [
    "%env ANSIBLE_INVENTORY={hosts}"
   ]
  },
  {
   "cell_type": "markdown",
   "metadata": {
    "lc_cell_meme": {
     "current": "35c362a4-55a3-11e7-b0b2-00163e9c0e35-8-89a7-98f2-5cf2-bced-e1e5-d8a4-1d0d-86d3",
     "history": [
      {
       "current": "35c362a4-55a3-11e7-b0b2-00163e9c0e35",
       "next": "35c36448-55a3-11e7-b0b2-00163e9c0e35",
       "previous": "35c360f6-55a3-11e7-b0b2-00163e9c0e35"
      },
      {
       "current": "35c362a4-55a3-11e7-b0b2-00163e9c0e35",
       "next": "35c36448-55a3-11e7-b0b2-00163e9c0e35",
       "previous": "4cd5b0cc-7ef5-11ea-a926-0242ac120004"
      },
      {
       "current": "35c362a4-55a3-11e7-b0b2-00163e9c0e35",
       "next": "35c36448-55a3-11e7-b0b2-00163e9c0e35",
       "previous": "db546a28-7ef5-11ea-a926-0242ac120004"
      },
      {
       "current": "35c362a4-55a3-11e7-b0b2-00163e9c0e35",
       "next": "35c36448-55a3-11e7-b0b2-00163e9c0e35",
       "previous": "4cd5af28-7ef5-11ea-a926-0242ac120004"
      },
      {
       "current": "35c362a4-55a3-11e7-b0b2-00163e9c0e35",
       "next": "35c36448-55a3-11e7-b0b2-00163e9c0e35",
       "previous": "7d464504-9107-11ea-8d02-0242ac120007"
      },
      {
       "current": "35c362a4-55a3-11e7-b0b2-00163e9c0e35",
       "next": "35c36448-55a3-11e7-b0b2-00163e9c0e35",
       "previous": "bd797188-910b-11ea-8d02-0242ac120007"
      },
      {
       "current": "35c362a4-55a3-11e7-b0b2-00163e9c0e35",
       "next": "35c36448-55a3-11e7-b0b2-00163e9c0e35",
       "previous": "70b95056-9111-11ea-8d02-0242ac120007"
      },
      {
       "current": "35c362a4-55a3-11e7-b0b2-00163e9c0e35",
       "next": "35c36448-55a3-11e7-b0b2-00163e9c0e35",
       "previous": "bd797188-910b-11ea-8d02-0242ac120007"
      },
      {
       "current": "35c362a4-55a3-11e7-b0b2-00163e9c0e35",
       "next": "bd797188-910b-11ea-8d02-0242ac120007",
       "previous": "4cd5af28-7ef5-11ea-a926-0242ac120004"
      },
      {
       "current": "35c362a4-55a3-11e7-b0b2-00163e9c0e35",
       "next": "484c7376-935c-11ea-8d02-0242ac120007",
       "previous": "4cd5af28-7ef5-11ea-a926-0242ac120004"
      },
      {
       "current": "35c362a4-55a3-11e7-b0b2-00163e9c0e35-1-89a7",
       "next": "bd797188-910b-11ea-8d02-0242ac120007",
       "previous": "4cd5af28-7ef5-11ea-a926-0242ac120004"
      },
      {
       "current": "35c362a4-55a3-11e7-b0b2-00163e9c0e35-2-89a7-98f2",
       "next": "bd797188-910b-11ea-8d02-0242ac120007-1-728a",
       "previous": "4cd5af28-7ef5-11ea-a926-0242ac120004-1-726b"
      },
      {
       "current": "35c362a4-55a3-11e7-b0b2-00163e9c0e35-2-89a7-98f2",
       "next": "bd797188-910b-11ea-8d02-0242ac120007-2-728a-254c",
       "previous": "4cd5af28-7ef5-11ea-a926-0242ac120004-2-726b-a0d6"
      },
      {
       "current": "35c362a4-55a3-11e7-b0b2-00163e9c0e35-2-89a7-98f2",
       "next": "bd797188-910b-11ea-8d02-0242ac120007-2-728a-254c",
       "previous": "35c360f6-55a3-11e7-b0b2-00163e9c0e35-2-4a79-f9ba"
      },
      {
       "current": "35c362a4-55a3-11e7-b0b2-00163e9c0e35-3-89a7-98f2-5cf2",
       "next": "ef4d2888-aa17-11ea-9ad4-0242ac120006-1-42b7",
       "previous": "35c360f6-55a3-11e7-b0b2-00163e9c0e35-2-4a79-f9ba"
      },
      {
       "current": "35c362a4-55a3-11e7-b0b2-00163e9c0e35-4-89a7-98f2-5cf2-bced",
       "next": "ef4d2888-aa17-11ea-9ad4-0242ac120006-2-42b7-b07a",
       "previous": "35c360f6-55a3-11e7-b0b2-00163e9c0e35-3-4a79-f9ba-754f"
      },
      {
       "current": "35c362a4-55a3-11e7-b0b2-00163e9c0e35-5-89a7-98f2-5cf2-bced-e1e5",
       "next": "ef4d2888-aa17-11ea-9ad4-0242ac120006-3-42b7-b07a-59ae",
       "previous": "35c360f6-55a3-11e7-b0b2-00163e9c0e35-4-4a79-f9ba-754f-1475"
      },
      {
       "current": "35c362a4-55a3-11e7-b0b2-00163e9c0e35-6-89a7-98f2-5cf2-bced-e1e5-d8a4",
       "next": "ef4d2888-aa17-11ea-9ad4-0242ac120006-4-42b7-b07a-59ae-d37a",
       "previous": "35c360f6-55a3-11e7-b0b2-00163e9c0e35-5-4a79-f9ba-754f-1475-f1c5"
      },
      {
       "current": "35c362a4-55a3-11e7-b0b2-00163e9c0e35-6-89a7-98f2-5cf2-bced-e1e5-d8a4",
       "next": "ef4d2888-aa17-11ea-9ad4-0242ac120006-5-42b7-b07a-59ae-d37a-0f9e",
       "previous": "35c360f6-55a3-11e7-b0b2-00163e9c0e35-6-4a79-f9ba-754f-1475-f1c5-c02e"
      },
      {
       "current": "35c362a4-55a3-11e7-b0b2-00163e9c0e35-7-89a7-98f2-5cf2-bced-e1e5-d8a4-1d0d",
       "next": "ef4d2888-aa17-11ea-9ad4-0242ac120006-5-42b7-b07a-59ae-d37a-0f9e",
       "previous": "c333bb70-1cd4-11ef-ad2f-0242ac120005"
      },
      {
       "current": "35c362a4-55a3-11e7-b0b2-00163e9c0e35-8-89a7-98f2-5cf2-bced-e1e5-d8a4-1d0d-86d3",
       "next": "ef4d2888-aa17-11ea-9ad4-0242ac120006-6-42b7-b07a-59ae-d37a-0f9e-51b2",
       "previous": "c333bb70-1cd4-11ef-ad2f-0242ac120005-1-4057"
      }
     ],
     "next": "ef4d2888-aa17-11ea-9ad4-0242ac120006-7-42b7-b07a-59ae-d37a-0f9e-51b2-7bcd",
     "previous": "c333bb70-1cd4-11ef-ad2f-0242ac120005-2-4057-e531"
    }
   },
   "source": [
    "## 疎通確認\n",
    "以下コマンドを実行し、OpeHubからCephAdmin経由で、Cephノードに疎通することを確認する。"
   ]
  },
  {
   "cell_type": "code",
   "execution_count": null,
   "metadata": {
    "lc_cell_meme": {
     "current": "ef4d2888-aa17-11ea-9ad4-0242ac120006-7-42b7-b07a-59ae-d37a-0f9e-51b2-7bcd",
     "history": [
      {
       "current": "ef4d2888-aa17-11ea-9ad4-0242ac120006-1-42b7",
       "next": "ac56a252-95bd-11ea-8d02-0242ac120007-1-86ee",
       "previous": "bd797188-910b-11ea-8d02-0242ac120007-1-728a"
      },
      {
       "current": "ef4d2888-aa17-11ea-9ad4-0242ac120006-1-42b7",
       "next": "ac56a252-95bd-11ea-8d02-0242ac120007-2-86ee-3a22",
       "previous": "bd797188-910b-11ea-8d02-0242ac120007-2-728a-254c"
      },
      {
       "current": "ef4d2888-aa17-11ea-9ad4-0242ac120006-1-42b7",
       "next": "bd797188-910b-11ea-8d02-0242ac120007-2-728a-254c",
       "previous": "35c362a4-55a3-11e7-b0b2-00163e9c0e35-2-89a7-98f2"
      },
      {
       "current": "ef4d2888-aa17-11ea-9ad4-0242ac120006-2-42b7-b07a",
       "next": "e3856a36-df01-11eb-b29f-0242ac120008",
       "previous": "35c362a4-55a3-11e7-b0b2-00163e9c0e35-2-89a7-98f2"
      },
      {
       "current": "ef4d2888-aa17-11ea-9ad4-0242ac120006-2-42b7-b07a",
       "next": "e3856a36-df01-11eb-b29f-0242ac120008-1-d6f1",
       "previous": "35c362a4-55a3-11e7-b0b2-00163e9c0e35-3-89a7-98f2-5cf2"
      },
      {
       "current": "ef4d2888-aa17-11ea-9ad4-0242ac120006-2-42b7-b07a",
       "next": "bd797188-910b-11ea-8d02-0242ac120007-3-728a-254c-2f4c",
       "previous": "35c362a4-55a3-11e7-b0b2-00163e9c0e35-3-89a7-98f2-5cf2"
      },
      {
       "current": "ef4d2888-aa17-11ea-9ad4-0242ac120006-3-42b7-b07a-59ae",
       "next": "91d0d70c-61bd-11ee-89fa-0242ac120005",
       "previous": "35c362a4-55a3-11e7-b0b2-00163e9c0e35-3-89a7-98f2-5cf2"
      },
      {
       "current": "ef4d2888-aa17-11ea-9ad4-0242ac120006-4-42b7-b07a-59ae-d37a",
       "next": "91d0d70c-61bd-11ee-89fa-0242ac120005-1-cbab",
       "previous": "35c362a4-55a3-11e7-b0b2-00163e9c0e35-4-89a7-98f2-5cf2-bced"
      },
      {
       "current": "ef4d2888-aa17-11ea-9ad4-0242ac120006-5-42b7-b07a-59ae-d37a-0f9e",
       "next": "91d0d70c-61bd-11ee-89fa-0242ac120005-2-cbab-87c4",
       "previous": "35c362a4-55a3-11e7-b0b2-00163e9c0e35-5-89a7-98f2-5cf2-bced-e1e5"
      },
      {
       "current": "ef4d2888-aa17-11ea-9ad4-0242ac120006-6-42b7-b07a-59ae-d37a-0f9e-51b2",
       "next": "91d0d70c-61bd-11ee-89fa-0242ac120005-3-cbab-87c4-045c",
       "previous": "35c362a4-55a3-11e7-b0b2-00163e9c0e35-6-89a7-98f2-5cf2-bced-e1e5-d8a4"
      },
      {
       "current": "ef4d2888-aa17-11ea-9ad4-0242ac120006-7-42b7-b07a-59ae-d37a-0f9e-51b2-7bcd",
       "next": "91d0d70c-61bd-11ee-89fa-0242ac120005-4-cbab-87c4-045c-c94f",
       "previous": "35c362a4-55a3-11e7-b0b2-00163e9c0e35-7-89a7-98f2-5cf2-bced-e1e5-d8a4-1d0d"
      }
     ],
     "next": "91d0d70c-61bd-11ee-89fa-0242ac120005-5-cbab-87c4-045c-c94f-7b8d",
     "previous": "35c362a4-55a3-11e7-b0b2-00163e9c0e35-8-89a7-98f2-5cf2-bced-e1e5-d8a4-1d0d-86d3"
    }
   },
   "outputs": [],
   "source": [
    "!ansible -i $hosts -b -m shell -a 'hostname' ceph_admin"
   ]
  },
  {
   "cell_type": "code",
   "execution_count": null,
   "metadata": {
    "lc_cell_meme": {
     "current": "91d0d70c-61bd-11ee-89fa-0242ac120005-5-cbab-87c4-045c-c94f-7b8d",
     "history": [
      {
       "current": "91d0d70c-61bd-11ee-89fa-0242ac120005",
       "next": "ac56a252-95bd-11ea-8d02-0242ac120007-3-86ee-3a22-9a71",
       "previous": "21d849e2-dfd0-11eb-b29f-0242ac120008-1-ee1b"
      },
      {
       "current": "91d0d70c-61bd-11ee-89fa-0242ac120005-1-cbab",
       "next": "ac56a252-95bd-11ea-8d02-0242ac120007-3-86ee-3a22-9a71",
       "previous": "ef4d2888-aa17-11ea-9ad4-0242ac120006-2-42b7-b07a"
      },
      {
       "current": "91d0d70c-61bd-11ee-89fa-0242ac120005-2-cbab-87c4",
       "next": "ac56a252-95bd-11ea-8d02-0242ac120007-4-86ee-3a22-9a71-1cb5",
       "previous": "ef4d2888-aa17-11ea-9ad4-0242ac120006-3-42b7-b07a-59ae"
      },
      {
       "current": "91d0d70c-61bd-11ee-89fa-0242ac120005-3-cbab-87c4-045c",
       "next": "ac56a252-95bd-11ea-8d02-0242ac120007-5-86ee-3a22-9a71-1cb5-3636",
       "previous": "ef4d2888-aa17-11ea-9ad4-0242ac120006-4-42b7-b07a-59ae-d37a"
      },
      {
       "current": "91d0d70c-61bd-11ee-89fa-0242ac120005-4-cbab-87c4-045c-c94f",
       "next": "ac56a252-95bd-11ea-8d02-0242ac120007-6-86ee-3a22-9a71-1cb5-3636-d0bd",
       "previous": "ef4d2888-aa17-11ea-9ad4-0242ac120006-5-42b7-b07a-59ae-d37a-0f9e"
      },
      {
       "current": "91d0d70c-61bd-11ee-89fa-0242ac120005-5-cbab-87c4-045c-c94f-7b8d",
       "next": "ac56a252-95bd-11ea-8d02-0242ac120007-7-86ee-3a22-9a71-1cb5-3636-d0bd-9e1a",
       "previous": "ef4d2888-aa17-11ea-9ad4-0242ac120006-6-42b7-b07a-59ae-d37a-0f9e-51b2"
      }
     ],
     "next": "ac56a252-95bd-11ea-8d02-0242ac120007-8-86ee-3a22-9a71-1cb5-3636-d0bd-9e1a-0e77",
     "previous": "ef4d2888-aa17-11ea-9ad4-0242ac120006-7-42b7-b07a-59ae-d37a-0f9e-51b2-7bcd"
    }
   },
   "outputs": [],
   "source": [
    "!ansible -i $hosts -b -m shell -a 'hostname' bootstrap"
   ]
  },
  {
   "cell_type": "markdown",
   "metadata": {
    "lc_cell_meme": {
     "current": "ac56a252-95bd-11ea-8d02-0242ac120007-8-86ee-3a22-9a71-1cb5-3636-d0bd-9e1a-0e77",
     "history": [
      {
       "current": "ac56a252-95bd-11ea-8d02-0242ac120007-1-86ee",
       "next": "ac56a6c6-95bd-11ea-8d02-0242ac120007",
       "previous": "bd797188-910b-11ea-8d02-0242ac120007"
      },
      {
       "current": "ac56a252-95bd-11ea-8d02-0242ac120007-1-86ee",
       "next": "ac56a6c6-95bd-11ea-8d02-0242ac120007-1-431a",
       "previous": "bd797188-910b-11ea-8d02-0242ac120007-1-728a"
      },
      {
       "current": "ac56a252-95bd-11ea-8d02-0242ac120007-1-86ee",
       "next": "46b93d3e-95bc-11ea-8d02-0242ac120007-1-9f9c",
       "previous": "bd797188-910b-11ea-8d02-0242ac120007-1-728a"
      },
      {
       "current": "ac56a252-95bd-11ea-8d02-0242ac120007-2-86ee-3a22",
       "next": "46b93d3e-95bc-11ea-8d02-0242ac120007-1-9f9c",
       "previous": "ef4d2888-aa17-11ea-9ad4-0242ac120006"
      },
      {
       "current": "ac56a252-95bd-11ea-8d02-0242ac120007-2-86ee-3a22",
       "next": "46b93d3e-95bc-11ea-8d02-0242ac120007-2-9f9c-2f8b",
       "previous": "ef4d2888-aa17-11ea-9ad4-0242ac120006-1-42b7"
      },
      {
       "current": "ac56a252-95bd-11ea-8d02-0242ac120007-2-86ee-3a22",
       "next": "46b93d3e-95bc-11ea-8d02-0242ac120007-2-9f9c-2f8b",
       "previous": "bd797188-910b-11ea-8d02-0242ac120007-2-728a-254c"
      },
      {
       "current": "ac56a252-95bd-11ea-8d02-0242ac120007-3-86ee-3a22-9a71",
       "next": "46b93d3e-95bc-11ea-8d02-0242ac120007-2-9f9c-2f8b",
       "previous": "21d849e2-dfd0-11eb-b29f-0242ac120008"
      },
      {
       "current": "ac56a252-95bd-11ea-8d02-0242ac120007-3-86ee-3a22-9a71",
       "next": "46b93d3e-95bc-11ea-8d02-0242ac120007-3-9f9c-2f8b-fd5c",
       "previous": "21d849e2-dfd0-11eb-b29f-0242ac120008-1-ee1b"
      },
      {
       "current": "ac56a252-95bd-11ea-8d02-0242ac120007-3-86ee-3a22-9a71",
       "next": "1e5a5a54-4bb1-11ee-89fa-0242ac120005",
       "previous": "21d849e2-dfd0-11eb-b29f-0242ac120008-1-ee1b"
      },
      {
       "current": "ac56a252-95bd-11ea-8d02-0242ac120007-3-86ee-3a22-9a71",
       "next": "65e00220-4bb1-11ee-89fa-0242ac120005",
       "previous": "21d849e2-dfd0-11eb-b29f-0242ac120008-1-ee1b"
      },
      {
       "current": "ac56a252-95bd-11ea-8d02-0242ac120007-3-86ee-3a22-9a71",
       "next": "5d429cae-6191-11ee-89fa-0242ac120005",
       "previous": "21d849e2-dfd0-11eb-b29f-0242ac120008-1-ee1b"
      },
      {
       "current": "ac56a252-95bd-11ea-8d02-0242ac120007-3-86ee-3a22-9a71",
       "next": "5d429cae-6191-11ee-89fa-0242ac120005",
       "previous": "91d0d70c-61bd-11ee-89fa-0242ac120005"
      },
      {
       "current": "ac56a252-95bd-11ea-8d02-0242ac120007-3-86ee-3a22-9a71",
       "next": "d9541562-61bd-11ee-89fa-0242ac120005",
       "previous": "91d0d70c-61bd-11ee-89fa-0242ac120005"
      },
      {
       "current": "ac56a252-95bd-11ea-8d02-0242ac120007-3-86ee-3a22-9a71",
       "next": "43709838-6251-11ee-89fa-0242ac120005",
       "previous": "91d0d70c-61bd-11ee-89fa-0242ac120005"
      },
      {
       "current": "ac56a252-95bd-11ea-8d02-0242ac120007-4-86ee-3a22-9a71-1cb5",
       "next": "2060feb6-67f9-11ee-89fa-0242ac120005",
       "previous": "91d0d70c-61bd-11ee-89fa-0242ac120005"
      },
      {
       "current": "ac56a252-95bd-11ea-8d02-0242ac120007-4-86ee-3a22-9a71-1cb5",
       "next": "2060feb6-67f9-11ee-89fa-0242ac120005-1-cbf2",
       "previous": "91d0d70c-61bd-11ee-89fa-0242ac120005-1-cbab"
      },
      {
       "current": "ac56a252-95bd-11ea-8d02-0242ac120007-5-86ee-3a22-9a71-1cb5-3636",
       "next": "613a0496-9337-11ee-91d3-0242ac120006",
       "previous": "91d0d70c-61bd-11ee-89fa-0242ac120005-1-cbab"
      },
      {
       "current": "ac56a252-95bd-11ea-8d02-0242ac120007-6-86ee-3a22-9a71-1cb5-3636-d0bd",
       "next": "613a0496-9337-11ee-91d3-0242ac120006-1-a3ef",
       "previous": "91d0d70c-61bd-11ee-89fa-0242ac120005-2-cbab-87c4"
      },
      {
       "current": "ac56a252-95bd-11ea-8d02-0242ac120007-7-86ee-3a22-9a71-1cb5-3636-d0bd-9e1a",
       "next": "613a0496-9337-11ee-91d3-0242ac120006-2-a3ef-44f9",
       "previous": "91d0d70c-61bd-11ee-89fa-0242ac120005-3-cbab-87c4-045c"
      },
      {
       "current": "ac56a252-95bd-11ea-8d02-0242ac120007-8-86ee-3a22-9a71-1cb5-3636-d0bd-9e1a-0e77",
       "next": "613a0496-9337-11ee-91d3-0242ac120006-3-a3ef-44f9-bc20",
       "previous": "91d0d70c-61bd-11ee-89fa-0242ac120005-4-cbab-87c4-045c-c94f"
      }
     ],
     "next": "613a0496-9337-11ee-91d3-0242ac120006-4-a3ef-44f9-bc20-e36d",
     "previous": "91d0d70c-61bd-11ee-89fa-0242ac120005-5-cbab-87c4-045c-c94f-7b8d"
    }
   },
   "source": [
    "# カスタムイメージ登録"
   ]
  },
  {
   "cell_type": "code",
   "execution_count": null,
   "metadata": {
    "lc_cell_meme": {
     "current": "613a0496-9337-11ee-91d3-0242ac120006-4-a3ef-44f9-bc20-e36d",
     "history": [
      {
       "current": "613a0496-9337-11ee-91d3-0242ac120006-1-a3ef",
       "next": "2060feb6-67f9-11ee-89fa-0242ac120005-1-cbf2",
       "previous": "ac56a252-95bd-11ea-8d02-0242ac120007-4-86ee-3a22-9a71-1cb5"
      },
      {
       "current": "613a0496-9337-11ee-91d3-0242ac120006-2-a3ef-44f9",
       "next": "2060feb6-67f9-11ee-89fa-0242ac120005-2-cbf2-9f2f",
       "previous": "ac56a252-95bd-11ea-8d02-0242ac120007-5-86ee-3a22-9a71-1cb5-3636"
      },
      {
       "current": "613a0496-9337-11ee-91d3-0242ac120006-2-a3ef-44f9",
       "next": "2060feb6-67f9-11ee-89fa-0242ac120005-3-cbf2-9f2f-d3dc",
       "previous": "ac56a252-95bd-11ea-8d02-0242ac120007-6-86ee-3a22-9a71-1cb5-3636-d0bd"
      },
      {
       "current": "613a0496-9337-11ee-91d3-0242ac120006-3-a3ef-44f9-bc20",
       "next": "0abb804a-1cd5-11ef-ad2f-0242ac120005",
       "previous": "ac56a252-95bd-11ea-8d02-0242ac120007-6-86ee-3a22-9a71-1cb5-3636-d0bd"
      },
      {
       "current": "613a0496-9337-11ee-91d3-0242ac120006-4-a3ef-44f9-bc20-e36d",
       "next": "0abb804a-1cd5-11ef-ad2f-0242ac120005-1-ad7a",
       "previous": "ac56a252-95bd-11ea-8d02-0242ac120007-7-86ee-3a22-9a71-1cb5-3636-d0bd-9e1a"
      }
     ],
     "next": "0abb804a-1cd5-11ef-ad2f-0242ac120005-2-ad7a-aa5e",
     "previous": "ac56a252-95bd-11ea-8d02-0242ac120007-8-86ee-3a22-9a71-1cb5-3636-d0bd-9e1a-0e77"
    }
   },
   "outputs": [],
   "source": [
    "# カスタムイメージのTag設定\n",
    "prometheus_tag = \"v2.33.4\"\n",
    "grafana_tag = \"8.3.5\"\n",
    "alertmanager_tag = \"v0.23.0\"\n",
    "node_exporter_tag = \"latest\""
   ]
  },
  {
   "cell_type": "code",
   "execution_count": null,
   "metadata": {
    "lc_cell_meme": {
     "current": "0abb804a-1cd5-11ef-ad2f-0242ac120005-2-ad7a-aa5e",
     "history": [
      {
       "current": "0abb804a-1cd5-11ef-ad2f-0242ac120005-1-ad7a",
       "next": "2060feb6-67f9-11ee-89fa-0242ac120005-3-cbf2-9f2f-d3dc",
       "previous": "613a0496-9337-11ee-91d3-0242ac120006-2-a3ef-44f9"
      },
      {
       "current": "0abb804a-1cd5-11ef-ad2f-0242ac120005-2-ad7a-aa5e",
       "next": "2060feb6-67f9-11ee-89fa-0242ac120005-4-cbf2-9f2f-d3dc-8661",
       "previous": "613a0496-9337-11ee-91d3-0242ac120006-3-a3ef-44f9-bc20"
      }
     ],
     "next": "2060feb6-67f9-11ee-89fa-0242ac120005-5-cbf2-9f2f-d3dc-8661-d688",
     "previous": "613a0496-9337-11ee-91d3-0242ac120006-4-a3ef-44f9-bc20-e36d"
    }
   },
   "outputs": [],
   "source": [
    "repo_server = 'repository'"
   ]
  },
  {
   "cell_type": "code",
   "execution_count": null,
   "metadata": {
    "lc_cell_meme": {
     "current": "2060feb6-67f9-11ee-89fa-0242ac120005-5-cbf2-9f2f-d3dc-8661-d688",
     "history": [
      {
       "current": "2060feb6-67f9-11ee-89fa-0242ac120005-1-cbf2",
       "next": "206100d2-67f9-11ee-89fa-0242ac120005",
       "previous": "ac56a252-95bd-11ea-8d02-0242ac120007-3-86ee-3a22-9a71"
      },
      {
       "current": "2060feb6-67f9-11ee-89fa-0242ac120005-1-cbf2",
       "next": "206100d2-67f9-11ee-89fa-0242ac120005-1-ec1f",
       "previous": "ac56a252-95bd-11ea-8d02-0242ac120007-4-86ee-3a22-9a71-1cb5"
      },
      {
       "current": "2060feb6-67f9-11ee-89fa-0242ac120005-2-cbf2-9f2f",
       "next": "206100d2-67f9-11ee-89fa-0242ac120005-1-ec1f",
       "previous": "613a0496-9337-11ee-91d3-0242ac120006"
      },
      {
       "current": "2060feb6-67f9-11ee-89fa-0242ac120005-3-cbf2-9f2f-d3dc",
       "next": "206100d2-67f9-11ee-89fa-0242ac120005-2-ec1f-9e40",
       "previous": "613a0496-9337-11ee-91d3-0242ac120006-1-a3ef"
      },
      {
       "current": "2060feb6-67f9-11ee-89fa-0242ac120005-3-cbf2-9f2f-d3dc",
       "next": "206100d2-67f9-11ee-89fa-0242ac120005-3-ec1f-9e40-1bfe",
       "previous": "613a0496-9337-11ee-91d3-0242ac120006-2-a3ef-44f9"
      },
      {
       "current": "2060feb6-67f9-11ee-89fa-0242ac120005-4-cbf2-9f2f-d3dc-8661",
       "next": "206100d2-67f9-11ee-89fa-0242ac120005-3-ec1f-9e40-1bfe",
       "previous": "0abb804a-1cd5-11ef-ad2f-0242ac120005"
      },
      {
       "current": "2060feb6-67f9-11ee-89fa-0242ac120005-5-cbf2-9f2f-d3dc-8661-d688",
       "next": "206100d2-67f9-11ee-89fa-0242ac120005-4-ec1f-9e40-1bfe-84d4",
       "previous": "0abb804a-1cd5-11ef-ad2f-0242ac120005-1-ad7a"
      }
     ],
     "next": "206100d2-67f9-11ee-89fa-0242ac120005-5-ec1f-9e40-1bfe-84d4-458b",
     "previous": "0abb804a-1cd5-11ef-ad2f-0242ac120005-2-ad7a-aa5e"
    }
   },
   "outputs": [],
   "source": [
    "!ansible -i $hosts -b -m shell -a \"cephadm shell -- ceph config set mgr mgr/cephadm/container_image_prometheus $repo_server:5000/prometheus/prometheus:$prometheus_tag\" bootstrap"
   ]
  },
  {
   "cell_type": "code",
   "execution_count": null,
   "metadata": {
    "lc_cell_meme": {
     "current": "206100d2-67f9-11ee-89fa-0242ac120005-5-ec1f-9e40-1bfe-84d4-458b",
     "history": [
      {
       "current": "206100d2-67f9-11ee-89fa-0242ac120005-1-ec1f",
       "next": "20610172-67f9-11ee-89fa-0242ac120005",
       "previous": "2060feb6-67f9-11ee-89fa-0242ac120005"
      },
      {
       "current": "206100d2-67f9-11ee-89fa-0242ac120005-2-ec1f-9e40",
       "next": "20610172-67f9-11ee-89fa-0242ac120005-1-e39c",
       "previous": "2060feb6-67f9-11ee-89fa-0242ac120005-1-cbf2"
      },
      {
       "current": "206100d2-67f9-11ee-89fa-0242ac120005-3-ec1f-9e40-1bfe",
       "next": "20610172-67f9-11ee-89fa-0242ac120005-2-e39c-686e",
       "previous": "2060feb6-67f9-11ee-89fa-0242ac120005-2-cbf2-9f2f"
      },
      {
       "current": "206100d2-67f9-11ee-89fa-0242ac120005-4-ec1f-9e40-1bfe-84d4",
       "next": "20610172-67f9-11ee-89fa-0242ac120005-3-e39c-686e-e904",
       "previous": "2060feb6-67f9-11ee-89fa-0242ac120005-3-cbf2-9f2f-d3dc"
      },
      {
       "current": "206100d2-67f9-11ee-89fa-0242ac120005-5-ec1f-9e40-1bfe-84d4-458b",
       "next": "20610172-67f9-11ee-89fa-0242ac120005-4-e39c-686e-e904-f789",
       "previous": "2060feb6-67f9-11ee-89fa-0242ac120005-4-cbf2-9f2f-d3dc-8661"
      }
     ],
     "next": "20610172-67f9-11ee-89fa-0242ac120005-5-e39c-686e-e904-f789-065a",
     "previous": "2060feb6-67f9-11ee-89fa-0242ac120005-5-cbf2-9f2f-d3dc-8661-d688"
    }
   },
   "outputs": [],
   "source": [
    "!ansible -i $hosts -b -m shell -a \"cephadm shell -- ceph config set mgr mgr/cephadm/container_image_grafana $repo_server:5000/ceph/ceph-grafana:$grafana_tag\" bootstrap"
   ]
  },
  {
   "cell_type": "code",
   "execution_count": null,
   "metadata": {
    "lc_cell_meme": {
     "current": "20610172-67f9-11ee-89fa-0242ac120005-5-e39c-686e-e904-f789-065a",
     "history": [
      {
       "current": "20610172-67f9-11ee-89fa-0242ac120005-1-e39c",
       "next": "206101e0-67f9-11ee-89fa-0242ac120005",
       "previous": "206100d2-67f9-11ee-89fa-0242ac120005"
      },
      {
       "current": "20610172-67f9-11ee-89fa-0242ac120005-2-e39c-686e",
       "next": "206101e0-67f9-11ee-89fa-0242ac120005-1-1b0e",
       "previous": "206100d2-67f9-11ee-89fa-0242ac120005-1-ec1f"
      },
      {
       "current": "20610172-67f9-11ee-89fa-0242ac120005-3-e39c-686e-e904",
       "next": "206101e0-67f9-11ee-89fa-0242ac120005-2-1b0e-dca3",
       "previous": "206100d2-67f9-11ee-89fa-0242ac120005-2-ec1f-9e40"
      },
      {
       "current": "20610172-67f9-11ee-89fa-0242ac120005-4-e39c-686e-e904-f789",
       "next": "206101e0-67f9-11ee-89fa-0242ac120005-3-1b0e-dca3-d2c1",
       "previous": "206100d2-67f9-11ee-89fa-0242ac120005-3-ec1f-9e40-1bfe"
      },
      {
       "current": "20610172-67f9-11ee-89fa-0242ac120005-5-e39c-686e-e904-f789-065a",
       "next": "206101e0-67f9-11ee-89fa-0242ac120005-4-1b0e-dca3-d2c1-6ea8",
       "previous": "206100d2-67f9-11ee-89fa-0242ac120005-4-ec1f-9e40-1bfe-84d4"
      }
     ],
     "next": "206101e0-67f9-11ee-89fa-0242ac120005-5-1b0e-dca3-d2c1-6ea8-2c10",
     "previous": "206100d2-67f9-11ee-89fa-0242ac120005-5-ec1f-9e40-1bfe-84d4-458b"
    }
   },
   "outputs": [],
   "source": [
    "!ansible -i $hosts -b -m shell -a \"cephadm shell -- ceph config set mgr mgr/cephadm/container_image_alertmanager $repo_server:5000/prometheus/alertmanager:$alertmanager_tag\" bootstrap"
   ]
  },
  {
   "cell_type": "code",
   "execution_count": null,
   "metadata": {
    "lc_cell_meme": {
     "current": "206101e0-67f9-11ee-89fa-0242ac120005-5-1b0e-dca3-d2c1-6ea8-2c10",
     "history": [
      {
       "current": "206101e0-67f9-11ee-89fa-0242ac120005",
       "next": "43709838-6251-11ee-89fa-0242ac120005",
       "previous": "20610172-67f9-11ee-89fa-0242ac120005"
      },
      {
       "current": "206101e0-67f9-11ee-89fa-0242ac120005-1-1b0e",
       "next": "67e60a74-67f9-11ee-89fa-0242ac120005",
       "previous": "20610172-67f9-11ee-89fa-0242ac120005"
      },
      {
       "current": "206101e0-67f9-11ee-89fa-0242ac120005-2-1b0e-dca3",
       "next": "67e60a74-67f9-11ee-89fa-0242ac120005-1-0a6a",
       "previous": "20610172-67f9-11ee-89fa-0242ac120005-1-e39c"
      },
      {
       "current": "206101e0-67f9-11ee-89fa-0242ac120005-3-1b0e-dca3-d2c1",
       "next": "67e60a74-67f9-11ee-89fa-0242ac120005-2-0a6a-68c3",
       "previous": "20610172-67f9-11ee-89fa-0242ac120005-2-e39c-686e"
      },
      {
       "current": "206101e0-67f9-11ee-89fa-0242ac120005-4-1b0e-dca3-d2c1-6ea8",
       "next": "67e60a74-67f9-11ee-89fa-0242ac120005-3-0a6a-68c3-9a88",
       "previous": "20610172-67f9-11ee-89fa-0242ac120005-3-e39c-686e-e904"
      },
      {
       "current": "206101e0-67f9-11ee-89fa-0242ac120005-5-1b0e-dca3-d2c1-6ea8-2c10",
       "next": "67e60a74-67f9-11ee-89fa-0242ac120005-4-0a6a-68c3-9a88-e9af",
       "previous": "20610172-67f9-11ee-89fa-0242ac120005-4-e39c-686e-e904-f789"
      }
     ],
     "next": "67e60a74-67f9-11ee-89fa-0242ac120005-5-0a6a-68c3-9a88-e9af-a865",
     "previous": "20610172-67f9-11ee-89fa-0242ac120005-5-e39c-686e-e904-f789-065a"
    }
   },
   "outputs": [],
   "source": [
    "!ansible -i $hosts -b -m shell -a \"cephadm shell -- ceph config set mgr mgr/cephadm/container_image_node_exporter $repo_server:5000/prometheus/node-exporter:$node_exporter_tag\" bootstrap"
   ]
  },
  {
   "cell_type": "code",
   "execution_count": null,
   "metadata": {
    "lc_cell_meme": {
     "current": "67e60a74-67f9-11ee-89fa-0242ac120005-5-0a6a-68c3-9a88-e9af-a865",
     "history": [
      {
       "current": "67e60a74-67f9-11ee-89fa-0242ac120005-1-0a6a",
       "next": "35c581ba-55a3-11e7-b0b2-00163e9c0e35-3-f60b-133a-40ef",
       "previous": "206101e0-67f9-11ee-89fa-0242ac120005"
      },
      {
       "current": "67e60a74-67f9-11ee-89fa-0242ac120005-2-0a6a-68c3",
       "next": "35c581ba-55a3-11e7-b0b2-00163e9c0e35-4-f60b-133a-40ef-cfe4",
       "previous": "206101e0-67f9-11ee-89fa-0242ac120005-1-1b0e"
      },
      {
       "current": "67e60a74-67f9-11ee-89fa-0242ac120005-3-0a6a-68c3-9a88",
       "next": "35c581ba-55a3-11e7-b0b2-00163e9c0e35-5-f60b-133a-40ef-cfe4-0216",
       "previous": "206101e0-67f9-11ee-89fa-0242ac120005-2-1b0e-dca3"
      },
      {
       "current": "67e60a74-67f9-11ee-89fa-0242ac120005-4-0a6a-68c3-9a88-e9af",
       "next": "35c581ba-55a3-11e7-b0b2-00163e9c0e35-6-f60b-133a-40ef-cfe4-0216-0e8b",
       "previous": "206101e0-67f9-11ee-89fa-0242ac120005-3-1b0e-dca3-d2c1"
      },
      {
       "current": "67e60a74-67f9-11ee-89fa-0242ac120005-5-0a6a-68c3-9a88-e9af-a865",
       "next": "35c581ba-55a3-11e7-b0b2-00163e9c0e35-7-f60b-133a-40ef-cfe4-0216-0e8b-07fc",
       "previous": "206101e0-67f9-11ee-89fa-0242ac120005-4-1b0e-dca3-d2c1-6ea8"
      }
     ],
     "next": "35c581ba-55a3-11e7-b0b2-00163e9c0e35-8-f60b-133a-40ef-cfe4-0216-0e8b-07fc-d734",
     "previous": "206101e0-67f9-11ee-89fa-0242ac120005-5-1b0e-dca3-d2c1-6ea8-2c10"
    }
   },
   "outputs": [],
   "source": [
    "!ansible -i $hosts -b -m shell -a \"cephadm shell -- ceph config dump 2> /dev/null\" bootstrap"
   ]
  },
  {
   "cell_type": "markdown",
   "metadata": {
    "collapsed": true,
    "lc_cell_meme": {
     "current": "35c581ba-55a3-11e7-b0b2-00163e9c0e35-8-f60b-133a-40ef-cfe4-0216-0e8b-07fc-d734",
     "history": [
      {
       "current": "35c581ba-55a3-11e7-b0b2-00163e9c0e35",
       "next": "35c58340-55a3-11e7-b0b2-00163e9c0e35",
       "previous": "35c58034-55a3-11e7-b0b2-00163e9c0e35"
      },
      {
       "current": "35c581ba-55a3-11e7-b0b2-00163e9c0e35",
       "next": "35c58340-55a3-11e7-b0b2-00163e9c0e35",
       "previous": "35c51928-55a3-11e7-b0b2-00163e9c0e35"
      },
      {
       "current": "35c581ba-55a3-11e7-b0b2-00163e9c0e35",
       "next": "35c58340-55a3-11e7-b0b2-00163e9c0e35",
       "previous": "277a614c-47b9-11ea-a028-0242ac120005"
      },
      {
       "current": "35c581ba-55a3-11e7-b0b2-00163e9c0e35",
       "next": "35c58340-55a3-11e7-b0b2-00163e9c0e35",
       "previous": "35c51928-55a3-11e7-b0b2-00163e9c0e35"
      },
      {
       "current": "35c581ba-55a3-11e7-b0b2-00163e9c0e35",
       "next": "35c58340-55a3-11e7-b0b2-00163e9c0e35",
       "previous": "b8a85906-47b6-11ea-a028-0242ac120005"
      },
      {
       "current": "35c581ba-55a3-11e7-b0b2-00163e9c0e35",
       "next": "35c58340-55a3-11e7-b0b2-00163e9c0e35",
       "previous": "35c38fae-55a3-11e7-b0b2-00163e9c0e35"
      },
      {
       "current": "35c581ba-55a3-11e7-b0b2-00163e9c0e35",
       "next": "35c58340-55a3-11e7-b0b2-00163e9c0e35",
       "previous": "35c385a4-55a3-11e7-b0b2-00163e9c0e35"
      },
      {
       "current": "35c581ba-55a3-11e7-b0b2-00163e9c0e35",
       "next": "35c58340-55a3-11e7-b0b2-00163e9c0e35",
       "previous": "27c39180-935b-11ea-8d02-0242ac120007"
      },
      {
       "current": "35c581ba-55a3-11e7-b0b2-00163e9c0e35",
       "next": "35c58340-55a3-11e7-b0b2-00163e9c0e35",
       "previous": "35c385a4-55a3-11e7-b0b2-00163e9c0e35"
      },
      {
       "current": "35c581ba-55a3-11e7-b0b2-00163e9c0e35",
       "next": "35c58340-55a3-11e7-b0b2-00163e9c0e35",
       "previous": "b20d6ace-9684-11ea-8d02-0242ac120007"
      },
      {
       "current": "35c581ba-55a3-11e7-b0b2-00163e9c0e35",
       "next": "35c58340-55a3-11e7-b0b2-00163e9c0e35",
       "previous": "18b837c6-9686-11ea-8d02-0242ac120007"
      },
      {
       "current": "35c581ba-55a3-11e7-b0b2-00163e9c0e35",
       "next": "35c58340-55a3-11e7-b0b2-00163e9c0e35",
       "previous": "59de09f6-9686-11ea-8d02-0242ac120007"
      },
      {
       "current": "35c581ba-55a3-11e7-b0b2-00163e9c0e35",
       "next": "35c58340-55a3-11e7-b0b2-00163e9c0e35",
       "previous": "7dae8b30-9686-11ea-8d02-0242ac120007"
      },
      {
       "current": "35c581ba-55a3-11e7-b0b2-00163e9c0e35",
       "next": "35c58340-55a3-11e7-b0b2-00163e9c0e35",
       "previous": "789942dc-9692-11ea-8d02-0242ac120007"
      },
      {
       "current": "35c581ba-55a3-11e7-b0b2-00163e9c0e35",
       "next": "35c58340-55a3-11e7-b0b2-00163e9c0e35",
       "previous": "e95d003a-9697-11ea-8d02-0242ac120007"
      },
      {
       "current": "35c581ba-55a3-11e7-b0b2-00163e9c0e35",
       "next": "35c58340-55a3-11e7-b0b2-00163e9c0e35",
       "previous": "357fc83a-969d-11ea-8d02-0242ac120007"
      },
      {
       "current": "35c581ba-55a3-11e7-b0b2-00163e9c0e35",
       "next": "35c58340-55a3-11e7-b0b2-00163e9c0e35",
       "previous": "7dae86da-9686-11ea-8d02-0242ac120007"
      },
      {
       "current": "35c581ba-55a3-11e7-b0b2-00163e9c0e35",
       "next": "35c58340-55a3-11e7-b0b2-00163e9c0e35",
       "previous": "49102d8c-98a9-11ea-8d02-0242ac120007"
      },
      {
       "current": "35c581ba-55a3-11e7-b0b2-00163e9c0e35",
       "next": "35c58340-55a3-11e7-b0b2-00163e9c0e35",
       "previous": "dbe917aa-9984-11ea-8d02-0242ac120007"
      },
      {
       "current": "35c581ba-55a3-11e7-b0b2-00163e9c0e35",
       "next": "35c58340-55a3-11e7-b0b2-00163e9c0e35",
       "previous": "f9f7c1a0-9985-11ea-8d02-0242ac120007"
      },
      {
       "current": "35c581ba-55a3-11e7-b0b2-00163e9c0e35",
       "next": "35c58340-55a3-11e7-b0b2-00163e9c0e35",
       "previous": "4180e646-9986-11ea-8d02-0242ac120007"
      },
      {
       "current": "35c581ba-55a3-11e7-b0b2-00163e9c0e35",
       "next": "35c58340-55a3-11e7-b0b2-00163e9c0e35",
       "previous": "eea7aafc-9987-11ea-8d02-0242ac120007"
      },
      {
       "current": "35c581ba-55a3-11e7-b0b2-00163e9c0e35",
       "next": "35c58340-55a3-11e7-b0b2-00163e9c0e35",
       "previous": "7db36be6-9988-11ea-8d02-0242ac120007"
      },
      {
       "current": "35c581ba-55a3-11e7-b0b2-00163e9c0e35",
       "next": "35c58340-55a3-11e7-b0b2-00163e9c0e35",
       "previous": "7db36a7e-9988-11ea-8d02-0242ac120007"
      },
      {
       "current": "35c581ba-55a3-11e7-b0b2-00163e9c0e35",
       "next": "35c58340-55a3-11e7-b0b2-00163e9c0e35",
       "previous": "f3e7d364-998e-11ea-8d02-0242ac120007"
      },
      {
       "current": "35c581ba-55a3-11e7-b0b2-00163e9c0e35-1-f60b",
       "next": "35c58340-55a3-11e7-b0b2-00163e9c0e35",
       "previous": "b0a33f46-98ce-11ea-8d02-0242ac120007"
      },
      {
       "current": "35c581ba-55a3-11e7-b0b2-00163e9c0e35-2-f60b-133a",
       "next": "35c58340-55a3-11e7-b0b2-00163e9c0e35-1-c0ce",
       "previous": "b0a33f46-98ce-11ea-8d02-0242ac120007-1-1e51"
      },
      {
       "current": "35c581ba-55a3-11e7-b0b2-00163e9c0e35-2-f60b-133a",
       "next": "35c58340-55a3-11e7-b0b2-00163e9c0e35-2-c0ce-9618",
       "previous": "b0a33f46-98ce-11ea-8d02-0242ac120007-2-1e51-b1e8"
      },
      {
       "current": "35c581ba-55a3-11e7-b0b2-00163e9c0e35-2-f60b-133a",
       "next": "35c58340-55a3-11e7-b0b2-00163e9c0e35-2-c0ce-9618",
       "previous": "d0769ffa-98bc-11ea-8d02-0242ac120007-2-9994-0723"
      },
      {
       "current": "35c581ba-55a3-11e7-b0b2-00163e9c0e35-2-f60b-133a",
       "next": "35c58340-55a3-11e7-b0b2-00163e9c0e35-2-c0ce-9618",
       "previous": "bc16cb02-dfce-11eb-b29f-0242ac120008"
      },
      {
       "current": "35c581ba-55a3-11e7-b0b2-00163e9c0e35-2-f60b-133a",
       "next": "35c58340-55a3-11e7-b0b2-00163e9c0e35-2-c0ce-9618",
       "previous": "7cf7d994-f4ea-11eb-b29f-0242ac120008"
      },
      {
       "current": "35c581ba-55a3-11e7-b0b2-00163e9c0e35-2-f60b-133a",
       "next": "35c58340-55a3-11e7-b0b2-00163e9c0e35-2-c0ce-9618",
       "previous": "204647a2-f4eb-11eb-b29f-0242ac120008"
      },
      {
       "current": "35c581ba-55a3-11e7-b0b2-00163e9c0e35-2-f60b-133a",
       "next": "35c58340-55a3-11e7-b0b2-00163e9c0e35-2-c0ce-9618",
       "previous": "798c29c4-9a06-11ec-a1da-0242ac120004"
      },
      {
       "current": "35c581ba-55a3-11e7-b0b2-00163e9c0e35-3-f60b-133a-40ef",
       "next": "35c58340-55a3-11e7-b0b2-00163e9c0e35-2-c0ce-9618",
       "previous": "204647a2-f4eb-11eb-b29f-0242ac120008"
      },
      {
       "current": "35c581ba-55a3-11e7-b0b2-00163e9c0e35-3-f60b-133a-40ef",
       "next": "35c58340-55a3-11e7-b0b2-00163e9c0e35-3-c0ce-9618-7032",
       "previous": "204647a2-f4eb-11eb-b29f-0242ac120008-1-10f9"
      },
      {
       "current": "35c581ba-55a3-11e7-b0b2-00163e9c0e35-3-f60b-133a-40ef",
       "next": "35c58340-55a3-11e7-b0b2-00163e9c0e35-3-c0ce-9618-7032",
       "previous": "3c6cb112-4bb2-11ee-89fa-0242ac120005"
      },
      {
       "current": "35c581ba-55a3-11e7-b0b2-00163e9c0e35-3-f60b-133a-40ef",
       "next": "35c58340-55a3-11e7-b0b2-00163e9c0e35-3-c0ce-9618-7032",
       "previous": "d619a970-6195-11ee-89fa-0242ac120005"
      },
      {
       "current": "35c581ba-55a3-11e7-b0b2-00163e9c0e35-3-f60b-133a-40ef",
       "next": "35c58340-55a3-11e7-b0b2-00163e9c0e35-3-c0ce-9618-7032",
       "previous": "d954180a-61bd-11ee-89fa-0242ac120005"
      },
      {
       "current": "35c581ba-55a3-11e7-b0b2-00163e9c0e35-3-f60b-133a-40ef",
       "next": "35c58340-55a3-11e7-b0b2-00163e9c0e35-3-c0ce-9618-7032",
       "previous": "0fca55a2-6254-11ee-89fa-0242ac120005"
      },
      {
       "current": "35c581ba-55a3-11e7-b0b2-00163e9c0e35-4-f60b-133a-40ef-cfe4",
       "next": "35c58340-55a3-11e7-b0b2-00163e9c0e35-3-c0ce-9618-7032",
       "previous": "67e60a74-67f9-11ee-89fa-0242ac120005"
      },
      {
       "current": "35c581ba-55a3-11e7-b0b2-00163e9c0e35-5-f60b-133a-40ef-cfe4-0216",
       "next": "35c58340-55a3-11e7-b0b2-00163e9c0e35-4-c0ce-9618-7032-883a",
       "previous": "67e60a74-67f9-11ee-89fa-0242ac120005-1-0a6a"
      },
      {
       "current": "35c581ba-55a3-11e7-b0b2-00163e9c0e35-6-f60b-133a-40ef-cfe4-0216-0e8b",
       "next": "35c58340-55a3-11e7-b0b2-00163e9c0e35-5-c0ce-9618-7032-883a-57c5",
       "previous": "67e60a74-67f9-11ee-89fa-0242ac120005-2-0a6a-68c3"
      },
      {
       "current": "35c581ba-55a3-11e7-b0b2-00163e9c0e35-7-f60b-133a-40ef-cfe4-0216-0e8b-07fc",
       "next": "35c58340-55a3-11e7-b0b2-00163e9c0e35-6-c0ce-9618-7032-883a-57c5-8770",
       "previous": "67e60a74-67f9-11ee-89fa-0242ac120005-3-0a6a-68c3-9a88"
      },
      {
       "current": "35c581ba-55a3-11e7-b0b2-00163e9c0e35-8-f60b-133a-40ef-cfe4-0216-0e8b-07fc-d734",
       "next": "35c58340-55a3-11e7-b0b2-00163e9c0e35-7-c0ce-9618-7032-883a-57c5-8770-c1d9",
       "previous": "67e60a74-67f9-11ee-89fa-0242ac120005-4-0a6a-68c3-9a88-e9af"
      }
     ],
     "next": "35c58340-55a3-11e7-b0b2-00163e9c0e35-8-c0ce-9618-7032-883a-57c5-8770-c1d9-7f0a",
     "previous": "67e60a74-67f9-11ee-89fa-0242ac120005-5-0a6a-68c3-9a88-e9af-a865"
    }
   },
   "source": [
    "# 後始末\n",
    "\n",
    "一時ディレクトリを削除する。"
   ]
  },
  {
   "cell_type": "code",
   "execution_count": null,
   "metadata": {
    "ExecuteTime": {
     "end_time": "2017-06-29T08:01:20.617274Z",
     "start_time": "2017-06-29T08:01:20.466671Z"
    },
    "lc_cell_meme": {
     "current": "35c58340-55a3-11e7-b0b2-00163e9c0e35-8-c0ce-9618-7032-883a-57c5-8770-c1d9-7f0a",
     "history": [
      {
       "current": "35c58340-55a3-11e7-b0b2-00163e9c0e35",
       "next": null,
       "previous": "35c581ba-55a3-11e7-b0b2-00163e9c0e35"
      },
      {
       "current": "35c58340-55a3-11e7-b0b2-00163e9c0e35-1-c0ce",
       "next": "c4bd8ce4-5749-11e7-b0b2-00163e9c0e35",
       "previous": "35c581ba-55a3-11e7-b0b2-00163e9c0e35"
      },
      {
       "current": "35c58340-55a3-11e7-b0b2-00163e9c0e35-2-c0ce-9618",
       "next": "c4bd8ce4-5749-11e7-b0b2-00163e9c0e35-1-6c35",
       "previous": "35c581ba-55a3-11e7-b0b2-00163e9c0e35-1-f60b"
      },
      {
       "current": "35c58340-55a3-11e7-b0b2-00163e9c0e35-3-c0ce-9618-7032",
       "next": "c4bd8ce4-5749-11e7-b0b2-00163e9c0e35-2-6c35-ebfb",
       "previous": "35c581ba-55a3-11e7-b0b2-00163e9c0e35-2-f60b-133a"
      },
      {
       "current": "35c58340-55a3-11e7-b0b2-00163e9c0e35-4-c0ce-9618-7032-883a",
       "next": "c4bd8ce4-5749-11e7-b0b2-00163e9c0e35-3-6c35-ebfb-793f",
       "previous": "35c581ba-55a3-11e7-b0b2-00163e9c0e35-3-f60b-133a-40ef"
      },
      {
       "current": "35c58340-55a3-11e7-b0b2-00163e9c0e35-5-c0ce-9618-7032-883a-57c5",
       "next": "c4bd8ce4-5749-11e7-b0b2-00163e9c0e35-4-6c35-ebfb-793f-9035",
       "previous": "35c581ba-55a3-11e7-b0b2-00163e9c0e35-4-f60b-133a-40ef-cfe4"
      },
      {
       "current": "35c58340-55a3-11e7-b0b2-00163e9c0e35-6-c0ce-9618-7032-883a-57c5-8770",
       "next": "c4bd8ce4-5749-11e7-b0b2-00163e9c0e35-5-6c35-ebfb-793f-9035-6035",
       "previous": "35c581ba-55a3-11e7-b0b2-00163e9c0e35-5-f60b-133a-40ef-cfe4-0216"
      },
      {
       "current": "35c58340-55a3-11e7-b0b2-00163e9c0e35-7-c0ce-9618-7032-883a-57c5-8770-c1d9",
       "next": "c4bd8ce4-5749-11e7-b0b2-00163e9c0e35-6-6c35-ebfb-793f-9035-6035-f94f",
       "previous": "35c581ba-55a3-11e7-b0b2-00163e9c0e35-6-f60b-133a-40ef-cfe4-0216-0e8b"
      },
      {
       "current": "35c58340-55a3-11e7-b0b2-00163e9c0e35-8-c0ce-9618-7032-883a-57c5-8770-c1d9-7f0a",
       "next": "c4bd8ce4-5749-11e7-b0b2-00163e9c0e35-7-6c35-ebfb-793f-9035-6035-f94f-8d45",
       "previous": "35c581ba-55a3-11e7-b0b2-00163e9c0e35-7-f60b-133a-40ef-cfe4-0216-0e8b-07fc"
      }
     ],
     "next": "c4bd8ce4-5749-11e7-b0b2-00163e9c0e35-8-6c35-ebfb-793f-9035-6035-f94f-8d45-ab6f",
     "previous": "35c581ba-55a3-11e7-b0b2-00163e9c0e35-8-f60b-133a-40ef-cfe4-0216-0e8b-07fc-d734"
    }
   },
   "outputs": [],
   "source": [
    "!rm -fr $temp_dir"
   ]
  },
  {
   "cell_type": "code",
   "execution_count": null,
   "metadata": {
    "lc_cell_meme": {
     "current": "c4bd8ce4-5749-11e7-b0b2-00163e9c0e35-8-6c35-ebfb-793f-9035-6035-f94f-8d45-ab6f",
     "history": [
      {
       "current": "c4bd8ce4-5749-11e7-b0b2-00163e9c0e35-1-6c35",
       "next": null,
       "previous": "35c58340-55a3-11e7-b0b2-00163e9c0e35"
      },
      {
       "current": "c4bd8ce4-5749-11e7-b0b2-00163e9c0e35-2-6c35-ebfb",
       "next": null,
       "previous": "35c58340-55a3-11e7-b0b2-00163e9c0e35-1-c0ce"
      },
      {
       "current": "c4bd8ce4-5749-11e7-b0b2-00163e9c0e35-3-6c35-ebfb-793f",
       "next": null,
       "previous": "35c58340-55a3-11e7-b0b2-00163e9c0e35-2-c0ce-9618"
      },
      {
       "current": "c4bd8ce4-5749-11e7-b0b2-00163e9c0e35-4-6c35-ebfb-793f-9035",
       "next": null,
       "previous": "35c58340-55a3-11e7-b0b2-00163e9c0e35-3-c0ce-9618-7032"
      },
      {
       "current": "c4bd8ce4-5749-11e7-b0b2-00163e9c0e35-5-6c35-ebfb-793f-9035-6035",
       "next": null,
       "previous": "35c58340-55a3-11e7-b0b2-00163e9c0e35-4-c0ce-9618-7032-883a"
      },
      {
       "current": "c4bd8ce4-5749-11e7-b0b2-00163e9c0e35-6-6c35-ebfb-793f-9035-6035-f94f",
       "next": null,
       "previous": "35c58340-55a3-11e7-b0b2-00163e9c0e35-5-c0ce-9618-7032-883a-57c5"
      },
      {
       "current": "c4bd8ce4-5749-11e7-b0b2-00163e9c0e35-7-6c35-ebfb-793f-9035-6035-f94f-8d45",
       "next": null,
       "previous": "35c58340-55a3-11e7-b0b2-00163e9c0e35-6-c0ce-9618-7032-883a-57c5-8770"
      },
      {
       "current": "c4bd8ce4-5749-11e7-b0b2-00163e9c0e35-8-6c35-ebfb-793f-9035-6035-f94f-8d45-ab6f",
       "next": null,
       "previous": "35c58340-55a3-11e7-b0b2-00163e9c0e35-7-c0ce-9618-7032-883a-57c5-8770-c1d9"
      }
     ],
     "next": null,
     "previous": "35c58340-55a3-11e7-b0b2-00163e9c0e35-8-c0ce-9618-7032-883a-57c5-8770-c1d9-7f0a"
    }
   },
   "outputs": [],
   "source": []
  }
 ],
 "metadata": {
  "kernelspec": {
   "display_name": "Python 3",
   "language": "python",
   "name": "python3"
  },
  "language_info": {
   "file_extension": ".py",
   "mimetype": "text/x-python",
   "name": "python",
   "nbconvert_exporter": "python",
   "pygments_lexer": "ipython3",
   "version": "3.10.4"
  },
  "lc_notebook_meme": {
   "current": "35c33086-55a3-11e7-b0b2-00163e9c0e35"
  },
  "toc": {
   "base_numbering": 1,
   "nav_menu": {
    "height": "484px",
    "width": "687px"
   },
   "number_sections": true,
   "sideBar": true,
   "skip_h1_title": false,
   "title_cell": "Table of Contents",
   "title_sidebar": "Contents",
   "toc_cell": false,
   "toc_position": {
    "height": "1156px",
    "left": "0px",
    "right": "1330px",
    "top": "106px",
    "width": "340.983px"
   },
   "toc_section_display": "block",
   "toc_window_display": true
  }
 },
 "nbformat": 4,
 "nbformat_minor": 1
}
