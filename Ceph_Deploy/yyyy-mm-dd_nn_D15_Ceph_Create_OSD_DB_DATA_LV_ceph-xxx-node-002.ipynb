{
 "cells": [
  {
   "cell_type": "markdown",
   "metadata": {
    "collapsed": true,
    "lc_cell_meme": {
     "current": "35c33414-55a3-11e7-b0b2-00163e9c0e35-7-1c66-a2f2-c296-02e2-f8f8-5df8-dbbe",
     "history": [
      {
       "current": "35c33414-55a3-11e7-b0b2-00163e9c0e35",
       "next": "35c33626-55a3-11e7-b0b2-00163e9c0e35",
       "previous": null
      },
      {
       "current": "35c33414-55a3-11e7-b0b2-00163e9c0e35",
       "next": "35c33626-55a3-11e7-b0b2-00163e9c0e35",
       "previous": null
      },
      {
       "current": "35c33414-55a3-11e7-b0b2-00163e9c0e35",
       "next": "35c33626-55a3-11e7-b0b2-00163e9c0e35",
       "previous": "0db87670-9586-11ea-8d02-0242ac120007"
      },
      {
       "current": "35c33414-55a3-11e7-b0b2-00163e9c0e35-1-1c66",
       "next": "35c337f2-55a3-11e7-b0b2-00163e9c0e35",
       "previous": null
      },
      {
       "current": "35c33414-55a3-11e7-b0b2-00163e9c0e35-2-1c66-a2f2",
       "next": "35c337f2-55a3-11e7-b0b2-00163e9c0e35-1-dc7a",
       "previous": null
      },
      {
       "current": "35c33414-55a3-11e7-b0b2-00163e9c0e35-3-1c66-a2f2-c296",
       "next": "35c337f2-55a3-11e7-b0b2-00163e9c0e35-2-dc7a-5832",
       "previous": null
      },
      {
       "current": "35c33414-55a3-11e7-b0b2-00163e9c0e35-4-1c66-a2f2-c296-02e2",
       "next": "37fd6298-56f9-11ec-a1da-0242ac120004-2-399a-70a1",
       "previous": null
      },
      {
       "current": "35c33414-55a3-11e7-b0b2-00163e9c0e35-5-1c66-a2f2-c296-02e2-f8f8",
       "next": "37fd6298-56f9-11ec-a1da-0242ac120004-3-399a-70a1-f23d",
       "previous": null
      },
      {
       "current": "35c33414-55a3-11e7-b0b2-00163e9c0e35-6-1c66-a2f2-c296-02e2-f8f8-5df8",
       "next": "37fd6298-56f9-11ec-a1da-0242ac120004-4-399a-70a1-f23d-be09",
       "previous": null
      },
      {
       "current": "35c33414-55a3-11e7-b0b2-00163e9c0e35-7-1c66-a2f2-c296-02e2-f8f8-5df8-dbbe",
       "next": "37fd6298-56f9-11ec-a1da-0242ac120004-5-399a-70a1-f23d-be09-56cc",
       "previous": null
      }
     ],
     "next": "37fd6298-56f9-11ec-a1da-0242ac120004-6-399a-70a1-f23d-be09-56cc-e200",
     "previous": null
    }
   },
   "source": [
    "# Cephノード構築：OSD用LVの生成\n",
    "CepnクラスタにOSD用のLVを生成"
   ]
  },
  {
   "cell_type": "markdown",
   "metadata": {
    "lc_cell_meme": {
     "current": "37fd6298-56f9-11ec-a1da-0242ac120004-6-399a-70a1-f23d-be09-56cc-e200",
     "history": [
      {
       "current": "37fd6298-56f9-11ec-a1da-0242ac120004-1-399a",
       "next": "37fd65a4-56f9-11ec-a1da-0242ac120004",
       "previous": "35c337f2-55a3-11e7-b0b2-00163e9c0e35-1-dc7a"
      },
      {
       "current": "37fd6298-56f9-11ec-a1da-0242ac120004-2-399a-70a1",
       "next": "37fd65a4-56f9-11ec-a1da-0242ac120004-1-0c3c",
       "previous": "35c337f2-55a3-11e7-b0b2-00163e9c0e35-2-dc7a-5832"
      },
      {
       "current": "37fd6298-56f9-11ec-a1da-0242ac120004-3-399a-70a1-f23d",
       "next": "37fd65a4-56f9-11ec-a1da-0242ac120004-2-0c3c-8ab8",
       "previous": "35c33414-55a3-11e7-b0b2-00163e9c0e35-3-1c66-a2f2-c296"
      },
      {
       "current": "37fd6298-56f9-11ec-a1da-0242ac120004-4-399a-70a1-f23d-be09",
       "next": "37fd65a4-56f9-11ec-a1da-0242ac120004-3-0c3c-8ab8-71ef",
       "previous": "35c33414-55a3-11e7-b0b2-00163e9c0e35-4-1c66-a2f2-c296-02e2"
      },
      {
       "current": "37fd6298-56f9-11ec-a1da-0242ac120004-5-399a-70a1-f23d-be09-56cc",
       "next": "37fd65a4-56f9-11ec-a1da-0242ac120004-4-0c3c-8ab8-71ef-9ec4",
       "previous": "35c33414-55a3-11e7-b0b2-00163e9c0e35-5-1c66-a2f2-c296-02e2-f8f8"
      },
      {
       "current": "37fd6298-56f9-11ec-a1da-0242ac120004-6-399a-70a1-f23d-be09-56cc-e200",
       "next": "37fd65a4-56f9-11ec-a1da-0242ac120004-5-0c3c-8ab8-71ef-9ec4-1459",
       "previous": "35c33414-55a3-11e7-b0b2-00163e9c0e35-6-1c66-a2f2-c296-02e2-f8f8-5df8"
      }
     ],
     "next": "37fd65a4-56f9-11ec-a1da-0242ac120004-6-0c3c-8ab8-71ef-9ec4-1459-c123",
     "previous": "35c33414-55a3-11e7-b0b2-00163e9c0e35-7-1c66-a2f2-c296-02e2-f8f8-5df8-dbbe"
    }
   },
   "source": [
    "# パラメータ定義"
   ]
  },
  {
   "cell_type": "markdown",
   "metadata": {
    "lc_cell_meme": {
     "current": "37fd65a4-56f9-11ec-a1da-0242ac120004-6-0c3c-8ab8-71ef-9ec4-1459-c123",
     "history": [
      {
       "current": "37fd65a4-56f9-11ec-a1da-0242ac120004-1-0c3c",
       "next": "37fd681a-56f9-11ec-a1da-0242ac120004",
       "previous": "37fd6298-56f9-11ec-a1da-0242ac120004"
      },
      {
       "current": "37fd65a4-56f9-11ec-a1da-0242ac120004-2-0c3c-8ab8",
       "next": "37fd681a-56f9-11ec-a1da-0242ac120004-1-b4aa",
       "previous": "37fd6298-56f9-11ec-a1da-0242ac120004-1-399a"
      },
      {
       "current": "37fd65a4-56f9-11ec-a1da-0242ac120004-3-0c3c-8ab8-71ef",
       "next": "37fd681a-56f9-11ec-a1da-0242ac120004-2-b4aa-f569",
       "previous": "37fd6298-56f9-11ec-a1da-0242ac120004-2-399a-70a1"
      },
      {
       "current": "37fd65a4-56f9-11ec-a1da-0242ac120004-4-0c3c-8ab8-71ef-9ec4",
       "next": "37fd681a-56f9-11ec-a1da-0242ac120004-3-b4aa-f569-994f",
       "previous": "37fd6298-56f9-11ec-a1da-0242ac120004-3-399a-70a1-f23d"
      },
      {
       "current": "37fd65a4-56f9-11ec-a1da-0242ac120004-5-0c3c-8ab8-71ef-9ec4-1459",
       "next": "37fd681a-56f9-11ec-a1da-0242ac120004-4-b4aa-f569-994f-2359",
       "previous": "37fd6298-56f9-11ec-a1da-0242ac120004-4-399a-70a1-f23d-be09"
      },
      {
       "current": "37fd65a4-56f9-11ec-a1da-0242ac120004-6-0c3c-8ab8-71ef-9ec4-1459-c123",
       "next": "37fd681a-56f9-11ec-a1da-0242ac120004-5-b4aa-f569-994f-2359-faac",
       "previous": "37fd6298-56f9-11ec-a1da-0242ac120004-5-399a-70a1-f23d-be09-56cc"
      }
     ],
     "next": "37fd681a-56f9-11ec-a1da-0242ac120004-6-b4aa-f569-994f-2359-faac-3348",
     "previous": "37fd6298-56f9-11ec-a1da-0242ac120004-6-399a-70a1-f23d-be09-56cc-e200"
    }
   },
   "source": [
    "## パラメータファイル設定"
   ]
  },
  {
   "cell_type": "markdown",
   "metadata": {
    "lc_cell_meme": {
     "current": "37fd681a-56f9-11ec-a1da-0242ac120004-6-b4aa-f569-994f-2359-faac-3348",
     "history": [
      {
       "current": "37fd681a-56f9-11ec-a1da-0242ac120004-1-b4aa",
       "next": "37fd6996-56f9-11ec-a1da-0242ac120004",
       "previous": "37fd65a4-56f9-11ec-a1da-0242ac120004"
      },
      {
       "current": "37fd681a-56f9-11ec-a1da-0242ac120004-2-b4aa-f569",
       "next": "37fd6996-56f9-11ec-a1da-0242ac120004-1-d6f6",
       "previous": "37fd65a4-56f9-11ec-a1da-0242ac120004-1-0c3c"
      },
      {
       "current": "37fd681a-56f9-11ec-a1da-0242ac120004-3-b4aa-f569-994f",
       "next": "37fd6996-56f9-11ec-a1da-0242ac120004-2-d6f6-36cb",
       "previous": "37fd65a4-56f9-11ec-a1da-0242ac120004-2-0c3c-8ab8"
      },
      {
       "current": "37fd681a-56f9-11ec-a1da-0242ac120004-4-b4aa-f569-994f-2359",
       "next": "37fd6996-56f9-11ec-a1da-0242ac120004-3-d6f6-36cb-0976",
       "previous": "37fd65a4-56f9-11ec-a1da-0242ac120004-3-0c3c-8ab8-71ef"
      },
      {
       "current": "37fd681a-56f9-11ec-a1da-0242ac120004-5-b4aa-f569-994f-2359-faac",
       "next": "b91ec462-1cc1-11ef-ad2f-0242ac120005",
       "previous": "37fd65a4-56f9-11ec-a1da-0242ac120004-4-0c3c-8ab8-71ef-9ec4"
      },
      {
       "current": "37fd681a-56f9-11ec-a1da-0242ac120004-6-b4aa-f569-994f-2359-faac-3348",
       "next": "b91ec462-1cc1-11ef-ad2f-0242ac120005-1-73a8",
       "previous": "37fd65a4-56f9-11ec-a1da-0242ac120004-5-0c3c-8ab8-71ef-9ec4-1459"
      }
     ],
     "next": "b91ec462-1cc1-11ef-ad2f-0242ac120005-2-73a8-e762",
     "previous": "37fd65a4-56f9-11ec-a1da-0242ac120004-6-0c3c-8ab8-71ef-9ec4-1459-c123"
    }
   },
   "source": [
    "Cephクラスタの定義ファイルを指定するため、<br>\n",
    "パラメータ定義格納ディレクトリを表示する。"
   ]
  },
  {
   "cell_type": "code",
   "execution_count": null,
   "metadata": {
    "lc_cell_meme": {
     "current": "b91ec462-1cc1-11ef-ad2f-0242ac120005-2-73a8-e762",
     "history": [
      {
       "current": "b91ec462-1cc1-11ef-ad2f-0242ac120005-1-73a8",
       "next": "b91ec552-1cc1-11ef-ad2f-0242ac120005",
       "previous": "37fd681a-56f9-11ec-a1da-0242ac120004-4-b4aa-f569-994f-2359"
      },
      {
       "current": "b91ec462-1cc1-11ef-ad2f-0242ac120005-2-73a8-e762",
       "next": "b91ec552-1cc1-11ef-ad2f-0242ac120005-1-dda0",
       "previous": "37fd681a-56f9-11ec-a1da-0242ac120004-5-b4aa-f569-994f-2359-faac"
      }
     ],
     "next": "b91ec552-1cc1-11ef-ad2f-0242ac120005-2-dda0-39d0",
     "previous": "37fd681a-56f9-11ec-a1da-0242ac120004-6-b4aa-f569-994f-2359-faac-3348"
    }
   },
   "outputs": [],
   "source": [
    "!ls -p ~/notebooks/share/ | grep \"/$\""
   ]
  },
  {
   "cell_type": "code",
   "execution_count": null,
   "metadata": {
    "lc_cell_meme": {
     "current": "b91ec552-1cc1-11ef-ad2f-0242ac120005-2-dda0-39d0",
     "history": [
      {
       "current": "b91ec552-1cc1-11ef-ad2f-0242ac120005-1-dda0",
       "next": "b91ec58e-1cc1-11ef-ad2f-0242ac120005",
       "previous": "b91ec462-1cc1-11ef-ad2f-0242ac120005"
      },
      {
       "current": "b91ec552-1cc1-11ef-ad2f-0242ac120005-2-dda0-39d0",
       "next": "b91ec58e-1cc1-11ef-ad2f-0242ac120005-1-7916",
       "previous": "b91ec462-1cc1-11ef-ad2f-0242ac120005-1-73a8"
      }
     ],
     "next": "b91ec58e-1cc1-11ef-ad2f-0242ac120005-2-7916-7198",
     "previous": "b91ec462-1cc1-11ef-ad2f-0242ac120005-2-73a8-e762"
    }
   },
   "outputs": [],
   "source": [
    "!ls -p ~/notebooks/share/configuration"
   ]
  },
  {
   "cell_type": "code",
   "execution_count": null,
   "metadata": {
    "lc_cell_meme": {
     "current": "b91ec58e-1cc1-11ef-ad2f-0242ac120005-2-7916-7198",
     "history": [
      {
       "current": "b91ec58e-1cc1-11ef-ad2f-0242ac120005-1-7916",
       "next": "b91ec5b6-1cc1-11ef-ad2f-0242ac120005",
       "previous": "b91ec552-1cc1-11ef-ad2f-0242ac120005"
      },
      {
       "current": "b91ec58e-1cc1-11ef-ad2f-0242ac120005-2-7916-7198",
       "next": "b91ec5b6-1cc1-11ef-ad2f-0242ac120005-1-41af",
       "previous": "b91ec552-1cc1-11ef-ad2f-0242ac120005-1-dda0"
      }
     ],
     "next": "b91ec5b6-1cc1-11ef-ad2f-0242ac120005-2-41af-7b53",
     "previous": "b91ec552-1cc1-11ef-ad2f-0242ac120005-2-dda0-39d0"
    }
   },
   "outputs": [],
   "source": [
    "!ls -p ~/notebooks/share/configuration/ceph"
   ]
  },
  {
   "cell_type": "code",
   "execution_count": null,
   "metadata": {
    "lc_cell_meme": {
     "current": "b91ec5b6-1cc1-11ef-ad2f-0242ac120005-2-41af-7b53",
     "history": [
      {
       "current": "b91ec5b6-1cc1-11ef-ad2f-0242ac120005-1-41af",
       "next": "b91ec5de-1cc1-11ef-ad2f-0242ac120005",
       "previous": "b91ec58e-1cc1-11ef-ad2f-0242ac120005"
      },
      {
       "current": "b91ec5b6-1cc1-11ef-ad2f-0242ac120005-2-41af-7b53",
       "next": "b91ec5de-1cc1-11ef-ad2f-0242ac120005-1-915b",
       "previous": "b91ec58e-1cc1-11ef-ad2f-0242ac120005-1-7916"
      }
     ],
     "next": "b91ec5de-1cc1-11ef-ad2f-0242ac120005-2-915b-c25b",
     "previous": "b91ec58e-1cc1-11ef-ad2f-0242ac120005-2-7916-7198"
    }
   },
   "outputs": [],
   "source": [
    "import sys, os.path, importlib, json, yaml\n",
    "\n",
    "config_file_name = \"ceph_admin_vm.yml\"\n",
    "config_file_path = os.path.expanduser(\"~/notebooks/share/configuration/ceph/{}\".format(config_file_name))\n",
    "with open(config_file_path) as f:\n",
    "    admin_params = yaml.safe_load(f)\n",
    "admin_params"
   ]
  },
  {
   "cell_type": "code",
   "execution_count": null,
   "metadata": {
    "lc_cell_meme": {
     "current": "b91ec5de-1cc1-11ef-ad2f-0242ac120005-2-915b-c25b",
     "history": [
      {
       "current": "b91ec5de-1cc1-11ef-ad2f-0242ac120005-1-915b",
       "next": "b91ec606-1cc1-11ef-ad2f-0242ac120005",
       "previous": "b91ec5b6-1cc1-11ef-ad2f-0242ac120005"
      },
      {
       "current": "b91ec5de-1cc1-11ef-ad2f-0242ac120005-2-915b-c25b",
       "next": "b91ec606-1cc1-11ef-ad2f-0242ac120005-1-0a17",
       "previous": "b91ec5b6-1cc1-11ef-ad2f-0242ac120005-1-41af"
      }
     ],
     "next": "b91ec606-1cc1-11ef-ad2f-0242ac120005-2-0a17-a184",
     "previous": "b91ec5b6-1cc1-11ef-ad2f-0242ac120005-2-41af-7b53"
    }
   },
   "outputs": [],
   "source": [
    "target_vm_name = 'xxx-ceph-admin1'\n",
    "admin_patam = admin_params[target_vm_name]\n",
    "admin_patam"
   ]
  },
  {
   "cell_type": "code",
   "execution_count": null,
   "metadata": {
    "lc_cell_meme": {
     "current": "b91ec606-1cc1-11ef-ad2f-0242ac120005-2-0a17-a184",
     "history": [
      {
       "current": "b91ec606-1cc1-11ef-ad2f-0242ac120005-1-0a17",
       "next": "b91ec62e-1cc1-11ef-ad2f-0242ac120005",
       "previous": "b91ec5de-1cc1-11ef-ad2f-0242ac120005"
      },
      {
       "current": "b91ec606-1cc1-11ef-ad2f-0242ac120005-2-0a17-a184",
       "next": "b91ec62e-1cc1-11ef-ad2f-0242ac120005-1-eb2c",
       "previous": "b91ec5de-1cc1-11ef-ad2f-0242ac120005-1-915b"
      }
     ],
     "next": "b91ec62e-1cc1-11ef-ad2f-0242ac120005-2-eb2c-c05f",
     "previous": "b91ec5de-1cc1-11ef-ad2f-0242ac120005-2-915b-c25b"
    }
   },
   "outputs": [],
   "source": [
    "ceph_admin_ip = admin_patam['network']['provisioning']['ip']"
   ]
  },
  {
   "cell_type": "code",
   "execution_count": null,
   "metadata": {
    "lc_cell_meme": {
     "current": "b91ec62e-1cc1-11ef-ad2f-0242ac120005-2-eb2c-c05f",
     "history": [
      {
       "current": "b91ec62e-1cc1-11ef-ad2f-0242ac120005-1-eb2c",
       "next": "b91ec64c-1cc1-11ef-ad2f-0242ac120005",
       "previous": "b91ec606-1cc1-11ef-ad2f-0242ac120005"
      },
      {
       "current": "b91ec62e-1cc1-11ef-ad2f-0242ac120005-2-eb2c-c05f",
       "next": "b91ec64c-1cc1-11ef-ad2f-0242ac120005-1-a747",
       "previous": "b91ec606-1cc1-11ef-ad2f-0242ac120005-1-0a17"
      }
     ],
     "next": "b91ec64c-1cc1-11ef-ad2f-0242ac120005-2-a747-933b",
     "previous": "b91ec606-1cc1-11ef-ad2f-0242ac120005-2-0a17-a184"
    }
   },
   "outputs": [],
   "source": [
    "import sys, os.path, importlib, json, yaml\n",
    "\n",
    "config_file_name = \"xxx-openstack-parameter.yml\"\n",
    "config_file_path = os.path.expanduser(\"~/notebooks/share/configuration/{}\".format(config_file_name))\n",
    "with open(config_file_path) as f:\n",
    "    params = yaml.safe_load(f)\n",
    "params"
   ]
  },
  {
   "cell_type": "code",
   "execution_count": null,
   "metadata": {
    "lc_cell_meme": {
     "current": "b91ec64c-1cc1-11ef-ad2f-0242ac120005-2-a747-933b",
     "history": [
      {
       "current": "b91ec64c-1cc1-11ef-ad2f-0242ac120005-1-a747",
       "next": "b91ec674-1cc1-11ef-ad2f-0242ac120005",
       "previous": "b91ec62e-1cc1-11ef-ad2f-0242ac120005"
      },
      {
       "current": "b91ec64c-1cc1-11ef-ad2f-0242ac120005-2-a747-933b",
       "next": "b91ec674-1cc1-11ef-ad2f-0242ac120005-1-2ff5",
       "previous": "b91ec62e-1cc1-11ef-ad2f-0242ac120005-1-eb2c"
      }
     ],
     "next": "b91ec674-1cc1-11ef-ad2f-0242ac120005-2-2ff5-ccd9",
     "previous": "b91ec62e-1cc1-11ef-ad2f-0242ac120005-2-eb2c-c05f"
    }
   },
   "outputs": [],
   "source": [
    "repo_server = params['repository']['addresses']['service_operation']\n",
    "repo_server"
   ]
  },
  {
   "cell_type": "code",
   "execution_count": null,
   "metadata": {
    "lc_cell_meme": {
     "current": "b91ec674-1cc1-11ef-ad2f-0242ac120005-2-2ff5-ccd9",
     "history": [
      {
       "current": "b91ec674-1cc1-11ef-ad2f-0242ac120005-1-2ff5",
       "next": "b91ec69c-1cc1-11ef-ad2f-0242ac120005",
       "previous": "b91ec64c-1cc1-11ef-ad2f-0242ac120005"
      },
      {
       "current": "b91ec674-1cc1-11ef-ad2f-0242ac120005-2-2ff5-ccd9",
       "next": "b91ec69c-1cc1-11ef-ad2f-0242ac120005-1-facc",
       "previous": "b91ec64c-1cc1-11ef-ad2f-0242ac120005-1-a747"
      }
     ],
     "next": "b91ec69c-1cc1-11ef-ad2f-0242ac120005-2-facc-68fc",
     "previous": "b91ec64c-1cc1-11ef-ad2f-0242ac120005-2-a747-933b"
    }
   },
   "outputs": [],
   "source": [
    "provisioning_vip = params['openstack']['provisioning_vip']\n",
    "provisioning_vip"
   ]
  },
  {
   "cell_type": "code",
   "execution_count": null,
   "metadata": {
    "lc_cell_meme": {
     "current": "b91ec69c-1cc1-11ef-ad2f-0242ac120005-2-facc-68fc",
     "history": [
      {
       "current": "b91ec69c-1cc1-11ef-ad2f-0242ac120005-1-facc",
       "next": "37fd7fe4-56f9-11ec-a1da-0242ac120004-5-e08c-554e-e979-ac8c-36f4",
       "previous": "b91ec674-1cc1-11ef-ad2f-0242ac120005"
      },
      {
       "current": "b91ec69c-1cc1-11ef-ad2f-0242ac120005-2-facc-68fc",
       "next": "37fd7fe4-56f9-11ec-a1da-0242ac120004-6-e08c-554e-e979-ac8c-36f4-e9ed",
       "previous": "b91ec674-1cc1-11ef-ad2f-0242ac120005-1-2ff5"
      }
     ],
     "next": "37fd7fe4-56f9-11ec-a1da-0242ac120004-7-e08c-554e-e979-ac8c-36f4-e9ed-e972",
     "previous": "b91ec674-1cc1-11ef-ad2f-0242ac120005-2-2ff5-ccd9"
    }
   },
   "outputs": [],
   "source": [
    "network_segment_controller_vip = params['network_segment_controller_vip']\n",
    "network_segment_controller_vip"
   ]
  },
  {
   "cell_type": "markdown",
   "metadata": {
    "lc_cell_meme": {
     "current": "37fd7fe4-56f9-11ec-a1da-0242ac120004-7-e08c-554e-e979-ac8c-36f4-e9ed-e972",
     "history": [
      {
       "current": "37fd7fe4-56f9-11ec-a1da-0242ac120004-1-e08c",
       "next": "37fd8138-56f9-11ec-a1da-0242ac120004",
       "previous": "37fd7e90-56f9-11ec-a1da-0242ac120004"
      },
      {
       "current": "37fd7fe4-56f9-11ec-a1da-0242ac120004-2-e08c-554e",
       "next": "7f8980ba-56f9-11ec-a1da-0242ac120004",
       "previous": "37fd7e90-56f9-11ec-a1da-0242ac120004"
      },
      {
       "current": "37fd7fe4-56f9-11ec-a1da-0242ac120004-3-e08c-554e-e979",
       "next": "7f8980ba-56f9-11ec-a1da-0242ac120004-1-eb32",
       "previous": "37fd7e90-56f9-11ec-a1da-0242ac120004-1-007d"
      },
      {
       "current": "37fd7fe4-56f9-11ec-a1da-0242ac120004-4-e08c-554e-e979-ac8c",
       "next": "7f8980ba-56f9-11ec-a1da-0242ac120004-2-eb32-bc4c",
       "previous": "37fd7e90-56f9-11ec-a1da-0242ac120004-2-007d-d7a3"
      },
      {
       "current": "37fd7fe4-56f9-11ec-a1da-0242ac120004-5-e08c-554e-e979-ac8c-36f4",
       "next": "7f8980ba-56f9-11ec-a1da-0242ac120004-3-eb32-bc4c-b191",
       "previous": "37fd7e90-56f9-11ec-a1da-0242ac120004-3-007d-d7a3-d20b"
      },
      {
       "current": "37fd7fe4-56f9-11ec-a1da-0242ac120004-6-e08c-554e-e979-ac8c-36f4-e9ed",
       "next": "7f8980ba-56f9-11ec-a1da-0242ac120004-4-eb32-bc4c-b191-011e",
       "previous": "b91ec69c-1cc1-11ef-ad2f-0242ac120005"
      },
      {
       "current": "37fd7fe4-56f9-11ec-a1da-0242ac120004-7-e08c-554e-e979-ac8c-36f4-e9ed-e972",
       "next": "7f8980ba-56f9-11ec-a1da-0242ac120004-5-eb32-bc4c-b191-011e-f092",
       "previous": "b91ec69c-1cc1-11ef-ad2f-0242ac120005-1-facc"
      }
     ],
     "next": "7f8980ba-56f9-11ec-a1da-0242ac120004-6-eb32-bc4c-b191-011e-f092-c13d",
     "previous": "b91ec69c-1cc1-11ef-ad2f-0242ac120005-2-facc-68fc"
    }
   },
   "source": [
    "## CephノードとストレージセグメントIPアドレス対応表の読み込み"
   ]
  },
  {
   "cell_type": "code",
   "execution_count": null,
   "metadata": {
    "lc_cell_meme": {
     "current": "7f8980ba-56f9-11ec-a1da-0242ac120004-6-eb32-bc4c-b191-011e-f092-c13d",
     "history": [
      {
       "current": "7f8980ba-56f9-11ec-a1da-0242ac120004-1-eb32",
       "next": "7f898358-56f9-11ec-a1da-0242ac120004",
       "previous": "37fd7fe4-56f9-11ec-a1da-0242ac120004-1-e08c"
      },
      {
       "current": "7f8980ba-56f9-11ec-a1da-0242ac120004-1-eb32",
       "next": "7f898358-56f9-11ec-a1da-0242ac120004-1-9fd7",
       "previous": "37fd7fe4-56f9-11ec-a1da-0242ac120004-2-e08c-554e"
      },
      {
       "current": "7f8980ba-56f9-11ec-a1da-0242ac120004-2-eb32-bc4c",
       "next": "1da70ed8-6f22-11ee-89fa-0242ac120005",
       "previous": "37fd7fe4-56f9-11ec-a1da-0242ac120004-2-e08c-554e"
      },
      {
       "current": "7f8980ba-56f9-11ec-a1da-0242ac120004-3-eb32-bc4c-b191",
       "next": "1da70ed8-6f22-11ee-89fa-0242ac120005-1-bea8",
       "previous": "37fd7fe4-56f9-11ec-a1da-0242ac120004-3-e08c-554e-e979"
      },
      {
       "current": "7f8980ba-56f9-11ec-a1da-0242ac120004-4-eb32-bc4c-b191-011e",
       "next": "1da70ed8-6f22-11ee-89fa-0242ac120005-2-bea8-76ed",
       "previous": "37fd7fe4-56f9-11ec-a1da-0242ac120004-4-e08c-554e-e979-ac8c"
      },
      {
       "current": "7f8980ba-56f9-11ec-a1da-0242ac120004-4-eb32-bc4c-b191-011e",
       "next": "1da70ed8-6f22-11ee-89fa-0242ac120005-3-bea8-76ed-9dfb",
       "previous": "37fd7fe4-56f9-11ec-a1da-0242ac120004-5-e08c-554e-e979-ac8c-36f4"
      },
      {
       "current": "7f8980ba-56f9-11ec-a1da-0242ac120004-5-eb32-bc4c-b191-011e-f092",
       "next": "652daa0a-6f22-11ee-89fa-0242ac120005-3-957b-941b-48bb",
       "previous": "37fd7fe4-56f9-11ec-a1da-0242ac120004-5-e08c-554e-e979-ac8c-36f4"
      },
      {
       "current": "7f8980ba-56f9-11ec-a1da-0242ac120004-6-eb32-bc4c-b191-011e-f092-c13d",
       "next": "652daa0a-6f22-11ee-89fa-0242ac120005-4-957b-941b-48bb-4da5",
       "previous": "37fd7fe4-56f9-11ec-a1da-0242ac120004-6-e08c-554e-e979-ac8c-36f4-e9ed"
      }
     ],
     "next": "652daa0a-6f22-11ee-89fa-0242ac120005-5-957b-941b-48bb-4da5-aac1",
     "previous": "37fd7fe4-56f9-11ec-a1da-0242ac120004-7-e08c-554e-e979-ac8c-36f4-e9ed-e972"
    },
    "scrolled": true
   },
   "outputs": [],
   "source": [
    "import os\n",
    "import csv\n",
    "import pandas as pd\n",
    "\n",
    "instance_ip_csv_path =  os.environ['HOME'] + \"/notebooks/share/configuration/ceph/ceph_instance_ip.csv\"\n",
    "instance_ip_list = []\n",
    "instance_ip_map = {}\n",
    "\n",
    "with open(instance_ip_csv_path, 'r') as path_csv:\n",
    "    reader = csv.DictReader(path_csv)\n",
    "    \n",
    "    for record in reader:\n",
    "        instance_ip_list.append(record)\n",
    "        instance_ip_map[record['instance_name']] = record\n",
    "\n",
    "pd.DataFrame(instance_ip_list)"
   ]
  },
  {
   "cell_type": "markdown",
   "metadata": {
    "heading_collapsed": true,
    "lc_cell_meme": {
     "current": "652daa0a-6f22-11ee-89fa-0242ac120005-5-957b-941b-48bb-4da5-aac1",
     "history": [
      {
       "current": "652daa0a-6f22-11ee-89fa-0242ac120005-1-957b",
       "next": "652dab5e-6f22-11ee-89fa-0242ac120005",
       "previous": "7f898358-56f9-11ec-a1da-0242ac120004-1-9fd7"
      },
      {
       "current": "652daa0a-6f22-11ee-89fa-0242ac120005-2-957b-941b",
       "next": "652dab5e-6f22-11ee-89fa-0242ac120005-1-6a45",
       "previous": "7f898358-56f9-11ec-a1da-0242ac120004-2-9fd7-29ac"
      },
      {
       "current": "652daa0a-6f22-11ee-89fa-0242ac120005-3-957b-941b-48bb",
       "next": "652dab5e-6f22-11ee-89fa-0242ac120005-2-6a45-4242",
       "previous": "7f898358-56f9-11ec-a1da-0242ac120004-3-9fd7-29ac-f9f4"
      },
      {
       "current": "652daa0a-6f22-11ee-89fa-0242ac120005-3-957b-941b-48bb",
       "next": "652dab5e-6f22-11ee-89fa-0242ac120005-3-6a45-4242-c937",
       "previous": "7f898358-56f9-11ec-a1da-0242ac120004-4-9fd7-29ac-f9f4-fafe"
      },
      {
       "current": "652daa0a-6f22-11ee-89fa-0242ac120005-4-957b-941b-48bb-4da5",
       "next": "652dab5e-6f22-11ee-89fa-0242ac120005-3-6a45-4242-c937",
       "previous": "7f8980ba-56f9-11ec-a1da-0242ac120004-4-eb32-bc4c-b191-011e"
      },
      {
       "current": "652daa0a-6f22-11ee-89fa-0242ac120005-5-957b-941b-48bb-4da5-aac1",
       "next": "652dab5e-6f22-11ee-89fa-0242ac120005-4-6a45-4242-c937-b6d2",
       "previous": "7f8980ba-56f9-11ec-a1da-0242ac120004-5-eb32-bc4c-b191-011e-f092"
      }
     ],
     "next": "652dab5e-6f22-11ee-89fa-0242ac120005-5-6a45-4242-c937-b6d2-d7de",
     "previous": "7f8980ba-56f9-11ec-a1da-0242ac120004-6-eb32-bc4c-b191-011e-f092-c13d"
    }
   },
   "source": [
    "## 作業用ディレクトリを作成する"
   ]
  },
  {
   "cell_type": "code",
   "execution_count": null,
   "metadata": {
    "hidden": true,
    "lc_cell_meme": {
     "current": "652dab5e-6f22-11ee-89fa-0242ac120005-5-6a45-4242-c937-b6d2-d7de",
     "history": [
      {
       "current": "652dab5e-6f22-11ee-89fa-0242ac120005-1-6a45",
       "next": "652dabea-6f22-11ee-89fa-0242ac120005",
       "previous": "652daa0a-6f22-11ee-89fa-0242ac120005"
      },
      {
       "current": "652dab5e-6f22-11ee-89fa-0242ac120005-2-6a45-4242",
       "next": "652dabea-6f22-11ee-89fa-0242ac120005-1-59ef",
       "previous": "652daa0a-6f22-11ee-89fa-0242ac120005-1-957b"
      },
      {
       "current": "652dab5e-6f22-11ee-89fa-0242ac120005-3-6a45-4242-c937",
       "next": "652dabea-6f22-11ee-89fa-0242ac120005-2-59ef-866e",
       "previous": "652daa0a-6f22-11ee-89fa-0242ac120005-2-957b-941b"
      },
      {
       "current": "652dab5e-6f22-11ee-89fa-0242ac120005-4-6a45-4242-c937-b6d2",
       "next": "652dabea-6f22-11ee-89fa-0242ac120005-3-59ef-866e-d273",
       "previous": "652daa0a-6f22-11ee-89fa-0242ac120005-3-957b-941b-48bb"
      },
      {
       "current": "652dab5e-6f22-11ee-89fa-0242ac120005-5-6a45-4242-c937-b6d2-d7de",
       "next": "652dabea-6f22-11ee-89fa-0242ac120005-4-59ef-866e-d273-dea9",
       "previous": "652daa0a-6f22-11ee-89fa-0242ac120005-4-957b-941b-48bb-4da5"
      }
     ],
     "next": "652dabea-6f22-11ee-89fa-0242ac120005-5-59ef-866e-d273-dea9-f259",
     "previous": "652daa0a-6f22-11ee-89fa-0242ac120005-5-957b-941b-48bb-4da5-aac1"
    }
   },
   "outputs": [],
   "source": [
    "import os,tempfile\n",
    "temp_dir = tempfile.mkdtemp()\n",
    "print (temp_dir)"
   ]
  },
  {
   "cell_type": "markdown",
   "metadata": {
    "lc_cell_meme": {
     "current": "652dabea-6f22-11ee-89fa-0242ac120005-5-59ef-866e-d273-dea9-f259",
     "history": [
      {
       "current": "652dabea-6f22-11ee-89fa-0242ac120005-1-59ef",
       "next": "652dac44-6f22-11ee-89fa-0242ac120005",
       "previous": "652dab5e-6f22-11ee-89fa-0242ac120005"
      },
      {
       "current": "652dabea-6f22-11ee-89fa-0242ac120005-2-59ef-866e",
       "next": "652dac44-6f22-11ee-89fa-0242ac120005-1-ce41",
       "previous": "652dab5e-6f22-11ee-89fa-0242ac120005-1-6a45"
      },
      {
       "current": "652dabea-6f22-11ee-89fa-0242ac120005-3-59ef-866e-d273",
       "next": "652dac44-6f22-11ee-89fa-0242ac120005-2-ce41-b28a",
       "previous": "652dab5e-6f22-11ee-89fa-0242ac120005-2-6a45-4242"
      },
      {
       "current": "652dabea-6f22-11ee-89fa-0242ac120005-4-59ef-866e-d273-dea9",
       "next": "652dac44-6f22-11ee-89fa-0242ac120005-3-ce41-b28a-e7f7",
       "previous": "652dab5e-6f22-11ee-89fa-0242ac120005-3-6a45-4242-c937"
      },
      {
       "current": "652dabea-6f22-11ee-89fa-0242ac120005-5-59ef-866e-d273-dea9-f259",
       "next": "652dac44-6f22-11ee-89fa-0242ac120005-4-ce41-b28a-e7f7-bc70",
       "previous": "652dab5e-6f22-11ee-89fa-0242ac120005-4-6a45-4242-c937-b6d2"
      }
     ],
     "next": "652dac44-6f22-11ee-89fa-0242ac120005-5-ce41-b28a-e7f7-bc70-ba2a",
     "previous": "652dab5e-6f22-11ee-89fa-0242ac120005-5-6a45-4242-c937-b6d2-d7de"
    }
   },
   "source": [
    "## AnsibleのInventoryファイルを作業用ディレクトリへ作成する"
   ]
  },
  {
   "cell_type": "code",
   "execution_count": null,
   "metadata": {
    "lc_cell_meme": {
     "current": "652dac44-6f22-11ee-89fa-0242ac120005-5-ce41-b28a-e7f7-bc70-ba2a",
     "history": [
      {
       "current": "652dac44-6f22-11ee-89fa-0242ac120005-1-ce41",
       "next": "652daca8-6f22-11ee-89fa-0242ac120005",
       "previous": "652dabea-6f22-11ee-89fa-0242ac120005"
      },
      {
       "current": "652dac44-6f22-11ee-89fa-0242ac120005-2-ce41-b28a",
       "next": "652daca8-6f22-11ee-89fa-0242ac120005-1-8a45",
       "previous": "652dabea-6f22-11ee-89fa-0242ac120005-1-59ef"
      },
      {
       "current": "652dac44-6f22-11ee-89fa-0242ac120005-3-ce41-b28a-e7f7",
       "next": "652daca8-6f22-11ee-89fa-0242ac120005-2-8a45-7394",
       "previous": "652dabea-6f22-11ee-89fa-0242ac120005-2-59ef-866e"
      },
      {
       "current": "652dac44-6f22-11ee-89fa-0242ac120005-4-ce41-b28a-e7f7-bc70",
       "next": "652daca8-6f22-11ee-89fa-0242ac120005-3-8a45-7394-0e91",
       "previous": "652dabea-6f22-11ee-89fa-0242ac120005-3-59ef-866e-d273"
      },
      {
       "current": "652dac44-6f22-11ee-89fa-0242ac120005-5-ce41-b28a-e7f7-bc70-ba2a",
       "next": "652daca8-6f22-11ee-89fa-0242ac120005-4-8a45-7394-0e91-68fd",
       "previous": "652dabea-6f22-11ee-89fa-0242ac120005-4-59ef-866e-d273-dea9"
      }
     ],
     "next": "652daca8-6f22-11ee-89fa-0242ac120005-5-8a45-7394-0e91-68fd-bd3a",
     "previous": "652dabea-6f22-11ee-89fa-0242ac120005-5-59ef-866e-d273-dea9-f259"
    }
   },
   "outputs": [],
   "source": [
    "import os\n",
    "\n",
    "with open( os.path.join(temp_dir, \"hosts\"), 'w') as f:\n",
    "    f.write('''[openstack_ctl]\n",
    "{openstack_cmn}\n",
    "'''.format(openstack_cmn = provisioning_vip))\n",
    "\n",
    "hosts = temp_dir + \"/hosts\"\n",
    "!cat $hosts"
   ]
  },
  {
   "cell_type": "code",
   "execution_count": null,
   "metadata": {
    "lc_cell_meme": {
     "current": "652daca8-6f22-11ee-89fa-0242ac120005-5-8a45-7394-0e91-68fd-bd3a",
     "history": [
      {
       "current": "652daca8-6f22-11ee-89fa-0242ac120005-1-8a45",
       "next": "652dacf8-6f22-11ee-89fa-0242ac120005",
       "previous": "652dac44-6f22-11ee-89fa-0242ac120005"
      },
      {
       "current": "652daca8-6f22-11ee-89fa-0242ac120005-2-8a45-7394",
       "next": "652dacf8-6f22-11ee-89fa-0242ac120005-1-fda1",
       "previous": "652dac44-6f22-11ee-89fa-0242ac120005-1-ce41"
      },
      {
       "current": "652daca8-6f22-11ee-89fa-0242ac120005-3-8a45-7394-0e91",
       "next": "652dacf8-6f22-11ee-89fa-0242ac120005-2-fda1-9eb3",
       "previous": "652dac44-6f22-11ee-89fa-0242ac120005-2-ce41-b28a"
      },
      {
       "current": "652daca8-6f22-11ee-89fa-0242ac120005-4-8a45-7394-0e91-68fd",
       "next": "652dacf8-6f22-11ee-89fa-0242ac120005-3-fda1-9eb3-46cf",
       "previous": "652dac44-6f22-11ee-89fa-0242ac120005-3-ce41-b28a-e7f7"
      },
      {
       "current": "652daca8-6f22-11ee-89fa-0242ac120005-5-8a45-7394-0e91-68fd-bd3a",
       "next": "652dacf8-6f22-11ee-89fa-0242ac120005-4-fda1-9eb3-46cf-b68e",
       "previous": "652dac44-6f22-11ee-89fa-0242ac120005-4-ce41-b28a-e7f7-bc70"
      }
     ],
     "next": "652dacf8-6f22-11ee-89fa-0242ac120005-5-fda1-9eb3-46cf-b68e-2111",
     "previous": "652dac44-6f22-11ee-89fa-0242ac120005-5-ce41-b28a-e7f7-bc70-ba2a"
    }
   },
   "outputs": [],
   "source": [
    "%env ANSIBLE_INVENTORY={hosts}"
   ]
  },
  {
   "cell_type": "markdown",
   "metadata": {
    "lc_cell_meme": {
     "current": "652dacf8-6f22-11ee-89fa-0242ac120005-5-fda1-9eb3-46cf-b68e-2111",
     "history": [
      {
       "current": "652dacf8-6f22-11ee-89fa-0242ac120005-1-fda1",
       "next": "652dade8-6f22-11ee-89fa-0242ac120005",
       "previous": "652daca8-6f22-11ee-89fa-0242ac120005"
      },
      {
       "current": "652dacf8-6f22-11ee-89fa-0242ac120005-2-fda1-9eb3",
       "next": "652dade8-6f22-11ee-89fa-0242ac120005-1-59d5",
       "previous": "652daca8-6f22-11ee-89fa-0242ac120005-1-8a45"
      },
      {
       "current": "652dacf8-6f22-11ee-89fa-0242ac120005-3-fda1-9eb3-46cf",
       "next": "652dade8-6f22-11ee-89fa-0242ac120005-2-59d5-8c8f",
       "previous": "652daca8-6f22-11ee-89fa-0242ac120005-2-8a45-7394"
      },
      {
       "current": "652dacf8-6f22-11ee-89fa-0242ac120005-4-fda1-9eb3-46cf-b68e",
       "next": "652dade8-6f22-11ee-89fa-0242ac120005-3-59d5-8c8f-f111",
       "previous": "652daca8-6f22-11ee-89fa-0242ac120005-3-8a45-7394-0e91"
      },
      {
       "current": "652dacf8-6f22-11ee-89fa-0242ac120005-5-fda1-9eb3-46cf-b68e-2111",
       "next": "652dade8-6f22-11ee-89fa-0242ac120005-4-59d5-8c8f-f111-69c6",
       "previous": "652daca8-6f22-11ee-89fa-0242ac120005-4-8a45-7394-0e91-68fd"
      }
     ],
     "next": "652dade8-6f22-11ee-89fa-0242ac120005-5-59d5-8c8f-f111-69c6-5207",
     "previous": "652daca8-6f22-11ee-89fa-0242ac120005-5-8a45-7394-0e91-68fd-bd3a"
    }
   },
   "source": [
    "疎通確認"
   ]
  },
  {
   "cell_type": "code",
   "execution_count": null,
   "metadata": {
    "lc_cell_meme": {
     "current": "652dade8-6f22-11ee-89fa-0242ac120005-5-59d5-8c8f-f111-69c6-5207",
     "history": [
      {
       "current": "652dade8-6f22-11ee-89fa-0242ac120005-1-59d5",
       "next": "652dae42-6f22-11ee-89fa-0242ac120005",
       "previous": "652dacf8-6f22-11ee-89fa-0242ac120005"
      },
      {
       "current": "652dade8-6f22-11ee-89fa-0242ac120005-2-59d5-8c8f",
       "next": "652dae42-6f22-11ee-89fa-0242ac120005-1-1c93",
       "previous": "652dacf8-6f22-11ee-89fa-0242ac120005-1-fda1"
      },
      {
       "current": "652dade8-6f22-11ee-89fa-0242ac120005-3-59d5-8c8f-f111",
       "next": "652dae42-6f22-11ee-89fa-0242ac120005-2-1c93-fb0e",
       "previous": "652dacf8-6f22-11ee-89fa-0242ac120005-2-fda1-9eb3"
      },
      {
       "current": "652dade8-6f22-11ee-89fa-0242ac120005-4-59d5-8c8f-f111-69c6",
       "next": "652dae42-6f22-11ee-89fa-0242ac120005-3-1c93-fb0e-6528",
       "previous": "652dacf8-6f22-11ee-89fa-0242ac120005-3-fda1-9eb3-46cf"
      },
      {
       "current": "652dade8-6f22-11ee-89fa-0242ac120005-5-59d5-8c8f-f111-69c6-5207",
       "next": "652dae42-6f22-11ee-89fa-0242ac120005-4-1c93-fb0e-6528-84c9",
       "previous": "652dacf8-6f22-11ee-89fa-0242ac120005-4-fda1-9eb3-46cf-b68e"
      }
     ],
     "next": "652dae42-6f22-11ee-89fa-0242ac120005-5-1c93-fb0e-6528-84c9-57f6",
     "previous": "652dacf8-6f22-11ee-89fa-0242ac120005-5-fda1-9eb3-46cf-b68e-2111"
    }
   },
   "outputs": [],
   "source": [
    "!ansible -m ping openstack_ctl"
   ]
  },
  {
   "cell_type": "code",
   "execution_count": null,
   "metadata": {
    "lc_cell_meme": {
     "current": "652dae42-6f22-11ee-89fa-0242ac120005-5-1c93-fb0e-6528-84c9-57f6",
     "history": [
      {
       "current": "652dae42-6f22-11ee-89fa-0242ac120005-1-1c93",
       "next": "652dae92-6f22-11ee-89fa-0242ac120005",
       "previous": "652dade8-6f22-11ee-89fa-0242ac120005"
      },
      {
       "current": "652dae42-6f22-11ee-89fa-0242ac120005-2-1c93-fb0e",
       "next": "652dae92-6f22-11ee-89fa-0242ac120005-1-6a95",
       "previous": "652dade8-6f22-11ee-89fa-0242ac120005-1-59d5"
      },
      {
       "current": "652dae42-6f22-11ee-89fa-0242ac120005-3-1c93-fb0e-6528",
       "next": "652dae92-6f22-11ee-89fa-0242ac120005-2-6a95-a2b0",
       "previous": "652dade8-6f22-11ee-89fa-0242ac120005-2-59d5-8c8f"
      },
      {
       "current": "652dae42-6f22-11ee-89fa-0242ac120005-4-1c93-fb0e-6528-84c9",
       "next": "652dae92-6f22-11ee-89fa-0242ac120005-3-6a95-a2b0-128e",
       "previous": "652dade8-6f22-11ee-89fa-0242ac120005-3-59d5-8c8f-f111"
      },
      {
       "current": "652dae42-6f22-11ee-89fa-0242ac120005-5-1c93-fb0e-6528-84c9-57f6",
       "next": "652dae92-6f22-11ee-89fa-0242ac120005-4-6a95-a2b0-128e-b35e",
       "previous": "652dade8-6f22-11ee-89fa-0242ac120005-4-59d5-8c8f-f111-69c6"
      }
     ],
     "next": "652dae92-6f22-11ee-89fa-0242ac120005-5-6a95-a2b0-128e-b35e-4f0d",
     "previous": "652dade8-6f22-11ee-89fa-0242ac120005-5-59d5-8c8f-f111-69c6-5207"
    }
   },
   "outputs": [],
   "source": [
    "!ansible -a 'hostname' openstack_ctl"
   ]
  },
  {
   "cell_type": "markdown",
   "metadata": {
    "lc_cell_meme": {
     "current": "652dae92-6f22-11ee-89fa-0242ac120005-5-6a95-a2b0-128e-b35e-4f0d",
     "history": [
      {
       "current": "652dae92-6f22-11ee-89fa-0242ac120005-1-6a95",
       "next": "652daeec-6f22-11ee-89fa-0242ac120005",
       "previous": "652dae42-6f22-11ee-89fa-0242ac120005"
      },
      {
       "current": "652dae92-6f22-11ee-89fa-0242ac120005-2-6a95-a2b0",
       "next": "652daeec-6f22-11ee-89fa-0242ac120005-1-2cf7",
       "previous": "652dae42-6f22-11ee-89fa-0242ac120005-1-1c93"
      },
      {
       "current": "652dae92-6f22-11ee-89fa-0242ac120005-3-6a95-a2b0-128e",
       "next": "652daeec-6f22-11ee-89fa-0242ac120005-2-2cf7-581d",
       "previous": "652dae42-6f22-11ee-89fa-0242ac120005-2-1c93-fb0e"
      },
      {
       "current": "652dae92-6f22-11ee-89fa-0242ac120005-4-6a95-a2b0-128e-b35e",
       "next": "652daeec-6f22-11ee-89fa-0242ac120005-3-2cf7-581d-3add",
       "previous": "652dae42-6f22-11ee-89fa-0242ac120005-3-1c93-fb0e-6528"
      },
      {
       "current": "652dae92-6f22-11ee-89fa-0242ac120005-5-6a95-a2b0-128e-b35e-4f0d",
       "next": "652daeec-6f22-11ee-89fa-0242ac120005-4-2cf7-581d-3add-06da",
       "previous": "652dae42-6f22-11ee-89fa-0242ac120005-4-1c93-fb0e-6528-84c9"
      }
     ],
     "next": "652daeec-6f22-11ee-89fa-0242ac120005-5-2cf7-581d-3add-06da-d1d4",
     "previous": "652dae42-6f22-11ee-89fa-0242ac120005-5-1c93-fb0e-6528-84c9-57f6"
    }
   },
   "source": [
    "## OpenStack用OpenRCファイル設定\n",
    "\n",
    "`xxxxxxx`プロジェクト用のOpenRCファイルを事前にダウンロードしておくこと。  "
   ]
  },
  {
   "cell_type": "code",
   "execution_count": null,
   "metadata": {
    "lc_cell_meme": {
     "current": "652daeec-6f22-11ee-89fa-0242ac120005-5-2cf7-581d-3add-06da-d1d4",
     "history": [
      {
       "current": "652daeec-6f22-11ee-89fa-0242ac120005-1-2cf7",
       "next": "652daf46-6f22-11ee-89fa-0242ac120005",
       "previous": "652dae92-6f22-11ee-89fa-0242ac120005"
      },
      {
       "current": "652daeec-6f22-11ee-89fa-0242ac120005-2-2cf7-581d",
       "next": "652daf46-6f22-11ee-89fa-0242ac120005-1-ddec",
       "previous": "652dae92-6f22-11ee-89fa-0242ac120005-1-6a95"
      },
      {
       "current": "652daeec-6f22-11ee-89fa-0242ac120005-3-2cf7-581d-3add",
       "next": "652daf46-6f22-11ee-89fa-0242ac120005-2-ddec-5bdf",
       "previous": "652dae92-6f22-11ee-89fa-0242ac120005-2-6a95-a2b0"
      },
      {
       "current": "652daeec-6f22-11ee-89fa-0242ac120005-4-2cf7-581d-3add-06da",
       "next": "652daf46-6f22-11ee-89fa-0242ac120005-3-ddec-5bdf-e1c7",
       "previous": "652dae92-6f22-11ee-89fa-0242ac120005-3-6a95-a2b0-128e"
      },
      {
       "current": "652daeec-6f22-11ee-89fa-0242ac120005-5-2cf7-581d-3add-06da-d1d4",
       "next": "652daf46-6f22-11ee-89fa-0242ac120005-4-ddec-5bdf-e1c7-be41",
       "previous": "652dae92-6f22-11ee-89fa-0242ac120005-4-6a95-a2b0-128e-b35e"
      }
     ],
     "next": "652daf46-6f22-11ee-89fa-0242ac120005-5-ddec-5bdf-e1c7-be41-2fa2",
     "previous": "652dae92-6f22-11ee-89fa-0242ac120005-5-6a95-a2b0-128e-b35e-4f0d"
    }
   },
   "outputs": [],
   "source": [
    "import os\n",
    "\n",
    "user_creds = os.path.expanduser('~/.keys/xxxxxxx-openrc.sh')\n",
    "\n",
    "assert os.path.exists(user_creds), '{} is not exist'.format(user_creds)"
   ]
  },
  {
   "cell_type": "code",
   "execution_count": null,
   "metadata": {
    "lc_cell_meme": {
     "current": "652daf46-6f22-11ee-89fa-0242ac120005-5-ddec-5bdf-e1c7-be41-2fa2",
     "history": [
      {
       "current": "652daf46-6f22-11ee-89fa-0242ac120005-1-ddec",
       "next": "652daf96-6f22-11ee-89fa-0242ac120005",
       "previous": "652daeec-6f22-11ee-89fa-0242ac120005"
      },
      {
       "current": "652daf46-6f22-11ee-89fa-0242ac120005-2-ddec-5bdf",
       "next": "652daf96-6f22-11ee-89fa-0242ac120005-1-17f1",
       "previous": "652daeec-6f22-11ee-89fa-0242ac120005-1-2cf7"
      },
      {
       "current": "652daf46-6f22-11ee-89fa-0242ac120005-3-ddec-5bdf-e1c7",
       "next": "652daf96-6f22-11ee-89fa-0242ac120005-2-17f1-9c72",
       "previous": "652daeec-6f22-11ee-89fa-0242ac120005-2-2cf7-581d"
      },
      {
       "current": "652daf46-6f22-11ee-89fa-0242ac120005-4-ddec-5bdf-e1c7-be41",
       "next": "652daf96-6f22-11ee-89fa-0242ac120005-3-17f1-9c72-65e8",
       "previous": "652daeec-6f22-11ee-89fa-0242ac120005-3-2cf7-581d-3add"
      },
      {
       "current": "652daf46-6f22-11ee-89fa-0242ac120005-5-ddec-5bdf-e1c7-be41-2fa2",
       "next": "652daf96-6f22-11ee-89fa-0242ac120005-4-17f1-9c72-65e8-0bed",
       "previous": "652daeec-6f22-11ee-89fa-0242ac120005-4-2cf7-581d-3add-06da"
      }
     ],
     "next": "652daf96-6f22-11ee-89fa-0242ac120005-5-17f1-9c72-65e8-0bed-c3ee",
     "previous": "652daeec-6f22-11ee-89fa-0242ac120005-5-2cf7-581d-3add-06da-d1d4"
    }
   },
   "outputs": [],
   "source": [
    "%env USER_CREDS={user_creds}"
   ]
  },
  {
   "cell_type": "code",
   "execution_count": null,
   "metadata": {
    "lc_cell_meme": {
     "current": "652daf96-6f22-11ee-89fa-0242ac120005-5-17f1-9c72-65e8-0bed-c3ee",
     "history": [
      {
       "current": "652daf96-6f22-11ee-89fa-0242ac120005",
       "next": "652dafe6-6f22-11ee-89fa-0242ac120005",
       "previous": "652daf46-6f22-11ee-89fa-0242ac120005"
      },
      {
       "current": "652daf96-6f22-11ee-89fa-0242ac120005-1-17f1",
       "next": "652dafe6-6f22-11ee-89fa-0242ac120005-1-01d4",
       "previous": "652daf46-6f22-11ee-89fa-0242ac120005"
      },
      {
       "current": "652daf96-6f22-11ee-89fa-0242ac120005-2-17f1-9c72",
       "next": "652dafe6-6f22-11ee-89fa-0242ac120005-2-01d4-e0cf",
       "previous": "652daf46-6f22-11ee-89fa-0242ac120005-1-ddec"
      },
      {
       "current": "652daf96-6f22-11ee-89fa-0242ac120005-3-17f1-9c72-65e8",
       "next": "652dafe6-6f22-11ee-89fa-0242ac120005-3-01d4-e0cf-fee4",
       "previous": "652daf46-6f22-11ee-89fa-0242ac120005-2-ddec-5bdf"
      },
      {
       "current": "652daf96-6f22-11ee-89fa-0242ac120005-4-17f1-9c72-65e8-0bed",
       "next": "652dafe6-6f22-11ee-89fa-0242ac120005-4-01d4-e0cf-fee4-0a8a",
       "previous": "652daf46-6f22-11ee-89fa-0242ac120005-3-ddec-5bdf-e1c7"
      },
      {
       "current": "652daf96-6f22-11ee-89fa-0242ac120005-5-17f1-9c72-65e8-0bed-c3ee",
       "next": "652dafe6-6f22-11ee-89fa-0242ac120005-5-01d4-e0cf-fee4-0a8a-1553",
       "previous": "652daf46-6f22-11ee-89fa-0242ac120005-4-ddec-5bdf-e1c7-be41"
      }
     ],
     "next": "652dafe6-6f22-11ee-89fa-0242ac120005-6-01d4-e0cf-fee4-0a8a-1553-11a4",
     "previous": "652daf46-6f22-11ee-89fa-0242ac120005-5-ddec-5bdf-e1c7-be41-2fa2"
    }
   },
   "outputs": [],
   "source": [
    "!ls -l {user_creds}"
   ]
  },
  {
   "cell_type": "markdown",
   "metadata": {
    "lc_cell_meme": {
     "current": "652dafe6-6f22-11ee-89fa-0242ac120005-6-01d4-e0cf-fee4-0a8a-1553-11a4",
     "history": [
      {
       "current": "652dafe6-6f22-11ee-89fa-0242ac120005-2-01d4-e0cf",
       "next": "652db040-6f22-11ee-89fa-0242ac120005",
       "previous": "652daf96-6f22-11ee-89fa-0242ac120005"
      },
      {
       "current": "652dafe6-6f22-11ee-89fa-0242ac120005-3-01d4-e0cf-fee4",
       "next": "652db040-6f22-11ee-89fa-0242ac120005-1-44a2",
       "previous": "652daf96-6f22-11ee-89fa-0242ac120005-1-17f1"
      },
      {
       "current": "652dafe6-6f22-11ee-89fa-0242ac120005-4-01d4-e0cf-fee4-0a8a",
       "next": "652db040-6f22-11ee-89fa-0242ac120005-2-44a2-7f17",
       "previous": "652daf96-6f22-11ee-89fa-0242ac120005-2-17f1-9c72"
      },
      {
       "current": "652dafe6-6f22-11ee-89fa-0242ac120005-5-01d4-e0cf-fee4-0a8a-1553",
       "next": "652db040-6f22-11ee-89fa-0242ac120005-3-44a2-7f17-b563",
       "previous": "652daf96-6f22-11ee-89fa-0242ac120005-3-17f1-9c72-65e8"
      },
      {
       "current": "652dafe6-6f22-11ee-89fa-0242ac120005-6-01d4-e0cf-fee4-0a8a-1553-11a4",
       "next": "652db040-6f22-11ee-89fa-0242ac120005-4-44a2-7f17-b563-9cf8",
       "previous": "652daf96-6f22-11ee-89fa-0242ac120005-4-17f1-9c72-65e8-0bed"
      }
     ],
     "next": "652db040-6f22-11ee-89fa-0242ac120005-5-44a2-7f17-b563-9cf8-c502",
     "previous": "652daf96-6f22-11ee-89fa-0242ac120005-5-17f1-9c72-65e8-0bed-c3ee"
    }
   },
   "source": [
    "## openstackコマンド用ユーティリティ関数"
   ]
  },
  {
   "cell_type": "code",
   "execution_count": null,
   "metadata": {
    "lc_cell_meme": {
     "current": "652db040-6f22-11ee-89fa-0242ac120005-5-44a2-7f17-b563-9cf8-c502",
     "history": [
      {
       "current": "652db040-6f22-11ee-89fa-0242ac120005",
       "next": "652db090-6f22-11ee-89fa-0242ac120005",
       "previous": "652dafe6-6f22-11ee-89fa-0242ac120005"
      },
      {
       "current": "652db040-6f22-11ee-89fa-0242ac120005-1-44a2",
       "next": "acb9ce94-6f22-11ee-89fa-0242ac120005",
       "previous": "652dafe6-6f22-11ee-89fa-0242ac120005-1-01d4"
      },
      {
       "current": "652db040-6f22-11ee-89fa-0242ac120005-2-44a2-7f17",
       "next": "acb9ce94-6f22-11ee-89fa-0242ac120005-1-b360",
       "previous": "652dafe6-6f22-11ee-89fa-0242ac120005-2-01d4-e0cf"
      },
      {
       "current": "652db040-6f22-11ee-89fa-0242ac120005-3-44a2-7f17-b563",
       "next": "acb9ce94-6f22-11ee-89fa-0242ac120005-2-b360-3508",
       "previous": "652dafe6-6f22-11ee-89fa-0242ac120005-3-01d4-e0cf-fee4"
      },
      {
       "current": "652db040-6f22-11ee-89fa-0242ac120005-4-44a2-7f17-b563-9cf8",
       "next": "acb9ce94-6f22-11ee-89fa-0242ac120005-3-b360-3508-785f",
       "previous": "652dafe6-6f22-11ee-89fa-0242ac120005-4-01d4-e0cf-fee4-0a8a"
      },
      {
       "current": "652db040-6f22-11ee-89fa-0242ac120005-5-44a2-7f17-b563-9cf8-c502",
       "next": "acb9ce94-6f22-11ee-89fa-0242ac120005-4-b360-3508-785f-240b",
       "previous": "652dafe6-6f22-11ee-89fa-0242ac120005-5-01d4-e0cf-fee4-0a8a-1553"
      }
     ],
     "next": "acb9ce94-6f22-11ee-89fa-0242ac120005-5-b360-3508-785f-240b-935a",
     "previous": "652dafe6-6f22-11ee-89fa-0242ac120005-6-01d4-e0cf-fee4-0a8a-1553-11a4"
    }
   },
   "outputs": [],
   "source": [
    "def build_cmdline(param):\n",
    "    cmdline = ''\n",
    "    \n",
    "    for param_name, param_value in param.items():\n",
    "        if isinstance(param_value, dict):\n",
    "            for key, value in param_value.items():\n",
    "                cmdline += ' --{} {}={}'.format(param_name, key, value)\n",
    "        elif isinstance(param_value, list):\n",
    "            for item in param_value:\n",
    "                cmdline += ' --{} {}'.format(param_name, item)\n",
    "        elif isinstance(param_value, bool):\n",
    "            if param_value:\n",
    "                cmdline += ' --{}'.format(param_name)\n",
    "        else:\n",
    "            cmdline += ' --{} {}'.format(param_name, param_value)\n",
    "\n",
    "    return cmdline"
   ]
  },
  {
   "cell_type": "code",
   "execution_count": null,
   "metadata": {
    "lc_cell_meme": {
     "current": "acb9ce94-6f22-11ee-89fa-0242ac120005-5-b360-3508-785f-240b-935a",
     "history": [
      {
       "current": "acb9ce94-6f22-11ee-89fa-0242ac120005-1-b360",
       "next": "acb9cf52-6f22-11ee-89fa-0242ac120005",
       "previous": "652db040-6f22-11ee-89fa-0242ac120005"
      },
      {
       "current": "acb9ce94-6f22-11ee-89fa-0242ac120005-2-b360-3508",
       "next": "acb9cf52-6f22-11ee-89fa-0242ac120005-1-a13a",
       "previous": "652db040-6f22-11ee-89fa-0242ac120005-1-44a2"
      },
      {
       "current": "acb9ce94-6f22-11ee-89fa-0242ac120005-3-b360-3508-785f",
       "next": "acb9cf52-6f22-11ee-89fa-0242ac120005-2-a13a-828f",
       "previous": "652db040-6f22-11ee-89fa-0242ac120005-2-44a2-7f17"
      },
      {
       "current": "acb9ce94-6f22-11ee-89fa-0242ac120005-4-b360-3508-785f-240b",
       "next": "acb9cf52-6f22-11ee-89fa-0242ac120005-3-a13a-828f-8c70",
       "previous": "652db040-6f22-11ee-89fa-0242ac120005-3-44a2-7f17-b563"
      },
      {
       "current": "acb9ce94-6f22-11ee-89fa-0242ac120005-5-b360-3508-785f-240b-935a",
       "next": "acb9cf52-6f22-11ee-89fa-0242ac120005-4-a13a-828f-8c70-362a",
       "previous": "652db040-6f22-11ee-89fa-0242ac120005-4-44a2-7f17-b563-9cf8"
      }
     ],
     "next": "acb9cf52-6f22-11ee-89fa-0242ac120005-5-a13a-828f-8c70-362a-b632",
     "previous": "652db040-6f22-11ee-89fa-0242ac120005-5-44a2-7f17-b563-9cf8-c502"
    }
   },
   "outputs": [],
   "source": [
    "import json\n",
    "\n",
    "def run_openstack(cmd):\n",
    "    print('EXEC: {}'.format(cmd))\n",
    "    out = !source {user_creds} && {cmd}\n",
    "    print('OUTPUT: {}'.format('\\n'.join(out)))\n",
    "    return json.loads('\\n'.join(out))"
   ]
  },
  {
   "cell_type": "markdown",
   "metadata": {
    "lc_cell_meme": {
     "current": "acb9cf52-6f22-11ee-89fa-0242ac120005-5-a13a-828f-8c70-362a-b632",
     "history": [
      {
       "current": "acb9cf52-6f22-11ee-89fa-0242ac120005-1-a13a",
       "next": "acb9d010-6f22-11ee-89fa-0242ac120005",
       "previous": "acb9ce94-6f22-11ee-89fa-0242ac120005"
      },
      {
       "current": "acb9cf52-6f22-11ee-89fa-0242ac120005-2-a13a-828f",
       "next": "acb9d010-6f22-11ee-89fa-0242ac120005-1-5658",
       "previous": "acb9ce94-6f22-11ee-89fa-0242ac120005-1-b360"
      },
      {
       "current": "acb9cf52-6f22-11ee-89fa-0242ac120005-3-a13a-828f-8c70",
       "next": "acb9d010-6f22-11ee-89fa-0242ac120005-2-5658-f461",
       "previous": "acb9ce94-6f22-11ee-89fa-0242ac120005-2-b360-3508"
      },
      {
       "current": "acb9cf52-6f22-11ee-89fa-0242ac120005-4-a13a-828f-8c70-362a",
       "next": "acb9d010-6f22-11ee-89fa-0242ac120005-3-5658-f461-f0c3",
       "previous": "acb9ce94-6f22-11ee-89fa-0242ac120005-3-b360-3508-785f"
      },
      {
       "current": "acb9cf52-6f22-11ee-89fa-0242ac120005-5-a13a-828f-8c70-362a-b632",
       "next": "acb9d010-6f22-11ee-89fa-0242ac120005-4-5658-f461-f0c3-9a48",
       "previous": "acb9ce94-6f22-11ee-89fa-0242ac120005-4-b360-3508-785f-240b"
      }
     ],
     "next": "acb9d010-6f22-11ee-89fa-0242ac120005-5-5658-f461-f0c3-9a48-5016",
     "previous": "acb9ce94-6f22-11ee-89fa-0242ac120005-5-b360-3508-785f-240b-935a"
    }
   },
   "source": [
    "テスト"
   ]
  },
  {
   "cell_type": "code",
   "execution_count": null,
   "metadata": {
    "lc_cell_meme": {
     "current": "acb9d010-6f22-11ee-89fa-0242ac120005-5-5658-f461-f0c3-9a48-5016",
     "history": [
      {
       "current": "acb9d010-6f22-11ee-89fa-0242ac120005-1-5658",
       "next": "7f8984de-56f9-11ec-a1da-0242ac120004-1-fe2a",
       "previous": "acb9cf52-6f22-11ee-89fa-0242ac120005"
      },
      {
       "current": "acb9d010-6f22-11ee-89fa-0242ac120005-2-5658-f461",
       "next": "7f8984de-56f9-11ec-a1da-0242ac120004-2-fe2a-40eb",
       "previous": "acb9cf52-6f22-11ee-89fa-0242ac120005-1-a13a"
      },
      {
       "current": "acb9d010-6f22-11ee-89fa-0242ac120005-3-5658-f461-f0c3",
       "next": "7f8984de-56f9-11ec-a1da-0242ac120004-3-fe2a-40eb-a766",
       "previous": "acb9cf52-6f22-11ee-89fa-0242ac120005-2-a13a-828f"
      },
      {
       "current": "acb9d010-6f22-11ee-89fa-0242ac120005-4-5658-f461-f0c3-9a48",
       "next": "7f8984de-56f9-11ec-a1da-0242ac120004-4-fe2a-40eb-a766-b807",
       "previous": "acb9cf52-6f22-11ee-89fa-0242ac120005-3-a13a-828f-8c70"
      },
      {
       "current": "acb9d010-6f22-11ee-89fa-0242ac120005-5-5658-f461-f0c3-9a48-5016",
       "next": "7f8984de-56f9-11ec-a1da-0242ac120004-5-fe2a-40eb-a766-b807-6e00",
       "previous": "acb9cf52-6f22-11ee-89fa-0242ac120005-4-a13a-828f-8c70-362a"
      }
     ],
     "next": "7f8984de-56f9-11ec-a1da-0242ac120004-6-fe2a-40eb-a766-b807-6e00-5ec9",
     "previous": "acb9cf52-6f22-11ee-89fa-0242ac120005-5-a13a-828f-8c70-362a-b632"
    }
   },
   "outputs": [],
   "source": [
    "run_openstack('openstack flavor list -f json' + build_cmdline({'all': True}))"
   ]
  },
  {
   "cell_type": "markdown",
   "metadata": {
    "lc_cell_meme": {
     "current": "7f8984de-56f9-11ec-a1da-0242ac120004-6-fe2a-40eb-a766-b807-6e00-5ec9",
     "history": [
      {
       "current": "7f8984de-56f9-11ec-a1da-0242ac120004-1-fe2a",
       "next": "7f89861e-56f9-11ec-a1da-0242ac120004",
       "previous": "7f898358-56f9-11ec-a1da-0242ac120004"
      },
      {
       "current": "7f8984de-56f9-11ec-a1da-0242ac120004-1-fe2a",
       "next": "7f89861e-56f9-11ec-a1da-0242ac120004-1-f0eb",
       "previous": "7f898358-56f9-11ec-a1da-0242ac120004-1-9fd7"
      },
      {
       "current": "7f8984de-56f9-11ec-a1da-0242ac120004-1-fe2a",
       "next": "7f89861e-56f9-11ec-a1da-0242ac120004-1-f0eb",
       "previous": "652db090-6f22-11ee-89fa-0242ac120005"
      },
      {
       "current": "7f8984de-56f9-11ec-a1da-0242ac120004-2-fe2a-40eb",
       "next": "7f89861e-56f9-11ec-a1da-0242ac120004-1-f0eb",
       "previous": "acb9d010-6f22-11ee-89fa-0242ac120005"
      },
      {
       "current": "7f8984de-56f9-11ec-a1da-0242ac120004-3-fe2a-40eb-a766",
       "next": "7f89861e-56f9-11ec-a1da-0242ac120004-2-f0eb-8fce",
       "previous": "acb9d010-6f22-11ee-89fa-0242ac120005-1-5658"
      },
      {
       "current": "7f8984de-56f9-11ec-a1da-0242ac120004-4-fe2a-40eb-a766-b807",
       "next": "7f89861e-56f9-11ec-a1da-0242ac120004-3-f0eb-8fce-27a1",
       "previous": "acb9d010-6f22-11ee-89fa-0242ac120005-2-5658-f461"
      },
      {
       "current": "7f8984de-56f9-11ec-a1da-0242ac120004-5-fe2a-40eb-a766-b807-6e00",
       "next": "7f89861e-56f9-11ec-a1da-0242ac120004-4-f0eb-8fce-27a1-5aa0",
       "previous": "acb9d010-6f22-11ee-89fa-0242ac120005-3-5658-f461-f0c3"
      },
      {
       "current": "7f8984de-56f9-11ec-a1da-0242ac120004-6-fe2a-40eb-a766-b807-6e00-5ec9",
       "next": "7f89861e-56f9-11ec-a1da-0242ac120004-5-f0eb-8fce-27a1-5aa0-e853",
       "previous": "acb9d010-6f22-11ee-89fa-0242ac120005-4-5658-f461-f0c3-9a48"
      }
     ],
     "next": "7f89861e-56f9-11ec-a1da-0242ac120004-6-f0eb-8fce-27a1-5aa0-e853-ef7d",
     "previous": "acb9d010-6f22-11ee-89fa-0242ac120005-5-5658-f461-f0c3-9a48-5016"
    }
   },
   "source": [
    "## デプロイされたCephノード情報の取得"
   ]
  },
  {
   "cell_type": "markdown",
   "metadata": {
    "lc_cell_meme": {
     "current": "7f89861e-56f9-11ec-a1da-0242ac120004-6-f0eb-8fce-27a1-5aa0-e853-ef7d",
     "history": [
      {
       "current": "7f89861e-56f9-11ec-a1da-0242ac120004-1-f0eb",
       "next": "7f898754-56f9-11ec-a1da-0242ac120004",
       "previous": "7f8984de-56f9-11ec-a1da-0242ac120004"
      },
      {
       "current": "7f89861e-56f9-11ec-a1da-0242ac120004-1-f0eb",
       "next": "7f898754-56f9-11ec-a1da-0242ac120004-1-c22e",
       "previous": "7f8984de-56f9-11ec-a1da-0242ac120004-1-fe2a"
      },
      {
       "current": "7f89861e-56f9-11ec-a1da-0242ac120004-2-f0eb-8fce",
       "next": "acb9d042-6f22-11ee-89fa-0242ac120005",
       "previous": "7f8984de-56f9-11ec-a1da-0242ac120004-1-fe2a"
      },
      {
       "current": "7f89861e-56f9-11ec-a1da-0242ac120004-3-f0eb-8fce-27a1",
       "next": "acb9d042-6f22-11ee-89fa-0242ac120005-1-86af",
       "previous": "7f8984de-56f9-11ec-a1da-0242ac120004-2-fe2a-40eb"
      },
      {
       "current": "7f89861e-56f9-11ec-a1da-0242ac120004-4-f0eb-8fce-27a1-5aa0",
       "next": "acb9d042-6f22-11ee-89fa-0242ac120005-2-86af-d6b1",
       "previous": "7f8984de-56f9-11ec-a1da-0242ac120004-3-fe2a-40eb-a766"
      },
      {
       "current": "7f89861e-56f9-11ec-a1da-0242ac120004-5-f0eb-8fce-27a1-5aa0-e853",
       "next": "acb9d042-6f22-11ee-89fa-0242ac120005-3-86af-d6b1-cbb5",
       "previous": "7f8984de-56f9-11ec-a1da-0242ac120004-4-fe2a-40eb-a766-b807"
      },
      {
       "current": "7f89861e-56f9-11ec-a1da-0242ac120004-6-f0eb-8fce-27a1-5aa0-e853-ef7d",
       "next": "acb9d042-6f22-11ee-89fa-0242ac120005-4-86af-d6b1-cbb5-22a2",
       "previous": "7f8984de-56f9-11ec-a1da-0242ac120004-5-fe2a-40eb-a766-b807-6e00"
      }
     ],
     "next": "acb9d042-6f22-11ee-89fa-0242ac120005-5-86af-d6b1-cbb5-22a2-01d8",
     "previous": "7f8984de-56f9-11ec-a1da-0242ac120004-6-fe2a-40eb-a766-b807-6e00-5ec9"
    }
   },
   "source": [
    "ストレージノードを特定するにあたり、ノード名称が　ceph-nodexxx （xxxの部分は、右寄せ0埋めの数字3桁）というルールに従っていることを前提としている。<br>\n",
    " 例：ceph-node001<br>\n",
    " このノード名称ルールは、構築するCephクラスタ毎に変えるため、以下で定義する。"
   ]
  },
  {
   "cell_type": "code",
   "execution_count": null,
   "metadata": {
    "lc_cell_meme": {
     "current": "acb9d042-6f22-11ee-89fa-0242ac120005-5-86af-d6b1-cbb5-22a2-01d8",
     "history": [
      {
       "current": "acb9d042-6f22-11ee-89fa-0242ac120005-1-86af",
       "next": "7f898754-56f9-11ec-a1da-0242ac120004-1-c22e",
       "previous": "7f89861e-56f9-11ec-a1da-0242ac120004-1-f0eb"
      },
      {
       "current": "acb9d042-6f22-11ee-89fa-0242ac120005-2-86af-d6b1",
       "next": "7f898754-56f9-11ec-a1da-0242ac120004-2-c22e-64e3",
       "previous": "7f89861e-56f9-11ec-a1da-0242ac120004-2-f0eb-8fce"
      },
      {
       "current": "acb9d042-6f22-11ee-89fa-0242ac120005-3-86af-d6b1-cbb5",
       "next": "7f898754-56f9-11ec-a1da-0242ac120004-3-c22e-64e3-933d",
       "previous": "7f89861e-56f9-11ec-a1da-0242ac120004-3-f0eb-8fce-27a1"
      },
      {
       "current": "acb9d042-6f22-11ee-89fa-0242ac120005-4-86af-d6b1-cbb5-22a2",
       "next": "7f898754-56f9-11ec-a1da-0242ac120004-4-c22e-64e3-933d-f1fa",
       "previous": "7f89861e-56f9-11ec-a1da-0242ac120004-4-f0eb-8fce-27a1-5aa0"
      },
      {
       "current": "acb9d042-6f22-11ee-89fa-0242ac120005-5-86af-d6b1-cbb5-22a2-01d8",
       "next": "7f898754-56f9-11ec-a1da-0242ac120004-5-c22e-64e3-933d-f1fa-062f",
       "previous": "7f89861e-56f9-11ec-a1da-0242ac120004-5-f0eb-8fce-27a1-5aa0-e853"
      }
     ],
     "next": "7f898754-56f9-11ec-a1da-0242ac120004-6-c22e-64e3-933d-f1fa-062f-3fbc",
     "previous": "7f89861e-56f9-11ec-a1da-0242ac120004-6-f0eb-8fce-27a1-5aa0-e853-ef7d"
    }
   },
   "outputs": [],
   "source": [
    "# 初期化対象のインスタンス名称を設定する\n",
    "raise Exception('この先手作業が必要です')"
   ]
  },
  {
   "cell_type": "code",
   "execution_count": null,
   "metadata": {
    "lc_cell_meme": {
     "current": "7f898754-56f9-11ec-a1da-0242ac120004-6-c22e-64e3-933d-f1fa-062f-3fbc",
     "history": [
      {
       "current": "7f898754-56f9-11ec-a1da-0242ac120004",
       "next": "37fd8138-56f9-11ec-a1da-0242ac120004",
       "previous": "7f89861e-56f9-11ec-a1da-0242ac120004"
      },
      {
       "current": "7f898754-56f9-11ec-a1da-0242ac120004-1-c22e",
       "next": "37fd8138-56f9-11ec-a1da-0242ac120004-1-cd3c",
       "previous": "7f89861e-56f9-11ec-a1da-0242ac120004"
      },
      {
       "current": "7f898754-56f9-11ec-a1da-0242ac120004-1-c22e",
       "next": "37fd8138-56f9-11ec-a1da-0242ac120004-2-cd3c-96de",
       "previous": "7f89861e-56f9-11ec-a1da-0242ac120004-1-f0eb"
      },
      {
       "current": "7f898754-56f9-11ec-a1da-0242ac120004-2-c22e-64e3",
       "next": "acb9d06a-6f22-11ee-89fa-0242ac120005",
       "previous": "acb9d042-6f22-11ee-89fa-0242ac120005"
      },
      {
       "current": "7f898754-56f9-11ec-a1da-0242ac120004-3-c22e-64e3-933d",
       "next": "acb9d06a-6f22-11ee-89fa-0242ac120005-1-52f9",
       "previous": "acb9d042-6f22-11ee-89fa-0242ac120005-1-86af"
      },
      {
       "current": "7f898754-56f9-11ec-a1da-0242ac120004-4-c22e-64e3-933d-f1fa",
       "next": "acb9d06a-6f22-11ee-89fa-0242ac120005-2-52f9-ffe5",
       "previous": "acb9d042-6f22-11ee-89fa-0242ac120005-2-86af-d6b1"
      },
      {
       "current": "7f898754-56f9-11ec-a1da-0242ac120004-5-c22e-64e3-933d-f1fa-062f",
       "next": "acb9d06a-6f22-11ee-89fa-0242ac120005-3-52f9-ffe5-fd2c",
       "previous": "acb9d042-6f22-11ee-89fa-0242ac120005-3-86af-d6b1-cbb5"
      },
      {
       "current": "7f898754-56f9-11ec-a1da-0242ac120004-6-c22e-64e3-933d-f1fa-062f-3fbc",
       "next": "acb9d06a-6f22-11ee-89fa-0242ac120005-4-52f9-ffe5-fd2c-89c6",
       "previous": "acb9d042-6f22-11ee-89fa-0242ac120005-4-86af-d6b1-cbb5-22a2"
      }
     ],
     "next": "acb9d06a-6f22-11ee-89fa-0242ac120005-5-52f9-ffe5-fd2c-89c6-b9c5",
     "previous": "acb9d042-6f22-11ee-89fa-0242ac120005-5-86af-d6b1-cbb5-22a2-01d8"
    }
   },
   "outputs": [],
   "source": [
    "import pandas as pd\n",
    "import re\n",
    "\n",
    "# 対象インスタンス名称マッチングルール\n",
    "name_match_rule = r'ceph-xxx-node-[0-9]+'"
   ]
  },
  {
   "cell_type": "markdown",
   "metadata": {
    "heading_collapsed": true,
    "lc_cell_meme": {
     "current": "acb9d06a-6f22-11ee-89fa-0242ac120005-5-52f9-ffe5-fd2c-89c6-b9c5",
     "history": [
      {
       "current": "acb9d06a-6f22-11ee-89fa-0242ac120005-1-52f9",
       "next": "acb9d092-6f22-11ee-89fa-0242ac120005",
       "previous": "7f898754-56f9-11ec-a1da-0242ac120004-1-c22e"
      },
      {
       "current": "acb9d06a-6f22-11ee-89fa-0242ac120005-2-52f9-ffe5",
       "next": "acb9d092-6f22-11ee-89fa-0242ac120005-1-9143",
       "previous": "7f898754-56f9-11ec-a1da-0242ac120004-2-c22e-64e3"
      },
      {
       "current": "acb9d06a-6f22-11ee-89fa-0242ac120005-3-52f9-ffe5-fd2c",
       "next": "acb9d092-6f22-11ee-89fa-0242ac120005-2-9143-1d5c",
       "previous": "7f898754-56f9-11ec-a1da-0242ac120004-3-c22e-64e3-933d"
      },
      {
       "current": "acb9d06a-6f22-11ee-89fa-0242ac120005-4-52f9-ffe5-fd2c-89c6",
       "next": "acb9d092-6f22-11ee-89fa-0242ac120005-3-9143-1d5c-1e06",
       "previous": "7f898754-56f9-11ec-a1da-0242ac120004-4-c22e-64e3-933d-f1fa"
      },
      {
       "current": "acb9d06a-6f22-11ee-89fa-0242ac120005-5-52f9-ffe5-fd2c-89c6-b9c5",
       "next": "acb9d092-6f22-11ee-89fa-0242ac120005-4-9143-1d5c-1e06-471e",
       "previous": "7f898754-56f9-11ec-a1da-0242ac120004-5-c22e-64e3-933d-f1fa-062f"
      }
     ],
     "next": "acb9d092-6f22-11ee-89fa-0242ac120005-5-9143-1d5c-1e06-471e-6a91",
     "previous": "7f898754-56f9-11ec-a1da-0242ac120004-6-c22e-64e3-933d-f1fa-062f-3fbc"
    }
   },
   "source": [
    "## OpenStack Ironicからノード情報の取得"
   ]
  },
  {
   "cell_type": "code",
   "execution_count": null,
   "metadata": {
    "hidden": true,
    "lc_cell_meme": {
     "current": "acb9d092-6f22-11ee-89fa-0242ac120005-5-9143-1d5c-1e06-471e-6a91",
     "history": [
      {
       "current": "acb9d092-6f22-11ee-89fa-0242ac120005-1-9143",
       "next": "acb9d0ba-6f22-11ee-89fa-0242ac120005",
       "previous": "acb9d06a-6f22-11ee-89fa-0242ac120005"
      },
      {
       "current": "acb9d092-6f22-11ee-89fa-0242ac120005-2-9143-1d5c",
       "next": "acb9d0ba-6f22-11ee-89fa-0242ac120005-1-f241",
       "previous": "acb9d06a-6f22-11ee-89fa-0242ac120005-1-52f9"
      },
      {
       "current": "acb9d092-6f22-11ee-89fa-0242ac120005-3-9143-1d5c-1e06",
       "next": "acb9d0ba-6f22-11ee-89fa-0242ac120005-2-f241-39b2",
       "previous": "acb9d06a-6f22-11ee-89fa-0242ac120005-2-52f9-ffe5"
      },
      {
       "current": "acb9d092-6f22-11ee-89fa-0242ac120005-4-9143-1d5c-1e06-471e",
       "next": "acb9d0ba-6f22-11ee-89fa-0242ac120005-3-f241-39b2-205d",
       "previous": "acb9d06a-6f22-11ee-89fa-0242ac120005-3-52f9-ffe5-fd2c"
      },
      {
       "current": "acb9d092-6f22-11ee-89fa-0242ac120005-5-9143-1d5c-1e06-471e-6a91",
       "next": "acb9d0ba-6f22-11ee-89fa-0242ac120005-4-f241-39b2-205d-2371",
       "previous": "acb9d06a-6f22-11ee-89fa-0242ac120005-4-52f9-ffe5-fd2c-89c6"
      }
     ],
     "next": "acb9d0ba-6f22-11ee-89fa-0242ac120005-5-f241-39b2-205d-2371-4090",
     "previous": "acb9d06a-6f22-11ee-89fa-0242ac120005-5-52f9-ffe5-fd2c-89c6-b9c5"
    },
    "scrolled": true
   },
   "outputs": [],
   "source": [
    "cmd = \"openstack baremetal node list -f json --long\"\n",
    "nodes = run_openstack(cmd)"
   ]
  },
  {
   "cell_type": "code",
   "execution_count": null,
   "metadata": {
    "hidden": true,
    "lc_cell_meme": {
     "current": "acb9d0ba-6f22-11ee-89fa-0242ac120005-5-f241-39b2-205d-2371-4090",
     "history": [
      {
       "current": "acb9d0ba-6f22-11ee-89fa-0242ac120005-1-f241",
       "next": "acb9d0e2-6f22-11ee-89fa-0242ac120005",
       "previous": "acb9d092-6f22-11ee-89fa-0242ac120005"
      },
      {
       "current": "acb9d0ba-6f22-11ee-89fa-0242ac120005-2-f241-39b2",
       "next": "acb9d0e2-6f22-11ee-89fa-0242ac120005-1-8c27",
       "previous": "acb9d092-6f22-11ee-89fa-0242ac120005-1-9143"
      },
      {
       "current": "acb9d0ba-6f22-11ee-89fa-0242ac120005-3-f241-39b2-205d",
       "next": "acb9d0e2-6f22-11ee-89fa-0242ac120005-2-8c27-7017",
       "previous": "acb9d092-6f22-11ee-89fa-0242ac120005-2-9143-1d5c"
      },
      {
       "current": "acb9d0ba-6f22-11ee-89fa-0242ac120005-4-f241-39b2-205d-2371",
       "next": "acb9d0e2-6f22-11ee-89fa-0242ac120005-3-8c27-7017-e77f",
       "previous": "acb9d092-6f22-11ee-89fa-0242ac120005-3-9143-1d5c-1e06"
      },
      {
       "current": "acb9d0ba-6f22-11ee-89fa-0242ac120005-5-f241-39b2-205d-2371-4090",
       "next": "acb9d0e2-6f22-11ee-89fa-0242ac120005-4-8c27-7017-e77f-86c8",
       "previous": "acb9d092-6f22-11ee-89fa-0242ac120005-4-9143-1d5c-1e06-471e"
      }
     ],
     "next": "acb9d0e2-6f22-11ee-89fa-0242ac120005-5-8c27-7017-e77f-86c8-3282",
     "previous": "acb9d092-6f22-11ee-89fa-0242ac120005-5-9143-1d5c-1e06-471e-6a91"
    },
    "scrolled": true
   },
   "outputs": [],
   "source": [
    "import pandas as pd\n",
    "import re\n",
    "\n",
    "for node in nodes:\n",
    "    instance_uuid = node.get(\"Instance UUID\", None)\n",
    "    if instance_uuid is None:\n",
    "        continue\n",
    "        \n",
    "    node[\"instance_name\"] = node[\"Instance Info\"][\"display_name\"]\n",
    "\n",
    "pd.set_option('display.max_rows', None)\n",
    "pd.DataFrame(nodes, columns=['Instance UUID', 'instance_name', 'UUID', 'Maintenance', 'Provisioning State', 'Power State', 'Name'])\n"
   ]
  },
  {
   "cell_type": "code",
   "execution_count": null,
   "metadata": {
    "hidden": true,
    "lc_cell_meme": {
     "current": "acb9d0e2-6f22-11ee-89fa-0242ac120005-5-8c27-7017-e77f-86c8-3282",
     "history": [
      {
       "current": "acb9d0e2-6f22-11ee-89fa-0242ac120005-1-8c27",
       "next": "acb9d10a-6f22-11ee-89fa-0242ac120005",
       "previous": "acb9d0ba-6f22-11ee-89fa-0242ac120005"
      },
      {
       "current": "acb9d0e2-6f22-11ee-89fa-0242ac120005-2-8c27-7017",
       "next": "acb9d10a-6f22-11ee-89fa-0242ac120005-1-fb0f",
       "previous": "acb9d0ba-6f22-11ee-89fa-0242ac120005-1-f241"
      },
      {
       "current": "acb9d0e2-6f22-11ee-89fa-0242ac120005-3-8c27-7017-e77f",
       "next": "acb9d10a-6f22-11ee-89fa-0242ac120005-2-fb0f-43bc",
       "previous": "acb9d0ba-6f22-11ee-89fa-0242ac120005-2-f241-39b2"
      },
      {
       "current": "acb9d0e2-6f22-11ee-89fa-0242ac120005-4-8c27-7017-e77f-86c8",
       "next": "acb9d10a-6f22-11ee-89fa-0242ac120005-3-fb0f-43bc-24e4",
       "previous": "acb9d0ba-6f22-11ee-89fa-0242ac120005-3-f241-39b2-205d"
      },
      {
       "current": "acb9d0e2-6f22-11ee-89fa-0242ac120005-5-8c27-7017-e77f-86c8-3282",
       "next": "acb9d10a-6f22-11ee-89fa-0242ac120005-4-fb0f-43bc-24e4-0a8a",
       "previous": "acb9d0ba-6f22-11ee-89fa-0242ac120005-4-f241-39b2-205d-2371"
      }
     ],
     "next": "acb9d10a-6f22-11ee-89fa-0242ac120005-5-fb0f-43bc-24e4-0a8a-1edb",
     "previous": "acb9d0ba-6f22-11ee-89fa-0242ac120005-5-f241-39b2-205d-2371-4090"
    },
    "scrolled": true
   },
   "outputs": [],
   "source": [
    "cmd = \"openstack server list -f json --long\"\n",
    "nova_server_map = run_openstack(cmd)"
   ]
  },
  {
   "cell_type": "code",
   "execution_count": null,
   "metadata": {
    "hidden": true,
    "lc_cell_meme": {
     "current": "acb9d10a-6f22-11ee-89fa-0242ac120005-5-fb0f-43bc-24e4-0a8a-1edb",
     "history": [
      {
       "current": "acb9d10a-6f22-11ee-89fa-0242ac120005",
       "next": "acb9d132-6f22-11ee-89fa-0242ac120005",
       "previous": "acb9d0e2-6f22-11ee-89fa-0242ac120005"
      },
      {
       "current": "acb9d10a-6f22-11ee-89fa-0242ac120005-1-fb0f",
       "next": "7163ca0c-56fb-11ec-a1da-0242ac120004-1-2a50",
       "previous": "acb9d0e2-6f22-11ee-89fa-0242ac120005"
      },
      {
       "current": "acb9d10a-6f22-11ee-89fa-0242ac120005-2-fb0f-43bc",
       "next": "7163ca0c-56fb-11ec-a1da-0242ac120004-2-2a50-c2c9",
       "previous": "acb9d0e2-6f22-11ee-89fa-0242ac120005-1-8c27"
      },
      {
       "current": "acb9d10a-6f22-11ee-89fa-0242ac120005-3-fb0f-43bc-24e4",
       "next": "7163ca0c-56fb-11ec-a1da-0242ac120004-3-2a50-c2c9-25e9",
       "previous": "acb9d0e2-6f22-11ee-89fa-0242ac120005-2-8c27-7017"
      },
      {
       "current": "acb9d10a-6f22-11ee-89fa-0242ac120005-4-fb0f-43bc-24e4-0a8a",
       "next": "7163ca0c-56fb-11ec-a1da-0242ac120004-4-2a50-c2c9-25e9-fb97",
       "previous": "acb9d0e2-6f22-11ee-89fa-0242ac120005-3-8c27-7017-e77f"
      },
      {
       "current": "acb9d10a-6f22-11ee-89fa-0242ac120005-5-fb0f-43bc-24e4-0a8a-1edb",
       "next": "7163ca0c-56fb-11ec-a1da-0242ac120004-5-2a50-c2c9-25e9-fb97-e7ee",
       "previous": "acb9d0e2-6f22-11ee-89fa-0242ac120005-4-8c27-7017-e77f-86c8"
      }
     ],
     "next": "7163ca0c-56fb-11ec-a1da-0242ac120004-6-2a50-c2c9-25e9-fb97-e7ee-e060",
     "previous": "acb9d0e2-6f22-11ee-89fa-0242ac120005-5-8c27-7017-e77f-86c8-3282"
    }
   },
   "outputs": [],
   "source": [
    "node_list = []\n",
    "for server in nova_server_map:\n",
    "    node_id = server['ID']\n",
    "    if re.match(name_match_rule, server['Name']) is None:\n",
    "        continue\n",
    "    for node in nodes:\n",
    "        if node['Instance UUID'] == node_id:\n",
    "            node_info = {}\n",
    "            node_list.append(node_info)\n",
    "            node_info['name'] = server['Name']\n",
    "            node_info['node_name'] = node['Name']\n",
    "            instance_ip_info = instance_ip_map.get(server['Name'], None)\n",
    "            if instance_ip_info is not None:\n",
    "                node_info['instance_ip'] = instance_ip_info.get('ipv4', None)\n",
    "            else:\n",
    "                node_info['instance_ip'] = None\n",
    "            address = server['Networks']\n",
    "            prov_net = address['provisioning-net']\n",
    "            for addr in prov_net:\n",
    "                node_info['prov_ip'] = addr\n",
    "\n",
    "pd.DataFrame(node_list)"
   ]
  },
  {
   "cell_type": "markdown",
   "metadata": {
    "lc_cell_meme": {
     "current": "7163ca0c-56fb-11ec-a1da-0242ac120004-6-2a50-c2c9-25e9-fb97-e7ee-e060",
     "history": [
      {
       "current": "7163ca0c-56fb-11ec-a1da-0242ac120004",
       "next": "7163cc14-56fb-11ec-a1da-0242ac120004",
       "previous": "7163c6b0-56fb-11ec-a1da-0242ac120004"
      },
      {
       "current": "7163ca0c-56fb-11ec-a1da-0242ac120004-1-2a50",
       "next": "7163cc14-56fb-11ec-a1da-0242ac120004",
       "previous": "d9e2e18e-56fc-11ec-a1da-0242ac120004"
      },
      {
       "current": "7163ca0c-56fb-11ec-a1da-0242ac120004-1-2a50",
       "next": "7163cc14-56fb-11ec-a1da-0242ac120004-1-2f97",
       "previous": "d9e2e18e-56fc-11ec-a1da-0242ac120004-1-488f"
      },
      {
       "current": "7163ca0c-56fb-11ec-a1da-0242ac120004-2-2a50-c2c9",
       "next": "7163cc14-56fb-11ec-a1da-0242ac120004-1-2f97",
       "previous": "acb9d10a-6f22-11ee-89fa-0242ac120005"
      },
      {
       "current": "7163ca0c-56fb-11ec-a1da-0242ac120004-3-2a50-c2c9-25e9",
       "next": "7163cc14-56fb-11ec-a1da-0242ac120004-2-2f97-67db",
       "previous": "acb9d10a-6f22-11ee-89fa-0242ac120005-1-fb0f"
      },
      {
       "current": "7163ca0c-56fb-11ec-a1da-0242ac120004-4-2a50-c2c9-25e9-fb97",
       "next": "7163cc14-56fb-11ec-a1da-0242ac120004-3-2f97-67db-8f2d",
       "previous": "acb9d10a-6f22-11ee-89fa-0242ac120005-2-fb0f-43bc"
      },
      {
       "current": "7163ca0c-56fb-11ec-a1da-0242ac120004-5-2a50-c2c9-25e9-fb97-e7ee",
       "next": "7163cc14-56fb-11ec-a1da-0242ac120004-4-2f97-67db-8f2d-cf22",
       "previous": "acb9d10a-6f22-11ee-89fa-0242ac120005-3-fb0f-43bc-24e4"
      },
      {
       "current": "7163ca0c-56fb-11ec-a1da-0242ac120004-6-2a50-c2c9-25e9-fb97-e7ee-e060",
       "next": "7163cc14-56fb-11ec-a1da-0242ac120004-5-2f97-67db-8f2d-cf22-8840",
       "previous": "acb9d10a-6f22-11ee-89fa-0242ac120005-4-fb0f-43bc-24e4-0a8a"
      }
     ],
     "next": "7163cc14-56fb-11ec-a1da-0242ac120004-6-2f97-67db-8f2d-cf22-8840-dc56",
     "previous": "acb9d10a-6f22-11ee-89fa-0242ac120005-5-fb0f-43bc-24e4-0a8a-1edb"
    }
   },
   "source": [
    "## 初期化対象Cephノード情報の取得"
   ]
  },
  {
   "cell_type": "markdown",
   "metadata": {
    "lc_cell_meme": {
     "current": "7163cc14-56fb-11ec-a1da-0242ac120004-6-2f97-67db-8f2d-cf22-8840-dc56",
     "history": [
      {
       "current": "7163cc14-56fb-11ec-a1da-0242ac120004-1-2f97",
       "next": "7163cdd6-56fb-11ec-a1da-0242ac120004",
       "previous": "7163ca0c-56fb-11ec-a1da-0242ac120004"
      },
      {
       "current": "7163cc14-56fb-11ec-a1da-0242ac120004-2-2f97-67db",
       "next": "7163cdd6-56fb-11ec-a1da-0242ac120004-1-03bf",
       "previous": "7163ca0c-56fb-11ec-a1da-0242ac120004-1-2a50"
      },
      {
       "current": "7163cc14-56fb-11ec-a1da-0242ac120004-3-2f97-67db-8f2d",
       "next": "7163cdd6-56fb-11ec-a1da-0242ac120004-2-03bf-a3d9",
       "previous": "7163ca0c-56fb-11ec-a1da-0242ac120004-2-2a50-c2c9"
      },
      {
       "current": "7163cc14-56fb-11ec-a1da-0242ac120004-4-2f97-67db-8f2d-cf22",
       "next": "7163cdd6-56fb-11ec-a1da-0242ac120004-3-03bf-a3d9-0814",
       "previous": "7163ca0c-56fb-11ec-a1da-0242ac120004-3-2a50-c2c9-25e9"
      },
      {
       "current": "7163cc14-56fb-11ec-a1da-0242ac120004-5-2f97-67db-8f2d-cf22-8840",
       "next": "7163cdd6-56fb-11ec-a1da-0242ac120004-4-03bf-a3d9-0814-b70a",
       "previous": "7163ca0c-56fb-11ec-a1da-0242ac120004-4-2a50-c2c9-25e9-fb97"
      },
      {
       "current": "7163cc14-56fb-11ec-a1da-0242ac120004-6-2f97-67db-8f2d-cf22-8840-dc56",
       "next": "7163cdd6-56fb-11ec-a1da-0242ac120004-5-03bf-a3d9-0814-b70a-858d",
       "previous": "7163ca0c-56fb-11ec-a1da-0242ac120004-5-2a50-c2c9-25e9-fb97-e7ee"
      }
     ],
     "next": "7163cdd6-56fb-11ec-a1da-0242ac120004-6-03bf-a3d9-0814-b70a-858d-b6e9",
     "previous": "7163ca0c-56fb-11ec-a1da-0242ac120004-6-2a50-c2c9-25e9-fb97-e7ee-e060"
    }
   },
   "source": [
    "初期化対象のインスタンス名称を設定する"
   ]
  },
  {
   "cell_type": "markdown",
   "metadata": {
    "lc_cell_meme": {
     "current": "7163cdd6-56fb-11ec-a1da-0242ac120004-6-03bf-a3d9-0814-b70a-858d-b6e9",
     "history": [
      {
       "current": "7163cdd6-56fb-11ec-a1da-0242ac120004-1-03bf",
       "next": "7163cf84-56fb-11ec-a1da-0242ac120004",
       "previous": "7163cc14-56fb-11ec-a1da-0242ac120004"
      },
      {
       "current": "7163cdd6-56fb-11ec-a1da-0242ac120004-2-03bf-a3d9",
       "next": "7163cf84-56fb-11ec-a1da-0242ac120004-1-09bf",
       "previous": "7163cc14-56fb-11ec-a1da-0242ac120004-1-2f97"
      },
      {
       "current": "7163cdd6-56fb-11ec-a1da-0242ac120004-3-03bf-a3d9-0814",
       "next": "7163cf84-56fb-11ec-a1da-0242ac120004-2-09bf-1062",
       "previous": "7163cc14-56fb-11ec-a1da-0242ac120004-2-2f97-67db"
      },
      {
       "current": "7163cdd6-56fb-11ec-a1da-0242ac120004-4-03bf-a3d9-0814-b70a",
       "next": "7163cf84-56fb-11ec-a1da-0242ac120004-3-09bf-1062-3f14",
       "previous": "7163cc14-56fb-11ec-a1da-0242ac120004-3-2f97-67db-8f2d"
      },
      {
       "current": "7163cdd6-56fb-11ec-a1da-0242ac120004-5-03bf-a3d9-0814-b70a-858d",
       "next": "7163cf84-56fb-11ec-a1da-0242ac120004-4-09bf-1062-3f14-8180",
       "previous": "7163cc14-56fb-11ec-a1da-0242ac120004-4-2f97-67db-8f2d-cf22"
      },
      {
       "current": "7163cdd6-56fb-11ec-a1da-0242ac120004-6-03bf-a3d9-0814-b70a-858d-b6e9",
       "next": "7163cf84-56fb-11ec-a1da-0242ac120004-5-09bf-1062-3f14-8180-e5d8",
       "previous": "7163cc14-56fb-11ec-a1da-0242ac120004-5-2f97-67db-8f2d-cf22-8840"
      }
     ],
     "next": "7163cf84-56fb-11ec-a1da-0242ac120004-6-09bf-1062-3f14-8180-e5d8-4ee3",
     "previous": "7163cc14-56fb-11ec-a1da-0242ac120004-6-2f97-67db-8f2d-cf22-8840-dc56"
    }
   },
   "source": [
    "### 対象ノードの指定"
   ]
  },
  {
   "cell_type": "code",
   "execution_count": null,
   "metadata": {
    "lc_cell_meme": {
     "current": "7163cf84-56fb-11ec-a1da-0242ac120004-6-09bf-1062-3f14-8180-e5d8-4ee3",
     "history": [
      {
       "current": "7163cf84-56fb-11ec-a1da-0242ac120004-1-09bf",
       "next": "7163d132-56fb-11ec-a1da-0242ac120004",
       "previous": "7163cdd6-56fb-11ec-a1da-0242ac120004"
      },
      {
       "current": "7163cf84-56fb-11ec-a1da-0242ac120004-2-09bf-1062",
       "next": "7163d132-56fb-11ec-a1da-0242ac120004-1-18a6",
       "previous": "7163cdd6-56fb-11ec-a1da-0242ac120004-1-03bf"
      },
      {
       "current": "7163cf84-56fb-11ec-a1da-0242ac120004-3-09bf-1062-3f14",
       "next": "7163d132-56fb-11ec-a1da-0242ac120004-2-18a6-a935",
       "previous": "7163cdd6-56fb-11ec-a1da-0242ac120004-2-03bf-a3d9"
      },
      {
       "current": "7163cf84-56fb-11ec-a1da-0242ac120004-4-09bf-1062-3f14-8180",
       "next": "7163d132-56fb-11ec-a1da-0242ac120004-3-18a6-a935-bbb9",
       "previous": "7163cdd6-56fb-11ec-a1da-0242ac120004-3-03bf-a3d9-0814"
      },
      {
       "current": "7163cf84-56fb-11ec-a1da-0242ac120004-5-09bf-1062-3f14-8180-e5d8",
       "next": "7163d132-56fb-11ec-a1da-0242ac120004-4-18a6-a935-bbb9-166b",
       "previous": "7163cdd6-56fb-11ec-a1da-0242ac120004-4-03bf-a3d9-0814-b70a"
      },
      {
       "current": "7163cf84-56fb-11ec-a1da-0242ac120004-6-09bf-1062-3f14-8180-e5d8-4ee3",
       "next": "7163d132-56fb-11ec-a1da-0242ac120004-5-18a6-a935-bbb9-166b-a232",
       "previous": "7163cdd6-56fb-11ec-a1da-0242ac120004-5-03bf-a3d9-0814-b70a-858d"
      }
     ],
     "next": "7163d132-56fb-11ec-a1da-0242ac120004-6-18a6-a935-bbb9-166b-a232-a2c4",
     "previous": "7163cdd6-56fb-11ec-a1da-0242ac120004-6-03bf-a3d9-0814-b70a-858d-b6e9"
    }
   },
   "outputs": [],
   "source": [
    "# 初期化対象のインスタンス名称を設定する\n",
    "raise Exception('この先手作業が必要です')"
   ]
  },
  {
   "cell_type": "code",
   "execution_count": null,
   "metadata": {
    "lc_cell_meme": {
     "current": "7163d132-56fb-11ec-a1da-0242ac120004-6-18a6-a935-bbb9-166b-a232-a2c4",
     "history": [
      {
       "current": "7163d132-56fb-11ec-a1da-0242ac120004-1-18a6",
       "next": "7163d2d6-56fb-11ec-a1da-0242ac120004",
       "previous": "7163cf84-56fb-11ec-a1da-0242ac120004"
      },
      {
       "current": "7163d132-56fb-11ec-a1da-0242ac120004-1-18a6",
       "next": "7163d2d6-56fb-11ec-a1da-0242ac120004-1-e7d2",
       "previous": "7163cf84-56fb-11ec-a1da-0242ac120004-1-09bf"
      },
      {
       "current": "7163d132-56fb-11ec-a1da-0242ac120004-2-18a6-a935",
       "next": "162bf270-6cae-11ee-89fa-0242ac120005",
       "previous": "7163cf84-56fb-11ec-a1da-0242ac120004-1-09bf"
      },
      {
       "current": "7163d132-56fb-11ec-a1da-0242ac120004-3-18a6-a935-bbb9",
       "next": "162bf270-6cae-11ee-89fa-0242ac120005-1-3aa5",
       "previous": "7163cf84-56fb-11ec-a1da-0242ac120004-2-09bf-1062"
      },
      {
       "current": "7163d132-56fb-11ec-a1da-0242ac120004-4-18a6-a935-bbb9-166b",
       "next": "162bf270-6cae-11ee-89fa-0242ac120005-2-3aa5-c1bf",
       "previous": "7163cf84-56fb-11ec-a1da-0242ac120004-3-09bf-1062-3f14"
      },
      {
       "current": "7163d132-56fb-11ec-a1da-0242ac120004-5-18a6-a935-bbb9-166b-a232",
       "next": "162bf270-6cae-11ee-89fa-0242ac120005-3-3aa5-c1bf-93cc",
       "previous": "7163cf84-56fb-11ec-a1da-0242ac120004-4-09bf-1062-3f14-8180"
      },
      {
       "current": "7163d132-56fb-11ec-a1da-0242ac120004-6-18a6-a935-bbb9-166b-a232-a2c4",
       "next": "162bf270-6cae-11ee-89fa-0242ac120005-4-3aa5-c1bf-93cc-2724",
       "previous": "7163cf84-56fb-11ec-a1da-0242ac120004-5-09bf-1062-3f14-8180-e5d8"
      }
     ],
     "next": "162bf270-6cae-11ee-89fa-0242ac120005-5-3aa5-c1bf-93cc-2724-430d",
     "previous": "7163cf84-56fb-11ec-a1da-0242ac120004-6-09bf-1062-3f14-8180-e5d8-4ee3"
    }
   },
   "outputs": [],
   "source": [
    "# bootstrap OSD生成先ノード\n",
    "instance_name = 'ceph-xxx-node-002'"
   ]
  },
  {
   "cell_type": "code",
   "execution_count": null,
   "metadata": {
    "lc_cell_meme": {
     "current": "162bf270-6cae-11ee-89fa-0242ac120005-5-3aa5-c1bf-93cc-2724-430d",
     "history": [
      {
       "current": "162bf270-6cae-11ee-89fa-0242ac120005-1-3aa5",
       "next": "7163d2d6-56fb-11ec-a1da-0242ac120004-1-e7d2",
       "previous": "7163d132-56fb-11ec-a1da-0242ac120004-1-18a6"
      },
      {
       "current": "162bf270-6cae-11ee-89fa-0242ac120005-2-3aa5-c1bf",
       "next": "7163d2d6-56fb-11ec-a1da-0242ac120004-2-e7d2-f6c8",
       "previous": "7163d132-56fb-11ec-a1da-0242ac120004-2-18a6-a935"
      },
      {
       "current": "162bf270-6cae-11ee-89fa-0242ac120005-3-3aa5-c1bf-93cc",
       "next": "7163d2d6-56fb-11ec-a1da-0242ac120004-3-e7d2-f6c8-c35b",
       "previous": "7163d132-56fb-11ec-a1da-0242ac120004-3-18a6-a935-bbb9"
      },
      {
       "current": "162bf270-6cae-11ee-89fa-0242ac120005-4-3aa5-c1bf-93cc-2724",
       "next": "7163d2d6-56fb-11ec-a1da-0242ac120004-4-e7d2-f6c8-c35b-e07f",
       "previous": "7163d132-56fb-11ec-a1da-0242ac120004-4-18a6-a935-bbb9-166b"
      },
      {
       "current": "162bf270-6cae-11ee-89fa-0242ac120005-5-3aa5-c1bf-93cc-2724-430d",
       "next": "7163d2d6-56fb-11ec-a1da-0242ac120004-5-e7d2-f6c8-c35b-e07f-3c65",
       "previous": "7163d132-56fb-11ec-a1da-0242ac120004-5-18a6-a935-bbb9-166b-a232"
      }
     ],
     "next": "7163d2d6-56fb-11ec-a1da-0242ac120004-6-e7d2-f6c8-c35b-e07f-3c65-2ee4",
     "previous": "7163d132-56fb-11ec-a1da-0242ac120004-6-18a6-a935-bbb9-166b-a232-a2c4"
    }
   },
   "outputs": [],
   "source": [
    "bootstrap_node_name = 'ceph-xxx-node-001'"
   ]
  },
  {
   "cell_type": "code",
   "execution_count": null,
   "metadata": {
    "lc_cell_meme": {
     "current": "7163d2d6-56fb-11ec-a1da-0242ac120004-6-e7d2-f6c8-c35b-e07f-3c65-2ee4",
     "history": [
      {
       "current": "7163d2d6-56fb-11ec-a1da-0242ac120004-1-e7d2",
       "next": "7163d470-56fb-11ec-a1da-0242ac120004",
       "previous": "7163d132-56fb-11ec-a1da-0242ac120004"
      },
      {
       "current": "7163d2d6-56fb-11ec-a1da-0242ac120004-1-e7d2",
       "next": "7163d470-56fb-11ec-a1da-0242ac120004-1-1660",
       "previous": "7163d132-56fb-11ec-a1da-0242ac120004-1-18a6"
      },
      {
       "current": "7163d2d6-56fb-11ec-a1da-0242ac120004-2-e7d2-f6c8",
       "next": "162bf3ec-6cae-11ee-89fa-0242ac120005",
       "previous": "162bf270-6cae-11ee-89fa-0242ac120005"
      },
      {
       "current": "7163d2d6-56fb-11ec-a1da-0242ac120004-3-e7d2-f6c8-c35b",
       "next": "162bf3ec-6cae-11ee-89fa-0242ac120005-1-c019",
       "previous": "162bf270-6cae-11ee-89fa-0242ac120005-1-3aa5"
      },
      {
       "current": "7163d2d6-56fb-11ec-a1da-0242ac120004-4-e7d2-f6c8-c35b-e07f",
       "next": "162bf3ec-6cae-11ee-89fa-0242ac120005-2-c019-2165",
       "previous": "162bf270-6cae-11ee-89fa-0242ac120005-2-3aa5-c1bf"
      },
      {
       "current": "7163d2d6-56fb-11ec-a1da-0242ac120004-5-e7d2-f6c8-c35b-e07f-3c65",
       "next": "162bf3ec-6cae-11ee-89fa-0242ac120005-3-c019-2165-1d1e",
       "previous": "162bf270-6cae-11ee-89fa-0242ac120005-3-3aa5-c1bf-93cc"
      },
      {
       "current": "7163d2d6-56fb-11ec-a1da-0242ac120004-6-e7d2-f6c8-c35b-e07f-3c65-2ee4",
       "next": "162bf3ec-6cae-11ee-89fa-0242ac120005-4-c019-2165-1d1e-a576",
       "previous": "162bf270-6cae-11ee-89fa-0242ac120005-4-3aa5-c1bf-93cc-2724"
      }
     ],
     "next": "162bf3ec-6cae-11ee-89fa-0242ac120005-5-c019-2165-1d1e-a576-6c69",
     "previous": "162bf270-6cae-11ee-89fa-0242ac120005-5-3aa5-c1bf-93cc-2724-430d"
    }
   },
   "outputs": [],
   "source": [
    "target = None\n",
    "for elem in node_list:\n",
    "    if elem['name'] == instance_name:\n",
    "        target = elem\n",
    "        break\n",
    "\n",
    "assert (target is not None), \"指定されたターゲットノードが存在しません。\"\n",
    "print (target)"
   ]
  },
  {
   "cell_type": "code",
   "execution_count": null,
   "metadata": {
    "lc_cell_meme": {
     "current": "162bf3ec-6cae-11ee-89fa-0242ac120005-5-c019-2165-1d1e-a576-6c69",
     "history": [
      {
       "current": "162bf3ec-6cae-11ee-89fa-0242ac120005-1-c019",
       "next": "7163d470-56fb-11ec-a1da-0242ac120004-1-1660",
       "previous": "7163d2d6-56fb-11ec-a1da-0242ac120004-1-e7d2"
      },
      {
       "current": "162bf3ec-6cae-11ee-89fa-0242ac120005-2-c019-2165",
       "next": "7163d470-56fb-11ec-a1da-0242ac120004-2-1660-24ca",
       "previous": "7163d2d6-56fb-11ec-a1da-0242ac120004-2-e7d2-f6c8"
      },
      {
       "current": "162bf3ec-6cae-11ee-89fa-0242ac120005-3-c019-2165-1d1e",
       "next": "7163d470-56fb-11ec-a1da-0242ac120004-3-1660-24ca-3535",
       "previous": "7163d2d6-56fb-11ec-a1da-0242ac120004-3-e7d2-f6c8-c35b"
      },
      {
       "current": "162bf3ec-6cae-11ee-89fa-0242ac120005-4-c019-2165-1d1e-a576",
       "next": "7163d470-56fb-11ec-a1da-0242ac120004-4-1660-24ca-3535-a521",
       "previous": "7163d2d6-56fb-11ec-a1da-0242ac120004-4-e7d2-f6c8-c35b-e07f"
      },
      {
       "current": "162bf3ec-6cae-11ee-89fa-0242ac120005-5-c019-2165-1d1e-a576-6c69",
       "next": "7163d470-56fb-11ec-a1da-0242ac120004-5-1660-24ca-3535-a521-f1c3",
       "previous": "7163d2d6-56fb-11ec-a1da-0242ac120004-5-e7d2-f6c8-c35b-e07f-3c65"
      }
     ],
     "next": "7163d470-56fb-11ec-a1da-0242ac120004-6-1660-24ca-3535-a521-f1c3-a395",
     "previous": "7163d2d6-56fb-11ec-a1da-0242ac120004-6-e7d2-f6c8-c35b-e07f-3c65-2ee4"
    }
   },
   "outputs": [],
   "source": [
    "bootstrap_node = None\n",
    "for elem in node_list:\n",
    "    if elem['name'] == bootstrap_node_name:\n",
    "        bootstrap_node = elem\n",
    "        break\n",
    "\n",
    "assert (bootstrap_node is not None), \"指定されたターゲットノードが存在しません。\"\n",
    "print (bootstrap_node)"
   ]
  },
  {
   "cell_type": "markdown",
   "metadata": {
    "lc_cell_meme": {
     "current": "7163d470-56fb-11ec-a1da-0242ac120004-6-1660-24ca-3535-a521-f1c3-a395",
     "history": [
      {
       "current": "7163d470-56fb-11ec-a1da-0242ac120004-1-1660",
       "next": "7163d60a-56fb-11ec-a1da-0242ac120004",
       "previous": "7163d2d6-56fb-11ec-a1da-0242ac120004"
      },
      {
       "current": "7163d470-56fb-11ec-a1da-0242ac120004-1-1660",
       "next": "7163d60a-56fb-11ec-a1da-0242ac120004-1-989b",
       "previous": "7163d2d6-56fb-11ec-a1da-0242ac120004-1-e7d2"
      },
      {
       "current": "7163d470-56fb-11ec-a1da-0242ac120004-1-1660",
       "next": "7163d60a-56fb-11ec-a1da-0242ac120004-1-989b",
       "previous": "162bf3ec-6cae-11ee-89fa-0242ac120005"
      },
      {
       "current": "7163d470-56fb-11ec-a1da-0242ac120004-2-1660-24ca",
       "next": "743175ea-56fb-11ec-a1da-0242ac120004-2-33ed-7a5f",
       "previous": "162bf3ec-6cae-11ee-89fa-0242ac120005"
      },
      {
       "current": "7163d470-56fb-11ec-a1da-0242ac120004-3-1660-24ca-3535",
       "next": "743175ea-56fb-11ec-a1da-0242ac120004-3-33ed-7a5f-75fe",
       "previous": "162bf3ec-6cae-11ee-89fa-0242ac120005-1-c019"
      },
      {
       "current": "7163d470-56fb-11ec-a1da-0242ac120004-4-1660-24ca-3535-a521",
       "next": "743175ea-56fb-11ec-a1da-0242ac120004-4-33ed-7a5f-75fe-8a48",
       "previous": "162bf3ec-6cae-11ee-89fa-0242ac120005-2-c019-2165"
      },
      {
       "current": "7163d470-56fb-11ec-a1da-0242ac120004-5-1660-24ca-3535-a521-f1c3",
       "next": "743175ea-56fb-11ec-a1da-0242ac120004-5-33ed-7a5f-75fe-8a48-e4b4",
       "previous": "162bf3ec-6cae-11ee-89fa-0242ac120005-3-c019-2165-1d1e"
      },
      {
       "current": "7163d470-56fb-11ec-a1da-0242ac120004-6-1660-24ca-3535-a521-f1c3-a395",
       "next": "743175ea-56fb-11ec-a1da-0242ac120004-6-33ed-7a5f-75fe-8a48-e4b4-253c",
       "previous": "162bf3ec-6cae-11ee-89fa-0242ac120005-4-c019-2165-1d1e-a576"
      }
     ],
     "next": "743175ea-56fb-11ec-a1da-0242ac120004-7-33ed-7a5f-75fe-8a48-e4b4-253c-4f14",
     "previous": "162bf3ec-6cae-11ee-89fa-0242ac120005-5-c019-2165-1d1e-a576-6c69"
    }
   },
   "source": [
    "## 一時Inventoryファイルの生成\n",
    "以下を実行し、作業用ディレクトリ配下に一時Inventoryファイルを生成する。"
   ]
  },
  {
   "cell_type": "markdown",
   "metadata": {
    "lc_cell_meme": {
     "current": "743175ea-56fb-11ec-a1da-0242ac120004-7-33ed-7a5f-75fe-8a48-e4b4-253c-4f14",
     "history": [
      {
       "current": "743175ea-56fb-11ec-a1da-0242ac120004-2-33ed-7a5f",
       "next": "7431796e-56fb-11ec-a1da-0242ac120004",
       "previous": "7163d7ae-56fb-11ec-a1da-0242ac120004"
      },
      {
       "current": "743175ea-56fb-11ec-a1da-0242ac120004-2-33ed-7a5f",
       "next": "7431796e-56fb-11ec-a1da-0242ac120004-1-d0f1",
       "previous": "7163d7ae-56fb-11ec-a1da-0242ac120004-1-0ea4"
      },
      {
       "current": "743175ea-56fb-11ec-a1da-0242ac120004-3-33ed-7a5f-75fe",
       "next": "7431796e-56fb-11ec-a1da-0242ac120004-1-d0f1",
       "previous": "7163d470-56fb-11ec-a1da-0242ac120004-1-1660"
      },
      {
       "current": "743175ea-56fb-11ec-a1da-0242ac120004-4-33ed-7a5f-75fe-8a48",
       "next": "7431796e-56fb-11ec-a1da-0242ac120004-2-d0f1-9623",
       "previous": "7163d470-56fb-11ec-a1da-0242ac120004-2-1660-24ca"
      },
      {
       "current": "743175ea-56fb-11ec-a1da-0242ac120004-5-33ed-7a5f-75fe-8a48-e4b4",
       "next": "7431796e-56fb-11ec-a1da-0242ac120004-3-d0f1-9623-2fad",
       "previous": "7163d470-56fb-11ec-a1da-0242ac120004-3-1660-24ca-3535"
      },
      {
       "current": "743175ea-56fb-11ec-a1da-0242ac120004-6-33ed-7a5f-75fe-8a48-e4b4-253c",
       "next": "7431796e-56fb-11ec-a1da-0242ac120004-4-d0f1-9623-2fad-b102",
       "previous": "7163d470-56fb-11ec-a1da-0242ac120004-4-1660-24ca-3535-a521"
      },
      {
       "current": "743175ea-56fb-11ec-a1da-0242ac120004-7-33ed-7a5f-75fe-8a48-e4b4-253c-4f14",
       "next": "7431796e-56fb-11ec-a1da-0242ac120004-5-d0f1-9623-2fad-b102-11ed",
       "previous": "7163d470-56fb-11ec-a1da-0242ac120004-5-1660-24ca-3535-a521-f1c3"
      }
     ],
     "next": "7431796e-56fb-11ec-a1da-0242ac120004-6-d0f1-9623-2fad-b102-11ed-e427",
     "previous": "7163d470-56fb-11ec-a1da-0242ac120004-6-1660-24ca-3535-a521-f1c3-a395"
    }
   },
   "source": [
    "Inventoryファイルを生成する。"
   ]
  },
  {
   "cell_type": "code",
   "execution_count": null,
   "metadata": {
    "lc_cell_meme": {
     "current": "7431796e-56fb-11ec-a1da-0242ac120004-6-d0f1-9623-2fad-b102-11ed-e427",
     "history": [
      {
       "current": "7431796e-56fb-11ec-a1da-0242ac120004",
       "next": "74317b3a-56fb-11ec-a1da-0242ac120004",
       "previous": "743175ea-56fb-11ec-a1da-0242ac120004"
      },
      {
       "current": "7431796e-56fb-11ec-a1da-0242ac120004-1-d0f1",
       "next": "74317b3a-56fb-11ec-a1da-0242ac120004-1-6a3c",
       "previous": "743175ea-56fb-11ec-a1da-0242ac120004-1-33ed"
      },
      {
       "current": "7431796e-56fb-11ec-a1da-0242ac120004-2-d0f1-9623",
       "next": "74317b3a-56fb-11ec-a1da-0242ac120004-2-6a3c-5cd9",
       "previous": "743175ea-56fb-11ec-a1da-0242ac120004-2-33ed-7a5f"
      },
      {
       "current": "7431796e-56fb-11ec-a1da-0242ac120004-3-d0f1-9623-2fad",
       "next": "74317b3a-56fb-11ec-a1da-0242ac120004-3-6a3c-5cd9-73d1",
       "previous": "743175ea-56fb-11ec-a1da-0242ac120004-3-33ed-7a5f-75fe"
      },
      {
       "current": "7431796e-56fb-11ec-a1da-0242ac120004-4-d0f1-9623-2fad-b102",
       "next": "74317b3a-56fb-11ec-a1da-0242ac120004-4-6a3c-5cd9-73d1-4d5c",
       "previous": "743175ea-56fb-11ec-a1da-0242ac120004-4-33ed-7a5f-75fe-8a48"
      },
      {
       "current": "7431796e-56fb-11ec-a1da-0242ac120004-4-d0f1-9623-2fad-b102",
       "next": "74317b3a-56fb-11ec-a1da-0242ac120004-5-6a3c-5cd9-73d1-4d5c-1c7a",
       "previous": "743175ea-56fb-11ec-a1da-0242ac120004-5-33ed-7a5f-75fe-8a48-e4b4"
      },
      {
       "current": "7431796e-56fb-11ec-a1da-0242ac120004-4-d0f1-9623-2fad-b102",
       "next": "4832e368-1cc2-11ef-ad2f-0242ac120005",
       "previous": "743175ea-56fb-11ec-a1da-0242ac120004-5-33ed-7a5f-75fe-8a48-e4b4"
      },
      {
       "current": "7431796e-56fb-11ec-a1da-0242ac120004-5-d0f1-9623-2fad-b102-11ed",
       "next": "74317b3a-56fb-11ec-a1da-0242ac120004-5-6a3c-5cd9-73d1-4d5c-1c7a",
       "previous": "743175ea-56fb-11ec-a1da-0242ac120004-5-33ed-7a5f-75fe-8a48-e4b4"
      },
      {
       "current": "7431796e-56fb-11ec-a1da-0242ac120004-6-d0f1-9623-2fad-b102-11ed-e427",
       "next": "74317b3a-56fb-11ec-a1da-0242ac120004-6-6a3c-5cd9-73d1-4d5c-1c7a-1a1a",
       "previous": "743175ea-56fb-11ec-a1da-0242ac120004-6-33ed-7a5f-75fe-8a48-e4b4-253c"
      }
     ],
     "next": "74317b3a-56fb-11ec-a1da-0242ac120004-7-6a3c-5cd9-73d1-4d5c-1c7a-1a1a-3781",
     "previous": "743175ea-56fb-11ec-a1da-0242ac120004-7-33ed-7a5f-75fe-8a48-e4b4-253c-4f14"
    }
   },
   "outputs": [],
   "source": [
    "node_user='xxxxx'\n",
    "proxy_user='xxxxx'\n",
    "proxy_key='~/.ssh/id_ras'"
   ]
  },
  {
   "cell_type": "markdown",
   "metadata": {
    "lc_cell_meme": {
     "current": "74317b3a-56fb-11ec-a1da-0242ac120004-7-6a3c-5cd9-73d1-4d5c-1c7a-1a1a-3781",
     "history": [
      {
       "current": "74317b3a-56fb-11ec-a1da-0242ac120004-2-6a3c-5cd9",
       "next": "74317cb6-56fb-11ec-a1da-0242ac120004",
       "previous": "7431796e-56fb-11ec-a1da-0242ac120004"
      },
      {
       "current": "74317b3a-56fb-11ec-a1da-0242ac120004-2-6a3c-5cd9",
       "next": "74317cb6-56fb-11ec-a1da-0242ac120004-1-9d19",
       "previous": "7431796e-56fb-11ec-a1da-0242ac120004-1-d0f1"
      },
      {
       "current": "74317b3a-56fb-11ec-a1da-0242ac120004-3-6a3c-5cd9-73d1",
       "next": "74317e28-56fb-11ec-a1da-0242ac120004-1-474d",
       "previous": "7431796e-56fb-11ec-a1da-0242ac120004-1-d0f1"
      },
      {
       "current": "74317b3a-56fb-11ec-a1da-0242ac120004-4-6a3c-5cd9-73d1-4d5c",
       "next": "74317e28-56fb-11ec-a1da-0242ac120004-2-474d-fb5d",
       "previous": "7431796e-56fb-11ec-a1da-0242ac120004-2-d0f1-9623"
      },
      {
       "current": "74317b3a-56fb-11ec-a1da-0242ac120004-5-6a3c-5cd9-73d1-4d5c-1c7a",
       "next": "74317e28-56fb-11ec-a1da-0242ac120004-3-474d-fb5d-99cb",
       "previous": "7431796e-56fb-11ec-a1da-0242ac120004-3-d0f1-9623-2fad"
      },
      {
       "current": "74317b3a-56fb-11ec-a1da-0242ac120004-5-6a3c-5cd9-73d1-4d5c-1c7a",
       "next": "74317e28-56fb-11ec-a1da-0242ac120004-4-474d-fb5d-99cb-567f",
       "previous": "7431796e-56fb-11ec-a1da-0242ac120004-4-d0f1-9623-2fad-b102"
      },
      {
       "current": "74317b3a-56fb-11ec-a1da-0242ac120004-5-6a3c-5cd9-73d1-4d5c-1c7a",
       "next": "74317e28-56fb-11ec-a1da-0242ac120004-4-474d-fb5d-99cb-567f",
       "previous": "4832e368-1cc2-11ef-ad2f-0242ac120005"
      },
      {
       "current": "74317b3a-56fb-11ec-a1da-0242ac120004-6-6a3c-5cd9-73d1-4d5c-1c7a-1a1a",
       "next": "74317e28-56fb-11ec-a1da-0242ac120004-4-474d-fb5d-99cb-567f",
       "previous": "7431796e-56fb-11ec-a1da-0242ac120004-4-d0f1-9623-2fad-b102"
      },
      {
       "current": "74317b3a-56fb-11ec-a1da-0242ac120004-7-6a3c-5cd9-73d1-4d5c-1c7a-1a1a-3781",
       "next": "74317e28-56fb-11ec-a1da-0242ac120004-5-474d-fb5d-99cb-567f-e883",
       "previous": "7431796e-56fb-11ec-a1da-0242ac120004-5-d0f1-9623-2fad-b102-11ed"
      }
     ],
     "next": "74317e28-56fb-11ec-a1da-0242ac120004-6-474d-fb5d-99cb-567f-e883-06f3",
     "previous": "7431796e-56fb-11ec-a1da-0242ac120004-6-d0f1-9623-2fad-b102-11ed-e427"
    }
   },
   "source": [
    "sudoでパスワードが必要な場合は、パスワード入力を設定してansible.cfgに設定すること。"
   ]
  },
  {
   "cell_type": "code",
   "execution_count": null,
   "metadata": {
    "lc_cell_meme": {
     "current": "74317e28-56fb-11ec-a1da-0242ac120004-6-474d-fb5d-99cb-567f-e883-06f3",
     "history": [
      {
       "current": "74317e28-56fb-11ec-a1da-0242ac120004",
       "next": "c709e59c-56f9-11ec-a1da-0242ac120004",
       "previous": "74317cb6-56fb-11ec-a1da-0242ac120004"
      },
      {
       "current": "74317e28-56fb-11ec-a1da-0242ac120004-1-474d",
       "next": "35c362a4-55a3-11e7-b0b2-00163e9c0e35-1-e49a",
       "previous": "74317cb6-56fb-11ec-a1da-0242ac120004"
      },
      {
       "current": "74317e28-56fb-11ec-a1da-0242ac120004-1-474d",
       "next": "35c362a4-55a3-11e7-b0b2-00163e9c0e35-2-e49a-f407",
       "previous": "74317cb6-56fb-11ec-a1da-0242ac120004-1-9d19"
      },
      {
       "current": "74317e28-56fb-11ec-a1da-0242ac120004-2-474d-fb5d",
       "next": "35c362a4-55a3-11e7-b0b2-00163e9c0e35-2-e49a-f407",
       "previous": "74317b3a-56fb-11ec-a1da-0242ac120004-2-6a3c-5cd9"
      },
      {
       "current": "74317e28-56fb-11ec-a1da-0242ac120004-3-474d-fb5d-99cb",
       "next": "35c362a4-55a3-11e7-b0b2-00163e9c0e35-3-e49a-f407-2dfd",
       "previous": "74317b3a-56fb-11ec-a1da-0242ac120004-3-6a3c-5cd9-73d1"
      },
      {
       "current": "74317e28-56fb-11ec-a1da-0242ac120004-4-474d-fb5d-99cb-567f",
       "next": "35c362a4-55a3-11e7-b0b2-00163e9c0e35-4-e49a-f407-2dfd-bea3",
       "previous": "74317b3a-56fb-11ec-a1da-0242ac120004-4-6a3c-5cd9-73d1-4d5c"
      },
      {
       "current": "74317e28-56fb-11ec-a1da-0242ac120004-4-474d-fb5d-99cb-567f",
       "next": "35c362a4-55a3-11e7-b0b2-00163e9c0e35-5-e49a-f407-2dfd-bea3-5e4f",
       "previous": "74317b3a-56fb-11ec-a1da-0242ac120004-5-6a3c-5cd9-73d1-4d5c-1c7a"
      },
      {
       "current": "74317e28-56fb-11ec-a1da-0242ac120004-5-474d-fb5d-99cb-567f-e883",
       "next": "4832e444-1cc2-11ef-ad2f-0242ac120005",
       "previous": "74317b3a-56fb-11ec-a1da-0242ac120004-5-6a3c-5cd9-73d1-4d5c-1c7a"
      },
      {
       "current": "74317e28-56fb-11ec-a1da-0242ac120004-6-474d-fb5d-99cb-567f-e883-06f3",
       "next": "4832e444-1cc2-11ef-ad2f-0242ac120005-1-0086",
       "previous": "74317b3a-56fb-11ec-a1da-0242ac120004-6-6a3c-5cd9-73d1-4d5c-1c7a-1a1a"
      }
     ],
     "next": "4832e444-1cc2-11ef-ad2f-0242ac120005-2-0086-be90",
     "previous": "74317b3a-56fb-11ec-a1da-0242ac120004-7-6a3c-5cd9-73d1-4d5c-1c7a-1a1a-3781"
    }
   },
   "outputs": [],
   "source": [
    "import os\n",
    "\n",
    "with open( os.path.join(temp_dir, \"hosts\"), 'w') as f:\n",
    "     f.write('''[ceph_admin]\n",
    "{ceph_admin_ip}   ansible_user={proxy_user} ansible_ssh_private_key_file={proxy_key} ansible_python_interpreter=/usr/bin/python3\n",
    "[ceph_node]\n",
    "{node_ip}  ansible_user={node_user} ansible_ssh_common_args='-o ControlMaster=auto -o StrictHostKeyChecking=no -o ControlPersist=30m -o ProxyCommand=\"ssh -W %h:%p -i {proxy_key} -q {proxy_user}@{ceph_admin_ip}\"' ansible_python_interpreter=/usr/bin/python3\n",
    "'''.format(ceph_admin_ip=ceph_admin_ip, node_ip=target[\"prov_ip\"],\n",
    "           node_user=node_user, proxy_user=proxy_user, proxy_key=proxy_key))\n",
    "     f.write('''[bootstrap]\n",
    "{node_ip}  ansible_user={node_user} ansible_ssh_common_args='-o ControlMaster=auto -o StrictHostKeyChecking=no -o ControlPersist=30m -o ProxyCommand=\"ssh -W %h:%p -i {proxy_key} -q {proxy_user}@{ceph_admin_ip}\"' ansible_python_interpreter=/usr/bin/python3\n",
    "'''.format(ceph_admin_ip=ceph_admin_ip, node_ip=bootstrap_node[\"prov_ip\"],\n",
    "           node_user=node_user, proxy_user=proxy_user, proxy_key=proxy_key))\n",
    "\n",
    "hosts = temp_dir + \"/hosts\"\n",
    "\n",
    "!cat $hosts"
   ]
  },
  {
   "cell_type": "code",
   "execution_count": null,
   "metadata": {
    "lc_cell_meme": {
     "current": "4832e444-1cc2-11ef-ad2f-0242ac120005-2-0086-be90",
     "history": [
      {
       "current": "4832e444-1cc2-11ef-ad2f-0242ac120005-1-0086",
       "next": "35c362a4-55a3-11e7-b0b2-00163e9c0e35-5-e49a-f407-2dfd-bea3-5e4f",
       "previous": "74317e28-56fb-11ec-a1da-0242ac120004-4-474d-fb5d-99cb-567f"
      },
      {
       "current": "4832e444-1cc2-11ef-ad2f-0242ac120005-2-0086-be90",
       "next": "35c362a4-55a3-11e7-b0b2-00163e9c0e35-6-e49a-f407-2dfd-bea3-5e4f-85e8",
       "previous": "74317e28-56fb-11ec-a1da-0242ac120004-5-474d-fb5d-99cb-567f-e883"
      }
     ],
     "next": "35c362a4-55a3-11e7-b0b2-00163e9c0e35-7-e49a-f407-2dfd-bea3-5e4f-85e8-2636",
     "previous": "74317e28-56fb-11ec-a1da-0242ac120004-6-474d-fb5d-99cb-567f-e883-06f3"
    }
   },
   "outputs": [],
   "source": [
    "%env ANSIBLE_INVENTORY={hosts}"
   ]
  },
  {
   "cell_type": "markdown",
   "metadata": {
    "lc_cell_meme": {
     "current": "35c362a4-55a3-11e7-b0b2-00163e9c0e35-7-e49a-f407-2dfd-bea3-5e4f-85e8-2636",
     "history": [
      {
       "current": "35c362a4-55a3-11e7-b0b2-00163e9c0e35",
       "next": "35c36448-55a3-11e7-b0b2-00163e9c0e35",
       "previous": "35c360f6-55a3-11e7-b0b2-00163e9c0e35"
      },
      {
       "current": "35c362a4-55a3-11e7-b0b2-00163e9c0e35",
       "next": "35c36448-55a3-11e7-b0b2-00163e9c0e35",
       "previous": "4cd5b0cc-7ef5-11ea-a926-0242ac120004"
      },
      {
       "current": "35c362a4-55a3-11e7-b0b2-00163e9c0e35",
       "next": "35c36448-55a3-11e7-b0b2-00163e9c0e35",
       "previous": "db546a28-7ef5-11ea-a926-0242ac120004"
      },
      {
       "current": "35c362a4-55a3-11e7-b0b2-00163e9c0e35",
       "next": "35c36448-55a3-11e7-b0b2-00163e9c0e35",
       "previous": "4cd5af28-7ef5-11ea-a926-0242ac120004"
      },
      {
       "current": "35c362a4-55a3-11e7-b0b2-00163e9c0e35",
       "next": "35c36448-55a3-11e7-b0b2-00163e9c0e35",
       "previous": "7d464504-9107-11ea-8d02-0242ac120007"
      },
      {
       "current": "35c362a4-55a3-11e7-b0b2-00163e9c0e35",
       "next": "35c36448-55a3-11e7-b0b2-00163e9c0e35",
       "previous": "bd797188-910b-11ea-8d02-0242ac120007"
      },
      {
       "current": "35c362a4-55a3-11e7-b0b2-00163e9c0e35",
       "next": "35c36448-55a3-11e7-b0b2-00163e9c0e35",
       "previous": "70b95056-9111-11ea-8d02-0242ac120007"
      },
      {
       "current": "35c362a4-55a3-11e7-b0b2-00163e9c0e35",
       "next": "35c36448-55a3-11e7-b0b2-00163e9c0e35",
       "previous": "bd797188-910b-11ea-8d02-0242ac120007"
      },
      {
       "current": "35c362a4-55a3-11e7-b0b2-00163e9c0e35",
       "next": "bd797188-910b-11ea-8d02-0242ac120007",
       "previous": "4cd5af28-7ef5-11ea-a926-0242ac120004"
      },
      {
       "current": "35c362a4-55a3-11e7-b0b2-00163e9c0e35",
       "next": "484c7376-935c-11ea-8d02-0242ac120007",
       "previous": "4cd5af28-7ef5-11ea-a926-0242ac120004"
      },
      {
       "current": "35c362a4-55a3-11e7-b0b2-00163e9c0e35-1-e49a",
       "next": "bd797188-910b-11ea-8d02-0242ac120007",
       "previous": "4cd5af28-7ef5-11ea-a926-0242ac120004"
      },
      {
       "current": "35c362a4-55a3-11e7-b0b2-00163e9c0e35-1-e49a",
       "next": "bd797188-910b-11ea-8d02-0242ac120007-1-a27b",
       "previous": "4cd5af28-7ef5-11ea-a926-0242ac120004-1-4700"
      },
      {
       "current": "35c362a4-55a3-11e7-b0b2-00163e9c0e35-1-e49a",
       "next": "bd797188-910b-11ea-8d02-0242ac120007-1-a27b",
       "previous": "35c337f2-55a3-11e7-b0b2-00163e9c0e35-1-dc7a"
      },
      {
       "current": "35c362a4-55a3-11e7-b0b2-00163e9c0e35-1-e49a",
       "next": "bd797188-910b-11ea-8d02-0242ac120007-1-a27b",
       "previous": "37fd8534-56f9-11ec-a1da-0242ac120004"
      },
      {
       "current": "35c362a4-55a3-11e7-b0b2-00163e9c0e35-1-e49a",
       "next": "bd797188-910b-11ea-8d02-0242ac120007-1-a27b",
       "previous": "c709e722-56f9-11ec-a1da-0242ac120004"
      },
      {
       "current": "35c362a4-55a3-11e7-b0b2-00163e9c0e35-2-e49a-f407",
       "next": "bd797188-910b-11ea-8d02-0242ac120007-1-a27b",
       "previous": "74317e28-56fb-11ec-a1da-0242ac120004"
      },
      {
       "current": "35c362a4-55a3-11e7-b0b2-00163e9c0e35-3-e49a-f407-2dfd",
       "next": "bd797188-910b-11ea-8d02-0242ac120007-2-a27b-d878",
       "previous": "74317e28-56fb-11ec-a1da-0242ac120004-1-474d"
      },
      {
       "current": "35c362a4-55a3-11e7-b0b2-00163e9c0e35-4-e49a-f407-2dfd-bea3",
       "next": "bd797188-910b-11ea-8d02-0242ac120007-3-a27b-d878-be77",
       "previous": "74317e28-56fb-11ec-a1da-0242ac120004-2-474d-fb5d"
      },
      {
       "current": "35c362a4-55a3-11e7-b0b2-00163e9c0e35-5-e49a-f407-2dfd-bea3-5e4f",
       "next": "bd797188-910b-11ea-8d02-0242ac120007-4-a27b-d878-be77-964b",
       "previous": "74317e28-56fb-11ec-a1da-0242ac120004-3-474d-fb5d-99cb"
      },
      {
       "current": "35c362a4-55a3-11e7-b0b2-00163e9c0e35-5-e49a-f407-2dfd-bea3-5e4f",
       "next": "bd797188-910b-11ea-8d02-0242ac120007-5-a27b-d878-be77-964b-5340",
       "previous": "74317e28-56fb-11ec-a1da-0242ac120004-4-474d-fb5d-99cb-567f"
      },
      {
       "current": "35c362a4-55a3-11e7-b0b2-00163e9c0e35-6-e49a-f407-2dfd-bea3-5e4f-85e8",
       "next": "bd797188-910b-11ea-8d02-0242ac120007-5-a27b-d878-be77-964b-5340",
       "previous": "4832e444-1cc2-11ef-ad2f-0242ac120005"
      },
      {
       "current": "35c362a4-55a3-11e7-b0b2-00163e9c0e35-7-e49a-f407-2dfd-bea3-5e4f-85e8-2636",
       "next": "bd797188-910b-11ea-8d02-0242ac120007-6-a27b-d878-be77-964b-5340-5b0f",
       "previous": "4832e444-1cc2-11ef-ad2f-0242ac120005-1-0086"
      }
     ],
     "next": "bd797188-910b-11ea-8d02-0242ac120007-7-a27b-d878-be77-964b-5340-5b0f-bf33",
     "previous": "4832e444-1cc2-11ef-ad2f-0242ac120005-2-0086-be90"
    }
   },
   "source": [
    "# 疎通確認\n",
    "以下コマンドを実行し、OpeHubからCephAdmin経由で、Cephノードに疎通することを確認する。"
   ]
  },
  {
   "cell_type": "code",
   "execution_count": null,
   "metadata": {
    "lc_cell_meme": {
     "current": "bd797188-910b-11ea-8d02-0242ac120007-7-a27b-d878-be77-964b-5340-5b0f-bf33",
     "history": [
      {
       "current": "bd797188-910b-11ea-8d02-0242ac120007",
       "next": "35c362a4-55a3-11e7-b0b2-00163e9c0e35",
       "previous": "7d464504-9107-11ea-8d02-0242ac120007"
      },
      {
       "current": "bd797188-910b-11ea-8d02-0242ac120007",
       "next": "70b95056-9111-11ea-8d02-0242ac120007",
       "previous": "7d464504-9107-11ea-8d02-0242ac120007"
      },
      {
       "current": "bd797188-910b-11ea-8d02-0242ac120007",
       "next": "35c362a4-55a3-11e7-b0b2-00163e9c0e35",
       "previous": "7d464504-9107-11ea-8d02-0242ac120007"
      },
      {
       "current": "bd797188-910b-11ea-8d02-0242ac120007",
       "next": "35c362a4-55a3-11e7-b0b2-00163e9c0e35",
       "previous": "4cd5af28-7ef5-11ea-a926-0242ac120004"
      },
      {
       "current": "bd797188-910b-11ea-8d02-0242ac120007",
       "next": "35c36448-55a3-11e7-b0b2-00163e9c0e35",
       "previous": "35c362a4-55a3-11e7-b0b2-00163e9c0e35"
      },
      {
       "current": "bd797188-910b-11ea-8d02-0242ac120007",
       "next": "35c3783e-55a3-11e7-b0b2-00163e9c0e35",
       "previous": "35c362a4-55a3-11e7-b0b2-00163e9c0e35"
      },
      {
       "current": "bd797188-910b-11ea-8d02-0242ac120007",
       "next": "35c3783e-55a3-11e7-b0b2-00163e9c0e35",
       "previous": "484c7376-935c-11ea-8d02-0242ac120007"
      },
      {
       "current": "bd797188-910b-11ea-8d02-0242ac120007",
       "next": "35c3783e-55a3-11e7-b0b2-00163e9c0e35",
       "previous": "35c362a4-55a3-11e7-b0b2-00163e9c0e35"
      },
      {
       "current": "bd797188-910b-11ea-8d02-0242ac120007",
       "next": "ac56a252-95bd-11ea-8d02-0242ac120007",
       "previous": "35c362a4-55a3-11e7-b0b2-00163e9c0e35"
      },
      {
       "current": "bd797188-910b-11ea-8d02-0242ac120007",
       "next": "3121c468-9a31-11ea-8d02-0242ac120007",
       "previous": "35c362a4-55a3-11e7-b0b2-00163e9c0e35"
      },
      {
       "current": "bd797188-910b-11ea-8d02-0242ac120007",
       "next": "65205d38-9a36-11ea-8d02-0242ac120007",
       "previous": "35c362a4-55a3-11e7-b0b2-00163e9c0e35"
      },
      {
       "current": "bd797188-910b-11ea-8d02-0242ac120007-1-a27b",
       "next": "9418ce40-9a36-11ea-8d02-0242ac120007",
       "previous": "35c362a4-55a3-11e7-b0b2-00163e9c0e35"
      },
      {
       "current": "bd797188-910b-11ea-8d02-0242ac120007-2-a27b-d878",
       "next": "9418ce40-9a36-11ea-8d02-0242ac120007-1-e415",
       "previous": "35c362a4-55a3-11e7-b0b2-00163e9c0e35-1-e49a"
      },
      {
       "current": "bd797188-910b-11ea-8d02-0242ac120007-3-a27b-d878-be77",
       "next": "9418ce40-9a36-11ea-8d02-0242ac120007-2-e415-abb0",
       "previous": "35c362a4-55a3-11e7-b0b2-00163e9c0e35-2-e49a-f407"
      },
      {
       "current": "bd797188-910b-11ea-8d02-0242ac120007-4-a27b-d878-be77-964b",
       "next": "9418ce40-9a36-11ea-8d02-0242ac120007-3-e415-abb0-50ec",
       "previous": "35c362a4-55a3-11e7-b0b2-00163e9c0e35-3-e49a-f407-2dfd"
      },
      {
       "current": "bd797188-910b-11ea-8d02-0242ac120007-5-a27b-d878-be77-964b-5340",
       "next": "9418ce40-9a36-11ea-8d02-0242ac120007-4-e415-abb0-50ec-0d77",
       "previous": "35c362a4-55a3-11e7-b0b2-00163e9c0e35-4-e49a-f407-2dfd-bea3"
      },
      {
       "current": "bd797188-910b-11ea-8d02-0242ac120007-6-a27b-d878-be77-964b-5340-5b0f",
       "next": "9418ce40-9a36-11ea-8d02-0242ac120007-5-e415-abb0-50ec-0d77-05d4",
       "previous": "35c362a4-55a3-11e7-b0b2-00163e9c0e35-5-e49a-f407-2dfd-bea3-5e4f"
      },
      {
       "current": "bd797188-910b-11ea-8d02-0242ac120007-7-a27b-d878-be77-964b-5340-5b0f-bf33",
       "next": "9418ce40-9a36-11ea-8d02-0242ac120007-6-e415-abb0-50ec-0d77-05d4-5263",
       "previous": "35c362a4-55a3-11e7-b0b2-00163e9c0e35-6-e49a-f407-2dfd-bea3-5e4f-85e8"
      }
     ],
     "next": "9418ce40-9a36-11ea-8d02-0242ac120007-7-e415-abb0-50ec-0d77-05d4-5263-5636",
     "previous": "35c362a4-55a3-11e7-b0b2-00163e9c0e35-7-e49a-f407-2dfd-bea3-5e4f-85e8-2636"
    }
   },
   "outputs": [],
   "source": [
    "!ansible -i $hosts -b -m shell -a 'hostname' ceph_admin"
   ]
  },
  {
   "cell_type": "markdown",
   "metadata": {
    "lc_cell_meme": {
     "current": "9418ce40-9a36-11ea-8d02-0242ac120007-7-e415-abb0-50ec-0d77-05d4-5263-5636",
     "history": [
      {
       "current": "9418ce40-9a36-11ea-8d02-0242ac120007-1-e415",
       "next": "65205d38-9a36-11ea-8d02-0242ac120007",
       "previous": "bd797188-910b-11ea-8d02-0242ac120007"
      },
      {
       "current": "9418ce40-9a36-11ea-8d02-0242ac120007-2-e415-abb0",
       "next": "65205d38-9a36-11ea-8d02-0242ac120007-1-4503",
       "previous": "bd797188-910b-11ea-8d02-0242ac120007-1-a27b"
      },
      {
       "current": "9418ce40-9a36-11ea-8d02-0242ac120007-2-e415-abb0",
       "next": "65205d38-9a36-11ea-8d02-0242ac120007-2-4503-c921",
       "previous": "bd797188-910b-11ea-8d02-0242ac120007-2-a27b-d878"
      },
      {
       "current": "9418ce40-9a36-11ea-8d02-0242ac120007-3-e415-abb0-50ec",
       "next": "034b7262-56fc-11ec-a1da-0242ac120004-1-6184",
       "previous": "bd797188-910b-11ea-8d02-0242ac120007-2-a27b-d878"
      },
      {
       "current": "9418ce40-9a36-11ea-8d02-0242ac120007-4-e415-abb0-50ec-0d77",
       "next": "034b7262-56fc-11ec-a1da-0242ac120004-2-6184-f072",
       "previous": "bd797188-910b-11ea-8d02-0242ac120007-3-a27b-d878-be77"
      },
      {
       "current": "9418ce40-9a36-11ea-8d02-0242ac120007-5-e415-abb0-50ec-0d77-05d4",
       "next": "034b7262-56fc-11ec-a1da-0242ac120004-3-6184-f072-9257",
       "previous": "bd797188-910b-11ea-8d02-0242ac120007-4-a27b-d878-be77-964b"
      },
      {
       "current": "9418ce40-9a36-11ea-8d02-0242ac120007-6-e415-abb0-50ec-0d77-05d4-5263",
       "next": "034b7262-56fc-11ec-a1da-0242ac120004-4-6184-f072-9257-8cfe",
       "previous": "bd797188-910b-11ea-8d02-0242ac120007-5-a27b-d878-be77-964b-5340"
      },
      {
       "current": "9418ce40-9a36-11ea-8d02-0242ac120007-7-e415-abb0-50ec-0d77-05d4-5263-5636",
       "next": "034b7262-56fc-11ec-a1da-0242ac120004-5-6184-f072-9257-8cfe-f6af",
       "previous": "bd797188-910b-11ea-8d02-0242ac120007-6-a27b-d878-be77-964b-5340-5b0f"
      }
     ],
     "next": "034b7262-56fc-11ec-a1da-0242ac120004-6-6184-f072-9257-8cfe-f6af-a03a",
     "previous": "bd797188-910b-11ea-8d02-0242ac120007-7-a27b-d878-be77-964b-5340-5b0f-bf33"
    }
   },
   "source": [
    "以下コマンドを実行し、OpeHubからCephAdminに疎通することを確認する。"
   ]
  },
  {
   "cell_type": "code",
   "execution_count": null,
   "metadata": {
    "lc_cell_meme": {
     "current": "034b7262-56fc-11ec-a1da-0242ac120004-6-6184-f072-9257-8cfe-f6af-a03a",
     "history": [
      {
       "current": "034b7262-56fc-11ec-a1da-0242ac120004",
       "next": "cfbfd3de-9a50-11ea-8d02-0242ac120007-1-a19f",
       "previous": "65205d38-9a36-11ea-8d02-0242ac120007-1-4503"
      },
      {
       "current": "034b7262-56fc-11ec-a1da-0242ac120004-1-6184",
       "next": "08f1174a-9b04-11ea-8d02-0242ac120007-1-f99a",
       "previous": "65205d38-9a36-11ea-8d02-0242ac120007-1-4503"
      },
      {
       "current": "034b7262-56fc-11ec-a1da-0242ac120004-1-6184",
       "next": "08f1174a-9b04-11ea-8d02-0242ac120007-2-f99a-9309",
       "previous": "65205d38-9a36-11ea-8d02-0242ac120007-2-4503-c921"
      },
      {
       "current": "034b7262-56fc-11ec-a1da-0242ac120004-1-6184",
       "next": "ecc4b59c-6cae-11ee-89fa-0242ac120005",
       "previous": "65205d38-9a36-11ea-8d02-0242ac120007-2-4503-c921"
      },
      {
       "current": "034b7262-56fc-11ec-a1da-0242ac120004-2-6184-f072",
       "next": "ecc4b59c-6cae-11ee-89fa-0242ac120005",
       "previous": "9418ce40-9a36-11ea-8d02-0242ac120007-2-e415-abb0"
      },
      {
       "current": "034b7262-56fc-11ec-a1da-0242ac120004-3-6184-f072-9257",
       "next": "ecc4b59c-6cae-11ee-89fa-0242ac120005-1-91e3",
       "previous": "9418ce40-9a36-11ea-8d02-0242ac120007-3-e415-abb0-50ec"
      },
      {
       "current": "034b7262-56fc-11ec-a1da-0242ac120004-4-6184-f072-9257-8cfe",
       "next": "ecc4b59c-6cae-11ee-89fa-0242ac120005-2-91e3-6b45",
       "previous": "9418ce40-9a36-11ea-8d02-0242ac120007-4-e415-abb0-50ec-0d77"
      },
      {
       "current": "034b7262-56fc-11ec-a1da-0242ac120004-5-6184-f072-9257-8cfe-f6af",
       "next": "ecc4b59c-6cae-11ee-89fa-0242ac120005-3-91e3-6b45-818b",
       "previous": "9418ce40-9a36-11ea-8d02-0242ac120007-5-e415-abb0-50ec-0d77-05d4"
      },
      {
       "current": "034b7262-56fc-11ec-a1da-0242ac120004-6-6184-f072-9257-8cfe-f6af-a03a",
       "next": "ecc4b59c-6cae-11ee-89fa-0242ac120005-4-91e3-6b45-818b-e43b",
       "previous": "9418ce40-9a36-11ea-8d02-0242ac120007-6-e415-abb0-50ec-0d77-05d4-5263"
      }
     ],
     "next": "ecc4b59c-6cae-11ee-89fa-0242ac120005-5-91e3-6b45-818b-e43b-003a",
     "previous": "9418ce40-9a36-11ea-8d02-0242ac120007-7-e415-abb0-50ec-0d77-05d4-5263-5636"
    }
   },
   "outputs": [],
   "source": [
    "!ansible -i $hosts -b -m shell -a 'hostname' bootstrap"
   ]
  },
  {
   "cell_type": "code",
   "execution_count": null,
   "metadata": {
    "lc_cell_meme": {
     "current": "ecc4b59c-6cae-11ee-89fa-0242ac120005-5-91e3-6b45-818b-e43b-003a",
     "history": [
      {
       "current": "ecc4b59c-6cae-11ee-89fa-0242ac120005",
       "next": "08f1174a-9b04-11ea-8d02-0242ac120007-2-f99a-9309",
       "previous": "034b7262-56fc-11ec-a1da-0242ac120004-1-6184"
      },
      {
       "current": "ecc4b59c-6cae-11ee-89fa-0242ac120005-1-91e3",
       "next": "f22be07e-81e3-11ee-91d3-0242ac120006",
       "previous": "034b7262-56fc-11ec-a1da-0242ac120004-1-6184"
      },
      {
       "current": "ecc4b59c-6cae-11ee-89fa-0242ac120005-1-91e3",
       "next": "f22be07e-81e3-11ee-91d3-0242ac120006-1-3a1b",
       "previous": "034b7262-56fc-11ec-a1da-0242ac120004-2-6184-f072"
      },
      {
       "current": "ecc4b59c-6cae-11ee-89fa-0242ac120005-2-91e3-6b45",
       "next": "55123bb8-a483-11ee-91d3-0242ac120006",
       "previous": "034b7262-56fc-11ec-a1da-0242ac120004-2-6184-f072"
      },
      {
       "current": "ecc4b59c-6cae-11ee-89fa-0242ac120005-3-91e3-6b45-818b",
       "next": "55123bb8-a483-11ee-91d3-0242ac120006-1-f5e1",
       "previous": "034b7262-56fc-11ec-a1da-0242ac120004-3-6184-f072-9257"
      },
      {
       "current": "ecc4b59c-6cae-11ee-89fa-0242ac120005-4-91e3-6b45-818b-e43b",
       "next": "55123bb8-a483-11ee-91d3-0242ac120006-2-f5e1-ea87",
       "previous": "034b7262-56fc-11ec-a1da-0242ac120004-4-6184-f072-9257-8cfe"
      },
      {
       "current": "ecc4b59c-6cae-11ee-89fa-0242ac120005-5-91e3-6b45-818b-e43b-003a",
       "next": "55123bb8-a483-11ee-91d3-0242ac120006-3-f5e1-ea87-699e",
       "previous": "034b7262-56fc-11ec-a1da-0242ac120004-5-6184-f072-9257-8cfe-f6af"
      }
     ],
     "next": "55123bb8-a483-11ee-91d3-0242ac120006-4-f5e1-ea87-699e-bf3d",
     "previous": "034b7262-56fc-11ec-a1da-0242ac120004-6-6184-f072-9257-8cfe-f6af-a03a"
    }
   },
   "outputs": [],
   "source": [
    "!ansible -i $hosts -b -m shell -a 'hostname' ceph_node"
   ]
  },
  {
   "cell_type": "markdown",
   "metadata": {
    "lc_cell_meme": {
     "current": "55123bb8-a483-11ee-91d3-0242ac120006-4-f5e1-ea87-699e-bf3d",
     "history": [
      {
       "current": "55123bb8-a483-11ee-91d3-0242ac120006-1-f5e1",
       "next": "55123e56-a483-11ee-91d3-0242ac120006",
       "previous": "ecc4b59c-6cae-11ee-89fa-0242ac120005-1-91e3"
      },
      {
       "current": "55123bb8-a483-11ee-91d3-0242ac120006-2-f5e1-ea87",
       "next": "55123e56-a483-11ee-91d3-0242ac120006-1-ac0f",
       "previous": "ecc4b59c-6cae-11ee-89fa-0242ac120005-2-91e3-6b45"
      },
      {
       "current": "55123bb8-a483-11ee-91d3-0242ac120006-3-f5e1-ea87-699e",
       "next": "55123e56-a483-11ee-91d3-0242ac120006-2-ac0f-616f",
       "previous": "ecc4b59c-6cae-11ee-89fa-0242ac120005-3-91e3-6b45-818b"
      },
      {
       "current": "55123bb8-a483-11ee-91d3-0242ac120006-4-f5e1-ea87-699e-bf3d",
       "next": "55123e56-a483-11ee-91d3-0242ac120006-3-ac0f-616f-fd2b",
       "previous": "ecc4b59c-6cae-11ee-89fa-0242ac120005-4-91e3-6b45-818b-e43b"
      }
     ],
     "next": "55123e56-a483-11ee-91d3-0242ac120006-4-ac0f-616f-fd2b-1f4d",
     "previous": "ecc4b59c-6cae-11ee-89fa-0242ac120005-5-91e3-6b45-818b-e43b-003a"
    }
   },
   "source": [
    "# 事前物理Disk情報取得"
   ]
  },
  {
   "cell_type": "code",
   "execution_count": null,
   "metadata": {
    "lc_cell_meme": {
     "current": "55123e56-a483-11ee-91d3-0242ac120006-4-ac0f-616f-fd2b-1f4d",
     "history": [
      {
       "current": "55123e56-a483-11ee-91d3-0242ac120006",
       "next": "f22be07e-81e3-11ee-91d3-0242ac120006-1-3a1b",
       "previous": "55123bb8-a483-11ee-91d3-0242ac120006"
      },
      {
       "current": "55123e56-a483-11ee-91d3-0242ac120006-1-ac0f",
       "next": "73342fec-a484-11ee-91d3-0242ac120006",
       "previous": "55123bb8-a483-11ee-91d3-0242ac120006"
      },
      {
       "current": "55123e56-a483-11ee-91d3-0242ac120006-2-ac0f-616f",
       "next": "73342fec-a484-11ee-91d3-0242ac120006-1-065d",
       "previous": "55123bb8-a483-11ee-91d3-0242ac120006-1-f5e1"
      },
      {
       "current": "55123e56-a483-11ee-91d3-0242ac120006-3-ac0f-616f-fd2b",
       "next": "73342fec-a484-11ee-91d3-0242ac120006-2-065d-04aa",
       "previous": "55123bb8-a483-11ee-91d3-0242ac120006-2-f5e1-ea87"
      },
      {
       "current": "55123e56-a483-11ee-91d3-0242ac120006-4-ac0f-616f-fd2b-1f4d",
       "next": "73342fec-a484-11ee-91d3-0242ac120006-3-065d-04aa-1f61",
       "previous": "55123bb8-a483-11ee-91d3-0242ac120006-3-f5e1-ea87-699e"
      }
     ],
     "next": "73342fec-a484-11ee-91d3-0242ac120006-4-065d-04aa-1f61-4665",
     "previous": "55123bb8-a483-11ee-91d3-0242ac120006-4-f5e1-ea87-699e-bf3d"
    },
    "scrolled": true
   },
   "outputs": [],
   "source": [
    "ret = !ansible -i $hosts -b -m shell -a 'lsblk -J' ceph_node\n",
    "ret.pop(0)\n",
    "\n",
    "json_text = \"\"\n",
    "for line in ret:\n",
    "    json_text = json_text + line\n",
    "\n",
    "disk_data = json.loads(json_text)"
   ]
  },
  {
   "cell_type": "code",
   "execution_count": null,
   "metadata": {
    "lc_cell_meme": {
     "current": "73342fec-a484-11ee-91d3-0242ac120006-4-065d-04aa-1f61-4665",
     "history": [
      {
       "current": "73342fec-a484-11ee-91d3-0242ac120006",
       "next": "f22be07e-81e3-11ee-91d3-0242ac120006-1-3a1b",
       "previous": "55123e56-a483-11ee-91d3-0242ac120006"
      },
      {
       "current": "73342fec-a484-11ee-91d3-0242ac120006",
       "next": "49d44b18-a485-11ee-91d3-0242ac120006",
       "previous": "55123e56-a483-11ee-91d3-0242ac120006"
      },
      {
       "current": "73342fec-a484-11ee-91d3-0242ac120006-1-065d",
       "next": "208bc26c-a486-11ee-91d3-0242ac120006",
       "previous": "55123e56-a483-11ee-91d3-0242ac120006"
      },
      {
       "current": "73342fec-a484-11ee-91d3-0242ac120006-2-065d-04aa",
       "next": "208bc26c-a486-11ee-91d3-0242ac120006-1-d5d1",
       "previous": "55123e56-a483-11ee-91d3-0242ac120006-1-ac0f"
      },
      {
       "current": "73342fec-a484-11ee-91d3-0242ac120006-3-065d-04aa-1f61",
       "next": "208bc26c-a486-11ee-91d3-0242ac120006-2-d5d1-0008",
       "previous": "55123e56-a483-11ee-91d3-0242ac120006-2-ac0f-616f"
      },
      {
       "current": "73342fec-a484-11ee-91d3-0242ac120006-4-065d-04aa-1f61-4665",
       "next": "208bc26c-a486-11ee-91d3-0242ac120006-3-d5d1-0008-43b5",
       "previous": "55123e56-a483-11ee-91d3-0242ac120006-3-ac0f-616f-fd2b"
      }
     ],
     "next": "208bc26c-a486-11ee-91d3-0242ac120006-4-d5d1-0008-43b5-1fbe",
     "previous": "55123e56-a483-11ee-91d3-0242ac120006-4-ac0f-616f-fd2b-1f4d"
    },
    "scrolled": true
   },
   "outputs": [],
   "source": [
    "print(json.dumps(disk_data, sort_keys=True, indent=4))"
   ]
  },
  {
   "cell_type": "code",
   "execution_count": null,
   "metadata": {
    "lc_cell_meme": {
     "current": "208bc26c-a486-11ee-91d3-0242ac120006-4-d5d1-0008-43b5-1fbe",
     "history": [
      {
       "current": "208bc26c-a486-11ee-91d3-0242ac120006-1-d5d1",
       "next": "49d44b18-a485-11ee-91d3-0242ac120006",
       "previous": "73342fec-a484-11ee-91d3-0242ac120006"
      },
      {
       "current": "208bc26c-a486-11ee-91d3-0242ac120006-2-d5d1-0008",
       "next": "49d44b18-a485-11ee-91d3-0242ac120006-1-1984",
       "previous": "73342fec-a484-11ee-91d3-0242ac120006-1-065d"
      },
      {
       "current": "208bc26c-a486-11ee-91d3-0242ac120006-3-d5d1-0008-43b5",
       "next": "49d44b18-a485-11ee-91d3-0242ac120006-2-1984-f77c",
       "previous": "73342fec-a484-11ee-91d3-0242ac120006-2-065d-04aa"
      },
      {
       "current": "208bc26c-a486-11ee-91d3-0242ac120006-4-d5d1-0008-43b5-1fbe",
       "next": "49d44b18-a485-11ee-91d3-0242ac120006-3-1984-f77c-14bc",
       "previous": "73342fec-a484-11ee-91d3-0242ac120006-3-065d-04aa-1f61"
      }
     ],
     "next": "49d44b18-a485-11ee-91d3-0242ac120006-4-1984-f77c-14bc-e0ae",
     "previous": "73342fec-a484-11ee-91d3-0242ac120006-4-065d-04aa-1f61-4665"
    }
   },
   "outputs": [],
   "source": [
    "def get_children(src):\n",
    "    ret = []\n",
    "    children = src.get('children', [])\n",
    "    for blockdevice in children:\n",
    "        blk_info = {}\n",
    "        blk_info['name'] = blockdevice['name']\n",
    "        blk_info['size'] = blockdevice['size']\n",
    "        blk_info['type'] = blockdevice['type']\n",
    "        ret.append(blk_info)\n",
    "        child = get_children(blockdevice)\n",
    "        if len(child) > 0:\n",
    "            blk_info['children'] = child\n",
    "    return ret\n",
    "        "
   ]
  },
  {
   "cell_type": "code",
   "execution_count": null,
   "metadata": {
    "lc_cell_meme": {
     "current": "49d44b18-a485-11ee-91d3-0242ac120006-4-1984-f77c-14bc-e0ae",
     "history": [
      {
       "current": "49d44b18-a485-11ee-91d3-0242ac120006",
       "next": "f22be07e-81e3-11ee-91d3-0242ac120006-1-3a1b",
       "previous": "73342fec-a484-11ee-91d3-0242ac120006"
      },
      {
       "current": "49d44b18-a485-11ee-91d3-0242ac120006",
       "next": "f22be07e-81e3-11ee-91d3-0242ac120006-1-3a1b",
       "previous": "208bc26c-a486-11ee-91d3-0242ac120006"
      },
      {
       "current": "49d44b18-a485-11ee-91d3-0242ac120006-1-1984",
       "next": "155135c4-a488-11ee-91d3-0242ac120006",
       "previous": "208bc26c-a486-11ee-91d3-0242ac120006"
      },
      {
       "current": "49d44b18-a485-11ee-91d3-0242ac120006-2-1984-f77c",
       "next": "155135c4-a488-11ee-91d3-0242ac120006-1-31dd",
       "previous": "208bc26c-a486-11ee-91d3-0242ac120006-1-d5d1"
      },
      {
       "current": "49d44b18-a485-11ee-91d3-0242ac120006-3-1984-f77c-14bc",
       "next": "155135c4-a488-11ee-91d3-0242ac120006-2-31dd-6302",
       "previous": "208bc26c-a486-11ee-91d3-0242ac120006-2-d5d1-0008"
      },
      {
       "current": "49d44b18-a485-11ee-91d3-0242ac120006-4-1984-f77c-14bc-e0ae",
       "next": "155135c4-a488-11ee-91d3-0242ac120006-3-31dd-6302-d429",
       "previous": "208bc26c-a486-11ee-91d3-0242ac120006-3-d5d1-0008-43b5"
      }
     ],
     "next": "155135c4-a488-11ee-91d3-0242ac120006-4-31dd-6302-d429-9c90",
     "previous": "208bc26c-a486-11ee-91d3-0242ac120006-4-d5d1-0008-43b5-1fbe"
    },
    "scrolled": true
   },
   "outputs": [],
   "source": [
    "disk_info_list = []\n",
    "for blockdevice in disk_data['blockdevices']:\n",
    "    blk_info = {}\n",
    "    blk_info['name'] = blockdevice['name']\n",
    "    blk_info['size'] = blockdevice['size']\n",
    "    blk_info['type'] = blockdevice['type']\n",
    "    disk_info_list.append(blk_info)\n",
    "    child = get_children(blockdevice)\n",
    "    if len(child) > 0:\n",
    "        blk_info['children'] = child   \n",
    "\n",
    "print(json.dumps(disk_info_list, sort_keys=True, indent=4))"
   ]
  },
  {
   "cell_type": "code",
   "execution_count": null,
   "metadata": {
    "lc_cell_meme": {
     "current": "155135c4-a488-11ee-91d3-0242ac120006-4-31dd-6302-d429-9c90",
     "history": [
      {
       "current": "155135c4-a488-11ee-91d3-0242ac120006",
       "next": "15513786-a488-11ee-91d3-0242ac120006",
       "previous": "49d44b18-a485-11ee-91d3-0242ac120006"
      },
      {
       "current": "155135c4-a488-11ee-91d3-0242ac120006-1-31dd",
       "next": "15513786-a488-11ee-91d3-0242ac120006-1-e5b8",
       "previous": "49d44b18-a485-11ee-91d3-0242ac120006"
      },
      {
       "current": "155135c4-a488-11ee-91d3-0242ac120006-2-31dd-6302",
       "next": "15513786-a488-11ee-91d3-0242ac120006-2-e5b8-c9e8",
       "previous": "49d44b18-a485-11ee-91d3-0242ac120006-1-1984"
      },
      {
       "current": "155135c4-a488-11ee-91d3-0242ac120006-3-31dd-6302-d429",
       "next": "15513786-a488-11ee-91d3-0242ac120006-3-e5b8-c9e8-8844",
       "previous": "49d44b18-a485-11ee-91d3-0242ac120006-2-1984-f77c"
      },
      {
       "current": "155135c4-a488-11ee-91d3-0242ac120006-4-31dd-6302-d429-9c90",
       "next": "15513786-a488-11ee-91d3-0242ac120006-4-e5b8-c9e8-8844-c3c6",
       "previous": "49d44b18-a485-11ee-91d3-0242ac120006-3-1984-f77c-14bc"
      }
     ],
     "next": "15513786-a488-11ee-91d3-0242ac120006-5-e5b8-c9e8-8844-c3c6-ffb1",
     "previous": "49d44b18-a485-11ee-91d3-0242ac120006-4-1984-f77c-14bc-e0ae"
    }
   },
   "outputs": [],
   "source": [
    "db_disk = None\n",
    "data_disks = []\n",
    "for disk_info in disk_info_list:\n",
    "    if disk_info['type'] != 'disk':\n",
    "        continue\n",
    "    if 'children' in disk_info:\n",
    "        if len(disk_info['children']) <= 2:\n",
    "            db_disk = disk_info\n",
    "    else:\n",
    "        data_disks.append(disk_info)\n",
    "\n",
    "print(db_disk)\n",
    "print(data_disks)\n"
   ]
  },
  {
   "cell_type": "markdown",
   "metadata": {
    "lc_cell_meme": {
     "current": "15513786-a488-11ee-91d3-0242ac120006-5-e5b8-c9e8-8844-c3c6-ffb1",
     "history": [
      {
       "current": "15513786-a488-11ee-91d3-0242ac120006-1-e5b8",
       "next": "f22be07e-81e3-11ee-91d3-0242ac120006-1-3a1b",
       "previous": "155135c4-a488-11ee-91d3-0242ac120006"
      },
      {
       "current": "15513786-a488-11ee-91d3-0242ac120006-2-e5b8-c9e8",
       "next": "c9dc863a-a51c-11ee-91d3-0242ac120006",
       "previous": "155135c4-a488-11ee-91d3-0242ac120006"
      },
      {
       "current": "15513786-a488-11ee-91d3-0242ac120006-3-e5b8-c9e8-8844",
       "next": "c9dc863a-a51c-11ee-91d3-0242ac120006-1-27b2",
       "previous": "155135c4-a488-11ee-91d3-0242ac120006-1-31dd"
      },
      {
       "current": "15513786-a488-11ee-91d3-0242ac120006-4-e5b8-c9e8-8844-c3c6",
       "next": "c9dc863a-a51c-11ee-91d3-0242ac120006-2-27b2-ca74",
       "previous": "155135c4-a488-11ee-91d3-0242ac120006-2-31dd-6302"
      },
      {
       "current": "15513786-a488-11ee-91d3-0242ac120006-5-e5b8-c9e8-8844-c3c6-ffb1",
       "next": "c9dc863a-a51c-11ee-91d3-0242ac120006-3-27b2-ca74-4825",
       "previous": "155135c4-a488-11ee-91d3-0242ac120006-3-31dd-6302-d429"
      }
     ],
     "next": "c9dc863a-a51c-11ee-91d3-0242ac120006-4-27b2-ca74-4825-4dbb",
     "previous": "155135c4-a488-11ee-91d3-0242ac120006-4-31dd-6302-d429-9c90"
    }
   },
   "source": [
    "# パーティション情報取得"
   ]
  },
  {
   "cell_type": "code",
   "execution_count": null,
   "metadata": {
    "lc_cell_meme": {
     "current": "c9dc863a-a51c-11ee-91d3-0242ac120006-4-27b2-ca74-4825-4dbb",
     "history": [
      {
       "current": "c9dc863a-a51c-11ee-91d3-0242ac120006-1-27b2",
       "next": "c9dc8946-a51c-11ee-91d3-0242ac120006",
       "previous": "15513786-a488-11ee-91d3-0242ac120006-1-e5b8"
      },
      {
       "current": "c9dc863a-a51c-11ee-91d3-0242ac120006-2-27b2-ca74",
       "next": "c9dc8946-a51c-11ee-91d3-0242ac120006-1-18d7",
       "previous": "15513786-a488-11ee-91d3-0242ac120006-2-e5b8-c9e8"
      },
      {
       "current": "c9dc863a-a51c-11ee-91d3-0242ac120006-3-27b2-ca74-4825",
       "next": "c9dc8946-a51c-11ee-91d3-0242ac120006-2-18d7-2beb",
       "previous": "15513786-a488-11ee-91d3-0242ac120006-3-e5b8-c9e8-8844"
      },
      {
       "current": "c9dc863a-a51c-11ee-91d3-0242ac120006-4-27b2-ca74-4825-4dbb",
       "next": "c9dc8946-a51c-11ee-91d3-0242ac120006-3-18d7-2beb-6b88",
       "previous": "15513786-a488-11ee-91d3-0242ac120006-4-e5b8-c9e8-8844-c3c6"
      }
     ],
     "next": "c9dc8946-a51c-11ee-91d3-0242ac120006-4-18d7-2beb-6b88-03d7",
     "previous": "15513786-a488-11ee-91d3-0242ac120006-5-e5b8-c9e8-8844-c3c6-ffb1"
    },
    "scrolled": true
   },
   "outputs": [],
   "source": [
    "part_info = !ansible -i $hosts -b -m shell -a \"parted -mlj 2> /dev/null\" ceph_node\n",
    "part_info.pop(0)\n",
    "print(part_info)"
   ]
  },
  {
   "cell_type": "code",
   "execution_count": null,
   "metadata": {
    "lc_cell_meme": {
     "current": "c9dc8946-a51c-11ee-91d3-0242ac120006-4-18d7-2beb-6b88-03d7",
     "history": [
      {
       "current": "c9dc8946-a51c-11ee-91d3-0242ac120006",
       "next": "c9dc8a0e-a51c-11ee-91d3-0242ac120006",
       "previous": "c9dc863a-a51c-11ee-91d3-0242ac120006"
      },
      {
       "current": "c9dc8946-a51c-11ee-91d3-0242ac120006",
       "next": "c9dc8a0e-a51c-11ee-91d3-0242ac120006-1-71e4",
       "previous": "c9dc863a-a51c-11ee-91d3-0242ac120006"
      },
      {
       "current": "c9dc8946-a51c-11ee-91d3-0242ac120006-1-18d7",
       "next": "f22be07e-81e3-11ee-91d3-0242ac120006-1-3a1b",
       "previous": "c9dc863a-a51c-11ee-91d3-0242ac120006"
      },
      {
       "current": "c9dc8946-a51c-11ee-91d3-0242ac120006-2-18d7-2beb",
       "next": "f22be07e-81e3-11ee-91d3-0242ac120006-2-3a1b-7479",
       "previous": "c9dc863a-a51c-11ee-91d3-0242ac120006-1-27b2"
      },
      {
       "current": "c9dc8946-a51c-11ee-91d3-0242ac120006-3-18d7-2beb-6b88",
       "next": "f22be07e-81e3-11ee-91d3-0242ac120006-3-3a1b-7479-6961",
       "previous": "c9dc863a-a51c-11ee-91d3-0242ac120006-2-27b2-ca74"
      },
      {
       "current": "c9dc8946-a51c-11ee-91d3-0242ac120006-4-18d7-2beb-6b88-03d7",
       "next": "f22be07e-81e3-11ee-91d3-0242ac120006-4-3a1b-7479-6961-6ede",
       "previous": "c9dc863a-a51c-11ee-91d3-0242ac120006-3-27b2-ca74-4825"
      }
     ],
     "next": "f22be07e-81e3-11ee-91d3-0242ac120006-5-3a1b-7479-6961-6ede-28d4",
     "previous": "c9dc863a-a51c-11ee-91d3-0242ac120006-4-27b2-ca74-4825-4dbb"
    },
    "scrolled": true
   },
   "outputs": [],
   "source": [
    "import re\n",
    "\n",
    "part_info_json_list = []\n",
    "part_info_json = \"\"\n",
    "for part_info_line in part_info:\n",
    "    if part_info_line == '':\n",
    "        if len(part_info_json) > 0:\n",
    "            part_info_json_list.append(part_info_json)\n",
    "        part_info_json = \"\"\n",
    "        continue\n",
    "    part_info_json = part_info_json + part_info_line\n",
    "\n",
    "part_info_list = []\n",
    "for part_info_json in part_info_json_list:\n",
    "    part_info_list.append(json.loads(part_info_json))\n",
    "\n",
    "print(json.dumps(part_info_list, sort_keys=True, indent=4))"
   ]
  },
  {
   "cell_type": "markdown",
   "metadata": {
    "lc_cell_meme": {
     "current": "f22be07e-81e3-11ee-91d3-0242ac120006-5-3a1b-7479-6961-6ede-28d4",
     "history": [
      {
       "current": "f22be07e-81e3-11ee-91d3-0242ac120006",
       "next": "f22be268-81e3-11ee-91d3-0242ac120006",
       "previous": "ecc4b59c-6cae-11ee-89fa-0242ac120005"
      },
      {
       "current": "f22be07e-81e3-11ee-91d3-0242ac120006-1-3a1b",
       "next": "f22be268-81e3-11ee-91d3-0242ac120006-1-728b",
       "previous": "ecc4b59c-6cae-11ee-89fa-0242ac120005"
      },
      {
       "current": "f22be07e-81e3-11ee-91d3-0242ac120006-1-3a1b",
       "next": "f22be268-81e3-11ee-91d3-0242ac120006-2-728b-c594",
       "previous": "ecc4b59c-6cae-11ee-89fa-0242ac120005-1-91e3"
      },
      {
       "current": "f22be07e-81e3-11ee-91d3-0242ac120006-1-3a1b",
       "next": "f22be268-81e3-11ee-91d3-0242ac120006-2-728b-c594",
       "previous": "55123e56-a483-11ee-91d3-0242ac120006"
      },
      {
       "current": "f22be07e-81e3-11ee-91d3-0242ac120006-1-3a1b",
       "next": "f22be268-81e3-11ee-91d3-0242ac120006-2-728b-c594",
       "previous": "73342fec-a484-11ee-91d3-0242ac120006"
      },
      {
       "current": "f22be07e-81e3-11ee-91d3-0242ac120006-1-3a1b",
       "next": "f22be268-81e3-11ee-91d3-0242ac120006-2-728b-c594",
       "previous": "49d44b18-a485-11ee-91d3-0242ac120006"
      },
      {
       "current": "f22be07e-81e3-11ee-91d3-0242ac120006-1-3a1b",
       "next": "f22be268-81e3-11ee-91d3-0242ac120006-2-728b-c594",
       "previous": "15513786-a488-11ee-91d3-0242ac120006"
      },
      {
       "current": "f22be07e-81e3-11ee-91d3-0242ac120006-1-3a1b",
       "next": "f22be268-81e3-11ee-91d3-0242ac120006-2-728b-c594",
       "previous": "c9dc8a90-a51c-11ee-91d3-0242ac120006"
      },
      {
       "current": "f22be07e-81e3-11ee-91d3-0242ac120006-1-3a1b",
       "next": "f22be268-81e3-11ee-91d3-0242ac120006-2-728b-c594",
       "previous": "cedeeb64-a544-11ee-91d3-0242ac120006"
      },
      {
       "current": "f22be07e-81e3-11ee-91d3-0242ac120006-1-3a1b",
       "next": "f22be268-81e3-11ee-91d3-0242ac120006-2-728b-c594",
       "previous": "5decf166-a545-11ee-91d3-0242ac120006"
      },
      {
       "current": "f22be07e-81e3-11ee-91d3-0242ac120006-1-3a1b",
       "next": "f22be268-81e3-11ee-91d3-0242ac120006-2-728b-c594",
       "previous": "5decefcc-a545-11ee-91d3-0242ac120006"
      },
      {
       "current": "f22be07e-81e3-11ee-91d3-0242ac120006-2-3a1b-7479",
       "next": "f22be268-81e3-11ee-91d3-0242ac120006-2-728b-c594",
       "previous": "c9dc8946-a51c-11ee-91d3-0242ac120006"
      },
      {
       "current": "f22be07e-81e3-11ee-91d3-0242ac120006-3-3a1b-7479-6961",
       "next": "f22be268-81e3-11ee-91d3-0242ac120006-3-728b-c594-5e61",
       "previous": "c9dc8946-a51c-11ee-91d3-0242ac120006-1-18d7"
      },
      {
       "current": "f22be07e-81e3-11ee-91d3-0242ac120006-4-3a1b-7479-6961-6ede",
       "next": "f22be268-81e3-11ee-91d3-0242ac120006-4-728b-c594-5e61-fac7",
       "previous": "c9dc8946-a51c-11ee-91d3-0242ac120006-2-18d7-2beb"
      },
      {
       "current": "f22be07e-81e3-11ee-91d3-0242ac120006-5-3a1b-7479-6961-6ede-28d4",
       "next": "f22be268-81e3-11ee-91d3-0242ac120006-5-728b-c594-5e61-fac7-0b4e",
       "previous": "c9dc8946-a51c-11ee-91d3-0242ac120006-3-18d7-2beb-6b88"
      }
     ],
     "next": "f22be268-81e3-11ee-91d3-0242ac120006-6-728b-c594-5e61-fac7-0b4e-f377",
     "previous": "c9dc8946-a51c-11ee-91d3-0242ac120006-4-18d7-2beb-6b88-03d7"
    }
   },
   "source": [
    "# 事前PV/LVM情報取得"
   ]
  },
  {
   "cell_type": "markdown",
   "metadata": {
    "lc_cell_meme": {
     "current": "f22be268-81e3-11ee-91d3-0242ac120006-6-728b-c594-5e61-fac7-0b4e-f377",
     "history": [
      {
       "current": "f22be268-81e3-11ee-91d3-0242ac120006-2-728b-c594",
       "next": "f22be330-81e3-11ee-91d3-0242ac120006",
       "previous": "f22be07e-81e3-11ee-91d3-0242ac120006"
      },
      {
       "current": "f22be268-81e3-11ee-91d3-0242ac120006-3-728b-c594-5e61",
       "next": "f22be330-81e3-11ee-91d3-0242ac120006-1-3b55",
       "previous": "f22be07e-81e3-11ee-91d3-0242ac120006-1-3a1b"
      },
      {
       "current": "f22be268-81e3-11ee-91d3-0242ac120006-4-728b-c594-5e61-fac7",
       "next": "f22be330-81e3-11ee-91d3-0242ac120006-2-3b55-18d8",
       "previous": "f22be07e-81e3-11ee-91d3-0242ac120006-2-3a1b-7479"
      },
      {
       "current": "f22be268-81e3-11ee-91d3-0242ac120006-5-728b-c594-5e61-fac7-0b4e",
       "next": "f22be330-81e3-11ee-91d3-0242ac120006-3-3b55-18d8-fb98",
       "previous": "f22be07e-81e3-11ee-91d3-0242ac120006-3-3a1b-7479-6961"
      },
      {
       "current": "f22be268-81e3-11ee-91d3-0242ac120006-6-728b-c594-5e61-fac7-0b4e-f377",
       "next": "f22be330-81e3-11ee-91d3-0242ac120006-4-3b55-18d8-fb98-c89f",
       "previous": "f22be07e-81e3-11ee-91d3-0242ac120006-4-3a1b-7479-6961-6ede"
      }
     ],
     "next": "f22be330-81e3-11ee-91d3-0242ac120006-5-3b55-18d8-fb98-c89f-8527",
     "previous": "f22be07e-81e3-11ee-91d3-0242ac120006-5-3a1b-7479-6961-6ede-28d4"
    }
   },
   "source": [
    "## LVM情報取得関数定"
   ]
  },
  {
   "cell_type": "code",
   "execution_count": null,
   "metadata": {
    "lc_cell_meme": {
     "current": "f22be330-81e3-11ee-91d3-0242ac120006-5-3b55-18d8-fb98-c89f-8527",
     "history": [
      {
       "current": "f22be330-81e3-11ee-91d3-0242ac120006",
       "next": "f22be3b2-81e3-11ee-91d3-0242ac120006",
       "previous": "f22be268-81e3-11ee-91d3-0242ac120006"
      },
      {
       "current": "f22be330-81e3-11ee-91d3-0242ac120006-1-3b55",
       "next": "f22be3b2-81e3-11ee-91d3-0242ac120006-1-210b",
       "previous": "f22be268-81e3-11ee-91d3-0242ac120006-1-728b"
      },
      {
       "current": "f22be330-81e3-11ee-91d3-0242ac120006-2-3b55-18d8",
       "next": "f22be3b2-81e3-11ee-91d3-0242ac120006-2-210b-f1c6",
       "previous": "f22be268-81e3-11ee-91d3-0242ac120006-2-728b-c594"
      },
      {
       "current": "f22be330-81e3-11ee-91d3-0242ac120006-3-3b55-18d8-fb98",
       "next": "f22be3b2-81e3-11ee-91d3-0242ac120006-3-210b-f1c6-0a6a",
       "previous": "f22be268-81e3-11ee-91d3-0242ac120006-3-728b-c594-5e61"
      },
      {
       "current": "f22be330-81e3-11ee-91d3-0242ac120006-4-3b55-18d8-fb98-c89f",
       "next": "f22be3b2-81e3-11ee-91d3-0242ac120006-4-210b-f1c6-0a6a-bc62",
       "previous": "f22be268-81e3-11ee-91d3-0242ac120006-4-728b-c594-5e61-fac7"
      },
      {
       "current": "f22be330-81e3-11ee-91d3-0242ac120006-5-3b55-18d8-fb98-c89f-8527",
       "next": "f22be3b2-81e3-11ee-91d3-0242ac120006-5-210b-f1c6-0a6a-bc62-7269",
       "previous": "f22be268-81e3-11ee-91d3-0242ac120006-5-728b-c594-5e61-fac7-0b4e"
      }
     ],
     "next": "f22be3b2-81e3-11ee-91d3-0242ac120006-6-210b-f1c6-0a6a-bc62-7269-d74f",
     "previous": "f22be268-81e3-11ee-91d3-0242ac120006-6-728b-c594-5e61-fac7-0b4e-f377"
    }
   },
   "outputs": [],
   "source": [
    "import re\n",
    "\n",
    "def make_pv_info_list(ret):\n",
    "    ret.pop(0)\n",
    "    pv_info_list = []\n",
    "    pv_info = None\n",
    "    for line in ret:\n",
    "        if re.search('Physical volume', line) is not None:\n",
    "            pv_info = {}\n",
    "        elif re.search('PV Name', line) is not None:\n",
    "            elems = re.sub('PV Name','',line).split()\n",
    "            pv_info['pv_name'] = elems[0]\n",
    "        elif re.search('VG Name', line) is not None:\n",
    "            elems = re.sub('VG Name','',line).split()\n",
    "            pv_info['vg_name'] = elems[0]\n",
    "        elif re.search('PV Size', line) is not None:\n",
    "            elems = re.sub('PV Size','',line).split()\n",
    "            pv_info['pv_size'] = elems[0]\n",
    "            pv_info_list.append(pv_info)\n",
    "\n",
    "    return pv_info_list\n",
    "\n",
    "def make_lv_info_list(ret, pv_info_map):\n",
    "    lv_info_list = []\n",
    "    lv_info = None\n",
    "    for line in ret:\n",
    "        if re.search('Logical volume', line) is not None:\n",
    "            lv_info = {}\n",
    "        elif re.search('LV Path', line) is not None:\n",
    "            elems = re.sub('LV Path','',line).split()\n",
    "            lv_info['lv_path'] = elems[0]\n",
    "        elif re.search('LV Name', line) is not None:\n",
    "            elems = re.sub('LV Name','',line).split()\n",
    "            lv_info['lv_name'] = elems[0]\n",
    "        elif re.search('VG Name', line) is not None:\n",
    "            elems = re.sub('VG Name','',line).split()\n",
    "            lv_info['vg_name'] = elems[0]\n",
    "            lv_info['pv_name'] = pv_info_map.get(lv_info['vg_name'],None)\n",
    "        elif re.search('Block device', line) is not None:\n",
    "            elems = re.sub('Block device','',line).split()\n",
    "            lv_info['block_dev'] = elems[0]\n",
    "            dev_elems = lv_info['block_dev'].split(':')\n",
    "            dev_name = \"dm-{}\".format(dev_elems[1])\n",
    "            lv_info['dev_name'] = dev_name\n",
    "            lv_info_list.append(lv_info)\n",
    "            \n",
    "    return lv_info_list"
   ]
  },
  {
   "cell_type": "markdown",
   "metadata": {
    "lc_cell_meme": {
     "current": "f22be3b2-81e3-11ee-91d3-0242ac120006-6-210b-f1c6-0a6a-bc62-7269-d74f",
     "history": [
      {
       "current": "f22be3b2-81e3-11ee-91d3-0242ac120006-1-210b",
       "next": "f22be434-81e3-11ee-91d3-0242ac120006",
       "previous": "f22be330-81e3-11ee-91d3-0242ac120006"
      },
      {
       "current": "f22be3b2-81e3-11ee-91d3-0242ac120006-2-210b-f1c6",
       "next": "39bc8e5c-81e4-11ee-91d3-0242ac120006",
       "previous": "f22be330-81e3-11ee-91d3-0242ac120006"
      },
      {
       "current": "f22be3b2-81e3-11ee-91d3-0242ac120006-3-210b-f1c6-0a6a",
       "next": "39bc8e5c-81e4-11ee-91d3-0242ac120006-1-2d35",
       "previous": "f22be330-81e3-11ee-91d3-0242ac120006-1-3b55"
      },
      {
       "current": "f22be3b2-81e3-11ee-91d3-0242ac120006-4-210b-f1c6-0a6a-bc62",
       "next": "39bc8e5c-81e4-11ee-91d3-0242ac120006-2-2d35-1135",
       "previous": "f22be330-81e3-11ee-91d3-0242ac120006-2-3b55-18d8"
      },
      {
       "current": "f22be3b2-81e3-11ee-91d3-0242ac120006-5-210b-f1c6-0a6a-bc62-7269",
       "next": "39bc8e5c-81e4-11ee-91d3-0242ac120006-3-2d35-1135-9508",
       "previous": "f22be330-81e3-11ee-91d3-0242ac120006-3-3b55-18d8-fb98"
      },
      {
       "current": "f22be3b2-81e3-11ee-91d3-0242ac120006-6-210b-f1c6-0a6a-bc62-7269-d74f",
       "next": "39bc8e5c-81e4-11ee-91d3-0242ac120006-4-2d35-1135-9508-50dc",
       "previous": "f22be330-81e3-11ee-91d3-0242ac120006-4-3b55-18d8-fb98-c89f"
      }
     ],
     "next": "39bc8e5c-81e4-11ee-91d3-0242ac120006-5-2d35-1135-9508-50dc-9593",
     "previous": "f22be330-81e3-11ee-91d3-0242ac120006-5-3b55-18d8-fb98-c89f-8527"
    }
   },
   "source": [
    "## PV情報取得"
   ]
  },
  {
   "cell_type": "code",
   "execution_count": null,
   "metadata": {
    "lc_cell_meme": {
     "current": "39bc8e5c-81e4-11ee-91d3-0242ac120006-5-2d35-1135-9508-50dc-9593",
     "history": [
      {
       "current": "39bc8e5c-81e4-11ee-91d3-0242ac120006-1-2d35",
       "next": "39bc9064-81e4-11ee-91d3-0242ac120006",
       "previous": "f22be3b2-81e3-11ee-91d3-0242ac120006-1-210b"
      },
      {
       "current": "39bc8e5c-81e4-11ee-91d3-0242ac120006-2-2d35-1135",
       "next": "39bc9064-81e4-11ee-91d3-0242ac120006-1-44d7",
       "previous": "f22be3b2-81e3-11ee-91d3-0242ac120006-2-210b-f1c6"
      },
      {
       "current": "39bc8e5c-81e4-11ee-91d3-0242ac120006-3-2d35-1135-9508",
       "next": "39bc9064-81e4-11ee-91d3-0242ac120006-2-44d7-b112",
       "previous": "f22be3b2-81e3-11ee-91d3-0242ac120006-3-210b-f1c6-0a6a"
      },
      {
       "current": "39bc8e5c-81e4-11ee-91d3-0242ac120006-4-2d35-1135-9508-50dc",
       "next": "39bc9064-81e4-11ee-91d3-0242ac120006-3-44d7-b112-fb5f",
       "previous": "f22be3b2-81e3-11ee-91d3-0242ac120006-4-210b-f1c6-0a6a-bc62"
      },
      {
       "current": "39bc8e5c-81e4-11ee-91d3-0242ac120006-5-2d35-1135-9508-50dc-9593",
       "next": "39bc9064-81e4-11ee-91d3-0242ac120006-4-44d7-b112-fb5f-0f5c",
       "previous": "f22be3b2-81e3-11ee-91d3-0242ac120006-5-210b-f1c6-0a6a-bc62-7269"
      }
     ],
     "next": "39bc9064-81e4-11ee-91d3-0242ac120006-5-44d7-b112-fb5f-0f5c-22b6",
     "previous": "f22be3b2-81e3-11ee-91d3-0242ac120006-6-210b-f1c6-0a6a-bc62-7269-d74f"
    }
   },
   "outputs": [],
   "source": [
    "# get PV Info\n",
    "ret = !ansible -i $hosts -b -m shell -a 'pvdisplay' ceph_node\n",
    "pv_info_list = make_pv_info_list(ret)\n",
    "\n",
    "pv_info_map = {}\n",
    "for pv_info in pv_info_list:\n",
    "    vg_name = pv_info['vg_name']\n",
    "    pv_info_map[vg_name] = pv_info['pv_name']    \n",
    "    \n",
    "# get PV Info\n",
    "ret = !ansible -i $hosts -b -m shell -a 'lvdisplay' ceph_node\n",
    "lv_info_list = make_lv_info_list(ret,pv_info_map)\n",
    "\n"
   ]
  },
  {
   "cell_type": "code",
   "execution_count": null,
   "metadata": {
    "lc_cell_meme": {
     "current": "39bc9064-81e4-11ee-91d3-0242ac120006-5-44d7-b112-fb5f-0f5c-22b6",
     "history": [
      {
       "current": "39bc9064-81e4-11ee-91d3-0242ac120006-1-44d7",
       "next": "39bc910e-81e4-11ee-91d3-0242ac120006",
       "previous": "39bc8e5c-81e4-11ee-91d3-0242ac120006"
      },
      {
       "current": "39bc9064-81e4-11ee-91d3-0242ac120006-2-44d7-b112",
       "next": "39bc910e-81e4-11ee-91d3-0242ac120006-1-35f7",
       "previous": "39bc8e5c-81e4-11ee-91d3-0242ac120006-1-2d35"
      },
      {
       "current": "39bc9064-81e4-11ee-91d3-0242ac120006-3-44d7-b112-fb5f",
       "next": "39bc910e-81e4-11ee-91d3-0242ac120006-2-35f7-5978",
       "previous": "39bc8e5c-81e4-11ee-91d3-0242ac120006-2-2d35-1135"
      },
      {
       "current": "39bc9064-81e4-11ee-91d3-0242ac120006-4-44d7-b112-fb5f-0f5c",
       "next": "39bc910e-81e4-11ee-91d3-0242ac120006-3-35f7-5978-c419",
       "previous": "39bc8e5c-81e4-11ee-91d3-0242ac120006-3-2d35-1135-9508"
      },
      {
       "current": "39bc9064-81e4-11ee-91d3-0242ac120006-5-44d7-b112-fb5f-0f5c-22b6",
       "next": "39bc910e-81e4-11ee-91d3-0242ac120006-4-35f7-5978-c419-c30a",
       "previous": "39bc8e5c-81e4-11ee-91d3-0242ac120006-4-2d35-1135-9508-50dc"
      }
     ],
     "next": "39bc910e-81e4-11ee-91d3-0242ac120006-5-35f7-5978-c419-c30a-cbfb",
     "previous": "39bc8e5c-81e4-11ee-91d3-0242ac120006-5-2d35-1135-9508-50dc-9593"
    }
   },
   "outputs": [],
   "source": [
    "pd.DataFrame(pv_info_list)"
   ]
  },
  {
   "cell_type": "code",
   "execution_count": null,
   "metadata": {
    "lc_cell_meme": {
     "current": "39bc910e-81e4-11ee-91d3-0242ac120006-5-35f7-5978-c419-c30a-cbfb",
     "history": [
      {
       "current": "39bc910e-81e4-11ee-91d3-0242ac120006-1-35f7",
       "next": "39bc9190-81e4-11ee-91d3-0242ac120006",
       "previous": "39bc9064-81e4-11ee-91d3-0242ac120006"
      },
      {
       "current": "39bc910e-81e4-11ee-91d3-0242ac120006-2-35f7-5978",
       "next": "39bc9190-81e4-11ee-91d3-0242ac120006-1-422f",
       "previous": "39bc9064-81e4-11ee-91d3-0242ac120006-1-44d7"
      },
      {
       "current": "39bc910e-81e4-11ee-91d3-0242ac120006-3-35f7-5978-c419",
       "next": "39bc9190-81e4-11ee-91d3-0242ac120006-2-422f-4789",
       "previous": "39bc9064-81e4-11ee-91d3-0242ac120006-2-44d7-b112"
      },
      {
       "current": "39bc910e-81e4-11ee-91d3-0242ac120006-4-35f7-5978-c419-c30a",
       "next": "39bc9190-81e4-11ee-91d3-0242ac120006-3-422f-4789-46a7",
       "previous": "39bc9064-81e4-11ee-91d3-0242ac120006-3-44d7-b112-fb5f"
      },
      {
       "current": "39bc910e-81e4-11ee-91d3-0242ac120006-5-35f7-5978-c419-c30a-cbfb",
       "next": "39bc9190-81e4-11ee-91d3-0242ac120006-4-422f-4789-46a7-79a7",
       "previous": "39bc9064-81e4-11ee-91d3-0242ac120006-4-44d7-b112-fb5f-0f5c"
      }
     ],
     "next": "39bc9190-81e4-11ee-91d3-0242ac120006-5-422f-4789-46a7-79a7-57a9",
     "previous": "39bc9064-81e4-11ee-91d3-0242ac120006-5-44d7-b112-fb5f-0f5c-22b6"
    }
   },
   "outputs": [],
   "source": [
    "pd.DataFrame(lv_info_list)"
   ]
  },
  {
   "cell_type": "code",
   "execution_count": null,
   "metadata": {
    "lc_cell_meme": {
     "current": "39bc9190-81e4-11ee-91d3-0242ac120006-5-422f-4789-46a7-79a7-57a9",
     "history": [
      {
       "current": "39bc9190-81e4-11ee-91d3-0242ac120006-1-422f",
       "next": "39bc91fe-81e4-11ee-91d3-0242ac120006",
       "previous": "39bc910e-81e4-11ee-91d3-0242ac120006"
      },
      {
       "current": "39bc9190-81e4-11ee-91d3-0242ac120006-2-422f-4789",
       "next": "39bc91fe-81e4-11ee-91d3-0242ac120006-1-65b1",
       "previous": "39bc910e-81e4-11ee-91d3-0242ac120006-1-35f7"
      },
      {
       "current": "39bc9190-81e4-11ee-91d3-0242ac120006-3-422f-4789-46a7",
       "next": "39bc91fe-81e4-11ee-91d3-0242ac120006-2-65b1-f8cc",
       "previous": "39bc910e-81e4-11ee-91d3-0242ac120006-2-35f7-5978"
      },
      {
       "current": "39bc9190-81e4-11ee-91d3-0242ac120006-4-422f-4789-46a7-79a7",
       "next": "39bc91fe-81e4-11ee-91d3-0242ac120006-3-65b1-f8cc-8dec",
       "previous": "39bc910e-81e4-11ee-91d3-0242ac120006-3-35f7-5978-c419"
      },
      {
       "current": "39bc9190-81e4-11ee-91d3-0242ac120006-5-422f-4789-46a7-79a7-57a9",
       "next": "39bc91fe-81e4-11ee-91d3-0242ac120006-4-65b1-f8cc-8dec-5ef2",
       "previous": "39bc910e-81e4-11ee-91d3-0242ac120006-4-35f7-5978-c419-c30a"
      }
     ],
     "next": "39bc91fe-81e4-11ee-91d3-0242ac120006-5-65b1-f8cc-8dec-5ef2-b148",
     "previous": "39bc910e-81e4-11ee-91d3-0242ac120006-5-35f7-5978-c419-c30a-cbfb"
    }
   },
   "outputs": [],
   "source": [
    "db_pv_name = None\n",
    "data_pv_name_list = []\n",
    "for pv_info in pv_info_list:\n",
    "    vg_name = pv_info['vg_name']\n",
    "    if vg_name == 'vg_db':\n",
    "        db_pv_name = pv_info['pv_name']\n",
    "    elif 'vg_data_' in vg_name:\n",
    "        data_pv_name_list.append(pv_info['pv_name'])\n",
    "    \n",
    "print(\"db_pv_name={}\".format(db_pv_name))\n",
    "print(\"data_pv_name_list={}\".format(data_pv_name_list))\n"
   ]
  },
  {
   "cell_type": "code",
   "execution_count": null,
   "metadata": {
    "lc_cell_meme": {
     "current": "39bc91fe-81e4-11ee-91d3-0242ac120006-5-65b1-f8cc-8dec-5ef2-b148",
     "history": [
      {
       "current": "39bc91fe-81e4-11ee-91d3-0242ac120006",
       "next": "f22be434-81e3-11ee-91d3-0242ac120006",
       "previous": "39bc9190-81e4-11ee-91d3-0242ac120006"
      },
      {
       "current": "39bc91fe-81e4-11ee-91d3-0242ac120006-1-65b1",
       "next": "08f1174a-9b04-11ea-8d02-0242ac120007-2-f99a-9309",
       "previous": "39bc9190-81e4-11ee-91d3-0242ac120006"
      },
      {
       "current": "39bc91fe-81e4-11ee-91d3-0242ac120006-2-65b1-f8cc",
       "next": "08f1174a-9b04-11ea-8d02-0242ac120007-3-f99a-9309-b4ae",
       "previous": "39bc9190-81e4-11ee-91d3-0242ac120006-1-422f"
      },
      {
       "current": "39bc91fe-81e4-11ee-91d3-0242ac120006-3-65b1-f8cc-8dec",
       "next": "08f1174a-9b04-11ea-8d02-0242ac120007-4-f99a-9309-b4ae-b92e",
       "previous": "39bc9190-81e4-11ee-91d3-0242ac120006-2-422f-4789"
      },
      {
       "current": "39bc91fe-81e4-11ee-91d3-0242ac120006-4-65b1-f8cc-8dec-5ef2",
       "next": "08f1174a-9b04-11ea-8d02-0242ac120007-5-f99a-9309-b4ae-b92e-a771",
       "previous": "39bc9190-81e4-11ee-91d3-0242ac120006-3-422f-4789-46a7"
      },
      {
       "current": "39bc91fe-81e4-11ee-91d3-0242ac120006-5-65b1-f8cc-8dec-5ef2-b148",
       "next": "08f1174a-9b04-11ea-8d02-0242ac120007-6-f99a-9309-b4ae-b92e-a771-bf84",
       "previous": "39bc9190-81e4-11ee-91d3-0242ac120006-4-422f-4789-46a7-79a7"
      }
     ],
     "next": "08f1174a-9b04-11ea-8d02-0242ac120007-7-f99a-9309-b4ae-b92e-a771-bf84-58b7",
     "previous": "39bc9190-81e4-11ee-91d3-0242ac120006-5-422f-4789-46a7-79a7-57a9"
    }
   },
   "outputs": [],
   "source": [
    "assert (db_pv_name is None), \"すでにOSD用にLVが構築されている\""
   ]
  },
  {
   "cell_type": "markdown",
   "metadata": {
    "lc_cell_meme": {
     "current": "08f1174a-9b04-11ea-8d02-0242ac120007-7-f99a-9309-b4ae-b92e-a771-bf84-58b7",
     "history": [
      {
       "current": "08f1174a-9b04-11ea-8d02-0242ac120007",
       "next": "08f11b64-9b04-11ea-8d02-0242ac120007",
       "previous": "65205d38-9a36-11ea-8d02-0242ac120007"
      },
      {
       "current": "08f1174a-9b04-11ea-8d02-0242ac120007-1-f99a",
       "next": "08f11b64-9b04-11ea-8d02-0242ac120007",
       "previous": "3f01f768-9b0a-11ea-8d02-0242ac120007"
      },
      {
       "current": "08f1174a-9b04-11ea-8d02-0242ac120007-1-f99a",
       "next": "08f11b64-9b04-11ea-8d02-0242ac120007-1-f7d6",
       "previous": "3f01f768-9b0a-11ea-8d02-0242ac120007-1-b6f7"
      },
      {
       "current": "08f1174a-9b04-11ea-8d02-0242ac120007-2-f99a-9309",
       "next": "08f11b64-9b04-11ea-8d02-0242ac120007-1-f7d6",
       "previous": "034b7262-56fc-11ec-a1da-0242ac120004"
      },
      {
       "current": "08f1174a-9b04-11ea-8d02-0242ac120007-2-f99a-9309",
       "next": "08f11b64-9b04-11ea-8d02-0242ac120007-2-f7d6-4618",
       "previous": "034b7262-56fc-11ec-a1da-0242ac120004-1-6184"
      },
      {
       "current": "08f1174a-9b04-11ea-8d02-0242ac120007-2-f99a-9309",
       "next": "08f11b64-9b04-11ea-8d02-0242ac120007-2-f7d6-4618",
       "previous": "ecc4b59c-6cae-11ee-89fa-0242ac120005"
      },
      {
       "current": "08f1174a-9b04-11ea-8d02-0242ac120007-2-f99a-9309",
       "next": "08f11b64-9b04-11ea-8d02-0242ac120007-2-f7d6-4618",
       "previous": "f22be538-81e3-11ee-91d3-0242ac120006"
      },
      {
       "current": "08f1174a-9b04-11ea-8d02-0242ac120007-3-f99a-9309-b4ae",
       "next": "08f11b64-9b04-11ea-8d02-0242ac120007-2-f7d6-4618",
       "previous": "39bc91fe-81e4-11ee-91d3-0242ac120006"
      },
      {
       "current": "08f1174a-9b04-11ea-8d02-0242ac120007-3-f99a-9309-b4ae",
       "next": "08f11b64-9b04-11ea-8d02-0242ac120007-3-f7d6-4618-7a76",
       "previous": "39bc91fe-81e4-11ee-91d3-0242ac120006-1-65b1"
      },
      {
       "current": "08f1174a-9b04-11ea-8d02-0242ac120007-4-f99a-9309-b4ae-b92e",
       "next": "c9dc8a0e-a51c-11ee-91d3-0242ac120006-1-71e4",
       "previous": "39bc91fe-81e4-11ee-91d3-0242ac120006-1-65b1"
      },
      {
       "current": "08f1174a-9b04-11ea-8d02-0242ac120007-5-f99a-9309-b4ae-b92e-a771",
       "next": "c9dc8a0e-a51c-11ee-91d3-0242ac120006-2-71e4-3923",
       "previous": "39bc91fe-81e4-11ee-91d3-0242ac120006-2-65b1-f8cc"
      },
      {
       "current": "08f1174a-9b04-11ea-8d02-0242ac120007-6-f99a-9309-b4ae-b92e-a771-bf84",
       "next": "c9dc8a0e-a51c-11ee-91d3-0242ac120006-3-71e4-3923-9888",
       "previous": "39bc91fe-81e4-11ee-91d3-0242ac120006-3-65b1-f8cc-8dec"
      },
      {
       "current": "08f1174a-9b04-11ea-8d02-0242ac120007-7-f99a-9309-b4ae-b92e-a771-bf84-58b7",
       "next": "c9dc8a0e-a51c-11ee-91d3-0242ac120006-4-71e4-3923-9888-ac9d",
       "previous": "39bc91fe-81e4-11ee-91d3-0242ac120006-4-65b1-f8cc-8dec-5ef2"
      }
     ],
     "next": "c9dc8a0e-a51c-11ee-91d3-0242ac120006-5-71e4-3923-9888-ac9d-d38e",
     "previous": "39bc91fe-81e4-11ee-91d3-0242ac120006-5-65b1-f8cc-8dec-5ef2-b148"
    }
   },
   "source": [
    "# OSD構築対象ブロックデバイスの指定\n",
    "対象ノードのブロックデバイス一覧から、OSDで使用するブロックデバイスを指定する。"
   ]
  },
  {
   "cell_type": "markdown",
   "metadata": {
    "lc_cell_meme": {
     "current": "c9dc8a0e-a51c-11ee-91d3-0242ac120006-5-71e4-3923-9888-ac9d-d38e",
     "history": [
      {
       "current": "c9dc8a0e-a51c-11ee-91d3-0242ac120006-1-71e4",
       "next": "c9dc8a90-a51c-11ee-91d3-0242ac120006",
       "previous": "c9dc8946-a51c-11ee-91d3-0242ac120006"
      },
      {
       "current": "c9dc8a0e-a51c-11ee-91d3-0242ac120006-2-71e4-3923",
       "next": "c9dc8a90-a51c-11ee-91d3-0242ac120006",
       "previous": "08f1174a-9b04-11ea-8d02-0242ac120007-3-f99a-9309-b4ae"
      },
      {
       "current": "c9dc8a0e-a51c-11ee-91d3-0242ac120006-3-71e4-3923-9888",
       "next": "c9dc8a90-a51c-11ee-91d3-0242ac120006-1-dfa4",
       "previous": "08f1174a-9b04-11ea-8d02-0242ac120007-4-f99a-9309-b4ae-b92e"
      },
      {
       "current": "c9dc8a0e-a51c-11ee-91d3-0242ac120006-4-71e4-3923-9888-ac9d",
       "next": "c9dc8a90-a51c-11ee-91d3-0242ac120006-2-dfa4-3d53",
       "previous": "08f1174a-9b04-11ea-8d02-0242ac120007-5-f99a-9309-b4ae-b92e-a771"
      },
      {
       "current": "c9dc8a0e-a51c-11ee-91d3-0242ac120006-5-71e4-3923-9888-ac9d-d38e",
       "next": "c9dc8a90-a51c-11ee-91d3-0242ac120006-3-dfa4-3d53-c1ef",
       "previous": "08f1174a-9b04-11ea-8d02-0242ac120007-6-f99a-9309-b4ae-b92e-a771-bf84"
      }
     ],
     "next": "c9dc8a90-a51c-11ee-91d3-0242ac120006-4-dfa4-3d53-c1ef-cfeb",
     "previous": "08f1174a-9b04-11ea-8d02-0242ac120007-7-f99a-9309-b4ae-b92e-a771-bf84-58b7"
    }
   },
   "source": [
    "## ターゲットディスク情報設定"
   ]
  },
  {
   "cell_type": "code",
   "execution_count": null,
   "metadata": {
    "lc_cell_meme": {
     "current": "c9dc8a90-a51c-11ee-91d3-0242ac120006-4-dfa4-3d53-c1ef-cfeb",
     "history": [
      {
       "current": "c9dc8a90-a51c-11ee-91d3-0242ac120006",
       "next": "f22be07e-81e3-11ee-91d3-0242ac120006-1-3a1b",
       "previous": "c9dc8a0e-a51c-11ee-91d3-0242ac120006"
      },
      {
       "current": "c9dc8a90-a51c-11ee-91d3-0242ac120006",
       "next": "f22be07e-81e3-11ee-91d3-0242ac120006-1-3a1b",
       "previous": "c9dc8a0e-a51c-11ee-91d3-0242ac120006-1-71e4"
      },
      {
       "current": "c9dc8a90-a51c-11ee-91d3-0242ac120006-1-dfa4",
       "next": "cedee9ac-a544-11ee-91d3-0242ac120006",
       "previous": "c9dc8a0e-a51c-11ee-91d3-0242ac120006-1-71e4"
      },
      {
       "current": "c9dc8a90-a51c-11ee-91d3-0242ac120006-2-dfa4-3d53",
       "next": "cedee9ac-a544-11ee-91d3-0242ac120006-1-80e6",
       "previous": "c9dc8a0e-a51c-11ee-91d3-0242ac120006-2-71e4-3923"
      },
      {
       "current": "c9dc8a90-a51c-11ee-91d3-0242ac120006-3-dfa4-3d53-c1ef",
       "next": "cedee9ac-a544-11ee-91d3-0242ac120006-2-80e6-adcd",
       "previous": "c9dc8a0e-a51c-11ee-91d3-0242ac120006-3-71e4-3923-9888"
      },
      {
       "current": "c9dc8a90-a51c-11ee-91d3-0242ac120006-4-dfa4-3d53-c1ef-cfeb",
       "next": "cedee9ac-a544-11ee-91d3-0242ac120006-3-80e6-adcd-c6e8",
       "previous": "c9dc8a0e-a51c-11ee-91d3-0242ac120006-4-71e4-3923-9888-ac9d"
      }
     ],
     "next": "cedee9ac-a544-11ee-91d3-0242ac120006-4-80e6-adcd-c6e8-eb4f",
     "previous": "c9dc8a0e-a51c-11ee-91d3-0242ac120006-5-71e4-3923-9888-ac9d-d38e"
    }
   },
   "outputs": [],
   "source": [
    "ssd_blk = \"/dev/\" + db_disk[\"name\"]\n",
    "print(\"ssd_blk={}\".format(ssd_blk))"
   ]
  },
  {
   "cell_type": "code",
   "execution_count": null,
   "metadata": {
    "lc_cell_meme": {
     "current": "cedee9ac-a544-11ee-91d3-0242ac120006-4-80e6-adcd-c6e8-eb4f",
     "history": [
      {
       "current": "cedee9ac-a544-11ee-91d3-0242ac120006-1-80e6",
       "next": "cedeeb64-a544-11ee-91d3-0242ac120006",
       "previous": "c9dc8a90-a51c-11ee-91d3-0242ac120006"
      },
      {
       "current": "cedee9ac-a544-11ee-91d3-0242ac120006-2-80e6-adcd",
       "next": "cedeeb64-a544-11ee-91d3-0242ac120006-1-9815",
       "previous": "c9dc8a90-a51c-11ee-91d3-0242ac120006-1-dfa4"
      },
      {
       "current": "cedee9ac-a544-11ee-91d3-0242ac120006-3-80e6-adcd-c6e8",
       "next": "cedeeb64-a544-11ee-91d3-0242ac120006-2-9815-1e6c",
       "previous": "c9dc8a90-a51c-11ee-91d3-0242ac120006-2-dfa4-3d53"
      },
      {
       "current": "cedee9ac-a544-11ee-91d3-0242ac120006-4-80e6-adcd-c6e8-eb4f",
       "next": "cedeeb64-a544-11ee-91d3-0242ac120006-3-9815-1e6c-5402",
       "previous": "c9dc8a90-a51c-11ee-91d3-0242ac120006-3-dfa4-3d53-c1ef"
      }
     ],
     "next": "cedeeb64-a544-11ee-91d3-0242ac120006-4-9815-1e6c-5402-997e",
     "previous": "c9dc8a90-a51c-11ee-91d3-0242ac120006-4-dfa4-3d53-c1ef-cfeb"
    }
   },
   "outputs": [],
   "source": [
    "ssd_part_info = None\n",
    "for part_info in part_info_list:\n",
    "    if part_info['disk']['path'] == ssd_blk:\n",
    "        ssd_part_info = part_info['disk']\n",
    "        break\n",
    "\n",
    "print(ssd_part_info)"
   ]
  },
  {
   "cell_type": "code",
   "execution_count": null,
   "metadata": {
    "lc_cell_meme": {
     "current": "cedeeb64-a544-11ee-91d3-0242ac120006-4-9815-1e6c-5402-997e",
     "history": [
      {
       "current": "cedeeb64-a544-11ee-91d3-0242ac120006",
       "next": "f22be07e-81e3-11ee-91d3-0242ac120006-1-3a1b",
       "previous": "cedee9ac-a544-11ee-91d3-0242ac120006"
      },
      {
       "current": "cedeeb64-a544-11ee-91d3-0242ac120006",
       "next": "5decefcc-a545-11ee-91d3-0242ac120006",
       "previous": "cedee9ac-a544-11ee-91d3-0242ac120006"
      },
      {
       "current": "cedeeb64-a544-11ee-91d3-0242ac120006",
       "next": "719edac8-9b1a-11ea-8d02-0242ac120007-3-36ea-64d5-2e92",
       "previous": "cedee9ac-a544-11ee-91d3-0242ac120006"
      },
      {
       "current": "cedeeb64-a544-11ee-91d3-0242ac120006-1-9815",
       "next": "5decefcc-a545-11ee-91d3-0242ac120006",
       "previous": "cedee9ac-a544-11ee-91d3-0242ac120006"
      },
      {
       "current": "cedeeb64-a544-11ee-91d3-0242ac120006-2-9815-1e6c",
       "next": "5decefcc-a545-11ee-91d3-0242ac120006-1-1cad",
       "previous": "cedee9ac-a544-11ee-91d3-0242ac120006-1-80e6"
      },
      {
       "current": "cedeeb64-a544-11ee-91d3-0242ac120006-3-9815-1e6c-5402",
       "next": "5decefcc-a545-11ee-91d3-0242ac120006-2-1cad-6d3c",
       "previous": "cedee9ac-a544-11ee-91d3-0242ac120006-2-80e6-adcd"
      },
      {
       "current": "cedeeb64-a544-11ee-91d3-0242ac120006-4-9815-1e6c-5402-997e",
       "next": "5decefcc-a545-11ee-91d3-0242ac120006-3-1cad-6d3c-b1de",
       "previous": "cedee9ac-a544-11ee-91d3-0242ac120006-3-80e6-adcd-c6e8"
      }
     ],
     "next": "5decefcc-a545-11ee-91d3-0242ac120006-4-1cad-6d3c-b1de-7add",
     "previous": "cedee9ac-a544-11ee-91d3-0242ac120006-4-80e6-adcd-c6e8-eb4f"
    }
   },
   "outputs": [],
   "source": [
    "db_disk_partitions = ssd_part_info['partitions']\n",
    "pd.DataFrame(db_disk_partitions)"
   ]
  },
  {
   "cell_type": "code",
   "execution_count": null,
   "metadata": {
    "lc_cell_meme": {
     "current": "5decefcc-a545-11ee-91d3-0242ac120006-4-1cad-6d3c-b1de-7add",
     "history": [
      {
       "current": "5decefcc-a545-11ee-91d3-0242ac120006",
       "next": "5decf166-a545-11ee-91d3-0242ac120006",
       "previous": "cedeeb64-a544-11ee-91d3-0242ac120006"
      },
      {
       "current": "5decefcc-a545-11ee-91d3-0242ac120006",
       "next": "f22be07e-81e3-11ee-91d3-0242ac120006-1-3a1b",
       "previous": "cedeeb64-a544-11ee-91d3-0242ac120006"
      },
      {
       "current": "5decefcc-a545-11ee-91d3-0242ac120006",
       "next": "08f11b64-9b04-11ea-8d02-0242ac120007-3-f7d6-4618-7a76",
       "previous": "719edac8-9b1a-11ea-8d02-0242ac120007-3-36ea-64d5-2e92"
      },
      {
       "current": "5decefcc-a545-11ee-91d3-0242ac120006",
       "next": "55c65c36-9b06-11ea-8d02-0242ac120007-3-b975-bed0-1714",
       "previous": "719edac8-9b1a-11ea-8d02-0242ac120007-3-36ea-64d5-2e92"
      },
      {
       "current": "5decefcc-a545-11ee-91d3-0242ac120006-1-1cad",
       "next": "24b8af90-a548-11ee-91d3-0242ac120006",
       "previous": "cedeeb64-a544-11ee-91d3-0242ac120006"
      },
      {
       "current": "5decefcc-a545-11ee-91d3-0242ac120006-1-1cad",
       "next": "24b8af90-a548-11ee-91d3-0242ac120006-1-1bc1",
       "previous": "cedeeb64-a544-11ee-91d3-0242ac120006-1-9815"
      },
      {
       "current": "5decefcc-a545-11ee-91d3-0242ac120006-1-1cad",
       "next": "95b0bb84-af70-11ee-91d3-0242ac120006",
       "previous": "cedeeb64-a544-11ee-91d3-0242ac120006-1-9815"
      },
      {
       "current": "5decefcc-a545-11ee-91d3-0242ac120006-2-1cad-6d3c",
       "next": "719edac8-9b1a-11ea-8d02-0242ac120007-4-36ea-64d5-2e92-af3c",
       "previous": "cedeeb64-a544-11ee-91d3-0242ac120006-1-9815"
      },
      {
       "current": "5decefcc-a545-11ee-91d3-0242ac120006-3-1cad-6d3c-b1de",
       "next": "719edac8-9b1a-11ea-8d02-0242ac120007-5-36ea-64d5-2e92-af3c-f136",
       "previous": "cedeeb64-a544-11ee-91d3-0242ac120006-2-9815-1e6c"
      },
      {
       "current": "5decefcc-a545-11ee-91d3-0242ac120006-4-1cad-6d3c-b1de-7add",
       "next": "719edac8-9b1a-11ea-8d02-0242ac120007-6-36ea-64d5-2e92-af3c-f136-4d94",
       "previous": "cedeeb64-a544-11ee-91d3-0242ac120006-3-9815-1e6c-5402"
      }
     ],
     "next": "719edac8-9b1a-11ea-8d02-0242ac120007-7-36ea-64d5-2e92-af3c-f136-4d94-e673",
     "previous": "cedeeb64-a544-11ee-91d3-0242ac120006-4-9815-1e6c-5402-997e"
    }
   },
   "outputs": [],
   "source": [
    "pd.DataFrame(data_disks)"
   ]
  },
  {
   "cell_type": "code",
   "execution_count": null,
   "metadata": {
    "lc_cell_meme": {
     "current": "719edac8-9b1a-11ea-8d02-0242ac120007-7-36ea-64d5-2e92-af3c-f136-4d94-e673",
     "history": [
      {
       "current": "719edac8-9b1a-11ea-8d02-0242ac120007",
       "next": "55c65ede-9b06-11ea-8d02-0242ac120007",
       "previous": "55c65c36-9b06-11ea-8d02-0242ac120007"
      },
      {
       "current": "719edac8-9b1a-11ea-8d02-0242ac120007",
       "next": "cfbfd3de-9a50-11ea-8d02-0242ac120007",
       "previous": "55c65c36-9b06-11ea-8d02-0242ac120007"
      },
      {
       "current": "719edac8-9b1a-11ea-8d02-0242ac120007-1-36ea",
       "next": "55c65ede-9b06-11ea-8d02-0242ac120007",
       "previous": "55c65c36-9b06-11ea-8d02-0242ac120007"
      },
      {
       "current": "719edac8-9b1a-11ea-8d02-0242ac120007-2-36ea-64d5",
       "next": "55c65ede-9b06-11ea-8d02-0242ac120007-1-399b",
       "previous": "55c65c36-9b06-11ea-8d02-0242ac120007-1-b975"
      },
      {
       "current": "719edac8-9b1a-11ea-8d02-0242ac120007-2-36ea-64d5",
       "next": "55c65ede-9b06-11ea-8d02-0242ac120007-2-399b-739f",
       "previous": "55c65c36-9b06-11ea-8d02-0242ac120007-2-b975-bed0"
      },
      {
       "current": "719edac8-9b1a-11ea-8d02-0242ac120007-3-36ea-64d5-2e92",
       "next": "3ad48c40-9a14-11ec-a1da-0242ac120004-1-d939",
       "previous": "55c65c36-9b06-11ea-8d02-0242ac120007-2-b975-bed0"
      },
      {
       "current": "719edac8-9b1a-11ea-8d02-0242ac120007-3-36ea-64d5-2e92",
       "next": "3ad48c40-9a14-11ec-a1da-0242ac120004-2-d939-6611",
       "previous": "55c65c36-9b06-11ea-8d02-0242ac120007-3-b975-bed0-1714"
      },
      {
       "current": "719edac8-9b1a-11ea-8d02-0242ac120007-3-36ea-64d5-2e92",
       "next": "5decefcc-a545-11ee-91d3-0242ac120006",
       "previous": "cedeeb64-a544-11ee-91d3-0242ac120006"
      },
      {
       "current": "719edac8-9b1a-11ea-8d02-0242ac120007-3-36ea-64d5-2e92",
       "next": "55c65ede-9b06-11ea-8d02-0242ac120007-3-399b-739f-1a5a",
       "previous": "24b8af90-a548-11ee-91d3-0242ac120006"
      },
      {
       "current": "719edac8-9b1a-11ea-8d02-0242ac120007-4-36ea-64d5-2e92-af3c",
       "next": "3ad486f0-9a14-11ec-a1da-0242ac120004-2-1303-7e6f",
       "previous": "24b8af90-a548-11ee-91d3-0242ac120006"
      },
      {
       "current": "719edac8-9b1a-11ea-8d02-0242ac120007-4-36ea-64d5-2e92-af3c",
       "next": "3ad486f0-9a14-11ec-a1da-0242ac120004-3-1303-7e6f-f06d",
       "previous": "24b8af90-a548-11ee-91d3-0242ac120006-1-1bc1"
      },
      {
       "current": "719edac8-9b1a-11ea-8d02-0242ac120007-5-36ea-64d5-2e92-af3c-f136",
       "next": "95b0bb84-af70-11ee-91d3-0242ac120006",
       "previous": "5decefcc-a545-11ee-91d3-0242ac120006-1-1cad"
      },
      {
       "current": "719edac8-9b1a-11ea-8d02-0242ac120007-6-36ea-64d5-2e92-af3c-f136-4d94",
       "next": "95b0bb84-af70-11ee-91d3-0242ac120006-1-e40f",
       "previous": "5decefcc-a545-11ee-91d3-0242ac120006-2-1cad-6d3c"
      },
      {
       "current": "719edac8-9b1a-11ea-8d02-0242ac120007-7-36ea-64d5-2e92-af3c-f136-4d94-e673",
       "next": "95b0bb84-af70-11ee-91d3-0242ac120006-2-e40f-ae92",
       "previous": "5decefcc-a545-11ee-91d3-0242ac120006-3-1cad-6d3c-b1de"
      }
     ],
     "next": "95b0bb84-af70-11ee-91d3-0242ac120006-3-e40f-ae92-9a4d",
     "previous": "5decefcc-a545-11ee-91d3-0242ac120006-4-1cad-6d3c-b1de-7add"
    }
   },
   "outputs": [],
   "source": [
    "# OSD接続対象ブロックデバイスを確認する\n",
    "raise Exception('OSD接続対象ブロックデバイスを確認する')"
   ]
  },
  {
   "cell_type": "code",
   "execution_count": null,
   "metadata": {
    "lc_cell_meme": {
     "current": "95b0bb84-af70-11ee-91d3-0242ac120006-3-e40f-ae92-9a4d",
     "history": [
      {
       "current": "95b0bb84-af70-11ee-91d3-0242ac120006",
       "next": "24b8af90-a548-11ee-91d3-0242ac120006-1-1bc1",
       "previous": "5decefcc-a545-11ee-91d3-0242ac120006-1-1cad"
      },
      {
       "current": "95b0bb84-af70-11ee-91d3-0242ac120006-1-e40f",
       "next": "24b8af90-a548-11ee-91d3-0242ac120006-1-1bc1",
       "previous": "719edac8-9b1a-11ea-8d02-0242ac120007-4-36ea-64d5-2e92-af3c"
      },
      {
       "current": "95b0bb84-af70-11ee-91d3-0242ac120006-2-e40f-ae92",
       "next": "24b8af90-a548-11ee-91d3-0242ac120006-2-1bc1-76db",
       "previous": "719edac8-9b1a-11ea-8d02-0242ac120007-5-36ea-64d5-2e92-af3c-f136"
      },
      {
       "current": "95b0bb84-af70-11ee-91d3-0242ac120006-3-e40f-ae92-9a4d",
       "next": "24b8af90-a548-11ee-91d3-0242ac120006-3-1bc1-76db-0f66",
       "previous": "719edac8-9b1a-11ea-8d02-0242ac120007-6-36ea-64d5-2e92-af3c-f136-4d94"
      }
     ],
     "next": "24b8af90-a548-11ee-91d3-0242ac120006-4-1bc1-76db-0f66-c2c9",
     "previous": "719edac8-9b1a-11ea-8d02-0242ac120007-7-36ea-64d5-2e92-af3c-f136-4d94-e673"
    }
   },
   "outputs": [],
   "source": [
    "# OSDデータ用ブロックデバイスから除外するデバイスを指定\n",
    "\n",
    "skip_dev_list = []"
   ]
  },
  {
   "cell_type": "code",
   "execution_count": null,
   "metadata": {
    "lc_cell_meme": {
     "current": "24b8af90-a548-11ee-91d3-0242ac120006-4-1bc1-76db-0f66-c2c9",
     "history": [
      {
       "current": "24b8af90-a548-11ee-91d3-0242ac120006-1-1bc1",
       "next": "719edac8-9b1a-11ea-8d02-0242ac120007-3-36ea-64d5-2e92",
       "previous": "5decefcc-a545-11ee-91d3-0242ac120006"
      },
      {
       "current": "24b8af90-a548-11ee-91d3-0242ac120006-1-1bc1",
       "next": "719edac8-9b1a-11ea-8d02-0242ac120007-4-36ea-64d5-2e92-af3c",
       "previous": "5decefcc-a545-11ee-91d3-0242ac120006-1-1cad"
      },
      {
       "current": "24b8af90-a548-11ee-91d3-0242ac120006-1-1bc1",
       "next": "719edac8-9b1a-11ea-8d02-0242ac120007-4-36ea-64d5-2e92-af3c",
       "previous": "95b0bb84-af70-11ee-91d3-0242ac120006"
      },
      {
       "current": "24b8af90-a548-11ee-91d3-0242ac120006-1-1bc1",
       "next": "3ad486f0-9a14-11ec-a1da-0242ac120004-3-1303-7e6f-f06d",
       "previous": "95b0bb84-af70-11ee-91d3-0242ac120006"
      },
      {
       "current": "24b8af90-a548-11ee-91d3-0242ac120006-2-1bc1-76db",
       "next": "6c4be402-af71-11ee-91d3-0242ac120006",
       "previous": "95b0bb84-af70-11ee-91d3-0242ac120006"
      },
      {
       "current": "24b8af90-a548-11ee-91d3-0242ac120006-3-1bc1-76db-0f66",
       "next": "6c4be402-af71-11ee-91d3-0242ac120006-1-c4eb",
       "previous": "95b0bb84-af70-11ee-91d3-0242ac120006-1-e40f"
      },
      {
       "current": "24b8af90-a548-11ee-91d3-0242ac120006-4-1bc1-76db-0f66-c2c9",
       "next": "6c4be402-af71-11ee-91d3-0242ac120006-2-c4eb-255c",
       "previous": "95b0bb84-af70-11ee-91d3-0242ac120006-2-e40f-ae92"
      }
     ],
     "next": "6c4be402-af71-11ee-91d3-0242ac120006-3-c4eb-255c-80d2",
     "previous": "95b0bb84-af70-11ee-91d3-0242ac120006-3-e40f-ae92-9a4d"
    }
   },
   "outputs": [],
   "source": [
    "block_dev_list = []\n",
    "for data_disk in data_disks:\n",
    "    if data_disk['name'] not in skip_dev_list:\n",
    "        block_dev_list.append(data_disk['name'])\n",
    "\n",
    "print(block_dev_list)"
   ]
  },
  {
   "cell_type": "code",
   "execution_count": null,
   "metadata": {
    "lc_cell_meme": {
     "current": "6c4be402-af71-11ee-91d3-0242ac120006-3-c4eb-255c-80d2",
     "history": [
      {
       "current": "6c4be402-af71-11ee-91d3-0242ac120006-1-c4eb",
       "next": "3ad486f0-9a14-11ec-a1da-0242ac120004-3-1303-7e6f-f06d",
       "previous": "24b8af90-a548-11ee-91d3-0242ac120006-1-1bc1"
      },
      {
       "current": "6c4be402-af71-11ee-91d3-0242ac120006-2-c4eb-255c",
       "next": "3ad486f0-9a14-11ec-a1da-0242ac120004-4-1303-7e6f-f06d-f619",
       "previous": "24b8af90-a548-11ee-91d3-0242ac120006-2-1bc1-76db"
      },
      {
       "current": "6c4be402-af71-11ee-91d3-0242ac120006-3-c4eb-255c-80d2",
       "next": "3ad486f0-9a14-11ec-a1da-0242ac120004-5-1303-7e6f-f06d-f619-510d",
       "previous": "24b8af90-a548-11ee-91d3-0242ac120006-3-1bc1-76db-0f66"
      }
     ],
     "next": "3ad486f0-9a14-11ec-a1da-0242ac120004-6-1303-7e6f-f06d-f619-510d-6ff9",
     "previous": "24b8af90-a548-11ee-91d3-0242ac120006-4-1bc1-76db-0f66-c2c9"
    }
   },
   "outputs": [],
   "source": [
    "print(\"DataDisk num={}\".format(len(block_dev_list)))"
   ]
  },
  {
   "cell_type": "markdown",
   "metadata": {
    "lc_cell_meme": {
     "current": "3ad486f0-9a14-11ec-a1da-0242ac120004-6-1303-7e6f-f06d-f619-510d-6ff9",
     "history": [
      {
       "current": "3ad486f0-9a14-11ec-a1da-0242ac120004",
       "next": "3ad48c40-9a14-11ec-a1da-0242ac120004",
       "previous": "02da38c4-9b08-11ea-8d02-0242ac120007-1-9a43"
      },
      {
       "current": "3ad486f0-9a14-11ec-a1da-0242ac120004-1-1303",
       "next": "06a6cb3c-9ac7-11ec-a1da-0242ac120004",
       "previous": "02da38c4-9b08-11ea-8d02-0242ac120007-1-9a43"
      },
      {
       "current": "3ad486f0-9a14-11ec-a1da-0242ac120004-2-1303-7e6f",
       "next": "06a6cb3c-9ac7-11ec-a1da-0242ac120004-1-a541",
       "previous": "02da38c4-9b08-11ea-8d02-0242ac120007-2-9a43-6c66"
      },
      {
       "current": "3ad486f0-9a14-11ec-a1da-0242ac120004-2-1303-7e6f",
       "next": "06a6cb3c-9ac7-11ec-a1da-0242ac120004-2-a541-fcfc",
       "previous": "02da38c4-9b08-11ea-8d02-0242ac120007-3-9a43-6c66-902c"
      },
      {
       "current": "3ad486f0-9a14-11ec-a1da-0242ac120004-3-1303-7e6f-f06d",
       "next": "06a6cb3c-9ac7-11ec-a1da-0242ac120004-2-a541-fcfc",
       "previous": "719edac8-9b1a-11ea-8d02-0242ac120007-3-36ea-64d5-2e92"
      },
      {
       "current": "3ad486f0-9a14-11ec-a1da-0242ac120004-3-1303-7e6f-f06d",
       "next": "06a6cb3c-9ac7-11ec-a1da-0242ac120004-3-a541-fcfc-ee08",
       "previous": "719edac8-9b1a-11ea-8d02-0242ac120007-4-36ea-64d5-2e92-af3c"
      },
      {
       "current": "3ad486f0-9a14-11ec-a1da-0242ac120004-3-1303-7e6f-f06d",
       "next": "06a6cb3c-9ac7-11ec-a1da-0242ac120004-3-a541-fcfc-ee08",
       "previous": "24b8af90-a548-11ee-91d3-0242ac120006-1-1bc1"
      },
      {
       "current": "3ad486f0-9a14-11ec-a1da-0242ac120004-4-1303-7e6f-f06d-f619",
       "next": "06a6cb3c-9ac7-11ec-a1da-0242ac120004-3-a541-fcfc-ee08",
       "previous": "6c4be402-af71-11ee-91d3-0242ac120006"
      },
      {
       "current": "3ad486f0-9a14-11ec-a1da-0242ac120004-5-1303-7e6f-f06d-f619-510d",
       "next": "06a6cb3c-9ac7-11ec-a1da-0242ac120004-4-a541-fcfc-ee08-2728",
       "previous": "6c4be402-af71-11ee-91d3-0242ac120006-1-c4eb"
      },
      {
       "current": "3ad486f0-9a14-11ec-a1da-0242ac120004-6-1303-7e6f-f06d-f619-510d-6ff9",
       "next": "06a6cb3c-9ac7-11ec-a1da-0242ac120004-5-a541-fcfc-ee08-2728-9672",
       "previous": "6c4be402-af71-11ee-91d3-0242ac120006-2-c4eb-255c"
      }
     ],
     "next": "06a6cb3c-9ac7-11ec-a1da-0242ac120004-6-a541-fcfc-ee08-2728-9672-c180",
     "previous": "6c4be402-af71-11ee-91d3-0242ac120006-3-c4eb-255c-80d2"
    }
   },
   "source": [
    "# BlueStore DB BlockDevice作成"
   ]
  },
  {
   "cell_type": "code",
   "execution_count": null,
   "metadata": {
    "lc_cell_meme": {
     "current": "06a6cb3c-9ac7-11ec-a1da-0242ac120004-6-a541-fcfc-ee08-2728-9672-c180",
     "history": [
      {
       "current": "06a6cb3c-9ac7-11ec-a1da-0242ac120004-1-a541",
       "next": "3ad48c40-9a14-11ec-a1da-0242ac120004",
       "previous": "3ad486f0-9a14-11ec-a1da-0242ac120004"
      },
      {
       "current": "06a6cb3c-9ac7-11ec-a1da-0242ac120004-1-a541",
       "next": "3ad48c40-9a14-11ec-a1da-0242ac120004-1-d939",
       "previous": "3ad486f0-9a14-11ec-a1da-0242ac120004-1-1303"
      },
      {
       "current": "06a6cb3c-9ac7-11ec-a1da-0242ac120004-2-a541-fcfc",
       "next": "3ad48e5c-9a14-11ec-a1da-0242ac120004-1-cbb0",
       "previous": "3ad486f0-9a14-11ec-a1da-0242ac120004-1-1303"
      },
      {
       "current": "06a6cb3c-9ac7-11ec-a1da-0242ac120004-3-a541-fcfc-ee08",
       "next": "3ad48e5c-9a14-11ec-a1da-0242ac120004-2-cbb0-7739",
       "previous": "3ad486f0-9a14-11ec-a1da-0242ac120004-2-1303-7e6f"
      },
      {
       "current": "06a6cb3c-9ac7-11ec-a1da-0242ac120004-4-a541-fcfc-ee08-2728",
       "next": "3ad48e5c-9a14-11ec-a1da-0242ac120004-3-cbb0-7739-8dc2",
       "previous": "3ad486f0-9a14-11ec-a1da-0242ac120004-3-1303-7e6f-f06d"
      },
      {
       "current": "06a6cb3c-9ac7-11ec-a1da-0242ac120004-5-a541-fcfc-ee08-2728-9672",
       "next": "3ad48e5c-9a14-11ec-a1da-0242ac120004-4-cbb0-7739-8dc2-d0ab",
       "previous": "3ad486f0-9a14-11ec-a1da-0242ac120004-4-1303-7e6f-f06d-f619"
      },
      {
       "current": "06a6cb3c-9ac7-11ec-a1da-0242ac120004-6-a541-fcfc-ee08-2728-9672-c180",
       "next": "3ad48e5c-9a14-11ec-a1da-0242ac120004-5-cbb0-7739-8dc2-d0ab-f263",
       "previous": "3ad486f0-9a14-11ec-a1da-0242ac120004-5-1303-7e6f-f06d-f619-510d"
      }
     ],
     "next": "3ad48e5c-9a14-11ec-a1da-0242ac120004-6-cbb0-7739-8dc2-d0ab-f263-130c",
     "previous": "3ad486f0-9a14-11ec-a1da-0242ac120004-6-1303-7e6f-f06d-f619-510d-6ff9"
    }
   },
   "outputs": [],
   "source": [
    "ods_vl_map = {}"
   ]
  },
  {
   "cell_type": "markdown",
   "metadata": {
    "lc_cell_meme": {
     "current": "3ad48e5c-9a14-11ec-a1da-0242ac120004-6-cbb0-7739-8dc2-d0ab-f263-130c",
     "history": [
      {
       "current": "3ad48e5c-9a14-11ec-a1da-0242ac120004",
       "next": "3ad49028-9a14-11ec-a1da-0242ac120004",
       "previous": "3ad48c40-9a14-11ec-a1da-0242ac120004"
      },
      {
       "current": "3ad48e5c-9a14-11ec-a1da-0242ac120004",
       "next": "3ad49028-9a14-11ec-a1da-0242ac120004",
       "previous": "779519e4-9ac6-11ec-a1da-0242ac120004"
      },
      {
       "current": "3ad48e5c-9a14-11ec-a1da-0242ac120004-1-cbb0",
       "next": "779514c6-9ac6-11ec-a1da-0242ac120004",
       "previous": "3ad48c40-9a14-11ec-a1da-0242ac120004"
      },
      {
       "current": "3ad48e5c-9a14-11ec-a1da-0242ac120004-1-cbb0",
       "next": "779514c6-9ac6-11ec-a1da-0242ac120004-1-d69d",
       "previous": "3ad48c40-9a14-11ec-a1da-0242ac120004-1-d939"
      },
      {
       "current": "3ad48e5c-9a14-11ec-a1da-0242ac120004-2-cbb0-7739",
       "next": "779514c6-9ac6-11ec-a1da-0242ac120004-1-d69d",
       "previous": "06a6cb3c-9ac7-11ec-a1da-0242ac120004-1-a541"
      },
      {
       "current": "3ad48e5c-9a14-11ec-a1da-0242ac120004-2-cbb0-7739",
       "next": "779514c6-9ac6-11ec-a1da-0242ac120004-2-d69d-5f0e",
       "previous": "06a6cb3c-9ac7-11ec-a1da-0242ac120004-2-a541-fcfc"
      },
      {
       "current": "3ad48e5c-9a14-11ec-a1da-0242ac120004-2-cbb0-7739",
       "next": "efe4837e-a48a-11ee-91d3-0242ac120006",
       "previous": "06a6cb3c-9ac7-11ec-a1da-0242ac120004-2-a541-fcfc"
      },
      {
       "current": "3ad48e5c-9a14-11ec-a1da-0242ac120004-3-cbb0-7739-8dc2",
       "next": "6c40b592-a548-11ee-91d3-0242ac120006",
       "previous": "06a6cb3c-9ac7-11ec-a1da-0242ac120004-2-a541-fcfc"
      },
      {
       "current": "3ad48e5c-9a14-11ec-a1da-0242ac120004-4-cbb0-7739-8dc2-d0ab",
       "next": "6c40b592-a548-11ee-91d3-0242ac120006-1-8bb7",
       "previous": "06a6cb3c-9ac7-11ec-a1da-0242ac120004-3-a541-fcfc-ee08"
      },
      {
       "current": "3ad48e5c-9a14-11ec-a1da-0242ac120004-5-cbb0-7739-8dc2-d0ab-f263",
       "next": "6c40b592-a548-11ee-91d3-0242ac120006-2-8bb7-6999",
       "previous": "06a6cb3c-9ac7-11ec-a1da-0242ac120004-4-a541-fcfc-ee08-2728"
      },
      {
       "current": "3ad48e5c-9a14-11ec-a1da-0242ac120004-6-cbb0-7739-8dc2-d0ab-f263-130c",
       "next": "6c40b592-a548-11ee-91d3-0242ac120006-3-8bb7-6999-611d",
       "previous": "06a6cb3c-9ac7-11ec-a1da-0242ac120004-5-a541-fcfc-ee08-2728-9672"
      }
     ],
     "next": "6c40b592-a548-11ee-91d3-0242ac120006-4-8bb7-6999-611d-93a6",
     "previous": "06a6cb3c-9ac7-11ec-a1da-0242ac120004-6-a541-fcfc-ee08-2728-9672-c180"
    }
   },
   "source": [
    "## 空き領域からLVM用ブロックデバイス生成"
   ]
  },
  {
   "cell_type": "code",
   "execution_count": null,
   "metadata": {
    "lc_cell_meme": {
     "current": "6c40b592-a548-11ee-91d3-0242ac120006-4-8bb7-6999-611d-93a6",
     "history": [
      {
       "current": "6c40b592-a548-11ee-91d3-0242ac120006",
       "next": "6c40b740-a548-11ee-91d3-0242ac120006",
       "previous": "3ad48e5c-9a14-11ec-a1da-0242ac120004-2-cbb0-7739"
      },
      {
       "current": "6c40b592-a548-11ee-91d3-0242ac120006-1-8bb7",
       "next": "da46e240-9ace-11ec-a1da-0242ac120004-2-b053-e0ea",
       "previous": "3ad48e5c-9a14-11ec-a1da-0242ac120004-2-cbb0-7739"
      },
      {
       "current": "6c40b592-a548-11ee-91d3-0242ac120006-2-8bb7-6999",
       "next": "da46e240-9ace-11ec-a1da-0242ac120004-3-b053-e0ea-28bb",
       "previous": "3ad48e5c-9a14-11ec-a1da-0242ac120004-3-cbb0-7739-8dc2"
      },
      {
       "current": "6c40b592-a548-11ee-91d3-0242ac120006-3-8bb7-6999-611d",
       "next": "da46e240-9ace-11ec-a1da-0242ac120004-4-b053-e0ea-28bb-2ac3",
       "previous": "3ad48e5c-9a14-11ec-a1da-0242ac120004-4-cbb0-7739-8dc2-d0ab"
      },
      {
       "current": "6c40b592-a548-11ee-91d3-0242ac120006-4-8bb7-6999-611d-93a6",
       "next": "da46e240-9ace-11ec-a1da-0242ac120004-5-b053-e0ea-28bb-2ac3-3471",
       "previous": "3ad48e5c-9a14-11ec-a1da-0242ac120004-5-cbb0-7739-8dc2-d0ab-f263"
      }
     ],
     "next": "da46e240-9ace-11ec-a1da-0242ac120004-6-b053-e0ea-28bb-2ac3-3471-85fc",
     "previous": "3ad48e5c-9a14-11ec-a1da-0242ac120004-6-cbb0-7739-8dc2-d0ab-f263-130c"
    }
   },
   "outputs": [],
   "source": [
    "end_part = None\n",
    "for db_disk_partition in db_disk_partitions:\n",
    "    if end_part is None:\n",
    "        end_part = db_disk_partition\n",
    "    elif end_part['number'] < db_disk_partition['number']:\n",
    "        end_part = db_disk_partition\n",
    "        \n",
    "print(end_part)"
   ]
  },
  {
   "cell_type": "code",
   "execution_count": null,
   "metadata": {
    "lc_cell_meme": {
     "current": "da46e240-9ace-11ec-a1da-0242ac120004-6-b053-e0ea-28bb-2ac3-3471-85fc",
     "history": [
      {
       "current": "da46e240-9ace-11ec-a1da-0242ac120004",
       "next": "827a5926-9a14-11ec-a1da-0242ac120004",
       "previous": "3ad4964a-9a14-11ec-a1da-0242ac120004-1-dcb4"
      },
      {
       "current": "da46e240-9ace-11ec-a1da-0242ac120004-1-b053",
       "next": "827a5926-9a14-11ec-a1da-0242ac120004",
       "previous": "4b34b41a-9ace-11ec-a1da-0242ac120004"
      },
      {
       "current": "da46e240-9ace-11ec-a1da-0242ac120004-2-b053-e0ea",
       "next": "827a5926-9a14-11ec-a1da-0242ac120004-1-9a31",
       "previous": "4b34b41a-9ace-11ec-a1da-0242ac120004-1-2348"
      },
      {
       "current": "da46e240-9ace-11ec-a1da-0242ac120004-2-b053-e0ea",
       "next": "827a5926-9a14-11ec-a1da-0242ac120004-2-9a31-cf21",
       "previous": "4b34b41a-9ace-11ec-a1da-0242ac120004-2-2348-0360"
      },
      {
       "current": "da46e240-9ace-11ec-a1da-0242ac120004-3-b053-e0ea-28bb",
       "next": "827a5926-9a14-11ec-a1da-0242ac120004-2-9a31-cf21",
       "previous": "6c40b592-a548-11ee-91d3-0242ac120006"
      },
      {
       "current": "da46e240-9ace-11ec-a1da-0242ac120004-4-b053-e0ea-28bb-2ac3",
       "next": "827a5926-9a14-11ec-a1da-0242ac120004-3-9a31-cf21-5f16",
       "previous": "6c40b592-a548-11ee-91d3-0242ac120006-1-8bb7"
      },
      {
       "current": "da46e240-9ace-11ec-a1da-0242ac120004-5-b053-e0ea-28bb-2ac3-3471",
       "next": "827a5926-9a14-11ec-a1da-0242ac120004-4-9a31-cf21-5f16-5a4a",
       "previous": "6c40b592-a548-11ee-91d3-0242ac120006-2-8bb7-6999"
      },
      {
       "current": "da46e240-9ace-11ec-a1da-0242ac120004-6-b053-e0ea-28bb-2ac3-3471-85fc",
       "next": "827a5926-9a14-11ec-a1da-0242ac120004-5-9a31-cf21-5f16-5a4a-da64",
       "previous": "6c40b592-a548-11ee-91d3-0242ac120006-3-8bb7-6999-611d"
      }
     ],
     "next": "827a5926-9a14-11ec-a1da-0242ac120004-6-9a31-cf21-5f16-5a4a-da64-947a",
     "previous": "6c40b592-a548-11ee-91d3-0242ac120006-4-8bb7-6999-611d-93a6"
    }
   },
   "outputs": [],
   "source": [
    "end_pos = end_part['end']\n",
    "print(end_pos)"
   ]
  },
  {
   "cell_type": "code",
   "execution_count": null,
   "metadata": {
    "lc_cell_meme": {
     "current": "827a5926-9a14-11ec-a1da-0242ac120004-6-9a31-cf21-5f16-5a4a-da64-947a",
     "history": [
      {
       "current": "827a5926-9a14-11ec-a1da-0242ac120004",
       "next": "827a5d54-9a14-11ec-a1da-0242ac120004",
       "previous": "3ad4964a-9a14-11ec-a1da-0242ac120004-1-dcb4"
      },
      {
       "current": "827a5926-9a14-11ec-a1da-0242ac120004",
       "next": "827a5d54-9a14-11ec-a1da-0242ac120004",
       "previous": "da46e240-9ace-11ec-a1da-0242ac120004"
      },
      {
       "current": "827a5926-9a14-11ec-a1da-0242ac120004-1-9a31",
       "next": "694eaf22-9acf-11ec-a1da-0242ac120004",
       "previous": "da46e240-9ace-11ec-a1da-0242ac120004"
      },
      {
       "current": "827a5926-9a14-11ec-a1da-0242ac120004-2-9a31-cf21",
       "next": "694eaf22-9acf-11ec-a1da-0242ac120004-1-a4c0",
       "previous": "da46e240-9ace-11ec-a1da-0242ac120004-1-b053"
      },
      {
       "current": "827a5926-9a14-11ec-a1da-0242ac120004-2-9a31-cf21",
       "next": "694eaf22-9acf-11ec-a1da-0242ac120004-2-a4c0-d537",
       "previous": "da46e240-9ace-11ec-a1da-0242ac120004-2-b053-e0ea"
      },
      {
       "current": "827a5926-9a14-11ec-a1da-0242ac120004-3-9a31-cf21-5f16",
       "next": "15513786-a488-11ee-91d3-0242ac120006-2-e5b8-1fa7",
       "previous": "da46e240-9ace-11ec-a1da-0242ac120004-2-b053-e0ea"
      },
      {
       "current": "827a5926-9a14-11ec-a1da-0242ac120004-4-9a31-cf21-5f16-5a4a",
       "next": "15513786-a488-11ee-91d3-0242ac120006-3-e5b8-1fa7-689f",
       "previous": "da46e240-9ace-11ec-a1da-0242ac120004-3-b053-e0ea-28bb"
      },
      {
       "current": "827a5926-9a14-11ec-a1da-0242ac120004-5-9a31-cf21-5f16-5a4a-da64",
       "next": "15513786-a488-11ee-91d3-0242ac120006-4-e5b8-1fa7-689f-3a75",
       "previous": "da46e240-9ace-11ec-a1da-0242ac120004-4-b053-e0ea-28bb-2ac3"
      },
      {
       "current": "827a5926-9a14-11ec-a1da-0242ac120004-6-9a31-cf21-5f16-5a4a-da64-947a",
       "next": "15513786-a488-11ee-91d3-0242ac120006-5-e5b8-1fa7-689f-3a75-1d84",
       "previous": "da46e240-9ace-11ec-a1da-0242ac120004-5-b053-e0ea-28bb-2ac3-3471"
      }
     ],
     "next": "15513786-a488-11ee-91d3-0242ac120006-6-e5b8-1fa7-689f-3a75-1d84-9100",
     "previous": "da46e240-9ace-11ec-a1da-0242ac120004-6-b053-e0ea-28bb-2ac3-3471-85fc"
    }
   },
   "outputs": [],
   "source": [
    "!ansible -i $hosts -b -m shell -a \"parted -s -a optimal $ssd_blk -- mkpart primary xfs $end_pos -1\" ceph_node"
   ]
  },
  {
   "cell_type": "markdown",
   "metadata": {
    "lc_cell_meme": {
     "current": "15513786-a488-11ee-91d3-0242ac120006-6-e5b8-1fa7-689f-3a75-1d84-9100",
     "history": [
      {
       "current": "15513786-a488-11ee-91d3-0242ac120006-1-e5b8",
       "next": "f22be07e-81e3-11ee-91d3-0242ac120006-1-3a1b",
       "previous": "155135c4-a488-11ee-91d3-0242ac120006"
      },
      {
       "current": "15513786-a488-11ee-91d3-0242ac120006-2-e5b8-1fa7",
       "next": "c9dc863a-a51c-11ee-91d3-0242ac120006",
       "previous": "155135c4-a488-11ee-91d3-0242ac120006"
      },
      {
       "current": "15513786-a488-11ee-91d3-0242ac120006-3-e5b8-1fa7-689f",
       "next": "c9dc863a-a51c-11ee-91d3-0242ac120006-1-e6f0",
       "previous": "827a5926-9a14-11ec-a1da-0242ac120004-2-9a31-cf21"
      },
      {
       "current": "15513786-a488-11ee-91d3-0242ac120006-4-e5b8-1fa7-689f-3a75",
       "next": "c9dc863a-a51c-11ee-91d3-0242ac120006-2-e6f0-252b",
       "previous": "827a5926-9a14-11ec-a1da-0242ac120004-3-9a31-cf21-5f16"
      },
      {
       "current": "15513786-a488-11ee-91d3-0242ac120006-5-e5b8-1fa7-689f-3a75-1d84",
       "next": "c9dc863a-a51c-11ee-91d3-0242ac120006-3-e6f0-252b-fd70",
       "previous": "827a5926-9a14-11ec-a1da-0242ac120004-4-9a31-cf21-5f16-5a4a"
      },
      {
       "current": "15513786-a488-11ee-91d3-0242ac120006-6-e5b8-1fa7-689f-3a75-1d84-9100",
       "next": "c9dc863a-a51c-11ee-91d3-0242ac120006-4-e6f0-252b-fd70-1706",
       "previous": "827a5926-9a14-11ec-a1da-0242ac120004-5-9a31-cf21-5f16-5a4a-da64"
      }
     ],
     "next": "c9dc863a-a51c-11ee-91d3-0242ac120006-5-e6f0-252b-fd70-1706-f7af",
     "previous": "827a5926-9a14-11ec-a1da-0242ac120004-6-9a31-cf21-5f16-5a4a-da64-947a"
    }
   },
   "source": [
    "### パーティション情報取得"
   ]
  },
  {
   "cell_type": "code",
   "execution_count": null,
   "metadata": {
    "lc_cell_meme": {
     "current": "c9dc863a-a51c-11ee-91d3-0242ac120006-5-e6f0-252b-fd70-1706-f7af",
     "history": [
      {
       "current": "c9dc863a-a51c-11ee-91d3-0242ac120006-1-e6f0",
       "next": "c9dc8946-a51c-11ee-91d3-0242ac120006",
       "previous": "15513786-a488-11ee-91d3-0242ac120006-1-e5b8"
      },
      {
       "current": "c9dc863a-a51c-11ee-91d3-0242ac120006-2-e6f0-252b",
       "next": "c9dc8946-a51c-11ee-91d3-0242ac120006-1-e158",
       "previous": "15513786-a488-11ee-91d3-0242ac120006-2-e5b8-1fa7"
      },
      {
       "current": "c9dc863a-a51c-11ee-91d3-0242ac120006-3-e6f0-252b-fd70",
       "next": "c9dc8946-a51c-11ee-91d3-0242ac120006-2-e158-bf49",
       "previous": "15513786-a488-11ee-91d3-0242ac120006-3-e5b8-1fa7-689f"
      },
      {
       "current": "c9dc863a-a51c-11ee-91d3-0242ac120006-4-e6f0-252b-fd70-1706",
       "next": "c9dc8946-a51c-11ee-91d3-0242ac120006-3-e158-bf49-61fc",
       "previous": "15513786-a488-11ee-91d3-0242ac120006-4-e5b8-1fa7-689f-3a75"
      },
      {
       "current": "c9dc863a-a51c-11ee-91d3-0242ac120006-5-e6f0-252b-fd70-1706-f7af",
       "next": "c9dc8946-a51c-11ee-91d3-0242ac120006-4-e158-bf49-61fc-ce34",
       "previous": "15513786-a488-11ee-91d3-0242ac120006-5-e5b8-1fa7-689f-3a75-1d84"
      }
     ],
     "next": "c9dc8946-a51c-11ee-91d3-0242ac120006-5-e158-bf49-61fc-ce34-5611",
     "previous": "15513786-a488-11ee-91d3-0242ac120006-6-e5b8-1fa7-689f-3a75-1d84-9100"
    },
    "scrolled": true
   },
   "outputs": [],
   "source": [
    "part_info = !ansible -i $hosts -b -m shell -a \"parted -mlj 2> /dev/null\" ceph_node\n",
    "part_info.pop(0)\n",
    "print(part_info)"
   ]
  },
  {
   "cell_type": "code",
   "execution_count": null,
   "metadata": {
    "lc_cell_meme": {
     "current": "c9dc8946-a51c-11ee-91d3-0242ac120006-5-e158-bf49-61fc-ce34-5611",
     "history": [
      {
       "current": "c9dc8946-a51c-11ee-91d3-0242ac120006",
       "next": "c9dc8a0e-a51c-11ee-91d3-0242ac120006",
       "previous": "c9dc863a-a51c-11ee-91d3-0242ac120006"
      },
      {
       "current": "c9dc8946-a51c-11ee-91d3-0242ac120006",
       "next": "c9dc8a0e-a51c-11ee-91d3-0242ac120006-1-71e4",
       "previous": "c9dc863a-a51c-11ee-91d3-0242ac120006"
      },
      {
       "current": "c9dc8946-a51c-11ee-91d3-0242ac120006-1-e158",
       "next": "f22be07e-81e3-11ee-91d3-0242ac120006-1-3a1b",
       "previous": "c9dc863a-a51c-11ee-91d3-0242ac120006"
      },
      {
       "current": "c9dc8946-a51c-11ee-91d3-0242ac120006-1-e158",
       "next": "694eaf22-9acf-11ec-a1da-0242ac120004-2-a4c0-d537",
       "previous": "c9dc863a-a51c-11ee-91d3-0242ac120006-1-e6f0"
      },
      {
       "current": "c9dc8946-a51c-11ee-91d3-0242ac120006-2-e158-bf49",
       "next": "cedee9ac-a544-11ee-91d3-0242ac120006-1-145c",
       "previous": "c9dc863a-a51c-11ee-91d3-0242ac120006-1-e6f0"
      },
      {
       "current": "c9dc8946-a51c-11ee-91d3-0242ac120006-3-e158-bf49-61fc",
       "next": "cedee9ac-a544-11ee-91d3-0242ac120006-2-145c-9fce",
       "previous": "c9dc863a-a51c-11ee-91d3-0242ac120006-2-e6f0-252b"
      },
      {
       "current": "c9dc8946-a51c-11ee-91d3-0242ac120006-4-e158-bf49-61fc-ce34",
       "next": "cedee9ac-a544-11ee-91d3-0242ac120006-3-145c-9fce-cf5a",
       "previous": "c9dc863a-a51c-11ee-91d3-0242ac120006-3-e6f0-252b-fd70"
      },
      {
       "current": "c9dc8946-a51c-11ee-91d3-0242ac120006-5-e158-bf49-61fc-ce34-5611",
       "next": "cedee9ac-a544-11ee-91d3-0242ac120006-4-145c-9fce-cf5a-50f9",
       "previous": "c9dc863a-a51c-11ee-91d3-0242ac120006-4-e6f0-252b-fd70-1706"
      }
     ],
     "next": "cedee9ac-a544-11ee-91d3-0242ac120006-5-145c-9fce-cf5a-50f9-3cd4",
     "previous": "c9dc863a-a51c-11ee-91d3-0242ac120006-5-e6f0-252b-fd70-1706-f7af"
    }
   },
   "outputs": [],
   "source": [
    "import re\n",
    "\n",
    "part_info_json_list = []\n",
    "part_info_json = \"\"\n",
    "for part_info_line in part_info:\n",
    "    if part_info_line == '':\n",
    "        if len(part_info_json) > 0:\n",
    "            part_info_json_list.append(part_info_json)\n",
    "        part_info_json = \"\"\n",
    "        continue\n",
    "    part_info_json = part_info_json + part_info_line\n",
    "\n",
    "part_info_list = []\n",
    "for part_info_json in part_info_json_list:\n",
    "    part_info_list.append(json.loads(part_info_json))\n",
    "\n",
    "print(json.dumps(part_info_list, sort_keys=True, indent=4))"
   ]
  },
  {
   "cell_type": "code",
   "execution_count": null,
   "metadata": {
    "lc_cell_meme": {
     "current": "cedee9ac-a544-11ee-91d3-0242ac120006-5-145c-9fce-cf5a-50f9-3cd4",
     "history": [
      {
       "current": "cedee9ac-a544-11ee-91d3-0242ac120006-1-145c",
       "next": "cedeeb64-a544-11ee-91d3-0242ac120006",
       "previous": "c9dc8a90-a51c-11ee-91d3-0242ac120006"
      },
      {
       "current": "cedee9ac-a544-11ee-91d3-0242ac120006-2-145c-9fce",
       "next": "cedeeb64-a544-11ee-91d3-0242ac120006-1-341f",
       "previous": "c9dc8946-a51c-11ee-91d3-0242ac120006-1-e158"
      },
      {
       "current": "cedee9ac-a544-11ee-91d3-0242ac120006-3-145c-9fce-cf5a",
       "next": "cedeeb64-a544-11ee-91d3-0242ac120006-2-341f-9c3b",
       "previous": "c9dc8946-a51c-11ee-91d3-0242ac120006-2-e158-bf49"
      },
      {
       "current": "cedee9ac-a544-11ee-91d3-0242ac120006-4-145c-9fce-cf5a-50f9",
       "next": "cedeeb64-a544-11ee-91d3-0242ac120006-3-341f-9c3b-8de8",
       "previous": "c9dc8946-a51c-11ee-91d3-0242ac120006-3-e158-bf49-61fc"
      },
      {
       "current": "cedee9ac-a544-11ee-91d3-0242ac120006-5-145c-9fce-cf5a-50f9-3cd4",
       "next": "cedeeb64-a544-11ee-91d3-0242ac120006-4-341f-9c3b-8de8-11b4",
       "previous": "c9dc8946-a51c-11ee-91d3-0242ac120006-4-e158-bf49-61fc-ce34"
      }
     ],
     "next": "cedeeb64-a544-11ee-91d3-0242ac120006-5-341f-9c3b-8de8-11b4-fa39",
     "previous": "c9dc8946-a51c-11ee-91d3-0242ac120006-5-e158-bf49-61fc-ce34-5611"
    }
   },
   "outputs": [],
   "source": [
    "ssd_part_info = None\n",
    "for part_info in part_info_list:\n",
    "    if part_info['disk']['path'] == ssd_blk:\n",
    "        ssd_part_info = part_info['disk']\n",
    "        break\n",
    "\n",
    "print(ssd_part_info)"
   ]
  },
  {
   "cell_type": "code",
   "execution_count": null,
   "metadata": {
    "lc_cell_meme": {
     "current": "cedeeb64-a544-11ee-91d3-0242ac120006-5-341f-9c3b-8de8-11b4-fa39",
     "history": [
      {
       "current": "cedeeb64-a544-11ee-91d3-0242ac120006",
       "next": "f22be07e-81e3-11ee-91d3-0242ac120006-1-3a1b",
       "previous": "cedee9ac-a544-11ee-91d3-0242ac120006"
      },
      {
       "current": "cedeeb64-a544-11ee-91d3-0242ac120006",
       "next": "5decefcc-a545-11ee-91d3-0242ac120006",
       "previous": "cedee9ac-a544-11ee-91d3-0242ac120006"
      },
      {
       "current": "cedeeb64-a544-11ee-91d3-0242ac120006",
       "next": "719edac8-9b1a-11ea-8d02-0242ac120007-3-36ea-64d5-2e92",
       "previous": "cedee9ac-a544-11ee-91d3-0242ac120006"
      },
      {
       "current": "cedeeb64-a544-11ee-91d3-0242ac120006-1-341f",
       "next": "5decefcc-a545-11ee-91d3-0242ac120006",
       "previous": "cedee9ac-a544-11ee-91d3-0242ac120006"
      },
      {
       "current": "cedeeb64-a544-11ee-91d3-0242ac120006-2-341f-9c3b",
       "next": "197a4254-a54a-11ee-91d3-0242ac120006",
       "previous": "cedee9ac-a544-11ee-91d3-0242ac120006-1-145c"
      },
      {
       "current": "cedeeb64-a544-11ee-91d3-0242ac120006-3-341f-9c3b-8de8",
       "next": "197a4254-a54a-11ee-91d3-0242ac120006-1-8b5e",
       "previous": "cedee9ac-a544-11ee-91d3-0242ac120006-2-145c-9fce"
      },
      {
       "current": "cedeeb64-a544-11ee-91d3-0242ac120006-3-341f-9c3b-8de8",
       "next": "197a4254-a54a-11ee-91d3-0242ac120006-2-8b5e-ced5",
       "previous": "cedee9ac-a544-11ee-91d3-0242ac120006-3-145c-9fce-cf5a"
      },
      {
       "current": "cedeeb64-a544-11ee-91d3-0242ac120006-4-341f-9c3b-8de8-11b4",
       "next": "c16268f4-1cc6-11ef-ad2f-0242ac120005",
       "previous": "cedee9ac-a544-11ee-91d3-0242ac120006-3-145c-9fce-cf5a"
      },
      {
       "current": "cedeeb64-a544-11ee-91d3-0242ac120006-5-341f-9c3b-8de8-11b4-fa39",
       "next": "c16268f4-1cc6-11ef-ad2f-0242ac120005-1-62a2",
       "previous": "cedee9ac-a544-11ee-91d3-0242ac120006-4-145c-9fce-cf5a-50f9"
      }
     ],
     "next": "c16268f4-1cc6-11ef-ad2f-0242ac120005-2-62a2-6ad9",
     "previous": "cedee9ac-a544-11ee-91d3-0242ac120006-5-145c-9fce-cf5a-50f9-3cd4"
    }
   },
   "outputs": [],
   "source": [
    "db_disk_partitions = ssd_part_info['partitions']\n",
    "pd.DataFrame(db_disk_partitions)"
   ]
  },
  {
   "cell_type": "code",
   "execution_count": null,
   "metadata": {
    "lc_cell_meme": {
     "current": "c16268f4-1cc6-11ef-ad2f-0242ac120005-2-62a2-6ad9",
     "history": [
      {
       "current": "c16268f4-1cc6-11ef-ad2f-0242ac120005",
       "next": "694eb3aa-9acf-11ec-a1da-0242ac120004-4-acb8-fdd3-55f8-b228",
       "previous": "197a4254-a54a-11ee-91d3-0242ac120006-2-8b5e-ced5"
      },
      {
       "current": "c16268f4-1cc6-11ef-ad2f-0242ac120005-1-62a2",
       "next": "694eb3aa-9acf-11ec-a1da-0242ac120004-4-acb8-fdd3-55f8-b228",
       "previous": "cedeeb64-a544-11ee-91d3-0242ac120006-3-341f-9c3b-8de8"
      },
      {
       "current": "c16268f4-1cc6-11ef-ad2f-0242ac120005-2-62a2-6ad9",
       "next": "694eb3aa-9acf-11ec-a1da-0242ac120004-5-acb8-fdd3-55f8-b228-f529",
       "previous": "cedeeb64-a544-11ee-91d3-0242ac120006-4-341f-9c3b-8de8-11b4"
      }
     ],
     "next": "694eb3aa-9acf-11ec-a1da-0242ac120004-6-acb8-fdd3-55f8-b228-f529-2cc2",
     "previous": "cedeeb64-a544-11ee-91d3-0242ac120006-5-341f-9c3b-8de8-11b4-fa39"
    }
   },
   "outputs": [],
   "source": [
    "target_part = None\n",
    "for db_disk_partition in db_disk_partitions:\n",
    "    if db_disk_partition['start'] == end_pos:\n",
    "        target_part = db_disk_partition\n",
    "        break\n",
    "        \n",
    "print(target_part)"
   ]
  },
  {
   "cell_type": "code",
   "execution_count": null,
   "metadata": {
    "lc_cell_meme": {
     "current": "694eb3aa-9acf-11ec-a1da-0242ac120004-6-acb8-fdd3-55f8-b228-f529-2cc2",
     "history": [
      {
       "current": "694eb3aa-9acf-11ec-a1da-0242ac120004-1-acb8",
       "next": "827a5d54-9a14-11ec-a1da-0242ac120004",
       "previous": "694eaf22-9acf-11ec-a1da-0242ac120004"
      },
      {
       "current": "694eb3aa-9acf-11ec-a1da-0242ac120004-2-acb8-fdd3",
       "next": "827a5d54-9a14-11ec-a1da-0242ac120004-1-adec",
       "previous": "694eaf22-9acf-11ec-a1da-0242ac120004-1-a4c0"
      },
      {
       "current": "694eb3aa-9acf-11ec-a1da-0242ac120004-2-acb8-fdd3",
       "next": "827a5d54-9a14-11ec-a1da-0242ac120004-2-adec-51a2",
       "previous": "694eaf22-9acf-11ec-a1da-0242ac120004-2-a4c0-d537"
      },
      {
       "current": "694eb3aa-9acf-11ec-a1da-0242ac120004-2-acb8-fdd3",
       "next": "827a5d54-9a14-11ec-a1da-0242ac120004-2-adec-51a2",
       "previous": "197a4434-a54a-11ee-91d3-0242ac120006"
      },
      {
       "current": "694eb3aa-9acf-11ec-a1da-0242ac120004-3-acb8-fdd3-55f8",
       "next": "827a5d54-9a14-11ec-a1da-0242ac120004-2-adec-51a2",
       "previous": "197a4254-a54a-11ee-91d3-0242ac120006"
      },
      {
       "current": "694eb3aa-9acf-11ec-a1da-0242ac120004-4-acb8-fdd3-55f8-b228",
       "next": "827a5d54-9a14-11ec-a1da-0242ac120004-3-adec-51a2-28e8",
       "previous": "197a4254-a54a-11ee-91d3-0242ac120006-1-8b5e"
      },
      {
       "current": "694eb3aa-9acf-11ec-a1da-0242ac120004-4-acb8-fdd3-55f8-b228",
       "next": "827a5d54-9a14-11ec-a1da-0242ac120004-4-adec-51a2-28e8-6fde",
       "previous": "197a4254-a54a-11ee-91d3-0242ac120006-2-8b5e-ced5"
      },
      {
       "current": "694eb3aa-9acf-11ec-a1da-0242ac120004-5-acb8-fdd3-55f8-b228-f529",
       "next": "827a5d54-9a14-11ec-a1da-0242ac120004-4-adec-51a2-28e8-6fde",
       "previous": "c16268f4-1cc6-11ef-ad2f-0242ac120005"
      },
      {
       "current": "694eb3aa-9acf-11ec-a1da-0242ac120004-6-acb8-fdd3-55f8-b228-f529-2cc2",
       "next": "827a5d54-9a14-11ec-a1da-0242ac120004-5-adec-51a2-28e8-6fde-002c",
       "previous": "c16268f4-1cc6-11ef-ad2f-0242ac120005-1-62a2"
      }
     ],
     "next": "827a5d54-9a14-11ec-a1da-0242ac120004-6-adec-51a2-28e8-6fde-002c-afc8",
     "previous": "c16268f4-1cc6-11ef-ad2f-0242ac120005-2-62a2-6ad9"
    }
   },
   "outputs": [],
   "source": [
    "pos = target_part['number']\n",
    "print(pos)"
   ]
  },
  {
   "cell_type": "code",
   "execution_count": null,
   "metadata": {
    "lc_cell_meme": {
     "current": "827a5d54-9a14-11ec-a1da-0242ac120004-6-adec-51a2-28e8-6fde-002c-afc8",
     "history": [
      {
       "current": "827a5d54-9a14-11ec-a1da-0242ac120004",
       "next": "3121c468-9a31-11ea-8d02-0242ac120007-1-32a3",
       "previous": "827a5926-9a14-11ec-a1da-0242ac120004"
      },
      {
       "current": "827a5d54-9a14-11ec-a1da-0242ac120004",
       "next": "3008894e-9ac6-11ec-a1da-0242ac120004",
       "previous": "827a5926-9a14-11ec-a1da-0242ac120004"
      },
      {
       "current": "827a5d54-9a14-11ec-a1da-0242ac120004-1-adec",
       "next": "694eb67a-9acf-11ec-a1da-0242ac120004",
       "previous": "694eb3aa-9acf-11ec-a1da-0242ac120004"
      },
      {
       "current": "827a5d54-9a14-11ec-a1da-0242ac120004-2-adec-51a2",
       "next": "694eb67a-9acf-11ec-a1da-0242ac120004-1-c793",
       "previous": "694eb3aa-9acf-11ec-a1da-0242ac120004-1-acb8"
      },
      {
       "current": "827a5d54-9a14-11ec-a1da-0242ac120004-3-adec-51a2-28e8",
       "next": "694eb67a-9acf-11ec-a1da-0242ac120004-2-c793-9323",
       "previous": "694eb3aa-9acf-11ec-a1da-0242ac120004-2-acb8-fdd3"
      },
      {
       "current": "827a5d54-9a14-11ec-a1da-0242ac120004-4-adec-51a2-28e8-6fde",
       "next": "694eb67a-9acf-11ec-a1da-0242ac120004-3-c793-9323-789f",
       "previous": "694eb3aa-9acf-11ec-a1da-0242ac120004-3-acb8-fdd3-55f8"
      },
      {
       "current": "827a5d54-9a14-11ec-a1da-0242ac120004-5-adec-51a2-28e8-6fde-002c",
       "next": "694eb67a-9acf-11ec-a1da-0242ac120004-4-c793-9323-789f-6e8b",
       "previous": "694eb3aa-9acf-11ec-a1da-0242ac120004-4-acb8-fdd3-55f8-b228"
      },
      {
       "current": "827a5d54-9a14-11ec-a1da-0242ac120004-6-adec-51a2-28e8-6fde-002c-afc8",
       "next": "694eb67a-9acf-11ec-a1da-0242ac120004-5-c793-9323-789f-6e8b-6bc0",
       "previous": "694eb3aa-9acf-11ec-a1da-0242ac120004-5-acb8-fdd3-55f8-b228-f529"
      }
     ],
     "next": "694eb67a-9acf-11ec-a1da-0242ac120004-6-c793-9323-789f-6e8b-6bc0-7971",
     "previous": "694eb3aa-9acf-11ec-a1da-0242ac120004-6-acb8-fdd3-55f8-b228-f529-2cc2"
    }
   },
   "outputs": [],
   "source": [
    "!ansible -i $hosts -b -m shell -a \"parted -s -a optimal $ssd_blk -- set $pos lvm on\" ceph_node"
   ]
  },
  {
   "cell_type": "code",
   "execution_count": null,
   "metadata": {
    "lc_cell_meme": {
     "current": "694eb67a-9acf-11ec-a1da-0242ac120004-6-c793-9323-789f-6e8b-6bc0-7971",
     "history": [
      {
       "current": "694eb67a-9acf-11ec-a1da-0242ac120004-1-c793",
       "next": "694eb846-9acf-11ec-a1da-0242ac120004",
       "previous": "827a5d54-9a14-11ec-a1da-0242ac120004"
      },
      {
       "current": "694eb67a-9acf-11ec-a1da-0242ac120004-2-c793-9323",
       "next": "694eb846-9acf-11ec-a1da-0242ac120004-1-f900",
       "previous": "827a5d54-9a14-11ec-a1da-0242ac120004-1-adec"
      },
      {
       "current": "694eb67a-9acf-11ec-a1da-0242ac120004-3-c793-9323-789f",
       "next": "694eb846-9acf-11ec-a1da-0242ac120004-2-f900-ee3b",
       "previous": "827a5d54-9a14-11ec-a1da-0242ac120004-2-adec-51a2"
      },
      {
       "current": "694eb67a-9acf-11ec-a1da-0242ac120004-4-c793-9323-789f-6e8b",
       "next": "694eb846-9acf-11ec-a1da-0242ac120004-3-f900-ee3b-5770",
       "previous": "827a5d54-9a14-11ec-a1da-0242ac120004-3-adec-51a2-28e8"
      },
      {
       "current": "694eb67a-9acf-11ec-a1da-0242ac120004-5-c793-9323-789f-6e8b-6bc0",
       "next": "694eb846-9acf-11ec-a1da-0242ac120004-4-f900-ee3b-5770-bc23",
       "previous": "827a5d54-9a14-11ec-a1da-0242ac120004-4-adec-51a2-28e8-6fde"
      },
      {
       "current": "694eb67a-9acf-11ec-a1da-0242ac120004-6-c793-9323-789f-6e8b-6bc0-7971",
       "next": "694eb846-9acf-11ec-a1da-0242ac120004-5-f900-ee3b-5770-bc23-1f73",
       "previous": "827a5d54-9a14-11ec-a1da-0242ac120004-5-adec-51a2-28e8-6fde-002c"
      }
     ],
     "next": "694eb846-9acf-11ec-a1da-0242ac120004-6-f900-ee3b-5770-bc23-1f73-5814",
     "previous": "827a5d54-9a14-11ec-a1da-0242ac120004-6-adec-51a2-28e8-6fde-002c-afc8"
    }
   },
   "outputs": [],
   "source": [
    "!ansible -i $hosts -b -m shell -a \"parted $ssd_blk print free\" ceph_node"
   ]
  },
  {
   "cell_type": "code",
   "execution_count": null,
   "metadata": {
    "lc_cell_meme": {
     "current": "694eb846-9acf-11ec-a1da-0242ac120004-6-f900-ee3b-5770-bc23-1f73-5814",
     "history": [
      {
       "current": "694eb846-9acf-11ec-a1da-0242ac120004",
       "next": "3008894e-9ac6-11ec-a1da-0242ac120004",
       "previous": "694eb67a-9acf-11ec-a1da-0242ac120004"
      },
      {
       "current": "694eb846-9acf-11ec-a1da-0242ac120004",
       "next": "3ad4964a-9a14-11ec-a1da-0242ac120004-1-dcb4",
       "previous": "694eb67a-9acf-11ec-a1da-0242ac120004"
      },
      {
       "current": "694eb846-9acf-11ec-a1da-0242ac120004-1-f900",
       "next": "3ad492e4-9a14-11ec-a1da-0242ac120004-1-cfd2",
       "previous": "694eb67a-9acf-11ec-a1da-0242ac120004"
      },
      {
       "current": "694eb846-9acf-11ec-a1da-0242ac120004-2-f900-ee3b",
       "next": "3ad492e4-9a14-11ec-a1da-0242ac120004-2-cfd2-af42",
       "previous": "694eb67a-9acf-11ec-a1da-0242ac120004-1-c793"
      },
      {
       "current": "694eb846-9acf-11ec-a1da-0242ac120004-3-f900-ee3b-5770",
       "next": "3ad492e4-9a14-11ec-a1da-0242ac120004-3-cfd2-af42-9022",
       "previous": "694eb67a-9acf-11ec-a1da-0242ac120004-2-c793-9323"
      },
      {
       "current": "694eb846-9acf-11ec-a1da-0242ac120004-4-f900-ee3b-5770-bc23",
       "next": "3ad492e4-9a14-11ec-a1da-0242ac120004-4-cfd2-af42-9022-04cc",
       "previous": "694eb67a-9acf-11ec-a1da-0242ac120004-3-c793-9323-789f"
      },
      {
       "current": "694eb846-9acf-11ec-a1da-0242ac120004-5-f900-ee3b-5770-bc23-1f73",
       "next": "3ad492e4-9a14-11ec-a1da-0242ac120004-5-cfd2-af42-9022-04cc-e887",
       "previous": "694eb67a-9acf-11ec-a1da-0242ac120004-4-c793-9323-789f-6e8b"
      },
      {
       "current": "694eb846-9acf-11ec-a1da-0242ac120004-6-f900-ee3b-5770-bc23-1f73-5814",
       "next": "3ad492e4-9a14-11ec-a1da-0242ac120004-6-cfd2-af42-9022-04cc-e887-f6a8",
       "previous": "694eb67a-9acf-11ec-a1da-0242ac120004-5-c793-9323-789f-6e8b-6bc0"
      }
     ],
     "next": "3ad492e4-9a14-11ec-a1da-0242ac120004-7-cfd2-af42-9022-04cc-e887-f6a8-810c",
     "previous": "694eb67a-9acf-11ec-a1da-0242ac120004-6-c793-9323-789f-6e8b-6bc0-7971"
    }
   },
   "outputs": [],
   "source": [
    "!ansible -i $hosts -b -m shell -a 'lsblk' ceph_node"
   ]
  },
  {
   "cell_type": "markdown",
   "metadata": {
    "lc_cell_meme": {
     "current": "3ad492e4-9a14-11ec-a1da-0242ac120004-7-cfd2-af42-9022-04cc-e887-f6a8-810c",
     "history": [
      {
       "current": "3ad492e4-9a14-11ec-a1da-0242ac120004-1-cfd2",
       "next": "3ad4949c-9a14-11ec-a1da-0242ac120004",
       "previous": "3ad49028-9a14-11ec-a1da-0242ac120004"
      },
      {
       "current": "3ad492e4-9a14-11ec-a1da-0242ac120004-1-cfd2",
       "next": "3ad4949c-9a14-11ec-a1da-0242ac120004",
       "previous": "06a6d1cc-9ac7-11ec-a1da-0242ac120004"
      },
      {
       "current": "3ad492e4-9a14-11ec-a1da-0242ac120004-1-cfd2",
       "next": "3ad4949c-9a14-11ec-a1da-0242ac120004",
       "previous": "06a6ce5c-9ac7-11ec-a1da-0242ac120004"
      },
      {
       "current": "3ad492e4-9a14-11ec-a1da-0242ac120004-2-cfd2-af42",
       "next": "41054c78-9ad0-11ec-a1da-0242ac120004",
       "previous": "694eb846-9acf-11ec-a1da-0242ac120004"
      },
      {
       "current": "3ad492e4-9a14-11ec-a1da-0242ac120004-2-cfd2-af42",
       "next": "41054c78-9ad0-11ec-a1da-0242ac120004-1-b6d1",
       "previous": "694eb846-9acf-11ec-a1da-0242ac120004-1-f900"
      },
      {
       "current": "3ad492e4-9a14-11ec-a1da-0242ac120004-3-cfd2-af42-9022",
       "next": "f33c208e-6729-11ee-89fa-0242ac120005",
       "previous": "694eb846-9acf-11ec-a1da-0242ac120004-1-f900"
      },
      {
       "current": "3ad492e4-9a14-11ec-a1da-0242ac120004-3-cfd2-af42-9022",
       "next": "f33c208e-6729-11ee-89fa-0242ac120005-1-5327",
       "previous": "694eb846-9acf-11ec-a1da-0242ac120004-2-f900-ee3b"
      },
      {
       "current": "3ad492e4-9a14-11ec-a1da-0242ac120004-4-cfd2-af42-9022-04cc",
       "next": "41054c78-9ad0-11ec-a1da-0242ac120004-2-b6d1-b76f",
       "previous": "694eb846-9acf-11ec-a1da-0242ac120004-2-f900-ee3b"
      },
      {
       "current": "3ad492e4-9a14-11ec-a1da-0242ac120004-5-cfd2-af42-9022-04cc-e887",
       "next": "41054c78-9ad0-11ec-a1da-0242ac120004-3-b6d1-b76f-b77e",
       "previous": "694eb846-9acf-11ec-a1da-0242ac120004-3-f900-ee3b-5770"
      },
      {
       "current": "3ad492e4-9a14-11ec-a1da-0242ac120004-6-cfd2-af42-9022-04cc-e887-f6a8",
       "next": "41054c78-9ad0-11ec-a1da-0242ac120004-4-b6d1-b76f-b77e-6e13",
       "previous": "694eb846-9acf-11ec-a1da-0242ac120004-4-f900-ee3b-5770-bc23"
      },
      {
       "current": "3ad492e4-9a14-11ec-a1da-0242ac120004-7-cfd2-af42-9022-04cc-e887-f6a8-810c",
       "next": "41054c78-9ad0-11ec-a1da-0242ac120004-5-b6d1-b76f-b77e-6e13-6b40",
       "previous": "694eb846-9acf-11ec-a1da-0242ac120004-5-f900-ee3b-5770-bc23-1f73"
      }
     ],
     "next": "41054c78-9ad0-11ec-a1da-0242ac120004-6-b6d1-b76f-b77e-6e13-6b40-b276",
     "previous": "694eb846-9acf-11ec-a1da-0242ac120004-6-f900-ee3b-5770-bc23-1f73-5814"
    }
   },
   "source": [
    "## PV/VG生成"
   ]
  },
  {
   "cell_type": "code",
   "execution_count": null,
   "metadata": {
    "lc_cell_meme": {
     "current": "41054c78-9ad0-11ec-a1da-0242ac120004-6-b6d1-b76f-b77e-6e13-6b40-b276",
     "history": [
      {
       "current": "41054c78-9ad0-11ec-a1da-0242ac120004",
       "next": "41054f8e-9ad0-11ec-a1da-0242ac120004",
       "previous": "3ad492e4-9a14-11ec-a1da-0242ac120004-1-cfd2"
      },
      {
       "current": "41054c78-9ad0-11ec-a1da-0242ac120004-1-b6d1",
       "next": "d0163fbc-9ad0-11ec-a1da-0242ac120004",
       "previous": "3ad492e4-9a14-11ec-a1da-0242ac120004-1-cfd2"
      },
      {
       "current": "41054c78-9ad0-11ec-a1da-0242ac120004-1-b6d1",
       "next": "d0163fbc-9ad0-11ec-a1da-0242ac120004-1-b34b",
       "previous": "3ad492e4-9a14-11ec-a1da-0242ac120004-2-cfd2-af42"
      },
      {
       "current": "41054c78-9ad0-11ec-a1da-0242ac120004-2-b6d1-b76f",
       "next": "d0163fbc-9ad0-11ec-a1da-0242ac120004-1-b34b",
       "previous": "f33c208e-6729-11ee-89fa-0242ac120005"
      },
      {
       "current": "41054c78-9ad0-11ec-a1da-0242ac120004-2-b6d1-b76f",
       "next": "d0163fbc-9ad0-11ec-a1da-0242ac120004-2-b34b-5146",
       "previous": "f33c208e-6729-11ee-89fa-0242ac120005-1-5327"
      },
      {
       "current": "41054c78-9ad0-11ec-a1da-0242ac120004-3-b6d1-b76f-b77e",
       "next": "d0163fbc-9ad0-11ec-a1da-0242ac120004-2-b34b-5146",
       "previous": "3ad492e4-9a14-11ec-a1da-0242ac120004-3-cfd2-af42-9022"
      },
      {
       "current": "41054c78-9ad0-11ec-a1da-0242ac120004-4-b6d1-b76f-b77e-6e13",
       "next": "d0163fbc-9ad0-11ec-a1da-0242ac120004-3-b34b-5146-1ac3",
       "previous": "3ad492e4-9a14-11ec-a1da-0242ac120004-4-cfd2-af42-9022-04cc"
      },
      {
       "current": "41054c78-9ad0-11ec-a1da-0242ac120004-5-b6d1-b76f-b77e-6e13-6b40",
       "next": "d0163fbc-9ad0-11ec-a1da-0242ac120004-4-b34b-5146-1ac3-b40e",
       "previous": "3ad492e4-9a14-11ec-a1da-0242ac120004-5-cfd2-af42-9022-04cc-e887"
      },
      {
       "current": "41054c78-9ad0-11ec-a1da-0242ac120004-6-b6d1-b76f-b77e-6e13-6b40-b276",
       "next": "d0163fbc-9ad0-11ec-a1da-0242ac120004-5-b34b-5146-1ac3-b40e-99f0",
       "previous": "3ad492e4-9a14-11ec-a1da-0242ac120004-6-cfd2-af42-9022-04cc-e887-f6a8"
      }
     ],
     "next": "d0163fbc-9ad0-11ec-a1da-0242ac120004-6-b34b-5146-1ac3-b40e-99f0-5e59",
     "previous": "3ad492e4-9a14-11ec-a1da-0242ac120004-7-cfd2-af42-9022-04cc-e887-f6a8-810c"
    }
   },
   "outputs": [],
   "source": [
    "!ansible -i $hosts -b -m shell -a 'pvscan' ceph_node"
   ]
  },
  {
   "cell_type": "code",
   "execution_count": null,
   "metadata": {
    "lc_cell_meme": {
     "current": "d0163fbc-9ad0-11ec-a1da-0242ac120004-6-b34b-5146-1ac3-b40e-99f0-5e59",
     "history": [
      {
       "current": "d0163fbc-9ad0-11ec-a1da-0242ac120004-1-b34b",
       "next": "41054f8e-9ad0-11ec-a1da-0242ac120004",
       "previous": "41054c78-9ad0-11ec-a1da-0242ac120004"
      },
      {
       "current": "d0163fbc-9ad0-11ec-a1da-0242ac120004-2-b34b-5146",
       "next": "41054f8e-9ad0-11ec-a1da-0242ac120004-1-ede8",
       "previous": "41054c78-9ad0-11ec-a1da-0242ac120004-1-b6d1"
      },
      {
       "current": "d0163fbc-9ad0-11ec-a1da-0242ac120004-3-b34b-5146-1ac3",
       "next": "41054f8e-9ad0-11ec-a1da-0242ac120004-2-ede8-a291",
       "previous": "41054c78-9ad0-11ec-a1da-0242ac120004-2-b6d1-b76f"
      },
      {
       "current": "d0163fbc-9ad0-11ec-a1da-0242ac120004-4-b34b-5146-1ac3-b40e",
       "next": "41054f8e-9ad0-11ec-a1da-0242ac120004-3-ede8-a291-3adc",
       "previous": "41054c78-9ad0-11ec-a1da-0242ac120004-3-b6d1-b76f-b77e"
      },
      {
       "current": "d0163fbc-9ad0-11ec-a1da-0242ac120004-5-b34b-5146-1ac3-b40e-99f0",
       "next": "41054f8e-9ad0-11ec-a1da-0242ac120004-4-ede8-a291-3adc-a382",
       "previous": "41054c78-9ad0-11ec-a1da-0242ac120004-4-b6d1-b76f-b77e-6e13"
      },
      {
       "current": "d0163fbc-9ad0-11ec-a1da-0242ac120004-6-b34b-5146-1ac3-b40e-99f0-5e59",
       "next": "41054f8e-9ad0-11ec-a1da-0242ac120004-5-ede8-a291-3adc-a382-d86f",
       "previous": "41054c78-9ad0-11ec-a1da-0242ac120004-5-b6d1-b76f-b77e-6e13-6b40"
      }
     ],
     "next": "41054f8e-9ad0-11ec-a1da-0242ac120004-6-ede8-a291-3adc-a382-d86f-06a4",
     "previous": "41054c78-9ad0-11ec-a1da-0242ac120004-6-b6d1-b76f-b77e-6e13-6b40-b276"
    }
   },
   "outputs": [],
   "source": [
    "pv_bkl = \"{}{}\".format(ssd_blk,pos)\n",
    "print(pv_bkl)"
   ]
  },
  {
   "cell_type": "code",
   "execution_count": null,
   "metadata": {
    "lc_cell_meme": {
     "current": "41054f8e-9ad0-11ec-a1da-0242ac120004-6-ede8-a291-3adc-a382-d86f-06a4",
     "history": [
      {
       "current": "41054f8e-9ad0-11ec-a1da-0242ac120004",
       "next": "4105527c-9ad0-11ec-a1da-0242ac120004",
       "previous": "41054c78-9ad0-11ec-a1da-0242ac120004"
      },
      {
       "current": "41054f8e-9ad0-11ec-a1da-0242ac120004-1-ede8",
       "next": "4105527c-9ad0-11ec-a1da-0242ac120004",
       "previous": "d0163fbc-9ad0-11ec-a1da-0242ac120004"
      },
      {
       "current": "41054f8e-9ad0-11ec-a1da-0242ac120004-2-ede8-a291",
       "next": "4105527c-9ad0-11ec-a1da-0242ac120004-1-e33e",
       "previous": "d0163fbc-9ad0-11ec-a1da-0242ac120004-1-b34b"
      },
      {
       "current": "41054f8e-9ad0-11ec-a1da-0242ac120004-3-ede8-a291-3adc",
       "next": "4105527c-9ad0-11ec-a1da-0242ac120004-2-e33e-9d54",
       "previous": "d0163fbc-9ad0-11ec-a1da-0242ac120004-2-b34b-5146"
      },
      {
       "current": "41054f8e-9ad0-11ec-a1da-0242ac120004-4-ede8-a291-3adc-a382",
       "next": "4105527c-9ad0-11ec-a1da-0242ac120004-3-e33e-9d54-e73f",
       "previous": "d0163fbc-9ad0-11ec-a1da-0242ac120004-3-b34b-5146-1ac3"
      },
      {
       "current": "41054f8e-9ad0-11ec-a1da-0242ac120004-5-ede8-a291-3adc-a382-d86f",
       "next": "4105527c-9ad0-11ec-a1da-0242ac120004-4-e33e-9d54-e73f-a061",
       "previous": "d0163fbc-9ad0-11ec-a1da-0242ac120004-4-b34b-5146-1ac3-b40e"
      },
      {
       "current": "41054f8e-9ad0-11ec-a1da-0242ac120004-6-ede8-a291-3adc-a382-d86f-06a4",
       "next": "4105527c-9ad0-11ec-a1da-0242ac120004-5-e33e-9d54-e73f-a061-20fc",
       "previous": "d0163fbc-9ad0-11ec-a1da-0242ac120004-5-b34b-5146-1ac3-b40e-99f0"
      }
     ],
     "next": "4105527c-9ad0-11ec-a1da-0242ac120004-6-e33e-9d54-e73f-a061-20fc-2116",
     "previous": "d0163fbc-9ad0-11ec-a1da-0242ac120004-6-b34b-5146-1ac3-b40e-99f0-5e59"
    }
   },
   "outputs": [],
   "source": [
    "!ansible -i $hosts -b -m shell -a \"pvcreate $pv_bkl\" ceph_node"
   ]
  },
  {
   "cell_type": "code",
   "execution_count": null,
   "metadata": {
    "lc_cell_meme": {
     "current": "4105527c-9ad0-11ec-a1da-0242ac120004-6-e33e-9d54-e73f-a061-20fc-2116",
     "history": [
      {
       "current": "4105527c-9ad0-11ec-a1da-0242ac120004",
       "next": "3ad4964a-9a14-11ec-a1da-0242ac120004-1-dcb4",
       "previous": "41054f8e-9ad0-11ec-a1da-0242ac120004"
      },
      {
       "current": "4105527c-9ad0-11ec-a1da-0242ac120004-1-e33e",
       "next": "d01642c8-9ad0-11ec-a1da-0242ac120004",
       "previous": "41054f8e-9ad0-11ec-a1da-0242ac120004"
      },
      {
       "current": "4105527c-9ad0-11ec-a1da-0242ac120004-2-e33e-9d54",
       "next": "d01642c8-9ad0-11ec-a1da-0242ac120004-1-dc5f",
       "previous": "41054f8e-9ad0-11ec-a1da-0242ac120004-1-ede8"
      },
      {
       "current": "4105527c-9ad0-11ec-a1da-0242ac120004-3-e33e-9d54-e73f",
       "next": "d01642c8-9ad0-11ec-a1da-0242ac120004-2-dc5f-08cf",
       "previous": "41054f8e-9ad0-11ec-a1da-0242ac120004-2-ede8-a291"
      },
      {
       "current": "4105527c-9ad0-11ec-a1da-0242ac120004-4-e33e-9d54-e73f-a061",
       "next": "d01642c8-9ad0-11ec-a1da-0242ac120004-3-dc5f-08cf-7759",
       "previous": "41054f8e-9ad0-11ec-a1da-0242ac120004-3-ede8-a291-3adc"
      },
      {
       "current": "4105527c-9ad0-11ec-a1da-0242ac120004-5-e33e-9d54-e73f-a061-20fc",
       "next": "d01642c8-9ad0-11ec-a1da-0242ac120004-4-dc5f-08cf-7759-c9f2",
       "previous": "41054f8e-9ad0-11ec-a1da-0242ac120004-4-ede8-a291-3adc-a382"
      },
      {
       "current": "4105527c-9ad0-11ec-a1da-0242ac120004-6-e33e-9d54-e73f-a061-20fc-2116",
       "next": "d01642c8-9ad0-11ec-a1da-0242ac120004-5-dc5f-08cf-7759-c9f2-2515",
       "previous": "41054f8e-9ad0-11ec-a1da-0242ac120004-5-ede8-a291-3adc-a382-d86f"
      }
     ],
     "next": "d01642c8-9ad0-11ec-a1da-0242ac120004-6-dc5f-08cf-7759-c9f2-2515-0c6c",
     "previous": "41054f8e-9ad0-11ec-a1da-0242ac120004-6-ede8-a291-3adc-a382-d86f-06a4"
    }
   },
   "outputs": [],
   "source": [
    "!ansible -i $hosts -b -m shell -a 'pvscan' ceph_node"
   ]
  },
  {
   "cell_type": "code",
   "execution_count": null,
   "metadata": {
    "lc_cell_meme": {
     "current": "d01642c8-9ad0-11ec-a1da-0242ac120004-6-dc5f-08cf-7759-c9f2-2515-0c6c",
     "history": [
      {
       "current": "d01642c8-9ad0-11ec-a1da-0242ac120004",
       "next": "3ad4964a-9a14-11ec-a1da-0242ac120004-1-dcb4",
       "previous": "4105527c-9ad0-11ec-a1da-0242ac120004"
      },
      {
       "current": "d01642c8-9ad0-11ec-a1da-0242ac120004-1-dc5f",
       "next": "ee316bd8-9ad1-11ec-a1da-0242ac120004",
       "previous": "4105527c-9ad0-11ec-a1da-0242ac120004"
      },
      {
       "current": "d01642c8-9ad0-11ec-a1da-0242ac120004-2-dc5f-08cf",
       "next": "ee316bd8-9ad1-11ec-a1da-0242ac120004-1-b3a4",
       "previous": "4105527c-9ad0-11ec-a1da-0242ac120004-1-e33e"
      },
      {
       "current": "d01642c8-9ad0-11ec-a1da-0242ac120004-3-dc5f-08cf-7759",
       "next": "ee316bd8-9ad1-11ec-a1da-0242ac120004-2-b3a4-5a64",
       "previous": "4105527c-9ad0-11ec-a1da-0242ac120004-2-e33e-9d54"
      },
      {
       "current": "d01642c8-9ad0-11ec-a1da-0242ac120004-4-dc5f-08cf-7759-c9f2",
       "next": "ee316bd8-9ad1-11ec-a1da-0242ac120004-3-b3a4-5a64-cb98",
       "previous": "4105527c-9ad0-11ec-a1da-0242ac120004-3-e33e-9d54-e73f"
      },
      {
       "current": "d01642c8-9ad0-11ec-a1da-0242ac120004-5-dc5f-08cf-7759-c9f2-2515",
       "next": "ee316bd8-9ad1-11ec-a1da-0242ac120004-4-b3a4-5a64-cb98-cd1b",
       "previous": "4105527c-9ad0-11ec-a1da-0242ac120004-4-e33e-9d54-e73f-a061"
      },
      {
       "current": "d01642c8-9ad0-11ec-a1da-0242ac120004-6-dc5f-08cf-7759-c9f2-2515-0c6c",
       "next": "ee316bd8-9ad1-11ec-a1da-0242ac120004-5-b3a4-5a64-cb98-cd1b-ecb8",
       "previous": "4105527c-9ad0-11ec-a1da-0242ac120004-5-e33e-9d54-e73f-a061-20fc"
      }
     ],
     "next": "ee316bd8-9ad1-11ec-a1da-0242ac120004-6-b3a4-5a64-cb98-cd1b-ecb8-e013",
     "previous": "4105527c-9ad0-11ec-a1da-0242ac120004-6-e33e-9d54-e73f-a061-20fc-2116"
    }
   },
   "outputs": [],
   "source": [
    "!ansible -i $hosts -b -m shell -a \"pvdisplay $pv_bkl\" ceph_node"
   ]
  },
  {
   "cell_type": "code",
   "execution_count": null,
   "metadata": {
    "lc_cell_meme": {
     "current": "ee316bd8-9ad1-11ec-a1da-0242ac120004-6-b3a4-5a64-cb98-cd1b-ecb8-e013",
     "history": [
      {
       "current": "ee316bd8-9ad1-11ec-a1da-0242ac120004-1-b3a4",
       "next": "ee316f34-9ad1-11ec-a1da-0242ac120004",
       "previous": "d01642c8-9ad0-11ec-a1da-0242ac120004"
      },
      {
       "current": "ee316bd8-9ad1-11ec-a1da-0242ac120004-2-b3a4-5a64",
       "next": "ee316f34-9ad1-11ec-a1da-0242ac120004-1-970e",
       "previous": "d01642c8-9ad0-11ec-a1da-0242ac120004-1-dc5f"
      },
      {
       "current": "ee316bd8-9ad1-11ec-a1da-0242ac120004-3-b3a4-5a64-cb98",
       "next": "ee316f34-9ad1-11ec-a1da-0242ac120004-2-970e-98f5",
       "previous": "d01642c8-9ad0-11ec-a1da-0242ac120004-2-dc5f-08cf"
      },
      {
       "current": "ee316bd8-9ad1-11ec-a1da-0242ac120004-4-b3a4-5a64-cb98-cd1b",
       "next": "ee316f34-9ad1-11ec-a1da-0242ac120004-3-970e-98f5-f648",
       "previous": "d01642c8-9ad0-11ec-a1da-0242ac120004-3-dc5f-08cf-7759"
      },
      {
       "current": "ee316bd8-9ad1-11ec-a1da-0242ac120004-5-b3a4-5a64-cb98-cd1b-ecb8",
       "next": "ee316f34-9ad1-11ec-a1da-0242ac120004-4-970e-98f5-f648-23ad",
       "previous": "d01642c8-9ad0-11ec-a1da-0242ac120004-4-dc5f-08cf-7759-c9f2"
      },
      {
       "current": "ee316bd8-9ad1-11ec-a1da-0242ac120004-6-b3a4-5a64-cb98-cd1b-ecb8-e013",
       "next": "ee316f34-9ad1-11ec-a1da-0242ac120004-5-970e-98f5-f648-23ad-d2b8",
       "previous": "d01642c8-9ad0-11ec-a1da-0242ac120004-5-dc5f-08cf-7759-c9f2-2515"
      }
     ],
     "next": "ee316f34-9ad1-11ec-a1da-0242ac120004-6-970e-98f5-f648-23ad-d2b8-4d5c",
     "previous": "d01642c8-9ad0-11ec-a1da-0242ac120004-6-dc5f-08cf-7759-c9f2-2515-0c6c"
    }
   },
   "outputs": [],
   "source": [
    "ssd_vg_name = \"vg_db\""
   ]
  },
  {
   "cell_type": "code",
   "execution_count": null,
   "metadata": {
    "lc_cell_meme": {
     "current": "ee316f34-9ad1-11ec-a1da-0242ac120004-6-970e-98f5-f648-23ad-d2b8-4d5c",
     "history": [
      {
       "current": "ee316f34-9ad1-11ec-a1da-0242ac120004",
       "next": "3ad4964a-9a14-11ec-a1da-0242ac120004-1-dcb4",
       "previous": "ee316bd8-9ad1-11ec-a1da-0242ac120004"
      },
      {
       "current": "ee316f34-9ad1-11ec-a1da-0242ac120004-1-970e",
       "next": "35c597bc-9ad2-11ec-a1da-0242ac120004",
       "previous": "ee316bd8-9ad1-11ec-a1da-0242ac120004"
      },
      {
       "current": "ee316f34-9ad1-11ec-a1da-0242ac120004-2-970e-98f5",
       "next": "35c597bc-9ad2-11ec-a1da-0242ac120004-1-dd96",
       "previous": "ee316bd8-9ad1-11ec-a1da-0242ac120004-1-b3a4"
      },
      {
       "current": "ee316f34-9ad1-11ec-a1da-0242ac120004-3-970e-98f5-f648",
       "next": "35c597bc-9ad2-11ec-a1da-0242ac120004-2-dd96-39d5",
       "previous": "ee316bd8-9ad1-11ec-a1da-0242ac120004-2-b3a4-5a64"
      },
      {
       "current": "ee316f34-9ad1-11ec-a1da-0242ac120004-4-970e-98f5-f648-23ad",
       "next": "35c597bc-9ad2-11ec-a1da-0242ac120004-3-dd96-39d5-4b42",
       "previous": "ee316bd8-9ad1-11ec-a1da-0242ac120004-3-b3a4-5a64-cb98"
      },
      {
       "current": "ee316f34-9ad1-11ec-a1da-0242ac120004-5-970e-98f5-f648-23ad-d2b8",
       "next": "35c597bc-9ad2-11ec-a1da-0242ac120004-4-dd96-39d5-4b42-50a3",
       "previous": "ee316bd8-9ad1-11ec-a1da-0242ac120004-4-b3a4-5a64-cb98-cd1b"
      },
      {
       "current": "ee316f34-9ad1-11ec-a1da-0242ac120004-6-970e-98f5-f648-23ad-d2b8-4d5c",
       "next": "35c597bc-9ad2-11ec-a1da-0242ac120004-5-dd96-39d5-4b42-50a3-29c4",
       "previous": "ee316bd8-9ad1-11ec-a1da-0242ac120004-5-b3a4-5a64-cb98-cd1b-ecb8"
      }
     ],
     "next": "35c597bc-9ad2-11ec-a1da-0242ac120004-6-dd96-39d5-4b42-50a3-29c4-3cbb",
     "previous": "ee316bd8-9ad1-11ec-a1da-0242ac120004-6-b3a4-5a64-cb98-cd1b-ecb8-e013"
    }
   },
   "outputs": [],
   "source": [
    "!ansible -i $hosts -b -m shell -a \"vgcreate $ssd_vg_name $pv_bkl\" ceph_node"
   ]
  },
  {
   "cell_type": "code",
   "execution_count": null,
   "metadata": {
    "lc_cell_meme": {
     "current": "35c597bc-9ad2-11ec-a1da-0242ac120004-6-dd96-39d5-4b42-50a3-29c4-3cbb",
     "history": [
      {
       "current": "35c597bc-9ad2-11ec-a1da-0242ac120004",
       "next": "3ad4964a-9a14-11ec-a1da-0242ac120004-1-dcb4",
       "previous": "ee316f34-9ad1-11ec-a1da-0242ac120004"
      },
      {
       "current": "35c597bc-9ad2-11ec-a1da-0242ac120004-1-dd96",
       "next": "7d4667d8-9ad2-11ec-a1da-0242ac120004",
       "previous": "ee316f34-9ad1-11ec-a1da-0242ac120004"
      },
      {
       "current": "35c597bc-9ad2-11ec-a1da-0242ac120004-2-dd96-39d5",
       "next": "7d4667d8-9ad2-11ec-a1da-0242ac120004-1-a6ec",
       "previous": "ee316f34-9ad1-11ec-a1da-0242ac120004-1-970e"
      },
      {
       "current": "35c597bc-9ad2-11ec-a1da-0242ac120004-3-dd96-39d5-4b42",
       "next": "7d4667d8-9ad2-11ec-a1da-0242ac120004-2-a6ec-7d37",
       "previous": "ee316f34-9ad1-11ec-a1da-0242ac120004-2-970e-98f5"
      },
      {
       "current": "35c597bc-9ad2-11ec-a1da-0242ac120004-4-dd96-39d5-4b42-50a3",
       "next": "7d4667d8-9ad2-11ec-a1da-0242ac120004-3-a6ec-7d37-9d48",
       "previous": "ee316f34-9ad1-11ec-a1da-0242ac120004-3-970e-98f5-f648"
      },
      {
       "current": "35c597bc-9ad2-11ec-a1da-0242ac120004-5-dd96-39d5-4b42-50a3-29c4",
       "next": "7d4667d8-9ad2-11ec-a1da-0242ac120004-4-a6ec-7d37-9d48-d456",
       "previous": "ee316f34-9ad1-11ec-a1da-0242ac120004-4-970e-98f5-f648-23ad"
      },
      {
       "current": "35c597bc-9ad2-11ec-a1da-0242ac120004-6-dd96-39d5-4b42-50a3-29c4-3cbb",
       "next": "7d4667d8-9ad2-11ec-a1da-0242ac120004-5-a6ec-7d37-9d48-d456-1d97",
       "previous": "ee316f34-9ad1-11ec-a1da-0242ac120004-5-970e-98f5-f648-23ad-d2b8"
      }
     ],
     "next": "7d4667d8-9ad2-11ec-a1da-0242ac120004-6-a6ec-7d37-9d48-d456-1d97-02ec",
     "previous": "ee316f34-9ad1-11ec-a1da-0242ac120004-6-970e-98f5-f648-23ad-d2b8-4d5c"
    }
   },
   "outputs": [],
   "source": [
    "!ansible -i $hosts -b -m shell -a \"vgdisplay\" ceph_node"
   ]
  },
  {
   "cell_type": "code",
   "execution_count": null,
   "metadata": {
    "lc_cell_meme": {
     "current": "7d4667d8-9ad2-11ec-a1da-0242ac120004-6-a6ec-7d37-9d48-d456-1d97-02ec",
     "history": [
      {
       "current": "7d4667d8-9ad2-11ec-a1da-0242ac120004-1-a6ec",
       "next": "3ad4964a-9a14-11ec-a1da-0242ac120004-1-dcb4",
       "previous": "35c597bc-9ad2-11ec-a1da-0242ac120004"
      },
      {
       "current": "7d4667d8-9ad2-11ec-a1da-0242ac120004-2-a6ec-7d37",
       "next": "3ad4964a-9a14-11ec-a1da-0242ac120004-2-dcb4-63b3",
       "previous": "35c597bc-9ad2-11ec-a1da-0242ac120004-1-dd96"
      },
      {
       "current": "7d4667d8-9ad2-11ec-a1da-0242ac120004-3-a6ec-7d37-9d48",
       "next": "3ad4964a-9a14-11ec-a1da-0242ac120004-3-dcb4-63b3-b9d1",
       "previous": "35c597bc-9ad2-11ec-a1da-0242ac120004-2-dd96-39d5"
      },
      {
       "current": "7d4667d8-9ad2-11ec-a1da-0242ac120004-4-a6ec-7d37-9d48-d456",
       "next": "3ad4964a-9a14-11ec-a1da-0242ac120004-4-dcb4-63b3-b9d1-e5cf",
       "previous": "35c597bc-9ad2-11ec-a1da-0242ac120004-3-dd96-39d5-4b42"
      },
      {
       "current": "7d4667d8-9ad2-11ec-a1da-0242ac120004-5-a6ec-7d37-9d48-d456-1d97",
       "next": "3ad4964a-9a14-11ec-a1da-0242ac120004-5-dcb4-63b3-b9d1-e5cf-2bf4",
       "previous": "35c597bc-9ad2-11ec-a1da-0242ac120004-4-dd96-39d5-4b42-50a3"
      },
      {
       "current": "7d4667d8-9ad2-11ec-a1da-0242ac120004-6-a6ec-7d37-9d48-d456-1d97-02ec",
       "next": "3ad4964a-9a14-11ec-a1da-0242ac120004-6-dcb4-63b3-b9d1-e5cf-2bf4-ba76",
       "previous": "35c597bc-9ad2-11ec-a1da-0242ac120004-5-dd96-39d5-4b42-50a3-29c4"
      }
     ],
     "next": "3ad4964a-9a14-11ec-a1da-0242ac120004-7-dcb4-63b3-b9d1-e5cf-2bf4-ba76-3293",
     "previous": "35c597bc-9ad2-11ec-a1da-0242ac120004-6-dd96-39d5-4b42-50a3-29c4-3cbb"
    }
   },
   "outputs": [],
   "source": [
    "!ansible -i $hosts -b -m shell -a \"pvdisplay $pv_bkl\" ceph_node"
   ]
  },
  {
   "cell_type": "markdown",
   "metadata": {
    "lc_cell_meme": {
     "current": "3ad4964a-9a14-11ec-a1da-0242ac120004-7-dcb4-63b3-b9d1-e5cf-2bf4-ba76-3293",
     "history": [
      {
       "current": "3ad4964a-9a14-11ec-a1da-0242ac120004-1-dcb4",
       "next": "3121c468-9a31-11ea-8d02-0242ac120007-1-32a3",
       "previous": "3ad4949c-9a14-11ec-a1da-0242ac120004"
      },
      {
       "current": "3ad4964a-9a14-11ec-a1da-0242ac120004-1-dcb4",
       "next": "827a5926-9a14-11ec-a1da-0242ac120004",
       "previous": "3ad4949c-9a14-11ec-a1da-0242ac120004"
      },
      {
       "current": "3ad4964a-9a14-11ec-a1da-0242ac120004-1-dcb4",
       "next": "827a5926-9a14-11ec-a1da-0242ac120004",
       "previous": "4b34b41a-9ace-11ec-a1da-0242ac120004"
      },
      {
       "current": "3ad4964a-9a14-11ec-a1da-0242ac120004-1-dcb4",
       "next": "da46e240-9ace-11ec-a1da-0242ac120004",
       "previous": "4b34b41a-9ace-11ec-a1da-0242ac120004"
      },
      {
       "current": "3ad4964a-9a14-11ec-a1da-0242ac120004-1-dcb4",
       "next": "f93650ea-9acf-11ec-a1da-0242ac120004",
       "previous": "694eb846-9acf-11ec-a1da-0242ac120004"
      },
      {
       "current": "3ad4964a-9a14-11ec-a1da-0242ac120004-1-dcb4",
       "next": "f93650ea-9acf-11ec-a1da-0242ac120004",
       "previous": "4105527c-9ad0-11ec-a1da-0242ac120004"
      },
      {
       "current": "3ad4964a-9a14-11ec-a1da-0242ac120004-1-dcb4",
       "next": "f93650ea-9acf-11ec-a1da-0242ac120004",
       "previous": "d01642c8-9ad0-11ec-a1da-0242ac120004"
      },
      {
       "current": "3ad4964a-9a14-11ec-a1da-0242ac120004-1-dcb4",
       "next": "f93650ea-9acf-11ec-a1da-0242ac120004",
       "previous": "ee316f34-9ad1-11ec-a1da-0242ac120004"
      },
      {
       "current": "3ad4964a-9a14-11ec-a1da-0242ac120004-1-dcb4",
       "next": "f93650ea-9acf-11ec-a1da-0242ac120004",
       "previous": "35c597bc-9ad2-11ec-a1da-0242ac120004"
      },
      {
       "current": "3ad4964a-9a14-11ec-a1da-0242ac120004-2-dcb4-63b3",
       "next": "f93650ea-9acf-11ec-a1da-0242ac120004",
       "previous": "7d4667d8-9ad2-11ec-a1da-0242ac120004"
      },
      {
       "current": "3ad4964a-9a14-11ec-a1da-0242ac120004-3-dcb4-63b3-b9d1",
       "next": "f93650ea-9acf-11ec-a1da-0242ac120004-1-7621",
       "previous": "7d4667d8-9ad2-11ec-a1da-0242ac120004-1-a6ec"
      },
      {
       "current": "3ad4964a-9a14-11ec-a1da-0242ac120004-4-dcb4-63b3-b9d1-e5cf",
       "next": "f93650ea-9acf-11ec-a1da-0242ac120004-2-7621-b36d",
       "previous": "7d4667d8-9ad2-11ec-a1da-0242ac120004-2-a6ec-7d37"
      },
      {
       "current": "3ad4964a-9a14-11ec-a1da-0242ac120004-5-dcb4-63b3-b9d1-e5cf-2bf4",
       "next": "f93650ea-9acf-11ec-a1da-0242ac120004-3-7621-b36d-2630",
       "previous": "7d4667d8-9ad2-11ec-a1da-0242ac120004-3-a6ec-7d37-9d48"
      },
      {
       "current": "3ad4964a-9a14-11ec-a1da-0242ac120004-6-dcb4-63b3-b9d1-e5cf-2bf4-ba76",
       "next": "f93650ea-9acf-11ec-a1da-0242ac120004-4-7621-b36d-2630-ab8b",
       "previous": "7d4667d8-9ad2-11ec-a1da-0242ac120004-4-a6ec-7d37-9d48-d456"
      },
      {
       "current": "3ad4964a-9a14-11ec-a1da-0242ac120004-7-dcb4-63b3-b9d1-e5cf-2bf4-ba76-3293",
       "next": "f93650ea-9acf-11ec-a1da-0242ac120004-5-7621-b36d-2630-ab8b-ee90",
       "previous": "7d4667d8-9ad2-11ec-a1da-0242ac120004-5-a6ec-7d37-9d48-d456-1d97"
      }
     ],
     "next": "f93650ea-9acf-11ec-a1da-0242ac120004-6-7621-b36d-2630-ab8b-ee90-6b03",
     "previous": "7d4667d8-9ad2-11ec-a1da-0242ac120004-6-a6ec-7d37-9d48-d456-1d97-02ec"
    }
   },
   "source": [
    "## DB用LV生成"
   ]
  },
  {
   "cell_type": "code",
   "execution_count": null,
   "metadata": {
    "lc_cell_meme": {
     "current": "f93650ea-9acf-11ec-a1da-0242ac120004-6-7621-b36d-2630-ab8b-ee90-6b03",
     "history": [
      {
       "current": "f93650ea-9acf-11ec-a1da-0242ac120004-1-7621",
       "next": "f93653ce-9acf-11ec-a1da-0242ac120004",
       "previous": "3ad4964a-9a14-11ec-a1da-0242ac120004-1-dcb4"
      },
      {
       "current": "f93650ea-9acf-11ec-a1da-0242ac120004-2-7621-b36d",
       "next": "f93653ce-9acf-11ec-a1da-0242ac120004-1-6e33",
       "previous": "3ad4964a-9a14-11ec-a1da-0242ac120004-2-dcb4-63b3"
      },
      {
       "current": "f93650ea-9acf-11ec-a1da-0242ac120004-3-7621-b36d-2630",
       "next": "f93653ce-9acf-11ec-a1da-0242ac120004-2-6e33-99fc",
       "previous": "3ad4964a-9a14-11ec-a1da-0242ac120004-3-dcb4-63b3-b9d1"
      },
      {
       "current": "f93650ea-9acf-11ec-a1da-0242ac120004-4-7621-b36d-2630-ab8b",
       "next": "f93653ce-9acf-11ec-a1da-0242ac120004-3-6e33-99fc-07e3",
       "previous": "3ad4964a-9a14-11ec-a1da-0242ac120004-4-dcb4-63b3-b9d1-e5cf"
      },
      {
       "current": "f93650ea-9acf-11ec-a1da-0242ac120004-5-7621-b36d-2630-ab8b-ee90",
       "next": "f93653ce-9acf-11ec-a1da-0242ac120004-4-6e33-99fc-07e3-a6fa",
       "previous": "3ad4964a-9a14-11ec-a1da-0242ac120004-5-dcb4-63b3-b9d1-e5cf-2bf4"
      },
      {
       "current": "f93650ea-9acf-11ec-a1da-0242ac120004-6-7621-b36d-2630-ab8b-ee90-6b03",
       "next": "f93653ce-9acf-11ec-a1da-0242ac120004-5-6e33-99fc-07e3-a6fa-383b",
       "previous": "3ad4964a-9a14-11ec-a1da-0242ac120004-6-dcb4-63b3-b9d1-e5cf-2bf4-ba76"
      }
     ],
     "next": "f93653ce-9acf-11ec-a1da-0242ac120004-6-6e33-99fc-07e3-a6fa-383b-8460",
     "previous": "3ad4964a-9a14-11ec-a1da-0242ac120004-7-dcb4-63b3-b9d1-e5cf-2bf4-ba76-3293"
    }
   },
   "outputs": [],
   "source": [
    "osd_num = len(block_dev_list)\n",
    "print(osd_num)"
   ]
  },
  {
   "cell_type": "code",
   "execution_count": null,
   "metadata": {
    "lc_cell_meme": {
     "current": "f93653ce-9acf-11ec-a1da-0242ac120004-6-6e33-99fc-07e3-a6fa-383b-8460",
     "history": [
      {
       "current": "f93653ce-9acf-11ec-a1da-0242ac120004-1-6e33",
       "next": "f9365586-9acf-11ec-a1da-0242ac120004",
       "previous": "f93650ea-9acf-11ec-a1da-0242ac120004"
      },
      {
       "current": "f93653ce-9acf-11ec-a1da-0242ac120004-2-6e33-99fc",
       "next": "f9365586-9acf-11ec-a1da-0242ac120004-1-4ad1",
       "previous": "f93650ea-9acf-11ec-a1da-0242ac120004-1-7621"
      },
      {
       "current": "f93653ce-9acf-11ec-a1da-0242ac120004-3-6e33-99fc-07e3",
       "next": "f9365586-9acf-11ec-a1da-0242ac120004-2-4ad1-c881",
       "previous": "f93650ea-9acf-11ec-a1da-0242ac120004-2-7621-b36d"
      },
      {
       "current": "f93653ce-9acf-11ec-a1da-0242ac120004-4-6e33-99fc-07e3-a6fa",
       "next": "f9365586-9acf-11ec-a1da-0242ac120004-3-4ad1-c881-dcc1",
       "previous": "f93650ea-9acf-11ec-a1da-0242ac120004-3-7621-b36d-2630"
      },
      {
       "current": "f93653ce-9acf-11ec-a1da-0242ac120004-5-6e33-99fc-07e3-a6fa-383b",
       "next": "f9365586-9acf-11ec-a1da-0242ac120004-4-4ad1-c881-dcc1-246a",
       "previous": "f93650ea-9acf-11ec-a1da-0242ac120004-4-7621-b36d-2630-ab8b"
      },
      {
       "current": "f93653ce-9acf-11ec-a1da-0242ac120004-6-6e33-99fc-07e3-a6fa-383b-8460",
       "next": "f9365586-9acf-11ec-a1da-0242ac120004-5-4ad1-c881-dcc1-246a-25d6",
       "previous": "f93650ea-9acf-11ec-a1da-0242ac120004-5-7621-b36d-2630-ab8b-ee90"
      }
     ],
     "next": "f9365586-9acf-11ec-a1da-0242ac120004-6-4ad1-c881-dcc1-246a-25d6-9028",
     "previous": "f93650ea-9acf-11ec-a1da-0242ac120004-6-7621-b36d-2630-ab8b-ee90-6b03"
    }
   },
   "outputs": [],
   "source": [
    "import math\n",
    "lv_size = 1.0 / osd_num * 100.0\n",
    "lv_size = math.floor(lv_size)\n",
    "print (lv_size)"
   ]
  },
  {
   "cell_type": "code",
   "execution_count": null,
   "metadata": {
    "lc_cell_meme": {
     "current": "f9365586-9acf-11ec-a1da-0242ac120004-6-4ad1-c881-dcc1-246a-25d6-9028",
     "history": [
      {
       "current": "f9365586-9acf-11ec-a1da-0242ac120004-1-4ad1",
       "next": "f93656f8-9acf-11ec-a1da-0242ac120004",
       "previous": "f93653ce-9acf-11ec-a1da-0242ac120004"
      },
      {
       "current": "f9365586-9acf-11ec-a1da-0242ac120004-2-4ad1-c881",
       "next": "f93656f8-9acf-11ec-a1da-0242ac120004-1-f7b1",
       "previous": "f93653ce-9acf-11ec-a1da-0242ac120004-1-6e33"
      },
      {
       "current": "f9365586-9acf-11ec-a1da-0242ac120004-3-4ad1-c881-dcc1",
       "next": "f93656f8-9acf-11ec-a1da-0242ac120004-2-f7b1-f823",
       "previous": "f93653ce-9acf-11ec-a1da-0242ac120004-2-6e33-99fc"
      },
      {
       "current": "f9365586-9acf-11ec-a1da-0242ac120004-4-4ad1-c881-dcc1-246a",
       "next": "f93656f8-9acf-11ec-a1da-0242ac120004-3-f7b1-f823-c5b4",
       "previous": "f93653ce-9acf-11ec-a1da-0242ac120004-3-6e33-99fc-07e3"
      },
      {
       "current": "f9365586-9acf-11ec-a1da-0242ac120004-5-4ad1-c881-dcc1-246a-25d6",
       "next": "f93656f8-9acf-11ec-a1da-0242ac120004-4-f7b1-f823-c5b4-4906",
       "previous": "f93653ce-9acf-11ec-a1da-0242ac120004-4-6e33-99fc-07e3-a6fa"
      },
      {
       "current": "f9365586-9acf-11ec-a1da-0242ac120004-6-4ad1-c881-dcc1-246a-25d6-9028",
       "next": "f93656f8-9acf-11ec-a1da-0242ac120004-5-f7b1-f823-c5b4-4906-6e30",
       "previous": "f93653ce-9acf-11ec-a1da-0242ac120004-5-6e33-99fc-07e3-a6fa-383b"
      }
     ],
     "next": "f93656f8-9acf-11ec-a1da-0242ac120004-6-f7b1-f823-c5b4-4906-6e30-4935",
     "previous": "f93653ce-9acf-11ec-a1da-0242ac120004-6-6e33-99fc-07e3-a6fa-383b-8460"
    }
   },
   "outputs": [],
   "source": [
    "for index,osd_blk in enumerate(block_dev_list):\n",
    "    osd_blk_info = ods_vl_map.get(osd_blk, {})\n",
    "    osd_blk_info['index'] = index\n",
    "    ods_vl_map[osd_blk] = osd_blk_info\n",
    "    lv_db_name = \"lv_db{}\".format(index)\n",
    "    osd_blk_info['lv_db_name'] = lv_db_name\n",
    "    osd_blk_info['vg_db_name'] = ssd_vg_name\n",
    "    lv_size_perc = \"{}%VG\".format(lv_size)\n",
    "    !ansible -i $hosts -b -m shell -a \"lvcreate -l $lv_size_perc -n $lv_db_name $ssd_vg_name\" ceph_node\n",
    "\n",
    "print(json.dumps(ods_vl_map, sort_keys=True, indent=4))"
   ]
  },
  {
   "cell_type": "code",
   "execution_count": null,
   "metadata": {
    "lc_cell_meme": {
     "current": "f93656f8-9acf-11ec-a1da-0242ac120004-6-f7b1-f823-c5b4-4906-6e30-4935",
     "history": [
      {
       "current": "f93656f8-9acf-11ec-a1da-0242ac120004-1-f7b1",
       "next": "3008894e-9ac6-11ec-a1da-0242ac120004",
       "previous": "f9365586-9acf-11ec-a1da-0242ac120004"
      },
      {
       "current": "f93656f8-9acf-11ec-a1da-0242ac120004-2-f7b1-f823",
       "next": "3008894e-9ac6-11ec-a1da-0242ac120004-1-7c1d",
       "previous": "f9365586-9acf-11ec-a1da-0242ac120004-1-4ad1"
      },
      {
       "current": "f93656f8-9acf-11ec-a1da-0242ac120004-3-f7b1-f823-c5b4",
       "next": "3008894e-9ac6-11ec-a1da-0242ac120004-2-7c1d-8229",
       "previous": "f9365586-9acf-11ec-a1da-0242ac120004-2-4ad1-c881"
      },
      {
       "current": "f93656f8-9acf-11ec-a1da-0242ac120004-4-f7b1-f823-c5b4-4906",
       "next": "3008894e-9ac6-11ec-a1da-0242ac120004-3-7c1d-8229-8276",
       "previous": "f9365586-9acf-11ec-a1da-0242ac120004-3-4ad1-c881-dcc1"
      },
      {
       "current": "f93656f8-9acf-11ec-a1da-0242ac120004-5-f7b1-f823-c5b4-4906-6e30",
       "next": "3008894e-9ac6-11ec-a1da-0242ac120004-4-7c1d-8229-8276-99f2",
       "previous": "f9365586-9acf-11ec-a1da-0242ac120004-4-4ad1-c881-dcc1-246a"
      },
      {
       "current": "f93656f8-9acf-11ec-a1da-0242ac120004-6-f7b1-f823-c5b4-4906-6e30-4935",
       "next": "3008894e-9ac6-11ec-a1da-0242ac120004-5-7c1d-8229-8276-99f2-cfef",
       "previous": "f9365586-9acf-11ec-a1da-0242ac120004-5-4ad1-c881-dcc1-246a-25d6"
      }
     ],
     "next": "3008894e-9ac6-11ec-a1da-0242ac120004-6-7c1d-8229-8276-99f2-cfef-5882",
     "previous": "f9365586-9acf-11ec-a1da-0242ac120004-6-4ad1-c881-dcc1-246a-25d6-9028"
    }
   },
   "outputs": [],
   "source": [
    "!ansible -i $hosts -b -m shell -a \"lvdisplay\" ceph_node"
   ]
  },
  {
   "cell_type": "markdown",
   "metadata": {
    "lc_cell_meme": {
     "current": "3008894e-9ac6-11ec-a1da-0242ac120004-6-7c1d-8229-8276-99f2-cfef-5882",
     "history": [
      {
       "current": "3008894e-9ac6-11ec-a1da-0242ac120004",
       "next": "30088cbe-9ac6-11ec-a1da-0242ac120004",
       "previous": "827a5d54-9a14-11ec-a1da-0242ac120004"
      },
      {
       "current": "3008894e-9ac6-11ec-a1da-0242ac120004",
       "next": "30088cbe-9ac6-11ec-a1da-0242ac120004",
       "previous": "694eb846-9acf-11ec-a1da-0242ac120004"
      },
      {
       "current": "3008894e-9ac6-11ec-a1da-0242ac120004-1-7c1d",
       "next": "30088cbe-9ac6-11ec-a1da-0242ac120004",
       "previous": "f93656f8-9acf-11ec-a1da-0242ac120004"
      },
      {
       "current": "3008894e-9ac6-11ec-a1da-0242ac120004-2-7c1d-8229",
       "next": "30088cbe-9ac6-11ec-a1da-0242ac120004-1-d5a3",
       "previous": "f93656f8-9acf-11ec-a1da-0242ac120004-1-f7b1"
      },
      {
       "current": "3008894e-9ac6-11ec-a1da-0242ac120004-3-7c1d-8229-8276",
       "next": "30088cbe-9ac6-11ec-a1da-0242ac120004-2-d5a3-6387",
       "previous": "f93656f8-9acf-11ec-a1da-0242ac120004-2-f7b1-f823"
      },
      {
       "current": "3008894e-9ac6-11ec-a1da-0242ac120004-4-7c1d-8229-8276-99f2",
       "next": "30088cbe-9ac6-11ec-a1da-0242ac120004-3-d5a3-6387-9a5b",
       "previous": "f93656f8-9acf-11ec-a1da-0242ac120004-3-f7b1-f823-c5b4"
      },
      {
       "current": "3008894e-9ac6-11ec-a1da-0242ac120004-4-7c1d-8229-8276-99f2",
       "next": "30088cbe-9ac6-11ec-a1da-0242ac120004-4-d5a3-6387-9a5b-65e7",
       "previous": "f93656f8-9acf-11ec-a1da-0242ac120004-4-f7b1-f823-c5b4-4906"
      },
      {
       "current": "3008894e-9ac6-11ec-a1da-0242ac120004-5-7c1d-8229-8276-99f2-cfef",
       "next": "97f2db06-1cc7-11ef-ad2f-0242ac120005",
       "previous": "f93656f8-9acf-11ec-a1da-0242ac120004-4-f7b1-f823-c5b4-4906"
      },
      {
       "current": "3008894e-9ac6-11ec-a1da-0242ac120004-6-7c1d-8229-8276-99f2-cfef-5882",
       "next": "97f2db06-1cc7-11ef-ad2f-0242ac120005-1-4e93",
       "previous": "f93656f8-9acf-11ec-a1da-0242ac120004-5-f7b1-f823-c5b4-4906-6e30"
      }
     ],
     "next": "97f2db06-1cc7-11ef-ad2f-0242ac120005-2-4e93-60aa",
     "previous": "f93656f8-9acf-11ec-a1da-0242ac120004-6-f7b1-f823-c5b4-4906-6e30-4935"
    }
   },
   "source": [
    "# HDD Data LV生成"
   ]
  },
  {
   "cell_type": "code",
   "execution_count": null,
   "metadata": {
    "lc_cell_meme": {
     "current": "97f2db06-1cc7-11ef-ad2f-0242ac120005-2-4e93-60aa",
     "history": [
      {
       "current": "97f2db06-1cc7-11ef-ad2f-0242ac120005-1-4e93",
       "next": "30088cbe-9ac6-11ec-a1da-0242ac120004-4-d5a3-6387-9a5b-65e7",
       "previous": "3008894e-9ac6-11ec-a1da-0242ac120004-4-7c1d-8229-8276-99f2"
      },
      {
       "current": "97f2db06-1cc7-11ef-ad2f-0242ac120005-2-4e93-60aa",
       "next": "30088cbe-9ac6-11ec-a1da-0242ac120004-5-d5a3-6387-9a5b-65e7-4d22",
       "previous": "3008894e-9ac6-11ec-a1da-0242ac120004-5-7c1d-8229-8276-99f2-cfef"
      }
     ],
     "next": "30088cbe-9ac6-11ec-a1da-0242ac120004-6-d5a3-6387-9a5b-65e7-4d22-305b",
     "previous": "3008894e-9ac6-11ec-a1da-0242ac120004-6-7c1d-8229-8276-99f2-cfef-5882"
    }
   },
   "outputs": [],
   "source": [
    "print(\"HDD Disk num = {}\".format(len(ods_vl_map)))"
   ]
  },
  {
   "cell_type": "code",
   "execution_count": null,
   "metadata": {
    "lc_cell_meme": {
     "current": "30088cbe-9ac6-11ec-a1da-0242ac120004-6-d5a3-6387-9a5b-65e7-4d22-305b",
     "history": [
      {
       "current": "30088cbe-9ac6-11ec-a1da-0242ac120004",
       "next": "3121c468-9a31-11ea-8d02-0242ac120007-1-32a3",
       "previous": "3008894e-9ac6-11ec-a1da-0242ac120004"
      },
      {
       "current": "30088cbe-9ac6-11ec-a1da-0242ac120004-1-d5a3",
       "next": "5b656492-9ad8-11ec-a1da-0242ac120004",
       "previous": "3008894e-9ac6-11ec-a1da-0242ac120004"
      },
      {
       "current": "30088cbe-9ac6-11ec-a1da-0242ac120004-2-d5a3-6387",
       "next": "5b656492-9ad8-11ec-a1da-0242ac120004-1-e013",
       "previous": "3008894e-9ac6-11ec-a1da-0242ac120004-1-7c1d"
      },
      {
       "current": "30088cbe-9ac6-11ec-a1da-0242ac120004-3-d5a3-6387-9a5b",
       "next": "5b656492-9ad8-11ec-a1da-0242ac120004-2-e013-4f08",
       "previous": "3008894e-9ac6-11ec-a1da-0242ac120004-2-7c1d-8229"
      },
      {
       "current": "30088cbe-9ac6-11ec-a1da-0242ac120004-4-d5a3-6387-9a5b-65e7",
       "next": "5b656492-9ad8-11ec-a1da-0242ac120004-3-e013-4f08-40bc",
       "previous": "3008894e-9ac6-11ec-a1da-0242ac120004-3-7c1d-8229-8276"
      },
      {
       "current": "30088cbe-9ac6-11ec-a1da-0242ac120004-4-d5a3-6387-9a5b-65e7",
       "next": "5b656492-9ad8-11ec-a1da-0242ac120004-4-e013-4f08-40bc-92d3",
       "previous": "3008894e-9ac6-11ec-a1da-0242ac120004-4-7c1d-8229-8276-99f2"
      },
      {
       "current": "30088cbe-9ac6-11ec-a1da-0242ac120004-5-d5a3-6387-9a5b-65e7-4d22",
       "next": "5b656492-9ad8-11ec-a1da-0242ac120004-4-e013-4f08-40bc-92d3",
       "previous": "97f2db06-1cc7-11ef-ad2f-0242ac120005"
      },
      {
       "current": "30088cbe-9ac6-11ec-a1da-0242ac120004-6-d5a3-6387-9a5b-65e7-4d22-305b",
       "next": "5b656492-9ad8-11ec-a1da-0242ac120004-5-e013-4f08-40bc-92d3-d860",
       "previous": "97f2db06-1cc7-11ef-ad2f-0242ac120005-1-4e93"
      }
     ],
     "next": "5b656492-9ad8-11ec-a1da-0242ac120004-6-e013-4f08-40bc-92d3-d860-8d13",
     "previous": "97f2db06-1cc7-11ef-ad2f-0242ac120005-2-4e93-60aa"
    },
    "scrolled": true
   },
   "outputs": [],
   "source": [
    "for key,val in ods_vl_map.items():\n",
    "    index = val['index']\n",
    "    osd_pv_bkl = \"/dev/{}\".format(key)\n",
    "    osd_vg_name = \"vg_data_{}\".format(index)\n",
    "    val['osd_vg_name'] = osd_vg_name\n",
    "    osd_lv_data_name = \"lv_data_{}\".format(index)\n",
    "    val['osd_lv_data_name'] = osd_lv_data_name\n",
    "    \n",
    "    !ansible -i $hosts -b -m shell -a \"pvcreate $osd_pv_bkl\" ceph_node\n",
    "    !ansible -i $hosts -b -m shell -a \"pvdisplay $osd_pv_bkl\" ceph_node\n",
    "    !ansible -i $hosts -b -m shell -a \"vgcreate $osd_vg_name $osd_pv_bkl\" ceph_node\n",
    "    !ansible -i $hosts -b -m shell -a \"lvcreate -l 100%FREE -n $osd_lv_data_name $osd_vg_name\" ceph_node\n",
    "    \n",
    "print(json.dumps(ods_vl_map, sort_keys=True, indent=4))"
   ]
  },
  {
   "cell_type": "code",
   "execution_count": null,
   "metadata": {
    "lc_cell_meme": {
     "current": "5b656492-9ad8-11ec-a1da-0242ac120004-6-e013-4f08-40bc-92d3-d860-8d13",
     "history": [
      {
       "current": "5b656492-9ad8-11ec-a1da-0242ac120004-1-e013",
       "next": "5b65680c-9ad8-11ec-a1da-0242ac120004",
       "previous": "30088cbe-9ac6-11ec-a1da-0242ac120004"
      },
      {
       "current": "5b656492-9ad8-11ec-a1da-0242ac120004-2-e013-4f08",
       "next": "5b65680c-9ad8-11ec-a1da-0242ac120004-1-f0dc",
       "previous": "30088cbe-9ac6-11ec-a1da-0242ac120004-1-d5a3"
      },
      {
       "current": "5b656492-9ad8-11ec-a1da-0242ac120004-3-e013-4f08-40bc",
       "next": "5b65680c-9ad8-11ec-a1da-0242ac120004-2-f0dc-2f43",
       "previous": "30088cbe-9ac6-11ec-a1da-0242ac120004-2-d5a3-6387"
      },
      {
       "current": "5b656492-9ad8-11ec-a1da-0242ac120004-4-e013-4f08-40bc-92d3",
       "next": "5b65680c-9ad8-11ec-a1da-0242ac120004-3-f0dc-2f43-cc9f",
       "previous": "30088cbe-9ac6-11ec-a1da-0242ac120004-3-d5a3-6387-9a5b"
      },
      {
       "current": "5b656492-9ad8-11ec-a1da-0242ac120004-5-e013-4f08-40bc-92d3-d860",
       "next": "5b65680c-9ad8-11ec-a1da-0242ac120004-4-f0dc-2f43-cc9f-6053",
       "previous": "30088cbe-9ac6-11ec-a1da-0242ac120004-4-d5a3-6387-9a5b-65e7"
      },
      {
       "current": "5b656492-9ad8-11ec-a1da-0242ac120004-6-e013-4f08-40bc-92d3-d860-8d13",
       "next": "5b65680c-9ad8-11ec-a1da-0242ac120004-5-f0dc-2f43-cc9f-6053-c451",
       "previous": "30088cbe-9ac6-11ec-a1da-0242ac120004-5-d5a3-6387-9a5b-65e7-4d22"
      }
     ],
     "next": "5b65680c-9ad8-11ec-a1da-0242ac120004-6-f0dc-2f43-cc9f-6053-c451-bcd6",
     "previous": "30088cbe-9ac6-11ec-a1da-0242ac120004-6-d5a3-6387-9a5b-65e7-4d22-305b"
    },
    "scrolled": true
   },
   "outputs": [],
   "source": [
    "!ansible -i $hosts -b -m shell -a \"vgdisplay\" ceph_node"
   ]
  },
  {
   "cell_type": "code",
   "execution_count": null,
   "metadata": {
    "lc_cell_meme": {
     "current": "5b65680c-9ad8-11ec-a1da-0242ac120004-6-f0dc-2f43-cc9f-6053-c451-bcd6",
     "history": [
      {
       "current": "5b65680c-9ad8-11ec-a1da-0242ac120004-1-f0dc",
       "next": "3121c468-9a31-11ea-8d02-0242ac120007-1-32a3",
       "previous": "5b656492-9ad8-11ec-a1da-0242ac120004"
      },
      {
       "current": "5b65680c-9ad8-11ec-a1da-0242ac120004-1-f0dc",
       "next": "3121c468-9a31-11ea-8d02-0242ac120007-2-32a3-2013",
       "previous": "5b656492-9ad8-11ec-a1da-0242ac120004-1-e013"
      },
      {
       "current": "5b65680c-9ad8-11ec-a1da-0242ac120004-2-f0dc-2f43",
       "next": "f22be07e-81e3-11ee-91d3-0242ac120006-1-5660",
       "previous": "5b656492-9ad8-11ec-a1da-0242ac120004-1-e013"
      },
      {
       "current": "5b65680c-9ad8-11ec-a1da-0242ac120004-3-f0dc-2f43-cc9f",
       "next": "f22be07e-81e3-11ee-91d3-0242ac120006-2-5660-84d0",
       "previous": "5b656492-9ad8-11ec-a1da-0242ac120004-2-e013-4f08"
      },
      {
       "current": "5b65680c-9ad8-11ec-a1da-0242ac120004-4-f0dc-2f43-cc9f-6053",
       "next": "f22be07e-81e3-11ee-91d3-0242ac120006-3-5660-84d0-f345",
       "previous": "5b656492-9ad8-11ec-a1da-0242ac120004-3-e013-4f08-40bc"
      },
      {
       "current": "5b65680c-9ad8-11ec-a1da-0242ac120004-5-f0dc-2f43-cc9f-6053-c451",
       "next": "f22be07e-81e3-11ee-91d3-0242ac120006-4-5660-84d0-f345-fd33",
       "previous": "5b656492-9ad8-11ec-a1da-0242ac120004-4-e013-4f08-40bc-92d3"
      },
      {
       "current": "5b65680c-9ad8-11ec-a1da-0242ac120004-6-f0dc-2f43-cc9f-6053-c451-bcd6",
       "next": "f22be07e-81e3-11ee-91d3-0242ac120006-5-5660-84d0-f345-fd33-e4f4",
       "previous": "5b656492-9ad8-11ec-a1da-0242ac120004-5-e013-4f08-40bc-92d3-d860"
      }
     ],
     "next": "f22be07e-81e3-11ee-91d3-0242ac120006-6-5660-84d0-f345-fd33-e4f4-7395",
     "previous": "5b656492-9ad8-11ec-a1da-0242ac120004-6-e013-4f08-40bc-92d3-d860-8d13"
    },
    "scrolled": true
   },
   "outputs": [],
   "source": [
    "!ansible -i $hosts -b -m shell -a \"lvdisplay\" ceph_node"
   ]
  },
  {
   "cell_type": "markdown",
   "metadata": {
    "lc_cell_meme": {
     "current": "f22be07e-81e3-11ee-91d3-0242ac120006-6-5660-84d0-f345-fd33-e4f4-7395",
     "history": [
      {
       "current": "f22be07e-81e3-11ee-91d3-0242ac120006",
       "next": "f22be268-81e3-11ee-91d3-0242ac120006",
       "previous": "ecc4b59c-6cae-11ee-89fa-0242ac120005"
      },
      {
       "current": "f22be07e-81e3-11ee-91d3-0242ac120006-1-5660",
       "next": "f22be268-81e3-11ee-91d3-0242ac120006-1-728b",
       "previous": "ecc4b59c-6cae-11ee-89fa-0242ac120005"
      },
      {
       "current": "f22be07e-81e3-11ee-91d3-0242ac120006-1-5660",
       "next": "f22be268-81e3-11ee-91d3-0242ac120006-2-728b-f6a6",
       "previous": "5b65680c-9ad8-11ec-a1da-0242ac120004-1-f0dc"
      },
      {
       "current": "f22be07e-81e3-11ee-91d3-0242ac120006-2-5660-84d0",
       "next": "f22be3b2-81e3-11ee-91d3-0242ac120006-2-210b-f68a",
       "previous": "5b65680c-9ad8-11ec-a1da-0242ac120004-1-f0dc"
      },
      {
       "current": "f22be07e-81e3-11ee-91d3-0242ac120006-3-5660-84d0-f345",
       "next": "f22be3b2-81e3-11ee-91d3-0242ac120006-3-210b-f68a-aea2",
       "previous": "5b65680c-9ad8-11ec-a1da-0242ac120004-2-f0dc-2f43"
      },
      {
       "current": "f22be07e-81e3-11ee-91d3-0242ac120006-4-5660-84d0-f345-fd33",
       "next": "f22be3b2-81e3-11ee-91d3-0242ac120006-4-210b-f68a-aea2-3523",
       "previous": "5b65680c-9ad8-11ec-a1da-0242ac120004-3-f0dc-2f43-cc9f"
      },
      {
       "current": "f22be07e-81e3-11ee-91d3-0242ac120006-5-5660-84d0-f345-fd33-e4f4",
       "next": "f22be3b2-81e3-11ee-91d3-0242ac120006-5-210b-f68a-aea2-3523-dc72",
       "previous": "5b65680c-9ad8-11ec-a1da-0242ac120004-4-f0dc-2f43-cc9f-6053"
      },
      {
       "current": "f22be07e-81e3-11ee-91d3-0242ac120006-6-5660-84d0-f345-fd33-e4f4-7395",
       "next": "f22be3b2-81e3-11ee-91d3-0242ac120006-6-210b-f68a-aea2-3523-dc72-1921",
       "previous": "5b65680c-9ad8-11ec-a1da-0242ac120004-5-f0dc-2f43-cc9f-6053-c451"
      }
     ],
     "next": "f22be3b2-81e3-11ee-91d3-0242ac120006-7-210b-f68a-aea2-3523-dc72-1921-857d",
     "previous": "5b65680c-9ad8-11ec-a1da-0242ac120004-6-f0dc-2f43-cc9f-6053-c451-bcd6"
    }
   },
   "source": [
    "# 作成後PV/LVM情報取得"
   ]
  },
  {
   "cell_type": "markdown",
   "metadata": {
    "lc_cell_meme": {
     "current": "f22be3b2-81e3-11ee-91d3-0242ac120006-7-210b-f68a-aea2-3523-dc72-1921-857d",
     "history": [
      {
       "current": "f22be3b2-81e3-11ee-91d3-0242ac120006-1-210b",
       "next": "f22be434-81e3-11ee-91d3-0242ac120006",
       "previous": "f22be330-81e3-11ee-91d3-0242ac120006"
      },
      {
       "current": "f22be3b2-81e3-11ee-91d3-0242ac120006-2-210b-f68a",
       "next": "39bc8e5c-81e4-11ee-91d3-0242ac120006",
       "previous": "f22be330-81e3-11ee-91d3-0242ac120006"
      },
      {
       "current": "f22be3b2-81e3-11ee-91d3-0242ac120006-2-210b-f68a",
       "next": "39bc8e5c-81e4-11ee-91d3-0242ac120006-1-bcdb",
       "previous": "f22be330-81e3-11ee-91d3-0242ac120006-1-82a5"
      },
      {
       "current": "f22be3b2-81e3-11ee-91d3-0242ac120006-3-210b-f68a-aea2",
       "next": "39bc8e5c-81e4-11ee-91d3-0242ac120006-1-bcdb",
       "previous": "f22be07e-81e3-11ee-91d3-0242ac120006-1-5660"
      },
      {
       "current": "f22be3b2-81e3-11ee-91d3-0242ac120006-4-210b-f68a-aea2-3523",
       "next": "39bc8e5c-81e4-11ee-91d3-0242ac120006-2-bcdb-efd2",
       "previous": "f22be07e-81e3-11ee-91d3-0242ac120006-2-5660-84d0"
      },
      {
       "current": "f22be3b2-81e3-11ee-91d3-0242ac120006-5-210b-f68a-aea2-3523-dc72",
       "next": "39bc8e5c-81e4-11ee-91d3-0242ac120006-3-bcdb-efd2-2e04",
       "previous": "f22be07e-81e3-11ee-91d3-0242ac120006-3-5660-84d0-f345"
      },
      {
       "current": "f22be3b2-81e3-11ee-91d3-0242ac120006-6-210b-f68a-aea2-3523-dc72-1921",
       "next": "39bc8e5c-81e4-11ee-91d3-0242ac120006-4-bcdb-efd2-2e04-c4e4",
       "previous": "f22be07e-81e3-11ee-91d3-0242ac120006-4-5660-84d0-f345-fd33"
      },
      {
       "current": "f22be3b2-81e3-11ee-91d3-0242ac120006-7-210b-f68a-aea2-3523-dc72-1921-857d",
       "next": "39bc8e5c-81e4-11ee-91d3-0242ac120006-5-bcdb-efd2-2e04-c4e4-a368",
       "previous": "f22be07e-81e3-11ee-91d3-0242ac120006-5-5660-84d0-f345-fd33-e4f4"
      }
     ],
     "next": "39bc8e5c-81e4-11ee-91d3-0242ac120006-6-bcdb-efd2-2e04-c4e4-a368-021e",
     "previous": "f22be07e-81e3-11ee-91d3-0242ac120006-6-5660-84d0-f345-fd33-e4f4-7395"
    }
   },
   "source": [
    "## PV情報取得"
   ]
  },
  {
   "cell_type": "code",
   "execution_count": null,
   "metadata": {
    "lc_cell_meme": {
     "current": "39bc8e5c-81e4-11ee-91d3-0242ac120006-6-bcdb-efd2-2e04-c4e4-a368-021e",
     "history": [
      {
       "current": "39bc8e5c-81e4-11ee-91d3-0242ac120006-1-bcdb",
       "next": "39bc9064-81e4-11ee-91d3-0242ac120006",
       "previous": "f22be3b2-81e3-11ee-91d3-0242ac120006-1-210b"
      },
      {
       "current": "39bc8e5c-81e4-11ee-91d3-0242ac120006-2-bcdb-efd2",
       "next": "39bc9064-81e4-11ee-91d3-0242ac120006-1-a09b",
       "previous": "f22be3b2-81e3-11ee-91d3-0242ac120006-2-210b-f68a"
      },
      {
       "current": "39bc8e5c-81e4-11ee-91d3-0242ac120006-3-bcdb-efd2-2e04",
       "next": "39bc9064-81e4-11ee-91d3-0242ac120006-2-a09b-13a5",
       "previous": "f22be3b2-81e3-11ee-91d3-0242ac120006-3-210b-f68a-aea2"
      },
      {
       "current": "39bc8e5c-81e4-11ee-91d3-0242ac120006-4-bcdb-efd2-2e04-c4e4",
       "next": "39bc9064-81e4-11ee-91d3-0242ac120006-3-a09b-13a5-24f4",
       "previous": "f22be3b2-81e3-11ee-91d3-0242ac120006-4-210b-f68a-aea2-3523"
      },
      {
       "current": "39bc8e5c-81e4-11ee-91d3-0242ac120006-5-bcdb-efd2-2e04-c4e4-a368",
       "next": "39bc9064-81e4-11ee-91d3-0242ac120006-4-a09b-13a5-24f4-874d",
       "previous": "f22be3b2-81e3-11ee-91d3-0242ac120006-5-210b-f68a-aea2-3523-dc72"
      },
      {
       "current": "39bc8e5c-81e4-11ee-91d3-0242ac120006-6-bcdb-efd2-2e04-c4e4-a368-021e",
       "next": "39bc9064-81e4-11ee-91d3-0242ac120006-5-a09b-13a5-24f4-874d-3c01",
       "previous": "f22be3b2-81e3-11ee-91d3-0242ac120006-6-210b-f68a-aea2-3523-dc72-1921"
      }
     ],
     "next": "39bc9064-81e4-11ee-91d3-0242ac120006-6-a09b-13a5-24f4-874d-3c01-94ba",
     "previous": "f22be3b2-81e3-11ee-91d3-0242ac120006-7-210b-f68a-aea2-3523-dc72-1921-857d"
    }
   },
   "outputs": [],
   "source": [
    "# get PV Info\n",
    "ret = !ansible -i $hosts -b -m shell -a 'pvdisplay' ceph_node\n",
    "pv_info_list = make_pv_info_list(ret)\n",
    "\n",
    "pv_info_map = {}\n",
    "for pv_info in pv_info_list:\n",
    "    vg_name = pv_info['vg_name']\n",
    "    pv_info_map[vg_name] = pv_info['pv_name']    \n",
    "    \n",
    "# get PV Info\n",
    "ret = !ansible -i $hosts -b -m shell -a 'lvdisplay' ceph_node\n",
    "lv_info_list = make_lv_info_list(ret,pv_info_map)\n",
    "\n"
   ]
  },
  {
   "cell_type": "code",
   "execution_count": null,
   "metadata": {
    "lc_cell_meme": {
     "current": "39bc9064-81e4-11ee-91d3-0242ac120006-6-a09b-13a5-24f4-874d-3c01-94ba",
     "history": [
      {
       "current": "39bc9064-81e4-11ee-91d3-0242ac120006-1-a09b",
       "next": "39bc910e-81e4-11ee-91d3-0242ac120006",
       "previous": "39bc8e5c-81e4-11ee-91d3-0242ac120006"
      },
      {
       "current": "39bc9064-81e4-11ee-91d3-0242ac120006-2-a09b-13a5",
       "next": "39bc910e-81e4-11ee-91d3-0242ac120006-1-ff49",
       "previous": "39bc8e5c-81e4-11ee-91d3-0242ac120006-1-bcdb"
      },
      {
       "current": "39bc9064-81e4-11ee-91d3-0242ac120006-3-a09b-13a5-24f4",
       "next": "39bc910e-81e4-11ee-91d3-0242ac120006-2-ff49-657e",
       "previous": "39bc8e5c-81e4-11ee-91d3-0242ac120006-2-bcdb-efd2"
      },
      {
       "current": "39bc9064-81e4-11ee-91d3-0242ac120006-4-a09b-13a5-24f4-874d",
       "next": "39bc910e-81e4-11ee-91d3-0242ac120006-3-ff49-657e-692c",
       "previous": "39bc8e5c-81e4-11ee-91d3-0242ac120006-3-bcdb-efd2-2e04"
      },
      {
       "current": "39bc9064-81e4-11ee-91d3-0242ac120006-5-a09b-13a5-24f4-874d-3c01",
       "next": "39bc910e-81e4-11ee-91d3-0242ac120006-4-ff49-657e-692c-2888",
       "previous": "39bc8e5c-81e4-11ee-91d3-0242ac120006-4-bcdb-efd2-2e04-c4e4"
      },
      {
       "current": "39bc9064-81e4-11ee-91d3-0242ac120006-6-a09b-13a5-24f4-874d-3c01-94ba",
       "next": "39bc910e-81e4-11ee-91d3-0242ac120006-5-ff49-657e-692c-2888-f26f",
       "previous": "39bc8e5c-81e4-11ee-91d3-0242ac120006-5-bcdb-efd2-2e04-c4e4-a368"
      }
     ],
     "next": "39bc910e-81e4-11ee-91d3-0242ac120006-6-ff49-657e-692c-2888-f26f-9323",
     "previous": "39bc8e5c-81e4-11ee-91d3-0242ac120006-6-bcdb-efd2-2e04-c4e4-a368-021e"
    }
   },
   "outputs": [],
   "source": [
    "pd.DataFrame(pv_info_list)"
   ]
  },
  {
   "cell_type": "code",
   "execution_count": null,
   "metadata": {
    "lc_cell_meme": {
     "current": "39bc910e-81e4-11ee-91d3-0242ac120006-6-ff49-657e-692c-2888-f26f-9323",
     "history": [
      {
       "current": "39bc910e-81e4-11ee-91d3-0242ac120006-1-ff49",
       "next": "39bc9190-81e4-11ee-91d3-0242ac120006",
       "previous": "39bc9064-81e4-11ee-91d3-0242ac120006"
      },
      {
       "current": "39bc910e-81e4-11ee-91d3-0242ac120006-2-ff49-657e",
       "next": "39bc9190-81e4-11ee-91d3-0242ac120006-1-3d03",
       "previous": "39bc9064-81e4-11ee-91d3-0242ac120006-1-a09b"
      },
      {
       "current": "39bc910e-81e4-11ee-91d3-0242ac120006-3-ff49-657e-692c",
       "next": "39bc9190-81e4-11ee-91d3-0242ac120006-2-3d03-c131",
       "previous": "39bc9064-81e4-11ee-91d3-0242ac120006-2-a09b-13a5"
      },
      {
       "current": "39bc910e-81e4-11ee-91d3-0242ac120006-4-ff49-657e-692c-2888",
       "next": "39bc9190-81e4-11ee-91d3-0242ac120006-3-3d03-c131-e2fd",
       "previous": "39bc9064-81e4-11ee-91d3-0242ac120006-3-a09b-13a5-24f4"
      },
      {
       "current": "39bc910e-81e4-11ee-91d3-0242ac120006-5-ff49-657e-692c-2888-f26f",
       "next": "39bc9190-81e4-11ee-91d3-0242ac120006-4-3d03-c131-e2fd-71ff",
       "previous": "39bc9064-81e4-11ee-91d3-0242ac120006-4-a09b-13a5-24f4-874d"
      },
      {
       "current": "39bc910e-81e4-11ee-91d3-0242ac120006-6-ff49-657e-692c-2888-f26f-9323",
       "next": "39bc9190-81e4-11ee-91d3-0242ac120006-5-3d03-c131-e2fd-71ff-6682",
       "previous": "39bc9064-81e4-11ee-91d3-0242ac120006-5-a09b-13a5-24f4-874d-3c01"
      }
     ],
     "next": "39bc9190-81e4-11ee-91d3-0242ac120006-6-3d03-c131-e2fd-71ff-6682-297c",
     "previous": "39bc9064-81e4-11ee-91d3-0242ac120006-6-a09b-13a5-24f4-874d-3c01-94ba"
    }
   },
   "outputs": [],
   "source": [
    "pd.DataFrame(lv_info_list)"
   ]
  },
  {
   "cell_type": "code",
   "execution_count": null,
   "metadata": {
    "lc_cell_meme": {
     "current": "39bc9190-81e4-11ee-91d3-0242ac120006-6-3d03-c131-e2fd-71ff-6682-297c",
     "history": [
      {
       "current": "39bc9190-81e4-11ee-91d3-0242ac120006-1-3d03",
       "next": "39bc91fe-81e4-11ee-91d3-0242ac120006",
       "previous": "39bc910e-81e4-11ee-91d3-0242ac120006"
      },
      {
       "current": "39bc9190-81e4-11ee-91d3-0242ac120006-2-3d03-c131",
       "next": "35c581ba-55a3-11e7-b0b2-00163e9c0e35-2-89bc-f9d0",
       "previous": "39bc910e-81e4-11ee-91d3-0242ac120006-1-ff49"
      },
      {
       "current": "39bc9190-81e4-11ee-91d3-0242ac120006-3-3d03-c131-e2fd",
       "next": "35c581ba-55a3-11e7-b0b2-00163e9c0e35-3-89bc-f9d0-5d36",
       "previous": "39bc910e-81e4-11ee-91d3-0242ac120006-2-ff49-657e"
      },
      {
       "current": "39bc9190-81e4-11ee-91d3-0242ac120006-4-3d03-c131-e2fd-71ff",
       "next": "35c581ba-55a3-11e7-b0b2-00163e9c0e35-4-89bc-f9d0-5d36-fe35",
       "previous": "39bc910e-81e4-11ee-91d3-0242ac120006-3-ff49-657e-692c"
      },
      {
       "current": "39bc9190-81e4-11ee-91d3-0242ac120006-5-3d03-c131-e2fd-71ff-6682",
       "next": "35c581ba-55a3-11e7-b0b2-00163e9c0e35-5-89bc-f9d0-5d36-fe35-fb93",
       "previous": "39bc910e-81e4-11ee-91d3-0242ac120006-4-ff49-657e-692c-2888"
      },
      {
       "current": "39bc9190-81e4-11ee-91d3-0242ac120006-6-3d03-c131-e2fd-71ff-6682-297c",
       "next": "35c581ba-55a3-11e7-b0b2-00163e9c0e35-6-89bc-f9d0-5d36-fe35-fb93-33b4",
       "previous": "39bc910e-81e4-11ee-91d3-0242ac120006-5-ff49-657e-692c-2888-f26f"
      }
     ],
     "next": "35c581ba-55a3-11e7-b0b2-00163e9c0e35-7-89bc-f9d0-5d36-fe35-fb93-33b4-0137",
     "previous": "39bc910e-81e4-11ee-91d3-0242ac120006-6-ff49-657e-692c-2888-f26f-9323"
    }
   },
   "outputs": [],
   "source": [
    "db_pv_name = None\n",
    "data_pv_name_list = []\n",
    "for pv_info in pv_info_list:\n",
    "    vg_name = pv_info['vg_name']\n",
    "    if vg_name == 'vg_db':\n",
    "        db_pv_name = pv_info['pv_name']\n",
    "    elif 'vg_data_' in vg_name:\n",
    "        data_pv_name_list.append(pv_info['pv_name'])\n",
    "    \n",
    "print(\"db_pv_name={}\".format(db_pv_name))\n",
    "print(\"data_pv_name_list={}\".format(data_pv_name_list))\n"
   ]
  },
  {
   "cell_type": "markdown",
   "metadata": {
    "collapsed": true,
    "lc_cell_meme": {
     "current": "35c581ba-55a3-11e7-b0b2-00163e9c0e35-7-89bc-f9d0-5d36-fe35-fb93-33b4-0137",
     "history": [
      {
       "current": "35c581ba-55a3-11e7-b0b2-00163e9c0e35",
       "next": "35c58340-55a3-11e7-b0b2-00163e9c0e35",
       "previous": "35c58034-55a3-11e7-b0b2-00163e9c0e35"
      },
      {
       "current": "35c581ba-55a3-11e7-b0b2-00163e9c0e35",
       "next": "35c58340-55a3-11e7-b0b2-00163e9c0e35",
       "previous": "35c51928-55a3-11e7-b0b2-00163e9c0e35"
      },
      {
       "current": "35c581ba-55a3-11e7-b0b2-00163e9c0e35",
       "next": "35c58340-55a3-11e7-b0b2-00163e9c0e35",
       "previous": "277a614c-47b9-11ea-a028-0242ac120005"
      },
      {
       "current": "35c581ba-55a3-11e7-b0b2-00163e9c0e35",
       "next": "35c58340-55a3-11e7-b0b2-00163e9c0e35",
       "previous": "35c51928-55a3-11e7-b0b2-00163e9c0e35"
      },
      {
       "current": "35c581ba-55a3-11e7-b0b2-00163e9c0e35",
       "next": "35c58340-55a3-11e7-b0b2-00163e9c0e35",
       "previous": "b8a85906-47b6-11ea-a028-0242ac120005"
      },
      {
       "current": "35c581ba-55a3-11e7-b0b2-00163e9c0e35",
       "next": "35c58340-55a3-11e7-b0b2-00163e9c0e35",
       "previous": "35c38fae-55a3-11e7-b0b2-00163e9c0e35"
      },
      {
       "current": "35c581ba-55a3-11e7-b0b2-00163e9c0e35",
       "next": "35c58340-55a3-11e7-b0b2-00163e9c0e35",
       "previous": "35c385a4-55a3-11e7-b0b2-00163e9c0e35"
      },
      {
       "current": "35c581ba-55a3-11e7-b0b2-00163e9c0e35",
       "next": "35c58340-55a3-11e7-b0b2-00163e9c0e35",
       "previous": "27c39180-935b-11ea-8d02-0242ac120007"
      },
      {
       "current": "35c581ba-55a3-11e7-b0b2-00163e9c0e35",
       "next": "35c58340-55a3-11e7-b0b2-00163e9c0e35",
       "previous": "35c385a4-55a3-11e7-b0b2-00163e9c0e35"
      },
      {
       "current": "35c581ba-55a3-11e7-b0b2-00163e9c0e35",
       "next": "35c58340-55a3-11e7-b0b2-00163e9c0e35",
       "previous": "b20d6ace-9684-11ea-8d02-0242ac120007"
      },
      {
       "current": "35c581ba-55a3-11e7-b0b2-00163e9c0e35",
       "next": "35c58340-55a3-11e7-b0b2-00163e9c0e35",
       "previous": "18b837c6-9686-11ea-8d02-0242ac120007"
      },
      {
       "current": "35c581ba-55a3-11e7-b0b2-00163e9c0e35",
       "next": "35c58340-55a3-11e7-b0b2-00163e9c0e35",
       "previous": "59de09f6-9686-11ea-8d02-0242ac120007"
      },
      {
       "current": "35c581ba-55a3-11e7-b0b2-00163e9c0e35",
       "next": "35c58340-55a3-11e7-b0b2-00163e9c0e35",
       "previous": "7dae8b30-9686-11ea-8d02-0242ac120007"
      },
      {
       "current": "35c581ba-55a3-11e7-b0b2-00163e9c0e35",
       "next": "35c58340-55a3-11e7-b0b2-00163e9c0e35",
       "previous": "789942dc-9692-11ea-8d02-0242ac120007"
      },
      {
       "current": "35c581ba-55a3-11e7-b0b2-00163e9c0e35",
       "next": "35c58340-55a3-11e7-b0b2-00163e9c0e35",
       "previous": "e95d003a-9697-11ea-8d02-0242ac120007"
      },
      {
       "current": "35c581ba-55a3-11e7-b0b2-00163e9c0e35",
       "next": "35c58340-55a3-11e7-b0b2-00163e9c0e35",
       "previous": "357fc83a-969d-11ea-8d02-0242ac120007"
      },
      {
       "current": "35c581ba-55a3-11e7-b0b2-00163e9c0e35",
       "next": "35c58340-55a3-11e7-b0b2-00163e9c0e35",
       "previous": "7dae86da-9686-11ea-8d02-0242ac120007"
      },
      {
       "current": "35c581ba-55a3-11e7-b0b2-00163e9c0e35",
       "next": "35c58340-55a3-11e7-b0b2-00163e9c0e35",
       "previous": "49102d8c-98a9-11ea-8d02-0242ac120007"
      },
      {
       "current": "35c581ba-55a3-11e7-b0b2-00163e9c0e35",
       "next": "35c58340-55a3-11e7-b0b2-00163e9c0e35",
       "previous": "dbe917aa-9984-11ea-8d02-0242ac120007"
      },
      {
       "current": "35c581ba-55a3-11e7-b0b2-00163e9c0e35",
       "next": "35c58340-55a3-11e7-b0b2-00163e9c0e35",
       "previous": "f9f7c1a0-9985-11ea-8d02-0242ac120007"
      },
      {
       "current": "35c581ba-55a3-11e7-b0b2-00163e9c0e35",
       "next": "35c58340-55a3-11e7-b0b2-00163e9c0e35",
       "previous": "4180e646-9986-11ea-8d02-0242ac120007"
      },
      {
       "current": "35c581ba-55a3-11e7-b0b2-00163e9c0e35",
       "next": "35c58340-55a3-11e7-b0b2-00163e9c0e35",
       "previous": "eea7aafc-9987-11ea-8d02-0242ac120007"
      },
      {
       "current": "35c581ba-55a3-11e7-b0b2-00163e9c0e35",
       "next": "35c58340-55a3-11e7-b0b2-00163e9c0e35",
       "previous": "7db36be6-9988-11ea-8d02-0242ac120007"
      },
      {
       "current": "35c581ba-55a3-11e7-b0b2-00163e9c0e35",
       "next": "35c58340-55a3-11e7-b0b2-00163e9c0e35",
       "previous": "7db36a7e-9988-11ea-8d02-0242ac120007"
      },
      {
       "current": "35c581ba-55a3-11e7-b0b2-00163e9c0e35",
       "next": "35c58340-55a3-11e7-b0b2-00163e9c0e35",
       "previous": "f3e7d364-998e-11ea-8d02-0242ac120007"
      },
      {
       "current": "35c581ba-55a3-11e7-b0b2-00163e9c0e35",
       "next": "35c58340-55a3-11e7-b0b2-00163e9c0e35",
       "previous": "b0a33f46-98ce-11ea-8d02-0242ac120007"
      },
      {
       "current": "35c581ba-55a3-11e7-b0b2-00163e9c0e35",
       "next": "35c58340-55a3-11e7-b0b2-00163e9c0e35",
       "previous": "752d5d50-9a60-11ea-8d02-0242ac120007"
      },
      {
       "current": "35c581ba-55a3-11e7-b0b2-00163e9c0e35",
       "next": "35c58340-55a3-11e7-b0b2-00163e9c0e35",
       "previous": "e61b1904-9a5f-11ea-8d02-0242ac120007"
      },
      {
       "current": "35c581ba-55a3-11e7-b0b2-00163e9c0e35",
       "next": "35c58340-55a3-11e7-b0b2-00163e9c0e35",
       "previous": "e61b1774-9a5f-11ea-8d02-0242ac120007"
      },
      {
       "current": "35c581ba-55a3-11e7-b0b2-00163e9c0e35-1-89bc",
       "next": "35c58340-55a3-11e7-b0b2-00163e9c0e35",
       "previous": "adc93ec4-9b1c-11ea-8d02-0242ac120007"
      },
      {
       "current": "35c581ba-55a3-11e7-b0b2-00163e9c0e35-2-89bc-f9d0",
       "next": "35c58340-55a3-11e7-b0b2-00163e9c0e35-1-38bc",
       "previous": "adc93ec4-9b1c-11ea-8d02-0242ac120007-1-9d17"
      },
      {
       "current": "35c581ba-55a3-11e7-b0b2-00163e9c0e35-2-89bc-f9d0",
       "next": "35c58340-55a3-11e7-b0b2-00163e9c0e35-2-38bc-8fc7",
       "previous": "adc93ec4-9b1c-11ea-8d02-0242ac120007-2-9d17-b208"
      },
      {
       "current": "35c581ba-55a3-11e7-b0b2-00163e9c0e35-2-89bc-f9d0",
       "next": "35c58340-55a3-11e7-b0b2-00163e9c0e35-2-38bc-8fc7",
       "previous": "cea0381c-6cad-11ee-89fa-0242ac120005"
      },
      {
       "current": "35c581ba-55a3-11e7-b0b2-00163e9c0e35-2-89bc-f9d0",
       "next": "35c58340-55a3-11e7-b0b2-00163e9c0e35-2-38bc-8fc7",
       "previous": "cea037a4-6cad-11ee-89fa-0242ac120005"
      },
      {
       "current": "35c581ba-55a3-11e7-b0b2-00163e9c0e35-2-89bc-f9d0",
       "next": "35c58340-55a3-11e7-b0b2-00163e9c0e35-2-38bc-8fc7",
       "previous": "1cc14c3a-7211-11ee-89fa-0242ac120005-1-22c6"
      },
      {
       "current": "35c581ba-55a3-11e7-b0b2-00163e9c0e35-2-89bc-f9d0",
       "next": "35c58340-55a3-11e7-b0b2-00163e9c0e35-2-38bc-8fc7",
       "previous": "abccd26e-7211-11ee-89fa-0242ac120005-1-49d0"
      },
      {
       "current": "35c581ba-55a3-11e7-b0b2-00163e9c0e35-3-89bc-f9d0-5d36",
       "next": "35c58340-55a3-11e7-b0b2-00163e9c0e35-2-38bc-8fc7",
       "previous": "39bc9190-81e4-11ee-91d3-0242ac120006-1-3d03"
      },
      {
       "current": "35c581ba-55a3-11e7-b0b2-00163e9c0e35-4-89bc-f9d0-5d36-fe35",
       "next": "35c58340-55a3-11e7-b0b2-00163e9c0e35-3-38bc-8fc7-1208",
       "previous": "39bc9190-81e4-11ee-91d3-0242ac120006-2-3d03-c131"
      },
      {
       "current": "35c581ba-55a3-11e7-b0b2-00163e9c0e35-5-89bc-f9d0-5d36-fe35-fb93",
       "next": "35c58340-55a3-11e7-b0b2-00163e9c0e35-4-38bc-8fc7-1208-928f",
       "previous": "39bc9190-81e4-11ee-91d3-0242ac120006-3-3d03-c131-e2fd"
      },
      {
       "current": "35c581ba-55a3-11e7-b0b2-00163e9c0e35-6-89bc-f9d0-5d36-fe35-fb93-33b4",
       "next": "35c58340-55a3-11e7-b0b2-00163e9c0e35-5-38bc-8fc7-1208-928f-1fdb",
       "previous": "39bc9190-81e4-11ee-91d3-0242ac120006-4-3d03-c131-e2fd-71ff"
      },
      {
       "current": "35c581ba-55a3-11e7-b0b2-00163e9c0e35-7-89bc-f9d0-5d36-fe35-fb93-33b4-0137",
       "next": "35c58340-55a3-11e7-b0b2-00163e9c0e35-6-38bc-8fc7-1208-928f-1fdb-90f7",
       "previous": "39bc9190-81e4-11ee-91d3-0242ac120006-5-3d03-c131-e2fd-71ff-6682"
      }
     ],
     "next": "35c58340-55a3-11e7-b0b2-00163e9c0e35-7-38bc-8fc7-1208-928f-1fdb-90f7-62f1",
     "previous": "39bc9190-81e4-11ee-91d3-0242ac120006-6-3d03-c131-e2fd-71ff-6682-297c"
    }
   },
   "source": [
    "# 後始末\n",
    "\n",
    "一時ディレクトリを削除する。"
   ]
  },
  {
   "cell_type": "code",
   "execution_count": null,
   "metadata": {
    "ExecuteTime": {
     "end_time": "2017-06-29T08:01:20.617274Z",
     "start_time": "2017-06-29T08:01:20.466671Z"
    },
    "lc_cell_meme": {
     "current": "35c58340-55a3-11e7-b0b2-00163e9c0e35-7-38bc-8fc7-1208-928f-1fdb-90f7-62f1",
     "history": [
      {
       "current": "35c58340-55a3-11e7-b0b2-00163e9c0e35",
       "next": null,
       "previous": "35c581ba-55a3-11e7-b0b2-00163e9c0e35"
      },
      {
       "current": "35c58340-55a3-11e7-b0b2-00163e9c0e35-1-38bc",
       "next": "c4bd8ce4-5749-11e7-b0b2-00163e9c0e35",
       "previous": "35c581ba-55a3-11e7-b0b2-00163e9c0e35"
      },
      {
       "current": "35c58340-55a3-11e7-b0b2-00163e9c0e35-2-38bc-8fc7",
       "next": "c4bd8ce4-5749-11e7-b0b2-00163e9c0e35-1-e01c",
       "previous": "35c581ba-55a3-11e7-b0b2-00163e9c0e35-1-89bc"
      },
      {
       "current": "35c58340-55a3-11e7-b0b2-00163e9c0e35-3-38bc-8fc7-1208",
       "next": "c4bd8ce4-5749-11e7-b0b2-00163e9c0e35-2-e01c-d763",
       "previous": "35c581ba-55a3-11e7-b0b2-00163e9c0e35-2-89bc-f9d0"
      },
      {
       "current": "35c58340-55a3-11e7-b0b2-00163e9c0e35-4-38bc-8fc7-1208-928f",
       "next": "c4bd8ce4-5749-11e7-b0b2-00163e9c0e35-3-e01c-d763-9c74",
       "previous": "35c581ba-55a3-11e7-b0b2-00163e9c0e35-3-89bc-f9d0-5d36"
      },
      {
       "current": "35c58340-55a3-11e7-b0b2-00163e9c0e35-5-38bc-8fc7-1208-928f-1fdb",
       "next": "c4bd8ce4-5749-11e7-b0b2-00163e9c0e35-4-e01c-d763-9c74-0005",
       "previous": "35c581ba-55a3-11e7-b0b2-00163e9c0e35-4-89bc-f9d0-5d36-fe35"
      },
      {
       "current": "35c58340-55a3-11e7-b0b2-00163e9c0e35-6-38bc-8fc7-1208-928f-1fdb-90f7",
       "next": "c4bd8ce4-5749-11e7-b0b2-00163e9c0e35-5-e01c-d763-9c74-0005-4560",
       "previous": "35c581ba-55a3-11e7-b0b2-00163e9c0e35-5-89bc-f9d0-5d36-fe35-fb93"
      },
      {
       "current": "35c58340-55a3-11e7-b0b2-00163e9c0e35-7-38bc-8fc7-1208-928f-1fdb-90f7-62f1",
       "next": "c4bd8ce4-5749-11e7-b0b2-00163e9c0e35-6-e01c-d763-9c74-0005-4560-83a3",
       "previous": "35c581ba-55a3-11e7-b0b2-00163e9c0e35-6-89bc-f9d0-5d36-fe35-fb93-33b4"
      }
     ],
     "next": "c4bd8ce4-5749-11e7-b0b2-00163e9c0e35-7-e01c-d763-9c74-0005-4560-83a3-523c",
     "previous": "35c581ba-55a3-11e7-b0b2-00163e9c0e35-7-89bc-f9d0-5d36-fe35-fb93-33b4-0137"
    }
   },
   "outputs": [],
   "source": [
    "!rm -fr $temp_dir"
   ]
  },
  {
   "cell_type": "code",
   "execution_count": null,
   "metadata": {
    "lc_cell_meme": {
     "current": "c4bd8ce4-5749-11e7-b0b2-00163e9c0e35-7-e01c-d763-9c74-0005-4560-83a3-523c",
     "history": [
      {
       "current": "c4bd8ce4-5749-11e7-b0b2-00163e9c0e35-1-e01c",
       "next": null,
       "previous": "35c58340-55a3-11e7-b0b2-00163e9c0e35"
      },
      {
       "current": "c4bd8ce4-5749-11e7-b0b2-00163e9c0e35-2-e01c-d763",
       "next": null,
       "previous": "35c58340-55a3-11e7-b0b2-00163e9c0e35-1-38bc"
      },
      {
       "current": "c4bd8ce4-5749-11e7-b0b2-00163e9c0e35-3-e01c-d763-9c74",
       "next": null,
       "previous": "35c58340-55a3-11e7-b0b2-00163e9c0e35-2-38bc-8fc7"
      },
      {
       "current": "c4bd8ce4-5749-11e7-b0b2-00163e9c0e35-4-e01c-d763-9c74-0005",
       "next": null,
       "previous": "35c58340-55a3-11e7-b0b2-00163e9c0e35-3-38bc-8fc7-1208"
      },
      {
       "current": "c4bd8ce4-5749-11e7-b0b2-00163e9c0e35-5-e01c-d763-9c74-0005-4560",
       "next": null,
       "previous": "35c58340-55a3-11e7-b0b2-00163e9c0e35-4-38bc-8fc7-1208-928f"
      },
      {
       "current": "c4bd8ce4-5749-11e7-b0b2-00163e9c0e35-6-e01c-d763-9c74-0005-4560-83a3",
       "next": null,
       "previous": "35c58340-55a3-11e7-b0b2-00163e9c0e35-5-38bc-8fc7-1208-928f-1fdb"
      },
      {
       "current": "c4bd8ce4-5749-11e7-b0b2-00163e9c0e35-7-e01c-d763-9c74-0005-4560-83a3-523c",
       "next": null,
       "previous": "35c58340-55a3-11e7-b0b2-00163e9c0e35-6-38bc-8fc7-1208-928f-1fdb-90f7"
      }
     ],
     "next": null,
     "previous": "35c58340-55a3-11e7-b0b2-00163e9c0e35-7-38bc-8fc7-1208-928f-1fdb-90f7-62f1"
    }
   },
   "outputs": [],
   "source": []
  }
 ],
 "metadata": {
  "kernelspec": {
   "display_name": "Python 3",
   "language": "python",
   "name": "python3"
  },
  "language_info": {
   "file_extension": ".py",
   "mimetype": "text/x-python",
   "name": "python",
   "nbconvert_exporter": "python",
   "pygments_lexer": "ipython3",
   "version": "3.10.4"
  },
  "lc_notebook_meme": {
   "current": "35c33086-55a3-11e7-b0b2-00163e9c0e35"
  },
  "toc": {
   "base_numbering": 1,
   "nav_menu": {
    "height": "484px",
    "width": "687px"
   },
   "number_sections": true,
   "sideBar": true,
   "skip_h1_title": false,
   "title_cell": "Table of Contents",
   "title_sidebar": "Contents",
   "toc_cell": false,
   "toc_position": {
    "height": "1156px",
    "left": "51px",
    "right": "1330px",
    "top": "111.133px",
    "width": "255px"
   },
   "toc_section_display": true,
   "toc_window_display": true
  }
 },
 "nbformat": 4,
 "nbformat_minor": 1
}
