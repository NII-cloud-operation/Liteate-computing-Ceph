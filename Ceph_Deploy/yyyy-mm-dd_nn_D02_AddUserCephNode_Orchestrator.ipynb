{
 "cells": [
  {
   "cell_type": "markdown",
   "metadata": {
    "collapsed": true,
    "lc_cell_meme": {
     "current": "35c33414-55a3-11e7-b0b2-00163e9c0e35-8-ad41-581c-aee6-46f2-e7d9-2ad7-b580-071b",
     "history": [
      {
       "current": "35c33414-55a3-11e7-b0b2-00163e9c0e35",
       "next": "35c33626-55a3-11e7-b0b2-00163e9c0e35",
       "previous": null
      },
      {
       "current": "35c33414-55a3-11e7-b0b2-00163e9c0e35",
       "next": "35c33626-55a3-11e7-b0b2-00163e9c0e35",
       "previous": null
      },
      {
       "current": "35c33414-55a3-11e7-b0b2-00163e9c0e35",
       "next": "35c33626-55a3-11e7-b0b2-00163e9c0e35",
       "previous": "0db87670-9586-11ea-8d02-0242ac120007"
      },
      {
       "current": "35c33414-55a3-11e7-b0b2-00163e9c0e35-1-ad41",
       "next": "35c337f2-55a3-11e7-b0b2-00163e9c0e35",
       "previous": null
      },
      {
       "current": "35c33414-55a3-11e7-b0b2-00163e9c0e35-2-ad41-581c",
       "next": "35c337f2-55a3-11e7-b0b2-00163e9c0e35-1-4a98",
       "previous": null
      },
      {
       "current": "35c33414-55a3-11e7-b0b2-00163e9c0e35-3-ad41-581c-aee6",
       "next": "35c337f2-55a3-11e7-b0b2-00163e9c0e35-2-4a98-4437",
       "previous": null
      },
      {
       "current": "35c33414-55a3-11e7-b0b2-00163e9c0e35-4-ad41-581c-aee6-46f2",
       "next": "35c337f2-55a3-11e7-b0b2-00163e9c0e35-3-4a98-4437-b2bb",
       "previous": null
      },
      {
       "current": "35c33414-55a3-11e7-b0b2-00163e9c0e35-5-ad41-581c-aee6-46f2-e7d9",
       "next": "35c337f2-55a3-11e7-b0b2-00163e9c0e35-4-4a98-4437-b2bb-8e64",
       "previous": null
      },
      {
       "current": "35c33414-55a3-11e7-b0b2-00163e9c0e35-6-ad41-581c-aee6-46f2-e7d9-2ad7",
       "next": "35c337f2-55a3-11e7-b0b2-00163e9c0e35-5-4a98-4437-b2bb-8e64-2de5",
       "previous": null
      },
      {
       "current": "35c33414-55a3-11e7-b0b2-00163e9c0e35-7-ad41-581c-aee6-46f2-e7d9-2ad7-b580",
       "next": "35c337f2-55a3-11e7-b0b2-00163e9c0e35-6-4a98-4437-b2bb-8e64-2de5-f6f2",
       "previous": null
      },
      {
       "current": "35c33414-55a3-11e7-b0b2-00163e9c0e35-8-ad41-581c-aee6-46f2-e7d9-2ad7-b580-071b",
       "next": "35c337f2-55a3-11e7-b0b2-00163e9c0e35-7-4a98-4437-b2bb-8e64-2de5-f6f2-789f",
       "previous": null
      }
     ],
     "next": "35c339aa-55a3-11e7-b0b2-00163e9c0e35-8-efd4-db23-6eed-9040-557d-a388-930a-dff1",
     "previous": null
    }
   },
   "source": [
    "# Cephノード構築：ストレージノードへのOrchestratorユーザ追加"
   ]
  },
  {
   "cell_type": "markdown",
   "metadata": {
    "lc_cell_meme": {
     "current": "35c339aa-55a3-11e7-b0b2-00163e9c0e35-8-efd4-db23-6eed-9040-557d-a388-930a-dff1",
     "history": [
      {
       "current": "35c339aa-55a3-11e7-b0b2-00163e9c0e35",
       "next": "35c33b6c-55a3-11e7-b0b2-00163e9c0e35",
       "previous": "35c337f2-55a3-11e7-b0b2-00163e9c0e35"
      },
      {
       "current": "35c339aa-55a3-11e7-b0b2-00163e9c0e35",
       "next": "670888aa-5722-11e7-b0b2-00163e9c0e35",
       "previous": "35c337f2-55a3-11e7-b0b2-00163e9c0e35"
      },
      {
       "current": "35c339aa-55a3-11e7-b0b2-00163e9c0e35",
       "next": "670888aa-5722-11e7-b0b2-00163e9c0e35",
       "previous": "357fc83a-969d-11ea-8d02-0242ac120007"
      },
      {
       "current": "35c339aa-55a3-11e7-b0b2-00163e9c0e35",
       "next": "670888aa-5722-11e7-b0b2-00163e9c0e35",
       "previous": "8a48dae0-98a1-11ea-8d02-0242ac120007"
      },
      {
       "current": "35c339aa-55a3-11e7-b0b2-00163e9c0e35-1-efd4",
       "next": "670888aa-5722-11e7-b0b2-00163e9c0e35",
       "previous": "357fc83a-969d-11ea-8d02-0242ac120007"
      },
      {
       "current": "35c339aa-55a3-11e7-b0b2-00163e9c0e35-2-efd4-db23",
       "next": "670888aa-5722-11e7-b0b2-00163e9c0e35-1-28a6",
       "previous": "357fc83a-969d-11ea-8d02-0242ac120007-1-4748"
      },
      {
       "current": "35c339aa-55a3-11e7-b0b2-00163e9c0e35-3-efd4-db23-6eed",
       "next": "670888aa-5722-11e7-b0b2-00163e9c0e35-2-28a6-924b",
       "previous": "357fc83a-969d-11ea-8d02-0242ac120007-2-4748-37cc"
      },
      {
       "current": "35c339aa-55a3-11e7-b0b2-00163e9c0e35-3-efd4-db23-6eed",
       "next": "670888aa-5722-11e7-b0b2-00163e9c0e35-3-28a6-924b-55f5",
       "previous": "357fc83a-969d-11ea-8d02-0242ac120007-3-4748-37cc-f9d8"
      },
      {
       "current": "35c339aa-55a3-11e7-b0b2-00163e9c0e35-4-efd4-db23-6eed-9040",
       "next": "670888aa-5722-11e7-b0b2-00163e9c0e35-3-28a6-924b-55f5",
       "previous": "35c337f2-55a3-11e7-b0b2-00163e9c0e35-3-4a98-4437-b2bb"
      },
      {
       "current": "35c339aa-55a3-11e7-b0b2-00163e9c0e35-5-efd4-db23-6eed-9040-557d",
       "next": "670888aa-5722-11e7-b0b2-00163e9c0e35-4-28a6-924b-55f5-86a6",
       "previous": "35c337f2-55a3-11e7-b0b2-00163e9c0e35-4-4a98-4437-b2bb-8e64"
      },
      {
       "current": "35c339aa-55a3-11e7-b0b2-00163e9c0e35-6-efd4-db23-6eed-9040-557d-a388",
       "next": "670888aa-5722-11e7-b0b2-00163e9c0e35-5-28a6-924b-55f5-86a6-9877",
       "previous": "35c337f2-55a3-11e7-b0b2-00163e9c0e35-5-4a98-4437-b2bb-8e64-2de5"
      },
      {
       "current": "35c339aa-55a3-11e7-b0b2-00163e9c0e35-7-efd4-db23-6eed-9040-557d-a388-930a",
       "next": "670888aa-5722-11e7-b0b2-00163e9c0e35-6-28a6-924b-55f5-86a6-9877-0610",
       "previous": "35c337f2-55a3-11e7-b0b2-00163e9c0e35-6-4a98-4437-b2bb-8e64-2de5-f6f2"
      },
      {
       "current": "35c339aa-55a3-11e7-b0b2-00163e9c0e35-8-efd4-db23-6eed-9040-557d-a388-930a-dff1",
       "next": "670888aa-5722-11e7-b0b2-00163e9c0e35-7-28a6-924b-55f5-86a6-9877-0610-ba66",
       "previous": "35c337f2-55a3-11e7-b0b2-00163e9c0e35-7-4a98-4437-b2bb-8e64-2de5-f6f2-789f"
      }
     ],
     "next": "670888aa-5722-11e7-b0b2-00163e9c0e35-8-28a6-924b-55f5-86a6-9877-0610-ba66-2575",
     "previous": "35c33414-55a3-11e7-b0b2-00163e9c0e35-8-ad41-581c-aee6-46f2-e7d9-2ad7-b580-071b"
    }
   },
   "source": [
    "# パラメータ定義"
   ]
  },
  {
   "cell_type": "markdown",
   "metadata": {
    "lc_cell_meme": {
     "current": "670888aa-5722-11e7-b0b2-00163e9c0e35-8-28a6-924b-55f5-86a6-9877-0610-ba66-2575",
     "history": [
      {
       "current": "670888aa-5722-11e7-b0b2-00163e9c0e35-1-28a6",
       "next": "35c33b6c-55a3-11e7-b0b2-00163e9c0e35",
       "previous": "35c339aa-55a3-11e7-b0b2-00163e9c0e35"
      },
      {
       "current": "670888aa-5722-11e7-b0b2-00163e9c0e35-2-28a6-924b",
       "next": "35c33b6c-55a3-11e7-b0b2-00163e9c0e35-1-7564",
       "previous": "35c339aa-55a3-11e7-b0b2-00163e9c0e35-1-efd4"
      },
      {
       "current": "670888aa-5722-11e7-b0b2-00163e9c0e35-3-28a6-924b-55f5",
       "next": "35c33b6c-55a3-11e7-b0b2-00163e9c0e35-2-7564-3303",
       "previous": "35c339aa-55a3-11e7-b0b2-00163e9c0e35-2-efd4-db23"
      },
      {
       "current": "670888aa-5722-11e7-b0b2-00163e9c0e35-4-28a6-924b-55f5-86a6",
       "next": "35c33b6c-55a3-11e7-b0b2-00163e9c0e35-3-7564-3303-4c70",
       "previous": "35c339aa-55a3-11e7-b0b2-00163e9c0e35-3-efd4-db23-6eed"
      },
      {
       "current": "670888aa-5722-11e7-b0b2-00163e9c0e35-5-28a6-924b-55f5-86a6-9877",
       "next": "35c33b6c-55a3-11e7-b0b2-00163e9c0e35-4-7564-3303-4c70-0f72",
       "previous": "35c339aa-55a3-11e7-b0b2-00163e9c0e35-4-efd4-db23-6eed-9040"
      },
      {
       "current": "670888aa-5722-11e7-b0b2-00163e9c0e35-6-28a6-924b-55f5-86a6-9877-0610",
       "next": "35c33b6c-55a3-11e7-b0b2-00163e9c0e35-5-7564-3303-4c70-0f72-8818",
       "previous": "35c339aa-55a3-11e7-b0b2-00163e9c0e35-5-efd4-db23-6eed-9040-557d"
      },
      {
       "current": "670888aa-5722-11e7-b0b2-00163e9c0e35-7-28a6-924b-55f5-86a6-9877-0610-ba66",
       "next": "35c33b6c-55a3-11e7-b0b2-00163e9c0e35-6-7564-3303-4c70-0f72-8818-400a",
       "previous": "35c339aa-55a3-11e7-b0b2-00163e9c0e35-6-efd4-db23-6eed-9040-557d-a388"
      },
      {
       "current": "670888aa-5722-11e7-b0b2-00163e9c0e35-8-28a6-924b-55f5-86a6-9877-0610-ba66-2575",
       "next": "35c33b6c-55a3-11e7-b0b2-00163e9c0e35-7-7564-3303-4c70-0f72-8818-400a-c86d",
       "previous": "35c339aa-55a3-11e7-b0b2-00163e9c0e35-7-efd4-db23-6eed-9040-557d-a388-930a"
      }
     ],
     "next": "35c33b6c-55a3-11e7-b0b2-00163e9c0e35-8-7564-3303-4c70-0f72-8818-400a-c86d-9b62",
     "previous": "35c339aa-55a3-11e7-b0b2-00163e9c0e35-8-efd4-db23-6eed-9040-557d-a388-930a-dff1"
    }
   },
   "source": [
    "## パラメータファイル設定"
   ]
  },
  {
   "cell_type": "markdown",
   "metadata": {
    "lc_cell_meme": {
     "current": "35c33b6c-55a3-11e7-b0b2-00163e9c0e35-8-7564-3303-4c70-0f72-8818-400a-c86d-9b62",
     "history": [
      {
       "current": "35c33b6c-55a3-11e7-b0b2-00163e9c0e35",
       "next": "35c33d24-55a3-11e7-b0b2-00163e9c0e35",
       "previous": "35c339aa-55a3-11e7-b0b2-00163e9c0e35"
      },
      {
       "current": "35c33b6c-55a3-11e7-b0b2-00163e9c0e35-1-7564",
       "next": "35c33d24-55a3-11e7-b0b2-00163e9c0e35",
       "previous": "670888aa-5722-11e7-b0b2-00163e9c0e35"
      },
      {
       "current": "35c33b6c-55a3-11e7-b0b2-00163e9c0e35-2-7564-3303",
       "next": "35c33d24-55a3-11e7-b0b2-00163e9c0e35-1-3325",
       "previous": "670888aa-5722-11e7-b0b2-00163e9c0e35-1-28a6"
      },
      {
       "current": "35c33b6c-55a3-11e7-b0b2-00163e9c0e35-3-7564-3303-4c70",
       "next": "35c33d24-55a3-11e7-b0b2-00163e9c0e35-2-3325-36e9",
       "previous": "670888aa-5722-11e7-b0b2-00163e9c0e35-2-28a6-924b"
      },
      {
       "current": "35c33b6c-55a3-11e7-b0b2-00163e9c0e35-4-7564-3303-4c70-0f72",
       "next": "35c33d24-55a3-11e7-b0b2-00163e9c0e35-3-3325-36e9-4431",
       "previous": "670888aa-5722-11e7-b0b2-00163e9c0e35-3-28a6-924b-55f5"
      },
      {
       "current": "35c33b6c-55a3-11e7-b0b2-00163e9c0e35-5-7564-3303-4c70-0f72-8818",
       "next": "35c33d24-55a3-11e7-b0b2-00163e9c0e35-4-3325-36e9-4431-c95c",
       "previous": "670888aa-5722-11e7-b0b2-00163e9c0e35-4-28a6-924b-55f5-86a6"
      },
      {
       "current": "35c33b6c-55a3-11e7-b0b2-00163e9c0e35-6-7564-3303-4c70-0f72-8818-400a",
       "next": "35c33d24-55a3-11e7-b0b2-00163e9c0e35-5-3325-36e9-4431-c95c-d993",
       "previous": "670888aa-5722-11e7-b0b2-00163e9c0e35-5-28a6-924b-55f5-86a6-9877"
      },
      {
       "current": "35c33b6c-55a3-11e7-b0b2-00163e9c0e35-7-7564-3303-4c70-0f72-8818-400a-c86d",
       "next": "0e381176-1734-11ef-ad2f-0242ac120005",
       "previous": "670888aa-5722-11e7-b0b2-00163e9c0e35-6-28a6-924b-55f5-86a6-9877-0610"
      },
      {
       "current": "35c33b6c-55a3-11e7-b0b2-00163e9c0e35-8-7564-3303-4c70-0f72-8818-400a-c86d-9b62",
       "next": "0e381176-1734-11ef-ad2f-0242ac120005-1-acf7",
       "previous": "670888aa-5722-11e7-b0b2-00163e9c0e35-7-28a6-924b-55f5-86a6-9877-0610-ba66"
      }
     ],
     "next": "0e381176-1734-11ef-ad2f-0242ac120005-2-acf7-eb3f",
     "previous": "670888aa-5722-11e7-b0b2-00163e9c0e35-8-28a6-924b-55f5-86a6-9877-0610-ba66-2575"
    }
   },
   "source": [
    "OpenStackControllerクラスタの定義ファイルを指定するため、<br>\n",
    "パラメータ定義格納ディレクトリを表示する。"
   ]
  },
  {
   "cell_type": "code",
   "execution_count": null,
   "metadata": {
    "lc_cell_meme": {
     "current": "0e381176-1734-11ef-ad2f-0242ac120005-2-acf7-eb3f",
     "history": [
      {
       "current": "0e381176-1734-11ef-ad2f-0242ac120005-1-acf7",
       "next": "0e3812b6-1734-11ef-ad2f-0242ac120005",
       "previous": "35c33b6c-55a3-11e7-b0b2-00163e9c0e35-6-7564-3303-4c70-0f72-8818-400a"
      },
      {
       "current": "0e381176-1734-11ef-ad2f-0242ac120005-2-acf7-eb3f",
       "next": "0e3812b6-1734-11ef-ad2f-0242ac120005-1-eb68",
       "previous": "35c33b6c-55a3-11e7-b0b2-00163e9c0e35-7-7564-3303-4c70-0f72-8818-400a-c86d"
      }
     ],
     "next": "0e3812b6-1734-11ef-ad2f-0242ac120005-2-eb68-013e",
     "previous": "35c33b6c-55a3-11e7-b0b2-00163e9c0e35-8-7564-3303-4c70-0f72-8818-400a-c86d-9b62"
    }
   },
   "outputs": [],
   "source": [
    "!ls -p ~/notebooks/share/ | grep \"/$\""
   ]
  },
  {
   "cell_type": "code",
   "execution_count": null,
   "metadata": {
    "lc_cell_meme": {
     "current": "0e3812b6-1734-11ef-ad2f-0242ac120005-2-eb68-013e",
     "history": [
      {
       "current": "0e3812b6-1734-11ef-ad2f-0242ac120005-1-eb68",
       "next": "0e3812fc-1734-11ef-ad2f-0242ac120005",
       "previous": "0e381176-1734-11ef-ad2f-0242ac120005"
      },
      {
       "current": "0e3812b6-1734-11ef-ad2f-0242ac120005-2-eb68-013e",
       "next": "0e3812fc-1734-11ef-ad2f-0242ac120005-1-42db",
       "previous": "0e381176-1734-11ef-ad2f-0242ac120005-1-acf7"
      }
     ],
     "next": "0e3812fc-1734-11ef-ad2f-0242ac120005-2-42db-4339",
     "previous": "0e381176-1734-11ef-ad2f-0242ac120005-2-acf7-eb3f"
    }
   },
   "outputs": [],
   "source": [
    "!ls -p ~/notebooks/share/configuration"
   ]
  },
  {
   "cell_type": "code",
   "execution_count": null,
   "metadata": {
    "lc_cell_meme": {
     "current": "0e3812fc-1734-11ef-ad2f-0242ac120005-2-42db-4339",
     "history": [
      {
       "current": "0e3812fc-1734-11ef-ad2f-0242ac120005-1-42db",
       "next": "0e381324-1734-11ef-ad2f-0242ac120005",
       "previous": "0e3812b6-1734-11ef-ad2f-0242ac120005"
      },
      {
       "current": "0e3812fc-1734-11ef-ad2f-0242ac120005-2-42db-4339",
       "next": "0e381324-1734-11ef-ad2f-0242ac120005-1-dbaa",
       "previous": "0e3812b6-1734-11ef-ad2f-0242ac120005-1-eb68"
      }
     ],
     "next": "0e381324-1734-11ef-ad2f-0242ac120005-2-dbaa-081e",
     "previous": "0e3812b6-1734-11ef-ad2f-0242ac120005-2-eb68-013e"
    }
   },
   "outputs": [],
   "source": [
    "!ls -p ~/notebooks/share/configuration/ceph"
   ]
  },
  {
   "cell_type": "code",
   "execution_count": null,
   "metadata": {
    "lc_cell_meme": {
     "current": "0e381324-1734-11ef-ad2f-0242ac120005-2-dbaa-081e",
     "history": [
      {
       "current": "0e381324-1734-11ef-ad2f-0242ac120005-1-dbaa",
       "next": "0e38134c-1734-11ef-ad2f-0242ac120005",
       "previous": "0e3812fc-1734-11ef-ad2f-0242ac120005"
      },
      {
       "current": "0e381324-1734-11ef-ad2f-0242ac120005-2-dbaa-081e",
       "next": "0e38134c-1734-11ef-ad2f-0242ac120005-1-0287",
       "previous": "0e3812fc-1734-11ef-ad2f-0242ac120005-1-42db"
      }
     ],
     "next": "0e38134c-1734-11ef-ad2f-0242ac120005-2-0287-a2ce",
     "previous": "0e3812fc-1734-11ef-ad2f-0242ac120005-2-42db-4339"
    }
   },
   "outputs": [],
   "source": [
    "import sys, os.path, importlib, json, yaml\n",
    "\n",
    "config_file_name = \"ceph_admin_vm.yml\"\n",
    "config_file_path = os.path.expanduser(\"~/notebooks/share/configuration/ceph/{}\".format(config_file_name))\n",
    "with open(config_file_path) as f:\n",
    "    admin_params = yaml.safe_load(f)\n",
    "admin_params"
   ]
  },
  {
   "cell_type": "code",
   "execution_count": null,
   "metadata": {
    "lc_cell_meme": {
     "current": "0e38134c-1734-11ef-ad2f-0242ac120005-2-0287-a2ce",
     "history": [
      {
       "current": "0e38134c-1734-11ef-ad2f-0242ac120005",
       "next": "0e381374-1734-11ef-ad2f-0242ac120005",
       "previous": "0e381324-1734-11ef-ad2f-0242ac120005"
      },
      {
       "current": "0e38134c-1734-11ef-ad2f-0242ac120005-1-0287",
       "next": "73ea1f5e-1735-11ef-ad2f-0242ac120005",
       "previous": "0e381324-1734-11ef-ad2f-0242ac120005"
      },
      {
       "current": "0e38134c-1734-11ef-ad2f-0242ac120005-2-0287-a2ce",
       "next": "73ea1f5e-1735-11ef-ad2f-0242ac120005-1-7202",
       "previous": "0e381324-1734-11ef-ad2f-0242ac120005-1-dbaa"
      }
     ],
     "next": "73ea1f5e-1735-11ef-ad2f-0242ac120005-2-7202-1d0f",
     "previous": "0e381324-1734-11ef-ad2f-0242ac120005-2-dbaa-081e"
    }
   },
   "outputs": [],
   "source": [
    "target_vm_name = 'xxx-ceph-admin1'\n",
    "admin_patam = admin_params[target_vm_name]\n",
    "admin_patam"
   ]
  },
  {
   "cell_type": "code",
   "execution_count": null,
   "metadata": {
    "lc_cell_meme": {
     "current": "73ea1f5e-1735-11ef-ad2f-0242ac120005-2-7202-1d0f",
     "history": [
      {
       "current": "73ea1f5e-1735-11ef-ad2f-0242ac120005-1-7202",
       "next": "0e381374-1734-11ef-ad2f-0242ac120005",
       "previous": "0e38134c-1734-11ef-ad2f-0242ac120005"
      },
      {
       "current": "73ea1f5e-1735-11ef-ad2f-0242ac120005-2-7202-1d0f",
       "next": "0e381374-1734-11ef-ad2f-0242ac120005-1-77b0",
       "previous": "0e38134c-1734-11ef-ad2f-0242ac120005-1-0287"
      }
     ],
     "next": "0e381374-1734-11ef-ad2f-0242ac120005-2-77b0-7ba0",
     "previous": "0e38134c-1734-11ef-ad2f-0242ac120005-2-0287-a2ce"
    }
   },
   "outputs": [],
   "source": [
    "ceph_admin_ip = admin_patam['network']['provisioning']['ip']"
   ]
  },
  {
   "cell_type": "code",
   "execution_count": null,
   "metadata": {
    "lc_cell_meme": {
     "current": "0e381374-1734-11ef-ad2f-0242ac120005-2-77b0-7ba0",
     "history": [
      {
       "current": "0e381374-1734-11ef-ad2f-0242ac120005",
       "next": "0e38139c-1734-11ef-ad2f-0242ac120005",
       "previous": "0e38134c-1734-11ef-ad2f-0242ac120005"
      },
      {
       "current": "0e381374-1734-11ef-ad2f-0242ac120005-1-77b0",
       "next": "0e38139c-1734-11ef-ad2f-0242ac120005",
       "previous": "73ea1f5e-1735-11ef-ad2f-0242ac120005"
      },
      {
       "current": "0e381374-1734-11ef-ad2f-0242ac120005-2-77b0-7ba0",
       "next": "0e38139c-1734-11ef-ad2f-0242ac120005-1-9c9c",
       "previous": "73ea1f5e-1735-11ef-ad2f-0242ac120005-1-7202"
      }
     ],
     "next": "0e38139c-1734-11ef-ad2f-0242ac120005-2-9c9c-0d92",
     "previous": "73ea1f5e-1735-11ef-ad2f-0242ac120005-2-7202-1d0f"
    }
   },
   "outputs": [],
   "source": [
    "import sys, os.path, importlib, json, yaml\n",
    "\n",
    "config_file_name = \"xxx-openstack-parameter.yml\"\n",
    "config_file_path = os.path.expanduser(\"~/notebooks/share/configuration/{}\".format(config_file_name))\n",
    "with open(config_file_path) as f:\n",
    "    params = yaml.safe_load(f)\n",
    "params"
   ]
  },
  {
   "cell_type": "code",
   "execution_count": null,
   "metadata": {
    "lc_cell_meme": {
     "current": "0e38139c-1734-11ef-ad2f-0242ac120005-2-9c9c-0d92",
     "history": [
      {
       "current": "0e38139c-1734-11ef-ad2f-0242ac120005-1-9c9c",
       "next": "0e3813c4-1734-11ef-ad2f-0242ac120005",
       "previous": "0e381374-1734-11ef-ad2f-0242ac120005"
      },
      {
       "current": "0e38139c-1734-11ef-ad2f-0242ac120005-2-9c9c-0d92",
       "next": "0e3813c4-1734-11ef-ad2f-0242ac120005-1-d328",
       "previous": "0e381374-1734-11ef-ad2f-0242ac120005-1-77b0"
      }
     ],
     "next": "0e3813c4-1734-11ef-ad2f-0242ac120005-2-d328-1ab6",
     "previous": "0e381374-1734-11ef-ad2f-0242ac120005-2-77b0-7ba0"
    }
   },
   "outputs": [],
   "source": [
    "provisioning_vip = params['openstack']['provisioning_vip']\n",
    "provisioning_vip"
   ]
  },
  {
   "cell_type": "code",
   "execution_count": null,
   "metadata": {
    "lc_cell_meme": {
     "current": "0e3813c4-1734-11ef-ad2f-0242ac120005-2-d328-1ab6",
     "history": [
      {
       "current": "0e3813c4-1734-11ef-ad2f-0242ac120005",
       "next": "6708a948-5722-11e7-b0b2-00163e9c0e35-6-18e6-d875-58e1-41b8-ac0f-d568",
       "previous": "0e38139c-1734-11ef-ad2f-0242ac120005"
      },
      {
       "current": "0e3813c4-1734-11ef-ad2f-0242ac120005-1-d328",
       "next": "7f216914-7d42-11ee-89fa-0242ac120005-3-8944-4d31-8123",
       "previous": "0e38139c-1734-11ef-ad2f-0242ac120005"
      },
      {
       "current": "0e3813c4-1734-11ef-ad2f-0242ac120005-2-d328-1ab6",
       "next": "7f216914-7d42-11ee-89fa-0242ac120005-4-8944-4d31-8123-c500",
       "previous": "0e38139c-1734-11ef-ad2f-0242ac120005-1-9c9c"
      }
     ],
     "next": "7f216914-7d42-11ee-89fa-0242ac120005-5-8944-4d31-8123-c500-b9c1",
     "previous": "0e38139c-1734-11ef-ad2f-0242ac120005-2-9c9c-0d92"
    }
   },
   "outputs": [],
   "source": [
    "network_segment_controller_vip = params['network_segment_controller_vip']\n",
    "network_segment_controller_vip"
   ]
  },
  {
   "cell_type": "markdown",
   "metadata": {
    "lc_cell_meme": {
     "current": "7f216914-7d42-11ee-89fa-0242ac120005-5-8944-4d31-8123-c500-b9c1",
     "history": [
      {
       "current": "7f216914-7d42-11ee-89fa-0242ac120005-1-8944",
       "next": "7f216b1c-7d42-11ee-89fa-0242ac120005",
       "previous": "35c34cce-55a3-11e7-b0b2-00163e9c0e35-3-a2d9-3714-4cc4"
      },
      {
       "current": "7f216914-7d42-11ee-89fa-0242ac120005-2-8944-4d31",
       "next": "7f216b1c-7d42-11ee-89fa-0242ac120005-1-7855",
       "previous": "35c34cce-55a3-11e7-b0b2-00163e9c0e35-4-a2d9-3714-4cc4-304a"
      },
      {
       "current": "7f216914-7d42-11ee-89fa-0242ac120005-3-8944-4d31-8123",
       "next": "7f216b1c-7d42-11ee-89fa-0242ac120005-2-7855-48c7",
       "previous": "35c34cce-55a3-11e7-b0b2-00163e9c0e35-5-a2d9-3714-4cc4-304a-dea7"
      },
      {
       "current": "7f216914-7d42-11ee-89fa-0242ac120005-3-8944-4d31-8123",
       "next": "7f216b1c-7d42-11ee-89fa-0242ac120005-3-7855-48c7-497d",
       "previous": "35c34cce-55a3-11e7-b0b2-00163e9c0e35-6-a2d9-3714-4cc4-304a-dea7-a9bf"
      },
      {
       "current": "7f216914-7d42-11ee-89fa-0242ac120005-3-8944-4d31-8123",
       "next": "7f216b1c-7d42-11ee-89fa-0242ac120005-3-7855-48c7-497d",
       "previous": "0e3813c4-1734-11ef-ad2f-0242ac120005"
      },
      {
       "current": "7f216914-7d42-11ee-89fa-0242ac120005-4-8944-4d31-8123-c500",
       "next": "7f216bda-7d42-11ee-89fa-0242ac120005-3-5e7e-0877-9510",
       "previous": "0e3813c4-1734-11ef-ad2f-0242ac120005"
      },
      {
       "current": "7f216914-7d42-11ee-89fa-0242ac120005-5-8944-4d31-8123-c500-b9c1",
       "next": "7f216bda-7d42-11ee-89fa-0242ac120005-4-5e7e-0877-9510-455b",
       "previous": "0e3813c4-1734-11ef-ad2f-0242ac120005-1-d328"
      }
     ],
     "next": "7f216bda-7d42-11ee-89fa-0242ac120005-5-5e7e-0877-9510-455b-7f6e",
     "previous": "0e3813c4-1734-11ef-ad2f-0242ac120005-2-d328-1ab6"
    }
   },
   "source": [
    "## CephノードとストレージセグメントIPアドレス対応表の読み込み"
   ]
  },
  {
   "cell_type": "code",
   "execution_count": null,
   "metadata": {
    "lc_cell_meme": {
     "current": "7f216bda-7d42-11ee-89fa-0242ac120005-5-5e7e-0877-9510-455b-7f6e",
     "history": [
      {
       "current": "7f216bda-7d42-11ee-89fa-0242ac120005",
       "next": "7f216c2a-7d42-11ee-89fa-0242ac120005",
       "previous": "7f216b8a-7d42-11ee-89fa-0242ac120005"
      },
      {
       "current": "7f216bda-7d42-11ee-89fa-0242ac120005-1-5e7e",
       "next": "7f216c2a-7d42-11ee-89fa-0242ac120005-1-73d6",
       "previous": "7f216b8a-7d42-11ee-89fa-0242ac120005"
      },
      {
       "current": "7f216bda-7d42-11ee-89fa-0242ac120005-2-5e7e-0877",
       "next": "7f216c2a-7d42-11ee-89fa-0242ac120005-2-73d6-04ed",
       "previous": "7f216b8a-7d42-11ee-89fa-0242ac120005-1-33f1"
      },
      {
       "current": "7f216bda-7d42-11ee-89fa-0242ac120005-3-5e7e-0877-9510",
       "next": "7f216c2a-7d42-11ee-89fa-0242ac120005-3-73d6-04ed-2f92",
       "previous": "7f216b8a-7d42-11ee-89fa-0242ac120005-2-33f1-6329"
      },
      {
       "current": "7f216bda-7d42-11ee-89fa-0242ac120005-3-5e7e-0877-9510",
       "next": "7f216c2a-7d42-11ee-89fa-0242ac120005-4-73d6-04ed-2f92-4fb9",
       "previous": "7f216b8a-7d42-11ee-89fa-0242ac120005-3-33f1-6329-d72a"
      },
      {
       "current": "7f216bda-7d42-11ee-89fa-0242ac120005-4-5e7e-0877-9510-455b",
       "next": "7f216c2a-7d42-11ee-89fa-0242ac120005-4-73d6-04ed-2f92-4fb9",
       "previous": "7f216914-7d42-11ee-89fa-0242ac120005-3-8944-4d31-8123"
      },
      {
       "current": "7f216bda-7d42-11ee-89fa-0242ac120005-5-5e7e-0877-9510-455b-7f6e",
       "next": "7f216c2a-7d42-11ee-89fa-0242ac120005-5-73d6-04ed-2f92-4fb9-cd5d",
       "previous": "7f216914-7d42-11ee-89fa-0242ac120005-4-8944-4d31-8123-c500"
      }
     ],
     "next": "7f216c2a-7d42-11ee-89fa-0242ac120005-6-73d6-04ed-2f92-4fb9-cd5d-3eff",
     "previous": "7f216914-7d42-11ee-89fa-0242ac120005-5-8944-4d31-8123-c500-b9c1"
    }
   },
   "outputs": [],
   "source": [
    "import os\n",
    "import csv\n",
    "import pandas as pd\n",
    "\n",
    "instance_ip_csv_path =  os.environ['HOME'] + \"/notebooks/share/configuration/ceph/ceph_instance_ip.csv\"\n",
    "instance_ip_list = []\n",
    "instance_ip_map = {}\n",
    "\n",
    "with open(instance_ip_csv_path, 'r') as path_csv:\n",
    "    reader = csv.DictReader(path_csv)\n",
    "    \n",
    "    for record in reader:\n",
    "        instance_ip_list.append(record)\n",
    "        instance_ip_map[record['instance_name']] = record\n",
    "\n",
    "pd.DataFrame(instance_ip_list)"
   ]
  },
  {
   "cell_type": "markdown",
   "metadata": {
    "lc_cell_meme": {
     "current": "7f216c2a-7d42-11ee-89fa-0242ac120005-6-73d6-04ed-2f92-4fb9-cd5d-3eff",
     "history": [
      {
       "current": "7f216c2a-7d42-11ee-89fa-0242ac120005-1-73d6",
       "next": "7f216c7a-7d42-11ee-89fa-0242ac120005",
       "previous": "7f216bda-7d42-11ee-89fa-0242ac120005"
      },
      {
       "current": "7f216c2a-7d42-11ee-89fa-0242ac120005-2-73d6-04ed",
       "next": "c6ad4ff0-7d42-11ee-89fa-0242ac120005",
       "previous": "7f216bda-7d42-11ee-89fa-0242ac120005"
      },
      {
       "current": "7f216c2a-7d42-11ee-89fa-0242ac120005-3-73d6-04ed-2f92",
       "next": "c6ad4ff0-7d42-11ee-89fa-0242ac120005-1-537b",
       "previous": "7f216bda-7d42-11ee-89fa-0242ac120005-1-5e7e"
      },
      {
       "current": "7f216c2a-7d42-11ee-89fa-0242ac120005-4-73d6-04ed-2f92-4fb9",
       "next": "c6ad4ff0-7d42-11ee-89fa-0242ac120005-2-537b-9137",
       "previous": "7f216bda-7d42-11ee-89fa-0242ac120005-2-5e7e-0877"
      },
      {
       "current": "7f216c2a-7d42-11ee-89fa-0242ac120005-5-73d6-04ed-2f92-4fb9-cd5d",
       "next": "c6ad4ff0-7d42-11ee-89fa-0242ac120005-3-537b-9137-76e1",
       "previous": "7f216bda-7d42-11ee-89fa-0242ac120005-3-5e7e-0877-9510"
      },
      {
       "current": "7f216c2a-7d42-11ee-89fa-0242ac120005-6-73d6-04ed-2f92-4fb9-cd5d-3eff",
       "next": "c6ad4ff0-7d42-11ee-89fa-0242ac120005-4-537b-9137-76e1-2856",
       "previous": "7f216bda-7d42-11ee-89fa-0242ac120005-4-5e7e-0877-9510-455b"
      }
     ],
     "next": "c6ad4ff0-7d42-11ee-89fa-0242ac120005-5-537b-9137-76e1-2856-305b",
     "previous": "7f216bda-7d42-11ee-89fa-0242ac120005-5-5e7e-0877-9510-455b-7f6e"
    }
   },
   "source": [
    "## 作業用ディレクトリを作成する"
   ]
  },
  {
   "cell_type": "code",
   "execution_count": null,
   "metadata": {
    "lc_cell_meme": {
     "current": "c6ad4ff0-7d42-11ee-89fa-0242ac120005-5-537b-9137-76e1-2856-305b",
     "history": [
      {
       "current": "c6ad4ff0-7d42-11ee-89fa-0242ac120005-1-537b",
       "next": "c6ad5162-7d42-11ee-89fa-0242ac120005",
       "previous": "7f216c2a-7d42-11ee-89fa-0242ac120005-1-73d6"
      },
      {
       "current": "c6ad4ff0-7d42-11ee-89fa-0242ac120005-2-537b-9137",
       "next": "c6ad5162-7d42-11ee-89fa-0242ac120005-1-0d62",
       "previous": "7f216c2a-7d42-11ee-89fa-0242ac120005-2-73d6-04ed"
      },
      {
       "current": "c6ad4ff0-7d42-11ee-89fa-0242ac120005-3-537b-9137-76e1",
       "next": "c6ad5162-7d42-11ee-89fa-0242ac120005-2-0d62-c43c",
       "previous": "7f216c2a-7d42-11ee-89fa-0242ac120005-3-73d6-04ed-2f92"
      },
      {
       "current": "c6ad4ff0-7d42-11ee-89fa-0242ac120005-4-537b-9137-76e1-2856",
       "next": "c6ad5162-7d42-11ee-89fa-0242ac120005-3-0d62-c43c-e728",
       "previous": "7f216c2a-7d42-11ee-89fa-0242ac120005-4-73d6-04ed-2f92-4fb9"
      },
      {
       "current": "c6ad4ff0-7d42-11ee-89fa-0242ac120005-5-537b-9137-76e1-2856-305b",
       "next": "c6ad5162-7d42-11ee-89fa-0242ac120005-4-0d62-c43c-e728-88da",
       "previous": "7f216c2a-7d42-11ee-89fa-0242ac120005-5-73d6-04ed-2f92-4fb9-cd5d"
      }
     ],
     "next": "c6ad5162-7d42-11ee-89fa-0242ac120005-5-0d62-c43c-e728-88da-7497",
     "previous": "7f216c2a-7d42-11ee-89fa-0242ac120005-6-73d6-04ed-2f92-4fb9-cd5d-3eff"
    }
   },
   "outputs": [],
   "source": [
    "import os,tempfile\n",
    "temp_dir = tempfile.mkdtemp()\n",
    "print (temp_dir)"
   ]
  },
  {
   "cell_type": "markdown",
   "metadata": {
    "lc_cell_meme": {
     "current": "c6ad5162-7d42-11ee-89fa-0242ac120005-5-0d62-c43c-e728-88da-7497",
     "history": [
      {
       "current": "c6ad5162-7d42-11ee-89fa-0242ac120005-1-0d62",
       "next": "c6ad51ee-7d42-11ee-89fa-0242ac120005",
       "previous": "c6ad4ff0-7d42-11ee-89fa-0242ac120005"
      },
      {
       "current": "c6ad5162-7d42-11ee-89fa-0242ac120005-2-0d62-c43c",
       "next": "c6ad51ee-7d42-11ee-89fa-0242ac120005-1-6ea9",
       "previous": "c6ad4ff0-7d42-11ee-89fa-0242ac120005-1-537b"
      },
      {
       "current": "c6ad5162-7d42-11ee-89fa-0242ac120005-3-0d62-c43c-e728",
       "next": "c6ad51ee-7d42-11ee-89fa-0242ac120005-2-6ea9-1627",
       "previous": "c6ad4ff0-7d42-11ee-89fa-0242ac120005-2-537b-9137"
      },
      {
       "current": "c6ad5162-7d42-11ee-89fa-0242ac120005-4-0d62-c43c-e728-88da",
       "next": "c6ad51ee-7d42-11ee-89fa-0242ac120005-3-6ea9-1627-336d",
       "previous": "c6ad4ff0-7d42-11ee-89fa-0242ac120005-3-537b-9137-76e1"
      },
      {
       "current": "c6ad5162-7d42-11ee-89fa-0242ac120005-5-0d62-c43c-e728-88da-7497",
       "next": "c6ad51ee-7d42-11ee-89fa-0242ac120005-4-6ea9-1627-336d-0cc2",
       "previous": "c6ad4ff0-7d42-11ee-89fa-0242ac120005-4-537b-9137-76e1-2856"
      }
     ],
     "next": "c6ad51ee-7d42-11ee-89fa-0242ac120005-5-6ea9-1627-336d-0cc2-3f22",
     "previous": "c6ad4ff0-7d42-11ee-89fa-0242ac120005-5-537b-9137-76e1-2856-305b"
    }
   },
   "source": [
    "## AnsibleのInventoryファイルを作業用ディレクトリへ作成する"
   ]
  },
  {
   "cell_type": "code",
   "execution_count": null,
   "metadata": {
    "lc_cell_meme": {
     "current": "c6ad51ee-7d42-11ee-89fa-0242ac120005-5-6ea9-1627-336d-0cc2-3f22",
     "history": [
      {
       "current": "c6ad51ee-7d42-11ee-89fa-0242ac120005-1-6ea9",
       "next": "c6ad5252-7d42-11ee-89fa-0242ac120005",
       "previous": "c6ad5162-7d42-11ee-89fa-0242ac120005"
      },
      {
       "current": "c6ad51ee-7d42-11ee-89fa-0242ac120005-2-6ea9-1627",
       "next": "c6ad5252-7d42-11ee-89fa-0242ac120005-1-66ad",
       "previous": "c6ad5162-7d42-11ee-89fa-0242ac120005-1-0d62"
      },
      {
       "current": "c6ad51ee-7d42-11ee-89fa-0242ac120005-3-6ea9-1627-336d",
       "next": "c6ad5252-7d42-11ee-89fa-0242ac120005-2-66ad-6ca2",
       "previous": "c6ad5162-7d42-11ee-89fa-0242ac120005-2-0d62-c43c"
      },
      {
       "current": "c6ad51ee-7d42-11ee-89fa-0242ac120005-4-6ea9-1627-336d-0cc2",
       "next": "c6ad5252-7d42-11ee-89fa-0242ac120005-3-66ad-6ca2-d37d",
       "previous": "c6ad5162-7d42-11ee-89fa-0242ac120005-3-0d62-c43c-e728"
      },
      {
       "current": "c6ad51ee-7d42-11ee-89fa-0242ac120005-5-6ea9-1627-336d-0cc2-3f22",
       "next": "c6ad5252-7d42-11ee-89fa-0242ac120005-4-66ad-6ca2-d37d-4b64",
       "previous": "c6ad5162-7d42-11ee-89fa-0242ac120005-4-0d62-c43c-e728-88da"
      }
     ],
     "next": "c6ad5252-7d42-11ee-89fa-0242ac120005-5-66ad-6ca2-d37d-4b64-8f18",
     "previous": "c6ad5162-7d42-11ee-89fa-0242ac120005-5-0d62-c43c-e728-88da-7497"
    }
   },
   "outputs": [],
   "source": [
    "import os\n",
    "\n",
    "with open( os.path.join(temp_dir, \"hosts\"), 'w') as f:\n",
    "    f.write('''[openstack_ctl]\n",
    "{openstack_cmn}\n",
    "'''.format(openstack_cmn = provisioning_vip))\n",
    "\n",
    "hosts = temp_dir + \"/hosts\"\n",
    "!cat $hosts"
   ]
  },
  {
   "cell_type": "code",
   "execution_count": null,
   "metadata": {
    "lc_cell_meme": {
     "current": "c6ad5252-7d42-11ee-89fa-0242ac120005-5-66ad-6ca2-d37d-4b64-8f18",
     "history": [
      {
       "current": "c6ad5252-7d42-11ee-89fa-0242ac120005-1-66ad",
       "next": "c6ad52ac-7d42-11ee-89fa-0242ac120005",
       "previous": "c6ad51ee-7d42-11ee-89fa-0242ac120005"
      },
      {
       "current": "c6ad5252-7d42-11ee-89fa-0242ac120005-2-66ad-6ca2",
       "next": "c6ad52ac-7d42-11ee-89fa-0242ac120005-1-3c04",
       "previous": "c6ad51ee-7d42-11ee-89fa-0242ac120005-1-6ea9"
      },
      {
       "current": "c6ad5252-7d42-11ee-89fa-0242ac120005-3-66ad-6ca2-d37d",
       "next": "c6ad52ac-7d42-11ee-89fa-0242ac120005-2-3c04-3750",
       "previous": "c6ad51ee-7d42-11ee-89fa-0242ac120005-2-6ea9-1627"
      },
      {
       "current": "c6ad5252-7d42-11ee-89fa-0242ac120005-4-66ad-6ca2-d37d-4b64",
       "next": "c6ad52ac-7d42-11ee-89fa-0242ac120005-3-3c04-3750-0f6c",
       "previous": "c6ad51ee-7d42-11ee-89fa-0242ac120005-3-6ea9-1627-336d"
      },
      {
       "current": "c6ad5252-7d42-11ee-89fa-0242ac120005-5-66ad-6ca2-d37d-4b64-8f18",
       "next": "c6ad52ac-7d42-11ee-89fa-0242ac120005-4-3c04-3750-0f6c-9562",
       "previous": "c6ad51ee-7d42-11ee-89fa-0242ac120005-4-6ea9-1627-336d-0cc2"
      }
     ],
     "next": "c6ad52ac-7d42-11ee-89fa-0242ac120005-5-3c04-3750-0f6c-9562-b029",
     "previous": "c6ad51ee-7d42-11ee-89fa-0242ac120005-5-6ea9-1627-336d-0cc2-3f22"
    }
   },
   "outputs": [],
   "source": [
    "%env ANSIBLE_INVENTORY={hosts}"
   ]
  },
  {
   "cell_type": "markdown",
   "metadata": {
    "lc_cell_meme": {
     "current": "c6ad52ac-7d42-11ee-89fa-0242ac120005-5-3c04-3750-0f6c-9562-b029",
     "history": [
      {
       "current": "c6ad52ac-7d42-11ee-89fa-0242ac120005-1-3c04",
       "next": "c6ad5310-7d42-11ee-89fa-0242ac120005",
       "previous": "c6ad5252-7d42-11ee-89fa-0242ac120005"
      },
      {
       "current": "c6ad52ac-7d42-11ee-89fa-0242ac120005-2-3c04-3750",
       "next": "c6ad5310-7d42-11ee-89fa-0242ac120005-1-22a8",
       "previous": "c6ad5252-7d42-11ee-89fa-0242ac120005-1-66ad"
      },
      {
       "current": "c6ad52ac-7d42-11ee-89fa-0242ac120005-3-3c04-3750-0f6c",
       "next": "c6ad5310-7d42-11ee-89fa-0242ac120005-2-22a8-3320",
       "previous": "c6ad5252-7d42-11ee-89fa-0242ac120005-2-66ad-6ca2"
      },
      {
       "current": "c6ad52ac-7d42-11ee-89fa-0242ac120005-4-3c04-3750-0f6c-9562",
       "next": "c6ad5310-7d42-11ee-89fa-0242ac120005-3-22a8-3320-cf00",
       "previous": "c6ad5252-7d42-11ee-89fa-0242ac120005-3-66ad-6ca2-d37d"
      },
      {
       "current": "c6ad52ac-7d42-11ee-89fa-0242ac120005-5-3c04-3750-0f6c-9562-b029",
       "next": "c6ad5310-7d42-11ee-89fa-0242ac120005-4-22a8-3320-cf00-38c1",
       "previous": "c6ad5252-7d42-11ee-89fa-0242ac120005-4-66ad-6ca2-d37d-4b64"
      }
     ],
     "next": "c6ad5310-7d42-11ee-89fa-0242ac120005-5-22a8-3320-cf00-38c1-81cc",
     "previous": "c6ad5252-7d42-11ee-89fa-0242ac120005-5-66ad-6ca2-d37d-4b64-8f18"
    }
   },
   "source": [
    "疎通確認"
   ]
  },
  {
   "cell_type": "code",
   "execution_count": null,
   "metadata": {
    "lc_cell_meme": {
     "current": "c6ad5310-7d42-11ee-89fa-0242ac120005-5-22a8-3320-cf00-38c1-81cc",
     "history": [
      {
       "current": "c6ad5310-7d42-11ee-89fa-0242ac120005-1-22a8",
       "next": "7f216c7a-7d42-11ee-89fa-0242ac120005",
       "previous": "c6ad52ac-7d42-11ee-89fa-0242ac120005"
      },
      {
       "current": "c6ad5310-7d42-11ee-89fa-0242ac120005-2-22a8-3320",
       "next": "7f216c7a-7d42-11ee-89fa-0242ac120005-1-a0c3",
       "previous": "c6ad52ac-7d42-11ee-89fa-0242ac120005-1-3c04"
      },
      {
       "current": "c6ad5310-7d42-11ee-89fa-0242ac120005-3-22a8-3320-cf00",
       "next": "7f216c7a-7d42-11ee-89fa-0242ac120005-2-a0c3-5583",
       "previous": "c6ad52ac-7d42-11ee-89fa-0242ac120005-2-3c04-3750"
      },
      {
       "current": "c6ad5310-7d42-11ee-89fa-0242ac120005-4-22a8-3320-cf00-38c1",
       "next": "7f216c7a-7d42-11ee-89fa-0242ac120005-3-a0c3-5583-eae7",
       "previous": "c6ad52ac-7d42-11ee-89fa-0242ac120005-3-3c04-3750-0f6c"
      },
      {
       "current": "c6ad5310-7d42-11ee-89fa-0242ac120005-5-22a8-3320-cf00-38c1-81cc",
       "next": "7f216c7a-7d42-11ee-89fa-0242ac120005-4-a0c3-5583-eae7-59e2",
       "previous": "c6ad52ac-7d42-11ee-89fa-0242ac120005-4-3c04-3750-0f6c-9562"
      }
     ],
     "next": "7f216c7a-7d42-11ee-89fa-0242ac120005-5-a0c3-5583-eae7-59e2-3177",
     "previous": "c6ad52ac-7d42-11ee-89fa-0242ac120005-5-3c04-3750-0f6c-9562-b029"
    }
   },
   "outputs": [],
   "source": [
    "!ansible -m ping openstack_ctl"
   ]
  },
  {
   "cell_type": "code",
   "execution_count": null,
   "metadata": {
    "lc_cell_meme": {
     "current": "7f216c7a-7d42-11ee-89fa-0242ac120005-5-a0c3-5583-eae7-59e2-3177",
     "history": [
      {
       "current": "7f216c7a-7d42-11ee-89fa-0242ac120005",
       "next": "7f216cca-7d42-11ee-89fa-0242ac120005",
       "previous": "7f216c2a-7d42-11ee-89fa-0242ac120005"
      },
      {
       "current": "7f216c7a-7d42-11ee-89fa-0242ac120005",
       "next": "7f216cca-7d42-11ee-89fa-0242ac120005",
       "previous": "c6ad5310-7d42-11ee-89fa-0242ac120005"
      },
      {
       "current": "7f216c7a-7d42-11ee-89fa-0242ac120005-1-a0c3",
       "next": "7f216cca-7d42-11ee-89fa-0242ac120005-1-e719",
       "previous": "c6ad5310-7d42-11ee-89fa-0242ac120005"
      },
      {
       "current": "7f216c7a-7d42-11ee-89fa-0242ac120005-2-a0c3-5583",
       "next": "7f216cca-7d42-11ee-89fa-0242ac120005-2-e719-607b",
       "previous": "c6ad5310-7d42-11ee-89fa-0242ac120005-1-22a8"
      },
      {
       "current": "7f216c7a-7d42-11ee-89fa-0242ac120005-3-a0c3-5583-eae7",
       "next": "7f216cca-7d42-11ee-89fa-0242ac120005-3-e719-607b-2aef",
       "previous": "c6ad5310-7d42-11ee-89fa-0242ac120005-2-22a8-3320"
      },
      {
       "current": "7f216c7a-7d42-11ee-89fa-0242ac120005-4-a0c3-5583-eae7-59e2",
       "next": "7f216cca-7d42-11ee-89fa-0242ac120005-4-e719-607b-2aef-390c",
       "previous": "c6ad5310-7d42-11ee-89fa-0242ac120005-3-22a8-3320-cf00"
      },
      {
       "current": "7f216c7a-7d42-11ee-89fa-0242ac120005-5-a0c3-5583-eae7-59e2-3177",
       "next": "7f216cca-7d42-11ee-89fa-0242ac120005-5-e719-607b-2aef-390c-0780",
       "previous": "c6ad5310-7d42-11ee-89fa-0242ac120005-4-22a8-3320-cf00-38c1"
      }
     ],
     "next": "7f216cca-7d42-11ee-89fa-0242ac120005-6-e719-607b-2aef-390c-0780-49bc",
     "previous": "c6ad5310-7d42-11ee-89fa-0242ac120005-5-22a8-3320-cf00-38c1-81cc"
    }
   },
   "outputs": [],
   "source": [
    "!ansible -a 'hostname' openstack_ctl"
   ]
  },
  {
   "cell_type": "markdown",
   "metadata": {
    "lc_cell_meme": {
     "current": "7f216cca-7d42-11ee-89fa-0242ac120005-6-e719-607b-2aef-390c-0780-49bc",
     "history": [
      {
       "current": "7f216cca-7d42-11ee-89fa-0242ac120005-1-e719",
       "next": "7f216d1a-7d42-11ee-89fa-0242ac120005",
       "previous": "7f216c7a-7d42-11ee-89fa-0242ac120005"
      },
      {
       "current": "7f216cca-7d42-11ee-89fa-0242ac120005-2-e719-607b",
       "next": "0e398c80-7d43-11ee-89fa-0242ac120005",
       "previous": "7f216c7a-7d42-11ee-89fa-0242ac120005"
      },
      {
       "current": "7f216cca-7d42-11ee-89fa-0242ac120005-3-e719-607b-2aef",
       "next": "0e398c80-7d43-11ee-89fa-0242ac120005-1-3db3",
       "previous": "7f216c7a-7d42-11ee-89fa-0242ac120005-1-a0c3"
      },
      {
       "current": "7f216cca-7d42-11ee-89fa-0242ac120005-4-e719-607b-2aef-390c",
       "next": "0e398c80-7d43-11ee-89fa-0242ac120005-2-3db3-2c69",
       "previous": "7f216c7a-7d42-11ee-89fa-0242ac120005-2-a0c3-5583"
      },
      {
       "current": "7f216cca-7d42-11ee-89fa-0242ac120005-5-e719-607b-2aef-390c-0780",
       "next": "0e398c80-7d43-11ee-89fa-0242ac120005-3-3db3-2c69-36ab",
       "previous": "7f216c7a-7d42-11ee-89fa-0242ac120005-3-a0c3-5583-eae7"
      },
      {
       "current": "7f216cca-7d42-11ee-89fa-0242ac120005-6-e719-607b-2aef-390c-0780-49bc",
       "next": "0e398c80-7d43-11ee-89fa-0242ac120005-4-3db3-2c69-36ab-b40a",
       "previous": "7f216c7a-7d42-11ee-89fa-0242ac120005-4-a0c3-5583-eae7-59e2"
      }
     ],
     "next": "0e398c80-7d43-11ee-89fa-0242ac120005-5-3db3-2c69-36ab-b40a-9ce0",
     "previous": "7f216c7a-7d42-11ee-89fa-0242ac120005-5-a0c3-5583-eae7-59e2-3177"
    }
   },
   "source": [
    "## OpenStack用OpenRCファイル設定\n",
    "\n",
    "`xxxxxxx`プロジェクト用のOpenRCファイルを事前にダウンロードしておくこと。  "
   ]
  },
  {
   "cell_type": "code",
   "execution_count": null,
   "metadata": {
    "lc_cell_meme": {
     "current": "0e398c80-7d43-11ee-89fa-0242ac120005-5-3db3-2c69-36ab-b40a-9ce0",
     "history": [
      {
       "current": "0e398c80-7d43-11ee-89fa-0242ac120005-1-3db3",
       "next": "0e398e10-7d43-11ee-89fa-0242ac120005",
       "previous": "7f216cca-7d42-11ee-89fa-0242ac120005-1-e719"
      },
      {
       "current": "0e398c80-7d43-11ee-89fa-0242ac120005-2-3db3-2c69",
       "next": "0e398e10-7d43-11ee-89fa-0242ac120005-1-bf26",
       "previous": "7f216cca-7d42-11ee-89fa-0242ac120005-2-e719-607b"
      },
      {
       "current": "0e398c80-7d43-11ee-89fa-0242ac120005-3-3db3-2c69-36ab",
       "next": "0e398e10-7d43-11ee-89fa-0242ac120005-2-bf26-aff4",
       "previous": "7f216cca-7d42-11ee-89fa-0242ac120005-3-e719-607b-2aef"
      },
      {
       "current": "0e398c80-7d43-11ee-89fa-0242ac120005-4-3db3-2c69-36ab-b40a",
       "next": "0e398e10-7d43-11ee-89fa-0242ac120005-3-bf26-aff4-7caa",
       "previous": "7f216cca-7d42-11ee-89fa-0242ac120005-4-e719-607b-2aef-390c"
      },
      {
       "current": "0e398c80-7d43-11ee-89fa-0242ac120005-5-3db3-2c69-36ab-b40a-9ce0",
       "next": "0e398e10-7d43-11ee-89fa-0242ac120005-4-bf26-aff4-7caa-ebc9",
       "previous": "7f216cca-7d42-11ee-89fa-0242ac120005-5-e719-607b-2aef-390c-0780"
      }
     ],
     "next": "0e398e10-7d43-11ee-89fa-0242ac120005-5-bf26-aff4-7caa-ebc9-0aef",
     "previous": "7f216cca-7d42-11ee-89fa-0242ac120005-6-e719-607b-2aef-390c-0780-49bc"
    }
   },
   "outputs": [],
   "source": [
    "import os\n",
    "\n",
    "user_creds = os.path.expanduser('~/.keys/xxxxxxx-openrc.sh')\n",
    "\n",
    "assert os.path.exists(user_creds), '{} is not exist'.format(user_creds)"
   ]
  },
  {
   "cell_type": "code",
   "execution_count": null,
   "metadata": {
    "lc_cell_meme": {
     "current": "0e398e10-7d43-11ee-89fa-0242ac120005-5-bf26-aff4-7caa-ebc9-0aef",
     "history": [
      {
       "current": "0e398e10-7d43-11ee-89fa-0242ac120005-1-bf26",
       "next": "0e398ea6-7d43-11ee-89fa-0242ac120005",
       "previous": "0e398c80-7d43-11ee-89fa-0242ac120005"
      },
      {
       "current": "0e398e10-7d43-11ee-89fa-0242ac120005-2-bf26-aff4",
       "next": "0e398ea6-7d43-11ee-89fa-0242ac120005-1-b970",
       "previous": "0e398c80-7d43-11ee-89fa-0242ac120005-1-3db3"
      },
      {
       "current": "0e398e10-7d43-11ee-89fa-0242ac120005-3-bf26-aff4-7caa",
       "next": "0e398ea6-7d43-11ee-89fa-0242ac120005-2-b970-3183",
       "previous": "0e398c80-7d43-11ee-89fa-0242ac120005-2-3db3-2c69"
      },
      {
       "current": "0e398e10-7d43-11ee-89fa-0242ac120005-4-bf26-aff4-7caa-ebc9",
       "next": "0e398ea6-7d43-11ee-89fa-0242ac120005-3-b970-3183-7ef5",
       "previous": "0e398c80-7d43-11ee-89fa-0242ac120005-3-3db3-2c69-36ab"
      },
      {
       "current": "0e398e10-7d43-11ee-89fa-0242ac120005-5-bf26-aff4-7caa-ebc9-0aef",
       "next": "0e398ea6-7d43-11ee-89fa-0242ac120005-4-b970-3183-7ef5-14cd",
       "previous": "0e398c80-7d43-11ee-89fa-0242ac120005-4-3db3-2c69-36ab-b40a"
      }
     ],
     "next": "0e398ea6-7d43-11ee-89fa-0242ac120005-5-b970-3183-7ef5-14cd-79c1",
     "previous": "0e398c80-7d43-11ee-89fa-0242ac120005-5-3db3-2c69-36ab-b40a-9ce0"
    }
   },
   "outputs": [],
   "source": [
    "%env USER_CREDS={user_creds}"
   ]
  },
  {
   "cell_type": "code",
   "execution_count": null,
   "metadata": {
    "lc_cell_meme": {
     "current": "0e398ea6-7d43-11ee-89fa-0242ac120005-5-b970-3183-7ef5-14cd-79c1",
     "history": [
      {
       "current": "0e398ea6-7d43-11ee-89fa-0242ac120005-1-b970",
       "next": "0e398f1e-7d43-11ee-89fa-0242ac120005",
       "previous": "0e398e10-7d43-11ee-89fa-0242ac120005"
      },
      {
       "current": "0e398ea6-7d43-11ee-89fa-0242ac120005-2-b970-3183",
       "next": "0e398f1e-7d43-11ee-89fa-0242ac120005-1-9404",
       "previous": "0e398e10-7d43-11ee-89fa-0242ac120005-1-bf26"
      },
      {
       "current": "0e398ea6-7d43-11ee-89fa-0242ac120005-3-b970-3183-7ef5",
       "next": "0e398f1e-7d43-11ee-89fa-0242ac120005-2-9404-25b6",
       "previous": "0e398e10-7d43-11ee-89fa-0242ac120005-2-bf26-aff4"
      },
      {
       "current": "0e398ea6-7d43-11ee-89fa-0242ac120005-4-b970-3183-7ef5-14cd",
       "next": "0e398f1e-7d43-11ee-89fa-0242ac120005-3-9404-25b6-4954",
       "previous": "0e398e10-7d43-11ee-89fa-0242ac120005-3-bf26-aff4-7caa"
      },
      {
       "current": "0e398ea6-7d43-11ee-89fa-0242ac120005-5-b970-3183-7ef5-14cd-79c1",
       "next": "0e398f1e-7d43-11ee-89fa-0242ac120005-4-9404-25b6-4954-3a24",
       "previous": "0e398e10-7d43-11ee-89fa-0242ac120005-4-bf26-aff4-7caa-ebc9"
      }
     ],
     "next": "0e398f1e-7d43-11ee-89fa-0242ac120005-5-9404-25b6-4954-3a24-d12b",
     "previous": "0e398e10-7d43-11ee-89fa-0242ac120005-5-bf26-aff4-7caa-ebc9-0aef"
    }
   },
   "outputs": [],
   "source": [
    "!ls -l {user_creds}"
   ]
  },
  {
   "cell_type": "markdown",
   "metadata": {
    "lc_cell_meme": {
     "current": "0e398f1e-7d43-11ee-89fa-0242ac120005-5-9404-25b6-4954-3a24-d12b",
     "history": [
      {
       "current": "0e398f1e-7d43-11ee-89fa-0242ac120005-1-9404",
       "next": "0e399072-7d43-11ee-89fa-0242ac120005",
       "previous": "0e398ea6-7d43-11ee-89fa-0242ac120005"
      },
      {
       "current": "0e398f1e-7d43-11ee-89fa-0242ac120005-2-9404-25b6",
       "next": "0e399072-7d43-11ee-89fa-0242ac120005-1-3f35",
       "previous": "0e398ea6-7d43-11ee-89fa-0242ac120005-1-b970"
      },
      {
       "current": "0e398f1e-7d43-11ee-89fa-0242ac120005-3-9404-25b6-4954",
       "next": "0e399072-7d43-11ee-89fa-0242ac120005-2-3f35-833d",
       "previous": "0e398ea6-7d43-11ee-89fa-0242ac120005-2-b970-3183"
      },
      {
       "current": "0e398f1e-7d43-11ee-89fa-0242ac120005-4-9404-25b6-4954-3a24",
       "next": "0e399072-7d43-11ee-89fa-0242ac120005-3-3f35-833d-a592",
       "previous": "0e398ea6-7d43-11ee-89fa-0242ac120005-3-b970-3183-7ef5"
      },
      {
       "current": "0e398f1e-7d43-11ee-89fa-0242ac120005-5-9404-25b6-4954-3a24-d12b",
       "next": "0e399072-7d43-11ee-89fa-0242ac120005-4-3f35-833d-a592-b2e3",
       "previous": "0e398ea6-7d43-11ee-89fa-0242ac120005-4-b970-3183-7ef5-14cd"
      }
     ],
     "next": "0e399072-7d43-11ee-89fa-0242ac120005-5-3f35-833d-a592-b2e3-6bb9",
     "previous": "0e398ea6-7d43-11ee-89fa-0242ac120005-5-b970-3183-7ef5-14cd-79c1"
    }
   },
   "source": [
    "## openstackコマンド用ユーティリティ関数"
   ]
  },
  {
   "cell_type": "code",
   "execution_count": null,
   "metadata": {
    "lc_cell_meme": {
     "current": "0e399072-7d43-11ee-89fa-0242ac120005-5-3f35-833d-a592-b2e3-6bb9",
     "history": [
      {
       "current": "0e399072-7d43-11ee-89fa-0242ac120005-1-3f35",
       "next": "0e3990e0-7d43-11ee-89fa-0242ac120005",
       "previous": "0e398f1e-7d43-11ee-89fa-0242ac120005"
      },
      {
       "current": "0e399072-7d43-11ee-89fa-0242ac120005-2-3f35-833d",
       "next": "0e3990e0-7d43-11ee-89fa-0242ac120005-1-0f91",
       "previous": "0e398f1e-7d43-11ee-89fa-0242ac120005-1-9404"
      },
      {
       "current": "0e399072-7d43-11ee-89fa-0242ac120005-3-3f35-833d-a592",
       "next": "0e3990e0-7d43-11ee-89fa-0242ac120005-2-0f91-ebc4",
       "previous": "0e398f1e-7d43-11ee-89fa-0242ac120005-2-9404-25b6"
      },
      {
       "current": "0e399072-7d43-11ee-89fa-0242ac120005-4-3f35-833d-a592-b2e3",
       "next": "0e3990e0-7d43-11ee-89fa-0242ac120005-3-0f91-ebc4-ce31",
       "previous": "0e398f1e-7d43-11ee-89fa-0242ac120005-3-9404-25b6-4954"
      },
      {
       "current": "0e399072-7d43-11ee-89fa-0242ac120005-5-3f35-833d-a592-b2e3-6bb9",
       "next": "0e3990e0-7d43-11ee-89fa-0242ac120005-4-0f91-ebc4-ce31-5edc",
       "previous": "0e398f1e-7d43-11ee-89fa-0242ac120005-4-9404-25b6-4954-3a24"
      }
     ],
     "next": "0e3990e0-7d43-11ee-89fa-0242ac120005-5-0f91-ebc4-ce31-5edc-2810",
     "previous": "0e398f1e-7d43-11ee-89fa-0242ac120005-5-9404-25b6-4954-3a24-d12b"
    }
   },
   "outputs": [],
   "source": [
    "def build_cmdline(param):\n",
    "    cmdline = ''\n",
    "    \n",
    "    for param_name, param_value in param.items():\n",
    "        if isinstance(param_value, dict):\n",
    "            for key, value in param_value.items():\n",
    "                cmdline += ' --{} {}={}'.format(param_name, key, value)\n",
    "        elif isinstance(param_value, list):\n",
    "            for item in param_value:\n",
    "                cmdline += ' --{} {}'.format(param_name, item)\n",
    "        elif isinstance(param_value, bool):\n",
    "            if param_value:\n",
    "                cmdline += ' --{}'.format(param_name)\n",
    "        else:\n",
    "            cmdline += ' --{} {}'.format(param_name, param_value)\n",
    "\n",
    "    return cmdline"
   ]
  },
  {
   "cell_type": "code",
   "execution_count": null,
   "metadata": {
    "lc_cell_meme": {
     "current": "0e3990e0-7d43-11ee-89fa-0242ac120005-5-0f91-ebc4-ce31-5edc-2810",
     "history": [
      {
       "current": "0e3990e0-7d43-11ee-89fa-0242ac120005-1-0f91",
       "next": "0e399144-7d43-11ee-89fa-0242ac120005",
       "previous": "0e399072-7d43-11ee-89fa-0242ac120005"
      },
      {
       "current": "0e3990e0-7d43-11ee-89fa-0242ac120005-2-0f91-ebc4",
       "next": "0e399144-7d43-11ee-89fa-0242ac120005-1-b030",
       "previous": "0e399072-7d43-11ee-89fa-0242ac120005-1-3f35"
      },
      {
       "current": "0e3990e0-7d43-11ee-89fa-0242ac120005-3-0f91-ebc4-ce31",
       "next": "0e399144-7d43-11ee-89fa-0242ac120005-2-b030-7175",
       "previous": "0e399072-7d43-11ee-89fa-0242ac120005-2-3f35-833d"
      },
      {
       "current": "0e3990e0-7d43-11ee-89fa-0242ac120005-4-0f91-ebc4-ce31-5edc",
       "next": "0e399144-7d43-11ee-89fa-0242ac120005-3-b030-7175-b893",
       "previous": "0e399072-7d43-11ee-89fa-0242ac120005-3-3f35-833d-a592"
      },
      {
       "current": "0e3990e0-7d43-11ee-89fa-0242ac120005-5-0f91-ebc4-ce31-5edc-2810",
       "next": "0e399144-7d43-11ee-89fa-0242ac120005-4-b030-7175-b893-39be",
       "previous": "0e399072-7d43-11ee-89fa-0242ac120005-4-3f35-833d-a592-b2e3"
      }
     ],
     "next": "0e399144-7d43-11ee-89fa-0242ac120005-5-b030-7175-b893-39be-44bd",
     "previous": "0e399072-7d43-11ee-89fa-0242ac120005-5-3f35-833d-a592-b2e3-6bb9"
    }
   },
   "outputs": [],
   "source": [
    "import json\n",
    "\n",
    "def run_openstack(cmd):\n",
    "    print('EXEC: {}'.format(cmd))\n",
    "    out = !source {user_creds} && {cmd}\n",
    "    print('OUTPUT: {}'.format('\\n'.join(out)))\n",
    "    return json.loads('\\n'.join(out))"
   ]
  },
  {
   "cell_type": "markdown",
   "metadata": {
    "lc_cell_meme": {
     "current": "0e399144-7d43-11ee-89fa-0242ac120005-5-b030-7175-b893-39be-44bd",
     "history": [
      {
       "current": "0e399144-7d43-11ee-89fa-0242ac120005-1-b030",
       "next": "7f216d1a-7d42-11ee-89fa-0242ac120005",
       "previous": "0e3990e0-7d43-11ee-89fa-0242ac120005"
      },
      {
       "current": "0e399144-7d43-11ee-89fa-0242ac120005-2-b030-7175",
       "next": "7f216d1a-7d42-11ee-89fa-0242ac120005-1-5f23",
       "previous": "0e3990e0-7d43-11ee-89fa-0242ac120005-1-0f91"
      },
      {
       "current": "0e399144-7d43-11ee-89fa-0242ac120005-3-b030-7175-b893",
       "next": "7f216d1a-7d42-11ee-89fa-0242ac120005-2-5f23-87c4",
       "previous": "0e3990e0-7d43-11ee-89fa-0242ac120005-2-0f91-ebc4"
      },
      {
       "current": "0e399144-7d43-11ee-89fa-0242ac120005-4-b030-7175-b893-39be",
       "next": "7f216d1a-7d42-11ee-89fa-0242ac120005-3-5f23-87c4-930d",
       "previous": "0e3990e0-7d43-11ee-89fa-0242ac120005-3-0f91-ebc4-ce31"
      },
      {
       "current": "0e399144-7d43-11ee-89fa-0242ac120005-5-b030-7175-b893-39be-44bd",
       "next": "7f216d1a-7d42-11ee-89fa-0242ac120005-4-5f23-87c4-930d-dbf3",
       "previous": "0e3990e0-7d43-11ee-89fa-0242ac120005-4-0f91-ebc4-ce31-5edc"
      }
     ],
     "next": "7f216d1a-7d42-11ee-89fa-0242ac120005-5-5f23-87c4-930d-dbf3-c5b2",
     "previous": "0e3990e0-7d43-11ee-89fa-0242ac120005-5-0f91-ebc4-ce31-5edc-2810"
    }
   },
   "source": [
    "テスト"
   ]
  },
  {
   "cell_type": "code",
   "execution_count": null,
   "metadata": {
    "lc_cell_meme": {
     "current": "7f216d1a-7d42-11ee-89fa-0242ac120005-5-5f23-87c4-930d-dbf3-c5b2",
     "history": [
      {
       "current": "7f216d1a-7d42-11ee-89fa-0242ac120005",
       "next": "7f216d6a-7d42-11ee-89fa-0242ac120005",
       "previous": "7f216cca-7d42-11ee-89fa-0242ac120005"
      },
      {
       "current": "7f216d1a-7d42-11ee-89fa-0242ac120005-1-5f23",
       "next": "0e3991a8-7d43-11ee-89fa-0242ac120005",
       "previous": "0e399144-7d43-11ee-89fa-0242ac120005"
      },
      {
       "current": "7f216d1a-7d42-11ee-89fa-0242ac120005-2-5f23-87c4",
       "next": "0e3991a8-7d43-11ee-89fa-0242ac120005-1-bf26",
       "previous": "0e399144-7d43-11ee-89fa-0242ac120005-1-b030"
      },
      {
       "current": "7f216d1a-7d42-11ee-89fa-0242ac120005-3-5f23-87c4-930d",
       "next": "0e3991a8-7d43-11ee-89fa-0242ac120005-2-bf26-7b10",
       "previous": "0e399144-7d43-11ee-89fa-0242ac120005-2-b030-7175"
      },
      {
       "current": "7f216d1a-7d42-11ee-89fa-0242ac120005-4-5f23-87c4-930d-dbf3",
       "next": "0e3991a8-7d43-11ee-89fa-0242ac120005-3-bf26-7b10-2489",
       "previous": "0e399144-7d43-11ee-89fa-0242ac120005-3-b030-7175-b893"
      },
      {
       "current": "7f216d1a-7d42-11ee-89fa-0242ac120005-5-5f23-87c4-930d-dbf3-c5b2",
       "next": "0e3991a8-7d43-11ee-89fa-0242ac120005-4-bf26-7b10-2489-84a5",
       "previous": "0e399144-7d43-11ee-89fa-0242ac120005-4-b030-7175-b893-39be"
      }
     ],
     "next": "0e3991a8-7d43-11ee-89fa-0242ac120005-5-bf26-7b10-2489-84a5-217b",
     "previous": "0e399144-7d43-11ee-89fa-0242ac120005-5-b030-7175-b893-39be-44bd"
    }
   },
   "outputs": [],
   "source": [
    "run_openstack('openstack flavor list -f json' + build_cmdline({'all': True}))"
   ]
  },
  {
   "cell_type": "markdown",
   "metadata": {
    "lc_cell_meme": {
     "current": "0e3991a8-7d43-11ee-89fa-0242ac120005-5-bf26-7b10-2489-84a5-217b",
     "history": [
      {
       "current": "0e3991a8-7d43-11ee-89fa-0242ac120005",
       "next": "0e39920c-7d43-11ee-89fa-0242ac120005",
       "previous": "7f216d1a-7d42-11ee-89fa-0242ac120005"
      },
      {
       "current": "0e3991a8-7d43-11ee-89fa-0242ac120005-1-bf26",
       "next": "0e39920c-7d43-11ee-89fa-0242ac120005-1-8643",
       "previous": "7f216d1a-7d42-11ee-89fa-0242ac120005"
      },
      {
       "current": "0e3991a8-7d43-11ee-89fa-0242ac120005-2-bf26-7b10",
       "next": "0e39920c-7d43-11ee-89fa-0242ac120005-2-8643-3d7a",
       "previous": "7f216d1a-7d42-11ee-89fa-0242ac120005-1-5f23"
      },
      {
       "current": "0e3991a8-7d43-11ee-89fa-0242ac120005-3-bf26-7b10-2489",
       "next": "0e39920c-7d43-11ee-89fa-0242ac120005-3-8643-3d7a-3f87",
       "previous": "7f216d1a-7d42-11ee-89fa-0242ac120005-2-5f23-87c4"
      },
      {
       "current": "0e3991a8-7d43-11ee-89fa-0242ac120005-4-bf26-7b10-2489-84a5",
       "next": "0e39920c-7d43-11ee-89fa-0242ac120005-4-8643-3d7a-3f87-d5ce",
       "previous": "7f216d1a-7d42-11ee-89fa-0242ac120005-3-5f23-87c4-930d"
      },
      {
       "current": "0e3991a8-7d43-11ee-89fa-0242ac120005-5-bf26-7b10-2489-84a5-217b",
       "next": "0e39920c-7d43-11ee-89fa-0242ac120005-5-8643-3d7a-3f87-d5ce-830c",
       "previous": "7f216d1a-7d42-11ee-89fa-0242ac120005-4-5f23-87c4-930d-dbf3"
      }
     ],
     "next": "0e39920c-7d43-11ee-89fa-0242ac120005-6-8643-3d7a-3f87-d5ce-830c-9c10",
     "previous": "7f216d1a-7d42-11ee-89fa-0242ac120005-5-5f23-87c4-930d-dbf3-c5b2"
    }
   },
   "source": [
    "## デプロイされたCephノード情報の取得"
   ]
  },
  {
   "cell_type": "markdown",
   "metadata": {
    "lc_cell_meme": {
     "current": "0e39920c-7d43-11ee-89fa-0242ac120005-6-8643-3d7a-3f87-d5ce-830c-9c10",
     "history": [
      {
       "current": "0e39920c-7d43-11ee-89fa-0242ac120005-2-8643-3d7a",
       "next": "0e399270-7d43-11ee-89fa-0242ac120005",
       "previous": "0e3991a8-7d43-11ee-89fa-0242ac120005"
      },
      {
       "current": "0e39920c-7d43-11ee-89fa-0242ac120005-3-8643-3d7a-3f87",
       "next": "0e399270-7d43-11ee-89fa-0242ac120005-1-dedf",
       "previous": "0e3991a8-7d43-11ee-89fa-0242ac120005-1-bf26"
      },
      {
       "current": "0e39920c-7d43-11ee-89fa-0242ac120005-4-8643-3d7a-3f87-d5ce",
       "next": "0e399270-7d43-11ee-89fa-0242ac120005-2-dedf-536e",
       "previous": "0e3991a8-7d43-11ee-89fa-0242ac120005-2-bf26-7b10"
      },
      {
       "current": "0e39920c-7d43-11ee-89fa-0242ac120005-5-8643-3d7a-3f87-d5ce-830c",
       "next": "0e399270-7d43-11ee-89fa-0242ac120005-3-dedf-536e-820c",
       "previous": "0e3991a8-7d43-11ee-89fa-0242ac120005-3-bf26-7b10-2489"
      },
      {
       "current": "0e39920c-7d43-11ee-89fa-0242ac120005-6-8643-3d7a-3f87-d5ce-830c-9c10",
       "next": "0e399270-7d43-11ee-89fa-0242ac120005-4-dedf-536e-820c-ebe2",
       "previous": "0e3991a8-7d43-11ee-89fa-0242ac120005-4-bf26-7b10-2489-84a5"
      }
     ],
     "next": "0e399270-7d43-11ee-89fa-0242ac120005-5-dedf-536e-820c-ebe2-f31a",
     "previous": "0e3991a8-7d43-11ee-89fa-0242ac120005-5-bf26-7b10-2489-84a5-217b"
    }
   },
   "source": [
    "ストレージノードを特定するにあたり、ノード名称が　ceph-nodexxx （xxxの部分は、右寄せ0埋めの数字3桁）というルールに従っていることを前提としている。<br>\n",
    " 例：ceph-node001<br>\n",
    " このノード名称ルールは、構築するCephクラスタ毎に変えるため、以下で定義する。"
   ]
  },
  {
   "cell_type": "code",
   "execution_count": null,
   "metadata": {
    "lc_cell_meme": {
     "current": "0e399270-7d43-11ee-89fa-0242ac120005-5-dedf-536e-820c-ebe2-f31a",
     "history": [
      {
       "current": "0e399270-7d43-11ee-89fa-0242ac120005",
       "next": "0e3992de-7d43-11ee-89fa-0242ac120005",
       "previous": "0e39920c-7d43-11ee-89fa-0242ac120005"
      },
      {
       "current": "0e399270-7d43-11ee-89fa-0242ac120005-1-dedf",
       "next": "0e3992de-7d43-11ee-89fa-0242ac120005",
       "previous": "0e39920c-7d43-11ee-89fa-0242ac120005-1-8643"
      },
      {
       "current": "0e399270-7d43-11ee-89fa-0242ac120005-2-dedf-536e",
       "next": "0e3992de-7d43-11ee-89fa-0242ac120005-1-2700",
       "previous": "0e39920c-7d43-11ee-89fa-0242ac120005-2-8643-3d7a"
      },
      {
       "current": "0e399270-7d43-11ee-89fa-0242ac120005-3-dedf-536e-820c",
       "next": "0e3992de-7d43-11ee-89fa-0242ac120005-2-2700-c8a3",
       "previous": "0e39920c-7d43-11ee-89fa-0242ac120005-3-8643-3d7a-3f87"
      },
      {
       "current": "0e399270-7d43-11ee-89fa-0242ac120005-4-dedf-536e-820c-ebe2",
       "next": "0e3992de-7d43-11ee-89fa-0242ac120005-3-2700-c8a3-fa1f",
       "previous": "0e39920c-7d43-11ee-89fa-0242ac120005-4-8643-3d7a-3f87-d5ce"
      },
      {
       "current": "0e399270-7d43-11ee-89fa-0242ac120005-5-dedf-536e-820c-ebe2-f31a",
       "next": "0e3992de-7d43-11ee-89fa-0242ac120005-4-2700-c8a3-fa1f-1392",
       "previous": "0e39920c-7d43-11ee-89fa-0242ac120005-5-8643-3d7a-3f87-d5ce-830c"
      }
     ],
     "next": "0e3992de-7d43-11ee-89fa-0242ac120005-5-2700-c8a3-fa1f-1392-80fd",
     "previous": "0e39920c-7d43-11ee-89fa-0242ac120005-6-8643-3d7a-3f87-d5ce-830c-9c10"
    }
   },
   "outputs": [],
   "source": [
    "# 初期化対象のインスタンス名称を設定する\n",
    "raise Exception('この先手作業が必要です')"
   ]
  },
  {
   "cell_type": "code",
   "execution_count": null,
   "metadata": {
    "lc_cell_meme": {
     "current": "0e3992de-7d43-11ee-89fa-0242ac120005-5-2700-c8a3-fa1f-1392-80fd",
     "history": [
      {
       "current": "0e3992de-7d43-11ee-89fa-0242ac120005",
       "next": "0e399342-7d43-11ee-89fa-0242ac120005",
       "previous": "0e399270-7d43-11ee-89fa-0242ac120005"
      },
      {
       "current": "0e3992de-7d43-11ee-89fa-0242ac120005-1-2700",
       "next": "0e399342-7d43-11ee-89fa-0242ac120005-1-017c",
       "previous": "0e399270-7d43-11ee-89fa-0242ac120005"
      },
      {
       "current": "0e3992de-7d43-11ee-89fa-0242ac120005-2-2700-c8a3",
       "next": "0e399342-7d43-11ee-89fa-0242ac120005-2-017c-2381",
       "previous": "0e399270-7d43-11ee-89fa-0242ac120005-1-dedf"
      },
      {
       "current": "0e3992de-7d43-11ee-89fa-0242ac120005-3-2700-c8a3-fa1f",
       "next": "0e399342-7d43-11ee-89fa-0242ac120005-3-017c-2381-d810",
       "previous": "0e399270-7d43-11ee-89fa-0242ac120005-2-dedf-536e"
      },
      {
       "current": "0e3992de-7d43-11ee-89fa-0242ac120005-4-2700-c8a3-fa1f-1392",
       "next": "0e399342-7d43-11ee-89fa-0242ac120005-4-017c-2381-d810-b0a0",
       "previous": "0e399270-7d43-11ee-89fa-0242ac120005-3-dedf-536e-820c"
      },
      {
       "current": "0e3992de-7d43-11ee-89fa-0242ac120005-5-2700-c8a3-fa1f-1392-80fd",
       "next": "0e399342-7d43-11ee-89fa-0242ac120005-5-017c-2381-d810-b0a0-3bf9",
       "previous": "0e399270-7d43-11ee-89fa-0242ac120005-4-dedf-536e-820c-ebe2"
      }
     ],
     "next": "0e399342-7d43-11ee-89fa-0242ac120005-6-017c-2381-d810-b0a0-3bf9-422d",
     "previous": "0e399270-7d43-11ee-89fa-0242ac120005-5-dedf-536e-820c-ebe2-f31a"
    }
   },
   "outputs": [],
   "source": [
    "import pandas as pd\n",
    "import re\n",
    "\n",
    "# 対象インスタンス名称マッチングルール\n",
    "name_match_rule = r'ceph-xxx-node-[0-9]+'"
   ]
  },
  {
   "cell_type": "markdown",
   "metadata": {
    "lc_cell_meme": {
     "current": "0e399342-7d43-11ee-89fa-0242ac120005-6-017c-2381-d810-b0a0-3bf9-422d",
     "history": [
      {
       "current": "0e399342-7d43-11ee-89fa-0242ac120005-2-017c-2381",
       "next": "0e3993a6-7d43-11ee-89fa-0242ac120005",
       "previous": "0e3992de-7d43-11ee-89fa-0242ac120005"
      },
      {
       "current": "0e399342-7d43-11ee-89fa-0242ac120005-3-017c-2381-d810",
       "next": "0e3993a6-7d43-11ee-89fa-0242ac120005-1-0125",
       "previous": "0e3992de-7d43-11ee-89fa-0242ac120005-1-2700"
      },
      {
       "current": "0e399342-7d43-11ee-89fa-0242ac120005-4-017c-2381-d810-b0a0",
       "next": "0e3993a6-7d43-11ee-89fa-0242ac120005-2-0125-df05",
       "previous": "0e3992de-7d43-11ee-89fa-0242ac120005-2-2700-c8a3"
      },
      {
       "current": "0e399342-7d43-11ee-89fa-0242ac120005-5-017c-2381-d810-b0a0-3bf9",
       "next": "0e3993a6-7d43-11ee-89fa-0242ac120005-3-0125-df05-a2c3",
       "previous": "0e3992de-7d43-11ee-89fa-0242ac120005-3-2700-c8a3-fa1f"
      },
      {
       "current": "0e399342-7d43-11ee-89fa-0242ac120005-6-017c-2381-d810-b0a0-3bf9-422d",
       "next": "0e3993a6-7d43-11ee-89fa-0242ac120005-4-0125-df05-a2c3-b2fd",
       "previous": "0e3992de-7d43-11ee-89fa-0242ac120005-4-2700-c8a3-fa1f-1392"
      }
     ],
     "next": "0e3993a6-7d43-11ee-89fa-0242ac120005-5-0125-df05-a2c3-b2fd-54fd",
     "previous": "0e3992de-7d43-11ee-89fa-0242ac120005-5-2700-c8a3-fa1f-1392-80fd"
    }
   },
   "source": [
    "## OpenStack Ironicからノード情報の取得"
   ]
  },
  {
   "cell_type": "code",
   "execution_count": null,
   "metadata": {
    "lc_cell_meme": {
     "current": "0e3993a6-7d43-11ee-89fa-0242ac120005-5-0125-df05-a2c3-b2fd-54fd",
     "history": [
      {
       "current": "0e3993a6-7d43-11ee-89fa-0242ac120005",
       "next": "0e39940a-7d43-11ee-89fa-0242ac120005",
       "previous": "0e399342-7d43-11ee-89fa-0242ac120005"
      },
      {
       "current": "0e3993a6-7d43-11ee-89fa-0242ac120005-1-0125",
       "next": "55246a5c-7d43-11ee-89fa-0242ac120005",
       "previous": "0e399342-7d43-11ee-89fa-0242ac120005-1-017c"
      },
      {
       "current": "0e3993a6-7d43-11ee-89fa-0242ac120005-2-0125-df05",
       "next": "55246a5c-7d43-11ee-89fa-0242ac120005-1-752b",
       "previous": "0e399342-7d43-11ee-89fa-0242ac120005-2-017c-2381"
      },
      {
       "current": "0e3993a6-7d43-11ee-89fa-0242ac120005-3-0125-df05-a2c3",
       "next": "55246a5c-7d43-11ee-89fa-0242ac120005-2-752b-bd59",
       "previous": "0e399342-7d43-11ee-89fa-0242ac120005-3-017c-2381-d810"
      },
      {
       "current": "0e3993a6-7d43-11ee-89fa-0242ac120005-4-0125-df05-a2c3-b2fd",
       "next": "55246a5c-7d43-11ee-89fa-0242ac120005-3-752b-bd59-66ff",
       "previous": "0e399342-7d43-11ee-89fa-0242ac120005-4-017c-2381-d810-b0a0"
      },
      {
       "current": "0e3993a6-7d43-11ee-89fa-0242ac120005-5-0125-df05-a2c3-b2fd-54fd",
       "next": "55246a5c-7d43-11ee-89fa-0242ac120005-4-752b-bd59-66ff-6096",
       "previous": "0e399342-7d43-11ee-89fa-0242ac120005-5-017c-2381-d810-b0a0-3bf9"
      }
     ],
     "next": "55246a5c-7d43-11ee-89fa-0242ac120005-5-752b-bd59-66ff-6096-aa98",
     "previous": "0e399342-7d43-11ee-89fa-0242ac120005-6-017c-2381-d810-b0a0-3bf9-422d"
    }
   },
   "outputs": [],
   "source": [
    "cmd = \"openstack baremetal node list -f json --long\"\n",
    "nodes = run_openstack(cmd)"
   ]
  },
  {
   "cell_type": "code",
   "execution_count": null,
   "metadata": {
    "lc_cell_meme": {
     "current": "55246a5c-7d43-11ee-89fa-0242ac120005-5-752b-bd59-66ff-6096-aa98",
     "history": [
      {
       "current": "55246a5c-7d43-11ee-89fa-0242ac120005-1-752b",
       "next": "55246bec-7d43-11ee-89fa-0242ac120005",
       "previous": "0e3993a6-7d43-11ee-89fa-0242ac120005"
      },
      {
       "current": "55246a5c-7d43-11ee-89fa-0242ac120005-2-752b-bd59",
       "next": "55246bec-7d43-11ee-89fa-0242ac120005-1-27ca",
       "previous": "0e3993a6-7d43-11ee-89fa-0242ac120005-1-0125"
      },
      {
       "current": "55246a5c-7d43-11ee-89fa-0242ac120005-3-752b-bd59-66ff",
       "next": "55246bec-7d43-11ee-89fa-0242ac120005-2-27ca-549f",
       "previous": "0e3993a6-7d43-11ee-89fa-0242ac120005-2-0125-df05"
      },
      {
       "current": "55246a5c-7d43-11ee-89fa-0242ac120005-4-752b-bd59-66ff-6096",
       "next": "55246bec-7d43-11ee-89fa-0242ac120005-3-27ca-549f-ddcd",
       "previous": "0e3993a6-7d43-11ee-89fa-0242ac120005-3-0125-df05-a2c3"
      },
      {
       "current": "55246a5c-7d43-11ee-89fa-0242ac120005-5-752b-bd59-66ff-6096-aa98",
       "next": "55246bec-7d43-11ee-89fa-0242ac120005-4-27ca-549f-ddcd-dabb",
       "previous": "0e3993a6-7d43-11ee-89fa-0242ac120005-4-0125-df05-a2c3-b2fd"
      }
     ],
     "next": "55246bec-7d43-11ee-89fa-0242ac120005-5-27ca-549f-ddcd-dabb-bd0f",
     "previous": "0e3993a6-7d43-11ee-89fa-0242ac120005-5-0125-df05-a2c3-b2fd-54fd"
    }
   },
   "outputs": [],
   "source": [
    "import pandas as pd\n",
    "import re\n",
    "\n",
    "for node in nodes:\n",
    "    instance_uuid = node.get(\"Instance UUID\", None)\n",
    "    if instance_uuid is None:\n",
    "        continue\n",
    "        \n",
    "    node[\"instance_name\"] = node[\"Instance Info\"][\"display_name\"]\n",
    "\n",
    "pd.set_option('display.max_rows', None)\n",
    "pd.DataFrame(nodes, columns=['Instance UUID', 'instance_name', 'UUID', 'Maintenance', 'Provisioning State', 'Power State', 'Name'])\n"
   ]
  },
  {
   "cell_type": "code",
   "execution_count": null,
   "metadata": {
    "lc_cell_meme": {
     "current": "55246bec-7d43-11ee-89fa-0242ac120005-5-27ca-549f-ddcd-dabb-bd0f",
     "history": [
      {
       "current": "55246bec-7d43-11ee-89fa-0242ac120005-1-27ca",
       "next": "55246c8c-7d43-11ee-89fa-0242ac120005",
       "previous": "55246a5c-7d43-11ee-89fa-0242ac120005"
      },
      {
       "current": "55246bec-7d43-11ee-89fa-0242ac120005-2-27ca-549f",
       "next": "55246c8c-7d43-11ee-89fa-0242ac120005-1-b5d7",
       "previous": "55246a5c-7d43-11ee-89fa-0242ac120005-1-752b"
      },
      {
       "current": "55246bec-7d43-11ee-89fa-0242ac120005-3-27ca-549f-ddcd",
       "next": "55246c8c-7d43-11ee-89fa-0242ac120005-2-b5d7-d4ba",
       "previous": "55246a5c-7d43-11ee-89fa-0242ac120005-2-752b-bd59"
      },
      {
       "current": "55246bec-7d43-11ee-89fa-0242ac120005-4-27ca-549f-ddcd-dabb",
       "next": "55246c8c-7d43-11ee-89fa-0242ac120005-3-b5d7-d4ba-6217",
       "previous": "55246a5c-7d43-11ee-89fa-0242ac120005-3-752b-bd59-66ff"
      },
      {
       "current": "55246bec-7d43-11ee-89fa-0242ac120005-5-27ca-549f-ddcd-dabb-bd0f",
       "next": "55246c8c-7d43-11ee-89fa-0242ac120005-4-b5d7-d4ba-6217-3b71",
       "previous": "55246a5c-7d43-11ee-89fa-0242ac120005-4-752b-bd59-66ff-6096"
      }
     ],
     "next": "55246c8c-7d43-11ee-89fa-0242ac120005-5-b5d7-d4ba-6217-3b71-c240",
     "previous": "55246a5c-7d43-11ee-89fa-0242ac120005-5-752b-bd59-66ff-6096-aa98"
    }
   },
   "outputs": [],
   "source": [
    "cmd = \"openstack server list -f json --long\"\n",
    "nova_server_map = run_openstack(cmd)"
   ]
  },
  {
   "cell_type": "code",
   "execution_count": null,
   "metadata": {
    "lc_cell_meme": {
     "current": "55246c8c-7d43-11ee-89fa-0242ac120005-5-b5d7-d4ba-6217-3b71-c240",
     "history": [
      {
       "current": "55246c8c-7d43-11ee-89fa-0242ac120005-1-b5d7",
       "next": "35c35a52-55a3-11e7-b0b2-00163e9c0e35-3-6742-f247-cea5",
       "previous": "55246bec-7d43-11ee-89fa-0242ac120005"
      },
      {
       "current": "55246c8c-7d43-11ee-89fa-0242ac120005-2-b5d7-d4ba",
       "next": "35c35a52-55a3-11e7-b0b2-00163e9c0e35-4-6742-f247-cea5-eaea",
       "previous": "55246bec-7d43-11ee-89fa-0242ac120005-1-27ca"
      },
      {
       "current": "55246c8c-7d43-11ee-89fa-0242ac120005-3-b5d7-d4ba-6217",
       "next": "35c35a52-55a3-11e7-b0b2-00163e9c0e35-5-6742-f247-cea5-eaea-5377",
       "previous": "55246bec-7d43-11ee-89fa-0242ac120005-2-27ca-549f"
      },
      {
       "current": "55246c8c-7d43-11ee-89fa-0242ac120005-4-b5d7-d4ba-6217-3b71",
       "next": "35c35a52-55a3-11e7-b0b2-00163e9c0e35-6-6742-f247-cea5-eaea-5377-2b6c",
       "previous": "55246bec-7d43-11ee-89fa-0242ac120005-3-27ca-549f-ddcd"
      },
      {
       "current": "55246c8c-7d43-11ee-89fa-0242ac120005-5-b5d7-d4ba-6217-3b71-c240",
       "next": "35c35a52-55a3-11e7-b0b2-00163e9c0e35-7-6742-f247-cea5-eaea-5377-2b6c-7691",
       "previous": "55246bec-7d43-11ee-89fa-0242ac120005-4-27ca-549f-ddcd-dabb"
      }
     ],
     "next": "35c35a52-55a3-11e7-b0b2-00163e9c0e35-8-6742-f247-cea5-eaea-5377-2b6c-7691-b3f7",
     "previous": "55246bec-7d43-11ee-89fa-0242ac120005-5-27ca-549f-ddcd-dabb-bd0f"
    }
   },
   "outputs": [],
   "source": [
    "node_list = []\n",
    "for server in nova_server_map:\n",
    "    node_id = server['ID']\n",
    "    if re.match(name_match_rule, server['Name']) is None:\n",
    "        continue\n",
    "    for node in nodes:\n",
    "        if node['Instance UUID'] == node_id:\n",
    "            node_info = {}\n",
    "            node_list.append(node_info)\n",
    "            node_info['name'] = server['Name']\n",
    "            node_info['node_name'] = node['Name']\n",
    "            instance_ip_info = instance_ip_map.get(server['Name'], None)\n",
    "            if instance_ip_info is not None:\n",
    "                node_info['instance_ip'] = instance_ip_info.get('ipv4', None)\n",
    "            else:\n",
    "                node_info['instance_ip'] = None\n",
    "            address = server['Networks']\n",
    "            prov_net = address['provisioning-net']\n",
    "            for addr in prov_net:\n",
    "                node_info['prov_ip'] = addr\n",
    "\n",
    "pd.DataFrame(node_list)"
   ]
  },
  {
   "cell_type": "markdown",
   "metadata": {
    "lc_cell_meme": {
     "current": "35c35a52-55a3-11e7-b0b2-00163e9c0e35-8-6742-f247-cea5-eaea-5377-2b6c-7691-b3f7",
     "history": [
      {
       "current": "35c35a52-55a3-11e7-b0b2-00163e9c0e35",
       "next": "35c35bf6-55a3-11e7-b0b2-00163e9c0e35",
       "previous": "35c358ae-55a3-11e7-b0b2-00163e9c0e35"
      },
      {
       "current": "35c35a52-55a3-11e7-b0b2-00163e9c0e35",
       "next": "35c35bf6-55a3-11e7-b0b2-00163e9c0e35",
       "previous": "690aae12-2871-11ea-b5b0-0242ac120004"
      },
      {
       "current": "35c35a52-55a3-11e7-b0b2-00163e9c0e35",
       "next": "35c35bf6-55a3-11e7-b0b2-00163e9c0e35",
       "previous": "1f202142-40d1-11ea-ab19-0242ac120004"
      },
      {
       "current": "35c35a52-55a3-11e7-b0b2-00163e9c0e35",
       "next": "35c35bf6-55a3-11e7-b0b2-00163e9c0e35",
       "previous": "690aae12-2871-11ea-b5b0-0242ac120004"
      },
      {
       "current": "35c35a52-55a3-11e7-b0b2-00163e9c0e35",
       "next": "35c35bf6-55a3-11e7-b0b2-00163e9c0e35",
       "previous": "35c358ae-55a3-11e7-b0b2-00163e9c0e35"
      },
      {
       "current": "35c35a52-55a3-11e7-b0b2-00163e9c0e35",
       "next": "35c35bf6-55a3-11e7-b0b2-00163e9c0e35",
       "previous": "29c91c64-2850-11ea-b5b0-0242ac120004"
      },
      {
       "current": "35c35a52-55a3-11e7-b0b2-00163e9c0e35",
       "next": "35c35bf6-55a3-11e7-b0b2-00163e9c0e35",
       "previous": "35c35552-55a3-11e7-b0b2-00163e9c0e35"
      },
      {
       "current": "35c35a52-55a3-11e7-b0b2-00163e9c0e35",
       "next": "35c35bf6-55a3-11e7-b0b2-00163e9c0e35",
       "previous": "81dd5320-9597-11ea-8d02-0242ac120007"
      },
      {
       "current": "35c35a52-55a3-11e7-b0b2-00163e9c0e35",
       "next": "35c35bf6-55a3-11e7-b0b2-00163e9c0e35",
       "previous": "46b9463a-95bc-11ea-8d02-0242ac120007"
      },
      {
       "current": "35c35a52-55a3-11e7-b0b2-00163e9c0e35-1-6742",
       "next": "35c35bf6-55a3-11e7-b0b2-00163e9c0e35",
       "previous": "35c34cce-55a3-11e7-b0b2-00163e9c0e35"
      },
      {
       "current": "35c35a52-55a3-11e7-b0b2-00163e9c0e35-2-6742-f247",
       "next": "35c35bf6-55a3-11e7-b0b2-00163e9c0e35-1-42e9",
       "previous": "35c34cce-55a3-11e7-b0b2-00163e9c0e35-1-a2d9"
      },
      {
       "current": "35c35a52-55a3-11e7-b0b2-00163e9c0e35-3-6742-f247-cea5",
       "next": "35c35bf6-55a3-11e7-b0b2-00163e9c0e35-2-42e9-4bce",
       "previous": "35c34cce-55a3-11e7-b0b2-00163e9c0e35-2-a2d9-3714"
      },
      {
       "current": "35c35a52-55a3-11e7-b0b2-00163e9c0e35-3-6742-f247-cea5",
       "next": "35c35bf6-55a3-11e7-b0b2-00163e9c0e35-3-42e9-4bce-a0c7",
       "previous": "35c34cce-55a3-11e7-b0b2-00163e9c0e35-3-a2d9-3714-4cc4"
      },
      {
       "current": "35c35a52-55a3-11e7-b0b2-00163e9c0e35-3-6742-f247-cea5",
       "next": "35c35bf6-55a3-11e7-b0b2-00163e9c0e35-3-42e9-4bce-a0c7",
       "previous": "7f216d6a-7d42-11ee-89fa-0242ac120005"
      },
      {
       "current": "35c35a52-55a3-11e7-b0b2-00163e9c0e35-3-6742-f247-cea5",
       "next": "35c35f52-55a3-11e7-b0b2-00163e9c0e35-3-47aa-2208-8822",
       "previous": "7f216d6a-7d42-11ee-89fa-0242ac120005"
      },
      {
       "current": "35c35a52-55a3-11e7-b0b2-00163e9c0e35-4-6742-f247-cea5-eaea",
       "next": "35c35f52-55a3-11e7-b0b2-00163e9c0e35-3-47aa-2208-8822",
       "previous": "55246c8c-7d43-11ee-89fa-0242ac120005"
      },
      {
       "current": "35c35a52-55a3-11e7-b0b2-00163e9c0e35-5-6742-f247-cea5-eaea-5377",
       "next": "35c35f52-55a3-11e7-b0b2-00163e9c0e35-4-47aa-2208-8822-2110",
       "previous": "55246c8c-7d43-11ee-89fa-0242ac120005-1-b5d7"
      },
      {
       "current": "35c35a52-55a3-11e7-b0b2-00163e9c0e35-6-6742-f247-cea5-eaea-5377-2b6c",
       "next": "35c35f52-55a3-11e7-b0b2-00163e9c0e35-5-47aa-2208-8822-2110-b1fc",
       "previous": "55246c8c-7d43-11ee-89fa-0242ac120005-2-b5d7-d4ba"
      },
      {
       "current": "35c35a52-55a3-11e7-b0b2-00163e9c0e35-7-6742-f247-cea5-eaea-5377-2b6c-7691",
       "next": "35c35f52-55a3-11e7-b0b2-00163e9c0e35-6-47aa-2208-8822-2110-b1fc-9762",
       "previous": "55246c8c-7d43-11ee-89fa-0242ac120005-3-b5d7-d4ba-6217"
      },
      {
       "current": "35c35a52-55a3-11e7-b0b2-00163e9c0e35-8-6742-f247-cea5-eaea-5377-2b6c-7691-b3f7",
       "next": "35c35f52-55a3-11e7-b0b2-00163e9c0e35-7-47aa-2208-8822-2110-b1fc-9762-5bc7",
       "previous": "55246c8c-7d43-11ee-89fa-0242ac120005-4-b5d7-d4ba-6217-3b71"
      }
     ],
     "next": "35c35f52-55a3-11e7-b0b2-00163e9c0e35-8-47aa-2208-8822-2110-b1fc-9762-5bc7-b321",
     "previous": "55246c8c-7d43-11ee-89fa-0242ac120005-5-b5d7-d4ba-6217-3b71-c240"
    }
   },
   "source": [
    "## 一時Inventoryファイルの生成\n",
    "以下を実行し、作業用ディレクトリ配下に一時Inventoryファイルを生成する。"
   ]
  },
  {
   "cell_type": "markdown",
   "metadata": {
    "lc_cell_meme": {
     "current": "35c35f52-55a3-11e7-b0b2-00163e9c0e35-8-47aa-2208-8822-2110-b1fc-9762-5bc7-b321",
     "history": [
      {
       "current": "35c35f52-55a3-11e7-b0b2-00163e9c0e35",
       "next": "35c360f6-55a3-11e7-b0b2-00163e9c0e35",
       "previous": "35c35dae-55a3-11e7-b0b2-00163e9c0e35"
      },
      {
       "current": "35c35f52-55a3-11e7-b0b2-00163e9c0e35-1-47aa",
       "next": "a33430b0-9327-11ea-8d02-0242ac120007",
       "previous": "35c35dae-55a3-11e7-b0b2-00163e9c0e35"
      },
      {
       "current": "35c35f52-55a3-11e7-b0b2-00163e9c0e35-2-47aa-2208",
       "next": "a33430b0-9327-11ea-8d02-0242ac120007-1-ec99",
       "previous": "35c35dae-55a3-11e7-b0b2-00163e9c0e35-1-0224"
      },
      {
       "current": "35c35f52-55a3-11e7-b0b2-00163e9c0e35-3-47aa-2208-8822",
       "next": "a33430b0-9327-11ea-8d02-0242ac120007-2-ec99-a50d",
       "previous": "35c35dae-55a3-11e7-b0b2-00163e9c0e35-2-0224-1c71"
      },
      {
       "current": "35c35f52-55a3-11e7-b0b2-00163e9c0e35-3-47aa-2208-8822",
       "next": "a33430b0-9327-11ea-8d02-0242ac120007-3-ec99-a50d-43be",
       "previous": "35c35dae-55a3-11e7-b0b2-00163e9c0e35-3-0224-1c71-10f3"
      },
      {
       "current": "35c35f52-55a3-11e7-b0b2-00163e9c0e35-4-47aa-2208-8822-2110",
       "next": "a33430b0-9327-11ea-8d02-0242ac120007-3-ec99-a50d-43be",
       "previous": "35c35a52-55a3-11e7-b0b2-00163e9c0e35-3-6742-f247-cea5"
      },
      {
       "current": "35c35f52-55a3-11e7-b0b2-00163e9c0e35-5-47aa-2208-8822-2110-b1fc",
       "next": "a33430b0-9327-11ea-8d02-0242ac120007-4-ec99-a50d-43be-9d78",
       "previous": "35c35a52-55a3-11e7-b0b2-00163e9c0e35-4-6742-f247-cea5-eaea"
      },
      {
       "current": "35c35f52-55a3-11e7-b0b2-00163e9c0e35-6-47aa-2208-8822-2110-b1fc-9762",
       "next": "a33430b0-9327-11ea-8d02-0242ac120007-5-ec99-a50d-43be-9d78-474a",
       "previous": "35c35a52-55a3-11e7-b0b2-00163e9c0e35-5-6742-f247-cea5-eaea-5377"
      },
      {
       "current": "35c35f52-55a3-11e7-b0b2-00163e9c0e35-7-47aa-2208-8822-2110-b1fc-9762-5bc7",
       "next": "a33430b0-9327-11ea-8d02-0242ac120007-6-ec99-a50d-43be-9d78-474a-1724",
       "previous": "35c35a52-55a3-11e7-b0b2-00163e9c0e35-6-6742-f247-cea5-eaea-5377-2b6c"
      },
      {
       "current": "35c35f52-55a3-11e7-b0b2-00163e9c0e35-8-47aa-2208-8822-2110-b1fc-9762-5bc7-b321",
       "next": "a33430b0-9327-11ea-8d02-0242ac120007-7-ec99-a50d-43be-9d78-474a-1724-245c",
       "previous": "35c35a52-55a3-11e7-b0b2-00163e9c0e35-7-6742-f247-cea5-eaea-5377-2b6c-7691"
      }
     ],
     "next": "a33430b0-9327-11ea-8d02-0242ac120007-8-ec99-a50d-43be-9d78-474a-1724-245c-5e5d",
     "previous": "35c35a52-55a3-11e7-b0b2-00163e9c0e35-8-6742-f247-cea5-eaea-5377-2b6c-7691-b3f7"
    }
   },
   "source": [
    "Inventoryファイルを生成する。"
   ]
  },
  {
   "cell_type": "code",
   "execution_count": null,
   "metadata": {
    "lc_cell_meme": {
     "current": "a33430b0-9327-11ea-8d02-0242ac120007-8-ec99-a50d-43be-9d78-474a-1724-245c-5e5d",
     "history": [
      {
       "current": "a33430b0-9327-11ea-8d02-0242ac120007",
       "next": "35c360f6-55a3-11e7-b0b2-00163e9c0e35",
       "previous": "35c35f52-55a3-11e7-b0b2-00163e9c0e35"
      },
      {
       "current": "a33430b0-9327-11ea-8d02-0242ac120007-1-ec99",
       "next": "9c0b8624-959f-11ea-8d02-0242ac120007",
       "previous": "35c35f52-55a3-11e7-b0b2-00163e9c0e35"
      },
      {
       "current": "a33430b0-9327-11ea-8d02-0242ac120007-2-ec99-a50d",
       "next": "9c0b8624-959f-11ea-8d02-0242ac120007-1-8418",
       "previous": "35c35f52-55a3-11e7-b0b2-00163e9c0e35-1-47aa"
      },
      {
       "current": "a33430b0-9327-11ea-8d02-0242ac120007-3-ec99-a50d-43be",
       "next": "9c0b8624-959f-11ea-8d02-0242ac120007-2-8418-02ee",
       "previous": "35c35f52-55a3-11e7-b0b2-00163e9c0e35-2-47aa-2208"
      },
      {
       "current": "a33430b0-9327-11ea-8d02-0242ac120007-3-ec99-a50d-43be",
       "next": "9c0b8624-959f-11ea-8d02-0242ac120007-3-8418-02ee-9303",
       "previous": "35c35f52-55a3-11e7-b0b2-00163e9c0e35-3-47aa-2208-8822"
      },
      {
       "current": "a33430b0-9327-11ea-8d02-0242ac120007-4-ec99-a50d-43be-9d78",
       "next": "35c360f6-55a3-11e7-b0b2-00163e9c0e35-3-ddd6-2098-898f",
       "previous": "35c35f52-55a3-11e7-b0b2-00163e9c0e35-3-47aa-2208-8822"
      },
      {
       "current": "a33430b0-9327-11ea-8d02-0242ac120007-5-ec99-a50d-43be-9d78-474a",
       "next": "35c360f6-55a3-11e7-b0b2-00163e9c0e35-4-ddd6-2098-898f-649a",
       "previous": "35c35f52-55a3-11e7-b0b2-00163e9c0e35-4-47aa-2208-8822-2110"
      },
      {
       "current": "a33430b0-9327-11ea-8d02-0242ac120007-6-ec99-a50d-43be-9d78-474a-1724",
       "next": "35c360f6-55a3-11e7-b0b2-00163e9c0e35-5-ddd6-2098-898f-649a-6b65",
       "previous": "35c35f52-55a3-11e7-b0b2-00163e9c0e35-5-47aa-2208-8822-2110-b1fc"
      },
      {
       "current": "a33430b0-9327-11ea-8d02-0242ac120007-7-ec99-a50d-43be-9d78-474a-1724-245c",
       "next": "35c360f6-55a3-11e7-b0b2-00163e9c0e35-6-ddd6-2098-898f-649a-6b65-387e",
       "previous": "35c35f52-55a3-11e7-b0b2-00163e9c0e35-6-47aa-2208-8822-2110-b1fc-9762"
      },
      {
       "current": "a33430b0-9327-11ea-8d02-0242ac120007-8-ec99-a50d-43be-9d78-474a-1724-245c-5e5d",
       "next": "35c360f6-55a3-11e7-b0b2-00163e9c0e35-7-ddd6-2098-898f-649a-6b65-387e-8276",
       "previous": "35c35f52-55a3-11e7-b0b2-00163e9c0e35-7-47aa-2208-8822-2110-b1fc-9762-5bc7"
      }
     ],
     "next": "35c360f6-55a3-11e7-b0b2-00163e9c0e35-8-ddd6-2098-898f-649a-6b65-387e-8276-8a67",
     "previous": "35c35f52-55a3-11e7-b0b2-00163e9c0e35-8-47aa-2208-8822-2110-b1fc-9762-5bc7-b321"
    }
   },
   "outputs": [],
   "source": [
    "node_user='xxxxx'\n",
    "node_key='~/.ssh/id_ras'\n",
    "proxy_user='xxxxx'\n",
    "proxy_key='~/.ssh/id_ras'"
   ]
  },
  {
   "cell_type": "code",
   "execution_count": null,
   "metadata": {
    "ExecuteTime": {
     "end_time": "2017-06-29T08:50:39.909299Z",
     "start_time": "2017-06-29T08:50:39.762658Z"
    },
    "lc_cell_meme": {
     "current": "35c360f6-55a3-11e7-b0b2-00163e9c0e35-8-ddd6-2098-898f-649a-6b65-387e-8276-8a67",
     "history": [
      {
       "current": "35c360f6-55a3-11e7-b0b2-00163e9c0e35",
       "next": "35c362a4-55a3-11e7-b0b2-00163e9c0e35",
       "previous": "35c35f52-55a3-11e7-b0b2-00163e9c0e35"
      },
      {
       "current": "35c360f6-55a3-11e7-b0b2-00163e9c0e35",
       "next": "35c362a4-55a3-11e7-b0b2-00163e9c0e35",
       "previous": "a33430b0-9327-11ea-8d02-0242ac120007"
      },
      {
       "current": "35c360f6-55a3-11e7-b0b2-00163e9c0e35-1-ddd6",
       "next": "35c362a4-55a3-11e7-b0b2-00163e9c0e35",
       "previous": "9c0b88cc-959f-11ea-8d02-0242ac120007"
      },
      {
       "current": "35c360f6-55a3-11e7-b0b2-00163e9c0e35-2-ddd6-2098",
       "next": "35c362a4-55a3-11e7-b0b2-00163e9c0e35-1-6b0e",
       "previous": "9c0b88cc-959f-11ea-8d02-0242ac120007-1-38fa"
      },
      {
       "current": "35c360f6-55a3-11e7-b0b2-00163e9c0e35-2-ddd6-2098",
       "next": "35c362a4-55a3-11e7-b0b2-00163e9c0e35-2-6b0e-1484",
       "previous": "9c0b88cc-959f-11ea-8d02-0242ac120007-2-38fa-9be6"
      },
      {
       "current": "35c360f6-55a3-11e7-b0b2-00163e9c0e35-3-ddd6-2098-898f",
       "next": "35c362a4-55a3-11e7-b0b2-00163e9c0e35-2-69c4-6782",
       "previous": "9c0b88cc-959f-11ea-8d02-0242ac120007-2-38fa-9be6"
      },
      {
       "current": "35c360f6-55a3-11e7-b0b2-00163e9c0e35-3-ddd6-2098-898f",
       "next": "35c362a4-55a3-11e7-b0b2-00163e9c0e35-3-69c4-6782-425d",
       "previous": "9c0b88cc-959f-11ea-8d02-0242ac120007-3-38fa-9be6-a760"
      },
      {
       "current": "35c360f6-55a3-11e7-b0b2-00163e9c0e35-4-ddd6-2098-898f-649a",
       "next": "35c362a4-55a3-11e7-b0b2-00163e9c0e35-3-69c4-6782-425d",
       "previous": "a33430b0-9327-11ea-8d02-0242ac120007-3-ec99-a50d-43be"
      },
      {
       "current": "35c360f6-55a3-11e7-b0b2-00163e9c0e35-5-ddd6-2098-898f-649a-6b65",
       "next": "35c362a4-55a3-11e7-b0b2-00163e9c0e35-4-69c4-6782-425d-a877",
       "previous": "a33430b0-9327-11ea-8d02-0242ac120007-4-ec99-a50d-43be-9d78"
      },
      {
       "current": "35c360f6-55a3-11e7-b0b2-00163e9c0e35-6-ddd6-2098-898f-649a-6b65-387e",
       "next": "35c362a4-55a3-11e7-b0b2-00163e9c0e35-5-69c4-6782-425d-a877-ce45",
       "previous": "a33430b0-9327-11ea-8d02-0242ac120007-5-ec99-a50d-43be-9d78-474a"
      },
      {
       "current": "35c360f6-55a3-11e7-b0b2-00163e9c0e35-7-ddd6-2098-898f-649a-6b65-387e-8276",
       "next": "35c362a4-55a3-11e7-b0b2-00163e9c0e35-6-69c4-6782-425d-a877-ce45-1b8d",
       "previous": "a33430b0-9327-11ea-8d02-0242ac120007-6-ec99-a50d-43be-9d78-474a-1724"
      },
      {
       "current": "35c360f6-55a3-11e7-b0b2-00163e9c0e35-8-ddd6-2098-898f-649a-6b65-387e-8276-8a67",
       "next": "35c362a4-55a3-11e7-b0b2-00163e9c0e35-7-69c4-6782-425d-a877-ce45-1b8d-35bf",
       "previous": "a33430b0-9327-11ea-8d02-0242ac120007-7-ec99-a50d-43be-9d78-474a-1724-245c"
      }
     ],
     "next": "35c362a4-55a3-11e7-b0b2-00163e9c0e35-8-69c4-6782-425d-a877-ce45-1b8d-35bf-3558",
     "previous": "a33430b0-9327-11ea-8d02-0242ac120007-8-ec99-a50d-43be-9d78-474a-1724-245c-5e5d"
    },
    "run_control": {
     "frozen": true
    },
    "scrolled": false
   },
   "outputs": [],
   "source": [
    "import os\n",
    "\n",
    "with open( os.path.join(temp_dir, \"hosts\"), 'w') as f:\n",
    "    f.write('''[openstack_ctl]\n",
    "{openstack_cmn}\n",
    "'''.format(openstack_cmn = provisioning_vip))\n",
    "\n",
    "    f.write('''[ceph_admin]\n",
    "{cep_admin_ip} ansible_user={proxy_user} ansible_ssh_private_key_file={proxy_key} ansible_python_interpreter=/usr/bin/python3\n",
    "[ceph_nodes]\n",
    "'''.format(cep_admin_ip=ceph_admin_ip, proxy_user=proxy_user, proxy_key=proxy_key))\n",
    "\n",
    "    for node in node_list:\n",
    "        node_ip = node['prov_ip']\n",
    "        f.write('''{node_ip} ansible_user={node_user} ansible_ssh_private_key_file={node_key} ansible_ssh_common_args='-o ControlMaster=auto -o StrictHostKeyChecking=no -o ControlPersist=30m -o ProxyCommand=\"ssh -W %h:%p -i {proxy_key} -q {proxy_user}@{cep_admin_ip}\"' ansible_python_interpreter=/usr/bin/python3\n",
    "'''.format(cep_admin_ip=ceph_admin_ip, node_ip=node_ip, node_key=node_key,\n",
    "           node_user=node_user, proxy_user=proxy_user, proxy_key=proxy_key))\n",
    "\n",
    "hosts = temp_dir + \"/hosts\"\n",
    "\n",
    "!cat $hosts"
   ]
  },
  {
   "cell_type": "markdown",
   "metadata": {
    "lc_cell_meme": {
     "current": "35c362a4-55a3-11e7-b0b2-00163e9c0e35-8-69c4-6782-425d-a877-ce45-1b8d-35bf-3558",
     "history": [
      {
       "current": "35c362a4-55a3-11e7-b0b2-00163e9c0e35",
       "next": "35c36448-55a3-11e7-b0b2-00163e9c0e35",
       "previous": "35c360f6-55a3-11e7-b0b2-00163e9c0e35"
      },
      {
       "current": "35c362a4-55a3-11e7-b0b2-00163e9c0e35",
       "next": "35c36448-55a3-11e7-b0b2-00163e9c0e35",
       "previous": "4cd5b0cc-7ef5-11ea-a926-0242ac120004"
      },
      {
       "current": "35c362a4-55a3-11e7-b0b2-00163e9c0e35",
       "next": "35c36448-55a3-11e7-b0b2-00163e9c0e35",
       "previous": "db546a28-7ef5-11ea-a926-0242ac120004"
      },
      {
       "current": "35c362a4-55a3-11e7-b0b2-00163e9c0e35",
       "next": "35c36448-55a3-11e7-b0b2-00163e9c0e35",
       "previous": "4cd5af28-7ef5-11ea-a926-0242ac120004"
      },
      {
       "current": "35c362a4-55a3-11e7-b0b2-00163e9c0e35",
       "next": "35c36448-55a3-11e7-b0b2-00163e9c0e35",
       "previous": "7d464504-9107-11ea-8d02-0242ac120007"
      },
      {
       "current": "35c362a4-55a3-11e7-b0b2-00163e9c0e35",
       "next": "35c36448-55a3-11e7-b0b2-00163e9c0e35",
       "previous": "bd797188-910b-11ea-8d02-0242ac120007"
      },
      {
       "current": "35c362a4-55a3-11e7-b0b2-00163e9c0e35",
       "next": "35c36448-55a3-11e7-b0b2-00163e9c0e35",
       "previous": "70b95056-9111-11ea-8d02-0242ac120007"
      },
      {
       "current": "35c362a4-55a3-11e7-b0b2-00163e9c0e35",
       "next": "35c36448-55a3-11e7-b0b2-00163e9c0e35",
       "previous": "bd797188-910b-11ea-8d02-0242ac120007"
      },
      {
       "current": "35c362a4-55a3-11e7-b0b2-00163e9c0e35",
       "next": "bd797188-910b-11ea-8d02-0242ac120007",
       "previous": "4cd5af28-7ef5-11ea-a926-0242ac120004"
      },
      {
       "current": "35c362a4-55a3-11e7-b0b2-00163e9c0e35",
       "next": "484c7376-935c-11ea-8d02-0242ac120007",
       "previous": "4cd5af28-7ef5-11ea-a926-0242ac120004"
      },
      {
       "current": "35c362a4-55a3-11e7-b0b2-00163e9c0e35-1-69c4",
       "next": "bd797188-910b-11ea-8d02-0242ac120007",
       "previous": "4cd5af28-7ef5-11ea-a926-0242ac120004"
      },
      {
       "current": "35c362a4-55a3-11e7-b0b2-00163e9c0e35-2-69c4-6782",
       "next": "bd797188-910b-11ea-8d02-0242ac120007-1-7b40",
       "previous": "4cd5af28-7ef5-11ea-a926-0242ac120004-1-5d69"
      },
      {
       "current": "35c362a4-55a3-11e7-b0b2-00163e9c0e35-2-69c4-6782",
       "next": "bd797188-910b-11ea-8d02-0242ac120007-2-7b40-07bf",
       "previous": "4cd5af28-7ef5-11ea-a926-0242ac120004-2-5d69-6275"
      },
      {
       "current": "35c362a4-55a3-11e7-b0b2-00163e9c0e35-3-69c4-6782-425d",
       "next": "bd797188-910b-11ea-8d02-0242ac120007-2-7b40-07bf",
       "previous": "35c360f6-55a3-11e7-b0b2-00163e9c0e35-2-ddd6-2098"
      },
      {
       "current": "35c362a4-55a3-11e7-b0b2-00163e9c0e35-4-69c4-6782-425d-a877",
       "next": "bd797188-910b-11ea-8d02-0242ac120007-3-7b40-07bf-464c",
       "previous": "35c360f6-55a3-11e7-b0b2-00163e9c0e35-3-ddd6-2098-898f"
      },
      {
       "current": "35c362a4-55a3-11e7-b0b2-00163e9c0e35-5-69c4-6782-425d-a877-ce45",
       "next": "bd797188-910b-11ea-8d02-0242ac120007-4-7b40-07bf-464c-5a4d",
       "previous": "35c360f6-55a3-11e7-b0b2-00163e9c0e35-4-ddd6-2098-898f-649a"
      },
      {
       "current": "35c362a4-55a3-11e7-b0b2-00163e9c0e35-6-69c4-6782-425d-a877-ce45-1b8d",
       "next": "bd797188-910b-11ea-8d02-0242ac120007-5-7b40-07bf-464c-5a4d-93b4",
       "previous": "35c360f6-55a3-11e7-b0b2-00163e9c0e35-5-ddd6-2098-898f-649a-6b65"
      },
      {
       "current": "35c362a4-55a3-11e7-b0b2-00163e9c0e35-7-69c4-6782-425d-a877-ce45-1b8d-35bf",
       "next": "bd797188-910b-11ea-8d02-0242ac120007-6-7b40-07bf-464c-5a4d-93b4-fc71",
       "previous": "35c360f6-55a3-11e7-b0b2-00163e9c0e35-6-ddd6-2098-898f-649a-6b65-387e"
      },
      {
       "current": "35c362a4-55a3-11e7-b0b2-00163e9c0e35-8-69c4-6782-425d-a877-ce45-1b8d-35bf-3558",
       "next": "bd797188-910b-11ea-8d02-0242ac120007-7-7b40-07bf-464c-5a4d-93b4-fc71-15da",
       "previous": "35c360f6-55a3-11e7-b0b2-00163e9c0e35-7-ddd6-2098-898f-649a-6b65-387e-8276"
      }
     ],
     "next": "bd797188-910b-11ea-8d02-0242ac120007-8-7b40-07bf-464c-5a4d-93b4-fc71-15da-81f7",
     "previous": "35c360f6-55a3-11e7-b0b2-00163e9c0e35-8-ddd6-2098-898f-649a-6b65-387e-8276-8a67"
    }
   },
   "source": [
    "# 疎通確認\n",
    "以下コマンドを実行し、OpeHubからCephAdmin経由で、Cephノードに疎通することを確認する。"
   ]
  },
  {
   "cell_type": "code",
   "execution_count": null,
   "metadata": {
    "lc_cell_meme": {
     "current": "bd797188-910b-11ea-8d02-0242ac120007-8-7b40-07bf-464c-5a4d-93b4-fc71-15da-81f7",
     "history": [
      {
       "current": "bd797188-910b-11ea-8d02-0242ac120007",
       "next": "35c362a4-55a3-11e7-b0b2-00163e9c0e35",
       "previous": "7d464504-9107-11ea-8d02-0242ac120007"
      },
      {
       "current": "bd797188-910b-11ea-8d02-0242ac120007",
       "next": "70b95056-9111-11ea-8d02-0242ac120007",
       "previous": "7d464504-9107-11ea-8d02-0242ac120007"
      },
      {
       "current": "bd797188-910b-11ea-8d02-0242ac120007",
       "next": "35c362a4-55a3-11e7-b0b2-00163e9c0e35",
       "previous": "7d464504-9107-11ea-8d02-0242ac120007"
      },
      {
       "current": "bd797188-910b-11ea-8d02-0242ac120007",
       "next": "35c362a4-55a3-11e7-b0b2-00163e9c0e35",
       "previous": "4cd5af28-7ef5-11ea-a926-0242ac120004"
      },
      {
       "current": "bd797188-910b-11ea-8d02-0242ac120007",
       "next": "35c36448-55a3-11e7-b0b2-00163e9c0e35",
       "previous": "35c362a4-55a3-11e7-b0b2-00163e9c0e35"
      },
      {
       "current": "bd797188-910b-11ea-8d02-0242ac120007",
       "next": "35c3783e-55a3-11e7-b0b2-00163e9c0e35",
       "previous": "35c362a4-55a3-11e7-b0b2-00163e9c0e35"
      },
      {
       "current": "bd797188-910b-11ea-8d02-0242ac120007",
       "next": "35c3783e-55a3-11e7-b0b2-00163e9c0e35",
       "previous": "484c7376-935c-11ea-8d02-0242ac120007"
      },
      {
       "current": "bd797188-910b-11ea-8d02-0242ac120007",
       "next": "35c3783e-55a3-11e7-b0b2-00163e9c0e35",
       "previous": "35c362a4-55a3-11e7-b0b2-00163e9c0e35"
      },
      {
       "current": "bd797188-910b-11ea-8d02-0242ac120007",
       "next": "ac56a252-95bd-11ea-8d02-0242ac120007",
       "previous": "35c362a4-55a3-11e7-b0b2-00163e9c0e35"
      },
      {
       "current": "bd797188-910b-11ea-8d02-0242ac120007",
       "next": "35c581ba-55a3-11e7-b0b2-00163e9c0e35",
       "previous": "35c362a4-55a3-11e7-b0b2-00163e9c0e35"
      },
      {
       "current": "bd797188-910b-11ea-8d02-0242ac120007-1-7b40",
       "next": "a26599aa-9997-11ea-8d02-0242ac120007",
       "previous": "35c362a4-55a3-11e7-b0b2-00163e9c0e35"
      },
      {
       "current": "bd797188-910b-11ea-8d02-0242ac120007-2-7b40-07bf",
       "next": "a26599aa-9997-11ea-8d02-0242ac120007-1-9993",
       "previous": "35c362a4-55a3-11e7-b0b2-00163e9c0e35-1-69c4"
      },
      {
       "current": "bd797188-910b-11ea-8d02-0242ac120007-3-7b40-07bf-464c",
       "next": "a26599aa-9997-11ea-8d02-0242ac120007-2-9993-7138",
       "previous": "35c362a4-55a3-11e7-b0b2-00163e9c0e35-2-69c4-6782"
      },
      {
       "current": "bd797188-910b-11ea-8d02-0242ac120007-4-7b40-07bf-464c-5a4d",
       "next": "a26599aa-9997-11ea-8d02-0242ac120007-3-9993-7138-0fd4",
       "previous": "35c362a4-55a3-11e7-b0b2-00163e9c0e35-3-69c4-6782-425d"
      },
      {
       "current": "bd797188-910b-11ea-8d02-0242ac120007-5-7b40-07bf-464c-5a4d-93b4",
       "next": "a26599aa-9997-11ea-8d02-0242ac120007-4-9993-7138-0fd4-e949",
       "previous": "35c362a4-55a3-11e7-b0b2-00163e9c0e35-4-69c4-6782-425d-a877"
      },
      {
       "current": "bd797188-910b-11ea-8d02-0242ac120007-6-7b40-07bf-464c-5a4d-93b4-fc71",
       "next": "a26599aa-9997-11ea-8d02-0242ac120007-5-9993-7138-0fd4-e949-248c",
       "previous": "35c362a4-55a3-11e7-b0b2-00163e9c0e35-5-69c4-6782-425d-a877-ce45"
      },
      {
       "current": "bd797188-910b-11ea-8d02-0242ac120007-6-7b40-07bf-464c-5a4d-93b4-fc71",
       "next": "a26599aa-9997-11ea-8d02-0242ac120007-6-9993-7138-0fd4-e949-248c-2ec4",
       "previous": "35c362a4-55a3-11e7-b0b2-00163e9c0e35-6-69c4-6782-425d-a877-ce45-1b8d"
      },
      {
       "current": "bd797188-910b-11ea-8d02-0242ac120007-7-7b40-07bf-464c-5a4d-93b4-fc71-15da",
       "next": "54fa50f0-173a-11ef-ad2f-0242ac120005",
       "previous": "35c362a4-55a3-11e7-b0b2-00163e9c0e35-6-69c4-6782-425d-a877-ce45-1b8d"
      },
      {
       "current": "bd797188-910b-11ea-8d02-0242ac120007-8-7b40-07bf-464c-5a4d-93b4-fc71-15da-81f7",
       "next": "54fa50f0-173a-11ef-ad2f-0242ac120005-1-c6b4",
       "previous": "35c362a4-55a3-11e7-b0b2-00163e9c0e35-7-69c4-6782-425d-a877-ce45-1b8d-35bf"
      }
     ],
     "next": "54fa50f0-173a-11ef-ad2f-0242ac120005-2-c6b4-2633",
     "previous": "35c362a4-55a3-11e7-b0b2-00163e9c0e35-8-69c4-6782-425d-a877-ce45-1b8d-35bf-3558"
    }
   },
   "outputs": [],
   "source": [
    "!ansible -i $hosts -b -m shell -a 'hostname' ceph_admin\n",
    "\n",
    "for node_info in node_list:\n",
    "    prov_ip = node_info['prov_ip']\n",
    "    !ansible -i $hosts -b -m shell -a 'hostname' $prov_ip"
   ]
  },
  {
   "cell_type": "code",
   "execution_count": null,
   "metadata": {
    "lc_cell_meme": {
     "current": "54fa50f0-173a-11ef-ad2f-0242ac120005-2-c6b4-2633",
     "history": [
      {
       "current": "54fa50f0-173a-11ef-ad2f-0242ac120005-1-c6b4",
       "next": "a26599aa-9997-11ea-8d02-0242ac120007-6-9993-7138-0fd4-e949-248c-2ec4",
       "previous": "bd797188-910b-11ea-8d02-0242ac120007-6-7b40-07bf-464c-5a4d-93b4-fc71"
      },
      {
       "current": "54fa50f0-173a-11ef-ad2f-0242ac120005-2-c6b4-2633",
       "next": "a26599aa-9997-11ea-8d02-0242ac120007-7-9993-7138-0fd4-e949-248c-2ec4-3108",
       "previous": "bd797188-910b-11ea-8d02-0242ac120007-7-7b40-07bf-464c-5a4d-93b4-fc71-15da"
      }
     ],
     "next": "a26599aa-9997-11ea-8d02-0242ac120007-8-9993-7138-0fd4-e949-248c-2ec4-3108-967f",
     "previous": "bd797188-910b-11ea-8d02-0242ac120007-8-7b40-07bf-464c-5a4d-93b4-fc71-15da-81f7"
    }
   },
   "outputs": [],
   "source": [
    "!ansible -i $hosts -b -m shell -a 'hostname' ceph_nodes"
   ]
  },
  {
   "cell_type": "markdown",
   "metadata": {
    "lc_cell_meme": {
     "current": "a26599aa-9997-11ea-8d02-0242ac120007-8-9993-7138-0fd4-e949-248c-2ec4-3108-967f",
     "history": [
      {
       "current": "a26599aa-9997-11ea-8d02-0242ac120007-1-9993",
       "next": "a2659d92-9997-11ea-8d02-0242ac120007",
       "previous": "bd797188-910b-11ea-8d02-0242ac120007"
      },
      {
       "current": "a26599aa-9997-11ea-8d02-0242ac120007-2-9993-7138",
       "next": "a2659d92-9997-11ea-8d02-0242ac120007-1-14b1",
       "previous": "bd797188-910b-11ea-8d02-0242ac120007-1-7b40"
      },
      {
       "current": "a26599aa-9997-11ea-8d02-0242ac120007-3-9993-7138-0fd4",
       "next": "a2659d92-9997-11ea-8d02-0242ac120007-2-14b1-7acd",
       "previous": "bd797188-910b-11ea-8d02-0242ac120007-2-7b40-07bf"
      },
      {
       "current": "a26599aa-9997-11ea-8d02-0242ac120007-4-9993-7138-0fd4-e949",
       "next": "a2659d92-9997-11ea-8d02-0242ac120007-3-14b1-7acd-9596",
       "previous": "bd797188-910b-11ea-8d02-0242ac120007-3-7b40-07bf-464c"
      },
      {
       "current": "a26599aa-9997-11ea-8d02-0242ac120007-5-9993-7138-0fd4-e949-248c",
       "next": "a2659d92-9997-11ea-8d02-0242ac120007-4-14b1-7acd-9596-77b9",
       "previous": "bd797188-910b-11ea-8d02-0242ac120007-4-7b40-07bf-464c-5a4d"
      },
      {
       "current": "a26599aa-9997-11ea-8d02-0242ac120007-6-9993-7138-0fd4-e949-248c-2ec4",
       "next": "a2659d92-9997-11ea-8d02-0242ac120007-5-14b1-7acd-9596-77b9-5e1d",
       "previous": "bd797188-910b-11ea-8d02-0242ac120007-5-7b40-07bf-464c-5a4d-93b4"
      },
      {
       "current": "a26599aa-9997-11ea-8d02-0242ac120007-6-9993-7138-0fd4-e949-248c-2ec4",
       "next": "a2659d92-9997-11ea-8d02-0242ac120007-6-14b1-7acd-9596-77b9-5e1d-7b57",
       "previous": "bd797188-910b-11ea-8d02-0242ac120007-6-7b40-07bf-464c-5a4d-93b4-fc71"
      },
      {
       "current": "a26599aa-9997-11ea-8d02-0242ac120007-7-9993-7138-0fd4-e949-248c-2ec4-3108",
       "next": "a2659d92-9997-11ea-8d02-0242ac120007-6-14b1-7acd-9596-77b9-5e1d-7b57",
       "previous": "54fa50f0-173a-11ef-ad2f-0242ac120005"
      },
      {
       "current": "a26599aa-9997-11ea-8d02-0242ac120007-8-9993-7138-0fd4-e949-248c-2ec4-3108-967f",
       "next": "a2659d92-9997-11ea-8d02-0242ac120007-7-14b1-7acd-9596-77b9-5e1d-7b57-17fd",
       "previous": "54fa50f0-173a-11ef-ad2f-0242ac120005-1-c6b4"
      }
     ],
     "next": "a2659d92-9997-11ea-8d02-0242ac120007-8-14b1-7acd-9596-77b9-5e1d-7b57-17fd-3be8",
     "previous": "54fa50f0-173a-11ef-ad2f-0242ac120005-2-c6b4-2633"
    }
   },
   "source": [
    "# cephadm オーケストレータユーザを定義する"
   ]
  },
  {
   "cell_type": "markdown",
   "metadata": {
    "lc_cell_meme": {
     "current": "a2659d92-9997-11ea-8d02-0242ac120007-8-14b1-7acd-9596-77b9-5e1d-7b57-17fd-3be8",
     "history": [
      {
       "current": "a2659d92-9997-11ea-8d02-0242ac120007-1-14b1",
       "next": "a2659f40-9997-11ea-8d02-0242ac120007",
       "previous": "a26599aa-9997-11ea-8d02-0242ac120007"
      },
      {
       "current": "a2659d92-9997-11ea-8d02-0242ac120007-2-14b1-7acd",
       "next": "a2659f40-9997-11ea-8d02-0242ac120007-1-12af",
       "previous": "a26599aa-9997-11ea-8d02-0242ac120007-1-9993"
      },
      {
       "current": "a2659d92-9997-11ea-8d02-0242ac120007-3-14b1-7acd-9596",
       "next": "a2659f40-9997-11ea-8d02-0242ac120007-2-12af-d3eb",
       "previous": "a26599aa-9997-11ea-8d02-0242ac120007-2-9993-7138"
      },
      {
       "current": "a2659d92-9997-11ea-8d02-0242ac120007-4-14b1-7acd-9596-77b9",
       "next": "a2659f40-9997-11ea-8d02-0242ac120007-3-12af-d3eb-a307",
       "previous": "a26599aa-9997-11ea-8d02-0242ac120007-3-9993-7138-0fd4"
      },
      {
       "current": "a2659d92-9997-11ea-8d02-0242ac120007-5-14b1-7acd-9596-77b9-5e1d",
       "next": "a2659f40-9997-11ea-8d02-0242ac120007-4-12af-d3eb-a307-1041",
       "previous": "a26599aa-9997-11ea-8d02-0242ac120007-4-9993-7138-0fd4-e949"
      },
      {
       "current": "a2659d92-9997-11ea-8d02-0242ac120007-6-14b1-7acd-9596-77b9-5e1d-7b57",
       "next": "a2659f40-9997-11ea-8d02-0242ac120007-5-12af-d3eb-a307-1041-58a4",
       "previous": "a26599aa-9997-11ea-8d02-0242ac120007-5-9993-7138-0fd4-e949-248c"
      },
      {
       "current": "a2659d92-9997-11ea-8d02-0242ac120007-7-14b1-7acd-9596-77b9-5e1d-7b57-17fd",
       "next": "a2659f40-9997-11ea-8d02-0242ac120007-6-12af-d3eb-a307-1041-58a4-a3ec",
       "previous": "a26599aa-9997-11ea-8d02-0242ac120007-6-9993-7138-0fd4-e949-248c-2ec4"
      },
      {
       "current": "a2659d92-9997-11ea-8d02-0242ac120007-8-14b1-7acd-9596-77b9-5e1d-7b57-17fd-3be8",
       "next": "a2659f40-9997-11ea-8d02-0242ac120007-7-12af-d3eb-a307-1041-58a4-a3ec-27d1",
       "previous": "a26599aa-9997-11ea-8d02-0242ac120007-7-9993-7138-0fd4-e949-248c-2ec4-3108"
      }
     ],
     "next": "a2659f40-9997-11ea-8d02-0242ac120007-8-12af-d3eb-a307-1041-58a4-a3ec-27d1-270e",
     "previous": "a26599aa-9997-11ea-8d02-0242ac120007-8-9993-7138-0fd4-e949-248c-2ec4-3108-967f"
    }
   },
   "source": [
    "## ユーザ名"
   ]
  },
  {
   "cell_type": "code",
   "execution_count": null,
   "metadata": {
    "lc_cell_meme": {
     "current": "a2659f40-9997-11ea-8d02-0242ac120007-8-12af-d3eb-a307-1041-58a4-a3ec-27d1-270e",
     "history": [
      {
       "current": "a2659f40-9997-11ea-8d02-0242ac120007-1-12af",
       "next": "a265a0a8-9997-11ea-8d02-0242ac120007",
       "previous": "a2659d92-9997-11ea-8d02-0242ac120007"
      },
      {
       "current": "a2659f40-9997-11ea-8d02-0242ac120007-2-12af-d3eb",
       "next": "a265a0a8-9997-11ea-8d02-0242ac120007-1-0f51",
       "previous": "a2659d92-9997-11ea-8d02-0242ac120007-1-14b1"
      },
      {
       "current": "a2659f40-9997-11ea-8d02-0242ac120007-3-12af-d3eb-a307",
       "next": "a265a0a8-9997-11ea-8d02-0242ac120007-2-0f51-72c4",
       "previous": "a2659d92-9997-11ea-8d02-0242ac120007-2-14b1-7acd"
      },
      {
       "current": "a2659f40-9997-11ea-8d02-0242ac120007-3-12af-d3eb-a307",
       "next": "a265a0a8-9997-11ea-8d02-0242ac120007-3-0f51-72c4-b606",
       "previous": "a2659d92-9997-11ea-8d02-0242ac120007-3-14b1-7acd-9596"
      },
      {
       "current": "a2659f40-9997-11ea-8d02-0242ac120007-4-12af-d3eb-a307-1041",
       "next": "a265a1fc-9997-11ea-8d02-0242ac120007-3-cb99-0d45-1148",
       "previous": "a2659d92-9997-11ea-8d02-0242ac120007-3-14b1-7acd-9596"
      },
      {
       "current": "a2659f40-9997-11ea-8d02-0242ac120007-5-12af-d3eb-a307-1041-58a4",
       "next": "a265a1fc-9997-11ea-8d02-0242ac120007-4-cb99-0d45-1148-4d1a",
       "previous": "a2659d92-9997-11ea-8d02-0242ac120007-4-14b1-7acd-9596-77b9"
      },
      {
       "current": "a2659f40-9997-11ea-8d02-0242ac120007-6-12af-d3eb-a307-1041-58a4-a3ec",
       "next": "a265a1fc-9997-11ea-8d02-0242ac120007-5-cb99-0d45-1148-4d1a-7831",
       "previous": "a2659d92-9997-11ea-8d02-0242ac120007-5-14b1-7acd-9596-77b9-5e1d"
      },
      {
       "current": "a2659f40-9997-11ea-8d02-0242ac120007-7-12af-d3eb-a307-1041-58a4-a3ec-27d1",
       "next": "a265a1fc-9997-11ea-8d02-0242ac120007-6-cb99-0d45-1148-4d1a-7831-a9bb",
       "previous": "a2659d92-9997-11ea-8d02-0242ac120007-6-14b1-7acd-9596-77b9-5e1d-7b57"
      },
      {
       "current": "a2659f40-9997-11ea-8d02-0242ac120007-8-12af-d3eb-a307-1041-58a4-a3ec-27d1-270e",
       "next": "a265a1fc-9997-11ea-8d02-0242ac120007-7-cb99-0d45-1148-4d1a-7831-a9bb-6227",
       "previous": "a2659d92-9997-11ea-8d02-0242ac120007-7-14b1-7acd-9596-77b9-5e1d-7b57-17fd"
      }
     ],
     "next": "a265a1fc-9997-11ea-8d02-0242ac120007-8-cb99-0d45-1148-4d1a-7831-a9bb-6227-a974",
     "previous": "a2659d92-9997-11ea-8d02-0242ac120007-8-14b1-7acd-9596-77b9-5e1d-7b57-17fd-3be8"
    }
   },
   "outputs": [],
   "source": [
    "user_name = 'cephadmin'\n",
    "print(user_name)"
   ]
  },
  {
   "cell_type": "markdown",
   "metadata": {
    "lc_cell_meme": {
     "current": "a265a1fc-9997-11ea-8d02-0242ac120007-8-cb99-0d45-1148-4d1a-7831-a9bb-6227-a974",
     "history": [
      {
       "current": "a265a1fc-9997-11ea-8d02-0242ac120007",
       "next": "35c581ba-55a3-11e7-b0b2-00163e9c0e35",
       "previous": "a265a0a8-9997-11ea-8d02-0242ac120007"
      },
      {
       "current": "a265a1fc-9997-11ea-8d02-0242ac120007-1-cb99",
       "next": "00b1ed12-99a0-11ea-8d02-0242ac120007",
       "previous": "a265a0a8-9997-11ea-8d02-0242ac120007"
      },
      {
       "current": "a265a1fc-9997-11ea-8d02-0242ac120007-2-cb99-0d45",
       "next": "00b1ed12-99a0-11ea-8d02-0242ac120007-1-6220",
       "previous": "a265a0a8-9997-11ea-8d02-0242ac120007-1-0f51"
      },
      {
       "current": "a265a1fc-9997-11ea-8d02-0242ac120007-3-cb99-0d45-1148",
       "next": "00b1ed12-99a0-11ea-8d02-0242ac120007-2-6220-c60a",
       "previous": "a265a0a8-9997-11ea-8d02-0242ac120007-2-0f51-72c4"
      },
      {
       "current": "a265a1fc-9997-11ea-8d02-0242ac120007-3-cb99-0d45-1148",
       "next": "00b1ed12-99a0-11ea-8d02-0242ac120007-3-6220-c60a-aa27",
       "previous": "a265a0a8-9997-11ea-8d02-0242ac120007-3-0f51-72c4-b606"
      },
      {
       "current": "a265a1fc-9997-11ea-8d02-0242ac120007-4-cb99-0d45-1148-4d1a",
       "next": "00b1ed12-99a0-11ea-8d02-0242ac120007-3-6220-c60a-aa27",
       "previous": "a2659f40-9997-11ea-8d02-0242ac120007-3-12af-d3eb-a307"
      },
      {
       "current": "a265a1fc-9997-11ea-8d02-0242ac120007-5-cb99-0d45-1148-4d1a-7831",
       "next": "00b1ed12-99a0-11ea-8d02-0242ac120007-4-6220-c60a-aa27-453d",
       "previous": "a2659f40-9997-11ea-8d02-0242ac120007-4-12af-d3eb-a307-1041"
      },
      {
       "current": "a265a1fc-9997-11ea-8d02-0242ac120007-6-cb99-0d45-1148-4d1a-7831-a9bb",
       "next": "00b1ed12-99a0-11ea-8d02-0242ac120007-5-6220-c60a-aa27-453d-8575",
       "previous": "a2659f40-9997-11ea-8d02-0242ac120007-5-12af-d3eb-a307-1041-58a4"
      },
      {
       "current": "a265a1fc-9997-11ea-8d02-0242ac120007-7-cb99-0d45-1148-4d1a-7831-a9bb-6227",
       "next": "00b1ed12-99a0-11ea-8d02-0242ac120007-6-6220-c60a-aa27-453d-8575-8109",
       "previous": "a2659f40-9997-11ea-8d02-0242ac120007-6-12af-d3eb-a307-1041-58a4-a3ec"
      },
      {
       "current": "a265a1fc-9997-11ea-8d02-0242ac120007-8-cb99-0d45-1148-4d1a-7831-a9bb-6227-a974",
       "next": "00b1ed12-99a0-11ea-8d02-0242ac120007-7-6220-c60a-aa27-453d-8575-8109-9d88",
       "previous": "a2659f40-9997-11ea-8d02-0242ac120007-7-12af-d3eb-a307-1041-58a4-a3ec-27d1"
      }
     ],
     "next": "00b1ed12-99a0-11ea-8d02-0242ac120007-8-6220-c60a-aa27-453d-8575-8109-9d88-ee19",
     "previous": "a2659f40-9997-11ea-8d02-0242ac120007-8-12af-d3eb-a307-1041-58a4-a3ec-27d1-270e"
    }
   },
   "source": [
    "## 公開鍵\n",
    "\n",
    "運管サーバとそれ以外のサーバは異なる鍵を使用する.\n",
    "このnotebookは現時点で運管サーバ以外をターゲットとしている"
   ]
  },
  {
   "cell_type": "code",
   "execution_count": null,
   "metadata": {
    "lc_cell_meme": {
     "current": "00b1ed12-99a0-11ea-8d02-0242ac120007-8-6220-c60a-aa27-453d-8575-8109-9d88-ee19",
     "history": [
      {
       "current": "00b1ed12-99a0-11ea-8d02-0242ac120007-1-6220",
       "next": "00b1f01e-99a0-11ea-8d02-0242ac120007",
       "previous": "a265a1fc-9997-11ea-8d02-0242ac120007"
      },
      {
       "current": "00b1ed12-99a0-11ea-8d02-0242ac120007-2-6220-c60a",
       "next": "00b1f01e-99a0-11ea-8d02-0242ac120007-1-5233",
       "previous": "a265a1fc-9997-11ea-8d02-0242ac120007-1-cb99"
      },
      {
       "current": "00b1ed12-99a0-11ea-8d02-0242ac120007-3-6220-c60a-aa27",
       "next": "00b1f01e-99a0-11ea-8d02-0242ac120007-2-5233-5b9f",
       "previous": "a265a1fc-9997-11ea-8d02-0242ac120007-2-cb99-0d45"
      },
      {
       "current": "00b1ed12-99a0-11ea-8d02-0242ac120007-4-6220-c60a-aa27-453d",
       "next": "00b1f01e-99a0-11ea-8d02-0242ac120007-3-5233-5b9f-da75",
       "previous": "a265a1fc-9997-11ea-8d02-0242ac120007-3-cb99-0d45-1148"
      },
      {
       "current": "00b1ed12-99a0-11ea-8d02-0242ac120007-5-6220-c60a-aa27-453d-8575",
       "next": "00b1f01e-99a0-11ea-8d02-0242ac120007-4-5233-5b9f-da75-c97e",
       "previous": "a265a1fc-9997-11ea-8d02-0242ac120007-4-cb99-0d45-1148-4d1a"
      },
      {
       "current": "00b1ed12-99a0-11ea-8d02-0242ac120007-6-6220-c60a-aa27-453d-8575-8109",
       "next": "00b1f01e-99a0-11ea-8d02-0242ac120007-5-5233-5b9f-da75-c97e-9e47",
       "previous": "a265a1fc-9997-11ea-8d02-0242ac120007-5-cb99-0d45-1148-4d1a-7831"
      },
      {
       "current": "00b1ed12-99a0-11ea-8d02-0242ac120007-7-6220-c60a-aa27-453d-8575-8109-9d88",
       "next": "00b1f01e-99a0-11ea-8d02-0242ac120007-6-5233-5b9f-da75-c97e-9e47-6928",
       "previous": "a265a1fc-9997-11ea-8d02-0242ac120007-6-cb99-0d45-1148-4d1a-7831-a9bb"
      },
      {
       "current": "00b1ed12-99a0-11ea-8d02-0242ac120007-8-6220-c60a-aa27-453d-8575-8109-9d88-ee19",
       "next": "00b1f01e-99a0-11ea-8d02-0242ac120007-7-5233-5b9f-da75-c97e-9e47-6928-d50b",
       "previous": "a265a1fc-9997-11ea-8d02-0242ac120007-7-cb99-0d45-1148-4d1a-7831-a9bb-6227"
      }
     ],
     "next": "00b1f01e-99a0-11ea-8d02-0242ac120007-8-5233-5b9f-da75-c97e-9e47-6928-d50b-022b",
     "previous": "a265a1fc-9997-11ea-8d02-0242ac120007-8-cb99-0d45-1148-4d1a-7831-a9bb-6227-a974"
    }
   },
   "outputs": [],
   "source": [
    "public_key_file = os.environ['HOME'] + \"/.ssh/id_rsa.pub\"\n",
    "print (public_key_file)"
   ]
  },
  {
   "cell_type": "code",
   "execution_count": null,
   "metadata": {
    "lc_cell_meme": {
     "current": "00b1f01e-99a0-11ea-8d02-0242ac120007-8-5233-5b9f-da75-c97e-9e47-6928-d50b-022b",
     "history": [
      {
       "current": "00b1f01e-99a0-11ea-8d02-0242ac120007",
       "next": "00b1f1ea-99a0-11ea-8d02-0242ac120007",
       "previous": "00b1ed12-99a0-11ea-8d02-0242ac120007"
      },
      {
       "current": "00b1f01e-99a0-11ea-8d02-0242ac120007-1-5233",
       "next": "d8f35ab6-99a1-11ea-8d02-0242ac120007",
       "previous": "00b1ed12-99a0-11ea-8d02-0242ac120007"
      },
      {
       "current": "00b1f01e-99a0-11ea-8d02-0242ac120007-2-5233-5b9f",
       "next": "d8f35ab6-99a1-11ea-8d02-0242ac120007-1-8f8b",
       "previous": "00b1ed12-99a0-11ea-8d02-0242ac120007-1-6220"
      },
      {
       "current": "00b1f01e-99a0-11ea-8d02-0242ac120007-3-5233-5b9f-da75",
       "next": "d8f35ab6-99a1-11ea-8d02-0242ac120007-2-8f8b-6504",
       "previous": "00b1ed12-99a0-11ea-8d02-0242ac120007-2-6220-c60a"
      },
      {
       "current": "00b1f01e-99a0-11ea-8d02-0242ac120007-4-5233-5b9f-da75-c97e",
       "next": "d8f35ab6-99a1-11ea-8d02-0242ac120007-3-8f8b-6504-f9bf",
       "previous": "00b1ed12-99a0-11ea-8d02-0242ac120007-3-6220-c60a-aa27"
      },
      {
       "current": "00b1f01e-99a0-11ea-8d02-0242ac120007-5-5233-5b9f-da75-c97e-9e47",
       "next": "d8f35ab6-99a1-11ea-8d02-0242ac120007-4-8f8b-6504-f9bf-6385",
       "previous": "00b1ed12-99a0-11ea-8d02-0242ac120007-4-6220-c60a-aa27-453d"
      },
      {
       "current": "00b1f01e-99a0-11ea-8d02-0242ac120007-6-5233-5b9f-da75-c97e-9e47-6928",
       "next": "d8f35ab6-99a1-11ea-8d02-0242ac120007-5-8f8b-6504-f9bf-6385-6eed",
       "previous": "00b1ed12-99a0-11ea-8d02-0242ac120007-5-6220-c60a-aa27-453d-8575"
      },
      {
       "current": "00b1f01e-99a0-11ea-8d02-0242ac120007-7-5233-5b9f-da75-c97e-9e47-6928-d50b",
       "next": "d8f35ab6-99a1-11ea-8d02-0242ac120007-6-8f8b-6504-f9bf-6385-6eed-2efc",
       "previous": "00b1ed12-99a0-11ea-8d02-0242ac120007-6-6220-c60a-aa27-453d-8575-8109"
      },
      {
       "current": "00b1f01e-99a0-11ea-8d02-0242ac120007-8-5233-5b9f-da75-c97e-9e47-6928-d50b-022b",
       "next": "d8f35ab6-99a1-11ea-8d02-0242ac120007-7-8f8b-6504-f9bf-6385-6eed-2efc-9ec3",
       "previous": "00b1ed12-99a0-11ea-8d02-0242ac120007-7-6220-c60a-aa27-453d-8575-8109-9d88"
      }
     ],
     "next": "d8f35ab6-99a1-11ea-8d02-0242ac120007-8-8f8b-6504-f9bf-6385-6eed-2efc-9ec3-f4e0",
     "previous": "00b1ed12-99a0-11ea-8d02-0242ac120007-8-6220-c60a-aa27-453d-8575-8109-9d88-ee19"
    }
   },
   "outputs": [],
   "source": [
    "public_key_path = os.path.abspath(public_key_file)\n",
    "assert os.path.exists(public_key_path), \"公開鍵が見つかりません\"\n",
    "\n",
    "print(\"公開鍵が見つかりました\")"
   ]
  },
  {
   "cell_type": "code",
   "execution_count": null,
   "metadata": {
    "lc_cell_meme": {
     "current": "d8f35ab6-99a1-11ea-8d02-0242ac120007-8-8f8b-6504-f9bf-6385-6eed-2efc-9ec3-f4e0",
     "history": [
      {
       "current": "d8f35ab6-99a1-11ea-8d02-0242ac120007-1-8f8b",
       "next": "00b1f1ea-99a0-11ea-8d02-0242ac120007",
       "previous": "00b1f01e-99a0-11ea-8d02-0242ac120007"
      },
      {
       "current": "d8f35ab6-99a1-11ea-8d02-0242ac120007-2-8f8b-6504",
       "next": "00b1f1ea-99a0-11ea-8d02-0242ac120007-1-cc87",
       "previous": "00b1f01e-99a0-11ea-8d02-0242ac120007-1-5233"
      },
      {
       "current": "d8f35ab6-99a1-11ea-8d02-0242ac120007-3-8f8b-6504-f9bf",
       "next": "00b1f1ea-99a0-11ea-8d02-0242ac120007-2-cc87-b64b",
       "previous": "00b1f01e-99a0-11ea-8d02-0242ac120007-2-5233-5b9f"
      },
      {
       "current": "d8f35ab6-99a1-11ea-8d02-0242ac120007-4-8f8b-6504-f9bf-6385",
       "next": "00b1f1ea-99a0-11ea-8d02-0242ac120007-3-cc87-b64b-a213",
       "previous": "00b1f01e-99a0-11ea-8d02-0242ac120007-3-5233-5b9f-da75"
      },
      {
       "current": "d8f35ab6-99a1-11ea-8d02-0242ac120007-5-8f8b-6504-f9bf-6385-6eed",
       "next": "00b1f1ea-99a0-11ea-8d02-0242ac120007-4-cc87-b64b-a213-3d44",
       "previous": "00b1f01e-99a0-11ea-8d02-0242ac120007-4-5233-5b9f-da75-c97e"
      },
      {
       "current": "d8f35ab6-99a1-11ea-8d02-0242ac120007-6-8f8b-6504-f9bf-6385-6eed-2efc",
       "next": "00b1f1ea-99a0-11ea-8d02-0242ac120007-5-cc87-b64b-a213-3d44-4337",
       "previous": "00b1f01e-99a0-11ea-8d02-0242ac120007-5-5233-5b9f-da75-c97e-9e47"
      },
      {
       "current": "d8f35ab6-99a1-11ea-8d02-0242ac120007-7-8f8b-6504-f9bf-6385-6eed-2efc-9ec3",
       "next": "00b1f1ea-99a0-11ea-8d02-0242ac120007-6-cc87-b64b-a213-3d44-4337-9f62",
       "previous": "00b1f01e-99a0-11ea-8d02-0242ac120007-6-5233-5b9f-da75-c97e-9e47-6928"
      },
      {
       "current": "d8f35ab6-99a1-11ea-8d02-0242ac120007-8-8f8b-6504-f9bf-6385-6eed-2efc-9ec3-f4e0",
       "next": "00b1f1ea-99a0-11ea-8d02-0242ac120007-7-cc87-b64b-a213-3d44-4337-9f62-fc2a",
       "previous": "00b1f01e-99a0-11ea-8d02-0242ac120007-7-5233-5b9f-da75-c97e-9e47-6928-d50b"
      }
     ],
     "next": "00b1f1ea-99a0-11ea-8d02-0242ac120007-8-cc87-b64b-a213-3d44-4337-9f62-fc2a-5747",
     "previous": "00b1f01e-99a0-11ea-8d02-0242ac120007-8-5233-5b9f-da75-c97e-9e47-6928-d50b-022b"
    }
   },
   "outputs": [],
   "source": [
    "with open(public_key_path) as f:\n",
    "    public_key = f.read()\n",
    "\n",
    "print(public_key)"
   ]
  },
  {
   "cell_type": "markdown",
   "metadata": {
    "lc_cell_meme": {
     "current": "00b1f1ea-99a0-11ea-8d02-0242ac120007-8-cc87-b64b-a213-3d44-4337-9f62-fc2a-5747",
     "history": [
      {
       "current": "00b1f1ea-99a0-11ea-8d02-0242ac120007",
       "next": "00b1f37a-99a0-11ea-8d02-0242ac120007",
       "previous": "00b1f01e-99a0-11ea-8d02-0242ac120007"
      },
      {
       "current": "00b1f1ea-99a0-11ea-8d02-0242ac120007-1-cc87",
       "next": "00b1f37a-99a0-11ea-8d02-0242ac120007",
       "previous": "d8f35ab6-99a1-11ea-8d02-0242ac120007"
      },
      {
       "current": "00b1f1ea-99a0-11ea-8d02-0242ac120007-2-cc87-b64b",
       "next": "00b1f37a-99a0-11ea-8d02-0242ac120007-1-4405",
       "previous": "d8f35ab6-99a1-11ea-8d02-0242ac120007-1-8f8b"
      },
      {
       "current": "00b1f1ea-99a0-11ea-8d02-0242ac120007-3-cc87-b64b-a213",
       "next": "00b1f37a-99a0-11ea-8d02-0242ac120007-2-4405-1a6d",
       "previous": "d8f35ab6-99a1-11ea-8d02-0242ac120007-2-8f8b-6504"
      },
      {
       "current": "00b1f1ea-99a0-11ea-8d02-0242ac120007-4-cc87-b64b-a213-3d44",
       "next": "00b1f37a-99a0-11ea-8d02-0242ac120007-3-4405-1a6d-150a",
       "previous": "d8f35ab6-99a1-11ea-8d02-0242ac120007-3-8f8b-6504-f9bf"
      },
      {
       "current": "00b1f1ea-99a0-11ea-8d02-0242ac120007-5-cc87-b64b-a213-3d44-4337",
       "next": "00b1f37a-99a0-11ea-8d02-0242ac120007-4-4405-1a6d-150a-f494",
       "previous": "d8f35ab6-99a1-11ea-8d02-0242ac120007-4-8f8b-6504-f9bf-6385"
      },
      {
       "current": "00b1f1ea-99a0-11ea-8d02-0242ac120007-6-cc87-b64b-a213-3d44-4337-9f62",
       "next": "00b1f37a-99a0-11ea-8d02-0242ac120007-5-4405-1a6d-150a-f494-f9f6",
       "previous": "d8f35ab6-99a1-11ea-8d02-0242ac120007-5-8f8b-6504-f9bf-6385-6eed"
      },
      {
       "current": "00b1f1ea-99a0-11ea-8d02-0242ac120007-7-cc87-b64b-a213-3d44-4337-9f62-fc2a",
       "next": "00b1f37a-99a0-11ea-8d02-0242ac120007-6-4405-1a6d-150a-f494-f9f6-1f6a",
       "previous": "d8f35ab6-99a1-11ea-8d02-0242ac120007-6-8f8b-6504-f9bf-6385-6eed-2efc"
      },
      {
       "current": "00b1f1ea-99a0-11ea-8d02-0242ac120007-8-cc87-b64b-a213-3d44-4337-9f62-fc2a-5747",
       "next": "00b1f37a-99a0-11ea-8d02-0242ac120007-7-4405-1a6d-150a-f494-f9f6-1f6a-67ab",
       "previous": "d8f35ab6-99a1-11ea-8d02-0242ac120007-7-8f8b-6504-f9bf-6385-6eed-2efc-9ec3"
      }
     ],
     "next": "00b1f37a-99a0-11ea-8d02-0242ac120007-8-4405-1a6d-150a-f494-f9f6-1f6a-67ab-2781",
     "previous": "d8f35ab6-99a1-11ea-8d02-0242ac120007-8-8f8b-6504-f9bf-6385-6eed-2efc-9ec3-f4e0"
    }
   },
   "source": [
    "# ユーザが存在するか確認する"
   ]
  },
  {
   "cell_type": "code",
   "execution_count": null,
   "metadata": {
    "lc_cell_meme": {
     "current": "00b1f37a-99a0-11ea-8d02-0242ac120007-8-4405-1a6d-150a-f494-f9f6-1f6a-67ab-2781",
     "history": [
      {
       "current": "00b1f37a-99a0-11ea-8d02-0242ac120007-1-4405",
       "next": "00b1f5a0-99a0-11ea-8d02-0242ac120007",
       "previous": "00b1f1ea-99a0-11ea-8d02-0242ac120007"
      },
      {
       "current": "00b1f37a-99a0-11ea-8d02-0242ac120007-2-4405-1a6d",
       "next": "00b1f5a0-99a0-11ea-8d02-0242ac120007-1-3128",
       "previous": "00b1f1ea-99a0-11ea-8d02-0242ac120007-1-cc87"
      },
      {
       "current": "00b1f37a-99a0-11ea-8d02-0242ac120007-3-4405-1a6d-150a",
       "next": "00b1f5a0-99a0-11ea-8d02-0242ac120007-2-3128-bac6",
       "previous": "00b1f1ea-99a0-11ea-8d02-0242ac120007-2-cc87-b64b"
      },
      {
       "current": "00b1f37a-99a0-11ea-8d02-0242ac120007-4-4405-1a6d-150a-f494",
       "next": "00b1f5a0-99a0-11ea-8d02-0242ac120007-3-3128-bac6-d507",
       "previous": "00b1f1ea-99a0-11ea-8d02-0242ac120007-3-cc87-b64b-a213"
      },
      {
       "current": "00b1f37a-99a0-11ea-8d02-0242ac120007-5-4405-1a6d-150a-f494-f9f6",
       "next": "00b1f5a0-99a0-11ea-8d02-0242ac120007-4-3128-bac6-d507-8bf8",
       "previous": "00b1f1ea-99a0-11ea-8d02-0242ac120007-4-cc87-b64b-a213-3d44"
      },
      {
       "current": "00b1f37a-99a0-11ea-8d02-0242ac120007-6-4405-1a6d-150a-f494-f9f6-1f6a",
       "next": "00b1f5a0-99a0-11ea-8d02-0242ac120007-5-3128-bac6-d507-8bf8-3a6a",
       "previous": "00b1f1ea-99a0-11ea-8d02-0242ac120007-5-cc87-b64b-a213-3d44-4337"
      },
      {
       "current": "00b1f37a-99a0-11ea-8d02-0242ac120007-7-4405-1a6d-150a-f494-f9f6-1f6a-67ab",
       "next": "00b1f5a0-99a0-11ea-8d02-0242ac120007-6-3128-bac6-d507-8bf8-3a6a-ce11",
       "previous": "00b1f1ea-99a0-11ea-8d02-0242ac120007-6-cc87-b64b-a213-3d44-4337-9f62"
      },
      {
       "current": "00b1f37a-99a0-11ea-8d02-0242ac120007-8-4405-1a6d-150a-f494-f9f6-1f6a-67ab-2781",
       "next": "00b1f5a0-99a0-11ea-8d02-0242ac120007-7-3128-bac6-d507-8bf8-3a6a-ce11-ef99",
       "previous": "00b1f1ea-99a0-11ea-8d02-0242ac120007-7-cc87-b64b-a213-3d44-4337-9f62-fc2a"
      }
     ],
     "next": "00b1f5a0-99a0-11ea-8d02-0242ac120007-8-3128-bac6-d507-8bf8-3a6a-ce11-ef99-f5d0",
     "previous": "00b1f1ea-99a0-11ea-8d02-0242ac120007-8-cc87-b64b-a213-3d44-4337-9f62-fc2a-5747"
    }
   },
   "outputs": [],
   "source": [
    "check_list = []\n",
    "for node_info in node_list:\n",
    "    prov_ip = node_info['prov_ip']\n",
    "    host_name = node_info['name']\n",
    "    elem = {}\n",
    "    elem['addr'] = prov_ip\n",
    "    elem['description'] = host_name\n",
    "    elem['user_name'] = user_name\n",
    "    check_list.append(elem)\n",
    "\n",
    "print (check_list)"
   ]
  },
  {
   "cell_type": "code",
   "execution_count": null,
   "metadata": {
    "lc_cell_meme": {
     "current": "00b1f5a0-99a0-11ea-8d02-0242ac120007-8-3128-bac6-d507-8bf8-3a6a-ce11-ef99-f5d0",
     "history": [
      {
       "current": "00b1f5a0-99a0-11ea-8d02-0242ac120007",
       "next": "35c581ba-55a3-11e7-b0b2-00163e9c0e35",
       "previous": "00b1f37a-99a0-11ea-8d02-0242ac120007"
      },
      {
       "current": "00b1f5a0-99a0-11ea-8d02-0242ac120007-1-3128",
       "next": "48387e44-99a0-11ea-8d02-0242ac120007",
       "previous": "00b1f37a-99a0-11ea-8d02-0242ac120007"
      },
      {
       "current": "00b1f5a0-99a0-11ea-8d02-0242ac120007-2-3128-bac6",
       "next": "48387e44-99a0-11ea-8d02-0242ac120007-1-6aa3",
       "previous": "00b1f37a-99a0-11ea-8d02-0242ac120007-1-4405"
      },
      {
       "current": "00b1f5a0-99a0-11ea-8d02-0242ac120007-3-3128-bac6-d507",
       "next": "48387e44-99a0-11ea-8d02-0242ac120007-2-6aa3-58d5",
       "previous": "00b1f37a-99a0-11ea-8d02-0242ac120007-2-4405-1a6d"
      },
      {
       "current": "00b1f5a0-99a0-11ea-8d02-0242ac120007-4-3128-bac6-d507-8bf8",
       "next": "48387e44-99a0-11ea-8d02-0242ac120007-3-6aa3-58d5-2a82",
       "previous": "00b1f37a-99a0-11ea-8d02-0242ac120007-3-4405-1a6d-150a"
      },
      {
       "current": "00b1f5a0-99a0-11ea-8d02-0242ac120007-5-3128-bac6-d507-8bf8-3a6a",
       "next": "48387e44-99a0-11ea-8d02-0242ac120007-4-6aa3-58d5-2a82-28b0",
       "previous": "00b1f37a-99a0-11ea-8d02-0242ac120007-4-4405-1a6d-150a-f494"
      },
      {
       "current": "00b1f5a0-99a0-11ea-8d02-0242ac120007-6-3128-bac6-d507-8bf8-3a6a-ce11",
       "next": "48387e44-99a0-11ea-8d02-0242ac120007-5-6aa3-58d5-2a82-28b0-a863",
       "previous": "00b1f37a-99a0-11ea-8d02-0242ac120007-5-4405-1a6d-150a-f494-f9f6"
      },
      {
       "current": "00b1f5a0-99a0-11ea-8d02-0242ac120007-7-3128-bac6-d507-8bf8-3a6a-ce11-ef99",
       "next": "48387e44-99a0-11ea-8d02-0242ac120007-6-6aa3-58d5-2a82-28b0-a863-5278",
       "previous": "00b1f37a-99a0-11ea-8d02-0242ac120007-6-4405-1a6d-150a-f494-f9f6-1f6a"
      },
      {
       "current": "00b1f5a0-99a0-11ea-8d02-0242ac120007-8-3128-bac6-d507-8bf8-3a6a-ce11-ef99-f5d0",
       "next": "48387e44-99a0-11ea-8d02-0242ac120007-7-6aa3-58d5-2a82-28b0-a863-5278-4c92",
       "previous": "00b1f37a-99a0-11ea-8d02-0242ac120007-7-4405-1a6d-150a-f494-f9f6-1f6a-67ab"
      }
     ],
     "next": "48387e44-99a0-11ea-8d02-0242ac120007-8-6aa3-58d5-2a82-28b0-a863-5278-4c92-484f",
     "previous": "00b1f37a-99a0-11ea-8d02-0242ac120007-8-4405-1a6d-150a-f494-f9f6-1f6a-67ab-2781"
    }
   },
   "outputs": [],
   "source": [
    "uid_exist_result = []\n",
    "\n",
    "for host in check_list:\n",
    "    print(host['addr'])\n",
    "    \n",
    "    ret = !ansible -m shell -a \"id -u {host['user_name']}\" -i $hosts {host['addr']}\n",
    "    \n",
    "    uid_exist_result.append({\n",
    "        'description': host['description'],\n",
    "        'addr': host['addr'],\n",
    "        'user_name': host['user_name'],\n",
    "        'user_exist': len(ret.grep('FAILED')) < 1\n",
    "    })"
   ]
  },
  {
   "cell_type": "code",
   "execution_count": null,
   "metadata": {
    "lc_cell_meme": {
     "current": "48387e44-99a0-11ea-8d02-0242ac120007-8-6aa3-58d5-2a82-28b0-a863-5278-4c92-484f",
     "history": [
      {
       "current": "48387e44-99a0-11ea-8d02-0242ac120007-1-6aa3",
       "next": "4838811e-99a0-11ea-8d02-0242ac120007",
       "previous": "00b1f5a0-99a0-11ea-8d02-0242ac120007"
      },
      {
       "current": "48387e44-99a0-11ea-8d02-0242ac120007-2-6aa3-58d5",
       "next": "4838811e-99a0-11ea-8d02-0242ac120007-1-38ae",
       "previous": "00b1f5a0-99a0-11ea-8d02-0242ac120007-1-3128"
      },
      {
       "current": "48387e44-99a0-11ea-8d02-0242ac120007-3-6aa3-58d5-2a82",
       "next": "4838811e-99a0-11ea-8d02-0242ac120007-2-38ae-ffd3",
       "previous": "00b1f5a0-99a0-11ea-8d02-0242ac120007-2-3128-bac6"
      },
      {
       "current": "48387e44-99a0-11ea-8d02-0242ac120007-4-6aa3-58d5-2a82-28b0",
       "next": "4838811e-99a0-11ea-8d02-0242ac120007-3-38ae-ffd3-48d6",
       "previous": "00b1f5a0-99a0-11ea-8d02-0242ac120007-3-3128-bac6-d507"
      },
      {
       "current": "48387e44-99a0-11ea-8d02-0242ac120007-5-6aa3-58d5-2a82-28b0-a863",
       "next": "4838811e-99a0-11ea-8d02-0242ac120007-4-38ae-ffd3-48d6-ca26",
       "previous": "00b1f5a0-99a0-11ea-8d02-0242ac120007-4-3128-bac6-d507-8bf8"
      },
      {
       "current": "48387e44-99a0-11ea-8d02-0242ac120007-6-6aa3-58d5-2a82-28b0-a863-5278",
       "next": "4838811e-99a0-11ea-8d02-0242ac120007-5-38ae-ffd3-48d6-ca26-eab3",
       "previous": "00b1f5a0-99a0-11ea-8d02-0242ac120007-5-3128-bac6-d507-8bf8-3a6a"
      },
      {
       "current": "48387e44-99a0-11ea-8d02-0242ac120007-7-6aa3-58d5-2a82-28b0-a863-5278-4c92",
       "next": "4838811e-99a0-11ea-8d02-0242ac120007-6-38ae-ffd3-48d6-ca26-eab3-11b4",
       "previous": "00b1f5a0-99a0-11ea-8d02-0242ac120007-6-3128-bac6-d507-8bf8-3a6a-ce11"
      },
      {
       "current": "48387e44-99a0-11ea-8d02-0242ac120007-8-6aa3-58d5-2a82-28b0-a863-5278-4c92-484f",
       "next": "4838811e-99a0-11ea-8d02-0242ac120007-7-38ae-ffd3-48d6-ca26-eab3-11b4-fd17",
       "previous": "00b1f5a0-99a0-11ea-8d02-0242ac120007-7-3128-bac6-d507-8bf8-3a6a-ce11-ef99"
      }
     ],
     "next": "4838811e-99a0-11ea-8d02-0242ac120007-8-38ae-ffd3-48d6-ca26-eab3-11b4-fd17-7e2f",
     "previous": "00b1f5a0-99a0-11ea-8d02-0242ac120007-8-3128-bac6-d507-8bf8-3a6a-ce11-ef99-f5d0"
    }
   },
   "outputs": [],
   "source": [
    "import pandas as pd\n",
    "\n",
    "pd.DataFrame(uid_exist_result)"
   ]
  },
  {
   "cell_type": "markdown",
   "metadata": {
    "lc_cell_meme": {
     "current": "4838811e-99a0-11ea-8d02-0242ac120007-8-38ae-ffd3-48d6-ca26-eab3-11b4-fd17-7e2f",
     "history": [
      {
       "current": "4838811e-99a0-11ea-8d02-0242ac120007",
       "next": "483882d6-99a0-11ea-8d02-0242ac120007",
       "previous": "48387e44-99a0-11ea-8d02-0242ac120007"
      },
      {
       "current": "4838811e-99a0-11ea-8d02-0242ac120007-1-38ae",
       "next": "d7440a72-99a0-11ea-8d02-0242ac120007",
       "previous": "48387e44-99a0-11ea-8d02-0242ac120007"
      },
      {
       "current": "4838811e-99a0-11ea-8d02-0242ac120007-2-38ae-ffd3",
       "next": "d7440a72-99a0-11ea-8d02-0242ac120007-1-5233",
       "previous": "48387e44-99a0-11ea-8d02-0242ac120007-1-6aa3"
      },
      {
       "current": "4838811e-99a0-11ea-8d02-0242ac120007-3-38ae-ffd3-48d6",
       "next": "d7440a72-99a0-11ea-8d02-0242ac120007-2-5233-67c9",
       "previous": "48387e44-99a0-11ea-8d02-0242ac120007-2-6aa3-58d5"
      },
      {
       "current": "4838811e-99a0-11ea-8d02-0242ac120007-4-38ae-ffd3-48d6-ca26",
       "next": "d7440a72-99a0-11ea-8d02-0242ac120007-3-5233-67c9-e33f",
       "previous": "48387e44-99a0-11ea-8d02-0242ac120007-3-6aa3-58d5-2a82"
      },
      {
       "current": "4838811e-99a0-11ea-8d02-0242ac120007-5-38ae-ffd3-48d6-ca26-eab3",
       "next": "d7440a72-99a0-11ea-8d02-0242ac120007-4-5233-67c9-e33f-f7a1",
       "previous": "48387e44-99a0-11ea-8d02-0242ac120007-4-6aa3-58d5-2a82-28b0"
      },
      {
       "current": "4838811e-99a0-11ea-8d02-0242ac120007-6-38ae-ffd3-48d6-ca26-eab3-11b4",
       "next": "d7440a72-99a0-11ea-8d02-0242ac120007-5-5233-67c9-e33f-f7a1-d3cd",
       "previous": "48387e44-99a0-11ea-8d02-0242ac120007-5-6aa3-58d5-2a82-28b0-a863"
      },
      {
       "current": "4838811e-99a0-11ea-8d02-0242ac120007-7-38ae-ffd3-48d6-ca26-eab3-11b4-fd17",
       "next": "d7440a72-99a0-11ea-8d02-0242ac120007-6-5233-67c9-e33f-f7a1-d3cd-6300",
       "previous": "48387e44-99a0-11ea-8d02-0242ac120007-6-6aa3-58d5-2a82-28b0-a863-5278"
      },
      {
       "current": "4838811e-99a0-11ea-8d02-0242ac120007-8-38ae-ffd3-48d6-ca26-eab3-11b4-fd17-7e2f",
       "next": "d7440a72-99a0-11ea-8d02-0242ac120007-7-5233-67c9-e33f-f7a1-d3cd-6300-ee37",
       "previous": "48387e44-99a0-11ea-8d02-0242ac120007-7-6aa3-58d5-2a82-28b0-a863-5278-4c92"
      }
     ],
     "next": "d7440a72-99a0-11ea-8d02-0242ac120007-8-5233-67c9-e33f-f7a1-d3cd-6300-ee37-8ba3",
     "previous": "48387e44-99a0-11ea-8d02-0242ac120007-8-6aa3-58d5-2a82-28b0-a863-5278-4c92-484f"
    }
   },
   "source": [
    "# 各サーバにユーザを作成する"
   ]
  },
  {
   "cell_type": "code",
   "execution_count": null,
   "metadata": {
    "lc_cell_meme": {
     "current": "d7440a72-99a0-11ea-8d02-0242ac120007-8-5233-67c9-e33f-f7a1-d3cd-6300-ee37-8ba3",
     "history": [
      {
       "current": "d7440a72-99a0-11ea-8d02-0242ac120007-1-5233",
       "next": "d7440d60-99a0-11ea-8d02-0242ac120007",
       "previous": "4838811e-99a0-11ea-8d02-0242ac120007"
      },
      {
       "current": "d7440a72-99a0-11ea-8d02-0242ac120007-2-5233-67c9",
       "next": "d7440d60-99a0-11ea-8d02-0242ac120007-1-acab",
       "previous": "4838811e-99a0-11ea-8d02-0242ac120007-1-38ae"
      },
      {
       "current": "d7440a72-99a0-11ea-8d02-0242ac120007-3-5233-67c9-e33f",
       "next": "d7440d60-99a0-11ea-8d02-0242ac120007-2-acab-90b8",
       "previous": "4838811e-99a0-11ea-8d02-0242ac120007-2-38ae-ffd3"
      },
      {
       "current": "d7440a72-99a0-11ea-8d02-0242ac120007-4-5233-67c9-e33f-f7a1",
       "next": "d7440d60-99a0-11ea-8d02-0242ac120007-3-acab-90b8-aaff",
       "previous": "4838811e-99a0-11ea-8d02-0242ac120007-3-38ae-ffd3-48d6"
      },
      {
       "current": "d7440a72-99a0-11ea-8d02-0242ac120007-5-5233-67c9-e33f-f7a1-d3cd",
       "next": "d7440d60-99a0-11ea-8d02-0242ac120007-4-acab-90b8-aaff-36b2",
       "previous": "4838811e-99a0-11ea-8d02-0242ac120007-4-38ae-ffd3-48d6-ca26"
      },
      {
       "current": "d7440a72-99a0-11ea-8d02-0242ac120007-6-5233-67c9-e33f-f7a1-d3cd-6300",
       "next": "d7440d60-99a0-11ea-8d02-0242ac120007-5-acab-90b8-aaff-36b2-8c8d",
       "previous": "4838811e-99a0-11ea-8d02-0242ac120007-5-38ae-ffd3-48d6-ca26-eab3"
      },
      {
       "current": "d7440a72-99a0-11ea-8d02-0242ac120007-7-5233-67c9-e33f-f7a1-d3cd-6300-ee37",
       "next": "d7440d60-99a0-11ea-8d02-0242ac120007-6-acab-90b8-aaff-36b2-8c8d-f1f2",
       "previous": "4838811e-99a0-11ea-8d02-0242ac120007-6-38ae-ffd3-48d6-ca26-eab3-11b4"
      },
      {
       "current": "d7440a72-99a0-11ea-8d02-0242ac120007-8-5233-67c9-e33f-f7a1-d3cd-6300-ee37-8ba3",
       "next": "d7440d60-99a0-11ea-8d02-0242ac120007-7-acab-90b8-aaff-36b2-8c8d-f1f2-d27c",
       "previous": "4838811e-99a0-11ea-8d02-0242ac120007-7-38ae-ffd3-48d6-ca26-eab3-11b4-fd17"
      }
     ],
     "next": "d7440d60-99a0-11ea-8d02-0242ac120007-8-acab-90b8-aaff-36b2-8c8d-f1f2-d27c-5c10",
     "previous": "4838811e-99a0-11ea-8d02-0242ac120007-8-38ae-ffd3-48d6-ca26-eab3-11b4-fd17-7e2f"
    }
   },
   "outputs": [],
   "source": [
    "target_host_list = None\n",
    "for result in uid_exist_result:\n",
    "    addr = result[\"addr\"]\n",
    "    if result[\"user_exist\"] is True:\n",
    "        continue\n",
    "    if target_host_list is None:\n",
    "        target_host_list = addr\n",
    "    else:\n",
    "        target_host_list = target_host_list + \",\" + addr\n",
    "\n",
    "print (target_host_list)"
   ]
  },
  {
   "cell_type": "code",
   "execution_count": null,
   "metadata": {
    "lc_cell_meme": {
     "current": "d7440d60-99a0-11ea-8d02-0242ac120007-8-acab-90b8-aaff-36b2-8c8d-f1f2-d27c-5c10",
     "history": [
      {
       "current": "d7440d60-99a0-11ea-8d02-0242ac120007-1-acab",
       "next": "483882d6-99a0-11ea-8d02-0242ac120007",
       "previous": "d7440a72-99a0-11ea-8d02-0242ac120007"
      },
      {
       "current": "d7440d60-99a0-11ea-8d02-0242ac120007-2-acab-90b8",
       "next": "483882d6-99a0-11ea-8d02-0242ac120007-1-80f2",
       "previous": "d7440a72-99a0-11ea-8d02-0242ac120007-1-5233"
      },
      {
       "current": "d7440d60-99a0-11ea-8d02-0242ac120007-3-acab-90b8-aaff",
       "next": "483882d6-99a0-11ea-8d02-0242ac120007-2-80f2-7b4d",
       "previous": "d7440a72-99a0-11ea-8d02-0242ac120007-2-5233-67c9"
      },
      {
       "current": "d7440d60-99a0-11ea-8d02-0242ac120007-4-acab-90b8-aaff-36b2",
       "next": "483882d6-99a0-11ea-8d02-0242ac120007-3-80f2-7b4d-3c2e",
       "previous": "d7440a72-99a0-11ea-8d02-0242ac120007-3-5233-67c9-e33f"
      },
      {
       "current": "d7440d60-99a0-11ea-8d02-0242ac120007-5-acab-90b8-aaff-36b2-8c8d",
       "next": "483882d6-99a0-11ea-8d02-0242ac120007-4-80f2-7b4d-3c2e-5ba6",
       "previous": "d7440a72-99a0-11ea-8d02-0242ac120007-4-5233-67c9-e33f-f7a1"
      },
      {
       "current": "d7440d60-99a0-11ea-8d02-0242ac120007-6-acab-90b8-aaff-36b2-8c8d-f1f2",
       "next": "483882d6-99a0-11ea-8d02-0242ac120007-5-80f2-7b4d-3c2e-5ba6-f8dd",
       "previous": "d7440a72-99a0-11ea-8d02-0242ac120007-5-5233-67c9-e33f-f7a1-d3cd"
      },
      {
       "current": "d7440d60-99a0-11ea-8d02-0242ac120007-7-acab-90b8-aaff-36b2-8c8d-f1f2-d27c",
       "next": "483882d6-99a0-11ea-8d02-0242ac120007-6-80f2-7b4d-3c2e-5ba6-f8dd-26f9",
       "previous": "d7440a72-99a0-11ea-8d02-0242ac120007-6-5233-67c9-e33f-f7a1-d3cd-6300"
      },
      {
       "current": "d7440d60-99a0-11ea-8d02-0242ac120007-8-acab-90b8-aaff-36b2-8c8d-f1f2-d27c-5c10",
       "next": "483882d6-99a0-11ea-8d02-0242ac120007-7-80f2-7b4d-3c2e-5ba6-f8dd-26f9-ca37",
       "previous": "d7440a72-99a0-11ea-8d02-0242ac120007-7-5233-67c9-e33f-f7a1-d3cd-6300-ee37"
      }
     ],
     "next": "483882d6-99a0-11ea-8d02-0242ac120007-8-80f2-7b4d-3c2e-5ba6-f8dd-26f9-ca37-fd6c",
     "previous": "d7440a72-99a0-11ea-8d02-0242ac120007-8-5233-67c9-e33f-f7a1-d3cd-6300-ee37-8ba3"
    }
   },
   "outputs": [],
   "source": [
    "!ansible -m shell -a \"hostname\" -i $hosts $target_host_list"
   ]
  },
  {
   "cell_type": "code",
   "execution_count": null,
   "metadata": {
    "lc_cell_meme": {
     "current": "483882d6-99a0-11ea-8d02-0242ac120007-8-80f2-7b4d-3c2e-5ba6-f8dd-26f9-ca37-fd6c",
     "history": [
      {
       "current": "483882d6-99a0-11ea-8d02-0242ac120007",
       "next": "48388452-99a0-11ea-8d02-0242ac120007",
       "previous": "4838811e-99a0-11ea-8d02-0242ac120007"
      },
      {
       "current": "483882d6-99a0-11ea-8d02-0242ac120007-1-80f2",
       "next": "d7440f18-99a0-11ea-8d02-0242ac120007",
       "previous": "d7440d60-99a0-11ea-8d02-0242ac120007"
      },
      {
       "current": "483882d6-99a0-11ea-8d02-0242ac120007-2-80f2-7b4d",
       "next": "d7440f18-99a0-11ea-8d02-0242ac120007-1-49fc",
       "previous": "d7440d60-99a0-11ea-8d02-0242ac120007-1-acab"
      },
      {
       "current": "483882d6-99a0-11ea-8d02-0242ac120007-3-80f2-7b4d-3c2e",
       "next": "d7440f18-99a0-11ea-8d02-0242ac120007-2-49fc-904d",
       "previous": "d7440d60-99a0-11ea-8d02-0242ac120007-2-acab-90b8"
      },
      {
       "current": "483882d6-99a0-11ea-8d02-0242ac120007-4-80f2-7b4d-3c2e-5ba6",
       "next": "d7440f18-99a0-11ea-8d02-0242ac120007-3-49fc-904d-9b5e",
       "previous": "d7440d60-99a0-11ea-8d02-0242ac120007-3-acab-90b8-aaff"
      },
      {
       "current": "483882d6-99a0-11ea-8d02-0242ac120007-5-80f2-7b4d-3c2e-5ba6-f8dd",
       "next": "d7440f18-99a0-11ea-8d02-0242ac120007-4-49fc-904d-9b5e-13eb",
       "previous": "d7440d60-99a0-11ea-8d02-0242ac120007-4-acab-90b8-aaff-36b2"
      },
      {
       "current": "483882d6-99a0-11ea-8d02-0242ac120007-6-80f2-7b4d-3c2e-5ba6-f8dd-26f9",
       "next": "d7440f18-99a0-11ea-8d02-0242ac120007-5-49fc-904d-9b5e-13eb-81fd",
       "previous": "d7440d60-99a0-11ea-8d02-0242ac120007-5-acab-90b8-aaff-36b2-8c8d"
      },
      {
       "current": "483882d6-99a0-11ea-8d02-0242ac120007-7-80f2-7b4d-3c2e-5ba6-f8dd-26f9-ca37",
       "next": "d7440f18-99a0-11ea-8d02-0242ac120007-6-49fc-904d-9b5e-13eb-81fd-5d5b",
       "previous": "d7440d60-99a0-11ea-8d02-0242ac120007-6-acab-90b8-aaff-36b2-8c8d-f1f2"
      },
      {
       "current": "483882d6-99a0-11ea-8d02-0242ac120007-8-80f2-7b4d-3c2e-5ba6-f8dd-26f9-ca37-fd6c",
       "next": "d7440f18-99a0-11ea-8d02-0242ac120007-7-49fc-904d-9b5e-13eb-81fd-5d5b-3527",
       "previous": "d7440d60-99a0-11ea-8d02-0242ac120007-7-acab-90b8-aaff-36b2-8c8d-f1f2-d27c"
      }
     ],
     "next": "d7440f18-99a0-11ea-8d02-0242ac120007-8-49fc-904d-9b5e-13eb-81fd-5d5b-3527-f0f0",
     "previous": "d7440d60-99a0-11ea-8d02-0242ac120007-8-acab-90b8-aaff-36b2-8c8d-f1f2-d27c-5c10"
    },
    "scrolled": true
   },
   "outputs": [],
   "source": [
    "!ansible -b -m user -a \"name={user_name} shell=/bin/bash state=present\" -i $hosts $target_host_list"
   ]
  },
  {
   "cell_type": "code",
   "execution_count": null,
   "metadata": {
    "lc_cell_meme": {
     "current": "d7440f18-99a0-11ea-8d02-0242ac120007-8-49fc-904d-9b5e-13eb-81fd-5d5b-3527-f0f0",
     "history": [
      {
       "current": "d7440f18-99a0-11ea-8d02-0242ac120007-1-49fc",
       "next": "d744108a-99a0-11ea-8d02-0242ac120007",
       "previous": "483882d6-99a0-11ea-8d02-0242ac120007"
      },
      {
       "current": "d7440f18-99a0-11ea-8d02-0242ac120007-2-49fc-904d",
       "next": "d744108a-99a0-11ea-8d02-0242ac120007-1-40be",
       "previous": "483882d6-99a0-11ea-8d02-0242ac120007-1-80f2"
      },
      {
       "current": "d7440f18-99a0-11ea-8d02-0242ac120007-3-49fc-904d-9b5e",
       "next": "d744108a-99a0-11ea-8d02-0242ac120007-2-40be-cd5a",
       "previous": "483882d6-99a0-11ea-8d02-0242ac120007-2-80f2-7b4d"
      },
      {
       "current": "d7440f18-99a0-11ea-8d02-0242ac120007-4-49fc-904d-9b5e-13eb",
       "next": "d744108a-99a0-11ea-8d02-0242ac120007-3-40be-cd5a-dd14",
       "previous": "483882d6-99a0-11ea-8d02-0242ac120007-3-80f2-7b4d-3c2e"
      },
      {
       "current": "d7440f18-99a0-11ea-8d02-0242ac120007-5-49fc-904d-9b5e-13eb-81fd",
       "next": "d744108a-99a0-11ea-8d02-0242ac120007-4-40be-cd5a-dd14-6444",
       "previous": "483882d6-99a0-11ea-8d02-0242ac120007-4-80f2-7b4d-3c2e-5ba6"
      },
      {
       "current": "d7440f18-99a0-11ea-8d02-0242ac120007-6-49fc-904d-9b5e-13eb-81fd-5d5b",
       "next": "d744108a-99a0-11ea-8d02-0242ac120007-5-40be-cd5a-dd14-6444-6404",
       "previous": "483882d6-99a0-11ea-8d02-0242ac120007-5-80f2-7b4d-3c2e-5ba6-f8dd"
      },
      {
       "current": "d7440f18-99a0-11ea-8d02-0242ac120007-7-49fc-904d-9b5e-13eb-81fd-5d5b-3527",
       "next": "d744108a-99a0-11ea-8d02-0242ac120007-6-40be-cd5a-dd14-6444-6404-fb62",
       "previous": "483882d6-99a0-11ea-8d02-0242ac120007-6-80f2-7b4d-3c2e-5ba6-f8dd-26f9"
      },
      {
       "current": "d7440f18-99a0-11ea-8d02-0242ac120007-8-49fc-904d-9b5e-13eb-81fd-5d5b-3527-f0f0",
       "next": "d744108a-99a0-11ea-8d02-0242ac120007-7-40be-cd5a-dd14-6444-6404-fb62-49df",
       "previous": "483882d6-99a0-11ea-8d02-0242ac120007-7-80f2-7b4d-3c2e-5ba6-f8dd-26f9-ca37"
      }
     ],
     "next": "d744108a-99a0-11ea-8d02-0242ac120007-8-40be-cd5a-dd14-6444-6404-fb62-49df-df83",
     "previous": "483882d6-99a0-11ea-8d02-0242ac120007-8-80f2-7b4d-3c2e-5ba6-f8dd-26f9-ca37-fd6c"
    },
    "scrolled": true
   },
   "outputs": [],
   "source": [
    "!ansible -b -m user -a \"name={user_name} groups=wheel append=yes\" -i $hosts $target_host_list"
   ]
  },
  {
   "cell_type": "code",
   "execution_count": null,
   "metadata": {
    "lc_cell_meme": {
     "current": "d744108a-99a0-11ea-8d02-0242ac120007-8-40be-cd5a-dd14-6444-6404-fb62-49df-df83",
     "history": [
      {
       "current": "d744108a-99a0-11ea-8d02-0242ac120007-1-40be",
       "next": "48388452-99a0-11ea-8d02-0242ac120007",
       "previous": "d7440f18-99a0-11ea-8d02-0242ac120007"
      },
      {
       "current": "d744108a-99a0-11ea-8d02-0242ac120007-2-40be-cd5a",
       "next": "48388452-99a0-11ea-8d02-0242ac120007-1-e543",
       "previous": "d7440f18-99a0-11ea-8d02-0242ac120007-1-49fc"
      },
      {
       "current": "d744108a-99a0-11ea-8d02-0242ac120007-3-40be-cd5a-dd14",
       "next": "48388452-99a0-11ea-8d02-0242ac120007-2-e543-d5c8",
       "previous": "d7440f18-99a0-11ea-8d02-0242ac120007-2-49fc-904d"
      },
      {
       "current": "d744108a-99a0-11ea-8d02-0242ac120007-4-40be-cd5a-dd14-6444",
       "next": "48388452-99a0-11ea-8d02-0242ac120007-3-e543-d5c8-1d4e",
       "previous": "d7440f18-99a0-11ea-8d02-0242ac120007-3-49fc-904d-9b5e"
      },
      {
       "current": "d744108a-99a0-11ea-8d02-0242ac120007-5-40be-cd5a-dd14-6444-6404",
       "next": "48388452-99a0-11ea-8d02-0242ac120007-4-e543-d5c8-1d4e-51d0",
       "previous": "d7440f18-99a0-11ea-8d02-0242ac120007-4-49fc-904d-9b5e-13eb"
      },
      {
       "current": "d744108a-99a0-11ea-8d02-0242ac120007-6-40be-cd5a-dd14-6444-6404-fb62",
       "next": "48388452-99a0-11ea-8d02-0242ac120007-5-e543-d5c8-1d4e-51d0-a1b7",
       "previous": "d7440f18-99a0-11ea-8d02-0242ac120007-5-49fc-904d-9b5e-13eb-81fd"
      },
      {
       "current": "d744108a-99a0-11ea-8d02-0242ac120007-7-40be-cd5a-dd14-6444-6404-fb62-49df",
       "next": "48388452-99a0-11ea-8d02-0242ac120007-6-e543-d5c8-1d4e-51d0-a1b7-78b0",
       "previous": "d7440f18-99a0-11ea-8d02-0242ac120007-6-49fc-904d-9b5e-13eb-81fd-5d5b"
      },
      {
       "current": "d744108a-99a0-11ea-8d02-0242ac120007-8-40be-cd5a-dd14-6444-6404-fb62-49df-df83",
       "next": "48388452-99a0-11ea-8d02-0242ac120007-7-e543-d5c8-1d4e-51d0-a1b7-78b0-8fae",
       "previous": "d7440f18-99a0-11ea-8d02-0242ac120007-7-49fc-904d-9b5e-13eb-81fd-5d5b-3527"
      }
     ],
     "next": "48388452-99a0-11ea-8d02-0242ac120007-8-e543-d5c8-1d4e-51d0-a1b7-78b0-8fae-1ded",
     "previous": "d7440f18-99a0-11ea-8d02-0242ac120007-8-49fc-904d-9b5e-13eb-81fd-5d5b-3527-f0f0"
    },
    "scrolled": true
   },
   "outputs": [],
   "source": [
    "!ansible -b -m authorized_key -a \"user={user_name} state=present key=\\\"{public_key}\\\"\" -i $hosts $target_host_list\n"
   ]
  },
  {
   "cell_type": "markdown",
   "metadata": {
    "lc_cell_meme": {
     "current": "48388452-99a0-11ea-8d02-0242ac120007-8-e543-d5c8-1d4e-51d0-a1b7-78b0-8fae-1ded",
     "history": [
      {
       "current": "48388452-99a0-11ea-8d02-0242ac120007",
       "next": "35c581ba-55a3-11e7-b0b2-00163e9c0e35",
       "previous": "483882d6-99a0-11ea-8d02-0242ac120007"
      },
      {
       "current": "48388452-99a0-11ea-8d02-0242ac120007",
       "next": "35c581ba-55a3-11e7-b0b2-00163e9c0e35",
       "previous": "d744108a-99a0-11ea-8d02-0242ac120007"
      },
      {
       "current": "48388452-99a0-11ea-8d02-0242ac120007-1-e543",
       "next": "1ecbe34c-99a1-11ea-8d02-0242ac120007",
       "previous": "d744108a-99a0-11ea-8d02-0242ac120007"
      },
      {
       "current": "48388452-99a0-11ea-8d02-0242ac120007-2-e543-d5c8",
       "next": "1ecbe34c-99a1-11ea-8d02-0242ac120007-1-fe20",
       "previous": "d744108a-99a0-11ea-8d02-0242ac120007-1-40be"
      },
      {
       "current": "48388452-99a0-11ea-8d02-0242ac120007-3-e543-d5c8-1d4e",
       "next": "1ecbe34c-99a1-11ea-8d02-0242ac120007-2-fe20-21fc",
       "previous": "d744108a-99a0-11ea-8d02-0242ac120007-2-40be-cd5a"
      },
      {
       "current": "48388452-99a0-11ea-8d02-0242ac120007-4-e543-d5c8-1d4e-51d0",
       "next": "1ecbe34c-99a1-11ea-8d02-0242ac120007-3-fe20-21fc-d940",
       "previous": "d744108a-99a0-11ea-8d02-0242ac120007-3-40be-cd5a-dd14"
      },
      {
       "current": "48388452-99a0-11ea-8d02-0242ac120007-5-e543-d5c8-1d4e-51d0-a1b7",
       "next": "1ecbe34c-99a1-11ea-8d02-0242ac120007-4-fe20-21fc-d940-058e",
       "previous": "d744108a-99a0-11ea-8d02-0242ac120007-4-40be-cd5a-dd14-6444"
      },
      {
       "current": "48388452-99a0-11ea-8d02-0242ac120007-6-e543-d5c8-1d4e-51d0-a1b7-78b0",
       "next": "1ecbe34c-99a1-11ea-8d02-0242ac120007-5-fe20-21fc-d940-058e-c64c",
       "previous": "d744108a-99a0-11ea-8d02-0242ac120007-5-40be-cd5a-dd14-6444-6404"
      },
      {
       "current": "48388452-99a0-11ea-8d02-0242ac120007-7-e543-d5c8-1d4e-51d0-a1b7-78b0-8fae",
       "next": "1ecbe34c-99a1-11ea-8d02-0242ac120007-6-fe20-21fc-d940-058e-c64c-ce40",
       "previous": "d744108a-99a0-11ea-8d02-0242ac120007-6-40be-cd5a-dd14-6444-6404-fb62"
      },
      {
       "current": "48388452-99a0-11ea-8d02-0242ac120007-8-e543-d5c8-1d4e-51d0-a1b7-78b0-8fae-1ded",
       "next": "1ecbe34c-99a1-11ea-8d02-0242ac120007-7-fe20-21fc-d940-058e-c64c-ce40-35a0",
       "previous": "d744108a-99a0-11ea-8d02-0242ac120007-7-40be-cd5a-dd14-6444-6404-fb62-49df"
      }
     ],
     "next": "1ecbe34c-99a1-11ea-8d02-0242ac120007-8-fe20-21fc-d940-058e-c64c-ce40-35a0-56aa",
     "previous": "d744108a-99a0-11ea-8d02-0242ac120007-8-40be-cd5a-dd14-6444-6404-fb62-49df-df83"
    }
   },
   "source": [
    "## sudoersの設定\n",
    "(とりあえずは)NOPASSWDでsudoできるように設定する。まずは念のためdry-runする。"
   ]
  },
  {
   "cell_type": "code",
   "execution_count": null,
   "metadata": {
    "lc_cell_meme": {
     "current": "1ecbe34c-99a1-11ea-8d02-0242ac120007-8-fe20-21fc-d940-058e-c64c-ce40-35a0-56aa",
     "history": [
      {
       "current": "1ecbe34c-99a1-11ea-8d02-0242ac120007-1-fe20",
       "next": "1ecbe5ea-99a1-11ea-8d02-0242ac120007",
       "previous": "48388452-99a0-11ea-8d02-0242ac120007"
      },
      {
       "current": "1ecbe34c-99a1-11ea-8d02-0242ac120007-2-fe20-21fc",
       "next": "1ecbe5ea-99a1-11ea-8d02-0242ac120007-1-24cc",
       "previous": "48388452-99a0-11ea-8d02-0242ac120007-1-e543"
      },
      {
       "current": "1ecbe34c-99a1-11ea-8d02-0242ac120007-3-fe20-21fc-d940",
       "next": "1ecbe5ea-99a1-11ea-8d02-0242ac120007-2-24cc-8ef2",
       "previous": "48388452-99a0-11ea-8d02-0242ac120007-2-e543-d5c8"
      },
      {
       "current": "1ecbe34c-99a1-11ea-8d02-0242ac120007-4-fe20-21fc-d940-058e",
       "next": "1ecbe5ea-99a1-11ea-8d02-0242ac120007-3-24cc-8ef2-0ec0",
       "previous": "48388452-99a0-11ea-8d02-0242ac120007-3-e543-d5c8-1d4e"
      },
      {
       "current": "1ecbe34c-99a1-11ea-8d02-0242ac120007-5-fe20-21fc-d940-058e-c64c",
       "next": "1ecbe5ea-99a1-11ea-8d02-0242ac120007-4-24cc-8ef2-0ec0-d218",
       "previous": "48388452-99a0-11ea-8d02-0242ac120007-4-e543-d5c8-1d4e-51d0"
      },
      {
       "current": "1ecbe34c-99a1-11ea-8d02-0242ac120007-6-fe20-21fc-d940-058e-c64c-ce40",
       "next": "1ecbe5ea-99a1-11ea-8d02-0242ac120007-5-24cc-8ef2-0ec0-d218-7870",
       "previous": "48388452-99a0-11ea-8d02-0242ac120007-5-e543-d5c8-1d4e-51d0-a1b7"
      },
      {
       "current": "1ecbe34c-99a1-11ea-8d02-0242ac120007-7-fe20-21fc-d940-058e-c64c-ce40-35a0",
       "next": "1ecbe5ea-99a1-11ea-8d02-0242ac120007-6-24cc-8ef2-0ec0-d218-7870-0a30",
       "previous": "48388452-99a0-11ea-8d02-0242ac120007-6-e543-d5c8-1d4e-51d0-a1b7-78b0"
      },
      {
       "current": "1ecbe34c-99a1-11ea-8d02-0242ac120007-8-fe20-21fc-d940-058e-c64c-ce40-35a0-56aa",
       "next": "1ecbe5ea-99a1-11ea-8d02-0242ac120007-7-24cc-8ef2-0ec0-d218-7870-0a30-a8cf",
       "previous": "48388452-99a0-11ea-8d02-0242ac120007-7-e543-d5c8-1d4e-51d0-a1b7-78b0-8fae"
      }
     ],
     "next": "1ecbe5ea-99a1-11ea-8d02-0242ac120007-8-24cc-8ef2-0ec0-d218-7870-0a30-a8cf-d3be",
     "previous": "48388452-99a0-11ea-8d02-0242ac120007-8-e543-d5c8-1d4e-51d0-a1b7-78b0-8fae-1ded"
    }
   },
   "outputs": [],
   "source": [
    "!ansible -CDv -b -m lineinfile -a \"dest=/etc/sudoers.d/10-from-jupyter \\\n",
    "    regexp=\\\"^{user_name} \\\" \\\n",
    "    line=\\\"{user_name} ALL=(ALL) NOPASSWD:ALL\\\" create=yes\" -i $hosts $target_host_list"
   ]
  },
  {
   "cell_type": "markdown",
   "metadata": {
    "lc_cell_meme": {
     "current": "1ecbe5ea-99a1-11ea-8d02-0242ac120007-8-24cc-8ef2-0ec0-d218-7870-0a30-a8cf-d3be",
     "history": [
      {
       "current": "1ecbe5ea-99a1-11ea-8d02-0242ac120007-1-24cc",
       "next": "1ecbe784-99a1-11ea-8d02-0242ac120007",
       "previous": "1ecbe34c-99a1-11ea-8d02-0242ac120007"
      },
      {
       "current": "1ecbe5ea-99a1-11ea-8d02-0242ac120007-2-24cc-8ef2",
       "next": "1ecbe784-99a1-11ea-8d02-0242ac120007-1-a5d1",
       "previous": "1ecbe34c-99a1-11ea-8d02-0242ac120007-1-fe20"
      },
      {
       "current": "1ecbe5ea-99a1-11ea-8d02-0242ac120007-3-24cc-8ef2-0ec0",
       "next": "1ecbe784-99a1-11ea-8d02-0242ac120007-2-a5d1-9002",
       "previous": "1ecbe34c-99a1-11ea-8d02-0242ac120007-2-fe20-21fc"
      },
      {
       "current": "1ecbe5ea-99a1-11ea-8d02-0242ac120007-4-24cc-8ef2-0ec0-d218",
       "next": "1ecbe784-99a1-11ea-8d02-0242ac120007-3-a5d1-9002-ab18",
       "previous": "1ecbe34c-99a1-11ea-8d02-0242ac120007-3-fe20-21fc-d940"
      },
      {
       "current": "1ecbe5ea-99a1-11ea-8d02-0242ac120007-5-24cc-8ef2-0ec0-d218-7870",
       "next": "1ecbe784-99a1-11ea-8d02-0242ac120007-4-a5d1-9002-ab18-c679",
       "previous": "1ecbe34c-99a1-11ea-8d02-0242ac120007-4-fe20-21fc-d940-058e"
      },
      {
       "current": "1ecbe5ea-99a1-11ea-8d02-0242ac120007-6-24cc-8ef2-0ec0-d218-7870-0a30",
       "next": "1ecbe784-99a1-11ea-8d02-0242ac120007-5-a5d1-9002-ab18-c679-d320",
       "previous": "1ecbe34c-99a1-11ea-8d02-0242ac120007-5-fe20-21fc-d940-058e-c64c"
      },
      {
       "current": "1ecbe5ea-99a1-11ea-8d02-0242ac120007-7-24cc-8ef2-0ec0-d218-7870-0a30-a8cf",
       "next": "1ecbe784-99a1-11ea-8d02-0242ac120007-6-a5d1-9002-ab18-c679-d320-0f06",
       "previous": "1ecbe34c-99a1-11ea-8d02-0242ac120007-6-fe20-21fc-d940-058e-c64c-ce40"
      },
      {
       "current": "1ecbe5ea-99a1-11ea-8d02-0242ac120007-8-24cc-8ef2-0ec0-d218-7870-0a30-a8cf-d3be",
       "next": "1ecbe784-99a1-11ea-8d02-0242ac120007-7-a5d1-9002-ab18-c679-d320-0f06-2fc0",
       "previous": "1ecbe34c-99a1-11ea-8d02-0242ac120007-7-fe20-21fc-d940-058e-c64c-ce40-35a0"
      }
     ],
     "next": "1ecbe784-99a1-11ea-8d02-0242ac120007-8-a5d1-9002-ab18-c679-d320-0f06-2fc0-0947",
     "previous": "1ecbe34c-99a1-11ea-8d02-0242ac120007-8-fe20-21fc-d940-058e-c64c-ce40-35a0-56aa"
    }
   },
   "source": [
    "予期した行が追加されることを確認したら、dry-runオプション(-CDv)を外し実行する。"
   ]
  },
  {
   "cell_type": "code",
   "execution_count": null,
   "metadata": {
    "lc_cell_meme": {
     "current": "1ecbe784-99a1-11ea-8d02-0242ac120007-8-a5d1-9002-ab18-c679-d320-0f06-2fc0-0947",
     "history": [
      {
       "current": "1ecbe784-99a1-11ea-8d02-0242ac120007-1-a5d1",
       "next": "35c581ba-55a3-11e7-b0b2-00163e9c0e35",
       "previous": "1ecbe5ea-99a1-11ea-8d02-0242ac120007"
      },
      {
       "current": "1ecbe784-99a1-11ea-8d02-0242ac120007-2-a5d1-9002",
       "next": "35c581ba-55a3-11e7-b0b2-00163e9c0e35-1-2449",
       "previous": "1ecbe5ea-99a1-11ea-8d02-0242ac120007-1-24cc"
      },
      {
       "current": "1ecbe784-99a1-11ea-8d02-0242ac120007-3-a5d1-9002-ab18",
       "next": "35c581ba-55a3-11e7-b0b2-00163e9c0e35-2-2449-49d1",
       "previous": "1ecbe5ea-99a1-11ea-8d02-0242ac120007-2-24cc-8ef2"
      },
      {
       "current": "1ecbe784-99a1-11ea-8d02-0242ac120007-4-a5d1-9002-ab18-c679",
       "next": "35c581ba-55a3-11e7-b0b2-00163e9c0e35-3-2449-49d1-4e8c",
       "previous": "1ecbe5ea-99a1-11ea-8d02-0242ac120007-3-24cc-8ef2-0ec0"
      },
      {
       "current": "1ecbe784-99a1-11ea-8d02-0242ac120007-5-a5d1-9002-ab18-c679-d320",
       "next": "35c581ba-55a3-11e7-b0b2-00163e9c0e35-4-2449-49d1-4e8c-a07a",
       "previous": "1ecbe5ea-99a1-11ea-8d02-0242ac120007-4-24cc-8ef2-0ec0-d218"
      },
      {
       "current": "1ecbe784-99a1-11ea-8d02-0242ac120007-6-a5d1-9002-ab18-c679-d320-0f06",
       "next": "35c581ba-55a3-11e7-b0b2-00163e9c0e35-5-2449-49d1-4e8c-a07a-bf23",
       "previous": "1ecbe5ea-99a1-11ea-8d02-0242ac120007-5-24cc-8ef2-0ec0-d218-7870"
      },
      {
       "current": "1ecbe784-99a1-11ea-8d02-0242ac120007-7-a5d1-9002-ab18-c679-d320-0f06-2fc0",
       "next": "35c581ba-55a3-11e7-b0b2-00163e9c0e35-6-2449-49d1-4e8c-a07a-bf23-2787",
       "previous": "1ecbe5ea-99a1-11ea-8d02-0242ac120007-6-24cc-8ef2-0ec0-d218-7870-0a30"
      },
      {
       "current": "1ecbe784-99a1-11ea-8d02-0242ac120007-8-a5d1-9002-ab18-c679-d320-0f06-2fc0-0947",
       "next": "35c581ba-55a3-11e7-b0b2-00163e9c0e35-7-2449-49d1-4e8c-a07a-bf23-2787-fe4b",
       "previous": "1ecbe5ea-99a1-11ea-8d02-0242ac120007-7-24cc-8ef2-0ec0-d218-7870-0a30-a8cf"
      }
     ],
     "next": "35c581ba-55a3-11e7-b0b2-00163e9c0e35-8-2449-49d1-4e8c-a07a-bf23-2787-fe4b-152f",
     "previous": "1ecbe5ea-99a1-11ea-8d02-0242ac120007-8-24cc-8ef2-0ec0-d218-7870-0a30-a8cf-d3be"
    }
   },
   "outputs": [],
   "source": [
    "!ansible -v -b -m lineinfile -a \"dest=/etc/sudoers.d/10-from-jupyter \\\n",
    "    regexp=\\\"^{user_name} \\\" \\\n",
    "    line=\\\"{user_name} ALL=(ALL) NOPASSWD:ALL\\\" create=yes\" -i $hosts $target_host_list"
   ]
  },
  {
   "cell_type": "markdown",
   "metadata": {
    "collapsed": true,
    "lc_cell_meme": {
     "current": "35c581ba-55a3-11e7-b0b2-00163e9c0e35-8-2449-49d1-4e8c-a07a-bf23-2787-fe4b-152f",
     "history": [
      {
       "current": "35c581ba-55a3-11e7-b0b2-00163e9c0e35",
       "next": "35c58340-55a3-11e7-b0b2-00163e9c0e35",
       "previous": "35c58034-55a3-11e7-b0b2-00163e9c0e35"
      },
      {
       "current": "35c581ba-55a3-11e7-b0b2-00163e9c0e35",
       "next": "35c58340-55a3-11e7-b0b2-00163e9c0e35",
       "previous": "35c51928-55a3-11e7-b0b2-00163e9c0e35"
      },
      {
       "current": "35c581ba-55a3-11e7-b0b2-00163e9c0e35",
       "next": "35c58340-55a3-11e7-b0b2-00163e9c0e35",
       "previous": "277a614c-47b9-11ea-a028-0242ac120005"
      },
      {
       "current": "35c581ba-55a3-11e7-b0b2-00163e9c0e35",
       "next": "35c58340-55a3-11e7-b0b2-00163e9c0e35",
       "previous": "35c51928-55a3-11e7-b0b2-00163e9c0e35"
      },
      {
       "current": "35c581ba-55a3-11e7-b0b2-00163e9c0e35",
       "next": "35c58340-55a3-11e7-b0b2-00163e9c0e35",
       "previous": "b8a85906-47b6-11ea-a028-0242ac120005"
      },
      {
       "current": "35c581ba-55a3-11e7-b0b2-00163e9c0e35",
       "next": "35c58340-55a3-11e7-b0b2-00163e9c0e35",
       "previous": "35c38fae-55a3-11e7-b0b2-00163e9c0e35"
      },
      {
       "current": "35c581ba-55a3-11e7-b0b2-00163e9c0e35",
       "next": "35c58340-55a3-11e7-b0b2-00163e9c0e35",
       "previous": "35c385a4-55a3-11e7-b0b2-00163e9c0e35"
      },
      {
       "current": "35c581ba-55a3-11e7-b0b2-00163e9c0e35",
       "next": "35c58340-55a3-11e7-b0b2-00163e9c0e35",
       "previous": "27c39180-935b-11ea-8d02-0242ac120007"
      },
      {
       "current": "35c581ba-55a3-11e7-b0b2-00163e9c0e35",
       "next": "35c58340-55a3-11e7-b0b2-00163e9c0e35",
       "previous": "35c385a4-55a3-11e7-b0b2-00163e9c0e35"
      },
      {
       "current": "35c581ba-55a3-11e7-b0b2-00163e9c0e35",
       "next": "35c58340-55a3-11e7-b0b2-00163e9c0e35",
       "previous": "b20d6ace-9684-11ea-8d02-0242ac120007"
      },
      {
       "current": "35c581ba-55a3-11e7-b0b2-00163e9c0e35",
       "next": "35c58340-55a3-11e7-b0b2-00163e9c0e35",
       "previous": "18b837c6-9686-11ea-8d02-0242ac120007"
      },
      {
       "current": "35c581ba-55a3-11e7-b0b2-00163e9c0e35",
       "next": "35c58340-55a3-11e7-b0b2-00163e9c0e35",
       "previous": "59de09f6-9686-11ea-8d02-0242ac120007"
      },
      {
       "current": "35c581ba-55a3-11e7-b0b2-00163e9c0e35",
       "next": "35c58340-55a3-11e7-b0b2-00163e9c0e35",
       "previous": "7dae8b30-9686-11ea-8d02-0242ac120007"
      },
      {
       "current": "35c581ba-55a3-11e7-b0b2-00163e9c0e35",
       "next": "35c58340-55a3-11e7-b0b2-00163e9c0e35",
       "previous": "789942dc-9692-11ea-8d02-0242ac120007"
      },
      {
       "current": "35c581ba-55a3-11e7-b0b2-00163e9c0e35",
       "next": "35c58340-55a3-11e7-b0b2-00163e9c0e35",
       "previous": "e95d003a-9697-11ea-8d02-0242ac120007"
      },
      {
       "current": "35c581ba-55a3-11e7-b0b2-00163e9c0e35",
       "next": "35c58340-55a3-11e7-b0b2-00163e9c0e35",
       "previous": "357fc83a-969d-11ea-8d02-0242ac120007"
      },
      {
       "current": "35c581ba-55a3-11e7-b0b2-00163e9c0e35",
       "next": "35c58340-55a3-11e7-b0b2-00163e9c0e35",
       "previous": "7dae86da-9686-11ea-8d02-0242ac120007"
      },
      {
       "current": "35c581ba-55a3-11e7-b0b2-00163e9c0e35",
       "next": "35c58340-55a3-11e7-b0b2-00163e9c0e35",
       "previous": "49102d8c-98a9-11ea-8d02-0242ac120007"
      },
      {
       "current": "35c581ba-55a3-11e7-b0b2-00163e9c0e35",
       "next": "35c58340-55a3-11e7-b0b2-00163e9c0e35",
       "previous": "dbe917aa-9984-11ea-8d02-0242ac120007"
      },
      {
       "current": "35c581ba-55a3-11e7-b0b2-00163e9c0e35",
       "next": "35c58340-55a3-11e7-b0b2-00163e9c0e35",
       "previous": "f9f7c1a0-9985-11ea-8d02-0242ac120007"
      },
      {
       "current": "35c581ba-55a3-11e7-b0b2-00163e9c0e35",
       "next": "35c58340-55a3-11e7-b0b2-00163e9c0e35",
       "previous": "4180e646-9986-11ea-8d02-0242ac120007"
      },
      {
       "current": "35c581ba-55a3-11e7-b0b2-00163e9c0e35",
       "next": "35c58340-55a3-11e7-b0b2-00163e9c0e35",
       "previous": "eea7aafc-9987-11ea-8d02-0242ac120007"
      },
      {
       "current": "35c581ba-55a3-11e7-b0b2-00163e9c0e35",
       "next": "35c58340-55a3-11e7-b0b2-00163e9c0e35",
       "previous": "7db36be6-9988-11ea-8d02-0242ac120007"
      },
      {
       "current": "35c581ba-55a3-11e7-b0b2-00163e9c0e35",
       "next": "35c58340-55a3-11e7-b0b2-00163e9c0e35",
       "previous": "7db36a7e-9988-11ea-8d02-0242ac120007"
      },
      {
       "current": "35c581ba-55a3-11e7-b0b2-00163e9c0e35",
       "next": "35c58340-55a3-11e7-b0b2-00163e9c0e35",
       "previous": "f3e7d364-998e-11ea-8d02-0242ac120007"
      },
      {
       "current": "35c581ba-55a3-11e7-b0b2-00163e9c0e35",
       "next": "35c58340-55a3-11e7-b0b2-00163e9c0e35",
       "previous": "b0a33f46-98ce-11ea-8d02-0242ac120007"
      },
      {
       "current": "35c581ba-55a3-11e7-b0b2-00163e9c0e35",
       "next": "35c58340-55a3-11e7-b0b2-00163e9c0e35",
       "previous": "bd797188-910b-11ea-8d02-0242ac120007"
      },
      {
       "current": "35c581ba-55a3-11e7-b0b2-00163e9c0e35",
       "next": "35c58340-55a3-11e7-b0b2-00163e9c0e35",
       "previous": "a265a1fc-9997-11ea-8d02-0242ac120007"
      },
      {
       "current": "35c581ba-55a3-11e7-b0b2-00163e9c0e35",
       "next": "35c58340-55a3-11e7-b0b2-00163e9c0e35",
       "previous": "00b1f5a0-99a0-11ea-8d02-0242ac120007"
      },
      {
       "current": "35c581ba-55a3-11e7-b0b2-00163e9c0e35",
       "next": "35c58340-55a3-11e7-b0b2-00163e9c0e35",
       "previous": "48388452-99a0-11ea-8d02-0242ac120007"
      },
      {
       "current": "35c581ba-55a3-11e7-b0b2-00163e9c0e35-1-2449",
       "next": "35c58340-55a3-11e7-b0b2-00163e9c0e35",
       "previous": "1ecbe784-99a1-11ea-8d02-0242ac120007"
      },
      {
       "current": "35c581ba-55a3-11e7-b0b2-00163e9c0e35-2-2449-49d1",
       "next": "35c58340-55a3-11e7-b0b2-00163e9c0e35-1-80fb",
       "previous": "1ecbe784-99a1-11ea-8d02-0242ac120007-1-a5d1"
      },
      {
       "current": "35c581ba-55a3-11e7-b0b2-00163e9c0e35-3-2449-49d1-4e8c",
       "next": "35c58340-55a3-11e7-b0b2-00163e9c0e35-2-80fb-4747",
       "previous": "1ecbe784-99a1-11ea-8d02-0242ac120007-2-a5d1-9002"
      },
      {
       "current": "35c581ba-55a3-11e7-b0b2-00163e9c0e35-4-2449-49d1-4e8c-a07a",
       "next": "35c58340-55a3-11e7-b0b2-00163e9c0e35-3-80fb-4747-a1f1",
       "previous": "1ecbe784-99a1-11ea-8d02-0242ac120007-3-a5d1-9002-ab18"
      },
      {
       "current": "35c581ba-55a3-11e7-b0b2-00163e9c0e35-5-2449-49d1-4e8c-a07a-bf23",
       "next": "35c58340-55a3-11e7-b0b2-00163e9c0e35-4-80fb-4747-a1f1-2523",
       "previous": "1ecbe784-99a1-11ea-8d02-0242ac120007-4-a5d1-9002-ab18-c679"
      },
      {
       "current": "35c581ba-55a3-11e7-b0b2-00163e9c0e35-6-2449-49d1-4e8c-a07a-bf23-2787",
       "next": "35c58340-55a3-11e7-b0b2-00163e9c0e35-5-80fb-4747-a1f1-2523-02df",
       "previous": "1ecbe784-99a1-11ea-8d02-0242ac120007-5-a5d1-9002-ab18-c679-d320"
      },
      {
       "current": "35c581ba-55a3-11e7-b0b2-00163e9c0e35-7-2449-49d1-4e8c-a07a-bf23-2787-fe4b",
       "next": "35c58340-55a3-11e7-b0b2-00163e9c0e35-6-80fb-4747-a1f1-2523-02df-12b3",
       "previous": "1ecbe784-99a1-11ea-8d02-0242ac120007-6-a5d1-9002-ab18-c679-d320-0f06"
      },
      {
       "current": "35c581ba-55a3-11e7-b0b2-00163e9c0e35-8-2449-49d1-4e8c-a07a-bf23-2787-fe4b-152f",
       "next": "35c58340-55a3-11e7-b0b2-00163e9c0e35-7-80fb-4747-a1f1-2523-02df-12b3-83c7",
       "previous": "1ecbe784-99a1-11ea-8d02-0242ac120007-7-a5d1-9002-ab18-c679-d320-0f06-2fc0"
      }
     ],
     "next": "35c58340-55a3-11e7-b0b2-00163e9c0e35-8-80fb-4747-a1f1-2523-02df-12b3-83c7-fdb1",
     "previous": "1ecbe784-99a1-11ea-8d02-0242ac120007-8-a5d1-9002-ab18-c679-d320-0f06-2fc0-0947"
    }
   },
   "source": [
    "# 後始末\n",
    "\n",
    "一時ディレクトリを削除する。"
   ]
  },
  {
   "cell_type": "code",
   "execution_count": null,
   "metadata": {
    "ExecuteTime": {
     "end_time": "2017-06-29T08:01:20.617274Z",
     "start_time": "2017-06-29T08:01:20.466671Z"
    },
    "lc_cell_meme": {
     "current": "35c58340-55a3-11e7-b0b2-00163e9c0e35-8-80fb-4747-a1f1-2523-02df-12b3-83c7-fdb1",
     "history": [
      {
       "current": "35c58340-55a3-11e7-b0b2-00163e9c0e35",
       "next": null,
       "previous": "35c581ba-55a3-11e7-b0b2-00163e9c0e35"
      },
      {
       "current": "35c58340-55a3-11e7-b0b2-00163e9c0e35-1-80fb",
       "next": "c4bd8ce4-5749-11e7-b0b2-00163e9c0e35",
       "previous": "35c581ba-55a3-11e7-b0b2-00163e9c0e35"
      },
      {
       "current": "35c58340-55a3-11e7-b0b2-00163e9c0e35-2-80fb-4747",
       "next": "c4bd8ce4-5749-11e7-b0b2-00163e9c0e35-1-2004",
       "previous": "35c581ba-55a3-11e7-b0b2-00163e9c0e35-1-2449"
      },
      {
       "current": "35c58340-55a3-11e7-b0b2-00163e9c0e35-3-80fb-4747-a1f1",
       "next": "c4bd8ce4-5749-11e7-b0b2-00163e9c0e35-2-2004-21ae",
       "previous": "35c581ba-55a3-11e7-b0b2-00163e9c0e35-2-2449-49d1"
      },
      {
       "current": "35c58340-55a3-11e7-b0b2-00163e9c0e35-4-80fb-4747-a1f1-2523",
       "next": "c4bd8ce4-5749-11e7-b0b2-00163e9c0e35-3-2004-21ae-a4bf",
       "previous": "35c581ba-55a3-11e7-b0b2-00163e9c0e35-3-2449-49d1-4e8c"
      },
      {
       "current": "35c58340-55a3-11e7-b0b2-00163e9c0e35-5-80fb-4747-a1f1-2523-02df",
       "next": "c4bd8ce4-5749-11e7-b0b2-00163e9c0e35-4-2004-21ae-a4bf-5c0a",
       "previous": "35c581ba-55a3-11e7-b0b2-00163e9c0e35-4-2449-49d1-4e8c-a07a"
      },
      {
       "current": "35c58340-55a3-11e7-b0b2-00163e9c0e35-6-80fb-4747-a1f1-2523-02df-12b3",
       "next": "c4bd8ce4-5749-11e7-b0b2-00163e9c0e35-5-2004-21ae-a4bf-5c0a-70c5",
       "previous": "35c581ba-55a3-11e7-b0b2-00163e9c0e35-5-2449-49d1-4e8c-a07a-bf23"
      },
      {
       "current": "35c58340-55a3-11e7-b0b2-00163e9c0e35-7-80fb-4747-a1f1-2523-02df-12b3-83c7",
       "next": null,
       "previous": "35c581ba-55a3-11e7-b0b2-00163e9c0e35-6-2449-49d1-4e8c-a07a-bf23-2787"
      },
      {
       "current": "35c58340-55a3-11e7-b0b2-00163e9c0e35-8-80fb-4747-a1f1-2523-02df-12b3-83c7-fdb1",
       "next": null,
       "previous": "35c581ba-55a3-11e7-b0b2-00163e9c0e35-7-2449-49d1-4e8c-a07a-bf23-2787-fe4b"
      }
     ],
     "next": null,
     "previous": "35c581ba-55a3-11e7-b0b2-00163e9c0e35-8-2449-49d1-4e8c-a07a-bf23-2787-fe4b-152f"
    }
   },
   "outputs": [],
   "source": [
    "!rm -fr $temp_dir"
   ]
  }
 ],
 "metadata": {
  "kernelspec": {
   "display_name": "Python 3",
   "language": "python",
   "name": "python3"
  },
  "language_info": {
   "file_extension": ".py",
   "mimetype": "text/x-python",
   "name": "python",
   "nbconvert_exporter": "python",
   "pygments_lexer": "ipython3",
   "version": "3.10.4"
  },
  "lc_notebook_meme": {
   "current": "35c33086-55a3-11e7-b0b2-00163e9c0e35"
  },
  "toc": {
   "base_numbering": 1,
   "nav_menu": {
    "height": "484px",
    "width": "687px"
   },
   "number_sections": true,
   "sideBar": true,
   "skip_h1_title": false,
   "title_cell": "Table of Contents",
   "title_sidebar": "Contents",
   "toc_cell": false,
   "toc_position": {
    "height": "1156px",
    "left": "0px",
    "right": "1330px",
    "top": "106px",
    "width": "340.983px"
   },
   "toc_section_display": "block",
   "toc_window_display": true
  }
 },
 "nbformat": 4,
 "nbformat_minor": 1
}
