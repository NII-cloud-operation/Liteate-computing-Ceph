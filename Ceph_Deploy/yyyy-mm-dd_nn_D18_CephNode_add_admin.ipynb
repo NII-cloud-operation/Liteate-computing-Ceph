{
 "cells": [
  {
   "cell_type": "markdown",
   "metadata": {
    "collapsed": true,
    "lc_cell_meme": {
     "current": "35c33414-55a3-11e7-b0b2-00163e9c0e35-8-ffee-ac17-9684-bce9-cdf7-d822-1f73-c98a",
     "history": [
      {
       "current": "35c33414-55a3-11e7-b0b2-00163e9c0e35",
       "next": "35c33626-55a3-11e7-b0b2-00163e9c0e35",
       "previous": null
      },
      {
       "current": "35c33414-55a3-11e7-b0b2-00163e9c0e35",
       "next": "35c33626-55a3-11e7-b0b2-00163e9c0e35",
       "previous": null
      },
      {
       "current": "35c33414-55a3-11e7-b0b2-00163e9c0e35",
       "next": "35c33626-55a3-11e7-b0b2-00163e9c0e35",
       "previous": "0db87670-9586-11ea-8d02-0242ac120007"
      },
      {
       "current": "35c33414-55a3-11e7-b0b2-00163e9c0e35-1-ffee",
       "next": "35c337f2-55a3-11e7-b0b2-00163e9c0e35",
       "previous": null
      },
      {
       "current": "35c33414-55a3-11e7-b0b2-00163e9c0e35-2-ffee-ac17",
       "next": "35c337f2-55a3-11e7-b0b2-00163e9c0e35-1-b874",
       "previous": null
      },
      {
       "current": "35c33414-55a3-11e7-b0b2-00163e9c0e35-3-ffee-ac17-9684",
       "next": "35c337f2-55a3-11e7-b0b2-00163e9c0e35-2-b874-13f7",
       "previous": null
      },
      {
       "current": "35c33414-55a3-11e7-b0b2-00163e9c0e35-4-ffee-ac17-9684-bce9",
       "next": "35c337f2-55a3-11e7-b0b2-00163e9c0e35-3-b874-13f7-3f47",
       "previous": null
      },
      {
       "current": "35c33414-55a3-11e7-b0b2-00163e9c0e35-4-ffee-ac17-9684-bce9",
       "next": "35c337f2-55a3-11e7-b0b2-00163e9c0e35-4-b874-13f7-3f47-1f1c",
       "previous": null
      },
      {
       "current": "35c33414-55a3-11e7-b0b2-00163e9c0e35-5-ffee-ac17-9684-bce9-cdf7",
       "next": "35c339aa-55a3-11e7-b0b2-00163e9c0e35-4-eee2-af6c-3cfe-b881",
       "previous": null
      },
      {
       "current": "35c33414-55a3-11e7-b0b2-00163e9c0e35-6-ffee-ac17-9684-bce9-cdf7-d822",
       "next": "35c339aa-55a3-11e7-b0b2-00163e9c0e35-5-eee2-af6c-3cfe-b881-6271",
       "previous": null
      },
      {
       "current": "35c33414-55a3-11e7-b0b2-00163e9c0e35-7-ffee-ac17-9684-bce9-cdf7-d822-1f73",
       "next": "35c339aa-55a3-11e7-b0b2-00163e9c0e35-6-eee2-af6c-3cfe-b881-6271-2e18",
       "previous": null
      },
      {
       "current": "35c33414-55a3-11e7-b0b2-00163e9c0e35-8-ffee-ac17-9684-bce9-cdf7-d822-1f73-c98a",
       "next": "35c339aa-55a3-11e7-b0b2-00163e9c0e35-7-eee2-af6c-3cfe-b881-6271-2e18-e754",
       "previous": null
      }
     ],
     "next": "35c339aa-55a3-11e7-b0b2-00163e9c0e35-8-eee2-af6c-3cfe-b881-6271-2e18-e754-63dc",
     "previous": null
    }
   },
   "source": [
    "# Cephノード構築：admin用ノード追加\n",
    "cephadmのCLIで運用する際に必要とするadmin実行ノードの追加\n"
   ]
  },
  {
   "cell_type": "markdown",
   "metadata": {
    "lc_cell_meme": {
     "current": "35c339aa-55a3-11e7-b0b2-00163e9c0e35-8-eee2-af6c-3cfe-b881-6271-2e18-e754-63dc",
     "history": [
      {
       "current": "35c339aa-55a3-11e7-b0b2-00163e9c0e35",
       "next": "35c33b6c-55a3-11e7-b0b2-00163e9c0e35",
       "previous": "35c337f2-55a3-11e7-b0b2-00163e9c0e35"
      },
      {
       "current": "35c339aa-55a3-11e7-b0b2-00163e9c0e35",
       "next": "670888aa-5722-11e7-b0b2-00163e9c0e35",
       "previous": "35c337f2-55a3-11e7-b0b2-00163e9c0e35"
      },
      {
       "current": "35c339aa-55a3-11e7-b0b2-00163e9c0e35",
       "next": "670888aa-5722-11e7-b0b2-00163e9c0e35",
       "previous": "357fc83a-969d-11ea-8d02-0242ac120007"
      },
      {
       "current": "35c339aa-55a3-11e7-b0b2-00163e9c0e35-1-eee2",
       "next": "670888aa-5722-11e7-b0b2-00163e9c0e35",
       "previous": "8a48dae0-98a1-11ea-8d02-0242ac120007"
      },
      {
       "current": "35c339aa-55a3-11e7-b0b2-00163e9c0e35-2-eee2-af6c",
       "next": "670888aa-5722-11e7-b0b2-00163e9c0e35-1-17ba",
       "previous": "8a48dae0-98a1-11ea-8d02-0242ac120007-1-4da2"
      },
      {
       "current": "35c339aa-55a3-11e7-b0b2-00163e9c0e35-2-eee2-af6c",
       "next": "670888aa-5722-11e7-b0b2-00163e9c0e35-2-17ba-53fc",
       "previous": "8a48dae0-98a1-11ea-8d02-0242ac120007-2-4da2-9c77"
      },
      {
       "current": "35c339aa-55a3-11e7-b0b2-00163e9c0e35-3-eee2-af6c-3cfe",
       "next": "670888aa-5722-11e7-b0b2-00163e9c0e35-2-17ba-53fc",
       "previous": "35c337f2-55a3-11e7-b0b2-00163e9c0e35-2-b874-13f7"
      },
      {
       "current": "35c339aa-55a3-11e7-b0b2-00163e9c0e35-4-eee2-af6c-3cfe-b881",
       "next": "670888aa-5722-11e7-b0b2-00163e9c0e35-3-17ba-53fc-2957",
       "previous": "35c337f2-55a3-11e7-b0b2-00163e9c0e35-3-b874-13f7-3f47"
      },
      {
       "current": "35c339aa-55a3-11e7-b0b2-00163e9c0e35-4-eee2-af6c-3cfe-b881",
       "next": "670888aa-5722-11e7-b0b2-00163e9c0e35-4-17ba-53fc-2957-efe1",
       "previous": "35c337f2-55a3-11e7-b0b2-00163e9c0e35-4-b874-13f7-3f47-1f1c"
      },
      {
       "current": "35c339aa-55a3-11e7-b0b2-00163e9c0e35-5-eee2-af6c-3cfe-b881-6271",
       "next": "670888aa-5722-11e7-b0b2-00163e9c0e35-4-17ba-53fc-2957-efe1",
       "previous": "35c33414-55a3-11e7-b0b2-00163e9c0e35-4-ffee-ac17-9684-bce9"
      },
      {
       "current": "35c339aa-55a3-11e7-b0b2-00163e9c0e35-6-eee2-af6c-3cfe-b881-6271-2e18",
       "next": "670888aa-5722-11e7-b0b2-00163e9c0e35-5-17ba-53fc-2957-efe1-098b",
       "previous": "35c33414-55a3-11e7-b0b2-00163e9c0e35-5-ffee-ac17-9684-bce9-cdf7"
      },
      {
       "current": "35c339aa-55a3-11e7-b0b2-00163e9c0e35-7-eee2-af6c-3cfe-b881-6271-2e18-e754",
       "next": "670888aa-5722-11e7-b0b2-00163e9c0e35-6-17ba-53fc-2957-efe1-098b-98be",
       "previous": "35c33414-55a3-11e7-b0b2-00163e9c0e35-6-ffee-ac17-9684-bce9-cdf7-d822"
      },
      {
       "current": "35c339aa-55a3-11e7-b0b2-00163e9c0e35-8-eee2-af6c-3cfe-b881-6271-2e18-e754-63dc",
       "next": "670888aa-5722-11e7-b0b2-00163e9c0e35-7-17ba-53fc-2957-efe1-098b-98be-b733",
       "previous": "35c33414-55a3-11e7-b0b2-00163e9c0e35-7-ffee-ac17-9684-bce9-cdf7-d822-1f73"
      }
     ],
     "next": "670888aa-5722-11e7-b0b2-00163e9c0e35-8-17ba-53fc-2957-efe1-098b-98be-b733-c42d",
     "previous": "35c33414-55a3-11e7-b0b2-00163e9c0e35-8-ffee-ac17-9684-bce9-cdf7-d822-1f73-c98a"
    }
   },
   "source": [
    "# パラメータ定義"
   ]
  },
  {
   "cell_type": "markdown",
   "metadata": {
    "lc_cell_meme": {
     "current": "670888aa-5722-11e7-b0b2-00163e9c0e35-8-17ba-53fc-2957-efe1-098b-98be-b733-c42d",
     "history": [
      {
       "current": "670888aa-5722-11e7-b0b2-00163e9c0e35-1-17ba",
       "next": "35c33b6c-55a3-11e7-b0b2-00163e9c0e35",
       "previous": "35c339aa-55a3-11e7-b0b2-00163e9c0e35"
      },
      {
       "current": "670888aa-5722-11e7-b0b2-00163e9c0e35-2-17ba-53fc",
       "next": "35c33b6c-55a3-11e7-b0b2-00163e9c0e35-1-c84d",
       "previous": "35c339aa-55a3-11e7-b0b2-00163e9c0e35-1-eee2"
      },
      {
       "current": "670888aa-5722-11e7-b0b2-00163e9c0e35-3-17ba-53fc-2957",
       "next": "35c33b6c-55a3-11e7-b0b2-00163e9c0e35-2-c84d-3439",
       "previous": "35c339aa-55a3-11e7-b0b2-00163e9c0e35-2-eee2-af6c"
      },
      {
       "current": "670888aa-5722-11e7-b0b2-00163e9c0e35-4-17ba-53fc-2957-efe1",
       "next": "35c33b6c-55a3-11e7-b0b2-00163e9c0e35-3-c84d-3439-eddb",
       "previous": "35c339aa-55a3-11e7-b0b2-00163e9c0e35-3-eee2-af6c-3cfe"
      },
      {
       "current": "670888aa-5722-11e7-b0b2-00163e9c0e35-5-17ba-53fc-2957-efe1-098b",
       "next": "35c33b6c-55a3-11e7-b0b2-00163e9c0e35-4-c84d-3439-eddb-094b",
       "previous": "35c339aa-55a3-11e7-b0b2-00163e9c0e35-4-eee2-af6c-3cfe-b881"
      },
      {
       "current": "670888aa-5722-11e7-b0b2-00163e9c0e35-6-17ba-53fc-2957-efe1-098b-98be",
       "next": "35c33b6c-55a3-11e7-b0b2-00163e9c0e35-5-c84d-3439-eddb-094b-b8b7",
       "previous": "35c339aa-55a3-11e7-b0b2-00163e9c0e35-5-eee2-af6c-3cfe-b881-6271"
      },
      {
       "current": "670888aa-5722-11e7-b0b2-00163e9c0e35-7-17ba-53fc-2957-efe1-098b-98be-b733",
       "next": "35c33b6c-55a3-11e7-b0b2-00163e9c0e35-6-c84d-3439-eddb-094b-b8b7-01b6",
       "previous": "35c339aa-55a3-11e7-b0b2-00163e9c0e35-6-eee2-af6c-3cfe-b881-6271-2e18"
      },
      {
       "current": "670888aa-5722-11e7-b0b2-00163e9c0e35-8-17ba-53fc-2957-efe1-098b-98be-b733-c42d",
       "next": "35c33b6c-55a3-11e7-b0b2-00163e9c0e35-7-c84d-3439-eddb-094b-b8b7-01b6-795b",
       "previous": "35c339aa-55a3-11e7-b0b2-00163e9c0e35-7-eee2-af6c-3cfe-b881-6271-2e18-e754"
      }
     ],
     "next": "35c33b6c-55a3-11e7-b0b2-00163e9c0e35-8-c84d-3439-eddb-094b-b8b7-01b6-795b-d8fb",
     "previous": "35c339aa-55a3-11e7-b0b2-00163e9c0e35-8-eee2-af6c-3cfe-b881-6271-2e18-e754-63dc"
    }
   },
   "source": [
    "## パラメータファイル設定"
   ]
  },
  {
   "cell_type": "markdown",
   "metadata": {
    "lc_cell_meme": {
     "current": "35c33b6c-55a3-11e7-b0b2-00163e9c0e35-8-c84d-3439-eddb-094b-b8b7-01b6-795b-d8fb",
     "history": [
      {
       "current": "35c33b6c-55a3-11e7-b0b2-00163e9c0e35",
       "next": "35c33d24-55a3-11e7-b0b2-00163e9c0e35",
       "previous": "35c339aa-55a3-11e7-b0b2-00163e9c0e35"
      },
      {
       "current": "35c33b6c-55a3-11e7-b0b2-00163e9c0e35-1-c84d",
       "next": "35c33d24-55a3-11e7-b0b2-00163e9c0e35",
       "previous": "670888aa-5722-11e7-b0b2-00163e9c0e35"
      },
      {
       "current": "35c33b6c-55a3-11e7-b0b2-00163e9c0e35-2-c84d-3439",
       "next": "35c33d24-55a3-11e7-b0b2-00163e9c0e35-1-c8d8",
       "previous": "670888aa-5722-11e7-b0b2-00163e9c0e35-1-17ba"
      },
      {
       "current": "35c33b6c-55a3-11e7-b0b2-00163e9c0e35-3-c84d-3439-eddb",
       "next": "35c33d24-55a3-11e7-b0b2-00163e9c0e35-2-c8d8-c063",
       "previous": "670888aa-5722-11e7-b0b2-00163e9c0e35-2-17ba-53fc"
      },
      {
       "current": "35c33b6c-55a3-11e7-b0b2-00163e9c0e35-4-c84d-3439-eddb-094b",
       "next": "35c33d24-55a3-11e7-b0b2-00163e9c0e35-3-c8d8-c063-e3d4",
       "previous": "670888aa-5722-11e7-b0b2-00163e9c0e35-3-17ba-53fc-2957"
      },
      {
       "current": "35c33b6c-55a3-11e7-b0b2-00163e9c0e35-5-c84d-3439-eddb-094b-b8b7",
       "next": "35c33d24-55a3-11e7-b0b2-00163e9c0e35-4-c8d8-c063-e3d4-8eff",
       "previous": "670888aa-5722-11e7-b0b2-00163e9c0e35-4-17ba-53fc-2957-efe1"
      },
      {
       "current": "35c33b6c-55a3-11e7-b0b2-00163e9c0e35-6-c84d-3439-eddb-094b-b8b7-01b6",
       "next": "35c33d24-55a3-11e7-b0b2-00163e9c0e35-5-c8d8-c063-e3d4-8eff-a0b3",
       "previous": "670888aa-5722-11e7-b0b2-00163e9c0e35-5-17ba-53fc-2957-efe1-098b"
      },
      {
       "current": "35c33b6c-55a3-11e7-b0b2-00163e9c0e35-7-c84d-3439-eddb-094b-b8b7-01b6-795b",
       "next": "2398cef2-22fb-11ef-ad2f-0242ac120005",
       "previous": "670888aa-5722-11e7-b0b2-00163e9c0e35-6-17ba-53fc-2957-efe1-098b-98be"
      },
      {
       "current": "35c33b6c-55a3-11e7-b0b2-00163e9c0e35-8-c84d-3439-eddb-094b-b8b7-01b6-795b-d8fb",
       "next": "2398cef2-22fb-11ef-ad2f-0242ac120005-1-3907",
       "previous": "670888aa-5722-11e7-b0b2-00163e9c0e35-7-17ba-53fc-2957-efe1-098b-98be-b733"
      }
     ],
     "next": "2398cef2-22fb-11ef-ad2f-0242ac120005-2-3907-f19b",
     "previous": "670888aa-5722-11e7-b0b2-00163e9c0e35-8-17ba-53fc-2957-efe1-098b-98be-b733-c42d"
    }
   },
   "source": [
    "Cephクラスタの定義ファイルを指定するため、<br>\n",
    "パラメータ定義格納ディレクトリを表示する。"
   ]
  },
  {
   "cell_type": "code",
   "execution_count": null,
   "metadata": {
    "lc_cell_meme": {
     "current": "2398cef2-22fb-11ef-ad2f-0242ac120005-2-3907-f19b",
     "history": [
      {
       "current": "2398cef2-22fb-11ef-ad2f-0242ac120005-1-3907",
       "next": "2398cfba-22fb-11ef-ad2f-0242ac120005",
       "previous": "35c33b6c-55a3-11e7-b0b2-00163e9c0e35-6-c84d-3439-eddb-094b-b8b7-01b6"
      },
      {
       "current": "2398cef2-22fb-11ef-ad2f-0242ac120005-2-3907-f19b",
       "next": "2398cfba-22fb-11ef-ad2f-0242ac120005-1-a399",
       "previous": "35c33b6c-55a3-11e7-b0b2-00163e9c0e35-7-c84d-3439-eddb-094b-b8b7-01b6-795b"
      }
     ],
     "next": "2398cfba-22fb-11ef-ad2f-0242ac120005-2-a399-1aa7",
     "previous": "35c33b6c-55a3-11e7-b0b2-00163e9c0e35-8-c84d-3439-eddb-094b-b8b7-01b6-795b-d8fb"
    }
   },
   "outputs": [],
   "source": [
    "!ls -p ~/notebooks/share/ | grep \"/$\""
   ]
  },
  {
   "cell_type": "code",
   "execution_count": null,
   "metadata": {
    "lc_cell_meme": {
     "current": "2398cfba-22fb-11ef-ad2f-0242ac120005-2-a399-1aa7",
     "history": [
      {
       "current": "2398cfba-22fb-11ef-ad2f-0242ac120005-1-a399",
       "next": "2398cfec-22fb-11ef-ad2f-0242ac120005",
       "previous": "2398cef2-22fb-11ef-ad2f-0242ac120005"
      },
      {
       "current": "2398cfba-22fb-11ef-ad2f-0242ac120005-2-a399-1aa7",
       "next": "2398cfec-22fb-11ef-ad2f-0242ac120005-1-79ec",
       "previous": "2398cef2-22fb-11ef-ad2f-0242ac120005-1-3907"
      }
     ],
     "next": "2398cfec-22fb-11ef-ad2f-0242ac120005-2-79ec-5b64",
     "previous": "2398cef2-22fb-11ef-ad2f-0242ac120005-2-3907-f19b"
    }
   },
   "outputs": [],
   "source": [
    "!ls -p ~/notebooks/share/configuration"
   ]
  },
  {
   "cell_type": "code",
   "execution_count": null,
   "metadata": {
    "lc_cell_meme": {
     "current": "2398cfec-22fb-11ef-ad2f-0242ac120005-2-79ec-5b64",
     "history": [
      {
       "current": "2398cfec-22fb-11ef-ad2f-0242ac120005-1-79ec",
       "next": "2398d00a-22fb-11ef-ad2f-0242ac120005",
       "previous": "2398cfba-22fb-11ef-ad2f-0242ac120005"
      },
      {
       "current": "2398cfec-22fb-11ef-ad2f-0242ac120005-2-79ec-5b64",
       "next": "2398d00a-22fb-11ef-ad2f-0242ac120005-1-5bef",
       "previous": "2398cfba-22fb-11ef-ad2f-0242ac120005-1-a399"
      }
     ],
     "next": "2398d00a-22fb-11ef-ad2f-0242ac120005-2-5bef-acb4",
     "previous": "2398cfba-22fb-11ef-ad2f-0242ac120005-2-a399-1aa7"
    }
   },
   "outputs": [],
   "source": [
    "!ls -p ~/notebooks/share/configuration/ceph"
   ]
  },
  {
   "cell_type": "code",
   "execution_count": null,
   "metadata": {
    "lc_cell_meme": {
     "current": "2398d00a-22fb-11ef-ad2f-0242ac120005-2-5bef-acb4",
     "history": [
      {
       "current": "2398d00a-22fb-11ef-ad2f-0242ac120005-1-5bef",
       "next": "2398d032-22fb-11ef-ad2f-0242ac120005",
       "previous": "2398cfec-22fb-11ef-ad2f-0242ac120005"
      },
      {
       "current": "2398d00a-22fb-11ef-ad2f-0242ac120005-2-5bef-acb4",
       "next": "2398d032-22fb-11ef-ad2f-0242ac120005-1-84c4",
       "previous": "2398cfec-22fb-11ef-ad2f-0242ac120005-1-79ec"
      }
     ],
     "next": "2398d032-22fb-11ef-ad2f-0242ac120005-2-84c4-a45c",
     "previous": "2398cfec-22fb-11ef-ad2f-0242ac120005-2-79ec-5b64"
    }
   },
   "outputs": [],
   "source": [
    "import sys, os.path, importlib, json, yaml\n",
    "\n",
    "config_file_name = \"ceph_admin_vm.yml\"\n",
    "config_file_path = os.path.expanduser(\"~/notebooks/share/configuration/ceph/{}\".format(config_file_name))\n",
    "with open(config_file_path) as f:\n",
    "    admin_params = yaml.safe_load(f)\n",
    "admin_params"
   ]
  },
  {
   "cell_type": "code",
   "execution_count": null,
   "metadata": {
    "lc_cell_meme": {
     "current": "2398d032-22fb-11ef-ad2f-0242ac120005-2-84c4-a45c",
     "history": [
      {
       "current": "2398d032-22fb-11ef-ad2f-0242ac120005-1-84c4",
       "next": "2398d050-22fb-11ef-ad2f-0242ac120005",
       "previous": "2398d00a-22fb-11ef-ad2f-0242ac120005"
      },
      {
       "current": "2398d032-22fb-11ef-ad2f-0242ac120005-2-84c4-a45c",
       "next": "2398d050-22fb-11ef-ad2f-0242ac120005-1-066f",
       "previous": "2398d00a-22fb-11ef-ad2f-0242ac120005-1-5bef"
      }
     ],
     "next": "2398d050-22fb-11ef-ad2f-0242ac120005-2-066f-f8eb",
     "previous": "2398d00a-22fb-11ef-ad2f-0242ac120005-2-5bef-acb4"
    }
   },
   "outputs": [],
   "source": [
    "target_vm_name = 'xxx-ceph-admin1'\n",
    "admin_patam = admin_params[target_vm_name]\n",
    "admin_patam"
   ]
  },
  {
   "cell_type": "code",
   "execution_count": null,
   "metadata": {
    "lc_cell_meme": {
     "current": "2398d050-22fb-11ef-ad2f-0242ac120005-2-066f-f8eb",
     "history": [
      {
       "current": "2398d050-22fb-11ef-ad2f-0242ac120005-1-066f",
       "next": "2398d078-22fb-11ef-ad2f-0242ac120005",
       "previous": "2398d032-22fb-11ef-ad2f-0242ac120005"
      },
      {
       "current": "2398d050-22fb-11ef-ad2f-0242ac120005-2-066f-f8eb",
       "next": "2398d078-22fb-11ef-ad2f-0242ac120005-1-733f",
       "previous": "2398d032-22fb-11ef-ad2f-0242ac120005-1-84c4"
      }
     ],
     "next": "2398d078-22fb-11ef-ad2f-0242ac120005-2-733f-c7a1",
     "previous": "2398d032-22fb-11ef-ad2f-0242ac120005-2-84c4-a45c"
    }
   },
   "outputs": [],
   "source": [
    "ceph_admin_ip = admin_patam['network']['provisioning']['ip']"
   ]
  },
  {
   "cell_type": "code",
   "execution_count": null,
   "metadata": {
    "lc_cell_meme": {
     "current": "2398d078-22fb-11ef-ad2f-0242ac120005-2-733f-c7a1",
     "history": [
      {
       "current": "2398d078-22fb-11ef-ad2f-0242ac120005-1-733f",
       "next": "2398d096-22fb-11ef-ad2f-0242ac120005",
       "previous": "2398d050-22fb-11ef-ad2f-0242ac120005"
      },
      {
       "current": "2398d078-22fb-11ef-ad2f-0242ac120005-2-733f-c7a1",
       "next": "2398d096-22fb-11ef-ad2f-0242ac120005-1-5736",
       "previous": "2398d050-22fb-11ef-ad2f-0242ac120005-1-066f"
      }
     ],
     "next": "2398d096-22fb-11ef-ad2f-0242ac120005-2-5736-03e3",
     "previous": "2398d050-22fb-11ef-ad2f-0242ac120005-2-066f-f8eb"
    }
   },
   "outputs": [],
   "source": [
    "import sys, os.path, importlib, json, yaml\n",
    "\n",
    "config_file_name = \"xxx-openstack-parameter.yml\"\n",
    "config_file_path = os.path.expanduser(\"~/notebooks/share/configuration/{}\".format(config_file_name))\n",
    "with open(config_file_path) as f:\n",
    "    params = yaml.safe_load(f)\n",
    "params"
   ]
  },
  {
   "cell_type": "code",
   "execution_count": null,
   "metadata": {
    "lc_cell_meme": {
     "current": "2398d096-22fb-11ef-ad2f-0242ac120005-2-5736-03e3",
     "history": [
      {
       "current": "2398d096-22fb-11ef-ad2f-0242ac120005-1-5736",
       "next": "2398d0be-22fb-11ef-ad2f-0242ac120005",
       "previous": "2398d078-22fb-11ef-ad2f-0242ac120005"
      },
      {
       "current": "2398d096-22fb-11ef-ad2f-0242ac120005-2-5736-03e3",
       "next": "2398d0be-22fb-11ef-ad2f-0242ac120005-1-9097",
       "previous": "2398d078-22fb-11ef-ad2f-0242ac120005-1-733f"
      }
     ],
     "next": "2398d0be-22fb-11ef-ad2f-0242ac120005-2-9097-985d",
     "previous": "2398d078-22fb-11ef-ad2f-0242ac120005-2-733f-c7a1"
    }
   },
   "outputs": [],
   "source": [
    "repo_server = params['repository']['addresses']['service_operation']\n",
    "repo_server"
   ]
  },
  {
   "cell_type": "code",
   "execution_count": null,
   "metadata": {
    "lc_cell_meme": {
     "current": "2398d0be-22fb-11ef-ad2f-0242ac120005-2-9097-985d",
     "history": [
      {
       "current": "2398d0be-22fb-11ef-ad2f-0242ac120005-1-9097",
       "next": "bf249b06-98af-11ea-8d02-0242ac120007-6-1e49-e772-9042-4de8-f568-b1c3",
       "previous": "2398d096-22fb-11ef-ad2f-0242ac120005"
      },
      {
       "current": "2398d0be-22fb-11ef-ad2f-0242ac120005-2-9097-985d",
       "next": "bf249b06-98af-11ea-8d02-0242ac120007-7-1e49-e772-9042-4de8-f568-b1c3-0ee2",
       "previous": "2398d096-22fb-11ef-ad2f-0242ac120005-1-5736"
      }
     ],
     "next": "bf249b06-98af-11ea-8d02-0242ac120007-8-1e49-e772-9042-4de8-f568-b1c3-0ee2-49b4",
     "previous": "2398d096-22fb-11ef-ad2f-0242ac120005-2-5736-03e3"
    }
   },
   "outputs": [],
   "source": [
    "provisioning_vip = params['openstack']['provisioning_vip']\n",
    "provisioning_vip"
   ]
  },
  {
   "cell_type": "markdown",
   "metadata": {
    "lc_cell_meme": {
     "current": "bf249b06-98af-11ea-8d02-0242ac120007-8-1e49-e772-9042-4de8-f568-b1c3-0ee2-49b4",
     "history": [
      {
       "current": "bf249b06-98af-11ea-8d02-0242ac120007",
       "next": "d1bcb8ac-9599-11ea-8d02-0242ac120007",
       "previous": "7dae8996-9686-11ea-8d02-0242ac120007"
      },
      {
       "current": "bf249b06-98af-11ea-8d02-0242ac120007-1-1e49",
       "next": "dd8e3cbc-98f2-11ea-8d02-0242ac120007",
       "previous": "7dae8996-9686-11ea-8d02-0242ac120007"
      },
      {
       "current": "bf249b06-98af-11ea-8d02-0242ac120007-2-1e49-e772",
       "next": "dd8e3cbc-98f2-11ea-8d02-0242ac120007-1-706a",
       "previous": "7dae8996-9686-11ea-8d02-0242ac120007-1-20c5"
      },
      {
       "current": "bf249b06-98af-11ea-8d02-0242ac120007-2-1e49-e772",
       "next": "dd8e3cbc-98f2-11ea-8d02-0242ac120007-2-706a-309d",
       "previous": "7dae8996-9686-11ea-8d02-0242ac120007-2-20c5-a0b0"
      },
      {
       "current": "bf249b06-98af-11ea-8d02-0242ac120007-2-1e49-e772",
       "next": "dd8e3cbc-98f2-11ea-8d02-0242ac120007-2-706a-309d",
       "previous": "1afe76e2-def8-11eb-b29f-0242ac120008"
      },
      {
       "current": "bf249b06-98af-11ea-8d02-0242ac120007-2-1e49-e772",
       "next": "d1bcb8ac-9599-11ea-8d02-0242ac120007-2-ec95-2870",
       "previous": "1afe76e2-def8-11eb-b29f-0242ac120008"
      },
      {
       "current": "bf249b06-98af-11ea-8d02-0242ac120007-2-1e49-e772",
       "next": "d1bcb8ac-9599-11ea-8d02-0242ac120007-2-ec95-2870",
       "previous": "445f36bc-def7-11eb-b29f-0242ac120008"
      },
      {
       "current": "bf249b06-98af-11ea-8d02-0242ac120007-3-1e49-e772-9042",
       "next": "d1bcb8ac-9599-11ea-8d02-0242ac120007-2-ec95-2870",
       "previous": "17dd310e-deff-11eb-b29f-0242ac120008"
      },
      {
       "current": "bf249b06-98af-11ea-8d02-0242ac120007-4-1e49-e772-9042-4de8",
       "next": "d1bcb8ac-9599-11ea-8d02-0242ac120007-3-ec95-2870-3f6b",
       "previous": "17dd310e-deff-11eb-b29f-0242ac120008-1-9f34"
      },
      {
       "current": "bf249b06-98af-11ea-8d02-0242ac120007-5-1e49-e772-9042-4de8-f568",
       "next": "d1bcb8ac-9599-11ea-8d02-0242ac120007-4-ec95-2870-3f6b-8e9c",
       "previous": "17dd310e-deff-11eb-b29f-0242ac120008-2-9f34-d258"
      },
      {
       "current": "bf249b06-98af-11ea-8d02-0242ac120007-6-1e49-e772-9042-4de8-f568-b1c3",
       "next": "d1bcb8ac-9599-11ea-8d02-0242ac120007-5-ec95-2870-3f6b-8e9c-2571",
       "previous": "17dd310e-deff-11eb-b29f-0242ac120008-3-9f34-d258-ed6d"
      },
      {
       "current": "bf249b06-98af-11ea-8d02-0242ac120007-7-1e49-e772-9042-4de8-f568-b1c3-0ee2",
       "next": "d1bcb8ac-9599-11ea-8d02-0242ac120007-6-ec95-2870-3f6b-8e9c-2571-616e",
       "previous": "2398d0be-22fb-11ef-ad2f-0242ac120005"
      },
      {
       "current": "bf249b06-98af-11ea-8d02-0242ac120007-8-1e49-e772-9042-4de8-f568-b1c3-0ee2-49b4",
       "next": "d1bcb8ac-9599-11ea-8d02-0242ac120007-7-ec95-2870-3f6b-8e9c-2571-616e-4a84",
       "previous": "2398d0be-22fb-11ef-ad2f-0242ac120005-1-9097"
      }
     ],
     "next": "d1bcb8ac-9599-11ea-8d02-0242ac120007-8-ec95-2870-3f6b-8e9c-2571-616e-4a84-060a",
     "previous": "2398d0be-22fb-11ef-ad2f-0242ac120005-2-9097-985d"
    }
   },
   "source": [
    "## CephノードとストレージセグメントIPアドレス対応表の読み込み"
   ]
  },
  {
   "cell_type": "code",
   "execution_count": null,
   "metadata": {
    "lc_cell_meme": {
     "current": "d1bcb8ac-9599-11ea-8d02-0242ac120007-8-ec95-2870-3f6b-8e9c-2571-616e-4a84-060a",
     "history": [
      {
       "current": "d1bcb8ac-9599-11ea-8d02-0242ac120007",
       "next": "d1bcba78-9599-11ea-8d02-0242ac120007",
       "previous": "d1bcb5c8-9599-11ea-8d02-0242ac120007"
      },
      {
       "current": "d1bcb8ac-9599-11ea-8d02-0242ac120007",
       "next": "d1bcba78-9599-11ea-8d02-0242ac120007",
       "previous": "a85c1dda-959a-11ea-8d02-0242ac120007"
      },
      {
       "current": "d1bcb8ac-9599-11ea-8d02-0242ac120007",
       "next": "81dd4f74-9597-11ea-8d02-0242ac120007",
       "previous": "a85c1dda-959a-11ea-8d02-0242ac120007"
      },
      {
       "current": "d1bcb8ac-9599-11ea-8d02-0242ac120007",
       "next": "e879cdac-95bf-11ea-8d02-0242ac120007",
       "previous": "a85c1dda-959a-11ea-8d02-0242ac120007"
      },
      {
       "current": "d1bcb8ac-9599-11ea-8d02-0242ac120007",
       "next": "7899411a-9692-11ea-8d02-0242ac120007",
       "previous": "bf249b06-98af-11ea-8d02-0242ac120007"
      },
      {
       "current": "d1bcb8ac-9599-11ea-8d02-0242ac120007",
       "next": "06afe9a8-98b0-11ea-8d02-0242ac120007",
       "previous": "bf249b06-98af-11ea-8d02-0242ac120007"
      },
      {
       "current": "d1bcb8ac-9599-11ea-8d02-0242ac120007",
       "next": "06afe9a8-98b0-11ea-8d02-0242ac120007",
       "previous": "dd8e3cbc-98f2-11ea-8d02-0242ac120007"
      },
      {
       "current": "d1bcb8ac-9599-11ea-8d02-0242ac120007-1-ec95",
       "next": "250e7a70-98f3-11ea-8d02-0242ac120007",
       "previous": "dd8e3cbc-98f2-11ea-8d02-0242ac120007"
      },
      {
       "current": "d1bcb8ac-9599-11ea-8d02-0242ac120007-2-ec95-2870",
       "next": "250e7a70-98f3-11ea-8d02-0242ac120007-1-f0b4",
       "previous": "dd8e3cbc-98f2-11ea-8d02-0242ac120007-1-706a"
      },
      {
       "current": "d1bcb8ac-9599-11ea-8d02-0242ac120007-2-ec95-2870",
       "next": "250e7a70-98f3-11ea-8d02-0242ac120007-2-f0b4-6edf",
       "previous": "dd8e3cbc-98f2-11ea-8d02-0242ac120007-2-706a-309d"
      },
      {
       "current": "d1bcb8ac-9599-11ea-8d02-0242ac120007-3-ec95-2870-3f6b",
       "next": "250e7a70-98f3-11ea-8d02-0242ac120007-2-f0b4-6edf",
       "previous": "bf249b06-98af-11ea-8d02-0242ac120007-2-1e49-e772"
      },
      {
       "current": "d1bcb8ac-9599-11ea-8d02-0242ac120007-3-ec95-2870-3f6b",
       "next": "250e7a70-98f3-11ea-8d02-0242ac120007-3-f0b4-6edf-9d40",
       "previous": "bf249b06-98af-11ea-8d02-0242ac120007-3-1e49-e772-9042"
      },
      {
       "current": "d1bcb8ac-9599-11ea-8d02-0242ac120007-4-ec95-2870-3f6b-8e9c",
       "next": "2991a18c-6f17-11ee-89fa-0242ac120005",
       "previous": "bf249b06-98af-11ea-8d02-0242ac120007-3-1e49-e772-9042"
      },
      {
       "current": "d1bcb8ac-9599-11ea-8d02-0242ac120007-5-ec95-2870-3f6b-8e9c-2571",
       "next": "2991a18c-6f17-11ee-89fa-0242ac120005-1-24d9",
       "previous": "bf249b06-98af-11ea-8d02-0242ac120007-4-1e49-e772-9042-4de8"
      },
      {
       "current": "d1bcb8ac-9599-11ea-8d02-0242ac120007-6-ec95-2870-3f6b-8e9c-2571-616e",
       "next": "2991a18c-6f17-11ee-89fa-0242ac120005-2-24d9-51ea",
       "previous": "bf249b06-98af-11ea-8d02-0242ac120007-5-1e49-e772-9042-4de8-f568"
      },
      {
       "current": "d1bcb8ac-9599-11ea-8d02-0242ac120007-7-ec95-2870-3f6b-8e9c-2571-616e-4a84",
       "next": "711857b2-6f17-11ee-89fa-0242ac120005-3-3384-acbb-35d6",
       "previous": "bf249b06-98af-11ea-8d02-0242ac120007-6-1e49-e772-9042-4de8-f568-b1c3"
      },
      {
       "current": "d1bcb8ac-9599-11ea-8d02-0242ac120007-8-ec95-2870-3f6b-8e9c-2571-616e-4a84-060a",
       "next": "711857b2-6f17-11ee-89fa-0242ac120005-4-3384-acbb-35d6-ee80",
       "previous": "bf249b06-98af-11ea-8d02-0242ac120007-7-1e49-e772-9042-4de8-f568-b1c3-0ee2"
      }
     ],
     "next": "711857b2-6f17-11ee-89fa-0242ac120005-5-3384-acbb-35d6-ee80-d5ab",
     "previous": "bf249b06-98af-11ea-8d02-0242ac120007-8-1e49-e772-9042-4de8-f568-b1c3-0ee2-49b4"
    },
    "scrolled": true
   },
   "outputs": [],
   "source": [
    "import os\n",
    "import csv\n",
    "import pandas as pd\n",
    "\n",
    "instance_ip_csv_path =  os.environ['HOME'] + \"/notebooks/share/configuration/ceph/ceph_instance_ip.csv\"\n",
    "instance_ip_list = []\n",
    "instance_ip_map = {}\n",
    "\n",
    "with open(instance_ip_csv_path, 'r') as path_csv:\n",
    "    reader = csv.DictReader(path_csv)\n",
    "    \n",
    "    for record in reader:\n",
    "        instance_ip_list.append(record)\n",
    "        instance_ip_map[record['instance_name']] = record\n",
    "\n",
    "pd.DataFrame(instance_ip_list)"
   ]
  },
  {
   "cell_type": "markdown",
   "metadata": {
    "lc_cell_meme": {
     "current": "711857b2-6f17-11ee-89fa-0242ac120005-5-3384-acbb-35d6-ee80-d5ab",
     "history": [
      {
       "current": "711857b2-6f17-11ee-89fa-0242ac120005-1-3384",
       "next": "71185870-6f17-11ee-89fa-0242ac120005",
       "previous": "250e7a70-98f3-11ea-8d02-0242ac120007-3-f0b4-6edf-9d40"
      },
      {
       "current": "711857b2-6f17-11ee-89fa-0242ac120005-2-3384-acbb",
       "next": "71185870-6f17-11ee-89fa-0242ac120005-1-e1e9",
       "previous": "250e7a70-98f3-11ea-8d02-0242ac120007-4-f0b4-6edf-9d40-ca05"
      },
      {
       "current": "711857b2-6f17-11ee-89fa-0242ac120005-3-3384-acbb-35d6",
       "next": "71185870-6f17-11ee-89fa-0242ac120005-2-e1e9-e9fb",
       "previous": "250e7a70-98f3-11ea-8d02-0242ac120007-5-f0b4-6edf-9d40-ca05-ec5b"
      },
      {
       "current": "711857b2-6f17-11ee-89fa-0242ac120005-4-3384-acbb-35d6-ee80",
       "next": "71185870-6f17-11ee-89fa-0242ac120005-3-e1e9-e9fb-cbad",
       "previous": "d1bcb8ac-9599-11ea-8d02-0242ac120007-6-ec95-2870-3f6b-8e9c-2571-616e"
      },
      {
       "current": "711857b2-6f17-11ee-89fa-0242ac120005-5-3384-acbb-35d6-ee80-d5ab",
       "next": "71185870-6f17-11ee-89fa-0242ac120005-4-e1e9-e9fb-cbad-815e",
       "previous": "d1bcb8ac-9599-11ea-8d02-0242ac120007-7-ec95-2870-3f6b-8e9c-2571-616e-4a84"
      }
     ],
     "next": "71185870-6f17-11ee-89fa-0242ac120005-5-e1e9-e9fb-cbad-815e-6b26",
     "previous": "d1bcb8ac-9599-11ea-8d02-0242ac120007-8-ec95-2870-3f6b-8e9c-2571-616e-4a84-060a"
    }
   },
   "source": [
    "## 作業用ディレクトリを作成する"
   ]
  },
  {
   "cell_type": "code",
   "execution_count": null,
   "metadata": {
    "lc_cell_meme": {
     "current": "71185870-6f17-11ee-89fa-0242ac120005-5-e1e9-e9fb-cbad-815e-6b26",
     "history": [
      {
       "current": "71185870-6f17-11ee-89fa-0242ac120005-1-e1e9",
       "next": "711858ac-6f17-11ee-89fa-0242ac120005",
       "previous": "711857b2-6f17-11ee-89fa-0242ac120005"
      },
      {
       "current": "71185870-6f17-11ee-89fa-0242ac120005-2-e1e9-e9fb",
       "next": "711858ac-6f17-11ee-89fa-0242ac120005-1-3ba2",
       "previous": "711857b2-6f17-11ee-89fa-0242ac120005-1-3384"
      },
      {
       "current": "71185870-6f17-11ee-89fa-0242ac120005-3-e1e9-e9fb-cbad",
       "next": "711858ac-6f17-11ee-89fa-0242ac120005-2-3ba2-c7d2",
       "previous": "711857b2-6f17-11ee-89fa-0242ac120005-2-3384-acbb"
      },
      {
       "current": "71185870-6f17-11ee-89fa-0242ac120005-4-e1e9-e9fb-cbad-815e",
       "next": "711858ac-6f17-11ee-89fa-0242ac120005-3-3ba2-c7d2-a064",
       "previous": "711857b2-6f17-11ee-89fa-0242ac120005-3-3384-acbb-35d6"
      },
      {
       "current": "71185870-6f17-11ee-89fa-0242ac120005-5-e1e9-e9fb-cbad-815e-6b26",
       "next": "711858ac-6f17-11ee-89fa-0242ac120005-4-3ba2-c7d2-a064-8c44",
       "previous": "711857b2-6f17-11ee-89fa-0242ac120005-4-3384-acbb-35d6-ee80"
      }
     ],
     "next": "711858ac-6f17-11ee-89fa-0242ac120005-5-3ba2-c7d2-a064-8c44-b3f4",
     "previous": "711857b2-6f17-11ee-89fa-0242ac120005-5-3384-acbb-35d6-ee80-d5ab"
    }
   },
   "outputs": [],
   "source": [
    "import os,tempfile\n",
    "temp_dir = tempfile.mkdtemp()\n",
    "print (temp_dir)"
   ]
  },
  {
   "cell_type": "markdown",
   "metadata": {
    "lc_cell_meme": {
     "current": "711858ac-6f17-11ee-89fa-0242ac120005-5-3ba2-c7d2-a064-8c44-b3f4",
     "history": [
      {
       "current": "711858ac-6f17-11ee-89fa-0242ac120005-1-3ba2",
       "next": "711858ca-6f17-11ee-89fa-0242ac120005",
       "previous": "71185870-6f17-11ee-89fa-0242ac120005"
      },
      {
       "current": "711858ac-6f17-11ee-89fa-0242ac120005-2-3ba2-c7d2",
       "next": "711858ca-6f17-11ee-89fa-0242ac120005-1-333f",
       "previous": "71185870-6f17-11ee-89fa-0242ac120005-1-e1e9"
      },
      {
       "current": "711858ac-6f17-11ee-89fa-0242ac120005-3-3ba2-c7d2-a064",
       "next": "711858ca-6f17-11ee-89fa-0242ac120005-2-333f-0817",
       "previous": "71185870-6f17-11ee-89fa-0242ac120005-2-e1e9-e9fb"
      },
      {
       "current": "711858ac-6f17-11ee-89fa-0242ac120005-4-3ba2-c7d2-a064-8c44",
       "next": "711858ca-6f17-11ee-89fa-0242ac120005-3-333f-0817-f40c",
       "previous": "71185870-6f17-11ee-89fa-0242ac120005-3-e1e9-e9fb-cbad"
      },
      {
       "current": "711858ac-6f17-11ee-89fa-0242ac120005-5-3ba2-c7d2-a064-8c44-b3f4",
       "next": "711858ca-6f17-11ee-89fa-0242ac120005-4-333f-0817-f40c-34ea",
       "previous": "71185870-6f17-11ee-89fa-0242ac120005-4-e1e9-e9fb-cbad-815e"
      }
     ],
     "next": "711858ca-6f17-11ee-89fa-0242ac120005-5-333f-0817-f40c-34ea-9692",
     "previous": "71185870-6f17-11ee-89fa-0242ac120005-5-e1e9-e9fb-cbad-815e-6b26"
    }
   },
   "source": [
    "## AnsibleのInventoryファイルを作業用ディレクトリへ作成する"
   ]
  },
  {
   "cell_type": "code",
   "execution_count": null,
   "metadata": {
    "lc_cell_meme": {
     "current": "711858ca-6f17-11ee-89fa-0242ac120005-5-333f-0817-f40c-34ea-9692",
     "history": [
      {
       "current": "711858ca-6f17-11ee-89fa-0242ac120005-1-333f",
       "next": "711858f2-6f17-11ee-89fa-0242ac120005",
       "previous": "711858ac-6f17-11ee-89fa-0242ac120005"
      },
      {
       "current": "711858ca-6f17-11ee-89fa-0242ac120005-2-333f-0817",
       "next": "711858f2-6f17-11ee-89fa-0242ac120005-1-01fb",
       "previous": "711858ac-6f17-11ee-89fa-0242ac120005-1-3ba2"
      },
      {
       "current": "711858ca-6f17-11ee-89fa-0242ac120005-3-333f-0817-f40c",
       "next": "711858f2-6f17-11ee-89fa-0242ac120005-2-01fb-c259",
       "previous": "711858ac-6f17-11ee-89fa-0242ac120005-2-3ba2-c7d2"
      },
      {
       "current": "711858ca-6f17-11ee-89fa-0242ac120005-4-333f-0817-f40c-34ea",
       "next": "711858f2-6f17-11ee-89fa-0242ac120005-3-01fb-c259-53d4",
       "previous": "711858ac-6f17-11ee-89fa-0242ac120005-3-3ba2-c7d2-a064"
      },
      {
       "current": "711858ca-6f17-11ee-89fa-0242ac120005-5-333f-0817-f40c-34ea-9692",
       "next": "711858f2-6f17-11ee-89fa-0242ac120005-4-01fb-c259-53d4-f8f2",
       "previous": "711858ac-6f17-11ee-89fa-0242ac120005-4-3ba2-c7d2-a064-8c44"
      }
     ],
     "next": "711858f2-6f17-11ee-89fa-0242ac120005-5-01fb-c259-53d4-f8f2-bf6b",
     "previous": "711858ac-6f17-11ee-89fa-0242ac120005-5-3ba2-c7d2-a064-8c44-b3f4"
    }
   },
   "outputs": [],
   "source": [
    "import os\n",
    "\n",
    "with open( os.path.join(temp_dir, \"hosts\"), 'w') as f:\n",
    "    f.write('''[openstack_ctl]\n",
    "{openstack_cmn}\n",
    "'''.format(openstack_cmn = provisioning_vip))\n",
    "\n",
    "hosts = temp_dir + \"/hosts\"\n",
    "!cat $hosts"
   ]
  },
  {
   "cell_type": "code",
   "execution_count": null,
   "metadata": {
    "lc_cell_meme": {
     "current": "711858f2-6f17-11ee-89fa-0242ac120005-5-01fb-c259-53d4-f8f2-bf6b",
     "history": [
      {
       "current": "711858f2-6f17-11ee-89fa-0242ac120005-1-01fb",
       "next": "71185910-6f17-11ee-89fa-0242ac120005",
       "previous": "711858ca-6f17-11ee-89fa-0242ac120005"
      },
      {
       "current": "711858f2-6f17-11ee-89fa-0242ac120005-2-01fb-c259",
       "next": "71185910-6f17-11ee-89fa-0242ac120005-1-4873",
       "previous": "711858ca-6f17-11ee-89fa-0242ac120005-1-333f"
      },
      {
       "current": "711858f2-6f17-11ee-89fa-0242ac120005-3-01fb-c259-53d4",
       "next": "71185910-6f17-11ee-89fa-0242ac120005-2-4873-7188",
       "previous": "711858ca-6f17-11ee-89fa-0242ac120005-2-333f-0817"
      },
      {
       "current": "711858f2-6f17-11ee-89fa-0242ac120005-4-01fb-c259-53d4-f8f2",
       "next": "71185910-6f17-11ee-89fa-0242ac120005-3-4873-7188-235a",
       "previous": "711858ca-6f17-11ee-89fa-0242ac120005-3-333f-0817-f40c"
      },
      {
       "current": "711858f2-6f17-11ee-89fa-0242ac120005-5-01fb-c259-53d4-f8f2-bf6b",
       "next": "71185910-6f17-11ee-89fa-0242ac120005-4-4873-7188-235a-7511",
       "previous": "711858ca-6f17-11ee-89fa-0242ac120005-4-333f-0817-f40c-34ea"
      }
     ],
     "next": "71185910-6f17-11ee-89fa-0242ac120005-5-4873-7188-235a-7511-dfea",
     "previous": "711858ca-6f17-11ee-89fa-0242ac120005-5-333f-0817-f40c-34ea-9692"
    }
   },
   "outputs": [],
   "source": [
    "%env ANSIBLE_INVENTORY={hosts}"
   ]
  },
  {
   "cell_type": "markdown",
   "metadata": {
    "lc_cell_meme": {
     "current": "71185910-6f17-11ee-89fa-0242ac120005-5-4873-7188-235a-7511-dfea",
     "history": [
      {
       "current": "71185910-6f17-11ee-89fa-0242ac120005-1-4873",
       "next": "7118592e-6f17-11ee-89fa-0242ac120005",
       "previous": "711858f2-6f17-11ee-89fa-0242ac120005"
      },
      {
       "current": "71185910-6f17-11ee-89fa-0242ac120005-2-4873-7188",
       "next": "7118592e-6f17-11ee-89fa-0242ac120005-1-fb92",
       "previous": "711858f2-6f17-11ee-89fa-0242ac120005-1-01fb"
      },
      {
       "current": "71185910-6f17-11ee-89fa-0242ac120005-3-4873-7188-235a",
       "next": "7118592e-6f17-11ee-89fa-0242ac120005-2-fb92-b980",
       "previous": "711858f2-6f17-11ee-89fa-0242ac120005-2-01fb-c259"
      },
      {
       "current": "71185910-6f17-11ee-89fa-0242ac120005-4-4873-7188-235a-7511",
       "next": "7118592e-6f17-11ee-89fa-0242ac120005-3-fb92-b980-0890",
       "previous": "711858f2-6f17-11ee-89fa-0242ac120005-3-01fb-c259-53d4"
      },
      {
       "current": "71185910-6f17-11ee-89fa-0242ac120005-5-4873-7188-235a-7511-dfea",
       "next": "7118592e-6f17-11ee-89fa-0242ac120005-4-fb92-b980-0890-64ee",
       "previous": "711858f2-6f17-11ee-89fa-0242ac120005-4-01fb-c259-53d4-f8f2"
      }
     ],
     "next": "7118592e-6f17-11ee-89fa-0242ac120005-5-fb92-b980-0890-64ee-7af0",
     "previous": "711858f2-6f17-11ee-89fa-0242ac120005-5-01fb-c259-53d4-f8f2-bf6b"
    }
   },
   "source": [
    "疎通確認"
   ]
  },
  {
   "cell_type": "code",
   "execution_count": null,
   "metadata": {
    "lc_cell_meme": {
     "current": "7118592e-6f17-11ee-89fa-0242ac120005-5-fb92-b980-0890-64ee-7af0",
     "history": [
      {
       "current": "7118592e-6f17-11ee-89fa-0242ac120005-1-fb92",
       "next": "71185956-6f17-11ee-89fa-0242ac120005",
       "previous": "71185910-6f17-11ee-89fa-0242ac120005"
      },
      {
       "current": "7118592e-6f17-11ee-89fa-0242ac120005-2-fb92-b980",
       "next": "71185956-6f17-11ee-89fa-0242ac120005-1-7364",
       "previous": "71185910-6f17-11ee-89fa-0242ac120005-1-4873"
      },
      {
       "current": "7118592e-6f17-11ee-89fa-0242ac120005-3-fb92-b980-0890",
       "next": "71185956-6f17-11ee-89fa-0242ac120005-2-7364-2659",
       "previous": "71185910-6f17-11ee-89fa-0242ac120005-2-4873-7188"
      },
      {
       "current": "7118592e-6f17-11ee-89fa-0242ac120005-4-fb92-b980-0890-64ee",
       "next": "71185956-6f17-11ee-89fa-0242ac120005-3-7364-2659-7121",
       "previous": "71185910-6f17-11ee-89fa-0242ac120005-3-4873-7188-235a"
      },
      {
       "current": "7118592e-6f17-11ee-89fa-0242ac120005-5-fb92-b980-0890-64ee-7af0",
       "next": "71185956-6f17-11ee-89fa-0242ac120005-4-7364-2659-7121-0998",
       "previous": "71185910-6f17-11ee-89fa-0242ac120005-4-4873-7188-235a-7511"
      }
     ],
     "next": "71185956-6f17-11ee-89fa-0242ac120005-5-7364-2659-7121-0998-0221",
     "previous": "71185910-6f17-11ee-89fa-0242ac120005-5-4873-7188-235a-7511-dfea"
    }
   },
   "outputs": [],
   "source": [
    "!ansible -m ping openstack_ctl"
   ]
  },
  {
   "cell_type": "code",
   "execution_count": null,
   "metadata": {
    "lc_cell_meme": {
     "current": "71185956-6f17-11ee-89fa-0242ac120005-5-7364-2659-7121-0998-0221",
     "history": [
      {
       "current": "71185956-6f17-11ee-89fa-0242ac120005-1-7364",
       "next": "71185974-6f17-11ee-89fa-0242ac120005",
       "previous": "7118592e-6f17-11ee-89fa-0242ac120005"
      },
      {
       "current": "71185956-6f17-11ee-89fa-0242ac120005-2-7364-2659",
       "next": "71185974-6f17-11ee-89fa-0242ac120005-1-2263",
       "previous": "7118592e-6f17-11ee-89fa-0242ac120005-1-fb92"
      },
      {
       "current": "71185956-6f17-11ee-89fa-0242ac120005-3-7364-2659-7121",
       "next": "71185974-6f17-11ee-89fa-0242ac120005-2-2263-b47c",
       "previous": "7118592e-6f17-11ee-89fa-0242ac120005-2-fb92-b980"
      },
      {
       "current": "71185956-6f17-11ee-89fa-0242ac120005-4-7364-2659-7121-0998",
       "next": "71185974-6f17-11ee-89fa-0242ac120005-3-2263-b47c-7079",
       "previous": "7118592e-6f17-11ee-89fa-0242ac120005-3-fb92-b980-0890"
      },
      {
       "current": "71185956-6f17-11ee-89fa-0242ac120005-5-7364-2659-7121-0998-0221",
       "next": "71185974-6f17-11ee-89fa-0242ac120005-4-2263-b47c-7079-caca",
       "previous": "7118592e-6f17-11ee-89fa-0242ac120005-4-fb92-b980-0890-64ee"
      }
     ],
     "next": "71185974-6f17-11ee-89fa-0242ac120005-5-2263-b47c-7079-caca-6e02",
     "previous": "7118592e-6f17-11ee-89fa-0242ac120005-5-fb92-b980-0890-64ee-7af0"
    }
   },
   "outputs": [],
   "source": [
    "!ansible -a 'hostname' openstack_ctl"
   ]
  },
  {
   "cell_type": "markdown",
   "metadata": {
    "lc_cell_meme": {
     "current": "71185974-6f17-11ee-89fa-0242ac120005-5-2263-b47c-7079-caca-6e02",
     "history": [
      {
       "current": "71185974-6f17-11ee-89fa-0242ac120005-1-2263",
       "next": "7118599c-6f17-11ee-89fa-0242ac120005",
       "previous": "71185956-6f17-11ee-89fa-0242ac120005"
      },
      {
       "current": "71185974-6f17-11ee-89fa-0242ac120005-2-2263-b47c",
       "next": "7118599c-6f17-11ee-89fa-0242ac120005-1-80d5",
       "previous": "71185956-6f17-11ee-89fa-0242ac120005-1-7364"
      },
      {
       "current": "71185974-6f17-11ee-89fa-0242ac120005-3-2263-b47c-7079",
       "next": "7118599c-6f17-11ee-89fa-0242ac120005-2-80d5-6acd",
       "previous": "71185956-6f17-11ee-89fa-0242ac120005-2-7364-2659"
      },
      {
       "current": "71185974-6f17-11ee-89fa-0242ac120005-4-2263-b47c-7079-caca",
       "next": "7118599c-6f17-11ee-89fa-0242ac120005-3-80d5-6acd-bea5",
       "previous": "71185956-6f17-11ee-89fa-0242ac120005-3-7364-2659-7121"
      },
      {
       "current": "71185974-6f17-11ee-89fa-0242ac120005-5-2263-b47c-7079-caca-6e02",
       "next": "7118599c-6f17-11ee-89fa-0242ac120005-4-80d5-6acd-bea5-0994",
       "previous": "71185956-6f17-11ee-89fa-0242ac120005-4-7364-2659-7121-0998"
      }
     ],
     "next": "7118599c-6f17-11ee-89fa-0242ac120005-5-80d5-6acd-bea5-0994-d7d0",
     "previous": "71185956-6f17-11ee-89fa-0242ac120005-5-7364-2659-7121-0998-0221"
    }
   },
   "source": [
    "## OpenStack用OpenRCファイル設定\n",
    "\n",
    "`xxxxxxx`プロジェクト用のOpenRCファイルを事前にダウンロードしておくこと。  "
   ]
  },
  {
   "cell_type": "code",
   "execution_count": null,
   "metadata": {
    "lc_cell_meme": {
     "current": "7118599c-6f17-11ee-89fa-0242ac120005-5-80d5-6acd-bea5-0994-d7d0",
     "history": [
      {
       "current": "7118599c-6f17-11ee-89fa-0242ac120005-1-80d5",
       "next": "711859ba-6f17-11ee-89fa-0242ac120005",
       "previous": "71185974-6f17-11ee-89fa-0242ac120005"
      },
      {
       "current": "7118599c-6f17-11ee-89fa-0242ac120005-2-80d5-6acd",
       "next": "711859ba-6f17-11ee-89fa-0242ac120005-1-6d2f",
       "previous": "71185974-6f17-11ee-89fa-0242ac120005-1-2263"
      },
      {
       "current": "7118599c-6f17-11ee-89fa-0242ac120005-3-80d5-6acd-bea5",
       "next": "711859ba-6f17-11ee-89fa-0242ac120005-2-6d2f-87f9",
       "previous": "71185974-6f17-11ee-89fa-0242ac120005-2-2263-b47c"
      },
      {
       "current": "7118599c-6f17-11ee-89fa-0242ac120005-4-80d5-6acd-bea5-0994",
       "next": "711859ba-6f17-11ee-89fa-0242ac120005-3-6d2f-87f9-e406",
       "previous": "71185974-6f17-11ee-89fa-0242ac120005-3-2263-b47c-7079"
      },
      {
       "current": "7118599c-6f17-11ee-89fa-0242ac120005-5-80d5-6acd-bea5-0994-d7d0",
       "next": "711859ba-6f17-11ee-89fa-0242ac120005-4-6d2f-87f9-e406-a30d",
       "previous": "71185974-6f17-11ee-89fa-0242ac120005-4-2263-b47c-7079-caca"
      }
     ],
     "next": "711859ba-6f17-11ee-89fa-0242ac120005-5-6d2f-87f9-e406-a30d-eea2",
     "previous": "71185974-6f17-11ee-89fa-0242ac120005-5-2263-b47c-7079-caca-6e02"
    }
   },
   "outputs": [],
   "source": [
    "import os\n",
    "\n",
    "user_creds = os.path.expanduser('~/.keys/xxxxxxx-openrc.sh')\n",
    "\n",
    "assert os.path.exists(user_creds), '{} is not exist'.format(user_creds)"
   ]
  },
  {
   "cell_type": "code",
   "execution_count": null,
   "metadata": {
    "lc_cell_meme": {
     "current": "711859ba-6f17-11ee-89fa-0242ac120005-5-6d2f-87f9-e406-a30d-eea2",
     "history": [
      {
       "current": "711859ba-6f17-11ee-89fa-0242ac120005-1-6d2f",
       "next": "711859d8-6f17-11ee-89fa-0242ac120005",
       "previous": "7118599c-6f17-11ee-89fa-0242ac120005"
      },
      {
       "current": "711859ba-6f17-11ee-89fa-0242ac120005-2-6d2f-87f9",
       "next": "711859d8-6f17-11ee-89fa-0242ac120005-1-5355",
       "previous": "7118599c-6f17-11ee-89fa-0242ac120005-1-80d5"
      },
      {
       "current": "711859ba-6f17-11ee-89fa-0242ac120005-3-6d2f-87f9-e406",
       "next": "711859d8-6f17-11ee-89fa-0242ac120005-2-5355-2c39",
       "previous": "7118599c-6f17-11ee-89fa-0242ac120005-2-80d5-6acd"
      },
      {
       "current": "711859ba-6f17-11ee-89fa-0242ac120005-4-6d2f-87f9-e406-a30d",
       "next": "711859d8-6f17-11ee-89fa-0242ac120005-3-5355-2c39-3360",
       "previous": "7118599c-6f17-11ee-89fa-0242ac120005-3-80d5-6acd-bea5"
      },
      {
       "current": "711859ba-6f17-11ee-89fa-0242ac120005-5-6d2f-87f9-e406-a30d-eea2",
       "next": "711859d8-6f17-11ee-89fa-0242ac120005-4-5355-2c39-3360-2483",
       "previous": "7118599c-6f17-11ee-89fa-0242ac120005-4-80d5-6acd-bea5-0994"
      }
     ],
     "next": "711859d8-6f17-11ee-89fa-0242ac120005-5-5355-2c39-3360-2483-16bc",
     "previous": "7118599c-6f17-11ee-89fa-0242ac120005-5-80d5-6acd-bea5-0994-d7d0"
    }
   },
   "outputs": [],
   "source": [
    "%env USER_CREDS={user_creds}"
   ]
  },
  {
   "cell_type": "code",
   "execution_count": null,
   "metadata": {
    "lc_cell_meme": {
     "current": "711859d8-6f17-11ee-89fa-0242ac120005-5-5355-2c39-3360-2483-16bc",
     "history": [
      {
       "current": "711859d8-6f17-11ee-89fa-0242ac120005",
       "next": "71185a00-6f17-11ee-89fa-0242ac120005",
       "previous": "711859ba-6f17-11ee-89fa-0242ac120005"
      },
      {
       "current": "711859d8-6f17-11ee-89fa-0242ac120005-1-5355",
       "next": "71185a00-6f17-11ee-89fa-0242ac120005-1-468f",
       "previous": "711859ba-6f17-11ee-89fa-0242ac120005"
      },
      {
       "current": "711859d8-6f17-11ee-89fa-0242ac120005-2-5355-2c39",
       "next": "71185a00-6f17-11ee-89fa-0242ac120005-2-468f-4b5d",
       "previous": "711859ba-6f17-11ee-89fa-0242ac120005-1-6d2f"
      },
      {
       "current": "711859d8-6f17-11ee-89fa-0242ac120005-3-5355-2c39-3360",
       "next": "71185a00-6f17-11ee-89fa-0242ac120005-3-468f-4b5d-bd30",
       "previous": "711859ba-6f17-11ee-89fa-0242ac120005-2-6d2f-87f9"
      },
      {
       "current": "711859d8-6f17-11ee-89fa-0242ac120005-4-5355-2c39-3360-2483",
       "next": "71185a00-6f17-11ee-89fa-0242ac120005-4-468f-4b5d-bd30-9b8d",
       "previous": "711859ba-6f17-11ee-89fa-0242ac120005-3-6d2f-87f9-e406"
      },
      {
       "current": "711859d8-6f17-11ee-89fa-0242ac120005-5-5355-2c39-3360-2483-16bc",
       "next": "71185a00-6f17-11ee-89fa-0242ac120005-5-468f-4b5d-bd30-9b8d-71f5",
       "previous": "711859ba-6f17-11ee-89fa-0242ac120005-4-6d2f-87f9-e406-a30d"
      }
     ],
     "next": "71185a00-6f17-11ee-89fa-0242ac120005-6-468f-4b5d-bd30-9b8d-71f5-b68e",
     "previous": "711859ba-6f17-11ee-89fa-0242ac120005-5-6d2f-87f9-e406-a30d-eea2"
    }
   },
   "outputs": [],
   "source": [
    "!ls -l {user_creds}"
   ]
  },
  {
   "cell_type": "markdown",
   "metadata": {
    "heading_collapsed": true,
    "lc_cell_meme": {
     "current": "71185a00-6f17-11ee-89fa-0242ac120005-6-468f-4b5d-bd30-9b8d-71f5-b68e",
     "history": [
      {
       "current": "71185a00-6f17-11ee-89fa-0242ac120005-2-468f-4b5d",
       "next": "71185a1e-6f17-11ee-89fa-0242ac120005",
       "previous": "711859d8-6f17-11ee-89fa-0242ac120005"
      },
      {
       "current": "71185a00-6f17-11ee-89fa-0242ac120005-3-468f-4b5d-bd30",
       "next": "71185a1e-6f17-11ee-89fa-0242ac120005-1-5d3f",
       "previous": "711859d8-6f17-11ee-89fa-0242ac120005-1-5355"
      },
      {
       "current": "71185a00-6f17-11ee-89fa-0242ac120005-4-468f-4b5d-bd30-9b8d",
       "next": "71185a1e-6f17-11ee-89fa-0242ac120005-2-5d3f-dac6",
       "previous": "711859d8-6f17-11ee-89fa-0242ac120005-2-5355-2c39"
      },
      {
       "current": "71185a00-6f17-11ee-89fa-0242ac120005-5-468f-4b5d-bd30-9b8d-71f5",
       "next": "71185a1e-6f17-11ee-89fa-0242ac120005-3-5d3f-dac6-d04c",
       "previous": "711859d8-6f17-11ee-89fa-0242ac120005-3-5355-2c39-3360"
      },
      {
       "current": "71185a00-6f17-11ee-89fa-0242ac120005-6-468f-4b5d-bd30-9b8d-71f5-b68e",
       "next": "71185a1e-6f17-11ee-89fa-0242ac120005-4-5d3f-dac6-d04c-831d",
       "previous": "711859d8-6f17-11ee-89fa-0242ac120005-4-5355-2c39-3360-2483"
      }
     ],
     "next": "71185a1e-6f17-11ee-89fa-0242ac120005-5-5d3f-dac6-d04c-831d-5666",
     "previous": "711859d8-6f17-11ee-89fa-0242ac120005-5-5355-2c39-3360-2483-16bc"
    }
   },
   "source": [
    "## openstackコマンド用ユーティリティ関数"
   ]
  },
  {
   "cell_type": "code",
   "execution_count": null,
   "metadata": {
    "hidden": true,
    "lc_cell_meme": {
     "current": "71185a1e-6f17-11ee-89fa-0242ac120005-5-5d3f-dac6-d04c-831d-5666",
     "history": [
      {
       "current": "71185a1e-6f17-11ee-89fa-0242ac120005",
       "next": "71185a3c-6f17-11ee-89fa-0242ac120005",
       "previous": "71185a00-6f17-11ee-89fa-0242ac120005"
      },
      {
       "current": "71185a1e-6f17-11ee-89fa-0242ac120005-1-5d3f",
       "next": "b8a5691c-6f17-11ee-89fa-0242ac120005",
       "previous": "71185a00-6f17-11ee-89fa-0242ac120005-1-468f"
      },
      {
       "current": "71185a1e-6f17-11ee-89fa-0242ac120005-2-5d3f-dac6",
       "next": "b8a5691c-6f17-11ee-89fa-0242ac120005-1-f253",
       "previous": "71185a00-6f17-11ee-89fa-0242ac120005-2-468f-4b5d"
      },
      {
       "current": "71185a1e-6f17-11ee-89fa-0242ac120005-3-5d3f-dac6-d04c",
       "next": "b8a5691c-6f17-11ee-89fa-0242ac120005-2-f253-d213",
       "previous": "71185a00-6f17-11ee-89fa-0242ac120005-3-468f-4b5d-bd30"
      },
      {
       "current": "71185a1e-6f17-11ee-89fa-0242ac120005-4-5d3f-dac6-d04c-831d",
       "next": "b8a5691c-6f17-11ee-89fa-0242ac120005-3-f253-d213-21aa",
       "previous": "71185a00-6f17-11ee-89fa-0242ac120005-4-468f-4b5d-bd30-9b8d"
      },
      {
       "current": "71185a1e-6f17-11ee-89fa-0242ac120005-5-5d3f-dac6-d04c-831d-5666",
       "next": "b8a5691c-6f17-11ee-89fa-0242ac120005-4-f253-d213-21aa-7341",
       "previous": "71185a00-6f17-11ee-89fa-0242ac120005-5-468f-4b5d-bd30-9b8d-71f5"
      }
     ],
     "next": "b8a5691c-6f17-11ee-89fa-0242ac120005-5-f253-d213-21aa-7341-1601",
     "previous": "71185a00-6f17-11ee-89fa-0242ac120005-6-468f-4b5d-bd30-9b8d-71f5-b68e"
    }
   },
   "outputs": [],
   "source": [
    "def build_cmdline(param):\n",
    "    cmdline = ''\n",
    "    \n",
    "    for param_name, param_value in param.items():\n",
    "        if isinstance(param_value, dict):\n",
    "            for key, value in param_value.items():\n",
    "                cmdline += ' --{} {}={}'.format(param_name, key, value)\n",
    "        elif isinstance(param_value, list):\n",
    "            for item in param_value:\n",
    "                cmdline += ' --{} {}'.format(param_name, item)\n",
    "        elif isinstance(param_value, bool):\n",
    "            if param_value:\n",
    "                cmdline += ' --{}'.format(param_name)\n",
    "        else:\n",
    "            cmdline += ' --{} {}'.format(param_name, param_value)\n",
    "\n",
    "    return cmdline"
   ]
  },
  {
   "cell_type": "code",
   "execution_count": null,
   "metadata": {
    "hidden": true,
    "lc_cell_meme": {
     "current": "b8a5691c-6f17-11ee-89fa-0242ac120005-5-f253-d213-21aa-7341-1601",
     "history": [
      {
       "current": "b8a5691c-6f17-11ee-89fa-0242ac120005-1-f253",
       "next": "b8a56a7a-6f17-11ee-89fa-0242ac120005",
       "previous": "71185a1e-6f17-11ee-89fa-0242ac120005"
      },
      {
       "current": "b8a5691c-6f17-11ee-89fa-0242ac120005-2-f253-d213",
       "next": "b8a56a7a-6f17-11ee-89fa-0242ac120005-1-a80e",
       "previous": "71185a1e-6f17-11ee-89fa-0242ac120005-1-5d3f"
      },
      {
       "current": "b8a5691c-6f17-11ee-89fa-0242ac120005-3-f253-d213-21aa",
       "next": "b8a56a7a-6f17-11ee-89fa-0242ac120005-2-a80e-b648",
       "previous": "71185a1e-6f17-11ee-89fa-0242ac120005-2-5d3f-dac6"
      },
      {
       "current": "b8a5691c-6f17-11ee-89fa-0242ac120005-4-f253-d213-21aa-7341",
       "next": "b8a56a7a-6f17-11ee-89fa-0242ac120005-3-a80e-b648-4f81",
       "previous": "71185a1e-6f17-11ee-89fa-0242ac120005-3-5d3f-dac6-d04c"
      },
      {
       "current": "b8a5691c-6f17-11ee-89fa-0242ac120005-5-f253-d213-21aa-7341-1601",
       "next": "b8a56a7a-6f17-11ee-89fa-0242ac120005-4-a80e-b648-4f81-e2c2",
       "previous": "71185a1e-6f17-11ee-89fa-0242ac120005-4-5d3f-dac6-d04c-831d"
      }
     ],
     "next": "b8a56a7a-6f17-11ee-89fa-0242ac120005-5-a80e-b648-4f81-e2c2-1f03",
     "previous": "71185a1e-6f17-11ee-89fa-0242ac120005-5-5d3f-dac6-d04c-831d-5666"
    }
   },
   "outputs": [],
   "source": [
    "import json\n",
    "\n",
    "def run_openstack(cmd):\n",
    "    print('EXEC: {}'.format(cmd))\n",
    "    out = !source {user_creds} && {cmd}\n",
    "    print('OUTPUT: {}'.format('\\n'.join(out)))\n",
    "    return json.loads('\\n'.join(out))"
   ]
  },
  {
   "cell_type": "markdown",
   "metadata": {
    "hidden": true,
    "lc_cell_meme": {
     "current": "b8a56a7a-6f17-11ee-89fa-0242ac120005-5-a80e-b648-4f81-e2c2-1f03",
     "history": [
      {
       "current": "b8a56a7a-6f17-11ee-89fa-0242ac120005-1-a80e",
       "next": "b8a56afc-6f17-11ee-89fa-0242ac120005",
       "previous": "b8a5691c-6f17-11ee-89fa-0242ac120005"
      },
      {
       "current": "b8a56a7a-6f17-11ee-89fa-0242ac120005-2-a80e-b648",
       "next": "b8a56afc-6f17-11ee-89fa-0242ac120005-1-24c4",
       "previous": "b8a5691c-6f17-11ee-89fa-0242ac120005-1-f253"
      },
      {
       "current": "b8a56a7a-6f17-11ee-89fa-0242ac120005-3-a80e-b648-4f81",
       "next": "b8a56afc-6f17-11ee-89fa-0242ac120005-2-24c4-98bb",
       "previous": "b8a5691c-6f17-11ee-89fa-0242ac120005-2-f253-d213"
      },
      {
       "current": "b8a56a7a-6f17-11ee-89fa-0242ac120005-4-a80e-b648-4f81-e2c2",
       "next": "b8a56afc-6f17-11ee-89fa-0242ac120005-3-24c4-98bb-7122",
       "previous": "b8a5691c-6f17-11ee-89fa-0242ac120005-3-f253-d213-21aa"
      },
      {
       "current": "b8a56a7a-6f17-11ee-89fa-0242ac120005-5-a80e-b648-4f81-e2c2-1f03",
       "next": "b8a56afc-6f17-11ee-89fa-0242ac120005-4-24c4-98bb-7122-8115",
       "previous": "b8a5691c-6f17-11ee-89fa-0242ac120005-4-f253-d213-21aa-7341"
      }
     ],
     "next": "b8a56afc-6f17-11ee-89fa-0242ac120005-5-24c4-98bb-7122-8115-7970",
     "previous": "b8a5691c-6f17-11ee-89fa-0242ac120005-5-f253-d213-21aa-7341-1601"
    }
   },
   "source": [
    "テスト"
   ]
  },
  {
   "cell_type": "code",
   "execution_count": null,
   "metadata": {
    "hidden": true,
    "lc_cell_meme": {
     "current": "b8a56afc-6f17-11ee-89fa-0242ac120005-5-24c4-98bb-7122-8115-7970",
     "history": [
      {
       "current": "b8a56afc-6f17-11ee-89fa-0242ac120005-1-24c4",
       "next": "06afe9a8-98b0-11ea-8d02-0242ac120007-3-a1c1-faf0-55bd",
       "previous": "b8a56a7a-6f17-11ee-89fa-0242ac120005"
      },
      {
       "current": "b8a56afc-6f17-11ee-89fa-0242ac120005-2-24c4-98bb",
       "next": "06afe9a8-98b0-11ea-8d02-0242ac120007-4-a1c1-faf0-55bd-b09c",
       "previous": "b8a56a7a-6f17-11ee-89fa-0242ac120005-1-a80e"
      },
      {
       "current": "b8a56afc-6f17-11ee-89fa-0242ac120005-3-24c4-98bb-7122",
       "next": "06afe9a8-98b0-11ea-8d02-0242ac120007-5-a1c1-faf0-55bd-b09c-6712",
       "previous": "b8a56a7a-6f17-11ee-89fa-0242ac120005-2-a80e-b648"
      },
      {
       "current": "b8a56afc-6f17-11ee-89fa-0242ac120005-4-24c4-98bb-7122-8115",
       "next": "06afe9a8-98b0-11ea-8d02-0242ac120007-6-a1c1-faf0-55bd-b09c-6712-429c",
       "previous": "b8a56a7a-6f17-11ee-89fa-0242ac120005-3-a80e-b648-4f81"
      },
      {
       "current": "b8a56afc-6f17-11ee-89fa-0242ac120005-5-24c4-98bb-7122-8115-7970",
       "next": "06afe9a8-98b0-11ea-8d02-0242ac120007-7-a1c1-faf0-55bd-b09c-6712-429c-a1a4",
       "previous": "b8a56a7a-6f17-11ee-89fa-0242ac120005-4-a80e-b648-4f81-e2c2"
      }
     ],
     "next": "06afe9a8-98b0-11ea-8d02-0242ac120007-8-a1c1-faf0-55bd-b09c-6712-429c-a1a4-acba",
     "previous": "b8a56a7a-6f17-11ee-89fa-0242ac120005-5-a80e-b648-4f81-e2c2-1f03"
    }
   },
   "outputs": [],
   "source": [
    "run_openstack('openstack flavor list -f json' + build_cmdline({'all': True}))"
   ]
  },
  {
   "cell_type": "markdown",
   "metadata": {
    "lc_cell_meme": {
     "current": "06afe9a8-98b0-11ea-8d02-0242ac120007-8-a1c1-faf0-55bd-b09c-6712-429c-a1a4-acba",
     "history": [
      {
       "current": "06afe9a8-98b0-11ea-8d02-0242ac120007",
       "next": "7899411a-9692-11ea-8d02-0242ac120007",
       "previous": "d1bcb8ac-9599-11ea-8d02-0242ac120007"
      },
      {
       "current": "06afe9a8-98b0-11ea-8d02-0242ac120007-1-a1c1",
       "next": "7899411a-9692-11ea-8d02-0242ac120007",
       "previous": "250e7a70-98f3-11ea-8d02-0242ac120007"
      },
      {
       "current": "06afe9a8-98b0-11ea-8d02-0242ac120007-2-a1c1-faf0",
       "next": "7899411a-9692-11ea-8d02-0242ac120007-1-2cd2",
       "previous": "250e7a70-98f3-11ea-8d02-0242ac120007-1-f0b4"
      },
      {
       "current": "06afe9a8-98b0-11ea-8d02-0242ac120007-2-a1c1-faf0",
       "next": "7899411a-9692-11ea-8d02-0242ac120007-2-2cd2-395d",
       "previous": "250e7a70-98f3-11ea-8d02-0242ac120007-2-f0b4-6edf"
      },
      {
       "current": "06afe9a8-98b0-11ea-8d02-0242ac120007-2-a1c1-faf0",
       "next": "04bfc54e-defc-11eb-b29f-0242ac120008",
       "previous": "250e7a70-98f3-11ea-8d02-0242ac120007-2-f0b4-6edf"
      },
      {
       "current": "06afe9a8-98b0-11ea-8d02-0242ac120007-3-a1c1-faf0-55bd",
       "next": "329a4046-dfad-11eb-b29f-0242ac120008",
       "previous": "250e7a70-98f3-11ea-8d02-0242ac120007-2-f0b4-6edf"
      },
      {
       "current": "06afe9a8-98b0-11ea-8d02-0242ac120007-3-a1c1-faf0-55bd",
       "next": "329a4046-dfad-11eb-b29f-0242ac120008-1-1375",
       "previous": "250e7a70-98f3-11ea-8d02-0242ac120007-3-f0b4-6edf-9d40"
      },
      {
       "current": "06afe9a8-98b0-11ea-8d02-0242ac120007-3-a1c1-faf0-55bd",
       "next": "329a4046-dfad-11eb-b29f-0242ac120008-1-1375",
       "previous": "71185a3c-6f17-11ee-89fa-0242ac120005"
      },
      {
       "current": "06afe9a8-98b0-11ea-8d02-0242ac120007-4-a1c1-faf0-55bd-b09c",
       "next": "329a4046-dfad-11eb-b29f-0242ac120008-1-1375",
       "previous": "b8a56afc-6f17-11ee-89fa-0242ac120005"
      },
      {
       "current": "06afe9a8-98b0-11ea-8d02-0242ac120007-5-a1c1-faf0-55bd-b09c-6712",
       "next": "329a4046-dfad-11eb-b29f-0242ac120008-2-1375-2ef9",
       "previous": "b8a56afc-6f17-11ee-89fa-0242ac120005-1-24c4"
      },
      {
       "current": "06afe9a8-98b0-11ea-8d02-0242ac120007-6-a1c1-faf0-55bd-b09c-6712-429c",
       "next": "329a4046-dfad-11eb-b29f-0242ac120008-3-1375-2ef9-e27a",
       "previous": "b8a56afc-6f17-11ee-89fa-0242ac120005-2-24c4-98bb"
      },
      {
       "current": "06afe9a8-98b0-11ea-8d02-0242ac120007-7-a1c1-faf0-55bd-b09c-6712-429c-a1a4",
       "next": "329a4046-dfad-11eb-b29f-0242ac120008-4-1375-2ef9-e27a-480b",
       "previous": "b8a56afc-6f17-11ee-89fa-0242ac120005-3-24c4-98bb-7122"
      },
      {
       "current": "06afe9a8-98b0-11ea-8d02-0242ac120007-8-a1c1-faf0-55bd-b09c-6712-429c-a1a4-acba",
       "next": "329a4046-dfad-11eb-b29f-0242ac120008-5-1375-2ef9-e27a-480b-379c",
       "previous": "b8a56afc-6f17-11ee-89fa-0242ac120005-4-24c4-98bb-7122-8115"
      }
     ],
     "next": "329a4046-dfad-11eb-b29f-0242ac120008-6-1375-2ef9-e27a-480b-379c-4877",
     "previous": "b8a56afc-6f17-11ee-89fa-0242ac120005-5-24c4-98bb-7122-8115-7970"
    }
   },
   "source": [
    "## デプロイされたCephノード情報の取得"
   ]
  },
  {
   "cell_type": "markdown",
   "metadata": {
    "lc_cell_meme": {
     "current": "329a4046-dfad-11eb-b29f-0242ac120008-6-1375-2ef9-e27a-480b-379c-4877",
     "history": [
      {
       "current": "329a4046-dfad-11eb-b29f-0242ac120008-1-1375",
       "next": "329a4348-dfad-11eb-b29f-0242ac120008",
       "previous": "06afe9a8-98b0-11ea-8d02-0242ac120007-2-a1c1-faf0"
      },
      {
       "current": "329a4046-dfad-11eb-b29f-0242ac120008-1-1375",
       "next": "329a4348-dfad-11eb-b29f-0242ac120008-1-ed21",
       "previous": "06afe9a8-98b0-11ea-8d02-0242ac120007-3-a1c1-faf0-55bd"
      },
      {
       "current": "329a4046-dfad-11eb-b29f-0242ac120008-2-1375-2ef9",
       "next": "b8a56c28-6f17-11ee-89fa-0242ac120005",
       "previous": "06afe9a8-98b0-11ea-8d02-0242ac120007-3-a1c1-faf0-55bd"
      },
      {
       "current": "329a4046-dfad-11eb-b29f-0242ac120008-3-1375-2ef9-e27a",
       "next": "b8a56c28-6f17-11ee-89fa-0242ac120005-1-62fd",
       "previous": "06afe9a8-98b0-11ea-8d02-0242ac120007-4-a1c1-faf0-55bd-b09c"
      },
      {
       "current": "329a4046-dfad-11eb-b29f-0242ac120008-4-1375-2ef9-e27a-480b",
       "next": "b8a56c28-6f17-11ee-89fa-0242ac120005-2-62fd-a27d",
       "previous": "06afe9a8-98b0-11ea-8d02-0242ac120007-5-a1c1-faf0-55bd-b09c-6712"
      },
      {
       "current": "329a4046-dfad-11eb-b29f-0242ac120008-5-1375-2ef9-e27a-480b-379c",
       "next": "b8a56c28-6f17-11ee-89fa-0242ac120005-3-62fd-a27d-3077",
       "previous": "06afe9a8-98b0-11ea-8d02-0242ac120007-6-a1c1-faf0-55bd-b09c-6712-429c"
      },
      {
       "current": "329a4046-dfad-11eb-b29f-0242ac120008-6-1375-2ef9-e27a-480b-379c-4877",
       "next": "b8a56c28-6f17-11ee-89fa-0242ac120005-4-62fd-a27d-3077-5a95",
       "previous": "06afe9a8-98b0-11ea-8d02-0242ac120007-7-a1c1-faf0-55bd-b09c-6712-429c-a1a4"
      }
     ],
     "next": "b8a56c28-6f17-11ee-89fa-0242ac120005-5-62fd-a27d-3077-5a95-9b3d",
     "previous": "06afe9a8-98b0-11ea-8d02-0242ac120007-8-a1c1-faf0-55bd-b09c-6712-429c-a1a4-acba"
    }
   },
   "source": [
    "ストレージノードを特定するにあたり、ノード名称が　ceph-nodexxx （xxxの部分は、右寄せ0埋めの数字3桁）というルールに従っていることを前提としている。<br>\n",
    " 例：ceph-node001<br>\n",
    " このノード名称ルールは、構築するCephクラスタ毎に変えるため、以下で定義する。"
   ]
  },
  {
   "cell_type": "code",
   "execution_count": null,
   "metadata": {
    "lc_cell_meme": {
     "current": "b8a56c28-6f17-11ee-89fa-0242ac120005-5-62fd-a27d-3077-5a95-9b3d",
     "history": [
      {
       "current": "b8a56c28-6f17-11ee-89fa-0242ac120005-1-62fd",
       "next": "329a4348-dfad-11eb-b29f-0242ac120008-1-ed21",
       "previous": "329a4046-dfad-11eb-b29f-0242ac120008-1-1375"
      },
      {
       "current": "b8a56c28-6f17-11ee-89fa-0242ac120005-2-62fd-a27d",
       "next": "329a4348-dfad-11eb-b29f-0242ac120008-2-ed21-d08b",
       "previous": "329a4046-dfad-11eb-b29f-0242ac120008-2-1375-2ef9"
      },
      {
       "current": "b8a56c28-6f17-11ee-89fa-0242ac120005-3-62fd-a27d-3077",
       "next": "329a4348-dfad-11eb-b29f-0242ac120008-3-ed21-d08b-763d",
       "previous": "329a4046-dfad-11eb-b29f-0242ac120008-3-1375-2ef9-e27a"
      },
      {
       "current": "b8a56c28-6f17-11ee-89fa-0242ac120005-4-62fd-a27d-3077-5a95",
       "next": "329a4348-dfad-11eb-b29f-0242ac120008-4-ed21-d08b-763d-fa8c",
       "previous": "329a4046-dfad-11eb-b29f-0242ac120008-4-1375-2ef9-e27a-480b"
      },
      {
       "current": "b8a56c28-6f17-11ee-89fa-0242ac120005-5-62fd-a27d-3077-5a95-9b3d",
       "next": "329a4348-dfad-11eb-b29f-0242ac120008-5-ed21-d08b-763d-fa8c-265a",
       "previous": "329a4046-dfad-11eb-b29f-0242ac120008-5-1375-2ef9-e27a-480b-379c"
      }
     ],
     "next": "329a4348-dfad-11eb-b29f-0242ac120008-6-ed21-d08b-763d-fa8c-265a-c79f",
     "previous": "329a4046-dfad-11eb-b29f-0242ac120008-6-1375-2ef9-e27a-480b-379c-4877"
    }
   },
   "outputs": [],
   "source": [
    "# 初期化対象のインスタンス名称を設定する\n",
    "raise Exception('この先手作業が必要です')"
   ]
  },
  {
   "cell_type": "code",
   "execution_count": null,
   "metadata": {
    "lc_cell_meme": {
     "current": "329a4348-dfad-11eb-b29f-0242ac120008-6-ed21-d08b-763d-fa8c-265a-c79f",
     "history": [
      {
       "current": "329a4348-dfad-11eb-b29f-0242ac120008-1-ed21",
       "next": "04bfc54e-defc-11eb-b29f-0242ac120008",
       "previous": "329a4046-dfad-11eb-b29f-0242ac120008"
      },
      {
       "current": "329a4348-dfad-11eb-b29f-0242ac120008-1-ed21",
       "next": "04bfc54e-defc-11eb-b29f-0242ac120008-1-5336",
       "previous": "329a4046-dfad-11eb-b29f-0242ac120008-1-1375"
      },
      {
       "current": "329a4348-dfad-11eb-b29f-0242ac120008-2-ed21-d08b",
       "next": "b8a56c96-6f17-11ee-89fa-0242ac120005",
       "previous": "b8a56c28-6f17-11ee-89fa-0242ac120005"
      },
      {
       "current": "329a4348-dfad-11eb-b29f-0242ac120008-3-ed21-d08b-763d",
       "next": "b8a56c96-6f17-11ee-89fa-0242ac120005-1-e493",
       "previous": "b8a56c28-6f17-11ee-89fa-0242ac120005-1-62fd"
      },
      {
       "current": "329a4348-dfad-11eb-b29f-0242ac120008-4-ed21-d08b-763d-fa8c",
       "next": "b8a56c96-6f17-11ee-89fa-0242ac120005-2-e493-a2d3",
       "previous": "b8a56c28-6f17-11ee-89fa-0242ac120005-2-62fd-a27d"
      },
      {
       "current": "329a4348-dfad-11eb-b29f-0242ac120008-5-ed21-d08b-763d-fa8c-265a",
       "next": "b8a56c96-6f17-11ee-89fa-0242ac120005-3-e493-a2d3-cb35",
       "previous": "b8a56c28-6f17-11ee-89fa-0242ac120005-3-62fd-a27d-3077"
      },
      {
       "current": "329a4348-dfad-11eb-b29f-0242ac120008-6-ed21-d08b-763d-fa8c-265a-c79f",
       "next": "b8a56c96-6f17-11ee-89fa-0242ac120005-4-e493-a2d3-cb35-809b",
       "previous": "b8a56c28-6f17-11ee-89fa-0242ac120005-4-62fd-a27d-3077-5a95"
      }
     ],
     "next": "b8a56c96-6f17-11ee-89fa-0242ac120005-5-e493-a2d3-cb35-809b-6bfd",
     "previous": "b8a56c28-6f17-11ee-89fa-0242ac120005-5-62fd-a27d-3077-5a95-9b3d"
    }
   },
   "outputs": [],
   "source": [
    "import pandas as pd\n",
    "import re\n",
    "\n",
    "# 対象インスタンス名称マッチングルール\n",
    "name_match_rule = r'ceph-xxx-node-[0-9]+'"
   ]
  },
  {
   "cell_type": "markdown",
   "metadata": {
    "heading_collapsed": true,
    "lc_cell_meme": {
     "current": "b8a56c96-6f17-11ee-89fa-0242ac120005-5-e493-a2d3-cb35-809b-6bfd",
     "history": [
      {
       "current": "b8a56c96-6f17-11ee-89fa-0242ac120005-1-e493",
       "next": "b8a56cf0-6f17-11ee-89fa-0242ac120005",
       "previous": "329a4348-dfad-11eb-b29f-0242ac120008-1-ed21"
      },
      {
       "current": "b8a56c96-6f17-11ee-89fa-0242ac120005-2-e493-a2d3",
       "next": "b8a56cf0-6f17-11ee-89fa-0242ac120005-1-4af7",
       "previous": "329a4348-dfad-11eb-b29f-0242ac120008-2-ed21-d08b"
      },
      {
       "current": "b8a56c96-6f17-11ee-89fa-0242ac120005-3-e493-a2d3-cb35",
       "next": "b8a56cf0-6f17-11ee-89fa-0242ac120005-2-4af7-5761",
       "previous": "329a4348-dfad-11eb-b29f-0242ac120008-3-ed21-d08b-763d"
      },
      {
       "current": "b8a56c96-6f17-11ee-89fa-0242ac120005-4-e493-a2d3-cb35-809b",
       "next": "b8a56cf0-6f17-11ee-89fa-0242ac120005-3-4af7-5761-7fff",
       "previous": "329a4348-dfad-11eb-b29f-0242ac120008-4-ed21-d08b-763d-fa8c"
      },
      {
       "current": "b8a56c96-6f17-11ee-89fa-0242ac120005-5-e493-a2d3-cb35-809b-6bfd",
       "next": "b8a56cf0-6f17-11ee-89fa-0242ac120005-4-4af7-5761-7fff-e796",
       "previous": "329a4348-dfad-11eb-b29f-0242ac120008-5-ed21-d08b-763d-fa8c-265a"
      }
     ],
     "next": "b8a56cf0-6f17-11ee-89fa-0242ac120005-5-4af7-5761-7fff-e796-42b2",
     "previous": "329a4348-dfad-11eb-b29f-0242ac120008-6-ed21-d08b-763d-fa8c-265a-c79f"
    }
   },
   "source": [
    "## OpenStack Ironicからノード情報の取得"
   ]
  },
  {
   "cell_type": "code",
   "execution_count": null,
   "metadata": {
    "hidden": true,
    "lc_cell_meme": {
     "current": "b8a56cf0-6f17-11ee-89fa-0242ac120005-5-4af7-5761-7fff-e796-42b2",
     "history": [
      {
       "current": "b8a56cf0-6f17-11ee-89fa-0242ac120005-1-4af7",
       "next": "b8a56d54-6f17-11ee-89fa-0242ac120005",
       "previous": "b8a56c96-6f17-11ee-89fa-0242ac120005"
      },
      {
       "current": "b8a56cf0-6f17-11ee-89fa-0242ac120005-2-4af7-5761",
       "next": "b8a56d54-6f17-11ee-89fa-0242ac120005-1-4386",
       "previous": "b8a56c96-6f17-11ee-89fa-0242ac120005-1-e493"
      },
      {
       "current": "b8a56cf0-6f17-11ee-89fa-0242ac120005-3-4af7-5761-7fff",
       "next": "b8a56d54-6f17-11ee-89fa-0242ac120005-2-4386-a860",
       "previous": "b8a56c96-6f17-11ee-89fa-0242ac120005-2-e493-a2d3"
      },
      {
       "current": "b8a56cf0-6f17-11ee-89fa-0242ac120005-4-4af7-5761-7fff-e796",
       "next": "b8a56d54-6f17-11ee-89fa-0242ac120005-3-4386-a860-7f37",
       "previous": "b8a56c96-6f17-11ee-89fa-0242ac120005-3-e493-a2d3-cb35"
      },
      {
       "current": "b8a56cf0-6f17-11ee-89fa-0242ac120005-5-4af7-5761-7fff-e796-42b2",
       "next": "b8a56d54-6f17-11ee-89fa-0242ac120005-4-4386-a860-7f37-134c",
       "previous": "b8a56c96-6f17-11ee-89fa-0242ac120005-4-e493-a2d3-cb35-809b"
      }
     ],
     "next": "b8a56d54-6f17-11ee-89fa-0242ac120005-5-4386-a860-7f37-134c-8b53",
     "previous": "b8a56c96-6f17-11ee-89fa-0242ac120005-5-e493-a2d3-cb35-809b-6bfd"
    }
   },
   "outputs": [],
   "source": [
    "cmd = \"openstack baremetal node list -f json --long\"\n",
    "nodes = run_openstack(cmd)"
   ]
  },
  {
   "cell_type": "code",
   "execution_count": null,
   "metadata": {
    "hidden": true,
    "lc_cell_meme": {
     "current": "b8a56d54-6f17-11ee-89fa-0242ac120005-5-4386-a860-7f37-134c-8b53",
     "history": [
      {
       "current": "b8a56d54-6f17-11ee-89fa-0242ac120005-1-4386",
       "next": "b8a56dae-6f17-11ee-89fa-0242ac120005",
       "previous": "b8a56cf0-6f17-11ee-89fa-0242ac120005"
      },
      {
       "current": "b8a56d54-6f17-11ee-89fa-0242ac120005-2-4386-a860",
       "next": "b8a56dae-6f17-11ee-89fa-0242ac120005-1-8ec6",
       "previous": "b8a56cf0-6f17-11ee-89fa-0242ac120005-1-4af7"
      },
      {
       "current": "b8a56d54-6f17-11ee-89fa-0242ac120005-3-4386-a860-7f37",
       "next": "b8a56dae-6f17-11ee-89fa-0242ac120005-2-8ec6-7de4",
       "previous": "b8a56cf0-6f17-11ee-89fa-0242ac120005-2-4af7-5761"
      },
      {
       "current": "b8a56d54-6f17-11ee-89fa-0242ac120005-4-4386-a860-7f37-134c",
       "next": "b8a56dae-6f17-11ee-89fa-0242ac120005-3-8ec6-7de4-56b6",
       "previous": "b8a56cf0-6f17-11ee-89fa-0242ac120005-3-4af7-5761-7fff"
      },
      {
       "current": "b8a56d54-6f17-11ee-89fa-0242ac120005-5-4386-a860-7f37-134c-8b53",
       "next": "b8a56dae-6f17-11ee-89fa-0242ac120005-4-8ec6-7de4-56b6-9a61",
       "previous": "b8a56cf0-6f17-11ee-89fa-0242ac120005-4-4af7-5761-7fff-e796"
      }
     ],
     "next": "b8a56dae-6f17-11ee-89fa-0242ac120005-5-8ec6-7de4-56b6-9a61-e642",
     "previous": "b8a56cf0-6f17-11ee-89fa-0242ac120005-5-4af7-5761-7fff-e796-42b2"
    }
   },
   "outputs": [],
   "source": [
    "import pandas as pd\n",
    "import re\n",
    "\n",
    "for node in nodes:\n",
    "    instance_uuid = node.get(\"Instance UUID\", None)\n",
    "    if instance_uuid is None:\n",
    "        continue\n",
    "        \n",
    "    node[\"instance_name\"] = node[\"Instance Info\"][\"display_name\"]\n",
    "\n",
    "pd.set_option('display.max_rows', None)\n",
    "pd.DataFrame(nodes, columns=['Instance UUID', 'instance_name', 'UUID', 'Maintenance', 'Provisioning State', 'Power State', 'Name'])"
   ]
  },
  {
   "cell_type": "code",
   "execution_count": null,
   "metadata": {
    "hidden": true,
    "lc_cell_meme": {
     "current": "b8a56dae-6f17-11ee-89fa-0242ac120005-5-8ec6-7de4-56b6-9a61-e642",
     "history": [
      {
       "current": "b8a56dae-6f17-11ee-89fa-0242ac120005-1-8ec6",
       "next": "b8a56e08-6f17-11ee-89fa-0242ac120005",
       "previous": "b8a56d54-6f17-11ee-89fa-0242ac120005"
      },
      {
       "current": "b8a56dae-6f17-11ee-89fa-0242ac120005-2-8ec6-7de4",
       "next": "b8a56e08-6f17-11ee-89fa-0242ac120005-1-07b3",
       "previous": "b8a56d54-6f17-11ee-89fa-0242ac120005-1-4386"
      },
      {
       "current": "b8a56dae-6f17-11ee-89fa-0242ac120005-3-8ec6-7de4-56b6",
       "next": "b8a56e08-6f17-11ee-89fa-0242ac120005-2-07b3-b61f",
       "previous": "b8a56d54-6f17-11ee-89fa-0242ac120005-2-4386-a860"
      },
      {
       "current": "b8a56dae-6f17-11ee-89fa-0242ac120005-4-8ec6-7de4-56b6-9a61",
       "next": "b8a56e08-6f17-11ee-89fa-0242ac120005-3-07b3-b61f-e725",
       "previous": "b8a56d54-6f17-11ee-89fa-0242ac120005-3-4386-a860-7f37"
      },
      {
       "current": "b8a56dae-6f17-11ee-89fa-0242ac120005-5-8ec6-7de4-56b6-9a61-e642",
       "next": "b8a56e08-6f17-11ee-89fa-0242ac120005-4-07b3-b61f-e725-b332",
       "previous": "b8a56d54-6f17-11ee-89fa-0242ac120005-4-4386-a860-7f37-134c"
      }
     ],
     "next": "b8a56e08-6f17-11ee-89fa-0242ac120005-5-07b3-b61f-e725-b332-0674",
     "previous": "b8a56d54-6f17-11ee-89fa-0242ac120005-5-4386-a860-7f37-134c-8b53"
    }
   },
   "outputs": [],
   "source": [
    "cmd = \"openstack server list -f json --long\"\n",
    "nova_server_map = run_openstack(cmd)"
   ]
  },
  {
   "cell_type": "code",
   "execution_count": null,
   "metadata": {
    "hidden": true,
    "lc_cell_meme": {
     "current": "b8a56e08-6f17-11ee-89fa-0242ac120005-5-07b3-b61f-e725-b332-0674",
     "history": [
      {
       "current": "b8a56e08-6f17-11ee-89fa-0242ac120005",
       "next": "b8a56e62-6f17-11ee-89fa-0242ac120005",
       "previous": "b8a56dae-6f17-11ee-89fa-0242ac120005"
      },
      {
       "current": "b8a56e08-6f17-11ee-89fa-0242ac120005-1-07b3",
       "next": "06afec50-98b0-11ea-8d02-0242ac120007-3-5828-a305-b690",
       "previous": "b8a56dae-6f17-11ee-89fa-0242ac120005"
      },
      {
       "current": "b8a56e08-6f17-11ee-89fa-0242ac120005-2-07b3-b61f",
       "next": "06afec50-98b0-11ea-8d02-0242ac120007-4-5828-a305-b690-1883",
       "previous": "b8a56dae-6f17-11ee-89fa-0242ac120005-1-8ec6"
      },
      {
       "current": "b8a56e08-6f17-11ee-89fa-0242ac120005-3-07b3-b61f-e725",
       "next": "06afec50-98b0-11ea-8d02-0242ac120007-5-5828-a305-b690-1883-d760",
       "previous": "b8a56dae-6f17-11ee-89fa-0242ac120005-2-8ec6-7de4"
      },
      {
       "current": "b8a56e08-6f17-11ee-89fa-0242ac120005-4-07b3-b61f-e725-b332",
       "next": "06afec50-98b0-11ea-8d02-0242ac120007-6-5828-a305-b690-1883-d760-42a3",
       "previous": "b8a56dae-6f17-11ee-89fa-0242ac120005-3-8ec6-7de4-56b6"
      },
      {
       "current": "b8a56e08-6f17-11ee-89fa-0242ac120005-5-07b3-b61f-e725-b332-0674",
       "next": "06afec50-98b0-11ea-8d02-0242ac120007-7-5828-a305-b690-1883-d760-42a3-b69b",
       "previous": "b8a56dae-6f17-11ee-89fa-0242ac120005-4-8ec6-7de4-56b6-9a61"
      }
     ],
     "next": "06afec50-98b0-11ea-8d02-0242ac120007-8-5828-a305-b690-1883-d760-42a3-b69b-8d74",
     "previous": "b8a56dae-6f17-11ee-89fa-0242ac120005-5-8ec6-7de4-56b6-9a61-e642"
    }
   },
   "outputs": [],
   "source": [
    "node_list = []\n",
    "for server in nova_server_map:\n",
    "    node_id = server['ID']\n",
    "    if re.match(name_match_rule, server['Name']) is None:\n",
    "        continue\n",
    "    for node in nodes:\n",
    "        if node['Instance UUID'] == node_id:\n",
    "            node_info = {}\n",
    "            node_list.append(node_info)\n",
    "            node_info['name'] = server['Name']\n",
    "            node_info['node_name'] = node['Name']\n",
    "            instance_ip_info = instance_ip_map.get(server['Name'], None)\n",
    "            if instance_ip_info is not None:\n",
    "                node_info['instance_ip'] = instance_ip_info.get('ipv4', None)\n",
    "            else:\n",
    "                node_info['instance_ip'] = None\n",
    "            address = server['Networks']\n",
    "            prov_net = address['provisioning-net']\n",
    "            for addr in prov_net:\n",
    "                node_info['prov_ip'] = addr\n",
    "\n",
    "pd.DataFrame(node_list)"
   ]
  },
  {
   "cell_type": "markdown",
   "metadata": {
    "lc_cell_meme": {
     "current": "06afec50-98b0-11ea-8d02-0242ac120007-8-5828-a305-b690-1883-d760-42a3-b69b-8d74",
     "history": [
      {
       "current": "06afec50-98b0-11ea-8d02-0242ac120007-1-5828",
       "next": "8a48d590-98a1-11ea-8d02-0242ac120007",
       "previous": "357fc83a-969d-11ea-8d02-0242ac120007"
      },
      {
       "current": "06afec50-98b0-11ea-8d02-0242ac120007-2-5828-a305",
       "next": "8a48d590-98a1-11ea-8d02-0242ac120007-1-1c0f",
       "previous": "357fc83a-969d-11ea-8d02-0242ac120007-1-9a36"
      },
      {
       "current": "06afec50-98b0-11ea-8d02-0242ac120007-3-5828-a305-b690",
       "next": "8a48d590-98a1-11ea-8d02-0242ac120007-2-1c0f-5b25",
       "previous": "357fc83a-969d-11ea-8d02-0242ac120007-2-9a36-95b8"
      },
      {
       "current": "06afec50-98b0-11ea-8d02-0242ac120007-3-5828-a305-b690",
       "next": "8a48d590-98a1-11ea-8d02-0242ac120007-3-1c0f-5b25-d7c0",
       "previous": "357fc83a-969d-11ea-8d02-0242ac120007-3-9a36-95b8-3fa9"
      },
      {
       "current": "06afec50-98b0-11ea-8d02-0242ac120007-4-5828-a305-b690-1883",
       "next": "8a48d590-98a1-11ea-8d02-0242ac120007-3-1c0f-5b25-d7c0",
       "previous": "b8a56e08-6f17-11ee-89fa-0242ac120005"
      },
      {
       "current": "06afec50-98b0-11ea-8d02-0242ac120007-5-5828-a305-b690-1883-d760",
       "next": "8a48d590-98a1-11ea-8d02-0242ac120007-4-1c0f-5b25-d7c0-1f43",
       "previous": "b8a56e08-6f17-11ee-89fa-0242ac120005-1-07b3"
      },
      {
       "current": "06afec50-98b0-11ea-8d02-0242ac120007-6-5828-a305-b690-1883-d760-42a3",
       "next": "8a48d590-98a1-11ea-8d02-0242ac120007-5-1c0f-5b25-d7c0-1f43-6185",
       "previous": "b8a56e08-6f17-11ee-89fa-0242ac120005-2-07b3-b61f"
      },
      {
       "current": "06afec50-98b0-11ea-8d02-0242ac120007-7-5828-a305-b690-1883-d760-42a3-b69b",
       "next": "8a48d590-98a1-11ea-8d02-0242ac120007-6-1c0f-5b25-d7c0-1f43-6185-8ecd",
       "previous": "b8a56e08-6f17-11ee-89fa-0242ac120005-3-07b3-b61f-e725"
      },
      {
       "current": "06afec50-98b0-11ea-8d02-0242ac120007-8-5828-a305-b690-1883-d760-42a3-b69b-8d74",
       "next": "8a48d590-98a1-11ea-8d02-0242ac120007-7-1c0f-5b25-d7c0-1f43-6185-8ecd-d7ed",
       "previous": "b8a56e08-6f17-11ee-89fa-0242ac120005-4-07b3-b61f-e725-b332"
      }
     ],
     "next": "8a48d590-98a1-11ea-8d02-0242ac120007-8-1c0f-5b25-d7c0-1f43-6185-8ecd-d7ed-a86f",
     "previous": "b8a56e08-6f17-11ee-89fa-0242ac120005-5-07b3-b61f-e725-b332-0674"
    }
   },
   "source": [
    "## 登録対象Cephノード情報の取得"
   ]
  },
  {
   "cell_type": "markdown",
   "metadata": {
    "lc_cell_meme": {
     "current": "8a48d590-98a1-11ea-8d02-0242ac120007-8-1c0f-5b25-d7c0-1f43-6185-8ecd-d7ed-a86f",
     "history": [
      {
       "current": "8a48d590-98a1-11ea-8d02-0242ac120007",
       "next": "8a48d90a-98a1-11ea-8d02-0242ac120007",
       "previous": "357fc83a-969d-11ea-8d02-0242ac120007"
      },
      {
       "current": "8a48d590-98a1-11ea-8d02-0242ac120007",
       "next": "8a48d90a-98a1-11ea-8d02-0242ac120007",
       "previous": "06afec50-98b0-11ea-8d02-0242ac120007"
      },
      {
       "current": "8a48d590-98a1-11ea-8d02-0242ac120007",
       "next": "a85c1dda-959a-11ea-8d02-0242ac120007",
       "previous": "06afec50-98b0-11ea-8d02-0242ac120007"
      },
      {
       "current": "8a48d590-98a1-11ea-8d02-0242ac120007-1-1c0f",
       "next": "e879cdac-95bf-11ea-8d02-0242ac120007",
       "previous": "06afec50-98b0-11ea-8d02-0242ac120007"
      },
      {
       "current": "8a48d590-98a1-11ea-8d02-0242ac120007-2-1c0f-5b25",
       "next": "e879cdac-95bf-11ea-8d02-0242ac120007-1-4a2c",
       "previous": "06afec50-98b0-11ea-8d02-0242ac120007-1-5828"
      },
      {
       "current": "8a48d590-98a1-11ea-8d02-0242ac120007-3-1c0f-5b25-d7c0",
       "next": "e879cdac-95bf-11ea-8d02-0242ac120007-2-4a2c-6b2f",
       "previous": "06afec50-98b0-11ea-8d02-0242ac120007-2-5828-a305"
      },
      {
       "current": "8a48d590-98a1-11ea-8d02-0242ac120007-4-1c0f-5b25-d7c0-1f43",
       "next": "e879cdac-95bf-11ea-8d02-0242ac120007-3-4a2c-6b2f-958d",
       "previous": "06afec50-98b0-11ea-8d02-0242ac120007-3-5828-a305-b690"
      },
      {
       "current": "8a48d590-98a1-11ea-8d02-0242ac120007-5-1c0f-5b25-d7c0-1f43-6185",
       "next": "e879cdac-95bf-11ea-8d02-0242ac120007-4-4a2c-6b2f-958d-3176",
       "previous": "06afec50-98b0-11ea-8d02-0242ac120007-4-5828-a305-b690-1883"
      },
      {
       "current": "8a48d590-98a1-11ea-8d02-0242ac120007-6-1c0f-5b25-d7c0-1f43-6185-8ecd",
       "next": "e879cdac-95bf-11ea-8d02-0242ac120007-5-4a2c-6b2f-958d-3176-aec6",
       "previous": "06afec50-98b0-11ea-8d02-0242ac120007-5-5828-a305-b690-1883-d760"
      },
      {
       "current": "8a48d590-98a1-11ea-8d02-0242ac120007-7-1c0f-5b25-d7c0-1f43-6185-8ecd-d7ed",
       "next": "e879cdac-95bf-11ea-8d02-0242ac120007-6-4a2c-6b2f-958d-3176-aec6-5927",
       "previous": "06afec50-98b0-11ea-8d02-0242ac120007-6-5828-a305-b690-1883-d760-42a3"
      },
      {
       "current": "8a48d590-98a1-11ea-8d02-0242ac120007-8-1c0f-5b25-d7c0-1f43-6185-8ecd-d7ed-a86f",
       "next": "e879cdac-95bf-11ea-8d02-0242ac120007-7-4a2c-6b2f-958d-3176-aec6-5927-136a",
       "previous": "06afec50-98b0-11ea-8d02-0242ac120007-7-5828-a305-b690-1883-d760-42a3-b69b"
      }
     ],
     "next": "e879cdac-95bf-11ea-8d02-0242ac120007-8-4a2c-6b2f-958d-3176-aec6-5927-136a-b711",
     "previous": "06afec50-98b0-11ea-8d02-0242ac120007-8-5828-a305-b690-1883-d760-42a3-b69b-8d74"
    }
   },
   "source": [
    "初期化対象のインスタンス名称を設定する"
   ]
  },
  {
   "cell_type": "code",
   "execution_count": null,
   "metadata": {
    "lc_cell_meme": {
     "current": "e879cdac-95bf-11ea-8d02-0242ac120007-8-4a2c-6b2f-958d-3176-aec6-5927-136a-b711",
     "history": [
      {
       "current": "e879cdac-95bf-11ea-8d02-0242ac120007",
       "next": "81dd4f74-9597-11ea-8d02-0242ac120007",
       "previous": "d1bcb8ac-9599-11ea-8d02-0242ac120007"
      },
      {
       "current": "e879cdac-95bf-11ea-8d02-0242ac120007",
       "next": "81dd4f74-9597-11ea-8d02-0242ac120007",
       "previous": "a85c1dda-959a-11ea-8d02-0242ac120007"
      },
      {
       "current": "e879cdac-95bf-11ea-8d02-0242ac120007",
       "next": "8a48d90a-98a1-11ea-8d02-0242ac120007",
       "previous": "a85c1dda-959a-11ea-8d02-0242ac120007"
      },
      {
       "current": "e879cdac-95bf-11ea-8d02-0242ac120007-1-4a2c",
       "next": "8a48d90a-98a1-11ea-8d02-0242ac120007",
       "previous": "8a48d590-98a1-11ea-8d02-0242ac120007"
      },
      {
       "current": "e879cdac-95bf-11ea-8d02-0242ac120007-2-4a2c-6b2f",
       "next": "8a48d90a-98a1-11ea-8d02-0242ac120007-1-0ebc",
       "previous": "8a48d590-98a1-11ea-8d02-0242ac120007-1-1c0f"
      },
      {
       "current": "e879cdac-95bf-11ea-8d02-0242ac120007-2-4a2c-6b2f",
       "next": "8a48d90a-98a1-11ea-8d02-0242ac120007-2-0ebc-93ac",
       "previous": "8a48d590-98a1-11ea-8d02-0242ac120007-2-1c0f-5b25"
      },
      {
       "current": "e879cdac-95bf-11ea-8d02-0242ac120007-3-4a2c-6b2f-958d",
       "next": "809aa1e6-def9-11eb-b29f-0242ac120008",
       "previous": "8a48d590-98a1-11ea-8d02-0242ac120007-2-1c0f-5b25"
      },
      {
       "current": "e879cdac-95bf-11ea-8d02-0242ac120007-4-4a2c-6b2f-958d-3176",
       "next": "809aa1e6-def9-11eb-b29f-0242ac120008-1-b49e",
       "previous": "8a48d590-98a1-11ea-8d02-0242ac120007-3-1c0f-5b25-d7c0"
      },
      {
       "current": "e879cdac-95bf-11ea-8d02-0242ac120007-5-4a2c-6b2f-958d-3176-aec6",
       "next": "809aa1e6-def9-11eb-b29f-0242ac120008-2-b49e-da53",
       "previous": "8a48d590-98a1-11ea-8d02-0242ac120007-4-1c0f-5b25-d7c0-1f43"
      },
      {
       "current": "e879cdac-95bf-11ea-8d02-0242ac120007-6-4a2c-6b2f-958d-3176-aec6-5927",
       "next": "809aa1e6-def9-11eb-b29f-0242ac120008-3-b49e-da53-220f",
       "previous": "8a48d590-98a1-11ea-8d02-0242ac120007-5-1c0f-5b25-d7c0-1f43-6185"
      },
      {
       "current": "e879cdac-95bf-11ea-8d02-0242ac120007-7-4a2c-6b2f-958d-3176-aec6-5927-136a",
       "next": "809aa1e6-def9-11eb-b29f-0242ac120008-4-b49e-da53-220f-6958",
       "previous": "8a48d590-98a1-11ea-8d02-0242ac120007-6-1c0f-5b25-d7c0-1f43-6185-8ecd"
      },
      {
       "current": "e879cdac-95bf-11ea-8d02-0242ac120007-8-4a2c-6b2f-958d-3176-aec6-5927-136a-b711",
       "next": "809aa1e6-def9-11eb-b29f-0242ac120008-5-b49e-da53-220f-6958-68f2",
       "previous": "8a48d590-98a1-11ea-8d02-0242ac120007-7-1c0f-5b25-d7c0-1f43-6185-8ecd-d7ed"
      }
     ],
     "next": "809aa1e6-def9-11eb-b29f-0242ac120008-6-b49e-da53-220f-6958-68f2-2197",
     "previous": "8a48d590-98a1-11ea-8d02-0242ac120007-8-1c0f-5b25-d7c0-1f43-6185-8ecd-d7ed-a86f"
    },
    "scrolled": true
   },
   "outputs": [],
   "source": [
    "# 初期化対象のインスタンス名称を設定する\n",
    "raise Exception('この先手作業が必要です')"
   ]
  },
  {
   "cell_type": "markdown",
   "metadata": {
    "lc_cell_meme": {
     "current": "809aa1e6-def9-11eb-b29f-0242ac120008-6-b49e-da53-220f-6958-68f2-2197",
     "history": [
      {
       "current": "809aa1e6-def9-11eb-b29f-0242ac120008-1-b49e",
       "next": "8a48d90a-98a1-11ea-8d02-0242ac120007-2-0ebc-93ac",
       "previous": "e879cdac-95bf-11ea-8d02-0242ac120007-2-4a2c-6b2f"
      },
      {
       "current": "809aa1e6-def9-11eb-b29f-0242ac120008-1-b49e",
       "next": "8a48d90a-98a1-11ea-8d02-0242ac120007-3-0ebc-93ac-04b4",
       "previous": "e879cdac-95bf-11ea-8d02-0242ac120007-3-4a2c-6b2f-958d"
      },
      {
       "current": "809aa1e6-def9-11eb-b29f-0242ac120008-2-b49e-da53",
       "next": "bb3e251e-61bc-11ee-89fa-0242ac120005",
       "previous": "e879cdac-95bf-11ea-8d02-0242ac120007-3-4a2c-6b2f-958d"
      },
      {
       "current": "809aa1e6-def9-11eb-b29f-0242ac120008-3-b49e-da53-220f",
       "next": "bb3e251e-61bc-11ee-89fa-0242ac120005-1-af60",
       "previous": "e879cdac-95bf-11ea-8d02-0242ac120007-4-4a2c-6b2f-958d-3176"
      },
      {
       "current": "809aa1e6-def9-11eb-b29f-0242ac120008-4-b49e-da53-220f-6958",
       "next": "bb3e251e-61bc-11ee-89fa-0242ac120005-2-af60-8a87",
       "previous": "e879cdac-95bf-11ea-8d02-0242ac120007-5-4a2c-6b2f-958d-3176-aec6"
      },
      {
       "current": "809aa1e6-def9-11eb-b29f-0242ac120008-5-b49e-da53-220f-6958-68f2",
       "next": "bb3e251e-61bc-11ee-89fa-0242ac120005-3-af60-8a87-3c80",
       "previous": "e879cdac-95bf-11ea-8d02-0242ac120007-6-4a2c-6b2f-958d-3176-aec6-5927"
      },
      {
       "current": "809aa1e6-def9-11eb-b29f-0242ac120008-6-b49e-da53-220f-6958-68f2-2197",
       "next": "bb3e251e-61bc-11ee-89fa-0242ac120005-4-af60-8a87-3c80-d86a",
       "previous": "e879cdac-95bf-11ea-8d02-0242ac120007-7-4a2c-6b2f-958d-3176-aec6-5927-136a"
      }
     ],
     "next": "bb3e251e-61bc-11ee-89fa-0242ac120005-5-af60-8a87-3c80-d86a-a554",
     "previous": "e879cdac-95bf-11ea-8d02-0242ac120007-8-4a2c-6b2f-958d-3176-aec6-5927-136a-b711"
    }
   },
   "source": [
    "### adminノードの指定"
   ]
  },
  {
   "cell_type": "code",
   "execution_count": null,
   "metadata": {
    "lc_cell_meme": {
     "current": "bb3e251e-61bc-11ee-89fa-0242ac120005-5-af60-8a87-3c80-d86a-a554",
     "history": [
      {
       "current": "bb3e251e-61bc-11ee-89fa-0242ac120005",
       "next": "8a48dae0-98a1-11ea-8d02-0242ac120007-3-4da2-9c77-127e",
       "previous": "8a48d90a-98a1-11ea-8d02-0242ac120007-3-0ebc-93ac-04b4"
      },
      {
       "current": "bb3e251e-61bc-11ee-89fa-0242ac120005",
       "next": "8a48dae0-98a1-11ea-8d02-0242ac120007-3-4da2-9c77-127e",
       "previous": "6cd9fe0e-6250-11ee-89fa-0242ac120005"
      },
      {
       "current": "bb3e251e-61bc-11ee-89fa-0242ac120005",
       "next": "6cd9fe0e-6250-11ee-89fa-0242ac120005",
       "previous": "8a48d90a-98a1-11ea-8d02-0242ac120007-3-0ebc-93ac-04b4"
      },
      {
       "current": "bb3e251e-61bc-11ee-89fa-0242ac120005-1-af60",
       "next": "8a48dae0-98a1-11ea-8d02-0242ac120007-3-4da2-9c77-127e",
       "previous": "809aa1e6-def9-11eb-b29f-0242ac120008-1-b49e"
      },
      {
       "current": "bb3e251e-61bc-11ee-89fa-0242ac120005-2-af60-8a87",
       "next": "8a48dae0-98a1-11ea-8d02-0242ac120007-4-4da2-9c77-127e-1d3b",
       "previous": "809aa1e6-def9-11eb-b29f-0242ac120008-2-b49e-da53"
      },
      {
       "current": "bb3e251e-61bc-11ee-89fa-0242ac120005-3-af60-8a87-3c80",
       "next": "8a48dae0-98a1-11ea-8d02-0242ac120007-5-4da2-9c77-127e-1d3b-f17a",
       "previous": "809aa1e6-def9-11eb-b29f-0242ac120008-3-b49e-da53-220f"
      },
      {
       "current": "bb3e251e-61bc-11ee-89fa-0242ac120005-4-af60-8a87-3c80-d86a",
       "next": "8a48dae0-98a1-11ea-8d02-0242ac120007-6-4da2-9c77-127e-1d3b-f17a-901f",
       "previous": "809aa1e6-def9-11eb-b29f-0242ac120008-4-b49e-da53-220f-6958"
      },
      {
       "current": "bb3e251e-61bc-11ee-89fa-0242ac120005-5-af60-8a87-3c80-d86a-a554",
       "next": "8a48dae0-98a1-11ea-8d02-0242ac120007-7-4da2-9c77-127e-1d3b-f17a-901f-f251",
       "previous": "809aa1e6-def9-11eb-b29f-0242ac120008-5-b49e-da53-220f-6958-68f2"
      }
     ],
     "next": "8a48dae0-98a1-11ea-8d02-0242ac120007-8-4da2-9c77-127e-1d3b-f17a-901f-f251-5659",
     "previous": "809aa1e6-def9-11eb-b29f-0242ac120008-6-b49e-da53-220f-6958-68f2-2197"
    }
   },
   "outputs": [],
   "source": [
    "bootstrap_node_name = 'ceph-xxx-node-001'"
   ]
  },
  {
   "cell_type": "code",
   "execution_count": null,
   "metadata": {
    "lc_cell_meme": {
     "current": "8a48dae0-98a1-11ea-8d02-0242ac120007-8-4da2-9c77-127e-1d3b-f17a-901f-f251-5659",
     "history": [
      {
       "current": "8a48dae0-98a1-11ea-8d02-0242ac120007-1-4da2",
       "next": "35c339aa-55a3-11e7-b0b2-00163e9c0e35",
       "previous": "8a48d90a-98a1-11ea-8d02-0242ac120007"
      },
      {
       "current": "8a48dae0-98a1-11ea-8d02-0242ac120007-2-4da2-9c77",
       "next": "35c339aa-55a3-11e7-b0b2-00163e9c0e35-1-eee2",
       "previous": "8a48d90a-98a1-11ea-8d02-0242ac120007-1-0ebc"
      },
      {
       "current": "8a48dae0-98a1-11ea-8d02-0242ac120007-2-4da2-9c77",
       "next": "35c339aa-55a3-11e7-b0b2-00163e9c0e35-2-eee2-af6c",
       "previous": "8a48d90a-98a1-11ea-8d02-0242ac120007-2-0ebc-93ac"
      },
      {
       "current": "8a48dae0-98a1-11ea-8d02-0242ac120007-2-4da2-9c77",
       "next": "35c362a4-55a3-11e7-b0b2-00163e9c0e35-2-3f0a-3633",
       "previous": "8a48d90a-98a1-11ea-8d02-0242ac120007-2-0ebc-93ac"
      },
      {
       "current": "8a48dae0-98a1-11ea-8d02-0242ac120007-2-4da2-9c77",
       "next": "1afe7a3e-def8-11eb-b29f-0242ac120008",
       "previous": "8a48d90a-98a1-11ea-8d02-0242ac120007-2-0ebc-93ac"
      },
      {
       "current": "8a48dae0-98a1-11ea-8d02-0242ac120007-3-4da2-9c77-127e",
       "next": "35c35a52-55a3-11e7-b0b2-00163e9c0e35-2-ed71-9007",
       "previous": "8a48d90a-98a1-11ea-8d02-0242ac120007-2-0ebc-93ac"
      },
      {
       "current": "8a48dae0-98a1-11ea-8d02-0242ac120007-3-4da2-9c77-127e",
       "next": "35c35a52-55a3-11e7-b0b2-00163e9c0e35-3-ed71-9007-f930",
       "previous": "8a48d90a-98a1-11ea-8d02-0242ac120007-3-0ebc-93ac-04b4"
      },
      {
       "current": "8a48dae0-98a1-11ea-8d02-0242ac120007-3-4da2-9c77-127e",
       "next": "2c2cd6ae-61bc-11ee-89fa-0242ac120005",
       "previous": "8a48d90a-98a1-11ea-8d02-0242ac120007-3-0ebc-93ac-04b4"
      },
      {
       "current": "8a48dae0-98a1-11ea-8d02-0242ac120007-3-4da2-9c77-127e",
       "next": "2c2cd6ae-61bc-11ee-89fa-0242ac120005",
       "previous": "bb3e251e-61bc-11ee-89fa-0242ac120005"
      },
      {
       "current": "8a48dae0-98a1-11ea-8d02-0242ac120007-3-4da2-9c77-127e",
       "next": "2c2cd6ae-61bc-11ee-89fa-0242ac120005",
       "previous": "6cd9fe0e-6250-11ee-89fa-0242ac120005"
      },
      {
       "current": "8a48dae0-98a1-11ea-8d02-0242ac120007-4-4da2-9c77-127e-1d3b",
       "next": "35c35a52-55a3-11e7-b0b2-00163e9c0e35-3-ed71-9007-f930",
       "previous": "bb3e251e-61bc-11ee-89fa-0242ac120005"
      },
      {
       "current": "8a48dae0-98a1-11ea-8d02-0242ac120007-5-4da2-9c77-127e-1d3b-f17a",
       "next": "35c35a52-55a3-11e7-b0b2-00163e9c0e35-4-ed71-9007-f930-6ff0",
       "previous": "bb3e251e-61bc-11ee-89fa-0242ac120005-1-af60"
      },
      {
       "current": "8a48dae0-98a1-11ea-8d02-0242ac120007-6-4da2-9c77-127e-1d3b-f17a-901f",
       "next": "35c35a52-55a3-11e7-b0b2-00163e9c0e35-5-ed71-9007-f930-6ff0-7fc1",
       "previous": "bb3e251e-61bc-11ee-89fa-0242ac120005-2-af60-8a87"
      },
      {
       "current": "8a48dae0-98a1-11ea-8d02-0242ac120007-7-4da2-9c77-127e-1d3b-f17a-901f-f251",
       "next": "35c35a52-55a3-11e7-b0b2-00163e9c0e35-6-ed71-9007-f930-6ff0-7fc1-06ad",
       "previous": "bb3e251e-61bc-11ee-89fa-0242ac120005-3-af60-8a87-3c80"
      },
      {
       "current": "8a48dae0-98a1-11ea-8d02-0242ac120007-8-4da2-9c77-127e-1d3b-f17a-901f-f251-5659",
       "next": "35c35a52-55a3-11e7-b0b2-00163e9c0e35-7-ed71-9007-f930-6ff0-7fc1-06ad-444d",
       "previous": "bb3e251e-61bc-11ee-89fa-0242ac120005-4-af60-8a87-3c80-d86a"
      }
     ],
     "next": "35c35a52-55a3-11e7-b0b2-00163e9c0e35-8-ed71-9007-f930-6ff0-7fc1-06ad-444d-8ebb",
     "previous": "bb3e251e-61bc-11ee-89fa-0242ac120005-5-af60-8a87-3c80-d86a-a554"
    }
   },
   "outputs": [],
   "source": [
    "bootstrap_node = None\n",
    "for elem in node_list:\n",
    "    if elem['name'] == bootstrap_node_name:\n",
    "        bootstrap_node = elem\n",
    "        break\n",
    "\n",
    "assert (bootstrap_node is not None), \"指定されたBootstrap nodeが存在しません。\"\n",
    "print(bootstrap_node)"
   ]
  },
  {
   "cell_type": "markdown",
   "metadata": {
    "lc_cell_meme": {
     "current": "35c35a52-55a3-11e7-b0b2-00163e9c0e35-8-ed71-9007-f930-6ff0-7fc1-06ad-444d-8ebb",
     "history": [
      {
       "current": "35c35a52-55a3-11e7-b0b2-00163e9c0e35",
       "next": "35c35bf6-55a3-11e7-b0b2-00163e9c0e35",
       "previous": "35c358ae-55a3-11e7-b0b2-00163e9c0e35"
      },
      {
       "current": "35c35a52-55a3-11e7-b0b2-00163e9c0e35",
       "next": "35c35bf6-55a3-11e7-b0b2-00163e9c0e35",
       "previous": "690aae12-2871-11ea-b5b0-0242ac120004"
      },
      {
       "current": "35c35a52-55a3-11e7-b0b2-00163e9c0e35",
       "next": "35c35bf6-55a3-11e7-b0b2-00163e9c0e35",
       "previous": "1f202142-40d1-11ea-ab19-0242ac120004"
      },
      {
       "current": "35c35a52-55a3-11e7-b0b2-00163e9c0e35",
       "next": "35c35bf6-55a3-11e7-b0b2-00163e9c0e35",
       "previous": "690aae12-2871-11ea-b5b0-0242ac120004"
      },
      {
       "current": "35c35a52-55a3-11e7-b0b2-00163e9c0e35",
       "next": "35c35bf6-55a3-11e7-b0b2-00163e9c0e35",
       "previous": "35c358ae-55a3-11e7-b0b2-00163e9c0e35"
      },
      {
       "current": "35c35a52-55a3-11e7-b0b2-00163e9c0e35",
       "next": "35c35bf6-55a3-11e7-b0b2-00163e9c0e35",
       "previous": "29c91c64-2850-11ea-b5b0-0242ac120004"
      },
      {
       "current": "35c35a52-55a3-11e7-b0b2-00163e9c0e35",
       "next": "35c35bf6-55a3-11e7-b0b2-00163e9c0e35",
       "previous": "35c35552-55a3-11e7-b0b2-00163e9c0e35"
      },
      {
       "current": "35c35a52-55a3-11e7-b0b2-00163e9c0e35",
       "next": "35c35bf6-55a3-11e7-b0b2-00163e9c0e35",
       "previous": "81dd5320-9597-11ea-8d02-0242ac120007"
      },
      {
       "current": "35c35a52-55a3-11e7-b0b2-00163e9c0e35-1-ed71",
       "next": "35c35bf6-55a3-11e7-b0b2-00163e9c0e35",
       "previous": "46b9463a-95bc-11ea-8d02-0242ac120007"
      },
      {
       "current": "35c35a52-55a3-11e7-b0b2-00163e9c0e35-1-ed71",
       "next": "35c35bf6-55a3-11e7-b0b2-00163e9c0e35-1-4f76",
       "previous": "46b9463a-95bc-11ea-8d02-0242ac120007-1-777e"
      },
      {
       "current": "35c35a52-55a3-11e7-b0b2-00163e9c0e35-2-ed71-9007",
       "next": "35c35bf6-55a3-11e7-b0b2-00163e9c0e35-1-4f76",
       "previous": "e3624638-98a7-11ea-8d02-0242ac120007-1-0249"
      },
      {
       "current": "35c35a52-55a3-11e7-b0b2-00163e9c0e35-2-ed71-9007",
       "next": "35c35bf6-55a3-11e7-b0b2-00163e9c0e35-2-4f76-7f4b",
       "previous": "e3624638-98a7-11ea-8d02-0242ac120007-2-0249-59e8"
      },
      {
       "current": "35c35a52-55a3-11e7-b0b2-00163e9c0e35-2-ed71-9007",
       "next": "35c35bf6-55a3-11e7-b0b2-00163e9c0e35-2-4f76-7f4b",
       "previous": "445f39dc-def7-11eb-b29f-0242ac120008"
      },
      {
       "current": "35c35a52-55a3-11e7-b0b2-00163e9c0e35-2-ed71-9007",
       "next": "35c35bf6-55a3-11e7-b0b2-00163e9c0e35-2-4f76-7f4b",
       "previous": "445f36bc-def7-11eb-b29f-0242ac120008"
      },
      {
       "current": "35c35a52-55a3-11e7-b0b2-00163e9c0e35-2-ed71-9007",
       "next": "35c35bf6-55a3-11e7-b0b2-00163e9c0e35-2-4f76-7f4b",
       "previous": "1afe7e1c-def8-11eb-b29f-0242ac120008"
      },
      {
       "current": "35c35a52-55a3-11e7-b0b2-00163e9c0e35-3-ed71-9007-f930",
       "next": "35c35bf6-55a3-11e7-b0b2-00163e9c0e35-2-4f76-7f4b",
       "previous": "8a48dae0-98a1-11ea-8d02-0242ac120007-2-4da2-9c77"
      },
      {
       "current": "35c35a52-55a3-11e7-b0b2-00163e9c0e35-3-ed71-9007-f930",
       "next": "35c35bf6-55a3-11e7-b0b2-00163e9c0e35-3-4f76-7f4b-c54b",
       "previous": "8a48dae0-98a1-11ea-8d02-0242ac120007-3-4da2-9c77-127e"
      },
      {
       "current": "35c35a52-55a3-11e7-b0b2-00163e9c0e35-3-ed71-9007-f930",
       "next": "35c35bf6-55a3-11e7-b0b2-00163e9c0e35-3-4f76-7f4b-c54b",
       "previous": "2c2cd6ae-61bc-11ee-89fa-0242ac120005"
      },
      {
       "current": "35c35a52-55a3-11e7-b0b2-00163e9c0e35-3-ed71-9007-f930",
       "next": "35c35f52-55a3-11e7-b0b2-00163e9c0e35-3-e2de-8a27-98e3",
       "previous": "2c2cd6ae-61bc-11ee-89fa-0242ac120005"
      },
      {
       "current": "35c35a52-55a3-11e7-b0b2-00163e9c0e35-4-ed71-9007-f930-6ff0",
       "next": "35c35f52-55a3-11e7-b0b2-00163e9c0e35-3-e2de-8a27-98e3",
       "previous": "8a48dae0-98a1-11ea-8d02-0242ac120007-3-4da2-9c77-127e"
      },
      {
       "current": "35c35a52-55a3-11e7-b0b2-00163e9c0e35-5-ed71-9007-f930-6ff0-7fc1",
       "next": "35c35f52-55a3-11e7-b0b2-00163e9c0e35-4-e2de-8a27-98e3-cdd6",
       "previous": "8a48dae0-98a1-11ea-8d02-0242ac120007-4-4da2-9c77-127e-1d3b"
      },
      {
       "current": "35c35a52-55a3-11e7-b0b2-00163e9c0e35-6-ed71-9007-f930-6ff0-7fc1-06ad",
       "next": "35c35f52-55a3-11e7-b0b2-00163e9c0e35-5-e2de-8a27-98e3-cdd6-ec93",
       "previous": "8a48dae0-98a1-11ea-8d02-0242ac120007-5-4da2-9c77-127e-1d3b-f17a"
      },
      {
       "current": "35c35a52-55a3-11e7-b0b2-00163e9c0e35-7-ed71-9007-f930-6ff0-7fc1-06ad-444d",
       "next": "35c35f52-55a3-11e7-b0b2-00163e9c0e35-6-e2de-8a27-98e3-cdd6-ec93-c50a",
       "previous": "8a48dae0-98a1-11ea-8d02-0242ac120007-6-4da2-9c77-127e-1d3b-f17a-901f"
      },
      {
       "current": "35c35a52-55a3-11e7-b0b2-00163e9c0e35-8-ed71-9007-f930-6ff0-7fc1-06ad-444d-8ebb",
       "next": "35c35f52-55a3-11e7-b0b2-00163e9c0e35-7-e2de-8a27-98e3-cdd6-ec93-c50a-6e10",
       "previous": "8a48dae0-98a1-11ea-8d02-0242ac120007-7-4da2-9c77-127e-1d3b-f17a-901f-f251"
      }
     ],
     "next": "35c35f52-55a3-11e7-b0b2-00163e9c0e35-8-e2de-8a27-98e3-cdd6-ec93-c50a-6e10-e1e3",
     "previous": "8a48dae0-98a1-11ea-8d02-0242ac120007-8-4da2-9c77-127e-1d3b-f17a-901f-f251-5659"
    }
   },
   "source": [
    "## 一時Inventoryファイルの生成\n",
    "以下を実行し、作業用ディレクトリ配下に一時Inventoryファイルを生成する。"
   ]
  },
  {
   "cell_type": "markdown",
   "metadata": {
    "lc_cell_meme": {
     "current": "35c35f52-55a3-11e7-b0b2-00163e9c0e35-8-e2de-8a27-98e3-cdd6-ec93-c50a-6e10-e1e3",
     "history": [
      {
       "current": "35c35f52-55a3-11e7-b0b2-00163e9c0e35",
       "next": "35c360f6-55a3-11e7-b0b2-00163e9c0e35",
       "previous": "35c35dae-55a3-11e7-b0b2-00163e9c0e35"
      },
      {
       "current": "35c35f52-55a3-11e7-b0b2-00163e9c0e35-1-e2de",
       "next": "a33430b0-9327-11ea-8d02-0242ac120007",
       "previous": "35c35dae-55a3-11e7-b0b2-00163e9c0e35"
      },
      {
       "current": "35c35f52-55a3-11e7-b0b2-00163e9c0e35-2-e2de-8a27",
       "next": "a33430b0-9327-11ea-8d02-0242ac120007-1-3202",
       "previous": "35c35dae-55a3-11e7-b0b2-00163e9c0e35-1-7091"
      },
      {
       "current": "35c35f52-55a3-11e7-b0b2-00163e9c0e35-3-e2de-8a27-98e3",
       "next": "a33430b0-9327-11ea-8d02-0242ac120007-2-3202-0bdc",
       "previous": "35c35dae-55a3-11e7-b0b2-00163e9c0e35-2-7091-7055"
      },
      {
       "current": "35c35f52-55a3-11e7-b0b2-00163e9c0e35-3-e2de-8a27-98e3",
       "next": "a33430b0-9327-11ea-8d02-0242ac120007-3-3202-0bdc-fd62",
       "previous": "35c35dae-55a3-11e7-b0b2-00163e9c0e35-3-7091-7055-1fd7"
      },
      {
       "current": "35c35f52-55a3-11e7-b0b2-00163e9c0e35-4-e2de-8a27-98e3-cdd6",
       "next": "a33430b0-9327-11ea-8d02-0242ac120007-3-3202-0bdc-fd62",
       "previous": "35c35a52-55a3-11e7-b0b2-00163e9c0e35-3-ed71-9007-f930"
      },
      {
       "current": "35c35f52-55a3-11e7-b0b2-00163e9c0e35-5-e2de-8a27-98e3-cdd6-ec93",
       "next": "a33430b0-9327-11ea-8d02-0242ac120007-4-3202-0bdc-fd62-f695",
       "previous": "35c35a52-55a3-11e7-b0b2-00163e9c0e35-4-ed71-9007-f930-6ff0"
      },
      {
       "current": "35c35f52-55a3-11e7-b0b2-00163e9c0e35-6-e2de-8a27-98e3-cdd6-ec93-c50a",
       "next": "a33430b0-9327-11ea-8d02-0242ac120007-5-3202-0bdc-fd62-f695-39b9",
       "previous": "35c35a52-55a3-11e7-b0b2-00163e9c0e35-5-ed71-9007-f930-6ff0-7fc1"
      },
      {
       "current": "35c35f52-55a3-11e7-b0b2-00163e9c0e35-7-e2de-8a27-98e3-cdd6-ec93-c50a-6e10",
       "next": "a33430b0-9327-11ea-8d02-0242ac120007-6-3202-0bdc-fd62-f695-39b9-4ac4",
       "previous": "35c35a52-55a3-11e7-b0b2-00163e9c0e35-6-ed71-9007-f930-6ff0-7fc1-06ad"
      },
      {
       "current": "35c35f52-55a3-11e7-b0b2-00163e9c0e35-8-e2de-8a27-98e3-cdd6-ec93-c50a-6e10-e1e3",
       "next": "a33430b0-9327-11ea-8d02-0242ac120007-7-3202-0bdc-fd62-f695-39b9-4ac4-57d0",
       "previous": "35c35a52-55a3-11e7-b0b2-00163e9c0e35-7-ed71-9007-f930-6ff0-7fc1-06ad-444d"
      }
     ],
     "next": "a33430b0-9327-11ea-8d02-0242ac120007-8-3202-0bdc-fd62-f695-39b9-4ac4-57d0-f476",
     "previous": "35c35a52-55a3-11e7-b0b2-00163e9c0e35-8-ed71-9007-f930-6ff0-7fc1-06ad-444d-8ebb"
    }
   },
   "source": [
    "Inventoryファイルを生成する。"
   ]
  },
  {
   "cell_type": "code",
   "execution_count": null,
   "metadata": {
    "lc_cell_meme": {
     "current": "a33430b0-9327-11ea-8d02-0242ac120007-8-3202-0bdc-fd62-f695-39b9-4ac4-57d0-f476",
     "history": [
      {
       "current": "a33430b0-9327-11ea-8d02-0242ac120007",
       "next": "35c360f6-55a3-11e7-b0b2-00163e9c0e35",
       "previous": "35c35f52-55a3-11e7-b0b2-00163e9c0e35"
      },
      {
       "current": "a33430b0-9327-11ea-8d02-0242ac120007-1-3202",
       "next": "9c0b8624-959f-11ea-8d02-0242ac120007",
       "previous": "35c35f52-55a3-11e7-b0b2-00163e9c0e35"
      },
      {
       "current": "a33430b0-9327-11ea-8d02-0242ac120007-2-3202-0bdc",
       "next": "9c0b8624-959f-11ea-8d02-0242ac120007-1-8098",
       "previous": "35c35f52-55a3-11e7-b0b2-00163e9c0e35-1-e2de"
      },
      {
       "current": "a33430b0-9327-11ea-8d02-0242ac120007-2-3202-0bdc",
       "next": "9c0b8624-959f-11ea-8d02-0242ac120007-2-8098-a371",
       "previous": "35c35f52-55a3-11e7-b0b2-00163e9c0e35-2-e2de-8a27"
      },
      {
       "current": "a33430b0-9327-11ea-8d02-0242ac120007-3-3202-0bdc-fd62",
       "next": "27f1be96-f4f0-11eb-b29f-0242ac120008",
       "previous": "35c35f52-55a3-11e7-b0b2-00163e9c0e35-2-e2de-8a27"
      },
      {
       "current": "a33430b0-9327-11ea-8d02-0242ac120007-3-3202-0bdc-fd62",
       "next": "27f1be96-f4f0-11eb-b29f-0242ac120008-1-0b6c",
       "previous": "35c35f52-55a3-11e7-b0b2-00163e9c0e35-3-e2de-8a27-98e3"
      },
      {
       "current": "a33430b0-9327-11ea-8d02-0242ac120007-4-3202-0bdc-fd62-f695",
       "next": "73b1e49c-61bc-11ee-89fa-0242ac120005",
       "previous": "35c35f52-55a3-11e7-b0b2-00163e9c0e35-3-e2de-8a27-98e3"
      },
      {
       "current": "a33430b0-9327-11ea-8d02-0242ac120007-5-3202-0bdc-fd62-f695-39b9",
       "next": "73b1e49c-61bc-11ee-89fa-0242ac120005-1-a901",
       "previous": "35c35f52-55a3-11e7-b0b2-00163e9c0e35-4-e2de-8a27-98e3-cdd6"
      },
      {
       "current": "a33430b0-9327-11ea-8d02-0242ac120007-6-3202-0bdc-fd62-f695-39b9-4ac4",
       "next": "73b1e49c-61bc-11ee-89fa-0242ac120005-2-a901-0a52",
       "previous": "35c35f52-55a3-11e7-b0b2-00163e9c0e35-5-e2de-8a27-98e3-cdd6-ec93"
      },
      {
       "current": "a33430b0-9327-11ea-8d02-0242ac120007-7-3202-0bdc-fd62-f695-39b9-4ac4-57d0",
       "next": "73b1e49c-61bc-11ee-89fa-0242ac120005-3-a901-0a52-0911",
       "previous": "35c35f52-55a3-11e7-b0b2-00163e9c0e35-6-e2de-8a27-98e3-cdd6-ec93-c50a"
      },
      {
       "current": "a33430b0-9327-11ea-8d02-0242ac120007-8-3202-0bdc-fd62-f695-39b9-4ac4-57d0-f476",
       "next": "73b1e49c-61bc-11ee-89fa-0242ac120005-4-a901-0a52-0911-aa1f",
       "previous": "35c35f52-55a3-11e7-b0b2-00163e9c0e35-7-e2de-8a27-98e3-cdd6-ec93-c50a-6e10"
      }
     ],
     "next": "73b1e49c-61bc-11ee-89fa-0242ac120005-5-a901-0a52-0911-aa1f-e6d7",
     "previous": "35c35f52-55a3-11e7-b0b2-00163e9c0e35-8-e2de-8a27-98e3-cdd6-ec93-c50a-6e10-e1e3"
    }
   },
   "outputs": [],
   "source": [
    "node_user='xxxxx'\n",
    "cephadmin_user='cephadmin'\n",
    "node_key='~/.ssh/id_ras'\n",
    "proxy_user='xxxxx'\n",
    "proxy_key='~/.ssh/id_ras'"
   ]
  },
  {
   "cell_type": "code",
   "execution_count": null,
   "metadata": {
    "lc_cell_meme": {
     "current": "73b1e49c-61bc-11ee-89fa-0242ac120005-5-a901-0a52-0911-aa1f-e6d7",
     "history": [
      {
       "current": "73b1e49c-61bc-11ee-89fa-0242ac120005",
       "next": "35c360f6-55a3-11e7-b0b2-00163e9c0e35-3-4a79-f9ba-754f",
       "previous": "9c0b8624-959f-11ea-8d02-0242ac120007-3-8098-a371-0b4a"
      },
      {
       "current": "73b1e49c-61bc-11ee-89fa-0242ac120005-1-a901",
       "next": "35c360f6-55a3-11e7-b0b2-00163e9c0e35-3-4a79-f9ba-754f",
       "previous": "a33430b0-9327-11ea-8d02-0242ac120007-3-3202-0bdc-fd62"
      },
      {
       "current": "73b1e49c-61bc-11ee-89fa-0242ac120005-2-a901-0a52",
       "next": "35c360f6-55a3-11e7-b0b2-00163e9c0e35-4-4a79-f9ba-754f-6ca7",
       "previous": "a33430b0-9327-11ea-8d02-0242ac120007-4-3202-0bdc-fd62-f695"
      },
      {
       "current": "73b1e49c-61bc-11ee-89fa-0242ac120005-3-a901-0a52-0911",
       "next": "35c360f6-55a3-11e7-b0b2-00163e9c0e35-5-4a79-f9ba-754f-6ca7-e803",
       "previous": "a33430b0-9327-11ea-8d02-0242ac120007-5-3202-0bdc-fd62-f695-39b9"
      },
      {
       "current": "73b1e49c-61bc-11ee-89fa-0242ac120005-4-a901-0a52-0911-aa1f",
       "next": "35c360f6-55a3-11e7-b0b2-00163e9c0e35-6-4a79-f9ba-754f-6ca7-e803-28b1",
       "previous": "a33430b0-9327-11ea-8d02-0242ac120007-6-3202-0bdc-fd62-f695-39b9-4ac4"
      },
      {
       "current": "73b1e49c-61bc-11ee-89fa-0242ac120005-5-a901-0a52-0911-aa1f-e6d7",
       "next": "35c360f6-55a3-11e7-b0b2-00163e9c0e35-7-4a79-f9ba-754f-6ca7-e803-28b1-6228",
       "previous": "a33430b0-9327-11ea-8d02-0242ac120007-7-3202-0bdc-fd62-f695-39b9-4ac4-57d0"
      }
     ],
     "next": "35c360f6-55a3-11e7-b0b2-00163e9c0e35-8-4a79-f9ba-754f-6ca7-e803-28b1-6228-d923",
     "previous": "a33430b0-9327-11ea-8d02-0242ac120007-8-3202-0bdc-fd62-f695-39b9-4ac4-57d0-f476"
    }
   },
   "outputs": [],
   "source": [
    "bootstrap_ip = bootstrap_node['prov_ip']"
   ]
  },
  {
   "cell_type": "code",
   "execution_count": null,
   "metadata": {
    "ExecuteTime": {
     "end_time": "2017-06-29T08:50:39.909299Z",
     "start_time": "2017-06-29T08:50:39.762658Z"
    },
    "lc_cell_meme": {
     "current": "35c360f6-55a3-11e7-b0b2-00163e9c0e35-8-4a79-f9ba-754f-6ca7-e803-28b1-6228-d923",
     "history": [
      {
       "current": "35c360f6-55a3-11e7-b0b2-00163e9c0e35",
       "next": "35c362a4-55a3-11e7-b0b2-00163e9c0e35",
       "previous": "35c35f52-55a3-11e7-b0b2-00163e9c0e35"
      },
      {
       "current": "35c360f6-55a3-11e7-b0b2-00163e9c0e35",
       "next": "35c362a4-55a3-11e7-b0b2-00163e9c0e35",
       "previous": "a33430b0-9327-11ea-8d02-0242ac120007"
      },
      {
       "current": "35c360f6-55a3-11e7-b0b2-00163e9c0e35-1-4a79",
       "next": "35c362a4-55a3-11e7-b0b2-00163e9c0e35",
       "previous": "9c0b88cc-959f-11ea-8d02-0242ac120007"
      },
      {
       "current": "35c360f6-55a3-11e7-b0b2-00163e9c0e35-2-4a79-f9ba",
       "next": "35c362a4-55a3-11e7-b0b2-00163e9c0e35-1-3f0a",
       "previous": "9c0b88cc-959f-11ea-8d02-0242ac120007-1-b077"
      },
      {
       "current": "35c360f6-55a3-11e7-b0b2-00163e9c0e35-2-4a79-f9ba",
       "next": "35c362a4-55a3-11e7-b0b2-00163e9c0e35-2-3f0a-3633",
       "previous": "9c0b88cc-959f-11ea-8d02-0242ac120007-2-b077-046d"
      },
      {
       "current": "35c360f6-55a3-11e7-b0b2-00163e9c0e35-2-4a79-f9ba",
       "next": "7dae8996-9686-11ea-8d02-0242ac120007-2-20c5-a0b0",
       "previous": "9c0b88cc-959f-11ea-8d02-0242ac120007-2-b077-046d"
      },
      {
       "current": "35c360f6-55a3-11e7-b0b2-00163e9c0e35-2-4a79-f9ba",
       "next": "35c362a4-55a3-11e7-b0b2-00163e9c0e35-2-89a7-98f2",
       "previous": "9c0b88cc-959f-11ea-8d02-0242ac120007-2-b077-046d"
      },
      {
       "current": "35c360f6-55a3-11e7-b0b2-00163e9c0e35-3-4a79-f9ba-754f",
       "next": "35c362a4-55a3-11e7-b0b2-00163e9c0e35-2-89a7-98f2",
       "previous": "9c0b8624-959f-11ea-8d02-0242ac120007-2-8098-a371"
      },
      {
       "current": "35c360f6-55a3-11e7-b0b2-00163e9c0e35-3-4a79-f9ba-754f",
       "next": "35c362a4-55a3-11e7-b0b2-00163e9c0e35-3-89a7-98f2-5cf2",
       "previous": "9c0b8624-959f-11ea-8d02-0242ac120007-3-8098-a371-0b4a"
      },
      {
       "current": "35c360f6-55a3-11e7-b0b2-00163e9c0e35-4-4a79-f9ba-754f-6ca7",
       "next": "35c362a4-55a3-11e7-b0b2-00163e9c0e35-3-89a7-98f2-5cf2",
       "previous": "73b1e49c-61bc-11ee-89fa-0242ac120005"
      },
      {
       "current": "35c360f6-55a3-11e7-b0b2-00163e9c0e35-5-4a79-f9ba-754f-6ca7-e803",
       "next": "35c362a4-55a3-11e7-b0b2-00163e9c0e35-4-89a7-98f2-5cf2-a9a1",
       "previous": "73b1e49c-61bc-11ee-89fa-0242ac120005-1-a901"
      },
      {
       "current": "35c360f6-55a3-11e7-b0b2-00163e9c0e35-6-4a79-f9ba-754f-6ca7-e803-28b1",
       "next": "35c362a4-55a3-11e7-b0b2-00163e9c0e35-5-89a7-98f2-5cf2-a9a1-b695",
       "previous": "73b1e49c-61bc-11ee-89fa-0242ac120005-2-a901-0a52"
      },
      {
       "current": "35c360f6-55a3-11e7-b0b2-00163e9c0e35-6-4a79-f9ba-754f-6ca7-e803-28b1",
       "next": "35c362a4-55a3-11e7-b0b2-00163e9c0e35-6-89a7-98f2-5cf2-a9a1-b695-0cc8",
       "previous": "73b1e49c-61bc-11ee-89fa-0242ac120005-3-a901-0a52-0911"
      },
      {
       "current": "35c360f6-55a3-11e7-b0b2-00163e9c0e35-7-4a79-f9ba-754f-6ca7-e803-28b1-6228",
       "next": "6b580406-22fb-11ef-ad2f-0242ac120005",
       "previous": "73b1e49c-61bc-11ee-89fa-0242ac120005-3-a901-0a52-0911"
      },
      {
       "current": "35c360f6-55a3-11e7-b0b2-00163e9c0e35-8-4a79-f9ba-754f-6ca7-e803-28b1-6228-d923",
       "next": "6b580406-22fb-11ef-ad2f-0242ac120005-1-0362",
       "previous": "73b1e49c-61bc-11ee-89fa-0242ac120005-4-a901-0a52-0911-aa1f"
      }
     ],
     "next": "6b580406-22fb-11ef-ad2f-0242ac120005-2-0362-ff63",
     "previous": "73b1e49c-61bc-11ee-89fa-0242ac120005-5-a901-0a52-0911-aa1f-e6d7"
    },
    "run_control": {
     "frozen": true
    },
    "scrolled": false
   },
   "outputs": [],
   "source": [
    "import os\n",
    "\n",
    "with open( os.path.join(temp_dir, \"hosts\"), 'w') as f:\n",
    "\n",
    "    f.write('''[ceph_admin]\n",
    "{ceph_admin_ip} ansible_user={proxy_user} ansible_ssh_private_key_file={proxy_key} ansible_python_interpreter=/usr/bin/python3\n",
    "'''.format(ceph_admin_ip=ceph_admin_ip, proxy_user=proxy_user, proxy_key=proxy_key, bootstrap_ip=bootstrap_ip))\n",
    "\n",
    "    f.write('''[bootstrap]\n",
    "{node_ip} ansible_user={node_user} ansible_ssh_private_key_file={node_key} ansible_ssh_common_args='-o ControlMaster=auto -o StrictHostKeyChecking=no -o ControlPersist=30m -o ProxyCommand=\"ssh -W %h:%p -i {proxy_key} -q {proxy_user}@{ceph_admin_ip}\"' ansible_python_interpreter=/usr/bin/python3\n",
    "'''.format(ceph_admin_ip=ceph_admin_ip, node_ip=bootstrap_ip, node_key=node_key,\n",
    "           node_user=node_user, proxy_user=proxy_user, proxy_key=proxy_key))    \n",
    "\n",
    "    f.write('''[openstack_ctl]\n",
    "{openstack_cmn}\n",
    "'''.format(openstack_cmn = provisioning_vip))\n",
    "\n",
    "hosts = temp_dir + \"/hosts\"\n",
    "\n",
    "!cat $hosts"
   ]
  },
  {
   "cell_type": "code",
   "execution_count": null,
   "metadata": {
    "lc_cell_meme": {
     "current": "6b580406-22fb-11ef-ad2f-0242ac120005-2-0362-ff63",
     "history": [
      {
       "current": "6b580406-22fb-11ef-ad2f-0242ac120005-1-0362",
       "next": "35c362a4-55a3-11e7-b0b2-00163e9c0e35-6-89a7-98f2-5cf2-a9a1-b695-0cc8",
       "previous": "35c360f6-55a3-11e7-b0b2-00163e9c0e35-6-4a79-f9ba-754f-6ca7-e803-28b1"
      },
      {
       "current": "6b580406-22fb-11ef-ad2f-0242ac120005-2-0362-ff63",
       "next": "35c362a4-55a3-11e7-b0b2-00163e9c0e35-7-89a7-98f2-5cf2-a9a1-b695-0cc8-42b3",
       "previous": "35c360f6-55a3-11e7-b0b2-00163e9c0e35-7-4a79-f9ba-754f-6ca7-e803-28b1-6228"
      }
     ],
     "next": "35c362a4-55a3-11e7-b0b2-00163e9c0e35-8-89a7-98f2-5cf2-a9a1-b695-0cc8-42b3-ace9",
     "previous": "35c360f6-55a3-11e7-b0b2-00163e9c0e35-8-4a79-f9ba-754f-6ca7-e803-28b1-6228-d923"
    }
   },
   "outputs": [],
   "source": [
    "%env ANSIBLE_INVENTORY={hosts}"
   ]
  },
  {
   "cell_type": "markdown",
   "metadata": {
    "lc_cell_meme": {
     "current": "35c362a4-55a3-11e7-b0b2-00163e9c0e35-8-89a7-98f2-5cf2-a9a1-b695-0cc8-42b3-ace9",
     "history": [
      {
       "current": "35c362a4-55a3-11e7-b0b2-00163e9c0e35",
       "next": "35c36448-55a3-11e7-b0b2-00163e9c0e35",
       "previous": "35c360f6-55a3-11e7-b0b2-00163e9c0e35"
      },
      {
       "current": "35c362a4-55a3-11e7-b0b2-00163e9c0e35",
       "next": "35c36448-55a3-11e7-b0b2-00163e9c0e35",
       "previous": "4cd5b0cc-7ef5-11ea-a926-0242ac120004"
      },
      {
       "current": "35c362a4-55a3-11e7-b0b2-00163e9c0e35",
       "next": "35c36448-55a3-11e7-b0b2-00163e9c0e35",
       "previous": "db546a28-7ef5-11ea-a926-0242ac120004"
      },
      {
       "current": "35c362a4-55a3-11e7-b0b2-00163e9c0e35",
       "next": "35c36448-55a3-11e7-b0b2-00163e9c0e35",
       "previous": "4cd5af28-7ef5-11ea-a926-0242ac120004"
      },
      {
       "current": "35c362a4-55a3-11e7-b0b2-00163e9c0e35",
       "next": "35c36448-55a3-11e7-b0b2-00163e9c0e35",
       "previous": "7d464504-9107-11ea-8d02-0242ac120007"
      },
      {
       "current": "35c362a4-55a3-11e7-b0b2-00163e9c0e35",
       "next": "35c36448-55a3-11e7-b0b2-00163e9c0e35",
       "previous": "bd797188-910b-11ea-8d02-0242ac120007"
      },
      {
       "current": "35c362a4-55a3-11e7-b0b2-00163e9c0e35",
       "next": "35c36448-55a3-11e7-b0b2-00163e9c0e35",
       "previous": "70b95056-9111-11ea-8d02-0242ac120007"
      },
      {
       "current": "35c362a4-55a3-11e7-b0b2-00163e9c0e35",
       "next": "35c36448-55a3-11e7-b0b2-00163e9c0e35",
       "previous": "bd797188-910b-11ea-8d02-0242ac120007"
      },
      {
       "current": "35c362a4-55a3-11e7-b0b2-00163e9c0e35",
       "next": "bd797188-910b-11ea-8d02-0242ac120007",
       "previous": "4cd5af28-7ef5-11ea-a926-0242ac120004"
      },
      {
       "current": "35c362a4-55a3-11e7-b0b2-00163e9c0e35",
       "next": "484c7376-935c-11ea-8d02-0242ac120007",
       "previous": "4cd5af28-7ef5-11ea-a926-0242ac120004"
      },
      {
       "current": "35c362a4-55a3-11e7-b0b2-00163e9c0e35-1-89a7",
       "next": "bd797188-910b-11ea-8d02-0242ac120007",
       "previous": "4cd5af28-7ef5-11ea-a926-0242ac120004"
      },
      {
       "current": "35c362a4-55a3-11e7-b0b2-00163e9c0e35-2-89a7-98f2",
       "next": "bd797188-910b-11ea-8d02-0242ac120007-1-728a",
       "previous": "4cd5af28-7ef5-11ea-a926-0242ac120004-1-726b"
      },
      {
       "current": "35c362a4-55a3-11e7-b0b2-00163e9c0e35-2-89a7-98f2",
       "next": "bd797188-910b-11ea-8d02-0242ac120007-2-728a-254c",
       "previous": "4cd5af28-7ef5-11ea-a926-0242ac120004-2-726b-a0d6"
      },
      {
       "current": "35c362a4-55a3-11e7-b0b2-00163e9c0e35-2-89a7-98f2",
       "next": "bd797188-910b-11ea-8d02-0242ac120007-2-728a-254c",
       "previous": "35c360f6-55a3-11e7-b0b2-00163e9c0e35-2-4a79-f9ba"
      },
      {
       "current": "35c362a4-55a3-11e7-b0b2-00163e9c0e35-3-89a7-98f2-5cf2",
       "next": "ef4d2888-aa17-11ea-9ad4-0242ac120006-1-42b7",
       "previous": "35c360f6-55a3-11e7-b0b2-00163e9c0e35-2-4a79-f9ba"
      },
      {
       "current": "35c362a4-55a3-11e7-b0b2-00163e9c0e35-4-89a7-98f2-5cf2-a9a1",
       "next": "ef4d2888-aa17-11ea-9ad4-0242ac120006-2-42b7-b07a",
       "previous": "35c360f6-55a3-11e7-b0b2-00163e9c0e35-3-4a79-f9ba-754f"
      },
      {
       "current": "35c362a4-55a3-11e7-b0b2-00163e9c0e35-5-89a7-98f2-5cf2-a9a1-b695",
       "next": "ef4d2888-aa17-11ea-9ad4-0242ac120006-3-42b7-b07a-dbe3",
       "previous": "35c360f6-55a3-11e7-b0b2-00163e9c0e35-4-4a79-f9ba-754f-6ca7"
      },
      {
       "current": "35c362a4-55a3-11e7-b0b2-00163e9c0e35-6-89a7-98f2-5cf2-a9a1-b695-0cc8",
       "next": "ef4d2888-aa17-11ea-9ad4-0242ac120006-4-42b7-b07a-dbe3-6adf",
       "previous": "35c360f6-55a3-11e7-b0b2-00163e9c0e35-5-4a79-f9ba-754f-6ca7-e803"
      },
      {
       "current": "35c362a4-55a3-11e7-b0b2-00163e9c0e35-6-89a7-98f2-5cf2-a9a1-b695-0cc8",
       "next": "ef4d2888-aa17-11ea-9ad4-0242ac120006-5-42b7-b07a-dbe3-6adf-39cf",
       "previous": "35c360f6-55a3-11e7-b0b2-00163e9c0e35-6-4a79-f9ba-754f-6ca7-e803-28b1"
      },
      {
       "current": "35c362a4-55a3-11e7-b0b2-00163e9c0e35-7-89a7-98f2-5cf2-a9a1-b695-0cc8-42b3",
       "next": "ef4d2888-aa17-11ea-9ad4-0242ac120006-5-42b7-b07a-dbe3-6adf-39cf",
       "previous": "6b580406-22fb-11ef-ad2f-0242ac120005"
      },
      {
       "current": "35c362a4-55a3-11e7-b0b2-00163e9c0e35-8-89a7-98f2-5cf2-a9a1-b695-0cc8-42b3-ace9",
       "next": "ef4d2888-aa17-11ea-9ad4-0242ac120006-6-42b7-b07a-dbe3-6adf-39cf-d3b7",
       "previous": "6b580406-22fb-11ef-ad2f-0242ac120005-1-0362"
      }
     ],
     "next": "ef4d2888-aa17-11ea-9ad4-0242ac120006-7-42b7-b07a-dbe3-6adf-39cf-d3b7-98de",
     "previous": "6b580406-22fb-11ef-ad2f-0242ac120005-2-0362-ff63"
    }
   },
   "source": [
    "## 疎通確認\n",
    "以下コマンドを実行し、OpeHubからCephAdmin経由で、Cephノードに疎通することを確認する。"
   ]
  },
  {
   "cell_type": "code",
   "execution_count": null,
   "metadata": {
    "lc_cell_meme": {
     "current": "ef4d2888-aa17-11ea-9ad4-0242ac120006-7-42b7-b07a-dbe3-6adf-39cf-d3b7-98de",
     "history": [
      {
       "current": "ef4d2888-aa17-11ea-9ad4-0242ac120006-1-42b7",
       "next": "ac56a252-95bd-11ea-8d02-0242ac120007-1-86ee",
       "previous": "bd797188-910b-11ea-8d02-0242ac120007-1-728a"
      },
      {
       "current": "ef4d2888-aa17-11ea-9ad4-0242ac120006-1-42b7",
       "next": "ac56a252-95bd-11ea-8d02-0242ac120007-2-86ee-3a22",
       "previous": "bd797188-910b-11ea-8d02-0242ac120007-2-728a-254c"
      },
      {
       "current": "ef4d2888-aa17-11ea-9ad4-0242ac120006-1-42b7",
       "next": "bd797188-910b-11ea-8d02-0242ac120007-2-728a-254c",
       "previous": "35c362a4-55a3-11e7-b0b2-00163e9c0e35-2-89a7-98f2"
      },
      {
       "current": "ef4d2888-aa17-11ea-9ad4-0242ac120006-2-42b7-b07a",
       "next": "e3856a36-df01-11eb-b29f-0242ac120008",
       "previous": "35c362a4-55a3-11e7-b0b2-00163e9c0e35-2-89a7-98f2"
      },
      {
       "current": "ef4d2888-aa17-11ea-9ad4-0242ac120006-2-42b7-b07a",
       "next": "e3856a36-df01-11eb-b29f-0242ac120008-1-d6f1",
       "previous": "35c362a4-55a3-11e7-b0b2-00163e9c0e35-3-89a7-98f2-5cf2"
      },
      {
       "current": "ef4d2888-aa17-11ea-9ad4-0242ac120006-2-42b7-b07a",
       "next": "bd797188-910b-11ea-8d02-0242ac120007-3-728a-254c-2f4c",
       "previous": "35c362a4-55a3-11e7-b0b2-00163e9c0e35-3-89a7-98f2-5cf2"
      },
      {
       "current": "ef4d2888-aa17-11ea-9ad4-0242ac120006-3-42b7-b07a-dbe3",
       "next": "91d0d70c-61bd-11ee-89fa-0242ac120005",
       "previous": "35c362a4-55a3-11e7-b0b2-00163e9c0e35-3-89a7-98f2-5cf2"
      },
      {
       "current": "ef4d2888-aa17-11ea-9ad4-0242ac120006-4-42b7-b07a-dbe3-6adf",
       "next": "91d0d70c-61bd-11ee-89fa-0242ac120005-1-275b",
       "previous": "35c362a4-55a3-11e7-b0b2-00163e9c0e35-4-89a7-98f2-5cf2-a9a1"
      },
      {
       "current": "ef4d2888-aa17-11ea-9ad4-0242ac120006-5-42b7-b07a-dbe3-6adf-39cf",
       "next": "91d0d70c-61bd-11ee-89fa-0242ac120005-2-275b-4e9f",
       "previous": "35c362a4-55a3-11e7-b0b2-00163e9c0e35-5-89a7-98f2-5cf2-a9a1-b695"
      },
      {
       "current": "ef4d2888-aa17-11ea-9ad4-0242ac120006-6-42b7-b07a-dbe3-6adf-39cf-d3b7",
       "next": "91d0d70c-61bd-11ee-89fa-0242ac120005-3-275b-4e9f-28a3",
       "previous": "35c362a4-55a3-11e7-b0b2-00163e9c0e35-6-89a7-98f2-5cf2-a9a1-b695-0cc8"
      },
      {
       "current": "ef4d2888-aa17-11ea-9ad4-0242ac120006-7-42b7-b07a-dbe3-6adf-39cf-d3b7-98de",
       "next": "91d0d70c-61bd-11ee-89fa-0242ac120005-4-275b-4e9f-28a3-1ddb",
       "previous": "35c362a4-55a3-11e7-b0b2-00163e9c0e35-7-89a7-98f2-5cf2-a9a1-b695-0cc8-42b3"
      }
     ],
     "next": "91d0d70c-61bd-11ee-89fa-0242ac120005-5-275b-4e9f-28a3-1ddb-17a6",
     "previous": "35c362a4-55a3-11e7-b0b2-00163e9c0e35-8-89a7-98f2-5cf2-a9a1-b695-0cc8-42b3-ace9"
    }
   },
   "outputs": [],
   "source": [
    "!ansible -b -m shell -a 'hostname' ceph_admin"
   ]
  },
  {
   "cell_type": "code",
   "execution_count": null,
   "metadata": {
    "lc_cell_meme": {
     "current": "91d0d70c-61bd-11ee-89fa-0242ac120005-5-275b-4e9f-28a3-1ddb-17a6",
     "history": [
      {
       "current": "91d0d70c-61bd-11ee-89fa-0242ac120005",
       "next": "ac56a252-95bd-11ea-8d02-0242ac120007-3-86ee-3a22-9a71",
       "previous": "21d849e2-dfd0-11eb-b29f-0242ac120008-1-ee1b"
      },
      {
       "current": "91d0d70c-61bd-11ee-89fa-0242ac120005-1-275b",
       "next": "ac56a252-95bd-11ea-8d02-0242ac120007-3-86ee-3a22-9a71",
       "previous": "ef4d2888-aa17-11ea-9ad4-0242ac120006-2-42b7-b07a"
      },
      {
       "current": "91d0d70c-61bd-11ee-89fa-0242ac120005-2-275b-4e9f",
       "next": "ac56a252-95bd-11ea-8d02-0242ac120007-4-86ee-3a22-9a71-c4ac",
       "previous": "ef4d2888-aa17-11ea-9ad4-0242ac120006-3-42b7-b07a-dbe3"
      },
      {
       "current": "91d0d70c-61bd-11ee-89fa-0242ac120005-3-275b-4e9f-28a3",
       "next": "ac56a252-95bd-11ea-8d02-0242ac120007-5-86ee-3a22-9a71-c4ac-d8e9",
       "previous": "ef4d2888-aa17-11ea-9ad4-0242ac120006-4-42b7-b07a-dbe3-6adf"
      },
      {
       "current": "91d0d70c-61bd-11ee-89fa-0242ac120005-4-275b-4e9f-28a3-1ddb",
       "next": "ac56a252-95bd-11ea-8d02-0242ac120007-6-86ee-3a22-9a71-c4ac-d8e9-908b",
       "previous": "ef4d2888-aa17-11ea-9ad4-0242ac120006-5-42b7-b07a-dbe3-6adf-39cf"
      },
      {
       "current": "91d0d70c-61bd-11ee-89fa-0242ac120005-5-275b-4e9f-28a3-1ddb-17a6",
       "next": "ac56a252-95bd-11ea-8d02-0242ac120007-7-86ee-3a22-9a71-c4ac-d8e9-908b-9a2c",
       "previous": "ef4d2888-aa17-11ea-9ad4-0242ac120006-6-42b7-b07a-dbe3-6adf-39cf-d3b7"
      }
     ],
     "next": "ac56a252-95bd-11ea-8d02-0242ac120007-8-86ee-3a22-9a71-c4ac-d8e9-908b-9a2c-ea56",
     "previous": "ef4d2888-aa17-11ea-9ad4-0242ac120006-7-42b7-b07a-dbe3-6adf-39cf-d3b7-98de"
    }
   },
   "outputs": [],
   "source": [
    "!ansible -b -m shell -a 'hostname' bootstrap"
   ]
  },
  {
   "cell_type": "markdown",
   "metadata": {
    "lc_cell_meme": {
     "current": "ac56a252-95bd-11ea-8d02-0242ac120007-8-86ee-3a22-9a71-c4ac-d8e9-908b-9a2c-ea56",
     "history": [
      {
       "current": "ac56a252-95bd-11ea-8d02-0242ac120007-1-86ee",
       "next": "ac56a6c6-95bd-11ea-8d02-0242ac120007",
       "previous": "bd797188-910b-11ea-8d02-0242ac120007"
      },
      {
       "current": "ac56a252-95bd-11ea-8d02-0242ac120007-1-86ee",
       "next": "ac56a6c6-95bd-11ea-8d02-0242ac120007-1-431a",
       "previous": "bd797188-910b-11ea-8d02-0242ac120007-1-728a"
      },
      {
       "current": "ac56a252-95bd-11ea-8d02-0242ac120007-1-86ee",
       "next": "46b93d3e-95bc-11ea-8d02-0242ac120007-1-9f9c",
       "previous": "bd797188-910b-11ea-8d02-0242ac120007-1-728a"
      },
      {
       "current": "ac56a252-95bd-11ea-8d02-0242ac120007-2-86ee-3a22",
       "next": "46b93d3e-95bc-11ea-8d02-0242ac120007-1-9f9c",
       "previous": "ef4d2888-aa17-11ea-9ad4-0242ac120006"
      },
      {
       "current": "ac56a252-95bd-11ea-8d02-0242ac120007-2-86ee-3a22",
       "next": "46b93d3e-95bc-11ea-8d02-0242ac120007-2-9f9c-2f8b",
       "previous": "ef4d2888-aa17-11ea-9ad4-0242ac120006-1-42b7"
      },
      {
       "current": "ac56a252-95bd-11ea-8d02-0242ac120007-2-86ee-3a22",
       "next": "46b93d3e-95bc-11ea-8d02-0242ac120007-2-9f9c-2f8b",
       "previous": "bd797188-910b-11ea-8d02-0242ac120007-2-728a-254c"
      },
      {
       "current": "ac56a252-95bd-11ea-8d02-0242ac120007-3-86ee-3a22-9a71",
       "next": "46b93d3e-95bc-11ea-8d02-0242ac120007-2-9f9c-2f8b",
       "previous": "21d849e2-dfd0-11eb-b29f-0242ac120008"
      },
      {
       "current": "ac56a252-95bd-11ea-8d02-0242ac120007-3-86ee-3a22-9a71",
       "next": "46b93d3e-95bc-11ea-8d02-0242ac120007-3-9f9c-2f8b-fd5c",
       "previous": "21d849e2-dfd0-11eb-b29f-0242ac120008-1-ee1b"
      },
      {
       "current": "ac56a252-95bd-11ea-8d02-0242ac120007-3-86ee-3a22-9a71",
       "next": "1e5a5a54-4bb1-11ee-89fa-0242ac120005",
       "previous": "21d849e2-dfd0-11eb-b29f-0242ac120008-1-ee1b"
      },
      {
       "current": "ac56a252-95bd-11ea-8d02-0242ac120007-3-86ee-3a22-9a71",
       "next": "65e00220-4bb1-11ee-89fa-0242ac120005",
       "previous": "21d849e2-dfd0-11eb-b29f-0242ac120008-1-ee1b"
      },
      {
       "current": "ac56a252-95bd-11ea-8d02-0242ac120007-3-86ee-3a22-9a71",
       "next": "5d429cae-6191-11ee-89fa-0242ac120005",
       "previous": "21d849e2-dfd0-11eb-b29f-0242ac120008-1-ee1b"
      },
      {
       "current": "ac56a252-95bd-11ea-8d02-0242ac120007-3-86ee-3a22-9a71",
       "next": "5d429cae-6191-11ee-89fa-0242ac120005",
       "previous": "91d0d70c-61bd-11ee-89fa-0242ac120005"
      },
      {
       "current": "ac56a252-95bd-11ea-8d02-0242ac120007-3-86ee-3a22-9a71",
       "next": "d9541562-61bd-11ee-89fa-0242ac120005",
       "previous": "91d0d70c-61bd-11ee-89fa-0242ac120005"
      },
      {
       "current": "ac56a252-95bd-11ea-8d02-0242ac120007-3-86ee-3a22-9a71",
       "next": "43709838-6251-11ee-89fa-0242ac120005",
       "previous": "91d0d70c-61bd-11ee-89fa-0242ac120005"
      },
      {
       "current": "ac56a252-95bd-11ea-8d02-0242ac120007-4-86ee-3a22-9a71-c4ac",
       "next": "5dbaa4dc-7470-11ee-89fa-0242ac120005",
       "previous": "91d0d70c-61bd-11ee-89fa-0242ac120005"
      },
      {
       "current": "ac56a252-95bd-11ea-8d02-0242ac120007-5-86ee-3a22-9a71-c4ac-d8e9",
       "next": "5dbaa4dc-7470-11ee-89fa-0242ac120005-1-7108",
       "previous": "91d0d70c-61bd-11ee-89fa-0242ac120005-1-275b"
      },
      {
       "current": "ac56a252-95bd-11ea-8d02-0242ac120007-6-86ee-3a22-9a71-c4ac-d8e9-908b",
       "next": "5dbaa4dc-7470-11ee-89fa-0242ac120005-2-7108-6275",
       "previous": "91d0d70c-61bd-11ee-89fa-0242ac120005-2-275b-4e9f"
      },
      {
       "current": "ac56a252-95bd-11ea-8d02-0242ac120007-7-86ee-3a22-9a71-c4ac-d8e9-908b-9a2c",
       "next": "5dbaa4dc-7470-11ee-89fa-0242ac120005-3-7108-6275-47ee",
       "previous": "91d0d70c-61bd-11ee-89fa-0242ac120005-3-275b-4e9f-28a3"
      },
      {
       "current": "ac56a252-95bd-11ea-8d02-0242ac120007-8-86ee-3a22-9a71-c4ac-d8e9-908b-9a2c-ea56",
       "next": "5dbaa4dc-7470-11ee-89fa-0242ac120005-4-7108-6275-47ee-5f97",
       "previous": "91d0d70c-61bd-11ee-89fa-0242ac120005-4-275b-4e9f-28a3-1ddb"
      }
     ],
     "next": "5dbaa4dc-7470-11ee-89fa-0242ac120005-5-7108-6275-47ee-5f97-c7d0",
     "previous": "91d0d70c-61bd-11ee-89fa-0242ac120005-5-275b-4e9f-28a3-1ddb-17a6"
    }
   },
   "source": [
    "# _admin追加\n",
    "monとmgrが稼働していて、_adminラベルが付与されていないノードに_adminを追加して、admin実行対象ノードを追加する。"
   ]
  },
  {
   "cell_type": "code",
   "execution_count": null,
   "metadata": {
    "lc_cell_meme": {
     "current": "5dbaa4dc-7470-11ee-89fa-0242ac120005-5-7108-6275-47ee-5f97-c7d0",
     "history": [
      {
       "current": "5dbaa4dc-7470-11ee-89fa-0242ac120005-1-7108",
       "next": "5dbaa752-7470-11ee-89fa-0242ac120005",
       "previous": "ac56a252-95bd-11ea-8d02-0242ac120007-3-86ee-3a22-9a71"
      },
      {
       "current": "5dbaa4dc-7470-11ee-89fa-0242ac120005-2-7108-6275",
       "next": "5dbaa752-7470-11ee-89fa-0242ac120005-1-96c2",
       "previous": "ac56a252-95bd-11ea-8d02-0242ac120007-4-86ee-3a22-9a71-c4ac"
      },
      {
       "current": "5dbaa4dc-7470-11ee-89fa-0242ac120005-3-7108-6275-47ee",
       "next": "5dbaa752-7470-11ee-89fa-0242ac120005-2-96c2-765f",
       "previous": "ac56a252-95bd-11ea-8d02-0242ac120007-5-86ee-3a22-9a71-c4ac-d8e9"
      },
      {
       "current": "5dbaa4dc-7470-11ee-89fa-0242ac120005-4-7108-6275-47ee-5f97",
       "next": "5dbaa752-7470-11ee-89fa-0242ac120005-3-96c2-765f-2b2e",
       "previous": "ac56a252-95bd-11ea-8d02-0242ac120007-6-86ee-3a22-9a71-c4ac-d8e9-908b"
      },
      {
       "current": "5dbaa4dc-7470-11ee-89fa-0242ac120005-5-7108-6275-47ee-5f97-c7d0",
       "next": "5dbaa752-7470-11ee-89fa-0242ac120005-4-96c2-765f-2b2e-c87f",
       "previous": "ac56a252-95bd-11ea-8d02-0242ac120007-7-86ee-3a22-9a71-c4ac-d8e9-908b-9a2c"
      }
     ],
     "next": "5dbaa752-7470-11ee-89fa-0242ac120005-5-96c2-765f-2b2e-c87f-9e8e",
     "previous": "ac56a252-95bd-11ea-8d02-0242ac120007-8-86ee-3a22-9a71-c4ac-d8e9-908b-9a2c-ea56"
    }
   },
   "outputs": [],
   "source": [
    "!ansible -b -m shell -a 'ceph orch ps --daemon_type mon' bootstrap"
   ]
  },
  {
   "cell_type": "code",
   "execution_count": null,
   "metadata": {
    "lc_cell_meme": {
     "current": "5dbaa752-7470-11ee-89fa-0242ac120005-5-96c2-765f-2b2e-c87f-9e8e",
     "history": [
      {
       "current": "5dbaa752-7470-11ee-89fa-0242ac120005-1-96c2",
       "next": "5dbaa7f2-7470-11ee-89fa-0242ac120005",
       "previous": "5dbaa4dc-7470-11ee-89fa-0242ac120005"
      },
      {
       "current": "5dbaa752-7470-11ee-89fa-0242ac120005-2-96c2-765f",
       "next": "5dbaa7f2-7470-11ee-89fa-0242ac120005-1-668e",
       "previous": "5dbaa4dc-7470-11ee-89fa-0242ac120005-1-7108"
      },
      {
       "current": "5dbaa752-7470-11ee-89fa-0242ac120005-3-96c2-765f-2b2e",
       "next": "5dbaa7f2-7470-11ee-89fa-0242ac120005-2-668e-722e",
       "previous": "5dbaa4dc-7470-11ee-89fa-0242ac120005-2-7108-6275"
      },
      {
       "current": "5dbaa752-7470-11ee-89fa-0242ac120005-4-96c2-765f-2b2e-c87f",
       "next": "5dbaa7f2-7470-11ee-89fa-0242ac120005-3-668e-722e-ceaa",
       "previous": "5dbaa4dc-7470-11ee-89fa-0242ac120005-3-7108-6275-47ee"
      },
      {
       "current": "5dbaa752-7470-11ee-89fa-0242ac120005-5-96c2-765f-2b2e-c87f-9e8e",
       "next": "5dbaa7f2-7470-11ee-89fa-0242ac120005-4-668e-722e-ceaa-4359",
       "previous": "5dbaa4dc-7470-11ee-89fa-0242ac120005-4-7108-6275-47ee-5f97"
      }
     ],
     "next": "5dbaa7f2-7470-11ee-89fa-0242ac120005-5-668e-722e-ceaa-4359-1fa7",
     "previous": "5dbaa4dc-7470-11ee-89fa-0242ac120005-5-7108-6275-47ee-5f97-c7d0"
    }
   },
   "outputs": [],
   "source": [
    "!ansible -b -m shell -a 'ceph orch ps --daemon_type mgr' bootstrap"
   ]
  },
  {
   "cell_type": "code",
   "execution_count": null,
   "metadata": {
    "lc_cell_meme": {
     "current": "5dbaa7f2-7470-11ee-89fa-0242ac120005-5-668e-722e-ceaa-4359-1fa7",
     "history": [
      {
       "current": "5dbaa7f2-7470-11ee-89fa-0242ac120005-1-668e",
       "next": "5dbaa93c-7470-11ee-89fa-0242ac120005",
       "previous": "5dbaa752-7470-11ee-89fa-0242ac120005"
      },
      {
       "current": "5dbaa7f2-7470-11ee-89fa-0242ac120005-2-668e-722e",
       "next": "5dbaa93c-7470-11ee-89fa-0242ac120005-1-043a",
       "previous": "5dbaa752-7470-11ee-89fa-0242ac120005-1-96c2"
      },
      {
       "current": "5dbaa7f2-7470-11ee-89fa-0242ac120005-3-668e-722e-ceaa",
       "next": "5dbaa93c-7470-11ee-89fa-0242ac120005-2-043a-00f8",
       "previous": "5dbaa752-7470-11ee-89fa-0242ac120005-2-96c2-765f"
      },
      {
       "current": "5dbaa7f2-7470-11ee-89fa-0242ac120005-4-668e-722e-ceaa-4359",
       "next": "5dbaa93c-7470-11ee-89fa-0242ac120005-3-043a-00f8-6037",
       "previous": "5dbaa752-7470-11ee-89fa-0242ac120005-3-96c2-765f-2b2e"
      },
      {
       "current": "5dbaa7f2-7470-11ee-89fa-0242ac120005-5-668e-722e-ceaa-4359-1fa7",
       "next": "5dbaa93c-7470-11ee-89fa-0242ac120005-4-043a-00f8-6037-c017",
       "previous": "5dbaa752-7470-11ee-89fa-0242ac120005-4-96c2-765f-2b2e-c87f"
      }
     ],
     "next": "5dbaa93c-7470-11ee-89fa-0242ac120005-5-043a-00f8-6037-c017-a89a",
     "previous": "5dbaa752-7470-11ee-89fa-0242ac120005-5-96c2-765f-2b2e-c87f-9e8e"
    }
   },
   "outputs": [],
   "source": [
    "!ansible -b -m shell -a 'cephadm shell -- ceph orch host ls 2> /dev/null' bootstrap"
   ]
  },
  {
   "cell_type": "code",
   "execution_count": null,
   "metadata": {
    "lc_cell_meme": {
     "current": "5dbaa93c-7470-11ee-89fa-0242ac120005-5-043a-00f8-6037-c017-a89a",
     "history": [
      {
       "current": "5dbaa93c-7470-11ee-89fa-0242ac120005-1-043a",
       "next": "5dbaa9aa-7470-11ee-89fa-0242ac120005",
       "previous": "5dbaa7f2-7470-11ee-89fa-0242ac120005"
      },
      {
       "current": "5dbaa93c-7470-11ee-89fa-0242ac120005-2-043a-00f8",
       "next": "5dbaa9aa-7470-11ee-89fa-0242ac120005-1-2bc8",
       "previous": "5dbaa7f2-7470-11ee-89fa-0242ac120005-1-668e"
      },
      {
       "current": "5dbaa93c-7470-11ee-89fa-0242ac120005-3-043a-00f8-6037",
       "next": "5dbaa9aa-7470-11ee-89fa-0242ac120005-2-2bc8-4ac9",
       "previous": "5dbaa7f2-7470-11ee-89fa-0242ac120005-2-668e-722e"
      },
      {
       "current": "5dbaa93c-7470-11ee-89fa-0242ac120005-4-043a-00f8-6037-c017",
       "next": "5dbaa9aa-7470-11ee-89fa-0242ac120005-3-2bc8-4ac9-3b64",
       "previous": "5dbaa7f2-7470-11ee-89fa-0242ac120005-3-668e-722e-ceaa"
      },
      {
       "current": "5dbaa93c-7470-11ee-89fa-0242ac120005-5-043a-00f8-6037-c017-a89a",
       "next": "5dbaa9aa-7470-11ee-89fa-0242ac120005-4-2bc8-4ac9-3b64-b67d",
       "previous": "5dbaa7f2-7470-11ee-89fa-0242ac120005-4-668e-722e-ceaa-4359"
      }
     ],
     "next": "5dbaa9aa-7470-11ee-89fa-0242ac120005-5-2bc8-4ac9-3b64-b67d-2bea",
     "previous": "5dbaa7f2-7470-11ee-89fa-0242ac120005-5-668e-722e-ceaa-4359-1fa7"
    }
   },
   "outputs": [],
   "source": [
    "# admin対象のインスタンス名称を設定する\n",
    "raise Exception('この先手作業が必要です')"
   ]
  },
  {
   "cell_type": "code",
   "execution_count": null,
   "metadata": {
    "lc_cell_meme": {
     "current": "5dbaa9aa-7470-11ee-89fa-0242ac120005-5-2bc8-4ac9-3b64-b67d-2bea",
     "history": [
      {
       "current": "5dbaa9aa-7470-11ee-89fa-0242ac120005-1-2bc8",
       "next": "43709838-6251-11ee-89fa-0242ac120005",
       "previous": "5dbaa93c-7470-11ee-89fa-0242ac120005"
      },
      {
       "current": "5dbaa9aa-7470-11ee-89fa-0242ac120005-2-2bc8-4ac9",
       "next": "43709838-6251-11ee-89fa-0242ac120005-1-47ed",
       "previous": "5dbaa93c-7470-11ee-89fa-0242ac120005-1-043a"
      },
      {
       "current": "5dbaa9aa-7470-11ee-89fa-0242ac120005-3-2bc8-4ac9-3b64",
       "next": "43709838-6251-11ee-89fa-0242ac120005-2-47ed-2f31",
       "previous": "5dbaa93c-7470-11ee-89fa-0242ac120005-2-043a-00f8"
      },
      {
       "current": "5dbaa9aa-7470-11ee-89fa-0242ac120005-4-2bc8-4ac9-3b64-b67d",
       "next": "43709838-6251-11ee-89fa-0242ac120005-3-47ed-2f31-7e18",
       "previous": "5dbaa93c-7470-11ee-89fa-0242ac120005-3-043a-00f8-6037"
      },
      {
       "current": "5dbaa9aa-7470-11ee-89fa-0242ac120005-5-2bc8-4ac9-3b64-b67d-2bea",
       "next": "43709838-6251-11ee-89fa-0242ac120005-4-47ed-2f31-7e18-e53f",
       "previous": "5dbaa93c-7470-11ee-89fa-0242ac120005-4-043a-00f8-6037-c017"
      }
     ],
     "next": "43709838-6251-11ee-89fa-0242ac120005-5-47ed-2f31-7e18-e53f-e717",
     "previous": "5dbaa93c-7470-11ee-89fa-0242ac120005-5-043a-00f8-6037-c017-a89a"
    }
   },
   "outputs": [],
   "source": [
    "admin_node_list = ['ceph-xxx-node-002','ceph-xxx-node-003']"
   ]
  },
  {
   "cell_type": "code",
   "execution_count": null,
   "metadata": {
    "lc_cell_meme": {
     "current": "43709838-6251-11ee-89fa-0242ac120005-5-47ed-2f31-7e18-e53f-e717",
     "history": [
      {
       "current": "43709838-6251-11ee-89fa-0242ac120005",
       "next": "437099dc-6251-11ee-89fa-0242ac120005",
       "previous": "ac56a252-95bd-11ea-8d02-0242ac120007-3-86ee-3a22-9a71"
      },
      {
       "current": "43709838-6251-11ee-89fa-0242ac120005",
       "next": "437099dc-6251-11ee-89fa-0242ac120005-2-9494-0e1c",
       "previous": "ac56a252-95bd-11ea-8d02-0242ac120007-3-86ee-3a22-9a71"
      },
      {
       "current": "43709838-6251-11ee-89fa-0242ac120005",
       "next": "437099dc-6251-11ee-89fa-0242ac120005-2-9494-0e1c",
       "previous": "5dbaa9aa-7470-11ee-89fa-0242ac120005"
      },
      {
       "current": "43709838-6251-11ee-89fa-0242ac120005",
       "next": "35c581ba-55a3-11e7-b0b2-00163e9c0e35-3-f60b-133a-40ef",
       "previous": "5dbaa9aa-7470-11ee-89fa-0242ac120005"
      },
      {
       "current": "43709838-6251-11ee-89fa-0242ac120005-1-47ed",
       "next": "99604f30-81e2-11ee-91d3-0242ac120006",
       "previous": "5dbaa9aa-7470-11ee-89fa-0242ac120005"
      },
      {
       "current": "43709838-6251-11ee-89fa-0242ac120005-2-47ed-2f31",
       "next": "99604f30-81e2-11ee-91d3-0242ac120006-1-e1c3",
       "previous": "5dbaa9aa-7470-11ee-89fa-0242ac120005-1-2bc8"
      },
      {
       "current": "43709838-6251-11ee-89fa-0242ac120005-3-47ed-2f31-7e18",
       "next": "99604f30-81e2-11ee-91d3-0242ac120006-2-e1c3-f69f",
       "previous": "5dbaa9aa-7470-11ee-89fa-0242ac120005-2-2bc8-4ac9"
      },
      {
       "current": "43709838-6251-11ee-89fa-0242ac120005-4-47ed-2f31-7e18-e53f",
       "next": "99604f30-81e2-11ee-91d3-0242ac120006-3-e1c3-f69f-b8d7",
       "previous": "5dbaa9aa-7470-11ee-89fa-0242ac120005-3-2bc8-4ac9-3b64"
      },
      {
       "current": "43709838-6251-11ee-89fa-0242ac120005-5-47ed-2f31-7e18-e53f-e717",
       "next": "99604f30-81e2-11ee-91d3-0242ac120006-4-e1c3-f69f-b8d7-8763",
       "previous": "5dbaa9aa-7470-11ee-89fa-0242ac120005-4-2bc8-4ac9-3b64-b67d"
      }
     ],
     "next": "99604f30-81e2-11ee-91d3-0242ac120006-5-e1c3-f69f-b8d7-8763-bc20",
     "previous": "5dbaa9aa-7470-11ee-89fa-0242ac120005-5-2bc8-4ac9-3b64-b67d-2bea"
    }
   },
   "outputs": [],
   "source": [
    "for target_node in admin_node_list:\n",
    "    !ansible -b -m shell -a \"cephadm shell -- ceph orch host label add $target_node _admin 2> /dev/null\" bootstrap"
   ]
  },
  {
   "cell_type": "code",
   "execution_count": null,
   "metadata": {
    "lc_cell_meme": {
     "current": "99604f30-81e2-11ee-91d3-0242ac120006-5-e1c3-f69f-b8d7-8763-bc20",
     "history": [
      {
       "current": "99604f30-81e2-11ee-91d3-0242ac120006-1-e1c3",
       "next": "35c581ba-55a3-11e7-b0b2-00163e9c0e35-3-f60b-133a-40ef",
       "previous": "43709838-6251-11ee-89fa-0242ac120005"
      },
      {
       "current": "99604f30-81e2-11ee-91d3-0242ac120006-2-e1c3-f69f",
       "next": "35c581ba-55a3-11e7-b0b2-00163e9c0e35-4-f60b-133a-40ef-6941",
       "previous": "43709838-6251-11ee-89fa-0242ac120005-1-47ed"
      },
      {
       "current": "99604f30-81e2-11ee-91d3-0242ac120006-3-e1c3-f69f-b8d7",
       "next": "35c581ba-55a3-11e7-b0b2-00163e9c0e35-5-f60b-133a-40ef-6941-bb9b",
       "previous": "43709838-6251-11ee-89fa-0242ac120005-2-47ed-2f31"
      },
      {
       "current": "99604f30-81e2-11ee-91d3-0242ac120006-4-e1c3-f69f-b8d7-8763",
       "next": "35c581ba-55a3-11e7-b0b2-00163e9c0e35-6-f60b-133a-40ef-6941-bb9b-1d1d",
       "previous": "43709838-6251-11ee-89fa-0242ac120005-3-47ed-2f31-7e18"
      },
      {
       "current": "99604f30-81e2-11ee-91d3-0242ac120006-5-e1c3-f69f-b8d7-8763-bc20",
       "next": "35c581ba-55a3-11e7-b0b2-00163e9c0e35-7-f60b-133a-40ef-6941-bb9b-1d1d-0275",
       "previous": "43709838-6251-11ee-89fa-0242ac120005-4-47ed-2f31-7e18-e53f"
      }
     ],
     "next": "35c581ba-55a3-11e7-b0b2-00163e9c0e35-8-f60b-133a-40ef-6941-bb9b-1d1d-0275-60fd",
     "previous": "43709838-6251-11ee-89fa-0242ac120005-5-47ed-2f31-7e18-e53f-e717"
    }
   },
   "outputs": [],
   "source": [
    "!ansible -b -m shell -a 'cephadm shell -- ceph orch host ls 2> /dev/null' bootstrap"
   ]
  },
  {
   "cell_type": "markdown",
   "metadata": {
    "collapsed": true,
    "lc_cell_meme": {
     "current": "35c581ba-55a3-11e7-b0b2-00163e9c0e35-8-f60b-133a-40ef-6941-bb9b-1d1d-0275-60fd",
     "history": [
      {
       "current": "35c581ba-55a3-11e7-b0b2-00163e9c0e35",
       "next": "35c58340-55a3-11e7-b0b2-00163e9c0e35",
       "previous": "35c58034-55a3-11e7-b0b2-00163e9c0e35"
      },
      {
       "current": "35c581ba-55a3-11e7-b0b2-00163e9c0e35",
       "next": "35c58340-55a3-11e7-b0b2-00163e9c0e35",
       "previous": "35c51928-55a3-11e7-b0b2-00163e9c0e35"
      },
      {
       "current": "35c581ba-55a3-11e7-b0b2-00163e9c0e35",
       "next": "35c58340-55a3-11e7-b0b2-00163e9c0e35",
       "previous": "277a614c-47b9-11ea-a028-0242ac120005"
      },
      {
       "current": "35c581ba-55a3-11e7-b0b2-00163e9c0e35",
       "next": "35c58340-55a3-11e7-b0b2-00163e9c0e35",
       "previous": "35c51928-55a3-11e7-b0b2-00163e9c0e35"
      },
      {
       "current": "35c581ba-55a3-11e7-b0b2-00163e9c0e35",
       "next": "35c58340-55a3-11e7-b0b2-00163e9c0e35",
       "previous": "b8a85906-47b6-11ea-a028-0242ac120005"
      },
      {
       "current": "35c581ba-55a3-11e7-b0b2-00163e9c0e35",
       "next": "35c58340-55a3-11e7-b0b2-00163e9c0e35",
       "previous": "35c38fae-55a3-11e7-b0b2-00163e9c0e35"
      },
      {
       "current": "35c581ba-55a3-11e7-b0b2-00163e9c0e35",
       "next": "35c58340-55a3-11e7-b0b2-00163e9c0e35",
       "previous": "35c385a4-55a3-11e7-b0b2-00163e9c0e35"
      },
      {
       "current": "35c581ba-55a3-11e7-b0b2-00163e9c0e35",
       "next": "35c58340-55a3-11e7-b0b2-00163e9c0e35",
       "previous": "27c39180-935b-11ea-8d02-0242ac120007"
      },
      {
       "current": "35c581ba-55a3-11e7-b0b2-00163e9c0e35",
       "next": "35c58340-55a3-11e7-b0b2-00163e9c0e35",
       "previous": "35c385a4-55a3-11e7-b0b2-00163e9c0e35"
      },
      {
       "current": "35c581ba-55a3-11e7-b0b2-00163e9c0e35",
       "next": "35c58340-55a3-11e7-b0b2-00163e9c0e35",
       "previous": "b20d6ace-9684-11ea-8d02-0242ac120007"
      },
      {
       "current": "35c581ba-55a3-11e7-b0b2-00163e9c0e35",
       "next": "35c58340-55a3-11e7-b0b2-00163e9c0e35",
       "previous": "18b837c6-9686-11ea-8d02-0242ac120007"
      },
      {
       "current": "35c581ba-55a3-11e7-b0b2-00163e9c0e35",
       "next": "35c58340-55a3-11e7-b0b2-00163e9c0e35",
       "previous": "59de09f6-9686-11ea-8d02-0242ac120007"
      },
      {
       "current": "35c581ba-55a3-11e7-b0b2-00163e9c0e35",
       "next": "35c58340-55a3-11e7-b0b2-00163e9c0e35",
       "previous": "7dae8b30-9686-11ea-8d02-0242ac120007"
      },
      {
       "current": "35c581ba-55a3-11e7-b0b2-00163e9c0e35",
       "next": "35c58340-55a3-11e7-b0b2-00163e9c0e35",
       "previous": "789942dc-9692-11ea-8d02-0242ac120007"
      },
      {
       "current": "35c581ba-55a3-11e7-b0b2-00163e9c0e35",
       "next": "35c58340-55a3-11e7-b0b2-00163e9c0e35",
       "previous": "e95d003a-9697-11ea-8d02-0242ac120007"
      },
      {
       "current": "35c581ba-55a3-11e7-b0b2-00163e9c0e35",
       "next": "35c58340-55a3-11e7-b0b2-00163e9c0e35",
       "previous": "357fc83a-969d-11ea-8d02-0242ac120007"
      },
      {
       "current": "35c581ba-55a3-11e7-b0b2-00163e9c0e35",
       "next": "35c58340-55a3-11e7-b0b2-00163e9c0e35",
       "previous": "7dae86da-9686-11ea-8d02-0242ac120007"
      },
      {
       "current": "35c581ba-55a3-11e7-b0b2-00163e9c0e35",
       "next": "35c58340-55a3-11e7-b0b2-00163e9c0e35",
       "previous": "49102d8c-98a9-11ea-8d02-0242ac120007"
      },
      {
       "current": "35c581ba-55a3-11e7-b0b2-00163e9c0e35",
       "next": "35c58340-55a3-11e7-b0b2-00163e9c0e35",
       "previous": "dbe917aa-9984-11ea-8d02-0242ac120007"
      },
      {
       "current": "35c581ba-55a3-11e7-b0b2-00163e9c0e35",
       "next": "35c58340-55a3-11e7-b0b2-00163e9c0e35",
       "previous": "f9f7c1a0-9985-11ea-8d02-0242ac120007"
      },
      {
       "current": "35c581ba-55a3-11e7-b0b2-00163e9c0e35",
       "next": "35c58340-55a3-11e7-b0b2-00163e9c0e35",
       "previous": "4180e646-9986-11ea-8d02-0242ac120007"
      },
      {
       "current": "35c581ba-55a3-11e7-b0b2-00163e9c0e35",
       "next": "35c58340-55a3-11e7-b0b2-00163e9c0e35",
       "previous": "eea7aafc-9987-11ea-8d02-0242ac120007"
      },
      {
       "current": "35c581ba-55a3-11e7-b0b2-00163e9c0e35",
       "next": "35c58340-55a3-11e7-b0b2-00163e9c0e35",
       "previous": "7db36be6-9988-11ea-8d02-0242ac120007"
      },
      {
       "current": "35c581ba-55a3-11e7-b0b2-00163e9c0e35",
       "next": "35c58340-55a3-11e7-b0b2-00163e9c0e35",
       "previous": "7db36a7e-9988-11ea-8d02-0242ac120007"
      },
      {
       "current": "35c581ba-55a3-11e7-b0b2-00163e9c0e35",
       "next": "35c58340-55a3-11e7-b0b2-00163e9c0e35",
       "previous": "f3e7d364-998e-11ea-8d02-0242ac120007"
      },
      {
       "current": "35c581ba-55a3-11e7-b0b2-00163e9c0e35-1-f60b",
       "next": "35c58340-55a3-11e7-b0b2-00163e9c0e35",
       "previous": "b0a33f46-98ce-11ea-8d02-0242ac120007"
      },
      {
       "current": "35c581ba-55a3-11e7-b0b2-00163e9c0e35-2-f60b-133a",
       "next": "35c58340-55a3-11e7-b0b2-00163e9c0e35-1-c0ce",
       "previous": "b0a33f46-98ce-11ea-8d02-0242ac120007-1-1e51"
      },
      {
       "current": "35c581ba-55a3-11e7-b0b2-00163e9c0e35-2-f60b-133a",
       "next": "35c58340-55a3-11e7-b0b2-00163e9c0e35-2-c0ce-9618",
       "previous": "b0a33f46-98ce-11ea-8d02-0242ac120007-2-1e51-b1e8"
      },
      {
       "current": "35c581ba-55a3-11e7-b0b2-00163e9c0e35-2-f60b-133a",
       "next": "35c58340-55a3-11e7-b0b2-00163e9c0e35-2-c0ce-9618",
       "previous": "d0769ffa-98bc-11ea-8d02-0242ac120007-2-9994-0723"
      },
      {
       "current": "35c581ba-55a3-11e7-b0b2-00163e9c0e35-2-f60b-133a",
       "next": "35c58340-55a3-11e7-b0b2-00163e9c0e35-2-c0ce-9618",
       "previous": "bc16cb02-dfce-11eb-b29f-0242ac120008"
      },
      {
       "current": "35c581ba-55a3-11e7-b0b2-00163e9c0e35-2-f60b-133a",
       "next": "35c58340-55a3-11e7-b0b2-00163e9c0e35-2-c0ce-9618",
       "previous": "7cf7d994-f4ea-11eb-b29f-0242ac120008"
      },
      {
       "current": "35c581ba-55a3-11e7-b0b2-00163e9c0e35-2-f60b-133a",
       "next": "35c58340-55a3-11e7-b0b2-00163e9c0e35-2-c0ce-9618",
       "previous": "204647a2-f4eb-11eb-b29f-0242ac120008"
      },
      {
       "current": "35c581ba-55a3-11e7-b0b2-00163e9c0e35-2-f60b-133a",
       "next": "35c58340-55a3-11e7-b0b2-00163e9c0e35-2-c0ce-9618",
       "previous": "798c29c4-9a06-11ec-a1da-0242ac120004"
      },
      {
       "current": "35c581ba-55a3-11e7-b0b2-00163e9c0e35-3-f60b-133a-40ef",
       "next": "35c58340-55a3-11e7-b0b2-00163e9c0e35-2-c0ce-9618",
       "previous": "204647a2-f4eb-11eb-b29f-0242ac120008"
      },
      {
       "current": "35c581ba-55a3-11e7-b0b2-00163e9c0e35-3-f60b-133a-40ef",
       "next": "35c58340-55a3-11e7-b0b2-00163e9c0e35-3-c0ce-9618-7032",
       "previous": "204647a2-f4eb-11eb-b29f-0242ac120008-1-10f9"
      },
      {
       "current": "35c581ba-55a3-11e7-b0b2-00163e9c0e35-3-f60b-133a-40ef",
       "next": "35c58340-55a3-11e7-b0b2-00163e9c0e35-3-c0ce-9618-7032",
       "previous": "3c6cb112-4bb2-11ee-89fa-0242ac120005"
      },
      {
       "current": "35c581ba-55a3-11e7-b0b2-00163e9c0e35-3-f60b-133a-40ef",
       "next": "35c58340-55a3-11e7-b0b2-00163e9c0e35-3-c0ce-9618-7032",
       "previous": "d619a970-6195-11ee-89fa-0242ac120005"
      },
      {
       "current": "35c581ba-55a3-11e7-b0b2-00163e9c0e35-3-f60b-133a-40ef",
       "next": "35c58340-55a3-11e7-b0b2-00163e9c0e35-3-c0ce-9618-7032",
       "previous": "d954180a-61bd-11ee-89fa-0242ac120005"
      },
      {
       "current": "35c581ba-55a3-11e7-b0b2-00163e9c0e35-3-f60b-133a-40ef",
       "next": "35c58340-55a3-11e7-b0b2-00163e9c0e35-3-c0ce-9618-7032",
       "previous": "0fca55a2-6254-11ee-89fa-0242ac120005"
      },
      {
       "current": "35c581ba-55a3-11e7-b0b2-00163e9c0e35-3-f60b-133a-40ef",
       "next": "35c58340-55a3-11e7-b0b2-00163e9c0e35-3-c0ce-9618-7032",
       "previous": "43709838-6251-11ee-89fa-0242ac120005"
      },
      {
       "current": "35c581ba-55a3-11e7-b0b2-00163e9c0e35-4-f60b-133a-40ef-6941",
       "next": "35c58340-55a3-11e7-b0b2-00163e9c0e35-3-c0ce-9618-7032",
       "previous": "99604f30-81e2-11ee-91d3-0242ac120006"
      },
      {
       "current": "35c581ba-55a3-11e7-b0b2-00163e9c0e35-5-f60b-133a-40ef-6941-bb9b",
       "next": "35c58340-55a3-11e7-b0b2-00163e9c0e35-4-c0ce-9618-7032-61d7",
       "previous": "99604f30-81e2-11ee-91d3-0242ac120006-1-e1c3"
      },
      {
       "current": "35c581ba-55a3-11e7-b0b2-00163e9c0e35-6-f60b-133a-40ef-6941-bb9b-1d1d",
       "next": "35c58340-55a3-11e7-b0b2-00163e9c0e35-5-c0ce-9618-7032-61d7-9aac",
       "previous": "99604f30-81e2-11ee-91d3-0242ac120006-2-e1c3-f69f"
      },
      {
       "current": "35c581ba-55a3-11e7-b0b2-00163e9c0e35-7-f60b-133a-40ef-6941-bb9b-1d1d-0275",
       "next": "35c58340-55a3-11e7-b0b2-00163e9c0e35-6-c0ce-9618-7032-61d7-9aac-c9ee",
       "previous": "99604f30-81e2-11ee-91d3-0242ac120006-3-e1c3-f69f-b8d7"
      },
      {
       "current": "35c581ba-55a3-11e7-b0b2-00163e9c0e35-8-f60b-133a-40ef-6941-bb9b-1d1d-0275-60fd",
       "next": "35c58340-55a3-11e7-b0b2-00163e9c0e35-7-c0ce-9618-7032-61d7-9aac-c9ee-32d7",
       "previous": "99604f30-81e2-11ee-91d3-0242ac120006-4-e1c3-f69f-b8d7-8763"
      }
     ],
     "next": "35c58340-55a3-11e7-b0b2-00163e9c0e35-8-c0ce-9618-7032-61d7-9aac-c9ee-32d7-a8ea",
     "previous": "99604f30-81e2-11ee-91d3-0242ac120006-5-e1c3-f69f-b8d7-8763-bc20"
    }
   },
   "source": [
    "# 後始末\n",
    "\n",
    "一時ディレクトリを削除する。"
   ]
  },
  {
   "cell_type": "code",
   "execution_count": null,
   "metadata": {
    "ExecuteTime": {
     "end_time": "2017-06-29T08:01:20.617274Z",
     "start_time": "2017-06-29T08:01:20.466671Z"
    },
    "lc_cell_meme": {
     "current": "35c58340-55a3-11e7-b0b2-00163e9c0e35-8-c0ce-9618-7032-61d7-9aac-c9ee-32d7-a8ea",
     "history": [
      {
       "current": "35c58340-55a3-11e7-b0b2-00163e9c0e35",
       "next": null,
       "previous": "35c581ba-55a3-11e7-b0b2-00163e9c0e35"
      },
      {
       "current": "35c58340-55a3-11e7-b0b2-00163e9c0e35-1-c0ce",
       "next": "c4bd8ce4-5749-11e7-b0b2-00163e9c0e35",
       "previous": "35c581ba-55a3-11e7-b0b2-00163e9c0e35"
      },
      {
       "current": "35c58340-55a3-11e7-b0b2-00163e9c0e35-2-c0ce-9618",
       "next": "c4bd8ce4-5749-11e7-b0b2-00163e9c0e35-1-6c35",
       "previous": "35c581ba-55a3-11e7-b0b2-00163e9c0e35-1-f60b"
      },
      {
       "current": "35c58340-55a3-11e7-b0b2-00163e9c0e35-3-c0ce-9618-7032",
       "next": "c4bd8ce4-5749-11e7-b0b2-00163e9c0e35-2-6c35-ebfb",
       "previous": "35c581ba-55a3-11e7-b0b2-00163e9c0e35-2-f60b-133a"
      },
      {
       "current": "35c58340-55a3-11e7-b0b2-00163e9c0e35-4-c0ce-9618-7032-61d7",
       "next": "c4bd8ce4-5749-11e7-b0b2-00163e9c0e35-3-6c35-ebfb-793f",
       "previous": "35c581ba-55a3-11e7-b0b2-00163e9c0e35-3-f60b-133a-40ef"
      },
      {
       "current": "35c58340-55a3-11e7-b0b2-00163e9c0e35-5-c0ce-9618-7032-61d7-9aac",
       "next": "c4bd8ce4-5749-11e7-b0b2-00163e9c0e35-4-6c35-ebfb-793f-49da",
       "previous": "35c581ba-55a3-11e7-b0b2-00163e9c0e35-4-f60b-133a-40ef-6941"
      },
      {
       "current": "35c58340-55a3-11e7-b0b2-00163e9c0e35-6-c0ce-9618-7032-61d7-9aac-c9ee",
       "next": "c4bd8ce4-5749-11e7-b0b2-00163e9c0e35-5-6c35-ebfb-793f-49da-d16d",
       "previous": "35c581ba-55a3-11e7-b0b2-00163e9c0e35-5-f60b-133a-40ef-6941-bb9b"
      },
      {
       "current": "35c58340-55a3-11e7-b0b2-00163e9c0e35-7-c0ce-9618-7032-61d7-9aac-c9ee-32d7",
       "next": "c4bd8ce4-5749-11e7-b0b2-00163e9c0e35-6-6c35-ebfb-793f-49da-d16d-e6c6",
       "previous": "35c581ba-55a3-11e7-b0b2-00163e9c0e35-6-f60b-133a-40ef-6941-bb9b-1d1d"
      },
      {
       "current": "35c58340-55a3-11e7-b0b2-00163e9c0e35-8-c0ce-9618-7032-61d7-9aac-c9ee-32d7-a8ea",
       "next": "c4bd8ce4-5749-11e7-b0b2-00163e9c0e35-7-6c35-ebfb-793f-49da-d16d-e6c6-42f0",
       "previous": "35c581ba-55a3-11e7-b0b2-00163e9c0e35-7-f60b-133a-40ef-6941-bb9b-1d1d-0275"
      }
     ],
     "next": "c4bd8ce4-5749-11e7-b0b2-00163e9c0e35-8-6c35-ebfb-793f-49da-d16d-e6c6-42f0-864b",
     "previous": "35c581ba-55a3-11e7-b0b2-00163e9c0e35-8-f60b-133a-40ef-6941-bb9b-1d1d-0275-60fd"
    }
   },
   "outputs": [],
   "source": [
    "!rm -fr $temp_dir"
   ]
  },
  {
   "cell_type": "code",
   "execution_count": null,
   "metadata": {
    "lc_cell_meme": {
     "current": "c4bd8ce4-5749-11e7-b0b2-00163e9c0e35-8-6c35-ebfb-793f-49da-d16d-e6c6-42f0-864b",
     "history": [
      {
       "current": "c4bd8ce4-5749-11e7-b0b2-00163e9c0e35-1-6c35",
       "next": null,
       "previous": "35c58340-55a3-11e7-b0b2-00163e9c0e35"
      },
      {
       "current": "c4bd8ce4-5749-11e7-b0b2-00163e9c0e35-2-6c35-ebfb",
       "next": null,
       "previous": "35c58340-55a3-11e7-b0b2-00163e9c0e35-1-c0ce"
      },
      {
       "current": "c4bd8ce4-5749-11e7-b0b2-00163e9c0e35-3-6c35-ebfb-793f",
       "next": null,
       "previous": "35c58340-55a3-11e7-b0b2-00163e9c0e35-2-c0ce-9618"
      },
      {
       "current": "c4bd8ce4-5749-11e7-b0b2-00163e9c0e35-4-6c35-ebfb-793f-49da",
       "next": null,
       "previous": "35c58340-55a3-11e7-b0b2-00163e9c0e35-3-c0ce-9618-7032"
      },
      {
       "current": "c4bd8ce4-5749-11e7-b0b2-00163e9c0e35-5-6c35-ebfb-793f-49da-d16d",
       "next": null,
       "previous": "35c58340-55a3-11e7-b0b2-00163e9c0e35-4-c0ce-9618-7032-61d7"
      },
      {
       "current": "c4bd8ce4-5749-11e7-b0b2-00163e9c0e35-6-6c35-ebfb-793f-49da-d16d-e6c6",
       "next": null,
       "previous": "35c58340-55a3-11e7-b0b2-00163e9c0e35-5-c0ce-9618-7032-61d7-9aac"
      },
      {
       "current": "c4bd8ce4-5749-11e7-b0b2-00163e9c0e35-7-6c35-ebfb-793f-49da-d16d-e6c6-42f0",
       "next": null,
       "previous": "35c58340-55a3-11e7-b0b2-00163e9c0e35-6-c0ce-9618-7032-61d7-9aac-c9ee"
      },
      {
       "current": "c4bd8ce4-5749-11e7-b0b2-00163e9c0e35-8-6c35-ebfb-793f-49da-d16d-e6c6-42f0-864b",
       "next": null,
       "previous": "35c58340-55a3-11e7-b0b2-00163e9c0e35-7-c0ce-9618-7032-61d7-9aac-c9ee-32d7"
      }
     ],
     "next": null,
     "previous": "35c58340-55a3-11e7-b0b2-00163e9c0e35-8-c0ce-9618-7032-61d7-9aac-c9ee-32d7-a8ea"
    }
   },
   "outputs": [],
   "source": []
  }
 ],
 "metadata": {
  "kernelspec": {
   "display_name": "Python 3",
   "language": "python",
   "name": "python3"
  },
  "language_info": {
   "file_extension": ".py",
   "mimetype": "text/x-python",
   "name": "python",
   "nbconvert_exporter": "python",
   "pygments_lexer": "ipython3",
   "version": "3.10.4"
  },
  "lc_notebook_meme": {
   "current": "35c33086-55a3-11e7-b0b2-00163e9c0e35"
  },
  "toc": {
   "base_numbering": 1,
   "nav_menu": {
    "height": "484px",
    "width": "687px"
   },
   "number_sections": true,
   "sideBar": true,
   "skip_h1_title": false,
   "title_cell": "Table of Contents",
   "title_sidebar": "Contents",
   "toc_cell": false,
   "toc_position": {
    "height": "1156px",
    "left": "0px",
    "right": "1330px",
    "top": "106px",
    "width": "340.983px"
   },
   "toc_section_display": "block",
   "toc_window_display": true
  }
 },
 "nbformat": 4,
 "nbformat_minor": 1
}
