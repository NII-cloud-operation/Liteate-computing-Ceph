{
 "cells": [
  {
   "cell_type": "markdown",
   "metadata": {
    "collapsed": true,
    "lc_cell_meme": {
     "current": "35c33414-55a3-11e7-b0b2-00163e9c0e35-8-ffee-ac17-9684-80f7-caf4-0906-1841-d13e",
     "history": [
      {
       "current": "35c33414-55a3-11e7-b0b2-00163e9c0e35",
       "next": "35c33626-55a3-11e7-b0b2-00163e9c0e35",
       "previous": null
      },
      {
       "current": "35c33414-55a3-11e7-b0b2-00163e9c0e35",
       "next": "35c33626-55a3-11e7-b0b2-00163e9c0e35",
       "previous": null
      },
      {
       "current": "35c33414-55a3-11e7-b0b2-00163e9c0e35",
       "next": "35c33626-55a3-11e7-b0b2-00163e9c0e35",
       "previous": "0db87670-9586-11ea-8d02-0242ac120007"
      },
      {
       "current": "35c33414-55a3-11e7-b0b2-00163e9c0e35-1-ffee",
       "next": "35c337f2-55a3-11e7-b0b2-00163e9c0e35",
       "previous": null
      },
      {
       "current": "35c33414-55a3-11e7-b0b2-00163e9c0e35-2-ffee-ac17",
       "next": "35c337f2-55a3-11e7-b0b2-00163e9c0e35-1-b874",
       "previous": null
      },
      {
       "current": "35c33414-55a3-11e7-b0b2-00163e9c0e35-3-ffee-ac17-9684",
       "next": "35c337f2-55a3-11e7-b0b2-00163e9c0e35-2-b874-13f7",
       "previous": null
      },
      {
       "current": "35c33414-55a3-11e7-b0b2-00163e9c0e35-4-ffee-ac17-9684-80f7",
       "next": "35c337f2-55a3-11e7-b0b2-00163e9c0e35-3-b874-13f7-3f47",
       "previous": null
      },
      {
       "current": "35c33414-55a3-11e7-b0b2-00163e9c0e35-5-ffee-ac17-9684-80f7-caf4",
       "next": "35c339aa-55a3-11e7-b0b2-00163e9c0e35-4-eee2-af6c-3cfe-3862",
       "previous": null
      },
      {
       "current": "35c33414-55a3-11e7-b0b2-00163e9c0e35-6-ffee-ac17-9684-80f7-caf4-0906",
       "next": "35c339aa-55a3-11e7-b0b2-00163e9c0e35-5-eee2-af6c-3cfe-3862-f081",
       "previous": null
      },
      {
       "current": "35c33414-55a3-11e7-b0b2-00163e9c0e35-7-ffee-ac17-9684-80f7-caf4-0906-1841",
       "next": "35c339aa-55a3-11e7-b0b2-00163e9c0e35-6-eee2-af6c-3cfe-3862-f081-ad48",
       "previous": null
      },
      {
       "current": "35c33414-55a3-11e7-b0b2-00163e9c0e35-8-ffee-ac17-9684-80f7-caf4-0906-1841-d13e",
       "next": "35c339aa-55a3-11e7-b0b2-00163e9c0e35-7-eee2-af6c-3cfe-3862-f081-ad48-796b",
       "previous": null
      }
     ],
     "next": "35c339aa-55a3-11e7-b0b2-00163e9c0e35-8-eee2-af6c-3cfe-3862-f081-ad48-796b-b88d",
     "previous": null
    }
   },
   "source": [
    "# Cephノード構築：cephadm ホスト情報登録\n",
    "ホスト情報登録"
   ]
  },
  {
   "cell_type": "markdown",
   "metadata": {
    "lc_cell_meme": {
     "current": "35c339aa-55a3-11e7-b0b2-00163e9c0e35-8-eee2-af6c-3cfe-3862-f081-ad48-796b-b88d",
     "history": [
      {
       "current": "35c339aa-55a3-11e7-b0b2-00163e9c0e35",
       "next": "35c33b6c-55a3-11e7-b0b2-00163e9c0e35",
       "previous": "35c337f2-55a3-11e7-b0b2-00163e9c0e35"
      },
      {
       "current": "35c339aa-55a3-11e7-b0b2-00163e9c0e35",
       "next": "670888aa-5722-11e7-b0b2-00163e9c0e35",
       "previous": "35c337f2-55a3-11e7-b0b2-00163e9c0e35"
      },
      {
       "current": "35c339aa-55a3-11e7-b0b2-00163e9c0e35",
       "next": "670888aa-5722-11e7-b0b2-00163e9c0e35",
       "previous": "357fc83a-969d-11ea-8d02-0242ac120007"
      },
      {
       "current": "35c339aa-55a3-11e7-b0b2-00163e9c0e35-1-eee2",
       "next": "670888aa-5722-11e7-b0b2-00163e9c0e35",
       "previous": "8a48dae0-98a1-11ea-8d02-0242ac120007"
      },
      {
       "current": "35c339aa-55a3-11e7-b0b2-00163e9c0e35-2-eee2-af6c",
       "next": "670888aa-5722-11e7-b0b2-00163e9c0e35-1-17ba",
       "previous": "8a48dae0-98a1-11ea-8d02-0242ac120007-1-4da2"
      },
      {
       "current": "35c339aa-55a3-11e7-b0b2-00163e9c0e35-2-eee2-af6c",
       "next": "670888aa-5722-11e7-b0b2-00163e9c0e35-2-17ba-53fc",
       "previous": "8a48dae0-98a1-11ea-8d02-0242ac120007-2-4da2-9c77"
      },
      {
       "current": "35c339aa-55a3-11e7-b0b2-00163e9c0e35-3-eee2-af6c-3cfe",
       "next": "670888aa-5722-11e7-b0b2-00163e9c0e35-2-17ba-53fc",
       "previous": "35c337f2-55a3-11e7-b0b2-00163e9c0e35-2-b874-13f7"
      },
      {
       "current": "35c339aa-55a3-11e7-b0b2-00163e9c0e35-4-eee2-af6c-3cfe-3862",
       "next": "670888aa-5722-11e7-b0b2-00163e9c0e35-3-17ba-53fc-2957",
       "previous": "35c337f2-55a3-11e7-b0b2-00163e9c0e35-3-b874-13f7-3f47"
      },
      {
       "current": "35c339aa-55a3-11e7-b0b2-00163e9c0e35-5-eee2-af6c-3cfe-3862-f081",
       "next": "670888aa-5722-11e7-b0b2-00163e9c0e35-4-17ba-53fc-2957-646a",
       "previous": "35c33414-55a3-11e7-b0b2-00163e9c0e35-4-ffee-ac17-9684-80f7"
      },
      {
       "current": "35c339aa-55a3-11e7-b0b2-00163e9c0e35-6-eee2-af6c-3cfe-3862-f081-ad48",
       "next": "670888aa-5722-11e7-b0b2-00163e9c0e35-5-17ba-53fc-2957-646a-d638",
       "previous": "35c33414-55a3-11e7-b0b2-00163e9c0e35-5-ffee-ac17-9684-80f7-caf4"
      },
      {
       "current": "35c339aa-55a3-11e7-b0b2-00163e9c0e35-7-eee2-af6c-3cfe-3862-f081-ad48-796b",
       "next": "670888aa-5722-11e7-b0b2-00163e9c0e35-6-17ba-53fc-2957-646a-d638-ce6b",
       "previous": "35c33414-55a3-11e7-b0b2-00163e9c0e35-6-ffee-ac17-9684-80f7-caf4-0906"
      },
      {
       "current": "35c339aa-55a3-11e7-b0b2-00163e9c0e35-8-eee2-af6c-3cfe-3862-f081-ad48-796b-b88d",
       "next": "670888aa-5722-11e7-b0b2-00163e9c0e35-7-17ba-53fc-2957-646a-d638-ce6b-d1bf",
       "previous": "35c33414-55a3-11e7-b0b2-00163e9c0e35-7-ffee-ac17-9684-80f7-caf4-0906-1841"
      }
     ],
     "next": "670888aa-5722-11e7-b0b2-00163e9c0e35-8-17ba-53fc-2957-646a-d638-ce6b-d1bf-b799",
     "previous": "35c33414-55a3-11e7-b0b2-00163e9c0e35-8-ffee-ac17-9684-80f7-caf4-0906-1841-d13e"
    }
   },
   "source": [
    "# パラメータ定義"
   ]
  },
  {
   "cell_type": "markdown",
   "metadata": {
    "lc_cell_meme": {
     "current": "670888aa-5722-11e7-b0b2-00163e9c0e35-8-17ba-53fc-2957-646a-d638-ce6b-d1bf-b799",
     "history": [
      {
       "current": "670888aa-5722-11e7-b0b2-00163e9c0e35-1-17ba",
       "next": "35c33b6c-55a3-11e7-b0b2-00163e9c0e35",
       "previous": "35c339aa-55a3-11e7-b0b2-00163e9c0e35"
      },
      {
       "current": "670888aa-5722-11e7-b0b2-00163e9c0e35-2-17ba-53fc",
       "next": "35c33b6c-55a3-11e7-b0b2-00163e9c0e35-1-c84d",
       "previous": "35c339aa-55a3-11e7-b0b2-00163e9c0e35-1-eee2"
      },
      {
       "current": "670888aa-5722-11e7-b0b2-00163e9c0e35-3-17ba-53fc-2957",
       "next": "35c33b6c-55a3-11e7-b0b2-00163e9c0e35-2-c84d-3439",
       "previous": "35c339aa-55a3-11e7-b0b2-00163e9c0e35-2-eee2-af6c"
      },
      {
       "current": "670888aa-5722-11e7-b0b2-00163e9c0e35-4-17ba-53fc-2957-646a",
       "next": "35c33b6c-55a3-11e7-b0b2-00163e9c0e35-3-c84d-3439-eddb",
       "previous": "35c339aa-55a3-11e7-b0b2-00163e9c0e35-3-eee2-af6c-3cfe"
      },
      {
       "current": "670888aa-5722-11e7-b0b2-00163e9c0e35-5-17ba-53fc-2957-646a-d638",
       "next": "35c33b6c-55a3-11e7-b0b2-00163e9c0e35-4-c84d-3439-eddb-a063",
       "previous": "35c339aa-55a3-11e7-b0b2-00163e9c0e35-4-eee2-af6c-3cfe-3862"
      },
      {
       "current": "670888aa-5722-11e7-b0b2-00163e9c0e35-6-17ba-53fc-2957-646a-d638-ce6b",
       "next": "35c33b6c-55a3-11e7-b0b2-00163e9c0e35-5-c84d-3439-eddb-a063-a4d7",
       "previous": "35c339aa-55a3-11e7-b0b2-00163e9c0e35-5-eee2-af6c-3cfe-3862-f081"
      },
      {
       "current": "670888aa-5722-11e7-b0b2-00163e9c0e35-7-17ba-53fc-2957-646a-d638-ce6b-d1bf",
       "next": "a561f5b6-1d75-11ef-ad2f-0242ac120005",
       "previous": "35c339aa-55a3-11e7-b0b2-00163e9c0e35-6-eee2-af6c-3cfe-3862-f081-ad48"
      },
      {
       "current": "670888aa-5722-11e7-b0b2-00163e9c0e35-8-17ba-53fc-2957-646a-d638-ce6b-d1bf-b799",
       "next": "a561f5b6-1d75-11ef-ad2f-0242ac120005-1-13da",
       "previous": "35c339aa-55a3-11e7-b0b2-00163e9c0e35-7-eee2-af6c-3cfe-3862-f081-ad48-796b"
      }
     ],
     "next": "a561f5b6-1d75-11ef-ad2f-0242ac120005-2-13da-da09",
     "previous": "35c339aa-55a3-11e7-b0b2-00163e9c0e35-8-eee2-af6c-3cfe-3862-f081-ad48-796b-b88d"
    }
   },
   "source": [
    "## パラメータファイル設定"
   ]
  },
  {
   "cell_type": "code",
   "execution_count": null,
   "metadata": {
    "lc_cell_meme": {
     "current": "a561f5b6-1d75-11ef-ad2f-0242ac120005-2-13da-da09",
     "history": [
      {
       "current": "a561f5b6-1d75-11ef-ad2f-0242ac120005-1-13da",
       "next": "a561f728-1d75-11ef-ad2f-0242ac120005",
       "previous": "670888aa-5722-11e7-b0b2-00163e9c0e35-6-17ba-53fc-2957-646a-d638-ce6b"
      },
      {
       "current": "a561f5b6-1d75-11ef-ad2f-0242ac120005-2-13da-da09",
       "next": "a561f728-1d75-11ef-ad2f-0242ac120005-1-4c0d",
       "previous": "670888aa-5722-11e7-b0b2-00163e9c0e35-7-17ba-53fc-2957-646a-d638-ce6b-d1bf"
      }
     ],
     "next": "a561f728-1d75-11ef-ad2f-0242ac120005-2-4c0d-fb7c",
     "previous": "670888aa-5722-11e7-b0b2-00163e9c0e35-8-17ba-53fc-2957-646a-d638-ce6b-d1bf-b799"
    }
   },
   "outputs": [],
   "source": [
    "!ls -p ~/notebooks/share/ | grep \"/$\""
   ]
  },
  {
   "cell_type": "code",
   "execution_count": null,
   "metadata": {
    "lc_cell_meme": {
     "current": "a561f728-1d75-11ef-ad2f-0242ac120005-2-4c0d-fb7c",
     "history": [
      {
       "current": "a561f728-1d75-11ef-ad2f-0242ac120005-1-4c0d",
       "next": "a561f76e-1d75-11ef-ad2f-0242ac120005",
       "previous": "a561f5b6-1d75-11ef-ad2f-0242ac120005"
      },
      {
       "current": "a561f728-1d75-11ef-ad2f-0242ac120005-2-4c0d-fb7c",
       "next": "a561f76e-1d75-11ef-ad2f-0242ac120005-1-3016",
       "previous": "a561f5b6-1d75-11ef-ad2f-0242ac120005-1-13da"
      }
     ],
     "next": "a561f76e-1d75-11ef-ad2f-0242ac120005-2-3016-ff5b",
     "previous": "a561f5b6-1d75-11ef-ad2f-0242ac120005-2-13da-da09"
    }
   },
   "outputs": [],
   "source": [
    "!ls -p ~/notebooks/share/configuration"
   ]
  },
  {
   "cell_type": "code",
   "execution_count": null,
   "metadata": {
    "lc_cell_meme": {
     "current": "a561f76e-1d75-11ef-ad2f-0242ac120005-2-3016-ff5b",
     "history": [
      {
       "current": "a561f76e-1d75-11ef-ad2f-0242ac120005-1-3016",
       "next": "a561f796-1d75-11ef-ad2f-0242ac120005",
       "previous": "a561f728-1d75-11ef-ad2f-0242ac120005"
      },
      {
       "current": "a561f76e-1d75-11ef-ad2f-0242ac120005-2-3016-ff5b",
       "next": "a561f796-1d75-11ef-ad2f-0242ac120005-1-0681",
       "previous": "a561f728-1d75-11ef-ad2f-0242ac120005-1-4c0d"
      }
     ],
     "next": "a561f796-1d75-11ef-ad2f-0242ac120005-2-0681-124b",
     "previous": "a561f728-1d75-11ef-ad2f-0242ac120005-2-4c0d-fb7c"
    }
   },
   "outputs": [],
   "source": [
    "!ls -p ~/notebooks/share/configuration/ceph"
   ]
  },
  {
   "cell_type": "code",
   "execution_count": null,
   "metadata": {
    "lc_cell_meme": {
     "current": "a561f796-1d75-11ef-ad2f-0242ac120005-2-0681-124b",
     "history": [
      {
       "current": "a561f796-1d75-11ef-ad2f-0242ac120005-1-0681",
       "next": "a561f7be-1d75-11ef-ad2f-0242ac120005",
       "previous": "a561f76e-1d75-11ef-ad2f-0242ac120005"
      },
      {
       "current": "a561f796-1d75-11ef-ad2f-0242ac120005-2-0681-124b",
       "next": "a561f7be-1d75-11ef-ad2f-0242ac120005-1-9a46",
       "previous": "a561f76e-1d75-11ef-ad2f-0242ac120005-1-3016"
      }
     ],
     "next": "a561f7be-1d75-11ef-ad2f-0242ac120005-2-9a46-792e",
     "previous": "a561f76e-1d75-11ef-ad2f-0242ac120005-2-3016-ff5b"
    }
   },
   "outputs": [],
   "source": [
    "import sys, os.path, importlib, json, yaml\n",
    "\n",
    "config_file_name = \"ceph_admin_vm.yml\"\n",
    "config_file_path = os.path.expanduser(\"~/notebooks/share/configuration/ceph/{}\".format(config_file_name))\n",
    "with open(config_file_path) as f:\n",
    "    admin_params = yaml.safe_load(f)\n",
    "admin_params"
   ]
  },
  {
   "cell_type": "code",
   "execution_count": null,
   "metadata": {
    "lc_cell_meme": {
     "current": "a561f7be-1d75-11ef-ad2f-0242ac120005-2-9a46-792e",
     "history": [
      {
       "current": "a561f7be-1d75-11ef-ad2f-0242ac120005-1-9a46",
       "next": "a561f7f0-1d75-11ef-ad2f-0242ac120005",
       "previous": "a561f796-1d75-11ef-ad2f-0242ac120005"
      },
      {
       "current": "a561f7be-1d75-11ef-ad2f-0242ac120005-2-9a46-792e",
       "next": "a561f7f0-1d75-11ef-ad2f-0242ac120005-1-4000",
       "previous": "a561f796-1d75-11ef-ad2f-0242ac120005-1-0681"
      }
     ],
     "next": "a561f7f0-1d75-11ef-ad2f-0242ac120005-2-4000-4e36",
     "previous": "a561f796-1d75-11ef-ad2f-0242ac120005-2-0681-124b"
    }
   },
   "outputs": [],
   "source": [
    "target_vm_name = 'xxx-ceph-admin1'\n",
    "admin_patam = admin_params[target_vm_name]\n",
    "admin_patam"
   ]
  },
  {
   "cell_type": "code",
   "execution_count": null,
   "metadata": {
    "lc_cell_meme": {
     "current": "a561f7f0-1d75-11ef-ad2f-0242ac120005-2-4000-4e36",
     "history": [
      {
       "current": "a561f7f0-1d75-11ef-ad2f-0242ac120005-1-4000",
       "next": "a561f818-1d75-11ef-ad2f-0242ac120005",
       "previous": "a561f7be-1d75-11ef-ad2f-0242ac120005"
      },
      {
       "current": "a561f7f0-1d75-11ef-ad2f-0242ac120005-2-4000-4e36",
       "next": "a561f818-1d75-11ef-ad2f-0242ac120005-1-2916",
       "previous": "a561f7be-1d75-11ef-ad2f-0242ac120005-1-9a46"
      }
     ],
     "next": "a561f818-1d75-11ef-ad2f-0242ac120005-2-2916-fadb",
     "previous": "a561f7be-1d75-11ef-ad2f-0242ac120005-2-9a46-792e"
    }
   },
   "outputs": [],
   "source": [
    "ceph_admin_ip = admin_patam['network']['provisioning']['ip']"
   ]
  },
  {
   "cell_type": "code",
   "execution_count": null,
   "metadata": {
    "lc_cell_meme": {
     "current": "a561f818-1d75-11ef-ad2f-0242ac120005-2-2916-fadb",
     "history": [
      {
       "current": "a561f818-1d75-11ef-ad2f-0242ac120005-1-2916",
       "next": "a561f944-1d75-11ef-ad2f-0242ac120005",
       "previous": "a561f7f0-1d75-11ef-ad2f-0242ac120005"
      },
      {
       "current": "a561f818-1d75-11ef-ad2f-0242ac120005-2-2916-fadb",
       "next": "a561f944-1d75-11ef-ad2f-0242ac120005-1-274f",
       "previous": "a561f7f0-1d75-11ef-ad2f-0242ac120005-1-4000"
      }
     ],
     "next": "a561f944-1d75-11ef-ad2f-0242ac120005-2-274f-d40e",
     "previous": "a561f7f0-1d75-11ef-ad2f-0242ac120005-2-4000-4e36"
    }
   },
   "outputs": [],
   "source": [
    "import sys, os.path, importlib, json, yaml\n",
    "\n",
    "config_file_name = \"xxx-openstack-parameter.yml\"\n",
    "config_file_path = os.path.expanduser(\"~/notebooks/share/configuration/{}\".format(config_file_name))\n",
    "with open(config_file_path) as f:\n",
    "    params = yaml.safe_load(f)\n",
    "params"
   ]
  },
  {
   "cell_type": "code",
   "execution_count": null,
   "metadata": {
    "lc_cell_meme": {
     "current": "a561f944-1d75-11ef-ad2f-0242ac120005-2-274f-d40e",
     "history": [
      {
       "current": "a561f944-1d75-11ef-ad2f-0242ac120005-1-274f",
       "next": "a561f96c-1d75-11ef-ad2f-0242ac120005",
       "previous": "a561f818-1d75-11ef-ad2f-0242ac120005"
      },
      {
       "current": "a561f944-1d75-11ef-ad2f-0242ac120005-2-274f-d40e",
       "next": "a561f96c-1d75-11ef-ad2f-0242ac120005-1-8c9d",
       "previous": "a561f818-1d75-11ef-ad2f-0242ac120005-1-2916"
      }
     ],
     "next": "a561f96c-1d75-11ef-ad2f-0242ac120005-2-8c9d-a957",
     "previous": "a561f818-1d75-11ef-ad2f-0242ac120005-2-2916-fadb"
    }
   },
   "outputs": [],
   "source": [
    "repo_server = params['repository']['addresses']['service_operation']\n",
    "repo_server"
   ]
  },
  {
   "cell_type": "code",
   "execution_count": null,
   "metadata": {
    "lc_cell_meme": {
     "current": "a561f96c-1d75-11ef-ad2f-0242ac120005-2-8c9d-a957",
     "history": [
      {
       "current": "a561f96c-1d75-11ef-ad2f-0242ac120005-1-8c9d",
       "next": "a561f99e-1d75-11ef-ad2f-0242ac120005",
       "previous": "a561f944-1d75-11ef-ad2f-0242ac120005"
      },
      {
       "current": "a561f96c-1d75-11ef-ad2f-0242ac120005-2-8c9d-a957",
       "next": "a561f99e-1d75-11ef-ad2f-0242ac120005-1-b94b",
       "previous": "a561f944-1d75-11ef-ad2f-0242ac120005-1-274f"
      }
     ],
     "next": "a561f99e-1d75-11ef-ad2f-0242ac120005-2-b94b-3f39",
     "previous": "a561f944-1d75-11ef-ad2f-0242ac120005-2-274f-d40e"
    }
   },
   "outputs": [],
   "source": [
    "provisioning_vip = params['openstack']['provisioning_vip']\n",
    "provisioning_vip"
   ]
  },
  {
   "cell_type": "code",
   "execution_count": null,
   "metadata": {
    "lc_cell_meme": {
     "current": "a561f99e-1d75-11ef-ad2f-0242ac120005-2-b94b-3f39",
     "history": [
      {
       "current": "a561f99e-1d75-11ef-ad2f-0242ac120005-1-b94b",
       "next": "bf249b06-98af-11ea-8d02-0242ac120007-6-1e49-e772-9042-3262-0c2f-854c",
       "previous": "a561f96c-1d75-11ef-ad2f-0242ac120005"
      },
      {
       "current": "a561f99e-1d75-11ef-ad2f-0242ac120005-2-b94b-3f39",
       "next": "bf249b06-98af-11ea-8d02-0242ac120007-7-1e49-e772-9042-3262-0c2f-854c-c44a",
       "previous": "a561f96c-1d75-11ef-ad2f-0242ac120005-1-8c9d"
      }
     ],
     "next": "bf249b06-98af-11ea-8d02-0242ac120007-8-1e49-e772-9042-3262-0c2f-854c-c44a-d1f0",
     "previous": "a561f96c-1d75-11ef-ad2f-0242ac120005-2-8c9d-a957"
    }
   },
   "outputs": [],
   "source": [
    "network_segment_controller_vip = params['network_segment_controller_vip']\n",
    "network_segment_controller_vip"
   ]
  },
  {
   "cell_type": "markdown",
   "metadata": {
    "lc_cell_meme": {
     "current": "bf249b06-98af-11ea-8d02-0242ac120007-8-1e49-e772-9042-3262-0c2f-854c-c44a-d1f0",
     "history": [
      {
       "current": "bf249b06-98af-11ea-8d02-0242ac120007",
       "next": "d1bcb8ac-9599-11ea-8d02-0242ac120007",
       "previous": "7dae8996-9686-11ea-8d02-0242ac120007"
      },
      {
       "current": "bf249b06-98af-11ea-8d02-0242ac120007-1-1e49",
       "next": "dd8e3cbc-98f2-11ea-8d02-0242ac120007",
       "previous": "7dae8996-9686-11ea-8d02-0242ac120007"
      },
      {
       "current": "bf249b06-98af-11ea-8d02-0242ac120007-2-1e49-e772",
       "next": "dd8e3cbc-98f2-11ea-8d02-0242ac120007-1-706a",
       "previous": "7dae8996-9686-11ea-8d02-0242ac120007-1-20c5"
      },
      {
       "current": "bf249b06-98af-11ea-8d02-0242ac120007-2-1e49-e772",
       "next": "dd8e3cbc-98f2-11ea-8d02-0242ac120007-2-706a-309d",
       "previous": "7dae8996-9686-11ea-8d02-0242ac120007-2-20c5-a0b0"
      },
      {
       "current": "bf249b06-98af-11ea-8d02-0242ac120007-2-1e49-e772",
       "next": "dd8e3cbc-98f2-11ea-8d02-0242ac120007-2-706a-309d",
       "previous": "1afe76e2-def8-11eb-b29f-0242ac120008"
      },
      {
       "current": "bf249b06-98af-11ea-8d02-0242ac120007-2-1e49-e772",
       "next": "d1bcb8ac-9599-11ea-8d02-0242ac120007-2-ec95-2870",
       "previous": "1afe76e2-def8-11eb-b29f-0242ac120008"
      },
      {
       "current": "bf249b06-98af-11ea-8d02-0242ac120007-2-1e49-e772",
       "next": "d1bcb8ac-9599-11ea-8d02-0242ac120007-2-ec95-2870",
       "previous": "445f36bc-def7-11eb-b29f-0242ac120008"
      },
      {
       "current": "bf249b06-98af-11ea-8d02-0242ac120007-3-1e49-e772-9042",
       "next": "d1bcb8ac-9599-11ea-8d02-0242ac120007-2-ec95-2870",
       "previous": "17dd310e-deff-11eb-b29f-0242ac120008"
      },
      {
       "current": "bf249b06-98af-11ea-8d02-0242ac120007-4-1e49-e772-9042-3262",
       "next": "d1bcb8ac-9599-11ea-8d02-0242ac120007-3-ec95-2870-3f6b",
       "previous": "17dd310e-deff-11eb-b29f-0242ac120008-1-9f34"
      },
      {
       "current": "bf249b06-98af-11ea-8d02-0242ac120007-5-1e49-e772-9042-3262-0c2f",
       "next": "d1bcb8ac-9599-11ea-8d02-0242ac120007-4-ec95-2870-3f6b-89b1",
       "previous": "17dd310e-deff-11eb-b29f-0242ac120008-2-9f34-723c"
      },
      {
       "current": "bf249b06-98af-11ea-8d02-0242ac120007-6-1e49-e772-9042-3262-0c2f-854c",
       "next": "d1bcb8ac-9599-11ea-8d02-0242ac120007-5-ec95-2870-3f6b-89b1-379b",
       "previous": "17dd310e-deff-11eb-b29f-0242ac120008-3-9f34-723c-7020"
      },
      {
       "current": "bf249b06-98af-11ea-8d02-0242ac120007-7-1e49-e772-9042-3262-0c2f-854c-c44a",
       "next": "d1bcb8ac-9599-11ea-8d02-0242ac120007-6-ec95-2870-3f6b-89b1-379b-441e",
       "previous": "a561f99e-1d75-11ef-ad2f-0242ac120005"
      },
      {
       "current": "bf249b06-98af-11ea-8d02-0242ac120007-8-1e49-e772-9042-3262-0c2f-854c-c44a-d1f0",
       "next": "d1bcb8ac-9599-11ea-8d02-0242ac120007-7-ec95-2870-3f6b-89b1-379b-441e-1617",
       "previous": "a561f99e-1d75-11ef-ad2f-0242ac120005-1-b94b"
      }
     ],
     "next": "d1bcb8ac-9599-11ea-8d02-0242ac120007-8-ec95-2870-3f6b-89b1-379b-441e-1617-9e7e",
     "previous": "a561f99e-1d75-11ef-ad2f-0242ac120005-2-b94b-3f39"
    }
   },
   "source": [
    "## CephノードとストレージセグメントIPアドレス対応表の読み込み"
   ]
  },
  {
   "cell_type": "code",
   "execution_count": null,
   "metadata": {
    "lc_cell_meme": {
     "current": "d1bcb8ac-9599-11ea-8d02-0242ac120007-8-ec95-2870-3f6b-89b1-379b-441e-1617-9e7e",
     "history": [
      {
       "current": "d1bcb8ac-9599-11ea-8d02-0242ac120007",
       "next": "d1bcba78-9599-11ea-8d02-0242ac120007",
       "previous": "d1bcb5c8-9599-11ea-8d02-0242ac120007"
      },
      {
       "current": "d1bcb8ac-9599-11ea-8d02-0242ac120007",
       "next": "d1bcba78-9599-11ea-8d02-0242ac120007",
       "previous": "a85c1dda-959a-11ea-8d02-0242ac120007"
      },
      {
       "current": "d1bcb8ac-9599-11ea-8d02-0242ac120007",
       "next": "81dd4f74-9597-11ea-8d02-0242ac120007",
       "previous": "a85c1dda-959a-11ea-8d02-0242ac120007"
      },
      {
       "current": "d1bcb8ac-9599-11ea-8d02-0242ac120007",
       "next": "e879cdac-95bf-11ea-8d02-0242ac120007",
       "previous": "a85c1dda-959a-11ea-8d02-0242ac120007"
      },
      {
       "current": "d1bcb8ac-9599-11ea-8d02-0242ac120007",
       "next": "7899411a-9692-11ea-8d02-0242ac120007",
       "previous": "bf249b06-98af-11ea-8d02-0242ac120007"
      },
      {
       "current": "d1bcb8ac-9599-11ea-8d02-0242ac120007",
       "next": "06afe9a8-98b0-11ea-8d02-0242ac120007",
       "previous": "bf249b06-98af-11ea-8d02-0242ac120007"
      },
      {
       "current": "d1bcb8ac-9599-11ea-8d02-0242ac120007",
       "next": "06afe9a8-98b0-11ea-8d02-0242ac120007",
       "previous": "dd8e3cbc-98f2-11ea-8d02-0242ac120007"
      },
      {
       "current": "d1bcb8ac-9599-11ea-8d02-0242ac120007-1-ec95",
       "next": "250e7a70-98f3-11ea-8d02-0242ac120007",
       "previous": "dd8e3cbc-98f2-11ea-8d02-0242ac120007"
      },
      {
       "current": "d1bcb8ac-9599-11ea-8d02-0242ac120007-2-ec95-2870",
       "next": "250e7a70-98f3-11ea-8d02-0242ac120007-1-f0b4",
       "previous": "dd8e3cbc-98f2-11ea-8d02-0242ac120007-1-706a"
      },
      {
       "current": "d1bcb8ac-9599-11ea-8d02-0242ac120007-2-ec95-2870",
       "next": "250e7a70-98f3-11ea-8d02-0242ac120007-2-f0b4-6edf",
       "previous": "dd8e3cbc-98f2-11ea-8d02-0242ac120007-2-706a-309d"
      },
      {
       "current": "d1bcb8ac-9599-11ea-8d02-0242ac120007-3-ec95-2870-3f6b",
       "next": "250e7a70-98f3-11ea-8d02-0242ac120007-2-f0b4-6edf",
       "previous": "bf249b06-98af-11ea-8d02-0242ac120007-2-1e49-e772"
      },
      {
       "current": "d1bcb8ac-9599-11ea-8d02-0242ac120007-3-ec95-2870-3f6b",
       "next": "250e7a70-98f3-11ea-8d02-0242ac120007-3-f0b4-6edf-9d40",
       "previous": "bf249b06-98af-11ea-8d02-0242ac120007-3-1e49-e772-9042"
      },
      {
       "current": "d1bcb8ac-9599-11ea-8d02-0242ac120007-4-ec95-2870-3f6b-89b1",
       "next": "2991a18c-6f17-11ee-89fa-0242ac120005",
       "previous": "bf249b06-98af-11ea-8d02-0242ac120007-3-1e49-e772-9042"
      },
      {
       "current": "d1bcb8ac-9599-11ea-8d02-0242ac120007-5-ec95-2870-3f6b-89b1-379b",
       "next": "2991a18c-6f17-11ee-89fa-0242ac120005-1-7f14",
       "previous": "bf249b06-98af-11ea-8d02-0242ac120007-4-1e49-e772-9042-3262"
      },
      {
       "current": "d1bcb8ac-9599-11ea-8d02-0242ac120007-6-ec95-2870-3f6b-89b1-379b-441e",
       "next": "2991a18c-6f17-11ee-89fa-0242ac120005-2-7f14-58d7",
       "previous": "bf249b06-98af-11ea-8d02-0242ac120007-5-1e49-e772-9042-3262-0c2f"
      },
      {
       "current": "d1bcb8ac-9599-11ea-8d02-0242ac120007-6-ec95-2870-3f6b-89b1-379b-441e",
       "next": "2991a18c-6f17-11ee-89fa-0242ac120005-3-7f14-58d7-fc0c",
       "previous": "bf249b06-98af-11ea-8d02-0242ac120007-6-1e49-e772-9042-3262-0c2f-854c"
      },
      {
       "current": "d1bcb8ac-9599-11ea-8d02-0242ac120007-7-ec95-2870-3f6b-89b1-379b-441e-1617",
       "next": "711857b2-6f17-11ee-89fa-0242ac120005-3-dbe2-86bf-d168",
       "previous": "bf249b06-98af-11ea-8d02-0242ac120007-6-1e49-e772-9042-3262-0c2f-854c"
      },
      {
       "current": "d1bcb8ac-9599-11ea-8d02-0242ac120007-8-ec95-2870-3f6b-89b1-379b-441e-1617-9e7e",
       "next": "711857b2-6f17-11ee-89fa-0242ac120005-4-dbe2-86bf-d168-1bc7",
       "previous": "bf249b06-98af-11ea-8d02-0242ac120007-7-1e49-e772-9042-3262-0c2f-854c-c44a"
      }
     ],
     "next": "711857b2-6f17-11ee-89fa-0242ac120005-5-dbe2-86bf-d168-1bc7-cee4",
     "previous": "bf249b06-98af-11ea-8d02-0242ac120007-8-1e49-e772-9042-3262-0c2f-854c-c44a-d1f0"
    },
    "scrolled": true
   },
   "outputs": [],
   "source": [
    "import os\n",
    "import csv\n",
    "import pandas as pd\n",
    "\n",
    "instance_ip_csv_path =  os.environ['HOME'] + \"/notebooks/share/configuration/ceph/ceph_instance_ip.csv\"\n",
    "instance_ip_list = []\n",
    "instance_ip_map = {}\n",
    "\n",
    "with open(instance_ip_csv_path, 'r') as path_csv:\n",
    "    reader = csv.DictReader(path_csv)\n",
    "    \n",
    "    for record in reader:\n",
    "        instance_ip_list.append(record)\n",
    "        instance_ip_map[record['instance_name']] = record\n",
    "\n",
    "pd.DataFrame(instance_ip_list)"
   ]
  },
  {
   "cell_type": "markdown",
   "metadata": {
    "lc_cell_meme": {
     "current": "711857b2-6f17-11ee-89fa-0242ac120005-5-dbe2-86bf-d168-1bc7-cee4",
     "history": [
      {
       "current": "711857b2-6f17-11ee-89fa-0242ac120005-1-dbe2",
       "next": "71185870-6f17-11ee-89fa-0242ac120005",
       "previous": "250e7a70-98f3-11ea-8d02-0242ac120007-3-f0b4-6edf-9d40"
      },
      {
       "current": "711857b2-6f17-11ee-89fa-0242ac120005-2-dbe2-86bf",
       "next": "71185870-6f17-11ee-89fa-0242ac120005-1-3bee",
       "previous": "250e7a70-98f3-11ea-8d02-0242ac120007-4-f0b4-6edf-9d40-febb"
      },
      {
       "current": "711857b2-6f17-11ee-89fa-0242ac120005-3-dbe2-86bf-d168",
       "next": "71185870-6f17-11ee-89fa-0242ac120005-2-3bee-ffa4",
       "previous": "250e7a70-98f3-11ea-8d02-0242ac120007-5-f0b4-6edf-9d40-febb-d3eb"
      },
      {
       "current": "711857b2-6f17-11ee-89fa-0242ac120005-3-dbe2-86bf-d168",
       "next": "71185870-6f17-11ee-89fa-0242ac120005-3-3bee-ffa4-6086",
       "previous": "250e7a70-98f3-11ea-8d02-0242ac120007-6-f0b4-6edf-9d40-febb-d3eb-5e97"
      },
      {
       "current": "711857b2-6f17-11ee-89fa-0242ac120005-4-dbe2-86bf-d168-1bc7",
       "next": "71185870-6f17-11ee-89fa-0242ac120005-3-3bee-ffa4-6086",
       "previous": "d1bcb8ac-9599-11ea-8d02-0242ac120007-6-ec95-2870-3f6b-89b1-379b-441e"
      },
      {
       "current": "711857b2-6f17-11ee-89fa-0242ac120005-5-dbe2-86bf-d168-1bc7-cee4",
       "next": "71185870-6f17-11ee-89fa-0242ac120005-4-3bee-ffa4-6086-7aba",
       "previous": "d1bcb8ac-9599-11ea-8d02-0242ac120007-7-ec95-2870-3f6b-89b1-379b-441e-1617"
      }
     ],
     "next": "71185870-6f17-11ee-89fa-0242ac120005-5-3bee-ffa4-6086-7aba-780a",
     "previous": "d1bcb8ac-9599-11ea-8d02-0242ac120007-8-ec95-2870-3f6b-89b1-379b-441e-1617-9e7e"
    }
   },
   "source": [
    "## 作業用ディレクトリを作成する"
   ]
  },
  {
   "cell_type": "code",
   "execution_count": null,
   "metadata": {
    "lc_cell_meme": {
     "current": "71185870-6f17-11ee-89fa-0242ac120005-5-3bee-ffa4-6086-7aba-780a",
     "history": [
      {
       "current": "71185870-6f17-11ee-89fa-0242ac120005-1-3bee",
       "next": "711858ac-6f17-11ee-89fa-0242ac120005",
       "previous": "711857b2-6f17-11ee-89fa-0242ac120005"
      },
      {
       "current": "71185870-6f17-11ee-89fa-0242ac120005-2-3bee-ffa4",
       "next": "711858ac-6f17-11ee-89fa-0242ac120005-1-0fcf",
       "previous": "711857b2-6f17-11ee-89fa-0242ac120005-1-dbe2"
      },
      {
       "current": "71185870-6f17-11ee-89fa-0242ac120005-3-3bee-ffa4-6086",
       "next": "711858ac-6f17-11ee-89fa-0242ac120005-2-0fcf-aa04",
       "previous": "711857b2-6f17-11ee-89fa-0242ac120005-2-dbe2-86bf"
      },
      {
       "current": "71185870-6f17-11ee-89fa-0242ac120005-4-3bee-ffa4-6086-7aba",
       "next": "711858ac-6f17-11ee-89fa-0242ac120005-3-0fcf-aa04-99a1",
       "previous": "711857b2-6f17-11ee-89fa-0242ac120005-3-dbe2-86bf-d168"
      },
      {
       "current": "71185870-6f17-11ee-89fa-0242ac120005-5-3bee-ffa4-6086-7aba-780a",
       "next": "711858ac-6f17-11ee-89fa-0242ac120005-4-0fcf-aa04-99a1-eec9",
       "previous": "711857b2-6f17-11ee-89fa-0242ac120005-4-dbe2-86bf-d168-1bc7"
      }
     ],
     "next": "711858ac-6f17-11ee-89fa-0242ac120005-5-0fcf-aa04-99a1-eec9-ba81",
     "previous": "711857b2-6f17-11ee-89fa-0242ac120005-5-dbe2-86bf-d168-1bc7-cee4"
    }
   },
   "outputs": [],
   "source": [
    "import os,tempfile\n",
    "temp_dir = tempfile.mkdtemp()\n",
    "print (temp_dir)"
   ]
  },
  {
   "cell_type": "markdown",
   "metadata": {
    "lc_cell_meme": {
     "current": "711858ac-6f17-11ee-89fa-0242ac120005-5-0fcf-aa04-99a1-eec9-ba81",
     "history": [
      {
       "current": "711858ac-6f17-11ee-89fa-0242ac120005-1-0fcf",
       "next": "711858ca-6f17-11ee-89fa-0242ac120005",
       "previous": "71185870-6f17-11ee-89fa-0242ac120005"
      },
      {
       "current": "711858ac-6f17-11ee-89fa-0242ac120005-2-0fcf-aa04",
       "next": "711858ca-6f17-11ee-89fa-0242ac120005-1-0ab3",
       "previous": "71185870-6f17-11ee-89fa-0242ac120005-1-3bee"
      },
      {
       "current": "711858ac-6f17-11ee-89fa-0242ac120005-3-0fcf-aa04-99a1",
       "next": "711858ca-6f17-11ee-89fa-0242ac120005-2-0ab3-b297",
       "previous": "71185870-6f17-11ee-89fa-0242ac120005-2-3bee-ffa4"
      },
      {
       "current": "711858ac-6f17-11ee-89fa-0242ac120005-4-0fcf-aa04-99a1-eec9",
       "next": "711858ca-6f17-11ee-89fa-0242ac120005-3-0ab3-b297-b211",
       "previous": "71185870-6f17-11ee-89fa-0242ac120005-3-3bee-ffa4-6086"
      },
      {
       "current": "711858ac-6f17-11ee-89fa-0242ac120005-5-0fcf-aa04-99a1-eec9-ba81",
       "next": "711858ca-6f17-11ee-89fa-0242ac120005-4-0ab3-b297-b211-4a26",
       "previous": "71185870-6f17-11ee-89fa-0242ac120005-4-3bee-ffa4-6086-7aba"
      }
     ],
     "next": "711858ca-6f17-11ee-89fa-0242ac120005-5-0ab3-b297-b211-4a26-cc6b",
     "previous": "71185870-6f17-11ee-89fa-0242ac120005-5-3bee-ffa4-6086-7aba-780a"
    }
   },
   "source": [
    "## AnsibleのInventoryファイルを作業用ディレクトリへ作成する"
   ]
  },
  {
   "cell_type": "code",
   "execution_count": null,
   "metadata": {
    "lc_cell_meme": {
     "current": "711858ca-6f17-11ee-89fa-0242ac120005-5-0ab3-b297-b211-4a26-cc6b",
     "history": [
      {
       "current": "711858ca-6f17-11ee-89fa-0242ac120005-1-0ab3",
       "next": "711858f2-6f17-11ee-89fa-0242ac120005",
       "previous": "711858ac-6f17-11ee-89fa-0242ac120005"
      },
      {
       "current": "711858ca-6f17-11ee-89fa-0242ac120005-2-0ab3-b297",
       "next": "711858f2-6f17-11ee-89fa-0242ac120005-1-e822",
       "previous": "711858ac-6f17-11ee-89fa-0242ac120005-1-0fcf"
      },
      {
       "current": "711858ca-6f17-11ee-89fa-0242ac120005-3-0ab3-b297-b211",
       "next": "711858f2-6f17-11ee-89fa-0242ac120005-2-e822-8afe",
       "previous": "711858ac-6f17-11ee-89fa-0242ac120005-2-0fcf-aa04"
      },
      {
       "current": "711858ca-6f17-11ee-89fa-0242ac120005-4-0ab3-b297-b211-4a26",
       "next": "711858f2-6f17-11ee-89fa-0242ac120005-3-e822-8afe-8608",
       "previous": "711858ac-6f17-11ee-89fa-0242ac120005-3-0fcf-aa04-99a1"
      },
      {
       "current": "711858ca-6f17-11ee-89fa-0242ac120005-5-0ab3-b297-b211-4a26-cc6b",
       "next": "711858f2-6f17-11ee-89fa-0242ac120005-4-e822-8afe-8608-221d",
       "previous": "711858ac-6f17-11ee-89fa-0242ac120005-4-0fcf-aa04-99a1-eec9"
      }
     ],
     "next": "711858f2-6f17-11ee-89fa-0242ac120005-5-e822-8afe-8608-221d-51c6",
     "previous": "711858ac-6f17-11ee-89fa-0242ac120005-5-0fcf-aa04-99a1-eec9-ba81"
    }
   },
   "outputs": [],
   "source": [
    "import os\n",
    "\n",
    "with open( os.path.join(temp_dir, \"hosts\"), 'w') as f:\n",
    "    f.write('''[openstack_ctl]\n",
    "{openstack_cmn}\n",
    "'''.format(openstack_cmn = provisioning_vip))\n",
    "\n",
    "hosts = temp_dir + \"/hosts\"\n",
    "!cat $hosts"
   ]
  },
  {
   "cell_type": "code",
   "execution_count": null,
   "metadata": {
    "lc_cell_meme": {
     "current": "711858f2-6f17-11ee-89fa-0242ac120005-5-e822-8afe-8608-221d-51c6",
     "history": [
      {
       "current": "711858f2-6f17-11ee-89fa-0242ac120005-1-e822",
       "next": "71185910-6f17-11ee-89fa-0242ac120005",
       "previous": "711858ca-6f17-11ee-89fa-0242ac120005"
      },
      {
       "current": "711858f2-6f17-11ee-89fa-0242ac120005-2-e822-8afe",
       "next": "71185910-6f17-11ee-89fa-0242ac120005-1-cda4",
       "previous": "711858ca-6f17-11ee-89fa-0242ac120005-1-0ab3"
      },
      {
       "current": "711858f2-6f17-11ee-89fa-0242ac120005-3-e822-8afe-8608",
       "next": "71185910-6f17-11ee-89fa-0242ac120005-2-cda4-1f01",
       "previous": "711858ca-6f17-11ee-89fa-0242ac120005-2-0ab3-b297"
      },
      {
       "current": "711858f2-6f17-11ee-89fa-0242ac120005-4-e822-8afe-8608-221d",
       "next": "71185910-6f17-11ee-89fa-0242ac120005-3-cda4-1f01-d398",
       "previous": "711858ca-6f17-11ee-89fa-0242ac120005-3-0ab3-b297-b211"
      },
      {
       "current": "711858f2-6f17-11ee-89fa-0242ac120005-5-e822-8afe-8608-221d-51c6",
       "next": "71185910-6f17-11ee-89fa-0242ac120005-4-cda4-1f01-d398-03af",
       "previous": "711858ca-6f17-11ee-89fa-0242ac120005-4-0ab3-b297-b211-4a26"
      }
     ],
     "next": "71185910-6f17-11ee-89fa-0242ac120005-5-cda4-1f01-d398-03af-efb6",
     "previous": "711858ca-6f17-11ee-89fa-0242ac120005-5-0ab3-b297-b211-4a26-cc6b"
    }
   },
   "outputs": [],
   "source": [
    "%env ANSIBLE_INVENTORY={hosts}"
   ]
  },
  {
   "cell_type": "markdown",
   "metadata": {
    "lc_cell_meme": {
     "current": "71185910-6f17-11ee-89fa-0242ac120005-5-cda4-1f01-d398-03af-efb6",
     "history": [
      {
       "current": "71185910-6f17-11ee-89fa-0242ac120005-1-cda4",
       "next": "7118592e-6f17-11ee-89fa-0242ac120005",
       "previous": "711858f2-6f17-11ee-89fa-0242ac120005"
      },
      {
       "current": "71185910-6f17-11ee-89fa-0242ac120005-2-cda4-1f01",
       "next": "7118592e-6f17-11ee-89fa-0242ac120005-1-1309",
       "previous": "711858f2-6f17-11ee-89fa-0242ac120005-1-e822"
      },
      {
       "current": "71185910-6f17-11ee-89fa-0242ac120005-3-cda4-1f01-d398",
       "next": "7118592e-6f17-11ee-89fa-0242ac120005-2-1309-7ed5",
       "previous": "711858f2-6f17-11ee-89fa-0242ac120005-2-e822-8afe"
      },
      {
       "current": "71185910-6f17-11ee-89fa-0242ac120005-4-cda4-1f01-d398-03af",
       "next": "7118592e-6f17-11ee-89fa-0242ac120005-3-1309-7ed5-9f65",
       "previous": "711858f2-6f17-11ee-89fa-0242ac120005-3-e822-8afe-8608"
      },
      {
       "current": "71185910-6f17-11ee-89fa-0242ac120005-5-cda4-1f01-d398-03af-efb6",
       "next": "7118592e-6f17-11ee-89fa-0242ac120005-4-1309-7ed5-9f65-2d65",
       "previous": "711858f2-6f17-11ee-89fa-0242ac120005-4-e822-8afe-8608-221d"
      }
     ],
     "next": "7118592e-6f17-11ee-89fa-0242ac120005-5-1309-7ed5-9f65-2d65-88da",
     "previous": "711858f2-6f17-11ee-89fa-0242ac120005-5-e822-8afe-8608-221d-51c6"
    }
   },
   "source": [
    "疎通確認"
   ]
  },
  {
   "cell_type": "code",
   "execution_count": null,
   "metadata": {
    "lc_cell_meme": {
     "current": "7118592e-6f17-11ee-89fa-0242ac120005-5-1309-7ed5-9f65-2d65-88da",
     "history": [
      {
       "current": "7118592e-6f17-11ee-89fa-0242ac120005-1-1309",
       "next": "71185956-6f17-11ee-89fa-0242ac120005",
       "previous": "71185910-6f17-11ee-89fa-0242ac120005"
      },
      {
       "current": "7118592e-6f17-11ee-89fa-0242ac120005-2-1309-7ed5",
       "next": "71185956-6f17-11ee-89fa-0242ac120005-1-9ddc",
       "previous": "71185910-6f17-11ee-89fa-0242ac120005-1-cda4"
      },
      {
       "current": "7118592e-6f17-11ee-89fa-0242ac120005-3-1309-7ed5-9f65",
       "next": "71185956-6f17-11ee-89fa-0242ac120005-2-9ddc-69b8",
       "previous": "71185910-6f17-11ee-89fa-0242ac120005-2-cda4-1f01"
      },
      {
       "current": "7118592e-6f17-11ee-89fa-0242ac120005-4-1309-7ed5-9f65-2d65",
       "next": "71185956-6f17-11ee-89fa-0242ac120005-3-9ddc-69b8-0265",
       "previous": "71185910-6f17-11ee-89fa-0242ac120005-3-cda4-1f01-d398"
      },
      {
       "current": "7118592e-6f17-11ee-89fa-0242ac120005-5-1309-7ed5-9f65-2d65-88da",
       "next": "71185956-6f17-11ee-89fa-0242ac120005-4-9ddc-69b8-0265-bf07",
       "previous": "71185910-6f17-11ee-89fa-0242ac120005-4-cda4-1f01-d398-03af"
      }
     ],
     "next": "71185956-6f17-11ee-89fa-0242ac120005-5-9ddc-69b8-0265-bf07-f99d",
     "previous": "71185910-6f17-11ee-89fa-0242ac120005-5-cda4-1f01-d398-03af-efb6"
    }
   },
   "outputs": [],
   "source": [
    "!ansible -m ping openstack_ctl"
   ]
  },
  {
   "cell_type": "code",
   "execution_count": null,
   "metadata": {
    "lc_cell_meme": {
     "current": "71185956-6f17-11ee-89fa-0242ac120005-5-9ddc-69b8-0265-bf07-f99d",
     "history": [
      {
       "current": "71185956-6f17-11ee-89fa-0242ac120005-1-9ddc",
       "next": "71185974-6f17-11ee-89fa-0242ac120005",
       "previous": "7118592e-6f17-11ee-89fa-0242ac120005"
      },
      {
       "current": "71185956-6f17-11ee-89fa-0242ac120005-2-9ddc-69b8",
       "next": "71185974-6f17-11ee-89fa-0242ac120005-1-2ea9",
       "previous": "7118592e-6f17-11ee-89fa-0242ac120005-1-1309"
      },
      {
       "current": "71185956-6f17-11ee-89fa-0242ac120005-3-9ddc-69b8-0265",
       "next": "71185974-6f17-11ee-89fa-0242ac120005-2-2ea9-35a4",
       "previous": "7118592e-6f17-11ee-89fa-0242ac120005-2-1309-7ed5"
      },
      {
       "current": "71185956-6f17-11ee-89fa-0242ac120005-4-9ddc-69b8-0265-bf07",
       "next": "71185974-6f17-11ee-89fa-0242ac120005-3-2ea9-35a4-4247",
       "previous": "7118592e-6f17-11ee-89fa-0242ac120005-3-1309-7ed5-9f65"
      },
      {
       "current": "71185956-6f17-11ee-89fa-0242ac120005-5-9ddc-69b8-0265-bf07-f99d",
       "next": "71185974-6f17-11ee-89fa-0242ac120005-4-2ea9-35a4-4247-b9c3",
       "previous": "7118592e-6f17-11ee-89fa-0242ac120005-4-1309-7ed5-9f65-2d65"
      }
     ],
     "next": "71185974-6f17-11ee-89fa-0242ac120005-5-2ea9-35a4-4247-b9c3-d6bd",
     "previous": "7118592e-6f17-11ee-89fa-0242ac120005-5-1309-7ed5-9f65-2d65-88da"
    }
   },
   "outputs": [],
   "source": [
    "!ansible -a 'hostname' openstack_ctl"
   ]
  },
  {
   "cell_type": "markdown",
   "metadata": {
    "lc_cell_meme": {
     "current": "71185974-6f17-11ee-89fa-0242ac120005-5-2ea9-35a4-4247-b9c3-d6bd",
     "history": [
      {
       "current": "71185974-6f17-11ee-89fa-0242ac120005-1-2ea9",
       "next": "7118599c-6f17-11ee-89fa-0242ac120005",
       "previous": "71185956-6f17-11ee-89fa-0242ac120005"
      },
      {
       "current": "71185974-6f17-11ee-89fa-0242ac120005-2-2ea9-35a4",
       "next": "7118599c-6f17-11ee-89fa-0242ac120005-1-cdec",
       "previous": "71185956-6f17-11ee-89fa-0242ac120005-1-9ddc"
      },
      {
       "current": "71185974-6f17-11ee-89fa-0242ac120005-3-2ea9-35a4-4247",
       "next": "7118599c-6f17-11ee-89fa-0242ac120005-2-cdec-f8c3",
       "previous": "71185956-6f17-11ee-89fa-0242ac120005-2-9ddc-69b8"
      },
      {
       "current": "71185974-6f17-11ee-89fa-0242ac120005-4-2ea9-35a4-4247-b9c3",
       "next": "7118599c-6f17-11ee-89fa-0242ac120005-3-cdec-f8c3-239a",
       "previous": "71185956-6f17-11ee-89fa-0242ac120005-3-9ddc-69b8-0265"
      },
      {
       "current": "71185974-6f17-11ee-89fa-0242ac120005-5-2ea9-35a4-4247-b9c3-d6bd",
       "next": "7118599c-6f17-11ee-89fa-0242ac120005-4-cdec-f8c3-239a-9654",
       "previous": "71185956-6f17-11ee-89fa-0242ac120005-4-9ddc-69b8-0265-bf07"
      }
     ],
     "next": "7118599c-6f17-11ee-89fa-0242ac120005-5-cdec-f8c3-239a-9654-7420",
     "previous": "71185956-6f17-11ee-89fa-0242ac120005-5-9ddc-69b8-0265-bf07-f99d"
    }
   },
   "source": [
    "## OpenStack用OpenRCファイル設定\n",
    "\n",
    "`xxxxxxx`プロジェクト用のOpenRCファイルを事前にダウンロードしておくこと。  "
   ]
  },
  {
   "cell_type": "code",
   "execution_count": null,
   "metadata": {
    "lc_cell_meme": {
     "current": "7118599c-6f17-11ee-89fa-0242ac120005-5-cdec-f8c3-239a-9654-7420",
     "history": [
      {
       "current": "7118599c-6f17-11ee-89fa-0242ac120005-1-cdec",
       "next": "711859ba-6f17-11ee-89fa-0242ac120005",
       "previous": "71185974-6f17-11ee-89fa-0242ac120005"
      },
      {
       "current": "7118599c-6f17-11ee-89fa-0242ac120005-2-cdec-f8c3",
       "next": "711859ba-6f17-11ee-89fa-0242ac120005-1-9ec2",
       "previous": "71185974-6f17-11ee-89fa-0242ac120005-1-2ea9"
      },
      {
       "current": "7118599c-6f17-11ee-89fa-0242ac120005-3-cdec-f8c3-239a",
       "next": "711859ba-6f17-11ee-89fa-0242ac120005-2-9ec2-e593",
       "previous": "71185974-6f17-11ee-89fa-0242ac120005-2-2ea9-35a4"
      },
      {
       "current": "7118599c-6f17-11ee-89fa-0242ac120005-4-cdec-f8c3-239a-9654",
       "next": "711859ba-6f17-11ee-89fa-0242ac120005-3-9ec2-e593-f446",
       "previous": "71185974-6f17-11ee-89fa-0242ac120005-3-2ea9-35a4-4247"
      },
      {
       "current": "7118599c-6f17-11ee-89fa-0242ac120005-5-cdec-f8c3-239a-9654-7420",
       "next": "711859ba-6f17-11ee-89fa-0242ac120005-4-9ec2-e593-f446-864f",
       "previous": "71185974-6f17-11ee-89fa-0242ac120005-4-2ea9-35a4-4247-b9c3"
      }
     ],
     "next": "711859ba-6f17-11ee-89fa-0242ac120005-5-9ec2-e593-f446-864f-eb40",
     "previous": "71185974-6f17-11ee-89fa-0242ac120005-5-2ea9-35a4-4247-b9c3-d6bd"
    }
   },
   "outputs": [],
   "source": [
    "import os\n",
    "\n",
    "user_creds = os.path.expanduser('~/.keys/xxxxxxx-openrc.sh')\n",
    "\n",
    "assert os.path.exists(user_creds), '{} is not exist'.format(user_creds)"
   ]
  },
  {
   "cell_type": "code",
   "execution_count": null,
   "metadata": {
    "lc_cell_meme": {
     "current": "711859ba-6f17-11ee-89fa-0242ac120005-5-9ec2-e593-f446-864f-eb40",
     "history": [
      {
       "current": "711859ba-6f17-11ee-89fa-0242ac120005-1-9ec2",
       "next": "711859d8-6f17-11ee-89fa-0242ac120005",
       "previous": "7118599c-6f17-11ee-89fa-0242ac120005"
      },
      {
       "current": "711859ba-6f17-11ee-89fa-0242ac120005-2-9ec2-e593",
       "next": "711859d8-6f17-11ee-89fa-0242ac120005-1-7e5b",
       "previous": "7118599c-6f17-11ee-89fa-0242ac120005-1-cdec"
      },
      {
       "current": "711859ba-6f17-11ee-89fa-0242ac120005-3-9ec2-e593-f446",
       "next": "711859d8-6f17-11ee-89fa-0242ac120005-2-7e5b-2fef",
       "previous": "7118599c-6f17-11ee-89fa-0242ac120005-2-cdec-f8c3"
      },
      {
       "current": "711859ba-6f17-11ee-89fa-0242ac120005-4-9ec2-e593-f446-864f",
       "next": "711859d8-6f17-11ee-89fa-0242ac120005-3-7e5b-2fef-9108",
       "previous": "7118599c-6f17-11ee-89fa-0242ac120005-3-cdec-f8c3-239a"
      },
      {
       "current": "711859ba-6f17-11ee-89fa-0242ac120005-5-9ec2-e593-f446-864f-eb40",
       "next": "711859d8-6f17-11ee-89fa-0242ac120005-4-7e5b-2fef-9108-2be7",
       "previous": "7118599c-6f17-11ee-89fa-0242ac120005-4-cdec-f8c3-239a-9654"
      }
     ],
     "next": "711859d8-6f17-11ee-89fa-0242ac120005-5-7e5b-2fef-9108-2be7-5019",
     "previous": "7118599c-6f17-11ee-89fa-0242ac120005-5-cdec-f8c3-239a-9654-7420"
    }
   },
   "outputs": [],
   "source": [
    "%env USER_CREDS={user_creds}"
   ]
  },
  {
   "cell_type": "code",
   "execution_count": null,
   "metadata": {
    "lc_cell_meme": {
     "current": "711859d8-6f17-11ee-89fa-0242ac120005-5-7e5b-2fef-9108-2be7-5019",
     "history": [
      {
       "current": "711859d8-6f17-11ee-89fa-0242ac120005",
       "next": "71185a00-6f17-11ee-89fa-0242ac120005",
       "previous": "711859ba-6f17-11ee-89fa-0242ac120005"
      },
      {
       "current": "711859d8-6f17-11ee-89fa-0242ac120005-1-7e5b",
       "next": "71185a00-6f17-11ee-89fa-0242ac120005-1-468f",
       "previous": "711859ba-6f17-11ee-89fa-0242ac120005"
      },
      {
       "current": "711859d8-6f17-11ee-89fa-0242ac120005-2-7e5b-2fef",
       "next": "71185a00-6f17-11ee-89fa-0242ac120005-2-468f-63d1",
       "previous": "711859ba-6f17-11ee-89fa-0242ac120005-1-9ec2"
      },
      {
       "current": "711859d8-6f17-11ee-89fa-0242ac120005-3-7e5b-2fef-9108",
       "next": "71185a00-6f17-11ee-89fa-0242ac120005-3-468f-63d1-eb6d",
       "previous": "711859ba-6f17-11ee-89fa-0242ac120005-2-9ec2-e593"
      },
      {
       "current": "711859d8-6f17-11ee-89fa-0242ac120005-4-7e5b-2fef-9108-2be7",
       "next": "71185a00-6f17-11ee-89fa-0242ac120005-4-468f-63d1-eb6d-a865",
       "previous": "711859ba-6f17-11ee-89fa-0242ac120005-3-9ec2-e593-f446"
      },
      {
       "current": "711859d8-6f17-11ee-89fa-0242ac120005-5-7e5b-2fef-9108-2be7-5019",
       "next": "71185a00-6f17-11ee-89fa-0242ac120005-5-468f-63d1-eb6d-a865-5686",
       "previous": "711859ba-6f17-11ee-89fa-0242ac120005-4-9ec2-e593-f446-864f"
      }
     ],
     "next": "71185a00-6f17-11ee-89fa-0242ac120005-6-468f-63d1-eb6d-a865-5686-f7f5",
     "previous": "711859ba-6f17-11ee-89fa-0242ac120005-5-9ec2-e593-f446-864f-eb40"
    }
   },
   "outputs": [],
   "source": [
    "!ls -l {user_creds}"
   ]
  },
  {
   "cell_type": "markdown",
   "metadata": {
    "heading_collapsed": true,
    "lc_cell_meme": {
     "current": "71185a00-6f17-11ee-89fa-0242ac120005-6-468f-63d1-eb6d-a865-5686-f7f5",
     "history": [
      {
       "current": "71185a00-6f17-11ee-89fa-0242ac120005-2-468f-63d1",
       "next": "71185a1e-6f17-11ee-89fa-0242ac120005",
       "previous": "711859d8-6f17-11ee-89fa-0242ac120005"
      },
      {
       "current": "71185a00-6f17-11ee-89fa-0242ac120005-3-468f-63d1-eb6d",
       "next": "71185a1e-6f17-11ee-89fa-0242ac120005-1-4309",
       "previous": "711859d8-6f17-11ee-89fa-0242ac120005-1-7e5b"
      },
      {
       "current": "71185a00-6f17-11ee-89fa-0242ac120005-4-468f-63d1-eb6d-a865",
       "next": "71185a1e-6f17-11ee-89fa-0242ac120005-2-4309-7b49",
       "previous": "711859d8-6f17-11ee-89fa-0242ac120005-2-7e5b-2fef"
      },
      {
       "current": "71185a00-6f17-11ee-89fa-0242ac120005-5-468f-63d1-eb6d-a865-5686",
       "next": "71185a1e-6f17-11ee-89fa-0242ac120005-3-4309-7b49-9d8b",
       "previous": "711859d8-6f17-11ee-89fa-0242ac120005-3-7e5b-2fef-9108"
      },
      {
       "current": "71185a00-6f17-11ee-89fa-0242ac120005-6-468f-63d1-eb6d-a865-5686-f7f5",
       "next": "71185a1e-6f17-11ee-89fa-0242ac120005-4-4309-7b49-9d8b-c96b",
       "previous": "711859d8-6f17-11ee-89fa-0242ac120005-4-7e5b-2fef-9108-2be7"
      }
     ],
     "next": "71185a1e-6f17-11ee-89fa-0242ac120005-5-4309-7b49-9d8b-c96b-a7fb",
     "previous": "711859d8-6f17-11ee-89fa-0242ac120005-5-7e5b-2fef-9108-2be7-5019"
    }
   },
   "source": [
    "## openstackコマンド用ユーティリティ関数"
   ]
  },
  {
   "cell_type": "code",
   "execution_count": null,
   "metadata": {
    "hidden": true,
    "lc_cell_meme": {
     "current": "71185a1e-6f17-11ee-89fa-0242ac120005-5-4309-7b49-9d8b-c96b-a7fb",
     "history": [
      {
       "current": "71185a1e-6f17-11ee-89fa-0242ac120005",
       "next": "71185a3c-6f17-11ee-89fa-0242ac120005",
       "previous": "71185a00-6f17-11ee-89fa-0242ac120005"
      },
      {
       "current": "71185a1e-6f17-11ee-89fa-0242ac120005-1-4309",
       "next": "b8a5691c-6f17-11ee-89fa-0242ac120005",
       "previous": "71185a00-6f17-11ee-89fa-0242ac120005-1-468f"
      },
      {
       "current": "71185a1e-6f17-11ee-89fa-0242ac120005-2-4309-7b49",
       "next": "b8a5691c-6f17-11ee-89fa-0242ac120005-1-8b3d",
       "previous": "71185a00-6f17-11ee-89fa-0242ac120005-2-468f-63d1"
      },
      {
       "current": "71185a1e-6f17-11ee-89fa-0242ac120005-3-4309-7b49-9d8b",
       "next": "b8a5691c-6f17-11ee-89fa-0242ac120005-2-8b3d-75b5",
       "previous": "71185a00-6f17-11ee-89fa-0242ac120005-3-468f-63d1-eb6d"
      },
      {
       "current": "71185a1e-6f17-11ee-89fa-0242ac120005-4-4309-7b49-9d8b-c96b",
       "next": "b8a5691c-6f17-11ee-89fa-0242ac120005-3-8b3d-75b5-e45e",
       "previous": "71185a00-6f17-11ee-89fa-0242ac120005-4-468f-63d1-eb6d-a865"
      },
      {
       "current": "71185a1e-6f17-11ee-89fa-0242ac120005-5-4309-7b49-9d8b-c96b-a7fb",
       "next": "b8a5691c-6f17-11ee-89fa-0242ac120005-4-8b3d-75b5-e45e-d9e2",
       "previous": "71185a00-6f17-11ee-89fa-0242ac120005-5-468f-63d1-eb6d-a865-5686"
      }
     ],
     "next": "b8a5691c-6f17-11ee-89fa-0242ac120005-5-8b3d-75b5-e45e-d9e2-1b3d",
     "previous": "71185a00-6f17-11ee-89fa-0242ac120005-6-468f-63d1-eb6d-a865-5686-f7f5"
    }
   },
   "outputs": [],
   "source": [
    "def build_cmdline(param):\n",
    "    cmdline = ''\n",
    "    \n",
    "    for param_name, param_value in param.items():\n",
    "        if isinstance(param_value, dict):\n",
    "            for key, value in param_value.items():\n",
    "                cmdline += ' --{} {}={}'.format(param_name, key, value)\n",
    "        elif isinstance(param_value, list):\n",
    "            for item in param_value:\n",
    "                cmdline += ' --{} {}'.format(param_name, item)\n",
    "        elif isinstance(param_value, bool):\n",
    "            if param_value:\n",
    "                cmdline += ' --{}'.format(param_name)\n",
    "        else:\n",
    "            cmdline += ' --{} {}'.format(param_name, param_value)\n",
    "\n",
    "    return cmdline"
   ]
  },
  {
   "cell_type": "code",
   "execution_count": null,
   "metadata": {
    "hidden": true,
    "lc_cell_meme": {
     "current": "b8a5691c-6f17-11ee-89fa-0242ac120005-5-8b3d-75b5-e45e-d9e2-1b3d",
     "history": [
      {
       "current": "b8a5691c-6f17-11ee-89fa-0242ac120005-1-8b3d",
       "next": "b8a56a7a-6f17-11ee-89fa-0242ac120005",
       "previous": "71185a1e-6f17-11ee-89fa-0242ac120005"
      },
      {
       "current": "b8a5691c-6f17-11ee-89fa-0242ac120005-2-8b3d-75b5",
       "next": "b8a56a7a-6f17-11ee-89fa-0242ac120005-1-e333",
       "previous": "71185a1e-6f17-11ee-89fa-0242ac120005-1-4309"
      },
      {
       "current": "b8a5691c-6f17-11ee-89fa-0242ac120005-3-8b3d-75b5-e45e",
       "next": "b8a56a7a-6f17-11ee-89fa-0242ac120005-2-e333-b655",
       "previous": "71185a1e-6f17-11ee-89fa-0242ac120005-2-4309-7b49"
      },
      {
       "current": "b8a5691c-6f17-11ee-89fa-0242ac120005-4-8b3d-75b5-e45e-d9e2",
       "next": "b8a56a7a-6f17-11ee-89fa-0242ac120005-3-e333-b655-5549",
       "previous": "71185a1e-6f17-11ee-89fa-0242ac120005-3-4309-7b49-9d8b"
      },
      {
       "current": "b8a5691c-6f17-11ee-89fa-0242ac120005-5-8b3d-75b5-e45e-d9e2-1b3d",
       "next": "b8a56a7a-6f17-11ee-89fa-0242ac120005-4-e333-b655-5549-d5b1",
       "previous": "71185a1e-6f17-11ee-89fa-0242ac120005-4-4309-7b49-9d8b-c96b"
      }
     ],
     "next": "b8a56a7a-6f17-11ee-89fa-0242ac120005-5-e333-b655-5549-d5b1-f89d",
     "previous": "71185a1e-6f17-11ee-89fa-0242ac120005-5-4309-7b49-9d8b-c96b-a7fb"
    }
   },
   "outputs": [],
   "source": [
    "import json\n",
    "\n",
    "def run_openstack(cmd):\n",
    "    print('EXEC: {}'.format(cmd))\n",
    "    out = !source {user_creds} && {cmd}\n",
    "    print('OUTPUT: {}'.format('\\n'.join(out)))\n",
    "    return json.loads('\\n'.join(out))"
   ]
  },
  {
   "cell_type": "markdown",
   "metadata": {
    "hidden": true,
    "lc_cell_meme": {
     "current": "b8a56a7a-6f17-11ee-89fa-0242ac120005-5-e333-b655-5549-d5b1-f89d",
     "history": [
      {
       "current": "b8a56a7a-6f17-11ee-89fa-0242ac120005-1-e333",
       "next": "b8a56afc-6f17-11ee-89fa-0242ac120005",
       "previous": "b8a5691c-6f17-11ee-89fa-0242ac120005"
      },
      {
       "current": "b8a56a7a-6f17-11ee-89fa-0242ac120005-2-e333-b655",
       "next": "b8a56afc-6f17-11ee-89fa-0242ac120005-1-696d",
       "previous": "b8a5691c-6f17-11ee-89fa-0242ac120005-1-8b3d"
      },
      {
       "current": "b8a56a7a-6f17-11ee-89fa-0242ac120005-3-e333-b655-5549",
       "next": "b8a56afc-6f17-11ee-89fa-0242ac120005-2-696d-191f",
       "previous": "b8a5691c-6f17-11ee-89fa-0242ac120005-2-8b3d-75b5"
      },
      {
       "current": "b8a56a7a-6f17-11ee-89fa-0242ac120005-4-e333-b655-5549-d5b1",
       "next": "b8a56afc-6f17-11ee-89fa-0242ac120005-3-696d-191f-65b5",
       "previous": "b8a5691c-6f17-11ee-89fa-0242ac120005-3-8b3d-75b5-e45e"
      },
      {
       "current": "b8a56a7a-6f17-11ee-89fa-0242ac120005-5-e333-b655-5549-d5b1-f89d",
       "next": "b8a56afc-6f17-11ee-89fa-0242ac120005-4-696d-191f-65b5-7eff",
       "previous": "b8a5691c-6f17-11ee-89fa-0242ac120005-4-8b3d-75b5-e45e-d9e2"
      }
     ],
     "next": "b8a56afc-6f17-11ee-89fa-0242ac120005-5-696d-191f-65b5-7eff-b966",
     "previous": "b8a5691c-6f17-11ee-89fa-0242ac120005-5-8b3d-75b5-e45e-d9e2-1b3d"
    }
   },
   "source": [
    "テスト"
   ]
  },
  {
   "cell_type": "code",
   "execution_count": null,
   "metadata": {
    "hidden": true,
    "lc_cell_meme": {
     "current": "b8a56afc-6f17-11ee-89fa-0242ac120005-5-696d-191f-65b5-7eff-b966",
     "history": [
      {
       "current": "b8a56afc-6f17-11ee-89fa-0242ac120005-1-696d",
       "next": "06afe9a8-98b0-11ea-8d02-0242ac120007-3-a1c1-faf0-55bd",
       "previous": "b8a56a7a-6f17-11ee-89fa-0242ac120005"
      },
      {
       "current": "b8a56afc-6f17-11ee-89fa-0242ac120005-2-696d-191f",
       "next": "06afe9a8-98b0-11ea-8d02-0242ac120007-4-a1c1-faf0-55bd-c060",
       "previous": "b8a56a7a-6f17-11ee-89fa-0242ac120005-1-e333"
      },
      {
       "current": "b8a56afc-6f17-11ee-89fa-0242ac120005-3-696d-191f-65b5",
       "next": "06afe9a8-98b0-11ea-8d02-0242ac120007-5-a1c1-faf0-55bd-c060-50d9",
       "previous": "b8a56a7a-6f17-11ee-89fa-0242ac120005-2-e333-b655"
      },
      {
       "current": "b8a56afc-6f17-11ee-89fa-0242ac120005-4-696d-191f-65b5-7eff",
       "next": "06afe9a8-98b0-11ea-8d02-0242ac120007-6-a1c1-faf0-55bd-c060-50d9-a725",
       "previous": "b8a56a7a-6f17-11ee-89fa-0242ac120005-3-e333-b655-5549"
      },
      {
       "current": "b8a56afc-6f17-11ee-89fa-0242ac120005-5-696d-191f-65b5-7eff-b966",
       "next": "06afe9a8-98b0-11ea-8d02-0242ac120007-7-a1c1-faf0-55bd-c060-50d9-a725-803f",
       "previous": "b8a56a7a-6f17-11ee-89fa-0242ac120005-4-e333-b655-5549-d5b1"
      }
     ],
     "next": "06afe9a8-98b0-11ea-8d02-0242ac120007-8-a1c1-faf0-55bd-c060-50d9-a725-803f-3bbe",
     "previous": "b8a56a7a-6f17-11ee-89fa-0242ac120005-5-e333-b655-5549-d5b1-f89d"
    }
   },
   "outputs": [],
   "source": [
    "run_openstack('openstack flavor list -f json' + build_cmdline({'all': True}))"
   ]
  },
  {
   "cell_type": "markdown",
   "metadata": {
    "lc_cell_meme": {
     "current": "06afe9a8-98b0-11ea-8d02-0242ac120007-8-a1c1-faf0-55bd-c060-50d9-a725-803f-3bbe",
     "history": [
      {
       "current": "06afe9a8-98b0-11ea-8d02-0242ac120007",
       "next": "7899411a-9692-11ea-8d02-0242ac120007",
       "previous": "d1bcb8ac-9599-11ea-8d02-0242ac120007"
      },
      {
       "current": "06afe9a8-98b0-11ea-8d02-0242ac120007-1-a1c1",
       "next": "7899411a-9692-11ea-8d02-0242ac120007",
       "previous": "250e7a70-98f3-11ea-8d02-0242ac120007"
      },
      {
       "current": "06afe9a8-98b0-11ea-8d02-0242ac120007-2-a1c1-faf0",
       "next": "7899411a-9692-11ea-8d02-0242ac120007-1-2cd2",
       "previous": "250e7a70-98f3-11ea-8d02-0242ac120007-1-f0b4"
      },
      {
       "current": "06afe9a8-98b0-11ea-8d02-0242ac120007-2-a1c1-faf0",
       "next": "7899411a-9692-11ea-8d02-0242ac120007-2-2cd2-395d",
       "previous": "250e7a70-98f3-11ea-8d02-0242ac120007-2-f0b4-6edf"
      },
      {
       "current": "06afe9a8-98b0-11ea-8d02-0242ac120007-2-a1c1-faf0",
       "next": "04bfc54e-defc-11eb-b29f-0242ac120008",
       "previous": "250e7a70-98f3-11ea-8d02-0242ac120007-2-f0b4-6edf"
      },
      {
       "current": "06afe9a8-98b0-11ea-8d02-0242ac120007-3-a1c1-faf0-55bd",
       "next": "329a4046-dfad-11eb-b29f-0242ac120008",
       "previous": "250e7a70-98f3-11ea-8d02-0242ac120007-2-f0b4-6edf"
      },
      {
       "current": "06afe9a8-98b0-11ea-8d02-0242ac120007-3-a1c1-faf0-55bd",
       "next": "329a4046-dfad-11eb-b29f-0242ac120008-1-1375",
       "previous": "250e7a70-98f3-11ea-8d02-0242ac120007-3-f0b4-6edf-9d40"
      },
      {
       "current": "06afe9a8-98b0-11ea-8d02-0242ac120007-3-a1c1-faf0-55bd",
       "next": "329a4046-dfad-11eb-b29f-0242ac120008-1-1375",
       "previous": "71185a3c-6f17-11ee-89fa-0242ac120005"
      },
      {
       "current": "06afe9a8-98b0-11ea-8d02-0242ac120007-4-a1c1-faf0-55bd-c060",
       "next": "329a4046-dfad-11eb-b29f-0242ac120008-1-1375",
       "previous": "b8a56afc-6f17-11ee-89fa-0242ac120005"
      },
      {
       "current": "06afe9a8-98b0-11ea-8d02-0242ac120007-5-a1c1-faf0-55bd-c060-50d9",
       "next": "329a4046-dfad-11eb-b29f-0242ac120008-2-1375-fce0",
       "previous": "b8a56afc-6f17-11ee-89fa-0242ac120005-1-696d"
      },
      {
       "current": "06afe9a8-98b0-11ea-8d02-0242ac120007-6-a1c1-faf0-55bd-c060-50d9-a725",
       "next": "329a4046-dfad-11eb-b29f-0242ac120008-3-1375-fce0-6e70",
       "previous": "b8a56afc-6f17-11ee-89fa-0242ac120005-2-696d-191f"
      },
      {
       "current": "06afe9a8-98b0-11ea-8d02-0242ac120007-7-a1c1-faf0-55bd-c060-50d9-a725-803f",
       "next": "329a4046-dfad-11eb-b29f-0242ac120008-4-1375-fce0-6e70-8232",
       "previous": "b8a56afc-6f17-11ee-89fa-0242ac120005-3-696d-191f-65b5"
      },
      {
       "current": "06afe9a8-98b0-11ea-8d02-0242ac120007-8-a1c1-faf0-55bd-c060-50d9-a725-803f-3bbe",
       "next": "329a4046-dfad-11eb-b29f-0242ac120008-5-1375-fce0-6e70-8232-2f04",
       "previous": "b8a56afc-6f17-11ee-89fa-0242ac120005-4-696d-191f-65b5-7eff"
      }
     ],
     "next": "329a4046-dfad-11eb-b29f-0242ac120008-6-1375-fce0-6e70-8232-2f04-a578",
     "previous": "b8a56afc-6f17-11ee-89fa-0242ac120005-5-696d-191f-65b5-7eff-b966"
    }
   },
   "source": [
    "## デプロイされたCephノード情報の取得"
   ]
  },
  {
   "cell_type": "markdown",
   "metadata": {
    "lc_cell_meme": {
     "current": "329a4046-dfad-11eb-b29f-0242ac120008-6-1375-fce0-6e70-8232-2f04-a578",
     "history": [
      {
       "current": "329a4046-dfad-11eb-b29f-0242ac120008-1-1375",
       "next": "329a4348-dfad-11eb-b29f-0242ac120008",
       "previous": "06afe9a8-98b0-11ea-8d02-0242ac120007-2-a1c1-faf0"
      },
      {
       "current": "329a4046-dfad-11eb-b29f-0242ac120008-1-1375",
       "next": "329a4348-dfad-11eb-b29f-0242ac120008-1-ed21",
       "previous": "06afe9a8-98b0-11ea-8d02-0242ac120007-3-a1c1-faf0-55bd"
      },
      {
       "current": "329a4046-dfad-11eb-b29f-0242ac120008-2-1375-fce0",
       "next": "b8a56c28-6f17-11ee-89fa-0242ac120005",
       "previous": "06afe9a8-98b0-11ea-8d02-0242ac120007-3-a1c1-faf0-55bd"
      },
      {
       "current": "329a4046-dfad-11eb-b29f-0242ac120008-3-1375-fce0-6e70",
       "next": "b8a56c28-6f17-11ee-89fa-0242ac120005-1-738b",
       "previous": "06afe9a8-98b0-11ea-8d02-0242ac120007-4-a1c1-faf0-55bd-c060"
      },
      {
       "current": "329a4046-dfad-11eb-b29f-0242ac120008-4-1375-fce0-6e70-8232",
       "next": "b8a56c28-6f17-11ee-89fa-0242ac120005-2-738b-e202",
       "previous": "06afe9a8-98b0-11ea-8d02-0242ac120007-5-a1c1-faf0-55bd-c060-50d9"
      },
      {
       "current": "329a4046-dfad-11eb-b29f-0242ac120008-5-1375-fce0-6e70-8232-2f04",
       "next": "b8a56c28-6f17-11ee-89fa-0242ac120005-3-738b-e202-79bd",
       "previous": "06afe9a8-98b0-11ea-8d02-0242ac120007-6-a1c1-faf0-55bd-c060-50d9-a725"
      },
      {
       "current": "329a4046-dfad-11eb-b29f-0242ac120008-6-1375-fce0-6e70-8232-2f04-a578",
       "next": "b8a56c28-6f17-11ee-89fa-0242ac120005-4-738b-e202-79bd-c187",
       "previous": "06afe9a8-98b0-11ea-8d02-0242ac120007-7-a1c1-faf0-55bd-c060-50d9-a725-803f"
      }
     ],
     "next": "b8a56c28-6f17-11ee-89fa-0242ac120005-5-738b-e202-79bd-c187-15b4",
     "previous": "06afe9a8-98b0-11ea-8d02-0242ac120007-8-a1c1-faf0-55bd-c060-50d9-a725-803f-3bbe"
    }
   },
   "source": [
    "ストレージノードを特定するにあたり、ノード名称が　ceph-nodexxx （xxxの部分は、右寄せ0埋めの数字3桁）というルールに従っていることを前提としている。<br>\n",
    " 例：ceph-node001<br>\n",
    " このノード名称ルールは、構築するCephクラスタ毎に変えるため、以下で定義する。"
   ]
  },
  {
   "cell_type": "code",
   "execution_count": null,
   "metadata": {
    "lc_cell_meme": {
     "current": "b8a56c28-6f17-11ee-89fa-0242ac120005-5-738b-e202-79bd-c187-15b4",
     "history": [
      {
       "current": "b8a56c28-6f17-11ee-89fa-0242ac120005-1-738b",
       "next": "329a4348-dfad-11eb-b29f-0242ac120008-1-ed21",
       "previous": "329a4046-dfad-11eb-b29f-0242ac120008-1-1375"
      },
      {
       "current": "b8a56c28-6f17-11ee-89fa-0242ac120005-2-738b-e202",
       "next": "329a4348-dfad-11eb-b29f-0242ac120008-2-ed21-7c79",
       "previous": "329a4046-dfad-11eb-b29f-0242ac120008-2-1375-fce0"
      },
      {
       "current": "b8a56c28-6f17-11ee-89fa-0242ac120005-3-738b-e202-79bd",
       "next": "329a4348-dfad-11eb-b29f-0242ac120008-3-ed21-7c79-85c9",
       "previous": "329a4046-dfad-11eb-b29f-0242ac120008-3-1375-fce0-6e70"
      },
      {
       "current": "b8a56c28-6f17-11ee-89fa-0242ac120005-4-738b-e202-79bd-c187",
       "next": "329a4348-dfad-11eb-b29f-0242ac120008-4-ed21-7c79-85c9-26cb",
       "previous": "329a4046-dfad-11eb-b29f-0242ac120008-4-1375-fce0-6e70-8232"
      },
      {
       "current": "b8a56c28-6f17-11ee-89fa-0242ac120005-5-738b-e202-79bd-c187-15b4",
       "next": "329a4348-dfad-11eb-b29f-0242ac120008-5-ed21-7c79-85c9-26cb-22eb",
       "previous": "329a4046-dfad-11eb-b29f-0242ac120008-5-1375-fce0-6e70-8232-2f04"
      }
     ],
     "next": "329a4348-dfad-11eb-b29f-0242ac120008-6-ed21-7c79-85c9-26cb-22eb-9075",
     "previous": "329a4046-dfad-11eb-b29f-0242ac120008-6-1375-fce0-6e70-8232-2f04-a578"
    }
   },
   "outputs": [],
   "source": [
    "# 初期化対象のインスタンス名称を設定する\n",
    "raise Exception('この先手作業が必要です')"
   ]
  },
  {
   "cell_type": "code",
   "execution_count": null,
   "metadata": {
    "lc_cell_meme": {
     "current": "329a4348-dfad-11eb-b29f-0242ac120008-6-ed21-7c79-85c9-26cb-22eb-9075",
     "history": [
      {
       "current": "329a4348-dfad-11eb-b29f-0242ac120008-1-ed21",
       "next": "04bfc54e-defc-11eb-b29f-0242ac120008",
       "previous": "329a4046-dfad-11eb-b29f-0242ac120008"
      },
      {
       "current": "329a4348-dfad-11eb-b29f-0242ac120008-1-ed21",
       "next": "04bfc54e-defc-11eb-b29f-0242ac120008-1-5336",
       "previous": "329a4046-dfad-11eb-b29f-0242ac120008-1-1375"
      },
      {
       "current": "329a4348-dfad-11eb-b29f-0242ac120008-2-ed21-7c79",
       "next": "b8a56c96-6f17-11ee-89fa-0242ac120005",
       "previous": "b8a56c28-6f17-11ee-89fa-0242ac120005"
      },
      {
       "current": "329a4348-dfad-11eb-b29f-0242ac120008-3-ed21-7c79-85c9",
       "next": "b8a56c96-6f17-11ee-89fa-0242ac120005-1-bdba",
       "previous": "b8a56c28-6f17-11ee-89fa-0242ac120005-1-738b"
      },
      {
       "current": "329a4348-dfad-11eb-b29f-0242ac120008-4-ed21-7c79-85c9-26cb",
       "next": "b8a56c96-6f17-11ee-89fa-0242ac120005-2-bdba-339c",
       "previous": "b8a56c28-6f17-11ee-89fa-0242ac120005-2-738b-e202"
      },
      {
       "current": "329a4348-dfad-11eb-b29f-0242ac120008-5-ed21-7c79-85c9-26cb-22eb",
       "next": "b8a56c96-6f17-11ee-89fa-0242ac120005-3-bdba-339c-e89f",
       "previous": "b8a56c28-6f17-11ee-89fa-0242ac120005-3-738b-e202-79bd"
      },
      {
       "current": "329a4348-dfad-11eb-b29f-0242ac120008-6-ed21-7c79-85c9-26cb-22eb-9075",
       "next": "b8a56c96-6f17-11ee-89fa-0242ac120005-4-bdba-339c-e89f-495d",
       "previous": "b8a56c28-6f17-11ee-89fa-0242ac120005-4-738b-e202-79bd-c187"
      }
     ],
     "next": "b8a56c96-6f17-11ee-89fa-0242ac120005-5-bdba-339c-e89f-495d-30ff",
     "previous": "b8a56c28-6f17-11ee-89fa-0242ac120005-5-738b-e202-79bd-c187-15b4"
    }
   },
   "outputs": [],
   "source": [
    "import pandas as pd\n",
    "import re\n",
    "\n",
    "# 対象インスタンス名称マッチングルール\n",
    "name_match_rule = r'ceph-xxx-node-[0-9]+'"
   ]
  },
  {
   "cell_type": "markdown",
   "metadata": {
    "lc_cell_meme": {
     "current": "b8a56c96-6f17-11ee-89fa-0242ac120005-5-bdba-339c-e89f-495d-30ff",
     "history": [
      {
       "current": "b8a56c96-6f17-11ee-89fa-0242ac120005-1-bdba",
       "next": "b8a56cf0-6f17-11ee-89fa-0242ac120005",
       "previous": "329a4348-dfad-11eb-b29f-0242ac120008-1-ed21"
      },
      {
       "current": "b8a56c96-6f17-11ee-89fa-0242ac120005-2-bdba-339c",
       "next": "b8a56cf0-6f17-11ee-89fa-0242ac120005-1-80c2",
       "previous": "329a4348-dfad-11eb-b29f-0242ac120008-2-ed21-7c79"
      },
      {
       "current": "b8a56c96-6f17-11ee-89fa-0242ac120005-3-bdba-339c-e89f",
       "next": "b8a56cf0-6f17-11ee-89fa-0242ac120005-2-80c2-4f1e",
       "previous": "329a4348-dfad-11eb-b29f-0242ac120008-3-ed21-7c79-85c9"
      },
      {
       "current": "b8a56c96-6f17-11ee-89fa-0242ac120005-4-bdba-339c-e89f-495d",
       "next": "b8a56cf0-6f17-11ee-89fa-0242ac120005-3-80c2-4f1e-f123",
       "previous": "329a4348-dfad-11eb-b29f-0242ac120008-4-ed21-7c79-85c9-26cb"
      },
      {
       "current": "b8a56c96-6f17-11ee-89fa-0242ac120005-5-bdba-339c-e89f-495d-30ff",
       "next": "b8a56cf0-6f17-11ee-89fa-0242ac120005-4-80c2-4f1e-f123-b9ee",
       "previous": "329a4348-dfad-11eb-b29f-0242ac120008-5-ed21-7c79-85c9-26cb-22eb"
      }
     ],
     "next": "b8a56cf0-6f17-11ee-89fa-0242ac120005-5-80c2-4f1e-f123-b9ee-f97c",
     "previous": "329a4348-dfad-11eb-b29f-0242ac120008-6-ed21-7c79-85c9-26cb-22eb-9075"
    }
   },
   "source": [
    "## OpenStack Ironicからノード情報の取得"
   ]
  },
  {
   "cell_type": "code",
   "execution_count": null,
   "metadata": {
    "lc_cell_meme": {
     "current": "b8a56cf0-6f17-11ee-89fa-0242ac120005-5-80c2-4f1e-f123-b9ee-f97c",
     "history": [
      {
       "current": "b8a56cf0-6f17-11ee-89fa-0242ac120005-1-80c2",
       "next": "b8a56d54-6f17-11ee-89fa-0242ac120005",
       "previous": "b8a56c96-6f17-11ee-89fa-0242ac120005"
      },
      {
       "current": "b8a56cf0-6f17-11ee-89fa-0242ac120005-2-80c2-4f1e",
       "next": "b8a56d54-6f17-11ee-89fa-0242ac120005-1-ff17",
       "previous": "b8a56c96-6f17-11ee-89fa-0242ac120005-1-bdba"
      },
      {
       "current": "b8a56cf0-6f17-11ee-89fa-0242ac120005-3-80c2-4f1e-f123",
       "next": "b8a56d54-6f17-11ee-89fa-0242ac120005-2-ff17-ee82",
       "previous": "b8a56c96-6f17-11ee-89fa-0242ac120005-2-bdba-339c"
      },
      {
       "current": "b8a56cf0-6f17-11ee-89fa-0242ac120005-4-80c2-4f1e-f123-b9ee",
       "next": "b8a56d54-6f17-11ee-89fa-0242ac120005-3-ff17-ee82-1f03",
       "previous": "b8a56c96-6f17-11ee-89fa-0242ac120005-3-bdba-339c-e89f"
      },
      {
       "current": "b8a56cf0-6f17-11ee-89fa-0242ac120005-5-80c2-4f1e-f123-b9ee-f97c",
       "next": "b8a56d54-6f17-11ee-89fa-0242ac120005-4-ff17-ee82-1f03-7d9f",
       "previous": "b8a56c96-6f17-11ee-89fa-0242ac120005-4-bdba-339c-e89f-495d"
      }
     ],
     "next": "b8a56d54-6f17-11ee-89fa-0242ac120005-5-ff17-ee82-1f03-7d9f-07af",
     "previous": "b8a56c96-6f17-11ee-89fa-0242ac120005-5-bdba-339c-e89f-495d-30ff"
    },
    "scrolled": true
   },
   "outputs": [],
   "source": [
    "cmd = \"openstack baremetal node list -f json --long\"\n",
    "nodes = run_openstack(cmd)"
   ]
  },
  {
   "cell_type": "code",
   "execution_count": null,
   "metadata": {
    "lc_cell_meme": {
     "current": "b8a56d54-6f17-11ee-89fa-0242ac120005-5-ff17-ee82-1f03-7d9f-07af",
     "history": [
      {
       "current": "b8a56d54-6f17-11ee-89fa-0242ac120005-1-ff17",
       "next": "b8a56dae-6f17-11ee-89fa-0242ac120005",
       "previous": "b8a56cf0-6f17-11ee-89fa-0242ac120005"
      },
      {
       "current": "b8a56d54-6f17-11ee-89fa-0242ac120005-2-ff17-ee82",
       "next": "b8a56dae-6f17-11ee-89fa-0242ac120005-1-ed15",
       "previous": "b8a56cf0-6f17-11ee-89fa-0242ac120005-1-80c2"
      },
      {
       "current": "b8a56d54-6f17-11ee-89fa-0242ac120005-3-ff17-ee82-1f03",
       "next": "b8a56dae-6f17-11ee-89fa-0242ac120005-2-ed15-31ad",
       "previous": "b8a56cf0-6f17-11ee-89fa-0242ac120005-2-80c2-4f1e"
      },
      {
       "current": "b8a56d54-6f17-11ee-89fa-0242ac120005-4-ff17-ee82-1f03-7d9f",
       "next": "b8a56dae-6f17-11ee-89fa-0242ac120005-3-ed15-31ad-d7a3",
       "previous": "b8a56cf0-6f17-11ee-89fa-0242ac120005-3-80c2-4f1e-f123"
      },
      {
       "current": "b8a56d54-6f17-11ee-89fa-0242ac120005-5-ff17-ee82-1f03-7d9f-07af",
       "next": "b8a56dae-6f17-11ee-89fa-0242ac120005-4-ed15-31ad-d7a3-4f9a",
       "previous": "b8a56cf0-6f17-11ee-89fa-0242ac120005-4-80c2-4f1e-f123-b9ee"
      }
     ],
     "next": "b8a56dae-6f17-11ee-89fa-0242ac120005-5-ed15-31ad-d7a3-4f9a-2cbd",
     "previous": "b8a56cf0-6f17-11ee-89fa-0242ac120005-5-80c2-4f1e-f123-b9ee-f97c"
    }
   },
   "outputs": [],
   "source": [
    "import pandas as pd\n",
    "import re\n",
    "\n",
    "for node in nodes:\n",
    "    instance_uuid = node.get(\"Instance UUID\", None)\n",
    "    if instance_uuid is None:\n",
    "        continue\n",
    "        \n",
    "    node[\"instance_name\"] = node[\"Instance Info\"][\"display_name\"]\n",
    "\n",
    "pd.set_option('display.max_rows', None)\n",
    "pd.DataFrame(nodes, columns=['Instance UUID', 'instance_name', 'UUID', 'Maintenance', 'Provisioning State', 'Power State', 'Name'])"
   ]
  },
  {
   "cell_type": "code",
   "execution_count": null,
   "metadata": {
    "lc_cell_meme": {
     "current": "b8a56dae-6f17-11ee-89fa-0242ac120005-5-ed15-31ad-d7a3-4f9a-2cbd",
     "history": [
      {
       "current": "b8a56dae-6f17-11ee-89fa-0242ac120005-1-ed15",
       "next": "b8a56e08-6f17-11ee-89fa-0242ac120005",
       "previous": "b8a56d54-6f17-11ee-89fa-0242ac120005"
      },
      {
       "current": "b8a56dae-6f17-11ee-89fa-0242ac120005-2-ed15-31ad",
       "next": "b8a56e08-6f17-11ee-89fa-0242ac120005-1-f0f1",
       "previous": "b8a56d54-6f17-11ee-89fa-0242ac120005-1-ff17"
      },
      {
       "current": "b8a56dae-6f17-11ee-89fa-0242ac120005-3-ed15-31ad-d7a3",
       "next": "b8a56e08-6f17-11ee-89fa-0242ac120005-2-f0f1-221f",
       "previous": "b8a56d54-6f17-11ee-89fa-0242ac120005-2-ff17-ee82"
      },
      {
       "current": "b8a56dae-6f17-11ee-89fa-0242ac120005-4-ed15-31ad-d7a3-4f9a",
       "next": "b8a56e08-6f17-11ee-89fa-0242ac120005-3-f0f1-221f-8951",
       "previous": "b8a56d54-6f17-11ee-89fa-0242ac120005-3-ff17-ee82-1f03"
      },
      {
       "current": "b8a56dae-6f17-11ee-89fa-0242ac120005-5-ed15-31ad-d7a3-4f9a-2cbd",
       "next": "b8a56e08-6f17-11ee-89fa-0242ac120005-4-f0f1-221f-8951-83e5",
       "previous": "b8a56d54-6f17-11ee-89fa-0242ac120005-4-ff17-ee82-1f03-7d9f"
      }
     ],
     "next": "b8a56e08-6f17-11ee-89fa-0242ac120005-5-f0f1-221f-8951-83e5-68c1",
     "previous": "b8a56d54-6f17-11ee-89fa-0242ac120005-5-ff17-ee82-1f03-7d9f-07af"
    }
   },
   "outputs": [],
   "source": [
    "cmd = \"openstack server list -f json --long\"\n",
    "nova_server_map = run_openstack(cmd)"
   ]
  },
  {
   "cell_type": "code",
   "execution_count": null,
   "metadata": {
    "lc_cell_meme": {
     "current": "b8a56e08-6f17-11ee-89fa-0242ac120005-5-f0f1-221f-8951-83e5-68c1",
     "history": [
      {
       "current": "b8a56e08-6f17-11ee-89fa-0242ac120005",
       "next": "b8a56e62-6f17-11ee-89fa-0242ac120005",
       "previous": "b8a56dae-6f17-11ee-89fa-0242ac120005"
      },
      {
       "current": "b8a56e08-6f17-11ee-89fa-0242ac120005-1-f0f1",
       "next": "06afec50-98b0-11ea-8d02-0242ac120007-3-5828-a305-b690",
       "previous": "b8a56dae-6f17-11ee-89fa-0242ac120005"
      },
      {
       "current": "b8a56e08-6f17-11ee-89fa-0242ac120005-2-f0f1-221f",
       "next": "06afec50-98b0-11ea-8d02-0242ac120007-4-5828-a305-b690-a344",
       "previous": "b8a56dae-6f17-11ee-89fa-0242ac120005-1-ed15"
      },
      {
       "current": "b8a56e08-6f17-11ee-89fa-0242ac120005-3-f0f1-221f-8951",
       "next": "06afec50-98b0-11ea-8d02-0242ac120007-5-5828-a305-b690-a344-79c9",
       "previous": "b8a56dae-6f17-11ee-89fa-0242ac120005-2-ed15-31ad"
      },
      {
       "current": "b8a56e08-6f17-11ee-89fa-0242ac120005-4-f0f1-221f-8951-83e5",
       "next": "06afec50-98b0-11ea-8d02-0242ac120007-6-5828-a305-b690-a344-79c9-c2c6",
       "previous": "b8a56dae-6f17-11ee-89fa-0242ac120005-3-ed15-31ad-d7a3"
      },
      {
       "current": "b8a56e08-6f17-11ee-89fa-0242ac120005-5-f0f1-221f-8951-83e5-68c1",
       "next": "06afec50-98b0-11ea-8d02-0242ac120007-7-5828-a305-b690-a344-79c9-c2c6-eac5",
       "previous": "b8a56dae-6f17-11ee-89fa-0242ac120005-4-ed15-31ad-d7a3-4f9a"
      }
     ],
     "next": "06afec50-98b0-11ea-8d02-0242ac120007-8-5828-a305-b690-a344-79c9-c2c6-eac5-8dc4",
     "previous": "b8a56dae-6f17-11ee-89fa-0242ac120005-5-ed15-31ad-d7a3-4f9a-2cbd"
    }
   },
   "outputs": [],
   "source": [
    "node_list = []\n",
    "for server in nova_server_map:\n",
    "    node_id = server['ID']\n",
    "    if re.match(name_match_rule, server['Name']) is None:\n",
    "        continue\n",
    "    for node in nodes:\n",
    "        if node['Instance UUID'] == node_id:\n",
    "            node_info = {}\n",
    "            node_list.append(node_info)\n",
    "            node_info['name'] = server['Name']\n",
    "            node_info['node_name'] = node['Name']\n",
    "            instance_ip_info = instance_ip_map.get(server['Name'], None)\n",
    "            if instance_ip_info is not None:\n",
    "                node_info['instance_ip'] = instance_ip_info.get('ipv4', None)\n",
    "            else:\n",
    "                node_info['instance_ip'] = None\n",
    "            address = server['Networks']\n",
    "            prov_net = address['provisioning-net']\n",
    "            for addr in prov_net:\n",
    "                node_info['prov_ip'] = addr\n",
    "\n",
    "pd.DataFrame(node_list)"
   ]
  },
  {
   "cell_type": "markdown",
   "metadata": {
    "lc_cell_meme": {
     "current": "06afec50-98b0-11ea-8d02-0242ac120007-8-5828-a305-b690-a344-79c9-c2c6-eac5-8dc4",
     "history": [
      {
       "current": "06afec50-98b0-11ea-8d02-0242ac120007-1-5828",
       "next": "8a48d590-98a1-11ea-8d02-0242ac120007",
       "previous": "357fc83a-969d-11ea-8d02-0242ac120007"
      },
      {
       "current": "06afec50-98b0-11ea-8d02-0242ac120007-2-5828-a305",
       "next": "8a48d590-98a1-11ea-8d02-0242ac120007-1-1c0f",
       "previous": "357fc83a-969d-11ea-8d02-0242ac120007-1-9a36"
      },
      {
       "current": "06afec50-98b0-11ea-8d02-0242ac120007-3-5828-a305-b690",
       "next": "8a48d590-98a1-11ea-8d02-0242ac120007-2-1c0f-5b25",
       "previous": "357fc83a-969d-11ea-8d02-0242ac120007-2-9a36-95b8"
      },
      {
       "current": "06afec50-98b0-11ea-8d02-0242ac120007-3-5828-a305-b690",
       "next": "8a48d590-98a1-11ea-8d02-0242ac120007-3-1c0f-5b25-d7c0",
       "previous": "357fc83a-969d-11ea-8d02-0242ac120007-3-9a36-95b8-3fa9"
      },
      {
       "current": "06afec50-98b0-11ea-8d02-0242ac120007-4-5828-a305-b690-a344",
       "next": "8a48d590-98a1-11ea-8d02-0242ac120007-3-1c0f-5b25-d7c0",
       "previous": "b8a56e08-6f17-11ee-89fa-0242ac120005"
      },
      {
       "current": "06afec50-98b0-11ea-8d02-0242ac120007-5-5828-a305-b690-a344-79c9",
       "next": "8a48d590-98a1-11ea-8d02-0242ac120007-4-1c0f-5b25-d7c0-1b41",
       "previous": "b8a56e08-6f17-11ee-89fa-0242ac120005-1-f0f1"
      },
      {
       "current": "06afec50-98b0-11ea-8d02-0242ac120007-6-5828-a305-b690-a344-79c9-c2c6",
       "next": "8a48d590-98a1-11ea-8d02-0242ac120007-5-1c0f-5b25-d7c0-1b41-10cc",
       "previous": "b8a56e08-6f17-11ee-89fa-0242ac120005-2-f0f1-221f"
      },
      {
       "current": "06afec50-98b0-11ea-8d02-0242ac120007-7-5828-a305-b690-a344-79c9-c2c6-eac5",
       "next": "8a48d590-98a1-11ea-8d02-0242ac120007-6-1c0f-5b25-d7c0-1b41-10cc-cc9d",
       "previous": "b8a56e08-6f17-11ee-89fa-0242ac120005-3-f0f1-221f-8951"
      },
      {
       "current": "06afec50-98b0-11ea-8d02-0242ac120007-8-5828-a305-b690-a344-79c9-c2c6-eac5-8dc4",
       "next": "8a48d590-98a1-11ea-8d02-0242ac120007-7-1c0f-5b25-d7c0-1b41-10cc-cc9d-0f64",
       "previous": "b8a56e08-6f17-11ee-89fa-0242ac120005-4-f0f1-221f-8951-83e5"
      }
     ],
     "next": "8a48d590-98a1-11ea-8d02-0242ac120007-8-1c0f-5b25-d7c0-1b41-10cc-cc9d-0f64-b012",
     "previous": "b8a56e08-6f17-11ee-89fa-0242ac120005-5-f0f1-221f-8951-83e5-68c1"
    }
   },
   "source": [
    "## 登録対象Cephノード情報の取得"
   ]
  },
  {
   "cell_type": "markdown",
   "metadata": {
    "lc_cell_meme": {
     "current": "8a48d590-98a1-11ea-8d02-0242ac120007-8-1c0f-5b25-d7c0-1b41-10cc-cc9d-0f64-b012",
     "history": [
      {
       "current": "8a48d590-98a1-11ea-8d02-0242ac120007",
       "next": "8a48d90a-98a1-11ea-8d02-0242ac120007",
       "previous": "357fc83a-969d-11ea-8d02-0242ac120007"
      },
      {
       "current": "8a48d590-98a1-11ea-8d02-0242ac120007",
       "next": "8a48d90a-98a1-11ea-8d02-0242ac120007",
       "previous": "06afec50-98b0-11ea-8d02-0242ac120007"
      },
      {
       "current": "8a48d590-98a1-11ea-8d02-0242ac120007",
       "next": "a85c1dda-959a-11ea-8d02-0242ac120007",
       "previous": "06afec50-98b0-11ea-8d02-0242ac120007"
      },
      {
       "current": "8a48d590-98a1-11ea-8d02-0242ac120007-1-1c0f",
       "next": "e879cdac-95bf-11ea-8d02-0242ac120007",
       "previous": "06afec50-98b0-11ea-8d02-0242ac120007"
      },
      {
       "current": "8a48d590-98a1-11ea-8d02-0242ac120007-2-1c0f-5b25",
       "next": "e879cdac-95bf-11ea-8d02-0242ac120007-1-4a2c",
       "previous": "06afec50-98b0-11ea-8d02-0242ac120007-1-5828"
      },
      {
       "current": "8a48d590-98a1-11ea-8d02-0242ac120007-3-1c0f-5b25-d7c0",
       "next": "e879cdac-95bf-11ea-8d02-0242ac120007-2-4a2c-6b2f",
       "previous": "06afec50-98b0-11ea-8d02-0242ac120007-2-5828-a305"
      },
      {
       "current": "8a48d590-98a1-11ea-8d02-0242ac120007-4-1c0f-5b25-d7c0-1b41",
       "next": "e879cdac-95bf-11ea-8d02-0242ac120007-3-4a2c-6b2f-958d",
       "previous": "06afec50-98b0-11ea-8d02-0242ac120007-3-5828-a305-b690"
      },
      {
       "current": "8a48d590-98a1-11ea-8d02-0242ac120007-5-1c0f-5b25-d7c0-1b41-10cc",
       "next": "e879cdac-95bf-11ea-8d02-0242ac120007-4-4a2c-6b2f-958d-b7d1",
       "previous": "06afec50-98b0-11ea-8d02-0242ac120007-4-5828-a305-b690-a344"
      },
      {
       "current": "8a48d590-98a1-11ea-8d02-0242ac120007-6-1c0f-5b25-d7c0-1b41-10cc-cc9d",
       "next": "e879cdac-95bf-11ea-8d02-0242ac120007-5-4a2c-6b2f-958d-b7d1-0064",
       "previous": "06afec50-98b0-11ea-8d02-0242ac120007-5-5828-a305-b690-a344-79c9"
      },
      {
       "current": "8a48d590-98a1-11ea-8d02-0242ac120007-7-1c0f-5b25-d7c0-1b41-10cc-cc9d-0f64",
       "next": "e879cdac-95bf-11ea-8d02-0242ac120007-6-4a2c-6b2f-958d-b7d1-0064-3785",
       "previous": "06afec50-98b0-11ea-8d02-0242ac120007-6-5828-a305-b690-a344-79c9-c2c6"
      },
      {
       "current": "8a48d590-98a1-11ea-8d02-0242ac120007-8-1c0f-5b25-d7c0-1b41-10cc-cc9d-0f64-b012",
       "next": "e879cdac-95bf-11ea-8d02-0242ac120007-7-4a2c-6b2f-958d-b7d1-0064-3785-1fa0",
       "previous": "06afec50-98b0-11ea-8d02-0242ac120007-7-5828-a305-b690-a344-79c9-c2c6-eac5"
      }
     ],
     "next": "e879cdac-95bf-11ea-8d02-0242ac120007-8-4a2c-6b2f-958d-b7d1-0064-3785-1fa0-fa32",
     "previous": "06afec50-98b0-11ea-8d02-0242ac120007-8-5828-a305-b690-a344-79c9-c2c6-eac5-8dc4"
    }
   },
   "source": [
    "初期化対象のインスタンス名称を設定する"
   ]
  },
  {
   "cell_type": "code",
   "execution_count": null,
   "metadata": {
    "lc_cell_meme": {
     "current": "e879cdac-95bf-11ea-8d02-0242ac120007-8-4a2c-6b2f-958d-b7d1-0064-3785-1fa0-fa32",
     "history": [
      {
       "current": "e879cdac-95bf-11ea-8d02-0242ac120007",
       "next": "81dd4f74-9597-11ea-8d02-0242ac120007",
       "previous": "d1bcb8ac-9599-11ea-8d02-0242ac120007"
      },
      {
       "current": "e879cdac-95bf-11ea-8d02-0242ac120007",
       "next": "81dd4f74-9597-11ea-8d02-0242ac120007",
       "previous": "a85c1dda-959a-11ea-8d02-0242ac120007"
      },
      {
       "current": "e879cdac-95bf-11ea-8d02-0242ac120007",
       "next": "8a48d90a-98a1-11ea-8d02-0242ac120007",
       "previous": "a85c1dda-959a-11ea-8d02-0242ac120007"
      },
      {
       "current": "e879cdac-95bf-11ea-8d02-0242ac120007-1-4a2c",
       "next": "8a48d90a-98a1-11ea-8d02-0242ac120007",
       "previous": "8a48d590-98a1-11ea-8d02-0242ac120007"
      },
      {
       "current": "e879cdac-95bf-11ea-8d02-0242ac120007-2-4a2c-6b2f",
       "next": "8a48d90a-98a1-11ea-8d02-0242ac120007-1-0ebc",
       "previous": "8a48d590-98a1-11ea-8d02-0242ac120007-1-1c0f"
      },
      {
       "current": "e879cdac-95bf-11ea-8d02-0242ac120007-2-4a2c-6b2f",
       "next": "8a48d90a-98a1-11ea-8d02-0242ac120007-2-0ebc-93ac",
       "previous": "8a48d590-98a1-11ea-8d02-0242ac120007-2-1c0f-5b25"
      },
      {
       "current": "e879cdac-95bf-11ea-8d02-0242ac120007-3-4a2c-6b2f-958d",
       "next": "809aa1e6-def9-11eb-b29f-0242ac120008",
       "previous": "8a48d590-98a1-11ea-8d02-0242ac120007-2-1c0f-5b25"
      },
      {
       "current": "e879cdac-95bf-11ea-8d02-0242ac120007-4-4a2c-6b2f-958d-b7d1",
       "next": "809aa1e6-def9-11eb-b29f-0242ac120008-1-b49e",
       "previous": "8a48d590-98a1-11ea-8d02-0242ac120007-3-1c0f-5b25-d7c0"
      },
      {
       "current": "e879cdac-95bf-11ea-8d02-0242ac120007-5-4a2c-6b2f-958d-b7d1-0064",
       "next": "809aa1e6-def9-11eb-b29f-0242ac120008-2-b49e-a35a",
       "previous": "8a48d590-98a1-11ea-8d02-0242ac120007-4-1c0f-5b25-d7c0-1b41"
      },
      {
       "current": "e879cdac-95bf-11ea-8d02-0242ac120007-6-4a2c-6b2f-958d-b7d1-0064-3785",
       "next": "809aa1e6-def9-11eb-b29f-0242ac120008-3-b49e-a35a-15c6",
       "previous": "8a48d590-98a1-11ea-8d02-0242ac120007-5-1c0f-5b25-d7c0-1b41-10cc"
      },
      {
       "current": "e879cdac-95bf-11ea-8d02-0242ac120007-7-4a2c-6b2f-958d-b7d1-0064-3785-1fa0",
       "next": "809aa1e6-def9-11eb-b29f-0242ac120008-4-b49e-a35a-15c6-b58c",
       "previous": "8a48d590-98a1-11ea-8d02-0242ac120007-6-1c0f-5b25-d7c0-1b41-10cc-cc9d"
      },
      {
       "current": "e879cdac-95bf-11ea-8d02-0242ac120007-8-4a2c-6b2f-958d-b7d1-0064-3785-1fa0-fa32",
       "next": "809aa1e6-def9-11eb-b29f-0242ac120008-5-b49e-a35a-15c6-b58c-5a83",
       "previous": "8a48d590-98a1-11ea-8d02-0242ac120007-7-1c0f-5b25-d7c0-1b41-10cc-cc9d-0f64"
      }
     ],
     "next": "809aa1e6-def9-11eb-b29f-0242ac120008-6-b49e-a35a-15c6-b58c-5a83-5d10",
     "previous": "8a48d590-98a1-11ea-8d02-0242ac120007-8-1c0f-5b25-d7c0-1b41-10cc-cc9d-0f64-b012"
    },
    "scrolled": true
   },
   "outputs": [],
   "source": [
    "# 初期化対象のインスタンス名称を設定する\n",
    "raise Exception('この先手作業が必要です')"
   ]
  },
  {
   "cell_type": "markdown",
   "metadata": {
    "lc_cell_meme": {
     "current": "809aa1e6-def9-11eb-b29f-0242ac120008-6-b49e-a35a-15c6-b58c-5a83-5d10",
     "history": [
      {
       "current": "809aa1e6-def9-11eb-b29f-0242ac120008-1-b49e",
       "next": "8a48d90a-98a1-11ea-8d02-0242ac120007-2-0ebc-93ac",
       "previous": "e879cdac-95bf-11ea-8d02-0242ac120007-2-4a2c-6b2f"
      },
      {
       "current": "809aa1e6-def9-11eb-b29f-0242ac120008-2-b49e-a35a",
       "next": "8a48d90a-98a1-11ea-8d02-0242ac120007-3-0ebc-93ac-04b4",
       "previous": "e879cdac-95bf-11ea-8d02-0242ac120007-3-4a2c-6b2f-958d"
      },
      {
       "current": "809aa1e6-def9-11eb-b29f-0242ac120008-3-b49e-a35a-15c6",
       "next": "8a48d90a-98a1-11ea-8d02-0242ac120007-4-0ebc-93ac-04b4-9167",
       "previous": "e879cdac-95bf-11ea-8d02-0242ac120007-4-4a2c-6b2f-958d-b7d1"
      },
      {
       "current": "809aa1e6-def9-11eb-b29f-0242ac120008-4-b49e-a35a-15c6-b58c",
       "next": "8a48d90a-98a1-11ea-8d02-0242ac120007-5-0ebc-93ac-04b4-9167-2559",
       "previous": "e879cdac-95bf-11ea-8d02-0242ac120007-5-4a2c-6b2f-958d-b7d1-0064"
      },
      {
       "current": "809aa1e6-def9-11eb-b29f-0242ac120008-5-b49e-a35a-15c6-b58c-5a83",
       "next": "8a48d90a-98a1-11ea-8d02-0242ac120007-6-0ebc-93ac-04b4-9167-2559-434c",
       "previous": "e879cdac-95bf-11ea-8d02-0242ac120007-6-4a2c-6b2f-958d-b7d1-0064-3785"
      },
      {
       "current": "809aa1e6-def9-11eb-b29f-0242ac120008-6-b49e-a35a-15c6-b58c-5a83-5d10",
       "next": "8a48d90a-98a1-11ea-8d02-0242ac120007-7-0ebc-93ac-04b4-9167-2559-434c-f9d6",
       "previous": "e879cdac-95bf-11ea-8d02-0242ac120007-7-4a2c-6b2f-958d-b7d1-0064-3785-1fa0"
      }
     ],
     "next": "8a48d90a-98a1-11ea-8d02-0242ac120007-8-0ebc-93ac-04b4-9167-2559-434c-f9d6-4258",
     "previous": "e879cdac-95bf-11ea-8d02-0242ac120007-8-4a2c-6b2f-958d-b7d1-0064-3785-1fa0-fa32"
    }
   },
   "source": [
    "### 対象ノードの指定"
   ]
  },
  {
   "cell_type": "code",
   "execution_count": null,
   "metadata": {
    "lc_cell_meme": {
     "current": "8a48d90a-98a1-11ea-8d02-0242ac120007-8-0ebc-93ac-04b4-9167-2559-434c-f9d6-4258",
     "history": [
      {
       "current": "8a48d90a-98a1-11ea-8d02-0242ac120007",
       "next": "8a48dae0-98a1-11ea-8d02-0242ac120007",
       "previous": "8a48d590-98a1-11ea-8d02-0242ac120007"
      },
      {
       "current": "8a48d90a-98a1-11ea-8d02-0242ac120007-1-0ebc",
       "next": "8a48dae0-98a1-11ea-8d02-0242ac120007",
       "previous": "e879cdac-95bf-11ea-8d02-0242ac120007"
      },
      {
       "current": "8a48d90a-98a1-11ea-8d02-0242ac120007-2-0ebc-93ac",
       "next": "8a48dae0-98a1-11ea-8d02-0242ac120007-1-4da2",
       "previous": "e879cdac-95bf-11ea-8d02-0242ac120007-1-4a2c"
      },
      {
       "current": "8a48d90a-98a1-11ea-8d02-0242ac120007-2-0ebc-93ac",
       "next": "8a48dae0-98a1-11ea-8d02-0242ac120007-2-4da2-9c77",
       "previous": "e879cdac-95bf-11ea-8d02-0242ac120007-2-4a2c-6b2f"
      },
      {
       "current": "8a48d90a-98a1-11ea-8d02-0242ac120007-3-0ebc-93ac-04b4",
       "next": "8a48dae0-98a1-11ea-8d02-0242ac120007-2-4da2-9c77",
       "previous": "809aa1e6-def9-11eb-b29f-0242ac120008"
      },
      {
       "current": "8a48d90a-98a1-11ea-8d02-0242ac120007-3-0ebc-93ac-04b4",
       "next": "8a48dae0-98a1-11ea-8d02-0242ac120007-3-4da2-9c77-127e",
       "previous": "809aa1e6-def9-11eb-b29f-0242ac120008-1-b49e"
      },
      {
       "current": "8a48d90a-98a1-11ea-8d02-0242ac120007-3-0ebc-93ac-04b4",
       "next": "bb3e251e-61bc-11ee-89fa-0242ac120005",
       "previous": "809aa1e6-def9-11eb-b29f-0242ac120008-1-b49e"
      },
      {
       "current": "8a48d90a-98a1-11ea-8d02-0242ac120007-3-0ebc-93ac-04b4",
       "next": "6cd9fe0e-6250-11ee-89fa-0242ac120005",
       "previous": "809aa1e6-def9-11eb-b29f-0242ac120008-1-b49e"
      },
      {
       "current": "8a48d90a-98a1-11ea-8d02-0242ac120007-4-0ebc-93ac-04b4-9167",
       "next": "bb3e251e-61bc-11ee-89fa-0242ac120005",
       "previous": "809aa1e6-def9-11eb-b29f-0242ac120008-1-b49e"
      },
      {
       "current": "8a48d90a-98a1-11ea-8d02-0242ac120007-5-0ebc-93ac-04b4-9167-2559",
       "next": "bb3e251e-61bc-11ee-89fa-0242ac120005-1-32e0",
       "previous": "809aa1e6-def9-11eb-b29f-0242ac120008-2-b49e-a35a"
      },
      {
       "current": "8a48d90a-98a1-11ea-8d02-0242ac120007-6-0ebc-93ac-04b4-9167-2559-434c",
       "next": "bb3e251e-61bc-11ee-89fa-0242ac120005-2-32e0-31e1",
       "previous": "809aa1e6-def9-11eb-b29f-0242ac120008-3-b49e-a35a-15c6"
      },
      {
       "current": "8a48d90a-98a1-11ea-8d02-0242ac120007-7-0ebc-93ac-04b4-9167-2559-434c-f9d6",
       "next": "bb3e251e-61bc-11ee-89fa-0242ac120005-3-32e0-31e1-f610",
       "previous": "809aa1e6-def9-11eb-b29f-0242ac120008-4-b49e-a35a-15c6-b58c"
      },
      {
       "current": "8a48d90a-98a1-11ea-8d02-0242ac120007-8-0ebc-93ac-04b4-9167-2559-434c-f9d6-4258",
       "next": "bb3e251e-61bc-11ee-89fa-0242ac120005-4-32e0-31e1-f610-f1ba",
       "previous": "809aa1e6-def9-11eb-b29f-0242ac120008-5-b49e-a35a-15c6-b58c-5a83"
      }
     ],
     "next": "bb3e251e-61bc-11ee-89fa-0242ac120005-5-32e0-31e1-f610-f1ba-307f",
     "previous": "809aa1e6-def9-11eb-b29f-0242ac120008-6-b49e-a35a-15c6-b58c-5a83-5d10"
    }
   },
   "outputs": [],
   "source": [
    "# bootstrapノードを除いた、対象ノードを指定\n",
    "target_name_list = ['ceph-xxx-node-002','ceph-xxx-node-003','ceph-xxx-node-004','ceph-xxx-node-005','ceph-xxx-node-006','ceph-xxx-node-007']"
   ]
  },
  {
   "cell_type": "code",
   "execution_count": null,
   "metadata": {
    "lc_cell_meme": {
     "current": "bb3e251e-61bc-11ee-89fa-0242ac120005-5-32e0-31e1-f610-f1ba-307f",
     "history": [
      {
       "current": "bb3e251e-61bc-11ee-89fa-0242ac120005",
       "next": "8a48dae0-98a1-11ea-8d02-0242ac120007-3-4da2-9c77-127e",
       "previous": "8a48d90a-98a1-11ea-8d02-0242ac120007-3-0ebc-93ac-04b4"
      },
      {
       "current": "bb3e251e-61bc-11ee-89fa-0242ac120005",
       "next": "8a48dae0-98a1-11ea-8d02-0242ac120007-3-4da2-9c77-127e",
       "previous": "6cd9fe0e-6250-11ee-89fa-0242ac120005"
      },
      {
       "current": "bb3e251e-61bc-11ee-89fa-0242ac120005",
       "next": "6cd9fe0e-6250-11ee-89fa-0242ac120005",
       "previous": "8a48d90a-98a1-11ea-8d02-0242ac120007-3-0ebc-93ac-04b4"
      },
      {
       "current": "bb3e251e-61bc-11ee-89fa-0242ac120005-1-32e0",
       "next": "cd84aa88-7f8d-11ee-91d3-0242ac120006",
       "previous": "8a48d90a-98a1-11ea-8d02-0242ac120007-3-0ebc-93ac-04b4"
      },
      {
       "current": "bb3e251e-61bc-11ee-89fa-0242ac120005-2-32e0-31e1",
       "next": "cd84aa88-7f8d-11ee-91d3-0242ac120006-1-97fd",
       "previous": "8a48d90a-98a1-11ea-8d02-0242ac120007-4-0ebc-93ac-04b4-9167"
      },
      {
       "current": "bb3e251e-61bc-11ee-89fa-0242ac120005-3-32e0-31e1-f610",
       "next": "cd84aa88-7f8d-11ee-91d3-0242ac120006-2-97fd-b938",
       "previous": "8a48d90a-98a1-11ea-8d02-0242ac120007-5-0ebc-93ac-04b4-9167-2559"
      },
      {
       "current": "bb3e251e-61bc-11ee-89fa-0242ac120005-4-32e0-31e1-f610-f1ba",
       "next": "cd84aa88-7f8d-11ee-91d3-0242ac120006-3-97fd-b938-361e",
       "previous": "8a48d90a-98a1-11ea-8d02-0242ac120007-6-0ebc-93ac-04b4-9167-2559-434c"
      },
      {
       "current": "bb3e251e-61bc-11ee-89fa-0242ac120005-5-32e0-31e1-f610-f1ba-307f",
       "next": "cd84aa88-7f8d-11ee-91d3-0242ac120006-4-97fd-b938-361e-4ca1",
       "previous": "8a48d90a-98a1-11ea-8d02-0242ac120007-7-0ebc-93ac-04b4-9167-2559-434c-f9d6"
      }
     ],
     "next": "cd84aa88-7f8d-11ee-91d3-0242ac120006-5-97fd-b938-361e-4ca1-e860",
     "previous": "8a48d90a-98a1-11ea-8d02-0242ac120007-8-0ebc-93ac-04b4-9167-2559-434c-f9d6-4258"
    }
   },
   "outputs": [],
   "source": [
    "bootstrap_node_name = 'ceph-xxx-node-001'"
   ]
  },
  {
   "cell_type": "markdown",
   "metadata": {
    "lc_cell_meme": {
     "current": "cd84aa88-7f8d-11ee-91d3-0242ac120006-5-97fd-b938-361e-4ca1-e860",
     "history": [
      {
       "current": "cd84aa88-7f8d-11ee-91d3-0242ac120006-1-97fd",
       "next": "6cd9fe0e-6250-11ee-89fa-0242ac120005",
       "previous": "bb3e251e-61bc-11ee-89fa-0242ac120005"
      },
      {
       "current": "cd84aa88-7f8d-11ee-91d3-0242ac120006-2-97fd-b938",
       "next": "6cd9fe0e-6250-11ee-89fa-0242ac120005-1-91a2",
       "previous": "bb3e251e-61bc-11ee-89fa-0242ac120005-1-32e0"
      },
      {
       "current": "cd84aa88-7f8d-11ee-91d3-0242ac120006-3-97fd-b938-361e",
       "next": "6cd9fe0e-6250-11ee-89fa-0242ac120005-2-91a2-4bef",
       "previous": "bb3e251e-61bc-11ee-89fa-0242ac120005-2-32e0-31e1"
      },
      {
       "current": "cd84aa88-7f8d-11ee-91d3-0242ac120006-4-97fd-b938-361e-4ca1",
       "next": "6cd9fe0e-6250-11ee-89fa-0242ac120005-3-91a2-4bef-62fa",
       "previous": "bb3e251e-61bc-11ee-89fa-0242ac120005-3-32e0-31e1-f610"
      },
      {
       "current": "cd84aa88-7f8d-11ee-91d3-0242ac120006-5-97fd-b938-361e-4ca1-e860",
       "next": "6cd9fe0e-6250-11ee-89fa-0242ac120005-4-91a2-4bef-62fa-0ec2",
       "previous": "bb3e251e-61bc-11ee-89fa-0242ac120005-4-32e0-31e1-f610-f1ba"
      }
     ],
     "next": "6cd9fe0e-6250-11ee-89fa-0242ac120005-5-91a2-4bef-62fa-0ec2-fd36",
     "previous": "bb3e251e-61bc-11ee-89fa-0242ac120005-5-32e0-31e1-f610-f1ba-307f"
    }
   },
   "source": [
    "### 各ノードのラベル定義"
   ]
  },
  {
   "cell_type": "code",
   "execution_count": null,
   "metadata": {
    "lc_cell_meme": {
     "current": "6cd9fe0e-6250-11ee-89fa-0242ac120005-5-91a2-4bef-62fa-0ec2-fd36",
     "history": [
      {
       "current": "6cd9fe0e-6250-11ee-89fa-0242ac120005",
       "next": "bb3e251e-61bc-11ee-89fa-0242ac120005",
       "previous": "8a48d90a-98a1-11ea-8d02-0242ac120007-3-0ebc-93ac-04b4"
      },
      {
       "current": "6cd9fe0e-6250-11ee-89fa-0242ac120005",
       "next": "8a48dae0-98a1-11ea-8d02-0242ac120007-3-4da2-9c77-127e",
       "previous": "bb3e251e-61bc-11ee-89fa-0242ac120005"
      },
      {
       "current": "6cd9fe0e-6250-11ee-89fa-0242ac120005-1-91a2",
       "next": "8a48dae0-98a1-11ea-8d02-0242ac120007-3-4da2-9c77-127e",
       "previous": "cd84aa88-7f8d-11ee-91d3-0242ac120006"
      },
      {
       "current": "6cd9fe0e-6250-11ee-89fa-0242ac120005-2-91a2-4bef",
       "next": "8a48dae0-98a1-11ea-8d02-0242ac120007-4-4da2-9c77-127e-85d4",
       "previous": "cd84aa88-7f8d-11ee-91d3-0242ac120006-1-97fd"
      },
      {
       "current": "6cd9fe0e-6250-11ee-89fa-0242ac120005-3-91a2-4bef-62fa",
       "next": "8a48dae0-98a1-11ea-8d02-0242ac120007-5-4da2-9c77-127e-85d4-a83e",
       "previous": "cd84aa88-7f8d-11ee-91d3-0242ac120006-2-97fd-b938"
      },
      {
       "current": "6cd9fe0e-6250-11ee-89fa-0242ac120005-4-91a2-4bef-62fa-0ec2",
       "next": "8a48dae0-98a1-11ea-8d02-0242ac120007-6-4da2-9c77-127e-85d4-a83e-e23a",
       "previous": "cd84aa88-7f8d-11ee-91d3-0242ac120006-3-97fd-b938-361e"
      },
      {
       "current": "6cd9fe0e-6250-11ee-89fa-0242ac120005-5-91a2-4bef-62fa-0ec2-fd36",
       "next": "8a48dae0-98a1-11ea-8d02-0242ac120007-7-4da2-9c77-127e-85d4-a83e-e23a-4e50",
       "previous": "cd84aa88-7f8d-11ee-91d3-0242ac120006-4-97fd-b938-361e-4ca1"
      }
     ],
     "next": "8a48dae0-98a1-11ea-8d02-0242ac120007-8-4da2-9c77-127e-85d4-a83e-e23a-4e50-7736",
     "previous": "cd84aa88-7f8d-11ee-91d3-0242ac120006-5-97fd-b938-361e-4ca1-e860"
    }
   },
   "outputs": [],
   "source": [
    "target_labels = {\n",
    "                'ceph-xxx-node-001': 'mgr,osd',\n",
    "                'ceph-xxx-node-002': 'mgr,osd',\n",
    "                'ceph-xxx-node-003': 'mgr,osd',\n",
    "                'ceph-xxx-node-004': 'osd',\n",
    "                'ceph-xxx-node-005': 'osd',\n",
    "                'ceph-xxx-node-006': 'osd',\n",
    "                'ceph-xxx-node-007': 'osd',\n",
    "              }"
   ]
  },
  {
   "cell_type": "code",
   "execution_count": null,
   "metadata": {
    "lc_cell_meme": {
     "current": "8a48dae0-98a1-11ea-8d02-0242ac120007-8-4da2-9c77-127e-85d4-a83e-e23a-4e50-7736",
     "history": [
      {
       "current": "8a48dae0-98a1-11ea-8d02-0242ac120007-1-4da2",
       "next": "35c339aa-55a3-11e7-b0b2-00163e9c0e35",
       "previous": "8a48d90a-98a1-11ea-8d02-0242ac120007"
      },
      {
       "current": "8a48dae0-98a1-11ea-8d02-0242ac120007-2-4da2-9c77",
       "next": "35c339aa-55a3-11e7-b0b2-00163e9c0e35-1-eee2",
       "previous": "8a48d90a-98a1-11ea-8d02-0242ac120007-1-0ebc"
      },
      {
       "current": "8a48dae0-98a1-11ea-8d02-0242ac120007-2-4da2-9c77",
       "next": "35c339aa-55a3-11e7-b0b2-00163e9c0e35-2-eee2-af6c",
       "previous": "8a48d90a-98a1-11ea-8d02-0242ac120007-2-0ebc-93ac"
      },
      {
       "current": "8a48dae0-98a1-11ea-8d02-0242ac120007-2-4da2-9c77",
       "next": "35c362a4-55a3-11e7-b0b2-00163e9c0e35-2-3f0a-3633",
       "previous": "8a48d90a-98a1-11ea-8d02-0242ac120007-2-0ebc-93ac"
      },
      {
       "current": "8a48dae0-98a1-11ea-8d02-0242ac120007-2-4da2-9c77",
       "next": "1afe7a3e-def8-11eb-b29f-0242ac120008",
       "previous": "8a48d90a-98a1-11ea-8d02-0242ac120007-2-0ebc-93ac"
      },
      {
       "current": "8a48dae0-98a1-11ea-8d02-0242ac120007-3-4da2-9c77-127e",
       "next": "35c35a52-55a3-11e7-b0b2-00163e9c0e35-2-ed71-9007",
       "previous": "8a48d90a-98a1-11ea-8d02-0242ac120007-2-0ebc-93ac"
      },
      {
       "current": "8a48dae0-98a1-11ea-8d02-0242ac120007-3-4da2-9c77-127e",
       "next": "35c35a52-55a3-11e7-b0b2-00163e9c0e35-3-ed71-9007-f930",
       "previous": "8a48d90a-98a1-11ea-8d02-0242ac120007-3-0ebc-93ac-04b4"
      },
      {
       "current": "8a48dae0-98a1-11ea-8d02-0242ac120007-3-4da2-9c77-127e",
       "next": "2c2cd6ae-61bc-11ee-89fa-0242ac120005",
       "previous": "8a48d90a-98a1-11ea-8d02-0242ac120007-3-0ebc-93ac-04b4"
      },
      {
       "current": "8a48dae0-98a1-11ea-8d02-0242ac120007-3-4da2-9c77-127e",
       "next": "2c2cd6ae-61bc-11ee-89fa-0242ac120005",
       "previous": "bb3e251e-61bc-11ee-89fa-0242ac120005"
      },
      {
       "current": "8a48dae0-98a1-11ea-8d02-0242ac120007-4-4da2-9c77-127e-85d4",
       "next": "2c2cd6ae-61bc-11ee-89fa-0242ac120005",
       "previous": "6cd9fe0e-6250-11ee-89fa-0242ac120005"
      },
      {
       "current": "8a48dae0-98a1-11ea-8d02-0242ac120007-5-4da2-9c77-127e-85d4-a83e",
       "next": "2c2cd6ae-61bc-11ee-89fa-0242ac120005-1-836c",
       "previous": "6cd9fe0e-6250-11ee-89fa-0242ac120005-1-91a2"
      },
      {
       "current": "8a48dae0-98a1-11ea-8d02-0242ac120007-6-4da2-9c77-127e-85d4-a83e-e23a",
       "next": "2c2cd6ae-61bc-11ee-89fa-0242ac120005-2-836c-a75c",
       "previous": "6cd9fe0e-6250-11ee-89fa-0242ac120005-2-91a2-4bef"
      },
      {
       "current": "8a48dae0-98a1-11ea-8d02-0242ac120007-7-4da2-9c77-127e-85d4-a83e-e23a-4e50",
       "next": "2c2cd6ae-61bc-11ee-89fa-0242ac120005-3-836c-a75c-fc46",
       "previous": "6cd9fe0e-6250-11ee-89fa-0242ac120005-3-91a2-4bef-62fa"
      },
      {
       "current": "8a48dae0-98a1-11ea-8d02-0242ac120007-8-4da2-9c77-127e-85d4-a83e-e23a-4e50-7736",
       "next": "2c2cd6ae-61bc-11ee-89fa-0242ac120005-4-836c-a75c-fc46-2b3b",
       "previous": "6cd9fe0e-6250-11ee-89fa-0242ac120005-4-91a2-4bef-62fa-0ec2"
      }
     ],
     "next": "2c2cd6ae-61bc-11ee-89fa-0242ac120005-5-836c-a75c-fc46-2b3b-f636",
     "previous": "6cd9fe0e-6250-11ee-89fa-0242ac120005-5-91a2-4bef-62fa-0ec2-fd36"
    }
   },
   "outputs": [],
   "source": [
    "target_node_list = []\n",
    "bootstrap_node = None\n",
    "for target_name in target_name_list:\n",
    "    for elem in node_list:\n",
    "        if elem['name'] == target_name:\n",
    "            target_node_list.append(elem)\n",
    "            break\n",
    "for elem in node_list:\n",
    "    if elem['name'] == bootstrap_node_name:\n",
    "        bootstrap_node = elem\n",
    "        break\n",
    "\n",
    "assert (len(target_node_list) > 0), \"指定されたターゲットノードが存在しません。\"\n",
    "assert (bootstrap_node is not None), \"指定されたBootstrap nodeが存在しません。\"\n",
    "\n",
    "print(bootstrap_node)"
   ]
  },
  {
   "cell_type": "code",
   "execution_count": null,
   "metadata": {
    "lc_cell_meme": {
     "current": "2c2cd6ae-61bc-11ee-89fa-0242ac120005-5-836c-a75c-fc46-2b3b-f636",
     "history": [
      {
       "current": "2c2cd6ae-61bc-11ee-89fa-0242ac120005-1-836c",
       "next": "35c35a52-55a3-11e7-b0b2-00163e9c0e35-3-ed71-9007-f930",
       "previous": "8a48dae0-98a1-11ea-8d02-0242ac120007-3-4da2-9c77-127e"
      },
      {
       "current": "2c2cd6ae-61bc-11ee-89fa-0242ac120005-2-836c-a75c",
       "next": "35c35a52-55a3-11e7-b0b2-00163e9c0e35-4-ed71-9007-f930-1b2e",
       "previous": "8a48dae0-98a1-11ea-8d02-0242ac120007-4-4da2-9c77-127e-85d4"
      },
      {
       "current": "2c2cd6ae-61bc-11ee-89fa-0242ac120005-3-836c-a75c-fc46",
       "next": "35c35a52-55a3-11e7-b0b2-00163e9c0e35-5-ed71-9007-f930-1b2e-6822",
       "previous": "8a48dae0-98a1-11ea-8d02-0242ac120007-5-4da2-9c77-127e-85d4-a83e"
      },
      {
       "current": "2c2cd6ae-61bc-11ee-89fa-0242ac120005-4-836c-a75c-fc46-2b3b",
       "next": "35c35a52-55a3-11e7-b0b2-00163e9c0e35-6-ed71-9007-f930-1b2e-6822-52a6",
       "previous": "8a48dae0-98a1-11ea-8d02-0242ac120007-6-4da2-9c77-127e-85d4-a83e-e23a"
      },
      {
       "current": "2c2cd6ae-61bc-11ee-89fa-0242ac120005-5-836c-a75c-fc46-2b3b-f636",
       "next": "35c35a52-55a3-11e7-b0b2-00163e9c0e35-7-ed71-9007-f930-1b2e-6822-52a6-2ab1",
       "previous": "8a48dae0-98a1-11ea-8d02-0242ac120007-7-4da2-9c77-127e-85d4-a83e-e23a-4e50"
      }
     ],
     "next": "35c35a52-55a3-11e7-b0b2-00163e9c0e35-8-ed71-9007-f930-1b2e-6822-52a6-2ab1-56cc",
     "previous": "8a48dae0-98a1-11ea-8d02-0242ac120007-8-4da2-9c77-127e-85d4-a83e-e23a-4e50-7736"
    }
   },
   "outputs": [],
   "source": [
    "pd.DataFrame(target_node_list)"
   ]
  },
  {
   "cell_type": "markdown",
   "metadata": {
    "lc_cell_meme": {
     "current": "35c35a52-55a3-11e7-b0b2-00163e9c0e35-8-ed71-9007-f930-1b2e-6822-52a6-2ab1-56cc",
     "history": [
      {
       "current": "35c35a52-55a3-11e7-b0b2-00163e9c0e35",
       "next": "35c35bf6-55a3-11e7-b0b2-00163e9c0e35",
       "previous": "35c358ae-55a3-11e7-b0b2-00163e9c0e35"
      },
      {
       "current": "35c35a52-55a3-11e7-b0b2-00163e9c0e35",
       "next": "35c35bf6-55a3-11e7-b0b2-00163e9c0e35",
       "previous": "690aae12-2871-11ea-b5b0-0242ac120004"
      },
      {
       "current": "35c35a52-55a3-11e7-b0b2-00163e9c0e35",
       "next": "35c35bf6-55a3-11e7-b0b2-00163e9c0e35",
       "previous": "1f202142-40d1-11ea-ab19-0242ac120004"
      },
      {
       "current": "35c35a52-55a3-11e7-b0b2-00163e9c0e35",
       "next": "35c35bf6-55a3-11e7-b0b2-00163e9c0e35",
       "previous": "690aae12-2871-11ea-b5b0-0242ac120004"
      },
      {
       "current": "35c35a52-55a3-11e7-b0b2-00163e9c0e35",
       "next": "35c35bf6-55a3-11e7-b0b2-00163e9c0e35",
       "previous": "35c358ae-55a3-11e7-b0b2-00163e9c0e35"
      },
      {
       "current": "35c35a52-55a3-11e7-b0b2-00163e9c0e35",
       "next": "35c35bf6-55a3-11e7-b0b2-00163e9c0e35",
       "previous": "29c91c64-2850-11ea-b5b0-0242ac120004"
      },
      {
       "current": "35c35a52-55a3-11e7-b0b2-00163e9c0e35",
       "next": "35c35bf6-55a3-11e7-b0b2-00163e9c0e35",
       "previous": "35c35552-55a3-11e7-b0b2-00163e9c0e35"
      },
      {
       "current": "35c35a52-55a3-11e7-b0b2-00163e9c0e35",
       "next": "35c35bf6-55a3-11e7-b0b2-00163e9c0e35",
       "previous": "81dd5320-9597-11ea-8d02-0242ac120007"
      },
      {
       "current": "35c35a52-55a3-11e7-b0b2-00163e9c0e35-1-ed71",
       "next": "35c35bf6-55a3-11e7-b0b2-00163e9c0e35",
       "previous": "46b9463a-95bc-11ea-8d02-0242ac120007"
      },
      {
       "current": "35c35a52-55a3-11e7-b0b2-00163e9c0e35-1-ed71",
       "next": "35c35bf6-55a3-11e7-b0b2-00163e9c0e35-1-4f76",
       "previous": "46b9463a-95bc-11ea-8d02-0242ac120007-1-777e"
      },
      {
       "current": "35c35a52-55a3-11e7-b0b2-00163e9c0e35-2-ed71-9007",
       "next": "35c35bf6-55a3-11e7-b0b2-00163e9c0e35-1-4f76",
       "previous": "e3624638-98a7-11ea-8d02-0242ac120007-1-0249"
      },
      {
       "current": "35c35a52-55a3-11e7-b0b2-00163e9c0e35-2-ed71-9007",
       "next": "35c35bf6-55a3-11e7-b0b2-00163e9c0e35-2-4f76-7f4b",
       "previous": "e3624638-98a7-11ea-8d02-0242ac120007-2-0249-59e8"
      },
      {
       "current": "35c35a52-55a3-11e7-b0b2-00163e9c0e35-2-ed71-9007",
       "next": "35c35bf6-55a3-11e7-b0b2-00163e9c0e35-2-4f76-7f4b",
       "previous": "445f39dc-def7-11eb-b29f-0242ac120008"
      },
      {
       "current": "35c35a52-55a3-11e7-b0b2-00163e9c0e35-2-ed71-9007",
       "next": "35c35bf6-55a3-11e7-b0b2-00163e9c0e35-2-4f76-7f4b",
       "previous": "445f36bc-def7-11eb-b29f-0242ac120008"
      },
      {
       "current": "35c35a52-55a3-11e7-b0b2-00163e9c0e35-2-ed71-9007",
       "next": "35c35bf6-55a3-11e7-b0b2-00163e9c0e35-2-4f76-7f4b",
       "previous": "1afe7e1c-def8-11eb-b29f-0242ac120008"
      },
      {
       "current": "35c35a52-55a3-11e7-b0b2-00163e9c0e35-3-ed71-9007-f930",
       "next": "35c35bf6-55a3-11e7-b0b2-00163e9c0e35-2-4f76-7f4b",
       "previous": "8a48dae0-98a1-11ea-8d02-0242ac120007-2-4da2-9c77"
      },
      {
       "current": "35c35a52-55a3-11e7-b0b2-00163e9c0e35-3-ed71-9007-f930",
       "next": "35c35bf6-55a3-11e7-b0b2-00163e9c0e35-3-4f76-7f4b-c54b",
       "previous": "8a48dae0-98a1-11ea-8d02-0242ac120007-3-4da2-9c77-127e"
      },
      {
       "current": "35c35a52-55a3-11e7-b0b2-00163e9c0e35-3-ed71-9007-f930",
       "next": "35c35bf6-55a3-11e7-b0b2-00163e9c0e35-3-4f76-7f4b-c54b",
       "previous": "2c2cd6ae-61bc-11ee-89fa-0242ac120005"
      },
      {
       "current": "35c35a52-55a3-11e7-b0b2-00163e9c0e35-4-ed71-9007-f930-1b2e",
       "next": "35c35f52-55a3-11e7-b0b2-00163e9c0e35-3-e2de-8a27-98e3",
       "previous": "2c2cd6ae-61bc-11ee-89fa-0242ac120005"
      },
      {
       "current": "35c35a52-55a3-11e7-b0b2-00163e9c0e35-5-ed71-9007-f930-1b2e-6822",
       "next": "35c35f52-55a3-11e7-b0b2-00163e9c0e35-4-e2de-8a27-98e3-d858",
       "previous": "2c2cd6ae-61bc-11ee-89fa-0242ac120005-1-836c"
      },
      {
       "current": "35c35a52-55a3-11e7-b0b2-00163e9c0e35-6-ed71-9007-f930-1b2e-6822-52a6",
       "next": "35c35f52-55a3-11e7-b0b2-00163e9c0e35-5-e2de-8a27-98e3-d858-3a73",
       "previous": "2c2cd6ae-61bc-11ee-89fa-0242ac120005-2-836c-a75c"
      },
      {
       "current": "35c35a52-55a3-11e7-b0b2-00163e9c0e35-7-ed71-9007-f930-1b2e-6822-52a6-2ab1",
       "next": "35c35f52-55a3-11e7-b0b2-00163e9c0e35-6-e2de-8a27-98e3-d858-3a73-a0d8",
       "previous": "2c2cd6ae-61bc-11ee-89fa-0242ac120005-3-836c-a75c-fc46"
      },
      {
       "current": "35c35a52-55a3-11e7-b0b2-00163e9c0e35-8-ed71-9007-f930-1b2e-6822-52a6-2ab1-56cc",
       "next": "35c35f52-55a3-11e7-b0b2-00163e9c0e35-7-e2de-8a27-98e3-d858-3a73-a0d8-e1b3",
       "previous": "2c2cd6ae-61bc-11ee-89fa-0242ac120005-4-836c-a75c-fc46-2b3b"
      }
     ],
     "next": "35c35f52-55a3-11e7-b0b2-00163e9c0e35-8-e2de-8a27-98e3-d858-3a73-a0d8-e1b3-31db",
     "previous": "2c2cd6ae-61bc-11ee-89fa-0242ac120005-5-836c-a75c-fc46-2b3b-f636"
    }
   },
   "source": [
    "## 一時Inventoryファイルの生成\n",
    "以下を実行し、作業用ディレクトリ配下に一時Inventoryファイルを生成する。"
   ]
  },
  {
   "cell_type": "markdown",
   "metadata": {
    "lc_cell_meme": {
     "current": "35c35f52-55a3-11e7-b0b2-00163e9c0e35-8-e2de-8a27-98e3-d858-3a73-a0d8-e1b3-31db",
     "history": [
      {
       "current": "35c35f52-55a3-11e7-b0b2-00163e9c0e35",
       "next": "35c360f6-55a3-11e7-b0b2-00163e9c0e35",
       "previous": "35c35dae-55a3-11e7-b0b2-00163e9c0e35"
      },
      {
       "current": "35c35f52-55a3-11e7-b0b2-00163e9c0e35-1-e2de",
       "next": "a33430b0-9327-11ea-8d02-0242ac120007",
       "previous": "35c35dae-55a3-11e7-b0b2-00163e9c0e35"
      },
      {
       "current": "35c35f52-55a3-11e7-b0b2-00163e9c0e35-2-e2de-8a27",
       "next": "a33430b0-9327-11ea-8d02-0242ac120007-1-3202",
       "previous": "35c35dae-55a3-11e7-b0b2-00163e9c0e35-1-7091"
      },
      {
       "current": "35c35f52-55a3-11e7-b0b2-00163e9c0e35-3-e2de-8a27-98e3",
       "next": "a33430b0-9327-11ea-8d02-0242ac120007-2-3202-0bdc",
       "previous": "35c35dae-55a3-11e7-b0b2-00163e9c0e35-2-7091-7055"
      },
      {
       "current": "35c35f52-55a3-11e7-b0b2-00163e9c0e35-3-e2de-8a27-98e3",
       "next": "a33430b0-9327-11ea-8d02-0242ac120007-3-3202-0bdc-fd62",
       "previous": "35c35dae-55a3-11e7-b0b2-00163e9c0e35-3-7091-7055-1fd7"
      },
      {
       "current": "35c35f52-55a3-11e7-b0b2-00163e9c0e35-4-e2de-8a27-98e3-d858",
       "next": "a33430b0-9327-11ea-8d02-0242ac120007-3-3202-0bdc-fd62",
       "previous": "35c35a52-55a3-11e7-b0b2-00163e9c0e35-3-ed71-9007-f930"
      },
      {
       "current": "35c35f52-55a3-11e7-b0b2-00163e9c0e35-5-e2de-8a27-98e3-d858-3a73",
       "next": "a33430b0-9327-11ea-8d02-0242ac120007-4-3202-0bdc-fd62-7931",
       "previous": "35c35a52-55a3-11e7-b0b2-00163e9c0e35-4-ed71-9007-f930-1b2e"
      },
      {
       "current": "35c35f52-55a3-11e7-b0b2-00163e9c0e35-6-e2de-8a27-98e3-d858-3a73-a0d8",
       "next": "a33430b0-9327-11ea-8d02-0242ac120007-5-3202-0bdc-fd62-7931-cd67",
       "previous": "35c35a52-55a3-11e7-b0b2-00163e9c0e35-5-ed71-9007-f930-1b2e-6822"
      },
      {
       "current": "35c35f52-55a3-11e7-b0b2-00163e9c0e35-7-e2de-8a27-98e3-d858-3a73-a0d8-e1b3",
       "next": "a33430b0-9327-11ea-8d02-0242ac120007-6-3202-0bdc-fd62-7931-cd67-35ae",
       "previous": "35c35a52-55a3-11e7-b0b2-00163e9c0e35-6-ed71-9007-f930-1b2e-6822-52a6"
      },
      {
       "current": "35c35f52-55a3-11e7-b0b2-00163e9c0e35-8-e2de-8a27-98e3-d858-3a73-a0d8-e1b3-31db",
       "next": "a33430b0-9327-11ea-8d02-0242ac120007-7-3202-0bdc-fd62-7931-cd67-35ae-99ec",
       "previous": "35c35a52-55a3-11e7-b0b2-00163e9c0e35-7-ed71-9007-f930-1b2e-6822-52a6-2ab1"
      }
     ],
     "next": "a33430b0-9327-11ea-8d02-0242ac120007-8-3202-0bdc-fd62-7931-cd67-35ae-99ec-f801",
     "previous": "35c35a52-55a3-11e7-b0b2-00163e9c0e35-8-ed71-9007-f930-1b2e-6822-52a6-2ab1-56cc"
    }
   },
   "source": [
    "Inventoryファイルを生成する。"
   ]
  },
  {
   "cell_type": "code",
   "execution_count": null,
   "metadata": {
    "lc_cell_meme": {
     "current": "a33430b0-9327-11ea-8d02-0242ac120007-8-3202-0bdc-fd62-7931-cd67-35ae-99ec-f801",
     "history": [
      {
       "current": "a33430b0-9327-11ea-8d02-0242ac120007",
       "next": "35c360f6-55a3-11e7-b0b2-00163e9c0e35",
       "previous": "35c35f52-55a3-11e7-b0b2-00163e9c0e35"
      },
      {
       "current": "a33430b0-9327-11ea-8d02-0242ac120007-1-3202",
       "next": "9c0b8624-959f-11ea-8d02-0242ac120007",
       "previous": "35c35f52-55a3-11e7-b0b2-00163e9c0e35"
      },
      {
       "current": "a33430b0-9327-11ea-8d02-0242ac120007-2-3202-0bdc",
       "next": "9c0b8624-959f-11ea-8d02-0242ac120007-1-8098",
       "previous": "35c35f52-55a3-11e7-b0b2-00163e9c0e35-1-e2de"
      },
      {
       "current": "a33430b0-9327-11ea-8d02-0242ac120007-2-3202-0bdc",
       "next": "9c0b8624-959f-11ea-8d02-0242ac120007-2-8098-a371",
       "previous": "35c35f52-55a3-11e7-b0b2-00163e9c0e35-2-e2de-8a27"
      },
      {
       "current": "a33430b0-9327-11ea-8d02-0242ac120007-3-3202-0bdc-fd62",
       "next": "27f1be96-f4f0-11eb-b29f-0242ac120008",
       "previous": "35c35f52-55a3-11e7-b0b2-00163e9c0e35-2-e2de-8a27"
      },
      {
       "current": "a33430b0-9327-11ea-8d02-0242ac120007-3-3202-0bdc-fd62",
       "next": "27f1be96-f4f0-11eb-b29f-0242ac120008-1-0b6c",
       "previous": "35c35f52-55a3-11e7-b0b2-00163e9c0e35-3-e2de-8a27-98e3"
      },
      {
       "current": "a33430b0-9327-11ea-8d02-0242ac120007-4-3202-0bdc-fd62-7931",
       "next": "73b1e49c-61bc-11ee-89fa-0242ac120005",
       "previous": "35c35f52-55a3-11e7-b0b2-00163e9c0e35-3-e2de-8a27-98e3"
      },
      {
       "current": "a33430b0-9327-11ea-8d02-0242ac120007-5-3202-0bdc-fd62-7931-cd67",
       "next": "73b1e49c-61bc-11ee-89fa-0242ac120005-1-a91c",
       "previous": "35c35f52-55a3-11e7-b0b2-00163e9c0e35-4-e2de-8a27-98e3-d858"
      },
      {
       "current": "a33430b0-9327-11ea-8d02-0242ac120007-6-3202-0bdc-fd62-7931-cd67-35ae",
       "next": "73b1e49c-61bc-11ee-89fa-0242ac120005-2-a91c-e88b",
       "previous": "35c35f52-55a3-11e7-b0b2-00163e9c0e35-5-e2de-8a27-98e3-d858-3a73"
      },
      {
       "current": "a33430b0-9327-11ea-8d02-0242ac120007-7-3202-0bdc-fd62-7931-cd67-35ae-99ec",
       "next": "73b1e49c-61bc-11ee-89fa-0242ac120005-3-a91c-e88b-b402",
       "previous": "35c35f52-55a3-11e7-b0b2-00163e9c0e35-6-e2de-8a27-98e3-d858-3a73-a0d8"
      },
      {
       "current": "a33430b0-9327-11ea-8d02-0242ac120007-8-3202-0bdc-fd62-7931-cd67-35ae-99ec-f801",
       "next": "73b1e49c-61bc-11ee-89fa-0242ac120005-4-a91c-e88b-b402-04b9",
       "previous": "35c35f52-55a3-11e7-b0b2-00163e9c0e35-7-e2de-8a27-98e3-d858-3a73-a0d8-e1b3"
      }
     ],
     "next": "73b1e49c-61bc-11ee-89fa-0242ac120005-5-a91c-e88b-b402-04b9-99e8",
     "previous": "35c35f52-55a3-11e7-b0b2-00163e9c0e35-8-e2de-8a27-98e3-d858-3a73-a0d8-e1b3-31db"
    }
   },
   "outputs": [],
   "source": [
    "node_user='xxxxx'\n",
    "cephadmin_user='cephadmin'\n",
    "node_key='~/.ssh/id_ras'\n",
    "proxy_user='xxxxx'\n",
    "proxy_key='~/.ssh/id_ras'"
   ]
  },
  {
   "cell_type": "code",
   "execution_count": null,
   "metadata": {
    "lc_cell_meme": {
     "current": "73b1e49c-61bc-11ee-89fa-0242ac120005-5-a91c-e88b-b402-04b9-99e8",
     "history": [
      {
       "current": "73b1e49c-61bc-11ee-89fa-0242ac120005",
       "next": "35c360f6-55a3-11e7-b0b2-00163e9c0e35-3-4a79-f9ba-754f",
       "previous": "9c0b8624-959f-11ea-8d02-0242ac120007-3-8098-a371-0b4a"
      },
      {
       "current": "73b1e49c-61bc-11ee-89fa-0242ac120005-1-a91c",
       "next": "35c360f6-55a3-11e7-b0b2-00163e9c0e35-3-4a79-f9ba-754f",
       "previous": "a33430b0-9327-11ea-8d02-0242ac120007-3-3202-0bdc-fd62"
      },
      {
       "current": "73b1e49c-61bc-11ee-89fa-0242ac120005-2-a91c-e88b",
       "next": "35c360f6-55a3-11e7-b0b2-00163e9c0e35-4-4a79-f9ba-754f-4dac",
       "previous": "a33430b0-9327-11ea-8d02-0242ac120007-4-3202-0bdc-fd62-7931"
      },
      {
       "current": "73b1e49c-61bc-11ee-89fa-0242ac120005-3-a91c-e88b-b402",
       "next": "35c360f6-55a3-11e7-b0b2-00163e9c0e35-5-4a79-f9ba-754f-4dac-11a3",
       "previous": "a33430b0-9327-11ea-8d02-0242ac120007-5-3202-0bdc-fd62-7931-cd67"
      },
      {
       "current": "73b1e49c-61bc-11ee-89fa-0242ac120005-4-a91c-e88b-b402-04b9",
       "next": "35c360f6-55a3-11e7-b0b2-00163e9c0e35-6-4a79-f9ba-754f-4dac-11a3-a45c",
       "previous": "a33430b0-9327-11ea-8d02-0242ac120007-6-3202-0bdc-fd62-7931-cd67-35ae"
      },
      {
       "current": "73b1e49c-61bc-11ee-89fa-0242ac120005-5-a91c-e88b-b402-04b9-99e8",
       "next": "35c360f6-55a3-11e7-b0b2-00163e9c0e35-7-4a79-f9ba-754f-4dac-11a3-a45c-9d05",
       "previous": "a33430b0-9327-11ea-8d02-0242ac120007-7-3202-0bdc-fd62-7931-cd67-35ae-99ec"
      }
     ],
     "next": "35c360f6-55a3-11e7-b0b2-00163e9c0e35-8-4a79-f9ba-754f-4dac-11a3-a45c-9d05-7400",
     "previous": "a33430b0-9327-11ea-8d02-0242ac120007-8-3202-0bdc-fd62-7931-cd67-35ae-99ec-f801"
    }
   },
   "outputs": [],
   "source": [
    "bootstrap_ip = bootstrap_node['prov_ip']"
   ]
  },
  {
   "cell_type": "code",
   "execution_count": null,
   "metadata": {
    "ExecuteTime": {
     "end_time": "2017-06-29T08:50:39.909299Z",
     "start_time": "2017-06-29T08:50:39.762658Z"
    },
    "lc_cell_meme": {
     "current": "35c360f6-55a3-11e7-b0b2-00163e9c0e35-8-4a79-f9ba-754f-4dac-11a3-a45c-9d05-7400",
     "history": [
      {
       "current": "35c360f6-55a3-11e7-b0b2-00163e9c0e35",
       "next": "35c362a4-55a3-11e7-b0b2-00163e9c0e35",
       "previous": "35c35f52-55a3-11e7-b0b2-00163e9c0e35"
      },
      {
       "current": "35c360f6-55a3-11e7-b0b2-00163e9c0e35",
       "next": "35c362a4-55a3-11e7-b0b2-00163e9c0e35",
       "previous": "a33430b0-9327-11ea-8d02-0242ac120007"
      },
      {
       "current": "35c360f6-55a3-11e7-b0b2-00163e9c0e35-1-4a79",
       "next": "35c362a4-55a3-11e7-b0b2-00163e9c0e35",
       "previous": "9c0b88cc-959f-11ea-8d02-0242ac120007"
      },
      {
       "current": "35c360f6-55a3-11e7-b0b2-00163e9c0e35-2-4a79-f9ba",
       "next": "35c362a4-55a3-11e7-b0b2-00163e9c0e35-1-3f0a",
       "previous": "9c0b88cc-959f-11ea-8d02-0242ac120007-1-b077"
      },
      {
       "current": "35c360f6-55a3-11e7-b0b2-00163e9c0e35-2-4a79-f9ba",
       "next": "35c362a4-55a3-11e7-b0b2-00163e9c0e35-2-3f0a-3633",
       "previous": "9c0b88cc-959f-11ea-8d02-0242ac120007-2-b077-046d"
      },
      {
       "current": "35c360f6-55a3-11e7-b0b2-00163e9c0e35-2-4a79-f9ba",
       "next": "7dae8996-9686-11ea-8d02-0242ac120007-2-20c5-a0b0",
       "previous": "9c0b88cc-959f-11ea-8d02-0242ac120007-2-b077-046d"
      },
      {
       "current": "35c360f6-55a3-11e7-b0b2-00163e9c0e35-2-4a79-f9ba",
       "next": "35c362a4-55a3-11e7-b0b2-00163e9c0e35-2-89a7-98f2",
       "previous": "9c0b88cc-959f-11ea-8d02-0242ac120007-2-b077-046d"
      },
      {
       "current": "35c360f6-55a3-11e7-b0b2-00163e9c0e35-3-4a79-f9ba-754f",
       "next": "35c362a4-55a3-11e7-b0b2-00163e9c0e35-2-89a7-98f2",
       "previous": "9c0b8624-959f-11ea-8d02-0242ac120007-2-8098-a371"
      },
      {
       "current": "35c360f6-55a3-11e7-b0b2-00163e9c0e35-3-4a79-f9ba-754f",
       "next": "35c362a4-55a3-11e7-b0b2-00163e9c0e35-3-89a7-98f2-5cf2",
       "previous": "9c0b8624-959f-11ea-8d02-0242ac120007-3-8098-a371-0b4a"
      },
      {
       "current": "35c360f6-55a3-11e7-b0b2-00163e9c0e35-4-4a79-f9ba-754f-4dac",
       "next": "35c362a4-55a3-11e7-b0b2-00163e9c0e35-3-89a7-98f2-5cf2",
       "previous": "73b1e49c-61bc-11ee-89fa-0242ac120005"
      },
      {
       "current": "35c360f6-55a3-11e7-b0b2-00163e9c0e35-5-4a79-f9ba-754f-4dac-11a3",
       "next": "35c362a4-55a3-11e7-b0b2-00163e9c0e35-4-89a7-98f2-5cf2-f3a8",
       "previous": "73b1e49c-61bc-11ee-89fa-0242ac120005-1-a91c"
      },
      {
       "current": "35c360f6-55a3-11e7-b0b2-00163e9c0e35-6-4a79-f9ba-754f-4dac-11a3-a45c",
       "next": "35c362a4-55a3-11e7-b0b2-00163e9c0e35-5-89a7-98f2-5cf2-f3a8-dbc0",
       "previous": "73b1e49c-61bc-11ee-89fa-0242ac120005-2-a91c-e88b"
      },
      {
       "current": "35c360f6-55a3-11e7-b0b2-00163e9c0e35-6-4a79-f9ba-754f-4dac-11a3-a45c",
       "next": "35c362a4-55a3-11e7-b0b2-00163e9c0e35-6-89a7-98f2-5cf2-f3a8-dbc0-60b6",
       "previous": "73b1e49c-61bc-11ee-89fa-0242ac120005-3-a91c-e88b-b402"
      },
      {
       "current": "35c360f6-55a3-11e7-b0b2-00163e9c0e35-7-4a79-f9ba-754f-4dac-11a3-a45c-9d05",
       "next": "3474bd2e-1d76-11ef-ad2f-0242ac120005",
       "previous": "73b1e49c-61bc-11ee-89fa-0242ac120005-3-a91c-e88b-b402"
      },
      {
       "current": "35c360f6-55a3-11e7-b0b2-00163e9c0e35-8-4a79-f9ba-754f-4dac-11a3-a45c-9d05-7400",
       "next": "3474bd2e-1d76-11ef-ad2f-0242ac120005-1-5484",
       "previous": "73b1e49c-61bc-11ee-89fa-0242ac120005-4-a91c-e88b-b402-04b9"
      }
     ],
     "next": "3474bd2e-1d76-11ef-ad2f-0242ac120005-2-5484-9ef9",
     "previous": "73b1e49c-61bc-11ee-89fa-0242ac120005-5-a91c-e88b-b402-04b9-99e8"
    },
    "run_control": {
     "frozen": true
    },
    "scrolled": false
   },
   "outputs": [],
   "source": [
    "import os\n",
    "\n",
    "with open( os.path.join(temp_dir, \"hosts\"), 'w') as f:\n",
    "\n",
    "    f.write('''[ceph_admin]\n",
    "{ceph_admin_ip} ansible_user={proxy_user} ansible_ssh_private_key_file={proxy_key} ansible_python_interpreter=/usr/bin/python3\n",
    "'''.format(ceph_admin_ip=ceph_admin_ip, proxy_user=proxy_user, proxy_key=proxy_key, bootstrap_ip=bootstrap_ip))\n",
    "\n",
    "    f.write('''[bootstrap]\n",
    "{node_ip} ansible_user={node_user} ansible_ssh_private_key_file={node_key} ansible_ssh_common_args='-o ControlMaster=auto -o StrictHostKeyChecking=no -o ControlPersist=30m -o ProxyCommand=\"ssh -W %h:%p -i {proxy_key} -q {proxy_user}@{ceph_admin_ip}\"' ansible_python_interpreter=/usr/bin/python3\n",
    "[ceph_nodes]\n",
    "'''.format(ceph_admin_ip=ceph_admin_ip, node_ip=bootstrap_ip, node_key=node_key,\n",
    "           node_user=node_user, proxy_user=proxy_user, proxy_key=proxy_key))\n",
    "    \n",
    "    for node in target_node_list:\n",
    "        node_ip = node['prov_ip']\n",
    "        f.write('''{node_ip} ansible_user={node_user} ansible_ssh_private_key_file={node_key} ansible_ssh_common_args='-o ControlMaster=auto -o StrictHostKeyChecking=no -o ControlPersist=30m -o ProxyCommand=\"ssh -W %h:%p -i {proxy_key} -q {proxy_user}@{ceph_admin_ip}\"' ansible_python_interpreter=/usr/bin/python3\n",
    "'''.format(ceph_admin_ip=ceph_admin_ip, node_ip=node_ip, node_key=node_key,\n",
    "           node_user=node_user, proxy_user=proxy_user, proxy_key=proxy_key))\n",
    "\n",
    "hosts = temp_dir + \"/hosts\"\n",
    "\n",
    "!cat $hosts"
   ]
  },
  {
   "cell_type": "code",
   "execution_count": null,
   "metadata": {
    "lc_cell_meme": {
     "current": "3474bd2e-1d76-11ef-ad2f-0242ac120005-2-5484-9ef9",
     "history": [
      {
       "current": "3474bd2e-1d76-11ef-ad2f-0242ac120005-1-5484",
       "next": "35c362a4-55a3-11e7-b0b2-00163e9c0e35-6-89a7-98f2-5cf2-f3a8-dbc0-60b6",
       "previous": "35c360f6-55a3-11e7-b0b2-00163e9c0e35-6-4a79-f9ba-754f-4dac-11a3-a45c"
      },
      {
       "current": "3474bd2e-1d76-11ef-ad2f-0242ac120005-2-5484-9ef9",
       "next": "35c362a4-55a3-11e7-b0b2-00163e9c0e35-7-89a7-98f2-5cf2-f3a8-dbc0-60b6-1b39",
       "previous": "35c360f6-55a3-11e7-b0b2-00163e9c0e35-7-4a79-f9ba-754f-4dac-11a3-a45c-9d05"
      }
     ],
     "next": "35c362a4-55a3-11e7-b0b2-00163e9c0e35-8-89a7-98f2-5cf2-f3a8-dbc0-60b6-1b39-ff54",
     "previous": "35c360f6-55a3-11e7-b0b2-00163e9c0e35-8-4a79-f9ba-754f-4dac-11a3-a45c-9d05-7400"
    }
   },
   "outputs": [],
   "source": [
    "%env ANSIBLE_INVENTORY={hosts}"
   ]
  },
  {
   "cell_type": "markdown",
   "metadata": {
    "lc_cell_meme": {
     "current": "35c362a4-55a3-11e7-b0b2-00163e9c0e35-8-89a7-98f2-5cf2-f3a8-dbc0-60b6-1b39-ff54",
     "history": [
      {
       "current": "35c362a4-55a3-11e7-b0b2-00163e9c0e35",
       "next": "35c36448-55a3-11e7-b0b2-00163e9c0e35",
       "previous": "35c360f6-55a3-11e7-b0b2-00163e9c0e35"
      },
      {
       "current": "35c362a4-55a3-11e7-b0b2-00163e9c0e35",
       "next": "35c36448-55a3-11e7-b0b2-00163e9c0e35",
       "previous": "4cd5b0cc-7ef5-11ea-a926-0242ac120004"
      },
      {
       "current": "35c362a4-55a3-11e7-b0b2-00163e9c0e35",
       "next": "35c36448-55a3-11e7-b0b2-00163e9c0e35",
       "previous": "db546a28-7ef5-11ea-a926-0242ac120004"
      },
      {
       "current": "35c362a4-55a3-11e7-b0b2-00163e9c0e35",
       "next": "35c36448-55a3-11e7-b0b2-00163e9c0e35",
       "previous": "4cd5af28-7ef5-11ea-a926-0242ac120004"
      },
      {
       "current": "35c362a4-55a3-11e7-b0b2-00163e9c0e35",
       "next": "35c36448-55a3-11e7-b0b2-00163e9c0e35",
       "previous": "7d464504-9107-11ea-8d02-0242ac120007"
      },
      {
       "current": "35c362a4-55a3-11e7-b0b2-00163e9c0e35",
       "next": "35c36448-55a3-11e7-b0b2-00163e9c0e35",
       "previous": "bd797188-910b-11ea-8d02-0242ac120007"
      },
      {
       "current": "35c362a4-55a3-11e7-b0b2-00163e9c0e35",
       "next": "35c36448-55a3-11e7-b0b2-00163e9c0e35",
       "previous": "70b95056-9111-11ea-8d02-0242ac120007"
      },
      {
       "current": "35c362a4-55a3-11e7-b0b2-00163e9c0e35",
       "next": "35c36448-55a3-11e7-b0b2-00163e9c0e35",
       "previous": "bd797188-910b-11ea-8d02-0242ac120007"
      },
      {
       "current": "35c362a4-55a3-11e7-b0b2-00163e9c0e35",
       "next": "bd797188-910b-11ea-8d02-0242ac120007",
       "previous": "4cd5af28-7ef5-11ea-a926-0242ac120004"
      },
      {
       "current": "35c362a4-55a3-11e7-b0b2-00163e9c0e35",
       "next": "484c7376-935c-11ea-8d02-0242ac120007",
       "previous": "4cd5af28-7ef5-11ea-a926-0242ac120004"
      },
      {
       "current": "35c362a4-55a3-11e7-b0b2-00163e9c0e35-1-89a7",
       "next": "bd797188-910b-11ea-8d02-0242ac120007",
       "previous": "4cd5af28-7ef5-11ea-a926-0242ac120004"
      },
      {
       "current": "35c362a4-55a3-11e7-b0b2-00163e9c0e35-2-89a7-98f2",
       "next": "bd797188-910b-11ea-8d02-0242ac120007-1-728a",
       "previous": "4cd5af28-7ef5-11ea-a926-0242ac120004-1-726b"
      },
      {
       "current": "35c362a4-55a3-11e7-b0b2-00163e9c0e35-2-89a7-98f2",
       "next": "bd797188-910b-11ea-8d02-0242ac120007-2-728a-254c",
       "previous": "4cd5af28-7ef5-11ea-a926-0242ac120004-2-726b-a0d6"
      },
      {
       "current": "35c362a4-55a3-11e7-b0b2-00163e9c0e35-2-89a7-98f2",
       "next": "bd797188-910b-11ea-8d02-0242ac120007-2-728a-254c",
       "previous": "35c360f6-55a3-11e7-b0b2-00163e9c0e35-2-4a79-f9ba"
      },
      {
       "current": "35c362a4-55a3-11e7-b0b2-00163e9c0e35-3-89a7-98f2-5cf2",
       "next": "ef4d2888-aa17-11ea-9ad4-0242ac120006-1-42b7",
       "previous": "35c360f6-55a3-11e7-b0b2-00163e9c0e35-2-4a79-f9ba"
      },
      {
       "current": "35c362a4-55a3-11e7-b0b2-00163e9c0e35-4-89a7-98f2-5cf2-f3a8",
       "next": "ef4d2888-aa17-11ea-9ad4-0242ac120006-2-42b7-b07a",
       "previous": "35c360f6-55a3-11e7-b0b2-00163e9c0e35-3-4a79-f9ba-754f"
      },
      {
       "current": "35c362a4-55a3-11e7-b0b2-00163e9c0e35-5-89a7-98f2-5cf2-f3a8-dbc0",
       "next": "ef4d2888-aa17-11ea-9ad4-0242ac120006-3-42b7-b07a-1a23",
       "previous": "35c360f6-55a3-11e7-b0b2-00163e9c0e35-4-4a79-f9ba-754f-4dac"
      },
      {
       "current": "35c362a4-55a3-11e7-b0b2-00163e9c0e35-6-89a7-98f2-5cf2-f3a8-dbc0-60b6",
       "next": "ef4d2888-aa17-11ea-9ad4-0242ac120006-4-42b7-b07a-1a23-e342",
       "previous": "35c360f6-55a3-11e7-b0b2-00163e9c0e35-5-4a79-f9ba-754f-4dac-11a3"
      },
      {
       "current": "35c362a4-55a3-11e7-b0b2-00163e9c0e35-6-89a7-98f2-5cf2-f3a8-dbc0-60b6",
       "next": "ef4d2888-aa17-11ea-9ad4-0242ac120006-5-42b7-b07a-1a23-e342-9041",
       "previous": "35c360f6-55a3-11e7-b0b2-00163e9c0e35-6-4a79-f9ba-754f-4dac-11a3-a45c"
      },
      {
       "current": "35c362a4-55a3-11e7-b0b2-00163e9c0e35-7-89a7-98f2-5cf2-f3a8-dbc0-60b6-1b39",
       "next": "ef4d2888-aa17-11ea-9ad4-0242ac120006-5-42b7-b07a-1a23-e342-9041",
       "previous": "3474bd2e-1d76-11ef-ad2f-0242ac120005"
      },
      {
       "current": "35c362a4-55a3-11e7-b0b2-00163e9c0e35-8-89a7-98f2-5cf2-f3a8-dbc0-60b6-1b39-ff54",
       "next": "ef4d2888-aa17-11ea-9ad4-0242ac120006-6-42b7-b07a-1a23-e342-9041-3e50",
       "previous": "3474bd2e-1d76-11ef-ad2f-0242ac120005-1-5484"
      }
     ],
     "next": "ef4d2888-aa17-11ea-9ad4-0242ac120006-7-42b7-b07a-1a23-e342-9041-3e50-6767",
     "previous": "3474bd2e-1d76-11ef-ad2f-0242ac120005-2-5484-9ef9"
    }
   },
   "source": [
    "## 疎通確認\n",
    "以下コマンドを実行し、OpeHubからCephAdmin経由で、Cephノードに疎通することを確認する。"
   ]
  },
  {
   "cell_type": "code",
   "execution_count": null,
   "metadata": {
    "lc_cell_meme": {
     "current": "ef4d2888-aa17-11ea-9ad4-0242ac120006-7-42b7-b07a-1a23-e342-9041-3e50-6767",
     "history": [
      {
       "current": "ef4d2888-aa17-11ea-9ad4-0242ac120006-1-42b7",
       "next": "ac56a252-95bd-11ea-8d02-0242ac120007-1-86ee",
       "previous": "bd797188-910b-11ea-8d02-0242ac120007-1-728a"
      },
      {
       "current": "ef4d2888-aa17-11ea-9ad4-0242ac120006-1-42b7",
       "next": "ac56a252-95bd-11ea-8d02-0242ac120007-2-86ee-3a22",
       "previous": "bd797188-910b-11ea-8d02-0242ac120007-2-728a-254c"
      },
      {
       "current": "ef4d2888-aa17-11ea-9ad4-0242ac120006-1-42b7",
       "next": "bd797188-910b-11ea-8d02-0242ac120007-2-728a-254c",
       "previous": "35c362a4-55a3-11e7-b0b2-00163e9c0e35-2-89a7-98f2"
      },
      {
       "current": "ef4d2888-aa17-11ea-9ad4-0242ac120006-2-42b7-b07a",
       "next": "e3856a36-df01-11eb-b29f-0242ac120008",
       "previous": "35c362a4-55a3-11e7-b0b2-00163e9c0e35-2-89a7-98f2"
      },
      {
       "current": "ef4d2888-aa17-11ea-9ad4-0242ac120006-2-42b7-b07a",
       "next": "e3856a36-df01-11eb-b29f-0242ac120008-1-d6f1",
       "previous": "35c362a4-55a3-11e7-b0b2-00163e9c0e35-3-89a7-98f2-5cf2"
      },
      {
       "current": "ef4d2888-aa17-11ea-9ad4-0242ac120006-3-42b7-b07a-1a23",
       "next": "bd797188-910b-11ea-8d02-0242ac120007-3-728a-254c-2f4c",
       "previous": "35c362a4-55a3-11e7-b0b2-00163e9c0e35-3-89a7-98f2-5cf2"
      },
      {
       "current": "ef4d2888-aa17-11ea-9ad4-0242ac120006-4-42b7-b07a-1a23-e342",
       "next": "bd797188-910b-11ea-8d02-0242ac120007-4-728a-254c-2f4c-6055",
       "previous": "35c362a4-55a3-11e7-b0b2-00163e9c0e35-4-89a7-98f2-5cf2-f3a8"
      },
      {
       "current": "ef4d2888-aa17-11ea-9ad4-0242ac120006-5-42b7-b07a-1a23-e342-9041",
       "next": "bd797188-910b-11ea-8d02-0242ac120007-5-728a-254c-2f4c-6055-797d",
       "previous": "35c362a4-55a3-11e7-b0b2-00163e9c0e35-5-89a7-98f2-5cf2-f3a8-dbc0"
      },
      {
       "current": "ef4d2888-aa17-11ea-9ad4-0242ac120006-6-42b7-b07a-1a23-e342-9041-3e50",
       "next": "bd797188-910b-11ea-8d02-0242ac120007-6-728a-254c-2f4c-6055-797d-671e",
       "previous": "35c362a4-55a3-11e7-b0b2-00163e9c0e35-6-89a7-98f2-5cf2-f3a8-dbc0-60b6"
      },
      {
       "current": "ef4d2888-aa17-11ea-9ad4-0242ac120006-7-42b7-b07a-1a23-e342-9041-3e50-6767",
       "next": "bd797188-910b-11ea-8d02-0242ac120007-7-728a-254c-2f4c-6055-797d-671e-a914",
       "previous": "35c362a4-55a3-11e7-b0b2-00163e9c0e35-7-89a7-98f2-5cf2-f3a8-dbc0-60b6-1b39"
      }
     ],
     "next": "bd797188-910b-11ea-8d02-0242ac120007-8-728a-254c-2f4c-6055-797d-671e-a914-c966",
     "previous": "35c362a4-55a3-11e7-b0b2-00163e9c0e35-8-89a7-98f2-5cf2-f3a8-dbc0-60b6-1b39-ff54"
    }
   },
   "outputs": [],
   "source": [
    "!ansible -b -m shell -a 'hostname' ceph_admin"
   ]
  },
  {
   "cell_type": "code",
   "execution_count": null,
   "metadata": {
    "lc_cell_meme": {
     "current": "bd797188-910b-11ea-8d02-0242ac120007-8-728a-254c-2f4c-6055-797d-671e-a914-c966",
     "history": [
      {
       "current": "bd797188-910b-11ea-8d02-0242ac120007",
       "next": "35c362a4-55a3-11e7-b0b2-00163e9c0e35",
       "previous": "7d464504-9107-11ea-8d02-0242ac120007"
      },
      {
       "current": "bd797188-910b-11ea-8d02-0242ac120007",
       "next": "70b95056-9111-11ea-8d02-0242ac120007",
       "previous": "7d464504-9107-11ea-8d02-0242ac120007"
      },
      {
       "current": "bd797188-910b-11ea-8d02-0242ac120007",
       "next": "35c362a4-55a3-11e7-b0b2-00163e9c0e35",
       "previous": "7d464504-9107-11ea-8d02-0242ac120007"
      },
      {
       "current": "bd797188-910b-11ea-8d02-0242ac120007",
       "next": "35c362a4-55a3-11e7-b0b2-00163e9c0e35",
       "previous": "4cd5af28-7ef5-11ea-a926-0242ac120004"
      },
      {
       "current": "bd797188-910b-11ea-8d02-0242ac120007",
       "next": "35c36448-55a3-11e7-b0b2-00163e9c0e35",
       "previous": "35c362a4-55a3-11e7-b0b2-00163e9c0e35"
      },
      {
       "current": "bd797188-910b-11ea-8d02-0242ac120007",
       "next": "35c3783e-55a3-11e7-b0b2-00163e9c0e35",
       "previous": "35c362a4-55a3-11e7-b0b2-00163e9c0e35"
      },
      {
       "current": "bd797188-910b-11ea-8d02-0242ac120007",
       "next": "35c3783e-55a3-11e7-b0b2-00163e9c0e35",
       "previous": "484c7376-935c-11ea-8d02-0242ac120007"
      },
      {
       "current": "bd797188-910b-11ea-8d02-0242ac120007",
       "next": "35c3783e-55a3-11e7-b0b2-00163e9c0e35",
       "previous": "35c362a4-55a3-11e7-b0b2-00163e9c0e35"
      },
      {
       "current": "bd797188-910b-11ea-8d02-0242ac120007-1-728a",
       "next": "ac56a252-95bd-11ea-8d02-0242ac120007",
       "previous": "35c362a4-55a3-11e7-b0b2-00163e9c0e35"
      },
      {
       "current": "bd797188-910b-11ea-8d02-0242ac120007-1-728a",
       "next": "ac56a252-95bd-11ea-8d02-0242ac120007-1-86ee",
       "previous": "35c362a4-55a3-11e7-b0b2-00163e9c0e35-1-89a7"
      },
      {
       "current": "bd797188-910b-11ea-8d02-0242ac120007-2-728a-254c",
       "next": "ef4d2888-aa17-11ea-9ad4-0242ac120006",
       "previous": "35c362a4-55a3-11e7-b0b2-00163e9c0e35-1-89a7"
      },
      {
       "current": "bd797188-910b-11ea-8d02-0242ac120007-2-728a-254c",
       "next": "ef4d2888-aa17-11ea-9ad4-0242ac120006-1-42b7",
       "previous": "35c362a4-55a3-11e7-b0b2-00163e9c0e35-2-89a7-98f2"
      },
      {
       "current": "bd797188-910b-11ea-8d02-0242ac120007-2-728a-254c",
       "next": "ac56a252-95bd-11ea-8d02-0242ac120007-2-86ee-3a22",
       "previous": "ef4d2888-aa17-11ea-9ad4-0242ac120006-1-42b7"
      },
      {
       "current": "bd797188-910b-11ea-8d02-0242ac120007-2-728a-254c",
       "next": "ac56a252-95bd-11ea-8d02-0242ac120007-2-86ee-3a22",
       "previous": "e3856a36-df01-11eb-b29f-0242ac120008"
      },
      {
       "current": "bd797188-910b-11ea-8d02-0242ac120007-3-728a-254c-2f4c",
       "next": "21d849e2-dfd0-11eb-b29f-0242ac120008",
       "previous": "e3856a36-df01-11eb-b29f-0242ac120008"
      },
      {
       "current": "bd797188-910b-11ea-8d02-0242ac120007-3-728a-254c-2f4c",
       "next": "21d849e2-dfd0-11eb-b29f-0242ac120008-1-ee1b",
       "previous": "e3856a36-df01-11eb-b29f-0242ac120008-1-d6f1"
      },
      {
       "current": "bd797188-910b-11ea-8d02-0242ac120007-4-728a-254c-2f4c-6055",
       "next": "21d849e2-dfd0-11eb-b29f-0242ac120008-1-ee1b",
       "previous": "ef4d2888-aa17-11ea-9ad4-0242ac120006-2-42b7-b07a"
      },
      {
       "current": "bd797188-910b-11ea-8d02-0242ac120007-5-728a-254c-2f4c-6055-797d",
       "next": "21d849e2-dfd0-11eb-b29f-0242ac120008-2-ee1b-ae49",
       "previous": "ef4d2888-aa17-11ea-9ad4-0242ac120006-3-42b7-b07a-1a23"
      },
      {
       "current": "bd797188-910b-11ea-8d02-0242ac120007-6-728a-254c-2f4c-6055-797d-671e",
       "next": "21d849e2-dfd0-11eb-b29f-0242ac120008-3-ee1b-ae49-bd99",
       "previous": "ef4d2888-aa17-11ea-9ad4-0242ac120006-4-42b7-b07a-1a23-e342"
      },
      {
       "current": "bd797188-910b-11ea-8d02-0242ac120007-7-728a-254c-2f4c-6055-797d-671e-a914",
       "next": "21d849e2-dfd0-11eb-b29f-0242ac120008-4-ee1b-ae49-bd99-5c7e",
       "previous": "ef4d2888-aa17-11ea-9ad4-0242ac120006-5-42b7-b07a-1a23-e342-9041"
      },
      {
       "current": "bd797188-910b-11ea-8d02-0242ac120007-8-728a-254c-2f4c-6055-797d-671e-a914-c966",
       "next": "21d849e2-dfd0-11eb-b29f-0242ac120008-5-ee1b-ae49-bd99-5c7e-4f84",
       "previous": "ef4d2888-aa17-11ea-9ad4-0242ac120006-6-42b7-b07a-1a23-e342-9041-3e50"
      }
     ],
     "next": "21d849e2-dfd0-11eb-b29f-0242ac120008-6-ee1b-ae49-bd99-5c7e-4f84-9484",
     "previous": "ef4d2888-aa17-11ea-9ad4-0242ac120006-7-42b7-b07a-1a23-e342-9041-3e50-6767"
    }
   },
   "outputs": [],
   "source": [
    "!ansible -b -m shell -a 'hostname' ceph_nodes"
   ]
  },
  {
   "cell_type": "code",
   "execution_count": null,
   "metadata": {
    "lc_cell_meme": {
     "current": "21d849e2-dfd0-11eb-b29f-0242ac120008-6-ee1b-ae49-bd99-5c7e-4f84-9484",
     "history": [
      {
       "current": "21d849e2-dfd0-11eb-b29f-0242ac120008-1-ee1b",
       "next": "ac56a252-95bd-11ea-8d02-0242ac120007-2-86ee-3a22",
       "previous": "bd797188-910b-11ea-8d02-0242ac120007-2-728a-254c"
      },
      {
       "current": "21d849e2-dfd0-11eb-b29f-0242ac120008-1-ee1b",
       "next": "ac56a252-95bd-11ea-8d02-0242ac120007-3-86ee-3a22-9a71",
       "previous": "bd797188-910b-11ea-8d02-0242ac120007-3-728a-254c-2f4c"
      },
      {
       "current": "21d849e2-dfd0-11eb-b29f-0242ac120008-2-ee1b-ae49",
       "next": "91d0d70c-61bd-11ee-89fa-0242ac120005",
       "previous": "bd797188-910b-11ea-8d02-0242ac120007-3-728a-254c-2f4c"
      },
      {
       "current": "21d849e2-dfd0-11eb-b29f-0242ac120008-3-ee1b-ae49-bd99",
       "next": "91d0d70c-61bd-11ee-89fa-0242ac120005-1-14df",
       "previous": "bd797188-910b-11ea-8d02-0242ac120007-4-728a-254c-2f4c-6055"
      },
      {
       "current": "21d849e2-dfd0-11eb-b29f-0242ac120008-4-ee1b-ae49-bd99-5c7e",
       "next": "91d0d70c-61bd-11ee-89fa-0242ac120005-2-14df-8781",
       "previous": "bd797188-910b-11ea-8d02-0242ac120007-5-728a-254c-2f4c-6055-797d"
      },
      {
       "current": "21d849e2-dfd0-11eb-b29f-0242ac120008-5-ee1b-ae49-bd99-5c7e-4f84",
       "next": "91d0d70c-61bd-11ee-89fa-0242ac120005-3-14df-8781-153d",
       "previous": "bd797188-910b-11ea-8d02-0242ac120007-6-728a-254c-2f4c-6055-797d-671e"
      },
      {
       "current": "21d849e2-dfd0-11eb-b29f-0242ac120008-6-ee1b-ae49-bd99-5c7e-4f84-9484",
       "next": "91d0d70c-61bd-11ee-89fa-0242ac120005-4-14df-8781-153d-88ec",
       "previous": "bd797188-910b-11ea-8d02-0242ac120007-7-728a-254c-2f4c-6055-797d-671e-a914"
      }
     ],
     "next": "91d0d70c-61bd-11ee-89fa-0242ac120005-5-14df-8781-153d-88ec-513f",
     "previous": "bd797188-910b-11ea-8d02-0242ac120007-8-728a-254c-2f4c-6055-797d-671e-a914-c966"
    }
   },
   "outputs": [],
   "source": [
    "for node in target_node_list:\n",
    "    node_ip = node['prov_ip']\n",
    "    !ansible -b -m shell -a 'hostname' $node_ip"
   ]
  },
  {
   "cell_type": "code",
   "execution_count": null,
   "metadata": {
    "lc_cell_meme": {
     "current": "91d0d70c-61bd-11ee-89fa-0242ac120005-5-14df-8781-153d-88ec-513f",
     "history": [
      {
       "current": "91d0d70c-61bd-11ee-89fa-0242ac120005-1-14df",
       "next": "ac56a252-95bd-11ea-8d02-0242ac120007-3-86ee-3a22-9a71",
       "previous": "21d849e2-dfd0-11eb-b29f-0242ac120008-1-ee1b"
      },
      {
       "current": "91d0d70c-61bd-11ee-89fa-0242ac120005-2-14df-8781",
       "next": "ac56a252-95bd-11ea-8d02-0242ac120007-4-86ee-3a22-9a71-1cce",
       "previous": "21d849e2-dfd0-11eb-b29f-0242ac120008-2-ee1b-ae49"
      },
      {
       "current": "91d0d70c-61bd-11ee-89fa-0242ac120005-3-14df-8781-153d",
       "next": "ac56a252-95bd-11ea-8d02-0242ac120007-5-86ee-3a22-9a71-1cce-210c",
       "previous": "21d849e2-dfd0-11eb-b29f-0242ac120008-3-ee1b-ae49-bd99"
      },
      {
       "current": "91d0d70c-61bd-11ee-89fa-0242ac120005-4-14df-8781-153d-88ec",
       "next": "ac56a252-95bd-11ea-8d02-0242ac120007-6-86ee-3a22-9a71-1cce-210c-1c1c",
       "previous": "21d849e2-dfd0-11eb-b29f-0242ac120008-4-ee1b-ae49-bd99-5c7e"
      },
      {
       "current": "91d0d70c-61bd-11ee-89fa-0242ac120005-5-14df-8781-153d-88ec-513f",
       "next": "ac56a252-95bd-11ea-8d02-0242ac120007-7-86ee-3a22-9a71-1cce-210c-1c1c-af4b",
       "previous": "21d849e2-dfd0-11eb-b29f-0242ac120008-5-ee1b-ae49-bd99-5c7e-4f84"
      }
     ],
     "next": "ac56a252-95bd-11ea-8d02-0242ac120007-8-86ee-3a22-9a71-1cce-210c-1c1c-af4b-cb76",
     "previous": "21d849e2-dfd0-11eb-b29f-0242ac120008-6-ee1b-ae49-bd99-5c7e-4f84-9484"
    }
   },
   "outputs": [],
   "source": [
    "!ansible -b -m shell -a 'hostname' bootstrap"
   ]
  },
  {
   "cell_type": "markdown",
   "metadata": {
    "lc_cell_meme": {
     "current": "ac56a252-95bd-11ea-8d02-0242ac120007-8-86ee-3a22-9a71-1cce-210c-1c1c-af4b-cb76",
     "history": [
      {
       "current": "ac56a252-95bd-11ea-8d02-0242ac120007-1-86ee",
       "next": "ac56a6c6-95bd-11ea-8d02-0242ac120007",
       "previous": "bd797188-910b-11ea-8d02-0242ac120007"
      },
      {
       "current": "ac56a252-95bd-11ea-8d02-0242ac120007-1-86ee",
       "next": "ac56a6c6-95bd-11ea-8d02-0242ac120007-1-431a",
       "previous": "bd797188-910b-11ea-8d02-0242ac120007-1-728a"
      },
      {
       "current": "ac56a252-95bd-11ea-8d02-0242ac120007-1-86ee",
       "next": "46b93d3e-95bc-11ea-8d02-0242ac120007-1-9f9c",
       "previous": "bd797188-910b-11ea-8d02-0242ac120007-1-728a"
      },
      {
       "current": "ac56a252-95bd-11ea-8d02-0242ac120007-2-86ee-3a22",
       "next": "46b93d3e-95bc-11ea-8d02-0242ac120007-1-9f9c",
       "previous": "ef4d2888-aa17-11ea-9ad4-0242ac120006"
      },
      {
       "current": "ac56a252-95bd-11ea-8d02-0242ac120007-2-86ee-3a22",
       "next": "46b93d3e-95bc-11ea-8d02-0242ac120007-2-9f9c-2f8b",
       "previous": "ef4d2888-aa17-11ea-9ad4-0242ac120006-1-42b7"
      },
      {
       "current": "ac56a252-95bd-11ea-8d02-0242ac120007-2-86ee-3a22",
       "next": "46b93d3e-95bc-11ea-8d02-0242ac120007-2-9f9c-2f8b",
       "previous": "bd797188-910b-11ea-8d02-0242ac120007-2-728a-254c"
      },
      {
       "current": "ac56a252-95bd-11ea-8d02-0242ac120007-3-86ee-3a22-9a71",
       "next": "46b93d3e-95bc-11ea-8d02-0242ac120007-2-9f9c-2f8b",
       "previous": "21d849e2-dfd0-11eb-b29f-0242ac120008"
      },
      {
       "current": "ac56a252-95bd-11ea-8d02-0242ac120007-3-86ee-3a22-9a71",
       "next": "46b93d3e-95bc-11ea-8d02-0242ac120007-3-9f9c-2f8b-fd5c",
       "previous": "21d849e2-dfd0-11eb-b29f-0242ac120008-1-ee1b"
      },
      {
       "current": "ac56a252-95bd-11ea-8d02-0242ac120007-3-86ee-3a22-9a71",
       "next": "1e5a5a54-4bb1-11ee-89fa-0242ac120005",
       "previous": "21d849e2-dfd0-11eb-b29f-0242ac120008-1-ee1b"
      },
      {
       "current": "ac56a252-95bd-11ea-8d02-0242ac120007-3-86ee-3a22-9a71",
       "next": "65e00220-4bb1-11ee-89fa-0242ac120005",
       "previous": "21d849e2-dfd0-11eb-b29f-0242ac120008-1-ee1b"
      },
      {
       "current": "ac56a252-95bd-11ea-8d02-0242ac120007-3-86ee-3a22-9a71",
       "next": "5d429cae-6191-11ee-89fa-0242ac120005",
       "previous": "21d849e2-dfd0-11eb-b29f-0242ac120008-1-ee1b"
      },
      {
       "current": "ac56a252-95bd-11ea-8d02-0242ac120007-3-86ee-3a22-9a71",
       "next": "5d429cae-6191-11ee-89fa-0242ac120005",
       "previous": "91d0d70c-61bd-11ee-89fa-0242ac120005"
      },
      {
       "current": "ac56a252-95bd-11ea-8d02-0242ac120007-3-86ee-3a22-9a71",
       "next": "d9541562-61bd-11ee-89fa-0242ac120005",
       "previous": "91d0d70c-61bd-11ee-89fa-0242ac120005"
      },
      {
       "current": "ac56a252-95bd-11ea-8d02-0242ac120007-4-86ee-3a22-9a71-1cce",
       "next": "43709838-6251-11ee-89fa-0242ac120005",
       "previous": "91d0d70c-61bd-11ee-89fa-0242ac120005"
      },
      {
       "current": "ac56a252-95bd-11ea-8d02-0242ac120007-5-86ee-3a22-9a71-1cce-210c",
       "next": "43709838-6251-11ee-89fa-0242ac120005-1-b6a8",
       "previous": "91d0d70c-61bd-11ee-89fa-0242ac120005-1-14df"
      },
      {
       "current": "ac56a252-95bd-11ea-8d02-0242ac120007-6-86ee-3a22-9a71-1cce-210c-1c1c",
       "next": "43709838-6251-11ee-89fa-0242ac120005-2-b6a8-cad6",
       "previous": "91d0d70c-61bd-11ee-89fa-0242ac120005-2-14df-8781"
      },
      {
       "current": "ac56a252-95bd-11ea-8d02-0242ac120007-7-86ee-3a22-9a71-1cce-210c-1c1c-af4b",
       "next": "43709838-6251-11ee-89fa-0242ac120005-3-b6a8-cad6-61be",
       "previous": "91d0d70c-61bd-11ee-89fa-0242ac120005-3-14df-8781-153d"
      },
      {
       "current": "ac56a252-95bd-11ea-8d02-0242ac120007-8-86ee-3a22-9a71-1cce-210c-1c1c-af4b-cb76",
       "next": "43709838-6251-11ee-89fa-0242ac120005-4-b6a8-cad6-61be-d274",
       "previous": "91d0d70c-61bd-11ee-89fa-0242ac120005-4-14df-8781-153d-88ec"
      }
     ],
     "next": "43709838-6251-11ee-89fa-0242ac120005-5-b6a8-cad6-61be-d274-b276",
     "previous": "91d0d70c-61bd-11ee-89fa-0242ac120005-5-14df-8781-153d-88ec-513f"
    }
   },
   "source": [
    "# ホスト情報登録"
   ]
  },
  {
   "cell_type": "code",
   "execution_count": null,
   "metadata": {
    "lc_cell_meme": {
     "current": "43709838-6251-11ee-89fa-0242ac120005-5-b6a8-cad6-61be-d274-b276",
     "history": [
      {
       "current": "43709838-6251-11ee-89fa-0242ac120005",
       "next": "437099dc-6251-11ee-89fa-0242ac120005",
       "previous": "ac56a252-95bd-11ea-8d02-0242ac120007-3-86ee-3a22-9a71"
      },
      {
       "current": "43709838-6251-11ee-89fa-0242ac120005-1-b6a8",
       "next": "437099dc-6251-11ee-89fa-0242ac120005-2-9494-0e1c",
       "previous": "ac56a252-95bd-11ea-8d02-0242ac120007-3-86ee-3a22-9a71"
      },
      {
       "current": "43709838-6251-11ee-89fa-0242ac120005-2-b6a8-cad6",
       "next": "437099dc-6251-11ee-89fa-0242ac120005-3-9494-0e1c-5465",
       "previous": "ac56a252-95bd-11ea-8d02-0242ac120007-4-86ee-3a22-9a71-1cce"
      },
      {
       "current": "43709838-6251-11ee-89fa-0242ac120005-3-b6a8-cad6-61be",
       "next": "437099dc-6251-11ee-89fa-0242ac120005-4-9494-0e1c-5465-a40e",
       "previous": "ac56a252-95bd-11ea-8d02-0242ac120007-5-86ee-3a22-9a71-1cce-210c"
      },
      {
       "current": "43709838-6251-11ee-89fa-0242ac120005-4-b6a8-cad6-61be-d274",
       "next": "437099dc-6251-11ee-89fa-0242ac120005-5-9494-0e1c-5465-a40e-4926",
       "previous": "ac56a252-95bd-11ea-8d02-0242ac120007-6-86ee-3a22-9a71-1cce-210c-1c1c"
      },
      {
       "current": "43709838-6251-11ee-89fa-0242ac120005-5-b6a8-cad6-61be-d274-b276",
       "next": "437099dc-6251-11ee-89fa-0242ac120005-6-9494-0e1c-5465-a40e-4926-0df0",
       "previous": "ac56a252-95bd-11ea-8d02-0242ac120007-7-86ee-3a22-9a71-1cce-210c-1c1c-af4b"
      }
     ],
     "next": "437099dc-6251-11ee-89fa-0242ac120005-7-9494-0e1c-5465-a40e-4926-0df0-85f5",
     "previous": "ac56a252-95bd-11ea-8d02-0242ac120007-8-86ee-3a22-9a71-1cce-210c-1c1c-af4b-cb76"
    }
   },
   "outputs": [],
   "source": [
    "for target_node in target_node_list:\n",
    "    name = target_node['name']\n",
    "    strage_ip = target_node['instance_ip']\n",
    "    label = target_labels[name]\n",
    "    !ansible -b -m shell -a \"cephadm shell -- ceph orch host add $name $strage_ip --labels=$label\" bootstrap"
   ]
  },
  {
   "cell_type": "code",
   "execution_count": null,
   "metadata": {
    "lc_cell_meme": {
     "current": "437099dc-6251-11ee-89fa-0242ac120005-7-9494-0e1c-5465-a40e-4926-0df0-85f5",
     "history": [
      {
       "current": "437099dc-6251-11ee-89fa-0242ac120005",
       "next": "d9541562-61bd-11ee-89fa-0242ac120005",
       "previous": "43709838-6251-11ee-89fa-0242ac120005"
      },
      {
       "current": "437099dc-6251-11ee-89fa-0242ac120005-2-9494-0e1c",
       "next": "0fca53ae-6254-11ee-89fa-0242ac120005",
       "previous": "43709838-6251-11ee-89fa-0242ac120005"
      },
      {
       "current": "437099dc-6251-11ee-89fa-0242ac120005-3-9494-0e1c-5465",
       "next": "8f366f76-6f18-11ee-89fa-0242ac120005",
       "previous": "43709838-6251-11ee-89fa-0242ac120005"
      },
      {
       "current": "437099dc-6251-11ee-89fa-0242ac120005-4-9494-0e1c-5465-a40e",
       "next": "8f366f76-6f18-11ee-89fa-0242ac120005-1-e268",
       "previous": "43709838-6251-11ee-89fa-0242ac120005-1-b6a8"
      },
      {
       "current": "437099dc-6251-11ee-89fa-0242ac120005-5-9494-0e1c-5465-a40e-4926",
       "next": "8f366f76-6f18-11ee-89fa-0242ac120005-2-e268-eede",
       "previous": "43709838-6251-11ee-89fa-0242ac120005-2-b6a8-cad6"
      },
      {
       "current": "437099dc-6251-11ee-89fa-0242ac120005-6-9494-0e1c-5465-a40e-4926-0df0",
       "next": "8f366f76-6f18-11ee-89fa-0242ac120005-3-e268-eede-f755",
       "previous": "43709838-6251-11ee-89fa-0242ac120005-3-b6a8-cad6-61be"
      },
      {
       "current": "437099dc-6251-11ee-89fa-0242ac120005-7-9494-0e1c-5465-a40e-4926-0df0-85f5",
       "next": "8f366f76-6f18-11ee-89fa-0242ac120005-4-e268-eede-f755-4522",
       "previous": "43709838-6251-11ee-89fa-0242ac120005-4-b6a8-cad6-61be-d274"
      }
     ],
     "next": "8f366f76-6f18-11ee-89fa-0242ac120005-5-e268-eede-f755-4522-f4ef",
     "previous": "43709838-6251-11ee-89fa-0242ac120005-5-b6a8-cad6-61be-d274-b276"
    }
   },
   "outputs": [],
   "source": [
    "!ansible -b -m shell -a 'cephadm shell -- ceph orch host ls 2> /dev/null' bootstrap"
   ]
  },
  {
   "cell_type": "markdown",
   "metadata": {
    "lc_cell_meme": {
     "current": "8f366f76-6f18-11ee-89fa-0242ac120005-5-e268-eede-f755-4522-f4ef",
     "history": [
      {
       "current": "8f366f76-6f18-11ee-89fa-0242ac120005-1-e268",
       "next": "0fca53ae-6254-11ee-89fa-0242ac120005",
       "previous": "437099dc-6251-11ee-89fa-0242ac120005-2-9494-0e1c"
      },
      {
       "current": "8f366f76-6f18-11ee-89fa-0242ac120005-2-e268-eede",
       "next": "0fca53ae-6254-11ee-89fa-0242ac120005-1-ada4",
       "previous": "437099dc-6251-11ee-89fa-0242ac120005-3-9494-0e1c-5465"
      },
      {
       "current": "8f366f76-6f18-11ee-89fa-0242ac120005-3-e268-eede-f755",
       "next": "0fca53ae-6254-11ee-89fa-0242ac120005-2-ada4-f077",
       "previous": "437099dc-6251-11ee-89fa-0242ac120005-4-9494-0e1c-5465-a40e"
      },
      {
       "current": "8f366f76-6f18-11ee-89fa-0242ac120005-4-e268-eede-f755-4522",
       "next": "0fca53ae-6254-11ee-89fa-0242ac120005-3-ada4-f077-0165",
       "previous": "437099dc-6251-11ee-89fa-0242ac120005-5-9494-0e1c-5465-a40e-4926"
      },
      {
       "current": "8f366f76-6f18-11ee-89fa-0242ac120005-5-e268-eede-f755-4522-f4ef",
       "next": "0fca53ae-6254-11ee-89fa-0242ac120005-4-ada4-f077-0165-044f",
       "previous": "437099dc-6251-11ee-89fa-0242ac120005-6-9494-0e1c-5465-a40e-4926-0df0"
      }
     ],
     "next": "0fca53ae-6254-11ee-89fa-0242ac120005-5-ada4-f077-0165-044f-3c9b",
     "previous": "437099dc-6251-11ee-89fa-0242ac120005-7-9494-0e1c-5465-a40e-4926-0df0-85f5"
    }
   },
   "source": [
    "## bootstrapノード ラベル設定"
   ]
  },
  {
   "cell_type": "code",
   "execution_count": null,
   "metadata": {
    "lc_cell_meme": {
     "current": "0fca53ae-6254-11ee-89fa-0242ac120005-5-ada4-f077-0165-044f-3c9b",
     "history": [
      {
       "current": "0fca53ae-6254-11ee-89fa-0242ac120005",
       "next": "0fca55a2-6254-11ee-89fa-0242ac120005",
       "previous": "437099dc-6251-11ee-89fa-0242ac120005"
      },
      {
       "current": "0fca53ae-6254-11ee-89fa-0242ac120005-1-ada4",
       "next": "0fca55a2-6254-11ee-89fa-0242ac120005",
       "previous": "8f366f76-6f18-11ee-89fa-0242ac120005"
      },
      {
       "current": "0fca53ae-6254-11ee-89fa-0242ac120005-2-ada4-f077",
       "next": "0fca55a2-6254-11ee-89fa-0242ac120005-1-9195",
       "previous": "8f366f76-6f18-11ee-89fa-0242ac120005-1-e268"
      },
      {
       "current": "0fca53ae-6254-11ee-89fa-0242ac120005-3-ada4-f077-0165",
       "next": "0fca55a2-6254-11ee-89fa-0242ac120005-2-9195-5311",
       "previous": "8f366f76-6f18-11ee-89fa-0242ac120005-2-e268-eede"
      },
      {
       "current": "0fca53ae-6254-11ee-89fa-0242ac120005-4-ada4-f077-0165-044f",
       "next": "0fca55a2-6254-11ee-89fa-0242ac120005-3-9195-5311-d789",
       "previous": "8f366f76-6f18-11ee-89fa-0242ac120005-3-e268-eede-f755"
      },
      {
       "current": "0fca53ae-6254-11ee-89fa-0242ac120005-5-ada4-f077-0165-044f-3c9b",
       "next": "0fca55a2-6254-11ee-89fa-0242ac120005-4-9195-5311-d789-4dc2",
       "previous": "8f366f76-6f18-11ee-89fa-0242ac120005-4-e268-eede-f755-4522"
      }
     ],
     "next": "0fca55a2-6254-11ee-89fa-0242ac120005-5-9195-5311-d789-4dc2-1bb0",
     "previous": "8f366f76-6f18-11ee-89fa-0242ac120005-5-e268-eede-f755-4522-f4ef"
    }
   },
   "outputs": [],
   "source": [
    "name = bootstrap_node['name']\n",
    "label = target_labels[name]\n",
    "add_label_list = label.split(',')\n",
    "for add_label in add_label_list:\n",
    "    !ansible -b -m shell -a \"cephadm shell -- ceph orch host label add $name $add_label\" bootstrap"
   ]
  },
  {
   "cell_type": "code",
   "execution_count": null,
   "metadata": {
    "lc_cell_meme": {
     "current": "0fca55a2-6254-11ee-89fa-0242ac120005-5-9195-5311-d789-4dc2-1bb0",
     "history": [
      {
       "current": "0fca55a2-6254-11ee-89fa-0242ac120005",
       "next": "d9541562-61bd-11ee-89fa-0242ac120005",
       "previous": "0fca53ae-6254-11ee-89fa-0242ac120005"
      },
      {
       "current": "0fca55a2-6254-11ee-89fa-0242ac120005",
       "next": "35c581ba-55a3-11e7-b0b2-00163e9c0e35-3-f60b-133a-40ef",
       "previous": "0fca53ae-6254-11ee-89fa-0242ac120005"
      },
      {
       "current": "0fca55a2-6254-11ee-89fa-0242ac120005-1-9195",
       "next": "5c979276-7f8e-11ee-91d3-0242ac120006",
       "previous": "0fca53ae-6254-11ee-89fa-0242ac120005"
      },
      {
       "current": "0fca55a2-6254-11ee-89fa-0242ac120005-2-9195-5311",
       "next": "5c979276-7f8e-11ee-91d3-0242ac120006-1-4224",
       "previous": "0fca53ae-6254-11ee-89fa-0242ac120005-1-ada4"
      },
      {
       "current": "0fca55a2-6254-11ee-89fa-0242ac120005-3-9195-5311-d789",
       "next": "5c979276-7f8e-11ee-91d3-0242ac120006-2-4224-0860",
       "previous": "0fca53ae-6254-11ee-89fa-0242ac120005-2-ada4-f077"
      },
      {
       "current": "0fca55a2-6254-11ee-89fa-0242ac120005-4-9195-5311-d789-4dc2",
       "next": "5c979276-7f8e-11ee-91d3-0242ac120006-3-4224-0860-abad",
       "previous": "0fca53ae-6254-11ee-89fa-0242ac120005-3-ada4-f077-0165"
      },
      {
       "current": "0fca55a2-6254-11ee-89fa-0242ac120005-5-9195-5311-d789-4dc2-1bb0",
       "next": "5c979276-7f8e-11ee-91d3-0242ac120006-4-4224-0860-abad-c578",
       "previous": "0fca53ae-6254-11ee-89fa-0242ac120005-4-ada4-f077-0165-044f"
      }
     ],
     "next": "5c979276-7f8e-11ee-91d3-0242ac120006-5-4224-0860-abad-c578-bbf5",
     "previous": "0fca53ae-6254-11ee-89fa-0242ac120005-5-ada4-f077-0165-044f-3c9b"
    }
   },
   "outputs": [],
   "source": [
    "!ansible -b -m shell -a 'cephadm shell -- ceph orch host ls 2> /dev/null' bootstrap"
   ]
  },
  {
   "cell_type": "code",
   "execution_count": null,
   "metadata": {
    "lc_cell_meme": {
     "current": "5c979276-7f8e-11ee-91d3-0242ac120006-5-4224-0860-abad-c578-bbf5",
     "history": [
      {
       "current": "5c979276-7f8e-11ee-91d3-0242ac120006",
       "next": "35c581ba-55a3-11e7-b0b2-00163e9c0e35-3-f60b-133a-40ef",
       "previous": "0fca55a2-6254-11ee-89fa-0242ac120005"
      },
      {
       "current": "5c979276-7f8e-11ee-91d3-0242ac120006-1-4224",
       "next": "a292cd54-7f8e-11ee-91d3-0242ac120006",
       "previous": "0fca55a2-6254-11ee-89fa-0242ac120005"
      },
      {
       "current": "5c979276-7f8e-11ee-91d3-0242ac120006-2-4224-0860",
       "next": "a292cd54-7f8e-11ee-91d3-0242ac120006-1-4fca",
       "previous": "0fca55a2-6254-11ee-89fa-0242ac120005-1-9195"
      },
      {
       "current": "5c979276-7f8e-11ee-91d3-0242ac120006-3-4224-0860-abad",
       "next": "a292cd54-7f8e-11ee-91d3-0242ac120006-2-4fca-796c",
       "previous": "0fca55a2-6254-11ee-89fa-0242ac120005-2-9195-5311"
      },
      {
       "current": "5c979276-7f8e-11ee-91d3-0242ac120006-4-4224-0860-abad-c578",
       "next": "a292cd54-7f8e-11ee-91d3-0242ac120006-3-4fca-796c-d95b",
       "previous": "0fca55a2-6254-11ee-89fa-0242ac120005-3-9195-5311-d789"
      },
      {
       "current": "5c979276-7f8e-11ee-91d3-0242ac120006-5-4224-0860-abad-c578-bbf5",
       "next": "a292cd54-7f8e-11ee-91d3-0242ac120006-4-4fca-796c-d95b-3333",
       "previous": "0fca55a2-6254-11ee-89fa-0242ac120005-4-9195-5311-d789-4dc2"
      }
     ],
     "next": "a292cd54-7f8e-11ee-91d3-0242ac120006-5-4fca-796c-d95b-3333-dd62",
     "previous": "0fca55a2-6254-11ee-89fa-0242ac120005-5-9195-5311-d789-4dc2-1bb0"
    }
   },
   "outputs": [],
   "source": [
    "!ansible -b -m shell -a \"cephadm shell -- ceph orch ls 2> /dev/null\" bootstrap"
   ]
  },
  {
   "cell_type": "code",
   "execution_count": null,
   "metadata": {
    "lc_cell_meme": {
     "current": "a292cd54-7f8e-11ee-91d3-0242ac120006-5-4fca-796c-d95b-3333-dd62",
     "history": [
      {
       "current": "a292cd54-7f8e-11ee-91d3-0242ac120006-1-4fca",
       "next": "35c581ba-55a3-11e7-b0b2-00163e9c0e35-3-f60b-133a-40ef",
       "previous": "5c979276-7f8e-11ee-91d3-0242ac120006"
      },
      {
       "current": "a292cd54-7f8e-11ee-91d3-0242ac120006-2-4fca-796c",
       "next": "35c581ba-55a3-11e7-b0b2-00163e9c0e35-4-f60b-133a-40ef-0576",
       "previous": "5c979276-7f8e-11ee-91d3-0242ac120006-1-4224"
      },
      {
       "current": "a292cd54-7f8e-11ee-91d3-0242ac120006-3-4fca-796c-d95b",
       "next": "35c581ba-55a3-11e7-b0b2-00163e9c0e35-5-f60b-133a-40ef-0576-8d0a",
       "previous": "5c979276-7f8e-11ee-91d3-0242ac120006-2-4224-0860"
      },
      {
       "current": "a292cd54-7f8e-11ee-91d3-0242ac120006-4-4fca-796c-d95b-3333",
       "next": "35c581ba-55a3-11e7-b0b2-00163e9c0e35-6-f60b-133a-40ef-0576-8d0a-6d9b",
       "previous": "5c979276-7f8e-11ee-91d3-0242ac120006-3-4224-0860-abad"
      },
      {
       "current": "a292cd54-7f8e-11ee-91d3-0242ac120006-5-4fca-796c-d95b-3333-dd62",
       "next": "35c581ba-55a3-11e7-b0b2-00163e9c0e35-7-f60b-133a-40ef-0576-8d0a-6d9b-9271",
       "previous": "5c979276-7f8e-11ee-91d3-0242ac120006-4-4224-0860-abad-c578"
      }
     ],
     "next": "35c581ba-55a3-11e7-b0b2-00163e9c0e35-8-f60b-133a-40ef-0576-8d0a-6d9b-9271-8aa3",
     "previous": "5c979276-7f8e-11ee-91d3-0242ac120006-5-4224-0860-abad-c578-bbf5"
    }
   },
   "outputs": [],
   "source": [
    "!ansible -b -m shell -a \"cephadm shell -- ceph -s 2> /dev/null\" bootstrap"
   ]
  },
  {
   "cell_type": "markdown",
   "metadata": {
    "collapsed": true,
    "lc_cell_meme": {
     "current": "35c581ba-55a3-11e7-b0b2-00163e9c0e35-8-f60b-133a-40ef-0576-8d0a-6d9b-9271-8aa3",
     "history": [
      {
       "current": "35c581ba-55a3-11e7-b0b2-00163e9c0e35",
       "next": "35c58340-55a3-11e7-b0b2-00163e9c0e35",
       "previous": "35c58034-55a3-11e7-b0b2-00163e9c0e35"
      },
      {
       "current": "35c581ba-55a3-11e7-b0b2-00163e9c0e35",
       "next": "35c58340-55a3-11e7-b0b2-00163e9c0e35",
       "previous": "35c51928-55a3-11e7-b0b2-00163e9c0e35"
      },
      {
       "current": "35c581ba-55a3-11e7-b0b2-00163e9c0e35",
       "next": "35c58340-55a3-11e7-b0b2-00163e9c0e35",
       "previous": "277a614c-47b9-11ea-a028-0242ac120005"
      },
      {
       "current": "35c581ba-55a3-11e7-b0b2-00163e9c0e35",
       "next": "35c58340-55a3-11e7-b0b2-00163e9c0e35",
       "previous": "35c51928-55a3-11e7-b0b2-00163e9c0e35"
      },
      {
       "current": "35c581ba-55a3-11e7-b0b2-00163e9c0e35",
       "next": "35c58340-55a3-11e7-b0b2-00163e9c0e35",
       "previous": "b8a85906-47b6-11ea-a028-0242ac120005"
      },
      {
       "current": "35c581ba-55a3-11e7-b0b2-00163e9c0e35",
       "next": "35c58340-55a3-11e7-b0b2-00163e9c0e35",
       "previous": "35c38fae-55a3-11e7-b0b2-00163e9c0e35"
      },
      {
       "current": "35c581ba-55a3-11e7-b0b2-00163e9c0e35",
       "next": "35c58340-55a3-11e7-b0b2-00163e9c0e35",
       "previous": "35c385a4-55a3-11e7-b0b2-00163e9c0e35"
      },
      {
       "current": "35c581ba-55a3-11e7-b0b2-00163e9c0e35",
       "next": "35c58340-55a3-11e7-b0b2-00163e9c0e35",
       "previous": "27c39180-935b-11ea-8d02-0242ac120007"
      },
      {
       "current": "35c581ba-55a3-11e7-b0b2-00163e9c0e35",
       "next": "35c58340-55a3-11e7-b0b2-00163e9c0e35",
       "previous": "35c385a4-55a3-11e7-b0b2-00163e9c0e35"
      },
      {
       "current": "35c581ba-55a3-11e7-b0b2-00163e9c0e35",
       "next": "35c58340-55a3-11e7-b0b2-00163e9c0e35",
       "previous": "b20d6ace-9684-11ea-8d02-0242ac120007"
      },
      {
       "current": "35c581ba-55a3-11e7-b0b2-00163e9c0e35",
       "next": "35c58340-55a3-11e7-b0b2-00163e9c0e35",
       "previous": "18b837c6-9686-11ea-8d02-0242ac120007"
      },
      {
       "current": "35c581ba-55a3-11e7-b0b2-00163e9c0e35",
       "next": "35c58340-55a3-11e7-b0b2-00163e9c0e35",
       "previous": "59de09f6-9686-11ea-8d02-0242ac120007"
      },
      {
       "current": "35c581ba-55a3-11e7-b0b2-00163e9c0e35",
       "next": "35c58340-55a3-11e7-b0b2-00163e9c0e35",
       "previous": "7dae8b30-9686-11ea-8d02-0242ac120007"
      },
      {
       "current": "35c581ba-55a3-11e7-b0b2-00163e9c0e35",
       "next": "35c58340-55a3-11e7-b0b2-00163e9c0e35",
       "previous": "789942dc-9692-11ea-8d02-0242ac120007"
      },
      {
       "current": "35c581ba-55a3-11e7-b0b2-00163e9c0e35",
       "next": "35c58340-55a3-11e7-b0b2-00163e9c0e35",
       "previous": "e95d003a-9697-11ea-8d02-0242ac120007"
      },
      {
       "current": "35c581ba-55a3-11e7-b0b2-00163e9c0e35",
       "next": "35c58340-55a3-11e7-b0b2-00163e9c0e35",
       "previous": "357fc83a-969d-11ea-8d02-0242ac120007"
      },
      {
       "current": "35c581ba-55a3-11e7-b0b2-00163e9c0e35",
       "next": "35c58340-55a3-11e7-b0b2-00163e9c0e35",
       "previous": "7dae86da-9686-11ea-8d02-0242ac120007"
      },
      {
       "current": "35c581ba-55a3-11e7-b0b2-00163e9c0e35",
       "next": "35c58340-55a3-11e7-b0b2-00163e9c0e35",
       "previous": "49102d8c-98a9-11ea-8d02-0242ac120007"
      },
      {
       "current": "35c581ba-55a3-11e7-b0b2-00163e9c0e35",
       "next": "35c58340-55a3-11e7-b0b2-00163e9c0e35",
       "previous": "dbe917aa-9984-11ea-8d02-0242ac120007"
      },
      {
       "current": "35c581ba-55a3-11e7-b0b2-00163e9c0e35",
       "next": "35c58340-55a3-11e7-b0b2-00163e9c0e35",
       "previous": "f9f7c1a0-9985-11ea-8d02-0242ac120007"
      },
      {
       "current": "35c581ba-55a3-11e7-b0b2-00163e9c0e35",
       "next": "35c58340-55a3-11e7-b0b2-00163e9c0e35",
       "previous": "4180e646-9986-11ea-8d02-0242ac120007"
      },
      {
       "current": "35c581ba-55a3-11e7-b0b2-00163e9c0e35",
       "next": "35c58340-55a3-11e7-b0b2-00163e9c0e35",
       "previous": "eea7aafc-9987-11ea-8d02-0242ac120007"
      },
      {
       "current": "35c581ba-55a3-11e7-b0b2-00163e9c0e35",
       "next": "35c58340-55a3-11e7-b0b2-00163e9c0e35",
       "previous": "7db36be6-9988-11ea-8d02-0242ac120007"
      },
      {
       "current": "35c581ba-55a3-11e7-b0b2-00163e9c0e35",
       "next": "35c58340-55a3-11e7-b0b2-00163e9c0e35",
       "previous": "7db36a7e-9988-11ea-8d02-0242ac120007"
      },
      {
       "current": "35c581ba-55a3-11e7-b0b2-00163e9c0e35",
       "next": "35c58340-55a3-11e7-b0b2-00163e9c0e35",
       "previous": "f3e7d364-998e-11ea-8d02-0242ac120007"
      },
      {
       "current": "35c581ba-55a3-11e7-b0b2-00163e9c0e35-1-f60b",
       "next": "35c58340-55a3-11e7-b0b2-00163e9c0e35",
       "previous": "b0a33f46-98ce-11ea-8d02-0242ac120007"
      },
      {
       "current": "35c581ba-55a3-11e7-b0b2-00163e9c0e35-2-f60b-133a",
       "next": "35c58340-55a3-11e7-b0b2-00163e9c0e35-1-c0ce",
       "previous": "b0a33f46-98ce-11ea-8d02-0242ac120007-1-1e51"
      },
      {
       "current": "35c581ba-55a3-11e7-b0b2-00163e9c0e35-2-f60b-133a",
       "next": "35c58340-55a3-11e7-b0b2-00163e9c0e35-2-c0ce-9618",
       "previous": "b0a33f46-98ce-11ea-8d02-0242ac120007-2-1e51-b1e8"
      },
      {
       "current": "35c581ba-55a3-11e7-b0b2-00163e9c0e35-2-f60b-133a",
       "next": "35c58340-55a3-11e7-b0b2-00163e9c0e35-2-c0ce-9618",
       "previous": "d0769ffa-98bc-11ea-8d02-0242ac120007-2-9994-0723"
      },
      {
       "current": "35c581ba-55a3-11e7-b0b2-00163e9c0e35-2-f60b-133a",
       "next": "35c58340-55a3-11e7-b0b2-00163e9c0e35-2-c0ce-9618",
       "previous": "bc16cb02-dfce-11eb-b29f-0242ac120008"
      },
      {
       "current": "35c581ba-55a3-11e7-b0b2-00163e9c0e35-2-f60b-133a",
       "next": "35c58340-55a3-11e7-b0b2-00163e9c0e35-2-c0ce-9618",
       "previous": "7cf7d994-f4ea-11eb-b29f-0242ac120008"
      },
      {
       "current": "35c581ba-55a3-11e7-b0b2-00163e9c0e35-2-f60b-133a",
       "next": "35c58340-55a3-11e7-b0b2-00163e9c0e35-2-c0ce-9618",
       "previous": "204647a2-f4eb-11eb-b29f-0242ac120008"
      },
      {
       "current": "35c581ba-55a3-11e7-b0b2-00163e9c0e35-2-f60b-133a",
       "next": "35c58340-55a3-11e7-b0b2-00163e9c0e35-2-c0ce-9618",
       "previous": "798c29c4-9a06-11ec-a1da-0242ac120004"
      },
      {
       "current": "35c581ba-55a3-11e7-b0b2-00163e9c0e35-3-f60b-133a-40ef",
       "next": "35c58340-55a3-11e7-b0b2-00163e9c0e35-2-c0ce-9618",
       "previous": "204647a2-f4eb-11eb-b29f-0242ac120008"
      },
      {
       "current": "35c581ba-55a3-11e7-b0b2-00163e9c0e35-3-f60b-133a-40ef",
       "next": "35c58340-55a3-11e7-b0b2-00163e9c0e35-3-c0ce-9618-7032",
       "previous": "204647a2-f4eb-11eb-b29f-0242ac120008-1-10f9"
      },
      {
       "current": "35c581ba-55a3-11e7-b0b2-00163e9c0e35-3-f60b-133a-40ef",
       "next": "35c58340-55a3-11e7-b0b2-00163e9c0e35-3-c0ce-9618-7032",
       "previous": "3c6cb112-4bb2-11ee-89fa-0242ac120005"
      },
      {
       "current": "35c581ba-55a3-11e7-b0b2-00163e9c0e35-3-f60b-133a-40ef",
       "next": "35c58340-55a3-11e7-b0b2-00163e9c0e35-3-c0ce-9618-7032",
       "previous": "d619a970-6195-11ee-89fa-0242ac120005"
      },
      {
       "current": "35c581ba-55a3-11e7-b0b2-00163e9c0e35-3-f60b-133a-40ef",
       "next": "35c58340-55a3-11e7-b0b2-00163e9c0e35-3-c0ce-9618-7032",
       "previous": "d954180a-61bd-11ee-89fa-0242ac120005"
      },
      {
       "current": "35c581ba-55a3-11e7-b0b2-00163e9c0e35-3-f60b-133a-40ef",
       "next": "35c58340-55a3-11e7-b0b2-00163e9c0e35-3-c0ce-9618-7032",
       "previous": "0fca55a2-6254-11ee-89fa-0242ac120005"
      },
      {
       "current": "35c581ba-55a3-11e7-b0b2-00163e9c0e35-3-f60b-133a-40ef",
       "next": "35c58340-55a3-11e7-b0b2-00163e9c0e35-3-c0ce-9618-7032",
       "previous": "5c979276-7f8e-11ee-91d3-0242ac120006"
      },
      {
       "current": "35c581ba-55a3-11e7-b0b2-00163e9c0e35-4-f60b-133a-40ef-0576",
       "next": "35c58340-55a3-11e7-b0b2-00163e9c0e35-3-c0ce-9618-7032",
       "previous": "a292cd54-7f8e-11ee-91d3-0242ac120006"
      },
      {
       "current": "35c581ba-55a3-11e7-b0b2-00163e9c0e35-5-f60b-133a-40ef-0576-8d0a",
       "next": "35c58340-55a3-11e7-b0b2-00163e9c0e35-4-c0ce-9618-7032-b20a",
       "previous": "a292cd54-7f8e-11ee-91d3-0242ac120006-1-4fca"
      },
      {
       "current": "35c581ba-55a3-11e7-b0b2-00163e9c0e35-6-f60b-133a-40ef-0576-8d0a-6d9b",
       "next": "35c58340-55a3-11e7-b0b2-00163e9c0e35-5-c0ce-9618-7032-b20a-ef57",
       "previous": "a292cd54-7f8e-11ee-91d3-0242ac120006-2-4fca-796c"
      },
      {
       "current": "35c581ba-55a3-11e7-b0b2-00163e9c0e35-7-f60b-133a-40ef-0576-8d0a-6d9b-9271",
       "next": "35c58340-55a3-11e7-b0b2-00163e9c0e35-6-c0ce-9618-7032-b20a-ef57-a6a4",
       "previous": "a292cd54-7f8e-11ee-91d3-0242ac120006-3-4fca-796c-d95b"
      },
      {
       "current": "35c581ba-55a3-11e7-b0b2-00163e9c0e35-8-f60b-133a-40ef-0576-8d0a-6d9b-9271-8aa3",
       "next": "35c58340-55a3-11e7-b0b2-00163e9c0e35-7-c0ce-9618-7032-b20a-ef57-a6a4-dd09",
       "previous": "a292cd54-7f8e-11ee-91d3-0242ac120006-4-4fca-796c-d95b-3333"
      }
     ],
     "next": "35c58340-55a3-11e7-b0b2-00163e9c0e35-8-c0ce-9618-7032-b20a-ef57-a6a4-dd09-1f22",
     "previous": "a292cd54-7f8e-11ee-91d3-0242ac120006-5-4fca-796c-d95b-3333-dd62"
    }
   },
   "source": [
    "# 後始末\n",
    "\n",
    "一時ディレクトリを削除する。"
   ]
  },
  {
   "cell_type": "code",
   "execution_count": null,
   "metadata": {
    "ExecuteTime": {
     "end_time": "2017-06-29T08:01:20.617274Z",
     "start_time": "2017-06-29T08:01:20.466671Z"
    },
    "lc_cell_meme": {
     "current": "35c58340-55a3-11e7-b0b2-00163e9c0e35-8-c0ce-9618-7032-b20a-ef57-a6a4-dd09-1f22",
     "history": [
      {
       "current": "35c58340-55a3-11e7-b0b2-00163e9c0e35",
       "next": null,
       "previous": "35c581ba-55a3-11e7-b0b2-00163e9c0e35"
      },
      {
       "current": "35c58340-55a3-11e7-b0b2-00163e9c0e35-1-c0ce",
       "next": "c4bd8ce4-5749-11e7-b0b2-00163e9c0e35",
       "previous": "35c581ba-55a3-11e7-b0b2-00163e9c0e35"
      },
      {
       "current": "35c58340-55a3-11e7-b0b2-00163e9c0e35-2-c0ce-9618",
       "next": "c4bd8ce4-5749-11e7-b0b2-00163e9c0e35-1-6c35",
       "previous": "35c581ba-55a3-11e7-b0b2-00163e9c0e35-1-f60b"
      },
      {
       "current": "35c58340-55a3-11e7-b0b2-00163e9c0e35-3-c0ce-9618-7032",
       "next": "c4bd8ce4-5749-11e7-b0b2-00163e9c0e35-2-6c35-ebfb",
       "previous": "35c581ba-55a3-11e7-b0b2-00163e9c0e35-2-f60b-133a"
      },
      {
       "current": "35c58340-55a3-11e7-b0b2-00163e9c0e35-4-c0ce-9618-7032-b20a",
       "next": "c4bd8ce4-5749-11e7-b0b2-00163e9c0e35-3-6c35-ebfb-793f",
       "previous": "35c581ba-55a3-11e7-b0b2-00163e9c0e35-3-f60b-133a-40ef"
      },
      {
       "current": "35c58340-55a3-11e7-b0b2-00163e9c0e35-5-c0ce-9618-7032-b20a-ef57",
       "next": "c4bd8ce4-5749-11e7-b0b2-00163e9c0e35-4-6c35-ebfb-793f-0ec4",
       "previous": "35c581ba-55a3-11e7-b0b2-00163e9c0e35-4-f60b-133a-40ef-0576"
      },
      {
       "current": "35c58340-55a3-11e7-b0b2-00163e9c0e35-6-c0ce-9618-7032-b20a-ef57-a6a4",
       "next": "c4bd8ce4-5749-11e7-b0b2-00163e9c0e35-5-6c35-ebfb-793f-0ec4-2efd",
       "previous": "35c581ba-55a3-11e7-b0b2-00163e9c0e35-5-f60b-133a-40ef-0576-8d0a"
      },
      {
       "current": "35c58340-55a3-11e7-b0b2-00163e9c0e35-7-c0ce-9618-7032-b20a-ef57-a6a4-dd09",
       "next": "c4bd8ce4-5749-11e7-b0b2-00163e9c0e35-6-6c35-ebfb-793f-0ec4-2efd-dd47",
       "previous": "35c581ba-55a3-11e7-b0b2-00163e9c0e35-6-f60b-133a-40ef-0576-8d0a-6d9b"
      },
      {
       "current": "35c58340-55a3-11e7-b0b2-00163e9c0e35-8-c0ce-9618-7032-b20a-ef57-a6a4-dd09-1f22",
       "next": "c4bd8ce4-5749-11e7-b0b2-00163e9c0e35-7-6c35-ebfb-793f-0ec4-2efd-dd47-b2f7",
       "previous": "35c581ba-55a3-11e7-b0b2-00163e9c0e35-7-f60b-133a-40ef-0576-8d0a-6d9b-9271"
      }
     ],
     "next": "c4bd8ce4-5749-11e7-b0b2-00163e9c0e35-8-6c35-ebfb-793f-0ec4-2efd-dd47-b2f7-ca16",
     "previous": "35c581ba-55a3-11e7-b0b2-00163e9c0e35-8-f60b-133a-40ef-0576-8d0a-6d9b-9271-8aa3"
    }
   },
   "outputs": [],
   "source": [
    "!rm -fr $temp_dir"
   ]
  },
  {
   "cell_type": "code",
   "execution_count": null,
   "metadata": {
    "lc_cell_meme": {
     "current": "c4bd8ce4-5749-11e7-b0b2-00163e9c0e35-8-6c35-ebfb-793f-0ec4-2efd-dd47-b2f7-ca16",
     "history": [
      {
       "current": "c4bd8ce4-5749-11e7-b0b2-00163e9c0e35-1-6c35",
       "next": null,
       "previous": "35c58340-55a3-11e7-b0b2-00163e9c0e35"
      },
      {
       "current": "c4bd8ce4-5749-11e7-b0b2-00163e9c0e35-2-6c35-ebfb",
       "next": null,
       "previous": "35c58340-55a3-11e7-b0b2-00163e9c0e35-1-c0ce"
      },
      {
       "current": "c4bd8ce4-5749-11e7-b0b2-00163e9c0e35-3-6c35-ebfb-793f",
       "next": null,
       "previous": "35c58340-55a3-11e7-b0b2-00163e9c0e35-2-c0ce-9618"
      },
      {
       "current": "c4bd8ce4-5749-11e7-b0b2-00163e9c0e35-4-6c35-ebfb-793f-0ec4",
       "next": null,
       "previous": "35c58340-55a3-11e7-b0b2-00163e9c0e35-3-c0ce-9618-7032"
      },
      {
       "current": "c4bd8ce4-5749-11e7-b0b2-00163e9c0e35-5-6c35-ebfb-793f-0ec4-2efd",
       "next": null,
       "previous": "35c58340-55a3-11e7-b0b2-00163e9c0e35-4-c0ce-9618-7032-b20a"
      },
      {
       "current": "c4bd8ce4-5749-11e7-b0b2-00163e9c0e35-6-6c35-ebfb-793f-0ec4-2efd-dd47",
       "next": null,
       "previous": "35c58340-55a3-11e7-b0b2-00163e9c0e35-5-c0ce-9618-7032-b20a-ef57"
      },
      {
       "current": "c4bd8ce4-5749-11e7-b0b2-00163e9c0e35-7-6c35-ebfb-793f-0ec4-2efd-dd47-b2f7",
       "next": null,
       "previous": "35c58340-55a3-11e7-b0b2-00163e9c0e35-6-c0ce-9618-7032-b20a-ef57-a6a4"
      },
      {
       "current": "c4bd8ce4-5749-11e7-b0b2-00163e9c0e35-8-6c35-ebfb-793f-0ec4-2efd-dd47-b2f7-ca16",
       "next": null,
       "previous": "35c58340-55a3-11e7-b0b2-00163e9c0e35-7-c0ce-9618-7032-b20a-ef57-a6a4-dd09"
      }
     ],
     "next": null,
     "previous": "35c58340-55a3-11e7-b0b2-00163e9c0e35-8-c0ce-9618-7032-b20a-ef57-a6a4-dd09-1f22"
    }
   },
   "outputs": [],
   "source": []
  }
 ],
 "metadata": {
  "kernelspec": {
   "display_name": "Python 3",
   "language": "python",
   "name": "python3"
  },
  "language_info": {
   "file_extension": ".py",
   "mimetype": "text/x-python",
   "name": "python",
   "nbconvert_exporter": "python",
   "pygments_lexer": "ipython3",
   "version": "3.10.4"
  },
  "lc_notebook_meme": {
   "current": "35c33086-55a3-11e7-b0b2-00163e9c0e35"
  },
  "toc": {
   "base_numbering": 1,
   "nav_menu": {
    "height": "484px",
    "width": "687px"
   },
   "number_sections": true,
   "sideBar": true,
   "skip_h1_title": false,
   "title_cell": "Table of Contents",
   "title_sidebar": "Contents",
   "toc_cell": false,
   "toc_position": {
    "height": "1156px",
    "left": "0px",
    "right": "1330px",
    "top": "106px",
    "width": "340.983px"
   },
   "toc_section_display": "block",
   "toc_window_display": true
  }
 },
 "nbformat": 4,
 "nbformat_minor": 1
}
