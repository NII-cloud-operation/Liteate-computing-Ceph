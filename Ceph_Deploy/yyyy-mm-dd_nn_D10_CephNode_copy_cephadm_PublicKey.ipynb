{
 "cells": [
  {
   "cell_type": "markdown",
   "metadata": {
    "collapsed": true,
    "lc_cell_meme": {
     "current": "35c33414-55a3-11e7-b0b2-00163e9c0e35-8-ffee-ac17-9684-1ebc-98da-2213-208b-0106",
     "history": [
      {
       "current": "35c33414-55a3-11e7-b0b2-00163e9c0e35",
       "next": "35c33626-55a3-11e7-b0b2-00163e9c0e35",
       "previous": null
      },
      {
       "current": "35c33414-55a3-11e7-b0b2-00163e9c0e35",
       "next": "35c33626-55a3-11e7-b0b2-00163e9c0e35",
       "previous": null
      },
      {
       "current": "35c33414-55a3-11e7-b0b2-00163e9c0e35",
       "next": "35c33626-55a3-11e7-b0b2-00163e9c0e35",
       "previous": "0db87670-9586-11ea-8d02-0242ac120007"
      },
      {
       "current": "35c33414-55a3-11e7-b0b2-00163e9c0e35-1-ffee",
       "next": "35c337f2-55a3-11e7-b0b2-00163e9c0e35",
       "previous": null
      },
      {
       "current": "35c33414-55a3-11e7-b0b2-00163e9c0e35-2-ffee-ac17",
       "next": "35c337f2-55a3-11e7-b0b2-00163e9c0e35-1-b874",
       "previous": null
      },
      {
       "current": "35c33414-55a3-11e7-b0b2-00163e9c0e35-3-ffee-ac17-9684",
       "next": "35c337f2-55a3-11e7-b0b2-00163e9c0e35-2-b874-13f7",
       "previous": null
      },
      {
       "current": "35c33414-55a3-11e7-b0b2-00163e9c0e35-4-ffee-ac17-9684-1ebc",
       "next": "35c337f2-55a3-11e7-b0b2-00163e9c0e35-3-b874-13f7-3f47",
       "previous": null
      },
      {
       "current": "35c33414-55a3-11e7-b0b2-00163e9c0e35-5-ffee-ac17-9684-1ebc-98da",
       "next": "35c339aa-55a3-11e7-b0b2-00163e9c0e35-4-eee2-af6c-3cfe-23a6",
       "previous": null
      },
      {
       "current": "35c33414-55a3-11e7-b0b2-00163e9c0e35-6-ffee-ac17-9684-1ebc-98da-2213",
       "next": "35c339aa-55a3-11e7-b0b2-00163e9c0e35-5-eee2-af6c-3cfe-23a6-aaf5",
       "previous": null
      },
      {
       "current": "35c33414-55a3-11e7-b0b2-00163e9c0e35-7-ffee-ac17-9684-1ebc-98da-2213-208b",
       "next": "35c339aa-55a3-11e7-b0b2-00163e9c0e35-6-eee2-af6c-3cfe-23a6-aaf5-5e63",
       "previous": null
      },
      {
       "current": "35c33414-55a3-11e7-b0b2-00163e9c0e35-8-ffee-ac17-9684-1ebc-98da-2213-208b-0106",
       "next": "35c339aa-55a3-11e7-b0b2-00163e9c0e35-7-eee2-af6c-3cfe-23a6-aaf5-5e63-86bc",
       "previous": null
      }
     ],
     "next": "35c339aa-55a3-11e7-b0b2-00163e9c0e35-8-eee2-af6c-3cfe-23a6-aaf5-5e63-86bc-8039",
     "previous": null
    }
   },
   "source": [
    "# Cephノード構築：cephadm bootstrap 公開鍵配置\n"
   ]
  },
  {
   "cell_type": "markdown",
   "metadata": {
    "lc_cell_meme": {
     "current": "35c339aa-55a3-11e7-b0b2-00163e9c0e35-8-eee2-af6c-3cfe-23a6-aaf5-5e63-86bc-8039",
     "history": [
      {
       "current": "35c339aa-55a3-11e7-b0b2-00163e9c0e35",
       "next": "35c33b6c-55a3-11e7-b0b2-00163e9c0e35",
       "previous": "35c337f2-55a3-11e7-b0b2-00163e9c0e35"
      },
      {
       "current": "35c339aa-55a3-11e7-b0b2-00163e9c0e35",
       "next": "670888aa-5722-11e7-b0b2-00163e9c0e35",
       "previous": "35c337f2-55a3-11e7-b0b2-00163e9c0e35"
      },
      {
       "current": "35c339aa-55a3-11e7-b0b2-00163e9c0e35",
       "next": "670888aa-5722-11e7-b0b2-00163e9c0e35",
       "previous": "357fc83a-969d-11ea-8d02-0242ac120007"
      },
      {
       "current": "35c339aa-55a3-11e7-b0b2-00163e9c0e35-1-eee2",
       "next": "670888aa-5722-11e7-b0b2-00163e9c0e35",
       "previous": "8a48dae0-98a1-11ea-8d02-0242ac120007"
      },
      {
       "current": "35c339aa-55a3-11e7-b0b2-00163e9c0e35-2-eee2-af6c",
       "next": "670888aa-5722-11e7-b0b2-00163e9c0e35-1-17ba",
       "previous": "8a48dae0-98a1-11ea-8d02-0242ac120007-1-4da2"
      },
      {
       "current": "35c339aa-55a3-11e7-b0b2-00163e9c0e35-2-eee2-af6c",
       "next": "670888aa-5722-11e7-b0b2-00163e9c0e35-2-17ba-53fc",
       "previous": "8a48dae0-98a1-11ea-8d02-0242ac120007-2-4da2-9c77"
      },
      {
       "current": "35c339aa-55a3-11e7-b0b2-00163e9c0e35-3-eee2-af6c-3cfe",
       "next": "670888aa-5722-11e7-b0b2-00163e9c0e35-2-17ba-53fc",
       "previous": "35c337f2-55a3-11e7-b0b2-00163e9c0e35-2-b874-13f7"
      },
      {
       "current": "35c339aa-55a3-11e7-b0b2-00163e9c0e35-4-eee2-af6c-3cfe-23a6",
       "next": "670888aa-5722-11e7-b0b2-00163e9c0e35-3-17ba-53fc-2957",
       "previous": "35c337f2-55a3-11e7-b0b2-00163e9c0e35-3-b874-13f7-3f47"
      },
      {
       "current": "35c339aa-55a3-11e7-b0b2-00163e9c0e35-5-eee2-af6c-3cfe-23a6-aaf5",
       "next": "670888aa-5722-11e7-b0b2-00163e9c0e35-4-17ba-53fc-2957-d200",
       "previous": "35c33414-55a3-11e7-b0b2-00163e9c0e35-4-ffee-ac17-9684-1ebc"
      },
      {
       "current": "35c339aa-55a3-11e7-b0b2-00163e9c0e35-6-eee2-af6c-3cfe-23a6-aaf5-5e63",
       "next": "670888aa-5722-11e7-b0b2-00163e9c0e35-5-17ba-53fc-2957-d200-2400",
       "previous": "35c33414-55a3-11e7-b0b2-00163e9c0e35-5-ffee-ac17-9684-1ebc-98da"
      },
      {
       "current": "35c339aa-55a3-11e7-b0b2-00163e9c0e35-7-eee2-af6c-3cfe-23a6-aaf5-5e63-86bc",
       "next": "670888aa-5722-11e7-b0b2-00163e9c0e35-6-17ba-53fc-2957-d200-2400-cf31",
       "previous": "35c33414-55a3-11e7-b0b2-00163e9c0e35-6-ffee-ac17-9684-1ebc-98da-2213"
      },
      {
       "current": "35c339aa-55a3-11e7-b0b2-00163e9c0e35-8-eee2-af6c-3cfe-23a6-aaf5-5e63-86bc-8039",
       "next": "670888aa-5722-11e7-b0b2-00163e9c0e35-7-17ba-53fc-2957-d200-2400-cf31-5a1a",
       "previous": "35c33414-55a3-11e7-b0b2-00163e9c0e35-7-ffee-ac17-9684-1ebc-98da-2213-208b"
      }
     ],
     "next": "670888aa-5722-11e7-b0b2-00163e9c0e35-8-17ba-53fc-2957-d200-2400-cf31-5a1a-279f",
     "previous": "35c33414-55a3-11e7-b0b2-00163e9c0e35-8-ffee-ac17-9684-1ebc-98da-2213-208b-0106"
    }
   },
   "source": [
    "# パラメータ定義"
   ]
  },
  {
   "cell_type": "markdown",
   "metadata": {
    "lc_cell_meme": {
     "current": "670888aa-5722-11e7-b0b2-00163e9c0e35-8-17ba-53fc-2957-d200-2400-cf31-5a1a-279f",
     "history": [
      {
       "current": "670888aa-5722-11e7-b0b2-00163e9c0e35-1-17ba",
       "next": "35c33b6c-55a3-11e7-b0b2-00163e9c0e35",
       "previous": "35c339aa-55a3-11e7-b0b2-00163e9c0e35"
      },
      {
       "current": "670888aa-5722-11e7-b0b2-00163e9c0e35-2-17ba-53fc",
       "next": "35c33b6c-55a3-11e7-b0b2-00163e9c0e35-1-c84d",
       "previous": "35c339aa-55a3-11e7-b0b2-00163e9c0e35-1-eee2"
      },
      {
       "current": "670888aa-5722-11e7-b0b2-00163e9c0e35-3-17ba-53fc-2957",
       "next": "35c33b6c-55a3-11e7-b0b2-00163e9c0e35-2-c84d-3439",
       "previous": "35c339aa-55a3-11e7-b0b2-00163e9c0e35-2-eee2-af6c"
      },
      {
       "current": "670888aa-5722-11e7-b0b2-00163e9c0e35-4-17ba-53fc-2957-d200",
       "next": "35c33b6c-55a3-11e7-b0b2-00163e9c0e35-3-c84d-3439-eddb",
       "previous": "35c339aa-55a3-11e7-b0b2-00163e9c0e35-3-eee2-af6c-3cfe"
      },
      {
       "current": "670888aa-5722-11e7-b0b2-00163e9c0e35-5-17ba-53fc-2957-d200-2400",
       "next": "35c33b6c-55a3-11e7-b0b2-00163e9c0e35-4-c84d-3439-eddb-7a05",
       "previous": "35c339aa-55a3-11e7-b0b2-00163e9c0e35-4-eee2-af6c-3cfe-23a6"
      },
      {
       "current": "670888aa-5722-11e7-b0b2-00163e9c0e35-6-17ba-53fc-2957-d200-2400-cf31",
       "next": "35c33b6c-55a3-11e7-b0b2-00163e9c0e35-5-c84d-3439-eddb-7a05-807b",
       "previous": "35c339aa-55a3-11e7-b0b2-00163e9c0e35-5-eee2-af6c-3cfe-23a6-aaf5"
      },
      {
       "current": "670888aa-5722-11e7-b0b2-00163e9c0e35-7-17ba-53fc-2957-d200-2400-cf31-5a1a",
       "next": "35c33b6c-55a3-11e7-b0b2-00163e9c0e35-6-c84d-3439-eddb-7a05-807b-8538",
       "previous": "35c339aa-55a3-11e7-b0b2-00163e9c0e35-6-eee2-af6c-3cfe-23a6-aaf5-5e63"
      },
      {
       "current": "670888aa-5722-11e7-b0b2-00163e9c0e35-8-17ba-53fc-2957-d200-2400-cf31-5a1a-279f",
       "next": "35c33b6c-55a3-11e7-b0b2-00163e9c0e35-7-c84d-3439-eddb-7a05-807b-8538-2c5a",
       "previous": "35c339aa-55a3-11e7-b0b2-00163e9c0e35-7-eee2-af6c-3cfe-23a6-aaf5-5e63-86bc"
      }
     ],
     "next": "35c33b6c-55a3-11e7-b0b2-00163e9c0e35-8-c84d-3439-eddb-7a05-807b-8538-2c5a-a865",
     "previous": "35c339aa-55a3-11e7-b0b2-00163e9c0e35-8-eee2-af6c-3cfe-23a6-aaf5-5e63-86bc-8039"
    }
   },
   "source": [
    "## パラメータファイル設定"
   ]
  },
  {
   "cell_type": "markdown",
   "metadata": {
    "lc_cell_meme": {
     "current": "35c33b6c-55a3-11e7-b0b2-00163e9c0e35-8-c84d-3439-eddb-7a05-807b-8538-2c5a-a865",
     "history": [
      {
       "current": "35c33b6c-55a3-11e7-b0b2-00163e9c0e35",
       "next": "35c33d24-55a3-11e7-b0b2-00163e9c0e35",
       "previous": "35c339aa-55a3-11e7-b0b2-00163e9c0e35"
      },
      {
       "current": "35c33b6c-55a3-11e7-b0b2-00163e9c0e35-1-c84d",
       "next": "35c33d24-55a3-11e7-b0b2-00163e9c0e35",
       "previous": "670888aa-5722-11e7-b0b2-00163e9c0e35"
      },
      {
       "current": "35c33b6c-55a3-11e7-b0b2-00163e9c0e35-2-c84d-3439",
       "next": "35c33d24-55a3-11e7-b0b2-00163e9c0e35-1-c8d8",
       "previous": "670888aa-5722-11e7-b0b2-00163e9c0e35-1-17ba"
      },
      {
       "current": "35c33b6c-55a3-11e7-b0b2-00163e9c0e35-3-c84d-3439-eddb",
       "next": "35c33d24-55a3-11e7-b0b2-00163e9c0e35-2-c8d8-c063",
       "previous": "670888aa-5722-11e7-b0b2-00163e9c0e35-2-17ba-53fc"
      },
      {
       "current": "35c33b6c-55a3-11e7-b0b2-00163e9c0e35-4-c84d-3439-eddb-7a05",
       "next": "35c33d24-55a3-11e7-b0b2-00163e9c0e35-3-c8d8-c063-e3d4",
       "previous": "670888aa-5722-11e7-b0b2-00163e9c0e35-3-17ba-53fc-2957"
      },
      {
       "current": "35c33b6c-55a3-11e7-b0b2-00163e9c0e35-5-c84d-3439-eddb-7a05-807b",
       "next": "35c33d24-55a3-11e7-b0b2-00163e9c0e35-4-c8d8-c063-e3d4-038b",
       "previous": "670888aa-5722-11e7-b0b2-00163e9c0e35-4-17ba-53fc-2957-d200"
      },
      {
       "current": "35c33b6c-55a3-11e7-b0b2-00163e9c0e35-6-c84d-3439-eddb-7a05-807b-8538",
       "next": "35c33d24-55a3-11e7-b0b2-00163e9c0e35-5-c8d8-c063-e3d4-038b-a51d",
       "previous": "670888aa-5722-11e7-b0b2-00163e9c0e35-5-17ba-53fc-2957-d200-2400"
      },
      {
       "current": "35c33b6c-55a3-11e7-b0b2-00163e9c0e35-7-c84d-3439-eddb-7a05-807b-8538-2c5a",
       "next": "09300b64-1cd6-11ef-ad2f-0242ac120005",
       "previous": "670888aa-5722-11e7-b0b2-00163e9c0e35-6-17ba-53fc-2957-d200-2400-cf31"
      },
      {
       "current": "35c33b6c-55a3-11e7-b0b2-00163e9c0e35-8-c84d-3439-eddb-7a05-807b-8538-2c5a-a865",
       "next": "09300b64-1cd6-11ef-ad2f-0242ac120005-1-1346",
       "previous": "670888aa-5722-11e7-b0b2-00163e9c0e35-7-17ba-53fc-2957-d200-2400-cf31-5a1a"
      }
     ],
     "next": "09300b64-1cd6-11ef-ad2f-0242ac120005-2-1346-deaa",
     "previous": "670888aa-5722-11e7-b0b2-00163e9c0e35-8-17ba-53fc-2957-d200-2400-cf31-5a1a-279f"
    }
   },
   "source": [
    "Cephクラスタの定義ファイルを指定するため、<br>\n",
    "パラメータ定義格納ディレクトリを表示する。"
   ]
  },
  {
   "cell_type": "code",
   "execution_count": null,
   "metadata": {
    "lc_cell_meme": {
     "current": "09300b64-1cd6-11ef-ad2f-0242ac120005-2-1346-deaa",
     "history": [
      {
       "current": "09300b64-1cd6-11ef-ad2f-0242ac120005-1-1346",
       "next": "09300c72-1cd6-11ef-ad2f-0242ac120005",
       "previous": "35c33b6c-55a3-11e7-b0b2-00163e9c0e35-6-c84d-3439-eddb-7a05-807b-8538"
      },
      {
       "current": "09300b64-1cd6-11ef-ad2f-0242ac120005-2-1346-deaa",
       "next": "09300c72-1cd6-11ef-ad2f-0242ac120005-1-a457",
       "previous": "35c33b6c-55a3-11e7-b0b2-00163e9c0e35-7-c84d-3439-eddb-7a05-807b-8538-2c5a"
      }
     ],
     "next": "09300c72-1cd6-11ef-ad2f-0242ac120005-2-a457-42d7",
     "previous": "35c33b6c-55a3-11e7-b0b2-00163e9c0e35-8-c84d-3439-eddb-7a05-807b-8538-2c5a-a865"
    }
   },
   "outputs": [],
   "source": [
    "!ls -p ~/notebooks/share/ | grep \"/$\""
   ]
  },
  {
   "cell_type": "code",
   "execution_count": null,
   "metadata": {
    "lc_cell_meme": {
     "current": "09300c72-1cd6-11ef-ad2f-0242ac120005-2-a457-42d7",
     "history": [
      {
       "current": "09300c72-1cd6-11ef-ad2f-0242ac120005-1-a457",
       "next": "09300cae-1cd6-11ef-ad2f-0242ac120005",
       "previous": "09300b64-1cd6-11ef-ad2f-0242ac120005"
      },
      {
       "current": "09300c72-1cd6-11ef-ad2f-0242ac120005-2-a457-42d7",
       "next": "09300cae-1cd6-11ef-ad2f-0242ac120005-1-b604",
       "previous": "09300b64-1cd6-11ef-ad2f-0242ac120005-1-1346"
      }
     ],
     "next": "09300cae-1cd6-11ef-ad2f-0242ac120005-2-b604-0451",
     "previous": "09300b64-1cd6-11ef-ad2f-0242ac120005-2-1346-deaa"
    }
   },
   "outputs": [],
   "source": [
    "!ls -p ~/notebooks/share/configuration"
   ]
  },
  {
   "cell_type": "code",
   "execution_count": null,
   "metadata": {
    "lc_cell_meme": {
     "current": "09300cae-1cd6-11ef-ad2f-0242ac120005-2-b604-0451",
     "history": [
      {
       "current": "09300cae-1cd6-11ef-ad2f-0242ac120005-1-b604",
       "next": "09300cd6-1cd6-11ef-ad2f-0242ac120005",
       "previous": "09300c72-1cd6-11ef-ad2f-0242ac120005"
      },
      {
       "current": "09300cae-1cd6-11ef-ad2f-0242ac120005-2-b604-0451",
       "next": "09300cd6-1cd6-11ef-ad2f-0242ac120005-1-3152",
       "previous": "09300c72-1cd6-11ef-ad2f-0242ac120005-1-a457"
      }
     ],
     "next": "09300cd6-1cd6-11ef-ad2f-0242ac120005-2-3152-5b33",
     "previous": "09300c72-1cd6-11ef-ad2f-0242ac120005-2-a457-42d7"
    }
   },
   "outputs": [],
   "source": [
    "!ls -p ~/notebooks/share/configuration/ceph"
   ]
  },
  {
   "cell_type": "code",
   "execution_count": null,
   "metadata": {
    "lc_cell_meme": {
     "current": "09300cd6-1cd6-11ef-ad2f-0242ac120005-2-3152-5b33",
     "history": [
      {
       "current": "09300cd6-1cd6-11ef-ad2f-0242ac120005-1-3152",
       "next": "09300cfe-1cd6-11ef-ad2f-0242ac120005",
       "previous": "09300cae-1cd6-11ef-ad2f-0242ac120005"
      },
      {
       "current": "09300cd6-1cd6-11ef-ad2f-0242ac120005-2-3152-5b33",
       "next": "09300cfe-1cd6-11ef-ad2f-0242ac120005-1-bf49",
       "previous": "09300cae-1cd6-11ef-ad2f-0242ac120005-1-b604"
      }
     ],
     "next": "09300cfe-1cd6-11ef-ad2f-0242ac120005-2-bf49-b1c0",
     "previous": "09300cae-1cd6-11ef-ad2f-0242ac120005-2-b604-0451"
    }
   },
   "outputs": [],
   "source": [
    "import sys, os.path, importlib, json, yaml\n",
    "\n",
    "config_file_name = \"ceph_admin_vm.yml\"\n",
    "config_file_path = os.path.expanduser(\"~/notebooks/share/configuration/ceph/{}\".format(config_file_name))\n",
    "with open(config_file_path) as f:\n",
    "    admin_params = yaml.safe_load(f)\n",
    "admin_params"
   ]
  },
  {
   "cell_type": "code",
   "execution_count": null,
   "metadata": {
    "lc_cell_meme": {
     "current": "09300cfe-1cd6-11ef-ad2f-0242ac120005-2-bf49-b1c0",
     "history": [
      {
       "current": "09300cfe-1cd6-11ef-ad2f-0242ac120005-1-bf49",
       "next": "09300d1c-1cd6-11ef-ad2f-0242ac120005",
       "previous": "09300cd6-1cd6-11ef-ad2f-0242ac120005"
      },
      {
       "current": "09300cfe-1cd6-11ef-ad2f-0242ac120005-2-bf49-b1c0",
       "next": "09300d1c-1cd6-11ef-ad2f-0242ac120005-1-b7cb",
       "previous": "09300cd6-1cd6-11ef-ad2f-0242ac120005-1-3152"
      }
     ],
     "next": "09300d1c-1cd6-11ef-ad2f-0242ac120005-2-b7cb-8d67",
     "previous": "09300cd6-1cd6-11ef-ad2f-0242ac120005-2-3152-5b33"
    }
   },
   "outputs": [],
   "source": [
    "target_vm_name = 'xxx-ceph-admin1'\n",
    "admin_patam = admin_params[target_vm_name]\n",
    "admin_patam"
   ]
  },
  {
   "cell_type": "code",
   "execution_count": null,
   "metadata": {
    "lc_cell_meme": {
     "current": "09300d1c-1cd6-11ef-ad2f-0242ac120005-2-b7cb-8d67",
     "history": [
      {
       "current": "09300d1c-1cd6-11ef-ad2f-0242ac120005-1-b7cb",
       "next": "09300d44-1cd6-11ef-ad2f-0242ac120005",
       "previous": "09300cfe-1cd6-11ef-ad2f-0242ac120005"
      },
      {
       "current": "09300d1c-1cd6-11ef-ad2f-0242ac120005-2-b7cb-8d67",
       "next": "09300d44-1cd6-11ef-ad2f-0242ac120005-1-2c0a",
       "previous": "09300cfe-1cd6-11ef-ad2f-0242ac120005-1-bf49"
      }
     ],
     "next": "09300d44-1cd6-11ef-ad2f-0242ac120005-2-2c0a-c853",
     "previous": "09300cfe-1cd6-11ef-ad2f-0242ac120005-2-bf49-b1c0"
    }
   },
   "outputs": [],
   "source": [
    "ceph_admin_ip = admin_patam['network']['provisioning']['ip']"
   ]
  },
  {
   "cell_type": "code",
   "execution_count": null,
   "metadata": {
    "lc_cell_meme": {
     "current": "09300d44-1cd6-11ef-ad2f-0242ac120005-2-2c0a-c853",
     "history": [
      {
       "current": "09300d44-1cd6-11ef-ad2f-0242ac120005-1-2c0a",
       "next": "09300d6c-1cd6-11ef-ad2f-0242ac120005",
       "previous": "09300d1c-1cd6-11ef-ad2f-0242ac120005"
      },
      {
       "current": "09300d44-1cd6-11ef-ad2f-0242ac120005-2-2c0a-c853",
       "next": "09300d6c-1cd6-11ef-ad2f-0242ac120005-1-454c",
       "previous": "09300d1c-1cd6-11ef-ad2f-0242ac120005-1-b7cb"
      }
     ],
     "next": "09300d6c-1cd6-11ef-ad2f-0242ac120005-2-454c-9e6d",
     "previous": "09300d1c-1cd6-11ef-ad2f-0242ac120005-2-b7cb-8d67"
    }
   },
   "outputs": [],
   "source": [
    "import sys, os.path, importlib, json, yaml\n",
    "\n",
    "config_file_name = \"xxx-openstack-parameter.yml\"\n",
    "config_file_path = os.path.expanduser(\"~/notebooks/share/configuration/{}\".format(config_file_name))\n",
    "with open(config_file_path) as f:\n",
    "    params = yaml.safe_load(f)\n",
    "params"
   ]
  },
  {
   "cell_type": "code",
   "execution_count": null,
   "metadata": {
    "lc_cell_meme": {
     "current": "09300d6c-1cd6-11ef-ad2f-0242ac120005-2-454c-9e6d",
     "history": [
      {
       "current": "09300d6c-1cd6-11ef-ad2f-0242ac120005-1-454c",
       "next": "09300d8a-1cd6-11ef-ad2f-0242ac120005",
       "previous": "09300d44-1cd6-11ef-ad2f-0242ac120005"
      },
      {
       "current": "09300d6c-1cd6-11ef-ad2f-0242ac120005-2-454c-9e6d",
       "next": "09300d8a-1cd6-11ef-ad2f-0242ac120005-1-8465",
       "previous": "09300d44-1cd6-11ef-ad2f-0242ac120005-1-2c0a"
      }
     ],
     "next": "09300d8a-1cd6-11ef-ad2f-0242ac120005-2-8465-5e91",
     "previous": "09300d44-1cd6-11ef-ad2f-0242ac120005-2-2c0a-c853"
    }
   },
   "outputs": [],
   "source": [
    "repo_server = params['repository']['addresses']['service_operation']\n",
    "repo_server"
   ]
  },
  {
   "cell_type": "code",
   "execution_count": null,
   "metadata": {
    "lc_cell_meme": {
     "current": "09300d8a-1cd6-11ef-ad2f-0242ac120005-2-8465-5e91",
     "history": [
      {
       "current": "09300d8a-1cd6-11ef-ad2f-0242ac120005-1-8465",
       "next": "09300db2-1cd6-11ef-ad2f-0242ac120005",
       "previous": "09300d6c-1cd6-11ef-ad2f-0242ac120005"
      },
      {
       "current": "09300d8a-1cd6-11ef-ad2f-0242ac120005-2-8465-5e91",
       "next": "09300db2-1cd6-11ef-ad2f-0242ac120005-1-4e38",
       "previous": "09300d6c-1cd6-11ef-ad2f-0242ac120005-1-454c"
      }
     ],
     "next": "09300db2-1cd6-11ef-ad2f-0242ac120005-2-4e38-7e1e",
     "previous": "09300d6c-1cd6-11ef-ad2f-0242ac120005-2-454c-9e6d"
    }
   },
   "outputs": [],
   "source": [
    "provisioning_vip = params['openstack']['provisioning_vip']\n",
    "provisioning_vip"
   ]
  },
  {
   "cell_type": "code",
   "execution_count": null,
   "metadata": {
    "lc_cell_meme": {
     "current": "09300db2-1cd6-11ef-ad2f-0242ac120005-2-4e38-7e1e",
     "history": [
      {
       "current": "09300db2-1cd6-11ef-ad2f-0242ac120005",
       "next": "09300dda-1cd6-11ef-ad2f-0242ac120005",
       "previous": "09300d8a-1cd6-11ef-ad2f-0242ac120005"
      },
      {
       "current": "09300db2-1cd6-11ef-ad2f-0242ac120005-1-4e38",
       "next": "bf249b06-98af-11ea-8d02-0242ac120007-6-1e49-e772-9042-d451-8bd7-1c29",
       "previous": "09300d8a-1cd6-11ef-ad2f-0242ac120005"
      },
      {
       "current": "09300db2-1cd6-11ef-ad2f-0242ac120005-2-4e38-7e1e",
       "next": "bf249b06-98af-11ea-8d02-0242ac120007-7-1e49-e772-9042-d451-8bd7-1c29-cebc",
       "previous": "09300d8a-1cd6-11ef-ad2f-0242ac120005-1-8465"
      }
     ],
     "next": "bf249b06-98af-11ea-8d02-0242ac120007-8-1e49-e772-9042-d451-8bd7-1c29-cebc-368e",
     "previous": "09300d8a-1cd6-11ef-ad2f-0242ac120005-2-8465-5e91"
    }
   },
   "outputs": [],
   "source": [
    "network_segment_controller_vip = params['network_segment_controller_vip']\n",
    "network_segment_controller_vip"
   ]
  },
  {
   "cell_type": "markdown",
   "metadata": {
    "lc_cell_meme": {
     "current": "bf249b06-98af-11ea-8d02-0242ac120007-8-1e49-e772-9042-d451-8bd7-1c29-cebc-368e",
     "history": [
      {
       "current": "bf249b06-98af-11ea-8d02-0242ac120007",
       "next": "d1bcb8ac-9599-11ea-8d02-0242ac120007",
       "previous": "7dae8996-9686-11ea-8d02-0242ac120007"
      },
      {
       "current": "bf249b06-98af-11ea-8d02-0242ac120007-1-1e49",
       "next": "dd8e3cbc-98f2-11ea-8d02-0242ac120007",
       "previous": "7dae8996-9686-11ea-8d02-0242ac120007"
      },
      {
       "current": "bf249b06-98af-11ea-8d02-0242ac120007-2-1e49-e772",
       "next": "dd8e3cbc-98f2-11ea-8d02-0242ac120007-1-706a",
       "previous": "7dae8996-9686-11ea-8d02-0242ac120007-1-20c5"
      },
      {
       "current": "bf249b06-98af-11ea-8d02-0242ac120007-2-1e49-e772",
       "next": "dd8e3cbc-98f2-11ea-8d02-0242ac120007-2-706a-309d",
       "previous": "7dae8996-9686-11ea-8d02-0242ac120007-2-20c5-a0b0"
      },
      {
       "current": "bf249b06-98af-11ea-8d02-0242ac120007-2-1e49-e772",
       "next": "dd8e3cbc-98f2-11ea-8d02-0242ac120007-2-706a-309d",
       "previous": "1afe76e2-def8-11eb-b29f-0242ac120008"
      },
      {
       "current": "bf249b06-98af-11ea-8d02-0242ac120007-2-1e49-e772",
       "next": "d1bcb8ac-9599-11ea-8d02-0242ac120007-2-ec95-2870",
       "previous": "1afe76e2-def8-11eb-b29f-0242ac120008"
      },
      {
       "current": "bf249b06-98af-11ea-8d02-0242ac120007-2-1e49-e772",
       "next": "d1bcb8ac-9599-11ea-8d02-0242ac120007-2-ec95-2870",
       "previous": "445f36bc-def7-11eb-b29f-0242ac120008"
      },
      {
       "current": "bf249b06-98af-11ea-8d02-0242ac120007-3-1e49-e772-9042",
       "next": "d1bcb8ac-9599-11ea-8d02-0242ac120007-2-ec95-2870",
       "previous": "17dd310e-deff-11eb-b29f-0242ac120008"
      },
      {
       "current": "bf249b06-98af-11ea-8d02-0242ac120007-4-1e49-e772-9042-d451",
       "next": "d1bcb8ac-9599-11ea-8d02-0242ac120007-3-ec95-2870-3f6b",
       "previous": "17dd310e-deff-11eb-b29f-0242ac120008-1-9f34"
      },
      {
       "current": "bf249b06-98af-11ea-8d02-0242ac120007-5-1e49-e772-9042-d451-8bd7",
       "next": "d1bcb8ac-9599-11ea-8d02-0242ac120007-4-ec95-2870-3f6b-cce9",
       "previous": "17dd310e-deff-11eb-b29f-0242ac120008-2-9f34-593c"
      },
      {
       "current": "bf249b06-98af-11ea-8d02-0242ac120007-6-1e49-e772-9042-d451-8bd7-1c29",
       "next": "d1bcb8ac-9599-11ea-8d02-0242ac120007-5-ec95-2870-3f6b-cce9-c296",
       "previous": "17dd310e-deff-11eb-b29f-0242ac120008-3-9f34-593c-05cf"
      },
      {
       "current": "bf249b06-98af-11ea-8d02-0242ac120007-6-1e49-e772-9042-d451-8bd7-1c29",
       "next": "d1bcb8ac-9599-11ea-8d02-0242ac120007-6-ec95-2870-3f6b-cce9-c296-41b2",
       "previous": "17dd310e-deff-11eb-b29f-0242ac120008-4-9f34-593c-05cf-7550"
      },
      {
       "current": "bf249b06-98af-11ea-8d02-0242ac120007-7-1e49-e772-9042-d451-8bd7-1c29-cebc",
       "next": "d1bcb8ac-9599-11ea-8d02-0242ac120007-6-ec95-2870-3f6b-cce9-c296-41b2",
       "previous": "09300db2-1cd6-11ef-ad2f-0242ac120005"
      },
      {
       "current": "bf249b06-98af-11ea-8d02-0242ac120007-8-1e49-e772-9042-d451-8bd7-1c29-cebc-368e",
       "next": "d1bcb8ac-9599-11ea-8d02-0242ac120007-7-ec95-2870-3f6b-cce9-c296-41b2-40c1",
       "previous": "09300db2-1cd6-11ef-ad2f-0242ac120005-1-4e38"
      }
     ],
     "next": "d1bcb8ac-9599-11ea-8d02-0242ac120007-8-ec95-2870-3f6b-cce9-c296-41b2-40c1-d18b",
     "previous": "09300db2-1cd6-11ef-ad2f-0242ac120005-2-4e38-7e1e"
    }
   },
   "source": [
    "## CephノードとストレージセグメントIPアドレス対応表の読み込み"
   ]
  },
  {
   "cell_type": "code",
   "execution_count": null,
   "metadata": {
    "lc_cell_meme": {
     "current": "d1bcb8ac-9599-11ea-8d02-0242ac120007-8-ec95-2870-3f6b-cce9-c296-41b2-40c1-d18b",
     "history": [
      {
       "current": "d1bcb8ac-9599-11ea-8d02-0242ac120007",
       "next": "d1bcba78-9599-11ea-8d02-0242ac120007",
       "previous": "d1bcb5c8-9599-11ea-8d02-0242ac120007"
      },
      {
       "current": "d1bcb8ac-9599-11ea-8d02-0242ac120007",
       "next": "d1bcba78-9599-11ea-8d02-0242ac120007",
       "previous": "a85c1dda-959a-11ea-8d02-0242ac120007"
      },
      {
       "current": "d1bcb8ac-9599-11ea-8d02-0242ac120007",
       "next": "81dd4f74-9597-11ea-8d02-0242ac120007",
       "previous": "a85c1dda-959a-11ea-8d02-0242ac120007"
      },
      {
       "current": "d1bcb8ac-9599-11ea-8d02-0242ac120007",
       "next": "e879cdac-95bf-11ea-8d02-0242ac120007",
       "previous": "a85c1dda-959a-11ea-8d02-0242ac120007"
      },
      {
       "current": "d1bcb8ac-9599-11ea-8d02-0242ac120007",
       "next": "7899411a-9692-11ea-8d02-0242ac120007",
       "previous": "bf249b06-98af-11ea-8d02-0242ac120007"
      },
      {
       "current": "d1bcb8ac-9599-11ea-8d02-0242ac120007",
       "next": "06afe9a8-98b0-11ea-8d02-0242ac120007",
       "previous": "bf249b06-98af-11ea-8d02-0242ac120007"
      },
      {
       "current": "d1bcb8ac-9599-11ea-8d02-0242ac120007",
       "next": "06afe9a8-98b0-11ea-8d02-0242ac120007",
       "previous": "dd8e3cbc-98f2-11ea-8d02-0242ac120007"
      },
      {
       "current": "d1bcb8ac-9599-11ea-8d02-0242ac120007-1-ec95",
       "next": "250e7a70-98f3-11ea-8d02-0242ac120007",
       "previous": "dd8e3cbc-98f2-11ea-8d02-0242ac120007"
      },
      {
       "current": "d1bcb8ac-9599-11ea-8d02-0242ac120007-2-ec95-2870",
       "next": "250e7a70-98f3-11ea-8d02-0242ac120007-1-f0b4",
       "previous": "dd8e3cbc-98f2-11ea-8d02-0242ac120007-1-706a"
      },
      {
       "current": "d1bcb8ac-9599-11ea-8d02-0242ac120007-2-ec95-2870",
       "next": "250e7a70-98f3-11ea-8d02-0242ac120007-2-f0b4-6edf",
       "previous": "dd8e3cbc-98f2-11ea-8d02-0242ac120007-2-706a-309d"
      },
      {
       "current": "d1bcb8ac-9599-11ea-8d02-0242ac120007-3-ec95-2870-3f6b",
       "next": "250e7a70-98f3-11ea-8d02-0242ac120007-2-f0b4-6edf",
       "previous": "bf249b06-98af-11ea-8d02-0242ac120007-2-1e49-e772"
      },
      {
       "current": "d1bcb8ac-9599-11ea-8d02-0242ac120007-3-ec95-2870-3f6b",
       "next": "250e7a70-98f3-11ea-8d02-0242ac120007-3-f0b4-6edf-9d40",
       "previous": "bf249b06-98af-11ea-8d02-0242ac120007-3-1e49-e772-9042"
      },
      {
       "current": "d1bcb8ac-9599-11ea-8d02-0242ac120007-4-ec95-2870-3f6b-cce9",
       "next": "8a6e62b8-6f14-11ee-89fa-0242ac120005",
       "previous": "bf249b06-98af-11ea-8d02-0242ac120007-3-1e49-e772-9042"
      },
      {
       "current": "d1bcb8ac-9599-11ea-8d02-0242ac120007-5-ec95-2870-3f6b-cce9-c296",
       "next": "8a6e62b8-6f14-11ee-89fa-0242ac120005-1-fe3d",
       "previous": "bf249b06-98af-11ea-8d02-0242ac120007-4-1e49-e772-9042-d451"
      },
      {
       "current": "d1bcb8ac-9599-11ea-8d02-0242ac120007-6-ec95-2870-3f6b-cce9-c296-41b2",
       "next": "8a6e62b8-6f14-11ee-89fa-0242ac120005-2-fe3d-1af5",
       "previous": "bf249b06-98af-11ea-8d02-0242ac120007-5-1e49-e772-9042-d451-8bd7"
      },
      {
       "current": "d1bcb8ac-9599-11ea-8d02-0242ac120007-6-ec95-2870-3f6b-cce9-c296-41b2",
       "next": "8a6e62b8-6f14-11ee-89fa-0242ac120005-3-fe3d-1af5-f765",
       "previous": "bf249b06-98af-11ea-8d02-0242ac120007-6-1e49-e772-9042-d451-8bd7-1c29"
      },
      {
       "current": "d1bcb8ac-9599-11ea-8d02-0242ac120007-7-ec95-2870-3f6b-cce9-c296-41b2-40c1",
       "next": "8a6e6452-6f14-11ee-89fa-0242ac120005-3-e630-1474-29cf",
       "previous": "bf249b06-98af-11ea-8d02-0242ac120007-6-1e49-e772-9042-d451-8bd7-1c29"
      },
      {
       "current": "d1bcb8ac-9599-11ea-8d02-0242ac120007-8-ec95-2870-3f6b-cce9-c296-41b2-40c1-d18b",
       "next": "8a6e6452-6f14-11ee-89fa-0242ac120005-4-e630-1474-29cf-7360",
       "previous": "bf249b06-98af-11ea-8d02-0242ac120007-7-1e49-e772-9042-d451-8bd7-1c29-cebc"
      }
     ],
     "next": "8a6e6452-6f14-11ee-89fa-0242ac120005-5-e630-1474-29cf-7360-d446",
     "previous": "bf249b06-98af-11ea-8d02-0242ac120007-8-1e49-e772-9042-d451-8bd7-1c29-cebc-368e"
    },
    "scrolled": true
   },
   "outputs": [],
   "source": [
    "import os\n",
    "import csv\n",
    "import pandas as pd\n",
    "\n",
    "instance_ip_csv_path =  os.environ['HOME'] + \"/notebooks/share/configuration/ceph/ceph_instance_ip.csv\"\n",
    "instance_ip_list = []\n",
    "instance_ip_map = {}\n",
    "\n",
    "with open(instance_ip_csv_path, 'r') as path_csv:\n",
    "    reader = csv.DictReader(path_csv)\n",
    "    \n",
    "    for record in reader:\n",
    "        instance_ip_list.append(record)\n",
    "        instance_ip_map[record['instance_name']] = record\n",
    "\n",
    "pd.DataFrame(instance_ip_list)"
   ]
  },
  {
   "cell_type": "markdown",
   "metadata": {
    "lc_cell_meme": {
     "current": "8a6e6452-6f14-11ee-89fa-0242ac120005-5-e630-1474-29cf-7360-d446",
     "history": [
      {
       "current": "8a6e6452-6f14-11ee-89fa-0242ac120005-1-e630",
       "next": "8a6e65e2-6f14-11ee-89fa-0242ac120005",
       "previous": "250e7a70-98f3-11ea-8d02-0242ac120007-3-f0b4-6edf-9d40"
      },
      {
       "current": "8a6e6452-6f14-11ee-89fa-0242ac120005-2-e630-1474",
       "next": "8a6e65e2-6f14-11ee-89fa-0242ac120005-1-a4f8",
       "previous": "250e7a70-98f3-11ea-8d02-0242ac120007-4-f0b4-6edf-9d40-8eb5"
      },
      {
       "current": "8a6e6452-6f14-11ee-89fa-0242ac120005-3-e630-1474-29cf",
       "next": "8a6e65e2-6f14-11ee-89fa-0242ac120005-2-a4f8-00a7",
       "previous": "250e7a70-98f3-11ea-8d02-0242ac120007-5-f0b4-6edf-9d40-8eb5-2e20"
      },
      {
       "current": "8a6e6452-6f14-11ee-89fa-0242ac120005-3-e630-1474-29cf",
       "next": "8a6e65e2-6f14-11ee-89fa-0242ac120005-3-a4f8-00a7-a6ce",
       "previous": "250e7a70-98f3-11ea-8d02-0242ac120007-6-f0b4-6edf-9d40-8eb5-2e20-fb1e"
      },
      {
       "current": "8a6e6452-6f14-11ee-89fa-0242ac120005-4-e630-1474-29cf-7360",
       "next": "8a6e65e2-6f14-11ee-89fa-0242ac120005-3-a4f8-00a7-a6ce",
       "previous": "d1bcb8ac-9599-11ea-8d02-0242ac120007-6-ec95-2870-3f6b-cce9-c296-41b2"
      },
      {
       "current": "8a6e6452-6f14-11ee-89fa-0242ac120005-5-e630-1474-29cf-7360-d446",
       "next": "8a6e65e2-6f14-11ee-89fa-0242ac120005-4-a4f8-00a7-a6ce-206f",
       "previous": "d1bcb8ac-9599-11ea-8d02-0242ac120007-7-ec95-2870-3f6b-cce9-c296-41b2-40c1"
      }
     ],
     "next": "8a6e65e2-6f14-11ee-89fa-0242ac120005-5-a4f8-00a7-a6ce-206f-da81",
     "previous": "d1bcb8ac-9599-11ea-8d02-0242ac120007-8-ec95-2870-3f6b-cce9-c296-41b2-40c1-d18b"
    }
   },
   "source": [
    "## 作業用ディレクトリを作成する"
   ]
  },
  {
   "cell_type": "code",
   "execution_count": null,
   "metadata": {
    "lc_cell_meme": {
     "current": "8a6e65e2-6f14-11ee-89fa-0242ac120005-5-a4f8-00a7-a6ce-206f-da81",
     "history": [
      {
       "current": "8a6e65e2-6f14-11ee-89fa-0242ac120005-1-a4f8",
       "next": "8a6e6664-6f14-11ee-89fa-0242ac120005",
       "previous": "8a6e6452-6f14-11ee-89fa-0242ac120005"
      },
      {
       "current": "8a6e65e2-6f14-11ee-89fa-0242ac120005-2-a4f8-00a7",
       "next": "8a6e6664-6f14-11ee-89fa-0242ac120005-1-690c",
       "previous": "8a6e6452-6f14-11ee-89fa-0242ac120005-1-e630"
      },
      {
       "current": "8a6e65e2-6f14-11ee-89fa-0242ac120005-3-a4f8-00a7-a6ce",
       "next": "8a6e6664-6f14-11ee-89fa-0242ac120005-2-690c-f0ab",
       "previous": "8a6e6452-6f14-11ee-89fa-0242ac120005-2-e630-1474"
      },
      {
       "current": "8a6e65e2-6f14-11ee-89fa-0242ac120005-4-a4f8-00a7-a6ce-206f",
       "next": "8a6e6664-6f14-11ee-89fa-0242ac120005-3-690c-f0ab-fe1a",
       "previous": "8a6e6452-6f14-11ee-89fa-0242ac120005-3-e630-1474-29cf"
      },
      {
       "current": "8a6e65e2-6f14-11ee-89fa-0242ac120005-5-a4f8-00a7-a6ce-206f-da81",
       "next": "8a6e6664-6f14-11ee-89fa-0242ac120005-4-690c-f0ab-fe1a-ff76",
       "previous": "8a6e6452-6f14-11ee-89fa-0242ac120005-4-e630-1474-29cf-7360"
      }
     ],
     "next": "8a6e6664-6f14-11ee-89fa-0242ac120005-5-690c-f0ab-fe1a-ff76-afdc",
     "previous": "8a6e6452-6f14-11ee-89fa-0242ac120005-5-e630-1474-29cf-7360-d446"
    }
   },
   "outputs": [],
   "source": [
    "import os,tempfile\n",
    "temp_dir = tempfile.mkdtemp()\n",
    "print (temp_dir)"
   ]
  },
  {
   "cell_type": "markdown",
   "metadata": {
    "lc_cell_meme": {
     "current": "8a6e6664-6f14-11ee-89fa-0242ac120005-5-690c-f0ab-fe1a-ff76-afdc",
     "history": [
      {
       "current": "8a6e6664-6f14-11ee-89fa-0242ac120005-1-690c",
       "next": "8a6e66c8-6f14-11ee-89fa-0242ac120005",
       "previous": "8a6e65e2-6f14-11ee-89fa-0242ac120005"
      },
      {
       "current": "8a6e6664-6f14-11ee-89fa-0242ac120005-2-690c-f0ab",
       "next": "8a6e66c8-6f14-11ee-89fa-0242ac120005-1-d725",
       "previous": "8a6e65e2-6f14-11ee-89fa-0242ac120005-1-a4f8"
      },
      {
       "current": "8a6e6664-6f14-11ee-89fa-0242ac120005-3-690c-f0ab-fe1a",
       "next": "8a6e66c8-6f14-11ee-89fa-0242ac120005-2-d725-cb6a",
       "previous": "8a6e65e2-6f14-11ee-89fa-0242ac120005-2-a4f8-00a7"
      },
      {
       "current": "8a6e6664-6f14-11ee-89fa-0242ac120005-4-690c-f0ab-fe1a-ff76",
       "next": "8a6e66c8-6f14-11ee-89fa-0242ac120005-3-d725-cb6a-0386",
       "previous": "8a6e65e2-6f14-11ee-89fa-0242ac120005-3-a4f8-00a7-a6ce"
      },
      {
       "current": "8a6e6664-6f14-11ee-89fa-0242ac120005-5-690c-f0ab-fe1a-ff76-afdc",
       "next": "8a6e66c8-6f14-11ee-89fa-0242ac120005-4-d725-cb6a-0386-a35f",
       "previous": "8a6e65e2-6f14-11ee-89fa-0242ac120005-4-a4f8-00a7-a6ce-206f"
      }
     ],
     "next": "8a6e66c8-6f14-11ee-89fa-0242ac120005-5-d725-cb6a-0386-a35f-4979",
     "previous": "8a6e65e2-6f14-11ee-89fa-0242ac120005-5-a4f8-00a7-a6ce-206f-da81"
    }
   },
   "source": [
    "## AnsibleのInventoryファイルを作業用ディレクトリへ作成する"
   ]
  },
  {
   "cell_type": "code",
   "execution_count": null,
   "metadata": {
    "lc_cell_meme": {
     "current": "8a6e66c8-6f14-11ee-89fa-0242ac120005-5-d725-cb6a-0386-a35f-4979",
     "history": [
      {
       "current": "8a6e66c8-6f14-11ee-89fa-0242ac120005-1-d725",
       "next": "8a6e6736-6f14-11ee-89fa-0242ac120005",
       "previous": "8a6e6664-6f14-11ee-89fa-0242ac120005"
      },
      {
       "current": "8a6e66c8-6f14-11ee-89fa-0242ac120005-2-d725-cb6a",
       "next": "8a6e6736-6f14-11ee-89fa-0242ac120005-1-95f8",
       "previous": "8a6e6664-6f14-11ee-89fa-0242ac120005-1-690c"
      },
      {
       "current": "8a6e66c8-6f14-11ee-89fa-0242ac120005-3-d725-cb6a-0386",
       "next": "8a6e6736-6f14-11ee-89fa-0242ac120005-2-95f8-00f1",
       "previous": "8a6e6664-6f14-11ee-89fa-0242ac120005-2-690c-f0ab"
      },
      {
       "current": "8a6e66c8-6f14-11ee-89fa-0242ac120005-4-d725-cb6a-0386-a35f",
       "next": "8a6e6736-6f14-11ee-89fa-0242ac120005-3-95f8-00f1-8e3e",
       "previous": "8a6e6664-6f14-11ee-89fa-0242ac120005-3-690c-f0ab-fe1a"
      },
      {
       "current": "8a6e66c8-6f14-11ee-89fa-0242ac120005-5-d725-cb6a-0386-a35f-4979",
       "next": "8a6e6736-6f14-11ee-89fa-0242ac120005-4-95f8-00f1-8e3e-e732",
       "previous": "8a6e6664-6f14-11ee-89fa-0242ac120005-4-690c-f0ab-fe1a-ff76"
      }
     ],
     "next": "8a6e6736-6f14-11ee-89fa-0242ac120005-5-95f8-00f1-8e3e-e732-ab62",
     "previous": "8a6e6664-6f14-11ee-89fa-0242ac120005-5-690c-f0ab-fe1a-ff76-afdc"
    }
   },
   "outputs": [],
   "source": [
    "import os\n",
    "\n",
    "with open( os.path.join(temp_dir, \"hosts\"), 'w') as f:\n",
    "    f.write('''[openstack_ctl]\n",
    "{openstack_cmn}\n",
    "'''.format(openstack_cmn = provisioning_vip))\n",
    "\n",
    "hosts = temp_dir + \"/hosts\"\n",
    "!cat $hosts"
   ]
  },
  {
   "cell_type": "code",
   "execution_count": null,
   "metadata": {
    "lc_cell_meme": {
     "current": "8a6e6736-6f14-11ee-89fa-0242ac120005-5-95f8-00f1-8e3e-e732-ab62",
     "history": [
      {
       "current": "8a6e6736-6f14-11ee-89fa-0242ac120005",
       "next": "8a6e67a4-6f14-11ee-89fa-0242ac120005",
       "previous": "8a6e66c8-6f14-11ee-89fa-0242ac120005"
      },
      {
       "current": "8a6e6736-6f14-11ee-89fa-0242ac120005-1-95f8",
       "next": "8a6e67a4-6f14-11ee-89fa-0242ac120005-1-b446",
       "previous": "8a6e66c8-6f14-11ee-89fa-0242ac120005"
      },
      {
       "current": "8a6e6736-6f14-11ee-89fa-0242ac120005-2-95f8-00f1",
       "next": "8a6e67a4-6f14-11ee-89fa-0242ac120005-2-b446-6adb",
       "previous": "8a6e66c8-6f14-11ee-89fa-0242ac120005-1-d725"
      },
      {
       "current": "8a6e6736-6f14-11ee-89fa-0242ac120005-3-95f8-00f1-8e3e",
       "next": "8a6e67a4-6f14-11ee-89fa-0242ac120005-3-b446-6adb-9515",
       "previous": "8a6e66c8-6f14-11ee-89fa-0242ac120005-2-d725-cb6a"
      },
      {
       "current": "8a6e6736-6f14-11ee-89fa-0242ac120005-4-95f8-00f1-8e3e-e732",
       "next": "8a6e67a4-6f14-11ee-89fa-0242ac120005-4-b446-6adb-9515-7356",
       "previous": "8a6e66c8-6f14-11ee-89fa-0242ac120005-3-d725-cb6a-0386"
      },
      {
       "current": "8a6e6736-6f14-11ee-89fa-0242ac120005-5-95f8-00f1-8e3e-e732-ab62",
       "next": "8a6e67a4-6f14-11ee-89fa-0242ac120005-5-b446-6adb-9515-7356-f60e",
       "previous": "8a6e66c8-6f14-11ee-89fa-0242ac120005-4-d725-cb6a-0386-a35f"
      }
     ],
     "next": "8a6e67a4-6f14-11ee-89fa-0242ac120005-6-b446-6adb-9515-7356-f60e-8d0a",
     "previous": "8a6e66c8-6f14-11ee-89fa-0242ac120005-5-d725-cb6a-0386-a35f-4979"
    }
   },
   "outputs": [],
   "source": [
    "%env ANSIBLE_INVENTORY={hosts}"
   ]
  },
  {
   "cell_type": "markdown",
   "metadata": {
    "lc_cell_meme": {
     "current": "8a6e67a4-6f14-11ee-89fa-0242ac120005-6-b446-6adb-9515-7356-f60e-8d0a",
     "history": [
      {
       "current": "8a6e67a4-6f14-11ee-89fa-0242ac120005-2-b446-6adb",
       "next": "8a6e6808-6f14-11ee-89fa-0242ac120005",
       "previous": "8a6e6736-6f14-11ee-89fa-0242ac120005"
      },
      {
       "current": "8a6e67a4-6f14-11ee-89fa-0242ac120005-3-b446-6adb-9515",
       "next": "8a6e6808-6f14-11ee-89fa-0242ac120005-1-e13b",
       "previous": "8a6e6736-6f14-11ee-89fa-0242ac120005-1-95f8"
      },
      {
       "current": "8a6e67a4-6f14-11ee-89fa-0242ac120005-4-b446-6adb-9515-7356",
       "next": "8a6e6808-6f14-11ee-89fa-0242ac120005-2-e13b-d443",
       "previous": "8a6e6736-6f14-11ee-89fa-0242ac120005-2-95f8-00f1"
      },
      {
       "current": "8a6e67a4-6f14-11ee-89fa-0242ac120005-5-b446-6adb-9515-7356-f60e",
       "next": "8a6e6808-6f14-11ee-89fa-0242ac120005-3-e13b-d443-a78b",
       "previous": "8a6e6736-6f14-11ee-89fa-0242ac120005-3-95f8-00f1-8e3e"
      },
      {
       "current": "8a6e67a4-6f14-11ee-89fa-0242ac120005-6-b446-6adb-9515-7356-f60e-8d0a",
       "next": "8a6e6808-6f14-11ee-89fa-0242ac120005-4-e13b-d443-a78b-63fc",
       "previous": "8a6e6736-6f14-11ee-89fa-0242ac120005-4-95f8-00f1-8e3e-e732"
      }
     ],
     "next": "8a6e6808-6f14-11ee-89fa-0242ac120005-5-e13b-d443-a78b-63fc-95b8",
     "previous": "8a6e6736-6f14-11ee-89fa-0242ac120005-5-95f8-00f1-8e3e-e732-ab62"
    }
   },
   "source": [
    "疎通確認"
   ]
  },
  {
   "cell_type": "code",
   "execution_count": null,
   "metadata": {
    "lc_cell_meme": {
     "current": "8a6e6808-6f14-11ee-89fa-0242ac120005-5-e13b-d443-a78b-63fc-95b8",
     "history": [
      {
       "current": "8a6e6808-6f14-11ee-89fa-0242ac120005",
       "next": "8a6e6862-6f14-11ee-89fa-0242ac120005",
       "previous": "8a6e67a4-6f14-11ee-89fa-0242ac120005"
      },
      {
       "current": "8a6e6808-6f14-11ee-89fa-0242ac120005-1-e13b",
       "next": "8a6e6862-6f14-11ee-89fa-0242ac120005",
       "previous": "8a6e67a4-6f14-11ee-89fa-0242ac120005-1-b446"
      },
      {
       "current": "8a6e6808-6f14-11ee-89fa-0242ac120005-2-e13b-d443",
       "next": "8a6e6862-6f14-11ee-89fa-0242ac120005-1-9003",
       "previous": "8a6e67a4-6f14-11ee-89fa-0242ac120005-2-b446-6adb"
      },
      {
       "current": "8a6e6808-6f14-11ee-89fa-0242ac120005-3-e13b-d443-a78b",
       "next": "8a6e6862-6f14-11ee-89fa-0242ac120005-2-9003-29a4",
       "previous": "8a6e67a4-6f14-11ee-89fa-0242ac120005-3-b446-6adb-9515"
      },
      {
       "current": "8a6e6808-6f14-11ee-89fa-0242ac120005-4-e13b-d443-a78b-63fc",
       "next": "8a6e6862-6f14-11ee-89fa-0242ac120005-3-9003-29a4-9683",
       "previous": "8a6e67a4-6f14-11ee-89fa-0242ac120005-4-b446-6adb-9515-7356"
      },
      {
       "current": "8a6e6808-6f14-11ee-89fa-0242ac120005-5-e13b-d443-a78b-63fc-95b8",
       "next": "8a6e6862-6f14-11ee-89fa-0242ac120005-4-9003-29a4-9683-84fa",
       "previous": "8a6e67a4-6f14-11ee-89fa-0242ac120005-5-b446-6adb-9515-7356-f60e"
      }
     ],
     "next": "8a6e6862-6f14-11ee-89fa-0242ac120005-5-9003-29a4-9683-84fa-6fee",
     "previous": "8a6e67a4-6f14-11ee-89fa-0242ac120005-6-b446-6adb-9515-7356-f60e-8d0a"
    }
   },
   "outputs": [],
   "source": [
    "!ansible -m ping openstack_ctl"
   ]
  },
  {
   "cell_type": "code",
   "execution_count": null,
   "metadata": {
    "lc_cell_meme": {
     "current": "8a6e6862-6f14-11ee-89fa-0242ac120005-5-9003-29a4-9683-84fa-6fee",
     "history": [
      {
       "current": "8a6e6862-6f14-11ee-89fa-0242ac120005",
       "next": "8a6e68d0-6f14-11ee-89fa-0242ac120005",
       "previous": "8a6e6808-6f14-11ee-89fa-0242ac120005"
      },
      {
       "current": "8a6e6862-6f14-11ee-89fa-0242ac120005-1-9003",
       "next": "8a6e68d0-6f14-11ee-89fa-0242ac120005-1-da77",
       "previous": "8a6e6808-6f14-11ee-89fa-0242ac120005"
      },
      {
       "current": "8a6e6862-6f14-11ee-89fa-0242ac120005-2-9003-29a4",
       "next": "8a6e68d0-6f14-11ee-89fa-0242ac120005-2-da77-4b22",
       "previous": "8a6e6808-6f14-11ee-89fa-0242ac120005-1-e13b"
      },
      {
       "current": "8a6e6862-6f14-11ee-89fa-0242ac120005-3-9003-29a4-9683",
       "next": "8a6e68d0-6f14-11ee-89fa-0242ac120005-3-da77-4b22-3bce",
       "previous": "8a6e6808-6f14-11ee-89fa-0242ac120005-2-e13b-d443"
      },
      {
       "current": "8a6e6862-6f14-11ee-89fa-0242ac120005-4-9003-29a4-9683-84fa",
       "next": "8a6e68d0-6f14-11ee-89fa-0242ac120005-4-da77-4b22-3bce-1f11",
       "previous": "8a6e6808-6f14-11ee-89fa-0242ac120005-3-e13b-d443-a78b"
      },
      {
       "current": "8a6e6862-6f14-11ee-89fa-0242ac120005-5-9003-29a4-9683-84fa-6fee",
       "next": "8a6e68d0-6f14-11ee-89fa-0242ac120005-5-da77-4b22-3bce-1f11-383b",
       "previous": "8a6e6808-6f14-11ee-89fa-0242ac120005-4-e13b-d443-a78b-63fc"
      }
     ],
     "next": "8a6e68d0-6f14-11ee-89fa-0242ac120005-6-da77-4b22-3bce-1f11-383b-b074",
     "previous": "8a6e6808-6f14-11ee-89fa-0242ac120005-5-e13b-d443-a78b-63fc-95b8"
    }
   },
   "outputs": [],
   "source": [
    "!ansible -a 'hostname' openstack_ctl"
   ]
  },
  {
   "cell_type": "markdown",
   "metadata": {
    "lc_cell_meme": {
     "current": "8a6e68d0-6f14-11ee-89fa-0242ac120005-6-da77-4b22-3bce-1f11-383b-b074",
     "history": [
      {
       "current": "8a6e68d0-6f14-11ee-89fa-0242ac120005-2-da77-4b22",
       "next": "8a6e6934-6f14-11ee-89fa-0242ac120005",
       "previous": "8a6e6862-6f14-11ee-89fa-0242ac120005"
      },
      {
       "current": "8a6e68d0-6f14-11ee-89fa-0242ac120005-3-da77-4b22-3bce",
       "next": "8a6e6934-6f14-11ee-89fa-0242ac120005-1-de8e",
       "previous": "8a6e6862-6f14-11ee-89fa-0242ac120005-1-9003"
      },
      {
       "current": "8a6e68d0-6f14-11ee-89fa-0242ac120005-4-da77-4b22-3bce-1f11",
       "next": "8a6e6934-6f14-11ee-89fa-0242ac120005-2-de8e-56fb",
       "previous": "8a6e6862-6f14-11ee-89fa-0242ac120005-2-9003-29a4"
      },
      {
       "current": "8a6e68d0-6f14-11ee-89fa-0242ac120005-5-da77-4b22-3bce-1f11-383b",
       "next": "8a6e6934-6f14-11ee-89fa-0242ac120005-3-de8e-56fb-653b",
       "previous": "8a6e6862-6f14-11ee-89fa-0242ac120005-3-9003-29a4-9683"
      },
      {
       "current": "8a6e68d0-6f14-11ee-89fa-0242ac120005-6-da77-4b22-3bce-1f11-383b-b074",
       "next": "8a6e6934-6f14-11ee-89fa-0242ac120005-4-de8e-56fb-653b-b4ca",
       "previous": "8a6e6862-6f14-11ee-89fa-0242ac120005-4-9003-29a4-9683-84fa"
      }
     ],
     "next": "8a6e6934-6f14-11ee-89fa-0242ac120005-5-de8e-56fb-653b-b4ca-6fd0",
     "previous": "8a6e6862-6f14-11ee-89fa-0242ac120005-5-9003-29a4-9683-84fa-6fee"
    }
   },
   "source": [
    "## OpenStack用OpenRCファイル設定\n",
    "\n",
    "`xxxxxxx`プロジェクト用のOpenRCファイルを事前にダウンロードしておくこと。  "
   ]
  },
  {
   "cell_type": "code",
   "execution_count": null,
   "metadata": {
    "lc_cell_meme": {
     "current": "8a6e6934-6f14-11ee-89fa-0242ac120005-5-de8e-56fb-653b-b4ca-6fd0",
     "history": [
      {
       "current": "8a6e6934-6f14-11ee-89fa-0242ac120005",
       "next": "8a6e698e-6f14-11ee-89fa-0242ac120005",
       "previous": "8a6e68d0-6f14-11ee-89fa-0242ac120005"
      },
      {
       "current": "8a6e6934-6f14-11ee-89fa-0242ac120005-1-de8e",
       "next": "d1f5984a-6f14-11ee-89fa-0242ac120005",
       "previous": "8a6e68d0-6f14-11ee-89fa-0242ac120005-1-da77"
      },
      {
       "current": "8a6e6934-6f14-11ee-89fa-0242ac120005-2-de8e-56fb",
       "next": "d1f5984a-6f14-11ee-89fa-0242ac120005-1-c220",
       "previous": "8a6e68d0-6f14-11ee-89fa-0242ac120005-2-da77-4b22"
      },
      {
       "current": "8a6e6934-6f14-11ee-89fa-0242ac120005-3-de8e-56fb-653b",
       "next": "d1f5984a-6f14-11ee-89fa-0242ac120005-2-c220-5556",
       "previous": "8a6e68d0-6f14-11ee-89fa-0242ac120005-3-da77-4b22-3bce"
      },
      {
       "current": "8a6e6934-6f14-11ee-89fa-0242ac120005-4-de8e-56fb-653b-b4ca",
       "next": "d1f5984a-6f14-11ee-89fa-0242ac120005-3-c220-5556-c563",
       "previous": "8a6e68d0-6f14-11ee-89fa-0242ac120005-4-da77-4b22-3bce-1f11"
      },
      {
       "current": "8a6e6934-6f14-11ee-89fa-0242ac120005-5-de8e-56fb-653b-b4ca-6fd0",
       "next": "d1f5984a-6f14-11ee-89fa-0242ac120005-4-c220-5556-c563-35bd",
       "previous": "8a6e68d0-6f14-11ee-89fa-0242ac120005-5-da77-4b22-3bce-1f11-383b"
      }
     ],
     "next": "d1f5984a-6f14-11ee-89fa-0242ac120005-5-c220-5556-c563-35bd-b3d4",
     "previous": "8a6e68d0-6f14-11ee-89fa-0242ac120005-6-da77-4b22-3bce-1f11-383b-b074"
    }
   },
   "outputs": [],
   "source": [
    "import os\n",
    "\n",
    "user_creds = os.path.expanduser('~/.keys/xxxxxxx-openrc.sh')\n",
    "\n",
    "assert os.path.exists(user_creds), '{} is not exist'.format(user_creds)"
   ]
  },
  {
   "cell_type": "code",
   "execution_count": null,
   "metadata": {
    "lc_cell_meme": {
     "current": "d1f5984a-6f14-11ee-89fa-0242ac120005-5-c220-5556-c563-35bd-b3d4",
     "history": [
      {
       "current": "d1f5984a-6f14-11ee-89fa-0242ac120005-1-c220",
       "next": "d1f599e4-6f14-11ee-89fa-0242ac120005",
       "previous": "8a6e6934-6f14-11ee-89fa-0242ac120005"
      },
      {
       "current": "d1f5984a-6f14-11ee-89fa-0242ac120005-2-c220-5556",
       "next": "d1f599e4-6f14-11ee-89fa-0242ac120005-1-9bd7",
       "previous": "8a6e6934-6f14-11ee-89fa-0242ac120005-1-de8e"
      },
      {
       "current": "d1f5984a-6f14-11ee-89fa-0242ac120005-3-c220-5556-c563",
       "next": "d1f599e4-6f14-11ee-89fa-0242ac120005-2-9bd7-d260",
       "previous": "8a6e6934-6f14-11ee-89fa-0242ac120005-2-de8e-56fb"
      },
      {
       "current": "d1f5984a-6f14-11ee-89fa-0242ac120005-4-c220-5556-c563-35bd",
       "next": "d1f599e4-6f14-11ee-89fa-0242ac120005-3-9bd7-d260-d98e",
       "previous": "8a6e6934-6f14-11ee-89fa-0242ac120005-3-de8e-56fb-653b"
      },
      {
       "current": "d1f5984a-6f14-11ee-89fa-0242ac120005-5-c220-5556-c563-35bd-b3d4",
       "next": "d1f599e4-6f14-11ee-89fa-0242ac120005-4-9bd7-d260-d98e-6089",
       "previous": "8a6e6934-6f14-11ee-89fa-0242ac120005-4-de8e-56fb-653b-b4ca"
      }
     ],
     "next": "d1f599e4-6f14-11ee-89fa-0242ac120005-5-9bd7-d260-d98e-6089-5e1b",
     "previous": "8a6e6934-6f14-11ee-89fa-0242ac120005-5-de8e-56fb-653b-b4ca-6fd0"
    }
   },
   "outputs": [],
   "source": [
    "%env USER_CREDS={user_creds}"
   ]
  },
  {
   "cell_type": "code",
   "execution_count": null,
   "metadata": {
    "lc_cell_meme": {
     "current": "d1f599e4-6f14-11ee-89fa-0242ac120005-5-9bd7-d260-d98e-6089-5e1b",
     "history": [
      {
       "current": "d1f599e4-6f14-11ee-89fa-0242ac120005-1-9bd7",
       "next": "d1f59a8e-6f14-11ee-89fa-0242ac120005",
       "previous": "d1f5984a-6f14-11ee-89fa-0242ac120005"
      },
      {
       "current": "d1f599e4-6f14-11ee-89fa-0242ac120005-2-9bd7-d260",
       "next": "d1f59a8e-6f14-11ee-89fa-0242ac120005-1-c706",
       "previous": "d1f5984a-6f14-11ee-89fa-0242ac120005-1-c220"
      },
      {
       "current": "d1f599e4-6f14-11ee-89fa-0242ac120005-3-9bd7-d260-d98e",
       "next": "d1f59a8e-6f14-11ee-89fa-0242ac120005-2-c706-b37b",
       "previous": "d1f5984a-6f14-11ee-89fa-0242ac120005-2-c220-5556"
      },
      {
       "current": "d1f599e4-6f14-11ee-89fa-0242ac120005-4-9bd7-d260-d98e-6089",
       "next": "d1f59a8e-6f14-11ee-89fa-0242ac120005-3-c706-b37b-ecfb",
       "previous": "d1f5984a-6f14-11ee-89fa-0242ac120005-3-c220-5556-c563"
      },
      {
       "current": "d1f599e4-6f14-11ee-89fa-0242ac120005-5-9bd7-d260-d98e-6089-5e1b",
       "next": "d1f59a8e-6f14-11ee-89fa-0242ac120005-4-c706-b37b-ecfb-5b36",
       "previous": "d1f5984a-6f14-11ee-89fa-0242ac120005-4-c220-5556-c563-35bd"
      }
     ],
     "next": "d1f59a8e-6f14-11ee-89fa-0242ac120005-5-c706-b37b-ecfb-5b36-0581",
     "previous": "d1f5984a-6f14-11ee-89fa-0242ac120005-5-c220-5556-c563-35bd-b3d4"
    }
   },
   "outputs": [],
   "source": [
    "!ls -l {user_creds}"
   ]
  },
  {
   "cell_type": "markdown",
   "metadata": {
    "heading_collapsed": true,
    "lc_cell_meme": {
     "current": "d1f59a8e-6f14-11ee-89fa-0242ac120005-5-c706-b37b-ecfb-5b36-0581",
     "history": [
      {
       "current": "d1f59a8e-6f14-11ee-89fa-0242ac120005-1-c706",
       "next": "d1f59b06-6f14-11ee-89fa-0242ac120005",
       "previous": "d1f599e4-6f14-11ee-89fa-0242ac120005"
      },
      {
       "current": "d1f59a8e-6f14-11ee-89fa-0242ac120005-2-c706-b37b",
       "next": "d1f59b06-6f14-11ee-89fa-0242ac120005-1-2c6a",
       "previous": "d1f599e4-6f14-11ee-89fa-0242ac120005-1-9bd7"
      },
      {
       "current": "d1f59a8e-6f14-11ee-89fa-0242ac120005-3-c706-b37b-ecfb",
       "next": "d1f59b06-6f14-11ee-89fa-0242ac120005-2-2c6a-af99",
       "previous": "d1f599e4-6f14-11ee-89fa-0242ac120005-2-9bd7-d260"
      },
      {
       "current": "d1f59a8e-6f14-11ee-89fa-0242ac120005-4-c706-b37b-ecfb-5b36",
       "next": "d1f59b06-6f14-11ee-89fa-0242ac120005-3-2c6a-af99-0c7e",
       "previous": "d1f599e4-6f14-11ee-89fa-0242ac120005-3-9bd7-d260-d98e"
      },
      {
       "current": "d1f59a8e-6f14-11ee-89fa-0242ac120005-5-c706-b37b-ecfb-5b36-0581",
       "next": "d1f59b06-6f14-11ee-89fa-0242ac120005-4-2c6a-af99-0c7e-65aa",
       "previous": "d1f599e4-6f14-11ee-89fa-0242ac120005-4-9bd7-d260-d98e-6089"
      }
     ],
     "next": "d1f59b06-6f14-11ee-89fa-0242ac120005-5-2c6a-af99-0c7e-65aa-acbc",
     "previous": "d1f599e4-6f14-11ee-89fa-0242ac120005-5-9bd7-d260-d98e-6089-5e1b"
    }
   },
   "source": [
    "## openstackコマンド用ユーティリティ関数"
   ]
  },
  {
   "cell_type": "code",
   "execution_count": null,
   "metadata": {
    "hidden": true,
    "lc_cell_meme": {
     "current": "d1f59b06-6f14-11ee-89fa-0242ac120005-5-2c6a-af99-0c7e-65aa-acbc",
     "history": [
      {
       "current": "d1f59b06-6f14-11ee-89fa-0242ac120005-1-2c6a",
       "next": "d1f59b74-6f14-11ee-89fa-0242ac120005",
       "previous": "d1f59a8e-6f14-11ee-89fa-0242ac120005"
      },
      {
       "current": "d1f59b06-6f14-11ee-89fa-0242ac120005-2-2c6a-af99",
       "next": "d1f59b74-6f14-11ee-89fa-0242ac120005-1-544e",
       "previous": "d1f59a8e-6f14-11ee-89fa-0242ac120005-1-c706"
      },
      {
       "current": "d1f59b06-6f14-11ee-89fa-0242ac120005-3-2c6a-af99-0c7e",
       "next": "d1f59b74-6f14-11ee-89fa-0242ac120005-2-544e-3100",
       "previous": "d1f59a8e-6f14-11ee-89fa-0242ac120005-2-c706-b37b"
      },
      {
       "current": "d1f59b06-6f14-11ee-89fa-0242ac120005-4-2c6a-af99-0c7e-65aa",
       "next": "d1f59b74-6f14-11ee-89fa-0242ac120005-3-544e-3100-3301",
       "previous": "d1f59a8e-6f14-11ee-89fa-0242ac120005-3-c706-b37b-ecfb"
      },
      {
       "current": "d1f59b06-6f14-11ee-89fa-0242ac120005-5-2c6a-af99-0c7e-65aa-acbc",
       "next": "d1f59b74-6f14-11ee-89fa-0242ac120005-4-544e-3100-3301-6171",
       "previous": "d1f59a8e-6f14-11ee-89fa-0242ac120005-4-c706-b37b-ecfb-5b36"
      }
     ],
     "next": "d1f59b74-6f14-11ee-89fa-0242ac120005-5-544e-3100-3301-6171-63fe",
     "previous": "d1f59a8e-6f14-11ee-89fa-0242ac120005-5-c706-b37b-ecfb-5b36-0581"
    }
   },
   "outputs": [],
   "source": [
    "def build_cmdline(param):\n",
    "    cmdline = ''\n",
    "    \n",
    "    for param_name, param_value in param.items():\n",
    "        if isinstance(param_value, dict):\n",
    "            for key, value in param_value.items():\n",
    "                cmdline += ' --{} {}={}'.format(param_name, key, value)\n",
    "        elif isinstance(param_value, list):\n",
    "            for item in param_value:\n",
    "                cmdline += ' --{} {}'.format(param_name, item)\n",
    "        elif isinstance(param_value, bool):\n",
    "            if param_value:\n",
    "                cmdline += ' --{}'.format(param_name)\n",
    "        else:\n",
    "            cmdline += ' --{} {}'.format(param_name, param_value)\n",
    "\n",
    "    return cmdline"
   ]
  },
  {
   "cell_type": "code",
   "execution_count": null,
   "metadata": {
    "hidden": true,
    "lc_cell_meme": {
     "current": "d1f59b74-6f14-11ee-89fa-0242ac120005-5-544e-3100-3301-6171-63fe",
     "history": [
      {
       "current": "d1f59b74-6f14-11ee-89fa-0242ac120005",
       "next": "d1f59bec-6f14-11ee-89fa-0242ac120005",
       "previous": "d1f59b06-6f14-11ee-89fa-0242ac120005"
      },
      {
       "current": "d1f59b74-6f14-11ee-89fa-0242ac120005-1-544e",
       "next": "d1f59bec-6f14-11ee-89fa-0242ac120005-1-da5a",
       "previous": "d1f59b06-6f14-11ee-89fa-0242ac120005"
      },
      {
       "current": "d1f59b74-6f14-11ee-89fa-0242ac120005-2-544e-3100",
       "next": "d1f59bec-6f14-11ee-89fa-0242ac120005-2-da5a-ccfa",
       "previous": "d1f59b06-6f14-11ee-89fa-0242ac120005-1-2c6a"
      },
      {
       "current": "d1f59b74-6f14-11ee-89fa-0242ac120005-3-544e-3100-3301",
       "next": "d1f59bec-6f14-11ee-89fa-0242ac120005-3-da5a-ccfa-3509",
       "previous": "d1f59b06-6f14-11ee-89fa-0242ac120005-2-2c6a-af99"
      },
      {
       "current": "d1f59b74-6f14-11ee-89fa-0242ac120005-4-544e-3100-3301-6171",
       "next": "d1f59bec-6f14-11ee-89fa-0242ac120005-4-da5a-ccfa-3509-04b8",
       "previous": "d1f59b06-6f14-11ee-89fa-0242ac120005-3-2c6a-af99-0c7e"
      },
      {
       "current": "d1f59b74-6f14-11ee-89fa-0242ac120005-5-544e-3100-3301-6171-63fe",
       "next": "d1f59bec-6f14-11ee-89fa-0242ac120005-5-da5a-ccfa-3509-04b8-20d9",
       "previous": "d1f59b06-6f14-11ee-89fa-0242ac120005-4-2c6a-af99-0c7e-65aa"
      }
     ],
     "next": "d1f59bec-6f14-11ee-89fa-0242ac120005-6-da5a-ccfa-3509-04b8-20d9-03c4",
     "previous": "d1f59b06-6f14-11ee-89fa-0242ac120005-5-2c6a-af99-0c7e-65aa-acbc"
    }
   },
   "outputs": [],
   "source": [
    "import json\n",
    "\n",
    "def run_openstack(cmd):\n",
    "    print('EXEC: {}'.format(cmd))\n",
    "    out = !source {user_creds} && {cmd}\n",
    "    print('OUTPUT: {}'.format('\\n'.join(out)))\n",
    "    return json.loads('\\n'.join(out))"
   ]
  },
  {
   "cell_type": "markdown",
   "metadata": {
    "hidden": true,
    "lc_cell_meme": {
     "current": "d1f59bec-6f14-11ee-89fa-0242ac120005-6-da5a-ccfa-3509-04b8-20d9-03c4",
     "history": [
      {
       "current": "d1f59bec-6f14-11ee-89fa-0242ac120005-2-da5a-ccfa",
       "next": "8a6e698e-6f14-11ee-89fa-0242ac120005",
       "previous": "d1f59b74-6f14-11ee-89fa-0242ac120005"
      },
      {
       "current": "d1f59bec-6f14-11ee-89fa-0242ac120005-3-da5a-ccfa-3509",
       "next": "8a6e698e-6f14-11ee-89fa-0242ac120005-1-c9c4",
       "previous": "d1f59b74-6f14-11ee-89fa-0242ac120005-1-544e"
      },
      {
       "current": "d1f59bec-6f14-11ee-89fa-0242ac120005-4-da5a-ccfa-3509-04b8",
       "next": "8a6e698e-6f14-11ee-89fa-0242ac120005-2-c9c4-893c",
       "previous": "d1f59b74-6f14-11ee-89fa-0242ac120005-2-544e-3100"
      },
      {
       "current": "d1f59bec-6f14-11ee-89fa-0242ac120005-5-da5a-ccfa-3509-04b8-20d9",
       "next": "8a6e698e-6f14-11ee-89fa-0242ac120005-3-c9c4-893c-d06d",
       "previous": "d1f59b74-6f14-11ee-89fa-0242ac120005-3-544e-3100-3301"
      },
      {
       "current": "d1f59bec-6f14-11ee-89fa-0242ac120005-6-da5a-ccfa-3509-04b8-20d9-03c4",
       "next": "8a6e698e-6f14-11ee-89fa-0242ac120005-4-c9c4-893c-d06d-3eae",
       "previous": "d1f59b74-6f14-11ee-89fa-0242ac120005-4-544e-3100-3301-6171"
      }
     ],
     "next": "8a6e698e-6f14-11ee-89fa-0242ac120005-5-c9c4-893c-d06d-3eae-06b1",
     "previous": "d1f59b74-6f14-11ee-89fa-0242ac120005-5-544e-3100-3301-6171-63fe"
    }
   },
   "source": [
    "テスト"
   ]
  },
  {
   "cell_type": "code",
   "execution_count": null,
   "metadata": {
    "hidden": true,
    "lc_cell_meme": {
     "current": "8a6e698e-6f14-11ee-89fa-0242ac120005-5-c9c4-893c-d06d-3eae-06b1",
     "history": [
      {
       "current": "8a6e698e-6f14-11ee-89fa-0242ac120005",
       "next": "8a6e69fc-6f14-11ee-89fa-0242ac120005",
       "previous": "8a6e6934-6f14-11ee-89fa-0242ac120005"
      },
      {
       "current": "8a6e698e-6f14-11ee-89fa-0242ac120005",
       "next": "8a6e69fc-6f14-11ee-89fa-0242ac120005",
       "previous": "d1f59bec-6f14-11ee-89fa-0242ac120005"
      },
      {
       "current": "8a6e698e-6f14-11ee-89fa-0242ac120005-1-c9c4",
       "next": "06afe9a8-98b0-11ea-8d02-0242ac120007-3-a1c1-faf0-55bd",
       "previous": "d1f59bec-6f14-11ee-89fa-0242ac120005-1-da5a"
      },
      {
       "current": "8a6e698e-6f14-11ee-89fa-0242ac120005-2-c9c4-893c",
       "next": "06afe9a8-98b0-11ea-8d02-0242ac120007-4-a1c1-faf0-55bd-3c47",
       "previous": "d1f59bec-6f14-11ee-89fa-0242ac120005-2-da5a-ccfa"
      },
      {
       "current": "8a6e698e-6f14-11ee-89fa-0242ac120005-3-c9c4-893c-d06d",
       "next": "06afe9a8-98b0-11ea-8d02-0242ac120007-5-a1c1-faf0-55bd-3c47-0c85",
       "previous": "d1f59bec-6f14-11ee-89fa-0242ac120005-3-da5a-ccfa-3509"
      },
      {
       "current": "8a6e698e-6f14-11ee-89fa-0242ac120005-4-c9c4-893c-d06d-3eae",
       "next": "06afe9a8-98b0-11ea-8d02-0242ac120007-6-a1c1-faf0-55bd-3c47-0c85-dbd4",
       "previous": "d1f59bec-6f14-11ee-89fa-0242ac120005-4-da5a-ccfa-3509-04b8"
      },
      {
       "current": "8a6e698e-6f14-11ee-89fa-0242ac120005-5-c9c4-893c-d06d-3eae-06b1",
       "next": "06afe9a8-98b0-11ea-8d02-0242ac120007-7-a1c1-faf0-55bd-3c47-0c85-dbd4-2630",
       "previous": "d1f59bec-6f14-11ee-89fa-0242ac120005-5-da5a-ccfa-3509-04b8-20d9"
      }
     ],
     "next": "06afe9a8-98b0-11ea-8d02-0242ac120007-8-a1c1-faf0-55bd-3c47-0c85-dbd4-2630-21cd",
     "previous": "d1f59bec-6f14-11ee-89fa-0242ac120005-6-da5a-ccfa-3509-04b8-20d9-03c4"
    }
   },
   "outputs": [],
   "source": [
    "run_openstack('openstack flavor list -f json' + build_cmdline({'all': True}))"
   ]
  },
  {
   "cell_type": "markdown",
   "metadata": {
    "lc_cell_meme": {
     "current": "06afe9a8-98b0-11ea-8d02-0242ac120007-8-a1c1-faf0-55bd-3c47-0c85-dbd4-2630-21cd",
     "history": [
      {
       "current": "06afe9a8-98b0-11ea-8d02-0242ac120007",
       "next": "7899411a-9692-11ea-8d02-0242ac120007",
       "previous": "d1bcb8ac-9599-11ea-8d02-0242ac120007"
      },
      {
       "current": "06afe9a8-98b0-11ea-8d02-0242ac120007-1-a1c1",
       "next": "7899411a-9692-11ea-8d02-0242ac120007",
       "previous": "250e7a70-98f3-11ea-8d02-0242ac120007"
      },
      {
       "current": "06afe9a8-98b0-11ea-8d02-0242ac120007-2-a1c1-faf0",
       "next": "7899411a-9692-11ea-8d02-0242ac120007-1-2cd2",
       "previous": "250e7a70-98f3-11ea-8d02-0242ac120007-1-f0b4"
      },
      {
       "current": "06afe9a8-98b0-11ea-8d02-0242ac120007-2-a1c1-faf0",
       "next": "7899411a-9692-11ea-8d02-0242ac120007-2-2cd2-395d",
       "previous": "250e7a70-98f3-11ea-8d02-0242ac120007-2-f0b4-6edf"
      },
      {
       "current": "06afe9a8-98b0-11ea-8d02-0242ac120007-2-a1c1-faf0",
       "next": "04bfc54e-defc-11eb-b29f-0242ac120008",
       "previous": "250e7a70-98f3-11ea-8d02-0242ac120007-2-f0b4-6edf"
      },
      {
       "current": "06afe9a8-98b0-11ea-8d02-0242ac120007-3-a1c1-faf0-55bd",
       "next": "329a4046-dfad-11eb-b29f-0242ac120008",
       "previous": "250e7a70-98f3-11ea-8d02-0242ac120007-2-f0b4-6edf"
      },
      {
       "current": "06afe9a8-98b0-11ea-8d02-0242ac120007-3-a1c1-faf0-55bd",
       "next": "329a4046-dfad-11eb-b29f-0242ac120008-1-1375",
       "previous": "250e7a70-98f3-11ea-8d02-0242ac120007-3-f0b4-6edf-9d40"
      },
      {
       "current": "06afe9a8-98b0-11ea-8d02-0242ac120007-3-a1c1-faf0-55bd",
       "next": "329a4046-dfad-11eb-b29f-0242ac120008-1-1375",
       "previous": "8a6e69fc-6f14-11ee-89fa-0242ac120005"
      },
      {
       "current": "06afe9a8-98b0-11ea-8d02-0242ac120007-4-a1c1-faf0-55bd-3c47",
       "next": "329a4046-dfad-11eb-b29f-0242ac120008-1-1375",
       "previous": "8a6e698e-6f14-11ee-89fa-0242ac120005"
      },
      {
       "current": "06afe9a8-98b0-11ea-8d02-0242ac120007-5-a1c1-faf0-55bd-3c47-0c85",
       "next": "329a4046-dfad-11eb-b29f-0242ac120008-2-1375-8208",
       "previous": "8a6e698e-6f14-11ee-89fa-0242ac120005-1-c9c4"
      },
      {
       "current": "06afe9a8-98b0-11ea-8d02-0242ac120007-6-a1c1-faf0-55bd-3c47-0c85-dbd4",
       "next": "329a4046-dfad-11eb-b29f-0242ac120008-3-1375-8208-af22",
       "previous": "8a6e698e-6f14-11ee-89fa-0242ac120005-2-c9c4-893c"
      },
      {
       "current": "06afe9a8-98b0-11ea-8d02-0242ac120007-7-a1c1-faf0-55bd-3c47-0c85-dbd4-2630",
       "next": "329a4046-dfad-11eb-b29f-0242ac120008-4-1375-8208-af22-3de5",
       "previous": "8a6e698e-6f14-11ee-89fa-0242ac120005-3-c9c4-893c-d06d"
      },
      {
       "current": "06afe9a8-98b0-11ea-8d02-0242ac120007-8-a1c1-faf0-55bd-3c47-0c85-dbd4-2630-21cd",
       "next": "329a4046-dfad-11eb-b29f-0242ac120008-5-1375-8208-af22-3de5-f133",
       "previous": "8a6e698e-6f14-11ee-89fa-0242ac120005-4-c9c4-893c-d06d-3eae"
      }
     ],
     "next": "329a4046-dfad-11eb-b29f-0242ac120008-6-1375-8208-af22-3de5-f133-df41",
     "previous": "8a6e698e-6f14-11ee-89fa-0242ac120005-5-c9c4-893c-d06d-3eae-06b1"
    }
   },
   "source": [
    "## デプロイされたCephノード情報の取得"
   ]
  },
  {
   "cell_type": "markdown",
   "metadata": {
    "lc_cell_meme": {
     "current": "329a4046-dfad-11eb-b29f-0242ac120008-6-1375-8208-af22-3de5-f133-df41",
     "history": [
      {
       "current": "329a4046-dfad-11eb-b29f-0242ac120008-1-1375",
       "next": "329a4348-dfad-11eb-b29f-0242ac120008",
       "previous": "06afe9a8-98b0-11ea-8d02-0242ac120007-2-a1c1-faf0"
      },
      {
       "current": "329a4046-dfad-11eb-b29f-0242ac120008-1-1375",
       "next": "329a4348-dfad-11eb-b29f-0242ac120008-1-ed21",
       "previous": "06afe9a8-98b0-11ea-8d02-0242ac120007-3-a1c1-faf0-55bd"
      },
      {
       "current": "329a4046-dfad-11eb-b29f-0242ac120008-2-1375-8208",
       "next": "197c8f3e-6f15-11ee-89fa-0242ac120005",
       "previous": "06afe9a8-98b0-11ea-8d02-0242ac120007-3-a1c1-faf0-55bd"
      },
      {
       "current": "329a4046-dfad-11eb-b29f-0242ac120008-3-1375-8208-af22",
       "next": "197c8f3e-6f15-11ee-89fa-0242ac120005-1-c8bf",
       "previous": "06afe9a8-98b0-11ea-8d02-0242ac120007-4-a1c1-faf0-55bd-3c47"
      },
      {
       "current": "329a4046-dfad-11eb-b29f-0242ac120008-4-1375-8208-af22-3de5",
       "next": "197c8f3e-6f15-11ee-89fa-0242ac120005-2-c8bf-346f",
       "previous": "06afe9a8-98b0-11ea-8d02-0242ac120007-5-a1c1-faf0-55bd-3c47-0c85"
      },
      {
       "current": "329a4046-dfad-11eb-b29f-0242ac120008-5-1375-8208-af22-3de5-f133",
       "next": "197c8f3e-6f15-11ee-89fa-0242ac120005-3-c8bf-346f-ef14",
       "previous": "06afe9a8-98b0-11ea-8d02-0242ac120007-6-a1c1-faf0-55bd-3c47-0c85-dbd4"
      },
      {
       "current": "329a4046-dfad-11eb-b29f-0242ac120008-6-1375-8208-af22-3de5-f133-df41",
       "next": "197c8f3e-6f15-11ee-89fa-0242ac120005-4-c8bf-346f-ef14-588d",
       "previous": "06afe9a8-98b0-11ea-8d02-0242ac120007-7-a1c1-faf0-55bd-3c47-0c85-dbd4-2630"
      }
     ],
     "next": "197c8f3e-6f15-11ee-89fa-0242ac120005-5-c8bf-346f-ef14-588d-372c",
     "previous": "06afe9a8-98b0-11ea-8d02-0242ac120007-8-a1c1-faf0-55bd-3c47-0c85-dbd4-2630-21cd"
    }
   },
   "source": [
    "ストレージノードを特定するにあたり、ノード名称が　ceph-nodexxx （xxxの部分は、右寄せ0埋めの数字3桁）というルールに従っていることを前提としている。<br>\n",
    " 例：ceph-node001<br>\n",
    " このノード名称ルールは、構築するCephクラスタ毎に変えるため、以下で定義する。"
   ]
  },
  {
   "cell_type": "code",
   "execution_count": null,
   "metadata": {
    "lc_cell_meme": {
     "current": "197c8f3e-6f15-11ee-89fa-0242ac120005-5-c8bf-346f-ef14-588d-372c",
     "history": [
      {
       "current": "197c8f3e-6f15-11ee-89fa-0242ac120005-1-c8bf",
       "next": "329a4348-dfad-11eb-b29f-0242ac120008-1-ed21",
       "previous": "329a4046-dfad-11eb-b29f-0242ac120008-1-1375"
      },
      {
       "current": "197c8f3e-6f15-11ee-89fa-0242ac120005-2-c8bf-346f",
       "next": "329a4348-dfad-11eb-b29f-0242ac120008-2-ed21-61bb",
       "previous": "329a4046-dfad-11eb-b29f-0242ac120008-2-1375-8208"
      },
      {
       "current": "197c8f3e-6f15-11ee-89fa-0242ac120005-3-c8bf-346f-ef14",
       "next": "329a4348-dfad-11eb-b29f-0242ac120008-3-ed21-61bb-3b96",
       "previous": "329a4046-dfad-11eb-b29f-0242ac120008-3-1375-8208-af22"
      },
      {
       "current": "197c8f3e-6f15-11ee-89fa-0242ac120005-4-c8bf-346f-ef14-588d",
       "next": "329a4348-dfad-11eb-b29f-0242ac120008-4-ed21-61bb-3b96-73dc",
       "previous": "329a4046-dfad-11eb-b29f-0242ac120008-4-1375-8208-af22-3de5"
      },
      {
       "current": "197c8f3e-6f15-11ee-89fa-0242ac120005-5-c8bf-346f-ef14-588d-372c",
       "next": "329a4348-dfad-11eb-b29f-0242ac120008-5-ed21-61bb-3b96-73dc-a7f9",
       "previous": "329a4046-dfad-11eb-b29f-0242ac120008-5-1375-8208-af22-3de5-f133"
      }
     ],
     "next": "329a4348-dfad-11eb-b29f-0242ac120008-6-ed21-61bb-3b96-73dc-a7f9-9262",
     "previous": "329a4046-dfad-11eb-b29f-0242ac120008-6-1375-8208-af22-3de5-f133-df41"
    }
   },
   "outputs": [],
   "source": [
    "# 初期化対象のインスタンス名称を設定する\n",
    "raise Exception('この先手作業が必要です')"
   ]
  },
  {
   "cell_type": "code",
   "execution_count": null,
   "metadata": {
    "lc_cell_meme": {
     "current": "329a4348-dfad-11eb-b29f-0242ac120008-6-ed21-61bb-3b96-73dc-a7f9-9262",
     "history": [
      {
       "current": "329a4348-dfad-11eb-b29f-0242ac120008-1-ed21",
       "next": "04bfc54e-defc-11eb-b29f-0242ac120008",
       "previous": "329a4046-dfad-11eb-b29f-0242ac120008"
      },
      {
       "current": "329a4348-dfad-11eb-b29f-0242ac120008-1-ed21",
       "next": "04bfc54e-defc-11eb-b29f-0242ac120008-1-5336",
       "previous": "329a4046-dfad-11eb-b29f-0242ac120008-1-1375"
      },
      {
       "current": "329a4348-dfad-11eb-b29f-0242ac120008-2-ed21-61bb",
       "next": "197c8ff2-6f15-11ee-89fa-0242ac120005",
       "previous": "197c8f3e-6f15-11ee-89fa-0242ac120005"
      },
      {
       "current": "329a4348-dfad-11eb-b29f-0242ac120008-3-ed21-61bb-3b96",
       "next": "197c8ff2-6f15-11ee-89fa-0242ac120005-1-7e43",
       "previous": "197c8f3e-6f15-11ee-89fa-0242ac120005-1-c8bf"
      },
      {
       "current": "329a4348-dfad-11eb-b29f-0242ac120008-4-ed21-61bb-3b96-73dc",
       "next": "197c8ff2-6f15-11ee-89fa-0242ac120005-2-7e43-fdd0",
       "previous": "197c8f3e-6f15-11ee-89fa-0242ac120005-2-c8bf-346f"
      },
      {
       "current": "329a4348-dfad-11eb-b29f-0242ac120008-5-ed21-61bb-3b96-73dc-a7f9",
       "next": "197c8ff2-6f15-11ee-89fa-0242ac120005-3-7e43-fdd0-b218",
       "previous": "197c8f3e-6f15-11ee-89fa-0242ac120005-3-c8bf-346f-ef14"
      },
      {
       "current": "329a4348-dfad-11eb-b29f-0242ac120008-6-ed21-61bb-3b96-73dc-a7f9-9262",
       "next": "197c8ff2-6f15-11ee-89fa-0242ac120005-4-7e43-fdd0-b218-66a9",
       "previous": "197c8f3e-6f15-11ee-89fa-0242ac120005-4-c8bf-346f-ef14-588d"
      }
     ],
     "next": "197c8ff2-6f15-11ee-89fa-0242ac120005-5-7e43-fdd0-b218-66a9-07bd",
     "previous": "197c8f3e-6f15-11ee-89fa-0242ac120005-5-c8bf-346f-ef14-588d-372c"
    }
   },
   "outputs": [],
   "source": [
    "import pandas as pd\n",
    "import re\n",
    "\n",
    "# 対象インスタンス名称マッチングルール\n",
    "name_match_rule = r'ceph-xxx-node-[0-9]+'"
   ]
  },
  {
   "cell_type": "markdown",
   "metadata": {
    "heading_collapsed": true,
    "lc_cell_meme": {
     "current": "197c8ff2-6f15-11ee-89fa-0242ac120005-5-7e43-fdd0-b218-66a9-07bd",
     "history": [
      {
       "current": "197c8ff2-6f15-11ee-89fa-0242ac120005-1-7e43",
       "next": "197c9024-6f15-11ee-89fa-0242ac120005",
       "previous": "329a4348-dfad-11eb-b29f-0242ac120008-1-ed21"
      },
      {
       "current": "197c8ff2-6f15-11ee-89fa-0242ac120005-2-7e43-fdd0",
       "next": "197c9024-6f15-11ee-89fa-0242ac120005-1-e349",
       "previous": "329a4348-dfad-11eb-b29f-0242ac120008-2-ed21-61bb"
      },
      {
       "current": "197c8ff2-6f15-11ee-89fa-0242ac120005-3-7e43-fdd0-b218",
       "next": "197c9024-6f15-11ee-89fa-0242ac120005-2-e349-365e",
       "previous": "329a4348-dfad-11eb-b29f-0242ac120008-3-ed21-61bb-3b96"
      },
      {
       "current": "197c8ff2-6f15-11ee-89fa-0242ac120005-4-7e43-fdd0-b218-66a9",
       "next": "197c9024-6f15-11ee-89fa-0242ac120005-3-e349-365e-63b6",
       "previous": "329a4348-dfad-11eb-b29f-0242ac120008-4-ed21-61bb-3b96-73dc"
      },
      {
       "current": "197c8ff2-6f15-11ee-89fa-0242ac120005-5-7e43-fdd0-b218-66a9-07bd",
       "next": "197c9024-6f15-11ee-89fa-0242ac120005-4-e349-365e-63b6-0c03",
       "previous": "329a4348-dfad-11eb-b29f-0242ac120008-5-ed21-61bb-3b96-73dc-a7f9"
      }
     ],
     "next": "197c9024-6f15-11ee-89fa-0242ac120005-5-e349-365e-63b6-0c03-493f",
     "previous": "329a4348-dfad-11eb-b29f-0242ac120008-6-ed21-61bb-3b96-73dc-a7f9-9262"
    }
   },
   "source": [
    "## OpenStack Ironicからノード情報の取得"
   ]
  },
  {
   "cell_type": "code",
   "execution_count": null,
   "metadata": {
    "hidden": true,
    "lc_cell_meme": {
     "current": "197c9024-6f15-11ee-89fa-0242ac120005-5-e349-365e-63b6-0c03-493f",
     "history": [
      {
       "current": "197c9024-6f15-11ee-89fa-0242ac120005-1-e349",
       "next": "197c904c-6f15-11ee-89fa-0242ac120005",
       "previous": "197c8ff2-6f15-11ee-89fa-0242ac120005"
      },
      {
       "current": "197c9024-6f15-11ee-89fa-0242ac120005-2-e349-365e",
       "next": "197c904c-6f15-11ee-89fa-0242ac120005-1-03db",
       "previous": "197c8ff2-6f15-11ee-89fa-0242ac120005-1-7e43"
      },
      {
       "current": "197c9024-6f15-11ee-89fa-0242ac120005-3-e349-365e-63b6",
       "next": "197c904c-6f15-11ee-89fa-0242ac120005-2-03db-c917",
       "previous": "197c8ff2-6f15-11ee-89fa-0242ac120005-2-7e43-fdd0"
      },
      {
       "current": "197c9024-6f15-11ee-89fa-0242ac120005-4-e349-365e-63b6-0c03",
       "next": "197c904c-6f15-11ee-89fa-0242ac120005-3-03db-c917-eaf7",
       "previous": "197c8ff2-6f15-11ee-89fa-0242ac120005-3-7e43-fdd0-b218"
      },
      {
       "current": "197c9024-6f15-11ee-89fa-0242ac120005-5-e349-365e-63b6-0c03-493f",
       "next": "197c904c-6f15-11ee-89fa-0242ac120005-4-03db-c917-eaf7-b09c",
       "previous": "197c8ff2-6f15-11ee-89fa-0242ac120005-4-7e43-fdd0-b218-66a9"
      }
     ],
     "next": "197c904c-6f15-11ee-89fa-0242ac120005-5-03db-c917-eaf7-b09c-86c6",
     "previous": "197c8ff2-6f15-11ee-89fa-0242ac120005-5-7e43-fdd0-b218-66a9-07bd"
    }
   },
   "outputs": [],
   "source": [
    "cmd = \"openstack baremetal node list -f json --long\"\n",
    "nodes = run_openstack(cmd)"
   ]
  },
  {
   "cell_type": "code",
   "execution_count": null,
   "metadata": {
    "hidden": true,
    "lc_cell_meme": {
     "current": "197c904c-6f15-11ee-89fa-0242ac120005-5-03db-c917-eaf7-b09c-86c6",
     "history": [
      {
       "current": "197c904c-6f15-11ee-89fa-0242ac120005-1-03db",
       "next": "197c906a-6f15-11ee-89fa-0242ac120005",
       "previous": "197c9024-6f15-11ee-89fa-0242ac120005"
      },
      {
       "current": "197c904c-6f15-11ee-89fa-0242ac120005-2-03db-c917",
       "next": "197c906a-6f15-11ee-89fa-0242ac120005-1-0d6c",
       "previous": "197c9024-6f15-11ee-89fa-0242ac120005-1-e349"
      },
      {
       "current": "197c904c-6f15-11ee-89fa-0242ac120005-3-03db-c917-eaf7",
       "next": "197c906a-6f15-11ee-89fa-0242ac120005-2-0d6c-2083",
       "previous": "197c9024-6f15-11ee-89fa-0242ac120005-2-e349-365e"
      },
      {
       "current": "197c904c-6f15-11ee-89fa-0242ac120005-4-03db-c917-eaf7-b09c",
       "next": "197c906a-6f15-11ee-89fa-0242ac120005-3-0d6c-2083-55bc",
       "previous": "197c9024-6f15-11ee-89fa-0242ac120005-3-e349-365e-63b6"
      },
      {
       "current": "197c904c-6f15-11ee-89fa-0242ac120005-5-03db-c917-eaf7-b09c-86c6",
       "next": "197c906a-6f15-11ee-89fa-0242ac120005-4-0d6c-2083-55bc-226c",
       "previous": "197c9024-6f15-11ee-89fa-0242ac120005-4-e349-365e-63b6-0c03"
      }
     ],
     "next": "197c906a-6f15-11ee-89fa-0242ac120005-5-0d6c-2083-55bc-226c-060e",
     "previous": "197c9024-6f15-11ee-89fa-0242ac120005-5-e349-365e-63b6-0c03-493f"
    }
   },
   "outputs": [],
   "source": [
    "import pandas as pd\n",
    "import re\n",
    "\n",
    "for node in nodes:\n",
    "    instance_uuid = node.get(\"Instance UUID\", None)\n",
    "    if instance_uuid is None:\n",
    "        continue\n",
    "        \n",
    "    node[\"instance_name\"] = node[\"Instance Info\"][\"display_name\"]\n",
    "\n",
    "pd.set_option('display.max_rows', None)\n",
    "pd.DataFrame(nodes, columns=['Instance UUID', 'instance_name', 'UUID', 'Maintenance', 'Provisioning State', 'Power State', 'Name'])"
   ]
  },
  {
   "cell_type": "code",
   "execution_count": null,
   "metadata": {
    "hidden": true,
    "lc_cell_meme": {
     "current": "197c906a-6f15-11ee-89fa-0242ac120005-5-0d6c-2083-55bc-226c-060e",
     "history": [
      {
       "current": "197c906a-6f15-11ee-89fa-0242ac120005-1-0d6c",
       "next": "197c9092-6f15-11ee-89fa-0242ac120005",
       "previous": "197c904c-6f15-11ee-89fa-0242ac120005"
      },
      {
       "current": "197c906a-6f15-11ee-89fa-0242ac120005-2-0d6c-2083",
       "next": "197c9092-6f15-11ee-89fa-0242ac120005-1-1f71",
       "previous": "197c904c-6f15-11ee-89fa-0242ac120005-1-03db"
      },
      {
       "current": "197c906a-6f15-11ee-89fa-0242ac120005-3-0d6c-2083-55bc",
       "next": "197c9092-6f15-11ee-89fa-0242ac120005-2-1f71-56b6",
       "previous": "197c904c-6f15-11ee-89fa-0242ac120005-2-03db-c917"
      },
      {
       "current": "197c906a-6f15-11ee-89fa-0242ac120005-4-0d6c-2083-55bc-226c",
       "next": "197c9092-6f15-11ee-89fa-0242ac120005-3-1f71-56b6-9763",
       "previous": "197c904c-6f15-11ee-89fa-0242ac120005-3-03db-c917-eaf7"
      },
      {
       "current": "197c906a-6f15-11ee-89fa-0242ac120005-5-0d6c-2083-55bc-226c-060e",
       "next": "197c9092-6f15-11ee-89fa-0242ac120005-4-1f71-56b6-9763-38ba",
       "previous": "197c904c-6f15-11ee-89fa-0242ac120005-4-03db-c917-eaf7-b09c"
      }
     ],
     "next": "197c9092-6f15-11ee-89fa-0242ac120005-5-1f71-56b6-9763-38ba-5550",
     "previous": "197c904c-6f15-11ee-89fa-0242ac120005-5-03db-c917-eaf7-b09c-86c6"
    }
   },
   "outputs": [],
   "source": [
    "cmd = \"openstack server list -f json --long\"\n",
    "nova_server_map = run_openstack(cmd)"
   ]
  },
  {
   "cell_type": "code",
   "execution_count": null,
   "metadata": {
    "hidden": true,
    "lc_cell_meme": {
     "current": "197c9092-6f15-11ee-89fa-0242ac120005-5-1f71-56b6-9763-38ba-5550",
     "history": [
      {
       "current": "197c9092-6f15-11ee-89fa-0242ac120005-1-1f71",
       "next": "06afec50-98b0-11ea-8d02-0242ac120007-3-5828-a305-b690",
       "previous": "197c906a-6f15-11ee-89fa-0242ac120005"
      },
      {
       "current": "197c9092-6f15-11ee-89fa-0242ac120005-2-1f71-56b6",
       "next": "06afec50-98b0-11ea-8d02-0242ac120007-4-5828-a305-b690-d78b",
       "previous": "197c906a-6f15-11ee-89fa-0242ac120005-1-0d6c"
      },
      {
       "current": "197c9092-6f15-11ee-89fa-0242ac120005-3-1f71-56b6-9763",
       "next": "06afec50-98b0-11ea-8d02-0242ac120007-5-5828-a305-b690-d78b-de34",
       "previous": "197c906a-6f15-11ee-89fa-0242ac120005-2-0d6c-2083"
      },
      {
       "current": "197c9092-6f15-11ee-89fa-0242ac120005-4-1f71-56b6-9763-38ba",
       "next": "06afec50-98b0-11ea-8d02-0242ac120007-6-5828-a305-b690-d78b-de34-e1e0",
       "previous": "197c906a-6f15-11ee-89fa-0242ac120005-3-0d6c-2083-55bc"
      },
      {
       "current": "197c9092-6f15-11ee-89fa-0242ac120005-5-1f71-56b6-9763-38ba-5550",
       "next": "06afec50-98b0-11ea-8d02-0242ac120007-7-5828-a305-b690-d78b-de34-e1e0-7e38",
       "previous": "197c906a-6f15-11ee-89fa-0242ac120005-4-0d6c-2083-55bc-226c"
      }
     ],
     "next": "06afec50-98b0-11ea-8d02-0242ac120007-8-5828-a305-b690-d78b-de34-e1e0-7e38-05a4",
     "previous": "197c906a-6f15-11ee-89fa-0242ac120005-5-0d6c-2083-55bc-226c-060e"
    }
   },
   "outputs": [],
   "source": [
    "node_list = []\n",
    "for server in nova_server_map:\n",
    "    node_id = server['ID']\n",
    "    if re.match(name_match_rule, server['Name']) is None:\n",
    "        continue\n",
    "    for node in nodes:\n",
    "        if node['Instance UUID'] == node_id:\n",
    "            node_info = {}\n",
    "            node_list.append(node_info)\n",
    "            node_info['name'] = server['Name']\n",
    "            node_info['node_name'] = node['Name']\n",
    "            instance_ip_info = instance_ip_map.get(server['Name'], None)\n",
    "            if instance_ip_info is not None:\n",
    "                node_info['instance_ip'] = instance_ip_info.get('ipv4', None)\n",
    "            else:\n",
    "                node_info['instance_ip'] = None\n",
    "            address = server['Networks']\n",
    "            prov_net = address['provisioning-net']\n",
    "            for addr in prov_net:\n",
    "                node_info['prov_ip'] = addr\n",
    "\n",
    "pd.DataFrame(node_list)"
   ]
  },
  {
   "cell_type": "markdown",
   "metadata": {
    "lc_cell_meme": {
     "current": "06afec50-98b0-11ea-8d02-0242ac120007-8-5828-a305-b690-d78b-de34-e1e0-7e38-05a4",
     "history": [
      {
       "current": "06afec50-98b0-11ea-8d02-0242ac120007-1-5828",
       "next": "8a48d590-98a1-11ea-8d02-0242ac120007",
       "previous": "357fc83a-969d-11ea-8d02-0242ac120007"
      },
      {
       "current": "06afec50-98b0-11ea-8d02-0242ac120007-2-5828-a305",
       "next": "8a48d590-98a1-11ea-8d02-0242ac120007-1-1c0f",
       "previous": "357fc83a-969d-11ea-8d02-0242ac120007-1-9a36"
      },
      {
       "current": "06afec50-98b0-11ea-8d02-0242ac120007-3-5828-a305-b690",
       "next": "8a48d590-98a1-11ea-8d02-0242ac120007-2-1c0f-5b25",
       "previous": "357fc83a-969d-11ea-8d02-0242ac120007-2-9a36-95b8"
      },
      {
       "current": "06afec50-98b0-11ea-8d02-0242ac120007-3-5828-a305-b690",
       "next": "8a48d590-98a1-11ea-8d02-0242ac120007-3-1c0f-5b25-d7c0",
       "previous": "357fc83a-969d-11ea-8d02-0242ac120007-3-9a36-95b8-3fa9"
      },
      {
       "current": "06afec50-98b0-11ea-8d02-0242ac120007-4-5828-a305-b690-d78b",
       "next": "8a48d590-98a1-11ea-8d02-0242ac120007-3-1c0f-5b25-d7c0",
       "previous": "197c9092-6f15-11ee-89fa-0242ac120005"
      },
      {
       "current": "06afec50-98b0-11ea-8d02-0242ac120007-5-5828-a305-b690-d78b-de34",
       "next": "8a48d590-98a1-11ea-8d02-0242ac120007-4-1c0f-5b25-d7c0-348f",
       "previous": "197c9092-6f15-11ee-89fa-0242ac120005-1-1f71"
      },
      {
       "current": "06afec50-98b0-11ea-8d02-0242ac120007-6-5828-a305-b690-d78b-de34-e1e0",
       "next": "8a48d590-98a1-11ea-8d02-0242ac120007-5-1c0f-5b25-d7c0-348f-2dc2",
       "previous": "197c9092-6f15-11ee-89fa-0242ac120005-2-1f71-56b6"
      },
      {
       "current": "06afec50-98b0-11ea-8d02-0242ac120007-7-5828-a305-b690-d78b-de34-e1e0-7e38",
       "next": "8a48d590-98a1-11ea-8d02-0242ac120007-6-1c0f-5b25-d7c0-348f-2dc2-36df",
       "previous": "197c9092-6f15-11ee-89fa-0242ac120005-3-1f71-56b6-9763"
      },
      {
       "current": "06afec50-98b0-11ea-8d02-0242ac120007-8-5828-a305-b690-d78b-de34-e1e0-7e38-05a4",
       "next": "8a48d590-98a1-11ea-8d02-0242ac120007-7-1c0f-5b25-d7c0-348f-2dc2-36df-1c44",
       "previous": "197c9092-6f15-11ee-89fa-0242ac120005-4-1f71-56b6-9763-38ba"
      }
     ],
     "next": "8a48d590-98a1-11ea-8d02-0242ac120007-8-1c0f-5b25-d7c0-348f-2dc2-36df-1c44-9f22",
     "previous": "197c9092-6f15-11ee-89fa-0242ac120005-5-1f71-56b6-9763-38ba-5550"
    }
   },
   "source": [
    "## 登録対象Cephノード情報の取得"
   ]
  },
  {
   "cell_type": "markdown",
   "metadata": {
    "lc_cell_meme": {
     "current": "8a48d590-98a1-11ea-8d02-0242ac120007-8-1c0f-5b25-d7c0-348f-2dc2-36df-1c44-9f22",
     "history": [
      {
       "current": "8a48d590-98a1-11ea-8d02-0242ac120007",
       "next": "8a48d90a-98a1-11ea-8d02-0242ac120007",
       "previous": "357fc83a-969d-11ea-8d02-0242ac120007"
      },
      {
       "current": "8a48d590-98a1-11ea-8d02-0242ac120007",
       "next": "8a48d90a-98a1-11ea-8d02-0242ac120007",
       "previous": "06afec50-98b0-11ea-8d02-0242ac120007"
      },
      {
       "current": "8a48d590-98a1-11ea-8d02-0242ac120007",
       "next": "a85c1dda-959a-11ea-8d02-0242ac120007",
       "previous": "06afec50-98b0-11ea-8d02-0242ac120007"
      },
      {
       "current": "8a48d590-98a1-11ea-8d02-0242ac120007-1-1c0f",
       "next": "e879cdac-95bf-11ea-8d02-0242ac120007",
       "previous": "06afec50-98b0-11ea-8d02-0242ac120007"
      },
      {
       "current": "8a48d590-98a1-11ea-8d02-0242ac120007-2-1c0f-5b25",
       "next": "e879cdac-95bf-11ea-8d02-0242ac120007-1-4a2c",
       "previous": "06afec50-98b0-11ea-8d02-0242ac120007-1-5828"
      },
      {
       "current": "8a48d590-98a1-11ea-8d02-0242ac120007-3-1c0f-5b25-d7c0",
       "next": "e879cdac-95bf-11ea-8d02-0242ac120007-2-4a2c-6b2f",
       "previous": "06afec50-98b0-11ea-8d02-0242ac120007-2-5828-a305"
      },
      {
       "current": "8a48d590-98a1-11ea-8d02-0242ac120007-4-1c0f-5b25-d7c0-348f",
       "next": "e879cdac-95bf-11ea-8d02-0242ac120007-3-4a2c-6b2f-958d",
       "previous": "06afec50-98b0-11ea-8d02-0242ac120007-3-5828-a305-b690"
      },
      {
       "current": "8a48d590-98a1-11ea-8d02-0242ac120007-5-1c0f-5b25-d7c0-348f-2dc2",
       "next": "e879cdac-95bf-11ea-8d02-0242ac120007-4-4a2c-6b2f-958d-d244",
       "previous": "06afec50-98b0-11ea-8d02-0242ac120007-4-5828-a305-b690-d78b"
      },
      {
       "current": "8a48d590-98a1-11ea-8d02-0242ac120007-6-1c0f-5b25-d7c0-348f-2dc2-36df",
       "next": "e879cdac-95bf-11ea-8d02-0242ac120007-5-4a2c-6b2f-958d-d244-2fd5",
       "previous": "06afec50-98b0-11ea-8d02-0242ac120007-5-5828-a305-b690-d78b-de34"
      },
      {
       "current": "8a48d590-98a1-11ea-8d02-0242ac120007-7-1c0f-5b25-d7c0-348f-2dc2-36df-1c44",
       "next": "e879cdac-95bf-11ea-8d02-0242ac120007-6-4a2c-6b2f-958d-d244-2fd5-1926",
       "previous": "06afec50-98b0-11ea-8d02-0242ac120007-6-5828-a305-b690-d78b-de34-e1e0"
      },
      {
       "current": "8a48d590-98a1-11ea-8d02-0242ac120007-8-1c0f-5b25-d7c0-348f-2dc2-36df-1c44-9f22",
       "next": "e879cdac-95bf-11ea-8d02-0242ac120007-7-4a2c-6b2f-958d-d244-2fd5-1926-af76",
       "previous": "06afec50-98b0-11ea-8d02-0242ac120007-7-5828-a305-b690-d78b-de34-e1e0-7e38"
      }
     ],
     "next": "e879cdac-95bf-11ea-8d02-0242ac120007-8-4a2c-6b2f-958d-d244-2fd5-1926-af76-4482",
     "previous": "06afec50-98b0-11ea-8d02-0242ac120007-8-5828-a305-b690-d78b-de34-e1e0-7e38-05a4"
    }
   },
   "source": [
    "初期化対象のインスタンス名称を設定する"
   ]
  },
  {
   "cell_type": "code",
   "execution_count": null,
   "metadata": {
    "lc_cell_meme": {
     "current": "e879cdac-95bf-11ea-8d02-0242ac120007-8-4a2c-6b2f-958d-d244-2fd5-1926-af76-4482",
     "history": [
      {
       "current": "e879cdac-95bf-11ea-8d02-0242ac120007",
       "next": "81dd4f74-9597-11ea-8d02-0242ac120007",
       "previous": "d1bcb8ac-9599-11ea-8d02-0242ac120007"
      },
      {
       "current": "e879cdac-95bf-11ea-8d02-0242ac120007",
       "next": "81dd4f74-9597-11ea-8d02-0242ac120007",
       "previous": "a85c1dda-959a-11ea-8d02-0242ac120007"
      },
      {
       "current": "e879cdac-95bf-11ea-8d02-0242ac120007",
       "next": "8a48d90a-98a1-11ea-8d02-0242ac120007",
       "previous": "a85c1dda-959a-11ea-8d02-0242ac120007"
      },
      {
       "current": "e879cdac-95bf-11ea-8d02-0242ac120007-1-4a2c",
       "next": "8a48d90a-98a1-11ea-8d02-0242ac120007",
       "previous": "8a48d590-98a1-11ea-8d02-0242ac120007"
      },
      {
       "current": "e879cdac-95bf-11ea-8d02-0242ac120007-2-4a2c-6b2f",
       "next": "8a48d90a-98a1-11ea-8d02-0242ac120007-1-0ebc",
       "previous": "8a48d590-98a1-11ea-8d02-0242ac120007-1-1c0f"
      },
      {
       "current": "e879cdac-95bf-11ea-8d02-0242ac120007-2-4a2c-6b2f",
       "next": "8a48d90a-98a1-11ea-8d02-0242ac120007-2-0ebc-93ac",
       "previous": "8a48d590-98a1-11ea-8d02-0242ac120007-2-1c0f-5b25"
      },
      {
       "current": "e879cdac-95bf-11ea-8d02-0242ac120007-3-4a2c-6b2f-958d",
       "next": "809aa1e6-def9-11eb-b29f-0242ac120008",
       "previous": "8a48d590-98a1-11ea-8d02-0242ac120007-2-1c0f-5b25"
      },
      {
       "current": "e879cdac-95bf-11ea-8d02-0242ac120007-4-4a2c-6b2f-958d-d244",
       "next": "809aa1e6-def9-11eb-b29f-0242ac120008-1-b49e",
       "previous": "8a48d590-98a1-11ea-8d02-0242ac120007-3-1c0f-5b25-d7c0"
      },
      {
       "current": "e879cdac-95bf-11ea-8d02-0242ac120007-5-4a2c-6b2f-958d-d244-2fd5",
       "next": "809aa1e6-def9-11eb-b29f-0242ac120008-2-b49e-6195",
       "previous": "8a48d590-98a1-11ea-8d02-0242ac120007-4-1c0f-5b25-d7c0-348f"
      },
      {
       "current": "e879cdac-95bf-11ea-8d02-0242ac120007-6-4a2c-6b2f-958d-d244-2fd5-1926",
       "next": "809aa1e6-def9-11eb-b29f-0242ac120008-3-b49e-6195-7681",
       "previous": "8a48d590-98a1-11ea-8d02-0242ac120007-5-1c0f-5b25-d7c0-348f-2dc2"
      },
      {
       "current": "e879cdac-95bf-11ea-8d02-0242ac120007-7-4a2c-6b2f-958d-d244-2fd5-1926-af76",
       "next": "809aa1e6-def9-11eb-b29f-0242ac120008-4-b49e-6195-7681-901c",
       "previous": "8a48d590-98a1-11ea-8d02-0242ac120007-6-1c0f-5b25-d7c0-348f-2dc2-36df"
      },
      {
       "current": "e879cdac-95bf-11ea-8d02-0242ac120007-8-4a2c-6b2f-958d-d244-2fd5-1926-af76-4482",
       "next": "809aa1e6-def9-11eb-b29f-0242ac120008-5-b49e-6195-7681-901c-8f92",
       "previous": "8a48d590-98a1-11ea-8d02-0242ac120007-7-1c0f-5b25-d7c0-348f-2dc2-36df-1c44"
      }
     ],
     "next": "809aa1e6-def9-11eb-b29f-0242ac120008-6-b49e-6195-7681-901c-8f92-49eb",
     "previous": "8a48d590-98a1-11ea-8d02-0242ac120007-8-1c0f-5b25-d7c0-348f-2dc2-36df-1c44-9f22"
    },
    "scrolled": true
   },
   "outputs": [],
   "source": [
    "# 初期化対象のインスタンス名称を設定する\n",
    "raise Exception('この先手作業が必要です')"
   ]
  },
  {
   "cell_type": "markdown",
   "metadata": {
    "lc_cell_meme": {
     "current": "809aa1e6-def9-11eb-b29f-0242ac120008-6-b49e-6195-7681-901c-8f92-49eb",
     "history": [
      {
       "current": "809aa1e6-def9-11eb-b29f-0242ac120008-1-b49e",
       "next": "8a48d90a-98a1-11ea-8d02-0242ac120007-2-0ebc-93ac",
       "previous": "e879cdac-95bf-11ea-8d02-0242ac120007-2-4a2c-6b2f"
      },
      {
       "current": "809aa1e6-def9-11eb-b29f-0242ac120008-2-b49e-6195",
       "next": "8a48d90a-98a1-11ea-8d02-0242ac120007-3-0ebc-93ac-04b4",
       "previous": "e879cdac-95bf-11ea-8d02-0242ac120007-3-4a2c-6b2f-958d"
      },
      {
       "current": "809aa1e6-def9-11eb-b29f-0242ac120008-3-b49e-6195-7681",
       "next": "8a48d90a-98a1-11ea-8d02-0242ac120007-4-0ebc-93ac-04b4-d55b",
       "previous": "e879cdac-95bf-11ea-8d02-0242ac120007-4-4a2c-6b2f-958d-d244"
      },
      {
       "current": "809aa1e6-def9-11eb-b29f-0242ac120008-4-b49e-6195-7681-901c",
       "next": "8a48d90a-98a1-11ea-8d02-0242ac120007-5-0ebc-93ac-04b4-d55b-05d9",
       "previous": "e879cdac-95bf-11ea-8d02-0242ac120007-5-4a2c-6b2f-958d-d244-2fd5"
      },
      {
       "current": "809aa1e6-def9-11eb-b29f-0242ac120008-5-b49e-6195-7681-901c-8f92",
       "next": "8a48d90a-98a1-11ea-8d02-0242ac120007-6-0ebc-93ac-04b4-d55b-05d9-76e2",
       "previous": "e879cdac-95bf-11ea-8d02-0242ac120007-6-4a2c-6b2f-958d-d244-2fd5-1926"
      },
      {
       "current": "809aa1e6-def9-11eb-b29f-0242ac120008-6-b49e-6195-7681-901c-8f92-49eb",
       "next": "8a48d90a-98a1-11ea-8d02-0242ac120007-7-0ebc-93ac-04b4-d55b-05d9-76e2-84e0",
       "previous": "e879cdac-95bf-11ea-8d02-0242ac120007-7-4a2c-6b2f-958d-d244-2fd5-1926-af76"
      }
     ],
     "next": "8a48d90a-98a1-11ea-8d02-0242ac120007-8-0ebc-93ac-04b4-d55b-05d9-76e2-84e0-8617",
     "previous": "e879cdac-95bf-11ea-8d02-0242ac120007-8-4a2c-6b2f-958d-d244-2fd5-1926-af76-4482"
    }
   },
   "source": [
    "### 初期化対象ノードの指定"
   ]
  },
  {
   "cell_type": "code",
   "execution_count": null,
   "metadata": {
    "lc_cell_meme": {
     "current": "8a48d90a-98a1-11ea-8d02-0242ac120007-8-0ebc-93ac-04b4-d55b-05d9-76e2-84e0-8617",
     "history": [
      {
       "current": "8a48d90a-98a1-11ea-8d02-0242ac120007",
       "next": "8a48dae0-98a1-11ea-8d02-0242ac120007",
       "previous": "8a48d590-98a1-11ea-8d02-0242ac120007"
      },
      {
       "current": "8a48d90a-98a1-11ea-8d02-0242ac120007-1-0ebc",
       "next": "8a48dae0-98a1-11ea-8d02-0242ac120007",
       "previous": "e879cdac-95bf-11ea-8d02-0242ac120007"
      },
      {
       "current": "8a48d90a-98a1-11ea-8d02-0242ac120007-2-0ebc-93ac",
       "next": "8a48dae0-98a1-11ea-8d02-0242ac120007-1-4da2",
       "previous": "e879cdac-95bf-11ea-8d02-0242ac120007-1-4a2c"
      },
      {
       "current": "8a48d90a-98a1-11ea-8d02-0242ac120007-2-0ebc-93ac",
       "next": "8a48dae0-98a1-11ea-8d02-0242ac120007-2-4da2-9c77",
       "previous": "e879cdac-95bf-11ea-8d02-0242ac120007-2-4a2c-6b2f"
      },
      {
       "current": "8a48d90a-98a1-11ea-8d02-0242ac120007-3-0ebc-93ac-04b4",
       "next": "8a48dae0-98a1-11ea-8d02-0242ac120007-2-4da2-9c77",
       "previous": "809aa1e6-def9-11eb-b29f-0242ac120008"
      },
      {
       "current": "8a48d90a-98a1-11ea-8d02-0242ac120007-3-0ebc-93ac-04b4",
       "next": "8a48dae0-98a1-11ea-8d02-0242ac120007-3-4da2-9c77-127e",
       "previous": "809aa1e6-def9-11eb-b29f-0242ac120008-1-b49e"
      },
      {
       "current": "8a48d90a-98a1-11ea-8d02-0242ac120007-4-0ebc-93ac-04b4-d55b",
       "next": "bb3e251e-61bc-11ee-89fa-0242ac120005",
       "previous": "809aa1e6-def9-11eb-b29f-0242ac120008-1-b49e"
      },
      {
       "current": "8a48d90a-98a1-11ea-8d02-0242ac120007-5-0ebc-93ac-04b4-d55b-05d9",
       "next": "bb3e251e-61bc-11ee-89fa-0242ac120005-1-2563",
       "previous": "809aa1e6-def9-11eb-b29f-0242ac120008-2-b49e-6195"
      },
      {
       "current": "8a48d90a-98a1-11ea-8d02-0242ac120007-6-0ebc-93ac-04b4-d55b-05d9-76e2",
       "next": "bb3e251e-61bc-11ee-89fa-0242ac120005-2-2563-43c9",
       "previous": "809aa1e6-def9-11eb-b29f-0242ac120008-3-b49e-6195-7681"
      },
      {
       "current": "8a48d90a-98a1-11ea-8d02-0242ac120007-7-0ebc-93ac-04b4-d55b-05d9-76e2-84e0",
       "next": "bb3e251e-61bc-11ee-89fa-0242ac120005-3-2563-43c9-94a3",
       "previous": "809aa1e6-def9-11eb-b29f-0242ac120008-4-b49e-6195-7681-901c"
      },
      {
       "current": "8a48d90a-98a1-11ea-8d02-0242ac120007-8-0ebc-93ac-04b4-d55b-05d9-76e2-84e0-8617",
       "next": "bb3e251e-61bc-11ee-89fa-0242ac120005-4-2563-43c9-94a3-6976",
       "previous": "809aa1e6-def9-11eb-b29f-0242ac120008-5-b49e-6195-7681-901c-8f92"
      }
     ],
     "next": "bb3e251e-61bc-11ee-89fa-0242ac120005-5-2563-43c9-94a3-6976-039e",
     "previous": "809aa1e6-def9-11eb-b29f-0242ac120008-6-b49e-6195-7681-901c-8f92-49eb"
    }
   },
   "outputs": [],
   "source": [
    "# bootstrapノードを除いた、公開鍵配置対象ノードを指定\n",
    "target_name_list = ['ceph-xxx-node-002','ceph-xxx-node-003','ceph-xxx-node-004','ceph-xxx-node-005','ceph-xxx-node-006','ceph-xxx-node-007']"
   ]
  },
  {
   "cell_type": "code",
   "execution_count": null,
   "metadata": {
    "lc_cell_meme": {
     "current": "bb3e251e-61bc-11ee-89fa-0242ac120005-5-2563-43c9-94a3-6976-039e",
     "history": [
      {
       "current": "bb3e251e-61bc-11ee-89fa-0242ac120005-1-2563",
       "next": "8a48dae0-98a1-11ea-8d02-0242ac120007-3-4da2-9c77-127e",
       "previous": "8a48d90a-98a1-11ea-8d02-0242ac120007-3-0ebc-93ac-04b4"
      },
      {
       "current": "bb3e251e-61bc-11ee-89fa-0242ac120005-2-2563-43c9",
       "next": "8a48dae0-98a1-11ea-8d02-0242ac120007-4-4da2-9c77-127e-7d0f",
       "previous": "8a48d90a-98a1-11ea-8d02-0242ac120007-4-0ebc-93ac-04b4-d55b"
      },
      {
       "current": "bb3e251e-61bc-11ee-89fa-0242ac120005-3-2563-43c9-94a3",
       "next": "8a48dae0-98a1-11ea-8d02-0242ac120007-5-4da2-9c77-127e-7d0f-8ca7",
       "previous": "8a48d90a-98a1-11ea-8d02-0242ac120007-5-0ebc-93ac-04b4-d55b-05d9"
      },
      {
       "current": "bb3e251e-61bc-11ee-89fa-0242ac120005-4-2563-43c9-94a3-6976",
       "next": "8a48dae0-98a1-11ea-8d02-0242ac120007-6-4da2-9c77-127e-7d0f-8ca7-b405",
       "previous": "8a48d90a-98a1-11ea-8d02-0242ac120007-6-0ebc-93ac-04b4-d55b-05d9-76e2"
      },
      {
       "current": "bb3e251e-61bc-11ee-89fa-0242ac120005-5-2563-43c9-94a3-6976-039e",
       "next": "8a48dae0-98a1-11ea-8d02-0242ac120007-7-4da2-9c77-127e-7d0f-8ca7-b405-fb5b",
       "previous": "8a48d90a-98a1-11ea-8d02-0242ac120007-7-0ebc-93ac-04b4-d55b-05d9-76e2-84e0"
      }
     ],
     "next": "8a48dae0-98a1-11ea-8d02-0242ac120007-8-4da2-9c77-127e-7d0f-8ca7-b405-fb5b-1e18",
     "previous": "8a48d90a-98a1-11ea-8d02-0242ac120007-8-0ebc-93ac-04b4-d55b-05d9-76e2-84e0-8617"
    }
   },
   "outputs": [],
   "source": [
    "bootstrap_node_name = 'ceph-xxx-node-001'"
   ]
  },
  {
   "cell_type": "code",
   "execution_count": null,
   "metadata": {
    "lc_cell_meme": {
     "current": "8a48dae0-98a1-11ea-8d02-0242ac120007-8-4da2-9c77-127e-7d0f-8ca7-b405-fb5b-1e18",
     "history": [
      {
       "current": "8a48dae0-98a1-11ea-8d02-0242ac120007-1-4da2",
       "next": "35c339aa-55a3-11e7-b0b2-00163e9c0e35",
       "previous": "8a48d90a-98a1-11ea-8d02-0242ac120007"
      },
      {
       "current": "8a48dae0-98a1-11ea-8d02-0242ac120007-2-4da2-9c77",
       "next": "35c339aa-55a3-11e7-b0b2-00163e9c0e35-1-eee2",
       "previous": "8a48d90a-98a1-11ea-8d02-0242ac120007-1-0ebc"
      },
      {
       "current": "8a48dae0-98a1-11ea-8d02-0242ac120007-2-4da2-9c77",
       "next": "35c339aa-55a3-11e7-b0b2-00163e9c0e35-2-eee2-af6c",
       "previous": "8a48d90a-98a1-11ea-8d02-0242ac120007-2-0ebc-93ac"
      },
      {
       "current": "8a48dae0-98a1-11ea-8d02-0242ac120007-2-4da2-9c77",
       "next": "35c362a4-55a3-11e7-b0b2-00163e9c0e35-2-3f0a-3633",
       "previous": "8a48d90a-98a1-11ea-8d02-0242ac120007-2-0ebc-93ac"
      },
      {
       "current": "8a48dae0-98a1-11ea-8d02-0242ac120007-2-4da2-9c77",
       "next": "1afe7a3e-def8-11eb-b29f-0242ac120008",
       "previous": "8a48d90a-98a1-11ea-8d02-0242ac120007-2-0ebc-93ac"
      },
      {
       "current": "8a48dae0-98a1-11ea-8d02-0242ac120007-3-4da2-9c77-127e",
       "next": "35c35a52-55a3-11e7-b0b2-00163e9c0e35-2-ed71-9007",
       "previous": "8a48d90a-98a1-11ea-8d02-0242ac120007-2-0ebc-93ac"
      },
      {
       "current": "8a48dae0-98a1-11ea-8d02-0242ac120007-3-4da2-9c77-127e",
       "next": "35c35a52-55a3-11e7-b0b2-00163e9c0e35-3-ed71-9007-f930",
       "previous": "8a48d90a-98a1-11ea-8d02-0242ac120007-3-0ebc-93ac-04b4"
      },
      {
       "current": "8a48dae0-98a1-11ea-8d02-0242ac120007-3-4da2-9c77-127e",
       "next": "2c2cd6ae-61bc-11ee-89fa-0242ac120005",
       "previous": "8a48d90a-98a1-11ea-8d02-0242ac120007-3-0ebc-93ac-04b4"
      },
      {
       "current": "8a48dae0-98a1-11ea-8d02-0242ac120007-4-4da2-9c77-127e-7d0f",
       "next": "2c2cd6ae-61bc-11ee-89fa-0242ac120005",
       "previous": "bb3e251e-61bc-11ee-89fa-0242ac120005"
      },
      {
       "current": "8a48dae0-98a1-11ea-8d02-0242ac120007-5-4da2-9c77-127e-7d0f-8ca7",
       "next": "2c2cd6ae-61bc-11ee-89fa-0242ac120005-1-f095",
       "previous": "bb3e251e-61bc-11ee-89fa-0242ac120005-1-2563"
      },
      {
       "current": "8a48dae0-98a1-11ea-8d02-0242ac120007-6-4da2-9c77-127e-7d0f-8ca7-b405",
       "next": "2c2cd6ae-61bc-11ee-89fa-0242ac120005-2-f095-bb4e",
       "previous": "bb3e251e-61bc-11ee-89fa-0242ac120005-2-2563-43c9"
      },
      {
       "current": "8a48dae0-98a1-11ea-8d02-0242ac120007-7-4da2-9c77-127e-7d0f-8ca7-b405-fb5b",
       "next": "2c2cd6ae-61bc-11ee-89fa-0242ac120005-3-f095-bb4e-818c",
       "previous": "bb3e251e-61bc-11ee-89fa-0242ac120005-3-2563-43c9-94a3"
      },
      {
       "current": "8a48dae0-98a1-11ea-8d02-0242ac120007-8-4da2-9c77-127e-7d0f-8ca7-b405-fb5b-1e18",
       "next": "2c2cd6ae-61bc-11ee-89fa-0242ac120005-4-f095-bb4e-818c-d8a0",
       "previous": "bb3e251e-61bc-11ee-89fa-0242ac120005-4-2563-43c9-94a3-6976"
      }
     ],
     "next": "2c2cd6ae-61bc-11ee-89fa-0242ac120005-5-f095-bb4e-818c-d8a0-c21f",
     "previous": "bb3e251e-61bc-11ee-89fa-0242ac120005-5-2563-43c9-94a3-6976-039e"
    }
   },
   "outputs": [],
   "source": [
    "target_node_list = []\n",
    "bootstrap_node = None\n",
    "for target_name in target_name_list:\n",
    "    for elem in node_list:\n",
    "        if elem['name'] == target_name:\n",
    "            target_node_list.append(elem)\n",
    "            break\n",
    "for elem in node_list:\n",
    "    if elem['name'] == bootstrap_node_name:\n",
    "        bootstrap_node = elem\n",
    "        break\n",
    "\n",
    "assert (len(target_node_list) > 0), \"指定されたターゲットノードが存在しません。\"\n",
    "assert (bootstrap_node is not None), \"指定されたBootstrap nodeが存在しません。\"\n",
    "\n",
    "print(bootstrap_node)"
   ]
  },
  {
   "cell_type": "code",
   "execution_count": null,
   "metadata": {
    "lc_cell_meme": {
     "current": "2c2cd6ae-61bc-11ee-89fa-0242ac120005-5-f095-bb4e-818c-d8a0-c21f",
     "history": [
      {
       "current": "2c2cd6ae-61bc-11ee-89fa-0242ac120005-1-f095",
       "next": "35c35a52-55a3-11e7-b0b2-00163e9c0e35-3-ed71-9007-f930",
       "previous": "8a48dae0-98a1-11ea-8d02-0242ac120007-3-4da2-9c77-127e"
      },
      {
       "current": "2c2cd6ae-61bc-11ee-89fa-0242ac120005-2-f095-bb4e",
       "next": "35c35a52-55a3-11e7-b0b2-00163e9c0e35-4-ed71-9007-f930-4a3a",
       "previous": "8a48dae0-98a1-11ea-8d02-0242ac120007-4-4da2-9c77-127e-7d0f"
      },
      {
       "current": "2c2cd6ae-61bc-11ee-89fa-0242ac120005-3-f095-bb4e-818c",
       "next": "35c35a52-55a3-11e7-b0b2-00163e9c0e35-5-ed71-9007-f930-4a3a-1e23",
       "previous": "8a48dae0-98a1-11ea-8d02-0242ac120007-5-4da2-9c77-127e-7d0f-8ca7"
      },
      {
       "current": "2c2cd6ae-61bc-11ee-89fa-0242ac120005-4-f095-bb4e-818c-d8a0",
       "next": "35c35a52-55a3-11e7-b0b2-00163e9c0e35-6-ed71-9007-f930-4a3a-1e23-a0c8",
       "previous": "8a48dae0-98a1-11ea-8d02-0242ac120007-6-4da2-9c77-127e-7d0f-8ca7-b405"
      },
      {
       "current": "2c2cd6ae-61bc-11ee-89fa-0242ac120005-5-f095-bb4e-818c-d8a0-c21f",
       "next": "35c35a52-55a3-11e7-b0b2-00163e9c0e35-7-ed71-9007-f930-4a3a-1e23-a0c8-27cb",
       "previous": "8a48dae0-98a1-11ea-8d02-0242ac120007-7-4da2-9c77-127e-7d0f-8ca7-b405-fb5b"
      }
     ],
     "next": "35c35a52-55a3-11e7-b0b2-00163e9c0e35-8-ed71-9007-f930-4a3a-1e23-a0c8-27cb-47cf",
     "previous": "8a48dae0-98a1-11ea-8d02-0242ac120007-8-4da2-9c77-127e-7d0f-8ca7-b405-fb5b-1e18"
    }
   },
   "outputs": [],
   "source": [
    "pd.DataFrame(target_node_list)"
   ]
  },
  {
   "cell_type": "markdown",
   "metadata": {
    "lc_cell_meme": {
     "current": "35c35a52-55a3-11e7-b0b2-00163e9c0e35-8-ed71-9007-f930-4a3a-1e23-a0c8-27cb-47cf",
     "history": [
      {
       "current": "35c35a52-55a3-11e7-b0b2-00163e9c0e35",
       "next": "35c35bf6-55a3-11e7-b0b2-00163e9c0e35",
       "previous": "35c358ae-55a3-11e7-b0b2-00163e9c0e35"
      },
      {
       "current": "35c35a52-55a3-11e7-b0b2-00163e9c0e35",
       "next": "35c35bf6-55a3-11e7-b0b2-00163e9c0e35",
       "previous": "690aae12-2871-11ea-b5b0-0242ac120004"
      },
      {
       "current": "35c35a52-55a3-11e7-b0b2-00163e9c0e35",
       "next": "35c35bf6-55a3-11e7-b0b2-00163e9c0e35",
       "previous": "1f202142-40d1-11ea-ab19-0242ac120004"
      },
      {
       "current": "35c35a52-55a3-11e7-b0b2-00163e9c0e35",
       "next": "35c35bf6-55a3-11e7-b0b2-00163e9c0e35",
       "previous": "690aae12-2871-11ea-b5b0-0242ac120004"
      },
      {
       "current": "35c35a52-55a3-11e7-b0b2-00163e9c0e35",
       "next": "35c35bf6-55a3-11e7-b0b2-00163e9c0e35",
       "previous": "35c358ae-55a3-11e7-b0b2-00163e9c0e35"
      },
      {
       "current": "35c35a52-55a3-11e7-b0b2-00163e9c0e35",
       "next": "35c35bf6-55a3-11e7-b0b2-00163e9c0e35",
       "previous": "29c91c64-2850-11ea-b5b0-0242ac120004"
      },
      {
       "current": "35c35a52-55a3-11e7-b0b2-00163e9c0e35",
       "next": "35c35bf6-55a3-11e7-b0b2-00163e9c0e35",
       "previous": "35c35552-55a3-11e7-b0b2-00163e9c0e35"
      },
      {
       "current": "35c35a52-55a3-11e7-b0b2-00163e9c0e35",
       "next": "35c35bf6-55a3-11e7-b0b2-00163e9c0e35",
       "previous": "81dd5320-9597-11ea-8d02-0242ac120007"
      },
      {
       "current": "35c35a52-55a3-11e7-b0b2-00163e9c0e35-1-ed71",
       "next": "35c35bf6-55a3-11e7-b0b2-00163e9c0e35",
       "previous": "46b9463a-95bc-11ea-8d02-0242ac120007"
      },
      {
       "current": "35c35a52-55a3-11e7-b0b2-00163e9c0e35-1-ed71",
       "next": "35c35bf6-55a3-11e7-b0b2-00163e9c0e35-1-4f76",
       "previous": "46b9463a-95bc-11ea-8d02-0242ac120007-1-777e"
      },
      {
       "current": "35c35a52-55a3-11e7-b0b2-00163e9c0e35-2-ed71-9007",
       "next": "35c35bf6-55a3-11e7-b0b2-00163e9c0e35-1-4f76",
       "previous": "e3624638-98a7-11ea-8d02-0242ac120007-1-0249"
      },
      {
       "current": "35c35a52-55a3-11e7-b0b2-00163e9c0e35-2-ed71-9007",
       "next": "35c35bf6-55a3-11e7-b0b2-00163e9c0e35-2-4f76-7f4b",
       "previous": "e3624638-98a7-11ea-8d02-0242ac120007-2-0249-59e8"
      },
      {
       "current": "35c35a52-55a3-11e7-b0b2-00163e9c0e35-2-ed71-9007",
       "next": "35c35bf6-55a3-11e7-b0b2-00163e9c0e35-2-4f76-7f4b",
       "previous": "445f39dc-def7-11eb-b29f-0242ac120008"
      },
      {
       "current": "35c35a52-55a3-11e7-b0b2-00163e9c0e35-2-ed71-9007",
       "next": "35c35bf6-55a3-11e7-b0b2-00163e9c0e35-2-4f76-7f4b",
       "previous": "445f36bc-def7-11eb-b29f-0242ac120008"
      },
      {
       "current": "35c35a52-55a3-11e7-b0b2-00163e9c0e35-2-ed71-9007",
       "next": "35c35bf6-55a3-11e7-b0b2-00163e9c0e35-2-4f76-7f4b",
       "previous": "1afe7e1c-def8-11eb-b29f-0242ac120008"
      },
      {
       "current": "35c35a52-55a3-11e7-b0b2-00163e9c0e35-3-ed71-9007-f930",
       "next": "35c35bf6-55a3-11e7-b0b2-00163e9c0e35-2-4f76-7f4b",
       "previous": "8a48dae0-98a1-11ea-8d02-0242ac120007-2-4da2-9c77"
      },
      {
       "current": "35c35a52-55a3-11e7-b0b2-00163e9c0e35-3-ed71-9007-f930",
       "next": "35c35bf6-55a3-11e7-b0b2-00163e9c0e35-3-4f76-7f4b-c54b",
       "previous": "8a48dae0-98a1-11ea-8d02-0242ac120007-3-4da2-9c77-127e"
      },
      {
       "current": "35c35a52-55a3-11e7-b0b2-00163e9c0e35-3-ed71-9007-f930",
       "next": "35c35bf6-55a3-11e7-b0b2-00163e9c0e35-3-4f76-7f4b-c54b",
       "previous": "2c2cd6ae-61bc-11ee-89fa-0242ac120005"
      },
      {
       "current": "35c35a52-55a3-11e7-b0b2-00163e9c0e35-4-ed71-9007-f930-4a3a",
       "next": "35c35f52-55a3-11e7-b0b2-00163e9c0e35-3-e2de-8a27-98e3",
       "previous": "2c2cd6ae-61bc-11ee-89fa-0242ac120005"
      },
      {
       "current": "35c35a52-55a3-11e7-b0b2-00163e9c0e35-5-ed71-9007-f930-4a3a-1e23",
       "next": "35c35f52-55a3-11e7-b0b2-00163e9c0e35-4-e2de-8a27-98e3-e317",
       "previous": "2c2cd6ae-61bc-11ee-89fa-0242ac120005-1-f095"
      },
      {
       "current": "35c35a52-55a3-11e7-b0b2-00163e9c0e35-6-ed71-9007-f930-4a3a-1e23-a0c8",
       "next": "35c35f52-55a3-11e7-b0b2-00163e9c0e35-5-e2de-8a27-98e3-e317-3831",
       "previous": "2c2cd6ae-61bc-11ee-89fa-0242ac120005-2-f095-bb4e"
      },
      {
       "current": "35c35a52-55a3-11e7-b0b2-00163e9c0e35-7-ed71-9007-f930-4a3a-1e23-a0c8-27cb",
       "next": "35c35f52-55a3-11e7-b0b2-00163e9c0e35-6-e2de-8a27-98e3-e317-3831-105a",
       "previous": "2c2cd6ae-61bc-11ee-89fa-0242ac120005-3-f095-bb4e-818c"
      },
      {
       "current": "35c35a52-55a3-11e7-b0b2-00163e9c0e35-8-ed71-9007-f930-4a3a-1e23-a0c8-27cb-47cf",
       "next": "35c35f52-55a3-11e7-b0b2-00163e9c0e35-7-e2de-8a27-98e3-e317-3831-105a-2df8",
       "previous": "2c2cd6ae-61bc-11ee-89fa-0242ac120005-4-f095-bb4e-818c-d8a0"
      }
     ],
     "next": "35c35f52-55a3-11e7-b0b2-00163e9c0e35-8-e2de-8a27-98e3-e317-3831-105a-2df8-34b0",
     "previous": "2c2cd6ae-61bc-11ee-89fa-0242ac120005-5-f095-bb4e-818c-d8a0-c21f"
    }
   },
   "source": [
    "## 一時Inventoryファイルの生成\n",
    "以下を実行し、作業用ディレクトリ配下に一時Inventoryファイルを生成する。"
   ]
  },
  {
   "cell_type": "markdown",
   "metadata": {
    "lc_cell_meme": {
     "current": "35c35f52-55a3-11e7-b0b2-00163e9c0e35-8-e2de-8a27-98e3-e317-3831-105a-2df8-34b0",
     "history": [
      {
       "current": "35c35f52-55a3-11e7-b0b2-00163e9c0e35",
       "next": "35c360f6-55a3-11e7-b0b2-00163e9c0e35",
       "previous": "35c35dae-55a3-11e7-b0b2-00163e9c0e35"
      },
      {
       "current": "35c35f52-55a3-11e7-b0b2-00163e9c0e35-1-e2de",
       "next": "a33430b0-9327-11ea-8d02-0242ac120007",
       "previous": "35c35dae-55a3-11e7-b0b2-00163e9c0e35"
      },
      {
       "current": "35c35f52-55a3-11e7-b0b2-00163e9c0e35-2-e2de-8a27",
       "next": "a33430b0-9327-11ea-8d02-0242ac120007-1-3202",
       "previous": "35c35dae-55a3-11e7-b0b2-00163e9c0e35-1-7091"
      },
      {
       "current": "35c35f52-55a3-11e7-b0b2-00163e9c0e35-3-e2de-8a27-98e3",
       "next": "a33430b0-9327-11ea-8d02-0242ac120007-2-3202-0bdc",
       "previous": "35c35dae-55a3-11e7-b0b2-00163e9c0e35-2-7091-7055"
      },
      {
       "current": "35c35f52-55a3-11e7-b0b2-00163e9c0e35-3-e2de-8a27-98e3",
       "next": "a33430b0-9327-11ea-8d02-0242ac120007-3-3202-0bdc-fd62",
       "previous": "35c35dae-55a3-11e7-b0b2-00163e9c0e35-3-7091-7055-1fd7"
      },
      {
       "current": "35c35f52-55a3-11e7-b0b2-00163e9c0e35-4-e2de-8a27-98e3-e317",
       "next": "a33430b0-9327-11ea-8d02-0242ac120007-3-3202-0bdc-fd62",
       "previous": "35c35a52-55a3-11e7-b0b2-00163e9c0e35-3-ed71-9007-f930"
      },
      {
       "current": "35c35f52-55a3-11e7-b0b2-00163e9c0e35-5-e2de-8a27-98e3-e317-3831",
       "next": "a33430b0-9327-11ea-8d02-0242ac120007-4-3202-0bdc-fd62-9d0c",
       "previous": "35c35a52-55a3-11e7-b0b2-00163e9c0e35-4-ed71-9007-f930-4a3a"
      },
      {
       "current": "35c35f52-55a3-11e7-b0b2-00163e9c0e35-6-e2de-8a27-98e3-e317-3831-105a",
       "next": "a33430b0-9327-11ea-8d02-0242ac120007-5-3202-0bdc-fd62-9d0c-03a1",
       "previous": "35c35a52-55a3-11e7-b0b2-00163e9c0e35-5-ed71-9007-f930-4a3a-1e23"
      },
      {
       "current": "35c35f52-55a3-11e7-b0b2-00163e9c0e35-7-e2de-8a27-98e3-e317-3831-105a-2df8",
       "next": "a33430b0-9327-11ea-8d02-0242ac120007-6-3202-0bdc-fd62-9d0c-03a1-1f0c",
       "previous": "35c35a52-55a3-11e7-b0b2-00163e9c0e35-6-ed71-9007-f930-4a3a-1e23-a0c8"
      },
      {
       "current": "35c35f52-55a3-11e7-b0b2-00163e9c0e35-8-e2de-8a27-98e3-e317-3831-105a-2df8-34b0",
       "next": "a33430b0-9327-11ea-8d02-0242ac120007-7-3202-0bdc-fd62-9d0c-03a1-1f0c-4074",
       "previous": "35c35a52-55a3-11e7-b0b2-00163e9c0e35-7-ed71-9007-f930-4a3a-1e23-a0c8-27cb"
      }
     ],
     "next": "a33430b0-9327-11ea-8d02-0242ac120007-8-3202-0bdc-fd62-9d0c-03a1-1f0c-4074-0c34",
     "previous": "35c35a52-55a3-11e7-b0b2-00163e9c0e35-8-ed71-9007-f930-4a3a-1e23-a0c8-27cb-47cf"
    }
   },
   "source": [
    "# Inventoryファイルを生成する。"
   ]
  },
  {
   "cell_type": "code",
   "execution_count": null,
   "metadata": {
    "lc_cell_meme": {
     "current": "a33430b0-9327-11ea-8d02-0242ac120007-8-3202-0bdc-fd62-9d0c-03a1-1f0c-4074-0c34",
     "history": [
      {
       "current": "a33430b0-9327-11ea-8d02-0242ac120007",
       "next": "35c360f6-55a3-11e7-b0b2-00163e9c0e35",
       "previous": "35c35f52-55a3-11e7-b0b2-00163e9c0e35"
      },
      {
       "current": "a33430b0-9327-11ea-8d02-0242ac120007-1-3202",
       "next": "9c0b8624-959f-11ea-8d02-0242ac120007",
       "previous": "35c35f52-55a3-11e7-b0b2-00163e9c0e35"
      },
      {
       "current": "a33430b0-9327-11ea-8d02-0242ac120007-2-3202-0bdc",
       "next": "9c0b8624-959f-11ea-8d02-0242ac120007-1-8098",
       "previous": "35c35f52-55a3-11e7-b0b2-00163e9c0e35-1-e2de"
      },
      {
       "current": "a33430b0-9327-11ea-8d02-0242ac120007-2-3202-0bdc",
       "next": "9c0b8624-959f-11ea-8d02-0242ac120007-2-8098-a371",
       "previous": "35c35f52-55a3-11e7-b0b2-00163e9c0e35-2-e2de-8a27"
      },
      {
       "current": "a33430b0-9327-11ea-8d02-0242ac120007-3-3202-0bdc-fd62",
       "next": "27f1be96-f4f0-11eb-b29f-0242ac120008",
       "previous": "35c35f52-55a3-11e7-b0b2-00163e9c0e35-2-e2de-8a27"
      },
      {
       "current": "a33430b0-9327-11ea-8d02-0242ac120007-3-3202-0bdc-fd62",
       "next": "27f1be96-f4f0-11eb-b29f-0242ac120008-1-0b6c",
       "previous": "35c35f52-55a3-11e7-b0b2-00163e9c0e35-3-e2de-8a27-98e3"
      },
      {
       "current": "a33430b0-9327-11ea-8d02-0242ac120007-4-3202-0bdc-fd62-9d0c",
       "next": "73b1e49c-61bc-11ee-89fa-0242ac120005",
       "previous": "35c35f52-55a3-11e7-b0b2-00163e9c0e35-3-e2de-8a27-98e3"
      },
      {
       "current": "a33430b0-9327-11ea-8d02-0242ac120007-5-3202-0bdc-fd62-9d0c-03a1",
       "next": "73b1e49c-61bc-11ee-89fa-0242ac120005-1-e2da",
       "previous": "35c35f52-55a3-11e7-b0b2-00163e9c0e35-4-e2de-8a27-98e3-e317"
      },
      {
       "current": "a33430b0-9327-11ea-8d02-0242ac120007-6-3202-0bdc-fd62-9d0c-03a1-1f0c",
       "next": "73b1e49c-61bc-11ee-89fa-0242ac120005-2-e2da-849f",
       "previous": "35c35f52-55a3-11e7-b0b2-00163e9c0e35-5-e2de-8a27-98e3-e317-3831"
      },
      {
       "current": "a33430b0-9327-11ea-8d02-0242ac120007-7-3202-0bdc-fd62-9d0c-03a1-1f0c-4074",
       "next": "73b1e49c-61bc-11ee-89fa-0242ac120005-3-e2da-849f-a569",
       "previous": "35c35f52-55a3-11e7-b0b2-00163e9c0e35-6-e2de-8a27-98e3-e317-3831-105a"
      },
      {
       "current": "a33430b0-9327-11ea-8d02-0242ac120007-8-3202-0bdc-fd62-9d0c-03a1-1f0c-4074-0c34",
       "next": "73b1e49c-61bc-11ee-89fa-0242ac120005-4-e2da-849f-a569-7a04",
       "previous": "35c35f52-55a3-11e7-b0b2-00163e9c0e35-7-e2de-8a27-98e3-e317-3831-105a-2df8"
      }
     ],
     "next": "73b1e49c-61bc-11ee-89fa-0242ac120005-5-e2da-849f-a569-7a04-3e4c",
     "previous": "35c35f52-55a3-11e7-b0b2-00163e9c0e35-8-e2de-8a27-98e3-e317-3831-105a-2df8-34b0"
    }
   },
   "outputs": [],
   "source": [
    "node_user='xxxxx'\n",
    "cephadmin_user='cephadmin'\n",
    "node_key='~/.ssh/id_ras'\n",
    "proxy_user='xxxxx'\n",
    "proxy_key='~/.ssh/id_ras'"
   ]
  },
  {
   "cell_type": "code",
   "execution_count": null,
   "metadata": {
    "lc_cell_meme": {
     "current": "73b1e49c-61bc-11ee-89fa-0242ac120005-5-e2da-849f-a569-7a04-3e4c",
     "history": [
      {
       "current": "73b1e49c-61bc-11ee-89fa-0242ac120005",
       "next": "35c360f6-55a3-11e7-b0b2-00163e9c0e35-3-4a79-f9ba-754f",
       "previous": "9c0b8624-959f-11ea-8d02-0242ac120007-3-8098-a371-0b4a"
      },
      {
       "current": "73b1e49c-61bc-11ee-89fa-0242ac120005-1-e2da",
       "next": "35c360f6-55a3-11e7-b0b2-00163e9c0e35-3-4a79-f9ba-754f",
       "previous": "a33430b0-9327-11ea-8d02-0242ac120007-3-3202-0bdc-fd62"
      },
      {
       "current": "73b1e49c-61bc-11ee-89fa-0242ac120005-2-e2da-849f",
       "next": "35c360f6-55a3-11e7-b0b2-00163e9c0e35-4-4a79-f9ba-754f-48d3",
       "previous": "a33430b0-9327-11ea-8d02-0242ac120007-4-3202-0bdc-fd62-9d0c"
      },
      {
       "current": "73b1e49c-61bc-11ee-89fa-0242ac120005-3-e2da-849f-a569",
       "next": "35c360f6-55a3-11e7-b0b2-00163e9c0e35-5-4a79-f9ba-754f-48d3-efb1",
       "previous": "a33430b0-9327-11ea-8d02-0242ac120007-5-3202-0bdc-fd62-9d0c-03a1"
      },
      {
       "current": "73b1e49c-61bc-11ee-89fa-0242ac120005-4-e2da-849f-a569-7a04",
       "next": "35c360f6-55a3-11e7-b0b2-00163e9c0e35-6-4a79-f9ba-754f-48d3-efb1-0594",
       "previous": "a33430b0-9327-11ea-8d02-0242ac120007-6-3202-0bdc-fd62-9d0c-03a1-1f0c"
      },
      {
       "current": "73b1e49c-61bc-11ee-89fa-0242ac120005-5-e2da-849f-a569-7a04-3e4c",
       "next": "35c360f6-55a3-11e7-b0b2-00163e9c0e35-7-4a79-f9ba-754f-48d3-efb1-0594-919b",
       "previous": "a33430b0-9327-11ea-8d02-0242ac120007-7-3202-0bdc-fd62-9d0c-03a1-1f0c-4074"
      }
     ],
     "next": "35c360f6-55a3-11e7-b0b2-00163e9c0e35-8-4a79-f9ba-754f-48d3-efb1-0594-919b-d631",
     "previous": "a33430b0-9327-11ea-8d02-0242ac120007-8-3202-0bdc-fd62-9d0c-03a1-1f0c-4074-0c34"
    }
   },
   "outputs": [],
   "source": [
    "bootstrap_ip = bootstrap_node['prov_ip']"
   ]
  },
  {
   "cell_type": "code",
   "execution_count": null,
   "metadata": {
    "ExecuteTime": {
     "end_time": "2017-06-29T08:50:39.909299Z",
     "start_time": "2017-06-29T08:50:39.762658Z"
    },
    "lc_cell_meme": {
     "current": "35c360f6-55a3-11e7-b0b2-00163e9c0e35-8-4a79-f9ba-754f-48d3-efb1-0594-919b-d631",
     "history": [
      {
       "current": "35c360f6-55a3-11e7-b0b2-00163e9c0e35",
       "next": "35c362a4-55a3-11e7-b0b2-00163e9c0e35",
       "previous": "35c35f52-55a3-11e7-b0b2-00163e9c0e35"
      },
      {
       "current": "35c360f6-55a3-11e7-b0b2-00163e9c0e35",
       "next": "35c362a4-55a3-11e7-b0b2-00163e9c0e35",
       "previous": "a33430b0-9327-11ea-8d02-0242ac120007"
      },
      {
       "current": "35c360f6-55a3-11e7-b0b2-00163e9c0e35-1-4a79",
       "next": "35c362a4-55a3-11e7-b0b2-00163e9c0e35",
       "previous": "9c0b88cc-959f-11ea-8d02-0242ac120007"
      },
      {
       "current": "35c360f6-55a3-11e7-b0b2-00163e9c0e35-2-4a79-f9ba",
       "next": "35c362a4-55a3-11e7-b0b2-00163e9c0e35-1-3f0a",
       "previous": "9c0b88cc-959f-11ea-8d02-0242ac120007-1-b077"
      },
      {
       "current": "35c360f6-55a3-11e7-b0b2-00163e9c0e35-2-4a79-f9ba",
       "next": "35c362a4-55a3-11e7-b0b2-00163e9c0e35-2-3f0a-3633",
       "previous": "9c0b88cc-959f-11ea-8d02-0242ac120007-2-b077-046d"
      },
      {
       "current": "35c360f6-55a3-11e7-b0b2-00163e9c0e35-2-4a79-f9ba",
       "next": "7dae8996-9686-11ea-8d02-0242ac120007-2-20c5-a0b0",
       "previous": "9c0b88cc-959f-11ea-8d02-0242ac120007-2-b077-046d"
      },
      {
       "current": "35c360f6-55a3-11e7-b0b2-00163e9c0e35-2-4a79-f9ba",
       "next": "35c362a4-55a3-11e7-b0b2-00163e9c0e35-2-89a7-98f2",
       "previous": "9c0b88cc-959f-11ea-8d02-0242ac120007-2-b077-046d"
      },
      {
       "current": "35c360f6-55a3-11e7-b0b2-00163e9c0e35-3-4a79-f9ba-754f",
       "next": "35c362a4-55a3-11e7-b0b2-00163e9c0e35-2-89a7-98f2",
       "previous": "9c0b8624-959f-11ea-8d02-0242ac120007-2-8098-a371"
      },
      {
       "current": "35c360f6-55a3-11e7-b0b2-00163e9c0e35-3-4a79-f9ba-754f",
       "next": "35c362a4-55a3-11e7-b0b2-00163e9c0e35-3-89a7-98f2-5cf2",
       "previous": "9c0b8624-959f-11ea-8d02-0242ac120007-3-8098-a371-0b4a"
      },
      {
       "current": "35c360f6-55a3-11e7-b0b2-00163e9c0e35-4-4a79-f9ba-754f-48d3",
       "next": "35c362a4-55a3-11e7-b0b2-00163e9c0e35-3-89a7-98f2-5cf2",
       "previous": "73b1e49c-61bc-11ee-89fa-0242ac120005"
      },
      {
       "current": "35c360f6-55a3-11e7-b0b2-00163e9c0e35-5-4a79-f9ba-754f-48d3-efb1",
       "next": "35c362a4-55a3-11e7-b0b2-00163e9c0e35-4-89a7-98f2-5cf2-cf92",
       "previous": "73b1e49c-61bc-11ee-89fa-0242ac120005-1-e2da"
      },
      {
       "current": "35c360f6-55a3-11e7-b0b2-00163e9c0e35-6-4a79-f9ba-754f-48d3-efb1-0594",
       "next": "35c362a4-55a3-11e7-b0b2-00163e9c0e35-5-89a7-98f2-5cf2-cf92-f4ac",
       "previous": "73b1e49c-61bc-11ee-89fa-0242ac120005-2-e2da-849f"
      },
      {
       "current": "35c360f6-55a3-11e7-b0b2-00163e9c0e35-6-4a79-f9ba-754f-48d3-efb1-0594",
       "next": "35c362a4-55a3-11e7-b0b2-00163e9c0e35-6-89a7-98f2-5cf2-cf92-f4ac-9c9d",
       "previous": "73b1e49c-61bc-11ee-89fa-0242ac120005-3-e2da-849f-a569"
      },
      {
       "current": "35c360f6-55a3-11e7-b0b2-00163e9c0e35-7-4a79-f9ba-754f-48d3-efb1-0594-919b",
       "next": "274e1e50-1cd7-11ef-ad2f-0242ac120005",
       "previous": "73b1e49c-61bc-11ee-89fa-0242ac120005-3-e2da-849f-a569"
      },
      {
       "current": "35c360f6-55a3-11e7-b0b2-00163e9c0e35-8-4a79-f9ba-754f-48d3-efb1-0594-919b-d631",
       "next": "274e1e50-1cd7-11ef-ad2f-0242ac120005-1-ba9b",
       "previous": "73b1e49c-61bc-11ee-89fa-0242ac120005-4-e2da-849f-a569-7a04"
      }
     ],
     "next": "274e1e50-1cd7-11ef-ad2f-0242ac120005-2-ba9b-2988",
     "previous": "73b1e49c-61bc-11ee-89fa-0242ac120005-5-e2da-849f-a569-7a04-3e4c"
    },
    "run_control": {
     "frozen": true
    },
    "scrolled": false
   },
   "outputs": [],
   "source": [
    "import os\n",
    "\n",
    "with open( os.path.join(temp_dir, \"hosts\"), 'w') as f:\n",
    "\n",
    "    f.write('''[ceph_admin]\n",
    "{ceph_admin_ip} ansible_user={proxy_user} ansible_ssh_private_key_file={proxy_key} ansible_python_interpreter=/usr/bin/python3\n",
    "'''.format(ceph_admin_ip=ceph_admin_ip, proxy_user=proxy_user, proxy_key=proxy_key, bootstrap_ip=bootstrap_ip))\n",
    "\n",
    "    f.write('''[bootstrap]\n",
    "{node_ip} ansible_user={node_user} ansible_ssh_private_key_file={node_key} ansible_ssh_common_args='-o ControlMaster=auto -o StrictHostKeyChecking=no -o ControlPersist=30m -o ProxyCommand=\"ssh -W %h:%p -i {proxy_key} -q {proxy_user}@{ceph_admin_ip}\"' ansible_python_interpreter=/usr/bin/python3\n",
    "[ceph_nodes]\n",
    "'''.format(ceph_admin_ip=ceph_admin_ip, node_ip=bootstrap_ip, node_key=node_key,\n",
    "           node_user=node_user, proxy_user=proxy_user, proxy_key=proxy_key))\n",
    "    \n",
    "    for node in target_node_list:\n",
    "        node_ip = node['prov_ip']\n",
    "        f.write('''{node_ip} ansible_user={node_user} ansible_ssh_private_key_file={node_key} ansible_ssh_common_args='-o ControlMaster=auto -o StrictHostKeyChecking=no -o ControlPersist=30m -o ProxyCommand=\"ssh -W %h:%p -i {proxy_key} -q {proxy_user}@{ceph_admin_ip}\"' ansible_python_interpreter=/usr/bin/python3\n",
    "'''.format(ceph_admin_ip=ceph_admin_ip, node_ip=node_ip, node_key=node_key,\n",
    "           node_user=node_user, proxy_user=proxy_user, proxy_key=proxy_key))\n",
    "\n",
    "hosts = temp_dir + \"/hosts\"\n",
    "\n",
    "!cat $hosts"
   ]
  },
  {
   "cell_type": "code",
   "execution_count": null,
   "metadata": {
    "lc_cell_meme": {
     "current": "274e1e50-1cd7-11ef-ad2f-0242ac120005-2-ba9b-2988",
     "history": [
      {
       "current": "274e1e50-1cd7-11ef-ad2f-0242ac120005-1-ba9b",
       "next": "35c362a4-55a3-11e7-b0b2-00163e9c0e35-6-89a7-98f2-5cf2-cf92-f4ac-9c9d",
       "previous": "35c360f6-55a3-11e7-b0b2-00163e9c0e35-6-4a79-f9ba-754f-48d3-efb1-0594"
      },
      {
       "current": "274e1e50-1cd7-11ef-ad2f-0242ac120005-2-ba9b-2988",
       "next": "35c362a4-55a3-11e7-b0b2-00163e9c0e35-7-89a7-98f2-5cf2-cf92-f4ac-9c9d-2660",
       "previous": "35c360f6-55a3-11e7-b0b2-00163e9c0e35-7-4a79-f9ba-754f-48d3-efb1-0594-919b"
      }
     ],
     "next": "35c362a4-55a3-11e7-b0b2-00163e9c0e35-8-89a7-98f2-5cf2-cf92-f4ac-9c9d-2660-fdde",
     "previous": "35c360f6-55a3-11e7-b0b2-00163e9c0e35-8-4a79-f9ba-754f-48d3-efb1-0594-919b-d631"
    }
   },
   "outputs": [],
   "source": [
    "%env ANSIBLE_INVENTORY={hosts}"
   ]
  },
  {
   "cell_type": "markdown",
   "metadata": {
    "lc_cell_meme": {
     "current": "35c362a4-55a3-11e7-b0b2-00163e9c0e35-8-89a7-98f2-5cf2-cf92-f4ac-9c9d-2660-fdde",
     "history": [
      {
       "current": "35c362a4-55a3-11e7-b0b2-00163e9c0e35",
       "next": "35c36448-55a3-11e7-b0b2-00163e9c0e35",
       "previous": "35c360f6-55a3-11e7-b0b2-00163e9c0e35"
      },
      {
       "current": "35c362a4-55a3-11e7-b0b2-00163e9c0e35",
       "next": "35c36448-55a3-11e7-b0b2-00163e9c0e35",
       "previous": "4cd5b0cc-7ef5-11ea-a926-0242ac120004"
      },
      {
       "current": "35c362a4-55a3-11e7-b0b2-00163e9c0e35",
       "next": "35c36448-55a3-11e7-b0b2-00163e9c0e35",
       "previous": "db546a28-7ef5-11ea-a926-0242ac120004"
      },
      {
       "current": "35c362a4-55a3-11e7-b0b2-00163e9c0e35",
       "next": "35c36448-55a3-11e7-b0b2-00163e9c0e35",
       "previous": "4cd5af28-7ef5-11ea-a926-0242ac120004"
      },
      {
       "current": "35c362a4-55a3-11e7-b0b2-00163e9c0e35",
       "next": "35c36448-55a3-11e7-b0b2-00163e9c0e35",
       "previous": "7d464504-9107-11ea-8d02-0242ac120007"
      },
      {
       "current": "35c362a4-55a3-11e7-b0b2-00163e9c0e35",
       "next": "35c36448-55a3-11e7-b0b2-00163e9c0e35",
       "previous": "bd797188-910b-11ea-8d02-0242ac120007"
      },
      {
       "current": "35c362a4-55a3-11e7-b0b2-00163e9c0e35",
       "next": "35c36448-55a3-11e7-b0b2-00163e9c0e35",
       "previous": "70b95056-9111-11ea-8d02-0242ac120007"
      },
      {
       "current": "35c362a4-55a3-11e7-b0b2-00163e9c0e35",
       "next": "35c36448-55a3-11e7-b0b2-00163e9c0e35",
       "previous": "bd797188-910b-11ea-8d02-0242ac120007"
      },
      {
       "current": "35c362a4-55a3-11e7-b0b2-00163e9c0e35",
       "next": "bd797188-910b-11ea-8d02-0242ac120007",
       "previous": "4cd5af28-7ef5-11ea-a926-0242ac120004"
      },
      {
       "current": "35c362a4-55a3-11e7-b0b2-00163e9c0e35",
       "next": "484c7376-935c-11ea-8d02-0242ac120007",
       "previous": "4cd5af28-7ef5-11ea-a926-0242ac120004"
      },
      {
       "current": "35c362a4-55a3-11e7-b0b2-00163e9c0e35-1-89a7",
       "next": "bd797188-910b-11ea-8d02-0242ac120007",
       "previous": "4cd5af28-7ef5-11ea-a926-0242ac120004"
      },
      {
       "current": "35c362a4-55a3-11e7-b0b2-00163e9c0e35-2-89a7-98f2",
       "next": "bd797188-910b-11ea-8d02-0242ac120007-1-728a",
       "previous": "4cd5af28-7ef5-11ea-a926-0242ac120004-1-726b"
      },
      {
       "current": "35c362a4-55a3-11e7-b0b2-00163e9c0e35-2-89a7-98f2",
       "next": "bd797188-910b-11ea-8d02-0242ac120007-2-728a-254c",
       "previous": "4cd5af28-7ef5-11ea-a926-0242ac120004-2-726b-a0d6"
      },
      {
       "current": "35c362a4-55a3-11e7-b0b2-00163e9c0e35-2-89a7-98f2",
       "next": "bd797188-910b-11ea-8d02-0242ac120007-2-728a-254c",
       "previous": "35c360f6-55a3-11e7-b0b2-00163e9c0e35-2-4a79-f9ba"
      },
      {
       "current": "35c362a4-55a3-11e7-b0b2-00163e9c0e35-3-89a7-98f2-5cf2",
       "next": "ef4d2888-aa17-11ea-9ad4-0242ac120006-1-42b7",
       "previous": "35c360f6-55a3-11e7-b0b2-00163e9c0e35-2-4a79-f9ba"
      },
      {
       "current": "35c362a4-55a3-11e7-b0b2-00163e9c0e35-4-89a7-98f2-5cf2-cf92",
       "next": "ef4d2888-aa17-11ea-9ad4-0242ac120006-2-42b7-b07a",
       "previous": "35c360f6-55a3-11e7-b0b2-00163e9c0e35-3-4a79-f9ba-754f"
      },
      {
       "current": "35c362a4-55a3-11e7-b0b2-00163e9c0e35-5-89a7-98f2-5cf2-cf92-f4ac",
       "next": "ef4d2888-aa17-11ea-9ad4-0242ac120006-3-42b7-b07a-46ce",
       "previous": "35c360f6-55a3-11e7-b0b2-00163e9c0e35-4-4a79-f9ba-754f-48d3"
      },
      {
       "current": "35c362a4-55a3-11e7-b0b2-00163e9c0e35-6-89a7-98f2-5cf2-cf92-f4ac-9c9d",
       "next": "ef4d2888-aa17-11ea-9ad4-0242ac120006-4-42b7-b07a-46ce-05ce",
       "previous": "35c360f6-55a3-11e7-b0b2-00163e9c0e35-5-4a79-f9ba-754f-48d3-efb1"
      },
      {
       "current": "35c362a4-55a3-11e7-b0b2-00163e9c0e35-6-89a7-98f2-5cf2-cf92-f4ac-9c9d",
       "next": "ef4d2888-aa17-11ea-9ad4-0242ac120006-5-42b7-b07a-46ce-05ce-7f26",
       "previous": "35c360f6-55a3-11e7-b0b2-00163e9c0e35-6-4a79-f9ba-754f-48d3-efb1-0594"
      },
      {
       "current": "35c362a4-55a3-11e7-b0b2-00163e9c0e35-7-89a7-98f2-5cf2-cf92-f4ac-9c9d-2660",
       "next": "ef4d2888-aa17-11ea-9ad4-0242ac120006-5-42b7-b07a-46ce-05ce-7f26",
       "previous": "274e1e50-1cd7-11ef-ad2f-0242ac120005"
      },
      {
       "current": "35c362a4-55a3-11e7-b0b2-00163e9c0e35-8-89a7-98f2-5cf2-cf92-f4ac-9c9d-2660-fdde",
       "next": "ef4d2888-aa17-11ea-9ad4-0242ac120006-6-42b7-b07a-46ce-05ce-7f26-b46f",
       "previous": "274e1e50-1cd7-11ef-ad2f-0242ac120005-1-ba9b"
      }
     ],
     "next": "ef4d2888-aa17-11ea-9ad4-0242ac120006-7-42b7-b07a-46ce-05ce-7f26-b46f-bad4",
     "previous": "274e1e50-1cd7-11ef-ad2f-0242ac120005-2-ba9b-2988"
    }
   },
   "source": [
    "## 疎通確認\n",
    "以下コマンドを実行し、OpeHubからCephAdmin経由で、Cephノードに疎通することを確認する。"
   ]
  },
  {
   "cell_type": "code",
   "execution_count": null,
   "metadata": {
    "lc_cell_meme": {
     "current": "ef4d2888-aa17-11ea-9ad4-0242ac120006-7-42b7-b07a-46ce-05ce-7f26-b46f-bad4",
     "history": [
      {
       "current": "ef4d2888-aa17-11ea-9ad4-0242ac120006-1-42b7",
       "next": "ac56a252-95bd-11ea-8d02-0242ac120007-1-86ee",
       "previous": "bd797188-910b-11ea-8d02-0242ac120007-1-728a"
      },
      {
       "current": "ef4d2888-aa17-11ea-9ad4-0242ac120006-1-42b7",
       "next": "ac56a252-95bd-11ea-8d02-0242ac120007-2-86ee-3a22",
       "previous": "bd797188-910b-11ea-8d02-0242ac120007-2-728a-254c"
      },
      {
       "current": "ef4d2888-aa17-11ea-9ad4-0242ac120006-1-42b7",
       "next": "bd797188-910b-11ea-8d02-0242ac120007-2-728a-254c",
       "previous": "35c362a4-55a3-11e7-b0b2-00163e9c0e35-2-89a7-98f2"
      },
      {
       "current": "ef4d2888-aa17-11ea-9ad4-0242ac120006-2-42b7-b07a",
       "next": "e3856a36-df01-11eb-b29f-0242ac120008",
       "previous": "35c362a4-55a3-11e7-b0b2-00163e9c0e35-2-89a7-98f2"
      },
      {
       "current": "ef4d2888-aa17-11ea-9ad4-0242ac120006-2-42b7-b07a",
       "next": "e3856a36-df01-11eb-b29f-0242ac120008-1-d6f1",
       "previous": "35c362a4-55a3-11e7-b0b2-00163e9c0e35-3-89a7-98f2-5cf2"
      },
      {
       "current": "ef4d2888-aa17-11ea-9ad4-0242ac120006-3-42b7-b07a-46ce",
       "next": "bd797188-910b-11ea-8d02-0242ac120007-3-728a-254c-2f4c",
       "previous": "35c362a4-55a3-11e7-b0b2-00163e9c0e35-3-89a7-98f2-5cf2"
      },
      {
       "current": "ef4d2888-aa17-11ea-9ad4-0242ac120006-4-42b7-b07a-46ce-05ce",
       "next": "bd797188-910b-11ea-8d02-0242ac120007-4-728a-254c-2f4c-6cad",
       "previous": "35c362a4-55a3-11e7-b0b2-00163e9c0e35-4-89a7-98f2-5cf2-cf92"
      },
      {
       "current": "ef4d2888-aa17-11ea-9ad4-0242ac120006-5-42b7-b07a-46ce-05ce-7f26",
       "next": "bd797188-910b-11ea-8d02-0242ac120007-5-728a-254c-2f4c-6cad-d138",
       "previous": "35c362a4-55a3-11e7-b0b2-00163e9c0e35-5-89a7-98f2-5cf2-cf92-f4ac"
      },
      {
       "current": "ef4d2888-aa17-11ea-9ad4-0242ac120006-6-42b7-b07a-46ce-05ce-7f26-b46f",
       "next": "bd797188-910b-11ea-8d02-0242ac120007-6-728a-254c-2f4c-6cad-d138-f48a",
       "previous": "35c362a4-55a3-11e7-b0b2-00163e9c0e35-6-89a7-98f2-5cf2-cf92-f4ac-9c9d"
      },
      {
       "current": "ef4d2888-aa17-11ea-9ad4-0242ac120006-7-42b7-b07a-46ce-05ce-7f26-b46f-bad4",
       "next": "bd797188-910b-11ea-8d02-0242ac120007-7-728a-254c-2f4c-6cad-d138-f48a-b40d",
       "previous": "35c362a4-55a3-11e7-b0b2-00163e9c0e35-7-89a7-98f2-5cf2-cf92-f4ac-9c9d-2660"
      }
     ],
     "next": "bd797188-910b-11ea-8d02-0242ac120007-8-728a-254c-2f4c-6cad-d138-f48a-b40d-d1f5",
     "previous": "35c362a4-55a3-11e7-b0b2-00163e9c0e35-8-89a7-98f2-5cf2-cf92-f4ac-9c9d-2660-fdde"
    }
   },
   "outputs": [],
   "source": [
    "!ansible -b -m shell -a 'hostname' ceph_admin"
   ]
  },
  {
   "cell_type": "code",
   "execution_count": null,
   "metadata": {
    "lc_cell_meme": {
     "current": "bd797188-910b-11ea-8d02-0242ac120007-8-728a-254c-2f4c-6cad-d138-f48a-b40d-d1f5",
     "history": [
      {
       "current": "bd797188-910b-11ea-8d02-0242ac120007",
       "next": "35c362a4-55a3-11e7-b0b2-00163e9c0e35",
       "previous": "7d464504-9107-11ea-8d02-0242ac120007"
      },
      {
       "current": "bd797188-910b-11ea-8d02-0242ac120007",
       "next": "70b95056-9111-11ea-8d02-0242ac120007",
       "previous": "7d464504-9107-11ea-8d02-0242ac120007"
      },
      {
       "current": "bd797188-910b-11ea-8d02-0242ac120007",
       "next": "35c362a4-55a3-11e7-b0b2-00163e9c0e35",
       "previous": "7d464504-9107-11ea-8d02-0242ac120007"
      },
      {
       "current": "bd797188-910b-11ea-8d02-0242ac120007",
       "next": "35c362a4-55a3-11e7-b0b2-00163e9c0e35",
       "previous": "4cd5af28-7ef5-11ea-a926-0242ac120004"
      },
      {
       "current": "bd797188-910b-11ea-8d02-0242ac120007",
       "next": "35c36448-55a3-11e7-b0b2-00163e9c0e35",
       "previous": "35c362a4-55a3-11e7-b0b2-00163e9c0e35"
      },
      {
       "current": "bd797188-910b-11ea-8d02-0242ac120007",
       "next": "35c3783e-55a3-11e7-b0b2-00163e9c0e35",
       "previous": "35c362a4-55a3-11e7-b0b2-00163e9c0e35"
      },
      {
       "current": "bd797188-910b-11ea-8d02-0242ac120007",
       "next": "35c3783e-55a3-11e7-b0b2-00163e9c0e35",
       "previous": "484c7376-935c-11ea-8d02-0242ac120007"
      },
      {
       "current": "bd797188-910b-11ea-8d02-0242ac120007",
       "next": "35c3783e-55a3-11e7-b0b2-00163e9c0e35",
       "previous": "35c362a4-55a3-11e7-b0b2-00163e9c0e35"
      },
      {
       "current": "bd797188-910b-11ea-8d02-0242ac120007-1-728a",
       "next": "ac56a252-95bd-11ea-8d02-0242ac120007",
       "previous": "35c362a4-55a3-11e7-b0b2-00163e9c0e35"
      },
      {
       "current": "bd797188-910b-11ea-8d02-0242ac120007-1-728a",
       "next": "ac56a252-95bd-11ea-8d02-0242ac120007-1-86ee",
       "previous": "35c362a4-55a3-11e7-b0b2-00163e9c0e35-1-89a7"
      },
      {
       "current": "bd797188-910b-11ea-8d02-0242ac120007-2-728a-254c",
       "next": "ef4d2888-aa17-11ea-9ad4-0242ac120006",
       "previous": "35c362a4-55a3-11e7-b0b2-00163e9c0e35-1-89a7"
      },
      {
       "current": "bd797188-910b-11ea-8d02-0242ac120007-2-728a-254c",
       "next": "ef4d2888-aa17-11ea-9ad4-0242ac120006-1-42b7",
       "previous": "35c362a4-55a3-11e7-b0b2-00163e9c0e35-2-89a7-98f2"
      },
      {
       "current": "bd797188-910b-11ea-8d02-0242ac120007-2-728a-254c",
       "next": "ac56a252-95bd-11ea-8d02-0242ac120007-2-86ee-3a22",
       "previous": "ef4d2888-aa17-11ea-9ad4-0242ac120006-1-42b7"
      },
      {
       "current": "bd797188-910b-11ea-8d02-0242ac120007-2-728a-254c",
       "next": "ac56a252-95bd-11ea-8d02-0242ac120007-2-86ee-3a22",
       "previous": "e3856a36-df01-11eb-b29f-0242ac120008"
      },
      {
       "current": "bd797188-910b-11ea-8d02-0242ac120007-3-728a-254c-2f4c",
       "next": "21d849e2-dfd0-11eb-b29f-0242ac120008",
       "previous": "e3856a36-df01-11eb-b29f-0242ac120008"
      },
      {
       "current": "bd797188-910b-11ea-8d02-0242ac120007-3-728a-254c-2f4c",
       "next": "21d849e2-dfd0-11eb-b29f-0242ac120008-1-ee1b",
       "previous": "e3856a36-df01-11eb-b29f-0242ac120008-1-d6f1"
      },
      {
       "current": "bd797188-910b-11ea-8d02-0242ac120007-4-728a-254c-2f4c-6cad",
       "next": "21d849e2-dfd0-11eb-b29f-0242ac120008-1-ee1b",
       "previous": "ef4d2888-aa17-11ea-9ad4-0242ac120006-2-42b7-b07a"
      },
      {
       "current": "bd797188-910b-11ea-8d02-0242ac120007-5-728a-254c-2f4c-6cad-d138",
       "next": "21d849e2-dfd0-11eb-b29f-0242ac120008-2-ee1b-c777",
       "previous": "ef4d2888-aa17-11ea-9ad4-0242ac120006-3-42b7-b07a-46ce"
      },
      {
       "current": "bd797188-910b-11ea-8d02-0242ac120007-6-728a-254c-2f4c-6cad-d138-f48a",
       "next": "21d849e2-dfd0-11eb-b29f-0242ac120008-3-ee1b-c777-449a",
       "previous": "ef4d2888-aa17-11ea-9ad4-0242ac120006-4-42b7-b07a-46ce-05ce"
      },
      {
       "current": "bd797188-910b-11ea-8d02-0242ac120007-7-728a-254c-2f4c-6cad-d138-f48a-b40d",
       "next": "21d849e2-dfd0-11eb-b29f-0242ac120008-4-ee1b-c777-449a-e91b",
       "previous": "ef4d2888-aa17-11ea-9ad4-0242ac120006-5-42b7-b07a-46ce-05ce-7f26"
      },
      {
       "current": "bd797188-910b-11ea-8d02-0242ac120007-8-728a-254c-2f4c-6cad-d138-f48a-b40d-d1f5",
       "next": "21d849e2-dfd0-11eb-b29f-0242ac120008-5-ee1b-c777-449a-e91b-b7db",
       "previous": "ef4d2888-aa17-11ea-9ad4-0242ac120006-6-42b7-b07a-46ce-05ce-7f26-b46f"
      }
     ],
     "next": "21d849e2-dfd0-11eb-b29f-0242ac120008-6-ee1b-c777-449a-e91b-b7db-6a0f",
     "previous": "ef4d2888-aa17-11ea-9ad4-0242ac120006-7-42b7-b07a-46ce-05ce-7f26-b46f-bad4"
    }
   },
   "outputs": [],
   "source": [
    "!ansible -b -m shell -a 'hostname' ceph_nodes"
   ]
  },
  {
   "cell_type": "code",
   "execution_count": null,
   "metadata": {
    "lc_cell_meme": {
     "current": "21d849e2-dfd0-11eb-b29f-0242ac120008-6-ee1b-c777-449a-e91b-b7db-6a0f",
     "history": [
      {
       "current": "21d849e2-dfd0-11eb-b29f-0242ac120008-1-ee1b",
       "next": "ac56a252-95bd-11ea-8d02-0242ac120007-2-86ee-3a22",
       "previous": "bd797188-910b-11ea-8d02-0242ac120007-2-728a-254c"
      },
      {
       "current": "21d849e2-dfd0-11eb-b29f-0242ac120008-1-ee1b",
       "next": "ac56a252-95bd-11ea-8d02-0242ac120007-3-86ee-3a22-9a71",
       "previous": "bd797188-910b-11ea-8d02-0242ac120007-3-728a-254c-2f4c"
      },
      {
       "current": "21d849e2-dfd0-11eb-b29f-0242ac120008-2-ee1b-c777",
       "next": "91d0d70c-61bd-11ee-89fa-0242ac120005",
       "previous": "bd797188-910b-11ea-8d02-0242ac120007-3-728a-254c-2f4c"
      },
      {
       "current": "21d849e2-dfd0-11eb-b29f-0242ac120008-3-ee1b-c777-449a",
       "next": "91d0d70c-61bd-11ee-89fa-0242ac120005-1-0a11",
       "previous": "bd797188-910b-11ea-8d02-0242ac120007-4-728a-254c-2f4c-6cad"
      },
      {
       "current": "21d849e2-dfd0-11eb-b29f-0242ac120008-4-ee1b-c777-449a-e91b",
       "next": "91d0d70c-61bd-11ee-89fa-0242ac120005-2-0a11-bb25",
       "previous": "bd797188-910b-11ea-8d02-0242ac120007-5-728a-254c-2f4c-6cad-d138"
      },
      {
       "current": "21d849e2-dfd0-11eb-b29f-0242ac120008-5-ee1b-c777-449a-e91b-b7db",
       "next": "91d0d70c-61bd-11ee-89fa-0242ac120005-3-0a11-bb25-7e7b",
       "previous": "bd797188-910b-11ea-8d02-0242ac120007-6-728a-254c-2f4c-6cad-d138-f48a"
      },
      {
       "current": "21d849e2-dfd0-11eb-b29f-0242ac120008-6-ee1b-c777-449a-e91b-b7db-6a0f",
       "next": "91d0d70c-61bd-11ee-89fa-0242ac120005-4-0a11-bb25-7e7b-7d67",
       "previous": "bd797188-910b-11ea-8d02-0242ac120007-7-728a-254c-2f4c-6cad-d138-f48a-b40d"
      }
     ],
     "next": "91d0d70c-61bd-11ee-89fa-0242ac120005-5-0a11-bb25-7e7b-7d67-a394",
     "previous": "bd797188-910b-11ea-8d02-0242ac120007-8-728a-254c-2f4c-6cad-d138-f48a-b40d-d1f5"
    }
   },
   "outputs": [],
   "source": [
    "for node in target_node_list:\n",
    "    node_ip = node['prov_ip']\n",
    "    !ansible -b -m shell -a 'hostname' $node_ip"
   ]
  },
  {
   "cell_type": "code",
   "execution_count": null,
   "metadata": {
    "lc_cell_meme": {
     "current": "91d0d70c-61bd-11ee-89fa-0242ac120005-5-0a11-bb25-7e7b-7d67-a394",
     "history": [
      {
       "current": "91d0d70c-61bd-11ee-89fa-0242ac120005-1-0a11",
       "next": "ac56a252-95bd-11ea-8d02-0242ac120007-3-86ee-3a22-9a71",
       "previous": "21d849e2-dfd0-11eb-b29f-0242ac120008-1-ee1b"
      },
      {
       "current": "91d0d70c-61bd-11ee-89fa-0242ac120005-2-0a11-bb25",
       "next": "ac56a252-95bd-11ea-8d02-0242ac120007-4-86ee-3a22-9a71-1c09",
       "previous": "21d849e2-dfd0-11eb-b29f-0242ac120008-2-ee1b-c777"
      },
      {
       "current": "91d0d70c-61bd-11ee-89fa-0242ac120005-3-0a11-bb25-7e7b",
       "next": "ac56a252-95bd-11ea-8d02-0242ac120007-5-86ee-3a22-9a71-1c09-db26",
       "previous": "21d849e2-dfd0-11eb-b29f-0242ac120008-3-ee1b-c777-449a"
      },
      {
       "current": "91d0d70c-61bd-11ee-89fa-0242ac120005-4-0a11-bb25-7e7b-7d67",
       "next": "ac56a252-95bd-11ea-8d02-0242ac120007-6-86ee-3a22-9a71-1c09-db26-af37",
       "previous": "21d849e2-dfd0-11eb-b29f-0242ac120008-4-ee1b-c777-449a-e91b"
      },
      {
       "current": "91d0d70c-61bd-11ee-89fa-0242ac120005-5-0a11-bb25-7e7b-7d67-a394",
       "next": "ac56a252-95bd-11ea-8d02-0242ac120007-7-86ee-3a22-9a71-1c09-db26-af37-877f",
       "previous": "21d849e2-dfd0-11eb-b29f-0242ac120008-5-ee1b-c777-449a-e91b-b7db"
      }
     ],
     "next": "ac56a252-95bd-11ea-8d02-0242ac120007-8-86ee-3a22-9a71-1c09-db26-af37-877f-85d7",
     "previous": "21d849e2-dfd0-11eb-b29f-0242ac120008-6-ee1b-c777-449a-e91b-b7db-6a0f"
    }
   },
   "outputs": [],
   "source": [
    "!ansible -b -m shell -a 'hostname' bootstrap"
   ]
  },
  {
   "cell_type": "markdown",
   "metadata": {
    "lc_cell_meme": {
     "current": "ac56a252-95bd-11ea-8d02-0242ac120007-8-86ee-3a22-9a71-1c09-db26-af37-877f-85d7",
     "history": [
      {
       "current": "ac56a252-95bd-11ea-8d02-0242ac120007-1-86ee",
       "next": "ac56a6c6-95bd-11ea-8d02-0242ac120007",
       "previous": "bd797188-910b-11ea-8d02-0242ac120007"
      },
      {
       "current": "ac56a252-95bd-11ea-8d02-0242ac120007-1-86ee",
       "next": "ac56a6c6-95bd-11ea-8d02-0242ac120007-1-431a",
       "previous": "bd797188-910b-11ea-8d02-0242ac120007-1-728a"
      },
      {
       "current": "ac56a252-95bd-11ea-8d02-0242ac120007-1-86ee",
       "next": "46b93d3e-95bc-11ea-8d02-0242ac120007-1-9f9c",
       "previous": "bd797188-910b-11ea-8d02-0242ac120007-1-728a"
      },
      {
       "current": "ac56a252-95bd-11ea-8d02-0242ac120007-2-86ee-3a22",
       "next": "46b93d3e-95bc-11ea-8d02-0242ac120007-1-9f9c",
       "previous": "ef4d2888-aa17-11ea-9ad4-0242ac120006"
      },
      {
       "current": "ac56a252-95bd-11ea-8d02-0242ac120007-2-86ee-3a22",
       "next": "46b93d3e-95bc-11ea-8d02-0242ac120007-2-9f9c-2f8b",
       "previous": "ef4d2888-aa17-11ea-9ad4-0242ac120006-1-42b7"
      },
      {
       "current": "ac56a252-95bd-11ea-8d02-0242ac120007-2-86ee-3a22",
       "next": "46b93d3e-95bc-11ea-8d02-0242ac120007-2-9f9c-2f8b",
       "previous": "bd797188-910b-11ea-8d02-0242ac120007-2-728a-254c"
      },
      {
       "current": "ac56a252-95bd-11ea-8d02-0242ac120007-3-86ee-3a22-9a71",
       "next": "46b93d3e-95bc-11ea-8d02-0242ac120007-2-9f9c-2f8b",
       "previous": "21d849e2-dfd0-11eb-b29f-0242ac120008"
      },
      {
       "current": "ac56a252-95bd-11ea-8d02-0242ac120007-3-86ee-3a22-9a71",
       "next": "46b93d3e-95bc-11ea-8d02-0242ac120007-3-9f9c-2f8b-fd5c",
       "previous": "21d849e2-dfd0-11eb-b29f-0242ac120008-1-ee1b"
      },
      {
       "current": "ac56a252-95bd-11ea-8d02-0242ac120007-3-86ee-3a22-9a71",
       "next": "1e5a5a54-4bb1-11ee-89fa-0242ac120005",
       "previous": "21d849e2-dfd0-11eb-b29f-0242ac120008-1-ee1b"
      },
      {
       "current": "ac56a252-95bd-11ea-8d02-0242ac120007-3-86ee-3a22-9a71",
       "next": "65e00220-4bb1-11ee-89fa-0242ac120005",
       "previous": "21d849e2-dfd0-11eb-b29f-0242ac120008-1-ee1b"
      },
      {
       "current": "ac56a252-95bd-11ea-8d02-0242ac120007-3-86ee-3a22-9a71",
       "next": "5d429cae-6191-11ee-89fa-0242ac120005",
       "previous": "21d849e2-dfd0-11eb-b29f-0242ac120008-1-ee1b"
      },
      {
       "current": "ac56a252-95bd-11ea-8d02-0242ac120007-3-86ee-3a22-9a71",
       "next": "5d429cae-6191-11ee-89fa-0242ac120005",
       "previous": "91d0d70c-61bd-11ee-89fa-0242ac120005"
      },
      {
       "current": "ac56a252-95bd-11ea-8d02-0242ac120007-4-86ee-3a22-9a71-1c09",
       "next": "d9541562-61bd-11ee-89fa-0242ac120005",
       "previous": "91d0d70c-61bd-11ee-89fa-0242ac120005"
      },
      {
       "current": "ac56a252-95bd-11ea-8d02-0242ac120007-5-86ee-3a22-9a71-1c09-db26",
       "next": "d9541562-61bd-11ee-89fa-0242ac120005-1-abef",
       "previous": "91d0d70c-61bd-11ee-89fa-0242ac120005-1-0a11"
      },
      {
       "current": "ac56a252-95bd-11ea-8d02-0242ac120007-6-86ee-3a22-9a71-1c09-db26-af37",
       "next": "d9541562-61bd-11ee-89fa-0242ac120005-2-abef-65c0",
       "previous": "91d0d70c-61bd-11ee-89fa-0242ac120005-2-0a11-bb25"
      },
      {
       "current": "ac56a252-95bd-11ea-8d02-0242ac120007-7-86ee-3a22-9a71-1c09-db26-af37-877f",
       "next": "d9541562-61bd-11ee-89fa-0242ac120005-3-abef-65c0-b5a3",
       "previous": "91d0d70c-61bd-11ee-89fa-0242ac120005-3-0a11-bb25-7e7b"
      },
      {
       "current": "ac56a252-95bd-11ea-8d02-0242ac120007-8-86ee-3a22-9a71-1c09-db26-af37-877f-85d7",
       "next": "d9541562-61bd-11ee-89fa-0242ac120005-4-abef-65c0-b5a3-732d",
       "previous": "91d0d70c-61bd-11ee-89fa-0242ac120005-4-0a11-bb25-7e7b-7d67"
      }
     ],
     "next": "d9541562-61bd-11ee-89fa-0242ac120005-5-abef-65c0-b5a3-732d-d880",
     "previous": "91d0d70c-61bd-11ee-89fa-0242ac120005-5-0a11-bb25-7e7b-7d67-a394"
    }
   },
   "source": [
    "# cephadm ssh key 配置"
   ]
  },
  {
   "cell_type": "code",
   "execution_count": null,
   "metadata": {
    "lc_cell_meme": {
     "current": "d9541562-61bd-11ee-89fa-0242ac120005-5-abef-65c0-b5a3-732d-d880",
     "history": [
      {
       "current": "d9541562-61bd-11ee-89fa-0242ac120005",
       "next": "d9541792-61bd-11ee-89fa-0242ac120005",
       "previous": "ac56a252-95bd-11ea-8d02-0242ac120007-3-86ee-3a22-9a71"
      },
      {
       "current": "d9541562-61bd-11ee-89fa-0242ac120005-1-abef",
       "next": "8696338a-61bf-11ee-89fa-0242ac120005",
       "previous": "ac56a252-95bd-11ea-8d02-0242ac120007-3-86ee-3a22-9a71"
      },
      {
       "current": "d9541562-61bd-11ee-89fa-0242ac120005-2-abef-65c0",
       "next": "8696338a-61bf-11ee-89fa-0242ac120005-1-827d",
       "previous": "ac56a252-95bd-11ea-8d02-0242ac120007-4-86ee-3a22-9a71-1c09"
      },
      {
       "current": "d9541562-61bd-11ee-89fa-0242ac120005-3-abef-65c0-b5a3",
       "next": "8696338a-61bf-11ee-89fa-0242ac120005-2-827d-a73e",
       "previous": "ac56a252-95bd-11ea-8d02-0242ac120007-5-86ee-3a22-9a71-1c09-db26"
      },
      {
       "current": "d9541562-61bd-11ee-89fa-0242ac120005-4-abef-65c0-b5a3-732d",
       "next": "8696338a-61bf-11ee-89fa-0242ac120005-3-827d-a73e-b23e",
       "previous": "ac56a252-95bd-11ea-8d02-0242ac120007-6-86ee-3a22-9a71-1c09-db26-af37"
      },
      {
       "current": "d9541562-61bd-11ee-89fa-0242ac120005-5-abef-65c0-b5a3-732d-d880",
       "next": "8696338a-61bf-11ee-89fa-0242ac120005-4-827d-a73e-b23e-7102",
       "previous": "ac56a252-95bd-11ea-8d02-0242ac120007-7-86ee-3a22-9a71-1c09-db26-af37-877f"
      }
     ],
     "next": "8696338a-61bf-11ee-89fa-0242ac120005-5-827d-a73e-b23e-7102-0573",
     "previous": "ac56a252-95bd-11ea-8d02-0242ac120007-8-86ee-3a22-9a71-1c09-db26-af37-877f-85d7"
    }
   },
   "outputs": [],
   "source": [
    "!ansible -b -m shell -a 'cephadm shell -- ceph cephadm get-pub-key > /tmp/ceph.pub' bootstrap"
   ]
  },
  {
   "cell_type": "code",
   "execution_count": null,
   "metadata": {
    "lc_cell_meme": {
     "current": "8696338a-61bf-11ee-89fa-0242ac120005-5-827d-a73e-b23e-7102-0573",
     "history": [
      {
       "current": "8696338a-61bf-11ee-89fa-0242ac120005-1-827d",
       "next": "d9541792-61bd-11ee-89fa-0242ac120005",
       "previous": "d9541562-61bd-11ee-89fa-0242ac120005"
      },
      {
       "current": "8696338a-61bf-11ee-89fa-0242ac120005-2-827d-a73e",
       "next": "d9541792-61bd-11ee-89fa-0242ac120005-1-1cc4",
       "previous": "d9541562-61bd-11ee-89fa-0242ac120005-1-abef"
      },
      {
       "current": "8696338a-61bf-11ee-89fa-0242ac120005-3-827d-a73e-b23e",
       "next": "d9541792-61bd-11ee-89fa-0242ac120005-2-1cc4-b980",
       "previous": "d9541562-61bd-11ee-89fa-0242ac120005-2-abef-65c0"
      },
      {
       "current": "8696338a-61bf-11ee-89fa-0242ac120005-4-827d-a73e-b23e-7102",
       "next": "d9541792-61bd-11ee-89fa-0242ac120005-3-1cc4-b980-ef44",
       "previous": "d9541562-61bd-11ee-89fa-0242ac120005-3-abef-65c0-b5a3"
      },
      {
       "current": "8696338a-61bf-11ee-89fa-0242ac120005-5-827d-a73e-b23e-7102-0573",
       "next": "d9541792-61bd-11ee-89fa-0242ac120005-4-1cc4-b980-ef44-79ee",
       "previous": "d9541562-61bd-11ee-89fa-0242ac120005-4-abef-65c0-b5a3-732d"
      }
     ],
     "next": "d9541792-61bd-11ee-89fa-0242ac120005-5-1cc4-b980-ef44-79ee-90b4",
     "previous": "d9541562-61bd-11ee-89fa-0242ac120005-5-abef-65c0-b5a3-732d-d880"
    }
   },
   "outputs": [],
   "source": [
    "res = !ansible -b -m shell -a 'cat /tmp/ceph.pub' bootstrap\n",
    "print(res)"
   ]
  },
  {
   "cell_type": "code",
   "execution_count": null,
   "metadata": {
    "lc_cell_meme": {
     "current": "d9541792-61bd-11ee-89fa-0242ac120005-5-1cc4-b980-ef44-79ee-90b4",
     "history": [
      {
       "current": "d9541792-61bd-11ee-89fa-0242ac120005",
       "next": "d954180a-61bd-11ee-89fa-0242ac120005",
       "previous": "d9541562-61bd-11ee-89fa-0242ac120005"
      },
      {
       "current": "d9541792-61bd-11ee-89fa-0242ac120005",
       "next": "d954180a-61bd-11ee-89fa-0242ac120005",
       "previous": "8696338a-61bf-11ee-89fa-0242ac120005"
      },
      {
       "current": "d9541792-61bd-11ee-89fa-0242ac120005-1-1cc4",
       "next": "d954185a-61bd-11ee-89fa-0242ac120005",
       "previous": "8696338a-61bf-11ee-89fa-0242ac120005"
      },
      {
       "current": "d9541792-61bd-11ee-89fa-0242ac120005-2-1cc4-b980",
       "next": "d954185a-61bd-11ee-89fa-0242ac120005-1-c2a1",
       "previous": "8696338a-61bf-11ee-89fa-0242ac120005-1-827d"
      },
      {
       "current": "d9541792-61bd-11ee-89fa-0242ac120005-3-1cc4-b980-ef44",
       "next": "d954185a-61bd-11ee-89fa-0242ac120005-2-c2a1-5055",
       "previous": "8696338a-61bf-11ee-89fa-0242ac120005-2-827d-a73e"
      },
      {
       "current": "d9541792-61bd-11ee-89fa-0242ac120005-4-1cc4-b980-ef44-79ee",
       "next": "d954185a-61bd-11ee-89fa-0242ac120005-3-c2a1-5055-a643",
       "previous": "8696338a-61bf-11ee-89fa-0242ac120005-3-827d-a73e-b23e"
      },
      {
       "current": "d9541792-61bd-11ee-89fa-0242ac120005-5-1cc4-b980-ef44-79ee-90b4",
       "next": "d954185a-61bd-11ee-89fa-0242ac120005-4-c2a1-5055-a643-05d6",
       "previous": "8696338a-61bf-11ee-89fa-0242ac120005-4-827d-a73e-b23e-7102"
      }
     ],
     "next": "d954185a-61bd-11ee-89fa-0242ac120005-5-c2a1-5055-a643-05d6-b2db",
     "previous": "8696338a-61bf-11ee-89fa-0242ac120005-5-827d-a73e-b23e-7102-0573"
    }
   },
   "outputs": [],
   "source": [
    "pub_key = res[1]\n",
    "print(pub_key)"
   ]
  },
  {
   "cell_type": "code",
   "execution_count": null,
   "metadata": {
    "lc_cell_meme": {
     "current": "d954185a-61bd-11ee-89fa-0242ac120005-5-c2a1-5055-a643-05d6-b2db",
     "history": [
      {
       "current": "d954185a-61bd-11ee-89fa-0242ac120005",
       "next": "5d429cae-6191-11ee-89fa-0242ac120005",
       "previous": "d954180a-61bd-11ee-89fa-0242ac120005"
      },
      {
       "current": "d954185a-61bd-11ee-89fa-0242ac120005-1-c2a1",
       "next": "b7b098c6-61c3-11ee-89fa-0242ac120005",
       "previous": "d9541792-61bd-11ee-89fa-0242ac120005"
      },
      {
       "current": "d954185a-61bd-11ee-89fa-0242ac120005-2-c2a1-5055",
       "next": "b7b098c6-61c3-11ee-89fa-0242ac120005-1-29a0",
       "previous": "d9541792-61bd-11ee-89fa-0242ac120005-1-1cc4"
      },
      {
       "current": "d954185a-61bd-11ee-89fa-0242ac120005-3-c2a1-5055-a643",
       "next": "b7b098c6-61c3-11ee-89fa-0242ac120005-2-29a0-5ba5",
       "previous": "d9541792-61bd-11ee-89fa-0242ac120005-2-1cc4-b980"
      },
      {
       "current": "d954185a-61bd-11ee-89fa-0242ac120005-4-c2a1-5055-a643-05d6",
       "next": "b7b098c6-61c3-11ee-89fa-0242ac120005-3-29a0-5ba5-b26e",
       "previous": "d9541792-61bd-11ee-89fa-0242ac120005-3-1cc4-b980-ef44"
      },
      {
       "current": "d954185a-61bd-11ee-89fa-0242ac120005-5-c2a1-5055-a643-05d6-b2db",
       "next": "b7b098c6-61c3-11ee-89fa-0242ac120005-4-29a0-5ba5-b26e-ecb4",
       "previous": "d9541792-61bd-11ee-89fa-0242ac120005-4-1cc4-b980-ef44-79ee"
      }
     ],
     "next": "b7b098c6-61c3-11ee-89fa-0242ac120005-5-29a0-5ba5-b26e-ecb4-8102",
     "previous": "d9541792-61bd-11ee-89fa-0242ac120005-5-1cc4-b980-ef44-79ee-90b4"
    }
   },
   "outputs": [],
   "source": [
    "!ansible -CDv -b -m authorized_key -a \"user={cephadmin_user} state=present key=\\\"{pub_key}\\\"\" ceph_nodes"
   ]
  },
  {
   "cell_type": "code",
   "execution_count": null,
   "metadata": {
    "lc_cell_meme": {
     "current": "b7b098c6-61c3-11ee-89fa-0242ac120005-5-29a0-5ba5-b26e-ecb4-8102",
     "history": [
      {
       "current": "b7b098c6-61c3-11ee-89fa-0242ac120005-1-29a0",
       "next": "d954180a-61bd-11ee-89fa-0242ac120005",
       "previous": "d954185a-61bd-11ee-89fa-0242ac120005"
      },
      {
       "current": "b7b098c6-61c3-11ee-89fa-0242ac120005-2-29a0-5ba5",
       "next": "d954180a-61bd-11ee-89fa-0242ac120005-1-e54a",
       "previous": "d954185a-61bd-11ee-89fa-0242ac120005-1-c2a1"
      },
      {
       "current": "b7b098c6-61c3-11ee-89fa-0242ac120005-3-29a0-5ba5-b26e",
       "next": "d954180a-61bd-11ee-89fa-0242ac120005-2-e54a-208a",
       "previous": "d954185a-61bd-11ee-89fa-0242ac120005-2-c2a1-5055"
      },
      {
       "current": "b7b098c6-61c3-11ee-89fa-0242ac120005-4-29a0-5ba5-b26e-ecb4",
       "next": "d954180a-61bd-11ee-89fa-0242ac120005-3-e54a-208a-6f34",
       "previous": "d954185a-61bd-11ee-89fa-0242ac120005-3-c2a1-5055-a643"
      },
      {
       "current": "b7b098c6-61c3-11ee-89fa-0242ac120005-5-29a0-5ba5-b26e-ecb4-8102",
       "next": "d954180a-61bd-11ee-89fa-0242ac120005-4-e54a-208a-6f34-3021",
       "previous": "d954185a-61bd-11ee-89fa-0242ac120005-4-c2a1-5055-a643-05d6"
      }
     ],
     "next": "d954180a-61bd-11ee-89fa-0242ac120005-5-e54a-208a-6f34-3021-17de",
     "previous": "d954185a-61bd-11ee-89fa-0242ac120005-5-c2a1-5055-a643-05d6-b2db"
    },
    "scrolled": true
   },
   "outputs": [],
   "source": [
    "!ansible -b -m authorized_key -a \"user={cephadmin_user} state=present key=\\\"{pub_key}\\\"\" ceph_nodes"
   ]
  },
  {
   "cell_type": "code",
   "execution_count": null,
   "metadata": {
    "lc_cell_meme": {
     "current": "d954180a-61bd-11ee-89fa-0242ac120005-5-e54a-208a-6f34-3021-17de",
     "history": [
      {
       "current": "d954180a-61bd-11ee-89fa-0242ac120005",
       "next": "d954185a-61bd-11ee-89fa-0242ac120005",
       "previous": "d9541792-61bd-11ee-89fa-0242ac120005"
      },
      {
       "current": "d954180a-61bd-11ee-89fa-0242ac120005",
       "next": "5d429cae-6191-11ee-89fa-0242ac120005",
       "previous": "b7b098c6-61c3-11ee-89fa-0242ac120005"
      },
      {
       "current": "d954180a-61bd-11ee-89fa-0242ac120005-1-e54a",
       "next": "35c581ba-55a3-11e7-b0b2-00163e9c0e35-3-f60b-133a-40ef",
       "previous": "b7b098c6-61c3-11ee-89fa-0242ac120005"
      },
      {
       "current": "d954180a-61bd-11ee-89fa-0242ac120005-2-e54a-208a",
       "next": "35c581ba-55a3-11e7-b0b2-00163e9c0e35-4-f60b-133a-40ef-3aa9",
       "previous": "b7b098c6-61c3-11ee-89fa-0242ac120005-1-29a0"
      },
      {
       "current": "d954180a-61bd-11ee-89fa-0242ac120005-3-e54a-208a-6f34",
       "next": "35c581ba-55a3-11e7-b0b2-00163e9c0e35-5-f60b-133a-40ef-3aa9-3c39",
       "previous": "b7b098c6-61c3-11ee-89fa-0242ac120005-2-29a0-5ba5"
      },
      {
       "current": "d954180a-61bd-11ee-89fa-0242ac120005-4-e54a-208a-6f34-3021",
       "next": "35c581ba-55a3-11e7-b0b2-00163e9c0e35-6-f60b-133a-40ef-3aa9-3c39-ec64",
       "previous": "b7b098c6-61c3-11ee-89fa-0242ac120005-3-29a0-5ba5-b26e"
      },
      {
       "current": "d954180a-61bd-11ee-89fa-0242ac120005-5-e54a-208a-6f34-3021-17de",
       "next": "35c581ba-55a3-11e7-b0b2-00163e9c0e35-7-f60b-133a-40ef-3aa9-3c39-ec64-b317",
       "previous": "b7b098c6-61c3-11ee-89fa-0242ac120005-4-29a0-5ba5-b26e-ecb4"
      }
     ],
     "next": "35c581ba-55a3-11e7-b0b2-00163e9c0e35-8-f60b-133a-40ef-3aa9-3c39-ec64-b317-3a51",
     "previous": "b7b098c6-61c3-11ee-89fa-0242ac120005-5-29a0-5ba5-b26e-ecb4-8102"
    },
    "scrolled": true
   },
   "outputs": [],
   "source": [
    "!ansible -b -m shell -a 'cat /home/cephadmin/.ssh/authorized_keys' ceph_nodes"
   ]
  },
  {
   "cell_type": "markdown",
   "metadata": {
    "collapsed": true,
    "lc_cell_meme": {
     "current": "35c581ba-55a3-11e7-b0b2-00163e9c0e35-8-f60b-133a-40ef-3aa9-3c39-ec64-b317-3a51",
     "history": [
      {
       "current": "35c581ba-55a3-11e7-b0b2-00163e9c0e35",
       "next": "35c58340-55a3-11e7-b0b2-00163e9c0e35",
       "previous": "35c58034-55a3-11e7-b0b2-00163e9c0e35"
      },
      {
       "current": "35c581ba-55a3-11e7-b0b2-00163e9c0e35",
       "next": "35c58340-55a3-11e7-b0b2-00163e9c0e35",
       "previous": "35c51928-55a3-11e7-b0b2-00163e9c0e35"
      },
      {
       "current": "35c581ba-55a3-11e7-b0b2-00163e9c0e35",
       "next": "35c58340-55a3-11e7-b0b2-00163e9c0e35",
       "previous": "277a614c-47b9-11ea-a028-0242ac120005"
      },
      {
       "current": "35c581ba-55a3-11e7-b0b2-00163e9c0e35",
       "next": "35c58340-55a3-11e7-b0b2-00163e9c0e35",
       "previous": "35c51928-55a3-11e7-b0b2-00163e9c0e35"
      },
      {
       "current": "35c581ba-55a3-11e7-b0b2-00163e9c0e35",
       "next": "35c58340-55a3-11e7-b0b2-00163e9c0e35",
       "previous": "b8a85906-47b6-11ea-a028-0242ac120005"
      },
      {
       "current": "35c581ba-55a3-11e7-b0b2-00163e9c0e35",
       "next": "35c58340-55a3-11e7-b0b2-00163e9c0e35",
       "previous": "35c38fae-55a3-11e7-b0b2-00163e9c0e35"
      },
      {
       "current": "35c581ba-55a3-11e7-b0b2-00163e9c0e35",
       "next": "35c58340-55a3-11e7-b0b2-00163e9c0e35",
       "previous": "35c385a4-55a3-11e7-b0b2-00163e9c0e35"
      },
      {
       "current": "35c581ba-55a3-11e7-b0b2-00163e9c0e35",
       "next": "35c58340-55a3-11e7-b0b2-00163e9c0e35",
       "previous": "27c39180-935b-11ea-8d02-0242ac120007"
      },
      {
       "current": "35c581ba-55a3-11e7-b0b2-00163e9c0e35",
       "next": "35c58340-55a3-11e7-b0b2-00163e9c0e35",
       "previous": "35c385a4-55a3-11e7-b0b2-00163e9c0e35"
      },
      {
       "current": "35c581ba-55a3-11e7-b0b2-00163e9c0e35",
       "next": "35c58340-55a3-11e7-b0b2-00163e9c0e35",
       "previous": "b20d6ace-9684-11ea-8d02-0242ac120007"
      },
      {
       "current": "35c581ba-55a3-11e7-b0b2-00163e9c0e35",
       "next": "35c58340-55a3-11e7-b0b2-00163e9c0e35",
       "previous": "18b837c6-9686-11ea-8d02-0242ac120007"
      },
      {
       "current": "35c581ba-55a3-11e7-b0b2-00163e9c0e35",
       "next": "35c58340-55a3-11e7-b0b2-00163e9c0e35",
       "previous": "59de09f6-9686-11ea-8d02-0242ac120007"
      },
      {
       "current": "35c581ba-55a3-11e7-b0b2-00163e9c0e35",
       "next": "35c58340-55a3-11e7-b0b2-00163e9c0e35",
       "previous": "7dae8b30-9686-11ea-8d02-0242ac120007"
      },
      {
       "current": "35c581ba-55a3-11e7-b0b2-00163e9c0e35",
       "next": "35c58340-55a3-11e7-b0b2-00163e9c0e35",
       "previous": "789942dc-9692-11ea-8d02-0242ac120007"
      },
      {
       "current": "35c581ba-55a3-11e7-b0b2-00163e9c0e35",
       "next": "35c58340-55a3-11e7-b0b2-00163e9c0e35",
       "previous": "e95d003a-9697-11ea-8d02-0242ac120007"
      },
      {
       "current": "35c581ba-55a3-11e7-b0b2-00163e9c0e35",
       "next": "35c58340-55a3-11e7-b0b2-00163e9c0e35",
       "previous": "357fc83a-969d-11ea-8d02-0242ac120007"
      },
      {
       "current": "35c581ba-55a3-11e7-b0b2-00163e9c0e35",
       "next": "35c58340-55a3-11e7-b0b2-00163e9c0e35",
       "previous": "7dae86da-9686-11ea-8d02-0242ac120007"
      },
      {
       "current": "35c581ba-55a3-11e7-b0b2-00163e9c0e35",
       "next": "35c58340-55a3-11e7-b0b2-00163e9c0e35",
       "previous": "49102d8c-98a9-11ea-8d02-0242ac120007"
      },
      {
       "current": "35c581ba-55a3-11e7-b0b2-00163e9c0e35",
       "next": "35c58340-55a3-11e7-b0b2-00163e9c0e35",
       "previous": "dbe917aa-9984-11ea-8d02-0242ac120007"
      },
      {
       "current": "35c581ba-55a3-11e7-b0b2-00163e9c0e35",
       "next": "35c58340-55a3-11e7-b0b2-00163e9c0e35",
       "previous": "f9f7c1a0-9985-11ea-8d02-0242ac120007"
      },
      {
       "current": "35c581ba-55a3-11e7-b0b2-00163e9c0e35",
       "next": "35c58340-55a3-11e7-b0b2-00163e9c0e35",
       "previous": "4180e646-9986-11ea-8d02-0242ac120007"
      },
      {
       "current": "35c581ba-55a3-11e7-b0b2-00163e9c0e35",
       "next": "35c58340-55a3-11e7-b0b2-00163e9c0e35",
       "previous": "eea7aafc-9987-11ea-8d02-0242ac120007"
      },
      {
       "current": "35c581ba-55a3-11e7-b0b2-00163e9c0e35",
       "next": "35c58340-55a3-11e7-b0b2-00163e9c0e35",
       "previous": "7db36be6-9988-11ea-8d02-0242ac120007"
      },
      {
       "current": "35c581ba-55a3-11e7-b0b2-00163e9c0e35",
       "next": "35c58340-55a3-11e7-b0b2-00163e9c0e35",
       "previous": "7db36a7e-9988-11ea-8d02-0242ac120007"
      },
      {
       "current": "35c581ba-55a3-11e7-b0b2-00163e9c0e35",
       "next": "35c58340-55a3-11e7-b0b2-00163e9c0e35",
       "previous": "f3e7d364-998e-11ea-8d02-0242ac120007"
      },
      {
       "current": "35c581ba-55a3-11e7-b0b2-00163e9c0e35-1-f60b",
       "next": "35c58340-55a3-11e7-b0b2-00163e9c0e35",
       "previous": "b0a33f46-98ce-11ea-8d02-0242ac120007"
      },
      {
       "current": "35c581ba-55a3-11e7-b0b2-00163e9c0e35-2-f60b-133a",
       "next": "35c58340-55a3-11e7-b0b2-00163e9c0e35-1-c0ce",
       "previous": "b0a33f46-98ce-11ea-8d02-0242ac120007-1-1e51"
      },
      {
       "current": "35c581ba-55a3-11e7-b0b2-00163e9c0e35-2-f60b-133a",
       "next": "35c58340-55a3-11e7-b0b2-00163e9c0e35-2-c0ce-9618",
       "previous": "b0a33f46-98ce-11ea-8d02-0242ac120007-2-1e51-b1e8"
      },
      {
       "current": "35c581ba-55a3-11e7-b0b2-00163e9c0e35-2-f60b-133a",
       "next": "35c58340-55a3-11e7-b0b2-00163e9c0e35-2-c0ce-9618",
       "previous": "d0769ffa-98bc-11ea-8d02-0242ac120007-2-9994-0723"
      },
      {
       "current": "35c581ba-55a3-11e7-b0b2-00163e9c0e35-2-f60b-133a",
       "next": "35c58340-55a3-11e7-b0b2-00163e9c0e35-2-c0ce-9618",
       "previous": "bc16cb02-dfce-11eb-b29f-0242ac120008"
      },
      {
       "current": "35c581ba-55a3-11e7-b0b2-00163e9c0e35-2-f60b-133a",
       "next": "35c58340-55a3-11e7-b0b2-00163e9c0e35-2-c0ce-9618",
       "previous": "7cf7d994-f4ea-11eb-b29f-0242ac120008"
      },
      {
       "current": "35c581ba-55a3-11e7-b0b2-00163e9c0e35-2-f60b-133a",
       "next": "35c58340-55a3-11e7-b0b2-00163e9c0e35-2-c0ce-9618",
       "previous": "204647a2-f4eb-11eb-b29f-0242ac120008"
      },
      {
       "current": "35c581ba-55a3-11e7-b0b2-00163e9c0e35-2-f60b-133a",
       "next": "35c58340-55a3-11e7-b0b2-00163e9c0e35-2-c0ce-9618",
       "previous": "798c29c4-9a06-11ec-a1da-0242ac120004"
      },
      {
       "current": "35c581ba-55a3-11e7-b0b2-00163e9c0e35-3-f60b-133a-40ef",
       "next": "35c58340-55a3-11e7-b0b2-00163e9c0e35-2-c0ce-9618",
       "previous": "204647a2-f4eb-11eb-b29f-0242ac120008"
      },
      {
       "current": "35c581ba-55a3-11e7-b0b2-00163e9c0e35-3-f60b-133a-40ef",
       "next": "35c58340-55a3-11e7-b0b2-00163e9c0e35-3-c0ce-9618-7032",
       "previous": "204647a2-f4eb-11eb-b29f-0242ac120008-1-10f9"
      },
      {
       "current": "35c581ba-55a3-11e7-b0b2-00163e9c0e35-3-f60b-133a-40ef",
       "next": "35c58340-55a3-11e7-b0b2-00163e9c0e35-3-c0ce-9618-7032",
       "previous": "3c6cb112-4bb2-11ee-89fa-0242ac120005"
      },
      {
       "current": "35c581ba-55a3-11e7-b0b2-00163e9c0e35-3-f60b-133a-40ef",
       "next": "35c58340-55a3-11e7-b0b2-00163e9c0e35-3-c0ce-9618-7032",
       "previous": "d619a970-6195-11ee-89fa-0242ac120005"
      },
      {
       "current": "35c581ba-55a3-11e7-b0b2-00163e9c0e35-4-f60b-133a-40ef-3aa9",
       "next": "35c58340-55a3-11e7-b0b2-00163e9c0e35-3-c0ce-9618-7032",
       "previous": "d954180a-61bd-11ee-89fa-0242ac120005"
      },
      {
       "current": "35c581ba-55a3-11e7-b0b2-00163e9c0e35-5-f60b-133a-40ef-3aa9-3c39",
       "next": "35c58340-55a3-11e7-b0b2-00163e9c0e35-4-c0ce-9618-7032-adec",
       "previous": "d954180a-61bd-11ee-89fa-0242ac120005-1-e54a"
      },
      {
       "current": "35c581ba-55a3-11e7-b0b2-00163e9c0e35-6-f60b-133a-40ef-3aa9-3c39-ec64",
       "next": "35c58340-55a3-11e7-b0b2-00163e9c0e35-5-c0ce-9618-7032-adec-97ef",
       "previous": "d954180a-61bd-11ee-89fa-0242ac120005-2-e54a-208a"
      },
      {
       "current": "35c581ba-55a3-11e7-b0b2-00163e9c0e35-7-f60b-133a-40ef-3aa9-3c39-ec64-b317",
       "next": "35c58340-55a3-11e7-b0b2-00163e9c0e35-6-c0ce-9618-7032-adec-97ef-b8ec",
       "previous": "d954180a-61bd-11ee-89fa-0242ac120005-3-e54a-208a-6f34"
      },
      {
       "current": "35c581ba-55a3-11e7-b0b2-00163e9c0e35-8-f60b-133a-40ef-3aa9-3c39-ec64-b317-3a51",
       "next": "35c58340-55a3-11e7-b0b2-00163e9c0e35-7-c0ce-9618-7032-adec-97ef-b8ec-d87e",
       "previous": "d954180a-61bd-11ee-89fa-0242ac120005-4-e54a-208a-6f34-3021"
      }
     ],
     "next": "35c58340-55a3-11e7-b0b2-00163e9c0e35-8-c0ce-9618-7032-adec-97ef-b8ec-d87e-6d02",
     "previous": "d954180a-61bd-11ee-89fa-0242ac120005-5-e54a-208a-6f34-3021-17de"
    }
   },
   "source": [
    "# 後始末\n",
    "\n",
    "一時ディレクトリを削除する。"
   ]
  },
  {
   "cell_type": "code",
   "execution_count": null,
   "metadata": {
    "ExecuteTime": {
     "end_time": "2017-06-29T08:01:20.617274Z",
     "start_time": "2017-06-29T08:01:20.466671Z"
    },
    "lc_cell_meme": {
     "current": "35c58340-55a3-11e7-b0b2-00163e9c0e35-8-c0ce-9618-7032-adec-97ef-b8ec-d87e-6d02",
     "history": [
      {
       "current": "35c58340-55a3-11e7-b0b2-00163e9c0e35",
       "next": null,
       "previous": "35c581ba-55a3-11e7-b0b2-00163e9c0e35"
      },
      {
       "current": "35c58340-55a3-11e7-b0b2-00163e9c0e35-1-c0ce",
       "next": "c4bd8ce4-5749-11e7-b0b2-00163e9c0e35",
       "previous": "35c581ba-55a3-11e7-b0b2-00163e9c0e35"
      },
      {
       "current": "35c58340-55a3-11e7-b0b2-00163e9c0e35-2-c0ce-9618",
       "next": "c4bd8ce4-5749-11e7-b0b2-00163e9c0e35-1-6c35",
       "previous": "35c581ba-55a3-11e7-b0b2-00163e9c0e35-1-f60b"
      },
      {
       "current": "35c58340-55a3-11e7-b0b2-00163e9c0e35-3-c0ce-9618-7032",
       "next": "c4bd8ce4-5749-11e7-b0b2-00163e9c0e35-2-6c35-ebfb",
       "previous": "35c581ba-55a3-11e7-b0b2-00163e9c0e35-2-f60b-133a"
      },
      {
       "current": "35c58340-55a3-11e7-b0b2-00163e9c0e35-4-c0ce-9618-7032-adec",
       "next": "c4bd8ce4-5749-11e7-b0b2-00163e9c0e35-3-6c35-ebfb-793f",
       "previous": "35c581ba-55a3-11e7-b0b2-00163e9c0e35-3-f60b-133a-40ef"
      },
      {
       "current": "35c58340-55a3-11e7-b0b2-00163e9c0e35-5-c0ce-9618-7032-adec-97ef",
       "next": "c4bd8ce4-5749-11e7-b0b2-00163e9c0e35-4-6c35-ebfb-793f-23c2",
       "previous": "35c581ba-55a3-11e7-b0b2-00163e9c0e35-4-f60b-133a-40ef-3aa9"
      },
      {
       "current": "35c58340-55a3-11e7-b0b2-00163e9c0e35-6-c0ce-9618-7032-adec-97ef-b8ec",
       "next": "c4bd8ce4-5749-11e7-b0b2-00163e9c0e35-5-6c35-ebfb-793f-23c2-ba17",
       "previous": "35c581ba-55a3-11e7-b0b2-00163e9c0e35-5-f60b-133a-40ef-3aa9-3c39"
      },
      {
       "current": "35c58340-55a3-11e7-b0b2-00163e9c0e35-7-c0ce-9618-7032-adec-97ef-b8ec-d87e",
       "next": "c4bd8ce4-5749-11e7-b0b2-00163e9c0e35-6-6c35-ebfb-793f-23c2-ba17-7598",
       "previous": "35c581ba-55a3-11e7-b0b2-00163e9c0e35-6-f60b-133a-40ef-3aa9-3c39-ec64"
      },
      {
       "current": "35c58340-55a3-11e7-b0b2-00163e9c0e35-8-c0ce-9618-7032-adec-97ef-b8ec-d87e-6d02",
       "next": "c4bd8ce4-5749-11e7-b0b2-00163e9c0e35-7-6c35-ebfb-793f-23c2-ba17-7598-de03",
       "previous": "35c581ba-55a3-11e7-b0b2-00163e9c0e35-7-f60b-133a-40ef-3aa9-3c39-ec64-b317"
      }
     ],
     "next": "c4bd8ce4-5749-11e7-b0b2-00163e9c0e35-8-6c35-ebfb-793f-23c2-ba17-7598-de03-9d61",
     "previous": "35c581ba-55a3-11e7-b0b2-00163e9c0e35-8-f60b-133a-40ef-3aa9-3c39-ec64-b317-3a51"
    }
   },
   "outputs": [],
   "source": [
    "!rm -fr $temp_dir"
   ]
  },
  {
   "cell_type": "code",
   "execution_count": null,
   "metadata": {
    "lc_cell_meme": {
     "current": "c4bd8ce4-5749-11e7-b0b2-00163e9c0e35-8-6c35-ebfb-793f-23c2-ba17-7598-de03-9d61",
     "history": [
      {
       "current": "c4bd8ce4-5749-11e7-b0b2-00163e9c0e35-1-6c35",
       "next": null,
       "previous": "35c58340-55a3-11e7-b0b2-00163e9c0e35"
      },
      {
       "current": "c4bd8ce4-5749-11e7-b0b2-00163e9c0e35-2-6c35-ebfb",
       "next": null,
       "previous": "35c58340-55a3-11e7-b0b2-00163e9c0e35-1-c0ce"
      },
      {
       "current": "c4bd8ce4-5749-11e7-b0b2-00163e9c0e35-3-6c35-ebfb-793f",
       "next": null,
       "previous": "35c58340-55a3-11e7-b0b2-00163e9c0e35-2-c0ce-9618"
      },
      {
       "current": "c4bd8ce4-5749-11e7-b0b2-00163e9c0e35-4-6c35-ebfb-793f-23c2",
       "next": null,
       "previous": "35c58340-55a3-11e7-b0b2-00163e9c0e35-3-c0ce-9618-7032"
      },
      {
       "current": "c4bd8ce4-5749-11e7-b0b2-00163e9c0e35-5-6c35-ebfb-793f-23c2-ba17",
       "next": null,
       "previous": "35c58340-55a3-11e7-b0b2-00163e9c0e35-4-c0ce-9618-7032-adec"
      },
      {
       "current": "c4bd8ce4-5749-11e7-b0b2-00163e9c0e35-6-6c35-ebfb-793f-23c2-ba17-7598",
       "next": null,
       "previous": "35c58340-55a3-11e7-b0b2-00163e9c0e35-5-c0ce-9618-7032-adec-97ef"
      },
      {
       "current": "c4bd8ce4-5749-11e7-b0b2-00163e9c0e35-7-6c35-ebfb-793f-23c2-ba17-7598-de03",
       "next": null,
       "previous": "35c58340-55a3-11e7-b0b2-00163e9c0e35-6-c0ce-9618-7032-adec-97ef-b8ec"
      },
      {
       "current": "c4bd8ce4-5749-11e7-b0b2-00163e9c0e35-8-6c35-ebfb-793f-23c2-ba17-7598-de03-9d61",
       "next": null,
       "previous": "35c58340-55a3-11e7-b0b2-00163e9c0e35-7-c0ce-9618-7032-adec-97ef-b8ec-d87e"
      }
     ],
     "next": null,
     "previous": "35c58340-55a3-11e7-b0b2-00163e9c0e35-8-c0ce-9618-7032-adec-97ef-b8ec-d87e-6d02"
    }
   },
   "outputs": [],
   "source": []
  }
 ],
 "metadata": {
  "kernelspec": {
   "display_name": "Python 3",
   "language": "python",
   "name": "python3"
  },
  "language_info": {
   "file_extension": ".py",
   "mimetype": "text/x-python",
   "name": "python",
   "nbconvert_exporter": "python",
   "pygments_lexer": "ipython3",
   "version": "3.10.4"
  },
  "lc_notebook_meme": {
   "current": "35c33086-55a3-11e7-b0b2-00163e9c0e35"
  },
  "toc": {
   "base_numbering": 1,
   "nav_menu": {
    "height": "484px",
    "width": "687px"
   },
   "number_sections": true,
   "sideBar": true,
   "skip_h1_title": false,
   "title_cell": "Table of Contents",
   "title_sidebar": "Contents",
   "toc_cell": false,
   "toc_position": {
    "height": "1156px",
    "left": "0px",
    "right": "1330px",
    "top": "106px",
    "width": "340.983px"
   },
   "toc_section_display": "block",
   "toc_window_display": true
  }
 },
 "nbformat": 4,
 "nbformat_minor": 1
}
