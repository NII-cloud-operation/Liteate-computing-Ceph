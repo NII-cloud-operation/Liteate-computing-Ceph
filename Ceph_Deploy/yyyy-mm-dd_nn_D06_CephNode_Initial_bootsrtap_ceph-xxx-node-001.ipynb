{
 "cells": [
  {
   "cell_type": "markdown",
   "metadata": {
    "collapsed": true,
    "lc_cell_meme": {
     "current": "35c33414-55a3-11e7-b0b2-00163e9c0e35-8-ffee-ac17-9684-a149-7a45-939b-470a-8982",
     "history": [
      {
       "current": "35c33414-55a3-11e7-b0b2-00163e9c0e35",
       "next": "35c33626-55a3-11e7-b0b2-00163e9c0e35",
       "previous": null
      },
      {
       "current": "35c33414-55a3-11e7-b0b2-00163e9c0e35",
       "next": "35c33626-55a3-11e7-b0b2-00163e9c0e35",
       "previous": null
      },
      {
       "current": "35c33414-55a3-11e7-b0b2-00163e9c0e35",
       "next": "35c33626-55a3-11e7-b0b2-00163e9c0e35",
       "previous": "0db87670-9586-11ea-8d02-0242ac120007"
      },
      {
       "current": "35c33414-55a3-11e7-b0b2-00163e9c0e35-1-ffee",
       "next": "35c337f2-55a3-11e7-b0b2-00163e9c0e35",
       "previous": null
      },
      {
       "current": "35c33414-55a3-11e7-b0b2-00163e9c0e35-2-ffee-ac17",
       "next": "35c337f2-55a3-11e7-b0b2-00163e9c0e35-1-b874",
       "previous": null
      },
      {
       "current": "35c33414-55a3-11e7-b0b2-00163e9c0e35-3-ffee-ac17-9684",
       "next": "35c337f2-55a3-11e7-b0b2-00163e9c0e35-2-b874-13f7",
       "previous": null
      },
      {
       "current": "35c33414-55a3-11e7-b0b2-00163e9c0e35-4-ffee-ac17-9684-a149",
       "next": "35c337f2-55a3-11e7-b0b2-00163e9c0e35-3-b874-13f7-3f47",
       "previous": null
      },
      {
       "current": "35c33414-55a3-11e7-b0b2-00163e9c0e35-5-ffee-ac17-9684-a149-7a45",
       "next": "35c339aa-55a3-11e7-b0b2-00163e9c0e35-4-eee2-af6c-3cfe-4f01",
       "previous": null
      },
      {
       "current": "35c33414-55a3-11e7-b0b2-00163e9c0e35-6-ffee-ac17-9684-a149-7a45-939b",
       "next": "35c339aa-55a3-11e7-b0b2-00163e9c0e35-5-eee2-af6c-3cfe-4f01-6c57",
       "previous": null
      },
      {
       "current": "35c33414-55a3-11e7-b0b2-00163e9c0e35-7-ffee-ac17-9684-a149-7a45-939b-470a",
       "next": "35c339aa-55a3-11e7-b0b2-00163e9c0e35-6-eee2-af6c-3cfe-4f01-6c57-640e",
       "previous": null
      },
      {
       "current": "35c33414-55a3-11e7-b0b2-00163e9c0e35-8-ffee-ac17-9684-a149-7a45-939b-470a-8982",
       "next": "35c339aa-55a3-11e7-b0b2-00163e9c0e35-7-eee2-af6c-3cfe-4f01-6c57-640e-bc25",
       "previous": null
      }
     ],
     "next": "35c339aa-55a3-11e7-b0b2-00163e9c0e35-8-eee2-af6c-3cfe-4f01-6c57-640e-bc25-94f4",
     "previous": null
    }
   },
   "source": [
    "# Cephノード構築：cephadm bootstrap構築\n",
    "cephadm bootstrap構築<br>\n"
   ]
  },
  {
   "cell_type": "markdown",
   "metadata": {
    "lc_cell_meme": {
     "current": "35c339aa-55a3-11e7-b0b2-00163e9c0e35-8-eee2-af6c-3cfe-4f01-6c57-640e-bc25-94f4",
     "history": [
      {
       "current": "35c339aa-55a3-11e7-b0b2-00163e9c0e35",
       "next": "35c33b6c-55a3-11e7-b0b2-00163e9c0e35",
       "previous": "35c337f2-55a3-11e7-b0b2-00163e9c0e35"
      },
      {
       "current": "35c339aa-55a3-11e7-b0b2-00163e9c0e35",
       "next": "670888aa-5722-11e7-b0b2-00163e9c0e35",
       "previous": "35c337f2-55a3-11e7-b0b2-00163e9c0e35"
      },
      {
       "current": "35c339aa-55a3-11e7-b0b2-00163e9c0e35",
       "next": "670888aa-5722-11e7-b0b2-00163e9c0e35",
       "previous": "357fc83a-969d-11ea-8d02-0242ac120007"
      },
      {
       "current": "35c339aa-55a3-11e7-b0b2-00163e9c0e35-1-eee2",
       "next": "670888aa-5722-11e7-b0b2-00163e9c0e35",
       "previous": "8a48dae0-98a1-11ea-8d02-0242ac120007"
      },
      {
       "current": "35c339aa-55a3-11e7-b0b2-00163e9c0e35-2-eee2-af6c",
       "next": "670888aa-5722-11e7-b0b2-00163e9c0e35-1-17ba",
       "previous": "8a48dae0-98a1-11ea-8d02-0242ac120007-1-4da2"
      },
      {
       "current": "35c339aa-55a3-11e7-b0b2-00163e9c0e35-2-eee2-af6c",
       "next": "670888aa-5722-11e7-b0b2-00163e9c0e35-2-17ba-53fc",
       "previous": "8a48dae0-98a1-11ea-8d02-0242ac120007-2-4da2-9c77"
      },
      {
       "current": "35c339aa-55a3-11e7-b0b2-00163e9c0e35-3-eee2-af6c-3cfe",
       "next": "670888aa-5722-11e7-b0b2-00163e9c0e35-2-17ba-53fc",
       "previous": "35c337f2-55a3-11e7-b0b2-00163e9c0e35-2-b874-13f7"
      },
      {
       "current": "35c339aa-55a3-11e7-b0b2-00163e9c0e35-4-eee2-af6c-3cfe-4f01",
       "next": "670888aa-5722-11e7-b0b2-00163e9c0e35-3-17ba-53fc-2957",
       "previous": "35c337f2-55a3-11e7-b0b2-00163e9c0e35-3-b874-13f7-3f47"
      },
      {
       "current": "35c339aa-55a3-11e7-b0b2-00163e9c0e35-5-eee2-af6c-3cfe-4f01-6c57",
       "next": "670888aa-5722-11e7-b0b2-00163e9c0e35-4-17ba-53fc-2957-44bf",
       "previous": "35c33414-55a3-11e7-b0b2-00163e9c0e35-4-ffee-ac17-9684-a149"
      },
      {
       "current": "35c339aa-55a3-11e7-b0b2-00163e9c0e35-6-eee2-af6c-3cfe-4f01-6c57-640e",
       "next": "670888aa-5722-11e7-b0b2-00163e9c0e35-5-17ba-53fc-2957-44bf-3a2d",
       "previous": "35c33414-55a3-11e7-b0b2-00163e9c0e35-5-ffee-ac17-9684-a149-7a45"
      },
      {
       "current": "35c339aa-55a3-11e7-b0b2-00163e9c0e35-7-eee2-af6c-3cfe-4f01-6c57-640e-bc25",
       "next": "670888aa-5722-11e7-b0b2-00163e9c0e35-6-17ba-53fc-2957-44bf-3a2d-1bd1",
       "previous": "35c33414-55a3-11e7-b0b2-00163e9c0e35-6-ffee-ac17-9684-a149-7a45-939b"
      },
      {
       "current": "35c339aa-55a3-11e7-b0b2-00163e9c0e35-8-eee2-af6c-3cfe-4f01-6c57-640e-bc25-94f4",
       "next": "670888aa-5722-11e7-b0b2-00163e9c0e35-7-17ba-53fc-2957-44bf-3a2d-1bd1-f96d",
       "previous": "35c33414-55a3-11e7-b0b2-00163e9c0e35-7-ffee-ac17-9684-a149-7a45-939b-470a"
      }
     ],
     "next": "670888aa-5722-11e7-b0b2-00163e9c0e35-8-17ba-53fc-2957-44bf-3a2d-1bd1-f96d-14b8",
     "previous": "35c33414-55a3-11e7-b0b2-00163e9c0e35-8-ffee-ac17-9684-a149-7a45-939b-470a-8982"
    }
   },
   "source": [
    "# パラメータ定義"
   ]
  },
  {
   "cell_type": "markdown",
   "metadata": {
    "lc_cell_meme": {
     "current": "670888aa-5722-11e7-b0b2-00163e9c0e35-8-17ba-53fc-2957-44bf-3a2d-1bd1-f96d-14b8",
     "history": [
      {
       "current": "670888aa-5722-11e7-b0b2-00163e9c0e35-1-17ba",
       "next": "35c33b6c-55a3-11e7-b0b2-00163e9c0e35",
       "previous": "35c339aa-55a3-11e7-b0b2-00163e9c0e35"
      },
      {
       "current": "670888aa-5722-11e7-b0b2-00163e9c0e35-2-17ba-53fc",
       "next": "35c33b6c-55a3-11e7-b0b2-00163e9c0e35-1-c84d",
       "previous": "35c339aa-55a3-11e7-b0b2-00163e9c0e35-1-eee2"
      },
      {
       "current": "670888aa-5722-11e7-b0b2-00163e9c0e35-3-17ba-53fc-2957",
       "next": "35c33b6c-55a3-11e7-b0b2-00163e9c0e35-2-c84d-3439",
       "previous": "35c339aa-55a3-11e7-b0b2-00163e9c0e35-2-eee2-af6c"
      },
      {
       "current": "670888aa-5722-11e7-b0b2-00163e9c0e35-4-17ba-53fc-2957-44bf",
       "next": "35c33b6c-55a3-11e7-b0b2-00163e9c0e35-3-c84d-3439-eddb",
       "previous": "35c339aa-55a3-11e7-b0b2-00163e9c0e35-3-eee2-af6c-3cfe"
      },
      {
       "current": "670888aa-5722-11e7-b0b2-00163e9c0e35-5-17ba-53fc-2957-44bf-3a2d",
       "next": "35c33b6c-55a3-11e7-b0b2-00163e9c0e35-4-c84d-3439-eddb-6abd",
       "previous": "35c339aa-55a3-11e7-b0b2-00163e9c0e35-4-eee2-af6c-3cfe-4f01"
      },
      {
       "current": "670888aa-5722-11e7-b0b2-00163e9c0e35-6-17ba-53fc-2957-44bf-3a2d-1bd1",
       "next": "35c33b6c-55a3-11e7-b0b2-00163e9c0e35-5-c84d-3439-eddb-6abd-af8e",
       "previous": "35c339aa-55a3-11e7-b0b2-00163e9c0e35-5-eee2-af6c-3cfe-4f01-6c57"
      },
      {
       "current": "670888aa-5722-11e7-b0b2-00163e9c0e35-7-17ba-53fc-2957-44bf-3a2d-1bd1-f96d",
       "next": "35c33b6c-55a3-11e7-b0b2-00163e9c0e35-6-c84d-3439-eddb-6abd-af8e-235f",
       "previous": "35c339aa-55a3-11e7-b0b2-00163e9c0e35-6-eee2-af6c-3cfe-4f01-6c57-640e"
      },
      {
       "current": "670888aa-5722-11e7-b0b2-00163e9c0e35-8-17ba-53fc-2957-44bf-3a2d-1bd1-f96d-14b8",
       "next": "35c33b6c-55a3-11e7-b0b2-00163e9c0e35-7-c84d-3439-eddb-6abd-af8e-235f-f9e7",
       "previous": "35c339aa-55a3-11e7-b0b2-00163e9c0e35-7-eee2-af6c-3cfe-4f01-6c57-640e-bc25"
      }
     ],
     "next": "35c33b6c-55a3-11e7-b0b2-00163e9c0e35-8-c84d-3439-eddb-6abd-af8e-235f-f9e7-5020",
     "previous": "35c339aa-55a3-11e7-b0b2-00163e9c0e35-8-eee2-af6c-3cfe-4f01-6c57-640e-bc25-94f4"
    }
   },
   "source": [
    "## パラメータファイル設定"
   ]
  },
  {
   "cell_type": "markdown",
   "metadata": {
    "lc_cell_meme": {
     "current": "35c33b6c-55a3-11e7-b0b2-00163e9c0e35-8-c84d-3439-eddb-6abd-af8e-235f-f9e7-5020",
     "history": [
      {
       "current": "35c33b6c-55a3-11e7-b0b2-00163e9c0e35",
       "next": "35c33d24-55a3-11e7-b0b2-00163e9c0e35",
       "previous": "35c339aa-55a3-11e7-b0b2-00163e9c0e35"
      },
      {
       "current": "35c33b6c-55a3-11e7-b0b2-00163e9c0e35-1-c84d",
       "next": "35c33d24-55a3-11e7-b0b2-00163e9c0e35",
       "previous": "670888aa-5722-11e7-b0b2-00163e9c0e35"
      },
      {
       "current": "35c33b6c-55a3-11e7-b0b2-00163e9c0e35-2-c84d-3439",
       "next": "35c33d24-55a3-11e7-b0b2-00163e9c0e35-1-c8d8",
       "previous": "670888aa-5722-11e7-b0b2-00163e9c0e35-1-17ba"
      },
      {
       "current": "35c33b6c-55a3-11e7-b0b2-00163e9c0e35-3-c84d-3439-eddb",
       "next": "35c33d24-55a3-11e7-b0b2-00163e9c0e35-2-c8d8-c063",
       "previous": "670888aa-5722-11e7-b0b2-00163e9c0e35-2-17ba-53fc"
      },
      {
       "current": "35c33b6c-55a3-11e7-b0b2-00163e9c0e35-4-c84d-3439-eddb-6abd",
       "next": "35c33d24-55a3-11e7-b0b2-00163e9c0e35-3-c8d8-c063-e3d4",
       "previous": "670888aa-5722-11e7-b0b2-00163e9c0e35-3-17ba-53fc-2957"
      },
      {
       "current": "35c33b6c-55a3-11e7-b0b2-00163e9c0e35-5-c84d-3439-eddb-6abd-af8e",
       "next": "35c33d24-55a3-11e7-b0b2-00163e9c0e35-4-c8d8-c063-e3d4-deab",
       "previous": "670888aa-5722-11e7-b0b2-00163e9c0e35-4-17ba-53fc-2957-44bf"
      },
      {
       "current": "35c33b6c-55a3-11e7-b0b2-00163e9c0e35-6-c84d-3439-eddb-6abd-af8e-235f",
       "next": "35c33d24-55a3-11e7-b0b2-00163e9c0e35-5-c8d8-c063-e3d4-deab-0975",
       "previous": "670888aa-5722-11e7-b0b2-00163e9c0e35-5-17ba-53fc-2957-44bf-3a2d"
      },
      {
       "current": "35c33b6c-55a3-11e7-b0b2-00163e9c0e35-6-c84d-3439-eddb-6abd-af8e-235f",
       "next": "35c33d24-55a3-11e7-b0b2-00163e9c0e35-6-c8d8-c063-e3d4-deab-0975-50e3",
       "previous": "670888aa-5722-11e7-b0b2-00163e9c0e35-6-17ba-53fc-2957-44bf-3a2d-1bd1"
      },
      {
       "current": "35c33b6c-55a3-11e7-b0b2-00163e9c0e35-7-c84d-3439-eddb-6abd-af8e-235f-f9e7",
       "next": "43c0a704-1c98-11ef-ad2f-0242ac120005",
       "previous": "670888aa-5722-11e7-b0b2-00163e9c0e35-6-17ba-53fc-2957-44bf-3a2d-1bd1"
      },
      {
       "current": "35c33b6c-55a3-11e7-b0b2-00163e9c0e35-8-c84d-3439-eddb-6abd-af8e-235f-f9e7-5020",
       "next": "43c0a704-1c98-11ef-ad2f-0242ac120005-1-b475",
       "previous": "670888aa-5722-11e7-b0b2-00163e9c0e35-7-17ba-53fc-2957-44bf-3a2d-1bd1-f96d"
      }
     ],
     "next": "43c0a704-1c98-11ef-ad2f-0242ac120005-2-b475-3eb5",
     "previous": "670888aa-5722-11e7-b0b2-00163e9c0e35-8-17ba-53fc-2957-44bf-3a2d-1bd1-f96d-14b8"
    }
   },
   "source": [
    "Cephクラスタの定義ファイルを指定するため、<br>\n",
    "パラメータ定義格納ディレクトリを表示する。"
   ]
  },
  {
   "cell_type": "code",
   "execution_count": null,
   "metadata": {
    "lc_cell_meme": {
     "current": "43c0a704-1c98-11ef-ad2f-0242ac120005-2-b475-3eb5",
     "history": [
      {
       "current": "43c0a704-1c98-11ef-ad2f-0242ac120005-1-b475",
       "next": "43c0a7fe-1c98-11ef-ad2f-0242ac120005",
       "previous": "35c33b6c-55a3-11e7-b0b2-00163e9c0e35-6-c84d-3439-eddb-6abd-af8e-235f"
      },
      {
       "current": "43c0a704-1c98-11ef-ad2f-0242ac120005-2-b475-3eb5",
       "next": "43c0a7fe-1c98-11ef-ad2f-0242ac120005-1-344c",
       "previous": "35c33b6c-55a3-11e7-b0b2-00163e9c0e35-7-c84d-3439-eddb-6abd-af8e-235f-f9e7"
      }
     ],
     "next": "43c0a7fe-1c98-11ef-ad2f-0242ac120005-2-344c-f603",
     "previous": "35c33b6c-55a3-11e7-b0b2-00163e9c0e35-8-c84d-3439-eddb-6abd-af8e-235f-f9e7-5020"
    }
   },
   "outputs": [],
   "source": [
    "!ls -p ~/notebooks/share/ | grep \"/$\""
   ]
  },
  {
   "cell_type": "code",
   "execution_count": null,
   "metadata": {
    "lc_cell_meme": {
     "current": "43c0a7fe-1c98-11ef-ad2f-0242ac120005-2-344c-f603",
     "history": [
      {
       "current": "43c0a7fe-1c98-11ef-ad2f-0242ac120005-1-344c",
       "next": "43c0a830-1c98-11ef-ad2f-0242ac120005",
       "previous": "43c0a704-1c98-11ef-ad2f-0242ac120005"
      },
      {
       "current": "43c0a7fe-1c98-11ef-ad2f-0242ac120005-2-344c-f603",
       "next": "43c0a830-1c98-11ef-ad2f-0242ac120005-1-88d1",
       "previous": "43c0a704-1c98-11ef-ad2f-0242ac120005-1-b475"
      }
     ],
     "next": "43c0a830-1c98-11ef-ad2f-0242ac120005-2-88d1-6df8",
     "previous": "43c0a704-1c98-11ef-ad2f-0242ac120005-2-b475-3eb5"
    }
   },
   "outputs": [],
   "source": [
    "!ls -p ~/notebooks/share/configuration"
   ]
  },
  {
   "cell_type": "code",
   "execution_count": null,
   "metadata": {
    "lc_cell_meme": {
     "current": "43c0a830-1c98-11ef-ad2f-0242ac120005-2-88d1-6df8",
     "history": [
      {
       "current": "43c0a830-1c98-11ef-ad2f-0242ac120005-1-88d1",
       "next": "43c0a858-1c98-11ef-ad2f-0242ac120005",
       "previous": "43c0a7fe-1c98-11ef-ad2f-0242ac120005"
      },
      {
       "current": "43c0a830-1c98-11ef-ad2f-0242ac120005-2-88d1-6df8",
       "next": "43c0a858-1c98-11ef-ad2f-0242ac120005-1-6e1d",
       "previous": "43c0a7fe-1c98-11ef-ad2f-0242ac120005-1-344c"
      }
     ],
     "next": "43c0a858-1c98-11ef-ad2f-0242ac120005-2-6e1d-e17e",
     "previous": "43c0a7fe-1c98-11ef-ad2f-0242ac120005-2-344c-f603"
    }
   },
   "outputs": [],
   "source": [
    "!ls -p ~/notebooks/share/configuration/ceph"
   ]
  },
  {
   "cell_type": "code",
   "execution_count": null,
   "metadata": {
    "lc_cell_meme": {
     "current": "43c0a858-1c98-11ef-ad2f-0242ac120005-2-6e1d-e17e",
     "history": [
      {
       "current": "43c0a858-1c98-11ef-ad2f-0242ac120005-1-6e1d",
       "next": "43c0a876-1c98-11ef-ad2f-0242ac120005",
       "previous": "43c0a830-1c98-11ef-ad2f-0242ac120005"
      },
      {
       "current": "43c0a858-1c98-11ef-ad2f-0242ac120005-2-6e1d-e17e",
       "next": "43c0a876-1c98-11ef-ad2f-0242ac120005-1-cd21",
       "previous": "43c0a830-1c98-11ef-ad2f-0242ac120005-1-88d1"
      }
     ],
     "next": "43c0a876-1c98-11ef-ad2f-0242ac120005-2-cd21-0fec",
     "previous": "43c0a830-1c98-11ef-ad2f-0242ac120005-2-88d1-6df8"
    }
   },
   "outputs": [],
   "source": [
    "import sys, os.path, importlib, json, yaml\n",
    "\n",
    "config_file_name = \"ceph_admin_vm.yml\"\n",
    "config_file_path = os.path.expanduser(\"~/notebooks/share/configuration/ceph/{}\".format(config_file_name))\n",
    "with open(config_file_path) as f:\n",
    "    admin_params = yaml.safe_load(f)\n",
    "admin_params"
   ]
  },
  {
   "cell_type": "code",
   "execution_count": null,
   "metadata": {
    "lc_cell_meme": {
     "current": "43c0a876-1c98-11ef-ad2f-0242ac120005-2-cd21-0fec",
     "history": [
      {
       "current": "43c0a876-1c98-11ef-ad2f-0242ac120005-1-cd21",
       "next": "43c0a89e-1c98-11ef-ad2f-0242ac120005",
       "previous": "43c0a858-1c98-11ef-ad2f-0242ac120005"
      },
      {
       "current": "43c0a876-1c98-11ef-ad2f-0242ac120005-2-cd21-0fec",
       "next": "43c0a89e-1c98-11ef-ad2f-0242ac120005-1-8c8b",
       "previous": "43c0a858-1c98-11ef-ad2f-0242ac120005-1-6e1d"
      }
     ],
     "next": "43c0a89e-1c98-11ef-ad2f-0242ac120005-2-8c8b-2e8a",
     "previous": "43c0a858-1c98-11ef-ad2f-0242ac120005-2-6e1d-e17e"
    }
   },
   "outputs": [],
   "source": [
    "target_vm_name = 'xxx-ceph-admin1'\n",
    "admin_patam = admin_params[target_vm_name]\n",
    "admin_patam"
   ]
  },
  {
   "cell_type": "code",
   "execution_count": null,
   "metadata": {
    "lc_cell_meme": {
     "current": "43c0a89e-1c98-11ef-ad2f-0242ac120005-2-8c8b-2e8a",
     "history": [
      {
       "current": "43c0a89e-1c98-11ef-ad2f-0242ac120005-1-8c8b",
       "next": "43c0a8c6-1c98-11ef-ad2f-0242ac120005",
       "previous": "43c0a876-1c98-11ef-ad2f-0242ac120005"
      },
      {
       "current": "43c0a89e-1c98-11ef-ad2f-0242ac120005-2-8c8b-2e8a",
       "next": "43c0a8c6-1c98-11ef-ad2f-0242ac120005-1-09d4",
       "previous": "43c0a876-1c98-11ef-ad2f-0242ac120005-1-cd21"
      }
     ],
     "next": "43c0a8c6-1c98-11ef-ad2f-0242ac120005-2-09d4-04ea",
     "previous": "43c0a876-1c98-11ef-ad2f-0242ac120005-2-cd21-0fec"
    }
   },
   "outputs": [],
   "source": [
    "ceph_admin_ip = admin_patam['network']['provisioning']['ip']"
   ]
  },
  {
   "cell_type": "code",
   "execution_count": null,
   "metadata": {
    "lc_cell_meme": {
     "current": "43c0a8c6-1c98-11ef-ad2f-0242ac120005-2-09d4-04ea",
     "history": [
      {
       "current": "43c0a8c6-1c98-11ef-ad2f-0242ac120005-1-09d4",
       "next": "43c0a8ee-1c98-11ef-ad2f-0242ac120005",
       "previous": "43c0a89e-1c98-11ef-ad2f-0242ac120005"
      },
      {
       "current": "43c0a8c6-1c98-11ef-ad2f-0242ac120005-2-09d4-04ea",
       "next": "43c0a8ee-1c98-11ef-ad2f-0242ac120005-1-9cc2",
       "previous": "43c0a89e-1c98-11ef-ad2f-0242ac120005-1-8c8b"
      }
     ],
     "next": "43c0a8ee-1c98-11ef-ad2f-0242ac120005-2-9cc2-9768",
     "previous": "43c0a89e-1c98-11ef-ad2f-0242ac120005-2-8c8b-2e8a"
    }
   },
   "outputs": [],
   "source": [
    "import sys, os.path, importlib, json, yaml\n",
    "\n",
    "config_file_name = \"xxx-openstack-parameter.yml\"\n",
    "config_file_path = os.path.expanduser(\"~/notebooks/share/configuration/{}\".format(config_file_name))\n",
    "with open(config_file_path) as f:\n",
    "    params = yaml.safe_load(f)\n",
    "params"
   ]
  },
  {
   "cell_type": "code",
   "execution_count": null,
   "metadata": {
    "lc_cell_meme": {
     "current": "43c0a8ee-1c98-11ef-ad2f-0242ac120005-2-9cc2-9768",
     "history": [
      {
       "current": "43c0a8ee-1c98-11ef-ad2f-0242ac120005-1-9cc2",
       "next": "43c0a90c-1c98-11ef-ad2f-0242ac120005",
       "previous": "43c0a8c6-1c98-11ef-ad2f-0242ac120005"
      },
      {
       "current": "43c0a8ee-1c98-11ef-ad2f-0242ac120005-2-9cc2-9768",
       "next": "43c0a90c-1c98-11ef-ad2f-0242ac120005-1-f7d6",
       "previous": "43c0a8c6-1c98-11ef-ad2f-0242ac120005-1-09d4"
      }
     ],
     "next": "43c0a90c-1c98-11ef-ad2f-0242ac120005-2-f7d6-4efd",
     "previous": "43c0a8c6-1c98-11ef-ad2f-0242ac120005-2-09d4-04ea"
    }
   },
   "outputs": [],
   "source": [
    "repo_server = params['repository']['addresses']['service_operation']\n",
    "repo_server"
   ]
  },
  {
   "cell_type": "code",
   "execution_count": null,
   "metadata": {
    "lc_cell_meme": {
     "current": "43c0a90c-1c98-11ef-ad2f-0242ac120005-2-f7d6-4efd",
     "history": [
      {
       "current": "43c0a90c-1c98-11ef-ad2f-0242ac120005-1-f7d6",
       "next": "43c0a934-1c98-11ef-ad2f-0242ac120005",
       "previous": "43c0a8ee-1c98-11ef-ad2f-0242ac120005"
      },
      {
       "current": "43c0a90c-1c98-11ef-ad2f-0242ac120005-2-f7d6-4efd",
       "next": "43c0a934-1c98-11ef-ad2f-0242ac120005-1-f982",
       "previous": "43c0a8ee-1c98-11ef-ad2f-0242ac120005-1-9cc2"
      }
     ],
     "next": "43c0a934-1c98-11ef-ad2f-0242ac120005-2-f982-3d3d",
     "previous": "43c0a8ee-1c98-11ef-ad2f-0242ac120005-2-9cc2-9768"
    }
   },
   "outputs": [],
   "source": [
    "provisioning_vip = params['openstack']['provisioning_vip']\n",
    "provisioning_vip"
   ]
  },
  {
   "cell_type": "code",
   "execution_count": null,
   "metadata": {
    "lc_cell_meme": {
     "current": "43c0a934-1c98-11ef-ad2f-0242ac120005-2-f982-3d3d",
     "history": [
      {
       "current": "43c0a934-1c98-11ef-ad2f-0242ac120005",
       "next": "43c0a95c-1c98-11ef-ad2f-0242ac120005",
       "previous": "43c0a90c-1c98-11ef-ad2f-0242ac120005"
      },
      {
       "current": "43c0a934-1c98-11ef-ad2f-0242ac120005-1-f982",
       "next": "bf249b06-98af-11ea-8d02-0242ac120007-6-1e49-e772-9042-9943-f4c5-c785",
       "previous": "43c0a90c-1c98-11ef-ad2f-0242ac120005"
      },
      {
       "current": "43c0a934-1c98-11ef-ad2f-0242ac120005-2-f982-3d3d",
       "next": "bf249b06-98af-11ea-8d02-0242ac120007-7-1e49-e772-9042-9943-f4c5-c785-225b",
       "previous": "43c0a90c-1c98-11ef-ad2f-0242ac120005-1-f7d6"
      }
     ],
     "next": "bf249b06-98af-11ea-8d02-0242ac120007-8-1e49-e772-9042-9943-f4c5-c785-225b-884a",
     "previous": "43c0a90c-1c98-11ef-ad2f-0242ac120005-2-f7d6-4efd"
    }
   },
   "outputs": [],
   "source": [
    "network_segment_controller_vip = params['network_segment_controller_vip']\n",
    "network_segment_controller_vip"
   ]
  },
  {
   "cell_type": "markdown",
   "metadata": {
    "heading_collapsed": true,
    "lc_cell_meme": {
     "current": "bf249b06-98af-11ea-8d02-0242ac120007-8-1e49-e772-9042-9943-f4c5-c785-225b-884a",
     "history": [
      {
       "current": "bf249b06-98af-11ea-8d02-0242ac120007",
       "next": "d1bcb8ac-9599-11ea-8d02-0242ac120007",
       "previous": "7dae8996-9686-11ea-8d02-0242ac120007"
      },
      {
       "current": "bf249b06-98af-11ea-8d02-0242ac120007-1-1e49",
       "next": "dd8e3cbc-98f2-11ea-8d02-0242ac120007",
       "previous": "7dae8996-9686-11ea-8d02-0242ac120007"
      },
      {
       "current": "bf249b06-98af-11ea-8d02-0242ac120007-2-1e49-e772",
       "next": "dd8e3cbc-98f2-11ea-8d02-0242ac120007-1-706a",
       "previous": "7dae8996-9686-11ea-8d02-0242ac120007-1-20c5"
      },
      {
       "current": "bf249b06-98af-11ea-8d02-0242ac120007-2-1e49-e772",
       "next": "dd8e3cbc-98f2-11ea-8d02-0242ac120007-2-706a-309d",
       "previous": "7dae8996-9686-11ea-8d02-0242ac120007-2-20c5-a0b0"
      },
      {
       "current": "bf249b06-98af-11ea-8d02-0242ac120007-2-1e49-e772",
       "next": "dd8e3cbc-98f2-11ea-8d02-0242ac120007-2-706a-309d",
       "previous": "1afe76e2-def8-11eb-b29f-0242ac120008"
      },
      {
       "current": "bf249b06-98af-11ea-8d02-0242ac120007-2-1e49-e772",
       "next": "d1bcb8ac-9599-11ea-8d02-0242ac120007-2-ec95-2870",
       "previous": "1afe76e2-def8-11eb-b29f-0242ac120008"
      },
      {
       "current": "bf249b06-98af-11ea-8d02-0242ac120007-2-1e49-e772",
       "next": "d1bcb8ac-9599-11ea-8d02-0242ac120007-2-ec95-2870",
       "previous": "445f36bc-def7-11eb-b29f-0242ac120008"
      },
      {
       "current": "bf249b06-98af-11ea-8d02-0242ac120007-3-1e49-e772-9042",
       "next": "d1bcb8ac-9599-11ea-8d02-0242ac120007-2-ec95-2870",
       "previous": "17dd310e-deff-11eb-b29f-0242ac120008"
      },
      {
       "current": "bf249b06-98af-11ea-8d02-0242ac120007-4-1e49-e772-9042-9943",
       "next": "d1bcb8ac-9599-11ea-8d02-0242ac120007-3-ec95-2870-3f6b",
       "previous": "17dd310e-deff-11eb-b29f-0242ac120008-1-9f34"
      },
      {
       "current": "bf249b06-98af-11ea-8d02-0242ac120007-5-1e49-e772-9042-9943-f4c5",
       "next": "d1bcb8ac-9599-11ea-8d02-0242ac120007-4-ec95-2870-3f6b-a461",
       "previous": "17dd310e-deff-11eb-b29f-0242ac120008-2-9f34-03e3"
      },
      {
       "current": "bf249b06-98af-11ea-8d02-0242ac120007-6-1e49-e772-9042-9943-f4c5-c785",
       "next": "d1bcb8ac-9599-11ea-8d02-0242ac120007-5-ec95-2870-3f6b-a461-25d8",
       "previous": "17dd310e-deff-11eb-b29f-0242ac120008-3-9f34-03e3-c200"
      },
      {
       "current": "bf249b06-98af-11ea-8d02-0242ac120007-6-1e49-e772-9042-9943-f4c5-c785",
       "next": "d1bcb8ac-9599-11ea-8d02-0242ac120007-6-ec95-2870-3f6b-a461-25d8-4f90",
       "previous": "17dd310e-deff-11eb-b29f-0242ac120008-4-9f34-03e3-c200-e9bf"
      },
      {
       "current": "bf249b06-98af-11ea-8d02-0242ac120007-7-1e49-e772-9042-9943-f4c5-c785-225b",
       "next": "d1bcb8ac-9599-11ea-8d02-0242ac120007-6-ec95-2870-3f6b-a461-25d8-4f90",
       "previous": "43c0a934-1c98-11ef-ad2f-0242ac120005"
      },
      {
       "current": "bf249b06-98af-11ea-8d02-0242ac120007-8-1e49-e772-9042-9943-f4c5-c785-225b-884a",
       "next": "d1bcb8ac-9599-11ea-8d02-0242ac120007-7-ec95-2870-3f6b-a461-25d8-4f90-036f",
       "previous": "43c0a934-1c98-11ef-ad2f-0242ac120005-1-f982"
      }
     ],
     "next": "d1bcb8ac-9599-11ea-8d02-0242ac120007-8-ec95-2870-3f6b-a461-25d8-4f90-036f-f832",
     "previous": "43c0a934-1c98-11ef-ad2f-0242ac120005-2-f982-3d3d"
    }
   },
   "source": [
    "## CephノードとストレージセグメントIPアドレス対応表の読み込み"
   ]
  },
  {
   "cell_type": "code",
   "execution_count": null,
   "metadata": {
    "hidden": true,
    "lc_cell_meme": {
     "current": "d1bcb8ac-9599-11ea-8d02-0242ac120007-8-ec95-2870-3f6b-a461-25d8-4f90-036f-f832",
     "history": [
      {
       "current": "d1bcb8ac-9599-11ea-8d02-0242ac120007",
       "next": "d1bcba78-9599-11ea-8d02-0242ac120007",
       "previous": "d1bcb5c8-9599-11ea-8d02-0242ac120007"
      },
      {
       "current": "d1bcb8ac-9599-11ea-8d02-0242ac120007",
       "next": "d1bcba78-9599-11ea-8d02-0242ac120007",
       "previous": "a85c1dda-959a-11ea-8d02-0242ac120007"
      },
      {
       "current": "d1bcb8ac-9599-11ea-8d02-0242ac120007",
       "next": "81dd4f74-9597-11ea-8d02-0242ac120007",
       "previous": "a85c1dda-959a-11ea-8d02-0242ac120007"
      },
      {
       "current": "d1bcb8ac-9599-11ea-8d02-0242ac120007",
       "next": "e879cdac-95bf-11ea-8d02-0242ac120007",
       "previous": "a85c1dda-959a-11ea-8d02-0242ac120007"
      },
      {
       "current": "d1bcb8ac-9599-11ea-8d02-0242ac120007",
       "next": "7899411a-9692-11ea-8d02-0242ac120007",
       "previous": "bf249b06-98af-11ea-8d02-0242ac120007"
      },
      {
       "current": "d1bcb8ac-9599-11ea-8d02-0242ac120007",
       "next": "06afe9a8-98b0-11ea-8d02-0242ac120007",
       "previous": "bf249b06-98af-11ea-8d02-0242ac120007"
      },
      {
       "current": "d1bcb8ac-9599-11ea-8d02-0242ac120007",
       "next": "06afe9a8-98b0-11ea-8d02-0242ac120007",
       "previous": "dd8e3cbc-98f2-11ea-8d02-0242ac120007"
      },
      {
       "current": "d1bcb8ac-9599-11ea-8d02-0242ac120007-1-ec95",
       "next": "250e7a70-98f3-11ea-8d02-0242ac120007",
       "previous": "dd8e3cbc-98f2-11ea-8d02-0242ac120007"
      },
      {
       "current": "d1bcb8ac-9599-11ea-8d02-0242ac120007-2-ec95-2870",
       "next": "250e7a70-98f3-11ea-8d02-0242ac120007-1-f0b4",
       "previous": "dd8e3cbc-98f2-11ea-8d02-0242ac120007-1-706a"
      },
      {
       "current": "d1bcb8ac-9599-11ea-8d02-0242ac120007-2-ec95-2870",
       "next": "250e7a70-98f3-11ea-8d02-0242ac120007-2-f0b4-6edf",
       "previous": "dd8e3cbc-98f2-11ea-8d02-0242ac120007-2-706a-309d"
      },
      {
       "current": "d1bcb8ac-9599-11ea-8d02-0242ac120007-3-ec95-2870-3f6b",
       "next": "250e7a70-98f3-11ea-8d02-0242ac120007-2-f0b4-6edf",
       "previous": "bf249b06-98af-11ea-8d02-0242ac120007-2-1e49-e772"
      },
      {
       "current": "d1bcb8ac-9599-11ea-8d02-0242ac120007-3-ec95-2870-3f6b",
       "next": "250e7a70-98f3-11ea-8d02-0242ac120007-3-f0b4-6edf-9d40",
       "previous": "bf249b06-98af-11ea-8d02-0242ac120007-3-1e49-e772-9042"
      },
      {
       "current": "d1bcb8ac-9599-11ea-8d02-0242ac120007-4-ec95-2870-3f6b-a461",
       "next": "bddc2970-6f0d-11ee-89fa-0242ac120005",
       "previous": "bf249b06-98af-11ea-8d02-0242ac120007-3-1e49-e772-9042"
      },
      {
       "current": "d1bcb8ac-9599-11ea-8d02-0242ac120007-5-ec95-2870-3f6b-a461-25d8",
       "next": "bddc2970-6f0d-11ee-89fa-0242ac120005-1-befe",
       "previous": "bf249b06-98af-11ea-8d02-0242ac120007-4-1e49-e772-9042-9943"
      },
      {
       "current": "d1bcb8ac-9599-11ea-8d02-0242ac120007-6-ec95-2870-3f6b-a461-25d8-4f90",
       "next": "bddc2970-6f0d-11ee-89fa-0242ac120005-2-befe-2d15",
       "previous": "bf249b06-98af-11ea-8d02-0242ac120007-5-1e49-e772-9042-9943-f4c5"
      },
      {
       "current": "d1bcb8ac-9599-11ea-8d02-0242ac120007-6-ec95-2870-3f6b-a461-25d8-4f90",
       "next": "bddc2970-6f0d-11ee-89fa-0242ac120005-3-befe-2d15-90ee",
       "previous": "bf249b06-98af-11ea-8d02-0242ac120007-6-1e49-e772-9042-9943-f4c5-c785"
      },
      {
       "current": "d1bcb8ac-9599-11ea-8d02-0242ac120007-7-ec95-2870-3f6b-a461-25d8-4f90-036f",
       "next": "05f8dce4-6f0e-11ee-89fa-0242ac120005-3-30ff-0904-5fd9",
       "previous": "bf249b06-98af-11ea-8d02-0242ac120007-6-1e49-e772-9042-9943-f4c5-c785"
      },
      {
       "current": "d1bcb8ac-9599-11ea-8d02-0242ac120007-8-ec95-2870-3f6b-a461-25d8-4f90-036f-f832",
       "next": "05f8dce4-6f0e-11ee-89fa-0242ac120005-4-30ff-0904-5fd9-be1a",
       "previous": "bf249b06-98af-11ea-8d02-0242ac120007-7-1e49-e772-9042-9943-f4c5-c785-225b"
      }
     ],
     "next": "05f8dce4-6f0e-11ee-89fa-0242ac120005-5-30ff-0904-5fd9-be1a-99b1",
     "previous": "bf249b06-98af-11ea-8d02-0242ac120007-8-1e49-e772-9042-9943-f4c5-c785-225b-884a"
    },
    "scrolled": true
   },
   "outputs": [],
   "source": [
    "import os\n",
    "import csv\n",
    "import pandas as pd\n",
    "\n",
    "instance_ip_csv_path =  os.environ['HOME'] + \"/notebooks/share/configuration/ceph/ceph_instance_ip.csv\"\n",
    "instance_ip_list = []\n",
    "instance_ip_map = {}\n",
    "\n",
    "with open(instance_ip_csv_path, 'r') as path_csv:\n",
    "    reader = csv.DictReader(path_csv)\n",
    "    \n",
    "    for record in reader:\n",
    "        instance_ip_list.append(record)\n",
    "        instance_ip_map[record['instance_name']] = record\n",
    "\n",
    "pd.DataFrame(instance_ip_list)"
   ]
  },
  {
   "cell_type": "markdown",
   "metadata": {
    "lc_cell_meme": {
     "current": "05f8dce4-6f0e-11ee-89fa-0242ac120005-5-30ff-0904-5fd9-be1a-99b1",
     "history": [
      {
       "current": "05f8dce4-6f0e-11ee-89fa-0242ac120005-1-30ff",
       "next": "05f8de7e-6f0e-11ee-89fa-0242ac120005",
       "previous": "250e7a70-98f3-11ea-8d02-0242ac120007-3-f0b4-6edf-9d40"
      },
      {
       "current": "05f8dce4-6f0e-11ee-89fa-0242ac120005-2-30ff-0904",
       "next": "05f8de7e-6f0e-11ee-89fa-0242ac120005-1-dfe7",
       "previous": "250e7a70-98f3-11ea-8d02-0242ac120007-4-f0b4-6edf-9d40-b0a6"
      },
      {
       "current": "05f8dce4-6f0e-11ee-89fa-0242ac120005-3-30ff-0904-5fd9",
       "next": "05f8de7e-6f0e-11ee-89fa-0242ac120005-2-dfe7-03e0",
       "previous": "250e7a70-98f3-11ea-8d02-0242ac120007-5-f0b4-6edf-9d40-b0a6-61fb"
      },
      {
       "current": "05f8dce4-6f0e-11ee-89fa-0242ac120005-3-30ff-0904-5fd9",
       "next": "05f8de7e-6f0e-11ee-89fa-0242ac120005-3-dfe7-03e0-ff7a",
       "previous": "250e7a70-98f3-11ea-8d02-0242ac120007-6-f0b4-6edf-9d40-b0a6-61fb-7e2b"
      },
      {
       "current": "05f8dce4-6f0e-11ee-89fa-0242ac120005-4-30ff-0904-5fd9-be1a",
       "next": "05f8de7e-6f0e-11ee-89fa-0242ac120005-3-dfe7-03e0-ff7a",
       "previous": "d1bcb8ac-9599-11ea-8d02-0242ac120007-6-ec95-2870-3f6b-a461-25d8-4f90"
      },
      {
       "current": "05f8dce4-6f0e-11ee-89fa-0242ac120005-5-30ff-0904-5fd9-be1a-99b1",
       "next": "05f8de7e-6f0e-11ee-89fa-0242ac120005-4-dfe7-03e0-ff7a-b51f",
       "previous": "d1bcb8ac-9599-11ea-8d02-0242ac120007-7-ec95-2870-3f6b-a461-25d8-4f90-036f"
      }
     ],
     "next": "05f8de7e-6f0e-11ee-89fa-0242ac120005-5-dfe7-03e0-ff7a-b51f-2012",
     "previous": "d1bcb8ac-9599-11ea-8d02-0242ac120007-8-ec95-2870-3f6b-a461-25d8-4f90-036f-f832"
    }
   },
   "source": [
    "## 作業用ディレクトリを作成する"
   ]
  },
  {
   "cell_type": "code",
   "execution_count": null,
   "metadata": {
    "lc_cell_meme": {
     "current": "05f8de7e-6f0e-11ee-89fa-0242ac120005-5-dfe7-03e0-ff7a-b51f-2012",
     "history": [
      {
       "current": "05f8de7e-6f0e-11ee-89fa-0242ac120005-1-dfe7",
       "next": "05f8df28-6f0e-11ee-89fa-0242ac120005",
       "previous": "05f8dce4-6f0e-11ee-89fa-0242ac120005"
      },
      {
       "current": "05f8de7e-6f0e-11ee-89fa-0242ac120005-2-dfe7-03e0",
       "next": "05f8df28-6f0e-11ee-89fa-0242ac120005-1-4294",
       "previous": "05f8dce4-6f0e-11ee-89fa-0242ac120005-1-30ff"
      },
      {
       "current": "05f8de7e-6f0e-11ee-89fa-0242ac120005-3-dfe7-03e0-ff7a",
       "next": "05f8df28-6f0e-11ee-89fa-0242ac120005-2-4294-de50",
       "previous": "05f8dce4-6f0e-11ee-89fa-0242ac120005-2-30ff-0904"
      },
      {
       "current": "05f8de7e-6f0e-11ee-89fa-0242ac120005-4-dfe7-03e0-ff7a-b51f",
       "next": "05f8df28-6f0e-11ee-89fa-0242ac120005-3-4294-de50-66dd",
       "previous": "05f8dce4-6f0e-11ee-89fa-0242ac120005-3-30ff-0904-5fd9"
      },
      {
       "current": "05f8de7e-6f0e-11ee-89fa-0242ac120005-5-dfe7-03e0-ff7a-b51f-2012",
       "next": "05f8df28-6f0e-11ee-89fa-0242ac120005-4-4294-de50-66dd-f6d3",
       "previous": "05f8dce4-6f0e-11ee-89fa-0242ac120005-4-30ff-0904-5fd9-be1a"
      }
     ],
     "next": "05f8df28-6f0e-11ee-89fa-0242ac120005-5-4294-de50-66dd-f6d3-facb",
     "previous": "05f8dce4-6f0e-11ee-89fa-0242ac120005-5-30ff-0904-5fd9-be1a-99b1"
    }
   },
   "outputs": [],
   "source": [
    "import os,tempfile\n",
    "temp_dir = tempfile.mkdtemp()\n",
    "print (temp_dir)"
   ]
  },
  {
   "cell_type": "markdown",
   "metadata": {
    "lc_cell_meme": {
     "current": "05f8df28-6f0e-11ee-89fa-0242ac120005-5-4294-de50-66dd-f6d3-facb",
     "history": [
      {
       "current": "05f8df28-6f0e-11ee-89fa-0242ac120005-1-4294",
       "next": "05f8dfa0-6f0e-11ee-89fa-0242ac120005",
       "previous": "05f8de7e-6f0e-11ee-89fa-0242ac120005"
      },
      {
       "current": "05f8df28-6f0e-11ee-89fa-0242ac120005-2-4294-de50",
       "next": "05f8dfa0-6f0e-11ee-89fa-0242ac120005-1-a0bb",
       "previous": "05f8de7e-6f0e-11ee-89fa-0242ac120005-1-dfe7"
      },
      {
       "current": "05f8df28-6f0e-11ee-89fa-0242ac120005-3-4294-de50-66dd",
       "next": "05f8dfa0-6f0e-11ee-89fa-0242ac120005-2-a0bb-f6f7",
       "previous": "05f8de7e-6f0e-11ee-89fa-0242ac120005-2-dfe7-03e0"
      },
      {
       "current": "05f8df28-6f0e-11ee-89fa-0242ac120005-4-4294-de50-66dd-f6d3",
       "next": "05f8dfa0-6f0e-11ee-89fa-0242ac120005-3-a0bb-f6f7-5f6a",
       "previous": "05f8de7e-6f0e-11ee-89fa-0242ac120005-3-dfe7-03e0-ff7a"
      },
      {
       "current": "05f8df28-6f0e-11ee-89fa-0242ac120005-5-4294-de50-66dd-f6d3-facb",
       "next": "05f8dfa0-6f0e-11ee-89fa-0242ac120005-4-a0bb-f6f7-5f6a-dc03",
       "previous": "05f8de7e-6f0e-11ee-89fa-0242ac120005-4-dfe7-03e0-ff7a-b51f"
      }
     ],
     "next": "05f8dfa0-6f0e-11ee-89fa-0242ac120005-5-a0bb-f6f7-5f6a-dc03-d982",
     "previous": "05f8de7e-6f0e-11ee-89fa-0242ac120005-5-dfe7-03e0-ff7a-b51f-2012"
    }
   },
   "source": [
    "## AnsibleのInventoryファイルを作業用ディレクトリへ作成する"
   ]
  },
  {
   "cell_type": "code",
   "execution_count": null,
   "metadata": {
    "lc_cell_meme": {
     "current": "05f8dfa0-6f0e-11ee-89fa-0242ac120005-5-a0bb-f6f7-5f6a-dc03-d982",
     "history": [
      {
       "current": "05f8dfa0-6f0e-11ee-89fa-0242ac120005-1-a0bb",
       "next": "05f8e00e-6f0e-11ee-89fa-0242ac120005",
       "previous": "05f8df28-6f0e-11ee-89fa-0242ac120005"
      },
      {
       "current": "05f8dfa0-6f0e-11ee-89fa-0242ac120005-2-a0bb-f6f7",
       "next": "05f8e00e-6f0e-11ee-89fa-0242ac120005-1-c9aa",
       "previous": "05f8df28-6f0e-11ee-89fa-0242ac120005-1-4294"
      },
      {
       "current": "05f8dfa0-6f0e-11ee-89fa-0242ac120005-3-a0bb-f6f7-5f6a",
       "next": "05f8e00e-6f0e-11ee-89fa-0242ac120005-2-c9aa-bc8e",
       "previous": "05f8df28-6f0e-11ee-89fa-0242ac120005-2-4294-de50"
      },
      {
       "current": "05f8dfa0-6f0e-11ee-89fa-0242ac120005-4-a0bb-f6f7-5f6a-dc03",
       "next": "05f8e00e-6f0e-11ee-89fa-0242ac120005-3-c9aa-bc8e-71ff",
       "previous": "05f8df28-6f0e-11ee-89fa-0242ac120005-3-4294-de50-66dd"
      },
      {
       "current": "05f8dfa0-6f0e-11ee-89fa-0242ac120005-5-a0bb-f6f7-5f6a-dc03-d982",
       "next": "05f8e00e-6f0e-11ee-89fa-0242ac120005-4-c9aa-bc8e-71ff-4076",
       "previous": "05f8df28-6f0e-11ee-89fa-0242ac120005-4-4294-de50-66dd-f6d3"
      }
     ],
     "next": "05f8e00e-6f0e-11ee-89fa-0242ac120005-5-c9aa-bc8e-71ff-4076-2c07",
     "previous": "05f8df28-6f0e-11ee-89fa-0242ac120005-5-4294-de50-66dd-f6d3-facb"
    }
   },
   "outputs": [],
   "source": [
    "import os\n",
    "\n",
    "with open( os.path.join(temp_dir, \"hosts\"), 'w') as f:\n",
    "    f.write('''[openstack_ctl]\n",
    "{openstack_cmn}\n",
    "'''.format(openstack_cmn = provisioning_vip))\n",
    "\n",
    "hosts = temp_dir + \"/hosts\"\n",
    "!cat $hosts"
   ]
  },
  {
   "cell_type": "code",
   "execution_count": null,
   "metadata": {
    "lc_cell_meme": {
     "current": "05f8e00e-6f0e-11ee-89fa-0242ac120005-5-c9aa-bc8e-71ff-4076-2c07",
     "history": [
      {
       "current": "05f8e00e-6f0e-11ee-89fa-0242ac120005-1-c9aa",
       "next": "05f8e07c-6f0e-11ee-89fa-0242ac120005",
       "previous": "05f8dfa0-6f0e-11ee-89fa-0242ac120005"
      },
      {
       "current": "05f8e00e-6f0e-11ee-89fa-0242ac120005-2-c9aa-bc8e",
       "next": "05f8e07c-6f0e-11ee-89fa-0242ac120005-1-d370",
       "previous": "05f8dfa0-6f0e-11ee-89fa-0242ac120005-1-a0bb"
      },
      {
       "current": "05f8e00e-6f0e-11ee-89fa-0242ac120005-3-c9aa-bc8e-71ff",
       "next": "05f8e07c-6f0e-11ee-89fa-0242ac120005-2-d370-0116",
       "previous": "05f8dfa0-6f0e-11ee-89fa-0242ac120005-2-a0bb-f6f7"
      },
      {
       "current": "05f8e00e-6f0e-11ee-89fa-0242ac120005-4-c9aa-bc8e-71ff-4076",
       "next": "05f8e07c-6f0e-11ee-89fa-0242ac120005-3-d370-0116-3430",
       "previous": "05f8dfa0-6f0e-11ee-89fa-0242ac120005-3-a0bb-f6f7-5f6a"
      },
      {
       "current": "05f8e00e-6f0e-11ee-89fa-0242ac120005-5-c9aa-bc8e-71ff-4076-2c07",
       "next": "05f8e07c-6f0e-11ee-89fa-0242ac120005-4-d370-0116-3430-1db3",
       "previous": "05f8dfa0-6f0e-11ee-89fa-0242ac120005-4-a0bb-f6f7-5f6a-dc03"
      }
     ],
     "next": "05f8e07c-6f0e-11ee-89fa-0242ac120005-5-d370-0116-3430-1db3-6600",
     "previous": "05f8dfa0-6f0e-11ee-89fa-0242ac120005-5-a0bb-f6f7-5f6a-dc03-d982"
    }
   },
   "outputs": [],
   "source": [
    "%env ANSIBLE_INVENTORY={hosts}"
   ]
  },
  {
   "cell_type": "markdown",
   "metadata": {
    "lc_cell_meme": {
     "current": "05f8e07c-6f0e-11ee-89fa-0242ac120005-5-d370-0116-3430-1db3-6600",
     "history": [
      {
       "current": "05f8e07c-6f0e-11ee-89fa-0242ac120005-1-d370",
       "next": "05f8e0ea-6f0e-11ee-89fa-0242ac120005",
       "previous": "05f8e00e-6f0e-11ee-89fa-0242ac120005"
      },
      {
       "current": "05f8e07c-6f0e-11ee-89fa-0242ac120005-2-d370-0116",
       "next": "05f8e0ea-6f0e-11ee-89fa-0242ac120005-1-545f",
       "previous": "05f8e00e-6f0e-11ee-89fa-0242ac120005-1-c9aa"
      },
      {
       "current": "05f8e07c-6f0e-11ee-89fa-0242ac120005-3-d370-0116-3430",
       "next": "05f8e0ea-6f0e-11ee-89fa-0242ac120005-2-545f-77e9",
       "previous": "05f8e00e-6f0e-11ee-89fa-0242ac120005-2-c9aa-bc8e"
      },
      {
       "current": "05f8e07c-6f0e-11ee-89fa-0242ac120005-4-d370-0116-3430-1db3",
       "next": "05f8e0ea-6f0e-11ee-89fa-0242ac120005-3-545f-77e9-93cf",
       "previous": "05f8e00e-6f0e-11ee-89fa-0242ac120005-3-c9aa-bc8e-71ff"
      },
      {
       "current": "05f8e07c-6f0e-11ee-89fa-0242ac120005-5-d370-0116-3430-1db3-6600",
       "next": "05f8e0ea-6f0e-11ee-89fa-0242ac120005-4-545f-77e9-93cf-23b5",
       "previous": "05f8e00e-6f0e-11ee-89fa-0242ac120005-4-c9aa-bc8e-71ff-4076"
      }
     ],
     "next": "05f8e0ea-6f0e-11ee-89fa-0242ac120005-5-545f-77e9-93cf-23b5-d199",
     "previous": "05f8e00e-6f0e-11ee-89fa-0242ac120005-5-c9aa-bc8e-71ff-4076-2c07"
    }
   },
   "source": [
    "疎通確認"
   ]
  },
  {
   "cell_type": "code",
   "execution_count": null,
   "metadata": {
    "lc_cell_meme": {
     "current": "05f8e0ea-6f0e-11ee-89fa-0242ac120005-5-545f-77e9-93cf-23b5-d199",
     "history": [
      {
       "current": "05f8e0ea-6f0e-11ee-89fa-0242ac120005-1-545f",
       "next": "05f8e14e-6f0e-11ee-89fa-0242ac120005",
       "previous": "05f8e07c-6f0e-11ee-89fa-0242ac120005"
      },
      {
       "current": "05f8e0ea-6f0e-11ee-89fa-0242ac120005-2-545f-77e9",
       "next": "05f8e14e-6f0e-11ee-89fa-0242ac120005-1-6bda",
       "previous": "05f8e07c-6f0e-11ee-89fa-0242ac120005-1-d370"
      },
      {
       "current": "05f8e0ea-6f0e-11ee-89fa-0242ac120005-3-545f-77e9-93cf",
       "next": "05f8e14e-6f0e-11ee-89fa-0242ac120005-2-6bda-38e4",
       "previous": "05f8e07c-6f0e-11ee-89fa-0242ac120005-2-d370-0116"
      },
      {
       "current": "05f8e0ea-6f0e-11ee-89fa-0242ac120005-4-545f-77e9-93cf-23b5",
       "next": "05f8e14e-6f0e-11ee-89fa-0242ac120005-3-6bda-38e4-0a60",
       "previous": "05f8e07c-6f0e-11ee-89fa-0242ac120005-3-d370-0116-3430"
      },
      {
       "current": "05f8e0ea-6f0e-11ee-89fa-0242ac120005-5-545f-77e9-93cf-23b5-d199",
       "next": "05f8e14e-6f0e-11ee-89fa-0242ac120005-4-6bda-38e4-0a60-e069",
       "previous": "05f8e07c-6f0e-11ee-89fa-0242ac120005-4-d370-0116-3430-1db3"
      }
     ],
     "next": "05f8e14e-6f0e-11ee-89fa-0242ac120005-5-6bda-38e4-0a60-e069-3e73",
     "previous": "05f8e07c-6f0e-11ee-89fa-0242ac120005-5-d370-0116-3430-1db3-6600"
    }
   },
   "outputs": [],
   "source": [
    "!ansible -m ping openstack_ctl"
   ]
  },
  {
   "cell_type": "code",
   "execution_count": null,
   "metadata": {
    "lc_cell_meme": {
     "current": "05f8e14e-6f0e-11ee-89fa-0242ac120005-5-6bda-38e4-0a60-e069-3e73",
     "history": [
      {
       "current": "05f8e14e-6f0e-11ee-89fa-0242ac120005-1-6bda",
       "next": "05f8e1b2-6f0e-11ee-89fa-0242ac120005",
       "previous": "05f8e0ea-6f0e-11ee-89fa-0242ac120005"
      },
      {
       "current": "05f8e14e-6f0e-11ee-89fa-0242ac120005-2-6bda-38e4",
       "next": "05f8e1b2-6f0e-11ee-89fa-0242ac120005-1-775a",
       "previous": "05f8e0ea-6f0e-11ee-89fa-0242ac120005-1-545f"
      },
      {
       "current": "05f8e14e-6f0e-11ee-89fa-0242ac120005-3-6bda-38e4-0a60",
       "next": "05f8e1b2-6f0e-11ee-89fa-0242ac120005-2-775a-bad7",
       "previous": "05f8e0ea-6f0e-11ee-89fa-0242ac120005-2-545f-77e9"
      },
      {
       "current": "05f8e14e-6f0e-11ee-89fa-0242ac120005-4-6bda-38e4-0a60-e069",
       "next": "05f8e1b2-6f0e-11ee-89fa-0242ac120005-3-775a-bad7-4788",
       "previous": "05f8e0ea-6f0e-11ee-89fa-0242ac120005-3-545f-77e9-93cf"
      },
      {
       "current": "05f8e14e-6f0e-11ee-89fa-0242ac120005-5-6bda-38e4-0a60-e069-3e73",
       "next": "05f8e1b2-6f0e-11ee-89fa-0242ac120005-4-775a-bad7-4788-eac3",
       "previous": "05f8e0ea-6f0e-11ee-89fa-0242ac120005-4-545f-77e9-93cf-23b5"
      }
     ],
     "next": "05f8e1b2-6f0e-11ee-89fa-0242ac120005-5-775a-bad7-4788-eac3-3c53",
     "previous": "05f8e0ea-6f0e-11ee-89fa-0242ac120005-5-545f-77e9-93cf-23b5-d199"
    }
   },
   "outputs": [],
   "source": [
    "!ansible -a 'hostname' openstack_ctl"
   ]
  },
  {
   "cell_type": "markdown",
   "metadata": {
    "lc_cell_meme": {
     "current": "05f8e1b2-6f0e-11ee-89fa-0242ac120005-5-775a-bad7-4788-eac3-3c53",
     "history": [
      {
       "current": "05f8e1b2-6f0e-11ee-89fa-0242ac120005-1-775a",
       "next": "05f8e216-6f0e-11ee-89fa-0242ac120005",
       "previous": "05f8e14e-6f0e-11ee-89fa-0242ac120005"
      },
      {
       "current": "05f8e1b2-6f0e-11ee-89fa-0242ac120005-2-775a-bad7",
       "next": "05f8e216-6f0e-11ee-89fa-0242ac120005-1-4fd9",
       "previous": "05f8e14e-6f0e-11ee-89fa-0242ac120005-1-6bda"
      },
      {
       "current": "05f8e1b2-6f0e-11ee-89fa-0242ac120005-3-775a-bad7-4788",
       "next": "05f8e216-6f0e-11ee-89fa-0242ac120005-2-4fd9-26cd",
       "previous": "05f8e14e-6f0e-11ee-89fa-0242ac120005-2-6bda-38e4"
      },
      {
       "current": "05f8e1b2-6f0e-11ee-89fa-0242ac120005-4-775a-bad7-4788-eac3",
       "next": "05f8e216-6f0e-11ee-89fa-0242ac120005-3-4fd9-26cd-2dcb",
       "previous": "05f8e14e-6f0e-11ee-89fa-0242ac120005-3-6bda-38e4-0a60"
      },
      {
       "current": "05f8e1b2-6f0e-11ee-89fa-0242ac120005-5-775a-bad7-4788-eac3-3c53",
       "next": "05f8e216-6f0e-11ee-89fa-0242ac120005-4-4fd9-26cd-2dcb-4649",
       "previous": "05f8e14e-6f0e-11ee-89fa-0242ac120005-4-6bda-38e4-0a60-e069"
      }
     ],
     "next": "05f8e216-6f0e-11ee-89fa-0242ac120005-5-4fd9-26cd-2dcb-4649-85fb",
     "previous": "05f8e14e-6f0e-11ee-89fa-0242ac120005-5-6bda-38e4-0a60-e069-3e73"
    }
   },
   "source": [
    "## OpenStack用OpenRCファイル設定\n",
    "\n",
    "`xxxxxxx`プロジェクト用のOpenRCファイルを事前にダウンロードしておくこと。  "
   ]
  },
  {
   "cell_type": "code",
   "execution_count": null,
   "metadata": {
    "lc_cell_meme": {
     "current": "05f8e216-6f0e-11ee-89fa-0242ac120005-5-4fd9-26cd-2dcb-4649-85fb",
     "history": [
      {
       "current": "05f8e216-6f0e-11ee-89fa-0242ac120005-1-4fd9",
       "next": "05f8e27a-6f0e-11ee-89fa-0242ac120005",
       "previous": "05f8e1b2-6f0e-11ee-89fa-0242ac120005"
      },
      {
       "current": "05f8e216-6f0e-11ee-89fa-0242ac120005-2-4fd9-26cd",
       "next": "05f8e27a-6f0e-11ee-89fa-0242ac120005-1-549d",
       "previous": "05f8e1b2-6f0e-11ee-89fa-0242ac120005-1-775a"
      },
      {
       "current": "05f8e216-6f0e-11ee-89fa-0242ac120005-3-4fd9-26cd-2dcb",
       "next": "05f8e27a-6f0e-11ee-89fa-0242ac120005-2-549d-eb42",
       "previous": "05f8e1b2-6f0e-11ee-89fa-0242ac120005-2-775a-bad7"
      },
      {
       "current": "05f8e216-6f0e-11ee-89fa-0242ac120005-4-4fd9-26cd-2dcb-4649",
       "next": "05f8e27a-6f0e-11ee-89fa-0242ac120005-3-549d-eb42-b3d5",
       "previous": "05f8e1b2-6f0e-11ee-89fa-0242ac120005-3-775a-bad7-4788"
      },
      {
       "current": "05f8e216-6f0e-11ee-89fa-0242ac120005-5-4fd9-26cd-2dcb-4649-85fb",
       "next": "05f8e27a-6f0e-11ee-89fa-0242ac120005-4-549d-eb42-b3d5-21c0",
       "previous": "05f8e1b2-6f0e-11ee-89fa-0242ac120005-4-775a-bad7-4788-eac3"
      }
     ],
     "next": "05f8e27a-6f0e-11ee-89fa-0242ac120005-5-549d-eb42-b3d5-21c0-b531",
     "previous": "05f8e1b2-6f0e-11ee-89fa-0242ac120005-5-775a-bad7-4788-eac3-3c53"
    }
   },
   "outputs": [],
   "source": [
    "import os\n",
    "\n",
    "user_creds = os.path.expanduser('~/.keys/xxxxxxx-openrc.sh')\n",
    "\n",
    "assert os.path.exists(user_creds), '{} is not exist'.format(user_creds)"
   ]
  },
  {
   "cell_type": "code",
   "execution_count": null,
   "metadata": {
    "lc_cell_meme": {
     "current": "05f8e27a-6f0e-11ee-89fa-0242ac120005-5-549d-eb42-b3d5-21c0-b531",
     "history": [
      {
       "current": "05f8e27a-6f0e-11ee-89fa-0242ac120005-1-549d",
       "next": "05f8e2e8-6f0e-11ee-89fa-0242ac120005",
       "previous": "05f8e216-6f0e-11ee-89fa-0242ac120005"
      },
      {
       "current": "05f8e27a-6f0e-11ee-89fa-0242ac120005-2-549d-eb42",
       "next": "05f8e2e8-6f0e-11ee-89fa-0242ac120005-1-50e4",
       "previous": "05f8e216-6f0e-11ee-89fa-0242ac120005-1-4fd9"
      },
      {
       "current": "05f8e27a-6f0e-11ee-89fa-0242ac120005-3-549d-eb42-b3d5",
       "next": "05f8e2e8-6f0e-11ee-89fa-0242ac120005-2-50e4-0e6f",
       "previous": "05f8e216-6f0e-11ee-89fa-0242ac120005-2-4fd9-26cd"
      },
      {
       "current": "05f8e27a-6f0e-11ee-89fa-0242ac120005-4-549d-eb42-b3d5-21c0",
       "next": "05f8e2e8-6f0e-11ee-89fa-0242ac120005-3-50e4-0e6f-c873",
       "previous": "05f8e216-6f0e-11ee-89fa-0242ac120005-3-4fd9-26cd-2dcb"
      },
      {
       "current": "05f8e27a-6f0e-11ee-89fa-0242ac120005-5-549d-eb42-b3d5-21c0-b531",
       "next": "05f8e2e8-6f0e-11ee-89fa-0242ac120005-4-50e4-0e6f-c873-90ac",
       "previous": "05f8e216-6f0e-11ee-89fa-0242ac120005-4-4fd9-26cd-2dcb-4649"
      }
     ],
     "next": "05f8e2e8-6f0e-11ee-89fa-0242ac120005-5-50e4-0e6f-c873-90ac-4d6d",
     "previous": "05f8e216-6f0e-11ee-89fa-0242ac120005-5-4fd9-26cd-2dcb-4649-85fb"
    }
   },
   "outputs": [],
   "source": [
    "%env USER_CREDS={user_creds}"
   ]
  },
  {
   "cell_type": "code",
   "execution_count": null,
   "metadata": {
    "lc_cell_meme": {
     "current": "05f8e2e8-6f0e-11ee-89fa-0242ac120005-5-50e4-0e6f-c873-90ac-4d6d",
     "history": [
      {
       "current": "05f8e2e8-6f0e-11ee-89fa-0242ac120005",
       "next": "05f8e34c-6f0e-11ee-89fa-0242ac120005",
       "previous": "05f8e27a-6f0e-11ee-89fa-0242ac120005"
      },
      {
       "current": "05f8e2e8-6f0e-11ee-89fa-0242ac120005-1-50e4",
       "next": "05f8e34c-6f0e-11ee-89fa-0242ac120005-1-256f",
       "previous": "05f8e27a-6f0e-11ee-89fa-0242ac120005"
      },
      {
       "current": "05f8e2e8-6f0e-11ee-89fa-0242ac120005-2-50e4-0e6f",
       "next": "05f8e34c-6f0e-11ee-89fa-0242ac120005-2-256f-4cce",
       "previous": "05f8e27a-6f0e-11ee-89fa-0242ac120005-1-549d"
      },
      {
       "current": "05f8e2e8-6f0e-11ee-89fa-0242ac120005-3-50e4-0e6f-c873",
       "next": "05f8e34c-6f0e-11ee-89fa-0242ac120005-3-256f-4cce-e860",
       "previous": "05f8e27a-6f0e-11ee-89fa-0242ac120005-2-549d-eb42"
      },
      {
       "current": "05f8e2e8-6f0e-11ee-89fa-0242ac120005-4-50e4-0e6f-c873-90ac",
       "next": "05f8e34c-6f0e-11ee-89fa-0242ac120005-4-256f-4cce-e860-a14b",
       "previous": "05f8e27a-6f0e-11ee-89fa-0242ac120005-3-549d-eb42-b3d5"
      },
      {
       "current": "05f8e2e8-6f0e-11ee-89fa-0242ac120005-5-50e4-0e6f-c873-90ac-4d6d",
       "next": "05f8e34c-6f0e-11ee-89fa-0242ac120005-5-256f-4cce-e860-a14b-b83f",
       "previous": "05f8e27a-6f0e-11ee-89fa-0242ac120005-4-549d-eb42-b3d5-21c0"
      }
     ],
     "next": "05f8e34c-6f0e-11ee-89fa-0242ac120005-6-256f-4cce-e860-a14b-b83f-079a",
     "previous": "05f8e27a-6f0e-11ee-89fa-0242ac120005-5-549d-eb42-b3d5-21c0-b531"
    }
   },
   "outputs": [],
   "source": [
    "!ls -l {user_creds}"
   ]
  },
  {
   "cell_type": "markdown",
   "metadata": {
    "heading_collapsed": true,
    "lc_cell_meme": {
     "current": "05f8e34c-6f0e-11ee-89fa-0242ac120005-6-256f-4cce-e860-a14b-b83f-079a",
     "history": [
      {
       "current": "05f8e34c-6f0e-11ee-89fa-0242ac120005-1-256f",
       "next": "05f8e3b0-6f0e-11ee-89fa-0242ac120005",
       "previous": "05f8e2e8-6f0e-11ee-89fa-0242ac120005"
      },
      {
       "current": "05f8e34c-6f0e-11ee-89fa-0242ac120005-2-256f-4cce",
       "next": "4e16d616-6f0e-11ee-89fa-0242ac120005",
       "previous": "05f8e2e8-6f0e-11ee-89fa-0242ac120005"
      },
      {
       "current": "05f8e34c-6f0e-11ee-89fa-0242ac120005-3-256f-4cce-e860",
       "next": "4e16d616-6f0e-11ee-89fa-0242ac120005-1-e0d9",
       "previous": "05f8e2e8-6f0e-11ee-89fa-0242ac120005-1-50e4"
      },
      {
       "current": "05f8e34c-6f0e-11ee-89fa-0242ac120005-4-256f-4cce-e860-a14b",
       "next": "4e16d616-6f0e-11ee-89fa-0242ac120005-2-e0d9-3f48",
       "previous": "05f8e2e8-6f0e-11ee-89fa-0242ac120005-2-50e4-0e6f"
      },
      {
       "current": "05f8e34c-6f0e-11ee-89fa-0242ac120005-5-256f-4cce-e860-a14b-b83f",
       "next": "4e16d616-6f0e-11ee-89fa-0242ac120005-3-e0d9-3f48-a08f",
       "previous": "05f8e2e8-6f0e-11ee-89fa-0242ac120005-3-50e4-0e6f-c873"
      },
      {
       "current": "05f8e34c-6f0e-11ee-89fa-0242ac120005-6-256f-4cce-e860-a14b-b83f-079a",
       "next": "4e16d616-6f0e-11ee-89fa-0242ac120005-4-e0d9-3f48-a08f-c1f9",
       "previous": "05f8e2e8-6f0e-11ee-89fa-0242ac120005-4-50e4-0e6f-c873-90ac"
      }
     ],
     "next": "4e16d616-6f0e-11ee-89fa-0242ac120005-5-e0d9-3f48-a08f-c1f9-75db",
     "previous": "05f8e2e8-6f0e-11ee-89fa-0242ac120005-5-50e4-0e6f-c873-90ac-4d6d"
    }
   },
   "source": [
    "## openstackコマンド用ユーティリティ関数"
   ]
  },
  {
   "cell_type": "code",
   "execution_count": null,
   "metadata": {
    "hidden": true,
    "lc_cell_meme": {
     "current": "4e16d616-6f0e-11ee-89fa-0242ac120005-5-e0d9-3f48-a08f-c1f9-75db",
     "history": [
      {
       "current": "4e16d616-6f0e-11ee-89fa-0242ac120005-1-e0d9",
       "next": "4e16d79c-6f0e-11ee-89fa-0242ac120005",
       "previous": "05f8e34c-6f0e-11ee-89fa-0242ac120005-1-256f"
      },
      {
       "current": "4e16d616-6f0e-11ee-89fa-0242ac120005-2-e0d9-3f48",
       "next": "4e16d79c-6f0e-11ee-89fa-0242ac120005-1-7de5",
       "previous": "05f8e34c-6f0e-11ee-89fa-0242ac120005-2-256f-4cce"
      },
      {
       "current": "4e16d616-6f0e-11ee-89fa-0242ac120005-3-e0d9-3f48-a08f",
       "next": "4e16d79c-6f0e-11ee-89fa-0242ac120005-2-7de5-6013",
       "previous": "05f8e34c-6f0e-11ee-89fa-0242ac120005-3-256f-4cce-e860"
      },
      {
       "current": "4e16d616-6f0e-11ee-89fa-0242ac120005-4-e0d9-3f48-a08f-c1f9",
       "next": "4e16d79c-6f0e-11ee-89fa-0242ac120005-3-7de5-6013-4274",
       "previous": "05f8e34c-6f0e-11ee-89fa-0242ac120005-4-256f-4cce-e860-a14b"
      },
      {
       "current": "4e16d616-6f0e-11ee-89fa-0242ac120005-5-e0d9-3f48-a08f-c1f9-75db",
       "next": "4e16d79c-6f0e-11ee-89fa-0242ac120005-4-7de5-6013-4274-85d5",
       "previous": "05f8e34c-6f0e-11ee-89fa-0242ac120005-5-256f-4cce-e860-a14b-b83f"
      }
     ],
     "next": "4e16d79c-6f0e-11ee-89fa-0242ac120005-5-7de5-6013-4274-85d5-88d0",
     "previous": "05f8e34c-6f0e-11ee-89fa-0242ac120005-6-256f-4cce-e860-a14b-b83f-079a"
    }
   },
   "outputs": [],
   "source": [
    "def build_cmdline(param):\n",
    "    cmdline = ''\n",
    "    \n",
    "    for param_name, param_value in param.items():\n",
    "        if isinstance(param_value, dict):\n",
    "            for key, value in param_value.items():\n",
    "                cmdline += ' --{} {}={}'.format(param_name, key, value)\n",
    "        elif isinstance(param_value, list):\n",
    "            for item in param_value:\n",
    "                cmdline += ' --{} {}'.format(param_name, item)\n",
    "        elif isinstance(param_value, bool):\n",
    "            if param_value:\n",
    "                cmdline += ' --{}'.format(param_name)\n",
    "        else:\n",
    "            cmdline += ' --{} {}'.format(param_name, param_value)\n",
    "\n",
    "    return cmdline"
   ]
  },
  {
   "cell_type": "code",
   "execution_count": null,
   "metadata": {
    "hidden": true,
    "lc_cell_meme": {
     "current": "4e16d79c-6f0e-11ee-89fa-0242ac120005-5-7de5-6013-4274-85d5-88d0",
     "history": [
      {
       "current": "4e16d79c-6f0e-11ee-89fa-0242ac120005-1-7de5",
       "next": "4e16d828-6f0e-11ee-89fa-0242ac120005",
       "previous": "4e16d616-6f0e-11ee-89fa-0242ac120005"
      },
      {
       "current": "4e16d79c-6f0e-11ee-89fa-0242ac120005-2-7de5-6013",
       "next": "4e16d828-6f0e-11ee-89fa-0242ac120005-1-1078",
       "previous": "4e16d616-6f0e-11ee-89fa-0242ac120005-1-e0d9"
      },
      {
       "current": "4e16d79c-6f0e-11ee-89fa-0242ac120005-3-7de5-6013-4274",
       "next": "4e16d828-6f0e-11ee-89fa-0242ac120005-2-1078-30cc",
       "previous": "4e16d616-6f0e-11ee-89fa-0242ac120005-2-e0d9-3f48"
      },
      {
       "current": "4e16d79c-6f0e-11ee-89fa-0242ac120005-4-7de5-6013-4274-85d5",
       "next": "4e16d828-6f0e-11ee-89fa-0242ac120005-3-1078-30cc-2d27",
       "previous": "4e16d616-6f0e-11ee-89fa-0242ac120005-3-e0d9-3f48-a08f"
      },
      {
       "current": "4e16d79c-6f0e-11ee-89fa-0242ac120005-5-7de5-6013-4274-85d5-88d0",
       "next": "4e16d828-6f0e-11ee-89fa-0242ac120005-4-1078-30cc-2d27-8ddc",
       "previous": "4e16d616-6f0e-11ee-89fa-0242ac120005-4-e0d9-3f48-a08f-c1f9"
      }
     ],
     "next": "4e16d828-6f0e-11ee-89fa-0242ac120005-5-1078-30cc-2d27-8ddc-f678",
     "previous": "4e16d616-6f0e-11ee-89fa-0242ac120005-5-e0d9-3f48-a08f-c1f9-75db"
    }
   },
   "outputs": [],
   "source": [
    "import json\n",
    "\n",
    "def run_openstack(cmd):\n",
    "    print('EXEC: {}'.format(cmd))\n",
    "    out = !source {user_creds} && {cmd}\n",
    "    print('OUTPUT: {}'.format('\\n'.join(out)))\n",
    "    return json.loads('\\n'.join(out))"
   ]
  },
  {
   "cell_type": "markdown",
   "metadata": {
    "hidden": true,
    "lc_cell_meme": {
     "current": "4e16d828-6f0e-11ee-89fa-0242ac120005-5-1078-30cc-2d27-8ddc-f678",
     "history": [
      {
       "current": "4e16d828-6f0e-11ee-89fa-0242ac120005-1-1078",
       "next": "4e16d88c-6f0e-11ee-89fa-0242ac120005",
       "previous": "4e16d79c-6f0e-11ee-89fa-0242ac120005"
      },
      {
       "current": "4e16d828-6f0e-11ee-89fa-0242ac120005-2-1078-30cc",
       "next": "4e16d88c-6f0e-11ee-89fa-0242ac120005-1-cfe5",
       "previous": "4e16d79c-6f0e-11ee-89fa-0242ac120005-1-7de5"
      },
      {
       "current": "4e16d828-6f0e-11ee-89fa-0242ac120005-3-1078-30cc-2d27",
       "next": "4e16d88c-6f0e-11ee-89fa-0242ac120005-2-cfe5-c107",
       "previous": "4e16d79c-6f0e-11ee-89fa-0242ac120005-2-7de5-6013"
      },
      {
       "current": "4e16d828-6f0e-11ee-89fa-0242ac120005-4-1078-30cc-2d27-8ddc",
       "next": "4e16d88c-6f0e-11ee-89fa-0242ac120005-3-cfe5-c107-aacd",
       "previous": "4e16d79c-6f0e-11ee-89fa-0242ac120005-3-7de5-6013-4274"
      },
      {
       "current": "4e16d828-6f0e-11ee-89fa-0242ac120005-5-1078-30cc-2d27-8ddc-f678",
       "next": "4e16d88c-6f0e-11ee-89fa-0242ac120005-4-cfe5-c107-aacd-ed64",
       "previous": "4e16d79c-6f0e-11ee-89fa-0242ac120005-4-7de5-6013-4274-85d5"
      }
     ],
     "next": "4e16d88c-6f0e-11ee-89fa-0242ac120005-5-cfe5-c107-aacd-ed64-96ac",
     "previous": "4e16d79c-6f0e-11ee-89fa-0242ac120005-5-7de5-6013-4274-85d5-88d0"
    }
   },
   "source": [
    "テスト"
   ]
  },
  {
   "cell_type": "code",
   "execution_count": null,
   "metadata": {
    "hidden": true,
    "lc_cell_meme": {
     "current": "4e16d88c-6f0e-11ee-89fa-0242ac120005-5-cfe5-c107-aacd-ed64-96ac",
     "history": [
      {
       "current": "4e16d88c-6f0e-11ee-89fa-0242ac120005",
       "next": "4e16d8e6-6f0e-11ee-89fa-0242ac120005",
       "previous": "4e16d828-6f0e-11ee-89fa-0242ac120005"
      },
      {
       "current": "4e16d88c-6f0e-11ee-89fa-0242ac120005-1-cfe5",
       "next": "06afe9a8-98b0-11ea-8d02-0242ac120007-3-a1c1-faf0-55bd",
       "previous": "4e16d828-6f0e-11ee-89fa-0242ac120005"
      },
      {
       "current": "4e16d88c-6f0e-11ee-89fa-0242ac120005-2-cfe5-c107",
       "next": "06afe9a8-98b0-11ea-8d02-0242ac120007-4-a1c1-faf0-55bd-52be",
       "previous": "4e16d828-6f0e-11ee-89fa-0242ac120005-1-1078"
      },
      {
       "current": "4e16d88c-6f0e-11ee-89fa-0242ac120005-3-cfe5-c107-aacd",
       "next": "06afe9a8-98b0-11ea-8d02-0242ac120007-5-a1c1-faf0-55bd-52be-b5be",
       "previous": "4e16d828-6f0e-11ee-89fa-0242ac120005-2-1078-30cc"
      },
      {
       "current": "4e16d88c-6f0e-11ee-89fa-0242ac120005-4-cfe5-c107-aacd-ed64",
       "next": "06afe9a8-98b0-11ea-8d02-0242ac120007-6-a1c1-faf0-55bd-52be-b5be-503a",
       "previous": "4e16d828-6f0e-11ee-89fa-0242ac120005-3-1078-30cc-2d27"
      },
      {
       "current": "4e16d88c-6f0e-11ee-89fa-0242ac120005-5-cfe5-c107-aacd-ed64-96ac",
       "next": "06afe9a8-98b0-11ea-8d02-0242ac120007-7-a1c1-faf0-55bd-52be-b5be-503a-412d",
       "previous": "4e16d828-6f0e-11ee-89fa-0242ac120005-4-1078-30cc-2d27-8ddc"
      }
     ],
     "next": "06afe9a8-98b0-11ea-8d02-0242ac120007-8-a1c1-faf0-55bd-52be-b5be-503a-412d-7e6a",
     "previous": "4e16d828-6f0e-11ee-89fa-0242ac120005-5-1078-30cc-2d27-8ddc-f678"
    }
   },
   "outputs": [],
   "source": [
    "run_openstack('openstack flavor list -f json' + build_cmdline({'all': True}))"
   ]
  },
  {
   "cell_type": "markdown",
   "metadata": {
    "lc_cell_meme": {
     "current": "06afe9a8-98b0-11ea-8d02-0242ac120007-8-a1c1-faf0-55bd-52be-b5be-503a-412d-7e6a",
     "history": [
      {
       "current": "06afe9a8-98b0-11ea-8d02-0242ac120007",
       "next": "7899411a-9692-11ea-8d02-0242ac120007",
       "previous": "d1bcb8ac-9599-11ea-8d02-0242ac120007"
      },
      {
       "current": "06afe9a8-98b0-11ea-8d02-0242ac120007-1-a1c1",
       "next": "7899411a-9692-11ea-8d02-0242ac120007",
       "previous": "250e7a70-98f3-11ea-8d02-0242ac120007"
      },
      {
       "current": "06afe9a8-98b0-11ea-8d02-0242ac120007-2-a1c1-faf0",
       "next": "7899411a-9692-11ea-8d02-0242ac120007-1-2cd2",
       "previous": "250e7a70-98f3-11ea-8d02-0242ac120007-1-f0b4"
      },
      {
       "current": "06afe9a8-98b0-11ea-8d02-0242ac120007-2-a1c1-faf0",
       "next": "7899411a-9692-11ea-8d02-0242ac120007-2-2cd2-395d",
       "previous": "250e7a70-98f3-11ea-8d02-0242ac120007-2-f0b4-6edf"
      },
      {
       "current": "06afe9a8-98b0-11ea-8d02-0242ac120007-2-a1c1-faf0",
       "next": "04bfc54e-defc-11eb-b29f-0242ac120008",
       "previous": "250e7a70-98f3-11ea-8d02-0242ac120007-2-f0b4-6edf"
      },
      {
       "current": "06afe9a8-98b0-11ea-8d02-0242ac120007-3-a1c1-faf0-55bd",
       "next": "329a4046-dfad-11eb-b29f-0242ac120008",
       "previous": "250e7a70-98f3-11ea-8d02-0242ac120007-2-f0b4-6edf"
      },
      {
       "current": "06afe9a8-98b0-11ea-8d02-0242ac120007-3-a1c1-faf0-55bd",
       "next": "329a4046-dfad-11eb-b29f-0242ac120008-1-1375",
       "previous": "250e7a70-98f3-11ea-8d02-0242ac120007-3-f0b4-6edf-9d40"
      },
      {
       "current": "06afe9a8-98b0-11ea-8d02-0242ac120007-3-a1c1-faf0-55bd",
       "next": "329a4046-dfad-11eb-b29f-0242ac120008-1-1375",
       "previous": "05f8e3b0-6f0e-11ee-89fa-0242ac120005"
      },
      {
       "current": "06afe9a8-98b0-11ea-8d02-0242ac120007-4-a1c1-faf0-55bd-52be",
       "next": "329a4046-dfad-11eb-b29f-0242ac120008-1-1375",
       "previous": "4e16d88c-6f0e-11ee-89fa-0242ac120005"
      },
      {
       "current": "06afe9a8-98b0-11ea-8d02-0242ac120007-5-a1c1-faf0-55bd-52be-b5be",
       "next": "329a4046-dfad-11eb-b29f-0242ac120008-2-1375-293e",
       "previous": "4e16d88c-6f0e-11ee-89fa-0242ac120005-1-cfe5"
      },
      {
       "current": "06afe9a8-98b0-11ea-8d02-0242ac120007-6-a1c1-faf0-55bd-52be-b5be-503a",
       "next": "329a4046-dfad-11eb-b29f-0242ac120008-3-1375-293e-fb59",
       "previous": "4e16d88c-6f0e-11ee-89fa-0242ac120005-2-cfe5-c107"
      },
      {
       "current": "06afe9a8-98b0-11ea-8d02-0242ac120007-7-a1c1-faf0-55bd-52be-b5be-503a-412d",
       "next": "329a4046-dfad-11eb-b29f-0242ac120008-4-1375-293e-fb59-8e28",
       "previous": "4e16d88c-6f0e-11ee-89fa-0242ac120005-3-cfe5-c107-aacd"
      },
      {
       "current": "06afe9a8-98b0-11ea-8d02-0242ac120007-8-a1c1-faf0-55bd-52be-b5be-503a-412d-7e6a",
       "next": "329a4046-dfad-11eb-b29f-0242ac120008-5-1375-293e-fb59-8e28-f1f1",
       "previous": "4e16d88c-6f0e-11ee-89fa-0242ac120005-4-cfe5-c107-aacd-ed64"
      }
     ],
     "next": "329a4046-dfad-11eb-b29f-0242ac120008-6-1375-293e-fb59-8e28-f1f1-1977",
     "previous": "4e16d88c-6f0e-11ee-89fa-0242ac120005-5-cfe5-c107-aacd-ed64-96ac"
    }
   },
   "source": [
    "## デプロイされたCephノード情報の取得"
   ]
  },
  {
   "cell_type": "markdown",
   "metadata": {
    "lc_cell_meme": {
     "current": "329a4046-dfad-11eb-b29f-0242ac120008-6-1375-293e-fb59-8e28-f1f1-1977",
     "history": [
      {
       "current": "329a4046-dfad-11eb-b29f-0242ac120008-1-1375",
       "next": "329a4348-dfad-11eb-b29f-0242ac120008",
       "previous": "06afe9a8-98b0-11ea-8d02-0242ac120007-2-a1c1-faf0"
      },
      {
       "current": "329a4046-dfad-11eb-b29f-0242ac120008-1-1375",
       "next": "329a4348-dfad-11eb-b29f-0242ac120008-1-ed21",
       "previous": "06afe9a8-98b0-11ea-8d02-0242ac120007-3-a1c1-faf0-55bd"
      },
      {
       "current": "329a4046-dfad-11eb-b29f-0242ac120008-2-1375-293e",
       "next": "95a3025c-6f0e-11ee-89fa-0242ac120005",
       "previous": "06afe9a8-98b0-11ea-8d02-0242ac120007-3-a1c1-faf0-55bd"
      },
      {
       "current": "329a4046-dfad-11eb-b29f-0242ac120008-3-1375-293e-fb59",
       "next": "95a3025c-6f0e-11ee-89fa-0242ac120005-1-b1f5",
       "previous": "06afe9a8-98b0-11ea-8d02-0242ac120007-4-a1c1-faf0-55bd-52be"
      },
      {
       "current": "329a4046-dfad-11eb-b29f-0242ac120008-4-1375-293e-fb59-8e28",
       "next": "95a3025c-6f0e-11ee-89fa-0242ac120005-2-b1f5-b95b",
       "previous": "06afe9a8-98b0-11ea-8d02-0242ac120007-5-a1c1-faf0-55bd-52be-b5be"
      },
      {
       "current": "329a4046-dfad-11eb-b29f-0242ac120008-5-1375-293e-fb59-8e28-f1f1",
       "next": "95a3025c-6f0e-11ee-89fa-0242ac120005-3-b1f5-b95b-3bdf",
       "previous": "06afe9a8-98b0-11ea-8d02-0242ac120007-6-a1c1-faf0-55bd-52be-b5be-503a"
      },
      {
       "current": "329a4046-dfad-11eb-b29f-0242ac120008-6-1375-293e-fb59-8e28-f1f1-1977",
       "next": "95a3025c-6f0e-11ee-89fa-0242ac120005-4-b1f5-b95b-3bdf-e0fe",
       "previous": "06afe9a8-98b0-11ea-8d02-0242ac120007-7-a1c1-faf0-55bd-52be-b5be-503a-412d"
      }
     ],
     "next": "95a3025c-6f0e-11ee-89fa-0242ac120005-5-b1f5-b95b-3bdf-e0fe-557b",
     "previous": "06afe9a8-98b0-11ea-8d02-0242ac120007-8-a1c1-faf0-55bd-52be-b5be-503a-412d-7e6a"
    }
   },
   "source": [
    "ストレージノードを特定するにあたり、ノード名称が　ceph-nodexxx （xxxの部分は、右寄せ0埋めの数字3桁）というルールに従っていることを前提としている。<br>\n",
    " 例：ceph-node001<br>\n",
    " このノード名称ルールは、構築するCephクラスタ毎に変えるため、以下で定義する。"
   ]
  },
  {
   "cell_type": "code",
   "execution_count": null,
   "metadata": {
    "lc_cell_meme": {
     "current": "95a3025c-6f0e-11ee-89fa-0242ac120005-5-b1f5-b95b-3bdf-e0fe-557b",
     "history": [
      {
       "current": "95a3025c-6f0e-11ee-89fa-0242ac120005-1-b1f5",
       "next": "95a30504-6f0e-11ee-89fa-0242ac120005",
       "previous": "329a4046-dfad-11eb-b29f-0242ac120008-1-1375"
      },
      {
       "current": "95a3025c-6f0e-11ee-89fa-0242ac120005-2-b1f5-b95b",
       "next": "95a30504-6f0e-11ee-89fa-0242ac120005-1-80f1",
       "previous": "329a4046-dfad-11eb-b29f-0242ac120008-2-1375-293e"
      },
      {
       "current": "95a3025c-6f0e-11ee-89fa-0242ac120005-3-b1f5-b95b-3bdf",
       "next": "95a30504-6f0e-11ee-89fa-0242ac120005-2-80f1-d9b0",
       "previous": "329a4046-dfad-11eb-b29f-0242ac120008-3-1375-293e-fb59"
      },
      {
       "current": "95a3025c-6f0e-11ee-89fa-0242ac120005-4-b1f5-b95b-3bdf-e0fe",
       "next": "95a30504-6f0e-11ee-89fa-0242ac120005-3-80f1-d9b0-bdc0",
       "previous": "329a4046-dfad-11eb-b29f-0242ac120008-4-1375-293e-fb59-8e28"
      },
      {
       "current": "95a3025c-6f0e-11ee-89fa-0242ac120005-5-b1f5-b95b-3bdf-e0fe-557b",
       "next": "95a30504-6f0e-11ee-89fa-0242ac120005-4-80f1-d9b0-bdc0-762f",
       "previous": "329a4046-dfad-11eb-b29f-0242ac120008-5-1375-293e-fb59-8e28-f1f1"
      }
     ],
     "next": "95a30504-6f0e-11ee-89fa-0242ac120005-5-80f1-d9b0-bdc0-762f-c478",
     "previous": "329a4046-dfad-11eb-b29f-0242ac120008-6-1375-293e-fb59-8e28-f1f1-1977"
    }
   },
   "outputs": [],
   "source": [
    "# 初期化対象のインスタンス名称を設定する\n",
    "raise Exception('この先手作業が必要です')"
   ]
  },
  {
   "cell_type": "code",
   "execution_count": null,
   "metadata": {
    "lc_cell_meme": {
     "current": "95a30504-6f0e-11ee-89fa-0242ac120005-5-80f1-d9b0-bdc0-762f-c478",
     "history": [
      {
       "current": "95a30504-6f0e-11ee-89fa-0242ac120005-1-80f1",
       "next": "95a305ae-6f0e-11ee-89fa-0242ac120005",
       "previous": "95a3025c-6f0e-11ee-89fa-0242ac120005"
      },
      {
       "current": "95a30504-6f0e-11ee-89fa-0242ac120005-2-80f1-d9b0",
       "next": "95a305ae-6f0e-11ee-89fa-0242ac120005-1-4116",
       "previous": "95a3025c-6f0e-11ee-89fa-0242ac120005-1-b1f5"
      },
      {
       "current": "95a30504-6f0e-11ee-89fa-0242ac120005-3-80f1-d9b0-bdc0",
       "next": "95a305ae-6f0e-11ee-89fa-0242ac120005-2-4116-6360",
       "previous": "95a3025c-6f0e-11ee-89fa-0242ac120005-2-b1f5-b95b"
      },
      {
       "current": "95a30504-6f0e-11ee-89fa-0242ac120005-4-80f1-d9b0-bdc0-762f",
       "next": "95a305ae-6f0e-11ee-89fa-0242ac120005-3-4116-6360-3a45",
       "previous": "95a3025c-6f0e-11ee-89fa-0242ac120005-3-b1f5-b95b-3bdf"
      },
      {
       "current": "95a30504-6f0e-11ee-89fa-0242ac120005-5-80f1-d9b0-bdc0-762f-c478",
       "next": "95a305ae-6f0e-11ee-89fa-0242ac120005-4-4116-6360-3a45-f22e",
       "previous": "95a3025c-6f0e-11ee-89fa-0242ac120005-4-b1f5-b95b-3bdf-e0fe"
      }
     ],
     "next": "95a305ae-6f0e-11ee-89fa-0242ac120005-5-4116-6360-3a45-f22e-fb76",
     "previous": "95a3025c-6f0e-11ee-89fa-0242ac120005-5-b1f5-b95b-3bdf-e0fe-557b"
    }
   },
   "outputs": [],
   "source": [
    "import pandas as pd\n",
    "import re\n",
    "\n",
    "# 対象インスタンス名称マッチングルール\n",
    "name_match_rule = r'ceph-xxx-node-[0-9]+'"
   ]
  },
  {
   "cell_type": "markdown",
   "metadata": {
    "heading_collapsed": true,
    "lc_cell_meme": {
     "current": "95a305ae-6f0e-11ee-89fa-0242ac120005-5-4116-6360-3a45-f22e-fb76",
     "history": [
      {
       "current": "95a305ae-6f0e-11ee-89fa-0242ac120005-1-4116",
       "next": "95a30626-6f0e-11ee-89fa-0242ac120005",
       "previous": "95a30504-6f0e-11ee-89fa-0242ac120005"
      },
      {
       "current": "95a305ae-6f0e-11ee-89fa-0242ac120005-2-4116-6360",
       "next": "95a30626-6f0e-11ee-89fa-0242ac120005-1-1239",
       "previous": "95a30504-6f0e-11ee-89fa-0242ac120005-1-80f1"
      },
      {
       "current": "95a305ae-6f0e-11ee-89fa-0242ac120005-3-4116-6360-3a45",
       "next": "95a30626-6f0e-11ee-89fa-0242ac120005-2-1239-1fea",
       "previous": "95a30504-6f0e-11ee-89fa-0242ac120005-2-80f1-d9b0"
      },
      {
       "current": "95a305ae-6f0e-11ee-89fa-0242ac120005-4-4116-6360-3a45-f22e",
       "next": "95a30626-6f0e-11ee-89fa-0242ac120005-3-1239-1fea-1de6",
       "previous": "95a30504-6f0e-11ee-89fa-0242ac120005-3-80f1-d9b0-bdc0"
      },
      {
       "current": "95a305ae-6f0e-11ee-89fa-0242ac120005-5-4116-6360-3a45-f22e-fb76",
       "next": "95a30626-6f0e-11ee-89fa-0242ac120005-4-1239-1fea-1de6-9d7d",
       "previous": "95a30504-6f0e-11ee-89fa-0242ac120005-4-80f1-d9b0-bdc0-762f"
      }
     ],
     "next": "95a30626-6f0e-11ee-89fa-0242ac120005-5-1239-1fea-1de6-9d7d-3ef1",
     "previous": "95a30504-6f0e-11ee-89fa-0242ac120005-5-80f1-d9b0-bdc0-762f-c478"
    }
   },
   "source": [
    "## OpenStack Ironicからノード情報の取得"
   ]
  },
  {
   "cell_type": "code",
   "execution_count": null,
   "metadata": {
    "hidden": true,
    "lc_cell_meme": {
     "current": "95a30626-6f0e-11ee-89fa-0242ac120005-5-1239-1fea-1de6-9d7d-3ef1",
     "history": [
      {
       "current": "95a30626-6f0e-11ee-89fa-0242ac120005-1-1239",
       "next": "95a30694-6f0e-11ee-89fa-0242ac120005",
       "previous": "95a305ae-6f0e-11ee-89fa-0242ac120005"
      },
      {
       "current": "95a30626-6f0e-11ee-89fa-0242ac120005-2-1239-1fea",
       "next": "95a30694-6f0e-11ee-89fa-0242ac120005-1-c406",
       "previous": "95a305ae-6f0e-11ee-89fa-0242ac120005-1-4116"
      },
      {
       "current": "95a30626-6f0e-11ee-89fa-0242ac120005-3-1239-1fea-1de6",
       "next": "95a30694-6f0e-11ee-89fa-0242ac120005-2-c406-8bba",
       "previous": "95a305ae-6f0e-11ee-89fa-0242ac120005-2-4116-6360"
      },
      {
       "current": "95a30626-6f0e-11ee-89fa-0242ac120005-4-1239-1fea-1de6-9d7d",
       "next": "95a30694-6f0e-11ee-89fa-0242ac120005-3-c406-8bba-f060",
       "previous": "95a305ae-6f0e-11ee-89fa-0242ac120005-3-4116-6360-3a45"
      },
      {
       "current": "95a30626-6f0e-11ee-89fa-0242ac120005-5-1239-1fea-1de6-9d7d-3ef1",
       "next": "95a30694-6f0e-11ee-89fa-0242ac120005-4-c406-8bba-f060-ca3f",
       "previous": "95a305ae-6f0e-11ee-89fa-0242ac120005-4-4116-6360-3a45-f22e"
      }
     ],
     "next": "95a30694-6f0e-11ee-89fa-0242ac120005-5-c406-8bba-f060-ca3f-0378",
     "previous": "95a305ae-6f0e-11ee-89fa-0242ac120005-5-4116-6360-3a45-f22e-fb76"
    },
    "scrolled": true
   },
   "outputs": [],
   "source": [
    "cmd = \"openstack baremetal node list -f json --long\"\n",
    "nodes = run_openstack(cmd)"
   ]
  },
  {
   "cell_type": "code",
   "execution_count": null,
   "metadata": {
    "hidden": true,
    "lc_cell_meme": {
     "current": "95a30694-6f0e-11ee-89fa-0242ac120005-5-c406-8bba-f060-ca3f-0378",
     "history": [
      {
       "current": "95a30694-6f0e-11ee-89fa-0242ac120005-1-c406",
       "next": "95a30702-6f0e-11ee-89fa-0242ac120005",
       "previous": "95a30626-6f0e-11ee-89fa-0242ac120005"
      },
      {
       "current": "95a30694-6f0e-11ee-89fa-0242ac120005-2-c406-8bba",
       "next": "95a30702-6f0e-11ee-89fa-0242ac120005-1-e38f",
       "previous": "95a30626-6f0e-11ee-89fa-0242ac120005-1-1239"
      },
      {
       "current": "95a30694-6f0e-11ee-89fa-0242ac120005-3-c406-8bba-f060",
       "next": "95a30702-6f0e-11ee-89fa-0242ac120005-2-e38f-7a76",
       "previous": "95a30626-6f0e-11ee-89fa-0242ac120005-2-1239-1fea"
      },
      {
       "current": "95a30694-6f0e-11ee-89fa-0242ac120005-4-c406-8bba-f060-ca3f",
       "next": "95a30702-6f0e-11ee-89fa-0242ac120005-3-e38f-7a76-97f6",
       "previous": "95a30626-6f0e-11ee-89fa-0242ac120005-3-1239-1fea-1de6"
      },
      {
       "current": "95a30694-6f0e-11ee-89fa-0242ac120005-5-c406-8bba-f060-ca3f-0378",
       "next": "95a30702-6f0e-11ee-89fa-0242ac120005-4-e38f-7a76-97f6-c832",
       "previous": "95a30626-6f0e-11ee-89fa-0242ac120005-4-1239-1fea-1de6-9d7d"
      }
     ],
     "next": "95a30702-6f0e-11ee-89fa-0242ac120005-5-e38f-7a76-97f6-c832-add3",
     "previous": "95a30626-6f0e-11ee-89fa-0242ac120005-5-1239-1fea-1de6-9d7d-3ef1"
    }
   },
   "outputs": [],
   "source": [
    "import pandas as pd\n",
    "import re\n",
    "\n",
    "for node in nodes:\n",
    "    instance_uuid = node.get(\"Instance UUID\", None)\n",
    "    if instance_uuid is None:\n",
    "        continue\n",
    "        \n",
    "    node[\"instance_name\"] = node[\"Instance Info\"][\"display_name\"]\n",
    "\n",
    "pd.set_option('display.max_rows', None)\n",
    "pd.DataFrame(nodes, columns=['Instance UUID', 'instance_name', 'UUID', 'Maintenance', 'Provisioning State', 'Power State', 'Name'])\n"
   ]
  },
  {
   "cell_type": "code",
   "execution_count": null,
   "metadata": {
    "hidden": true,
    "lc_cell_meme": {
     "current": "95a30702-6f0e-11ee-89fa-0242ac120005-5-e38f-7a76-97f6-c832-add3",
     "history": [
      {
       "current": "95a30702-6f0e-11ee-89fa-0242ac120005-1-e38f",
       "next": "95a30770-6f0e-11ee-89fa-0242ac120005",
       "previous": "95a30694-6f0e-11ee-89fa-0242ac120005"
      },
      {
       "current": "95a30702-6f0e-11ee-89fa-0242ac120005-2-e38f-7a76",
       "next": "95a30770-6f0e-11ee-89fa-0242ac120005-1-0ece",
       "previous": "95a30694-6f0e-11ee-89fa-0242ac120005-1-c406"
      },
      {
       "current": "95a30702-6f0e-11ee-89fa-0242ac120005-3-e38f-7a76-97f6",
       "next": "95a30770-6f0e-11ee-89fa-0242ac120005-2-0ece-52a3",
       "previous": "95a30694-6f0e-11ee-89fa-0242ac120005-2-c406-8bba"
      },
      {
       "current": "95a30702-6f0e-11ee-89fa-0242ac120005-4-e38f-7a76-97f6-c832",
       "next": "95a30770-6f0e-11ee-89fa-0242ac120005-3-0ece-52a3-e5d6",
       "previous": "95a30694-6f0e-11ee-89fa-0242ac120005-3-c406-8bba-f060"
      },
      {
       "current": "95a30702-6f0e-11ee-89fa-0242ac120005-5-e38f-7a76-97f6-c832-add3",
       "next": "95a30770-6f0e-11ee-89fa-0242ac120005-4-0ece-52a3-e5d6-89bb",
       "previous": "95a30694-6f0e-11ee-89fa-0242ac120005-4-c406-8bba-f060-ca3f"
      }
     ],
     "next": "95a30770-6f0e-11ee-89fa-0242ac120005-5-0ece-52a3-e5d6-89bb-3884",
     "previous": "95a30694-6f0e-11ee-89fa-0242ac120005-5-c406-8bba-f060-ca3f-0378"
    },
    "scrolled": true
   },
   "outputs": [],
   "source": [
    "cmd = \"openstack server list -f json --long\"\n",
    "nova_server_map = run_openstack(cmd)"
   ]
  },
  {
   "cell_type": "code",
   "execution_count": null,
   "metadata": {
    "hidden": true,
    "lc_cell_meme": {
     "current": "95a30770-6f0e-11ee-89fa-0242ac120005-5-0ece-52a3-e5d6-89bb-3884",
     "history": [
      {
       "current": "95a30770-6f0e-11ee-89fa-0242ac120005",
       "next": "04bfc54e-defc-11eb-b29f-0242ac120008-1-5336",
       "previous": "95a30702-6f0e-11ee-89fa-0242ac120005"
      },
      {
       "current": "95a30770-6f0e-11ee-89fa-0242ac120005-1-0ece",
       "next": "06afec50-98b0-11ea-8d02-0242ac120007-3-5828-a305-b690",
       "previous": "95a30702-6f0e-11ee-89fa-0242ac120005"
      },
      {
       "current": "95a30770-6f0e-11ee-89fa-0242ac120005-2-0ece-52a3",
       "next": "06afec50-98b0-11ea-8d02-0242ac120007-4-5828-a305-b690-dc0f",
       "previous": "95a30702-6f0e-11ee-89fa-0242ac120005-1-e38f"
      },
      {
       "current": "95a30770-6f0e-11ee-89fa-0242ac120005-3-0ece-52a3-e5d6",
       "next": "06afec50-98b0-11ea-8d02-0242ac120007-5-5828-a305-b690-dc0f-9d53",
       "previous": "95a30702-6f0e-11ee-89fa-0242ac120005-2-e38f-7a76"
      },
      {
       "current": "95a30770-6f0e-11ee-89fa-0242ac120005-4-0ece-52a3-e5d6-89bb",
       "next": "06afec50-98b0-11ea-8d02-0242ac120007-6-5828-a305-b690-dc0f-9d53-cd50",
       "previous": "95a30702-6f0e-11ee-89fa-0242ac120005-3-e38f-7a76-97f6"
      },
      {
       "current": "95a30770-6f0e-11ee-89fa-0242ac120005-5-0ece-52a3-e5d6-89bb-3884",
       "next": "06afec50-98b0-11ea-8d02-0242ac120007-7-5828-a305-b690-dc0f-9d53-cd50-dd49",
       "previous": "95a30702-6f0e-11ee-89fa-0242ac120005-4-e38f-7a76-97f6-c832"
      }
     ],
     "next": "06afec50-98b0-11ea-8d02-0242ac120007-8-5828-a305-b690-dc0f-9d53-cd50-dd49-0068",
     "previous": "95a30702-6f0e-11ee-89fa-0242ac120005-5-e38f-7a76-97f6-c832-add3"
    }
   },
   "outputs": [],
   "source": [
    "node_list = []\n",
    "for server in nova_server_map:\n",
    "    node_id = server['ID']\n",
    "    if re.match(name_match_rule, server['Name']) is None:\n",
    "        continue\n",
    "    for node in nodes:\n",
    "        if node['Instance UUID'] == node_id:\n",
    "            node_info = {}\n",
    "            node_list.append(node_info)\n",
    "            node_info['name'] = server['Name']\n",
    "            node_info['node_name'] = node['Name']\n",
    "            instance_ip_info = instance_ip_map.get(server['Name'], None)\n",
    "            if instance_ip_info is not None:\n",
    "                node_info['instance_ip'] = instance_ip_info.get('ipv4', None)\n",
    "            else:\n",
    "                node_info['instance_ip'] = None\n",
    "            address = server['Networks']\n",
    "            prov_net = address['provisioning-net']\n",
    "            for addr in prov_net:\n",
    "                node_info['prov_ip'] = addr\n",
    "\n",
    "pd.DataFrame(node_list)"
   ]
  },
  {
   "cell_type": "markdown",
   "metadata": {
    "lc_cell_meme": {
     "current": "06afec50-98b0-11ea-8d02-0242ac120007-8-5828-a305-b690-dc0f-9d53-cd50-dd49-0068",
     "history": [
      {
       "current": "06afec50-98b0-11ea-8d02-0242ac120007-1-5828",
       "next": "8a48d590-98a1-11ea-8d02-0242ac120007",
       "previous": "357fc83a-969d-11ea-8d02-0242ac120007"
      },
      {
       "current": "06afec50-98b0-11ea-8d02-0242ac120007-2-5828-a305",
       "next": "8a48d590-98a1-11ea-8d02-0242ac120007-1-1c0f",
       "previous": "357fc83a-969d-11ea-8d02-0242ac120007-1-9a36"
      },
      {
       "current": "06afec50-98b0-11ea-8d02-0242ac120007-3-5828-a305-b690",
       "next": "8a48d590-98a1-11ea-8d02-0242ac120007-2-1c0f-5b25",
       "previous": "357fc83a-969d-11ea-8d02-0242ac120007-2-9a36-95b8"
      },
      {
       "current": "06afec50-98b0-11ea-8d02-0242ac120007-3-5828-a305-b690",
       "next": "8a48d590-98a1-11ea-8d02-0242ac120007-3-1c0f-5b25-d7c0",
       "previous": "357fc83a-969d-11ea-8d02-0242ac120007-3-9a36-95b8-3fa9"
      },
      {
       "current": "06afec50-98b0-11ea-8d02-0242ac120007-4-5828-a305-b690-dc0f",
       "next": "8a48d590-98a1-11ea-8d02-0242ac120007-3-1c0f-5b25-d7c0",
       "previous": "95a30770-6f0e-11ee-89fa-0242ac120005"
      },
      {
       "current": "06afec50-98b0-11ea-8d02-0242ac120007-5-5828-a305-b690-dc0f-9d53",
       "next": "8a48d590-98a1-11ea-8d02-0242ac120007-4-1c0f-5b25-d7c0-839a",
       "previous": "95a30770-6f0e-11ee-89fa-0242ac120005-1-0ece"
      },
      {
       "current": "06afec50-98b0-11ea-8d02-0242ac120007-6-5828-a305-b690-dc0f-9d53-cd50",
       "next": "8a48d590-98a1-11ea-8d02-0242ac120007-5-1c0f-5b25-d7c0-839a-18f4",
       "previous": "95a30770-6f0e-11ee-89fa-0242ac120005-2-0ece-52a3"
      },
      {
       "current": "06afec50-98b0-11ea-8d02-0242ac120007-7-5828-a305-b690-dc0f-9d53-cd50-dd49",
       "next": "8a48d590-98a1-11ea-8d02-0242ac120007-6-1c0f-5b25-d7c0-839a-18f4-ae93",
       "previous": "95a30770-6f0e-11ee-89fa-0242ac120005-3-0ece-52a3-e5d6"
      },
      {
       "current": "06afec50-98b0-11ea-8d02-0242ac120007-8-5828-a305-b690-dc0f-9d53-cd50-dd49-0068",
       "next": "8a48d590-98a1-11ea-8d02-0242ac120007-7-1c0f-5b25-d7c0-839a-18f4-ae93-1d3c",
       "previous": "95a30770-6f0e-11ee-89fa-0242ac120005-4-0ece-52a3-e5d6-89bb"
      }
     ],
     "next": "8a48d590-98a1-11ea-8d02-0242ac120007-8-1c0f-5b25-d7c0-839a-18f4-ae93-1d3c-f7fe",
     "previous": "95a30770-6f0e-11ee-89fa-0242ac120005-5-0ece-52a3-e5d6-89bb-3884"
    }
   },
   "source": [
    "## 初期化対象Cephノード情報の取得"
   ]
  },
  {
   "cell_type": "markdown",
   "metadata": {
    "lc_cell_meme": {
     "current": "8a48d590-98a1-11ea-8d02-0242ac120007-8-1c0f-5b25-d7c0-839a-18f4-ae93-1d3c-f7fe",
     "history": [
      {
       "current": "8a48d590-98a1-11ea-8d02-0242ac120007",
       "next": "8a48d90a-98a1-11ea-8d02-0242ac120007",
       "previous": "357fc83a-969d-11ea-8d02-0242ac120007"
      },
      {
       "current": "8a48d590-98a1-11ea-8d02-0242ac120007",
       "next": "8a48d90a-98a1-11ea-8d02-0242ac120007",
       "previous": "06afec50-98b0-11ea-8d02-0242ac120007"
      },
      {
       "current": "8a48d590-98a1-11ea-8d02-0242ac120007",
       "next": "a85c1dda-959a-11ea-8d02-0242ac120007",
       "previous": "06afec50-98b0-11ea-8d02-0242ac120007"
      },
      {
       "current": "8a48d590-98a1-11ea-8d02-0242ac120007-1-1c0f",
       "next": "e879cdac-95bf-11ea-8d02-0242ac120007",
       "previous": "06afec50-98b0-11ea-8d02-0242ac120007"
      },
      {
       "current": "8a48d590-98a1-11ea-8d02-0242ac120007-2-1c0f-5b25",
       "next": "e879cdac-95bf-11ea-8d02-0242ac120007-1-4a2c",
       "previous": "06afec50-98b0-11ea-8d02-0242ac120007-1-5828"
      },
      {
       "current": "8a48d590-98a1-11ea-8d02-0242ac120007-3-1c0f-5b25-d7c0",
       "next": "e879cdac-95bf-11ea-8d02-0242ac120007-2-4a2c-6b2f",
       "previous": "06afec50-98b0-11ea-8d02-0242ac120007-2-5828-a305"
      },
      {
       "current": "8a48d590-98a1-11ea-8d02-0242ac120007-4-1c0f-5b25-d7c0-839a",
       "next": "e879cdac-95bf-11ea-8d02-0242ac120007-3-4a2c-6b2f-958d",
       "previous": "06afec50-98b0-11ea-8d02-0242ac120007-3-5828-a305-b690"
      },
      {
       "current": "8a48d590-98a1-11ea-8d02-0242ac120007-5-1c0f-5b25-d7c0-839a-18f4",
       "next": "e879cdac-95bf-11ea-8d02-0242ac120007-4-4a2c-6b2f-958d-9c27",
       "previous": "06afec50-98b0-11ea-8d02-0242ac120007-4-5828-a305-b690-dc0f"
      },
      {
       "current": "8a48d590-98a1-11ea-8d02-0242ac120007-6-1c0f-5b25-d7c0-839a-18f4-ae93",
       "next": "e879cdac-95bf-11ea-8d02-0242ac120007-5-4a2c-6b2f-958d-9c27-caa0",
       "previous": "06afec50-98b0-11ea-8d02-0242ac120007-5-5828-a305-b690-dc0f-9d53"
      },
      {
       "current": "8a48d590-98a1-11ea-8d02-0242ac120007-7-1c0f-5b25-d7c0-839a-18f4-ae93-1d3c",
       "next": "e879cdac-95bf-11ea-8d02-0242ac120007-6-4a2c-6b2f-958d-9c27-caa0-969c",
       "previous": "06afec50-98b0-11ea-8d02-0242ac120007-6-5828-a305-b690-dc0f-9d53-cd50"
      },
      {
       "current": "8a48d590-98a1-11ea-8d02-0242ac120007-8-1c0f-5b25-d7c0-839a-18f4-ae93-1d3c-f7fe",
       "next": "e879cdac-95bf-11ea-8d02-0242ac120007-7-4a2c-6b2f-958d-9c27-caa0-969c-7bfb",
       "previous": "06afec50-98b0-11ea-8d02-0242ac120007-7-5828-a305-b690-dc0f-9d53-cd50-dd49"
      }
     ],
     "next": "e879cdac-95bf-11ea-8d02-0242ac120007-8-4a2c-6b2f-958d-9c27-caa0-969c-7bfb-0b1f",
     "previous": "06afec50-98b0-11ea-8d02-0242ac120007-8-5828-a305-b690-dc0f-9d53-cd50-dd49-0068"
    }
   },
   "source": [
    "初期化対象のインスタンス名称を設定する"
   ]
  },
  {
   "cell_type": "code",
   "execution_count": null,
   "metadata": {
    "lc_cell_meme": {
     "current": "e879cdac-95bf-11ea-8d02-0242ac120007-8-4a2c-6b2f-958d-9c27-caa0-969c-7bfb-0b1f",
     "history": [
      {
       "current": "e879cdac-95bf-11ea-8d02-0242ac120007",
       "next": "81dd4f74-9597-11ea-8d02-0242ac120007",
       "previous": "d1bcb8ac-9599-11ea-8d02-0242ac120007"
      },
      {
       "current": "e879cdac-95bf-11ea-8d02-0242ac120007",
       "next": "81dd4f74-9597-11ea-8d02-0242ac120007",
       "previous": "a85c1dda-959a-11ea-8d02-0242ac120007"
      },
      {
       "current": "e879cdac-95bf-11ea-8d02-0242ac120007",
       "next": "8a48d90a-98a1-11ea-8d02-0242ac120007",
       "previous": "a85c1dda-959a-11ea-8d02-0242ac120007"
      },
      {
       "current": "e879cdac-95bf-11ea-8d02-0242ac120007-1-4a2c",
       "next": "8a48d90a-98a1-11ea-8d02-0242ac120007",
       "previous": "8a48d590-98a1-11ea-8d02-0242ac120007"
      },
      {
       "current": "e879cdac-95bf-11ea-8d02-0242ac120007-2-4a2c-6b2f",
       "next": "8a48d90a-98a1-11ea-8d02-0242ac120007-1-0ebc",
       "previous": "8a48d590-98a1-11ea-8d02-0242ac120007-1-1c0f"
      },
      {
       "current": "e879cdac-95bf-11ea-8d02-0242ac120007-2-4a2c-6b2f",
       "next": "8a48d90a-98a1-11ea-8d02-0242ac120007-2-0ebc-93ac",
       "previous": "8a48d590-98a1-11ea-8d02-0242ac120007-2-1c0f-5b25"
      },
      {
       "current": "e879cdac-95bf-11ea-8d02-0242ac120007-3-4a2c-6b2f-958d",
       "next": "809aa1e6-def9-11eb-b29f-0242ac120008",
       "previous": "8a48d590-98a1-11ea-8d02-0242ac120007-2-1c0f-5b25"
      },
      {
       "current": "e879cdac-95bf-11ea-8d02-0242ac120007-3-4a2c-6b2f-958d",
       "next": "809aa1e6-def9-11eb-b29f-0242ac120008-1-b49e",
       "previous": "8a48d590-98a1-11ea-8d02-0242ac120007-3-1c0f-5b25-d7c0"
      },
      {
       "current": "e879cdac-95bf-11ea-8d02-0242ac120007-4-4a2c-6b2f-958d-9c27",
       "next": "8a48d90a-98a1-11ea-8d02-0242ac120007-3-0ebc-93ac-04b4",
       "previous": "8a48d590-98a1-11ea-8d02-0242ac120007-3-1c0f-5b25-d7c0"
      },
      {
       "current": "e879cdac-95bf-11ea-8d02-0242ac120007-5-4a2c-6b2f-958d-9c27-caa0",
       "next": "8a48d90a-98a1-11ea-8d02-0242ac120007-4-0ebc-93ac-04b4-45b2",
       "previous": "8a48d590-98a1-11ea-8d02-0242ac120007-4-1c0f-5b25-d7c0-839a"
      },
      {
       "current": "e879cdac-95bf-11ea-8d02-0242ac120007-6-4a2c-6b2f-958d-9c27-caa0-969c",
       "next": "8a48d90a-98a1-11ea-8d02-0242ac120007-5-0ebc-93ac-04b4-45b2-6ef3",
       "previous": "8a48d590-98a1-11ea-8d02-0242ac120007-5-1c0f-5b25-d7c0-839a-18f4"
      },
      {
       "current": "e879cdac-95bf-11ea-8d02-0242ac120007-7-4a2c-6b2f-958d-9c27-caa0-969c-7bfb",
       "next": "8a48d90a-98a1-11ea-8d02-0242ac120007-6-0ebc-93ac-04b4-45b2-6ef3-e163",
       "previous": "8a48d590-98a1-11ea-8d02-0242ac120007-6-1c0f-5b25-d7c0-839a-18f4-ae93"
      },
      {
       "current": "e879cdac-95bf-11ea-8d02-0242ac120007-8-4a2c-6b2f-958d-9c27-caa0-969c-7bfb-0b1f",
       "next": "8a48d90a-98a1-11ea-8d02-0242ac120007-7-0ebc-93ac-04b4-45b2-6ef3-e163-7e75",
       "previous": "8a48d590-98a1-11ea-8d02-0242ac120007-7-1c0f-5b25-d7c0-839a-18f4-ae93-1d3c"
      }
     ],
     "next": "8a48d90a-98a1-11ea-8d02-0242ac120007-8-0ebc-93ac-04b4-45b2-6ef3-e163-7e75-39ba",
     "previous": "8a48d590-98a1-11ea-8d02-0242ac120007-8-1c0f-5b25-d7c0-839a-18f4-ae93-1d3c-f7fe"
    },
    "scrolled": true
   },
   "outputs": [],
   "source": [
    "# 初期化対象のインスタンス名称を設定する\n",
    "raise Exception('この先手作業が必要です')"
   ]
  },
  {
   "cell_type": "code",
   "execution_count": null,
   "metadata": {
    "lc_cell_meme": {
     "current": "8a48d90a-98a1-11ea-8d02-0242ac120007-8-0ebc-93ac-04b4-45b2-6ef3-e163-7e75-39ba",
     "history": [
      {
       "current": "8a48d90a-98a1-11ea-8d02-0242ac120007",
       "next": "8a48dae0-98a1-11ea-8d02-0242ac120007",
       "previous": "8a48d590-98a1-11ea-8d02-0242ac120007"
      },
      {
       "current": "8a48d90a-98a1-11ea-8d02-0242ac120007-1-0ebc",
       "next": "8a48dae0-98a1-11ea-8d02-0242ac120007",
       "previous": "e879cdac-95bf-11ea-8d02-0242ac120007"
      },
      {
       "current": "8a48d90a-98a1-11ea-8d02-0242ac120007-2-0ebc-93ac",
       "next": "8a48dae0-98a1-11ea-8d02-0242ac120007-1-4da2",
       "previous": "e879cdac-95bf-11ea-8d02-0242ac120007-1-4a2c"
      },
      {
       "current": "8a48d90a-98a1-11ea-8d02-0242ac120007-2-0ebc-93ac",
       "next": "8a48dae0-98a1-11ea-8d02-0242ac120007-2-4da2-9c77",
       "previous": "e879cdac-95bf-11ea-8d02-0242ac120007-2-4a2c-6b2f"
      },
      {
       "current": "8a48d90a-98a1-11ea-8d02-0242ac120007-3-0ebc-93ac-04b4",
       "next": "8a48dae0-98a1-11ea-8d02-0242ac120007-2-4da2-9c77",
       "previous": "809aa1e6-def9-11eb-b29f-0242ac120008"
      },
      {
       "current": "8a48d90a-98a1-11ea-8d02-0242ac120007-3-0ebc-93ac-04b4",
       "next": "8a48dae0-98a1-11ea-8d02-0242ac120007-3-4da2-9c77-127e",
       "previous": "809aa1e6-def9-11eb-b29f-0242ac120008-1-b49e"
      },
      {
       "current": "8a48d90a-98a1-11ea-8d02-0242ac120007-4-0ebc-93ac-04b4-45b2",
       "next": "8a48dae0-98a1-11ea-8d02-0242ac120007-3-4da2-9c77-127e",
       "previous": "e879cdac-95bf-11ea-8d02-0242ac120007-3-4a2c-6b2f-958d"
      },
      {
       "current": "8a48d90a-98a1-11ea-8d02-0242ac120007-5-0ebc-93ac-04b4-45b2-6ef3",
       "next": "8a48dae0-98a1-11ea-8d02-0242ac120007-4-4da2-9c77-127e-9179",
       "previous": "e879cdac-95bf-11ea-8d02-0242ac120007-4-4a2c-6b2f-958d-9c27"
      },
      {
       "current": "8a48d90a-98a1-11ea-8d02-0242ac120007-6-0ebc-93ac-04b4-45b2-6ef3-e163",
       "next": "8a48dae0-98a1-11ea-8d02-0242ac120007-5-4da2-9c77-127e-9179-1381",
       "previous": "e879cdac-95bf-11ea-8d02-0242ac120007-5-4a2c-6b2f-958d-9c27-caa0"
      },
      {
       "current": "8a48d90a-98a1-11ea-8d02-0242ac120007-7-0ebc-93ac-04b4-45b2-6ef3-e163-7e75",
       "next": "8a48dae0-98a1-11ea-8d02-0242ac120007-6-4da2-9c77-127e-9179-1381-0a41",
       "previous": "e879cdac-95bf-11ea-8d02-0242ac120007-6-4a2c-6b2f-958d-9c27-caa0-969c"
      },
      {
       "current": "8a48d90a-98a1-11ea-8d02-0242ac120007-8-0ebc-93ac-04b4-45b2-6ef3-e163-7e75-39ba",
       "next": "8a48dae0-98a1-11ea-8d02-0242ac120007-7-4da2-9c77-127e-9179-1381-0a41-4acc",
       "previous": "e879cdac-95bf-11ea-8d02-0242ac120007-7-4a2c-6b2f-958d-9c27-caa0-969c-7bfb"
      }
     ],
     "next": "8a48dae0-98a1-11ea-8d02-0242ac120007-8-4da2-9c77-127e-9179-1381-0a41-4acc-3bcc",
     "previous": "e879cdac-95bf-11ea-8d02-0242ac120007-8-4a2c-6b2f-958d-9c27-caa0-969c-7bfb-0b1f"
    }
   },
   "outputs": [],
   "source": [
    "instance_name = 'ceph-xxx-node-001'"
   ]
  },
  {
   "cell_type": "code",
   "execution_count": null,
   "metadata": {
    "lc_cell_meme": {
     "current": "8a48dae0-98a1-11ea-8d02-0242ac120007-8-4da2-9c77-127e-9179-1381-0a41-4acc-3bcc",
     "history": [
      {
       "current": "8a48dae0-98a1-11ea-8d02-0242ac120007-1-4da2",
       "next": "35c339aa-55a3-11e7-b0b2-00163e9c0e35",
       "previous": "8a48d90a-98a1-11ea-8d02-0242ac120007"
      },
      {
       "current": "8a48dae0-98a1-11ea-8d02-0242ac120007-2-4da2-9c77",
       "next": "35c339aa-55a3-11e7-b0b2-00163e9c0e35-1-eee2",
       "previous": "8a48d90a-98a1-11ea-8d02-0242ac120007-1-0ebc"
      },
      {
       "current": "8a48dae0-98a1-11ea-8d02-0242ac120007-2-4da2-9c77",
       "next": "35c339aa-55a3-11e7-b0b2-00163e9c0e35-2-eee2-af6c",
       "previous": "8a48d90a-98a1-11ea-8d02-0242ac120007-2-0ebc-93ac"
      },
      {
       "current": "8a48dae0-98a1-11ea-8d02-0242ac120007-2-4da2-9c77",
       "next": "35c362a4-55a3-11e7-b0b2-00163e9c0e35-2-3f0a-3633",
       "previous": "8a48d90a-98a1-11ea-8d02-0242ac120007-2-0ebc-93ac"
      },
      {
       "current": "8a48dae0-98a1-11ea-8d02-0242ac120007-2-4da2-9c77",
       "next": "1afe7a3e-def8-11eb-b29f-0242ac120008",
       "previous": "8a48d90a-98a1-11ea-8d02-0242ac120007-2-0ebc-93ac"
      },
      {
       "current": "8a48dae0-98a1-11ea-8d02-0242ac120007-3-4da2-9c77-127e",
       "next": "35c35a52-55a3-11e7-b0b2-00163e9c0e35-2-ed71-9007",
       "previous": "8a48d90a-98a1-11ea-8d02-0242ac120007-2-0ebc-93ac"
      },
      {
       "current": "8a48dae0-98a1-11ea-8d02-0242ac120007-4-4da2-9c77-127e-9179",
       "next": "35c35a52-55a3-11e7-b0b2-00163e9c0e35-3-ed71-9007-f930",
       "previous": "8a48d90a-98a1-11ea-8d02-0242ac120007-3-0ebc-93ac-04b4"
      },
      {
       "current": "8a48dae0-98a1-11ea-8d02-0242ac120007-5-4da2-9c77-127e-9179-1381",
       "next": "35c35a52-55a3-11e7-b0b2-00163e9c0e35-4-ed71-9007-f930-3caf",
       "previous": "8a48d90a-98a1-11ea-8d02-0242ac120007-4-0ebc-93ac-04b4-45b2"
      },
      {
       "current": "8a48dae0-98a1-11ea-8d02-0242ac120007-6-4da2-9c77-127e-9179-1381-0a41",
       "next": "35c35a52-55a3-11e7-b0b2-00163e9c0e35-5-ed71-9007-f930-3caf-d1ee",
       "previous": "8a48d90a-98a1-11ea-8d02-0242ac120007-5-0ebc-93ac-04b4-45b2-6ef3"
      },
      {
       "current": "8a48dae0-98a1-11ea-8d02-0242ac120007-7-4da2-9c77-127e-9179-1381-0a41-4acc",
       "next": "35c35a52-55a3-11e7-b0b2-00163e9c0e35-6-ed71-9007-f930-3caf-d1ee-7cab",
       "previous": "8a48d90a-98a1-11ea-8d02-0242ac120007-6-0ebc-93ac-04b4-45b2-6ef3-e163"
      },
      {
       "current": "8a48dae0-98a1-11ea-8d02-0242ac120007-8-4da2-9c77-127e-9179-1381-0a41-4acc-3bcc",
       "next": "35c35a52-55a3-11e7-b0b2-00163e9c0e35-7-ed71-9007-f930-3caf-d1ee-7cab-fbc6",
       "previous": "8a48d90a-98a1-11ea-8d02-0242ac120007-7-0ebc-93ac-04b4-45b2-6ef3-e163-7e75"
      }
     ],
     "next": "35c35a52-55a3-11e7-b0b2-00163e9c0e35-8-ed71-9007-f930-3caf-d1ee-7cab-fbc6-1e87",
     "previous": "8a48d90a-98a1-11ea-8d02-0242ac120007-8-0ebc-93ac-04b4-45b2-6ef3-e163-7e75-39ba"
    }
   },
   "outputs": [],
   "source": [
    "target = None\n",
    "for elem in node_list:\n",
    "    if elem['name'] == instance_name:\n",
    "        target = elem\n",
    "        break\n",
    "\n",
    "assert (target is not None), \"指定されたターゲットノードが存在しません。\"\n",
    "print (target)"
   ]
  },
  {
   "cell_type": "markdown",
   "metadata": {
    "lc_cell_meme": {
     "current": "35c35a52-55a3-11e7-b0b2-00163e9c0e35-8-ed71-9007-f930-3caf-d1ee-7cab-fbc6-1e87",
     "history": [
      {
       "current": "35c35a52-55a3-11e7-b0b2-00163e9c0e35",
       "next": "35c35bf6-55a3-11e7-b0b2-00163e9c0e35",
       "previous": "35c358ae-55a3-11e7-b0b2-00163e9c0e35"
      },
      {
       "current": "35c35a52-55a3-11e7-b0b2-00163e9c0e35",
       "next": "35c35bf6-55a3-11e7-b0b2-00163e9c0e35",
       "previous": "690aae12-2871-11ea-b5b0-0242ac120004"
      },
      {
       "current": "35c35a52-55a3-11e7-b0b2-00163e9c0e35",
       "next": "35c35bf6-55a3-11e7-b0b2-00163e9c0e35",
       "previous": "1f202142-40d1-11ea-ab19-0242ac120004"
      },
      {
       "current": "35c35a52-55a3-11e7-b0b2-00163e9c0e35",
       "next": "35c35bf6-55a3-11e7-b0b2-00163e9c0e35",
       "previous": "690aae12-2871-11ea-b5b0-0242ac120004"
      },
      {
       "current": "35c35a52-55a3-11e7-b0b2-00163e9c0e35",
       "next": "35c35bf6-55a3-11e7-b0b2-00163e9c0e35",
       "previous": "35c358ae-55a3-11e7-b0b2-00163e9c0e35"
      },
      {
       "current": "35c35a52-55a3-11e7-b0b2-00163e9c0e35",
       "next": "35c35bf6-55a3-11e7-b0b2-00163e9c0e35",
       "previous": "29c91c64-2850-11ea-b5b0-0242ac120004"
      },
      {
       "current": "35c35a52-55a3-11e7-b0b2-00163e9c0e35",
       "next": "35c35bf6-55a3-11e7-b0b2-00163e9c0e35",
       "previous": "35c35552-55a3-11e7-b0b2-00163e9c0e35"
      },
      {
       "current": "35c35a52-55a3-11e7-b0b2-00163e9c0e35",
       "next": "35c35bf6-55a3-11e7-b0b2-00163e9c0e35",
       "previous": "81dd5320-9597-11ea-8d02-0242ac120007"
      },
      {
       "current": "35c35a52-55a3-11e7-b0b2-00163e9c0e35-1-ed71",
       "next": "35c35bf6-55a3-11e7-b0b2-00163e9c0e35",
       "previous": "46b9463a-95bc-11ea-8d02-0242ac120007"
      },
      {
       "current": "35c35a52-55a3-11e7-b0b2-00163e9c0e35-1-ed71",
       "next": "35c35bf6-55a3-11e7-b0b2-00163e9c0e35-1-4f76",
       "previous": "46b9463a-95bc-11ea-8d02-0242ac120007-1-777e"
      },
      {
       "current": "35c35a52-55a3-11e7-b0b2-00163e9c0e35-2-ed71-9007",
       "next": "35c35bf6-55a3-11e7-b0b2-00163e9c0e35-1-4f76",
       "previous": "e3624638-98a7-11ea-8d02-0242ac120007-1-0249"
      },
      {
       "current": "35c35a52-55a3-11e7-b0b2-00163e9c0e35-2-ed71-9007",
       "next": "35c35bf6-55a3-11e7-b0b2-00163e9c0e35-2-4f76-7f4b",
       "previous": "e3624638-98a7-11ea-8d02-0242ac120007-2-0249-59e8"
      },
      {
       "current": "35c35a52-55a3-11e7-b0b2-00163e9c0e35-2-ed71-9007",
       "next": "35c35bf6-55a3-11e7-b0b2-00163e9c0e35-2-4f76-7f4b",
       "previous": "445f39dc-def7-11eb-b29f-0242ac120008"
      },
      {
       "current": "35c35a52-55a3-11e7-b0b2-00163e9c0e35-2-ed71-9007",
       "next": "35c35bf6-55a3-11e7-b0b2-00163e9c0e35-2-4f76-7f4b",
       "previous": "445f36bc-def7-11eb-b29f-0242ac120008"
      },
      {
       "current": "35c35a52-55a3-11e7-b0b2-00163e9c0e35-2-ed71-9007",
       "next": "35c35bf6-55a3-11e7-b0b2-00163e9c0e35-2-4f76-7f4b",
       "previous": "1afe7e1c-def8-11eb-b29f-0242ac120008"
      },
      {
       "current": "35c35a52-55a3-11e7-b0b2-00163e9c0e35-3-ed71-9007-f930",
       "next": "35c35bf6-55a3-11e7-b0b2-00163e9c0e35-2-4f76-7f4b",
       "previous": "8a48dae0-98a1-11ea-8d02-0242ac120007-2-4da2-9c77"
      },
      {
       "current": "35c35a52-55a3-11e7-b0b2-00163e9c0e35-3-ed71-9007-f930",
       "next": "35c35bf6-55a3-11e7-b0b2-00163e9c0e35-3-4f76-7f4b-c54b",
       "previous": "8a48dae0-98a1-11ea-8d02-0242ac120007-3-4da2-9c77-127e"
      },
      {
       "current": "35c35a52-55a3-11e7-b0b2-00163e9c0e35-4-ed71-9007-f930-3caf",
       "next": "35c35f52-55a3-11e7-b0b2-00163e9c0e35-3-e2de-8a27-98e3",
       "previous": "8a48dae0-98a1-11ea-8d02-0242ac120007-3-4da2-9c77-127e"
      },
      {
       "current": "35c35a52-55a3-11e7-b0b2-00163e9c0e35-5-ed71-9007-f930-3caf-d1ee",
       "next": "35c35f52-55a3-11e7-b0b2-00163e9c0e35-4-e2de-8a27-98e3-4c76",
       "previous": "8a48dae0-98a1-11ea-8d02-0242ac120007-4-4da2-9c77-127e-9179"
      },
      {
       "current": "35c35a52-55a3-11e7-b0b2-00163e9c0e35-6-ed71-9007-f930-3caf-d1ee-7cab",
       "next": "35c35f52-55a3-11e7-b0b2-00163e9c0e35-5-e2de-8a27-98e3-4c76-c7a4",
       "previous": "8a48dae0-98a1-11ea-8d02-0242ac120007-5-4da2-9c77-127e-9179-1381"
      },
      {
       "current": "35c35a52-55a3-11e7-b0b2-00163e9c0e35-7-ed71-9007-f930-3caf-d1ee-7cab-fbc6",
       "next": "35c35f52-55a3-11e7-b0b2-00163e9c0e35-6-e2de-8a27-98e3-4c76-c7a4-fbbd",
       "previous": "8a48dae0-98a1-11ea-8d02-0242ac120007-6-4da2-9c77-127e-9179-1381-0a41"
      },
      {
       "current": "35c35a52-55a3-11e7-b0b2-00163e9c0e35-8-ed71-9007-f930-3caf-d1ee-7cab-fbc6-1e87",
       "next": "35c35f52-55a3-11e7-b0b2-00163e9c0e35-7-e2de-8a27-98e3-4c76-c7a4-fbbd-09a7",
       "previous": "8a48dae0-98a1-11ea-8d02-0242ac120007-7-4da2-9c77-127e-9179-1381-0a41-4acc"
      }
     ],
     "next": "35c35f52-55a3-11e7-b0b2-00163e9c0e35-8-e2de-8a27-98e3-4c76-c7a4-fbbd-09a7-2775",
     "previous": "8a48dae0-98a1-11ea-8d02-0242ac120007-8-4da2-9c77-127e-9179-1381-0a41-4acc-3bcc"
    }
   },
   "source": [
    "## 一時Inventoryファイルの生成\n",
    "以下を実行し、作業用ディレクトリ配下に一時Inventoryファイルを生成する。"
   ]
  },
  {
   "cell_type": "markdown",
   "metadata": {
    "lc_cell_meme": {
     "current": "35c35f52-55a3-11e7-b0b2-00163e9c0e35-8-e2de-8a27-98e3-4c76-c7a4-fbbd-09a7-2775",
     "history": [
      {
       "current": "35c35f52-55a3-11e7-b0b2-00163e9c0e35",
       "next": "35c360f6-55a3-11e7-b0b2-00163e9c0e35",
       "previous": "35c35dae-55a3-11e7-b0b2-00163e9c0e35"
      },
      {
       "current": "35c35f52-55a3-11e7-b0b2-00163e9c0e35-1-e2de",
       "next": "a33430b0-9327-11ea-8d02-0242ac120007",
       "previous": "35c35dae-55a3-11e7-b0b2-00163e9c0e35"
      },
      {
       "current": "35c35f52-55a3-11e7-b0b2-00163e9c0e35-2-e2de-8a27",
       "next": "a33430b0-9327-11ea-8d02-0242ac120007-1-3202",
       "previous": "35c35dae-55a3-11e7-b0b2-00163e9c0e35-1-7091"
      },
      {
       "current": "35c35f52-55a3-11e7-b0b2-00163e9c0e35-3-e2de-8a27-98e3",
       "next": "a33430b0-9327-11ea-8d02-0242ac120007-2-3202-0bdc",
       "previous": "35c35dae-55a3-11e7-b0b2-00163e9c0e35-2-7091-7055"
      },
      {
       "current": "35c35f52-55a3-11e7-b0b2-00163e9c0e35-3-e2de-8a27-98e3",
       "next": "a33430b0-9327-11ea-8d02-0242ac120007-3-3202-0bdc-fd62",
       "previous": "35c35dae-55a3-11e7-b0b2-00163e9c0e35-3-7091-7055-1fd7"
      },
      {
       "current": "35c35f52-55a3-11e7-b0b2-00163e9c0e35-4-e2de-8a27-98e3-4c76",
       "next": "a33430b0-9327-11ea-8d02-0242ac120007-3-3202-0bdc-fd62",
       "previous": "35c35a52-55a3-11e7-b0b2-00163e9c0e35-3-ed71-9007-f930"
      },
      {
       "current": "35c35f52-55a3-11e7-b0b2-00163e9c0e35-5-e2de-8a27-98e3-4c76-c7a4",
       "next": "a33430b0-9327-11ea-8d02-0242ac120007-4-3202-0bdc-fd62-f86c",
       "previous": "35c35a52-55a3-11e7-b0b2-00163e9c0e35-4-ed71-9007-f930-3caf"
      },
      {
       "current": "35c35f52-55a3-11e7-b0b2-00163e9c0e35-6-e2de-8a27-98e3-4c76-c7a4-fbbd",
       "next": "a33430b0-9327-11ea-8d02-0242ac120007-5-3202-0bdc-fd62-f86c-663e",
       "previous": "35c35a52-55a3-11e7-b0b2-00163e9c0e35-5-ed71-9007-f930-3caf-d1ee"
      },
      {
       "current": "35c35f52-55a3-11e7-b0b2-00163e9c0e35-7-e2de-8a27-98e3-4c76-c7a4-fbbd-09a7",
       "next": "a33430b0-9327-11ea-8d02-0242ac120007-6-3202-0bdc-fd62-f86c-663e-7323",
       "previous": "35c35a52-55a3-11e7-b0b2-00163e9c0e35-6-ed71-9007-f930-3caf-d1ee-7cab"
      },
      {
       "current": "35c35f52-55a3-11e7-b0b2-00163e9c0e35-8-e2de-8a27-98e3-4c76-c7a4-fbbd-09a7-2775",
       "next": "a33430b0-9327-11ea-8d02-0242ac120007-7-3202-0bdc-fd62-f86c-663e-7323-6cb3",
       "previous": "35c35a52-55a3-11e7-b0b2-00163e9c0e35-7-ed71-9007-f930-3caf-d1ee-7cab-fbc6"
      }
     ],
     "next": "a33430b0-9327-11ea-8d02-0242ac120007-8-3202-0bdc-fd62-f86c-663e-7323-6cb3-37fc",
     "previous": "35c35a52-55a3-11e7-b0b2-00163e9c0e35-8-ed71-9007-f930-3caf-d1ee-7cab-fbc6-1e87"
    }
   },
   "source": [
    "Inventoryファイルを生成する。"
   ]
  },
  {
   "cell_type": "code",
   "execution_count": null,
   "metadata": {
    "lc_cell_meme": {
     "current": "a33430b0-9327-11ea-8d02-0242ac120007-8-3202-0bdc-fd62-f86c-663e-7323-6cb3-37fc",
     "history": [
      {
       "current": "a33430b0-9327-11ea-8d02-0242ac120007",
       "next": "35c360f6-55a3-11e7-b0b2-00163e9c0e35",
       "previous": "35c35f52-55a3-11e7-b0b2-00163e9c0e35"
      },
      {
       "current": "a33430b0-9327-11ea-8d02-0242ac120007-1-3202",
       "next": "9c0b8624-959f-11ea-8d02-0242ac120007",
       "previous": "35c35f52-55a3-11e7-b0b2-00163e9c0e35"
      },
      {
       "current": "a33430b0-9327-11ea-8d02-0242ac120007-2-3202-0bdc",
       "next": "9c0b8624-959f-11ea-8d02-0242ac120007-1-8098",
       "previous": "35c35f52-55a3-11e7-b0b2-00163e9c0e35-1-e2de"
      },
      {
       "current": "a33430b0-9327-11ea-8d02-0242ac120007-2-3202-0bdc",
       "next": "9c0b8624-959f-11ea-8d02-0242ac120007-2-8098-a371",
       "previous": "35c35f52-55a3-11e7-b0b2-00163e9c0e35-2-e2de-8a27"
      },
      {
       "current": "a33430b0-9327-11ea-8d02-0242ac120007-3-3202-0bdc-fd62",
       "next": "27f1be96-f4f0-11eb-b29f-0242ac120008",
       "previous": "35c35f52-55a3-11e7-b0b2-00163e9c0e35-2-e2de-8a27"
      },
      {
       "current": "a33430b0-9327-11ea-8d02-0242ac120007-4-3202-0bdc-fd62-f86c",
       "next": "27f1be96-f4f0-11eb-b29f-0242ac120008-1-0b6c",
       "previous": "35c35f52-55a3-11e7-b0b2-00163e9c0e35-3-e2de-8a27-98e3"
      },
      {
       "current": "a33430b0-9327-11ea-8d02-0242ac120007-5-3202-0bdc-fd62-f86c-663e",
       "next": "27f1be96-f4f0-11eb-b29f-0242ac120008-2-0b6c-8fe4",
       "previous": "35c35f52-55a3-11e7-b0b2-00163e9c0e35-4-e2de-8a27-98e3-4c76"
      },
      {
       "current": "a33430b0-9327-11ea-8d02-0242ac120007-6-3202-0bdc-fd62-f86c-663e-7323",
       "next": "27f1be96-f4f0-11eb-b29f-0242ac120008-3-0b6c-8fe4-992a",
       "previous": "35c35f52-55a3-11e7-b0b2-00163e9c0e35-5-e2de-8a27-98e3-4c76-c7a4"
      },
      {
       "current": "a33430b0-9327-11ea-8d02-0242ac120007-7-3202-0bdc-fd62-f86c-663e-7323-6cb3",
       "next": "27f1be96-f4f0-11eb-b29f-0242ac120008-4-0b6c-8fe4-992a-31d4",
       "previous": "35c35f52-55a3-11e7-b0b2-00163e9c0e35-6-e2de-8a27-98e3-4c76-c7a4-fbbd"
      },
      {
       "current": "a33430b0-9327-11ea-8d02-0242ac120007-8-3202-0bdc-fd62-f86c-663e-7323-6cb3-37fc",
       "next": "27f1be96-f4f0-11eb-b29f-0242ac120008-5-0b6c-8fe4-992a-31d4-8117",
       "previous": "35c35f52-55a3-11e7-b0b2-00163e9c0e35-7-e2de-8a27-98e3-4c76-c7a4-fbbd-09a7"
      }
     ],
     "next": "27f1be96-f4f0-11eb-b29f-0242ac120008-6-0b6c-8fe4-992a-31d4-8117-101e",
     "previous": "35c35f52-55a3-11e7-b0b2-00163e9c0e35-8-e2de-8a27-98e3-4c76-c7a4-fbbd-09a7-2775"
    }
   },
   "outputs": [],
   "source": [
    "node_user='xxxxx'\n",
    "proxy_user='xxxxx'\n",
    "proxy_key='~/.ssh/id_ras'"
   ]
  },
  {
   "cell_type": "code",
   "execution_count": null,
   "metadata": {
    "lc_cell_meme": {
     "current": "27f1be96-f4f0-11eb-b29f-0242ac120008-6-0b6c-8fe4-992a-31d4-8117-101e",
     "history": [
      {
       "current": "27f1be96-f4f0-11eb-b29f-0242ac120008-1-0b6c",
       "next": "9c0b8624-959f-11ea-8d02-0242ac120007-2-8098-a371",
       "previous": "a33430b0-9327-11ea-8d02-0242ac120007-2-3202-0bdc"
      },
      {
       "current": "27f1be96-f4f0-11eb-b29f-0242ac120008-2-0b6c-8fe4",
       "next": "9c0b8624-959f-11ea-8d02-0242ac120007-3-8098-a371-0b4a",
       "previous": "a33430b0-9327-11ea-8d02-0242ac120007-3-3202-0bdc-fd62"
      },
      {
       "current": "27f1be96-f4f0-11eb-b29f-0242ac120008-3-0b6c-8fe4-992a",
       "next": "9c0b8624-959f-11ea-8d02-0242ac120007-4-8098-a371-0b4a-dd94",
       "previous": "a33430b0-9327-11ea-8d02-0242ac120007-4-3202-0bdc-fd62-f86c"
      },
      {
       "current": "27f1be96-f4f0-11eb-b29f-0242ac120008-4-0b6c-8fe4-992a-31d4",
       "next": "9c0b8624-959f-11ea-8d02-0242ac120007-5-8098-a371-0b4a-dd94-1154",
       "previous": "a33430b0-9327-11ea-8d02-0242ac120007-5-3202-0bdc-fd62-f86c-663e"
      },
      {
       "current": "27f1be96-f4f0-11eb-b29f-0242ac120008-5-0b6c-8fe4-992a-31d4-8117",
       "next": "9c0b8624-959f-11ea-8d02-0242ac120007-6-8098-a371-0b4a-dd94-1154-8937",
       "previous": "a33430b0-9327-11ea-8d02-0242ac120007-6-3202-0bdc-fd62-f86c-663e-7323"
      },
      {
       "current": "27f1be96-f4f0-11eb-b29f-0242ac120008-6-0b6c-8fe4-992a-31d4-8117-101e",
       "next": "9c0b8624-959f-11ea-8d02-0242ac120007-7-8098-a371-0b4a-dd94-1154-8937-2eb4",
       "previous": "a33430b0-9327-11ea-8d02-0242ac120007-7-3202-0bdc-fd62-f86c-663e-7323-6cb3"
      }
     ],
     "next": "9c0b8624-959f-11ea-8d02-0242ac120007-8-8098-a371-0b4a-dd94-1154-8937-2eb4-8b6b",
     "previous": "a33430b0-9327-11ea-8d02-0242ac120007-8-3202-0bdc-fd62-f86c-663e-7323-6cb3-37fc"
    }
   },
   "outputs": [],
   "source": [
    "ceph_node = target[\"prov_ip\"]\n",
    "ceph_node_strage_ip = target.get(\"instance_ip\",None)\n",
    "strage_prefix = \"16\"\n",
    "\n",
    "print (\"ceph_node={} ceph_node_strage_ip={}\".format(ceph_node, ceph_node_strage_ip))"
   ]
  },
  {
   "cell_type": "markdown",
   "metadata": {
    "lc_cell_meme": {
     "current": "9c0b8624-959f-11ea-8d02-0242ac120007-8-8098-a371-0b4a-dd94-1154-8937-2eb4-8b6b",
     "history": [
      {
       "current": "9c0b8624-959f-11ea-8d02-0242ac120007-1-8098",
       "next": "9c0b88cc-959f-11ea-8d02-0242ac120007",
       "previous": "a33430b0-9327-11ea-8d02-0242ac120007"
      },
      {
       "current": "9c0b8624-959f-11ea-8d02-0242ac120007-2-8098-a371",
       "next": "9c0b88cc-959f-11ea-8d02-0242ac120007-1-b077",
       "previous": "a33430b0-9327-11ea-8d02-0242ac120007-1-3202"
      },
      {
       "current": "9c0b8624-959f-11ea-8d02-0242ac120007-2-8098-a371",
       "next": "9c0b88cc-959f-11ea-8d02-0242ac120007-2-b077-046d",
       "previous": "a33430b0-9327-11ea-8d02-0242ac120007-2-3202-0bdc"
      },
      {
       "current": "9c0b8624-959f-11ea-8d02-0242ac120007-2-8098-a371",
       "next": "9c0b88cc-959f-11ea-8d02-0242ac120007-2-b077-046d",
       "previous": "27f1be96-f4f0-11eb-b29f-0242ac120008"
      },
      {
       "current": "9c0b8624-959f-11ea-8d02-0242ac120007-3-8098-a371-0b4a",
       "next": "35c360f6-55a3-11e7-b0b2-00163e9c0e35-2-4a79-f9ba",
       "previous": "27f1be96-f4f0-11eb-b29f-0242ac120008"
      },
      {
       "current": "9c0b8624-959f-11ea-8d02-0242ac120007-4-8098-a371-0b4a-dd94",
       "next": "35c360f6-55a3-11e7-b0b2-00163e9c0e35-3-4a79-f9ba-754f",
       "previous": "27f1be96-f4f0-11eb-b29f-0242ac120008-1-0b6c"
      },
      {
       "current": "9c0b8624-959f-11ea-8d02-0242ac120007-5-8098-a371-0b4a-dd94-1154",
       "next": "35c360f6-55a3-11e7-b0b2-00163e9c0e35-4-4a79-f9ba-754f-2e7b",
       "previous": "27f1be96-f4f0-11eb-b29f-0242ac120008-2-0b6c-8fe4"
      },
      {
       "current": "9c0b8624-959f-11ea-8d02-0242ac120007-6-8098-a371-0b4a-dd94-1154-8937",
       "next": "35c360f6-55a3-11e7-b0b2-00163e9c0e35-5-4a79-f9ba-754f-2e7b-7601",
       "previous": "27f1be96-f4f0-11eb-b29f-0242ac120008-3-0b6c-8fe4-992a"
      },
      {
       "current": "9c0b8624-959f-11ea-8d02-0242ac120007-7-8098-a371-0b4a-dd94-1154-8937-2eb4",
       "next": "35c360f6-55a3-11e7-b0b2-00163e9c0e35-6-4a79-f9ba-754f-2e7b-7601-7edb",
       "previous": "27f1be96-f4f0-11eb-b29f-0242ac120008-4-0b6c-8fe4-992a-31d4"
      },
      {
       "current": "9c0b8624-959f-11ea-8d02-0242ac120007-8-8098-a371-0b4a-dd94-1154-8937-2eb4-8b6b",
       "next": "35c360f6-55a3-11e7-b0b2-00163e9c0e35-7-4a79-f9ba-754f-2e7b-7601-7edb-e292",
       "previous": "27f1be96-f4f0-11eb-b29f-0242ac120008-5-0b6c-8fe4-992a-31d4-8117"
      }
     ],
     "next": "35c360f6-55a3-11e7-b0b2-00163e9c0e35-8-4a79-f9ba-754f-2e7b-7601-7edb-e292-823a",
     "previous": "27f1be96-f4f0-11eb-b29f-0242ac120008-6-0b6c-8fe4-992a-31d4-8117-101e"
    }
   },
   "source": [
    "sudoでパスワードが必要な場合は、パスワード入力を設定してansible.cfgに設定すること。"
   ]
  },
  {
   "cell_type": "code",
   "execution_count": null,
   "metadata": {
    "ExecuteTime": {
     "end_time": "2017-06-29T08:50:39.909299Z",
     "start_time": "2017-06-29T08:50:39.762658Z"
    },
    "lc_cell_meme": {
     "current": "35c360f6-55a3-11e7-b0b2-00163e9c0e35-8-4a79-f9ba-754f-2e7b-7601-7edb-e292-823a",
     "history": [
      {
       "current": "35c360f6-55a3-11e7-b0b2-00163e9c0e35",
       "next": "35c362a4-55a3-11e7-b0b2-00163e9c0e35",
       "previous": "35c35f52-55a3-11e7-b0b2-00163e9c0e35"
      },
      {
       "current": "35c360f6-55a3-11e7-b0b2-00163e9c0e35",
       "next": "35c362a4-55a3-11e7-b0b2-00163e9c0e35",
       "previous": "a33430b0-9327-11ea-8d02-0242ac120007"
      },
      {
       "current": "35c360f6-55a3-11e7-b0b2-00163e9c0e35-1-4a79",
       "next": "35c362a4-55a3-11e7-b0b2-00163e9c0e35",
       "previous": "9c0b88cc-959f-11ea-8d02-0242ac120007"
      },
      {
       "current": "35c360f6-55a3-11e7-b0b2-00163e9c0e35-2-4a79-f9ba",
       "next": "35c362a4-55a3-11e7-b0b2-00163e9c0e35-1-3f0a",
       "previous": "9c0b88cc-959f-11ea-8d02-0242ac120007-1-b077"
      },
      {
       "current": "35c360f6-55a3-11e7-b0b2-00163e9c0e35-2-4a79-f9ba",
       "next": "35c362a4-55a3-11e7-b0b2-00163e9c0e35-2-3f0a-3633",
       "previous": "9c0b88cc-959f-11ea-8d02-0242ac120007-2-b077-046d"
      },
      {
       "current": "35c360f6-55a3-11e7-b0b2-00163e9c0e35-2-4a79-f9ba",
       "next": "7dae8996-9686-11ea-8d02-0242ac120007-2-20c5-a0b0",
       "previous": "9c0b88cc-959f-11ea-8d02-0242ac120007-2-b077-046d"
      },
      {
       "current": "35c360f6-55a3-11e7-b0b2-00163e9c0e35-2-4a79-f9ba",
       "next": "35c362a4-55a3-11e7-b0b2-00163e9c0e35-2-89a7-98f2",
       "previous": "9c0b88cc-959f-11ea-8d02-0242ac120007-2-b077-046d"
      },
      {
       "current": "35c360f6-55a3-11e7-b0b2-00163e9c0e35-3-4a79-f9ba-754f",
       "next": "35c362a4-55a3-11e7-b0b2-00163e9c0e35-2-89a7-98f2",
       "previous": "9c0b8624-959f-11ea-8d02-0242ac120007-2-8098-a371"
      },
      {
       "current": "35c360f6-55a3-11e7-b0b2-00163e9c0e35-4-4a79-f9ba-754f-2e7b",
       "next": "35c362a4-55a3-11e7-b0b2-00163e9c0e35-3-89a7-98f2-5cf2",
       "previous": "9c0b8624-959f-11ea-8d02-0242ac120007-3-8098-a371-0b4a"
      },
      {
       "current": "35c360f6-55a3-11e7-b0b2-00163e9c0e35-5-4a79-f9ba-754f-2e7b-7601",
       "next": "35c362a4-55a3-11e7-b0b2-00163e9c0e35-4-89a7-98f2-5cf2-a499",
       "previous": "9c0b8624-959f-11ea-8d02-0242ac120007-4-8098-a371-0b4a-dd94"
      },
      {
       "current": "35c360f6-55a3-11e7-b0b2-00163e9c0e35-6-4a79-f9ba-754f-2e7b-7601-7edb",
       "next": "35c362a4-55a3-11e7-b0b2-00163e9c0e35-5-89a7-98f2-5cf2-a499-4681",
       "previous": "9c0b8624-959f-11ea-8d02-0242ac120007-5-8098-a371-0b4a-dd94-1154"
      },
      {
       "current": "35c360f6-55a3-11e7-b0b2-00163e9c0e35-6-4a79-f9ba-754f-2e7b-7601-7edb",
       "next": "35c362a4-55a3-11e7-b0b2-00163e9c0e35-6-89a7-98f2-5cf2-a499-4681-b3a4",
       "previous": "9c0b8624-959f-11ea-8d02-0242ac120007-6-8098-a371-0b4a-dd94-1154-8937"
      },
      {
       "current": "35c360f6-55a3-11e7-b0b2-00163e9c0e35-7-4a79-f9ba-754f-2e7b-7601-7edb-e292",
       "next": "9e22bdec-1c9b-11ef-ad2f-0242ac120005",
       "previous": "9c0b8624-959f-11ea-8d02-0242ac120007-6-8098-a371-0b4a-dd94-1154-8937"
      },
      {
       "current": "35c360f6-55a3-11e7-b0b2-00163e9c0e35-8-4a79-f9ba-754f-2e7b-7601-7edb-e292-823a",
       "next": "9e22bdec-1c9b-11ef-ad2f-0242ac120005-1-9a4d",
       "previous": "9c0b8624-959f-11ea-8d02-0242ac120007-7-8098-a371-0b4a-dd94-1154-8937-2eb4"
      }
     ],
     "next": "9e22bdec-1c9b-11ef-ad2f-0242ac120005-2-9a4d-be3f",
     "previous": "9c0b8624-959f-11ea-8d02-0242ac120007-8-8098-a371-0b4a-dd94-1154-8937-2eb4-8b6b"
    },
    "run_control": {
     "frozen": true
    },
    "scrolled": false
   },
   "outputs": [],
   "source": [
    "import os\n",
    "\n",
    "with open( os.path.join(temp_dir, \"hosts\"), 'w') as f:\n",
    "    f.write('''[openstack_ctl]\n",
    "{openstack_cmn}\n",
    "'''.format(openstack_cmn = provisioning_vip))\n",
    "    f.write('''[ceph_admin]\n",
    "{ceph_admin_ip}   ansible_user={proxy_user} ansible_ssh_private_key_file={proxy_key}  ansible_python_interpreter=/usr/bin/python3\n",
    "[ceph_node]\n",
    "{node_ip}  ansible_user={node_user} ansible_ssh_common_args='-o ControlMaster=auto -o StrictHostKeyChecking=no -o ControlPersist=30m -o ProxyCommand=\"ssh -W %h:%p -i {proxy_key} -q {proxy_user}@{ceph_admin_ip}\"'  ansible_python_interpreter=/usr/bin/python3\n",
    "[repo_server]\n",
    "{repo_server}\n",
    "'''.format(ceph_admin_ip=ceph_admin_ip, node_ip=ceph_node, repo_server=repo_server,\n",
    "           node_user=node_user, proxy_user=proxy_user, proxy_key=proxy_key))\n",
    "\n",
    "hosts = temp_dir + \"/hosts\"\n",
    "\n",
    "!cat $hosts"
   ]
  },
  {
   "cell_type": "code",
   "execution_count": null,
   "metadata": {
    "lc_cell_meme": {
     "current": "9e22bdec-1c9b-11ef-ad2f-0242ac120005-2-9a4d-be3f",
     "history": [
      {
       "current": "9e22bdec-1c9b-11ef-ad2f-0242ac120005-1-9a4d",
       "next": "35c362a4-55a3-11e7-b0b2-00163e9c0e35-6-89a7-98f2-5cf2-a499-4681-b3a4",
       "previous": "35c360f6-55a3-11e7-b0b2-00163e9c0e35-6-4a79-f9ba-754f-2e7b-7601-7edb"
      },
      {
       "current": "9e22bdec-1c9b-11ef-ad2f-0242ac120005-2-9a4d-be3f",
       "next": "35c362a4-55a3-11e7-b0b2-00163e9c0e35-7-89a7-98f2-5cf2-a499-4681-b3a4-0f35",
       "previous": "35c360f6-55a3-11e7-b0b2-00163e9c0e35-7-4a79-f9ba-754f-2e7b-7601-7edb-e292"
      }
     ],
     "next": "35c362a4-55a3-11e7-b0b2-00163e9c0e35-8-89a7-98f2-5cf2-a499-4681-b3a4-0f35-c7de",
     "previous": "35c360f6-55a3-11e7-b0b2-00163e9c0e35-8-4a79-f9ba-754f-2e7b-7601-7edb-e292-823a"
    }
   },
   "outputs": [],
   "source": [
    "%env ANSIBLE_INVENTORY={hosts}"
   ]
  },
  {
   "cell_type": "markdown",
   "metadata": {
    "lc_cell_meme": {
     "current": "35c362a4-55a3-11e7-b0b2-00163e9c0e35-8-89a7-98f2-5cf2-a499-4681-b3a4-0f35-c7de",
     "history": [
      {
       "current": "35c362a4-55a3-11e7-b0b2-00163e9c0e35",
       "next": "35c36448-55a3-11e7-b0b2-00163e9c0e35",
       "previous": "35c360f6-55a3-11e7-b0b2-00163e9c0e35"
      },
      {
       "current": "35c362a4-55a3-11e7-b0b2-00163e9c0e35",
       "next": "35c36448-55a3-11e7-b0b2-00163e9c0e35",
       "previous": "4cd5b0cc-7ef5-11ea-a926-0242ac120004"
      },
      {
       "current": "35c362a4-55a3-11e7-b0b2-00163e9c0e35",
       "next": "35c36448-55a3-11e7-b0b2-00163e9c0e35",
       "previous": "db546a28-7ef5-11ea-a926-0242ac120004"
      },
      {
       "current": "35c362a4-55a3-11e7-b0b2-00163e9c0e35",
       "next": "35c36448-55a3-11e7-b0b2-00163e9c0e35",
       "previous": "4cd5af28-7ef5-11ea-a926-0242ac120004"
      },
      {
       "current": "35c362a4-55a3-11e7-b0b2-00163e9c0e35",
       "next": "35c36448-55a3-11e7-b0b2-00163e9c0e35",
       "previous": "7d464504-9107-11ea-8d02-0242ac120007"
      },
      {
       "current": "35c362a4-55a3-11e7-b0b2-00163e9c0e35",
       "next": "35c36448-55a3-11e7-b0b2-00163e9c0e35",
       "previous": "bd797188-910b-11ea-8d02-0242ac120007"
      },
      {
       "current": "35c362a4-55a3-11e7-b0b2-00163e9c0e35",
       "next": "35c36448-55a3-11e7-b0b2-00163e9c0e35",
       "previous": "70b95056-9111-11ea-8d02-0242ac120007"
      },
      {
       "current": "35c362a4-55a3-11e7-b0b2-00163e9c0e35",
       "next": "35c36448-55a3-11e7-b0b2-00163e9c0e35",
       "previous": "bd797188-910b-11ea-8d02-0242ac120007"
      },
      {
       "current": "35c362a4-55a3-11e7-b0b2-00163e9c0e35",
       "next": "bd797188-910b-11ea-8d02-0242ac120007",
       "previous": "4cd5af28-7ef5-11ea-a926-0242ac120004"
      },
      {
       "current": "35c362a4-55a3-11e7-b0b2-00163e9c0e35",
       "next": "484c7376-935c-11ea-8d02-0242ac120007",
       "previous": "4cd5af28-7ef5-11ea-a926-0242ac120004"
      },
      {
       "current": "35c362a4-55a3-11e7-b0b2-00163e9c0e35-1-89a7",
       "next": "bd797188-910b-11ea-8d02-0242ac120007",
       "previous": "4cd5af28-7ef5-11ea-a926-0242ac120004"
      },
      {
       "current": "35c362a4-55a3-11e7-b0b2-00163e9c0e35-2-89a7-98f2",
       "next": "bd797188-910b-11ea-8d02-0242ac120007-1-728a",
       "previous": "4cd5af28-7ef5-11ea-a926-0242ac120004-1-726b"
      },
      {
       "current": "35c362a4-55a3-11e7-b0b2-00163e9c0e35-2-89a7-98f2",
       "next": "bd797188-910b-11ea-8d02-0242ac120007-2-728a-254c",
       "previous": "4cd5af28-7ef5-11ea-a926-0242ac120004-2-726b-a0d6"
      },
      {
       "current": "35c362a4-55a3-11e7-b0b2-00163e9c0e35-2-89a7-98f2",
       "next": "bd797188-910b-11ea-8d02-0242ac120007-2-728a-254c",
       "previous": "35c360f6-55a3-11e7-b0b2-00163e9c0e35-2-4a79-f9ba"
      },
      {
       "current": "35c362a4-55a3-11e7-b0b2-00163e9c0e35-3-89a7-98f2-5cf2",
       "next": "ef4d2888-aa17-11ea-9ad4-0242ac120006-1-42b7",
       "previous": "35c360f6-55a3-11e7-b0b2-00163e9c0e35-2-4a79-f9ba"
      },
      {
       "current": "35c362a4-55a3-11e7-b0b2-00163e9c0e35-4-89a7-98f2-5cf2-a499",
       "next": "ef4d2888-aa17-11ea-9ad4-0242ac120006-2-42b7-b07a",
       "previous": "35c360f6-55a3-11e7-b0b2-00163e9c0e35-3-4a79-f9ba-754f"
      },
      {
       "current": "35c362a4-55a3-11e7-b0b2-00163e9c0e35-5-89a7-98f2-5cf2-a499-4681",
       "next": "ef4d2888-aa17-11ea-9ad4-0242ac120006-3-42b7-b07a-2e15",
       "previous": "35c360f6-55a3-11e7-b0b2-00163e9c0e35-4-4a79-f9ba-754f-2e7b"
      },
      {
       "current": "35c362a4-55a3-11e7-b0b2-00163e9c0e35-6-89a7-98f2-5cf2-a499-4681-b3a4",
       "next": "ef4d2888-aa17-11ea-9ad4-0242ac120006-4-42b7-b07a-2e15-fc40",
       "previous": "35c360f6-55a3-11e7-b0b2-00163e9c0e35-5-4a79-f9ba-754f-2e7b-7601"
      },
      {
       "current": "35c362a4-55a3-11e7-b0b2-00163e9c0e35-6-89a7-98f2-5cf2-a499-4681-b3a4",
       "next": "ef4d2888-aa17-11ea-9ad4-0242ac120006-5-42b7-b07a-2e15-fc40-8b18",
       "previous": "35c360f6-55a3-11e7-b0b2-00163e9c0e35-6-4a79-f9ba-754f-2e7b-7601-7edb"
      },
      {
       "current": "35c362a4-55a3-11e7-b0b2-00163e9c0e35-7-89a7-98f2-5cf2-a499-4681-b3a4-0f35",
       "next": "ef4d2888-aa17-11ea-9ad4-0242ac120006-5-42b7-b07a-2e15-fc40-8b18",
       "previous": "9e22bdec-1c9b-11ef-ad2f-0242ac120005"
      },
      {
       "current": "35c362a4-55a3-11e7-b0b2-00163e9c0e35-8-89a7-98f2-5cf2-a499-4681-b3a4-0f35-c7de",
       "next": "ef4d2888-aa17-11ea-9ad4-0242ac120006-6-42b7-b07a-2e15-fc40-8b18-d9dd",
       "previous": "9e22bdec-1c9b-11ef-ad2f-0242ac120005-1-9a4d"
      }
     ],
     "next": "ef4d2888-aa17-11ea-9ad4-0242ac120006-7-42b7-b07a-2e15-fc40-8b18-d9dd-dd0a",
     "previous": "9e22bdec-1c9b-11ef-ad2f-0242ac120005-2-9a4d-be3f"
    }
   },
   "source": [
    "## 疎通確認\n",
    "以下コマンドを実行し、OpeHubからCephAdmin経由で、Cephノードに疎通することを確認する。"
   ]
  },
  {
   "cell_type": "code",
   "execution_count": null,
   "metadata": {
    "lc_cell_meme": {
     "current": "ef4d2888-aa17-11ea-9ad4-0242ac120006-7-42b7-b07a-2e15-fc40-8b18-d9dd-dd0a",
     "history": [
      {
       "current": "ef4d2888-aa17-11ea-9ad4-0242ac120006-1-42b7",
       "next": "ac56a252-95bd-11ea-8d02-0242ac120007-1-86ee",
       "previous": "bd797188-910b-11ea-8d02-0242ac120007-1-728a"
      },
      {
       "current": "ef4d2888-aa17-11ea-9ad4-0242ac120006-1-42b7",
       "next": "ac56a252-95bd-11ea-8d02-0242ac120007-2-86ee-3a22",
       "previous": "bd797188-910b-11ea-8d02-0242ac120007-2-728a-254c"
      },
      {
       "current": "ef4d2888-aa17-11ea-9ad4-0242ac120006-1-42b7",
       "next": "bd797188-910b-11ea-8d02-0242ac120007-2-728a-254c",
       "previous": "35c362a4-55a3-11e7-b0b2-00163e9c0e35-2-89a7-98f2"
      },
      {
       "current": "ef4d2888-aa17-11ea-9ad4-0242ac120006-2-42b7-b07a",
       "next": "e3856a36-df01-11eb-b29f-0242ac120008",
       "previous": "35c362a4-55a3-11e7-b0b2-00163e9c0e35-2-89a7-98f2"
      },
      {
       "current": "ef4d2888-aa17-11ea-9ad4-0242ac120006-3-42b7-b07a-2e15",
       "next": "e3856a36-df01-11eb-b29f-0242ac120008-1-d6f1",
       "previous": "35c362a4-55a3-11e7-b0b2-00163e9c0e35-3-89a7-98f2-5cf2"
      },
      {
       "current": "ef4d2888-aa17-11ea-9ad4-0242ac120006-4-42b7-b07a-2e15-fc40",
       "next": "e3856a36-df01-11eb-b29f-0242ac120008-2-d6f1-65ba",
       "previous": "35c362a4-55a3-11e7-b0b2-00163e9c0e35-4-89a7-98f2-5cf2-a499"
      },
      {
       "current": "ef4d2888-aa17-11ea-9ad4-0242ac120006-5-42b7-b07a-2e15-fc40-8b18",
       "next": "e3856a36-df01-11eb-b29f-0242ac120008-3-d6f1-65ba-0e20",
       "previous": "35c362a4-55a3-11e7-b0b2-00163e9c0e35-5-89a7-98f2-5cf2-a499-4681"
      },
      {
       "current": "ef4d2888-aa17-11ea-9ad4-0242ac120006-6-42b7-b07a-2e15-fc40-8b18-d9dd",
       "next": "e3856a36-df01-11eb-b29f-0242ac120008-4-d6f1-65ba-0e20-7760",
       "previous": "35c362a4-55a3-11e7-b0b2-00163e9c0e35-6-89a7-98f2-5cf2-a499-4681-b3a4"
      },
      {
       "current": "ef4d2888-aa17-11ea-9ad4-0242ac120006-7-42b7-b07a-2e15-fc40-8b18-d9dd-dd0a",
       "next": "e3856a36-df01-11eb-b29f-0242ac120008-5-d6f1-65ba-0e20-7760-a0aa",
       "previous": "35c362a4-55a3-11e7-b0b2-00163e9c0e35-7-89a7-98f2-5cf2-a499-4681-b3a4-0f35"
      }
     ],
     "next": "e3856a36-df01-11eb-b29f-0242ac120008-6-d6f1-65ba-0e20-7760-a0aa-f775",
     "previous": "35c362a4-55a3-11e7-b0b2-00163e9c0e35-8-89a7-98f2-5cf2-a499-4681-b3a4-0f35-c7de"
    }
   },
   "outputs": [],
   "source": [
    "!ansible -i $hosts -b -m shell -a 'hostname' ceph_admin"
   ]
  },
  {
   "cell_type": "code",
   "execution_count": null,
   "metadata": {
    "lc_cell_meme": {
     "current": "e3856a36-df01-11eb-b29f-0242ac120008-6-d6f1-65ba-0e20-7760-a0aa-f775",
     "history": [
      {
       "current": "e3856a36-df01-11eb-b29f-0242ac120008-1-d6f1",
       "next": "bd797188-910b-11ea-8d02-0242ac120007-2-728a-254c",
       "previous": "ef4d2888-aa17-11ea-9ad4-0242ac120006-1-42b7"
      },
      {
       "current": "e3856a36-df01-11eb-b29f-0242ac120008-2-d6f1-65ba",
       "next": "bd797188-910b-11ea-8d02-0242ac120007-3-728a-254c-2f4c",
       "previous": "ef4d2888-aa17-11ea-9ad4-0242ac120006-2-42b7-b07a"
      },
      {
       "current": "e3856a36-df01-11eb-b29f-0242ac120008-3-d6f1-65ba-0e20",
       "next": "bd797188-910b-11ea-8d02-0242ac120007-4-728a-254c-2f4c-e106",
       "previous": "ef4d2888-aa17-11ea-9ad4-0242ac120006-3-42b7-b07a-2e15"
      },
      {
       "current": "e3856a36-df01-11eb-b29f-0242ac120008-4-d6f1-65ba-0e20-7760",
       "next": "bd797188-910b-11ea-8d02-0242ac120007-5-728a-254c-2f4c-e106-8619",
       "previous": "ef4d2888-aa17-11ea-9ad4-0242ac120006-4-42b7-b07a-2e15-fc40"
      },
      {
       "current": "e3856a36-df01-11eb-b29f-0242ac120008-5-d6f1-65ba-0e20-7760-a0aa",
       "next": "bd797188-910b-11ea-8d02-0242ac120007-6-728a-254c-2f4c-e106-8619-7e45",
       "previous": "ef4d2888-aa17-11ea-9ad4-0242ac120006-5-42b7-b07a-2e15-fc40-8b18"
      },
      {
       "current": "e3856a36-df01-11eb-b29f-0242ac120008-6-d6f1-65ba-0e20-7760-a0aa-f775",
       "next": "bd797188-910b-11ea-8d02-0242ac120007-7-728a-254c-2f4c-e106-8619-7e45-51b7",
       "previous": "ef4d2888-aa17-11ea-9ad4-0242ac120006-6-42b7-b07a-2e15-fc40-8b18-d9dd"
      }
     ],
     "next": "bd797188-910b-11ea-8d02-0242ac120007-8-728a-254c-2f4c-e106-8619-7e45-51b7-d0a1",
     "previous": "ef4d2888-aa17-11ea-9ad4-0242ac120006-7-42b7-b07a-2e15-fc40-8b18-d9dd-dd0a"
    }
   },
   "outputs": [],
   "source": [
    "!ansible -i $hosts -b -m shell -a \"ping -c 3 $ceph_node\" ceph_admin"
   ]
  },
  {
   "cell_type": "code",
   "execution_count": null,
   "metadata": {
    "lc_cell_meme": {
     "current": "bd797188-910b-11ea-8d02-0242ac120007-8-728a-254c-2f4c-e106-8619-7e45-51b7-d0a1",
     "history": [
      {
       "current": "bd797188-910b-11ea-8d02-0242ac120007",
       "next": "35c362a4-55a3-11e7-b0b2-00163e9c0e35",
       "previous": "7d464504-9107-11ea-8d02-0242ac120007"
      },
      {
       "current": "bd797188-910b-11ea-8d02-0242ac120007",
       "next": "70b95056-9111-11ea-8d02-0242ac120007",
       "previous": "7d464504-9107-11ea-8d02-0242ac120007"
      },
      {
       "current": "bd797188-910b-11ea-8d02-0242ac120007",
       "next": "35c362a4-55a3-11e7-b0b2-00163e9c0e35",
       "previous": "7d464504-9107-11ea-8d02-0242ac120007"
      },
      {
       "current": "bd797188-910b-11ea-8d02-0242ac120007",
       "next": "35c362a4-55a3-11e7-b0b2-00163e9c0e35",
       "previous": "4cd5af28-7ef5-11ea-a926-0242ac120004"
      },
      {
       "current": "bd797188-910b-11ea-8d02-0242ac120007",
       "next": "35c36448-55a3-11e7-b0b2-00163e9c0e35",
       "previous": "35c362a4-55a3-11e7-b0b2-00163e9c0e35"
      },
      {
       "current": "bd797188-910b-11ea-8d02-0242ac120007",
       "next": "35c3783e-55a3-11e7-b0b2-00163e9c0e35",
       "previous": "35c362a4-55a3-11e7-b0b2-00163e9c0e35"
      },
      {
       "current": "bd797188-910b-11ea-8d02-0242ac120007",
       "next": "35c3783e-55a3-11e7-b0b2-00163e9c0e35",
       "previous": "484c7376-935c-11ea-8d02-0242ac120007"
      },
      {
       "current": "bd797188-910b-11ea-8d02-0242ac120007",
       "next": "35c3783e-55a3-11e7-b0b2-00163e9c0e35",
       "previous": "35c362a4-55a3-11e7-b0b2-00163e9c0e35"
      },
      {
       "current": "bd797188-910b-11ea-8d02-0242ac120007-1-728a",
       "next": "ac56a252-95bd-11ea-8d02-0242ac120007",
       "previous": "35c362a4-55a3-11e7-b0b2-00163e9c0e35"
      },
      {
       "current": "bd797188-910b-11ea-8d02-0242ac120007-1-728a",
       "next": "ac56a252-95bd-11ea-8d02-0242ac120007-1-86ee",
       "previous": "35c362a4-55a3-11e7-b0b2-00163e9c0e35-1-89a7"
      },
      {
       "current": "bd797188-910b-11ea-8d02-0242ac120007-2-728a-254c",
       "next": "ef4d2888-aa17-11ea-9ad4-0242ac120006",
       "previous": "35c362a4-55a3-11e7-b0b2-00163e9c0e35-1-89a7"
      },
      {
       "current": "bd797188-910b-11ea-8d02-0242ac120007-2-728a-254c",
       "next": "ef4d2888-aa17-11ea-9ad4-0242ac120006-1-42b7",
       "previous": "35c362a4-55a3-11e7-b0b2-00163e9c0e35-2-89a7-98f2"
      },
      {
       "current": "bd797188-910b-11ea-8d02-0242ac120007-2-728a-254c",
       "next": "ac56a252-95bd-11ea-8d02-0242ac120007-2-86ee-3a22",
       "previous": "ef4d2888-aa17-11ea-9ad4-0242ac120006-1-42b7"
      },
      {
       "current": "bd797188-910b-11ea-8d02-0242ac120007-2-728a-254c",
       "next": "ac56a252-95bd-11ea-8d02-0242ac120007-2-86ee-3a22",
       "previous": "e3856a36-df01-11eb-b29f-0242ac120008"
      },
      {
       "current": "bd797188-910b-11ea-8d02-0242ac120007-3-728a-254c-2f4c",
       "next": "21d849e2-dfd0-11eb-b29f-0242ac120008",
       "previous": "e3856a36-df01-11eb-b29f-0242ac120008"
      },
      {
       "current": "bd797188-910b-11ea-8d02-0242ac120007-4-728a-254c-2f4c-e106",
       "next": "21d849e2-dfd0-11eb-b29f-0242ac120008-1-ee1b",
       "previous": "e3856a36-df01-11eb-b29f-0242ac120008-1-d6f1"
      },
      {
       "current": "bd797188-910b-11ea-8d02-0242ac120007-5-728a-254c-2f4c-e106-8619",
       "next": "21d849e2-dfd0-11eb-b29f-0242ac120008-2-ee1b-4c68",
       "previous": "e3856a36-df01-11eb-b29f-0242ac120008-2-d6f1-65ba"
      },
      {
       "current": "bd797188-910b-11ea-8d02-0242ac120007-6-728a-254c-2f4c-e106-8619-7e45",
       "next": "21d849e2-dfd0-11eb-b29f-0242ac120008-3-ee1b-4c68-5b30",
       "previous": "e3856a36-df01-11eb-b29f-0242ac120008-3-d6f1-65ba-0e20"
      },
      {
       "current": "bd797188-910b-11ea-8d02-0242ac120007-7-728a-254c-2f4c-e106-8619-7e45-51b7",
       "next": "21d849e2-dfd0-11eb-b29f-0242ac120008-4-ee1b-4c68-5b30-cb48",
       "previous": "e3856a36-df01-11eb-b29f-0242ac120008-4-d6f1-65ba-0e20-7760"
      },
      {
       "current": "bd797188-910b-11ea-8d02-0242ac120007-8-728a-254c-2f4c-e106-8619-7e45-51b7-d0a1",
       "next": "21d849e2-dfd0-11eb-b29f-0242ac120008-5-ee1b-4c68-5b30-cb48-a5c9",
       "previous": "e3856a36-df01-11eb-b29f-0242ac120008-5-d6f1-65ba-0e20-7760-a0aa"
      }
     ],
     "next": "21d849e2-dfd0-11eb-b29f-0242ac120008-6-ee1b-4c68-5b30-cb48-a5c9-1be5",
     "previous": "e3856a36-df01-11eb-b29f-0242ac120008-6-d6f1-65ba-0e20-7760-a0aa-f775"
    }
   },
   "outputs": [],
   "source": [
    "!ansible -i $hosts -b -m shell -a 'hostname' ceph_node"
   ]
  },
  {
   "cell_type": "code",
   "execution_count": null,
   "metadata": {
    "lc_cell_meme": {
     "current": "21d849e2-dfd0-11eb-b29f-0242ac120008-6-ee1b-4c68-5b30-cb48-a5c9-1be5",
     "history": [
      {
       "current": "21d849e2-dfd0-11eb-b29f-0242ac120008-1-ee1b",
       "next": "ac56a252-95bd-11ea-8d02-0242ac120007-2-86ee-3a22",
       "previous": "bd797188-910b-11ea-8d02-0242ac120007-2-728a-254c"
      },
      {
       "current": "21d849e2-dfd0-11eb-b29f-0242ac120008-2-ee1b-4c68",
       "next": "ac56a252-95bd-11ea-8d02-0242ac120007-3-86ee-3a22-9a71",
       "previous": "bd797188-910b-11ea-8d02-0242ac120007-3-728a-254c-2f4c"
      },
      {
       "current": "21d849e2-dfd0-11eb-b29f-0242ac120008-3-ee1b-4c68-5b30",
       "next": "ac56a252-95bd-11ea-8d02-0242ac120007-4-86ee-3a22-9a71-472e",
       "previous": "bd797188-910b-11ea-8d02-0242ac120007-4-728a-254c-2f4c-e106"
      },
      {
       "current": "21d849e2-dfd0-11eb-b29f-0242ac120008-4-ee1b-4c68-5b30-cb48",
       "next": "ac56a252-95bd-11ea-8d02-0242ac120007-5-86ee-3a22-9a71-472e-9353",
       "previous": "bd797188-910b-11ea-8d02-0242ac120007-5-728a-254c-2f4c-e106-8619"
      },
      {
       "current": "21d849e2-dfd0-11eb-b29f-0242ac120008-5-ee1b-4c68-5b30-cb48-a5c9",
       "next": "ac56a252-95bd-11ea-8d02-0242ac120007-6-86ee-3a22-9a71-472e-9353-0a2a",
       "previous": "bd797188-910b-11ea-8d02-0242ac120007-6-728a-254c-2f4c-e106-8619-7e45"
      },
      {
       "current": "21d849e2-dfd0-11eb-b29f-0242ac120008-6-ee1b-4c68-5b30-cb48-a5c9-1be5",
       "next": "ac56a252-95bd-11ea-8d02-0242ac120007-7-86ee-3a22-9a71-472e-9353-0a2a-f49f",
       "previous": "bd797188-910b-11ea-8d02-0242ac120007-7-728a-254c-2f4c-e106-8619-7e45-51b7"
      }
     ],
     "next": "ac56a252-95bd-11ea-8d02-0242ac120007-8-86ee-3a22-9a71-472e-9353-0a2a-f49f-c1a1",
     "previous": "bd797188-910b-11ea-8d02-0242ac120007-8-728a-254c-2f4c-e106-8619-7e45-51b7-d0a1"
    }
   },
   "outputs": [],
   "source": [
    "!ansible -i $hosts -b -m shell -a 'hostname' repo_server"
   ]
  },
  {
   "cell_type": "markdown",
   "metadata": {
    "lc_cell_meme": {
     "current": "ac56a252-95bd-11ea-8d02-0242ac120007-8-86ee-3a22-9a71-472e-9353-0a2a-f49f-c1a1",
     "history": [
      {
       "current": "ac56a252-95bd-11ea-8d02-0242ac120007-1-86ee",
       "next": "ac56a6c6-95bd-11ea-8d02-0242ac120007",
       "previous": "bd797188-910b-11ea-8d02-0242ac120007"
      },
      {
       "current": "ac56a252-95bd-11ea-8d02-0242ac120007-1-86ee",
       "next": "ac56a6c6-95bd-11ea-8d02-0242ac120007-1-431a",
       "previous": "bd797188-910b-11ea-8d02-0242ac120007-1-728a"
      },
      {
       "current": "ac56a252-95bd-11ea-8d02-0242ac120007-1-86ee",
       "next": "46b93d3e-95bc-11ea-8d02-0242ac120007-1-9f9c",
       "previous": "bd797188-910b-11ea-8d02-0242ac120007-1-728a"
      },
      {
       "current": "ac56a252-95bd-11ea-8d02-0242ac120007-2-86ee-3a22",
       "next": "46b93d3e-95bc-11ea-8d02-0242ac120007-1-9f9c",
       "previous": "ef4d2888-aa17-11ea-9ad4-0242ac120006"
      },
      {
       "current": "ac56a252-95bd-11ea-8d02-0242ac120007-2-86ee-3a22",
       "next": "46b93d3e-95bc-11ea-8d02-0242ac120007-2-9f9c-2f8b",
       "previous": "ef4d2888-aa17-11ea-9ad4-0242ac120006-1-42b7"
      },
      {
       "current": "ac56a252-95bd-11ea-8d02-0242ac120007-2-86ee-3a22",
       "next": "46b93d3e-95bc-11ea-8d02-0242ac120007-2-9f9c-2f8b",
       "previous": "bd797188-910b-11ea-8d02-0242ac120007-2-728a-254c"
      },
      {
       "current": "ac56a252-95bd-11ea-8d02-0242ac120007-3-86ee-3a22-9a71",
       "next": "46b93d3e-95bc-11ea-8d02-0242ac120007-2-9f9c-2f8b",
       "previous": "21d849e2-dfd0-11eb-b29f-0242ac120008"
      },
      {
       "current": "ac56a252-95bd-11ea-8d02-0242ac120007-3-86ee-3a22-9a71",
       "next": "46b93d3e-95bc-11ea-8d02-0242ac120007-3-9f9c-2f8b-fd5c",
       "previous": "21d849e2-dfd0-11eb-b29f-0242ac120008-1-ee1b"
      },
      {
       "current": "ac56a252-95bd-11ea-8d02-0242ac120007-3-86ee-3a22-9a71",
       "next": "1e5a5a54-4bb1-11ee-89fa-0242ac120005",
       "previous": "21d849e2-dfd0-11eb-b29f-0242ac120008-1-ee1b"
      },
      {
       "current": "ac56a252-95bd-11ea-8d02-0242ac120007-3-86ee-3a22-9a71",
       "next": "65e00220-4bb1-11ee-89fa-0242ac120005",
       "previous": "21d849e2-dfd0-11eb-b29f-0242ac120008-1-ee1b"
      },
      {
       "current": "ac56a252-95bd-11ea-8d02-0242ac120007-4-86ee-3a22-9a71-472e",
       "next": "5d429cae-6191-11ee-89fa-0242ac120005",
       "previous": "21d849e2-dfd0-11eb-b29f-0242ac120008-1-ee1b"
      },
      {
       "current": "ac56a252-95bd-11ea-8d02-0242ac120007-5-86ee-3a22-9a71-472e-9353",
       "next": "5d429cae-6191-11ee-89fa-0242ac120005-1-e829",
       "previous": "21d849e2-dfd0-11eb-b29f-0242ac120008-2-ee1b-4c68"
      },
      {
       "current": "ac56a252-95bd-11ea-8d02-0242ac120007-6-86ee-3a22-9a71-472e-9353-0a2a",
       "next": "5d429cae-6191-11ee-89fa-0242ac120005-2-e829-5487",
       "previous": "21d849e2-dfd0-11eb-b29f-0242ac120008-3-ee1b-4c68-5b30"
      },
      {
       "current": "ac56a252-95bd-11ea-8d02-0242ac120007-7-86ee-3a22-9a71-472e-9353-0a2a-f49f",
       "next": "5d429cae-6191-11ee-89fa-0242ac120005-3-e829-5487-4a1a",
       "previous": "21d849e2-dfd0-11eb-b29f-0242ac120008-4-ee1b-4c68-5b30-cb48"
      },
      {
       "current": "ac56a252-95bd-11ea-8d02-0242ac120007-8-86ee-3a22-9a71-472e-9353-0a2a-f49f-c1a1",
       "next": "5d429cae-6191-11ee-89fa-0242ac120005-4-e829-5487-4a1a-9823",
       "previous": "21d849e2-dfd0-11eb-b29f-0242ac120008-5-ee1b-4c68-5b30-cb48-a5c9"
      }
     ],
     "next": "5d429cae-6191-11ee-89fa-0242ac120005-5-e829-5487-4a1a-9823-3eb7",
     "previous": "21d849e2-dfd0-11eb-b29f-0242ac120008-6-ee1b-4c68-5b30-cb48-a5c9-1be5"
    }
   },
   "source": [
    "# bootstrap構築"
   ]
  },
  {
   "cell_type": "markdown",
   "metadata": {
    "lc_cell_meme": {
     "current": "5d429cae-6191-11ee-89fa-0242ac120005-5-e829-5487-4a1a-9823-3eb7",
     "history": [
      {
       "current": "5d429cae-6191-11ee-89fa-0242ac120005-1-e829",
       "next": "5d429e5c-6191-11ee-89fa-0242ac120005",
       "previous": "ac56a252-95bd-11ea-8d02-0242ac120007-3-86ee-3a22-9a71"
      },
      {
       "current": "5d429cae-6191-11ee-89fa-0242ac120005-2-e829-5487",
       "next": "5d429e5c-6191-11ee-89fa-0242ac120005-1-b7e4",
       "previous": "ac56a252-95bd-11ea-8d02-0242ac120007-4-86ee-3a22-9a71-472e"
      },
      {
       "current": "5d429cae-6191-11ee-89fa-0242ac120005-3-e829-5487-4a1a",
       "next": "5d429e5c-6191-11ee-89fa-0242ac120005-2-b7e4-b0d3",
       "previous": "ac56a252-95bd-11ea-8d02-0242ac120007-5-86ee-3a22-9a71-472e-9353"
      },
      {
       "current": "5d429cae-6191-11ee-89fa-0242ac120005-4-e829-5487-4a1a-9823",
       "next": "5d429e5c-6191-11ee-89fa-0242ac120005-3-b7e4-b0d3-785d",
       "previous": "ac56a252-95bd-11ea-8d02-0242ac120007-6-86ee-3a22-9a71-472e-9353-0a2a"
      },
      {
       "current": "5d429cae-6191-11ee-89fa-0242ac120005-5-e829-5487-4a1a-9823-3eb7",
       "next": "5d429e5c-6191-11ee-89fa-0242ac120005-4-b7e4-b0d3-785d-6c72",
       "previous": "ac56a252-95bd-11ea-8d02-0242ac120007-7-86ee-3a22-9a71-472e-9353-0a2a-f49f"
      }
     ],
     "next": "5d429e5c-6191-11ee-89fa-0242ac120005-5-b7e4-b0d3-785d-6c72-500d",
     "previous": "ac56a252-95bd-11ea-8d02-0242ac120007-8-86ee-3a22-9a71-472e-9353-0a2a-f49f-c1a1"
    }
   },
   "source": [
    "## プライベートレジストリ定義ファイル作成"
   ]
  },
  {
   "cell_type": "code",
   "execution_count": null,
   "metadata": {
    "lc_cell_meme": {
     "current": "5d429e5c-6191-11ee-89fa-0242ac120005-5-b7e4-b0d3-785d-6c72-500d",
     "history": [
      {
       "current": "5d429e5c-6191-11ee-89fa-0242ac120005-1-b7e4",
       "next": "5d429f06-6191-11ee-89fa-0242ac120005",
       "previous": "5d429cae-6191-11ee-89fa-0242ac120005"
      },
      {
       "current": "5d429e5c-6191-11ee-89fa-0242ac120005-2-b7e4-b0d3",
       "next": "5d429f06-6191-11ee-89fa-0242ac120005-1-f30d",
       "previous": "5d429cae-6191-11ee-89fa-0242ac120005-1-e829"
      },
      {
       "current": "5d429e5c-6191-11ee-89fa-0242ac120005-3-b7e4-b0d3-785d",
       "next": "5d429f06-6191-11ee-89fa-0242ac120005-2-f30d-56cb",
       "previous": "5d429cae-6191-11ee-89fa-0242ac120005-2-e829-5487"
      },
      {
       "current": "5d429e5c-6191-11ee-89fa-0242ac120005-4-b7e4-b0d3-785d-6c72",
       "next": "5d429f06-6191-11ee-89fa-0242ac120005-3-f30d-56cb-d21d",
       "previous": "5d429cae-6191-11ee-89fa-0242ac120005-3-e829-5487-4a1a"
      },
      {
       "current": "5d429e5c-6191-11ee-89fa-0242ac120005-5-b7e4-b0d3-785d-6c72-500d",
       "next": "5d429f06-6191-11ee-89fa-0242ac120005-4-f30d-56cb-d21d-fa27",
       "previous": "5d429cae-6191-11ee-89fa-0242ac120005-4-e829-5487-4a1a-9823"
      }
     ],
     "next": "5d429f06-6191-11ee-89fa-0242ac120005-5-f30d-56cb-d21d-fa27-5180",
     "previous": "5d429cae-6191-11ee-89fa-0242ac120005-5-e829-5487-4a1a-9823-3eb7"
    }
   },
   "outputs": [],
   "source": [
    "%%writefile $temp_dir/registry.json\n",
    "{\n",
    "  \"url\":\"repository:5000\",\n",
    "  \"username\": \"admin\",\n",
    "  \"password\": \"xxxxxxx\"\n",
    "}  "
   ]
  },
  {
   "cell_type": "code",
   "execution_count": null,
   "metadata": {
    "lc_cell_meme": {
     "current": "5d429f06-6191-11ee-89fa-0242ac120005-5-f30d-56cb-d21d-fa27-5180",
     "history": [
      {
       "current": "5d429f06-6191-11ee-89fa-0242ac120005",
       "next": "5d429f7e-6191-11ee-89fa-0242ac120005",
       "previous": "5d429e5c-6191-11ee-89fa-0242ac120005"
      },
      {
       "current": "5d429f06-6191-11ee-89fa-0242ac120005-1-f30d",
       "next": "c3182214-6192-11ee-89fa-0242ac120005",
       "previous": "5d429e5c-6191-11ee-89fa-0242ac120005"
      },
      {
       "current": "5d429f06-6191-11ee-89fa-0242ac120005-2-f30d-56cb",
       "next": "c3182214-6192-11ee-89fa-0242ac120005-1-d280",
       "previous": "5d429e5c-6191-11ee-89fa-0242ac120005-1-b7e4"
      },
      {
       "current": "5d429f06-6191-11ee-89fa-0242ac120005-3-f30d-56cb-d21d",
       "next": "c3182214-6192-11ee-89fa-0242ac120005-2-d280-792f",
       "previous": "5d429e5c-6191-11ee-89fa-0242ac120005-2-b7e4-b0d3"
      },
      {
       "current": "5d429f06-6191-11ee-89fa-0242ac120005-4-f30d-56cb-d21d-fa27",
       "next": "c3182214-6192-11ee-89fa-0242ac120005-3-d280-792f-5b1e",
       "previous": "5d429e5c-6191-11ee-89fa-0242ac120005-3-b7e4-b0d3-785d"
      },
      {
       "current": "5d429f06-6191-11ee-89fa-0242ac120005-5-f30d-56cb-d21d-fa27-5180",
       "next": "c3182214-6192-11ee-89fa-0242ac120005-4-d280-792f-5b1e-2dfe",
       "previous": "5d429e5c-6191-11ee-89fa-0242ac120005-4-b7e4-b0d3-785d-6c72"
      }
     ],
     "next": "c3182214-6192-11ee-89fa-0242ac120005-5-d280-792f-5b1e-2dfe-2d46",
     "previous": "5d429e5c-6191-11ee-89fa-0242ac120005-5-b7e4-b0d3-785d-6c72-500d"
    }
   },
   "outputs": [],
   "source": [
    "!ansible -i $hosts -b -m copy -a \"src=$temp_dir/registry.json dest=/tmp/registry.json\" ceph_node"
   ]
  },
  {
   "cell_type": "code",
   "execution_count": null,
   "metadata": {
    "lc_cell_meme": {
     "current": "c3182214-6192-11ee-89fa-0242ac120005-5-d280-792f-5b1e-2dfe-2d46",
     "history": [
      {
       "current": "c3182214-6192-11ee-89fa-0242ac120005-1-d280",
       "next": "5d429f7e-6191-11ee-89fa-0242ac120005",
       "previous": "5d429f06-6191-11ee-89fa-0242ac120005"
      },
      {
       "current": "c3182214-6192-11ee-89fa-0242ac120005-2-d280-792f",
       "next": "5d429f7e-6191-11ee-89fa-0242ac120005-1-2cc5",
       "previous": "5d429f06-6191-11ee-89fa-0242ac120005-1-f30d"
      },
      {
       "current": "c3182214-6192-11ee-89fa-0242ac120005-3-d280-792f-5b1e",
       "next": "5d429f7e-6191-11ee-89fa-0242ac120005-2-2cc5-24ab",
       "previous": "5d429f06-6191-11ee-89fa-0242ac120005-2-f30d-56cb"
      },
      {
       "current": "c3182214-6192-11ee-89fa-0242ac120005-4-d280-792f-5b1e-2dfe",
       "next": "5d429f7e-6191-11ee-89fa-0242ac120005-3-2cc5-24ab-479d",
       "previous": "5d429f06-6191-11ee-89fa-0242ac120005-3-f30d-56cb-d21d"
      },
      {
       "current": "c3182214-6192-11ee-89fa-0242ac120005-5-d280-792f-5b1e-2dfe-2d46",
       "next": "5d429f7e-6191-11ee-89fa-0242ac120005-4-2cc5-24ab-479d-8640",
       "previous": "5d429f06-6191-11ee-89fa-0242ac120005-4-f30d-56cb-d21d-fa27"
      }
     ],
     "next": "5d429f7e-6191-11ee-89fa-0242ac120005-5-2cc5-24ab-479d-8640-ac0b",
     "previous": "5d429f06-6191-11ee-89fa-0242ac120005-5-f30d-56cb-d21d-fa27-5180"
    }
   },
   "outputs": [],
   "source": [
    "!ansible -i $hosts -b -m shell -a 'cat /tmp/registry.json' ceph_node"
   ]
  },
  {
   "cell_type": "markdown",
   "metadata": {
    "lc_cell_meme": {
     "current": "5d429f7e-6191-11ee-89fa-0242ac120005-5-2cc5-24ab-479d-8640-ac0b",
     "history": [
      {
       "current": "5d429f7e-6191-11ee-89fa-0242ac120005",
       "next": "5d429ff6-6191-11ee-89fa-0242ac120005",
       "previous": "5d429f06-6191-11ee-89fa-0242ac120005"
      },
      {
       "current": "5d429f7e-6191-11ee-89fa-0242ac120005",
       "next": "5d429ff6-6191-11ee-89fa-0242ac120005",
       "previous": "c3182214-6192-11ee-89fa-0242ac120005"
      },
      {
       "current": "5d429f7e-6191-11ee-89fa-0242ac120005",
       "next": "65e00220-4bb1-11ee-89fa-0242ac120005",
       "previous": "c3182214-6192-11ee-89fa-0242ac120005"
      },
      {
       "current": "5d429f7e-6191-11ee-89fa-0242ac120005",
       "next": "85398566-624e-11ee-89fa-0242ac120005",
       "previous": "c3182214-6192-11ee-89fa-0242ac120005"
      },
      {
       "current": "5d429f7e-6191-11ee-89fa-0242ac120005-1-2cc5",
       "next": "65e00220-4bb1-11ee-89fa-0242ac120005",
       "previous": "c3182214-6192-11ee-89fa-0242ac120005"
      },
      {
       "current": "5d429f7e-6191-11ee-89fa-0242ac120005-2-2cc5-24ab",
       "next": "65e00220-4bb1-11ee-89fa-0242ac120005-1-ee0a",
       "previous": "c3182214-6192-11ee-89fa-0242ac120005-1-d280"
      },
      {
       "current": "5d429f7e-6191-11ee-89fa-0242ac120005-3-2cc5-24ab-479d",
       "next": "65e00220-4bb1-11ee-89fa-0242ac120005-2-ee0a-563e",
       "previous": "c3182214-6192-11ee-89fa-0242ac120005-2-d280-792f"
      },
      {
       "current": "5d429f7e-6191-11ee-89fa-0242ac120005-4-2cc5-24ab-479d-8640",
       "next": "65e00220-4bb1-11ee-89fa-0242ac120005-3-ee0a-563e-c661",
       "previous": "c3182214-6192-11ee-89fa-0242ac120005-3-d280-792f-5b1e"
      },
      {
       "current": "5d429f7e-6191-11ee-89fa-0242ac120005-5-2cc5-24ab-479d-8640-ac0b",
       "next": "65e00220-4bb1-11ee-89fa-0242ac120005-4-ee0a-563e-c661-11ab",
       "previous": "c3182214-6192-11ee-89fa-0242ac120005-4-d280-792f-5b1e-2dfe"
      }
     ],
     "next": "65e00220-4bb1-11ee-89fa-0242ac120005-5-ee0a-563e-c661-11ab-38d9",
     "previous": "c3182214-6192-11ee-89fa-0242ac120005-5-d280-792f-5b1e-2dfe-2d46"
    }
   },
   "source": [
    "## cephadm bootstrap"
   ]
  },
  {
   "cell_type": "markdown",
   "metadata": {
    "lc_cell_meme": {
     "current": "65e00220-4bb1-11ee-89fa-0242ac120005-5-ee0a-563e-c661-11ab-38d9",
     "history": [
      {
       "current": "65e00220-4bb1-11ee-89fa-0242ac120005",
       "next": "1e5a5a54-4bb1-11ee-89fa-0242ac120005",
       "previous": "ac56a252-95bd-11ea-8d02-0242ac120007-3-86ee-3a22-9a71"
      },
      {
       "current": "65e00220-4bb1-11ee-89fa-0242ac120005",
       "next": "f4e5efa2-4bb1-11ee-89fa-0242ac120005",
       "previous": "ac56a252-95bd-11ea-8d02-0242ac120007-3-86ee-3a22-9a71"
      },
      {
       "current": "65e00220-4bb1-11ee-89fa-0242ac120005",
       "next": "f4e5efa2-4bb1-11ee-89fa-0242ac120005",
       "previous": "5d429ff6-6191-11ee-89fa-0242ac120005"
      },
      {
       "current": "65e00220-4bb1-11ee-89fa-0242ac120005",
       "next": "f4e5efa2-4bb1-11ee-89fa-0242ac120005-1-562d",
       "previous": "5d429ff6-6191-11ee-89fa-0242ac120005"
      },
      {
       "current": "65e00220-4bb1-11ee-89fa-0242ac120005",
       "next": "f4e5efa2-4bb1-11ee-89fa-0242ac120005-1-562d",
       "previous": "5d429f7e-6191-11ee-89fa-0242ac120005"
      },
      {
       "current": "65e00220-4bb1-11ee-89fa-0242ac120005",
       "next": "85398660-624e-11ee-89fa-0242ac120005",
       "previous": "85398566-624e-11ee-89fa-0242ac120005"
      },
      {
       "current": "65e00220-4bb1-11ee-89fa-0242ac120005-1-ee0a",
       "next": "746263de-6258-11ee-89fa-0242ac120005",
       "previous": "5d429f7e-6191-11ee-89fa-0242ac120005"
      },
      {
       "current": "65e00220-4bb1-11ee-89fa-0242ac120005-2-ee0a-563e",
       "next": "746263de-6258-11ee-89fa-0242ac120005-1-f547",
       "previous": "5d429f7e-6191-11ee-89fa-0242ac120005-1-2cc5"
      },
      {
       "current": "65e00220-4bb1-11ee-89fa-0242ac120005-3-ee0a-563e-c661",
       "next": "746263de-6258-11ee-89fa-0242ac120005-2-f547-c010",
       "previous": "5d429f7e-6191-11ee-89fa-0242ac120005-2-2cc5-24ab"
      },
      {
       "current": "65e00220-4bb1-11ee-89fa-0242ac120005-4-ee0a-563e-c661-11ab",
       "next": "746263de-6258-11ee-89fa-0242ac120005-3-f547-c010-e85f",
       "previous": "5d429f7e-6191-11ee-89fa-0242ac120005-3-2cc5-24ab-479d"
      },
      {
       "current": "65e00220-4bb1-11ee-89fa-0242ac120005-5-ee0a-563e-c661-11ab-38d9",
       "next": "746263de-6258-11ee-89fa-0242ac120005-4-f547-c010-e85f-087a",
       "previous": "5d429f7e-6191-11ee-89fa-0242ac120005-4-2cc5-24ab-479d-8640"
      }
     ],
     "next": "746263de-6258-11ee-89fa-0242ac120005-5-f547-c010-e85f-087a-eacf",
     "previous": "5d429f7e-6191-11ee-89fa-0242ac120005-5-2cc5-24ab-479d-8640-ac0b"
    }
   },
   "source": [
    "Public Network :xx.yy.0.0/16<br>\n",
    "Cluster Network:aa.bb.cc.0/24<br>\n",
    "初期段階でのモニタリング(監視)の構築は無効化しておく（配置制御をしたい）<br>\n",
    "初期段階でのMONの構築は無効化しておく（配置制御をしたい）<br>\n"
   ]
  },
  {
   "cell_type": "code",
   "execution_count": null,
   "metadata": {
    "lc_cell_meme": {
     "current": "746263de-6258-11ee-89fa-0242ac120005-5-f547-c010-e85f-087a-eacf",
     "history": [
      {
       "current": "746263de-6258-11ee-89fa-0242ac120005",
       "next": "85398660-624e-11ee-89fa-0242ac120005",
       "previous": "65e00220-4bb1-11ee-89fa-0242ac120005"
      },
      {
       "current": "746263de-6258-11ee-89fa-0242ac120005-1-f547",
       "next": "f4e5efa2-4bb1-11ee-89fa-0242ac120005-1-562d",
       "previous": "65e00220-4bb1-11ee-89fa-0242ac120005"
      },
      {
       "current": "746263de-6258-11ee-89fa-0242ac120005-2-f547-c010",
       "next": "f4e5efa2-4bb1-11ee-89fa-0242ac120005-2-562d-1ec5",
       "previous": "65e00220-4bb1-11ee-89fa-0242ac120005-1-ee0a"
      },
      {
       "current": "746263de-6258-11ee-89fa-0242ac120005-3-f547-c010-e85f",
       "next": "f4e5efa2-4bb1-11ee-89fa-0242ac120005-3-562d-1ec5-cffd",
       "previous": "65e00220-4bb1-11ee-89fa-0242ac120005-2-ee0a-563e"
      },
      {
       "current": "746263de-6258-11ee-89fa-0242ac120005-4-f547-c010-e85f-087a",
       "next": "f4e5efa2-4bb1-11ee-89fa-0242ac120005-4-562d-1ec5-cffd-56dc",
       "previous": "65e00220-4bb1-11ee-89fa-0242ac120005-3-ee0a-563e-c661"
      },
      {
       "current": "746263de-6258-11ee-89fa-0242ac120005-5-f547-c010-e85f-087a-eacf",
       "next": "f4e5efa2-4bb1-11ee-89fa-0242ac120005-5-562d-1ec5-cffd-56dc-5838",
       "previous": "65e00220-4bb1-11ee-89fa-0242ac120005-4-ee0a-563e-c661-11ab"
      }
     ],
     "next": "f4e5efa2-4bb1-11ee-89fa-0242ac120005-6-562d-1ec5-cffd-56dc-5838-8a45",
     "previous": "65e00220-4bb1-11ee-89fa-0242ac120005-5-ee0a-563e-c661-11ab-38d9"
    }
   },
   "outputs": [],
   "source": [
    "public_network = 'xx.yy.0.0/16'\n",
    "cluster_network = 'aa.bb.cc.0/24'"
   ]
  },
  {
   "cell_type": "code",
   "execution_count": null,
   "metadata": {
    "lc_cell_meme": {
     "current": "f4e5efa2-4bb1-11ee-89fa-0242ac120005-6-562d-1ec5-cffd-56dc-5838-8a45",
     "history": [
      {
       "current": "f4e5efa2-4bb1-11ee-89fa-0242ac120005",
       "next": "1e5a5a54-4bb1-11ee-89fa-0242ac120005",
       "previous": "65e00220-4bb1-11ee-89fa-0242ac120005"
      },
      {
       "current": "f4e5efa2-4bb1-11ee-89fa-0242ac120005",
       "next": "cbc49f00-4bb2-11ee-89fa-0242ac120005",
       "previous": "65e00220-4bb1-11ee-89fa-0242ac120005"
      },
      {
       "current": "f4e5efa2-4bb1-11ee-89fa-0242ac120005-1-562d",
       "next": "a26dcebe-4bb3-11ee-89fa-0242ac120005",
       "previous": "65e00220-4bb1-11ee-89fa-0242ac120005"
      },
      {
       "current": "f4e5efa2-4bb1-11ee-89fa-0242ac120005-1-562d",
       "next": "1e5a5a54-4bb1-11ee-89fa-0242ac120005",
       "previous": "65e00220-4bb1-11ee-89fa-0242ac120005"
      },
      {
       "current": "f4e5efa2-4bb1-11ee-89fa-0242ac120005-1-562d",
       "next": "1e5a5a54-4bb1-11ee-89fa-0242ac120005",
       "previous": "85398660-624e-11ee-89fa-0242ac120005"
      },
      {
       "current": "f4e5efa2-4bb1-11ee-89fa-0242ac120005-2-562d-1ec5",
       "next": "1e5a5a54-4bb1-11ee-89fa-0242ac120005",
       "previous": "746263de-6258-11ee-89fa-0242ac120005"
      },
      {
       "current": "f4e5efa2-4bb1-11ee-89fa-0242ac120005-3-562d-1ec5-cffd",
       "next": "1e5a5a54-4bb1-11ee-89fa-0242ac120005-1-d567",
       "previous": "746263de-6258-11ee-89fa-0242ac120005-1-f547"
      },
      {
       "current": "f4e5efa2-4bb1-11ee-89fa-0242ac120005-4-562d-1ec5-cffd-56dc",
       "next": "1e5a5a54-4bb1-11ee-89fa-0242ac120005-2-d567-7920",
       "previous": "746263de-6258-11ee-89fa-0242ac120005-2-f547-c010"
      },
      {
       "current": "f4e5efa2-4bb1-11ee-89fa-0242ac120005-5-562d-1ec5-cffd-56dc-5838",
       "next": "1e5a5a54-4bb1-11ee-89fa-0242ac120005-3-d567-7920-af91",
       "previous": "746263de-6258-11ee-89fa-0242ac120005-3-f547-c010-e85f"
      },
      {
       "current": "f4e5efa2-4bb1-11ee-89fa-0242ac120005-6-562d-1ec5-cffd-56dc-5838-8a45",
       "next": "1e5a5a54-4bb1-11ee-89fa-0242ac120005-4-d567-7920-af91-1543",
       "previous": "746263de-6258-11ee-89fa-0242ac120005-4-f547-c010-e85f-087a"
      }
     ],
     "next": "1e5a5a54-4bb1-11ee-89fa-0242ac120005-5-d567-7920-af91-1543-dd2a",
     "previous": "746263de-6258-11ee-89fa-0242ac120005-5-f547-c010-e85f-087a-eacf"
    }
   },
   "outputs": [],
   "source": [
    "strage_ip = target[\"instance_ip\"]\n",
    "print(strage_ip)\n",
    "host_name = target[\"name\"]\n",
    "print(host_name)\n"
   ]
  },
  {
   "cell_type": "code",
   "execution_count": null,
   "metadata": {
    "lc_cell_meme": {
     "current": "1e5a5a54-4bb1-11ee-89fa-0242ac120005-5-d567-7920-af91-1543-dd2a",
     "history": [
      {
       "current": "1e5a5a54-4bb1-11ee-89fa-0242ac120005",
       "next": "1e5a5c20-4bb1-11ee-89fa-0242ac120005",
       "previous": "ac56a252-95bd-11ea-8d02-0242ac120007-3-86ee-3a22-9a71"
      },
      {
       "current": "1e5a5a54-4bb1-11ee-89fa-0242ac120005",
       "next": "1e5a5c20-4bb1-11ee-89fa-0242ac120005",
       "previous": "65e00220-4bb1-11ee-89fa-0242ac120005"
      },
      {
       "current": "1e5a5a54-4bb1-11ee-89fa-0242ac120005",
       "next": "1e5a5c20-4bb1-11ee-89fa-0242ac120005",
       "previous": "f4e5efa2-4bb1-11ee-89fa-0242ac120005"
      },
      {
       "current": "1e5a5a54-4bb1-11ee-89fa-0242ac120005",
       "next": "3c6cad34-4bb2-11ee-89fa-0242ac120005",
       "previous": "f4e5efa2-4bb1-11ee-89fa-0242ac120005"
      },
      {
       "current": "1e5a5a54-4bb1-11ee-89fa-0242ac120005",
       "next": "3c6cad34-4bb2-11ee-89fa-0242ac120005",
       "previous": "cbc49f00-4bb2-11ee-89fa-0242ac120005"
      },
      {
       "current": "1e5a5a54-4bb1-11ee-89fa-0242ac120005",
       "next": "3c6cad34-4bb2-11ee-89fa-0242ac120005",
       "previous": "e9f98282-4bb3-11ee-89fa-0242ac120005"
      },
      {
       "current": "1e5a5a54-4bb1-11ee-89fa-0242ac120005",
       "next": "3c6cad34-4bb2-11ee-89fa-0242ac120005",
       "previous": "e9f98282-4bb3-11ee-89fa-0242ac120005-1-76a5"
      },
      {
       "current": "1e5a5a54-4bb1-11ee-89fa-0242ac120005",
       "next": "3c6cad34-4bb2-11ee-89fa-0242ac120005",
       "previous": "f4e5efa2-4bb1-11ee-89fa-0242ac120005-1-562d"
      },
      {
       "current": "1e5a5a54-4bb1-11ee-89fa-0242ac120005",
       "next": "3c6cad34-4bb2-11ee-89fa-0242ac120005-1-c5bd",
       "previous": "f4e5efa2-4bb1-11ee-89fa-0242ac120005-1-562d"
      },
      {
       "current": "1e5a5a54-4bb1-11ee-89fa-0242ac120005-1-d567",
       "next": "cb860600-6197-11ee-89fa-0242ac120005",
       "previous": "f4e5efa2-4bb1-11ee-89fa-0242ac120005-1-562d"
      },
      {
       "current": "1e5a5a54-4bb1-11ee-89fa-0242ac120005-2-d567-7920",
       "next": "cb860600-6197-11ee-89fa-0242ac120005-1-e82c",
       "previous": "f4e5efa2-4bb1-11ee-89fa-0242ac120005-2-562d-1ec5"
      },
      {
       "current": "1e5a5a54-4bb1-11ee-89fa-0242ac120005-3-d567-7920-af91",
       "next": "cb860600-6197-11ee-89fa-0242ac120005-2-e82c-7352",
       "previous": "f4e5efa2-4bb1-11ee-89fa-0242ac120005-3-562d-1ec5-cffd"
      },
      {
       "current": "1e5a5a54-4bb1-11ee-89fa-0242ac120005-4-d567-7920-af91-1543",
       "next": "cb860600-6197-11ee-89fa-0242ac120005-3-e82c-7352-0c93",
       "previous": "f4e5efa2-4bb1-11ee-89fa-0242ac120005-4-562d-1ec5-cffd-56dc"
      },
      {
       "current": "1e5a5a54-4bb1-11ee-89fa-0242ac120005-5-d567-7920-af91-1543-dd2a",
       "next": "cb860600-6197-11ee-89fa-0242ac120005-4-e82c-7352-0c93-963d",
       "previous": "f4e5efa2-4bb1-11ee-89fa-0242ac120005-5-562d-1ec5-cffd-56dc-5838"
      }
     ],
     "next": "cb860600-6197-11ee-89fa-0242ac120005-5-e82c-7352-0c93-963d-9e5d",
     "previous": "f4e5efa2-4bb1-11ee-89fa-0242ac120005-6-562d-1ec5-cffd-56dc-5838-8a45"
    },
    "scrolled": true
   },
   "outputs": [],
   "source": [
    "!ansible -i $hosts -b -m shell -a \"cephadm --image repository:5000/ceph/ceph:v17 bootstrap \\\n",
    "--ssh-user=cephadmin \\\n",
    "--mon-ip $strage_ip \\\n",
    "--skip-monitoring-stack \\\n",
    "--cluster-network $cluster_network \\\n",
    "--registry-json /tmp/registry.json\" ceph_node"
   ]
  },
  {
   "cell_type": "markdown",
   "metadata": {
    "lc_cell_meme": {
     "current": "cb860600-6197-11ee-89fa-0242ac120005-5-e82c-7352-0c93-963d-9e5d",
     "history": [
      {
       "current": "cb860600-6197-11ee-89fa-0242ac120005",
       "next": "3c6cad34-4bb2-11ee-89fa-0242ac120005-1-c5bd",
       "previous": "1e5a5a54-4bb1-11ee-89fa-0242ac120005"
      },
      {
       "current": "cb860600-6197-11ee-89fa-0242ac120005-1-e82c",
       "next": "ec5d846c-61af-11ee-89fa-0242ac120005",
       "previous": "1e5a5a54-4bb1-11ee-89fa-0242ac120005"
      },
      {
       "current": "cb860600-6197-11ee-89fa-0242ac120005-2-e82c-7352",
       "next": "ec5d846c-61af-11ee-89fa-0242ac120005-1-c04f",
       "previous": "1e5a5a54-4bb1-11ee-89fa-0242ac120005-1-d567"
      },
      {
       "current": "cb860600-6197-11ee-89fa-0242ac120005-3-e82c-7352-0c93",
       "next": "ec5d846c-61af-11ee-89fa-0242ac120005-2-c04f-2920",
       "previous": "1e5a5a54-4bb1-11ee-89fa-0242ac120005-2-d567-7920"
      },
      {
       "current": "cb860600-6197-11ee-89fa-0242ac120005-4-e82c-7352-0c93-963d",
       "next": "ec5d846c-61af-11ee-89fa-0242ac120005-3-c04f-2920-c106",
       "previous": "1e5a5a54-4bb1-11ee-89fa-0242ac120005-3-d567-7920-af91"
      },
      {
       "current": "cb860600-6197-11ee-89fa-0242ac120005-5-e82c-7352-0c93-963d-9e5d",
       "next": "ec5d846c-61af-11ee-89fa-0242ac120005-4-c04f-2920-c106-4434",
       "previous": "1e5a5a54-4bb1-11ee-89fa-0242ac120005-4-d567-7920-af91-1543"
      }
     ],
     "next": "ec5d846c-61af-11ee-89fa-0242ac120005-5-c04f-2920-c106-4434-36ca",
     "previous": "1e5a5a54-4bb1-11ee-89fa-0242ac120005-5-d567-7920-af91-1543-dd2a"
    }
   },
   "source": [
    "Dashboardへの最初のloginで、パスワード変更を求められる。<br>\n",
    "なので、パスワードはbootstrapに生成させて、最初のログイン時に変更する。"
   ]
  },
  {
   "cell_type": "markdown",
   "metadata": {
    "lc_cell_meme": {
     "current": "ec5d846c-61af-11ee-89fa-0242ac120005-5-c04f-2920-c106-4434-36ca",
     "history": [
      {
       "current": "ec5d846c-61af-11ee-89fa-0242ac120005",
       "next": "3c6cad34-4bb2-11ee-89fa-0242ac120005-1-c5bd",
       "previous": "cb860600-6197-11ee-89fa-0242ac120005"
      },
      {
       "current": "ec5d846c-61af-11ee-89fa-0242ac120005",
       "next": "ccbcfe22-624e-11ee-89fa-0242ac120005",
       "previous": "cb860600-6197-11ee-89fa-0242ac120005"
      },
      {
       "current": "ec5d846c-61af-11ee-89fa-0242ac120005",
       "next": "ccbcfe22-624e-11ee-89fa-0242ac120005-1-b93e",
       "previous": "cb860600-6197-11ee-89fa-0242ac120005"
      },
      {
       "current": "ec5d846c-61af-11ee-89fa-0242ac120005-1-c04f",
       "next": "1312e328-624f-11ee-89fa-0242ac120005",
       "previous": "cb860600-6197-11ee-89fa-0242ac120005"
      },
      {
       "current": "ec5d846c-61af-11ee-89fa-0242ac120005-2-c04f-2920",
       "next": "1312e328-624f-11ee-89fa-0242ac120005-1-2ecf",
       "previous": "cb860600-6197-11ee-89fa-0242ac120005-1-e82c"
      },
      {
       "current": "ec5d846c-61af-11ee-89fa-0242ac120005-3-c04f-2920-c106",
       "next": "1312e328-624f-11ee-89fa-0242ac120005-2-2ecf-0f0f",
       "previous": "cb860600-6197-11ee-89fa-0242ac120005-2-e82c-7352"
      },
      {
       "current": "ec5d846c-61af-11ee-89fa-0242ac120005-4-c04f-2920-c106-4434",
       "next": "1312e328-624f-11ee-89fa-0242ac120005-3-2ecf-0f0f-e204",
       "previous": "cb860600-6197-11ee-89fa-0242ac120005-3-e82c-7352-0c93"
      },
      {
       "current": "ec5d846c-61af-11ee-89fa-0242ac120005-5-c04f-2920-c106-4434-36ca",
       "next": "1312e328-624f-11ee-89fa-0242ac120005-4-2ecf-0f0f-e204-c772",
       "previous": "cb860600-6197-11ee-89fa-0242ac120005-4-e82c-7352-0c93-963d"
      }
     ],
     "next": "1312e328-624f-11ee-89fa-0242ac120005-5-2ecf-0f0f-e204-c772-6855",
     "previous": "cb860600-6197-11ee-89fa-0242ac120005-5-e82c-7352-0c93-963d-9e5d"
    }
   },
   "source": [
    "--ssh-user=cephadmin<br>\n",
    "bootstrapを実行したノードのアカウントの.ssh/authorized_keysに、cephadm shell の公開鍵が設定される。"
   ]
  },
  {
   "cell_type": "code",
   "execution_count": null,
   "metadata": {
    "lc_cell_meme": {
     "current": "1312e328-624f-11ee-89fa-0242ac120005-5-2ecf-0f0f-e204-c772-6855",
     "history": [
      {
       "current": "1312e328-624f-11ee-89fa-0242ac120005",
       "next": "3c6cad34-4bb2-11ee-89fa-0242ac120005-1-c5bd",
       "previous": "1312e166-624f-11ee-89fa-0242ac120005"
      },
      {
       "current": "1312e328-624f-11ee-89fa-0242ac120005",
       "next": "35c581ba-55a3-11e7-b0b2-00163e9c0e35-3-f60b-133a-40ef",
       "previous": "1312e166-624f-11ee-89fa-0242ac120005"
      },
      {
       "current": "1312e328-624f-11ee-89fa-0242ac120005",
       "next": "65491b2e-6bf7-11ee-89fa-0242ac120005",
       "previous": "1312e166-624f-11ee-89fa-0242ac120005"
      },
      {
       "current": "1312e328-624f-11ee-89fa-0242ac120005-1-2ecf",
       "next": "65491b2e-6bf7-11ee-89fa-0242ac120005",
       "previous": "ec5d846c-61af-11ee-89fa-0242ac120005"
      },
      {
       "current": "1312e328-624f-11ee-89fa-0242ac120005-2-2ecf-0f0f",
       "next": "65491b2e-6bf7-11ee-89fa-0242ac120005-1-c064",
       "previous": "ec5d846c-61af-11ee-89fa-0242ac120005-1-c04f"
      },
      {
       "current": "1312e328-624f-11ee-89fa-0242ac120005-3-2ecf-0f0f-e204",
       "next": "65491b2e-6bf7-11ee-89fa-0242ac120005-2-c064-d42f",
       "previous": "ec5d846c-61af-11ee-89fa-0242ac120005-2-c04f-2920"
      },
      {
       "current": "1312e328-624f-11ee-89fa-0242ac120005-4-2ecf-0f0f-e204-c772",
       "next": "65491b2e-6bf7-11ee-89fa-0242ac120005-3-c064-d42f-04af",
       "previous": "ec5d846c-61af-11ee-89fa-0242ac120005-3-c04f-2920-c106"
      },
      {
       "current": "1312e328-624f-11ee-89fa-0242ac120005-5-2ecf-0f0f-e204-c772-6855",
       "next": "65491b2e-6bf7-11ee-89fa-0242ac120005-4-c064-d42f-04af-36ad",
       "previous": "ec5d846c-61af-11ee-89fa-0242ac120005-4-c04f-2920-c106-4434"
      }
     ],
     "next": "65491b2e-6bf7-11ee-89fa-0242ac120005-5-c064-d42f-04af-36ad-79ba",
     "previous": "ec5d846c-61af-11ee-89fa-0242ac120005-5-c04f-2920-c106-4434-36ca"
    }
   },
   "outputs": [],
   "source": [
    "!ansible -i $hosts -b -m shell -a \"cephadm shell -- ceph orch host ls 2> /dev/null\" ceph_node"
   ]
  },
  {
   "cell_type": "code",
   "execution_count": null,
   "metadata": {
    "lc_cell_meme": {
     "current": "65491b2e-6bf7-11ee-89fa-0242ac120005-5-c064-d42f-04af-36ad-79ba",
     "history": [
      {
       "current": "65491b2e-6bf7-11ee-89fa-0242ac120005",
       "next": "35c581ba-55a3-11e7-b0b2-00163e9c0e35-3-f60b-133a-40ef",
       "previous": "1312e328-624f-11ee-89fa-0242ac120005"
      },
      {
       "current": "65491b2e-6bf7-11ee-89fa-0242ac120005",
       "next": "accffe9a-6bf7-11ee-89fa-0242ac120005",
       "previous": "1312e328-624f-11ee-89fa-0242ac120005"
      },
      {
       "current": "65491b2e-6bf7-11ee-89fa-0242ac120005",
       "next": "ec6e1b86-6bf7-11ee-89fa-0242ac120005",
       "previous": "1312e328-624f-11ee-89fa-0242ac120005"
      },
      {
       "current": "65491b2e-6bf7-11ee-89fa-0242ac120005-1-c064",
       "next": "accffe9a-6bf7-11ee-89fa-0242ac120005",
       "previous": "1312e328-624f-11ee-89fa-0242ac120005"
      },
      {
       "current": "65491b2e-6bf7-11ee-89fa-0242ac120005-2-c064-d42f",
       "next": "accffe9a-6bf7-11ee-89fa-0242ac120005-1-e306",
       "previous": "1312e328-624f-11ee-89fa-0242ac120005-1-2ecf"
      },
      {
       "current": "65491b2e-6bf7-11ee-89fa-0242ac120005-3-c064-d42f-04af",
       "next": "accffe9a-6bf7-11ee-89fa-0242ac120005-2-e306-83f8",
       "previous": "1312e328-624f-11ee-89fa-0242ac120005-2-2ecf-0f0f"
      },
      {
       "current": "65491b2e-6bf7-11ee-89fa-0242ac120005-4-c064-d42f-04af-36ad",
       "next": "accffe9a-6bf7-11ee-89fa-0242ac120005-3-e306-83f8-c5a9",
       "previous": "1312e328-624f-11ee-89fa-0242ac120005-3-2ecf-0f0f-e204"
      },
      {
       "current": "65491b2e-6bf7-11ee-89fa-0242ac120005-5-c064-d42f-04af-36ad-79ba",
       "next": "accffe9a-6bf7-11ee-89fa-0242ac120005-4-e306-83f8-c5a9-474a",
       "previous": "1312e328-624f-11ee-89fa-0242ac120005-4-2ecf-0f0f-e204-c772"
      }
     ],
     "next": "accffe9a-6bf7-11ee-89fa-0242ac120005-5-e306-83f8-c5a9-474a-f5dc",
     "previous": "1312e328-624f-11ee-89fa-0242ac120005-5-2ecf-0f0f-e204-c772-6855"
    }
   },
   "outputs": [],
   "source": [
    "!ansible -i $hosts -b -m shell -a \"cephadm shell -- ceph orch ls 2> /dev/null\" ceph_node"
   ]
  },
  {
   "cell_type": "code",
   "execution_count": null,
   "metadata": {
    "lc_cell_meme": {
     "current": "accffe9a-6bf7-11ee-89fa-0242ac120005-5-e306-83f8-c5a9-474a-f5dc",
     "history": [
      {
       "current": "accffe9a-6bf7-11ee-89fa-0242ac120005",
       "next": "35c581ba-55a3-11e7-b0b2-00163e9c0e35-3-f60b-133a-40ef",
       "previous": "65491b2e-6bf7-11ee-89fa-0242ac120005"
      },
      {
       "current": "accffe9a-6bf7-11ee-89fa-0242ac120005",
       "next": "35c581ba-55a3-11e7-b0b2-00163e9c0e35-3-f60b-133a-40ef",
       "previous": "ec6e1b86-6bf7-11ee-89fa-0242ac120005"
      },
      {
       "current": "accffe9a-6bf7-11ee-89fa-0242ac120005-1-e306",
       "next": "35c581ba-55a3-11e7-b0b2-00163e9c0e35-3-f60b-133a-40ef",
       "previous": "65491b2e-6bf7-11ee-89fa-0242ac120005"
      },
      {
       "current": "accffe9a-6bf7-11ee-89fa-0242ac120005-1-e306",
       "next": "35c581ba-55a3-11e7-b0b2-00163e9c0e35-4-f60b-133a-40ef-d2bf",
       "previous": "65491b2e-6bf7-11ee-89fa-0242ac120005-1-c064"
      },
      {
       "current": "accffe9a-6bf7-11ee-89fa-0242ac120005-2-e306-83f8",
       "next": "2463a08e-998d-11ee-91d3-0242ac120006",
       "previous": "65491b2e-6bf7-11ee-89fa-0242ac120005-1-c064"
      },
      {
       "current": "accffe9a-6bf7-11ee-89fa-0242ac120005-3-e306-83f8-c5a9",
       "next": "2463a08e-998d-11ee-91d3-0242ac120006-1-8a75",
       "previous": "65491b2e-6bf7-11ee-89fa-0242ac120005-2-c064-d42f"
      },
      {
       "current": "accffe9a-6bf7-11ee-89fa-0242ac120005-4-e306-83f8-c5a9-474a",
       "next": "2463a08e-998d-11ee-91d3-0242ac120006-2-8a75-9fde",
       "previous": "65491b2e-6bf7-11ee-89fa-0242ac120005-3-c064-d42f-04af"
      },
      {
       "current": "accffe9a-6bf7-11ee-89fa-0242ac120005-5-e306-83f8-c5a9-474a-f5dc",
       "next": "2463a08e-998d-11ee-91d3-0242ac120006-3-8a75-9fde-1ce2",
       "previous": "65491b2e-6bf7-11ee-89fa-0242ac120005-4-c064-d42f-04af-36ad"
      }
     ],
     "next": "2463a08e-998d-11ee-91d3-0242ac120006-4-8a75-9fde-1ce2-6c25",
     "previous": "65491b2e-6bf7-11ee-89fa-0242ac120005-5-c064-d42f-04af-36ad-79ba"
    }
   },
   "outputs": [],
   "source": [
    "!ansible -i $hosts -b -m shell -a \"cephadm shell -- ceph -s 2> /dev/null\" ceph_node"
   ]
  },
  {
   "cell_type": "markdown",
   "metadata": {
    "lc_cell_meme": {
     "current": "2463a08e-998d-11ee-91d3-0242ac120006-4-8a75-9fde-1ce2-6c25",
     "history": [
      {
       "current": "2463a08e-998d-11ee-91d3-0242ac120006-1-8a75",
       "next": "2463a232-998d-11ee-91d3-0242ac120006",
       "previous": "accffe9a-6bf7-11ee-89fa-0242ac120005-1-e306"
      },
      {
       "current": "2463a08e-998d-11ee-91d3-0242ac120006-2-8a75-9fde",
       "next": "2463a232-998d-11ee-91d3-0242ac120006-1-01f2",
       "previous": "accffe9a-6bf7-11ee-89fa-0242ac120005-2-e306-83f8"
      },
      {
       "current": "2463a08e-998d-11ee-91d3-0242ac120006-3-8a75-9fde-1ce2",
       "next": "2463a232-998d-11ee-91d3-0242ac120006-2-01f2-04ab",
       "previous": "accffe9a-6bf7-11ee-89fa-0242ac120005-3-e306-83f8-c5a9"
      },
      {
       "current": "2463a08e-998d-11ee-91d3-0242ac120006-4-8a75-9fde-1ce2-6c25",
       "next": "2463a232-998d-11ee-91d3-0242ac120006-3-01f2-04ab-f06d",
       "previous": "accffe9a-6bf7-11ee-89fa-0242ac120005-4-e306-83f8-c5a9-474a"
      }
     ],
     "next": "2463a232-998d-11ee-91d3-0242ac120006-4-01f2-04ab-f06d-6dd3",
     "previous": "accffe9a-6bf7-11ee-89fa-0242ac120005-5-e306-83f8-c5a9-474a-f5dc"
    }
   },
   "source": [
    "## public network設定"
   ]
  },
  {
   "cell_type": "code",
   "execution_count": null,
   "metadata": {
    "lc_cell_meme": {
     "current": "2463a232-998d-11ee-91d3-0242ac120006-4-01f2-04ab-f06d-6dd3",
     "history": [
      {
       "current": "2463a232-998d-11ee-91d3-0242ac120006-1-01f2",
       "next": "35c581ba-55a3-11e7-b0b2-00163e9c0e35-4-f60b-133a-40ef-d2bf",
       "previous": "2463a08e-998d-11ee-91d3-0242ac120006"
      },
      {
       "current": "2463a232-998d-11ee-91d3-0242ac120006-2-01f2-04ab",
       "next": "35c581ba-55a3-11e7-b0b2-00163e9c0e35-5-f60b-133a-40ef-d2bf-0ee9",
       "previous": "2463a08e-998d-11ee-91d3-0242ac120006-1-8a75"
      },
      {
       "current": "2463a232-998d-11ee-91d3-0242ac120006-3-01f2-04ab-f06d",
       "next": "35c581ba-55a3-11e7-b0b2-00163e9c0e35-6-f60b-133a-40ef-d2bf-0ee9-47de",
       "previous": "2463a08e-998d-11ee-91d3-0242ac120006-2-8a75-9fde"
      },
      {
       "current": "2463a232-998d-11ee-91d3-0242ac120006-4-01f2-04ab-f06d-6dd3",
       "next": "35c581ba-55a3-11e7-b0b2-00163e9c0e35-7-f60b-133a-40ef-d2bf-0ee9-47de-fc96",
       "previous": "2463a08e-998d-11ee-91d3-0242ac120006-3-8a75-9fde-1ce2"
      }
     ],
     "next": "35c581ba-55a3-11e7-b0b2-00163e9c0e35-8-f60b-133a-40ef-d2bf-0ee9-47de-fc96-47f6",
     "previous": "2463a08e-998d-11ee-91d3-0242ac120006-4-8a75-9fde-1ce2-6c25"
    }
   },
   "outputs": [],
   "source": [
    "!ansible -i $hosts -b -m shell -a \"cephadm shell -- ceph config set global public_network $public_network 2> /dev/null\" ceph_node"
   ]
  },
  {
   "cell_type": "markdown",
   "metadata": {
    "collapsed": true,
    "lc_cell_meme": {
     "current": "35c581ba-55a3-11e7-b0b2-00163e9c0e35-8-f60b-133a-40ef-d2bf-0ee9-47de-fc96-47f6",
     "history": [
      {
       "current": "35c581ba-55a3-11e7-b0b2-00163e9c0e35",
       "next": "35c58340-55a3-11e7-b0b2-00163e9c0e35",
       "previous": "35c58034-55a3-11e7-b0b2-00163e9c0e35"
      },
      {
       "current": "35c581ba-55a3-11e7-b0b2-00163e9c0e35",
       "next": "35c58340-55a3-11e7-b0b2-00163e9c0e35",
       "previous": "35c51928-55a3-11e7-b0b2-00163e9c0e35"
      },
      {
       "current": "35c581ba-55a3-11e7-b0b2-00163e9c0e35",
       "next": "35c58340-55a3-11e7-b0b2-00163e9c0e35",
       "previous": "277a614c-47b9-11ea-a028-0242ac120005"
      },
      {
       "current": "35c581ba-55a3-11e7-b0b2-00163e9c0e35",
       "next": "35c58340-55a3-11e7-b0b2-00163e9c0e35",
       "previous": "35c51928-55a3-11e7-b0b2-00163e9c0e35"
      },
      {
       "current": "35c581ba-55a3-11e7-b0b2-00163e9c0e35",
       "next": "35c58340-55a3-11e7-b0b2-00163e9c0e35",
       "previous": "b8a85906-47b6-11ea-a028-0242ac120005"
      },
      {
       "current": "35c581ba-55a3-11e7-b0b2-00163e9c0e35",
       "next": "35c58340-55a3-11e7-b0b2-00163e9c0e35",
       "previous": "35c38fae-55a3-11e7-b0b2-00163e9c0e35"
      },
      {
       "current": "35c581ba-55a3-11e7-b0b2-00163e9c0e35",
       "next": "35c58340-55a3-11e7-b0b2-00163e9c0e35",
       "previous": "35c385a4-55a3-11e7-b0b2-00163e9c0e35"
      },
      {
       "current": "35c581ba-55a3-11e7-b0b2-00163e9c0e35",
       "next": "35c58340-55a3-11e7-b0b2-00163e9c0e35",
       "previous": "27c39180-935b-11ea-8d02-0242ac120007"
      },
      {
       "current": "35c581ba-55a3-11e7-b0b2-00163e9c0e35",
       "next": "35c58340-55a3-11e7-b0b2-00163e9c0e35",
       "previous": "35c385a4-55a3-11e7-b0b2-00163e9c0e35"
      },
      {
       "current": "35c581ba-55a3-11e7-b0b2-00163e9c0e35",
       "next": "35c58340-55a3-11e7-b0b2-00163e9c0e35",
       "previous": "b20d6ace-9684-11ea-8d02-0242ac120007"
      },
      {
       "current": "35c581ba-55a3-11e7-b0b2-00163e9c0e35",
       "next": "35c58340-55a3-11e7-b0b2-00163e9c0e35",
       "previous": "18b837c6-9686-11ea-8d02-0242ac120007"
      },
      {
       "current": "35c581ba-55a3-11e7-b0b2-00163e9c0e35",
       "next": "35c58340-55a3-11e7-b0b2-00163e9c0e35",
       "previous": "59de09f6-9686-11ea-8d02-0242ac120007"
      },
      {
       "current": "35c581ba-55a3-11e7-b0b2-00163e9c0e35",
       "next": "35c58340-55a3-11e7-b0b2-00163e9c0e35",
       "previous": "7dae8b30-9686-11ea-8d02-0242ac120007"
      },
      {
       "current": "35c581ba-55a3-11e7-b0b2-00163e9c0e35",
       "next": "35c58340-55a3-11e7-b0b2-00163e9c0e35",
       "previous": "789942dc-9692-11ea-8d02-0242ac120007"
      },
      {
       "current": "35c581ba-55a3-11e7-b0b2-00163e9c0e35",
       "next": "35c58340-55a3-11e7-b0b2-00163e9c0e35",
       "previous": "e95d003a-9697-11ea-8d02-0242ac120007"
      },
      {
       "current": "35c581ba-55a3-11e7-b0b2-00163e9c0e35",
       "next": "35c58340-55a3-11e7-b0b2-00163e9c0e35",
       "previous": "357fc83a-969d-11ea-8d02-0242ac120007"
      },
      {
       "current": "35c581ba-55a3-11e7-b0b2-00163e9c0e35",
       "next": "35c58340-55a3-11e7-b0b2-00163e9c0e35",
       "previous": "7dae86da-9686-11ea-8d02-0242ac120007"
      },
      {
       "current": "35c581ba-55a3-11e7-b0b2-00163e9c0e35",
       "next": "35c58340-55a3-11e7-b0b2-00163e9c0e35",
       "previous": "49102d8c-98a9-11ea-8d02-0242ac120007"
      },
      {
       "current": "35c581ba-55a3-11e7-b0b2-00163e9c0e35",
       "next": "35c58340-55a3-11e7-b0b2-00163e9c0e35",
       "previous": "dbe917aa-9984-11ea-8d02-0242ac120007"
      },
      {
       "current": "35c581ba-55a3-11e7-b0b2-00163e9c0e35",
       "next": "35c58340-55a3-11e7-b0b2-00163e9c0e35",
       "previous": "f9f7c1a0-9985-11ea-8d02-0242ac120007"
      },
      {
       "current": "35c581ba-55a3-11e7-b0b2-00163e9c0e35",
       "next": "35c58340-55a3-11e7-b0b2-00163e9c0e35",
       "previous": "4180e646-9986-11ea-8d02-0242ac120007"
      },
      {
       "current": "35c581ba-55a3-11e7-b0b2-00163e9c0e35",
       "next": "35c58340-55a3-11e7-b0b2-00163e9c0e35",
       "previous": "eea7aafc-9987-11ea-8d02-0242ac120007"
      },
      {
       "current": "35c581ba-55a3-11e7-b0b2-00163e9c0e35",
       "next": "35c58340-55a3-11e7-b0b2-00163e9c0e35",
       "previous": "7db36be6-9988-11ea-8d02-0242ac120007"
      },
      {
       "current": "35c581ba-55a3-11e7-b0b2-00163e9c0e35",
       "next": "35c58340-55a3-11e7-b0b2-00163e9c0e35",
       "previous": "7db36a7e-9988-11ea-8d02-0242ac120007"
      },
      {
       "current": "35c581ba-55a3-11e7-b0b2-00163e9c0e35",
       "next": "35c58340-55a3-11e7-b0b2-00163e9c0e35",
       "previous": "f3e7d364-998e-11ea-8d02-0242ac120007"
      },
      {
       "current": "35c581ba-55a3-11e7-b0b2-00163e9c0e35-1-f60b",
       "next": "35c58340-55a3-11e7-b0b2-00163e9c0e35",
       "previous": "b0a33f46-98ce-11ea-8d02-0242ac120007"
      },
      {
       "current": "35c581ba-55a3-11e7-b0b2-00163e9c0e35-2-f60b-133a",
       "next": "35c58340-55a3-11e7-b0b2-00163e9c0e35-1-c0ce",
       "previous": "b0a33f46-98ce-11ea-8d02-0242ac120007-1-1e51"
      },
      {
       "current": "35c581ba-55a3-11e7-b0b2-00163e9c0e35-2-f60b-133a",
       "next": "35c58340-55a3-11e7-b0b2-00163e9c0e35-2-c0ce-9618",
       "previous": "b0a33f46-98ce-11ea-8d02-0242ac120007-2-1e51-b1e8"
      },
      {
       "current": "35c581ba-55a3-11e7-b0b2-00163e9c0e35-2-f60b-133a",
       "next": "35c58340-55a3-11e7-b0b2-00163e9c0e35-2-c0ce-9618",
       "previous": "d0769ffa-98bc-11ea-8d02-0242ac120007-2-9994-0723"
      },
      {
       "current": "35c581ba-55a3-11e7-b0b2-00163e9c0e35-2-f60b-133a",
       "next": "35c58340-55a3-11e7-b0b2-00163e9c0e35-2-c0ce-9618",
       "previous": "bc16cb02-dfce-11eb-b29f-0242ac120008"
      },
      {
       "current": "35c581ba-55a3-11e7-b0b2-00163e9c0e35-2-f60b-133a",
       "next": "35c58340-55a3-11e7-b0b2-00163e9c0e35-2-c0ce-9618",
       "previous": "7cf7d994-f4ea-11eb-b29f-0242ac120008"
      },
      {
       "current": "35c581ba-55a3-11e7-b0b2-00163e9c0e35-2-f60b-133a",
       "next": "35c58340-55a3-11e7-b0b2-00163e9c0e35-2-c0ce-9618",
       "previous": "204647a2-f4eb-11eb-b29f-0242ac120008"
      },
      {
       "current": "35c581ba-55a3-11e7-b0b2-00163e9c0e35-2-f60b-133a",
       "next": "35c58340-55a3-11e7-b0b2-00163e9c0e35-2-c0ce-9618",
       "previous": "798c29c4-9a06-11ec-a1da-0242ac120004"
      },
      {
       "current": "35c581ba-55a3-11e7-b0b2-00163e9c0e35-3-f60b-133a-40ef",
       "next": "35c58340-55a3-11e7-b0b2-00163e9c0e35-2-c0ce-9618",
       "previous": "204647a2-f4eb-11eb-b29f-0242ac120008"
      },
      {
       "current": "35c581ba-55a3-11e7-b0b2-00163e9c0e35-3-f60b-133a-40ef",
       "next": "35c58340-55a3-11e7-b0b2-00163e9c0e35-3-c0ce-9618-7032",
       "previous": "204647a2-f4eb-11eb-b29f-0242ac120008-1-10f9"
      },
      {
       "current": "35c581ba-55a3-11e7-b0b2-00163e9c0e35-3-f60b-133a-40ef",
       "next": "35c58340-55a3-11e7-b0b2-00163e9c0e35-3-c0ce-9618-7032",
       "previous": "3c6cb112-4bb2-11ee-89fa-0242ac120005"
      },
      {
       "current": "35c581ba-55a3-11e7-b0b2-00163e9c0e35-3-f60b-133a-40ef",
       "next": "35c58340-55a3-11e7-b0b2-00163e9c0e35-3-c0ce-9618-7032",
       "previous": "d619a970-6195-11ee-89fa-0242ac120005"
      },
      {
       "current": "35c581ba-55a3-11e7-b0b2-00163e9c0e35-3-f60b-133a-40ef",
       "next": "35c58340-55a3-11e7-b0b2-00163e9c0e35-3-c0ce-9618-7032",
       "previous": "1312e328-624f-11ee-89fa-0242ac120005"
      },
      {
       "current": "35c581ba-55a3-11e7-b0b2-00163e9c0e35-3-f60b-133a-40ef",
       "next": "35c58340-55a3-11e7-b0b2-00163e9c0e35-3-c0ce-9618-7032",
       "previous": "65491b2e-6bf7-11ee-89fa-0242ac120005"
      },
      {
       "current": "35c581ba-55a3-11e7-b0b2-00163e9c0e35-4-f60b-133a-40ef-d2bf",
       "next": "35c58340-55a3-11e7-b0b2-00163e9c0e35-3-c0ce-9618-7032",
       "previous": "accffe9a-6bf7-11ee-89fa-0242ac120005"
      },
      {
       "current": "35c581ba-55a3-11e7-b0b2-00163e9c0e35-4-f60b-133a-40ef-d2bf",
       "next": "35c58340-55a3-11e7-b0b2-00163e9c0e35-4-c0ce-9618-7032-8529",
       "previous": "accffe9a-6bf7-11ee-89fa-0242ac120005-1-e306"
      },
      {
       "current": "35c581ba-55a3-11e7-b0b2-00163e9c0e35-5-f60b-133a-40ef-d2bf-0ee9",
       "next": "35c58340-55a3-11e7-b0b2-00163e9c0e35-4-c0ce-9618-7032-8529",
       "previous": "2463a232-998d-11ee-91d3-0242ac120006"
      },
      {
       "current": "35c581ba-55a3-11e7-b0b2-00163e9c0e35-6-f60b-133a-40ef-d2bf-0ee9-47de",
       "next": "35c58340-55a3-11e7-b0b2-00163e9c0e35-5-c0ce-9618-7032-8529-007c",
       "previous": "2463a232-998d-11ee-91d3-0242ac120006-1-01f2"
      },
      {
       "current": "35c581ba-55a3-11e7-b0b2-00163e9c0e35-7-f60b-133a-40ef-d2bf-0ee9-47de-fc96",
       "next": "35c58340-55a3-11e7-b0b2-00163e9c0e35-6-c0ce-9618-7032-8529-007c-8179",
       "previous": "2463a232-998d-11ee-91d3-0242ac120006-2-01f2-04ab"
      },
      {
       "current": "35c581ba-55a3-11e7-b0b2-00163e9c0e35-8-f60b-133a-40ef-d2bf-0ee9-47de-fc96-47f6",
       "next": "35c58340-55a3-11e7-b0b2-00163e9c0e35-7-c0ce-9618-7032-8529-007c-8179-7bb1",
       "previous": "2463a232-998d-11ee-91d3-0242ac120006-3-01f2-04ab-f06d"
      }
     ],
     "next": "35c58340-55a3-11e7-b0b2-00163e9c0e35-8-c0ce-9618-7032-8529-007c-8179-7bb1-2a21",
     "previous": "2463a232-998d-11ee-91d3-0242ac120006-4-01f2-04ab-f06d-6dd3"
    }
   },
   "source": [
    "# 後始末\n",
    "\n",
    "一時ディレクトリを削除する。"
   ]
  },
  {
   "cell_type": "code",
   "execution_count": null,
   "metadata": {
    "ExecuteTime": {
     "end_time": "2017-06-29T08:01:20.617274Z",
     "start_time": "2017-06-29T08:01:20.466671Z"
    },
    "lc_cell_meme": {
     "current": "35c58340-55a3-11e7-b0b2-00163e9c0e35-8-c0ce-9618-7032-8529-007c-8179-7bb1-2a21",
     "history": [
      {
       "current": "35c58340-55a3-11e7-b0b2-00163e9c0e35",
       "next": null,
       "previous": "35c581ba-55a3-11e7-b0b2-00163e9c0e35"
      },
      {
       "current": "35c58340-55a3-11e7-b0b2-00163e9c0e35-1-c0ce",
       "next": "c4bd8ce4-5749-11e7-b0b2-00163e9c0e35",
       "previous": "35c581ba-55a3-11e7-b0b2-00163e9c0e35"
      },
      {
       "current": "35c58340-55a3-11e7-b0b2-00163e9c0e35-2-c0ce-9618",
       "next": "c4bd8ce4-5749-11e7-b0b2-00163e9c0e35-1-6c35",
       "previous": "35c581ba-55a3-11e7-b0b2-00163e9c0e35-1-f60b"
      },
      {
       "current": "35c58340-55a3-11e7-b0b2-00163e9c0e35-3-c0ce-9618-7032",
       "next": "c4bd8ce4-5749-11e7-b0b2-00163e9c0e35-2-6c35-ebfb",
       "previous": "35c581ba-55a3-11e7-b0b2-00163e9c0e35-2-f60b-133a"
      },
      {
       "current": "35c58340-55a3-11e7-b0b2-00163e9c0e35-4-c0ce-9618-7032-8529",
       "next": "c4bd8ce4-5749-11e7-b0b2-00163e9c0e35-3-6c35-ebfb-793f",
       "previous": "35c581ba-55a3-11e7-b0b2-00163e9c0e35-3-f60b-133a-40ef"
      },
      {
       "current": "35c58340-55a3-11e7-b0b2-00163e9c0e35-5-c0ce-9618-7032-8529-007c",
       "next": "c4bd8ce4-5749-11e7-b0b2-00163e9c0e35-4-6c35-ebfb-793f-69f2",
       "previous": "35c581ba-55a3-11e7-b0b2-00163e9c0e35-4-f60b-133a-40ef-d2bf"
      },
      {
       "current": "35c58340-55a3-11e7-b0b2-00163e9c0e35-6-c0ce-9618-7032-8529-007c-8179",
       "next": "c4bd8ce4-5749-11e7-b0b2-00163e9c0e35-5-6c35-ebfb-793f-69f2-4022",
       "previous": "35c581ba-55a3-11e7-b0b2-00163e9c0e35-5-f60b-133a-40ef-d2bf-0ee9"
      },
      {
       "current": "35c58340-55a3-11e7-b0b2-00163e9c0e35-7-c0ce-9618-7032-8529-007c-8179-7bb1",
       "next": "c4bd8ce4-5749-11e7-b0b2-00163e9c0e35-6-6c35-ebfb-793f-69f2-4022-f6e5",
       "previous": "35c581ba-55a3-11e7-b0b2-00163e9c0e35-6-f60b-133a-40ef-d2bf-0ee9-47de"
      },
      {
       "current": "35c58340-55a3-11e7-b0b2-00163e9c0e35-8-c0ce-9618-7032-8529-007c-8179-7bb1-2a21",
       "next": "c4bd8ce4-5749-11e7-b0b2-00163e9c0e35-7-6c35-ebfb-793f-69f2-4022-f6e5-67e3",
       "previous": "35c581ba-55a3-11e7-b0b2-00163e9c0e35-7-f60b-133a-40ef-d2bf-0ee9-47de-fc96"
      }
     ],
     "next": "c4bd8ce4-5749-11e7-b0b2-00163e9c0e35-8-6c35-ebfb-793f-69f2-4022-f6e5-67e3-3755",
     "previous": "35c581ba-55a3-11e7-b0b2-00163e9c0e35-8-f60b-133a-40ef-d2bf-0ee9-47de-fc96-47f6"
    }
   },
   "outputs": [],
   "source": [
    "!rm -fr $temp_dir"
   ]
  },
  {
   "cell_type": "code",
   "execution_count": null,
   "metadata": {
    "lc_cell_meme": {
     "current": "c4bd8ce4-5749-11e7-b0b2-00163e9c0e35-8-6c35-ebfb-793f-69f2-4022-f6e5-67e3-3755",
     "history": [
      {
       "current": "c4bd8ce4-5749-11e7-b0b2-00163e9c0e35-1-6c35",
       "next": null,
       "previous": "35c58340-55a3-11e7-b0b2-00163e9c0e35"
      },
      {
       "current": "c4bd8ce4-5749-11e7-b0b2-00163e9c0e35-2-6c35-ebfb",
       "next": null,
       "previous": "35c58340-55a3-11e7-b0b2-00163e9c0e35-1-c0ce"
      },
      {
       "current": "c4bd8ce4-5749-11e7-b0b2-00163e9c0e35-3-6c35-ebfb-793f",
       "next": null,
       "previous": "35c58340-55a3-11e7-b0b2-00163e9c0e35-2-c0ce-9618"
      },
      {
       "current": "c4bd8ce4-5749-11e7-b0b2-00163e9c0e35-4-6c35-ebfb-793f-69f2",
       "next": null,
       "previous": "35c58340-55a3-11e7-b0b2-00163e9c0e35-3-c0ce-9618-7032"
      },
      {
       "current": "c4bd8ce4-5749-11e7-b0b2-00163e9c0e35-5-6c35-ebfb-793f-69f2-4022",
       "next": null,
       "previous": "35c58340-55a3-11e7-b0b2-00163e9c0e35-4-c0ce-9618-7032-8529"
      },
      {
       "current": "c4bd8ce4-5749-11e7-b0b2-00163e9c0e35-6-6c35-ebfb-793f-69f2-4022-f6e5",
       "next": null,
       "previous": "35c58340-55a3-11e7-b0b2-00163e9c0e35-5-c0ce-9618-7032-8529-007c"
      },
      {
       "current": "c4bd8ce4-5749-11e7-b0b2-00163e9c0e35-7-6c35-ebfb-793f-69f2-4022-f6e5-67e3",
       "next": null,
       "previous": "35c58340-55a3-11e7-b0b2-00163e9c0e35-6-c0ce-9618-7032-8529-007c-8179"
      },
      {
       "current": "c4bd8ce4-5749-11e7-b0b2-00163e9c0e35-8-6c35-ebfb-793f-69f2-4022-f6e5-67e3-3755",
       "next": null,
       "previous": "35c58340-55a3-11e7-b0b2-00163e9c0e35-7-c0ce-9618-7032-8529-007c-8179-7bb1"
      }
     ],
     "next": null,
     "previous": "35c58340-55a3-11e7-b0b2-00163e9c0e35-8-c0ce-9618-7032-8529-007c-8179-7bb1-2a21"
    }
   },
   "outputs": [],
   "source": []
  }
 ],
 "metadata": {
  "kernelspec": {
   "display_name": "Python 3",
   "language": "python",
   "name": "python3"
  },
  "language_info": {
   "file_extension": ".py",
   "mimetype": "text/x-python",
   "name": "python",
   "nbconvert_exporter": "python",
   "pygments_lexer": "ipython3",
   "version": "3.10.4"
  },
  "lc_notebook_meme": {
   "current": "35c33086-55a3-11e7-b0b2-00163e9c0e35"
  },
  "toc": {
   "base_numbering": 1,
   "nav_menu": {
    "height": "484px",
    "width": "687px"
   },
   "number_sections": true,
   "sideBar": true,
   "skip_h1_title": false,
   "title_cell": "Table of Contents",
   "title_sidebar": "Contents",
   "toc_cell": false,
   "toc_position": {
    "height": "1156px",
    "left": "30px",
    "right": "1330px",
    "top": "111.133px",
    "width": "340.983px"
   },
   "toc_section_display": true,
   "toc_window_display": true
  }
 },
 "nbformat": 4,
 "nbformat_minor": 1
}
