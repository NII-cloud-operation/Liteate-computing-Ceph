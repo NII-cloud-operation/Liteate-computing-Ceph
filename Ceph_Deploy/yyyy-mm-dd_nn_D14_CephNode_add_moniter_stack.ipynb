{
 "cells": [
  {
   "cell_type": "markdown",
   "metadata": {
    "collapsed": true,
    "lc_cell_meme": {
     "current": "35c33414-55a3-11e7-b0b2-00163e9c0e35-8-ffee-ac17-9684-dc80-ca0d-e95b-76d7-cab3",
     "history": [
      {
       "current": "35c33414-55a3-11e7-b0b2-00163e9c0e35",
       "next": "35c33626-55a3-11e7-b0b2-00163e9c0e35",
       "previous": null
      },
      {
       "current": "35c33414-55a3-11e7-b0b2-00163e9c0e35",
       "next": "35c33626-55a3-11e7-b0b2-00163e9c0e35",
       "previous": null
      },
      {
       "current": "35c33414-55a3-11e7-b0b2-00163e9c0e35",
       "next": "35c33626-55a3-11e7-b0b2-00163e9c0e35",
       "previous": "0db87670-9586-11ea-8d02-0242ac120007"
      },
      {
       "current": "35c33414-55a3-11e7-b0b2-00163e9c0e35-1-ffee",
       "next": "35c337f2-55a3-11e7-b0b2-00163e9c0e35",
       "previous": null
      },
      {
       "current": "35c33414-55a3-11e7-b0b2-00163e9c0e35-2-ffee-ac17",
       "next": "35c337f2-55a3-11e7-b0b2-00163e9c0e35-1-b874",
       "previous": null
      },
      {
       "current": "35c33414-55a3-11e7-b0b2-00163e9c0e35-3-ffee-ac17-9684",
       "next": "35c337f2-55a3-11e7-b0b2-00163e9c0e35-2-b874-13f7",
       "previous": null
      },
      {
       "current": "35c33414-55a3-11e7-b0b2-00163e9c0e35-4-ffee-ac17-9684-dc80",
       "next": "35c337f2-55a3-11e7-b0b2-00163e9c0e35-3-b874-13f7-3f47",
       "previous": null
      },
      {
       "current": "35c33414-55a3-11e7-b0b2-00163e9c0e35-5-ffee-ac17-9684-dc80-ca0d",
       "next": "35c339aa-55a3-11e7-b0b2-00163e9c0e35-4-eee2-af6c-3cfe-5a56",
       "previous": null
      },
      {
       "current": "35c33414-55a3-11e7-b0b2-00163e9c0e35-6-ffee-ac17-9684-dc80-ca0d-e95b",
       "next": "35c339aa-55a3-11e7-b0b2-00163e9c0e35-5-eee2-af6c-3cfe-5a56-4b62",
       "previous": null
      },
      {
       "current": "35c33414-55a3-11e7-b0b2-00163e9c0e35-7-ffee-ac17-9684-dc80-ca0d-e95b-76d7",
       "next": "35c339aa-55a3-11e7-b0b2-00163e9c0e35-6-eee2-af6c-3cfe-5a56-4b62-80f0",
       "previous": null
      },
      {
       "current": "35c33414-55a3-11e7-b0b2-00163e9c0e35-8-ffee-ac17-9684-dc80-ca0d-e95b-76d7-cab3",
       "next": "35c339aa-55a3-11e7-b0b2-00163e9c0e35-7-eee2-af6c-3cfe-5a56-4b62-80f0-ffe4",
       "previous": null
      }
     ],
     "next": "35c339aa-55a3-11e7-b0b2-00163e9c0e35-8-eee2-af6c-3cfe-5a56-4b62-80f0-ffe4-ff86",
     "previous": null
    }
   },
   "source": [
    "# Cephノード構築：監視スタックの追加\n"
   ]
  },
  {
   "cell_type": "markdown",
   "metadata": {
    "lc_cell_meme": {
     "current": "35c339aa-55a3-11e7-b0b2-00163e9c0e35-8-eee2-af6c-3cfe-5a56-4b62-80f0-ffe4-ff86",
     "history": [
      {
       "current": "35c339aa-55a3-11e7-b0b2-00163e9c0e35",
       "next": "35c33b6c-55a3-11e7-b0b2-00163e9c0e35",
       "previous": "35c337f2-55a3-11e7-b0b2-00163e9c0e35"
      },
      {
       "current": "35c339aa-55a3-11e7-b0b2-00163e9c0e35",
       "next": "670888aa-5722-11e7-b0b2-00163e9c0e35",
       "previous": "35c337f2-55a3-11e7-b0b2-00163e9c0e35"
      },
      {
       "current": "35c339aa-55a3-11e7-b0b2-00163e9c0e35",
       "next": "670888aa-5722-11e7-b0b2-00163e9c0e35",
       "previous": "357fc83a-969d-11ea-8d02-0242ac120007"
      },
      {
       "current": "35c339aa-55a3-11e7-b0b2-00163e9c0e35-1-eee2",
       "next": "670888aa-5722-11e7-b0b2-00163e9c0e35",
       "previous": "8a48dae0-98a1-11ea-8d02-0242ac120007"
      },
      {
       "current": "35c339aa-55a3-11e7-b0b2-00163e9c0e35-2-eee2-af6c",
       "next": "670888aa-5722-11e7-b0b2-00163e9c0e35-1-17ba",
       "previous": "8a48dae0-98a1-11ea-8d02-0242ac120007-1-4da2"
      },
      {
       "current": "35c339aa-55a3-11e7-b0b2-00163e9c0e35-2-eee2-af6c",
       "next": "670888aa-5722-11e7-b0b2-00163e9c0e35-2-17ba-53fc",
       "previous": "8a48dae0-98a1-11ea-8d02-0242ac120007-2-4da2-9c77"
      },
      {
       "current": "35c339aa-55a3-11e7-b0b2-00163e9c0e35-3-eee2-af6c-3cfe",
       "next": "670888aa-5722-11e7-b0b2-00163e9c0e35-2-17ba-53fc",
       "previous": "35c337f2-55a3-11e7-b0b2-00163e9c0e35-2-b874-13f7"
      },
      {
       "current": "35c339aa-55a3-11e7-b0b2-00163e9c0e35-4-eee2-af6c-3cfe-5a56",
       "next": "670888aa-5722-11e7-b0b2-00163e9c0e35-3-17ba-53fc-2957",
       "previous": "35c337f2-55a3-11e7-b0b2-00163e9c0e35-3-b874-13f7-3f47"
      },
      {
       "current": "35c339aa-55a3-11e7-b0b2-00163e9c0e35-5-eee2-af6c-3cfe-5a56-4b62",
       "next": "670888aa-5722-11e7-b0b2-00163e9c0e35-4-17ba-53fc-2957-bbfe",
       "previous": "35c33414-55a3-11e7-b0b2-00163e9c0e35-4-ffee-ac17-9684-dc80"
      },
      {
       "current": "35c339aa-55a3-11e7-b0b2-00163e9c0e35-6-eee2-af6c-3cfe-5a56-4b62-80f0",
       "next": "670888aa-5722-11e7-b0b2-00163e9c0e35-5-17ba-53fc-2957-bbfe-2e9f",
       "previous": "35c33414-55a3-11e7-b0b2-00163e9c0e35-5-ffee-ac17-9684-dc80-ca0d"
      },
      {
       "current": "35c339aa-55a3-11e7-b0b2-00163e9c0e35-7-eee2-af6c-3cfe-5a56-4b62-80f0-ffe4",
       "next": "670888aa-5722-11e7-b0b2-00163e9c0e35-6-17ba-53fc-2957-bbfe-2e9f-7bfb",
       "previous": "35c33414-55a3-11e7-b0b2-00163e9c0e35-6-ffee-ac17-9684-dc80-ca0d-e95b"
      },
      {
       "current": "35c339aa-55a3-11e7-b0b2-00163e9c0e35-8-eee2-af6c-3cfe-5a56-4b62-80f0-ffe4-ff86",
       "next": "670888aa-5722-11e7-b0b2-00163e9c0e35-7-17ba-53fc-2957-bbfe-2e9f-7bfb-bad4",
       "previous": "35c33414-55a3-11e7-b0b2-00163e9c0e35-7-ffee-ac17-9684-dc80-ca0d-e95b-76d7"
      }
     ],
     "next": "670888aa-5722-11e7-b0b2-00163e9c0e35-8-17ba-53fc-2957-bbfe-2e9f-7bfb-bad4-f873",
     "previous": "35c33414-55a3-11e7-b0b2-00163e9c0e35-8-ffee-ac17-9684-dc80-ca0d-e95b-76d7-cab3"
    }
   },
   "source": [
    "# パラメータ定義"
   ]
  },
  {
   "cell_type": "markdown",
   "metadata": {
    "lc_cell_meme": {
     "current": "670888aa-5722-11e7-b0b2-00163e9c0e35-8-17ba-53fc-2957-bbfe-2e9f-7bfb-bad4-f873",
     "history": [
      {
       "current": "670888aa-5722-11e7-b0b2-00163e9c0e35-1-17ba",
       "next": "35c33b6c-55a3-11e7-b0b2-00163e9c0e35",
       "previous": "35c339aa-55a3-11e7-b0b2-00163e9c0e35"
      },
      {
       "current": "670888aa-5722-11e7-b0b2-00163e9c0e35-2-17ba-53fc",
       "next": "35c33b6c-55a3-11e7-b0b2-00163e9c0e35-1-c84d",
       "previous": "35c339aa-55a3-11e7-b0b2-00163e9c0e35-1-eee2"
      },
      {
       "current": "670888aa-5722-11e7-b0b2-00163e9c0e35-3-17ba-53fc-2957",
       "next": "35c33b6c-55a3-11e7-b0b2-00163e9c0e35-2-c84d-3439",
       "previous": "35c339aa-55a3-11e7-b0b2-00163e9c0e35-2-eee2-af6c"
      },
      {
       "current": "670888aa-5722-11e7-b0b2-00163e9c0e35-4-17ba-53fc-2957-bbfe",
       "next": "35c33b6c-55a3-11e7-b0b2-00163e9c0e35-3-c84d-3439-eddb",
       "previous": "35c339aa-55a3-11e7-b0b2-00163e9c0e35-3-eee2-af6c-3cfe"
      },
      {
       "current": "670888aa-5722-11e7-b0b2-00163e9c0e35-5-17ba-53fc-2957-bbfe-2e9f",
       "next": "35c33b6c-55a3-11e7-b0b2-00163e9c0e35-4-c84d-3439-eddb-012c",
       "previous": "35c339aa-55a3-11e7-b0b2-00163e9c0e35-4-eee2-af6c-3cfe-5a56"
      },
      {
       "current": "670888aa-5722-11e7-b0b2-00163e9c0e35-6-17ba-53fc-2957-bbfe-2e9f-7bfb",
       "next": "35c33b6c-55a3-11e7-b0b2-00163e9c0e35-5-c84d-3439-eddb-012c-a6b7",
       "previous": "35c339aa-55a3-11e7-b0b2-00163e9c0e35-5-eee2-af6c-3cfe-5a56-4b62"
      },
      {
       "current": "670888aa-5722-11e7-b0b2-00163e9c0e35-7-17ba-53fc-2957-bbfe-2e9f-7bfb-bad4",
       "next": "35c33b6c-55a3-11e7-b0b2-00163e9c0e35-6-c84d-3439-eddb-012c-a6b7-1ff8",
       "previous": "35c339aa-55a3-11e7-b0b2-00163e9c0e35-6-eee2-af6c-3cfe-5a56-4b62-80f0"
      },
      {
       "current": "670888aa-5722-11e7-b0b2-00163e9c0e35-8-17ba-53fc-2957-bbfe-2e9f-7bfb-bad4-f873",
       "next": "35c33b6c-55a3-11e7-b0b2-00163e9c0e35-7-c84d-3439-eddb-012c-a6b7-1ff8-7bae",
       "previous": "35c339aa-55a3-11e7-b0b2-00163e9c0e35-7-eee2-af6c-3cfe-5a56-4b62-80f0-ffe4"
      }
     ],
     "next": "35c33b6c-55a3-11e7-b0b2-00163e9c0e35-8-c84d-3439-eddb-012c-a6b7-1ff8-7bae-5c26",
     "previous": "35c339aa-55a3-11e7-b0b2-00163e9c0e35-8-eee2-af6c-3cfe-5a56-4b62-80f0-ffe4-ff86"
    }
   },
   "source": [
    "## パラメータファイル設定"
   ]
  },
  {
   "cell_type": "markdown",
   "metadata": {
    "lc_cell_meme": {
     "current": "35c33b6c-55a3-11e7-b0b2-00163e9c0e35-8-c84d-3439-eddb-012c-a6b7-1ff8-7bae-5c26",
     "history": [
      {
       "current": "35c33b6c-55a3-11e7-b0b2-00163e9c0e35",
       "next": "35c33d24-55a3-11e7-b0b2-00163e9c0e35",
       "previous": "35c339aa-55a3-11e7-b0b2-00163e9c0e35"
      },
      {
       "current": "35c33b6c-55a3-11e7-b0b2-00163e9c0e35-1-c84d",
       "next": "35c33d24-55a3-11e7-b0b2-00163e9c0e35",
       "previous": "670888aa-5722-11e7-b0b2-00163e9c0e35"
      },
      {
       "current": "35c33b6c-55a3-11e7-b0b2-00163e9c0e35-2-c84d-3439",
       "next": "35c33d24-55a3-11e7-b0b2-00163e9c0e35-1-c8d8",
       "previous": "670888aa-5722-11e7-b0b2-00163e9c0e35-1-17ba"
      },
      {
       "current": "35c33b6c-55a3-11e7-b0b2-00163e9c0e35-3-c84d-3439-eddb",
       "next": "35c33d24-55a3-11e7-b0b2-00163e9c0e35-2-c8d8-c063",
       "previous": "670888aa-5722-11e7-b0b2-00163e9c0e35-2-17ba-53fc"
      },
      {
       "current": "35c33b6c-55a3-11e7-b0b2-00163e9c0e35-4-c84d-3439-eddb-012c",
       "next": "35c33d24-55a3-11e7-b0b2-00163e9c0e35-3-c8d8-c063-e3d4",
       "previous": "670888aa-5722-11e7-b0b2-00163e9c0e35-3-17ba-53fc-2957"
      },
      {
       "current": "35c33b6c-55a3-11e7-b0b2-00163e9c0e35-5-c84d-3439-eddb-012c-a6b7",
       "next": "35c33d24-55a3-11e7-b0b2-00163e9c0e35-4-c8d8-c063-e3d4-67d4",
       "previous": "670888aa-5722-11e7-b0b2-00163e9c0e35-4-17ba-53fc-2957-bbfe"
      },
      {
       "current": "35c33b6c-55a3-11e7-b0b2-00163e9c0e35-6-c84d-3439-eddb-012c-a6b7-1ff8",
       "next": "35c33d24-55a3-11e7-b0b2-00163e9c0e35-5-c8d8-c063-e3d4-67d4-fe98",
       "previous": "670888aa-5722-11e7-b0b2-00163e9c0e35-5-17ba-53fc-2957-bbfe-2e9f"
      },
      {
       "current": "35c33b6c-55a3-11e7-b0b2-00163e9c0e35-7-c84d-3439-eddb-012c-a6b7-1ff8-7bae",
       "next": "c72235fa-1d8c-11ef-ad2f-0242ac120005",
       "previous": "670888aa-5722-11e7-b0b2-00163e9c0e35-6-17ba-53fc-2957-bbfe-2e9f-7bfb"
      },
      {
       "current": "35c33b6c-55a3-11e7-b0b2-00163e9c0e35-8-c84d-3439-eddb-012c-a6b7-1ff8-7bae-5c26",
       "next": "c72235fa-1d8c-11ef-ad2f-0242ac120005-1-7c95",
       "previous": "670888aa-5722-11e7-b0b2-00163e9c0e35-7-17ba-53fc-2957-bbfe-2e9f-7bfb-bad4"
      }
     ],
     "next": "c72235fa-1d8c-11ef-ad2f-0242ac120005-2-7c95-55b9",
     "previous": "670888aa-5722-11e7-b0b2-00163e9c0e35-8-17ba-53fc-2957-bbfe-2e9f-7bfb-bad4-f873"
    }
   },
   "source": [
    "Cephクラスタの定義ファイルを指定するため、<br>\n",
    "パラメータ定義格納ディレクトリを表示する。"
   ]
  },
  {
   "cell_type": "code",
   "execution_count": null,
   "metadata": {
    "lc_cell_meme": {
     "current": "c72235fa-1d8c-11ef-ad2f-0242ac120005-2-7c95-55b9",
     "history": [
      {
       "current": "c72235fa-1d8c-11ef-ad2f-0242ac120005-1-7c95",
       "next": "c7223726-1d8c-11ef-ad2f-0242ac120005",
       "previous": "35c33b6c-55a3-11e7-b0b2-00163e9c0e35-6-c84d-3439-eddb-012c-a6b7-1ff8"
      },
      {
       "current": "c72235fa-1d8c-11ef-ad2f-0242ac120005-2-7c95-55b9",
       "next": "c7223726-1d8c-11ef-ad2f-0242ac120005-1-b4b6",
       "previous": "35c33b6c-55a3-11e7-b0b2-00163e9c0e35-7-c84d-3439-eddb-012c-a6b7-1ff8-7bae"
      }
     ],
     "next": "c7223726-1d8c-11ef-ad2f-0242ac120005-2-b4b6-6403",
     "previous": "35c33b6c-55a3-11e7-b0b2-00163e9c0e35-8-c84d-3439-eddb-012c-a6b7-1ff8-7bae-5c26"
    }
   },
   "outputs": [],
   "source": [
    "!ls -p ~/notebooks/share/ | grep \"/$\""
   ]
  },
  {
   "cell_type": "code",
   "execution_count": null,
   "metadata": {
    "lc_cell_meme": {
     "current": "c7223726-1d8c-11ef-ad2f-0242ac120005-2-b4b6-6403",
     "history": [
      {
       "current": "c7223726-1d8c-11ef-ad2f-0242ac120005-1-b4b6",
       "next": "c72237e4-1d8c-11ef-ad2f-0242ac120005",
       "previous": "c72235fa-1d8c-11ef-ad2f-0242ac120005"
      },
      {
       "current": "c7223726-1d8c-11ef-ad2f-0242ac120005-2-b4b6-6403",
       "next": "c72237e4-1d8c-11ef-ad2f-0242ac120005-1-9420",
       "previous": "c72235fa-1d8c-11ef-ad2f-0242ac120005-1-7c95"
      }
     ],
     "next": "c72237e4-1d8c-11ef-ad2f-0242ac120005-2-9420-10e2",
     "previous": "c72235fa-1d8c-11ef-ad2f-0242ac120005-2-7c95-55b9"
    }
   },
   "outputs": [],
   "source": [
    "!ls -p ~/notebooks/share/configuration"
   ]
  },
  {
   "cell_type": "code",
   "execution_count": null,
   "metadata": {
    "lc_cell_meme": {
     "current": "c72237e4-1d8c-11ef-ad2f-0242ac120005-2-9420-10e2",
     "history": [
      {
       "current": "c72237e4-1d8c-11ef-ad2f-0242ac120005-1-9420",
       "next": "c722380c-1d8c-11ef-ad2f-0242ac120005",
       "previous": "c7223726-1d8c-11ef-ad2f-0242ac120005"
      },
      {
       "current": "c72237e4-1d8c-11ef-ad2f-0242ac120005-2-9420-10e2",
       "next": "c722380c-1d8c-11ef-ad2f-0242ac120005-1-ecf7",
       "previous": "c7223726-1d8c-11ef-ad2f-0242ac120005-1-b4b6"
      }
     ],
     "next": "c722380c-1d8c-11ef-ad2f-0242ac120005-2-ecf7-bfd6",
     "previous": "c7223726-1d8c-11ef-ad2f-0242ac120005-2-b4b6-6403"
    }
   },
   "outputs": [],
   "source": [
    "!ls -p ~/notebooks/share/configuration/ceph"
   ]
  },
  {
   "cell_type": "code",
   "execution_count": null,
   "metadata": {
    "lc_cell_meme": {
     "current": "c722380c-1d8c-11ef-ad2f-0242ac120005-2-ecf7-bfd6",
     "history": [
      {
       "current": "c722380c-1d8c-11ef-ad2f-0242ac120005-1-ecf7",
       "next": "c7223834-1d8c-11ef-ad2f-0242ac120005",
       "previous": "c72237e4-1d8c-11ef-ad2f-0242ac120005"
      },
      {
       "current": "c722380c-1d8c-11ef-ad2f-0242ac120005-2-ecf7-bfd6",
       "next": "c7223834-1d8c-11ef-ad2f-0242ac120005-1-b861",
       "previous": "c72237e4-1d8c-11ef-ad2f-0242ac120005-1-9420"
      }
     ],
     "next": "c7223834-1d8c-11ef-ad2f-0242ac120005-2-b861-f4e0",
     "previous": "c72237e4-1d8c-11ef-ad2f-0242ac120005-2-9420-10e2"
    }
   },
   "outputs": [],
   "source": [
    "import sys, os.path, importlib, json, yaml\n",
    "\n",
    "config_file_name = \"ceph_admin_vm.yml\"\n",
    "config_file_path = os.path.expanduser(\"~/notebooks/share/configuration/ceph/{}\".format(config_file_name))\n",
    "with open(config_file_path) as f:\n",
    "    admin_params = yaml.safe_load(f)\n",
    "admin_params"
   ]
  },
  {
   "cell_type": "code",
   "execution_count": null,
   "metadata": {
    "lc_cell_meme": {
     "current": "c7223834-1d8c-11ef-ad2f-0242ac120005-2-b861-f4e0",
     "history": [
      {
       "current": "c7223834-1d8c-11ef-ad2f-0242ac120005-1-b861",
       "next": "c722385c-1d8c-11ef-ad2f-0242ac120005",
       "previous": "c722380c-1d8c-11ef-ad2f-0242ac120005"
      },
      {
       "current": "c7223834-1d8c-11ef-ad2f-0242ac120005-2-b861-f4e0",
       "next": "c722385c-1d8c-11ef-ad2f-0242ac120005-1-7683",
       "previous": "c722380c-1d8c-11ef-ad2f-0242ac120005-1-ecf7"
      }
     ],
     "next": "c722385c-1d8c-11ef-ad2f-0242ac120005-2-7683-1f64",
     "previous": "c722380c-1d8c-11ef-ad2f-0242ac120005-2-ecf7-bfd6"
    }
   },
   "outputs": [],
   "source": [
    "target_vm_name = 'xxx-ceph-admin1'\n",
    "admin_patam = admin_params[target_vm_name]\n",
    "admin_patam"
   ]
  },
  {
   "cell_type": "code",
   "execution_count": null,
   "metadata": {
    "lc_cell_meme": {
     "current": "c722385c-1d8c-11ef-ad2f-0242ac120005-2-7683-1f64",
     "history": [
      {
       "current": "c722385c-1d8c-11ef-ad2f-0242ac120005-1-7683",
       "next": "c722387a-1d8c-11ef-ad2f-0242ac120005",
       "previous": "c7223834-1d8c-11ef-ad2f-0242ac120005"
      },
      {
       "current": "c722385c-1d8c-11ef-ad2f-0242ac120005-2-7683-1f64",
       "next": "c722387a-1d8c-11ef-ad2f-0242ac120005-1-b817",
       "previous": "c7223834-1d8c-11ef-ad2f-0242ac120005-1-b861"
      }
     ],
     "next": "c722387a-1d8c-11ef-ad2f-0242ac120005-2-b817-a5d1",
     "previous": "c7223834-1d8c-11ef-ad2f-0242ac120005-2-b861-f4e0"
    }
   },
   "outputs": [],
   "source": [
    "ceph_admin_ip = admin_patam['network']['provisioning']['ip']"
   ]
  },
  {
   "cell_type": "code",
   "execution_count": null,
   "metadata": {
    "lc_cell_meme": {
     "current": "c722387a-1d8c-11ef-ad2f-0242ac120005-2-b817-a5d1",
     "history": [
      {
       "current": "c722387a-1d8c-11ef-ad2f-0242ac120005-1-b817",
       "next": "c72238a2-1d8c-11ef-ad2f-0242ac120005",
       "previous": "c722385c-1d8c-11ef-ad2f-0242ac120005"
      },
      {
       "current": "c722387a-1d8c-11ef-ad2f-0242ac120005-2-b817-a5d1",
       "next": "c72238a2-1d8c-11ef-ad2f-0242ac120005-1-315d",
       "previous": "c722385c-1d8c-11ef-ad2f-0242ac120005-1-7683"
      }
     ],
     "next": "c72238a2-1d8c-11ef-ad2f-0242ac120005-2-315d-b2ed",
     "previous": "c722385c-1d8c-11ef-ad2f-0242ac120005-2-7683-1f64"
    }
   },
   "outputs": [],
   "source": [
    "import sys, os.path, importlib, json, yaml\n",
    "\n",
    "config_file_name = \"xxx-openstack-parameter.yml\"\n",
    "config_file_path = os.path.expanduser(\"~/notebooks/share/configuration/{}\".format(config_file_name))\n",
    "with open(config_file_path) as f:\n",
    "    params = yaml.safe_load(f)\n",
    "params"
   ]
  },
  {
   "cell_type": "code",
   "execution_count": null,
   "metadata": {
    "lc_cell_meme": {
     "current": "c72238a2-1d8c-11ef-ad2f-0242ac120005-2-315d-b2ed",
     "history": [
      {
       "current": "c72238a2-1d8c-11ef-ad2f-0242ac120005-1-315d",
       "next": "c72238c0-1d8c-11ef-ad2f-0242ac120005",
       "previous": "c722387a-1d8c-11ef-ad2f-0242ac120005"
      },
      {
       "current": "c72238a2-1d8c-11ef-ad2f-0242ac120005-2-315d-b2ed",
       "next": "c72238c0-1d8c-11ef-ad2f-0242ac120005-1-ac2c",
       "previous": "c722387a-1d8c-11ef-ad2f-0242ac120005-1-b817"
      }
     ],
     "next": "c72238c0-1d8c-11ef-ad2f-0242ac120005-2-ac2c-df13",
     "previous": "c722387a-1d8c-11ef-ad2f-0242ac120005-2-b817-a5d1"
    }
   },
   "outputs": [],
   "source": [
    "repo_server = params['repository']['addresses']['service_operation']\n",
    "repo_server"
   ]
  },
  {
   "cell_type": "code",
   "execution_count": null,
   "metadata": {
    "lc_cell_meme": {
     "current": "c72238c0-1d8c-11ef-ad2f-0242ac120005-2-ac2c-df13",
     "history": [
      {
       "current": "c72238c0-1d8c-11ef-ad2f-0242ac120005-1-ac2c",
       "next": "c72238e8-1d8c-11ef-ad2f-0242ac120005",
       "previous": "c72238a2-1d8c-11ef-ad2f-0242ac120005"
      },
      {
       "current": "c72238c0-1d8c-11ef-ad2f-0242ac120005-2-ac2c-df13",
       "next": "c72238e8-1d8c-11ef-ad2f-0242ac120005-1-50fd",
       "previous": "c72238a2-1d8c-11ef-ad2f-0242ac120005-1-315d"
      }
     ],
     "next": "c72238e8-1d8c-11ef-ad2f-0242ac120005-2-50fd-7eeb",
     "previous": "c72238a2-1d8c-11ef-ad2f-0242ac120005-2-315d-b2ed"
    }
   },
   "outputs": [],
   "source": [
    "provisioning_vip = params['openstack']['provisioning_vip']\n",
    "provisioning_vip"
   ]
  },
  {
   "cell_type": "code",
   "execution_count": null,
   "metadata": {
    "lc_cell_meme": {
     "current": "c72238e8-1d8c-11ef-ad2f-0242ac120005-2-50fd-7eeb",
     "history": [
      {
       "current": "c72238e8-1d8c-11ef-ad2f-0242ac120005",
       "next": "35c33d24-55a3-11e7-b0b2-00163e9c0e35-6-c8d8-c063-e3d4-67d4-fe98-51cf",
       "previous": "c72238c0-1d8c-11ef-ad2f-0242ac120005"
      },
      {
       "current": "c72238e8-1d8c-11ef-ad2f-0242ac120005-1-50fd",
       "next": "bf249b06-98af-11ea-8d02-0242ac120007-6-1e49-e772-9042-2835-417c-2b22",
       "previous": "c72238c0-1d8c-11ef-ad2f-0242ac120005"
      },
      {
       "current": "c72238e8-1d8c-11ef-ad2f-0242ac120005-2-50fd-7eeb",
       "next": "bf249b06-98af-11ea-8d02-0242ac120007-7-1e49-e772-9042-2835-417c-2b22-eec6",
       "previous": "c72238c0-1d8c-11ef-ad2f-0242ac120005-1-ac2c"
      }
     ],
     "next": "bf249b06-98af-11ea-8d02-0242ac120007-8-1e49-e772-9042-2835-417c-2b22-eec6-7f89",
     "previous": "c72238c0-1d8c-11ef-ad2f-0242ac120005-2-ac2c-df13"
    }
   },
   "outputs": [],
   "source": [
    "network_segment_controller_vip = params['network_segment_controller_vip']\n",
    "network_segment_controller_vip"
   ]
  },
  {
   "cell_type": "markdown",
   "metadata": {
    "lc_cell_meme": {
     "current": "bf249b06-98af-11ea-8d02-0242ac120007-8-1e49-e772-9042-2835-417c-2b22-eec6-7f89",
     "history": [
      {
       "current": "bf249b06-98af-11ea-8d02-0242ac120007",
       "next": "d1bcb8ac-9599-11ea-8d02-0242ac120007",
       "previous": "7dae8996-9686-11ea-8d02-0242ac120007"
      },
      {
       "current": "bf249b06-98af-11ea-8d02-0242ac120007-1-1e49",
       "next": "dd8e3cbc-98f2-11ea-8d02-0242ac120007",
       "previous": "7dae8996-9686-11ea-8d02-0242ac120007"
      },
      {
       "current": "bf249b06-98af-11ea-8d02-0242ac120007-2-1e49-e772",
       "next": "dd8e3cbc-98f2-11ea-8d02-0242ac120007-1-706a",
       "previous": "7dae8996-9686-11ea-8d02-0242ac120007-1-20c5"
      },
      {
       "current": "bf249b06-98af-11ea-8d02-0242ac120007-2-1e49-e772",
       "next": "dd8e3cbc-98f2-11ea-8d02-0242ac120007-2-706a-309d",
       "previous": "7dae8996-9686-11ea-8d02-0242ac120007-2-20c5-a0b0"
      },
      {
       "current": "bf249b06-98af-11ea-8d02-0242ac120007-2-1e49-e772",
       "next": "dd8e3cbc-98f2-11ea-8d02-0242ac120007-2-706a-309d",
       "previous": "1afe76e2-def8-11eb-b29f-0242ac120008"
      },
      {
       "current": "bf249b06-98af-11ea-8d02-0242ac120007-2-1e49-e772",
       "next": "d1bcb8ac-9599-11ea-8d02-0242ac120007-2-ec95-2870",
       "previous": "1afe76e2-def8-11eb-b29f-0242ac120008"
      },
      {
       "current": "bf249b06-98af-11ea-8d02-0242ac120007-2-1e49-e772",
       "next": "d1bcb8ac-9599-11ea-8d02-0242ac120007-2-ec95-2870",
       "previous": "445f36bc-def7-11eb-b29f-0242ac120008"
      },
      {
       "current": "bf249b06-98af-11ea-8d02-0242ac120007-3-1e49-e772-9042",
       "next": "d1bcb8ac-9599-11ea-8d02-0242ac120007-2-ec95-2870",
       "previous": "17dd310e-deff-11eb-b29f-0242ac120008"
      },
      {
       "current": "bf249b06-98af-11ea-8d02-0242ac120007-4-1e49-e772-9042-2835",
       "next": "d1bcb8ac-9599-11ea-8d02-0242ac120007-3-ec95-2870-3f6b",
       "previous": "17dd310e-deff-11eb-b29f-0242ac120008-1-9f34"
      },
      {
       "current": "bf249b06-98af-11ea-8d02-0242ac120007-5-1e49-e772-9042-2835-417c",
       "next": "d1bcb8ac-9599-11ea-8d02-0242ac120007-4-ec95-2870-3f6b-c61b",
       "previous": "17dd310e-deff-11eb-b29f-0242ac120008-2-9f34-7ad2"
      },
      {
       "current": "bf249b06-98af-11ea-8d02-0242ac120007-6-1e49-e772-9042-2835-417c-2b22",
       "next": "d1bcb8ac-9599-11ea-8d02-0242ac120007-5-ec95-2870-3f6b-c61b-888b",
       "previous": "17dd310e-deff-11eb-b29f-0242ac120008-3-9f34-7ad2-e26c"
      },
      {
       "current": "bf249b06-98af-11ea-8d02-0242ac120007-6-1e49-e772-9042-2835-417c-2b22",
       "next": "d1bcb8ac-9599-11ea-8d02-0242ac120007-6-ec95-2870-3f6b-c61b-888b-1814",
       "previous": "17dd310e-deff-11eb-b29f-0242ac120008-4-9f34-7ad2-e26c-a517"
      },
      {
       "current": "bf249b06-98af-11ea-8d02-0242ac120007-7-1e49-e772-9042-2835-417c-2b22-eec6",
       "next": "d1bcb8ac-9599-11ea-8d02-0242ac120007-6-ec95-2870-3f6b-c61b-888b-1814",
       "previous": "c72238e8-1d8c-11ef-ad2f-0242ac120005"
      },
      {
       "current": "bf249b06-98af-11ea-8d02-0242ac120007-8-1e49-e772-9042-2835-417c-2b22-eec6-7f89",
       "next": "d1bcb8ac-9599-11ea-8d02-0242ac120007-7-ec95-2870-3f6b-c61b-888b-1814-fe0a",
       "previous": "c72238e8-1d8c-11ef-ad2f-0242ac120005-1-50fd"
      }
     ],
     "next": "d1bcb8ac-9599-11ea-8d02-0242ac120007-8-ec95-2870-3f6b-c61b-888b-1814-fe0a-095e",
     "previous": "c72238e8-1d8c-11ef-ad2f-0242ac120005-2-50fd-7eeb"
    }
   },
   "source": [
    "## CephノードとストレージセグメントIPアドレス対応表の読み込み"
   ]
  },
  {
   "cell_type": "code",
   "execution_count": null,
   "metadata": {
    "lc_cell_meme": {
     "current": "d1bcb8ac-9599-11ea-8d02-0242ac120007-8-ec95-2870-3f6b-c61b-888b-1814-fe0a-095e",
     "history": [
      {
       "current": "d1bcb8ac-9599-11ea-8d02-0242ac120007",
       "next": "d1bcba78-9599-11ea-8d02-0242ac120007",
       "previous": "d1bcb5c8-9599-11ea-8d02-0242ac120007"
      },
      {
       "current": "d1bcb8ac-9599-11ea-8d02-0242ac120007",
       "next": "d1bcba78-9599-11ea-8d02-0242ac120007",
       "previous": "a85c1dda-959a-11ea-8d02-0242ac120007"
      },
      {
       "current": "d1bcb8ac-9599-11ea-8d02-0242ac120007",
       "next": "81dd4f74-9597-11ea-8d02-0242ac120007",
       "previous": "a85c1dda-959a-11ea-8d02-0242ac120007"
      },
      {
       "current": "d1bcb8ac-9599-11ea-8d02-0242ac120007",
       "next": "e879cdac-95bf-11ea-8d02-0242ac120007",
       "previous": "a85c1dda-959a-11ea-8d02-0242ac120007"
      },
      {
       "current": "d1bcb8ac-9599-11ea-8d02-0242ac120007",
       "next": "7899411a-9692-11ea-8d02-0242ac120007",
       "previous": "bf249b06-98af-11ea-8d02-0242ac120007"
      },
      {
       "current": "d1bcb8ac-9599-11ea-8d02-0242ac120007",
       "next": "06afe9a8-98b0-11ea-8d02-0242ac120007",
       "previous": "bf249b06-98af-11ea-8d02-0242ac120007"
      },
      {
       "current": "d1bcb8ac-9599-11ea-8d02-0242ac120007",
       "next": "06afe9a8-98b0-11ea-8d02-0242ac120007",
       "previous": "dd8e3cbc-98f2-11ea-8d02-0242ac120007"
      },
      {
       "current": "d1bcb8ac-9599-11ea-8d02-0242ac120007-1-ec95",
       "next": "250e7a70-98f3-11ea-8d02-0242ac120007",
       "previous": "dd8e3cbc-98f2-11ea-8d02-0242ac120007"
      },
      {
       "current": "d1bcb8ac-9599-11ea-8d02-0242ac120007-2-ec95-2870",
       "next": "250e7a70-98f3-11ea-8d02-0242ac120007-1-f0b4",
       "previous": "dd8e3cbc-98f2-11ea-8d02-0242ac120007-1-706a"
      },
      {
       "current": "d1bcb8ac-9599-11ea-8d02-0242ac120007-2-ec95-2870",
       "next": "250e7a70-98f3-11ea-8d02-0242ac120007-2-f0b4-6edf",
       "previous": "dd8e3cbc-98f2-11ea-8d02-0242ac120007-2-706a-309d"
      },
      {
       "current": "d1bcb8ac-9599-11ea-8d02-0242ac120007-3-ec95-2870-3f6b",
       "next": "250e7a70-98f3-11ea-8d02-0242ac120007-2-f0b4-6edf",
       "previous": "bf249b06-98af-11ea-8d02-0242ac120007-2-1e49-e772"
      },
      {
       "current": "d1bcb8ac-9599-11ea-8d02-0242ac120007-3-ec95-2870-3f6b",
       "next": "250e7a70-98f3-11ea-8d02-0242ac120007-3-f0b4-6edf-9d40",
       "previous": "bf249b06-98af-11ea-8d02-0242ac120007-3-1e49-e772-9042"
      },
      {
       "current": "d1bcb8ac-9599-11ea-8d02-0242ac120007-4-ec95-2870-3f6b-c61b",
       "next": "2991a18c-6f17-11ee-89fa-0242ac120005",
       "previous": "bf249b06-98af-11ea-8d02-0242ac120007-3-1e49-e772-9042"
      },
      {
       "current": "d1bcb8ac-9599-11ea-8d02-0242ac120007-5-ec95-2870-3f6b-c61b-888b",
       "next": "2991a18c-6f17-11ee-89fa-0242ac120005-1-6c23",
       "previous": "bf249b06-98af-11ea-8d02-0242ac120007-4-1e49-e772-9042-2835"
      },
      {
       "current": "d1bcb8ac-9599-11ea-8d02-0242ac120007-6-ec95-2870-3f6b-c61b-888b-1814",
       "next": "2991a18c-6f17-11ee-89fa-0242ac120005-2-6c23-f069",
       "previous": "bf249b06-98af-11ea-8d02-0242ac120007-5-1e49-e772-9042-2835-417c"
      },
      {
       "current": "d1bcb8ac-9599-11ea-8d02-0242ac120007-6-ec95-2870-3f6b-c61b-888b-1814",
       "next": "2991a18c-6f17-11ee-89fa-0242ac120005-3-6c23-f069-b2bb",
       "previous": "bf249b06-98af-11ea-8d02-0242ac120007-6-1e49-e772-9042-2835-417c-2b22"
      },
      {
       "current": "d1bcb8ac-9599-11ea-8d02-0242ac120007-7-ec95-2870-3f6b-c61b-888b-1814-fe0a",
       "next": "711857b2-6f17-11ee-89fa-0242ac120005-3-2771-56bf-7c40",
       "previous": "bf249b06-98af-11ea-8d02-0242ac120007-6-1e49-e772-9042-2835-417c-2b22"
      },
      {
       "current": "d1bcb8ac-9599-11ea-8d02-0242ac120007-8-ec95-2870-3f6b-c61b-888b-1814-fe0a-095e",
       "next": "711857b2-6f17-11ee-89fa-0242ac120005-4-2771-56bf-7c40-9afa",
       "previous": "bf249b06-98af-11ea-8d02-0242ac120007-7-1e49-e772-9042-2835-417c-2b22-eec6"
      }
     ],
     "next": "711857b2-6f17-11ee-89fa-0242ac120005-5-2771-56bf-7c40-9afa-aa54",
     "previous": "bf249b06-98af-11ea-8d02-0242ac120007-8-1e49-e772-9042-2835-417c-2b22-eec6-7f89"
    },
    "scrolled": true
   },
   "outputs": [],
   "source": [
    "import os\n",
    "import csv\n",
    "import pandas as pd\n",
    "\n",
    "instance_ip_csv_path =  os.environ['HOME'] + \"/notebooks/share/configuration/ceph/ceph_instance_ip.csv\"\n",
    "instance_ip_list = []\n",
    "instance_ip_map = {}\n",
    "\n",
    "with open(instance_ip_csv_path, 'r') as path_csv:\n",
    "    reader = csv.DictReader(path_csv)\n",
    "    \n",
    "    for record in reader:\n",
    "        instance_ip_list.append(record)\n",
    "        instance_ip_map[record['instance_name']] = record\n",
    "\n",
    "pd.DataFrame(instance_ip_list)"
   ]
  },
  {
   "cell_type": "markdown",
   "metadata": {
    "lc_cell_meme": {
     "current": "711857b2-6f17-11ee-89fa-0242ac120005-5-2771-56bf-7c40-9afa-aa54",
     "history": [
      {
       "current": "711857b2-6f17-11ee-89fa-0242ac120005-1-2771",
       "next": "71185870-6f17-11ee-89fa-0242ac120005",
       "previous": "250e7a70-98f3-11ea-8d02-0242ac120007-3-f0b4-6edf-9d40"
      },
      {
       "current": "711857b2-6f17-11ee-89fa-0242ac120005-2-2771-56bf",
       "next": "71185870-6f17-11ee-89fa-0242ac120005-1-58bb",
       "previous": "250e7a70-98f3-11ea-8d02-0242ac120007-4-f0b4-6edf-9d40-a7fe"
      },
      {
       "current": "711857b2-6f17-11ee-89fa-0242ac120005-3-2771-56bf-7c40",
       "next": "71185870-6f17-11ee-89fa-0242ac120005-2-58bb-c2e4",
       "previous": "250e7a70-98f3-11ea-8d02-0242ac120007-5-f0b4-6edf-9d40-a7fe-1ed4"
      },
      {
       "current": "711857b2-6f17-11ee-89fa-0242ac120005-3-2771-56bf-7c40",
       "next": "71185870-6f17-11ee-89fa-0242ac120005-3-58bb-c2e4-7f14",
       "previous": "250e7a70-98f3-11ea-8d02-0242ac120007-6-f0b4-6edf-9d40-a7fe-1ed4-57ad"
      },
      {
       "current": "711857b2-6f17-11ee-89fa-0242ac120005-4-2771-56bf-7c40-9afa",
       "next": "71185870-6f17-11ee-89fa-0242ac120005-3-58bb-c2e4-7f14",
       "previous": "d1bcb8ac-9599-11ea-8d02-0242ac120007-6-ec95-2870-3f6b-c61b-888b-1814"
      },
      {
       "current": "711857b2-6f17-11ee-89fa-0242ac120005-5-2771-56bf-7c40-9afa-aa54",
       "next": "71185870-6f17-11ee-89fa-0242ac120005-4-58bb-c2e4-7f14-8e62",
       "previous": "d1bcb8ac-9599-11ea-8d02-0242ac120007-7-ec95-2870-3f6b-c61b-888b-1814-fe0a"
      }
     ],
     "next": "71185870-6f17-11ee-89fa-0242ac120005-5-58bb-c2e4-7f14-8e62-aa0f",
     "previous": "d1bcb8ac-9599-11ea-8d02-0242ac120007-8-ec95-2870-3f6b-c61b-888b-1814-fe0a-095e"
    }
   },
   "source": [
    "## 作業用ディレクトリを作成する"
   ]
  },
  {
   "cell_type": "code",
   "execution_count": null,
   "metadata": {
    "lc_cell_meme": {
     "current": "71185870-6f17-11ee-89fa-0242ac120005-5-58bb-c2e4-7f14-8e62-aa0f",
     "history": [
      {
       "current": "71185870-6f17-11ee-89fa-0242ac120005-1-58bb",
       "next": "711858ac-6f17-11ee-89fa-0242ac120005",
       "previous": "711857b2-6f17-11ee-89fa-0242ac120005"
      },
      {
       "current": "71185870-6f17-11ee-89fa-0242ac120005-2-58bb-c2e4",
       "next": "711858ac-6f17-11ee-89fa-0242ac120005-1-94d2",
       "previous": "711857b2-6f17-11ee-89fa-0242ac120005-1-2771"
      },
      {
       "current": "71185870-6f17-11ee-89fa-0242ac120005-3-58bb-c2e4-7f14",
       "next": "711858ac-6f17-11ee-89fa-0242ac120005-2-94d2-9a66",
       "previous": "711857b2-6f17-11ee-89fa-0242ac120005-2-2771-56bf"
      },
      {
       "current": "71185870-6f17-11ee-89fa-0242ac120005-4-58bb-c2e4-7f14-8e62",
       "next": "711858ac-6f17-11ee-89fa-0242ac120005-3-94d2-9a66-4b66",
       "previous": "711857b2-6f17-11ee-89fa-0242ac120005-3-2771-56bf-7c40"
      },
      {
       "current": "71185870-6f17-11ee-89fa-0242ac120005-5-58bb-c2e4-7f14-8e62-aa0f",
       "next": "711858ac-6f17-11ee-89fa-0242ac120005-4-94d2-9a66-4b66-cbc4",
       "previous": "711857b2-6f17-11ee-89fa-0242ac120005-4-2771-56bf-7c40-9afa"
      }
     ],
     "next": "711858ac-6f17-11ee-89fa-0242ac120005-5-94d2-9a66-4b66-cbc4-c309",
     "previous": "711857b2-6f17-11ee-89fa-0242ac120005-5-2771-56bf-7c40-9afa-aa54"
    }
   },
   "outputs": [],
   "source": [
    "import os,tempfile\n",
    "temp_dir = tempfile.mkdtemp()\n",
    "print (temp_dir)"
   ]
  },
  {
   "cell_type": "markdown",
   "metadata": {
    "lc_cell_meme": {
     "current": "711858ac-6f17-11ee-89fa-0242ac120005-5-94d2-9a66-4b66-cbc4-c309",
     "history": [
      {
       "current": "711858ac-6f17-11ee-89fa-0242ac120005-1-94d2",
       "next": "711858ca-6f17-11ee-89fa-0242ac120005",
       "previous": "71185870-6f17-11ee-89fa-0242ac120005"
      },
      {
       "current": "711858ac-6f17-11ee-89fa-0242ac120005-2-94d2-9a66",
       "next": "711858ca-6f17-11ee-89fa-0242ac120005-1-62db",
       "previous": "71185870-6f17-11ee-89fa-0242ac120005-1-58bb"
      },
      {
       "current": "711858ac-6f17-11ee-89fa-0242ac120005-3-94d2-9a66-4b66",
       "next": "711858ca-6f17-11ee-89fa-0242ac120005-2-62db-9d85",
       "previous": "71185870-6f17-11ee-89fa-0242ac120005-2-58bb-c2e4"
      },
      {
       "current": "711858ac-6f17-11ee-89fa-0242ac120005-4-94d2-9a66-4b66-cbc4",
       "next": "711858ca-6f17-11ee-89fa-0242ac120005-3-62db-9d85-e2b1",
       "previous": "71185870-6f17-11ee-89fa-0242ac120005-3-58bb-c2e4-7f14"
      },
      {
       "current": "711858ac-6f17-11ee-89fa-0242ac120005-5-94d2-9a66-4b66-cbc4-c309",
       "next": "711858ca-6f17-11ee-89fa-0242ac120005-4-62db-9d85-e2b1-e3c6",
       "previous": "71185870-6f17-11ee-89fa-0242ac120005-4-58bb-c2e4-7f14-8e62"
      }
     ],
     "next": "711858ca-6f17-11ee-89fa-0242ac120005-5-62db-9d85-e2b1-e3c6-a460",
     "previous": "71185870-6f17-11ee-89fa-0242ac120005-5-58bb-c2e4-7f14-8e62-aa0f"
    }
   },
   "source": [
    "## AnsibleのInventoryファイルを作業用ディレクトリへ作成する"
   ]
  },
  {
   "cell_type": "code",
   "execution_count": null,
   "metadata": {
    "lc_cell_meme": {
     "current": "711858ca-6f17-11ee-89fa-0242ac120005-5-62db-9d85-e2b1-e3c6-a460",
     "history": [
      {
       "current": "711858ca-6f17-11ee-89fa-0242ac120005-1-62db",
       "next": "711858f2-6f17-11ee-89fa-0242ac120005",
       "previous": "711858ac-6f17-11ee-89fa-0242ac120005"
      },
      {
       "current": "711858ca-6f17-11ee-89fa-0242ac120005-2-62db-9d85",
       "next": "711858f2-6f17-11ee-89fa-0242ac120005-1-c516",
       "previous": "711858ac-6f17-11ee-89fa-0242ac120005-1-94d2"
      },
      {
       "current": "711858ca-6f17-11ee-89fa-0242ac120005-3-62db-9d85-e2b1",
       "next": "711858f2-6f17-11ee-89fa-0242ac120005-2-c516-1718",
       "previous": "711858ac-6f17-11ee-89fa-0242ac120005-2-94d2-9a66"
      },
      {
       "current": "711858ca-6f17-11ee-89fa-0242ac120005-4-62db-9d85-e2b1-e3c6",
       "next": "711858f2-6f17-11ee-89fa-0242ac120005-3-c516-1718-176e",
       "previous": "711858ac-6f17-11ee-89fa-0242ac120005-3-94d2-9a66-4b66"
      },
      {
       "current": "711858ca-6f17-11ee-89fa-0242ac120005-5-62db-9d85-e2b1-e3c6-a460",
       "next": "711858f2-6f17-11ee-89fa-0242ac120005-4-c516-1718-176e-d761",
       "previous": "711858ac-6f17-11ee-89fa-0242ac120005-4-94d2-9a66-4b66-cbc4"
      }
     ],
     "next": "711858f2-6f17-11ee-89fa-0242ac120005-5-c516-1718-176e-d761-c6e2",
     "previous": "711858ac-6f17-11ee-89fa-0242ac120005-5-94d2-9a66-4b66-cbc4-c309"
    }
   },
   "outputs": [],
   "source": [
    "import os\n",
    "\n",
    "with open( os.path.join(temp_dir, \"hosts\"), 'w') as f:\n",
    "    f.write('''[openstack_ctl]\n",
    "{openstack_cmn}\n",
    "'''.format(openstack_cmn = provisioning_vip))\n",
    "\n",
    "hosts = temp_dir + \"/hosts\"\n",
    "!cat $hosts"
   ]
  },
  {
   "cell_type": "code",
   "execution_count": null,
   "metadata": {
    "lc_cell_meme": {
     "current": "711858f2-6f17-11ee-89fa-0242ac120005-5-c516-1718-176e-d761-c6e2",
     "history": [
      {
       "current": "711858f2-6f17-11ee-89fa-0242ac120005-1-c516",
       "next": "71185910-6f17-11ee-89fa-0242ac120005",
       "previous": "711858ca-6f17-11ee-89fa-0242ac120005"
      },
      {
       "current": "711858f2-6f17-11ee-89fa-0242ac120005-2-c516-1718",
       "next": "71185910-6f17-11ee-89fa-0242ac120005-1-d23a",
       "previous": "711858ca-6f17-11ee-89fa-0242ac120005-1-62db"
      },
      {
       "current": "711858f2-6f17-11ee-89fa-0242ac120005-3-c516-1718-176e",
       "next": "71185910-6f17-11ee-89fa-0242ac120005-2-d23a-2f98",
       "previous": "711858ca-6f17-11ee-89fa-0242ac120005-2-62db-9d85"
      },
      {
       "current": "711858f2-6f17-11ee-89fa-0242ac120005-4-c516-1718-176e-d761",
       "next": "71185910-6f17-11ee-89fa-0242ac120005-3-d23a-2f98-642a",
       "previous": "711858ca-6f17-11ee-89fa-0242ac120005-3-62db-9d85-e2b1"
      },
      {
       "current": "711858f2-6f17-11ee-89fa-0242ac120005-5-c516-1718-176e-d761-c6e2",
       "next": "71185910-6f17-11ee-89fa-0242ac120005-4-d23a-2f98-642a-24c2",
       "previous": "711858ca-6f17-11ee-89fa-0242ac120005-4-62db-9d85-e2b1-e3c6"
      }
     ],
     "next": "71185910-6f17-11ee-89fa-0242ac120005-5-d23a-2f98-642a-24c2-a313",
     "previous": "711858ca-6f17-11ee-89fa-0242ac120005-5-62db-9d85-e2b1-e3c6-a460"
    }
   },
   "outputs": [],
   "source": [
    "%env ANSIBLE_INVENTORY={hosts}"
   ]
  },
  {
   "cell_type": "markdown",
   "metadata": {
    "lc_cell_meme": {
     "current": "71185910-6f17-11ee-89fa-0242ac120005-5-d23a-2f98-642a-24c2-a313",
     "history": [
      {
       "current": "71185910-6f17-11ee-89fa-0242ac120005-1-d23a",
       "next": "7118592e-6f17-11ee-89fa-0242ac120005",
       "previous": "711858f2-6f17-11ee-89fa-0242ac120005"
      },
      {
       "current": "71185910-6f17-11ee-89fa-0242ac120005-2-d23a-2f98",
       "next": "7118592e-6f17-11ee-89fa-0242ac120005-1-ec32",
       "previous": "711858f2-6f17-11ee-89fa-0242ac120005-1-c516"
      },
      {
       "current": "71185910-6f17-11ee-89fa-0242ac120005-3-d23a-2f98-642a",
       "next": "7118592e-6f17-11ee-89fa-0242ac120005-2-ec32-e461",
       "previous": "711858f2-6f17-11ee-89fa-0242ac120005-2-c516-1718"
      },
      {
       "current": "71185910-6f17-11ee-89fa-0242ac120005-4-d23a-2f98-642a-24c2",
       "next": "7118592e-6f17-11ee-89fa-0242ac120005-3-ec32-e461-2a9c",
       "previous": "711858f2-6f17-11ee-89fa-0242ac120005-3-c516-1718-176e"
      },
      {
       "current": "71185910-6f17-11ee-89fa-0242ac120005-5-d23a-2f98-642a-24c2-a313",
       "next": "7118592e-6f17-11ee-89fa-0242ac120005-4-ec32-e461-2a9c-b09f",
       "previous": "711858f2-6f17-11ee-89fa-0242ac120005-4-c516-1718-176e-d761"
      }
     ],
     "next": "7118592e-6f17-11ee-89fa-0242ac120005-5-ec32-e461-2a9c-b09f-fd77",
     "previous": "711858f2-6f17-11ee-89fa-0242ac120005-5-c516-1718-176e-d761-c6e2"
    }
   },
   "source": [
    "疎通確認"
   ]
  },
  {
   "cell_type": "code",
   "execution_count": null,
   "metadata": {
    "lc_cell_meme": {
     "current": "7118592e-6f17-11ee-89fa-0242ac120005-5-ec32-e461-2a9c-b09f-fd77",
     "history": [
      {
       "current": "7118592e-6f17-11ee-89fa-0242ac120005-1-ec32",
       "next": "71185956-6f17-11ee-89fa-0242ac120005",
       "previous": "71185910-6f17-11ee-89fa-0242ac120005"
      },
      {
       "current": "7118592e-6f17-11ee-89fa-0242ac120005-2-ec32-e461",
       "next": "71185956-6f17-11ee-89fa-0242ac120005-1-a1ab",
       "previous": "71185910-6f17-11ee-89fa-0242ac120005-1-d23a"
      },
      {
       "current": "7118592e-6f17-11ee-89fa-0242ac120005-3-ec32-e461-2a9c",
       "next": "71185956-6f17-11ee-89fa-0242ac120005-2-a1ab-1937",
       "previous": "71185910-6f17-11ee-89fa-0242ac120005-2-d23a-2f98"
      },
      {
       "current": "7118592e-6f17-11ee-89fa-0242ac120005-4-ec32-e461-2a9c-b09f",
       "next": "71185956-6f17-11ee-89fa-0242ac120005-3-a1ab-1937-4044",
       "previous": "71185910-6f17-11ee-89fa-0242ac120005-3-d23a-2f98-642a"
      },
      {
       "current": "7118592e-6f17-11ee-89fa-0242ac120005-5-ec32-e461-2a9c-b09f-fd77",
       "next": "71185956-6f17-11ee-89fa-0242ac120005-4-a1ab-1937-4044-2813",
       "previous": "71185910-6f17-11ee-89fa-0242ac120005-4-d23a-2f98-642a-24c2"
      }
     ],
     "next": "71185956-6f17-11ee-89fa-0242ac120005-5-a1ab-1937-4044-2813-6000",
     "previous": "71185910-6f17-11ee-89fa-0242ac120005-5-d23a-2f98-642a-24c2-a313"
    }
   },
   "outputs": [],
   "source": [
    "!ansible -m ping openstack_ctl"
   ]
  },
  {
   "cell_type": "code",
   "execution_count": null,
   "metadata": {
    "lc_cell_meme": {
     "current": "71185956-6f17-11ee-89fa-0242ac120005-5-a1ab-1937-4044-2813-6000",
     "history": [
      {
       "current": "71185956-6f17-11ee-89fa-0242ac120005-1-a1ab",
       "next": "71185974-6f17-11ee-89fa-0242ac120005",
       "previous": "7118592e-6f17-11ee-89fa-0242ac120005"
      },
      {
       "current": "71185956-6f17-11ee-89fa-0242ac120005-2-a1ab-1937",
       "next": "71185974-6f17-11ee-89fa-0242ac120005-1-65fa",
       "previous": "7118592e-6f17-11ee-89fa-0242ac120005-1-ec32"
      },
      {
       "current": "71185956-6f17-11ee-89fa-0242ac120005-3-a1ab-1937-4044",
       "next": "71185974-6f17-11ee-89fa-0242ac120005-2-65fa-087f",
       "previous": "7118592e-6f17-11ee-89fa-0242ac120005-2-ec32-e461"
      },
      {
       "current": "71185956-6f17-11ee-89fa-0242ac120005-4-a1ab-1937-4044-2813",
       "next": "71185974-6f17-11ee-89fa-0242ac120005-3-65fa-087f-f292",
       "previous": "7118592e-6f17-11ee-89fa-0242ac120005-3-ec32-e461-2a9c"
      },
      {
       "current": "71185956-6f17-11ee-89fa-0242ac120005-5-a1ab-1937-4044-2813-6000",
       "next": "71185974-6f17-11ee-89fa-0242ac120005-4-65fa-087f-f292-b739",
       "previous": "7118592e-6f17-11ee-89fa-0242ac120005-4-ec32-e461-2a9c-b09f"
      }
     ],
     "next": "71185974-6f17-11ee-89fa-0242ac120005-5-65fa-087f-f292-b739-c894",
     "previous": "7118592e-6f17-11ee-89fa-0242ac120005-5-ec32-e461-2a9c-b09f-fd77"
    }
   },
   "outputs": [],
   "source": [
    "!ansible -a 'hostname' openstack_ctl"
   ]
  },
  {
   "cell_type": "markdown",
   "metadata": {
    "lc_cell_meme": {
     "current": "71185974-6f17-11ee-89fa-0242ac120005-5-65fa-087f-f292-b739-c894",
     "history": [
      {
       "current": "71185974-6f17-11ee-89fa-0242ac120005-1-65fa",
       "next": "7118599c-6f17-11ee-89fa-0242ac120005",
       "previous": "71185956-6f17-11ee-89fa-0242ac120005"
      },
      {
       "current": "71185974-6f17-11ee-89fa-0242ac120005-2-65fa-087f",
       "next": "7118599c-6f17-11ee-89fa-0242ac120005-1-214f",
       "previous": "71185956-6f17-11ee-89fa-0242ac120005-1-a1ab"
      },
      {
       "current": "71185974-6f17-11ee-89fa-0242ac120005-3-65fa-087f-f292",
       "next": "7118599c-6f17-11ee-89fa-0242ac120005-2-214f-50d2",
       "previous": "71185956-6f17-11ee-89fa-0242ac120005-2-a1ab-1937"
      },
      {
       "current": "71185974-6f17-11ee-89fa-0242ac120005-4-65fa-087f-f292-b739",
       "next": "7118599c-6f17-11ee-89fa-0242ac120005-3-214f-50d2-980f",
       "previous": "71185956-6f17-11ee-89fa-0242ac120005-3-a1ab-1937-4044"
      },
      {
       "current": "71185974-6f17-11ee-89fa-0242ac120005-5-65fa-087f-f292-b739-c894",
       "next": "7118599c-6f17-11ee-89fa-0242ac120005-4-214f-50d2-980f-eef0",
       "previous": "71185956-6f17-11ee-89fa-0242ac120005-4-a1ab-1937-4044-2813"
      }
     ],
     "next": "7118599c-6f17-11ee-89fa-0242ac120005-5-214f-50d2-980f-eef0-b286",
     "previous": "71185956-6f17-11ee-89fa-0242ac120005-5-a1ab-1937-4044-2813-6000"
    }
   },
   "source": [
    "## OpenStack用OpenRCファイル設定\n",
    "\n",
    "`xxxxxxx`プロジェクト用のOpenRCファイルを事前にダウンロードしておくこと。  "
   ]
  },
  {
   "cell_type": "code",
   "execution_count": null,
   "metadata": {
    "lc_cell_meme": {
     "current": "7118599c-6f17-11ee-89fa-0242ac120005-5-214f-50d2-980f-eef0-b286",
     "history": [
      {
       "current": "7118599c-6f17-11ee-89fa-0242ac120005-1-214f",
       "next": "711859ba-6f17-11ee-89fa-0242ac120005",
       "previous": "71185974-6f17-11ee-89fa-0242ac120005"
      },
      {
       "current": "7118599c-6f17-11ee-89fa-0242ac120005-2-214f-50d2",
       "next": "711859ba-6f17-11ee-89fa-0242ac120005-1-6d02",
       "previous": "71185974-6f17-11ee-89fa-0242ac120005-1-65fa"
      },
      {
       "current": "7118599c-6f17-11ee-89fa-0242ac120005-3-214f-50d2-980f",
       "next": "711859ba-6f17-11ee-89fa-0242ac120005-2-6d02-52dd",
       "previous": "71185974-6f17-11ee-89fa-0242ac120005-2-65fa-087f"
      },
      {
       "current": "7118599c-6f17-11ee-89fa-0242ac120005-4-214f-50d2-980f-eef0",
       "next": "711859ba-6f17-11ee-89fa-0242ac120005-3-6d02-52dd-7be7",
       "previous": "71185974-6f17-11ee-89fa-0242ac120005-3-65fa-087f-f292"
      },
      {
       "current": "7118599c-6f17-11ee-89fa-0242ac120005-5-214f-50d2-980f-eef0-b286",
       "next": "711859ba-6f17-11ee-89fa-0242ac120005-4-6d02-52dd-7be7-6ec5",
       "previous": "71185974-6f17-11ee-89fa-0242ac120005-4-65fa-087f-f292-b739"
      }
     ],
     "next": "711859ba-6f17-11ee-89fa-0242ac120005-5-6d02-52dd-7be7-6ec5-4cd5",
     "previous": "71185974-6f17-11ee-89fa-0242ac120005-5-65fa-087f-f292-b739-c894"
    }
   },
   "outputs": [],
   "source": [
    "import os\n",
    "\n",
    "user_creds = os.path.expanduser('~/.keys/xxxxxxx-openrc.sh')\n",
    "\n",
    "assert os.path.exists(user_creds), '{} is not exist'.format(user_creds)"
   ]
  },
  {
   "cell_type": "code",
   "execution_count": null,
   "metadata": {
    "lc_cell_meme": {
     "current": "711859ba-6f17-11ee-89fa-0242ac120005-5-6d02-52dd-7be7-6ec5-4cd5",
     "history": [
      {
       "current": "711859ba-6f17-11ee-89fa-0242ac120005-1-6d02",
       "next": "711859d8-6f17-11ee-89fa-0242ac120005",
       "previous": "7118599c-6f17-11ee-89fa-0242ac120005"
      },
      {
       "current": "711859ba-6f17-11ee-89fa-0242ac120005-2-6d02-52dd",
       "next": "711859d8-6f17-11ee-89fa-0242ac120005-1-9c54",
       "previous": "7118599c-6f17-11ee-89fa-0242ac120005-1-214f"
      },
      {
       "current": "711859ba-6f17-11ee-89fa-0242ac120005-3-6d02-52dd-7be7",
       "next": "711859d8-6f17-11ee-89fa-0242ac120005-2-9c54-a12e",
       "previous": "7118599c-6f17-11ee-89fa-0242ac120005-2-214f-50d2"
      },
      {
       "current": "711859ba-6f17-11ee-89fa-0242ac120005-4-6d02-52dd-7be7-6ec5",
       "next": "711859d8-6f17-11ee-89fa-0242ac120005-3-9c54-a12e-59ed",
       "previous": "7118599c-6f17-11ee-89fa-0242ac120005-3-214f-50d2-980f"
      },
      {
       "current": "711859ba-6f17-11ee-89fa-0242ac120005-5-6d02-52dd-7be7-6ec5-4cd5",
       "next": "711859d8-6f17-11ee-89fa-0242ac120005-4-9c54-a12e-59ed-d089",
       "previous": "7118599c-6f17-11ee-89fa-0242ac120005-4-214f-50d2-980f-eef0"
      }
     ],
     "next": "711859d8-6f17-11ee-89fa-0242ac120005-5-9c54-a12e-59ed-d089-5a78",
     "previous": "7118599c-6f17-11ee-89fa-0242ac120005-5-214f-50d2-980f-eef0-b286"
    }
   },
   "outputs": [],
   "source": [
    "%env USER_CREDS={user_creds}"
   ]
  },
  {
   "cell_type": "code",
   "execution_count": null,
   "metadata": {
    "lc_cell_meme": {
     "current": "711859d8-6f17-11ee-89fa-0242ac120005-5-9c54-a12e-59ed-d089-5a78",
     "history": [
      {
       "current": "711859d8-6f17-11ee-89fa-0242ac120005",
       "next": "71185a00-6f17-11ee-89fa-0242ac120005",
       "previous": "711859ba-6f17-11ee-89fa-0242ac120005"
      },
      {
       "current": "711859d8-6f17-11ee-89fa-0242ac120005-1-9c54",
       "next": "71185a00-6f17-11ee-89fa-0242ac120005-1-468f",
       "previous": "711859ba-6f17-11ee-89fa-0242ac120005"
      },
      {
       "current": "711859d8-6f17-11ee-89fa-0242ac120005-2-9c54-a12e",
       "next": "71185a00-6f17-11ee-89fa-0242ac120005-2-468f-ce86",
       "previous": "711859ba-6f17-11ee-89fa-0242ac120005-1-6d02"
      },
      {
       "current": "711859d8-6f17-11ee-89fa-0242ac120005-3-9c54-a12e-59ed",
       "next": "71185a00-6f17-11ee-89fa-0242ac120005-3-468f-ce86-5060",
       "previous": "711859ba-6f17-11ee-89fa-0242ac120005-2-6d02-52dd"
      },
      {
       "current": "711859d8-6f17-11ee-89fa-0242ac120005-4-9c54-a12e-59ed-d089",
       "next": "71185a00-6f17-11ee-89fa-0242ac120005-4-468f-ce86-5060-9af1",
       "previous": "711859ba-6f17-11ee-89fa-0242ac120005-3-6d02-52dd-7be7"
      },
      {
       "current": "711859d8-6f17-11ee-89fa-0242ac120005-5-9c54-a12e-59ed-d089-5a78",
       "next": "71185a00-6f17-11ee-89fa-0242ac120005-5-468f-ce86-5060-9af1-3ae5",
       "previous": "711859ba-6f17-11ee-89fa-0242ac120005-4-6d02-52dd-7be7-6ec5"
      }
     ],
     "next": "71185a00-6f17-11ee-89fa-0242ac120005-6-468f-ce86-5060-9af1-3ae5-65cc",
     "previous": "711859ba-6f17-11ee-89fa-0242ac120005-5-6d02-52dd-7be7-6ec5-4cd5"
    }
   },
   "outputs": [],
   "source": [
    "!ls -l {user_creds}"
   ]
  },
  {
   "cell_type": "markdown",
   "metadata": {
    "heading_collapsed": true,
    "lc_cell_meme": {
     "current": "71185a00-6f17-11ee-89fa-0242ac120005-6-468f-ce86-5060-9af1-3ae5-65cc",
     "history": [
      {
       "current": "71185a00-6f17-11ee-89fa-0242ac120005-2-468f-ce86",
       "next": "71185a1e-6f17-11ee-89fa-0242ac120005",
       "previous": "711859d8-6f17-11ee-89fa-0242ac120005"
      },
      {
       "current": "71185a00-6f17-11ee-89fa-0242ac120005-3-468f-ce86-5060",
       "next": "71185a1e-6f17-11ee-89fa-0242ac120005-1-60cc",
       "previous": "711859d8-6f17-11ee-89fa-0242ac120005-1-9c54"
      },
      {
       "current": "71185a00-6f17-11ee-89fa-0242ac120005-4-468f-ce86-5060-9af1",
       "next": "71185a1e-6f17-11ee-89fa-0242ac120005-2-60cc-58a9",
       "previous": "711859d8-6f17-11ee-89fa-0242ac120005-2-9c54-a12e"
      },
      {
       "current": "71185a00-6f17-11ee-89fa-0242ac120005-5-468f-ce86-5060-9af1-3ae5",
       "next": "71185a1e-6f17-11ee-89fa-0242ac120005-3-60cc-58a9-b002",
       "previous": "711859d8-6f17-11ee-89fa-0242ac120005-3-9c54-a12e-59ed"
      },
      {
       "current": "71185a00-6f17-11ee-89fa-0242ac120005-6-468f-ce86-5060-9af1-3ae5-65cc",
       "next": "71185a1e-6f17-11ee-89fa-0242ac120005-4-60cc-58a9-b002-8c67",
       "previous": "711859d8-6f17-11ee-89fa-0242ac120005-4-9c54-a12e-59ed-d089"
      }
     ],
     "next": "71185a1e-6f17-11ee-89fa-0242ac120005-5-60cc-58a9-b002-8c67-7713",
     "previous": "711859d8-6f17-11ee-89fa-0242ac120005-5-9c54-a12e-59ed-d089-5a78"
    }
   },
   "source": [
    "## openstackコマンド用ユーティリティ関数"
   ]
  },
  {
   "cell_type": "code",
   "execution_count": null,
   "metadata": {
    "hidden": true,
    "lc_cell_meme": {
     "current": "71185a1e-6f17-11ee-89fa-0242ac120005-5-60cc-58a9-b002-8c67-7713",
     "history": [
      {
       "current": "71185a1e-6f17-11ee-89fa-0242ac120005",
       "next": "71185a3c-6f17-11ee-89fa-0242ac120005",
       "previous": "71185a00-6f17-11ee-89fa-0242ac120005"
      },
      {
       "current": "71185a1e-6f17-11ee-89fa-0242ac120005-1-60cc",
       "next": "b8a5691c-6f17-11ee-89fa-0242ac120005",
       "previous": "71185a00-6f17-11ee-89fa-0242ac120005-1-468f"
      },
      {
       "current": "71185a1e-6f17-11ee-89fa-0242ac120005-2-60cc-58a9",
       "next": "b8a5691c-6f17-11ee-89fa-0242ac120005-1-af44",
       "previous": "71185a00-6f17-11ee-89fa-0242ac120005-2-468f-ce86"
      },
      {
       "current": "71185a1e-6f17-11ee-89fa-0242ac120005-3-60cc-58a9-b002",
       "next": "b8a5691c-6f17-11ee-89fa-0242ac120005-2-af44-81c0",
       "previous": "71185a00-6f17-11ee-89fa-0242ac120005-3-468f-ce86-5060"
      },
      {
       "current": "71185a1e-6f17-11ee-89fa-0242ac120005-4-60cc-58a9-b002-8c67",
       "next": "b8a5691c-6f17-11ee-89fa-0242ac120005-3-af44-81c0-c7b7",
       "previous": "71185a00-6f17-11ee-89fa-0242ac120005-4-468f-ce86-5060-9af1"
      },
      {
       "current": "71185a1e-6f17-11ee-89fa-0242ac120005-5-60cc-58a9-b002-8c67-7713",
       "next": "b8a5691c-6f17-11ee-89fa-0242ac120005-4-af44-81c0-c7b7-2c9c",
       "previous": "71185a00-6f17-11ee-89fa-0242ac120005-5-468f-ce86-5060-9af1-3ae5"
      }
     ],
     "next": "b8a5691c-6f17-11ee-89fa-0242ac120005-5-af44-81c0-c7b7-2c9c-9273",
     "previous": "71185a00-6f17-11ee-89fa-0242ac120005-6-468f-ce86-5060-9af1-3ae5-65cc"
    }
   },
   "outputs": [],
   "source": [
    "def build_cmdline(param):\n",
    "    cmdline = ''\n",
    "    \n",
    "    for param_name, param_value in param.items():\n",
    "        if isinstance(param_value, dict):\n",
    "            for key, value in param_value.items():\n",
    "                cmdline += ' --{} {}={}'.format(param_name, key, value)\n",
    "        elif isinstance(param_value, list):\n",
    "            for item in param_value:\n",
    "                cmdline += ' --{} {}'.format(param_name, item)\n",
    "        elif isinstance(param_value, bool):\n",
    "            if param_value:\n",
    "                cmdline += ' --{}'.format(param_name)\n",
    "        else:\n",
    "            cmdline += ' --{} {}'.format(param_name, param_value)\n",
    "\n",
    "    return cmdline"
   ]
  },
  {
   "cell_type": "code",
   "execution_count": null,
   "metadata": {
    "hidden": true,
    "lc_cell_meme": {
     "current": "b8a5691c-6f17-11ee-89fa-0242ac120005-5-af44-81c0-c7b7-2c9c-9273",
     "history": [
      {
       "current": "b8a5691c-6f17-11ee-89fa-0242ac120005-1-af44",
       "next": "b8a56a7a-6f17-11ee-89fa-0242ac120005",
       "previous": "71185a1e-6f17-11ee-89fa-0242ac120005"
      },
      {
       "current": "b8a5691c-6f17-11ee-89fa-0242ac120005-2-af44-81c0",
       "next": "b8a56a7a-6f17-11ee-89fa-0242ac120005-1-c9da",
       "previous": "71185a1e-6f17-11ee-89fa-0242ac120005-1-60cc"
      },
      {
       "current": "b8a5691c-6f17-11ee-89fa-0242ac120005-3-af44-81c0-c7b7",
       "next": "b8a56a7a-6f17-11ee-89fa-0242ac120005-2-c9da-944b",
       "previous": "71185a1e-6f17-11ee-89fa-0242ac120005-2-60cc-58a9"
      },
      {
       "current": "b8a5691c-6f17-11ee-89fa-0242ac120005-4-af44-81c0-c7b7-2c9c",
       "next": "b8a56a7a-6f17-11ee-89fa-0242ac120005-3-c9da-944b-7715",
       "previous": "71185a1e-6f17-11ee-89fa-0242ac120005-3-60cc-58a9-b002"
      },
      {
       "current": "b8a5691c-6f17-11ee-89fa-0242ac120005-5-af44-81c0-c7b7-2c9c-9273",
       "next": "b8a56a7a-6f17-11ee-89fa-0242ac120005-4-c9da-944b-7715-d5ed",
       "previous": "71185a1e-6f17-11ee-89fa-0242ac120005-4-60cc-58a9-b002-8c67"
      }
     ],
     "next": "b8a56a7a-6f17-11ee-89fa-0242ac120005-5-c9da-944b-7715-d5ed-bb70",
     "previous": "71185a1e-6f17-11ee-89fa-0242ac120005-5-60cc-58a9-b002-8c67-7713"
    }
   },
   "outputs": [],
   "source": [
    "import json\n",
    "\n",
    "def run_openstack(cmd):\n",
    "    print('EXEC: {}'.format(cmd))\n",
    "    out = !source {user_creds} && {cmd}\n",
    "    print('OUTPUT: {}'.format('\\n'.join(out)))\n",
    "    return json.loads('\\n'.join(out))"
   ]
  },
  {
   "cell_type": "markdown",
   "metadata": {
    "hidden": true,
    "lc_cell_meme": {
     "current": "b8a56a7a-6f17-11ee-89fa-0242ac120005-5-c9da-944b-7715-d5ed-bb70",
     "history": [
      {
       "current": "b8a56a7a-6f17-11ee-89fa-0242ac120005-1-c9da",
       "next": "b8a56afc-6f17-11ee-89fa-0242ac120005",
       "previous": "b8a5691c-6f17-11ee-89fa-0242ac120005"
      },
      {
       "current": "b8a56a7a-6f17-11ee-89fa-0242ac120005-2-c9da-944b",
       "next": "b8a56afc-6f17-11ee-89fa-0242ac120005-1-a973",
       "previous": "b8a5691c-6f17-11ee-89fa-0242ac120005-1-af44"
      },
      {
       "current": "b8a56a7a-6f17-11ee-89fa-0242ac120005-3-c9da-944b-7715",
       "next": "b8a56afc-6f17-11ee-89fa-0242ac120005-2-a973-ba9b",
       "previous": "b8a5691c-6f17-11ee-89fa-0242ac120005-2-af44-81c0"
      },
      {
       "current": "b8a56a7a-6f17-11ee-89fa-0242ac120005-4-c9da-944b-7715-d5ed",
       "next": "b8a56afc-6f17-11ee-89fa-0242ac120005-3-a973-ba9b-261d",
       "previous": "b8a5691c-6f17-11ee-89fa-0242ac120005-3-af44-81c0-c7b7"
      },
      {
       "current": "b8a56a7a-6f17-11ee-89fa-0242ac120005-5-c9da-944b-7715-d5ed-bb70",
       "next": "b8a56afc-6f17-11ee-89fa-0242ac120005-4-a973-ba9b-261d-2374",
       "previous": "b8a5691c-6f17-11ee-89fa-0242ac120005-4-af44-81c0-c7b7-2c9c"
      }
     ],
     "next": "b8a56afc-6f17-11ee-89fa-0242ac120005-5-a973-ba9b-261d-2374-8d5d",
     "previous": "b8a5691c-6f17-11ee-89fa-0242ac120005-5-af44-81c0-c7b7-2c9c-9273"
    }
   },
   "source": [
    "テスト"
   ]
  },
  {
   "cell_type": "code",
   "execution_count": null,
   "metadata": {
    "hidden": true,
    "lc_cell_meme": {
     "current": "b8a56afc-6f17-11ee-89fa-0242ac120005-5-a973-ba9b-261d-2374-8d5d",
     "history": [
      {
       "current": "b8a56afc-6f17-11ee-89fa-0242ac120005-1-a973",
       "next": "06afe9a8-98b0-11ea-8d02-0242ac120007-3-a1c1-faf0-55bd",
       "previous": "b8a56a7a-6f17-11ee-89fa-0242ac120005"
      },
      {
       "current": "b8a56afc-6f17-11ee-89fa-0242ac120005-2-a973-ba9b",
       "next": "06afe9a8-98b0-11ea-8d02-0242ac120007-4-a1c1-faf0-55bd-b7ca",
       "previous": "b8a56a7a-6f17-11ee-89fa-0242ac120005-1-c9da"
      },
      {
       "current": "b8a56afc-6f17-11ee-89fa-0242ac120005-3-a973-ba9b-261d",
       "next": "06afe9a8-98b0-11ea-8d02-0242ac120007-5-a1c1-faf0-55bd-b7ca-9dbc",
       "previous": "b8a56a7a-6f17-11ee-89fa-0242ac120005-2-c9da-944b"
      },
      {
       "current": "b8a56afc-6f17-11ee-89fa-0242ac120005-4-a973-ba9b-261d-2374",
       "next": "06afe9a8-98b0-11ea-8d02-0242ac120007-6-a1c1-faf0-55bd-b7ca-9dbc-12ac",
       "previous": "b8a56a7a-6f17-11ee-89fa-0242ac120005-3-c9da-944b-7715"
      },
      {
       "current": "b8a56afc-6f17-11ee-89fa-0242ac120005-5-a973-ba9b-261d-2374-8d5d",
       "next": "06afe9a8-98b0-11ea-8d02-0242ac120007-7-a1c1-faf0-55bd-b7ca-9dbc-12ac-1322",
       "previous": "b8a56a7a-6f17-11ee-89fa-0242ac120005-4-c9da-944b-7715-d5ed"
      }
     ],
     "next": "06afe9a8-98b0-11ea-8d02-0242ac120007-8-a1c1-faf0-55bd-b7ca-9dbc-12ac-1322-6597",
     "previous": "b8a56a7a-6f17-11ee-89fa-0242ac120005-5-c9da-944b-7715-d5ed-bb70"
    }
   },
   "outputs": [],
   "source": [
    "run_openstack('openstack flavor list -f json' + build_cmdline({'all': True}))"
   ]
  },
  {
   "cell_type": "markdown",
   "metadata": {
    "lc_cell_meme": {
     "current": "06afe9a8-98b0-11ea-8d02-0242ac120007-8-a1c1-faf0-55bd-b7ca-9dbc-12ac-1322-6597",
     "history": [
      {
       "current": "06afe9a8-98b0-11ea-8d02-0242ac120007",
       "next": "7899411a-9692-11ea-8d02-0242ac120007",
       "previous": "d1bcb8ac-9599-11ea-8d02-0242ac120007"
      },
      {
       "current": "06afe9a8-98b0-11ea-8d02-0242ac120007-1-a1c1",
       "next": "7899411a-9692-11ea-8d02-0242ac120007",
       "previous": "250e7a70-98f3-11ea-8d02-0242ac120007"
      },
      {
       "current": "06afe9a8-98b0-11ea-8d02-0242ac120007-2-a1c1-faf0",
       "next": "7899411a-9692-11ea-8d02-0242ac120007-1-2cd2",
       "previous": "250e7a70-98f3-11ea-8d02-0242ac120007-1-f0b4"
      },
      {
       "current": "06afe9a8-98b0-11ea-8d02-0242ac120007-2-a1c1-faf0",
       "next": "7899411a-9692-11ea-8d02-0242ac120007-2-2cd2-395d",
       "previous": "250e7a70-98f3-11ea-8d02-0242ac120007-2-f0b4-6edf"
      },
      {
       "current": "06afe9a8-98b0-11ea-8d02-0242ac120007-2-a1c1-faf0",
       "next": "04bfc54e-defc-11eb-b29f-0242ac120008",
       "previous": "250e7a70-98f3-11ea-8d02-0242ac120007-2-f0b4-6edf"
      },
      {
       "current": "06afe9a8-98b0-11ea-8d02-0242ac120007-3-a1c1-faf0-55bd",
       "next": "329a4046-dfad-11eb-b29f-0242ac120008",
       "previous": "250e7a70-98f3-11ea-8d02-0242ac120007-2-f0b4-6edf"
      },
      {
       "current": "06afe9a8-98b0-11ea-8d02-0242ac120007-3-a1c1-faf0-55bd",
       "next": "329a4046-dfad-11eb-b29f-0242ac120008-1-1375",
       "previous": "250e7a70-98f3-11ea-8d02-0242ac120007-3-f0b4-6edf-9d40"
      },
      {
       "current": "06afe9a8-98b0-11ea-8d02-0242ac120007-3-a1c1-faf0-55bd",
       "next": "329a4046-dfad-11eb-b29f-0242ac120008-1-1375",
       "previous": "71185a3c-6f17-11ee-89fa-0242ac120005"
      },
      {
       "current": "06afe9a8-98b0-11ea-8d02-0242ac120007-4-a1c1-faf0-55bd-b7ca",
       "next": "329a4046-dfad-11eb-b29f-0242ac120008-1-1375",
       "previous": "b8a56afc-6f17-11ee-89fa-0242ac120005"
      },
      {
       "current": "06afe9a8-98b0-11ea-8d02-0242ac120007-5-a1c1-faf0-55bd-b7ca-9dbc",
       "next": "329a4046-dfad-11eb-b29f-0242ac120008-2-1375-cdec",
       "previous": "b8a56afc-6f17-11ee-89fa-0242ac120005-1-a973"
      },
      {
       "current": "06afe9a8-98b0-11ea-8d02-0242ac120007-6-a1c1-faf0-55bd-b7ca-9dbc-12ac",
       "next": "329a4046-dfad-11eb-b29f-0242ac120008-3-1375-cdec-b933",
       "previous": "b8a56afc-6f17-11ee-89fa-0242ac120005-2-a973-ba9b"
      },
      {
       "current": "06afe9a8-98b0-11ea-8d02-0242ac120007-7-a1c1-faf0-55bd-b7ca-9dbc-12ac-1322",
       "next": "329a4046-dfad-11eb-b29f-0242ac120008-4-1375-cdec-b933-fa4e",
       "previous": "b8a56afc-6f17-11ee-89fa-0242ac120005-3-a973-ba9b-261d"
      },
      {
       "current": "06afe9a8-98b0-11ea-8d02-0242ac120007-8-a1c1-faf0-55bd-b7ca-9dbc-12ac-1322-6597",
       "next": "329a4046-dfad-11eb-b29f-0242ac120008-5-1375-cdec-b933-fa4e-a904",
       "previous": "b8a56afc-6f17-11ee-89fa-0242ac120005-4-a973-ba9b-261d-2374"
      }
     ],
     "next": "329a4046-dfad-11eb-b29f-0242ac120008-6-1375-cdec-b933-fa4e-a904-c863",
     "previous": "b8a56afc-6f17-11ee-89fa-0242ac120005-5-a973-ba9b-261d-2374-8d5d"
    }
   },
   "source": [
    "## デプロイされたCephノード情報の取得"
   ]
  },
  {
   "cell_type": "markdown",
   "metadata": {
    "lc_cell_meme": {
     "current": "329a4046-dfad-11eb-b29f-0242ac120008-6-1375-cdec-b933-fa4e-a904-c863",
     "history": [
      {
       "current": "329a4046-dfad-11eb-b29f-0242ac120008-1-1375",
       "next": "329a4348-dfad-11eb-b29f-0242ac120008",
       "previous": "06afe9a8-98b0-11ea-8d02-0242ac120007-2-a1c1-faf0"
      },
      {
       "current": "329a4046-dfad-11eb-b29f-0242ac120008-1-1375",
       "next": "329a4348-dfad-11eb-b29f-0242ac120008-1-ed21",
       "previous": "06afe9a8-98b0-11ea-8d02-0242ac120007-3-a1c1-faf0-55bd"
      },
      {
       "current": "329a4046-dfad-11eb-b29f-0242ac120008-2-1375-cdec",
       "next": "b8a56c28-6f17-11ee-89fa-0242ac120005",
       "previous": "06afe9a8-98b0-11ea-8d02-0242ac120007-3-a1c1-faf0-55bd"
      },
      {
       "current": "329a4046-dfad-11eb-b29f-0242ac120008-3-1375-cdec-b933",
       "next": "b8a56c28-6f17-11ee-89fa-0242ac120005-1-f4e4",
       "previous": "06afe9a8-98b0-11ea-8d02-0242ac120007-4-a1c1-faf0-55bd-b7ca"
      },
      {
       "current": "329a4046-dfad-11eb-b29f-0242ac120008-4-1375-cdec-b933-fa4e",
       "next": "b8a56c28-6f17-11ee-89fa-0242ac120005-2-f4e4-e62c",
       "previous": "06afe9a8-98b0-11ea-8d02-0242ac120007-5-a1c1-faf0-55bd-b7ca-9dbc"
      },
      {
       "current": "329a4046-dfad-11eb-b29f-0242ac120008-5-1375-cdec-b933-fa4e-a904",
       "next": "b8a56c28-6f17-11ee-89fa-0242ac120005-3-f4e4-e62c-aed6",
       "previous": "06afe9a8-98b0-11ea-8d02-0242ac120007-6-a1c1-faf0-55bd-b7ca-9dbc-12ac"
      },
      {
       "current": "329a4046-dfad-11eb-b29f-0242ac120008-6-1375-cdec-b933-fa4e-a904-c863",
       "next": "b8a56c28-6f17-11ee-89fa-0242ac120005-4-f4e4-e62c-aed6-45b1",
       "previous": "06afe9a8-98b0-11ea-8d02-0242ac120007-7-a1c1-faf0-55bd-b7ca-9dbc-12ac-1322"
      }
     ],
     "next": "b8a56c28-6f17-11ee-89fa-0242ac120005-5-f4e4-e62c-aed6-45b1-1968",
     "previous": "06afe9a8-98b0-11ea-8d02-0242ac120007-8-a1c1-faf0-55bd-b7ca-9dbc-12ac-1322-6597"
    }
   },
   "source": [
    "ストレージノードを特定するにあたり、ノード名称が　ceph-nodexxx （xxxの部分は、右寄せ0埋めの数字3桁）というルールに従っていることを前提としている。<br>\n",
    " 例：ceph-node001<br>\n",
    " このノード名称ルールは、構築するCephクラスタ毎に変えるため、以下で定義する。"
   ]
  },
  {
   "cell_type": "code",
   "execution_count": null,
   "metadata": {
    "lc_cell_meme": {
     "current": "b8a56c28-6f17-11ee-89fa-0242ac120005-5-f4e4-e62c-aed6-45b1-1968",
     "history": [
      {
       "current": "b8a56c28-6f17-11ee-89fa-0242ac120005-1-f4e4",
       "next": "329a4348-dfad-11eb-b29f-0242ac120008-1-ed21",
       "previous": "329a4046-dfad-11eb-b29f-0242ac120008-1-1375"
      },
      {
       "current": "b8a56c28-6f17-11ee-89fa-0242ac120005-2-f4e4-e62c",
       "next": "329a4348-dfad-11eb-b29f-0242ac120008-2-ed21-17b7",
       "previous": "329a4046-dfad-11eb-b29f-0242ac120008-2-1375-cdec"
      },
      {
       "current": "b8a56c28-6f17-11ee-89fa-0242ac120005-3-f4e4-e62c-aed6",
       "next": "329a4348-dfad-11eb-b29f-0242ac120008-3-ed21-17b7-2c83",
       "previous": "329a4046-dfad-11eb-b29f-0242ac120008-3-1375-cdec-b933"
      },
      {
       "current": "b8a56c28-6f17-11ee-89fa-0242ac120005-4-f4e4-e62c-aed6-45b1",
       "next": "329a4348-dfad-11eb-b29f-0242ac120008-4-ed21-17b7-2c83-5dae",
       "previous": "329a4046-dfad-11eb-b29f-0242ac120008-4-1375-cdec-b933-fa4e"
      },
      {
       "current": "b8a56c28-6f17-11ee-89fa-0242ac120005-5-f4e4-e62c-aed6-45b1-1968",
       "next": "329a4348-dfad-11eb-b29f-0242ac120008-5-ed21-17b7-2c83-5dae-9423",
       "previous": "329a4046-dfad-11eb-b29f-0242ac120008-5-1375-cdec-b933-fa4e-a904"
      }
     ],
     "next": "329a4348-dfad-11eb-b29f-0242ac120008-6-ed21-17b7-2c83-5dae-9423-8c07",
     "previous": "329a4046-dfad-11eb-b29f-0242ac120008-6-1375-cdec-b933-fa4e-a904-c863"
    }
   },
   "outputs": [],
   "source": [
    "# 初期化対象のインスタンス名称を設定する\n",
    "raise Exception('この先手作業が必要です')"
   ]
  },
  {
   "cell_type": "code",
   "execution_count": null,
   "metadata": {
    "lc_cell_meme": {
     "current": "329a4348-dfad-11eb-b29f-0242ac120008-6-ed21-17b7-2c83-5dae-9423-8c07",
     "history": [
      {
       "current": "329a4348-dfad-11eb-b29f-0242ac120008-1-ed21",
       "next": "04bfc54e-defc-11eb-b29f-0242ac120008",
       "previous": "329a4046-dfad-11eb-b29f-0242ac120008"
      },
      {
       "current": "329a4348-dfad-11eb-b29f-0242ac120008-1-ed21",
       "next": "04bfc54e-defc-11eb-b29f-0242ac120008-1-5336",
       "previous": "329a4046-dfad-11eb-b29f-0242ac120008-1-1375"
      },
      {
       "current": "329a4348-dfad-11eb-b29f-0242ac120008-2-ed21-17b7",
       "next": "b8a56c96-6f17-11ee-89fa-0242ac120005",
       "previous": "b8a56c28-6f17-11ee-89fa-0242ac120005"
      },
      {
       "current": "329a4348-dfad-11eb-b29f-0242ac120008-3-ed21-17b7-2c83",
       "next": "b8a56c96-6f17-11ee-89fa-0242ac120005-1-2895",
       "previous": "b8a56c28-6f17-11ee-89fa-0242ac120005-1-f4e4"
      },
      {
       "current": "329a4348-dfad-11eb-b29f-0242ac120008-4-ed21-17b7-2c83-5dae",
       "next": "b8a56c96-6f17-11ee-89fa-0242ac120005-2-2895-01cf",
       "previous": "b8a56c28-6f17-11ee-89fa-0242ac120005-2-f4e4-e62c"
      },
      {
       "current": "329a4348-dfad-11eb-b29f-0242ac120008-5-ed21-17b7-2c83-5dae-9423",
       "next": "b8a56c96-6f17-11ee-89fa-0242ac120005-3-2895-01cf-c3e7",
       "previous": "b8a56c28-6f17-11ee-89fa-0242ac120005-3-f4e4-e62c-aed6"
      },
      {
       "current": "329a4348-dfad-11eb-b29f-0242ac120008-6-ed21-17b7-2c83-5dae-9423-8c07",
       "next": "b8a56c96-6f17-11ee-89fa-0242ac120005-4-2895-01cf-c3e7-6e15",
       "previous": "b8a56c28-6f17-11ee-89fa-0242ac120005-4-f4e4-e62c-aed6-45b1"
      }
     ],
     "next": "b8a56c96-6f17-11ee-89fa-0242ac120005-5-2895-01cf-c3e7-6e15-e8cc",
     "previous": "b8a56c28-6f17-11ee-89fa-0242ac120005-5-f4e4-e62c-aed6-45b1-1968"
    }
   },
   "outputs": [],
   "source": [
    "import pandas as pd\n",
    "import re\n",
    "\n",
    "# 対象インスタンス名称マッチングルール\n",
    "name_match_rule = r'ceph-xxx-node-[0-9]+'"
   ]
  },
  {
   "cell_type": "markdown",
   "metadata": {
    "heading_collapsed": true,
    "lc_cell_meme": {
     "current": "b8a56c96-6f17-11ee-89fa-0242ac120005-5-2895-01cf-c3e7-6e15-e8cc",
     "history": [
      {
       "current": "b8a56c96-6f17-11ee-89fa-0242ac120005-1-2895",
       "next": "b8a56cf0-6f17-11ee-89fa-0242ac120005",
       "previous": "329a4348-dfad-11eb-b29f-0242ac120008-1-ed21"
      },
      {
       "current": "b8a56c96-6f17-11ee-89fa-0242ac120005-2-2895-01cf",
       "next": "b8a56cf0-6f17-11ee-89fa-0242ac120005-1-98e9",
       "previous": "329a4348-dfad-11eb-b29f-0242ac120008-2-ed21-17b7"
      },
      {
       "current": "b8a56c96-6f17-11ee-89fa-0242ac120005-3-2895-01cf-c3e7",
       "next": "b8a56cf0-6f17-11ee-89fa-0242ac120005-2-98e9-3108",
       "previous": "329a4348-dfad-11eb-b29f-0242ac120008-3-ed21-17b7-2c83"
      },
      {
       "current": "b8a56c96-6f17-11ee-89fa-0242ac120005-4-2895-01cf-c3e7-6e15",
       "next": "b8a56cf0-6f17-11ee-89fa-0242ac120005-3-98e9-3108-844c",
       "previous": "329a4348-dfad-11eb-b29f-0242ac120008-4-ed21-17b7-2c83-5dae"
      },
      {
       "current": "b8a56c96-6f17-11ee-89fa-0242ac120005-5-2895-01cf-c3e7-6e15-e8cc",
       "next": "b8a56cf0-6f17-11ee-89fa-0242ac120005-4-98e9-3108-844c-e3d2",
       "previous": "329a4348-dfad-11eb-b29f-0242ac120008-5-ed21-17b7-2c83-5dae-9423"
      }
     ],
     "next": "b8a56cf0-6f17-11ee-89fa-0242ac120005-5-98e9-3108-844c-e3d2-4bf3",
     "previous": "329a4348-dfad-11eb-b29f-0242ac120008-6-ed21-17b7-2c83-5dae-9423-8c07"
    }
   },
   "source": [
    "## OpenStack Ironicからノード情報の取得"
   ]
  },
  {
   "cell_type": "code",
   "execution_count": null,
   "metadata": {
    "hidden": true,
    "lc_cell_meme": {
     "current": "b8a56cf0-6f17-11ee-89fa-0242ac120005-5-98e9-3108-844c-e3d2-4bf3",
     "history": [
      {
       "current": "b8a56cf0-6f17-11ee-89fa-0242ac120005-1-98e9",
       "next": "b8a56d54-6f17-11ee-89fa-0242ac120005",
       "previous": "b8a56c96-6f17-11ee-89fa-0242ac120005"
      },
      {
       "current": "b8a56cf0-6f17-11ee-89fa-0242ac120005-2-98e9-3108",
       "next": "b8a56d54-6f17-11ee-89fa-0242ac120005-1-7f03",
       "previous": "b8a56c96-6f17-11ee-89fa-0242ac120005-1-2895"
      },
      {
       "current": "b8a56cf0-6f17-11ee-89fa-0242ac120005-3-98e9-3108-844c",
       "next": "b8a56d54-6f17-11ee-89fa-0242ac120005-2-7f03-fda9",
       "previous": "b8a56c96-6f17-11ee-89fa-0242ac120005-2-2895-01cf"
      },
      {
       "current": "b8a56cf0-6f17-11ee-89fa-0242ac120005-4-98e9-3108-844c-e3d2",
       "next": "b8a56d54-6f17-11ee-89fa-0242ac120005-3-7f03-fda9-c587",
       "previous": "b8a56c96-6f17-11ee-89fa-0242ac120005-3-2895-01cf-c3e7"
      },
      {
       "current": "b8a56cf0-6f17-11ee-89fa-0242ac120005-5-98e9-3108-844c-e3d2-4bf3",
       "next": "b8a56d54-6f17-11ee-89fa-0242ac120005-4-7f03-fda9-c587-e82f",
       "previous": "b8a56c96-6f17-11ee-89fa-0242ac120005-4-2895-01cf-c3e7-6e15"
      }
     ],
     "next": "b8a56d54-6f17-11ee-89fa-0242ac120005-5-7f03-fda9-c587-e82f-60e6",
     "previous": "b8a56c96-6f17-11ee-89fa-0242ac120005-5-2895-01cf-c3e7-6e15-e8cc"
    }
   },
   "outputs": [],
   "source": [
    "cmd = \"openstack baremetal node list -f json --long\"\n",
    "nodes = run_openstack(cmd)"
   ]
  },
  {
   "cell_type": "code",
   "execution_count": null,
   "metadata": {
    "hidden": true,
    "lc_cell_meme": {
     "current": "b8a56d54-6f17-11ee-89fa-0242ac120005-5-7f03-fda9-c587-e82f-60e6",
     "history": [
      {
       "current": "b8a56d54-6f17-11ee-89fa-0242ac120005-1-7f03",
       "next": "b8a56dae-6f17-11ee-89fa-0242ac120005",
       "previous": "b8a56cf0-6f17-11ee-89fa-0242ac120005"
      },
      {
       "current": "b8a56d54-6f17-11ee-89fa-0242ac120005-2-7f03-fda9",
       "next": "b8a56dae-6f17-11ee-89fa-0242ac120005-1-f8ca",
       "previous": "b8a56cf0-6f17-11ee-89fa-0242ac120005-1-98e9"
      },
      {
       "current": "b8a56d54-6f17-11ee-89fa-0242ac120005-3-7f03-fda9-c587",
       "next": "b8a56dae-6f17-11ee-89fa-0242ac120005-2-f8ca-b107",
       "previous": "b8a56cf0-6f17-11ee-89fa-0242ac120005-2-98e9-3108"
      },
      {
       "current": "b8a56d54-6f17-11ee-89fa-0242ac120005-4-7f03-fda9-c587-e82f",
       "next": "b8a56dae-6f17-11ee-89fa-0242ac120005-3-f8ca-b107-14c9",
       "previous": "b8a56cf0-6f17-11ee-89fa-0242ac120005-3-98e9-3108-844c"
      },
      {
       "current": "b8a56d54-6f17-11ee-89fa-0242ac120005-5-7f03-fda9-c587-e82f-60e6",
       "next": "b8a56dae-6f17-11ee-89fa-0242ac120005-4-f8ca-b107-14c9-064a",
       "previous": "b8a56cf0-6f17-11ee-89fa-0242ac120005-4-98e9-3108-844c-e3d2"
      }
     ],
     "next": "b8a56dae-6f17-11ee-89fa-0242ac120005-5-f8ca-b107-14c9-064a-4900",
     "previous": "b8a56cf0-6f17-11ee-89fa-0242ac120005-5-98e9-3108-844c-e3d2-4bf3"
    }
   },
   "outputs": [],
   "source": [
    "import pandas as pd\n",
    "import re\n",
    "\n",
    "for node in nodes:\n",
    "    instance_uuid = node.get(\"Instance UUID\", None)\n",
    "    if instance_uuid is None:\n",
    "        continue\n",
    "        \n",
    "    node[\"instance_name\"] = node[\"Instance Info\"][\"display_name\"]\n",
    "\n",
    "pd.set_option('display.max_rows', None)\n",
    "pd.DataFrame(nodes, columns=['Instance UUID', 'instance_name', 'UUID', 'Maintenance', 'Provisioning State', 'Power State', 'Name'])"
   ]
  },
  {
   "cell_type": "code",
   "execution_count": null,
   "metadata": {
    "hidden": true,
    "lc_cell_meme": {
     "current": "b8a56dae-6f17-11ee-89fa-0242ac120005-5-f8ca-b107-14c9-064a-4900",
     "history": [
      {
       "current": "b8a56dae-6f17-11ee-89fa-0242ac120005-1-f8ca",
       "next": "b8a56e08-6f17-11ee-89fa-0242ac120005",
       "previous": "b8a56d54-6f17-11ee-89fa-0242ac120005"
      },
      {
       "current": "b8a56dae-6f17-11ee-89fa-0242ac120005-2-f8ca-b107",
       "next": "b8a56e08-6f17-11ee-89fa-0242ac120005-1-0989",
       "previous": "b8a56d54-6f17-11ee-89fa-0242ac120005-1-7f03"
      },
      {
       "current": "b8a56dae-6f17-11ee-89fa-0242ac120005-3-f8ca-b107-14c9",
       "next": "b8a56e08-6f17-11ee-89fa-0242ac120005-2-0989-24c1",
       "previous": "b8a56d54-6f17-11ee-89fa-0242ac120005-2-7f03-fda9"
      },
      {
       "current": "b8a56dae-6f17-11ee-89fa-0242ac120005-4-f8ca-b107-14c9-064a",
       "next": "b8a56e08-6f17-11ee-89fa-0242ac120005-3-0989-24c1-3cd9",
       "previous": "b8a56d54-6f17-11ee-89fa-0242ac120005-3-7f03-fda9-c587"
      },
      {
       "current": "b8a56dae-6f17-11ee-89fa-0242ac120005-5-f8ca-b107-14c9-064a-4900",
       "next": "b8a56e08-6f17-11ee-89fa-0242ac120005-4-0989-24c1-3cd9-9960",
       "previous": "b8a56d54-6f17-11ee-89fa-0242ac120005-4-7f03-fda9-c587-e82f"
      }
     ],
     "next": "b8a56e08-6f17-11ee-89fa-0242ac120005-5-0989-24c1-3cd9-9960-b84c",
     "previous": "b8a56d54-6f17-11ee-89fa-0242ac120005-5-7f03-fda9-c587-e82f-60e6"
    }
   },
   "outputs": [],
   "source": [
    "cmd = \"openstack server list -f json --long\"\n",
    "nova_server_map = run_openstack(cmd)"
   ]
  },
  {
   "cell_type": "code",
   "execution_count": null,
   "metadata": {
    "hidden": true,
    "lc_cell_meme": {
     "current": "b8a56e08-6f17-11ee-89fa-0242ac120005-5-0989-24c1-3cd9-9960-b84c",
     "history": [
      {
       "current": "b8a56e08-6f17-11ee-89fa-0242ac120005",
       "next": "b8a56e62-6f17-11ee-89fa-0242ac120005",
       "previous": "b8a56dae-6f17-11ee-89fa-0242ac120005"
      },
      {
       "current": "b8a56e08-6f17-11ee-89fa-0242ac120005-1-0989",
       "next": "06afec50-98b0-11ea-8d02-0242ac120007-3-5828-a305-b690",
       "previous": "b8a56dae-6f17-11ee-89fa-0242ac120005"
      },
      {
       "current": "b8a56e08-6f17-11ee-89fa-0242ac120005-2-0989-24c1",
       "next": "06afec50-98b0-11ea-8d02-0242ac120007-4-5828-a305-b690-5bb4",
       "previous": "b8a56dae-6f17-11ee-89fa-0242ac120005-1-f8ca"
      },
      {
       "current": "b8a56e08-6f17-11ee-89fa-0242ac120005-3-0989-24c1-3cd9",
       "next": "06afec50-98b0-11ea-8d02-0242ac120007-5-5828-a305-b690-5bb4-40bc",
       "previous": "b8a56dae-6f17-11ee-89fa-0242ac120005-2-f8ca-b107"
      },
      {
       "current": "b8a56e08-6f17-11ee-89fa-0242ac120005-4-0989-24c1-3cd9-9960",
       "next": "06afec50-98b0-11ea-8d02-0242ac120007-6-5828-a305-b690-5bb4-40bc-a229",
       "previous": "b8a56dae-6f17-11ee-89fa-0242ac120005-3-f8ca-b107-14c9"
      },
      {
       "current": "b8a56e08-6f17-11ee-89fa-0242ac120005-5-0989-24c1-3cd9-9960-b84c",
       "next": "06afec50-98b0-11ea-8d02-0242ac120007-7-5828-a305-b690-5bb4-40bc-a229-e793",
       "previous": "b8a56dae-6f17-11ee-89fa-0242ac120005-4-f8ca-b107-14c9-064a"
      }
     ],
     "next": "06afec50-98b0-11ea-8d02-0242ac120007-8-5828-a305-b690-5bb4-40bc-a229-e793-b8d5",
     "previous": "b8a56dae-6f17-11ee-89fa-0242ac120005-5-f8ca-b107-14c9-064a-4900"
    }
   },
   "outputs": [],
   "source": [
    "node_list = []\n",
    "for server in nova_server_map:\n",
    "    node_id = server['ID']\n",
    "    if re.match(name_match_rule, server['Name']) is None:\n",
    "        continue\n",
    "    for node in nodes:\n",
    "        if node['Instance UUID'] == node_id:\n",
    "            node_info = {}\n",
    "            node_list.append(node_info)\n",
    "            node_info['name'] = server['Name']\n",
    "            node_info['node_name'] = node['Name']\n",
    "            instance_ip_info = instance_ip_map.get(server['Name'], None)\n",
    "            if instance_ip_info is not None:\n",
    "                node_info['instance_ip'] = instance_ip_info.get('ipv4', None)\n",
    "            else:\n",
    "                node_info['instance_ip'] = None\n",
    "            address = server['Networks']\n",
    "            prov_net = address['provisioning-net']\n",
    "            for addr in prov_net:\n",
    "                node_info['prov_ip'] = addr\n",
    "\n",
    "pd.DataFrame(node_list)"
   ]
  },
  {
   "cell_type": "markdown",
   "metadata": {
    "lc_cell_meme": {
     "current": "06afec50-98b0-11ea-8d02-0242ac120007-8-5828-a305-b690-5bb4-40bc-a229-e793-b8d5",
     "history": [
      {
       "current": "06afec50-98b0-11ea-8d02-0242ac120007-1-5828",
       "next": "8a48d590-98a1-11ea-8d02-0242ac120007",
       "previous": "357fc83a-969d-11ea-8d02-0242ac120007"
      },
      {
       "current": "06afec50-98b0-11ea-8d02-0242ac120007-2-5828-a305",
       "next": "8a48d590-98a1-11ea-8d02-0242ac120007-1-1c0f",
       "previous": "357fc83a-969d-11ea-8d02-0242ac120007-1-9a36"
      },
      {
       "current": "06afec50-98b0-11ea-8d02-0242ac120007-3-5828-a305-b690",
       "next": "8a48d590-98a1-11ea-8d02-0242ac120007-2-1c0f-5b25",
       "previous": "357fc83a-969d-11ea-8d02-0242ac120007-2-9a36-95b8"
      },
      {
       "current": "06afec50-98b0-11ea-8d02-0242ac120007-3-5828-a305-b690",
       "next": "8a48d590-98a1-11ea-8d02-0242ac120007-3-1c0f-5b25-d7c0",
       "previous": "357fc83a-969d-11ea-8d02-0242ac120007-3-9a36-95b8-3fa9"
      },
      {
       "current": "06afec50-98b0-11ea-8d02-0242ac120007-4-5828-a305-b690-5bb4",
       "next": "8a48d590-98a1-11ea-8d02-0242ac120007-3-1c0f-5b25-d7c0",
       "previous": "b8a56e08-6f17-11ee-89fa-0242ac120005"
      },
      {
       "current": "06afec50-98b0-11ea-8d02-0242ac120007-5-5828-a305-b690-5bb4-40bc",
       "next": "8a48d590-98a1-11ea-8d02-0242ac120007-4-1c0f-5b25-d7c0-d70c",
       "previous": "b8a56e08-6f17-11ee-89fa-0242ac120005-1-0989"
      },
      {
       "current": "06afec50-98b0-11ea-8d02-0242ac120007-6-5828-a305-b690-5bb4-40bc-a229",
       "next": "8a48d590-98a1-11ea-8d02-0242ac120007-5-1c0f-5b25-d7c0-d70c-32cc",
       "previous": "b8a56e08-6f17-11ee-89fa-0242ac120005-2-0989-24c1"
      },
      {
       "current": "06afec50-98b0-11ea-8d02-0242ac120007-7-5828-a305-b690-5bb4-40bc-a229-e793",
       "next": "8a48d590-98a1-11ea-8d02-0242ac120007-6-1c0f-5b25-d7c0-d70c-32cc-2e76",
       "previous": "b8a56e08-6f17-11ee-89fa-0242ac120005-3-0989-24c1-3cd9"
      },
      {
       "current": "06afec50-98b0-11ea-8d02-0242ac120007-8-5828-a305-b690-5bb4-40bc-a229-e793-b8d5",
       "next": "8a48d590-98a1-11ea-8d02-0242ac120007-7-1c0f-5b25-d7c0-d70c-32cc-2e76-1981",
       "previous": "b8a56e08-6f17-11ee-89fa-0242ac120005-4-0989-24c1-3cd9-9960"
      }
     ],
     "next": "8a48d590-98a1-11ea-8d02-0242ac120007-8-1c0f-5b25-d7c0-d70c-32cc-2e76-1981-ca35",
     "previous": "b8a56e08-6f17-11ee-89fa-0242ac120005-5-0989-24c1-3cd9-9960-b84c"
    }
   },
   "source": [
    "## 登録対象Cephノード情報の取得"
   ]
  },
  {
   "cell_type": "markdown",
   "metadata": {
    "lc_cell_meme": {
     "current": "8a48d590-98a1-11ea-8d02-0242ac120007-8-1c0f-5b25-d7c0-d70c-32cc-2e76-1981-ca35",
     "history": [
      {
       "current": "8a48d590-98a1-11ea-8d02-0242ac120007",
       "next": "8a48d90a-98a1-11ea-8d02-0242ac120007",
       "previous": "357fc83a-969d-11ea-8d02-0242ac120007"
      },
      {
       "current": "8a48d590-98a1-11ea-8d02-0242ac120007",
       "next": "8a48d90a-98a1-11ea-8d02-0242ac120007",
       "previous": "06afec50-98b0-11ea-8d02-0242ac120007"
      },
      {
       "current": "8a48d590-98a1-11ea-8d02-0242ac120007",
       "next": "a85c1dda-959a-11ea-8d02-0242ac120007",
       "previous": "06afec50-98b0-11ea-8d02-0242ac120007"
      },
      {
       "current": "8a48d590-98a1-11ea-8d02-0242ac120007-1-1c0f",
       "next": "e879cdac-95bf-11ea-8d02-0242ac120007",
       "previous": "06afec50-98b0-11ea-8d02-0242ac120007"
      },
      {
       "current": "8a48d590-98a1-11ea-8d02-0242ac120007-2-1c0f-5b25",
       "next": "e879cdac-95bf-11ea-8d02-0242ac120007-1-4a2c",
       "previous": "06afec50-98b0-11ea-8d02-0242ac120007-1-5828"
      },
      {
       "current": "8a48d590-98a1-11ea-8d02-0242ac120007-3-1c0f-5b25-d7c0",
       "next": "e879cdac-95bf-11ea-8d02-0242ac120007-2-4a2c-6b2f",
       "previous": "06afec50-98b0-11ea-8d02-0242ac120007-2-5828-a305"
      },
      {
       "current": "8a48d590-98a1-11ea-8d02-0242ac120007-4-1c0f-5b25-d7c0-d70c",
       "next": "e879cdac-95bf-11ea-8d02-0242ac120007-3-4a2c-6b2f-958d",
       "previous": "06afec50-98b0-11ea-8d02-0242ac120007-3-5828-a305-b690"
      },
      {
       "current": "8a48d590-98a1-11ea-8d02-0242ac120007-5-1c0f-5b25-d7c0-d70c-32cc",
       "next": "e879cdac-95bf-11ea-8d02-0242ac120007-4-4a2c-6b2f-958d-c891",
       "previous": "06afec50-98b0-11ea-8d02-0242ac120007-4-5828-a305-b690-5bb4"
      },
      {
       "current": "8a48d590-98a1-11ea-8d02-0242ac120007-6-1c0f-5b25-d7c0-d70c-32cc-2e76",
       "next": "e879cdac-95bf-11ea-8d02-0242ac120007-5-4a2c-6b2f-958d-c891-1992",
       "previous": "06afec50-98b0-11ea-8d02-0242ac120007-5-5828-a305-b690-5bb4-40bc"
      },
      {
       "current": "8a48d590-98a1-11ea-8d02-0242ac120007-7-1c0f-5b25-d7c0-d70c-32cc-2e76-1981",
       "next": "e879cdac-95bf-11ea-8d02-0242ac120007-6-4a2c-6b2f-958d-c891-1992-9a1b",
       "previous": "06afec50-98b0-11ea-8d02-0242ac120007-6-5828-a305-b690-5bb4-40bc-a229"
      },
      {
       "current": "8a48d590-98a1-11ea-8d02-0242ac120007-8-1c0f-5b25-d7c0-d70c-32cc-2e76-1981-ca35",
       "next": "e879cdac-95bf-11ea-8d02-0242ac120007-7-4a2c-6b2f-958d-c891-1992-9a1b-e72d",
       "previous": "06afec50-98b0-11ea-8d02-0242ac120007-7-5828-a305-b690-5bb4-40bc-a229-e793"
      }
     ],
     "next": "e879cdac-95bf-11ea-8d02-0242ac120007-8-4a2c-6b2f-958d-c891-1992-9a1b-e72d-93a9",
     "previous": "06afec50-98b0-11ea-8d02-0242ac120007-8-5828-a305-b690-5bb4-40bc-a229-e793-b8d5"
    }
   },
   "source": [
    "初期化対象のインスタンス名称を設定する"
   ]
  },
  {
   "cell_type": "code",
   "execution_count": null,
   "metadata": {
    "lc_cell_meme": {
     "current": "e879cdac-95bf-11ea-8d02-0242ac120007-8-4a2c-6b2f-958d-c891-1992-9a1b-e72d-93a9",
     "history": [
      {
       "current": "e879cdac-95bf-11ea-8d02-0242ac120007",
       "next": "81dd4f74-9597-11ea-8d02-0242ac120007",
       "previous": "d1bcb8ac-9599-11ea-8d02-0242ac120007"
      },
      {
       "current": "e879cdac-95bf-11ea-8d02-0242ac120007",
       "next": "81dd4f74-9597-11ea-8d02-0242ac120007",
       "previous": "a85c1dda-959a-11ea-8d02-0242ac120007"
      },
      {
       "current": "e879cdac-95bf-11ea-8d02-0242ac120007",
       "next": "8a48d90a-98a1-11ea-8d02-0242ac120007",
       "previous": "a85c1dda-959a-11ea-8d02-0242ac120007"
      },
      {
       "current": "e879cdac-95bf-11ea-8d02-0242ac120007-1-4a2c",
       "next": "8a48d90a-98a1-11ea-8d02-0242ac120007",
       "previous": "8a48d590-98a1-11ea-8d02-0242ac120007"
      },
      {
       "current": "e879cdac-95bf-11ea-8d02-0242ac120007-2-4a2c-6b2f",
       "next": "8a48d90a-98a1-11ea-8d02-0242ac120007-1-0ebc",
       "previous": "8a48d590-98a1-11ea-8d02-0242ac120007-1-1c0f"
      },
      {
       "current": "e879cdac-95bf-11ea-8d02-0242ac120007-2-4a2c-6b2f",
       "next": "8a48d90a-98a1-11ea-8d02-0242ac120007-2-0ebc-93ac",
       "previous": "8a48d590-98a1-11ea-8d02-0242ac120007-2-1c0f-5b25"
      },
      {
       "current": "e879cdac-95bf-11ea-8d02-0242ac120007-3-4a2c-6b2f-958d",
       "next": "809aa1e6-def9-11eb-b29f-0242ac120008",
       "previous": "8a48d590-98a1-11ea-8d02-0242ac120007-2-1c0f-5b25"
      },
      {
       "current": "e879cdac-95bf-11ea-8d02-0242ac120007-4-4a2c-6b2f-958d-c891",
       "next": "809aa1e6-def9-11eb-b29f-0242ac120008-1-b49e",
       "previous": "8a48d590-98a1-11ea-8d02-0242ac120007-3-1c0f-5b25-d7c0"
      },
      {
       "current": "e879cdac-95bf-11ea-8d02-0242ac120007-5-4a2c-6b2f-958d-c891-1992",
       "next": "809aa1e6-def9-11eb-b29f-0242ac120008-2-b49e-b397",
       "previous": "8a48d590-98a1-11ea-8d02-0242ac120007-4-1c0f-5b25-d7c0-d70c"
      },
      {
       "current": "e879cdac-95bf-11ea-8d02-0242ac120007-6-4a2c-6b2f-958d-c891-1992-9a1b",
       "next": "809aa1e6-def9-11eb-b29f-0242ac120008-3-b49e-b397-176d",
       "previous": "8a48d590-98a1-11ea-8d02-0242ac120007-5-1c0f-5b25-d7c0-d70c-32cc"
      },
      {
       "current": "e879cdac-95bf-11ea-8d02-0242ac120007-7-4a2c-6b2f-958d-c891-1992-9a1b-e72d",
       "next": "809aa1e6-def9-11eb-b29f-0242ac120008-4-b49e-b397-176d-5883",
       "previous": "8a48d590-98a1-11ea-8d02-0242ac120007-6-1c0f-5b25-d7c0-d70c-32cc-2e76"
      },
      {
       "current": "e879cdac-95bf-11ea-8d02-0242ac120007-8-4a2c-6b2f-958d-c891-1992-9a1b-e72d-93a9",
       "next": "809aa1e6-def9-11eb-b29f-0242ac120008-5-b49e-b397-176d-5883-ef29",
       "previous": "8a48d590-98a1-11ea-8d02-0242ac120007-7-1c0f-5b25-d7c0-d70c-32cc-2e76-1981"
      }
     ],
     "next": "809aa1e6-def9-11eb-b29f-0242ac120008-6-b49e-b397-176d-5883-ef29-db35",
     "previous": "8a48d590-98a1-11ea-8d02-0242ac120007-8-1c0f-5b25-d7c0-d70c-32cc-2e76-1981-ca35"
    },
    "scrolled": true
   },
   "outputs": [],
   "source": [
    "# 初期化対象のインスタンス名称を設定する\n",
    "raise Exception('この先手作業が必要です')"
   ]
  },
  {
   "cell_type": "markdown",
   "metadata": {
    "lc_cell_meme": {
     "current": "809aa1e6-def9-11eb-b29f-0242ac120008-6-b49e-b397-176d-5883-ef29-db35",
     "history": [
      {
       "current": "809aa1e6-def9-11eb-b29f-0242ac120008-1-b49e",
       "next": "8a48d90a-98a1-11ea-8d02-0242ac120007-2-0ebc-93ac",
       "previous": "e879cdac-95bf-11ea-8d02-0242ac120007-2-4a2c-6b2f"
      },
      {
       "current": "809aa1e6-def9-11eb-b29f-0242ac120008-1-b49e",
       "next": "8a48d90a-98a1-11ea-8d02-0242ac120007-3-0ebc-93ac-04b4",
       "previous": "e879cdac-95bf-11ea-8d02-0242ac120007-3-4a2c-6b2f-958d"
      },
      {
       "current": "809aa1e6-def9-11eb-b29f-0242ac120008-2-b49e-b397",
       "next": "bb3e251e-61bc-11ee-89fa-0242ac120005",
       "previous": "e879cdac-95bf-11ea-8d02-0242ac120007-3-4a2c-6b2f-958d"
      },
      {
       "current": "809aa1e6-def9-11eb-b29f-0242ac120008-3-b49e-b397-176d",
       "next": "bb3e251e-61bc-11ee-89fa-0242ac120005-1-9ed0",
       "previous": "e879cdac-95bf-11ea-8d02-0242ac120007-4-4a2c-6b2f-958d-c891"
      },
      {
       "current": "809aa1e6-def9-11eb-b29f-0242ac120008-4-b49e-b397-176d-5883",
       "next": "bb3e251e-61bc-11ee-89fa-0242ac120005-2-9ed0-7c97",
       "previous": "e879cdac-95bf-11ea-8d02-0242ac120007-5-4a2c-6b2f-958d-c891-1992"
      },
      {
       "current": "809aa1e6-def9-11eb-b29f-0242ac120008-5-b49e-b397-176d-5883-ef29",
       "next": "bb3e251e-61bc-11ee-89fa-0242ac120005-3-9ed0-7c97-c717",
       "previous": "e879cdac-95bf-11ea-8d02-0242ac120007-6-4a2c-6b2f-958d-c891-1992-9a1b"
      },
      {
       "current": "809aa1e6-def9-11eb-b29f-0242ac120008-6-b49e-b397-176d-5883-ef29-db35",
       "next": "bb3e251e-61bc-11ee-89fa-0242ac120005-4-9ed0-7c97-c717-68f0",
       "previous": "e879cdac-95bf-11ea-8d02-0242ac120007-7-4a2c-6b2f-958d-c891-1992-9a1b-e72d"
      }
     ],
     "next": "bb3e251e-61bc-11ee-89fa-0242ac120005-5-9ed0-7c97-c717-68f0-a275",
     "previous": "e879cdac-95bf-11ea-8d02-0242ac120007-8-4a2c-6b2f-958d-c891-1992-9a1b-e72d-93a9"
    }
   },
   "source": [
    "### adminノードの指定"
   ]
  },
  {
   "cell_type": "code",
   "execution_count": null,
   "metadata": {
    "lc_cell_meme": {
     "current": "bb3e251e-61bc-11ee-89fa-0242ac120005-5-9ed0-7c97-c717-68f0-a275",
     "history": [
      {
       "current": "bb3e251e-61bc-11ee-89fa-0242ac120005",
       "next": "8a48dae0-98a1-11ea-8d02-0242ac120007-3-4da2-9c77-127e",
       "previous": "8a48d90a-98a1-11ea-8d02-0242ac120007-3-0ebc-93ac-04b4"
      },
      {
       "current": "bb3e251e-61bc-11ee-89fa-0242ac120005",
       "next": "8a48dae0-98a1-11ea-8d02-0242ac120007-3-4da2-9c77-127e",
       "previous": "6cd9fe0e-6250-11ee-89fa-0242ac120005"
      },
      {
       "current": "bb3e251e-61bc-11ee-89fa-0242ac120005",
       "next": "6cd9fe0e-6250-11ee-89fa-0242ac120005",
       "previous": "8a48d90a-98a1-11ea-8d02-0242ac120007-3-0ebc-93ac-04b4"
      },
      {
       "current": "bb3e251e-61bc-11ee-89fa-0242ac120005-1-9ed0",
       "next": "8a48dae0-98a1-11ea-8d02-0242ac120007-3-4da2-9c77-127e",
       "previous": "809aa1e6-def9-11eb-b29f-0242ac120008-1-b49e"
      },
      {
       "current": "bb3e251e-61bc-11ee-89fa-0242ac120005-2-9ed0-7c97",
       "next": "8a48dae0-98a1-11ea-8d02-0242ac120007-4-4da2-9c77-127e-b6b1",
       "previous": "809aa1e6-def9-11eb-b29f-0242ac120008-2-b49e-b397"
      },
      {
       "current": "bb3e251e-61bc-11ee-89fa-0242ac120005-3-9ed0-7c97-c717",
       "next": "8a48dae0-98a1-11ea-8d02-0242ac120007-5-4da2-9c77-127e-b6b1-f13c",
       "previous": "809aa1e6-def9-11eb-b29f-0242ac120008-3-b49e-b397-176d"
      },
      {
       "current": "bb3e251e-61bc-11ee-89fa-0242ac120005-4-9ed0-7c97-c717-68f0",
       "next": "8a48dae0-98a1-11ea-8d02-0242ac120007-6-4da2-9c77-127e-b6b1-f13c-be11",
       "previous": "809aa1e6-def9-11eb-b29f-0242ac120008-4-b49e-b397-176d-5883"
      },
      {
       "current": "bb3e251e-61bc-11ee-89fa-0242ac120005-5-9ed0-7c97-c717-68f0-a275",
       "next": "8a48dae0-98a1-11ea-8d02-0242ac120007-7-4da2-9c77-127e-b6b1-f13c-be11-213a",
       "previous": "809aa1e6-def9-11eb-b29f-0242ac120008-5-b49e-b397-176d-5883-ef29"
      }
     ],
     "next": "8a48dae0-98a1-11ea-8d02-0242ac120007-8-4da2-9c77-127e-b6b1-f13c-be11-213a-4c80",
     "previous": "809aa1e6-def9-11eb-b29f-0242ac120008-6-b49e-b397-176d-5883-ef29-db35"
    }
   },
   "outputs": [],
   "source": [
    "bootstrap_node_name = 'ceph-xxx-node-001'"
   ]
  },
  {
   "cell_type": "code",
   "execution_count": null,
   "metadata": {
    "lc_cell_meme": {
     "current": "8a48dae0-98a1-11ea-8d02-0242ac120007-8-4da2-9c77-127e-b6b1-f13c-be11-213a-4c80",
     "history": [
      {
       "current": "8a48dae0-98a1-11ea-8d02-0242ac120007-1-4da2",
       "next": "35c339aa-55a3-11e7-b0b2-00163e9c0e35",
       "previous": "8a48d90a-98a1-11ea-8d02-0242ac120007"
      },
      {
       "current": "8a48dae0-98a1-11ea-8d02-0242ac120007-2-4da2-9c77",
       "next": "35c339aa-55a3-11e7-b0b2-00163e9c0e35-1-eee2",
       "previous": "8a48d90a-98a1-11ea-8d02-0242ac120007-1-0ebc"
      },
      {
       "current": "8a48dae0-98a1-11ea-8d02-0242ac120007-2-4da2-9c77",
       "next": "35c339aa-55a3-11e7-b0b2-00163e9c0e35-2-eee2-af6c",
       "previous": "8a48d90a-98a1-11ea-8d02-0242ac120007-2-0ebc-93ac"
      },
      {
       "current": "8a48dae0-98a1-11ea-8d02-0242ac120007-2-4da2-9c77",
       "next": "35c362a4-55a3-11e7-b0b2-00163e9c0e35-2-3f0a-3633",
       "previous": "8a48d90a-98a1-11ea-8d02-0242ac120007-2-0ebc-93ac"
      },
      {
       "current": "8a48dae0-98a1-11ea-8d02-0242ac120007-2-4da2-9c77",
       "next": "1afe7a3e-def8-11eb-b29f-0242ac120008",
       "previous": "8a48d90a-98a1-11ea-8d02-0242ac120007-2-0ebc-93ac"
      },
      {
       "current": "8a48dae0-98a1-11ea-8d02-0242ac120007-3-4da2-9c77-127e",
       "next": "35c35a52-55a3-11e7-b0b2-00163e9c0e35-2-ed71-9007",
       "previous": "8a48d90a-98a1-11ea-8d02-0242ac120007-2-0ebc-93ac"
      },
      {
       "current": "8a48dae0-98a1-11ea-8d02-0242ac120007-3-4da2-9c77-127e",
       "next": "35c35a52-55a3-11e7-b0b2-00163e9c0e35-3-ed71-9007-f930",
       "previous": "8a48d90a-98a1-11ea-8d02-0242ac120007-3-0ebc-93ac-04b4"
      },
      {
       "current": "8a48dae0-98a1-11ea-8d02-0242ac120007-3-4da2-9c77-127e",
       "next": "2c2cd6ae-61bc-11ee-89fa-0242ac120005",
       "previous": "8a48d90a-98a1-11ea-8d02-0242ac120007-3-0ebc-93ac-04b4"
      },
      {
       "current": "8a48dae0-98a1-11ea-8d02-0242ac120007-3-4da2-9c77-127e",
       "next": "2c2cd6ae-61bc-11ee-89fa-0242ac120005",
       "previous": "bb3e251e-61bc-11ee-89fa-0242ac120005"
      },
      {
       "current": "8a48dae0-98a1-11ea-8d02-0242ac120007-3-4da2-9c77-127e",
       "next": "2c2cd6ae-61bc-11ee-89fa-0242ac120005",
       "previous": "6cd9fe0e-6250-11ee-89fa-0242ac120005"
      },
      {
       "current": "8a48dae0-98a1-11ea-8d02-0242ac120007-4-4da2-9c77-127e-b6b1",
       "next": "35c35a52-55a3-11e7-b0b2-00163e9c0e35-3-ed71-9007-f930",
       "previous": "bb3e251e-61bc-11ee-89fa-0242ac120005"
      },
      {
       "current": "8a48dae0-98a1-11ea-8d02-0242ac120007-5-4da2-9c77-127e-b6b1-f13c",
       "next": "35c35a52-55a3-11e7-b0b2-00163e9c0e35-4-ed71-9007-f930-281d",
       "previous": "bb3e251e-61bc-11ee-89fa-0242ac120005-1-9ed0"
      },
      {
       "current": "8a48dae0-98a1-11ea-8d02-0242ac120007-6-4da2-9c77-127e-b6b1-f13c-be11",
       "next": "35c35a52-55a3-11e7-b0b2-00163e9c0e35-5-ed71-9007-f930-281d-f829",
       "previous": "bb3e251e-61bc-11ee-89fa-0242ac120005-2-9ed0-7c97"
      },
      {
       "current": "8a48dae0-98a1-11ea-8d02-0242ac120007-7-4da2-9c77-127e-b6b1-f13c-be11-213a",
       "next": "35c35a52-55a3-11e7-b0b2-00163e9c0e35-6-ed71-9007-f930-281d-f829-3071",
       "previous": "bb3e251e-61bc-11ee-89fa-0242ac120005-3-9ed0-7c97-c717"
      },
      {
       "current": "8a48dae0-98a1-11ea-8d02-0242ac120007-8-4da2-9c77-127e-b6b1-f13c-be11-213a-4c80",
       "next": "35c35a52-55a3-11e7-b0b2-00163e9c0e35-7-ed71-9007-f930-281d-f829-3071-dca7",
       "previous": "bb3e251e-61bc-11ee-89fa-0242ac120005-4-9ed0-7c97-c717-68f0"
      }
     ],
     "next": "35c35a52-55a3-11e7-b0b2-00163e9c0e35-8-ed71-9007-f930-281d-f829-3071-dca7-14fb",
     "previous": "bb3e251e-61bc-11ee-89fa-0242ac120005-5-9ed0-7c97-c717-68f0-a275"
    }
   },
   "outputs": [],
   "source": [
    "bootstrap_node = None\n",
    "for elem in node_list:\n",
    "    if elem['name'] == bootstrap_node_name:\n",
    "        bootstrap_node = elem\n",
    "        break\n",
    "\n",
    "assert (bootstrap_node is not None), \"指定されたBootstrap nodeが存在しません。\"\n",
    "print(bootstrap_node)"
   ]
  },
  {
   "cell_type": "markdown",
   "metadata": {
    "lc_cell_meme": {
     "current": "35c35a52-55a3-11e7-b0b2-00163e9c0e35-8-ed71-9007-f930-281d-f829-3071-dca7-14fb",
     "history": [
      {
       "current": "35c35a52-55a3-11e7-b0b2-00163e9c0e35",
       "next": "35c35bf6-55a3-11e7-b0b2-00163e9c0e35",
       "previous": "35c358ae-55a3-11e7-b0b2-00163e9c0e35"
      },
      {
       "current": "35c35a52-55a3-11e7-b0b2-00163e9c0e35",
       "next": "35c35bf6-55a3-11e7-b0b2-00163e9c0e35",
       "previous": "690aae12-2871-11ea-b5b0-0242ac120004"
      },
      {
       "current": "35c35a52-55a3-11e7-b0b2-00163e9c0e35",
       "next": "35c35bf6-55a3-11e7-b0b2-00163e9c0e35",
       "previous": "1f202142-40d1-11ea-ab19-0242ac120004"
      },
      {
       "current": "35c35a52-55a3-11e7-b0b2-00163e9c0e35",
       "next": "35c35bf6-55a3-11e7-b0b2-00163e9c0e35",
       "previous": "690aae12-2871-11ea-b5b0-0242ac120004"
      },
      {
       "current": "35c35a52-55a3-11e7-b0b2-00163e9c0e35",
       "next": "35c35bf6-55a3-11e7-b0b2-00163e9c0e35",
       "previous": "35c358ae-55a3-11e7-b0b2-00163e9c0e35"
      },
      {
       "current": "35c35a52-55a3-11e7-b0b2-00163e9c0e35",
       "next": "35c35bf6-55a3-11e7-b0b2-00163e9c0e35",
       "previous": "29c91c64-2850-11ea-b5b0-0242ac120004"
      },
      {
       "current": "35c35a52-55a3-11e7-b0b2-00163e9c0e35",
       "next": "35c35bf6-55a3-11e7-b0b2-00163e9c0e35",
       "previous": "35c35552-55a3-11e7-b0b2-00163e9c0e35"
      },
      {
       "current": "35c35a52-55a3-11e7-b0b2-00163e9c0e35",
       "next": "35c35bf6-55a3-11e7-b0b2-00163e9c0e35",
       "previous": "81dd5320-9597-11ea-8d02-0242ac120007"
      },
      {
       "current": "35c35a52-55a3-11e7-b0b2-00163e9c0e35-1-ed71",
       "next": "35c35bf6-55a3-11e7-b0b2-00163e9c0e35",
       "previous": "46b9463a-95bc-11ea-8d02-0242ac120007"
      },
      {
       "current": "35c35a52-55a3-11e7-b0b2-00163e9c0e35-1-ed71",
       "next": "35c35bf6-55a3-11e7-b0b2-00163e9c0e35-1-4f76",
       "previous": "46b9463a-95bc-11ea-8d02-0242ac120007-1-777e"
      },
      {
       "current": "35c35a52-55a3-11e7-b0b2-00163e9c0e35-2-ed71-9007",
       "next": "35c35bf6-55a3-11e7-b0b2-00163e9c0e35-1-4f76",
       "previous": "e3624638-98a7-11ea-8d02-0242ac120007-1-0249"
      },
      {
       "current": "35c35a52-55a3-11e7-b0b2-00163e9c0e35-2-ed71-9007",
       "next": "35c35bf6-55a3-11e7-b0b2-00163e9c0e35-2-4f76-7f4b",
       "previous": "e3624638-98a7-11ea-8d02-0242ac120007-2-0249-59e8"
      },
      {
       "current": "35c35a52-55a3-11e7-b0b2-00163e9c0e35-2-ed71-9007",
       "next": "35c35bf6-55a3-11e7-b0b2-00163e9c0e35-2-4f76-7f4b",
       "previous": "445f39dc-def7-11eb-b29f-0242ac120008"
      },
      {
       "current": "35c35a52-55a3-11e7-b0b2-00163e9c0e35-2-ed71-9007",
       "next": "35c35bf6-55a3-11e7-b0b2-00163e9c0e35-2-4f76-7f4b",
       "previous": "445f36bc-def7-11eb-b29f-0242ac120008"
      },
      {
       "current": "35c35a52-55a3-11e7-b0b2-00163e9c0e35-2-ed71-9007",
       "next": "35c35bf6-55a3-11e7-b0b2-00163e9c0e35-2-4f76-7f4b",
       "previous": "1afe7e1c-def8-11eb-b29f-0242ac120008"
      },
      {
       "current": "35c35a52-55a3-11e7-b0b2-00163e9c0e35-3-ed71-9007-f930",
       "next": "35c35bf6-55a3-11e7-b0b2-00163e9c0e35-2-4f76-7f4b",
       "previous": "8a48dae0-98a1-11ea-8d02-0242ac120007-2-4da2-9c77"
      },
      {
       "current": "35c35a52-55a3-11e7-b0b2-00163e9c0e35-3-ed71-9007-f930",
       "next": "35c35bf6-55a3-11e7-b0b2-00163e9c0e35-3-4f76-7f4b-c54b",
       "previous": "8a48dae0-98a1-11ea-8d02-0242ac120007-3-4da2-9c77-127e"
      },
      {
       "current": "35c35a52-55a3-11e7-b0b2-00163e9c0e35-3-ed71-9007-f930",
       "next": "35c35bf6-55a3-11e7-b0b2-00163e9c0e35-3-4f76-7f4b-c54b",
       "previous": "2c2cd6ae-61bc-11ee-89fa-0242ac120005"
      },
      {
       "current": "35c35a52-55a3-11e7-b0b2-00163e9c0e35-3-ed71-9007-f930",
       "next": "35c35f52-55a3-11e7-b0b2-00163e9c0e35-3-e2de-8a27-98e3",
       "previous": "2c2cd6ae-61bc-11ee-89fa-0242ac120005"
      },
      {
       "current": "35c35a52-55a3-11e7-b0b2-00163e9c0e35-4-ed71-9007-f930-281d",
       "next": "35c35f52-55a3-11e7-b0b2-00163e9c0e35-3-e2de-8a27-98e3",
       "previous": "8a48dae0-98a1-11ea-8d02-0242ac120007-3-4da2-9c77-127e"
      },
      {
       "current": "35c35a52-55a3-11e7-b0b2-00163e9c0e35-5-ed71-9007-f930-281d-f829",
       "next": "35c35f52-55a3-11e7-b0b2-00163e9c0e35-4-e2de-8a27-98e3-04fe",
       "previous": "8a48dae0-98a1-11ea-8d02-0242ac120007-4-4da2-9c77-127e-b6b1"
      },
      {
       "current": "35c35a52-55a3-11e7-b0b2-00163e9c0e35-6-ed71-9007-f930-281d-f829-3071",
       "next": "35c35f52-55a3-11e7-b0b2-00163e9c0e35-5-e2de-8a27-98e3-04fe-5595",
       "previous": "8a48dae0-98a1-11ea-8d02-0242ac120007-5-4da2-9c77-127e-b6b1-f13c"
      },
      {
       "current": "35c35a52-55a3-11e7-b0b2-00163e9c0e35-7-ed71-9007-f930-281d-f829-3071-dca7",
       "next": "35c35f52-55a3-11e7-b0b2-00163e9c0e35-6-e2de-8a27-98e3-04fe-5595-75ec",
       "previous": "8a48dae0-98a1-11ea-8d02-0242ac120007-6-4da2-9c77-127e-b6b1-f13c-be11"
      },
      {
       "current": "35c35a52-55a3-11e7-b0b2-00163e9c0e35-8-ed71-9007-f930-281d-f829-3071-dca7-14fb",
       "next": "35c35f52-55a3-11e7-b0b2-00163e9c0e35-7-e2de-8a27-98e3-04fe-5595-75ec-5650",
       "previous": "8a48dae0-98a1-11ea-8d02-0242ac120007-7-4da2-9c77-127e-b6b1-f13c-be11-213a"
      }
     ],
     "next": "35c35f52-55a3-11e7-b0b2-00163e9c0e35-8-e2de-8a27-98e3-04fe-5595-75ec-5650-e7ee",
     "previous": "8a48dae0-98a1-11ea-8d02-0242ac120007-8-4da2-9c77-127e-b6b1-f13c-be11-213a-4c80"
    }
   },
   "source": [
    "## 一時Inventoryファイルの生成\n",
    "以下を実行し、作業用ディレクトリ配下に一時Inventoryファイルを生成する。"
   ]
  },
  {
   "cell_type": "markdown",
   "metadata": {
    "lc_cell_meme": {
     "current": "35c35f52-55a3-11e7-b0b2-00163e9c0e35-8-e2de-8a27-98e3-04fe-5595-75ec-5650-e7ee",
     "history": [
      {
       "current": "35c35f52-55a3-11e7-b0b2-00163e9c0e35",
       "next": "35c360f6-55a3-11e7-b0b2-00163e9c0e35",
       "previous": "35c35dae-55a3-11e7-b0b2-00163e9c0e35"
      },
      {
       "current": "35c35f52-55a3-11e7-b0b2-00163e9c0e35-1-e2de",
       "next": "a33430b0-9327-11ea-8d02-0242ac120007",
       "previous": "35c35dae-55a3-11e7-b0b2-00163e9c0e35"
      },
      {
       "current": "35c35f52-55a3-11e7-b0b2-00163e9c0e35-2-e2de-8a27",
       "next": "a33430b0-9327-11ea-8d02-0242ac120007-1-3202",
       "previous": "35c35dae-55a3-11e7-b0b2-00163e9c0e35-1-7091"
      },
      {
       "current": "35c35f52-55a3-11e7-b0b2-00163e9c0e35-3-e2de-8a27-98e3",
       "next": "a33430b0-9327-11ea-8d02-0242ac120007-2-3202-0bdc",
       "previous": "35c35dae-55a3-11e7-b0b2-00163e9c0e35-2-7091-7055"
      },
      {
       "current": "35c35f52-55a3-11e7-b0b2-00163e9c0e35-3-e2de-8a27-98e3",
       "next": "a33430b0-9327-11ea-8d02-0242ac120007-3-3202-0bdc-fd62",
       "previous": "35c35dae-55a3-11e7-b0b2-00163e9c0e35-3-7091-7055-1fd7"
      },
      {
       "current": "35c35f52-55a3-11e7-b0b2-00163e9c0e35-4-e2de-8a27-98e3-04fe",
       "next": "a33430b0-9327-11ea-8d02-0242ac120007-3-3202-0bdc-fd62",
       "previous": "35c35a52-55a3-11e7-b0b2-00163e9c0e35-3-ed71-9007-f930"
      },
      {
       "current": "35c35f52-55a3-11e7-b0b2-00163e9c0e35-5-e2de-8a27-98e3-04fe-5595",
       "next": "a33430b0-9327-11ea-8d02-0242ac120007-4-3202-0bdc-fd62-a6de",
       "previous": "35c35a52-55a3-11e7-b0b2-00163e9c0e35-4-ed71-9007-f930-281d"
      },
      {
       "current": "35c35f52-55a3-11e7-b0b2-00163e9c0e35-6-e2de-8a27-98e3-04fe-5595-75ec",
       "next": "a33430b0-9327-11ea-8d02-0242ac120007-5-3202-0bdc-fd62-a6de-5bc1",
       "previous": "35c35a52-55a3-11e7-b0b2-00163e9c0e35-5-ed71-9007-f930-281d-f829"
      },
      {
       "current": "35c35f52-55a3-11e7-b0b2-00163e9c0e35-7-e2de-8a27-98e3-04fe-5595-75ec-5650",
       "next": "a33430b0-9327-11ea-8d02-0242ac120007-6-3202-0bdc-fd62-a6de-5bc1-5f9c",
       "previous": "35c35a52-55a3-11e7-b0b2-00163e9c0e35-6-ed71-9007-f930-281d-f829-3071"
      },
      {
       "current": "35c35f52-55a3-11e7-b0b2-00163e9c0e35-8-e2de-8a27-98e3-04fe-5595-75ec-5650-e7ee",
       "next": "a33430b0-9327-11ea-8d02-0242ac120007-7-3202-0bdc-fd62-a6de-5bc1-5f9c-6173",
       "previous": "35c35a52-55a3-11e7-b0b2-00163e9c0e35-7-ed71-9007-f930-281d-f829-3071-dca7"
      }
     ],
     "next": "a33430b0-9327-11ea-8d02-0242ac120007-8-3202-0bdc-fd62-a6de-5bc1-5f9c-6173-d0f0",
     "previous": "35c35a52-55a3-11e7-b0b2-00163e9c0e35-8-ed71-9007-f930-281d-f829-3071-dca7-14fb"
    }
   },
   "source": [
    "Inventoryファイルを生成する。"
   ]
  },
  {
   "cell_type": "code",
   "execution_count": null,
   "metadata": {
    "lc_cell_meme": {
     "current": "a33430b0-9327-11ea-8d02-0242ac120007-8-3202-0bdc-fd62-a6de-5bc1-5f9c-6173-d0f0",
     "history": [
      {
       "current": "a33430b0-9327-11ea-8d02-0242ac120007",
       "next": "35c360f6-55a3-11e7-b0b2-00163e9c0e35",
       "previous": "35c35f52-55a3-11e7-b0b2-00163e9c0e35"
      },
      {
       "current": "a33430b0-9327-11ea-8d02-0242ac120007-1-3202",
       "next": "9c0b8624-959f-11ea-8d02-0242ac120007",
       "previous": "35c35f52-55a3-11e7-b0b2-00163e9c0e35"
      },
      {
       "current": "a33430b0-9327-11ea-8d02-0242ac120007-2-3202-0bdc",
       "next": "9c0b8624-959f-11ea-8d02-0242ac120007-1-8098",
       "previous": "35c35f52-55a3-11e7-b0b2-00163e9c0e35-1-e2de"
      },
      {
       "current": "a33430b0-9327-11ea-8d02-0242ac120007-2-3202-0bdc",
       "next": "9c0b8624-959f-11ea-8d02-0242ac120007-2-8098-a371",
       "previous": "35c35f52-55a3-11e7-b0b2-00163e9c0e35-2-e2de-8a27"
      },
      {
       "current": "a33430b0-9327-11ea-8d02-0242ac120007-3-3202-0bdc-fd62",
       "next": "27f1be96-f4f0-11eb-b29f-0242ac120008",
       "previous": "35c35f52-55a3-11e7-b0b2-00163e9c0e35-2-e2de-8a27"
      },
      {
       "current": "a33430b0-9327-11ea-8d02-0242ac120007-3-3202-0bdc-fd62",
       "next": "27f1be96-f4f0-11eb-b29f-0242ac120008-1-0b6c",
       "previous": "35c35f52-55a3-11e7-b0b2-00163e9c0e35-3-e2de-8a27-98e3"
      },
      {
       "current": "a33430b0-9327-11ea-8d02-0242ac120007-4-3202-0bdc-fd62-a6de",
       "next": "73b1e49c-61bc-11ee-89fa-0242ac120005",
       "previous": "35c35f52-55a3-11e7-b0b2-00163e9c0e35-3-e2de-8a27-98e3"
      },
      {
       "current": "a33430b0-9327-11ea-8d02-0242ac120007-5-3202-0bdc-fd62-a6de-5bc1",
       "next": "73b1e49c-61bc-11ee-89fa-0242ac120005-1-b6ef",
       "previous": "35c35f52-55a3-11e7-b0b2-00163e9c0e35-4-e2de-8a27-98e3-04fe"
      },
      {
       "current": "a33430b0-9327-11ea-8d02-0242ac120007-6-3202-0bdc-fd62-a6de-5bc1-5f9c",
       "next": "73b1e49c-61bc-11ee-89fa-0242ac120005-2-b6ef-a4a2",
       "previous": "35c35f52-55a3-11e7-b0b2-00163e9c0e35-5-e2de-8a27-98e3-04fe-5595"
      },
      {
       "current": "a33430b0-9327-11ea-8d02-0242ac120007-7-3202-0bdc-fd62-a6de-5bc1-5f9c-6173",
       "next": "73b1e49c-61bc-11ee-89fa-0242ac120005-3-b6ef-a4a2-faa5",
       "previous": "35c35f52-55a3-11e7-b0b2-00163e9c0e35-6-e2de-8a27-98e3-04fe-5595-75ec"
      },
      {
       "current": "a33430b0-9327-11ea-8d02-0242ac120007-8-3202-0bdc-fd62-a6de-5bc1-5f9c-6173-d0f0",
       "next": "73b1e49c-61bc-11ee-89fa-0242ac120005-4-b6ef-a4a2-faa5-0f2d",
       "previous": "35c35f52-55a3-11e7-b0b2-00163e9c0e35-7-e2de-8a27-98e3-04fe-5595-75ec-5650"
      }
     ],
     "next": "73b1e49c-61bc-11ee-89fa-0242ac120005-5-b6ef-a4a2-faa5-0f2d-4d19",
     "previous": "35c35f52-55a3-11e7-b0b2-00163e9c0e35-8-e2de-8a27-98e3-04fe-5595-75ec-5650-e7ee"
    }
   },
   "outputs": [],
   "source": [
    "node_user='xxxxx'\n",
    "cephadmin_user='cephadmin'\n",
    "node_key='~/.ssh/id_ras'\n",
    "proxy_user='xxxxx'\n",
    "proxy_key='~/.ssh/id_ras'"
   ]
  },
  {
   "cell_type": "code",
   "execution_count": null,
   "metadata": {
    "lc_cell_meme": {
     "current": "73b1e49c-61bc-11ee-89fa-0242ac120005-5-b6ef-a4a2-faa5-0f2d-4d19",
     "history": [
      {
       "current": "73b1e49c-61bc-11ee-89fa-0242ac120005",
       "next": "35c360f6-55a3-11e7-b0b2-00163e9c0e35-3-4a79-f9ba-754f",
       "previous": "9c0b8624-959f-11ea-8d02-0242ac120007-3-8098-a371-0b4a"
      },
      {
       "current": "73b1e49c-61bc-11ee-89fa-0242ac120005-1-b6ef",
       "next": "35c360f6-55a3-11e7-b0b2-00163e9c0e35-3-4a79-f9ba-754f",
       "previous": "a33430b0-9327-11ea-8d02-0242ac120007-3-3202-0bdc-fd62"
      },
      {
       "current": "73b1e49c-61bc-11ee-89fa-0242ac120005-2-b6ef-a4a2",
       "next": "35c360f6-55a3-11e7-b0b2-00163e9c0e35-4-4a79-f9ba-754f-664f",
       "previous": "a33430b0-9327-11ea-8d02-0242ac120007-4-3202-0bdc-fd62-a6de"
      },
      {
       "current": "73b1e49c-61bc-11ee-89fa-0242ac120005-3-b6ef-a4a2-faa5",
       "next": "35c360f6-55a3-11e7-b0b2-00163e9c0e35-5-4a79-f9ba-754f-664f-6ef6",
       "previous": "a33430b0-9327-11ea-8d02-0242ac120007-5-3202-0bdc-fd62-a6de-5bc1"
      },
      {
       "current": "73b1e49c-61bc-11ee-89fa-0242ac120005-4-b6ef-a4a2-faa5-0f2d",
       "next": "35c360f6-55a3-11e7-b0b2-00163e9c0e35-6-4a79-f9ba-754f-664f-6ef6-70c1",
       "previous": "a33430b0-9327-11ea-8d02-0242ac120007-6-3202-0bdc-fd62-a6de-5bc1-5f9c"
      },
      {
       "current": "73b1e49c-61bc-11ee-89fa-0242ac120005-5-b6ef-a4a2-faa5-0f2d-4d19",
       "next": "35c360f6-55a3-11e7-b0b2-00163e9c0e35-7-4a79-f9ba-754f-664f-6ef6-70c1-7e72",
       "previous": "a33430b0-9327-11ea-8d02-0242ac120007-7-3202-0bdc-fd62-a6de-5bc1-5f9c-6173"
      }
     ],
     "next": "35c360f6-55a3-11e7-b0b2-00163e9c0e35-8-4a79-f9ba-754f-664f-6ef6-70c1-7e72-9586",
     "previous": "a33430b0-9327-11ea-8d02-0242ac120007-8-3202-0bdc-fd62-a6de-5bc1-5f9c-6173-d0f0"
    }
   },
   "outputs": [],
   "source": [
    "bootstrap_ip = bootstrap_node['prov_ip']"
   ]
  },
  {
   "cell_type": "code",
   "execution_count": null,
   "metadata": {
    "ExecuteTime": {
     "end_time": "2017-06-29T08:50:39.909299Z",
     "start_time": "2017-06-29T08:50:39.762658Z"
    },
    "lc_cell_meme": {
     "current": "35c360f6-55a3-11e7-b0b2-00163e9c0e35-8-4a79-f9ba-754f-664f-6ef6-70c1-7e72-9586",
     "history": [
      {
       "current": "35c360f6-55a3-11e7-b0b2-00163e9c0e35",
       "next": "35c362a4-55a3-11e7-b0b2-00163e9c0e35",
       "previous": "35c35f52-55a3-11e7-b0b2-00163e9c0e35"
      },
      {
       "current": "35c360f6-55a3-11e7-b0b2-00163e9c0e35",
       "next": "35c362a4-55a3-11e7-b0b2-00163e9c0e35",
       "previous": "a33430b0-9327-11ea-8d02-0242ac120007"
      },
      {
       "current": "35c360f6-55a3-11e7-b0b2-00163e9c0e35-1-4a79",
       "next": "35c362a4-55a3-11e7-b0b2-00163e9c0e35",
       "previous": "9c0b88cc-959f-11ea-8d02-0242ac120007"
      },
      {
       "current": "35c360f6-55a3-11e7-b0b2-00163e9c0e35-2-4a79-f9ba",
       "next": "35c362a4-55a3-11e7-b0b2-00163e9c0e35-1-3f0a",
       "previous": "9c0b88cc-959f-11ea-8d02-0242ac120007-1-b077"
      },
      {
       "current": "35c360f6-55a3-11e7-b0b2-00163e9c0e35-2-4a79-f9ba",
       "next": "35c362a4-55a3-11e7-b0b2-00163e9c0e35-2-3f0a-3633",
       "previous": "9c0b88cc-959f-11ea-8d02-0242ac120007-2-b077-046d"
      },
      {
       "current": "35c360f6-55a3-11e7-b0b2-00163e9c0e35-2-4a79-f9ba",
       "next": "7dae8996-9686-11ea-8d02-0242ac120007-2-20c5-a0b0",
       "previous": "9c0b88cc-959f-11ea-8d02-0242ac120007-2-b077-046d"
      },
      {
       "current": "35c360f6-55a3-11e7-b0b2-00163e9c0e35-2-4a79-f9ba",
       "next": "35c362a4-55a3-11e7-b0b2-00163e9c0e35-2-89a7-98f2",
       "previous": "9c0b88cc-959f-11ea-8d02-0242ac120007-2-b077-046d"
      },
      {
       "current": "35c360f6-55a3-11e7-b0b2-00163e9c0e35-3-4a79-f9ba-754f",
       "next": "35c362a4-55a3-11e7-b0b2-00163e9c0e35-2-89a7-98f2",
       "previous": "9c0b8624-959f-11ea-8d02-0242ac120007-2-8098-a371"
      },
      {
       "current": "35c360f6-55a3-11e7-b0b2-00163e9c0e35-3-4a79-f9ba-754f",
       "next": "35c362a4-55a3-11e7-b0b2-00163e9c0e35-3-89a7-98f2-5cf2",
       "previous": "9c0b8624-959f-11ea-8d02-0242ac120007-3-8098-a371-0b4a"
      },
      {
       "current": "35c360f6-55a3-11e7-b0b2-00163e9c0e35-4-4a79-f9ba-754f-664f",
       "next": "35c362a4-55a3-11e7-b0b2-00163e9c0e35-3-89a7-98f2-5cf2",
       "previous": "73b1e49c-61bc-11ee-89fa-0242ac120005"
      },
      {
       "current": "35c360f6-55a3-11e7-b0b2-00163e9c0e35-5-4a79-f9ba-754f-664f-6ef6",
       "next": "35c362a4-55a3-11e7-b0b2-00163e9c0e35-4-89a7-98f2-5cf2-99a2",
       "previous": "73b1e49c-61bc-11ee-89fa-0242ac120005-1-b6ef"
      },
      {
       "current": "35c360f6-55a3-11e7-b0b2-00163e9c0e35-6-4a79-f9ba-754f-664f-6ef6-70c1",
       "next": "35c362a4-55a3-11e7-b0b2-00163e9c0e35-5-89a7-98f2-5cf2-99a2-f995",
       "previous": "73b1e49c-61bc-11ee-89fa-0242ac120005-2-b6ef-a4a2"
      },
      {
       "current": "35c360f6-55a3-11e7-b0b2-00163e9c0e35-6-4a79-f9ba-754f-664f-6ef6-70c1",
       "next": "35c362a4-55a3-11e7-b0b2-00163e9c0e35-6-89a7-98f2-5cf2-99a2-f995-060f",
       "previous": "73b1e49c-61bc-11ee-89fa-0242ac120005-3-b6ef-a4a2-faa5"
      },
      {
       "current": "35c360f6-55a3-11e7-b0b2-00163e9c0e35-7-4a79-f9ba-754f-664f-6ef6-70c1-7e72",
       "next": "564f4434-1d8d-11ef-ad2f-0242ac120005",
       "previous": "73b1e49c-61bc-11ee-89fa-0242ac120005-3-b6ef-a4a2-faa5"
      },
      {
       "current": "35c360f6-55a3-11e7-b0b2-00163e9c0e35-8-4a79-f9ba-754f-664f-6ef6-70c1-7e72-9586",
       "next": "564f4434-1d8d-11ef-ad2f-0242ac120005-1-f2d7",
       "previous": "73b1e49c-61bc-11ee-89fa-0242ac120005-4-b6ef-a4a2-faa5-0f2d"
      }
     ],
     "next": "564f4434-1d8d-11ef-ad2f-0242ac120005-2-f2d7-eba0",
     "previous": "73b1e49c-61bc-11ee-89fa-0242ac120005-5-b6ef-a4a2-faa5-0f2d-4d19"
    },
    "run_control": {
     "frozen": true
    },
    "scrolled": false
   },
   "outputs": [],
   "source": [
    "import os\n",
    "\n",
    "with open( os.path.join(temp_dir, \"hosts\"), 'w') as f:\n",
    "\n",
    "    f.write('''[ceph_admin]\n",
    "{ceph_admin_ip} ansible_user={proxy_user} ansible_ssh_private_key_file={proxy_key} ansible_python_interpreter=/usr/bin/python3\n",
    "'''.format(ceph_admin_ip=ceph_admin_ip, proxy_user=proxy_user, proxy_key=proxy_key, bootstrap_ip=bootstrap_ip))\n",
    "\n",
    "    f.write('''[bootstrap]\n",
    "{node_ip} ansible_user={node_user} ansible_ssh_private_key_file={node_key} ansible_ssh_common_args='-o ControlMaster=auto -o StrictHostKeyChecking=no -o ControlPersist=30m -o ProxyCommand=\"ssh -W %h:%p -i {proxy_key} -q {proxy_user}@{ceph_admin_ip}\"' ansible_python_interpreter=/usr/bin/python3\n",
    "'''.format(ceph_admin_ip=ceph_admin_ip, node_ip=bootstrap_ip, node_key=node_key,\n",
    "           node_user=node_user, proxy_user=proxy_user, proxy_key=proxy_key))    \n",
    "\n",
    "    f.write('''[openstack_ctl]\n",
    "{openstack_cmn}\n",
    "'''.format(openstack_cmn = provisioning_vip))\n",
    "\n",
    "hosts = temp_dir + \"/hosts\"\n",
    "\n",
    "!cat $hosts"
   ]
  },
  {
   "cell_type": "code",
   "execution_count": null,
   "metadata": {
    "lc_cell_meme": {
     "current": "564f4434-1d8d-11ef-ad2f-0242ac120005-2-f2d7-eba0",
     "history": [
      {
       "current": "564f4434-1d8d-11ef-ad2f-0242ac120005-1-f2d7",
       "next": "35c362a4-55a3-11e7-b0b2-00163e9c0e35-6-89a7-98f2-5cf2-99a2-f995-060f",
       "previous": "35c360f6-55a3-11e7-b0b2-00163e9c0e35-6-4a79-f9ba-754f-664f-6ef6-70c1"
      },
      {
       "current": "564f4434-1d8d-11ef-ad2f-0242ac120005-2-f2d7-eba0",
       "next": "35c362a4-55a3-11e7-b0b2-00163e9c0e35-7-89a7-98f2-5cf2-99a2-f995-060f-30dd",
       "previous": "35c360f6-55a3-11e7-b0b2-00163e9c0e35-7-4a79-f9ba-754f-664f-6ef6-70c1-7e72"
      }
     ],
     "next": "35c362a4-55a3-11e7-b0b2-00163e9c0e35-8-89a7-98f2-5cf2-99a2-f995-060f-30dd-28a8",
     "previous": "35c360f6-55a3-11e7-b0b2-00163e9c0e35-8-4a79-f9ba-754f-664f-6ef6-70c1-7e72-9586"
    }
   },
   "outputs": [],
   "source": [
    "%env ANSIBLE_INVENTORY={hosts}"
   ]
  },
  {
   "cell_type": "markdown",
   "metadata": {
    "lc_cell_meme": {
     "current": "35c362a4-55a3-11e7-b0b2-00163e9c0e35-8-89a7-98f2-5cf2-99a2-f995-060f-30dd-28a8",
     "history": [
      {
       "current": "35c362a4-55a3-11e7-b0b2-00163e9c0e35",
       "next": "35c36448-55a3-11e7-b0b2-00163e9c0e35",
       "previous": "35c360f6-55a3-11e7-b0b2-00163e9c0e35"
      },
      {
       "current": "35c362a4-55a3-11e7-b0b2-00163e9c0e35",
       "next": "35c36448-55a3-11e7-b0b2-00163e9c0e35",
       "previous": "4cd5b0cc-7ef5-11ea-a926-0242ac120004"
      },
      {
       "current": "35c362a4-55a3-11e7-b0b2-00163e9c0e35",
       "next": "35c36448-55a3-11e7-b0b2-00163e9c0e35",
       "previous": "db546a28-7ef5-11ea-a926-0242ac120004"
      },
      {
       "current": "35c362a4-55a3-11e7-b0b2-00163e9c0e35",
       "next": "35c36448-55a3-11e7-b0b2-00163e9c0e35",
       "previous": "4cd5af28-7ef5-11ea-a926-0242ac120004"
      },
      {
       "current": "35c362a4-55a3-11e7-b0b2-00163e9c0e35",
       "next": "35c36448-55a3-11e7-b0b2-00163e9c0e35",
       "previous": "7d464504-9107-11ea-8d02-0242ac120007"
      },
      {
       "current": "35c362a4-55a3-11e7-b0b2-00163e9c0e35",
       "next": "35c36448-55a3-11e7-b0b2-00163e9c0e35",
       "previous": "bd797188-910b-11ea-8d02-0242ac120007"
      },
      {
       "current": "35c362a4-55a3-11e7-b0b2-00163e9c0e35",
       "next": "35c36448-55a3-11e7-b0b2-00163e9c0e35",
       "previous": "70b95056-9111-11ea-8d02-0242ac120007"
      },
      {
       "current": "35c362a4-55a3-11e7-b0b2-00163e9c0e35",
       "next": "35c36448-55a3-11e7-b0b2-00163e9c0e35",
       "previous": "bd797188-910b-11ea-8d02-0242ac120007"
      },
      {
       "current": "35c362a4-55a3-11e7-b0b2-00163e9c0e35",
       "next": "bd797188-910b-11ea-8d02-0242ac120007",
       "previous": "4cd5af28-7ef5-11ea-a926-0242ac120004"
      },
      {
       "current": "35c362a4-55a3-11e7-b0b2-00163e9c0e35",
       "next": "484c7376-935c-11ea-8d02-0242ac120007",
       "previous": "4cd5af28-7ef5-11ea-a926-0242ac120004"
      },
      {
       "current": "35c362a4-55a3-11e7-b0b2-00163e9c0e35-1-89a7",
       "next": "bd797188-910b-11ea-8d02-0242ac120007",
       "previous": "4cd5af28-7ef5-11ea-a926-0242ac120004"
      },
      {
       "current": "35c362a4-55a3-11e7-b0b2-00163e9c0e35-2-89a7-98f2",
       "next": "bd797188-910b-11ea-8d02-0242ac120007-1-728a",
       "previous": "4cd5af28-7ef5-11ea-a926-0242ac120004-1-726b"
      },
      {
       "current": "35c362a4-55a3-11e7-b0b2-00163e9c0e35-2-89a7-98f2",
       "next": "bd797188-910b-11ea-8d02-0242ac120007-2-728a-254c",
       "previous": "4cd5af28-7ef5-11ea-a926-0242ac120004-2-726b-a0d6"
      },
      {
       "current": "35c362a4-55a3-11e7-b0b2-00163e9c0e35-2-89a7-98f2",
       "next": "bd797188-910b-11ea-8d02-0242ac120007-2-728a-254c",
       "previous": "35c360f6-55a3-11e7-b0b2-00163e9c0e35-2-4a79-f9ba"
      },
      {
       "current": "35c362a4-55a3-11e7-b0b2-00163e9c0e35-3-89a7-98f2-5cf2",
       "next": "ef4d2888-aa17-11ea-9ad4-0242ac120006-1-42b7",
       "previous": "35c360f6-55a3-11e7-b0b2-00163e9c0e35-2-4a79-f9ba"
      },
      {
       "current": "35c362a4-55a3-11e7-b0b2-00163e9c0e35-4-89a7-98f2-5cf2-99a2",
       "next": "ef4d2888-aa17-11ea-9ad4-0242ac120006-2-42b7-b07a",
       "previous": "35c360f6-55a3-11e7-b0b2-00163e9c0e35-3-4a79-f9ba-754f"
      },
      {
       "current": "35c362a4-55a3-11e7-b0b2-00163e9c0e35-5-89a7-98f2-5cf2-99a2-f995",
       "next": "ef4d2888-aa17-11ea-9ad4-0242ac120006-3-42b7-b07a-8aaf",
       "previous": "35c360f6-55a3-11e7-b0b2-00163e9c0e35-4-4a79-f9ba-754f-664f"
      },
      {
       "current": "35c362a4-55a3-11e7-b0b2-00163e9c0e35-6-89a7-98f2-5cf2-99a2-f995-060f",
       "next": "ef4d2888-aa17-11ea-9ad4-0242ac120006-4-42b7-b07a-8aaf-4aa1",
       "previous": "35c360f6-55a3-11e7-b0b2-00163e9c0e35-5-4a79-f9ba-754f-664f-6ef6"
      },
      {
       "current": "35c362a4-55a3-11e7-b0b2-00163e9c0e35-6-89a7-98f2-5cf2-99a2-f995-060f",
       "next": "ef4d2888-aa17-11ea-9ad4-0242ac120006-5-42b7-b07a-8aaf-4aa1-c4c4",
       "previous": "35c360f6-55a3-11e7-b0b2-00163e9c0e35-6-4a79-f9ba-754f-664f-6ef6-70c1"
      },
      {
       "current": "35c362a4-55a3-11e7-b0b2-00163e9c0e35-7-89a7-98f2-5cf2-99a2-f995-060f-30dd",
       "next": "ef4d2888-aa17-11ea-9ad4-0242ac120006-5-42b7-b07a-8aaf-4aa1-c4c4",
       "previous": "564f4434-1d8d-11ef-ad2f-0242ac120005"
      },
      {
       "current": "35c362a4-55a3-11e7-b0b2-00163e9c0e35-8-89a7-98f2-5cf2-99a2-f995-060f-30dd-28a8",
       "next": "ef4d2888-aa17-11ea-9ad4-0242ac120006-6-42b7-b07a-8aaf-4aa1-c4c4-a1a1",
       "previous": "564f4434-1d8d-11ef-ad2f-0242ac120005-1-f2d7"
      }
     ],
     "next": "ef4d2888-aa17-11ea-9ad4-0242ac120006-7-42b7-b07a-8aaf-4aa1-c4c4-a1a1-d8f2",
     "previous": "564f4434-1d8d-11ef-ad2f-0242ac120005-2-f2d7-eba0"
    }
   },
   "source": [
    "## 疎通確認\n",
    "以下コマンドを実行し、OpeHubからCephAdmin経由で、Cephノードに疎通することを確認する。"
   ]
  },
  {
   "cell_type": "code",
   "execution_count": null,
   "metadata": {
    "lc_cell_meme": {
     "current": "ef4d2888-aa17-11ea-9ad4-0242ac120006-7-42b7-b07a-8aaf-4aa1-c4c4-a1a1-d8f2",
     "history": [
      {
       "current": "ef4d2888-aa17-11ea-9ad4-0242ac120006-1-42b7",
       "next": "ac56a252-95bd-11ea-8d02-0242ac120007-1-86ee",
       "previous": "bd797188-910b-11ea-8d02-0242ac120007-1-728a"
      },
      {
       "current": "ef4d2888-aa17-11ea-9ad4-0242ac120006-1-42b7",
       "next": "ac56a252-95bd-11ea-8d02-0242ac120007-2-86ee-3a22",
       "previous": "bd797188-910b-11ea-8d02-0242ac120007-2-728a-254c"
      },
      {
       "current": "ef4d2888-aa17-11ea-9ad4-0242ac120006-1-42b7",
       "next": "bd797188-910b-11ea-8d02-0242ac120007-2-728a-254c",
       "previous": "35c362a4-55a3-11e7-b0b2-00163e9c0e35-2-89a7-98f2"
      },
      {
       "current": "ef4d2888-aa17-11ea-9ad4-0242ac120006-2-42b7-b07a",
       "next": "e3856a36-df01-11eb-b29f-0242ac120008",
       "previous": "35c362a4-55a3-11e7-b0b2-00163e9c0e35-2-89a7-98f2"
      },
      {
       "current": "ef4d2888-aa17-11ea-9ad4-0242ac120006-2-42b7-b07a",
       "next": "e3856a36-df01-11eb-b29f-0242ac120008-1-d6f1",
       "previous": "35c362a4-55a3-11e7-b0b2-00163e9c0e35-3-89a7-98f2-5cf2"
      },
      {
       "current": "ef4d2888-aa17-11ea-9ad4-0242ac120006-2-42b7-b07a",
       "next": "bd797188-910b-11ea-8d02-0242ac120007-3-728a-254c-2f4c",
       "previous": "35c362a4-55a3-11e7-b0b2-00163e9c0e35-3-89a7-98f2-5cf2"
      },
      {
       "current": "ef4d2888-aa17-11ea-9ad4-0242ac120006-3-42b7-b07a-8aaf",
       "next": "91d0d70c-61bd-11ee-89fa-0242ac120005",
       "previous": "35c362a4-55a3-11e7-b0b2-00163e9c0e35-3-89a7-98f2-5cf2"
      },
      {
       "current": "ef4d2888-aa17-11ea-9ad4-0242ac120006-4-42b7-b07a-8aaf-4aa1",
       "next": "91d0d70c-61bd-11ee-89fa-0242ac120005-1-939c",
       "previous": "35c362a4-55a3-11e7-b0b2-00163e9c0e35-4-89a7-98f2-5cf2-99a2"
      },
      {
       "current": "ef4d2888-aa17-11ea-9ad4-0242ac120006-5-42b7-b07a-8aaf-4aa1-c4c4",
       "next": "91d0d70c-61bd-11ee-89fa-0242ac120005-2-939c-e7a0",
       "previous": "35c362a4-55a3-11e7-b0b2-00163e9c0e35-5-89a7-98f2-5cf2-99a2-f995"
      },
      {
       "current": "ef4d2888-aa17-11ea-9ad4-0242ac120006-6-42b7-b07a-8aaf-4aa1-c4c4-a1a1",
       "next": "91d0d70c-61bd-11ee-89fa-0242ac120005-3-939c-e7a0-6e6b",
       "previous": "35c362a4-55a3-11e7-b0b2-00163e9c0e35-6-89a7-98f2-5cf2-99a2-f995-060f"
      },
      {
       "current": "ef4d2888-aa17-11ea-9ad4-0242ac120006-7-42b7-b07a-8aaf-4aa1-c4c4-a1a1-d8f2",
       "next": "91d0d70c-61bd-11ee-89fa-0242ac120005-4-939c-e7a0-6e6b-b24d",
       "previous": "35c362a4-55a3-11e7-b0b2-00163e9c0e35-7-89a7-98f2-5cf2-99a2-f995-060f-30dd"
      }
     ],
     "next": "91d0d70c-61bd-11ee-89fa-0242ac120005-5-939c-e7a0-6e6b-b24d-b99d",
     "previous": "35c362a4-55a3-11e7-b0b2-00163e9c0e35-8-89a7-98f2-5cf2-99a2-f995-060f-30dd-28a8"
    }
   },
   "outputs": [],
   "source": [
    "!ansible -b -m shell -a 'hostname' ceph_admin"
   ]
  },
  {
   "cell_type": "code",
   "execution_count": null,
   "metadata": {
    "lc_cell_meme": {
     "current": "91d0d70c-61bd-11ee-89fa-0242ac120005-5-939c-e7a0-6e6b-b24d-b99d",
     "history": [
      {
       "current": "91d0d70c-61bd-11ee-89fa-0242ac120005",
       "next": "ac56a252-95bd-11ea-8d02-0242ac120007-3-86ee-3a22-9a71",
       "previous": "21d849e2-dfd0-11eb-b29f-0242ac120008-1-ee1b"
      },
      {
       "current": "91d0d70c-61bd-11ee-89fa-0242ac120005-1-939c",
       "next": "ac56a252-95bd-11ea-8d02-0242ac120007-3-86ee-3a22-9a71",
       "previous": "ef4d2888-aa17-11ea-9ad4-0242ac120006-2-42b7-b07a"
      },
      {
       "current": "91d0d70c-61bd-11ee-89fa-0242ac120005-2-939c-e7a0",
       "next": "ac56a252-95bd-11ea-8d02-0242ac120007-4-86ee-3a22-9a71-529e",
       "previous": "ef4d2888-aa17-11ea-9ad4-0242ac120006-3-42b7-b07a-8aaf"
      },
      {
       "current": "91d0d70c-61bd-11ee-89fa-0242ac120005-3-939c-e7a0-6e6b",
       "next": "ac56a252-95bd-11ea-8d02-0242ac120007-5-86ee-3a22-9a71-529e-f67b",
       "previous": "ef4d2888-aa17-11ea-9ad4-0242ac120006-4-42b7-b07a-8aaf-4aa1"
      },
      {
       "current": "91d0d70c-61bd-11ee-89fa-0242ac120005-4-939c-e7a0-6e6b-b24d",
       "next": "ac56a252-95bd-11ea-8d02-0242ac120007-6-86ee-3a22-9a71-529e-f67b-6557",
       "previous": "ef4d2888-aa17-11ea-9ad4-0242ac120006-5-42b7-b07a-8aaf-4aa1-c4c4"
      },
      {
       "current": "91d0d70c-61bd-11ee-89fa-0242ac120005-5-939c-e7a0-6e6b-b24d-b99d",
       "next": "ac56a252-95bd-11ea-8d02-0242ac120007-7-86ee-3a22-9a71-529e-f67b-6557-5256",
       "previous": "ef4d2888-aa17-11ea-9ad4-0242ac120006-6-42b7-b07a-8aaf-4aa1-c4c4-a1a1"
      }
     ],
     "next": "ac56a252-95bd-11ea-8d02-0242ac120007-8-86ee-3a22-9a71-529e-f67b-6557-5256-1fa0",
     "previous": "ef4d2888-aa17-11ea-9ad4-0242ac120006-7-42b7-b07a-8aaf-4aa1-c4c4-a1a1-d8f2"
    }
   },
   "outputs": [],
   "source": [
    "!ansible -b -m shell -a 'hostname' bootstrap"
   ]
  },
  {
   "cell_type": "markdown",
   "metadata": {
    "lc_cell_meme": {
     "current": "ac56a252-95bd-11ea-8d02-0242ac120007-8-86ee-3a22-9a71-529e-f67b-6557-5256-1fa0",
     "history": [
      {
       "current": "ac56a252-95bd-11ea-8d02-0242ac120007-1-86ee",
       "next": "ac56a6c6-95bd-11ea-8d02-0242ac120007",
       "previous": "bd797188-910b-11ea-8d02-0242ac120007"
      },
      {
       "current": "ac56a252-95bd-11ea-8d02-0242ac120007-1-86ee",
       "next": "ac56a6c6-95bd-11ea-8d02-0242ac120007-1-431a",
       "previous": "bd797188-910b-11ea-8d02-0242ac120007-1-728a"
      },
      {
       "current": "ac56a252-95bd-11ea-8d02-0242ac120007-1-86ee",
       "next": "46b93d3e-95bc-11ea-8d02-0242ac120007-1-9f9c",
       "previous": "bd797188-910b-11ea-8d02-0242ac120007-1-728a"
      },
      {
       "current": "ac56a252-95bd-11ea-8d02-0242ac120007-2-86ee-3a22",
       "next": "46b93d3e-95bc-11ea-8d02-0242ac120007-1-9f9c",
       "previous": "ef4d2888-aa17-11ea-9ad4-0242ac120006"
      },
      {
       "current": "ac56a252-95bd-11ea-8d02-0242ac120007-2-86ee-3a22",
       "next": "46b93d3e-95bc-11ea-8d02-0242ac120007-2-9f9c-2f8b",
       "previous": "ef4d2888-aa17-11ea-9ad4-0242ac120006-1-42b7"
      },
      {
       "current": "ac56a252-95bd-11ea-8d02-0242ac120007-2-86ee-3a22",
       "next": "46b93d3e-95bc-11ea-8d02-0242ac120007-2-9f9c-2f8b",
       "previous": "bd797188-910b-11ea-8d02-0242ac120007-2-728a-254c"
      },
      {
       "current": "ac56a252-95bd-11ea-8d02-0242ac120007-3-86ee-3a22-9a71",
       "next": "46b93d3e-95bc-11ea-8d02-0242ac120007-2-9f9c-2f8b",
       "previous": "21d849e2-dfd0-11eb-b29f-0242ac120008"
      },
      {
       "current": "ac56a252-95bd-11ea-8d02-0242ac120007-3-86ee-3a22-9a71",
       "next": "46b93d3e-95bc-11ea-8d02-0242ac120007-3-9f9c-2f8b-fd5c",
       "previous": "21d849e2-dfd0-11eb-b29f-0242ac120008-1-ee1b"
      },
      {
       "current": "ac56a252-95bd-11ea-8d02-0242ac120007-3-86ee-3a22-9a71",
       "next": "1e5a5a54-4bb1-11ee-89fa-0242ac120005",
       "previous": "21d849e2-dfd0-11eb-b29f-0242ac120008-1-ee1b"
      },
      {
       "current": "ac56a252-95bd-11ea-8d02-0242ac120007-3-86ee-3a22-9a71",
       "next": "65e00220-4bb1-11ee-89fa-0242ac120005",
       "previous": "21d849e2-dfd0-11eb-b29f-0242ac120008-1-ee1b"
      },
      {
       "current": "ac56a252-95bd-11ea-8d02-0242ac120007-3-86ee-3a22-9a71",
       "next": "5d429cae-6191-11ee-89fa-0242ac120005",
       "previous": "21d849e2-dfd0-11eb-b29f-0242ac120008-1-ee1b"
      },
      {
       "current": "ac56a252-95bd-11ea-8d02-0242ac120007-3-86ee-3a22-9a71",
       "next": "5d429cae-6191-11ee-89fa-0242ac120005",
       "previous": "91d0d70c-61bd-11ee-89fa-0242ac120005"
      },
      {
       "current": "ac56a252-95bd-11ea-8d02-0242ac120007-3-86ee-3a22-9a71",
       "next": "d9541562-61bd-11ee-89fa-0242ac120005",
       "previous": "91d0d70c-61bd-11ee-89fa-0242ac120005"
      },
      {
       "current": "ac56a252-95bd-11ea-8d02-0242ac120007-3-86ee-3a22-9a71",
       "next": "43709838-6251-11ee-89fa-0242ac120005",
       "previous": "91d0d70c-61bd-11ee-89fa-0242ac120005"
      },
      {
       "current": "ac56a252-95bd-11ea-8d02-0242ac120007-3-86ee-3a22-9a71",
       "next": "5dbaa4dc-7470-11ee-89fa-0242ac120005",
       "previous": "91d0d70c-61bd-11ee-89fa-0242ac120005"
      },
      {
       "current": "ac56a252-95bd-11ea-8d02-0242ac120007-3-86ee-3a22-9a71",
       "next": "5dbaa93c-7470-11ee-89fa-0242ac120005",
       "previous": "91d0d70c-61bd-11ee-89fa-0242ac120005"
      },
      {
       "current": "ac56a252-95bd-11ea-8d02-0242ac120007-4-86ee-3a22-9a71-529e",
       "next": "3a6f2148-7474-11ee-89fa-0242ac120005",
       "previous": "91d0d70c-61bd-11ee-89fa-0242ac120005"
      },
      {
       "current": "ac56a252-95bd-11ea-8d02-0242ac120007-5-86ee-3a22-9a71-529e-f67b",
       "next": "3a6f2148-7474-11ee-89fa-0242ac120005-1-a4c8",
       "previous": "91d0d70c-61bd-11ee-89fa-0242ac120005-1-939c"
      },
      {
       "current": "ac56a252-95bd-11ea-8d02-0242ac120007-6-86ee-3a22-9a71-529e-f67b-6557",
       "next": "3a6f2148-7474-11ee-89fa-0242ac120005-2-a4c8-44b4",
       "previous": "91d0d70c-61bd-11ee-89fa-0242ac120005-2-939c-e7a0"
      },
      {
       "current": "ac56a252-95bd-11ea-8d02-0242ac120007-7-86ee-3a22-9a71-529e-f67b-6557-5256",
       "next": "3a6f2148-7474-11ee-89fa-0242ac120005-3-a4c8-44b4-0603",
       "previous": "91d0d70c-61bd-11ee-89fa-0242ac120005-3-939c-e7a0-6e6b"
      },
      {
       "current": "ac56a252-95bd-11ea-8d02-0242ac120007-8-86ee-3a22-9a71-529e-f67b-6557-5256-1fa0",
       "next": "3a6f2148-7474-11ee-89fa-0242ac120005-4-a4c8-44b4-0603-9b35",
       "previous": "91d0d70c-61bd-11ee-89fa-0242ac120005-4-939c-e7a0-6e6b-b24d"
      }
     ],
     "next": "3a6f2148-7474-11ee-89fa-0242ac120005-5-a4c8-44b4-0603-9b35-3962",
     "previous": "91d0d70c-61bd-11ee-89fa-0242ac120005-5-939c-e7a0-6e6b-b24d-b99d"
    }
   },
   "source": [
    "# moniter stack追加\n",
    "監視用サービスを追加する。<br>\n",
    "監視サービスを構築するノードをここで定義。<br>\n",
    "事前にホスト情報が登録されていることが前提。"
   ]
  },
  {
   "cell_type": "markdown",
   "metadata": {
    "lc_cell_meme": {
     "current": "3a6f2148-7474-11ee-89fa-0242ac120005-5-a4c8-44b4-0603-9b35-3962",
     "history": [
      {
       "current": "3a6f2148-7474-11ee-89fa-0242ac120005",
       "next": "5dbaa93c-7470-11ee-89fa-0242ac120005",
       "previous": "ac56a252-95bd-11ea-8d02-0242ac120007-3-86ee-3a22-9a71"
      },
      {
       "current": "3a6f2148-7474-11ee-89fa-0242ac120005-1-a4c8",
       "next": "abd280a0-7f96-11ee-91d3-0242ac120006",
       "previous": "ac56a252-95bd-11ea-8d02-0242ac120007-3-86ee-3a22-9a71"
      },
      {
       "current": "3a6f2148-7474-11ee-89fa-0242ac120005-2-a4c8-44b4",
       "next": "abd280a0-7f96-11ee-91d3-0242ac120006-1-2cbe",
       "previous": "ac56a252-95bd-11ea-8d02-0242ac120007-4-86ee-3a22-9a71-529e"
      },
      {
       "current": "3a6f2148-7474-11ee-89fa-0242ac120005-3-a4c8-44b4-0603",
       "next": "abd280a0-7f96-11ee-91d3-0242ac120006-2-2cbe-f2f7",
       "previous": "ac56a252-95bd-11ea-8d02-0242ac120007-5-86ee-3a22-9a71-529e-f67b"
      },
      {
       "current": "3a6f2148-7474-11ee-89fa-0242ac120005-4-a4c8-44b4-0603-9b35",
       "next": "abd280a0-7f96-11ee-91d3-0242ac120006-3-2cbe-f2f7-50ba",
       "previous": "ac56a252-95bd-11ea-8d02-0242ac120007-6-86ee-3a22-9a71-529e-f67b-6557"
      },
      {
       "current": "3a6f2148-7474-11ee-89fa-0242ac120005-5-a4c8-44b4-0603-9b35-3962",
       "next": "abd280a0-7f96-11ee-91d3-0242ac120006-4-2cbe-f2f7-50ba-8a03",
       "previous": "ac56a252-95bd-11ea-8d02-0242ac120007-7-86ee-3a22-9a71-529e-f67b-6557-5256"
      }
     ],
     "next": "abd280a0-7f96-11ee-91d3-0242ac120006-5-2cbe-f2f7-50ba-8a03-046a",
     "previous": "ac56a252-95bd-11ea-8d02-0242ac120007-8-86ee-3a22-9a71-529e-f67b-6557-5256-1fa0"
    }
   },
   "source": [
    "## 対象ノード設定"
   ]
  },
  {
   "cell_type": "code",
   "execution_count": null,
   "metadata": {
    "lc_cell_meme": {
     "current": "abd280a0-7f96-11ee-91d3-0242ac120006-5-2cbe-f2f7-50ba-8a03-046a",
     "history": [
      {
       "current": "abd280a0-7f96-11ee-91d3-0242ac120006-1-2cbe",
       "next": "abd28280-7f96-11ee-91d3-0242ac120006",
       "previous": "3a6f2148-7474-11ee-89fa-0242ac120005"
      },
      {
       "current": "abd280a0-7f96-11ee-91d3-0242ac120006-2-2cbe-f2f7",
       "next": "abd28280-7f96-11ee-91d3-0242ac120006-1-e523",
       "previous": "3a6f2148-7474-11ee-89fa-0242ac120005-1-a4c8"
      },
      {
       "current": "abd280a0-7f96-11ee-91d3-0242ac120006-3-2cbe-f2f7-50ba",
       "next": "abd28280-7f96-11ee-91d3-0242ac120006-2-e523-66d0",
       "previous": "3a6f2148-7474-11ee-89fa-0242ac120005-2-a4c8-44b4"
      },
      {
       "current": "abd280a0-7f96-11ee-91d3-0242ac120006-4-2cbe-f2f7-50ba-8a03",
       "next": "abd28280-7f96-11ee-91d3-0242ac120006-3-e523-66d0-e782",
       "previous": "3a6f2148-7474-11ee-89fa-0242ac120005-3-a4c8-44b4-0603"
      },
      {
       "current": "abd280a0-7f96-11ee-91d3-0242ac120006-5-2cbe-f2f7-50ba-8a03-046a",
       "next": "abd28280-7f96-11ee-91d3-0242ac120006-4-e523-66d0-e782-80e3",
       "previous": "3a6f2148-7474-11ee-89fa-0242ac120005-4-a4c8-44b4-0603-9b35"
      }
     ],
     "next": "abd28280-7f96-11ee-91d3-0242ac120006-5-e523-66d0-e782-80e3-96ab",
     "previous": "3a6f2148-7474-11ee-89fa-0242ac120005-5-a4c8-44b4-0603-9b35-3962"
    }
   },
   "outputs": [],
   "source": [
    "!ansible -b -m shell -a 'cephadm shell -- ceph orch ls 2> /dev/null' bootstrap"
   ]
  },
  {
   "cell_type": "code",
   "execution_count": null,
   "metadata": {
    "lc_cell_meme": {
     "current": "abd28280-7f96-11ee-91d3-0242ac120006-5-e523-66d0-e782-80e3-96ab",
     "history": [
      {
       "current": "abd28280-7f96-11ee-91d3-0242ac120006",
       "next": "5dbaa93c-7470-11ee-89fa-0242ac120005",
       "previous": "abd280a0-7f96-11ee-91d3-0242ac120006"
      },
      {
       "current": "abd28280-7f96-11ee-91d3-0242ac120006",
       "next": "0bafcf2c-8399-11ee-91d3-0242ac120006",
       "previous": "abd280a0-7f96-11ee-91d3-0242ac120006"
      },
      {
       "current": "abd28280-7f96-11ee-91d3-0242ac120006-1-e523",
       "next": "ab61528c-7473-11ee-89fa-0242ac120005-1-e1ca",
       "previous": "abd280a0-7f96-11ee-91d3-0242ac120006"
      },
      {
       "current": "abd28280-7f96-11ee-91d3-0242ac120006-2-e523-66d0",
       "next": "ab61528c-7473-11ee-89fa-0242ac120005-2-e1ca-f979",
       "previous": "abd280a0-7f96-11ee-91d3-0242ac120006-1-2cbe"
      },
      {
       "current": "abd28280-7f96-11ee-91d3-0242ac120006-3-e523-66d0-e782",
       "next": "ab61528c-7473-11ee-89fa-0242ac120005-3-e1ca-f979-489c",
       "previous": "abd280a0-7f96-11ee-91d3-0242ac120006-2-2cbe-f2f7"
      },
      {
       "current": "abd28280-7f96-11ee-91d3-0242ac120006-4-e523-66d0-e782-80e3",
       "next": "ab61528c-7473-11ee-89fa-0242ac120005-4-e1ca-f979-489c-e2e0",
       "previous": "abd280a0-7f96-11ee-91d3-0242ac120006-3-2cbe-f2f7-50ba"
      },
      {
       "current": "abd28280-7f96-11ee-91d3-0242ac120006-5-e523-66d0-e782-80e3-96ab",
       "next": "ab61528c-7473-11ee-89fa-0242ac120005-5-e1ca-f979-489c-e2e0-3ecb",
       "previous": "abd280a0-7f96-11ee-91d3-0242ac120006-4-2cbe-f2f7-50ba-8a03"
      }
     ],
     "next": "ab61528c-7473-11ee-89fa-0242ac120005-6-e1ca-f979-489c-e2e0-3ecb-2eaf",
     "previous": "abd280a0-7f96-11ee-91d3-0242ac120006-5-2cbe-f2f7-50ba-8a03-046a"
    }
   },
   "outputs": [],
   "source": [
    "!ansible -b -m shell -a 'cephadm shell -- ceph -s 2> /dev/null' bootstrap"
   ]
  },
  {
   "cell_type": "markdown",
   "metadata": {
    "lc_cell_meme": {
     "current": "ab61528c-7473-11ee-89fa-0242ac120005-6-e1ca-f979-489c-e2e0-3ecb-2eaf",
     "history": [
      {
       "current": "ab61528c-7473-11ee-89fa-0242ac120005-1-e1ca",
       "next": "ab6152d2-7473-11ee-89fa-0242ac120005",
       "previous": "ab61521e-7473-11ee-89fa-0242ac120005"
      },
      {
       "current": "ab61528c-7473-11ee-89fa-0242ac120005-2-e1ca-f979",
       "next": "ab6152d2-7473-11ee-89fa-0242ac120005",
       "previous": "abd28280-7f96-11ee-91d3-0242ac120006"
      },
      {
       "current": "ab61528c-7473-11ee-89fa-0242ac120005-3-e1ca-f979-489c",
       "next": "ab6152d2-7473-11ee-89fa-0242ac120005-1-fa76",
       "previous": "abd28280-7f96-11ee-91d3-0242ac120006-1-e523"
      },
      {
       "current": "ab61528c-7473-11ee-89fa-0242ac120005-4-e1ca-f979-489c-e2e0",
       "next": "ab6152d2-7473-11ee-89fa-0242ac120005-2-fa76-ced3",
       "previous": "abd28280-7f96-11ee-91d3-0242ac120006-2-e523-66d0"
      },
      {
       "current": "ab61528c-7473-11ee-89fa-0242ac120005-5-e1ca-f979-489c-e2e0-3ecb",
       "next": "ab6152d2-7473-11ee-89fa-0242ac120005-3-fa76-ced3-b410",
       "previous": "abd28280-7f96-11ee-91d3-0242ac120006-3-e523-66d0-e782"
      },
      {
       "current": "ab61528c-7473-11ee-89fa-0242ac120005-6-e1ca-f979-489c-e2e0-3ecb-2eaf",
       "next": "ab6152d2-7473-11ee-89fa-0242ac120005-4-fa76-ced3-b410-a76a",
       "previous": "abd28280-7f96-11ee-91d3-0242ac120006-4-e523-66d0-e782-80e3"
      }
     ],
     "next": "ab6152d2-7473-11ee-89fa-0242ac120005-5-fa76-ced3-b410-a76a-1890",
     "previous": "abd28280-7f96-11ee-91d3-0242ac120006-5-e523-66d0-e782-80e3-96ab"
    }
   },
   "source": [
    "## 事前にmoniter stackを削除"
   ]
  },
  {
   "cell_type": "code",
   "execution_count": null,
   "metadata": {
    "lc_cell_meme": {
     "current": "ab6152d2-7473-11ee-89fa-0242ac120005-5-fa76-ced3-b410-a76a-1890",
     "history": [
      {
       "current": "ab6152d2-7473-11ee-89fa-0242ac120005",
       "next": "5dbaa4dc-7470-11ee-89fa-0242ac120005",
       "previous": "ab61528c-7473-11ee-89fa-0242ac120005"
      },
      {
       "current": "ab6152d2-7473-11ee-89fa-0242ac120005-1-fa76",
       "next": "81fc1930-7474-11ee-89fa-0242ac120005",
       "previous": "ab61528c-7473-11ee-89fa-0242ac120005-1-e1ca"
      },
      {
       "current": "ab6152d2-7473-11ee-89fa-0242ac120005-2-fa76-ced3",
       "next": "81fc1930-7474-11ee-89fa-0242ac120005-1-6755",
       "previous": "ab61528c-7473-11ee-89fa-0242ac120005-2-e1ca-f979"
      },
      {
       "current": "ab6152d2-7473-11ee-89fa-0242ac120005-3-fa76-ced3-b410",
       "next": "81fc1930-7474-11ee-89fa-0242ac120005-2-6755-8995",
       "previous": "ab61528c-7473-11ee-89fa-0242ac120005-3-e1ca-f979-489c"
      },
      {
       "current": "ab6152d2-7473-11ee-89fa-0242ac120005-4-fa76-ced3-b410-a76a",
       "next": "81fc1930-7474-11ee-89fa-0242ac120005-3-6755-8995-3da1",
       "previous": "ab61528c-7473-11ee-89fa-0242ac120005-4-e1ca-f979-489c-e2e0"
      },
      {
       "current": "ab6152d2-7473-11ee-89fa-0242ac120005-5-fa76-ced3-b410-a76a-1890",
       "next": "81fc1930-7474-11ee-89fa-0242ac120005-4-6755-8995-3da1-fe23",
       "previous": "ab61528c-7473-11ee-89fa-0242ac120005-5-e1ca-f979-489c-e2e0-3ecb"
      }
     ],
     "next": "81fc1930-7474-11ee-89fa-0242ac120005-5-6755-8995-3da1-fe23-3c9b",
     "previous": "ab61528c-7473-11ee-89fa-0242ac120005-6-e1ca-f979-489c-e2e0-3ecb-2eaf"
    }
   },
   "outputs": [],
   "source": [
    "!ansible -b -m shell -a 'cephadm shell -- ceph orch rm grafana 2> /dev/null' bootstrap"
   ]
  },
  {
   "cell_type": "code",
   "execution_count": null,
   "metadata": {
    "lc_cell_meme": {
     "current": "81fc1930-7474-11ee-89fa-0242ac120005-5-6755-8995-3da1-fe23-3c9b",
     "history": [
      {
       "current": "81fc1930-7474-11ee-89fa-0242ac120005-1-6755",
       "next": "81fc1ba6-7474-11ee-89fa-0242ac120005",
       "previous": "ab6152d2-7473-11ee-89fa-0242ac120005"
      },
      {
       "current": "81fc1930-7474-11ee-89fa-0242ac120005-2-6755-8995",
       "next": "81fc1ba6-7474-11ee-89fa-0242ac120005-1-5a00",
       "previous": "ab6152d2-7473-11ee-89fa-0242ac120005-1-fa76"
      },
      {
       "current": "81fc1930-7474-11ee-89fa-0242ac120005-3-6755-8995-3da1",
       "next": "81fc1ba6-7474-11ee-89fa-0242ac120005-2-5a00-6d9d",
       "previous": "ab6152d2-7473-11ee-89fa-0242ac120005-2-fa76-ced3"
      },
      {
       "current": "81fc1930-7474-11ee-89fa-0242ac120005-4-6755-8995-3da1-fe23",
       "next": "81fc1ba6-7474-11ee-89fa-0242ac120005-3-5a00-6d9d-51a6",
       "previous": "ab6152d2-7473-11ee-89fa-0242ac120005-3-fa76-ced3-b410"
      },
      {
       "current": "81fc1930-7474-11ee-89fa-0242ac120005-5-6755-8995-3da1-fe23-3c9b",
       "next": "81fc1ba6-7474-11ee-89fa-0242ac120005-4-5a00-6d9d-51a6-3391",
       "previous": "ab6152d2-7473-11ee-89fa-0242ac120005-4-fa76-ced3-b410-a76a"
      }
     ],
     "next": "81fc1ba6-7474-11ee-89fa-0242ac120005-5-5a00-6d9d-51a6-3391-d268",
     "previous": "ab6152d2-7473-11ee-89fa-0242ac120005-5-fa76-ced3-b410-a76a-1890"
    }
   },
   "outputs": [],
   "source": [
    "!ansible -b -m shell -a 'cephadm shell -- ceph orch rm prometheus --force 2> /dev/null' bootstrap"
   ]
  },
  {
   "cell_type": "code",
   "execution_count": null,
   "metadata": {
    "lc_cell_meme": {
     "current": "81fc1ba6-7474-11ee-89fa-0242ac120005-5-5a00-6d9d-51a6-3391-d268",
     "history": [
      {
       "current": "81fc1ba6-7474-11ee-89fa-0242ac120005-1-5a00",
       "next": "81fc1c5a-7474-11ee-89fa-0242ac120005",
       "previous": "81fc1930-7474-11ee-89fa-0242ac120005"
      },
      {
       "current": "81fc1ba6-7474-11ee-89fa-0242ac120005-2-5a00-6d9d",
       "next": "81fc1c5a-7474-11ee-89fa-0242ac120005-1-0ddc",
       "previous": "81fc1930-7474-11ee-89fa-0242ac120005-1-6755"
      },
      {
       "current": "81fc1ba6-7474-11ee-89fa-0242ac120005-3-5a00-6d9d-51a6",
       "next": "81fc1c5a-7474-11ee-89fa-0242ac120005-2-0ddc-015f",
       "previous": "81fc1930-7474-11ee-89fa-0242ac120005-2-6755-8995"
      },
      {
       "current": "81fc1ba6-7474-11ee-89fa-0242ac120005-4-5a00-6d9d-51a6-3391",
       "next": "81fc1c5a-7474-11ee-89fa-0242ac120005-3-0ddc-015f-a90c",
       "previous": "81fc1930-7474-11ee-89fa-0242ac120005-3-6755-8995-3da1"
      },
      {
       "current": "81fc1ba6-7474-11ee-89fa-0242ac120005-5-5a00-6d9d-51a6-3391-d268",
       "next": "81fc1c5a-7474-11ee-89fa-0242ac120005-4-0ddc-015f-a90c-b3ed",
       "previous": "81fc1930-7474-11ee-89fa-0242ac120005-4-6755-8995-3da1-fe23"
      }
     ],
     "next": "81fc1c5a-7474-11ee-89fa-0242ac120005-5-0ddc-015f-a90c-b3ed-fdd1",
     "previous": "81fc1930-7474-11ee-89fa-0242ac120005-5-6755-8995-3da1-fe23-3c9b"
    }
   },
   "outputs": [],
   "source": [
    "!ansible -b -m shell -a 'cephadm shell -- ceph orch rm node-exporter 2> /dev/null' bootstrap"
   ]
  },
  {
   "cell_type": "code",
   "execution_count": null,
   "metadata": {
    "lc_cell_meme": {
     "current": "81fc1c5a-7474-11ee-89fa-0242ac120005-5-0ddc-015f-a90c-b3ed-fdd1",
     "history": [
      {
       "current": "81fc1c5a-7474-11ee-89fa-0242ac120005-1-0ddc",
       "next": "81fc1cdc-7474-11ee-89fa-0242ac120005",
       "previous": "81fc1ba6-7474-11ee-89fa-0242ac120005"
      },
      {
       "current": "81fc1c5a-7474-11ee-89fa-0242ac120005-2-0ddc-015f",
       "next": "81fc1cdc-7474-11ee-89fa-0242ac120005-1-b9f7",
       "previous": "81fc1ba6-7474-11ee-89fa-0242ac120005-1-5a00"
      },
      {
       "current": "81fc1c5a-7474-11ee-89fa-0242ac120005-3-0ddc-015f-a90c",
       "next": "81fc1cdc-7474-11ee-89fa-0242ac120005-2-b9f7-da6a",
       "previous": "81fc1ba6-7474-11ee-89fa-0242ac120005-2-5a00-6d9d"
      },
      {
       "current": "81fc1c5a-7474-11ee-89fa-0242ac120005-4-0ddc-015f-a90c-b3ed",
       "next": "81fc1cdc-7474-11ee-89fa-0242ac120005-3-b9f7-da6a-9da8",
       "previous": "81fc1ba6-7474-11ee-89fa-0242ac120005-3-5a00-6d9d-51a6"
      },
      {
       "current": "81fc1c5a-7474-11ee-89fa-0242ac120005-5-0ddc-015f-a90c-b3ed-fdd1",
       "next": "81fc1cdc-7474-11ee-89fa-0242ac120005-4-b9f7-da6a-9da8-2e38",
       "previous": "81fc1ba6-7474-11ee-89fa-0242ac120005-4-5a00-6d9d-51a6-3391"
      }
     ],
     "next": "81fc1cdc-7474-11ee-89fa-0242ac120005-5-b9f7-da6a-9da8-2e38-58d2",
     "previous": "81fc1ba6-7474-11ee-89fa-0242ac120005-5-5a00-6d9d-51a6-3391-d268"
    }
   },
   "outputs": [],
   "source": [
    "!ansible -b -m shell -a 'cephadm shell -- ceph orch rm alertmanager 2> /dev/null' bootstrap"
   ]
  },
  {
   "cell_type": "code",
   "execution_count": null,
   "metadata": {
    "lc_cell_meme": {
     "current": "81fc1cdc-7474-11ee-89fa-0242ac120005-5-b9f7-da6a-9da8-2e38-58d2",
     "history": [
      {
       "current": "81fc1cdc-7474-11ee-89fa-0242ac120005",
       "next": "5dbaa4dc-7470-11ee-89fa-0242ac120005",
       "previous": "81fc1c5a-7474-11ee-89fa-0242ac120005"
      },
      {
       "current": "81fc1cdc-7474-11ee-89fa-0242ac120005-1-b9f7",
       "next": "c97d99b4-7474-11ee-89fa-0242ac120005",
       "previous": "81fc1c5a-7474-11ee-89fa-0242ac120005"
      },
      {
       "current": "81fc1cdc-7474-11ee-89fa-0242ac120005-2-b9f7-da6a",
       "next": "c97d99b4-7474-11ee-89fa-0242ac120005-1-0154",
       "previous": "81fc1c5a-7474-11ee-89fa-0242ac120005-1-0ddc"
      },
      {
       "current": "81fc1cdc-7474-11ee-89fa-0242ac120005-3-b9f7-da6a-9da8",
       "next": "c97d99b4-7474-11ee-89fa-0242ac120005-2-0154-eb9d",
       "previous": "81fc1c5a-7474-11ee-89fa-0242ac120005-2-0ddc-015f"
      },
      {
       "current": "81fc1cdc-7474-11ee-89fa-0242ac120005-4-b9f7-da6a-9da8-2e38",
       "next": "c97d99b4-7474-11ee-89fa-0242ac120005-3-0154-eb9d-4f24",
       "previous": "81fc1c5a-7474-11ee-89fa-0242ac120005-3-0ddc-015f-a90c"
      },
      {
       "current": "81fc1cdc-7474-11ee-89fa-0242ac120005-5-b9f7-da6a-9da8-2e38-58d2",
       "next": "c97d99b4-7474-11ee-89fa-0242ac120005-4-0154-eb9d-4f24-1ba2",
       "previous": "81fc1c5a-7474-11ee-89fa-0242ac120005-4-0ddc-015f-a90c-b3ed"
      }
     ],
     "next": "c97d99b4-7474-11ee-89fa-0242ac120005-5-0154-eb9d-4f24-1ba2-12d3",
     "previous": "81fc1c5a-7474-11ee-89fa-0242ac120005-5-0ddc-015f-a90c-b3ed-fdd1"
    }
   },
   "outputs": [],
   "source": [
    "!ansible -b -m shell -a 'cephadm shell -- ceph mgr module disable prometheus 2> /dev/null' bootstrap"
   ]
  },
  {
   "cell_type": "markdown",
   "metadata": {
    "lc_cell_meme": {
     "current": "c97d99b4-7474-11ee-89fa-0242ac120005-5-0154-eb9d-4f24-1ba2-12d3",
     "history": [
      {
       "current": "c97d99b4-7474-11ee-89fa-0242ac120005",
       "next": "c97d9c20-7474-11ee-89fa-0242ac120005",
       "previous": "81fc1cdc-7474-11ee-89fa-0242ac120005"
      },
      {
       "current": "c97d99b4-7474-11ee-89fa-0242ac120005",
       "next": "e8a5ac80-7f98-11ee-91d3-0242ac120006",
       "previous": "81fc1cdc-7474-11ee-89fa-0242ac120005"
      },
      {
       "current": "c97d99b4-7474-11ee-89fa-0242ac120005-1-0154",
       "next": "dc32762c-8510-11ee-91d3-0242ac120006",
       "previous": "81fc1cdc-7474-11ee-89fa-0242ac120005"
      },
      {
       "current": "c97d99b4-7474-11ee-89fa-0242ac120005-2-0154-eb9d",
       "next": "dc32762c-8510-11ee-91d3-0242ac120006-1-c9c7",
       "previous": "81fc1cdc-7474-11ee-89fa-0242ac120005-1-b9f7"
      },
      {
       "current": "c97d99b4-7474-11ee-89fa-0242ac120005-3-0154-eb9d-4f24",
       "next": "dc32762c-8510-11ee-91d3-0242ac120006-2-c9c7-198a",
       "previous": "81fc1cdc-7474-11ee-89fa-0242ac120005-2-b9f7-da6a"
      },
      {
       "current": "c97d99b4-7474-11ee-89fa-0242ac120005-4-0154-eb9d-4f24-1ba2",
       "next": "dc32762c-8510-11ee-91d3-0242ac120006-3-c9c7-198a-c12d",
       "previous": "81fc1cdc-7474-11ee-89fa-0242ac120005-3-b9f7-da6a-9da8"
      },
      {
       "current": "c97d99b4-7474-11ee-89fa-0242ac120005-5-0154-eb9d-4f24-1ba2-12d3",
       "next": "dc32762c-8510-11ee-91d3-0242ac120006-4-c9c7-198a-c12d-5209",
       "previous": "81fc1cdc-7474-11ee-89fa-0242ac120005-4-b9f7-da6a-9da8-2e38"
      }
     ],
     "next": "dc32762c-8510-11ee-91d3-0242ac120006-5-c9c7-198a-c12d-5209-dcd4",
     "previous": "81fc1cdc-7474-11ee-89fa-0242ac120005-5-b9f7-da6a-9da8-2e38-58d2"
    }
   },
   "source": [
    "## moniter stack追加"
   ]
  },
  {
   "cell_type": "code",
   "execution_count": null,
   "metadata": {
    "lc_cell_meme": {
     "current": "dc32762c-8510-11ee-91d3-0242ac120006-5-c9c7-198a-c12d-5209-dcd4",
     "history": [
      {
       "current": "dc32762c-8510-11ee-91d3-0242ac120006",
       "next": "43e32c00-7f9c-11ee-91d3-0242ac120006",
       "previous": "e8a5ac80-7f98-11ee-91d3-0242ac120006"
      },
      {
       "current": "dc32762c-8510-11ee-91d3-0242ac120006-1-c9c7",
       "next": "e8a5ac80-7f98-11ee-91d3-0242ac120006",
       "previous": "c97d99b4-7474-11ee-89fa-0242ac120005"
      },
      {
       "current": "dc32762c-8510-11ee-91d3-0242ac120006-2-c9c7-198a",
       "next": "e8a5ac80-7f98-11ee-91d3-0242ac120006-1-606b",
       "previous": "c97d99b4-7474-11ee-89fa-0242ac120005-1-0154"
      },
      {
       "current": "dc32762c-8510-11ee-91d3-0242ac120006-3-c9c7-198a-c12d",
       "next": "e8a5ac80-7f98-11ee-91d3-0242ac120006-2-606b-6667",
       "previous": "c97d99b4-7474-11ee-89fa-0242ac120005-2-0154-eb9d"
      },
      {
       "current": "dc32762c-8510-11ee-91d3-0242ac120006-4-c9c7-198a-c12d-5209",
       "next": "e8a5ac80-7f98-11ee-91d3-0242ac120006-3-606b-6667-2eb9",
       "previous": "c97d99b4-7474-11ee-89fa-0242ac120005-3-0154-eb9d-4f24"
      },
      {
       "current": "dc32762c-8510-11ee-91d3-0242ac120006-5-c9c7-198a-c12d-5209-dcd4",
       "next": "e8a5ac80-7f98-11ee-91d3-0242ac120006-4-606b-6667-2eb9-1273",
       "previous": "c97d99b4-7474-11ee-89fa-0242ac120005-4-0154-eb9d-4f24-1ba2"
      }
     ],
     "next": "e8a5ac80-7f98-11ee-91d3-0242ac120006-5-606b-6667-2eb9-1273-bd82",
     "previous": "c97d99b4-7474-11ee-89fa-0242ac120005-5-0154-eb9d-4f24-1ba2-12d3"
    }
   },
   "outputs": [],
   "source": [
    "# moniter stackが停止していることを確認\n",
    "raise Exception(' moniter stackが停止していることを確認')"
   ]
  },
  {
   "cell_type": "code",
   "execution_count": null,
   "metadata": {
    "lc_cell_meme": {
     "current": "e8a5ac80-7f98-11ee-91d3-0242ac120006-5-606b-6667-2eb9-1273-bd82",
     "history": [
      {
       "current": "e8a5ac80-7f98-11ee-91d3-0242ac120006",
       "next": "c97d9c20-7474-11ee-89fa-0242ac120005",
       "previous": "c97d99b4-7474-11ee-89fa-0242ac120005"
      },
      {
       "current": "e8a5ac80-7f98-11ee-91d3-0242ac120006",
       "next": "b4d4c604-7f9b-11ee-91d3-0242ac120006",
       "previous": "c97d99b4-7474-11ee-89fa-0242ac120005"
      },
      {
       "current": "e8a5ac80-7f98-11ee-91d3-0242ac120006",
       "next": "43e32c00-7f9c-11ee-91d3-0242ac120006",
       "previous": "c97d99b4-7474-11ee-89fa-0242ac120005"
      },
      {
       "current": "e8a5ac80-7f98-11ee-91d3-0242ac120006",
       "next": "dc32762c-8510-11ee-91d3-0242ac120006",
       "previous": "c97d99b4-7474-11ee-89fa-0242ac120005"
      },
      {
       "current": "e8a5ac80-7f98-11ee-91d3-0242ac120006-1-606b",
       "next": "43e32c00-7f9c-11ee-91d3-0242ac120006",
       "previous": "dc32762c-8510-11ee-91d3-0242ac120006"
      },
      {
       "current": "e8a5ac80-7f98-11ee-91d3-0242ac120006-2-606b-6667",
       "next": "43e32c00-7f9c-11ee-91d3-0242ac120006-1-06de",
       "previous": "dc32762c-8510-11ee-91d3-0242ac120006-1-c9c7"
      },
      {
       "current": "e8a5ac80-7f98-11ee-91d3-0242ac120006-3-606b-6667-2eb9",
       "next": "43e32c00-7f9c-11ee-91d3-0242ac120006-2-06de-c404",
       "previous": "dc32762c-8510-11ee-91d3-0242ac120006-2-c9c7-198a"
      },
      {
       "current": "e8a5ac80-7f98-11ee-91d3-0242ac120006-4-606b-6667-2eb9-1273",
       "next": "43e32c00-7f9c-11ee-91d3-0242ac120006-3-06de-c404-5191",
       "previous": "dc32762c-8510-11ee-91d3-0242ac120006-3-c9c7-198a-c12d"
      },
      {
       "current": "e8a5ac80-7f98-11ee-91d3-0242ac120006-5-606b-6667-2eb9-1273-bd82",
       "next": "43e32c00-7f9c-11ee-91d3-0242ac120006-4-06de-c404-5191-fdf8",
       "previous": "dc32762c-8510-11ee-91d3-0242ac120006-4-c9c7-198a-c12d-5209"
      }
     ],
     "next": "43e32c00-7f9c-11ee-91d3-0242ac120006-5-06de-c404-5191-fdf8-a351",
     "previous": "dc32762c-8510-11ee-91d3-0242ac120006-5-c9c7-198a-c12d-5209-dcd4"
    }
   },
   "outputs": [],
   "source": [
    "!ansible -b -m shell -a \"cephadm shell -- ceph orch ls 2> /dev/null\" bootstrap"
   ]
  },
  {
   "cell_type": "code",
   "execution_count": null,
   "metadata": {
    "lc_cell_meme": {
     "current": "43e32c00-7f9c-11ee-91d3-0242ac120006-5-06de-c404-5191-fdf8-a351",
     "history": [
      {
       "current": "43e32c00-7f9c-11ee-91d3-0242ac120006",
       "next": "b4d4c604-7f9b-11ee-91d3-0242ac120006",
       "previous": "e8a5ac80-7f98-11ee-91d3-0242ac120006"
      },
      {
       "current": "43e32c00-7f9c-11ee-91d3-0242ac120006",
       "next": "b4d4c78a-7f9b-11ee-91d3-0242ac120006",
       "previous": "e8a5ac80-7f98-11ee-91d3-0242ac120006"
      },
      {
       "current": "43e32c00-7f9c-11ee-91d3-0242ac120006",
       "next": "f119793c-7f9d-11ee-91d3-0242ac120006",
       "previous": "e8a5ac80-7f98-11ee-91d3-0242ac120006"
      },
      {
       "current": "43e32c00-7f9c-11ee-91d3-0242ac120006",
       "next": "f119793c-7f9d-11ee-91d3-0242ac120006",
       "previous": "dc32762c-8510-11ee-91d3-0242ac120006"
      },
      {
       "current": "43e32c00-7f9c-11ee-91d3-0242ac120006-1-06de",
       "next": "f119793c-7f9d-11ee-91d3-0242ac120006",
       "previous": "e8a5ac80-7f98-11ee-91d3-0242ac120006"
      },
      {
       "current": "43e32c00-7f9c-11ee-91d3-0242ac120006-2-06de-c404",
       "next": "f119793c-7f9d-11ee-91d3-0242ac120006-1-c66c",
       "previous": "e8a5ac80-7f98-11ee-91d3-0242ac120006-1-606b"
      },
      {
       "current": "43e32c00-7f9c-11ee-91d3-0242ac120006-3-06de-c404-5191",
       "next": "f119793c-7f9d-11ee-91d3-0242ac120006-2-c66c-3ccf",
       "previous": "e8a5ac80-7f98-11ee-91d3-0242ac120006-2-606b-6667"
      },
      {
       "current": "43e32c00-7f9c-11ee-91d3-0242ac120006-4-06de-c404-5191-fdf8",
       "next": "f119793c-7f9d-11ee-91d3-0242ac120006-3-c66c-3ccf-ab1c",
       "previous": "e8a5ac80-7f98-11ee-91d3-0242ac120006-3-606b-6667-2eb9"
      },
      {
       "current": "43e32c00-7f9c-11ee-91d3-0242ac120006-5-06de-c404-5191-fdf8-a351",
       "next": "f119793c-7f9d-11ee-91d3-0242ac120006-4-c66c-3ccf-ab1c-f499",
       "previous": "e8a5ac80-7f98-11ee-91d3-0242ac120006-4-606b-6667-2eb9-1273"
      }
     ],
     "next": "f119793c-7f9d-11ee-91d3-0242ac120006-5-c66c-3ccf-ab1c-f499-6f48",
     "previous": "e8a5ac80-7f98-11ee-91d3-0242ac120006-5-606b-6667-2eb9-1273-bd82"
    }
   },
   "outputs": [],
   "source": [
    "%%writefile $temp_dir/monitoring.j2\n",
    "service_type: prometheus\n",
    "service_name: prometheus\n",
    "placement:\n",
    "  count: 2\n",
    "networks:\n",
    "- {{ ip_addr }}\n",
    "---\n",
    "service_type: node-exporter\n",
    "---\n",
    "service_type: alertmanager\n",
    "service_name: alertmanager\n",
    "placement:\n",
    "  count: 2\n",
    "networks:\n",
    "- {{ ip_addr }}\n",
    "---\n",
    "service_type: grafana\n",
    "service_name: grafana\n",
    "placement:\n",
    "  count: 2\n",
    "networks:\n",
    "- {{ ip_addr }}\n"
   ]
  },
  {
   "cell_type": "code",
   "execution_count": null,
   "metadata": {
    "lc_cell_meme": {
     "current": "f119793c-7f9d-11ee-91d3-0242ac120006-5-c66c-3ccf-ab1c-f499-6f48",
     "history": [
      {
       "current": "f119793c-7f9d-11ee-91d3-0242ac120006-1-c66c",
       "next": "f1197ad6-7f9d-11ee-91d3-0242ac120006",
       "previous": "43e32c00-7f9c-11ee-91d3-0242ac120006"
      },
      {
       "current": "f119793c-7f9d-11ee-91d3-0242ac120006-2-c66c-3ccf",
       "next": "f1197ad6-7f9d-11ee-91d3-0242ac120006-1-b7f3",
       "previous": "43e32c00-7f9c-11ee-91d3-0242ac120006-1-06de"
      },
      {
       "current": "f119793c-7f9d-11ee-91d3-0242ac120006-3-c66c-3ccf-ab1c",
       "next": "f1197ad6-7f9d-11ee-91d3-0242ac120006-2-b7f3-4996",
       "previous": "43e32c00-7f9c-11ee-91d3-0242ac120006-2-06de-c404"
      },
      {
       "current": "f119793c-7f9d-11ee-91d3-0242ac120006-4-c66c-3ccf-ab1c-f499",
       "next": "f1197ad6-7f9d-11ee-91d3-0242ac120006-3-b7f3-4996-6989",
       "previous": "43e32c00-7f9c-11ee-91d3-0242ac120006-3-06de-c404-5191"
      },
      {
       "current": "f119793c-7f9d-11ee-91d3-0242ac120006-5-c66c-3ccf-ab1c-f499-6f48",
       "next": "f1197ad6-7f9d-11ee-91d3-0242ac120006-4-b7f3-4996-6989-4f0b",
       "previous": "43e32c00-7f9c-11ee-91d3-0242ac120006-4-06de-c404-5191-fdf8"
      }
     ],
     "next": "f1197ad6-7f9d-11ee-91d3-0242ac120006-5-b7f3-4996-6989-4f0b-09eb",
     "previous": "43e32c00-7f9c-11ee-91d3-0242ac120006-5-06de-c404-5191-fdf8-a351"
    }
   },
   "outputs": [],
   "source": [
    "!cat $temp_dir/monitoring.j2"
   ]
  },
  {
   "cell_type": "code",
   "execution_count": null,
   "metadata": {
    "lc_cell_meme": {
     "current": "f1197ad6-7f9d-11ee-91d3-0242ac120006-5-b7f3-4996-6989-4f0b-09eb",
     "history": [
      {
       "current": "f1197ad6-7f9d-11ee-91d3-0242ac120006",
       "next": "f1197b62-7f9d-11ee-91d3-0242ac120006",
       "previous": "f119793c-7f9d-11ee-91d3-0242ac120006"
      },
      {
       "current": "f1197ad6-7f9d-11ee-91d3-0242ac120006-1-b7f3",
       "next": "b4d4c78a-7f9b-11ee-91d3-0242ac120006",
       "previous": "f119793c-7f9d-11ee-91d3-0242ac120006"
      },
      {
       "current": "f1197ad6-7f9d-11ee-91d3-0242ac120006-2-b7f3-4996",
       "next": "b4d4c78a-7f9b-11ee-91d3-0242ac120006-1-3b95",
       "previous": "f119793c-7f9d-11ee-91d3-0242ac120006-1-c66c"
      },
      {
       "current": "f1197ad6-7f9d-11ee-91d3-0242ac120006-3-b7f3-4996-6989",
       "next": "b4d4c78a-7f9b-11ee-91d3-0242ac120006-2-3b95-6d82",
       "previous": "f119793c-7f9d-11ee-91d3-0242ac120006-2-c66c-3ccf"
      },
      {
       "current": "f1197ad6-7f9d-11ee-91d3-0242ac120006-4-b7f3-4996-6989-4f0b",
       "next": "b4d4c78a-7f9b-11ee-91d3-0242ac120006-3-3b95-6d82-a157",
       "previous": "f119793c-7f9d-11ee-91d3-0242ac120006-3-c66c-3ccf-ab1c"
      },
      {
       "current": "f1197ad6-7f9d-11ee-91d3-0242ac120006-5-b7f3-4996-6989-4f0b-09eb",
       "next": "b4d4c78a-7f9b-11ee-91d3-0242ac120006-4-3b95-6d82-a157-7272",
       "previous": "f119793c-7f9d-11ee-91d3-0242ac120006-4-c66c-3ccf-ab1c-f499"
      }
     ],
     "next": "b4d4c78a-7f9b-11ee-91d3-0242ac120006-5-3b95-6d82-a157-7272-54f4",
     "previous": "f119793c-7f9d-11ee-91d3-0242ac120006-5-c66c-3ccf-ab1c-f499-6f48"
    }
   },
   "outputs": [],
   "source": [
    "from jinja2 import Template, Environment, FileSystemLoader\n",
    "\n",
    "env = Environment(loader=FileSystemLoader(temp_dir, encoding='utf8'))\n",
    "tmpl = env.get_template('monitoring.j2')\n",
    "\n",
    "params={}\n",
    "params['ip_addr'] = 'xx.yy.0.0/16'\n",
    "\n",
    "rendered_s = tmpl.render(params)\n",
    "print(rendered_s)"
   ]
  },
  {
   "cell_type": "code",
   "execution_count": null,
   "metadata": {
    "lc_cell_meme": {
     "current": "b4d4c78a-7f9b-11ee-91d3-0242ac120006-5-3b95-6d82-a157-7272-54f4",
     "history": [
      {
       "current": "b4d4c78a-7f9b-11ee-91d3-0242ac120006",
       "next": "b4d4c82a-7f9b-11ee-91d3-0242ac120006",
       "previous": "b4d4c604-7f9b-11ee-91d3-0242ac120006"
      },
      {
       "current": "b4d4c78a-7f9b-11ee-91d3-0242ac120006",
       "next": "b4d4c82a-7f9b-11ee-91d3-0242ac120006",
       "previous": "43e32c00-7f9c-11ee-91d3-0242ac120006"
      },
      {
       "current": "b4d4c78a-7f9b-11ee-91d3-0242ac120006",
       "next": "b4d4c82a-7f9b-11ee-91d3-0242ac120006",
       "previous": "f1197b62-7f9d-11ee-91d3-0242ac120006"
      },
      {
       "current": "b4d4c78a-7f9b-11ee-91d3-0242ac120006-1-3b95",
       "next": "b4d4c82a-7f9b-11ee-91d3-0242ac120006",
       "previous": "f1197ad6-7f9d-11ee-91d3-0242ac120006"
      },
      {
       "current": "b4d4c78a-7f9b-11ee-91d3-0242ac120006-2-3b95-6d82",
       "next": "b4d4c82a-7f9b-11ee-91d3-0242ac120006-1-b573",
       "previous": "f1197ad6-7f9d-11ee-91d3-0242ac120006-1-b7f3"
      },
      {
       "current": "b4d4c78a-7f9b-11ee-91d3-0242ac120006-3-3b95-6d82-a157",
       "next": "b4d4c82a-7f9b-11ee-91d3-0242ac120006-2-b573-c897",
       "previous": "f1197ad6-7f9d-11ee-91d3-0242ac120006-2-b7f3-4996"
      },
      {
       "current": "b4d4c78a-7f9b-11ee-91d3-0242ac120006-4-3b95-6d82-a157-7272",
       "next": "b4d4c82a-7f9b-11ee-91d3-0242ac120006-3-b573-c897-1c30",
       "previous": "f1197ad6-7f9d-11ee-91d3-0242ac120006-3-b7f3-4996-6989"
      },
      {
       "current": "b4d4c78a-7f9b-11ee-91d3-0242ac120006-5-3b95-6d82-a157-7272-54f4",
       "next": "b4d4c82a-7f9b-11ee-91d3-0242ac120006-4-b573-c897-1c30-f432",
       "previous": "f1197ad6-7f9d-11ee-91d3-0242ac120006-4-b7f3-4996-6989-4f0b"
      }
     ],
     "next": "b4d4c82a-7f9b-11ee-91d3-0242ac120006-5-b573-c897-1c30-f432-0a2d",
     "previous": "f1197ad6-7f9d-11ee-91d3-0242ac120006-5-b7f3-4996-6989-4f0b-09eb"
    }
   },
   "outputs": [],
   "source": [
    "with open( os.path.join(temp_dir, \"monitoring.yml\"), 'w') as f:\n",
    "    f.write(rendered_s)\n",
    "!cat $temp_dir/monitoring.yml"
   ]
  },
  {
   "cell_type": "code",
   "execution_count": null,
   "metadata": {
    "lc_cell_meme": {
     "current": "b4d4c82a-7f9b-11ee-91d3-0242ac120006-5-b573-c897-1c30-f432-0a2d",
     "history": [
      {
       "current": "b4d4c82a-7f9b-11ee-91d3-0242ac120006",
       "next": "c97d9c20-7474-11ee-89fa-0242ac120005",
       "previous": "b4d4c78a-7f9b-11ee-91d3-0242ac120006"
      },
      {
       "current": "b4d4c82a-7f9b-11ee-91d3-0242ac120006",
       "next": "56c24740-7f9f-11ee-91d3-0242ac120006",
       "previous": "b4d4c78a-7f9b-11ee-91d3-0242ac120006"
      },
      {
       "current": "b4d4c82a-7f9b-11ee-91d3-0242ac120006",
       "next": "e5d0a4ea-7f9f-11ee-91d3-0242ac120006",
       "previous": "b4d4c78a-7f9b-11ee-91d3-0242ac120006"
      },
      {
       "current": "b4d4c82a-7f9b-11ee-91d3-0242ac120006-1-b573",
       "next": "fa27a724-7fac-11ee-91d3-0242ac120006",
       "previous": "b4d4c78a-7f9b-11ee-91d3-0242ac120006"
      },
      {
       "current": "b4d4c82a-7f9b-11ee-91d3-0242ac120006-2-b573-c897",
       "next": "fa27a724-7fac-11ee-91d3-0242ac120006-1-b3a8",
       "previous": "b4d4c78a-7f9b-11ee-91d3-0242ac120006-1-3b95"
      },
      {
       "current": "b4d4c82a-7f9b-11ee-91d3-0242ac120006-3-b573-c897-1c30",
       "next": "fa27a724-7fac-11ee-91d3-0242ac120006-2-b3a8-af74",
       "previous": "b4d4c78a-7f9b-11ee-91d3-0242ac120006-2-3b95-6d82"
      },
      {
       "current": "b4d4c82a-7f9b-11ee-91d3-0242ac120006-4-b573-c897-1c30-f432",
       "next": "fa27a724-7fac-11ee-91d3-0242ac120006-3-b3a8-af74-6270",
       "previous": "b4d4c78a-7f9b-11ee-91d3-0242ac120006-3-3b95-6d82-a157"
      },
      {
       "current": "b4d4c82a-7f9b-11ee-91d3-0242ac120006-5-b573-c897-1c30-f432-0a2d",
       "next": "fa27a724-7fac-11ee-91d3-0242ac120006-4-b3a8-af74-6270-32c8",
       "previous": "b4d4c78a-7f9b-11ee-91d3-0242ac120006-4-3b95-6d82-a157-7272"
      }
     ],
     "next": "fa27a724-7fac-11ee-91d3-0242ac120006-5-b3a8-af74-6270-32c8-e8f1",
     "previous": "b4d4c78a-7f9b-11ee-91d3-0242ac120006-5-3b95-6d82-a157-7272-54f4"
    }
   },
   "outputs": [],
   "source": [
    "!ansible -b -m copy -a \"src=$temp_dir/monitoring.yml dest=/tmp/monitoring.yml\" bootstrap"
   ]
  },
  {
   "cell_type": "code",
   "execution_count": null,
   "metadata": {
    "lc_cell_meme": {
     "current": "fa27a724-7fac-11ee-91d3-0242ac120006-5-b3a8-af74-6270-32c8-e8f1",
     "history": [
      {
       "current": "fa27a724-7fac-11ee-91d3-0242ac120006-1-b3a8",
       "next": "e5d0a4ea-7f9f-11ee-91d3-0242ac120006",
       "previous": "b4d4c82a-7f9b-11ee-91d3-0242ac120006"
      },
      {
       "current": "fa27a724-7fac-11ee-91d3-0242ac120006-2-b3a8-af74",
       "next": "e5d0a4ea-7f9f-11ee-91d3-0242ac120006-1-d177",
       "previous": "b4d4c82a-7f9b-11ee-91d3-0242ac120006-1-b573"
      },
      {
       "current": "fa27a724-7fac-11ee-91d3-0242ac120006-3-b3a8-af74-6270",
       "next": "e5d0a4ea-7f9f-11ee-91d3-0242ac120006-2-d177-1a1d",
       "previous": "b4d4c82a-7f9b-11ee-91d3-0242ac120006-2-b573-c897"
      },
      {
       "current": "fa27a724-7fac-11ee-91d3-0242ac120006-4-b3a8-af74-6270-32c8",
       "next": "e5d0a4ea-7f9f-11ee-91d3-0242ac120006-3-d177-1a1d-82c9",
       "previous": "b4d4c82a-7f9b-11ee-91d3-0242ac120006-3-b573-c897-1c30"
      },
      {
       "current": "fa27a724-7fac-11ee-91d3-0242ac120006-5-b3a8-af74-6270-32c8-e8f1",
       "next": "e5d0a4ea-7f9f-11ee-91d3-0242ac120006-4-d177-1a1d-82c9-0dc7",
       "previous": "b4d4c82a-7f9b-11ee-91d3-0242ac120006-4-b573-c897-1c30-f432"
      }
     ],
     "next": "e5d0a4ea-7f9f-11ee-91d3-0242ac120006-5-d177-1a1d-82c9-0dc7-ce85",
     "previous": "b4d4c82a-7f9b-11ee-91d3-0242ac120006-5-b573-c897-1c30-f432-0a2d"
    }
   },
   "outputs": [],
   "source": [
    "!ansible -b -m shell -a 'cat /tmp/monitoring.yml' bootstrap"
   ]
  },
  {
   "cell_type": "code",
   "execution_count": null,
   "metadata": {
    "lc_cell_meme": {
     "current": "e5d0a4ea-7f9f-11ee-91d3-0242ac120006-5-d177-1a1d-82c9-0dc7-ce85",
     "history": [
      {
       "current": "e5d0a4ea-7f9f-11ee-91d3-0242ac120006",
       "next": "56c24740-7f9f-11ee-91d3-0242ac120006",
       "previous": "b4d4c82a-7f9b-11ee-91d3-0242ac120006"
      },
      {
       "current": "e5d0a4ea-7f9f-11ee-91d3-0242ac120006-1-d177",
       "next": "56c24740-7f9f-11ee-91d3-0242ac120006",
       "previous": "fa27a724-7fac-11ee-91d3-0242ac120006"
      },
      {
       "current": "e5d0a4ea-7f9f-11ee-91d3-0242ac120006-2-d177-1a1d",
       "next": "56c24740-7f9f-11ee-91d3-0242ac120006-1-788f",
       "previous": "fa27a724-7fac-11ee-91d3-0242ac120006-1-b3a8"
      },
      {
       "current": "e5d0a4ea-7f9f-11ee-91d3-0242ac120006-3-d177-1a1d-82c9",
       "next": "56c24740-7f9f-11ee-91d3-0242ac120006-2-788f-8333",
       "previous": "fa27a724-7fac-11ee-91d3-0242ac120006-2-b3a8-af74"
      },
      {
       "current": "e5d0a4ea-7f9f-11ee-91d3-0242ac120006-4-d177-1a1d-82c9-0dc7",
       "next": "56c24740-7f9f-11ee-91d3-0242ac120006-3-788f-8333-e10c",
       "previous": "fa27a724-7fac-11ee-91d3-0242ac120006-3-b3a8-af74-6270"
      },
      {
       "current": "e5d0a4ea-7f9f-11ee-91d3-0242ac120006-5-d177-1a1d-82c9-0dc7-ce85",
       "next": "56c24740-7f9f-11ee-91d3-0242ac120006-4-788f-8333-e10c-be1b",
       "previous": "fa27a724-7fac-11ee-91d3-0242ac120006-4-b3a8-af74-6270-32c8"
      }
     ],
     "next": "56c24740-7f9f-11ee-91d3-0242ac120006-5-788f-8333-e10c-be1b-88a9",
     "previous": "fa27a724-7fac-11ee-91d3-0242ac120006-5-b3a8-af74-6270-32c8-e8f1"
    }
   },
   "outputs": [],
   "source": [
    "!ansible -b -m shell -a 'cephadm shell -- ceph mgr module enable prometheus 2> /dev/null' bootstrap"
   ]
  },
  {
   "cell_type": "code",
   "execution_count": null,
   "metadata": {
    "lc_cell_meme": {
     "current": "56c24740-7f9f-11ee-91d3-0242ac120006-5-788f-8333-e10c-be1b-88a9",
     "history": [
      {
       "current": "56c24740-7f9f-11ee-91d3-0242ac120006",
       "next": "56c248c6-7f9f-11ee-91d3-0242ac120006",
       "previous": "b4d4c82a-7f9b-11ee-91d3-0242ac120006"
      },
      {
       "current": "56c24740-7f9f-11ee-91d3-0242ac120006",
       "next": "56c248c6-7f9f-11ee-91d3-0242ac120006",
       "previous": "e5d0a4ea-7f9f-11ee-91d3-0242ac120006"
      },
      {
       "current": "56c24740-7f9f-11ee-91d3-0242ac120006-1-788f",
       "next": "41aedb8a-7fad-11ee-91d3-0242ac120006",
       "previous": "e5d0a4ea-7f9f-11ee-91d3-0242ac120006"
      },
      {
       "current": "56c24740-7f9f-11ee-91d3-0242ac120006-2-788f-8333",
       "next": "41aedb8a-7fad-11ee-91d3-0242ac120006-1-f619",
       "previous": "e5d0a4ea-7f9f-11ee-91d3-0242ac120006-1-d177"
      },
      {
       "current": "56c24740-7f9f-11ee-91d3-0242ac120006-3-788f-8333-e10c",
       "next": "41aedb8a-7fad-11ee-91d3-0242ac120006-2-f619-1daa",
       "previous": "e5d0a4ea-7f9f-11ee-91d3-0242ac120006-2-d177-1a1d"
      },
      {
       "current": "56c24740-7f9f-11ee-91d3-0242ac120006-4-788f-8333-e10c-be1b",
       "next": "41aedb8a-7fad-11ee-91d3-0242ac120006-3-f619-1daa-bbe8",
       "previous": "e5d0a4ea-7f9f-11ee-91d3-0242ac120006-3-d177-1a1d-82c9"
      },
      {
       "current": "56c24740-7f9f-11ee-91d3-0242ac120006-5-788f-8333-e10c-be1b-88a9",
       "next": "41aedb8a-7fad-11ee-91d3-0242ac120006-4-f619-1daa-bbe8-7423",
       "previous": "e5d0a4ea-7f9f-11ee-91d3-0242ac120006-4-d177-1a1d-82c9-0dc7"
      }
     ],
     "next": "41aedb8a-7fad-11ee-91d3-0242ac120006-5-f619-1daa-bbe8-7423-fd8d",
     "previous": "e5d0a4ea-7f9f-11ee-91d3-0242ac120006-5-d177-1a1d-82c9-0dc7-ce85"
    }
   },
   "outputs": [],
   "source": [
    "!ansible -b -m shell -a 'cephadm shell -m /tmp:/tmp -- ceph orch apply -i /tmp/monitoring.yml 2> /dev/null' bootstrap"
   ]
  },
  {
   "cell_type": "markdown",
   "metadata": {
    "lc_cell_meme": {
     "current": "41aedb8a-7fad-11ee-91d3-0242ac120006-5-f619-1daa-bbe8-7423-fd8d",
     "history": [
      {
       "current": "41aedb8a-7fad-11ee-91d3-0242ac120006-1-f619",
       "next": "56c248c6-7f9f-11ee-91d3-0242ac120006",
       "previous": "56c24740-7f9f-11ee-91d3-0242ac120006"
      },
      {
       "current": "41aedb8a-7fad-11ee-91d3-0242ac120006-2-f619-1daa",
       "next": "56c248c6-7f9f-11ee-91d3-0242ac120006-1-c5d9",
       "previous": "56c24740-7f9f-11ee-91d3-0242ac120006-1-788f"
      },
      {
       "current": "41aedb8a-7fad-11ee-91d3-0242ac120006-3-f619-1daa-bbe8",
       "next": "56c248c6-7f9f-11ee-91d3-0242ac120006-2-c5d9-545f",
       "previous": "56c24740-7f9f-11ee-91d3-0242ac120006-2-788f-8333"
      },
      {
       "current": "41aedb8a-7fad-11ee-91d3-0242ac120006-4-f619-1daa-bbe8-7423",
       "next": "56c248c6-7f9f-11ee-91d3-0242ac120006-3-c5d9-545f-c795",
       "previous": "56c24740-7f9f-11ee-91d3-0242ac120006-3-788f-8333-e10c"
      },
      {
       "current": "41aedb8a-7fad-11ee-91d3-0242ac120006-5-f619-1daa-bbe8-7423-fd8d",
       "next": "56c248c6-7f9f-11ee-91d3-0242ac120006-4-c5d9-545f-c795-c922",
       "previous": "56c24740-7f9f-11ee-91d3-0242ac120006-4-788f-8333-e10c-be1b"
      }
     ],
     "next": "56c248c6-7f9f-11ee-91d3-0242ac120006-5-c5d9-545f-c795-c922-5699",
     "previous": "56c24740-7f9f-11ee-91d3-0242ac120006-5-788f-8333-e10c-be1b-88a9"
    }
   },
   "source": [
    "モニタースタックが全て起動するまで、5分ぐらいかかる"
   ]
  },
  {
   "cell_type": "code",
   "execution_count": null,
   "metadata": {
    "lc_cell_meme": {
     "current": "56c248c6-7f9f-11ee-91d3-0242ac120006-5-c5d9-545f-c795-c922-5699",
     "history": [
      {
       "current": "56c248c6-7f9f-11ee-91d3-0242ac120006",
       "next": "56c2495c-7f9f-11ee-91d3-0242ac120006",
       "previous": "56c24740-7f9f-11ee-91d3-0242ac120006"
      },
      {
       "current": "56c248c6-7f9f-11ee-91d3-0242ac120006",
       "next": "35c581ba-55a3-11e7-b0b2-00163e9c0e35-3-f60b-133a-40ef",
       "previous": "56c24740-7f9f-11ee-91d3-0242ac120006"
      },
      {
       "current": "56c248c6-7f9f-11ee-91d3-0242ac120006-1-c5d9",
       "next": "35c581ba-55a3-11e7-b0b2-00163e9c0e35-3-f60b-133a-40ef",
       "previous": "41aedb8a-7fad-11ee-91d3-0242ac120006"
      },
      {
       "current": "56c248c6-7f9f-11ee-91d3-0242ac120006-2-c5d9-545f",
       "next": "35c581ba-55a3-11e7-b0b2-00163e9c0e35-4-f60b-133a-40ef-df2b",
       "previous": "41aedb8a-7fad-11ee-91d3-0242ac120006-1-f619"
      },
      {
       "current": "56c248c6-7f9f-11ee-91d3-0242ac120006-3-c5d9-545f-c795",
       "next": "35c581ba-55a3-11e7-b0b2-00163e9c0e35-5-f60b-133a-40ef-df2b-2438",
       "previous": "41aedb8a-7fad-11ee-91d3-0242ac120006-2-f619-1daa"
      },
      {
       "current": "56c248c6-7f9f-11ee-91d3-0242ac120006-4-c5d9-545f-c795-c922",
       "next": "35c581ba-55a3-11e7-b0b2-00163e9c0e35-6-f60b-133a-40ef-df2b-2438-07af",
       "previous": "41aedb8a-7fad-11ee-91d3-0242ac120006-3-f619-1daa-bbe8"
      },
      {
       "current": "56c248c6-7f9f-11ee-91d3-0242ac120006-5-c5d9-545f-c795-c922-5699",
       "next": "35c581ba-55a3-11e7-b0b2-00163e9c0e35-7-f60b-133a-40ef-df2b-2438-07af-20e6",
       "previous": "41aedb8a-7fad-11ee-91d3-0242ac120006-4-f619-1daa-bbe8-7423"
      }
     ],
     "next": "35c581ba-55a3-11e7-b0b2-00163e9c0e35-8-f60b-133a-40ef-df2b-2438-07af-20e6-9ca4",
     "previous": "41aedb8a-7fad-11ee-91d3-0242ac120006-5-f619-1daa-bbe8-7423-fd8d"
    }
   },
   "outputs": [],
   "source": [
    "!ansible -b -m shell -a \"cephadm shell -- ceph orch ls 2> /dev/null\" bootstrap"
   ]
  },
  {
   "cell_type": "markdown",
   "metadata": {
    "collapsed": true,
    "lc_cell_meme": {
     "current": "35c581ba-55a3-11e7-b0b2-00163e9c0e35-8-f60b-133a-40ef-df2b-2438-07af-20e6-9ca4",
     "history": [
      {
       "current": "35c581ba-55a3-11e7-b0b2-00163e9c0e35",
       "next": "35c58340-55a3-11e7-b0b2-00163e9c0e35",
       "previous": "35c58034-55a3-11e7-b0b2-00163e9c0e35"
      },
      {
       "current": "35c581ba-55a3-11e7-b0b2-00163e9c0e35",
       "next": "35c58340-55a3-11e7-b0b2-00163e9c0e35",
       "previous": "35c51928-55a3-11e7-b0b2-00163e9c0e35"
      },
      {
       "current": "35c581ba-55a3-11e7-b0b2-00163e9c0e35",
       "next": "35c58340-55a3-11e7-b0b2-00163e9c0e35",
       "previous": "277a614c-47b9-11ea-a028-0242ac120005"
      },
      {
       "current": "35c581ba-55a3-11e7-b0b2-00163e9c0e35",
       "next": "35c58340-55a3-11e7-b0b2-00163e9c0e35",
       "previous": "35c51928-55a3-11e7-b0b2-00163e9c0e35"
      },
      {
       "current": "35c581ba-55a3-11e7-b0b2-00163e9c0e35",
       "next": "35c58340-55a3-11e7-b0b2-00163e9c0e35",
       "previous": "b8a85906-47b6-11ea-a028-0242ac120005"
      },
      {
       "current": "35c581ba-55a3-11e7-b0b2-00163e9c0e35",
       "next": "35c58340-55a3-11e7-b0b2-00163e9c0e35",
       "previous": "35c38fae-55a3-11e7-b0b2-00163e9c0e35"
      },
      {
       "current": "35c581ba-55a3-11e7-b0b2-00163e9c0e35",
       "next": "35c58340-55a3-11e7-b0b2-00163e9c0e35",
       "previous": "35c385a4-55a3-11e7-b0b2-00163e9c0e35"
      },
      {
       "current": "35c581ba-55a3-11e7-b0b2-00163e9c0e35",
       "next": "35c58340-55a3-11e7-b0b2-00163e9c0e35",
       "previous": "27c39180-935b-11ea-8d02-0242ac120007"
      },
      {
       "current": "35c581ba-55a3-11e7-b0b2-00163e9c0e35",
       "next": "35c58340-55a3-11e7-b0b2-00163e9c0e35",
       "previous": "35c385a4-55a3-11e7-b0b2-00163e9c0e35"
      },
      {
       "current": "35c581ba-55a3-11e7-b0b2-00163e9c0e35",
       "next": "35c58340-55a3-11e7-b0b2-00163e9c0e35",
       "previous": "b20d6ace-9684-11ea-8d02-0242ac120007"
      },
      {
       "current": "35c581ba-55a3-11e7-b0b2-00163e9c0e35",
       "next": "35c58340-55a3-11e7-b0b2-00163e9c0e35",
       "previous": "18b837c6-9686-11ea-8d02-0242ac120007"
      },
      {
       "current": "35c581ba-55a3-11e7-b0b2-00163e9c0e35",
       "next": "35c58340-55a3-11e7-b0b2-00163e9c0e35",
       "previous": "59de09f6-9686-11ea-8d02-0242ac120007"
      },
      {
       "current": "35c581ba-55a3-11e7-b0b2-00163e9c0e35",
       "next": "35c58340-55a3-11e7-b0b2-00163e9c0e35",
       "previous": "7dae8b30-9686-11ea-8d02-0242ac120007"
      },
      {
       "current": "35c581ba-55a3-11e7-b0b2-00163e9c0e35",
       "next": "35c58340-55a3-11e7-b0b2-00163e9c0e35",
       "previous": "789942dc-9692-11ea-8d02-0242ac120007"
      },
      {
       "current": "35c581ba-55a3-11e7-b0b2-00163e9c0e35",
       "next": "35c58340-55a3-11e7-b0b2-00163e9c0e35",
       "previous": "e95d003a-9697-11ea-8d02-0242ac120007"
      },
      {
       "current": "35c581ba-55a3-11e7-b0b2-00163e9c0e35",
       "next": "35c58340-55a3-11e7-b0b2-00163e9c0e35",
       "previous": "357fc83a-969d-11ea-8d02-0242ac120007"
      },
      {
       "current": "35c581ba-55a3-11e7-b0b2-00163e9c0e35",
       "next": "35c58340-55a3-11e7-b0b2-00163e9c0e35",
       "previous": "7dae86da-9686-11ea-8d02-0242ac120007"
      },
      {
       "current": "35c581ba-55a3-11e7-b0b2-00163e9c0e35",
       "next": "35c58340-55a3-11e7-b0b2-00163e9c0e35",
       "previous": "49102d8c-98a9-11ea-8d02-0242ac120007"
      },
      {
       "current": "35c581ba-55a3-11e7-b0b2-00163e9c0e35",
       "next": "35c58340-55a3-11e7-b0b2-00163e9c0e35",
       "previous": "dbe917aa-9984-11ea-8d02-0242ac120007"
      },
      {
       "current": "35c581ba-55a3-11e7-b0b2-00163e9c0e35",
       "next": "35c58340-55a3-11e7-b0b2-00163e9c0e35",
       "previous": "f9f7c1a0-9985-11ea-8d02-0242ac120007"
      },
      {
       "current": "35c581ba-55a3-11e7-b0b2-00163e9c0e35",
       "next": "35c58340-55a3-11e7-b0b2-00163e9c0e35",
       "previous": "4180e646-9986-11ea-8d02-0242ac120007"
      },
      {
       "current": "35c581ba-55a3-11e7-b0b2-00163e9c0e35",
       "next": "35c58340-55a3-11e7-b0b2-00163e9c0e35",
       "previous": "eea7aafc-9987-11ea-8d02-0242ac120007"
      },
      {
       "current": "35c581ba-55a3-11e7-b0b2-00163e9c0e35",
       "next": "35c58340-55a3-11e7-b0b2-00163e9c0e35",
       "previous": "7db36be6-9988-11ea-8d02-0242ac120007"
      },
      {
       "current": "35c581ba-55a3-11e7-b0b2-00163e9c0e35",
       "next": "35c58340-55a3-11e7-b0b2-00163e9c0e35",
       "previous": "7db36a7e-9988-11ea-8d02-0242ac120007"
      },
      {
       "current": "35c581ba-55a3-11e7-b0b2-00163e9c0e35",
       "next": "35c58340-55a3-11e7-b0b2-00163e9c0e35",
       "previous": "f3e7d364-998e-11ea-8d02-0242ac120007"
      },
      {
       "current": "35c581ba-55a3-11e7-b0b2-00163e9c0e35-1-f60b",
       "next": "35c58340-55a3-11e7-b0b2-00163e9c0e35",
       "previous": "b0a33f46-98ce-11ea-8d02-0242ac120007"
      },
      {
       "current": "35c581ba-55a3-11e7-b0b2-00163e9c0e35-2-f60b-133a",
       "next": "35c58340-55a3-11e7-b0b2-00163e9c0e35-1-c0ce",
       "previous": "b0a33f46-98ce-11ea-8d02-0242ac120007-1-1e51"
      },
      {
       "current": "35c581ba-55a3-11e7-b0b2-00163e9c0e35-2-f60b-133a",
       "next": "35c58340-55a3-11e7-b0b2-00163e9c0e35-2-c0ce-9618",
       "previous": "b0a33f46-98ce-11ea-8d02-0242ac120007-2-1e51-b1e8"
      },
      {
       "current": "35c581ba-55a3-11e7-b0b2-00163e9c0e35-2-f60b-133a",
       "next": "35c58340-55a3-11e7-b0b2-00163e9c0e35-2-c0ce-9618",
       "previous": "d0769ffa-98bc-11ea-8d02-0242ac120007-2-9994-0723"
      },
      {
       "current": "35c581ba-55a3-11e7-b0b2-00163e9c0e35-2-f60b-133a",
       "next": "35c58340-55a3-11e7-b0b2-00163e9c0e35-2-c0ce-9618",
       "previous": "bc16cb02-dfce-11eb-b29f-0242ac120008"
      },
      {
       "current": "35c581ba-55a3-11e7-b0b2-00163e9c0e35-2-f60b-133a",
       "next": "35c58340-55a3-11e7-b0b2-00163e9c0e35-2-c0ce-9618",
       "previous": "7cf7d994-f4ea-11eb-b29f-0242ac120008"
      },
      {
       "current": "35c581ba-55a3-11e7-b0b2-00163e9c0e35-2-f60b-133a",
       "next": "35c58340-55a3-11e7-b0b2-00163e9c0e35-2-c0ce-9618",
       "previous": "204647a2-f4eb-11eb-b29f-0242ac120008"
      },
      {
       "current": "35c581ba-55a3-11e7-b0b2-00163e9c0e35-2-f60b-133a",
       "next": "35c58340-55a3-11e7-b0b2-00163e9c0e35-2-c0ce-9618",
       "previous": "798c29c4-9a06-11ec-a1da-0242ac120004"
      },
      {
       "current": "35c581ba-55a3-11e7-b0b2-00163e9c0e35-3-f60b-133a-40ef",
       "next": "35c58340-55a3-11e7-b0b2-00163e9c0e35-2-c0ce-9618",
       "previous": "204647a2-f4eb-11eb-b29f-0242ac120008"
      },
      {
       "current": "35c581ba-55a3-11e7-b0b2-00163e9c0e35-3-f60b-133a-40ef",
       "next": "35c58340-55a3-11e7-b0b2-00163e9c0e35-3-c0ce-9618-7032",
       "previous": "204647a2-f4eb-11eb-b29f-0242ac120008-1-10f9"
      },
      {
       "current": "35c581ba-55a3-11e7-b0b2-00163e9c0e35-3-f60b-133a-40ef",
       "next": "35c58340-55a3-11e7-b0b2-00163e9c0e35-3-c0ce-9618-7032",
       "previous": "3c6cb112-4bb2-11ee-89fa-0242ac120005"
      },
      {
       "current": "35c581ba-55a3-11e7-b0b2-00163e9c0e35-3-f60b-133a-40ef",
       "next": "35c58340-55a3-11e7-b0b2-00163e9c0e35-3-c0ce-9618-7032",
       "previous": "d619a970-6195-11ee-89fa-0242ac120005"
      },
      {
       "current": "35c581ba-55a3-11e7-b0b2-00163e9c0e35-3-f60b-133a-40ef",
       "next": "35c58340-55a3-11e7-b0b2-00163e9c0e35-3-c0ce-9618-7032",
       "previous": "d954180a-61bd-11ee-89fa-0242ac120005"
      },
      {
       "current": "35c581ba-55a3-11e7-b0b2-00163e9c0e35-3-f60b-133a-40ef",
       "next": "35c58340-55a3-11e7-b0b2-00163e9c0e35-3-c0ce-9618-7032",
       "previous": "0fca55a2-6254-11ee-89fa-0242ac120005"
      },
      {
       "current": "35c581ba-55a3-11e7-b0b2-00163e9c0e35-3-f60b-133a-40ef",
       "next": "35c58340-55a3-11e7-b0b2-00163e9c0e35-3-c0ce-9618-7032",
       "previous": "43709838-6251-11ee-89fa-0242ac120005"
      },
      {
       "current": "35c581ba-55a3-11e7-b0b2-00163e9c0e35-3-f60b-133a-40ef",
       "next": "35c58340-55a3-11e7-b0b2-00163e9c0e35-3-c0ce-9618-7032",
       "previous": "5dbaa7f2-7470-11ee-89fa-0242ac120005"
      },
      {
       "current": "35c581ba-55a3-11e7-b0b2-00163e9c0e35-4-f60b-133a-40ef-df2b",
       "next": "35c58340-55a3-11e7-b0b2-00163e9c0e35-3-c0ce-9618-7032",
       "previous": "56c248c6-7f9f-11ee-91d3-0242ac120006"
      },
      {
       "current": "35c581ba-55a3-11e7-b0b2-00163e9c0e35-5-f60b-133a-40ef-df2b-2438",
       "next": "35c58340-55a3-11e7-b0b2-00163e9c0e35-4-c0ce-9618-7032-59ce",
       "previous": "56c248c6-7f9f-11ee-91d3-0242ac120006-1-c5d9"
      },
      {
       "current": "35c581ba-55a3-11e7-b0b2-00163e9c0e35-6-f60b-133a-40ef-df2b-2438-07af",
       "next": "35c58340-55a3-11e7-b0b2-00163e9c0e35-5-c0ce-9618-7032-59ce-9bde",
       "previous": "56c248c6-7f9f-11ee-91d3-0242ac120006-2-c5d9-545f"
      },
      {
       "current": "35c581ba-55a3-11e7-b0b2-00163e9c0e35-7-f60b-133a-40ef-df2b-2438-07af-20e6",
       "next": "35c58340-55a3-11e7-b0b2-00163e9c0e35-6-c0ce-9618-7032-59ce-9bde-1402",
       "previous": "56c248c6-7f9f-11ee-91d3-0242ac120006-3-c5d9-545f-c795"
      },
      {
       "current": "35c581ba-55a3-11e7-b0b2-00163e9c0e35-8-f60b-133a-40ef-df2b-2438-07af-20e6-9ca4",
       "next": "35c58340-55a3-11e7-b0b2-00163e9c0e35-7-c0ce-9618-7032-59ce-9bde-1402-5835",
       "previous": "56c248c6-7f9f-11ee-91d3-0242ac120006-4-c5d9-545f-c795-c922"
      }
     ],
     "next": "35c58340-55a3-11e7-b0b2-00163e9c0e35-8-c0ce-9618-7032-59ce-9bde-1402-5835-fc56",
     "previous": "56c248c6-7f9f-11ee-91d3-0242ac120006-5-c5d9-545f-c795-c922-5699"
    }
   },
   "source": [
    "# 後始末\n",
    "\n",
    "一時ディレクトリを削除する。"
   ]
  },
  {
   "cell_type": "code",
   "execution_count": null,
   "metadata": {
    "ExecuteTime": {
     "end_time": "2017-06-29T08:01:20.617274Z",
     "start_time": "2017-06-29T08:01:20.466671Z"
    },
    "lc_cell_meme": {
     "current": "35c58340-55a3-11e7-b0b2-00163e9c0e35-8-c0ce-9618-7032-59ce-9bde-1402-5835-fc56",
     "history": [
      {
       "current": "35c58340-55a3-11e7-b0b2-00163e9c0e35",
       "next": null,
       "previous": "35c581ba-55a3-11e7-b0b2-00163e9c0e35"
      },
      {
       "current": "35c58340-55a3-11e7-b0b2-00163e9c0e35-1-c0ce",
       "next": "c4bd8ce4-5749-11e7-b0b2-00163e9c0e35",
       "previous": "35c581ba-55a3-11e7-b0b2-00163e9c0e35"
      },
      {
       "current": "35c58340-55a3-11e7-b0b2-00163e9c0e35-2-c0ce-9618",
       "next": "c4bd8ce4-5749-11e7-b0b2-00163e9c0e35-1-6c35",
       "previous": "35c581ba-55a3-11e7-b0b2-00163e9c0e35-1-f60b"
      },
      {
       "current": "35c58340-55a3-11e7-b0b2-00163e9c0e35-3-c0ce-9618-7032",
       "next": "c4bd8ce4-5749-11e7-b0b2-00163e9c0e35-2-6c35-ebfb",
       "previous": "35c581ba-55a3-11e7-b0b2-00163e9c0e35-2-f60b-133a"
      },
      {
       "current": "35c58340-55a3-11e7-b0b2-00163e9c0e35-4-c0ce-9618-7032-59ce",
       "next": "c4bd8ce4-5749-11e7-b0b2-00163e9c0e35-3-6c35-ebfb-793f",
       "previous": "35c581ba-55a3-11e7-b0b2-00163e9c0e35-3-f60b-133a-40ef"
      },
      {
       "current": "35c58340-55a3-11e7-b0b2-00163e9c0e35-5-c0ce-9618-7032-59ce-9bde",
       "next": "c4bd8ce4-5749-11e7-b0b2-00163e9c0e35-4-6c35-ebfb-793f-175a",
       "previous": "35c581ba-55a3-11e7-b0b2-00163e9c0e35-4-f60b-133a-40ef-df2b"
      },
      {
       "current": "35c58340-55a3-11e7-b0b2-00163e9c0e35-6-c0ce-9618-7032-59ce-9bde-1402",
       "next": "c4bd8ce4-5749-11e7-b0b2-00163e9c0e35-5-6c35-ebfb-793f-175a-3c44",
       "previous": "35c581ba-55a3-11e7-b0b2-00163e9c0e35-5-f60b-133a-40ef-df2b-2438"
      },
      {
       "current": "35c58340-55a3-11e7-b0b2-00163e9c0e35-7-c0ce-9618-7032-59ce-9bde-1402-5835",
       "next": "c4bd8ce4-5749-11e7-b0b2-00163e9c0e35-6-6c35-ebfb-793f-175a-3c44-a437",
       "previous": "35c581ba-55a3-11e7-b0b2-00163e9c0e35-6-f60b-133a-40ef-df2b-2438-07af"
      },
      {
       "current": "35c58340-55a3-11e7-b0b2-00163e9c0e35-8-c0ce-9618-7032-59ce-9bde-1402-5835-fc56",
       "next": "c4bd8ce4-5749-11e7-b0b2-00163e9c0e35-7-6c35-ebfb-793f-175a-3c44-a437-8ded",
       "previous": "35c581ba-55a3-11e7-b0b2-00163e9c0e35-7-f60b-133a-40ef-df2b-2438-07af-20e6"
      }
     ],
     "next": "c4bd8ce4-5749-11e7-b0b2-00163e9c0e35-8-6c35-ebfb-793f-175a-3c44-a437-8ded-7cf4",
     "previous": "35c581ba-55a3-11e7-b0b2-00163e9c0e35-8-f60b-133a-40ef-df2b-2438-07af-20e6-9ca4"
    }
   },
   "outputs": [],
   "source": [
    "!rm -fr $temp_dir"
   ]
  },
  {
   "cell_type": "code",
   "execution_count": null,
   "metadata": {
    "lc_cell_meme": {
     "current": "c4bd8ce4-5749-11e7-b0b2-00163e9c0e35-8-6c35-ebfb-793f-175a-3c44-a437-8ded-7cf4",
     "history": [
      {
       "current": "c4bd8ce4-5749-11e7-b0b2-00163e9c0e35-1-6c35",
       "next": null,
       "previous": "35c58340-55a3-11e7-b0b2-00163e9c0e35"
      },
      {
       "current": "c4bd8ce4-5749-11e7-b0b2-00163e9c0e35-2-6c35-ebfb",
       "next": null,
       "previous": "35c58340-55a3-11e7-b0b2-00163e9c0e35-1-c0ce"
      },
      {
       "current": "c4bd8ce4-5749-11e7-b0b2-00163e9c0e35-3-6c35-ebfb-793f",
       "next": null,
       "previous": "35c58340-55a3-11e7-b0b2-00163e9c0e35-2-c0ce-9618"
      },
      {
       "current": "c4bd8ce4-5749-11e7-b0b2-00163e9c0e35-4-6c35-ebfb-793f-175a",
       "next": null,
       "previous": "35c58340-55a3-11e7-b0b2-00163e9c0e35-3-c0ce-9618-7032"
      },
      {
       "current": "c4bd8ce4-5749-11e7-b0b2-00163e9c0e35-5-6c35-ebfb-793f-175a-3c44",
       "next": null,
       "previous": "35c58340-55a3-11e7-b0b2-00163e9c0e35-4-c0ce-9618-7032-59ce"
      },
      {
       "current": "c4bd8ce4-5749-11e7-b0b2-00163e9c0e35-6-6c35-ebfb-793f-175a-3c44-a437",
       "next": null,
       "previous": "35c58340-55a3-11e7-b0b2-00163e9c0e35-5-c0ce-9618-7032-59ce-9bde"
      },
      {
       "current": "c4bd8ce4-5749-11e7-b0b2-00163e9c0e35-7-6c35-ebfb-793f-175a-3c44-a437-8ded",
       "next": null,
       "previous": "35c58340-55a3-11e7-b0b2-00163e9c0e35-6-c0ce-9618-7032-59ce-9bde-1402"
      },
      {
       "current": "c4bd8ce4-5749-11e7-b0b2-00163e9c0e35-8-6c35-ebfb-793f-175a-3c44-a437-8ded-7cf4",
       "next": null,
       "previous": "35c58340-55a3-11e7-b0b2-00163e9c0e35-7-c0ce-9618-7032-59ce-9bde-1402-5835"
      }
     ],
     "next": null,
     "previous": "35c58340-55a3-11e7-b0b2-00163e9c0e35-8-c0ce-9618-7032-59ce-9bde-1402-5835-fc56"
    }
   },
   "outputs": [],
   "source": []
  }
 ],
 "metadata": {
  "kernelspec": {
   "display_name": "Python 3",
   "language": "python",
   "name": "python3"
  },
  "language_info": {
   "file_extension": ".py",
   "mimetype": "text/x-python",
   "name": "python",
   "nbconvert_exporter": "python",
   "pygments_lexer": "ipython3",
   "version": "3.10.4"
  },
  "lc_notebook_meme": {
   "current": "35c33086-55a3-11e7-b0b2-00163e9c0e35"
  },
  "toc": {
   "base_numbering": 1,
   "nav_menu": {
    "height": "484px",
    "width": "687px"
   },
   "number_sections": true,
   "sideBar": true,
   "skip_h1_title": false,
   "title_cell": "Table of Contents",
   "title_sidebar": "Contents",
   "toc_cell": false,
   "toc_position": {
    "height": "1156px",
    "left": "0px",
    "right": "1330px",
    "top": "106px",
    "width": "340.983px"
   },
   "toc_section_display": "block",
   "toc_window_display": true
  }
 },
 "nbformat": 4,
 "nbformat_minor": 1
}
