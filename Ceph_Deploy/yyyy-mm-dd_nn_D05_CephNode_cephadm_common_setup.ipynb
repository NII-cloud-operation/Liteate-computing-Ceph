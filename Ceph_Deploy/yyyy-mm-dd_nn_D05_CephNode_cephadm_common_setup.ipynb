{
 "cells": [
  {
   "cell_type": "markdown",
   "metadata": {
    "collapsed": true,
    "lc_cell_meme": {
     "current": "35c33414-55a3-11e7-b0b2-00163e9c0e35-8-ffee-ac17-57e4-972c-eea3-0423-c43e-c459",
     "history": [
      {
       "current": "35c33414-55a3-11e7-b0b2-00163e9c0e35",
       "next": "35c33626-55a3-11e7-b0b2-00163e9c0e35",
       "previous": null
      },
      {
       "current": "35c33414-55a3-11e7-b0b2-00163e9c0e35",
       "next": "35c33626-55a3-11e7-b0b2-00163e9c0e35",
       "previous": null
      },
      {
       "current": "35c33414-55a3-11e7-b0b2-00163e9c0e35",
       "next": "35c33626-55a3-11e7-b0b2-00163e9c0e35",
       "previous": "0db87670-9586-11ea-8d02-0242ac120007"
      },
      {
       "current": "35c33414-55a3-11e7-b0b2-00163e9c0e35-1-ffee",
       "next": "35c337f2-55a3-11e7-b0b2-00163e9c0e35",
       "previous": null
      },
      {
       "current": "35c33414-55a3-11e7-b0b2-00163e9c0e35-2-ffee-ac17",
       "next": "35c337f2-55a3-11e7-b0b2-00163e9c0e35-1-b874",
       "previous": null
      },
      {
       "current": "35c33414-55a3-11e7-b0b2-00163e9c0e35-3-ffee-ac17-57e4",
       "next": "35c337f2-55a3-11e7-b0b2-00163e9c0e35-2-b874-13f7",
       "previous": null
      },
      {
       "current": "35c33414-55a3-11e7-b0b2-00163e9c0e35-3-ffee-ac17-57e4",
       "next": "35c337f2-55a3-11e7-b0b2-00163e9c0e35-3-b874-13f7-350b",
       "previous": null
      },
      {
       "current": "35c33414-55a3-11e7-b0b2-00163e9c0e35-3-ffee-ac17-57e4",
       "next": "35c339aa-55a3-11e7-b0b2-00163e9c0e35-3-eee2-af6c-6f73",
       "previous": null
      },
      {
       "current": "35c33414-55a3-11e7-b0b2-00163e9c0e35-4-ffee-ac17-57e4-972c",
       "next": "876f6572-635b-11ee-89fa-0242ac120005",
       "previous": null
      },
      {
       "current": "35c33414-55a3-11e7-b0b2-00163e9c0e35-5-ffee-ac17-57e4-972c-eea3",
       "next": "35c339aa-55a3-11e7-b0b2-00163e9c0e35-4-eee2-af6c-6f73-6660",
       "previous": null
      },
      {
       "current": "35c33414-55a3-11e7-b0b2-00163e9c0e35-6-ffee-ac17-57e4-972c-eea3-0423",
       "next": "35c339aa-55a3-11e7-b0b2-00163e9c0e35-5-eee2-af6c-6f73-6660-1a6e",
       "previous": null
      },
      {
       "current": "35c33414-55a3-11e7-b0b2-00163e9c0e35-7-ffee-ac17-57e4-972c-eea3-0423-c43e",
       "next": "35c339aa-55a3-11e7-b0b2-00163e9c0e35-6-eee2-af6c-6f73-6660-1a6e-23ca",
       "previous": null
      },
      {
       "current": "35c33414-55a3-11e7-b0b2-00163e9c0e35-8-ffee-ac17-57e4-972c-eea3-0423-c43e-c459",
       "next": "35c339aa-55a3-11e7-b0b2-00163e9c0e35-7-eee2-af6c-6f73-6660-1a6e-23ca-ec36",
       "previous": null
      }
     ],
     "next": "35c339aa-55a3-11e7-b0b2-00163e9c0e35-8-eee2-af6c-6f73-6660-1a6e-23ca-ec36-f1ad",
     "previous": null
    }
   },
   "source": [
    "# Cephノード構築：cephadm用共通設定\n",
    "- 疎通確認"
   ]
  },
  {
   "cell_type": "markdown",
   "metadata": {
    "lc_cell_meme": {
     "current": "35c339aa-55a3-11e7-b0b2-00163e9c0e35-8-eee2-af6c-6f73-6660-1a6e-23ca-ec36-f1ad",
     "history": [
      {
       "current": "35c339aa-55a3-11e7-b0b2-00163e9c0e35",
       "next": "35c33b6c-55a3-11e7-b0b2-00163e9c0e35",
       "previous": "35c337f2-55a3-11e7-b0b2-00163e9c0e35"
      },
      {
       "current": "35c339aa-55a3-11e7-b0b2-00163e9c0e35",
       "next": "670888aa-5722-11e7-b0b2-00163e9c0e35",
       "previous": "35c337f2-55a3-11e7-b0b2-00163e9c0e35"
      },
      {
       "current": "35c339aa-55a3-11e7-b0b2-00163e9c0e35",
       "next": "670888aa-5722-11e7-b0b2-00163e9c0e35",
       "previous": "357fc83a-969d-11ea-8d02-0242ac120007"
      },
      {
       "current": "35c339aa-55a3-11e7-b0b2-00163e9c0e35-1-eee2",
       "next": "670888aa-5722-11e7-b0b2-00163e9c0e35",
       "previous": "8a48dae0-98a1-11ea-8d02-0242ac120007"
      },
      {
       "current": "35c339aa-55a3-11e7-b0b2-00163e9c0e35-2-eee2-af6c",
       "next": "670888aa-5722-11e7-b0b2-00163e9c0e35-1-17ba",
       "previous": "8a48dae0-98a1-11ea-8d02-0242ac120007-1-4da2"
      },
      {
       "current": "35c339aa-55a3-11e7-b0b2-00163e9c0e35-2-eee2-af6c",
       "next": "670888aa-5722-11e7-b0b2-00163e9c0e35-2-17ba-53fc",
       "previous": "8a48dae0-98a1-11ea-8d02-0242ac120007-2-4da2-9c77"
      },
      {
       "current": "35c339aa-55a3-11e7-b0b2-00163e9c0e35-3-eee2-af6c-6f73",
       "next": "670888aa-5722-11e7-b0b2-00163e9c0e35-2-17ba-53fc",
       "previous": "35c337f2-55a3-11e7-b0b2-00163e9c0e35-2-b874-13f7"
      },
      {
       "current": "35c339aa-55a3-11e7-b0b2-00163e9c0e35-3-eee2-af6c-6f73",
       "next": "670888aa-5722-11e7-b0b2-00163e9c0e35-3-17ba-53fc-49a1",
       "previous": "35c337f2-55a3-11e7-b0b2-00163e9c0e35-3-b874-13f7-350b"
      },
      {
       "current": "35c339aa-55a3-11e7-b0b2-00163e9c0e35-3-eee2-af6c-6f73",
       "next": "670888aa-5722-11e7-b0b2-00163e9c0e35-3-17ba-53fc-49a1",
       "previous": "35c33414-55a3-11e7-b0b2-00163e9c0e35-3-ffee-ac17-57e4"
      },
      {
       "current": "35c339aa-55a3-11e7-b0b2-00163e9c0e35-4-eee2-af6c-6f73-6660",
       "next": "670888aa-5722-11e7-b0b2-00163e9c0e35-3-17ba-53fc-49a1",
       "previous": "876f6734-635b-11ee-89fa-0242ac120005"
      },
      {
       "current": "35c339aa-55a3-11e7-b0b2-00163e9c0e35-5-eee2-af6c-6f73-6660-1a6e",
       "next": "670888aa-5722-11e7-b0b2-00163e9c0e35-4-17ba-53fc-49a1-a0c6",
       "previous": "35c33414-55a3-11e7-b0b2-00163e9c0e35-4-ffee-ac17-57e4-972c"
      },
      {
       "current": "35c339aa-55a3-11e7-b0b2-00163e9c0e35-6-eee2-af6c-6f73-6660-1a6e-23ca",
       "next": "670888aa-5722-11e7-b0b2-00163e9c0e35-5-17ba-53fc-49a1-a0c6-51eb",
       "previous": "35c33414-55a3-11e7-b0b2-00163e9c0e35-5-ffee-ac17-57e4-972c-eea3"
      },
      {
       "current": "35c339aa-55a3-11e7-b0b2-00163e9c0e35-7-eee2-af6c-6f73-6660-1a6e-23ca-ec36",
       "next": "670888aa-5722-11e7-b0b2-00163e9c0e35-6-17ba-53fc-49a1-a0c6-51eb-987f",
       "previous": "35c33414-55a3-11e7-b0b2-00163e9c0e35-6-ffee-ac17-57e4-972c-eea3-0423"
      },
      {
       "current": "35c339aa-55a3-11e7-b0b2-00163e9c0e35-8-eee2-af6c-6f73-6660-1a6e-23ca-ec36-f1ad",
       "next": "670888aa-5722-11e7-b0b2-00163e9c0e35-7-17ba-53fc-49a1-a0c6-51eb-987f-567d",
       "previous": "35c33414-55a3-11e7-b0b2-00163e9c0e35-7-ffee-ac17-57e4-972c-eea3-0423-c43e"
      }
     ],
     "next": "670888aa-5722-11e7-b0b2-00163e9c0e35-8-17ba-53fc-49a1-a0c6-51eb-987f-567d-8367",
     "previous": "35c33414-55a3-11e7-b0b2-00163e9c0e35-8-ffee-ac17-57e4-972c-eea3-0423-c43e-c459"
    }
   },
   "source": [
    "# パラメータ定義"
   ]
  },
  {
   "cell_type": "markdown",
   "metadata": {
    "lc_cell_meme": {
     "current": "670888aa-5722-11e7-b0b2-00163e9c0e35-8-17ba-53fc-49a1-a0c6-51eb-987f-567d-8367",
     "history": [
      {
       "current": "670888aa-5722-11e7-b0b2-00163e9c0e35-1-17ba",
       "next": "35c33b6c-55a3-11e7-b0b2-00163e9c0e35",
       "previous": "35c339aa-55a3-11e7-b0b2-00163e9c0e35"
      },
      {
       "current": "670888aa-5722-11e7-b0b2-00163e9c0e35-2-17ba-53fc",
       "next": "35c33b6c-55a3-11e7-b0b2-00163e9c0e35-1-c84d",
       "previous": "35c339aa-55a3-11e7-b0b2-00163e9c0e35-1-eee2"
      },
      {
       "current": "670888aa-5722-11e7-b0b2-00163e9c0e35-3-17ba-53fc-49a1",
       "next": "35c33b6c-55a3-11e7-b0b2-00163e9c0e35-2-c84d-3439",
       "previous": "35c339aa-55a3-11e7-b0b2-00163e9c0e35-2-eee2-af6c"
      },
      {
       "current": "670888aa-5722-11e7-b0b2-00163e9c0e35-4-17ba-53fc-49a1-a0c6",
       "next": "35c33b6c-55a3-11e7-b0b2-00163e9c0e35-3-c84d-3439-3412",
       "previous": "35c339aa-55a3-11e7-b0b2-00163e9c0e35-3-eee2-af6c-6f73"
      },
      {
       "current": "670888aa-5722-11e7-b0b2-00163e9c0e35-5-17ba-53fc-49a1-a0c6-51eb",
       "next": "35c33b6c-55a3-11e7-b0b2-00163e9c0e35-4-c84d-3439-3412-7f04",
       "previous": "35c339aa-55a3-11e7-b0b2-00163e9c0e35-4-eee2-af6c-6f73-6660"
      },
      {
       "current": "670888aa-5722-11e7-b0b2-00163e9c0e35-6-17ba-53fc-49a1-a0c6-51eb-987f",
       "next": "35c33b6c-55a3-11e7-b0b2-00163e9c0e35-5-c84d-3439-3412-7f04-a7c4",
       "previous": "35c339aa-55a3-11e7-b0b2-00163e9c0e35-5-eee2-af6c-6f73-6660-1a6e"
      },
      {
       "current": "670888aa-5722-11e7-b0b2-00163e9c0e35-7-17ba-53fc-49a1-a0c6-51eb-987f-567d",
       "next": "35c33b6c-55a3-11e7-b0b2-00163e9c0e35-6-c84d-3439-3412-7f04-a7c4-e436",
       "previous": "35c339aa-55a3-11e7-b0b2-00163e9c0e35-6-eee2-af6c-6f73-6660-1a6e-23ca"
      },
      {
       "current": "670888aa-5722-11e7-b0b2-00163e9c0e35-8-17ba-53fc-49a1-a0c6-51eb-987f-567d-8367",
       "next": "35c33b6c-55a3-11e7-b0b2-00163e9c0e35-7-c84d-3439-3412-7f04-a7c4-e436-8563",
       "previous": "35c339aa-55a3-11e7-b0b2-00163e9c0e35-7-eee2-af6c-6f73-6660-1a6e-23ca-ec36"
      }
     ],
     "next": "35c33b6c-55a3-11e7-b0b2-00163e9c0e35-8-c84d-3439-3412-7f04-a7c4-e436-8563-e2fd",
     "previous": "35c339aa-55a3-11e7-b0b2-00163e9c0e35-8-eee2-af6c-6f73-6660-1a6e-23ca-ec36-f1ad"
    }
   },
   "source": [
    "## パラメータファイル設定"
   ]
  },
  {
   "cell_type": "markdown",
   "metadata": {
    "lc_cell_meme": {
     "current": "35c33b6c-55a3-11e7-b0b2-00163e9c0e35-8-c84d-3439-3412-7f04-a7c4-e436-8563-e2fd",
     "history": [
      {
       "current": "35c33b6c-55a3-11e7-b0b2-00163e9c0e35",
       "next": "35c33d24-55a3-11e7-b0b2-00163e9c0e35",
       "previous": "35c339aa-55a3-11e7-b0b2-00163e9c0e35"
      },
      {
       "current": "35c33b6c-55a3-11e7-b0b2-00163e9c0e35-1-c84d",
       "next": "35c33d24-55a3-11e7-b0b2-00163e9c0e35",
       "previous": "670888aa-5722-11e7-b0b2-00163e9c0e35"
      },
      {
       "current": "35c33b6c-55a3-11e7-b0b2-00163e9c0e35-2-c84d-3439",
       "next": "35c33d24-55a3-11e7-b0b2-00163e9c0e35-1-c8d8",
       "previous": "670888aa-5722-11e7-b0b2-00163e9c0e35-1-17ba"
      },
      {
       "current": "35c33b6c-55a3-11e7-b0b2-00163e9c0e35-3-c84d-3439-3412",
       "next": "35c33d24-55a3-11e7-b0b2-00163e9c0e35-2-c8d8-c063",
       "previous": "670888aa-5722-11e7-b0b2-00163e9c0e35-2-17ba-53fc"
      },
      {
       "current": "35c33b6c-55a3-11e7-b0b2-00163e9c0e35-4-c84d-3439-3412-7f04",
       "next": "35c33d24-55a3-11e7-b0b2-00163e9c0e35-3-c8d8-c063-e5fe",
       "previous": "670888aa-5722-11e7-b0b2-00163e9c0e35-3-17ba-53fc-49a1"
      },
      {
       "current": "35c33b6c-55a3-11e7-b0b2-00163e9c0e35-5-c84d-3439-3412-7f04-a7c4",
       "next": "35c33d24-55a3-11e7-b0b2-00163e9c0e35-4-c8d8-c063-e5fe-221a",
       "previous": "670888aa-5722-11e7-b0b2-00163e9c0e35-4-17ba-53fc-49a1-a0c6"
      },
      {
       "current": "35c33b6c-55a3-11e7-b0b2-00163e9c0e35-6-c84d-3439-3412-7f04-a7c4-e436",
       "next": "35c33d24-55a3-11e7-b0b2-00163e9c0e35-5-c8d8-c063-e5fe-221a-cd79",
       "previous": "670888aa-5722-11e7-b0b2-00163e9c0e35-5-17ba-53fc-49a1-a0c6-51eb"
      },
      {
       "current": "35c33b6c-55a3-11e7-b0b2-00163e9c0e35-7-c84d-3439-3412-7f04-a7c4-e436-8563",
       "next": "78002622-1c0f-11ef-ad2f-0242ac120005",
       "previous": "670888aa-5722-11e7-b0b2-00163e9c0e35-6-17ba-53fc-49a1-a0c6-51eb-987f"
      },
      {
       "current": "35c33b6c-55a3-11e7-b0b2-00163e9c0e35-8-c84d-3439-3412-7f04-a7c4-e436-8563-e2fd",
       "next": "78002622-1c0f-11ef-ad2f-0242ac120005-1-08d3",
       "previous": "670888aa-5722-11e7-b0b2-00163e9c0e35-7-17ba-53fc-49a1-a0c6-51eb-987f-567d"
      }
     ],
     "next": "78002622-1c0f-11ef-ad2f-0242ac120005-2-08d3-8dd6",
     "previous": "670888aa-5722-11e7-b0b2-00163e9c0e35-8-17ba-53fc-49a1-a0c6-51eb-987f-567d-8367"
    }
   },
   "source": [
    "Cephクラスタの定義ファイルを指定するため、<br>\n",
    "パラメータ定義格納ディレクトリを表示する。"
   ]
  },
  {
   "cell_type": "code",
   "execution_count": null,
   "metadata": {
    "lc_cell_meme": {
     "current": "78002622-1c0f-11ef-ad2f-0242ac120005-2-08d3-8dd6",
     "history": [
      {
       "current": "78002622-1c0f-11ef-ad2f-0242ac120005-1-08d3",
       "next": "780026ea-1c0f-11ef-ad2f-0242ac120005",
       "previous": "35c33b6c-55a3-11e7-b0b2-00163e9c0e35-6-c84d-3439-3412-7f04-a7c4-e436"
      },
      {
       "current": "78002622-1c0f-11ef-ad2f-0242ac120005-2-08d3-8dd6",
       "next": "780026ea-1c0f-11ef-ad2f-0242ac120005-1-4b1b",
       "previous": "35c33b6c-55a3-11e7-b0b2-00163e9c0e35-7-c84d-3439-3412-7f04-a7c4-e436-8563"
      }
     ],
     "next": "780026ea-1c0f-11ef-ad2f-0242ac120005-2-4b1b-495d",
     "previous": "35c33b6c-55a3-11e7-b0b2-00163e9c0e35-8-c84d-3439-3412-7f04-a7c4-e436-8563-e2fd"
    }
   },
   "outputs": [],
   "source": [
    "!ls -p ~/notebooks/share/ | grep \"/$\""
   ]
  },
  {
   "cell_type": "code",
   "execution_count": null,
   "metadata": {
    "lc_cell_meme": {
     "current": "780026ea-1c0f-11ef-ad2f-0242ac120005-2-4b1b-495d",
     "history": [
      {
       "current": "780026ea-1c0f-11ef-ad2f-0242ac120005-1-4b1b",
       "next": "78002726-1c0f-11ef-ad2f-0242ac120005",
       "previous": "78002622-1c0f-11ef-ad2f-0242ac120005"
      },
      {
       "current": "780026ea-1c0f-11ef-ad2f-0242ac120005-2-4b1b-495d",
       "next": "78002726-1c0f-11ef-ad2f-0242ac120005-1-4644",
       "previous": "78002622-1c0f-11ef-ad2f-0242ac120005-1-08d3"
      }
     ],
     "next": "78002726-1c0f-11ef-ad2f-0242ac120005-2-4644-c8c8",
     "previous": "78002622-1c0f-11ef-ad2f-0242ac120005-2-08d3-8dd6"
    }
   },
   "outputs": [],
   "source": [
    "!ls -p ~/notebooks/share/configuration"
   ]
  },
  {
   "cell_type": "code",
   "execution_count": null,
   "metadata": {
    "lc_cell_meme": {
     "current": "78002726-1c0f-11ef-ad2f-0242ac120005-2-4644-c8c8",
     "history": [
      {
       "current": "78002726-1c0f-11ef-ad2f-0242ac120005-1-4644",
       "next": "7800274e-1c0f-11ef-ad2f-0242ac120005",
       "previous": "780026ea-1c0f-11ef-ad2f-0242ac120005"
      },
      {
       "current": "78002726-1c0f-11ef-ad2f-0242ac120005-2-4644-c8c8",
       "next": "7800274e-1c0f-11ef-ad2f-0242ac120005-1-5d7f",
       "previous": "780026ea-1c0f-11ef-ad2f-0242ac120005-1-4b1b"
      }
     ],
     "next": "7800274e-1c0f-11ef-ad2f-0242ac120005-2-5d7f-f8e4",
     "previous": "780026ea-1c0f-11ef-ad2f-0242ac120005-2-4b1b-495d"
    }
   },
   "outputs": [],
   "source": [
    "!ls -p ~/notebooks/share/configuration/ceph"
   ]
  },
  {
   "cell_type": "code",
   "execution_count": null,
   "metadata": {
    "lc_cell_meme": {
     "current": "7800274e-1c0f-11ef-ad2f-0242ac120005-2-5d7f-f8e4",
     "history": [
      {
       "current": "7800274e-1c0f-11ef-ad2f-0242ac120005-1-5d7f",
       "next": "78002776-1c0f-11ef-ad2f-0242ac120005",
       "previous": "78002726-1c0f-11ef-ad2f-0242ac120005"
      },
      {
       "current": "7800274e-1c0f-11ef-ad2f-0242ac120005-2-5d7f-f8e4",
       "next": "78002776-1c0f-11ef-ad2f-0242ac120005-1-80ba",
       "previous": "78002726-1c0f-11ef-ad2f-0242ac120005-1-4644"
      }
     ],
     "next": "78002776-1c0f-11ef-ad2f-0242ac120005-2-80ba-959a",
     "previous": "78002726-1c0f-11ef-ad2f-0242ac120005-2-4644-c8c8"
    }
   },
   "outputs": [],
   "source": [
    "import sys, os.path, importlib, json, yaml\n",
    "\n",
    "config_file_name = \"ceph_admin_vm.yml\"\n",
    "config_file_path = os.path.expanduser(\"~/notebooks/share/configuration/ceph/{}\".format(config_file_name))\n",
    "with open(config_file_path) as f:\n",
    "    admin_params = yaml.safe_load(f)\n",
    "admin_params"
   ]
  },
  {
   "cell_type": "code",
   "execution_count": null,
   "metadata": {
    "lc_cell_meme": {
     "current": "78002776-1c0f-11ef-ad2f-0242ac120005-2-80ba-959a",
     "history": [
      {
       "current": "78002776-1c0f-11ef-ad2f-0242ac120005-1-80ba",
       "next": "7800279e-1c0f-11ef-ad2f-0242ac120005",
       "previous": "7800274e-1c0f-11ef-ad2f-0242ac120005"
      },
      {
       "current": "78002776-1c0f-11ef-ad2f-0242ac120005-2-80ba-959a",
       "next": "7800279e-1c0f-11ef-ad2f-0242ac120005-1-d6fa",
       "previous": "7800274e-1c0f-11ef-ad2f-0242ac120005-1-5d7f"
      }
     ],
     "next": "7800279e-1c0f-11ef-ad2f-0242ac120005-2-d6fa-1611",
     "previous": "7800274e-1c0f-11ef-ad2f-0242ac120005-2-5d7f-f8e4"
    }
   },
   "outputs": [],
   "source": [
    "target_vm_name = 'xxx-ceph-admin1'\n",
    "admin_patam = admin_params[target_vm_name]\n",
    "admin_patam"
   ]
  },
  {
   "cell_type": "code",
   "execution_count": null,
   "metadata": {
    "lc_cell_meme": {
     "current": "7800279e-1c0f-11ef-ad2f-0242ac120005-2-d6fa-1611",
     "history": [
      {
       "current": "7800279e-1c0f-11ef-ad2f-0242ac120005-1-d6fa",
       "next": "780027c6-1c0f-11ef-ad2f-0242ac120005",
       "previous": "78002776-1c0f-11ef-ad2f-0242ac120005"
      },
      {
       "current": "7800279e-1c0f-11ef-ad2f-0242ac120005-2-d6fa-1611",
       "next": "780027c6-1c0f-11ef-ad2f-0242ac120005-1-d1dd",
       "previous": "78002776-1c0f-11ef-ad2f-0242ac120005-1-80ba"
      }
     ],
     "next": "780027c6-1c0f-11ef-ad2f-0242ac120005-2-d1dd-7854",
     "previous": "78002776-1c0f-11ef-ad2f-0242ac120005-2-80ba-959a"
    }
   },
   "outputs": [],
   "source": [
    "ceph_admin_ip = admin_patam['network']['provisioning']['ip']"
   ]
  },
  {
   "cell_type": "code",
   "execution_count": null,
   "metadata": {
    "lc_cell_meme": {
     "current": "780027c6-1c0f-11ef-ad2f-0242ac120005-2-d1dd-7854",
     "history": [
      {
       "current": "780027c6-1c0f-11ef-ad2f-0242ac120005-1-d1dd",
       "next": "780027ee-1c0f-11ef-ad2f-0242ac120005",
       "previous": "7800279e-1c0f-11ef-ad2f-0242ac120005"
      },
      {
       "current": "780027c6-1c0f-11ef-ad2f-0242ac120005-2-d1dd-7854",
       "next": "780027ee-1c0f-11ef-ad2f-0242ac120005-1-0f83",
       "previous": "7800279e-1c0f-11ef-ad2f-0242ac120005-1-d6fa"
      }
     ],
     "next": "780027ee-1c0f-11ef-ad2f-0242ac120005-2-0f83-ea52",
     "previous": "7800279e-1c0f-11ef-ad2f-0242ac120005-2-d6fa-1611"
    }
   },
   "outputs": [],
   "source": [
    "import sys, os.path, importlib, json, yaml\n",
    "\n",
    "config_file_name = \"xxx-openstack-parameter.yml\"\n",
    "config_file_path = os.path.expanduser(\"~/notebooks/share/configuration/{}\".format(config_file_name))\n",
    "with open(config_file_path) as f:\n",
    "    params = yaml.safe_load(f)\n",
    "params"
   ]
  },
  {
   "cell_type": "code",
   "execution_count": null,
   "metadata": {
    "lc_cell_meme": {
     "current": "780027ee-1c0f-11ef-ad2f-0242ac120005-2-0f83-ea52",
     "history": [
      {
       "current": "780027ee-1c0f-11ef-ad2f-0242ac120005-1-0f83",
       "next": "78002816-1c0f-11ef-ad2f-0242ac120005",
       "previous": "780027c6-1c0f-11ef-ad2f-0242ac120005"
      },
      {
       "current": "780027ee-1c0f-11ef-ad2f-0242ac120005-2-0f83-ea52",
       "next": "78002816-1c0f-11ef-ad2f-0242ac120005-1-847f",
       "previous": "780027c6-1c0f-11ef-ad2f-0242ac120005-1-d1dd"
      }
     ],
     "next": "78002816-1c0f-11ef-ad2f-0242ac120005-2-847f-f213",
     "previous": "780027c6-1c0f-11ef-ad2f-0242ac120005-2-d1dd-7854"
    }
   },
   "outputs": [],
   "source": [
    "repo_server = params['repository']['addresses']['service_operation']\n",
    "repo_server"
   ]
  },
  {
   "cell_type": "code",
   "execution_count": null,
   "metadata": {
    "lc_cell_meme": {
     "current": "78002816-1c0f-11ef-ad2f-0242ac120005-2-847f-f213",
     "history": [
      {
       "current": "78002816-1c0f-11ef-ad2f-0242ac120005-1-847f",
       "next": "7800283e-1c0f-11ef-ad2f-0242ac120005",
       "previous": "780027ee-1c0f-11ef-ad2f-0242ac120005"
      },
      {
       "current": "78002816-1c0f-11ef-ad2f-0242ac120005-2-847f-f213",
       "next": "7800283e-1c0f-11ef-ad2f-0242ac120005-1-af08",
       "previous": "780027ee-1c0f-11ef-ad2f-0242ac120005-1-0f83"
      }
     ],
     "next": "7800283e-1c0f-11ef-ad2f-0242ac120005-2-af08-0903",
     "previous": "780027ee-1c0f-11ef-ad2f-0242ac120005-2-0f83-ea52"
    }
   },
   "outputs": [],
   "source": [
    "provisioning_vip = params['openstack']['provisioning_vip']\n",
    "provisioning_vip"
   ]
  },
  {
   "cell_type": "code",
   "execution_count": null,
   "metadata": {
    "lc_cell_meme": {
     "current": "7800283e-1c0f-11ef-ad2f-0242ac120005-2-af08-0903",
     "history": [
      {
       "current": "7800283e-1c0f-11ef-ad2f-0242ac120005",
       "next": "78002866-1c0f-11ef-ad2f-0242ac120005",
       "previous": "78002816-1c0f-11ef-ad2f-0242ac120005"
      },
      {
       "current": "7800283e-1c0f-11ef-ad2f-0242ac120005-1-af08",
       "next": "bf249b06-98af-11ea-8d02-0242ac120007-6-1e49-e772-7d44-5a6e-f9e1-91ed",
       "previous": "78002816-1c0f-11ef-ad2f-0242ac120005"
      },
      {
       "current": "7800283e-1c0f-11ef-ad2f-0242ac120005-2-af08-0903",
       "next": "bf249b06-98af-11ea-8d02-0242ac120007-7-1e49-e772-7d44-5a6e-f9e1-91ed-fdca",
       "previous": "78002816-1c0f-11ef-ad2f-0242ac120005-1-847f"
      }
     ],
     "next": "bf249b06-98af-11ea-8d02-0242ac120007-8-1e49-e772-7d44-5a6e-f9e1-91ed-fdca-8aca",
     "previous": "78002816-1c0f-11ef-ad2f-0242ac120005-2-847f-f213"
    }
   },
   "outputs": [],
   "source": [
    "network_segment_controller_vip = params['network_segment_controller_vip']\n",
    "network_segment_controller_vip"
   ]
  },
  {
   "cell_type": "markdown",
   "metadata": {
    "lc_cell_meme": {
     "current": "bf249b06-98af-11ea-8d02-0242ac120007-8-1e49-e772-7d44-5a6e-f9e1-91ed-fdca-8aca",
     "history": [
      {
       "current": "bf249b06-98af-11ea-8d02-0242ac120007",
       "next": "d1bcb8ac-9599-11ea-8d02-0242ac120007",
       "previous": "7dae8996-9686-11ea-8d02-0242ac120007"
      },
      {
       "current": "bf249b06-98af-11ea-8d02-0242ac120007-1-1e49",
       "next": "dd8e3cbc-98f2-11ea-8d02-0242ac120007",
       "previous": "7dae8996-9686-11ea-8d02-0242ac120007"
      },
      {
       "current": "bf249b06-98af-11ea-8d02-0242ac120007-2-1e49-e772",
       "next": "dd8e3cbc-98f2-11ea-8d02-0242ac120007-1-706a",
       "previous": "7dae8996-9686-11ea-8d02-0242ac120007-1-20c5"
      },
      {
       "current": "bf249b06-98af-11ea-8d02-0242ac120007-2-1e49-e772",
       "next": "dd8e3cbc-98f2-11ea-8d02-0242ac120007-2-706a-309d",
       "previous": "7dae8996-9686-11ea-8d02-0242ac120007-2-20c5-a0b0"
      },
      {
       "current": "bf249b06-98af-11ea-8d02-0242ac120007-2-1e49-e772",
       "next": "dd8e3cbc-98f2-11ea-8d02-0242ac120007-2-706a-309d",
       "previous": "1afe76e2-def8-11eb-b29f-0242ac120008"
      },
      {
       "current": "bf249b06-98af-11ea-8d02-0242ac120007-2-1e49-e772",
       "next": "d1bcb8ac-9599-11ea-8d02-0242ac120007-2-ec95-2870",
       "previous": "1afe76e2-def8-11eb-b29f-0242ac120008"
      },
      {
       "current": "bf249b06-98af-11ea-8d02-0242ac120007-2-1e49-e772",
       "next": "d1bcb8ac-9599-11ea-8d02-0242ac120007-2-ec95-2870",
       "previous": "445f36bc-def7-11eb-b29f-0242ac120008"
      },
      {
       "current": "bf249b06-98af-11ea-8d02-0242ac120007-3-1e49-e772-7d44",
       "next": "d1bcb8ac-9599-11ea-8d02-0242ac120007-2-ec95-2870",
       "previous": "17dd310e-deff-11eb-b29f-0242ac120008"
      },
      {
       "current": "bf249b06-98af-11ea-8d02-0242ac120007-4-1e49-e772-7d44-5a6e",
       "next": "d1bcb8ac-9599-11ea-8d02-0242ac120007-3-ec95-2870-37d5",
       "previous": "17dd310e-deff-11eb-b29f-0242ac120008-1-743a"
      },
      {
       "current": "bf249b06-98af-11ea-8d02-0242ac120007-5-1e49-e772-7d44-5a6e-f9e1",
       "next": "d1bcb8ac-9599-11ea-8d02-0242ac120007-4-ec95-2870-37d5-dc17",
       "previous": "17dd310e-deff-11eb-b29f-0242ac120008-2-743a-904a"
      },
      {
       "current": "bf249b06-98af-11ea-8d02-0242ac120007-6-1e49-e772-7d44-5a6e-f9e1-91ed",
       "next": "d1bcb8ac-9599-11ea-8d02-0242ac120007-5-ec95-2870-37d5-dc17-4b9f",
       "previous": "17dd310e-deff-11eb-b29f-0242ac120008-3-743a-904a-a0e3"
      },
      {
       "current": "bf249b06-98af-11ea-8d02-0242ac120007-6-1e49-e772-7d44-5a6e-f9e1-91ed",
       "next": "d1bcb8ac-9599-11ea-8d02-0242ac120007-6-ec95-2870-37d5-dc17-4b9f-1974",
       "previous": "17dd310e-deff-11eb-b29f-0242ac120008-4-743a-904a-a0e3-29a8"
      },
      {
       "current": "bf249b06-98af-11ea-8d02-0242ac120007-7-1e49-e772-7d44-5a6e-f9e1-91ed-fdca",
       "next": "d1bcb8ac-9599-11ea-8d02-0242ac120007-6-ec95-2870-37d5-dc17-4b9f-1974",
       "previous": "7800283e-1c0f-11ef-ad2f-0242ac120005"
      },
      {
       "current": "bf249b06-98af-11ea-8d02-0242ac120007-8-1e49-e772-7d44-5a6e-f9e1-91ed-fdca-8aca",
       "next": "d1bcb8ac-9599-11ea-8d02-0242ac120007-7-ec95-2870-37d5-dc17-4b9f-1974-60e5",
       "previous": "7800283e-1c0f-11ef-ad2f-0242ac120005-1-af08"
      }
     ],
     "next": "d1bcb8ac-9599-11ea-8d02-0242ac120007-8-ec95-2870-37d5-dc17-4b9f-1974-60e5-c224",
     "previous": "7800283e-1c0f-11ef-ad2f-0242ac120005-2-af08-0903"
    }
   },
   "source": [
    "## CephノードとストレージセグメントIPアドレス対応表の読み込み"
   ]
  },
  {
   "cell_type": "code",
   "execution_count": null,
   "metadata": {
    "lc_cell_meme": {
     "current": "d1bcb8ac-9599-11ea-8d02-0242ac120007-8-ec95-2870-37d5-dc17-4b9f-1974-60e5-c224",
     "history": [
      {
       "current": "d1bcb8ac-9599-11ea-8d02-0242ac120007",
       "next": "d1bcba78-9599-11ea-8d02-0242ac120007",
       "previous": "d1bcb5c8-9599-11ea-8d02-0242ac120007"
      },
      {
       "current": "d1bcb8ac-9599-11ea-8d02-0242ac120007",
       "next": "d1bcba78-9599-11ea-8d02-0242ac120007",
       "previous": "a85c1dda-959a-11ea-8d02-0242ac120007"
      },
      {
       "current": "d1bcb8ac-9599-11ea-8d02-0242ac120007",
       "next": "81dd4f74-9597-11ea-8d02-0242ac120007",
       "previous": "a85c1dda-959a-11ea-8d02-0242ac120007"
      },
      {
       "current": "d1bcb8ac-9599-11ea-8d02-0242ac120007",
       "next": "e879cdac-95bf-11ea-8d02-0242ac120007",
       "previous": "a85c1dda-959a-11ea-8d02-0242ac120007"
      },
      {
       "current": "d1bcb8ac-9599-11ea-8d02-0242ac120007",
       "next": "7899411a-9692-11ea-8d02-0242ac120007",
       "previous": "bf249b06-98af-11ea-8d02-0242ac120007"
      },
      {
       "current": "d1bcb8ac-9599-11ea-8d02-0242ac120007",
       "next": "06afe9a8-98b0-11ea-8d02-0242ac120007",
       "previous": "bf249b06-98af-11ea-8d02-0242ac120007"
      },
      {
       "current": "d1bcb8ac-9599-11ea-8d02-0242ac120007",
       "next": "06afe9a8-98b0-11ea-8d02-0242ac120007",
       "previous": "dd8e3cbc-98f2-11ea-8d02-0242ac120007"
      },
      {
       "current": "d1bcb8ac-9599-11ea-8d02-0242ac120007-1-ec95",
       "next": "250e7a70-98f3-11ea-8d02-0242ac120007",
       "previous": "dd8e3cbc-98f2-11ea-8d02-0242ac120007"
      },
      {
       "current": "d1bcb8ac-9599-11ea-8d02-0242ac120007-2-ec95-2870",
       "next": "250e7a70-98f3-11ea-8d02-0242ac120007-1-f0b4",
       "previous": "dd8e3cbc-98f2-11ea-8d02-0242ac120007-1-706a"
      },
      {
       "current": "d1bcb8ac-9599-11ea-8d02-0242ac120007-2-ec95-2870",
       "next": "250e7a70-98f3-11ea-8d02-0242ac120007-2-f0b4-6edf",
       "previous": "dd8e3cbc-98f2-11ea-8d02-0242ac120007-2-706a-309d"
      },
      {
       "current": "d1bcb8ac-9599-11ea-8d02-0242ac120007-3-ec95-2870-37d5",
       "next": "250e7a70-98f3-11ea-8d02-0242ac120007-2-f0b4-6edf",
       "previous": "bf249b06-98af-11ea-8d02-0242ac120007-2-1e49-e772"
      },
      {
       "current": "d1bcb8ac-9599-11ea-8d02-0242ac120007-3-ec95-2870-37d5",
       "next": "250e7a70-98f3-11ea-8d02-0242ac120007-3-f0b4-6edf-02c0",
       "previous": "bf249b06-98af-11ea-8d02-0242ac120007-3-1e49-e772-7d44"
      },
      {
       "current": "d1bcb8ac-9599-11ea-8d02-0242ac120007-4-ec95-2870-37d5-dc17",
       "next": "5b82065e-6e64-11ee-89fa-0242ac120005",
       "previous": "bf249b06-98af-11ea-8d02-0242ac120007-3-1e49-e772-7d44"
      },
      {
       "current": "d1bcb8ac-9599-11ea-8d02-0242ac120007-5-ec95-2870-37d5-dc17-4b9f",
       "next": "5b82065e-6e64-11ee-89fa-0242ac120005-1-1367",
       "previous": "bf249b06-98af-11ea-8d02-0242ac120007-4-1e49-e772-7d44-5a6e"
      },
      {
       "current": "d1bcb8ac-9599-11ea-8d02-0242ac120007-6-ec95-2870-37d5-dc17-4b9f-1974",
       "next": "5b82065e-6e64-11ee-89fa-0242ac120005-2-1367-971c",
       "previous": "bf249b06-98af-11ea-8d02-0242ac120007-5-1e49-e772-7d44-5a6e-f9e1"
      },
      {
       "current": "d1bcb8ac-9599-11ea-8d02-0242ac120007-6-ec95-2870-37d5-dc17-4b9f-1974",
       "next": "5b82065e-6e64-11ee-89fa-0242ac120005-3-1367-971c-a9c7",
       "previous": "bf249b06-98af-11ea-8d02-0242ac120007-6-1e49-e772-7d44-5a6e-f9e1-91ed"
      },
      {
       "current": "d1bcb8ac-9599-11ea-8d02-0242ac120007-7-ec95-2870-37d5-dc17-4b9f-1974-60e5",
       "next": "ba7707fe-6e64-11ee-89fa-0242ac120005-3-a9b3-85d2-b144",
       "previous": "bf249b06-98af-11ea-8d02-0242ac120007-6-1e49-e772-7d44-5a6e-f9e1-91ed"
      },
      {
       "current": "d1bcb8ac-9599-11ea-8d02-0242ac120007-8-ec95-2870-37d5-dc17-4b9f-1974-60e5-c224",
       "next": "ba7707fe-6e64-11ee-89fa-0242ac120005-4-a9b3-85d2-b144-0930",
       "previous": "bf249b06-98af-11ea-8d02-0242ac120007-7-1e49-e772-7d44-5a6e-f9e1-91ed-fdca"
      }
     ],
     "next": "ba7707fe-6e64-11ee-89fa-0242ac120005-5-a9b3-85d2-b144-0930-d91e",
     "previous": "bf249b06-98af-11ea-8d02-0242ac120007-8-1e49-e772-7d44-5a6e-f9e1-91ed-fdca-8aca"
    },
    "scrolled": true
   },
   "outputs": [],
   "source": [
    "import os\n",
    "import csv\n",
    "import pandas as pd\n",
    "\n",
    "instance_ip_csv_path =  os.environ['HOME'] + \"/notebooks/share/configuration/ceph/ceph_instance_ip.csv\"\n",
    "instance_ip_list = []\n",
    "instance_ip_map = {}\n",
    "\n",
    "with open(instance_ip_csv_path, 'r') as path_csv:\n",
    "    reader = csv.DictReader(path_csv)\n",
    "    \n",
    "    for record in reader:\n",
    "        instance_ip_list.append(record)\n",
    "        instance_ip_map[record['instance_name']] = record\n",
    "\n",
    "pd.DataFrame(instance_ip_list)"
   ]
  },
  {
   "cell_type": "markdown",
   "metadata": {
    "lc_cell_meme": {
     "current": "ba7707fe-6e64-11ee-89fa-0242ac120005-5-a9b3-85d2-b144-0930-d91e",
     "history": [
      {
       "current": "ba7707fe-6e64-11ee-89fa-0242ac120005-1-a9b3",
       "next": "ba770984-6e64-11ee-89fa-0242ac120005",
       "previous": "250e7a70-98f3-11ea-8d02-0242ac120007-3-f0b4-6edf-02c0"
      },
      {
       "current": "ba7707fe-6e64-11ee-89fa-0242ac120005-2-a9b3-85d2",
       "next": "ba770984-6e64-11ee-89fa-0242ac120005-1-9572",
       "previous": "250e7a70-98f3-11ea-8d02-0242ac120007-4-f0b4-6edf-02c0-cbdc"
      },
      {
       "current": "ba7707fe-6e64-11ee-89fa-0242ac120005-3-a9b3-85d2-b144",
       "next": "ba770984-6e64-11ee-89fa-0242ac120005-2-9572-799d",
       "previous": "250e7a70-98f3-11ea-8d02-0242ac120007-5-f0b4-6edf-02c0-cbdc-dc2d"
      },
      {
       "current": "ba7707fe-6e64-11ee-89fa-0242ac120005-3-a9b3-85d2-b144",
       "next": "ba770984-6e64-11ee-89fa-0242ac120005-3-9572-799d-53c7",
       "previous": "250e7a70-98f3-11ea-8d02-0242ac120007-6-f0b4-6edf-02c0-cbdc-dc2d-f629"
      },
      {
       "current": "ba7707fe-6e64-11ee-89fa-0242ac120005-4-a9b3-85d2-b144-0930",
       "next": "ba770984-6e64-11ee-89fa-0242ac120005-3-9572-799d-53c7",
       "previous": "d1bcb8ac-9599-11ea-8d02-0242ac120007-6-ec95-2870-37d5-dc17-4b9f-1974"
      },
      {
       "current": "ba7707fe-6e64-11ee-89fa-0242ac120005-5-a9b3-85d2-b144-0930-d91e",
       "next": "ba770984-6e64-11ee-89fa-0242ac120005-4-9572-799d-53c7-a5b4",
       "previous": "d1bcb8ac-9599-11ea-8d02-0242ac120007-7-ec95-2870-37d5-dc17-4b9f-1974-60e5"
      }
     ],
     "next": "ba770984-6e64-11ee-89fa-0242ac120005-5-9572-799d-53c7-a5b4-c726",
     "previous": "d1bcb8ac-9599-11ea-8d02-0242ac120007-8-ec95-2870-37d5-dc17-4b9f-1974-60e5-c224"
    }
   },
   "source": [
    "## 作業用ディレクトリを作成する"
   ]
  },
  {
   "cell_type": "code",
   "execution_count": null,
   "metadata": {
    "lc_cell_meme": {
     "current": "ba770984-6e64-11ee-89fa-0242ac120005-5-9572-799d-53c7-a5b4-c726",
     "history": [
      {
       "current": "ba770984-6e64-11ee-89fa-0242ac120005-1-9572",
       "next": "ba770a24-6e64-11ee-89fa-0242ac120005",
       "previous": "ba7707fe-6e64-11ee-89fa-0242ac120005"
      },
      {
       "current": "ba770984-6e64-11ee-89fa-0242ac120005-2-9572-799d",
       "next": "ba770a24-6e64-11ee-89fa-0242ac120005-1-40db",
       "previous": "ba7707fe-6e64-11ee-89fa-0242ac120005-1-a9b3"
      },
      {
       "current": "ba770984-6e64-11ee-89fa-0242ac120005-3-9572-799d-53c7",
       "next": "ba770a24-6e64-11ee-89fa-0242ac120005-2-40db-7c9c",
       "previous": "ba7707fe-6e64-11ee-89fa-0242ac120005-2-a9b3-85d2"
      },
      {
       "current": "ba770984-6e64-11ee-89fa-0242ac120005-4-9572-799d-53c7-a5b4",
       "next": "ba770a24-6e64-11ee-89fa-0242ac120005-3-40db-7c9c-2102",
       "previous": "ba7707fe-6e64-11ee-89fa-0242ac120005-3-a9b3-85d2-b144"
      },
      {
       "current": "ba770984-6e64-11ee-89fa-0242ac120005-5-9572-799d-53c7-a5b4-c726",
       "next": "ba770a24-6e64-11ee-89fa-0242ac120005-4-40db-7c9c-2102-0017",
       "previous": "ba7707fe-6e64-11ee-89fa-0242ac120005-4-a9b3-85d2-b144-0930"
      }
     ],
     "next": "ba770a24-6e64-11ee-89fa-0242ac120005-5-40db-7c9c-2102-0017-8b33",
     "previous": "ba7707fe-6e64-11ee-89fa-0242ac120005-5-a9b3-85d2-b144-0930-d91e"
    }
   },
   "outputs": [],
   "source": [
    "import os,tempfile\n",
    "temp_dir = tempfile.mkdtemp()\n",
    "print (temp_dir)"
   ]
  },
  {
   "cell_type": "markdown",
   "metadata": {
    "lc_cell_meme": {
     "current": "ba770a24-6e64-11ee-89fa-0242ac120005-5-40db-7c9c-2102-0017-8b33",
     "history": [
      {
       "current": "ba770a24-6e64-11ee-89fa-0242ac120005-1-40db",
       "next": "ba770a92-6e64-11ee-89fa-0242ac120005",
       "previous": "ba770984-6e64-11ee-89fa-0242ac120005"
      },
      {
       "current": "ba770a24-6e64-11ee-89fa-0242ac120005-2-40db-7c9c",
       "next": "ba770a92-6e64-11ee-89fa-0242ac120005-1-ac3a",
       "previous": "ba770984-6e64-11ee-89fa-0242ac120005-1-9572"
      },
      {
       "current": "ba770a24-6e64-11ee-89fa-0242ac120005-3-40db-7c9c-2102",
       "next": "ba770a92-6e64-11ee-89fa-0242ac120005-2-ac3a-2647",
       "previous": "ba770984-6e64-11ee-89fa-0242ac120005-2-9572-799d"
      },
      {
       "current": "ba770a24-6e64-11ee-89fa-0242ac120005-4-40db-7c9c-2102-0017",
       "next": "ba770a92-6e64-11ee-89fa-0242ac120005-3-ac3a-2647-1be0",
       "previous": "ba770984-6e64-11ee-89fa-0242ac120005-3-9572-799d-53c7"
      },
      {
       "current": "ba770a24-6e64-11ee-89fa-0242ac120005-5-40db-7c9c-2102-0017-8b33",
       "next": "ba770a92-6e64-11ee-89fa-0242ac120005-4-ac3a-2647-1be0-b361",
       "previous": "ba770984-6e64-11ee-89fa-0242ac120005-4-9572-799d-53c7-a5b4"
      }
     ],
     "next": "ba770a92-6e64-11ee-89fa-0242ac120005-5-ac3a-2647-1be0-b361-d385",
     "previous": "ba770984-6e64-11ee-89fa-0242ac120005-5-9572-799d-53c7-a5b4-c726"
    }
   },
   "source": [
    "## AnsibleのInventoryファイルを作業用ディレクトリへ作成する"
   ]
  },
  {
   "cell_type": "code",
   "execution_count": null,
   "metadata": {
    "lc_cell_meme": {
     "current": "ba770a92-6e64-11ee-89fa-0242ac120005-5-ac3a-2647-1be0-b361-d385",
     "history": [
      {
       "current": "ba770a92-6e64-11ee-89fa-0242ac120005-1-ac3a",
       "next": "ba770b00-6e64-11ee-89fa-0242ac120005",
       "previous": "ba770a24-6e64-11ee-89fa-0242ac120005"
      },
      {
       "current": "ba770a92-6e64-11ee-89fa-0242ac120005-2-ac3a-2647",
       "next": "ba770b00-6e64-11ee-89fa-0242ac120005-1-2851",
       "previous": "ba770a24-6e64-11ee-89fa-0242ac120005-1-40db"
      },
      {
       "current": "ba770a92-6e64-11ee-89fa-0242ac120005-3-ac3a-2647-1be0",
       "next": "ba770b00-6e64-11ee-89fa-0242ac120005-2-2851-1514",
       "previous": "ba770a24-6e64-11ee-89fa-0242ac120005-2-40db-7c9c"
      },
      {
       "current": "ba770a92-6e64-11ee-89fa-0242ac120005-4-ac3a-2647-1be0-b361",
       "next": "ba770b00-6e64-11ee-89fa-0242ac120005-3-2851-1514-48e4",
       "previous": "ba770a24-6e64-11ee-89fa-0242ac120005-3-40db-7c9c-2102"
      },
      {
       "current": "ba770a92-6e64-11ee-89fa-0242ac120005-5-ac3a-2647-1be0-b361-d385",
       "next": "ba770b00-6e64-11ee-89fa-0242ac120005-4-2851-1514-48e4-1268",
       "previous": "ba770a24-6e64-11ee-89fa-0242ac120005-4-40db-7c9c-2102-0017"
      }
     ],
     "next": "ba770b00-6e64-11ee-89fa-0242ac120005-5-2851-1514-48e4-1268-127f",
     "previous": "ba770a24-6e64-11ee-89fa-0242ac120005-5-40db-7c9c-2102-0017-8b33"
    }
   },
   "outputs": [],
   "source": [
    "import os\n",
    "\n",
    "with open( os.path.join(temp_dir, \"hosts\"), 'w') as f:\n",
    "    f.write('''[openstack_ctl]\n",
    "{openstack_cmn}\n",
    "'''.format(openstack_cmn = provisioning_vip))\n",
    "\n",
    "hosts = temp_dir + \"/hosts\"\n",
    "!cat $hosts"
   ]
  },
  {
   "cell_type": "code",
   "execution_count": null,
   "metadata": {
    "lc_cell_meme": {
     "current": "ba770b00-6e64-11ee-89fa-0242ac120005-5-2851-1514-48e4-1268-127f",
     "history": [
      {
       "current": "ba770b00-6e64-11ee-89fa-0242ac120005-1-2851",
       "next": "ba770b64-6e64-11ee-89fa-0242ac120005",
       "previous": "ba770a92-6e64-11ee-89fa-0242ac120005"
      },
      {
       "current": "ba770b00-6e64-11ee-89fa-0242ac120005-2-2851-1514",
       "next": "ba770b64-6e64-11ee-89fa-0242ac120005-1-e981",
       "previous": "ba770a92-6e64-11ee-89fa-0242ac120005-1-ac3a"
      },
      {
       "current": "ba770b00-6e64-11ee-89fa-0242ac120005-3-2851-1514-48e4",
       "next": "ba770b64-6e64-11ee-89fa-0242ac120005-2-e981-a4a7",
       "previous": "ba770a92-6e64-11ee-89fa-0242ac120005-2-ac3a-2647"
      },
      {
       "current": "ba770b00-6e64-11ee-89fa-0242ac120005-4-2851-1514-48e4-1268",
       "next": "ba770b64-6e64-11ee-89fa-0242ac120005-3-e981-a4a7-2849",
       "previous": "ba770a92-6e64-11ee-89fa-0242ac120005-3-ac3a-2647-1be0"
      },
      {
       "current": "ba770b00-6e64-11ee-89fa-0242ac120005-5-2851-1514-48e4-1268-127f",
       "next": "ba770b64-6e64-11ee-89fa-0242ac120005-4-e981-a4a7-2849-8839",
       "previous": "ba770a92-6e64-11ee-89fa-0242ac120005-4-ac3a-2647-1be0-b361"
      }
     ],
     "next": "ba770b64-6e64-11ee-89fa-0242ac120005-5-e981-a4a7-2849-8839-fd13",
     "previous": "ba770a92-6e64-11ee-89fa-0242ac120005-5-ac3a-2647-1be0-b361-d385"
    }
   },
   "outputs": [],
   "source": [
    "%env ANSIBLE_INVENTORY={hosts}"
   ]
  },
  {
   "cell_type": "markdown",
   "metadata": {
    "lc_cell_meme": {
     "current": "ba770b64-6e64-11ee-89fa-0242ac120005-5-e981-a4a7-2849-8839-fd13",
     "history": [
      {
       "current": "ba770b64-6e64-11ee-89fa-0242ac120005-1-e981",
       "next": "ba770bc8-6e64-11ee-89fa-0242ac120005",
       "previous": "ba770b00-6e64-11ee-89fa-0242ac120005"
      },
      {
       "current": "ba770b64-6e64-11ee-89fa-0242ac120005-2-e981-a4a7",
       "next": "ba770bc8-6e64-11ee-89fa-0242ac120005-1-a66a",
       "previous": "ba770b00-6e64-11ee-89fa-0242ac120005-1-2851"
      },
      {
       "current": "ba770b64-6e64-11ee-89fa-0242ac120005-3-e981-a4a7-2849",
       "next": "ba770bc8-6e64-11ee-89fa-0242ac120005-2-a66a-854a",
       "previous": "ba770b00-6e64-11ee-89fa-0242ac120005-2-2851-1514"
      },
      {
       "current": "ba770b64-6e64-11ee-89fa-0242ac120005-4-e981-a4a7-2849-8839",
       "next": "ba770bc8-6e64-11ee-89fa-0242ac120005-3-a66a-854a-a4f4",
       "previous": "ba770b00-6e64-11ee-89fa-0242ac120005-3-2851-1514-48e4"
      },
      {
       "current": "ba770b64-6e64-11ee-89fa-0242ac120005-5-e981-a4a7-2849-8839-fd13",
       "next": "ba770bc8-6e64-11ee-89fa-0242ac120005-4-a66a-854a-a4f4-6d3d",
       "previous": "ba770b00-6e64-11ee-89fa-0242ac120005-4-2851-1514-48e4-1268"
      }
     ],
     "next": "ba770bc8-6e64-11ee-89fa-0242ac120005-5-a66a-854a-a4f4-6d3d-b15e",
     "previous": "ba770b00-6e64-11ee-89fa-0242ac120005-5-2851-1514-48e4-1268-127f"
    }
   },
   "source": [
    "疎通確認"
   ]
  },
  {
   "cell_type": "code",
   "execution_count": null,
   "metadata": {
    "lc_cell_meme": {
     "current": "ba770bc8-6e64-11ee-89fa-0242ac120005-5-a66a-854a-a4f4-6d3d-b15e",
     "history": [
      {
       "current": "ba770bc8-6e64-11ee-89fa-0242ac120005-1-a66a",
       "next": "ba770c2c-6e64-11ee-89fa-0242ac120005",
       "previous": "ba770b64-6e64-11ee-89fa-0242ac120005"
      },
      {
       "current": "ba770bc8-6e64-11ee-89fa-0242ac120005-2-a66a-854a",
       "next": "ba770c2c-6e64-11ee-89fa-0242ac120005-1-ee2f",
       "previous": "ba770b64-6e64-11ee-89fa-0242ac120005-1-e981"
      },
      {
       "current": "ba770bc8-6e64-11ee-89fa-0242ac120005-3-a66a-854a-a4f4",
       "next": "ba770c2c-6e64-11ee-89fa-0242ac120005-2-ee2f-86ca",
       "previous": "ba770b64-6e64-11ee-89fa-0242ac120005-2-e981-a4a7"
      },
      {
       "current": "ba770bc8-6e64-11ee-89fa-0242ac120005-4-a66a-854a-a4f4-6d3d",
       "next": "ba770c2c-6e64-11ee-89fa-0242ac120005-3-ee2f-86ca-c6b5",
       "previous": "ba770b64-6e64-11ee-89fa-0242ac120005-3-e981-a4a7-2849"
      },
      {
       "current": "ba770bc8-6e64-11ee-89fa-0242ac120005-5-a66a-854a-a4f4-6d3d-b15e",
       "next": "ba770c2c-6e64-11ee-89fa-0242ac120005-4-ee2f-86ca-c6b5-af14",
       "previous": "ba770b64-6e64-11ee-89fa-0242ac120005-4-e981-a4a7-2849-8839"
      }
     ],
     "next": "ba770c2c-6e64-11ee-89fa-0242ac120005-5-ee2f-86ca-c6b5-af14-670e",
     "previous": "ba770b64-6e64-11ee-89fa-0242ac120005-5-e981-a4a7-2849-8839-fd13"
    }
   },
   "outputs": [],
   "source": [
    "!ansible -m ping openstack_ctl"
   ]
  },
  {
   "cell_type": "code",
   "execution_count": null,
   "metadata": {
    "lc_cell_meme": {
     "current": "ba770c2c-6e64-11ee-89fa-0242ac120005-5-ee2f-86ca-c6b5-af14-670e",
     "history": [
      {
       "current": "ba770c2c-6e64-11ee-89fa-0242ac120005",
       "next": "ba770c90-6e64-11ee-89fa-0242ac120005",
       "previous": "ba770bc8-6e64-11ee-89fa-0242ac120005"
      },
      {
       "current": "ba770c2c-6e64-11ee-89fa-0242ac120005-1-ee2f",
       "next": "ba770c90-6e64-11ee-89fa-0242ac120005-1-3b8d",
       "previous": "ba770bc8-6e64-11ee-89fa-0242ac120005"
      },
      {
       "current": "ba770c2c-6e64-11ee-89fa-0242ac120005-2-ee2f-86ca",
       "next": "ba770c90-6e64-11ee-89fa-0242ac120005-2-3b8d-f9de",
       "previous": "ba770bc8-6e64-11ee-89fa-0242ac120005-1-a66a"
      },
      {
       "current": "ba770c2c-6e64-11ee-89fa-0242ac120005-3-ee2f-86ca-c6b5",
       "next": "ba770c90-6e64-11ee-89fa-0242ac120005-3-3b8d-f9de-d247",
       "previous": "ba770bc8-6e64-11ee-89fa-0242ac120005-2-a66a-854a"
      },
      {
       "current": "ba770c2c-6e64-11ee-89fa-0242ac120005-4-ee2f-86ca-c6b5-af14",
       "next": "ba770c90-6e64-11ee-89fa-0242ac120005-4-3b8d-f9de-d247-0ce1",
       "previous": "ba770bc8-6e64-11ee-89fa-0242ac120005-3-a66a-854a-a4f4"
      },
      {
       "current": "ba770c2c-6e64-11ee-89fa-0242ac120005-5-ee2f-86ca-c6b5-af14-670e",
       "next": "ba770c90-6e64-11ee-89fa-0242ac120005-5-3b8d-f9de-d247-0ce1-3ac7",
       "previous": "ba770bc8-6e64-11ee-89fa-0242ac120005-4-a66a-854a-a4f4-6d3d"
      }
     ],
     "next": "ba770c90-6e64-11ee-89fa-0242ac120005-6-3b8d-f9de-d247-0ce1-3ac7-a472",
     "previous": "ba770bc8-6e64-11ee-89fa-0242ac120005-5-a66a-854a-a4f4-6d3d-b15e"
    }
   },
   "outputs": [],
   "source": [
    "!ansible -a 'hostname' openstack_ctl"
   ]
  },
  {
   "cell_type": "markdown",
   "metadata": {
    "lc_cell_meme": {
     "current": "ba770c90-6e64-11ee-89fa-0242ac120005-6-3b8d-f9de-d247-0ce1-3ac7-a472",
     "history": [
      {
       "current": "ba770c90-6e64-11ee-89fa-0242ac120005-1-3b8d",
       "next": "06afe9a8-98b0-11ea-8d02-0242ac120007-3-a1c1-faf0-4964",
       "previous": "ba770c2c-6e64-11ee-89fa-0242ac120005"
      },
      {
       "current": "ba770c90-6e64-11ee-89fa-0242ac120005-2-3b8d-f9de",
       "next": "e6e2fafa-6e64-11ee-89fa-0242ac120005",
       "previous": "ba770c2c-6e64-11ee-89fa-0242ac120005"
      },
      {
       "current": "ba770c90-6e64-11ee-89fa-0242ac120005-3-3b8d-f9de-d247",
       "next": "e6e2fafa-6e64-11ee-89fa-0242ac120005-1-3350",
       "previous": "ba770c2c-6e64-11ee-89fa-0242ac120005-1-ee2f"
      },
      {
       "current": "ba770c90-6e64-11ee-89fa-0242ac120005-4-3b8d-f9de-d247-0ce1",
       "next": "e6e2fafa-6e64-11ee-89fa-0242ac120005-2-3350-2374",
       "previous": "ba770c2c-6e64-11ee-89fa-0242ac120005-2-ee2f-86ca"
      },
      {
       "current": "ba770c90-6e64-11ee-89fa-0242ac120005-5-3b8d-f9de-d247-0ce1-3ac7",
       "next": "e6e2fafa-6e64-11ee-89fa-0242ac120005-3-3350-2374-ab86",
       "previous": "ba770c2c-6e64-11ee-89fa-0242ac120005-3-ee2f-86ca-c6b5"
      },
      {
       "current": "ba770c90-6e64-11ee-89fa-0242ac120005-6-3b8d-f9de-d247-0ce1-3ac7-a472",
       "next": "e6e2fafa-6e64-11ee-89fa-0242ac120005-4-3350-2374-ab86-7440",
       "previous": "ba770c2c-6e64-11ee-89fa-0242ac120005-4-ee2f-86ca-c6b5-af14"
      }
     ],
     "next": "e6e2fafa-6e64-11ee-89fa-0242ac120005-5-3350-2374-ab86-7440-627c",
     "previous": "ba770c2c-6e64-11ee-89fa-0242ac120005-5-ee2f-86ca-c6b5-af14-670e"
    }
   },
   "source": [
    "## OpenStack用OpenRCファイル設定\n",
    "\n",
    "`xxxxxxx`プロジェクト用のOpenRCファイルを事前にダウンロードしておくこと。  "
   ]
  },
  {
   "cell_type": "code",
   "execution_count": null,
   "metadata": {
    "lc_cell_meme": {
     "current": "e6e2fafa-6e64-11ee-89fa-0242ac120005-5-3350-2374-ab86-7440-627c",
     "history": [
      {
       "current": "e6e2fafa-6e64-11ee-89fa-0242ac120005-1-3350",
       "next": "e6e2fc58-6e64-11ee-89fa-0242ac120005",
       "previous": "ba770c90-6e64-11ee-89fa-0242ac120005-1-3b8d"
      },
      {
       "current": "e6e2fafa-6e64-11ee-89fa-0242ac120005-2-3350-2374",
       "next": "e6e2fc58-6e64-11ee-89fa-0242ac120005-1-5f51",
       "previous": "ba770c90-6e64-11ee-89fa-0242ac120005-2-3b8d-f9de"
      },
      {
       "current": "e6e2fafa-6e64-11ee-89fa-0242ac120005-3-3350-2374-ab86",
       "next": "e6e2fc58-6e64-11ee-89fa-0242ac120005-2-5f51-0947",
       "previous": "ba770c90-6e64-11ee-89fa-0242ac120005-3-3b8d-f9de-d247"
      },
      {
       "current": "e6e2fafa-6e64-11ee-89fa-0242ac120005-4-3350-2374-ab86-7440",
       "next": "e6e2fc58-6e64-11ee-89fa-0242ac120005-3-5f51-0947-a694",
       "previous": "ba770c90-6e64-11ee-89fa-0242ac120005-4-3b8d-f9de-d247-0ce1"
      },
      {
       "current": "e6e2fafa-6e64-11ee-89fa-0242ac120005-5-3350-2374-ab86-7440-627c",
       "next": "e6e2fc58-6e64-11ee-89fa-0242ac120005-4-5f51-0947-a694-0439",
       "previous": "ba770c90-6e64-11ee-89fa-0242ac120005-5-3b8d-f9de-d247-0ce1-3ac7"
      }
     ],
     "next": "e6e2fc58-6e64-11ee-89fa-0242ac120005-5-5f51-0947-a694-0439-6704",
     "previous": "ba770c90-6e64-11ee-89fa-0242ac120005-6-3b8d-f9de-d247-0ce1-3ac7-a472"
    }
   },
   "outputs": [],
   "source": [
    "import os\n",
    "\n",
    "user_creds = os.path.expanduser('~/.keys/xxxxxxx-openrc.sh')\n",
    "\n",
    "assert os.path.exists(user_creds), '{} is not exist'.format(user_creds)"
   ]
  },
  {
   "cell_type": "code",
   "execution_count": null,
   "metadata": {
    "lc_cell_meme": {
     "current": "e6e2fc58-6e64-11ee-89fa-0242ac120005-5-5f51-0947-a694-0439-6704",
     "history": [
      {
       "current": "e6e2fc58-6e64-11ee-89fa-0242ac120005-1-5f51",
       "next": "e6e2fcda-6e64-11ee-89fa-0242ac120005",
       "previous": "e6e2fafa-6e64-11ee-89fa-0242ac120005"
      },
      {
       "current": "e6e2fc58-6e64-11ee-89fa-0242ac120005-2-5f51-0947",
       "next": "e6e2fcda-6e64-11ee-89fa-0242ac120005-1-8f0b",
       "previous": "e6e2fafa-6e64-11ee-89fa-0242ac120005-1-3350"
      },
      {
       "current": "e6e2fc58-6e64-11ee-89fa-0242ac120005-3-5f51-0947-a694",
       "next": "e6e2fcda-6e64-11ee-89fa-0242ac120005-2-8f0b-9343",
       "previous": "e6e2fafa-6e64-11ee-89fa-0242ac120005-2-3350-2374"
      },
      {
       "current": "e6e2fc58-6e64-11ee-89fa-0242ac120005-4-5f51-0947-a694-0439",
       "next": "e6e2fcda-6e64-11ee-89fa-0242ac120005-3-8f0b-9343-2a36",
       "previous": "e6e2fafa-6e64-11ee-89fa-0242ac120005-3-3350-2374-ab86"
      },
      {
       "current": "e6e2fc58-6e64-11ee-89fa-0242ac120005-5-5f51-0947-a694-0439-6704",
       "next": "e6e2fcda-6e64-11ee-89fa-0242ac120005-4-8f0b-9343-2a36-a29d",
       "previous": "e6e2fafa-6e64-11ee-89fa-0242ac120005-4-3350-2374-ab86-7440"
      }
     ],
     "next": "e6e2fcda-6e64-11ee-89fa-0242ac120005-5-8f0b-9343-2a36-a29d-9d02",
     "previous": "e6e2fafa-6e64-11ee-89fa-0242ac120005-5-3350-2374-ab86-7440-627c"
    }
   },
   "outputs": [],
   "source": [
    "%env USER_CREDS={user_creds}"
   ]
  },
  {
   "cell_type": "code",
   "execution_count": null,
   "metadata": {
    "lc_cell_meme": {
     "current": "e6e2fcda-6e64-11ee-89fa-0242ac120005-5-8f0b-9343-2a36-a29d-9d02",
     "history": [
      {
       "current": "e6e2fcda-6e64-11ee-89fa-0242ac120005",
       "next": "e6e2fd3e-6e64-11ee-89fa-0242ac120005",
       "previous": "e6e2fc58-6e64-11ee-89fa-0242ac120005"
      },
      {
       "current": "e6e2fcda-6e64-11ee-89fa-0242ac120005-1-8f0b",
       "next": "e6e2fd3e-6e64-11ee-89fa-0242ac120005-1-49e4",
       "previous": "e6e2fc58-6e64-11ee-89fa-0242ac120005"
      },
      {
       "current": "e6e2fcda-6e64-11ee-89fa-0242ac120005-2-8f0b-9343",
       "next": "e6e2fd3e-6e64-11ee-89fa-0242ac120005-2-49e4-3a90",
       "previous": "e6e2fc58-6e64-11ee-89fa-0242ac120005-1-5f51"
      },
      {
       "current": "e6e2fcda-6e64-11ee-89fa-0242ac120005-3-8f0b-9343-2a36",
       "next": "e6e2fd3e-6e64-11ee-89fa-0242ac120005-3-49e4-3a90-7617",
       "previous": "e6e2fc58-6e64-11ee-89fa-0242ac120005-2-5f51-0947"
      },
      {
       "current": "e6e2fcda-6e64-11ee-89fa-0242ac120005-4-8f0b-9343-2a36-a29d",
       "next": "e6e2fd3e-6e64-11ee-89fa-0242ac120005-4-49e4-3a90-7617-2880",
       "previous": "e6e2fc58-6e64-11ee-89fa-0242ac120005-3-5f51-0947-a694"
      },
      {
       "current": "e6e2fcda-6e64-11ee-89fa-0242ac120005-5-8f0b-9343-2a36-a29d-9d02",
       "next": "e6e2fd3e-6e64-11ee-89fa-0242ac120005-5-49e4-3a90-7617-2880-e499",
       "previous": "e6e2fc58-6e64-11ee-89fa-0242ac120005-4-5f51-0947-a694-0439"
      }
     ],
     "next": "e6e2fd3e-6e64-11ee-89fa-0242ac120005-6-49e4-3a90-7617-2880-e499-00d4",
     "previous": "e6e2fc58-6e64-11ee-89fa-0242ac120005-5-5f51-0947-a694-0439-6704"
    }
   },
   "outputs": [],
   "source": [
    "!ls -l {user_creds}"
   ]
  },
  {
   "cell_type": "markdown",
   "metadata": {
    "heading_collapsed": true,
    "lc_cell_meme": {
     "current": "e6e2fd3e-6e64-11ee-89fa-0242ac120005-6-49e4-3a90-7617-2880-e499-00d4",
     "history": [
      {
       "current": "e6e2fd3e-6e64-11ee-89fa-0242ac120005-1-49e4",
       "next": "e6e2fd98-6e64-11ee-89fa-0242ac120005",
       "previous": "e6e2fcda-6e64-11ee-89fa-0242ac120005"
      },
      {
       "current": "e6e2fd3e-6e64-11ee-89fa-0242ac120005-2-49e4-3a90",
       "next": "f84c37be-6f06-11ee-89fa-0242ac120005",
       "previous": "e6e2fcda-6e64-11ee-89fa-0242ac120005"
      },
      {
       "current": "e6e2fd3e-6e64-11ee-89fa-0242ac120005-3-49e4-3a90-7617",
       "next": "f84c37be-6f06-11ee-89fa-0242ac120005-1-46c5",
       "previous": "e6e2fcda-6e64-11ee-89fa-0242ac120005-1-8f0b"
      },
      {
       "current": "e6e2fd3e-6e64-11ee-89fa-0242ac120005-4-49e4-3a90-7617-2880",
       "next": "f84c37be-6f06-11ee-89fa-0242ac120005-2-46c5-f475",
       "previous": "e6e2fcda-6e64-11ee-89fa-0242ac120005-2-8f0b-9343"
      },
      {
       "current": "e6e2fd3e-6e64-11ee-89fa-0242ac120005-5-49e4-3a90-7617-2880-e499",
       "next": "f84c37be-6f06-11ee-89fa-0242ac120005-3-46c5-f475-8cc0",
       "previous": "e6e2fcda-6e64-11ee-89fa-0242ac120005-3-8f0b-9343-2a36"
      },
      {
       "current": "e6e2fd3e-6e64-11ee-89fa-0242ac120005-6-49e4-3a90-7617-2880-e499-00d4",
       "next": "f84c37be-6f06-11ee-89fa-0242ac120005-4-46c5-f475-8cc0-2536",
       "previous": "e6e2fcda-6e64-11ee-89fa-0242ac120005-4-8f0b-9343-2a36-a29d"
      }
     ],
     "next": "f84c37be-6f06-11ee-89fa-0242ac120005-5-46c5-f475-8cc0-2536-aecb",
     "previous": "e6e2fcda-6e64-11ee-89fa-0242ac120005-5-8f0b-9343-2a36-a29d-9d02"
    }
   },
   "source": [
    "## openstackコマンド用ユーティリティ関数"
   ]
  },
  {
   "cell_type": "code",
   "execution_count": null,
   "metadata": {
    "hidden": true,
    "lc_cell_meme": {
     "current": "f84c37be-6f06-11ee-89fa-0242ac120005-5-46c5-f475-8cc0-2536-aecb",
     "history": [
      {
       "current": "f84c37be-6f06-11ee-89fa-0242ac120005-1-46c5",
       "next": "f84c39bc-6f06-11ee-89fa-0242ac120005",
       "previous": "e6e2fd3e-6e64-11ee-89fa-0242ac120005-1-49e4"
      },
      {
       "current": "f84c37be-6f06-11ee-89fa-0242ac120005-2-46c5-f475",
       "next": "f84c39bc-6f06-11ee-89fa-0242ac120005-1-eded",
       "previous": "e6e2fd3e-6e64-11ee-89fa-0242ac120005-2-49e4-3a90"
      },
      {
       "current": "f84c37be-6f06-11ee-89fa-0242ac120005-3-46c5-f475-8cc0",
       "next": "f84c39bc-6f06-11ee-89fa-0242ac120005-2-eded-4710",
       "previous": "e6e2fd3e-6e64-11ee-89fa-0242ac120005-3-49e4-3a90-7617"
      },
      {
       "current": "f84c37be-6f06-11ee-89fa-0242ac120005-4-46c5-f475-8cc0-2536",
       "next": "f84c39bc-6f06-11ee-89fa-0242ac120005-3-eded-4710-263b",
       "previous": "e6e2fd3e-6e64-11ee-89fa-0242ac120005-4-49e4-3a90-7617-2880"
      },
      {
       "current": "f84c37be-6f06-11ee-89fa-0242ac120005-5-46c5-f475-8cc0-2536-aecb",
       "next": "f84c39bc-6f06-11ee-89fa-0242ac120005-4-eded-4710-263b-9de0",
       "previous": "e6e2fd3e-6e64-11ee-89fa-0242ac120005-5-49e4-3a90-7617-2880-e499"
      }
     ],
     "next": "f84c39bc-6f06-11ee-89fa-0242ac120005-5-eded-4710-263b-9de0-ef59",
     "previous": "e6e2fd3e-6e64-11ee-89fa-0242ac120005-6-49e4-3a90-7617-2880-e499-00d4"
    }
   },
   "outputs": [],
   "source": [
    "def build_cmdline(param):\n",
    "    cmdline = ''\n",
    "    \n",
    "    for param_name, param_value in param.items():\n",
    "        if isinstance(param_value, dict):\n",
    "            for key, value in param_value.items():\n",
    "                cmdline += ' --{} {}={}'.format(param_name, key, value)\n",
    "        elif isinstance(param_value, list):\n",
    "            for item in param_value:\n",
    "                cmdline += ' --{} {}'.format(param_name, item)\n",
    "        elif isinstance(param_value, bool):\n",
    "            if param_value:\n",
    "                cmdline += ' --{}'.format(param_name)\n",
    "        else:\n",
    "            cmdline += ' --{} {}'.format(param_name, param_value)\n",
    "\n",
    "    return cmdline"
   ]
  },
  {
   "cell_type": "code",
   "execution_count": null,
   "metadata": {
    "hidden": true,
    "lc_cell_meme": {
     "current": "f84c39bc-6f06-11ee-89fa-0242ac120005-5-eded-4710-263b-9de0-ef59",
     "history": [
      {
       "current": "f84c39bc-6f06-11ee-89fa-0242ac120005-1-eded",
       "next": "f84c3a52-6f06-11ee-89fa-0242ac120005",
       "previous": "f84c37be-6f06-11ee-89fa-0242ac120005"
      },
      {
       "current": "f84c39bc-6f06-11ee-89fa-0242ac120005-2-eded-4710",
       "next": "f84c3a52-6f06-11ee-89fa-0242ac120005-1-8a77",
       "previous": "f84c37be-6f06-11ee-89fa-0242ac120005-1-46c5"
      },
      {
       "current": "f84c39bc-6f06-11ee-89fa-0242ac120005-3-eded-4710-263b",
       "next": "f84c3a52-6f06-11ee-89fa-0242ac120005-2-8a77-c215",
       "previous": "f84c37be-6f06-11ee-89fa-0242ac120005-2-46c5-f475"
      },
      {
       "current": "f84c39bc-6f06-11ee-89fa-0242ac120005-4-eded-4710-263b-9de0",
       "next": "f84c3a52-6f06-11ee-89fa-0242ac120005-3-8a77-c215-fe8d",
       "previous": "f84c37be-6f06-11ee-89fa-0242ac120005-3-46c5-f475-8cc0"
      },
      {
       "current": "f84c39bc-6f06-11ee-89fa-0242ac120005-5-eded-4710-263b-9de0-ef59",
       "next": "f84c3a52-6f06-11ee-89fa-0242ac120005-4-8a77-c215-fe8d-66e1",
       "previous": "f84c37be-6f06-11ee-89fa-0242ac120005-4-46c5-f475-8cc0-2536"
      }
     ],
     "next": "f84c3a52-6f06-11ee-89fa-0242ac120005-5-8a77-c215-fe8d-66e1-378b",
     "previous": "f84c37be-6f06-11ee-89fa-0242ac120005-5-46c5-f475-8cc0-2536-aecb"
    }
   },
   "outputs": [],
   "source": [
    "import json\n",
    "\n",
    "def run_openstack(cmd):\n",
    "    print('EXEC: {}'.format(cmd))\n",
    "    out = !source {user_creds} && {cmd}\n",
    "    print('OUTPUT: {}'.format('\\n'.join(out)))\n",
    "    return json.loads('\\n'.join(out))"
   ]
  },
  {
   "cell_type": "markdown",
   "metadata": {
    "hidden": true,
    "lc_cell_meme": {
     "current": "f84c3a52-6f06-11ee-89fa-0242ac120005-5-8a77-c215-fe8d-66e1-378b",
     "history": [
      {
       "current": "f84c3a52-6f06-11ee-89fa-0242ac120005-1-8a77",
       "next": "f84c3ac0-6f06-11ee-89fa-0242ac120005",
       "previous": "f84c39bc-6f06-11ee-89fa-0242ac120005"
      },
      {
       "current": "f84c3a52-6f06-11ee-89fa-0242ac120005-2-8a77-c215",
       "next": "f84c3ac0-6f06-11ee-89fa-0242ac120005-1-15c0",
       "previous": "f84c39bc-6f06-11ee-89fa-0242ac120005-1-eded"
      },
      {
       "current": "f84c3a52-6f06-11ee-89fa-0242ac120005-3-8a77-c215-fe8d",
       "next": "f84c3ac0-6f06-11ee-89fa-0242ac120005-2-15c0-dcb5",
       "previous": "f84c39bc-6f06-11ee-89fa-0242ac120005-2-eded-4710"
      },
      {
       "current": "f84c3a52-6f06-11ee-89fa-0242ac120005-4-8a77-c215-fe8d-66e1",
       "next": "f84c3ac0-6f06-11ee-89fa-0242ac120005-3-15c0-dcb5-0742",
       "previous": "f84c39bc-6f06-11ee-89fa-0242ac120005-3-eded-4710-263b"
      },
      {
       "current": "f84c3a52-6f06-11ee-89fa-0242ac120005-5-8a77-c215-fe8d-66e1-378b",
       "next": "f84c3ac0-6f06-11ee-89fa-0242ac120005-4-15c0-dcb5-0742-8a1c",
       "previous": "f84c39bc-6f06-11ee-89fa-0242ac120005-4-eded-4710-263b-9de0"
      }
     ],
     "next": "f84c3ac0-6f06-11ee-89fa-0242ac120005-5-15c0-dcb5-0742-8a1c-837e",
     "previous": "f84c39bc-6f06-11ee-89fa-0242ac120005-5-eded-4710-263b-9de0-ef59"
    }
   },
   "source": [
    "テスト"
   ]
  },
  {
   "cell_type": "code",
   "execution_count": null,
   "metadata": {
    "hidden": true,
    "lc_cell_meme": {
     "current": "f84c3ac0-6f06-11ee-89fa-0242ac120005-5-15c0-dcb5-0742-8a1c-837e",
     "history": [
      {
       "current": "f84c3ac0-6f06-11ee-89fa-0242ac120005-1-15c0",
       "next": "06afe9a8-98b0-11ea-8d02-0242ac120007-3-a1c1-faf0-4964",
       "previous": "f84c3a52-6f06-11ee-89fa-0242ac120005"
      },
      {
       "current": "f84c3ac0-6f06-11ee-89fa-0242ac120005-2-15c0-dcb5",
       "next": "06afe9a8-98b0-11ea-8d02-0242ac120007-4-a1c1-faf0-4964-4559",
       "previous": "f84c3a52-6f06-11ee-89fa-0242ac120005-1-8a77"
      },
      {
       "current": "f84c3ac0-6f06-11ee-89fa-0242ac120005-3-15c0-dcb5-0742",
       "next": "06afe9a8-98b0-11ea-8d02-0242ac120007-5-a1c1-faf0-4964-4559-75d9",
       "previous": "f84c3a52-6f06-11ee-89fa-0242ac120005-2-8a77-c215"
      },
      {
       "current": "f84c3ac0-6f06-11ee-89fa-0242ac120005-4-15c0-dcb5-0742-8a1c",
       "next": "06afe9a8-98b0-11ea-8d02-0242ac120007-6-a1c1-faf0-4964-4559-75d9-2494",
       "previous": "f84c3a52-6f06-11ee-89fa-0242ac120005-3-8a77-c215-fe8d"
      },
      {
       "current": "f84c3ac0-6f06-11ee-89fa-0242ac120005-5-15c0-dcb5-0742-8a1c-837e",
       "next": "06afe9a8-98b0-11ea-8d02-0242ac120007-7-a1c1-faf0-4964-4559-75d9-2494-f976",
       "previous": "f84c3a52-6f06-11ee-89fa-0242ac120005-4-8a77-c215-fe8d-66e1"
      }
     ],
     "next": "06afe9a8-98b0-11ea-8d02-0242ac120007-8-a1c1-faf0-4964-4559-75d9-2494-f976-1c97",
     "previous": "f84c3a52-6f06-11ee-89fa-0242ac120005-5-8a77-c215-fe8d-66e1-378b"
    }
   },
   "outputs": [],
   "source": [
    "run_openstack('openstack flavor list -f json' + build_cmdline({'all': True}))"
   ]
  },
  {
   "cell_type": "markdown",
   "metadata": {
    "lc_cell_meme": {
     "current": "06afe9a8-98b0-11ea-8d02-0242ac120007-8-a1c1-faf0-4964-4559-75d9-2494-f976-1c97",
     "history": [
      {
       "current": "06afe9a8-98b0-11ea-8d02-0242ac120007",
       "next": "7899411a-9692-11ea-8d02-0242ac120007",
       "previous": "d1bcb8ac-9599-11ea-8d02-0242ac120007"
      },
      {
       "current": "06afe9a8-98b0-11ea-8d02-0242ac120007-1-a1c1",
       "next": "7899411a-9692-11ea-8d02-0242ac120007",
       "previous": "250e7a70-98f3-11ea-8d02-0242ac120007"
      },
      {
       "current": "06afe9a8-98b0-11ea-8d02-0242ac120007-2-a1c1-faf0",
       "next": "7899411a-9692-11ea-8d02-0242ac120007-1-2cd2",
       "previous": "250e7a70-98f3-11ea-8d02-0242ac120007-1-f0b4"
      },
      {
       "current": "06afe9a8-98b0-11ea-8d02-0242ac120007-2-a1c1-faf0",
       "next": "7899411a-9692-11ea-8d02-0242ac120007-2-2cd2-395d",
       "previous": "250e7a70-98f3-11ea-8d02-0242ac120007-2-f0b4-6edf"
      },
      {
       "current": "06afe9a8-98b0-11ea-8d02-0242ac120007-2-a1c1-faf0",
       "next": "04bfc54e-defc-11eb-b29f-0242ac120008",
       "previous": "250e7a70-98f3-11ea-8d02-0242ac120007-2-f0b4-6edf"
      },
      {
       "current": "06afe9a8-98b0-11ea-8d02-0242ac120007-3-a1c1-faf0-4964",
       "next": "329a4046-dfad-11eb-b29f-0242ac120008",
       "previous": "250e7a70-98f3-11ea-8d02-0242ac120007-2-f0b4-6edf"
      },
      {
       "current": "06afe9a8-98b0-11ea-8d02-0242ac120007-3-a1c1-faf0-4964",
       "next": "329a4046-dfad-11eb-b29f-0242ac120008-1-4d78",
       "previous": "250e7a70-98f3-11ea-8d02-0242ac120007-3-f0b4-6edf-02c0"
      },
      {
       "current": "06afe9a8-98b0-11ea-8d02-0242ac120007-3-a1c1-faf0-4964",
       "next": "329a4046-dfad-11eb-b29f-0242ac120008-1-4d78",
       "previous": "ba770c90-6e64-11ee-89fa-0242ac120005"
      },
      {
       "current": "06afe9a8-98b0-11ea-8d02-0242ac120007-3-a1c1-faf0-4964",
       "next": "329a4046-dfad-11eb-b29f-0242ac120008-1-4d78",
       "previous": "e6e2fd98-6e64-11ee-89fa-0242ac120005"
      },
      {
       "current": "06afe9a8-98b0-11ea-8d02-0242ac120007-4-a1c1-faf0-4964-4559",
       "next": "329a4046-dfad-11eb-b29f-0242ac120008-1-4d78",
       "previous": "f84c3ac0-6f06-11ee-89fa-0242ac120005"
      },
      {
       "current": "06afe9a8-98b0-11ea-8d02-0242ac120007-5-a1c1-faf0-4964-4559-75d9",
       "next": "329a4046-dfad-11eb-b29f-0242ac120008-2-4d78-e821",
       "previous": "f84c3ac0-6f06-11ee-89fa-0242ac120005-1-15c0"
      },
      {
       "current": "06afe9a8-98b0-11ea-8d02-0242ac120007-6-a1c1-faf0-4964-4559-75d9-2494",
       "next": "329a4046-dfad-11eb-b29f-0242ac120008-3-4d78-e821-e300",
       "previous": "f84c3ac0-6f06-11ee-89fa-0242ac120005-2-15c0-dcb5"
      },
      {
       "current": "06afe9a8-98b0-11ea-8d02-0242ac120007-7-a1c1-faf0-4964-4559-75d9-2494-f976",
       "next": "329a4046-dfad-11eb-b29f-0242ac120008-4-4d78-e821-e300-e08b",
       "previous": "f84c3ac0-6f06-11ee-89fa-0242ac120005-3-15c0-dcb5-0742"
      },
      {
       "current": "06afe9a8-98b0-11ea-8d02-0242ac120007-8-a1c1-faf0-4964-4559-75d9-2494-f976-1c97",
       "next": "329a4046-dfad-11eb-b29f-0242ac120008-5-4d78-e821-e300-e08b-ca89",
       "previous": "f84c3ac0-6f06-11ee-89fa-0242ac120005-4-15c0-dcb5-0742-8a1c"
      }
     ],
     "next": "329a4046-dfad-11eb-b29f-0242ac120008-6-4d78-e821-e300-e08b-ca89-d9f1",
     "previous": "f84c3ac0-6f06-11ee-89fa-0242ac120005-5-15c0-dcb5-0742-8a1c-837e"
    }
   },
   "source": [
    "## デプロイされたCephノード情報の取得"
   ]
  },
  {
   "cell_type": "markdown",
   "metadata": {
    "lc_cell_meme": {
     "current": "329a4046-dfad-11eb-b29f-0242ac120008-6-4d78-e821-e300-e08b-ca89-d9f1",
     "history": [
      {
       "current": "329a4046-dfad-11eb-b29f-0242ac120008-1-4d78",
       "next": "329a4348-dfad-11eb-b29f-0242ac120008",
       "previous": "06afe9a8-98b0-11ea-8d02-0242ac120007-2-a1c1-faf0"
      },
      {
       "current": "329a4046-dfad-11eb-b29f-0242ac120008-1-4d78",
       "next": "329a4348-dfad-11eb-b29f-0242ac120008-1-08a6",
       "previous": "06afe9a8-98b0-11ea-8d02-0242ac120007-3-a1c1-faf0-4964"
      },
      {
       "current": "329a4046-dfad-11eb-b29f-0242ac120008-2-4d78-e821",
       "next": "3fd06448-6f07-11ee-89fa-0242ac120005",
       "previous": "06afe9a8-98b0-11ea-8d02-0242ac120007-3-a1c1-faf0-4964"
      },
      {
       "current": "329a4046-dfad-11eb-b29f-0242ac120008-3-4d78-e821-e300",
       "next": "3fd06448-6f07-11ee-89fa-0242ac120005-1-f767",
       "previous": "06afe9a8-98b0-11ea-8d02-0242ac120007-4-a1c1-faf0-4964-4559"
      },
      {
       "current": "329a4046-dfad-11eb-b29f-0242ac120008-4-4d78-e821-e300-e08b",
       "next": "3fd06448-6f07-11ee-89fa-0242ac120005-2-f767-f3c8",
       "previous": "06afe9a8-98b0-11ea-8d02-0242ac120007-5-a1c1-faf0-4964-4559-75d9"
      },
      {
       "current": "329a4046-dfad-11eb-b29f-0242ac120008-5-4d78-e821-e300-e08b-ca89",
       "next": "3fd06448-6f07-11ee-89fa-0242ac120005-3-f767-f3c8-f9de",
       "previous": "06afe9a8-98b0-11ea-8d02-0242ac120007-6-a1c1-faf0-4964-4559-75d9-2494"
      },
      {
       "current": "329a4046-dfad-11eb-b29f-0242ac120008-6-4d78-e821-e300-e08b-ca89-d9f1",
       "next": "3fd06448-6f07-11ee-89fa-0242ac120005-4-f767-f3c8-f9de-97a3",
       "previous": "06afe9a8-98b0-11ea-8d02-0242ac120007-7-a1c1-faf0-4964-4559-75d9-2494-f976"
      }
     ],
     "next": "3fd06448-6f07-11ee-89fa-0242ac120005-5-f767-f3c8-f9de-97a3-f71c",
     "previous": "06afe9a8-98b0-11ea-8d02-0242ac120007-8-a1c1-faf0-4964-4559-75d9-2494-f976-1c97"
    }
   },
   "source": [
    "ストレージノードを特定するにあたり、ノード名称が　ceph-nodexxx （xxxの部分は、右寄せ0埋めの数字3桁）というルールに従っていることを前提としている。<br>\n",
    " 例：ceph-node001<br>\n",
    " このノード名称ルールは、構築するCephクラスタ毎に変えるため、以下で定義する。"
   ]
  },
  {
   "cell_type": "code",
   "execution_count": null,
   "metadata": {
    "lc_cell_meme": {
     "current": "3fd06448-6f07-11ee-89fa-0242ac120005-5-f767-f3c8-f9de-97a3-f71c",
     "history": [
      {
       "current": "3fd06448-6f07-11ee-89fa-0242ac120005-1-f767",
       "next": "329a4348-dfad-11eb-b29f-0242ac120008-1-08a6",
       "previous": "329a4046-dfad-11eb-b29f-0242ac120008-1-4d78"
      },
      {
       "current": "3fd06448-6f07-11ee-89fa-0242ac120005-2-f767-f3c8",
       "next": "329a4348-dfad-11eb-b29f-0242ac120008-2-08a6-a53d",
       "previous": "329a4046-dfad-11eb-b29f-0242ac120008-2-4d78-e821"
      },
      {
       "current": "3fd06448-6f07-11ee-89fa-0242ac120005-3-f767-f3c8-f9de",
       "next": "329a4348-dfad-11eb-b29f-0242ac120008-3-08a6-a53d-e01c",
       "previous": "329a4046-dfad-11eb-b29f-0242ac120008-3-4d78-e821-e300"
      },
      {
       "current": "3fd06448-6f07-11ee-89fa-0242ac120005-4-f767-f3c8-f9de-97a3",
       "next": "329a4348-dfad-11eb-b29f-0242ac120008-4-08a6-a53d-e01c-0277",
       "previous": "329a4046-dfad-11eb-b29f-0242ac120008-4-4d78-e821-e300-e08b"
      },
      {
       "current": "3fd06448-6f07-11ee-89fa-0242ac120005-5-f767-f3c8-f9de-97a3-f71c",
       "next": "329a4348-dfad-11eb-b29f-0242ac120008-5-08a6-a53d-e01c-0277-9cf8",
       "previous": "329a4046-dfad-11eb-b29f-0242ac120008-5-4d78-e821-e300-e08b-ca89"
      }
     ],
     "next": "329a4348-dfad-11eb-b29f-0242ac120008-6-08a6-a53d-e01c-0277-9cf8-5b3a",
     "previous": "329a4046-dfad-11eb-b29f-0242ac120008-6-4d78-e821-e300-e08b-ca89-d9f1"
    }
   },
   "outputs": [],
   "source": [
    "# 初期化対象のインスタンス名称を設定する\n",
    "#raise Exception('この先手作業が必要です')"
   ]
  },
  {
   "cell_type": "code",
   "execution_count": null,
   "metadata": {
    "lc_cell_meme": {
     "current": "329a4348-dfad-11eb-b29f-0242ac120008-6-08a6-a53d-e01c-0277-9cf8-5b3a",
     "history": [
      {
       "current": "329a4348-dfad-11eb-b29f-0242ac120008-1-08a6",
       "next": "04bfc54e-defc-11eb-b29f-0242ac120008",
       "previous": "329a4046-dfad-11eb-b29f-0242ac120008"
      },
      {
       "current": "329a4348-dfad-11eb-b29f-0242ac120008-1-08a6",
       "next": "04bfc54e-defc-11eb-b29f-0242ac120008-1-fcb2",
       "previous": "329a4046-dfad-11eb-b29f-0242ac120008-1-4d78"
      },
      {
       "current": "329a4348-dfad-11eb-b29f-0242ac120008-2-08a6-a53d",
       "next": "3fd065b0-6f07-11ee-89fa-0242ac120005",
       "previous": "3fd06448-6f07-11ee-89fa-0242ac120005"
      },
      {
       "current": "329a4348-dfad-11eb-b29f-0242ac120008-3-08a6-a53d-e01c",
       "next": "3fd065b0-6f07-11ee-89fa-0242ac120005-1-b1ca",
       "previous": "3fd06448-6f07-11ee-89fa-0242ac120005-1-f767"
      },
      {
       "current": "329a4348-dfad-11eb-b29f-0242ac120008-4-08a6-a53d-e01c-0277",
       "next": "3fd065b0-6f07-11ee-89fa-0242ac120005-2-b1ca-30a2",
       "previous": "3fd06448-6f07-11ee-89fa-0242ac120005-2-f767-f3c8"
      },
      {
       "current": "329a4348-dfad-11eb-b29f-0242ac120008-5-08a6-a53d-e01c-0277-9cf8",
       "next": "3fd065b0-6f07-11ee-89fa-0242ac120005-3-b1ca-30a2-db8f",
       "previous": "3fd06448-6f07-11ee-89fa-0242ac120005-3-f767-f3c8-f9de"
      },
      {
       "current": "329a4348-dfad-11eb-b29f-0242ac120008-6-08a6-a53d-e01c-0277-9cf8-5b3a",
       "next": "3fd065b0-6f07-11ee-89fa-0242ac120005-4-b1ca-30a2-db8f-a888",
       "previous": "3fd06448-6f07-11ee-89fa-0242ac120005-4-f767-f3c8-f9de-97a3"
      }
     ],
     "next": "3fd065b0-6f07-11ee-89fa-0242ac120005-5-b1ca-30a2-db8f-a888-c5c0",
     "previous": "3fd06448-6f07-11ee-89fa-0242ac120005-5-f767-f3c8-f9de-97a3-f71c"
    }
   },
   "outputs": [],
   "source": [
    "import pandas as pd\n",
    "import re\n",
    "\n",
    "# 対象インスタンス名称マッチングルール\n",
    "name_match_rule = r'ceph-xxx-node-[0-9]+'"
   ]
  },
  {
   "cell_type": "markdown",
   "metadata": {
    "heading_collapsed": true,
    "lc_cell_meme": {
     "current": "3fd065b0-6f07-11ee-89fa-0242ac120005-5-b1ca-30a2-db8f-a888-c5c0",
     "history": [
      {
       "current": "3fd065b0-6f07-11ee-89fa-0242ac120005-1-b1ca",
       "next": "3fd06632-6f07-11ee-89fa-0242ac120005",
       "previous": "329a4348-dfad-11eb-b29f-0242ac120008-1-08a6"
      },
      {
       "current": "3fd065b0-6f07-11ee-89fa-0242ac120005-2-b1ca-30a2",
       "next": "3fd06632-6f07-11ee-89fa-0242ac120005-1-3e07",
       "previous": "329a4348-dfad-11eb-b29f-0242ac120008-2-08a6-a53d"
      },
      {
       "current": "3fd065b0-6f07-11ee-89fa-0242ac120005-3-b1ca-30a2-db8f",
       "next": "3fd06632-6f07-11ee-89fa-0242ac120005-2-3e07-3f2e",
       "previous": "329a4348-dfad-11eb-b29f-0242ac120008-3-08a6-a53d-e01c"
      },
      {
       "current": "3fd065b0-6f07-11ee-89fa-0242ac120005-4-b1ca-30a2-db8f-a888",
       "next": "3fd06632-6f07-11ee-89fa-0242ac120005-3-3e07-3f2e-b4ec",
       "previous": "329a4348-dfad-11eb-b29f-0242ac120008-4-08a6-a53d-e01c-0277"
      },
      {
       "current": "3fd065b0-6f07-11ee-89fa-0242ac120005-5-b1ca-30a2-db8f-a888-c5c0",
       "next": "3fd06632-6f07-11ee-89fa-0242ac120005-4-3e07-3f2e-b4ec-80b6",
       "previous": "329a4348-dfad-11eb-b29f-0242ac120008-5-08a6-a53d-e01c-0277-9cf8"
      }
     ],
     "next": "3fd06632-6f07-11ee-89fa-0242ac120005-5-3e07-3f2e-b4ec-80b6-f15d",
     "previous": "329a4348-dfad-11eb-b29f-0242ac120008-6-08a6-a53d-e01c-0277-9cf8-5b3a"
    }
   },
   "source": [
    "## OpenStack Ironicからノード情報の取得"
   ]
  },
  {
   "cell_type": "code",
   "execution_count": null,
   "metadata": {
    "hidden": true,
    "lc_cell_meme": {
     "current": "3fd06632-6f07-11ee-89fa-0242ac120005-5-3e07-3f2e-b4ec-80b6-f15d",
     "history": [
      {
       "current": "3fd06632-6f07-11ee-89fa-0242ac120005-1-3e07",
       "next": "3fd06696-6f07-11ee-89fa-0242ac120005",
       "previous": "3fd065b0-6f07-11ee-89fa-0242ac120005"
      },
      {
       "current": "3fd06632-6f07-11ee-89fa-0242ac120005-2-3e07-3f2e",
       "next": "3fd06696-6f07-11ee-89fa-0242ac120005-1-9a3d",
       "previous": "3fd065b0-6f07-11ee-89fa-0242ac120005-1-b1ca"
      },
      {
       "current": "3fd06632-6f07-11ee-89fa-0242ac120005-3-3e07-3f2e-b4ec",
       "next": "3fd06696-6f07-11ee-89fa-0242ac120005-2-9a3d-1f87",
       "previous": "3fd065b0-6f07-11ee-89fa-0242ac120005-2-b1ca-30a2"
      },
      {
       "current": "3fd06632-6f07-11ee-89fa-0242ac120005-4-3e07-3f2e-b4ec-80b6",
       "next": "3fd06696-6f07-11ee-89fa-0242ac120005-3-9a3d-1f87-8449",
       "previous": "3fd065b0-6f07-11ee-89fa-0242ac120005-3-b1ca-30a2-db8f"
      },
      {
       "current": "3fd06632-6f07-11ee-89fa-0242ac120005-5-3e07-3f2e-b4ec-80b6-f15d",
       "next": "3fd06696-6f07-11ee-89fa-0242ac120005-4-9a3d-1f87-8449-919d",
       "previous": "3fd065b0-6f07-11ee-89fa-0242ac120005-4-b1ca-30a2-db8f-a888"
      }
     ],
     "next": "3fd06696-6f07-11ee-89fa-0242ac120005-5-9a3d-1f87-8449-919d-59e7",
     "previous": "3fd065b0-6f07-11ee-89fa-0242ac120005-5-b1ca-30a2-db8f-a888-c5c0"
    },
    "scrolled": true
   },
   "outputs": [],
   "source": [
    "cmd = \"openstack baremetal node list -f json --long\"\n",
    "nodes = run_openstack(cmd)"
   ]
  },
  {
   "cell_type": "code",
   "execution_count": null,
   "metadata": {
    "hidden": true,
    "lc_cell_meme": {
     "current": "3fd06696-6f07-11ee-89fa-0242ac120005-5-9a3d-1f87-8449-919d-59e7",
     "history": [
      {
       "current": "3fd06696-6f07-11ee-89fa-0242ac120005-1-9a3d",
       "next": "3fd066f0-6f07-11ee-89fa-0242ac120005",
       "previous": "3fd06632-6f07-11ee-89fa-0242ac120005"
      },
      {
       "current": "3fd06696-6f07-11ee-89fa-0242ac120005-2-9a3d-1f87",
       "next": "3fd066f0-6f07-11ee-89fa-0242ac120005-1-b94e",
       "previous": "3fd06632-6f07-11ee-89fa-0242ac120005-1-3e07"
      },
      {
       "current": "3fd06696-6f07-11ee-89fa-0242ac120005-3-9a3d-1f87-8449",
       "next": "3fd066f0-6f07-11ee-89fa-0242ac120005-2-b94e-eedf",
       "previous": "3fd06632-6f07-11ee-89fa-0242ac120005-2-3e07-3f2e"
      },
      {
       "current": "3fd06696-6f07-11ee-89fa-0242ac120005-4-9a3d-1f87-8449-919d",
       "next": "3fd066f0-6f07-11ee-89fa-0242ac120005-3-b94e-eedf-3710",
       "previous": "3fd06632-6f07-11ee-89fa-0242ac120005-3-3e07-3f2e-b4ec"
      },
      {
       "current": "3fd06696-6f07-11ee-89fa-0242ac120005-5-9a3d-1f87-8449-919d-59e7",
       "next": "3fd066f0-6f07-11ee-89fa-0242ac120005-4-b94e-eedf-3710-e496",
       "previous": "3fd06632-6f07-11ee-89fa-0242ac120005-4-3e07-3f2e-b4ec-80b6"
      }
     ],
     "next": "3fd066f0-6f07-11ee-89fa-0242ac120005-5-b94e-eedf-3710-e496-0745",
     "previous": "3fd06632-6f07-11ee-89fa-0242ac120005-5-3e07-3f2e-b4ec-80b6-f15d"
    },
    "scrolled": true
   },
   "outputs": [],
   "source": [
    "import pandas as pd\n",
    "import re\n",
    "\n",
    "for node in nodes:\n",
    "    instance_uuid = node.get(\"Instance UUID\", None)\n",
    "    if instance_uuid is None:\n",
    "        continue\n",
    "        \n",
    "    node[\"instance_name\"] = node[\"Instance Info\"][\"display_name\"]\n",
    "\n",
    "pd.set_option('display.max_rows', None)\n",
    "pd.DataFrame(nodes, columns=['Instance UUID', 'instance_name', 'UUID', 'Maintenance', 'Provisioning State', 'Power State', 'Name'])\n"
   ]
  },
  {
   "cell_type": "code",
   "execution_count": null,
   "metadata": {
    "hidden": true,
    "lc_cell_meme": {
     "current": "3fd066f0-6f07-11ee-89fa-0242ac120005-5-b94e-eedf-3710-e496-0745",
     "history": [
      {
       "current": "3fd066f0-6f07-11ee-89fa-0242ac120005",
       "next": "3fd0674a-6f07-11ee-89fa-0242ac120005",
       "previous": "3fd06696-6f07-11ee-89fa-0242ac120005"
      },
      {
       "current": "3fd066f0-6f07-11ee-89fa-0242ac120005-1-b94e",
       "next": "2c0b6f7c-5cfe-11ee-89fa-0242ac120005",
       "previous": "3fd06696-6f07-11ee-89fa-0242ac120005"
      },
      {
       "current": "3fd066f0-6f07-11ee-89fa-0242ac120005-2-b94e-eedf",
       "next": "2c0b6f7c-5cfe-11ee-89fa-0242ac120005-1-b591",
       "previous": "3fd06696-6f07-11ee-89fa-0242ac120005-1-9a3d"
      },
      {
       "current": "3fd066f0-6f07-11ee-89fa-0242ac120005-3-b94e-eedf-3710",
       "next": "2c0b6f7c-5cfe-11ee-89fa-0242ac120005-2-b591-5725",
       "previous": "3fd06696-6f07-11ee-89fa-0242ac120005-2-9a3d-1f87"
      },
      {
       "current": "3fd066f0-6f07-11ee-89fa-0242ac120005-4-b94e-eedf-3710-e496",
       "next": "2c0b6f7c-5cfe-11ee-89fa-0242ac120005-3-b591-5725-92f8",
       "previous": "3fd06696-6f07-11ee-89fa-0242ac120005-3-9a3d-1f87-8449"
      },
      {
       "current": "3fd066f0-6f07-11ee-89fa-0242ac120005-5-b94e-eedf-3710-e496-0745",
       "next": "2c0b6f7c-5cfe-11ee-89fa-0242ac120005-4-b591-5725-92f8-06d4",
       "previous": "3fd06696-6f07-11ee-89fa-0242ac120005-4-9a3d-1f87-8449-919d"
      }
     ],
     "next": "2c0b6f7c-5cfe-11ee-89fa-0242ac120005-5-b591-5725-92f8-06d4-30ed",
     "previous": "3fd06696-6f07-11ee-89fa-0242ac120005-5-9a3d-1f87-8449-919d-59e7"
    },
    "scrolled": true
   },
   "outputs": [],
   "source": [
    "cmd = \"openstack server list -f json --long\"\n",
    "nova_server_map = run_openstack(cmd)"
   ]
  },
  {
   "cell_type": "markdown",
   "metadata": {
    "lc_cell_meme": {
     "current": "2c0b6f7c-5cfe-11ee-89fa-0242ac120005-5-b591-5725-92f8-06d4-30ed",
     "history": [
      {
       "current": "2c0b6f7c-5cfe-11ee-89fa-0242ac120005",
       "next": "2c0b7134-5cfe-11ee-89fa-0242ac120005",
       "previous": "357fc83a-969d-11ea-8d02-0242ac120007-3-9a36-95b8-b64c"
      },
      {
       "current": "2c0b6f7c-5cfe-11ee-89fa-0242ac120005",
       "next": "2c0b7134-5cfe-11ee-89fa-0242ac120005",
       "previous": "357fc1c8-969d-11ea-8d02-0242ac120007-3-68a1-d8f9-54f4"
      },
      {
       "current": "2c0b6f7c-5cfe-11ee-89fa-0242ac120005",
       "next": "2c0b7134-5cfe-11ee-89fa-0242ac120005",
       "previous": "3fd0674a-6f07-11ee-89fa-0242ac120005"
      },
      {
       "current": "2c0b6f7c-5cfe-11ee-89fa-0242ac120005-1-b591",
       "next": "2c0b7134-5cfe-11ee-89fa-0242ac120005",
       "previous": "3fd066f0-6f07-11ee-89fa-0242ac120005"
      },
      {
       "current": "2c0b6f7c-5cfe-11ee-89fa-0242ac120005-2-b591-5725",
       "next": "2c0b7134-5cfe-11ee-89fa-0242ac120005-1-16c9",
       "previous": "3fd066f0-6f07-11ee-89fa-0242ac120005-1-b94e"
      },
      {
       "current": "2c0b6f7c-5cfe-11ee-89fa-0242ac120005-3-b591-5725-92f8",
       "next": "2c0b7134-5cfe-11ee-89fa-0242ac120005-2-16c9-62f0",
       "previous": "3fd066f0-6f07-11ee-89fa-0242ac120005-2-b94e-eedf"
      },
      {
       "current": "2c0b6f7c-5cfe-11ee-89fa-0242ac120005-4-b591-5725-92f8-06d4",
       "next": "2c0b7134-5cfe-11ee-89fa-0242ac120005-3-16c9-62f0-7912",
       "previous": "3fd066f0-6f07-11ee-89fa-0242ac120005-3-b94e-eedf-3710"
      },
      {
       "current": "2c0b6f7c-5cfe-11ee-89fa-0242ac120005-5-b591-5725-92f8-06d4-30ed",
       "next": "2c0b7134-5cfe-11ee-89fa-0242ac120005-4-16c9-62f0-7912-fc44",
       "previous": "3fd066f0-6f07-11ee-89fa-0242ac120005-4-b94e-eedf-3710-e496"
      }
     ],
     "next": "2c0b7134-5cfe-11ee-89fa-0242ac120005-5-16c9-62f0-7912-fc44-885b",
     "previous": "3fd066f0-6f07-11ee-89fa-0242ac120005-5-b94e-eedf-3710-e496-0745"
    }
   },
   "source": [
    "## 処理対象外ノード指定"
   ]
  },
  {
   "cell_type": "code",
   "execution_count": null,
   "metadata": {
    "lc_cell_meme": {
     "current": "2c0b7134-5cfe-11ee-89fa-0242ac120005-5-16c9-62f0-7912-fc44-885b",
     "history": [
      {
       "current": "2c0b7134-5cfe-11ee-89fa-0242ac120005-1-16c9",
       "next": "2c0b71e8-5cfe-11ee-89fa-0242ac120005",
       "previous": "2c0b6f7c-5cfe-11ee-89fa-0242ac120005"
      },
      {
       "current": "2c0b7134-5cfe-11ee-89fa-0242ac120005-2-16c9-62f0",
       "next": "2c0b71e8-5cfe-11ee-89fa-0242ac120005-1-6313",
       "previous": "2c0b6f7c-5cfe-11ee-89fa-0242ac120005-1-b591"
      },
      {
       "current": "2c0b7134-5cfe-11ee-89fa-0242ac120005-3-16c9-62f0-7912",
       "next": "2c0b71e8-5cfe-11ee-89fa-0242ac120005-2-6313-65fd",
       "previous": "2c0b6f7c-5cfe-11ee-89fa-0242ac120005-2-b591-5725"
      },
      {
       "current": "2c0b7134-5cfe-11ee-89fa-0242ac120005-4-16c9-62f0-7912-fc44",
       "next": "2c0b71e8-5cfe-11ee-89fa-0242ac120005-3-6313-65fd-dee6",
       "previous": "2c0b6f7c-5cfe-11ee-89fa-0242ac120005-3-b591-5725-92f8"
      },
      {
       "current": "2c0b7134-5cfe-11ee-89fa-0242ac120005-5-16c9-62f0-7912-fc44-885b",
       "next": "2c0b71e8-5cfe-11ee-89fa-0242ac120005-4-6313-65fd-dee6-57fc",
       "previous": "2c0b6f7c-5cfe-11ee-89fa-0242ac120005-4-b591-5725-92f8-06d4"
      }
     ],
     "next": "2c0b71e8-5cfe-11ee-89fa-0242ac120005-5-6313-65fd-dee6-57fc-0016",
     "previous": "2c0b6f7c-5cfe-11ee-89fa-0242ac120005-5-b591-5725-92f8-06d4-30ed"
    }
   },
   "outputs": [],
   "source": [
    "# 処理対処外インスタンスを設定する\n",
    "raise Exception('処理対処外インスタンスの指定')"
   ]
  },
  {
   "cell_type": "code",
   "execution_count": null,
   "metadata": {
    "lc_cell_meme": {
     "current": "2c0b71e8-5cfe-11ee-89fa-0242ac120005-5-6313-65fd-dee6-57fc-0016",
     "history": [
      {
       "current": "2c0b71e8-5cfe-11ee-89fa-0242ac120005",
       "next": "2c0b726a-5cfe-11ee-89fa-0242ac120005",
       "previous": "2c0b7134-5cfe-11ee-89fa-0242ac120005"
      },
      {
       "current": "2c0b71e8-5cfe-11ee-89fa-0242ac120005-1-6313",
       "next": "357fc83a-969d-11ea-8d02-0242ac120007-3-9a36-95b8-b64c",
       "previous": "2c0b7134-5cfe-11ee-89fa-0242ac120005"
      },
      {
       "current": "2c0b71e8-5cfe-11ee-89fa-0242ac120005-2-6313-65fd",
       "next": "357fc83a-969d-11ea-8d02-0242ac120007-4-9a36-95b8-b64c-7bbe",
       "previous": "2c0b7134-5cfe-11ee-89fa-0242ac120005-1-16c9"
      },
      {
       "current": "2c0b71e8-5cfe-11ee-89fa-0242ac120005-3-6313-65fd-dee6",
       "next": "357fc83a-969d-11ea-8d02-0242ac120007-5-9a36-95b8-b64c-7bbe-8645",
       "previous": "2c0b7134-5cfe-11ee-89fa-0242ac120005-2-16c9-62f0"
      },
      {
       "current": "2c0b71e8-5cfe-11ee-89fa-0242ac120005-4-6313-65fd-dee6-57fc",
       "next": "357fc83a-969d-11ea-8d02-0242ac120007-6-9a36-95b8-b64c-7bbe-8645-0f5a",
       "previous": "2c0b7134-5cfe-11ee-89fa-0242ac120005-3-16c9-62f0-7912"
      },
      {
       "current": "2c0b71e8-5cfe-11ee-89fa-0242ac120005-5-6313-65fd-dee6-57fc-0016",
       "next": "357fc83a-969d-11ea-8d02-0242ac120007-7-9a36-95b8-b64c-7bbe-8645-0f5a-7ddf",
       "previous": "2c0b7134-5cfe-11ee-89fa-0242ac120005-4-16c9-62f0-7912-fc44"
      }
     ],
     "next": "357fc83a-969d-11ea-8d02-0242ac120007-8-9a36-95b8-b64c-7bbe-8645-0f5a-7ddf-3a64",
     "previous": "2c0b7134-5cfe-11ee-89fa-0242ac120005-5-16c9-62f0-7912-fc44-885b"
    }
   },
   "outputs": [],
   "source": [
    "# 処理対象外のノード名称を定義\n",
    "# non_target_nodes=['ceph-node-001','xxx',...]\n",
    "non_target_nodes=[]"
   ]
  },
  {
   "cell_type": "code",
   "execution_count": null,
   "metadata": {
    "lc_cell_meme": {
     "current": "357fc83a-969d-11ea-8d02-0242ac120007-8-9a36-95b8-b64c-7bbe-8645-0f5a-7ddf-3a64",
     "history": [
      {
       "current": "357fc83a-969d-11ea-8d02-0242ac120007",
       "next": "35c581ba-55a3-11e7-b0b2-00163e9c0e35",
       "previous": "357fc696-969d-11ea-8d02-0242ac120007"
      },
      {
       "current": "357fc83a-969d-11ea-8d02-0242ac120007",
       "next": "35c339aa-55a3-11e7-b0b2-00163e9c0e35",
       "previous": "357fc696-969d-11ea-8d02-0242ac120007"
      },
      {
       "current": "357fc83a-969d-11ea-8d02-0242ac120007",
       "next": "8a48d590-98a1-11ea-8d02-0242ac120007",
       "previous": "357fc696-969d-11ea-8d02-0242ac120007"
      },
      {
       "current": "357fc83a-969d-11ea-8d02-0242ac120007-1-9a36",
       "next": "06afec50-98b0-11ea-8d02-0242ac120007",
       "previous": "357fc696-969d-11ea-8d02-0242ac120007"
      },
      {
       "current": "357fc83a-969d-11ea-8d02-0242ac120007-2-9a36-95b8",
       "next": "06afec50-98b0-11ea-8d02-0242ac120007-1-5828",
       "previous": "357fc696-969d-11ea-8d02-0242ac120007-1-308e"
      },
      {
       "current": "357fc83a-969d-11ea-8d02-0242ac120007-2-9a36-95b8",
       "next": "06afec50-98b0-11ea-8d02-0242ac120007-2-5828-a305",
       "previous": "357fc696-969d-11ea-8d02-0242ac120007-2-308e-ef12"
      },
      {
       "current": "357fc83a-969d-11ea-8d02-0242ac120007-3-9a36-95b8-b64c",
       "next": "06afec50-98b0-11ea-8d02-0242ac120007-2-5828-a305",
       "previous": "357fc1c8-969d-11ea-8d02-0242ac120007-2-68a1-d8f9"
      },
      {
       "current": "357fc83a-969d-11ea-8d02-0242ac120007-3-9a36-95b8-b64c",
       "next": "06afec50-98b0-11ea-8d02-0242ac120007-3-5828-a305-6c94",
       "previous": "357fc1c8-969d-11ea-8d02-0242ac120007-3-68a1-d8f9-54f4"
      },
      {
       "current": "357fc83a-969d-11ea-8d02-0242ac120007-3-9a36-95b8-b64c",
       "next": "35c35a52-55a3-11e7-b0b2-00163e9c0e35-3-ed71-9007-7829",
       "previous": "357fc1c8-969d-11ea-8d02-0242ac120007-3-68a1-d8f9-54f4"
      },
      {
       "current": "357fc83a-969d-11ea-8d02-0242ac120007-3-9a36-95b8-b64c",
       "next": "2c0b6f7c-5cfe-11ee-89fa-0242ac120005",
       "previous": "357fc1c8-969d-11ea-8d02-0242ac120007-3-68a1-d8f9-54f4"
      },
      {
       "current": "357fc83a-969d-11ea-8d02-0242ac120007-3-9a36-95b8-b64c",
       "next": "2c0b726a-5cfe-11ee-89fa-0242ac120005",
       "previous": "2c0b71e8-5cfe-11ee-89fa-0242ac120005"
      },
      {
       "current": "357fc83a-969d-11ea-8d02-0242ac120007-4-9a36-95b8-b64c-7bbe",
       "next": "35c35a52-55a3-11e7-b0b2-00163e9c0e35-3-ed71-9007-7829",
       "previous": "2c0b71e8-5cfe-11ee-89fa-0242ac120005"
      },
      {
       "current": "357fc83a-969d-11ea-8d02-0242ac120007-5-9a36-95b8-b64c-7bbe-8645",
       "next": "35c35a52-55a3-11e7-b0b2-00163e9c0e35-4-ed71-9007-7829-6046",
       "previous": "2c0b71e8-5cfe-11ee-89fa-0242ac120005-1-6313"
      },
      {
       "current": "357fc83a-969d-11ea-8d02-0242ac120007-6-9a36-95b8-b64c-7bbe-8645-0f5a",
       "next": "35c35a52-55a3-11e7-b0b2-00163e9c0e35-5-ed71-9007-7829-6046-b65f",
       "previous": "2c0b71e8-5cfe-11ee-89fa-0242ac120005-2-6313-65fd"
      },
      {
       "current": "357fc83a-969d-11ea-8d02-0242ac120007-7-9a36-95b8-b64c-7bbe-8645-0f5a-7ddf",
       "next": "35c35a52-55a3-11e7-b0b2-00163e9c0e35-6-ed71-9007-7829-6046-b65f-1547",
       "previous": "2c0b71e8-5cfe-11ee-89fa-0242ac120005-3-6313-65fd-dee6"
      },
      {
       "current": "357fc83a-969d-11ea-8d02-0242ac120007-8-9a36-95b8-b64c-7bbe-8645-0f5a-7ddf-3a64",
       "next": "35c35a52-55a3-11e7-b0b2-00163e9c0e35-7-ed71-9007-7829-6046-b65f-1547-ff5b",
       "previous": "2c0b71e8-5cfe-11ee-89fa-0242ac120005-4-6313-65fd-dee6-57fc"
      }
     ],
     "next": "35c35a52-55a3-11e7-b0b2-00163e9c0e35-8-ed71-9007-7829-6046-b65f-1547-ff5b-8a11",
     "previous": "2c0b71e8-5cfe-11ee-89fa-0242ac120005-5-6313-65fd-dee6-57fc-0016"
    },
    "scrolled": true
   },
   "outputs": [],
   "source": [
    "node_list = []\n",
    "for server in nova_server_map:\n",
    "    node_id = server['ID']\n",
    "    if re.match(name_match_rule, server['Name']) is None:\n",
    "        continue\n",
    "    for node in nodes:\n",
    "        if server['Name'] in non_target_nodes:\n",
    "            break\n",
    "        if node['Instance UUID'] == node_id:\n",
    "            node_info = {}\n",
    "            node_list.append(node_info)\n",
    "            node_info['name'] = server['Name']\n",
    "            node_info['node_name'] = node['Name']\n",
    "            instance_ip_info = instance_ip_map.get(server['Name'], None)\n",
    "            if instance_ip_info is not None:\n",
    "                node_info['instance_ip'] = instance_ip_info.get('ipv4', None)\n",
    "            else:\n",
    "                node_info['instance_ip'] = None\n",
    "            address = server['Networks']\n",
    "            prov_net = address['provisioning-net']\n",
    "            for addr in prov_net:\n",
    "                node_info['prov_ip'] = addr\n",
    "\n",
    "pd.DataFrame(node_list)"
   ]
  },
  {
   "cell_type": "markdown",
   "metadata": {
    "lc_cell_meme": {
     "current": "35c35a52-55a3-11e7-b0b2-00163e9c0e35-8-ed71-9007-7829-6046-b65f-1547-ff5b-8a11",
     "history": [
      {
       "current": "35c35a52-55a3-11e7-b0b2-00163e9c0e35",
       "next": "35c35bf6-55a3-11e7-b0b2-00163e9c0e35",
       "previous": "35c358ae-55a3-11e7-b0b2-00163e9c0e35"
      },
      {
       "current": "35c35a52-55a3-11e7-b0b2-00163e9c0e35",
       "next": "35c35bf6-55a3-11e7-b0b2-00163e9c0e35",
       "previous": "690aae12-2871-11ea-b5b0-0242ac120004"
      },
      {
       "current": "35c35a52-55a3-11e7-b0b2-00163e9c0e35",
       "next": "35c35bf6-55a3-11e7-b0b2-00163e9c0e35",
       "previous": "1f202142-40d1-11ea-ab19-0242ac120004"
      },
      {
       "current": "35c35a52-55a3-11e7-b0b2-00163e9c0e35",
       "next": "35c35bf6-55a3-11e7-b0b2-00163e9c0e35",
       "previous": "690aae12-2871-11ea-b5b0-0242ac120004"
      },
      {
       "current": "35c35a52-55a3-11e7-b0b2-00163e9c0e35",
       "next": "35c35bf6-55a3-11e7-b0b2-00163e9c0e35",
       "previous": "35c358ae-55a3-11e7-b0b2-00163e9c0e35"
      },
      {
       "current": "35c35a52-55a3-11e7-b0b2-00163e9c0e35",
       "next": "35c35bf6-55a3-11e7-b0b2-00163e9c0e35",
       "previous": "29c91c64-2850-11ea-b5b0-0242ac120004"
      },
      {
       "current": "35c35a52-55a3-11e7-b0b2-00163e9c0e35",
       "next": "35c35bf6-55a3-11e7-b0b2-00163e9c0e35",
       "previous": "35c35552-55a3-11e7-b0b2-00163e9c0e35"
      },
      {
       "current": "35c35a52-55a3-11e7-b0b2-00163e9c0e35",
       "next": "35c35bf6-55a3-11e7-b0b2-00163e9c0e35",
       "previous": "81dd5320-9597-11ea-8d02-0242ac120007"
      },
      {
       "current": "35c35a52-55a3-11e7-b0b2-00163e9c0e35-1-ed71",
       "next": "35c35bf6-55a3-11e7-b0b2-00163e9c0e35",
       "previous": "46b9463a-95bc-11ea-8d02-0242ac120007"
      },
      {
       "current": "35c35a52-55a3-11e7-b0b2-00163e9c0e35-1-ed71",
       "next": "35c35bf6-55a3-11e7-b0b2-00163e9c0e35-1-4f76",
       "previous": "46b9463a-95bc-11ea-8d02-0242ac120007-1-777e"
      },
      {
       "current": "35c35a52-55a3-11e7-b0b2-00163e9c0e35-2-ed71-9007",
       "next": "35c35bf6-55a3-11e7-b0b2-00163e9c0e35-1-4f76",
       "previous": "e3624638-98a7-11ea-8d02-0242ac120007-1-0249"
      },
      {
       "current": "35c35a52-55a3-11e7-b0b2-00163e9c0e35-2-ed71-9007",
       "next": "35c35bf6-55a3-11e7-b0b2-00163e9c0e35-2-4f76-7f4b",
       "previous": "e3624638-98a7-11ea-8d02-0242ac120007-2-0249-59e8"
      },
      {
       "current": "35c35a52-55a3-11e7-b0b2-00163e9c0e35-2-ed71-9007",
       "next": "35c35bf6-55a3-11e7-b0b2-00163e9c0e35-2-4f76-7f4b",
       "previous": "445f39dc-def7-11eb-b29f-0242ac120008"
      },
      {
       "current": "35c35a52-55a3-11e7-b0b2-00163e9c0e35-2-ed71-9007",
       "next": "35c35bf6-55a3-11e7-b0b2-00163e9c0e35-2-4f76-7f4b",
       "previous": "445f36bc-def7-11eb-b29f-0242ac120008"
      },
      {
       "current": "35c35a52-55a3-11e7-b0b2-00163e9c0e35-2-ed71-9007",
       "next": "35c35bf6-55a3-11e7-b0b2-00163e9c0e35-2-4f76-7f4b",
       "previous": "1afe7e1c-def8-11eb-b29f-0242ac120008"
      },
      {
       "current": "35c35a52-55a3-11e7-b0b2-00163e9c0e35-3-ed71-9007-7829",
       "next": "35c35bf6-55a3-11e7-b0b2-00163e9c0e35-2-4f76-7f4b",
       "previous": "8a48dae0-98a1-11ea-8d02-0242ac120007-2-4da2-9c77"
      },
      {
       "current": "35c35a52-55a3-11e7-b0b2-00163e9c0e35-3-ed71-9007-7829",
       "next": "35c35bf6-55a3-11e7-b0b2-00163e9c0e35-3-4f76-7f4b-623a",
       "previous": "8a48dae0-98a1-11ea-8d02-0242ac120007-3-4da2-9c77-f888"
      },
      {
       "current": "35c35a52-55a3-11e7-b0b2-00163e9c0e35-3-ed71-9007-7829",
       "next": "35c35bf6-55a3-11e7-b0b2-00163e9c0e35-3-4f76-7f4b-623a",
       "previous": "357fc83a-969d-11ea-8d02-0242ac120007-3-9a36-95b8-b64c"
      },
      {
       "current": "35c35a52-55a3-11e7-b0b2-00163e9c0e35-3-ed71-9007-7829",
       "next": "35c35bf6-55a3-11e7-b0b2-00163e9c0e35-3-4f76-7f4b-623a",
       "previous": "2c0b726a-5cfe-11ee-89fa-0242ac120005"
      },
      {
       "current": "35c35a52-55a3-11e7-b0b2-00163e9c0e35-3-ed71-9007-7829",
       "next": "35c35bf6-55a3-11e7-b0b2-00163e9c0e35-3-4f76-7f4b-623a",
       "previous": "357fc83a-969d-11ea-8d02-0242ac120007-3-9a36-95b8-b64c"
      },
      {
       "current": "35c35a52-55a3-11e7-b0b2-00163e9c0e35-4-ed71-9007-7829-6046",
       "next": "35c35f52-55a3-11e7-b0b2-00163e9c0e35-3-e2de-8a27-1bce",
       "previous": "357fc83a-969d-11ea-8d02-0242ac120007-3-9a36-95b8-b64c"
      },
      {
       "current": "35c35a52-55a3-11e7-b0b2-00163e9c0e35-5-ed71-9007-7829-6046-b65f",
       "next": "35c35f52-55a3-11e7-b0b2-00163e9c0e35-4-e2de-8a27-1bce-3a55",
       "previous": "357fc83a-969d-11ea-8d02-0242ac120007-4-9a36-95b8-b64c-7bbe"
      },
      {
       "current": "35c35a52-55a3-11e7-b0b2-00163e9c0e35-6-ed71-9007-7829-6046-b65f-1547",
       "next": "35c35f52-55a3-11e7-b0b2-00163e9c0e35-5-e2de-8a27-1bce-3a55-cbf9",
       "previous": "357fc83a-969d-11ea-8d02-0242ac120007-5-9a36-95b8-b64c-7bbe-8645"
      },
      {
       "current": "35c35a52-55a3-11e7-b0b2-00163e9c0e35-7-ed71-9007-7829-6046-b65f-1547-ff5b",
       "next": "35c35f52-55a3-11e7-b0b2-00163e9c0e35-6-e2de-8a27-1bce-3a55-cbf9-2002",
       "previous": "357fc83a-969d-11ea-8d02-0242ac120007-6-9a36-95b8-b64c-7bbe-8645-0f5a"
      },
      {
       "current": "35c35a52-55a3-11e7-b0b2-00163e9c0e35-8-ed71-9007-7829-6046-b65f-1547-ff5b-8a11",
       "next": "35c35f52-55a3-11e7-b0b2-00163e9c0e35-7-e2de-8a27-1bce-3a55-cbf9-2002-f20e",
       "previous": "357fc83a-969d-11ea-8d02-0242ac120007-7-9a36-95b8-b64c-7bbe-8645-0f5a-7ddf"
      }
     ],
     "next": "35c35f52-55a3-11e7-b0b2-00163e9c0e35-8-e2de-8a27-1bce-3a55-cbf9-2002-f20e-b0af",
     "previous": "357fc83a-969d-11ea-8d02-0242ac120007-8-9a36-95b8-b64c-7bbe-8645-0f5a-7ddf-3a64"
    }
   },
   "source": [
    "## 一時Inventoryファイルの生成\n",
    "以下を実行し、作業用ディレクトリ配下に一時Inventoryファイルを生成する。"
   ]
  },
  {
   "cell_type": "markdown",
   "metadata": {
    "lc_cell_meme": {
     "current": "35c35f52-55a3-11e7-b0b2-00163e9c0e35-8-e2de-8a27-1bce-3a55-cbf9-2002-f20e-b0af",
     "history": [
      {
       "current": "35c35f52-55a3-11e7-b0b2-00163e9c0e35",
       "next": "35c360f6-55a3-11e7-b0b2-00163e9c0e35",
       "previous": "35c35dae-55a3-11e7-b0b2-00163e9c0e35"
      },
      {
       "current": "35c35f52-55a3-11e7-b0b2-00163e9c0e35-1-e2de",
       "next": "a33430b0-9327-11ea-8d02-0242ac120007",
       "previous": "35c35dae-55a3-11e7-b0b2-00163e9c0e35"
      },
      {
       "current": "35c35f52-55a3-11e7-b0b2-00163e9c0e35-2-e2de-8a27",
       "next": "a33430b0-9327-11ea-8d02-0242ac120007-1-3202",
       "previous": "35c35dae-55a3-11e7-b0b2-00163e9c0e35-1-7091"
      },
      {
       "current": "35c35f52-55a3-11e7-b0b2-00163e9c0e35-3-e2de-8a27-1bce",
       "next": "a33430b0-9327-11ea-8d02-0242ac120007-2-3202-0bdc",
       "previous": "35c35dae-55a3-11e7-b0b2-00163e9c0e35-2-7091-7055"
      },
      {
       "current": "35c35f52-55a3-11e7-b0b2-00163e9c0e35-3-e2de-8a27-1bce",
       "next": "a33430b0-9327-11ea-8d02-0242ac120007-3-3202-0bdc-cecb",
       "previous": "35c35dae-55a3-11e7-b0b2-00163e9c0e35-3-7091-7055-a604"
      },
      {
       "current": "35c35f52-55a3-11e7-b0b2-00163e9c0e35-4-e2de-8a27-1bce-3a55",
       "next": "a33430b0-9327-11ea-8d02-0242ac120007-3-3202-0bdc-cecb",
       "previous": "35c35a52-55a3-11e7-b0b2-00163e9c0e35-3-ed71-9007-7829"
      },
      {
       "current": "35c35f52-55a3-11e7-b0b2-00163e9c0e35-5-e2de-8a27-1bce-3a55-cbf9",
       "next": "a33430b0-9327-11ea-8d02-0242ac120007-4-3202-0bdc-cecb-23c3",
       "previous": "35c35a52-55a3-11e7-b0b2-00163e9c0e35-4-ed71-9007-7829-6046"
      },
      {
       "current": "35c35f52-55a3-11e7-b0b2-00163e9c0e35-6-e2de-8a27-1bce-3a55-cbf9-2002",
       "next": "a33430b0-9327-11ea-8d02-0242ac120007-5-3202-0bdc-cecb-23c3-fbc2",
       "previous": "35c35a52-55a3-11e7-b0b2-00163e9c0e35-5-ed71-9007-7829-6046-b65f"
      },
      {
       "current": "35c35f52-55a3-11e7-b0b2-00163e9c0e35-7-e2de-8a27-1bce-3a55-cbf9-2002-f20e",
       "next": "a33430b0-9327-11ea-8d02-0242ac120007-6-3202-0bdc-cecb-23c3-fbc2-a948",
       "previous": "35c35a52-55a3-11e7-b0b2-00163e9c0e35-6-ed71-9007-7829-6046-b65f-1547"
      },
      {
       "current": "35c35f52-55a3-11e7-b0b2-00163e9c0e35-8-e2de-8a27-1bce-3a55-cbf9-2002-f20e-b0af",
       "next": "a33430b0-9327-11ea-8d02-0242ac120007-7-3202-0bdc-cecb-23c3-fbc2-a948-e806",
       "previous": "35c35a52-55a3-11e7-b0b2-00163e9c0e35-7-ed71-9007-7829-6046-b65f-1547-ff5b"
      }
     ],
     "next": "a33430b0-9327-11ea-8d02-0242ac120007-8-3202-0bdc-cecb-23c3-fbc2-a948-e806-0413",
     "previous": "35c35a52-55a3-11e7-b0b2-00163e9c0e35-8-ed71-9007-7829-6046-b65f-1547-ff5b-8a11"
    }
   },
   "source": [
    "Inventoryファイルを生成する。"
   ]
  },
  {
   "cell_type": "code",
   "execution_count": null,
   "metadata": {
    "lc_cell_meme": {
     "current": "a33430b0-9327-11ea-8d02-0242ac120007-8-3202-0bdc-cecb-23c3-fbc2-a948-e806-0413",
     "history": [
      {
       "current": "a33430b0-9327-11ea-8d02-0242ac120007",
       "next": "35c360f6-55a3-11e7-b0b2-00163e9c0e35",
       "previous": "35c35f52-55a3-11e7-b0b2-00163e9c0e35"
      },
      {
       "current": "a33430b0-9327-11ea-8d02-0242ac120007-1-3202",
       "next": "9c0b8624-959f-11ea-8d02-0242ac120007",
       "previous": "35c35f52-55a3-11e7-b0b2-00163e9c0e35"
      },
      {
       "current": "a33430b0-9327-11ea-8d02-0242ac120007-2-3202-0bdc",
       "next": "9c0b8624-959f-11ea-8d02-0242ac120007-1-8098",
       "previous": "35c35f52-55a3-11e7-b0b2-00163e9c0e35-1-e2de"
      },
      {
       "current": "a33430b0-9327-11ea-8d02-0242ac120007-3-3202-0bdc-cecb",
       "next": "9c0b8624-959f-11ea-8d02-0242ac120007-2-8098-a371",
       "previous": "35c35f52-55a3-11e7-b0b2-00163e9c0e35-2-e2de-8a27"
      },
      {
       "current": "a33430b0-9327-11ea-8d02-0242ac120007-4-3202-0bdc-cecb-23c3",
       "next": "9c0b8624-959f-11ea-8d02-0242ac120007-3-8098-a371-294b",
       "previous": "35c35f52-55a3-11e7-b0b2-00163e9c0e35-3-e2de-8a27-1bce"
      },
      {
       "current": "a33430b0-9327-11ea-8d02-0242ac120007-5-3202-0bdc-cecb-23c3-fbc2",
       "next": "9c0b8624-959f-11ea-8d02-0242ac120007-4-8098-a371-294b-498f",
       "previous": "35c35f52-55a3-11e7-b0b2-00163e9c0e35-4-e2de-8a27-1bce-3a55"
      },
      {
       "current": "a33430b0-9327-11ea-8d02-0242ac120007-6-3202-0bdc-cecb-23c3-fbc2-a948",
       "next": "9c0b8624-959f-11ea-8d02-0242ac120007-5-8098-a371-294b-498f-cee8",
       "previous": "35c35f52-55a3-11e7-b0b2-00163e9c0e35-5-e2de-8a27-1bce-3a55-cbf9"
      },
      {
       "current": "a33430b0-9327-11ea-8d02-0242ac120007-6-3202-0bdc-cecb-23c3-fbc2-a948",
       "next": "9c0b8624-959f-11ea-8d02-0242ac120007-6-8098-a371-294b-498f-cee8-b847",
       "previous": "35c35f52-55a3-11e7-b0b2-00163e9c0e35-6-e2de-8a27-1bce-3a55-cbf9-2002"
      },
      {
       "current": "a33430b0-9327-11ea-8d02-0242ac120007-6-3202-0bdc-cecb-23c3-fbc2-a948",
       "next": "6bd7f8bc-4488-11ed-8111-0242ac120008-4-7c30-4508-00e8-6756",
       "previous": "35c35f52-55a3-11e7-b0b2-00163e9c0e35-6-e2de-8a27-1bce-3a55-cbf9-2002"
      },
      {
       "current": "a33430b0-9327-11ea-8d02-0242ac120007-7-3202-0bdc-cecb-23c3-fbc2-a948-e806",
       "next": "35c360f6-55a3-11e7-b0b2-00163e9c0e35-6-4a79-f9ba-4f52-5d0e-54b9-1408",
       "previous": "35c35f52-55a3-11e7-b0b2-00163e9c0e35-6-e2de-8a27-1bce-3a55-cbf9-2002"
      },
      {
       "current": "a33430b0-9327-11ea-8d02-0242ac120007-8-3202-0bdc-cecb-23c3-fbc2-a948-e806-0413",
       "next": "35c360f6-55a3-11e7-b0b2-00163e9c0e35-7-4a79-f9ba-4f52-5d0e-54b9-1408-601d",
       "previous": "35c35f52-55a3-11e7-b0b2-00163e9c0e35-7-e2de-8a27-1bce-3a55-cbf9-2002-f20e"
      }
     ],
     "next": "35c360f6-55a3-11e7-b0b2-00163e9c0e35-8-4a79-f9ba-4f52-5d0e-54b9-1408-601d-2f1e",
     "previous": "35c35f52-55a3-11e7-b0b2-00163e9c0e35-8-e2de-8a27-1bce-3a55-cbf9-2002-f20e-b0af"
    }
   },
   "outputs": [],
   "source": [
    "node_user='xxxxxxx'\n",
    "node_key='~/.ssh/id_ras'\n",
    "proxy_user='xxxxxxx'\n",
    "proxy_key='~/.ssh/id_ras'"
   ]
  },
  {
   "cell_type": "code",
   "execution_count": null,
   "metadata": {
    "ExecuteTime": {
     "end_time": "2017-06-29T08:50:39.909299Z",
     "start_time": "2017-06-29T08:50:39.762658Z"
    },
    "lc_cell_meme": {
     "current": "35c360f6-55a3-11e7-b0b2-00163e9c0e35-8-4a79-f9ba-4f52-5d0e-54b9-1408-601d-2f1e",
     "history": [
      {
       "current": "35c360f6-55a3-11e7-b0b2-00163e9c0e35",
       "next": "35c362a4-55a3-11e7-b0b2-00163e9c0e35",
       "previous": "35c35f52-55a3-11e7-b0b2-00163e9c0e35"
      },
      {
       "current": "35c360f6-55a3-11e7-b0b2-00163e9c0e35",
       "next": "35c362a4-55a3-11e7-b0b2-00163e9c0e35",
       "previous": "a33430b0-9327-11ea-8d02-0242ac120007"
      },
      {
       "current": "35c360f6-55a3-11e7-b0b2-00163e9c0e35-1-4a79",
       "next": "35c362a4-55a3-11e7-b0b2-00163e9c0e35",
       "previous": "9c0b88cc-959f-11ea-8d02-0242ac120007"
      },
      {
       "current": "35c360f6-55a3-11e7-b0b2-00163e9c0e35-2-4a79-f9ba",
       "next": "35c362a4-55a3-11e7-b0b2-00163e9c0e35-1-3f0a",
       "previous": "9c0b88cc-959f-11ea-8d02-0242ac120007-1-b077"
      },
      {
       "current": "35c360f6-55a3-11e7-b0b2-00163e9c0e35-2-4a79-f9ba",
       "next": "35c362a4-55a3-11e7-b0b2-00163e9c0e35-2-3f0a-3633",
       "previous": "9c0b88cc-959f-11ea-8d02-0242ac120007-2-b077-046d"
      },
      {
       "current": "35c360f6-55a3-11e7-b0b2-00163e9c0e35-2-4a79-f9ba",
       "next": "7dae8996-9686-11ea-8d02-0242ac120007-2-20c5-a0b0",
       "previous": "9c0b88cc-959f-11ea-8d02-0242ac120007-2-b077-046d"
      },
      {
       "current": "35c360f6-55a3-11e7-b0b2-00163e9c0e35-2-4a79-f9ba",
       "next": "35c362a4-55a3-11e7-b0b2-00163e9c0e35-2-89a7-98f2",
       "previous": "9c0b88cc-959f-11ea-8d02-0242ac120007-2-b077-046d"
      },
      {
       "current": "35c360f6-55a3-11e7-b0b2-00163e9c0e35-2-4a79-f9ba",
       "next": "dcd36ba6-4487-11ed-8111-0242ac120008",
       "previous": "9c0b88cc-959f-11ea-8d02-0242ac120007-2-b077-046d"
      },
      {
       "current": "35c360f6-55a3-11e7-b0b2-00163e9c0e35-3-4a79-f9ba-4f52",
       "next": "dcd36ba6-4487-11ed-8111-0242ac120008",
       "previous": "6bd7f8bc-4488-11ed-8111-0242ac120008"
      },
      {
       "current": "35c360f6-55a3-11e7-b0b2-00163e9c0e35-4-4a79-f9ba-4f52-5d0e",
       "next": "dcd36ba6-4487-11ed-8111-0242ac120008-1-cd5e",
       "previous": "6bd7f8bc-4488-11ed-8111-0242ac120008-1-7c30"
      },
      {
       "current": "35c360f6-55a3-11e7-b0b2-00163e9c0e35-5-4a79-f9ba-4f52-5d0e-54b9",
       "next": "dcd36ba6-4487-11ed-8111-0242ac120008-2-cd5e-cf2e",
       "previous": "6bd7f8bc-4488-11ed-8111-0242ac120008-2-7c30-4508"
      },
      {
       "current": "35c360f6-55a3-11e7-b0b2-00163e9c0e35-6-4a79-f9ba-4f52-5d0e-54b9-1408",
       "next": "dcd36ba6-4487-11ed-8111-0242ac120008-3-cd5e-cf2e-b370",
       "previous": "6bd7f8bc-4488-11ed-8111-0242ac120008-3-7c30-4508-00e8"
      },
      {
       "current": "35c360f6-55a3-11e7-b0b2-00163e9c0e35-6-4a79-f9ba-4f52-5d0e-54b9-1408",
       "next": "dcd36ba6-4487-11ed-8111-0242ac120008-4-cd5e-cf2e-b370-49d6",
       "previous": "6bd7f8bc-4488-11ed-8111-0242ac120008-4-7c30-4508-00e8-6756"
      },
      {
       "current": "35c360f6-55a3-11e7-b0b2-00163e9c0e35-7-4a79-f9ba-4f52-5d0e-54b9-1408-601d",
       "next": "dcd36ba6-4487-11ed-8111-0242ac120008-4-cd5e-cf2e-b370-49d6",
       "previous": "a33430b0-9327-11ea-8d02-0242ac120007-6-3202-0bdc-cecb-23c3-fbc2-a948"
      },
      {
       "current": "35c360f6-55a3-11e7-b0b2-00163e9c0e35-8-4a79-f9ba-4f52-5d0e-54b9-1408-601d-2f1e",
       "next": "dcd36ba6-4487-11ed-8111-0242ac120008-5-cd5e-cf2e-b370-49d6-3598",
       "previous": "a33430b0-9327-11ea-8d02-0242ac120007-7-3202-0bdc-cecb-23c3-fbc2-a948-e806"
      }
     ],
     "next": "dcd36ba6-4487-11ed-8111-0242ac120008-6-cd5e-cf2e-b370-49d6-3598-6741",
     "previous": "a33430b0-9327-11ea-8d02-0242ac120007-8-3202-0bdc-cecb-23c3-fbc2-a948-e806-0413"
    },
    "run_control": {
     "frozen": true
    },
    "scrolled": false
   },
   "outputs": [],
   "source": [
    "import os\n",
    "\n",
    "with open( os.path.join(temp_dir, \"hosts\"), 'w') as f:\n",
    "    f.write('''[openstack_ctl]\n",
    "{openstack_cmn}\n",
    "'''.format(openstack_cmn = provisioning_vip))\n",
    "\n",
    "    f.write('''[ceph_admin]\n",
    "{cep_admin_ip} ansible_user={proxy_user} ansible_ssh_private_key_file={proxy_key} ansible_python_interpreter=/usr/bin/python3\n",
    "[ceph_nodes]\n",
    "'''.format(cep_admin_ip=ceph_admin_ip, proxy_user=proxy_user, proxy_key=proxy_key))\n",
    "\n",
    "    for node in node_list:\n",
    "        node_ip = node['prov_ip']\n",
    "        f.write('''{node_ip} ansible_user={node_user} ansible_ssh_private_key_file={node_key} ansible_ssh_common_args='-o ControlMaster=auto -o StrictHostKeyChecking=no -o ControlPersist=30m -o ProxyCommand=\"ssh -W %h:%p -i {proxy_key} -q {proxy_user}@{cep_admin_ip}\"' ansible_python_interpreter=/usr/bin/python3\n",
    "'''.format(cep_admin_ip=ceph_admin_ip, node_ip=node_ip, node_key=node_key,\n",
    "           node_user=node_user, proxy_user=proxy_user, proxy_key=proxy_key))\n",
    "\n",
    "hosts = temp_dir + \"/hosts\"\n",
    "\n",
    "!cat $hosts"
   ]
  },
  {
   "cell_type": "code",
   "execution_count": null,
   "metadata": {
    "lc_cell_meme": {
     "current": "dcd36ba6-4487-11ed-8111-0242ac120008-6-cd5e-cf2e-b370-49d6-3598-6741",
     "history": [
      {
       "current": "dcd36ba6-4487-11ed-8111-0242ac120008-1-cd5e",
       "next": "35c362a4-55a3-11e7-b0b2-00163e9c0e35-2-89a7-98f2",
       "previous": "35c360f6-55a3-11e7-b0b2-00163e9c0e35-2-4a79-f9ba"
      },
      {
       "current": "dcd36ba6-4487-11ed-8111-0242ac120008-2-cd5e-cf2e",
       "next": "35c362a4-55a3-11e7-b0b2-00163e9c0e35-3-89a7-98f2-d5c9",
       "previous": "35c360f6-55a3-11e7-b0b2-00163e9c0e35-3-4a79-f9ba-4f52"
      },
      {
       "current": "dcd36ba6-4487-11ed-8111-0242ac120008-3-cd5e-cf2e-b370",
       "next": "35c362a4-55a3-11e7-b0b2-00163e9c0e35-4-89a7-98f2-d5c9-3220",
       "previous": "35c360f6-55a3-11e7-b0b2-00163e9c0e35-4-4a79-f9ba-4f52-5d0e"
      },
      {
       "current": "dcd36ba6-4487-11ed-8111-0242ac120008-4-cd5e-cf2e-b370-49d6",
       "next": "35c362a4-55a3-11e7-b0b2-00163e9c0e35-5-89a7-98f2-d5c9-3220-05ef",
       "previous": "35c360f6-55a3-11e7-b0b2-00163e9c0e35-5-4a79-f9ba-4f52-5d0e-54b9"
      },
      {
       "current": "dcd36ba6-4487-11ed-8111-0242ac120008-5-cd5e-cf2e-b370-49d6-3598",
       "next": "35c362a4-55a3-11e7-b0b2-00163e9c0e35-6-89a7-98f2-d5c9-3220-05ef-901f",
       "previous": "35c360f6-55a3-11e7-b0b2-00163e9c0e35-6-4a79-f9ba-4f52-5d0e-54b9-1408"
      },
      {
       "current": "dcd36ba6-4487-11ed-8111-0242ac120008-6-cd5e-cf2e-b370-49d6-3598-6741",
       "next": "35c362a4-55a3-11e7-b0b2-00163e9c0e35-7-89a7-98f2-d5c9-3220-05ef-901f-81ed",
       "previous": "35c360f6-55a3-11e7-b0b2-00163e9c0e35-7-4a79-f9ba-4f52-5d0e-54b9-1408-601d"
      }
     ],
     "next": "35c362a4-55a3-11e7-b0b2-00163e9c0e35-8-89a7-98f2-d5c9-3220-05ef-901f-81ed-4ab5",
     "previous": "35c360f6-55a3-11e7-b0b2-00163e9c0e35-8-4a79-f9ba-4f52-5d0e-54b9-1408-601d-2f1e"
    }
   },
   "outputs": [],
   "source": [
    "%env ANSIBLE_INVENTORY={hosts}"
   ]
  },
  {
   "cell_type": "markdown",
   "metadata": {
    "lc_cell_meme": {
     "current": "35c362a4-55a3-11e7-b0b2-00163e9c0e35-8-89a7-98f2-d5c9-3220-05ef-901f-81ed-4ab5",
     "history": [
      {
       "current": "35c362a4-55a3-11e7-b0b2-00163e9c0e35",
       "next": "35c36448-55a3-11e7-b0b2-00163e9c0e35",
       "previous": "35c360f6-55a3-11e7-b0b2-00163e9c0e35"
      },
      {
       "current": "35c362a4-55a3-11e7-b0b2-00163e9c0e35",
       "next": "35c36448-55a3-11e7-b0b2-00163e9c0e35",
       "previous": "4cd5b0cc-7ef5-11ea-a926-0242ac120004"
      },
      {
       "current": "35c362a4-55a3-11e7-b0b2-00163e9c0e35",
       "next": "35c36448-55a3-11e7-b0b2-00163e9c0e35",
       "previous": "db546a28-7ef5-11ea-a926-0242ac120004"
      },
      {
       "current": "35c362a4-55a3-11e7-b0b2-00163e9c0e35",
       "next": "35c36448-55a3-11e7-b0b2-00163e9c0e35",
       "previous": "4cd5af28-7ef5-11ea-a926-0242ac120004"
      },
      {
       "current": "35c362a4-55a3-11e7-b0b2-00163e9c0e35",
       "next": "35c36448-55a3-11e7-b0b2-00163e9c0e35",
       "previous": "7d464504-9107-11ea-8d02-0242ac120007"
      },
      {
       "current": "35c362a4-55a3-11e7-b0b2-00163e9c0e35",
       "next": "35c36448-55a3-11e7-b0b2-00163e9c0e35",
       "previous": "bd797188-910b-11ea-8d02-0242ac120007"
      },
      {
       "current": "35c362a4-55a3-11e7-b0b2-00163e9c0e35",
       "next": "35c36448-55a3-11e7-b0b2-00163e9c0e35",
       "previous": "70b95056-9111-11ea-8d02-0242ac120007"
      },
      {
       "current": "35c362a4-55a3-11e7-b0b2-00163e9c0e35",
       "next": "35c36448-55a3-11e7-b0b2-00163e9c0e35",
       "previous": "bd797188-910b-11ea-8d02-0242ac120007"
      },
      {
       "current": "35c362a4-55a3-11e7-b0b2-00163e9c0e35",
       "next": "bd797188-910b-11ea-8d02-0242ac120007",
       "previous": "4cd5af28-7ef5-11ea-a926-0242ac120004"
      },
      {
       "current": "35c362a4-55a3-11e7-b0b2-00163e9c0e35",
       "next": "484c7376-935c-11ea-8d02-0242ac120007",
       "previous": "4cd5af28-7ef5-11ea-a926-0242ac120004"
      },
      {
       "current": "35c362a4-55a3-11e7-b0b2-00163e9c0e35-1-89a7",
       "next": "bd797188-910b-11ea-8d02-0242ac120007",
       "previous": "4cd5af28-7ef5-11ea-a926-0242ac120004"
      },
      {
       "current": "35c362a4-55a3-11e7-b0b2-00163e9c0e35-2-89a7-98f2",
       "next": "bd797188-910b-11ea-8d02-0242ac120007-1-728a",
       "previous": "4cd5af28-7ef5-11ea-a926-0242ac120004-1-726b"
      },
      {
       "current": "35c362a4-55a3-11e7-b0b2-00163e9c0e35-2-89a7-98f2",
       "next": "bd797188-910b-11ea-8d02-0242ac120007-2-728a-254c",
       "previous": "4cd5af28-7ef5-11ea-a926-0242ac120004-2-726b-a0d6"
      },
      {
       "current": "35c362a4-55a3-11e7-b0b2-00163e9c0e35-2-89a7-98f2",
       "next": "bd797188-910b-11ea-8d02-0242ac120007-2-728a-254c",
       "previous": "35c360f6-55a3-11e7-b0b2-00163e9c0e35-2-4a79-f9ba"
      },
      {
       "current": "35c362a4-55a3-11e7-b0b2-00163e9c0e35-2-89a7-98f2",
       "next": "ef4d2888-aa17-11ea-9ad4-0242ac120006-1-42b7",
       "previous": "35c360f6-55a3-11e7-b0b2-00163e9c0e35-2-4a79-f9ba"
      },
      {
       "current": "35c362a4-55a3-11e7-b0b2-00163e9c0e35-3-89a7-98f2-d5c9",
       "next": "ef4d2888-aa17-11ea-9ad4-0242ac120006-1-42b7",
       "previous": "dcd36ba6-4487-11ed-8111-0242ac120008"
      },
      {
       "current": "35c362a4-55a3-11e7-b0b2-00163e9c0e35-4-89a7-98f2-d5c9-3220",
       "next": "ef4d2888-aa17-11ea-9ad4-0242ac120006-2-42b7-4e42",
       "previous": "dcd36ba6-4487-11ed-8111-0242ac120008-1-cd5e"
      },
      {
       "current": "35c362a4-55a3-11e7-b0b2-00163e9c0e35-5-89a7-98f2-d5c9-3220-05ef",
       "next": "ef4d2888-aa17-11ea-9ad4-0242ac120006-3-42b7-4e42-9e39",
       "previous": "dcd36ba6-4487-11ed-8111-0242ac120008-2-cd5e-cf2e"
      },
      {
       "current": "35c362a4-55a3-11e7-b0b2-00163e9c0e35-6-89a7-98f2-d5c9-3220-05ef-901f",
       "next": "ef4d2888-aa17-11ea-9ad4-0242ac120006-4-42b7-4e42-9e39-2f49",
       "previous": "dcd36ba6-4487-11ed-8111-0242ac120008-3-cd5e-cf2e-b370"
      },
      {
       "current": "35c362a4-55a3-11e7-b0b2-00163e9c0e35-7-89a7-98f2-d5c9-3220-05ef-901f-81ed",
       "next": "ef4d2888-aa17-11ea-9ad4-0242ac120006-5-42b7-4e42-9e39-2f49-27c9",
       "previous": "dcd36ba6-4487-11ed-8111-0242ac120008-4-cd5e-cf2e-b370-49d6"
      },
      {
       "current": "35c362a4-55a3-11e7-b0b2-00163e9c0e35-8-89a7-98f2-d5c9-3220-05ef-901f-81ed-4ab5",
       "next": "ef4d2888-aa17-11ea-9ad4-0242ac120006-6-42b7-4e42-9e39-2f49-27c9-428e",
       "previous": "dcd36ba6-4487-11ed-8111-0242ac120008-5-cd5e-cf2e-b370-49d6-3598"
      }
     ],
     "next": "ef4d2888-aa17-11ea-9ad4-0242ac120006-7-42b7-4e42-9e39-2f49-27c9-428e-fece",
     "previous": "dcd36ba6-4487-11ed-8111-0242ac120008-6-cd5e-cf2e-b370-49d6-3598-6741"
    }
   },
   "source": [
    "## 疎通確認\n",
    "以下コマンドを実行し、OpeHubからCephAdmin経由で、Cephノードに疎通することを確認する。"
   ]
  },
  {
   "cell_type": "code",
   "execution_count": null,
   "metadata": {
    "lc_cell_meme": {
     "current": "ef4d2888-aa17-11ea-9ad4-0242ac120006-7-42b7-4e42-9e39-2f49-27c9-428e-fece",
     "history": [
      {
       "current": "ef4d2888-aa17-11ea-9ad4-0242ac120006-1-42b7",
       "next": "ac56a252-95bd-11ea-8d02-0242ac120007-1-86ee",
       "previous": "bd797188-910b-11ea-8d02-0242ac120007-1-728a"
      },
      {
       "current": "ef4d2888-aa17-11ea-9ad4-0242ac120006-1-42b7",
       "next": "ac56a252-95bd-11ea-8d02-0242ac120007-2-86ee-3a22",
       "previous": "bd797188-910b-11ea-8d02-0242ac120007-2-728a-254c"
      },
      {
       "current": "ef4d2888-aa17-11ea-9ad4-0242ac120006-1-42b7",
       "next": "bd797188-910b-11ea-8d02-0242ac120007-2-728a-254c",
       "previous": "35c362a4-55a3-11e7-b0b2-00163e9c0e35-2-89a7-98f2"
      },
      {
       "current": "ef4d2888-aa17-11ea-9ad4-0242ac120006-1-42b7",
       "next": "e3856a36-df01-11eb-b29f-0242ac120008",
       "previous": "35c362a4-55a3-11e7-b0b2-00163e9c0e35-2-89a7-98f2"
      },
      {
       "current": "ef4d2888-aa17-11ea-9ad4-0242ac120006-2-42b7-4e42",
       "next": "bd797188-910b-11ea-8d02-0242ac120007-2-728a-254c",
       "previous": "35c362a4-55a3-11e7-b0b2-00163e9c0e35-2-89a7-98f2"
      },
      {
       "current": "ef4d2888-aa17-11ea-9ad4-0242ac120006-2-42b7-4e42",
       "next": "bd797188-910b-11ea-8d02-0242ac120007-3-728a-254c-4b5e",
       "previous": "35c362a4-55a3-11e7-b0b2-00163e9c0e35-3-89a7-98f2-d5c9"
      },
      {
       "current": "ef4d2888-aa17-11ea-9ad4-0242ac120006-3-42b7-4e42-9e39",
       "next": "16c53d10-5d02-11ee-89fa-0242ac120005",
       "previous": "35c362a4-55a3-11e7-b0b2-00163e9c0e35-3-89a7-98f2-d5c9"
      },
      {
       "current": "ef4d2888-aa17-11ea-9ad4-0242ac120006-4-42b7-4e42-9e39-2f49",
       "next": "16c53d10-5d02-11ee-89fa-0242ac120005-1-3c71",
       "previous": "35c362a4-55a3-11e7-b0b2-00163e9c0e35-4-89a7-98f2-d5c9-3220"
      },
      {
       "current": "ef4d2888-aa17-11ea-9ad4-0242ac120006-5-42b7-4e42-9e39-2f49-27c9",
       "next": "16c53d10-5d02-11ee-89fa-0242ac120005-2-3c71-e797",
       "previous": "35c362a4-55a3-11e7-b0b2-00163e9c0e35-5-89a7-98f2-d5c9-3220-05ef"
      },
      {
       "current": "ef4d2888-aa17-11ea-9ad4-0242ac120006-6-42b7-4e42-9e39-2f49-27c9-428e",
       "next": "16c53d10-5d02-11ee-89fa-0242ac120005-3-3c71-e797-d63c",
       "previous": "35c362a4-55a3-11e7-b0b2-00163e9c0e35-6-89a7-98f2-d5c9-3220-05ef-901f"
      },
      {
       "current": "ef4d2888-aa17-11ea-9ad4-0242ac120006-7-42b7-4e42-9e39-2f49-27c9-428e-fece",
       "next": "16c53d10-5d02-11ee-89fa-0242ac120005-4-3c71-e797-d63c-86d1",
       "previous": "35c362a4-55a3-11e7-b0b2-00163e9c0e35-7-89a7-98f2-d5c9-3220-05ef-901f-81ed"
      }
     ],
     "next": "16c53d10-5d02-11ee-89fa-0242ac120005-5-3c71-e797-d63c-86d1-e111",
     "previous": "35c362a4-55a3-11e7-b0b2-00163e9c0e35-8-89a7-98f2-d5c9-3220-05ef-901f-81ed-4ab5"
    }
   },
   "outputs": [],
   "source": [
    "!ansible -b -m shell -a 'hostname' ceph_admin"
   ]
  },
  {
   "cell_type": "code",
   "execution_count": null,
   "metadata": {
    "lc_cell_meme": {
     "current": "16c53d10-5d02-11ee-89fa-0242ac120005-5-3c71-e797-d63c-86d1-e111",
     "history": [
      {
       "current": "16c53d10-5d02-11ee-89fa-0242ac120005",
       "next": "16c53ebe-5d02-11ee-89fa-0242ac120005",
       "previous": "bd797188-910b-11ea-8d02-0242ac120007-3-728a-254c-4b5e"
      },
      {
       "current": "16c53d10-5d02-11ee-89fa-0242ac120005",
       "next": "16c53ebe-5d02-11ee-89fa-0242ac120005",
       "previous": "ef4d2888-aa17-11ea-9ad4-0242ac120006-2-42b7-4e42"
      },
      {
       "current": "16c53d10-5d02-11ee-89fa-0242ac120005-1-3c71",
       "next": "16c53ebe-5d02-11ee-89fa-0242ac120005-1-8e9c",
       "previous": "ef4d2888-aa17-11ea-9ad4-0242ac120006-2-42b7-4e42"
      },
      {
       "current": "16c53d10-5d02-11ee-89fa-0242ac120005-2-3c71-e797",
       "next": "16c53ebe-5d02-11ee-89fa-0242ac120005-2-8e9c-4d20",
       "previous": "ef4d2888-aa17-11ea-9ad4-0242ac120006-3-42b7-4e42-9e39"
      },
      {
       "current": "16c53d10-5d02-11ee-89fa-0242ac120005-3-3c71-e797-d63c",
       "next": "16c53ebe-5d02-11ee-89fa-0242ac120005-3-8e9c-4d20-f0be",
       "previous": "ef4d2888-aa17-11ea-9ad4-0242ac120006-4-42b7-4e42-9e39-2f49"
      },
      {
       "current": "16c53d10-5d02-11ee-89fa-0242ac120005-3-3c71-e797-d63c",
       "next": "16c53ebe-5d02-11ee-89fa-0242ac120005-4-8e9c-4d20-f0be-c59b",
       "previous": "ef4d2888-aa17-11ea-9ad4-0242ac120006-5-42b7-4e42-9e39-2f49-27c9"
      },
      {
       "current": "16c53d10-5d02-11ee-89fa-0242ac120005-4-3c71-e797-d63c-86d1",
       "next": "4e946f22-1c10-11ef-ad2f-0242ac120005",
       "previous": "ef4d2888-aa17-11ea-9ad4-0242ac120006-5-42b7-4e42-9e39-2f49-27c9"
      },
      {
       "current": "16c53d10-5d02-11ee-89fa-0242ac120005-5-3c71-e797-d63c-86d1-e111",
       "next": "4e946f22-1c10-11ef-ad2f-0242ac120005-1-4160",
       "previous": "ef4d2888-aa17-11ea-9ad4-0242ac120006-6-42b7-4e42-9e39-2f49-27c9-428e"
      }
     ],
     "next": "4e946f22-1c10-11ef-ad2f-0242ac120005-2-4160-db3e",
     "previous": "ef4d2888-aa17-11ea-9ad4-0242ac120006-7-42b7-4e42-9e39-2f49-27c9-428e-fece"
    }
   },
   "outputs": [],
   "source": [
    "for node in node_list:\n",
    "    node_ip = node['prov_ip']\n",
    "    !ansible -b -m shell -a 'hostname' $node_ip"
   ]
  },
  {
   "cell_type": "code",
   "execution_count": null,
   "metadata": {
    "lc_cell_meme": {
     "current": "4e946f22-1c10-11ef-ad2f-0242ac120005-2-4160-db3e",
     "history": [
      {
       "current": "4e946f22-1c10-11ef-ad2f-0242ac120005-1-4160",
       "next": "16c53ebe-5d02-11ee-89fa-0242ac120005-4-8e9c-4d20-f0be-c59b",
       "previous": "16c53d10-5d02-11ee-89fa-0242ac120005-3-3c71-e797-d63c"
      },
      {
       "current": "4e946f22-1c10-11ef-ad2f-0242ac120005-2-4160-db3e",
       "next": "16c53ebe-5d02-11ee-89fa-0242ac120005-5-8e9c-4d20-f0be-c59b-b593",
       "previous": "16c53d10-5d02-11ee-89fa-0242ac120005-4-3c71-e797-d63c-86d1"
      }
     ],
     "next": "16c53ebe-5d02-11ee-89fa-0242ac120005-6-8e9c-4d20-f0be-c59b-b593-4c97",
     "previous": "16c53d10-5d02-11ee-89fa-0242ac120005-5-3c71-e797-d63c-86d1-e111"
    }
   },
   "outputs": [],
   "source": [
    "!ansible -b -m shell -a 'hostname' ceph_nodes"
   ]
  },
  {
   "cell_type": "markdown",
   "metadata": {
    "lc_cell_meme": {
     "current": "16c53ebe-5d02-11ee-89fa-0242ac120005-6-8e9c-4d20-f0be-c59b-b593-4c97",
     "history": [
      {
       "current": "16c53ebe-5d02-11ee-89fa-0242ac120005-2-8e9c-4d20",
       "next": "16c53f72-5d02-11ee-89fa-0242ac120005",
       "previous": "16c53d10-5d02-11ee-89fa-0242ac120005"
      },
      {
       "current": "16c53ebe-5d02-11ee-89fa-0242ac120005-3-8e9c-4d20-f0be",
       "next": "16c53f72-5d02-11ee-89fa-0242ac120005-1-ae6e",
       "previous": "16c53d10-5d02-11ee-89fa-0242ac120005-1-3c71"
      },
      {
       "current": "16c53ebe-5d02-11ee-89fa-0242ac120005-4-8e9c-4d20-f0be-c59b",
       "next": "16c53f72-5d02-11ee-89fa-0242ac120005-2-ae6e-ee90",
       "previous": "16c53d10-5d02-11ee-89fa-0242ac120005-2-3c71-e797"
      },
      {
       "current": "16c53ebe-5d02-11ee-89fa-0242ac120005-4-8e9c-4d20-f0be-c59b",
       "next": "16c53f72-5d02-11ee-89fa-0242ac120005-3-ae6e-ee90-5367",
       "previous": "16c53d10-5d02-11ee-89fa-0242ac120005-3-3c71-e797-d63c"
      },
      {
       "current": "16c53ebe-5d02-11ee-89fa-0242ac120005-5-8e9c-4d20-f0be-c59b-b593",
       "next": "16c53f72-5d02-11ee-89fa-0242ac120005-3-ae6e-ee90-5367",
       "previous": "4e946f22-1c10-11ef-ad2f-0242ac120005"
      },
      {
       "current": "16c53ebe-5d02-11ee-89fa-0242ac120005-6-8e9c-4d20-f0be-c59b-b593-4c97",
       "next": "16c53f72-5d02-11ee-89fa-0242ac120005-4-ae6e-ee90-5367-6da3",
       "previous": "4e946f22-1c10-11ef-ad2f-0242ac120005-1-4160"
      }
     ],
     "next": "16c53f72-5d02-11ee-89fa-0242ac120005-5-ae6e-ee90-5367-6da3-2591",
     "previous": "4e946f22-1c10-11ef-ad2f-0242ac120005-2-4160-db3e"
    }
   },
   "source": [
    "# ホスト名称変更"
   ]
  },
  {
   "cell_type": "code",
   "execution_count": null,
   "metadata": {
    "lc_cell_meme": {
     "current": "16c53f72-5d02-11ee-89fa-0242ac120005-5-ae6e-ee90-5367-6da3-2591",
     "history": [
      {
       "current": "16c53f72-5d02-11ee-89fa-0242ac120005",
       "next": "16c540a8-5d02-11ee-89fa-0242ac120005",
       "previous": "16c53ebe-5d02-11ee-89fa-0242ac120005"
      },
      {
       "current": "16c53f72-5d02-11ee-89fa-0242ac120005-1-ae6e",
       "next": "16c540a8-5d02-11ee-89fa-0242ac120005",
       "previous": "16c53ebe-5d02-11ee-89fa-0242ac120005-1-8e9c"
      },
      {
       "current": "16c53f72-5d02-11ee-89fa-0242ac120005-2-ae6e-ee90",
       "next": "16c540a8-5d02-11ee-89fa-0242ac120005-1-4f57",
       "previous": "16c53ebe-5d02-11ee-89fa-0242ac120005-2-8e9c-4d20"
      },
      {
       "current": "16c53f72-5d02-11ee-89fa-0242ac120005-3-ae6e-ee90-5367",
       "next": "16c540a8-5d02-11ee-89fa-0242ac120005-2-4f57-989c",
       "previous": "16c53ebe-5d02-11ee-89fa-0242ac120005-3-8e9c-4d20-f0be"
      },
      {
       "current": "16c53f72-5d02-11ee-89fa-0242ac120005-4-ae6e-ee90-5367-6da3",
       "next": "16c540a8-5d02-11ee-89fa-0242ac120005-3-4f57-989c-bbbb",
       "previous": "16c53ebe-5d02-11ee-89fa-0242ac120005-4-8e9c-4d20-f0be-c59b"
      },
      {
       "current": "16c53f72-5d02-11ee-89fa-0242ac120005-5-ae6e-ee90-5367-6da3-2591",
       "next": "16c540a8-5d02-11ee-89fa-0242ac120005-4-4f57-989c-bbbb-634a",
       "previous": "16c53ebe-5d02-11ee-89fa-0242ac120005-5-8e9c-4d20-f0be-c59b-b593"
      }
     ],
     "next": "16c540a8-5d02-11ee-89fa-0242ac120005-5-4f57-989c-bbbb-634a-f16a",
     "previous": "16c53ebe-5d02-11ee-89fa-0242ac120005-6-8e9c-4d20-f0be-c59b-b593-4c97"
    }
   },
   "outputs": [],
   "source": [
    "for node in node_list:\n",
    "    node_ip = node['prov_ip']\n",
    "    name = node['name']\n",
    "    !ansible -b -m shell -a \"hostnamectl set-hostname {name}\" $node_ip"
   ]
  },
  {
   "cell_type": "code",
   "execution_count": null,
   "metadata": {
    "lc_cell_meme": {
     "current": "16c540a8-5d02-11ee-89fa-0242ac120005-5-4f57-989c-bbbb-634a-f16a",
     "history": [
      {
       "current": "16c540a8-5d02-11ee-89fa-0242ac120005-1-4f57",
       "next": "84249408-e2e5-11eb-b29f-0242ac120008-1-db4c",
       "previous": "16c53f72-5d02-11ee-89fa-0242ac120005"
      },
      {
       "current": "16c540a8-5d02-11ee-89fa-0242ac120005-2-4f57-989c",
       "next": "84249408-e2e5-11eb-b29f-0242ac120008-2-db4c-2f3c",
       "previous": "16c53f72-5d02-11ee-89fa-0242ac120005-1-ae6e"
      },
      {
       "current": "16c540a8-5d02-11ee-89fa-0242ac120005-3-4f57-989c-bbbb",
       "next": "84249408-e2e5-11eb-b29f-0242ac120008-3-db4c-2f3c-049e",
       "previous": "16c53f72-5d02-11ee-89fa-0242ac120005-2-ae6e-ee90"
      },
      {
       "current": "16c540a8-5d02-11ee-89fa-0242ac120005-4-4f57-989c-bbbb-634a",
       "next": "84249408-e2e5-11eb-b29f-0242ac120008-4-db4c-2f3c-049e-e5d1",
       "previous": "16c53f72-5d02-11ee-89fa-0242ac120005-3-ae6e-ee90-5367"
      },
      {
       "current": "16c540a8-5d02-11ee-89fa-0242ac120005-5-4f57-989c-bbbb-634a-f16a",
       "next": "84249408-e2e5-11eb-b29f-0242ac120008-5-db4c-2f3c-049e-e5d1-2dca",
       "previous": "16c53f72-5d02-11ee-89fa-0242ac120005-4-ae6e-ee90-5367-6da3"
      }
     ],
     "next": "84249408-e2e5-11eb-b29f-0242ac120008-6-db4c-2f3c-049e-e5d1-2dca-7228",
     "previous": "16c53f72-5d02-11ee-89fa-0242ac120005-5-ae6e-ee90-5367-6da3-2591"
    }
   },
   "outputs": [],
   "source": [
    "!ansible -b -m shell -a 'hostname' ceph_nodes"
   ]
  },
  {
   "cell_type": "markdown",
   "metadata": {
    "lc_cell_meme": {
     "current": "84249408-e2e5-11eb-b29f-0242ac120008-6-db4c-2f3c-049e-e5d1-2dca-7228",
     "history": [
      {
       "current": "84249408-e2e5-11eb-b29f-0242ac120008",
       "next": "84249674-e2e5-11eb-b29f-0242ac120008",
       "previous": "d6f26982-e2e3-11eb-b29f-0242ac120008"
      },
      {
       "current": "84249408-e2e5-11eb-b29f-0242ac120008",
       "next": "84249674-e2e5-11eb-b29f-0242ac120008-1-3fe2",
       "previous": "d6f26982-e2e3-11eb-b29f-0242ac120008"
      },
      {
       "current": "84249408-e2e5-11eb-b29f-0242ac120008",
       "next": "ce04db90-edcc-11eb-b29f-0242ac120008",
       "previous": "d6f26982-e2e3-11eb-b29f-0242ac120008"
      },
      {
       "current": "84249408-e2e5-11eb-b29f-0242ac120008",
       "next": "ce04db90-edcc-11eb-b29f-0242ac120008",
       "previous": "b66b8ef8-edda-11eb-b29f-0242ac120008"
      },
      {
       "current": "84249408-e2e5-11eb-b29f-0242ac120008",
       "next": "ce04db90-edcc-11eb-b29f-0242ac120008",
       "previous": "fdf5d3d2-edda-11eb-b29f-0242ac120008"
      },
      {
       "current": "84249408-e2e5-11eb-b29f-0242ac120008",
       "next": "ce04db90-edcc-11eb-b29f-0242ac120008",
       "previous": "b66bea5c-eded-11eb-b29f-0242ac120008"
      },
      {
       "current": "84249408-e2e5-11eb-b29f-0242ac120008",
       "next": "ce04db90-edcc-11eb-b29f-0242ac120008",
       "previous": "fdf5d3d2-edda-11eb-b29f-0242ac120008"
      },
      {
       "current": "84249408-e2e5-11eb-b29f-0242ac120008",
       "next": "ce04db90-edcc-11eb-b29f-0242ac120008",
       "previous": "bd797188-910b-11ea-8d02-0242ac120007-2-728a-254c"
      },
      {
       "current": "84249408-e2e5-11eb-b29f-0242ac120008",
       "next": "a53260de-f501-11eb-b29f-0242ac120008",
       "previous": "bd797188-910b-11ea-8d02-0242ac120007-2-728a-254c"
      },
      {
       "current": "84249408-e2e5-11eb-b29f-0242ac120008",
       "next": "ce04db90-edcc-11eb-b29f-0242ac120008",
       "previous": "bd797188-910b-11ea-8d02-0242ac120007-2-728a-254c"
      },
      {
       "current": "84249408-e2e5-11eb-b29f-0242ac120008",
       "next": "9ac645d6-1475-11ed-a1da-0242ac120004",
       "previous": "bd797188-910b-11ea-8d02-0242ac120007-2-728a-254c"
      },
      {
       "current": "84249408-e2e5-11eb-b29f-0242ac120008",
       "next": "ce04db90-edcc-11eb-b29f-0242ac120008",
       "previous": "bd797188-910b-11ea-8d02-0242ac120007-2-728a-254c"
      },
      {
       "current": "84249408-e2e5-11eb-b29f-0242ac120008-1-db4c",
       "next": "2454576a-4488-11ed-8111-0242ac120008",
       "previous": "bd797188-910b-11ea-8d02-0242ac120007-2-728a-254c"
      },
      {
       "current": "84249408-e2e5-11eb-b29f-0242ac120008-1-db4c",
       "next": "2454576a-4488-11ed-8111-0242ac120008-1-b364",
       "previous": "bd797188-910b-11ea-8d02-0242ac120007-3-728a-254c-4b5e"
      },
      {
       "current": "84249408-e2e5-11eb-b29f-0242ac120008-1-db4c",
       "next": "2c282342-4d1d-11ee-89fa-0242ac120005",
       "previous": "bd797188-910b-11ea-8d02-0242ac120007-3-728a-254c-4b5e"
      },
      {
       "current": "84249408-e2e5-11eb-b29f-0242ac120008-1-db4c",
       "next": "2c2824dc-4d1d-11ee-89fa-0242ac120005",
       "previous": "bd797188-910b-11ea-8d02-0242ac120007-3-728a-254c-4b5e"
      },
      {
       "current": "84249408-e2e5-11eb-b29f-0242ac120008-1-db4c",
       "next": "455b69dc-4d27-11ee-89fa-0242ac120005",
       "previous": "bd797188-910b-11ea-8d02-0242ac120007-3-728a-254c-4b5e"
      },
      {
       "current": "84249408-e2e5-11eb-b29f-0242ac120008-1-db4c",
       "next": "455b69dc-4d27-11ee-89fa-0242ac120005",
       "previous": "16c540a8-5d02-11ee-89fa-0242ac120005"
      },
      {
       "current": "84249408-e2e5-11eb-b29f-0242ac120008-2-db4c-2f3c",
       "next": "21e96ab0-6106-11ee-89fa-0242ac120005",
       "previous": "16c540a8-5d02-11ee-89fa-0242ac120005"
      },
      {
       "current": "84249408-e2e5-11eb-b29f-0242ac120008-3-db4c-2f3c-049e",
       "next": "21e96ab0-6106-11ee-89fa-0242ac120005-1-0316",
       "previous": "16c540a8-5d02-11ee-89fa-0242ac120005-1-4f57"
      },
      {
       "current": "84249408-e2e5-11eb-b29f-0242ac120008-4-db4c-2f3c-049e-e5d1",
       "next": "21e96ab0-6106-11ee-89fa-0242ac120005-2-0316-052c",
       "previous": "16c540a8-5d02-11ee-89fa-0242ac120005-2-4f57-989c"
      },
      {
       "current": "84249408-e2e5-11eb-b29f-0242ac120008-5-db4c-2f3c-049e-e5d1-2dca",
       "next": "21e96ab0-6106-11ee-89fa-0242ac120005-3-0316-052c-ac21",
       "previous": "16c540a8-5d02-11ee-89fa-0242ac120005-3-4f57-989c-bbbb"
      },
      {
       "current": "84249408-e2e5-11eb-b29f-0242ac120008-6-db4c-2f3c-049e-e5d1-2dca-7228",
       "next": "21e96ab0-6106-11ee-89fa-0242ac120005-4-0316-052c-ac21-3944",
       "previous": "16c540a8-5d02-11ee-89fa-0242ac120005-4-4f57-989c-bbbb-634a"
      }
     ],
     "next": "21e96ab0-6106-11ee-89fa-0242ac120005-5-0316-052c-ac21-3944-2793",
     "previous": "16c540a8-5d02-11ee-89fa-0242ac120005-5-4f57-989c-bbbb-634a-f16a"
    }
   },
   "source": [
    "# hosts設定（repository、ストレージノード）"
   ]
  },
  {
   "cell_type": "markdown",
   "metadata": {
    "lc_cell_meme": {
     "current": "21e96ab0-6106-11ee-89fa-0242ac120005-5-0316-052c-ac21-3944-2793",
     "history": [
      {
       "current": "21e96ab0-6106-11ee-89fa-0242ac120005-1-0316",
       "next": "455b69dc-4d27-11ee-89fa-0242ac120005",
       "previous": "84249408-e2e5-11eb-b29f-0242ac120008-1-db4c"
      },
      {
       "current": "21e96ab0-6106-11ee-89fa-0242ac120005-2-0316-052c",
       "next": "455b69dc-4d27-11ee-89fa-0242ac120005-1-d6cf",
       "previous": "84249408-e2e5-11eb-b29f-0242ac120008-2-db4c-2f3c"
      },
      {
       "current": "21e96ab0-6106-11ee-89fa-0242ac120005-3-0316-052c-ac21",
       "next": "455b69dc-4d27-11ee-89fa-0242ac120005-2-d6cf-4178",
       "previous": "84249408-e2e5-11eb-b29f-0242ac120008-3-db4c-2f3c-049e"
      },
      {
       "current": "21e96ab0-6106-11ee-89fa-0242ac120005-4-0316-052c-ac21-3944",
       "next": "455b69dc-4d27-11ee-89fa-0242ac120005-3-d6cf-4178-3819",
       "previous": "84249408-e2e5-11eb-b29f-0242ac120008-4-db4c-2f3c-049e-e5d1"
      },
      {
       "current": "21e96ab0-6106-11ee-89fa-0242ac120005-5-0316-052c-ac21-3944-2793",
       "next": "455b69dc-4d27-11ee-89fa-0242ac120005-4-d6cf-4178-3819-6392",
       "previous": "84249408-e2e5-11eb-b29f-0242ac120008-5-db4c-2f3c-049e-e5d1-2dca"
      }
     ],
     "next": "455b69dc-4d27-11ee-89fa-0242ac120005-5-d6cf-4178-3819-6392-3fab",
     "previous": "84249408-e2e5-11eb-b29f-0242ac120008-6-db4c-2f3c-049e-e5d1-2dca-7228"
    }
   },
   "source": [
    "## repository"
   ]
  },
  {
   "cell_type": "code",
   "execution_count": null,
   "metadata": {
    "lc_cell_meme": {
     "current": "455b69dc-4d27-11ee-89fa-0242ac120005-5-d6cf-4178-3819-6392-3fab",
     "history": [
      {
       "current": "455b69dc-4d27-11ee-89fa-0242ac120005",
       "next": "2c2824dc-4d1d-11ee-89fa-0242ac120005",
       "previous": "84249408-e2e5-11eb-b29f-0242ac120008-1-db4c"
      },
      {
       "current": "455b69dc-4d27-11ee-89fa-0242ac120005-1-d6cf",
       "next": "2c2824dc-4d1d-11ee-89fa-0242ac120005",
       "previous": "21e96ab0-6106-11ee-89fa-0242ac120005"
      },
      {
       "current": "455b69dc-4d27-11ee-89fa-0242ac120005-2-d6cf-4178",
       "next": "2c2824dc-4d1d-11ee-89fa-0242ac120005-1-2e18",
       "previous": "21e96ab0-6106-11ee-89fa-0242ac120005-1-0316"
      },
      {
       "current": "455b69dc-4d27-11ee-89fa-0242ac120005-3-d6cf-4178-3819",
       "next": "2c2824dc-4d1d-11ee-89fa-0242ac120005-2-2e18-2815",
       "previous": "21e96ab0-6106-11ee-89fa-0242ac120005-2-0316-052c"
      },
      {
       "current": "455b69dc-4d27-11ee-89fa-0242ac120005-4-d6cf-4178-3819-6392",
       "next": "2c2824dc-4d1d-11ee-89fa-0242ac120005-3-2e18-2815-9b35",
       "previous": "21e96ab0-6106-11ee-89fa-0242ac120005-3-0316-052c-ac21"
      },
      {
       "current": "455b69dc-4d27-11ee-89fa-0242ac120005-5-d6cf-4178-3819-6392-3fab",
       "next": "2c2824dc-4d1d-11ee-89fa-0242ac120005-4-2e18-2815-9b35-9e70",
       "previous": "21e96ab0-6106-11ee-89fa-0242ac120005-4-0316-052c-ac21-3944"
      }
     ],
     "next": "2c2824dc-4d1d-11ee-89fa-0242ac120005-5-2e18-2815-9b35-9e70-88dd",
     "previous": "21e96ab0-6106-11ee-89fa-0242ac120005-5-0316-052c-ac21-3944-2793"
    }
   },
   "outputs": [],
   "source": [
    "!ansible -b -m shell -a 'cat /etc/hosts' ceph_nodes"
   ]
  },
  {
   "cell_type": "code",
   "execution_count": null,
   "metadata": {
    "lc_cell_meme": {
     "current": "2c2824dc-4d1d-11ee-89fa-0242ac120005-5-2e18-2815-9b35-9e70-88dd",
     "history": [
      {
       "current": "2c2824dc-4d1d-11ee-89fa-0242ac120005",
       "next": "2c282568-4d1d-11ee-89fa-0242ac120005",
       "previous": "2c282342-4d1d-11ee-89fa-0242ac120005"
      },
      {
       "current": "2c2824dc-4d1d-11ee-89fa-0242ac120005",
       "next": "2c282568-4d1d-11ee-89fa-0242ac120005",
       "previous": "84249408-e2e5-11eb-b29f-0242ac120008-1-db4c"
      },
      {
       "current": "2c2824dc-4d1d-11ee-89fa-0242ac120005-1-2e18",
       "next": "2c282568-4d1d-11ee-89fa-0242ac120005",
       "previous": "455b69dc-4d27-11ee-89fa-0242ac120005"
      },
      {
       "current": "2c2824dc-4d1d-11ee-89fa-0242ac120005-2-2e18-2815",
       "next": "2c282568-4d1d-11ee-89fa-0242ac120005-1-e198",
       "previous": "455b69dc-4d27-11ee-89fa-0242ac120005-1-d6cf"
      },
      {
       "current": "2c2824dc-4d1d-11ee-89fa-0242ac120005-3-2e18-2815-9b35",
       "next": "2c282568-4d1d-11ee-89fa-0242ac120005-2-e198-51a8",
       "previous": "455b69dc-4d27-11ee-89fa-0242ac120005-2-d6cf-4178"
      },
      {
       "current": "2c2824dc-4d1d-11ee-89fa-0242ac120005-4-2e18-2815-9b35-9e70",
       "next": "2c282568-4d1d-11ee-89fa-0242ac120005-3-e198-51a8-bf21",
       "previous": "455b69dc-4d27-11ee-89fa-0242ac120005-3-d6cf-4178-3819"
      },
      {
       "current": "2c2824dc-4d1d-11ee-89fa-0242ac120005-5-2e18-2815-9b35-9e70-88dd",
       "next": "2c282568-4d1d-11ee-89fa-0242ac120005-4-e198-51a8-bf21-23ff",
       "previous": "455b69dc-4d27-11ee-89fa-0242ac120005-4-d6cf-4178-3819-6392"
      }
     ],
     "next": "2c282568-4d1d-11ee-89fa-0242ac120005-5-e198-51a8-bf21-23ff-2f06",
     "previous": "455b69dc-4d27-11ee-89fa-0242ac120005-5-d6cf-4178-3819-6392-3fab"
    }
   },
   "outputs": [],
   "source": [
    "!ansible -b -m lineinfile -a 'path=/etc/hosts regexp=\"^xx.xx.xx.xx\" line=\"xx.xx.xx.xx repository\"' ceph_nodes"
   ]
  },
  {
   "cell_type": "code",
   "execution_count": null,
   "metadata": {
    "lc_cell_meme": {
     "current": "2c282568-4d1d-11ee-89fa-0242ac120005-5-e198-51a8-bf21-23ff-2f06",
     "history": [
      {
       "current": "2c282568-4d1d-11ee-89fa-0242ac120005",
       "next": "2c2825c2-4d1d-11ee-89fa-0242ac120005",
       "previous": "2c2824dc-4d1d-11ee-89fa-0242ac120005"
      },
      {
       "current": "2c282568-4d1d-11ee-89fa-0242ac120005",
       "next": "16c54120-5d02-11ee-89fa-0242ac120005",
       "previous": "2c2824dc-4d1d-11ee-89fa-0242ac120005"
      },
      {
       "current": "2c282568-4d1d-11ee-89fa-0242ac120005-1-e198",
       "next": "16c54120-5d02-11ee-89fa-0242ac120005-1-ba91",
       "previous": "2c2824dc-4d1d-11ee-89fa-0242ac120005"
      },
      {
       "current": "2c282568-4d1d-11ee-89fa-0242ac120005-2-e198-51a8",
       "next": "16c54120-5d02-11ee-89fa-0242ac120005-2-ba91-9a23",
       "previous": "2c2824dc-4d1d-11ee-89fa-0242ac120005-1-2e18"
      },
      {
       "current": "2c282568-4d1d-11ee-89fa-0242ac120005-3-e198-51a8-bf21",
       "next": "16c54120-5d02-11ee-89fa-0242ac120005-3-ba91-9a23-9f23",
       "previous": "2c2824dc-4d1d-11ee-89fa-0242ac120005-2-2e18-2815"
      },
      {
       "current": "2c282568-4d1d-11ee-89fa-0242ac120005-4-e198-51a8-bf21-23ff",
       "next": "16c54120-5d02-11ee-89fa-0242ac120005-4-ba91-9a23-9f23-9131",
       "previous": "2c2824dc-4d1d-11ee-89fa-0242ac120005-3-2e18-2815-9b35"
      },
      {
       "current": "2c282568-4d1d-11ee-89fa-0242ac120005-5-e198-51a8-bf21-23ff-2f06",
       "next": "16c54120-5d02-11ee-89fa-0242ac120005-5-ba91-9a23-9f23-9131-0012",
       "previous": "2c2824dc-4d1d-11ee-89fa-0242ac120005-4-2e18-2815-9b35-9e70"
      }
     ],
     "next": "16c54120-5d02-11ee-89fa-0242ac120005-6-ba91-9a23-9f23-9131-0012-1b24",
     "previous": "2c2824dc-4d1d-11ee-89fa-0242ac120005-5-2e18-2815-9b35-9e70-88dd"
    }
   },
   "outputs": [],
   "source": [
    "!ansible -b -m shell -a 'cat /etc/hosts' ceph_nodes"
   ]
  },
  {
   "cell_type": "markdown",
   "metadata": {
    "lc_cell_meme": {
     "current": "16c54120-5d02-11ee-89fa-0242ac120005-6-ba91-9a23-9f23-9131-0012-1b24",
     "history": [
      {
       "current": "16c54120-5d02-11ee-89fa-0242ac120005-2-ba91-9a23",
       "next": "16c54198-5d02-11ee-89fa-0242ac120005",
       "previous": "2c282568-4d1d-11ee-89fa-0242ac120005"
      },
      {
       "current": "16c54120-5d02-11ee-89fa-0242ac120005-3-ba91-9a23-9f23",
       "next": "16c54198-5d02-11ee-89fa-0242ac120005-1-fd7b",
       "previous": "2c282568-4d1d-11ee-89fa-0242ac120005-1-e198"
      },
      {
       "current": "16c54120-5d02-11ee-89fa-0242ac120005-4-ba91-9a23-9f23-9131",
       "next": "16c54198-5d02-11ee-89fa-0242ac120005-2-fd7b-d40a",
       "previous": "2c282568-4d1d-11ee-89fa-0242ac120005-2-e198-51a8"
      },
      {
       "current": "16c54120-5d02-11ee-89fa-0242ac120005-5-ba91-9a23-9f23-9131-0012",
       "next": "16c54198-5d02-11ee-89fa-0242ac120005-3-fd7b-d40a-6b0b",
       "previous": "2c282568-4d1d-11ee-89fa-0242ac120005-3-e198-51a8-bf21"
      },
      {
       "current": "16c54120-5d02-11ee-89fa-0242ac120005-6-ba91-9a23-9f23-9131-0012-1b24",
       "next": "16c54198-5d02-11ee-89fa-0242ac120005-4-fd7b-d40a-6b0b-8114",
       "previous": "2c282568-4d1d-11ee-89fa-0242ac120005-4-e198-51a8-bf21-23ff"
      }
     ],
     "next": "16c54198-5d02-11ee-89fa-0242ac120005-5-fd7b-d40a-6b0b-8114-b1d6",
     "previous": "2c282568-4d1d-11ee-89fa-0242ac120005-5-e198-51a8-bf21-23ff-2f06"
    }
   },
   "source": [
    "## ストレージノード（ストレージセグメントアドレス）"
   ]
  },
  {
   "cell_type": "code",
   "execution_count": null,
   "metadata": {
    "lc_cell_meme": {
     "current": "16c54198-5d02-11ee-89fa-0242ac120005-5-fd7b-d40a-6b0b-8114-b1d6",
     "history": [
      {
       "current": "16c54198-5d02-11ee-89fa-0242ac120005",
       "next": "16c54210-5d02-11ee-89fa-0242ac120005",
       "previous": "16c54120-5d02-11ee-89fa-0242ac120005"
      },
      {
       "current": "16c54198-5d02-11ee-89fa-0242ac120005-1-fd7b",
       "next": "16c54210-5d02-11ee-89fa-0242ac120005",
       "previous": "16c54120-5d02-11ee-89fa-0242ac120005-1-ba91"
      },
      {
       "current": "16c54198-5d02-11ee-89fa-0242ac120005-2-fd7b-d40a",
       "next": "16c54210-5d02-11ee-89fa-0242ac120005-1-d1b1",
       "previous": "16c54120-5d02-11ee-89fa-0242ac120005-2-ba91-9a23"
      },
      {
       "current": "16c54198-5d02-11ee-89fa-0242ac120005-3-fd7b-d40a-6b0b",
       "next": "16c54210-5d02-11ee-89fa-0242ac120005-2-d1b1-c964",
       "previous": "16c54120-5d02-11ee-89fa-0242ac120005-3-ba91-9a23-9f23"
      },
      {
       "current": "16c54198-5d02-11ee-89fa-0242ac120005-4-fd7b-d40a-6b0b-8114",
       "next": "16c54210-5d02-11ee-89fa-0242ac120005-3-d1b1-c964-ceed",
       "previous": "16c54120-5d02-11ee-89fa-0242ac120005-4-ba91-9a23-9f23-9131"
      },
      {
       "current": "16c54198-5d02-11ee-89fa-0242ac120005-5-fd7b-d40a-6b0b-8114-b1d6",
       "next": "16c54210-5d02-11ee-89fa-0242ac120005-4-d1b1-c964-ceed-7357",
       "previous": "16c54120-5d02-11ee-89fa-0242ac120005-5-ba91-9a23-9f23-9131-0012"
      }
     ],
     "next": "16c54210-5d02-11ee-89fa-0242ac120005-5-d1b1-c964-ceed-7357-38c7",
     "previous": "16c54120-5d02-11ee-89fa-0242ac120005-6-ba91-9a23-9f23-9131-0012-1b24"
    },
    "scrolled": true
   },
   "outputs": [],
   "source": [
    "for node in node_list:\n",
    "    strage_ip = node['instance_ip']\n",
    "    name = node['name']\n",
    "    regexp = strage_ip.replace('.','\\.')\n",
    "    print(\"strage_ip={} name={} regexp={}\".format(strage_ip,name,regexp))\n",
    "    !ansible -b -m lineinfile -a \"path=/etc/hosts regexp=\\\"^$regexp[\\s]+$name\\\" line=\\\"$strage_ip $name\\\"\" ceph_nodes    "
   ]
  },
  {
   "cell_type": "code",
   "execution_count": null,
   "metadata": {
    "lc_cell_meme": {
     "current": "16c54210-5d02-11ee-89fa-0242ac120005-5-d1b1-c964-ceed-7357-38c7",
     "history": [
      {
       "current": "16c54210-5d02-11ee-89fa-0242ac120005",
       "next": "16c54274-5d02-11ee-89fa-0242ac120005",
       "previous": "16c54198-5d02-11ee-89fa-0242ac120005"
      },
      {
       "current": "16c54210-5d02-11ee-89fa-0242ac120005",
       "next": "16c54274-5d02-11ee-89fa-0242ac120005-1-f5d7",
       "previous": "16c54198-5d02-11ee-89fa-0242ac120005"
      },
      {
       "current": "16c54210-5d02-11ee-89fa-0242ac120005-1-d1b1",
       "next": "6cc11cf6-618b-11ee-89fa-0242ac120005",
       "previous": "16c54198-5d02-11ee-89fa-0242ac120005"
      },
      {
       "current": "16c54210-5d02-11ee-89fa-0242ac120005-2-d1b1-c964",
       "next": "6cc11cf6-618b-11ee-89fa-0242ac120005-1-1532",
       "previous": "16c54198-5d02-11ee-89fa-0242ac120005-1-fd7b"
      },
      {
       "current": "16c54210-5d02-11ee-89fa-0242ac120005-3-d1b1-c964-ceed",
       "next": "6cc11cf6-618b-11ee-89fa-0242ac120005-2-1532-07e6",
       "previous": "16c54198-5d02-11ee-89fa-0242ac120005-2-fd7b-d40a"
      },
      {
       "current": "16c54210-5d02-11ee-89fa-0242ac120005-4-d1b1-c964-ceed-7357",
       "next": "6cc11cf6-618b-11ee-89fa-0242ac120005-3-1532-07e6-85ac",
       "previous": "16c54198-5d02-11ee-89fa-0242ac120005-3-fd7b-d40a-6b0b"
      },
      {
       "current": "16c54210-5d02-11ee-89fa-0242ac120005-5-d1b1-c964-ceed-7357-38c7",
       "next": "6cc11cf6-618b-11ee-89fa-0242ac120005-4-1532-07e6-85ac-7258",
       "previous": "16c54198-5d02-11ee-89fa-0242ac120005-4-fd7b-d40a-6b0b-8114"
      }
     ],
     "next": "6cc11cf6-618b-11ee-89fa-0242ac120005-5-1532-07e6-85ac-7258-e1da",
     "previous": "16c54198-5d02-11ee-89fa-0242ac120005-5-fd7b-d40a-6b0b-8114-b1d6"
    },
    "scrolled": true
   },
   "outputs": [],
   "source": [
    "!ansible -b -m shell -a 'cat /etc/hosts' ceph_nodes"
   ]
  },
  {
   "cell_type": "code",
   "execution_count": null,
   "metadata": {
    "lc_cell_meme": {
     "current": "6cc11cf6-618b-11ee-89fa-0242ac120005-5-1532-07e6-85ac-7258-e1da",
     "history": [
      {
       "current": "6cc11cf6-618b-11ee-89fa-0242ac120005-1-1532",
       "next": "16c54274-5d02-11ee-89fa-0242ac120005-1-f5d7",
       "previous": "16c54210-5d02-11ee-89fa-0242ac120005"
      },
      {
       "current": "6cc11cf6-618b-11ee-89fa-0242ac120005-2-1532-07e6",
       "next": "16c54274-5d02-11ee-89fa-0242ac120005-2-f5d7-71a6",
       "previous": "16c54210-5d02-11ee-89fa-0242ac120005-1-d1b1"
      },
      {
       "current": "6cc11cf6-618b-11ee-89fa-0242ac120005-3-1532-07e6-85ac",
       "next": "16c54274-5d02-11ee-89fa-0242ac120005-3-f5d7-71a6-58df",
       "previous": "16c54210-5d02-11ee-89fa-0242ac120005-2-d1b1-c964"
      },
      {
       "current": "6cc11cf6-618b-11ee-89fa-0242ac120005-4-1532-07e6-85ac-7258",
       "next": "16c54274-5d02-11ee-89fa-0242ac120005-4-f5d7-71a6-58df-8a4a",
       "previous": "16c54210-5d02-11ee-89fa-0242ac120005-3-d1b1-c964-ceed"
      },
      {
       "current": "6cc11cf6-618b-11ee-89fa-0242ac120005-5-1532-07e6-85ac-7258-e1da",
       "next": "16c54274-5d02-11ee-89fa-0242ac120005-5-f5d7-71a6-58df-8a4a-b491",
       "previous": "16c54210-5d02-11ee-89fa-0242ac120005-4-d1b1-c964-ceed-7357"
      }
     ],
     "next": "16c54274-5d02-11ee-89fa-0242ac120005-6-f5d7-71a6-58df-8a4a-b491-2fc4",
     "previous": "16c54210-5d02-11ee-89fa-0242ac120005-5-d1b1-c964-ceed-7357-38c7"
    },
    "scrolled": true
   },
   "outputs": [],
   "source": [
    "for node in node_list:\n",
    "    name = node['name']\n",
    "    !ansible -b -m shell -a \"ping -c 3 $name\" ceph_nodes"
   ]
  },
  {
   "cell_type": "markdown",
   "metadata": {
    "lc_cell_meme": {
     "current": "16c54274-5d02-11ee-89fa-0242ac120005-6-f5d7-71a6-58df-8a4a-b491-2fc4",
     "history": [
      {
       "current": "16c54274-5d02-11ee-89fa-0242ac120005",
       "next": "16c542e2-5d02-11ee-89fa-0242ac120005",
       "previous": "16c54210-5d02-11ee-89fa-0242ac120005"
      },
      {
       "current": "16c54274-5d02-11ee-89fa-0242ac120005-1-f5d7",
       "next": "9ad83f7e-610a-11ee-89fa-0242ac120005",
       "previous": "16c54210-5d02-11ee-89fa-0242ac120005"
      },
      {
       "current": "16c54274-5d02-11ee-89fa-0242ac120005-1-f5d7",
       "next": "59c42c68-6188-11ee-89fa-0242ac120005",
       "previous": "16c54210-5d02-11ee-89fa-0242ac120005"
      },
      {
       "current": "16c54274-5d02-11ee-89fa-0242ac120005-2-f5d7-71a6",
       "next": "59c42c68-6188-11ee-89fa-0242ac120005",
       "previous": "6cc11cf6-618b-11ee-89fa-0242ac120005"
      },
      {
       "current": "16c54274-5d02-11ee-89fa-0242ac120005-3-f5d7-71a6-58df",
       "next": "59c42c68-6188-11ee-89fa-0242ac120005-1-fa73",
       "previous": "6cc11cf6-618b-11ee-89fa-0242ac120005-1-1532"
      },
      {
       "current": "16c54274-5d02-11ee-89fa-0242ac120005-4-f5d7-71a6-58df-8a4a",
       "next": "59c42c68-6188-11ee-89fa-0242ac120005-2-fa73-2ee3",
       "previous": "6cc11cf6-618b-11ee-89fa-0242ac120005-2-1532-07e6"
      },
      {
       "current": "16c54274-5d02-11ee-89fa-0242ac120005-5-f5d7-71a6-58df-8a4a-b491",
       "next": "59c42c68-6188-11ee-89fa-0242ac120005-3-fa73-2ee3-c31e",
       "previous": "6cc11cf6-618b-11ee-89fa-0242ac120005-3-1532-07e6-85ac"
      },
      {
       "current": "16c54274-5d02-11ee-89fa-0242ac120005-6-f5d7-71a6-58df-8a4a-b491-2fc4",
       "next": "59c42c68-6188-11ee-89fa-0242ac120005-4-fa73-2ee3-c31e-7a51",
       "previous": "6cc11cf6-618b-11ee-89fa-0242ac120005-4-1532-07e6-85ac-7258"
      }
     ],
     "next": "59c42c68-6188-11ee-89fa-0242ac120005-5-fa73-2ee3-c31e-7a51-a7d1",
     "previous": "6cc11cf6-618b-11ee-89fa-0242ac120005-5-1532-07e6-85ac-7258-e1da"
    }
   },
   "source": [
    "# podman insecure設定"
   ]
  },
  {
   "cell_type": "code",
   "execution_count": null,
   "metadata": {
    "lc_cell_meme": {
     "current": "59c42c68-6188-11ee-89fa-0242ac120005-5-fa73-2ee3-c31e-7a51-a7d1",
     "history": [
      {
       "current": "59c42c68-6188-11ee-89fa-0242ac120005",
       "next": "9ad83f7e-610a-11ee-89fa-0242ac120005",
       "previous": "16c54274-5d02-11ee-89fa-0242ac120005-1-f5d7"
      },
      {
       "current": "59c42c68-6188-11ee-89fa-0242ac120005-1-fa73",
       "next": "cede8dea-6f07-11ee-89fa-0242ac120005",
       "previous": "16c54274-5d02-11ee-89fa-0242ac120005-1-f5d7"
      },
      {
       "current": "59c42c68-6188-11ee-89fa-0242ac120005-2-fa73-2ee3",
       "next": "cede8dea-6f07-11ee-89fa-0242ac120005-1-d3fa",
       "previous": "16c54274-5d02-11ee-89fa-0242ac120005-2-f5d7-71a6"
      },
      {
       "current": "59c42c68-6188-11ee-89fa-0242ac120005-3-fa73-2ee3-c31e",
       "next": "cede8dea-6f07-11ee-89fa-0242ac120005-2-d3fa-1390",
       "previous": "16c54274-5d02-11ee-89fa-0242ac120005-3-f5d7-71a6-58df"
      },
      {
       "current": "59c42c68-6188-11ee-89fa-0242ac120005-4-fa73-2ee3-c31e-7a51",
       "next": "cede8dea-6f07-11ee-89fa-0242ac120005-3-d3fa-1390-e620",
       "previous": "16c54274-5d02-11ee-89fa-0242ac120005-4-f5d7-71a6-58df-8a4a"
      },
      {
       "current": "59c42c68-6188-11ee-89fa-0242ac120005-5-fa73-2ee3-c31e-7a51-a7d1",
       "next": "cede8dea-6f07-11ee-89fa-0242ac120005-4-d3fa-1390-e620-6074",
       "previous": "16c54274-5d02-11ee-89fa-0242ac120005-5-f5d7-71a6-58df-8a4a-b491"
      }
     ],
     "next": "cede8dea-6f07-11ee-89fa-0242ac120005-5-d3fa-1390-e620-6074-e8e7",
     "previous": "16c54274-5d02-11ee-89fa-0242ac120005-6-f5d7-71a6-58df-8a4a-b491-2fc4"
    }
   },
   "outputs": [],
   "source": [
    "!ansible -b -m shell -a 'cat /etc/containers/registries.conf' ceph_nodes"
   ]
  },
  {
   "cell_type": "code",
   "execution_count": null,
   "metadata": {
    "lc_cell_meme": {
     "current": "cede8dea-6f07-11ee-89fa-0242ac120005-5-d3fa-1390-e620-6074-e8e7",
     "history": [
      {
       "current": "cede8dea-6f07-11ee-89fa-0242ac120005",
       "next": "9ad83f7e-610a-11ee-89fa-0242ac120005",
       "previous": "59c42c68-6188-11ee-89fa-0242ac120005"
      },
      {
       "current": "cede8dea-6f07-11ee-89fa-0242ac120005-1-d3fa",
       "next": "5df1efc2-6f08-11ee-89fa-0242ac120005",
       "previous": "59c42c68-6188-11ee-89fa-0242ac120005"
      },
      {
       "current": "cede8dea-6f07-11ee-89fa-0242ac120005-2-d3fa-1390",
       "next": "5df1efc2-6f08-11ee-89fa-0242ac120005-1-30bf",
       "previous": "59c42c68-6188-11ee-89fa-0242ac120005-1-fa73"
      },
      {
       "current": "cede8dea-6f07-11ee-89fa-0242ac120005-3-d3fa-1390-e620",
       "next": "5df1efc2-6f08-11ee-89fa-0242ac120005-2-30bf-534b",
       "previous": "59c42c68-6188-11ee-89fa-0242ac120005-2-fa73-2ee3"
      },
      {
       "current": "cede8dea-6f07-11ee-89fa-0242ac120005-4-d3fa-1390-e620-6074",
       "next": "5df1efc2-6f08-11ee-89fa-0242ac120005-3-30bf-534b-6cfa",
       "previous": "59c42c68-6188-11ee-89fa-0242ac120005-3-fa73-2ee3-c31e"
      },
      {
       "current": "cede8dea-6f07-11ee-89fa-0242ac120005-5-d3fa-1390-e620-6074-e8e7",
       "next": "5df1efc2-6f08-11ee-89fa-0242ac120005-4-30bf-534b-6cfa-c6f7",
       "previous": "59c42c68-6188-11ee-89fa-0242ac120005-4-fa73-2ee3-c31e-7a51"
      }
     ],
     "next": "5df1efc2-6f08-11ee-89fa-0242ac120005-5-30bf-534b-6cfa-c6f7-be79",
     "previous": "59c42c68-6188-11ee-89fa-0242ac120005-5-fa73-2ee3-c31e-7a51-a7d1"
    }
   },
   "outputs": [],
   "source": [
    "!ansible -CDv -b -m ini_file -a 'dest=/etc/containers/registries.conf state=present section=\"[registry]\" option=location value=\"\\\"repository:5000\\\"\"' ceph_nodes\n",
    "!ansible -CDv -b -m ini_file -a 'dest=/etc/containers/registries.conf state=present section=\"[registry]\" option=insecure value=true' ceph_nodes"
   ]
  },
  {
   "cell_type": "code",
   "execution_count": null,
   "metadata": {
    "lc_cell_meme": {
     "current": "5df1efc2-6f08-11ee-89fa-0242ac120005-5-30bf-534b-6cfa-c6f7-be79",
     "history": [
      {
       "current": "5df1efc2-6f08-11ee-89fa-0242ac120005",
       "next": "9ad83f7e-610a-11ee-89fa-0242ac120005",
       "previous": "cede8dea-6f07-11ee-89fa-0242ac120005"
      },
      {
       "current": "5df1efc2-6f08-11ee-89fa-0242ac120005-1-30bf",
       "next": "9ad840be-610a-11ee-89fa-0242ac120005",
       "previous": "cede8dea-6f07-11ee-89fa-0242ac120005"
      },
      {
       "current": "5df1efc2-6f08-11ee-89fa-0242ac120005-2-30bf-534b",
       "next": "9ad840be-610a-11ee-89fa-0242ac120005-1-7cda",
       "previous": "cede8dea-6f07-11ee-89fa-0242ac120005-1-d3fa"
      },
      {
       "current": "5df1efc2-6f08-11ee-89fa-0242ac120005-3-30bf-534b-6cfa",
       "next": "9ad840be-610a-11ee-89fa-0242ac120005-2-7cda-6736",
       "previous": "cede8dea-6f07-11ee-89fa-0242ac120005-2-d3fa-1390"
      },
      {
       "current": "5df1efc2-6f08-11ee-89fa-0242ac120005-4-30bf-534b-6cfa-c6f7",
       "next": "9ad840be-610a-11ee-89fa-0242ac120005-3-7cda-6736-7344",
       "previous": "cede8dea-6f07-11ee-89fa-0242ac120005-3-d3fa-1390-e620"
      },
      {
       "current": "5df1efc2-6f08-11ee-89fa-0242ac120005-5-30bf-534b-6cfa-c6f7-be79",
       "next": "9ad840be-610a-11ee-89fa-0242ac120005-4-7cda-6736-7344-5344",
       "previous": "cede8dea-6f07-11ee-89fa-0242ac120005-4-d3fa-1390-e620-6074"
      }
     ],
     "next": "9ad840be-610a-11ee-89fa-0242ac120005-5-7cda-6736-7344-5344-e3e7",
     "previous": "cede8dea-6f07-11ee-89fa-0242ac120005-5-d3fa-1390-e620-6074-e8e7"
    },
    "scrolled": true
   },
   "outputs": [],
   "source": [
    "!ansible -b -m ini_file -a 'dest=/etc/containers/registries.conf state=present section=\"[registry]\" option=location value=\"\\\"repository:5000\\\"\"' ceph_nodes\n",
    "!ansible -b -m ini_file -a 'dest=/etc/containers/registries.conf state=present section=\"[registry]\" option=insecure value=true' ceph_nodes"
   ]
  },
  {
   "cell_type": "code",
   "execution_count": null,
   "metadata": {
    "lc_cell_meme": {
     "current": "9ad840be-610a-11ee-89fa-0242ac120005-5-7cda-6736-7344-5344-e3e7",
     "history": [
      {
       "current": "9ad840be-610a-11ee-89fa-0242ac120005",
       "next": "9ad8412c-610a-11ee-89fa-0242ac120005",
       "previous": "9ad83f7e-610a-11ee-89fa-0242ac120005"
      },
      {
       "current": "9ad840be-610a-11ee-89fa-0242ac120005",
       "next": "35c581ba-55a3-11e7-b0b2-00163e9c0e35-3-f60b-133a-c274",
       "previous": "9ad83f7e-610a-11ee-89fa-0242ac120005"
      },
      {
       "current": "9ad840be-610a-11ee-89fa-0242ac120005",
       "next": "9436a3b4-6401-11ee-89fa-0242ac120005",
       "previous": "9ad83f7e-610a-11ee-89fa-0242ac120005"
      },
      {
       "current": "9ad840be-610a-11ee-89fa-0242ac120005-1-7cda",
       "next": "9436a3b4-6401-11ee-89fa-0242ac120005",
       "previous": "5df1efc2-6f08-11ee-89fa-0242ac120005"
      },
      {
       "current": "9ad840be-610a-11ee-89fa-0242ac120005-2-7cda-6736",
       "next": "9436a3b4-6401-11ee-89fa-0242ac120005-1-b1a5",
       "previous": "5df1efc2-6f08-11ee-89fa-0242ac120005-1-30bf"
      },
      {
       "current": "9ad840be-610a-11ee-89fa-0242ac120005-3-7cda-6736-7344",
       "next": "9436a3b4-6401-11ee-89fa-0242ac120005-2-b1a5-a552",
       "previous": "5df1efc2-6f08-11ee-89fa-0242ac120005-2-30bf-534b"
      },
      {
       "current": "9ad840be-610a-11ee-89fa-0242ac120005-4-7cda-6736-7344-5344",
       "next": "9436a3b4-6401-11ee-89fa-0242ac120005-3-b1a5-a552-381f",
       "previous": "5df1efc2-6f08-11ee-89fa-0242ac120005-3-30bf-534b-6cfa"
      },
      {
       "current": "9ad840be-610a-11ee-89fa-0242ac120005-5-7cda-6736-7344-5344-e3e7",
       "next": "9436a3b4-6401-11ee-89fa-0242ac120005-4-b1a5-a552-381f-6511",
       "previous": "5df1efc2-6f08-11ee-89fa-0242ac120005-4-30bf-534b-6cfa-c6f7"
      }
     ],
     "next": "9436a3b4-6401-11ee-89fa-0242ac120005-5-b1a5-a552-381f-6511-b0d2",
     "previous": "5df1efc2-6f08-11ee-89fa-0242ac120005-5-30bf-534b-6cfa-c6f7-be79"
    }
   },
   "outputs": [],
   "source": [
    "!ansible -b -m shell -a 'cat /etc/containers/registries.conf' ceph_nodes"
   ]
  },
  {
   "cell_type": "markdown",
   "metadata": {
    "lc_cell_meme": {
     "current": "9436a3b4-6401-11ee-89fa-0242ac120005-5-b1a5-a552-381f-6511-b0d2",
     "history": [
      {
       "current": "9436a3b4-6401-11ee-89fa-0242ac120005",
       "next": "9436a616-6401-11ee-89fa-0242ac120005",
       "previous": "9ad840be-610a-11ee-89fa-0242ac120005"
      },
      {
       "current": "9436a3b4-6401-11ee-89fa-0242ac120005",
       "next": "6b12b99a-6402-11ee-89fa-0242ac120005",
       "previous": "9ad840be-610a-11ee-89fa-0242ac120005"
      },
      {
       "current": "9436a3b4-6401-11ee-89fa-0242ac120005-1-b1a5",
       "next": "3d844ab0-6412-11ee-89fa-0242ac120005",
       "previous": "9ad840be-610a-11ee-89fa-0242ac120005"
      },
      {
       "current": "9436a3b4-6401-11ee-89fa-0242ac120005-2-b1a5-a552",
       "next": "3d844ab0-6412-11ee-89fa-0242ac120005-1-bd55",
       "previous": "9ad840be-610a-11ee-89fa-0242ac120005-1-7cda"
      },
      {
       "current": "9436a3b4-6401-11ee-89fa-0242ac120005-3-b1a5-a552-381f",
       "next": "3d844ab0-6412-11ee-89fa-0242ac120005-2-bd55-ef65",
       "previous": "9ad840be-610a-11ee-89fa-0242ac120005-2-7cda-6736"
      },
      {
       "current": "9436a3b4-6401-11ee-89fa-0242ac120005-4-b1a5-a552-381f-6511",
       "next": "3d844ab0-6412-11ee-89fa-0242ac120005-3-bd55-ef65-f032",
       "previous": "9ad840be-610a-11ee-89fa-0242ac120005-3-7cda-6736-7344"
      },
      {
       "current": "9436a3b4-6401-11ee-89fa-0242ac120005-5-b1a5-a552-381f-6511-b0d2",
       "next": "3d844ab0-6412-11ee-89fa-0242ac120005-4-bd55-ef65-f032-38ca",
       "previous": "9ad840be-610a-11ee-89fa-0242ac120005-4-7cda-6736-7344-5344"
      }
     ],
     "next": "3d844ab0-6412-11ee-89fa-0242ac120005-5-bd55-ef65-f032-38ca-d72b",
     "previous": "9ad840be-610a-11ee-89fa-0242ac120005-5-7cda-6736-7344-5344-e3e7"
    }
   },
   "source": [
    "# podman Proxy設定"
   ]
  },
  {
   "cell_type": "code",
   "execution_count": null,
   "metadata": {
    "lc_cell_meme": {
     "current": "3d844ab0-6412-11ee-89fa-0242ac120005-5-bd55-ef65-f032-38ca-d72b",
     "history": [
      {
       "current": "3d844ab0-6412-11ee-89fa-0242ac120005-1-bd55",
       "next": "3d844c5e-6412-11ee-89fa-0242ac120005",
       "previous": "9436a3b4-6401-11ee-89fa-0242ac120005"
      },
      {
       "current": "3d844ab0-6412-11ee-89fa-0242ac120005-2-bd55-ef65",
       "next": "3d844c5e-6412-11ee-89fa-0242ac120005-1-127d",
       "previous": "9436a3b4-6401-11ee-89fa-0242ac120005-1-b1a5"
      },
      {
       "current": "3d844ab0-6412-11ee-89fa-0242ac120005-3-bd55-ef65-f032",
       "next": "3d844c5e-6412-11ee-89fa-0242ac120005-2-127d-db4f",
       "previous": "9436a3b4-6401-11ee-89fa-0242ac120005-2-b1a5-a552"
      },
      {
       "current": "3d844ab0-6412-11ee-89fa-0242ac120005-4-bd55-ef65-f032-38ca",
       "next": "3d844c5e-6412-11ee-89fa-0242ac120005-3-127d-db4f-5cd6",
       "previous": "9436a3b4-6401-11ee-89fa-0242ac120005-3-b1a5-a552-381f"
      },
      {
       "current": "3d844ab0-6412-11ee-89fa-0242ac120005-5-bd55-ef65-f032-38ca-d72b",
       "next": "3d844c5e-6412-11ee-89fa-0242ac120005-4-127d-db4f-5cd6-7ef9",
       "previous": "9436a3b4-6401-11ee-89fa-0242ac120005-4-b1a5-a552-381f-6511"
      }
     ],
     "next": "3d844c5e-6412-11ee-89fa-0242ac120005-5-127d-db4f-5cd6-7ef9-1559",
     "previous": "9436a3b4-6401-11ee-89fa-0242ac120005-5-b1a5-a552-381f-6511-b0d2"
    }
   },
   "outputs": [],
   "source": [
    "!ansible -CDv -b -m ini_file -a 'dest=/usr/share/containers/containers.conf state=present section=engine option=env value=\"[\\\"HTTP_PROXY=http://yy.yy.yy.yy:8080\\\",\\\"HTTPS_PROXY=http://yy.yy.yy.yy:8080\\\"]\"' ceph_nodes"
   ]
  },
  {
   "cell_type": "code",
   "execution_count": null,
   "metadata": {
    "lc_cell_meme": {
     "current": "3d844c5e-6412-11ee-89fa-0242ac120005-5-127d-db4f-5cd6-7ef9-1559",
     "history": [
      {
       "current": "3d844c5e-6412-11ee-89fa-0242ac120005",
       "next": "3d844cea-6412-11ee-89fa-0242ac120005",
       "previous": "3d844ab0-6412-11ee-89fa-0242ac120005"
      },
      {
       "current": "3d844c5e-6412-11ee-89fa-0242ac120005-1-127d",
       "next": "41b1cd10-6403-11ee-89fa-0242ac120005",
       "previous": "3d844ab0-6412-11ee-89fa-0242ac120005"
      },
      {
       "current": "3d844c5e-6412-11ee-89fa-0242ac120005-2-127d-db4f",
       "next": "41b1cd10-6403-11ee-89fa-0242ac120005-1-fb80",
       "previous": "3d844ab0-6412-11ee-89fa-0242ac120005-1-bd55"
      },
      {
       "current": "3d844c5e-6412-11ee-89fa-0242ac120005-3-127d-db4f-5cd6",
       "next": "41b1cd10-6403-11ee-89fa-0242ac120005-2-fb80-6bbf",
       "previous": "3d844ab0-6412-11ee-89fa-0242ac120005-2-bd55-ef65"
      },
      {
       "current": "3d844c5e-6412-11ee-89fa-0242ac120005-4-127d-db4f-5cd6-7ef9",
       "next": "41b1cd10-6403-11ee-89fa-0242ac120005-3-fb80-6bbf-f742",
       "previous": "3d844ab0-6412-11ee-89fa-0242ac120005-3-bd55-ef65-f032"
      },
      {
       "current": "3d844c5e-6412-11ee-89fa-0242ac120005-5-127d-db4f-5cd6-7ef9-1559",
       "next": "41b1cd10-6403-11ee-89fa-0242ac120005-4-fb80-6bbf-f742-d1d4",
       "previous": "3d844ab0-6412-11ee-89fa-0242ac120005-4-bd55-ef65-f032-38ca"
      }
     ],
     "next": "41b1cd10-6403-11ee-89fa-0242ac120005-5-fb80-6bbf-f742-d1d4-c80d",
     "previous": "3d844ab0-6412-11ee-89fa-0242ac120005-5-bd55-ef65-f032-38ca-d72b"
    },
    "scrolled": true
   },
   "outputs": [],
   "source": [
    "!ansible -b -m ini_file -a 'dest=/usr/share/containers/containers.conf state=present section=engine option=env value=\"[\\\"HTTP_PROXY=http://yy.yy.yy.yy:8080\\\",\\\"HTTPS_PROXY=http://yy.yy.yy.yy:8080\\\"]\"' ceph_nodes"
   ]
  },
  {
   "cell_type": "code",
   "execution_count": null,
   "metadata": {
    "lc_cell_meme": {
     "current": "41b1cd10-6403-11ee-89fa-0242ac120005-5-fb80-6bbf-f742-d1d4-c80d",
     "history": [
      {
       "current": "41b1cd10-6403-11ee-89fa-0242ac120005",
       "next": "41b1cf54-6403-11ee-89fa-0242ac120005",
       "previous": "fa219c78-6402-11ee-89fa-0242ac120005"
      },
      {
       "current": "41b1cd10-6403-11ee-89fa-0242ac120005",
       "next": "41b1cf54-6403-11ee-89fa-0242ac120005",
       "previous": "5fda0324-6404-11ee-89fa-0242ac120005"
      },
      {
       "current": "41b1cd10-6403-11ee-89fa-0242ac120005-1-fb80",
       "next": "a1267fe2-6413-11ee-89fa-0242ac120005",
       "previous": "3d844c5e-6412-11ee-89fa-0242ac120005"
      },
      {
       "current": "41b1cd10-6403-11ee-89fa-0242ac120005-2-fb80-6bbf",
       "next": "a1267fe2-6413-11ee-89fa-0242ac120005-1-8d11",
       "previous": "3d844c5e-6412-11ee-89fa-0242ac120005-1-127d"
      },
      {
       "current": "41b1cd10-6403-11ee-89fa-0242ac120005-3-fb80-6bbf-f742",
       "next": "a1267fe2-6413-11ee-89fa-0242ac120005-2-8d11-ba27",
       "previous": "3d844c5e-6412-11ee-89fa-0242ac120005-2-127d-db4f"
      },
      {
       "current": "41b1cd10-6403-11ee-89fa-0242ac120005-4-fb80-6bbf-f742-d1d4",
       "next": "a1267fe2-6413-11ee-89fa-0242ac120005-3-8d11-ba27-83c7",
       "previous": "3d844c5e-6412-11ee-89fa-0242ac120005-3-127d-db4f-5cd6"
      },
      {
       "current": "41b1cd10-6403-11ee-89fa-0242ac120005-5-fb80-6bbf-f742-d1d4-c80d",
       "next": "a1267fe2-6413-11ee-89fa-0242ac120005-4-8d11-ba27-83c7-1ef4",
       "previous": "3d844c5e-6412-11ee-89fa-0242ac120005-4-127d-db4f-5cd6-7ef9"
      }
     ],
     "next": "a1267fe2-6413-11ee-89fa-0242ac120005-5-8d11-ba27-83c7-1ef4-f906",
     "previous": "3d844c5e-6412-11ee-89fa-0242ac120005-5-127d-db4f-5cd6-7ef9-1559"
    }
   },
   "outputs": [],
   "source": [
    "!ansible -b -m shell -a 'cat /usr/share/containers/containers.conf' ceph_nodes"
   ]
  },
  {
   "cell_type": "code",
   "execution_count": null,
   "metadata": {
    "lc_cell_meme": {
     "current": "a1267fe2-6413-11ee-89fa-0242ac120005-5-8d11-ba27-83c7-1ef4-f906",
     "history": [
      {
       "current": "a1267fe2-6413-11ee-89fa-0242ac120005-1-8d11",
       "next": "35c581ba-55a3-11e7-b0b2-00163e9c0e35-3-f60b-133a-c274",
       "previous": "41b1cd10-6403-11ee-89fa-0242ac120005"
      },
      {
       "current": "a1267fe2-6413-11ee-89fa-0242ac120005-2-8d11-ba27",
       "next": "35c581ba-55a3-11e7-b0b2-00163e9c0e35-4-f60b-133a-c274-adfc",
       "previous": "41b1cd10-6403-11ee-89fa-0242ac120005-1-fb80"
      },
      {
       "current": "a1267fe2-6413-11ee-89fa-0242ac120005-3-8d11-ba27-83c7",
       "next": "35c581ba-55a3-11e7-b0b2-00163e9c0e35-5-f60b-133a-c274-adfc-40da",
       "previous": "41b1cd10-6403-11ee-89fa-0242ac120005-2-fb80-6bbf"
      },
      {
       "current": "a1267fe2-6413-11ee-89fa-0242ac120005-4-8d11-ba27-83c7-1ef4",
       "next": "35c581ba-55a3-11e7-b0b2-00163e9c0e35-6-f60b-133a-c274-adfc-40da-0154",
       "previous": "41b1cd10-6403-11ee-89fa-0242ac120005-3-fb80-6bbf-f742"
      },
      {
       "current": "a1267fe2-6413-11ee-89fa-0242ac120005-5-8d11-ba27-83c7-1ef4-f906",
       "next": "35c581ba-55a3-11e7-b0b2-00163e9c0e35-7-f60b-133a-c274-adfc-40da-0154-8723",
       "previous": "41b1cd10-6403-11ee-89fa-0242ac120005-4-fb80-6bbf-f742-d1d4"
      }
     ],
     "next": "35c581ba-55a3-11e7-b0b2-00163e9c0e35-8-f60b-133a-c274-adfc-40da-0154-8723-b1ea",
     "previous": "41b1cd10-6403-11ee-89fa-0242ac120005-5-fb80-6bbf-f742-d1d4-c80d"
    }
   },
   "outputs": [],
   "source": [
    "!ansible -b -m shell -a 'systemctl daemon-reload' ceph_nodes"
   ]
  },
  {
   "cell_type": "markdown",
   "metadata": {
    "collapsed": true,
    "lc_cell_meme": {
     "current": "35c581ba-55a3-11e7-b0b2-00163e9c0e35-8-f60b-133a-c274-adfc-40da-0154-8723-b1ea",
     "history": [
      {
       "current": "35c581ba-55a3-11e7-b0b2-00163e9c0e35",
       "next": "35c58340-55a3-11e7-b0b2-00163e9c0e35",
       "previous": "35c58034-55a3-11e7-b0b2-00163e9c0e35"
      },
      {
       "current": "35c581ba-55a3-11e7-b0b2-00163e9c0e35",
       "next": "35c58340-55a3-11e7-b0b2-00163e9c0e35",
       "previous": "35c51928-55a3-11e7-b0b2-00163e9c0e35"
      },
      {
       "current": "35c581ba-55a3-11e7-b0b2-00163e9c0e35",
       "next": "35c58340-55a3-11e7-b0b2-00163e9c0e35",
       "previous": "277a614c-47b9-11ea-a028-0242ac120005"
      },
      {
       "current": "35c581ba-55a3-11e7-b0b2-00163e9c0e35",
       "next": "35c58340-55a3-11e7-b0b2-00163e9c0e35",
       "previous": "35c51928-55a3-11e7-b0b2-00163e9c0e35"
      },
      {
       "current": "35c581ba-55a3-11e7-b0b2-00163e9c0e35",
       "next": "35c58340-55a3-11e7-b0b2-00163e9c0e35",
       "previous": "b8a85906-47b6-11ea-a028-0242ac120005"
      },
      {
       "current": "35c581ba-55a3-11e7-b0b2-00163e9c0e35",
       "next": "35c58340-55a3-11e7-b0b2-00163e9c0e35",
       "previous": "35c38fae-55a3-11e7-b0b2-00163e9c0e35"
      },
      {
       "current": "35c581ba-55a3-11e7-b0b2-00163e9c0e35",
       "next": "35c58340-55a3-11e7-b0b2-00163e9c0e35",
       "previous": "35c385a4-55a3-11e7-b0b2-00163e9c0e35"
      },
      {
       "current": "35c581ba-55a3-11e7-b0b2-00163e9c0e35",
       "next": "35c58340-55a3-11e7-b0b2-00163e9c0e35",
       "previous": "27c39180-935b-11ea-8d02-0242ac120007"
      },
      {
       "current": "35c581ba-55a3-11e7-b0b2-00163e9c0e35",
       "next": "35c58340-55a3-11e7-b0b2-00163e9c0e35",
       "previous": "35c385a4-55a3-11e7-b0b2-00163e9c0e35"
      },
      {
       "current": "35c581ba-55a3-11e7-b0b2-00163e9c0e35",
       "next": "35c58340-55a3-11e7-b0b2-00163e9c0e35",
       "previous": "b20d6ace-9684-11ea-8d02-0242ac120007"
      },
      {
       "current": "35c581ba-55a3-11e7-b0b2-00163e9c0e35",
       "next": "35c58340-55a3-11e7-b0b2-00163e9c0e35",
       "previous": "18b837c6-9686-11ea-8d02-0242ac120007"
      },
      {
       "current": "35c581ba-55a3-11e7-b0b2-00163e9c0e35",
       "next": "35c58340-55a3-11e7-b0b2-00163e9c0e35",
       "previous": "59de09f6-9686-11ea-8d02-0242ac120007"
      },
      {
       "current": "35c581ba-55a3-11e7-b0b2-00163e9c0e35",
       "next": "35c58340-55a3-11e7-b0b2-00163e9c0e35",
       "previous": "7dae8b30-9686-11ea-8d02-0242ac120007"
      },
      {
       "current": "35c581ba-55a3-11e7-b0b2-00163e9c0e35",
       "next": "35c58340-55a3-11e7-b0b2-00163e9c0e35",
       "previous": "789942dc-9692-11ea-8d02-0242ac120007"
      },
      {
       "current": "35c581ba-55a3-11e7-b0b2-00163e9c0e35",
       "next": "35c58340-55a3-11e7-b0b2-00163e9c0e35",
       "previous": "e95d003a-9697-11ea-8d02-0242ac120007"
      },
      {
       "current": "35c581ba-55a3-11e7-b0b2-00163e9c0e35",
       "next": "35c58340-55a3-11e7-b0b2-00163e9c0e35",
       "previous": "357fc83a-969d-11ea-8d02-0242ac120007"
      },
      {
       "current": "35c581ba-55a3-11e7-b0b2-00163e9c0e35",
       "next": "35c58340-55a3-11e7-b0b2-00163e9c0e35",
       "previous": "7dae86da-9686-11ea-8d02-0242ac120007"
      },
      {
       "current": "35c581ba-55a3-11e7-b0b2-00163e9c0e35",
       "next": "35c58340-55a3-11e7-b0b2-00163e9c0e35",
       "previous": "49102d8c-98a9-11ea-8d02-0242ac120007"
      },
      {
       "current": "35c581ba-55a3-11e7-b0b2-00163e9c0e35",
       "next": "35c58340-55a3-11e7-b0b2-00163e9c0e35",
       "previous": "dbe917aa-9984-11ea-8d02-0242ac120007"
      },
      {
       "current": "35c581ba-55a3-11e7-b0b2-00163e9c0e35",
       "next": "35c58340-55a3-11e7-b0b2-00163e9c0e35",
       "previous": "f9f7c1a0-9985-11ea-8d02-0242ac120007"
      },
      {
       "current": "35c581ba-55a3-11e7-b0b2-00163e9c0e35",
       "next": "35c58340-55a3-11e7-b0b2-00163e9c0e35",
       "previous": "4180e646-9986-11ea-8d02-0242ac120007"
      },
      {
       "current": "35c581ba-55a3-11e7-b0b2-00163e9c0e35",
       "next": "35c58340-55a3-11e7-b0b2-00163e9c0e35",
       "previous": "eea7aafc-9987-11ea-8d02-0242ac120007"
      },
      {
       "current": "35c581ba-55a3-11e7-b0b2-00163e9c0e35",
       "next": "35c58340-55a3-11e7-b0b2-00163e9c0e35",
       "previous": "7db36be6-9988-11ea-8d02-0242ac120007"
      },
      {
       "current": "35c581ba-55a3-11e7-b0b2-00163e9c0e35",
       "next": "35c58340-55a3-11e7-b0b2-00163e9c0e35",
       "previous": "7db36a7e-9988-11ea-8d02-0242ac120007"
      },
      {
       "current": "35c581ba-55a3-11e7-b0b2-00163e9c0e35",
       "next": "35c58340-55a3-11e7-b0b2-00163e9c0e35",
       "previous": "f3e7d364-998e-11ea-8d02-0242ac120007"
      },
      {
       "current": "35c581ba-55a3-11e7-b0b2-00163e9c0e35-1-f60b",
       "next": "35c58340-55a3-11e7-b0b2-00163e9c0e35",
       "previous": "b0a33f46-98ce-11ea-8d02-0242ac120007"
      },
      {
       "current": "35c581ba-55a3-11e7-b0b2-00163e9c0e35-2-f60b-133a",
       "next": "35c58340-55a3-11e7-b0b2-00163e9c0e35-1-c0ce",
       "previous": "b0a33f46-98ce-11ea-8d02-0242ac120007-1-1e51"
      },
      {
       "current": "35c581ba-55a3-11e7-b0b2-00163e9c0e35-2-f60b-133a",
       "next": "35c58340-55a3-11e7-b0b2-00163e9c0e35-2-c0ce-9618",
       "previous": "b0a33f46-98ce-11ea-8d02-0242ac120007-2-1e51-b1e8"
      },
      {
       "current": "35c581ba-55a3-11e7-b0b2-00163e9c0e35-2-f60b-133a",
       "next": "35c58340-55a3-11e7-b0b2-00163e9c0e35-2-c0ce-9618",
       "previous": "d0769ffa-98bc-11ea-8d02-0242ac120007-2-9994-0723"
      },
      {
       "current": "35c581ba-55a3-11e7-b0b2-00163e9c0e35-2-f60b-133a",
       "next": "35c58340-55a3-11e7-b0b2-00163e9c0e35-2-c0ce-9618",
       "previous": "bc16cb02-dfce-11eb-b29f-0242ac120008"
      },
      {
       "current": "35c581ba-55a3-11e7-b0b2-00163e9c0e35-2-f60b-133a",
       "next": "35c58340-55a3-11e7-b0b2-00163e9c0e35-2-c0ce-9618",
       "previous": "c06b587c-e2d4-11eb-b29f-0242ac120008"
      },
      {
       "current": "35c581ba-55a3-11e7-b0b2-00163e9c0e35-2-f60b-133a",
       "next": "35c58340-55a3-11e7-b0b2-00163e9c0e35-2-c0ce-9618",
       "previous": "9ab92f16-e2e1-11eb-b29f-0242ac120008"
      },
      {
       "current": "35c581ba-55a3-11e7-b0b2-00163e9c0e35-2-f60b-133a",
       "next": "35c58340-55a3-11e7-b0b2-00163e9c0e35-2-c0ce-9618",
       "previous": "005c4bcc-e2e3-11eb-b29f-0242ac120008"
      },
      {
       "current": "35c581ba-55a3-11e7-b0b2-00163e9c0e35-2-f60b-133a",
       "next": "35c58340-55a3-11e7-b0b2-00163e9c0e35-2-c0ce-9618",
       "previous": "d6f26982-e2e3-11eb-b29f-0242ac120008"
      },
      {
       "current": "35c581ba-55a3-11e7-b0b2-00163e9c0e35-2-f60b-133a",
       "next": "35c58340-55a3-11e7-b0b2-00163e9c0e35-2-c0ce-9618",
       "previous": "84249d0e-e2e5-11eb-b29f-0242ac120008"
      },
      {
       "current": "35c581ba-55a3-11e7-b0b2-00163e9c0e35-2-f60b-133a",
       "next": "35c58340-55a3-11e7-b0b2-00163e9c0e35-2-c0ce-9618",
       "previous": "ce04e784-edcc-11eb-b29f-0242ac120008"
      },
      {
       "current": "35c581ba-55a3-11e7-b0b2-00163e9c0e35-2-f60b-133a",
       "next": "35c58340-55a3-11e7-b0b2-00163e9c0e35-2-c0ce-9618",
       "previous": "584d8882-edf1-11eb-b29f-0242ac120008"
      },
      {
       "current": "35c581ba-55a3-11e7-b0b2-00163e9c0e35-2-f60b-133a",
       "next": "35c58340-55a3-11e7-b0b2-00163e9c0e35-2-c0ce-9618",
       "previous": "9fcf1c02-edf1-11eb-b29f-0242ac120008"
      },
      {
       "current": "35c581ba-55a3-11e7-b0b2-00163e9c0e35-2-f60b-133a",
       "next": "35c58340-55a3-11e7-b0b2-00163e9c0e35-2-c0ce-9618",
       "previous": "e7555438-edf1-11eb-b29f-0242ac120008"
      },
      {
       "current": "35c581ba-55a3-11e7-b0b2-00163e9c0e35-2-f60b-133a",
       "next": "35c58340-55a3-11e7-b0b2-00163e9c0e35-2-c0ce-9618",
       "previous": "238c5d8c-edf4-11eb-b29f-0242ac120008"
      },
      {
       "current": "35c581ba-55a3-11e7-b0b2-00163e9c0e35-2-f60b-133a",
       "next": "35c58340-55a3-11e7-b0b2-00163e9c0e35-2-c0ce-9618",
       "previous": "af943734-f509-11eb-b29f-0242ac120008"
      },
      {
       "current": "35c581ba-55a3-11e7-b0b2-00163e9c0e35-2-f60b-133a",
       "next": "35c58340-55a3-11e7-b0b2-00163e9c0e35-2-c0ce-9618",
       "previous": "e7c801b2-f509-11eb-b29f-0242ac120008"
      },
      {
       "current": "35c581ba-55a3-11e7-b0b2-00163e9c0e35-2-f60b-133a",
       "next": "35c58340-55a3-11e7-b0b2-00163e9c0e35-2-c0ce-9618",
       "previous": "e7c7fe1a-f509-11eb-b29f-0242ac120008"
      },
      {
       "current": "35c581ba-55a3-11e7-b0b2-00163e9c0e35-2-f60b-133a",
       "next": "35c58340-55a3-11e7-b0b2-00163e9c0e35-2-c0ce-9618",
       "previous": "238c5bde-edf4-11eb-b29f-0242ac120008"
      },
      {
       "current": "35c581ba-55a3-11e7-b0b2-00163e9c0e35-2-f60b-133a",
       "next": "35c58340-55a3-11e7-b0b2-00163e9c0e35-2-c0ce-9618",
       "previous": "24545ae4-4488-11ed-8111-0242ac120008"
      },
      {
       "current": "35c581ba-55a3-11e7-b0b2-00163e9c0e35-3-f60b-133a-c274",
       "next": "35c58340-55a3-11e7-b0b2-00163e9c0e35-2-c0ce-9618",
       "previous": "24545a6c-4488-11ed-8111-0242ac120008"
      },
      {
       "current": "35c581ba-55a3-11e7-b0b2-00163e9c0e35-3-f60b-133a-c274",
       "next": "35c58340-55a3-11e7-b0b2-00163e9c0e35-3-c0ce-9618-3ee6",
       "previous": "24545a6c-4488-11ed-8111-0242ac120008-1-0189"
      },
      {
       "current": "35c581ba-55a3-11e7-b0b2-00163e9c0e35-3-f60b-133a-c274",
       "next": "35c58340-55a3-11e7-b0b2-00163e9c0e35-3-c0ce-9618-3ee6",
       "previous": "2c282720-4d1d-11ee-89fa-0242ac120005"
      },
      {
       "current": "35c581ba-55a3-11e7-b0b2-00163e9c0e35-3-f60b-133a-c274",
       "next": "35c58340-55a3-11e7-b0b2-00163e9c0e35-3-c0ce-9618-3ee6",
       "previous": "2c2825c2-4d1d-11ee-89fa-0242ac120005"
      },
      {
       "current": "35c581ba-55a3-11e7-b0b2-00163e9c0e35-3-f60b-133a-c274",
       "next": "35c58340-55a3-11e7-b0b2-00163e9c0e35-3-c0ce-9618-3ee6",
       "previous": "16c54350-5d02-11ee-89fa-0242ac120005"
      },
      {
       "current": "35c581ba-55a3-11e7-b0b2-00163e9c0e35-3-f60b-133a-c274",
       "next": "35c58340-55a3-11e7-b0b2-00163e9c0e35-3-c0ce-9618-3ee6",
       "previous": "9ad840be-610a-11ee-89fa-0242ac120005"
      },
      {
       "current": "35c581ba-55a3-11e7-b0b2-00163e9c0e35-3-f60b-133a-c274",
       "next": "35c58340-55a3-11e7-b0b2-00163e9c0e35-3-c0ce-9618-3ee6",
       "previous": "9436a6ca-6401-11ee-89fa-0242ac120005"
      },
      {
       "current": "35c581ba-55a3-11e7-b0b2-00163e9c0e35-3-f60b-133a-c274",
       "next": "35c58340-55a3-11e7-b0b2-00163e9c0e35-3-c0ce-9618-3ee6",
       "previous": "fa219c78-6402-11ee-89fa-0242ac120005"
      },
      {
       "current": "35c581ba-55a3-11e7-b0b2-00163e9c0e35-3-f60b-133a-c274",
       "next": "35c58340-55a3-11e7-b0b2-00163e9c0e35-3-c0ce-9618-3ee6",
       "previous": "41b1cf54-6403-11ee-89fa-0242ac120005"
      },
      {
       "current": "35c581ba-55a3-11e7-b0b2-00163e9c0e35-4-f60b-133a-c274-adfc",
       "next": "35c58340-55a3-11e7-b0b2-00163e9c0e35-3-c0ce-9618-3ee6",
       "previous": "a1267fe2-6413-11ee-89fa-0242ac120005"
      },
      {
       "current": "35c581ba-55a3-11e7-b0b2-00163e9c0e35-5-f60b-133a-c274-adfc-40da",
       "next": "35c58340-55a3-11e7-b0b2-00163e9c0e35-4-c0ce-9618-3ee6-961a",
       "previous": "a1267fe2-6413-11ee-89fa-0242ac120005-1-8d11"
      },
      {
       "current": "35c581ba-55a3-11e7-b0b2-00163e9c0e35-6-f60b-133a-c274-adfc-40da-0154",
       "next": "35c58340-55a3-11e7-b0b2-00163e9c0e35-5-c0ce-9618-3ee6-961a-138b",
       "previous": "a1267fe2-6413-11ee-89fa-0242ac120005-2-8d11-ba27"
      },
      {
       "current": "35c581ba-55a3-11e7-b0b2-00163e9c0e35-7-f60b-133a-c274-adfc-40da-0154-8723",
       "next": "35c58340-55a3-11e7-b0b2-00163e9c0e35-6-c0ce-9618-3ee6-961a-138b-6239",
       "previous": "a1267fe2-6413-11ee-89fa-0242ac120005-3-8d11-ba27-83c7"
      },
      {
       "current": "35c581ba-55a3-11e7-b0b2-00163e9c0e35-8-f60b-133a-c274-adfc-40da-0154-8723-b1ea",
       "next": "35c58340-55a3-11e7-b0b2-00163e9c0e35-7-c0ce-9618-3ee6-961a-138b-6239-8bc8",
       "previous": "a1267fe2-6413-11ee-89fa-0242ac120005-4-8d11-ba27-83c7-1ef4"
      }
     ],
     "next": "35c58340-55a3-11e7-b0b2-00163e9c0e35-8-c0ce-9618-3ee6-961a-138b-6239-8bc8-5d5d",
     "previous": "a1267fe2-6413-11ee-89fa-0242ac120005-5-8d11-ba27-83c7-1ef4-f906"
    }
   },
   "source": [
    "# 後始末\n",
    "\n",
    "一時ディレクトリを削除する。"
   ]
  },
  {
   "cell_type": "code",
   "execution_count": null,
   "metadata": {
    "ExecuteTime": {
     "end_time": "2017-06-29T08:01:20.617274Z",
     "start_time": "2017-06-29T08:01:20.466671Z"
    },
    "lc_cell_meme": {
     "current": "35c58340-55a3-11e7-b0b2-00163e9c0e35-8-c0ce-9618-3ee6-961a-138b-6239-8bc8-5d5d",
     "history": [
      {
       "current": "35c58340-55a3-11e7-b0b2-00163e9c0e35",
       "next": null,
       "previous": "35c581ba-55a3-11e7-b0b2-00163e9c0e35"
      },
      {
       "current": "35c58340-55a3-11e7-b0b2-00163e9c0e35-1-c0ce",
       "next": "c4bd8ce4-5749-11e7-b0b2-00163e9c0e35",
       "previous": "35c581ba-55a3-11e7-b0b2-00163e9c0e35"
      },
      {
       "current": "35c58340-55a3-11e7-b0b2-00163e9c0e35-2-c0ce-9618",
       "next": "c4bd8ce4-5749-11e7-b0b2-00163e9c0e35-1-6c35",
       "previous": "35c581ba-55a3-11e7-b0b2-00163e9c0e35-1-f60b"
      },
      {
       "current": "35c58340-55a3-11e7-b0b2-00163e9c0e35-3-c0ce-9618-3ee6",
       "next": "c4bd8ce4-5749-11e7-b0b2-00163e9c0e35-2-6c35-ebfb",
       "previous": "35c581ba-55a3-11e7-b0b2-00163e9c0e35-2-f60b-133a"
      },
      {
       "current": "35c58340-55a3-11e7-b0b2-00163e9c0e35-4-c0ce-9618-3ee6-961a",
       "next": "c4bd8ce4-5749-11e7-b0b2-00163e9c0e35-3-6c35-ebfb-116d",
       "previous": "35c581ba-55a3-11e7-b0b2-00163e9c0e35-3-f60b-133a-c274"
      },
      {
       "current": "35c58340-55a3-11e7-b0b2-00163e9c0e35-5-c0ce-9618-3ee6-961a-138b",
       "next": "c4bd8ce4-5749-11e7-b0b2-00163e9c0e35-4-6c35-ebfb-116d-2aa2",
       "previous": "35c581ba-55a3-11e7-b0b2-00163e9c0e35-4-f60b-133a-c274-adfc"
      },
      {
       "current": "35c58340-55a3-11e7-b0b2-00163e9c0e35-6-c0ce-9618-3ee6-961a-138b-6239",
       "next": "c4bd8ce4-5749-11e7-b0b2-00163e9c0e35-5-6c35-ebfb-116d-2aa2-6262",
       "previous": "35c581ba-55a3-11e7-b0b2-00163e9c0e35-5-f60b-133a-c274-adfc-40da"
      },
      {
       "current": "35c58340-55a3-11e7-b0b2-00163e9c0e35-7-c0ce-9618-3ee6-961a-138b-6239-8bc8",
       "next": "c4bd8ce4-5749-11e7-b0b2-00163e9c0e35-6-6c35-ebfb-116d-2aa2-6262-7e87",
       "previous": "35c581ba-55a3-11e7-b0b2-00163e9c0e35-6-f60b-133a-c274-adfc-40da-0154"
      },
      {
       "current": "35c58340-55a3-11e7-b0b2-00163e9c0e35-8-c0ce-9618-3ee6-961a-138b-6239-8bc8-5d5d",
       "next": "c4bd8ce4-5749-11e7-b0b2-00163e9c0e35-7-6c35-ebfb-116d-2aa2-6262-7e87-66be",
       "previous": "35c581ba-55a3-11e7-b0b2-00163e9c0e35-7-f60b-133a-c274-adfc-40da-0154-8723"
      }
     ],
     "next": "c4bd8ce4-5749-11e7-b0b2-00163e9c0e35-8-6c35-ebfb-116d-2aa2-6262-7e87-66be-2b60",
     "previous": "35c581ba-55a3-11e7-b0b2-00163e9c0e35-8-f60b-133a-c274-adfc-40da-0154-8723-b1ea"
    }
   },
   "outputs": [],
   "source": [
    "!rm -fr $temp_dir"
   ]
  },
  {
   "cell_type": "code",
   "execution_count": null,
   "metadata": {
    "lc_cell_meme": {
     "current": "c4bd8ce4-5749-11e7-b0b2-00163e9c0e35-8-6c35-ebfb-116d-2aa2-6262-7e87-66be-2b60",
     "history": [
      {
       "current": "c4bd8ce4-5749-11e7-b0b2-00163e9c0e35-1-6c35",
       "next": null,
       "previous": "35c58340-55a3-11e7-b0b2-00163e9c0e35"
      },
      {
       "current": "c4bd8ce4-5749-11e7-b0b2-00163e9c0e35-2-6c35-ebfb",
       "next": null,
       "previous": "35c58340-55a3-11e7-b0b2-00163e9c0e35-1-c0ce"
      },
      {
       "current": "c4bd8ce4-5749-11e7-b0b2-00163e9c0e35-3-6c35-ebfb-116d",
       "next": null,
       "previous": "35c58340-55a3-11e7-b0b2-00163e9c0e35-2-c0ce-9618"
      },
      {
       "current": "c4bd8ce4-5749-11e7-b0b2-00163e9c0e35-4-6c35-ebfb-116d-2aa2",
       "next": null,
       "previous": "35c58340-55a3-11e7-b0b2-00163e9c0e35-3-c0ce-9618-3ee6"
      },
      {
       "current": "c4bd8ce4-5749-11e7-b0b2-00163e9c0e35-5-6c35-ebfb-116d-2aa2-6262",
       "next": null,
       "previous": "35c58340-55a3-11e7-b0b2-00163e9c0e35-4-c0ce-9618-3ee6-961a"
      },
      {
       "current": "c4bd8ce4-5749-11e7-b0b2-00163e9c0e35-6-6c35-ebfb-116d-2aa2-6262-7e87",
       "next": null,
       "previous": "35c58340-55a3-11e7-b0b2-00163e9c0e35-5-c0ce-9618-3ee6-961a-138b"
      },
      {
       "current": "c4bd8ce4-5749-11e7-b0b2-00163e9c0e35-7-6c35-ebfb-116d-2aa2-6262-7e87-66be",
       "next": null,
       "previous": "35c58340-55a3-11e7-b0b2-00163e9c0e35-6-c0ce-9618-3ee6-961a-138b-6239"
      },
      {
       "current": "c4bd8ce4-5749-11e7-b0b2-00163e9c0e35-8-6c35-ebfb-116d-2aa2-6262-7e87-66be-2b60",
       "next": null,
       "previous": "35c58340-55a3-11e7-b0b2-00163e9c0e35-7-c0ce-9618-3ee6-961a-138b-6239-8bc8"
      }
     ],
     "next": null,
     "previous": "35c58340-55a3-11e7-b0b2-00163e9c0e35-8-c0ce-9618-3ee6-961a-138b-6239-8bc8-5d5d"
    }
   },
   "outputs": [],
   "source": []
  }
 ],
 "metadata": {
  "kernelspec": {
   "display_name": "Python 3",
   "language": "python",
   "name": "python3"
  },
  "language_info": {
   "file_extension": ".py",
   "mimetype": "text/x-python",
   "name": "python",
   "nbconvert_exporter": "python",
   "pygments_lexer": "ipython3",
   "version": "3.10.4"
  },
  "lc_notebook_meme": {
   "current": "35c33086-55a3-11e7-b0b2-00163e9c0e35"
  },
  "toc": {
   "base_numbering": 1,
   "nav_menu": {
    "height": "484px",
    "width": "687px"
   },
   "number_sections": true,
   "sideBar": true,
   "skip_h1_title": false,
   "title_cell": "Table of Contents",
   "title_sidebar": "Contents",
   "toc_cell": false,
   "toc_position": {
    "height": "1156px",
    "left": "25px",
    "right": "1330px",
    "top": "111.133px",
    "width": "340.983px"
   },
   "toc_section_display": true,
   "toc_window_display": true
  }
 },
 "nbformat": 4,
 "nbformat_minor": 1
}
