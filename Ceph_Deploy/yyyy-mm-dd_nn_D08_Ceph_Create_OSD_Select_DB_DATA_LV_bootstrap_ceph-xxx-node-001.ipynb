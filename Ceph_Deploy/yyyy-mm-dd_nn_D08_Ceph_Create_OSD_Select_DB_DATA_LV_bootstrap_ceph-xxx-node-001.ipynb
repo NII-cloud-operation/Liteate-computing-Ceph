{
 "cells": [
  {
   "cell_type": "markdown",
   "metadata": {
    "collapsed": true,
    "lc_cell_meme": {
     "current": "35c33414-55a3-11e7-b0b2-00163e9c0e35-7-1c66-a2f2-5794-99e5-e317-2505-3a14",
     "history": [
      {
       "current": "35c33414-55a3-11e7-b0b2-00163e9c0e35",
       "next": "35c33626-55a3-11e7-b0b2-00163e9c0e35",
       "previous": null
      },
      {
       "current": "35c33414-55a3-11e7-b0b2-00163e9c0e35",
       "next": "35c33626-55a3-11e7-b0b2-00163e9c0e35",
       "previous": null
      },
      {
       "current": "35c33414-55a3-11e7-b0b2-00163e9c0e35",
       "next": "35c33626-55a3-11e7-b0b2-00163e9c0e35",
       "previous": "0db87670-9586-11ea-8d02-0242ac120007"
      },
      {
       "current": "35c33414-55a3-11e7-b0b2-00163e9c0e35-1-1c66",
       "next": "35c337f2-55a3-11e7-b0b2-00163e9c0e35",
       "previous": null
      },
      {
       "current": "35c33414-55a3-11e7-b0b2-00163e9c0e35-2-1c66-a2f2",
       "next": "35c337f2-55a3-11e7-b0b2-00163e9c0e35-1-dc7a",
       "previous": null
      },
      {
       "current": "35c33414-55a3-11e7-b0b2-00163e9c0e35-3-1c66-a2f2-5794",
       "next": "35c337f2-55a3-11e7-b0b2-00163e9c0e35-2-dc7a-5832",
       "previous": null
      },
      {
       "current": "35c33414-55a3-11e7-b0b2-00163e9c0e35-4-1c66-a2f2-5794-99e5",
       "next": "37fd6298-56f9-11ec-a1da-0242ac120004-2-399a-3442",
       "previous": null
      },
      {
       "current": "35c33414-55a3-11e7-b0b2-00163e9c0e35-5-1c66-a2f2-5794-99e5-e317",
       "next": "37fd6298-56f9-11ec-a1da-0242ac120004-3-399a-3442-fcbe",
       "previous": null
      },
      {
       "current": "35c33414-55a3-11e7-b0b2-00163e9c0e35-6-1c66-a2f2-5794-99e5-e317-2505",
       "next": "37fd6298-56f9-11ec-a1da-0242ac120004-4-399a-3442-fcbe-5b9d",
       "previous": null
      },
      {
       "current": "35c33414-55a3-11e7-b0b2-00163e9c0e35-7-1c66-a2f2-5794-99e5-e317-2505-3a14",
       "next": "37fd6298-56f9-11ec-a1da-0242ac120004-5-399a-3442-fcbe-5b9d-3615",
       "previous": null
      }
     ],
     "next": "37fd6298-56f9-11ec-a1da-0242ac120004-6-399a-3442-fcbe-5b9d-3615-b9b5",
     "previous": null
    }
   },
   "source": [
    "# Cephノード構築：bootstrapホスト 未使用LVを選択してOSD生成\n",
    "CepnクラスタにOSDを生成<br>\n",
    "事前に生成したOSD用のDBとDATA用LVを選択してOSDを生成。"
   ]
  },
  {
   "cell_type": "markdown",
   "metadata": {
    "lc_cell_meme": {
     "current": "37fd6298-56f9-11ec-a1da-0242ac120004-6-399a-3442-fcbe-5b9d-3615-b9b5",
     "history": [
      {
       "current": "37fd6298-56f9-11ec-a1da-0242ac120004-1-399a",
       "next": "37fd65a4-56f9-11ec-a1da-0242ac120004",
       "previous": "35c337f2-55a3-11e7-b0b2-00163e9c0e35-1-dc7a"
      },
      {
       "current": "37fd6298-56f9-11ec-a1da-0242ac120004-2-399a-3442",
       "next": "37fd65a4-56f9-11ec-a1da-0242ac120004-1-0c3c",
       "previous": "35c337f2-55a3-11e7-b0b2-00163e9c0e35-2-dc7a-5832"
      },
      {
       "current": "37fd6298-56f9-11ec-a1da-0242ac120004-3-399a-3442-fcbe",
       "next": "37fd65a4-56f9-11ec-a1da-0242ac120004-2-0c3c-e765",
       "previous": "35c33414-55a3-11e7-b0b2-00163e9c0e35-3-1c66-a2f2-5794"
      },
      {
       "current": "37fd6298-56f9-11ec-a1da-0242ac120004-4-399a-3442-fcbe-5b9d",
       "next": "37fd65a4-56f9-11ec-a1da-0242ac120004-3-0c3c-e765-01d7",
       "previous": "35c33414-55a3-11e7-b0b2-00163e9c0e35-4-1c66-a2f2-5794-99e5"
      },
      {
       "current": "37fd6298-56f9-11ec-a1da-0242ac120004-5-399a-3442-fcbe-5b9d-3615",
       "next": "37fd65a4-56f9-11ec-a1da-0242ac120004-4-0c3c-e765-01d7-9969",
       "previous": "35c33414-55a3-11e7-b0b2-00163e9c0e35-5-1c66-a2f2-5794-99e5-e317"
      },
      {
       "current": "37fd6298-56f9-11ec-a1da-0242ac120004-6-399a-3442-fcbe-5b9d-3615-b9b5",
       "next": "37fd65a4-56f9-11ec-a1da-0242ac120004-5-0c3c-e765-01d7-9969-2396",
       "previous": "35c33414-55a3-11e7-b0b2-00163e9c0e35-6-1c66-a2f2-5794-99e5-e317-2505"
      }
     ],
     "next": "37fd65a4-56f9-11ec-a1da-0242ac120004-6-0c3c-e765-01d7-9969-2396-6c82",
     "previous": "35c33414-55a3-11e7-b0b2-00163e9c0e35-7-1c66-a2f2-5794-99e5-e317-2505-3a14"
    }
   },
   "source": [
    "# パラメータ定義"
   ]
  },
  {
   "cell_type": "markdown",
   "metadata": {
    "lc_cell_meme": {
     "current": "37fd65a4-56f9-11ec-a1da-0242ac120004-6-0c3c-e765-01d7-9969-2396-6c82",
     "history": [
      {
       "current": "37fd65a4-56f9-11ec-a1da-0242ac120004-1-0c3c",
       "next": "37fd681a-56f9-11ec-a1da-0242ac120004",
       "previous": "37fd6298-56f9-11ec-a1da-0242ac120004"
      },
      {
       "current": "37fd65a4-56f9-11ec-a1da-0242ac120004-2-0c3c-e765",
       "next": "37fd681a-56f9-11ec-a1da-0242ac120004-1-b4aa",
       "previous": "37fd6298-56f9-11ec-a1da-0242ac120004-1-399a"
      },
      {
       "current": "37fd65a4-56f9-11ec-a1da-0242ac120004-3-0c3c-e765-01d7",
       "next": "37fd681a-56f9-11ec-a1da-0242ac120004-2-b4aa-9936",
       "previous": "37fd6298-56f9-11ec-a1da-0242ac120004-2-399a-3442"
      },
      {
       "current": "37fd65a4-56f9-11ec-a1da-0242ac120004-4-0c3c-e765-01d7-9969",
       "next": "37fd681a-56f9-11ec-a1da-0242ac120004-3-b4aa-9936-1e73",
       "previous": "37fd6298-56f9-11ec-a1da-0242ac120004-3-399a-3442-fcbe"
      },
      {
       "current": "37fd65a4-56f9-11ec-a1da-0242ac120004-5-0c3c-e765-01d7-9969-2396",
       "next": "37fd681a-56f9-11ec-a1da-0242ac120004-4-b4aa-9936-1e73-1f55",
       "previous": "37fd6298-56f9-11ec-a1da-0242ac120004-4-399a-3442-fcbe-5b9d"
      },
      {
       "current": "37fd65a4-56f9-11ec-a1da-0242ac120004-6-0c3c-e765-01d7-9969-2396-6c82",
       "next": "37fd681a-56f9-11ec-a1da-0242ac120004-5-b4aa-9936-1e73-1f55-b668",
       "previous": "37fd6298-56f9-11ec-a1da-0242ac120004-5-399a-3442-fcbe-5b9d-3615"
      }
     ],
     "next": "37fd681a-56f9-11ec-a1da-0242ac120004-6-b4aa-9936-1e73-1f55-b668-d5ca",
     "previous": "37fd6298-56f9-11ec-a1da-0242ac120004-6-399a-3442-fcbe-5b9d-3615-b9b5"
    }
   },
   "source": [
    "## パラメータファイル設定"
   ]
  },
  {
   "cell_type": "markdown",
   "metadata": {
    "lc_cell_meme": {
     "current": "37fd681a-56f9-11ec-a1da-0242ac120004-6-b4aa-9936-1e73-1f55-b668-d5ca",
     "history": [
      {
       "current": "37fd681a-56f9-11ec-a1da-0242ac120004-1-b4aa",
       "next": "37fd6996-56f9-11ec-a1da-0242ac120004",
       "previous": "37fd65a4-56f9-11ec-a1da-0242ac120004"
      },
      {
       "current": "37fd681a-56f9-11ec-a1da-0242ac120004-2-b4aa-9936",
       "next": "37fd6996-56f9-11ec-a1da-0242ac120004-1-d6f6",
       "previous": "37fd65a4-56f9-11ec-a1da-0242ac120004-1-0c3c"
      },
      {
       "current": "37fd681a-56f9-11ec-a1da-0242ac120004-3-b4aa-9936-1e73",
       "next": "37fd6996-56f9-11ec-a1da-0242ac120004-2-d6f6-e63c",
       "previous": "37fd65a4-56f9-11ec-a1da-0242ac120004-2-0c3c-e765"
      },
      {
       "current": "37fd681a-56f9-11ec-a1da-0242ac120004-4-b4aa-9936-1e73-1f55",
       "next": "37fd6996-56f9-11ec-a1da-0242ac120004-3-d6f6-e63c-31a0",
       "previous": "37fd65a4-56f9-11ec-a1da-0242ac120004-3-0c3c-e765-01d7"
      },
      {
       "current": "37fd681a-56f9-11ec-a1da-0242ac120004-5-b4aa-9936-1e73-1f55-b668",
       "next": "16d99eae-1cc9-11ef-ad2f-0242ac120005",
       "previous": "37fd65a4-56f9-11ec-a1da-0242ac120004-4-0c3c-e765-01d7-9969"
      },
      {
       "current": "37fd681a-56f9-11ec-a1da-0242ac120004-6-b4aa-9936-1e73-1f55-b668-d5ca",
       "next": "16d99eae-1cc9-11ef-ad2f-0242ac120005-1-02f9",
       "previous": "37fd65a4-56f9-11ec-a1da-0242ac120004-5-0c3c-e765-01d7-9969-2396"
      }
     ],
     "next": "16d99eae-1cc9-11ef-ad2f-0242ac120005-2-02f9-59b0",
     "previous": "37fd65a4-56f9-11ec-a1da-0242ac120004-6-0c3c-e765-01d7-9969-2396-6c82"
    }
   },
   "source": [
    "Cephクラスタの定義ファイルを指定するため、<br>\n",
    "パラメータ定義格納ディレクトリを表示する。"
   ]
  },
  {
   "cell_type": "code",
   "execution_count": null,
   "metadata": {
    "lc_cell_meme": {
     "current": "16d99eae-1cc9-11ef-ad2f-0242ac120005-2-02f9-59b0",
     "history": [
      {
       "current": "16d99eae-1cc9-11ef-ad2f-0242ac120005-1-02f9",
       "next": "16d99f94-1cc9-11ef-ad2f-0242ac120005",
       "previous": "37fd681a-56f9-11ec-a1da-0242ac120004-4-b4aa-9936-1e73-1f55"
      },
      {
       "current": "16d99eae-1cc9-11ef-ad2f-0242ac120005-2-02f9-59b0",
       "next": "16d99f94-1cc9-11ef-ad2f-0242ac120005-1-49ce",
       "previous": "37fd681a-56f9-11ec-a1da-0242ac120004-5-b4aa-9936-1e73-1f55-b668"
      }
     ],
     "next": "16d99f94-1cc9-11ef-ad2f-0242ac120005-2-49ce-e8c4",
     "previous": "37fd681a-56f9-11ec-a1da-0242ac120004-6-b4aa-9936-1e73-1f55-b668-d5ca"
    }
   },
   "outputs": [],
   "source": [
    "!ls -p ~/notebooks/share/ | grep \"/$\""
   ]
  },
  {
   "cell_type": "code",
   "execution_count": null,
   "metadata": {
    "lc_cell_meme": {
     "current": "16d99f94-1cc9-11ef-ad2f-0242ac120005-2-49ce-e8c4",
     "history": [
      {
       "current": "16d99f94-1cc9-11ef-ad2f-0242ac120005-1-49ce",
       "next": "16d99fc6-1cc9-11ef-ad2f-0242ac120005",
       "previous": "16d99eae-1cc9-11ef-ad2f-0242ac120005"
      },
      {
       "current": "16d99f94-1cc9-11ef-ad2f-0242ac120005-2-49ce-e8c4",
       "next": "16d99fc6-1cc9-11ef-ad2f-0242ac120005-1-87d8",
       "previous": "16d99eae-1cc9-11ef-ad2f-0242ac120005-1-02f9"
      }
     ],
     "next": "16d99fc6-1cc9-11ef-ad2f-0242ac120005-2-87d8-e741",
     "previous": "16d99eae-1cc9-11ef-ad2f-0242ac120005-2-02f9-59b0"
    }
   },
   "outputs": [],
   "source": [
    "!ls -p ~/notebooks/share/configuration"
   ]
  },
  {
   "cell_type": "code",
   "execution_count": null,
   "metadata": {
    "lc_cell_meme": {
     "current": "16d99fc6-1cc9-11ef-ad2f-0242ac120005-2-87d8-e741",
     "history": [
      {
       "current": "16d99fc6-1cc9-11ef-ad2f-0242ac120005-1-87d8",
       "next": "16d99ff8-1cc9-11ef-ad2f-0242ac120005",
       "previous": "16d99f94-1cc9-11ef-ad2f-0242ac120005"
      },
      {
       "current": "16d99fc6-1cc9-11ef-ad2f-0242ac120005-2-87d8-e741",
       "next": "16d99ff8-1cc9-11ef-ad2f-0242ac120005-1-1fd0",
       "previous": "16d99f94-1cc9-11ef-ad2f-0242ac120005-1-49ce"
      }
     ],
     "next": "16d99ff8-1cc9-11ef-ad2f-0242ac120005-2-1fd0-b68e",
     "previous": "16d99f94-1cc9-11ef-ad2f-0242ac120005-2-49ce-e8c4"
    }
   },
   "outputs": [],
   "source": [
    "!ls -p ~/notebooks/share/configuration/ceph"
   ]
  },
  {
   "cell_type": "code",
   "execution_count": null,
   "metadata": {
    "lc_cell_meme": {
     "current": "16d99ff8-1cc9-11ef-ad2f-0242ac120005-2-1fd0-b68e",
     "history": [
      {
       "current": "16d99ff8-1cc9-11ef-ad2f-0242ac120005-1-1fd0",
       "next": "16d9a020-1cc9-11ef-ad2f-0242ac120005",
       "previous": "16d99fc6-1cc9-11ef-ad2f-0242ac120005"
      },
      {
       "current": "16d99ff8-1cc9-11ef-ad2f-0242ac120005-2-1fd0-b68e",
       "next": "16d9a020-1cc9-11ef-ad2f-0242ac120005-1-8ac7",
       "previous": "16d99fc6-1cc9-11ef-ad2f-0242ac120005-1-87d8"
      }
     ],
     "next": "16d9a020-1cc9-11ef-ad2f-0242ac120005-2-8ac7-452a",
     "previous": "16d99fc6-1cc9-11ef-ad2f-0242ac120005-2-87d8-e741"
    }
   },
   "outputs": [],
   "source": [
    "import sys, os.path, importlib, json, yaml\n",
    "\n",
    "config_file_name = \"ceph_admin_vm.yml\"\n",
    "config_file_path = os.path.expanduser(\"~/notebooks/share/configuration/ceph/{}\".format(config_file_name))\n",
    "with open(config_file_path) as f:\n",
    "    admin_params = yaml.safe_load(f)\n",
    "admin_params"
   ]
  },
  {
   "cell_type": "code",
   "execution_count": null,
   "metadata": {
    "lc_cell_meme": {
     "current": "16d9a020-1cc9-11ef-ad2f-0242ac120005-2-8ac7-452a",
     "history": [
      {
       "current": "16d9a020-1cc9-11ef-ad2f-0242ac120005-1-8ac7",
       "next": "16d9a048-1cc9-11ef-ad2f-0242ac120005",
       "previous": "16d99ff8-1cc9-11ef-ad2f-0242ac120005"
      },
      {
       "current": "16d9a020-1cc9-11ef-ad2f-0242ac120005-2-8ac7-452a",
       "next": "16d9a048-1cc9-11ef-ad2f-0242ac120005-1-8f63",
       "previous": "16d99ff8-1cc9-11ef-ad2f-0242ac120005-1-1fd0"
      }
     ],
     "next": "16d9a048-1cc9-11ef-ad2f-0242ac120005-2-8f63-b0f7",
     "previous": "16d99ff8-1cc9-11ef-ad2f-0242ac120005-2-1fd0-b68e"
    }
   },
   "outputs": [],
   "source": [
    "target_vm_name = 'xxx-ceph-admin1'\n",
    "admin_patam = admin_params[target_vm_name]\n",
    "admin_patam"
   ]
  },
  {
   "cell_type": "code",
   "execution_count": null,
   "metadata": {
    "lc_cell_meme": {
     "current": "16d9a048-1cc9-11ef-ad2f-0242ac120005-2-8f63-b0f7",
     "history": [
      {
       "current": "16d9a048-1cc9-11ef-ad2f-0242ac120005-1-8f63",
       "next": "16d9a0fc-1cc9-11ef-ad2f-0242ac120005",
       "previous": "16d9a020-1cc9-11ef-ad2f-0242ac120005"
      },
      {
       "current": "16d9a048-1cc9-11ef-ad2f-0242ac120005-2-8f63-b0f7",
       "next": "16d9a0fc-1cc9-11ef-ad2f-0242ac120005-1-8c69",
       "previous": "16d9a020-1cc9-11ef-ad2f-0242ac120005-1-8ac7"
      }
     ],
     "next": "16d9a0fc-1cc9-11ef-ad2f-0242ac120005-2-8c69-6fb1",
     "previous": "16d9a020-1cc9-11ef-ad2f-0242ac120005-2-8ac7-452a"
    }
   },
   "outputs": [],
   "source": [
    "ceph_admin_ip = admin_patam['network']['provisioning']['ip']"
   ]
  },
  {
   "cell_type": "code",
   "execution_count": null,
   "metadata": {
    "lc_cell_meme": {
     "current": "16d9a0fc-1cc9-11ef-ad2f-0242ac120005-2-8c69-6fb1",
     "history": [
      {
       "current": "16d9a0fc-1cc9-11ef-ad2f-0242ac120005-1-8c69",
       "next": "16d9a124-1cc9-11ef-ad2f-0242ac120005",
       "previous": "16d9a048-1cc9-11ef-ad2f-0242ac120005"
      },
      {
       "current": "16d9a0fc-1cc9-11ef-ad2f-0242ac120005-2-8c69-6fb1",
       "next": "16d9a124-1cc9-11ef-ad2f-0242ac120005-1-ef1c",
       "previous": "16d9a048-1cc9-11ef-ad2f-0242ac120005-1-8f63"
      }
     ],
     "next": "16d9a124-1cc9-11ef-ad2f-0242ac120005-2-ef1c-7cd9",
     "previous": "16d9a048-1cc9-11ef-ad2f-0242ac120005-2-8f63-b0f7"
    }
   },
   "outputs": [],
   "source": [
    "import sys, os.path, importlib, json, yaml\n",
    "\n",
    "config_file_name = \"xxx-openstack-parameter.yml\"\n",
    "config_file_path = os.path.expanduser(\"~/notebooks/share/configuration/{}\".format(config_file_name))\n",
    "with open(config_file_path) as f:\n",
    "    params = yaml.safe_load(f)\n",
    "params"
   ]
  },
  {
   "cell_type": "code",
   "execution_count": null,
   "metadata": {
    "lc_cell_meme": {
     "current": "16d9a124-1cc9-11ef-ad2f-0242ac120005-2-ef1c-7cd9",
     "history": [
      {
       "current": "16d9a124-1cc9-11ef-ad2f-0242ac120005-1-ef1c",
       "next": "16d9a14c-1cc9-11ef-ad2f-0242ac120005",
       "previous": "16d9a0fc-1cc9-11ef-ad2f-0242ac120005"
      },
      {
       "current": "16d9a124-1cc9-11ef-ad2f-0242ac120005-2-ef1c-7cd9",
       "next": "16d9a14c-1cc9-11ef-ad2f-0242ac120005-1-e19a",
       "previous": "16d9a0fc-1cc9-11ef-ad2f-0242ac120005-1-8c69"
      }
     ],
     "next": "16d9a14c-1cc9-11ef-ad2f-0242ac120005-2-e19a-fb60",
     "previous": "16d9a0fc-1cc9-11ef-ad2f-0242ac120005-2-8c69-6fb1"
    }
   },
   "outputs": [],
   "source": [
    "repo_server = params['repository']['addresses']['service_operation']\n",
    "repo_server"
   ]
  },
  {
   "cell_type": "code",
   "execution_count": null,
   "metadata": {
    "lc_cell_meme": {
     "current": "16d9a14c-1cc9-11ef-ad2f-0242ac120005-2-e19a-fb60",
     "history": [
      {
       "current": "16d9a14c-1cc9-11ef-ad2f-0242ac120005-1-e19a",
       "next": "37fd7fe4-56f9-11ec-a1da-0242ac120004-5-e08c-554e-472b-f6d5-7467",
       "previous": "16d9a124-1cc9-11ef-ad2f-0242ac120005"
      },
      {
       "current": "16d9a14c-1cc9-11ef-ad2f-0242ac120005-2-e19a-fb60",
       "next": "37fd7fe4-56f9-11ec-a1da-0242ac120004-6-e08c-554e-472b-f6d5-7467-d146",
       "previous": "16d9a124-1cc9-11ef-ad2f-0242ac120005-1-ef1c"
      }
     ],
     "next": "37fd7fe4-56f9-11ec-a1da-0242ac120004-7-e08c-554e-472b-f6d5-7467-d146-7ab7",
     "previous": "16d9a124-1cc9-11ef-ad2f-0242ac120005-2-ef1c-7cd9"
    }
   },
   "outputs": [],
   "source": [
    "provisioning_vip = params['openstack']['provisioning_vip']\n",
    "provisioning_vip"
   ]
  },
  {
   "cell_type": "markdown",
   "metadata": {
    "lc_cell_meme": {
     "current": "37fd7fe4-56f9-11ec-a1da-0242ac120004-7-e08c-554e-472b-f6d5-7467-d146-7ab7",
     "history": [
      {
       "current": "37fd7fe4-56f9-11ec-a1da-0242ac120004-1-e08c",
       "next": "37fd8138-56f9-11ec-a1da-0242ac120004",
       "previous": "37fd7e90-56f9-11ec-a1da-0242ac120004"
      },
      {
       "current": "37fd7fe4-56f9-11ec-a1da-0242ac120004-2-e08c-554e",
       "next": "7f8980ba-56f9-11ec-a1da-0242ac120004",
       "previous": "37fd7e90-56f9-11ec-a1da-0242ac120004"
      },
      {
       "current": "37fd7fe4-56f9-11ec-a1da-0242ac120004-3-e08c-554e-472b",
       "next": "7f8980ba-56f9-11ec-a1da-0242ac120004-1-eb32",
       "previous": "37fd7e90-56f9-11ec-a1da-0242ac120004-1-007d"
      },
      {
       "current": "37fd7fe4-56f9-11ec-a1da-0242ac120004-4-e08c-554e-472b-f6d5",
       "next": "7f8980ba-56f9-11ec-a1da-0242ac120004-2-eb32-6b38",
       "previous": "37fd7e90-56f9-11ec-a1da-0242ac120004-2-007d-3534"
      },
      {
       "current": "37fd7fe4-56f9-11ec-a1da-0242ac120004-5-e08c-554e-472b-f6d5-7467",
       "next": "7f8980ba-56f9-11ec-a1da-0242ac120004-3-eb32-6b38-1eaf",
       "previous": "37fd7e90-56f9-11ec-a1da-0242ac120004-3-007d-3534-4a1e"
      },
      {
       "current": "37fd7fe4-56f9-11ec-a1da-0242ac120004-6-e08c-554e-472b-f6d5-7467-d146",
       "next": "7f8980ba-56f9-11ec-a1da-0242ac120004-4-eb32-6b38-1eaf-5536",
       "previous": "16d9a14c-1cc9-11ef-ad2f-0242ac120005"
      },
      {
       "current": "37fd7fe4-56f9-11ec-a1da-0242ac120004-7-e08c-554e-472b-f6d5-7467-d146-7ab7",
       "next": "7f8980ba-56f9-11ec-a1da-0242ac120004-5-eb32-6b38-1eaf-5536-06c7",
       "previous": "16d9a14c-1cc9-11ef-ad2f-0242ac120005-1-e19a"
      }
     ],
     "next": "7f8980ba-56f9-11ec-a1da-0242ac120004-6-eb32-6b38-1eaf-5536-06c7-f22b",
     "previous": "16d9a14c-1cc9-11ef-ad2f-0242ac120005-2-e19a-fb60"
    }
   },
   "source": [
    "## CephノードとストレージセグメントIPアドレス対応表の読み込み"
   ]
  },
  {
   "cell_type": "code",
   "execution_count": null,
   "metadata": {
    "lc_cell_meme": {
     "current": "7f8980ba-56f9-11ec-a1da-0242ac120004-6-eb32-6b38-1eaf-5536-06c7-f22b",
     "history": [
      {
       "current": "7f8980ba-56f9-11ec-a1da-0242ac120004-1-eb32",
       "next": "7f898358-56f9-11ec-a1da-0242ac120004",
       "previous": "37fd7fe4-56f9-11ec-a1da-0242ac120004-1-e08c"
      },
      {
       "current": "7f8980ba-56f9-11ec-a1da-0242ac120004-1-eb32",
       "next": "7f898358-56f9-11ec-a1da-0242ac120004-1-9fd7",
       "previous": "37fd7fe4-56f9-11ec-a1da-0242ac120004-2-e08c-554e"
      },
      {
       "current": "7f8980ba-56f9-11ec-a1da-0242ac120004-2-eb32-6b38",
       "next": "1da70ed8-6f22-11ee-89fa-0242ac120005",
       "previous": "37fd7fe4-56f9-11ec-a1da-0242ac120004-2-e08c-554e"
      },
      {
       "current": "7f8980ba-56f9-11ec-a1da-0242ac120004-3-eb32-6b38-1eaf",
       "next": "1da70ed8-6f22-11ee-89fa-0242ac120005-1-d3a0",
       "previous": "37fd7fe4-56f9-11ec-a1da-0242ac120004-3-e08c-554e-472b"
      },
      {
       "current": "7f8980ba-56f9-11ec-a1da-0242ac120004-4-eb32-6b38-1eaf-5536",
       "next": "1da70ed8-6f22-11ee-89fa-0242ac120005-2-d3a0-da87",
       "previous": "37fd7fe4-56f9-11ec-a1da-0242ac120004-4-e08c-554e-472b-f6d5"
      },
      {
       "current": "7f8980ba-56f9-11ec-a1da-0242ac120004-4-eb32-6b38-1eaf-5536",
       "next": "1da70ed8-6f22-11ee-89fa-0242ac120005-3-d3a0-da87-93d2",
       "previous": "37fd7fe4-56f9-11ec-a1da-0242ac120004-5-e08c-554e-472b-f6d5-7467"
      },
      {
       "current": "7f8980ba-56f9-11ec-a1da-0242ac120004-5-eb32-6b38-1eaf-5536-06c7",
       "next": "652daa0a-6f22-11ee-89fa-0242ac120005-3-e5ec-583b-1d49",
       "previous": "37fd7fe4-56f9-11ec-a1da-0242ac120004-5-e08c-554e-472b-f6d5-7467"
      },
      {
       "current": "7f8980ba-56f9-11ec-a1da-0242ac120004-6-eb32-6b38-1eaf-5536-06c7-f22b",
       "next": "652daa0a-6f22-11ee-89fa-0242ac120005-4-e5ec-583b-1d49-4b6a",
       "previous": "37fd7fe4-56f9-11ec-a1da-0242ac120004-6-e08c-554e-472b-f6d5-7467-d146"
      }
     ],
     "next": "652daa0a-6f22-11ee-89fa-0242ac120005-5-e5ec-583b-1d49-4b6a-fa73",
     "previous": "37fd7fe4-56f9-11ec-a1da-0242ac120004-7-e08c-554e-472b-f6d5-7467-d146-7ab7"
    },
    "scrolled": true
   },
   "outputs": [],
   "source": [
    "import os\n",
    "import csv\n",
    "import pandas as pd\n",
    "\n",
    "instance_ip_csv_path =  os.environ['HOME'] + \"/notebooks/share/configuration/ceph/ceph_instance_ip.csv\"\n",
    "instance_ip_list = []\n",
    "instance_ip_map = {}\n",
    "\n",
    "with open(instance_ip_csv_path, 'r') as path_csv:\n",
    "    reader = csv.DictReader(path_csv)\n",
    "    \n",
    "    for record in reader:\n",
    "        instance_ip_list.append(record)\n",
    "        instance_ip_map[record['instance_name']] = record\n",
    "\n",
    "pd.DataFrame(instance_ip_list)"
   ]
  },
  {
   "cell_type": "markdown",
   "metadata": {
    "lc_cell_meme": {
     "current": "652daa0a-6f22-11ee-89fa-0242ac120005-5-e5ec-583b-1d49-4b6a-fa73",
     "history": [
      {
       "current": "652daa0a-6f22-11ee-89fa-0242ac120005-1-e5ec",
       "next": "652dab5e-6f22-11ee-89fa-0242ac120005",
       "previous": "7f898358-56f9-11ec-a1da-0242ac120004-1-9fd7"
      },
      {
       "current": "652daa0a-6f22-11ee-89fa-0242ac120005-2-e5ec-583b",
       "next": "652dab5e-6f22-11ee-89fa-0242ac120005-1-aac6",
       "previous": "7f898358-56f9-11ec-a1da-0242ac120004-2-9fd7-82f5"
      },
      {
       "current": "652daa0a-6f22-11ee-89fa-0242ac120005-3-e5ec-583b-1d49",
       "next": "652dab5e-6f22-11ee-89fa-0242ac120005-2-aac6-8d28",
       "previous": "7f898358-56f9-11ec-a1da-0242ac120004-3-9fd7-82f5-f00d"
      },
      {
       "current": "652daa0a-6f22-11ee-89fa-0242ac120005-3-e5ec-583b-1d49",
       "next": "652dab5e-6f22-11ee-89fa-0242ac120005-3-aac6-8d28-9e43",
       "previous": "7f898358-56f9-11ec-a1da-0242ac120004-4-9fd7-82f5-f00d-68f0"
      },
      {
       "current": "652daa0a-6f22-11ee-89fa-0242ac120005-4-e5ec-583b-1d49-4b6a",
       "next": "652dab5e-6f22-11ee-89fa-0242ac120005-3-aac6-8d28-9e43",
       "previous": "7f8980ba-56f9-11ec-a1da-0242ac120004-4-eb32-6b38-1eaf-5536"
      },
      {
       "current": "652daa0a-6f22-11ee-89fa-0242ac120005-5-e5ec-583b-1d49-4b6a-fa73",
       "next": "652dab5e-6f22-11ee-89fa-0242ac120005-4-aac6-8d28-9e43-1235",
       "previous": "7f8980ba-56f9-11ec-a1da-0242ac120004-5-eb32-6b38-1eaf-5536-06c7"
      }
     ],
     "next": "652dab5e-6f22-11ee-89fa-0242ac120005-5-aac6-8d28-9e43-1235-cdf0",
     "previous": "7f8980ba-56f9-11ec-a1da-0242ac120004-6-eb32-6b38-1eaf-5536-06c7-f22b"
    }
   },
   "source": [
    "## 作業用ディレクトリを作成する"
   ]
  },
  {
   "cell_type": "code",
   "execution_count": null,
   "metadata": {
    "lc_cell_meme": {
     "current": "652dab5e-6f22-11ee-89fa-0242ac120005-5-aac6-8d28-9e43-1235-cdf0",
     "history": [
      {
       "current": "652dab5e-6f22-11ee-89fa-0242ac120005-1-aac6",
       "next": "652dabea-6f22-11ee-89fa-0242ac120005",
       "previous": "652daa0a-6f22-11ee-89fa-0242ac120005"
      },
      {
       "current": "652dab5e-6f22-11ee-89fa-0242ac120005-2-aac6-8d28",
       "next": "652dabea-6f22-11ee-89fa-0242ac120005-1-88b3",
       "previous": "652daa0a-6f22-11ee-89fa-0242ac120005-1-e5ec"
      },
      {
       "current": "652dab5e-6f22-11ee-89fa-0242ac120005-3-aac6-8d28-9e43",
       "next": "652dabea-6f22-11ee-89fa-0242ac120005-2-88b3-84c8",
       "previous": "652daa0a-6f22-11ee-89fa-0242ac120005-2-e5ec-583b"
      },
      {
       "current": "652dab5e-6f22-11ee-89fa-0242ac120005-4-aac6-8d28-9e43-1235",
       "next": "652dabea-6f22-11ee-89fa-0242ac120005-3-88b3-84c8-865f",
       "previous": "652daa0a-6f22-11ee-89fa-0242ac120005-3-e5ec-583b-1d49"
      },
      {
       "current": "652dab5e-6f22-11ee-89fa-0242ac120005-5-aac6-8d28-9e43-1235-cdf0",
       "next": "652dabea-6f22-11ee-89fa-0242ac120005-4-88b3-84c8-865f-3f0c",
       "previous": "652daa0a-6f22-11ee-89fa-0242ac120005-4-e5ec-583b-1d49-4b6a"
      }
     ],
     "next": "652dabea-6f22-11ee-89fa-0242ac120005-5-88b3-84c8-865f-3f0c-9e99",
     "previous": "652daa0a-6f22-11ee-89fa-0242ac120005-5-e5ec-583b-1d49-4b6a-fa73"
    }
   },
   "outputs": [],
   "source": [
    "import os,tempfile\n",
    "temp_dir = tempfile.mkdtemp()\n",
    "print (temp_dir)"
   ]
  },
  {
   "cell_type": "markdown",
   "metadata": {
    "lc_cell_meme": {
     "current": "652dabea-6f22-11ee-89fa-0242ac120005-5-88b3-84c8-865f-3f0c-9e99",
     "history": [
      {
       "current": "652dabea-6f22-11ee-89fa-0242ac120005-1-88b3",
       "next": "652dac44-6f22-11ee-89fa-0242ac120005",
       "previous": "652dab5e-6f22-11ee-89fa-0242ac120005"
      },
      {
       "current": "652dabea-6f22-11ee-89fa-0242ac120005-2-88b3-84c8",
       "next": "652dac44-6f22-11ee-89fa-0242ac120005-1-520a",
       "previous": "652dab5e-6f22-11ee-89fa-0242ac120005-1-aac6"
      },
      {
       "current": "652dabea-6f22-11ee-89fa-0242ac120005-3-88b3-84c8-865f",
       "next": "652dac44-6f22-11ee-89fa-0242ac120005-2-520a-0c99",
       "previous": "652dab5e-6f22-11ee-89fa-0242ac120005-2-aac6-8d28"
      },
      {
       "current": "652dabea-6f22-11ee-89fa-0242ac120005-4-88b3-84c8-865f-3f0c",
       "next": "652dac44-6f22-11ee-89fa-0242ac120005-3-520a-0c99-ce83",
       "previous": "652dab5e-6f22-11ee-89fa-0242ac120005-3-aac6-8d28-9e43"
      },
      {
       "current": "652dabea-6f22-11ee-89fa-0242ac120005-5-88b3-84c8-865f-3f0c-9e99",
       "next": "652dac44-6f22-11ee-89fa-0242ac120005-4-520a-0c99-ce83-793f",
       "previous": "652dab5e-6f22-11ee-89fa-0242ac120005-4-aac6-8d28-9e43-1235"
      }
     ],
     "next": "652dac44-6f22-11ee-89fa-0242ac120005-5-520a-0c99-ce83-793f-fb07",
     "previous": "652dab5e-6f22-11ee-89fa-0242ac120005-5-aac6-8d28-9e43-1235-cdf0"
    }
   },
   "source": [
    "## AnsibleのInventoryファイルを作業用ディレクトリへ作成する"
   ]
  },
  {
   "cell_type": "code",
   "execution_count": null,
   "metadata": {
    "lc_cell_meme": {
     "current": "652dac44-6f22-11ee-89fa-0242ac120005-5-520a-0c99-ce83-793f-fb07",
     "history": [
      {
       "current": "652dac44-6f22-11ee-89fa-0242ac120005-1-520a",
       "next": "652daca8-6f22-11ee-89fa-0242ac120005",
       "previous": "652dabea-6f22-11ee-89fa-0242ac120005"
      },
      {
       "current": "652dac44-6f22-11ee-89fa-0242ac120005-2-520a-0c99",
       "next": "652daca8-6f22-11ee-89fa-0242ac120005-1-1ebf",
       "previous": "652dabea-6f22-11ee-89fa-0242ac120005-1-88b3"
      },
      {
       "current": "652dac44-6f22-11ee-89fa-0242ac120005-3-520a-0c99-ce83",
       "next": "652daca8-6f22-11ee-89fa-0242ac120005-2-1ebf-988c",
       "previous": "652dabea-6f22-11ee-89fa-0242ac120005-2-88b3-84c8"
      },
      {
       "current": "652dac44-6f22-11ee-89fa-0242ac120005-4-520a-0c99-ce83-793f",
       "next": "652daca8-6f22-11ee-89fa-0242ac120005-3-1ebf-988c-2aae",
       "previous": "652dabea-6f22-11ee-89fa-0242ac120005-3-88b3-84c8-865f"
      },
      {
       "current": "652dac44-6f22-11ee-89fa-0242ac120005-5-520a-0c99-ce83-793f-fb07",
       "next": "652daca8-6f22-11ee-89fa-0242ac120005-4-1ebf-988c-2aae-c64e",
       "previous": "652dabea-6f22-11ee-89fa-0242ac120005-4-88b3-84c8-865f-3f0c"
      }
     ],
     "next": "652daca8-6f22-11ee-89fa-0242ac120005-5-1ebf-988c-2aae-c64e-dbfc",
     "previous": "652dabea-6f22-11ee-89fa-0242ac120005-5-88b3-84c8-865f-3f0c-9e99"
    }
   },
   "outputs": [],
   "source": [
    "import os\n",
    "\n",
    "with open( os.path.join(temp_dir, \"hosts\"), 'w') as f:\n",
    "    f.write('''[openstack_ctl]\n",
    "{openstack_cmn}\n",
    "'''.format(openstack_cmn = provisioning_vip))\n",
    "\n",
    "hosts = temp_dir + \"/hosts\"\n",
    "!cat $hosts"
   ]
  },
  {
   "cell_type": "code",
   "execution_count": null,
   "metadata": {
    "lc_cell_meme": {
     "current": "652daca8-6f22-11ee-89fa-0242ac120005-5-1ebf-988c-2aae-c64e-dbfc",
     "history": [
      {
       "current": "652daca8-6f22-11ee-89fa-0242ac120005-1-1ebf",
       "next": "652dacf8-6f22-11ee-89fa-0242ac120005",
       "previous": "652dac44-6f22-11ee-89fa-0242ac120005"
      },
      {
       "current": "652daca8-6f22-11ee-89fa-0242ac120005-2-1ebf-988c",
       "next": "652dacf8-6f22-11ee-89fa-0242ac120005-1-3e89",
       "previous": "652dac44-6f22-11ee-89fa-0242ac120005-1-520a"
      },
      {
       "current": "652daca8-6f22-11ee-89fa-0242ac120005-3-1ebf-988c-2aae",
       "next": "652dacf8-6f22-11ee-89fa-0242ac120005-2-3e89-2cdd",
       "previous": "652dac44-6f22-11ee-89fa-0242ac120005-2-520a-0c99"
      },
      {
       "current": "652daca8-6f22-11ee-89fa-0242ac120005-4-1ebf-988c-2aae-c64e",
       "next": "652dacf8-6f22-11ee-89fa-0242ac120005-3-3e89-2cdd-10f5",
       "previous": "652dac44-6f22-11ee-89fa-0242ac120005-3-520a-0c99-ce83"
      },
      {
       "current": "652daca8-6f22-11ee-89fa-0242ac120005-5-1ebf-988c-2aae-c64e-dbfc",
       "next": "652dacf8-6f22-11ee-89fa-0242ac120005-4-3e89-2cdd-10f5-f190",
       "previous": "652dac44-6f22-11ee-89fa-0242ac120005-4-520a-0c99-ce83-793f"
      }
     ],
     "next": "652dacf8-6f22-11ee-89fa-0242ac120005-5-3e89-2cdd-10f5-f190-acfd",
     "previous": "652dac44-6f22-11ee-89fa-0242ac120005-5-520a-0c99-ce83-793f-fb07"
    }
   },
   "outputs": [],
   "source": [
    "%env ANSIBLE_INVENTORY={hosts}"
   ]
  },
  {
   "cell_type": "markdown",
   "metadata": {
    "lc_cell_meme": {
     "current": "652dacf8-6f22-11ee-89fa-0242ac120005-5-3e89-2cdd-10f5-f190-acfd",
     "history": [
      {
       "current": "652dacf8-6f22-11ee-89fa-0242ac120005-1-3e89",
       "next": "652dade8-6f22-11ee-89fa-0242ac120005",
       "previous": "652daca8-6f22-11ee-89fa-0242ac120005"
      },
      {
       "current": "652dacf8-6f22-11ee-89fa-0242ac120005-2-3e89-2cdd",
       "next": "652dade8-6f22-11ee-89fa-0242ac120005-1-6d18",
       "previous": "652daca8-6f22-11ee-89fa-0242ac120005-1-1ebf"
      },
      {
       "current": "652dacf8-6f22-11ee-89fa-0242ac120005-3-3e89-2cdd-10f5",
       "next": "652dade8-6f22-11ee-89fa-0242ac120005-2-6d18-5c90",
       "previous": "652daca8-6f22-11ee-89fa-0242ac120005-2-1ebf-988c"
      },
      {
       "current": "652dacf8-6f22-11ee-89fa-0242ac120005-4-3e89-2cdd-10f5-f190",
       "next": "652dade8-6f22-11ee-89fa-0242ac120005-3-6d18-5c90-0ae3",
       "previous": "652daca8-6f22-11ee-89fa-0242ac120005-3-1ebf-988c-2aae"
      },
      {
       "current": "652dacf8-6f22-11ee-89fa-0242ac120005-5-3e89-2cdd-10f5-f190-acfd",
       "next": "652dade8-6f22-11ee-89fa-0242ac120005-4-6d18-5c90-0ae3-7038",
       "previous": "652daca8-6f22-11ee-89fa-0242ac120005-4-1ebf-988c-2aae-c64e"
      }
     ],
     "next": "652dade8-6f22-11ee-89fa-0242ac120005-5-6d18-5c90-0ae3-7038-2f1d",
     "previous": "652daca8-6f22-11ee-89fa-0242ac120005-5-1ebf-988c-2aae-c64e-dbfc"
    }
   },
   "source": [
    "疎通確認"
   ]
  },
  {
   "cell_type": "code",
   "execution_count": null,
   "metadata": {
    "lc_cell_meme": {
     "current": "652dade8-6f22-11ee-89fa-0242ac120005-5-6d18-5c90-0ae3-7038-2f1d",
     "history": [
      {
       "current": "652dade8-6f22-11ee-89fa-0242ac120005-1-6d18",
       "next": "652dae42-6f22-11ee-89fa-0242ac120005",
       "previous": "652dacf8-6f22-11ee-89fa-0242ac120005"
      },
      {
       "current": "652dade8-6f22-11ee-89fa-0242ac120005-2-6d18-5c90",
       "next": "652dae42-6f22-11ee-89fa-0242ac120005-1-a173",
       "previous": "652dacf8-6f22-11ee-89fa-0242ac120005-1-3e89"
      },
      {
       "current": "652dade8-6f22-11ee-89fa-0242ac120005-3-6d18-5c90-0ae3",
       "next": "652dae42-6f22-11ee-89fa-0242ac120005-2-a173-67b3",
       "previous": "652dacf8-6f22-11ee-89fa-0242ac120005-2-3e89-2cdd"
      },
      {
       "current": "652dade8-6f22-11ee-89fa-0242ac120005-4-6d18-5c90-0ae3-7038",
       "next": "652dae42-6f22-11ee-89fa-0242ac120005-3-a173-67b3-3fbb",
       "previous": "652dacf8-6f22-11ee-89fa-0242ac120005-3-3e89-2cdd-10f5"
      },
      {
       "current": "652dade8-6f22-11ee-89fa-0242ac120005-5-6d18-5c90-0ae3-7038-2f1d",
       "next": "652dae42-6f22-11ee-89fa-0242ac120005-4-a173-67b3-3fbb-fa72",
       "previous": "652dacf8-6f22-11ee-89fa-0242ac120005-4-3e89-2cdd-10f5-f190"
      }
     ],
     "next": "652dae42-6f22-11ee-89fa-0242ac120005-5-a173-67b3-3fbb-fa72-306c",
     "previous": "652dacf8-6f22-11ee-89fa-0242ac120005-5-3e89-2cdd-10f5-f190-acfd"
    }
   },
   "outputs": [],
   "source": [
    "!ansible -m ping openstack_ctl"
   ]
  },
  {
   "cell_type": "code",
   "execution_count": null,
   "metadata": {
    "lc_cell_meme": {
     "current": "652dae42-6f22-11ee-89fa-0242ac120005-5-a173-67b3-3fbb-fa72-306c",
     "history": [
      {
       "current": "652dae42-6f22-11ee-89fa-0242ac120005-1-a173",
       "next": "652dae92-6f22-11ee-89fa-0242ac120005",
       "previous": "652dade8-6f22-11ee-89fa-0242ac120005"
      },
      {
       "current": "652dae42-6f22-11ee-89fa-0242ac120005-2-a173-67b3",
       "next": "652dae92-6f22-11ee-89fa-0242ac120005-1-1424",
       "previous": "652dade8-6f22-11ee-89fa-0242ac120005-1-6d18"
      },
      {
       "current": "652dae42-6f22-11ee-89fa-0242ac120005-3-a173-67b3-3fbb",
       "next": "652dae92-6f22-11ee-89fa-0242ac120005-2-1424-1cfb",
       "previous": "652dade8-6f22-11ee-89fa-0242ac120005-2-6d18-5c90"
      },
      {
       "current": "652dae42-6f22-11ee-89fa-0242ac120005-4-a173-67b3-3fbb-fa72",
       "next": "652dae92-6f22-11ee-89fa-0242ac120005-3-1424-1cfb-afd8",
       "previous": "652dade8-6f22-11ee-89fa-0242ac120005-3-6d18-5c90-0ae3"
      },
      {
       "current": "652dae42-6f22-11ee-89fa-0242ac120005-5-a173-67b3-3fbb-fa72-306c",
       "next": "652dae92-6f22-11ee-89fa-0242ac120005-4-1424-1cfb-afd8-7048",
       "previous": "652dade8-6f22-11ee-89fa-0242ac120005-4-6d18-5c90-0ae3-7038"
      }
     ],
     "next": "652dae92-6f22-11ee-89fa-0242ac120005-5-1424-1cfb-afd8-7048-c469",
     "previous": "652dade8-6f22-11ee-89fa-0242ac120005-5-6d18-5c90-0ae3-7038-2f1d"
    }
   },
   "outputs": [],
   "source": [
    "!ansible -a 'hostname' openstack_ctl"
   ]
  },
  {
   "cell_type": "markdown",
   "metadata": {
    "lc_cell_meme": {
     "current": "652dae92-6f22-11ee-89fa-0242ac120005-5-1424-1cfb-afd8-7048-c469",
     "history": [
      {
       "current": "652dae92-6f22-11ee-89fa-0242ac120005-1-1424",
       "next": "652daeec-6f22-11ee-89fa-0242ac120005",
       "previous": "652dae42-6f22-11ee-89fa-0242ac120005"
      },
      {
       "current": "652dae92-6f22-11ee-89fa-0242ac120005-2-1424-1cfb",
       "next": "652daeec-6f22-11ee-89fa-0242ac120005-1-71b5",
       "previous": "652dae42-6f22-11ee-89fa-0242ac120005-1-a173"
      },
      {
       "current": "652dae92-6f22-11ee-89fa-0242ac120005-3-1424-1cfb-afd8",
       "next": "652daeec-6f22-11ee-89fa-0242ac120005-2-71b5-36ee",
       "previous": "652dae42-6f22-11ee-89fa-0242ac120005-2-a173-67b3"
      },
      {
       "current": "652dae92-6f22-11ee-89fa-0242ac120005-4-1424-1cfb-afd8-7048",
       "next": "652daeec-6f22-11ee-89fa-0242ac120005-3-71b5-36ee-7f8f",
       "previous": "652dae42-6f22-11ee-89fa-0242ac120005-3-a173-67b3-3fbb"
      },
      {
       "current": "652dae92-6f22-11ee-89fa-0242ac120005-5-1424-1cfb-afd8-7048-c469",
       "next": "652daeec-6f22-11ee-89fa-0242ac120005-4-71b5-36ee-7f8f-001d",
       "previous": "652dae42-6f22-11ee-89fa-0242ac120005-4-a173-67b3-3fbb-fa72"
      }
     ],
     "next": "652daeec-6f22-11ee-89fa-0242ac120005-5-71b5-36ee-7f8f-001d-48c1",
     "previous": "652dae42-6f22-11ee-89fa-0242ac120005-5-a173-67b3-3fbb-fa72-306c"
    }
   },
   "source": [
    "## OpenStack用OpenRCファイル設定\n",
    "\n",
    "`xxxxxxx`プロジェクト用のOpenRCファイルを事前にダウンロードしておくこと。  "
   ]
  },
  {
   "cell_type": "code",
   "execution_count": null,
   "metadata": {
    "lc_cell_meme": {
     "current": "652daeec-6f22-11ee-89fa-0242ac120005-5-71b5-36ee-7f8f-001d-48c1",
     "history": [
      {
       "current": "652daeec-6f22-11ee-89fa-0242ac120005-1-71b5",
       "next": "652daf46-6f22-11ee-89fa-0242ac120005",
       "previous": "652dae92-6f22-11ee-89fa-0242ac120005"
      },
      {
       "current": "652daeec-6f22-11ee-89fa-0242ac120005-2-71b5-36ee",
       "next": "652daf46-6f22-11ee-89fa-0242ac120005-1-cc7e",
       "previous": "652dae92-6f22-11ee-89fa-0242ac120005-1-1424"
      },
      {
       "current": "652daeec-6f22-11ee-89fa-0242ac120005-3-71b5-36ee-7f8f",
       "next": "652daf46-6f22-11ee-89fa-0242ac120005-2-cc7e-c882",
       "previous": "652dae92-6f22-11ee-89fa-0242ac120005-2-1424-1cfb"
      },
      {
       "current": "652daeec-6f22-11ee-89fa-0242ac120005-4-71b5-36ee-7f8f-001d",
       "next": "652daf46-6f22-11ee-89fa-0242ac120005-3-cc7e-c882-e203",
       "previous": "652dae92-6f22-11ee-89fa-0242ac120005-3-1424-1cfb-afd8"
      },
      {
       "current": "652daeec-6f22-11ee-89fa-0242ac120005-5-71b5-36ee-7f8f-001d-48c1",
       "next": "652daf46-6f22-11ee-89fa-0242ac120005-4-cc7e-c882-e203-24af",
       "previous": "652dae92-6f22-11ee-89fa-0242ac120005-4-1424-1cfb-afd8-7048"
      }
     ],
     "next": "652daf46-6f22-11ee-89fa-0242ac120005-5-cc7e-c882-e203-24af-f255",
     "previous": "652dae92-6f22-11ee-89fa-0242ac120005-5-1424-1cfb-afd8-7048-c469"
    }
   },
   "outputs": [],
   "source": [
    "import os\n",
    "\n",
    "user_creds = os.path.expanduser('~/.keys/xxxxxxx-openrc.sh')\n",
    "\n",
    "assert os.path.exists(user_creds), '{} is not exist'.format(user_creds)"
   ]
  },
  {
   "cell_type": "code",
   "execution_count": null,
   "metadata": {
    "lc_cell_meme": {
     "current": "652daf46-6f22-11ee-89fa-0242ac120005-5-cc7e-c882-e203-24af-f255",
     "history": [
      {
       "current": "652daf46-6f22-11ee-89fa-0242ac120005-1-cc7e",
       "next": "652daf96-6f22-11ee-89fa-0242ac120005",
       "previous": "652daeec-6f22-11ee-89fa-0242ac120005"
      },
      {
       "current": "652daf46-6f22-11ee-89fa-0242ac120005-2-cc7e-c882",
       "next": "652daf96-6f22-11ee-89fa-0242ac120005-1-e432",
       "previous": "652daeec-6f22-11ee-89fa-0242ac120005-1-71b5"
      },
      {
       "current": "652daf46-6f22-11ee-89fa-0242ac120005-3-cc7e-c882-e203",
       "next": "652daf96-6f22-11ee-89fa-0242ac120005-2-e432-4b83",
       "previous": "652daeec-6f22-11ee-89fa-0242ac120005-2-71b5-36ee"
      },
      {
       "current": "652daf46-6f22-11ee-89fa-0242ac120005-4-cc7e-c882-e203-24af",
       "next": "652daf96-6f22-11ee-89fa-0242ac120005-3-e432-4b83-5c7c",
       "previous": "652daeec-6f22-11ee-89fa-0242ac120005-3-71b5-36ee-7f8f"
      },
      {
       "current": "652daf46-6f22-11ee-89fa-0242ac120005-5-cc7e-c882-e203-24af-f255",
       "next": "652daf96-6f22-11ee-89fa-0242ac120005-4-e432-4b83-5c7c-79a1",
       "previous": "652daeec-6f22-11ee-89fa-0242ac120005-4-71b5-36ee-7f8f-001d"
      }
     ],
     "next": "652daf96-6f22-11ee-89fa-0242ac120005-5-e432-4b83-5c7c-79a1-aeb8",
     "previous": "652daeec-6f22-11ee-89fa-0242ac120005-5-71b5-36ee-7f8f-001d-48c1"
    }
   },
   "outputs": [],
   "source": [
    "%env USER_CREDS={user_creds}"
   ]
  },
  {
   "cell_type": "code",
   "execution_count": null,
   "metadata": {
    "lc_cell_meme": {
     "current": "652daf96-6f22-11ee-89fa-0242ac120005-5-e432-4b83-5c7c-79a1-aeb8",
     "history": [
      {
       "current": "652daf96-6f22-11ee-89fa-0242ac120005",
       "next": "652dafe6-6f22-11ee-89fa-0242ac120005",
       "previous": "652daf46-6f22-11ee-89fa-0242ac120005"
      },
      {
       "current": "652daf96-6f22-11ee-89fa-0242ac120005-1-e432",
       "next": "652dafe6-6f22-11ee-89fa-0242ac120005-1-01d4",
       "previous": "652daf46-6f22-11ee-89fa-0242ac120005"
      },
      {
       "current": "652daf96-6f22-11ee-89fa-0242ac120005-2-e432-4b83",
       "next": "652dafe6-6f22-11ee-89fa-0242ac120005-2-01d4-5fa0",
       "previous": "652daf46-6f22-11ee-89fa-0242ac120005-1-cc7e"
      },
      {
       "current": "652daf96-6f22-11ee-89fa-0242ac120005-3-e432-4b83-5c7c",
       "next": "652dafe6-6f22-11ee-89fa-0242ac120005-3-01d4-5fa0-c6de",
       "previous": "652daf46-6f22-11ee-89fa-0242ac120005-2-cc7e-c882"
      },
      {
       "current": "652daf96-6f22-11ee-89fa-0242ac120005-4-e432-4b83-5c7c-79a1",
       "next": "652dafe6-6f22-11ee-89fa-0242ac120005-4-01d4-5fa0-c6de-4435",
       "previous": "652daf46-6f22-11ee-89fa-0242ac120005-3-cc7e-c882-e203"
      },
      {
       "current": "652daf96-6f22-11ee-89fa-0242ac120005-5-e432-4b83-5c7c-79a1-aeb8",
       "next": "652dafe6-6f22-11ee-89fa-0242ac120005-5-01d4-5fa0-c6de-4435-cbd2",
       "previous": "652daf46-6f22-11ee-89fa-0242ac120005-4-cc7e-c882-e203-24af"
      }
     ],
     "next": "652dafe6-6f22-11ee-89fa-0242ac120005-6-01d4-5fa0-c6de-4435-cbd2-7bfe",
     "previous": "652daf46-6f22-11ee-89fa-0242ac120005-5-cc7e-c882-e203-24af-f255"
    }
   },
   "outputs": [],
   "source": [
    "!ls -l {user_creds}"
   ]
  },
  {
   "cell_type": "markdown",
   "metadata": {
    "heading_collapsed": true,
    "lc_cell_meme": {
     "current": "652dafe6-6f22-11ee-89fa-0242ac120005-6-01d4-5fa0-c6de-4435-cbd2-7bfe",
     "history": [
      {
       "current": "652dafe6-6f22-11ee-89fa-0242ac120005-2-01d4-5fa0",
       "next": "652db040-6f22-11ee-89fa-0242ac120005",
       "previous": "652daf96-6f22-11ee-89fa-0242ac120005"
      },
      {
       "current": "652dafe6-6f22-11ee-89fa-0242ac120005-3-01d4-5fa0-c6de",
       "next": "652db040-6f22-11ee-89fa-0242ac120005-1-7708",
       "previous": "652daf96-6f22-11ee-89fa-0242ac120005-1-e432"
      },
      {
       "current": "652dafe6-6f22-11ee-89fa-0242ac120005-4-01d4-5fa0-c6de-4435",
       "next": "652db040-6f22-11ee-89fa-0242ac120005-2-7708-1c65",
       "previous": "652daf96-6f22-11ee-89fa-0242ac120005-2-e432-4b83"
      },
      {
       "current": "652dafe6-6f22-11ee-89fa-0242ac120005-5-01d4-5fa0-c6de-4435-cbd2",
       "next": "652db040-6f22-11ee-89fa-0242ac120005-3-7708-1c65-d234",
       "previous": "652daf96-6f22-11ee-89fa-0242ac120005-3-e432-4b83-5c7c"
      },
      {
       "current": "652dafe6-6f22-11ee-89fa-0242ac120005-6-01d4-5fa0-c6de-4435-cbd2-7bfe",
       "next": "652db040-6f22-11ee-89fa-0242ac120005-4-7708-1c65-d234-1f91",
       "previous": "652daf96-6f22-11ee-89fa-0242ac120005-4-e432-4b83-5c7c-79a1"
      }
     ],
     "next": "652db040-6f22-11ee-89fa-0242ac120005-5-7708-1c65-d234-1f91-6723",
     "previous": "652daf96-6f22-11ee-89fa-0242ac120005-5-e432-4b83-5c7c-79a1-aeb8"
    }
   },
   "source": [
    "## openstackコマンド用ユーティリティ関数"
   ]
  },
  {
   "cell_type": "code",
   "execution_count": null,
   "metadata": {
    "hidden": true,
    "lc_cell_meme": {
     "current": "652db040-6f22-11ee-89fa-0242ac120005-5-7708-1c65-d234-1f91-6723",
     "history": [
      {
       "current": "652db040-6f22-11ee-89fa-0242ac120005",
       "next": "652db090-6f22-11ee-89fa-0242ac120005",
       "previous": "652dafe6-6f22-11ee-89fa-0242ac120005"
      },
      {
       "current": "652db040-6f22-11ee-89fa-0242ac120005-1-7708",
       "next": "acb9ce94-6f22-11ee-89fa-0242ac120005",
       "previous": "652dafe6-6f22-11ee-89fa-0242ac120005-1-01d4"
      },
      {
       "current": "652db040-6f22-11ee-89fa-0242ac120005-2-7708-1c65",
       "next": "acb9ce94-6f22-11ee-89fa-0242ac120005-1-b8ff",
       "previous": "652dafe6-6f22-11ee-89fa-0242ac120005-2-01d4-5fa0"
      },
      {
       "current": "652db040-6f22-11ee-89fa-0242ac120005-3-7708-1c65-d234",
       "next": "acb9ce94-6f22-11ee-89fa-0242ac120005-2-b8ff-a8bf",
       "previous": "652dafe6-6f22-11ee-89fa-0242ac120005-3-01d4-5fa0-c6de"
      },
      {
       "current": "652db040-6f22-11ee-89fa-0242ac120005-4-7708-1c65-d234-1f91",
       "next": "acb9ce94-6f22-11ee-89fa-0242ac120005-3-b8ff-a8bf-d209",
       "previous": "652dafe6-6f22-11ee-89fa-0242ac120005-4-01d4-5fa0-c6de-4435"
      },
      {
       "current": "652db040-6f22-11ee-89fa-0242ac120005-5-7708-1c65-d234-1f91-6723",
       "next": "acb9ce94-6f22-11ee-89fa-0242ac120005-4-b8ff-a8bf-d209-246e",
       "previous": "652dafe6-6f22-11ee-89fa-0242ac120005-5-01d4-5fa0-c6de-4435-cbd2"
      }
     ],
     "next": "acb9ce94-6f22-11ee-89fa-0242ac120005-5-b8ff-a8bf-d209-246e-0f8e",
     "previous": "652dafe6-6f22-11ee-89fa-0242ac120005-6-01d4-5fa0-c6de-4435-cbd2-7bfe"
    }
   },
   "outputs": [],
   "source": [
    "def build_cmdline(param):\n",
    "    cmdline = ''\n",
    "    \n",
    "    for param_name, param_value in param.items():\n",
    "        if isinstance(param_value, dict):\n",
    "            for key, value in param_value.items():\n",
    "                cmdline += ' --{} {}={}'.format(param_name, key, value)\n",
    "        elif isinstance(param_value, list):\n",
    "            for item in param_value:\n",
    "                cmdline += ' --{} {}'.format(param_name, item)\n",
    "        elif isinstance(param_value, bool):\n",
    "            if param_value:\n",
    "                cmdline += ' --{}'.format(param_name)\n",
    "        else:\n",
    "            cmdline += ' --{} {}'.format(param_name, param_value)\n",
    "\n",
    "    return cmdline"
   ]
  },
  {
   "cell_type": "code",
   "execution_count": null,
   "metadata": {
    "hidden": true,
    "lc_cell_meme": {
     "current": "acb9ce94-6f22-11ee-89fa-0242ac120005-5-b8ff-a8bf-d209-246e-0f8e",
     "history": [
      {
       "current": "acb9ce94-6f22-11ee-89fa-0242ac120005-1-b8ff",
       "next": "acb9cf52-6f22-11ee-89fa-0242ac120005",
       "previous": "652db040-6f22-11ee-89fa-0242ac120005"
      },
      {
       "current": "acb9ce94-6f22-11ee-89fa-0242ac120005-2-b8ff-a8bf",
       "next": "acb9cf52-6f22-11ee-89fa-0242ac120005-1-9049",
       "previous": "652db040-6f22-11ee-89fa-0242ac120005-1-7708"
      },
      {
       "current": "acb9ce94-6f22-11ee-89fa-0242ac120005-3-b8ff-a8bf-d209",
       "next": "acb9cf52-6f22-11ee-89fa-0242ac120005-2-9049-517b",
       "previous": "652db040-6f22-11ee-89fa-0242ac120005-2-7708-1c65"
      },
      {
       "current": "acb9ce94-6f22-11ee-89fa-0242ac120005-4-b8ff-a8bf-d209-246e",
       "next": "acb9cf52-6f22-11ee-89fa-0242ac120005-3-9049-517b-1cb5",
       "previous": "652db040-6f22-11ee-89fa-0242ac120005-3-7708-1c65-d234"
      },
      {
       "current": "acb9ce94-6f22-11ee-89fa-0242ac120005-5-b8ff-a8bf-d209-246e-0f8e",
       "next": "acb9cf52-6f22-11ee-89fa-0242ac120005-4-9049-517b-1cb5-4abd",
       "previous": "652db040-6f22-11ee-89fa-0242ac120005-4-7708-1c65-d234-1f91"
      }
     ],
     "next": "acb9cf52-6f22-11ee-89fa-0242ac120005-5-9049-517b-1cb5-4abd-b002",
     "previous": "652db040-6f22-11ee-89fa-0242ac120005-5-7708-1c65-d234-1f91-6723"
    }
   },
   "outputs": [],
   "source": [
    "import json\n",
    "\n",
    "def run_openstack(cmd):\n",
    "    print('EXEC: {}'.format(cmd))\n",
    "    out = !source {user_creds} && {cmd}\n",
    "    print('OUTPUT: {}'.format('\\n'.join(out)))\n",
    "    return json.loads('\\n'.join(out))"
   ]
  },
  {
   "cell_type": "markdown",
   "metadata": {
    "hidden": true,
    "lc_cell_meme": {
     "current": "acb9cf52-6f22-11ee-89fa-0242ac120005-5-9049-517b-1cb5-4abd-b002",
     "history": [
      {
       "current": "acb9cf52-6f22-11ee-89fa-0242ac120005-1-9049",
       "next": "acb9d010-6f22-11ee-89fa-0242ac120005",
       "previous": "acb9ce94-6f22-11ee-89fa-0242ac120005"
      },
      {
       "current": "acb9cf52-6f22-11ee-89fa-0242ac120005-2-9049-517b",
       "next": "acb9d010-6f22-11ee-89fa-0242ac120005-1-3ca6",
       "previous": "acb9ce94-6f22-11ee-89fa-0242ac120005-1-b8ff"
      },
      {
       "current": "acb9cf52-6f22-11ee-89fa-0242ac120005-3-9049-517b-1cb5",
       "next": "acb9d010-6f22-11ee-89fa-0242ac120005-2-3ca6-909f",
       "previous": "acb9ce94-6f22-11ee-89fa-0242ac120005-2-b8ff-a8bf"
      },
      {
       "current": "acb9cf52-6f22-11ee-89fa-0242ac120005-4-9049-517b-1cb5-4abd",
       "next": "acb9d010-6f22-11ee-89fa-0242ac120005-3-3ca6-909f-2456",
       "previous": "acb9ce94-6f22-11ee-89fa-0242ac120005-3-b8ff-a8bf-d209"
      },
      {
       "current": "acb9cf52-6f22-11ee-89fa-0242ac120005-5-9049-517b-1cb5-4abd-b002",
       "next": "acb9d010-6f22-11ee-89fa-0242ac120005-4-3ca6-909f-2456-4a3e",
       "previous": "acb9ce94-6f22-11ee-89fa-0242ac120005-4-b8ff-a8bf-d209-246e"
      }
     ],
     "next": "acb9d010-6f22-11ee-89fa-0242ac120005-5-3ca6-909f-2456-4a3e-bad3",
     "previous": "acb9ce94-6f22-11ee-89fa-0242ac120005-5-b8ff-a8bf-d209-246e-0f8e"
    }
   },
   "source": [
    "テスト"
   ]
  },
  {
   "cell_type": "code",
   "execution_count": null,
   "metadata": {
    "hidden": true,
    "lc_cell_meme": {
     "current": "acb9d010-6f22-11ee-89fa-0242ac120005-5-3ca6-909f-2456-4a3e-bad3",
     "history": [
      {
       "current": "acb9d010-6f22-11ee-89fa-0242ac120005-1-3ca6",
       "next": "7f8984de-56f9-11ec-a1da-0242ac120004-1-fe2a",
       "previous": "acb9cf52-6f22-11ee-89fa-0242ac120005"
      },
      {
       "current": "acb9d010-6f22-11ee-89fa-0242ac120005-2-3ca6-909f",
       "next": "7f8984de-56f9-11ec-a1da-0242ac120004-2-fe2a-5358",
       "previous": "acb9cf52-6f22-11ee-89fa-0242ac120005-1-9049"
      },
      {
       "current": "acb9d010-6f22-11ee-89fa-0242ac120005-3-3ca6-909f-2456",
       "next": "7f8984de-56f9-11ec-a1da-0242ac120004-3-fe2a-5358-78f5",
       "previous": "acb9cf52-6f22-11ee-89fa-0242ac120005-2-9049-517b"
      },
      {
       "current": "acb9d010-6f22-11ee-89fa-0242ac120005-4-3ca6-909f-2456-4a3e",
       "next": "7f8984de-56f9-11ec-a1da-0242ac120004-4-fe2a-5358-78f5-a915",
       "previous": "acb9cf52-6f22-11ee-89fa-0242ac120005-3-9049-517b-1cb5"
      },
      {
       "current": "acb9d010-6f22-11ee-89fa-0242ac120005-5-3ca6-909f-2456-4a3e-bad3",
       "next": "7f8984de-56f9-11ec-a1da-0242ac120004-5-fe2a-5358-78f5-a915-06f0",
       "previous": "acb9cf52-6f22-11ee-89fa-0242ac120005-4-9049-517b-1cb5-4abd"
      }
     ],
     "next": "7f8984de-56f9-11ec-a1da-0242ac120004-6-fe2a-5358-78f5-a915-06f0-d78d",
     "previous": "acb9cf52-6f22-11ee-89fa-0242ac120005-5-9049-517b-1cb5-4abd-b002"
    }
   },
   "outputs": [],
   "source": [
    "run_openstack('openstack flavor list -f json' + build_cmdline({'all': True}))"
   ]
  },
  {
   "cell_type": "markdown",
   "metadata": {
    "lc_cell_meme": {
     "current": "7f8984de-56f9-11ec-a1da-0242ac120004-6-fe2a-5358-78f5-a915-06f0-d78d",
     "history": [
      {
       "current": "7f8984de-56f9-11ec-a1da-0242ac120004-1-fe2a",
       "next": "7f89861e-56f9-11ec-a1da-0242ac120004",
       "previous": "7f898358-56f9-11ec-a1da-0242ac120004"
      },
      {
       "current": "7f8984de-56f9-11ec-a1da-0242ac120004-1-fe2a",
       "next": "7f89861e-56f9-11ec-a1da-0242ac120004-1-f0eb",
       "previous": "7f898358-56f9-11ec-a1da-0242ac120004-1-9fd7"
      },
      {
       "current": "7f8984de-56f9-11ec-a1da-0242ac120004-1-fe2a",
       "next": "7f89861e-56f9-11ec-a1da-0242ac120004-1-f0eb",
       "previous": "652db090-6f22-11ee-89fa-0242ac120005"
      },
      {
       "current": "7f8984de-56f9-11ec-a1da-0242ac120004-2-fe2a-5358",
       "next": "7f89861e-56f9-11ec-a1da-0242ac120004-1-f0eb",
       "previous": "acb9d010-6f22-11ee-89fa-0242ac120005"
      },
      {
       "current": "7f8984de-56f9-11ec-a1da-0242ac120004-3-fe2a-5358-78f5",
       "next": "7f89861e-56f9-11ec-a1da-0242ac120004-2-f0eb-c504",
       "previous": "acb9d010-6f22-11ee-89fa-0242ac120005-1-3ca6"
      },
      {
       "current": "7f8984de-56f9-11ec-a1da-0242ac120004-4-fe2a-5358-78f5-a915",
       "next": "7f89861e-56f9-11ec-a1da-0242ac120004-3-f0eb-c504-0941",
       "previous": "acb9d010-6f22-11ee-89fa-0242ac120005-2-3ca6-909f"
      },
      {
       "current": "7f8984de-56f9-11ec-a1da-0242ac120004-5-fe2a-5358-78f5-a915-06f0",
       "next": "7f89861e-56f9-11ec-a1da-0242ac120004-4-f0eb-c504-0941-4ceb",
       "previous": "acb9d010-6f22-11ee-89fa-0242ac120005-3-3ca6-909f-2456"
      },
      {
       "current": "7f8984de-56f9-11ec-a1da-0242ac120004-6-fe2a-5358-78f5-a915-06f0-d78d",
       "next": "7f89861e-56f9-11ec-a1da-0242ac120004-5-f0eb-c504-0941-4ceb-5e36",
       "previous": "acb9d010-6f22-11ee-89fa-0242ac120005-4-3ca6-909f-2456-4a3e"
      }
     ],
     "next": "7f89861e-56f9-11ec-a1da-0242ac120004-6-f0eb-c504-0941-4ceb-5e36-38ac",
     "previous": "acb9d010-6f22-11ee-89fa-0242ac120005-5-3ca6-909f-2456-4a3e-bad3"
    }
   },
   "source": [
    "## デプロイされたCephノード情報の取得"
   ]
  },
  {
   "cell_type": "markdown",
   "metadata": {
    "lc_cell_meme": {
     "current": "7f89861e-56f9-11ec-a1da-0242ac120004-6-f0eb-c504-0941-4ceb-5e36-38ac",
     "history": [
      {
       "current": "7f89861e-56f9-11ec-a1da-0242ac120004-1-f0eb",
       "next": "7f898754-56f9-11ec-a1da-0242ac120004",
       "previous": "7f8984de-56f9-11ec-a1da-0242ac120004"
      },
      {
       "current": "7f89861e-56f9-11ec-a1da-0242ac120004-1-f0eb",
       "next": "7f898754-56f9-11ec-a1da-0242ac120004-1-c22e",
       "previous": "7f8984de-56f9-11ec-a1da-0242ac120004-1-fe2a"
      },
      {
       "current": "7f89861e-56f9-11ec-a1da-0242ac120004-2-f0eb-c504",
       "next": "acb9d042-6f22-11ee-89fa-0242ac120005",
       "previous": "7f8984de-56f9-11ec-a1da-0242ac120004-1-fe2a"
      },
      {
       "current": "7f89861e-56f9-11ec-a1da-0242ac120004-3-f0eb-c504-0941",
       "next": "acb9d042-6f22-11ee-89fa-0242ac120005-1-788d",
       "previous": "7f8984de-56f9-11ec-a1da-0242ac120004-2-fe2a-5358"
      },
      {
       "current": "7f89861e-56f9-11ec-a1da-0242ac120004-4-f0eb-c504-0941-4ceb",
       "next": "acb9d042-6f22-11ee-89fa-0242ac120005-2-788d-060a",
       "previous": "7f8984de-56f9-11ec-a1da-0242ac120004-3-fe2a-5358-78f5"
      },
      {
       "current": "7f89861e-56f9-11ec-a1da-0242ac120004-5-f0eb-c504-0941-4ceb-5e36",
       "next": "acb9d042-6f22-11ee-89fa-0242ac120005-3-788d-060a-3304",
       "previous": "7f8984de-56f9-11ec-a1da-0242ac120004-4-fe2a-5358-78f5-a915"
      },
      {
       "current": "7f89861e-56f9-11ec-a1da-0242ac120004-6-f0eb-c504-0941-4ceb-5e36-38ac",
       "next": "acb9d042-6f22-11ee-89fa-0242ac120005-4-788d-060a-3304-2f91",
       "previous": "7f8984de-56f9-11ec-a1da-0242ac120004-5-fe2a-5358-78f5-a915-06f0"
      }
     ],
     "next": "acb9d042-6f22-11ee-89fa-0242ac120005-5-788d-060a-3304-2f91-85b9",
     "previous": "7f8984de-56f9-11ec-a1da-0242ac120004-6-fe2a-5358-78f5-a915-06f0-d78d"
    }
   },
   "source": [
    "ストレージノードを特定するにあたり、ノード名称が　ceph-nodexxx （xxxの部分は、右寄せ0埋めの数字3桁）というルールに従っていることを前提としている。<br>\n",
    " 例：ceph-node001<br>\n",
    " このノード名称ルールは、構築するCephクラスタ毎に変えるため、以下で定義する。"
   ]
  },
  {
   "cell_type": "code",
   "execution_count": null,
   "metadata": {
    "lc_cell_meme": {
     "current": "acb9d042-6f22-11ee-89fa-0242ac120005-5-788d-060a-3304-2f91-85b9",
     "history": [
      {
       "current": "acb9d042-6f22-11ee-89fa-0242ac120005-1-788d",
       "next": "7f898754-56f9-11ec-a1da-0242ac120004-1-c22e",
       "previous": "7f89861e-56f9-11ec-a1da-0242ac120004-1-f0eb"
      },
      {
       "current": "acb9d042-6f22-11ee-89fa-0242ac120005-2-788d-060a",
       "next": "7f898754-56f9-11ec-a1da-0242ac120004-2-c22e-cc63",
       "previous": "7f89861e-56f9-11ec-a1da-0242ac120004-2-f0eb-c504"
      },
      {
       "current": "acb9d042-6f22-11ee-89fa-0242ac120005-3-788d-060a-3304",
       "next": "7f898754-56f9-11ec-a1da-0242ac120004-3-c22e-cc63-19a1",
       "previous": "7f89861e-56f9-11ec-a1da-0242ac120004-3-f0eb-c504-0941"
      },
      {
       "current": "acb9d042-6f22-11ee-89fa-0242ac120005-4-788d-060a-3304-2f91",
       "next": "7f898754-56f9-11ec-a1da-0242ac120004-4-c22e-cc63-19a1-a2c0",
       "previous": "7f89861e-56f9-11ec-a1da-0242ac120004-4-f0eb-c504-0941-4ceb"
      },
      {
       "current": "acb9d042-6f22-11ee-89fa-0242ac120005-5-788d-060a-3304-2f91-85b9",
       "next": "7f898754-56f9-11ec-a1da-0242ac120004-5-c22e-cc63-19a1-a2c0-d6ab",
       "previous": "7f89861e-56f9-11ec-a1da-0242ac120004-5-f0eb-c504-0941-4ceb-5e36"
      }
     ],
     "next": "7f898754-56f9-11ec-a1da-0242ac120004-6-c22e-cc63-19a1-a2c0-d6ab-55b4",
     "previous": "7f89861e-56f9-11ec-a1da-0242ac120004-6-f0eb-c504-0941-4ceb-5e36-38ac"
    }
   },
   "outputs": [],
   "source": [
    "# 初期化対象のインスタンス名称を設定する\n",
    "raise Exception('この先手作業が必要です')"
   ]
  },
  {
   "cell_type": "code",
   "execution_count": null,
   "metadata": {
    "lc_cell_meme": {
     "current": "7f898754-56f9-11ec-a1da-0242ac120004-6-c22e-cc63-19a1-a2c0-d6ab-55b4",
     "history": [
      {
       "current": "7f898754-56f9-11ec-a1da-0242ac120004",
       "next": "37fd8138-56f9-11ec-a1da-0242ac120004",
       "previous": "7f89861e-56f9-11ec-a1da-0242ac120004"
      },
      {
       "current": "7f898754-56f9-11ec-a1da-0242ac120004-1-c22e",
       "next": "37fd8138-56f9-11ec-a1da-0242ac120004-1-cd3c",
       "previous": "7f89861e-56f9-11ec-a1da-0242ac120004"
      },
      {
       "current": "7f898754-56f9-11ec-a1da-0242ac120004-1-c22e",
       "next": "37fd8138-56f9-11ec-a1da-0242ac120004-2-cd3c-96de",
       "previous": "7f89861e-56f9-11ec-a1da-0242ac120004-1-f0eb"
      },
      {
       "current": "7f898754-56f9-11ec-a1da-0242ac120004-2-c22e-cc63",
       "next": "acb9d06a-6f22-11ee-89fa-0242ac120005",
       "previous": "acb9d042-6f22-11ee-89fa-0242ac120005"
      },
      {
       "current": "7f898754-56f9-11ec-a1da-0242ac120004-3-c22e-cc63-19a1",
       "next": "acb9d06a-6f22-11ee-89fa-0242ac120005-1-af7c",
       "previous": "acb9d042-6f22-11ee-89fa-0242ac120005-1-788d"
      },
      {
       "current": "7f898754-56f9-11ec-a1da-0242ac120004-4-c22e-cc63-19a1-a2c0",
       "next": "acb9d06a-6f22-11ee-89fa-0242ac120005-2-af7c-0655",
       "previous": "acb9d042-6f22-11ee-89fa-0242ac120005-2-788d-060a"
      },
      {
       "current": "7f898754-56f9-11ec-a1da-0242ac120004-5-c22e-cc63-19a1-a2c0-d6ab",
       "next": "acb9d06a-6f22-11ee-89fa-0242ac120005-3-af7c-0655-f978",
       "previous": "acb9d042-6f22-11ee-89fa-0242ac120005-3-788d-060a-3304"
      },
      {
       "current": "7f898754-56f9-11ec-a1da-0242ac120004-6-c22e-cc63-19a1-a2c0-d6ab-55b4",
       "next": "acb9d06a-6f22-11ee-89fa-0242ac120005-4-af7c-0655-f978-6b07",
       "previous": "acb9d042-6f22-11ee-89fa-0242ac120005-4-788d-060a-3304-2f91"
      }
     ],
     "next": "acb9d06a-6f22-11ee-89fa-0242ac120005-5-af7c-0655-f978-6b07-aa42",
     "previous": "acb9d042-6f22-11ee-89fa-0242ac120005-5-788d-060a-3304-2f91-85b9"
    }
   },
   "outputs": [],
   "source": [
    "import pandas as pd\n",
    "import re\n",
    "\n",
    "# 対象インスタンス名称マッチングルール\n",
    "name_match_rule = r'ceph-xxx-node-[0-9]+'"
   ]
  },
  {
   "cell_type": "markdown",
   "metadata": {
    "lc_cell_meme": {
     "current": "acb9d06a-6f22-11ee-89fa-0242ac120005-5-af7c-0655-f978-6b07-aa42",
     "history": [
      {
       "current": "acb9d06a-6f22-11ee-89fa-0242ac120005-1-af7c",
       "next": "acb9d092-6f22-11ee-89fa-0242ac120005",
       "previous": "7f898754-56f9-11ec-a1da-0242ac120004-1-c22e"
      },
      {
       "current": "acb9d06a-6f22-11ee-89fa-0242ac120005-2-af7c-0655",
       "next": "acb9d092-6f22-11ee-89fa-0242ac120005-1-ac62",
       "previous": "7f898754-56f9-11ec-a1da-0242ac120004-2-c22e-cc63"
      },
      {
       "current": "acb9d06a-6f22-11ee-89fa-0242ac120005-3-af7c-0655-f978",
       "next": "acb9d092-6f22-11ee-89fa-0242ac120005-2-ac62-07f6",
       "previous": "7f898754-56f9-11ec-a1da-0242ac120004-3-c22e-cc63-19a1"
      },
      {
       "current": "acb9d06a-6f22-11ee-89fa-0242ac120005-4-af7c-0655-f978-6b07",
       "next": "acb9d092-6f22-11ee-89fa-0242ac120005-3-ac62-07f6-71b4",
       "previous": "7f898754-56f9-11ec-a1da-0242ac120004-4-c22e-cc63-19a1-a2c0"
      },
      {
       "current": "acb9d06a-6f22-11ee-89fa-0242ac120005-5-af7c-0655-f978-6b07-aa42",
       "next": "acb9d092-6f22-11ee-89fa-0242ac120005-4-ac62-07f6-71b4-93a2",
       "previous": "7f898754-56f9-11ec-a1da-0242ac120004-5-c22e-cc63-19a1-a2c0-d6ab"
      }
     ],
     "next": "acb9d092-6f22-11ee-89fa-0242ac120005-5-ac62-07f6-71b4-93a2-e206",
     "previous": "7f898754-56f9-11ec-a1da-0242ac120004-6-c22e-cc63-19a1-a2c0-d6ab-55b4"
    }
   },
   "source": [
    "## OpenStack Ironicからノード情報の取得"
   ]
  },
  {
   "cell_type": "code",
   "execution_count": null,
   "metadata": {
    "lc_cell_meme": {
     "current": "acb9d092-6f22-11ee-89fa-0242ac120005-5-ac62-07f6-71b4-93a2-e206",
     "history": [
      {
       "current": "acb9d092-6f22-11ee-89fa-0242ac120005-1-ac62",
       "next": "acb9d0ba-6f22-11ee-89fa-0242ac120005",
       "previous": "acb9d06a-6f22-11ee-89fa-0242ac120005"
      },
      {
       "current": "acb9d092-6f22-11ee-89fa-0242ac120005-2-ac62-07f6",
       "next": "acb9d0ba-6f22-11ee-89fa-0242ac120005-1-f79e",
       "previous": "acb9d06a-6f22-11ee-89fa-0242ac120005-1-af7c"
      },
      {
       "current": "acb9d092-6f22-11ee-89fa-0242ac120005-3-ac62-07f6-71b4",
       "next": "acb9d0ba-6f22-11ee-89fa-0242ac120005-2-f79e-063c",
       "previous": "acb9d06a-6f22-11ee-89fa-0242ac120005-2-af7c-0655"
      },
      {
       "current": "acb9d092-6f22-11ee-89fa-0242ac120005-4-ac62-07f6-71b4-93a2",
       "next": "acb9d0ba-6f22-11ee-89fa-0242ac120005-3-f79e-063c-7aa6",
       "previous": "acb9d06a-6f22-11ee-89fa-0242ac120005-3-af7c-0655-f978"
      },
      {
       "current": "acb9d092-6f22-11ee-89fa-0242ac120005-5-ac62-07f6-71b4-93a2-e206",
       "next": "acb9d0ba-6f22-11ee-89fa-0242ac120005-4-f79e-063c-7aa6-d5c0",
       "previous": "acb9d06a-6f22-11ee-89fa-0242ac120005-4-af7c-0655-f978-6b07"
      }
     ],
     "next": "acb9d0ba-6f22-11ee-89fa-0242ac120005-5-f79e-063c-7aa6-d5c0-0a40",
     "previous": "acb9d06a-6f22-11ee-89fa-0242ac120005-5-af7c-0655-f978-6b07-aa42"
    },
    "scrolled": true
   },
   "outputs": [],
   "source": [
    "cmd = \"openstack baremetal node list -f json --long\"\n",
    "nodes = run_openstack(cmd)"
   ]
  },
  {
   "cell_type": "code",
   "execution_count": null,
   "metadata": {
    "lc_cell_meme": {
     "current": "acb9d0ba-6f22-11ee-89fa-0242ac120005-5-f79e-063c-7aa6-d5c0-0a40",
     "history": [
      {
       "current": "acb9d0ba-6f22-11ee-89fa-0242ac120005-1-f79e",
       "next": "acb9d0e2-6f22-11ee-89fa-0242ac120005",
       "previous": "acb9d092-6f22-11ee-89fa-0242ac120005"
      },
      {
       "current": "acb9d0ba-6f22-11ee-89fa-0242ac120005-2-f79e-063c",
       "next": "acb9d0e2-6f22-11ee-89fa-0242ac120005-1-d808",
       "previous": "acb9d092-6f22-11ee-89fa-0242ac120005-1-ac62"
      },
      {
       "current": "acb9d0ba-6f22-11ee-89fa-0242ac120005-3-f79e-063c-7aa6",
       "next": "acb9d0e2-6f22-11ee-89fa-0242ac120005-2-d808-6d73",
       "previous": "acb9d092-6f22-11ee-89fa-0242ac120005-2-ac62-07f6"
      },
      {
       "current": "acb9d0ba-6f22-11ee-89fa-0242ac120005-4-f79e-063c-7aa6-d5c0",
       "next": "acb9d0e2-6f22-11ee-89fa-0242ac120005-3-d808-6d73-d70b",
       "previous": "acb9d092-6f22-11ee-89fa-0242ac120005-3-ac62-07f6-71b4"
      },
      {
       "current": "acb9d0ba-6f22-11ee-89fa-0242ac120005-5-f79e-063c-7aa6-d5c0-0a40",
       "next": "acb9d0e2-6f22-11ee-89fa-0242ac120005-4-d808-6d73-d70b-a54e",
       "previous": "acb9d092-6f22-11ee-89fa-0242ac120005-4-ac62-07f6-71b4-93a2"
      }
     ],
     "next": "acb9d0e2-6f22-11ee-89fa-0242ac120005-5-d808-6d73-d70b-a54e-ff0d",
     "previous": "acb9d092-6f22-11ee-89fa-0242ac120005-5-ac62-07f6-71b4-93a2-e206"
    }
   },
   "outputs": [],
   "source": [
    "import pandas as pd\n",
    "import re\n",
    "\n",
    "for node in nodes:\n",
    "    instance_uuid = node.get(\"Instance UUID\", None)\n",
    "    if instance_uuid is None:\n",
    "        continue\n",
    "        \n",
    "    node[\"instance_name\"] = node[\"Instance Info\"][\"display_name\"]\n",
    "\n",
    "pd.set_option('display.max_rows', None)\n",
    "pd.DataFrame(nodes, columns=['Instance UUID', 'instance_name', 'UUID', 'Maintenance', 'Provisioning State', 'Power State', 'Name'])\n"
   ]
  },
  {
   "cell_type": "code",
   "execution_count": null,
   "metadata": {
    "lc_cell_meme": {
     "current": "acb9d0e2-6f22-11ee-89fa-0242ac120005-5-d808-6d73-d70b-a54e-ff0d",
     "history": [
      {
       "current": "acb9d0e2-6f22-11ee-89fa-0242ac120005-1-d808",
       "next": "acb9d10a-6f22-11ee-89fa-0242ac120005",
       "previous": "acb9d0ba-6f22-11ee-89fa-0242ac120005"
      },
      {
       "current": "acb9d0e2-6f22-11ee-89fa-0242ac120005-2-d808-6d73",
       "next": "acb9d10a-6f22-11ee-89fa-0242ac120005-1-349d",
       "previous": "acb9d0ba-6f22-11ee-89fa-0242ac120005-1-f79e"
      },
      {
       "current": "acb9d0e2-6f22-11ee-89fa-0242ac120005-3-d808-6d73-d70b",
       "next": "acb9d10a-6f22-11ee-89fa-0242ac120005-2-349d-7a26",
       "previous": "acb9d0ba-6f22-11ee-89fa-0242ac120005-2-f79e-063c"
      },
      {
       "current": "acb9d0e2-6f22-11ee-89fa-0242ac120005-4-d808-6d73-d70b-a54e",
       "next": "acb9d10a-6f22-11ee-89fa-0242ac120005-3-349d-7a26-6150",
       "previous": "acb9d0ba-6f22-11ee-89fa-0242ac120005-3-f79e-063c-7aa6"
      },
      {
       "current": "acb9d0e2-6f22-11ee-89fa-0242ac120005-5-d808-6d73-d70b-a54e-ff0d",
       "next": "acb9d10a-6f22-11ee-89fa-0242ac120005-4-349d-7a26-6150-1143",
       "previous": "acb9d0ba-6f22-11ee-89fa-0242ac120005-4-f79e-063c-7aa6-d5c0"
      }
     ],
     "next": "acb9d10a-6f22-11ee-89fa-0242ac120005-5-349d-7a26-6150-1143-c271",
     "previous": "acb9d0ba-6f22-11ee-89fa-0242ac120005-5-f79e-063c-7aa6-d5c0-0a40"
    },
    "scrolled": true
   },
   "outputs": [],
   "source": [
    "cmd = \"openstack server list -f json --long\"\n",
    "nova_server_map = run_openstack(cmd)"
   ]
  },
  {
   "cell_type": "code",
   "execution_count": null,
   "metadata": {
    "lc_cell_meme": {
     "current": "acb9d10a-6f22-11ee-89fa-0242ac120005-5-349d-7a26-6150-1143-c271",
     "history": [
      {
       "current": "acb9d10a-6f22-11ee-89fa-0242ac120005",
       "next": "acb9d132-6f22-11ee-89fa-0242ac120005",
       "previous": "acb9d0e2-6f22-11ee-89fa-0242ac120005"
      },
      {
       "current": "acb9d10a-6f22-11ee-89fa-0242ac120005-1-349d",
       "next": "7163ca0c-56fb-11ec-a1da-0242ac120004-1-2a50",
       "previous": "acb9d0e2-6f22-11ee-89fa-0242ac120005"
      },
      {
       "current": "acb9d10a-6f22-11ee-89fa-0242ac120005-2-349d-7a26",
       "next": "7163ca0c-56fb-11ec-a1da-0242ac120004-2-2a50-90a2",
       "previous": "acb9d0e2-6f22-11ee-89fa-0242ac120005-1-d808"
      },
      {
       "current": "acb9d10a-6f22-11ee-89fa-0242ac120005-3-349d-7a26-6150",
       "next": "7163ca0c-56fb-11ec-a1da-0242ac120004-3-2a50-90a2-f57a",
       "previous": "acb9d0e2-6f22-11ee-89fa-0242ac120005-2-d808-6d73"
      },
      {
       "current": "acb9d10a-6f22-11ee-89fa-0242ac120005-4-349d-7a26-6150-1143",
       "next": "7163ca0c-56fb-11ec-a1da-0242ac120004-4-2a50-90a2-f57a-52d6",
       "previous": "acb9d0e2-6f22-11ee-89fa-0242ac120005-3-d808-6d73-d70b"
      },
      {
       "current": "acb9d10a-6f22-11ee-89fa-0242ac120005-5-349d-7a26-6150-1143-c271",
       "next": "7163ca0c-56fb-11ec-a1da-0242ac120004-5-2a50-90a2-f57a-52d6-3515",
       "previous": "acb9d0e2-6f22-11ee-89fa-0242ac120005-4-d808-6d73-d70b-a54e"
      }
     ],
     "next": "7163ca0c-56fb-11ec-a1da-0242ac120004-6-2a50-90a2-f57a-52d6-3515-963c",
     "previous": "acb9d0e2-6f22-11ee-89fa-0242ac120005-5-d808-6d73-d70b-a54e-ff0d"
    }
   },
   "outputs": [],
   "source": [
    "node_list = []\n",
    "for server in nova_server_map:\n",
    "    node_id = server['ID']\n",
    "    if re.match(name_match_rule, server['Name']) is None:\n",
    "        continue\n",
    "    for node in nodes:\n",
    "        if node['Instance UUID'] == node_id:\n",
    "            node_info = {}\n",
    "            node_list.append(node_info)\n",
    "            node_info['name'] = server['Name']\n",
    "            node_info['node_name'] = node['Name']\n",
    "            instance_ip_info = instance_ip_map.get(server['Name'], None)\n",
    "            if instance_ip_info is not None:\n",
    "                node_info['instance_ip'] = instance_ip_info.get('ipv4', None)\n",
    "            else:\n",
    "                node_info['instance_ip'] = None\n",
    "            address = server['Networks']\n",
    "            prov_net = address['provisioning-net']\n",
    "            for addr in prov_net:\n",
    "                node_info['prov_ip'] = addr\n",
    "\n",
    "pd.DataFrame(node_list)"
   ]
  },
  {
   "cell_type": "markdown",
   "metadata": {
    "lc_cell_meme": {
     "current": "7163ca0c-56fb-11ec-a1da-0242ac120004-6-2a50-90a2-f57a-52d6-3515-963c",
     "history": [
      {
       "current": "7163ca0c-56fb-11ec-a1da-0242ac120004",
       "next": "7163cc14-56fb-11ec-a1da-0242ac120004",
       "previous": "7163c6b0-56fb-11ec-a1da-0242ac120004"
      },
      {
       "current": "7163ca0c-56fb-11ec-a1da-0242ac120004-1-2a50",
       "next": "7163cc14-56fb-11ec-a1da-0242ac120004",
       "previous": "d9e2e18e-56fc-11ec-a1da-0242ac120004"
      },
      {
       "current": "7163ca0c-56fb-11ec-a1da-0242ac120004-1-2a50",
       "next": "7163cc14-56fb-11ec-a1da-0242ac120004-1-2f97",
       "previous": "d9e2e18e-56fc-11ec-a1da-0242ac120004-1-488f"
      },
      {
       "current": "7163ca0c-56fb-11ec-a1da-0242ac120004-2-2a50-90a2",
       "next": "7163cc14-56fb-11ec-a1da-0242ac120004-1-2f97",
       "previous": "acb9d10a-6f22-11ee-89fa-0242ac120005"
      },
      {
       "current": "7163ca0c-56fb-11ec-a1da-0242ac120004-3-2a50-90a2-f57a",
       "next": "7163cc14-56fb-11ec-a1da-0242ac120004-2-2f97-a529",
       "previous": "acb9d10a-6f22-11ee-89fa-0242ac120005-1-349d"
      },
      {
       "current": "7163ca0c-56fb-11ec-a1da-0242ac120004-4-2a50-90a2-f57a-52d6",
       "next": "7163cc14-56fb-11ec-a1da-0242ac120004-3-2f97-a529-c6ca",
       "previous": "acb9d10a-6f22-11ee-89fa-0242ac120005-2-349d-7a26"
      },
      {
       "current": "7163ca0c-56fb-11ec-a1da-0242ac120004-5-2a50-90a2-f57a-52d6-3515",
       "next": "7163cc14-56fb-11ec-a1da-0242ac120004-4-2f97-a529-c6ca-fe61",
       "previous": "acb9d10a-6f22-11ee-89fa-0242ac120005-3-349d-7a26-6150"
      },
      {
       "current": "7163ca0c-56fb-11ec-a1da-0242ac120004-6-2a50-90a2-f57a-52d6-3515-963c",
       "next": "7163cc14-56fb-11ec-a1da-0242ac120004-5-2f97-a529-c6ca-fe61-40c1",
       "previous": "acb9d10a-6f22-11ee-89fa-0242ac120005-4-349d-7a26-6150-1143"
      }
     ],
     "next": "7163cc14-56fb-11ec-a1da-0242ac120004-6-2f97-a529-c6ca-fe61-40c1-f66a",
     "previous": "acb9d10a-6f22-11ee-89fa-0242ac120005-5-349d-7a26-6150-1143-c271"
    }
   },
   "source": [
    "## 初期化対象Cephノード情報の取得"
   ]
  },
  {
   "cell_type": "markdown",
   "metadata": {
    "lc_cell_meme": {
     "current": "7163cc14-56fb-11ec-a1da-0242ac120004-6-2f97-a529-c6ca-fe61-40c1-f66a",
     "history": [
      {
       "current": "7163cc14-56fb-11ec-a1da-0242ac120004-1-2f97",
       "next": "7163cdd6-56fb-11ec-a1da-0242ac120004",
       "previous": "7163ca0c-56fb-11ec-a1da-0242ac120004"
      },
      {
       "current": "7163cc14-56fb-11ec-a1da-0242ac120004-1-2f97",
       "next": "7163cdd6-56fb-11ec-a1da-0242ac120004-1-03bf",
       "previous": "7163ca0c-56fb-11ec-a1da-0242ac120004-1-2a50"
      },
      {
       "current": "7163cc14-56fb-11ec-a1da-0242ac120004-2-2f97-a529",
       "next": "7163cf84-56fb-11ec-a1da-0242ac120004-1-09bf",
       "previous": "7163ca0c-56fb-11ec-a1da-0242ac120004-1-2a50"
      },
      {
       "current": "7163cc14-56fb-11ec-a1da-0242ac120004-3-2f97-a529-c6ca",
       "next": "7163cf84-56fb-11ec-a1da-0242ac120004-2-09bf-fb5c",
       "previous": "7163ca0c-56fb-11ec-a1da-0242ac120004-2-2a50-90a2"
      },
      {
       "current": "7163cc14-56fb-11ec-a1da-0242ac120004-4-2f97-a529-c6ca-fe61",
       "next": "7163cf84-56fb-11ec-a1da-0242ac120004-3-09bf-fb5c-e66b",
       "previous": "7163ca0c-56fb-11ec-a1da-0242ac120004-3-2a50-90a2-f57a"
      },
      {
       "current": "7163cc14-56fb-11ec-a1da-0242ac120004-5-2f97-a529-c6ca-fe61-40c1",
       "next": "7163cf84-56fb-11ec-a1da-0242ac120004-4-09bf-fb5c-e66b-4b86",
       "previous": "7163ca0c-56fb-11ec-a1da-0242ac120004-4-2a50-90a2-f57a-52d6"
      },
      {
       "current": "7163cc14-56fb-11ec-a1da-0242ac120004-6-2f97-a529-c6ca-fe61-40c1-f66a",
       "next": "7163cf84-56fb-11ec-a1da-0242ac120004-5-09bf-fb5c-e66b-4b86-ea8b",
       "previous": "7163ca0c-56fb-11ec-a1da-0242ac120004-5-2a50-90a2-f57a-52d6-3515"
      }
     ],
     "next": "7163cf84-56fb-11ec-a1da-0242ac120004-6-09bf-fb5c-e66b-4b86-ea8b-0613",
     "previous": "7163ca0c-56fb-11ec-a1da-0242ac120004-6-2a50-90a2-f57a-52d6-3515-963c"
    }
   },
   "source": [
    "初期化対象のインスタンス名称を設定する"
   ]
  },
  {
   "cell_type": "code",
   "execution_count": null,
   "metadata": {
    "lc_cell_meme": {
     "current": "7163cf84-56fb-11ec-a1da-0242ac120004-6-09bf-fb5c-e66b-4b86-ea8b-0613",
     "history": [
      {
       "current": "7163cf84-56fb-11ec-a1da-0242ac120004-1-09bf",
       "next": "7163d132-56fb-11ec-a1da-0242ac120004",
       "previous": "7163cdd6-56fb-11ec-a1da-0242ac120004"
      },
      {
       "current": "7163cf84-56fb-11ec-a1da-0242ac120004-1-09bf",
       "next": "7163d132-56fb-11ec-a1da-0242ac120004-1-18a6",
       "previous": "7163cdd6-56fb-11ec-a1da-0242ac120004-1-03bf"
      },
      {
       "current": "7163cf84-56fb-11ec-a1da-0242ac120004-2-09bf-fb5c",
       "next": "7163d132-56fb-11ec-a1da-0242ac120004-1-18a6",
       "previous": "7163cc14-56fb-11ec-a1da-0242ac120004-1-2f97"
      },
      {
       "current": "7163cf84-56fb-11ec-a1da-0242ac120004-3-09bf-fb5c-e66b",
       "next": "7163d132-56fb-11ec-a1da-0242ac120004-2-18a6-96fa",
       "previous": "7163cc14-56fb-11ec-a1da-0242ac120004-2-2f97-a529"
      },
      {
       "current": "7163cf84-56fb-11ec-a1da-0242ac120004-4-09bf-fb5c-e66b-4b86",
       "next": "7163d132-56fb-11ec-a1da-0242ac120004-3-18a6-96fa-9250",
       "previous": "7163cc14-56fb-11ec-a1da-0242ac120004-3-2f97-a529-c6ca"
      },
      {
       "current": "7163cf84-56fb-11ec-a1da-0242ac120004-5-09bf-fb5c-e66b-4b86-ea8b",
       "next": "7163d132-56fb-11ec-a1da-0242ac120004-4-18a6-96fa-9250-e823",
       "previous": "7163cc14-56fb-11ec-a1da-0242ac120004-4-2f97-a529-c6ca-fe61"
      },
      {
       "current": "7163cf84-56fb-11ec-a1da-0242ac120004-6-09bf-fb5c-e66b-4b86-ea8b-0613",
       "next": "7163d132-56fb-11ec-a1da-0242ac120004-5-18a6-96fa-9250-e823-7e69",
       "previous": "7163cc14-56fb-11ec-a1da-0242ac120004-5-2f97-a529-c6ca-fe61-40c1"
      }
     ],
     "next": "7163d132-56fb-11ec-a1da-0242ac120004-6-18a6-96fa-9250-e823-7e69-577b",
     "previous": "7163cc14-56fb-11ec-a1da-0242ac120004-6-2f97-a529-c6ca-fe61-40c1-f66a"
    }
   },
   "outputs": [],
   "source": [
    "# 初期化対象のインスタンス名称を設定する\n",
    "raise Exception('この先手作業が必要です')"
   ]
  },
  {
   "cell_type": "code",
   "execution_count": null,
   "metadata": {
    "lc_cell_meme": {
     "current": "7163d132-56fb-11ec-a1da-0242ac120004-6-18a6-96fa-9250-e823-7e69-577b",
     "history": [
      {
       "current": "7163d132-56fb-11ec-a1da-0242ac120004-1-18a6",
       "next": "7163d2d6-56fb-11ec-a1da-0242ac120004",
       "previous": "7163cf84-56fb-11ec-a1da-0242ac120004"
      },
      {
       "current": "7163d132-56fb-11ec-a1da-0242ac120004-1-18a6",
       "next": "7163d2d6-56fb-11ec-a1da-0242ac120004-1-e7d2",
       "previous": "7163cf84-56fb-11ec-a1da-0242ac120004-1-09bf"
      },
      {
       "current": "7163d132-56fb-11ec-a1da-0242ac120004-2-18a6-96fa",
       "next": "162bf270-6cae-11ee-89fa-0242ac120005",
       "previous": "7163cf84-56fb-11ec-a1da-0242ac120004-1-09bf"
      },
      {
       "current": "7163d132-56fb-11ec-a1da-0242ac120004-3-18a6-96fa-9250",
       "next": "162bf270-6cae-11ee-89fa-0242ac120005-1-49be",
       "previous": "7163cf84-56fb-11ec-a1da-0242ac120004-2-09bf-fb5c"
      },
      {
       "current": "7163d132-56fb-11ec-a1da-0242ac120004-4-18a6-96fa-9250-e823",
       "next": "162bf270-6cae-11ee-89fa-0242ac120005-2-49be-b9cd",
       "previous": "7163cf84-56fb-11ec-a1da-0242ac120004-3-09bf-fb5c-e66b"
      },
      {
       "current": "7163d132-56fb-11ec-a1da-0242ac120004-5-18a6-96fa-9250-e823-7e69",
       "next": "162bf270-6cae-11ee-89fa-0242ac120005-3-49be-b9cd-ae5a",
       "previous": "7163cf84-56fb-11ec-a1da-0242ac120004-4-09bf-fb5c-e66b-4b86"
      },
      {
       "current": "7163d132-56fb-11ec-a1da-0242ac120004-6-18a6-96fa-9250-e823-7e69-577b",
       "next": "162bf270-6cae-11ee-89fa-0242ac120005-4-49be-b9cd-ae5a-d957",
       "previous": "7163cf84-56fb-11ec-a1da-0242ac120004-5-09bf-fb5c-e66b-4b86-ea8b"
      }
     ],
     "next": "162bf270-6cae-11ee-89fa-0242ac120005-5-49be-b9cd-ae5a-d957-65f7",
     "previous": "7163cf84-56fb-11ec-a1da-0242ac120004-6-09bf-fb5c-e66b-4b86-ea8b-0613"
    }
   },
   "outputs": [],
   "source": [
    "# bootstrap OSD生成先ノード\n",
    "instance_name = 'ceph-xxx-node-001'"
   ]
  },
  {
   "cell_type": "code",
   "execution_count": null,
   "metadata": {
    "lc_cell_meme": {
     "current": "162bf270-6cae-11ee-89fa-0242ac120005-5-49be-b9cd-ae5a-d957-65f7",
     "history": [
      {
       "current": "162bf270-6cae-11ee-89fa-0242ac120005-1-49be",
       "next": "7163d2d6-56fb-11ec-a1da-0242ac120004-1-e7d2",
       "previous": "7163d132-56fb-11ec-a1da-0242ac120004-1-18a6"
      },
      {
       "current": "162bf270-6cae-11ee-89fa-0242ac120005-2-49be-b9cd",
       "next": "7163d2d6-56fb-11ec-a1da-0242ac120004-2-e7d2-f946",
       "previous": "7163d132-56fb-11ec-a1da-0242ac120004-2-18a6-96fa"
      },
      {
       "current": "162bf270-6cae-11ee-89fa-0242ac120005-3-49be-b9cd-ae5a",
       "next": "7163d2d6-56fb-11ec-a1da-0242ac120004-3-e7d2-f946-71cd",
       "previous": "7163d132-56fb-11ec-a1da-0242ac120004-3-18a6-96fa-9250"
      },
      {
       "current": "162bf270-6cae-11ee-89fa-0242ac120005-4-49be-b9cd-ae5a-d957",
       "next": "7163d2d6-56fb-11ec-a1da-0242ac120004-4-e7d2-f946-71cd-00cb",
       "previous": "7163d132-56fb-11ec-a1da-0242ac120004-4-18a6-96fa-9250-e823"
      },
      {
       "current": "162bf270-6cae-11ee-89fa-0242ac120005-5-49be-b9cd-ae5a-d957-65f7",
       "next": "7163d2d6-56fb-11ec-a1da-0242ac120004-5-e7d2-f946-71cd-00cb-3ac8",
       "previous": "7163d132-56fb-11ec-a1da-0242ac120004-5-18a6-96fa-9250-e823-7e69"
      }
     ],
     "next": "7163d2d6-56fb-11ec-a1da-0242ac120004-6-e7d2-f946-71cd-00cb-3ac8-cd96",
     "previous": "7163d132-56fb-11ec-a1da-0242ac120004-6-18a6-96fa-9250-e823-7e69-577b"
    }
   },
   "outputs": [],
   "source": [
    "bootstrap_node_name = 'ceph-xxx-node-001'"
   ]
  },
  {
   "cell_type": "code",
   "execution_count": null,
   "metadata": {
    "lc_cell_meme": {
     "current": "7163d2d6-56fb-11ec-a1da-0242ac120004-6-e7d2-f946-71cd-00cb-3ac8-cd96",
     "history": [
      {
       "current": "7163d2d6-56fb-11ec-a1da-0242ac120004-1-e7d2",
       "next": "7163d470-56fb-11ec-a1da-0242ac120004",
       "previous": "7163d132-56fb-11ec-a1da-0242ac120004"
      },
      {
       "current": "7163d2d6-56fb-11ec-a1da-0242ac120004-1-e7d2",
       "next": "7163d470-56fb-11ec-a1da-0242ac120004-1-1660",
       "previous": "7163d132-56fb-11ec-a1da-0242ac120004-1-18a6"
      },
      {
       "current": "7163d2d6-56fb-11ec-a1da-0242ac120004-2-e7d2-f946",
       "next": "162bf3ec-6cae-11ee-89fa-0242ac120005",
       "previous": "162bf270-6cae-11ee-89fa-0242ac120005"
      },
      {
       "current": "7163d2d6-56fb-11ec-a1da-0242ac120004-3-e7d2-f946-71cd",
       "next": "162bf3ec-6cae-11ee-89fa-0242ac120005-1-880a",
       "previous": "162bf270-6cae-11ee-89fa-0242ac120005-1-49be"
      },
      {
       "current": "7163d2d6-56fb-11ec-a1da-0242ac120004-4-e7d2-f946-71cd-00cb",
       "next": "162bf3ec-6cae-11ee-89fa-0242ac120005-2-880a-7735",
       "previous": "162bf270-6cae-11ee-89fa-0242ac120005-2-49be-b9cd"
      },
      {
       "current": "7163d2d6-56fb-11ec-a1da-0242ac120004-5-e7d2-f946-71cd-00cb-3ac8",
       "next": "162bf3ec-6cae-11ee-89fa-0242ac120005-3-880a-7735-751c",
       "previous": "162bf270-6cae-11ee-89fa-0242ac120005-3-49be-b9cd-ae5a"
      },
      {
       "current": "7163d2d6-56fb-11ec-a1da-0242ac120004-6-e7d2-f946-71cd-00cb-3ac8-cd96",
       "next": "162bf3ec-6cae-11ee-89fa-0242ac120005-4-880a-7735-751c-4703",
       "previous": "162bf270-6cae-11ee-89fa-0242ac120005-4-49be-b9cd-ae5a-d957"
      }
     ],
     "next": "162bf3ec-6cae-11ee-89fa-0242ac120005-5-880a-7735-751c-4703-f6a5",
     "previous": "162bf270-6cae-11ee-89fa-0242ac120005-5-49be-b9cd-ae5a-d957-65f7"
    }
   },
   "outputs": [],
   "source": [
    "target = None\n",
    "for elem in node_list:\n",
    "    if elem['name'] == instance_name:\n",
    "        target = elem\n",
    "        break\n",
    "\n",
    "assert (target is not None), \"指定されたターゲットノードが存在しません。\"\n",
    "print (target)"
   ]
  },
  {
   "cell_type": "code",
   "execution_count": null,
   "metadata": {
    "lc_cell_meme": {
     "current": "162bf3ec-6cae-11ee-89fa-0242ac120005-5-880a-7735-751c-4703-f6a5",
     "history": [
      {
       "current": "162bf3ec-6cae-11ee-89fa-0242ac120005-1-880a",
       "next": "7163d470-56fb-11ec-a1da-0242ac120004-1-1660",
       "previous": "7163d2d6-56fb-11ec-a1da-0242ac120004-1-e7d2"
      },
      {
       "current": "162bf3ec-6cae-11ee-89fa-0242ac120005-2-880a-7735",
       "next": "7163d470-56fb-11ec-a1da-0242ac120004-2-1660-a292",
       "previous": "7163d2d6-56fb-11ec-a1da-0242ac120004-2-e7d2-f946"
      },
      {
       "current": "162bf3ec-6cae-11ee-89fa-0242ac120005-3-880a-7735-751c",
       "next": "7163d470-56fb-11ec-a1da-0242ac120004-3-1660-a292-4c97",
       "previous": "7163d2d6-56fb-11ec-a1da-0242ac120004-3-e7d2-f946-71cd"
      },
      {
       "current": "162bf3ec-6cae-11ee-89fa-0242ac120005-4-880a-7735-751c-4703",
       "next": "7163d470-56fb-11ec-a1da-0242ac120004-4-1660-a292-4c97-bd02",
       "previous": "7163d2d6-56fb-11ec-a1da-0242ac120004-4-e7d2-f946-71cd-00cb"
      },
      {
       "current": "162bf3ec-6cae-11ee-89fa-0242ac120005-5-880a-7735-751c-4703-f6a5",
       "next": "7163d470-56fb-11ec-a1da-0242ac120004-5-1660-a292-4c97-bd02-b467",
       "previous": "7163d2d6-56fb-11ec-a1da-0242ac120004-5-e7d2-f946-71cd-00cb-3ac8"
      }
     ],
     "next": "7163d470-56fb-11ec-a1da-0242ac120004-6-1660-a292-4c97-bd02-b467-ebc3",
     "previous": "7163d2d6-56fb-11ec-a1da-0242ac120004-6-e7d2-f946-71cd-00cb-3ac8-cd96"
    }
   },
   "outputs": [],
   "source": [
    "bootstrap_node = None\n",
    "for elem in node_list:\n",
    "    if elem['name'] == bootstrap_node_name:\n",
    "        bootstrap_node = elem\n",
    "        break\n",
    "\n",
    "assert (bootstrap_node is not None), \"指定されたターゲットノードが存在しません。\"\n",
    "print (bootstrap_node)"
   ]
  },
  {
   "cell_type": "markdown",
   "metadata": {
    "lc_cell_meme": {
     "current": "7163d470-56fb-11ec-a1da-0242ac120004-6-1660-a292-4c97-bd02-b467-ebc3",
     "history": [
      {
       "current": "7163d470-56fb-11ec-a1da-0242ac120004-1-1660",
       "next": "7163d60a-56fb-11ec-a1da-0242ac120004",
       "previous": "7163d2d6-56fb-11ec-a1da-0242ac120004"
      },
      {
       "current": "7163d470-56fb-11ec-a1da-0242ac120004-1-1660",
       "next": "7163d60a-56fb-11ec-a1da-0242ac120004-1-989b",
       "previous": "7163d2d6-56fb-11ec-a1da-0242ac120004-1-e7d2"
      },
      {
       "current": "7163d470-56fb-11ec-a1da-0242ac120004-1-1660",
       "next": "7163d60a-56fb-11ec-a1da-0242ac120004-1-989b",
       "previous": "162bf3ec-6cae-11ee-89fa-0242ac120005"
      },
      {
       "current": "7163d470-56fb-11ec-a1da-0242ac120004-2-1660-a292",
       "next": "743175ea-56fb-11ec-a1da-0242ac120004-2-33ed-7a5f",
       "previous": "162bf3ec-6cae-11ee-89fa-0242ac120005"
      },
      {
       "current": "7163d470-56fb-11ec-a1da-0242ac120004-3-1660-a292-4c97",
       "next": "743175ea-56fb-11ec-a1da-0242ac120004-3-33ed-7a5f-9d35",
       "previous": "162bf3ec-6cae-11ee-89fa-0242ac120005-1-880a"
      },
      {
       "current": "7163d470-56fb-11ec-a1da-0242ac120004-4-1660-a292-4c97-bd02",
       "next": "743175ea-56fb-11ec-a1da-0242ac120004-4-33ed-7a5f-9d35-029d",
       "previous": "162bf3ec-6cae-11ee-89fa-0242ac120005-2-880a-7735"
      },
      {
       "current": "7163d470-56fb-11ec-a1da-0242ac120004-5-1660-a292-4c97-bd02-b467",
       "next": "743175ea-56fb-11ec-a1da-0242ac120004-5-33ed-7a5f-9d35-029d-e12c",
       "previous": "162bf3ec-6cae-11ee-89fa-0242ac120005-3-880a-7735-751c"
      },
      {
       "current": "7163d470-56fb-11ec-a1da-0242ac120004-6-1660-a292-4c97-bd02-b467-ebc3",
       "next": "743175ea-56fb-11ec-a1da-0242ac120004-6-33ed-7a5f-9d35-029d-e12c-31aa",
       "previous": "162bf3ec-6cae-11ee-89fa-0242ac120005-4-880a-7735-751c-4703"
      }
     ],
     "next": "743175ea-56fb-11ec-a1da-0242ac120004-7-33ed-7a5f-9d35-029d-e12c-31aa-ac2f",
     "previous": "162bf3ec-6cae-11ee-89fa-0242ac120005-5-880a-7735-751c-4703-f6a5"
    }
   },
   "source": [
    "## 一時Inventoryファイルの生成\n",
    "以下を実行し、作業用ディレクトリ配下に一時Inventoryファイルを生成する。"
   ]
  },
  {
   "cell_type": "markdown",
   "metadata": {
    "lc_cell_meme": {
     "current": "743175ea-56fb-11ec-a1da-0242ac120004-7-33ed-7a5f-9d35-029d-e12c-31aa-ac2f",
     "history": [
      {
       "current": "743175ea-56fb-11ec-a1da-0242ac120004-2-33ed-7a5f",
       "next": "7431796e-56fb-11ec-a1da-0242ac120004",
       "previous": "7163d7ae-56fb-11ec-a1da-0242ac120004"
      },
      {
       "current": "743175ea-56fb-11ec-a1da-0242ac120004-2-33ed-7a5f",
       "next": "7431796e-56fb-11ec-a1da-0242ac120004-1-d0f1",
       "previous": "7163d7ae-56fb-11ec-a1da-0242ac120004-1-0ea4"
      },
      {
       "current": "743175ea-56fb-11ec-a1da-0242ac120004-3-33ed-7a5f-9d35",
       "next": "7431796e-56fb-11ec-a1da-0242ac120004-1-d0f1",
       "previous": "7163d470-56fb-11ec-a1da-0242ac120004-1-1660"
      },
      {
       "current": "743175ea-56fb-11ec-a1da-0242ac120004-4-33ed-7a5f-9d35-029d",
       "next": "7431796e-56fb-11ec-a1da-0242ac120004-2-d0f1-be63",
       "previous": "7163d470-56fb-11ec-a1da-0242ac120004-2-1660-a292"
      },
      {
       "current": "743175ea-56fb-11ec-a1da-0242ac120004-5-33ed-7a5f-9d35-029d-e12c",
       "next": "7431796e-56fb-11ec-a1da-0242ac120004-3-d0f1-be63-cdb1",
       "previous": "7163d470-56fb-11ec-a1da-0242ac120004-3-1660-a292-4c97"
      },
      {
       "current": "743175ea-56fb-11ec-a1da-0242ac120004-6-33ed-7a5f-9d35-029d-e12c-31aa",
       "next": "7431796e-56fb-11ec-a1da-0242ac120004-4-d0f1-be63-cdb1-e81d",
       "previous": "7163d470-56fb-11ec-a1da-0242ac120004-4-1660-a292-4c97-bd02"
      },
      {
       "current": "743175ea-56fb-11ec-a1da-0242ac120004-7-33ed-7a5f-9d35-029d-e12c-31aa-ac2f",
       "next": "7431796e-56fb-11ec-a1da-0242ac120004-5-d0f1-be63-cdb1-e81d-8572",
       "previous": "7163d470-56fb-11ec-a1da-0242ac120004-5-1660-a292-4c97-bd02-b467"
      }
     ],
     "next": "7431796e-56fb-11ec-a1da-0242ac120004-6-d0f1-be63-cdb1-e81d-8572-2f23",
     "previous": "7163d470-56fb-11ec-a1da-0242ac120004-6-1660-a292-4c97-bd02-b467-ebc3"
    }
   },
   "source": [
    "Inventoryファイルを生成する。"
   ]
  },
  {
   "cell_type": "code",
   "execution_count": null,
   "metadata": {
    "lc_cell_meme": {
     "current": "7431796e-56fb-11ec-a1da-0242ac120004-6-d0f1-be63-cdb1-e81d-8572-2f23",
     "history": [
      {
       "current": "7431796e-56fb-11ec-a1da-0242ac120004",
       "next": "74317b3a-56fb-11ec-a1da-0242ac120004",
       "previous": "743175ea-56fb-11ec-a1da-0242ac120004"
      },
      {
       "current": "7431796e-56fb-11ec-a1da-0242ac120004-1-d0f1",
       "next": "74317b3a-56fb-11ec-a1da-0242ac120004-1-6a3c",
       "previous": "743175ea-56fb-11ec-a1da-0242ac120004-1-33ed"
      },
      {
       "current": "7431796e-56fb-11ec-a1da-0242ac120004-2-d0f1-be63",
       "next": "74317b3a-56fb-11ec-a1da-0242ac120004-2-6a3c-5cd9",
       "previous": "743175ea-56fb-11ec-a1da-0242ac120004-2-33ed-7a5f"
      },
      {
       "current": "7431796e-56fb-11ec-a1da-0242ac120004-3-d0f1-be63-cdb1",
       "next": "74317b3a-56fb-11ec-a1da-0242ac120004-3-6a3c-5cd9-37f7",
       "previous": "743175ea-56fb-11ec-a1da-0242ac120004-3-33ed-7a5f-9d35"
      },
      {
       "current": "7431796e-56fb-11ec-a1da-0242ac120004-4-d0f1-be63-cdb1-e81d",
       "next": "74317b3a-56fb-11ec-a1da-0242ac120004-4-6a3c-5cd9-37f7-5301",
       "previous": "743175ea-56fb-11ec-a1da-0242ac120004-4-33ed-7a5f-9d35-029d"
      },
      {
       "current": "7431796e-56fb-11ec-a1da-0242ac120004-4-d0f1-be63-cdb1-e81d",
       "next": "74317b3a-56fb-11ec-a1da-0242ac120004-5-6a3c-5cd9-37f7-5301-f7c8",
       "previous": "743175ea-56fb-11ec-a1da-0242ac120004-5-33ed-7a5f-9d35-029d-e12c"
      },
      {
       "current": "7431796e-56fb-11ec-a1da-0242ac120004-5-d0f1-be63-cdb1-e81d-8572",
       "next": "74317e28-56fb-11ec-a1da-0242ac120004-4-474d-6416-908e-b120",
       "previous": "743175ea-56fb-11ec-a1da-0242ac120004-5-33ed-7a5f-9d35-029d-e12c"
      },
      {
       "current": "7431796e-56fb-11ec-a1da-0242ac120004-6-d0f1-be63-cdb1-e81d-8572-2f23",
       "next": "74317e28-56fb-11ec-a1da-0242ac120004-5-474d-6416-908e-b120-8c5e",
       "previous": "743175ea-56fb-11ec-a1da-0242ac120004-6-33ed-7a5f-9d35-029d-e12c-31aa"
      }
     ],
     "next": "74317e28-56fb-11ec-a1da-0242ac120004-6-474d-6416-908e-b120-8c5e-07cb",
     "previous": "743175ea-56fb-11ec-a1da-0242ac120004-7-33ed-7a5f-9d35-029d-e12c-31aa-ac2f"
    }
   },
   "outputs": [],
   "source": [
    "node_user='xxxxx'\n",
    "proxy_user='xxxxx'\n",
    "proxy_key='~/.ssh/id_ras'"
   ]
  },
  {
   "cell_type": "code",
   "execution_count": null,
   "metadata": {
    "lc_cell_meme": {
     "current": "74317e28-56fb-11ec-a1da-0242ac120004-6-474d-6416-908e-b120-8c5e-07cb",
     "history": [
      {
       "current": "74317e28-56fb-11ec-a1da-0242ac120004",
       "next": "c709e59c-56f9-11ec-a1da-0242ac120004",
       "previous": "74317cb6-56fb-11ec-a1da-0242ac120004"
      },
      {
       "current": "74317e28-56fb-11ec-a1da-0242ac120004-1-474d",
       "next": "35c362a4-55a3-11e7-b0b2-00163e9c0e35-1-e49a",
       "previous": "74317cb6-56fb-11ec-a1da-0242ac120004"
      },
      {
       "current": "74317e28-56fb-11ec-a1da-0242ac120004-1-474d",
       "next": "35c362a4-55a3-11e7-b0b2-00163e9c0e35-2-e49a-f407",
       "previous": "74317cb6-56fb-11ec-a1da-0242ac120004-1-9d19"
      },
      {
       "current": "74317e28-56fb-11ec-a1da-0242ac120004-2-474d-6416",
       "next": "35c362a4-55a3-11e7-b0b2-00163e9c0e35-2-e49a-f407",
       "previous": "74317b3a-56fb-11ec-a1da-0242ac120004-2-6a3c-5cd9"
      },
      {
       "current": "74317e28-56fb-11ec-a1da-0242ac120004-3-474d-6416-908e",
       "next": "35c362a4-55a3-11e7-b0b2-00163e9c0e35-3-e49a-f407-221f",
       "previous": "74317b3a-56fb-11ec-a1da-0242ac120004-3-6a3c-5cd9-37f7"
      },
      {
       "current": "74317e28-56fb-11ec-a1da-0242ac120004-4-474d-6416-908e-b120",
       "next": "35c362a4-55a3-11e7-b0b2-00163e9c0e35-4-e49a-f407-221f-f6cf",
       "previous": "74317b3a-56fb-11ec-a1da-0242ac120004-4-6a3c-5cd9-37f7-5301"
      },
      {
       "current": "74317e28-56fb-11ec-a1da-0242ac120004-4-474d-6416-908e-b120",
       "next": "35c362a4-55a3-11e7-b0b2-00163e9c0e35-5-e49a-f407-221f-f6cf-8aa5",
       "previous": "74317b3a-56fb-11ec-a1da-0242ac120004-5-6a3c-5cd9-37f7-5301-f7c8"
      },
      {
       "current": "74317e28-56fb-11ec-a1da-0242ac120004-4-474d-6416-908e-b120",
       "next": "a5f45084-1cc9-11ef-ad2f-0242ac120005",
       "previous": "74317b3a-56fb-11ec-a1da-0242ac120004-5-6a3c-5cd9-37f7-5301-f7c8"
      },
      {
       "current": "74317e28-56fb-11ec-a1da-0242ac120004-5-474d-6416-908e-b120-8c5e",
       "next": "a5f45084-1cc9-11ef-ad2f-0242ac120005",
       "previous": "7431796e-56fb-11ec-a1da-0242ac120004-4-d0f1-be63-cdb1-e81d"
      },
      {
       "current": "74317e28-56fb-11ec-a1da-0242ac120004-6-474d-6416-908e-b120-8c5e-07cb",
       "next": "a5f45084-1cc9-11ef-ad2f-0242ac120005-1-b4e3",
       "previous": "7431796e-56fb-11ec-a1da-0242ac120004-5-d0f1-be63-cdb1-e81d-8572"
      }
     ],
     "next": "a5f45084-1cc9-11ef-ad2f-0242ac120005-2-b4e3-7251",
     "previous": "7431796e-56fb-11ec-a1da-0242ac120004-6-d0f1-be63-cdb1-e81d-8572-2f23"
    }
   },
   "outputs": [],
   "source": [
    "import os\n",
    "\n",
    "with open( os.path.join(temp_dir, \"hosts\"), 'w') as f:\n",
    "     f.write('''[ceph_admin]\n",
    "{ceph_admin_ip}   ansible_user={proxy_user} ansible_ssh_private_key_file={proxy_key} ansible_python_interpreter=/usr/bin/python3\n",
    "[ceph_node]\n",
    "{node_ip}  ansible_user={node_user} ansible_ssh_common_args='-o ControlMaster=auto -o StrictHostKeyChecking=no -o ControlPersist=30m -o ProxyCommand=\"ssh -W %h:%p -i {proxy_key} -q {proxy_user}@{ceph_admin_ip}\"' ansible_python_interpreter=/usr/bin/python3\n",
    "'''.format(ceph_admin_ip=ceph_admin_ip, node_ip=target[\"prov_ip\"],\n",
    "           node_user=node_user, proxy_user=proxy_user, proxy_key=proxy_key))\n",
    "     f.write('''[bootstrap]\n",
    "{node_ip}  ansible_user={node_user} ansible_ssh_common_args='-o ControlMaster=auto -o StrictHostKeyChecking=no -o ControlPersist=30m -o ProxyCommand=\"ssh -W %h:%p -i {proxy_key} -q {proxy_user}@{ceph_admin_ip}\"' ansible_python_interpreter=/usr/bin/python3\n",
    "'''.format(ceph_admin_ip=ceph_admin_ip, node_ip=bootstrap_node[\"prov_ip\"],\n",
    "           node_user=node_user, proxy_user=proxy_user, proxy_key=proxy_key))\n",
    "\n",
    "hosts = temp_dir + \"/hosts\"\n",
    "\n",
    "!cat $hosts"
   ]
  },
  {
   "cell_type": "code",
   "execution_count": null,
   "metadata": {
    "lc_cell_meme": {
     "current": "a5f45084-1cc9-11ef-ad2f-0242ac120005-2-b4e3-7251",
     "history": [
      {
       "current": "a5f45084-1cc9-11ef-ad2f-0242ac120005-1-b4e3",
       "next": "35c362a4-55a3-11e7-b0b2-00163e9c0e35-5-e49a-f407-221f-f6cf-8aa5",
       "previous": "74317e28-56fb-11ec-a1da-0242ac120004-4-474d-6416-908e-b120"
      },
      {
       "current": "a5f45084-1cc9-11ef-ad2f-0242ac120005-2-b4e3-7251",
       "next": "35c362a4-55a3-11e7-b0b2-00163e9c0e35-6-e49a-f407-221f-f6cf-8aa5-f77b",
       "previous": "74317e28-56fb-11ec-a1da-0242ac120004-5-474d-6416-908e-b120-8c5e"
      }
     ],
     "next": "35c362a4-55a3-11e7-b0b2-00163e9c0e35-7-e49a-f407-221f-f6cf-8aa5-f77b-f37e",
     "previous": "74317e28-56fb-11ec-a1da-0242ac120004-6-474d-6416-908e-b120-8c5e-07cb"
    }
   },
   "outputs": [],
   "source": [
    "%env ANSIBLE_INVENTORY={hosts}"
   ]
  },
  {
   "cell_type": "markdown",
   "metadata": {
    "lc_cell_meme": {
     "current": "35c362a4-55a3-11e7-b0b2-00163e9c0e35-7-e49a-f407-221f-f6cf-8aa5-f77b-f37e",
     "history": [
      {
       "current": "35c362a4-55a3-11e7-b0b2-00163e9c0e35",
       "next": "35c36448-55a3-11e7-b0b2-00163e9c0e35",
       "previous": "35c360f6-55a3-11e7-b0b2-00163e9c0e35"
      },
      {
       "current": "35c362a4-55a3-11e7-b0b2-00163e9c0e35",
       "next": "35c36448-55a3-11e7-b0b2-00163e9c0e35",
       "previous": "4cd5b0cc-7ef5-11ea-a926-0242ac120004"
      },
      {
       "current": "35c362a4-55a3-11e7-b0b2-00163e9c0e35",
       "next": "35c36448-55a3-11e7-b0b2-00163e9c0e35",
       "previous": "db546a28-7ef5-11ea-a926-0242ac120004"
      },
      {
       "current": "35c362a4-55a3-11e7-b0b2-00163e9c0e35",
       "next": "35c36448-55a3-11e7-b0b2-00163e9c0e35",
       "previous": "4cd5af28-7ef5-11ea-a926-0242ac120004"
      },
      {
       "current": "35c362a4-55a3-11e7-b0b2-00163e9c0e35",
       "next": "35c36448-55a3-11e7-b0b2-00163e9c0e35",
       "previous": "7d464504-9107-11ea-8d02-0242ac120007"
      },
      {
       "current": "35c362a4-55a3-11e7-b0b2-00163e9c0e35",
       "next": "35c36448-55a3-11e7-b0b2-00163e9c0e35",
       "previous": "bd797188-910b-11ea-8d02-0242ac120007"
      },
      {
       "current": "35c362a4-55a3-11e7-b0b2-00163e9c0e35",
       "next": "35c36448-55a3-11e7-b0b2-00163e9c0e35",
       "previous": "70b95056-9111-11ea-8d02-0242ac120007"
      },
      {
       "current": "35c362a4-55a3-11e7-b0b2-00163e9c0e35",
       "next": "35c36448-55a3-11e7-b0b2-00163e9c0e35",
       "previous": "bd797188-910b-11ea-8d02-0242ac120007"
      },
      {
       "current": "35c362a4-55a3-11e7-b0b2-00163e9c0e35",
       "next": "bd797188-910b-11ea-8d02-0242ac120007",
       "previous": "4cd5af28-7ef5-11ea-a926-0242ac120004"
      },
      {
       "current": "35c362a4-55a3-11e7-b0b2-00163e9c0e35",
       "next": "484c7376-935c-11ea-8d02-0242ac120007",
       "previous": "4cd5af28-7ef5-11ea-a926-0242ac120004"
      },
      {
       "current": "35c362a4-55a3-11e7-b0b2-00163e9c0e35-1-e49a",
       "next": "bd797188-910b-11ea-8d02-0242ac120007",
       "previous": "4cd5af28-7ef5-11ea-a926-0242ac120004"
      },
      {
       "current": "35c362a4-55a3-11e7-b0b2-00163e9c0e35-1-e49a",
       "next": "bd797188-910b-11ea-8d02-0242ac120007-1-a27b",
       "previous": "4cd5af28-7ef5-11ea-a926-0242ac120004-1-4700"
      },
      {
       "current": "35c362a4-55a3-11e7-b0b2-00163e9c0e35-1-e49a",
       "next": "bd797188-910b-11ea-8d02-0242ac120007-1-a27b",
       "previous": "35c337f2-55a3-11e7-b0b2-00163e9c0e35-1-dc7a"
      },
      {
       "current": "35c362a4-55a3-11e7-b0b2-00163e9c0e35-1-e49a",
       "next": "bd797188-910b-11ea-8d02-0242ac120007-1-a27b",
       "previous": "37fd8534-56f9-11ec-a1da-0242ac120004"
      },
      {
       "current": "35c362a4-55a3-11e7-b0b2-00163e9c0e35-1-e49a",
       "next": "bd797188-910b-11ea-8d02-0242ac120007-1-a27b",
       "previous": "c709e722-56f9-11ec-a1da-0242ac120004"
      },
      {
       "current": "35c362a4-55a3-11e7-b0b2-00163e9c0e35-2-e49a-f407",
       "next": "bd797188-910b-11ea-8d02-0242ac120007-1-a27b",
       "previous": "74317e28-56fb-11ec-a1da-0242ac120004"
      },
      {
       "current": "35c362a4-55a3-11e7-b0b2-00163e9c0e35-3-e49a-f407-221f",
       "next": "bd797188-910b-11ea-8d02-0242ac120007-2-a27b-d878",
       "previous": "74317e28-56fb-11ec-a1da-0242ac120004-1-474d"
      },
      {
       "current": "35c362a4-55a3-11e7-b0b2-00163e9c0e35-4-e49a-f407-221f-f6cf",
       "next": "bd797188-910b-11ea-8d02-0242ac120007-3-a27b-d878-755b",
       "previous": "74317e28-56fb-11ec-a1da-0242ac120004-2-474d-6416"
      },
      {
       "current": "35c362a4-55a3-11e7-b0b2-00163e9c0e35-5-e49a-f407-221f-f6cf-8aa5",
       "next": "bd797188-910b-11ea-8d02-0242ac120007-4-a27b-d878-755b-5ea3",
       "previous": "74317e28-56fb-11ec-a1da-0242ac120004-3-474d-6416-908e"
      },
      {
       "current": "35c362a4-55a3-11e7-b0b2-00163e9c0e35-5-e49a-f407-221f-f6cf-8aa5",
       "next": "bd797188-910b-11ea-8d02-0242ac120007-5-a27b-d878-755b-5ea3-c4d6",
       "previous": "74317e28-56fb-11ec-a1da-0242ac120004-4-474d-6416-908e-b120"
      },
      {
       "current": "35c362a4-55a3-11e7-b0b2-00163e9c0e35-6-e49a-f407-221f-f6cf-8aa5-f77b",
       "next": "bd797188-910b-11ea-8d02-0242ac120007-5-a27b-d878-755b-5ea3-c4d6",
       "previous": "a5f45084-1cc9-11ef-ad2f-0242ac120005"
      },
      {
       "current": "35c362a4-55a3-11e7-b0b2-00163e9c0e35-7-e49a-f407-221f-f6cf-8aa5-f77b-f37e",
       "next": "bd797188-910b-11ea-8d02-0242ac120007-6-a27b-d878-755b-5ea3-c4d6-a01d",
       "previous": "a5f45084-1cc9-11ef-ad2f-0242ac120005-1-b4e3"
      }
     ],
     "next": "bd797188-910b-11ea-8d02-0242ac120007-7-a27b-d878-755b-5ea3-c4d6-a01d-d1d6",
     "previous": "a5f45084-1cc9-11ef-ad2f-0242ac120005-2-b4e3-7251"
    }
   },
   "source": [
    "# 疎通確認\n",
    "以下コマンドを実行し、OpeHubからCephAdmin経由で、Cephノードに疎通することを確認する。"
   ]
  },
  {
   "cell_type": "code",
   "execution_count": null,
   "metadata": {
    "lc_cell_meme": {
     "current": "bd797188-910b-11ea-8d02-0242ac120007-7-a27b-d878-755b-5ea3-c4d6-a01d-d1d6",
     "history": [
      {
       "current": "bd797188-910b-11ea-8d02-0242ac120007",
       "next": "35c362a4-55a3-11e7-b0b2-00163e9c0e35",
       "previous": "7d464504-9107-11ea-8d02-0242ac120007"
      },
      {
       "current": "bd797188-910b-11ea-8d02-0242ac120007",
       "next": "70b95056-9111-11ea-8d02-0242ac120007",
       "previous": "7d464504-9107-11ea-8d02-0242ac120007"
      },
      {
       "current": "bd797188-910b-11ea-8d02-0242ac120007",
       "next": "35c362a4-55a3-11e7-b0b2-00163e9c0e35",
       "previous": "7d464504-9107-11ea-8d02-0242ac120007"
      },
      {
       "current": "bd797188-910b-11ea-8d02-0242ac120007",
       "next": "35c362a4-55a3-11e7-b0b2-00163e9c0e35",
       "previous": "4cd5af28-7ef5-11ea-a926-0242ac120004"
      },
      {
       "current": "bd797188-910b-11ea-8d02-0242ac120007",
       "next": "35c36448-55a3-11e7-b0b2-00163e9c0e35",
       "previous": "35c362a4-55a3-11e7-b0b2-00163e9c0e35"
      },
      {
       "current": "bd797188-910b-11ea-8d02-0242ac120007",
       "next": "35c3783e-55a3-11e7-b0b2-00163e9c0e35",
       "previous": "35c362a4-55a3-11e7-b0b2-00163e9c0e35"
      },
      {
       "current": "bd797188-910b-11ea-8d02-0242ac120007",
       "next": "35c3783e-55a3-11e7-b0b2-00163e9c0e35",
       "previous": "484c7376-935c-11ea-8d02-0242ac120007"
      },
      {
       "current": "bd797188-910b-11ea-8d02-0242ac120007",
       "next": "35c3783e-55a3-11e7-b0b2-00163e9c0e35",
       "previous": "35c362a4-55a3-11e7-b0b2-00163e9c0e35"
      },
      {
       "current": "bd797188-910b-11ea-8d02-0242ac120007",
       "next": "ac56a252-95bd-11ea-8d02-0242ac120007",
       "previous": "35c362a4-55a3-11e7-b0b2-00163e9c0e35"
      },
      {
       "current": "bd797188-910b-11ea-8d02-0242ac120007",
       "next": "3121c468-9a31-11ea-8d02-0242ac120007",
       "previous": "35c362a4-55a3-11e7-b0b2-00163e9c0e35"
      },
      {
       "current": "bd797188-910b-11ea-8d02-0242ac120007",
       "next": "65205d38-9a36-11ea-8d02-0242ac120007",
       "previous": "35c362a4-55a3-11e7-b0b2-00163e9c0e35"
      },
      {
       "current": "bd797188-910b-11ea-8d02-0242ac120007-1-a27b",
       "next": "9418ce40-9a36-11ea-8d02-0242ac120007",
       "previous": "35c362a4-55a3-11e7-b0b2-00163e9c0e35"
      },
      {
       "current": "bd797188-910b-11ea-8d02-0242ac120007-2-a27b-d878",
       "next": "9418ce40-9a36-11ea-8d02-0242ac120007-1-e415",
       "previous": "35c362a4-55a3-11e7-b0b2-00163e9c0e35-1-e49a"
      },
      {
       "current": "bd797188-910b-11ea-8d02-0242ac120007-3-a27b-d878-755b",
       "next": "9418ce40-9a36-11ea-8d02-0242ac120007-2-e415-abb0",
       "previous": "35c362a4-55a3-11e7-b0b2-00163e9c0e35-2-e49a-f407"
      },
      {
       "current": "bd797188-910b-11ea-8d02-0242ac120007-4-a27b-d878-755b-5ea3",
       "next": "9418ce40-9a36-11ea-8d02-0242ac120007-3-e415-abb0-12df",
       "previous": "35c362a4-55a3-11e7-b0b2-00163e9c0e35-3-e49a-f407-221f"
      },
      {
       "current": "bd797188-910b-11ea-8d02-0242ac120007-5-a27b-d878-755b-5ea3-c4d6",
       "next": "9418ce40-9a36-11ea-8d02-0242ac120007-4-e415-abb0-12df-5d96",
       "previous": "35c362a4-55a3-11e7-b0b2-00163e9c0e35-4-e49a-f407-221f-f6cf"
      },
      {
       "current": "bd797188-910b-11ea-8d02-0242ac120007-6-a27b-d878-755b-5ea3-c4d6-a01d",
       "next": "9418ce40-9a36-11ea-8d02-0242ac120007-5-e415-abb0-12df-5d96-3e94",
       "previous": "35c362a4-55a3-11e7-b0b2-00163e9c0e35-5-e49a-f407-221f-f6cf-8aa5"
      },
      {
       "current": "bd797188-910b-11ea-8d02-0242ac120007-7-a27b-d878-755b-5ea3-c4d6-a01d-d1d6",
       "next": "9418ce40-9a36-11ea-8d02-0242ac120007-6-e415-abb0-12df-5d96-3e94-c532",
       "previous": "35c362a4-55a3-11e7-b0b2-00163e9c0e35-6-e49a-f407-221f-f6cf-8aa5-f77b"
      }
     ],
     "next": "9418ce40-9a36-11ea-8d02-0242ac120007-7-e415-abb0-12df-5d96-3e94-c532-9a2d",
     "previous": "35c362a4-55a3-11e7-b0b2-00163e9c0e35-7-e49a-f407-221f-f6cf-8aa5-f77b-f37e"
    }
   },
   "outputs": [],
   "source": [
    "!ansible -i $hosts -b -m shell -a 'hostname' ceph_admin"
   ]
  },
  {
   "cell_type": "markdown",
   "metadata": {
    "lc_cell_meme": {
     "current": "9418ce40-9a36-11ea-8d02-0242ac120007-7-e415-abb0-12df-5d96-3e94-c532-9a2d",
     "history": [
      {
       "current": "9418ce40-9a36-11ea-8d02-0242ac120007-1-e415",
       "next": "65205d38-9a36-11ea-8d02-0242ac120007",
       "previous": "bd797188-910b-11ea-8d02-0242ac120007"
      },
      {
       "current": "9418ce40-9a36-11ea-8d02-0242ac120007-2-e415-abb0",
       "next": "65205d38-9a36-11ea-8d02-0242ac120007-1-4503",
       "previous": "bd797188-910b-11ea-8d02-0242ac120007-1-a27b"
      },
      {
       "current": "9418ce40-9a36-11ea-8d02-0242ac120007-2-e415-abb0",
       "next": "65205d38-9a36-11ea-8d02-0242ac120007-2-4503-c921",
       "previous": "bd797188-910b-11ea-8d02-0242ac120007-2-a27b-d878"
      },
      {
       "current": "9418ce40-9a36-11ea-8d02-0242ac120007-3-e415-abb0-12df",
       "next": "034b7262-56fc-11ec-a1da-0242ac120004-1-6184",
       "previous": "bd797188-910b-11ea-8d02-0242ac120007-2-a27b-d878"
      },
      {
       "current": "9418ce40-9a36-11ea-8d02-0242ac120007-4-e415-abb0-12df-5d96",
       "next": "034b7262-56fc-11ec-a1da-0242ac120004-2-6184-2fbc",
       "previous": "bd797188-910b-11ea-8d02-0242ac120007-3-a27b-d878-755b"
      },
      {
       "current": "9418ce40-9a36-11ea-8d02-0242ac120007-5-e415-abb0-12df-5d96-3e94",
       "next": "034b7262-56fc-11ec-a1da-0242ac120004-3-6184-2fbc-b986",
       "previous": "bd797188-910b-11ea-8d02-0242ac120007-4-a27b-d878-755b-5ea3"
      },
      {
       "current": "9418ce40-9a36-11ea-8d02-0242ac120007-6-e415-abb0-12df-5d96-3e94-c532",
       "next": "034b7262-56fc-11ec-a1da-0242ac120004-4-6184-2fbc-b986-223b",
       "previous": "bd797188-910b-11ea-8d02-0242ac120007-5-a27b-d878-755b-5ea3-c4d6"
      },
      {
       "current": "9418ce40-9a36-11ea-8d02-0242ac120007-7-e415-abb0-12df-5d96-3e94-c532-9a2d",
       "next": "034b7262-56fc-11ec-a1da-0242ac120004-5-6184-2fbc-b986-223b-b5d0",
       "previous": "bd797188-910b-11ea-8d02-0242ac120007-6-a27b-d878-755b-5ea3-c4d6-a01d"
      }
     ],
     "next": "034b7262-56fc-11ec-a1da-0242ac120004-6-6184-2fbc-b986-223b-b5d0-50d6",
     "previous": "bd797188-910b-11ea-8d02-0242ac120007-7-a27b-d878-755b-5ea3-c4d6-a01d-d1d6"
    }
   },
   "source": [
    "以下コマンドを実行し、OpeHubからCephAdminに疎通することを確認する。"
   ]
  },
  {
   "cell_type": "code",
   "execution_count": null,
   "metadata": {
    "lc_cell_meme": {
     "current": "034b7262-56fc-11ec-a1da-0242ac120004-6-6184-2fbc-b986-223b-b5d0-50d6",
     "history": [
      {
       "current": "034b7262-56fc-11ec-a1da-0242ac120004",
       "next": "cfbfd3de-9a50-11ea-8d02-0242ac120007-1-a19f",
       "previous": "65205d38-9a36-11ea-8d02-0242ac120007-1-4503"
      },
      {
       "current": "034b7262-56fc-11ec-a1da-0242ac120004-1-6184",
       "next": "08f1174a-9b04-11ea-8d02-0242ac120007-1-f99a",
       "previous": "65205d38-9a36-11ea-8d02-0242ac120007-1-4503"
      },
      {
       "current": "034b7262-56fc-11ec-a1da-0242ac120004-1-6184",
       "next": "08f1174a-9b04-11ea-8d02-0242ac120007-2-f99a-9309",
       "previous": "65205d38-9a36-11ea-8d02-0242ac120007-2-4503-c921"
      },
      {
       "current": "034b7262-56fc-11ec-a1da-0242ac120004-1-6184",
       "next": "ecc4b59c-6cae-11ee-89fa-0242ac120005",
       "previous": "65205d38-9a36-11ea-8d02-0242ac120007-2-4503-c921"
      },
      {
       "current": "034b7262-56fc-11ec-a1da-0242ac120004-2-6184-2fbc",
       "next": "ecc4b59c-6cae-11ee-89fa-0242ac120005",
       "previous": "9418ce40-9a36-11ea-8d02-0242ac120007-2-e415-abb0"
      },
      {
       "current": "034b7262-56fc-11ec-a1da-0242ac120004-3-6184-2fbc-b986",
       "next": "ecc4b59c-6cae-11ee-89fa-0242ac120005-1-8b40",
       "previous": "9418ce40-9a36-11ea-8d02-0242ac120007-3-e415-abb0-12df"
      },
      {
       "current": "034b7262-56fc-11ec-a1da-0242ac120004-4-6184-2fbc-b986-223b",
       "next": "ecc4b59c-6cae-11ee-89fa-0242ac120005-2-8b40-35eb",
       "previous": "9418ce40-9a36-11ea-8d02-0242ac120007-4-e415-abb0-12df-5d96"
      },
      {
       "current": "034b7262-56fc-11ec-a1da-0242ac120004-5-6184-2fbc-b986-223b-b5d0",
       "next": "ecc4b59c-6cae-11ee-89fa-0242ac120005-3-8b40-35eb-f22d",
       "previous": "9418ce40-9a36-11ea-8d02-0242ac120007-5-e415-abb0-12df-5d96-3e94"
      },
      {
       "current": "034b7262-56fc-11ec-a1da-0242ac120004-6-6184-2fbc-b986-223b-b5d0-50d6",
       "next": "ecc4b59c-6cae-11ee-89fa-0242ac120005-4-8b40-35eb-f22d-ff9f",
       "previous": "9418ce40-9a36-11ea-8d02-0242ac120007-6-e415-abb0-12df-5d96-3e94-c532"
      }
     ],
     "next": "ecc4b59c-6cae-11ee-89fa-0242ac120005-5-8b40-35eb-f22d-ff9f-9d75",
     "previous": "9418ce40-9a36-11ea-8d02-0242ac120007-7-e415-abb0-12df-5d96-3e94-c532-9a2d"
    }
   },
   "outputs": [],
   "source": [
    "!ansible -i $hosts -b -m shell -a 'hostname' bootstrap"
   ]
  },
  {
   "cell_type": "code",
   "execution_count": null,
   "metadata": {
    "lc_cell_meme": {
     "current": "ecc4b59c-6cae-11ee-89fa-0242ac120005-5-8b40-35eb-f22d-ff9f-9d75",
     "history": [
      {
       "current": "ecc4b59c-6cae-11ee-89fa-0242ac120005",
       "next": "08f1174a-9b04-11ea-8d02-0242ac120007-2-f99a-9309",
       "previous": "034b7262-56fc-11ec-a1da-0242ac120004-1-6184"
      },
      {
       "current": "ecc4b59c-6cae-11ee-89fa-0242ac120005-1-8b40",
       "next": "f22be07e-81e3-11ee-91d3-0242ac120006",
       "previous": "034b7262-56fc-11ec-a1da-0242ac120004-1-6184"
      },
      {
       "current": "ecc4b59c-6cae-11ee-89fa-0242ac120005-2-8b40-35eb",
       "next": "f22be07e-81e3-11ee-91d3-0242ac120006-1-b9eb",
       "previous": "034b7262-56fc-11ec-a1da-0242ac120004-2-6184-2fbc"
      },
      {
       "current": "ecc4b59c-6cae-11ee-89fa-0242ac120005-3-8b40-35eb-f22d",
       "next": "f22be07e-81e3-11ee-91d3-0242ac120006-2-b9eb-96ca",
       "previous": "034b7262-56fc-11ec-a1da-0242ac120004-3-6184-2fbc-b986"
      },
      {
       "current": "ecc4b59c-6cae-11ee-89fa-0242ac120005-4-8b40-35eb-f22d-ff9f",
       "next": "f22be07e-81e3-11ee-91d3-0242ac120006-3-b9eb-96ca-95fb",
       "previous": "034b7262-56fc-11ec-a1da-0242ac120004-4-6184-2fbc-b986-223b"
      },
      {
       "current": "ecc4b59c-6cae-11ee-89fa-0242ac120005-5-8b40-35eb-f22d-ff9f-9d75",
       "next": "f22be07e-81e3-11ee-91d3-0242ac120006-4-b9eb-96ca-95fb-0863",
       "previous": "034b7262-56fc-11ec-a1da-0242ac120004-5-6184-2fbc-b986-223b-b5d0"
      }
     ],
     "next": "f22be07e-81e3-11ee-91d3-0242ac120006-5-b9eb-96ca-95fb-0863-1b17",
     "previous": "034b7262-56fc-11ec-a1da-0242ac120004-6-6184-2fbc-b986-223b-b5d0-50d6"
    }
   },
   "outputs": [],
   "source": [
    "!ansible -i $hosts -b -m shell -a 'hostname' ceph_node"
   ]
  },
  {
   "cell_type": "markdown",
   "metadata": {
    "lc_cell_meme": {
     "current": "f22be07e-81e3-11ee-91d3-0242ac120006-5-b9eb-96ca-95fb-0863-1b17",
     "history": [
      {
       "current": "f22be07e-81e3-11ee-91d3-0242ac120006",
       "next": "f22be268-81e3-11ee-91d3-0242ac120006",
       "previous": "ecc4b59c-6cae-11ee-89fa-0242ac120005"
      },
      {
       "current": "f22be07e-81e3-11ee-91d3-0242ac120006-1-b9eb",
       "next": "f22be268-81e3-11ee-91d3-0242ac120006-1-728b",
       "previous": "ecc4b59c-6cae-11ee-89fa-0242ac120005"
      },
      {
       "current": "f22be07e-81e3-11ee-91d3-0242ac120006-2-b9eb-96ca",
       "next": "f22be268-81e3-11ee-91d3-0242ac120006-2-728b-027e",
       "previous": "ecc4b59c-6cae-11ee-89fa-0242ac120005-1-8b40"
      },
      {
       "current": "f22be07e-81e3-11ee-91d3-0242ac120006-3-b9eb-96ca-95fb",
       "next": "f22be268-81e3-11ee-91d3-0242ac120006-3-728b-027e-3a08",
       "previous": "ecc4b59c-6cae-11ee-89fa-0242ac120005-2-8b40-35eb"
      },
      {
       "current": "f22be07e-81e3-11ee-91d3-0242ac120006-4-b9eb-96ca-95fb-0863",
       "next": "f22be268-81e3-11ee-91d3-0242ac120006-4-728b-027e-3a08-9585",
       "previous": "ecc4b59c-6cae-11ee-89fa-0242ac120005-3-8b40-35eb-f22d"
      },
      {
       "current": "f22be07e-81e3-11ee-91d3-0242ac120006-5-b9eb-96ca-95fb-0863-1b17",
       "next": "f22be268-81e3-11ee-91d3-0242ac120006-5-728b-027e-3a08-9585-0ba7",
       "previous": "ecc4b59c-6cae-11ee-89fa-0242ac120005-4-8b40-35eb-f22d-ff9f"
      }
     ],
     "next": "f22be268-81e3-11ee-91d3-0242ac120006-6-728b-027e-3a08-9585-0ba7-1900",
     "previous": "ecc4b59c-6cae-11ee-89fa-0242ac120005-5-8b40-35eb-f22d-ff9f-9d75"
    }
   },
   "source": [
    "# 事前PV/LVM情報取得"
   ]
  },
  {
   "cell_type": "markdown",
   "metadata": {
    "heading_collapsed": true,
    "lc_cell_meme": {
     "current": "f22be268-81e3-11ee-91d3-0242ac120006-6-728b-027e-3a08-9585-0ba7-1900",
     "history": [
      {
       "current": "f22be268-81e3-11ee-91d3-0242ac120006-2-728b-027e",
       "next": "f22be330-81e3-11ee-91d3-0242ac120006",
       "previous": "f22be07e-81e3-11ee-91d3-0242ac120006"
      },
      {
       "current": "f22be268-81e3-11ee-91d3-0242ac120006-3-728b-027e-3a08",
       "next": "f22be330-81e3-11ee-91d3-0242ac120006-1-bc9f",
       "previous": "f22be07e-81e3-11ee-91d3-0242ac120006-1-b9eb"
      },
      {
       "current": "f22be268-81e3-11ee-91d3-0242ac120006-4-728b-027e-3a08-9585",
       "next": "f22be330-81e3-11ee-91d3-0242ac120006-2-bc9f-2f64",
       "previous": "f22be07e-81e3-11ee-91d3-0242ac120006-2-b9eb-96ca"
      },
      {
       "current": "f22be268-81e3-11ee-91d3-0242ac120006-5-728b-027e-3a08-9585-0ba7",
       "next": "f22be330-81e3-11ee-91d3-0242ac120006-3-bc9f-2f64-2b20",
       "previous": "f22be07e-81e3-11ee-91d3-0242ac120006-3-b9eb-96ca-95fb"
      },
      {
       "current": "f22be268-81e3-11ee-91d3-0242ac120006-6-728b-027e-3a08-9585-0ba7-1900",
       "next": "f22be330-81e3-11ee-91d3-0242ac120006-4-bc9f-2f64-2b20-7464",
       "previous": "f22be07e-81e3-11ee-91d3-0242ac120006-4-b9eb-96ca-95fb-0863"
      }
     ],
     "next": "f22be330-81e3-11ee-91d3-0242ac120006-5-bc9f-2f64-2b20-7464-f94b",
     "previous": "f22be07e-81e3-11ee-91d3-0242ac120006-5-b9eb-96ca-95fb-0863-1b17"
    }
   },
   "source": [
    "## LVM情報取得関数定"
   ]
  },
  {
   "cell_type": "code",
   "execution_count": null,
   "metadata": {
    "hidden": true,
    "lc_cell_meme": {
     "current": "f22be330-81e3-11ee-91d3-0242ac120006-5-bc9f-2f64-2b20-7464-f94b",
     "history": [
      {
       "current": "f22be330-81e3-11ee-91d3-0242ac120006",
       "next": "f22be3b2-81e3-11ee-91d3-0242ac120006",
       "previous": "f22be268-81e3-11ee-91d3-0242ac120006"
      },
      {
       "current": "f22be330-81e3-11ee-91d3-0242ac120006-1-bc9f",
       "next": "f22be3b2-81e3-11ee-91d3-0242ac120006-1-210b",
       "previous": "f22be268-81e3-11ee-91d3-0242ac120006-1-728b"
      },
      {
       "current": "f22be330-81e3-11ee-91d3-0242ac120006-2-bc9f-2f64",
       "next": "f22be3b2-81e3-11ee-91d3-0242ac120006-2-210b-fd97",
       "previous": "f22be268-81e3-11ee-91d3-0242ac120006-2-728b-027e"
      },
      {
       "current": "f22be330-81e3-11ee-91d3-0242ac120006-3-bc9f-2f64-2b20",
       "next": "f22be3b2-81e3-11ee-91d3-0242ac120006-3-210b-fd97-000b",
       "previous": "f22be268-81e3-11ee-91d3-0242ac120006-3-728b-027e-3a08"
      },
      {
       "current": "f22be330-81e3-11ee-91d3-0242ac120006-4-bc9f-2f64-2b20-7464",
       "next": "f22be3b2-81e3-11ee-91d3-0242ac120006-4-210b-fd97-000b-6a68",
       "previous": "f22be268-81e3-11ee-91d3-0242ac120006-4-728b-027e-3a08-9585"
      },
      {
       "current": "f22be330-81e3-11ee-91d3-0242ac120006-5-bc9f-2f64-2b20-7464-f94b",
       "next": "f22be3b2-81e3-11ee-91d3-0242ac120006-5-210b-fd97-000b-6a68-f776",
       "previous": "f22be268-81e3-11ee-91d3-0242ac120006-5-728b-027e-3a08-9585-0ba7"
      }
     ],
     "next": "f22be3b2-81e3-11ee-91d3-0242ac120006-6-210b-fd97-000b-6a68-f776-80fe",
     "previous": "f22be268-81e3-11ee-91d3-0242ac120006-6-728b-027e-3a08-9585-0ba7-1900"
    }
   },
   "outputs": [],
   "source": [
    "import re\n",
    "\n",
    "def make_pv_info_list(ret):\n",
    "    ret.pop(0)\n",
    "    pv_info_list = []\n",
    "    pv_info = None\n",
    "    for line in ret:\n",
    "        if re.search('Physical volume', line) is not None:\n",
    "            pv_info = {}\n",
    "        elif re.search('PV Name', line) is not None:\n",
    "            elems = re.sub('PV Name','',line).split()\n",
    "            pv_info['pv_name'] = elems[0]\n",
    "        elif re.search('VG Name', line) is not None:\n",
    "            elems = re.sub('VG Name','',line).split()\n",
    "            pv_info['vg_name'] = elems[0]\n",
    "        elif re.search('PV Size', line) is not None:\n",
    "            elems = re.sub('PV Size','',line).split()\n",
    "            pv_info['pv_size'] = elems[0]\n",
    "            pv_info_list.append(pv_info)\n",
    "\n",
    "    return pv_info_list\n",
    "\n",
    "def make_lv_info_list(ret, pv_info_map):\n",
    "    lv_info_list = []\n",
    "    lv_info = None\n",
    "    for line in ret:\n",
    "        if re.search('Logical volume', line) is not None:\n",
    "            lv_info = {}\n",
    "        elif re.search('LV Path', line) is not None:\n",
    "            elems = re.sub('LV Path','',line).split()\n",
    "            lv_info['lv_path'] = elems[0]\n",
    "        elif re.search('LV Name', line) is not None:\n",
    "            elems = re.sub('LV Name','',line).split()\n",
    "            lv_info['lv_name'] = elems[0]\n",
    "        elif re.search('VG Name', line) is not None:\n",
    "            elems = re.sub('VG Name','',line).split()\n",
    "            lv_info['vg_name'] = elems[0]\n",
    "            lv_info['pv_name'] = pv_info_map.get(lv_info['vg_name'],None)\n",
    "        elif re.search('Block device', line) is not None:\n",
    "            elems = re.sub('Block device','',line).split()\n",
    "            lv_info['block_dev'] = elems[0]\n",
    "            dev_elems = lv_info['block_dev'].split(':')\n",
    "            dev_name = \"dm-{}\".format(dev_elems[1])\n",
    "            lv_info['dev_name'] = dev_name\n",
    "            lv_info_list.append(lv_info)\n",
    "            \n",
    "    return lv_info_list"
   ]
  },
  {
   "cell_type": "markdown",
   "metadata": {
    "lc_cell_meme": {
     "current": "f22be3b2-81e3-11ee-91d3-0242ac120006-6-210b-fd97-000b-6a68-f776-80fe",
     "history": [
      {
       "current": "f22be3b2-81e3-11ee-91d3-0242ac120006-1-210b",
       "next": "f22be434-81e3-11ee-91d3-0242ac120006",
       "previous": "f22be330-81e3-11ee-91d3-0242ac120006"
      },
      {
       "current": "f22be3b2-81e3-11ee-91d3-0242ac120006-2-210b-fd97",
       "next": "39bc8e5c-81e4-11ee-91d3-0242ac120006",
       "previous": "f22be330-81e3-11ee-91d3-0242ac120006"
      },
      {
       "current": "f22be3b2-81e3-11ee-91d3-0242ac120006-3-210b-fd97-000b",
       "next": "39bc8e5c-81e4-11ee-91d3-0242ac120006-1-0a44",
       "previous": "f22be330-81e3-11ee-91d3-0242ac120006-1-bc9f"
      },
      {
       "current": "f22be3b2-81e3-11ee-91d3-0242ac120006-4-210b-fd97-000b-6a68",
       "next": "39bc8e5c-81e4-11ee-91d3-0242ac120006-2-0a44-dcd3",
       "previous": "f22be330-81e3-11ee-91d3-0242ac120006-2-bc9f-2f64"
      },
      {
       "current": "f22be3b2-81e3-11ee-91d3-0242ac120006-5-210b-fd97-000b-6a68-f776",
       "next": "39bc8e5c-81e4-11ee-91d3-0242ac120006-3-0a44-dcd3-baf5",
       "previous": "f22be330-81e3-11ee-91d3-0242ac120006-3-bc9f-2f64-2b20"
      },
      {
       "current": "f22be3b2-81e3-11ee-91d3-0242ac120006-6-210b-fd97-000b-6a68-f776-80fe",
       "next": "39bc8e5c-81e4-11ee-91d3-0242ac120006-4-0a44-dcd3-baf5-5167",
       "previous": "f22be330-81e3-11ee-91d3-0242ac120006-4-bc9f-2f64-2b20-7464"
      }
     ],
     "next": "39bc8e5c-81e4-11ee-91d3-0242ac120006-5-0a44-dcd3-baf5-5167-b1f1",
     "previous": "f22be330-81e3-11ee-91d3-0242ac120006-5-bc9f-2f64-2b20-7464-f94b"
    }
   },
   "source": [
    "## PV情報取得"
   ]
  },
  {
   "cell_type": "code",
   "execution_count": null,
   "metadata": {
    "lc_cell_meme": {
     "current": "39bc8e5c-81e4-11ee-91d3-0242ac120006-5-0a44-dcd3-baf5-5167-b1f1",
     "history": [
      {
       "current": "39bc8e5c-81e4-11ee-91d3-0242ac120006-1-0a44",
       "next": "39bc9064-81e4-11ee-91d3-0242ac120006",
       "previous": "f22be3b2-81e3-11ee-91d3-0242ac120006-1-210b"
      },
      {
       "current": "39bc8e5c-81e4-11ee-91d3-0242ac120006-2-0a44-dcd3",
       "next": "39bc9064-81e4-11ee-91d3-0242ac120006-1-275c",
       "previous": "f22be3b2-81e3-11ee-91d3-0242ac120006-2-210b-fd97"
      },
      {
       "current": "39bc8e5c-81e4-11ee-91d3-0242ac120006-3-0a44-dcd3-baf5",
       "next": "39bc9064-81e4-11ee-91d3-0242ac120006-2-275c-632b",
       "previous": "f22be3b2-81e3-11ee-91d3-0242ac120006-3-210b-fd97-000b"
      },
      {
       "current": "39bc8e5c-81e4-11ee-91d3-0242ac120006-4-0a44-dcd3-baf5-5167",
       "next": "39bc9064-81e4-11ee-91d3-0242ac120006-3-275c-632b-f2c9",
       "previous": "f22be3b2-81e3-11ee-91d3-0242ac120006-4-210b-fd97-000b-6a68"
      },
      {
       "current": "39bc8e5c-81e4-11ee-91d3-0242ac120006-5-0a44-dcd3-baf5-5167-b1f1",
       "next": "39bc9064-81e4-11ee-91d3-0242ac120006-4-275c-632b-f2c9-a720",
       "previous": "f22be3b2-81e3-11ee-91d3-0242ac120006-5-210b-fd97-000b-6a68-f776"
      }
     ],
     "next": "39bc9064-81e4-11ee-91d3-0242ac120006-5-275c-632b-f2c9-a720-82fd",
     "previous": "f22be3b2-81e3-11ee-91d3-0242ac120006-6-210b-fd97-000b-6a68-f776-80fe"
    }
   },
   "outputs": [],
   "source": [
    "# get PV Info\n",
    "ret = !ansible -i $hosts -b -m shell -a 'pvdisplay' ceph_node\n",
    "pv_info_list = make_pv_info_list(ret)\n",
    "\n",
    "pv_info_map = {}\n",
    "for pv_info in pv_info_list:\n",
    "    vg_name = pv_info['vg_name']\n",
    "    pv_info_map[vg_name] = pv_info['pv_name']    \n",
    "    \n",
    "# get PV Info\n",
    "ret = !ansible -i $hosts -b -m shell -a 'lvdisplay' ceph_node\n",
    "lv_info_list = make_lv_info_list(ret,pv_info_map)\n",
    "\n"
   ]
  },
  {
   "cell_type": "code",
   "execution_count": null,
   "metadata": {
    "lc_cell_meme": {
     "current": "39bc9064-81e4-11ee-91d3-0242ac120006-5-275c-632b-f2c9-a720-82fd",
     "history": [
      {
       "current": "39bc9064-81e4-11ee-91d3-0242ac120006-1-275c",
       "next": "39bc910e-81e4-11ee-91d3-0242ac120006",
       "previous": "39bc8e5c-81e4-11ee-91d3-0242ac120006"
      },
      {
       "current": "39bc9064-81e4-11ee-91d3-0242ac120006-2-275c-632b",
       "next": "39bc910e-81e4-11ee-91d3-0242ac120006-1-f828",
       "previous": "39bc8e5c-81e4-11ee-91d3-0242ac120006-1-0a44"
      },
      {
       "current": "39bc9064-81e4-11ee-91d3-0242ac120006-3-275c-632b-f2c9",
       "next": "39bc910e-81e4-11ee-91d3-0242ac120006-2-f828-2b0f",
       "previous": "39bc8e5c-81e4-11ee-91d3-0242ac120006-2-0a44-dcd3"
      },
      {
       "current": "39bc9064-81e4-11ee-91d3-0242ac120006-4-275c-632b-f2c9-a720",
       "next": "39bc910e-81e4-11ee-91d3-0242ac120006-3-f828-2b0f-a2be",
       "previous": "39bc8e5c-81e4-11ee-91d3-0242ac120006-3-0a44-dcd3-baf5"
      },
      {
       "current": "39bc9064-81e4-11ee-91d3-0242ac120006-5-275c-632b-f2c9-a720-82fd",
       "next": "39bc910e-81e4-11ee-91d3-0242ac120006-4-f828-2b0f-a2be-a09d",
       "previous": "39bc8e5c-81e4-11ee-91d3-0242ac120006-4-0a44-dcd3-baf5-5167"
      }
     ],
     "next": "39bc910e-81e4-11ee-91d3-0242ac120006-5-f828-2b0f-a2be-a09d-c533",
     "previous": "39bc8e5c-81e4-11ee-91d3-0242ac120006-5-0a44-dcd3-baf5-5167-b1f1"
    }
   },
   "outputs": [],
   "source": [
    "pd.DataFrame(pv_info_list)"
   ]
  },
  {
   "cell_type": "code",
   "execution_count": null,
   "metadata": {
    "lc_cell_meme": {
     "current": "39bc910e-81e4-11ee-91d3-0242ac120006-5-f828-2b0f-a2be-a09d-c533",
     "history": [
      {
       "current": "39bc910e-81e4-11ee-91d3-0242ac120006-1-f828",
       "next": "39bc9190-81e4-11ee-91d3-0242ac120006",
       "previous": "39bc9064-81e4-11ee-91d3-0242ac120006"
      },
      {
       "current": "39bc910e-81e4-11ee-91d3-0242ac120006-2-f828-2b0f",
       "next": "39bc9190-81e4-11ee-91d3-0242ac120006-1-bec8",
       "previous": "39bc9064-81e4-11ee-91d3-0242ac120006-1-275c"
      },
      {
       "current": "39bc910e-81e4-11ee-91d3-0242ac120006-3-f828-2b0f-a2be",
       "next": "39bc9190-81e4-11ee-91d3-0242ac120006-2-bec8-ee45",
       "previous": "39bc9064-81e4-11ee-91d3-0242ac120006-2-275c-632b"
      },
      {
       "current": "39bc910e-81e4-11ee-91d3-0242ac120006-4-f828-2b0f-a2be-a09d",
       "next": "39bc9190-81e4-11ee-91d3-0242ac120006-3-bec8-ee45-bf18",
       "previous": "39bc9064-81e4-11ee-91d3-0242ac120006-3-275c-632b-f2c9"
      },
      {
       "current": "39bc910e-81e4-11ee-91d3-0242ac120006-5-f828-2b0f-a2be-a09d-c533",
       "next": "39bc9190-81e4-11ee-91d3-0242ac120006-4-bec8-ee45-bf18-38b3",
       "previous": "39bc9064-81e4-11ee-91d3-0242ac120006-4-275c-632b-f2c9-a720"
      }
     ],
     "next": "39bc9190-81e4-11ee-91d3-0242ac120006-5-bec8-ee45-bf18-38b3-e30d",
     "previous": "39bc9064-81e4-11ee-91d3-0242ac120006-5-275c-632b-f2c9-a720-82fd"
    }
   },
   "outputs": [],
   "source": [
    "pd.DataFrame(lv_info_list)"
   ]
  },
  {
   "cell_type": "code",
   "execution_count": null,
   "metadata": {
    "lc_cell_meme": {
     "current": "39bc9190-81e4-11ee-91d3-0242ac120006-5-bec8-ee45-bf18-38b3-e30d",
     "history": [
      {
       "current": "39bc9190-81e4-11ee-91d3-0242ac120006",
       "next": "39bc91fe-81e4-11ee-91d3-0242ac120006",
       "previous": "39bc910e-81e4-11ee-91d3-0242ac120006"
      },
      {
       "current": "39bc9190-81e4-11ee-91d3-0242ac120006",
       "next": "79af6e92-81fa-11ee-91d3-0242ac120006",
       "previous": "39bc910e-81e4-11ee-91d3-0242ac120006"
      },
      {
       "current": "39bc9190-81e4-11ee-91d3-0242ac120006-1-bec8",
       "next": "feb0f914-81fd-11ee-91d3-0242ac120006",
       "previous": "39bc910e-81e4-11ee-91d3-0242ac120006"
      },
      {
       "current": "39bc9190-81e4-11ee-91d3-0242ac120006-2-bec8-ee45",
       "next": "feb0f914-81fd-11ee-91d3-0242ac120006-1-5508",
       "previous": "39bc910e-81e4-11ee-91d3-0242ac120006-1-f828"
      },
      {
       "current": "39bc9190-81e4-11ee-91d3-0242ac120006-3-bec8-ee45-bf18",
       "next": "feb0f914-81fd-11ee-91d3-0242ac120006-2-5508-64ce",
       "previous": "39bc910e-81e4-11ee-91d3-0242ac120006-2-f828-2b0f"
      },
      {
       "current": "39bc9190-81e4-11ee-91d3-0242ac120006-4-bec8-ee45-bf18-38b3",
       "next": "feb0f914-81fd-11ee-91d3-0242ac120006-3-5508-64ce-f035",
       "previous": "39bc910e-81e4-11ee-91d3-0242ac120006-3-f828-2b0f-a2be"
      },
      {
       "current": "39bc9190-81e4-11ee-91d3-0242ac120006-5-bec8-ee45-bf18-38b3-e30d",
       "next": "feb0f914-81fd-11ee-91d3-0242ac120006-4-5508-64ce-f035-935e",
       "previous": "39bc910e-81e4-11ee-91d3-0242ac120006-4-f828-2b0f-a2be-a09d"
      }
     ],
     "next": "feb0f914-81fd-11ee-91d3-0242ac120006-5-5508-64ce-f035-935e-e649",
     "previous": "39bc910e-81e4-11ee-91d3-0242ac120006-5-f828-2b0f-a2be-a09d-c533"
    }
   },
   "outputs": [],
   "source": [
    "db_lv_info_list = []\n",
    "data_lv_info_list = []\n",
    "for lv_info in lv_info_list:\n",
    "    vg_name = lv_info['vg_name']\n",
    "    if vg_name == 'vg_db':\n",
    "        db_lv_info_list.append(lv_info)\n",
    "        lv_name = lv_info['lv_name']\n",
    "        lv_id = lv_name.replace('lv_db','')\n",
    "        lv_info['lv_id'] = int(lv_id)\n",
    "    elif 'vg_data_' in vg_name:\n",
    "        data_lv_info_list.append(lv_info)\n",
    "        lv_name = lv_info['lv_name']\n",
    "        lv_id = lv_name.replace('lv_data_','')\n",
    "        lv_info['lv_id'] = int(lv_id)\n"
   ]
  },
  {
   "cell_type": "code",
   "execution_count": null,
   "metadata": {
    "lc_cell_meme": {
     "current": "feb0f914-81fd-11ee-91d3-0242ac120006-5-5508-64ce-f035-935e-e649",
     "history": [
      {
       "current": "feb0f914-81fd-11ee-91d3-0242ac120006-1-5508",
       "next": "feb0f9fa-81fd-11ee-91d3-0242ac120006",
       "previous": "39bc9190-81e4-11ee-91d3-0242ac120006"
      },
      {
       "current": "feb0f914-81fd-11ee-91d3-0242ac120006-2-5508-64ce",
       "next": "feb0f9fa-81fd-11ee-91d3-0242ac120006-1-0f12",
       "previous": "39bc9190-81e4-11ee-91d3-0242ac120006-1-bec8"
      },
      {
       "current": "feb0f914-81fd-11ee-91d3-0242ac120006-3-5508-64ce-f035",
       "next": "feb0f9fa-81fd-11ee-91d3-0242ac120006-2-0f12-8e78",
       "previous": "39bc9190-81e4-11ee-91d3-0242ac120006-2-bec8-ee45"
      },
      {
       "current": "feb0f914-81fd-11ee-91d3-0242ac120006-4-5508-64ce-f035-935e",
       "next": "feb0f9fa-81fd-11ee-91d3-0242ac120006-3-0f12-8e78-7455",
       "previous": "39bc9190-81e4-11ee-91d3-0242ac120006-3-bec8-ee45-bf18"
      },
      {
       "current": "feb0f914-81fd-11ee-91d3-0242ac120006-5-5508-64ce-f035-935e-e649",
       "next": "feb0f9fa-81fd-11ee-91d3-0242ac120006-4-0f12-8e78-7455-1991",
       "previous": "39bc9190-81e4-11ee-91d3-0242ac120006-4-bec8-ee45-bf18-38b3"
      }
     ],
     "next": "feb0f9fa-81fd-11ee-91d3-0242ac120006-5-0f12-8e78-7455-1991-e7ad",
     "previous": "39bc9190-81e4-11ee-91d3-0242ac120006-5-bec8-ee45-bf18-38b3-e30d"
    }
   },
   "outputs": [],
   "source": [
    "pd.DataFrame(db_lv_info_list)"
   ]
  },
  {
   "cell_type": "code",
   "execution_count": null,
   "metadata": {
    "lc_cell_meme": {
     "current": "feb0f9fa-81fd-11ee-91d3-0242ac120006-5-0f12-8e78-7455-1991-e7ad",
     "history": [
      {
       "current": "feb0f9fa-81fd-11ee-91d3-0242ac120006-1-0f12",
       "next": "79af6e92-81fa-11ee-91d3-0242ac120006",
       "previous": "feb0f914-81fd-11ee-91d3-0242ac120006"
      },
      {
       "current": "feb0f9fa-81fd-11ee-91d3-0242ac120006-2-0f12-8e78",
       "next": "79af6e92-81fa-11ee-91d3-0242ac120006-1-71ea",
       "previous": "feb0f914-81fd-11ee-91d3-0242ac120006-1-5508"
      },
      {
       "current": "feb0f9fa-81fd-11ee-91d3-0242ac120006-3-0f12-8e78-7455",
       "next": "79af6e92-81fa-11ee-91d3-0242ac120006-2-71ea-63dd",
       "previous": "feb0f914-81fd-11ee-91d3-0242ac120006-2-5508-64ce"
      },
      {
       "current": "feb0f9fa-81fd-11ee-91d3-0242ac120006-4-0f12-8e78-7455-1991",
       "next": "79af6e92-81fa-11ee-91d3-0242ac120006-3-71ea-63dd-a1ad",
       "previous": "feb0f914-81fd-11ee-91d3-0242ac120006-3-5508-64ce-f035"
      },
      {
       "current": "feb0f9fa-81fd-11ee-91d3-0242ac120006-5-0f12-8e78-7455-1991-e7ad",
       "next": "79af6e92-81fa-11ee-91d3-0242ac120006-4-71ea-63dd-a1ad-3124",
       "previous": "feb0f914-81fd-11ee-91d3-0242ac120006-4-5508-64ce-f035-935e"
      }
     ],
     "next": "79af6e92-81fa-11ee-91d3-0242ac120006-5-71ea-63dd-a1ad-3124-fc85",
     "previous": "feb0f914-81fd-11ee-91d3-0242ac120006-5-5508-64ce-f035-935e-e649"
    }
   },
   "outputs": [],
   "source": [
    "pd.DataFrame(data_lv_info_list)"
   ]
  },
  {
   "cell_type": "markdown",
   "metadata": {
    "lc_cell_meme": {
     "current": "79af6e92-81fa-11ee-91d3-0242ac120006-5-71ea-63dd-a1ad-3124-fc85",
     "history": [
      {
       "current": "79af6e92-81fa-11ee-91d3-0242ac120006",
       "next": "79af704a-81fa-11ee-91d3-0242ac120006",
       "previous": "39bc9190-81e4-11ee-91d3-0242ac120006"
      },
      {
       "current": "79af6e92-81fa-11ee-91d3-0242ac120006",
       "next": "79af704a-81fa-11ee-91d3-0242ac120006-1-93c1",
       "previous": "39bc9190-81e4-11ee-91d3-0242ac120006"
      },
      {
       "current": "79af6e92-81fa-11ee-91d3-0242ac120006-1-71ea",
       "next": "79af704a-81fa-11ee-91d3-0242ac120006-1-93c1",
       "previous": "feb0f9fa-81fd-11ee-91d3-0242ac120006"
      },
      {
       "current": "79af6e92-81fa-11ee-91d3-0242ac120006-2-71ea-63dd",
       "next": "79af704a-81fa-11ee-91d3-0242ac120006-2-93c1-5e22",
       "previous": "feb0f9fa-81fd-11ee-91d3-0242ac120006-1-0f12"
      },
      {
       "current": "79af6e92-81fa-11ee-91d3-0242ac120006-3-71ea-63dd-a1ad",
       "next": "79af704a-81fa-11ee-91d3-0242ac120006-3-93c1-5e22-39b9",
       "previous": "feb0f9fa-81fd-11ee-91d3-0242ac120006-2-0f12-8e78"
      },
      {
       "current": "79af6e92-81fa-11ee-91d3-0242ac120006-4-71ea-63dd-a1ad-3124",
       "next": "79af704a-81fa-11ee-91d3-0242ac120006-4-93c1-5e22-39b9-6ecb",
       "previous": "feb0f9fa-81fd-11ee-91d3-0242ac120006-3-0f12-8e78-7455"
      },
      {
       "current": "79af6e92-81fa-11ee-91d3-0242ac120006-5-71ea-63dd-a1ad-3124-fc85",
       "next": "79af704a-81fa-11ee-91d3-0242ac120006-5-93c1-5e22-39b9-6ecb-a5cf",
       "previous": "feb0f9fa-81fd-11ee-91d3-0242ac120006-4-0f12-8e78-7455-1991"
      }
     ],
     "next": "79af704a-81fa-11ee-91d3-0242ac120006-6-93c1-5e22-39b9-6ecb-a5cf-fc63",
     "previous": "feb0f9fa-81fd-11ee-91d3-0242ac120006-5-0f12-8e78-7455-1991-e7ad"
    }
   },
   "source": [
    "# 未使用状態のLVを特定"
   ]
  },
  {
   "cell_type": "markdown",
   "metadata": {
    "lc_cell_meme": {
     "current": "79af704a-81fa-11ee-91d3-0242ac120006-6-93c1-5e22-39b9-6ecb-a5cf-fc63",
     "history": [
      {
       "current": "79af704a-81fa-11ee-91d3-0242ac120006-2-93c1-5e22",
       "next": "79af70f4-81fa-11ee-91d3-0242ac120006",
       "previous": "79af6e92-81fa-11ee-91d3-0242ac120006"
      },
      {
       "current": "79af704a-81fa-11ee-91d3-0242ac120006-3-93c1-5e22-39b9",
       "next": "79af70f4-81fa-11ee-91d3-0242ac120006-1-592a",
       "previous": "79af6e92-81fa-11ee-91d3-0242ac120006-1-71ea"
      },
      {
       "current": "79af704a-81fa-11ee-91d3-0242ac120006-4-93c1-5e22-39b9-6ecb",
       "next": "79af70f4-81fa-11ee-91d3-0242ac120006-2-592a-b399",
       "previous": "79af6e92-81fa-11ee-91d3-0242ac120006-2-71ea-63dd"
      },
      {
       "current": "79af704a-81fa-11ee-91d3-0242ac120006-5-93c1-5e22-39b9-6ecb-a5cf",
       "next": "79af70f4-81fa-11ee-91d3-0242ac120006-3-592a-b399-8ab2",
       "previous": "79af6e92-81fa-11ee-91d3-0242ac120006-3-71ea-63dd-a1ad"
      },
      {
       "current": "79af704a-81fa-11ee-91d3-0242ac120006-6-93c1-5e22-39b9-6ecb-a5cf-fc63",
       "next": "79af70f4-81fa-11ee-91d3-0242ac120006-4-592a-b399-8ab2-40ad",
       "previous": "79af6e92-81fa-11ee-91d3-0242ac120006-4-71ea-63dd-a1ad-3124"
      }
     ],
     "next": "79af70f4-81fa-11ee-91d3-0242ac120006-5-592a-b399-8ab2-40ad-4bf8",
     "previous": "79af6e92-81fa-11ee-91d3-0242ac120006-5-71ea-63dd-a1ad-3124-fc85"
    }
   },
   "source": [
    "## 対象OSDの詳細情報取得"
   ]
  },
  {
   "cell_type": "code",
   "execution_count": null,
   "metadata": {
    "lc_cell_meme": {
     "current": "79af70f4-81fa-11ee-91d3-0242ac120006-5-592a-b399-8ab2-40ad-4bf8",
     "history": [
      {
       "current": "79af70f4-81fa-11ee-91d3-0242ac120006",
       "next": "79af7176-81fa-11ee-91d3-0242ac120006",
       "previous": "79af704a-81fa-11ee-91d3-0242ac120006"
      },
      {
       "current": "79af70f4-81fa-11ee-91d3-0242ac120006-1-592a",
       "next": "c26b72f6-81fb-11ee-91d3-0242ac120006",
       "previous": "79af704a-81fa-11ee-91d3-0242ac120006-1-93c1"
      },
      {
       "current": "79af70f4-81fa-11ee-91d3-0242ac120006-2-592a-b399",
       "next": "c26b72f6-81fb-11ee-91d3-0242ac120006-1-ff05",
       "previous": "79af704a-81fa-11ee-91d3-0242ac120006-2-93c1-5e22"
      },
      {
       "current": "79af70f4-81fa-11ee-91d3-0242ac120006-3-592a-b399-8ab2",
       "next": "c26b72f6-81fb-11ee-91d3-0242ac120006-2-ff05-da55",
       "previous": "79af704a-81fa-11ee-91d3-0242ac120006-3-93c1-5e22-39b9"
      },
      {
       "current": "79af70f4-81fa-11ee-91d3-0242ac120006-4-592a-b399-8ab2-40ad",
       "next": "c26b72f6-81fb-11ee-91d3-0242ac120006-3-ff05-da55-23c8",
       "previous": "79af704a-81fa-11ee-91d3-0242ac120006-4-93c1-5e22-39b9-6ecb"
      },
      {
       "current": "79af70f4-81fa-11ee-91d3-0242ac120006-5-592a-b399-8ab2-40ad-4bf8",
       "next": "c26b72f6-81fb-11ee-91d3-0242ac120006-4-ff05-da55-23c8-841a",
       "previous": "79af704a-81fa-11ee-91d3-0242ac120006-5-93c1-5e22-39b9-6ecb-a5cf"
      }
     ],
     "next": "c26b72f6-81fb-11ee-91d3-0242ac120006-5-ff05-da55-23c8-841a-dcb7",
     "previous": "79af704a-81fa-11ee-91d3-0242ac120006-6-93c1-5e22-39b9-6ecb-a5cf-fc63"
    }
   },
   "outputs": [],
   "source": [
    "ret = !ansible -i $hosts -b -m shell -a \"cephadm shell -- ceph osd metadata --format=json 2> /dev/null\" bootstrap"
   ]
  },
  {
   "cell_type": "code",
   "execution_count": null,
   "metadata": {
    "lc_cell_meme": {
     "current": "c26b72f6-81fb-11ee-91d3-0242ac120006-5-ff05-da55-23c8-841a-dcb7",
     "history": [
      {
       "current": "c26b72f6-81fb-11ee-91d3-0242ac120006-1-ff05",
       "next": "c26b74a4-81fb-11ee-91d3-0242ac120006",
       "previous": "79af70f4-81fa-11ee-91d3-0242ac120006"
      },
      {
       "current": "c26b72f6-81fb-11ee-91d3-0242ac120006-2-ff05-da55",
       "next": "c26b74a4-81fb-11ee-91d3-0242ac120006-1-bb90",
       "previous": "79af70f4-81fa-11ee-91d3-0242ac120006-1-592a"
      },
      {
       "current": "c26b72f6-81fb-11ee-91d3-0242ac120006-3-ff05-da55-23c8",
       "next": "c26b74a4-81fb-11ee-91d3-0242ac120006-2-bb90-4442",
       "previous": "79af70f4-81fa-11ee-91d3-0242ac120006-2-592a-b399"
      },
      {
       "current": "c26b72f6-81fb-11ee-91d3-0242ac120006-4-ff05-da55-23c8-841a",
       "next": "c26b74a4-81fb-11ee-91d3-0242ac120006-3-bb90-4442-8ad3",
       "previous": "79af70f4-81fa-11ee-91d3-0242ac120006-3-592a-b399-8ab2"
      },
      {
       "current": "c26b72f6-81fb-11ee-91d3-0242ac120006-5-ff05-da55-23c8-841a-dcb7",
       "next": "c26b74a4-81fb-11ee-91d3-0242ac120006-4-bb90-4442-8ad3-195a",
       "previous": "79af70f4-81fa-11ee-91d3-0242ac120006-4-592a-b399-8ab2-40ad"
      }
     ],
     "next": "c26b74a4-81fb-11ee-91d3-0242ac120006-5-bb90-4442-8ad3-195a-103a",
     "previous": "79af70f4-81fa-11ee-91d3-0242ac120006-5-592a-b399-8ab2-40ad-4bf8"
    },
    "scrolled": true
   },
   "outputs": [],
   "source": [
    "osd_metadata_list = json.loads(ret[2])\n",
    "print(json.dumps(osd_metadata_list, indent=2))"
   ]
  },
  {
   "cell_type": "code",
   "execution_count": null,
   "metadata": {
    "lc_cell_meme": {
     "current": "c26b74a4-81fb-11ee-91d3-0242ac120006-5-bb90-4442-8ad3-195a-103a",
     "history": [
      {
       "current": "c26b74a4-81fb-11ee-91d3-0242ac120006-1-bb90",
       "next": "c26b7544-81fb-11ee-91d3-0242ac120006",
       "previous": "c26b72f6-81fb-11ee-91d3-0242ac120006"
      },
      {
       "current": "c26b74a4-81fb-11ee-91d3-0242ac120006-2-bb90-4442",
       "next": "c26b7544-81fb-11ee-91d3-0242ac120006-1-817e",
       "previous": "c26b72f6-81fb-11ee-91d3-0242ac120006-1-ff05"
      },
      {
       "current": "c26b74a4-81fb-11ee-91d3-0242ac120006-3-bb90-4442-8ad3",
       "next": "c26b7544-81fb-11ee-91d3-0242ac120006-2-817e-f037",
       "previous": "c26b72f6-81fb-11ee-91d3-0242ac120006-2-ff05-da55"
      },
      {
       "current": "c26b74a4-81fb-11ee-91d3-0242ac120006-4-bb90-4442-8ad3-195a",
       "next": "c26b7544-81fb-11ee-91d3-0242ac120006-3-817e-f037-1704",
       "previous": "c26b72f6-81fb-11ee-91d3-0242ac120006-3-ff05-da55-23c8"
      },
      {
       "current": "c26b74a4-81fb-11ee-91d3-0242ac120006-5-bb90-4442-8ad3-195a-103a",
       "next": "c26b7544-81fb-11ee-91d3-0242ac120006-4-817e-f037-1704-b228",
       "previous": "c26b72f6-81fb-11ee-91d3-0242ac120006-4-ff05-da55-23c8-841a"
      }
     ],
     "next": "c26b7544-81fb-11ee-91d3-0242ac120006-5-817e-f037-1704-b228-d40e",
     "previous": "c26b72f6-81fb-11ee-91d3-0242ac120006-5-ff05-da55-23c8-841a-dcb7"
    }
   },
   "outputs": [],
   "source": [
    "osd_strage_info_list = []\n",
    "for osd_metadata in osd_metadata_list:\n",
    "    hostname = osd_metadata['container_hostname']\n",
    "    if instance_name != hostname:\n",
    "        continue\n",
    "    osd_strage_info = {}\n",
    "    osd_strage_info['hostname'] = hostname\n",
    "    osd_strage_info['osd_id'] = osd_metadata['id']\n",
    "    osd_strage_info['bluefs_db_partition_path'] = osd_metadata['bluefs_db_partition_path']\n",
    "    osd_strage_info['bluefs_db_type'] = osd_metadata['bluefs_db_type']\n",
    "    osd_strage_info['bluestore_bdev_partition_path'] = osd_metadata['bluestore_bdev_partition_path']\n",
    "    osd_strage_info['bluestore_bdev_type'] = osd_metadata['bluestore_bdev_type']\n",
    "    osd_strage_info_list.append(osd_strage_info)"
   ]
  },
  {
   "cell_type": "code",
   "execution_count": null,
   "metadata": {
    "lc_cell_meme": {
     "current": "c26b7544-81fb-11ee-91d3-0242ac120006-5-817e-f037-1704-b228-d40e",
     "history": [
      {
       "current": "c26b7544-81fb-11ee-91d3-0242ac120006",
       "next": "c26b75bc-81fb-11ee-91d3-0242ac120006",
       "previous": "c26b74a4-81fb-11ee-91d3-0242ac120006"
      },
      {
       "current": "c26b7544-81fb-11ee-91d3-0242ac120006-1-817e",
       "next": "abdb20aa-81ff-11ee-91d3-0242ac120006",
       "previous": "c26b74a4-81fb-11ee-91d3-0242ac120006"
      },
      {
       "current": "c26b7544-81fb-11ee-91d3-0242ac120006-2-817e-f037",
       "next": "abdb20aa-81ff-11ee-91d3-0242ac120006-1-be51",
       "previous": "c26b74a4-81fb-11ee-91d3-0242ac120006-1-bb90"
      },
      {
       "current": "c26b7544-81fb-11ee-91d3-0242ac120006-3-817e-f037-1704",
       "next": "abdb20aa-81ff-11ee-91d3-0242ac120006-2-be51-67c7",
       "previous": "c26b74a4-81fb-11ee-91d3-0242ac120006-2-bb90-4442"
      },
      {
       "current": "c26b7544-81fb-11ee-91d3-0242ac120006-4-817e-f037-1704-b228",
       "next": "abdb20aa-81ff-11ee-91d3-0242ac120006-3-be51-67c7-ad47",
       "previous": "c26b74a4-81fb-11ee-91d3-0242ac120006-3-bb90-4442-8ad3"
      },
      {
       "current": "c26b7544-81fb-11ee-91d3-0242ac120006-5-817e-f037-1704-b228-d40e",
       "next": "abdb20aa-81ff-11ee-91d3-0242ac120006-4-be51-67c7-ad47-8866",
       "previous": "c26b74a4-81fb-11ee-91d3-0242ac120006-4-bb90-4442-8ad3-195a"
      }
     ],
     "next": "abdb20aa-81ff-11ee-91d3-0242ac120006-5-be51-67c7-ad47-8866-8ecf",
     "previous": "c26b74a4-81fb-11ee-91d3-0242ac120006-5-bb90-4442-8ad3-195a-103a"
    }
   },
   "outputs": [],
   "source": [
    "pd.DataFrame(osd_strage_info_list)"
   ]
  },
  {
   "cell_type": "code",
   "execution_count": null,
   "metadata": {
    "lc_cell_meme": {
     "current": "abdb20aa-81ff-11ee-91d3-0242ac120006-5-be51-67c7-ad47-8866-8ecf",
     "history": [
      {
       "current": "abdb20aa-81ff-11ee-91d3-0242ac120006",
       "next": "c26b75bc-81fb-11ee-91d3-0242ac120006",
       "previous": "c26b7544-81fb-11ee-91d3-0242ac120006"
      },
      {
       "current": "abdb20aa-81ff-11ee-91d3-0242ac120006-1-be51",
       "next": "c9f77d94-8200-11ee-91d3-0242ac120006",
       "previous": "c26b7544-81fb-11ee-91d3-0242ac120006"
      },
      {
       "current": "abdb20aa-81ff-11ee-91d3-0242ac120006-2-be51-67c7",
       "next": "c9f77d94-8200-11ee-91d3-0242ac120006-1-90e6",
       "previous": "c26b7544-81fb-11ee-91d3-0242ac120006-1-817e"
      },
      {
       "current": "abdb20aa-81ff-11ee-91d3-0242ac120006-3-be51-67c7-ad47",
       "next": "c9f77d94-8200-11ee-91d3-0242ac120006-2-90e6-3c18",
       "previous": "c26b7544-81fb-11ee-91d3-0242ac120006-2-817e-f037"
      },
      {
       "current": "abdb20aa-81ff-11ee-91d3-0242ac120006-4-be51-67c7-ad47-8866",
       "next": "c9f77d94-8200-11ee-91d3-0242ac120006-3-90e6-3c18-6be7",
       "previous": "c26b7544-81fb-11ee-91d3-0242ac120006-3-817e-f037-1704"
      },
      {
       "current": "abdb20aa-81ff-11ee-91d3-0242ac120006-5-be51-67c7-ad47-8866-8ecf",
       "next": "c9f77d94-8200-11ee-91d3-0242ac120006-4-90e6-3c18-6be7-06a1",
       "previous": "c26b7544-81fb-11ee-91d3-0242ac120006-4-817e-f037-1704-b228"
      }
     ],
     "next": "c9f77d94-8200-11ee-91d3-0242ac120006-5-90e6-3c18-6be7-06a1-b158",
     "previous": "c26b7544-81fb-11ee-91d3-0242ac120006-5-817e-f037-1704-b228-d40e"
    }
   },
   "outputs": [],
   "source": [
    "osd_db_path_map = {}\n",
    "osd_data_path_map = {}\n",
    "\n",
    "for osd_strage_info in osd_strage_info_list:\n",
    "    bluefs_db_partition_path = osd_strage_info['bluefs_db_partition_path']\n",
    "    bluestore_bdev_partition_path = osd_strage_info['bluestore_bdev_partition_path']\n",
    "    db_dev = bluefs_db_partition_path.replace('/dev/','')\n",
    "    data_dev = bluestore_bdev_partition_path.replace('/dev/','')\n",
    "    osd_db_path_map[db_dev] = osd_strage_info\n",
    "    osd_data_path_map[data_dev] = osd_strage_info"
   ]
  },
  {
   "cell_type": "code",
   "execution_count": null,
   "metadata": {
    "lc_cell_meme": {
     "current": "c9f77d94-8200-11ee-91d3-0242ac120006-5-90e6-3c18-6be7-06a1-b158",
     "history": [
      {
       "current": "c9f77d94-8200-11ee-91d3-0242ac120006-1-90e6",
       "next": "c26b75bc-81fb-11ee-91d3-0242ac120006",
       "previous": "abdb20aa-81ff-11ee-91d3-0242ac120006"
      },
      {
       "current": "c9f77d94-8200-11ee-91d3-0242ac120006-2-90e6-3c18",
       "next": "c26b75bc-81fb-11ee-91d3-0242ac120006-1-63f4",
       "previous": "abdb20aa-81ff-11ee-91d3-0242ac120006-1-be51"
      },
      {
       "current": "c9f77d94-8200-11ee-91d3-0242ac120006-3-90e6-3c18-6be7",
       "next": "c26b75bc-81fb-11ee-91d3-0242ac120006-2-63f4-a293",
       "previous": "abdb20aa-81ff-11ee-91d3-0242ac120006-2-be51-67c7"
      },
      {
       "current": "c9f77d94-8200-11ee-91d3-0242ac120006-4-90e6-3c18-6be7-06a1",
       "next": "c26b75bc-81fb-11ee-91d3-0242ac120006-3-63f4-a293-14b0",
       "previous": "abdb20aa-81ff-11ee-91d3-0242ac120006-3-be51-67c7-ad47"
      },
      {
       "current": "c9f77d94-8200-11ee-91d3-0242ac120006-5-90e6-3c18-6be7-06a1-b158",
       "next": "c26b75bc-81fb-11ee-91d3-0242ac120006-4-63f4-a293-14b0-35c1",
       "previous": "abdb20aa-81ff-11ee-91d3-0242ac120006-4-be51-67c7-ad47-8866"
      }
     ],
     "next": "c26b75bc-81fb-11ee-91d3-0242ac120006-5-63f4-a293-14b0-35c1-7d63",
     "previous": "abdb20aa-81ff-11ee-91d3-0242ac120006-5-be51-67c7-ad47-8866-8ecf"
    },
    "scrolled": true
   },
   "outputs": [],
   "source": [
    "print(json.dumps(osd_db_path_map, indent=2))\n",
    "print(json.dumps(osd_data_path_map, indent=2))\n"
   ]
  },
  {
   "cell_type": "code",
   "execution_count": null,
   "metadata": {
    "lc_cell_meme": {
     "current": "c26b75bc-81fb-11ee-91d3-0242ac120006-5-63f4-a293-14b0-35c1-7d63",
     "history": [
      {
       "current": "c26b75bc-81fb-11ee-91d3-0242ac120006",
       "next": "c26b7620-81fb-11ee-91d3-0242ac120006",
       "previous": "c26b7544-81fb-11ee-91d3-0242ac120006"
      },
      {
       "current": "c26b75bc-81fb-11ee-91d3-0242ac120006",
       "next": "c26b7620-81fb-11ee-91d3-0242ac120006",
       "previous": "abdb20aa-81ff-11ee-91d3-0242ac120006"
      },
      {
       "current": "c26b75bc-81fb-11ee-91d3-0242ac120006-1-63f4",
       "next": "c26b7620-81fb-11ee-91d3-0242ac120006",
       "previous": "c9f77d94-8200-11ee-91d3-0242ac120006"
      },
      {
       "current": "c26b75bc-81fb-11ee-91d3-0242ac120006-2-63f4-a293",
       "next": "c26b7620-81fb-11ee-91d3-0242ac120006-1-4894",
       "previous": "c9f77d94-8200-11ee-91d3-0242ac120006-1-90e6"
      },
      {
       "current": "c26b75bc-81fb-11ee-91d3-0242ac120006-3-63f4-a293-14b0",
       "next": "c26b7620-81fb-11ee-91d3-0242ac120006-2-4894-dfc0",
       "previous": "c9f77d94-8200-11ee-91d3-0242ac120006-2-90e6-3c18"
      },
      {
       "current": "c26b75bc-81fb-11ee-91d3-0242ac120006-4-63f4-a293-14b0-35c1",
       "next": "c26b7620-81fb-11ee-91d3-0242ac120006-3-4894-dfc0-e135",
       "previous": "c9f77d94-8200-11ee-91d3-0242ac120006-3-90e6-3c18-6be7"
      },
      {
       "current": "c26b75bc-81fb-11ee-91d3-0242ac120006-5-63f4-a293-14b0-35c1-7d63",
       "next": "c26b7620-81fb-11ee-91d3-0242ac120006-4-4894-dfc0-e135-9ccb",
       "previous": "c9f77d94-8200-11ee-91d3-0242ac120006-4-90e6-3c18-6be7-06a1"
      }
     ],
     "next": "c26b7620-81fb-11ee-91d3-0242ac120006-5-4894-dfc0-e135-9ccb-7ff8",
     "previous": "c9f77d94-8200-11ee-91d3-0242ac120006-5-90e6-3c18-6be7-06a1-b158"
    }
   },
   "outputs": [],
   "source": [
    "free_db_lv_info_list = []\n",
    "free_data_lv_info_list = []\n",
    "\n",
    "for db_lv_info in db_lv_info_list:\n",
    "    dev_name = db_lv_info['dev_name']\n",
    "    if dev_name not in osd_db_path_map:\n",
    "        free_db_lv_info_list.append(db_lv_info)\n",
    "\n",
    "for data_lv_info in data_lv_info_list:\n",
    "    dev_name = data_lv_info['dev_name']\n",
    "    if dev_name not in osd_data_path_map:\n",
    "        free_data_lv_info_list.append(data_lv_info)\n",
    "\n",
    "free_db_lv_info_list = sorted(free_db_lv_info_list, key=lambda x: x['lv_id'])\n",
    "free_data_lv_info_list = sorted(free_data_lv_info_list, key=lambda x: x['lv_id'])\n"
   ]
  },
  {
   "cell_type": "code",
   "execution_count": null,
   "metadata": {
    "lc_cell_meme": {
     "current": "c26b7620-81fb-11ee-91d3-0242ac120006-5-4894-dfc0-e135-9ccb-7ff8",
     "history": [
      {
       "current": "c26b7620-81fb-11ee-91d3-0242ac120006-1-4894",
       "next": "c26b7684-81fb-11ee-91d3-0242ac120006",
       "previous": "c26b75bc-81fb-11ee-91d3-0242ac120006"
      },
      {
       "current": "c26b7620-81fb-11ee-91d3-0242ac120006-2-4894-dfc0",
       "next": "c26b7684-81fb-11ee-91d3-0242ac120006-1-c774",
       "previous": "c26b75bc-81fb-11ee-91d3-0242ac120006-1-63f4"
      },
      {
       "current": "c26b7620-81fb-11ee-91d3-0242ac120006-3-4894-dfc0-e135",
       "next": "c26b7684-81fb-11ee-91d3-0242ac120006-2-c774-5572",
       "previous": "c26b75bc-81fb-11ee-91d3-0242ac120006-2-63f4-a293"
      },
      {
       "current": "c26b7620-81fb-11ee-91d3-0242ac120006-4-4894-dfc0-e135-9ccb",
       "next": "c26b7684-81fb-11ee-91d3-0242ac120006-3-c774-5572-9eb6",
       "previous": "c26b75bc-81fb-11ee-91d3-0242ac120006-3-63f4-a293-14b0"
      },
      {
       "current": "c26b7620-81fb-11ee-91d3-0242ac120006-5-4894-dfc0-e135-9ccb-7ff8",
       "next": "c26b7684-81fb-11ee-91d3-0242ac120006-4-c774-5572-9eb6-6e98",
       "previous": "c26b75bc-81fb-11ee-91d3-0242ac120006-4-63f4-a293-14b0-35c1"
      }
     ],
     "next": "c26b7684-81fb-11ee-91d3-0242ac120006-5-c774-5572-9eb6-6e98-96a8",
     "previous": "c26b75bc-81fb-11ee-91d3-0242ac120006-5-63f4-a293-14b0-35c1-7d63"
    }
   },
   "outputs": [],
   "source": [
    "pd.DataFrame(free_db_lv_info_list)"
   ]
  },
  {
   "cell_type": "code",
   "execution_count": null,
   "metadata": {
    "lc_cell_meme": {
     "current": "c26b7684-81fb-11ee-91d3-0242ac120006-5-c774-5572-9eb6-6e98-96a8",
     "history": [
      {
       "current": "c26b7684-81fb-11ee-91d3-0242ac120006",
       "next": "79af7176-81fa-11ee-91d3-0242ac120006",
       "previous": "c26b7620-81fb-11ee-91d3-0242ac120006"
      },
      {
       "current": "c26b7684-81fb-11ee-91d3-0242ac120006",
       "next": "79af7176-81fa-11ee-91d3-0242ac120006-1-90f3",
       "previous": "c26b7620-81fb-11ee-91d3-0242ac120006"
      },
      {
       "current": "c26b7684-81fb-11ee-91d3-0242ac120006-1-c774",
       "next": "f91e75fa-8372-11ee-91d3-0242ac120006",
       "previous": "c26b7620-81fb-11ee-91d3-0242ac120006"
      },
      {
       "current": "c26b7684-81fb-11ee-91d3-0242ac120006-2-c774-5572",
       "next": "f91e75fa-8372-11ee-91d3-0242ac120006-1-6c89",
       "previous": "c26b7620-81fb-11ee-91d3-0242ac120006-1-4894"
      },
      {
       "current": "c26b7684-81fb-11ee-91d3-0242ac120006-3-c774-5572-9eb6",
       "next": "f91e75fa-8372-11ee-91d3-0242ac120006-2-6c89-493b",
       "previous": "c26b7620-81fb-11ee-91d3-0242ac120006-2-4894-dfc0"
      },
      {
       "current": "c26b7684-81fb-11ee-91d3-0242ac120006-4-c774-5572-9eb6-6e98",
       "next": "f91e75fa-8372-11ee-91d3-0242ac120006-3-6c89-493b-75bb",
       "previous": "c26b7620-81fb-11ee-91d3-0242ac120006-3-4894-dfc0-e135"
      },
      {
       "current": "c26b7684-81fb-11ee-91d3-0242ac120006-5-c774-5572-9eb6-6e98-96a8",
       "next": "f91e75fa-8372-11ee-91d3-0242ac120006-4-6c89-493b-75bb-265c",
       "previous": "c26b7620-81fb-11ee-91d3-0242ac120006-4-4894-dfc0-e135-9ccb"
      }
     ],
     "next": "f91e75fa-8372-11ee-91d3-0242ac120006-5-6c89-493b-75bb-265c-25f7",
     "previous": "c26b7620-81fb-11ee-91d3-0242ac120006-5-4894-dfc0-e135-9ccb-7ff8"
    }
   },
   "outputs": [],
   "source": [
    "pd.DataFrame(free_data_lv_info_list)"
   ]
  },
  {
   "cell_type": "code",
   "execution_count": null,
   "metadata": {
    "lc_cell_meme": {
     "current": "f91e75fa-8372-11ee-91d3-0242ac120006-5-6c89-493b-75bb-265c-25f7",
     "history": [
      {
       "current": "f91e75fa-8372-11ee-91d3-0242ac120006",
       "next": "f91e77e4-8372-11ee-91d3-0242ac120006",
       "previous": "c26b7684-81fb-11ee-91d3-0242ac120006"
      },
      {
       "current": "f91e75fa-8372-11ee-91d3-0242ac120006-1-6c89",
       "next": "79af7176-81fa-11ee-91d3-0242ac120006-1-90f3",
       "previous": "c26b7684-81fb-11ee-91d3-0242ac120006"
      },
      {
       "current": "f91e75fa-8372-11ee-91d3-0242ac120006-2-6c89-493b",
       "next": "79af7176-81fa-11ee-91d3-0242ac120006-2-90f3-4ce2",
       "previous": "c26b7684-81fb-11ee-91d3-0242ac120006-1-c774"
      },
      {
       "current": "f91e75fa-8372-11ee-91d3-0242ac120006-3-6c89-493b-75bb",
       "next": "79af7176-81fa-11ee-91d3-0242ac120006-3-90f3-4ce2-1456",
       "previous": "c26b7684-81fb-11ee-91d3-0242ac120006-2-c774-5572"
      },
      {
       "current": "f91e75fa-8372-11ee-91d3-0242ac120006-4-6c89-493b-75bb-265c",
       "next": "79af7176-81fa-11ee-91d3-0242ac120006-4-90f3-4ce2-1456-8a70",
       "previous": "c26b7684-81fb-11ee-91d3-0242ac120006-3-c774-5572-9eb6"
      },
      {
       "current": "f91e75fa-8372-11ee-91d3-0242ac120006-5-6c89-493b-75bb-265c-25f7",
       "next": "79af7176-81fa-11ee-91d3-0242ac120006-5-90f3-4ce2-1456-8a70-fb47",
       "previous": "c26b7684-81fb-11ee-91d3-0242ac120006-4-c774-5572-9eb6-6e98"
      }
     ],
     "next": "79af7176-81fa-11ee-91d3-0242ac120006-6-90f3-4ce2-1456-8a70-fb47-2e71",
     "previous": "c26b7684-81fb-11ee-91d3-0242ac120006-5-c774-5572-9eb6-6e98-96a8"
    },
    "scrolled": true
   },
   "outputs": [],
   "source": [
    "free_lv_info_map = {}\n",
    "free_lv_info_list = []\n",
    "\n",
    "for free_db_lv_info in free_db_lv_info_list:\n",
    "    lv_id = free_db_lv_info['lv_id']\n",
    "    free_lv_info_map[lv_id] = {}\n",
    "    free_lv_info_map[lv_id]['lv_id'] = lv_id\n",
    "    free_lv_info_map[lv_id]['db_lv_info'] = free_db_lv_info\n",
    "for free_data_lv_info in free_data_lv_info_list:\n",
    "    lv_id = free_data_lv_info['lv_id']\n",
    "    free_lv_id_info = free_lv_info_map.get(lv_id, {})\n",
    "    free_lv_id_info['lv_id'] = lv_id\n",
    "    free_lv_id_info['data_lv_info'] = free_data_lv_info\n",
    "\n",
    "for key,val in free_lv_info_map.items():\n",
    "    if 'db_lv_info' in val.keys() and 'data_lv_info' in val.keys():\n",
    "        free_lv_info_list.append(val)\n",
    "\n",
    "free_lv_info_list = sorted(free_lv_info_list, key=lambda x: x['lv_id'])        \n",
    "print(json.dumps(free_lv_info_list, indent=2))"
   ]
  },
  {
   "cell_type": "markdown",
   "metadata": {
    "lc_cell_meme": {
     "current": "79af7176-81fa-11ee-91d3-0242ac120006-6-90f3-4ce2-1456-8a70-fb47-2e71",
     "history": [
      {
       "current": "79af7176-81fa-11ee-91d3-0242ac120006",
       "next": "79af71ee-81fa-11ee-91d3-0242ac120006",
       "previous": "79af70f4-81fa-11ee-91d3-0242ac120006"
      },
      {
       "current": "79af7176-81fa-11ee-91d3-0242ac120006-1-90f3",
       "next": "79af71ee-81fa-11ee-91d3-0242ac120006",
       "previous": "c26b7684-81fb-11ee-91d3-0242ac120006"
      },
      {
       "current": "79af7176-81fa-11ee-91d3-0242ac120006-1-90f3",
       "next": "79af71ee-81fa-11ee-91d3-0242ac120006",
       "previous": "f91e77e4-8372-11ee-91d3-0242ac120006"
      },
      {
       "current": "79af7176-81fa-11ee-91d3-0242ac120006-2-90f3-4ce2",
       "next": "79af71ee-81fa-11ee-91d3-0242ac120006",
       "previous": "f91e75fa-8372-11ee-91d3-0242ac120006"
      },
      {
       "current": "79af7176-81fa-11ee-91d3-0242ac120006-3-90f3-4ce2-1456",
       "next": "79af71ee-81fa-11ee-91d3-0242ac120006-1-cfcb",
       "previous": "f91e75fa-8372-11ee-91d3-0242ac120006-1-6c89"
      },
      {
       "current": "79af7176-81fa-11ee-91d3-0242ac120006-4-90f3-4ce2-1456-8a70",
       "next": "79af71ee-81fa-11ee-91d3-0242ac120006-2-cfcb-157e",
       "previous": "f91e75fa-8372-11ee-91d3-0242ac120006-2-6c89-493b"
      },
      {
       "current": "79af7176-81fa-11ee-91d3-0242ac120006-5-90f3-4ce2-1456-8a70-fb47",
       "next": "79af71ee-81fa-11ee-91d3-0242ac120006-3-cfcb-157e-308e",
       "previous": "f91e75fa-8372-11ee-91d3-0242ac120006-3-6c89-493b-75bb"
      },
      {
       "current": "79af7176-81fa-11ee-91d3-0242ac120006-6-90f3-4ce2-1456-8a70-fb47-2e71",
       "next": "79af71ee-81fa-11ee-91d3-0242ac120006-4-cfcb-157e-308e-5ee0",
       "previous": "f91e75fa-8372-11ee-91d3-0242ac120006-4-6c89-493b-75bb-265c"
      }
     ],
     "next": "79af71ee-81fa-11ee-91d3-0242ac120006-5-cfcb-157e-308e-5ee0-c1ba",
     "previous": "f91e75fa-8372-11ee-91d3-0242ac120006-5-6c89-493b-75bb-265c-25f7"
    }
   },
   "source": [
    "# OSD生成"
   ]
  },
  {
   "cell_type": "code",
   "execution_count": null,
   "metadata": {
    "lc_cell_meme": {
     "current": "79af71ee-81fa-11ee-91d3-0242ac120006-5-cfcb-157e-308e-5ee0-c1ba",
     "history": [
      {
       "current": "79af71ee-81fa-11ee-91d3-0242ac120006",
       "next": "79af7266-81fa-11ee-91d3-0242ac120006",
       "previous": "79af7176-81fa-11ee-91d3-0242ac120006"
      },
      {
       "current": "79af71ee-81fa-11ee-91d3-0242ac120006-1-cfcb",
       "next": "79af7266-81fa-11ee-91d3-0242ac120006",
       "previous": "79af7176-81fa-11ee-91d3-0242ac120006-1-90f3"
      },
      {
       "current": "79af71ee-81fa-11ee-91d3-0242ac120006-2-cfcb-157e",
       "next": "79af7266-81fa-11ee-91d3-0242ac120006-1-608f",
       "previous": "79af7176-81fa-11ee-91d3-0242ac120006-2-90f3-4ce2"
      },
      {
       "current": "79af71ee-81fa-11ee-91d3-0242ac120006-3-cfcb-157e-308e",
       "next": "79af7266-81fa-11ee-91d3-0242ac120006-2-608f-ca09",
       "previous": "79af7176-81fa-11ee-91d3-0242ac120006-3-90f3-4ce2-1456"
      },
      {
       "current": "79af71ee-81fa-11ee-91d3-0242ac120006-4-cfcb-157e-308e-5ee0",
       "next": "79af7266-81fa-11ee-91d3-0242ac120006-3-608f-ca09-a844",
       "previous": "79af7176-81fa-11ee-91d3-0242ac120006-4-90f3-4ce2-1456-8a70"
      },
      {
       "current": "79af71ee-81fa-11ee-91d3-0242ac120006-5-cfcb-157e-308e-5ee0-c1ba",
       "next": "79af7266-81fa-11ee-91d3-0242ac120006-4-608f-ca09-a844-6737",
       "previous": "79af7176-81fa-11ee-91d3-0242ac120006-5-90f3-4ce2-1456-8a70-fb47"
      }
     ],
     "next": "79af7266-81fa-11ee-91d3-0242ac120006-5-608f-ca09-a844-6737-449f",
     "previous": "79af7176-81fa-11ee-91d3-0242ac120006-6-90f3-4ce2-1456-8a70-fb47-2e71"
    }
   },
   "outputs": [],
   "source": [
    "# 生成するOSD数を指定\n",
    "raise Exception('この先手作業が必要です')"
   ]
  },
  {
   "cell_type": "code",
   "execution_count": null,
   "metadata": {
    "lc_cell_meme": {
     "current": "79af7266-81fa-11ee-91d3-0242ac120006-5-608f-ca09-a844-6737-449f",
     "history": [
      {
       "current": "79af7266-81fa-11ee-91d3-0242ac120006",
       "next": "08f1174a-9b04-11ea-8d02-0242ac120007-2-f99a-9309",
       "previous": "79af71ee-81fa-11ee-91d3-0242ac120006"
      },
      {
       "current": "79af7266-81fa-11ee-91d3-0242ac120006",
       "next": "35c581ba-55a3-11e7-b0b2-00163e9c0e35-2-89bc-f9d0",
       "previous": "79af71ee-81fa-11ee-91d3-0242ac120006"
      },
      {
       "current": "79af7266-81fa-11ee-91d3-0242ac120006",
       "next": "4dbe59ca-8203-11ee-91d3-0242ac120006",
       "previous": "79af71ee-81fa-11ee-91d3-0242ac120006"
      },
      {
       "current": "79af7266-81fa-11ee-91d3-0242ac120006-1-608f",
       "next": "4dbe59ca-8203-11ee-91d3-0242ac120006-1-a910",
       "previous": "79af71ee-81fa-11ee-91d3-0242ac120006"
      },
      {
       "current": "79af7266-81fa-11ee-91d3-0242ac120006-2-608f-ca09",
       "next": "4dbe59ca-8203-11ee-91d3-0242ac120006-2-a910-0e3b",
       "previous": "79af71ee-81fa-11ee-91d3-0242ac120006-1-cfcb"
      },
      {
       "current": "79af7266-81fa-11ee-91d3-0242ac120006-3-608f-ca09-a844",
       "next": "4dbe59ca-8203-11ee-91d3-0242ac120006-3-a910-0e3b-cbc3",
       "previous": "79af71ee-81fa-11ee-91d3-0242ac120006-2-cfcb-157e"
      },
      {
       "current": "79af7266-81fa-11ee-91d3-0242ac120006-4-608f-ca09-a844-6737",
       "next": "4dbe59ca-8203-11ee-91d3-0242ac120006-4-a910-0e3b-cbc3-0281",
       "previous": "79af71ee-81fa-11ee-91d3-0242ac120006-3-cfcb-157e-308e"
      },
      {
       "current": "79af7266-81fa-11ee-91d3-0242ac120006-5-608f-ca09-a844-6737-449f",
       "next": "4dbe59ca-8203-11ee-91d3-0242ac120006-5-a910-0e3b-cbc3-0281-3554",
       "previous": "79af71ee-81fa-11ee-91d3-0242ac120006-4-cfcb-157e-308e-5ee0"
      }
     ],
     "next": "4dbe59ca-8203-11ee-91d3-0242ac120006-6-a910-0e3b-cbc3-0281-3554-52bc",
     "previous": "79af71ee-81fa-11ee-91d3-0242ac120006-5-cfcb-157e-308e-5ee0-c1ba"
    }
   },
   "outputs": [],
   "source": [
    "apply_osd_num = 12"
   ]
  },
  {
   "cell_type": "markdown",
   "metadata": {
    "lc_cell_meme": {
     "current": "4dbe59ca-8203-11ee-91d3-0242ac120006-6-a910-0e3b-cbc3-0281-3554-52bc",
     "history": [
      {
       "current": "4dbe59ca-8203-11ee-91d3-0242ac120006-2-a910-0e3b",
       "next": "4dbe5ab0-8203-11ee-91d3-0242ac120006",
       "previous": "79af7266-81fa-11ee-91d3-0242ac120006"
      },
      {
       "current": "4dbe59ca-8203-11ee-91d3-0242ac120006-3-a910-0e3b-cbc3",
       "next": "4dbe5ab0-8203-11ee-91d3-0242ac120006-1-6a89",
       "previous": "79af7266-81fa-11ee-91d3-0242ac120006-1-608f"
      },
      {
       "current": "4dbe59ca-8203-11ee-91d3-0242ac120006-4-a910-0e3b-cbc3-0281",
       "next": "4dbe5ab0-8203-11ee-91d3-0242ac120006-2-6a89-2401",
       "previous": "79af7266-81fa-11ee-91d3-0242ac120006-2-608f-ca09"
      },
      {
       "current": "4dbe59ca-8203-11ee-91d3-0242ac120006-5-a910-0e3b-cbc3-0281-3554",
       "next": "4dbe5ab0-8203-11ee-91d3-0242ac120006-3-6a89-2401-3bc4",
       "previous": "79af7266-81fa-11ee-91d3-0242ac120006-3-608f-ca09-a844"
      },
      {
       "current": "4dbe59ca-8203-11ee-91d3-0242ac120006-6-a910-0e3b-cbc3-0281-3554-52bc",
       "next": "4dbe5ab0-8203-11ee-91d3-0242ac120006-4-6a89-2401-3bc4-c295",
       "previous": "79af7266-81fa-11ee-91d3-0242ac120006-4-608f-ca09-a844-6737"
      }
     ],
     "next": "4dbe5ab0-8203-11ee-91d3-0242ac120006-5-6a89-2401-3bc4-c295-de06",
     "previous": "79af7266-81fa-11ee-91d3-0242ac120006-5-608f-ca09-a844-6737-449f"
    }
   },
   "source": [
    "## DB,DATA LV指定"
   ]
  },
  {
   "cell_type": "code",
   "execution_count": null,
   "metadata": {
    "lc_cell_meme": {
     "current": "4dbe5ab0-8203-11ee-91d3-0242ac120006-5-6a89-2401-3bc4-c295-de06",
     "history": [
      {
       "current": "4dbe5ab0-8203-11ee-91d3-0242ac120006",
       "next": "4dbe5af6-8203-11ee-91d3-0242ac120006",
       "previous": "4dbe59ca-8203-11ee-91d3-0242ac120006"
      },
      {
       "current": "4dbe5ab0-8203-11ee-91d3-0242ac120006-1-6a89",
       "next": "953ffe34-8203-11ee-91d3-0242ac120006",
       "previous": "4dbe59ca-8203-11ee-91d3-0242ac120006-1-a910"
      },
      {
       "current": "4dbe5ab0-8203-11ee-91d3-0242ac120006-2-6a89-2401",
       "next": "953ffe34-8203-11ee-91d3-0242ac120006-1-9c32",
       "previous": "4dbe59ca-8203-11ee-91d3-0242ac120006-2-a910-0e3b"
      },
      {
       "current": "4dbe5ab0-8203-11ee-91d3-0242ac120006-3-6a89-2401-3bc4",
       "next": "953ffe34-8203-11ee-91d3-0242ac120006-2-9c32-e922",
       "previous": "4dbe59ca-8203-11ee-91d3-0242ac120006-3-a910-0e3b-cbc3"
      },
      {
       "current": "4dbe5ab0-8203-11ee-91d3-0242ac120006-4-6a89-2401-3bc4-c295",
       "next": "953ffe34-8203-11ee-91d3-0242ac120006-3-9c32-e922-3f93",
       "previous": "4dbe59ca-8203-11ee-91d3-0242ac120006-4-a910-0e3b-cbc3-0281"
      },
      {
       "current": "4dbe5ab0-8203-11ee-91d3-0242ac120006-5-6a89-2401-3bc4-c295-de06",
       "next": "953ffe34-8203-11ee-91d3-0242ac120006-4-9c32-e922-3f93-5ccf",
       "previous": "4dbe59ca-8203-11ee-91d3-0242ac120006-5-a910-0e3b-cbc3-0281-3554"
      }
     ],
     "next": "953ffe34-8203-11ee-91d3-0242ac120006-5-9c32-e922-3f93-5ccf-b0ef",
     "previous": "4dbe59ca-8203-11ee-91d3-0242ac120006-6-a910-0e3b-cbc3-0281-3554-52bc"
    }
   },
   "outputs": [],
   "source": [
    "apply_lv_info_list = []\n",
    "\n",
    "if len(free_lv_info_list) < apply_osd_num:\n",
    "    apply_osd_num = len(free_lv_info_list)\n",
    "\n",
    "for index in range(apply_osd_num):\n",
    "    apply_lv_info_list.append(free_lv_info_list[index])\n"
   ]
  },
  {
   "cell_type": "code",
   "execution_count": null,
   "metadata": {
    "lc_cell_meme": {
     "current": "953ffe34-8203-11ee-91d3-0242ac120006-5-9c32-e922-3f93-5ccf-b0ef",
     "history": [
      {
       "current": "953ffe34-8203-11ee-91d3-0242ac120006",
       "next": "953fff74-8203-11ee-91d3-0242ac120006",
       "previous": "4dbe5ab0-8203-11ee-91d3-0242ac120006"
      },
      {
       "current": "953ffe34-8203-11ee-91d3-0242ac120006-1-9c32",
       "next": "42f26ac0-8205-11ee-91d3-0242ac120006",
       "previous": "4dbe5ab0-8203-11ee-91d3-0242ac120006"
      },
      {
       "current": "953ffe34-8203-11ee-91d3-0242ac120006-2-9c32-e922",
       "next": "42f26ac0-8205-11ee-91d3-0242ac120006-1-f23e",
       "previous": "4dbe5ab0-8203-11ee-91d3-0242ac120006-1-6a89"
      },
      {
       "current": "953ffe34-8203-11ee-91d3-0242ac120006-3-9c32-e922-3f93",
       "next": "42f26ac0-8205-11ee-91d3-0242ac120006-2-f23e-073f",
       "previous": "4dbe5ab0-8203-11ee-91d3-0242ac120006-2-6a89-2401"
      },
      {
       "current": "953ffe34-8203-11ee-91d3-0242ac120006-4-9c32-e922-3f93-5ccf",
       "next": "42f26ac0-8205-11ee-91d3-0242ac120006-3-f23e-073f-8c12",
       "previous": "4dbe5ab0-8203-11ee-91d3-0242ac120006-3-6a89-2401-3bc4"
      },
      {
       "current": "953ffe34-8203-11ee-91d3-0242ac120006-5-9c32-e922-3f93-5ccf-b0ef",
       "next": "42f26ac0-8205-11ee-91d3-0242ac120006-4-f23e-073f-8c12-7285",
       "previous": "4dbe5ab0-8203-11ee-91d3-0242ac120006-4-6a89-2401-3bc4-c295"
      }
     ],
     "next": "42f26ac0-8205-11ee-91d3-0242ac120006-5-f23e-073f-8c12-7285-6b5a",
     "previous": "4dbe5ab0-8203-11ee-91d3-0242ac120006-5-6a89-2401-3bc4-c295-de06"
    },
    "scrolled": true
   },
   "outputs": [],
   "source": [
    "print(json.dumps(apply_lv_info_list, indent=2))"
   ]
  },
  {
   "cell_type": "markdown",
   "metadata": {
    "lc_cell_meme": {
     "current": "42f26ac0-8205-11ee-91d3-0242ac120006-5-f23e-073f-8c12-7285-6b5a",
     "history": [
      {
       "current": "42f26ac0-8205-11ee-91d3-0242ac120006",
       "next": "42f26bc4-8205-11ee-91d3-0242ac120006",
       "previous": "953fff74-8203-11ee-91d3-0242ac120006"
      },
      {
       "current": "42f26ac0-8205-11ee-91d3-0242ac120006-1-f23e",
       "next": "42f26bc4-8205-11ee-91d3-0242ac120006",
       "previous": "953ffe34-8203-11ee-91d3-0242ac120006"
      },
      {
       "current": "42f26ac0-8205-11ee-91d3-0242ac120006-2-f23e-073f",
       "next": "42f26bc4-8205-11ee-91d3-0242ac120006-1-b09e",
       "previous": "953ffe34-8203-11ee-91d3-0242ac120006-1-9c32"
      },
      {
       "current": "42f26ac0-8205-11ee-91d3-0242ac120006-3-f23e-073f-8c12",
       "next": "42f26bc4-8205-11ee-91d3-0242ac120006-2-b09e-4c57",
       "previous": "953ffe34-8203-11ee-91d3-0242ac120006-2-9c32-e922"
      },
      {
       "current": "42f26ac0-8205-11ee-91d3-0242ac120006-4-f23e-073f-8c12-7285",
       "next": "42f26bc4-8205-11ee-91d3-0242ac120006-3-b09e-4c57-e976",
       "previous": "953ffe34-8203-11ee-91d3-0242ac120006-3-9c32-e922-3f93"
      },
      {
       "current": "42f26ac0-8205-11ee-91d3-0242ac120006-5-f23e-073f-8c12-7285-6b5a",
       "next": "42f26bc4-8205-11ee-91d3-0242ac120006-4-b09e-4c57-e976-8c59",
       "previous": "953ffe34-8203-11ee-91d3-0242ac120006-4-9c32-e922-3f93-5ccf"
      }
     ],
     "next": "42f26bc4-8205-11ee-91d3-0242ac120006-5-b09e-4c57-e976-8c59-1952",
     "previous": "953ffe34-8203-11ee-91d3-0242ac120006-5-9c32-e922-3f93-5ccf-b0ef"
    }
   },
   "source": [
    "## OSD構築前のスクラビング無効化"
   ]
  },
  {
   "cell_type": "code",
   "execution_count": null,
   "metadata": {
    "lc_cell_meme": {
     "current": "42f26bc4-8205-11ee-91d3-0242ac120006-5-b09e-4c57-e976-8c59-1952",
     "history": [
      {
       "current": "42f26bc4-8205-11ee-91d3-0242ac120006-1-b09e",
       "next": "42f26c0a-8205-11ee-91d3-0242ac120006",
       "previous": "42f26ac0-8205-11ee-91d3-0242ac120006"
      },
      {
       "current": "42f26bc4-8205-11ee-91d3-0242ac120006-2-b09e-4c57",
       "next": "42f26c0a-8205-11ee-91d3-0242ac120006-1-0d72",
       "previous": "42f26ac0-8205-11ee-91d3-0242ac120006-1-f23e"
      },
      {
       "current": "42f26bc4-8205-11ee-91d3-0242ac120006-3-b09e-4c57-e976",
       "next": "42f26c0a-8205-11ee-91d3-0242ac120006-2-0d72-6099",
       "previous": "42f26ac0-8205-11ee-91d3-0242ac120006-2-f23e-073f"
      },
      {
       "current": "42f26bc4-8205-11ee-91d3-0242ac120006-4-b09e-4c57-e976-8c59",
       "next": "42f26c0a-8205-11ee-91d3-0242ac120006-3-0d72-6099-75c2",
       "previous": "42f26ac0-8205-11ee-91d3-0242ac120006-3-f23e-073f-8c12"
      },
      {
       "current": "42f26bc4-8205-11ee-91d3-0242ac120006-5-b09e-4c57-e976-8c59-1952",
       "next": "42f26c0a-8205-11ee-91d3-0242ac120006-4-0d72-6099-75c2-8cb3",
       "previous": "42f26ac0-8205-11ee-91d3-0242ac120006-4-f23e-073f-8c12-7285"
      }
     ],
     "next": "42f26c0a-8205-11ee-91d3-0242ac120006-5-0d72-6099-75c2-8cb3-a1e7",
     "previous": "42f26ac0-8205-11ee-91d3-0242ac120006-5-f23e-073f-8c12-7285-6b5a"
    }
   },
   "outputs": [],
   "source": [
    "!ansible -i $hosts -b -m shell -a \"cephadm shell -- ceph osd set noscrub\" bootstrap"
   ]
  },
  {
   "cell_type": "code",
   "execution_count": null,
   "metadata": {
    "lc_cell_meme": {
     "current": "42f26c0a-8205-11ee-91d3-0242ac120006-5-0d72-6099-75c2-8cb3-a1e7",
     "history": [
      {
       "current": "42f26c0a-8205-11ee-91d3-0242ac120006-1-0d72",
       "next": "42f26c3c-8205-11ee-91d3-0242ac120006",
       "previous": "42f26bc4-8205-11ee-91d3-0242ac120006"
      },
      {
       "current": "42f26c0a-8205-11ee-91d3-0242ac120006-2-0d72-6099",
       "next": "42f26c3c-8205-11ee-91d3-0242ac120006-1-b4dc",
       "previous": "42f26bc4-8205-11ee-91d3-0242ac120006-1-b09e"
      },
      {
       "current": "42f26c0a-8205-11ee-91d3-0242ac120006-3-0d72-6099-75c2",
       "next": "42f26c3c-8205-11ee-91d3-0242ac120006-2-b4dc-2aca",
       "previous": "42f26bc4-8205-11ee-91d3-0242ac120006-2-b09e-4c57"
      },
      {
       "current": "42f26c0a-8205-11ee-91d3-0242ac120006-4-0d72-6099-75c2-8cb3",
       "next": "42f26c3c-8205-11ee-91d3-0242ac120006-3-b4dc-2aca-5369",
       "previous": "42f26bc4-8205-11ee-91d3-0242ac120006-3-b09e-4c57-e976"
      },
      {
       "current": "42f26c0a-8205-11ee-91d3-0242ac120006-5-0d72-6099-75c2-8cb3-a1e7",
       "next": "42f26c3c-8205-11ee-91d3-0242ac120006-4-b4dc-2aca-5369-1acb",
       "previous": "42f26bc4-8205-11ee-91d3-0242ac120006-4-b09e-4c57-e976-8c59"
      }
     ],
     "next": "42f26c3c-8205-11ee-91d3-0242ac120006-5-b4dc-2aca-5369-1acb-1480",
     "previous": "42f26bc4-8205-11ee-91d3-0242ac120006-5-b09e-4c57-e976-8c59-1952"
    }
   },
   "outputs": [],
   "source": [
    "!ansible -i $hosts -b -m shell -a \"cephadm shell -- ceph osd set nodeep-scrub\" bootstrap"
   ]
  },
  {
   "cell_type": "markdown",
   "metadata": {
    "heading_collapsed": true,
    "lc_cell_meme": {
     "current": "42f26c3c-8205-11ee-91d3-0242ac120006-5-b4dc-2aca-5369-1acb-1480",
     "history": [
      {
       "current": "42f26c3c-8205-11ee-91d3-0242ac120006-1-b4dc",
       "next": "42f26c6e-8205-11ee-91d3-0242ac120006",
       "previous": "42f26c0a-8205-11ee-91d3-0242ac120006"
      },
      {
       "current": "42f26c3c-8205-11ee-91d3-0242ac120006-2-b4dc-2aca",
       "next": "42f26c6e-8205-11ee-91d3-0242ac120006-1-8793",
       "previous": "42f26c0a-8205-11ee-91d3-0242ac120006-1-0d72"
      },
      {
       "current": "42f26c3c-8205-11ee-91d3-0242ac120006-3-b4dc-2aca-5369",
       "next": "42f26c6e-8205-11ee-91d3-0242ac120006-2-8793-5168",
       "previous": "42f26c0a-8205-11ee-91d3-0242ac120006-2-0d72-6099"
      },
      {
       "current": "42f26c3c-8205-11ee-91d3-0242ac120006-4-b4dc-2aca-5369-1acb",
       "next": "42f26c6e-8205-11ee-91d3-0242ac120006-3-8793-5168-a15d",
       "previous": "42f26c0a-8205-11ee-91d3-0242ac120006-3-0d72-6099-75c2"
      },
      {
       "current": "42f26c3c-8205-11ee-91d3-0242ac120006-5-b4dc-2aca-5369-1acb-1480",
       "next": "42f26c6e-8205-11ee-91d3-0242ac120006-4-8793-5168-a15d-102e",
       "previous": "42f26c0a-8205-11ee-91d3-0242ac120006-4-0d72-6099-75c2-8cb3"
      }
     ],
     "next": "42f26c6e-8205-11ee-91d3-0242ac120006-5-8793-5168-a15d-102e-69a0",
     "previous": "42f26c0a-8205-11ee-91d3-0242ac120006-5-0d72-6099-75c2-8cb3-a1e7"
    }
   },
   "source": [
    "## バックフィルおよび復元機能を制限"
   ]
  },
  {
   "cell_type": "code",
   "execution_count": null,
   "metadata": {
    "hidden": true,
    "lc_cell_meme": {
     "current": "42f26c6e-8205-11ee-91d3-0242ac120006-5-8793-5168-a15d-102e-69a0",
     "history": [
      {
       "current": "42f26c6e-8205-11ee-91d3-0242ac120006-1-8793",
       "next": "953fffec-8203-11ee-91d3-0242ac120006-1-7147",
       "previous": "42f26c3c-8205-11ee-91d3-0242ac120006"
      },
      {
       "current": "42f26c6e-8205-11ee-91d3-0242ac120006-2-8793-5168",
       "next": "953fffec-8203-11ee-91d3-0242ac120006-2-7147-045c",
       "previous": "42f26c3c-8205-11ee-91d3-0242ac120006-1-b4dc"
      },
      {
       "current": "42f26c6e-8205-11ee-91d3-0242ac120006-3-8793-5168-a15d",
       "next": "953fffec-8203-11ee-91d3-0242ac120006-3-7147-045c-b78a",
       "previous": "42f26c3c-8205-11ee-91d3-0242ac120006-2-b4dc-2aca"
      },
      {
       "current": "42f26c6e-8205-11ee-91d3-0242ac120006-4-8793-5168-a15d-102e",
       "next": "953fffec-8203-11ee-91d3-0242ac120006-4-7147-045c-b78a-7c92",
       "previous": "42f26c3c-8205-11ee-91d3-0242ac120006-3-b4dc-2aca-5369"
      },
      {
       "current": "42f26c6e-8205-11ee-91d3-0242ac120006-5-8793-5168-a15d-102e-69a0",
       "next": "953fffec-8203-11ee-91d3-0242ac120006-5-7147-045c-b78a-7c92-37f1",
       "previous": "42f26c3c-8205-11ee-91d3-0242ac120006-4-b4dc-2aca-5369-1acb"
      }
     ],
     "next": "953fffec-8203-11ee-91d3-0242ac120006-6-7147-045c-b78a-7c92-37f1-3b37",
     "previous": "42f26c3c-8205-11ee-91d3-0242ac120006-5-b4dc-2aca-5369-1acb-1480"
    },
    "scrolled": true
   },
   "outputs": [],
   "source": [
    "!ansible -i $hosts -b -m shell -a \"cephadm shell -- ceph tell osd.* injectargs --osd-max-backfills 1 --osd-recovery-max-active 1 --osd-recovery-op-priority 1\" bootstrap"
   ]
  },
  {
   "cell_type": "markdown",
   "metadata": {
    "lc_cell_meme": {
     "current": "953fffec-8203-11ee-91d3-0242ac120006-6-7147-045c-b78a-7c92-37f1-3b37",
     "history": [
      {
       "current": "953fffec-8203-11ee-91d3-0242ac120006-1-7147",
       "next": "4dbe5af6-8203-11ee-91d3-0242ac120006",
       "previous": "953fff74-8203-11ee-91d3-0242ac120006"
      },
      {
       "current": "953fffec-8203-11ee-91d3-0242ac120006-2-7147-045c",
       "next": "4dbe5af6-8203-11ee-91d3-0242ac120006",
       "previous": "42f26c6e-8205-11ee-91d3-0242ac120006"
      },
      {
       "current": "953fffec-8203-11ee-91d3-0242ac120006-3-7147-045c-b78a",
       "next": "4dbe5af6-8203-11ee-91d3-0242ac120006-1-63f6",
       "previous": "42f26c6e-8205-11ee-91d3-0242ac120006-1-8793"
      },
      {
       "current": "953fffec-8203-11ee-91d3-0242ac120006-4-7147-045c-b78a-7c92",
       "next": "4dbe5af6-8203-11ee-91d3-0242ac120006-2-63f6-c450",
       "previous": "42f26c6e-8205-11ee-91d3-0242ac120006-2-8793-5168"
      },
      {
       "current": "953fffec-8203-11ee-91d3-0242ac120006-5-7147-045c-b78a-7c92-37f1",
       "next": "4dbe5af6-8203-11ee-91d3-0242ac120006-3-63f6-c450-2ad4",
       "previous": "42f26c6e-8205-11ee-91d3-0242ac120006-3-8793-5168-a15d"
      },
      {
       "current": "953fffec-8203-11ee-91d3-0242ac120006-6-7147-045c-b78a-7c92-37f1-3b37",
       "next": "4dbe5af6-8203-11ee-91d3-0242ac120006-4-63f6-c450-2ad4-e258",
       "previous": "42f26c6e-8205-11ee-91d3-0242ac120006-4-8793-5168-a15d-102e"
      }
     ],
     "next": "4dbe5af6-8203-11ee-91d3-0242ac120006-5-63f6-c450-2ad4-e258-4c0b",
     "previous": "42f26c6e-8205-11ee-91d3-0242ac120006-5-8793-5168-a15d-102e-69a0"
    }
   },
   "source": [
    "## OSD 追加"
   ]
  },
  {
   "cell_type": "code",
   "execution_count": null,
   "metadata": {
    "lc_cell_meme": {
     "current": "4dbe5af6-8203-11ee-91d3-0242ac120006-5-63f6-c450-2ad4-e258-4c0b",
     "history": [
      {
       "current": "4dbe5af6-8203-11ee-91d3-0242ac120006",
       "next": "4dbe5b1e-8203-11ee-91d3-0242ac120006",
       "previous": "4dbe5ab0-8203-11ee-91d3-0242ac120006"
      },
      {
       "current": "4dbe5af6-8203-11ee-91d3-0242ac120006",
       "next": "4dbe5b1e-8203-11ee-91d3-0242ac120006",
       "previous": "953fffec-8203-11ee-91d3-0242ac120006"
      },
      {
       "current": "4dbe5af6-8203-11ee-91d3-0242ac120006-1-63f6",
       "next": "4dbe5b1e-8203-11ee-91d3-0242ac120006",
       "previous": "953fffec-8203-11ee-91d3-0242ac120006-1-7147"
      },
      {
       "current": "4dbe5af6-8203-11ee-91d3-0242ac120006-2-63f6-c450",
       "next": "4dbe5b1e-8203-11ee-91d3-0242ac120006-1-9611",
       "previous": "953fffec-8203-11ee-91d3-0242ac120006-2-7147-045c"
      },
      {
       "current": "4dbe5af6-8203-11ee-91d3-0242ac120006-3-63f6-c450-2ad4",
       "next": "4dbe5b1e-8203-11ee-91d3-0242ac120006-2-9611-2bf8",
       "previous": "953fffec-8203-11ee-91d3-0242ac120006-3-7147-045c-b78a"
      },
      {
       "current": "4dbe5af6-8203-11ee-91d3-0242ac120006-4-63f6-c450-2ad4-e258",
       "next": "4dbe5b1e-8203-11ee-91d3-0242ac120006-3-9611-2bf8-754b",
       "previous": "953fffec-8203-11ee-91d3-0242ac120006-4-7147-045c-b78a-7c92"
      },
      {
       "current": "4dbe5af6-8203-11ee-91d3-0242ac120006-5-63f6-c450-2ad4-e258-4c0b",
       "next": "4dbe5b1e-8203-11ee-91d3-0242ac120006-4-9611-2bf8-754b-0503",
       "previous": "953fffec-8203-11ee-91d3-0242ac120006-5-7147-045c-b78a-7c92-37f1"
      }
     ],
     "next": "4dbe5b1e-8203-11ee-91d3-0242ac120006-5-9611-2bf8-754b-0503-8a97",
     "previous": "953fffec-8203-11ee-91d3-0242ac120006-6-7147-045c-b78a-7c92-37f1-3b37"
    },
    "scrolled": true
   },
   "outputs": [],
   "source": [
    "for index in range(apply_osd_num):\n",
    "    db_dev = apply_lv_info_list[index]['db_lv_info']['lv_path']\n",
    "    data_dev = apply_lv_info_list[index]['data_lv_info']['lv_path']\n",
    "    print(\"instance_name={} db_dev={} data_dev={}\".format(instance_name,db_dev,data_dev))\n",
    "    !ansible -i $hosts -b -m shell -a \"cephadm shell -- ceph orch daemon add osd $instance_name:data_devices=$data_dev,db_devices=$db_dev\" bootstrap"
   ]
  },
  {
   "cell_type": "code",
   "execution_count": null,
   "metadata": {
    "lc_cell_meme": {
     "current": "4dbe5b1e-8203-11ee-91d3-0242ac120006-5-9611-2bf8-754b-0503-8a97",
     "history": [
      {
       "current": "4dbe5b1e-8203-11ee-91d3-0242ac120006",
       "next": "35c581ba-55a3-11e7-b0b2-00163e9c0e35-2-89bc-f9d0",
       "previous": "4dbe5af6-8203-11ee-91d3-0242ac120006"
      },
      {
       "current": "4dbe5b1e-8203-11ee-91d3-0242ac120006-1-9611",
       "next": "fae6cd8e-8204-11ee-91d3-0242ac120006",
       "previous": "4dbe5af6-8203-11ee-91d3-0242ac120006"
      },
      {
       "current": "4dbe5b1e-8203-11ee-91d3-0242ac120006-2-9611-2bf8",
       "next": "fae6cd8e-8204-11ee-91d3-0242ac120006-1-ac9b",
       "previous": "4dbe5af6-8203-11ee-91d3-0242ac120006-1-63f6"
      },
      {
       "current": "4dbe5b1e-8203-11ee-91d3-0242ac120006-3-9611-2bf8-754b",
       "next": "fae6cd8e-8204-11ee-91d3-0242ac120006-2-ac9b-8591",
       "previous": "4dbe5af6-8203-11ee-91d3-0242ac120006-2-63f6-c450"
      },
      {
       "current": "4dbe5b1e-8203-11ee-91d3-0242ac120006-4-9611-2bf8-754b-0503",
       "next": "fae6cd8e-8204-11ee-91d3-0242ac120006-3-ac9b-8591-4459",
       "previous": "4dbe5af6-8203-11ee-91d3-0242ac120006-3-63f6-c450-2ad4"
      },
      {
       "current": "4dbe5b1e-8203-11ee-91d3-0242ac120006-5-9611-2bf8-754b-0503-8a97",
       "next": "fae6cd8e-8204-11ee-91d3-0242ac120006-4-ac9b-8591-4459-5b8d",
       "previous": "4dbe5af6-8203-11ee-91d3-0242ac120006-4-63f6-c450-2ad4-e258"
      }
     ],
     "next": "fae6cd8e-8204-11ee-91d3-0242ac120006-5-ac9b-8591-4459-5b8d-80c7",
     "previous": "4dbe5af6-8203-11ee-91d3-0242ac120006-5-63f6-c450-2ad4-e258-4c0b"
    }
   },
   "outputs": [],
   "source": [
    "!ansible -i $hosts -b -m shell -a 'cephadm shell -- ceph orch ls 2> /dev/null' bootstrap"
   ]
  },
  {
   "cell_type": "code",
   "execution_count": null,
   "metadata": {
    "lc_cell_meme": {
     "current": "fae6cd8e-8204-11ee-91d3-0242ac120006-5-ac9b-8591-4459-5b8d-80c7",
     "history": [
      {
       "current": "fae6cd8e-8204-11ee-91d3-0242ac120006",
       "next": "fae6cf50-8204-11ee-91d3-0242ac120006",
       "previous": "4dbe5b1e-8203-11ee-91d3-0242ac120006"
      },
      {
       "current": "fae6cd8e-8204-11ee-91d3-0242ac120006-1-ac9b",
       "next": "fae6cf50-8204-11ee-91d3-0242ac120006-1-078c",
       "previous": "4dbe5b1e-8203-11ee-91d3-0242ac120006"
      },
      {
       "current": "fae6cd8e-8204-11ee-91d3-0242ac120006-2-ac9b-8591",
       "next": "fae6cf50-8204-11ee-91d3-0242ac120006-2-078c-ddf6",
       "previous": "4dbe5b1e-8203-11ee-91d3-0242ac120006-1-9611"
      },
      {
       "current": "fae6cd8e-8204-11ee-91d3-0242ac120006-3-ac9b-8591-4459",
       "next": "fae6cf50-8204-11ee-91d3-0242ac120006-3-078c-ddf6-8b0c",
       "previous": "4dbe5b1e-8203-11ee-91d3-0242ac120006-2-9611-2bf8"
      },
      {
       "current": "fae6cd8e-8204-11ee-91d3-0242ac120006-4-ac9b-8591-4459-5b8d",
       "next": "fae6cf50-8204-11ee-91d3-0242ac120006-4-078c-ddf6-8b0c-c48b",
       "previous": "4dbe5b1e-8203-11ee-91d3-0242ac120006-3-9611-2bf8-754b"
      },
      {
       "current": "fae6cd8e-8204-11ee-91d3-0242ac120006-5-ac9b-8591-4459-5b8d-80c7",
       "next": "fae6cf50-8204-11ee-91d3-0242ac120006-5-078c-ddf6-8b0c-c48b-141b",
       "previous": "4dbe5b1e-8203-11ee-91d3-0242ac120006-4-9611-2bf8-754b-0503"
      }
     ],
     "next": "fae6cf50-8204-11ee-91d3-0242ac120006-6-078c-ddf6-8b0c-c48b-141b-dd3d",
     "previous": "4dbe5b1e-8203-11ee-91d3-0242ac120006-5-9611-2bf8-754b-0503-8a97"
    }
   },
   "outputs": [],
   "source": [
    "!ansible -i $hosts -b -m shell -a 'cephadm shell -- ceph -s 2> /dev/null' bootstrap"
   ]
  },
  {
   "cell_type": "markdown",
   "metadata": {
    "lc_cell_meme": {
     "current": "fae6cf50-8204-11ee-91d3-0242ac120006-6-078c-ddf6-8b0c-c48b-141b-dd3d",
     "history": [
      {
       "current": "fae6cf50-8204-11ee-91d3-0242ac120006",
       "next": "fae6d004-8204-11ee-91d3-0242ac120006",
       "previous": "fae6cd8e-8204-11ee-91d3-0242ac120006"
      },
      {
       "current": "fae6cf50-8204-11ee-91d3-0242ac120006-2-078c-ddf6",
       "next": "42f26ca0-8205-11ee-91d3-0242ac120006",
       "previous": "fae6cd8e-8204-11ee-91d3-0242ac120006"
      },
      {
       "current": "fae6cf50-8204-11ee-91d3-0242ac120006-3-078c-ddf6-8b0c",
       "next": "42f26ca0-8205-11ee-91d3-0242ac120006-1-eed1",
       "previous": "fae6cd8e-8204-11ee-91d3-0242ac120006-1-ac9b"
      },
      {
       "current": "fae6cf50-8204-11ee-91d3-0242ac120006-4-078c-ddf6-8b0c-c48b",
       "next": "42f26ca0-8205-11ee-91d3-0242ac120006-2-eed1-97ec",
       "previous": "fae6cd8e-8204-11ee-91d3-0242ac120006-2-ac9b-8591"
      },
      {
       "current": "fae6cf50-8204-11ee-91d3-0242ac120006-5-078c-ddf6-8b0c-c48b-141b",
       "next": "42f26ca0-8205-11ee-91d3-0242ac120006-3-eed1-97ec-175f",
       "previous": "fae6cd8e-8204-11ee-91d3-0242ac120006-3-ac9b-8591-4459"
      },
      {
       "current": "fae6cf50-8204-11ee-91d3-0242ac120006-6-078c-ddf6-8b0c-c48b-141b-dd3d",
       "next": "42f26ca0-8205-11ee-91d3-0242ac120006-4-eed1-97ec-175f-f51c",
       "previous": "fae6cd8e-8204-11ee-91d3-0242ac120006-4-ac9b-8591-4459-5b8d"
      }
     ],
     "next": "42f26ca0-8205-11ee-91d3-0242ac120006-5-eed1-97ec-175f-f51c-419d",
     "previous": "fae6cd8e-8204-11ee-91d3-0242ac120006-5-ac9b-8591-4459-5b8d-80c7"
    }
   },
   "source": [
    "## OSD構築後のスクラビング有効化"
   ]
  },
  {
   "cell_type": "code",
   "execution_count": null,
   "metadata": {
    "lc_cell_meme": {
     "current": "42f26ca0-8205-11ee-91d3-0242ac120006-5-eed1-97ec-175f-f51c-419d",
     "history": [
      {
       "current": "42f26ca0-8205-11ee-91d3-0242ac120006",
       "next": "42f26cd2-8205-11ee-91d3-0242ac120006",
       "previous": "fae6cf50-8204-11ee-91d3-0242ac120006"
      },
      {
       "current": "42f26ca0-8205-11ee-91d3-0242ac120006-1-eed1",
       "next": "42f26cd2-8205-11ee-91d3-0242ac120006",
       "previous": "fae6cf50-8204-11ee-91d3-0242ac120006-1-078c"
      },
      {
       "current": "42f26ca0-8205-11ee-91d3-0242ac120006-2-eed1-97ec",
       "next": "42f26cd2-8205-11ee-91d3-0242ac120006-1-4114",
       "previous": "fae6cf50-8204-11ee-91d3-0242ac120006-2-078c-ddf6"
      },
      {
       "current": "42f26ca0-8205-11ee-91d3-0242ac120006-3-eed1-97ec-175f",
       "next": "42f26cd2-8205-11ee-91d3-0242ac120006-2-4114-2430",
       "previous": "fae6cf50-8204-11ee-91d3-0242ac120006-3-078c-ddf6-8b0c"
      },
      {
       "current": "42f26ca0-8205-11ee-91d3-0242ac120006-4-eed1-97ec-175f-f51c",
       "next": "42f26cd2-8205-11ee-91d3-0242ac120006-3-4114-2430-e010",
       "previous": "fae6cf50-8204-11ee-91d3-0242ac120006-4-078c-ddf6-8b0c-c48b"
      },
      {
       "current": "42f26ca0-8205-11ee-91d3-0242ac120006-5-eed1-97ec-175f-f51c-419d",
       "next": "42f26cd2-8205-11ee-91d3-0242ac120006-4-4114-2430-e010-a798",
       "previous": "fae6cf50-8204-11ee-91d3-0242ac120006-5-078c-ddf6-8b0c-c48b-141b"
      }
     ],
     "next": "42f26cd2-8205-11ee-91d3-0242ac120006-5-4114-2430-e010-a798-c95f",
     "previous": "fae6cf50-8204-11ee-91d3-0242ac120006-6-078c-ddf6-8b0c-c48b-141b-dd3d"
    }
   },
   "outputs": [],
   "source": [
    "!ansible -i $hosts -b -m shell -a \"cephadm shell -- ceph osd unset noscrub\" bootstrap"
   ]
  },
  {
   "cell_type": "code",
   "execution_count": null,
   "metadata": {
    "lc_cell_meme": {
     "current": "42f26cd2-8205-11ee-91d3-0242ac120006-5-4114-2430-e010-a798-c95f",
     "history": [
      {
       "current": "42f26cd2-8205-11ee-91d3-0242ac120006",
       "next": "42f26cfa-8205-11ee-91d3-0242ac120006",
       "previous": "42f26ca0-8205-11ee-91d3-0242ac120006"
      },
      {
       "current": "42f26cd2-8205-11ee-91d3-0242ac120006-1-4114",
       "next": "42f26cfa-8205-11ee-91d3-0242ac120006-1-510b",
       "previous": "42f26ca0-8205-11ee-91d3-0242ac120006"
      },
      {
       "current": "42f26cd2-8205-11ee-91d3-0242ac120006-2-4114-2430",
       "next": "42f26cfa-8205-11ee-91d3-0242ac120006-2-510b-7b2e",
       "previous": "42f26ca0-8205-11ee-91d3-0242ac120006-1-eed1"
      },
      {
       "current": "42f26cd2-8205-11ee-91d3-0242ac120006-3-4114-2430-e010",
       "next": "42f26cfa-8205-11ee-91d3-0242ac120006-3-510b-7b2e-5f9a",
       "previous": "42f26ca0-8205-11ee-91d3-0242ac120006-2-eed1-97ec"
      },
      {
       "current": "42f26cd2-8205-11ee-91d3-0242ac120006-4-4114-2430-e010-a798",
       "next": "42f26cfa-8205-11ee-91d3-0242ac120006-4-510b-7b2e-5f9a-f2d5",
       "previous": "42f26ca0-8205-11ee-91d3-0242ac120006-3-eed1-97ec-175f"
      },
      {
       "current": "42f26cd2-8205-11ee-91d3-0242ac120006-5-4114-2430-e010-a798-c95f",
       "next": "42f26cfa-8205-11ee-91d3-0242ac120006-5-510b-7b2e-5f9a-f2d5-5643",
       "previous": "42f26ca0-8205-11ee-91d3-0242ac120006-4-eed1-97ec-175f-f51c"
      }
     ],
     "next": "42f26cfa-8205-11ee-91d3-0242ac120006-6-510b-7b2e-5f9a-f2d5-5643-3f12",
     "previous": "42f26ca0-8205-11ee-91d3-0242ac120006-5-eed1-97ec-175f-f51c-419d"
    }
   },
   "outputs": [],
   "source": [
    "!ansible -i $hosts -b -m shell -a \"cephadm shell -- ceph osd unset nodeep-scrub\" bootstrap"
   ]
  },
  {
   "cell_type": "markdown",
   "metadata": {
    "lc_cell_meme": {
     "current": "42f26cfa-8205-11ee-91d3-0242ac120006-6-510b-7b2e-5f9a-f2d5-5643-3f12",
     "history": [
      {
       "current": "42f26cfa-8205-11ee-91d3-0242ac120006-2-510b-7b2e",
       "next": "fae6d004-8204-11ee-91d3-0242ac120006",
       "previous": "42f26cd2-8205-11ee-91d3-0242ac120006"
      },
      {
       "current": "42f26cfa-8205-11ee-91d3-0242ac120006-3-510b-7b2e-5f9a",
       "next": "fae6d004-8204-11ee-91d3-0242ac120006-1-802c",
       "previous": "42f26cd2-8205-11ee-91d3-0242ac120006-1-4114"
      },
      {
       "current": "42f26cfa-8205-11ee-91d3-0242ac120006-4-510b-7b2e-5f9a-f2d5",
       "next": "fae6d004-8204-11ee-91d3-0242ac120006-2-802c-4941",
       "previous": "42f26cd2-8205-11ee-91d3-0242ac120006-2-4114-2430"
      },
      {
       "current": "42f26cfa-8205-11ee-91d3-0242ac120006-5-510b-7b2e-5f9a-f2d5-5643",
       "next": "fae6d004-8204-11ee-91d3-0242ac120006-3-802c-4941-8ac4",
       "previous": "42f26cd2-8205-11ee-91d3-0242ac120006-3-4114-2430-e010"
      },
      {
       "current": "42f26cfa-8205-11ee-91d3-0242ac120006-6-510b-7b2e-5f9a-f2d5-5643-3f12",
       "next": "fae6d004-8204-11ee-91d3-0242ac120006-4-802c-4941-8ac4-1813",
       "previous": "42f26cd2-8205-11ee-91d3-0242ac120006-4-4114-2430-e010-a798"
      }
     ],
     "next": "fae6d004-8204-11ee-91d3-0242ac120006-5-802c-4941-8ac4-1813-7067",
     "previous": "42f26cd2-8205-11ee-91d3-0242ac120006-5-4114-2430-e010-a798-c95f"
    }
   },
   "source": [
    "## バックフィルおよびリカバリー機能を default に戻す"
   ]
  },
  {
   "cell_type": "code",
   "execution_count": null,
   "metadata": {
    "lc_cell_meme": {
     "current": "fae6d004-8204-11ee-91d3-0242ac120006-5-802c-4941-8ac4-1813-7067",
     "history": [
      {
       "current": "fae6d004-8204-11ee-91d3-0242ac120006",
       "next": "35c581ba-55a3-11e7-b0b2-00163e9c0e35-2-89bc-f9d0",
       "previous": "fae6cf50-8204-11ee-91d3-0242ac120006"
      },
      {
       "current": "fae6d004-8204-11ee-91d3-0242ac120006",
       "next": "35c581ba-55a3-11e7-b0b2-00163e9c0e35-2-89bc-f9d0",
       "previous": "42f26cfa-8205-11ee-91d3-0242ac120006"
      },
      {
       "current": "fae6d004-8204-11ee-91d3-0242ac120006-1-802c",
       "next": "79af704a-81fa-11ee-91d3-0242ac120006-2-93c1-4f3b",
       "previous": "42f26cfa-8205-11ee-91d3-0242ac120006-1-510b"
      },
      {
       "current": "fae6d004-8204-11ee-91d3-0242ac120006-2-802c-4941",
       "next": "79af704a-81fa-11ee-91d3-0242ac120006-3-93c1-4f3b-7ae9",
       "previous": "42f26cfa-8205-11ee-91d3-0242ac120006-2-510b-7b2e"
      },
      {
       "current": "fae6d004-8204-11ee-91d3-0242ac120006-3-802c-4941-8ac4",
       "next": "79af704a-81fa-11ee-91d3-0242ac120006-4-93c1-4f3b-7ae9-8c3a",
       "previous": "42f26cfa-8205-11ee-91d3-0242ac120006-3-510b-7b2e-5f9a"
      },
      {
       "current": "fae6d004-8204-11ee-91d3-0242ac120006-4-802c-4941-8ac4-1813",
       "next": "79af704a-81fa-11ee-91d3-0242ac120006-5-93c1-4f3b-7ae9-8c3a-5148",
       "previous": "42f26cfa-8205-11ee-91d3-0242ac120006-4-510b-7b2e-5f9a-f2d5"
      },
      {
       "current": "fae6d004-8204-11ee-91d3-0242ac120006-5-802c-4941-8ac4-1813-7067",
       "next": "79af704a-81fa-11ee-91d3-0242ac120006-6-93c1-4f3b-7ae9-8c3a-5148-73f0",
       "previous": "42f26cfa-8205-11ee-91d3-0242ac120006-5-510b-7b2e-5f9a-f2d5-5643"
      }
     ],
     "next": "79af704a-81fa-11ee-91d3-0242ac120006-7-93c1-4f3b-7ae9-8c3a-5148-73f0-7471",
     "previous": "42f26cfa-8205-11ee-91d3-0242ac120006-6-510b-7b2e-5f9a-f2d5-5643-3f12"
    },
    "scrolled": true
   },
   "outputs": [],
   "source": [
    "!ansible -i $hosts -b -m shell -a \"cephadm shell -- ceph tell osd.* injectargs --osd-max-backfills 1 --osd-recovery-max-active 3 --osd-recovery-op-priority 3\" bootstrap"
   ]
  },
  {
   "cell_type": "markdown",
   "metadata": {
    "lc_cell_meme": {
     "current": "79af704a-81fa-11ee-91d3-0242ac120006-7-93c1-4f3b-7ae9-8c3a-5148-73f0-7471",
     "history": [
      {
       "current": "79af704a-81fa-11ee-91d3-0242ac120006-2-93c1-4f3b",
       "next": "79af70f4-81fa-11ee-91d3-0242ac120006",
       "previous": "79af6e92-81fa-11ee-91d3-0242ac120006"
      },
      {
       "current": "79af704a-81fa-11ee-91d3-0242ac120006-3-93c1-4f3b-7ae9",
       "next": "79af70f4-81fa-11ee-91d3-0242ac120006-1-a61a",
       "previous": "fae6d004-8204-11ee-91d3-0242ac120006"
      },
      {
       "current": "79af704a-81fa-11ee-91d3-0242ac120006-4-93c1-4f3b-7ae9-8c3a",
       "next": "79af70f4-81fa-11ee-91d3-0242ac120006-2-a61a-a5a2",
       "previous": "fae6d004-8204-11ee-91d3-0242ac120006-1-802c"
      },
      {
       "current": "79af704a-81fa-11ee-91d3-0242ac120006-5-93c1-4f3b-7ae9-8c3a-5148",
       "next": "79af70f4-81fa-11ee-91d3-0242ac120006-3-a61a-a5a2-cf7d",
       "previous": "fae6d004-8204-11ee-91d3-0242ac120006-2-802c-4941"
      },
      {
       "current": "79af704a-81fa-11ee-91d3-0242ac120006-6-93c1-4f3b-7ae9-8c3a-5148-73f0",
       "next": "79af70f4-81fa-11ee-91d3-0242ac120006-4-a61a-a5a2-cf7d-cd8b",
       "previous": "fae6d004-8204-11ee-91d3-0242ac120006-3-802c-4941-8ac4"
      },
      {
       "current": "79af704a-81fa-11ee-91d3-0242ac120006-7-93c1-4f3b-7ae9-8c3a-5148-73f0-7471",
       "next": "79af70f4-81fa-11ee-91d3-0242ac120006-5-a61a-a5a2-cf7d-cd8b-09c1",
       "previous": "fae6d004-8204-11ee-91d3-0242ac120006-4-802c-4941-8ac4-1813"
      }
     ],
     "next": "79af70f4-81fa-11ee-91d3-0242ac120006-6-a61a-a5a2-cf7d-cd8b-09c1-e625",
     "previous": "fae6d004-8204-11ee-91d3-0242ac120006-5-802c-4941-8ac4-1813-7067"
    }
   },
   "source": [
    "## 対象ノードのOSDの詳細情報取得"
   ]
  },
  {
   "cell_type": "code",
   "execution_count": null,
   "metadata": {
    "lc_cell_meme": {
     "current": "79af70f4-81fa-11ee-91d3-0242ac120006-6-a61a-a5a2-cf7d-cd8b-09c1-e625",
     "history": [
      {
       "current": "79af70f4-81fa-11ee-91d3-0242ac120006",
       "next": "79af7176-81fa-11ee-91d3-0242ac120006",
       "previous": "79af704a-81fa-11ee-91d3-0242ac120006"
      },
      {
       "current": "79af70f4-81fa-11ee-91d3-0242ac120006-1-a61a",
       "next": "c26b72f6-81fb-11ee-91d3-0242ac120006",
       "previous": "79af704a-81fa-11ee-91d3-0242ac120006-1-93c1"
      },
      {
       "current": "79af70f4-81fa-11ee-91d3-0242ac120006-2-a61a-a5a2",
       "next": "c26b72f6-81fb-11ee-91d3-0242ac120006-1-ac0c",
       "previous": "79af704a-81fa-11ee-91d3-0242ac120006-2-93c1-4f3b"
      },
      {
       "current": "79af70f4-81fa-11ee-91d3-0242ac120006-3-a61a-a5a2-cf7d",
       "next": "c26b72f6-81fb-11ee-91d3-0242ac120006-2-ac0c-635f",
       "previous": "79af704a-81fa-11ee-91d3-0242ac120006-3-93c1-4f3b-7ae9"
      },
      {
       "current": "79af70f4-81fa-11ee-91d3-0242ac120006-4-a61a-a5a2-cf7d-cd8b",
       "next": "c26b72f6-81fb-11ee-91d3-0242ac120006-3-ac0c-635f-9716",
       "previous": "79af704a-81fa-11ee-91d3-0242ac120006-4-93c1-4f3b-7ae9-8c3a"
      },
      {
       "current": "79af70f4-81fa-11ee-91d3-0242ac120006-5-a61a-a5a2-cf7d-cd8b-09c1",
       "next": "c26b72f6-81fb-11ee-91d3-0242ac120006-4-ac0c-635f-9716-b6a8",
       "previous": "79af704a-81fa-11ee-91d3-0242ac120006-5-93c1-4f3b-7ae9-8c3a-5148"
      },
      {
       "current": "79af70f4-81fa-11ee-91d3-0242ac120006-6-a61a-a5a2-cf7d-cd8b-09c1-e625",
       "next": "c26b72f6-81fb-11ee-91d3-0242ac120006-5-ac0c-635f-9716-b6a8-3160",
       "previous": "79af704a-81fa-11ee-91d3-0242ac120006-6-93c1-4f3b-7ae9-8c3a-5148-73f0"
      }
     ],
     "next": "c26b72f6-81fb-11ee-91d3-0242ac120006-6-ac0c-635f-9716-b6a8-3160-14f6",
     "previous": "79af704a-81fa-11ee-91d3-0242ac120006-7-93c1-4f3b-7ae9-8c3a-5148-73f0-7471"
    }
   },
   "outputs": [],
   "source": [
    "ret = !ansible -i $hosts -b -m shell -a \"cephadm shell -- ceph osd metadata --format=json 2> /dev/null\" bootstrap"
   ]
  },
  {
   "cell_type": "code",
   "execution_count": null,
   "metadata": {
    "lc_cell_meme": {
     "current": "c26b72f6-81fb-11ee-91d3-0242ac120006-6-ac0c-635f-9716-b6a8-3160-14f6",
     "history": [
      {
       "current": "c26b72f6-81fb-11ee-91d3-0242ac120006-1-ac0c",
       "next": "c26b74a4-81fb-11ee-91d3-0242ac120006",
       "previous": "79af70f4-81fa-11ee-91d3-0242ac120006"
      },
      {
       "current": "c26b72f6-81fb-11ee-91d3-0242ac120006-2-ac0c-635f",
       "next": "c26b74a4-81fb-11ee-91d3-0242ac120006-1-1d5a",
       "previous": "79af70f4-81fa-11ee-91d3-0242ac120006-1-a61a"
      },
      {
       "current": "c26b72f6-81fb-11ee-91d3-0242ac120006-3-ac0c-635f-9716",
       "next": "c26b74a4-81fb-11ee-91d3-0242ac120006-2-1d5a-a8a3",
       "previous": "79af70f4-81fa-11ee-91d3-0242ac120006-2-a61a-a5a2"
      },
      {
       "current": "c26b72f6-81fb-11ee-91d3-0242ac120006-4-ac0c-635f-9716-b6a8",
       "next": "c26b74a4-81fb-11ee-91d3-0242ac120006-3-1d5a-a8a3-7fb6",
       "previous": "79af70f4-81fa-11ee-91d3-0242ac120006-3-a61a-a5a2-cf7d"
      },
      {
       "current": "c26b72f6-81fb-11ee-91d3-0242ac120006-5-ac0c-635f-9716-b6a8-3160",
       "next": "c26b74a4-81fb-11ee-91d3-0242ac120006-4-1d5a-a8a3-7fb6-cb7c",
       "previous": "79af70f4-81fa-11ee-91d3-0242ac120006-4-a61a-a5a2-cf7d-cd8b"
      },
      {
       "current": "c26b72f6-81fb-11ee-91d3-0242ac120006-6-ac0c-635f-9716-b6a8-3160-14f6",
       "next": "c26b74a4-81fb-11ee-91d3-0242ac120006-5-1d5a-a8a3-7fb6-cb7c-db44",
       "previous": "79af70f4-81fa-11ee-91d3-0242ac120006-5-a61a-a5a2-cf7d-cd8b-09c1"
      }
     ],
     "next": "c26b74a4-81fb-11ee-91d3-0242ac120006-6-1d5a-a8a3-7fb6-cb7c-db44-a524",
     "previous": "79af70f4-81fa-11ee-91d3-0242ac120006-6-a61a-a5a2-cf7d-cd8b-09c1-e625"
    },
    "scrolled": true
   },
   "outputs": [],
   "source": [
    "osd_metadata_list = json.loads(ret[2])\n",
    "print(json.dumps(osd_metadata_list, indent=2))"
   ]
  },
  {
   "cell_type": "code",
   "execution_count": null,
   "metadata": {
    "lc_cell_meme": {
     "current": "c26b74a4-81fb-11ee-91d3-0242ac120006-6-1d5a-a8a3-7fb6-cb7c-db44-a524",
     "history": [
      {
       "current": "c26b74a4-81fb-11ee-91d3-0242ac120006-1-1d5a",
       "next": "c26b7544-81fb-11ee-91d3-0242ac120006",
       "previous": "c26b72f6-81fb-11ee-91d3-0242ac120006"
      },
      {
       "current": "c26b74a4-81fb-11ee-91d3-0242ac120006-2-1d5a-a8a3",
       "next": "c26b7544-81fb-11ee-91d3-0242ac120006-1-767b",
       "previous": "c26b72f6-81fb-11ee-91d3-0242ac120006-1-ac0c"
      },
      {
       "current": "c26b74a4-81fb-11ee-91d3-0242ac120006-3-1d5a-a8a3-7fb6",
       "next": "c26b7544-81fb-11ee-91d3-0242ac120006-2-767b-2d8e",
       "previous": "c26b72f6-81fb-11ee-91d3-0242ac120006-2-ac0c-635f"
      },
      {
       "current": "c26b74a4-81fb-11ee-91d3-0242ac120006-4-1d5a-a8a3-7fb6-cb7c",
       "next": "c26b7544-81fb-11ee-91d3-0242ac120006-3-767b-2d8e-33a3",
       "previous": "c26b72f6-81fb-11ee-91d3-0242ac120006-3-ac0c-635f-9716"
      },
      {
       "current": "c26b74a4-81fb-11ee-91d3-0242ac120006-5-1d5a-a8a3-7fb6-cb7c-db44",
       "next": "c26b7544-81fb-11ee-91d3-0242ac120006-4-767b-2d8e-33a3-a0d8",
       "previous": "c26b72f6-81fb-11ee-91d3-0242ac120006-4-ac0c-635f-9716-b6a8"
      },
      {
       "current": "c26b74a4-81fb-11ee-91d3-0242ac120006-6-1d5a-a8a3-7fb6-cb7c-db44-a524",
       "next": "c26b7544-81fb-11ee-91d3-0242ac120006-5-767b-2d8e-33a3-a0d8-eb7b",
       "previous": "c26b72f6-81fb-11ee-91d3-0242ac120006-5-ac0c-635f-9716-b6a8-3160"
      }
     ],
     "next": "c26b7544-81fb-11ee-91d3-0242ac120006-6-767b-2d8e-33a3-a0d8-eb7b-8609",
     "previous": "c26b72f6-81fb-11ee-91d3-0242ac120006-6-ac0c-635f-9716-b6a8-3160-14f6"
    }
   },
   "outputs": [],
   "source": [
    "osd_strage_info_list = []\n",
    "for osd_metadata in osd_metadata_list:\n",
    "    hostname = osd_metadata['container_hostname']\n",
    "    if instance_name != hostname:\n",
    "        continue\n",
    "    osd_strage_info = {}\n",
    "    osd_strage_info['hostname'] = hostname\n",
    "    osd_strage_info['osd_id'] = osd_metadata['id']\n",
    "    osd_strage_info['bluefs_db_partition_path'] = osd_metadata['bluefs_db_partition_path']\n",
    "    osd_strage_info['bluefs_db_type'] = osd_metadata['bluefs_db_type']\n",
    "    osd_strage_info['bluestore_bdev_partition_path'] = osd_metadata['bluestore_bdev_partition_path']\n",
    "    osd_strage_info['bluestore_bdev_type'] = osd_metadata['bluestore_bdev_type']\n",
    "    osd_strage_info_list.append(osd_strage_info)"
   ]
  },
  {
   "cell_type": "code",
   "execution_count": null,
   "metadata": {
    "lc_cell_meme": {
     "current": "c26b7544-81fb-11ee-91d3-0242ac120006-6-767b-2d8e-33a3-a0d8-eb7b-8609",
     "history": [
      {
       "current": "c26b7544-81fb-11ee-91d3-0242ac120006",
       "next": "c26b75bc-81fb-11ee-91d3-0242ac120006",
       "previous": "c26b74a4-81fb-11ee-91d3-0242ac120006"
      },
      {
       "current": "c26b7544-81fb-11ee-91d3-0242ac120006-1-767b",
       "next": "abdb20aa-81ff-11ee-91d3-0242ac120006",
       "previous": "c26b74a4-81fb-11ee-91d3-0242ac120006"
      },
      {
       "current": "c26b7544-81fb-11ee-91d3-0242ac120006-1-767b",
       "next": "8a7cff86-8205-11ee-91d3-0242ac120006",
       "previous": "c26b74a4-81fb-11ee-91d3-0242ac120006-1-1d5a"
      },
      {
       "current": "c26b7544-81fb-11ee-91d3-0242ac120006-2-767b-2d8e",
       "next": "35c581ba-55a3-11e7-b0b2-00163e9c0e35-2-89bc-f9d0",
       "previous": "c26b74a4-81fb-11ee-91d3-0242ac120006-1-1d5a"
      },
      {
       "current": "c26b7544-81fb-11ee-91d3-0242ac120006-2-767b-2d8e",
       "next": "35c581ba-55a3-11e7-b0b2-00163e9c0e35-3-89bc-f9d0-6fda",
       "previous": "c26b74a4-81fb-11ee-91d3-0242ac120006-2-1d5a-a8a3"
      },
      {
       "current": "c26b7544-81fb-11ee-91d3-0242ac120006-3-767b-2d8e-33a3",
       "next": "f656b96a-a558-11ee-91d3-0242ac120006",
       "previous": "c26b74a4-81fb-11ee-91d3-0242ac120006-2-1d5a-a8a3"
      },
      {
       "current": "c26b7544-81fb-11ee-91d3-0242ac120006-4-767b-2d8e-33a3-a0d8",
       "next": "f656b96a-a558-11ee-91d3-0242ac120006-1-e5e0",
       "previous": "c26b74a4-81fb-11ee-91d3-0242ac120006-3-1d5a-a8a3-7fb6"
      },
      {
       "current": "c26b7544-81fb-11ee-91d3-0242ac120006-5-767b-2d8e-33a3-a0d8-eb7b",
       "next": "f656b96a-a558-11ee-91d3-0242ac120006-2-e5e0-38f0",
       "previous": "c26b74a4-81fb-11ee-91d3-0242ac120006-4-1d5a-a8a3-7fb6-cb7c"
      },
      {
       "current": "c26b7544-81fb-11ee-91d3-0242ac120006-6-767b-2d8e-33a3-a0d8-eb7b-8609",
       "next": "f656b96a-a558-11ee-91d3-0242ac120006-3-e5e0-38f0-5692",
       "previous": "c26b74a4-81fb-11ee-91d3-0242ac120006-5-1d5a-a8a3-7fb6-cb7c-db44"
      }
     ],
     "next": "f656b96a-a558-11ee-91d3-0242ac120006-4-e5e0-38f0-5692-b36f",
     "previous": "c26b74a4-81fb-11ee-91d3-0242ac120006-6-1d5a-a8a3-7fb6-cb7c-db44-a524"
    }
   },
   "outputs": [],
   "source": [
    "pd.DataFrame(osd_strage_info_list)"
   ]
  },
  {
   "cell_type": "code",
   "execution_count": null,
   "metadata": {
    "lc_cell_meme": {
     "current": "f656b96a-a558-11ee-91d3-0242ac120006-4-e5e0-38f0-5692-b36f",
     "history": [
      {
       "current": "f656b96a-a558-11ee-91d3-0242ac120006-1-e5e0",
       "next": "35c581ba-55a3-11e7-b0b2-00163e9c0e35-3-89bc-f9d0-6fda",
       "previous": "c26b7544-81fb-11ee-91d3-0242ac120006-2-767b-2d8e"
      },
      {
       "current": "f656b96a-a558-11ee-91d3-0242ac120006-2-e5e0-38f0",
       "next": "35c581ba-55a3-11e7-b0b2-00163e9c0e35-4-89bc-f9d0-6fda-4bde",
       "previous": "c26b7544-81fb-11ee-91d3-0242ac120006-3-767b-2d8e-33a3"
      },
      {
       "current": "f656b96a-a558-11ee-91d3-0242ac120006-3-e5e0-38f0-5692",
       "next": "35c581ba-55a3-11e7-b0b2-00163e9c0e35-5-89bc-f9d0-6fda-4bde-1515",
       "previous": "c26b7544-81fb-11ee-91d3-0242ac120006-4-767b-2d8e-33a3-a0d8"
      },
      {
       "current": "f656b96a-a558-11ee-91d3-0242ac120006-4-e5e0-38f0-5692-b36f",
       "next": "35c581ba-55a3-11e7-b0b2-00163e9c0e35-6-89bc-f9d0-6fda-4bde-1515-77e7",
       "previous": "c26b7544-81fb-11ee-91d3-0242ac120006-5-767b-2d8e-33a3-a0d8-eb7b"
      }
     ],
     "next": "35c581ba-55a3-11e7-b0b2-00163e9c0e35-7-89bc-f9d0-6fda-4bde-1515-77e7-8ec0",
     "previous": "c26b7544-81fb-11ee-91d3-0242ac120006-6-767b-2d8e-33a3-a0d8-eb7b-8609"
    }
   },
   "outputs": [],
   "source": [
    "!ansible -i $hosts -b -m shell -a 'cephadm shell -- ceph -s 2> /dev/null' bootstrap"
   ]
  },
  {
   "cell_type": "markdown",
   "metadata": {
    "collapsed": true,
    "lc_cell_meme": {
     "current": "35c581ba-55a3-11e7-b0b2-00163e9c0e35-7-89bc-f9d0-6fda-4bde-1515-77e7-8ec0",
     "history": [
      {
       "current": "35c581ba-55a3-11e7-b0b2-00163e9c0e35",
       "next": "35c58340-55a3-11e7-b0b2-00163e9c0e35",
       "previous": "35c58034-55a3-11e7-b0b2-00163e9c0e35"
      },
      {
       "current": "35c581ba-55a3-11e7-b0b2-00163e9c0e35",
       "next": "35c58340-55a3-11e7-b0b2-00163e9c0e35",
       "previous": "35c51928-55a3-11e7-b0b2-00163e9c0e35"
      },
      {
       "current": "35c581ba-55a3-11e7-b0b2-00163e9c0e35",
       "next": "35c58340-55a3-11e7-b0b2-00163e9c0e35",
       "previous": "277a614c-47b9-11ea-a028-0242ac120005"
      },
      {
       "current": "35c581ba-55a3-11e7-b0b2-00163e9c0e35",
       "next": "35c58340-55a3-11e7-b0b2-00163e9c0e35",
       "previous": "35c51928-55a3-11e7-b0b2-00163e9c0e35"
      },
      {
       "current": "35c581ba-55a3-11e7-b0b2-00163e9c0e35",
       "next": "35c58340-55a3-11e7-b0b2-00163e9c0e35",
       "previous": "b8a85906-47b6-11ea-a028-0242ac120005"
      },
      {
       "current": "35c581ba-55a3-11e7-b0b2-00163e9c0e35",
       "next": "35c58340-55a3-11e7-b0b2-00163e9c0e35",
       "previous": "35c38fae-55a3-11e7-b0b2-00163e9c0e35"
      },
      {
       "current": "35c581ba-55a3-11e7-b0b2-00163e9c0e35",
       "next": "35c58340-55a3-11e7-b0b2-00163e9c0e35",
       "previous": "35c385a4-55a3-11e7-b0b2-00163e9c0e35"
      },
      {
       "current": "35c581ba-55a3-11e7-b0b2-00163e9c0e35",
       "next": "35c58340-55a3-11e7-b0b2-00163e9c0e35",
       "previous": "27c39180-935b-11ea-8d02-0242ac120007"
      },
      {
       "current": "35c581ba-55a3-11e7-b0b2-00163e9c0e35",
       "next": "35c58340-55a3-11e7-b0b2-00163e9c0e35",
       "previous": "35c385a4-55a3-11e7-b0b2-00163e9c0e35"
      },
      {
       "current": "35c581ba-55a3-11e7-b0b2-00163e9c0e35",
       "next": "35c58340-55a3-11e7-b0b2-00163e9c0e35",
       "previous": "b20d6ace-9684-11ea-8d02-0242ac120007"
      },
      {
       "current": "35c581ba-55a3-11e7-b0b2-00163e9c0e35",
       "next": "35c58340-55a3-11e7-b0b2-00163e9c0e35",
       "previous": "18b837c6-9686-11ea-8d02-0242ac120007"
      },
      {
       "current": "35c581ba-55a3-11e7-b0b2-00163e9c0e35",
       "next": "35c58340-55a3-11e7-b0b2-00163e9c0e35",
       "previous": "59de09f6-9686-11ea-8d02-0242ac120007"
      },
      {
       "current": "35c581ba-55a3-11e7-b0b2-00163e9c0e35",
       "next": "35c58340-55a3-11e7-b0b2-00163e9c0e35",
       "previous": "7dae8b30-9686-11ea-8d02-0242ac120007"
      },
      {
       "current": "35c581ba-55a3-11e7-b0b2-00163e9c0e35",
       "next": "35c58340-55a3-11e7-b0b2-00163e9c0e35",
       "previous": "789942dc-9692-11ea-8d02-0242ac120007"
      },
      {
       "current": "35c581ba-55a3-11e7-b0b2-00163e9c0e35",
       "next": "35c58340-55a3-11e7-b0b2-00163e9c0e35",
       "previous": "e95d003a-9697-11ea-8d02-0242ac120007"
      },
      {
       "current": "35c581ba-55a3-11e7-b0b2-00163e9c0e35",
       "next": "35c58340-55a3-11e7-b0b2-00163e9c0e35",
       "previous": "357fc83a-969d-11ea-8d02-0242ac120007"
      },
      {
       "current": "35c581ba-55a3-11e7-b0b2-00163e9c0e35",
       "next": "35c58340-55a3-11e7-b0b2-00163e9c0e35",
       "previous": "7dae86da-9686-11ea-8d02-0242ac120007"
      },
      {
       "current": "35c581ba-55a3-11e7-b0b2-00163e9c0e35",
       "next": "35c58340-55a3-11e7-b0b2-00163e9c0e35",
       "previous": "49102d8c-98a9-11ea-8d02-0242ac120007"
      },
      {
       "current": "35c581ba-55a3-11e7-b0b2-00163e9c0e35",
       "next": "35c58340-55a3-11e7-b0b2-00163e9c0e35",
       "previous": "dbe917aa-9984-11ea-8d02-0242ac120007"
      },
      {
       "current": "35c581ba-55a3-11e7-b0b2-00163e9c0e35",
       "next": "35c58340-55a3-11e7-b0b2-00163e9c0e35",
       "previous": "f9f7c1a0-9985-11ea-8d02-0242ac120007"
      },
      {
       "current": "35c581ba-55a3-11e7-b0b2-00163e9c0e35",
       "next": "35c58340-55a3-11e7-b0b2-00163e9c0e35",
       "previous": "4180e646-9986-11ea-8d02-0242ac120007"
      },
      {
       "current": "35c581ba-55a3-11e7-b0b2-00163e9c0e35",
       "next": "35c58340-55a3-11e7-b0b2-00163e9c0e35",
       "previous": "eea7aafc-9987-11ea-8d02-0242ac120007"
      },
      {
       "current": "35c581ba-55a3-11e7-b0b2-00163e9c0e35",
       "next": "35c58340-55a3-11e7-b0b2-00163e9c0e35",
       "previous": "7db36be6-9988-11ea-8d02-0242ac120007"
      },
      {
       "current": "35c581ba-55a3-11e7-b0b2-00163e9c0e35",
       "next": "35c58340-55a3-11e7-b0b2-00163e9c0e35",
       "previous": "7db36a7e-9988-11ea-8d02-0242ac120007"
      },
      {
       "current": "35c581ba-55a3-11e7-b0b2-00163e9c0e35",
       "next": "35c58340-55a3-11e7-b0b2-00163e9c0e35",
       "previous": "f3e7d364-998e-11ea-8d02-0242ac120007"
      },
      {
       "current": "35c581ba-55a3-11e7-b0b2-00163e9c0e35",
       "next": "35c58340-55a3-11e7-b0b2-00163e9c0e35",
       "previous": "b0a33f46-98ce-11ea-8d02-0242ac120007"
      },
      {
       "current": "35c581ba-55a3-11e7-b0b2-00163e9c0e35",
       "next": "35c58340-55a3-11e7-b0b2-00163e9c0e35",
       "previous": "752d5d50-9a60-11ea-8d02-0242ac120007"
      },
      {
       "current": "35c581ba-55a3-11e7-b0b2-00163e9c0e35",
       "next": "35c58340-55a3-11e7-b0b2-00163e9c0e35",
       "previous": "e61b1904-9a5f-11ea-8d02-0242ac120007"
      },
      {
       "current": "35c581ba-55a3-11e7-b0b2-00163e9c0e35",
       "next": "35c58340-55a3-11e7-b0b2-00163e9c0e35",
       "previous": "e61b1774-9a5f-11ea-8d02-0242ac120007"
      },
      {
       "current": "35c581ba-55a3-11e7-b0b2-00163e9c0e35-1-89bc",
       "next": "35c58340-55a3-11e7-b0b2-00163e9c0e35",
       "previous": "adc93ec4-9b1c-11ea-8d02-0242ac120007"
      },
      {
       "current": "35c581ba-55a3-11e7-b0b2-00163e9c0e35-2-89bc-f9d0",
       "next": "35c58340-55a3-11e7-b0b2-00163e9c0e35-1-38bc",
       "previous": "adc93ec4-9b1c-11ea-8d02-0242ac120007-1-9d17"
      },
      {
       "current": "35c581ba-55a3-11e7-b0b2-00163e9c0e35-2-89bc-f9d0",
       "next": "35c58340-55a3-11e7-b0b2-00163e9c0e35-2-38bc-8fc7",
       "previous": "adc93ec4-9b1c-11ea-8d02-0242ac120007-2-9d17-b208"
      },
      {
       "current": "35c581ba-55a3-11e7-b0b2-00163e9c0e35-2-89bc-f9d0",
       "next": "35c58340-55a3-11e7-b0b2-00163e9c0e35-2-38bc-8fc7",
       "previous": "cea0381c-6cad-11ee-89fa-0242ac120005"
      },
      {
       "current": "35c581ba-55a3-11e7-b0b2-00163e9c0e35-2-89bc-f9d0",
       "next": "35c58340-55a3-11e7-b0b2-00163e9c0e35-2-38bc-8fc7",
       "previous": "cea037a4-6cad-11ee-89fa-0242ac120005"
      },
      {
       "current": "35c581ba-55a3-11e7-b0b2-00163e9c0e35-2-89bc-f9d0",
       "next": "35c58340-55a3-11e7-b0b2-00163e9c0e35-2-38bc-8fc7",
       "previous": "1cc14c3a-7211-11ee-89fa-0242ac120005-1-22c6"
      },
      {
       "current": "35c581ba-55a3-11e7-b0b2-00163e9c0e35-2-89bc-f9d0",
       "next": "35c58340-55a3-11e7-b0b2-00163e9c0e35-2-38bc-8fc7",
       "previous": "abccd26e-7211-11ee-89fa-0242ac120005-1-49d0"
      },
      {
       "current": "35c581ba-55a3-11e7-b0b2-00163e9c0e35-2-89bc-f9d0",
       "next": "35c58340-55a3-11e7-b0b2-00163e9c0e35-2-38bc-8fc7",
       "previous": "39bc9190-81e4-11ee-91d3-0242ac120006-1-3d03"
      },
      {
       "current": "35c581ba-55a3-11e7-b0b2-00163e9c0e35-2-89bc-f9d0",
       "next": "35c58340-55a3-11e7-b0b2-00163e9c0e35-2-38bc-8fc7",
       "previous": "79af7266-81fa-11ee-91d3-0242ac120006"
      },
      {
       "current": "35c581ba-55a3-11e7-b0b2-00163e9c0e35-2-89bc-f9d0",
       "next": "35c58340-55a3-11e7-b0b2-00163e9c0e35-2-38bc-8fc7",
       "previous": "4dbe5b1e-8203-11ee-91d3-0242ac120006"
      },
      {
       "current": "35c581ba-55a3-11e7-b0b2-00163e9c0e35-2-89bc-f9d0",
       "next": "35c58340-55a3-11e7-b0b2-00163e9c0e35-2-38bc-8fc7",
       "previous": "fae6d004-8204-11ee-91d3-0242ac120006"
      },
      {
       "current": "35c581ba-55a3-11e7-b0b2-00163e9c0e35-2-89bc-f9d0",
       "next": "35c58340-55a3-11e7-b0b2-00163e9c0e35-2-38bc-8fc7",
       "previous": "8a7d015c-8205-11ee-91d3-0242ac120006"
      },
      {
       "current": "35c581ba-55a3-11e7-b0b2-00163e9c0e35-3-89bc-f9d0-6fda",
       "next": "35c58340-55a3-11e7-b0b2-00163e9c0e35-2-38bc-8fc7",
       "previous": "c26b7544-81fb-11ee-91d3-0242ac120006-1-767b"
      },
      {
       "current": "35c581ba-55a3-11e7-b0b2-00163e9c0e35-3-89bc-f9d0-6fda",
       "next": "35c58340-55a3-11e7-b0b2-00163e9c0e35-3-38bc-8fc7-6452",
       "previous": "c26b7544-81fb-11ee-91d3-0242ac120006-2-767b-2d8e"
      },
      {
       "current": "35c581ba-55a3-11e7-b0b2-00163e9c0e35-4-89bc-f9d0-6fda-4bde",
       "next": "35c58340-55a3-11e7-b0b2-00163e9c0e35-3-38bc-8fc7-6452",
       "previous": "f656b96a-a558-11ee-91d3-0242ac120006"
      },
      {
       "current": "35c581ba-55a3-11e7-b0b2-00163e9c0e35-5-89bc-f9d0-6fda-4bde-1515",
       "next": "35c58340-55a3-11e7-b0b2-00163e9c0e35-4-38bc-8fc7-6452-b3fb",
       "previous": "f656b96a-a558-11ee-91d3-0242ac120006-1-e5e0"
      },
      {
       "current": "35c581ba-55a3-11e7-b0b2-00163e9c0e35-6-89bc-f9d0-6fda-4bde-1515-77e7",
       "next": "35c58340-55a3-11e7-b0b2-00163e9c0e35-5-38bc-8fc7-6452-b3fb-f830",
       "previous": "f656b96a-a558-11ee-91d3-0242ac120006-2-e5e0-38f0"
      },
      {
       "current": "35c581ba-55a3-11e7-b0b2-00163e9c0e35-7-89bc-f9d0-6fda-4bde-1515-77e7-8ec0",
       "next": "35c58340-55a3-11e7-b0b2-00163e9c0e35-6-38bc-8fc7-6452-b3fb-f830-3af3",
       "previous": "f656b96a-a558-11ee-91d3-0242ac120006-3-e5e0-38f0-5692"
      }
     ],
     "next": "35c58340-55a3-11e7-b0b2-00163e9c0e35-7-38bc-8fc7-6452-b3fb-f830-3af3-92d3",
     "previous": "f656b96a-a558-11ee-91d3-0242ac120006-4-e5e0-38f0-5692-b36f"
    }
   },
   "source": [
    "# 後始末\n",
    "\n",
    "一時ディレクトリを削除する。"
   ]
  },
  {
   "cell_type": "code",
   "execution_count": null,
   "metadata": {
    "ExecuteTime": {
     "end_time": "2017-06-29T08:01:20.617274Z",
     "start_time": "2017-06-29T08:01:20.466671Z"
    },
    "lc_cell_meme": {
     "current": "35c58340-55a3-11e7-b0b2-00163e9c0e35-7-38bc-8fc7-6452-b3fb-f830-3af3-92d3",
     "history": [
      {
       "current": "35c58340-55a3-11e7-b0b2-00163e9c0e35",
       "next": null,
       "previous": "35c581ba-55a3-11e7-b0b2-00163e9c0e35"
      },
      {
       "current": "35c58340-55a3-11e7-b0b2-00163e9c0e35-1-38bc",
       "next": "c4bd8ce4-5749-11e7-b0b2-00163e9c0e35",
       "previous": "35c581ba-55a3-11e7-b0b2-00163e9c0e35"
      },
      {
       "current": "35c58340-55a3-11e7-b0b2-00163e9c0e35-2-38bc-8fc7",
       "next": "c4bd8ce4-5749-11e7-b0b2-00163e9c0e35-1-e01c",
       "previous": "35c581ba-55a3-11e7-b0b2-00163e9c0e35-1-89bc"
      },
      {
       "current": "35c58340-55a3-11e7-b0b2-00163e9c0e35-3-38bc-8fc7-6452",
       "next": "c4bd8ce4-5749-11e7-b0b2-00163e9c0e35-2-e01c-d763",
       "previous": "35c581ba-55a3-11e7-b0b2-00163e9c0e35-2-89bc-f9d0"
      },
      {
       "current": "35c58340-55a3-11e7-b0b2-00163e9c0e35-4-38bc-8fc7-6452-b3fb",
       "next": "c4bd8ce4-5749-11e7-b0b2-00163e9c0e35-3-e01c-d763-ea47",
       "previous": "35c581ba-55a3-11e7-b0b2-00163e9c0e35-3-89bc-f9d0-6fda"
      },
      {
       "current": "35c58340-55a3-11e7-b0b2-00163e9c0e35-5-38bc-8fc7-6452-b3fb-f830",
       "next": "c4bd8ce4-5749-11e7-b0b2-00163e9c0e35-4-e01c-d763-ea47-5866",
       "previous": "35c581ba-55a3-11e7-b0b2-00163e9c0e35-4-89bc-f9d0-6fda-4bde"
      },
      {
       "current": "35c58340-55a3-11e7-b0b2-00163e9c0e35-6-38bc-8fc7-6452-b3fb-f830-3af3",
       "next": "c4bd8ce4-5749-11e7-b0b2-00163e9c0e35-5-e01c-d763-ea47-5866-eeed",
       "previous": "35c581ba-55a3-11e7-b0b2-00163e9c0e35-5-89bc-f9d0-6fda-4bde-1515"
      },
      {
       "current": "35c58340-55a3-11e7-b0b2-00163e9c0e35-7-38bc-8fc7-6452-b3fb-f830-3af3-92d3",
       "next": "c4bd8ce4-5749-11e7-b0b2-00163e9c0e35-6-e01c-d763-ea47-5866-eeed-d931",
       "previous": "35c581ba-55a3-11e7-b0b2-00163e9c0e35-6-89bc-f9d0-6fda-4bde-1515-77e7"
      }
     ],
     "next": "c4bd8ce4-5749-11e7-b0b2-00163e9c0e35-7-e01c-d763-ea47-5866-eeed-d931-4658",
     "previous": "35c581ba-55a3-11e7-b0b2-00163e9c0e35-7-89bc-f9d0-6fda-4bde-1515-77e7-8ec0"
    }
   },
   "outputs": [],
   "source": [
    "!rm -fr $temp_dir"
   ]
  },
  {
   "cell_type": "code",
   "execution_count": null,
   "metadata": {
    "lc_cell_meme": {
     "current": "c4bd8ce4-5749-11e7-b0b2-00163e9c0e35-7-e01c-d763-ea47-5866-eeed-d931-4658",
     "history": [
      {
       "current": "c4bd8ce4-5749-11e7-b0b2-00163e9c0e35-1-e01c",
       "next": null,
       "previous": "35c58340-55a3-11e7-b0b2-00163e9c0e35"
      },
      {
       "current": "c4bd8ce4-5749-11e7-b0b2-00163e9c0e35-2-e01c-d763",
       "next": null,
       "previous": "35c58340-55a3-11e7-b0b2-00163e9c0e35-1-38bc"
      },
      {
       "current": "c4bd8ce4-5749-11e7-b0b2-00163e9c0e35-3-e01c-d763-ea47",
       "next": null,
       "previous": "35c58340-55a3-11e7-b0b2-00163e9c0e35-2-38bc-8fc7"
      },
      {
       "current": "c4bd8ce4-5749-11e7-b0b2-00163e9c0e35-4-e01c-d763-ea47-5866",
       "next": null,
       "previous": "35c58340-55a3-11e7-b0b2-00163e9c0e35-3-38bc-8fc7-6452"
      },
      {
       "current": "c4bd8ce4-5749-11e7-b0b2-00163e9c0e35-5-e01c-d763-ea47-5866-eeed",
       "next": null,
       "previous": "35c58340-55a3-11e7-b0b2-00163e9c0e35-4-38bc-8fc7-6452-b3fb"
      },
      {
       "current": "c4bd8ce4-5749-11e7-b0b2-00163e9c0e35-6-e01c-d763-ea47-5866-eeed-d931",
       "next": null,
       "previous": "35c58340-55a3-11e7-b0b2-00163e9c0e35-5-38bc-8fc7-6452-b3fb-f830"
      },
      {
       "current": "c4bd8ce4-5749-11e7-b0b2-00163e9c0e35-7-e01c-d763-ea47-5866-eeed-d931-4658",
       "next": null,
       "previous": "35c58340-55a3-11e7-b0b2-00163e9c0e35-6-38bc-8fc7-6452-b3fb-f830-3af3"
      }
     ],
     "next": null,
     "previous": "35c58340-55a3-11e7-b0b2-00163e9c0e35-7-38bc-8fc7-6452-b3fb-f830-3af3-92d3"
    }
   },
   "outputs": [],
   "source": []
  }
 ],
 "metadata": {
  "kernelspec": {
   "display_name": "Python 3",
   "language": "python",
   "name": "python3"
  },
  "language_info": {
   "file_extension": ".py",
   "mimetype": "text/x-python",
   "name": "python",
   "nbconvert_exporter": "python",
   "pygments_lexer": "ipython3",
   "version": "3.10.4"
  },
  "lc_notebook_meme": {
   "current": "35c33086-55a3-11e7-b0b2-00163e9c0e35"
  },
  "toc": {
   "base_numbering": 1,
   "nav_menu": {
    "height": "484px",
    "width": "687px"
   },
   "number_sections": true,
   "sideBar": true,
   "skip_h1_title": false,
   "title_cell": "Table of Contents",
   "title_sidebar": "Contents",
   "toc_cell": false,
   "toc_position": {
    "height": "1156px",
    "left": "51px",
    "right": "1330px",
    "top": "111.133px",
    "width": "255px"
   },
   "toc_section_display": true,
   "toc_window_display": true
  }
 },
 "nbformat": 4,
 "nbformat_minor": 1
}
