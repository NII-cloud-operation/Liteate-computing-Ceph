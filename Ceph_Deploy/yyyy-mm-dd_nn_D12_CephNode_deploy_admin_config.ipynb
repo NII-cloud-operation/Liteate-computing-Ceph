{
 "cells": [
  {
   "cell_type": "markdown",
   "metadata": {
    "collapsed": true,
    "lc_cell_meme": {
     "current": "35c33414-55a3-11e7-b0b2-00163e9c0e35-8-ffee-ac17-9684-89d6-5736-e71b-ba3e-61d9",
     "history": [
      {
       "current": "35c33414-55a3-11e7-b0b2-00163e9c0e35",
       "next": "35c33626-55a3-11e7-b0b2-00163e9c0e35",
       "previous": null
      },
      {
       "current": "35c33414-55a3-11e7-b0b2-00163e9c0e35",
       "next": "35c33626-55a3-11e7-b0b2-00163e9c0e35",
       "previous": null
      },
      {
       "current": "35c33414-55a3-11e7-b0b2-00163e9c0e35",
       "next": "35c33626-55a3-11e7-b0b2-00163e9c0e35",
       "previous": "0db87670-9586-11ea-8d02-0242ac120007"
      },
      {
       "current": "35c33414-55a3-11e7-b0b2-00163e9c0e35-1-ffee",
       "next": "35c337f2-55a3-11e7-b0b2-00163e9c0e35",
       "previous": null
      },
      {
       "current": "35c33414-55a3-11e7-b0b2-00163e9c0e35-2-ffee-ac17",
       "next": "35c337f2-55a3-11e7-b0b2-00163e9c0e35-1-b874",
       "previous": null
      },
      {
       "current": "35c33414-55a3-11e7-b0b2-00163e9c0e35-3-ffee-ac17-9684",
       "next": "35c337f2-55a3-11e7-b0b2-00163e9c0e35-2-b874-13f7",
       "previous": null
      },
      {
       "current": "35c33414-55a3-11e7-b0b2-00163e9c0e35-3-ffee-ac17-9684",
       "next": "35c337f2-55a3-11e7-b0b2-00163e9c0e35-3-b874-13f7-3f47",
       "previous": null
      },
      {
       "current": "35c33414-55a3-11e7-b0b2-00163e9c0e35-4-ffee-ac17-9684-89d6",
       "next": "35c339aa-55a3-11e7-b0b2-00163e9c0e35-3-eee2-af6c-3cfe",
       "previous": null
      },
      {
       "current": "35c33414-55a3-11e7-b0b2-00163e9c0e35-5-ffee-ac17-9684-89d6-5736",
       "next": "35c339aa-55a3-11e7-b0b2-00163e9c0e35-4-eee2-af6c-3cfe-2cef",
       "previous": null
      },
      {
       "current": "35c33414-55a3-11e7-b0b2-00163e9c0e35-6-ffee-ac17-9684-89d6-5736-e71b",
       "next": "35c339aa-55a3-11e7-b0b2-00163e9c0e35-5-eee2-af6c-3cfe-2cef-e096",
       "previous": null
      },
      {
       "current": "35c33414-55a3-11e7-b0b2-00163e9c0e35-7-ffee-ac17-9684-89d6-5736-e71b-ba3e",
       "next": "35c339aa-55a3-11e7-b0b2-00163e9c0e35-6-eee2-af6c-3cfe-2cef-e096-1440",
       "previous": null
      },
      {
       "current": "35c33414-55a3-11e7-b0b2-00163e9c0e35-8-ffee-ac17-9684-89d6-5736-e71b-ba3e-61d9",
       "next": "35c339aa-55a3-11e7-b0b2-00163e9c0e35-7-eee2-af6c-3cfe-2cef-e096-1440-6619",
       "previous": null
      }
     ],
     "next": "35c339aa-55a3-11e7-b0b2-00163e9c0e35-8-eee2-af6c-3cfe-2cef-e096-1440-6619-53ec",
     "previous": null
    }
   },
   "source": [
    "# Cephノード構築：cephadm configファイル配置\n",
    "ovs-cetlが参照する、ceph.confとadmin keyringファイルをすべてのノードに配置する<br>\n"
   ]
  },
  {
   "cell_type": "markdown",
   "metadata": {
    "lc_cell_meme": {
     "current": "35c339aa-55a3-11e7-b0b2-00163e9c0e35-8-eee2-af6c-3cfe-2cef-e096-1440-6619-53ec",
     "history": [
      {
       "current": "35c339aa-55a3-11e7-b0b2-00163e9c0e35",
       "next": "35c33b6c-55a3-11e7-b0b2-00163e9c0e35",
       "previous": "35c337f2-55a3-11e7-b0b2-00163e9c0e35"
      },
      {
       "current": "35c339aa-55a3-11e7-b0b2-00163e9c0e35",
       "next": "670888aa-5722-11e7-b0b2-00163e9c0e35",
       "previous": "35c337f2-55a3-11e7-b0b2-00163e9c0e35"
      },
      {
       "current": "35c339aa-55a3-11e7-b0b2-00163e9c0e35",
       "next": "670888aa-5722-11e7-b0b2-00163e9c0e35",
       "previous": "357fc83a-969d-11ea-8d02-0242ac120007"
      },
      {
       "current": "35c339aa-55a3-11e7-b0b2-00163e9c0e35-1-eee2",
       "next": "670888aa-5722-11e7-b0b2-00163e9c0e35",
       "previous": "8a48dae0-98a1-11ea-8d02-0242ac120007"
      },
      {
       "current": "35c339aa-55a3-11e7-b0b2-00163e9c0e35-2-eee2-af6c",
       "next": "670888aa-5722-11e7-b0b2-00163e9c0e35-1-17ba",
       "previous": "8a48dae0-98a1-11ea-8d02-0242ac120007-1-4da2"
      },
      {
       "current": "35c339aa-55a3-11e7-b0b2-00163e9c0e35-2-eee2-af6c",
       "next": "670888aa-5722-11e7-b0b2-00163e9c0e35-2-17ba-53fc",
       "previous": "8a48dae0-98a1-11ea-8d02-0242ac120007-2-4da2-9c77"
      },
      {
       "current": "35c339aa-55a3-11e7-b0b2-00163e9c0e35-3-eee2-af6c-3cfe",
       "next": "670888aa-5722-11e7-b0b2-00163e9c0e35-2-17ba-53fc",
       "previous": "35c337f2-55a3-11e7-b0b2-00163e9c0e35-2-b874-13f7"
      },
      {
       "current": "35c339aa-55a3-11e7-b0b2-00163e9c0e35-3-eee2-af6c-3cfe",
       "next": "670888aa-5722-11e7-b0b2-00163e9c0e35-3-17ba-53fc-2957",
       "previous": "35c337f2-55a3-11e7-b0b2-00163e9c0e35-3-b874-13f7-3f47"
      },
      {
       "current": "35c339aa-55a3-11e7-b0b2-00163e9c0e35-4-eee2-af6c-3cfe-2cef",
       "next": "670888aa-5722-11e7-b0b2-00163e9c0e35-3-17ba-53fc-2957",
       "previous": "35c33414-55a3-11e7-b0b2-00163e9c0e35-3-ffee-ac17-9684"
      },
      {
       "current": "35c339aa-55a3-11e7-b0b2-00163e9c0e35-5-eee2-af6c-3cfe-2cef-e096",
       "next": "670888aa-5722-11e7-b0b2-00163e9c0e35-4-17ba-53fc-2957-7678",
       "previous": "35c33414-55a3-11e7-b0b2-00163e9c0e35-4-ffee-ac17-9684-89d6"
      },
      {
       "current": "35c339aa-55a3-11e7-b0b2-00163e9c0e35-6-eee2-af6c-3cfe-2cef-e096-1440",
       "next": "670888aa-5722-11e7-b0b2-00163e9c0e35-5-17ba-53fc-2957-7678-c831",
       "previous": "35c33414-55a3-11e7-b0b2-00163e9c0e35-5-ffee-ac17-9684-89d6-5736"
      },
      {
       "current": "35c339aa-55a3-11e7-b0b2-00163e9c0e35-7-eee2-af6c-3cfe-2cef-e096-1440-6619",
       "next": "670888aa-5722-11e7-b0b2-00163e9c0e35-6-17ba-53fc-2957-7678-c831-ddb6",
       "previous": "35c33414-55a3-11e7-b0b2-00163e9c0e35-6-ffee-ac17-9684-89d6-5736-e71b"
      },
      {
       "current": "35c339aa-55a3-11e7-b0b2-00163e9c0e35-8-eee2-af6c-3cfe-2cef-e096-1440-6619-53ec",
       "next": "670888aa-5722-11e7-b0b2-00163e9c0e35-7-17ba-53fc-2957-7678-c831-ddb6-1365",
       "previous": "35c33414-55a3-11e7-b0b2-00163e9c0e35-7-ffee-ac17-9684-89d6-5736-e71b-ba3e"
      }
     ],
     "next": "670888aa-5722-11e7-b0b2-00163e9c0e35-8-17ba-53fc-2957-7678-c831-ddb6-1365-66bd",
     "previous": "35c33414-55a3-11e7-b0b2-00163e9c0e35-8-ffee-ac17-9684-89d6-5736-e71b-ba3e-61d9"
    }
   },
   "source": [
    "# パラメータ定義"
   ]
  },
  {
   "cell_type": "markdown",
   "metadata": {
    "lc_cell_meme": {
     "current": "670888aa-5722-11e7-b0b2-00163e9c0e35-8-17ba-53fc-2957-7678-c831-ddb6-1365-66bd",
     "history": [
      {
       "current": "670888aa-5722-11e7-b0b2-00163e9c0e35-1-17ba",
       "next": "35c33b6c-55a3-11e7-b0b2-00163e9c0e35",
       "previous": "35c339aa-55a3-11e7-b0b2-00163e9c0e35"
      },
      {
       "current": "670888aa-5722-11e7-b0b2-00163e9c0e35-2-17ba-53fc",
       "next": "35c33b6c-55a3-11e7-b0b2-00163e9c0e35-1-c84d",
       "previous": "35c339aa-55a3-11e7-b0b2-00163e9c0e35-1-eee2"
      },
      {
       "current": "670888aa-5722-11e7-b0b2-00163e9c0e35-3-17ba-53fc-2957",
       "next": "35c33b6c-55a3-11e7-b0b2-00163e9c0e35-2-c84d-3439",
       "previous": "35c339aa-55a3-11e7-b0b2-00163e9c0e35-2-eee2-af6c"
      },
      {
       "current": "670888aa-5722-11e7-b0b2-00163e9c0e35-4-17ba-53fc-2957-7678",
       "next": "35c33b6c-55a3-11e7-b0b2-00163e9c0e35-3-c84d-3439-eddb",
       "previous": "35c339aa-55a3-11e7-b0b2-00163e9c0e35-3-eee2-af6c-3cfe"
      },
      {
       "current": "670888aa-5722-11e7-b0b2-00163e9c0e35-5-17ba-53fc-2957-7678-c831",
       "next": "35c33b6c-55a3-11e7-b0b2-00163e9c0e35-4-c84d-3439-eddb-0d78",
       "previous": "35c339aa-55a3-11e7-b0b2-00163e9c0e35-4-eee2-af6c-3cfe-2cef"
      },
      {
       "current": "670888aa-5722-11e7-b0b2-00163e9c0e35-6-17ba-53fc-2957-7678-c831-ddb6",
       "next": "35c33b6c-55a3-11e7-b0b2-00163e9c0e35-5-c84d-3439-eddb-0d78-1dfc",
       "previous": "35c339aa-55a3-11e7-b0b2-00163e9c0e35-5-eee2-af6c-3cfe-2cef-e096"
      },
      {
       "current": "670888aa-5722-11e7-b0b2-00163e9c0e35-7-17ba-53fc-2957-7678-c831-ddb6-1365",
       "next": "35c33b6c-55a3-11e7-b0b2-00163e9c0e35-6-c84d-3439-eddb-0d78-1dfc-6f74",
       "previous": "35c339aa-55a3-11e7-b0b2-00163e9c0e35-6-eee2-af6c-3cfe-2cef-e096-1440"
      },
      {
       "current": "670888aa-5722-11e7-b0b2-00163e9c0e35-8-17ba-53fc-2957-7678-c831-ddb6-1365-66bd",
       "next": "35c33b6c-55a3-11e7-b0b2-00163e9c0e35-7-c84d-3439-eddb-0d78-1dfc-6f74-a39b",
       "previous": "35c339aa-55a3-11e7-b0b2-00163e9c0e35-7-eee2-af6c-3cfe-2cef-e096-1440-6619"
      }
     ],
     "next": "35c33b6c-55a3-11e7-b0b2-00163e9c0e35-8-c84d-3439-eddb-0d78-1dfc-6f74-a39b-a10a",
     "previous": "35c339aa-55a3-11e7-b0b2-00163e9c0e35-8-eee2-af6c-3cfe-2cef-e096-1440-6619-53ec"
    }
   },
   "source": [
    "## パラメータファイル設定"
   ]
  },
  {
   "cell_type": "markdown",
   "metadata": {
    "lc_cell_meme": {
     "current": "35c33b6c-55a3-11e7-b0b2-00163e9c0e35-8-c84d-3439-eddb-0d78-1dfc-6f74-a39b-a10a",
     "history": [
      {
       "current": "35c33b6c-55a3-11e7-b0b2-00163e9c0e35",
       "next": "35c33d24-55a3-11e7-b0b2-00163e9c0e35",
       "previous": "35c339aa-55a3-11e7-b0b2-00163e9c0e35"
      },
      {
       "current": "35c33b6c-55a3-11e7-b0b2-00163e9c0e35-1-c84d",
       "next": "35c33d24-55a3-11e7-b0b2-00163e9c0e35",
       "previous": "670888aa-5722-11e7-b0b2-00163e9c0e35"
      },
      {
       "current": "35c33b6c-55a3-11e7-b0b2-00163e9c0e35-2-c84d-3439",
       "next": "35c33d24-55a3-11e7-b0b2-00163e9c0e35-1-c8d8",
       "previous": "670888aa-5722-11e7-b0b2-00163e9c0e35-1-17ba"
      },
      {
       "current": "35c33b6c-55a3-11e7-b0b2-00163e9c0e35-3-c84d-3439-eddb",
       "next": "35c33d24-55a3-11e7-b0b2-00163e9c0e35-2-c8d8-c063",
       "previous": "670888aa-5722-11e7-b0b2-00163e9c0e35-2-17ba-53fc"
      },
      {
       "current": "35c33b6c-55a3-11e7-b0b2-00163e9c0e35-4-c84d-3439-eddb-0d78",
       "next": "35c33d24-55a3-11e7-b0b2-00163e9c0e35-3-c8d8-c063-e3d4",
       "previous": "670888aa-5722-11e7-b0b2-00163e9c0e35-3-17ba-53fc-2957"
      },
      {
       "current": "35c33b6c-55a3-11e7-b0b2-00163e9c0e35-5-c84d-3439-eddb-0d78-1dfc",
       "next": "35c33d24-55a3-11e7-b0b2-00163e9c0e35-4-c8d8-c063-e3d4-4917",
       "previous": "670888aa-5722-11e7-b0b2-00163e9c0e35-4-17ba-53fc-2957-7678"
      },
      {
       "current": "35c33b6c-55a3-11e7-b0b2-00163e9c0e35-6-c84d-3439-eddb-0d78-1dfc-6f74",
       "next": "35c33d24-55a3-11e7-b0b2-00163e9c0e35-5-c8d8-c063-e3d4-4917-776e",
       "previous": "670888aa-5722-11e7-b0b2-00163e9c0e35-5-17ba-53fc-2957-7678-c831"
      },
      {
       "current": "35c33b6c-55a3-11e7-b0b2-00163e9c0e35-7-c84d-3439-eddb-0d78-1dfc-6f74-a39b",
       "next": "0bc498ba-1d83-11ef-ad2f-0242ac120005",
       "previous": "670888aa-5722-11e7-b0b2-00163e9c0e35-6-17ba-53fc-2957-7678-c831-ddb6"
      },
      {
       "current": "35c33b6c-55a3-11e7-b0b2-00163e9c0e35-8-c84d-3439-eddb-0d78-1dfc-6f74-a39b-a10a",
       "next": "0bc498ba-1d83-11ef-ad2f-0242ac120005-1-f5e0",
       "previous": "670888aa-5722-11e7-b0b2-00163e9c0e35-7-17ba-53fc-2957-7678-c831-ddb6-1365"
      }
     ],
     "next": "0bc498ba-1d83-11ef-ad2f-0242ac120005-2-f5e0-cf43",
     "previous": "670888aa-5722-11e7-b0b2-00163e9c0e35-8-17ba-53fc-2957-7678-c831-ddb6-1365-66bd"
    }
   },
   "source": [
    "Cephクラスタの定義ファイルを指定するため、<br>\n",
    "パラメータ定義格納ディレクトリを表示する。"
   ]
  },
  {
   "cell_type": "code",
   "execution_count": null,
   "metadata": {
    "lc_cell_meme": {
     "current": "0bc498ba-1d83-11ef-ad2f-0242ac120005-2-f5e0-cf43",
     "history": [
      {
       "current": "0bc498ba-1d83-11ef-ad2f-0242ac120005-1-f5e0",
       "next": "0bc499dc-1d83-11ef-ad2f-0242ac120005",
       "previous": "35c33b6c-55a3-11e7-b0b2-00163e9c0e35-6-c84d-3439-eddb-0d78-1dfc-6f74"
      },
      {
       "current": "0bc498ba-1d83-11ef-ad2f-0242ac120005-2-f5e0-cf43",
       "next": "0bc499dc-1d83-11ef-ad2f-0242ac120005-1-39f4",
       "previous": "35c33b6c-55a3-11e7-b0b2-00163e9c0e35-7-c84d-3439-eddb-0d78-1dfc-6f74-a39b"
      }
     ],
     "next": "0bc499dc-1d83-11ef-ad2f-0242ac120005-2-39f4-dd4f",
     "previous": "35c33b6c-55a3-11e7-b0b2-00163e9c0e35-8-c84d-3439-eddb-0d78-1dfc-6f74-a39b-a10a"
    }
   },
   "outputs": [],
   "source": [
    "!ls -p ~/notebooks/share/ | grep \"/$\""
   ]
  },
  {
   "cell_type": "code",
   "execution_count": null,
   "metadata": {
    "lc_cell_meme": {
     "current": "0bc499dc-1d83-11ef-ad2f-0242ac120005-2-39f4-dd4f",
     "history": [
      {
       "current": "0bc499dc-1d83-11ef-ad2f-0242ac120005-1-39f4",
       "next": "0bc49a0e-1d83-11ef-ad2f-0242ac120005",
       "previous": "0bc498ba-1d83-11ef-ad2f-0242ac120005"
      },
      {
       "current": "0bc499dc-1d83-11ef-ad2f-0242ac120005-2-39f4-dd4f",
       "next": "0bc49a0e-1d83-11ef-ad2f-0242ac120005-1-3993",
       "previous": "0bc498ba-1d83-11ef-ad2f-0242ac120005-1-f5e0"
      }
     ],
     "next": "0bc49a0e-1d83-11ef-ad2f-0242ac120005-2-3993-0b97",
     "previous": "0bc498ba-1d83-11ef-ad2f-0242ac120005-2-f5e0-cf43"
    }
   },
   "outputs": [],
   "source": [
    "!ls -p ~/notebooks/share/configuration"
   ]
  },
  {
   "cell_type": "code",
   "execution_count": null,
   "metadata": {
    "lc_cell_meme": {
     "current": "0bc49a0e-1d83-11ef-ad2f-0242ac120005-2-3993-0b97",
     "history": [
      {
       "current": "0bc49a0e-1d83-11ef-ad2f-0242ac120005-1-3993",
       "next": "0bc49a36-1d83-11ef-ad2f-0242ac120005",
       "previous": "0bc499dc-1d83-11ef-ad2f-0242ac120005"
      },
      {
       "current": "0bc49a0e-1d83-11ef-ad2f-0242ac120005-2-3993-0b97",
       "next": "0bc49a36-1d83-11ef-ad2f-0242ac120005-1-0248",
       "previous": "0bc499dc-1d83-11ef-ad2f-0242ac120005-1-39f4"
      }
     ],
     "next": "0bc49a36-1d83-11ef-ad2f-0242ac120005-2-0248-1722",
     "previous": "0bc499dc-1d83-11ef-ad2f-0242ac120005-2-39f4-dd4f"
    }
   },
   "outputs": [],
   "source": [
    "!ls -p ~/notebooks/share/configuration/ceph"
   ]
  },
  {
   "cell_type": "code",
   "execution_count": null,
   "metadata": {
    "lc_cell_meme": {
     "current": "0bc49a36-1d83-11ef-ad2f-0242ac120005-2-0248-1722",
     "history": [
      {
       "current": "0bc49a36-1d83-11ef-ad2f-0242ac120005-1-0248",
       "next": "0bc49a5e-1d83-11ef-ad2f-0242ac120005",
       "previous": "0bc49a0e-1d83-11ef-ad2f-0242ac120005"
      },
      {
       "current": "0bc49a36-1d83-11ef-ad2f-0242ac120005-2-0248-1722",
       "next": "0bc49a5e-1d83-11ef-ad2f-0242ac120005-1-c8d0",
       "previous": "0bc49a0e-1d83-11ef-ad2f-0242ac120005-1-3993"
      }
     ],
     "next": "0bc49a5e-1d83-11ef-ad2f-0242ac120005-2-c8d0-932b",
     "previous": "0bc49a0e-1d83-11ef-ad2f-0242ac120005-2-3993-0b97"
    }
   },
   "outputs": [],
   "source": [
    "import sys, os.path, importlib, json, yaml\n",
    "\n",
    "config_file_name = \"ceph_admin_vm.yml\"\n",
    "config_file_path = os.path.expanduser(\"~/notebooks/share/configuration/ceph/{}\".format(config_file_name))\n",
    "with open(config_file_path) as f:\n",
    "    admin_params = yaml.safe_load(f)\n",
    "admin_params"
   ]
  },
  {
   "cell_type": "code",
   "execution_count": null,
   "metadata": {
    "lc_cell_meme": {
     "current": "0bc49a5e-1d83-11ef-ad2f-0242ac120005-2-c8d0-932b",
     "history": [
      {
       "current": "0bc49a5e-1d83-11ef-ad2f-0242ac120005-1-c8d0",
       "next": "0bc49a7c-1d83-11ef-ad2f-0242ac120005",
       "previous": "0bc49a36-1d83-11ef-ad2f-0242ac120005"
      },
      {
       "current": "0bc49a5e-1d83-11ef-ad2f-0242ac120005-2-c8d0-932b",
       "next": "0bc49a7c-1d83-11ef-ad2f-0242ac120005-1-cbdd",
       "previous": "0bc49a36-1d83-11ef-ad2f-0242ac120005-1-0248"
      }
     ],
     "next": "0bc49a7c-1d83-11ef-ad2f-0242ac120005-2-cbdd-a39c",
     "previous": "0bc49a36-1d83-11ef-ad2f-0242ac120005-2-0248-1722"
    }
   },
   "outputs": [],
   "source": [
    "target_vm_name = 'xxx-ceph-admin1'\n",
    "admin_patam = admin_params[target_vm_name]\n",
    "admin_patam"
   ]
  },
  {
   "cell_type": "code",
   "execution_count": null,
   "metadata": {
    "lc_cell_meme": {
     "current": "0bc49a7c-1d83-11ef-ad2f-0242ac120005-2-cbdd-a39c",
     "history": [
      {
       "current": "0bc49a7c-1d83-11ef-ad2f-0242ac120005-1-cbdd",
       "next": "0bc49aa4-1d83-11ef-ad2f-0242ac120005",
       "previous": "0bc49a5e-1d83-11ef-ad2f-0242ac120005"
      },
      {
       "current": "0bc49a7c-1d83-11ef-ad2f-0242ac120005-2-cbdd-a39c",
       "next": "0bc49aa4-1d83-11ef-ad2f-0242ac120005-1-d45c",
       "previous": "0bc49a5e-1d83-11ef-ad2f-0242ac120005-1-c8d0"
      }
     ],
     "next": "0bc49aa4-1d83-11ef-ad2f-0242ac120005-2-d45c-05dd",
     "previous": "0bc49a5e-1d83-11ef-ad2f-0242ac120005-2-c8d0-932b"
    }
   },
   "outputs": [],
   "source": [
    "ceph_admin_ip = admin_patam['network']['provisioning']['ip']"
   ]
  },
  {
   "cell_type": "code",
   "execution_count": null,
   "metadata": {
    "lc_cell_meme": {
     "current": "0bc49aa4-1d83-11ef-ad2f-0242ac120005-2-d45c-05dd",
     "history": [
      {
       "current": "0bc49aa4-1d83-11ef-ad2f-0242ac120005-1-d45c",
       "next": "0bc49b44-1d83-11ef-ad2f-0242ac120005",
       "previous": "0bc49a7c-1d83-11ef-ad2f-0242ac120005"
      },
      {
       "current": "0bc49aa4-1d83-11ef-ad2f-0242ac120005-2-d45c-05dd",
       "next": "0bc49b44-1d83-11ef-ad2f-0242ac120005-1-48f7",
       "previous": "0bc49a7c-1d83-11ef-ad2f-0242ac120005-1-cbdd"
      }
     ],
     "next": "0bc49b44-1d83-11ef-ad2f-0242ac120005-2-48f7-f3d9",
     "previous": "0bc49a7c-1d83-11ef-ad2f-0242ac120005-2-cbdd-a39c"
    }
   },
   "outputs": [],
   "source": [
    "import sys, os.path, importlib, json, yaml\n",
    "\n",
    "config_file_name = \"xxx-openstack-parameter.yml\"\n",
    "config_file_path = os.path.expanduser(\"~/notebooks/share/configuration/{}\".format(config_file_name))\n",
    "with open(config_file_path) as f:\n",
    "    params = yaml.safe_load(f)\n",
    "params"
   ]
  },
  {
   "cell_type": "code",
   "execution_count": null,
   "metadata": {
    "lc_cell_meme": {
     "current": "0bc49b44-1d83-11ef-ad2f-0242ac120005-2-48f7-f3d9",
     "history": [
      {
       "current": "0bc49b44-1d83-11ef-ad2f-0242ac120005-1-48f7",
       "next": "0bc49b6c-1d83-11ef-ad2f-0242ac120005",
       "previous": "0bc49aa4-1d83-11ef-ad2f-0242ac120005"
      },
      {
       "current": "0bc49b44-1d83-11ef-ad2f-0242ac120005-2-48f7-f3d9",
       "next": "0bc49b6c-1d83-11ef-ad2f-0242ac120005-1-725f",
       "previous": "0bc49aa4-1d83-11ef-ad2f-0242ac120005-1-d45c"
      }
     ],
     "next": "0bc49b6c-1d83-11ef-ad2f-0242ac120005-2-725f-2667",
     "previous": "0bc49aa4-1d83-11ef-ad2f-0242ac120005-2-d45c-05dd"
    }
   },
   "outputs": [],
   "source": [
    "repo_server = params['repository']['addresses']['service_operation']\n",
    "repo_server"
   ]
  },
  {
   "cell_type": "code",
   "execution_count": null,
   "metadata": {
    "lc_cell_meme": {
     "current": "0bc49b6c-1d83-11ef-ad2f-0242ac120005-2-725f-2667",
     "history": [
      {
       "current": "0bc49b6c-1d83-11ef-ad2f-0242ac120005-1-725f",
       "next": "0bc49b94-1d83-11ef-ad2f-0242ac120005",
       "previous": "0bc49b44-1d83-11ef-ad2f-0242ac120005"
      },
      {
       "current": "0bc49b6c-1d83-11ef-ad2f-0242ac120005-2-725f-2667",
       "next": "0bc49b94-1d83-11ef-ad2f-0242ac120005-1-152d",
       "previous": "0bc49b44-1d83-11ef-ad2f-0242ac120005-1-48f7"
      }
     ],
     "next": "0bc49b94-1d83-11ef-ad2f-0242ac120005-2-152d-b663",
     "previous": "0bc49b44-1d83-11ef-ad2f-0242ac120005-2-48f7-f3d9"
    }
   },
   "outputs": [],
   "source": [
    "provisioning_vip = params['openstack']['provisioning_vip']\n",
    "provisioning_vip"
   ]
  },
  {
   "cell_type": "code",
   "execution_count": null,
   "metadata": {
    "lc_cell_meme": {
     "current": "0bc49b94-1d83-11ef-ad2f-0242ac120005-2-152d-b663",
     "history": [
      {
       "current": "0bc49b94-1d83-11ef-ad2f-0242ac120005",
       "next": "0bc49bbc-1d83-11ef-ad2f-0242ac120005",
       "previous": "0bc49b6c-1d83-11ef-ad2f-0242ac120005"
      },
      {
       "current": "0bc49b94-1d83-11ef-ad2f-0242ac120005-1-152d",
       "next": "bf249b06-98af-11ea-8d02-0242ac120007-6-1e49-e772-9042-e3f9-5df5-b98e",
       "previous": "0bc49b6c-1d83-11ef-ad2f-0242ac120005"
      },
      {
       "current": "0bc49b94-1d83-11ef-ad2f-0242ac120005-2-152d-b663",
       "next": "bf249b06-98af-11ea-8d02-0242ac120007-7-1e49-e772-9042-e3f9-5df5-b98e-e938",
       "previous": "0bc49b6c-1d83-11ef-ad2f-0242ac120005-1-725f"
      }
     ],
     "next": "bf249b06-98af-11ea-8d02-0242ac120007-8-1e49-e772-9042-e3f9-5df5-b98e-e938-2ad3",
     "previous": "0bc49b6c-1d83-11ef-ad2f-0242ac120005-2-725f-2667"
    }
   },
   "outputs": [],
   "source": [
    "network_segment_controller_vip = params['network_segment_controller_vip']\n",
    "network_segment_controller_vip"
   ]
  },
  {
   "cell_type": "markdown",
   "metadata": {
    "lc_cell_meme": {
     "current": "bf249b06-98af-11ea-8d02-0242ac120007-8-1e49-e772-9042-e3f9-5df5-b98e-e938-2ad3",
     "history": [
      {
       "current": "bf249b06-98af-11ea-8d02-0242ac120007",
       "next": "d1bcb8ac-9599-11ea-8d02-0242ac120007",
       "previous": "7dae8996-9686-11ea-8d02-0242ac120007"
      },
      {
       "current": "bf249b06-98af-11ea-8d02-0242ac120007-1-1e49",
       "next": "dd8e3cbc-98f2-11ea-8d02-0242ac120007",
       "previous": "7dae8996-9686-11ea-8d02-0242ac120007"
      },
      {
       "current": "bf249b06-98af-11ea-8d02-0242ac120007-2-1e49-e772",
       "next": "dd8e3cbc-98f2-11ea-8d02-0242ac120007-1-706a",
       "previous": "7dae8996-9686-11ea-8d02-0242ac120007-1-20c5"
      },
      {
       "current": "bf249b06-98af-11ea-8d02-0242ac120007-2-1e49-e772",
       "next": "dd8e3cbc-98f2-11ea-8d02-0242ac120007-2-706a-309d",
       "previous": "7dae8996-9686-11ea-8d02-0242ac120007-2-20c5-a0b0"
      },
      {
       "current": "bf249b06-98af-11ea-8d02-0242ac120007-2-1e49-e772",
       "next": "dd8e3cbc-98f2-11ea-8d02-0242ac120007-2-706a-309d",
       "previous": "1afe76e2-def8-11eb-b29f-0242ac120008"
      },
      {
       "current": "bf249b06-98af-11ea-8d02-0242ac120007-2-1e49-e772",
       "next": "d1bcb8ac-9599-11ea-8d02-0242ac120007-2-ec95-2870",
       "previous": "1afe76e2-def8-11eb-b29f-0242ac120008"
      },
      {
       "current": "bf249b06-98af-11ea-8d02-0242ac120007-2-1e49-e772",
       "next": "d1bcb8ac-9599-11ea-8d02-0242ac120007-2-ec95-2870",
       "previous": "445f36bc-def7-11eb-b29f-0242ac120008"
      },
      {
       "current": "bf249b06-98af-11ea-8d02-0242ac120007-3-1e49-e772-9042",
       "next": "d1bcb8ac-9599-11ea-8d02-0242ac120007-2-ec95-2870",
       "previous": "17dd310e-deff-11eb-b29f-0242ac120008"
      },
      {
       "current": "bf249b06-98af-11ea-8d02-0242ac120007-4-1e49-e772-9042-e3f9",
       "next": "d1bcb8ac-9599-11ea-8d02-0242ac120007-3-ec95-2870-3f6b",
       "previous": "17dd310e-deff-11eb-b29f-0242ac120008-1-9f34"
      },
      {
       "current": "bf249b06-98af-11ea-8d02-0242ac120007-5-1e49-e772-9042-e3f9-5df5",
       "next": "d1bcb8ac-9599-11ea-8d02-0242ac120007-4-ec95-2870-3f6b-b64a",
       "previous": "17dd310e-deff-11eb-b29f-0242ac120008-2-9f34-27d8"
      },
      {
       "current": "bf249b06-98af-11ea-8d02-0242ac120007-6-1e49-e772-9042-e3f9-5df5-b98e",
       "next": "d1bcb8ac-9599-11ea-8d02-0242ac120007-5-ec95-2870-3f6b-b64a-62b3",
       "previous": "17dd310e-deff-11eb-b29f-0242ac120008-3-9f34-27d8-2fb1"
      },
      {
       "current": "bf249b06-98af-11ea-8d02-0242ac120007-6-1e49-e772-9042-e3f9-5df5-b98e",
       "next": "d1bcb8ac-9599-11ea-8d02-0242ac120007-6-ec95-2870-3f6b-b64a-62b3-976b",
       "previous": "17dd310e-deff-11eb-b29f-0242ac120008-4-9f34-27d8-2fb1-911b"
      },
      {
       "current": "bf249b06-98af-11ea-8d02-0242ac120007-7-1e49-e772-9042-e3f9-5df5-b98e-e938",
       "next": "d1bcb8ac-9599-11ea-8d02-0242ac120007-6-ec95-2870-3f6b-b64a-62b3-976b",
       "previous": "0bc49b94-1d83-11ef-ad2f-0242ac120005"
      },
      {
       "current": "bf249b06-98af-11ea-8d02-0242ac120007-8-1e49-e772-9042-e3f9-5df5-b98e-e938-2ad3",
       "next": "d1bcb8ac-9599-11ea-8d02-0242ac120007-7-ec95-2870-3f6b-b64a-62b3-976b-ae64",
       "previous": "0bc49b94-1d83-11ef-ad2f-0242ac120005-1-152d"
      }
     ],
     "next": "d1bcb8ac-9599-11ea-8d02-0242ac120007-8-ec95-2870-3f6b-b64a-62b3-976b-ae64-36b3",
     "previous": "0bc49b94-1d83-11ef-ad2f-0242ac120005-2-152d-b663"
    }
   },
   "source": [
    "## CephノードとストレージセグメントIPアドレス対応表の読み込み"
   ]
  },
  {
   "cell_type": "code",
   "execution_count": null,
   "metadata": {
    "lc_cell_meme": {
     "current": "d1bcb8ac-9599-11ea-8d02-0242ac120007-8-ec95-2870-3f6b-b64a-62b3-976b-ae64-36b3",
     "history": [
      {
       "current": "d1bcb8ac-9599-11ea-8d02-0242ac120007",
       "next": "d1bcba78-9599-11ea-8d02-0242ac120007",
       "previous": "d1bcb5c8-9599-11ea-8d02-0242ac120007"
      },
      {
       "current": "d1bcb8ac-9599-11ea-8d02-0242ac120007",
       "next": "d1bcba78-9599-11ea-8d02-0242ac120007",
       "previous": "a85c1dda-959a-11ea-8d02-0242ac120007"
      },
      {
       "current": "d1bcb8ac-9599-11ea-8d02-0242ac120007",
       "next": "81dd4f74-9597-11ea-8d02-0242ac120007",
       "previous": "a85c1dda-959a-11ea-8d02-0242ac120007"
      },
      {
       "current": "d1bcb8ac-9599-11ea-8d02-0242ac120007",
       "next": "e879cdac-95bf-11ea-8d02-0242ac120007",
       "previous": "a85c1dda-959a-11ea-8d02-0242ac120007"
      },
      {
       "current": "d1bcb8ac-9599-11ea-8d02-0242ac120007",
       "next": "7899411a-9692-11ea-8d02-0242ac120007",
       "previous": "bf249b06-98af-11ea-8d02-0242ac120007"
      },
      {
       "current": "d1bcb8ac-9599-11ea-8d02-0242ac120007",
       "next": "06afe9a8-98b0-11ea-8d02-0242ac120007",
       "previous": "bf249b06-98af-11ea-8d02-0242ac120007"
      },
      {
       "current": "d1bcb8ac-9599-11ea-8d02-0242ac120007",
       "next": "06afe9a8-98b0-11ea-8d02-0242ac120007",
       "previous": "dd8e3cbc-98f2-11ea-8d02-0242ac120007"
      },
      {
       "current": "d1bcb8ac-9599-11ea-8d02-0242ac120007-1-ec95",
       "next": "250e7a70-98f3-11ea-8d02-0242ac120007",
       "previous": "dd8e3cbc-98f2-11ea-8d02-0242ac120007"
      },
      {
       "current": "d1bcb8ac-9599-11ea-8d02-0242ac120007-2-ec95-2870",
       "next": "250e7a70-98f3-11ea-8d02-0242ac120007-1-f0b4",
       "previous": "dd8e3cbc-98f2-11ea-8d02-0242ac120007-1-706a"
      },
      {
       "current": "d1bcb8ac-9599-11ea-8d02-0242ac120007-2-ec95-2870",
       "next": "250e7a70-98f3-11ea-8d02-0242ac120007-2-f0b4-6edf",
       "previous": "dd8e3cbc-98f2-11ea-8d02-0242ac120007-2-706a-309d"
      },
      {
       "current": "d1bcb8ac-9599-11ea-8d02-0242ac120007-3-ec95-2870-3f6b",
       "next": "250e7a70-98f3-11ea-8d02-0242ac120007-2-f0b4-6edf",
       "previous": "bf249b06-98af-11ea-8d02-0242ac120007-2-1e49-e772"
      },
      {
       "current": "d1bcb8ac-9599-11ea-8d02-0242ac120007-3-ec95-2870-3f6b",
       "next": "250e7a70-98f3-11ea-8d02-0242ac120007-3-f0b4-6edf-9d40",
       "previous": "bf249b06-98af-11ea-8d02-0242ac120007-3-1e49-e772-9042"
      },
      {
       "current": "d1bcb8ac-9599-11ea-8d02-0242ac120007-4-ec95-2870-3f6b-b64a",
       "next": "8a6e62b8-6f14-11ee-89fa-0242ac120005",
       "previous": "bf249b06-98af-11ea-8d02-0242ac120007-3-1e49-e772-9042"
      },
      {
       "current": "d1bcb8ac-9599-11ea-8d02-0242ac120007-5-ec95-2870-3f6b-b64a-62b3",
       "next": "8a6e62b8-6f14-11ee-89fa-0242ac120005-1-7d50",
       "previous": "bf249b06-98af-11ea-8d02-0242ac120007-4-1e49-e772-9042-e3f9"
      },
      {
       "current": "d1bcb8ac-9599-11ea-8d02-0242ac120007-6-ec95-2870-3f6b-b64a-62b3-976b",
       "next": "8a6e62b8-6f14-11ee-89fa-0242ac120005-2-7d50-7385",
       "previous": "bf249b06-98af-11ea-8d02-0242ac120007-5-1e49-e772-9042-e3f9-5df5"
      },
      {
       "current": "d1bcb8ac-9599-11ea-8d02-0242ac120007-6-ec95-2870-3f6b-b64a-62b3-976b",
       "next": "8a6e62b8-6f14-11ee-89fa-0242ac120005-3-7d50-7385-493d",
       "previous": "bf249b06-98af-11ea-8d02-0242ac120007-6-1e49-e772-9042-e3f9-5df5-b98e"
      },
      {
       "current": "d1bcb8ac-9599-11ea-8d02-0242ac120007-7-ec95-2870-3f6b-b64a-62b3-976b-ae64",
       "next": "8a6e6452-6f14-11ee-89fa-0242ac120005-3-0b86-9dd7-09ab",
       "previous": "bf249b06-98af-11ea-8d02-0242ac120007-6-1e49-e772-9042-e3f9-5df5-b98e"
      },
      {
       "current": "d1bcb8ac-9599-11ea-8d02-0242ac120007-8-ec95-2870-3f6b-b64a-62b3-976b-ae64-36b3",
       "next": "8a6e6452-6f14-11ee-89fa-0242ac120005-4-0b86-9dd7-09ab-fdb9",
       "previous": "bf249b06-98af-11ea-8d02-0242ac120007-7-1e49-e772-9042-e3f9-5df5-b98e-e938"
      }
     ],
     "next": "8a6e6452-6f14-11ee-89fa-0242ac120005-5-0b86-9dd7-09ab-fdb9-fa1a",
     "previous": "bf249b06-98af-11ea-8d02-0242ac120007-8-1e49-e772-9042-e3f9-5df5-b98e-e938-2ad3"
    },
    "scrolled": true
   },
   "outputs": [],
   "source": [
    "import os\n",
    "import csv\n",
    "import pandas as pd\n",
    "\n",
    "instance_ip_csv_path =  os.environ['HOME'] + \"/notebooks/share/configuration/ceph/ceph_instance_ip.csv\"\n",
    "instance_ip_list = []\n",
    "instance_ip_map = {}\n",
    "\n",
    "with open(instance_ip_csv_path, 'r') as path_csv:\n",
    "    reader = csv.DictReader(path_csv)\n",
    "    \n",
    "    for record in reader:\n",
    "        instance_ip_list.append(record)\n",
    "        instance_ip_map[record['instance_name']] = record\n",
    "\n",
    "pd.DataFrame(instance_ip_list)"
   ]
  },
  {
   "cell_type": "markdown",
   "metadata": {
    "lc_cell_meme": {
     "current": "8a6e6452-6f14-11ee-89fa-0242ac120005-5-0b86-9dd7-09ab-fdb9-fa1a",
     "history": [
      {
       "current": "8a6e6452-6f14-11ee-89fa-0242ac120005-1-0b86",
       "next": "8a6e65e2-6f14-11ee-89fa-0242ac120005",
       "previous": "250e7a70-98f3-11ea-8d02-0242ac120007-3-f0b4-6edf-9d40"
      },
      {
       "current": "8a6e6452-6f14-11ee-89fa-0242ac120005-2-0b86-9dd7",
       "next": "8a6e65e2-6f14-11ee-89fa-0242ac120005-1-3597",
       "previous": "250e7a70-98f3-11ea-8d02-0242ac120007-4-f0b4-6edf-9d40-560e"
      },
      {
       "current": "8a6e6452-6f14-11ee-89fa-0242ac120005-3-0b86-9dd7-09ab",
       "next": "8a6e65e2-6f14-11ee-89fa-0242ac120005-2-3597-6c67",
       "previous": "250e7a70-98f3-11ea-8d02-0242ac120007-5-f0b4-6edf-9d40-560e-8695"
      },
      {
       "current": "8a6e6452-6f14-11ee-89fa-0242ac120005-3-0b86-9dd7-09ab",
       "next": "8a6e65e2-6f14-11ee-89fa-0242ac120005-3-3597-6c67-60e9",
       "previous": "250e7a70-98f3-11ea-8d02-0242ac120007-6-f0b4-6edf-9d40-560e-8695-28b0"
      },
      {
       "current": "8a6e6452-6f14-11ee-89fa-0242ac120005-4-0b86-9dd7-09ab-fdb9",
       "next": "8a6e65e2-6f14-11ee-89fa-0242ac120005-3-3597-6c67-60e9",
       "previous": "d1bcb8ac-9599-11ea-8d02-0242ac120007-6-ec95-2870-3f6b-b64a-62b3-976b"
      },
      {
       "current": "8a6e6452-6f14-11ee-89fa-0242ac120005-5-0b86-9dd7-09ab-fdb9-fa1a",
       "next": "8a6e65e2-6f14-11ee-89fa-0242ac120005-4-3597-6c67-60e9-dad6",
       "previous": "d1bcb8ac-9599-11ea-8d02-0242ac120007-7-ec95-2870-3f6b-b64a-62b3-976b-ae64"
      }
     ],
     "next": "8a6e65e2-6f14-11ee-89fa-0242ac120005-5-3597-6c67-60e9-dad6-d03c",
     "previous": "d1bcb8ac-9599-11ea-8d02-0242ac120007-8-ec95-2870-3f6b-b64a-62b3-976b-ae64-36b3"
    }
   },
   "source": [
    "## 作業用ディレクトリを作成する"
   ]
  },
  {
   "cell_type": "code",
   "execution_count": null,
   "metadata": {
    "lc_cell_meme": {
     "current": "8a6e65e2-6f14-11ee-89fa-0242ac120005-5-3597-6c67-60e9-dad6-d03c",
     "history": [
      {
       "current": "8a6e65e2-6f14-11ee-89fa-0242ac120005-1-3597",
       "next": "8a6e6664-6f14-11ee-89fa-0242ac120005",
       "previous": "8a6e6452-6f14-11ee-89fa-0242ac120005"
      },
      {
       "current": "8a6e65e2-6f14-11ee-89fa-0242ac120005-2-3597-6c67",
       "next": "8a6e6664-6f14-11ee-89fa-0242ac120005-1-46a2",
       "previous": "8a6e6452-6f14-11ee-89fa-0242ac120005-1-0b86"
      },
      {
       "current": "8a6e65e2-6f14-11ee-89fa-0242ac120005-3-3597-6c67-60e9",
       "next": "8a6e6664-6f14-11ee-89fa-0242ac120005-2-46a2-de55",
       "previous": "8a6e6452-6f14-11ee-89fa-0242ac120005-2-0b86-9dd7"
      },
      {
       "current": "8a6e65e2-6f14-11ee-89fa-0242ac120005-4-3597-6c67-60e9-dad6",
       "next": "8a6e6664-6f14-11ee-89fa-0242ac120005-3-46a2-de55-a78e",
       "previous": "8a6e6452-6f14-11ee-89fa-0242ac120005-3-0b86-9dd7-09ab"
      },
      {
       "current": "8a6e65e2-6f14-11ee-89fa-0242ac120005-5-3597-6c67-60e9-dad6-d03c",
       "next": "8a6e6664-6f14-11ee-89fa-0242ac120005-4-46a2-de55-a78e-a87f",
       "previous": "8a6e6452-6f14-11ee-89fa-0242ac120005-4-0b86-9dd7-09ab-fdb9"
      }
     ],
     "next": "8a6e6664-6f14-11ee-89fa-0242ac120005-5-46a2-de55-a78e-a87f-327c",
     "previous": "8a6e6452-6f14-11ee-89fa-0242ac120005-5-0b86-9dd7-09ab-fdb9-fa1a"
    }
   },
   "outputs": [],
   "source": [
    "import os,tempfile\n",
    "temp_dir = tempfile.mkdtemp()\n",
    "print (temp_dir)"
   ]
  },
  {
   "cell_type": "markdown",
   "metadata": {
    "lc_cell_meme": {
     "current": "8a6e6664-6f14-11ee-89fa-0242ac120005-5-46a2-de55-a78e-a87f-327c",
     "history": [
      {
       "current": "8a6e6664-6f14-11ee-89fa-0242ac120005-1-46a2",
       "next": "8a6e66c8-6f14-11ee-89fa-0242ac120005",
       "previous": "8a6e65e2-6f14-11ee-89fa-0242ac120005"
      },
      {
       "current": "8a6e6664-6f14-11ee-89fa-0242ac120005-2-46a2-de55",
       "next": "8a6e66c8-6f14-11ee-89fa-0242ac120005-1-5399",
       "previous": "8a6e65e2-6f14-11ee-89fa-0242ac120005-1-3597"
      },
      {
       "current": "8a6e6664-6f14-11ee-89fa-0242ac120005-3-46a2-de55-a78e",
       "next": "8a6e66c8-6f14-11ee-89fa-0242ac120005-2-5399-2369",
       "previous": "8a6e65e2-6f14-11ee-89fa-0242ac120005-2-3597-6c67"
      },
      {
       "current": "8a6e6664-6f14-11ee-89fa-0242ac120005-4-46a2-de55-a78e-a87f",
       "next": "8a6e66c8-6f14-11ee-89fa-0242ac120005-3-5399-2369-aa47",
       "previous": "8a6e65e2-6f14-11ee-89fa-0242ac120005-3-3597-6c67-60e9"
      },
      {
       "current": "8a6e6664-6f14-11ee-89fa-0242ac120005-5-46a2-de55-a78e-a87f-327c",
       "next": "8a6e66c8-6f14-11ee-89fa-0242ac120005-4-5399-2369-aa47-fdb1",
       "previous": "8a6e65e2-6f14-11ee-89fa-0242ac120005-4-3597-6c67-60e9-dad6"
      }
     ],
     "next": "8a6e66c8-6f14-11ee-89fa-0242ac120005-5-5399-2369-aa47-fdb1-bd88",
     "previous": "8a6e65e2-6f14-11ee-89fa-0242ac120005-5-3597-6c67-60e9-dad6-d03c"
    }
   },
   "source": [
    "## AnsibleのInventoryファイルを作業用ディレクトリへ作成する"
   ]
  },
  {
   "cell_type": "code",
   "execution_count": null,
   "metadata": {
    "lc_cell_meme": {
     "current": "8a6e66c8-6f14-11ee-89fa-0242ac120005-5-5399-2369-aa47-fdb1-bd88",
     "history": [
      {
       "current": "8a6e66c8-6f14-11ee-89fa-0242ac120005-1-5399",
       "next": "8a6e6736-6f14-11ee-89fa-0242ac120005",
       "previous": "8a6e6664-6f14-11ee-89fa-0242ac120005"
      },
      {
       "current": "8a6e66c8-6f14-11ee-89fa-0242ac120005-2-5399-2369",
       "next": "8a6e6736-6f14-11ee-89fa-0242ac120005-1-fb14",
       "previous": "8a6e6664-6f14-11ee-89fa-0242ac120005-1-46a2"
      },
      {
       "current": "8a6e66c8-6f14-11ee-89fa-0242ac120005-3-5399-2369-aa47",
       "next": "8a6e6736-6f14-11ee-89fa-0242ac120005-2-fb14-f976",
       "previous": "8a6e6664-6f14-11ee-89fa-0242ac120005-2-46a2-de55"
      },
      {
       "current": "8a6e66c8-6f14-11ee-89fa-0242ac120005-4-5399-2369-aa47-fdb1",
       "next": "8a6e6736-6f14-11ee-89fa-0242ac120005-3-fb14-f976-7073",
       "previous": "8a6e6664-6f14-11ee-89fa-0242ac120005-3-46a2-de55-a78e"
      },
      {
       "current": "8a6e66c8-6f14-11ee-89fa-0242ac120005-5-5399-2369-aa47-fdb1-bd88",
       "next": "8a6e6736-6f14-11ee-89fa-0242ac120005-4-fb14-f976-7073-2614",
       "previous": "8a6e6664-6f14-11ee-89fa-0242ac120005-4-46a2-de55-a78e-a87f"
      }
     ],
     "next": "8a6e6736-6f14-11ee-89fa-0242ac120005-5-fb14-f976-7073-2614-d30e",
     "previous": "8a6e6664-6f14-11ee-89fa-0242ac120005-5-46a2-de55-a78e-a87f-327c"
    }
   },
   "outputs": [],
   "source": [
    "import os\n",
    "\n",
    "with open( os.path.join(temp_dir, \"hosts\"), 'w') as f:\n",
    "    f.write('''[openstack_ctl]\n",
    "{openstack_cmn}\n",
    "'''.format(openstack_cmn = provisioning_vip))\n",
    "\n",
    "hosts = temp_dir + \"/hosts\"\n",
    "!cat $hosts"
   ]
  },
  {
   "cell_type": "code",
   "execution_count": null,
   "metadata": {
    "lc_cell_meme": {
     "current": "8a6e6736-6f14-11ee-89fa-0242ac120005-5-fb14-f976-7073-2614-d30e",
     "history": [
      {
       "current": "8a6e6736-6f14-11ee-89fa-0242ac120005",
       "next": "8a6e67a4-6f14-11ee-89fa-0242ac120005",
       "previous": "8a6e66c8-6f14-11ee-89fa-0242ac120005"
      },
      {
       "current": "8a6e6736-6f14-11ee-89fa-0242ac120005-1-fb14",
       "next": "8a6e67a4-6f14-11ee-89fa-0242ac120005-1-b446",
       "previous": "8a6e66c8-6f14-11ee-89fa-0242ac120005"
      },
      {
       "current": "8a6e6736-6f14-11ee-89fa-0242ac120005-2-fb14-f976",
       "next": "8a6e67a4-6f14-11ee-89fa-0242ac120005-2-b446-caa2",
       "previous": "8a6e66c8-6f14-11ee-89fa-0242ac120005-1-5399"
      },
      {
       "current": "8a6e6736-6f14-11ee-89fa-0242ac120005-3-fb14-f976-7073",
       "next": "8a6e67a4-6f14-11ee-89fa-0242ac120005-3-b446-caa2-2bb7",
       "previous": "8a6e66c8-6f14-11ee-89fa-0242ac120005-2-5399-2369"
      },
      {
       "current": "8a6e6736-6f14-11ee-89fa-0242ac120005-4-fb14-f976-7073-2614",
       "next": "8a6e67a4-6f14-11ee-89fa-0242ac120005-4-b446-caa2-2bb7-d41a",
       "previous": "8a6e66c8-6f14-11ee-89fa-0242ac120005-3-5399-2369-aa47"
      },
      {
       "current": "8a6e6736-6f14-11ee-89fa-0242ac120005-5-fb14-f976-7073-2614-d30e",
       "next": "8a6e67a4-6f14-11ee-89fa-0242ac120005-5-b446-caa2-2bb7-d41a-265b",
       "previous": "8a6e66c8-6f14-11ee-89fa-0242ac120005-4-5399-2369-aa47-fdb1"
      }
     ],
     "next": "8a6e67a4-6f14-11ee-89fa-0242ac120005-6-b446-caa2-2bb7-d41a-265b-6f7b",
     "previous": "8a6e66c8-6f14-11ee-89fa-0242ac120005-5-5399-2369-aa47-fdb1-bd88"
    }
   },
   "outputs": [],
   "source": [
    "%env ANSIBLE_INVENTORY={hosts}"
   ]
  },
  {
   "cell_type": "markdown",
   "metadata": {
    "lc_cell_meme": {
     "current": "8a6e67a4-6f14-11ee-89fa-0242ac120005-6-b446-caa2-2bb7-d41a-265b-6f7b",
     "history": [
      {
       "current": "8a6e67a4-6f14-11ee-89fa-0242ac120005-2-b446-caa2",
       "next": "8a6e6808-6f14-11ee-89fa-0242ac120005",
       "previous": "8a6e6736-6f14-11ee-89fa-0242ac120005"
      },
      {
       "current": "8a6e67a4-6f14-11ee-89fa-0242ac120005-3-b446-caa2-2bb7",
       "next": "8a6e6808-6f14-11ee-89fa-0242ac120005-1-1bda",
       "previous": "8a6e6736-6f14-11ee-89fa-0242ac120005-1-fb14"
      },
      {
       "current": "8a6e67a4-6f14-11ee-89fa-0242ac120005-4-b446-caa2-2bb7-d41a",
       "next": "8a6e6808-6f14-11ee-89fa-0242ac120005-2-1bda-9ed4",
       "previous": "8a6e6736-6f14-11ee-89fa-0242ac120005-2-fb14-f976"
      },
      {
       "current": "8a6e67a4-6f14-11ee-89fa-0242ac120005-5-b446-caa2-2bb7-d41a-265b",
       "next": "8a6e6808-6f14-11ee-89fa-0242ac120005-3-1bda-9ed4-0386",
       "previous": "8a6e6736-6f14-11ee-89fa-0242ac120005-3-fb14-f976-7073"
      },
      {
       "current": "8a6e67a4-6f14-11ee-89fa-0242ac120005-6-b446-caa2-2bb7-d41a-265b-6f7b",
       "next": "8a6e6808-6f14-11ee-89fa-0242ac120005-4-1bda-9ed4-0386-d0c9",
       "previous": "8a6e6736-6f14-11ee-89fa-0242ac120005-4-fb14-f976-7073-2614"
      }
     ],
     "next": "8a6e6808-6f14-11ee-89fa-0242ac120005-5-1bda-9ed4-0386-d0c9-073d",
     "previous": "8a6e6736-6f14-11ee-89fa-0242ac120005-5-fb14-f976-7073-2614-d30e"
    }
   },
   "source": [
    "疎通確認"
   ]
  },
  {
   "cell_type": "code",
   "execution_count": null,
   "metadata": {
    "lc_cell_meme": {
     "current": "8a6e6808-6f14-11ee-89fa-0242ac120005-5-1bda-9ed4-0386-d0c9-073d",
     "history": [
      {
       "current": "8a6e6808-6f14-11ee-89fa-0242ac120005",
       "next": "8a6e6862-6f14-11ee-89fa-0242ac120005",
       "previous": "8a6e67a4-6f14-11ee-89fa-0242ac120005"
      },
      {
       "current": "8a6e6808-6f14-11ee-89fa-0242ac120005-1-1bda",
       "next": "8a6e6862-6f14-11ee-89fa-0242ac120005",
       "previous": "8a6e67a4-6f14-11ee-89fa-0242ac120005-1-b446"
      },
      {
       "current": "8a6e6808-6f14-11ee-89fa-0242ac120005-2-1bda-9ed4",
       "next": "8a6e6862-6f14-11ee-89fa-0242ac120005-1-27d4",
       "previous": "8a6e67a4-6f14-11ee-89fa-0242ac120005-2-b446-caa2"
      },
      {
       "current": "8a6e6808-6f14-11ee-89fa-0242ac120005-3-1bda-9ed4-0386",
       "next": "8a6e6862-6f14-11ee-89fa-0242ac120005-2-27d4-4d06",
       "previous": "8a6e67a4-6f14-11ee-89fa-0242ac120005-3-b446-caa2-2bb7"
      },
      {
       "current": "8a6e6808-6f14-11ee-89fa-0242ac120005-4-1bda-9ed4-0386-d0c9",
       "next": "8a6e6862-6f14-11ee-89fa-0242ac120005-3-27d4-4d06-379e",
       "previous": "8a6e67a4-6f14-11ee-89fa-0242ac120005-4-b446-caa2-2bb7-d41a"
      },
      {
       "current": "8a6e6808-6f14-11ee-89fa-0242ac120005-5-1bda-9ed4-0386-d0c9-073d",
       "next": "8a6e6862-6f14-11ee-89fa-0242ac120005-4-27d4-4d06-379e-cb87",
       "previous": "8a6e67a4-6f14-11ee-89fa-0242ac120005-5-b446-caa2-2bb7-d41a-265b"
      }
     ],
     "next": "8a6e6862-6f14-11ee-89fa-0242ac120005-5-27d4-4d06-379e-cb87-ba04",
     "previous": "8a6e67a4-6f14-11ee-89fa-0242ac120005-6-b446-caa2-2bb7-d41a-265b-6f7b"
    }
   },
   "outputs": [],
   "source": [
    "!ansible -m ping openstack_ctl"
   ]
  },
  {
   "cell_type": "code",
   "execution_count": null,
   "metadata": {
    "lc_cell_meme": {
     "current": "8a6e6862-6f14-11ee-89fa-0242ac120005-5-27d4-4d06-379e-cb87-ba04",
     "history": [
      {
       "current": "8a6e6862-6f14-11ee-89fa-0242ac120005",
       "next": "8a6e68d0-6f14-11ee-89fa-0242ac120005",
       "previous": "8a6e6808-6f14-11ee-89fa-0242ac120005"
      },
      {
       "current": "8a6e6862-6f14-11ee-89fa-0242ac120005-1-27d4",
       "next": "8a6e68d0-6f14-11ee-89fa-0242ac120005-1-da77",
       "previous": "8a6e6808-6f14-11ee-89fa-0242ac120005"
      },
      {
       "current": "8a6e6862-6f14-11ee-89fa-0242ac120005-2-27d4-4d06",
       "next": "8a6e68d0-6f14-11ee-89fa-0242ac120005-2-da77-9e53",
       "previous": "8a6e6808-6f14-11ee-89fa-0242ac120005-1-1bda"
      },
      {
       "current": "8a6e6862-6f14-11ee-89fa-0242ac120005-3-27d4-4d06-379e",
       "next": "8a6e68d0-6f14-11ee-89fa-0242ac120005-3-da77-9e53-48a0",
       "previous": "8a6e6808-6f14-11ee-89fa-0242ac120005-2-1bda-9ed4"
      },
      {
       "current": "8a6e6862-6f14-11ee-89fa-0242ac120005-4-27d4-4d06-379e-cb87",
       "next": "8a6e68d0-6f14-11ee-89fa-0242ac120005-4-da77-9e53-48a0-cc2c",
       "previous": "8a6e6808-6f14-11ee-89fa-0242ac120005-3-1bda-9ed4-0386"
      },
      {
       "current": "8a6e6862-6f14-11ee-89fa-0242ac120005-5-27d4-4d06-379e-cb87-ba04",
       "next": "8a6e68d0-6f14-11ee-89fa-0242ac120005-5-da77-9e53-48a0-cc2c-e52f",
       "previous": "8a6e6808-6f14-11ee-89fa-0242ac120005-4-1bda-9ed4-0386-d0c9"
      }
     ],
     "next": "8a6e68d0-6f14-11ee-89fa-0242ac120005-6-da77-9e53-48a0-cc2c-e52f-5b7d",
     "previous": "8a6e6808-6f14-11ee-89fa-0242ac120005-5-1bda-9ed4-0386-d0c9-073d"
    }
   },
   "outputs": [],
   "source": [
    "!ansible -a 'hostname' openstack_ctl"
   ]
  },
  {
   "cell_type": "markdown",
   "metadata": {
    "lc_cell_meme": {
     "current": "8a6e68d0-6f14-11ee-89fa-0242ac120005-6-da77-9e53-48a0-cc2c-e52f-5b7d",
     "history": [
      {
       "current": "8a6e68d0-6f14-11ee-89fa-0242ac120005-2-da77-9e53",
       "next": "8a6e6934-6f14-11ee-89fa-0242ac120005",
       "previous": "8a6e6862-6f14-11ee-89fa-0242ac120005"
      },
      {
       "current": "8a6e68d0-6f14-11ee-89fa-0242ac120005-3-da77-9e53-48a0",
       "next": "8a6e6934-6f14-11ee-89fa-0242ac120005-1-d635",
       "previous": "8a6e6862-6f14-11ee-89fa-0242ac120005-1-27d4"
      },
      {
       "current": "8a6e68d0-6f14-11ee-89fa-0242ac120005-4-da77-9e53-48a0-cc2c",
       "next": "8a6e6934-6f14-11ee-89fa-0242ac120005-2-d635-23f9",
       "previous": "8a6e6862-6f14-11ee-89fa-0242ac120005-2-27d4-4d06"
      },
      {
       "current": "8a6e68d0-6f14-11ee-89fa-0242ac120005-5-da77-9e53-48a0-cc2c-e52f",
       "next": "8a6e6934-6f14-11ee-89fa-0242ac120005-3-d635-23f9-4fbf",
       "previous": "8a6e6862-6f14-11ee-89fa-0242ac120005-3-27d4-4d06-379e"
      },
      {
       "current": "8a6e68d0-6f14-11ee-89fa-0242ac120005-6-da77-9e53-48a0-cc2c-e52f-5b7d",
       "next": "8a6e6934-6f14-11ee-89fa-0242ac120005-4-d635-23f9-4fbf-2738",
       "previous": "8a6e6862-6f14-11ee-89fa-0242ac120005-4-27d4-4d06-379e-cb87"
      }
     ],
     "next": "8a6e6934-6f14-11ee-89fa-0242ac120005-5-d635-23f9-4fbf-2738-401c",
     "previous": "8a6e6862-6f14-11ee-89fa-0242ac120005-5-27d4-4d06-379e-cb87-ba04"
    }
   },
   "source": [
    "## OpenStack用OpenRCファイル設定\n",
    "\n",
    "`xxxxxxx`プロジェクト用のOpenRCファイルを事前にダウンロードしておくこと。  "
   ]
  },
  {
   "cell_type": "code",
   "execution_count": null,
   "metadata": {
    "lc_cell_meme": {
     "current": "8a6e6934-6f14-11ee-89fa-0242ac120005-5-d635-23f9-4fbf-2738-401c",
     "history": [
      {
       "current": "8a6e6934-6f14-11ee-89fa-0242ac120005",
       "next": "8a6e698e-6f14-11ee-89fa-0242ac120005",
       "previous": "8a6e68d0-6f14-11ee-89fa-0242ac120005"
      },
      {
       "current": "8a6e6934-6f14-11ee-89fa-0242ac120005-1-d635",
       "next": "d1f5984a-6f14-11ee-89fa-0242ac120005",
       "previous": "8a6e68d0-6f14-11ee-89fa-0242ac120005-1-da77"
      },
      {
       "current": "8a6e6934-6f14-11ee-89fa-0242ac120005-2-d635-23f9",
       "next": "d1f5984a-6f14-11ee-89fa-0242ac120005-1-b100",
       "previous": "8a6e68d0-6f14-11ee-89fa-0242ac120005-2-da77-9e53"
      },
      {
       "current": "8a6e6934-6f14-11ee-89fa-0242ac120005-3-d635-23f9-4fbf",
       "next": "d1f5984a-6f14-11ee-89fa-0242ac120005-2-b100-fa5a",
       "previous": "8a6e68d0-6f14-11ee-89fa-0242ac120005-3-da77-9e53-48a0"
      },
      {
       "current": "8a6e6934-6f14-11ee-89fa-0242ac120005-4-d635-23f9-4fbf-2738",
       "next": "d1f5984a-6f14-11ee-89fa-0242ac120005-3-b100-fa5a-1635",
       "previous": "8a6e68d0-6f14-11ee-89fa-0242ac120005-4-da77-9e53-48a0-cc2c"
      },
      {
       "current": "8a6e6934-6f14-11ee-89fa-0242ac120005-5-d635-23f9-4fbf-2738-401c",
       "next": "d1f5984a-6f14-11ee-89fa-0242ac120005-4-b100-fa5a-1635-d289",
       "previous": "8a6e68d0-6f14-11ee-89fa-0242ac120005-5-da77-9e53-48a0-cc2c-e52f"
      }
     ],
     "next": "d1f5984a-6f14-11ee-89fa-0242ac120005-5-b100-fa5a-1635-d289-7464",
     "previous": "8a6e68d0-6f14-11ee-89fa-0242ac120005-6-da77-9e53-48a0-cc2c-e52f-5b7d"
    }
   },
   "outputs": [],
   "source": [
    "import os\n",
    "\n",
    "user_creds = os.path.expanduser('~/.keys/xxxxxxx-openrc.sh')\n",
    "\n",
    "assert os.path.exists(user_creds), '{} is not exist'.format(user_creds)"
   ]
  },
  {
   "cell_type": "code",
   "execution_count": null,
   "metadata": {
    "lc_cell_meme": {
     "current": "d1f5984a-6f14-11ee-89fa-0242ac120005-5-b100-fa5a-1635-d289-7464",
     "history": [
      {
       "current": "d1f5984a-6f14-11ee-89fa-0242ac120005-1-b100",
       "next": "d1f599e4-6f14-11ee-89fa-0242ac120005",
       "previous": "8a6e6934-6f14-11ee-89fa-0242ac120005"
      },
      {
       "current": "d1f5984a-6f14-11ee-89fa-0242ac120005-2-b100-fa5a",
       "next": "d1f599e4-6f14-11ee-89fa-0242ac120005-1-f57c",
       "previous": "8a6e6934-6f14-11ee-89fa-0242ac120005-1-d635"
      },
      {
       "current": "d1f5984a-6f14-11ee-89fa-0242ac120005-3-b100-fa5a-1635",
       "next": "d1f599e4-6f14-11ee-89fa-0242ac120005-2-f57c-f133",
       "previous": "8a6e6934-6f14-11ee-89fa-0242ac120005-2-d635-23f9"
      },
      {
       "current": "d1f5984a-6f14-11ee-89fa-0242ac120005-4-b100-fa5a-1635-d289",
       "next": "d1f599e4-6f14-11ee-89fa-0242ac120005-3-f57c-f133-9bb1",
       "previous": "8a6e6934-6f14-11ee-89fa-0242ac120005-3-d635-23f9-4fbf"
      },
      {
       "current": "d1f5984a-6f14-11ee-89fa-0242ac120005-5-b100-fa5a-1635-d289-7464",
       "next": "d1f599e4-6f14-11ee-89fa-0242ac120005-4-f57c-f133-9bb1-5a72",
       "previous": "8a6e6934-6f14-11ee-89fa-0242ac120005-4-d635-23f9-4fbf-2738"
      }
     ],
     "next": "d1f599e4-6f14-11ee-89fa-0242ac120005-5-f57c-f133-9bb1-5a72-5f67",
     "previous": "8a6e6934-6f14-11ee-89fa-0242ac120005-5-d635-23f9-4fbf-2738-401c"
    }
   },
   "outputs": [],
   "source": [
    "%env USER_CREDS={user_creds}"
   ]
  },
  {
   "cell_type": "code",
   "execution_count": null,
   "metadata": {
    "lc_cell_meme": {
     "current": "d1f599e4-6f14-11ee-89fa-0242ac120005-5-f57c-f133-9bb1-5a72-5f67",
     "history": [
      {
       "current": "d1f599e4-6f14-11ee-89fa-0242ac120005-1-f57c",
       "next": "d1f59a8e-6f14-11ee-89fa-0242ac120005",
       "previous": "d1f5984a-6f14-11ee-89fa-0242ac120005"
      },
      {
       "current": "d1f599e4-6f14-11ee-89fa-0242ac120005-2-f57c-f133",
       "next": "d1f59a8e-6f14-11ee-89fa-0242ac120005-1-3f6d",
       "previous": "d1f5984a-6f14-11ee-89fa-0242ac120005-1-b100"
      },
      {
       "current": "d1f599e4-6f14-11ee-89fa-0242ac120005-3-f57c-f133-9bb1",
       "next": "d1f59a8e-6f14-11ee-89fa-0242ac120005-2-3f6d-9768",
       "previous": "d1f5984a-6f14-11ee-89fa-0242ac120005-2-b100-fa5a"
      },
      {
       "current": "d1f599e4-6f14-11ee-89fa-0242ac120005-4-f57c-f133-9bb1-5a72",
       "next": "d1f59a8e-6f14-11ee-89fa-0242ac120005-3-3f6d-9768-9540",
       "previous": "d1f5984a-6f14-11ee-89fa-0242ac120005-3-b100-fa5a-1635"
      },
      {
       "current": "d1f599e4-6f14-11ee-89fa-0242ac120005-5-f57c-f133-9bb1-5a72-5f67",
       "next": "d1f59a8e-6f14-11ee-89fa-0242ac120005-4-3f6d-9768-9540-5ed3",
       "previous": "d1f5984a-6f14-11ee-89fa-0242ac120005-4-b100-fa5a-1635-d289"
      }
     ],
     "next": "d1f59a8e-6f14-11ee-89fa-0242ac120005-5-3f6d-9768-9540-5ed3-5daf",
     "previous": "d1f5984a-6f14-11ee-89fa-0242ac120005-5-b100-fa5a-1635-d289-7464"
    }
   },
   "outputs": [],
   "source": [
    "!ls -l {user_creds}"
   ]
  },
  {
   "cell_type": "markdown",
   "metadata": {
    "heading_collapsed": true,
    "lc_cell_meme": {
     "current": "d1f59a8e-6f14-11ee-89fa-0242ac120005-5-3f6d-9768-9540-5ed3-5daf",
     "history": [
      {
       "current": "d1f59a8e-6f14-11ee-89fa-0242ac120005-1-3f6d",
       "next": "d1f59b06-6f14-11ee-89fa-0242ac120005",
       "previous": "d1f599e4-6f14-11ee-89fa-0242ac120005"
      },
      {
       "current": "d1f59a8e-6f14-11ee-89fa-0242ac120005-2-3f6d-9768",
       "next": "d1f59b06-6f14-11ee-89fa-0242ac120005-1-a0ca",
       "previous": "d1f599e4-6f14-11ee-89fa-0242ac120005-1-f57c"
      },
      {
       "current": "d1f59a8e-6f14-11ee-89fa-0242ac120005-3-3f6d-9768-9540",
       "next": "d1f59b06-6f14-11ee-89fa-0242ac120005-2-a0ca-c913",
       "previous": "d1f599e4-6f14-11ee-89fa-0242ac120005-2-f57c-f133"
      },
      {
       "current": "d1f59a8e-6f14-11ee-89fa-0242ac120005-4-3f6d-9768-9540-5ed3",
       "next": "d1f59b06-6f14-11ee-89fa-0242ac120005-3-a0ca-c913-421f",
       "previous": "d1f599e4-6f14-11ee-89fa-0242ac120005-3-f57c-f133-9bb1"
      },
      {
       "current": "d1f59a8e-6f14-11ee-89fa-0242ac120005-5-3f6d-9768-9540-5ed3-5daf",
       "next": "d1f59b06-6f14-11ee-89fa-0242ac120005-4-a0ca-c913-421f-e16a",
       "previous": "d1f599e4-6f14-11ee-89fa-0242ac120005-4-f57c-f133-9bb1-5a72"
      }
     ],
     "next": "d1f59b06-6f14-11ee-89fa-0242ac120005-5-a0ca-c913-421f-e16a-6eba",
     "previous": "d1f599e4-6f14-11ee-89fa-0242ac120005-5-f57c-f133-9bb1-5a72-5f67"
    }
   },
   "source": [
    "## openstackコマンド用ユーティリティ関数"
   ]
  },
  {
   "cell_type": "code",
   "execution_count": null,
   "metadata": {
    "hidden": true,
    "lc_cell_meme": {
     "current": "d1f59b06-6f14-11ee-89fa-0242ac120005-5-a0ca-c913-421f-e16a-6eba",
     "history": [
      {
       "current": "d1f59b06-6f14-11ee-89fa-0242ac120005-1-a0ca",
       "next": "d1f59b74-6f14-11ee-89fa-0242ac120005",
       "previous": "d1f59a8e-6f14-11ee-89fa-0242ac120005"
      },
      {
       "current": "d1f59b06-6f14-11ee-89fa-0242ac120005-2-a0ca-c913",
       "next": "d1f59b74-6f14-11ee-89fa-0242ac120005-1-d325",
       "previous": "d1f59a8e-6f14-11ee-89fa-0242ac120005-1-3f6d"
      },
      {
       "current": "d1f59b06-6f14-11ee-89fa-0242ac120005-3-a0ca-c913-421f",
       "next": "d1f59b74-6f14-11ee-89fa-0242ac120005-2-d325-d35d",
       "previous": "d1f59a8e-6f14-11ee-89fa-0242ac120005-2-3f6d-9768"
      },
      {
       "current": "d1f59b06-6f14-11ee-89fa-0242ac120005-4-a0ca-c913-421f-e16a",
       "next": "d1f59b74-6f14-11ee-89fa-0242ac120005-3-d325-d35d-9764",
       "previous": "d1f59a8e-6f14-11ee-89fa-0242ac120005-3-3f6d-9768-9540"
      },
      {
       "current": "d1f59b06-6f14-11ee-89fa-0242ac120005-5-a0ca-c913-421f-e16a-6eba",
       "next": "d1f59b74-6f14-11ee-89fa-0242ac120005-4-d325-d35d-9764-351f",
       "previous": "d1f59a8e-6f14-11ee-89fa-0242ac120005-4-3f6d-9768-9540-5ed3"
      }
     ],
     "next": "d1f59b74-6f14-11ee-89fa-0242ac120005-5-d325-d35d-9764-351f-63c6",
     "previous": "d1f59a8e-6f14-11ee-89fa-0242ac120005-5-3f6d-9768-9540-5ed3-5daf"
    }
   },
   "outputs": [],
   "source": [
    "def build_cmdline(param):\n",
    "    cmdline = ''\n",
    "    \n",
    "    for param_name, param_value in param.items():\n",
    "        if isinstance(param_value, dict):\n",
    "            for key, value in param_value.items():\n",
    "                cmdline += ' --{} {}={}'.format(param_name, key, value)\n",
    "        elif isinstance(param_value, list):\n",
    "            for item in param_value:\n",
    "                cmdline += ' --{} {}'.format(param_name, item)\n",
    "        elif isinstance(param_value, bool):\n",
    "            if param_value:\n",
    "                cmdline += ' --{}'.format(param_name)\n",
    "        else:\n",
    "            cmdline += ' --{} {}'.format(param_name, param_value)\n",
    "\n",
    "    return cmdline"
   ]
  },
  {
   "cell_type": "code",
   "execution_count": null,
   "metadata": {
    "hidden": true,
    "lc_cell_meme": {
     "current": "d1f59b74-6f14-11ee-89fa-0242ac120005-5-d325-d35d-9764-351f-63c6",
     "history": [
      {
       "current": "d1f59b74-6f14-11ee-89fa-0242ac120005",
       "next": "d1f59bec-6f14-11ee-89fa-0242ac120005",
       "previous": "d1f59b06-6f14-11ee-89fa-0242ac120005"
      },
      {
       "current": "d1f59b74-6f14-11ee-89fa-0242ac120005-1-d325",
       "next": "d1f59bec-6f14-11ee-89fa-0242ac120005-1-da5a",
       "previous": "d1f59b06-6f14-11ee-89fa-0242ac120005"
      },
      {
       "current": "d1f59b74-6f14-11ee-89fa-0242ac120005-2-d325-d35d",
       "next": "d1f59bec-6f14-11ee-89fa-0242ac120005-2-da5a-2fb0",
       "previous": "d1f59b06-6f14-11ee-89fa-0242ac120005-1-a0ca"
      },
      {
       "current": "d1f59b74-6f14-11ee-89fa-0242ac120005-3-d325-d35d-9764",
       "next": "d1f59bec-6f14-11ee-89fa-0242ac120005-3-da5a-2fb0-6e04",
       "previous": "d1f59b06-6f14-11ee-89fa-0242ac120005-2-a0ca-c913"
      },
      {
       "current": "d1f59b74-6f14-11ee-89fa-0242ac120005-4-d325-d35d-9764-351f",
       "next": "d1f59bec-6f14-11ee-89fa-0242ac120005-4-da5a-2fb0-6e04-0cef",
       "previous": "d1f59b06-6f14-11ee-89fa-0242ac120005-3-a0ca-c913-421f"
      },
      {
       "current": "d1f59b74-6f14-11ee-89fa-0242ac120005-5-d325-d35d-9764-351f-63c6",
       "next": "d1f59bec-6f14-11ee-89fa-0242ac120005-5-da5a-2fb0-6e04-0cef-2e62",
       "previous": "d1f59b06-6f14-11ee-89fa-0242ac120005-4-a0ca-c913-421f-e16a"
      }
     ],
     "next": "d1f59bec-6f14-11ee-89fa-0242ac120005-6-da5a-2fb0-6e04-0cef-2e62-c667",
     "previous": "d1f59b06-6f14-11ee-89fa-0242ac120005-5-a0ca-c913-421f-e16a-6eba"
    }
   },
   "outputs": [],
   "source": [
    "import json\n",
    "\n",
    "def run_openstack(cmd):\n",
    "    print('EXEC: {}'.format(cmd))\n",
    "    out = !source {user_creds} && {cmd}\n",
    "    print('OUTPUT: {}'.format('\\n'.join(out)))\n",
    "    return json.loads('\\n'.join(out))"
   ]
  },
  {
   "cell_type": "markdown",
   "metadata": {
    "hidden": true,
    "lc_cell_meme": {
     "current": "d1f59bec-6f14-11ee-89fa-0242ac120005-6-da5a-2fb0-6e04-0cef-2e62-c667",
     "history": [
      {
       "current": "d1f59bec-6f14-11ee-89fa-0242ac120005-2-da5a-2fb0",
       "next": "8a6e698e-6f14-11ee-89fa-0242ac120005",
       "previous": "d1f59b74-6f14-11ee-89fa-0242ac120005"
      },
      {
       "current": "d1f59bec-6f14-11ee-89fa-0242ac120005-3-da5a-2fb0-6e04",
       "next": "8a6e698e-6f14-11ee-89fa-0242ac120005-1-a9bf",
       "previous": "d1f59b74-6f14-11ee-89fa-0242ac120005-1-d325"
      },
      {
       "current": "d1f59bec-6f14-11ee-89fa-0242ac120005-4-da5a-2fb0-6e04-0cef",
       "next": "8a6e698e-6f14-11ee-89fa-0242ac120005-2-a9bf-36c5",
       "previous": "d1f59b74-6f14-11ee-89fa-0242ac120005-2-d325-d35d"
      },
      {
       "current": "d1f59bec-6f14-11ee-89fa-0242ac120005-5-da5a-2fb0-6e04-0cef-2e62",
       "next": "8a6e698e-6f14-11ee-89fa-0242ac120005-3-a9bf-36c5-d8fb",
       "previous": "d1f59b74-6f14-11ee-89fa-0242ac120005-3-d325-d35d-9764"
      },
      {
       "current": "d1f59bec-6f14-11ee-89fa-0242ac120005-6-da5a-2fb0-6e04-0cef-2e62-c667",
       "next": "8a6e698e-6f14-11ee-89fa-0242ac120005-4-a9bf-36c5-d8fb-bb59",
       "previous": "d1f59b74-6f14-11ee-89fa-0242ac120005-4-d325-d35d-9764-351f"
      }
     ],
     "next": "8a6e698e-6f14-11ee-89fa-0242ac120005-5-a9bf-36c5-d8fb-bb59-45ef",
     "previous": "d1f59b74-6f14-11ee-89fa-0242ac120005-5-d325-d35d-9764-351f-63c6"
    }
   },
   "source": [
    "テスト"
   ]
  },
  {
   "cell_type": "code",
   "execution_count": null,
   "metadata": {
    "hidden": true,
    "lc_cell_meme": {
     "current": "8a6e698e-6f14-11ee-89fa-0242ac120005-5-a9bf-36c5-d8fb-bb59-45ef",
     "history": [
      {
       "current": "8a6e698e-6f14-11ee-89fa-0242ac120005",
       "next": "8a6e69fc-6f14-11ee-89fa-0242ac120005",
       "previous": "8a6e6934-6f14-11ee-89fa-0242ac120005"
      },
      {
       "current": "8a6e698e-6f14-11ee-89fa-0242ac120005",
       "next": "8a6e69fc-6f14-11ee-89fa-0242ac120005",
       "previous": "d1f59bec-6f14-11ee-89fa-0242ac120005"
      },
      {
       "current": "8a6e698e-6f14-11ee-89fa-0242ac120005-1-a9bf",
       "next": "06afe9a8-98b0-11ea-8d02-0242ac120007-3-a1c1-faf0-55bd",
       "previous": "d1f59bec-6f14-11ee-89fa-0242ac120005-1-da5a"
      },
      {
       "current": "8a6e698e-6f14-11ee-89fa-0242ac120005-2-a9bf-36c5",
       "next": "06afe9a8-98b0-11ea-8d02-0242ac120007-4-a1c1-faf0-55bd-e63b",
       "previous": "d1f59bec-6f14-11ee-89fa-0242ac120005-2-da5a-2fb0"
      },
      {
       "current": "8a6e698e-6f14-11ee-89fa-0242ac120005-3-a9bf-36c5-d8fb",
       "next": "06afe9a8-98b0-11ea-8d02-0242ac120007-5-a1c1-faf0-55bd-e63b-ccc9",
       "previous": "d1f59bec-6f14-11ee-89fa-0242ac120005-3-da5a-2fb0-6e04"
      },
      {
       "current": "8a6e698e-6f14-11ee-89fa-0242ac120005-4-a9bf-36c5-d8fb-bb59",
       "next": "06afe9a8-98b0-11ea-8d02-0242ac120007-6-a1c1-faf0-55bd-e63b-ccc9-d065",
       "previous": "d1f59bec-6f14-11ee-89fa-0242ac120005-4-da5a-2fb0-6e04-0cef"
      },
      {
       "current": "8a6e698e-6f14-11ee-89fa-0242ac120005-5-a9bf-36c5-d8fb-bb59-45ef",
       "next": "06afe9a8-98b0-11ea-8d02-0242ac120007-7-a1c1-faf0-55bd-e63b-ccc9-d065-f71b",
       "previous": "d1f59bec-6f14-11ee-89fa-0242ac120005-5-da5a-2fb0-6e04-0cef-2e62"
      }
     ],
     "next": "06afe9a8-98b0-11ea-8d02-0242ac120007-8-a1c1-faf0-55bd-e63b-ccc9-d065-f71b-b153",
     "previous": "d1f59bec-6f14-11ee-89fa-0242ac120005-6-da5a-2fb0-6e04-0cef-2e62-c667"
    }
   },
   "outputs": [],
   "source": [
    "run_openstack('openstack flavor list -f json' + build_cmdline({'all': True}))"
   ]
  },
  {
   "cell_type": "markdown",
   "metadata": {
    "lc_cell_meme": {
     "current": "06afe9a8-98b0-11ea-8d02-0242ac120007-8-a1c1-faf0-55bd-e63b-ccc9-d065-f71b-b153",
     "history": [
      {
       "current": "06afe9a8-98b0-11ea-8d02-0242ac120007",
       "next": "7899411a-9692-11ea-8d02-0242ac120007",
       "previous": "d1bcb8ac-9599-11ea-8d02-0242ac120007"
      },
      {
       "current": "06afe9a8-98b0-11ea-8d02-0242ac120007-1-a1c1",
       "next": "7899411a-9692-11ea-8d02-0242ac120007",
       "previous": "250e7a70-98f3-11ea-8d02-0242ac120007"
      },
      {
       "current": "06afe9a8-98b0-11ea-8d02-0242ac120007-2-a1c1-faf0",
       "next": "7899411a-9692-11ea-8d02-0242ac120007-1-2cd2",
       "previous": "250e7a70-98f3-11ea-8d02-0242ac120007-1-f0b4"
      },
      {
       "current": "06afe9a8-98b0-11ea-8d02-0242ac120007-2-a1c1-faf0",
       "next": "7899411a-9692-11ea-8d02-0242ac120007-2-2cd2-395d",
       "previous": "250e7a70-98f3-11ea-8d02-0242ac120007-2-f0b4-6edf"
      },
      {
       "current": "06afe9a8-98b0-11ea-8d02-0242ac120007-2-a1c1-faf0",
       "next": "04bfc54e-defc-11eb-b29f-0242ac120008",
       "previous": "250e7a70-98f3-11ea-8d02-0242ac120007-2-f0b4-6edf"
      },
      {
       "current": "06afe9a8-98b0-11ea-8d02-0242ac120007-3-a1c1-faf0-55bd",
       "next": "329a4046-dfad-11eb-b29f-0242ac120008",
       "previous": "250e7a70-98f3-11ea-8d02-0242ac120007-2-f0b4-6edf"
      },
      {
       "current": "06afe9a8-98b0-11ea-8d02-0242ac120007-3-a1c1-faf0-55bd",
       "next": "329a4046-dfad-11eb-b29f-0242ac120008-1-1375",
       "previous": "250e7a70-98f3-11ea-8d02-0242ac120007-3-f0b4-6edf-9d40"
      },
      {
       "current": "06afe9a8-98b0-11ea-8d02-0242ac120007-3-a1c1-faf0-55bd",
       "next": "329a4046-dfad-11eb-b29f-0242ac120008-1-1375",
       "previous": "8a6e69fc-6f14-11ee-89fa-0242ac120005"
      },
      {
       "current": "06afe9a8-98b0-11ea-8d02-0242ac120007-4-a1c1-faf0-55bd-e63b",
       "next": "329a4046-dfad-11eb-b29f-0242ac120008-1-1375",
       "previous": "8a6e698e-6f14-11ee-89fa-0242ac120005"
      },
      {
       "current": "06afe9a8-98b0-11ea-8d02-0242ac120007-5-a1c1-faf0-55bd-e63b-ccc9",
       "next": "329a4046-dfad-11eb-b29f-0242ac120008-2-1375-d3b3",
       "previous": "8a6e698e-6f14-11ee-89fa-0242ac120005-1-a9bf"
      },
      {
       "current": "06afe9a8-98b0-11ea-8d02-0242ac120007-6-a1c1-faf0-55bd-e63b-ccc9-d065",
       "next": "329a4046-dfad-11eb-b29f-0242ac120008-3-1375-d3b3-5102",
       "previous": "8a6e698e-6f14-11ee-89fa-0242ac120005-2-a9bf-36c5"
      },
      {
       "current": "06afe9a8-98b0-11ea-8d02-0242ac120007-7-a1c1-faf0-55bd-e63b-ccc9-d065-f71b",
       "next": "329a4046-dfad-11eb-b29f-0242ac120008-4-1375-d3b3-5102-d59c",
       "previous": "8a6e698e-6f14-11ee-89fa-0242ac120005-3-a9bf-36c5-d8fb"
      },
      {
       "current": "06afe9a8-98b0-11ea-8d02-0242ac120007-8-a1c1-faf0-55bd-e63b-ccc9-d065-f71b-b153",
       "next": "329a4046-dfad-11eb-b29f-0242ac120008-5-1375-d3b3-5102-d59c-ea8b",
       "previous": "8a6e698e-6f14-11ee-89fa-0242ac120005-4-a9bf-36c5-d8fb-bb59"
      }
     ],
     "next": "329a4046-dfad-11eb-b29f-0242ac120008-6-1375-d3b3-5102-d59c-ea8b-4fff",
     "previous": "8a6e698e-6f14-11ee-89fa-0242ac120005-5-a9bf-36c5-d8fb-bb59-45ef"
    }
   },
   "source": [
    "## デプロイされたCephノード情報の取得"
   ]
  },
  {
   "cell_type": "markdown",
   "metadata": {
    "lc_cell_meme": {
     "current": "329a4046-dfad-11eb-b29f-0242ac120008-6-1375-d3b3-5102-d59c-ea8b-4fff",
     "history": [
      {
       "current": "329a4046-dfad-11eb-b29f-0242ac120008-1-1375",
       "next": "329a4348-dfad-11eb-b29f-0242ac120008",
       "previous": "06afe9a8-98b0-11ea-8d02-0242ac120007-2-a1c1-faf0"
      },
      {
       "current": "329a4046-dfad-11eb-b29f-0242ac120008-1-1375",
       "next": "329a4348-dfad-11eb-b29f-0242ac120008-1-ed21",
       "previous": "06afe9a8-98b0-11ea-8d02-0242ac120007-3-a1c1-faf0-55bd"
      },
      {
       "current": "329a4046-dfad-11eb-b29f-0242ac120008-2-1375-d3b3",
       "next": "197c8f3e-6f15-11ee-89fa-0242ac120005",
       "previous": "06afe9a8-98b0-11ea-8d02-0242ac120007-3-a1c1-faf0-55bd"
      },
      {
       "current": "329a4046-dfad-11eb-b29f-0242ac120008-3-1375-d3b3-5102",
       "next": "197c8f3e-6f15-11ee-89fa-0242ac120005-1-35db",
       "previous": "06afe9a8-98b0-11ea-8d02-0242ac120007-4-a1c1-faf0-55bd-e63b"
      },
      {
       "current": "329a4046-dfad-11eb-b29f-0242ac120008-4-1375-d3b3-5102-d59c",
       "next": "197c8f3e-6f15-11ee-89fa-0242ac120005-2-35db-83db",
       "previous": "06afe9a8-98b0-11ea-8d02-0242ac120007-5-a1c1-faf0-55bd-e63b-ccc9"
      },
      {
       "current": "329a4046-dfad-11eb-b29f-0242ac120008-5-1375-d3b3-5102-d59c-ea8b",
       "next": "197c8f3e-6f15-11ee-89fa-0242ac120005-3-35db-83db-1f6c",
       "previous": "06afe9a8-98b0-11ea-8d02-0242ac120007-6-a1c1-faf0-55bd-e63b-ccc9-d065"
      },
      {
       "current": "329a4046-dfad-11eb-b29f-0242ac120008-6-1375-d3b3-5102-d59c-ea8b-4fff",
       "next": "197c8f3e-6f15-11ee-89fa-0242ac120005-4-35db-83db-1f6c-5b1e",
       "previous": "06afe9a8-98b0-11ea-8d02-0242ac120007-7-a1c1-faf0-55bd-e63b-ccc9-d065-f71b"
      }
     ],
     "next": "197c8f3e-6f15-11ee-89fa-0242ac120005-5-35db-83db-1f6c-5b1e-a4ff",
     "previous": "06afe9a8-98b0-11ea-8d02-0242ac120007-8-a1c1-faf0-55bd-e63b-ccc9-d065-f71b-b153"
    }
   },
   "source": [
    "ストレージノードを特定するにあたり、ノード名称が　ceph-nodexxx （xxxの部分は、右寄せ0埋めの数字3桁）というルールに従っていることを前提としている。<br>\n",
    " 例：ceph-node001<br>\n",
    " このノード名称ルールは、構築するCephクラスタ毎に変えるため、以下で定義する。"
   ]
  },
  {
   "cell_type": "code",
   "execution_count": null,
   "metadata": {
    "lc_cell_meme": {
     "current": "197c8f3e-6f15-11ee-89fa-0242ac120005-5-35db-83db-1f6c-5b1e-a4ff",
     "history": [
      {
       "current": "197c8f3e-6f15-11ee-89fa-0242ac120005-1-35db",
       "next": "329a4348-dfad-11eb-b29f-0242ac120008-1-ed21",
       "previous": "329a4046-dfad-11eb-b29f-0242ac120008-1-1375"
      },
      {
       "current": "197c8f3e-6f15-11ee-89fa-0242ac120005-2-35db-83db",
       "next": "329a4348-dfad-11eb-b29f-0242ac120008-2-ed21-367b",
       "previous": "329a4046-dfad-11eb-b29f-0242ac120008-2-1375-d3b3"
      },
      {
       "current": "197c8f3e-6f15-11ee-89fa-0242ac120005-3-35db-83db-1f6c",
       "next": "329a4348-dfad-11eb-b29f-0242ac120008-3-ed21-367b-1cff",
       "previous": "329a4046-dfad-11eb-b29f-0242ac120008-3-1375-d3b3-5102"
      },
      {
       "current": "197c8f3e-6f15-11ee-89fa-0242ac120005-4-35db-83db-1f6c-5b1e",
       "next": "329a4348-dfad-11eb-b29f-0242ac120008-4-ed21-367b-1cff-f47e",
       "previous": "329a4046-dfad-11eb-b29f-0242ac120008-4-1375-d3b3-5102-d59c"
      },
      {
       "current": "197c8f3e-6f15-11ee-89fa-0242ac120005-5-35db-83db-1f6c-5b1e-a4ff",
       "next": "329a4348-dfad-11eb-b29f-0242ac120008-5-ed21-367b-1cff-f47e-6c9f",
       "previous": "329a4046-dfad-11eb-b29f-0242ac120008-5-1375-d3b3-5102-d59c-ea8b"
      }
     ],
     "next": "329a4348-dfad-11eb-b29f-0242ac120008-6-ed21-367b-1cff-f47e-6c9f-932f",
     "previous": "329a4046-dfad-11eb-b29f-0242ac120008-6-1375-d3b3-5102-d59c-ea8b-4fff"
    }
   },
   "outputs": [],
   "source": [
    "# 初期化対象のインスタンス名称を設定する\n",
    "raise Exception('この先手作業が必要です')"
   ]
  },
  {
   "cell_type": "code",
   "execution_count": null,
   "metadata": {
    "lc_cell_meme": {
     "current": "329a4348-dfad-11eb-b29f-0242ac120008-6-ed21-367b-1cff-f47e-6c9f-932f",
     "history": [
      {
       "current": "329a4348-dfad-11eb-b29f-0242ac120008-1-ed21",
       "next": "04bfc54e-defc-11eb-b29f-0242ac120008",
       "previous": "329a4046-dfad-11eb-b29f-0242ac120008"
      },
      {
       "current": "329a4348-dfad-11eb-b29f-0242ac120008-1-ed21",
       "next": "04bfc54e-defc-11eb-b29f-0242ac120008-1-5336",
       "previous": "329a4046-dfad-11eb-b29f-0242ac120008-1-1375"
      },
      {
       "current": "329a4348-dfad-11eb-b29f-0242ac120008-2-ed21-367b",
       "next": "197c8ff2-6f15-11ee-89fa-0242ac120005",
       "previous": "197c8f3e-6f15-11ee-89fa-0242ac120005"
      },
      {
       "current": "329a4348-dfad-11eb-b29f-0242ac120008-3-ed21-367b-1cff",
       "next": "197c8ff2-6f15-11ee-89fa-0242ac120005-1-635d",
       "previous": "197c8f3e-6f15-11ee-89fa-0242ac120005-1-35db"
      },
      {
       "current": "329a4348-dfad-11eb-b29f-0242ac120008-4-ed21-367b-1cff-f47e",
       "next": "197c8ff2-6f15-11ee-89fa-0242ac120005-2-635d-cc18",
       "previous": "197c8f3e-6f15-11ee-89fa-0242ac120005-2-35db-83db"
      },
      {
       "current": "329a4348-dfad-11eb-b29f-0242ac120008-5-ed21-367b-1cff-f47e-6c9f",
       "next": "197c8ff2-6f15-11ee-89fa-0242ac120005-3-635d-cc18-ea16",
       "previous": "197c8f3e-6f15-11ee-89fa-0242ac120005-3-35db-83db-1f6c"
      },
      {
       "current": "329a4348-dfad-11eb-b29f-0242ac120008-6-ed21-367b-1cff-f47e-6c9f-932f",
       "next": "197c8ff2-6f15-11ee-89fa-0242ac120005-4-635d-cc18-ea16-3b81",
       "previous": "197c8f3e-6f15-11ee-89fa-0242ac120005-4-35db-83db-1f6c-5b1e"
      }
     ],
     "next": "197c8ff2-6f15-11ee-89fa-0242ac120005-5-635d-cc18-ea16-3b81-6e1c",
     "previous": "197c8f3e-6f15-11ee-89fa-0242ac120005-5-35db-83db-1f6c-5b1e-a4ff"
    }
   },
   "outputs": [],
   "source": [
    "import pandas as pd\n",
    "import re\n",
    "\n",
    "# 対象インスタンス名称マッチングルール\n",
    "name_match_rule = r'ceph-xxx-node-[0-9]+'"
   ]
  },
  {
   "cell_type": "markdown",
   "metadata": {
    "heading_collapsed": true,
    "lc_cell_meme": {
     "current": "197c8ff2-6f15-11ee-89fa-0242ac120005-5-635d-cc18-ea16-3b81-6e1c",
     "history": [
      {
       "current": "197c8ff2-6f15-11ee-89fa-0242ac120005-1-635d",
       "next": "197c9024-6f15-11ee-89fa-0242ac120005",
       "previous": "329a4348-dfad-11eb-b29f-0242ac120008-1-ed21"
      },
      {
       "current": "197c8ff2-6f15-11ee-89fa-0242ac120005-2-635d-cc18",
       "next": "197c9024-6f15-11ee-89fa-0242ac120005-1-9461",
       "previous": "329a4348-dfad-11eb-b29f-0242ac120008-2-ed21-367b"
      },
      {
       "current": "197c8ff2-6f15-11ee-89fa-0242ac120005-3-635d-cc18-ea16",
       "next": "197c9024-6f15-11ee-89fa-0242ac120005-2-9461-6001",
       "previous": "329a4348-dfad-11eb-b29f-0242ac120008-3-ed21-367b-1cff"
      },
      {
       "current": "197c8ff2-6f15-11ee-89fa-0242ac120005-4-635d-cc18-ea16-3b81",
       "next": "197c9024-6f15-11ee-89fa-0242ac120005-3-9461-6001-4a17",
       "previous": "329a4348-dfad-11eb-b29f-0242ac120008-4-ed21-367b-1cff-f47e"
      },
      {
       "current": "197c8ff2-6f15-11ee-89fa-0242ac120005-5-635d-cc18-ea16-3b81-6e1c",
       "next": "197c9024-6f15-11ee-89fa-0242ac120005-4-9461-6001-4a17-ff01",
       "previous": "329a4348-dfad-11eb-b29f-0242ac120008-5-ed21-367b-1cff-f47e-6c9f"
      }
     ],
     "next": "197c9024-6f15-11ee-89fa-0242ac120005-5-9461-6001-4a17-ff01-ce06",
     "previous": "329a4348-dfad-11eb-b29f-0242ac120008-6-ed21-367b-1cff-f47e-6c9f-932f"
    }
   },
   "source": [
    "## OpenStack Ironicからノード情報の取得"
   ]
  },
  {
   "cell_type": "code",
   "execution_count": null,
   "metadata": {
    "hidden": true,
    "lc_cell_meme": {
     "current": "197c9024-6f15-11ee-89fa-0242ac120005-5-9461-6001-4a17-ff01-ce06",
     "history": [
      {
       "current": "197c9024-6f15-11ee-89fa-0242ac120005-1-9461",
       "next": "197c904c-6f15-11ee-89fa-0242ac120005",
       "previous": "197c8ff2-6f15-11ee-89fa-0242ac120005"
      },
      {
       "current": "197c9024-6f15-11ee-89fa-0242ac120005-2-9461-6001",
       "next": "197c904c-6f15-11ee-89fa-0242ac120005-1-b1b1",
       "previous": "197c8ff2-6f15-11ee-89fa-0242ac120005-1-635d"
      },
      {
       "current": "197c9024-6f15-11ee-89fa-0242ac120005-3-9461-6001-4a17",
       "next": "197c904c-6f15-11ee-89fa-0242ac120005-2-b1b1-bb2c",
       "previous": "197c8ff2-6f15-11ee-89fa-0242ac120005-2-635d-cc18"
      },
      {
       "current": "197c9024-6f15-11ee-89fa-0242ac120005-4-9461-6001-4a17-ff01",
       "next": "197c904c-6f15-11ee-89fa-0242ac120005-3-b1b1-bb2c-ed7f",
       "previous": "197c8ff2-6f15-11ee-89fa-0242ac120005-3-635d-cc18-ea16"
      },
      {
       "current": "197c9024-6f15-11ee-89fa-0242ac120005-5-9461-6001-4a17-ff01-ce06",
       "next": "197c904c-6f15-11ee-89fa-0242ac120005-4-b1b1-bb2c-ed7f-786d",
       "previous": "197c8ff2-6f15-11ee-89fa-0242ac120005-4-635d-cc18-ea16-3b81"
      }
     ],
     "next": "197c904c-6f15-11ee-89fa-0242ac120005-5-b1b1-bb2c-ed7f-786d-a3ca",
     "previous": "197c8ff2-6f15-11ee-89fa-0242ac120005-5-635d-cc18-ea16-3b81-6e1c"
    }
   },
   "outputs": [],
   "source": [
    "cmd = \"openstack baremetal node list -f json --long\"\n",
    "nodes = run_openstack(cmd)"
   ]
  },
  {
   "cell_type": "code",
   "execution_count": null,
   "metadata": {
    "hidden": true,
    "lc_cell_meme": {
     "current": "197c904c-6f15-11ee-89fa-0242ac120005-5-b1b1-bb2c-ed7f-786d-a3ca",
     "history": [
      {
       "current": "197c904c-6f15-11ee-89fa-0242ac120005-1-b1b1",
       "next": "197c906a-6f15-11ee-89fa-0242ac120005",
       "previous": "197c9024-6f15-11ee-89fa-0242ac120005"
      },
      {
       "current": "197c904c-6f15-11ee-89fa-0242ac120005-2-b1b1-bb2c",
       "next": "197c906a-6f15-11ee-89fa-0242ac120005-1-8086",
       "previous": "197c9024-6f15-11ee-89fa-0242ac120005-1-9461"
      },
      {
       "current": "197c904c-6f15-11ee-89fa-0242ac120005-3-b1b1-bb2c-ed7f",
       "next": "197c906a-6f15-11ee-89fa-0242ac120005-2-8086-6373",
       "previous": "197c9024-6f15-11ee-89fa-0242ac120005-2-9461-6001"
      },
      {
       "current": "197c904c-6f15-11ee-89fa-0242ac120005-4-b1b1-bb2c-ed7f-786d",
       "next": "197c906a-6f15-11ee-89fa-0242ac120005-3-8086-6373-dc8f",
       "previous": "197c9024-6f15-11ee-89fa-0242ac120005-3-9461-6001-4a17"
      },
      {
       "current": "197c904c-6f15-11ee-89fa-0242ac120005-5-b1b1-bb2c-ed7f-786d-a3ca",
       "next": "197c906a-6f15-11ee-89fa-0242ac120005-4-8086-6373-dc8f-1e78",
       "previous": "197c9024-6f15-11ee-89fa-0242ac120005-4-9461-6001-4a17-ff01"
      }
     ],
     "next": "197c906a-6f15-11ee-89fa-0242ac120005-5-8086-6373-dc8f-1e78-bca8",
     "previous": "197c9024-6f15-11ee-89fa-0242ac120005-5-9461-6001-4a17-ff01-ce06"
    }
   },
   "outputs": [],
   "source": [
    "import pandas as pd\n",
    "import re\n",
    "\n",
    "for node in nodes:\n",
    "    instance_uuid = node.get(\"Instance UUID\", None)\n",
    "    if instance_uuid is None:\n",
    "        continue\n",
    "        \n",
    "    node[\"instance_name\"] = node[\"Instance Info\"][\"display_name\"]\n",
    "\n",
    "pd.set_option('display.max_rows', None)\n",
    "pd.DataFrame(nodes, columns=['Instance UUID', 'instance_name', 'UUID', 'Maintenance', 'Provisioning State', 'Power State', 'Name'])"
   ]
  },
  {
   "cell_type": "code",
   "execution_count": null,
   "metadata": {
    "hidden": true,
    "lc_cell_meme": {
     "current": "197c906a-6f15-11ee-89fa-0242ac120005-5-8086-6373-dc8f-1e78-bca8",
     "history": [
      {
       "current": "197c906a-6f15-11ee-89fa-0242ac120005-1-8086",
       "next": "197c9092-6f15-11ee-89fa-0242ac120005",
       "previous": "197c904c-6f15-11ee-89fa-0242ac120005"
      },
      {
       "current": "197c906a-6f15-11ee-89fa-0242ac120005-2-8086-6373",
       "next": "197c9092-6f15-11ee-89fa-0242ac120005-1-9c4b",
       "previous": "197c904c-6f15-11ee-89fa-0242ac120005-1-b1b1"
      },
      {
       "current": "197c906a-6f15-11ee-89fa-0242ac120005-3-8086-6373-dc8f",
       "next": "197c9092-6f15-11ee-89fa-0242ac120005-2-9c4b-294e",
       "previous": "197c904c-6f15-11ee-89fa-0242ac120005-2-b1b1-bb2c"
      },
      {
       "current": "197c906a-6f15-11ee-89fa-0242ac120005-4-8086-6373-dc8f-1e78",
       "next": "197c9092-6f15-11ee-89fa-0242ac120005-3-9c4b-294e-0b35",
       "previous": "197c904c-6f15-11ee-89fa-0242ac120005-3-b1b1-bb2c-ed7f"
      },
      {
       "current": "197c906a-6f15-11ee-89fa-0242ac120005-5-8086-6373-dc8f-1e78-bca8",
       "next": "197c9092-6f15-11ee-89fa-0242ac120005-4-9c4b-294e-0b35-7cd9",
       "previous": "197c904c-6f15-11ee-89fa-0242ac120005-4-b1b1-bb2c-ed7f-786d"
      }
     ],
     "next": "197c9092-6f15-11ee-89fa-0242ac120005-5-9c4b-294e-0b35-7cd9-c3ef",
     "previous": "197c904c-6f15-11ee-89fa-0242ac120005-5-b1b1-bb2c-ed7f-786d-a3ca"
    }
   },
   "outputs": [],
   "source": [
    "cmd = \"openstack server list -f json --long\"\n",
    "nova_server_map = run_openstack(cmd)"
   ]
  },
  {
   "cell_type": "code",
   "execution_count": null,
   "metadata": {
    "hidden": true,
    "lc_cell_meme": {
     "current": "197c9092-6f15-11ee-89fa-0242ac120005-5-9c4b-294e-0b35-7cd9-c3ef",
     "history": [
      {
       "current": "197c9092-6f15-11ee-89fa-0242ac120005-1-9c4b",
       "next": "06afec50-98b0-11ea-8d02-0242ac120007-3-5828-a305-b690",
       "previous": "197c906a-6f15-11ee-89fa-0242ac120005"
      },
      {
       "current": "197c9092-6f15-11ee-89fa-0242ac120005-2-9c4b-294e",
       "next": "06afec50-98b0-11ea-8d02-0242ac120007-4-5828-a305-b690-cbc6",
       "previous": "197c906a-6f15-11ee-89fa-0242ac120005-1-8086"
      },
      {
       "current": "197c9092-6f15-11ee-89fa-0242ac120005-3-9c4b-294e-0b35",
       "next": "06afec50-98b0-11ea-8d02-0242ac120007-5-5828-a305-b690-cbc6-59fc",
       "previous": "197c906a-6f15-11ee-89fa-0242ac120005-2-8086-6373"
      },
      {
       "current": "197c9092-6f15-11ee-89fa-0242ac120005-4-9c4b-294e-0b35-7cd9",
       "next": "06afec50-98b0-11ea-8d02-0242ac120007-6-5828-a305-b690-cbc6-59fc-48b2",
       "previous": "197c906a-6f15-11ee-89fa-0242ac120005-3-8086-6373-dc8f"
      },
      {
       "current": "197c9092-6f15-11ee-89fa-0242ac120005-5-9c4b-294e-0b35-7cd9-c3ef",
       "next": "06afec50-98b0-11ea-8d02-0242ac120007-7-5828-a305-b690-cbc6-59fc-48b2-b502",
       "previous": "197c906a-6f15-11ee-89fa-0242ac120005-4-8086-6373-dc8f-1e78"
      }
     ],
     "next": "06afec50-98b0-11ea-8d02-0242ac120007-8-5828-a305-b690-cbc6-59fc-48b2-b502-844b",
     "previous": "197c906a-6f15-11ee-89fa-0242ac120005-5-8086-6373-dc8f-1e78-bca8"
    }
   },
   "outputs": [],
   "source": [
    "node_list = []\n",
    "for server in nova_server_map:\n",
    "    node_id = server['ID']\n",
    "    if re.match(name_match_rule, server['Name']) is None:\n",
    "        continue\n",
    "    for node in nodes:\n",
    "        if node['Instance UUID'] == node_id:\n",
    "            node_info = {}\n",
    "            node_list.append(node_info)\n",
    "            node_info['name'] = server['Name']\n",
    "            node_info['node_name'] = node['Name']\n",
    "            instance_ip_info = instance_ip_map.get(server['Name'], None)\n",
    "            if instance_ip_info is not None:\n",
    "                node_info['instance_ip'] = instance_ip_info.get('ipv4', None)\n",
    "            else:\n",
    "                node_info['instance_ip'] = None\n",
    "            address = server['Networks']\n",
    "            prov_net = address['provisioning-net']\n",
    "            for addr in prov_net:\n",
    "                node_info['prov_ip'] = addr\n",
    "\n",
    "pd.DataFrame(node_list)"
   ]
  },
  {
   "cell_type": "markdown",
   "metadata": {
    "lc_cell_meme": {
     "current": "06afec50-98b0-11ea-8d02-0242ac120007-8-5828-a305-b690-cbc6-59fc-48b2-b502-844b",
     "history": [
      {
       "current": "06afec50-98b0-11ea-8d02-0242ac120007-1-5828",
       "next": "8a48d590-98a1-11ea-8d02-0242ac120007",
       "previous": "357fc83a-969d-11ea-8d02-0242ac120007"
      },
      {
       "current": "06afec50-98b0-11ea-8d02-0242ac120007-2-5828-a305",
       "next": "8a48d590-98a1-11ea-8d02-0242ac120007-1-1c0f",
       "previous": "357fc83a-969d-11ea-8d02-0242ac120007-1-9a36"
      },
      {
       "current": "06afec50-98b0-11ea-8d02-0242ac120007-3-5828-a305-b690",
       "next": "8a48d590-98a1-11ea-8d02-0242ac120007-2-1c0f-5b25",
       "previous": "357fc83a-969d-11ea-8d02-0242ac120007-2-9a36-95b8"
      },
      {
       "current": "06afec50-98b0-11ea-8d02-0242ac120007-3-5828-a305-b690",
       "next": "8a48d590-98a1-11ea-8d02-0242ac120007-3-1c0f-5b25-d7c0",
       "previous": "357fc83a-969d-11ea-8d02-0242ac120007-3-9a36-95b8-3fa9"
      },
      {
       "current": "06afec50-98b0-11ea-8d02-0242ac120007-4-5828-a305-b690-cbc6",
       "next": "8a48d590-98a1-11ea-8d02-0242ac120007-3-1c0f-5b25-d7c0",
       "previous": "197c9092-6f15-11ee-89fa-0242ac120005"
      },
      {
       "current": "06afec50-98b0-11ea-8d02-0242ac120007-5-5828-a305-b690-cbc6-59fc",
       "next": "8a48d590-98a1-11ea-8d02-0242ac120007-4-1c0f-5b25-d7c0-d970",
       "previous": "197c9092-6f15-11ee-89fa-0242ac120005-1-9c4b"
      },
      {
       "current": "06afec50-98b0-11ea-8d02-0242ac120007-6-5828-a305-b690-cbc6-59fc-48b2",
       "next": "8a48d590-98a1-11ea-8d02-0242ac120007-5-1c0f-5b25-d7c0-d970-6a95",
       "previous": "197c9092-6f15-11ee-89fa-0242ac120005-2-9c4b-294e"
      },
      {
       "current": "06afec50-98b0-11ea-8d02-0242ac120007-7-5828-a305-b690-cbc6-59fc-48b2-b502",
       "next": "8a48d590-98a1-11ea-8d02-0242ac120007-6-1c0f-5b25-d7c0-d970-6a95-0c51",
       "previous": "197c9092-6f15-11ee-89fa-0242ac120005-3-9c4b-294e-0b35"
      },
      {
       "current": "06afec50-98b0-11ea-8d02-0242ac120007-8-5828-a305-b690-cbc6-59fc-48b2-b502-844b",
       "next": "8a48d590-98a1-11ea-8d02-0242ac120007-7-1c0f-5b25-d7c0-d970-6a95-0c51-1ef0",
       "previous": "197c9092-6f15-11ee-89fa-0242ac120005-4-9c4b-294e-0b35-7cd9"
      }
     ],
     "next": "8a48d590-98a1-11ea-8d02-0242ac120007-8-1c0f-5b25-d7c0-d970-6a95-0c51-1ef0-216d",
     "previous": "197c9092-6f15-11ee-89fa-0242ac120005-5-9c4b-294e-0b35-7cd9-c3ef"
    }
   },
   "source": [
    "## 登録対象Cephノード情報の取得"
   ]
  },
  {
   "cell_type": "markdown",
   "metadata": {
    "lc_cell_meme": {
     "current": "8a48d590-98a1-11ea-8d02-0242ac120007-8-1c0f-5b25-d7c0-d970-6a95-0c51-1ef0-216d",
     "history": [
      {
       "current": "8a48d590-98a1-11ea-8d02-0242ac120007",
       "next": "8a48d90a-98a1-11ea-8d02-0242ac120007",
       "previous": "357fc83a-969d-11ea-8d02-0242ac120007"
      },
      {
       "current": "8a48d590-98a1-11ea-8d02-0242ac120007",
       "next": "8a48d90a-98a1-11ea-8d02-0242ac120007",
       "previous": "06afec50-98b0-11ea-8d02-0242ac120007"
      },
      {
       "current": "8a48d590-98a1-11ea-8d02-0242ac120007",
       "next": "a85c1dda-959a-11ea-8d02-0242ac120007",
       "previous": "06afec50-98b0-11ea-8d02-0242ac120007"
      },
      {
       "current": "8a48d590-98a1-11ea-8d02-0242ac120007-1-1c0f",
       "next": "e879cdac-95bf-11ea-8d02-0242ac120007",
       "previous": "06afec50-98b0-11ea-8d02-0242ac120007"
      },
      {
       "current": "8a48d590-98a1-11ea-8d02-0242ac120007-2-1c0f-5b25",
       "next": "e879cdac-95bf-11ea-8d02-0242ac120007-1-4a2c",
       "previous": "06afec50-98b0-11ea-8d02-0242ac120007-1-5828"
      },
      {
       "current": "8a48d590-98a1-11ea-8d02-0242ac120007-3-1c0f-5b25-d7c0",
       "next": "e879cdac-95bf-11ea-8d02-0242ac120007-2-4a2c-6b2f",
       "previous": "06afec50-98b0-11ea-8d02-0242ac120007-2-5828-a305"
      },
      {
       "current": "8a48d590-98a1-11ea-8d02-0242ac120007-4-1c0f-5b25-d7c0-d970",
       "next": "e879cdac-95bf-11ea-8d02-0242ac120007-3-4a2c-6b2f-958d",
       "previous": "06afec50-98b0-11ea-8d02-0242ac120007-3-5828-a305-b690"
      },
      {
       "current": "8a48d590-98a1-11ea-8d02-0242ac120007-5-1c0f-5b25-d7c0-d970-6a95",
       "next": "e879cdac-95bf-11ea-8d02-0242ac120007-4-4a2c-6b2f-958d-2b72",
       "previous": "06afec50-98b0-11ea-8d02-0242ac120007-4-5828-a305-b690-cbc6"
      },
      {
       "current": "8a48d590-98a1-11ea-8d02-0242ac120007-6-1c0f-5b25-d7c0-d970-6a95-0c51",
       "next": "e879cdac-95bf-11ea-8d02-0242ac120007-5-4a2c-6b2f-958d-2b72-dc66",
       "previous": "06afec50-98b0-11ea-8d02-0242ac120007-5-5828-a305-b690-cbc6-59fc"
      },
      {
       "current": "8a48d590-98a1-11ea-8d02-0242ac120007-7-1c0f-5b25-d7c0-d970-6a95-0c51-1ef0",
       "next": "e879cdac-95bf-11ea-8d02-0242ac120007-6-4a2c-6b2f-958d-2b72-dc66-5350",
       "previous": "06afec50-98b0-11ea-8d02-0242ac120007-6-5828-a305-b690-cbc6-59fc-48b2"
      },
      {
       "current": "8a48d590-98a1-11ea-8d02-0242ac120007-8-1c0f-5b25-d7c0-d970-6a95-0c51-1ef0-216d",
       "next": "e879cdac-95bf-11ea-8d02-0242ac120007-7-4a2c-6b2f-958d-2b72-dc66-5350-5017",
       "previous": "06afec50-98b0-11ea-8d02-0242ac120007-7-5828-a305-b690-cbc6-59fc-48b2-b502"
      }
     ],
     "next": "e879cdac-95bf-11ea-8d02-0242ac120007-8-4a2c-6b2f-958d-2b72-dc66-5350-5017-8813",
     "previous": "06afec50-98b0-11ea-8d02-0242ac120007-8-5828-a305-b690-cbc6-59fc-48b2-b502-844b"
    }
   },
   "source": [
    "初期化対象のインスタンス名称を設定する"
   ]
  },
  {
   "cell_type": "code",
   "execution_count": null,
   "metadata": {
    "lc_cell_meme": {
     "current": "e879cdac-95bf-11ea-8d02-0242ac120007-8-4a2c-6b2f-958d-2b72-dc66-5350-5017-8813",
     "history": [
      {
       "current": "e879cdac-95bf-11ea-8d02-0242ac120007",
       "next": "81dd4f74-9597-11ea-8d02-0242ac120007",
       "previous": "d1bcb8ac-9599-11ea-8d02-0242ac120007"
      },
      {
       "current": "e879cdac-95bf-11ea-8d02-0242ac120007",
       "next": "81dd4f74-9597-11ea-8d02-0242ac120007",
       "previous": "a85c1dda-959a-11ea-8d02-0242ac120007"
      },
      {
       "current": "e879cdac-95bf-11ea-8d02-0242ac120007",
       "next": "8a48d90a-98a1-11ea-8d02-0242ac120007",
       "previous": "a85c1dda-959a-11ea-8d02-0242ac120007"
      },
      {
       "current": "e879cdac-95bf-11ea-8d02-0242ac120007-1-4a2c",
       "next": "8a48d90a-98a1-11ea-8d02-0242ac120007",
       "previous": "8a48d590-98a1-11ea-8d02-0242ac120007"
      },
      {
       "current": "e879cdac-95bf-11ea-8d02-0242ac120007-2-4a2c-6b2f",
       "next": "8a48d90a-98a1-11ea-8d02-0242ac120007-1-0ebc",
       "previous": "8a48d590-98a1-11ea-8d02-0242ac120007-1-1c0f"
      },
      {
       "current": "e879cdac-95bf-11ea-8d02-0242ac120007-2-4a2c-6b2f",
       "next": "8a48d90a-98a1-11ea-8d02-0242ac120007-2-0ebc-93ac",
       "previous": "8a48d590-98a1-11ea-8d02-0242ac120007-2-1c0f-5b25"
      },
      {
       "current": "e879cdac-95bf-11ea-8d02-0242ac120007-3-4a2c-6b2f-958d",
       "next": "809aa1e6-def9-11eb-b29f-0242ac120008",
       "previous": "8a48d590-98a1-11ea-8d02-0242ac120007-2-1c0f-5b25"
      },
      {
       "current": "e879cdac-95bf-11ea-8d02-0242ac120007-4-4a2c-6b2f-958d-2b72",
       "next": "809aa1e6-def9-11eb-b29f-0242ac120008-1-b49e",
       "previous": "8a48d590-98a1-11ea-8d02-0242ac120007-3-1c0f-5b25-d7c0"
      },
      {
       "current": "e879cdac-95bf-11ea-8d02-0242ac120007-5-4a2c-6b2f-958d-2b72-dc66",
       "next": "809aa1e6-def9-11eb-b29f-0242ac120008-2-b49e-a164",
       "previous": "8a48d590-98a1-11ea-8d02-0242ac120007-4-1c0f-5b25-d7c0-d970"
      },
      {
       "current": "e879cdac-95bf-11ea-8d02-0242ac120007-6-4a2c-6b2f-958d-2b72-dc66-5350",
       "next": "809aa1e6-def9-11eb-b29f-0242ac120008-3-b49e-a164-8244",
       "previous": "8a48d590-98a1-11ea-8d02-0242ac120007-5-1c0f-5b25-d7c0-d970-6a95"
      },
      {
       "current": "e879cdac-95bf-11ea-8d02-0242ac120007-7-4a2c-6b2f-958d-2b72-dc66-5350-5017",
       "next": "809aa1e6-def9-11eb-b29f-0242ac120008-4-b49e-a164-8244-8b68",
       "previous": "8a48d590-98a1-11ea-8d02-0242ac120007-6-1c0f-5b25-d7c0-d970-6a95-0c51"
      },
      {
       "current": "e879cdac-95bf-11ea-8d02-0242ac120007-8-4a2c-6b2f-958d-2b72-dc66-5350-5017-8813",
       "next": "809aa1e6-def9-11eb-b29f-0242ac120008-5-b49e-a164-8244-8b68-e78c",
       "previous": "8a48d590-98a1-11ea-8d02-0242ac120007-7-1c0f-5b25-d7c0-d970-6a95-0c51-1ef0"
      }
     ],
     "next": "809aa1e6-def9-11eb-b29f-0242ac120008-6-b49e-a164-8244-8b68-e78c-086c",
     "previous": "8a48d590-98a1-11ea-8d02-0242ac120007-8-1c0f-5b25-d7c0-d970-6a95-0c51-1ef0-216d"
    },
    "scrolled": true
   },
   "outputs": [],
   "source": [
    "# 初期化対象のインスタンス名称を設定する\n",
    "raise Exception('この先手作業が必要です')"
   ]
  },
  {
   "cell_type": "markdown",
   "metadata": {
    "lc_cell_meme": {
     "current": "809aa1e6-def9-11eb-b29f-0242ac120008-6-b49e-a164-8244-8b68-e78c-086c",
     "history": [
      {
       "current": "809aa1e6-def9-11eb-b29f-0242ac120008-1-b49e",
       "next": "8a48d90a-98a1-11ea-8d02-0242ac120007-2-0ebc-93ac",
       "previous": "e879cdac-95bf-11ea-8d02-0242ac120007-2-4a2c-6b2f"
      },
      {
       "current": "809aa1e6-def9-11eb-b29f-0242ac120008-2-b49e-a164",
       "next": "8a48d90a-98a1-11ea-8d02-0242ac120007-3-0ebc-93ac-04b4",
       "previous": "e879cdac-95bf-11ea-8d02-0242ac120007-3-4a2c-6b2f-958d"
      },
      {
       "current": "809aa1e6-def9-11eb-b29f-0242ac120008-3-b49e-a164-8244",
       "next": "8a48d90a-98a1-11ea-8d02-0242ac120007-4-0ebc-93ac-04b4-2c68",
       "previous": "e879cdac-95bf-11ea-8d02-0242ac120007-4-4a2c-6b2f-958d-2b72"
      },
      {
       "current": "809aa1e6-def9-11eb-b29f-0242ac120008-4-b49e-a164-8244-8b68",
       "next": "8a48d90a-98a1-11ea-8d02-0242ac120007-5-0ebc-93ac-04b4-2c68-8ac7",
       "previous": "e879cdac-95bf-11ea-8d02-0242ac120007-5-4a2c-6b2f-958d-2b72-dc66"
      },
      {
       "current": "809aa1e6-def9-11eb-b29f-0242ac120008-5-b49e-a164-8244-8b68-e78c",
       "next": "8a48d90a-98a1-11ea-8d02-0242ac120007-6-0ebc-93ac-04b4-2c68-8ac7-12c0",
       "previous": "e879cdac-95bf-11ea-8d02-0242ac120007-6-4a2c-6b2f-958d-2b72-dc66-5350"
      },
      {
       "current": "809aa1e6-def9-11eb-b29f-0242ac120008-6-b49e-a164-8244-8b68-e78c-086c",
       "next": "8a48d90a-98a1-11ea-8d02-0242ac120007-7-0ebc-93ac-04b4-2c68-8ac7-12c0-cfc2",
       "previous": "e879cdac-95bf-11ea-8d02-0242ac120007-7-4a2c-6b2f-958d-2b72-dc66-5350-5017"
      }
     ],
     "next": "8a48d90a-98a1-11ea-8d02-0242ac120007-8-0ebc-93ac-04b4-2c68-8ac7-12c0-cfc2-1703",
     "previous": "e879cdac-95bf-11ea-8d02-0242ac120007-8-4a2c-6b2f-958d-2b72-dc66-5350-5017-8813"
    }
   },
   "source": [
    "### 初期化対象ノードの指定"
   ]
  },
  {
   "cell_type": "code",
   "execution_count": null,
   "metadata": {
    "lc_cell_meme": {
     "current": "8a48d90a-98a1-11ea-8d02-0242ac120007-8-0ebc-93ac-04b4-2c68-8ac7-12c0-cfc2-1703",
     "history": [
      {
       "current": "8a48d90a-98a1-11ea-8d02-0242ac120007",
       "next": "8a48dae0-98a1-11ea-8d02-0242ac120007",
       "previous": "8a48d590-98a1-11ea-8d02-0242ac120007"
      },
      {
       "current": "8a48d90a-98a1-11ea-8d02-0242ac120007-1-0ebc",
       "next": "8a48dae0-98a1-11ea-8d02-0242ac120007",
       "previous": "e879cdac-95bf-11ea-8d02-0242ac120007"
      },
      {
       "current": "8a48d90a-98a1-11ea-8d02-0242ac120007-2-0ebc-93ac",
       "next": "8a48dae0-98a1-11ea-8d02-0242ac120007-1-4da2",
       "previous": "e879cdac-95bf-11ea-8d02-0242ac120007-1-4a2c"
      },
      {
       "current": "8a48d90a-98a1-11ea-8d02-0242ac120007-2-0ebc-93ac",
       "next": "8a48dae0-98a1-11ea-8d02-0242ac120007-2-4da2-9c77",
       "previous": "e879cdac-95bf-11ea-8d02-0242ac120007-2-4a2c-6b2f"
      },
      {
       "current": "8a48d90a-98a1-11ea-8d02-0242ac120007-3-0ebc-93ac-04b4",
       "next": "8a48dae0-98a1-11ea-8d02-0242ac120007-2-4da2-9c77",
       "previous": "809aa1e6-def9-11eb-b29f-0242ac120008"
      },
      {
       "current": "8a48d90a-98a1-11ea-8d02-0242ac120007-3-0ebc-93ac-04b4",
       "next": "8a48dae0-98a1-11ea-8d02-0242ac120007-3-4da2-9c77-127e",
       "previous": "809aa1e6-def9-11eb-b29f-0242ac120008-1-b49e"
      },
      {
       "current": "8a48d90a-98a1-11ea-8d02-0242ac120007-4-0ebc-93ac-04b4-2c68",
       "next": "bb3e251e-61bc-11ee-89fa-0242ac120005",
       "previous": "809aa1e6-def9-11eb-b29f-0242ac120008-1-b49e"
      },
      {
       "current": "8a48d90a-98a1-11ea-8d02-0242ac120007-5-0ebc-93ac-04b4-2c68-8ac7",
       "next": "bb3e251e-61bc-11ee-89fa-0242ac120005-1-ba05",
       "previous": "809aa1e6-def9-11eb-b29f-0242ac120008-2-b49e-a164"
      },
      {
       "current": "8a48d90a-98a1-11ea-8d02-0242ac120007-6-0ebc-93ac-04b4-2c68-8ac7-12c0",
       "next": "bb3e251e-61bc-11ee-89fa-0242ac120005-2-ba05-7ecc",
       "previous": "809aa1e6-def9-11eb-b29f-0242ac120008-3-b49e-a164-8244"
      },
      {
       "current": "8a48d90a-98a1-11ea-8d02-0242ac120007-7-0ebc-93ac-04b4-2c68-8ac7-12c0-cfc2",
       "next": "bb3e251e-61bc-11ee-89fa-0242ac120005-3-ba05-7ecc-b740",
       "previous": "809aa1e6-def9-11eb-b29f-0242ac120008-4-b49e-a164-8244-8b68"
      },
      {
       "current": "8a48d90a-98a1-11ea-8d02-0242ac120007-8-0ebc-93ac-04b4-2c68-8ac7-12c0-cfc2-1703",
       "next": "bb3e251e-61bc-11ee-89fa-0242ac120005-4-ba05-7ecc-b740-e4c7",
       "previous": "809aa1e6-def9-11eb-b29f-0242ac120008-5-b49e-a164-8244-8b68-e78c"
      }
     ],
     "next": "bb3e251e-61bc-11ee-89fa-0242ac120005-5-ba05-7ecc-b740-e4c7-e8ac",
     "previous": "809aa1e6-def9-11eb-b29f-0242ac120008-6-b49e-a164-8244-8b68-e78c-086c"
    }
   },
   "outputs": [],
   "source": [
    "# bootstrapノードを除いた、対象ノードを指定\n",
    "target_name_list = ['ceph-xxx-node-002','ceph-xxx-node-003','ceph-xxx-node-004','ceph-xxx-node-005','ceph-xxx-node-006','ceph-xxx-node-007']"
   ]
  },
  {
   "cell_type": "code",
   "execution_count": null,
   "metadata": {
    "lc_cell_meme": {
     "current": "bb3e251e-61bc-11ee-89fa-0242ac120005-5-ba05-7ecc-b740-e4c7-e8ac",
     "history": [
      {
       "current": "bb3e251e-61bc-11ee-89fa-0242ac120005-1-ba05",
       "next": "8a48dae0-98a1-11ea-8d02-0242ac120007-3-4da2-9c77-127e",
       "previous": "8a48d90a-98a1-11ea-8d02-0242ac120007-3-0ebc-93ac-04b4"
      },
      {
       "current": "bb3e251e-61bc-11ee-89fa-0242ac120005-2-ba05-7ecc",
       "next": "8a48dae0-98a1-11ea-8d02-0242ac120007-4-4da2-9c77-127e-3197",
       "previous": "8a48d90a-98a1-11ea-8d02-0242ac120007-4-0ebc-93ac-04b4-2c68"
      },
      {
       "current": "bb3e251e-61bc-11ee-89fa-0242ac120005-3-ba05-7ecc-b740",
       "next": "8a48dae0-98a1-11ea-8d02-0242ac120007-5-4da2-9c77-127e-3197-8aeb",
       "previous": "8a48d90a-98a1-11ea-8d02-0242ac120007-5-0ebc-93ac-04b4-2c68-8ac7"
      },
      {
       "current": "bb3e251e-61bc-11ee-89fa-0242ac120005-4-ba05-7ecc-b740-e4c7",
       "next": "8a48dae0-98a1-11ea-8d02-0242ac120007-6-4da2-9c77-127e-3197-8aeb-a420",
       "previous": "8a48d90a-98a1-11ea-8d02-0242ac120007-6-0ebc-93ac-04b4-2c68-8ac7-12c0"
      },
      {
       "current": "bb3e251e-61bc-11ee-89fa-0242ac120005-5-ba05-7ecc-b740-e4c7-e8ac",
       "next": "8a48dae0-98a1-11ea-8d02-0242ac120007-7-4da2-9c77-127e-3197-8aeb-a420-392c",
       "previous": "8a48d90a-98a1-11ea-8d02-0242ac120007-7-0ebc-93ac-04b4-2c68-8ac7-12c0-cfc2"
      }
     ],
     "next": "8a48dae0-98a1-11ea-8d02-0242ac120007-8-4da2-9c77-127e-3197-8aeb-a420-392c-d595",
     "previous": "8a48d90a-98a1-11ea-8d02-0242ac120007-8-0ebc-93ac-04b4-2c68-8ac7-12c0-cfc2-1703"
    }
   },
   "outputs": [],
   "source": [
    "bootstrap_node_name = 'ceph-xxx-node-001'"
   ]
  },
  {
   "cell_type": "code",
   "execution_count": null,
   "metadata": {
    "lc_cell_meme": {
     "current": "8a48dae0-98a1-11ea-8d02-0242ac120007-8-4da2-9c77-127e-3197-8aeb-a420-392c-d595",
     "history": [
      {
       "current": "8a48dae0-98a1-11ea-8d02-0242ac120007-1-4da2",
       "next": "35c339aa-55a3-11e7-b0b2-00163e9c0e35",
       "previous": "8a48d90a-98a1-11ea-8d02-0242ac120007"
      },
      {
       "current": "8a48dae0-98a1-11ea-8d02-0242ac120007-2-4da2-9c77",
       "next": "35c339aa-55a3-11e7-b0b2-00163e9c0e35-1-eee2",
       "previous": "8a48d90a-98a1-11ea-8d02-0242ac120007-1-0ebc"
      },
      {
       "current": "8a48dae0-98a1-11ea-8d02-0242ac120007-2-4da2-9c77",
       "next": "35c339aa-55a3-11e7-b0b2-00163e9c0e35-2-eee2-af6c",
       "previous": "8a48d90a-98a1-11ea-8d02-0242ac120007-2-0ebc-93ac"
      },
      {
       "current": "8a48dae0-98a1-11ea-8d02-0242ac120007-2-4da2-9c77",
       "next": "35c362a4-55a3-11e7-b0b2-00163e9c0e35-2-3f0a-3633",
       "previous": "8a48d90a-98a1-11ea-8d02-0242ac120007-2-0ebc-93ac"
      },
      {
       "current": "8a48dae0-98a1-11ea-8d02-0242ac120007-2-4da2-9c77",
       "next": "1afe7a3e-def8-11eb-b29f-0242ac120008",
       "previous": "8a48d90a-98a1-11ea-8d02-0242ac120007-2-0ebc-93ac"
      },
      {
       "current": "8a48dae0-98a1-11ea-8d02-0242ac120007-3-4da2-9c77-127e",
       "next": "35c35a52-55a3-11e7-b0b2-00163e9c0e35-2-ed71-9007",
       "previous": "8a48d90a-98a1-11ea-8d02-0242ac120007-2-0ebc-93ac"
      },
      {
       "current": "8a48dae0-98a1-11ea-8d02-0242ac120007-3-4da2-9c77-127e",
       "next": "35c35a52-55a3-11e7-b0b2-00163e9c0e35-3-ed71-9007-f930",
       "previous": "8a48d90a-98a1-11ea-8d02-0242ac120007-3-0ebc-93ac-04b4"
      },
      {
       "current": "8a48dae0-98a1-11ea-8d02-0242ac120007-3-4da2-9c77-127e",
       "next": "2c2cd6ae-61bc-11ee-89fa-0242ac120005",
       "previous": "8a48d90a-98a1-11ea-8d02-0242ac120007-3-0ebc-93ac-04b4"
      },
      {
       "current": "8a48dae0-98a1-11ea-8d02-0242ac120007-4-4da2-9c77-127e-3197",
       "next": "2c2cd6ae-61bc-11ee-89fa-0242ac120005",
       "previous": "bb3e251e-61bc-11ee-89fa-0242ac120005"
      },
      {
       "current": "8a48dae0-98a1-11ea-8d02-0242ac120007-5-4da2-9c77-127e-3197-8aeb",
       "next": "2c2cd6ae-61bc-11ee-89fa-0242ac120005-1-7745",
       "previous": "bb3e251e-61bc-11ee-89fa-0242ac120005-1-ba05"
      },
      {
       "current": "8a48dae0-98a1-11ea-8d02-0242ac120007-6-4da2-9c77-127e-3197-8aeb-a420",
       "next": "2c2cd6ae-61bc-11ee-89fa-0242ac120005-2-7745-a101",
       "previous": "bb3e251e-61bc-11ee-89fa-0242ac120005-2-ba05-7ecc"
      },
      {
       "current": "8a48dae0-98a1-11ea-8d02-0242ac120007-7-4da2-9c77-127e-3197-8aeb-a420-392c",
       "next": "2c2cd6ae-61bc-11ee-89fa-0242ac120005-3-7745-a101-6647",
       "previous": "bb3e251e-61bc-11ee-89fa-0242ac120005-3-ba05-7ecc-b740"
      },
      {
       "current": "8a48dae0-98a1-11ea-8d02-0242ac120007-8-4da2-9c77-127e-3197-8aeb-a420-392c-d595",
       "next": "2c2cd6ae-61bc-11ee-89fa-0242ac120005-4-7745-a101-6647-313d",
       "previous": "bb3e251e-61bc-11ee-89fa-0242ac120005-4-ba05-7ecc-b740-e4c7"
      }
     ],
     "next": "2c2cd6ae-61bc-11ee-89fa-0242ac120005-5-7745-a101-6647-313d-cc6b",
     "previous": "bb3e251e-61bc-11ee-89fa-0242ac120005-5-ba05-7ecc-b740-e4c7-e8ac"
    }
   },
   "outputs": [],
   "source": [
    "target_node_list = []\n",
    "bootstrap_node = None\n",
    "for target_name in target_name_list:\n",
    "    for elem in node_list:\n",
    "        if elem['name'] == target_name:\n",
    "            target_node_list.append(elem)\n",
    "            break\n",
    "for elem in node_list:\n",
    "    if elem['name'] == bootstrap_node_name:\n",
    "        bootstrap_node = elem\n",
    "        break\n",
    "\n",
    "assert (len(target_node_list) > 0), \"指定されたターゲットノードが存在しません。\"\n",
    "assert (bootstrap_node is not None), \"指定されたBootstrap nodeが存在しません。\"\n",
    "\n",
    "print(bootstrap_node)"
   ]
  },
  {
   "cell_type": "code",
   "execution_count": null,
   "metadata": {
    "lc_cell_meme": {
     "current": "2c2cd6ae-61bc-11ee-89fa-0242ac120005-5-7745-a101-6647-313d-cc6b",
     "history": [
      {
       "current": "2c2cd6ae-61bc-11ee-89fa-0242ac120005",
       "next": "35c35a52-55a3-11e7-b0b2-00163e9c0e35-3-ed71-9007-f930",
       "previous": "8a48dae0-98a1-11ea-8d02-0242ac120007-3-4da2-9c77-127e"
      },
      {
       "current": "2c2cd6ae-61bc-11ee-89fa-0242ac120005-1-7745",
       "next": "35c35f52-55a3-11e7-b0b2-00163e9c0e35-3-e2de-8a27-98e3",
       "previous": "8a48dae0-98a1-11ea-8d02-0242ac120007-3-4da2-9c77-127e"
      },
      {
       "current": "2c2cd6ae-61bc-11ee-89fa-0242ac120005-2-7745-a101",
       "next": "35c35f52-55a3-11e7-b0b2-00163e9c0e35-4-e2de-8a27-98e3-4b1e",
       "previous": "8a48dae0-98a1-11ea-8d02-0242ac120007-4-4da2-9c77-127e-3197"
      },
      {
       "current": "2c2cd6ae-61bc-11ee-89fa-0242ac120005-3-7745-a101-6647",
       "next": "35c35f52-55a3-11e7-b0b2-00163e9c0e35-5-e2de-8a27-98e3-4b1e-fb12",
       "previous": "8a48dae0-98a1-11ea-8d02-0242ac120007-5-4da2-9c77-127e-3197-8aeb"
      },
      {
       "current": "2c2cd6ae-61bc-11ee-89fa-0242ac120005-4-7745-a101-6647-313d",
       "next": "35c35f52-55a3-11e7-b0b2-00163e9c0e35-6-e2de-8a27-98e3-4b1e-fb12-7ad5",
       "previous": "8a48dae0-98a1-11ea-8d02-0242ac120007-6-4da2-9c77-127e-3197-8aeb-a420"
      },
      {
       "current": "2c2cd6ae-61bc-11ee-89fa-0242ac120005-5-7745-a101-6647-313d-cc6b",
       "next": "35c35f52-55a3-11e7-b0b2-00163e9c0e35-7-e2de-8a27-98e3-4b1e-fb12-7ad5-51db",
       "previous": "8a48dae0-98a1-11ea-8d02-0242ac120007-7-4da2-9c77-127e-3197-8aeb-a420-392c"
      }
     ],
     "next": "35c35f52-55a3-11e7-b0b2-00163e9c0e35-8-e2de-8a27-98e3-4b1e-fb12-7ad5-51db-5f75",
     "previous": "8a48dae0-98a1-11ea-8d02-0242ac120007-8-4da2-9c77-127e-3197-8aeb-a420-392c-d595"
    }
   },
   "outputs": [],
   "source": [
    "pd.DataFrame(target_node_list)"
   ]
  },
  {
   "cell_type": "markdown",
   "metadata": {
    "lc_cell_meme": {
     "current": "35c35f52-55a3-11e7-b0b2-00163e9c0e35-8-e2de-8a27-98e3-4b1e-fb12-7ad5-51db-5f75",
     "history": [
      {
       "current": "35c35f52-55a3-11e7-b0b2-00163e9c0e35",
       "next": "35c360f6-55a3-11e7-b0b2-00163e9c0e35",
       "previous": "35c35dae-55a3-11e7-b0b2-00163e9c0e35"
      },
      {
       "current": "35c35f52-55a3-11e7-b0b2-00163e9c0e35-1-e2de",
       "next": "a33430b0-9327-11ea-8d02-0242ac120007",
       "previous": "35c35dae-55a3-11e7-b0b2-00163e9c0e35"
      },
      {
       "current": "35c35f52-55a3-11e7-b0b2-00163e9c0e35-2-e2de-8a27",
       "next": "a33430b0-9327-11ea-8d02-0242ac120007-1-3202",
       "previous": "35c35dae-55a3-11e7-b0b2-00163e9c0e35-1-7091"
      },
      {
       "current": "35c35f52-55a3-11e7-b0b2-00163e9c0e35-3-e2de-8a27-98e3",
       "next": "a33430b0-9327-11ea-8d02-0242ac120007-2-3202-0bdc",
       "previous": "35c35dae-55a3-11e7-b0b2-00163e9c0e35-2-7091-7055"
      },
      {
       "current": "35c35f52-55a3-11e7-b0b2-00163e9c0e35-3-e2de-8a27-98e3",
       "next": "a33430b0-9327-11ea-8d02-0242ac120007-3-3202-0bdc-fd62",
       "previous": "35c35dae-55a3-11e7-b0b2-00163e9c0e35-3-7091-7055-1fd7"
      },
      {
       "current": "35c35f52-55a3-11e7-b0b2-00163e9c0e35-3-e2de-8a27-98e3",
       "next": "a33430b0-9327-11ea-8d02-0242ac120007-3-3202-0bdc-fd62",
       "previous": "35c35a52-55a3-11e7-b0b2-00163e9c0e35-3-ed71-9007-f930"
      },
      {
       "current": "35c35f52-55a3-11e7-b0b2-00163e9c0e35-4-e2de-8a27-98e3-4b1e",
       "next": "a33430b0-9327-11ea-8d02-0242ac120007-3-3202-0bdc-fd62",
       "previous": "2c2cd6ae-61bc-11ee-89fa-0242ac120005"
      },
      {
       "current": "35c35f52-55a3-11e7-b0b2-00163e9c0e35-5-e2de-8a27-98e3-4b1e-fb12",
       "next": "a33430b0-9327-11ea-8d02-0242ac120007-4-3202-0bdc-fd62-ce7c",
       "previous": "2c2cd6ae-61bc-11ee-89fa-0242ac120005-1-7745"
      },
      {
       "current": "35c35f52-55a3-11e7-b0b2-00163e9c0e35-6-e2de-8a27-98e3-4b1e-fb12-7ad5",
       "next": "a33430b0-9327-11ea-8d02-0242ac120007-5-3202-0bdc-fd62-ce7c-55b4",
       "previous": "2c2cd6ae-61bc-11ee-89fa-0242ac120005-2-7745-a101"
      },
      {
       "current": "35c35f52-55a3-11e7-b0b2-00163e9c0e35-7-e2de-8a27-98e3-4b1e-fb12-7ad5-51db",
       "next": "a33430b0-9327-11ea-8d02-0242ac120007-6-3202-0bdc-fd62-ce7c-55b4-ae86",
       "previous": "2c2cd6ae-61bc-11ee-89fa-0242ac120005-3-7745-a101-6647"
      },
      {
       "current": "35c35f52-55a3-11e7-b0b2-00163e9c0e35-8-e2de-8a27-98e3-4b1e-fb12-7ad5-51db-5f75",
       "next": "a33430b0-9327-11ea-8d02-0242ac120007-7-3202-0bdc-fd62-ce7c-55b4-ae86-8416",
       "previous": "2c2cd6ae-61bc-11ee-89fa-0242ac120005-4-7745-a101-6647-313d"
      }
     ],
     "next": "a33430b0-9327-11ea-8d02-0242ac120007-8-3202-0bdc-fd62-ce7c-55b4-ae86-8416-c3cf",
     "previous": "2c2cd6ae-61bc-11ee-89fa-0242ac120005-5-7745-a101-6647-313d-cc6b"
    }
   },
   "source": [
    "# Inventoryファイルを生成する。"
   ]
  },
  {
   "cell_type": "code",
   "execution_count": null,
   "metadata": {
    "lc_cell_meme": {
     "current": "a33430b0-9327-11ea-8d02-0242ac120007-8-3202-0bdc-fd62-ce7c-55b4-ae86-8416-c3cf",
     "history": [
      {
       "current": "a33430b0-9327-11ea-8d02-0242ac120007",
       "next": "35c360f6-55a3-11e7-b0b2-00163e9c0e35",
       "previous": "35c35f52-55a3-11e7-b0b2-00163e9c0e35"
      },
      {
       "current": "a33430b0-9327-11ea-8d02-0242ac120007-1-3202",
       "next": "9c0b8624-959f-11ea-8d02-0242ac120007",
       "previous": "35c35f52-55a3-11e7-b0b2-00163e9c0e35"
      },
      {
       "current": "a33430b0-9327-11ea-8d02-0242ac120007-2-3202-0bdc",
       "next": "9c0b8624-959f-11ea-8d02-0242ac120007-1-8098",
       "previous": "35c35f52-55a3-11e7-b0b2-00163e9c0e35-1-e2de"
      },
      {
       "current": "a33430b0-9327-11ea-8d02-0242ac120007-2-3202-0bdc",
       "next": "9c0b8624-959f-11ea-8d02-0242ac120007-2-8098-a371",
       "previous": "35c35f52-55a3-11e7-b0b2-00163e9c0e35-2-e2de-8a27"
      },
      {
       "current": "a33430b0-9327-11ea-8d02-0242ac120007-3-3202-0bdc-fd62",
       "next": "27f1be96-f4f0-11eb-b29f-0242ac120008",
       "previous": "35c35f52-55a3-11e7-b0b2-00163e9c0e35-2-e2de-8a27"
      },
      {
       "current": "a33430b0-9327-11ea-8d02-0242ac120007-3-3202-0bdc-fd62",
       "next": "27f1be96-f4f0-11eb-b29f-0242ac120008-1-0b6c",
       "previous": "35c35f52-55a3-11e7-b0b2-00163e9c0e35-3-e2de-8a27-98e3"
      },
      {
       "current": "a33430b0-9327-11ea-8d02-0242ac120007-4-3202-0bdc-fd62-ce7c",
       "next": "73b1e49c-61bc-11ee-89fa-0242ac120005",
       "previous": "35c35f52-55a3-11e7-b0b2-00163e9c0e35-3-e2de-8a27-98e3"
      },
      {
       "current": "a33430b0-9327-11ea-8d02-0242ac120007-5-3202-0bdc-fd62-ce7c-55b4",
       "next": "73b1e49c-61bc-11ee-89fa-0242ac120005-1-0e9f",
       "previous": "35c35f52-55a3-11e7-b0b2-00163e9c0e35-4-e2de-8a27-98e3-4b1e"
      },
      {
       "current": "a33430b0-9327-11ea-8d02-0242ac120007-6-3202-0bdc-fd62-ce7c-55b4-ae86",
       "next": "73b1e49c-61bc-11ee-89fa-0242ac120005-2-0e9f-7a28",
       "previous": "35c35f52-55a3-11e7-b0b2-00163e9c0e35-5-e2de-8a27-98e3-4b1e-fb12"
      },
      {
       "current": "a33430b0-9327-11ea-8d02-0242ac120007-7-3202-0bdc-fd62-ce7c-55b4-ae86-8416",
       "next": "73b1e49c-61bc-11ee-89fa-0242ac120005-3-0e9f-7a28-5f8b",
       "previous": "35c35f52-55a3-11e7-b0b2-00163e9c0e35-6-e2de-8a27-98e3-4b1e-fb12-7ad5"
      },
      {
       "current": "a33430b0-9327-11ea-8d02-0242ac120007-8-3202-0bdc-fd62-ce7c-55b4-ae86-8416-c3cf",
       "next": "73b1e49c-61bc-11ee-89fa-0242ac120005-4-0e9f-7a28-5f8b-4cc5",
       "previous": "35c35f52-55a3-11e7-b0b2-00163e9c0e35-7-e2de-8a27-98e3-4b1e-fb12-7ad5-51db"
      }
     ],
     "next": "73b1e49c-61bc-11ee-89fa-0242ac120005-5-0e9f-7a28-5f8b-4cc5-30c4",
     "previous": "35c35f52-55a3-11e7-b0b2-00163e9c0e35-8-e2de-8a27-98e3-4b1e-fb12-7ad5-51db-5f75"
    }
   },
   "outputs": [],
   "source": [
    "node_user='xxxxx'\n",
    "cephadmin_user='cephadmin'\n",
    "node_key='~/.ssh/id_ras'\n",
    "proxy_user='xxxxx'\n",
    "proxy_key='~/.ssh/id_ras'"
   ]
  },
  {
   "cell_type": "code",
   "execution_count": null,
   "metadata": {
    "lc_cell_meme": {
     "current": "73b1e49c-61bc-11ee-89fa-0242ac120005-5-0e9f-7a28-5f8b-4cc5-30c4",
     "history": [
      {
       "current": "73b1e49c-61bc-11ee-89fa-0242ac120005",
       "next": "35c360f6-55a3-11e7-b0b2-00163e9c0e35-3-4a79-f9ba-754f",
       "previous": "9c0b8624-959f-11ea-8d02-0242ac120007-3-8098-a371-0b4a"
      },
      {
       "current": "73b1e49c-61bc-11ee-89fa-0242ac120005-1-0e9f",
       "next": "35c360f6-55a3-11e7-b0b2-00163e9c0e35-3-4a79-f9ba-754f",
       "previous": "a33430b0-9327-11ea-8d02-0242ac120007-3-3202-0bdc-fd62"
      },
      {
       "current": "73b1e49c-61bc-11ee-89fa-0242ac120005-2-0e9f-7a28",
       "next": "35c360f6-55a3-11e7-b0b2-00163e9c0e35-4-4a79-f9ba-754f-4725",
       "previous": "a33430b0-9327-11ea-8d02-0242ac120007-4-3202-0bdc-fd62-ce7c"
      },
      {
       "current": "73b1e49c-61bc-11ee-89fa-0242ac120005-3-0e9f-7a28-5f8b",
       "next": "35c360f6-55a3-11e7-b0b2-00163e9c0e35-5-4a79-f9ba-754f-4725-6ce7",
       "previous": "a33430b0-9327-11ea-8d02-0242ac120007-5-3202-0bdc-fd62-ce7c-55b4"
      },
      {
       "current": "73b1e49c-61bc-11ee-89fa-0242ac120005-4-0e9f-7a28-5f8b-4cc5",
       "next": "35c360f6-55a3-11e7-b0b2-00163e9c0e35-6-4a79-f9ba-754f-4725-6ce7-1280",
       "previous": "a33430b0-9327-11ea-8d02-0242ac120007-6-3202-0bdc-fd62-ce7c-55b4-ae86"
      },
      {
       "current": "73b1e49c-61bc-11ee-89fa-0242ac120005-5-0e9f-7a28-5f8b-4cc5-30c4",
       "next": "35c360f6-55a3-11e7-b0b2-00163e9c0e35-7-4a79-f9ba-754f-4725-6ce7-1280-9288",
       "previous": "a33430b0-9327-11ea-8d02-0242ac120007-7-3202-0bdc-fd62-ce7c-55b4-ae86-8416"
      }
     ],
     "next": "35c360f6-55a3-11e7-b0b2-00163e9c0e35-8-4a79-f9ba-754f-4725-6ce7-1280-9288-69dc",
     "previous": "a33430b0-9327-11ea-8d02-0242ac120007-8-3202-0bdc-fd62-ce7c-55b4-ae86-8416-c3cf"
    }
   },
   "outputs": [],
   "source": [
    "bootstrap_ip = bootstrap_node['prov_ip']"
   ]
  },
  {
   "cell_type": "code",
   "execution_count": null,
   "metadata": {
    "ExecuteTime": {
     "end_time": "2017-06-29T08:50:39.909299Z",
     "start_time": "2017-06-29T08:50:39.762658Z"
    },
    "lc_cell_meme": {
     "current": "35c360f6-55a3-11e7-b0b2-00163e9c0e35-8-4a79-f9ba-754f-4725-6ce7-1280-9288-69dc",
     "history": [
      {
       "current": "35c360f6-55a3-11e7-b0b2-00163e9c0e35",
       "next": "35c362a4-55a3-11e7-b0b2-00163e9c0e35",
       "previous": "35c35f52-55a3-11e7-b0b2-00163e9c0e35"
      },
      {
       "current": "35c360f6-55a3-11e7-b0b2-00163e9c0e35",
       "next": "35c362a4-55a3-11e7-b0b2-00163e9c0e35",
       "previous": "a33430b0-9327-11ea-8d02-0242ac120007"
      },
      {
       "current": "35c360f6-55a3-11e7-b0b2-00163e9c0e35-1-4a79",
       "next": "35c362a4-55a3-11e7-b0b2-00163e9c0e35",
       "previous": "9c0b88cc-959f-11ea-8d02-0242ac120007"
      },
      {
       "current": "35c360f6-55a3-11e7-b0b2-00163e9c0e35-2-4a79-f9ba",
       "next": "35c362a4-55a3-11e7-b0b2-00163e9c0e35-1-3f0a",
       "previous": "9c0b88cc-959f-11ea-8d02-0242ac120007-1-b077"
      },
      {
       "current": "35c360f6-55a3-11e7-b0b2-00163e9c0e35-2-4a79-f9ba",
       "next": "35c362a4-55a3-11e7-b0b2-00163e9c0e35-2-3f0a-3633",
       "previous": "9c0b88cc-959f-11ea-8d02-0242ac120007-2-b077-046d"
      },
      {
       "current": "35c360f6-55a3-11e7-b0b2-00163e9c0e35-2-4a79-f9ba",
       "next": "7dae8996-9686-11ea-8d02-0242ac120007-2-20c5-a0b0",
       "previous": "9c0b88cc-959f-11ea-8d02-0242ac120007-2-b077-046d"
      },
      {
       "current": "35c360f6-55a3-11e7-b0b2-00163e9c0e35-2-4a79-f9ba",
       "next": "35c362a4-55a3-11e7-b0b2-00163e9c0e35-2-89a7-98f2",
       "previous": "9c0b88cc-959f-11ea-8d02-0242ac120007-2-b077-046d"
      },
      {
       "current": "35c360f6-55a3-11e7-b0b2-00163e9c0e35-3-4a79-f9ba-754f",
       "next": "35c362a4-55a3-11e7-b0b2-00163e9c0e35-2-89a7-98f2",
       "previous": "9c0b8624-959f-11ea-8d02-0242ac120007-2-8098-a371"
      },
      {
       "current": "35c360f6-55a3-11e7-b0b2-00163e9c0e35-3-4a79-f9ba-754f",
       "next": "35c362a4-55a3-11e7-b0b2-00163e9c0e35-3-89a7-98f2-5cf2",
       "previous": "9c0b8624-959f-11ea-8d02-0242ac120007-3-8098-a371-0b4a"
      },
      {
       "current": "35c360f6-55a3-11e7-b0b2-00163e9c0e35-4-4a79-f9ba-754f-4725",
       "next": "35c362a4-55a3-11e7-b0b2-00163e9c0e35-3-89a7-98f2-5cf2",
       "previous": "73b1e49c-61bc-11ee-89fa-0242ac120005"
      },
      {
       "current": "35c360f6-55a3-11e7-b0b2-00163e9c0e35-5-4a79-f9ba-754f-4725-6ce7",
       "next": "35c362a4-55a3-11e7-b0b2-00163e9c0e35-4-89a7-98f2-5cf2-8cf3",
       "previous": "73b1e49c-61bc-11ee-89fa-0242ac120005-1-0e9f"
      },
      {
       "current": "35c360f6-55a3-11e7-b0b2-00163e9c0e35-6-4a79-f9ba-754f-4725-6ce7-1280",
       "next": "35c362a4-55a3-11e7-b0b2-00163e9c0e35-5-89a7-98f2-5cf2-8cf3-af05",
       "previous": "73b1e49c-61bc-11ee-89fa-0242ac120005-2-0e9f-7a28"
      },
      {
       "current": "35c360f6-55a3-11e7-b0b2-00163e9c0e35-6-4a79-f9ba-754f-4725-6ce7-1280",
       "next": "35c362a4-55a3-11e7-b0b2-00163e9c0e35-6-89a7-98f2-5cf2-8cf3-af05-1bdf",
       "previous": "73b1e49c-61bc-11ee-89fa-0242ac120005-3-0e9f-7a28-5f8b"
      },
      {
       "current": "35c360f6-55a3-11e7-b0b2-00163e9c0e35-7-4a79-f9ba-754f-4725-6ce7-1280-9288",
       "next": "71713a28-1d84-11ef-ad2f-0242ac120005",
       "previous": "73b1e49c-61bc-11ee-89fa-0242ac120005-3-0e9f-7a28-5f8b"
      },
      {
       "current": "35c360f6-55a3-11e7-b0b2-00163e9c0e35-8-4a79-f9ba-754f-4725-6ce7-1280-9288-69dc",
       "next": "71713a28-1d84-11ef-ad2f-0242ac120005-1-bbf5",
       "previous": "73b1e49c-61bc-11ee-89fa-0242ac120005-4-0e9f-7a28-5f8b-4cc5"
      }
     ],
     "next": "71713a28-1d84-11ef-ad2f-0242ac120005-2-bbf5-dd69",
     "previous": "73b1e49c-61bc-11ee-89fa-0242ac120005-5-0e9f-7a28-5f8b-4cc5-30c4"
    },
    "run_control": {
     "frozen": true
    },
    "scrolled": false
   },
   "outputs": [],
   "source": [
    "import os\n",
    "\n",
    "with open( os.path.join(temp_dir, \"hosts\"), 'w') as f:\n",
    "\n",
    "    f.write('''[ceph_admin]\n",
    "{ceph_admin_ip} ansible_user={proxy_user} ansible_ssh_private_key_file={proxy_key} ansible_python_interpreter=/usr/bin/python3\n",
    "'''.format(ceph_admin_ip=ceph_admin_ip, proxy_user=proxy_user, proxy_key=proxy_key, bootstrap_ip=bootstrap_ip))\n",
    "\n",
    "    f.write('''[bootstrap]\n",
    "{node_ip} ansible_user={node_user} ansible_ssh_private_key_file={node_key} ansible_ssh_common_args='-o ControlMaster=auto -o StrictHostKeyChecking=no -o ControlPersist=30m -o ProxyCommand=\"ssh -W %h:%p -i {proxy_key} -q {proxy_user}@{ceph_admin_ip}\"' ansible_python_interpreter=/usr/bin/python3\n",
    "[ceph_nodes]\n",
    "'''.format(ceph_admin_ip=ceph_admin_ip, node_ip=bootstrap_ip, node_key=node_key,\n",
    "           node_user=node_user, proxy_user=proxy_user, proxy_key=proxy_key))\n",
    "    \n",
    "    for node in target_node_list:\n",
    "        node_ip = node['prov_ip']\n",
    "        f.write('''{node_ip} ansible_user={node_user} ansible_ssh_private_key_file={node_key} ansible_ssh_common_args='-o ControlMaster=auto -o StrictHostKeyChecking=no -o ControlPersist=30m -o ProxyCommand=\"ssh -W %h:%p -i {proxy_key} -q {proxy_user}@{ceph_admin_ip}\"' ansible_python_interpreter=/usr/bin/python3\n",
    "'''.format(ceph_admin_ip=ceph_admin_ip, node_ip=node_ip, node_key=node_key,\n",
    "           node_user=node_user, proxy_user=proxy_user, proxy_key=proxy_key))\n",
    "\n",
    "hosts = temp_dir + \"/hosts\"\n",
    "\n",
    "!cat $hosts"
   ]
  },
  {
   "cell_type": "code",
   "execution_count": null,
   "metadata": {
    "lc_cell_meme": {
     "current": "71713a28-1d84-11ef-ad2f-0242ac120005-2-bbf5-dd69",
     "history": [
      {
       "current": "71713a28-1d84-11ef-ad2f-0242ac120005-1-bbf5",
       "next": "35c362a4-55a3-11e7-b0b2-00163e9c0e35-6-89a7-98f2-5cf2-8cf3-af05-1bdf",
       "previous": "35c360f6-55a3-11e7-b0b2-00163e9c0e35-6-4a79-f9ba-754f-4725-6ce7-1280"
      },
      {
       "current": "71713a28-1d84-11ef-ad2f-0242ac120005-2-bbf5-dd69",
       "next": "35c362a4-55a3-11e7-b0b2-00163e9c0e35-7-89a7-98f2-5cf2-8cf3-af05-1bdf-aba4",
       "previous": "35c360f6-55a3-11e7-b0b2-00163e9c0e35-7-4a79-f9ba-754f-4725-6ce7-1280-9288"
      }
     ],
     "next": "35c362a4-55a3-11e7-b0b2-00163e9c0e35-8-89a7-98f2-5cf2-8cf3-af05-1bdf-aba4-2210",
     "previous": "35c360f6-55a3-11e7-b0b2-00163e9c0e35-8-4a79-f9ba-754f-4725-6ce7-1280-9288-69dc"
    }
   },
   "outputs": [],
   "source": [
    "%env ANSIBLE_INVENTORY={hosts}"
   ]
  },
  {
   "cell_type": "markdown",
   "metadata": {
    "lc_cell_meme": {
     "current": "35c362a4-55a3-11e7-b0b2-00163e9c0e35-8-89a7-98f2-5cf2-8cf3-af05-1bdf-aba4-2210",
     "history": [
      {
       "current": "35c362a4-55a3-11e7-b0b2-00163e9c0e35",
       "next": "35c36448-55a3-11e7-b0b2-00163e9c0e35",
       "previous": "35c360f6-55a3-11e7-b0b2-00163e9c0e35"
      },
      {
       "current": "35c362a4-55a3-11e7-b0b2-00163e9c0e35",
       "next": "35c36448-55a3-11e7-b0b2-00163e9c0e35",
       "previous": "4cd5b0cc-7ef5-11ea-a926-0242ac120004"
      },
      {
       "current": "35c362a4-55a3-11e7-b0b2-00163e9c0e35",
       "next": "35c36448-55a3-11e7-b0b2-00163e9c0e35",
       "previous": "db546a28-7ef5-11ea-a926-0242ac120004"
      },
      {
       "current": "35c362a4-55a3-11e7-b0b2-00163e9c0e35",
       "next": "35c36448-55a3-11e7-b0b2-00163e9c0e35",
       "previous": "4cd5af28-7ef5-11ea-a926-0242ac120004"
      },
      {
       "current": "35c362a4-55a3-11e7-b0b2-00163e9c0e35",
       "next": "35c36448-55a3-11e7-b0b2-00163e9c0e35",
       "previous": "7d464504-9107-11ea-8d02-0242ac120007"
      },
      {
       "current": "35c362a4-55a3-11e7-b0b2-00163e9c0e35",
       "next": "35c36448-55a3-11e7-b0b2-00163e9c0e35",
       "previous": "bd797188-910b-11ea-8d02-0242ac120007"
      },
      {
       "current": "35c362a4-55a3-11e7-b0b2-00163e9c0e35",
       "next": "35c36448-55a3-11e7-b0b2-00163e9c0e35",
       "previous": "70b95056-9111-11ea-8d02-0242ac120007"
      },
      {
       "current": "35c362a4-55a3-11e7-b0b2-00163e9c0e35",
       "next": "35c36448-55a3-11e7-b0b2-00163e9c0e35",
       "previous": "bd797188-910b-11ea-8d02-0242ac120007"
      },
      {
       "current": "35c362a4-55a3-11e7-b0b2-00163e9c0e35",
       "next": "bd797188-910b-11ea-8d02-0242ac120007",
       "previous": "4cd5af28-7ef5-11ea-a926-0242ac120004"
      },
      {
       "current": "35c362a4-55a3-11e7-b0b2-00163e9c0e35",
       "next": "484c7376-935c-11ea-8d02-0242ac120007",
       "previous": "4cd5af28-7ef5-11ea-a926-0242ac120004"
      },
      {
       "current": "35c362a4-55a3-11e7-b0b2-00163e9c0e35-1-89a7",
       "next": "bd797188-910b-11ea-8d02-0242ac120007",
       "previous": "4cd5af28-7ef5-11ea-a926-0242ac120004"
      },
      {
       "current": "35c362a4-55a3-11e7-b0b2-00163e9c0e35-2-89a7-98f2",
       "next": "bd797188-910b-11ea-8d02-0242ac120007-1-728a",
       "previous": "4cd5af28-7ef5-11ea-a926-0242ac120004-1-726b"
      },
      {
       "current": "35c362a4-55a3-11e7-b0b2-00163e9c0e35-2-89a7-98f2",
       "next": "bd797188-910b-11ea-8d02-0242ac120007-2-728a-254c",
       "previous": "4cd5af28-7ef5-11ea-a926-0242ac120004-2-726b-a0d6"
      },
      {
       "current": "35c362a4-55a3-11e7-b0b2-00163e9c0e35-2-89a7-98f2",
       "next": "bd797188-910b-11ea-8d02-0242ac120007-2-728a-254c",
       "previous": "35c360f6-55a3-11e7-b0b2-00163e9c0e35-2-4a79-f9ba"
      },
      {
       "current": "35c362a4-55a3-11e7-b0b2-00163e9c0e35-3-89a7-98f2-5cf2",
       "next": "ef4d2888-aa17-11ea-9ad4-0242ac120006-1-42b7",
       "previous": "35c360f6-55a3-11e7-b0b2-00163e9c0e35-2-4a79-f9ba"
      },
      {
       "current": "35c362a4-55a3-11e7-b0b2-00163e9c0e35-4-89a7-98f2-5cf2-8cf3",
       "next": "ef4d2888-aa17-11ea-9ad4-0242ac120006-2-42b7-b07a",
       "previous": "35c360f6-55a3-11e7-b0b2-00163e9c0e35-3-4a79-f9ba-754f"
      },
      {
       "current": "35c362a4-55a3-11e7-b0b2-00163e9c0e35-5-89a7-98f2-5cf2-8cf3-af05",
       "next": "ef4d2888-aa17-11ea-9ad4-0242ac120006-3-42b7-b07a-8b39",
       "previous": "35c360f6-55a3-11e7-b0b2-00163e9c0e35-4-4a79-f9ba-754f-4725"
      },
      {
       "current": "35c362a4-55a3-11e7-b0b2-00163e9c0e35-6-89a7-98f2-5cf2-8cf3-af05-1bdf",
       "next": "ef4d2888-aa17-11ea-9ad4-0242ac120006-4-42b7-b07a-8b39-4fad",
       "previous": "35c360f6-55a3-11e7-b0b2-00163e9c0e35-5-4a79-f9ba-754f-4725-6ce7"
      },
      {
       "current": "35c362a4-55a3-11e7-b0b2-00163e9c0e35-6-89a7-98f2-5cf2-8cf3-af05-1bdf",
       "next": "ef4d2888-aa17-11ea-9ad4-0242ac120006-5-42b7-b07a-8b39-4fad-9a78",
       "previous": "35c360f6-55a3-11e7-b0b2-00163e9c0e35-6-4a79-f9ba-754f-4725-6ce7-1280"
      },
      {
       "current": "35c362a4-55a3-11e7-b0b2-00163e9c0e35-7-89a7-98f2-5cf2-8cf3-af05-1bdf-aba4",
       "next": "ef4d2888-aa17-11ea-9ad4-0242ac120006-5-42b7-b07a-8b39-4fad-9a78",
       "previous": "71713a28-1d84-11ef-ad2f-0242ac120005"
      },
      {
       "current": "35c362a4-55a3-11e7-b0b2-00163e9c0e35-8-89a7-98f2-5cf2-8cf3-af05-1bdf-aba4-2210",
       "next": "ef4d2888-aa17-11ea-9ad4-0242ac120006-6-42b7-b07a-8b39-4fad-9a78-e6c8",
       "previous": "71713a28-1d84-11ef-ad2f-0242ac120005-1-bbf5"
      }
     ],
     "next": "ef4d2888-aa17-11ea-9ad4-0242ac120006-7-42b7-b07a-8b39-4fad-9a78-e6c8-3676",
     "previous": "71713a28-1d84-11ef-ad2f-0242ac120005-2-bbf5-dd69"
    }
   },
   "source": [
    "## 疎通確認\n",
    "以下コマンドを実行し、OpeHubからCephAdmin経由で、Cephノードに疎通することを確認する。"
   ]
  },
  {
   "cell_type": "code",
   "execution_count": null,
   "metadata": {
    "lc_cell_meme": {
     "current": "ef4d2888-aa17-11ea-9ad4-0242ac120006-7-42b7-b07a-8b39-4fad-9a78-e6c8-3676",
     "history": [
      {
       "current": "ef4d2888-aa17-11ea-9ad4-0242ac120006-1-42b7",
       "next": "ac56a252-95bd-11ea-8d02-0242ac120007-1-86ee",
       "previous": "bd797188-910b-11ea-8d02-0242ac120007-1-728a"
      },
      {
       "current": "ef4d2888-aa17-11ea-9ad4-0242ac120006-1-42b7",
       "next": "ac56a252-95bd-11ea-8d02-0242ac120007-2-86ee-3a22",
       "previous": "bd797188-910b-11ea-8d02-0242ac120007-2-728a-254c"
      },
      {
       "current": "ef4d2888-aa17-11ea-9ad4-0242ac120006-1-42b7",
       "next": "bd797188-910b-11ea-8d02-0242ac120007-2-728a-254c",
       "previous": "35c362a4-55a3-11e7-b0b2-00163e9c0e35-2-89a7-98f2"
      },
      {
       "current": "ef4d2888-aa17-11ea-9ad4-0242ac120006-2-42b7-b07a",
       "next": "e3856a36-df01-11eb-b29f-0242ac120008",
       "previous": "35c362a4-55a3-11e7-b0b2-00163e9c0e35-2-89a7-98f2"
      },
      {
       "current": "ef4d2888-aa17-11ea-9ad4-0242ac120006-2-42b7-b07a",
       "next": "e3856a36-df01-11eb-b29f-0242ac120008-1-d6f1",
       "previous": "35c362a4-55a3-11e7-b0b2-00163e9c0e35-3-89a7-98f2-5cf2"
      },
      {
       "current": "ef4d2888-aa17-11ea-9ad4-0242ac120006-3-42b7-b07a-8b39",
       "next": "bd797188-910b-11ea-8d02-0242ac120007-3-728a-254c-2f4c",
       "previous": "35c362a4-55a3-11e7-b0b2-00163e9c0e35-3-89a7-98f2-5cf2"
      },
      {
       "current": "ef4d2888-aa17-11ea-9ad4-0242ac120006-4-42b7-b07a-8b39-4fad",
       "next": "bd797188-910b-11ea-8d02-0242ac120007-4-728a-254c-2f4c-4857",
       "previous": "35c362a4-55a3-11e7-b0b2-00163e9c0e35-4-89a7-98f2-5cf2-8cf3"
      },
      {
       "current": "ef4d2888-aa17-11ea-9ad4-0242ac120006-5-42b7-b07a-8b39-4fad-9a78",
       "next": "bd797188-910b-11ea-8d02-0242ac120007-5-728a-254c-2f4c-4857-28fa",
       "previous": "35c362a4-55a3-11e7-b0b2-00163e9c0e35-5-89a7-98f2-5cf2-8cf3-af05"
      },
      {
       "current": "ef4d2888-aa17-11ea-9ad4-0242ac120006-6-42b7-b07a-8b39-4fad-9a78-e6c8",
       "next": "bd797188-910b-11ea-8d02-0242ac120007-6-728a-254c-2f4c-4857-28fa-253b",
       "previous": "35c362a4-55a3-11e7-b0b2-00163e9c0e35-6-89a7-98f2-5cf2-8cf3-af05-1bdf"
      },
      {
       "current": "ef4d2888-aa17-11ea-9ad4-0242ac120006-7-42b7-b07a-8b39-4fad-9a78-e6c8-3676",
       "next": "bd797188-910b-11ea-8d02-0242ac120007-7-728a-254c-2f4c-4857-28fa-253b-312c",
       "previous": "35c362a4-55a3-11e7-b0b2-00163e9c0e35-7-89a7-98f2-5cf2-8cf3-af05-1bdf-aba4"
      }
     ],
     "next": "bd797188-910b-11ea-8d02-0242ac120007-8-728a-254c-2f4c-4857-28fa-253b-312c-f446",
     "previous": "35c362a4-55a3-11e7-b0b2-00163e9c0e35-8-89a7-98f2-5cf2-8cf3-af05-1bdf-aba4-2210"
    }
   },
   "outputs": [],
   "source": [
    "!ansible -b -m shell -a 'hostname' ceph_admin"
   ]
  },
  {
   "cell_type": "code",
   "execution_count": null,
   "metadata": {
    "lc_cell_meme": {
     "current": "bd797188-910b-11ea-8d02-0242ac120007-8-728a-254c-2f4c-4857-28fa-253b-312c-f446",
     "history": [
      {
       "current": "bd797188-910b-11ea-8d02-0242ac120007",
       "next": "35c362a4-55a3-11e7-b0b2-00163e9c0e35",
       "previous": "7d464504-9107-11ea-8d02-0242ac120007"
      },
      {
       "current": "bd797188-910b-11ea-8d02-0242ac120007",
       "next": "70b95056-9111-11ea-8d02-0242ac120007",
       "previous": "7d464504-9107-11ea-8d02-0242ac120007"
      },
      {
       "current": "bd797188-910b-11ea-8d02-0242ac120007",
       "next": "35c362a4-55a3-11e7-b0b2-00163e9c0e35",
       "previous": "7d464504-9107-11ea-8d02-0242ac120007"
      },
      {
       "current": "bd797188-910b-11ea-8d02-0242ac120007",
       "next": "35c362a4-55a3-11e7-b0b2-00163e9c0e35",
       "previous": "4cd5af28-7ef5-11ea-a926-0242ac120004"
      },
      {
       "current": "bd797188-910b-11ea-8d02-0242ac120007",
       "next": "35c36448-55a3-11e7-b0b2-00163e9c0e35",
       "previous": "35c362a4-55a3-11e7-b0b2-00163e9c0e35"
      },
      {
       "current": "bd797188-910b-11ea-8d02-0242ac120007",
       "next": "35c3783e-55a3-11e7-b0b2-00163e9c0e35",
       "previous": "35c362a4-55a3-11e7-b0b2-00163e9c0e35"
      },
      {
       "current": "bd797188-910b-11ea-8d02-0242ac120007",
       "next": "35c3783e-55a3-11e7-b0b2-00163e9c0e35",
       "previous": "484c7376-935c-11ea-8d02-0242ac120007"
      },
      {
       "current": "bd797188-910b-11ea-8d02-0242ac120007",
       "next": "35c3783e-55a3-11e7-b0b2-00163e9c0e35",
       "previous": "35c362a4-55a3-11e7-b0b2-00163e9c0e35"
      },
      {
       "current": "bd797188-910b-11ea-8d02-0242ac120007-1-728a",
       "next": "ac56a252-95bd-11ea-8d02-0242ac120007",
       "previous": "35c362a4-55a3-11e7-b0b2-00163e9c0e35"
      },
      {
       "current": "bd797188-910b-11ea-8d02-0242ac120007-1-728a",
       "next": "ac56a252-95bd-11ea-8d02-0242ac120007-1-86ee",
       "previous": "35c362a4-55a3-11e7-b0b2-00163e9c0e35-1-89a7"
      },
      {
       "current": "bd797188-910b-11ea-8d02-0242ac120007-2-728a-254c",
       "next": "ef4d2888-aa17-11ea-9ad4-0242ac120006",
       "previous": "35c362a4-55a3-11e7-b0b2-00163e9c0e35-1-89a7"
      },
      {
       "current": "bd797188-910b-11ea-8d02-0242ac120007-2-728a-254c",
       "next": "ef4d2888-aa17-11ea-9ad4-0242ac120006-1-42b7",
       "previous": "35c362a4-55a3-11e7-b0b2-00163e9c0e35-2-89a7-98f2"
      },
      {
       "current": "bd797188-910b-11ea-8d02-0242ac120007-2-728a-254c",
       "next": "ac56a252-95bd-11ea-8d02-0242ac120007-2-86ee-3a22",
       "previous": "ef4d2888-aa17-11ea-9ad4-0242ac120006-1-42b7"
      },
      {
       "current": "bd797188-910b-11ea-8d02-0242ac120007-2-728a-254c",
       "next": "ac56a252-95bd-11ea-8d02-0242ac120007-2-86ee-3a22",
       "previous": "e3856a36-df01-11eb-b29f-0242ac120008"
      },
      {
       "current": "bd797188-910b-11ea-8d02-0242ac120007-3-728a-254c-2f4c",
       "next": "21d849e2-dfd0-11eb-b29f-0242ac120008",
       "previous": "e3856a36-df01-11eb-b29f-0242ac120008"
      },
      {
       "current": "bd797188-910b-11ea-8d02-0242ac120007-3-728a-254c-2f4c",
       "next": "21d849e2-dfd0-11eb-b29f-0242ac120008-1-ee1b",
       "previous": "e3856a36-df01-11eb-b29f-0242ac120008-1-d6f1"
      },
      {
       "current": "bd797188-910b-11ea-8d02-0242ac120007-4-728a-254c-2f4c-4857",
       "next": "21d849e2-dfd0-11eb-b29f-0242ac120008-1-ee1b",
       "previous": "ef4d2888-aa17-11ea-9ad4-0242ac120006-2-42b7-b07a"
      },
      {
       "current": "bd797188-910b-11ea-8d02-0242ac120007-5-728a-254c-2f4c-4857-28fa",
       "next": "21d849e2-dfd0-11eb-b29f-0242ac120008-2-ee1b-0740",
       "previous": "ef4d2888-aa17-11ea-9ad4-0242ac120006-3-42b7-b07a-8b39"
      },
      {
       "current": "bd797188-910b-11ea-8d02-0242ac120007-6-728a-254c-2f4c-4857-28fa-253b",
       "next": "21d849e2-dfd0-11eb-b29f-0242ac120008-3-ee1b-0740-7daa",
       "previous": "ef4d2888-aa17-11ea-9ad4-0242ac120006-4-42b7-b07a-8b39-4fad"
      },
      {
       "current": "bd797188-910b-11ea-8d02-0242ac120007-7-728a-254c-2f4c-4857-28fa-253b-312c",
       "next": "21d849e2-dfd0-11eb-b29f-0242ac120008-4-ee1b-0740-7daa-aec5",
       "previous": "ef4d2888-aa17-11ea-9ad4-0242ac120006-5-42b7-b07a-8b39-4fad-9a78"
      },
      {
       "current": "bd797188-910b-11ea-8d02-0242ac120007-8-728a-254c-2f4c-4857-28fa-253b-312c-f446",
       "next": "21d849e2-dfd0-11eb-b29f-0242ac120008-5-ee1b-0740-7daa-aec5-7949",
       "previous": "ef4d2888-aa17-11ea-9ad4-0242ac120006-6-42b7-b07a-8b39-4fad-9a78-e6c8"
      }
     ],
     "next": "21d849e2-dfd0-11eb-b29f-0242ac120008-6-ee1b-0740-7daa-aec5-7949-1415",
     "previous": "ef4d2888-aa17-11ea-9ad4-0242ac120006-7-42b7-b07a-8b39-4fad-9a78-e6c8-3676"
    }
   },
   "outputs": [],
   "source": [
    "!ansible -b -m shell -a 'hostname' ceph_nodes"
   ]
  },
  {
   "cell_type": "code",
   "execution_count": null,
   "metadata": {
    "lc_cell_meme": {
     "current": "21d849e2-dfd0-11eb-b29f-0242ac120008-6-ee1b-0740-7daa-aec5-7949-1415",
     "history": [
      {
       "current": "21d849e2-dfd0-11eb-b29f-0242ac120008-1-ee1b",
       "next": "ac56a252-95bd-11ea-8d02-0242ac120007-2-86ee-3a22",
       "previous": "bd797188-910b-11ea-8d02-0242ac120007-2-728a-254c"
      },
      {
       "current": "21d849e2-dfd0-11eb-b29f-0242ac120008-1-ee1b",
       "next": "ac56a252-95bd-11ea-8d02-0242ac120007-3-86ee-3a22-9a71",
       "previous": "bd797188-910b-11ea-8d02-0242ac120007-3-728a-254c-2f4c"
      },
      {
       "current": "21d849e2-dfd0-11eb-b29f-0242ac120008-2-ee1b-0740",
       "next": "91d0d70c-61bd-11ee-89fa-0242ac120005",
       "previous": "bd797188-910b-11ea-8d02-0242ac120007-3-728a-254c-2f4c"
      },
      {
       "current": "21d849e2-dfd0-11eb-b29f-0242ac120008-3-ee1b-0740-7daa",
       "next": "91d0d70c-61bd-11ee-89fa-0242ac120005-1-4d56",
       "previous": "bd797188-910b-11ea-8d02-0242ac120007-4-728a-254c-2f4c-4857"
      },
      {
       "current": "21d849e2-dfd0-11eb-b29f-0242ac120008-4-ee1b-0740-7daa-aec5",
       "next": "91d0d70c-61bd-11ee-89fa-0242ac120005-2-4d56-a36e",
       "previous": "bd797188-910b-11ea-8d02-0242ac120007-5-728a-254c-2f4c-4857-28fa"
      },
      {
       "current": "21d849e2-dfd0-11eb-b29f-0242ac120008-5-ee1b-0740-7daa-aec5-7949",
       "next": "91d0d70c-61bd-11ee-89fa-0242ac120005-3-4d56-a36e-6cec",
       "previous": "bd797188-910b-11ea-8d02-0242ac120007-6-728a-254c-2f4c-4857-28fa-253b"
      },
      {
       "current": "21d849e2-dfd0-11eb-b29f-0242ac120008-6-ee1b-0740-7daa-aec5-7949-1415",
       "next": "91d0d70c-61bd-11ee-89fa-0242ac120005-4-4d56-a36e-6cec-9715",
       "previous": "bd797188-910b-11ea-8d02-0242ac120007-7-728a-254c-2f4c-4857-28fa-253b-312c"
      }
     ],
     "next": "91d0d70c-61bd-11ee-89fa-0242ac120005-5-4d56-a36e-6cec-9715-38f8",
     "previous": "bd797188-910b-11ea-8d02-0242ac120007-8-728a-254c-2f4c-4857-28fa-253b-312c-f446"
    }
   },
   "outputs": [],
   "source": [
    "for node in target_node_list:\n",
    "    node_ip = node['prov_ip']\n",
    "    !ansible -b -m shell -a 'hostname' $node_ip"
   ]
  },
  {
   "cell_type": "code",
   "execution_count": null,
   "metadata": {
    "lc_cell_meme": {
     "current": "91d0d70c-61bd-11ee-89fa-0242ac120005-5-4d56-a36e-6cec-9715-38f8",
     "history": [
      {
       "current": "91d0d70c-61bd-11ee-89fa-0242ac120005-1-4d56",
       "next": "ac56a252-95bd-11ea-8d02-0242ac120007-3-86ee-3a22-9a71",
       "previous": "21d849e2-dfd0-11eb-b29f-0242ac120008-1-ee1b"
      },
      {
       "current": "91d0d70c-61bd-11ee-89fa-0242ac120005-2-4d56-a36e",
       "next": "ac56a252-95bd-11ea-8d02-0242ac120007-4-86ee-3a22-9a71-b923",
       "previous": "21d849e2-dfd0-11eb-b29f-0242ac120008-2-ee1b-0740"
      },
      {
       "current": "91d0d70c-61bd-11ee-89fa-0242ac120005-3-4d56-a36e-6cec",
       "next": "ac56a252-95bd-11ea-8d02-0242ac120007-5-86ee-3a22-9a71-b923-bbd8",
       "previous": "21d849e2-dfd0-11eb-b29f-0242ac120008-3-ee1b-0740-7daa"
      },
      {
       "current": "91d0d70c-61bd-11ee-89fa-0242ac120005-4-4d56-a36e-6cec-9715",
       "next": "ac56a252-95bd-11ea-8d02-0242ac120007-6-86ee-3a22-9a71-b923-bbd8-a0c4",
       "previous": "21d849e2-dfd0-11eb-b29f-0242ac120008-4-ee1b-0740-7daa-aec5"
      },
      {
       "current": "91d0d70c-61bd-11ee-89fa-0242ac120005-5-4d56-a36e-6cec-9715-38f8",
       "next": "ac56a252-95bd-11ea-8d02-0242ac120007-7-86ee-3a22-9a71-b923-bbd8-a0c4-4199",
       "previous": "21d849e2-dfd0-11eb-b29f-0242ac120008-5-ee1b-0740-7daa-aec5-7949"
      }
     ],
     "next": "ac56a252-95bd-11ea-8d02-0242ac120007-8-86ee-3a22-9a71-b923-bbd8-a0c4-4199-4911",
     "previous": "21d849e2-dfd0-11eb-b29f-0242ac120008-6-ee1b-0740-7daa-aec5-7949-1415"
    }
   },
   "outputs": [],
   "source": [
    "!ansible -b -m shell -a 'hostname' bootstrap"
   ]
  },
  {
   "cell_type": "markdown",
   "metadata": {
    "lc_cell_meme": {
     "current": "ac56a252-95bd-11ea-8d02-0242ac120007-8-86ee-3a22-9a71-b923-bbd8-a0c4-4199-4911",
     "history": [
      {
       "current": "ac56a252-95bd-11ea-8d02-0242ac120007-1-86ee",
       "next": "ac56a6c6-95bd-11ea-8d02-0242ac120007",
       "previous": "bd797188-910b-11ea-8d02-0242ac120007"
      },
      {
       "current": "ac56a252-95bd-11ea-8d02-0242ac120007-1-86ee",
       "next": "ac56a6c6-95bd-11ea-8d02-0242ac120007-1-431a",
       "previous": "bd797188-910b-11ea-8d02-0242ac120007-1-728a"
      },
      {
       "current": "ac56a252-95bd-11ea-8d02-0242ac120007-1-86ee",
       "next": "46b93d3e-95bc-11ea-8d02-0242ac120007-1-9f9c",
       "previous": "bd797188-910b-11ea-8d02-0242ac120007-1-728a"
      },
      {
       "current": "ac56a252-95bd-11ea-8d02-0242ac120007-2-86ee-3a22",
       "next": "46b93d3e-95bc-11ea-8d02-0242ac120007-1-9f9c",
       "previous": "ef4d2888-aa17-11ea-9ad4-0242ac120006"
      },
      {
       "current": "ac56a252-95bd-11ea-8d02-0242ac120007-2-86ee-3a22",
       "next": "46b93d3e-95bc-11ea-8d02-0242ac120007-2-9f9c-2f8b",
       "previous": "ef4d2888-aa17-11ea-9ad4-0242ac120006-1-42b7"
      },
      {
       "current": "ac56a252-95bd-11ea-8d02-0242ac120007-2-86ee-3a22",
       "next": "46b93d3e-95bc-11ea-8d02-0242ac120007-2-9f9c-2f8b",
       "previous": "bd797188-910b-11ea-8d02-0242ac120007-2-728a-254c"
      },
      {
       "current": "ac56a252-95bd-11ea-8d02-0242ac120007-3-86ee-3a22-9a71",
       "next": "46b93d3e-95bc-11ea-8d02-0242ac120007-2-9f9c-2f8b",
       "previous": "21d849e2-dfd0-11eb-b29f-0242ac120008"
      },
      {
       "current": "ac56a252-95bd-11ea-8d02-0242ac120007-3-86ee-3a22-9a71",
       "next": "46b93d3e-95bc-11ea-8d02-0242ac120007-3-9f9c-2f8b-fd5c",
       "previous": "21d849e2-dfd0-11eb-b29f-0242ac120008-1-ee1b"
      },
      {
       "current": "ac56a252-95bd-11ea-8d02-0242ac120007-3-86ee-3a22-9a71",
       "next": "1e5a5a54-4bb1-11ee-89fa-0242ac120005",
       "previous": "21d849e2-dfd0-11eb-b29f-0242ac120008-1-ee1b"
      },
      {
       "current": "ac56a252-95bd-11ea-8d02-0242ac120007-3-86ee-3a22-9a71",
       "next": "65e00220-4bb1-11ee-89fa-0242ac120005",
       "previous": "21d849e2-dfd0-11eb-b29f-0242ac120008-1-ee1b"
      },
      {
       "current": "ac56a252-95bd-11ea-8d02-0242ac120007-3-86ee-3a22-9a71",
       "next": "5d429cae-6191-11ee-89fa-0242ac120005",
       "previous": "21d849e2-dfd0-11eb-b29f-0242ac120008-1-ee1b"
      },
      {
       "current": "ac56a252-95bd-11ea-8d02-0242ac120007-3-86ee-3a22-9a71",
       "next": "5d429cae-6191-11ee-89fa-0242ac120005",
       "previous": "91d0d70c-61bd-11ee-89fa-0242ac120005"
      },
      {
       "current": "ac56a252-95bd-11ea-8d02-0242ac120007-3-86ee-3a22-9a71",
       "next": "d9541562-61bd-11ee-89fa-0242ac120005",
       "previous": "91d0d70c-61bd-11ee-89fa-0242ac120005"
      },
      {
       "current": "ac56a252-95bd-11ea-8d02-0242ac120007-3-86ee-3a22-9a71",
       "next": "a55217b0-7166-11ee-89fa-0242ac120005",
       "previous": "91d0d70c-61bd-11ee-89fa-0242ac120005"
      },
      {
       "current": "ac56a252-95bd-11ea-8d02-0242ac120007-4-86ee-3a22-9a71-b923",
       "next": "8f9c95d6-716a-11ee-89fa-0242ac120005",
       "previous": "91d0d70c-61bd-11ee-89fa-0242ac120005"
      },
      {
       "current": "ac56a252-95bd-11ea-8d02-0242ac120007-4-86ee-3a22-9a71-b923",
       "next": "8f9c95d6-716a-11ee-89fa-0242ac120005-1-93ab",
       "previous": "91d0d70c-61bd-11ee-89fa-0242ac120005-1-4d56"
      },
      {
       "current": "ac56a252-95bd-11ea-8d02-0242ac120007-5-86ee-3a22-9a71-b923-bbd8",
       "next": "5ff7a0ea-933a-11ee-91d3-0242ac120006",
       "previous": "91d0d70c-61bd-11ee-89fa-0242ac120005-1-4d56"
      },
      {
       "current": "ac56a252-95bd-11ea-8d02-0242ac120007-6-86ee-3a22-9a71-b923-bbd8-a0c4",
       "next": "5ff7a0ea-933a-11ee-91d3-0242ac120006-1-48c2",
       "previous": "91d0d70c-61bd-11ee-89fa-0242ac120005-2-4d56-a36e"
      },
      {
       "current": "ac56a252-95bd-11ea-8d02-0242ac120007-7-86ee-3a22-9a71-b923-bbd8-a0c4-4199",
       "next": "5ff7a0ea-933a-11ee-91d3-0242ac120006-2-48c2-0e4f",
       "previous": "91d0d70c-61bd-11ee-89fa-0242ac120005-3-4d56-a36e-6cec"
      },
      {
       "current": "ac56a252-95bd-11ea-8d02-0242ac120007-8-86ee-3a22-9a71-b923-bbd8-a0c4-4199-4911",
       "next": "5ff7a0ea-933a-11ee-91d3-0242ac120006-3-48c2-0e4f-3c97",
       "previous": "91d0d70c-61bd-11ee-89fa-0242ac120005-4-4d56-a36e-6cec-9715"
      }
     ],
     "next": "5ff7a0ea-933a-11ee-91d3-0242ac120006-4-48c2-0e4f-3c97-a7a4",
     "previous": "91d0d70c-61bd-11ee-89fa-0242ac120005-5-4d56-a36e-6cec-9715-38f8"
    }
   },
   "source": [
    "# ceph.confとadmin keyringファイルの取得と配置"
   ]
  },
  {
   "cell_type": "markdown",
   "metadata": {
    "lc_cell_meme": {
     "current": "5ff7a0ea-933a-11ee-91d3-0242ac120006-4-48c2-0e4f-3c97-a7a4",
     "history": [
      {
       "current": "5ff7a0ea-933a-11ee-91d3-0242ac120006-1-48c2",
       "next": "5ff7a298-933a-11ee-91d3-0242ac120006",
       "previous": "ac56a252-95bd-11ea-8d02-0242ac120007-4-86ee-3a22-9a71-b923"
      },
      {
       "current": "5ff7a0ea-933a-11ee-91d3-0242ac120006-2-48c2-0e4f",
       "next": "5ff7a298-933a-11ee-91d3-0242ac120006-1-a52b",
       "previous": "ac56a252-95bd-11ea-8d02-0242ac120007-5-86ee-3a22-9a71-b923-bbd8"
      },
      {
       "current": "5ff7a0ea-933a-11ee-91d3-0242ac120006-3-48c2-0e4f-3c97",
       "next": "5ff7a298-933a-11ee-91d3-0242ac120006-2-a52b-645f",
       "previous": "ac56a252-95bd-11ea-8d02-0242ac120007-6-86ee-3a22-9a71-b923-bbd8-a0c4"
      },
      {
       "current": "5ff7a0ea-933a-11ee-91d3-0242ac120006-4-48c2-0e4f-3c97-a7a4",
       "next": "5ff7a298-933a-11ee-91d3-0242ac120006-3-a52b-645f-23ba",
       "previous": "ac56a252-95bd-11ea-8d02-0242ac120007-7-86ee-3a22-9a71-b923-bbd8-a0c4-4199"
      }
     ],
     "next": "5ff7a298-933a-11ee-91d3-0242ac120006-4-a52b-645f-23ba-4cd1",
     "previous": "ac56a252-95bd-11ea-8d02-0242ac120007-8-86ee-3a22-9a71-b923-bbd8-a0c4-4199-4911"
    }
   },
   "source": [
    "## MON状態確認\n",
    "MONが規定数生成されていることを確認"
   ]
  },
  {
   "cell_type": "code",
   "execution_count": null,
   "metadata": {
    "lc_cell_meme": {
     "current": "5ff7a298-933a-11ee-91d3-0242ac120006-4-a52b-645f-23ba-4cd1",
     "history": [
      {
       "current": "5ff7a298-933a-11ee-91d3-0242ac120006",
       "next": "8f9c95d6-716a-11ee-89fa-0242ac120005-1-93ab",
       "previous": "5ff7a0ea-933a-11ee-91d3-0242ac120006"
      },
      {
       "current": "5ff7a298-933a-11ee-91d3-0242ac120006-1-a52b",
       "next": "a78373c6-933a-11ee-91d3-0242ac120006",
       "previous": "5ff7a0ea-933a-11ee-91d3-0242ac120006"
      },
      {
       "current": "5ff7a298-933a-11ee-91d3-0242ac120006-2-a52b-645f",
       "next": "a78373c6-933a-11ee-91d3-0242ac120006-1-dcbf",
       "previous": "5ff7a0ea-933a-11ee-91d3-0242ac120006-1-48c2"
      },
      {
       "current": "5ff7a298-933a-11ee-91d3-0242ac120006-3-a52b-645f-23ba",
       "next": "a78373c6-933a-11ee-91d3-0242ac120006-2-dcbf-94a3",
       "previous": "5ff7a0ea-933a-11ee-91d3-0242ac120006-2-48c2-0e4f"
      },
      {
       "current": "5ff7a298-933a-11ee-91d3-0242ac120006-4-a52b-645f-23ba-4cd1",
       "next": "a78373c6-933a-11ee-91d3-0242ac120006-3-dcbf-94a3-5175",
       "previous": "5ff7a0ea-933a-11ee-91d3-0242ac120006-3-48c2-0e4f-3c97"
      }
     ],
     "next": "a78373c6-933a-11ee-91d3-0242ac120006-4-dcbf-94a3-5175-5e36",
     "previous": "5ff7a0ea-933a-11ee-91d3-0242ac120006-4-48c2-0e4f-3c97-a7a4"
    }
   },
   "outputs": [],
   "source": [
    "!ansible -b -m shell -a \"cephadm shell -- ceph orch ls 2> /dev/null\" bootstrap"
   ]
  },
  {
   "cell_type": "code",
   "execution_count": null,
   "metadata": {
    "lc_cell_meme": {
     "current": "a78373c6-933a-11ee-91d3-0242ac120006-4-dcbf-94a3-5175-5e36",
     "history": [
      {
       "current": "a78373c6-933a-11ee-91d3-0242ac120006-1-dcbf",
       "next": "8f9c95d6-716a-11ee-89fa-0242ac120005-1-93ab",
       "previous": "5ff7a298-933a-11ee-91d3-0242ac120006"
      },
      {
       "current": "a78373c6-933a-11ee-91d3-0242ac120006-2-dcbf-94a3",
       "next": "8f9c95d6-716a-11ee-89fa-0242ac120005-2-93ab-93e9",
       "previous": "5ff7a298-933a-11ee-91d3-0242ac120006-1-a52b"
      },
      {
       "current": "a78373c6-933a-11ee-91d3-0242ac120006-3-dcbf-94a3-5175",
       "next": "8f9c95d6-716a-11ee-89fa-0242ac120005-3-93ab-93e9-4c5b",
       "previous": "5ff7a298-933a-11ee-91d3-0242ac120006-2-a52b-645f"
      },
      {
       "current": "a78373c6-933a-11ee-91d3-0242ac120006-4-dcbf-94a3-5175-5e36",
       "next": "8f9c95d6-716a-11ee-89fa-0242ac120005-4-93ab-93e9-4c5b-184c",
       "previous": "5ff7a298-933a-11ee-91d3-0242ac120006-3-a52b-645f-23ba"
      }
     ],
     "next": "8f9c95d6-716a-11ee-89fa-0242ac120005-5-93ab-93e9-4c5b-184c-a391",
     "previous": "5ff7a298-933a-11ee-91d3-0242ac120006-4-a52b-645f-23ba-4cd1"
    }
   },
   "outputs": [],
   "source": [
    "!ansible -b -m shell -a \"cephadm shell -- ceph -s 2> /dev/null\" bootstrap"
   ]
  },
  {
   "cell_type": "markdown",
   "metadata": {
    "lc_cell_meme": {
     "current": "8f9c95d6-716a-11ee-89fa-0242ac120005-5-93ab-93e9-4c5b-184c-a391",
     "history": [
      {
       "current": "8f9c95d6-716a-11ee-89fa-0242ac120005-1-93ab",
       "next": "a55217b0-7166-11ee-89fa-0242ac120005",
       "previous": "ac56a252-95bd-11ea-8d02-0242ac120007-3-86ee-3a22-9a71"
      },
      {
       "current": "8f9c95d6-716a-11ee-89fa-0242ac120005-1-93ab",
       "next": "a55217b0-7166-11ee-89fa-0242ac120005-1-10ec",
       "previous": "ac56a252-95bd-11ea-8d02-0242ac120007-4-86ee-3a22-9a71-b923"
      },
      {
       "current": "8f9c95d6-716a-11ee-89fa-0242ac120005-1-93ab",
       "next": "a55217b0-7166-11ee-89fa-0242ac120005-1-10ec",
       "previous": "5ff7a298-933a-11ee-91d3-0242ac120006"
      },
      {
       "current": "8f9c95d6-716a-11ee-89fa-0242ac120005-2-93ab-93e9",
       "next": "a55217b0-7166-11ee-89fa-0242ac120005-1-10ec",
       "previous": "a78373c6-933a-11ee-91d3-0242ac120006"
      },
      {
       "current": "8f9c95d6-716a-11ee-89fa-0242ac120005-3-93ab-93e9-4c5b",
       "next": "a55217b0-7166-11ee-89fa-0242ac120005-2-10ec-750c",
       "previous": "a78373c6-933a-11ee-91d3-0242ac120006-1-dcbf"
      },
      {
       "current": "8f9c95d6-716a-11ee-89fa-0242ac120005-4-93ab-93e9-4c5b-184c",
       "next": "a55217b0-7166-11ee-89fa-0242ac120005-3-10ec-750c-892d",
       "previous": "a78373c6-933a-11ee-91d3-0242ac120006-2-dcbf-94a3"
      },
      {
       "current": "8f9c95d6-716a-11ee-89fa-0242ac120005-5-93ab-93e9-4c5b-184c-a391",
       "next": "a55217b0-7166-11ee-89fa-0242ac120005-4-10ec-750c-892d-4a08",
       "previous": "a78373c6-933a-11ee-91d3-0242ac120006-3-dcbf-94a3-5175"
      }
     ],
     "next": "a55217b0-7166-11ee-89fa-0242ac120005-5-10ec-750c-892d-4a08-3d53",
     "previous": "a78373c6-933a-11ee-91d3-0242ac120006-4-dcbf-94a3-5175-5e36"
    }
   },
   "source": [
    "## ceph.confとadmin keyringファイルの取得"
   ]
  },
  {
   "cell_type": "code",
   "execution_count": null,
   "metadata": {
    "lc_cell_meme": {
     "current": "a55217b0-7166-11ee-89fa-0242ac120005-5-10ec-750c-892d-4a08-3d53",
     "history": [
      {
       "current": "a55217b0-7166-11ee-89fa-0242ac120005",
       "next": "a55218fa-7166-11ee-89fa-0242ac120005",
       "previous": "ac56a252-95bd-11ea-8d02-0242ac120007-3-86ee-3a22-9a71"
      },
      {
       "current": "a55217b0-7166-11ee-89fa-0242ac120005",
       "next": "c3e49094-7167-11ee-89fa-0242ac120005",
       "previous": "ac56a252-95bd-11ea-8d02-0242ac120007-3-86ee-3a22-9a71"
      },
      {
       "current": "a55217b0-7166-11ee-89fa-0242ac120005-1-10ec",
       "next": "c3e49094-7167-11ee-89fa-0242ac120005",
       "previous": "8f9c95d6-716a-11ee-89fa-0242ac120005"
      },
      {
       "current": "a55217b0-7166-11ee-89fa-0242ac120005-2-10ec-750c",
       "next": "c3e49094-7167-11ee-89fa-0242ac120005-1-fad9",
       "previous": "8f9c95d6-716a-11ee-89fa-0242ac120005-1-93ab"
      },
      {
       "current": "a55217b0-7166-11ee-89fa-0242ac120005-3-10ec-750c-892d",
       "next": "c3e49094-7167-11ee-89fa-0242ac120005-2-fad9-dbd5",
       "previous": "8f9c95d6-716a-11ee-89fa-0242ac120005-2-93ab-93e9"
      },
      {
       "current": "a55217b0-7166-11ee-89fa-0242ac120005-4-10ec-750c-892d-4a08",
       "next": "c3e49094-7167-11ee-89fa-0242ac120005-3-fad9-dbd5-13e6",
       "previous": "8f9c95d6-716a-11ee-89fa-0242ac120005-3-93ab-93e9-4c5b"
      },
      {
       "current": "a55217b0-7166-11ee-89fa-0242ac120005-5-10ec-750c-892d-4a08-3d53",
       "next": "c3e49094-7167-11ee-89fa-0242ac120005-4-fad9-dbd5-13e6-9077",
       "previous": "8f9c95d6-716a-11ee-89fa-0242ac120005-4-93ab-93e9-4c5b-184c"
      }
     ],
     "next": "c3e49094-7167-11ee-89fa-0242ac120005-5-fad9-dbd5-13e6-9077-a39e",
     "previous": "8f9c95d6-716a-11ee-89fa-0242ac120005-5-93ab-93e9-4c5b-184c-a391"
    }
   },
   "outputs": [],
   "source": [
    "!ansible -b -m shell -a 'cephadm shell -- ceph auth get client.admin > /tmp/ceph.client.admin.keyring' bootstrap"
   ]
  },
  {
   "cell_type": "code",
   "execution_count": null,
   "metadata": {
    "lc_cell_meme": {
     "current": "c3e49094-7167-11ee-89fa-0242ac120005-5-fad9-dbd5-13e6-9077-a39e",
     "history": [
      {
       "current": "c3e49094-7167-11ee-89fa-0242ac120005-1-fad9",
       "next": "a55218fa-7166-11ee-89fa-0242ac120005",
       "previous": "a55217b0-7166-11ee-89fa-0242ac120005"
      },
      {
       "current": "c3e49094-7167-11ee-89fa-0242ac120005-2-fad9-dbd5",
       "next": "a55218fa-7166-11ee-89fa-0242ac120005-1-e286",
       "previous": "a55217b0-7166-11ee-89fa-0242ac120005-1-10ec"
      },
      {
       "current": "c3e49094-7167-11ee-89fa-0242ac120005-3-fad9-dbd5-13e6",
       "next": "a55218fa-7166-11ee-89fa-0242ac120005-2-e286-2b84",
       "previous": "a55217b0-7166-11ee-89fa-0242ac120005-2-10ec-750c"
      },
      {
       "current": "c3e49094-7167-11ee-89fa-0242ac120005-4-fad9-dbd5-13e6-9077",
       "next": "a55218fa-7166-11ee-89fa-0242ac120005-3-e286-2b84-ae5c",
       "previous": "a55217b0-7166-11ee-89fa-0242ac120005-3-10ec-750c-892d"
      },
      {
       "current": "c3e49094-7167-11ee-89fa-0242ac120005-5-fad9-dbd5-13e6-9077-a39e",
       "next": "a55218fa-7166-11ee-89fa-0242ac120005-4-e286-2b84-ae5c-7e5d",
       "previous": "a55217b0-7166-11ee-89fa-0242ac120005-4-10ec-750c-892d-4a08"
      }
     ],
     "next": "a55218fa-7166-11ee-89fa-0242ac120005-5-e286-2b84-ae5c-7e5d-2cc6",
     "previous": "a55217b0-7166-11ee-89fa-0242ac120005-5-10ec-750c-892d-4a08-3d53"
    }
   },
   "outputs": [],
   "source": [
    "!ansible -b -m shell -a 'cat /tmp/ceph.client.admin.keyring' bootstrap"
   ]
  },
  {
   "cell_type": "code",
   "execution_count": null,
   "metadata": {
    "lc_cell_meme": {
     "current": "a55218fa-7166-11ee-89fa-0242ac120005-5-e286-2b84-ae5c-7e5d-2cc6",
     "history": [
      {
       "current": "a55218fa-7166-11ee-89fa-0242ac120005",
       "next": "a5521954-7166-11ee-89fa-0242ac120005",
       "previous": "a55217b0-7166-11ee-89fa-0242ac120005"
      },
      {
       "current": "a55218fa-7166-11ee-89fa-0242ac120005-1-e286",
       "next": "a5521954-7166-11ee-89fa-0242ac120005",
       "previous": "c3e49094-7167-11ee-89fa-0242ac120005"
      },
      {
       "current": "a55218fa-7166-11ee-89fa-0242ac120005-2-e286-2b84",
       "next": "a5521954-7166-11ee-89fa-0242ac120005-1-4039",
       "previous": "c3e49094-7167-11ee-89fa-0242ac120005-1-fad9"
      },
      {
       "current": "a55218fa-7166-11ee-89fa-0242ac120005-3-e286-2b84-ae5c",
       "next": "a5521954-7166-11ee-89fa-0242ac120005-2-4039-b0a2",
       "previous": "c3e49094-7167-11ee-89fa-0242ac120005-2-fad9-dbd5"
      },
      {
       "current": "a55218fa-7166-11ee-89fa-0242ac120005-4-e286-2b84-ae5c-7e5d",
       "next": "a5521954-7166-11ee-89fa-0242ac120005-3-4039-b0a2-ae81",
       "previous": "c3e49094-7167-11ee-89fa-0242ac120005-3-fad9-dbd5-13e6"
      },
      {
       "current": "a55218fa-7166-11ee-89fa-0242ac120005-5-e286-2b84-ae5c-7e5d-2cc6",
       "next": "a5521954-7166-11ee-89fa-0242ac120005-4-4039-b0a2-ae81-e1bd",
       "previous": "c3e49094-7167-11ee-89fa-0242ac120005-4-fad9-dbd5-13e6-9077"
      }
     ],
     "next": "a5521954-7166-11ee-89fa-0242ac120005-5-4039-b0a2-ae81-e1bd-b54a",
     "previous": "c3e49094-7167-11ee-89fa-0242ac120005-5-fad9-dbd5-13e6-9077-a39e"
    }
   },
   "outputs": [],
   "source": [
    "!ansible  -b -m shell -a 'cephadm shell -- ceph config generate-minimal-conf > /tmp/ceph.conf 2> /dev/null' bootstrap"
   ]
  },
  {
   "cell_type": "code",
   "execution_count": null,
   "metadata": {
    "lc_cell_meme": {
     "current": "a5521954-7166-11ee-89fa-0242ac120005-5-4039-b0a2-ae81-e1bd-b54a",
     "history": [
      {
       "current": "a5521954-7166-11ee-89fa-0242ac120005-1-4039",
       "next": "a552199a-7166-11ee-89fa-0242ac120005",
       "previous": "a55218fa-7166-11ee-89fa-0242ac120005"
      },
      {
       "current": "a5521954-7166-11ee-89fa-0242ac120005-2-4039-b0a2",
       "next": "a552199a-7166-11ee-89fa-0242ac120005-1-1b1e",
       "previous": "a55218fa-7166-11ee-89fa-0242ac120005-1-e286"
      },
      {
       "current": "a5521954-7166-11ee-89fa-0242ac120005-3-4039-b0a2-ae81",
       "next": "a552199a-7166-11ee-89fa-0242ac120005-2-1b1e-ec97",
       "previous": "a55218fa-7166-11ee-89fa-0242ac120005-2-e286-2b84"
      },
      {
       "current": "a5521954-7166-11ee-89fa-0242ac120005-4-4039-b0a2-ae81-e1bd",
       "next": "a552199a-7166-11ee-89fa-0242ac120005-3-1b1e-ec97-1d47",
       "previous": "a55218fa-7166-11ee-89fa-0242ac120005-3-e286-2b84-ae5c"
      },
      {
       "current": "a5521954-7166-11ee-89fa-0242ac120005-5-4039-b0a2-ae81-e1bd-b54a",
       "next": "a552199a-7166-11ee-89fa-0242ac120005-4-1b1e-ec97-1d47-fd77",
       "previous": "a55218fa-7166-11ee-89fa-0242ac120005-4-e286-2b84-ae5c-7e5d"
      }
     ],
     "next": "a552199a-7166-11ee-89fa-0242ac120005-5-1b1e-ec97-1d47-fd77-4b83",
     "previous": "a55218fa-7166-11ee-89fa-0242ac120005-5-e286-2b84-ae5c-7e5d-2cc6"
    }
   },
   "outputs": [],
   "source": [
    "!ansible -b -m shell -a 'cat /tmp/ceph.conf' bootstrap"
   ]
  },
  {
   "cell_type": "code",
   "execution_count": null,
   "metadata": {
    "lc_cell_meme": {
     "current": "a552199a-7166-11ee-89fa-0242ac120005-5-1b1e-ec97-1d47-fd77-4b83",
     "history": [
      {
       "current": "a552199a-7166-11ee-89fa-0242ac120005",
       "next": "d9541562-61bd-11ee-89fa-0242ac120005",
       "previous": "a5521954-7166-11ee-89fa-0242ac120005"
      },
      {
       "current": "a552199a-7166-11ee-89fa-0242ac120005-1-1b1e",
       "next": "0b7215a8-7168-11ee-89fa-0242ac120005",
       "previous": "a5521954-7166-11ee-89fa-0242ac120005"
      },
      {
       "current": "a552199a-7166-11ee-89fa-0242ac120005-2-1b1e-ec97",
       "next": "0b7215a8-7168-11ee-89fa-0242ac120005-1-9bb1",
       "previous": "a5521954-7166-11ee-89fa-0242ac120005-1-4039"
      },
      {
       "current": "a552199a-7166-11ee-89fa-0242ac120005-3-1b1e-ec97-1d47",
       "next": "0b7215a8-7168-11ee-89fa-0242ac120005-2-9bb1-e091",
       "previous": "a5521954-7166-11ee-89fa-0242ac120005-2-4039-b0a2"
      },
      {
       "current": "a552199a-7166-11ee-89fa-0242ac120005-4-1b1e-ec97-1d47-fd77",
       "next": "0b7215a8-7168-11ee-89fa-0242ac120005-3-9bb1-e091-b5f1",
       "previous": "a5521954-7166-11ee-89fa-0242ac120005-3-4039-b0a2-ae81"
      },
      {
       "current": "a552199a-7166-11ee-89fa-0242ac120005-5-1b1e-ec97-1d47-fd77-4b83",
       "next": "0b7215a8-7168-11ee-89fa-0242ac120005-4-9bb1-e091-b5f1-16c7",
       "previous": "a5521954-7166-11ee-89fa-0242ac120005-4-4039-b0a2-ae81-e1bd"
      }
     ],
     "next": "0b7215a8-7168-11ee-89fa-0242ac120005-5-9bb1-e091-b5f1-16c7-4d3a",
     "previous": "a5521954-7166-11ee-89fa-0242ac120005-5-4039-b0a2-ae81-e1bd-b54a"
    }
   },
   "outputs": [],
   "source": [
    "!ansible -b -m fetch -a 'src=/tmp/ceph.client.admin.keyring dest={temp_dir}' bootstrap"
   ]
  },
  {
   "cell_type": "code",
   "execution_count": null,
   "metadata": {
    "lc_cell_meme": {
     "current": "0b7215a8-7168-11ee-89fa-0242ac120005-5-9bb1-e091-b5f1-16c7-4d3a",
     "history": [
      {
       "current": "0b7215a8-7168-11ee-89fa-0242ac120005-1-9bb1",
       "next": "0b721760-7168-11ee-89fa-0242ac120005",
       "previous": "a552199a-7166-11ee-89fa-0242ac120005"
      },
      {
       "current": "0b7215a8-7168-11ee-89fa-0242ac120005-2-9bb1-e091",
       "next": "0b721760-7168-11ee-89fa-0242ac120005-1-d4dd",
       "previous": "a552199a-7166-11ee-89fa-0242ac120005-1-1b1e"
      },
      {
       "current": "0b7215a8-7168-11ee-89fa-0242ac120005-3-9bb1-e091-b5f1",
       "next": "0b721760-7168-11ee-89fa-0242ac120005-2-d4dd-6ed1",
       "previous": "a552199a-7166-11ee-89fa-0242ac120005-2-1b1e-ec97"
      },
      {
       "current": "0b7215a8-7168-11ee-89fa-0242ac120005-4-9bb1-e091-b5f1-16c7",
       "next": "0b721760-7168-11ee-89fa-0242ac120005-3-d4dd-6ed1-3607",
       "previous": "a552199a-7166-11ee-89fa-0242ac120005-3-1b1e-ec97-1d47"
      },
      {
       "current": "0b7215a8-7168-11ee-89fa-0242ac120005-5-9bb1-e091-b5f1-16c7-4d3a",
       "next": "0b721760-7168-11ee-89fa-0242ac120005-4-d4dd-6ed1-3607-204d",
       "previous": "a552199a-7166-11ee-89fa-0242ac120005-4-1b1e-ec97-1d47-fd77"
      }
     ],
     "next": "0b721760-7168-11ee-89fa-0242ac120005-5-d4dd-6ed1-3607-204d-8fe4",
     "previous": "a552199a-7166-11ee-89fa-0242ac120005-5-1b1e-ec97-1d47-fd77-4b83"
    }
   },
   "outputs": [],
   "source": [
    "!ansible -b -m fetch -a 'src=/tmp/ceph.conf dest={temp_dir}' bootstrap"
   ]
  },
  {
   "cell_type": "code",
   "execution_count": null,
   "metadata": {
    "lc_cell_meme": {
     "current": "0b721760-7168-11ee-89fa-0242ac120005-5-d4dd-6ed1-3607-204d-8fe4",
     "history": [
      {
       "current": "0b721760-7168-11ee-89fa-0242ac120005",
       "next": "0b72180a-7168-11ee-89fa-0242ac120005",
       "previous": "0b7215a8-7168-11ee-89fa-0242ac120005"
      },
      {
       "current": "0b721760-7168-11ee-89fa-0242ac120005",
       "next": "0b721882-7168-11ee-89fa-0242ac120005-1-2b48",
       "previous": "0b7215a8-7168-11ee-89fa-0242ac120005"
      },
      {
       "current": "0b721760-7168-11ee-89fa-0242ac120005-1-d4dd",
       "next": "66314074-716b-11ee-89fa-0242ac120005",
       "previous": "0b7215a8-7168-11ee-89fa-0242ac120005"
      },
      {
       "current": "0b721760-7168-11ee-89fa-0242ac120005-2-d4dd-6ed1",
       "next": "66314074-716b-11ee-89fa-0242ac120005-1-0260",
       "previous": "0b7215a8-7168-11ee-89fa-0242ac120005-1-9bb1"
      },
      {
       "current": "0b721760-7168-11ee-89fa-0242ac120005-3-d4dd-6ed1-3607",
       "next": "66314074-716b-11ee-89fa-0242ac120005-2-0260-1495",
       "previous": "0b7215a8-7168-11ee-89fa-0242ac120005-2-9bb1-e091"
      },
      {
       "current": "0b721760-7168-11ee-89fa-0242ac120005-4-d4dd-6ed1-3607-204d",
       "next": "66314074-716b-11ee-89fa-0242ac120005-3-0260-1495-a9a7",
       "previous": "0b7215a8-7168-11ee-89fa-0242ac120005-3-9bb1-e091-b5f1"
      },
      {
       "current": "0b721760-7168-11ee-89fa-0242ac120005-5-d4dd-6ed1-3607-204d-8fe4",
       "next": "66314074-716b-11ee-89fa-0242ac120005-4-0260-1495-a9a7-b171",
       "previous": "0b7215a8-7168-11ee-89fa-0242ac120005-4-9bb1-e091-b5f1-16c7"
      }
     ],
     "next": "66314074-716b-11ee-89fa-0242ac120005-5-0260-1495-a9a7-b171-3066",
     "previous": "0b7215a8-7168-11ee-89fa-0242ac120005-5-9bb1-e091-b5f1-16c7-4d3a"
    }
   },
   "outputs": [],
   "source": [
    "!ls -la {temp_dir}/{bootstrap_ip}/tmp"
   ]
  },
  {
   "cell_type": "code",
   "execution_count": null,
   "metadata": {
    "lc_cell_meme": {
     "current": "66314074-716b-11ee-89fa-0242ac120005-5-0260-1495-a9a7-b171-3066",
     "history": [
      {
       "current": "66314074-716b-11ee-89fa-0242ac120005-1-0260",
       "next": "66314222-716b-11ee-89fa-0242ac120005",
       "previous": "0b721760-7168-11ee-89fa-0242ac120005"
      },
      {
       "current": "66314074-716b-11ee-89fa-0242ac120005-2-0260-1495",
       "next": "66314222-716b-11ee-89fa-0242ac120005-1-b185",
       "previous": "0b721760-7168-11ee-89fa-0242ac120005-1-d4dd"
      },
      {
       "current": "66314074-716b-11ee-89fa-0242ac120005-3-0260-1495-a9a7",
       "next": "66314222-716b-11ee-89fa-0242ac120005-2-b185-4519",
       "previous": "0b721760-7168-11ee-89fa-0242ac120005-2-d4dd-6ed1"
      },
      {
       "current": "66314074-716b-11ee-89fa-0242ac120005-4-0260-1495-a9a7-b171",
       "next": "66314222-716b-11ee-89fa-0242ac120005-3-b185-4519-6025",
       "previous": "0b721760-7168-11ee-89fa-0242ac120005-3-d4dd-6ed1-3607"
      },
      {
       "current": "66314074-716b-11ee-89fa-0242ac120005-5-0260-1495-a9a7-b171-3066",
       "next": "66314222-716b-11ee-89fa-0242ac120005-4-b185-4519-6025-e89b",
       "previous": "0b721760-7168-11ee-89fa-0242ac120005-4-d4dd-6ed1-3607-204d"
      }
     ],
     "next": "66314222-716b-11ee-89fa-0242ac120005-5-b185-4519-6025-e89b-2c5f",
     "previous": "0b721760-7168-11ee-89fa-0242ac120005-5-d4dd-6ed1-3607-204d-8fe4"
    }
   },
   "outputs": [],
   "source": [
    "!cat {temp_dir}/{bootstrap_ip}/tmp/ceph.client.admin.keyring"
   ]
  },
  {
   "cell_type": "code",
   "execution_count": null,
   "metadata": {
    "lc_cell_meme": {
     "current": "66314222-716b-11ee-89fa-0242ac120005-5-b185-4519-6025-e89b-2c5f",
     "history": [
      {
       "current": "66314222-716b-11ee-89fa-0242ac120005-1-b185",
       "next": "0b721882-7168-11ee-89fa-0242ac120005-1-2b48",
       "previous": "66314074-716b-11ee-89fa-0242ac120005"
      },
      {
       "current": "66314222-716b-11ee-89fa-0242ac120005-2-b185-4519",
       "next": "0b721882-7168-11ee-89fa-0242ac120005-2-2b48-b45a",
       "previous": "66314074-716b-11ee-89fa-0242ac120005-1-0260"
      },
      {
       "current": "66314222-716b-11ee-89fa-0242ac120005-3-b185-4519-6025",
       "next": "0b721882-7168-11ee-89fa-0242ac120005-3-2b48-b45a-df71",
       "previous": "66314074-716b-11ee-89fa-0242ac120005-2-0260-1495"
      },
      {
       "current": "66314222-716b-11ee-89fa-0242ac120005-4-b185-4519-6025-e89b",
       "next": "0b721882-7168-11ee-89fa-0242ac120005-4-2b48-b45a-df71-ea8a",
       "previous": "66314074-716b-11ee-89fa-0242ac120005-3-0260-1495-a9a7"
      },
      {
       "current": "66314222-716b-11ee-89fa-0242ac120005-5-b185-4519-6025-e89b-2c5f",
       "next": "0b721882-7168-11ee-89fa-0242ac120005-5-2b48-b45a-df71-ea8a-f440",
       "previous": "66314074-716b-11ee-89fa-0242ac120005-4-0260-1495-a9a7-b171"
      }
     ],
     "next": "0b721882-7168-11ee-89fa-0242ac120005-6-2b48-b45a-df71-ea8a-f440-3c4b",
     "previous": "66314074-716b-11ee-89fa-0242ac120005-5-0260-1495-a9a7-b171-3066"
    }
   },
   "outputs": [],
   "source": [
    "!cat {temp_dir}/{bootstrap_ip}/tmp/ceph.conf"
   ]
  },
  {
   "cell_type": "markdown",
   "metadata": {
    "lc_cell_meme": {
     "current": "0b721882-7168-11ee-89fa-0242ac120005-6-2b48-b45a-df71-ea8a-f440-3c4b",
     "history": [
      {
       "current": "0b721882-7168-11ee-89fa-0242ac120005-1-2b48",
       "next": "0b7218f0-7168-11ee-89fa-0242ac120005",
       "previous": "0b72180a-7168-11ee-89fa-0242ac120005"
      },
      {
       "current": "0b721882-7168-11ee-89fa-0242ac120005-1-2b48",
       "next": "8f9c97a2-716a-11ee-89fa-0242ac120005",
       "previous": "0b721760-7168-11ee-89fa-0242ac120005"
      },
      {
       "current": "0b721882-7168-11ee-89fa-0242ac120005-2-2b48-b45a",
       "next": "8f9c97a2-716a-11ee-89fa-0242ac120005",
       "previous": "66314222-716b-11ee-89fa-0242ac120005"
      },
      {
       "current": "0b721882-7168-11ee-89fa-0242ac120005-3-2b48-b45a-df71",
       "next": "8f9c97a2-716a-11ee-89fa-0242ac120005-1-72c0",
       "previous": "66314222-716b-11ee-89fa-0242ac120005-1-b185"
      },
      {
       "current": "0b721882-7168-11ee-89fa-0242ac120005-4-2b48-b45a-df71-ea8a",
       "next": "8f9c97a2-716a-11ee-89fa-0242ac120005-2-72c0-5cba",
       "previous": "66314222-716b-11ee-89fa-0242ac120005-2-b185-4519"
      },
      {
       "current": "0b721882-7168-11ee-89fa-0242ac120005-5-2b48-b45a-df71-ea8a-f440",
       "next": "8f9c97a2-716a-11ee-89fa-0242ac120005-3-72c0-5cba-d2ed",
       "previous": "66314222-716b-11ee-89fa-0242ac120005-3-b185-4519-6025"
      },
      {
       "current": "0b721882-7168-11ee-89fa-0242ac120005-6-2b48-b45a-df71-ea8a-f440-3c4b",
       "next": "8f9c97a2-716a-11ee-89fa-0242ac120005-4-72c0-5cba-d2ed-e196",
       "previous": "66314222-716b-11ee-89fa-0242ac120005-4-b185-4519-6025-e89b"
      }
     ],
     "next": "8f9c97a2-716a-11ee-89fa-0242ac120005-5-72c0-5cba-d2ed-e196-6303",
     "previous": "66314222-716b-11ee-89fa-0242ac120005-5-b185-4519-6025-e89b-2c5f"
    }
   },
   "source": [
    "## ceph.confとadmin keyringファイルの配置"
   ]
  },
  {
   "cell_type": "code",
   "execution_count": null,
   "metadata": {
    "lc_cell_meme": {
     "current": "8f9c97a2-716a-11ee-89fa-0242ac120005-5-72c0-5cba-d2ed-e196-6303",
     "history": [
      {
       "current": "8f9c97a2-716a-11ee-89fa-0242ac120005-1-72c0",
       "next": "8f9c984c-716a-11ee-89fa-0242ac120005",
       "previous": "0b721882-7168-11ee-89fa-0242ac120005-1-2b48"
      },
      {
       "current": "8f9c97a2-716a-11ee-89fa-0242ac120005-2-72c0-5cba",
       "next": "8f9c984c-716a-11ee-89fa-0242ac120005-1-c316",
       "previous": "0b721882-7168-11ee-89fa-0242ac120005-2-2b48-b45a"
      },
      {
       "current": "8f9c97a2-716a-11ee-89fa-0242ac120005-3-72c0-5cba-d2ed",
       "next": "8f9c984c-716a-11ee-89fa-0242ac120005-2-c316-07e9",
       "previous": "0b721882-7168-11ee-89fa-0242ac120005-3-2b48-b45a-df71"
      },
      {
       "current": "8f9c97a2-716a-11ee-89fa-0242ac120005-4-72c0-5cba-d2ed-e196",
       "next": "8f9c984c-716a-11ee-89fa-0242ac120005-3-c316-07e9-5864",
       "previous": "0b721882-7168-11ee-89fa-0242ac120005-4-2b48-b45a-df71-ea8a"
      },
      {
       "current": "8f9c97a2-716a-11ee-89fa-0242ac120005-5-72c0-5cba-d2ed-e196-6303",
       "next": "8f9c984c-716a-11ee-89fa-0242ac120005-4-c316-07e9-5864-ce35",
       "previous": "0b721882-7168-11ee-89fa-0242ac120005-5-2b48-b45a-df71-ea8a-f440"
      }
     ],
     "next": "8f9c984c-716a-11ee-89fa-0242ac120005-5-c316-07e9-5864-ce35-0bb6",
     "previous": "0b721882-7168-11ee-89fa-0242ac120005-6-2b48-b45a-df71-ea8a-f440-3c4b"
    },
    "scrolled": true
   },
   "outputs": [],
   "source": [
    "!ansible -CDv -b -m copy -a \"src=$temp_dir/$bootstrap_ip/tmp/ceph.client.admin.keyring dest=/etc/ceph/ceph.client.admin.keyring group=root owner=root mode=600\" ceph_nodes"
   ]
  },
  {
   "cell_type": "code",
   "execution_count": null,
   "metadata": {
    "lc_cell_meme": {
     "current": "8f9c984c-716a-11ee-89fa-0242ac120005-5-c316-07e9-5864-ce35-0bb6",
     "history": [
      {
       "current": "8f9c984c-716a-11ee-89fa-0242ac120005",
       "next": "8f9c98ce-716a-11ee-89fa-0242ac120005",
       "previous": "8f9c97a2-716a-11ee-89fa-0242ac120005"
      },
      {
       "current": "8f9c984c-716a-11ee-89fa-0242ac120005-1-c316",
       "next": "663142cc-716b-11ee-89fa-0242ac120005",
       "previous": "8f9c97a2-716a-11ee-89fa-0242ac120005"
      },
      {
       "current": "8f9c984c-716a-11ee-89fa-0242ac120005-2-c316-07e9",
       "next": "663142cc-716b-11ee-89fa-0242ac120005-1-820f",
       "previous": "8f9c97a2-716a-11ee-89fa-0242ac120005-1-72c0"
      },
      {
       "current": "8f9c984c-716a-11ee-89fa-0242ac120005-3-c316-07e9-5864",
       "next": "663142cc-716b-11ee-89fa-0242ac120005-2-820f-f8f4",
       "previous": "8f9c97a2-716a-11ee-89fa-0242ac120005-2-72c0-5cba"
      },
      {
       "current": "8f9c984c-716a-11ee-89fa-0242ac120005-4-c316-07e9-5864-ce35",
       "next": "663142cc-716b-11ee-89fa-0242ac120005-3-820f-f8f4-b49a",
       "previous": "8f9c97a2-716a-11ee-89fa-0242ac120005-3-72c0-5cba-d2ed"
      },
      {
       "current": "8f9c984c-716a-11ee-89fa-0242ac120005-5-c316-07e9-5864-ce35-0bb6",
       "next": "663142cc-716b-11ee-89fa-0242ac120005-4-820f-f8f4-b49a-4453",
       "previous": "8f9c97a2-716a-11ee-89fa-0242ac120005-4-72c0-5cba-d2ed-e196"
      }
     ],
     "next": "663142cc-716b-11ee-89fa-0242ac120005-5-820f-f8f4-b49a-4453-7c6f",
     "previous": "8f9c97a2-716a-11ee-89fa-0242ac120005-5-72c0-5cba-d2ed-e196-6303"
    },
    "scrolled": true
   },
   "outputs": [],
   "source": [
    "!ansible -CDv -b -m copy -a \"src=$temp_dir/$bootstrap_ip/tmp/ceph.conf dest=/etc/ceph/ceph.conf group=root owner=root mode=644\" ceph_nodes"
   ]
  },
  {
   "cell_type": "code",
   "execution_count": null,
   "metadata": {
    "lc_cell_meme": {
     "current": "663142cc-716b-11ee-89fa-0242ac120005-5-820f-f8f4-b49a-4453-7c6f",
     "history": [
      {
       "current": "663142cc-716b-11ee-89fa-0242ac120005-1-820f",
       "next": "66314344-716b-11ee-89fa-0242ac120005",
       "previous": "8f9c984c-716a-11ee-89fa-0242ac120005"
      },
      {
       "current": "663142cc-716b-11ee-89fa-0242ac120005-2-820f-f8f4",
       "next": "66314344-716b-11ee-89fa-0242ac120005-1-8a0e",
       "previous": "8f9c984c-716a-11ee-89fa-0242ac120005-1-c316"
      },
      {
       "current": "663142cc-716b-11ee-89fa-0242ac120005-3-820f-f8f4-b49a",
       "next": "66314344-716b-11ee-89fa-0242ac120005-2-8a0e-175d",
       "previous": "8f9c984c-716a-11ee-89fa-0242ac120005-2-c316-07e9"
      },
      {
       "current": "663142cc-716b-11ee-89fa-0242ac120005-4-820f-f8f4-b49a-4453",
       "next": "66314344-716b-11ee-89fa-0242ac120005-3-8a0e-175d-b71c",
       "previous": "8f9c984c-716a-11ee-89fa-0242ac120005-3-c316-07e9-5864"
      },
      {
       "current": "663142cc-716b-11ee-89fa-0242ac120005-5-820f-f8f4-b49a-4453-7c6f",
       "next": "66314344-716b-11ee-89fa-0242ac120005-4-8a0e-175d-b71c-290d",
       "previous": "8f9c984c-716a-11ee-89fa-0242ac120005-4-c316-07e9-5864-ce35"
      }
     ],
     "next": "66314344-716b-11ee-89fa-0242ac120005-5-8a0e-175d-b71c-290d-ae94",
     "previous": "8f9c984c-716a-11ee-89fa-0242ac120005-5-c316-07e9-5864-ce35-0bb6"
    },
    "scrolled": true
   },
   "outputs": [],
   "source": [
    "!ansible -b -m copy -a \"src=$temp_dir/$bootstrap_ip/tmp/ceph.client.admin.keyring dest=/etc/ceph/ceph.client.admin.keyring group=root owner=root mode=600\" ceph_nodes"
   ]
  },
  {
   "cell_type": "code",
   "execution_count": null,
   "metadata": {
    "lc_cell_meme": {
     "current": "66314344-716b-11ee-89fa-0242ac120005-5-8a0e-175d-b71c-290d-ae94",
     "history": [
      {
       "current": "66314344-716b-11ee-89fa-0242ac120005-1-8a0e",
       "next": "8f9c98ce-716a-11ee-89fa-0242ac120005",
       "previous": "663142cc-716b-11ee-89fa-0242ac120005"
      },
      {
       "current": "66314344-716b-11ee-89fa-0242ac120005-2-8a0e-175d",
       "next": "8f9c98ce-716a-11ee-89fa-0242ac120005-1-5cb2",
       "previous": "663142cc-716b-11ee-89fa-0242ac120005-1-820f"
      },
      {
       "current": "66314344-716b-11ee-89fa-0242ac120005-3-8a0e-175d-b71c",
       "next": "8f9c98ce-716a-11ee-89fa-0242ac120005-2-5cb2-62a9",
       "previous": "663142cc-716b-11ee-89fa-0242ac120005-2-820f-f8f4"
      },
      {
       "current": "66314344-716b-11ee-89fa-0242ac120005-4-8a0e-175d-b71c-290d",
       "next": "8f9c98ce-716a-11ee-89fa-0242ac120005-3-5cb2-62a9-cea8",
       "previous": "663142cc-716b-11ee-89fa-0242ac120005-3-820f-f8f4-b49a"
      },
      {
       "current": "66314344-716b-11ee-89fa-0242ac120005-5-8a0e-175d-b71c-290d-ae94",
       "next": "8f9c98ce-716a-11ee-89fa-0242ac120005-4-5cb2-62a9-cea8-0c77",
       "previous": "663142cc-716b-11ee-89fa-0242ac120005-4-820f-f8f4-b49a-4453"
      }
     ],
     "next": "8f9c98ce-716a-11ee-89fa-0242ac120005-5-5cb2-62a9-cea8-0c77-92ce",
     "previous": "663142cc-716b-11ee-89fa-0242ac120005-5-820f-f8f4-b49a-4453-7c6f"
    }
   },
   "outputs": [],
   "source": [
    "!ansible -b -m copy -a \"src=$temp_dir/$bootstrap_ip/tmp/ceph.conf dest=/etc/ceph/ceph.conf group=root owner=root mode=644\" ceph_nodes"
   ]
  },
  {
   "cell_type": "code",
   "execution_count": null,
   "metadata": {
    "lc_cell_meme": {
     "current": "8f9c98ce-716a-11ee-89fa-0242ac120005-5-5cb2-62a9-cea8-0c77-92ce",
     "history": [
      {
       "current": "8f9c98ce-716a-11ee-89fa-0242ac120005",
       "next": "8f9c993c-716a-11ee-89fa-0242ac120005",
       "previous": "8f9c984c-716a-11ee-89fa-0242ac120005"
      },
      {
       "current": "8f9c98ce-716a-11ee-89fa-0242ac120005",
       "next": "8f9c993c-716a-11ee-89fa-0242ac120005",
       "previous": "66314344-716b-11ee-89fa-0242ac120005"
      },
      {
       "current": "8f9c98ce-716a-11ee-89fa-0242ac120005",
       "next": "35c581ba-55a3-11e7-b0b2-00163e9c0e35-3-f60b-133a-40ef",
       "previous": "66314344-716b-11ee-89fa-0242ac120005"
      },
      {
       "current": "8f9c98ce-716a-11ee-89fa-0242ac120005-1-5cb2",
       "next": "3ce44206-716c-11ee-89fa-0242ac120005",
       "previous": "66314344-716b-11ee-89fa-0242ac120005"
      },
      {
       "current": "8f9c98ce-716a-11ee-89fa-0242ac120005-2-5cb2-62a9",
       "next": "3ce44206-716c-11ee-89fa-0242ac120005-1-8128",
       "previous": "66314344-716b-11ee-89fa-0242ac120005-1-8a0e"
      },
      {
       "current": "8f9c98ce-716a-11ee-89fa-0242ac120005-3-5cb2-62a9-cea8",
       "next": "3ce44206-716c-11ee-89fa-0242ac120005-2-8128-3c55",
       "previous": "66314344-716b-11ee-89fa-0242ac120005-2-8a0e-175d"
      },
      {
       "current": "8f9c98ce-716a-11ee-89fa-0242ac120005-4-5cb2-62a9-cea8-0c77",
       "next": "3ce44206-716c-11ee-89fa-0242ac120005-3-8128-3c55-ccf9",
       "previous": "66314344-716b-11ee-89fa-0242ac120005-3-8a0e-175d-b71c"
      },
      {
       "current": "8f9c98ce-716a-11ee-89fa-0242ac120005-5-5cb2-62a9-cea8-0c77-92ce",
       "next": "3ce44206-716c-11ee-89fa-0242ac120005-4-8128-3c55-ccf9-2eb3",
       "previous": "66314344-716b-11ee-89fa-0242ac120005-4-8a0e-175d-b71c-290d"
      }
     ],
     "next": "3ce44206-716c-11ee-89fa-0242ac120005-5-8128-3c55-ccf9-2eb3-963b",
     "previous": "66314344-716b-11ee-89fa-0242ac120005-5-8a0e-175d-b71c-290d-ae94"
    },
    "scrolled": true
   },
   "outputs": [],
   "source": [
    "!ansible -b -m shell -a 'ls -la /etc/ceph' ceph_nodes"
   ]
  },
  {
   "cell_type": "markdown",
   "metadata": {
    "lc_cell_meme": {
     "current": "3ce44206-716c-11ee-89fa-0242ac120005-5-8128-3c55-ccf9-2eb3-963b",
     "history": [
      {
       "current": "3ce44206-716c-11ee-89fa-0242ac120005-1-8128",
       "next": "3ce443f0-716c-11ee-89fa-0242ac120005",
       "previous": "8f9c98ce-716a-11ee-89fa-0242ac120005"
      },
      {
       "current": "3ce44206-716c-11ee-89fa-0242ac120005-2-8128-3c55",
       "next": "3ce443f0-716c-11ee-89fa-0242ac120005-1-82e4",
       "previous": "8f9c98ce-716a-11ee-89fa-0242ac120005-1-5cb2"
      },
      {
       "current": "3ce44206-716c-11ee-89fa-0242ac120005-3-8128-3c55-ccf9",
       "next": "3ce443f0-716c-11ee-89fa-0242ac120005-2-82e4-5ef3",
       "previous": "8f9c98ce-716a-11ee-89fa-0242ac120005-2-5cb2-62a9"
      },
      {
       "current": "3ce44206-716c-11ee-89fa-0242ac120005-4-8128-3c55-ccf9-2eb3",
       "next": "3ce443f0-716c-11ee-89fa-0242ac120005-3-82e4-5ef3-cc97",
       "previous": "8f9c98ce-716a-11ee-89fa-0242ac120005-3-5cb2-62a9-cea8"
      },
      {
       "current": "3ce44206-716c-11ee-89fa-0242ac120005-5-8128-3c55-ccf9-2eb3-963b",
       "next": "3ce443f0-716c-11ee-89fa-0242ac120005-4-82e4-5ef3-cc97-f1c4",
       "previous": "8f9c98ce-716a-11ee-89fa-0242ac120005-4-5cb2-62a9-cea8-0c77"
      }
     ],
     "next": "3ce443f0-716c-11ee-89fa-0242ac120005-5-82e4-5ef3-cc97-f1c4-1d74",
     "previous": "8f9c98ce-716a-11ee-89fa-0242ac120005-5-5cb2-62a9-cea8-0c77-92ce"
    }
   },
   "source": [
    "## ovs_ctrl再起動"
   ]
  },
  {
   "cell_type": "code",
   "execution_count": null,
   "metadata": {
    "lc_cell_meme": {
     "current": "3ce443f0-716c-11ee-89fa-0242ac120005-5-82e4-5ef3-cc97-f1c4-1d74",
     "history": [
      {
       "current": "3ce443f0-716c-11ee-89fa-0242ac120005-1-82e4",
       "next": "3ce444ae-716c-11ee-89fa-0242ac120005",
       "previous": "3ce44206-716c-11ee-89fa-0242ac120005"
      },
      {
       "current": "3ce443f0-716c-11ee-89fa-0242ac120005-2-82e4-5ef3",
       "next": "3ce444ae-716c-11ee-89fa-0242ac120005-1-ba1a",
       "previous": "3ce44206-716c-11ee-89fa-0242ac120005-1-8128"
      },
      {
       "current": "3ce443f0-716c-11ee-89fa-0242ac120005-3-82e4-5ef3-cc97",
       "next": "3ce444ae-716c-11ee-89fa-0242ac120005-2-ba1a-28e6",
       "previous": "3ce44206-716c-11ee-89fa-0242ac120005-2-8128-3c55"
      },
      {
       "current": "3ce443f0-716c-11ee-89fa-0242ac120005-4-82e4-5ef3-cc97-f1c4",
       "next": "3ce444ae-716c-11ee-89fa-0242ac120005-3-ba1a-28e6-fb01",
       "previous": "3ce44206-716c-11ee-89fa-0242ac120005-3-8128-3c55-ccf9"
      },
      {
       "current": "3ce443f0-716c-11ee-89fa-0242ac120005-5-82e4-5ef3-cc97-f1c4-1d74",
       "next": "3ce444ae-716c-11ee-89fa-0242ac120005-4-ba1a-28e6-fb01-7cd2",
       "previous": "3ce44206-716c-11ee-89fa-0242ac120005-4-8128-3c55-ccf9-2eb3"
      }
     ],
     "next": "3ce444ae-716c-11ee-89fa-0242ac120005-5-ba1a-28e6-fb01-7cd2-1923",
     "previous": "3ce44206-716c-11ee-89fa-0242ac120005-5-8128-3c55-ccf9-2eb3-963b"
    }
   },
   "outputs": [],
   "source": [
    "!ansible -b -m service -a \"name=ovs_ctrl enabled=yes state=restarted\" ceph_nodes"
   ]
  },
  {
   "cell_type": "code",
   "execution_count": null,
   "metadata": {
    "lc_cell_meme": {
     "current": "3ce444ae-716c-11ee-89fa-0242ac120005-5-ba1a-28e6-fb01-7cd2-1923",
     "history": [
      {
       "current": "3ce444ae-716c-11ee-89fa-0242ac120005-1-ba1a",
       "next": "35c581ba-55a3-11e7-b0b2-00163e9c0e35-3-f60b-133a-40ef",
       "previous": "3ce443f0-716c-11ee-89fa-0242ac120005"
      },
      {
       "current": "3ce444ae-716c-11ee-89fa-0242ac120005-1-ba1a",
       "next": "35c581ba-55a3-11e7-b0b2-00163e9c0e35-4-f60b-133a-40ef-8381",
       "previous": "3ce443f0-716c-11ee-89fa-0242ac120005-1-82e4"
      },
      {
       "current": "3ce444ae-716c-11ee-89fa-0242ac120005-2-ba1a-28e6",
       "next": "223dd2fa-933b-11ee-91d3-0242ac120006",
       "previous": "3ce443f0-716c-11ee-89fa-0242ac120005-1-82e4"
      },
      {
       "current": "3ce444ae-716c-11ee-89fa-0242ac120005-3-ba1a-28e6-fb01",
       "next": "223dd2fa-933b-11ee-91d3-0242ac120006-1-9ed0",
       "previous": "3ce443f0-716c-11ee-89fa-0242ac120005-2-82e4-5ef3"
      },
      {
       "current": "3ce444ae-716c-11ee-89fa-0242ac120005-4-ba1a-28e6-fb01-7cd2",
       "next": "223dd2fa-933b-11ee-91d3-0242ac120006-2-9ed0-dd69",
       "previous": "3ce443f0-716c-11ee-89fa-0242ac120005-3-82e4-5ef3-cc97"
      },
      {
       "current": "3ce444ae-716c-11ee-89fa-0242ac120005-5-ba1a-28e6-fb01-7cd2-1923",
       "next": "223dd2fa-933b-11ee-91d3-0242ac120006-3-9ed0-dd69-3b82",
       "previous": "3ce443f0-716c-11ee-89fa-0242ac120005-4-82e4-5ef3-cc97-f1c4"
      }
     ],
     "next": "223dd2fa-933b-11ee-91d3-0242ac120006-4-9ed0-dd69-3b82-c980",
     "previous": "3ce443f0-716c-11ee-89fa-0242ac120005-5-82e4-5ef3-cc97-f1c4-1d74"
    },
    "scrolled": true
   },
   "outputs": [],
   "source": [
    "!ansible -b -m shell -a \"systemctl status ovs_ctrl\" ceph_nodes"
   ]
  },
  {
   "cell_type": "code",
   "execution_count": null,
   "metadata": {
    "lc_cell_meme": {
     "current": "223dd2fa-933b-11ee-91d3-0242ac120006-4-9ed0-dd69-3b82-c980",
     "history": [
      {
       "current": "223dd2fa-933b-11ee-91d3-0242ac120006-1-9ed0",
       "next": "223dd598-933b-11ee-91d3-0242ac120006",
       "previous": "3ce444ae-716c-11ee-89fa-0242ac120005-1-ba1a"
      },
      {
       "current": "223dd2fa-933b-11ee-91d3-0242ac120006-2-9ed0-dd69",
       "next": "223dd598-933b-11ee-91d3-0242ac120006-1-9fc6",
       "previous": "3ce444ae-716c-11ee-89fa-0242ac120005-2-ba1a-28e6"
      },
      {
       "current": "223dd2fa-933b-11ee-91d3-0242ac120006-3-9ed0-dd69-3b82",
       "next": "223dd598-933b-11ee-91d3-0242ac120006-2-9fc6-8271",
       "previous": "3ce444ae-716c-11ee-89fa-0242ac120005-3-ba1a-28e6-fb01"
      },
      {
       "current": "223dd2fa-933b-11ee-91d3-0242ac120006-4-9ed0-dd69-3b82-c980",
       "next": "223dd598-933b-11ee-91d3-0242ac120006-3-9fc6-8271-0810",
       "previous": "3ce444ae-716c-11ee-89fa-0242ac120005-4-ba1a-28e6-fb01-7cd2"
      }
     ],
     "next": "223dd598-933b-11ee-91d3-0242ac120006-4-9fc6-8271-0810-7d93",
     "previous": "3ce444ae-716c-11ee-89fa-0242ac120005-5-ba1a-28e6-fb01-7cd2-1923"
    }
   },
   "outputs": [],
   "source": [
    "!ansible -b -m service -a \"name=ovs_ctrl enabled=yes state=restarted\" bootstrap"
   ]
  },
  {
   "cell_type": "code",
   "execution_count": null,
   "metadata": {
    "lc_cell_meme": {
     "current": "223dd598-933b-11ee-91d3-0242ac120006-4-9fc6-8271-0810-7d93",
     "history": [
      {
       "current": "223dd598-933b-11ee-91d3-0242ac120006-1-9fc6",
       "next": "35c581ba-55a3-11e7-b0b2-00163e9c0e35-4-f60b-133a-40ef-8381",
       "previous": "223dd2fa-933b-11ee-91d3-0242ac120006"
      },
      {
       "current": "223dd598-933b-11ee-91d3-0242ac120006-2-9fc6-8271",
       "next": "35c581ba-55a3-11e7-b0b2-00163e9c0e35-5-f60b-133a-40ef-8381-f899",
       "previous": "223dd2fa-933b-11ee-91d3-0242ac120006-1-9ed0"
      },
      {
       "current": "223dd598-933b-11ee-91d3-0242ac120006-3-9fc6-8271-0810",
       "next": "35c581ba-55a3-11e7-b0b2-00163e9c0e35-6-f60b-133a-40ef-8381-f899-e943",
       "previous": "223dd2fa-933b-11ee-91d3-0242ac120006-2-9ed0-dd69"
      },
      {
       "current": "223dd598-933b-11ee-91d3-0242ac120006-4-9fc6-8271-0810-7d93",
       "next": "35c581ba-55a3-11e7-b0b2-00163e9c0e35-7-f60b-133a-40ef-8381-f899-e943-5d28",
       "previous": "223dd2fa-933b-11ee-91d3-0242ac120006-3-9ed0-dd69-3b82"
      }
     ],
     "next": "35c581ba-55a3-11e7-b0b2-00163e9c0e35-8-f60b-133a-40ef-8381-f899-e943-5d28-abfe",
     "previous": "223dd2fa-933b-11ee-91d3-0242ac120006-4-9ed0-dd69-3b82-c980"
    }
   },
   "outputs": [],
   "source": [
    "!ansible -b -m shell -a \"systemctl status ovs_ctrl\" bootstrap"
   ]
  },
  {
   "cell_type": "markdown",
   "metadata": {
    "collapsed": true,
    "lc_cell_meme": {
     "current": "35c581ba-55a3-11e7-b0b2-00163e9c0e35-8-f60b-133a-40ef-8381-f899-e943-5d28-abfe",
     "history": [
      {
       "current": "35c581ba-55a3-11e7-b0b2-00163e9c0e35",
       "next": "35c58340-55a3-11e7-b0b2-00163e9c0e35",
       "previous": "35c58034-55a3-11e7-b0b2-00163e9c0e35"
      },
      {
       "current": "35c581ba-55a3-11e7-b0b2-00163e9c0e35",
       "next": "35c58340-55a3-11e7-b0b2-00163e9c0e35",
       "previous": "35c51928-55a3-11e7-b0b2-00163e9c0e35"
      },
      {
       "current": "35c581ba-55a3-11e7-b0b2-00163e9c0e35",
       "next": "35c58340-55a3-11e7-b0b2-00163e9c0e35",
       "previous": "277a614c-47b9-11ea-a028-0242ac120005"
      },
      {
       "current": "35c581ba-55a3-11e7-b0b2-00163e9c0e35",
       "next": "35c58340-55a3-11e7-b0b2-00163e9c0e35",
       "previous": "35c51928-55a3-11e7-b0b2-00163e9c0e35"
      },
      {
       "current": "35c581ba-55a3-11e7-b0b2-00163e9c0e35",
       "next": "35c58340-55a3-11e7-b0b2-00163e9c0e35",
       "previous": "b8a85906-47b6-11ea-a028-0242ac120005"
      },
      {
       "current": "35c581ba-55a3-11e7-b0b2-00163e9c0e35",
       "next": "35c58340-55a3-11e7-b0b2-00163e9c0e35",
       "previous": "35c38fae-55a3-11e7-b0b2-00163e9c0e35"
      },
      {
       "current": "35c581ba-55a3-11e7-b0b2-00163e9c0e35",
       "next": "35c58340-55a3-11e7-b0b2-00163e9c0e35",
       "previous": "35c385a4-55a3-11e7-b0b2-00163e9c0e35"
      },
      {
       "current": "35c581ba-55a3-11e7-b0b2-00163e9c0e35",
       "next": "35c58340-55a3-11e7-b0b2-00163e9c0e35",
       "previous": "27c39180-935b-11ea-8d02-0242ac120007"
      },
      {
       "current": "35c581ba-55a3-11e7-b0b2-00163e9c0e35",
       "next": "35c58340-55a3-11e7-b0b2-00163e9c0e35",
       "previous": "35c385a4-55a3-11e7-b0b2-00163e9c0e35"
      },
      {
       "current": "35c581ba-55a3-11e7-b0b2-00163e9c0e35",
       "next": "35c58340-55a3-11e7-b0b2-00163e9c0e35",
       "previous": "b20d6ace-9684-11ea-8d02-0242ac120007"
      },
      {
       "current": "35c581ba-55a3-11e7-b0b2-00163e9c0e35",
       "next": "35c58340-55a3-11e7-b0b2-00163e9c0e35",
       "previous": "18b837c6-9686-11ea-8d02-0242ac120007"
      },
      {
       "current": "35c581ba-55a3-11e7-b0b2-00163e9c0e35",
       "next": "35c58340-55a3-11e7-b0b2-00163e9c0e35",
       "previous": "59de09f6-9686-11ea-8d02-0242ac120007"
      },
      {
       "current": "35c581ba-55a3-11e7-b0b2-00163e9c0e35",
       "next": "35c58340-55a3-11e7-b0b2-00163e9c0e35",
       "previous": "7dae8b30-9686-11ea-8d02-0242ac120007"
      },
      {
       "current": "35c581ba-55a3-11e7-b0b2-00163e9c0e35",
       "next": "35c58340-55a3-11e7-b0b2-00163e9c0e35",
       "previous": "789942dc-9692-11ea-8d02-0242ac120007"
      },
      {
       "current": "35c581ba-55a3-11e7-b0b2-00163e9c0e35",
       "next": "35c58340-55a3-11e7-b0b2-00163e9c0e35",
       "previous": "e95d003a-9697-11ea-8d02-0242ac120007"
      },
      {
       "current": "35c581ba-55a3-11e7-b0b2-00163e9c0e35",
       "next": "35c58340-55a3-11e7-b0b2-00163e9c0e35",
       "previous": "357fc83a-969d-11ea-8d02-0242ac120007"
      },
      {
       "current": "35c581ba-55a3-11e7-b0b2-00163e9c0e35",
       "next": "35c58340-55a3-11e7-b0b2-00163e9c0e35",
       "previous": "7dae86da-9686-11ea-8d02-0242ac120007"
      },
      {
       "current": "35c581ba-55a3-11e7-b0b2-00163e9c0e35",
       "next": "35c58340-55a3-11e7-b0b2-00163e9c0e35",
       "previous": "49102d8c-98a9-11ea-8d02-0242ac120007"
      },
      {
       "current": "35c581ba-55a3-11e7-b0b2-00163e9c0e35",
       "next": "35c58340-55a3-11e7-b0b2-00163e9c0e35",
       "previous": "dbe917aa-9984-11ea-8d02-0242ac120007"
      },
      {
       "current": "35c581ba-55a3-11e7-b0b2-00163e9c0e35",
       "next": "35c58340-55a3-11e7-b0b2-00163e9c0e35",
       "previous": "f9f7c1a0-9985-11ea-8d02-0242ac120007"
      },
      {
       "current": "35c581ba-55a3-11e7-b0b2-00163e9c0e35",
       "next": "35c58340-55a3-11e7-b0b2-00163e9c0e35",
       "previous": "4180e646-9986-11ea-8d02-0242ac120007"
      },
      {
       "current": "35c581ba-55a3-11e7-b0b2-00163e9c0e35",
       "next": "35c58340-55a3-11e7-b0b2-00163e9c0e35",
       "previous": "eea7aafc-9987-11ea-8d02-0242ac120007"
      },
      {
       "current": "35c581ba-55a3-11e7-b0b2-00163e9c0e35",
       "next": "35c58340-55a3-11e7-b0b2-00163e9c0e35",
       "previous": "7db36be6-9988-11ea-8d02-0242ac120007"
      },
      {
       "current": "35c581ba-55a3-11e7-b0b2-00163e9c0e35",
       "next": "35c58340-55a3-11e7-b0b2-00163e9c0e35",
       "previous": "7db36a7e-9988-11ea-8d02-0242ac120007"
      },
      {
       "current": "35c581ba-55a3-11e7-b0b2-00163e9c0e35",
       "next": "35c58340-55a3-11e7-b0b2-00163e9c0e35",
       "previous": "f3e7d364-998e-11ea-8d02-0242ac120007"
      },
      {
       "current": "35c581ba-55a3-11e7-b0b2-00163e9c0e35-1-f60b",
       "next": "35c58340-55a3-11e7-b0b2-00163e9c0e35",
       "previous": "b0a33f46-98ce-11ea-8d02-0242ac120007"
      },
      {
       "current": "35c581ba-55a3-11e7-b0b2-00163e9c0e35-2-f60b-133a",
       "next": "35c58340-55a3-11e7-b0b2-00163e9c0e35-1-c0ce",
       "previous": "b0a33f46-98ce-11ea-8d02-0242ac120007-1-1e51"
      },
      {
       "current": "35c581ba-55a3-11e7-b0b2-00163e9c0e35-2-f60b-133a",
       "next": "35c58340-55a3-11e7-b0b2-00163e9c0e35-2-c0ce-9618",
       "previous": "b0a33f46-98ce-11ea-8d02-0242ac120007-2-1e51-b1e8"
      },
      {
       "current": "35c581ba-55a3-11e7-b0b2-00163e9c0e35-2-f60b-133a",
       "next": "35c58340-55a3-11e7-b0b2-00163e9c0e35-2-c0ce-9618",
       "previous": "d0769ffa-98bc-11ea-8d02-0242ac120007-2-9994-0723"
      },
      {
       "current": "35c581ba-55a3-11e7-b0b2-00163e9c0e35-2-f60b-133a",
       "next": "35c58340-55a3-11e7-b0b2-00163e9c0e35-2-c0ce-9618",
       "previous": "bc16cb02-dfce-11eb-b29f-0242ac120008"
      },
      {
       "current": "35c581ba-55a3-11e7-b0b2-00163e9c0e35-2-f60b-133a",
       "next": "35c58340-55a3-11e7-b0b2-00163e9c0e35-2-c0ce-9618",
       "previous": "7cf7d994-f4ea-11eb-b29f-0242ac120008"
      },
      {
       "current": "35c581ba-55a3-11e7-b0b2-00163e9c0e35-2-f60b-133a",
       "next": "35c58340-55a3-11e7-b0b2-00163e9c0e35-2-c0ce-9618",
       "previous": "204647a2-f4eb-11eb-b29f-0242ac120008"
      },
      {
       "current": "35c581ba-55a3-11e7-b0b2-00163e9c0e35-2-f60b-133a",
       "next": "35c58340-55a3-11e7-b0b2-00163e9c0e35-2-c0ce-9618",
       "previous": "798c29c4-9a06-11ec-a1da-0242ac120004"
      },
      {
       "current": "35c581ba-55a3-11e7-b0b2-00163e9c0e35-3-f60b-133a-40ef",
       "next": "35c58340-55a3-11e7-b0b2-00163e9c0e35-2-c0ce-9618",
       "previous": "204647a2-f4eb-11eb-b29f-0242ac120008"
      },
      {
       "current": "35c581ba-55a3-11e7-b0b2-00163e9c0e35-3-f60b-133a-40ef",
       "next": "35c58340-55a3-11e7-b0b2-00163e9c0e35-3-c0ce-9618-7032",
       "previous": "204647a2-f4eb-11eb-b29f-0242ac120008-1-10f9"
      },
      {
       "current": "35c581ba-55a3-11e7-b0b2-00163e9c0e35-3-f60b-133a-40ef",
       "next": "35c58340-55a3-11e7-b0b2-00163e9c0e35-3-c0ce-9618-7032",
       "previous": "3c6cb112-4bb2-11ee-89fa-0242ac120005"
      },
      {
       "current": "35c581ba-55a3-11e7-b0b2-00163e9c0e35-3-f60b-133a-40ef",
       "next": "35c58340-55a3-11e7-b0b2-00163e9c0e35-3-c0ce-9618-7032",
       "previous": "d619a970-6195-11ee-89fa-0242ac120005"
      },
      {
       "current": "35c581ba-55a3-11e7-b0b2-00163e9c0e35-3-f60b-133a-40ef",
       "next": "35c58340-55a3-11e7-b0b2-00163e9c0e35-3-c0ce-9618-7032",
       "previous": "d954180a-61bd-11ee-89fa-0242ac120005"
      },
      {
       "current": "35c581ba-55a3-11e7-b0b2-00163e9c0e35-3-f60b-133a-40ef",
       "next": "35c58340-55a3-11e7-b0b2-00163e9c0e35-3-c0ce-9618-7032",
       "previous": "8f9c98ce-716a-11ee-89fa-0242ac120005"
      },
      {
       "current": "35c581ba-55a3-11e7-b0b2-00163e9c0e35-4-f60b-133a-40ef-8381",
       "next": "35c58340-55a3-11e7-b0b2-00163e9c0e35-3-c0ce-9618-7032",
       "previous": "3ce444ae-716c-11ee-89fa-0242ac120005"
      },
      {
       "current": "35c581ba-55a3-11e7-b0b2-00163e9c0e35-4-f60b-133a-40ef-8381",
       "next": "35c58340-55a3-11e7-b0b2-00163e9c0e35-4-c0ce-9618-7032-6687",
       "previous": "3ce444ae-716c-11ee-89fa-0242ac120005-1-ba1a"
      },
      {
       "current": "35c581ba-55a3-11e7-b0b2-00163e9c0e35-5-f60b-133a-40ef-8381-f899",
       "next": "35c58340-55a3-11e7-b0b2-00163e9c0e35-4-c0ce-9618-7032-6687",
       "previous": "223dd598-933b-11ee-91d3-0242ac120006"
      },
      {
       "current": "35c581ba-55a3-11e7-b0b2-00163e9c0e35-6-f60b-133a-40ef-8381-f899-e943",
       "next": "35c58340-55a3-11e7-b0b2-00163e9c0e35-5-c0ce-9618-7032-6687-b946",
       "previous": "223dd598-933b-11ee-91d3-0242ac120006-1-9fc6"
      },
      {
       "current": "35c581ba-55a3-11e7-b0b2-00163e9c0e35-7-f60b-133a-40ef-8381-f899-e943-5d28",
       "next": "35c58340-55a3-11e7-b0b2-00163e9c0e35-6-c0ce-9618-7032-6687-b946-411b",
       "previous": "223dd598-933b-11ee-91d3-0242ac120006-2-9fc6-8271"
      },
      {
       "current": "35c581ba-55a3-11e7-b0b2-00163e9c0e35-8-f60b-133a-40ef-8381-f899-e943-5d28-abfe",
       "next": "35c58340-55a3-11e7-b0b2-00163e9c0e35-7-c0ce-9618-7032-6687-b946-411b-87f4",
       "previous": "223dd598-933b-11ee-91d3-0242ac120006-3-9fc6-8271-0810"
      }
     ],
     "next": "35c58340-55a3-11e7-b0b2-00163e9c0e35-8-c0ce-9618-7032-6687-b946-411b-87f4-811c",
     "previous": "223dd598-933b-11ee-91d3-0242ac120006-4-9fc6-8271-0810-7d93"
    }
   },
   "source": [
    "# 後始末\n",
    "\n",
    "一時ディレクトリを削除する。"
   ]
  },
  {
   "cell_type": "code",
   "execution_count": null,
   "metadata": {
    "ExecuteTime": {
     "end_time": "2017-06-29T08:01:20.617274Z",
     "start_time": "2017-06-29T08:01:20.466671Z"
    },
    "lc_cell_meme": {
     "current": "35c58340-55a3-11e7-b0b2-00163e9c0e35-8-c0ce-9618-7032-6687-b946-411b-87f4-811c",
     "history": [
      {
       "current": "35c58340-55a3-11e7-b0b2-00163e9c0e35",
       "next": null,
       "previous": "35c581ba-55a3-11e7-b0b2-00163e9c0e35"
      },
      {
       "current": "35c58340-55a3-11e7-b0b2-00163e9c0e35-1-c0ce",
       "next": "c4bd8ce4-5749-11e7-b0b2-00163e9c0e35",
       "previous": "35c581ba-55a3-11e7-b0b2-00163e9c0e35"
      },
      {
       "current": "35c58340-55a3-11e7-b0b2-00163e9c0e35-2-c0ce-9618",
       "next": "c4bd8ce4-5749-11e7-b0b2-00163e9c0e35-1-6c35",
       "previous": "35c581ba-55a3-11e7-b0b2-00163e9c0e35-1-f60b"
      },
      {
       "current": "35c58340-55a3-11e7-b0b2-00163e9c0e35-3-c0ce-9618-7032",
       "next": "c4bd8ce4-5749-11e7-b0b2-00163e9c0e35-2-6c35-ebfb",
       "previous": "35c581ba-55a3-11e7-b0b2-00163e9c0e35-2-f60b-133a"
      },
      {
       "current": "35c58340-55a3-11e7-b0b2-00163e9c0e35-4-c0ce-9618-7032-6687",
       "next": "c4bd8ce4-5749-11e7-b0b2-00163e9c0e35-3-6c35-ebfb-793f",
       "previous": "35c581ba-55a3-11e7-b0b2-00163e9c0e35-3-f60b-133a-40ef"
      },
      {
       "current": "35c58340-55a3-11e7-b0b2-00163e9c0e35-5-c0ce-9618-7032-6687-b946",
       "next": "c4bd8ce4-5749-11e7-b0b2-00163e9c0e35-4-6c35-ebfb-793f-4251",
       "previous": "35c581ba-55a3-11e7-b0b2-00163e9c0e35-4-f60b-133a-40ef-8381"
      },
      {
       "current": "35c58340-55a3-11e7-b0b2-00163e9c0e35-6-c0ce-9618-7032-6687-b946-411b",
       "next": "c4bd8ce4-5749-11e7-b0b2-00163e9c0e35-5-6c35-ebfb-793f-4251-62fd",
       "previous": "35c581ba-55a3-11e7-b0b2-00163e9c0e35-5-f60b-133a-40ef-8381-f899"
      },
      {
       "current": "35c58340-55a3-11e7-b0b2-00163e9c0e35-7-c0ce-9618-7032-6687-b946-411b-87f4",
       "next": "c4bd8ce4-5749-11e7-b0b2-00163e9c0e35-6-6c35-ebfb-793f-4251-62fd-c84b",
       "previous": "35c581ba-55a3-11e7-b0b2-00163e9c0e35-6-f60b-133a-40ef-8381-f899-e943"
      },
      {
       "current": "35c58340-55a3-11e7-b0b2-00163e9c0e35-8-c0ce-9618-7032-6687-b946-411b-87f4-811c",
       "next": "c4bd8ce4-5749-11e7-b0b2-00163e9c0e35-7-6c35-ebfb-793f-4251-62fd-c84b-b494",
       "previous": "35c581ba-55a3-11e7-b0b2-00163e9c0e35-7-f60b-133a-40ef-8381-f899-e943-5d28"
      }
     ],
     "next": "c4bd8ce4-5749-11e7-b0b2-00163e9c0e35-8-6c35-ebfb-793f-4251-62fd-c84b-b494-c3cc",
     "previous": "35c581ba-55a3-11e7-b0b2-00163e9c0e35-8-f60b-133a-40ef-8381-f899-e943-5d28-abfe"
    }
   },
   "outputs": [],
   "source": [
    "!rm -fr $temp_dir"
   ]
  },
  {
   "cell_type": "code",
   "execution_count": null,
   "metadata": {
    "lc_cell_meme": {
     "current": "c4bd8ce4-5749-11e7-b0b2-00163e9c0e35-8-6c35-ebfb-793f-4251-62fd-c84b-b494-c3cc",
     "history": [
      {
       "current": "c4bd8ce4-5749-11e7-b0b2-00163e9c0e35-1-6c35",
       "next": null,
       "previous": "35c58340-55a3-11e7-b0b2-00163e9c0e35"
      },
      {
       "current": "c4bd8ce4-5749-11e7-b0b2-00163e9c0e35-2-6c35-ebfb",
       "next": null,
       "previous": "35c58340-55a3-11e7-b0b2-00163e9c0e35-1-c0ce"
      },
      {
       "current": "c4bd8ce4-5749-11e7-b0b2-00163e9c0e35-3-6c35-ebfb-793f",
       "next": null,
       "previous": "35c58340-55a3-11e7-b0b2-00163e9c0e35-2-c0ce-9618"
      },
      {
       "current": "c4bd8ce4-5749-11e7-b0b2-00163e9c0e35-4-6c35-ebfb-793f-4251",
       "next": null,
       "previous": "35c58340-55a3-11e7-b0b2-00163e9c0e35-3-c0ce-9618-7032"
      },
      {
       "current": "c4bd8ce4-5749-11e7-b0b2-00163e9c0e35-5-6c35-ebfb-793f-4251-62fd",
       "next": null,
       "previous": "35c58340-55a3-11e7-b0b2-00163e9c0e35-4-c0ce-9618-7032-6687"
      },
      {
       "current": "c4bd8ce4-5749-11e7-b0b2-00163e9c0e35-6-6c35-ebfb-793f-4251-62fd-c84b",
       "next": null,
       "previous": "35c58340-55a3-11e7-b0b2-00163e9c0e35-5-c0ce-9618-7032-6687-b946"
      },
      {
       "current": "c4bd8ce4-5749-11e7-b0b2-00163e9c0e35-7-6c35-ebfb-793f-4251-62fd-c84b-b494",
       "next": null,
       "previous": "35c58340-55a3-11e7-b0b2-00163e9c0e35-6-c0ce-9618-7032-6687-b946-411b"
      },
      {
       "current": "c4bd8ce4-5749-11e7-b0b2-00163e9c0e35-8-6c35-ebfb-793f-4251-62fd-c84b-b494-c3cc",
       "next": null,
       "previous": "35c58340-55a3-11e7-b0b2-00163e9c0e35-7-c0ce-9618-7032-6687-b946-411b-87f4"
      }
     ],
     "next": null,
     "previous": "35c58340-55a3-11e7-b0b2-00163e9c0e35-8-c0ce-9618-7032-6687-b946-411b-87f4-811c"
    }
   },
   "outputs": [],
   "source": []
  }
 ],
 "metadata": {
  "kernelspec": {
   "display_name": "Python 3",
   "language": "python",
   "name": "python3"
  },
  "language_info": {
   "file_extension": ".py",
   "mimetype": "text/x-python",
   "name": "python",
   "nbconvert_exporter": "python",
   "pygments_lexer": "ipython3",
   "version": "3.10.4"
  },
  "lc_notebook_meme": {
   "current": "35c33086-55a3-11e7-b0b2-00163e9c0e35"
  },
  "toc": {
   "base_numbering": 1,
   "nav_menu": {
    "height": "484px",
    "width": "687px"
   },
   "number_sections": true,
   "sideBar": true,
   "skip_h1_title": false,
   "title_cell": "Table of Contents",
   "title_sidebar": "Contents",
   "toc_cell": false,
   "toc_position": {
    "height": "1156px",
    "left": "0px",
    "right": "1330px",
    "top": "106px",
    "width": "340.983px"
   },
   "toc_section_display": "block",
   "toc_window_display": true
  }
 },
 "nbformat": 4,
 "nbformat_minor": 1
}
