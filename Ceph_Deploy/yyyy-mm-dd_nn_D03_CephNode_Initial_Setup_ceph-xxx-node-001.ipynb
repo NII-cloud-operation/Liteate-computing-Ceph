{
 "cells": [
  {
   "cell_type": "markdown",
   "metadata": {
    "collapsed": true,
    "lc_cell_meme": {
     "current": "35c33414-55a3-11e7-b0b2-00163e9c0e35-8-ffee-ac17-9684-7a51-4a7e-e791-e9a0-5903",
     "history": [
      {
       "current": "35c33414-55a3-11e7-b0b2-00163e9c0e35",
       "next": "35c33626-55a3-11e7-b0b2-00163e9c0e35",
       "previous": null
      },
      {
       "current": "35c33414-55a3-11e7-b0b2-00163e9c0e35",
       "next": "35c33626-55a3-11e7-b0b2-00163e9c0e35",
       "previous": null
      },
      {
       "current": "35c33414-55a3-11e7-b0b2-00163e9c0e35",
       "next": "35c33626-55a3-11e7-b0b2-00163e9c0e35",
       "previous": "0db87670-9586-11ea-8d02-0242ac120007"
      },
      {
       "current": "35c33414-55a3-11e7-b0b2-00163e9c0e35-1-ffee",
       "next": "35c337f2-55a3-11e7-b0b2-00163e9c0e35",
       "previous": null
      },
      {
       "current": "35c33414-55a3-11e7-b0b2-00163e9c0e35-2-ffee-ac17",
       "next": "35c337f2-55a3-11e7-b0b2-00163e9c0e35-1-b874",
       "previous": null
      },
      {
       "current": "35c33414-55a3-11e7-b0b2-00163e9c0e35-3-ffee-ac17-9684",
       "next": "35c337f2-55a3-11e7-b0b2-00163e9c0e35-2-b874-13f7",
       "previous": null
      },
      {
       "current": "35c33414-55a3-11e7-b0b2-00163e9c0e35-4-ffee-ac17-9684-7a51",
       "next": "35c337f2-55a3-11e7-b0b2-00163e9c0e35-3-b874-13f7-3f47",
       "previous": null
      },
      {
       "current": "35c33414-55a3-11e7-b0b2-00163e9c0e35-5-ffee-ac17-9684-7a51-4a7e",
       "next": "35c337f2-55a3-11e7-b0b2-00163e9c0e35-4-b874-13f7-3f47-19f1",
       "previous": null
      },
      {
       "current": "35c33414-55a3-11e7-b0b2-00163e9c0e35-6-ffee-ac17-9684-7a51-4a7e-e791",
       "next": "35c337f2-55a3-11e7-b0b2-00163e9c0e35-5-b874-13f7-3f47-19f1-443b",
       "previous": null
      },
      {
       "current": "35c33414-55a3-11e7-b0b2-00163e9c0e35-7-ffee-ac17-9684-7a51-4a7e-e791-e9a0",
       "next": "35c337f2-55a3-11e7-b0b2-00163e9c0e35-6-b874-13f7-3f47-19f1-443b-bb67",
       "previous": null
      },
      {
       "current": "35c33414-55a3-11e7-b0b2-00163e9c0e35-8-ffee-ac17-9684-7a51-4a7e-e791-e9a0-5903",
       "next": "35c337f2-55a3-11e7-b0b2-00163e9c0e35-7-b874-13f7-3f47-19f1-443b-bb67-b51f",
       "previous": null
      }
     ],
     "next": "35c339aa-55a3-11e7-b0b2-00163e9c0e35-8-eee2-af6c-3cfe-280f-e73b-b563-93c7-5e12",
     "previous": null
    }
   },
   "source": [
    "# Cephノード構築：Cephノード共通初期セットアップ\n",
    "Cephノード構築時の共通的な初期セットアップを行う<br>\n",
    "- Caphなどパッケージインストール\n",
    "- パッケージ更新\n",
    "- OVSなどブリッジの初期設定\n",
    "- 再起動"
   ]
  },
  {
   "cell_type": "markdown",
   "metadata": {
    "lc_cell_meme": {
     "current": "35c339aa-55a3-11e7-b0b2-00163e9c0e35-8-eee2-af6c-3cfe-280f-e73b-b563-93c7-5e12",
     "history": [
      {
       "current": "35c339aa-55a3-11e7-b0b2-00163e9c0e35",
       "next": "35c33b6c-55a3-11e7-b0b2-00163e9c0e35",
       "previous": "35c337f2-55a3-11e7-b0b2-00163e9c0e35"
      },
      {
       "current": "35c339aa-55a3-11e7-b0b2-00163e9c0e35",
       "next": "670888aa-5722-11e7-b0b2-00163e9c0e35",
       "previous": "35c337f2-55a3-11e7-b0b2-00163e9c0e35"
      },
      {
       "current": "35c339aa-55a3-11e7-b0b2-00163e9c0e35",
       "next": "670888aa-5722-11e7-b0b2-00163e9c0e35",
       "previous": "357fc83a-969d-11ea-8d02-0242ac120007"
      },
      {
       "current": "35c339aa-55a3-11e7-b0b2-00163e9c0e35-1-eee2",
       "next": "670888aa-5722-11e7-b0b2-00163e9c0e35",
       "previous": "8a48dae0-98a1-11ea-8d02-0242ac120007"
      },
      {
       "current": "35c339aa-55a3-11e7-b0b2-00163e9c0e35-2-eee2-af6c",
       "next": "670888aa-5722-11e7-b0b2-00163e9c0e35-1-17ba",
       "previous": "8a48dae0-98a1-11ea-8d02-0242ac120007-1-4da2"
      },
      {
       "current": "35c339aa-55a3-11e7-b0b2-00163e9c0e35-2-eee2-af6c",
       "next": "670888aa-5722-11e7-b0b2-00163e9c0e35-2-17ba-53fc",
       "previous": "8a48dae0-98a1-11ea-8d02-0242ac120007-2-4da2-9c77"
      },
      {
       "current": "35c339aa-55a3-11e7-b0b2-00163e9c0e35-3-eee2-af6c-3cfe",
       "next": "670888aa-5722-11e7-b0b2-00163e9c0e35-2-17ba-53fc",
       "previous": "35c337f2-55a3-11e7-b0b2-00163e9c0e35-2-b874-13f7"
      },
      {
       "current": "35c339aa-55a3-11e7-b0b2-00163e9c0e35-4-eee2-af6c-3cfe-280f",
       "next": "670888aa-5722-11e7-b0b2-00163e9c0e35-3-17ba-53fc-2957",
       "previous": "35c337f2-55a3-11e7-b0b2-00163e9c0e35-3-b874-13f7-3f47"
      },
      {
       "current": "35c339aa-55a3-11e7-b0b2-00163e9c0e35-5-eee2-af6c-3cfe-280f-e73b",
       "next": "670888aa-5722-11e7-b0b2-00163e9c0e35-4-17ba-53fc-2957-996c",
       "previous": "35c337f2-55a3-11e7-b0b2-00163e9c0e35-4-b874-13f7-3f47-19f1"
      },
      {
       "current": "35c339aa-55a3-11e7-b0b2-00163e9c0e35-6-eee2-af6c-3cfe-280f-e73b-b563",
       "next": "670888aa-5722-11e7-b0b2-00163e9c0e35-5-17ba-53fc-2957-996c-551b",
       "previous": "35c337f2-55a3-11e7-b0b2-00163e9c0e35-5-b874-13f7-3f47-19f1-443b"
      },
      {
       "current": "35c339aa-55a3-11e7-b0b2-00163e9c0e35-7-eee2-af6c-3cfe-280f-e73b-b563-93c7",
       "next": "670888aa-5722-11e7-b0b2-00163e9c0e35-6-17ba-53fc-2957-996c-551b-5e54",
       "previous": "35c337f2-55a3-11e7-b0b2-00163e9c0e35-6-b874-13f7-3f47-19f1-443b-bb67"
      },
      {
       "current": "35c339aa-55a3-11e7-b0b2-00163e9c0e35-8-eee2-af6c-3cfe-280f-e73b-b563-93c7-5e12",
       "next": "670888aa-5722-11e7-b0b2-00163e9c0e35-7-17ba-53fc-2957-996c-551b-5e54-6c9d",
       "previous": "35c337f2-55a3-11e7-b0b2-00163e9c0e35-7-b874-13f7-3f47-19f1-443b-bb67-b51f"
      }
     ],
     "next": "670888aa-5722-11e7-b0b2-00163e9c0e35-8-17ba-53fc-2957-996c-551b-5e54-6c9d-f75b",
     "previous": "35c33414-55a3-11e7-b0b2-00163e9c0e35-8-ffee-ac17-9684-7a51-4a7e-e791-e9a0-5903"
    }
   },
   "source": [
    "# パラメータ定義"
   ]
  },
  {
   "cell_type": "markdown",
   "metadata": {
    "lc_cell_meme": {
     "current": "670888aa-5722-11e7-b0b2-00163e9c0e35-8-17ba-53fc-2957-996c-551b-5e54-6c9d-f75b",
     "history": [
      {
       "current": "670888aa-5722-11e7-b0b2-00163e9c0e35-1-17ba",
       "next": "35c33b6c-55a3-11e7-b0b2-00163e9c0e35",
       "previous": "35c339aa-55a3-11e7-b0b2-00163e9c0e35"
      },
      {
       "current": "670888aa-5722-11e7-b0b2-00163e9c0e35-2-17ba-53fc",
       "next": "35c33b6c-55a3-11e7-b0b2-00163e9c0e35-1-c84d",
       "previous": "35c339aa-55a3-11e7-b0b2-00163e9c0e35-1-eee2"
      },
      {
       "current": "670888aa-5722-11e7-b0b2-00163e9c0e35-3-17ba-53fc-2957",
       "next": "35c33b6c-55a3-11e7-b0b2-00163e9c0e35-2-c84d-3439",
       "previous": "35c339aa-55a3-11e7-b0b2-00163e9c0e35-2-eee2-af6c"
      },
      {
       "current": "670888aa-5722-11e7-b0b2-00163e9c0e35-4-17ba-53fc-2957-996c",
       "next": "35c33b6c-55a3-11e7-b0b2-00163e9c0e35-3-c84d-3439-eddb",
       "previous": "35c339aa-55a3-11e7-b0b2-00163e9c0e35-3-eee2-af6c-3cfe"
      },
      {
       "current": "670888aa-5722-11e7-b0b2-00163e9c0e35-5-17ba-53fc-2957-996c-551b",
       "next": "35c33b6c-55a3-11e7-b0b2-00163e9c0e35-4-c84d-3439-eddb-5230",
       "previous": "35c339aa-55a3-11e7-b0b2-00163e9c0e35-4-eee2-af6c-3cfe-280f"
      },
      {
       "current": "670888aa-5722-11e7-b0b2-00163e9c0e35-6-17ba-53fc-2957-996c-551b-5e54",
       "next": "35c33b6c-55a3-11e7-b0b2-00163e9c0e35-5-c84d-3439-eddb-5230-91cc",
       "previous": "35c339aa-55a3-11e7-b0b2-00163e9c0e35-5-eee2-af6c-3cfe-280f-e73b"
      },
      {
       "current": "670888aa-5722-11e7-b0b2-00163e9c0e35-7-17ba-53fc-2957-996c-551b-5e54-6c9d",
       "next": "35c33b6c-55a3-11e7-b0b2-00163e9c0e35-6-c84d-3439-eddb-5230-91cc-3bdd",
       "previous": "35c339aa-55a3-11e7-b0b2-00163e9c0e35-6-eee2-af6c-3cfe-280f-e73b-b563"
      },
      {
       "current": "670888aa-5722-11e7-b0b2-00163e9c0e35-8-17ba-53fc-2957-996c-551b-5e54-6c9d-f75b",
       "next": "35c33b6c-55a3-11e7-b0b2-00163e9c0e35-7-c84d-3439-eddb-5230-91cc-3bdd-2079",
       "previous": "35c339aa-55a3-11e7-b0b2-00163e9c0e35-7-eee2-af6c-3cfe-280f-e73b-b563-93c7"
      }
     ],
     "next": "35c33b6c-55a3-11e7-b0b2-00163e9c0e35-8-c84d-3439-eddb-5230-91cc-3bdd-2079-f319",
     "previous": "35c339aa-55a3-11e7-b0b2-00163e9c0e35-8-eee2-af6c-3cfe-280f-e73b-b563-93c7-5e12"
    }
   },
   "source": [
    "## パラメータファイル設定"
   ]
  },
  {
   "cell_type": "markdown",
   "metadata": {
    "lc_cell_meme": {
     "current": "35c33b6c-55a3-11e7-b0b2-00163e9c0e35-8-c84d-3439-eddb-5230-91cc-3bdd-2079-f319",
     "history": [
      {
       "current": "35c33b6c-55a3-11e7-b0b2-00163e9c0e35",
       "next": "35c33d24-55a3-11e7-b0b2-00163e9c0e35",
       "previous": "35c339aa-55a3-11e7-b0b2-00163e9c0e35"
      },
      {
       "current": "35c33b6c-55a3-11e7-b0b2-00163e9c0e35-1-c84d",
       "next": "35c33d24-55a3-11e7-b0b2-00163e9c0e35",
       "previous": "670888aa-5722-11e7-b0b2-00163e9c0e35"
      },
      {
       "current": "35c33b6c-55a3-11e7-b0b2-00163e9c0e35-2-c84d-3439",
       "next": "35c33d24-55a3-11e7-b0b2-00163e9c0e35-1-c8d8",
       "previous": "670888aa-5722-11e7-b0b2-00163e9c0e35-1-17ba"
      },
      {
       "current": "35c33b6c-55a3-11e7-b0b2-00163e9c0e35-3-c84d-3439-eddb",
       "next": "35c33d24-55a3-11e7-b0b2-00163e9c0e35-2-c8d8-c063",
       "previous": "670888aa-5722-11e7-b0b2-00163e9c0e35-2-17ba-53fc"
      },
      {
       "current": "35c33b6c-55a3-11e7-b0b2-00163e9c0e35-4-c84d-3439-eddb-5230",
       "next": "35c33d24-55a3-11e7-b0b2-00163e9c0e35-3-c8d8-c063-e3d4",
       "previous": "670888aa-5722-11e7-b0b2-00163e9c0e35-3-17ba-53fc-2957"
      },
      {
       "current": "35c33b6c-55a3-11e7-b0b2-00163e9c0e35-5-c84d-3439-eddb-5230-91cc",
       "next": "35c33d24-55a3-11e7-b0b2-00163e9c0e35-4-c8d8-c063-e3d4-7b2e",
       "previous": "670888aa-5722-11e7-b0b2-00163e9c0e35-4-17ba-53fc-2957-996c"
      },
      {
       "current": "35c33b6c-55a3-11e7-b0b2-00163e9c0e35-6-c84d-3439-eddb-5230-91cc-3bdd",
       "next": "35c33d24-55a3-11e7-b0b2-00163e9c0e35-5-c8d8-c063-e3d4-7b2e-0d86",
       "previous": "670888aa-5722-11e7-b0b2-00163e9c0e35-5-17ba-53fc-2957-996c-551b"
      },
      {
       "current": "35c33b6c-55a3-11e7-b0b2-00163e9c0e35-7-c84d-3439-eddb-5230-91cc-3bdd-2079",
       "next": "33c785ac-1739-11ef-ad2f-0242ac120005",
       "previous": "670888aa-5722-11e7-b0b2-00163e9c0e35-6-17ba-53fc-2957-996c-551b-5e54"
      },
      {
       "current": "35c33b6c-55a3-11e7-b0b2-00163e9c0e35-8-c84d-3439-eddb-5230-91cc-3bdd-2079-f319",
       "next": "33c785ac-1739-11ef-ad2f-0242ac120005-1-cb2e",
       "previous": "670888aa-5722-11e7-b0b2-00163e9c0e35-7-17ba-53fc-2957-996c-551b-5e54-6c9d"
      }
     ],
     "next": "33c785ac-1739-11ef-ad2f-0242ac120005-2-cb2e-4ca2",
     "previous": "670888aa-5722-11e7-b0b2-00163e9c0e35-8-17ba-53fc-2957-996c-551b-5e54-6c9d-f75b"
    }
   },
   "source": [
    "Cephクラスタの定義ファイルを指定するため、<br>\n",
    "パラメータ定義格納ディレクトリを表示する。"
   ]
  },
  {
   "cell_type": "code",
   "execution_count": null,
   "metadata": {
    "lc_cell_meme": {
     "current": "33c785ac-1739-11ef-ad2f-0242ac120005-2-cb2e-4ca2",
     "history": [
      {
       "current": "33c785ac-1739-11ef-ad2f-0242ac120005-1-cb2e",
       "next": "33c786ba-1739-11ef-ad2f-0242ac120005",
       "previous": "35c33b6c-55a3-11e7-b0b2-00163e9c0e35-6-c84d-3439-eddb-5230-91cc-3bdd"
      },
      {
       "current": "33c785ac-1739-11ef-ad2f-0242ac120005-2-cb2e-4ca2",
       "next": "33c786ba-1739-11ef-ad2f-0242ac120005-1-3a00",
       "previous": "35c33b6c-55a3-11e7-b0b2-00163e9c0e35-7-c84d-3439-eddb-5230-91cc-3bdd-2079"
      }
     ],
     "next": "33c786ba-1739-11ef-ad2f-0242ac120005-2-3a00-2b5d",
     "previous": "35c33b6c-55a3-11e7-b0b2-00163e9c0e35-8-c84d-3439-eddb-5230-91cc-3bdd-2079-f319"
    }
   },
   "outputs": [],
   "source": [
    "!ls -p ~/notebooks/share/ | grep \"/$\""
   ]
  },
  {
   "cell_type": "code",
   "execution_count": null,
   "metadata": {
    "lc_cell_meme": {
     "current": "33c786ba-1739-11ef-ad2f-0242ac120005-2-3a00-2b5d",
     "history": [
      {
       "current": "33c786ba-1739-11ef-ad2f-0242ac120005-1-3a00",
       "next": "33c786f6-1739-11ef-ad2f-0242ac120005",
       "previous": "33c785ac-1739-11ef-ad2f-0242ac120005"
      },
      {
       "current": "33c786ba-1739-11ef-ad2f-0242ac120005-2-3a00-2b5d",
       "next": "33c786f6-1739-11ef-ad2f-0242ac120005-1-f592",
       "previous": "33c785ac-1739-11ef-ad2f-0242ac120005-1-cb2e"
      }
     ],
     "next": "33c786f6-1739-11ef-ad2f-0242ac120005-2-f592-ea26",
     "previous": "33c785ac-1739-11ef-ad2f-0242ac120005-2-cb2e-4ca2"
    }
   },
   "outputs": [],
   "source": [
    "!ls -p ~/notebooks/share/configuration"
   ]
  },
  {
   "cell_type": "code",
   "execution_count": null,
   "metadata": {
    "lc_cell_meme": {
     "current": "33c786f6-1739-11ef-ad2f-0242ac120005-2-f592-ea26",
     "history": [
      {
       "current": "33c786f6-1739-11ef-ad2f-0242ac120005-1-f592",
       "next": "33c7871e-1739-11ef-ad2f-0242ac120005",
       "previous": "33c786ba-1739-11ef-ad2f-0242ac120005"
      },
      {
       "current": "33c786f6-1739-11ef-ad2f-0242ac120005-2-f592-ea26",
       "next": "33c7871e-1739-11ef-ad2f-0242ac120005-1-57dd",
       "previous": "33c786ba-1739-11ef-ad2f-0242ac120005-1-3a00"
      }
     ],
     "next": "33c7871e-1739-11ef-ad2f-0242ac120005-2-57dd-c51a",
     "previous": "33c786ba-1739-11ef-ad2f-0242ac120005-2-3a00-2b5d"
    }
   },
   "outputs": [],
   "source": [
    "!ls -p ~/notebooks/share/configuration/ceph"
   ]
  },
  {
   "cell_type": "code",
   "execution_count": null,
   "metadata": {
    "lc_cell_meme": {
     "current": "33c7871e-1739-11ef-ad2f-0242ac120005-2-57dd-c51a",
     "history": [
      {
       "current": "33c7871e-1739-11ef-ad2f-0242ac120005-1-57dd",
       "next": "33c7873c-1739-11ef-ad2f-0242ac120005",
       "previous": "33c786f6-1739-11ef-ad2f-0242ac120005"
      },
      {
       "current": "33c7871e-1739-11ef-ad2f-0242ac120005-2-57dd-c51a",
       "next": "33c7873c-1739-11ef-ad2f-0242ac120005-1-8519",
       "previous": "33c786f6-1739-11ef-ad2f-0242ac120005-1-f592"
      }
     ],
     "next": "33c7873c-1739-11ef-ad2f-0242ac120005-2-8519-57bf",
     "previous": "33c786f6-1739-11ef-ad2f-0242ac120005-2-f592-ea26"
    }
   },
   "outputs": [],
   "source": [
    "import sys, os.path, importlib, json, yaml\n",
    "\n",
    "config_file_name = \"ceph_admin_vm.yml\"\n",
    "config_file_path = os.path.expanduser(\"~/notebooks/share/configuration/ceph/{}\".format(config_file_name))\n",
    "with open(config_file_path) as f:\n",
    "    admin_params = yaml.safe_load(f)\n",
    "admin_params"
   ]
  },
  {
   "cell_type": "code",
   "execution_count": null,
   "metadata": {
    "lc_cell_meme": {
     "current": "33c7873c-1739-11ef-ad2f-0242ac120005-2-8519-57bf",
     "history": [
      {
       "current": "33c7873c-1739-11ef-ad2f-0242ac120005-1-8519",
       "next": "33c78764-1739-11ef-ad2f-0242ac120005",
       "previous": "33c7871e-1739-11ef-ad2f-0242ac120005"
      },
      {
       "current": "33c7873c-1739-11ef-ad2f-0242ac120005-2-8519-57bf",
       "next": "33c78764-1739-11ef-ad2f-0242ac120005-1-fce5",
       "previous": "33c7871e-1739-11ef-ad2f-0242ac120005-1-57dd"
      }
     ],
     "next": "33c78764-1739-11ef-ad2f-0242ac120005-2-fce5-878c",
     "previous": "33c7871e-1739-11ef-ad2f-0242ac120005-2-57dd-c51a"
    }
   },
   "outputs": [],
   "source": [
    "target_vm_name = 'xxx-ceph-admin1'\n",
    "admin_patam = admin_params[target_vm_name]\n",
    "admin_patam"
   ]
  },
  {
   "cell_type": "code",
   "execution_count": null,
   "metadata": {
    "lc_cell_meme": {
     "current": "33c78764-1739-11ef-ad2f-0242ac120005-2-fce5-878c",
     "history": [
      {
       "current": "33c78764-1739-11ef-ad2f-0242ac120005-1-fce5",
       "next": "33c7878c-1739-11ef-ad2f-0242ac120005",
       "previous": "33c7873c-1739-11ef-ad2f-0242ac120005"
      },
      {
       "current": "33c78764-1739-11ef-ad2f-0242ac120005-2-fce5-878c",
       "next": "33c7878c-1739-11ef-ad2f-0242ac120005-1-4463",
       "previous": "33c7873c-1739-11ef-ad2f-0242ac120005-1-8519"
      }
     ],
     "next": "33c7878c-1739-11ef-ad2f-0242ac120005-2-4463-ee64",
     "previous": "33c7873c-1739-11ef-ad2f-0242ac120005-2-8519-57bf"
    }
   },
   "outputs": [],
   "source": [
    "ceph_admin_ip = admin_patam['network']['provisioning']['ip']"
   ]
  },
  {
   "cell_type": "code",
   "execution_count": null,
   "metadata": {
    "lc_cell_meme": {
     "current": "33c7878c-1739-11ef-ad2f-0242ac120005-2-4463-ee64",
     "history": [
      {
       "current": "33c7878c-1739-11ef-ad2f-0242ac120005",
       "next": "33c787b4-1739-11ef-ad2f-0242ac120005",
       "previous": "33c78764-1739-11ef-ad2f-0242ac120005"
      },
      {
       "current": "33c7878c-1739-11ef-ad2f-0242ac120005-1-4463",
       "next": "e0faa8d4-173a-11ef-ad2f-0242ac120005",
       "previous": "33c78764-1739-11ef-ad2f-0242ac120005"
      },
      {
       "current": "33c7878c-1739-11ef-ad2f-0242ac120005-2-4463-ee64",
       "next": "e0faa8d4-173a-11ef-ad2f-0242ac120005-1-c365",
       "previous": "33c78764-1739-11ef-ad2f-0242ac120005-1-fce5"
      }
     ],
     "next": "e0faa8d4-173a-11ef-ad2f-0242ac120005-2-c365-b500",
     "previous": "33c78764-1739-11ef-ad2f-0242ac120005-2-fce5-878c"
    }
   },
   "outputs": [],
   "source": [
    "import sys, os.path, importlib, json, yaml\n",
    "\n",
    "config_file_name = \"xxx-openstack-parameter.yml\"\n",
    "config_file_path = os.path.expanduser(\"~/notebooks/share/configuration/{}\".format(config_file_name))\n",
    "with open(config_file_path) as f:\n",
    "    params = yaml.safe_load(f)\n",
    "params"
   ]
  },
  {
   "cell_type": "code",
   "execution_count": null,
   "metadata": {
    "lc_cell_meme": {
     "current": "e0faa8d4-173a-11ef-ad2f-0242ac120005-2-c365-b500",
     "history": [
      {
       "current": "e0faa8d4-173a-11ef-ad2f-0242ac120005-1-c365",
       "next": "33c787b4-1739-11ef-ad2f-0242ac120005",
       "previous": "33c7878c-1739-11ef-ad2f-0242ac120005"
      },
      {
       "current": "e0faa8d4-173a-11ef-ad2f-0242ac120005-2-c365-b500",
       "next": "33c787b4-1739-11ef-ad2f-0242ac120005-1-08b9",
       "previous": "33c7878c-1739-11ef-ad2f-0242ac120005-1-4463"
      }
     ],
     "next": "33c787b4-1739-11ef-ad2f-0242ac120005-2-08b9-0612",
     "previous": "33c7878c-1739-11ef-ad2f-0242ac120005-2-4463-ee64"
    }
   },
   "outputs": [],
   "source": [
    "repo_server = params['repository']['addresses']['service_operation']\n",
    "repo_server"
   ]
  },
  {
   "cell_type": "code",
   "execution_count": null,
   "metadata": {
    "lc_cell_meme": {
     "current": "33c787b4-1739-11ef-ad2f-0242ac120005-2-08b9-0612",
     "history": [
      {
       "current": "33c787b4-1739-11ef-ad2f-0242ac120005",
       "next": "33c787d2-1739-11ef-ad2f-0242ac120005",
       "previous": "33c7878c-1739-11ef-ad2f-0242ac120005"
      },
      {
       "current": "33c787b4-1739-11ef-ad2f-0242ac120005-1-08b9",
       "next": "33c787d2-1739-11ef-ad2f-0242ac120005",
       "previous": "e0faa8d4-173a-11ef-ad2f-0242ac120005"
      },
      {
       "current": "33c787b4-1739-11ef-ad2f-0242ac120005-2-08b9-0612",
       "next": "33c787d2-1739-11ef-ad2f-0242ac120005-1-a522",
       "previous": "e0faa8d4-173a-11ef-ad2f-0242ac120005-1-c365"
      }
     ],
     "next": "33c787d2-1739-11ef-ad2f-0242ac120005-2-a522-f3d1",
     "previous": "e0faa8d4-173a-11ef-ad2f-0242ac120005-2-c365-b500"
    }
   },
   "outputs": [],
   "source": [
    "provisioning_vip = params['openstack']['provisioning_vip']\n",
    "provisioning_vip"
   ]
  },
  {
   "cell_type": "code",
   "execution_count": null,
   "metadata": {
    "lc_cell_meme": {
     "current": "33c787d2-1739-11ef-ad2f-0242ac120005-2-a522-f3d1",
     "history": [
      {
       "current": "33c787d2-1739-11ef-ad2f-0242ac120005",
       "next": "33c787fa-1739-11ef-ad2f-0242ac120005",
       "previous": "33c787b4-1739-11ef-ad2f-0242ac120005"
      },
      {
       "current": "33c787d2-1739-11ef-ad2f-0242ac120005",
       "next": "35c33d24-55a3-11e7-b0b2-00163e9c0e35-6-c8d8-c063-e3d4-7b2e-0d86-60c5",
       "previous": "33c787b4-1739-11ef-ad2f-0242ac120005"
      },
      {
       "current": "33c787d2-1739-11ef-ad2f-0242ac120005-1-a522",
       "next": "bf249b06-98af-11ea-8d02-0242ac120007-6-1e49-e772-9042-6fed-8db6-d6ab",
       "previous": "33c787b4-1739-11ef-ad2f-0242ac120005"
      },
      {
       "current": "33c787d2-1739-11ef-ad2f-0242ac120005-2-a522-f3d1",
       "next": "bf249b06-98af-11ea-8d02-0242ac120007-7-1e49-e772-9042-6fed-8db6-d6ab-21f1",
       "previous": "33c787b4-1739-11ef-ad2f-0242ac120005-1-08b9"
      }
     ],
     "next": "bf249b06-98af-11ea-8d02-0242ac120007-8-1e49-e772-9042-6fed-8db6-d6ab-21f1-0485",
     "previous": "33c787b4-1739-11ef-ad2f-0242ac120005-2-08b9-0612"
    }
   },
   "outputs": [],
   "source": [
    "network_segment_controller_vip = params['network_segment_controller_vip']\n",
    "network_segment_controller_vip"
   ]
  },
  {
   "cell_type": "markdown",
   "metadata": {
    "lc_cell_meme": {
     "current": "bf249b06-98af-11ea-8d02-0242ac120007-8-1e49-e772-9042-6fed-8db6-d6ab-21f1-0485",
     "history": [
      {
       "current": "bf249b06-98af-11ea-8d02-0242ac120007",
       "next": "d1bcb8ac-9599-11ea-8d02-0242ac120007",
       "previous": "7dae8996-9686-11ea-8d02-0242ac120007"
      },
      {
       "current": "bf249b06-98af-11ea-8d02-0242ac120007-1-1e49",
       "next": "dd8e3cbc-98f2-11ea-8d02-0242ac120007",
       "previous": "7dae8996-9686-11ea-8d02-0242ac120007"
      },
      {
       "current": "bf249b06-98af-11ea-8d02-0242ac120007-2-1e49-e772",
       "next": "dd8e3cbc-98f2-11ea-8d02-0242ac120007-1-706a",
       "previous": "7dae8996-9686-11ea-8d02-0242ac120007-1-20c5"
      },
      {
       "current": "bf249b06-98af-11ea-8d02-0242ac120007-2-1e49-e772",
       "next": "dd8e3cbc-98f2-11ea-8d02-0242ac120007-2-706a-309d",
       "previous": "7dae8996-9686-11ea-8d02-0242ac120007-2-20c5-a0b0"
      },
      {
       "current": "bf249b06-98af-11ea-8d02-0242ac120007-2-1e49-e772",
       "next": "dd8e3cbc-98f2-11ea-8d02-0242ac120007-2-706a-309d",
       "previous": "1afe76e2-def8-11eb-b29f-0242ac120008"
      },
      {
       "current": "bf249b06-98af-11ea-8d02-0242ac120007-2-1e49-e772",
       "next": "d1bcb8ac-9599-11ea-8d02-0242ac120007-2-ec95-2870",
       "previous": "1afe76e2-def8-11eb-b29f-0242ac120008"
      },
      {
       "current": "bf249b06-98af-11ea-8d02-0242ac120007-2-1e49-e772",
       "next": "d1bcb8ac-9599-11ea-8d02-0242ac120007-2-ec95-2870",
       "previous": "445f36bc-def7-11eb-b29f-0242ac120008"
      },
      {
       "current": "bf249b06-98af-11ea-8d02-0242ac120007-3-1e49-e772-9042",
       "next": "d1bcb8ac-9599-11ea-8d02-0242ac120007-2-ec95-2870",
       "previous": "17dd310e-deff-11eb-b29f-0242ac120008"
      },
      {
       "current": "bf249b06-98af-11ea-8d02-0242ac120007-4-1e49-e772-9042-6fed",
       "next": "d1bcb8ac-9599-11ea-8d02-0242ac120007-3-ec95-2870-3f6b",
       "previous": "17dd310e-deff-11eb-b29f-0242ac120008-1-9f34"
      },
      {
       "current": "bf249b06-98af-11ea-8d02-0242ac120007-5-1e49-e772-9042-6fed-8db6",
       "next": "d1bcb8ac-9599-11ea-8d02-0242ac120007-4-ec95-2870-3f6b-edc3",
       "previous": "17dd310e-deff-11eb-b29f-0242ac120008-2-9f34-5db5"
      },
      {
       "current": "bf249b06-98af-11ea-8d02-0242ac120007-6-1e49-e772-9042-6fed-8db6-d6ab",
       "next": "d1bcb8ac-9599-11ea-8d02-0242ac120007-5-ec95-2870-3f6b-edc3-7064",
       "previous": "17dd310e-deff-11eb-b29f-0242ac120008-3-9f34-5db5-6e6a"
      },
      {
       "current": "bf249b06-98af-11ea-8d02-0242ac120007-6-1e49-e772-9042-6fed-8db6-d6ab",
       "next": "d1bcb8ac-9599-11ea-8d02-0242ac120007-6-ec95-2870-3f6b-edc3-7064-e956",
       "previous": "35c34918-55a3-11e7-b0b2-00163e9c0e35-6-99ce-3eb9-c50f-ef0e-fd49-abf7"
      },
      {
       "current": "bf249b06-98af-11ea-8d02-0242ac120007-7-1e49-e772-9042-6fed-8db6-d6ab-21f1",
       "next": "d1bcb8ac-9599-11ea-8d02-0242ac120007-6-ec95-2870-3f6b-edc3-7064-e956",
       "previous": "33c787d2-1739-11ef-ad2f-0242ac120005"
      },
      {
       "current": "bf249b06-98af-11ea-8d02-0242ac120007-8-1e49-e772-9042-6fed-8db6-d6ab-21f1-0485",
       "next": "d1bcb8ac-9599-11ea-8d02-0242ac120007-7-ec95-2870-3f6b-edc3-7064-e956-07c9",
       "previous": "33c787d2-1739-11ef-ad2f-0242ac120005-1-a522"
      }
     ],
     "next": "d1bcb8ac-9599-11ea-8d02-0242ac120007-8-ec95-2870-3f6b-edc3-7064-e956-07c9-902c",
     "previous": "33c787d2-1739-11ef-ad2f-0242ac120005-2-a522-f3d1"
    }
   },
   "source": [
    "## CephノードとストレージセグメントIPアドレス対応表の読み込み"
   ]
  },
  {
   "cell_type": "code",
   "execution_count": null,
   "metadata": {
    "lc_cell_meme": {
     "current": "d1bcb8ac-9599-11ea-8d02-0242ac120007-8-ec95-2870-3f6b-edc3-7064-e956-07c9-902c",
     "history": [
      {
       "current": "d1bcb8ac-9599-11ea-8d02-0242ac120007",
       "next": "d1bcba78-9599-11ea-8d02-0242ac120007",
       "previous": "d1bcb5c8-9599-11ea-8d02-0242ac120007"
      },
      {
       "current": "d1bcb8ac-9599-11ea-8d02-0242ac120007",
       "next": "d1bcba78-9599-11ea-8d02-0242ac120007",
       "previous": "a85c1dda-959a-11ea-8d02-0242ac120007"
      },
      {
       "current": "d1bcb8ac-9599-11ea-8d02-0242ac120007",
       "next": "81dd4f74-9597-11ea-8d02-0242ac120007",
       "previous": "a85c1dda-959a-11ea-8d02-0242ac120007"
      },
      {
       "current": "d1bcb8ac-9599-11ea-8d02-0242ac120007",
       "next": "e879cdac-95bf-11ea-8d02-0242ac120007",
       "previous": "a85c1dda-959a-11ea-8d02-0242ac120007"
      },
      {
       "current": "d1bcb8ac-9599-11ea-8d02-0242ac120007",
       "next": "7899411a-9692-11ea-8d02-0242ac120007",
       "previous": "bf249b06-98af-11ea-8d02-0242ac120007"
      },
      {
       "current": "d1bcb8ac-9599-11ea-8d02-0242ac120007",
       "next": "06afe9a8-98b0-11ea-8d02-0242ac120007",
       "previous": "bf249b06-98af-11ea-8d02-0242ac120007"
      },
      {
       "current": "d1bcb8ac-9599-11ea-8d02-0242ac120007",
       "next": "06afe9a8-98b0-11ea-8d02-0242ac120007",
       "previous": "dd8e3cbc-98f2-11ea-8d02-0242ac120007"
      },
      {
       "current": "d1bcb8ac-9599-11ea-8d02-0242ac120007-1-ec95",
       "next": "250e7a70-98f3-11ea-8d02-0242ac120007",
       "previous": "dd8e3cbc-98f2-11ea-8d02-0242ac120007"
      },
      {
       "current": "d1bcb8ac-9599-11ea-8d02-0242ac120007-2-ec95-2870",
       "next": "250e7a70-98f3-11ea-8d02-0242ac120007-1-f0b4",
       "previous": "dd8e3cbc-98f2-11ea-8d02-0242ac120007-1-706a"
      },
      {
       "current": "d1bcb8ac-9599-11ea-8d02-0242ac120007-2-ec95-2870",
       "next": "250e7a70-98f3-11ea-8d02-0242ac120007-2-f0b4-6edf",
       "previous": "dd8e3cbc-98f2-11ea-8d02-0242ac120007-2-706a-309d"
      },
      {
       "current": "d1bcb8ac-9599-11ea-8d02-0242ac120007-3-ec95-2870-3f6b",
       "next": "250e7a70-98f3-11ea-8d02-0242ac120007-2-f0b4-6edf",
       "previous": "bf249b06-98af-11ea-8d02-0242ac120007-2-1e49-e772"
      },
      {
       "current": "d1bcb8ac-9599-11ea-8d02-0242ac120007-3-ec95-2870-3f6b",
       "next": "250e7a70-98f3-11ea-8d02-0242ac120007-3-f0b4-6edf-9d40",
       "previous": "bf249b06-98af-11ea-8d02-0242ac120007-3-1e49-e772-9042"
      },
      {
       "current": "d1bcb8ac-9599-11ea-8d02-0242ac120007-4-ec95-2870-3f6b-edc3",
       "next": "b4a2b8e8-6d81-11ee-89fa-0242ac120005",
       "previous": "bf249b06-98af-11ea-8d02-0242ac120007-3-1e49-e772-9042"
      },
      {
       "current": "d1bcb8ac-9599-11ea-8d02-0242ac120007-5-ec95-2870-3f6b-edc3-7064",
       "next": "b4a2b8e8-6d81-11ee-89fa-0242ac120005-1-3c0c",
       "previous": "bf249b06-98af-11ea-8d02-0242ac120007-4-1e49-e772-9042-6fed"
      },
      {
       "current": "d1bcb8ac-9599-11ea-8d02-0242ac120007-6-ec95-2870-3f6b-edc3-7064-e956",
       "next": "b4a2b8e8-6d81-11ee-89fa-0242ac120005-2-3c0c-41e5",
       "previous": "bf249b06-98af-11ea-8d02-0242ac120007-5-1e49-e772-9042-6fed-8db6"
      },
      {
       "current": "d1bcb8ac-9599-11ea-8d02-0242ac120007-6-ec95-2870-3f6b-edc3-7064-e956",
       "next": "b4a2b8e8-6d81-11ee-89fa-0242ac120005-3-3c0c-41e5-6d01",
       "previous": "bf249b06-98af-11ea-8d02-0242ac120007-6-1e49-e772-9042-6fed-8db6-d6ab"
      },
      {
       "current": "d1bcb8ac-9599-11ea-8d02-0242ac120007-7-ec95-2870-3f6b-edc3-7064-e956-07c9",
       "next": "5ebbccd2-7d47-11ee-89fa-0242ac120005-3-8d02-1369-c75e",
       "previous": "bf249b06-98af-11ea-8d02-0242ac120007-6-1e49-e772-9042-6fed-8db6-d6ab"
      },
      {
       "current": "d1bcb8ac-9599-11ea-8d02-0242ac120007-8-ec95-2870-3f6b-edc3-7064-e956-07c9-902c",
       "next": "5ebbccd2-7d47-11ee-89fa-0242ac120005-4-8d02-1369-c75e-6b78",
       "previous": "bf249b06-98af-11ea-8d02-0242ac120007-7-1e49-e772-9042-6fed-8db6-d6ab-21f1"
      }
     ],
     "next": "5ebbccd2-7d47-11ee-89fa-0242ac120005-5-8d02-1369-c75e-6b78-fd43",
     "previous": "bf249b06-98af-11ea-8d02-0242ac120007-8-1e49-e772-9042-6fed-8db6-d6ab-21f1-0485"
    },
    "scrolled": true
   },
   "outputs": [],
   "source": [
    "import os\n",
    "import csv\n",
    "import pandas as pd\n",
    "\n",
    "instance_ip_csv_path =  os.environ['HOME'] + \"/notebooks/share/configuration/ceph/ceph_instance_ip.csv\"\n",
    "instance_ip_list = []\n",
    "instance_ip_map = {}\n",
    "\n",
    "with open(instance_ip_csv_path, 'r') as path_csv:\n",
    "    reader = csv.DictReader(path_csv)\n",
    "    \n",
    "    for record in reader:\n",
    "        instance_ip_list.append(record)\n",
    "        instance_ip_map[record['instance_name']] = record\n",
    "\n",
    "pd.DataFrame(instance_ip_list)"
   ]
  },
  {
   "cell_type": "markdown",
   "metadata": {
    "lc_cell_meme": {
     "current": "5ebbccd2-7d47-11ee-89fa-0242ac120005-5-8d02-1369-c75e-6b78-fd43",
     "history": [
      {
       "current": "5ebbccd2-7d47-11ee-89fa-0242ac120005-1-8d02",
       "next": "5ebbce1c-7d47-11ee-89fa-0242ac120005",
       "previous": "250e7a70-98f3-11ea-8d02-0242ac120007-3-f0b4-6edf-9d40"
      },
      {
       "current": "5ebbccd2-7d47-11ee-89fa-0242ac120005-2-8d02-1369",
       "next": "5ebbce1c-7d47-11ee-89fa-0242ac120005-1-044e",
       "previous": "250e7a70-98f3-11ea-8d02-0242ac120007-4-f0b4-6edf-9d40-42dd"
      },
      {
       "current": "5ebbccd2-7d47-11ee-89fa-0242ac120005-3-8d02-1369-c75e",
       "next": "5ebbce1c-7d47-11ee-89fa-0242ac120005-2-044e-7308",
       "previous": "250e7a70-98f3-11ea-8d02-0242ac120007-5-f0b4-6edf-9d40-42dd-27f4"
      },
      {
       "current": "5ebbccd2-7d47-11ee-89fa-0242ac120005-3-8d02-1369-c75e",
       "next": "5ebbce1c-7d47-11ee-89fa-0242ac120005-3-044e-7308-da0a",
       "previous": "250e7a70-98f3-11ea-8d02-0242ac120007-6-f0b4-6edf-9d40-42dd-27f4-fb6f"
      },
      {
       "current": "5ebbccd2-7d47-11ee-89fa-0242ac120005-4-8d02-1369-c75e-6b78",
       "next": "5ebbce1c-7d47-11ee-89fa-0242ac120005-3-044e-7308-da0a",
       "previous": "d1bcb8ac-9599-11ea-8d02-0242ac120007-6-ec95-2870-3f6b-edc3-7064-e956"
      },
      {
       "current": "5ebbccd2-7d47-11ee-89fa-0242ac120005-5-8d02-1369-c75e-6b78-fd43",
       "next": "5ebbce1c-7d47-11ee-89fa-0242ac120005-4-044e-7308-da0a-d2e0",
       "previous": "d1bcb8ac-9599-11ea-8d02-0242ac120007-7-ec95-2870-3f6b-edc3-7064-e956-07c9"
      }
     ],
     "next": "5ebbce1c-7d47-11ee-89fa-0242ac120005-5-044e-7308-da0a-d2e0-fcaf",
     "previous": "d1bcb8ac-9599-11ea-8d02-0242ac120007-8-ec95-2870-3f6b-edc3-7064-e956-07c9-902c"
    }
   },
   "source": [
    "## 作業用ディレクトリを作成する"
   ]
  },
  {
   "cell_type": "code",
   "execution_count": null,
   "metadata": {
    "lc_cell_meme": {
     "current": "5ebbce1c-7d47-11ee-89fa-0242ac120005-5-044e-7308-da0a-d2e0-fcaf",
     "history": [
      {
       "current": "5ebbce1c-7d47-11ee-89fa-0242ac120005",
       "next": "5ebbce8a-7d47-11ee-89fa-0242ac120005",
       "previous": "5ebbccd2-7d47-11ee-89fa-0242ac120005"
      },
      {
       "current": "5ebbce1c-7d47-11ee-89fa-0242ac120005-1-044e",
       "next": "5ebbce8a-7d47-11ee-89fa-0242ac120005-1-711d",
       "previous": "5ebbccd2-7d47-11ee-89fa-0242ac120005"
      },
      {
       "current": "5ebbce1c-7d47-11ee-89fa-0242ac120005-2-044e-7308",
       "next": "5ebbce8a-7d47-11ee-89fa-0242ac120005-2-711d-286c",
       "previous": "5ebbccd2-7d47-11ee-89fa-0242ac120005-1-8d02"
      },
      {
       "current": "5ebbce1c-7d47-11ee-89fa-0242ac120005-3-044e-7308-da0a",
       "next": "5ebbce8a-7d47-11ee-89fa-0242ac120005-3-711d-286c-4cc4",
       "previous": "5ebbccd2-7d47-11ee-89fa-0242ac120005-2-8d02-1369"
      },
      {
       "current": "5ebbce1c-7d47-11ee-89fa-0242ac120005-4-044e-7308-da0a-d2e0",
       "next": "5ebbce8a-7d47-11ee-89fa-0242ac120005-4-711d-286c-4cc4-88b3",
       "previous": "5ebbccd2-7d47-11ee-89fa-0242ac120005-3-8d02-1369-c75e"
      },
      {
       "current": "5ebbce1c-7d47-11ee-89fa-0242ac120005-5-044e-7308-da0a-d2e0-fcaf",
       "next": "5ebbce8a-7d47-11ee-89fa-0242ac120005-5-711d-286c-4cc4-88b3-5e2f",
       "previous": "5ebbccd2-7d47-11ee-89fa-0242ac120005-4-8d02-1369-c75e-6b78"
      }
     ],
     "next": "5ebbce8a-7d47-11ee-89fa-0242ac120005-6-711d-286c-4cc4-88b3-5e2f-cfa1",
     "previous": "5ebbccd2-7d47-11ee-89fa-0242ac120005-5-8d02-1369-c75e-6b78-fd43"
    }
   },
   "outputs": [],
   "source": [
    "import os,tempfile\n",
    "temp_dir = tempfile.mkdtemp()\n",
    "print (temp_dir)"
   ]
  },
  {
   "cell_type": "markdown",
   "metadata": {
    "lc_cell_meme": {
     "current": "5ebbce8a-7d47-11ee-89fa-0242ac120005-6-711d-286c-4cc4-88b3-5e2f-cfa1",
     "history": [
      {
       "current": "5ebbce8a-7d47-11ee-89fa-0242ac120005-2-711d-286c",
       "next": "5ebbceda-7d47-11ee-89fa-0242ac120005",
       "previous": "5ebbce1c-7d47-11ee-89fa-0242ac120005"
      },
      {
       "current": "5ebbce8a-7d47-11ee-89fa-0242ac120005-3-711d-286c-4cc4",
       "next": "5ebbceda-7d47-11ee-89fa-0242ac120005-1-0a7c",
       "previous": "5ebbce1c-7d47-11ee-89fa-0242ac120005-1-044e"
      },
      {
       "current": "5ebbce8a-7d47-11ee-89fa-0242ac120005-4-711d-286c-4cc4-88b3",
       "next": "5ebbceda-7d47-11ee-89fa-0242ac120005-2-0a7c-21ca",
       "previous": "5ebbce1c-7d47-11ee-89fa-0242ac120005-2-044e-7308"
      },
      {
       "current": "5ebbce8a-7d47-11ee-89fa-0242ac120005-5-711d-286c-4cc4-88b3-5e2f",
       "next": "5ebbceda-7d47-11ee-89fa-0242ac120005-3-0a7c-21ca-1497",
       "previous": "5ebbce1c-7d47-11ee-89fa-0242ac120005-3-044e-7308-da0a"
      },
      {
       "current": "5ebbce8a-7d47-11ee-89fa-0242ac120005-6-711d-286c-4cc4-88b3-5e2f-cfa1",
       "next": "5ebbceda-7d47-11ee-89fa-0242ac120005-4-0a7c-21ca-1497-b526",
       "previous": "5ebbce1c-7d47-11ee-89fa-0242ac120005-4-044e-7308-da0a-d2e0"
      }
     ],
     "next": "5ebbceda-7d47-11ee-89fa-0242ac120005-5-0a7c-21ca-1497-b526-6756",
     "previous": "5ebbce1c-7d47-11ee-89fa-0242ac120005-5-044e-7308-da0a-d2e0-fcaf"
    }
   },
   "source": [
    "## AnsibleのInventoryファイルを作業用ディレクトリへ作成する"
   ]
  },
  {
   "cell_type": "code",
   "execution_count": null,
   "metadata": {
    "lc_cell_meme": {
     "current": "5ebbceda-7d47-11ee-89fa-0242ac120005-5-0a7c-21ca-1497-b526-6756",
     "history": [
      {
       "current": "5ebbceda-7d47-11ee-89fa-0242ac120005",
       "next": "5ebbcf20-7d47-11ee-89fa-0242ac120005",
       "previous": "5ebbce8a-7d47-11ee-89fa-0242ac120005"
      },
      {
       "current": "5ebbceda-7d47-11ee-89fa-0242ac120005-1-0a7c",
       "next": "a64b8b3c-7d47-11ee-89fa-0242ac120005",
       "previous": "5ebbce8a-7d47-11ee-89fa-0242ac120005-1-711d"
      },
      {
       "current": "5ebbceda-7d47-11ee-89fa-0242ac120005-2-0a7c-21ca",
       "next": "a64b8b3c-7d47-11ee-89fa-0242ac120005-1-5331",
       "previous": "5ebbce8a-7d47-11ee-89fa-0242ac120005-2-711d-286c"
      },
      {
       "current": "5ebbceda-7d47-11ee-89fa-0242ac120005-3-0a7c-21ca-1497",
       "next": "a64b8b3c-7d47-11ee-89fa-0242ac120005-2-5331-a5cb",
       "previous": "5ebbce8a-7d47-11ee-89fa-0242ac120005-3-711d-286c-4cc4"
      },
      {
       "current": "5ebbceda-7d47-11ee-89fa-0242ac120005-4-0a7c-21ca-1497-b526",
       "next": "a64b8b3c-7d47-11ee-89fa-0242ac120005-3-5331-a5cb-4cc0",
       "previous": "5ebbce8a-7d47-11ee-89fa-0242ac120005-4-711d-286c-4cc4-88b3"
      },
      {
       "current": "5ebbceda-7d47-11ee-89fa-0242ac120005-5-0a7c-21ca-1497-b526-6756",
       "next": "a64b8b3c-7d47-11ee-89fa-0242ac120005-4-5331-a5cb-4cc0-9128",
       "previous": "5ebbce8a-7d47-11ee-89fa-0242ac120005-5-711d-286c-4cc4-88b3-5e2f"
      }
     ],
     "next": "a64b8b3c-7d47-11ee-89fa-0242ac120005-5-5331-a5cb-4cc0-9128-7102",
     "previous": "5ebbce8a-7d47-11ee-89fa-0242ac120005-6-711d-286c-4cc4-88b3-5e2f-cfa1"
    }
   },
   "outputs": [],
   "source": [
    "import os\n",
    "\n",
    "with open( os.path.join(temp_dir, \"hosts\"), 'w') as f:\n",
    "    f.write('''[openstack_ctl]\n",
    "{openstack_cmn}\n",
    "'''.format(openstack_cmn = provisioning_vip))\n",
    "\n",
    "hosts = temp_dir + \"/hosts\"\n",
    "!cat $hosts"
   ]
  },
  {
   "cell_type": "code",
   "execution_count": null,
   "metadata": {
    "lc_cell_meme": {
     "current": "a64b8b3c-7d47-11ee-89fa-0242ac120005-5-5331-a5cb-4cc0-9128-7102",
     "history": [
      {
       "current": "a64b8b3c-7d47-11ee-89fa-0242ac120005-1-5331",
       "next": "a64b8ca4-7d47-11ee-89fa-0242ac120005",
       "previous": "5ebbceda-7d47-11ee-89fa-0242ac120005"
      },
      {
       "current": "a64b8b3c-7d47-11ee-89fa-0242ac120005-2-5331-a5cb",
       "next": "a64b8ca4-7d47-11ee-89fa-0242ac120005-1-1c6b",
       "previous": "5ebbceda-7d47-11ee-89fa-0242ac120005-1-0a7c"
      },
      {
       "current": "a64b8b3c-7d47-11ee-89fa-0242ac120005-3-5331-a5cb-4cc0",
       "next": "a64b8ca4-7d47-11ee-89fa-0242ac120005-2-1c6b-2525",
       "previous": "5ebbceda-7d47-11ee-89fa-0242ac120005-2-0a7c-21ca"
      },
      {
       "current": "a64b8b3c-7d47-11ee-89fa-0242ac120005-4-5331-a5cb-4cc0-9128",
       "next": "a64b8ca4-7d47-11ee-89fa-0242ac120005-3-1c6b-2525-5f5c",
       "previous": "5ebbceda-7d47-11ee-89fa-0242ac120005-3-0a7c-21ca-1497"
      },
      {
       "current": "a64b8b3c-7d47-11ee-89fa-0242ac120005-5-5331-a5cb-4cc0-9128-7102",
       "next": "a64b8ca4-7d47-11ee-89fa-0242ac120005-4-1c6b-2525-5f5c-240b",
       "previous": "5ebbceda-7d47-11ee-89fa-0242ac120005-4-0a7c-21ca-1497-b526"
      }
     ],
     "next": "a64b8ca4-7d47-11ee-89fa-0242ac120005-5-1c6b-2525-5f5c-240b-5deb",
     "previous": "5ebbceda-7d47-11ee-89fa-0242ac120005-5-0a7c-21ca-1497-b526-6756"
    }
   },
   "outputs": [],
   "source": [
    "%env ANSIBLE_INVENTORY={hosts}"
   ]
  },
  {
   "cell_type": "markdown",
   "metadata": {
    "lc_cell_meme": {
     "current": "a64b8ca4-7d47-11ee-89fa-0242ac120005-5-1c6b-2525-5f5c-240b-5deb",
     "history": [
      {
       "current": "a64b8ca4-7d47-11ee-89fa-0242ac120005-1-1c6b",
       "next": "a64b8d30-7d47-11ee-89fa-0242ac120005",
       "previous": "a64b8b3c-7d47-11ee-89fa-0242ac120005"
      },
      {
       "current": "a64b8ca4-7d47-11ee-89fa-0242ac120005-2-1c6b-2525",
       "next": "a64b8d30-7d47-11ee-89fa-0242ac120005-1-9f92",
       "previous": "a64b8b3c-7d47-11ee-89fa-0242ac120005-1-5331"
      },
      {
       "current": "a64b8ca4-7d47-11ee-89fa-0242ac120005-3-1c6b-2525-5f5c",
       "next": "a64b8d30-7d47-11ee-89fa-0242ac120005-2-9f92-cb51",
       "previous": "a64b8b3c-7d47-11ee-89fa-0242ac120005-2-5331-a5cb"
      },
      {
       "current": "a64b8ca4-7d47-11ee-89fa-0242ac120005-4-1c6b-2525-5f5c-240b",
       "next": "a64b8d30-7d47-11ee-89fa-0242ac120005-3-9f92-cb51-31fa",
       "previous": "a64b8b3c-7d47-11ee-89fa-0242ac120005-3-5331-a5cb-4cc0"
      },
      {
       "current": "a64b8ca4-7d47-11ee-89fa-0242ac120005-5-1c6b-2525-5f5c-240b-5deb",
       "next": "a64b8d30-7d47-11ee-89fa-0242ac120005-4-9f92-cb51-31fa-ad02",
       "previous": "a64b8b3c-7d47-11ee-89fa-0242ac120005-4-5331-a5cb-4cc0-9128"
      }
     ],
     "next": "a64b8d30-7d47-11ee-89fa-0242ac120005-5-9f92-cb51-31fa-ad02-fd64",
     "previous": "a64b8b3c-7d47-11ee-89fa-0242ac120005-5-5331-a5cb-4cc0-9128-7102"
    }
   },
   "source": [
    "疎通確認"
   ]
  },
  {
   "cell_type": "code",
   "execution_count": null,
   "metadata": {
    "lc_cell_meme": {
     "current": "a64b8d30-7d47-11ee-89fa-0242ac120005-5-9f92-cb51-31fa-ad02-fd64",
     "history": [
      {
       "current": "a64b8d30-7d47-11ee-89fa-0242ac120005-1-9f92",
       "next": "a64b8d94-7d47-11ee-89fa-0242ac120005",
       "previous": "a64b8ca4-7d47-11ee-89fa-0242ac120005"
      },
      {
       "current": "a64b8d30-7d47-11ee-89fa-0242ac120005-2-9f92-cb51",
       "next": "a64b8d94-7d47-11ee-89fa-0242ac120005-1-5e94",
       "previous": "a64b8ca4-7d47-11ee-89fa-0242ac120005-1-1c6b"
      },
      {
       "current": "a64b8d30-7d47-11ee-89fa-0242ac120005-3-9f92-cb51-31fa",
       "next": "a64b8d94-7d47-11ee-89fa-0242ac120005-2-5e94-7fee",
       "previous": "a64b8ca4-7d47-11ee-89fa-0242ac120005-2-1c6b-2525"
      },
      {
       "current": "a64b8d30-7d47-11ee-89fa-0242ac120005-4-9f92-cb51-31fa-ad02",
       "next": "a64b8d94-7d47-11ee-89fa-0242ac120005-3-5e94-7fee-8532",
       "previous": "a64b8ca4-7d47-11ee-89fa-0242ac120005-3-1c6b-2525-5f5c"
      },
      {
       "current": "a64b8d30-7d47-11ee-89fa-0242ac120005-5-9f92-cb51-31fa-ad02-fd64",
       "next": "a64b8d94-7d47-11ee-89fa-0242ac120005-4-5e94-7fee-8532-b261",
       "previous": "a64b8ca4-7d47-11ee-89fa-0242ac120005-4-1c6b-2525-5f5c-240b"
      }
     ],
     "next": "a64b8d94-7d47-11ee-89fa-0242ac120005-5-5e94-7fee-8532-b261-8227",
     "previous": "a64b8ca4-7d47-11ee-89fa-0242ac120005-5-1c6b-2525-5f5c-240b-5deb"
    }
   },
   "outputs": [],
   "source": [
    "!ansible -m ping openstack_ctl"
   ]
  },
  {
   "cell_type": "code",
   "execution_count": null,
   "metadata": {
    "lc_cell_meme": {
     "current": "a64b8d94-7d47-11ee-89fa-0242ac120005-5-5e94-7fee-8532-b261-8227",
     "history": [
      {
       "current": "a64b8d94-7d47-11ee-89fa-0242ac120005-1-5e94",
       "next": "a64b8df8-7d47-11ee-89fa-0242ac120005",
       "previous": "a64b8d30-7d47-11ee-89fa-0242ac120005"
      },
      {
       "current": "a64b8d94-7d47-11ee-89fa-0242ac120005-2-5e94-7fee",
       "next": "a64b8df8-7d47-11ee-89fa-0242ac120005-1-fb21",
       "previous": "a64b8d30-7d47-11ee-89fa-0242ac120005-1-9f92"
      },
      {
       "current": "a64b8d94-7d47-11ee-89fa-0242ac120005-3-5e94-7fee-8532",
       "next": "a64b8df8-7d47-11ee-89fa-0242ac120005-2-fb21-f34c",
       "previous": "a64b8d30-7d47-11ee-89fa-0242ac120005-2-9f92-cb51"
      },
      {
       "current": "a64b8d94-7d47-11ee-89fa-0242ac120005-4-5e94-7fee-8532-b261",
       "next": "a64b8df8-7d47-11ee-89fa-0242ac120005-3-fb21-f34c-eb04",
       "previous": "a64b8d30-7d47-11ee-89fa-0242ac120005-3-9f92-cb51-31fa"
      },
      {
       "current": "a64b8d94-7d47-11ee-89fa-0242ac120005-5-5e94-7fee-8532-b261-8227",
       "next": "a64b8df8-7d47-11ee-89fa-0242ac120005-4-fb21-f34c-eb04-88a7",
       "previous": "a64b8d30-7d47-11ee-89fa-0242ac120005-4-9f92-cb51-31fa-ad02"
      }
     ],
     "next": "a64b8df8-7d47-11ee-89fa-0242ac120005-5-fb21-f34c-eb04-88a7-78c5",
     "previous": "a64b8d30-7d47-11ee-89fa-0242ac120005-5-9f92-cb51-31fa-ad02-fd64"
    }
   },
   "outputs": [],
   "source": [
    "!ansible -a 'hostname' openstack_ctl"
   ]
  },
  {
   "cell_type": "markdown",
   "metadata": {
    "lc_cell_meme": {
     "current": "a64b8df8-7d47-11ee-89fa-0242ac120005-5-fb21-f34c-eb04-88a7-78c5",
     "history": [
      {
       "current": "a64b8df8-7d47-11ee-89fa-0242ac120005-1-fb21",
       "next": "a64b8e5c-7d47-11ee-89fa-0242ac120005",
       "previous": "a64b8d94-7d47-11ee-89fa-0242ac120005"
      },
      {
       "current": "a64b8df8-7d47-11ee-89fa-0242ac120005-2-fb21-f34c",
       "next": "a64b8e5c-7d47-11ee-89fa-0242ac120005-1-2cdd",
       "previous": "a64b8d94-7d47-11ee-89fa-0242ac120005-1-5e94"
      },
      {
       "current": "a64b8df8-7d47-11ee-89fa-0242ac120005-3-fb21-f34c-eb04",
       "next": "a64b8e5c-7d47-11ee-89fa-0242ac120005-2-2cdd-55ec",
       "previous": "a64b8d94-7d47-11ee-89fa-0242ac120005-2-5e94-7fee"
      },
      {
       "current": "a64b8df8-7d47-11ee-89fa-0242ac120005-4-fb21-f34c-eb04-88a7",
       "next": "a64b8e5c-7d47-11ee-89fa-0242ac120005-3-2cdd-55ec-4fb4",
       "previous": "a64b8d94-7d47-11ee-89fa-0242ac120005-3-5e94-7fee-8532"
      },
      {
       "current": "a64b8df8-7d47-11ee-89fa-0242ac120005-5-fb21-f34c-eb04-88a7-78c5",
       "next": "a64b8e5c-7d47-11ee-89fa-0242ac120005-4-2cdd-55ec-4fb4-1d7f",
       "previous": "a64b8d94-7d47-11ee-89fa-0242ac120005-4-5e94-7fee-8532-b261"
      }
     ],
     "next": "a64b8e5c-7d47-11ee-89fa-0242ac120005-5-2cdd-55ec-4fb4-1d7f-d47d",
     "previous": "a64b8d94-7d47-11ee-89fa-0242ac120005-5-5e94-7fee-8532-b261-8227"
    }
   },
   "source": [
    "## OpenStack用OpenRCファイル設定\n",
    "\n",
    "`xxxxxxx`プロジェクト用のOpenRCファイルを事前にダウンロードしておくこと。  "
   ]
  },
  {
   "cell_type": "code",
   "execution_count": null,
   "metadata": {
    "lc_cell_meme": {
     "current": "a64b8e5c-7d47-11ee-89fa-0242ac120005-5-2cdd-55ec-4fb4-1d7f-d47d",
     "history": [
      {
       "current": "a64b8e5c-7d47-11ee-89fa-0242ac120005-1-2cdd",
       "next": "5ebbcf20-7d47-11ee-89fa-0242ac120005",
       "previous": "a64b8df8-7d47-11ee-89fa-0242ac120005"
      },
      {
       "current": "a64b8e5c-7d47-11ee-89fa-0242ac120005-2-2cdd-55ec",
       "next": "5ebbcf20-7d47-11ee-89fa-0242ac120005-1-4dde",
       "previous": "a64b8df8-7d47-11ee-89fa-0242ac120005-1-fb21"
      },
      {
       "current": "a64b8e5c-7d47-11ee-89fa-0242ac120005-3-2cdd-55ec-4fb4",
       "next": "5ebbcf20-7d47-11ee-89fa-0242ac120005-2-4dde-20c0",
       "previous": "a64b8df8-7d47-11ee-89fa-0242ac120005-2-fb21-f34c"
      },
      {
       "current": "a64b8e5c-7d47-11ee-89fa-0242ac120005-4-2cdd-55ec-4fb4-1d7f",
       "next": "5ebbcf20-7d47-11ee-89fa-0242ac120005-3-4dde-20c0-ea25",
       "previous": "a64b8df8-7d47-11ee-89fa-0242ac120005-3-fb21-f34c-eb04"
      },
      {
       "current": "a64b8e5c-7d47-11ee-89fa-0242ac120005-5-2cdd-55ec-4fb4-1d7f-d47d",
       "next": "5ebbcf20-7d47-11ee-89fa-0242ac120005-4-4dde-20c0-ea25-eb26",
       "previous": "a64b8df8-7d47-11ee-89fa-0242ac120005-4-fb21-f34c-eb04-88a7"
      }
     ],
     "next": "5ebbcf20-7d47-11ee-89fa-0242ac120005-5-4dde-20c0-ea25-eb26-b36a",
     "previous": "a64b8df8-7d47-11ee-89fa-0242ac120005-5-fb21-f34c-eb04-88a7-78c5"
    }
   },
   "outputs": [],
   "source": [
    "import os\n",
    "\n",
    "user_creds = os.path.expanduser('~/.keys/xxxxxxx-openrc.sh')\n",
    "\n",
    "assert os.path.exists(user_creds), '{} is not exist'.format(user_creds)"
   ]
  },
  {
   "cell_type": "code",
   "execution_count": null,
   "metadata": {
    "lc_cell_meme": {
     "current": "5ebbcf20-7d47-11ee-89fa-0242ac120005-5-4dde-20c0-ea25-eb26-b36a",
     "history": [
      {
       "current": "5ebbcf20-7d47-11ee-89fa-0242ac120005",
       "next": "5ebbcf66-7d47-11ee-89fa-0242ac120005",
       "previous": "5ebbceda-7d47-11ee-89fa-0242ac120005"
      },
      {
       "current": "5ebbcf20-7d47-11ee-89fa-0242ac120005-1-4dde",
       "next": "5ebbcf66-7d47-11ee-89fa-0242ac120005",
       "previous": "a64b8e5c-7d47-11ee-89fa-0242ac120005"
      },
      {
       "current": "5ebbcf20-7d47-11ee-89fa-0242ac120005-2-4dde-20c0",
       "next": "5ebbcf66-7d47-11ee-89fa-0242ac120005-1-a1e2",
       "previous": "a64b8e5c-7d47-11ee-89fa-0242ac120005-1-2cdd"
      },
      {
       "current": "5ebbcf20-7d47-11ee-89fa-0242ac120005-3-4dde-20c0-ea25",
       "next": "5ebbcf66-7d47-11ee-89fa-0242ac120005-2-a1e2-e2d5",
       "previous": "a64b8e5c-7d47-11ee-89fa-0242ac120005-2-2cdd-55ec"
      },
      {
       "current": "5ebbcf20-7d47-11ee-89fa-0242ac120005-4-4dde-20c0-ea25-eb26",
       "next": "5ebbcf66-7d47-11ee-89fa-0242ac120005-3-a1e2-e2d5-2f9f",
       "previous": "a64b8e5c-7d47-11ee-89fa-0242ac120005-3-2cdd-55ec-4fb4"
      },
      {
       "current": "5ebbcf20-7d47-11ee-89fa-0242ac120005-5-4dde-20c0-ea25-eb26-b36a",
       "next": "5ebbcf66-7d47-11ee-89fa-0242ac120005-4-a1e2-e2d5-2f9f-4750",
       "previous": "a64b8e5c-7d47-11ee-89fa-0242ac120005-4-2cdd-55ec-4fb4-1d7f"
      }
     ],
     "next": "5ebbcf66-7d47-11ee-89fa-0242ac120005-5-a1e2-e2d5-2f9f-4750-9103",
     "previous": "a64b8e5c-7d47-11ee-89fa-0242ac120005-5-2cdd-55ec-4fb4-1d7f-d47d"
    }
   },
   "outputs": [],
   "source": [
    "%env USER_CREDS={user_creds}"
   ]
  },
  {
   "cell_type": "code",
   "execution_count": null,
   "metadata": {
    "lc_cell_meme": {
     "current": "5ebbcf66-7d47-11ee-89fa-0242ac120005-5-a1e2-e2d5-2f9f-4750-9103",
     "history": [
      {
       "current": "5ebbcf66-7d47-11ee-89fa-0242ac120005",
       "next": "5ebbcfac-7d47-11ee-89fa-0242ac120005",
       "previous": "5ebbcf20-7d47-11ee-89fa-0242ac120005"
      },
      {
       "current": "5ebbcf66-7d47-11ee-89fa-0242ac120005-1-a1e2",
       "next": "5ebbcfac-7d47-11ee-89fa-0242ac120005-1-8ae8",
       "previous": "5ebbcf20-7d47-11ee-89fa-0242ac120005"
      },
      {
       "current": "5ebbcf66-7d47-11ee-89fa-0242ac120005-2-a1e2-e2d5",
       "next": "5ebbcfac-7d47-11ee-89fa-0242ac120005-2-8ae8-836f",
       "previous": "5ebbcf20-7d47-11ee-89fa-0242ac120005-1-4dde"
      },
      {
       "current": "5ebbcf66-7d47-11ee-89fa-0242ac120005-3-a1e2-e2d5-2f9f",
       "next": "5ebbcfac-7d47-11ee-89fa-0242ac120005-3-8ae8-836f-a404",
       "previous": "5ebbcf20-7d47-11ee-89fa-0242ac120005-2-4dde-20c0"
      },
      {
       "current": "5ebbcf66-7d47-11ee-89fa-0242ac120005-4-a1e2-e2d5-2f9f-4750",
       "next": "5ebbcfac-7d47-11ee-89fa-0242ac120005-4-8ae8-836f-a404-cc39",
       "previous": "5ebbcf20-7d47-11ee-89fa-0242ac120005-3-4dde-20c0-ea25"
      },
      {
       "current": "5ebbcf66-7d47-11ee-89fa-0242ac120005-5-a1e2-e2d5-2f9f-4750-9103",
       "next": "5ebbcfac-7d47-11ee-89fa-0242ac120005-5-8ae8-836f-a404-cc39-f21b",
       "previous": "5ebbcf20-7d47-11ee-89fa-0242ac120005-4-4dde-20c0-ea25-eb26"
      }
     ],
     "next": "5ebbcfac-7d47-11ee-89fa-0242ac120005-6-8ae8-836f-a404-cc39-f21b-9ec3",
     "previous": "5ebbcf20-7d47-11ee-89fa-0242ac120005-5-4dde-20c0-ea25-eb26-b36a"
    }
   },
   "outputs": [],
   "source": [
    "!ls -l {user_creds}"
   ]
  },
  {
   "cell_type": "markdown",
   "metadata": {
    "lc_cell_meme": {
     "current": "5ebbcfac-7d47-11ee-89fa-0242ac120005-6-8ae8-836f-a404-cc39-f21b-9ec3",
     "history": [
      {
       "current": "5ebbcfac-7d47-11ee-89fa-0242ac120005-1-8ae8",
       "next": "06afe9a8-98b0-11ea-8d02-0242ac120007-3-a1c1-faf0-55bd",
       "previous": "5ebbcf66-7d47-11ee-89fa-0242ac120005"
      },
      {
       "current": "5ebbcfac-7d47-11ee-89fa-0242ac120005-2-8ae8-836f",
       "next": "a64b8fce-7d47-11ee-89fa-0242ac120005",
       "previous": "5ebbcf66-7d47-11ee-89fa-0242ac120005"
      },
      {
       "current": "5ebbcfac-7d47-11ee-89fa-0242ac120005-3-8ae8-836f-a404",
       "next": "a64b8fce-7d47-11ee-89fa-0242ac120005-1-4cfe",
       "previous": "5ebbcf66-7d47-11ee-89fa-0242ac120005-1-a1e2"
      },
      {
       "current": "5ebbcfac-7d47-11ee-89fa-0242ac120005-4-8ae8-836f-a404-cc39",
       "next": "a64b8fce-7d47-11ee-89fa-0242ac120005-2-4cfe-6637",
       "previous": "5ebbcf66-7d47-11ee-89fa-0242ac120005-2-a1e2-e2d5"
      },
      {
       "current": "5ebbcfac-7d47-11ee-89fa-0242ac120005-5-8ae8-836f-a404-cc39-f21b",
       "next": "a64b8fce-7d47-11ee-89fa-0242ac120005-3-4cfe-6637-5fd5",
       "previous": "5ebbcf66-7d47-11ee-89fa-0242ac120005-3-a1e2-e2d5-2f9f"
      },
      {
       "current": "5ebbcfac-7d47-11ee-89fa-0242ac120005-6-8ae8-836f-a404-cc39-f21b-9ec3",
       "next": "a64b8fce-7d47-11ee-89fa-0242ac120005-4-4cfe-6637-5fd5-7704",
       "previous": "5ebbcf66-7d47-11ee-89fa-0242ac120005-4-a1e2-e2d5-2f9f-4750"
      }
     ],
     "next": "a64b8fce-7d47-11ee-89fa-0242ac120005-5-4cfe-6637-5fd5-7704-8f4d",
     "previous": "5ebbcf66-7d47-11ee-89fa-0242ac120005-5-a1e2-e2d5-2f9f-4750-9103"
    }
   },
   "source": [
    "## openstackコマンド用ユーティリティ関数"
   ]
  },
  {
   "cell_type": "code",
   "execution_count": null,
   "metadata": {
    "lc_cell_meme": {
     "current": "a64b8fce-7d47-11ee-89fa-0242ac120005-5-4cfe-6637-5fd5-7704-8f4d",
     "history": [
      {
       "current": "a64b8fce-7d47-11ee-89fa-0242ac120005-1-4cfe",
       "next": "a64b9064-7d47-11ee-89fa-0242ac120005",
       "previous": "5ebbcfac-7d47-11ee-89fa-0242ac120005-1-8ae8"
      },
      {
       "current": "a64b8fce-7d47-11ee-89fa-0242ac120005-2-4cfe-6637",
       "next": "a64b9064-7d47-11ee-89fa-0242ac120005-1-5cfa",
       "previous": "5ebbcfac-7d47-11ee-89fa-0242ac120005-2-8ae8-836f"
      },
      {
       "current": "a64b8fce-7d47-11ee-89fa-0242ac120005-3-4cfe-6637-5fd5",
       "next": "a64b9064-7d47-11ee-89fa-0242ac120005-2-5cfa-734d",
       "previous": "5ebbcfac-7d47-11ee-89fa-0242ac120005-3-8ae8-836f-a404"
      },
      {
       "current": "a64b8fce-7d47-11ee-89fa-0242ac120005-4-4cfe-6637-5fd5-7704",
       "next": "a64b9064-7d47-11ee-89fa-0242ac120005-3-5cfa-734d-b7c9",
       "previous": "5ebbcfac-7d47-11ee-89fa-0242ac120005-4-8ae8-836f-a404-cc39"
      },
      {
       "current": "a64b8fce-7d47-11ee-89fa-0242ac120005-5-4cfe-6637-5fd5-7704-8f4d",
       "next": "a64b9064-7d47-11ee-89fa-0242ac120005-4-5cfa-734d-b7c9-afab",
       "previous": "5ebbcfac-7d47-11ee-89fa-0242ac120005-5-8ae8-836f-a404-cc39-f21b"
      }
     ],
     "next": "a64b9064-7d47-11ee-89fa-0242ac120005-5-5cfa-734d-b7c9-afab-befc",
     "previous": "5ebbcfac-7d47-11ee-89fa-0242ac120005-6-8ae8-836f-a404-cc39-f21b-9ec3"
    }
   },
   "outputs": [],
   "source": [
    "def build_cmdline(param):\n",
    "    cmdline = ''\n",
    "    \n",
    "    for param_name, param_value in param.items():\n",
    "        if isinstance(param_value, dict):\n",
    "            for key, value in param_value.items():\n",
    "                cmdline += ' --{} {}={}'.format(param_name, key, value)\n",
    "        elif isinstance(param_value, list):\n",
    "            for item in param_value:\n",
    "                cmdline += ' --{} {}'.format(param_name, item)\n",
    "        elif isinstance(param_value, bool):\n",
    "            if param_value:\n",
    "                cmdline += ' --{}'.format(param_name)\n",
    "        else:\n",
    "            cmdline += ' --{} {}'.format(param_name, param_value)\n",
    "\n",
    "    return cmdline"
   ]
  },
  {
   "cell_type": "code",
   "execution_count": null,
   "metadata": {
    "lc_cell_meme": {
     "current": "a64b9064-7d47-11ee-89fa-0242ac120005-5-5cfa-734d-b7c9-afab-befc",
     "history": [
      {
       "current": "a64b9064-7d47-11ee-89fa-0242ac120005",
       "next": "a64b90dc-7d47-11ee-89fa-0242ac120005",
       "previous": "a64b8fce-7d47-11ee-89fa-0242ac120005"
      },
      {
       "current": "a64b9064-7d47-11ee-89fa-0242ac120005-1-5cfa",
       "next": "a64b90dc-7d47-11ee-89fa-0242ac120005-1-2c12",
       "previous": "a64b8fce-7d47-11ee-89fa-0242ac120005"
      },
      {
       "current": "a64b9064-7d47-11ee-89fa-0242ac120005-2-5cfa-734d",
       "next": "a64b90dc-7d47-11ee-89fa-0242ac120005-2-2c12-d4b9",
       "previous": "a64b8fce-7d47-11ee-89fa-0242ac120005-1-4cfe"
      },
      {
       "current": "a64b9064-7d47-11ee-89fa-0242ac120005-3-5cfa-734d-b7c9",
       "next": "a64b90dc-7d47-11ee-89fa-0242ac120005-3-2c12-d4b9-3d47",
       "previous": "a64b8fce-7d47-11ee-89fa-0242ac120005-2-4cfe-6637"
      },
      {
       "current": "a64b9064-7d47-11ee-89fa-0242ac120005-4-5cfa-734d-b7c9-afab",
       "next": "a64b90dc-7d47-11ee-89fa-0242ac120005-4-2c12-d4b9-3d47-09b9",
       "previous": "a64b8fce-7d47-11ee-89fa-0242ac120005-3-4cfe-6637-5fd5"
      },
      {
       "current": "a64b9064-7d47-11ee-89fa-0242ac120005-5-5cfa-734d-b7c9-afab-befc",
       "next": "a64b90dc-7d47-11ee-89fa-0242ac120005-5-2c12-d4b9-3d47-09b9-56f9",
       "previous": "a64b8fce-7d47-11ee-89fa-0242ac120005-4-4cfe-6637-5fd5-7704"
      }
     ],
     "next": "a64b90dc-7d47-11ee-89fa-0242ac120005-6-2c12-d4b9-3d47-09b9-56f9-806e",
     "previous": "a64b8fce-7d47-11ee-89fa-0242ac120005-5-4cfe-6637-5fd5-7704-8f4d"
    }
   },
   "outputs": [],
   "source": [
    "import json\n",
    "\n",
    "def run_openstack(cmd):\n",
    "    print('EXEC: {}'.format(cmd))\n",
    "    out = !source {user_creds} && {cmd}\n",
    "    print('OUTPUT: {}'.format('\\n'.join(out)))\n",
    "    return json.loads('\\n'.join(out))"
   ]
  },
  {
   "cell_type": "markdown",
   "metadata": {
    "lc_cell_meme": {
     "current": "a64b90dc-7d47-11ee-89fa-0242ac120005-6-2c12-d4b9-3d47-09b9-56f9-806e",
     "history": [
      {
       "current": "a64b90dc-7d47-11ee-89fa-0242ac120005-2-2c12-d4b9",
       "next": "a64b9154-7d47-11ee-89fa-0242ac120005",
       "previous": "a64b9064-7d47-11ee-89fa-0242ac120005"
      },
      {
       "current": "a64b90dc-7d47-11ee-89fa-0242ac120005-3-2c12-d4b9-3d47",
       "next": "a64b9154-7d47-11ee-89fa-0242ac120005-1-7176",
       "previous": "a64b9064-7d47-11ee-89fa-0242ac120005-1-5cfa"
      },
      {
       "current": "a64b90dc-7d47-11ee-89fa-0242ac120005-4-2c12-d4b9-3d47-09b9",
       "next": "a64b9154-7d47-11ee-89fa-0242ac120005-2-7176-4660",
       "previous": "a64b9064-7d47-11ee-89fa-0242ac120005-2-5cfa-734d"
      },
      {
       "current": "a64b90dc-7d47-11ee-89fa-0242ac120005-5-2c12-d4b9-3d47-09b9-56f9",
       "next": "a64b9154-7d47-11ee-89fa-0242ac120005-3-7176-4660-6523",
       "previous": "a64b9064-7d47-11ee-89fa-0242ac120005-3-5cfa-734d-b7c9"
      },
      {
       "current": "a64b90dc-7d47-11ee-89fa-0242ac120005-6-2c12-d4b9-3d47-09b9-56f9-806e",
       "next": "a64b9154-7d47-11ee-89fa-0242ac120005-4-7176-4660-6523-1c1e",
       "previous": "a64b9064-7d47-11ee-89fa-0242ac120005-4-5cfa-734d-b7c9-afab"
      }
     ],
     "next": "a64b9154-7d47-11ee-89fa-0242ac120005-5-7176-4660-6523-1c1e-6894",
     "previous": "a64b9064-7d47-11ee-89fa-0242ac120005-5-5cfa-734d-b7c9-afab-befc"
    }
   },
   "source": [
    "テスト"
   ]
  },
  {
   "cell_type": "code",
   "execution_count": null,
   "metadata": {
    "lc_cell_meme": {
     "current": "a64b9154-7d47-11ee-89fa-0242ac120005-5-7176-4660-6523-1c1e-6894",
     "history": [
      {
       "current": "a64b9154-7d47-11ee-89fa-0242ac120005",
       "next": "a64b91ae-7d47-11ee-89fa-0242ac120005",
       "previous": "a64b90dc-7d47-11ee-89fa-0242ac120005"
      },
      {
       "current": "a64b9154-7d47-11ee-89fa-0242ac120005-1-7176",
       "next": "06afe9a8-98b0-11ea-8d02-0242ac120007-3-a1c1-faf0-55bd",
       "previous": "a64b90dc-7d47-11ee-89fa-0242ac120005-1-2c12"
      },
      {
       "current": "a64b9154-7d47-11ee-89fa-0242ac120005-2-7176-4660",
       "next": "06afe9a8-98b0-11ea-8d02-0242ac120007-4-a1c1-faf0-55bd-e671",
       "previous": "a64b90dc-7d47-11ee-89fa-0242ac120005-2-2c12-d4b9"
      },
      {
       "current": "a64b9154-7d47-11ee-89fa-0242ac120005-3-7176-4660-6523",
       "next": "06afe9a8-98b0-11ea-8d02-0242ac120007-5-a1c1-faf0-55bd-e671-cb19",
       "previous": "a64b90dc-7d47-11ee-89fa-0242ac120005-3-2c12-d4b9-3d47"
      },
      {
       "current": "a64b9154-7d47-11ee-89fa-0242ac120005-4-7176-4660-6523-1c1e",
       "next": "06afe9a8-98b0-11ea-8d02-0242ac120007-6-a1c1-faf0-55bd-e671-cb19-3c8a",
       "previous": "a64b90dc-7d47-11ee-89fa-0242ac120005-4-2c12-d4b9-3d47-09b9"
      },
      {
       "current": "a64b9154-7d47-11ee-89fa-0242ac120005-5-7176-4660-6523-1c1e-6894",
       "next": "06afe9a8-98b0-11ea-8d02-0242ac120007-7-a1c1-faf0-55bd-e671-cb19-3c8a-1e41",
       "previous": "a64b90dc-7d47-11ee-89fa-0242ac120005-5-2c12-d4b9-3d47-09b9-56f9"
      }
     ],
     "next": "06afe9a8-98b0-11ea-8d02-0242ac120007-8-a1c1-faf0-55bd-e671-cb19-3c8a-1e41-4ad7",
     "previous": "a64b90dc-7d47-11ee-89fa-0242ac120005-6-2c12-d4b9-3d47-09b9-56f9-806e"
    }
   },
   "outputs": [],
   "source": [
    "run_openstack('openstack flavor list -f json' + build_cmdline({'all': True}))"
   ]
  },
  {
   "cell_type": "markdown",
   "metadata": {
    "lc_cell_meme": {
     "current": "06afe9a8-98b0-11ea-8d02-0242ac120007-8-a1c1-faf0-55bd-e671-cb19-3c8a-1e41-4ad7",
     "history": [
      {
       "current": "06afe9a8-98b0-11ea-8d02-0242ac120007",
       "next": "7899411a-9692-11ea-8d02-0242ac120007",
       "previous": "d1bcb8ac-9599-11ea-8d02-0242ac120007"
      },
      {
       "current": "06afe9a8-98b0-11ea-8d02-0242ac120007-1-a1c1",
       "next": "7899411a-9692-11ea-8d02-0242ac120007",
       "previous": "250e7a70-98f3-11ea-8d02-0242ac120007"
      },
      {
       "current": "06afe9a8-98b0-11ea-8d02-0242ac120007-2-a1c1-faf0",
       "next": "7899411a-9692-11ea-8d02-0242ac120007-1-2cd2",
       "previous": "250e7a70-98f3-11ea-8d02-0242ac120007-1-f0b4"
      },
      {
       "current": "06afe9a8-98b0-11ea-8d02-0242ac120007-2-a1c1-faf0",
       "next": "7899411a-9692-11ea-8d02-0242ac120007-2-2cd2-395d",
       "previous": "250e7a70-98f3-11ea-8d02-0242ac120007-2-f0b4-6edf"
      },
      {
       "current": "06afe9a8-98b0-11ea-8d02-0242ac120007-2-a1c1-faf0",
       "next": "04bfc54e-defc-11eb-b29f-0242ac120008",
       "previous": "250e7a70-98f3-11ea-8d02-0242ac120007-2-f0b4-6edf"
      },
      {
       "current": "06afe9a8-98b0-11ea-8d02-0242ac120007-3-a1c1-faf0-55bd",
       "next": "329a4046-dfad-11eb-b29f-0242ac120008",
       "previous": "250e7a70-98f3-11ea-8d02-0242ac120007-2-f0b4-6edf"
      },
      {
       "current": "06afe9a8-98b0-11ea-8d02-0242ac120007-3-a1c1-faf0-55bd",
       "next": "329a4046-dfad-11eb-b29f-0242ac120008-1-1375",
       "previous": "250e7a70-98f3-11ea-8d02-0242ac120007-3-f0b4-6edf-9d40"
      },
      {
       "current": "06afe9a8-98b0-11ea-8d02-0242ac120007-3-a1c1-faf0-55bd",
       "next": "329a4046-dfad-11eb-b29f-0242ac120008-1-1375",
       "previous": "5ebbcfac-7d47-11ee-89fa-0242ac120005"
      },
      {
       "current": "06afe9a8-98b0-11ea-8d02-0242ac120007-3-a1c1-faf0-55bd",
       "next": "329a4046-dfad-11eb-b29f-0242ac120008-1-1375",
       "previous": "a64b9262-7d47-11ee-89fa-0242ac120005"
      },
      {
       "current": "06afe9a8-98b0-11ea-8d02-0242ac120007-4-a1c1-faf0-55bd-e671",
       "next": "329a4046-dfad-11eb-b29f-0242ac120008-1-1375",
       "previous": "a64b9154-7d47-11ee-89fa-0242ac120005"
      },
      {
       "current": "06afe9a8-98b0-11ea-8d02-0242ac120007-5-a1c1-faf0-55bd-e671-cb19",
       "next": "329a4046-dfad-11eb-b29f-0242ac120008-2-1375-fced",
       "previous": "a64b9154-7d47-11ee-89fa-0242ac120005-1-7176"
      },
      {
       "current": "06afe9a8-98b0-11ea-8d02-0242ac120007-6-a1c1-faf0-55bd-e671-cb19-3c8a",
       "next": "329a4046-dfad-11eb-b29f-0242ac120008-3-1375-fced-edf1",
       "previous": "a64b9154-7d47-11ee-89fa-0242ac120005-2-7176-4660"
      },
      {
       "current": "06afe9a8-98b0-11ea-8d02-0242ac120007-7-a1c1-faf0-55bd-e671-cb19-3c8a-1e41",
       "next": "329a4046-dfad-11eb-b29f-0242ac120008-4-1375-fced-edf1-5581",
       "previous": "a64b9154-7d47-11ee-89fa-0242ac120005-3-7176-4660-6523"
      },
      {
       "current": "06afe9a8-98b0-11ea-8d02-0242ac120007-8-a1c1-faf0-55bd-e671-cb19-3c8a-1e41-4ad7",
       "next": "329a4046-dfad-11eb-b29f-0242ac120008-5-1375-fced-edf1-5581-476e",
       "previous": "a64b9154-7d47-11ee-89fa-0242ac120005-4-7176-4660-6523-1c1e"
      }
     ],
     "next": "329a4046-dfad-11eb-b29f-0242ac120008-6-1375-fced-edf1-5581-476e-0823",
     "previous": "a64b9154-7d47-11ee-89fa-0242ac120005-5-7176-4660-6523-1c1e-6894"
    }
   },
   "source": [
    "## デプロイされたCephノード情報の取得"
   ]
  },
  {
   "cell_type": "markdown",
   "metadata": {
    "lc_cell_meme": {
     "current": "329a4046-dfad-11eb-b29f-0242ac120008-6-1375-fced-edf1-5581-476e-0823",
     "history": [
      {
       "current": "329a4046-dfad-11eb-b29f-0242ac120008-1-1375",
       "next": "329a4348-dfad-11eb-b29f-0242ac120008",
       "previous": "06afe9a8-98b0-11ea-8d02-0242ac120007-2-a1c1-faf0"
      },
      {
       "current": "329a4046-dfad-11eb-b29f-0242ac120008-1-1375",
       "next": "329a4348-dfad-11eb-b29f-0242ac120008-1-ed21",
       "previous": "06afe9a8-98b0-11ea-8d02-0242ac120007-3-a1c1-faf0-55bd"
      },
      {
       "current": "329a4046-dfad-11eb-b29f-0242ac120008-2-1375-fced",
       "next": "edd87be0-7d47-11ee-89fa-0242ac120005",
       "previous": "06afe9a8-98b0-11ea-8d02-0242ac120007-3-a1c1-faf0-55bd"
      },
      {
       "current": "329a4046-dfad-11eb-b29f-0242ac120008-3-1375-fced-edf1",
       "next": "edd87be0-7d47-11ee-89fa-0242ac120005-1-e130",
       "previous": "06afe9a8-98b0-11ea-8d02-0242ac120007-4-a1c1-faf0-55bd-e671"
      },
      {
       "current": "329a4046-dfad-11eb-b29f-0242ac120008-4-1375-fced-edf1-5581",
       "next": "edd87be0-7d47-11ee-89fa-0242ac120005-2-e130-d4be",
       "previous": "06afe9a8-98b0-11ea-8d02-0242ac120007-5-a1c1-faf0-55bd-e671-cb19"
      },
      {
       "current": "329a4046-dfad-11eb-b29f-0242ac120008-5-1375-fced-edf1-5581-476e",
       "next": "edd87be0-7d47-11ee-89fa-0242ac120005-3-e130-d4be-f166",
       "previous": "06afe9a8-98b0-11ea-8d02-0242ac120007-6-a1c1-faf0-55bd-e671-cb19-3c8a"
      },
      {
       "current": "329a4046-dfad-11eb-b29f-0242ac120008-6-1375-fced-edf1-5581-476e-0823",
       "next": "edd87be0-7d47-11ee-89fa-0242ac120005-4-e130-d4be-f166-095a",
       "previous": "06afe9a8-98b0-11ea-8d02-0242ac120007-7-a1c1-faf0-55bd-e671-cb19-3c8a-1e41"
      }
     ],
     "next": "edd87be0-7d47-11ee-89fa-0242ac120005-5-e130-d4be-f166-095a-d440",
     "previous": "06afe9a8-98b0-11ea-8d02-0242ac120007-8-a1c1-faf0-55bd-e671-cb19-3c8a-1e41-4ad7"
    }
   },
   "source": [
    "ストレージノードを特定するにあたり、ノード名称が　ceph-nodexxx （xxxの部分は、右寄せ0埋めの数字3桁）というルールに従っていることを前提としている。<br>\n",
    " 例：ceph-node001<br>\n",
    " このノード名称ルールは、構築するCephクラスタ毎に変えるため、以下で定義する。"
   ]
  },
  {
   "cell_type": "code",
   "execution_count": null,
   "metadata": {
    "lc_cell_meme": {
     "current": "edd87be0-7d47-11ee-89fa-0242ac120005-5-e130-d4be-f166-095a-d440",
     "history": [
      {
       "current": "edd87be0-7d47-11ee-89fa-0242ac120005-1-e130",
       "next": "329a4348-dfad-11eb-b29f-0242ac120008-1-ed21",
       "previous": "329a4046-dfad-11eb-b29f-0242ac120008-1-1375"
      },
      {
       "current": "edd87be0-7d47-11ee-89fa-0242ac120005-2-e130-d4be",
       "next": "329a4348-dfad-11eb-b29f-0242ac120008-2-ed21-39b9",
       "previous": "329a4046-dfad-11eb-b29f-0242ac120008-2-1375-fced"
      },
      {
       "current": "edd87be0-7d47-11ee-89fa-0242ac120005-3-e130-d4be-f166",
       "next": "329a4348-dfad-11eb-b29f-0242ac120008-3-ed21-39b9-cd8c",
       "previous": "329a4046-dfad-11eb-b29f-0242ac120008-3-1375-fced-edf1"
      },
      {
       "current": "edd87be0-7d47-11ee-89fa-0242ac120005-4-e130-d4be-f166-095a",
       "next": "329a4348-dfad-11eb-b29f-0242ac120008-4-ed21-39b9-cd8c-6387",
       "previous": "329a4046-dfad-11eb-b29f-0242ac120008-4-1375-fced-edf1-5581"
      },
      {
       "current": "edd87be0-7d47-11ee-89fa-0242ac120005-5-e130-d4be-f166-095a-d440",
       "next": "329a4348-dfad-11eb-b29f-0242ac120008-5-ed21-39b9-cd8c-6387-3a7a",
       "previous": "329a4046-dfad-11eb-b29f-0242ac120008-5-1375-fced-edf1-5581-476e"
      }
     ],
     "next": "329a4348-dfad-11eb-b29f-0242ac120008-6-ed21-39b9-cd8c-6387-3a7a-c26a",
     "previous": "329a4046-dfad-11eb-b29f-0242ac120008-6-1375-fced-edf1-5581-476e-0823"
    }
   },
   "outputs": [],
   "source": [
    "# 初期化対象のインスタンス名称を設定する\n",
    "raise Exception('この先手作業が必要です')"
   ]
  },
  {
   "cell_type": "code",
   "execution_count": null,
   "metadata": {
    "lc_cell_meme": {
     "current": "329a4348-dfad-11eb-b29f-0242ac120008-6-ed21-39b9-cd8c-6387-3a7a-c26a",
     "history": [
      {
       "current": "329a4348-dfad-11eb-b29f-0242ac120008-1-ed21",
       "next": "04bfc54e-defc-11eb-b29f-0242ac120008",
       "previous": "329a4046-dfad-11eb-b29f-0242ac120008"
      },
      {
       "current": "329a4348-dfad-11eb-b29f-0242ac120008-1-ed21",
       "next": "04bfc54e-defc-11eb-b29f-0242ac120008-1-5336",
       "previous": "329a4046-dfad-11eb-b29f-0242ac120008-1-1375"
      },
      {
       "current": "329a4348-dfad-11eb-b29f-0242ac120008-2-ed21-39b9",
       "next": "edd87cc6-7d47-11ee-89fa-0242ac120005",
       "previous": "edd87be0-7d47-11ee-89fa-0242ac120005"
      },
      {
       "current": "329a4348-dfad-11eb-b29f-0242ac120008-3-ed21-39b9-cd8c",
       "next": "edd87cc6-7d47-11ee-89fa-0242ac120005-1-3857",
       "previous": "edd87be0-7d47-11ee-89fa-0242ac120005-1-e130"
      },
      {
       "current": "329a4348-dfad-11eb-b29f-0242ac120008-4-ed21-39b9-cd8c-6387",
       "next": "edd87cc6-7d47-11ee-89fa-0242ac120005-2-3857-a606",
       "previous": "edd87be0-7d47-11ee-89fa-0242ac120005-2-e130-d4be"
      },
      {
       "current": "329a4348-dfad-11eb-b29f-0242ac120008-5-ed21-39b9-cd8c-6387-3a7a",
       "next": "edd87cc6-7d47-11ee-89fa-0242ac120005-3-3857-a606-3678",
       "previous": "edd87be0-7d47-11ee-89fa-0242ac120005-3-e130-d4be-f166"
      },
      {
       "current": "329a4348-dfad-11eb-b29f-0242ac120008-6-ed21-39b9-cd8c-6387-3a7a-c26a",
       "next": "edd87cc6-7d47-11ee-89fa-0242ac120005-4-3857-a606-3678-e23c",
       "previous": "edd87be0-7d47-11ee-89fa-0242ac120005-4-e130-d4be-f166-095a"
      }
     ],
     "next": "edd87cc6-7d47-11ee-89fa-0242ac120005-5-3857-a606-3678-e23c-d777",
     "previous": "edd87be0-7d47-11ee-89fa-0242ac120005-5-e130-d4be-f166-095a-d440"
    }
   },
   "outputs": [],
   "source": [
    "import pandas as pd\n",
    "import re\n",
    "\n",
    "name_match_rule = r'ceph-xxx-node-[0-9]+'"
   ]
  },
  {
   "cell_type": "markdown",
   "metadata": {
    "lc_cell_meme": {
     "current": "edd87cc6-7d47-11ee-89fa-0242ac120005-5-3857-a606-3678-e23c-d777",
     "history": [
      {
       "current": "edd87cc6-7d47-11ee-89fa-0242ac120005-1-3857",
       "next": "edd87d16-7d47-11ee-89fa-0242ac120005",
       "previous": "329a4348-dfad-11eb-b29f-0242ac120008-1-ed21"
      },
      {
       "current": "edd87cc6-7d47-11ee-89fa-0242ac120005-2-3857-a606",
       "next": "edd87d16-7d47-11ee-89fa-0242ac120005-1-7e9a",
       "previous": "329a4348-dfad-11eb-b29f-0242ac120008-2-ed21-39b9"
      },
      {
       "current": "edd87cc6-7d47-11ee-89fa-0242ac120005-3-3857-a606-3678",
       "next": "edd87d16-7d47-11ee-89fa-0242ac120005-2-7e9a-9024",
       "previous": "329a4348-dfad-11eb-b29f-0242ac120008-3-ed21-39b9-cd8c"
      },
      {
       "current": "edd87cc6-7d47-11ee-89fa-0242ac120005-4-3857-a606-3678-e23c",
       "next": "edd87d16-7d47-11ee-89fa-0242ac120005-3-7e9a-9024-8d76",
       "previous": "329a4348-dfad-11eb-b29f-0242ac120008-4-ed21-39b9-cd8c-6387"
      },
      {
       "current": "edd87cc6-7d47-11ee-89fa-0242ac120005-5-3857-a606-3678-e23c-d777",
       "next": "edd87d16-7d47-11ee-89fa-0242ac120005-4-7e9a-9024-8d76-f09c",
       "previous": "329a4348-dfad-11eb-b29f-0242ac120008-5-ed21-39b9-cd8c-6387-3a7a"
      }
     ],
     "next": "edd87d16-7d47-11ee-89fa-0242ac120005-5-7e9a-9024-8d76-f09c-3910",
     "previous": "329a4348-dfad-11eb-b29f-0242ac120008-6-ed21-39b9-cd8c-6387-3a7a-c26a"
    }
   },
   "source": [
    "## OpenStack Ironicからノード情報の取得"
   ]
  },
  {
   "cell_type": "code",
   "execution_count": null,
   "metadata": {
    "lc_cell_meme": {
     "current": "edd87d16-7d47-11ee-89fa-0242ac120005-5-7e9a-9024-8d76-f09c-3910",
     "history": [
      {
       "current": "edd87d16-7d47-11ee-89fa-0242ac120005-1-7e9a",
       "next": "edd87d52-7d47-11ee-89fa-0242ac120005",
       "previous": "edd87cc6-7d47-11ee-89fa-0242ac120005"
      },
      {
       "current": "edd87d16-7d47-11ee-89fa-0242ac120005-2-7e9a-9024",
       "next": "edd87d52-7d47-11ee-89fa-0242ac120005-1-fb63",
       "previous": "edd87cc6-7d47-11ee-89fa-0242ac120005-1-3857"
      },
      {
       "current": "edd87d16-7d47-11ee-89fa-0242ac120005-3-7e9a-9024-8d76",
       "next": "edd87d52-7d47-11ee-89fa-0242ac120005-2-fb63-d8ee",
       "previous": "edd87cc6-7d47-11ee-89fa-0242ac120005-2-3857-a606"
      },
      {
       "current": "edd87d16-7d47-11ee-89fa-0242ac120005-4-7e9a-9024-8d76-f09c",
       "next": "edd87d52-7d47-11ee-89fa-0242ac120005-3-fb63-d8ee-4948",
       "previous": "edd87cc6-7d47-11ee-89fa-0242ac120005-3-3857-a606-3678"
      },
      {
       "current": "edd87d16-7d47-11ee-89fa-0242ac120005-5-7e9a-9024-8d76-f09c-3910",
       "next": "edd87d52-7d47-11ee-89fa-0242ac120005-4-fb63-d8ee-4948-8151",
       "previous": "edd87cc6-7d47-11ee-89fa-0242ac120005-4-3857-a606-3678-e23c"
      }
     ],
     "next": "edd87d52-7d47-11ee-89fa-0242ac120005-5-fb63-d8ee-4948-8151-45a1",
     "previous": "edd87cc6-7d47-11ee-89fa-0242ac120005-5-3857-a606-3678-e23c-d777"
    },
    "scrolled": true
   },
   "outputs": [],
   "source": [
    "cmd = \"openstack baremetal node list -f json --long\"\n",
    "nodes = run_openstack(cmd)"
   ]
  },
  {
   "cell_type": "code",
   "execution_count": null,
   "metadata": {
    "lc_cell_meme": {
     "current": "edd87d52-7d47-11ee-89fa-0242ac120005-5-fb63-d8ee-4948-8151-45a1",
     "history": [
      {
       "current": "edd87d52-7d47-11ee-89fa-0242ac120005-1-fb63",
       "next": "edd87d84-7d47-11ee-89fa-0242ac120005",
       "previous": "edd87d16-7d47-11ee-89fa-0242ac120005"
      },
      {
       "current": "edd87d52-7d47-11ee-89fa-0242ac120005-2-fb63-d8ee",
       "next": "edd87d84-7d47-11ee-89fa-0242ac120005-1-b9fb",
       "previous": "edd87d16-7d47-11ee-89fa-0242ac120005-1-7e9a"
      },
      {
       "current": "edd87d52-7d47-11ee-89fa-0242ac120005-3-fb63-d8ee-4948",
       "next": "edd87d84-7d47-11ee-89fa-0242ac120005-2-b9fb-ffd3",
       "previous": "edd87d16-7d47-11ee-89fa-0242ac120005-2-7e9a-9024"
      },
      {
       "current": "edd87d52-7d47-11ee-89fa-0242ac120005-4-fb63-d8ee-4948-8151",
       "next": "edd87d84-7d47-11ee-89fa-0242ac120005-3-b9fb-ffd3-76b1",
       "previous": "edd87d16-7d47-11ee-89fa-0242ac120005-3-7e9a-9024-8d76"
      },
      {
       "current": "edd87d52-7d47-11ee-89fa-0242ac120005-5-fb63-d8ee-4948-8151-45a1",
       "next": "edd87d84-7d47-11ee-89fa-0242ac120005-4-b9fb-ffd3-76b1-072f",
       "previous": "edd87d16-7d47-11ee-89fa-0242ac120005-4-7e9a-9024-8d76-f09c"
      }
     ],
     "next": "edd87d84-7d47-11ee-89fa-0242ac120005-5-b9fb-ffd3-76b1-072f-7ba3",
     "previous": "edd87d16-7d47-11ee-89fa-0242ac120005-5-7e9a-9024-8d76-f09c-3910"
    },
    "scrolled": true
   },
   "outputs": [],
   "source": [
    "import pandas as pd\n",
    "import re\n",
    "\n",
    "for node in nodes:\n",
    "    instance_uuid = node.get(\"Instance UUID\", None)\n",
    "    if instance_uuid is None:\n",
    "        continue\n",
    "        \n",
    "    node[\"instance_name\"] = node[\"Instance Info\"][\"display_name\"]\n",
    "\n",
    "pd.set_option('display.max_rows', None)\n",
    "pd.DataFrame(nodes, columns=['Instance UUID', 'instance_name', 'UUID', 'Maintenance', 'Provisioning State', 'Power State', 'Name'])"
   ]
  },
  {
   "cell_type": "code",
   "execution_count": null,
   "metadata": {
    "lc_cell_meme": {
     "current": "edd87d84-7d47-11ee-89fa-0242ac120005-5-b9fb-ffd3-76b1-072f-7ba3",
     "history": [
      {
       "current": "edd87d84-7d47-11ee-89fa-0242ac120005-1-b9fb",
       "next": "edd87db6-7d47-11ee-89fa-0242ac120005",
       "previous": "edd87d52-7d47-11ee-89fa-0242ac120005"
      },
      {
       "current": "edd87d84-7d47-11ee-89fa-0242ac120005-2-b9fb-ffd3",
       "next": "edd87db6-7d47-11ee-89fa-0242ac120005-1-39cb",
       "previous": "edd87d52-7d47-11ee-89fa-0242ac120005-1-fb63"
      },
      {
       "current": "edd87d84-7d47-11ee-89fa-0242ac120005-3-b9fb-ffd3-76b1",
       "next": "edd87db6-7d47-11ee-89fa-0242ac120005-2-39cb-a13e",
       "previous": "edd87d52-7d47-11ee-89fa-0242ac120005-2-fb63-d8ee"
      },
      {
       "current": "edd87d84-7d47-11ee-89fa-0242ac120005-4-b9fb-ffd3-76b1-072f",
       "next": "edd87db6-7d47-11ee-89fa-0242ac120005-3-39cb-a13e-8255",
       "previous": "edd87d52-7d47-11ee-89fa-0242ac120005-3-fb63-d8ee-4948"
      },
      {
       "current": "edd87d84-7d47-11ee-89fa-0242ac120005-5-b9fb-ffd3-76b1-072f-7ba3",
       "next": "edd87db6-7d47-11ee-89fa-0242ac120005-4-39cb-a13e-8255-f2f5",
       "previous": "edd87d52-7d47-11ee-89fa-0242ac120005-4-fb63-d8ee-4948-8151"
      }
     ],
     "next": "edd87db6-7d47-11ee-89fa-0242ac120005-5-39cb-a13e-8255-f2f5-8a45",
     "previous": "edd87d52-7d47-11ee-89fa-0242ac120005-5-fb63-d8ee-4948-8151-45a1"
    },
    "scrolled": true
   },
   "outputs": [],
   "source": [
    "cmd = \"openstack server list -f json --long\"\n",
    "nova_server_map = run_openstack(cmd)"
   ]
  },
  {
   "cell_type": "code",
   "execution_count": null,
   "metadata": {
    "lc_cell_meme": {
     "current": "edd87db6-7d47-11ee-89fa-0242ac120005-5-39cb-a13e-8255-f2f5-8a45",
     "history": [
      {
       "current": "edd87db6-7d47-11ee-89fa-0242ac120005",
       "next": "edd87de8-7d47-11ee-89fa-0242ac120005",
       "previous": "edd87d84-7d47-11ee-89fa-0242ac120005"
      },
      {
       "current": "edd87db6-7d47-11ee-89fa-0242ac120005-1-39cb",
       "next": "06afec50-98b0-11ea-8d02-0242ac120007-3-5828-a305-b690",
       "previous": "edd87d84-7d47-11ee-89fa-0242ac120005"
      },
      {
       "current": "edd87db6-7d47-11ee-89fa-0242ac120005-2-39cb-a13e",
       "next": "06afec50-98b0-11ea-8d02-0242ac120007-4-5828-a305-b690-d230",
       "previous": "edd87d84-7d47-11ee-89fa-0242ac120005-1-b9fb"
      },
      {
       "current": "edd87db6-7d47-11ee-89fa-0242ac120005-3-39cb-a13e-8255",
       "next": "06afec50-98b0-11ea-8d02-0242ac120007-5-5828-a305-b690-d230-101c",
       "previous": "edd87d84-7d47-11ee-89fa-0242ac120005-2-b9fb-ffd3"
      },
      {
       "current": "edd87db6-7d47-11ee-89fa-0242ac120005-4-39cb-a13e-8255-f2f5",
       "next": "06afec50-98b0-11ea-8d02-0242ac120007-6-5828-a305-b690-d230-101c-1a6d",
       "previous": "edd87d84-7d47-11ee-89fa-0242ac120005-3-b9fb-ffd3-76b1"
      },
      {
       "current": "edd87db6-7d47-11ee-89fa-0242ac120005-5-39cb-a13e-8255-f2f5-8a45",
       "next": "06afec50-98b0-11ea-8d02-0242ac120007-7-5828-a305-b690-d230-101c-1a6d-0477",
       "previous": "edd87d84-7d47-11ee-89fa-0242ac120005-4-b9fb-ffd3-76b1-072f"
      }
     ],
     "next": "06afec50-98b0-11ea-8d02-0242ac120007-8-5828-a305-b690-d230-101c-1a6d-0477-6bbb",
     "previous": "edd87d84-7d47-11ee-89fa-0242ac120005-5-b9fb-ffd3-76b1-072f-7ba3"
    }
   },
   "outputs": [],
   "source": [
    "node_list = []\n",
    "for server in nova_server_map:\n",
    "    node_id = server['ID']\n",
    "    if re.match(name_match_rule, server['Name']) is None:\n",
    "        continue\n",
    "    for node in nodes:\n",
    "        if node['Instance UUID'] == node_id:\n",
    "            node_info = {}\n",
    "            node_list.append(node_info)\n",
    "            node_info['name'] = server['Name']\n",
    "            node_info['node_name'] = node['Name']\n",
    "            instance_ip_info = instance_ip_map.get(server['Name'], None)\n",
    "            if instance_ip_info is not None:\n",
    "                node_info['instance_ip'] = instance_ip_info.get('ipv4', None)\n",
    "            else:\n",
    "                node_info['instance_ip'] = None\n",
    "            address = server['Networks']\n",
    "            prov_net = address['provisioning-net']\n",
    "            for addr in prov_net:\n",
    "                node_info['prov_ip'] = addr\n",
    "\n",
    "pd.DataFrame(node_list)"
   ]
  },
  {
   "cell_type": "markdown",
   "metadata": {
    "lc_cell_meme": {
     "current": "06afec50-98b0-11ea-8d02-0242ac120007-8-5828-a305-b690-d230-101c-1a6d-0477-6bbb",
     "history": [
      {
       "current": "06afec50-98b0-11ea-8d02-0242ac120007-1-5828",
       "next": "8a48d590-98a1-11ea-8d02-0242ac120007",
       "previous": "357fc83a-969d-11ea-8d02-0242ac120007"
      },
      {
       "current": "06afec50-98b0-11ea-8d02-0242ac120007-2-5828-a305",
       "next": "8a48d590-98a1-11ea-8d02-0242ac120007-1-1c0f",
       "previous": "357fc83a-969d-11ea-8d02-0242ac120007-1-9a36"
      },
      {
       "current": "06afec50-98b0-11ea-8d02-0242ac120007-3-5828-a305-b690",
       "next": "8a48d590-98a1-11ea-8d02-0242ac120007-2-1c0f-5b25",
       "previous": "357fc83a-969d-11ea-8d02-0242ac120007-2-9a36-95b8"
      },
      {
       "current": "06afec50-98b0-11ea-8d02-0242ac120007-3-5828-a305-b690",
       "next": "8a48d590-98a1-11ea-8d02-0242ac120007-3-1c0f-5b25-d7c0",
       "previous": "357fc83a-969d-11ea-8d02-0242ac120007-3-9a36-95b8-3fa9"
      },
      {
       "current": "06afec50-98b0-11ea-8d02-0242ac120007-4-5828-a305-b690-d230",
       "next": "8a48d590-98a1-11ea-8d02-0242ac120007-3-1c0f-5b25-d7c0",
       "previous": "edd87db6-7d47-11ee-89fa-0242ac120005"
      },
      {
       "current": "06afec50-98b0-11ea-8d02-0242ac120007-5-5828-a305-b690-d230-101c",
       "next": "8a48d590-98a1-11ea-8d02-0242ac120007-4-1c0f-5b25-d7c0-7807",
       "previous": "edd87db6-7d47-11ee-89fa-0242ac120005-1-39cb"
      },
      {
       "current": "06afec50-98b0-11ea-8d02-0242ac120007-6-5828-a305-b690-d230-101c-1a6d",
       "next": "8a48d590-98a1-11ea-8d02-0242ac120007-5-1c0f-5b25-d7c0-7807-42bf",
       "previous": "edd87db6-7d47-11ee-89fa-0242ac120005-2-39cb-a13e"
      },
      {
       "current": "06afec50-98b0-11ea-8d02-0242ac120007-7-5828-a305-b690-d230-101c-1a6d-0477",
       "next": "8a48d590-98a1-11ea-8d02-0242ac120007-6-1c0f-5b25-d7c0-7807-42bf-772b",
       "previous": "edd87db6-7d47-11ee-89fa-0242ac120005-3-39cb-a13e-8255"
      },
      {
       "current": "06afec50-98b0-11ea-8d02-0242ac120007-8-5828-a305-b690-d230-101c-1a6d-0477-6bbb",
       "next": "8a48d590-98a1-11ea-8d02-0242ac120007-7-1c0f-5b25-d7c0-7807-42bf-772b-d6d6",
       "previous": "edd87db6-7d47-11ee-89fa-0242ac120005-4-39cb-a13e-8255-f2f5"
      }
     ],
     "next": "8a48d590-98a1-11ea-8d02-0242ac120007-8-1c0f-5b25-d7c0-7807-42bf-772b-d6d6-a312",
     "previous": "edd87db6-7d47-11ee-89fa-0242ac120005-5-39cb-a13e-8255-f2f5-8a45"
    }
   },
   "source": [
    "## 初期化対象Cephノード情報の取得"
   ]
  },
  {
   "cell_type": "markdown",
   "metadata": {
    "lc_cell_meme": {
     "current": "8a48d590-98a1-11ea-8d02-0242ac120007-8-1c0f-5b25-d7c0-7807-42bf-772b-d6d6-a312",
     "history": [
      {
       "current": "8a48d590-98a1-11ea-8d02-0242ac120007",
       "next": "8a48d90a-98a1-11ea-8d02-0242ac120007",
       "previous": "357fc83a-969d-11ea-8d02-0242ac120007"
      },
      {
       "current": "8a48d590-98a1-11ea-8d02-0242ac120007",
       "next": "8a48d90a-98a1-11ea-8d02-0242ac120007",
       "previous": "06afec50-98b0-11ea-8d02-0242ac120007"
      },
      {
       "current": "8a48d590-98a1-11ea-8d02-0242ac120007",
       "next": "a85c1dda-959a-11ea-8d02-0242ac120007",
       "previous": "06afec50-98b0-11ea-8d02-0242ac120007"
      },
      {
       "current": "8a48d590-98a1-11ea-8d02-0242ac120007-1-1c0f",
       "next": "e879cdac-95bf-11ea-8d02-0242ac120007",
       "previous": "06afec50-98b0-11ea-8d02-0242ac120007"
      },
      {
       "current": "8a48d590-98a1-11ea-8d02-0242ac120007-2-1c0f-5b25",
       "next": "e879cdac-95bf-11ea-8d02-0242ac120007-1-4a2c",
       "previous": "06afec50-98b0-11ea-8d02-0242ac120007-1-5828"
      },
      {
       "current": "8a48d590-98a1-11ea-8d02-0242ac120007-3-1c0f-5b25-d7c0",
       "next": "e879cdac-95bf-11ea-8d02-0242ac120007-2-4a2c-6b2f",
       "previous": "06afec50-98b0-11ea-8d02-0242ac120007-2-5828-a305"
      },
      {
       "current": "8a48d590-98a1-11ea-8d02-0242ac120007-4-1c0f-5b25-d7c0-7807",
       "next": "e879cdac-95bf-11ea-8d02-0242ac120007-3-4a2c-6b2f-958d",
       "previous": "06afec50-98b0-11ea-8d02-0242ac120007-3-5828-a305-b690"
      },
      {
       "current": "8a48d590-98a1-11ea-8d02-0242ac120007-5-1c0f-5b25-d7c0-7807-42bf",
       "next": "e879cdac-95bf-11ea-8d02-0242ac120007-4-4a2c-6b2f-958d-4df5",
       "previous": "06afec50-98b0-11ea-8d02-0242ac120007-4-5828-a305-b690-d230"
      },
      {
       "current": "8a48d590-98a1-11ea-8d02-0242ac120007-6-1c0f-5b25-d7c0-7807-42bf-772b",
       "next": "e879cdac-95bf-11ea-8d02-0242ac120007-5-4a2c-6b2f-958d-4df5-fb62",
       "previous": "06afec50-98b0-11ea-8d02-0242ac120007-5-5828-a305-b690-d230-101c"
      },
      {
       "current": "8a48d590-98a1-11ea-8d02-0242ac120007-7-1c0f-5b25-d7c0-7807-42bf-772b-d6d6",
       "next": "e879cdac-95bf-11ea-8d02-0242ac120007-6-4a2c-6b2f-958d-4df5-fb62-ebaf",
       "previous": "06afec50-98b0-11ea-8d02-0242ac120007-6-5828-a305-b690-d230-101c-1a6d"
      },
      {
       "current": "8a48d590-98a1-11ea-8d02-0242ac120007-8-1c0f-5b25-d7c0-7807-42bf-772b-d6d6-a312",
       "next": "e879cdac-95bf-11ea-8d02-0242ac120007-7-4a2c-6b2f-958d-4df5-fb62-ebaf-6390",
       "previous": "06afec50-98b0-11ea-8d02-0242ac120007-7-5828-a305-b690-d230-101c-1a6d-0477"
      }
     ],
     "next": "e879cdac-95bf-11ea-8d02-0242ac120007-8-4a2c-6b2f-958d-4df5-fb62-ebaf-6390-1378",
     "previous": "06afec50-98b0-11ea-8d02-0242ac120007-8-5828-a305-b690-d230-101c-1a6d-0477-6bbb"
    }
   },
   "source": [
    "初期化対象のインスタンス名称を設定する"
   ]
  },
  {
   "cell_type": "code",
   "execution_count": null,
   "metadata": {
    "lc_cell_meme": {
     "current": "e879cdac-95bf-11ea-8d02-0242ac120007-8-4a2c-6b2f-958d-4df5-fb62-ebaf-6390-1378",
     "history": [
      {
       "current": "e879cdac-95bf-11ea-8d02-0242ac120007",
       "next": "81dd4f74-9597-11ea-8d02-0242ac120007",
       "previous": "d1bcb8ac-9599-11ea-8d02-0242ac120007"
      },
      {
       "current": "e879cdac-95bf-11ea-8d02-0242ac120007",
       "next": "81dd4f74-9597-11ea-8d02-0242ac120007",
       "previous": "a85c1dda-959a-11ea-8d02-0242ac120007"
      },
      {
       "current": "e879cdac-95bf-11ea-8d02-0242ac120007",
       "next": "8a48d90a-98a1-11ea-8d02-0242ac120007",
       "previous": "a85c1dda-959a-11ea-8d02-0242ac120007"
      },
      {
       "current": "e879cdac-95bf-11ea-8d02-0242ac120007-1-4a2c",
       "next": "8a48d90a-98a1-11ea-8d02-0242ac120007",
       "previous": "8a48d590-98a1-11ea-8d02-0242ac120007"
      },
      {
       "current": "e879cdac-95bf-11ea-8d02-0242ac120007-2-4a2c-6b2f",
       "next": "8a48d90a-98a1-11ea-8d02-0242ac120007-1-0ebc",
       "previous": "8a48d590-98a1-11ea-8d02-0242ac120007-1-1c0f"
      },
      {
       "current": "e879cdac-95bf-11ea-8d02-0242ac120007-2-4a2c-6b2f",
       "next": "8a48d90a-98a1-11ea-8d02-0242ac120007-2-0ebc-93ac",
       "previous": "8a48d590-98a1-11ea-8d02-0242ac120007-2-1c0f-5b25"
      },
      {
       "current": "e879cdac-95bf-11ea-8d02-0242ac120007-3-4a2c-6b2f-958d",
       "next": "809aa1e6-def9-11eb-b29f-0242ac120008",
       "previous": "8a48d590-98a1-11ea-8d02-0242ac120007-2-1c0f-5b25"
      },
      {
       "current": "e879cdac-95bf-11ea-8d02-0242ac120007-4-4a2c-6b2f-958d-4df5",
       "next": "809aa1e6-def9-11eb-b29f-0242ac120008-1-b49e",
       "previous": "8a48d590-98a1-11ea-8d02-0242ac120007-3-1c0f-5b25-d7c0"
      },
      {
       "current": "e879cdac-95bf-11ea-8d02-0242ac120007-5-4a2c-6b2f-958d-4df5-fb62",
       "next": "809aa1e6-def9-11eb-b29f-0242ac120008-2-b49e-90a5",
       "previous": "8a48d590-98a1-11ea-8d02-0242ac120007-4-1c0f-5b25-d7c0-7807"
      },
      {
       "current": "e879cdac-95bf-11ea-8d02-0242ac120007-6-4a2c-6b2f-958d-4df5-fb62-ebaf",
       "next": "809aa1e6-def9-11eb-b29f-0242ac120008-3-b49e-90a5-711f",
       "previous": "8a48d590-98a1-11ea-8d02-0242ac120007-5-1c0f-5b25-d7c0-7807-42bf"
      },
      {
       "current": "e879cdac-95bf-11ea-8d02-0242ac120007-7-4a2c-6b2f-958d-4df5-fb62-ebaf-6390",
       "next": "809aa1e6-def9-11eb-b29f-0242ac120008-4-b49e-90a5-711f-77bc",
       "previous": "8a48d590-98a1-11ea-8d02-0242ac120007-6-1c0f-5b25-d7c0-7807-42bf-772b"
      },
      {
       "current": "e879cdac-95bf-11ea-8d02-0242ac120007-8-4a2c-6b2f-958d-4df5-fb62-ebaf-6390-1378",
       "next": "809aa1e6-def9-11eb-b29f-0242ac120008-5-b49e-90a5-711f-77bc-bc93",
       "previous": "8a48d590-98a1-11ea-8d02-0242ac120007-7-1c0f-5b25-d7c0-7807-42bf-772b-d6d6"
      }
     ],
     "next": "809aa1e6-def9-11eb-b29f-0242ac120008-6-b49e-90a5-711f-77bc-bc93-71ec",
     "previous": "8a48d590-98a1-11ea-8d02-0242ac120007-8-1c0f-5b25-d7c0-7807-42bf-772b-d6d6-a312"
    },
    "scrolled": true
   },
   "outputs": [],
   "source": [
    "# 初期化対象のインスタンス名称を設定する\n",
    "raise Exception('この先手作業が必要です')"
   ]
  },
  {
   "cell_type": "markdown",
   "metadata": {
    "lc_cell_meme": {
     "current": "809aa1e6-def9-11eb-b29f-0242ac120008-6-b49e-90a5-711f-77bc-bc93-71ec",
     "history": [
      {
       "current": "809aa1e6-def9-11eb-b29f-0242ac120008-1-b49e",
       "next": "8a48d90a-98a1-11ea-8d02-0242ac120007-2-0ebc-93ac",
       "previous": "e879cdac-95bf-11ea-8d02-0242ac120007-2-4a2c-6b2f"
      },
      {
       "current": "809aa1e6-def9-11eb-b29f-0242ac120008-2-b49e-90a5",
       "next": "8a48d90a-98a1-11ea-8d02-0242ac120007-3-0ebc-93ac-04b4",
       "previous": "e879cdac-95bf-11ea-8d02-0242ac120007-3-4a2c-6b2f-958d"
      },
      {
       "current": "809aa1e6-def9-11eb-b29f-0242ac120008-3-b49e-90a5-711f",
       "next": "8a48d90a-98a1-11ea-8d02-0242ac120007-4-0ebc-93ac-04b4-3a60",
       "previous": "e879cdac-95bf-11ea-8d02-0242ac120007-4-4a2c-6b2f-958d-4df5"
      },
      {
       "current": "809aa1e6-def9-11eb-b29f-0242ac120008-4-b49e-90a5-711f-77bc",
       "next": "8a48d90a-98a1-11ea-8d02-0242ac120007-5-0ebc-93ac-04b4-3a60-3d9d",
       "previous": "e879cdac-95bf-11ea-8d02-0242ac120007-5-4a2c-6b2f-958d-4df5-fb62"
      },
      {
       "current": "809aa1e6-def9-11eb-b29f-0242ac120008-5-b49e-90a5-711f-77bc-bc93",
       "next": "8a48d90a-98a1-11ea-8d02-0242ac120007-6-0ebc-93ac-04b4-3a60-3d9d-8377",
       "previous": "e879cdac-95bf-11ea-8d02-0242ac120007-6-4a2c-6b2f-958d-4df5-fb62-ebaf"
      },
      {
       "current": "809aa1e6-def9-11eb-b29f-0242ac120008-6-b49e-90a5-711f-77bc-bc93-71ec",
       "next": "8a48d90a-98a1-11ea-8d02-0242ac120007-7-0ebc-93ac-04b4-3a60-3d9d-8377-3957",
       "previous": "e879cdac-95bf-11ea-8d02-0242ac120007-7-4a2c-6b2f-958d-4df5-fb62-ebaf-6390"
      }
     ],
     "next": "8a48d90a-98a1-11ea-8d02-0242ac120007-8-0ebc-93ac-04b4-3a60-3d9d-8377-3957-989d",
     "previous": "e879cdac-95bf-11ea-8d02-0242ac120007-8-4a2c-6b2f-958d-4df5-fb62-ebaf-6390-1378"
    }
   },
   "source": [
    "### 初期化対象ノードの指定"
   ]
  },
  {
   "cell_type": "code",
   "execution_count": null,
   "metadata": {
    "lc_cell_meme": {
     "current": "8a48d90a-98a1-11ea-8d02-0242ac120007-8-0ebc-93ac-04b4-3a60-3d9d-8377-3957-989d",
     "history": [
      {
       "current": "8a48d90a-98a1-11ea-8d02-0242ac120007",
       "next": "8a48dae0-98a1-11ea-8d02-0242ac120007",
       "previous": "8a48d590-98a1-11ea-8d02-0242ac120007"
      },
      {
       "current": "8a48d90a-98a1-11ea-8d02-0242ac120007-1-0ebc",
       "next": "8a48dae0-98a1-11ea-8d02-0242ac120007",
       "previous": "e879cdac-95bf-11ea-8d02-0242ac120007"
      },
      {
       "current": "8a48d90a-98a1-11ea-8d02-0242ac120007-2-0ebc-93ac",
       "next": "8a48dae0-98a1-11ea-8d02-0242ac120007-1-4da2",
       "previous": "e879cdac-95bf-11ea-8d02-0242ac120007-1-4a2c"
      },
      {
       "current": "8a48d90a-98a1-11ea-8d02-0242ac120007-2-0ebc-93ac",
       "next": "8a48dae0-98a1-11ea-8d02-0242ac120007-2-4da2-9c77",
       "previous": "e879cdac-95bf-11ea-8d02-0242ac120007-2-4a2c-6b2f"
      },
      {
       "current": "8a48d90a-98a1-11ea-8d02-0242ac120007-3-0ebc-93ac-04b4",
       "next": "8a48dae0-98a1-11ea-8d02-0242ac120007-2-4da2-9c77",
       "previous": "809aa1e6-def9-11eb-b29f-0242ac120008"
      },
      {
       "current": "8a48d90a-98a1-11ea-8d02-0242ac120007-4-0ebc-93ac-04b4-3a60",
       "next": "8a48dae0-98a1-11ea-8d02-0242ac120007-3-4da2-9c77-127e",
       "previous": "809aa1e6-def9-11eb-b29f-0242ac120008-1-b49e"
      },
      {
       "current": "8a48d90a-98a1-11ea-8d02-0242ac120007-5-0ebc-93ac-04b4-3a60-3d9d",
       "next": "8a48dae0-98a1-11ea-8d02-0242ac120007-4-4da2-9c77-127e-754d",
       "previous": "809aa1e6-def9-11eb-b29f-0242ac120008-2-b49e-90a5"
      },
      {
       "current": "8a48d90a-98a1-11ea-8d02-0242ac120007-6-0ebc-93ac-04b4-3a60-3d9d-8377",
       "next": "8a48dae0-98a1-11ea-8d02-0242ac120007-5-4da2-9c77-127e-754d-a75f",
       "previous": "809aa1e6-def9-11eb-b29f-0242ac120008-3-b49e-90a5-711f"
      },
      {
       "current": "8a48d90a-98a1-11ea-8d02-0242ac120007-7-0ebc-93ac-04b4-3a60-3d9d-8377-3957",
       "next": "8a48dae0-98a1-11ea-8d02-0242ac120007-6-4da2-9c77-127e-754d-a75f-b77d",
       "previous": "809aa1e6-def9-11eb-b29f-0242ac120008-4-b49e-90a5-711f-77bc"
      },
      {
       "current": "8a48d90a-98a1-11ea-8d02-0242ac120007-8-0ebc-93ac-04b4-3a60-3d9d-8377-3957-989d",
       "next": "8a48dae0-98a1-11ea-8d02-0242ac120007-7-4da2-9c77-127e-754d-a75f-b77d-7b9e",
       "previous": "809aa1e6-def9-11eb-b29f-0242ac120008-5-b49e-90a5-711f-77bc-bc93"
      }
     ],
     "next": "8a48dae0-98a1-11ea-8d02-0242ac120007-8-4da2-9c77-127e-754d-a75f-b77d-7b9e-8939",
     "previous": "809aa1e6-def9-11eb-b29f-0242ac120008-6-b49e-90a5-711f-77bc-bc93-71ec"
    }
   },
   "outputs": [],
   "source": [
    "instance_name = 'ceph-xxx-node-001'"
   ]
  },
  {
   "cell_type": "code",
   "execution_count": null,
   "metadata": {
    "lc_cell_meme": {
     "current": "8a48dae0-98a1-11ea-8d02-0242ac120007-8-4da2-9c77-127e-754d-a75f-b77d-7b9e-8939",
     "history": [
      {
       "current": "8a48dae0-98a1-11ea-8d02-0242ac120007-1-4da2",
       "next": "35c339aa-55a3-11e7-b0b2-00163e9c0e35",
       "previous": "8a48d90a-98a1-11ea-8d02-0242ac120007"
      },
      {
       "current": "8a48dae0-98a1-11ea-8d02-0242ac120007-2-4da2-9c77",
       "next": "35c339aa-55a3-11e7-b0b2-00163e9c0e35-1-eee2",
       "previous": "8a48d90a-98a1-11ea-8d02-0242ac120007-1-0ebc"
      },
      {
       "current": "8a48dae0-98a1-11ea-8d02-0242ac120007-2-4da2-9c77",
       "next": "35c339aa-55a3-11e7-b0b2-00163e9c0e35-2-eee2-af6c",
       "previous": "8a48d90a-98a1-11ea-8d02-0242ac120007-2-0ebc-93ac"
      },
      {
       "current": "8a48dae0-98a1-11ea-8d02-0242ac120007-2-4da2-9c77",
       "next": "35c362a4-55a3-11e7-b0b2-00163e9c0e35-2-3f0a-3633",
       "previous": "8a48d90a-98a1-11ea-8d02-0242ac120007-2-0ebc-93ac"
      },
      {
       "current": "8a48dae0-98a1-11ea-8d02-0242ac120007-2-4da2-9c77",
       "next": "1afe7a3e-def8-11eb-b29f-0242ac120008",
       "previous": "8a48d90a-98a1-11ea-8d02-0242ac120007-2-0ebc-93ac"
      },
      {
       "current": "8a48dae0-98a1-11ea-8d02-0242ac120007-3-4da2-9c77-127e",
       "next": "35c35a52-55a3-11e7-b0b2-00163e9c0e35-2-ed71-9007",
       "previous": "8a48d90a-98a1-11ea-8d02-0242ac120007-2-0ebc-93ac"
      },
      {
       "current": "8a48dae0-98a1-11ea-8d02-0242ac120007-4-4da2-9c77-127e-754d",
       "next": "35c35a52-55a3-11e7-b0b2-00163e9c0e35-3-ed71-9007-f930",
       "previous": "8a48d90a-98a1-11ea-8d02-0242ac120007-3-0ebc-93ac-04b4"
      },
      {
       "current": "8a48dae0-98a1-11ea-8d02-0242ac120007-5-4da2-9c77-127e-754d-a75f",
       "next": "35c35a52-55a3-11e7-b0b2-00163e9c0e35-4-ed71-9007-f930-f23a",
       "previous": "8a48d90a-98a1-11ea-8d02-0242ac120007-4-0ebc-93ac-04b4-3a60"
      },
      {
       "current": "8a48dae0-98a1-11ea-8d02-0242ac120007-6-4da2-9c77-127e-754d-a75f-b77d",
       "next": "35c35a52-55a3-11e7-b0b2-00163e9c0e35-5-ed71-9007-f930-f23a-e6a3",
       "previous": "8a48d90a-98a1-11ea-8d02-0242ac120007-5-0ebc-93ac-04b4-3a60-3d9d"
      },
      {
       "current": "8a48dae0-98a1-11ea-8d02-0242ac120007-7-4da2-9c77-127e-754d-a75f-b77d-7b9e",
       "next": "35c35a52-55a3-11e7-b0b2-00163e9c0e35-6-ed71-9007-f930-f23a-e6a3-f543",
       "previous": "8a48d90a-98a1-11ea-8d02-0242ac120007-6-0ebc-93ac-04b4-3a60-3d9d-8377"
      },
      {
       "current": "8a48dae0-98a1-11ea-8d02-0242ac120007-8-4da2-9c77-127e-754d-a75f-b77d-7b9e-8939",
       "next": "35c35a52-55a3-11e7-b0b2-00163e9c0e35-7-ed71-9007-f930-f23a-e6a3-f543-6451",
       "previous": "8a48d90a-98a1-11ea-8d02-0242ac120007-7-0ebc-93ac-04b4-3a60-3d9d-8377-3957"
      }
     ],
     "next": "35c35a52-55a3-11e7-b0b2-00163e9c0e35-8-ed71-9007-f930-f23a-e6a3-f543-6451-562e",
     "previous": "8a48d90a-98a1-11ea-8d02-0242ac120007-8-0ebc-93ac-04b4-3a60-3d9d-8377-3957-989d"
    }
   },
   "outputs": [],
   "source": [
    "target = None\n",
    "for elem in node_list:\n",
    "    if elem['name'] == instance_name:\n",
    "        target = elem\n",
    "        break\n",
    "\n",
    "assert (target is not None), \"指定されたターゲットノードが存在しません。\"\n",
    "print (target)"
   ]
  },
  {
   "cell_type": "markdown",
   "metadata": {
    "lc_cell_meme": {
     "current": "35c35a52-55a3-11e7-b0b2-00163e9c0e35-8-ed71-9007-f930-f23a-e6a3-f543-6451-562e",
     "history": [
      {
       "current": "35c35a52-55a3-11e7-b0b2-00163e9c0e35",
       "next": "35c35bf6-55a3-11e7-b0b2-00163e9c0e35",
       "previous": "35c358ae-55a3-11e7-b0b2-00163e9c0e35"
      },
      {
       "current": "35c35a52-55a3-11e7-b0b2-00163e9c0e35",
       "next": "35c35bf6-55a3-11e7-b0b2-00163e9c0e35",
       "previous": "690aae12-2871-11ea-b5b0-0242ac120004"
      },
      {
       "current": "35c35a52-55a3-11e7-b0b2-00163e9c0e35",
       "next": "35c35bf6-55a3-11e7-b0b2-00163e9c0e35",
       "previous": "1f202142-40d1-11ea-ab19-0242ac120004"
      },
      {
       "current": "35c35a52-55a3-11e7-b0b2-00163e9c0e35",
       "next": "35c35bf6-55a3-11e7-b0b2-00163e9c0e35",
       "previous": "690aae12-2871-11ea-b5b0-0242ac120004"
      },
      {
       "current": "35c35a52-55a3-11e7-b0b2-00163e9c0e35",
       "next": "35c35bf6-55a3-11e7-b0b2-00163e9c0e35",
       "previous": "35c358ae-55a3-11e7-b0b2-00163e9c0e35"
      },
      {
       "current": "35c35a52-55a3-11e7-b0b2-00163e9c0e35",
       "next": "35c35bf6-55a3-11e7-b0b2-00163e9c0e35",
       "previous": "29c91c64-2850-11ea-b5b0-0242ac120004"
      },
      {
       "current": "35c35a52-55a3-11e7-b0b2-00163e9c0e35",
       "next": "35c35bf6-55a3-11e7-b0b2-00163e9c0e35",
       "previous": "35c35552-55a3-11e7-b0b2-00163e9c0e35"
      },
      {
       "current": "35c35a52-55a3-11e7-b0b2-00163e9c0e35",
       "next": "35c35bf6-55a3-11e7-b0b2-00163e9c0e35",
       "previous": "81dd5320-9597-11ea-8d02-0242ac120007"
      },
      {
       "current": "35c35a52-55a3-11e7-b0b2-00163e9c0e35-1-ed71",
       "next": "35c35bf6-55a3-11e7-b0b2-00163e9c0e35",
       "previous": "46b9463a-95bc-11ea-8d02-0242ac120007"
      },
      {
       "current": "35c35a52-55a3-11e7-b0b2-00163e9c0e35-1-ed71",
       "next": "35c35bf6-55a3-11e7-b0b2-00163e9c0e35-1-4f76",
       "previous": "46b9463a-95bc-11ea-8d02-0242ac120007-1-777e"
      },
      {
       "current": "35c35a52-55a3-11e7-b0b2-00163e9c0e35-2-ed71-9007",
       "next": "35c35bf6-55a3-11e7-b0b2-00163e9c0e35-1-4f76",
       "previous": "e3624638-98a7-11ea-8d02-0242ac120007-1-0249"
      },
      {
       "current": "35c35a52-55a3-11e7-b0b2-00163e9c0e35-2-ed71-9007",
       "next": "35c35bf6-55a3-11e7-b0b2-00163e9c0e35-2-4f76-7f4b",
       "previous": "e3624638-98a7-11ea-8d02-0242ac120007-2-0249-59e8"
      },
      {
       "current": "35c35a52-55a3-11e7-b0b2-00163e9c0e35-2-ed71-9007",
       "next": "35c35bf6-55a3-11e7-b0b2-00163e9c0e35-2-4f76-7f4b",
       "previous": "445f39dc-def7-11eb-b29f-0242ac120008"
      },
      {
       "current": "35c35a52-55a3-11e7-b0b2-00163e9c0e35-2-ed71-9007",
       "next": "35c35bf6-55a3-11e7-b0b2-00163e9c0e35-2-4f76-7f4b",
       "previous": "445f36bc-def7-11eb-b29f-0242ac120008"
      },
      {
       "current": "35c35a52-55a3-11e7-b0b2-00163e9c0e35-2-ed71-9007",
       "next": "35c35bf6-55a3-11e7-b0b2-00163e9c0e35-2-4f76-7f4b",
       "previous": "1afe7e1c-def8-11eb-b29f-0242ac120008"
      },
      {
       "current": "35c35a52-55a3-11e7-b0b2-00163e9c0e35-3-ed71-9007-f930",
       "next": "35c35bf6-55a3-11e7-b0b2-00163e9c0e35-2-4f76-7f4b",
       "previous": "8a48dae0-98a1-11ea-8d02-0242ac120007-2-4da2-9c77"
      },
      {
       "current": "35c35a52-55a3-11e7-b0b2-00163e9c0e35-4-ed71-9007-f930-f23a",
       "next": "35c35bf6-55a3-11e7-b0b2-00163e9c0e35-3-4f76-7f4b-c54b",
       "previous": "8a48dae0-98a1-11ea-8d02-0242ac120007-3-4da2-9c77-127e"
      },
      {
       "current": "35c35a52-55a3-11e7-b0b2-00163e9c0e35-5-ed71-9007-f930-f23a-e6a3",
       "next": "35c35bf6-55a3-11e7-b0b2-00163e9c0e35-4-4f76-7f4b-c54b-028a",
       "previous": "8a48dae0-98a1-11ea-8d02-0242ac120007-4-4da2-9c77-127e-754d"
      },
      {
       "current": "35c35a52-55a3-11e7-b0b2-00163e9c0e35-6-ed71-9007-f930-f23a-e6a3-f543",
       "next": "35c35bf6-55a3-11e7-b0b2-00163e9c0e35-5-4f76-7f4b-c54b-028a-c1f9",
       "previous": "8a48dae0-98a1-11ea-8d02-0242ac120007-5-4da2-9c77-127e-754d-a75f"
      },
      {
       "current": "35c35a52-55a3-11e7-b0b2-00163e9c0e35-6-ed71-9007-f930-f23a-e6a3-f543",
       "next": "35c35bf6-55a3-11e7-b0b2-00163e9c0e35-6-4f76-7f4b-c54b-028a-c1f9-cb9f",
       "previous": "8a48dae0-98a1-11ea-8d02-0242ac120007-6-4da2-9c77-127e-754d-a75f-b77d"
      },
      {
       "current": "35c35a52-55a3-11e7-b0b2-00163e9c0e35-7-ed71-9007-f930-f23a-e6a3-f543-6451",
       "next": "35c35f52-55a3-11e7-b0b2-00163e9c0e35-6-e2de-8a27-98e3-38f7-2845-5ffe",
       "previous": "8a48dae0-98a1-11ea-8d02-0242ac120007-6-4da2-9c77-127e-754d-a75f-b77d"
      },
      {
       "current": "35c35a52-55a3-11e7-b0b2-00163e9c0e35-8-ed71-9007-f930-f23a-e6a3-f543-6451-562e",
       "next": "35c35f52-55a3-11e7-b0b2-00163e9c0e35-7-e2de-8a27-98e3-38f7-2845-5ffe-6e3a",
       "previous": "8a48dae0-98a1-11ea-8d02-0242ac120007-7-4da2-9c77-127e-754d-a75f-b77d-7b9e"
      }
     ],
     "next": "35c35f52-55a3-11e7-b0b2-00163e9c0e35-8-e2de-8a27-98e3-38f7-2845-5ffe-6e3a-cc3d",
     "previous": "8a48dae0-98a1-11ea-8d02-0242ac120007-8-4da2-9c77-127e-754d-a75f-b77d-7b9e-8939"
    }
   },
   "source": [
    "## 一時Inventoryファイルの生成\n",
    "以下を実行し、作業用ディレクトリ配下に一時Inventoryファイルを生成する。"
   ]
  },
  {
   "cell_type": "markdown",
   "metadata": {
    "lc_cell_meme": {
     "current": "35c35f52-55a3-11e7-b0b2-00163e9c0e35-8-e2de-8a27-98e3-38f7-2845-5ffe-6e3a-cc3d",
     "history": [
      {
       "current": "35c35f52-55a3-11e7-b0b2-00163e9c0e35",
       "next": "35c360f6-55a3-11e7-b0b2-00163e9c0e35",
       "previous": "35c35dae-55a3-11e7-b0b2-00163e9c0e35"
      },
      {
       "current": "35c35f52-55a3-11e7-b0b2-00163e9c0e35-1-e2de",
       "next": "a33430b0-9327-11ea-8d02-0242ac120007",
       "previous": "35c35dae-55a3-11e7-b0b2-00163e9c0e35"
      },
      {
       "current": "35c35f52-55a3-11e7-b0b2-00163e9c0e35-2-e2de-8a27",
       "next": "a33430b0-9327-11ea-8d02-0242ac120007-1-3202",
       "previous": "35c35dae-55a3-11e7-b0b2-00163e9c0e35-1-7091"
      },
      {
       "current": "35c35f52-55a3-11e7-b0b2-00163e9c0e35-3-e2de-8a27-98e3",
       "next": "a33430b0-9327-11ea-8d02-0242ac120007-2-3202-0bdc",
       "previous": "35c35dae-55a3-11e7-b0b2-00163e9c0e35-2-7091-7055"
      },
      {
       "current": "35c35f52-55a3-11e7-b0b2-00163e9c0e35-4-e2de-8a27-98e3-38f7",
       "next": "a33430b0-9327-11ea-8d02-0242ac120007-3-3202-0bdc-fd62",
       "previous": "35c35dae-55a3-11e7-b0b2-00163e9c0e35-3-7091-7055-1fd7"
      },
      {
       "current": "35c35f52-55a3-11e7-b0b2-00163e9c0e35-5-e2de-8a27-98e3-38f7-2845",
       "next": "a33430b0-9327-11ea-8d02-0242ac120007-4-3202-0bdc-fd62-36f4",
       "previous": "35c35dae-55a3-11e7-b0b2-00163e9c0e35-4-7091-7055-1fd7-7325"
      },
      {
       "current": "35c35f52-55a3-11e7-b0b2-00163e9c0e35-6-e2de-8a27-98e3-38f7-2845-5ffe",
       "next": "a33430b0-9327-11ea-8d02-0242ac120007-5-3202-0bdc-fd62-36f4-0d0e",
       "previous": "35c35dae-55a3-11e7-b0b2-00163e9c0e35-5-7091-7055-1fd7-7325-6304"
      },
      {
       "current": "35c35f52-55a3-11e7-b0b2-00163e9c0e35-6-e2de-8a27-98e3-38f7-2845-5ffe",
       "next": "a33430b0-9327-11ea-8d02-0242ac120007-6-3202-0bdc-fd62-36f4-0d0e-48dd",
       "previous": "35c35dae-55a3-11e7-b0b2-00163e9c0e35-6-7091-7055-1fd7-7325-6304-1312"
      },
      {
       "current": "35c35f52-55a3-11e7-b0b2-00163e9c0e35-7-e2de-8a27-98e3-38f7-2845-5ffe-6e3a",
       "next": "a33430b0-9327-11ea-8d02-0242ac120007-6-3202-0bdc-fd62-36f4-0d0e-48dd",
       "previous": "35c35a52-55a3-11e7-b0b2-00163e9c0e35-6-ed71-9007-f930-f23a-e6a3-f543"
      },
      {
       "current": "35c35f52-55a3-11e7-b0b2-00163e9c0e35-8-e2de-8a27-98e3-38f7-2845-5ffe-6e3a-cc3d",
       "next": "a33430b0-9327-11ea-8d02-0242ac120007-7-3202-0bdc-fd62-36f4-0d0e-48dd-87f8",
       "previous": "35c35a52-55a3-11e7-b0b2-00163e9c0e35-7-ed71-9007-f930-f23a-e6a3-f543-6451"
      }
     ],
     "next": "a33430b0-9327-11ea-8d02-0242ac120007-8-3202-0bdc-fd62-36f4-0d0e-48dd-87f8-24b0",
     "previous": "35c35a52-55a3-11e7-b0b2-00163e9c0e35-8-ed71-9007-f930-f23a-e6a3-f543-6451-562e"
    }
   },
   "source": [
    "Inventoryファイルを生成する。"
   ]
  },
  {
   "cell_type": "code",
   "execution_count": null,
   "metadata": {
    "lc_cell_meme": {
     "current": "a33430b0-9327-11ea-8d02-0242ac120007-8-3202-0bdc-fd62-36f4-0d0e-48dd-87f8-24b0",
     "history": [
      {
       "current": "a33430b0-9327-11ea-8d02-0242ac120007",
       "next": "35c360f6-55a3-11e7-b0b2-00163e9c0e35",
       "previous": "35c35f52-55a3-11e7-b0b2-00163e9c0e35"
      },
      {
       "current": "a33430b0-9327-11ea-8d02-0242ac120007-1-3202",
       "next": "9c0b8624-959f-11ea-8d02-0242ac120007",
       "previous": "35c35f52-55a3-11e7-b0b2-00163e9c0e35"
      },
      {
       "current": "a33430b0-9327-11ea-8d02-0242ac120007-2-3202-0bdc",
       "next": "9c0b8624-959f-11ea-8d02-0242ac120007-1-8098",
       "previous": "35c35f52-55a3-11e7-b0b2-00163e9c0e35-1-e2de"
      },
      {
       "current": "a33430b0-9327-11ea-8d02-0242ac120007-2-3202-0bdc",
       "next": "9c0b8624-959f-11ea-8d02-0242ac120007-2-8098-a371",
       "previous": "35c35f52-55a3-11e7-b0b2-00163e9c0e35-2-e2de-8a27"
      },
      {
       "current": "a33430b0-9327-11ea-8d02-0242ac120007-3-3202-0bdc-fd62",
       "next": "27f1be96-f4f0-11eb-b29f-0242ac120008",
       "previous": "35c35f52-55a3-11e7-b0b2-00163e9c0e35-2-e2de-8a27"
      },
      {
       "current": "a33430b0-9327-11ea-8d02-0242ac120007-4-3202-0bdc-fd62-36f4",
       "next": "27f1be96-f4f0-11eb-b29f-0242ac120008-1-0b6c",
       "previous": "35c35f52-55a3-11e7-b0b2-00163e9c0e35-3-e2de-8a27-98e3"
      },
      {
       "current": "a33430b0-9327-11ea-8d02-0242ac120007-5-3202-0bdc-fd62-36f4-0d0e",
       "next": "27f1be96-f4f0-11eb-b29f-0242ac120008-2-0b6c-f4e5",
       "previous": "35c35f52-55a3-11e7-b0b2-00163e9c0e35-4-e2de-8a27-98e3-38f7"
      },
      {
       "current": "a33430b0-9327-11ea-8d02-0242ac120007-6-3202-0bdc-fd62-36f4-0d0e-48dd",
       "next": "27f1be96-f4f0-11eb-b29f-0242ac120008-3-0b6c-f4e5-31c2",
       "previous": "35c35f52-55a3-11e7-b0b2-00163e9c0e35-5-e2de-8a27-98e3-38f7-2845"
      },
      {
       "current": "a33430b0-9327-11ea-8d02-0242ac120007-7-3202-0bdc-fd62-36f4-0d0e-48dd-87f8",
       "next": "27f1be96-f4f0-11eb-b29f-0242ac120008-4-0b6c-f4e5-31c2-3227",
       "previous": "35c35f52-55a3-11e7-b0b2-00163e9c0e35-6-e2de-8a27-98e3-38f7-2845-5ffe"
      },
      {
       "current": "a33430b0-9327-11ea-8d02-0242ac120007-8-3202-0bdc-fd62-36f4-0d0e-48dd-87f8-24b0",
       "next": "27f1be96-f4f0-11eb-b29f-0242ac120008-5-0b6c-f4e5-31c2-3227-95b9",
       "previous": "35c35f52-55a3-11e7-b0b2-00163e9c0e35-7-e2de-8a27-98e3-38f7-2845-5ffe-6e3a"
      }
     ],
     "next": "27f1be96-f4f0-11eb-b29f-0242ac120008-6-0b6c-f4e5-31c2-3227-95b9-9df8",
     "previous": "35c35f52-55a3-11e7-b0b2-00163e9c0e35-8-e2de-8a27-98e3-38f7-2845-5ffe-6e3a-cc3d"
    }
   },
   "outputs": [],
   "source": [
    "node_user='xxxxx'\n",
    "proxy_user='xxxxx'\n",
    "proxy_key='~/.ssh/id_ras'"
   ]
  },
  {
   "cell_type": "code",
   "execution_count": null,
   "metadata": {
    "lc_cell_meme": {
     "current": "27f1be96-f4f0-11eb-b29f-0242ac120008-6-0b6c-f4e5-31c2-3227-95b9-9df8",
     "history": [
      {
       "current": "27f1be96-f4f0-11eb-b29f-0242ac120008-1-0b6c",
       "next": "9c0b8624-959f-11ea-8d02-0242ac120007-2-8098-a371",
       "previous": "a33430b0-9327-11ea-8d02-0242ac120007-2-3202-0bdc"
      },
      {
       "current": "27f1be96-f4f0-11eb-b29f-0242ac120008-2-0b6c-f4e5",
       "next": "9c0b8624-959f-11ea-8d02-0242ac120007-3-8098-a371-0b4a",
       "previous": "a33430b0-9327-11ea-8d02-0242ac120007-3-3202-0bdc-fd62"
      },
      {
       "current": "27f1be96-f4f0-11eb-b29f-0242ac120008-3-0b6c-f4e5-31c2",
       "next": "9c0b8624-959f-11ea-8d02-0242ac120007-4-8098-a371-0b4a-1ad4",
       "previous": "a33430b0-9327-11ea-8d02-0242ac120007-4-3202-0bdc-fd62-36f4"
      },
      {
       "current": "27f1be96-f4f0-11eb-b29f-0242ac120008-4-0b6c-f4e5-31c2-3227",
       "next": "9c0b8624-959f-11ea-8d02-0242ac120007-5-8098-a371-0b4a-1ad4-85ef",
       "previous": "a33430b0-9327-11ea-8d02-0242ac120007-5-3202-0bdc-fd62-36f4-0d0e"
      },
      {
       "current": "27f1be96-f4f0-11eb-b29f-0242ac120008-5-0b6c-f4e5-31c2-3227-95b9",
       "next": "9c0b8624-959f-11ea-8d02-0242ac120007-6-8098-a371-0b4a-1ad4-85ef-7962",
       "previous": "a33430b0-9327-11ea-8d02-0242ac120007-6-3202-0bdc-fd62-36f4-0d0e-48dd"
      },
      {
       "current": "27f1be96-f4f0-11eb-b29f-0242ac120008-6-0b6c-f4e5-31c2-3227-95b9-9df8",
       "next": "9c0b8624-959f-11ea-8d02-0242ac120007-7-8098-a371-0b4a-1ad4-85ef-7962-58ea",
       "previous": "a33430b0-9327-11ea-8d02-0242ac120007-7-3202-0bdc-fd62-36f4-0d0e-48dd-87f8"
      }
     ],
     "next": "9c0b8624-959f-11ea-8d02-0242ac120007-8-8098-a371-0b4a-1ad4-85ef-7962-58ea-ad70",
     "previous": "a33430b0-9327-11ea-8d02-0242ac120007-8-3202-0bdc-fd62-36f4-0d0e-48dd-87f8-24b0"
    }
   },
   "outputs": [],
   "source": [
    "ceph_node = target[\"prov_ip\"]\n",
    "ceph_node_strage_ip = target.get(\"instance_ip\",None)\n",
    "strage_prefix = \"16\"\n",
    "\n",
    "print (\"ceph_node={} ceph_node_strage_ip={}\".format(ceph_node, ceph_node_strage_ip))"
   ]
  },
  {
   "cell_type": "markdown",
   "metadata": {
    "lc_cell_meme": {
     "current": "9c0b8624-959f-11ea-8d02-0242ac120007-8-8098-a371-0b4a-1ad4-85ef-7962-58ea-ad70",
     "history": [
      {
       "current": "9c0b8624-959f-11ea-8d02-0242ac120007-1-8098",
       "next": "9c0b88cc-959f-11ea-8d02-0242ac120007",
       "previous": "a33430b0-9327-11ea-8d02-0242ac120007"
      },
      {
       "current": "9c0b8624-959f-11ea-8d02-0242ac120007-2-8098-a371",
       "next": "9c0b88cc-959f-11ea-8d02-0242ac120007-1-b077",
       "previous": "a33430b0-9327-11ea-8d02-0242ac120007-1-3202"
      },
      {
       "current": "9c0b8624-959f-11ea-8d02-0242ac120007-2-8098-a371",
       "next": "9c0b88cc-959f-11ea-8d02-0242ac120007-2-b077-046d",
       "previous": "a33430b0-9327-11ea-8d02-0242ac120007-2-3202-0bdc"
      },
      {
       "current": "9c0b8624-959f-11ea-8d02-0242ac120007-2-8098-a371",
       "next": "9c0b88cc-959f-11ea-8d02-0242ac120007-2-b077-046d",
       "previous": "27f1be96-f4f0-11eb-b29f-0242ac120008"
      },
      {
       "current": "9c0b8624-959f-11ea-8d02-0242ac120007-3-8098-a371-0b4a",
       "next": "35c360f6-55a3-11e7-b0b2-00163e9c0e35-2-4a79-f9ba",
       "previous": "27f1be96-f4f0-11eb-b29f-0242ac120008"
      },
      {
       "current": "9c0b8624-959f-11ea-8d02-0242ac120007-4-8098-a371-0b4a-1ad4",
       "next": "35c360f6-55a3-11e7-b0b2-00163e9c0e35-3-4a79-f9ba-754f",
       "previous": "27f1be96-f4f0-11eb-b29f-0242ac120008-1-0b6c"
      },
      {
       "current": "9c0b8624-959f-11ea-8d02-0242ac120007-5-8098-a371-0b4a-1ad4-85ef",
       "next": "35c360f6-55a3-11e7-b0b2-00163e9c0e35-4-4a79-f9ba-754f-636d",
       "previous": "27f1be96-f4f0-11eb-b29f-0242ac120008-2-0b6c-f4e5"
      },
      {
       "current": "9c0b8624-959f-11ea-8d02-0242ac120007-6-8098-a371-0b4a-1ad4-85ef-7962",
       "next": "35c360f6-55a3-11e7-b0b2-00163e9c0e35-5-4a79-f9ba-754f-636d-ce78",
       "previous": "27f1be96-f4f0-11eb-b29f-0242ac120008-3-0b6c-f4e5-31c2"
      },
      {
       "current": "9c0b8624-959f-11ea-8d02-0242ac120007-7-8098-a371-0b4a-1ad4-85ef-7962-58ea",
       "next": "35c360f6-55a3-11e7-b0b2-00163e9c0e35-6-4a79-f9ba-754f-636d-ce78-1deb",
       "previous": "27f1be96-f4f0-11eb-b29f-0242ac120008-4-0b6c-f4e5-31c2-3227"
      },
      {
       "current": "9c0b8624-959f-11ea-8d02-0242ac120007-8-8098-a371-0b4a-1ad4-85ef-7962-58ea-ad70",
       "next": "35c360f6-55a3-11e7-b0b2-00163e9c0e35-7-4a79-f9ba-754f-636d-ce78-1deb-d6db",
       "previous": "27f1be96-f4f0-11eb-b29f-0242ac120008-5-0b6c-f4e5-31c2-3227-95b9"
      }
     ],
     "next": "35c360f6-55a3-11e7-b0b2-00163e9c0e35-8-4a79-f9ba-754f-636d-ce78-1deb-d6db-5c24",
     "previous": "27f1be96-f4f0-11eb-b29f-0242ac120008-6-0b6c-f4e5-31c2-3227-95b9-9df8"
    }
   },
   "source": [
    "sudoでパスワードが必要な場合は、パスワード入力を設定してansible.cfgに設定すること。"
   ]
  },
  {
   "cell_type": "code",
   "execution_count": null,
   "metadata": {
    "ExecuteTime": {
     "end_time": "2017-06-29T08:50:39.909299Z",
     "start_time": "2017-06-29T08:50:39.762658Z"
    },
    "lc_cell_meme": {
     "current": "35c360f6-55a3-11e7-b0b2-00163e9c0e35-8-4a79-f9ba-754f-636d-ce78-1deb-d6db-5c24",
     "history": [
      {
       "current": "35c360f6-55a3-11e7-b0b2-00163e9c0e35",
       "next": "35c362a4-55a3-11e7-b0b2-00163e9c0e35",
       "previous": "35c35f52-55a3-11e7-b0b2-00163e9c0e35"
      },
      {
       "current": "35c360f6-55a3-11e7-b0b2-00163e9c0e35",
       "next": "35c362a4-55a3-11e7-b0b2-00163e9c0e35",
       "previous": "a33430b0-9327-11ea-8d02-0242ac120007"
      },
      {
       "current": "35c360f6-55a3-11e7-b0b2-00163e9c0e35-1-4a79",
       "next": "35c362a4-55a3-11e7-b0b2-00163e9c0e35",
       "previous": "9c0b88cc-959f-11ea-8d02-0242ac120007"
      },
      {
       "current": "35c360f6-55a3-11e7-b0b2-00163e9c0e35-2-4a79-f9ba",
       "next": "35c362a4-55a3-11e7-b0b2-00163e9c0e35-1-3f0a",
       "previous": "9c0b88cc-959f-11ea-8d02-0242ac120007-1-b077"
      },
      {
       "current": "35c360f6-55a3-11e7-b0b2-00163e9c0e35-2-4a79-f9ba",
       "next": "35c362a4-55a3-11e7-b0b2-00163e9c0e35-2-3f0a-3633",
       "previous": "9c0b88cc-959f-11ea-8d02-0242ac120007-2-b077-046d"
      },
      {
       "current": "35c360f6-55a3-11e7-b0b2-00163e9c0e35-2-4a79-f9ba",
       "next": "7dae8996-9686-11ea-8d02-0242ac120007-2-20c5-a0b0",
       "previous": "9c0b88cc-959f-11ea-8d02-0242ac120007-2-b077-046d"
      },
      {
       "current": "35c360f6-55a3-11e7-b0b2-00163e9c0e35-2-4a79-f9ba",
       "next": "35c362a4-55a3-11e7-b0b2-00163e9c0e35-2-89a7-98f2",
       "previous": "9c0b88cc-959f-11ea-8d02-0242ac120007-2-b077-046d"
      },
      {
       "current": "35c360f6-55a3-11e7-b0b2-00163e9c0e35-3-4a79-f9ba-754f",
       "next": "35c362a4-55a3-11e7-b0b2-00163e9c0e35-2-89a7-98f2",
       "previous": "9c0b8624-959f-11ea-8d02-0242ac120007-2-8098-a371"
      },
      {
       "current": "35c360f6-55a3-11e7-b0b2-00163e9c0e35-4-4a79-f9ba-754f-636d",
       "next": "35c362a4-55a3-11e7-b0b2-00163e9c0e35-3-89a7-98f2-5cf2",
       "previous": "9c0b8624-959f-11ea-8d02-0242ac120007-3-8098-a371-0b4a"
      },
      {
       "current": "35c360f6-55a3-11e7-b0b2-00163e9c0e35-5-4a79-f9ba-754f-636d-ce78",
       "next": "35c362a4-55a3-11e7-b0b2-00163e9c0e35-4-89a7-98f2-5cf2-926b",
       "previous": "9c0b8624-959f-11ea-8d02-0242ac120007-4-8098-a371-0b4a-1ad4"
      },
      {
       "current": "35c360f6-55a3-11e7-b0b2-00163e9c0e35-6-4a79-f9ba-754f-636d-ce78-1deb",
       "next": "35c362a4-55a3-11e7-b0b2-00163e9c0e35-5-89a7-98f2-5cf2-926b-cd78",
       "previous": "9c0b8624-959f-11ea-8d02-0242ac120007-5-8098-a371-0b4a-1ad4-85ef"
      },
      {
       "current": "35c360f6-55a3-11e7-b0b2-00163e9c0e35-7-4a79-f9ba-754f-636d-ce78-1deb-d6db",
       "next": "35c362a4-55a3-11e7-b0b2-00163e9c0e35-6-89a7-98f2-5cf2-926b-cd78-3941",
       "previous": "9c0b8624-959f-11ea-8d02-0242ac120007-6-8098-a371-0b4a-1ad4-85ef-7962"
      },
      {
       "current": "35c360f6-55a3-11e7-b0b2-00163e9c0e35-8-4a79-f9ba-754f-636d-ce78-1deb-d6db-5c24",
       "next": "35c362a4-55a3-11e7-b0b2-00163e9c0e35-7-89a7-98f2-5cf2-926b-cd78-3941-ecb0",
       "previous": "9c0b8624-959f-11ea-8d02-0242ac120007-7-8098-a371-0b4a-1ad4-85ef-7962-58ea"
      }
     ],
     "next": "35c362a4-55a3-11e7-b0b2-00163e9c0e35-8-89a7-98f2-5cf2-926b-cd78-3941-ecb0-5878",
     "previous": "9c0b8624-959f-11ea-8d02-0242ac120007-8-8098-a371-0b4a-1ad4-85ef-7962-58ea-ad70"
    },
    "run_control": {
     "frozen": true
    },
    "scrolled": false
   },
   "outputs": [],
   "source": [
    "import os\n",
    "\n",
    "with open( os.path.join(temp_dir, \"hosts\"), 'w') as f:\n",
    "    f.write('''[openstack_ctl]\n",
    "{openstack_cmn}\n",
    "'''.format(openstack_cmn = provisioning_vip))\n",
    "    f.write('''[ceph_admin]\n",
    "{ceph_admin_ip}   ansible_user={proxy_user} ansible_ssh_private_key_file={proxy_key}  ansible_python_interpreter=/usr/bin/python3\n",
    "[ceph_node]\n",
    "{node_ip}  ansible_user={node_user} ansible_ssh_common_args='-o ControlMaster=auto -o StrictHostKeyChecking=no -o ControlPersist=30m -o ProxyCommand=\"ssh -W %h:%p -i {proxy_key} -q {proxy_user}@{ceph_admin_ip}\"'  ansible_python_interpreter=/usr/bin/python3\n",
    "[repo_server]\n",
    "{repo_server}\n",
    "'''.format(ceph_admin_ip=ceph_admin_ip, node_ip=ceph_node, repo_server=repo_server,\n",
    "           node_user=node_user, proxy_user=proxy_user, proxy_key=proxy_key))\n",
    "\n",
    "hosts = temp_dir + \"/hosts\"\n",
    "\n",
    "!cat $hosts"
   ]
  },
  {
   "cell_type": "markdown",
   "metadata": {
    "lc_cell_meme": {
     "current": "35c362a4-55a3-11e7-b0b2-00163e9c0e35-8-89a7-98f2-5cf2-926b-cd78-3941-ecb0-5878",
     "history": [
      {
       "current": "35c362a4-55a3-11e7-b0b2-00163e9c0e35",
       "next": "35c36448-55a3-11e7-b0b2-00163e9c0e35",
       "previous": "35c360f6-55a3-11e7-b0b2-00163e9c0e35"
      },
      {
       "current": "35c362a4-55a3-11e7-b0b2-00163e9c0e35",
       "next": "35c36448-55a3-11e7-b0b2-00163e9c0e35",
       "previous": "4cd5b0cc-7ef5-11ea-a926-0242ac120004"
      },
      {
       "current": "35c362a4-55a3-11e7-b0b2-00163e9c0e35",
       "next": "35c36448-55a3-11e7-b0b2-00163e9c0e35",
       "previous": "db546a28-7ef5-11ea-a926-0242ac120004"
      },
      {
       "current": "35c362a4-55a3-11e7-b0b2-00163e9c0e35",
       "next": "35c36448-55a3-11e7-b0b2-00163e9c0e35",
       "previous": "4cd5af28-7ef5-11ea-a926-0242ac120004"
      },
      {
       "current": "35c362a4-55a3-11e7-b0b2-00163e9c0e35",
       "next": "35c36448-55a3-11e7-b0b2-00163e9c0e35",
       "previous": "7d464504-9107-11ea-8d02-0242ac120007"
      },
      {
       "current": "35c362a4-55a3-11e7-b0b2-00163e9c0e35",
       "next": "35c36448-55a3-11e7-b0b2-00163e9c0e35",
       "previous": "bd797188-910b-11ea-8d02-0242ac120007"
      },
      {
       "current": "35c362a4-55a3-11e7-b0b2-00163e9c0e35",
       "next": "35c36448-55a3-11e7-b0b2-00163e9c0e35",
       "previous": "70b95056-9111-11ea-8d02-0242ac120007"
      },
      {
       "current": "35c362a4-55a3-11e7-b0b2-00163e9c0e35",
       "next": "35c36448-55a3-11e7-b0b2-00163e9c0e35",
       "previous": "bd797188-910b-11ea-8d02-0242ac120007"
      },
      {
       "current": "35c362a4-55a3-11e7-b0b2-00163e9c0e35",
       "next": "bd797188-910b-11ea-8d02-0242ac120007",
       "previous": "4cd5af28-7ef5-11ea-a926-0242ac120004"
      },
      {
       "current": "35c362a4-55a3-11e7-b0b2-00163e9c0e35",
       "next": "484c7376-935c-11ea-8d02-0242ac120007",
       "previous": "4cd5af28-7ef5-11ea-a926-0242ac120004"
      },
      {
       "current": "35c362a4-55a3-11e7-b0b2-00163e9c0e35-1-89a7",
       "next": "bd797188-910b-11ea-8d02-0242ac120007",
       "previous": "4cd5af28-7ef5-11ea-a926-0242ac120004"
      },
      {
       "current": "35c362a4-55a3-11e7-b0b2-00163e9c0e35-2-89a7-98f2",
       "next": "bd797188-910b-11ea-8d02-0242ac120007-1-728a",
       "previous": "4cd5af28-7ef5-11ea-a926-0242ac120004-1-726b"
      },
      {
       "current": "35c362a4-55a3-11e7-b0b2-00163e9c0e35-2-89a7-98f2",
       "next": "bd797188-910b-11ea-8d02-0242ac120007-2-728a-254c",
       "previous": "4cd5af28-7ef5-11ea-a926-0242ac120004-2-726b-a0d6"
      },
      {
       "current": "35c362a4-55a3-11e7-b0b2-00163e9c0e35-2-89a7-98f2",
       "next": "bd797188-910b-11ea-8d02-0242ac120007-2-728a-254c",
       "previous": "35c360f6-55a3-11e7-b0b2-00163e9c0e35-2-4a79-f9ba"
      },
      {
       "current": "35c362a4-55a3-11e7-b0b2-00163e9c0e35-3-89a7-98f2-5cf2",
       "next": "ef4d2888-aa17-11ea-9ad4-0242ac120006-1-42b7",
       "previous": "35c360f6-55a3-11e7-b0b2-00163e9c0e35-2-4a79-f9ba"
      },
      {
       "current": "35c362a4-55a3-11e7-b0b2-00163e9c0e35-4-89a7-98f2-5cf2-926b",
       "next": "ef4d2888-aa17-11ea-9ad4-0242ac120006-2-42b7-b07a",
       "previous": "35c360f6-55a3-11e7-b0b2-00163e9c0e35-3-4a79-f9ba-754f"
      },
      {
       "current": "35c362a4-55a3-11e7-b0b2-00163e9c0e35-5-89a7-98f2-5cf2-926b-cd78",
       "next": "ef4d2888-aa17-11ea-9ad4-0242ac120006-3-42b7-b07a-ddd4",
       "previous": "35c360f6-55a3-11e7-b0b2-00163e9c0e35-4-4a79-f9ba-754f-636d"
      },
      {
       "current": "35c362a4-55a3-11e7-b0b2-00163e9c0e35-6-89a7-98f2-5cf2-926b-cd78-3941",
       "next": "ef4d2888-aa17-11ea-9ad4-0242ac120006-4-42b7-b07a-ddd4-6a31",
       "previous": "35c360f6-55a3-11e7-b0b2-00163e9c0e35-5-4a79-f9ba-754f-636d-ce78"
      },
      {
       "current": "35c362a4-55a3-11e7-b0b2-00163e9c0e35-7-89a7-98f2-5cf2-926b-cd78-3941-ecb0",
       "next": "ef4d2888-aa17-11ea-9ad4-0242ac120006-5-42b7-b07a-ddd4-6a31-7a31",
       "previous": "35c360f6-55a3-11e7-b0b2-00163e9c0e35-6-4a79-f9ba-754f-636d-ce78-1deb"
      },
      {
       "current": "35c362a4-55a3-11e7-b0b2-00163e9c0e35-8-89a7-98f2-5cf2-926b-cd78-3941-ecb0-5878",
       "next": "ef4d2888-aa17-11ea-9ad4-0242ac120006-6-42b7-b07a-ddd4-6a31-7a31-1482",
       "previous": "35c360f6-55a3-11e7-b0b2-00163e9c0e35-7-4a79-f9ba-754f-636d-ce78-1deb-d6db"
      }
     ],
     "next": "ef4d2888-aa17-11ea-9ad4-0242ac120006-7-42b7-b07a-ddd4-6a31-7a31-1482-2db4",
     "previous": "35c360f6-55a3-11e7-b0b2-00163e9c0e35-8-4a79-f9ba-754f-636d-ce78-1deb-d6db-5c24"
    }
   },
   "source": [
    "## 疎通確認\n",
    "以下コマンドを実行し、OpeHubからCephAdmin経由で、Cephノードに疎通することを確認する。"
   ]
  },
  {
   "cell_type": "code",
   "execution_count": null,
   "metadata": {
    "lc_cell_meme": {
     "current": "ef4d2888-aa17-11ea-9ad4-0242ac120006-7-42b7-b07a-ddd4-6a31-7a31-1482-2db4",
     "history": [
      {
       "current": "ef4d2888-aa17-11ea-9ad4-0242ac120006-1-42b7",
       "next": "ac56a252-95bd-11ea-8d02-0242ac120007-1-86ee",
       "previous": "bd797188-910b-11ea-8d02-0242ac120007-1-728a"
      },
      {
       "current": "ef4d2888-aa17-11ea-9ad4-0242ac120006-1-42b7",
       "next": "ac56a252-95bd-11ea-8d02-0242ac120007-2-86ee-3a22",
       "previous": "bd797188-910b-11ea-8d02-0242ac120007-2-728a-254c"
      },
      {
       "current": "ef4d2888-aa17-11ea-9ad4-0242ac120006-1-42b7",
       "next": "bd797188-910b-11ea-8d02-0242ac120007-2-728a-254c",
       "previous": "35c362a4-55a3-11e7-b0b2-00163e9c0e35-2-89a7-98f2"
      },
      {
       "current": "ef4d2888-aa17-11ea-9ad4-0242ac120006-2-42b7-b07a",
       "next": "e3856a36-df01-11eb-b29f-0242ac120008",
       "previous": "35c362a4-55a3-11e7-b0b2-00163e9c0e35-2-89a7-98f2"
      },
      {
       "current": "ef4d2888-aa17-11ea-9ad4-0242ac120006-3-42b7-b07a-ddd4",
       "next": "e3856a36-df01-11eb-b29f-0242ac120008-1-d6f1",
       "previous": "35c362a4-55a3-11e7-b0b2-00163e9c0e35-3-89a7-98f2-5cf2"
      },
      {
       "current": "ef4d2888-aa17-11ea-9ad4-0242ac120006-4-42b7-b07a-ddd4-6a31",
       "next": "e3856a36-df01-11eb-b29f-0242ac120008-2-d6f1-63e1",
       "previous": "35c362a4-55a3-11e7-b0b2-00163e9c0e35-4-89a7-98f2-5cf2-926b"
      },
      {
       "current": "ef4d2888-aa17-11ea-9ad4-0242ac120006-5-42b7-b07a-ddd4-6a31-7a31",
       "next": "e3856a36-df01-11eb-b29f-0242ac120008-3-d6f1-63e1-c468",
       "previous": "35c362a4-55a3-11e7-b0b2-00163e9c0e35-5-89a7-98f2-5cf2-926b-cd78"
      },
      {
       "current": "ef4d2888-aa17-11ea-9ad4-0242ac120006-5-42b7-b07a-ddd4-6a31-7a31",
       "next": "e3856a36-df01-11eb-b29f-0242ac120008-4-d6f1-63e1-c468-1123",
       "previous": "35c362a4-55a3-11e7-b0b2-00163e9c0e35-6-89a7-98f2-5cf2-926b-cd78-3941"
      },
      {
       "current": "ef4d2888-aa17-11ea-9ad4-0242ac120006-6-42b7-b07a-ddd4-6a31-7a31-1482",
       "next": "bd797188-910b-11ea-8d02-0242ac120007-6-728a-254c-2f4c-d04d-23c5-50c9",
       "previous": "35c362a4-55a3-11e7-b0b2-00163e9c0e35-6-89a7-98f2-5cf2-926b-cd78-3941"
      },
      {
       "current": "ef4d2888-aa17-11ea-9ad4-0242ac120006-7-42b7-b07a-ddd4-6a31-7a31-1482-2db4",
       "next": "bd797188-910b-11ea-8d02-0242ac120007-7-728a-254c-2f4c-d04d-23c5-50c9-478b",
       "previous": "35c362a4-55a3-11e7-b0b2-00163e9c0e35-7-89a7-98f2-5cf2-926b-cd78-3941-ecb0"
      }
     ],
     "next": "bd797188-910b-11ea-8d02-0242ac120007-8-728a-254c-2f4c-d04d-23c5-50c9-478b-e731",
     "previous": "35c362a4-55a3-11e7-b0b2-00163e9c0e35-8-89a7-98f2-5cf2-926b-cd78-3941-ecb0-5878"
    }
   },
   "outputs": [],
   "source": [
    "!ansible -i $hosts -b -m shell -a 'hostname' ceph_admin"
   ]
  },
  {
   "cell_type": "code",
   "execution_count": null,
   "metadata": {
    "lc_cell_meme": {
     "current": "bd797188-910b-11ea-8d02-0242ac120007-8-728a-254c-2f4c-d04d-23c5-50c9-478b-e731",
     "history": [
      {
       "current": "bd797188-910b-11ea-8d02-0242ac120007",
       "next": "35c362a4-55a3-11e7-b0b2-00163e9c0e35",
       "previous": "7d464504-9107-11ea-8d02-0242ac120007"
      },
      {
       "current": "bd797188-910b-11ea-8d02-0242ac120007",
       "next": "70b95056-9111-11ea-8d02-0242ac120007",
       "previous": "7d464504-9107-11ea-8d02-0242ac120007"
      },
      {
       "current": "bd797188-910b-11ea-8d02-0242ac120007",
       "next": "35c362a4-55a3-11e7-b0b2-00163e9c0e35",
       "previous": "7d464504-9107-11ea-8d02-0242ac120007"
      },
      {
       "current": "bd797188-910b-11ea-8d02-0242ac120007",
       "next": "35c362a4-55a3-11e7-b0b2-00163e9c0e35",
       "previous": "4cd5af28-7ef5-11ea-a926-0242ac120004"
      },
      {
       "current": "bd797188-910b-11ea-8d02-0242ac120007",
       "next": "35c36448-55a3-11e7-b0b2-00163e9c0e35",
       "previous": "35c362a4-55a3-11e7-b0b2-00163e9c0e35"
      },
      {
       "current": "bd797188-910b-11ea-8d02-0242ac120007",
       "next": "35c3783e-55a3-11e7-b0b2-00163e9c0e35",
       "previous": "35c362a4-55a3-11e7-b0b2-00163e9c0e35"
      },
      {
       "current": "bd797188-910b-11ea-8d02-0242ac120007",
       "next": "35c3783e-55a3-11e7-b0b2-00163e9c0e35",
       "previous": "484c7376-935c-11ea-8d02-0242ac120007"
      },
      {
       "current": "bd797188-910b-11ea-8d02-0242ac120007",
       "next": "35c3783e-55a3-11e7-b0b2-00163e9c0e35",
       "previous": "35c362a4-55a3-11e7-b0b2-00163e9c0e35"
      },
      {
       "current": "bd797188-910b-11ea-8d02-0242ac120007-1-728a",
       "next": "ac56a252-95bd-11ea-8d02-0242ac120007",
       "previous": "35c362a4-55a3-11e7-b0b2-00163e9c0e35"
      },
      {
       "current": "bd797188-910b-11ea-8d02-0242ac120007-1-728a",
       "next": "ac56a252-95bd-11ea-8d02-0242ac120007-1-86ee",
       "previous": "35c362a4-55a3-11e7-b0b2-00163e9c0e35-1-89a7"
      },
      {
       "current": "bd797188-910b-11ea-8d02-0242ac120007-2-728a-254c",
       "next": "ef4d2888-aa17-11ea-9ad4-0242ac120006",
       "previous": "35c362a4-55a3-11e7-b0b2-00163e9c0e35-1-89a7"
      },
      {
       "current": "bd797188-910b-11ea-8d02-0242ac120007-2-728a-254c",
       "next": "ef4d2888-aa17-11ea-9ad4-0242ac120006-1-42b7",
       "previous": "35c362a4-55a3-11e7-b0b2-00163e9c0e35-2-89a7-98f2"
      },
      {
       "current": "bd797188-910b-11ea-8d02-0242ac120007-2-728a-254c",
       "next": "ac56a252-95bd-11ea-8d02-0242ac120007-2-86ee-3a22",
       "previous": "ef4d2888-aa17-11ea-9ad4-0242ac120006-1-42b7"
      },
      {
       "current": "bd797188-910b-11ea-8d02-0242ac120007-2-728a-254c",
       "next": "ac56a252-95bd-11ea-8d02-0242ac120007-2-86ee-3a22",
       "previous": "e3856a36-df01-11eb-b29f-0242ac120008"
      },
      {
       "current": "bd797188-910b-11ea-8d02-0242ac120007-3-728a-254c-2f4c",
       "next": "21d849e2-dfd0-11eb-b29f-0242ac120008",
       "previous": "e3856a36-df01-11eb-b29f-0242ac120008"
      },
      {
       "current": "bd797188-910b-11ea-8d02-0242ac120007-4-728a-254c-2f4c-d04d",
       "next": "21d849e2-dfd0-11eb-b29f-0242ac120008-1-ee1b",
       "previous": "e3856a36-df01-11eb-b29f-0242ac120008-1-d6f1"
      },
      {
       "current": "bd797188-910b-11ea-8d02-0242ac120007-5-728a-254c-2f4c-d04d-23c5",
       "next": "21d849e2-dfd0-11eb-b29f-0242ac120008-2-ee1b-24f9",
       "previous": "e3856a36-df01-11eb-b29f-0242ac120008-2-d6f1-63e1"
      },
      {
       "current": "bd797188-910b-11ea-8d02-0242ac120007-6-728a-254c-2f4c-d04d-23c5-50c9",
       "next": "21d849e2-dfd0-11eb-b29f-0242ac120008-3-ee1b-24f9-2e7e",
       "previous": "e3856a36-df01-11eb-b29f-0242ac120008-3-d6f1-63e1-c468"
      },
      {
       "current": "bd797188-910b-11ea-8d02-0242ac120007-6-728a-254c-2f4c-d04d-23c5-50c9",
       "next": "21d849e2-dfd0-11eb-b29f-0242ac120008-4-ee1b-24f9-2e7e-a360",
       "previous": "e3856a36-df01-11eb-b29f-0242ac120008-4-d6f1-63e1-c468-1123"
      },
      {
       "current": "bd797188-910b-11ea-8d02-0242ac120007-6-728a-254c-2f4c-d04d-23c5-50c9",
       "next": "24ec74da-a474-11ee-91d3-0242ac120006-2-3a93-7542",
       "previous": "ef4d2888-aa17-11ea-9ad4-0242ac120006-5-42b7-b07a-ddd4-6a31-7a31"
      },
      {
       "current": "bd797188-910b-11ea-8d02-0242ac120007-7-728a-254c-2f4c-d04d-23c5-50c9-478b",
       "next": "e0faa992-173a-11ef-ad2f-0242ac120005",
       "previous": "ef4d2888-aa17-11ea-9ad4-0242ac120006-5-42b7-b07a-ddd4-6a31-7a31"
      },
      {
       "current": "bd797188-910b-11ea-8d02-0242ac120007-8-728a-254c-2f4c-d04d-23c5-50c9-478b-e731",
       "next": "e0faa992-173a-11ef-ad2f-0242ac120005-1-38ce",
       "previous": "ef4d2888-aa17-11ea-9ad4-0242ac120006-6-42b7-b07a-ddd4-6a31-7a31-1482"
      }
     ],
     "next": "e0faa992-173a-11ef-ad2f-0242ac120005-2-38ce-75c0",
     "previous": "ef4d2888-aa17-11ea-9ad4-0242ac120006-7-42b7-b07a-ddd4-6a31-7a31-1482-2db4"
    }
   },
   "outputs": [],
   "source": [
    "!ansible -i $hosts -b -m shell -a 'hostname' ceph_node"
   ]
  },
  {
   "cell_type": "code",
   "execution_count": null,
   "metadata": {
    "lc_cell_meme": {
     "current": "e0faa992-173a-11ef-ad2f-0242ac120005-2-38ce-75c0",
     "history": [
      {
       "current": "e0faa992-173a-11ef-ad2f-0242ac120005-1-38ce",
       "next": "24ec74da-a474-11ee-91d3-0242ac120006-2-3a93-7542",
       "previous": "bd797188-910b-11ea-8d02-0242ac120007-6-728a-254c-2f4c-d04d-23c5-50c9"
      },
      {
       "current": "e0faa992-173a-11ef-ad2f-0242ac120005-2-38ce-75c0",
       "next": "24ec74da-a474-11ee-91d3-0242ac120006-3-3a93-7542-ddd7",
       "previous": "bd797188-910b-11ea-8d02-0242ac120007-7-728a-254c-2f4c-d04d-23c5-50c9-478b"
      }
     ],
     "next": "24ec74da-a474-11ee-91d3-0242ac120006-4-3a93-7542-ddd7-b940",
     "previous": "bd797188-910b-11ea-8d02-0242ac120007-8-728a-254c-2f4c-d04d-23c5-50c9-478b-e731"
    }
   },
   "outputs": [],
   "source": [
    "!ansible -i $hosts -b -m shell -a 'hostname' repo_server"
   ]
  },
  {
   "cell_type": "markdown",
   "metadata": {
    "lc_cell_meme": {
     "current": "24ec74da-a474-11ee-91d3-0242ac120006-4-3a93-7542-ddd7-b940",
     "history": [
      {
       "current": "24ec74da-a474-11ee-91d3-0242ac120006-1-3a93",
       "next": "24ec767e-a474-11ee-91d3-0242ac120006",
       "previous": "21d849e2-dfd0-11eb-b29f-0242ac120008-2-ee1b-24f9"
      },
      {
       "current": "24ec74da-a474-11ee-91d3-0242ac120006-2-3a93-7542",
       "next": "24ec767e-a474-11ee-91d3-0242ac120006-1-d9be",
       "previous": "21d849e2-dfd0-11eb-b29f-0242ac120008-3-ee1b-24f9-2e7e"
      },
      {
       "current": "24ec74da-a474-11ee-91d3-0242ac120006-2-3a93-7542",
       "next": "24ec767e-a474-11ee-91d3-0242ac120006-2-d9be-e4ff",
       "previous": "21d849e2-dfd0-11eb-b29f-0242ac120008-4-ee1b-24f9-2e7e-a360"
      },
      {
       "current": "24ec74da-a474-11ee-91d3-0242ac120006-2-3a93-7542",
       "next": "24ec767e-a474-11ee-91d3-0242ac120006-2-d9be-e4ff",
       "previous": "bd797188-910b-11ea-8d02-0242ac120007-6-728a-254c-2f4c-d04d-23c5-50c9"
      },
      {
       "current": "24ec74da-a474-11ee-91d3-0242ac120006-3-3a93-7542-ddd7",
       "next": "24ec767e-a474-11ee-91d3-0242ac120006-2-d9be-e4ff",
       "previous": "e0faa992-173a-11ef-ad2f-0242ac120005"
      },
      {
       "current": "24ec74da-a474-11ee-91d3-0242ac120006-4-3a93-7542-ddd7-b940",
       "next": "24ec767e-a474-11ee-91d3-0242ac120006-3-d9be-e4ff-22af",
       "previous": "e0faa992-173a-11ef-ad2f-0242ac120005-1-38ce"
      }
     ],
     "next": "24ec767e-a474-11ee-91d3-0242ac120006-4-d9be-e4ff-22af-e671",
     "previous": "e0faa992-173a-11ef-ad2f-0242ac120005-2-38ce-75c0"
    }
   },
   "source": [
    "# Timezone 設定\n",
    "TimezoneをUTCに変更する"
   ]
  },
  {
   "cell_type": "code",
   "execution_count": null,
   "metadata": {
    "lc_cell_meme": {
     "current": "24ec767e-a474-11ee-91d3-0242ac120006-4-d9be-e4ff-22af-e671",
     "history": [
      {
       "current": "24ec767e-a474-11ee-91d3-0242ac120006-1-d9be",
       "next": "24ec770a-a474-11ee-91d3-0242ac120006",
       "previous": "24ec74da-a474-11ee-91d3-0242ac120006"
      },
      {
       "current": "24ec767e-a474-11ee-91d3-0242ac120006-2-d9be-e4ff",
       "next": "24ec770a-a474-11ee-91d3-0242ac120006-1-f44f",
       "previous": "24ec74da-a474-11ee-91d3-0242ac120006-1-3a93"
      },
      {
       "current": "24ec767e-a474-11ee-91d3-0242ac120006-3-d9be-e4ff-22af",
       "next": "24ec770a-a474-11ee-91d3-0242ac120006-2-f44f-f146",
       "previous": "24ec74da-a474-11ee-91d3-0242ac120006-2-3a93-7542"
      },
      {
       "current": "24ec767e-a474-11ee-91d3-0242ac120006-4-d9be-e4ff-22af-e671",
       "next": "24ec770a-a474-11ee-91d3-0242ac120006-3-f44f-f146-f587",
       "previous": "24ec74da-a474-11ee-91d3-0242ac120006-3-3a93-7542-ddd7"
      }
     ],
     "next": "24ec770a-a474-11ee-91d3-0242ac120006-4-f44f-f146-f587-dfcb",
     "previous": "24ec74da-a474-11ee-91d3-0242ac120006-4-3a93-7542-ddd7-b940"
    }
   },
   "outputs": [],
   "source": [
    "!ansible -i $hosts -b -m shell -a 'timedatectl list-timezones | grep UTC' ceph_node"
   ]
  },
  {
   "cell_type": "code",
   "execution_count": null,
   "metadata": {
    "lc_cell_meme": {
     "current": "24ec770a-a474-11ee-91d3-0242ac120006-4-f44f-f146-f587-dfcb",
     "history": [
      {
       "current": "24ec770a-a474-11ee-91d3-0242ac120006",
       "next": "ac56a252-95bd-11ea-8d02-0242ac120007-4-86ee-3a22-9a71-32a4",
       "previous": "24ec767e-a474-11ee-91d3-0242ac120006"
      },
      {
       "current": "24ec770a-a474-11ee-91d3-0242ac120006-1-f44f",
       "next": "6c8ceae0-a474-11ee-91d3-0242ac120006",
       "previous": "24ec767e-a474-11ee-91d3-0242ac120006"
      },
      {
       "current": "24ec770a-a474-11ee-91d3-0242ac120006-2-f44f-f146",
       "next": "6c8ceae0-a474-11ee-91d3-0242ac120006-1-637c",
       "previous": "24ec767e-a474-11ee-91d3-0242ac120006-1-d9be"
      },
      {
       "current": "24ec770a-a474-11ee-91d3-0242ac120006-3-f44f-f146-f587",
       "next": "6c8ceae0-a474-11ee-91d3-0242ac120006-2-637c-8ddf",
       "previous": "24ec767e-a474-11ee-91d3-0242ac120006-2-d9be-e4ff"
      },
      {
       "current": "24ec770a-a474-11ee-91d3-0242ac120006-4-f44f-f146-f587-dfcb",
       "next": "6c8ceae0-a474-11ee-91d3-0242ac120006-3-637c-8ddf-030d",
       "previous": "24ec767e-a474-11ee-91d3-0242ac120006-3-d9be-e4ff-22af"
      }
     ],
     "next": "6c8ceae0-a474-11ee-91d3-0242ac120006-4-637c-8ddf-030d-e37b",
     "previous": "24ec767e-a474-11ee-91d3-0242ac120006-4-d9be-e4ff-22af-e671"
    }
   },
   "outputs": [],
   "source": [
    "!ansible -i $hosts -b -m shell -a 'timedatectl set-timezone UTC' ceph_node"
   ]
  },
  {
   "cell_type": "code",
   "execution_count": null,
   "metadata": {
    "lc_cell_meme": {
     "current": "6c8ceae0-a474-11ee-91d3-0242ac120006-4-637c-8ddf-030d-e37b",
     "history": [
      {
       "current": "6c8ceae0-a474-11ee-91d3-0242ac120006-1-637c",
       "next": "ac56a252-95bd-11ea-8d02-0242ac120007-4-86ee-3a22-9a71-32a4",
       "previous": "24ec770a-a474-11ee-91d3-0242ac120006"
      },
      {
       "current": "6c8ceae0-a474-11ee-91d3-0242ac120006-2-637c-8ddf",
       "next": "ac56a252-95bd-11ea-8d02-0242ac120007-5-86ee-3a22-9a71-32a4-7aa1",
       "previous": "24ec770a-a474-11ee-91d3-0242ac120006-1-f44f"
      },
      {
       "current": "6c8ceae0-a474-11ee-91d3-0242ac120006-3-637c-8ddf-030d",
       "next": "ac56a252-95bd-11ea-8d02-0242ac120007-6-86ee-3a22-9a71-32a4-7aa1-195f",
       "previous": "24ec770a-a474-11ee-91d3-0242ac120006-2-f44f-f146"
      },
      {
       "current": "6c8ceae0-a474-11ee-91d3-0242ac120006-4-637c-8ddf-030d-e37b",
       "next": "ac56a252-95bd-11ea-8d02-0242ac120007-7-86ee-3a22-9a71-32a4-7aa1-195f-844e",
       "previous": "24ec770a-a474-11ee-91d3-0242ac120006-3-f44f-f146-f587"
      }
     ],
     "next": "ac56a252-95bd-11ea-8d02-0242ac120007-8-86ee-3a22-9a71-32a4-7aa1-195f-844e-7045",
     "previous": "24ec770a-a474-11ee-91d3-0242ac120006-4-f44f-f146-f587-dfcb"
    }
   },
   "outputs": [],
   "source": [
    "!ansible -i $hosts -b -m shell -a 'date' ceph_node"
   ]
  },
  {
   "cell_type": "markdown",
   "metadata": {
    "lc_cell_meme": {
     "current": "ac56a252-95bd-11ea-8d02-0242ac120007-8-86ee-3a22-9a71-32a4-7aa1-195f-844e-7045",
     "history": [
      {
       "current": "ac56a252-95bd-11ea-8d02-0242ac120007-1-86ee",
       "next": "ac56a6c6-95bd-11ea-8d02-0242ac120007",
       "previous": "bd797188-910b-11ea-8d02-0242ac120007"
      },
      {
       "current": "ac56a252-95bd-11ea-8d02-0242ac120007-1-86ee",
       "next": "ac56a6c6-95bd-11ea-8d02-0242ac120007-1-431a",
       "previous": "bd797188-910b-11ea-8d02-0242ac120007-1-728a"
      },
      {
       "current": "ac56a252-95bd-11ea-8d02-0242ac120007-1-86ee",
       "next": "46b93d3e-95bc-11ea-8d02-0242ac120007-1-9f9c",
       "previous": "bd797188-910b-11ea-8d02-0242ac120007-1-728a"
      },
      {
       "current": "ac56a252-95bd-11ea-8d02-0242ac120007-2-86ee-3a22",
       "next": "46b93d3e-95bc-11ea-8d02-0242ac120007-1-9f9c",
       "previous": "ef4d2888-aa17-11ea-9ad4-0242ac120006"
      },
      {
       "current": "ac56a252-95bd-11ea-8d02-0242ac120007-2-86ee-3a22",
       "next": "46b93d3e-95bc-11ea-8d02-0242ac120007-2-9f9c-2f8b",
       "previous": "ef4d2888-aa17-11ea-9ad4-0242ac120006-1-42b7"
      },
      {
       "current": "ac56a252-95bd-11ea-8d02-0242ac120007-2-86ee-3a22",
       "next": "46b93d3e-95bc-11ea-8d02-0242ac120007-2-9f9c-2f8b",
       "previous": "bd797188-910b-11ea-8d02-0242ac120007-2-728a-254c"
      },
      {
       "current": "ac56a252-95bd-11ea-8d02-0242ac120007-3-86ee-3a22-9a71",
       "next": "46b93d3e-95bc-11ea-8d02-0242ac120007-2-9f9c-2f8b",
       "previous": "21d849e2-dfd0-11eb-b29f-0242ac120008"
      },
      {
       "current": "ac56a252-95bd-11ea-8d02-0242ac120007-4-86ee-3a22-9a71-32a4",
       "next": "46b93d3e-95bc-11ea-8d02-0242ac120007-3-9f9c-2f8b-fd5c",
       "previous": "21d849e2-dfd0-11eb-b29f-0242ac120008-1-ee1b"
      },
      {
       "current": "ac56a252-95bd-11ea-8d02-0242ac120007-4-86ee-3a22-9a71-32a4",
       "next": "46b93d3e-95bc-11ea-8d02-0242ac120007-4-9f9c-2f8b-fd5c-3e82",
       "previous": "21d849e2-dfd0-11eb-b29f-0242ac120008-2-ee1b-24f9"
      },
      {
       "current": "ac56a252-95bd-11ea-8d02-0242ac120007-4-86ee-3a22-9a71-32a4",
       "next": "46b93d3e-95bc-11ea-8d02-0242ac120007-4-9f9c-2f8b-fd5c-3e82",
       "previous": "24ec770a-a474-11ee-91d3-0242ac120006"
      },
      {
       "current": "ac56a252-95bd-11ea-8d02-0242ac120007-5-86ee-3a22-9a71-32a4-7aa1",
       "next": "46b93d3e-95bc-11ea-8d02-0242ac120007-4-9f9c-2f8b-fd5c-3e82",
       "previous": "6c8ceae0-a474-11ee-91d3-0242ac120006"
      },
      {
       "current": "ac56a252-95bd-11ea-8d02-0242ac120007-6-86ee-3a22-9a71-32a4-7aa1-195f",
       "next": "46b93d3e-95bc-11ea-8d02-0242ac120007-5-9f9c-2f8b-fd5c-3e82-2f08",
       "previous": "6c8ceae0-a474-11ee-91d3-0242ac120006-1-637c"
      },
      {
       "current": "ac56a252-95bd-11ea-8d02-0242ac120007-7-86ee-3a22-9a71-32a4-7aa1-195f-844e",
       "next": "46b93d3e-95bc-11ea-8d02-0242ac120007-6-9f9c-2f8b-fd5c-3e82-2f08-87eb",
       "previous": "6c8ceae0-a474-11ee-91d3-0242ac120006-2-637c-8ddf"
      },
      {
       "current": "ac56a252-95bd-11ea-8d02-0242ac120007-8-86ee-3a22-9a71-32a4-7aa1-195f-844e-7045",
       "next": "46b93d3e-95bc-11ea-8d02-0242ac120007-7-9f9c-2f8b-fd5c-3e82-2f08-87eb-d539",
       "previous": "6c8ceae0-a474-11ee-91d3-0242ac120006-3-637c-8ddf-030d"
      }
     ],
     "next": "46b93d3e-95bc-11ea-8d02-0242ac120007-8-9f9c-2f8b-fd5c-3e82-2f08-87eb-d539-e4b6",
     "previous": "6c8ceae0-a474-11ee-91d3-0242ac120006-4-637c-8ddf-030d-e37b"
    }
   },
   "source": [
    "# リポジトリ設定"
   ]
  },
  {
   "cell_type": "markdown",
   "metadata": {
    "lc_cell_meme": {
     "current": "46b93d3e-95bc-11ea-8d02-0242ac120007-8-9f9c-2f8b-fd5c-3e82-2f08-87eb-d539-e4b6",
     "history": [
      {
       "current": "46b93d3e-95bc-11ea-8d02-0242ac120007",
       "next": "46b9419e-95bc-11ea-8d02-0242ac120007",
       "previous": "81dd5320-9597-11ea-8d02-0242ac120007"
      },
      {
       "current": "46b93d3e-95bc-11ea-8d02-0242ac120007-1-9f9c",
       "next": "46b9419e-95bc-11ea-8d02-0242ac120007",
       "previous": "e3624638-98a7-11ea-8d02-0242ac120007"
      },
      {
       "current": "46b93d3e-95bc-11ea-8d02-0242ac120007-1-9f9c",
       "next": "46b9419e-95bc-11ea-8d02-0242ac120007-1-cbf0",
       "previous": "e3624638-98a7-11ea-8d02-0242ac120007-1-0249"
      },
      {
       "current": "46b93d3e-95bc-11ea-8d02-0242ac120007-2-9f9c-2f8b",
       "next": "46b9419e-95bc-11ea-8d02-0242ac120007-1-cbf0",
       "previous": "ac56a252-95bd-11ea-8d02-0242ac120007-1-86ee"
      },
      {
       "current": "46b93d3e-95bc-11ea-8d02-0242ac120007-2-9f9c-2f8b",
       "next": "46b9419e-95bc-11ea-8d02-0242ac120007-2-cbf0-3c1a",
       "previous": "ac56a252-95bd-11ea-8d02-0242ac120007-2-86ee-3a22"
      },
      {
       "current": "46b93d3e-95bc-11ea-8d02-0242ac120007-3-9f9c-2f8b-fd5c",
       "next": "f799acfa-dfbd-11eb-b29f-0242ac120008",
       "previous": "ac56a252-95bd-11ea-8d02-0242ac120007-2-86ee-3a22"
      },
      {
       "current": "46b93d3e-95bc-11ea-8d02-0242ac120007-4-9f9c-2f8b-fd5c-3e82",
       "next": "f799acfa-dfbd-11eb-b29f-0242ac120008-1-7b91",
       "previous": "ac56a252-95bd-11ea-8d02-0242ac120007-3-86ee-3a22-9a71"
      },
      {
       "current": "46b93d3e-95bc-11ea-8d02-0242ac120007-5-9f9c-2f8b-fd5c-3e82-2f08",
       "next": "f799acfa-dfbd-11eb-b29f-0242ac120008-2-7b91-b4b5",
       "previous": "ac56a252-95bd-11ea-8d02-0242ac120007-4-86ee-3a22-9a71-32a4"
      },
      {
       "current": "46b93d3e-95bc-11ea-8d02-0242ac120007-6-9f9c-2f8b-fd5c-3e82-2f08-87eb",
       "next": "f799acfa-dfbd-11eb-b29f-0242ac120008-3-7b91-b4b5-721e",
       "previous": "ac56a252-95bd-11ea-8d02-0242ac120007-5-86ee-3a22-9a71-32a4-7aa1"
      },
      {
       "current": "46b93d3e-95bc-11ea-8d02-0242ac120007-7-9f9c-2f8b-fd5c-3e82-2f08-87eb-d539",
       "next": "f799acfa-dfbd-11eb-b29f-0242ac120008-4-7b91-b4b5-721e-f5f3",
       "previous": "ac56a252-95bd-11ea-8d02-0242ac120007-6-86ee-3a22-9a71-32a4-7aa1-195f"
      },
      {
       "current": "46b93d3e-95bc-11ea-8d02-0242ac120007-8-9f9c-2f8b-fd5c-3e82-2f08-87eb-d539-e4b6",
       "next": "f799acfa-dfbd-11eb-b29f-0242ac120008-5-7b91-b4b5-721e-f5f3-e368",
       "previous": "ac56a252-95bd-11ea-8d02-0242ac120007-7-86ee-3a22-9a71-32a4-7aa1-195f-844e"
      }
     ],
     "next": "f799acfa-dfbd-11eb-b29f-0242ac120008-6-7b91-b4b5-721e-f5f3-e368-0f40",
     "previous": "ac56a252-95bd-11ea-8d02-0242ac120007-8-86ee-3a22-9a71-32a4-7aa1-195f-844e-7045"
    }
   },
   "source": [
    "## リポジトリ定義\n",
    "リポジトリ設定を定義する。<br>\n",
    "以下コマンドより、世代リポジトリの一覧を表示する。<br>\n",
    "一覧から、必要なリポジトリを選択し、ディレクトリ名(日付(yyyymmdd)_時間(HHMM)」を選択し、「REPO_GENERATION」に入力すること。"
   ]
  },
  {
   "cell_type": "markdown",
   "metadata": {
    "lc_cell_meme": {
     "current": "f799acfa-dfbd-11eb-b29f-0242ac120008-6-7b91-b4b5-721e-f5f3-e368-0f40",
     "history": [
      {
       "current": "f799acfa-dfbd-11eb-b29f-0242ac120008-1-7b91",
       "next": "f799b060-dfbd-11eb-b29f-0242ac120008",
       "previous": "46b93d3e-95bc-11ea-8d02-0242ac120007-2-9f9c-2f8b"
      },
      {
       "current": "f799acfa-dfbd-11eb-b29f-0242ac120008-2-7b91-b4b5",
       "next": "f799b060-dfbd-11eb-b29f-0242ac120008-1-f206",
       "previous": "46b93d3e-95bc-11ea-8d02-0242ac120007-3-9f9c-2f8b-fd5c"
      },
      {
       "current": "f799acfa-dfbd-11eb-b29f-0242ac120008-3-7b91-b4b5-721e",
       "next": "f799b060-dfbd-11eb-b29f-0242ac120008-2-f206-ea4a",
       "previous": "46b93d3e-95bc-11ea-8d02-0242ac120007-4-9f9c-2f8b-fd5c-3e82"
      },
      {
       "current": "f799acfa-dfbd-11eb-b29f-0242ac120008-4-7b91-b4b5-721e-f5f3",
       "next": "f799b060-dfbd-11eb-b29f-0242ac120008-3-f206-ea4a-f222",
       "previous": "46b93d3e-95bc-11ea-8d02-0242ac120007-5-9f9c-2f8b-fd5c-3e82-2f08"
      },
      {
       "current": "f799acfa-dfbd-11eb-b29f-0242ac120008-4-7b91-b4b5-721e-f5f3",
       "next": "f799b060-dfbd-11eb-b29f-0242ac120008-4-f206-ea4a-f222-225b",
       "previous": "46b93d3e-95bc-11ea-8d02-0242ac120007-6-9f9c-2f8b-fd5c-3e82-2f08-87eb"
      },
      {
       "current": "f799acfa-dfbd-11eb-b29f-0242ac120008-5-7b91-b4b5-721e-f5f3-e368",
       "next": "f799b240-dfbd-11eb-b29f-0242ac120008-4-97b8-1ec3-90be-3319",
       "previous": "46b93d3e-95bc-11ea-8d02-0242ac120007-6-9f9c-2f8b-fd5c-3e82-2f08-87eb"
      },
      {
       "current": "f799acfa-dfbd-11eb-b29f-0242ac120008-6-7b91-b4b5-721e-f5f3-e368-0f40",
       "next": "f799b240-dfbd-11eb-b29f-0242ac120008-5-97b8-1ec3-90be-3319-52ca",
       "previous": "46b93d3e-95bc-11ea-8d02-0242ac120007-7-9f9c-2f8b-fd5c-3e82-2f08-87eb-d539"
      }
     ],
     "next": "f799b240-dfbd-11eb-b29f-0242ac120008-6-97b8-1ec3-90be-3319-52ca-2b56",
     "previous": "46b93d3e-95bc-11ea-8d02-0242ac120007-8-9f9c-2f8b-fd5c-3e82-2f08-87eb-d539-e4b6"
    }
   },
   "source": [
    "### リポジトリ確認"
   ]
  },
  {
   "cell_type": "markdown",
   "metadata": {
    "lc_cell_meme": {
     "current": "f799b240-dfbd-11eb-b29f-0242ac120008-6-97b8-1ec3-90be-3319-52ca-2b56",
     "history": [
      {
       "current": "f799b240-dfbd-11eb-b29f-0242ac120008-1-97b8",
       "next": "f799b3e4-dfbd-11eb-b29f-0242ac120008",
       "previous": "f799b060-dfbd-11eb-b29f-0242ac120008"
      },
      {
       "current": "f799b240-dfbd-11eb-b29f-0242ac120008-2-97b8-1ec3",
       "next": "f799b3e4-dfbd-11eb-b29f-0242ac120008-1-19c5",
       "previous": "f799b060-dfbd-11eb-b29f-0242ac120008-1-f206"
      },
      {
       "current": "f799b240-dfbd-11eb-b29f-0242ac120008-3-97b8-1ec3-90be",
       "next": "f799b3e4-dfbd-11eb-b29f-0242ac120008-2-19c5-9591",
       "previous": "f799b060-dfbd-11eb-b29f-0242ac120008-2-f206-ea4a"
      },
      {
       "current": "f799b240-dfbd-11eb-b29f-0242ac120008-4-97b8-1ec3-90be-3319",
       "next": "f799b3e4-dfbd-11eb-b29f-0242ac120008-3-19c5-9591-f15b",
       "previous": "f799b060-dfbd-11eb-b29f-0242ac120008-3-f206-ea4a-f222"
      },
      {
       "current": "f799b240-dfbd-11eb-b29f-0242ac120008-4-97b8-1ec3-90be-3319",
       "next": "f799b3e4-dfbd-11eb-b29f-0242ac120008-4-19c5-9591-f15b-f3ee",
       "previous": "f799b060-dfbd-11eb-b29f-0242ac120008-4-f206-ea4a-f222-225b"
      },
      {
       "current": "f799b240-dfbd-11eb-b29f-0242ac120008-5-97b8-1ec3-90be-3319-52ca",
       "next": "f799b3e4-dfbd-11eb-b29f-0242ac120008-4-19c5-9591-f15b-f3ee",
       "previous": "f799acfa-dfbd-11eb-b29f-0242ac120008-4-7b91-b4b5-721e-f5f3"
      },
      {
       "current": "f799b240-dfbd-11eb-b29f-0242ac120008-6-97b8-1ec3-90be-3319-52ca-2b56",
       "next": "f799b3e4-dfbd-11eb-b29f-0242ac120008-5-19c5-9591-f15b-f3ee-5566",
       "previous": "f799acfa-dfbd-11eb-b29f-0242ac120008-5-7b91-b4b5-721e-f5f3-e368"
      }
     ],
     "next": "f799b3e4-dfbd-11eb-b29f-0242ac120008-6-19c5-9591-f15b-f3ee-5566-ff0f",
     "previous": "f799acfa-dfbd-11eb-b29f-0242ac120008-6-7b91-b4b5-721e-f5f3-e368-0f40"
    }
   },
   "source": [
    "DocumentRootは`/repository`である。"
   ]
  },
  {
   "cell_type": "code",
   "execution_count": null,
   "metadata": {
    "lc_cell_meme": {
     "current": "f799b3e4-dfbd-11eb-b29f-0242ac120008-6-19c5-9591-f15b-f3ee-5566-ff0f",
     "history": [
      {
       "current": "f799b3e4-dfbd-11eb-b29f-0242ac120008",
       "next": "f799b560-dfbd-11eb-b29f-0242ac120008",
       "previous": "f799b240-dfbd-11eb-b29f-0242ac120008"
      },
      {
       "current": "f799b3e4-dfbd-11eb-b29f-0242ac120008-1-19c5",
       "next": "3f275a7c-dfbe-11eb-b29f-0242ac120008",
       "previous": "f799b240-dfbd-11eb-b29f-0242ac120008"
      },
      {
       "current": "f799b3e4-dfbd-11eb-b29f-0242ac120008-2-19c5-9591",
       "next": "3f275a7c-dfbe-11eb-b29f-0242ac120008-1-a342",
       "previous": "f799b240-dfbd-11eb-b29f-0242ac120008-1-97b8"
      },
      {
       "current": "f799b3e4-dfbd-11eb-b29f-0242ac120008-3-19c5-9591-f15b",
       "next": "3f275a7c-dfbe-11eb-b29f-0242ac120008-2-a342-b00d",
       "previous": "f799b240-dfbd-11eb-b29f-0242ac120008-2-97b8-1ec3"
      },
      {
       "current": "f799b3e4-dfbd-11eb-b29f-0242ac120008-4-19c5-9591-f15b-f3ee",
       "next": "3f275a7c-dfbe-11eb-b29f-0242ac120008-3-a342-b00d-1ed3",
       "previous": "f799b240-dfbd-11eb-b29f-0242ac120008-3-97b8-1ec3-90be"
      },
      {
       "current": "f799b3e4-dfbd-11eb-b29f-0242ac120008-5-19c5-9591-f15b-f3ee-5566",
       "next": "3f275a7c-dfbe-11eb-b29f-0242ac120008-4-a342-b00d-1ed3-dc23",
       "previous": "f799b240-dfbd-11eb-b29f-0242ac120008-4-97b8-1ec3-90be-3319"
      },
      {
       "current": "f799b3e4-dfbd-11eb-b29f-0242ac120008-6-19c5-9591-f15b-f3ee-5566-ff0f",
       "next": "3f275a7c-dfbe-11eb-b29f-0242ac120008-5-a342-b00d-1ed3-dc23-e5f7",
       "previous": "f799b240-dfbd-11eb-b29f-0242ac120008-5-97b8-1ec3-90be-3319-52ca"
      }
     ],
     "next": "3f275a7c-dfbe-11eb-b29f-0242ac120008-6-a342-b00d-1ed3-dc23-e5f7-72a6",
     "previous": "f799b240-dfbd-11eb-b29f-0242ac120008-6-97b8-1ec3-90be-3319-52ca-2b56"
    }
   },
   "outputs": [],
   "source": [
    "document_root='/repository'"
   ]
  },
  {
   "cell_type": "markdown",
   "metadata": {
    "lc_cell_meme": {
     "current": "3f275a7c-dfbe-11eb-b29f-0242ac120008-6-a342-b00d-1ed3-dc23-e5f7-72a6",
     "history": [
      {
       "current": "3f275a7c-dfbe-11eb-b29f-0242ac120008-1-a342",
       "next": "3f275cd4-dfbe-11eb-b29f-0242ac120008",
       "previous": "f799b3e4-dfbd-11eb-b29f-0242ac120008"
      },
      {
       "current": "3f275a7c-dfbe-11eb-b29f-0242ac120008-2-a342-b00d",
       "next": "3f275cd4-dfbe-11eb-b29f-0242ac120008-1-33e6",
       "previous": "f799b3e4-dfbd-11eb-b29f-0242ac120008-1-19c5"
      },
      {
       "current": "3f275a7c-dfbe-11eb-b29f-0242ac120008-3-a342-b00d-1ed3",
       "next": "3f275cd4-dfbe-11eb-b29f-0242ac120008-2-33e6-d6dd",
       "previous": "f799b3e4-dfbd-11eb-b29f-0242ac120008-2-19c5-9591"
      },
      {
       "current": "3f275a7c-dfbe-11eb-b29f-0242ac120008-4-a342-b00d-1ed3-dc23",
       "next": "3f275cd4-dfbe-11eb-b29f-0242ac120008-3-33e6-d6dd-bfc1",
       "previous": "f799b3e4-dfbd-11eb-b29f-0242ac120008-3-19c5-9591-f15b"
      },
      {
       "current": "3f275a7c-dfbe-11eb-b29f-0242ac120008-5-a342-b00d-1ed3-dc23-e5f7",
       "next": "3f275cd4-dfbe-11eb-b29f-0242ac120008-4-33e6-d6dd-bfc1-68dd",
       "previous": "f799b3e4-dfbd-11eb-b29f-0242ac120008-4-19c5-9591-f15b-f3ee"
      },
      {
       "current": "3f275a7c-dfbe-11eb-b29f-0242ac120008-6-a342-b00d-1ed3-dc23-e5f7-72a6",
       "next": "3f275cd4-dfbe-11eb-b29f-0242ac120008-5-33e6-d6dd-bfc1-68dd-a7c0",
       "previous": "f799b3e4-dfbd-11eb-b29f-0242ac120008-5-19c5-9591-f15b-f3ee-5566"
      }
     ],
     "next": "3f275cd4-dfbe-11eb-b29f-0242ac120008-6-33e6-d6dd-bfc1-68dd-a7c0-14f8",
     "previous": "f799b3e4-dfbd-11eb-b29f-0242ac120008-6-19c5-9591-f15b-f3ee-5566-ff0f"
    }
   },
   "source": [
    "DocumentRoot配下を確認する。"
   ]
  },
  {
   "cell_type": "code",
   "execution_count": null,
   "metadata": {
    "lc_cell_meme": {
     "current": "3f275cd4-dfbe-11eb-b29f-0242ac120008-6-33e6-d6dd-bfc1-68dd-a7c0-14f8",
     "history": [
      {
       "current": "3f275cd4-dfbe-11eb-b29f-0242ac120008",
       "next": "3f275e28-dfbe-11eb-b29f-0242ac120008",
       "previous": "3f275a7c-dfbe-11eb-b29f-0242ac120008"
      },
      {
       "current": "3f275cd4-dfbe-11eb-b29f-0242ac120008-1-33e6",
       "next": "c8d97bc2-9a8c-11ec-a1da-0242ac120004",
       "previous": "3f275a7c-dfbe-11eb-b29f-0242ac120008"
      },
      {
       "current": "3f275cd4-dfbe-11eb-b29f-0242ac120008-2-33e6-d6dd",
       "next": "c8d97bc2-9a8c-11ec-a1da-0242ac120004-1-ba31",
       "previous": "3f275a7c-dfbe-11eb-b29f-0242ac120008-1-a342"
      },
      {
       "current": "3f275cd4-dfbe-11eb-b29f-0242ac120008-3-33e6-d6dd-bfc1",
       "next": "c8d97bc2-9a8c-11ec-a1da-0242ac120004-2-ba31-88a8",
       "previous": "3f275a7c-dfbe-11eb-b29f-0242ac120008-2-a342-b00d"
      },
      {
       "current": "3f275cd4-dfbe-11eb-b29f-0242ac120008-4-33e6-d6dd-bfc1-68dd",
       "next": "c8d97bc2-9a8c-11ec-a1da-0242ac120004-3-ba31-88a8-febe",
       "previous": "3f275a7c-dfbe-11eb-b29f-0242ac120008-3-a342-b00d-1ed3"
      },
      {
       "current": "3f275cd4-dfbe-11eb-b29f-0242ac120008-5-33e6-d6dd-bfc1-68dd-a7c0",
       "next": "c8d97bc2-9a8c-11ec-a1da-0242ac120004-4-ba31-88a8-febe-b9de",
       "previous": "3f275a7c-dfbe-11eb-b29f-0242ac120008-4-a342-b00d-1ed3-dc23"
      },
      {
       "current": "3f275cd4-dfbe-11eb-b29f-0242ac120008-6-33e6-d6dd-bfc1-68dd-a7c0-14f8",
       "next": "c8d97bc2-9a8c-11ec-a1da-0242ac120004-5-ba31-88a8-febe-b9de-1290",
       "previous": "3f275a7c-dfbe-11eb-b29f-0242ac120008-5-a342-b00d-1ed3-dc23-e5f7"
      }
     ],
     "next": "c8d97bc2-9a8c-11ec-a1da-0242ac120004-6-ba31-88a8-febe-b9de-1290-7740",
     "previous": "3f275a7c-dfbe-11eb-b29f-0242ac120008-6-a342-b00d-1ed3-dc23-e5f7-72a6"
    }
   },
   "outputs": [],
   "source": [
    "!ansible -i $hosts -b -m shell -a \"ls -la $document_root\" repo_server"
   ]
  },
  {
   "cell_type": "code",
   "execution_count": null,
   "metadata": {
    "lc_cell_meme": {
     "current": "c8d97bc2-9a8c-11ec-a1da-0242ac120004-6-ba31-88a8-febe-b9de-1290-7740",
     "history": [
      {
       "current": "c8d97bc2-9a8c-11ec-a1da-0242ac120004",
       "next": "3f275e28-dfbe-11eb-b29f-0242ac120008",
       "previous": "3f275cd4-dfbe-11eb-b29f-0242ac120008"
      },
      {
       "current": "c8d97bc2-9a8c-11ec-a1da-0242ac120004",
       "next": "106aa3bc-9a8d-11ec-a1da-0242ac120004",
       "previous": "3f275cd4-dfbe-11eb-b29f-0242ac120008"
      },
      {
       "current": "c8d97bc2-9a8c-11ec-a1da-0242ac120004-1-ba31",
       "next": "3f275e28-dfbe-11eb-b29f-0242ac120008",
       "previous": "3f275cd4-dfbe-11eb-b29f-0242ac120008"
      },
      {
       "current": "c8d97bc2-9a8c-11ec-a1da-0242ac120004-2-ba31-88a8",
       "next": "3f275e28-dfbe-11eb-b29f-0242ac120008-1-405e",
       "previous": "3f275cd4-dfbe-11eb-b29f-0242ac120008-1-33e6"
      },
      {
       "current": "c8d97bc2-9a8c-11ec-a1da-0242ac120004-3-ba31-88a8-febe",
       "next": "3f275e28-dfbe-11eb-b29f-0242ac120008-2-405e-a602",
       "previous": "3f275cd4-dfbe-11eb-b29f-0242ac120008-2-33e6-d6dd"
      },
      {
       "current": "c8d97bc2-9a8c-11ec-a1da-0242ac120004-4-ba31-88a8-febe-b9de",
       "next": "3f275e28-dfbe-11eb-b29f-0242ac120008-3-405e-a602-5e24",
       "previous": "3f275cd4-dfbe-11eb-b29f-0242ac120008-3-33e6-d6dd-bfc1"
      },
      {
       "current": "c8d97bc2-9a8c-11ec-a1da-0242ac120004-5-ba31-88a8-febe-b9de-1290",
       "next": "3f275e28-dfbe-11eb-b29f-0242ac120008-4-405e-a602-5e24-6b06",
       "previous": "3f275cd4-dfbe-11eb-b29f-0242ac120008-4-33e6-d6dd-bfc1-68dd"
      },
      {
       "current": "c8d97bc2-9a8c-11ec-a1da-0242ac120004-6-ba31-88a8-febe-b9de-1290-7740",
       "next": "3f275e28-dfbe-11eb-b29f-0242ac120008-5-405e-a602-5e24-6b06-feaf",
       "previous": "3f275cd4-dfbe-11eb-b29f-0242ac120008-5-33e6-d6dd-bfc1-68dd-a7c0"
      }
     ],
     "next": "3f275e28-dfbe-11eb-b29f-0242ac120008-6-405e-a602-5e24-6b06-feaf-873e",
     "previous": "3f275cd4-dfbe-11eb-b29f-0242ac120008-6-33e6-d6dd-bfc1-68dd-a7c0-14f8"
    }
   },
   "outputs": [],
   "source": [
    "!ansible -i $hosts -b -m shell -a \"ls -la $document_root/20240520\" repo_server"
   ]
  },
  {
   "cell_type": "markdown",
   "metadata": {
    "lc_cell_meme": {
     "current": "3f275e28-dfbe-11eb-b29f-0242ac120008-6-405e-a602-5e24-6b06-feaf-873e",
     "history": [
      {
       "current": "3f275e28-dfbe-11eb-b29f-0242ac120008",
       "next": "3f275f4a-dfbe-11eb-b29f-0242ac120008",
       "previous": "3f275cd4-dfbe-11eb-b29f-0242ac120008"
      },
      {
       "current": "3f275e28-dfbe-11eb-b29f-0242ac120008",
       "next": "3f275f4a-dfbe-11eb-b29f-0242ac120008",
       "previous": "c8d97bc2-9a8c-11ec-a1da-0242ac120004"
      },
      {
       "current": "3f275e28-dfbe-11eb-b29f-0242ac120008",
       "next": "3f275f4a-dfbe-11eb-b29f-0242ac120008",
       "previous": "106aa3bc-9a8d-11ec-a1da-0242ac120004"
      },
      {
       "current": "3f275e28-dfbe-11eb-b29f-0242ac120008-1-405e",
       "next": "3f275f4a-dfbe-11eb-b29f-0242ac120008",
       "previous": "c8d97bc2-9a8c-11ec-a1da-0242ac120004"
      },
      {
       "current": "3f275e28-dfbe-11eb-b29f-0242ac120008-2-405e-a602",
       "next": "3f275f4a-dfbe-11eb-b29f-0242ac120008-1-8fab",
       "previous": "c8d97bc2-9a8c-11ec-a1da-0242ac120004-1-ba31"
      },
      {
       "current": "3f275e28-dfbe-11eb-b29f-0242ac120008-3-405e-a602-5e24",
       "next": "3f275f4a-dfbe-11eb-b29f-0242ac120008-2-8fab-8a69",
       "previous": "c8d97bc2-9a8c-11ec-a1da-0242ac120004-2-ba31-88a8"
      },
      {
       "current": "3f275e28-dfbe-11eb-b29f-0242ac120008-4-405e-a602-5e24-6b06",
       "next": "3f275f4a-dfbe-11eb-b29f-0242ac120008-3-8fab-8a69-7275",
       "previous": "c8d97bc2-9a8c-11ec-a1da-0242ac120004-3-ba31-88a8-febe"
      },
      {
       "current": "3f275e28-dfbe-11eb-b29f-0242ac120008-5-405e-a602-5e24-6b06-feaf",
       "next": "3f275f4a-dfbe-11eb-b29f-0242ac120008-4-8fab-8a69-7275-6817",
       "previous": "c8d97bc2-9a8c-11ec-a1da-0242ac120004-4-ba31-88a8-febe-b9de"
      },
      {
       "current": "3f275e28-dfbe-11eb-b29f-0242ac120008-6-405e-a602-5e24-6b06-feaf-873e",
       "next": "3f275f4a-dfbe-11eb-b29f-0242ac120008-5-8fab-8a69-7275-6817-9605",
       "previous": "c8d97bc2-9a8c-11ec-a1da-0242ac120004-5-ba31-88a8-febe-b9de-1290"
      }
     ],
     "next": "3f275f4a-dfbe-11eb-b29f-0242ac120008-6-8fab-8a69-7275-6817-9605-10ce",
     "previous": "c8d97bc2-9a8c-11ec-a1da-0242ac120004-6-ba31-88a8-febe-b9de-1290-7740"
    }
   },
   "source": [
    "### CentOS9 streamリポジトリ定義"
   ]
  },
  {
   "cell_type": "code",
   "execution_count": null,
   "metadata": {
    "lc_cell_meme": {
     "current": "3f275f4a-dfbe-11eb-b29f-0242ac120008-6-8fab-8a69-7275-6817-9605-10ce",
     "history": [
      {
       "current": "3f275f4a-dfbe-11eb-b29f-0242ac120008-1-8fab",
       "next": "3f276058-dfbe-11eb-b29f-0242ac120008",
       "previous": "3f275e28-dfbe-11eb-b29f-0242ac120008"
      },
      {
       "current": "3f275f4a-dfbe-11eb-b29f-0242ac120008-2-8fab-8a69",
       "next": "3f276058-dfbe-11eb-b29f-0242ac120008-1-d73a",
       "previous": "3f275e28-dfbe-11eb-b29f-0242ac120008-1-405e"
      },
      {
       "current": "3f275f4a-dfbe-11eb-b29f-0242ac120008-3-8fab-8a69-7275",
       "next": "3f276058-dfbe-11eb-b29f-0242ac120008-2-d73a-a161",
       "previous": "3f275e28-dfbe-11eb-b29f-0242ac120008-2-405e-a602"
      },
      {
       "current": "3f275f4a-dfbe-11eb-b29f-0242ac120008-4-8fab-8a69-7275-6817",
       "next": "3f276058-dfbe-11eb-b29f-0242ac120008-3-d73a-a161-f11f",
       "previous": "3f275e28-dfbe-11eb-b29f-0242ac120008-3-405e-a602-5e24"
      },
      {
       "current": "3f275f4a-dfbe-11eb-b29f-0242ac120008-5-8fab-8a69-7275-6817-9605",
       "next": "3f276058-dfbe-11eb-b29f-0242ac120008-4-d73a-a161-f11f-fbfe",
       "previous": "3f275e28-dfbe-11eb-b29f-0242ac120008-4-405e-a602-5e24-6b06"
      },
      {
       "current": "3f275f4a-dfbe-11eb-b29f-0242ac120008-6-8fab-8a69-7275-6817-9605-10ce",
       "next": "3f276058-dfbe-11eb-b29f-0242ac120008-5-d73a-a161-f11f-fbfe-0e56",
       "previous": "3f275e28-dfbe-11eb-b29f-0242ac120008-5-405e-a602-5e24-6b06-feaf"
      }
     ],
     "next": "3f276058-dfbe-11eb-b29f-0242ac120008-6-d73a-a161-f11f-fbfe-0e56-65ce",
     "previous": "3f275e28-dfbe-11eb-b29f-0242ac120008-6-405e-a602-5e24-6b06-feaf-873e"
    }
   },
   "outputs": [],
   "source": [
    "# 世代リポジトリ\n",
    "REPO_GENERATION=\"xxxxxxxx\""
   ]
  },
  {
   "cell_type": "markdown",
   "metadata": {
    "lc_cell_meme": {
     "current": "3f276058-dfbe-11eb-b29f-0242ac120008-6-d73a-a161-f11f-fbfe-0e56-65ce",
     "history": [
      {
       "current": "3f276058-dfbe-11eb-b29f-0242ac120008-1-d73a",
       "next": "3f276166-dfbe-11eb-b29f-0242ac120008",
       "previous": "3f275f4a-dfbe-11eb-b29f-0242ac120008"
      },
      {
       "current": "3f276058-dfbe-11eb-b29f-0242ac120008-2-d73a-a161",
       "next": "3f276166-dfbe-11eb-b29f-0242ac120008-1-a415",
       "previous": "3f275f4a-dfbe-11eb-b29f-0242ac120008-1-8fab"
      },
      {
       "current": "3f276058-dfbe-11eb-b29f-0242ac120008-3-d73a-a161-f11f",
       "next": "3f276166-dfbe-11eb-b29f-0242ac120008-2-a415-20db",
       "previous": "3f275f4a-dfbe-11eb-b29f-0242ac120008-2-8fab-8a69"
      },
      {
       "current": "3f276058-dfbe-11eb-b29f-0242ac120008-4-d73a-a161-f11f-fbfe",
       "next": "3f276166-dfbe-11eb-b29f-0242ac120008-3-a415-20db-3473",
       "previous": "3f275f4a-dfbe-11eb-b29f-0242ac120008-3-8fab-8a69-7275"
      },
      {
       "current": "3f276058-dfbe-11eb-b29f-0242ac120008-5-d73a-a161-f11f-fbfe-0e56",
       "next": "3f276166-dfbe-11eb-b29f-0242ac120008-4-a415-20db-3473-5bb4",
       "previous": "3f275f4a-dfbe-11eb-b29f-0242ac120008-4-8fab-8a69-7275-6817"
      },
      {
       "current": "3f276058-dfbe-11eb-b29f-0242ac120008-6-d73a-a161-f11f-fbfe-0e56-65ce",
       "next": "3f276166-dfbe-11eb-b29f-0242ac120008-5-a415-20db-3473-5bb4-73c3",
       "previous": "3f275f4a-dfbe-11eb-b29f-0242ac120008-5-8fab-8a69-7275-6817-9605"
      }
     ],
     "next": "3f276166-dfbe-11eb-b29f-0242ac120008-6-a415-20db-3473-5bb4-73c3-3471",
     "previous": "3f275f4a-dfbe-11eb-b29f-0242ac120008-6-8fab-8a69-7275-6817-9605-10ce"
    }
   },
   "source": [
    ".repoファイルを一時ディレクトリに作成する。"
   ]
  },
  {
   "cell_type": "code",
   "execution_count": null,
   "metadata": {
    "lc_cell_meme": {
     "current": "3f276166-dfbe-11eb-b29f-0242ac120008-6-a415-20db-3473-5bb4-73c3-3471",
     "history": [
      {
       "current": "3f276166-dfbe-11eb-b29f-0242ac120008-1-a415",
       "next": "3f27626a-dfbe-11eb-b29f-0242ac120008",
       "previous": "3f276058-dfbe-11eb-b29f-0242ac120008"
      },
      {
       "current": "3f276166-dfbe-11eb-b29f-0242ac120008-2-a415-20db",
       "next": "3f27626a-dfbe-11eb-b29f-0242ac120008-1-65de",
       "previous": "3f276058-dfbe-11eb-b29f-0242ac120008-1-d73a"
      },
      {
       "current": "3f276166-dfbe-11eb-b29f-0242ac120008-3-a415-20db-3473",
       "next": "3f27626a-dfbe-11eb-b29f-0242ac120008-2-65de-d5fc",
       "previous": "3f276058-dfbe-11eb-b29f-0242ac120008-2-d73a-a161"
      },
      {
       "current": "3f276166-dfbe-11eb-b29f-0242ac120008-4-a415-20db-3473-5bb4",
       "next": "3f27626a-dfbe-11eb-b29f-0242ac120008-3-65de-d5fc-ea74",
       "previous": "3f276058-dfbe-11eb-b29f-0242ac120008-3-d73a-a161-f11f"
      },
      {
       "current": "3f276166-dfbe-11eb-b29f-0242ac120008-5-a415-20db-3473-5bb4-73c3",
       "next": "3f27626a-dfbe-11eb-b29f-0242ac120008-4-65de-d5fc-ea74-7891",
       "previous": "3f276058-dfbe-11eb-b29f-0242ac120008-4-d73a-a161-f11f-fbfe"
      },
      {
       "current": "3f276166-dfbe-11eb-b29f-0242ac120008-6-a415-20db-3473-5bb4-73c3-3471",
       "next": "3f27626a-dfbe-11eb-b29f-0242ac120008-5-65de-d5fc-ea74-7891-ca8d",
       "previous": "3f276058-dfbe-11eb-b29f-0242ac120008-5-d73a-a161-f11f-fbfe-0e56"
      }
     ],
     "next": "3f27626a-dfbe-11eb-b29f-0242ac120008-6-65de-d5fc-ea74-7891-ca8d-a37d",
     "previous": "3f276058-dfbe-11eb-b29f-0242ac120008-6-d73a-a161-f11f-fbfe-0e56-65ce"
    }
   },
   "outputs": [],
   "source": [
    "!mkdir -p $temp_dir/etc/yum.repos.d/"
   ]
  },
  {
   "cell_type": "code",
   "execution_count": null,
   "metadata": {
    "lc_cell_meme": {
     "current": "3f27626a-dfbe-11eb-b29f-0242ac120008-6-65de-d5fc-ea74-7891-ca8d-a37d",
     "history": [
      {
       "current": "3f27626a-dfbe-11eb-b29f-0242ac120008-1-65de",
       "next": "3f27636e-dfbe-11eb-b29f-0242ac120008",
       "previous": "3f276166-dfbe-11eb-b29f-0242ac120008"
      },
      {
       "current": "3f27626a-dfbe-11eb-b29f-0242ac120008-2-65de-d5fc",
       "next": "3f27636e-dfbe-11eb-b29f-0242ac120008-1-f2db",
       "previous": "3f276166-dfbe-11eb-b29f-0242ac120008-1-a415"
      },
      {
       "current": "3f27626a-dfbe-11eb-b29f-0242ac120008-3-65de-d5fc-ea74",
       "next": "3f27636e-dfbe-11eb-b29f-0242ac120008-2-f2db-736b",
       "previous": "3f276166-dfbe-11eb-b29f-0242ac120008-2-a415-20db"
      },
      {
       "current": "3f27626a-dfbe-11eb-b29f-0242ac120008-4-65de-d5fc-ea74-7891",
       "next": "3f27636e-dfbe-11eb-b29f-0242ac120008-3-f2db-736b-2c88",
       "previous": "3f276166-dfbe-11eb-b29f-0242ac120008-3-a415-20db-3473"
      },
      {
       "current": "3f27626a-dfbe-11eb-b29f-0242ac120008-5-65de-d5fc-ea74-7891-ca8d",
       "next": "3f27636e-dfbe-11eb-b29f-0242ac120008-4-f2db-736b-2c88-fb47",
       "previous": "3f276166-dfbe-11eb-b29f-0242ac120008-4-a415-20db-3473-5bb4"
      },
      {
       "current": "3f27626a-dfbe-11eb-b29f-0242ac120008-6-65de-d5fc-ea74-7891-ca8d-a37d",
       "next": "3f27636e-dfbe-11eb-b29f-0242ac120008-5-f2db-736b-2c88-fb47-150f",
       "previous": "3f276166-dfbe-11eb-b29f-0242ac120008-5-a415-20db-3473-5bb4-73c3"
      }
     ],
     "next": "3f27636e-dfbe-11eb-b29f-0242ac120008-6-f2db-736b-2c88-fb47-150f-296a",
     "previous": "3f276166-dfbe-11eb-b29f-0242ac120008-6-a415-20db-3473-5bb4-73c3-3471"
    }
   },
   "outputs": [],
   "source": [
    "!echo $REPO_GENERATION"
   ]
  },
  {
   "cell_type": "code",
   "execution_count": null,
   "metadata": {
    "lc_cell_meme": {
     "current": "3f27636e-dfbe-11eb-b29f-0242ac120008-6-f2db-736b-2c88-fb47-150f-296a",
     "history": [
      {
       "current": "3f27636e-dfbe-11eb-b29f-0242ac120008",
       "next": "f799b560-dfbd-11eb-b29f-0242ac120008",
       "previous": "3f27626a-dfbe-11eb-b29f-0242ac120008"
      },
      {
       "current": "3f27636e-dfbe-11eb-b29f-0242ac120008-1-f2db",
       "next": "86a75b68-dfbe-11eb-b29f-0242ac120008",
       "previous": "3f27626a-dfbe-11eb-b29f-0242ac120008"
      },
      {
       "current": "3f27636e-dfbe-11eb-b29f-0242ac120008-2-f2db-736b",
       "next": "86a75b68-dfbe-11eb-b29f-0242ac120008-1-67a6",
       "previous": "3f27626a-dfbe-11eb-b29f-0242ac120008-1-65de"
      },
      {
       "current": "3f27636e-dfbe-11eb-b29f-0242ac120008-3-f2db-736b-2c88",
       "next": "86a75b68-dfbe-11eb-b29f-0242ac120008-2-67a6-670d",
       "previous": "3f27626a-dfbe-11eb-b29f-0242ac120008-2-65de-d5fc"
      },
      {
       "current": "3f27636e-dfbe-11eb-b29f-0242ac120008-4-f2db-736b-2c88-fb47",
       "next": "86a75b68-dfbe-11eb-b29f-0242ac120008-3-67a6-670d-0cee",
       "previous": "3f27626a-dfbe-11eb-b29f-0242ac120008-3-65de-d5fc-ea74"
      },
      {
       "current": "3f27636e-dfbe-11eb-b29f-0242ac120008-5-f2db-736b-2c88-fb47-150f",
       "next": "86a75b68-dfbe-11eb-b29f-0242ac120008-4-67a6-670d-0cee-509a",
       "previous": "3f27626a-dfbe-11eb-b29f-0242ac120008-4-65de-d5fc-ea74-7891"
      },
      {
       "current": "3f27636e-dfbe-11eb-b29f-0242ac120008-6-f2db-736b-2c88-fb47-150f-296a",
       "next": "86a75b68-dfbe-11eb-b29f-0242ac120008-5-67a6-670d-0cee-509a-37fd",
       "previous": "3f27626a-dfbe-11eb-b29f-0242ac120008-5-65de-d5fc-ea74-7891-ca8d"
      }
     ],
     "next": "86a75b68-dfbe-11eb-b29f-0242ac120008-6-67a6-670d-0cee-509a-37fd-a1f1",
     "previous": "3f27626a-dfbe-11eb-b29f-0242ac120008-6-65de-d5fc-ea74-7891-ca8d-a37d"
    }
   },
   "outputs": [],
   "source": [
    "import os\n",
    "with open(os.path.join(temp_dir, 'etc/yum.repos.d/centos.repo'), 'w') as f:\n",
    "    f.write('''[baseos]\n",
    "name=CentOS Stream $releasever - BaseOS\n",
    "baseurl=http://{repo_ip}/{nlink}/baseos\n",
    "gpgcheck=0\n",
    "enabled=1\n",
    "\n",
    "[appstream]\n",
    "name=CentOS Stream $releasever - AppStream\n",
    "baseurl=http://{repo_ip}/{nlink}/appstream\n",
    "gpgcheck=0\n",
    "enabled=1\n",
    "'''.format(repo_ip=repo_server,\n",
    "           nlink=REPO_GENERATION))\n",
    "\n",
    "!cat $temp_dir/etc/yum.repos.d/centos.repo"
   ]
  },
  {
   "cell_type": "code",
   "execution_count": null,
   "metadata": {
    "lc_cell_meme": {
     "current": "86a75b68-dfbe-11eb-b29f-0242ac120008-6-67a6-670d-0cee-509a-37fd-a1f1",
     "history": [
      {
       "current": "86a75b68-dfbe-11eb-b29f-0242ac120008",
       "next": "86a75eb0-dfbe-11eb-b29f-0242ac120008",
       "previous": "3f27636e-dfbe-11eb-b29f-0242ac120008"
      },
      {
       "current": "86a75b68-dfbe-11eb-b29f-0242ac120008",
       "next": "86a76504-dfbe-11eb-b29f-0242ac120008",
       "previous": "3f27636e-dfbe-11eb-b29f-0242ac120008"
      },
      {
       "current": "86a75b68-dfbe-11eb-b29f-0242ac120008-1-67a6",
       "next": "f799b560-dfbd-11eb-b29f-0242ac120008-1-e642",
       "previous": "3f27636e-dfbe-11eb-b29f-0242ac120008"
      },
      {
       "current": "86a75b68-dfbe-11eb-b29f-0242ac120008-2-67a6-670d",
       "next": "f799b560-dfbd-11eb-b29f-0242ac120008-2-e642-6f1b",
       "previous": "3f27636e-dfbe-11eb-b29f-0242ac120008-1-f2db"
      },
      {
       "current": "86a75b68-dfbe-11eb-b29f-0242ac120008-2-67a6-670d",
       "next": "f799b560-dfbd-11eb-b29f-0242ac120008-3-e642-6f1b-7989",
       "previous": "3f27636e-dfbe-11eb-b29f-0242ac120008-2-f2db-736b"
      },
      {
       "current": "86a75b68-dfbe-11eb-b29f-0242ac120008-3-67a6-670d-0cee",
       "next": "d95fd536-9283-11ee-91d3-0242ac120006",
       "previous": "3f27636e-dfbe-11eb-b29f-0242ac120008-2-f2db-736b"
      },
      {
       "current": "86a75b68-dfbe-11eb-b29f-0242ac120008-4-67a6-670d-0cee-509a",
       "next": "d95fd536-9283-11ee-91d3-0242ac120006-1-fbe0",
       "previous": "3f27636e-dfbe-11eb-b29f-0242ac120008-3-f2db-736b-2c88"
      },
      {
       "current": "86a75b68-dfbe-11eb-b29f-0242ac120008-5-67a6-670d-0cee-509a-37fd",
       "next": "d95fd536-9283-11ee-91d3-0242ac120006-2-fbe0-2162",
       "previous": "3f27636e-dfbe-11eb-b29f-0242ac120008-4-f2db-736b-2c88-fb47"
      },
      {
       "current": "86a75b68-dfbe-11eb-b29f-0242ac120008-6-67a6-670d-0cee-509a-37fd-a1f1",
       "next": "d95fd536-9283-11ee-91d3-0242ac120006-3-fbe0-2162-367a",
       "previous": "3f27636e-dfbe-11eb-b29f-0242ac120008-5-f2db-736b-2c88-fb47-150f"
      }
     ],
     "next": "d95fd536-9283-11ee-91d3-0242ac120006-4-fbe0-2162-367a-c360",
     "previous": "3f27636e-dfbe-11eb-b29f-0242ac120008-6-f2db-736b-2c88-fb47-150f-296a"
    }
   },
   "outputs": [],
   "source": [
    "with open(os.path.join(temp_dir, 'etc/yum.repos.d/centos-addons.repo'), 'w') as f:\n",
    "    f.write('''[highavailability]\n",
    "name=CentOS Stream $releasever - HighAvailability\n",
    "baseurl=http://{repo_ip}/{nlink}/highavailability\n",
    "gpgcheck=0\n",
    "enabled=1\n",
    "\n",
    "[nfv]\n",
    "name=CentOS Stream $releasever - NFV\n",
    "baseurl=http://{repo_ip}/{nlink}/nfv\n",
    "gpgcheck=0\n",
    "enabled=1\n",
    "\n",
    "[resilientstorage]\n",
    "name=CentOS Stream $releasever - ResilientStorage\n",
    "baseurl=http://{repo_ip}/{nlink}/resilientstorage\n",
    "gpgcheck=0\n",
    "enabled=1\n",
    "\n",
    "[extras-common]\n",
    "name=CentOS Stream $releasever - Extras packages\n",
    "baseurl=http://{repo_ip}/{nlink}/extras-common\n",
    "gpgcheck=0\n",
    "enabled=1\n",
    "'''.format(repo_ip=repo_server,\n",
    "           nlink=REPO_GENERATION))\n",
    "\n",
    "!cat $temp_dir/etc/yum.repos.d/centos-addons.repo"
   ]
  },
  {
   "cell_type": "markdown",
   "metadata": {
    "lc_cell_meme": {
     "current": "d95fd536-9283-11ee-91d3-0242ac120006-4-fbe0-2162-367a-c360",
     "history": [
      {
       "current": "d95fd536-9283-11ee-91d3-0242ac120006",
       "next": "d95fd716-9283-11ee-91d3-0242ac120006",
       "previous": "86a75b68-dfbe-11eb-b29f-0242ac120008-2-67a6-670d"
      },
      {
       "current": "d95fd536-9283-11ee-91d3-0242ac120006-1-fbe0",
       "next": "20fc9e10-9284-11ee-91d3-0242ac120006",
       "previous": "86a75b68-dfbe-11eb-b29f-0242ac120008-2-67a6-670d"
      },
      {
       "current": "d95fd536-9283-11ee-91d3-0242ac120006-2-fbe0-2162",
       "next": "20fc9e10-9284-11ee-91d3-0242ac120006-1-e450",
       "previous": "86a75b68-dfbe-11eb-b29f-0242ac120008-3-67a6-670d-0cee"
      },
      {
       "current": "d95fd536-9283-11ee-91d3-0242ac120006-3-fbe0-2162-367a",
       "next": "20fc9e10-9284-11ee-91d3-0242ac120006-2-e450-1632",
       "previous": "86a75b68-dfbe-11eb-b29f-0242ac120008-4-67a6-670d-0cee-509a"
      },
      {
       "current": "d95fd536-9283-11ee-91d3-0242ac120006-4-fbe0-2162-367a-c360",
       "next": "20fc9e10-9284-11ee-91d3-0242ac120006-3-e450-1632-84af",
       "previous": "86a75b68-dfbe-11eb-b29f-0242ac120008-5-67a6-670d-0cee-509a-37fd"
      }
     ],
     "next": "20fc9e10-9284-11ee-91d3-0242ac120006-4-e450-1632-84af-5d30",
     "previous": "86a75b68-dfbe-11eb-b29f-0242ac120008-6-67a6-670d-0cee-509a-37fd-a1f1"
    }
   },
   "source": [
    "### epelリポジトリ定義"
   ]
  },
  {
   "cell_type": "code",
   "execution_count": null,
   "metadata": {
    "lc_cell_meme": {
     "current": "20fc9e10-9284-11ee-91d3-0242ac120006-4-e450-1632-84af-5d30",
     "history": [
      {
       "current": "20fc9e10-9284-11ee-91d3-0242ac120006",
       "next": "20fc9fa0-9284-11ee-91d3-0242ac120006",
       "previous": "d95fd860-9283-11ee-91d3-0242ac120006"
      },
      {
       "current": "20fc9e10-9284-11ee-91d3-0242ac120006-1-e450",
       "next": "20fc9fa0-9284-11ee-91d3-0242ac120006",
       "previous": "d95fd536-9283-11ee-91d3-0242ac120006"
      },
      {
       "current": "20fc9e10-9284-11ee-91d3-0242ac120006-2-e450-1632",
       "next": "20fc9fa0-9284-11ee-91d3-0242ac120006-1-61c1",
       "previous": "d95fd536-9283-11ee-91d3-0242ac120006-1-fbe0"
      },
      {
       "current": "20fc9e10-9284-11ee-91d3-0242ac120006-3-e450-1632-84af",
       "next": "20fc9fa0-9284-11ee-91d3-0242ac120006-2-61c1-f64e",
       "previous": "d95fd536-9283-11ee-91d3-0242ac120006-2-fbe0-2162"
      },
      {
       "current": "20fc9e10-9284-11ee-91d3-0242ac120006-4-e450-1632-84af-5d30",
       "next": "20fc9fa0-9284-11ee-91d3-0242ac120006-3-61c1-f64e-4004",
       "previous": "d95fd536-9283-11ee-91d3-0242ac120006-3-fbe0-2162-367a"
      }
     ],
     "next": "20fc9fa0-9284-11ee-91d3-0242ac120006-4-61c1-f64e-4004-92e1",
     "previous": "d95fd536-9283-11ee-91d3-0242ac120006-4-fbe0-2162-367a-c360"
    }
   },
   "outputs": [],
   "source": [
    "with open(os.path.join(temp_dir, 'etc/yum.repos.d/epel.repo'), 'w') as f:\n",
    "    f.write('''[epel]\n",
    "#name=Extra Packages for Enterprise Linux $releasever - $basearch\n",
    "# It is much more secure to use the metalink, but if you wish to use a local mirror\n",
    "# place its address here.\n",
    "#baseurl=http://download.example/pub/epel/$releasever/Everything/$basearch/\n",
    "baseurl=http://{repo_ip}/{nlink}/epel/\n",
    "enabled=1\n",
    "gpgcheck=0\n",
    "#countme=1\n",
    "'''.format(repo_ip=repo_server,\n",
    "           nlink=REPO_GENERATION))\n",
    "\n",
    "!cat $temp_dir/etc/yum.repos.d/epel.repo"
   ]
  },
  {
   "cell_type": "markdown",
   "metadata": {
    "lc_cell_meme": {
     "current": "20fc9fa0-9284-11ee-91d3-0242ac120006-4-61c1-f64e-4004-92e1",
     "history": [
      {
       "current": "20fc9fa0-9284-11ee-91d3-0242ac120006",
       "next": "20fca036-9284-11ee-91d3-0242ac120006",
       "previous": "20fc9e10-9284-11ee-91d3-0242ac120006"
      },
      {
       "current": "20fc9fa0-9284-11ee-91d3-0242ac120006-1-61c1",
       "next": "20fca112-9284-11ee-91d3-0242ac120006",
       "previous": "20fc9e10-9284-11ee-91d3-0242ac120006"
      },
      {
       "current": "20fc9fa0-9284-11ee-91d3-0242ac120006-2-61c1-f64e",
       "next": "20fca112-9284-11ee-91d3-0242ac120006-1-66fc",
       "previous": "20fc9e10-9284-11ee-91d3-0242ac120006-1-e450"
      },
      {
       "current": "20fc9fa0-9284-11ee-91d3-0242ac120006-3-61c1-f64e-4004",
       "next": "20fca112-9284-11ee-91d3-0242ac120006-2-66fc-e7e8",
       "previous": "20fc9e10-9284-11ee-91d3-0242ac120006-2-e450-1632"
      },
      {
       "current": "20fc9fa0-9284-11ee-91d3-0242ac120006-4-61c1-f64e-4004-92e1",
       "next": "20fca112-9284-11ee-91d3-0242ac120006-3-66fc-e7e8-30c9",
       "previous": "20fc9e10-9284-11ee-91d3-0242ac120006-3-e450-1632-84af"
      }
     ],
     "next": "20fca112-9284-11ee-91d3-0242ac120006-4-66fc-e7e8-30c9-52d8",
     "previous": "20fc9e10-9284-11ee-91d3-0242ac120006-4-e450-1632-84af-5d30"
    }
   },
   "source": [
    "### epel-nextリポジトリ設定"
   ]
  },
  {
   "cell_type": "code",
   "execution_count": null,
   "metadata": {
    "lc_cell_meme": {
     "current": "20fca112-9284-11ee-91d3-0242ac120006-4-66fc-e7e8-30c9-52d8",
     "history": [
      {
       "current": "20fca112-9284-11ee-91d3-0242ac120006",
       "next": "20fca180-9284-11ee-91d3-0242ac120006",
       "previous": "20fca0ae-9284-11ee-91d3-0242ac120006"
      },
      {
       "current": "20fca112-9284-11ee-91d3-0242ac120006",
       "next": "20fca180-9284-11ee-91d3-0242ac120006",
       "previous": "20fc9fa0-9284-11ee-91d3-0242ac120006"
      },
      {
       "current": "20fca112-9284-11ee-91d3-0242ac120006-1-66fc",
       "next": "f799b560-dfbd-11eb-b29f-0242ac120008-3-e642-6f1b-7989",
       "previous": "20fc9fa0-9284-11ee-91d3-0242ac120006"
      },
      {
       "current": "20fca112-9284-11ee-91d3-0242ac120006-2-66fc-e7e8",
       "next": "f799b560-dfbd-11eb-b29f-0242ac120008-4-e642-6f1b-7989-b981",
       "previous": "20fc9fa0-9284-11ee-91d3-0242ac120006-1-61c1"
      },
      {
       "current": "20fca112-9284-11ee-91d3-0242ac120006-3-66fc-e7e8-30c9",
       "next": "f799b560-dfbd-11eb-b29f-0242ac120008-5-e642-6f1b-7989-b981-6cb6",
       "previous": "20fc9fa0-9284-11ee-91d3-0242ac120006-2-61c1-f64e"
      },
      {
       "current": "20fca112-9284-11ee-91d3-0242ac120006-4-66fc-e7e8-30c9-52d8",
       "next": "f799b560-dfbd-11eb-b29f-0242ac120008-6-e642-6f1b-7989-b981-6cb6-92ef",
       "previous": "20fc9fa0-9284-11ee-91d3-0242ac120006-3-61c1-f64e-4004"
      }
     ],
     "next": "f799b560-dfbd-11eb-b29f-0242ac120008-7-e642-6f1b-7989-b981-6cb6-92ef-7c0c",
     "previous": "20fc9fa0-9284-11ee-91d3-0242ac120006-4-61c1-f64e-4004-92e1"
    }
   },
   "outputs": [],
   "source": [
    "with open(os.path.join(temp_dir, 'etc/yum.repos.d/epel-next.repo'), 'w') as f:\n",
    "    f.write('''[epel-next]\n",
    "#name=Extra Packages for Enterprise Linux $releasever - $basearch\n",
    "# It is much more secure to use the metalink, but if you wish to use a local mirror\n",
    "# place its address here.\n",
    "#baseurl=http://download.example/pub/epel/$releasever/Everything/$basearch/\n",
    "baseurl=http://{repo_ip}/{nlink}/epel-next/\n",
    "enabled=1\n",
    "gpgcheck=0\n",
    "#countme=1\n",
    "'''.format(repo_ip=repo_server,\n",
    "           nlink=REPO_GENERATION))\n",
    "\n",
    "!cat $temp_dir/etc/yum.repos.d/epel-next.repo"
   ]
  },
  {
   "cell_type": "markdown",
   "metadata": {
    "lc_cell_meme": {
     "current": "f799b560-dfbd-11eb-b29f-0242ac120008-7-e642-6f1b-7989-b981-6cb6-92ef-7c0c",
     "history": [
      {
       "current": "f799b560-dfbd-11eb-b29f-0242ac120008",
       "next": "f799b7ae-dfbd-11eb-b29f-0242ac120008",
       "previous": "f799b3e4-dfbd-11eb-b29f-0242ac120008"
      },
      {
       "current": "f799b560-dfbd-11eb-b29f-0242ac120008",
       "next": "f799b7ae-dfbd-11eb-b29f-0242ac120008",
       "previous": "3f27636e-dfbe-11eb-b29f-0242ac120008"
      },
      {
       "current": "f799b560-dfbd-11eb-b29f-0242ac120008-1-e642",
       "next": "86a76676-dfbe-11eb-b29f-0242ac120008",
       "previous": "86a76504-dfbe-11eb-b29f-0242ac120008"
      },
      {
       "current": "f799b560-dfbd-11eb-b29f-0242ac120008-2-e642-6f1b",
       "next": "86a76676-dfbe-11eb-b29f-0242ac120008",
       "previous": "86a75b68-dfbe-11eb-b29f-0242ac120008"
      },
      {
       "current": "f799b560-dfbd-11eb-b29f-0242ac120008-3-e642-6f1b-7989",
       "next": "86a76676-dfbe-11eb-b29f-0242ac120008-1-073a",
       "previous": "86a75b68-dfbe-11eb-b29f-0242ac120008-1-67a6"
      },
      {
       "current": "f799b560-dfbd-11eb-b29f-0242ac120008-3-e642-6f1b-7989",
       "next": "86a76676-dfbe-11eb-b29f-0242ac120008-2-073a-c65e",
       "previous": "86a75b68-dfbe-11eb-b29f-0242ac120008-2-67a6-670d"
      },
      {
       "current": "f799b560-dfbd-11eb-b29f-0242ac120008-3-e642-6f1b-7989",
       "next": "86a76676-dfbe-11eb-b29f-0242ac120008-2-073a-c65e",
       "previous": "d95fd95a-9283-11ee-91d3-0242ac120006"
      },
      {
       "current": "f799b560-dfbd-11eb-b29f-0242ac120008-4-e642-6f1b-7989-b981",
       "next": "86a76676-dfbe-11eb-b29f-0242ac120008-2-073a-c65e",
       "previous": "20fca112-9284-11ee-91d3-0242ac120006"
      },
      {
       "current": "f799b560-dfbd-11eb-b29f-0242ac120008-5-e642-6f1b-7989-b981-6cb6",
       "next": "86a76676-dfbe-11eb-b29f-0242ac120008-3-073a-c65e-db05",
       "previous": "20fca112-9284-11ee-91d3-0242ac120006-1-66fc"
      },
      {
       "current": "f799b560-dfbd-11eb-b29f-0242ac120008-6-e642-6f1b-7989-b981-6cb6-92ef",
       "next": "86a76676-dfbe-11eb-b29f-0242ac120008-4-073a-c65e-db05-f128",
       "previous": "20fca112-9284-11ee-91d3-0242ac120006-2-66fc-e7e8"
      },
      {
       "current": "f799b560-dfbd-11eb-b29f-0242ac120008-7-e642-6f1b-7989-b981-6cb6-92ef-7c0c",
       "next": "86a76676-dfbe-11eb-b29f-0242ac120008-5-073a-c65e-db05-f128-6711",
       "previous": "20fca112-9284-11ee-91d3-0242ac120006-3-66fc-e7e8-30c9"
      }
     ],
     "next": "86a76676-dfbe-11eb-b29f-0242ac120008-6-073a-c65e-db05-f128-6711-eeda",
     "previous": "20fca112-9284-11ee-91d3-0242ac120006-4-66fc-e7e8-30c9-52d8"
    }
   },
   "source": [
    "### Cephリポジトリ定義"
   ]
  },
  {
   "cell_type": "code",
   "execution_count": null,
   "metadata": {
    "lc_cell_meme": {
     "current": "86a76676-dfbe-11eb-b29f-0242ac120008-6-073a-c65e-db05-f128-6711-eeda",
     "history": [
      {
       "current": "86a76676-dfbe-11eb-b29f-0242ac120008",
       "next": "86a767de-dfbe-11eb-b29f-0242ac120008",
       "previous": "f799b560-dfbd-11eb-b29f-0242ac120008"
      },
      {
       "current": "86a76676-dfbe-11eb-b29f-0242ac120008-1-073a",
       "next": "ce2f3546-dfbe-11eb-b29f-0242ac120008",
       "previous": "f799b560-dfbd-11eb-b29f-0242ac120008-1-e642"
      },
      {
       "current": "86a76676-dfbe-11eb-b29f-0242ac120008-2-073a-c65e",
       "next": "ce2f3546-dfbe-11eb-b29f-0242ac120008-1-a460",
       "previous": "f799b560-dfbd-11eb-b29f-0242ac120008-2-e642-6f1b"
      },
      {
       "current": "86a76676-dfbe-11eb-b29f-0242ac120008-3-073a-c65e-db05",
       "next": "ce2f3546-dfbe-11eb-b29f-0242ac120008-2-a460-9617",
       "previous": "f799b560-dfbd-11eb-b29f-0242ac120008-3-e642-6f1b-7989"
      },
      {
       "current": "86a76676-dfbe-11eb-b29f-0242ac120008-4-073a-c65e-db05-f128",
       "next": "ce2f3546-dfbe-11eb-b29f-0242ac120008-3-a460-9617-6215",
       "previous": "f799b560-dfbd-11eb-b29f-0242ac120008-4-e642-6f1b-7989-b981"
      },
      {
       "current": "86a76676-dfbe-11eb-b29f-0242ac120008-5-073a-c65e-db05-f128-6711",
       "next": "ce2f3546-dfbe-11eb-b29f-0242ac120008-4-a460-9617-6215-8a2b",
       "previous": "f799b560-dfbd-11eb-b29f-0242ac120008-5-e642-6f1b-7989-b981-6cb6"
      },
      {
       "current": "86a76676-dfbe-11eb-b29f-0242ac120008-6-073a-c65e-db05-f128-6711-eeda",
       "next": "ce2f3546-dfbe-11eb-b29f-0242ac120008-5-a460-9617-6215-8a2b-8990",
       "previous": "f799b560-dfbd-11eb-b29f-0242ac120008-6-e642-6f1b-7989-b981-6cb6-92ef"
      }
     ],
     "next": "ce2f3546-dfbe-11eb-b29f-0242ac120008-6-a460-9617-6215-8a2b-8990-9562",
     "previous": "f799b560-dfbd-11eb-b29f-0242ac120008-7-e642-6f1b-7989-b981-6cb6-92ef-7c0c"
    }
   },
   "outputs": [],
   "source": [
    "!ansible -i $hosts -b -m shell -a \"ls -la $document_root\" repo_server"
   ]
  },
  {
   "cell_type": "code",
   "execution_count": null,
   "metadata": {
    "lc_cell_meme": {
     "current": "ce2f3546-dfbe-11eb-b29f-0242ac120008-6-a460-9617-6215-8a2b-8990-9562",
     "history": [
      {
       "current": "ce2f3546-dfbe-11eb-b29f-0242ac120008-1-a460",
       "next": "ce2f387a-dfbe-11eb-b29f-0242ac120008",
       "previous": "86a76676-dfbe-11eb-b29f-0242ac120008"
      },
      {
       "current": "ce2f3546-dfbe-11eb-b29f-0242ac120008-2-a460-9617",
       "next": "ce2f387a-dfbe-11eb-b29f-0242ac120008-1-5752",
       "previous": "86a76676-dfbe-11eb-b29f-0242ac120008-1-073a"
      },
      {
       "current": "ce2f3546-dfbe-11eb-b29f-0242ac120008-3-a460-9617-6215",
       "next": "ce2f387a-dfbe-11eb-b29f-0242ac120008-2-5752-0f52",
       "previous": "86a76676-dfbe-11eb-b29f-0242ac120008-2-073a-c65e"
      },
      {
       "current": "ce2f3546-dfbe-11eb-b29f-0242ac120008-4-a460-9617-6215-8a2b",
       "next": "ce2f387a-dfbe-11eb-b29f-0242ac120008-3-5752-0f52-0156",
       "previous": "86a76676-dfbe-11eb-b29f-0242ac120008-3-073a-c65e-db05"
      },
      {
       "current": "ce2f3546-dfbe-11eb-b29f-0242ac120008-5-a460-9617-6215-8a2b-8990",
       "next": "ce2f387a-dfbe-11eb-b29f-0242ac120008-4-5752-0f52-0156-c93d",
       "previous": "86a76676-dfbe-11eb-b29f-0242ac120008-4-073a-c65e-db05-f128"
      },
      {
       "current": "ce2f3546-dfbe-11eb-b29f-0242ac120008-6-a460-9617-6215-8a2b-8990-9562",
       "next": "ce2f387a-dfbe-11eb-b29f-0242ac120008-5-5752-0f52-0156-c93d-6136",
       "previous": "86a76676-dfbe-11eb-b29f-0242ac120008-5-073a-c65e-db05-f128-6711"
      }
     ],
     "next": "ce2f387a-dfbe-11eb-b29f-0242ac120008-6-5752-0f52-0156-c93d-6136-f33c",
     "previous": "86a76676-dfbe-11eb-b29f-0242ac120008-6-073a-c65e-db05-f128-6711-eeda"
    }
   },
   "outputs": [],
   "source": [
    "# 世代リポジトリ\n",
    "REPO_GENERATION=\"xxxxxxxx\""
   ]
  },
  {
   "cell_type": "code",
   "execution_count": null,
   "metadata": {
    "lc_cell_meme": {
     "current": "ce2f387a-dfbe-11eb-b29f-0242ac120008-6-5752-0f52-0156-c93d-6136-f33c",
     "history": [
      {
       "current": "ce2f387a-dfbe-11eb-b29f-0242ac120008-1-5752",
       "next": "ce2f3a50-dfbe-11eb-b29f-0242ac120008",
       "previous": "ce2f3546-dfbe-11eb-b29f-0242ac120008"
      },
      {
       "current": "ce2f387a-dfbe-11eb-b29f-0242ac120008-2-5752-0f52",
       "next": "ce2f3a50-dfbe-11eb-b29f-0242ac120008-1-325a",
       "previous": "ce2f3546-dfbe-11eb-b29f-0242ac120008-1-a460"
      },
      {
       "current": "ce2f387a-dfbe-11eb-b29f-0242ac120008-3-5752-0f52-0156",
       "next": "ce2f3a50-dfbe-11eb-b29f-0242ac120008-2-325a-aefe",
       "previous": "ce2f3546-dfbe-11eb-b29f-0242ac120008-2-a460-9617"
      },
      {
       "current": "ce2f387a-dfbe-11eb-b29f-0242ac120008-4-5752-0f52-0156-c93d",
       "next": "ce2f3a50-dfbe-11eb-b29f-0242ac120008-3-325a-aefe-0dec",
       "previous": "ce2f3546-dfbe-11eb-b29f-0242ac120008-3-a460-9617-6215"
      },
      {
       "current": "ce2f387a-dfbe-11eb-b29f-0242ac120008-5-5752-0f52-0156-c93d-6136",
       "next": "ce2f3a50-dfbe-11eb-b29f-0242ac120008-4-325a-aefe-0dec-68df",
       "previous": "ce2f3546-dfbe-11eb-b29f-0242ac120008-4-a460-9617-6215-8a2b"
      },
      {
       "current": "ce2f387a-dfbe-11eb-b29f-0242ac120008-6-5752-0f52-0156-c93d-6136-f33c",
       "next": "ce2f3a50-dfbe-11eb-b29f-0242ac120008-5-325a-aefe-0dec-68df-5813",
       "previous": "ce2f3546-dfbe-11eb-b29f-0242ac120008-5-a460-9617-6215-8a2b-8990"
      }
     ],
     "next": "ce2f3a50-dfbe-11eb-b29f-0242ac120008-6-325a-aefe-0dec-68df-5813-d09d",
     "previous": "ce2f3546-dfbe-11eb-b29f-0242ac120008-6-a460-9617-6215-8a2b-8990-9562"
    }
   },
   "outputs": [],
   "source": [
    "!echo $REPO_GENERATION"
   ]
  },
  {
   "cell_type": "code",
   "execution_count": null,
   "metadata": {
    "lc_cell_meme": {
     "current": "ce2f3a50-dfbe-11eb-b29f-0242ac120008-6-325a-aefe-0dec-68df-5813-d09d",
     "history": [
      {
       "current": "ce2f3a50-dfbe-11eb-b29f-0242ac120008-1-325a",
       "next": "86a767de-dfbe-11eb-b29f-0242ac120008",
       "previous": "ce2f387a-dfbe-11eb-b29f-0242ac120008"
      },
      {
       "current": "ce2f3a50-dfbe-11eb-b29f-0242ac120008-2-325a-aefe",
       "next": "86a767de-dfbe-11eb-b29f-0242ac120008-1-b161",
       "previous": "ce2f387a-dfbe-11eb-b29f-0242ac120008-1-5752"
      },
      {
       "current": "ce2f3a50-dfbe-11eb-b29f-0242ac120008-3-325a-aefe-0dec",
       "next": "86a767de-dfbe-11eb-b29f-0242ac120008-2-b161-7801",
       "previous": "ce2f387a-dfbe-11eb-b29f-0242ac120008-2-5752-0f52"
      },
      {
       "current": "ce2f3a50-dfbe-11eb-b29f-0242ac120008-4-325a-aefe-0dec-68df",
       "next": "86a767de-dfbe-11eb-b29f-0242ac120008-3-b161-7801-c4b9",
       "previous": "ce2f387a-dfbe-11eb-b29f-0242ac120008-3-5752-0f52-0156"
      },
      {
       "current": "ce2f3a50-dfbe-11eb-b29f-0242ac120008-5-325a-aefe-0dec-68df-5813",
       "next": "86a767de-dfbe-11eb-b29f-0242ac120008-4-b161-7801-c4b9-ce8d",
       "previous": "ce2f387a-dfbe-11eb-b29f-0242ac120008-4-5752-0f52-0156-c93d"
      },
      {
       "current": "ce2f3a50-dfbe-11eb-b29f-0242ac120008-6-325a-aefe-0dec-68df-5813-d09d",
       "next": "86a767de-dfbe-11eb-b29f-0242ac120008-5-b161-7801-c4b9-ce8d-e622",
       "previous": "ce2f387a-dfbe-11eb-b29f-0242ac120008-5-5752-0f52-0156-c93d-6136"
      }
     ],
     "next": "86a767de-dfbe-11eb-b29f-0242ac120008-6-b161-7801-c4b9-ce8d-e622-6071",
     "previous": "ce2f387a-dfbe-11eb-b29f-0242ac120008-6-5752-0f52-0156-c93d-6136-f33c"
    }
   },
   "outputs": [],
   "source": [
    "!ansible -i $hosts -b -m shell -a \"ls -la $document_root/$REPO_GENERATION\" repo_server"
   ]
  },
  {
   "cell_type": "code",
   "execution_count": null,
   "metadata": {
    "lc_cell_meme": {
     "current": "86a767de-dfbe-11eb-b29f-0242ac120008-6-b161-7801-c4b9-ce8d-e622-6071",
     "history": [
      {
       "current": "86a767de-dfbe-11eb-b29f-0242ac120008",
       "next": "86a76950-dfbe-11eb-b29f-0242ac120008",
       "previous": "86a76676-dfbe-11eb-b29f-0242ac120008"
      },
      {
       "current": "86a767de-dfbe-11eb-b29f-0242ac120008",
       "next": "86a76950-dfbe-11eb-b29f-0242ac120008",
       "previous": "ce2f3a50-dfbe-11eb-b29f-0242ac120008"
      },
      {
       "current": "86a767de-dfbe-11eb-b29f-0242ac120008-1-b161",
       "next": "eb7bfd76-1165-11ed-a1da-0242ac120004",
       "previous": "ce2f3a50-dfbe-11eb-b29f-0242ac120008"
      },
      {
       "current": "86a767de-dfbe-11eb-b29f-0242ac120008-2-b161-7801",
       "next": "eb7bfd76-1165-11ed-a1da-0242ac120004-1-5f96",
       "previous": "ce2f3a50-dfbe-11eb-b29f-0242ac120008-1-325a"
      },
      {
       "current": "86a767de-dfbe-11eb-b29f-0242ac120008-3-b161-7801-c4b9",
       "next": "eb7bfd76-1165-11ed-a1da-0242ac120004-2-5f96-2768",
       "previous": "ce2f3a50-dfbe-11eb-b29f-0242ac120008-2-325a-aefe"
      },
      {
       "current": "86a767de-dfbe-11eb-b29f-0242ac120008-4-b161-7801-c4b9-ce8d",
       "next": "eb7bfd76-1165-11ed-a1da-0242ac120004-3-5f96-2768-63e3",
       "previous": "ce2f3a50-dfbe-11eb-b29f-0242ac120008-3-325a-aefe-0dec"
      },
      {
       "current": "86a767de-dfbe-11eb-b29f-0242ac120008-5-b161-7801-c4b9-ce8d-e622",
       "next": "eb7bfd76-1165-11ed-a1da-0242ac120004-4-5f96-2768-63e3-da7d",
       "previous": "ce2f3a50-dfbe-11eb-b29f-0242ac120008-4-325a-aefe-0dec-68df"
      },
      {
       "current": "86a767de-dfbe-11eb-b29f-0242ac120008-6-b161-7801-c4b9-ce8d-e622-6071",
       "next": "eb7bfd76-1165-11ed-a1da-0242ac120004-5-5f96-2768-63e3-da7d-4270",
       "previous": "ce2f3a50-dfbe-11eb-b29f-0242ac120008-5-325a-aefe-0dec-68df-5813"
      }
     ],
     "next": "eb7bfd76-1165-11ed-a1da-0242ac120004-6-5f96-2768-63e3-da7d-4270-2d6f",
     "previous": "ce2f3a50-dfbe-11eb-b29f-0242ac120008-6-325a-aefe-0dec-68df-5813-d09d"
    }
   },
   "outputs": [],
   "source": [
    "with open(os.path.join(temp_dir, 'etc/yum.repos.d/centos-ceph-quincy.repo'), 'w') as f:\n",
    "    f.write('''[centos-ceph-quincy]\n",
    "name=CentOS-$releasever - Ceph Quincy\n",
    "baseurl=http://{repo_ip}/{nlink}/centos-ceph-quincy\n",
    "gpgcheck=0\n",
    "enabled=1\n",
    "'''.format(repo_ip=repo_server,\n",
    "           nlink=REPO_GENERATION))\n",
    "\n",
    "!cat $temp_dir/etc/yum.repos.d/centos-ceph-quincy.repo"
   ]
  },
  {
   "cell_type": "code",
   "execution_count": null,
   "metadata": {
    "lc_cell_meme": {
     "current": "eb7bfd76-1165-11ed-a1da-0242ac120004-6-5f96-2768-63e3-da7d-4270-2d6f",
     "history": [
      {
       "current": "eb7bfd76-1165-11ed-a1da-0242ac120004",
       "next": "eb7c0136-1165-11ed-a1da-0242ac120004",
       "previous": "86a767de-dfbe-11eb-b29f-0242ac120008"
      },
      {
       "current": "eb7bfd76-1165-11ed-a1da-0242ac120004-1-5f96",
       "next": "eb7c0136-1165-11ed-a1da-0242ac120004-1-e7ab",
       "previous": "86a767de-dfbe-11eb-b29f-0242ac120008"
      },
      {
       "current": "eb7bfd76-1165-11ed-a1da-0242ac120004-2-5f96-2768",
       "next": "eb7c0136-1165-11ed-a1da-0242ac120004-2-e7ab-d063",
       "previous": "86a767de-dfbe-11eb-b29f-0242ac120008-1-b161"
      },
      {
       "current": "eb7bfd76-1165-11ed-a1da-0242ac120004-3-5f96-2768-63e3",
       "next": "eb7c0136-1165-11ed-a1da-0242ac120004-3-e7ab-d063-f23d",
       "previous": "86a767de-dfbe-11eb-b29f-0242ac120008-2-b161-7801"
      },
      {
       "current": "eb7bfd76-1165-11ed-a1da-0242ac120004-4-5f96-2768-63e3-da7d",
       "next": "eb7c0136-1165-11ed-a1da-0242ac120004-4-e7ab-d063-f23d-d5b0",
       "previous": "86a767de-dfbe-11eb-b29f-0242ac120008-3-b161-7801-c4b9"
      },
      {
       "current": "eb7bfd76-1165-11ed-a1da-0242ac120004-5-5f96-2768-63e3-da7d-4270",
       "next": "eb7c0136-1165-11ed-a1da-0242ac120004-5-e7ab-d063-f23d-d5b0-145d",
       "previous": "86a767de-dfbe-11eb-b29f-0242ac120008-4-b161-7801-c4b9-ce8d"
      },
      {
       "current": "eb7bfd76-1165-11ed-a1da-0242ac120004-6-5f96-2768-63e3-da7d-4270-2d6f",
       "next": "eb7c0136-1165-11ed-a1da-0242ac120004-6-e7ab-d063-f23d-d5b0-145d-513c",
       "previous": "86a767de-dfbe-11eb-b29f-0242ac120008-5-b161-7801-c4b9-ce8d-e622"
      }
     ],
     "next": "eb7c0136-1165-11ed-a1da-0242ac120004-7-e7ab-d063-f23d-d5b0-145d-513c-b5a0",
     "previous": "86a767de-dfbe-11eb-b29f-0242ac120008-6-b161-7801-c4b9-ce8d-e622-6071"
    }
   },
   "outputs": [],
   "source": [
    "with open(os.path.join(temp_dir, 'etc/yum.repos.d/centos-nfv-openvswitch.repo'), 'w') as f:\n",
    "    f.write('''[centos-nfv-openvswitch.repo]\n",
    "name=CentOS-$releasever - NFV OpenvSwitch\n",
    "baseurl=http://{repo_ip}/{nlink}/centos-nfv-openvswitch\n",
    "gpgcheck=0\n",
    "enabled=1\n",
    "'''.format(repo_ip=repo_server,\n",
    "           nlink=REPO_GENERATION))\n",
    "\n",
    "!cat $temp_dir/etc/yum.repos.d/centos-nfv-openvswitch.repo"
   ]
  },
  {
   "cell_type": "markdown",
   "metadata": {
    "lc_cell_meme": {
     "current": "eb7c0136-1165-11ed-a1da-0242ac120004-7-e7ab-d063-f23d-d5b0-145d-513c-b5a0",
     "history": [
      {
       "current": "eb7c0136-1165-11ed-a1da-0242ac120004-1-e7ab",
       "next": "eb7c03b6-1165-11ed-a1da-0242ac120004",
       "previous": "eb7bfd76-1165-11ed-a1da-0242ac120004"
      },
      {
       "current": "eb7c0136-1165-11ed-a1da-0242ac120004-2-e7ab-d063",
       "next": "eb7c03b6-1165-11ed-a1da-0242ac120004-1-3495",
       "previous": "eb7bfd76-1165-11ed-a1da-0242ac120004"
      },
      {
       "current": "eb7c0136-1165-11ed-a1da-0242ac120004-3-e7ab-d063-f23d",
       "next": "eb7c03b6-1165-11ed-a1da-0242ac120004-2-3495-428d",
       "previous": "eb7bfd76-1165-11ed-a1da-0242ac120004-1-5f96"
      },
      {
       "current": "eb7c0136-1165-11ed-a1da-0242ac120004-4-e7ab-d063-f23d-d5b0",
       "next": "eb7c03b6-1165-11ed-a1da-0242ac120004-3-3495-428d-85c5",
       "previous": "eb7bfd76-1165-11ed-a1da-0242ac120004-2-5f96-2768"
      },
      {
       "current": "eb7c0136-1165-11ed-a1da-0242ac120004-5-e7ab-d063-f23d-d5b0-145d",
       "next": "eb7c03b6-1165-11ed-a1da-0242ac120004-4-3495-428d-85c5-34dd",
       "previous": "eb7bfd76-1165-11ed-a1da-0242ac120004-3-5f96-2768-63e3"
      },
      {
       "current": "eb7c0136-1165-11ed-a1da-0242ac120004-6-e7ab-d063-f23d-d5b0-145d-513c",
       "next": "eb7c03b6-1165-11ed-a1da-0242ac120004-5-3495-428d-85c5-34dd-7c65",
       "previous": "eb7bfd76-1165-11ed-a1da-0242ac120004-4-5f96-2768-63e3-da7d"
      },
      {
       "current": "eb7c0136-1165-11ed-a1da-0242ac120004-7-e7ab-d063-f23d-d5b0-145d-513c-b5a0",
       "next": "eb7c03b6-1165-11ed-a1da-0242ac120004-6-3495-428d-85c5-34dd-7c65-35b7",
       "previous": "eb7bfd76-1165-11ed-a1da-0242ac120004-5-5f96-2768-63e3-da7d-4270"
      }
     ],
     "next": "eb7c03b6-1165-11ed-a1da-0242ac120004-7-3495-428d-85c5-34dd-7c65-35b7-57f7",
     "previous": "eb7bfd76-1165-11ed-a1da-0242ac120004-6-5f96-2768-63e3-da7d-4270-2d6f"
    }
   },
   "source": [
    "## リポジトリファイル転送"
   ]
  },
  {
   "cell_type": "markdown",
   "metadata": {
    "lc_cell_meme": {
     "current": "eb7c03b6-1165-11ed-a1da-0242ac120004-7-3495-428d-85c5-34dd-7c65-35b7-57f7",
     "history": [
      {
       "current": "eb7c03b6-1165-11ed-a1da-0242ac120004-1-3495",
       "next": "eb7c0546-1165-11ed-a1da-0242ac120004",
       "previous": "eb7c0136-1165-11ed-a1da-0242ac120004"
      },
      {
       "current": "eb7c03b6-1165-11ed-a1da-0242ac120004-2-3495-428d",
       "next": "eb7c0546-1165-11ed-a1da-0242ac120004",
       "previous": "eb7c0136-1165-11ed-a1da-0242ac120004-1-e7ab"
      },
      {
       "current": "eb7c03b6-1165-11ed-a1da-0242ac120004-3-3495-428d-85c5",
       "next": "eb7c0546-1165-11ed-a1da-0242ac120004-1-5e56",
       "previous": "eb7c0136-1165-11ed-a1da-0242ac120004-2-e7ab-d063"
      },
      {
       "current": "eb7c03b6-1165-11ed-a1da-0242ac120004-4-3495-428d-85c5-34dd",
       "next": "eb7c0546-1165-11ed-a1da-0242ac120004-2-5e56-2e46",
       "previous": "eb7c0136-1165-11ed-a1da-0242ac120004-3-e7ab-d063-f23d"
      },
      {
       "current": "eb7c03b6-1165-11ed-a1da-0242ac120004-5-3495-428d-85c5-34dd-7c65",
       "next": "eb7c0546-1165-11ed-a1da-0242ac120004-3-5e56-2e46-9cd2",
       "previous": "eb7c0136-1165-11ed-a1da-0242ac120004-4-e7ab-d063-f23d-d5b0"
      },
      {
       "current": "eb7c03b6-1165-11ed-a1da-0242ac120004-6-3495-428d-85c5-34dd-7c65-35b7",
       "next": "eb7c0546-1165-11ed-a1da-0242ac120004-4-5e56-2e46-9cd2-bc64",
       "previous": "eb7c0136-1165-11ed-a1da-0242ac120004-5-e7ab-d063-f23d-d5b0-145d"
      },
      {
       "current": "eb7c03b6-1165-11ed-a1da-0242ac120004-7-3495-428d-85c5-34dd-7c65-35b7-57f7",
       "next": "eb7c0546-1165-11ed-a1da-0242ac120004-5-5e56-2e46-9cd2-bc64-a992",
       "previous": "eb7c0136-1165-11ed-a1da-0242ac120004-6-e7ab-d063-f23d-d5b0-145d-513c"
      }
     ],
     "next": "eb7c0546-1165-11ed-a1da-0242ac120004-6-5e56-2e46-9cd2-bc64-a992-2c24",
     "previous": "eb7c0136-1165-11ed-a1da-0242ac120004-7-e7ab-d063-f23d-d5b0-145d-513c-b5a0"
    }
   },
   "source": [
    "### 元のリポジトリファイルの無効化"
   ]
  },
  {
   "cell_type": "code",
   "execution_count": null,
   "metadata": {
    "lc_cell_meme": {
     "current": "eb7c0546-1165-11ed-a1da-0242ac120004-6-5e56-2e46-9cd2-bc64-a992-2c24",
     "history": [
      {
       "current": "eb7c0546-1165-11ed-a1da-0242ac120004",
       "next": "eb7c06a4-1165-11ed-a1da-0242ac120004",
       "previous": "eb7c03b6-1165-11ed-a1da-0242ac120004"
      },
      {
       "current": "eb7c0546-1165-11ed-a1da-0242ac120004-1-5e56",
       "next": "eb7c06a4-1165-11ed-a1da-0242ac120004",
       "previous": "eb7c03b6-1165-11ed-a1da-0242ac120004-1-3495"
      },
      {
       "current": "eb7c0546-1165-11ed-a1da-0242ac120004-2-5e56-2e46",
       "next": "eb7c06a4-1165-11ed-a1da-0242ac120004-1-2498",
       "previous": "eb7c03b6-1165-11ed-a1da-0242ac120004-2-3495-428d"
      },
      {
       "current": "eb7c0546-1165-11ed-a1da-0242ac120004-3-5e56-2e46-9cd2",
       "next": "eb7c06a4-1165-11ed-a1da-0242ac120004-2-2498-b04f",
       "previous": "eb7c03b6-1165-11ed-a1da-0242ac120004-3-3495-428d-85c5"
      },
      {
       "current": "eb7c0546-1165-11ed-a1da-0242ac120004-4-5e56-2e46-9cd2-bc64",
       "next": "eb7c06a4-1165-11ed-a1da-0242ac120004-3-2498-b04f-816f",
       "previous": "eb7c03b6-1165-11ed-a1da-0242ac120004-4-3495-428d-85c5-34dd"
      },
      {
       "current": "eb7c0546-1165-11ed-a1da-0242ac120004-5-5e56-2e46-9cd2-bc64-a992",
       "next": "eb7c06a4-1165-11ed-a1da-0242ac120004-4-2498-b04f-816f-af06",
       "previous": "eb7c03b6-1165-11ed-a1da-0242ac120004-5-3495-428d-85c5-34dd-7c65"
      },
      {
       "current": "eb7c0546-1165-11ed-a1da-0242ac120004-6-5e56-2e46-9cd2-bc64-a992-2c24",
       "next": "eb7c06a4-1165-11ed-a1da-0242ac120004-5-2498-b04f-816f-af06-ddfa",
       "previous": "eb7c03b6-1165-11ed-a1da-0242ac120004-6-3495-428d-85c5-34dd-7c65-35b7"
      }
     ],
     "next": "eb7c06a4-1165-11ed-a1da-0242ac120004-6-2498-b04f-816f-af06-ddfa-3340",
     "previous": "eb7c03b6-1165-11ed-a1da-0242ac120004-7-3495-428d-85c5-34dd-7c65-35b7-57f7"
    }
   },
   "outputs": [],
   "source": [
    "!ansible -i $hosts -b -m shell -a \"ls -la /etc/yum.repos.d\" ceph_node"
   ]
  },
  {
   "cell_type": "code",
   "execution_count": null,
   "metadata": {
    "lc_cell_meme": {
     "current": "eb7c06a4-1165-11ed-a1da-0242ac120004-6-2498-b04f-816f-af06-ddfa-3340",
     "history": [
      {
       "current": "eb7c06a4-1165-11ed-a1da-0242ac120004-1-2498",
       "next": "eb7c07f8-1165-11ed-a1da-0242ac120004",
       "previous": "eb7c0546-1165-11ed-a1da-0242ac120004"
      },
      {
       "current": "eb7c06a4-1165-11ed-a1da-0242ac120004-2-2498-b04f",
       "next": "eb7c07f8-1165-11ed-a1da-0242ac120004-1-5d02",
       "previous": "eb7c0546-1165-11ed-a1da-0242ac120004-1-5e56"
      },
      {
       "current": "eb7c06a4-1165-11ed-a1da-0242ac120004-3-2498-b04f-816f",
       "next": "eb7c07f8-1165-11ed-a1da-0242ac120004-2-5d02-d6dd",
       "previous": "eb7c0546-1165-11ed-a1da-0242ac120004-2-5e56-2e46"
      },
      {
       "current": "eb7c06a4-1165-11ed-a1da-0242ac120004-4-2498-b04f-816f-af06",
       "next": "eb7c07f8-1165-11ed-a1da-0242ac120004-3-5d02-d6dd-844d",
       "previous": "eb7c0546-1165-11ed-a1da-0242ac120004-3-5e56-2e46-9cd2"
      },
      {
       "current": "eb7c06a4-1165-11ed-a1da-0242ac120004-5-2498-b04f-816f-af06-ddfa",
       "next": "eb7c07f8-1165-11ed-a1da-0242ac120004-4-5d02-d6dd-844d-a9ec",
       "previous": "eb7c0546-1165-11ed-a1da-0242ac120004-4-5e56-2e46-9cd2-bc64"
      },
      {
       "current": "eb7c06a4-1165-11ed-a1da-0242ac120004-6-2498-b04f-816f-af06-ddfa-3340",
       "next": "eb7c07f8-1165-11ed-a1da-0242ac120004-5-5d02-d6dd-844d-a9ec-ac26",
       "previous": "eb7c0546-1165-11ed-a1da-0242ac120004-5-5e56-2e46-9cd2-bc64-a992"
      }
     ],
     "next": "eb7c07f8-1165-11ed-a1da-0242ac120004-6-5d02-d6dd-844d-a9ec-ac26-051b",
     "previous": "eb7c0546-1165-11ed-a1da-0242ac120004-6-5e56-2e46-9cd2-bc64-a992-2c24"
    }
   },
   "outputs": [],
   "source": [
    "!ansible -i $hosts -b -m shell -a \"mv /etc/yum.repos.d/centos.repo /etc/yum.repos.d/centos.repo.rpmsave\" ceph_node"
   ]
  },
  {
   "cell_type": "code",
   "execution_count": null,
   "metadata": {
    "lc_cell_meme": {
     "current": "eb7c07f8-1165-11ed-a1da-0242ac120004-6-5d02-d6dd-844d-a9ec-ac26-051b",
     "history": [
      {
       "current": "eb7c07f8-1165-11ed-a1da-0242ac120004-1-5d02",
       "next": "eb7c0956-1165-11ed-a1da-0242ac120004",
       "previous": "eb7c06a4-1165-11ed-a1da-0242ac120004"
      },
      {
       "current": "eb7c07f8-1165-11ed-a1da-0242ac120004-2-5d02-d6dd",
       "next": "eb7c0956-1165-11ed-a1da-0242ac120004-1-384f",
       "previous": "eb7c06a4-1165-11ed-a1da-0242ac120004-1-2498"
      },
      {
       "current": "eb7c07f8-1165-11ed-a1da-0242ac120004-2-5d02-d6dd",
       "next": "eb7c0956-1165-11ed-a1da-0242ac120004-2-384f-54cf",
       "previous": "eb7c06a4-1165-11ed-a1da-0242ac120004-2-2498-b04f"
      },
      {
       "current": "eb7c07f8-1165-11ed-a1da-0242ac120004-3-5d02-d6dd-844d",
       "next": "8c422d6e-9308-11ee-91d3-0242ac120006",
       "previous": "eb7c06a4-1165-11ed-a1da-0242ac120004-2-2498-b04f"
      },
      {
       "current": "eb7c07f8-1165-11ed-a1da-0242ac120004-4-5d02-d6dd-844d-a9ec",
       "next": "8c422d6e-9308-11ee-91d3-0242ac120006-1-fe86",
       "previous": "eb7c06a4-1165-11ed-a1da-0242ac120004-3-2498-b04f-816f"
      },
      {
       "current": "eb7c07f8-1165-11ed-a1da-0242ac120004-5-5d02-d6dd-844d-a9ec-ac26",
       "next": "8c422d6e-9308-11ee-91d3-0242ac120006-2-fe86-8c76",
       "previous": "eb7c06a4-1165-11ed-a1da-0242ac120004-4-2498-b04f-816f-af06"
      },
      {
       "current": "eb7c07f8-1165-11ed-a1da-0242ac120004-6-5d02-d6dd-844d-a9ec-ac26-051b",
       "next": "8c422d6e-9308-11ee-91d3-0242ac120006-3-fe86-8c76-27d1",
       "previous": "eb7c06a4-1165-11ed-a1da-0242ac120004-5-2498-b04f-816f-af06-ddfa"
      }
     ],
     "next": "8c422d6e-9308-11ee-91d3-0242ac120006-4-fe86-8c76-27d1-18b2",
     "previous": "eb7c06a4-1165-11ed-a1da-0242ac120004-6-2498-b04f-816f-af06-ddfa-3340"
    }
   },
   "outputs": [],
   "source": [
    "!ansible -i $hosts -b -m shell -a \"mv /etc/yum.repos.d/centos-addons.repo /etc/yum.repos.d/centos-addons.repo.rpmsave\" ceph_node"
   ]
  },
  {
   "cell_type": "code",
   "execution_count": null,
   "metadata": {
    "lc_cell_meme": {
     "current": "8c422d6e-9308-11ee-91d3-0242ac120006-4-fe86-8c76-27d1-18b2",
     "history": [
      {
       "current": "8c422d6e-9308-11ee-91d3-0242ac120006-1-fe86",
       "next": "8c423002-9308-11ee-91d3-0242ac120006",
       "previous": "eb7c07f8-1165-11ed-a1da-0242ac120004-2-5d02-d6dd"
      },
      {
       "current": "8c422d6e-9308-11ee-91d3-0242ac120006-2-fe86-8c76",
       "next": "8c423002-9308-11ee-91d3-0242ac120006-1-1542",
       "previous": "eb7c07f8-1165-11ed-a1da-0242ac120004-3-5d02-d6dd-844d"
      },
      {
       "current": "8c422d6e-9308-11ee-91d3-0242ac120006-3-fe86-8c76-27d1",
       "next": "8c423002-9308-11ee-91d3-0242ac120006-2-1542-3139",
       "previous": "eb7c07f8-1165-11ed-a1da-0242ac120004-4-5d02-d6dd-844d-a9ec"
      },
      {
       "current": "8c422d6e-9308-11ee-91d3-0242ac120006-4-fe86-8c76-27d1-18b2",
       "next": "8c423002-9308-11ee-91d3-0242ac120006-3-1542-3139-4b8f",
       "previous": "eb7c07f8-1165-11ed-a1da-0242ac120004-5-5d02-d6dd-844d-a9ec-ac26"
      }
     ],
     "next": "8c423002-9308-11ee-91d3-0242ac120006-4-1542-3139-4b8f-ea03",
     "previous": "eb7c07f8-1165-11ed-a1da-0242ac120004-6-5d02-d6dd-844d-a9ec-ac26-051b"
    }
   },
   "outputs": [],
   "source": [
    "!ansible -i $hosts -b -m shell -a \"mv /etc/yum.repos.d/epel-cisco-openh264.repo /etc/yum.repos.d/epel-cisco-openh264.repo.rpmsave\" ceph_node"
   ]
  },
  {
   "cell_type": "code",
   "execution_count": null,
   "metadata": {
    "lc_cell_meme": {
     "current": "8c423002-9308-11ee-91d3-0242ac120006-4-1542-3139-4b8f-ea03",
     "history": [
      {
       "current": "8c423002-9308-11ee-91d3-0242ac120006-1-1542",
       "next": "8c4230b6-9308-11ee-91d3-0242ac120006",
       "previous": "8c422d6e-9308-11ee-91d3-0242ac120006"
      },
      {
       "current": "8c423002-9308-11ee-91d3-0242ac120006-2-1542-3139",
       "next": "8c4230b6-9308-11ee-91d3-0242ac120006-1-7b61",
       "previous": "8c422d6e-9308-11ee-91d3-0242ac120006-1-fe86"
      },
      {
       "current": "8c423002-9308-11ee-91d3-0242ac120006-3-1542-3139-4b8f",
       "next": "8c4230b6-9308-11ee-91d3-0242ac120006-2-7b61-9d99",
       "previous": "8c422d6e-9308-11ee-91d3-0242ac120006-2-fe86-8c76"
      },
      {
       "current": "8c423002-9308-11ee-91d3-0242ac120006-4-1542-3139-4b8f-ea03",
       "next": "8c4230b6-9308-11ee-91d3-0242ac120006-3-7b61-9d99-448b",
       "previous": "8c422d6e-9308-11ee-91d3-0242ac120006-3-fe86-8c76-27d1"
      }
     ],
     "next": "8c4230b6-9308-11ee-91d3-0242ac120006-4-7b61-9d99-448b-fb6d",
     "previous": "8c422d6e-9308-11ee-91d3-0242ac120006-4-fe86-8c76-27d1-18b2"
    }
   },
   "outputs": [],
   "source": [
    "!ansible -i $hosts -b -m shell -a \"mv /etc/yum.repos.d/epel-next.repo /etc/yum.repos.d/epel-next.repo.rpmsave\" ceph_node"
   ]
  },
  {
   "cell_type": "code",
   "execution_count": null,
   "metadata": {
    "lc_cell_meme": {
     "current": "8c4230b6-9308-11ee-91d3-0242ac120006-4-7b61-9d99-448b-fb6d",
     "history": [
      {
       "current": "8c4230b6-9308-11ee-91d3-0242ac120006-1-7b61",
       "next": "8c423250-9308-11ee-91d3-0242ac120006",
       "previous": "8c423002-9308-11ee-91d3-0242ac120006"
      },
      {
       "current": "8c4230b6-9308-11ee-91d3-0242ac120006-2-7b61-9d99",
       "next": "8c423250-9308-11ee-91d3-0242ac120006-1-a6d7",
       "previous": "8c423002-9308-11ee-91d3-0242ac120006-1-1542"
      },
      {
       "current": "8c4230b6-9308-11ee-91d3-0242ac120006-3-7b61-9d99-448b",
       "next": "8c423250-9308-11ee-91d3-0242ac120006-2-a6d7-11ea",
       "previous": "8c423002-9308-11ee-91d3-0242ac120006-2-1542-3139"
      },
      {
       "current": "8c4230b6-9308-11ee-91d3-0242ac120006-4-7b61-9d99-448b-fb6d",
       "next": "8c423250-9308-11ee-91d3-0242ac120006-3-a6d7-11ea-fb7e",
       "previous": "8c423002-9308-11ee-91d3-0242ac120006-3-1542-3139-4b8f"
      }
     ],
     "next": "8c423250-9308-11ee-91d3-0242ac120006-4-a6d7-11ea-fb7e-2c80",
     "previous": "8c423002-9308-11ee-91d3-0242ac120006-4-1542-3139-4b8f-ea03"
    }
   },
   "outputs": [],
   "source": [
    "!ansible -i $hosts -b -m shell -a \"mv /etc/yum.repos.d/epel-next-testing.repo /etc/yum.repos.d/epel-next-testing.repo.rpmsave\" ceph_node"
   ]
  },
  {
   "cell_type": "code",
   "execution_count": null,
   "metadata": {
    "lc_cell_meme": {
     "current": "8c423250-9308-11ee-91d3-0242ac120006-4-a6d7-11ea-fb7e-2c80",
     "history": [
      {
       "current": "8c423250-9308-11ee-91d3-0242ac120006-1-a6d7",
       "next": "8c4232d2-9308-11ee-91d3-0242ac120006",
       "previous": "8c4230b6-9308-11ee-91d3-0242ac120006"
      },
      {
       "current": "8c423250-9308-11ee-91d3-0242ac120006-2-a6d7-11ea",
       "next": "8c4232d2-9308-11ee-91d3-0242ac120006-1-04ad",
       "previous": "8c4230b6-9308-11ee-91d3-0242ac120006-1-7b61"
      },
      {
       "current": "8c423250-9308-11ee-91d3-0242ac120006-3-a6d7-11ea-fb7e",
       "next": "8c4232d2-9308-11ee-91d3-0242ac120006-2-04ad-94e4",
       "previous": "8c4230b6-9308-11ee-91d3-0242ac120006-2-7b61-9d99"
      },
      {
       "current": "8c423250-9308-11ee-91d3-0242ac120006-4-a6d7-11ea-fb7e-2c80",
       "next": "8c4232d2-9308-11ee-91d3-0242ac120006-3-04ad-94e4-e2f7",
       "previous": "8c4230b6-9308-11ee-91d3-0242ac120006-3-7b61-9d99-448b"
      }
     ],
     "next": "8c4232d2-9308-11ee-91d3-0242ac120006-4-04ad-94e4-e2f7-86f6",
     "previous": "8c4230b6-9308-11ee-91d3-0242ac120006-4-7b61-9d99-448b-fb6d"
    }
   },
   "outputs": [],
   "source": [
    "!ansible -i $hosts -b -m shell -a \"mv /etc/yum.repos.d/epel.repo /etc/yum.repos.d/epel.repo.rpmsave\" ceph_node"
   ]
  },
  {
   "cell_type": "code",
   "execution_count": null,
   "metadata": {
    "lc_cell_meme": {
     "current": "8c4232d2-9308-11ee-91d3-0242ac120006-4-04ad-94e4-e2f7-86f6",
     "history": [
      {
       "current": "8c4232d2-9308-11ee-91d3-0242ac120006-1-04ad",
       "next": "8c423354-9308-11ee-91d3-0242ac120006",
       "previous": "8c423250-9308-11ee-91d3-0242ac120006"
      },
      {
       "current": "8c4232d2-9308-11ee-91d3-0242ac120006-2-04ad-94e4",
       "next": "8c423354-9308-11ee-91d3-0242ac120006-1-e03e",
       "previous": "8c423250-9308-11ee-91d3-0242ac120006-1-a6d7"
      },
      {
       "current": "8c4232d2-9308-11ee-91d3-0242ac120006-3-04ad-94e4-e2f7",
       "next": "8c423354-9308-11ee-91d3-0242ac120006-2-e03e-319f",
       "previous": "8c423250-9308-11ee-91d3-0242ac120006-2-a6d7-11ea"
      },
      {
       "current": "8c4232d2-9308-11ee-91d3-0242ac120006-4-04ad-94e4-e2f7-86f6",
       "next": "8c423354-9308-11ee-91d3-0242ac120006-3-e03e-319f-57b0",
       "previous": "8c423250-9308-11ee-91d3-0242ac120006-3-a6d7-11ea-fb7e"
      }
     ],
     "next": "8c423354-9308-11ee-91d3-0242ac120006-4-e03e-319f-57b0-7f37",
     "previous": "8c423250-9308-11ee-91d3-0242ac120006-4-a6d7-11ea-fb7e-2c80"
    }
   },
   "outputs": [],
   "source": [
    "!ansible -i $hosts -b -m shell -a \"mv /etc/yum.repos.d/epel-testing.repo /etc/yum.repos.d/epel-testing.repo.rpmsave\" ceph_node"
   ]
  },
  {
   "cell_type": "code",
   "execution_count": null,
   "metadata": {
    "lc_cell_meme": {
     "current": "8c423354-9308-11ee-91d3-0242ac120006-4-e03e-319f-57b0-7f37",
     "history": [
      {
       "current": "8c423354-9308-11ee-91d3-0242ac120006",
       "next": "8c4233c2-9308-11ee-91d3-0242ac120006",
       "previous": "8c4232d2-9308-11ee-91d3-0242ac120006"
      },
      {
       "current": "8c423354-9308-11ee-91d3-0242ac120006-1-e03e",
       "next": "eb7c0956-1165-11ed-a1da-0242ac120004-2-384f-54cf",
       "previous": "8c4232d2-9308-11ee-91d3-0242ac120006"
      },
      {
       "current": "8c423354-9308-11ee-91d3-0242ac120006-2-e03e-319f",
       "next": "eb7c0956-1165-11ed-a1da-0242ac120004-3-384f-54cf-8fe9",
       "previous": "8c4232d2-9308-11ee-91d3-0242ac120006-1-04ad"
      },
      {
       "current": "8c423354-9308-11ee-91d3-0242ac120006-3-e03e-319f-57b0",
       "next": "eb7c0956-1165-11ed-a1da-0242ac120004-4-384f-54cf-8fe9-cb57",
       "previous": "8c4232d2-9308-11ee-91d3-0242ac120006-2-04ad-94e4"
      },
      {
       "current": "8c423354-9308-11ee-91d3-0242ac120006-4-e03e-319f-57b0-7f37",
       "next": "eb7c0956-1165-11ed-a1da-0242ac120004-5-384f-54cf-8fe9-cb57-ef2a",
       "previous": "8c4232d2-9308-11ee-91d3-0242ac120006-3-04ad-94e4-e2f7"
      }
     ],
     "next": "eb7c0956-1165-11ed-a1da-0242ac120004-6-384f-54cf-8fe9-cb57-ef2a-c729",
     "previous": "8c4232d2-9308-11ee-91d3-0242ac120006-4-04ad-94e4-e2f7-86f6"
    }
   },
   "outputs": [],
   "source": [
    "#!ansible -i $hosts -b -m shell -a \"mv /etc/yum.repos.d/td.repo /etc/yum.repos.d/td.repo.rpmsave\" ceph_node"
   ]
  },
  {
   "cell_type": "code",
   "execution_count": null,
   "metadata": {
    "lc_cell_meme": {
     "current": "eb7c0956-1165-11ed-a1da-0242ac120004-6-384f-54cf-8fe9-cb57-ef2a-c729",
     "history": [
      {
       "current": "eb7c0956-1165-11ed-a1da-0242ac120004",
       "next": "eb7c0aaa-1165-11ed-a1da-0242ac120004",
       "previous": "eb7c07f8-1165-11ed-a1da-0242ac120004"
      },
      {
       "current": "eb7c0956-1165-11ed-a1da-0242ac120004-1-384f",
       "next": "eb7c0aaa-1165-11ed-a1da-0242ac120004-1-587e",
       "previous": "eb7c07f8-1165-11ed-a1da-0242ac120004"
      },
      {
       "current": "eb7c0956-1165-11ed-a1da-0242ac120004-2-384f-54cf",
       "next": "eb7c0aaa-1165-11ed-a1da-0242ac120004-2-587e-f0a7",
       "previous": "eb7c07f8-1165-11ed-a1da-0242ac120004-1-5d02"
      },
      {
       "current": "eb7c0956-1165-11ed-a1da-0242ac120004-2-384f-54cf",
       "next": "eb7c0aaa-1165-11ed-a1da-0242ac120004-3-587e-f0a7-9e58",
       "previous": "eb7c07f8-1165-11ed-a1da-0242ac120004-2-5d02-d6dd"
      },
      {
       "current": "eb7c0956-1165-11ed-a1da-0242ac120004-2-384f-54cf",
       "next": "eb7c0aaa-1165-11ed-a1da-0242ac120004-3-587e-f0a7-9e58",
       "previous": "8c4233c2-9308-11ee-91d3-0242ac120006"
      },
      {
       "current": "eb7c0956-1165-11ed-a1da-0242ac120004-3-384f-54cf-8fe9",
       "next": "eb7c0aaa-1165-11ed-a1da-0242ac120004-3-587e-f0a7-9e58",
       "previous": "8c423354-9308-11ee-91d3-0242ac120006"
      },
      {
       "current": "eb7c0956-1165-11ed-a1da-0242ac120004-4-384f-54cf-8fe9-cb57",
       "next": "eb7c0aaa-1165-11ed-a1da-0242ac120004-4-587e-f0a7-9e58-9b05",
       "previous": "8c423354-9308-11ee-91d3-0242ac120006-1-e03e"
      },
      {
       "current": "eb7c0956-1165-11ed-a1da-0242ac120004-5-384f-54cf-8fe9-cb57-ef2a",
       "next": "eb7c0aaa-1165-11ed-a1da-0242ac120004-5-587e-f0a7-9e58-9b05-a20f",
       "previous": "8c423354-9308-11ee-91d3-0242ac120006-2-e03e-319f"
      },
      {
       "current": "eb7c0956-1165-11ed-a1da-0242ac120004-6-384f-54cf-8fe9-cb57-ef2a-c729",
       "next": "eb7c0aaa-1165-11ed-a1da-0242ac120004-6-587e-f0a7-9e58-9b05-a20f-9c7e",
       "previous": "8c423354-9308-11ee-91d3-0242ac120006-3-e03e-319f-57b0"
      }
     ],
     "next": "eb7c0aaa-1165-11ed-a1da-0242ac120004-7-587e-f0a7-9e58-9b05-a20f-9c7e-8a9a",
     "previous": "8c423354-9308-11ee-91d3-0242ac120006-4-e03e-319f-57b0-7f37"
    }
   },
   "outputs": [],
   "source": [
    "!ansible -i $hosts -b -m shell -a \"ls -la /etc/yum.repos.d\" ceph_node"
   ]
  },
  {
   "cell_type": "markdown",
   "metadata": {
    "lc_cell_meme": {
     "current": "eb7c0aaa-1165-11ed-a1da-0242ac120004-7-587e-f0a7-9e58-9b05-a20f-9c7e-8a9a",
     "history": [
      {
       "current": "eb7c0aaa-1165-11ed-a1da-0242ac120004-1-587e",
       "next": "eb7c0c08-1165-11ed-a1da-0242ac120004",
       "previous": "eb7c0956-1165-11ed-a1da-0242ac120004"
      },
      {
       "current": "eb7c0aaa-1165-11ed-a1da-0242ac120004-2-587e-f0a7",
       "next": "de88f4ce-1166-11ed-a1da-0242ac120004",
       "previous": "eb7c0956-1165-11ed-a1da-0242ac120004"
      },
      {
       "current": "eb7c0aaa-1165-11ed-a1da-0242ac120004-3-587e-f0a7-9e58",
       "next": "de88f4ce-1166-11ed-a1da-0242ac120004-1-bc3e",
       "previous": "eb7c0956-1165-11ed-a1da-0242ac120004-1-384f"
      },
      {
       "current": "eb7c0aaa-1165-11ed-a1da-0242ac120004-4-587e-f0a7-9e58-9b05",
       "next": "de88f4ce-1166-11ed-a1da-0242ac120004-2-bc3e-e813",
       "previous": "eb7c0956-1165-11ed-a1da-0242ac120004-2-384f-54cf"
      },
      {
       "current": "eb7c0aaa-1165-11ed-a1da-0242ac120004-5-587e-f0a7-9e58-9b05-a20f",
       "next": "de88f4ce-1166-11ed-a1da-0242ac120004-3-bc3e-e813-dc9c",
       "previous": "eb7c0956-1165-11ed-a1da-0242ac120004-3-384f-54cf-8fe9"
      },
      {
       "current": "eb7c0aaa-1165-11ed-a1da-0242ac120004-6-587e-f0a7-9e58-9b05-a20f-9c7e",
       "next": "de88f4ce-1166-11ed-a1da-0242ac120004-4-bc3e-e813-dc9c-578e",
       "previous": "eb7c0956-1165-11ed-a1da-0242ac120004-4-384f-54cf-8fe9-cb57"
      },
      {
       "current": "eb7c0aaa-1165-11ed-a1da-0242ac120004-7-587e-f0a7-9e58-9b05-a20f-9c7e-8a9a",
       "next": "de88f4ce-1166-11ed-a1da-0242ac120004-5-bc3e-e813-dc9c-578e-3456",
       "previous": "eb7c0956-1165-11ed-a1da-0242ac120004-5-384f-54cf-8fe9-cb57-ef2a"
      }
     ],
     "next": "de88f4ce-1166-11ed-a1da-0242ac120004-6-bc3e-e813-dc9c-578e-3456-a864",
     "previous": "eb7c0956-1165-11ed-a1da-0242ac120004-6-384f-54cf-8fe9-cb57-ef2a-c729"
    }
   },
   "source": [
    "### リポジトリファイル転送"
   ]
  },
  {
   "cell_type": "code",
   "execution_count": null,
   "metadata": {
    "lc_cell_meme": {
     "current": "de88f4ce-1166-11ed-a1da-0242ac120004-6-bc3e-e813-dc9c-578e-3456-a864",
     "history": [
      {
       "current": "de88f4ce-1166-11ed-a1da-0242ac120004-1-bc3e",
       "next": "de88f730-1166-11ed-a1da-0242ac120004",
       "previous": "eb7c0aaa-1165-11ed-a1da-0242ac120004-1-587e"
      },
      {
       "current": "de88f4ce-1166-11ed-a1da-0242ac120004-2-bc3e-e813",
       "next": "de88f730-1166-11ed-a1da-0242ac120004-1-41cd",
       "previous": "eb7c0aaa-1165-11ed-a1da-0242ac120004-2-587e-f0a7"
      },
      {
       "current": "de88f4ce-1166-11ed-a1da-0242ac120004-3-bc3e-e813-dc9c",
       "next": "de88f730-1166-11ed-a1da-0242ac120004-2-41cd-d546",
       "previous": "eb7c0aaa-1165-11ed-a1da-0242ac120004-3-587e-f0a7-9e58"
      },
      {
       "current": "de88f4ce-1166-11ed-a1da-0242ac120004-4-bc3e-e813-dc9c-578e",
       "next": "de88f730-1166-11ed-a1da-0242ac120004-3-41cd-d546-fc94",
       "previous": "eb7c0aaa-1165-11ed-a1da-0242ac120004-4-587e-f0a7-9e58-9b05"
      },
      {
       "current": "de88f4ce-1166-11ed-a1da-0242ac120004-5-bc3e-e813-dc9c-578e-3456",
       "next": "de88f730-1166-11ed-a1da-0242ac120004-4-41cd-d546-fc94-da40",
       "previous": "eb7c0aaa-1165-11ed-a1da-0242ac120004-5-587e-f0a7-9e58-9b05-a20f"
      },
      {
       "current": "de88f4ce-1166-11ed-a1da-0242ac120004-6-bc3e-e813-dc9c-578e-3456-a864",
       "next": "de88f730-1166-11ed-a1da-0242ac120004-5-41cd-d546-fc94-da40-9f25",
       "previous": "eb7c0aaa-1165-11ed-a1da-0242ac120004-6-587e-f0a7-9e58-9b05-a20f-9c7e"
      }
     ],
     "next": "de88f730-1166-11ed-a1da-0242ac120004-6-41cd-d546-fc94-da40-9f25-1b5a",
     "previous": "eb7c0aaa-1165-11ed-a1da-0242ac120004-7-587e-f0a7-9e58-9b05-a20f-9c7e-8a9a"
    }
   },
   "outputs": [],
   "source": [
    "!ansible -i $hosts -b -m copy -a \"src=$temp_dir/etc/yum.repos.d/centos.repo dest=/etc/yum.repos.d/centos.repo\" ceph_node"
   ]
  },
  {
   "cell_type": "code",
   "execution_count": null,
   "metadata": {
    "lc_cell_meme": {
     "current": "de88f730-1166-11ed-a1da-0242ac120004-6-41cd-d546-fc94-da40-9f25-1b5a",
     "history": [
      {
       "current": "de88f730-1166-11ed-a1da-0242ac120004-1-41cd",
       "next": "de88f884-1166-11ed-a1da-0242ac120004",
       "previous": "de88f4ce-1166-11ed-a1da-0242ac120004"
      },
      {
       "current": "de88f730-1166-11ed-a1da-0242ac120004-2-41cd-d546",
       "next": "de88f884-1166-11ed-a1da-0242ac120004-1-aa50",
       "previous": "de88f4ce-1166-11ed-a1da-0242ac120004-1-bc3e"
      },
      {
       "current": "de88f730-1166-11ed-a1da-0242ac120004-3-41cd-d546-fc94",
       "next": "de88f884-1166-11ed-a1da-0242ac120004-2-aa50-f320",
       "previous": "de88f4ce-1166-11ed-a1da-0242ac120004-2-bc3e-e813"
      },
      {
       "current": "de88f730-1166-11ed-a1da-0242ac120004-4-41cd-d546-fc94-da40",
       "next": "de88f884-1166-11ed-a1da-0242ac120004-3-aa50-f320-8e1a",
       "previous": "de88f4ce-1166-11ed-a1da-0242ac120004-3-bc3e-e813-dc9c"
      },
      {
       "current": "de88f730-1166-11ed-a1da-0242ac120004-5-41cd-d546-fc94-da40-9f25",
       "next": "de88f884-1166-11ed-a1da-0242ac120004-4-aa50-f320-8e1a-fa82",
       "previous": "de88f4ce-1166-11ed-a1da-0242ac120004-4-bc3e-e813-dc9c-578e"
      },
      {
       "current": "de88f730-1166-11ed-a1da-0242ac120004-6-41cd-d546-fc94-da40-9f25-1b5a",
       "next": "de88f884-1166-11ed-a1da-0242ac120004-5-aa50-f320-8e1a-fa82-d52c",
       "previous": "de88f4ce-1166-11ed-a1da-0242ac120004-5-bc3e-e813-dc9c-578e-3456"
      }
     ],
     "next": "de88f884-1166-11ed-a1da-0242ac120004-6-aa50-f320-8e1a-fa82-d52c-4ec8",
     "previous": "de88f4ce-1166-11ed-a1da-0242ac120004-6-bc3e-e813-dc9c-578e-3456-a864"
    }
   },
   "outputs": [],
   "source": [
    "!ansible -i $hosts -b -m copy -a \"src=$temp_dir/etc/yum.repos.d/centos-addons.repo dest=/etc/yum.repos.d/centos-addons.repo\" ceph_node"
   ]
  },
  {
   "cell_type": "code",
   "execution_count": null,
   "metadata": {
    "lc_cell_meme": {
     "current": "de88f884-1166-11ed-a1da-0242ac120004-6-aa50-f320-8e1a-fa82-d52c-4ec8",
     "history": [
      {
       "current": "de88f884-1166-11ed-a1da-0242ac120004-1-aa50",
       "next": "de88f9b0-1166-11ed-a1da-0242ac120004",
       "previous": "de88f730-1166-11ed-a1da-0242ac120004"
      },
      {
       "current": "de88f884-1166-11ed-a1da-0242ac120004-2-aa50-f320",
       "next": "de88f9b0-1166-11ed-a1da-0242ac120004-1-443d",
       "previous": "de88f730-1166-11ed-a1da-0242ac120004-1-41cd"
      },
      {
       "current": "de88f884-1166-11ed-a1da-0242ac120004-3-aa50-f320-8e1a",
       "next": "de88f9b0-1166-11ed-a1da-0242ac120004-2-443d-3c92",
       "previous": "de88f730-1166-11ed-a1da-0242ac120004-2-41cd-d546"
      },
      {
       "current": "de88f884-1166-11ed-a1da-0242ac120004-4-aa50-f320-8e1a-fa82",
       "next": "de88f9b0-1166-11ed-a1da-0242ac120004-3-443d-3c92-ecd6",
       "previous": "de88f730-1166-11ed-a1da-0242ac120004-3-41cd-d546-fc94"
      },
      {
       "current": "de88f884-1166-11ed-a1da-0242ac120004-5-aa50-f320-8e1a-fa82-d52c",
       "next": "de88f9b0-1166-11ed-a1da-0242ac120004-4-443d-3c92-ecd6-ffb1",
       "previous": "de88f730-1166-11ed-a1da-0242ac120004-4-41cd-d546-fc94-da40"
      },
      {
       "current": "de88f884-1166-11ed-a1da-0242ac120004-6-aa50-f320-8e1a-fa82-d52c-4ec8",
       "next": "de88f9b0-1166-11ed-a1da-0242ac120004-5-443d-3c92-ecd6-ffb1-c818",
       "previous": "de88f730-1166-11ed-a1da-0242ac120004-5-41cd-d546-fc94-da40-9f25"
      }
     ],
     "next": "de88f9b0-1166-11ed-a1da-0242ac120004-6-443d-3c92-ecd6-ffb1-c818-cdac",
     "previous": "de88f730-1166-11ed-a1da-0242ac120004-6-41cd-d546-fc94-da40-9f25-1b5a"
    }
   },
   "outputs": [],
   "source": [
    "!ansible -i $hosts -b -m copy -a \"src=$temp_dir/etc/yum.repos.d/centos-ceph-quincy.repo dest=/etc/yum.repos.d/centos-ceph-quincy.repo\" ceph_node"
   ]
  },
  {
   "cell_type": "code",
   "execution_count": null,
   "metadata": {
    "lc_cell_meme": {
     "current": "de88f9b0-1166-11ed-a1da-0242ac120004-6-443d-3c92-ecd6-ffb1-c818-cdac",
     "history": [
      {
       "current": "de88f9b0-1166-11ed-a1da-0242ac120004-1-443d",
       "next": "de88fabe-1166-11ed-a1da-0242ac120004",
       "previous": "de88f884-1166-11ed-a1da-0242ac120004"
      },
      {
       "current": "de88f9b0-1166-11ed-a1da-0242ac120004-2-443d-3c92",
       "next": "de88fabe-1166-11ed-a1da-0242ac120004-1-3227",
       "previous": "de88f884-1166-11ed-a1da-0242ac120004-1-aa50"
      },
      {
       "current": "de88f9b0-1166-11ed-a1da-0242ac120004-2-443d-3c92",
       "next": "de88fabe-1166-11ed-a1da-0242ac120004-2-3227-86cc",
       "previous": "de88f884-1166-11ed-a1da-0242ac120004-2-aa50-f320"
      },
      {
       "current": "de88f9b0-1166-11ed-a1da-0242ac120004-3-443d-3c92-ecd6",
       "next": "62d4cea4-9309-11ee-91d3-0242ac120006",
       "previous": "de88f884-1166-11ed-a1da-0242ac120004-2-aa50-f320"
      },
      {
       "current": "de88f9b0-1166-11ed-a1da-0242ac120004-4-443d-3c92-ecd6-ffb1",
       "next": "62d4cea4-9309-11ee-91d3-0242ac120006-1-97b7",
       "previous": "de88f884-1166-11ed-a1da-0242ac120004-3-aa50-f320-8e1a"
      },
      {
       "current": "de88f9b0-1166-11ed-a1da-0242ac120004-5-443d-3c92-ecd6-ffb1-c818",
       "next": "62d4cea4-9309-11ee-91d3-0242ac120006-2-97b7-6565",
       "previous": "de88f884-1166-11ed-a1da-0242ac120004-4-aa50-f320-8e1a-fa82"
      },
      {
       "current": "de88f9b0-1166-11ed-a1da-0242ac120004-6-443d-3c92-ecd6-ffb1-c818-cdac",
       "next": "62d4cea4-9309-11ee-91d3-0242ac120006-3-97b7-6565-12d7",
       "previous": "de88f884-1166-11ed-a1da-0242ac120004-5-aa50-f320-8e1a-fa82-d52c"
      }
     ],
     "next": "62d4cea4-9309-11ee-91d3-0242ac120006-4-97b7-6565-12d7-9aa4",
     "previous": "de88f884-1166-11ed-a1da-0242ac120004-6-aa50-f320-8e1a-fa82-d52c-4ec8"
    }
   },
   "outputs": [],
   "source": [
    "!ansible -i $hosts -b -m copy -a \"src=$temp_dir/etc/yum.repos.d/centos-nfv-openvswitch.repo dest=/etc/yum.repos.d/centos-nfv-openvswitch.repo\" ceph_node"
   ]
  },
  {
   "cell_type": "code",
   "execution_count": null,
   "metadata": {
    "lc_cell_meme": {
     "current": "62d4cea4-9309-11ee-91d3-0242ac120006-4-97b7-6565-12d7-9aa4",
     "history": [
      {
       "current": "62d4cea4-9309-11ee-91d3-0242ac120006-1-97b7",
       "next": "62d4d02a-9309-11ee-91d3-0242ac120006",
       "previous": "de88f9b0-1166-11ed-a1da-0242ac120004-2-443d-3c92"
      },
      {
       "current": "62d4cea4-9309-11ee-91d3-0242ac120006-2-97b7-6565",
       "next": "62d4d02a-9309-11ee-91d3-0242ac120006-1-acd4",
       "previous": "de88f9b0-1166-11ed-a1da-0242ac120004-3-443d-3c92-ecd6"
      },
      {
       "current": "62d4cea4-9309-11ee-91d3-0242ac120006-3-97b7-6565-12d7",
       "next": "62d4d02a-9309-11ee-91d3-0242ac120006-2-acd4-c443",
       "previous": "de88f9b0-1166-11ed-a1da-0242ac120004-4-443d-3c92-ecd6-ffb1"
      },
      {
       "current": "62d4cea4-9309-11ee-91d3-0242ac120006-4-97b7-6565-12d7-9aa4",
       "next": "62d4d02a-9309-11ee-91d3-0242ac120006-3-acd4-c443-7341",
       "previous": "de88f9b0-1166-11ed-a1da-0242ac120004-5-443d-3c92-ecd6-ffb1-c818"
      }
     ],
     "next": "62d4d02a-9309-11ee-91d3-0242ac120006-4-acd4-c443-7341-8980",
     "previous": "de88f9b0-1166-11ed-a1da-0242ac120004-6-443d-3c92-ecd6-ffb1-c818-cdac"
    }
   },
   "outputs": [],
   "source": [
    "!ansible -i $hosts -b -m copy -a \"src=$temp_dir/etc/yum.repos.d/epel.repo dest=/etc/yum.repos.d/epel.repo\" ceph_node"
   ]
  },
  {
   "cell_type": "code",
   "execution_count": null,
   "metadata": {
    "lc_cell_meme": {
     "current": "62d4d02a-9309-11ee-91d3-0242ac120006-4-acd4-c443-7341-8980",
     "history": [
      {
       "current": "62d4d02a-9309-11ee-91d3-0242ac120006-1-acd4",
       "next": "de88fabe-1166-11ed-a1da-0242ac120004-2-3227-86cc",
       "previous": "62d4cea4-9309-11ee-91d3-0242ac120006"
      },
      {
       "current": "62d4d02a-9309-11ee-91d3-0242ac120006-2-acd4-c443",
       "next": "de88fabe-1166-11ed-a1da-0242ac120004-3-3227-86cc-02ea",
       "previous": "62d4cea4-9309-11ee-91d3-0242ac120006-1-97b7"
      },
      {
       "current": "62d4d02a-9309-11ee-91d3-0242ac120006-3-acd4-c443-7341",
       "next": "de88fabe-1166-11ed-a1da-0242ac120004-4-3227-86cc-02ea-c619",
       "previous": "62d4cea4-9309-11ee-91d3-0242ac120006-2-97b7-6565"
      },
      {
       "current": "62d4d02a-9309-11ee-91d3-0242ac120006-4-acd4-c443-7341-8980",
       "next": "de88fabe-1166-11ed-a1da-0242ac120004-5-3227-86cc-02ea-c619-542f",
       "previous": "62d4cea4-9309-11ee-91d3-0242ac120006-3-97b7-6565-12d7"
      }
     ],
     "next": "de88fabe-1166-11ed-a1da-0242ac120004-6-3227-86cc-02ea-c619-542f-c685",
     "previous": "62d4cea4-9309-11ee-91d3-0242ac120006-4-97b7-6565-12d7-9aa4"
    }
   },
   "outputs": [],
   "source": [
    "!ansible -i $hosts -b -m copy -a \"src=$temp_dir/etc/yum.repos.d/epel-next.repo dest=/etc/yum.repos.d/epel-next.repo\" ceph_node"
   ]
  },
  {
   "cell_type": "code",
   "execution_count": null,
   "metadata": {
    "lc_cell_meme": {
     "current": "de88fabe-1166-11ed-a1da-0242ac120004-6-3227-86cc-02ea-c619-542f-c685",
     "history": [
      {
       "current": "de88fabe-1166-11ed-a1da-0242ac120004",
       "next": "de88fbd6-1166-11ed-a1da-0242ac120004",
       "previous": "de88f9b0-1166-11ed-a1da-0242ac120004"
      },
      {
       "current": "de88fabe-1166-11ed-a1da-0242ac120004-1-3227",
       "next": "0aaa0a98-963f-11ea-8d02-0242ac120007-2-b280-7f9a",
       "previous": "de88f9b0-1166-11ed-a1da-0242ac120004"
      },
      {
       "current": "de88fabe-1166-11ed-a1da-0242ac120004-2-3227-86cc",
       "next": "0aaa0a98-963f-11ea-8d02-0242ac120007-3-b280-7f9a-4e09",
       "previous": "de88f9b0-1166-11ed-a1da-0242ac120004-1-443d"
      },
      {
       "current": "de88fabe-1166-11ed-a1da-0242ac120004-2-3227-86cc",
       "next": "0aaa0a98-963f-11ea-8d02-0242ac120007-4-b280-7f9a-4e09-04ab",
       "previous": "de88f9b0-1166-11ed-a1da-0242ac120004-2-443d-3c92"
      },
      {
       "current": "de88fabe-1166-11ed-a1da-0242ac120004-3-3227-86cc-02ea",
       "next": "0aaa0a98-963f-11ea-8d02-0242ac120007-4-b280-7f9a-4e09-04ab",
       "previous": "62d4d02a-9309-11ee-91d3-0242ac120006"
      },
      {
       "current": "de88fabe-1166-11ed-a1da-0242ac120004-4-3227-86cc-02ea-c619",
       "next": "0aaa0a98-963f-11ea-8d02-0242ac120007-5-b280-7f9a-4e09-04ab-4e6f",
       "previous": "62d4d02a-9309-11ee-91d3-0242ac120006-1-acd4"
      },
      {
       "current": "de88fabe-1166-11ed-a1da-0242ac120004-5-3227-86cc-02ea-c619-542f",
       "next": "0aaa0a98-963f-11ea-8d02-0242ac120007-6-b280-7f9a-4e09-04ab-4e6f-e041",
       "previous": "62d4d02a-9309-11ee-91d3-0242ac120006-2-acd4-c443"
      },
      {
       "current": "de88fabe-1166-11ed-a1da-0242ac120004-6-3227-86cc-02ea-c619-542f-c685",
       "next": "0aaa0a98-963f-11ea-8d02-0242ac120007-7-b280-7f9a-4e09-04ab-4e6f-e041-72eb",
       "previous": "62d4d02a-9309-11ee-91d3-0242ac120006-3-acd4-c443-7341"
      }
     ],
     "next": "0aaa0a98-963f-11ea-8d02-0242ac120007-8-b280-7f9a-4e09-04ab-4e6f-e041-72eb-5cf7",
     "previous": "62d4d02a-9309-11ee-91d3-0242ac120006-4-acd4-c443-7341-8980"
    }
   },
   "outputs": [],
   "source": [
    "!ansible -i $hosts -b -m shell -a \"ls -la /etc/yum.repos.d\" ceph_node"
   ]
  },
  {
   "cell_type": "markdown",
   "metadata": {
    "lc_cell_meme": {
     "current": "0aaa0a98-963f-11ea-8d02-0242ac120007-8-b280-7f9a-4e09-04ab-4e6f-e041-72eb-5cf7",
     "history": [
      {
       "current": "0aaa0a98-963f-11ea-8d02-0242ac120007-1-b280",
       "next": "2a99051e-95d3-11ea-8d02-0242ac120007",
       "previous": "35c3783e-55a3-11e7-b0b2-00163e9c0e35"
      },
      {
       "current": "0aaa0a98-963f-11ea-8d02-0242ac120007-2-b280-7f9a",
       "next": "2a99051e-95d3-11ea-8d02-0242ac120007-1-4256",
       "previous": "35c3783e-55a3-11e7-b0b2-00163e9c0e35-1-c9f6"
      },
      {
       "current": "0aaa0a98-963f-11ea-8d02-0242ac120007-2-b280-7f9a",
       "next": "2a99051e-95d3-11ea-8d02-0242ac120007-2-4256-345f",
       "previous": "35c3783e-55a3-11e7-b0b2-00163e9c0e35-2-c9f6-1c40"
      },
      {
       "current": "0aaa0a98-963f-11ea-8d02-0242ac120007-3-b280-7f9a-4e09",
       "next": "2a99051e-95d3-11ea-8d02-0242ac120007-2-4256-345f",
       "previous": "de88fabe-1166-11ed-a1da-0242ac120004"
      },
      {
       "current": "0aaa0a98-963f-11ea-8d02-0242ac120007-4-b280-7f9a-4e09-04ab",
       "next": "2a99051e-95d3-11ea-8d02-0242ac120007-3-4256-345f-41a9",
       "previous": "de88fabe-1166-11ed-a1da-0242ac120004-1-3227"
      },
      {
       "current": "0aaa0a98-963f-11ea-8d02-0242ac120007-5-b280-7f9a-4e09-04ab-4e6f",
       "next": "2a99051e-95d3-11ea-8d02-0242ac120007-4-4256-345f-41a9-da79",
       "previous": "de88fabe-1166-11ed-a1da-0242ac120004-2-3227-86cc"
      },
      {
       "current": "0aaa0a98-963f-11ea-8d02-0242ac120007-6-b280-7f9a-4e09-04ab-4e6f-e041",
       "next": "2a99051e-95d3-11ea-8d02-0242ac120007-5-4256-345f-41a9-da79-c01a",
       "previous": "de88fabe-1166-11ed-a1da-0242ac120004-3-3227-86cc-02ea"
      },
      {
       "current": "0aaa0a98-963f-11ea-8d02-0242ac120007-7-b280-7f9a-4e09-04ab-4e6f-e041-72eb",
       "next": "2a99051e-95d3-11ea-8d02-0242ac120007-6-4256-345f-41a9-da79-c01a-ab89",
       "previous": "de88fabe-1166-11ed-a1da-0242ac120004-4-3227-86cc-02ea-c619"
      },
      {
       "current": "0aaa0a98-963f-11ea-8d02-0242ac120007-8-b280-7f9a-4e09-04ab-4e6f-e041-72eb-5cf7",
       "next": "2a99051e-95d3-11ea-8d02-0242ac120007-7-4256-345f-41a9-da79-c01a-ab89-8060",
       "previous": "de88fabe-1166-11ed-a1da-0242ac120004-5-3227-86cc-02ea-c619-542f"
      }
     ],
     "next": "2a99051e-95d3-11ea-8d02-0242ac120007-8-4256-345f-41a9-da79-c01a-ab89-8060-a9ae",
     "previous": "de88fabe-1166-11ed-a1da-0242ac120004-6-3227-86cc-02ea-c619-542f-c685"
    }
   },
   "source": [
    "## dnf proxy設定"
   ]
  },
  {
   "cell_type": "markdown",
   "metadata": {
    "lc_cell_meme": {
     "current": "2a99051e-95d3-11ea-8d02-0242ac120007-8-4256-345f-41a9-da79-c01a-ab89-8060-a9ae",
     "history": [
      {
       "current": "2a99051e-95d3-11ea-8d02-0242ac120007",
       "next": "2a990866-95d3-11ea-8d02-0242ac120007",
       "previous": "35c3783e-55a3-11e7-b0b2-00163e9c0e35"
      },
      {
       "current": "2a99051e-95d3-11ea-8d02-0242ac120007-1-4256",
       "next": "2a990866-95d3-11ea-8d02-0242ac120007",
       "previous": "0aaa0a98-963f-11ea-8d02-0242ac120007"
      },
      {
       "current": "2a99051e-95d3-11ea-8d02-0242ac120007-2-4256-345f",
       "next": "2a990866-95d3-11ea-8d02-0242ac120007-1-5c7d",
       "previous": "0aaa0a98-963f-11ea-8d02-0242ac120007-1-b280"
      },
      {
       "current": "2a99051e-95d3-11ea-8d02-0242ac120007-3-4256-345f-41a9",
       "next": "2a990866-95d3-11ea-8d02-0242ac120007-2-5c7d-d45e",
       "previous": "0aaa0a98-963f-11ea-8d02-0242ac120007-2-b280-7f9a"
      },
      {
       "current": "2a99051e-95d3-11ea-8d02-0242ac120007-4-4256-345f-41a9-da79",
       "next": "2a990866-95d3-11ea-8d02-0242ac120007-3-5c7d-d45e-57a2",
       "previous": "0aaa0a98-963f-11ea-8d02-0242ac120007-3-b280-7f9a-4e09"
      },
      {
       "current": "2a99051e-95d3-11ea-8d02-0242ac120007-5-4256-345f-41a9-da79-c01a",
       "next": "2a990866-95d3-11ea-8d02-0242ac120007-4-5c7d-d45e-57a2-4763",
       "previous": "0aaa0a98-963f-11ea-8d02-0242ac120007-4-b280-7f9a-4e09-04ab"
      },
      {
       "current": "2a99051e-95d3-11ea-8d02-0242ac120007-6-4256-345f-41a9-da79-c01a-ab89",
       "next": "2a990866-95d3-11ea-8d02-0242ac120007-5-5c7d-d45e-57a2-4763-dcb9",
       "previous": "0aaa0a98-963f-11ea-8d02-0242ac120007-5-b280-7f9a-4e09-04ab-4e6f"
      },
      {
       "current": "2a99051e-95d3-11ea-8d02-0242ac120007-7-4256-345f-41a9-da79-c01a-ab89-8060",
       "next": "2a990866-95d3-11ea-8d02-0242ac120007-6-5c7d-d45e-57a2-4763-dcb9-dcd6",
       "previous": "0aaa0a98-963f-11ea-8d02-0242ac120007-6-b280-7f9a-4e09-04ab-4e6f-e041"
      },
      {
       "current": "2a99051e-95d3-11ea-8d02-0242ac120007-8-4256-345f-41a9-da79-c01a-ab89-8060-a9ae",
       "next": "2a990866-95d3-11ea-8d02-0242ac120007-7-5c7d-d45e-57a2-4763-dcb9-dcd6-0457",
       "previous": "0aaa0a98-963f-11ea-8d02-0242ac120007-7-b280-7f9a-4e09-04ab-4e6f-e041-72eb"
      }
     ],
     "next": "2a990866-95d3-11ea-8d02-0242ac120007-8-5c7d-d45e-57a2-4763-dcb9-dcd6-0457-3e39",
     "previous": "0aaa0a98-963f-11ea-8d02-0242ac120007-8-b280-7f9a-4e09-04ab-4e6f-e041-72eb-5cf7"
    }
   },
   "source": [
    "以下の手順で、CephAdminをProxyとして設定する。"
   ]
  },
  {
   "cell_type": "code",
   "execution_count": null,
   "metadata": {
    "lc_cell_meme": {
     "current": "2a990866-95d3-11ea-8d02-0242ac120007-8-5c7d-d45e-57a2-4763-dcb9-dcd6-0457-3e39",
     "history": [
      {
       "current": "2a990866-95d3-11ea-8d02-0242ac120007",
       "next": "c68a90e2-959b-11ea-8d02-0242ac120007",
       "previous": "2a99051e-95d3-11ea-8d02-0242ac120007"
      },
      {
       "current": "2a990866-95d3-11ea-8d02-0242ac120007",
       "next": "010d619e-95d4-11ea-8d02-0242ac120007",
       "previous": "2a99051e-95d3-11ea-8d02-0242ac120007"
      },
      {
       "current": "2a990866-95d3-11ea-8d02-0242ac120007",
       "next": "5b717780-95d7-11ea-8d02-0242ac120007",
       "previous": "2a99051e-95d3-11ea-8d02-0242ac120007"
      },
      {
       "current": "2a990866-95d3-11ea-8d02-0242ac120007-1-5c7d",
       "next": "320d15a6-95d8-11ea-8d02-0242ac120007",
       "previous": "2a99051e-95d3-11ea-8d02-0242ac120007"
      },
      {
       "current": "2a990866-95d3-11ea-8d02-0242ac120007-2-5c7d-d45e",
       "next": "320d15a6-95d8-11ea-8d02-0242ac120007-1-dcbe",
       "previous": "2a99051e-95d3-11ea-8d02-0242ac120007-1-4256"
      },
      {
       "current": "2a990866-95d3-11ea-8d02-0242ac120007-2-5c7d-d45e",
       "next": "320d15a6-95d8-11ea-8d02-0242ac120007-2-dcbe-1c64",
       "previous": "2a99051e-95d3-11ea-8d02-0242ac120007-2-4256-345f"
      },
      {
       "current": "2a990866-95d3-11ea-8d02-0242ac120007-3-5c7d-d45e-57a2",
       "next": "c320b8f8-dfc0-11eb-b29f-0242ac120008",
       "previous": "2a99051e-95d3-11ea-8d02-0242ac120007-2-4256-345f"
      },
      {
       "current": "2a990866-95d3-11ea-8d02-0242ac120007-4-5c7d-d45e-57a2-4763",
       "next": "c320b8f8-dfc0-11eb-b29f-0242ac120008-1-e3f5",
       "previous": "2a99051e-95d3-11ea-8d02-0242ac120007-3-4256-345f-41a9"
      },
      {
       "current": "2a990866-95d3-11ea-8d02-0242ac120007-5-5c7d-d45e-57a2-4763-dcb9",
       "next": "c320b8f8-dfc0-11eb-b29f-0242ac120008-2-e3f5-7c32",
       "previous": "2a99051e-95d3-11ea-8d02-0242ac120007-4-4256-345f-41a9-da79"
      },
      {
       "current": "2a990866-95d3-11ea-8d02-0242ac120007-6-5c7d-d45e-57a2-4763-dcb9-dcd6",
       "next": "c320b8f8-dfc0-11eb-b29f-0242ac120008-3-e3f5-7c32-d4c5",
       "previous": "2a99051e-95d3-11ea-8d02-0242ac120007-5-4256-345f-41a9-da79-c01a"
      },
      {
       "current": "2a990866-95d3-11ea-8d02-0242ac120007-7-5c7d-d45e-57a2-4763-dcb9-dcd6-0457",
       "next": "c320b8f8-dfc0-11eb-b29f-0242ac120008-4-e3f5-7c32-d4c5-6724",
       "previous": "2a99051e-95d3-11ea-8d02-0242ac120007-6-4256-345f-41a9-da79-c01a-ab89"
      },
      {
       "current": "2a990866-95d3-11ea-8d02-0242ac120007-8-5c7d-d45e-57a2-4763-dcb9-dcd6-0457-3e39",
       "next": "c320b8f8-dfc0-11eb-b29f-0242ac120008-5-e3f5-7c32-d4c5-6724-51fd",
       "previous": "2a99051e-95d3-11ea-8d02-0242ac120007-7-4256-345f-41a9-da79-c01a-ab89-8060"
      }
     ],
     "next": "c320b8f8-dfc0-11eb-b29f-0242ac120008-6-e3f5-7c32-d4c5-6724-51fd-b782",
     "previous": "2a99051e-95d3-11ea-8d02-0242ac120007-8-4256-345f-41a9-da79-c01a-ab89-8060-a9ae"
    }
   },
   "outputs": [],
   "source": [
    "!ansible -i $hosts -m shell -a 'cat /etc/dnf/dnf.conf' ceph_node"
   ]
  },
  {
   "cell_type": "code",
   "execution_count": null,
   "metadata": {
    "lc_cell_meme": {
     "current": "c320b8f8-dfc0-11eb-b29f-0242ac120008-6-e3f5-7c32-d4c5-6724-51fd-b782",
     "history": [
      {
       "current": "c320b8f8-dfc0-11eb-b29f-0242ac120008-1-e3f5",
       "next": "c320bbbe-dfc0-11eb-b29f-0242ac120008",
       "previous": "2a990866-95d3-11ea-8d02-0242ac120007-2-5c7d-d45e"
      },
      {
       "current": "c320b8f8-dfc0-11eb-b29f-0242ac120008-2-e3f5-7c32",
       "next": "c320bbbe-dfc0-11eb-b29f-0242ac120008-1-47ea",
       "previous": "2a990866-95d3-11ea-8d02-0242ac120007-3-5c7d-d45e-57a2"
      },
      {
       "current": "c320b8f8-dfc0-11eb-b29f-0242ac120008-3-e3f5-7c32-d4c5",
       "next": "c320bbbe-dfc0-11eb-b29f-0242ac120008-2-47ea-18db",
       "previous": "2a990866-95d3-11ea-8d02-0242ac120007-4-5c7d-d45e-57a2-4763"
      },
      {
       "current": "c320b8f8-dfc0-11eb-b29f-0242ac120008-4-e3f5-7c32-d4c5-6724",
       "next": "c320bbbe-dfc0-11eb-b29f-0242ac120008-3-47ea-18db-8535",
       "previous": "2a990866-95d3-11ea-8d02-0242ac120007-5-5c7d-d45e-57a2-4763-dcb9"
      },
      {
       "current": "c320b8f8-dfc0-11eb-b29f-0242ac120008-5-e3f5-7c32-d4c5-6724-51fd",
       "next": "c320bbbe-dfc0-11eb-b29f-0242ac120008-4-47ea-18db-8535-1302",
       "previous": "2a990866-95d3-11ea-8d02-0242ac120007-6-5c7d-d45e-57a2-4763-dcb9-dcd6"
      },
      {
       "current": "c320b8f8-dfc0-11eb-b29f-0242ac120008-6-e3f5-7c32-d4c5-6724-51fd-b782",
       "next": "c320bbbe-dfc0-11eb-b29f-0242ac120008-5-47ea-18db-8535-1302-99df",
       "previous": "2a990866-95d3-11ea-8d02-0242ac120007-7-5c7d-d45e-57a2-4763-dcb9-dcd6-0457"
      }
     ],
     "next": "c320bbbe-dfc0-11eb-b29f-0242ac120008-6-47ea-18db-8535-1302-99df-9a25",
     "previous": "2a990866-95d3-11ea-8d02-0242ac120007-8-5c7d-d45e-57a2-4763-dcb9-dcd6-0457-3e39"
    }
   },
   "outputs": [],
   "source": [
    "!ansible -i $hosts -b -m ini_file -a \"dest=/etc/dnf/dnf.conf section=main option=proxy value=http://{ceph_admin_ip}:8080 state=present\" ceph_node"
   ]
  },
  {
   "cell_type": "code",
   "execution_count": null,
   "metadata": {
    "lc_cell_meme": {
     "current": "c320bbbe-dfc0-11eb-b29f-0242ac120008-6-47ea-18db-8535-1302-99df-9a25",
     "history": [
      {
       "current": "c320bbbe-dfc0-11eb-b29f-0242ac120008",
       "next": "320d15a6-95d8-11ea-8d02-0242ac120007-2-dcbe-1c64",
       "previous": "c320b8f8-dfc0-11eb-b29f-0242ac120008"
      },
      {
       "current": "c320bbbe-dfc0-11eb-b29f-0242ac120008-1-47ea",
       "next": "19bcfbfe-98f5-11ea-8d02-0242ac120007-2-42eb-19e3",
       "previous": "c320b8f8-dfc0-11eb-b29f-0242ac120008"
      },
      {
       "current": "c320bbbe-dfc0-11eb-b29f-0242ac120008-2-47ea-18db",
       "next": "19bcfbfe-98f5-11ea-8d02-0242ac120007-3-42eb-19e3-1a65",
       "previous": "c320b8f8-dfc0-11eb-b29f-0242ac120008-1-e3f5"
      },
      {
       "current": "c320bbbe-dfc0-11eb-b29f-0242ac120008-3-47ea-18db-8535",
       "next": "19bcfbfe-98f5-11ea-8d02-0242ac120007-4-42eb-19e3-1a65-6f98",
       "previous": "c320b8f8-dfc0-11eb-b29f-0242ac120008-2-e3f5-7c32"
      },
      {
       "current": "c320bbbe-dfc0-11eb-b29f-0242ac120008-4-47ea-18db-8535-1302",
       "next": "19bcfbfe-98f5-11ea-8d02-0242ac120007-5-42eb-19e3-1a65-6f98-1545",
       "previous": "c320b8f8-dfc0-11eb-b29f-0242ac120008-3-e3f5-7c32-d4c5"
      },
      {
       "current": "c320bbbe-dfc0-11eb-b29f-0242ac120008-5-47ea-18db-8535-1302-99df",
       "next": "19bcfbfe-98f5-11ea-8d02-0242ac120007-6-42eb-19e3-1a65-6f98-1545-fb48",
       "previous": "c320b8f8-dfc0-11eb-b29f-0242ac120008-4-e3f5-7c32-d4c5-6724"
      },
      {
       "current": "c320bbbe-dfc0-11eb-b29f-0242ac120008-6-47ea-18db-8535-1302-99df-9a25",
       "next": "19bcfbfe-98f5-11ea-8d02-0242ac120007-7-42eb-19e3-1a65-6f98-1545-fb48-2069",
       "previous": "c320b8f8-dfc0-11eb-b29f-0242ac120008-5-e3f5-7c32-d4c5-6724-51fd"
      }
     ],
     "next": "19bcfbfe-98f5-11ea-8d02-0242ac120007-8-42eb-19e3-1a65-6f98-1545-fb48-2069-c092",
     "previous": "c320b8f8-dfc0-11eb-b29f-0242ac120008-6-e3f5-7c32-d4c5-6724-51fd-b782"
    }
   },
   "outputs": [],
   "source": [
    "!ansible -i $hosts -m shell -a 'cat /etc/dnf/dnf.conf' ceph_node"
   ]
  },
  {
   "cell_type": "markdown",
   "metadata": {
    "lc_cell_meme": {
     "current": "19bcfbfe-98f5-11ea-8d02-0242ac120007-8-42eb-19e3-1a65-6f98-1545-fb48-2069-c092",
     "history": [
      {
       "current": "19bcfbfe-98f5-11ea-8d02-0242ac120007",
       "next": "90289876-95d4-11ea-8d02-0242ac120007",
       "previous": "902893c6-95d4-11ea-8d02-0242ac120007"
      },
      {
       "current": "19bcfbfe-98f5-11ea-8d02-0242ac120007",
       "next": "cbd6ba04-98f6-11ea-8d02-0242ac120007",
       "previous": "902893c6-95d4-11ea-8d02-0242ac120007"
      },
      {
       "current": "19bcfbfe-98f5-11ea-8d02-0242ac120007-1-42eb",
       "next": "90289876-95d4-11ea-8d02-0242ac120007",
       "previous": "902893c6-95d4-11ea-8d02-0242ac120007"
      },
      {
       "current": "19bcfbfe-98f5-11ea-8d02-0242ac120007-2-42eb-19e3",
       "next": "90289876-95d4-11ea-8d02-0242ac120007-1-9368",
       "previous": "902893c6-95d4-11ea-8d02-0242ac120007-1-b71b"
      },
      {
       "current": "19bcfbfe-98f5-11ea-8d02-0242ac120007-2-42eb-19e3",
       "next": "90289876-95d4-11ea-8d02-0242ac120007-2-9368-ffd1",
       "previous": "902893c6-95d4-11ea-8d02-0242ac120007-2-b71b-fa7a"
      },
      {
       "current": "19bcfbfe-98f5-11ea-8d02-0242ac120007-3-42eb-19e3-1a65",
       "next": "90289876-95d4-11ea-8d02-0242ac120007-2-9368-ffd1",
       "previous": "c320bbbe-dfc0-11eb-b29f-0242ac120008"
      },
      {
       "current": "19bcfbfe-98f5-11ea-8d02-0242ac120007-4-42eb-19e3-1a65-6f98",
       "next": "90289876-95d4-11ea-8d02-0242ac120007-3-9368-ffd1-e25d",
       "previous": "c320bbbe-dfc0-11eb-b29f-0242ac120008-1-47ea"
      },
      {
       "current": "19bcfbfe-98f5-11ea-8d02-0242ac120007-5-42eb-19e3-1a65-6f98-1545",
       "next": "90289876-95d4-11ea-8d02-0242ac120007-4-9368-ffd1-e25d-c289",
       "previous": "c320bbbe-dfc0-11eb-b29f-0242ac120008-2-47ea-18db"
      },
      {
       "current": "19bcfbfe-98f5-11ea-8d02-0242ac120007-6-42eb-19e3-1a65-6f98-1545-fb48",
       "next": "90289876-95d4-11ea-8d02-0242ac120007-5-9368-ffd1-e25d-c289-b638",
       "previous": "c320bbbe-dfc0-11eb-b29f-0242ac120008-3-47ea-18db-8535"
      },
      {
       "current": "19bcfbfe-98f5-11ea-8d02-0242ac120007-7-42eb-19e3-1a65-6f98-1545-fb48-2069",
       "next": "90289876-95d4-11ea-8d02-0242ac120007-6-9368-ffd1-e25d-c289-b638-253c",
       "previous": "c320bbbe-dfc0-11eb-b29f-0242ac120008-4-47ea-18db-8535-1302"
      },
      {
       "current": "19bcfbfe-98f5-11ea-8d02-0242ac120007-8-42eb-19e3-1a65-6f98-1545-fb48-2069-c092",
       "next": "90289876-95d4-11ea-8d02-0242ac120007-7-9368-ffd1-e25d-c289-b638-253c-d4df",
       "previous": "c320bbbe-dfc0-11eb-b29f-0242ac120008-5-47ea-18db-8535-1302-99df"
      }
     ],
     "next": "90289876-95d4-11ea-8d02-0242ac120007-8-9368-ffd1-e25d-c289-b638-253c-d4df-f0ce",
     "previous": "c320bbbe-dfc0-11eb-b29f-0242ac120008-6-47ea-18db-8535-1302-99df-9a25"
    }
   },
   "source": [
    "Proxy疎通確認"
   ]
  },
  {
   "cell_type": "code",
   "execution_count": null,
   "metadata": {
    "lc_cell_meme": {
     "current": "90289876-95d4-11ea-8d02-0242ac120007-8-9368-ffd1-e25d-c289-b638-253c-d4df-f0ce",
     "history": [
      {
       "current": "90289876-95d4-11ea-8d02-0242ac120007",
       "next": "c68a90e2-959b-11ea-8d02-0242ac120007",
       "previous": "902896aa-95d4-11ea-8d02-0242ac120007"
      },
      {
       "current": "90289876-95d4-11ea-8d02-0242ac120007",
       "next": "c68a90e2-959b-11ea-8d02-0242ac120007",
       "previous": "902893c6-95d4-11ea-8d02-0242ac120007"
      },
      {
       "current": "90289876-95d4-11ea-8d02-0242ac120007",
       "next": "95bcec66-95d8-11ea-8d02-0242ac120007",
       "previous": "902893c6-95d4-11ea-8d02-0242ac120007"
      },
      {
       "current": "90289876-95d4-11ea-8d02-0242ac120007",
       "next": "12f05020-9691-11ea-8d02-0242ac120007",
       "previous": "902893c6-95d4-11ea-8d02-0242ac120007"
      },
      {
       "current": "90289876-95d4-11ea-8d02-0242ac120007",
       "next": "12f05020-9691-11ea-8d02-0242ac120007",
       "previous": "19bcfbfe-98f5-11ea-8d02-0242ac120007"
      },
      {
       "current": "90289876-95d4-11ea-8d02-0242ac120007",
       "next": "12f05020-9691-11ea-8d02-0242ac120007",
       "previous": "cbd6ba04-98f6-11ea-8d02-0242ac120007"
      },
      {
       "current": "90289876-95d4-11ea-8d02-0242ac120007-1-9368",
       "next": "5ae909a4-98f7-11ea-8d02-0242ac120007",
       "previous": "19bcfbfe-98f5-11ea-8d02-0242ac120007"
      },
      {
       "current": "90289876-95d4-11ea-8d02-0242ac120007-2-9368-ffd1",
       "next": "5ae909a4-98f7-11ea-8d02-0242ac120007-1-6349",
       "previous": "19bcfbfe-98f5-11ea-8d02-0242ac120007-1-42eb"
      },
      {
       "current": "90289876-95d4-11ea-8d02-0242ac120007-3-9368-ffd1-e25d",
       "next": "5ae909a4-98f7-11ea-8d02-0242ac120007-2-6349-600a",
       "previous": "19bcfbfe-98f5-11ea-8d02-0242ac120007-2-42eb-19e3"
      },
      {
       "current": "90289876-95d4-11ea-8d02-0242ac120007-4-9368-ffd1-e25d-c289",
       "next": "5ae909a4-98f7-11ea-8d02-0242ac120007-3-6349-600a-cece",
       "previous": "19bcfbfe-98f5-11ea-8d02-0242ac120007-3-42eb-19e3-1a65"
      },
      {
       "current": "90289876-95d4-11ea-8d02-0242ac120007-5-9368-ffd1-e25d-c289-b638",
       "next": "5ae909a4-98f7-11ea-8d02-0242ac120007-4-6349-600a-cece-3086",
       "previous": "19bcfbfe-98f5-11ea-8d02-0242ac120007-4-42eb-19e3-1a65-6f98"
      },
      {
       "current": "90289876-95d4-11ea-8d02-0242ac120007-6-9368-ffd1-e25d-c289-b638-253c",
       "next": "5ae909a4-98f7-11ea-8d02-0242ac120007-5-6349-600a-cece-3086-ce01",
       "previous": "19bcfbfe-98f5-11ea-8d02-0242ac120007-5-42eb-19e3-1a65-6f98-1545"
      },
      {
       "current": "90289876-95d4-11ea-8d02-0242ac120007-7-9368-ffd1-e25d-c289-b638-253c-d4df",
       "next": "5ae909a4-98f7-11ea-8d02-0242ac120007-6-6349-600a-cece-3086-ce01-3df5",
       "previous": "19bcfbfe-98f5-11ea-8d02-0242ac120007-6-42eb-19e3-1a65-6f98-1545-fb48"
      },
      {
       "current": "90289876-95d4-11ea-8d02-0242ac120007-8-9368-ffd1-e25d-c289-b638-253c-d4df-f0ce",
       "next": "5ae909a4-98f7-11ea-8d02-0242ac120007-7-6349-600a-cece-3086-ce01-3df5-e05f",
       "previous": "19bcfbfe-98f5-11ea-8d02-0242ac120007-7-42eb-19e3-1a65-6f98-1545-fb48-2069"
      }
     ],
     "next": "5ae909a4-98f7-11ea-8d02-0242ac120007-8-6349-600a-cece-3086-ce01-3df5-e05f-abfa",
     "previous": "19bcfbfe-98f5-11ea-8d02-0242ac120007-8-42eb-19e3-1a65-6f98-1545-fb48-2069-c092"
    }
   },
   "outputs": [],
   "source": [
    "!ansible -i $hosts -b -m dnf -a \"list='ceph'\" ceph_node"
   ]
  },
  {
   "cell_type": "code",
   "execution_count": null,
   "metadata": {
    "lc_cell_meme": {
     "current": "5ae909a4-98f7-11ea-8d02-0242ac120007-8-6349-600a-cece-3086-ce01-3df5-e05f-abfa",
     "history": [
      {
       "current": "5ae909a4-98f7-11ea-8d02-0242ac120007",
       "next": "12f05020-9691-11ea-8d02-0242ac120007",
       "previous": "90289876-95d4-11ea-8d02-0242ac120007"
      },
      {
       "current": "5ae909a4-98f7-11ea-8d02-0242ac120007-1-6349",
       "next": "95bcec66-95d8-11ea-8d02-0242ac120007",
       "previous": "90289876-95d4-11ea-8d02-0242ac120007"
      },
      {
       "current": "5ae909a4-98f7-11ea-8d02-0242ac120007-2-6349-600a",
       "next": "95bcec66-95d8-11ea-8d02-0242ac120007-1-4599",
       "previous": "90289876-95d4-11ea-8d02-0242ac120007-1-9368"
      },
      {
       "current": "5ae909a4-98f7-11ea-8d02-0242ac120007-2-6349-600a",
       "next": "95bcec66-95d8-11ea-8d02-0242ac120007-2-4599-bae7",
       "previous": "90289876-95d4-11ea-8d02-0242ac120007-2-9368-ffd1"
      },
      {
       "current": "5ae909a4-98f7-11ea-8d02-0242ac120007-2-6349-600a",
       "next": "4e639cee-dfc8-11eb-b29f-0242ac120008",
       "previous": "90289876-95d4-11ea-8d02-0242ac120007-2-9368-ffd1"
      },
      {
       "current": "5ae909a4-98f7-11ea-8d02-0242ac120007-2-6349-600a",
       "next": "95bcec66-95d8-11ea-8d02-0242ac120007-2-4599-bae7",
       "previous": "90289876-95d4-11ea-8d02-0242ac120007-2-9368-ffd1"
      },
      {
       "current": "5ae909a4-98f7-11ea-8d02-0242ac120007-3-6349-600a-cece",
       "next": "630dae3e-f58d-11eb-b29f-0242ac120008",
       "previous": "90289876-95d4-11ea-8d02-0242ac120007-2-9368-ffd1"
      },
      {
       "current": "5ae909a4-98f7-11ea-8d02-0242ac120007-4-6349-600a-cece-3086",
       "next": "630dae3e-f58d-11eb-b29f-0242ac120008-1-365f",
       "previous": "90289876-95d4-11ea-8d02-0242ac120007-3-9368-ffd1-e25d"
      },
      {
       "current": "5ae909a4-98f7-11ea-8d02-0242ac120007-5-6349-600a-cece-3086-ce01",
       "next": "630dae3e-f58d-11eb-b29f-0242ac120008-2-365f-7d1f",
       "previous": "90289876-95d4-11ea-8d02-0242ac120007-4-9368-ffd1-e25d-c289"
      },
      {
       "current": "5ae909a4-98f7-11ea-8d02-0242ac120007-6-6349-600a-cece-3086-ce01-3df5",
       "next": "630dae3e-f58d-11eb-b29f-0242ac120008-3-365f-7d1f-a95c",
       "previous": "90289876-95d4-11ea-8d02-0242ac120007-5-9368-ffd1-e25d-c289-b638"
      },
      {
       "current": "5ae909a4-98f7-11ea-8d02-0242ac120007-7-6349-600a-cece-3086-ce01-3df5-e05f",
       "next": "630dae3e-f58d-11eb-b29f-0242ac120008-4-365f-7d1f-a95c-10ec",
       "previous": "90289876-95d4-11ea-8d02-0242ac120007-6-9368-ffd1-e25d-c289-b638-253c"
      },
      {
       "current": "5ae909a4-98f7-11ea-8d02-0242ac120007-8-6349-600a-cece-3086-ce01-3df5-e05f-abfa",
       "next": "630dae3e-f58d-11eb-b29f-0242ac120008-5-365f-7d1f-a95c-10ec-03ce",
       "previous": "90289876-95d4-11ea-8d02-0242ac120007-7-9368-ffd1-e25d-c289-b638-253c-d4df"
      }
     ],
     "next": "630dae3e-f58d-11eb-b29f-0242ac120008-6-365f-7d1f-a95c-10ec-03ce-d6e9",
     "previous": "90289876-95d4-11ea-8d02-0242ac120007-8-9368-ffd1-e25d-c289-b638-253c-d4df-f0ce"
    },
    "scrolled": true
   },
   "outputs": [],
   "source": [
    "!ansible -i $hosts -b -m dnf -a \"list='openvswitch*'\" ceph_node"
   ]
  },
  {
   "cell_type": "code",
   "execution_count": null,
   "metadata": {
    "lc_cell_meme": {
     "current": "630dae3e-f58d-11eb-b29f-0242ac120008-6-365f-7d1f-a95c-10ec-03ce-d6e9",
     "history": [
      {
       "current": "630dae3e-f58d-11eb-b29f-0242ac120008",
       "next": "95bcec66-95d8-11ea-8d02-0242ac120007-2-4599-bae7",
       "previous": "5ae909a4-98f7-11ea-8d02-0242ac120007-2-6349-600a"
      },
      {
       "current": "630dae3e-f58d-11eb-b29f-0242ac120008-1-365f",
       "next": "de88fbd6-1166-11ed-a1da-0242ac120004",
       "previous": "5ae909a4-98f7-11ea-8d02-0242ac120007-2-6349-600a"
      },
      {
       "current": "630dae3e-f58d-11eb-b29f-0242ac120008-2-365f-7d1f",
       "next": "de88fbd6-1166-11ed-a1da-0242ac120004-1-9c17",
       "previous": "5ae909a4-98f7-11ea-8d02-0242ac120007-3-6349-600a-cece"
      },
      {
       "current": "630dae3e-f58d-11eb-b29f-0242ac120008-3-365f-7d1f-a95c",
       "next": "de88fbd6-1166-11ed-a1da-0242ac120004-2-9c17-3be9",
       "previous": "5ae909a4-98f7-11ea-8d02-0242ac120007-4-6349-600a-cece-3086"
      },
      {
       "current": "630dae3e-f58d-11eb-b29f-0242ac120008-4-365f-7d1f-a95c-10ec",
       "next": "de88fbd6-1166-11ed-a1da-0242ac120004-3-9c17-3be9-72bb",
       "previous": "5ae909a4-98f7-11ea-8d02-0242ac120007-5-6349-600a-cece-3086-ce01"
      },
      {
       "current": "630dae3e-f58d-11eb-b29f-0242ac120008-5-365f-7d1f-a95c-10ec-03ce",
       "next": "de88fbd6-1166-11ed-a1da-0242ac120004-4-9c17-3be9-72bb-618c",
       "previous": "5ae909a4-98f7-11ea-8d02-0242ac120007-6-6349-600a-cece-3086-ce01-3df5"
      },
      {
       "current": "630dae3e-f58d-11eb-b29f-0242ac120008-6-365f-7d1f-a95c-10ec-03ce-d6e9",
       "next": "de88fbd6-1166-11ed-a1da-0242ac120004-5-9c17-3be9-72bb-618c-b358",
       "previous": "5ae909a4-98f7-11ea-8d02-0242ac120007-7-6349-600a-cece-3086-ce01-3df5-e05f"
      }
     ],
     "next": "de88fbd6-1166-11ed-a1da-0242ac120004-6-9c17-3be9-72bb-618c-b358-dc7c",
     "previous": "5ae909a4-98f7-11ea-8d02-0242ac120007-8-6349-600a-cece-3086-ce01-3df5-e05f-abfa"
    }
   },
   "outputs": [],
   "source": [
    "!ansible -i $hosts -b -m dnf -a \"list='python3-pbr'\" ceph_node"
   ]
  },
  {
   "cell_type": "markdown",
   "metadata": {
    "lc_cell_meme": {
     "current": "de88fbd6-1166-11ed-a1da-0242ac120004-6-9c17-3be9-72bb-618c-b358-dc7c",
     "history": [
      {
       "current": "de88fbd6-1166-11ed-a1da-0242ac120004",
       "next": "de88fce4-1166-11ed-a1da-0242ac120004",
       "previous": "de88fabe-1166-11ed-a1da-0242ac120004"
      },
      {
       "current": "de88fbd6-1166-11ed-a1da-0242ac120004-1-9c17",
       "next": "de88fce4-1166-11ed-a1da-0242ac120004",
       "previous": "630dae3e-f58d-11eb-b29f-0242ac120008"
      },
      {
       "current": "de88fbd6-1166-11ed-a1da-0242ac120004-2-9c17-3be9",
       "next": "de88fce4-1166-11ed-a1da-0242ac120004-1-628e",
       "previous": "630dae3e-f58d-11eb-b29f-0242ac120008-1-365f"
      },
      {
       "current": "de88fbd6-1166-11ed-a1da-0242ac120004-3-9c17-3be9-72bb",
       "next": "de88fce4-1166-11ed-a1da-0242ac120004-2-628e-6b0d",
       "previous": "630dae3e-f58d-11eb-b29f-0242ac120008-2-365f-7d1f"
      },
      {
       "current": "de88fbd6-1166-11ed-a1da-0242ac120004-4-9c17-3be9-72bb-618c",
       "next": "de88fce4-1166-11ed-a1da-0242ac120004-3-628e-6b0d-f3f9",
       "previous": "630dae3e-f58d-11eb-b29f-0242ac120008-3-365f-7d1f-a95c"
      },
      {
       "current": "de88fbd6-1166-11ed-a1da-0242ac120004-5-9c17-3be9-72bb-618c-b358",
       "next": "de88fce4-1166-11ed-a1da-0242ac120004-4-628e-6b0d-f3f9-03d8",
       "previous": "630dae3e-f58d-11eb-b29f-0242ac120008-4-365f-7d1f-a95c-10ec"
      },
      {
       "current": "de88fbd6-1166-11ed-a1da-0242ac120004-6-9c17-3be9-72bb-618c-b358-dc7c",
       "next": "de88fce4-1166-11ed-a1da-0242ac120004-5-628e-6b0d-f3f9-03d8-1d7b",
       "previous": "630dae3e-f58d-11eb-b29f-0242ac120008-5-365f-7d1f-a95c-10ec-03ce"
      }
     ],
     "next": "de88fce4-1166-11ed-a1da-0242ac120004-6-628e-6b0d-f3f9-03d8-1d7b-5093",
     "previous": "630dae3e-f58d-11eb-b29f-0242ac120008-6-365f-7d1f-a95c-10ec-03ce-d6e9"
    }
   },
   "source": [
    "## リポジトリ更新とアップデート"
   ]
  },
  {
   "cell_type": "code",
   "execution_count": null,
   "metadata": {
    "lc_cell_meme": {
     "current": "de88fce4-1166-11ed-a1da-0242ac120004-6-628e-6b0d-f3f9-03d8-1d7b-5093",
     "history": [
      {
       "current": "de88fce4-1166-11ed-a1da-0242ac120004-1-628e",
       "next": "de88fdf2-1166-11ed-a1da-0242ac120004",
       "previous": "de88fbd6-1166-11ed-a1da-0242ac120004"
      },
      {
       "current": "de88fce4-1166-11ed-a1da-0242ac120004-2-628e-6b0d",
       "next": "de88fdf2-1166-11ed-a1da-0242ac120004-1-8c06",
       "previous": "de88fbd6-1166-11ed-a1da-0242ac120004-1-9c17"
      },
      {
       "current": "de88fce4-1166-11ed-a1da-0242ac120004-3-628e-6b0d-f3f9",
       "next": "de88fdf2-1166-11ed-a1da-0242ac120004-2-8c06-2505",
       "previous": "de88fbd6-1166-11ed-a1da-0242ac120004-2-9c17-3be9"
      },
      {
       "current": "de88fce4-1166-11ed-a1da-0242ac120004-4-628e-6b0d-f3f9-03d8",
       "next": "de88fdf2-1166-11ed-a1da-0242ac120004-3-8c06-2505-56e0",
       "previous": "de88fbd6-1166-11ed-a1da-0242ac120004-3-9c17-3be9-72bb"
      },
      {
       "current": "de88fce4-1166-11ed-a1da-0242ac120004-5-628e-6b0d-f3f9-03d8-1d7b",
       "next": "de88fdf2-1166-11ed-a1da-0242ac120004-4-8c06-2505-56e0-2d75",
       "previous": "de88fbd6-1166-11ed-a1da-0242ac120004-4-9c17-3be9-72bb-618c"
      },
      {
       "current": "de88fce4-1166-11ed-a1da-0242ac120004-6-628e-6b0d-f3f9-03d8-1d7b-5093",
       "next": "de88fdf2-1166-11ed-a1da-0242ac120004-5-8c06-2505-56e0-2d75-b110",
       "previous": "de88fbd6-1166-11ed-a1da-0242ac120004-5-9c17-3be9-72bb-618c-b358"
      }
     ],
     "next": "de88fdf2-1166-11ed-a1da-0242ac120004-6-8c06-2505-56e0-2d75-b110-5ef2",
     "previous": "de88fbd6-1166-11ed-a1da-0242ac120004-6-9c17-3be9-72bb-618c-b358-dc7c"
    }
   },
   "outputs": [],
   "source": [
    "!ansible -i $hosts -b -m shell -a \"dnf clean all --enablerepo='*'\" ceph_node"
   ]
  },
  {
   "cell_type": "code",
   "execution_count": null,
   "metadata": {
    "lc_cell_meme": {
     "current": "de88fdf2-1166-11ed-a1da-0242ac120004-6-8c06-2505-56e0-2d75-b110-5ef2",
     "history": [
      {
       "current": "de88fdf2-1166-11ed-a1da-0242ac120004-1-8c06",
       "next": "de88ff00-1166-11ed-a1da-0242ac120004",
       "previous": "de88fce4-1166-11ed-a1da-0242ac120004"
      },
      {
       "current": "de88fdf2-1166-11ed-a1da-0242ac120004-2-8c06-2505",
       "next": "de88ff00-1166-11ed-a1da-0242ac120004-1-31bb",
       "previous": "de88fce4-1166-11ed-a1da-0242ac120004-1-628e"
      },
      {
       "current": "de88fdf2-1166-11ed-a1da-0242ac120004-3-8c06-2505-56e0",
       "next": "de88ff00-1166-11ed-a1da-0242ac120004-2-31bb-fbb9",
       "previous": "de88fce4-1166-11ed-a1da-0242ac120004-2-628e-6b0d"
      },
      {
       "current": "de88fdf2-1166-11ed-a1da-0242ac120004-4-8c06-2505-56e0-2d75",
       "next": "de88ff00-1166-11ed-a1da-0242ac120004-3-31bb-fbb9-3e5f",
       "previous": "de88fce4-1166-11ed-a1da-0242ac120004-3-628e-6b0d-f3f9"
      },
      {
       "current": "de88fdf2-1166-11ed-a1da-0242ac120004-5-8c06-2505-56e0-2d75-b110",
       "next": "de88ff00-1166-11ed-a1da-0242ac120004-4-31bb-fbb9-3e5f-febb",
       "previous": "de88fce4-1166-11ed-a1da-0242ac120004-4-628e-6b0d-f3f9-03d8"
      },
      {
       "current": "de88fdf2-1166-11ed-a1da-0242ac120004-6-8c06-2505-56e0-2d75-b110-5ef2",
       "next": "de88ff00-1166-11ed-a1da-0242ac120004-5-31bb-fbb9-3e5f-febb-33fd",
       "previous": "de88fce4-1166-11ed-a1da-0242ac120004-5-628e-6b0d-f3f9-03d8-1d7b"
      }
     ],
     "next": "de88ff00-1166-11ed-a1da-0242ac120004-6-31bb-fbb9-3e5f-febb-33fd-eed2",
     "previous": "de88fce4-1166-11ed-a1da-0242ac120004-6-628e-6b0d-f3f9-03d8-1d7b-5093"
    },
    "scrolled": true
   },
   "outputs": [],
   "source": [
    "!ansible -i $hosts -b -m dnf -a \"name='*' state=latest\" ceph_node"
   ]
  },
  {
   "cell_type": "code",
   "execution_count": null,
   "metadata": {
    "lc_cell_meme": {
     "current": "de88ff00-1166-11ed-a1da-0242ac120004-6-31bb-fbb9-3e5f-febb-33fd-eed2",
     "history": [
      {
       "current": "de88ff00-1166-11ed-a1da-0242ac120004-1-31bb",
       "next": "eb7c0c08-1165-11ed-a1da-0242ac120004",
       "previous": "de88fdf2-1166-11ed-a1da-0242ac120004"
      },
      {
       "current": "de88ff00-1166-11ed-a1da-0242ac120004-2-31bb-fbb9",
       "next": "eb7c0c08-1165-11ed-a1da-0242ac120004-1-2db0",
       "previous": "de88fdf2-1166-11ed-a1da-0242ac120004-1-8c06"
      },
      {
       "current": "de88ff00-1166-11ed-a1da-0242ac120004-3-31bb-fbb9-3e5f",
       "next": "eb7c0c08-1165-11ed-a1da-0242ac120004-2-2db0-67c4",
       "previous": "de88fdf2-1166-11ed-a1da-0242ac120004-2-8c06-2505"
      },
      {
       "current": "de88ff00-1166-11ed-a1da-0242ac120004-4-31bb-fbb9-3e5f-febb",
       "next": "eb7c0c08-1165-11ed-a1da-0242ac120004-3-2db0-67c4-125a",
       "previous": "de88fdf2-1166-11ed-a1da-0242ac120004-3-8c06-2505-56e0"
      },
      {
       "current": "de88ff00-1166-11ed-a1da-0242ac120004-5-31bb-fbb9-3e5f-febb-33fd",
       "next": "eb7c0c08-1165-11ed-a1da-0242ac120004-4-2db0-67c4-125a-f94c",
       "previous": "de88fdf2-1166-11ed-a1da-0242ac120004-4-8c06-2505-56e0-2d75"
      },
      {
       "current": "de88ff00-1166-11ed-a1da-0242ac120004-6-31bb-fbb9-3e5f-febb-33fd-eed2",
       "next": "eb7c0c08-1165-11ed-a1da-0242ac120004-5-2db0-67c4-125a-f94c-1773",
       "previous": "de88fdf2-1166-11ed-a1da-0242ac120004-5-8c06-2505-56e0-2d75-b110"
      }
     ],
     "next": "eb7c0c08-1165-11ed-a1da-0242ac120004-6-2db0-67c4-125a-f94c-1773-9b23",
     "previous": "de88fdf2-1166-11ed-a1da-0242ac120004-6-8c06-2505-56e0-2d75-b110-5ef2"
    }
   },
   "outputs": [],
   "source": [
    "!ansible -i $hosts -b -m shell -a \"dnf list openvswitch*\" ceph_node"
   ]
  },
  {
   "cell_type": "code",
   "execution_count": null,
   "metadata": {
    "lc_cell_meme": {
     "current": "eb7c0c08-1165-11ed-a1da-0242ac120004-6-2db0-67c4-125a-f94c-1773-9b23",
     "history": [
      {
       "current": "eb7c0c08-1165-11ed-a1da-0242ac120004",
       "next": "eb7c0d66-1165-11ed-a1da-0242ac120004",
       "previous": "eb7c0aaa-1165-11ed-a1da-0242ac120004"
      },
      {
       "current": "eb7c0c08-1165-11ed-a1da-0242ac120004-1-2db0",
       "next": "eb7c0d66-1165-11ed-a1da-0242ac120004",
       "previous": "de88ff00-1166-11ed-a1da-0242ac120004"
      },
      {
       "current": "eb7c0c08-1165-11ed-a1da-0242ac120004-2-2db0-67c4",
       "next": "eb7c0d66-1165-11ed-a1da-0242ac120004-1-37b2",
       "previous": "de88ff00-1166-11ed-a1da-0242ac120004-1-31bb"
      },
      {
       "current": "eb7c0c08-1165-11ed-a1da-0242ac120004-3-2db0-67c4-125a",
       "next": "eb7c0d66-1165-11ed-a1da-0242ac120004-2-37b2-b23c",
       "previous": "de88ff00-1166-11ed-a1da-0242ac120004-2-31bb-fbb9"
      },
      {
       "current": "eb7c0c08-1165-11ed-a1da-0242ac120004-4-2db0-67c4-125a-f94c",
       "next": "eb7c0d66-1165-11ed-a1da-0242ac120004-3-37b2-b23c-b467",
       "previous": "de88ff00-1166-11ed-a1da-0242ac120004-3-31bb-fbb9-3e5f"
      },
      {
       "current": "eb7c0c08-1165-11ed-a1da-0242ac120004-5-2db0-67c4-125a-f94c-1773",
       "next": "eb7c0d66-1165-11ed-a1da-0242ac120004-4-37b2-b23c-b467-d604",
       "previous": "de88ff00-1166-11ed-a1da-0242ac120004-4-31bb-fbb9-3e5f-febb"
      },
      {
       "current": "eb7c0c08-1165-11ed-a1da-0242ac120004-6-2db0-67c4-125a-f94c-1773-9b23",
       "next": "eb7c0d66-1165-11ed-a1da-0242ac120004-5-37b2-b23c-b467-d604-084d",
       "previous": "de88ff00-1166-11ed-a1da-0242ac120004-5-31bb-fbb9-3e5f-febb-33fd"
      }
     ],
     "next": "eb7c0d66-1165-11ed-a1da-0242ac120004-6-37b2-b23c-b467-d604-084d-29cc",
     "previous": "de88ff00-1166-11ed-a1da-0242ac120004-6-31bb-fbb9-3e5f-febb-33fd-eed2"
    }
   },
   "outputs": [],
   "source": [
    "!ansible -i $hosts -b -m shell -a \"dnf list ceph*\" ceph_node"
   ]
  },
  {
   "cell_type": "code",
   "execution_count": null,
   "metadata": {
    "lc_cell_meme": {
     "current": "eb7c0d66-1165-11ed-a1da-0242ac120004-6-37b2-b23c-b467-d604-084d-29cc",
     "history": [
      {
       "current": "eb7c0d66-1165-11ed-a1da-0242ac120004",
       "next": "86a76950-dfbe-11eb-b29f-0242ac120008",
       "previous": "eb7c0c08-1165-11ed-a1da-0242ac120004"
      },
      {
       "current": "eb7c0d66-1165-11ed-a1da-0242ac120004-1-37b2",
       "next": "35c3783e-55a3-11e7-b0b2-00163e9c0e35-2-c9f6-1c40",
       "previous": "eb7c0c08-1165-11ed-a1da-0242ac120004"
      },
      {
       "current": "eb7c0d66-1165-11ed-a1da-0242ac120004-1-37b2",
       "next": "35c3783e-55a3-11e7-b0b2-00163e9c0e35-3-c9f6-1c40-392d",
       "previous": "eb7c0c08-1165-11ed-a1da-0242ac120004-1-2db0"
      },
      {
       "current": "eb7c0d66-1165-11ed-a1da-0242ac120004-2-37b2-b23c",
       "next": "35c3783e-55a3-11e7-b0b2-00163e9c0e35-4-c9f6-1c40-392d-9db1",
       "previous": "eb7c0c08-1165-11ed-a1da-0242ac120004-1-2db0"
      },
      {
       "current": "eb7c0d66-1165-11ed-a1da-0242ac120004-3-37b2-b23c-b467",
       "next": "35c3783e-55a3-11e7-b0b2-00163e9c0e35-5-c9f6-1c40-392d-9db1-89aa",
       "previous": "eb7c0c08-1165-11ed-a1da-0242ac120004-2-2db0-67c4"
      },
      {
       "current": "eb7c0d66-1165-11ed-a1da-0242ac120004-4-37b2-b23c-b467-d604",
       "next": "35c3783e-55a3-11e7-b0b2-00163e9c0e35-6-c9f6-1c40-392d-9db1-89aa-a5e0",
       "previous": "eb7c0c08-1165-11ed-a1da-0242ac120004-3-2db0-67c4-125a"
      },
      {
       "current": "eb7c0d66-1165-11ed-a1da-0242ac120004-5-37b2-b23c-b467-d604-084d",
       "next": "35c3783e-55a3-11e7-b0b2-00163e9c0e35-7-c9f6-1c40-392d-9db1-89aa-a5e0-75df",
       "previous": "eb7c0c08-1165-11ed-a1da-0242ac120004-4-2db0-67c4-125a-f94c"
      },
      {
       "current": "eb7c0d66-1165-11ed-a1da-0242ac120004-6-37b2-b23c-b467-d604-084d-29cc",
       "next": "35c3783e-55a3-11e7-b0b2-00163e9c0e35-8-c9f6-1c40-392d-9db1-89aa-a5e0-75df-c1ab",
       "previous": "eb7c0c08-1165-11ed-a1da-0242ac120004-5-2db0-67c4-125a-f94c-1773"
      }
     ],
     "next": "35c3783e-55a3-11e7-b0b2-00163e9c0e35-9-c9f6-1c40-392d-9db1-89aa-a5e0-75df-c1ab-56c1",
     "previous": "eb7c0c08-1165-11ed-a1da-0242ac120004-6-2db0-67c4-125a-f94c-1773-9b23"
    }
   },
   "outputs": [],
   "source": [
    "!ansible -i $hosts -b -m reboot -a \"reboot_timeout=3600\" ceph_node"
   ]
  },
  {
   "cell_type": "markdown",
   "metadata": {
    "lc_cell_meme": {
     "current": "35c3783e-55a3-11e7-b0b2-00163e9c0e35-9-c9f6-1c40-392d-9db1-89aa-a5e0-75df-c1ab-56c1",
     "history": [
      {
       "current": "35c3783e-55a3-11e7-b0b2-00163e9c0e35",
       "next": "35c379ec-55a3-11e7-b0b2-00163e9c0e35",
       "previous": "35c3769a-55a3-11e7-b0b2-00163e9c0e35"
      },
      {
       "current": "35c3783e-55a3-11e7-b0b2-00163e9c0e35",
       "next": "85346e24-5723-11e7-b0b2-00163e9c0e35",
       "previous": "35c3769a-55a3-11e7-b0b2-00163e9c0e35"
      },
      {
       "current": "35c3783e-55a3-11e7-b0b2-00163e9c0e35",
       "next": "85346e24-5723-11e7-b0b2-00163e9c0e35",
       "previous": "a7aa037e-3119-11ea-aa35-0242ac120004"
      },
      {
       "current": "35c3783e-55a3-11e7-b0b2-00163e9c0e35",
       "next": "85346e24-5723-11e7-b0b2-00163e9c0e35",
       "previous": "35c3769a-55a3-11e7-b0b2-00163e9c0e35"
      },
      {
       "current": "35c3783e-55a3-11e7-b0b2-00163e9c0e35",
       "next": "85346e24-5723-11e7-b0b2-00163e9c0e35",
       "previous": "ea09476a-839a-11ea-8d02-0242ac120007"
      },
      {
       "current": "35c3783e-55a3-11e7-b0b2-00163e9c0e35",
       "next": "85346e24-5723-11e7-b0b2-00163e9c0e35",
       "previous": "35c36448-55a3-11e7-b0b2-00163e9c0e35"
      },
      {
       "current": "35c3783e-55a3-11e7-b0b2-00163e9c0e35",
       "next": "85346e24-5723-11e7-b0b2-00163e9c0e35",
       "previous": "bd797188-910b-11ea-8d02-0242ac120007"
      },
      {
       "current": "35c3783e-55a3-11e7-b0b2-00163e9c0e35",
       "next": "c68a90e2-959b-11ea-8d02-0242ac120007",
       "previous": "bd797188-910b-11ea-8d02-0242ac120007"
      },
      {
       "current": "35c3783e-55a3-11e7-b0b2-00163e9c0e35",
       "next": "c68a90e2-959b-11ea-8d02-0242ac120007",
       "previous": "ac56b2ce-95bd-11ea-8d02-0242ac120007"
      },
      {
       "current": "35c3783e-55a3-11e7-b0b2-00163e9c0e35",
       "next": "c68a90e2-959b-11ea-8d02-0242ac120007",
       "previous": "12041eee-95bf-11ea-8d02-0242ac120007"
      },
      {
       "current": "35c3783e-55a3-11e7-b0b2-00163e9c0e35",
       "next": "c68a90e2-959b-11ea-8d02-0242ac120007",
       "previous": "d035b8ee-95d0-11ea-8d02-0242ac120007"
      },
      {
       "current": "35c3783e-55a3-11e7-b0b2-00163e9c0e35",
       "next": "c68a90e2-959b-11ea-8d02-0242ac120007",
       "previous": "5f483e80-95d1-11ea-8d02-0242ac120007"
      },
      {
       "current": "35c3783e-55a3-11e7-b0b2-00163e9c0e35",
       "next": "c68a90e2-959b-11ea-8d02-0242ac120007",
       "previous": "a6d3e2f4-95d1-11ea-8d02-0242ac120007"
      },
      {
       "current": "35c3783e-55a3-11e7-b0b2-00163e9c0e35",
       "next": "c68a90e2-959b-11ea-8d02-0242ac120007",
       "previous": "ee425fa8-95d1-11ea-8d02-0242ac120007"
      },
      {
       "current": "35c3783e-55a3-11e7-b0b2-00163e9c0e35",
       "next": "2a99051e-95d3-11ea-8d02-0242ac120007",
       "previous": "ee425fa8-95d1-11ea-8d02-0242ac120007"
      },
      {
       "current": "35c3783e-55a3-11e7-b0b2-00163e9c0e35",
       "next": "0aaa0a98-963f-11ea-8d02-0242ac120007",
       "previous": "ee425fa8-95d1-11ea-8d02-0242ac120007"
      },
      {
       "current": "35c3783e-55a3-11e7-b0b2-00163e9c0e35-1-c9f6",
       "next": "0aaa0a98-963f-11ea-8d02-0242ac120007",
       "previous": "12f05426-9691-11ea-8d02-0242ac120007"
      },
      {
       "current": "35c3783e-55a3-11e7-b0b2-00163e9c0e35-2-c9f6-1c40",
       "next": "0aaa0a98-963f-11ea-8d02-0242ac120007-1-b280",
       "previous": "12f05426-9691-11ea-8d02-0242ac120007-1-e712"
      },
      {
       "current": "35c3783e-55a3-11e7-b0b2-00163e9c0e35-2-c9f6-1c40",
       "next": "0aaa0a98-963f-11ea-8d02-0242ac120007-2-b280-7f9a",
       "previous": "12f05426-9691-11ea-8d02-0242ac120007-2-e712-82ef"
      },
      {
       "current": "35c3783e-55a3-11e7-b0b2-00163e9c0e35-2-c9f6-1c40",
       "next": "0aaa0a98-963f-11ea-8d02-0242ac120007-2-b280-7f9a",
       "previous": "eb7c0d66-1165-11ed-a1da-0242ac120004"
      },
      {
       "current": "35c3783e-55a3-11e7-b0b2-00163e9c0e35-3-c9f6-1c40-392d",
       "next": "95bcec66-95d8-11ea-8d02-0242ac120007-2-4599-bae7",
       "previous": "eb7c0d66-1165-11ed-a1da-0242ac120004"
      },
      {
       "current": "35c3783e-55a3-11e7-b0b2-00163e9c0e35-3-c9f6-1c40-392d",
       "next": "95bcec66-95d8-11ea-8d02-0242ac120007-3-4599-bae7-2152",
       "previous": "eb7c0d66-1165-11ed-a1da-0242ac120004-1-37b2"
      },
      {
       "current": "35c3783e-55a3-11e7-b0b2-00163e9c0e35-4-c9f6-1c40-392d-9db1",
       "next": "09f9963e-46f1-11ee-89fa-0242ac120005",
       "previous": "eb7c0d66-1165-11ed-a1da-0242ac120004-1-37b2"
      },
      {
       "current": "35c3783e-55a3-11e7-b0b2-00163e9c0e35-4-c9f6-1c40-392d-9db1",
       "next": "990cee0c-46f1-11ee-89fa-0242ac120005",
       "previous": "eb7c0d66-1165-11ed-a1da-0242ac120004-1-37b2"
      },
      {
       "current": "35c3783e-55a3-11e7-b0b2-00163e9c0e35-4-c9f6-1c40-392d-9db1",
       "next": "09f9963e-46f1-11ee-89fa-0242ac120005",
       "previous": "eb7c0d66-1165-11ed-a1da-0242ac120004-1-37b2"
      },
      {
       "current": "35c3783e-55a3-11e7-b0b2-00163e9c0e35-5-c9f6-1c40-392d-9db1-89aa",
       "next": "95bcec66-95d8-11ea-8d02-0242ac120007-3-4599-bae7-2152",
       "previous": "eb7c0d66-1165-11ed-a1da-0242ac120004-1-37b2"
      },
      {
       "current": "35c3783e-55a3-11e7-b0b2-00163e9c0e35-6-c9f6-1c40-392d-9db1-89aa-a5e0",
       "next": "95bcec66-95d8-11ea-8d02-0242ac120007-4-4599-bae7-2152-f5e7",
       "previous": "eb7c0d66-1165-11ed-a1da-0242ac120004-2-37b2-b23c"
      },
      {
       "current": "35c3783e-55a3-11e7-b0b2-00163e9c0e35-7-c9f6-1c40-392d-9db1-89aa-a5e0-75df",
       "next": "95bcec66-95d8-11ea-8d02-0242ac120007-5-4599-bae7-2152-f5e7-a2c6",
       "previous": "eb7c0d66-1165-11ed-a1da-0242ac120004-3-37b2-b23c-b467"
      },
      {
       "current": "35c3783e-55a3-11e7-b0b2-00163e9c0e35-8-c9f6-1c40-392d-9db1-89aa-a5e0-75df-c1ab",
       "next": "95bcec66-95d8-11ea-8d02-0242ac120007-6-4599-bae7-2152-f5e7-a2c6-99eb",
       "previous": "eb7c0d66-1165-11ed-a1da-0242ac120004-4-37b2-b23c-b467-d604"
      },
      {
       "current": "35c3783e-55a3-11e7-b0b2-00163e9c0e35-9-c9f6-1c40-392d-9db1-89aa-a5e0-75df-c1ab-56c1",
       "next": "95bcec66-95d8-11ea-8d02-0242ac120007-7-4599-bae7-2152-f5e7-a2c6-99eb-0903",
       "previous": "eb7c0d66-1165-11ed-a1da-0242ac120004-5-37b2-b23c-b467-d604-084d"
      }
     ],
     "next": "95bcec66-95d8-11ea-8d02-0242ac120007-8-4599-bae7-2152-f5e7-a2c6-99eb-0903-fcbf",
     "previous": "eb7c0d66-1165-11ed-a1da-0242ac120004-6-37b2-b23c-b467-d604-084d-29cc"
    }
   },
   "source": [
    "# Cephパッケージインストール\n",
    "CephNodeに必要なパッケージをインストールする。<br>"
   ]
  },
  {
   "cell_type": "markdown",
   "metadata": {
    "lc_cell_meme": {
     "current": "95bcec66-95d8-11ea-8d02-0242ac120007-8-4599-bae7-2152-f5e7-a2c6-99eb-0903-fcbf",
     "history": [
      {
       "current": "95bcec66-95d8-11ea-8d02-0242ac120007",
       "next": "95bcef4a-95d8-11ea-8d02-0242ac120007",
       "previous": "90289876-95d4-11ea-8d02-0242ac120007"
      },
      {
       "current": "95bcec66-95d8-11ea-8d02-0242ac120007",
       "next": "95bcef4a-95d8-11ea-8d02-0242ac120007",
       "previous": "12f05426-9691-11ea-8d02-0242ac120007"
      },
      {
       "current": "95bcec66-95d8-11ea-8d02-0242ac120007-1-4599",
       "next": "95bcef4a-95d8-11ea-8d02-0242ac120007",
       "previous": "5ae909a4-98f7-11ea-8d02-0242ac120007"
      },
      {
       "current": "95bcec66-95d8-11ea-8d02-0242ac120007-2-4599-bae7",
       "next": "95bcef4a-95d8-11ea-8d02-0242ac120007-1-2990",
       "previous": "5ae909a4-98f7-11ea-8d02-0242ac120007-1-6349"
      },
      {
       "current": "95bcec66-95d8-11ea-8d02-0242ac120007-2-4599-bae7",
       "next": "95bcef4a-95d8-11ea-8d02-0242ac120007-2-2990-8cd7",
       "previous": "5ae909a4-98f7-11ea-8d02-0242ac120007-2-6349-600a"
      },
      {
       "current": "95bcec66-95d8-11ea-8d02-0242ac120007-2-4599-bae7",
       "next": "95bcef4a-95d8-11ea-8d02-0242ac120007-2-2990-8cd7",
       "previous": "4e63a022-dfc8-11eb-b29f-0242ac120008"
      },
      {
       "current": "95bcec66-95d8-11ea-8d02-0242ac120007-2-4599-bae7",
       "next": "95bcef4a-95d8-11ea-8d02-0242ac120007-2-2990-8cd7",
       "previous": "5ae909a4-98f7-11ea-8d02-0242ac120007-2-6349-600a"
      },
      {
       "current": "95bcec66-95d8-11ea-8d02-0242ac120007-2-4599-bae7",
       "next": "95bcef4a-95d8-11ea-8d02-0242ac120007-2-2990-8cd7",
       "previous": "630dae3e-f58d-11eb-b29f-0242ac120008"
      },
      {
       "current": "95bcec66-95d8-11ea-8d02-0242ac120007-3-4599-bae7-2152",
       "next": "95bcef4a-95d8-11ea-8d02-0242ac120007-2-2990-8cd7",
       "previous": "35c3783e-55a3-11e7-b0b2-00163e9c0e35-2-c9f6-1c40"
      },
      {
       "current": "95bcec66-95d8-11ea-8d02-0242ac120007-3-4599-bae7-2152",
       "next": "95bcef4a-95d8-11ea-8d02-0242ac120007-3-2990-8cd7-38e0",
       "previous": "35c3783e-55a3-11e7-b0b2-00163e9c0e35-3-c9f6-1c40-392d"
      },
      {
       "current": "95bcec66-95d8-11ea-8d02-0242ac120007-3-4599-bae7-2152",
       "next": "95bcef4a-95d8-11ea-8d02-0242ac120007-3-2990-8cd7-38e0",
       "previous": "09f997f6-46f1-11ee-89fa-0242ac120005"
      },
      {
       "current": "95bcec66-95d8-11ea-8d02-0242ac120007-3-4599-bae7-2152",
       "next": "95bcef4a-95d8-11ea-8d02-0242ac120007-3-2990-8cd7-38e0",
       "previous": "09f9963e-46f1-11ee-89fa-0242ac120005"
      },
      {
       "current": "95bcec66-95d8-11ea-8d02-0242ac120007-4-4599-bae7-2152-f5e7",
       "next": "95bcef4a-95d8-11ea-8d02-0242ac120007-3-2990-8cd7-38e0",
       "previous": "35c3783e-55a3-11e7-b0b2-00163e9c0e35-4-c9f6-1c40-392d-9db1"
      },
      {
       "current": "95bcec66-95d8-11ea-8d02-0242ac120007-5-4599-bae7-2152-f5e7-a2c6",
       "next": "95bcef4a-95d8-11ea-8d02-0242ac120007-4-2990-8cd7-38e0-5d04",
       "previous": "35c3783e-55a3-11e7-b0b2-00163e9c0e35-5-c9f6-1c40-392d-9db1-89aa"
      },
      {
       "current": "95bcec66-95d8-11ea-8d02-0242ac120007-6-4599-bae7-2152-f5e7-a2c6-99eb",
       "next": "95bcef4a-95d8-11ea-8d02-0242ac120007-5-2990-8cd7-38e0-5d04-a0af",
       "previous": "35c3783e-55a3-11e7-b0b2-00163e9c0e35-6-c9f6-1c40-392d-9db1-89aa-a5e0"
      },
      {
       "current": "95bcec66-95d8-11ea-8d02-0242ac120007-7-4599-bae7-2152-f5e7-a2c6-99eb-0903",
       "next": "95bcef4a-95d8-11ea-8d02-0242ac120007-6-2990-8cd7-38e0-5d04-a0af-8589",
       "previous": "35c3783e-55a3-11e7-b0b2-00163e9c0e35-7-c9f6-1c40-392d-9db1-89aa-a5e0-75df"
      },
      {
       "current": "95bcec66-95d8-11ea-8d02-0242ac120007-8-4599-bae7-2152-f5e7-a2c6-99eb-0903-fcbf",
       "next": "95bcef4a-95d8-11ea-8d02-0242ac120007-7-2990-8cd7-38e0-5d04-a0af-8589-6232",
       "previous": "35c3783e-55a3-11e7-b0b2-00163e9c0e35-8-c9f6-1c40-392d-9db1-89aa-a5e0-75df-c1ab"
      }
     ],
     "next": "95bcef4a-95d8-11ea-8d02-0242ac120007-8-2990-8cd7-38e0-5d04-a0af-8589-6232-0fd8",
     "previous": "35c3783e-55a3-11e7-b0b2-00163e9c0e35-9-c9f6-1c40-392d-9db1-89aa-a5e0-75df-c1ab-56c1"
    }
   },
   "source": [
    "## playbook作成\n"
   ]
  },
  {
   "cell_type": "code",
   "execution_count": null,
   "metadata": {
    "lc_cell_meme": {
     "current": "95bcef4a-95d8-11ea-8d02-0242ac120007-8-2990-8cd7-38e0-5d04-a0af-8589-6232-0fd8",
     "history": [
      {
       "current": "95bcef4a-95d8-11ea-8d02-0242ac120007",
       "next": "95bcf116-95d8-11ea-8d02-0242ac120007",
       "previous": "95bcec66-95d8-11ea-8d02-0242ac120007"
      },
      {
       "current": "95bcef4a-95d8-11ea-8d02-0242ac120007-1-2990",
       "next": "35c37b90-55a3-11e7-b0b2-00163e9c0e35",
       "previous": "95bcec66-95d8-11ea-8d02-0242ac120007"
      },
      {
       "current": "95bcef4a-95d8-11ea-8d02-0242ac120007-2-2990-8cd7",
       "next": "35c37b90-55a3-11e7-b0b2-00163e9c0e35-1-5653",
       "previous": "95bcec66-95d8-11ea-8d02-0242ac120007-1-4599"
      },
      {
       "current": "95bcef4a-95d8-11ea-8d02-0242ac120007-3-2990-8cd7-38e0",
       "next": "35c37b90-55a3-11e7-b0b2-00163e9c0e35-2-5653-22a9",
       "previous": "95bcec66-95d8-11ea-8d02-0242ac120007-2-4599-bae7"
      },
      {
       "current": "95bcef4a-95d8-11ea-8d02-0242ac120007-4-2990-8cd7-38e0-5d04",
       "next": "35c37b90-55a3-11e7-b0b2-00163e9c0e35-3-5653-22a9-acd9",
       "previous": "95bcec66-95d8-11ea-8d02-0242ac120007-3-4599-bae7-2152"
      },
      {
       "current": "95bcef4a-95d8-11ea-8d02-0242ac120007-5-2990-8cd7-38e0-5d04-a0af",
       "next": "35c37b90-55a3-11e7-b0b2-00163e9c0e35-4-5653-22a9-acd9-bc41",
       "previous": "95bcec66-95d8-11ea-8d02-0242ac120007-4-4599-bae7-2152-f5e7"
      },
      {
       "current": "95bcef4a-95d8-11ea-8d02-0242ac120007-6-2990-8cd7-38e0-5d04-a0af-8589",
       "next": "35c37b90-55a3-11e7-b0b2-00163e9c0e35-5-5653-22a9-acd9-bc41-bfaf",
       "previous": "95bcec66-95d8-11ea-8d02-0242ac120007-5-4599-bae7-2152-f5e7-a2c6"
      },
      {
       "current": "95bcef4a-95d8-11ea-8d02-0242ac120007-7-2990-8cd7-38e0-5d04-a0af-8589-6232",
       "next": "35c37b90-55a3-11e7-b0b2-00163e9c0e35-6-5653-22a9-acd9-bc41-bfaf-ee7f",
       "previous": "95bcec66-95d8-11ea-8d02-0242ac120007-6-4599-bae7-2152-f5e7-a2c6-99eb"
      },
      {
       "current": "95bcef4a-95d8-11ea-8d02-0242ac120007-8-2990-8cd7-38e0-5d04-a0af-8589-6232-0fd8",
       "next": "35c37b90-55a3-11e7-b0b2-00163e9c0e35-7-5653-22a9-acd9-bc41-bfaf-ee7f-5377",
       "previous": "95bcec66-95d8-11ea-8d02-0242ac120007-7-4599-bae7-2152-f5e7-a2c6-99eb-0903"
      }
     ],
     "next": "35c37b90-55a3-11e7-b0b2-00163e9c0e35-8-5653-22a9-acd9-bc41-bfaf-ee7f-5377-8134",
     "previous": "95bcec66-95d8-11ea-8d02-0242ac120007-8-4599-bae7-2152-f5e7-a2c6-99eb-0903-fcbf"
    }
   },
   "outputs": [],
   "source": [
    "!mkdir -p $temp_dir/roles/ceph_packages/tasks"
   ]
  },
  {
   "cell_type": "code",
   "execution_count": null,
   "metadata": {
    "ExecuteTime": {
     "end_time": "2017-06-29T06:22:17.627402Z",
     "start_time": "2017-06-29T06:22:17.619849Z"
    },
    "lc_cell_meme": {
     "current": "35c37b90-55a3-11e7-b0b2-00163e9c0e35-8-5653-22a9-acd9-bc41-bfaf-ee7f-5377-8134",
     "history": [
      {
       "current": "35c37b90-55a3-11e7-b0b2-00163e9c0e35",
       "next": "35c37d3e-55a3-11e7-b0b2-00163e9c0e35",
       "previous": "35c379ec-55a3-11e7-b0b2-00163e9c0e35"
      },
      {
       "current": "35c37b90-55a3-11e7-b0b2-00163e9c0e35",
       "next": "5df4539a-2860-11ea-b5b0-0242ac120004",
       "previous": "35c379ec-55a3-11e7-b0b2-00163e9c0e35"
      },
      {
       "current": "35c37b90-55a3-11e7-b0b2-00163e9c0e35",
       "next": "5df4539a-2860-11ea-b5b0-0242ac120004",
       "previous": "35c37b90-55a3-11e7-b0b2-00163e9c0e35"
      },
      {
       "current": "35c37b90-55a3-11e7-b0b2-00163e9c0e35",
       "next": "35c37d3e-55a3-11e7-b0b2-00163e9c0e35",
       "previous": "35c379ec-55a3-11e7-b0b2-00163e9c0e35"
      },
      {
       "current": "35c37b90-55a3-11e7-b0b2-00163e9c0e35-1-5653",
       "next": "35c37d3e-55a3-11e7-b0b2-00163e9c0e35",
       "previous": "95bcef4a-95d8-11ea-8d02-0242ac120007"
      },
      {
       "current": "35c37b90-55a3-11e7-b0b2-00163e9c0e35-2-5653-22a9",
       "next": "35c37d3e-55a3-11e7-b0b2-00163e9c0e35-1-81c7",
       "previous": "95bcef4a-95d8-11ea-8d02-0242ac120007-1-2990"
      },
      {
       "current": "35c37b90-55a3-11e7-b0b2-00163e9c0e35-3-5653-22a9-acd9",
       "next": "35c37d3e-55a3-11e7-b0b2-00163e9c0e35-2-81c7-4afa",
       "previous": "95bcef4a-95d8-11ea-8d02-0242ac120007-2-2990-8cd7"
      },
      {
       "current": "35c37b90-55a3-11e7-b0b2-00163e9c0e35-4-5653-22a9-acd9-bc41",
       "next": "35c37d3e-55a3-11e7-b0b2-00163e9c0e35-3-81c7-4afa-524f",
       "previous": "95bcef4a-95d8-11ea-8d02-0242ac120007-3-2990-8cd7-38e0"
      },
      {
       "current": "35c37b90-55a3-11e7-b0b2-00163e9c0e35-5-5653-22a9-acd9-bc41-bfaf",
       "next": "35c37d3e-55a3-11e7-b0b2-00163e9c0e35-4-81c7-4afa-524f-431d",
       "previous": "95bcef4a-95d8-11ea-8d02-0242ac120007-4-2990-8cd7-38e0-5d04"
      },
      {
       "current": "35c37b90-55a3-11e7-b0b2-00163e9c0e35-6-5653-22a9-acd9-bc41-bfaf-ee7f",
       "next": "35c37d3e-55a3-11e7-b0b2-00163e9c0e35-5-81c7-4afa-524f-431d-5c19",
       "previous": "95bcef4a-95d8-11ea-8d02-0242ac120007-5-2990-8cd7-38e0-5d04-a0af"
      },
      {
       "current": "35c37b90-55a3-11e7-b0b2-00163e9c0e35-7-5653-22a9-acd9-bc41-bfaf-ee7f-5377",
       "next": "35c37d3e-55a3-11e7-b0b2-00163e9c0e35-6-81c7-4afa-524f-431d-5c19-ea83",
       "previous": "95bcef4a-95d8-11ea-8d02-0242ac120007-6-2990-8cd7-38e0-5d04-a0af-8589"
      },
      {
       "current": "35c37b90-55a3-11e7-b0b2-00163e9c0e35-8-5653-22a9-acd9-bc41-bfaf-ee7f-5377-8134",
       "next": "35c37d3e-55a3-11e7-b0b2-00163e9c0e35-7-81c7-4afa-524f-431d-5c19-ea83-44b3",
       "previous": "95bcef4a-95d8-11ea-8d02-0242ac120007-7-2990-8cd7-38e0-5d04-a0af-8589-6232"
      }
     ],
     "next": "35c37d3e-55a3-11e7-b0b2-00163e9c0e35-8-81c7-4afa-524f-431d-5c19-ea83-44b3-45db",
     "previous": "95bcef4a-95d8-11ea-8d02-0242ac120007-8-2990-8cd7-38e0-5d04-a0af-8589-6232-0fd8"
    },
    "run_control": {
     "frozen": true
    }
   },
   "outputs": [],
   "source": [
    "%%writefile $temp_dir/roles/ceph_packages/tasks/main.yml\n",
    "- name: install required packages\n",
    "  dnf:\n",
    "    name: \n",
    "      - cephadm\n",
    "      - ceph\n",
    "      - python3\n",
    "      - python3-flask\n",
    "      - python3-requests\n",
    "      - python3-pbr\n",
    "      - python3-netifaces\n",
    "      - libcurl-devel\n",
    "      - NetworkManager-ovs\n",
    "      - openvswitch2.17\n",
    "      - lvm2     "
   ]
  },
  {
   "cell_type": "code",
   "execution_count": null,
   "metadata": {
    "ExecuteTime": {
     "end_time": "2017-06-29T06:22:17.774089Z",
     "start_time": "2017-06-29T06:22:17.630218Z"
    },
    "lc_cell_meme": {
     "current": "35c37d3e-55a3-11e7-b0b2-00163e9c0e35-8-81c7-4afa-524f-431d-5c19-ea83-44b3-45db",
     "history": [
      {
       "current": "35c37d3e-55a3-11e7-b0b2-00163e9c0e35",
       "next": "35c37ee2-55a3-11e7-b0b2-00163e9c0e35",
       "previous": "35c37b90-55a3-11e7-b0b2-00163e9c0e35"
      },
      {
       "current": "35c37d3e-55a3-11e7-b0b2-00163e9c0e35",
       "next": "35c37ee2-55a3-11e7-b0b2-00163e9c0e35",
       "previous": "5df4539a-2860-11ea-b5b0-0242ac120004"
      },
      {
       "current": "35c37d3e-55a3-11e7-b0b2-00163e9c0e35-1-81c7",
       "next": "35c37ee2-55a3-11e7-b0b2-00163e9c0e35",
       "previous": "35c37b90-55a3-11e7-b0b2-00163e9c0e35"
      },
      {
       "current": "35c37d3e-55a3-11e7-b0b2-00163e9c0e35-2-81c7-4afa",
       "next": "35c37ee2-55a3-11e7-b0b2-00163e9c0e35-1-f7a7",
       "previous": "35c37b90-55a3-11e7-b0b2-00163e9c0e35-1-5653"
      },
      {
       "current": "35c37d3e-55a3-11e7-b0b2-00163e9c0e35-3-81c7-4afa-524f",
       "next": "35c37ee2-55a3-11e7-b0b2-00163e9c0e35-2-f7a7-cade",
       "previous": "35c37b90-55a3-11e7-b0b2-00163e9c0e35-2-5653-22a9"
      },
      {
       "current": "35c37d3e-55a3-11e7-b0b2-00163e9c0e35-4-81c7-4afa-524f-431d",
       "next": "35c37ee2-55a3-11e7-b0b2-00163e9c0e35-3-f7a7-cade-e2fd",
       "previous": "35c37b90-55a3-11e7-b0b2-00163e9c0e35-3-5653-22a9-acd9"
      },
      {
       "current": "35c37d3e-55a3-11e7-b0b2-00163e9c0e35-5-81c7-4afa-524f-431d-5c19",
       "next": "35c37ee2-55a3-11e7-b0b2-00163e9c0e35-4-f7a7-cade-e2fd-716d",
       "previous": "35c37b90-55a3-11e7-b0b2-00163e9c0e35-4-5653-22a9-acd9-bc41"
      },
      {
       "current": "35c37d3e-55a3-11e7-b0b2-00163e9c0e35-6-81c7-4afa-524f-431d-5c19-ea83",
       "next": "35c37ee2-55a3-11e7-b0b2-00163e9c0e35-5-f7a7-cade-e2fd-716d-03af",
       "previous": "35c37b90-55a3-11e7-b0b2-00163e9c0e35-5-5653-22a9-acd9-bc41-bfaf"
      },
      {
       "current": "35c37d3e-55a3-11e7-b0b2-00163e9c0e35-7-81c7-4afa-524f-431d-5c19-ea83-44b3",
       "next": "35c37ee2-55a3-11e7-b0b2-00163e9c0e35-6-f7a7-cade-e2fd-716d-03af-c2d7",
       "previous": "35c37b90-55a3-11e7-b0b2-00163e9c0e35-6-5653-22a9-acd9-bc41-bfaf-ee7f"
      },
      {
       "current": "35c37d3e-55a3-11e7-b0b2-00163e9c0e35-8-81c7-4afa-524f-431d-5c19-ea83-44b3-45db",
       "next": "35c37ee2-55a3-11e7-b0b2-00163e9c0e35-7-f7a7-cade-e2fd-716d-03af-c2d7-26d5",
       "previous": "35c37b90-55a3-11e7-b0b2-00163e9c0e35-7-5653-22a9-acd9-bc41-bfaf-ee7f-5377"
      }
     ],
     "next": "35c37ee2-55a3-11e7-b0b2-00163e9c0e35-8-f7a7-cade-e2fd-716d-03af-c2d7-26d5-a7c4",
     "previous": "35c37b90-55a3-11e7-b0b2-00163e9c0e35-8-5653-22a9-acd9-bc41-bfaf-ee7f-5377-8134"
    },
    "run_control": {
     "frozen": true
    }
   },
   "outputs": [],
   "source": [
    "!tree $temp_dir/roles"
   ]
  },
  {
   "cell_type": "code",
   "execution_count": null,
   "metadata": {
    "ExecuteTime": {
     "end_time": "2017-06-29T06:22:17.786311Z",
     "start_time": "2017-06-29T06:22:17.776686Z"
    },
    "lc_cell_meme": {
     "current": "35c37ee2-55a3-11e7-b0b2-00163e9c0e35-8-f7a7-cade-e2fd-716d-03af-c2d7-26d5-a7c4",
     "history": [
      {
       "current": "35c37ee2-55a3-11e7-b0b2-00163e9c0e35",
       "next": "35c38090-55a3-11e7-b0b2-00163e9c0e35",
       "previous": "35c37d3e-55a3-11e7-b0b2-00163e9c0e35"
      },
      {
       "current": "35c37ee2-55a3-11e7-b0b2-00163e9c0e35-1-f7a7",
       "next": "cca8c732-5723-11e7-b0b2-00163e9c0e35",
       "previous": "35c37d3e-55a3-11e7-b0b2-00163e9c0e35"
      },
      {
       "current": "35c37ee2-55a3-11e7-b0b2-00163e9c0e35-2-f7a7-cade",
       "next": "cca8c732-5723-11e7-b0b2-00163e9c0e35-1-5402",
       "previous": "35c37d3e-55a3-11e7-b0b2-00163e9c0e35-1-81c7"
      },
      {
       "current": "35c37ee2-55a3-11e7-b0b2-00163e9c0e35-3-f7a7-cade-e2fd",
       "next": "cca8c732-5723-11e7-b0b2-00163e9c0e35-2-5402-5744",
       "previous": "35c37d3e-55a3-11e7-b0b2-00163e9c0e35-2-81c7-4afa"
      },
      {
       "current": "35c37ee2-55a3-11e7-b0b2-00163e9c0e35-4-f7a7-cade-e2fd-716d",
       "next": "cca8c732-5723-11e7-b0b2-00163e9c0e35-3-5402-5744-4126",
       "previous": "35c37d3e-55a3-11e7-b0b2-00163e9c0e35-3-81c7-4afa-524f"
      },
      {
       "current": "35c37ee2-55a3-11e7-b0b2-00163e9c0e35-5-f7a7-cade-e2fd-716d-03af",
       "next": "cca8c732-5723-11e7-b0b2-00163e9c0e35-4-5402-5744-4126-efda",
       "previous": "35c37d3e-55a3-11e7-b0b2-00163e9c0e35-4-81c7-4afa-524f-431d"
      },
      {
       "current": "35c37ee2-55a3-11e7-b0b2-00163e9c0e35-6-f7a7-cade-e2fd-716d-03af-c2d7",
       "next": "cca8c732-5723-11e7-b0b2-00163e9c0e35-5-5402-5744-4126-efda-3987",
       "previous": "35c37d3e-55a3-11e7-b0b2-00163e9c0e35-5-81c7-4afa-524f-431d-5c19"
      },
      {
       "current": "35c37ee2-55a3-11e7-b0b2-00163e9c0e35-6-f7a7-cade-e2fd-716d-03af-c2d7",
       "next": "cca8c732-5723-11e7-b0b2-00163e9c0e35-6-5402-5744-4126-efda-3987-de1b",
       "previous": "35c37d3e-55a3-11e7-b0b2-00163e9c0e35-6-81c7-4afa-524f-431d-5c19-ea83"
      },
      {
       "current": "35c37ee2-55a3-11e7-b0b2-00163e9c0e35-6-f7a7-cade-e2fd-716d-03af-c2d7",
       "next": "55c30dec-198d-11ef-ad2f-0242ac120005",
       "previous": "35c37d3e-55a3-11e7-b0b2-00163e9c0e35-6-81c7-4afa-524f-431d-5c19-ea83"
      },
      {
       "current": "35c37ee2-55a3-11e7-b0b2-00163e9c0e35-7-f7a7-cade-e2fd-716d-03af-c2d7-26d5",
       "next": "cca8c732-5723-11e7-b0b2-00163e9c0e35-6-5402-5744-4126-efda-3987-de1b",
       "previous": "35c37d3e-55a3-11e7-b0b2-00163e9c0e35-6-81c7-4afa-524f-431d-5c19-ea83"
      },
      {
       "current": "35c37ee2-55a3-11e7-b0b2-00163e9c0e35-8-f7a7-cade-e2fd-716d-03af-c2d7-26d5-a7c4",
       "next": "cca8c732-5723-11e7-b0b2-00163e9c0e35-7-5402-5744-4126-efda-3987-de1b-eed9",
       "previous": "35c37d3e-55a3-11e7-b0b2-00163e9c0e35-7-81c7-4afa-524f-431d-5c19-ea83-44b3"
      }
     ],
     "next": "cca8c732-5723-11e7-b0b2-00163e9c0e35-8-5402-5744-4126-efda-3987-de1b-eed9-5cb0",
     "previous": "35c37d3e-55a3-11e7-b0b2-00163e9c0e35-8-81c7-4afa-524f-431d-5c19-ea83-44b3-45db"
    },
    "run_control": {
     "frozen": true
    }
   },
   "outputs": [],
   "source": [
    "import os\n",
    "with open(os.path.join(temp_dir, 'ceph_node_packages.yml'), 'w') as f:\n",
    "    f.write('''- hosts: {hosts}\n",
    "  roles:\n",
    "    - role: ceph_packages\n",
    "'''.format(hosts=ceph_node))\n"
   ]
  },
  {
   "cell_type": "markdown",
   "metadata": {
    "lc_cell_meme": {
     "current": "cca8c732-5723-11e7-b0b2-00163e9c0e35-8-5402-5744-4126-efda-3987-de1b-eed9-5cb0",
     "history": [
      {
       "current": "cca8c732-5723-11e7-b0b2-00163e9c0e35-1-5402",
       "next": "35c38090-55a3-11e7-b0b2-00163e9c0e35",
       "previous": "35c37ee2-55a3-11e7-b0b2-00163e9c0e35"
      },
      {
       "current": "cca8c732-5723-11e7-b0b2-00163e9c0e35-2-5402-5744",
       "next": "35c38090-55a3-11e7-b0b2-00163e9c0e35-1-0736",
       "previous": "35c37ee2-55a3-11e7-b0b2-00163e9c0e35-1-f7a7"
      },
      {
       "current": "cca8c732-5723-11e7-b0b2-00163e9c0e35-3-5402-5744-4126",
       "next": "35c38090-55a3-11e7-b0b2-00163e9c0e35-2-0736-d1f2",
       "previous": "35c37ee2-55a3-11e7-b0b2-00163e9c0e35-2-f7a7-cade"
      },
      {
       "current": "cca8c732-5723-11e7-b0b2-00163e9c0e35-4-5402-5744-4126-efda",
       "next": "35c38090-55a3-11e7-b0b2-00163e9c0e35-3-0736-d1f2-7839",
       "previous": "35c37ee2-55a3-11e7-b0b2-00163e9c0e35-3-f7a7-cade-e2fd"
      },
      {
       "current": "cca8c732-5723-11e7-b0b2-00163e9c0e35-5-5402-5744-4126-efda-3987",
       "next": "35c38090-55a3-11e7-b0b2-00163e9c0e35-4-0736-d1f2-7839-fcbb",
       "previous": "35c37ee2-55a3-11e7-b0b2-00163e9c0e35-4-f7a7-cade-e2fd-716d"
      },
      {
       "current": "cca8c732-5723-11e7-b0b2-00163e9c0e35-6-5402-5744-4126-efda-3987-de1b",
       "next": "35c38090-55a3-11e7-b0b2-00163e9c0e35-5-0736-d1f2-7839-fcbb-d910",
       "previous": "35c37ee2-55a3-11e7-b0b2-00163e9c0e35-5-f7a7-cade-e2fd-716d-03af"
      },
      {
       "current": "cca8c732-5723-11e7-b0b2-00163e9c0e35-6-5402-5744-4126-efda-3987-de1b",
       "next": "35c38090-55a3-11e7-b0b2-00163e9c0e35-6-0736-d1f2-7839-fcbb-d910-ac0a",
       "previous": "35c37ee2-55a3-11e7-b0b2-00163e9c0e35-6-f7a7-cade-e2fd-716d-03af-c2d7"
      },
      {
       "current": "cca8c732-5723-11e7-b0b2-00163e9c0e35-6-5402-5744-4126-efda-3987-de1b",
       "next": "35c38090-55a3-11e7-b0b2-00163e9c0e35-6-0736-d1f2-7839-fcbb-d910-ac0a",
       "previous": "55c30dec-198d-11ef-ad2f-0242ac120005"
      },
      {
       "current": "cca8c732-5723-11e7-b0b2-00163e9c0e35-7-5402-5744-4126-efda-3987-de1b-eed9",
       "next": "35c38090-55a3-11e7-b0b2-00163e9c0e35-6-0736-d1f2-7839-fcbb-d910-ac0a",
       "previous": "35c37ee2-55a3-11e7-b0b2-00163e9c0e35-6-f7a7-cade-e2fd-716d-03af-c2d7"
      },
      {
       "current": "cca8c732-5723-11e7-b0b2-00163e9c0e35-8-5402-5744-4126-efda-3987-de1b-eed9-5cb0",
       "next": "35c38090-55a3-11e7-b0b2-00163e9c0e35-7-0736-d1f2-7839-fcbb-d910-ac0a-4072",
       "previous": "35c37ee2-55a3-11e7-b0b2-00163e9c0e35-7-f7a7-cade-e2fd-716d-03af-c2d7-26d5"
      }
     ],
     "next": "35c38090-55a3-11e7-b0b2-00163e9c0e35-8-0736-d1f2-7839-fcbb-d910-ac0a-4072-4823",
     "previous": "35c37ee2-55a3-11e7-b0b2-00163e9c0e35-8-f7a7-cade-e2fd-716d-03af-c2d7-26d5-a7c4"
    }
   },
   "source": [
    "## dry-run"
   ]
  },
  {
   "cell_type": "markdown",
   "metadata": {
    "lc_cell_meme": {
     "current": "35c38090-55a3-11e7-b0b2-00163e9c0e35-8-0736-d1f2-7839-fcbb-d910-ac0a-4072-4823",
     "history": [
      {
       "current": "35c38090-55a3-11e7-b0b2-00163e9c0e35",
       "next": "35c3823e-55a3-11e7-b0b2-00163e9c0e35",
       "previous": "35c37ee2-55a3-11e7-b0b2-00163e9c0e35"
      },
      {
       "current": "35c38090-55a3-11e7-b0b2-00163e9c0e35",
       "next": "35c3823e-55a3-11e7-b0b2-00163e9c0e35",
       "previous": "cca8c732-5723-11e7-b0b2-00163e9c0e35"
      },
      {
       "current": "35c38090-55a3-11e7-b0b2-00163e9c0e35",
       "next": "5bafe5b4-5724-11e7-b0b2-00163e9c0e35",
       "previous": "cca8c732-5723-11e7-b0b2-00163e9c0e35"
      },
      {
       "current": "35c38090-55a3-11e7-b0b2-00163e9c0e35-1-0736",
       "next": "35c3823e-55a3-11e7-b0b2-00163e9c0e35",
       "previous": "cca8c732-5723-11e7-b0b2-00163e9c0e35"
      },
      {
       "current": "35c38090-55a3-11e7-b0b2-00163e9c0e35-2-0736-d1f2",
       "next": "35c3823e-55a3-11e7-b0b2-00163e9c0e35-1-9620",
       "previous": "cca8c732-5723-11e7-b0b2-00163e9c0e35-1-5402"
      },
      {
       "current": "35c38090-55a3-11e7-b0b2-00163e9c0e35-3-0736-d1f2-7839",
       "next": "35c3823e-55a3-11e7-b0b2-00163e9c0e35-2-9620-1afa",
       "previous": "cca8c732-5723-11e7-b0b2-00163e9c0e35-2-5402-5744"
      },
      {
       "current": "35c38090-55a3-11e7-b0b2-00163e9c0e35-4-0736-d1f2-7839-fcbb",
       "next": "35c3823e-55a3-11e7-b0b2-00163e9c0e35-3-9620-1afa-a583",
       "previous": "cca8c732-5723-11e7-b0b2-00163e9c0e35-3-5402-5744-4126"
      },
      {
       "current": "35c38090-55a3-11e7-b0b2-00163e9c0e35-5-0736-d1f2-7839-fcbb-d910",
       "next": "35c3823e-55a3-11e7-b0b2-00163e9c0e35-4-9620-1afa-a583-b459",
       "previous": "cca8c732-5723-11e7-b0b2-00163e9c0e35-4-5402-5744-4126-efda"
      },
      {
       "current": "35c38090-55a3-11e7-b0b2-00163e9c0e35-6-0736-d1f2-7839-fcbb-d910-ac0a",
       "next": "35c3823e-55a3-11e7-b0b2-00163e9c0e35-5-9620-1afa-a583-b459-6731",
       "previous": "cca8c732-5723-11e7-b0b2-00163e9c0e35-5-5402-5744-4126-efda-3987"
      },
      {
       "current": "35c38090-55a3-11e7-b0b2-00163e9c0e35-7-0736-d1f2-7839-fcbb-d910-ac0a-4072",
       "next": "35c3823e-55a3-11e7-b0b2-00163e9c0e35-6-9620-1afa-a583-b459-6731-2aec",
       "previous": "cca8c732-5723-11e7-b0b2-00163e9c0e35-6-5402-5744-4126-efda-3987-de1b"
      },
      {
       "current": "35c38090-55a3-11e7-b0b2-00163e9c0e35-8-0736-d1f2-7839-fcbb-d910-ac0a-4072-4823",
       "next": "35c3823e-55a3-11e7-b0b2-00163e9c0e35-7-9620-1afa-a583-b459-6731-2aec-1e24",
       "previous": "cca8c732-5723-11e7-b0b2-00163e9c0e35-7-5402-5744-4126-efda-3987-de1b-eed9"
      }
     ],
     "next": "35c3823e-55a3-11e7-b0b2-00163e9c0e35-8-9620-1afa-a583-b459-6731-2aec-1e24-a505",
     "previous": "cca8c732-5723-11e7-b0b2-00163e9c0e35-8-5402-5744-4126-efda-3987-de1b-eed9-5cb0"
    }
   },
   "source": [
    "check modeで動作させ、結果がok=2であることを確認する。"
   ]
  },
  {
   "cell_type": "code",
   "execution_count": null,
   "metadata": {
    "ExecuteTime": {
     "end_time": "2017-06-29T06:22:24.222652Z",
     "start_time": "2017-06-29T06:22:17.788776Z"
    },
    "lc_cell_meme": {
     "current": "35c3823e-55a3-11e7-b0b2-00163e9c0e35-8-9620-1afa-a583-b459-6731-2aec-1e24-a505",
     "history": [
      {
       "current": "35c3823e-55a3-11e7-b0b2-00163e9c0e35",
       "next": "35c383ec-55a3-11e7-b0b2-00163e9c0e35",
       "previous": "35c38090-55a3-11e7-b0b2-00163e9c0e35"
      },
      {
       "current": "35c3823e-55a3-11e7-b0b2-00163e9c0e35",
       "next": "cca8cb74-5723-11e7-b0b2-00163e9c0e35",
       "previous": "35c38090-55a3-11e7-b0b2-00163e9c0e35"
      },
      {
       "current": "35c3823e-55a3-11e7-b0b2-00163e9c0e35",
       "next": "cca8cb74-5723-11e7-b0b2-00163e9c0e35",
       "previous": "5bafe5b4-5724-11e7-b0b2-00163e9c0e35"
      },
      {
       "current": "35c3823e-55a3-11e7-b0b2-00163e9c0e35-1-9620",
       "next": "cca8cb74-5723-11e7-b0b2-00163e9c0e35",
       "previous": "35c38090-55a3-11e7-b0b2-00163e9c0e35"
      },
      {
       "current": "35c3823e-55a3-11e7-b0b2-00163e9c0e35-2-9620-1afa",
       "next": "cca8cb74-5723-11e7-b0b2-00163e9c0e35-1-e357",
       "previous": "35c38090-55a3-11e7-b0b2-00163e9c0e35-1-0736"
      },
      {
       "current": "35c3823e-55a3-11e7-b0b2-00163e9c0e35-3-9620-1afa-a583",
       "next": "cca8cb74-5723-11e7-b0b2-00163e9c0e35-2-e357-0070",
       "previous": "35c38090-55a3-11e7-b0b2-00163e9c0e35-2-0736-d1f2"
      },
      {
       "current": "35c3823e-55a3-11e7-b0b2-00163e9c0e35-4-9620-1afa-a583-b459",
       "next": "cca8cb74-5723-11e7-b0b2-00163e9c0e35-3-e357-0070-9e52",
       "previous": "35c38090-55a3-11e7-b0b2-00163e9c0e35-3-0736-d1f2-7839"
      },
      {
       "current": "35c3823e-55a3-11e7-b0b2-00163e9c0e35-5-9620-1afa-a583-b459-6731",
       "next": "cca8cb74-5723-11e7-b0b2-00163e9c0e35-4-e357-0070-9e52-630c",
       "previous": "35c38090-55a3-11e7-b0b2-00163e9c0e35-4-0736-d1f2-7839-fcbb"
      },
      {
       "current": "35c3823e-55a3-11e7-b0b2-00163e9c0e35-6-9620-1afa-a583-b459-6731-2aec",
       "next": "cca8cb74-5723-11e7-b0b2-00163e9c0e35-5-e357-0070-9e52-630c-049a",
       "previous": "35c38090-55a3-11e7-b0b2-00163e9c0e35-5-0736-d1f2-7839-fcbb-d910"
      },
      {
       "current": "35c3823e-55a3-11e7-b0b2-00163e9c0e35-7-9620-1afa-a583-b459-6731-2aec-1e24",
       "next": "cca8cb74-5723-11e7-b0b2-00163e9c0e35-6-e357-0070-9e52-630c-049a-b910",
       "previous": "35c38090-55a3-11e7-b0b2-00163e9c0e35-6-0736-d1f2-7839-fcbb-d910-ac0a"
      },
      {
       "current": "35c3823e-55a3-11e7-b0b2-00163e9c0e35-8-9620-1afa-a583-b459-6731-2aec-1e24-a505",
       "next": "cca8cb74-5723-11e7-b0b2-00163e9c0e35-7-e357-0070-9e52-630c-049a-b910-3023",
       "previous": "35c38090-55a3-11e7-b0b2-00163e9c0e35-7-0736-d1f2-7839-fcbb-d910-ac0a-4072"
      }
     ],
     "next": "cca8cb74-5723-11e7-b0b2-00163e9c0e35-8-e357-0070-9e52-630c-049a-b910-3023-b5b3",
     "previous": "35c38090-55a3-11e7-b0b2-00163e9c0e35-8-0736-d1f2-7839-fcbb-d910-ac0a-4072-4823"
    },
    "run_control": {
     "frozen": true
    },
    "scrolled": true
   },
   "outputs": [],
   "source": [
    "result = !ansible-playbook -b -i $hosts -CDv $temp_dir/ceph_node_packages.yml\n",
    "result"
   ]
  },
  {
   "cell_type": "code",
   "execution_count": null,
   "metadata": {
    "ExecuteTime": {
     "end_time": "2017-06-29T06:22:24.230686Z",
     "start_time": "2017-06-29T06:22:24.225415Z"
    },
    "lc_cell_meme": {
     "current": "cca8cb74-5723-11e7-b0b2-00163e9c0e35-8-e357-0070-9e52-630c-049a-b910-3023-b5b3",
     "history": [
      {
       "current": "cca8cb74-5723-11e7-b0b2-00163e9c0e35",
       "next": "cca8cd90-5723-11e7-b0b2-00163e9c0e35",
       "previous": "35c3823e-55a3-11e7-b0b2-00163e9c0e35"
      },
      {
       "current": "cca8cb74-5723-11e7-b0b2-00163e9c0e35",
       "next": "5bafe992-5724-11e7-b0b2-00163e9c0e35",
       "previous": "35c3823e-55a3-11e7-b0b2-00163e9c0e35"
      },
      {
       "current": "cca8cb74-5723-11e7-b0b2-00163e9c0e35-1-e357",
       "next": "cca8d63c-5723-11e7-b0b2-00163e9c0e35",
       "previous": "35c3823e-55a3-11e7-b0b2-00163e9c0e35"
      },
      {
       "current": "cca8cb74-5723-11e7-b0b2-00163e9c0e35-2-e357-0070",
       "next": "cca8d63c-5723-11e7-b0b2-00163e9c0e35-1-e6b5",
       "previous": "35c3823e-55a3-11e7-b0b2-00163e9c0e35-1-9620"
      },
      {
       "current": "cca8cb74-5723-11e7-b0b2-00163e9c0e35-3-e357-0070-9e52",
       "next": "cca8d63c-5723-11e7-b0b2-00163e9c0e35-2-e6b5-f33d",
       "previous": "35c3823e-55a3-11e7-b0b2-00163e9c0e35-2-9620-1afa"
      },
      {
       "current": "cca8cb74-5723-11e7-b0b2-00163e9c0e35-4-e357-0070-9e52-630c",
       "next": "cca8d63c-5723-11e7-b0b2-00163e9c0e35-3-e6b5-f33d-dd12",
       "previous": "35c3823e-55a3-11e7-b0b2-00163e9c0e35-3-9620-1afa-a583"
      },
      {
       "current": "cca8cb74-5723-11e7-b0b2-00163e9c0e35-5-e357-0070-9e52-630c-049a",
       "next": "cca8d63c-5723-11e7-b0b2-00163e9c0e35-4-e6b5-f33d-dd12-a768",
       "previous": "35c3823e-55a3-11e7-b0b2-00163e9c0e35-4-9620-1afa-a583-b459"
      },
      {
       "current": "cca8cb74-5723-11e7-b0b2-00163e9c0e35-6-e357-0070-9e52-630c-049a-b910",
       "next": "cca8d63c-5723-11e7-b0b2-00163e9c0e35-5-e6b5-f33d-dd12-a768-159f",
       "previous": "35c3823e-55a3-11e7-b0b2-00163e9c0e35-5-9620-1afa-a583-b459-6731"
      },
      {
       "current": "cca8cb74-5723-11e7-b0b2-00163e9c0e35-7-e357-0070-9e52-630c-049a-b910-3023",
       "next": "cca8d63c-5723-11e7-b0b2-00163e9c0e35-6-e6b5-f33d-dd12-a768-159f-c7a8",
       "previous": "35c3823e-55a3-11e7-b0b2-00163e9c0e35-6-9620-1afa-a583-b459-6731-2aec"
      },
      {
       "current": "cca8cb74-5723-11e7-b0b2-00163e9c0e35-8-e357-0070-9e52-630c-049a-b910-3023-b5b3",
       "next": "cca8d63c-5723-11e7-b0b2-00163e9c0e35-7-e6b5-f33d-dd12-a768-159f-c7a8-80a6",
       "previous": "35c3823e-55a3-11e7-b0b2-00163e9c0e35-7-9620-1afa-a583-b459-6731-2aec-1e24"
      }
     ],
     "next": "cca8d63c-5723-11e7-b0b2-00163e9c0e35-8-e6b5-f33d-dd12-a768-159f-c7a8-80a6-4daf",
     "previous": "35c3823e-55a3-11e7-b0b2-00163e9c0e35-8-9620-1afa-a583-b459-6731-2aec-1e24-a505"
    },
    "run_control": {
     "frozen": true
    }
   },
   "outputs": [],
   "source": [
    "if not (result[-2].find('ok=2') > -1):\n",
    "    raise Exception"
   ]
  },
  {
   "cell_type": "markdown",
   "metadata": {
    "lc_cell_meme": {
     "current": "cca8d63c-5723-11e7-b0b2-00163e9c0e35-8-e6b5-f33d-dd12-a768-159f-c7a8-80a6-4daf",
     "history": [
      {
       "current": "cca8d63c-5723-11e7-b0b2-00163e9c0e35",
       "next": "35c383ec-55a3-11e7-b0b2-00163e9c0e35",
       "previous": "cca8d484-5723-11e7-b0b2-00163e9c0e35"
      },
      {
       "current": "cca8d63c-5723-11e7-b0b2-00163e9c0e35-1-e6b5",
       "next": "35c383ec-55a3-11e7-b0b2-00163e9c0e35",
       "previous": "cca8cb74-5723-11e7-b0b2-00163e9c0e35"
      },
      {
       "current": "cca8d63c-5723-11e7-b0b2-00163e9c0e35-2-e6b5-f33d",
       "next": "35c383ec-55a3-11e7-b0b2-00163e9c0e35-1-208a",
       "previous": "cca8cb74-5723-11e7-b0b2-00163e9c0e35-1-e357"
      },
      {
       "current": "cca8d63c-5723-11e7-b0b2-00163e9c0e35-3-e6b5-f33d-dd12",
       "next": "35c383ec-55a3-11e7-b0b2-00163e9c0e35-2-208a-5e64",
       "previous": "cca8cb74-5723-11e7-b0b2-00163e9c0e35-2-e357-0070"
      },
      {
       "current": "cca8d63c-5723-11e7-b0b2-00163e9c0e35-4-e6b5-f33d-dd12-a768",
       "next": "35c383ec-55a3-11e7-b0b2-00163e9c0e35-3-208a-5e64-3d45",
       "previous": "cca8cb74-5723-11e7-b0b2-00163e9c0e35-3-e357-0070-9e52"
      },
      {
       "current": "cca8d63c-5723-11e7-b0b2-00163e9c0e35-5-e6b5-f33d-dd12-a768-159f",
       "next": "35c383ec-55a3-11e7-b0b2-00163e9c0e35-4-208a-5e64-3d45-9f56",
       "previous": "cca8cb74-5723-11e7-b0b2-00163e9c0e35-4-e357-0070-9e52-630c"
      },
      {
       "current": "cca8d63c-5723-11e7-b0b2-00163e9c0e35-6-e6b5-f33d-dd12-a768-159f-c7a8",
       "next": "35c383ec-55a3-11e7-b0b2-00163e9c0e35-5-208a-5e64-3d45-9f56-1796",
       "previous": "cca8cb74-5723-11e7-b0b2-00163e9c0e35-5-e357-0070-9e52-630c-049a"
      },
      {
       "current": "cca8d63c-5723-11e7-b0b2-00163e9c0e35-7-e6b5-f33d-dd12-a768-159f-c7a8-80a6",
       "next": "35c383ec-55a3-11e7-b0b2-00163e9c0e35-6-208a-5e64-3d45-9f56-1796-572e",
       "previous": "cca8cb74-5723-11e7-b0b2-00163e9c0e35-6-e357-0070-9e52-630c-049a-b910"
      },
      {
       "current": "cca8d63c-5723-11e7-b0b2-00163e9c0e35-8-e6b5-f33d-dd12-a768-159f-c7a8-80a6-4daf",
       "next": "35c383ec-55a3-11e7-b0b2-00163e9c0e35-7-208a-5e64-3d45-9f56-1796-572e-9ed7",
       "previous": "cca8cb74-5723-11e7-b0b2-00163e9c0e35-7-e357-0070-9e52-630c-049a-b910-3023"
      }
     ],
     "next": "35c383ec-55a3-11e7-b0b2-00163e9c0e35-8-208a-5e64-3d45-9f56-1796-572e-9ed7-1d4d",
     "previous": "cca8cb74-5723-11e7-b0b2-00163e9c0e35-8-e357-0070-9e52-630c-049a-b910-3023-b5b3"
    }
   },
   "source": [
    "## run"
   ]
  },
  {
   "cell_type": "markdown",
   "metadata": {
    "lc_cell_meme": {
     "current": "35c383ec-55a3-11e7-b0b2-00163e9c0e35-8-208a-5e64-3d45-9f56-1796-572e-9ed7-1d4d",
     "history": [
      {
       "current": "35c383ec-55a3-11e7-b0b2-00163e9c0e35",
       "next": "35c385a4-55a3-11e7-b0b2-00163e9c0e35",
       "previous": "35c3823e-55a3-11e7-b0b2-00163e9c0e35"
      },
      {
       "current": "35c383ec-55a3-11e7-b0b2-00163e9c0e35",
       "next": "35c385a4-55a3-11e7-b0b2-00163e9c0e35",
       "previous": "cca8d63c-5723-11e7-b0b2-00163e9c0e35"
      },
      {
       "current": "35c383ec-55a3-11e7-b0b2-00163e9c0e35",
       "next": "5bafebb8-5724-11e7-b0b2-00163e9c0e35",
       "previous": "cca8d63c-5723-11e7-b0b2-00163e9c0e35"
      },
      {
       "current": "35c383ec-55a3-11e7-b0b2-00163e9c0e35",
       "next": "e14c870c-40d0-11ea-ab19-0242ac120004",
       "previous": "cca8d63c-5723-11e7-b0b2-00163e9c0e35"
      },
      {
       "current": "35c383ec-55a3-11e7-b0b2-00163e9c0e35",
       "next": "5bafebb8-5724-11e7-b0b2-00163e9c0e35",
       "previous": "cca8d63c-5723-11e7-b0b2-00163e9c0e35"
      },
      {
       "current": "35c383ec-55a3-11e7-b0b2-00163e9c0e35-1-208a",
       "next": "35c385a4-55a3-11e7-b0b2-00163e9c0e35",
       "previous": "cca8d63c-5723-11e7-b0b2-00163e9c0e35"
      },
      {
       "current": "35c383ec-55a3-11e7-b0b2-00163e9c0e35-1-208a",
       "next": "35c385a4-55a3-11e7-b0b2-00163e9c0e35-1-9c70",
       "previous": "cca8d63c-5723-11e7-b0b2-00163e9c0e35-1-e6b5"
      },
      {
       "current": "35c383ec-55a3-11e7-b0b2-00163e9c0e35-1-208a",
       "next": "6f5d34d0-aa24-11ea-9ad4-0242ac120006",
       "previous": "cca8d63c-5723-11e7-b0b2-00163e9c0e35-1-e6b5"
      },
      {
       "current": "35c383ec-55a3-11e7-b0b2-00163e9c0e35-2-208a-5e64",
       "next": "35c385a4-55a3-11e7-b0b2-00163e9c0e35-1-9c70",
       "previous": "cca8d63c-5723-11e7-b0b2-00163e9c0e35-1-e6b5"
      },
      {
       "current": "35c383ec-55a3-11e7-b0b2-00163e9c0e35-3-208a-5e64-3d45",
       "next": "35c385a4-55a3-11e7-b0b2-00163e9c0e35-2-9c70-2614",
       "previous": "cca8d63c-5723-11e7-b0b2-00163e9c0e35-2-e6b5-f33d"
      },
      {
       "current": "35c383ec-55a3-11e7-b0b2-00163e9c0e35-4-208a-5e64-3d45-9f56",
       "next": "35c385a4-55a3-11e7-b0b2-00163e9c0e35-3-9c70-2614-8343",
       "previous": "cca8d63c-5723-11e7-b0b2-00163e9c0e35-3-e6b5-f33d-dd12"
      },
      {
       "current": "35c383ec-55a3-11e7-b0b2-00163e9c0e35-5-208a-5e64-3d45-9f56-1796",
       "next": "35c385a4-55a3-11e7-b0b2-00163e9c0e35-4-9c70-2614-8343-82d3",
       "previous": "cca8d63c-5723-11e7-b0b2-00163e9c0e35-4-e6b5-f33d-dd12-a768"
      },
      {
       "current": "35c383ec-55a3-11e7-b0b2-00163e9c0e35-6-208a-5e64-3d45-9f56-1796-572e",
       "next": "35c385a4-55a3-11e7-b0b2-00163e9c0e35-5-9c70-2614-8343-82d3-c930",
       "previous": "cca8d63c-5723-11e7-b0b2-00163e9c0e35-5-e6b5-f33d-dd12-a768-159f"
      },
      {
       "current": "35c383ec-55a3-11e7-b0b2-00163e9c0e35-7-208a-5e64-3d45-9f56-1796-572e-9ed7",
       "next": "35c385a4-55a3-11e7-b0b2-00163e9c0e35-6-9c70-2614-8343-82d3-c930-015f",
       "previous": "cca8d63c-5723-11e7-b0b2-00163e9c0e35-6-e6b5-f33d-dd12-a768-159f-c7a8"
      },
      {
       "current": "35c383ec-55a3-11e7-b0b2-00163e9c0e35-8-208a-5e64-3d45-9f56-1796-572e-9ed7-1d4d",
       "next": "35c385a4-55a3-11e7-b0b2-00163e9c0e35-7-9c70-2614-8343-82d3-c930-015f-b883",
       "previous": "cca8d63c-5723-11e7-b0b2-00163e9c0e35-7-e6b5-f33d-dd12-a768-159f-c7a8-80a6"
      }
     ],
     "next": "35c385a4-55a3-11e7-b0b2-00163e9c0e35-8-9c70-2614-8343-82d3-c930-015f-b883-7dea",
     "previous": "cca8d63c-5723-11e7-b0b2-00163e9c0e35-8-e6b5-f33d-dd12-a768-159f-c7a8-80a6-4daf"
    }
   },
   "source": [
    "変更対象が意図したホストであることを確認して、実行する。"
   ]
  },
  {
   "cell_type": "code",
   "execution_count": null,
   "metadata": {
    "ExecuteTime": {
     "end_time": "2017-06-29T06:25:18.935370Z",
     "start_time": "2017-06-29T06:24:17.628968Z"
    },
    "lc_cell_meme": {
     "current": "35c385a4-55a3-11e7-b0b2-00163e9c0e35-8-9c70-2614-8343-82d3-c930-015f-b883-7dea",
     "history": [
      {
       "current": "35c385a4-55a3-11e7-b0b2-00163e9c0e35",
       "next": "35c3875c-55a3-11e7-b0b2-00163e9c0e35",
       "previous": "35c383ec-55a3-11e7-b0b2-00163e9c0e35"
      },
      {
       "current": "35c385a4-55a3-11e7-b0b2-00163e9c0e35",
       "next": "5bafed8e-5724-11e7-b0b2-00163e9c0e35",
       "previous": "5bafebb8-5724-11e7-b0b2-00163e9c0e35"
      },
      {
       "current": "35c385a4-55a3-11e7-b0b2-00163e9c0e35",
       "next": "35c581ba-55a3-11e7-b0b2-00163e9c0e35",
       "previous": "5bafebb8-5724-11e7-b0b2-00163e9c0e35"
      },
      {
       "current": "35c385a4-55a3-11e7-b0b2-00163e9c0e35",
       "next": "35c581ba-55a3-11e7-b0b2-00163e9c0e35",
       "previous": "35c383ec-55a3-11e7-b0b2-00163e9c0e35"
      },
      {
       "current": "35c385a4-55a3-11e7-b0b2-00163e9c0e35",
       "next": "27c38dde-935b-11ea-8d02-0242ac120007",
       "previous": "35c383ec-55a3-11e7-b0b2-00163e9c0e35"
      },
      {
       "current": "35c385a4-55a3-11e7-b0b2-00163e9c0e35",
       "next": "6f50d094-935b-11ea-8d02-0242ac120007",
       "previous": "35c383ec-55a3-11e7-b0b2-00163e9c0e35"
      },
      {
       "current": "35c385a4-55a3-11e7-b0b2-00163e9c0e35",
       "next": "35c581ba-55a3-11e7-b0b2-00163e9c0e35",
       "previous": "35c383ec-55a3-11e7-b0b2-00163e9c0e35"
      },
      {
       "current": "35c385a4-55a3-11e7-b0b2-00163e9c0e35-1-9c70",
       "next": "b20d6344-9684-11ea-8d02-0242ac120007",
       "previous": "35c383ec-55a3-11e7-b0b2-00163e9c0e35"
      },
      {
       "current": "35c385a4-55a3-11e7-b0b2-00163e9c0e35-1-9c70",
       "next": "b20d6344-9684-11ea-8d02-0242ac120007-1-974f",
       "previous": "35c383ec-55a3-11e7-b0b2-00163e9c0e35-1-208a"
      },
      {
       "current": "35c385a4-55a3-11e7-b0b2-00163e9c0e35-1-9c70",
       "next": "b20d6344-9684-11ea-8d02-0242ac120007-1-974f",
       "previous": "6f5d34d0-aa24-11ea-9ad4-0242ac120006"
      },
      {
       "current": "35c385a4-55a3-11e7-b0b2-00163e9c0e35-2-9c70-2614",
       "next": "b20d6344-9684-11ea-8d02-0242ac120007-1-974f",
       "previous": "35c383ec-55a3-11e7-b0b2-00163e9c0e35-1-208a"
      },
      {
       "current": "35c385a4-55a3-11e7-b0b2-00163e9c0e35-3-9c70-2614-8343",
       "next": "b20d6344-9684-11ea-8d02-0242ac120007-2-974f-d9ce",
       "previous": "35c383ec-55a3-11e7-b0b2-00163e9c0e35-2-208a-5e64"
      },
      {
       "current": "35c385a4-55a3-11e7-b0b2-00163e9c0e35-4-9c70-2614-8343-82d3",
       "next": "b20d6344-9684-11ea-8d02-0242ac120007-3-974f-d9ce-2244",
       "previous": "35c383ec-55a3-11e7-b0b2-00163e9c0e35-3-208a-5e64-3d45"
      },
      {
       "current": "35c385a4-55a3-11e7-b0b2-00163e9c0e35-5-9c70-2614-8343-82d3-c930",
       "next": "b20d6344-9684-11ea-8d02-0242ac120007-4-974f-d9ce-2244-9522",
       "previous": "35c383ec-55a3-11e7-b0b2-00163e9c0e35-4-208a-5e64-3d45-9f56"
      },
      {
       "current": "35c385a4-55a3-11e7-b0b2-00163e9c0e35-6-9c70-2614-8343-82d3-c930-015f",
       "next": "b20d6344-9684-11ea-8d02-0242ac120007-5-974f-d9ce-2244-9522-408d",
       "previous": "35c383ec-55a3-11e7-b0b2-00163e9c0e35-5-208a-5e64-3d45-9f56-1796"
      },
      {
       "current": "35c385a4-55a3-11e7-b0b2-00163e9c0e35-7-9c70-2614-8343-82d3-c930-015f-b883",
       "next": "b20d6344-9684-11ea-8d02-0242ac120007-6-974f-d9ce-2244-9522-408d-147e",
       "previous": "35c383ec-55a3-11e7-b0b2-00163e9c0e35-6-208a-5e64-3d45-9f56-1796-572e"
      },
      {
       "current": "35c385a4-55a3-11e7-b0b2-00163e9c0e35-8-9c70-2614-8343-82d3-c930-015f-b883-7dea",
       "next": "b20d6344-9684-11ea-8d02-0242ac120007-7-974f-d9ce-2244-9522-408d-147e-c527",
       "previous": "35c383ec-55a3-11e7-b0b2-00163e9c0e35-7-208a-5e64-3d45-9f56-1796-572e-9ed7"
      }
     ],
     "next": "b20d6344-9684-11ea-8d02-0242ac120007-8-974f-d9ce-2244-9522-408d-147e-c527-a559",
     "previous": "35c383ec-55a3-11e7-b0b2-00163e9c0e35-8-208a-5e64-3d45-9f56-1796-572e-9ed7-1d4d"
    },
    "run_control": {
     "frozen": true
    },
    "scrolled": true
   },
   "outputs": [],
   "source": [
    "!ansible-playbook -b -i $hosts $temp_dir/ceph_node_packages.yml"
   ]
  },
  {
   "cell_type": "markdown",
   "metadata": {
    "lc_cell_meme": {
     "current": "b20d6344-9684-11ea-8d02-0242ac120007-8-974f-d9ce-2244-9522-408d-147e-c527-a559",
     "history": [
      {
       "current": "b20d6344-9684-11ea-8d02-0242ac120007",
       "next": "b20d67b8-9684-11ea-8d02-0242ac120007",
       "previous": "35c385a4-55a3-11e7-b0b2-00163e9c0e35"
      },
      {
       "current": "b20d6344-9684-11ea-8d02-0242ac120007-1-974f",
       "next": "59de01f4-9686-11ea-8d02-0242ac120007",
       "previous": "35c385a4-55a3-11e7-b0b2-00163e9c0e35"
      },
      {
       "current": "b20d6344-9684-11ea-8d02-0242ac120007-2-974f-d9ce",
       "next": "59de01f4-9686-11ea-8d02-0242ac120007-1-d73d",
       "previous": "35c385a4-55a3-11e7-b0b2-00163e9c0e35-1-9c70"
      },
      {
       "current": "b20d6344-9684-11ea-8d02-0242ac120007-2-974f-d9ce",
       "next": "59de01f4-9686-11ea-8d02-0242ac120007-2-d73d-8f6a",
       "previous": "35c385a4-55a3-11e7-b0b2-00163e9c0e35-2-9c70-2614"
      },
      {
       "current": "b20d6344-9684-11ea-8d02-0242ac120007-3-974f-d9ce-2244",
       "next": "59de053c-9686-11ea-8d02-0242ac120007-2-a249-9ad6",
       "previous": "35c385a4-55a3-11e7-b0b2-00163e9c0e35-2-9c70-2614"
      },
      {
       "current": "b20d6344-9684-11ea-8d02-0242ac120007-4-974f-d9ce-2244-9522",
       "next": "59de053c-9686-11ea-8d02-0242ac120007-3-a249-9ad6-037d",
       "previous": "35c385a4-55a3-11e7-b0b2-00163e9c0e35-3-9c70-2614-8343"
      },
      {
       "current": "b20d6344-9684-11ea-8d02-0242ac120007-5-974f-d9ce-2244-9522-408d",
       "next": "59de053c-9686-11ea-8d02-0242ac120007-4-a249-9ad6-037d-0ba8",
       "previous": "35c385a4-55a3-11e7-b0b2-00163e9c0e35-4-9c70-2614-8343-82d3"
      },
      {
       "current": "b20d6344-9684-11ea-8d02-0242ac120007-6-974f-d9ce-2244-9522-408d-147e",
       "next": "59de053c-9686-11ea-8d02-0242ac120007-5-a249-9ad6-037d-0ba8-a782",
       "previous": "35c385a4-55a3-11e7-b0b2-00163e9c0e35-5-9c70-2614-8343-82d3-c930"
      },
      {
       "current": "b20d6344-9684-11ea-8d02-0242ac120007-7-974f-d9ce-2244-9522-408d-147e-c527",
       "next": "59de053c-9686-11ea-8d02-0242ac120007-6-a249-9ad6-037d-0ba8-a782-ea59",
       "previous": "35c385a4-55a3-11e7-b0b2-00163e9c0e35-6-9c70-2614-8343-82d3-c930-015f"
      },
      {
       "current": "b20d6344-9684-11ea-8d02-0242ac120007-8-974f-d9ce-2244-9522-408d-147e-c527-a559",
       "next": "59de053c-9686-11ea-8d02-0242ac120007-7-a249-9ad6-037d-0ba8-a782-ea59-11e1",
       "previous": "35c385a4-55a3-11e7-b0b2-00163e9c0e35-7-9c70-2614-8343-82d3-c930-015f-b883"
      }
     ],
     "next": "59de053c-9686-11ea-8d02-0242ac120007-8-a249-9ad6-037d-0ba8-a782-ea59-11e1-3a16",
     "previous": "35c385a4-55a3-11e7-b0b2-00163e9c0e35-8-9c70-2614-8343-82d3-c930-015f-b883-7dea"
    }
   },
   "source": [
    "# Chrony（NTP）セットアップ"
   ]
  },
  {
   "cell_type": "code",
   "execution_count": null,
   "metadata": {
    "lc_cell_meme": {
     "current": "59de053c-9686-11ea-8d02-0242ac120007-8-a249-9ad6-037d-0ba8-a782-ea59-11e1-3a16",
     "history": [
      {
       "current": "59de053c-9686-11ea-8d02-0242ac120007-1-a249",
       "next": "b20d67b8-9684-11ea-8d02-0242ac120007",
       "previous": "59de01f4-9686-11ea-8d02-0242ac120007"
      },
      {
       "current": "59de053c-9686-11ea-8d02-0242ac120007-2-a249-9ad6",
       "next": "b20d67b8-9684-11ea-8d02-0242ac120007-1-424d",
       "previous": "59de01f4-9686-11ea-8d02-0242ac120007-1-d73d"
      },
      {
       "current": "59de053c-9686-11ea-8d02-0242ac120007-2-a249-9ad6",
       "next": "b20d67b8-9684-11ea-8d02-0242ac120007-2-424d-36c2",
       "previous": "59de01f4-9686-11ea-8d02-0242ac120007-2-d73d-8f6a"
      },
      {
       "current": "59de053c-9686-11ea-8d02-0242ac120007-3-a249-9ad6-037d",
       "next": "b20d67b8-9684-11ea-8d02-0242ac120007-2-424d-36c2",
       "previous": "b20d6344-9684-11ea-8d02-0242ac120007-2-974f-d9ce"
      },
      {
       "current": "59de053c-9686-11ea-8d02-0242ac120007-4-a249-9ad6-037d-0ba8",
       "next": "b20d67b8-9684-11ea-8d02-0242ac120007-3-424d-36c2-adee",
       "previous": "b20d6344-9684-11ea-8d02-0242ac120007-3-974f-d9ce-2244"
      },
      {
       "current": "59de053c-9686-11ea-8d02-0242ac120007-5-a249-9ad6-037d-0ba8-a782",
       "next": "b20d67b8-9684-11ea-8d02-0242ac120007-4-424d-36c2-adee-c8fa",
       "previous": "b20d6344-9684-11ea-8d02-0242ac120007-4-974f-d9ce-2244-9522"
      },
      {
       "current": "59de053c-9686-11ea-8d02-0242ac120007-6-a249-9ad6-037d-0ba8-a782-ea59",
       "next": "b20d67b8-9684-11ea-8d02-0242ac120007-5-424d-36c2-adee-c8fa-b457",
       "previous": "b20d6344-9684-11ea-8d02-0242ac120007-5-974f-d9ce-2244-9522-408d"
      },
      {
       "current": "59de053c-9686-11ea-8d02-0242ac120007-6-a249-9ad6-037d-0ba8-a782-ea59",
       "next": "b20d67b8-9684-11ea-8d02-0242ac120007-6-424d-36c2-adee-c8fa-b457-b8d6",
       "previous": "b20d6344-9684-11ea-8d02-0242ac120007-6-974f-d9ce-2244-9522-408d-147e"
      },
      {
       "current": "59de053c-9686-11ea-8d02-0242ac120007-6-a249-9ad6-037d-0ba8-a782-ea59",
       "next": "74191038-198e-11ef-ad2f-0242ac120005",
       "previous": "b20d6344-9684-11ea-8d02-0242ac120007-6-974f-d9ce-2244-9522-408d-147e"
      },
      {
       "current": "59de053c-9686-11ea-8d02-0242ac120007-7-a249-9ad6-037d-0ba8-a782-ea59-11e1",
       "next": "b20d67b8-9684-11ea-8d02-0242ac120007-6-424d-36c2-adee-c8fa-b457-b8d6",
       "previous": "b20d6344-9684-11ea-8d02-0242ac120007-6-974f-d9ce-2244-9522-408d-147e"
      },
      {
       "current": "59de053c-9686-11ea-8d02-0242ac120007-8-a249-9ad6-037d-0ba8-a782-ea59-11e1-3a16",
       "next": "b20d67b8-9684-11ea-8d02-0242ac120007-7-424d-36c2-adee-c8fa-b457-b8d6-fe8d",
       "previous": "b20d6344-9684-11ea-8d02-0242ac120007-7-974f-d9ce-2244-9522-408d-147e-c527"
      }
     ],
     "next": "b20d67b8-9684-11ea-8d02-0242ac120007-8-424d-36c2-adee-c8fa-b457-b8d6-fe8d-6d82",
     "previous": "b20d6344-9684-11ea-8d02-0242ac120007-8-974f-d9ce-2244-9522-408d-147e-c527-a559"
    }
   },
   "outputs": [],
   "source": [
    "!ansible -i $hosts -b -m shell -a \"systemctl status chronyd\" $ceph_node"
   ]
  },
  {
   "cell_type": "markdown",
   "metadata": {
    "lc_cell_meme": {
     "current": "b20d67b8-9684-11ea-8d02-0242ac120007-8-424d-36c2-adee-c8fa-b457-b8d6-fe8d-6d82",
     "history": [
      {
       "current": "b20d67b8-9684-11ea-8d02-0242ac120007",
       "next": "b20d6966-9684-11ea-8d02-0242ac120007",
       "previous": "b20d6344-9684-11ea-8d02-0242ac120007"
      },
      {
       "current": "b20d67b8-9684-11ea-8d02-0242ac120007-1-424d",
       "next": "b20d6966-9684-11ea-8d02-0242ac120007",
       "previous": "59de053c-9686-11ea-8d02-0242ac120007"
      },
      {
       "current": "b20d67b8-9684-11ea-8d02-0242ac120007-2-424d-36c2",
       "next": "b20d6966-9684-11ea-8d02-0242ac120007-1-2f67",
       "previous": "59de053c-9686-11ea-8d02-0242ac120007-1-a249"
      },
      {
       "current": "b20d67b8-9684-11ea-8d02-0242ac120007-3-424d-36c2-adee",
       "next": "b20d6966-9684-11ea-8d02-0242ac120007-2-2f67-fb98",
       "previous": "59de053c-9686-11ea-8d02-0242ac120007-2-a249-9ad6"
      },
      {
       "current": "b20d67b8-9684-11ea-8d02-0242ac120007-4-424d-36c2-adee-c8fa",
       "next": "b20d6966-9684-11ea-8d02-0242ac120007-3-2f67-fb98-877b",
       "previous": "59de053c-9686-11ea-8d02-0242ac120007-3-a249-9ad6-037d"
      },
      {
       "current": "b20d67b8-9684-11ea-8d02-0242ac120007-5-424d-36c2-adee-c8fa-b457",
       "next": "b20d6966-9684-11ea-8d02-0242ac120007-4-2f67-fb98-877b-415c",
       "previous": "59de053c-9686-11ea-8d02-0242ac120007-4-a249-9ad6-037d-0ba8"
      },
      {
       "current": "b20d67b8-9684-11ea-8d02-0242ac120007-6-424d-36c2-adee-c8fa-b457-b8d6",
       "next": "b20d6966-9684-11ea-8d02-0242ac120007-5-2f67-fb98-877b-415c-247f",
       "previous": "59de053c-9686-11ea-8d02-0242ac120007-5-a249-9ad6-037d-0ba8-a782"
      },
      {
       "current": "b20d67b8-9684-11ea-8d02-0242ac120007-6-424d-36c2-adee-c8fa-b457-b8d6",
       "next": "b20d6966-9684-11ea-8d02-0242ac120007-6-2f67-fb98-877b-415c-247f-9dcf",
       "previous": "59de053c-9686-11ea-8d02-0242ac120007-6-a249-9ad6-037d-0ba8-a782-ea59"
      },
      {
       "current": "b20d67b8-9684-11ea-8d02-0242ac120007-6-424d-36c2-adee-c8fa-b457-b8d6",
       "next": "b20d6966-9684-11ea-8d02-0242ac120007-6-2f67-fb98-877b-415c-247f-9dcf",
       "previous": "741910f6-198e-11ef-ad2f-0242ac120005"
      },
      {
       "current": "b20d67b8-9684-11ea-8d02-0242ac120007-7-424d-36c2-adee-c8fa-b457-b8d6-fe8d",
       "next": "74191038-198e-11ef-ad2f-0242ac120005",
       "previous": "59de053c-9686-11ea-8d02-0242ac120007-6-a249-9ad6-037d-0ba8-a782-ea59"
      },
      {
       "current": "b20d67b8-9684-11ea-8d02-0242ac120007-8-424d-36c2-adee-c8fa-b457-b8d6-fe8d-6d82",
       "next": "74191038-198e-11ef-ad2f-0242ac120005-1-8b4c",
       "previous": "59de053c-9686-11ea-8d02-0242ac120007-7-a249-9ad6-037d-0ba8-a782-ea59-11e1"
      }
     ],
     "next": "74191038-198e-11ef-ad2f-0242ac120005-2-8b4c-ccaa",
     "previous": "59de053c-9686-11ea-8d02-0242ac120007-8-a249-9ad6-037d-0ba8-a782-ea59-11e1-3a16"
    }
   },
   "source": [
    "## chrony.confの設定"
   ]
  },
  {
   "cell_type": "code",
   "execution_count": null,
   "metadata": {
    "lc_cell_meme": {
     "current": "74191038-198e-11ef-ad2f-0242ac120005-2-8b4c-ccaa",
     "history": [
      {
       "current": "74191038-198e-11ef-ad2f-0242ac120005",
       "next": "741910f6-198e-11ef-ad2f-0242ac120005",
       "previous": "59de053c-9686-11ea-8d02-0242ac120007-6-a249-9ad6-037d-0ba8-a782-ea59"
      },
      {
       "current": "74191038-198e-11ef-ad2f-0242ac120005-1-8b4c",
       "next": "b20d6966-9684-11ea-8d02-0242ac120007-6-2f67-fb98-877b-415c-247f-9dcf",
       "previous": "b20d67b8-9684-11ea-8d02-0242ac120007-6-424d-36c2-adee-c8fa-b457-b8d6"
      },
      {
       "current": "74191038-198e-11ef-ad2f-0242ac120005-2-8b4c-ccaa",
       "next": "b20d6966-9684-11ea-8d02-0242ac120007-7-2f67-fb98-877b-415c-247f-9dcf-3433",
       "previous": "b20d67b8-9684-11ea-8d02-0242ac120007-7-424d-36c2-adee-c8fa-b457-b8d6-fe8d"
      }
     ],
     "next": "b20d6966-9684-11ea-8d02-0242ac120007-8-2f67-fb98-877b-415c-247f-9dcf-3433-a21f",
     "previous": "b20d67b8-9684-11ea-8d02-0242ac120007-8-424d-36c2-adee-c8fa-b457-b8d6-fe8d-6d82"
    }
   },
   "outputs": [],
   "source": [
    "ntp_servers = []\n",
    "for key,value in admin_params.items():\n",
    "    if type(value) is not dict:\n",
    "        continue\n",
    "    ip = value['network']['provisioning']['ip']\n",
    "    ntp_servers.append(ip)\n",
    "\n",
    "print(ntp_servers)"
   ]
  },
  {
   "cell_type": "code",
   "execution_count": null,
   "metadata": {
    "lc_cell_meme": {
     "current": "b20d6966-9684-11ea-8d02-0242ac120007-8-2f67-fb98-877b-415c-247f-9dcf-3433-a21f",
     "history": [
      {
       "current": "b20d6966-9684-11ea-8d02-0242ac120007-1-2f67",
       "next": "b20d6ace-9684-11ea-8d02-0242ac120007",
       "previous": "b20d67b8-9684-11ea-8d02-0242ac120007"
      },
      {
       "current": "b20d6966-9684-11ea-8d02-0242ac120007-2-2f67-fb98",
       "next": "b20d6ace-9684-11ea-8d02-0242ac120007-1-ad8d",
       "previous": "b20d67b8-9684-11ea-8d02-0242ac120007-1-424d"
      },
      {
       "current": "b20d6966-9684-11ea-8d02-0242ac120007-3-2f67-fb98-877b",
       "next": "b20d6ace-9684-11ea-8d02-0242ac120007-2-ad8d-953f",
       "previous": "b20d67b8-9684-11ea-8d02-0242ac120007-2-424d-36c2"
      },
      {
       "current": "b20d6966-9684-11ea-8d02-0242ac120007-4-2f67-fb98-877b-415c",
       "next": "b20d6ace-9684-11ea-8d02-0242ac120007-3-ad8d-953f-99db",
       "previous": "b20d67b8-9684-11ea-8d02-0242ac120007-3-424d-36c2-adee"
      },
      {
       "current": "b20d6966-9684-11ea-8d02-0242ac120007-5-2f67-fb98-877b-415c-247f",
       "next": "b20d6ace-9684-11ea-8d02-0242ac120007-4-ad8d-953f-99db-8b37",
       "previous": "b20d67b8-9684-11ea-8d02-0242ac120007-4-424d-36c2-adee-c8fa"
      },
      {
       "current": "b20d6966-9684-11ea-8d02-0242ac120007-6-2f67-fb98-877b-415c-247f-9dcf",
       "next": "b20d6ace-9684-11ea-8d02-0242ac120007-5-ad8d-953f-99db-8b37-31ec",
       "previous": "b20d67b8-9684-11ea-8d02-0242ac120007-5-424d-36c2-adee-c8fa-b457"
      },
      {
       "current": "b20d6966-9684-11ea-8d02-0242ac120007-6-2f67-fb98-877b-415c-247f-9dcf",
       "next": "b20d6ace-9684-11ea-8d02-0242ac120007-6-ad8d-953f-99db-8b37-31ec-9d43",
       "previous": "b20d67b8-9684-11ea-8d02-0242ac120007-6-424d-36c2-adee-c8fa-b457-b8d6"
      },
      {
       "current": "b20d6966-9684-11ea-8d02-0242ac120007-7-2f67-fb98-877b-415c-247f-9dcf-3433",
       "next": "b20d6ace-9684-11ea-8d02-0242ac120007-6-ad8d-953f-99db-8b37-31ec-9d43",
       "previous": "74191038-198e-11ef-ad2f-0242ac120005"
      },
      {
       "current": "b20d6966-9684-11ea-8d02-0242ac120007-8-2f67-fb98-877b-415c-247f-9dcf-3433-a21f",
       "next": "b20d6ace-9684-11ea-8d02-0242ac120007-7-ad8d-953f-99db-8b37-31ec-9d43-ceb3",
       "previous": "74191038-198e-11ef-ad2f-0242ac120005-1-8b4c"
      }
     ],
     "next": "b20d6ace-9684-11ea-8d02-0242ac120007-8-ad8d-953f-99db-8b37-31ec-9d43-ceb3-31f3",
     "previous": "74191038-198e-11ef-ad2f-0242ac120005-2-8b4c-ccaa"
    }
   },
   "outputs": [],
   "source": [
    "ntp_servers_conf = '\\n'.join(['server {} iburst'.format(x) for x in ntp_servers])\n",
    "print (ntp_servers_conf)"
   ]
  },
  {
   "cell_type": "code",
   "execution_count": null,
   "metadata": {
    "lc_cell_meme": {
     "current": "b20d6ace-9684-11ea-8d02-0242ac120007-8-ad8d-953f-99db-8b37-31ec-9d43-ceb3-31f3",
     "history": [
      {
       "current": "b20d6ace-9684-11ea-8d02-0242ac120007",
       "next": "35c581ba-55a3-11e7-b0b2-00163e9c0e35",
       "previous": "b20d6966-9684-11ea-8d02-0242ac120007"
      },
      {
       "current": "b20d6ace-9684-11ea-8d02-0242ac120007-1-ad8d",
       "next": "18b83316-9686-11ea-8d02-0242ac120007",
       "previous": "b20d6966-9684-11ea-8d02-0242ac120007"
      },
      {
       "current": "b20d6ace-9684-11ea-8d02-0242ac120007-2-ad8d-953f",
       "next": "18b83316-9686-11ea-8d02-0242ac120007-1-72c0",
       "previous": "b20d6966-9684-11ea-8d02-0242ac120007-1-2f67"
      },
      {
       "current": "b20d6ace-9684-11ea-8d02-0242ac120007-3-ad8d-953f-99db",
       "next": "18b83316-9686-11ea-8d02-0242ac120007-2-72c0-a22e",
       "previous": "b20d6966-9684-11ea-8d02-0242ac120007-2-2f67-fb98"
      },
      {
       "current": "b20d6ace-9684-11ea-8d02-0242ac120007-4-ad8d-953f-99db-8b37",
       "next": "18b83316-9686-11ea-8d02-0242ac120007-3-72c0-a22e-5baf",
       "previous": "b20d6966-9684-11ea-8d02-0242ac120007-3-2f67-fb98-877b"
      },
      {
       "current": "b20d6ace-9684-11ea-8d02-0242ac120007-5-ad8d-953f-99db-8b37-31ec",
       "next": "18b83316-9686-11ea-8d02-0242ac120007-4-72c0-a22e-5baf-5d00",
       "previous": "b20d6966-9684-11ea-8d02-0242ac120007-4-2f67-fb98-877b-415c"
      },
      {
       "current": "b20d6ace-9684-11ea-8d02-0242ac120007-6-ad8d-953f-99db-8b37-31ec-9d43",
       "next": "18b83316-9686-11ea-8d02-0242ac120007-5-72c0-a22e-5baf-5d00-184a",
       "previous": "b20d6966-9684-11ea-8d02-0242ac120007-5-2f67-fb98-877b-415c-247f"
      },
      {
       "current": "b20d6ace-9684-11ea-8d02-0242ac120007-7-ad8d-953f-99db-8b37-31ec-9d43-ceb3",
       "next": "18b83316-9686-11ea-8d02-0242ac120007-6-72c0-a22e-5baf-5d00-184a-d148",
       "previous": "b20d6966-9684-11ea-8d02-0242ac120007-6-2f67-fb98-877b-415c-247f-9dcf"
      },
      {
       "current": "b20d6ace-9684-11ea-8d02-0242ac120007-8-ad8d-953f-99db-8b37-31ec-9d43-ceb3-31f3",
       "next": "18b83316-9686-11ea-8d02-0242ac120007-7-72c0-a22e-5baf-5d00-184a-d148-6e81",
       "previous": "b20d6966-9684-11ea-8d02-0242ac120007-7-2f67-fb98-877b-415c-247f-9dcf-3433"
      }
     ],
     "next": "18b83316-9686-11ea-8d02-0242ac120007-8-72c0-a22e-5baf-5d00-184a-d148-6e81-7d4f",
     "previous": "b20d6966-9684-11ea-8d02-0242ac120007-8-2f67-fb98-877b-415c-247f-9dcf-3433-a21f"
    }
   },
   "outputs": [],
   "source": [
    "chrony_conf = '''# Use public servers from the pool.ntp.org project.\n",
    "# Please consider joining the pool (http://www.pool.ntp.org/join.html).\n",
    "#server 0.centos.pool.ntp.org iburst\n",
    "#server 1.centos.pool.ntp.org iburst\n",
    "#server 2.centos.pool.ntp.org iburst\n",
    "#server 3.centos.pool.ntp.org iburst\n",
    "{servers}\n",
    "\n",
    "# Ignore stratum in source selection.\n",
    "stratumweight 0\n",
    "\n",
    "# Record the rate at which the system clock gains/losses time.\n",
    "driftfile /var/lib/chrony/drift\n",
    "\n",
    "# Enable kernel RTC synchronization.\n",
    "rtcsync\n",
    "\n",
    "# In first three updates step the system clock instead of slew\n",
    "# if the adjustment is larger than 10 seconds.\n",
    "makestep 10 3\n",
    "\n",
    "# Allow NTP client access from local network.\n",
    "#allow 192.168/16\n",
    "\n",
    "# Listen for commands only on localhost.\n",
    "bindcmdaddress 127.0.0.1\n",
    "bindcmdaddress ::1\n",
    "\n",
    "# Serve time even if not synchronized to any NTP server.\n",
    "#local stratum 10\n",
    "\n",
    "keyfile /etc/chrony.keys\n",
    "\n",
    "# Specify the key used as password for chronyc.\n",
    "commandkey 1\n",
    "\n",
    "# Generate command key if missing.\n",
    "generatecommandkey\n",
    "\n",
    "# Disable logging of client accesses.\n",
    "noclientlog\n",
    "\n",
    "# Send a message to syslog if a clock adjustment is larger than 0.5 seconds.\n",
    "logchange 0.5\n",
    "\n",
    "logdir /var/log/chrony\n",
    "#log measurements statistics tracking\n",
    "'''.format(servers=ntp_servers_conf)\n",
    "\n",
    "import os.path\n",
    "\n",
    "with open(os.path.join(temp_dir, 'chrony.conf'), 'w') as f:\n",
    "    f.write(chrony_conf)\n",
    "\n",
    "!cat {temp_dir}/chrony.conf"
   ]
  },
  {
   "cell_type": "code",
   "execution_count": null,
   "metadata": {
    "lc_cell_meme": {
     "current": "18b83316-9686-11ea-8d02-0242ac120007-8-72c0-a22e-5baf-5d00-184a-d148-6e81-7d4f",
     "history": [
      {
       "current": "18b83316-9686-11ea-8d02-0242ac120007-1-72c0",
       "next": "18b835fa-9686-11ea-8d02-0242ac120007",
       "previous": "b20d6ace-9684-11ea-8d02-0242ac120007"
      },
      {
       "current": "18b83316-9686-11ea-8d02-0242ac120007-2-72c0-a22e",
       "next": "18b835fa-9686-11ea-8d02-0242ac120007-1-f4b3",
       "previous": "b20d6ace-9684-11ea-8d02-0242ac120007-1-ad8d"
      },
      {
       "current": "18b83316-9686-11ea-8d02-0242ac120007-3-72c0-a22e-5baf",
       "next": "18b835fa-9686-11ea-8d02-0242ac120007-2-f4b3-0b34",
       "previous": "b20d6ace-9684-11ea-8d02-0242ac120007-2-ad8d-953f"
      },
      {
       "current": "18b83316-9686-11ea-8d02-0242ac120007-4-72c0-a22e-5baf-5d00",
       "next": "18b835fa-9686-11ea-8d02-0242ac120007-3-f4b3-0b34-ae6d",
       "previous": "b20d6ace-9684-11ea-8d02-0242ac120007-3-ad8d-953f-99db"
      },
      {
       "current": "18b83316-9686-11ea-8d02-0242ac120007-5-72c0-a22e-5baf-5d00-184a",
       "next": "18b835fa-9686-11ea-8d02-0242ac120007-4-f4b3-0b34-ae6d-e821",
       "previous": "b20d6ace-9684-11ea-8d02-0242ac120007-4-ad8d-953f-99db-8b37"
      },
      {
       "current": "18b83316-9686-11ea-8d02-0242ac120007-6-72c0-a22e-5baf-5d00-184a-d148",
       "next": "18b835fa-9686-11ea-8d02-0242ac120007-5-f4b3-0b34-ae6d-e821-d232",
       "previous": "b20d6ace-9684-11ea-8d02-0242ac120007-5-ad8d-953f-99db-8b37-31ec"
      },
      {
       "current": "18b83316-9686-11ea-8d02-0242ac120007-7-72c0-a22e-5baf-5d00-184a-d148-6e81",
       "next": "18b835fa-9686-11ea-8d02-0242ac120007-6-f4b3-0b34-ae6d-e821-d232-5d58",
       "previous": "b20d6ace-9684-11ea-8d02-0242ac120007-6-ad8d-953f-99db-8b37-31ec-9d43"
      },
      {
       "current": "18b83316-9686-11ea-8d02-0242ac120007-8-72c0-a22e-5baf-5d00-184a-d148-6e81-7d4f",
       "next": "18b835fa-9686-11ea-8d02-0242ac120007-7-f4b3-0b34-ae6d-e821-d232-5d58-ca59",
       "previous": "b20d6ace-9684-11ea-8d02-0242ac120007-7-ad8d-953f-99db-8b37-31ec-9d43-ceb3"
      }
     ],
     "next": "18b835fa-9686-11ea-8d02-0242ac120007-8-f4b3-0b34-ae6d-e821-d232-5d58-ca59-4684",
     "previous": "b20d6ace-9684-11ea-8d02-0242ac120007-8-ad8d-953f-99db-8b37-31ec-9d43-ceb3-31f3"
    }
   },
   "outputs": [],
   "source": [
    "!ansible --check --diff -i $hosts -b -m copy -a \"dest=/etc/chrony.conf src={temp_dir}/chrony.conf backup=yes\" $ceph_node"
   ]
  },
  {
   "cell_type": "code",
   "execution_count": null,
   "metadata": {
    "lc_cell_meme": {
     "current": "18b835fa-9686-11ea-8d02-0242ac120007-8-f4b3-0b34-ae6d-e821-d232-5d58-ca59-4684",
     "history": [
      {
       "current": "18b835fa-9686-11ea-8d02-0242ac120007-1-f4b3",
       "next": "18b837c6-9686-11ea-8d02-0242ac120007",
       "previous": "18b83316-9686-11ea-8d02-0242ac120007"
      },
      {
       "current": "18b835fa-9686-11ea-8d02-0242ac120007-2-f4b3-0b34",
       "next": "18b837c6-9686-11ea-8d02-0242ac120007-1-93be",
       "previous": "18b83316-9686-11ea-8d02-0242ac120007-1-72c0"
      },
      {
       "current": "18b835fa-9686-11ea-8d02-0242ac120007-3-f4b3-0b34-ae6d",
       "next": "18b837c6-9686-11ea-8d02-0242ac120007-2-93be-44d4",
       "previous": "18b83316-9686-11ea-8d02-0242ac120007-2-72c0-a22e"
      },
      {
       "current": "18b835fa-9686-11ea-8d02-0242ac120007-4-f4b3-0b34-ae6d-e821",
       "next": "18b837c6-9686-11ea-8d02-0242ac120007-3-93be-44d4-075e",
       "previous": "18b83316-9686-11ea-8d02-0242ac120007-3-72c0-a22e-5baf"
      },
      {
       "current": "18b835fa-9686-11ea-8d02-0242ac120007-5-f4b3-0b34-ae6d-e821-d232",
       "next": "18b837c6-9686-11ea-8d02-0242ac120007-4-93be-44d4-075e-cc96",
       "previous": "18b83316-9686-11ea-8d02-0242ac120007-4-72c0-a22e-5baf-5d00"
      },
      {
       "current": "18b835fa-9686-11ea-8d02-0242ac120007-6-f4b3-0b34-ae6d-e821-d232-5d58",
       "next": "18b837c6-9686-11ea-8d02-0242ac120007-5-93be-44d4-075e-cc96-d765",
       "previous": "18b83316-9686-11ea-8d02-0242ac120007-5-72c0-a22e-5baf-5d00-184a"
      },
      {
       "current": "18b835fa-9686-11ea-8d02-0242ac120007-7-f4b3-0b34-ae6d-e821-d232-5d58-ca59",
       "next": "18b837c6-9686-11ea-8d02-0242ac120007-6-93be-44d4-075e-cc96-d765-2e74",
       "previous": "18b83316-9686-11ea-8d02-0242ac120007-6-72c0-a22e-5baf-5d00-184a-d148"
      },
      {
       "current": "18b835fa-9686-11ea-8d02-0242ac120007-8-f4b3-0b34-ae6d-e821-d232-5d58-ca59-4684",
       "next": "18b837c6-9686-11ea-8d02-0242ac120007-7-93be-44d4-075e-cc96-d765-2e74-6e85",
       "previous": "18b83316-9686-11ea-8d02-0242ac120007-7-72c0-a22e-5baf-5d00-184a-d148-6e81"
      }
     ],
     "next": "18b837c6-9686-11ea-8d02-0242ac120007-8-93be-44d4-075e-cc96-d765-2e74-6e85-30a5",
     "previous": "18b83316-9686-11ea-8d02-0242ac120007-8-72c0-a22e-5baf-5d00-184a-d148-6e81-7d4f"
    }
   },
   "outputs": [],
   "source": [
    "!ansible --diff -i $hosts -b -m copy -a \"dest=/etc/chrony.conf src={temp_dir}/chrony.conf backup=yes\" $ceph_node"
   ]
  },
  {
   "cell_type": "code",
   "execution_count": null,
   "metadata": {
    "lc_cell_meme": {
     "current": "18b837c6-9686-11ea-8d02-0242ac120007-8-93be-44d4-075e-cc96-d765-2e74-6e85-30a5",
     "history": [
      {
       "current": "18b837c6-9686-11ea-8d02-0242ac120007",
       "next": "35c581ba-55a3-11e7-b0b2-00163e9c0e35",
       "previous": "18b835fa-9686-11ea-8d02-0242ac120007"
      },
      {
       "current": "18b837c6-9686-11ea-8d02-0242ac120007-1-93be",
       "next": "59de073a-9686-11ea-8d02-0242ac120007",
       "previous": "18b835fa-9686-11ea-8d02-0242ac120007"
      },
      {
       "current": "18b837c6-9686-11ea-8d02-0242ac120007-2-93be-44d4",
       "next": "59de073a-9686-11ea-8d02-0242ac120007-1-e1cd",
       "previous": "18b835fa-9686-11ea-8d02-0242ac120007-1-f4b3"
      },
      {
       "current": "18b837c6-9686-11ea-8d02-0242ac120007-3-93be-44d4-075e",
       "next": "59de073a-9686-11ea-8d02-0242ac120007-2-e1cd-1238",
       "previous": "18b835fa-9686-11ea-8d02-0242ac120007-2-f4b3-0b34"
      },
      {
       "current": "18b837c6-9686-11ea-8d02-0242ac120007-4-93be-44d4-075e-cc96",
       "next": "59de073a-9686-11ea-8d02-0242ac120007-3-e1cd-1238-5d76",
       "previous": "18b835fa-9686-11ea-8d02-0242ac120007-3-f4b3-0b34-ae6d"
      },
      {
       "current": "18b837c6-9686-11ea-8d02-0242ac120007-5-93be-44d4-075e-cc96-d765",
       "next": "59de073a-9686-11ea-8d02-0242ac120007-4-e1cd-1238-5d76-75c7",
       "previous": "18b835fa-9686-11ea-8d02-0242ac120007-4-f4b3-0b34-ae6d-e821"
      },
      {
       "current": "18b837c6-9686-11ea-8d02-0242ac120007-6-93be-44d4-075e-cc96-d765-2e74",
       "next": "59de073a-9686-11ea-8d02-0242ac120007-5-e1cd-1238-5d76-75c7-9c8c",
       "previous": "18b835fa-9686-11ea-8d02-0242ac120007-5-f4b3-0b34-ae6d-e821-d232"
      },
      {
       "current": "18b837c6-9686-11ea-8d02-0242ac120007-7-93be-44d4-075e-cc96-d765-2e74-6e85",
       "next": "59de073a-9686-11ea-8d02-0242ac120007-6-e1cd-1238-5d76-75c7-9c8c-34fd",
       "previous": "18b835fa-9686-11ea-8d02-0242ac120007-6-f4b3-0b34-ae6d-e821-d232-5d58"
      },
      {
       "current": "18b837c6-9686-11ea-8d02-0242ac120007-8-93be-44d4-075e-cc96-d765-2e74-6e85-30a5",
       "next": "59de073a-9686-11ea-8d02-0242ac120007-7-e1cd-1238-5d76-75c7-9c8c-34fd-c555",
       "previous": "18b835fa-9686-11ea-8d02-0242ac120007-7-f4b3-0b34-ae6d-e821-d232-5d58-ca59"
      }
     ],
     "next": "59de073a-9686-11ea-8d02-0242ac120007-8-e1cd-1238-5d76-75c7-9c8c-34fd-c555-702c",
     "previous": "18b835fa-9686-11ea-8d02-0242ac120007-8-f4b3-0b34-ae6d-e821-d232-5d58-ca59-4684"
    },
    "scrolled": true
   },
   "outputs": [],
   "source": [
    "!ansible -i $hosts -m service -b -a \"name=chronyd enabled=yes state=restarted\" $ceph_node"
   ]
  },
  {
   "cell_type": "markdown",
   "metadata": {
    "lc_cell_meme": {
     "current": "59de073a-9686-11ea-8d02-0242ac120007-8-e1cd-1238-5d76-75c7-9c8c-34fd-c555-702c",
     "history": [
      {
       "current": "59de073a-9686-11ea-8d02-0242ac120007-1-e1cd",
       "next": "59de09f6-9686-11ea-8d02-0242ac120007",
       "previous": "18b837c6-9686-11ea-8d02-0242ac120007"
      },
      {
       "current": "59de073a-9686-11ea-8d02-0242ac120007-2-e1cd-1238",
       "next": "59de09f6-9686-11ea-8d02-0242ac120007-1-f840",
       "previous": "18b837c6-9686-11ea-8d02-0242ac120007-1-93be"
      },
      {
       "current": "59de073a-9686-11ea-8d02-0242ac120007-3-e1cd-1238-5d76",
       "next": "59de09f6-9686-11ea-8d02-0242ac120007-2-f840-3eb0",
       "previous": "18b837c6-9686-11ea-8d02-0242ac120007-2-93be-44d4"
      },
      {
       "current": "59de073a-9686-11ea-8d02-0242ac120007-4-e1cd-1238-5d76-75c7",
       "next": "59de09f6-9686-11ea-8d02-0242ac120007-3-f840-3eb0-3c20",
       "previous": "18b837c6-9686-11ea-8d02-0242ac120007-3-93be-44d4-075e"
      },
      {
       "current": "59de073a-9686-11ea-8d02-0242ac120007-5-e1cd-1238-5d76-75c7-9c8c",
       "next": "59de09f6-9686-11ea-8d02-0242ac120007-4-f840-3eb0-3c20-36c9",
       "previous": "18b837c6-9686-11ea-8d02-0242ac120007-4-93be-44d4-075e-cc96"
      },
      {
       "current": "59de073a-9686-11ea-8d02-0242ac120007-6-e1cd-1238-5d76-75c7-9c8c-34fd",
       "next": "59de09f6-9686-11ea-8d02-0242ac120007-5-f840-3eb0-3c20-36c9-13f7",
       "previous": "18b837c6-9686-11ea-8d02-0242ac120007-5-93be-44d4-075e-cc96-d765"
      },
      {
       "current": "59de073a-9686-11ea-8d02-0242ac120007-7-e1cd-1238-5d76-75c7-9c8c-34fd-c555",
       "next": "59de09f6-9686-11ea-8d02-0242ac120007-6-f840-3eb0-3c20-36c9-13f7-7676",
       "previous": "18b837c6-9686-11ea-8d02-0242ac120007-6-93be-44d4-075e-cc96-d765-2e74"
      },
      {
       "current": "59de073a-9686-11ea-8d02-0242ac120007-8-e1cd-1238-5d76-75c7-9c8c-34fd-c555-702c",
       "next": "59de09f6-9686-11ea-8d02-0242ac120007-7-f840-3eb0-3c20-36c9-13f7-7676-3cdc",
       "previous": "18b837c6-9686-11ea-8d02-0242ac120007-7-93be-44d4-075e-cc96-d765-2e74-6e85"
      }
     ],
     "next": "59de09f6-9686-11ea-8d02-0242ac120007-8-f840-3eb0-3c20-36c9-13f7-7676-3cdc-a936",
     "previous": "18b837c6-9686-11ea-8d02-0242ac120007-8-93be-44d4-075e-cc96-d765-2e74-6e85-30a5"
    }
   },
   "source": [
    "時刻同期確認"
   ]
  },
  {
   "cell_type": "code",
   "execution_count": null,
   "metadata": {
    "lc_cell_meme": {
     "current": "59de09f6-9686-11ea-8d02-0242ac120007-8-f840-3eb0-3c20-36c9-13f7-7676-3cdc-a936",
     "history": [
      {
       "current": "59de09f6-9686-11ea-8d02-0242ac120007",
       "next": "35c581ba-55a3-11e7-b0b2-00163e9c0e35",
       "previous": "59de073a-9686-11ea-8d02-0242ac120007"
      },
      {
       "current": "59de09f6-9686-11ea-8d02-0242ac120007",
       "next": "7dae86da-9686-11ea-8d02-0242ac120007",
       "previous": "59de073a-9686-11ea-8d02-0242ac120007"
      },
      {
       "current": "59de09f6-9686-11ea-8d02-0242ac120007-1-f840",
       "next": "40ed0404-98b3-11ea-8d02-0242ac120007",
       "previous": "59de073a-9686-11ea-8d02-0242ac120007"
      },
      {
       "current": "59de09f6-9686-11ea-8d02-0242ac120007-2-f840-3eb0",
       "next": "40ed0404-98b3-11ea-8d02-0242ac120007-1-c500",
       "previous": "59de073a-9686-11ea-8d02-0242ac120007-1-e1cd"
      },
      {
       "current": "59de09f6-9686-11ea-8d02-0242ac120007-3-f840-3eb0-3c20",
       "next": "40ed0404-98b3-11ea-8d02-0242ac120007-2-c500-5d02",
       "previous": "59de073a-9686-11ea-8d02-0242ac120007-2-e1cd-1238"
      },
      {
       "current": "59de09f6-9686-11ea-8d02-0242ac120007-4-f840-3eb0-3c20-36c9",
       "next": "40ed0404-98b3-11ea-8d02-0242ac120007-3-c500-5d02-8516",
       "previous": "59de073a-9686-11ea-8d02-0242ac120007-3-e1cd-1238-5d76"
      },
      {
       "current": "59de09f6-9686-11ea-8d02-0242ac120007-5-f840-3eb0-3c20-36c9-13f7",
       "next": "40ed0404-98b3-11ea-8d02-0242ac120007-4-c500-5d02-8516-124f",
       "previous": "59de073a-9686-11ea-8d02-0242ac120007-4-e1cd-1238-5d76-75c7"
      },
      {
       "current": "59de09f6-9686-11ea-8d02-0242ac120007-6-f840-3eb0-3c20-36c9-13f7-7676",
       "next": "40ed0404-98b3-11ea-8d02-0242ac120007-5-c500-5d02-8516-124f-883a",
       "previous": "59de073a-9686-11ea-8d02-0242ac120007-5-e1cd-1238-5d76-75c7-9c8c"
      },
      {
       "current": "59de09f6-9686-11ea-8d02-0242ac120007-7-f840-3eb0-3c20-36c9-13f7-7676-3cdc",
       "next": "40ed0404-98b3-11ea-8d02-0242ac120007-6-c500-5d02-8516-124f-883a-3fb2",
       "previous": "59de073a-9686-11ea-8d02-0242ac120007-6-e1cd-1238-5d76-75c7-9c8c-34fd"
      },
      {
       "current": "59de09f6-9686-11ea-8d02-0242ac120007-8-f840-3eb0-3c20-36c9-13f7-7676-3cdc-a936",
       "next": "40ed0404-98b3-11ea-8d02-0242ac120007-7-c500-5d02-8516-124f-883a-3fb2-c5e8",
       "previous": "59de073a-9686-11ea-8d02-0242ac120007-7-e1cd-1238-5d76-75c7-9c8c-34fd-c555"
      }
     ],
     "next": "40ed0404-98b3-11ea-8d02-0242ac120007-8-c500-5d02-8516-124f-883a-3fb2-c5e8-4cc8",
     "previous": "59de073a-9686-11ea-8d02-0242ac120007-8-e1cd-1238-5d76-75c7-9c8c-34fd-c555-702c"
    }
   },
   "outputs": [],
   "source": [
    "!ansible -i $hosts -b -m shell -a \"chronyc sources\" $ceph_node"
   ]
  },
  {
   "cell_type": "markdown",
   "metadata": {
    "lc_cell_meme": {
     "current": "40ed0404-98b3-11ea-8d02-0242ac120007-8-c500-5d02-8516-124f-883a-3fb2-c5e8-4cc8",
     "history": [
      {
       "current": "40ed0404-98b3-11ea-8d02-0242ac120007-1-c500",
       "next": "40ed072e-98b3-11ea-8d02-0242ac120007",
       "previous": "59de09f6-9686-11ea-8d02-0242ac120007"
      },
      {
       "current": "40ed0404-98b3-11ea-8d02-0242ac120007-2-c500-5d02",
       "next": "40ed072e-98b3-11ea-8d02-0242ac120007-1-a9bd",
       "previous": "59de09f6-9686-11ea-8d02-0242ac120007-1-f840"
      },
      {
       "current": "40ed0404-98b3-11ea-8d02-0242ac120007-2-c500-5d02",
       "next": "40ed072e-98b3-11ea-8d02-0242ac120007-2-a9bd-74b1",
       "previous": "59de09f6-9686-11ea-8d02-0242ac120007-2-f840-3eb0"
      },
      {
       "current": "40ed0404-98b3-11ea-8d02-0242ac120007-2-c500-5d02",
       "next": "056c5ac8-aa25-11ea-9ad4-0242ac120006-1-7d2c",
       "previous": "59de09f6-9686-11ea-8d02-0242ac120007-2-f840-3eb0"
      },
      {
       "current": "40ed0404-98b3-11ea-8d02-0242ac120007-2-c500-5d02",
       "next": "cf06fb6c-dfd1-11eb-b29f-0242ac120008",
       "previous": "59de09f6-9686-11ea-8d02-0242ac120007-2-f840-3eb0"
      },
      {
       "current": "40ed0404-98b3-11ea-8d02-0242ac120007-3-c500-5d02-8516",
       "next": "1691bf80-dfd2-11eb-b29f-0242ac120008",
       "previous": "59de09f6-9686-11ea-8d02-0242ac120007-2-f840-3eb0"
      },
      {
       "current": "40ed0404-98b3-11ea-8d02-0242ac120007-4-c500-5d02-8516-124f",
       "next": "1691bf80-dfd2-11eb-b29f-0242ac120008-1-16e1",
       "previous": "59de09f6-9686-11ea-8d02-0242ac120007-3-f840-3eb0-3c20"
      },
      {
       "current": "40ed0404-98b3-11ea-8d02-0242ac120007-5-c500-5d02-8516-124f-883a",
       "next": "1691bf80-dfd2-11eb-b29f-0242ac120008-2-16e1-d7af",
       "previous": "59de09f6-9686-11ea-8d02-0242ac120007-4-f840-3eb0-3c20-36c9"
      },
      {
       "current": "40ed0404-98b3-11ea-8d02-0242ac120007-6-c500-5d02-8516-124f-883a-3fb2",
       "next": "1691bf80-dfd2-11eb-b29f-0242ac120008-3-16e1-d7af-86df",
       "previous": "59de09f6-9686-11ea-8d02-0242ac120007-5-f840-3eb0-3c20-36c9-13f7"
      },
      {
       "current": "40ed0404-98b3-11ea-8d02-0242ac120007-7-c500-5d02-8516-124f-883a-3fb2-c5e8",
       "next": "1691bf80-dfd2-11eb-b29f-0242ac120008-4-16e1-d7af-86df-a306",
       "previous": "59de09f6-9686-11ea-8d02-0242ac120007-6-f840-3eb0-3c20-36c9-13f7-7676"
      },
      {
       "current": "40ed0404-98b3-11ea-8d02-0242ac120007-8-c500-5d02-8516-124f-883a-3fb2-c5e8-4cc8",
       "next": "1691bf80-dfd2-11eb-b29f-0242ac120008-5-16e1-d7af-86df-a306-f23e",
       "previous": "59de09f6-9686-11ea-8d02-0242ac120007-7-f840-3eb0-3c20-36c9-13f7-7676-3cdc"
      }
     ],
     "next": "1691bf80-dfd2-11eb-b29f-0242ac120008-6-16e1-d7af-86df-a306-f23e-6923",
     "previous": "59de09f6-9686-11ea-8d02-0242ac120007-8-f840-3eb0-3c20-36c9-13f7-7676-3cdc-a936"
    }
   },
   "source": [
    "# firewalld 設定"
   ]
  },
  {
   "cell_type": "code",
   "execution_count": null,
   "metadata": {
    "lc_cell_meme": {
     "current": "1691bf80-dfd2-11eb-b29f-0242ac120008-6-16e1-d7af-86df-a306-f23e-6923",
     "history": [
      {
       "current": "1691bf80-dfd2-11eb-b29f-0242ac120008-1-16e1",
       "next": "cf06fb6c-dfd1-11eb-b29f-0242ac120008",
       "previous": "40ed0404-98b3-11ea-8d02-0242ac120007-2-c500-5d02"
      },
      {
       "current": "1691bf80-dfd2-11eb-b29f-0242ac120008-2-16e1-d7af",
       "next": "cf06fb6c-dfd1-11eb-b29f-0242ac120008-1-a3bc",
       "previous": "40ed0404-98b3-11ea-8d02-0242ac120007-3-c500-5d02-8516"
      },
      {
       "current": "1691bf80-dfd2-11eb-b29f-0242ac120008-3-16e1-d7af-86df",
       "next": "cf06fb6c-dfd1-11eb-b29f-0242ac120008-2-a3bc-102d",
       "previous": "40ed0404-98b3-11ea-8d02-0242ac120007-4-c500-5d02-8516-124f"
      },
      {
       "current": "1691bf80-dfd2-11eb-b29f-0242ac120008-4-16e1-d7af-86df-a306",
       "next": "cf06fb6c-dfd1-11eb-b29f-0242ac120008-3-a3bc-102d-31ef",
       "previous": "40ed0404-98b3-11ea-8d02-0242ac120007-5-c500-5d02-8516-124f-883a"
      },
      {
       "current": "1691bf80-dfd2-11eb-b29f-0242ac120008-5-16e1-d7af-86df-a306-f23e",
       "next": "cf06fb6c-dfd1-11eb-b29f-0242ac120008-4-a3bc-102d-31ef-4831",
       "previous": "40ed0404-98b3-11ea-8d02-0242ac120007-6-c500-5d02-8516-124f-883a-3fb2"
      },
      {
       "current": "1691bf80-dfd2-11eb-b29f-0242ac120008-5-16e1-d7af-86df-a306-f23e",
       "next": "cf06fb6c-dfd1-11eb-b29f-0242ac120008-5-a3bc-102d-31ef-4831-60bf",
       "previous": "40ed0404-98b3-11ea-8d02-0242ac120007-7-c500-5d02-8516-124f-883a-3fb2-c5e8"
      },
      {
       "current": "1691bf80-dfd2-11eb-b29f-0242ac120008-6-16e1-d7af-86df-a306-f23e-6923",
       "next": "056c5ac8-aa25-11ea-9ad4-0242ac120006-6-7d2c-62cb-06c5-6f5c-05f2-248c",
       "previous": "40ed0404-98b3-11ea-8d02-0242ac120007-7-c500-5d02-8516-124f-883a-3fb2-c5e8"
      }
     ],
     "next": "056c5ac8-aa25-11ea-9ad4-0242ac120006-7-7d2c-62cb-06c5-6f5c-05f2-248c-367c",
     "previous": "40ed0404-98b3-11ea-8d02-0242ac120007-8-c500-5d02-8516-124f-883a-3fb2-c5e8-4cc8"
    }
   },
   "outputs": [],
   "source": [
    "!ansible -i $hosts -b -m dnf -a \"name=firewalld state=latest\" ceph_node"
   ]
  },
  {
   "cell_type": "code",
   "execution_count": null,
   "metadata": {
    "lc_cell_meme": {
     "current": "056c5ac8-aa25-11ea-9ad4-0242ac120006-7-7d2c-62cb-06c5-6f5c-05f2-248c-367c",
     "history": [
      {
       "current": "056c5ac8-aa25-11ea-9ad4-0242ac120006-1-7d2c",
       "next": "d076999c-98bc-11ea-8d02-0242ac120007-1-aec8",
       "previous": "40ed072e-98b3-11ea-8d02-0242ac120007-1-a9bd"
      },
      {
       "current": "056c5ac8-aa25-11ea-9ad4-0242ac120006-1-7d2c",
       "next": "d076999c-98bc-11ea-8d02-0242ac120007-2-aec8-f7d7",
       "previous": "40ed072e-98b3-11ea-8d02-0242ac120007-2-a9bd-74b1"
      },
      {
       "current": "056c5ac8-aa25-11ea-9ad4-0242ac120006-1-7d2c",
       "next": "d076999c-98bc-11ea-8d02-0242ac120007-2-aec8-f7d7",
       "previous": "40ed0404-98b3-11ea-8d02-0242ac120007-2-c500-5d02"
      },
      {
       "current": "056c5ac8-aa25-11ea-9ad4-0242ac120006-2-7d2c-62cb",
       "next": "d076999c-98bc-11ea-8d02-0242ac120007-2-aec8-f7d7",
       "previous": "cf06fb6c-dfd1-11eb-b29f-0242ac120008"
      },
      {
       "current": "056c5ac8-aa25-11ea-9ad4-0242ac120006-3-7d2c-62cb-06c5",
       "next": "d076999c-98bc-11ea-8d02-0242ac120007-3-aec8-f7d7-e696",
       "previous": "cf06fb6c-dfd1-11eb-b29f-0242ac120008-1-a3bc"
      },
      {
       "current": "056c5ac8-aa25-11ea-9ad4-0242ac120006-4-7d2c-62cb-06c5-6f5c",
       "next": "d076999c-98bc-11ea-8d02-0242ac120007-4-aec8-f7d7-e696-31b0",
       "previous": "cf06fb6c-dfd1-11eb-b29f-0242ac120008-2-a3bc-102d"
      },
      {
       "current": "056c5ac8-aa25-11ea-9ad4-0242ac120006-5-7d2c-62cb-06c5-6f5c-05f2",
       "next": "d076999c-98bc-11ea-8d02-0242ac120007-5-aec8-f7d7-e696-31b0-442e",
       "previous": "cf06fb6c-dfd1-11eb-b29f-0242ac120008-3-a3bc-102d-31ef"
      },
      {
       "current": "056c5ac8-aa25-11ea-9ad4-0242ac120006-6-7d2c-62cb-06c5-6f5c-05f2-248c",
       "next": "d076999c-98bc-11ea-8d02-0242ac120007-6-aec8-f7d7-e696-31b0-442e-06d3",
       "previous": "cf06fb6c-dfd1-11eb-b29f-0242ac120008-4-a3bc-102d-31ef-4831"
      },
      {
       "current": "056c5ac8-aa25-11ea-9ad4-0242ac120006-6-7d2c-62cb-06c5-6f5c-05f2-248c",
       "next": "d076999c-98bc-11ea-8d02-0242ac120007-7-aec8-f7d7-e696-31b0-442e-06d3-13dd",
       "previous": "cf06fb6c-dfd1-11eb-b29f-0242ac120008-5-a3bc-102d-31ef-4831-60bf"
      },
      {
       "current": "056c5ac8-aa25-11ea-9ad4-0242ac120006-7-7d2c-62cb-06c5-6f5c-05f2-248c-367c",
       "next": "d076999c-98bc-11ea-8d02-0242ac120007-7-aec8-f7d7-e696-31b0-442e-06d3-13dd",
       "previous": "1691bf80-dfd2-11eb-b29f-0242ac120008-5-16e1-d7af-86df-a306-f23e"
      }
     ],
     "next": "d076999c-98bc-11ea-8d02-0242ac120007-8-aec8-f7d7-e696-31b0-442e-06d3-13dd-d4fa",
     "previous": "1691bf80-dfd2-11eb-b29f-0242ac120008-6-16e1-d7af-86df-a306-f23e-6923"
    }
   },
   "outputs": [],
   "source": [
    "!ansible -i $hosts -m service -b -a \"name=firewalld enabled=yes state=started\" ceph_node"
   ]
  },
  {
   "cell_type": "markdown",
   "metadata": {
    "lc_cell_meme": {
     "current": "d076999c-98bc-11ea-8d02-0242ac120007-8-aec8-f7d7-e696-31b0-442e-06d3-13dd-d4fa",
     "history": [
      {
       "current": "d076999c-98bc-11ea-8d02-0242ac120007-1-aec8",
       "next": "d0769e06-98bc-11ea-8d02-0242ac120007",
       "previous": "40ed072e-98b3-11ea-8d02-0242ac120007"
      },
      {
       "current": "d076999c-98bc-11ea-8d02-0242ac120007-1-aec8",
       "next": "d0769e06-98bc-11ea-8d02-0242ac120007-1-e2c4",
       "previous": "40ed072e-98b3-11ea-8d02-0242ac120007-1-a9bd"
      },
      {
       "current": "d076999c-98bc-11ea-8d02-0242ac120007-2-aec8-f7d7",
       "next": "d0769e06-98bc-11ea-8d02-0242ac120007-1-e2c4",
       "previous": "056c5ac8-aa25-11ea-9ad4-0242ac120006"
      },
      {
       "current": "d076999c-98bc-11ea-8d02-0242ac120007-3-aec8-f7d7-e696",
       "next": "d0769e06-98bc-11ea-8d02-0242ac120007-2-e2c4-485b",
       "previous": "056c5ac8-aa25-11ea-9ad4-0242ac120006-1-7d2c"
      },
      {
       "current": "d076999c-98bc-11ea-8d02-0242ac120007-4-aec8-f7d7-e696-31b0",
       "next": "d0769e06-98bc-11ea-8d02-0242ac120007-3-e2c4-485b-2861",
       "previous": "056c5ac8-aa25-11ea-9ad4-0242ac120006-2-7d2c-62cb"
      },
      {
       "current": "d076999c-98bc-11ea-8d02-0242ac120007-5-aec8-f7d7-e696-31b0-442e",
       "next": "d0769e06-98bc-11ea-8d02-0242ac120007-4-e2c4-485b-2861-0630",
       "previous": "056c5ac8-aa25-11ea-9ad4-0242ac120006-3-7d2c-62cb-06c5"
      },
      {
       "current": "d076999c-98bc-11ea-8d02-0242ac120007-6-aec8-f7d7-e696-31b0-442e-06d3",
       "next": "d0769e06-98bc-11ea-8d02-0242ac120007-5-e2c4-485b-2861-0630-2b8b",
       "previous": "056c5ac8-aa25-11ea-9ad4-0242ac120006-4-7d2c-62cb-06c5-6f5c"
      },
      {
       "current": "d076999c-98bc-11ea-8d02-0242ac120007-7-aec8-f7d7-e696-31b0-442e-06d3-13dd",
       "next": "d0769e06-98bc-11ea-8d02-0242ac120007-6-e2c4-485b-2861-0630-2b8b-87be",
       "previous": "056c5ac8-aa25-11ea-9ad4-0242ac120006-5-7d2c-62cb-06c5-6f5c-05f2"
      },
      {
       "current": "d076999c-98bc-11ea-8d02-0242ac120007-8-aec8-f7d7-e696-31b0-442e-06d3-13dd-d4fa",
       "next": "d0769e06-98bc-11ea-8d02-0242ac120007-7-e2c4-485b-2861-0630-2b8b-87be-6715",
       "previous": "056c5ac8-aa25-11ea-9ad4-0242ac120006-6-7d2c-62cb-06c5-6f5c-05f2-248c"
      }
     ],
     "next": "d0769e06-98bc-11ea-8d02-0242ac120007-8-e2c4-485b-2861-0630-2b8b-87be-6715-230b",
     "previous": "056c5ac8-aa25-11ea-9ad4-0242ac120006-7-7d2c-62cb-06c5-6f5c-05f2-248c-367c"
    }
   },
   "source": [
    "## firewalld チェック"
   ]
  },
  {
   "cell_type": "code",
   "execution_count": null,
   "metadata": {
    "lc_cell_meme": {
     "current": "d0769e06-98bc-11ea-8d02-0242ac120007-8-e2c4-485b-2861-0630-2b8b-87be-6715-230b",
     "history": [
      {
       "current": "d0769e06-98bc-11ea-8d02-0242ac120007-1-e2c4",
       "next": "40ed0922-98b3-11ea-8d02-0242ac120007",
       "previous": "d076999c-98bc-11ea-8d02-0242ac120007"
      },
      {
       "current": "d0769e06-98bc-11ea-8d02-0242ac120007-2-e2c4-485b",
       "next": "40ed0922-98b3-11ea-8d02-0242ac120007-1-51d4",
       "previous": "d076999c-98bc-11ea-8d02-0242ac120007-1-aec8"
      },
      {
       "current": "d0769e06-98bc-11ea-8d02-0242ac120007-2-e2c4-485b",
       "next": "40ed0922-98b3-11ea-8d02-0242ac120007-2-51d4-95bd",
       "previous": "d076999c-98bc-11ea-8d02-0242ac120007-2-aec8-f7d7"
      },
      {
       "current": "d0769e06-98bc-11ea-8d02-0242ac120007-3-e2c4-485b-2861",
       "next": "49102b70-98a9-11ea-8d02-0242ac120007-2-6a6f-c566",
       "previous": "d076999c-98bc-11ea-8d02-0242ac120007-2-aec8-f7d7"
      },
      {
       "current": "d0769e06-98bc-11ea-8d02-0242ac120007-4-e2c4-485b-2861-0630",
       "next": "49102b70-98a9-11ea-8d02-0242ac120007-3-6a6f-c566-fa6e",
       "previous": "d076999c-98bc-11ea-8d02-0242ac120007-3-aec8-f7d7-e696"
      },
      {
       "current": "d0769e06-98bc-11ea-8d02-0242ac120007-5-e2c4-485b-2861-0630-2b8b",
       "next": "49102b70-98a9-11ea-8d02-0242ac120007-4-6a6f-c566-fa6e-97fa",
       "previous": "d076999c-98bc-11ea-8d02-0242ac120007-4-aec8-f7d7-e696-31b0"
      },
      {
       "current": "d0769e06-98bc-11ea-8d02-0242ac120007-6-e2c4-485b-2861-0630-2b8b-87be",
       "next": "49102b70-98a9-11ea-8d02-0242ac120007-5-6a6f-c566-fa6e-97fa-cad3",
       "previous": "d076999c-98bc-11ea-8d02-0242ac120007-5-aec8-f7d7-e696-31b0-442e"
      },
      {
       "current": "d0769e06-98bc-11ea-8d02-0242ac120007-7-e2c4-485b-2861-0630-2b8b-87be-6715",
       "next": "49102b70-98a9-11ea-8d02-0242ac120007-6-6a6f-c566-fa6e-97fa-cad3-32ab",
       "previous": "d076999c-98bc-11ea-8d02-0242ac120007-6-aec8-f7d7-e696-31b0-442e-06d3"
      },
      {
       "current": "d0769e06-98bc-11ea-8d02-0242ac120007-8-e2c4-485b-2861-0630-2b8b-87be-6715-230b",
       "next": "49102b70-98a9-11ea-8d02-0242ac120007-7-6a6f-c566-fa6e-97fa-cad3-32ab-112d",
       "previous": "d076999c-98bc-11ea-8d02-0242ac120007-7-aec8-f7d7-e696-31b0-442e-06d3-13dd"
      }
     ],
     "next": "49102b70-98a9-11ea-8d02-0242ac120007-8-6a6f-c566-fa6e-97fa-cad3-32ab-112d-e27d",
     "previous": "d076999c-98bc-11ea-8d02-0242ac120007-8-aec8-f7d7-e696-31b0-442e-06d3-13dd-d4fa"
    }
   },
   "outputs": [],
   "source": [
    "!ansible -i $hosts -b -m shell -a \"firewall-cmd --list-all\" ceph_node"
   ]
  },
  {
   "cell_type": "markdown",
   "metadata": {
    "lc_cell_meme": {
     "current": "49102b70-98a9-11ea-8d02-0242ac120007-8-6a6f-c566-fa6e-97fa-cad3-32ab-112d-e27d",
     "history": [
      {
       "current": "49102b70-98a9-11ea-8d02-0242ac120007",
       "next": "49102d8c-98a9-11ea-8d02-0242ac120007",
       "previous": "49102a08-98a9-11ea-8d02-0242ac120007"
      },
      {
       "current": "49102b70-98a9-11ea-8d02-0242ac120007",
       "next": "d80f92ca-98a9-11ea-8d02-0242ac120007",
       "previous": "49102a08-98a9-11ea-8d02-0242ac120007"
      },
      {
       "current": "49102b70-98a9-11ea-8d02-0242ac120007",
       "next": "d80f92ca-98a9-11ea-8d02-0242ac120007",
       "previous": "d7d22fb2-98c1-11ea-8d02-0242ac120007"
      },
      {
       "current": "49102b70-98a9-11ea-8d02-0242ac120007",
       "next": "d80f92ca-98a9-11ea-8d02-0242ac120007",
       "previous": "be2f239c-98c3-11ea-8d02-0242ac120007"
      },
      {
       "current": "49102b70-98a9-11ea-8d02-0242ac120007",
       "next": "d80f92ca-98a9-11ea-8d02-0242ac120007",
       "previous": "05bd4a9a-98c4-11ea-8d02-0242ac120007"
      },
      {
       "current": "49102b70-98a9-11ea-8d02-0242ac120007",
       "next": "d80f92ca-98a9-11ea-8d02-0242ac120007",
       "previous": "23dd97f4-98c5-11ea-8d02-0242ac120007"
      },
      {
       "current": "49102b70-98a9-11ea-8d02-0242ac120007",
       "next": "d80f92ca-98a9-11ea-8d02-0242ac120007",
       "previous": "fa6d4b52-98c5-11ea-8d02-0242ac120007"
      },
      {
       "current": "49102b70-98a9-11ea-8d02-0242ac120007",
       "next": "d80f92ca-98a9-11ea-8d02-0242ac120007",
       "previous": "d0f135c6-98c6-11ea-8d02-0242ac120007"
      },
      {
       "current": "49102b70-98a9-11ea-8d02-0242ac120007",
       "next": "d80f92ca-98a9-11ea-8d02-0242ac120007",
       "previous": "18891ffc-98c7-11ea-8d02-0242ac120007"
      },
      {
       "current": "49102b70-98a9-11ea-8d02-0242ac120007-1-6a6f",
       "next": "c5ad50d0-98c8-11ea-8d02-0242ac120007",
       "previous": "18891ffc-98c7-11ea-8d02-0242ac120007"
      },
      {
       "current": "49102b70-98a9-11ea-8d02-0242ac120007-2-6a6f-c566",
       "next": "c5ad50d0-98c8-11ea-8d02-0242ac120007-1-cb4e",
       "previous": "18891ffc-98c7-11ea-8d02-0242ac120007-1-aff4"
      },
      {
       "current": "49102b70-98a9-11ea-8d02-0242ac120007-2-6a6f-c566",
       "next": "c5ad50d0-98c8-11ea-8d02-0242ac120007-2-cb4e-0685",
       "previous": "18891ffc-98c7-11ea-8d02-0242ac120007-2-aff4-7d84"
      },
      {
       "current": "49102b70-98a9-11ea-8d02-0242ac120007-2-6a6f-c566",
       "next": "c5ad50d0-98c8-11ea-8d02-0242ac120007-2-cb4e-0685",
       "previous": "d0769ffa-98bc-11ea-8d02-0242ac120007-2-9994-0723"
      },
      {
       "current": "49102b70-98a9-11ea-8d02-0242ac120007-2-6a6f-c566",
       "next": "c5ad50d0-98c8-11ea-8d02-0242ac120007-2-cb4e-0685",
       "previous": "d0769e06-98bc-11ea-8d02-0242ac120007-2-e2c4-485b"
      },
      {
       "current": "49102b70-98a9-11ea-8d02-0242ac120007-3-6a6f-c566-fa6e",
       "next": "4d6fee9a-aa14-11ea-9ad4-0242ac120006-1-1f9c",
       "previous": "d0769e06-98bc-11ea-8d02-0242ac120007-2-e2c4-485b"
      },
      {
       "current": "49102b70-98a9-11ea-8d02-0242ac120007-3-6a6f-c566-fa6e",
       "next": "4d6fee9a-aa14-11ea-9ad4-0242ac120006-2-1f9c-196a",
       "previous": "d0769e06-98bc-11ea-8d02-0242ac120007-3-e2c4-485b-2861"
      },
      {
       "current": "49102b70-98a9-11ea-8d02-0242ac120007-4-6a6f-c566-fa6e-97fa",
       "next": "297f529e-6bc4-11ee-89fa-0242ac120005",
       "previous": "d0769e06-98bc-11ea-8d02-0242ac120007-3-e2c4-485b-2861"
      },
      {
       "current": "49102b70-98a9-11ea-8d02-0242ac120007-5-6a6f-c566-fa6e-97fa-cad3",
       "next": "297f529e-6bc4-11ee-89fa-0242ac120005-1-ead9",
       "previous": "d0769e06-98bc-11ea-8d02-0242ac120007-4-e2c4-485b-2861-0630"
      },
      {
       "current": "49102b70-98a9-11ea-8d02-0242ac120007-6-6a6f-c566-fa6e-97fa-cad3-32ab",
       "next": "297f529e-6bc4-11ee-89fa-0242ac120005-2-ead9-47b0",
       "previous": "d0769e06-98bc-11ea-8d02-0242ac120007-5-e2c4-485b-2861-0630-2b8b"
      },
      {
       "current": "49102b70-98a9-11ea-8d02-0242ac120007-7-6a6f-c566-fa6e-97fa-cad3-32ab-112d",
       "next": "297f529e-6bc4-11ee-89fa-0242ac120005-3-ead9-47b0-d316",
       "previous": "d0769e06-98bc-11ea-8d02-0242ac120007-6-e2c4-485b-2861-0630-2b8b-87be"
      },
      {
       "current": "49102b70-98a9-11ea-8d02-0242ac120007-8-6a6f-c566-fa6e-97fa-cad3-32ab-112d-e27d",
       "next": "297f529e-6bc4-11ee-89fa-0242ac120005-4-ead9-47b0-d316-849f",
       "previous": "d0769e06-98bc-11ea-8d02-0242ac120007-7-e2c4-485b-2861-0630-2b8b-87be-6715"
      }
     ],
     "next": "297f529e-6bc4-11ee-89fa-0242ac120005-5-ead9-47b0-d316-849f-e1ef",
     "previous": "d0769e06-98bc-11ea-8d02-0242ac120007-8-e2c4-485b-2861-0630-2b8b-87be-6715-230b"
    }
   },
   "source": [
    "## firewalldセットアップ"
   ]
  },
  {
   "cell_type": "markdown",
   "metadata": {
    "lc_cell_meme": {
     "current": "297f529e-6bc4-11ee-89fa-0242ac120005-5-ead9-47b0-d316-849f-e1ef",
     "history": [
      {
       "current": "297f529e-6bc4-11ee-89fa-0242ac120005-1-ead9",
       "next": "4d6fee9a-aa14-11ea-9ad4-0242ac120006-2-1f9c-196a",
       "previous": "49102b70-98a9-11ea-8d02-0242ac120007-3-6a6f-c566-fa6e"
      },
      {
       "current": "297f529e-6bc4-11ee-89fa-0242ac120005-2-ead9-47b0",
       "next": "4d6fee9a-aa14-11ea-9ad4-0242ac120006-3-1f9c-196a-2ab5",
       "previous": "49102b70-98a9-11ea-8d02-0242ac120007-4-6a6f-c566-fa6e-97fa"
      },
      {
       "current": "297f529e-6bc4-11ee-89fa-0242ac120005-3-ead9-47b0-d316",
       "next": "4d6fee9a-aa14-11ea-9ad4-0242ac120006-4-1f9c-196a-2ab5-8f3e",
       "previous": "49102b70-98a9-11ea-8d02-0242ac120007-5-6a6f-c566-fa6e-97fa-cad3"
      },
      {
       "current": "297f529e-6bc4-11ee-89fa-0242ac120005-4-ead9-47b0-d316-849f",
       "next": "4d6fee9a-aa14-11ea-9ad4-0242ac120006-5-1f9c-196a-2ab5-8f3e-57a2",
       "previous": "49102b70-98a9-11ea-8d02-0242ac120007-6-6a6f-c566-fa6e-97fa-cad3-32ab"
      },
      {
       "current": "297f529e-6bc4-11ee-89fa-0242ac120005-5-ead9-47b0-d316-849f-e1ef",
       "next": "4d6fee9a-aa14-11ea-9ad4-0242ac120006-6-1f9c-196a-2ab5-8f3e-57a2-d536",
       "previous": "49102b70-98a9-11ea-8d02-0242ac120007-7-6a6f-c566-fa6e-97fa-cad3-32ab-112d"
      }
     ],
     "next": "4d6fee9a-aa14-11ea-9ad4-0242ac120006-7-1f9c-196a-2ab5-8f3e-57a2-d536-c61f",
     "previous": "49102b70-98a9-11ea-8d02-0242ac120007-8-6a6f-c566-fa6e-97fa-cad3-32ab-112d-e27d"
    }
   },
   "source": [
    "### MON OSD"
   ]
  },
  {
   "cell_type": "code",
   "execution_count": null,
   "metadata": {
    "lc_cell_meme": {
     "current": "4d6fee9a-aa14-11ea-9ad4-0242ac120006-7-1f9c-196a-2ab5-8f3e-57a2-d536-c61f",
     "history": [
      {
       "current": "4d6fee9a-aa14-11ea-9ad4-0242ac120006-1-1f9c",
       "next": "4d6ff2a0-aa14-11ea-9ad4-0242ac120006",
       "previous": "c5ad50d0-98c8-11ea-8d02-0242ac120007-1-cb4e"
      },
      {
       "current": "4d6fee9a-aa14-11ea-9ad4-0242ac120006-1-1f9c",
       "next": "4d6ff2a0-aa14-11ea-9ad4-0242ac120006-1-c095",
       "previous": "c5ad50d0-98c8-11ea-8d02-0242ac120007-2-cb4e-0685"
      },
      {
       "current": "4d6fee9a-aa14-11ea-9ad4-0242ac120006-2-1f9c-196a",
       "next": "4d6ff2a0-aa14-11ea-9ad4-0242ac120006-1-c095",
       "previous": "49102b70-98a9-11ea-8d02-0242ac120007-2-6a6f-c566"
      },
      {
       "current": "4d6fee9a-aa14-11ea-9ad4-0242ac120006-2-1f9c-196a",
       "next": "4d6ff2a0-aa14-11ea-9ad4-0242ac120006-2-c095-c5fc",
       "previous": "49102b70-98a9-11ea-8d02-0242ac120007-3-6a6f-c566-fa6e"
      },
      {
       "current": "4d6fee9a-aa14-11ea-9ad4-0242ac120006-3-1f9c-196a-2ab5",
       "next": "4d6ff2a0-aa14-11ea-9ad4-0242ac120006-2-c095-c5fc",
       "previous": "297f529e-6bc4-11ee-89fa-0242ac120005"
      },
      {
       "current": "4d6fee9a-aa14-11ea-9ad4-0242ac120006-4-1f9c-196a-2ab5-8f3e",
       "next": "4d6ff2a0-aa14-11ea-9ad4-0242ac120006-3-c095-c5fc-31e8",
       "previous": "297f529e-6bc4-11ee-89fa-0242ac120005-1-ead9"
      },
      {
       "current": "4d6fee9a-aa14-11ea-9ad4-0242ac120006-5-1f9c-196a-2ab5-8f3e-57a2",
       "next": "4d6ff2a0-aa14-11ea-9ad4-0242ac120006-4-c095-c5fc-31e8-9da1",
       "previous": "297f529e-6bc4-11ee-89fa-0242ac120005-2-ead9-47b0"
      },
      {
       "current": "4d6fee9a-aa14-11ea-9ad4-0242ac120006-6-1f9c-196a-2ab5-8f3e-57a2-d536",
       "next": "4d6ff2a0-aa14-11ea-9ad4-0242ac120006-5-c095-c5fc-31e8-9da1-dcb5",
       "previous": "297f529e-6bc4-11ee-89fa-0242ac120005-3-ead9-47b0-d316"
      },
      {
       "current": "4d6fee9a-aa14-11ea-9ad4-0242ac120006-7-1f9c-196a-2ab5-8f3e-57a2-d536-c61f",
       "next": "4d6ff2a0-aa14-11ea-9ad4-0242ac120006-6-c095-c5fc-31e8-9da1-dcb5-29f8",
       "previous": "297f529e-6bc4-11ee-89fa-0242ac120005-4-ead9-47b0-d316-849f"
      }
     ],
     "next": "4d6ff2a0-aa14-11ea-9ad4-0242ac120006-7-c095-c5fc-31e8-9da1-dcb5-29f8-9c00",
     "previous": "297f529e-6bc4-11ee-89fa-0242ac120005-5-ead9-47b0-d316-849f-e1ef"
    }
   },
   "outputs": [],
   "source": [
    "!ansible -i $hosts -b -m firewalld -a \"rich_rule='rule family=ipv4 source address=xx.yy.0.0/16 port port=6800-7300 protocol=tcp accept' permanent=true state=enabled immediate=yes\" ceph_node"
   ]
  },
  {
   "cell_type": "code",
   "execution_count": null,
   "metadata": {
    "lc_cell_meme": {
     "current": "4d6ff2a0-aa14-11ea-9ad4-0242ac120006-7-c095-c5fc-31e8-9da1-dcb5-29f8-9c00",
     "history": [
      {
       "current": "4d6ff2a0-aa14-11ea-9ad4-0242ac120006-1-c095",
       "next": "4d6ff48a-aa14-11ea-9ad4-0242ac120006",
       "previous": "4d6fee9a-aa14-11ea-9ad4-0242ac120006"
      },
      {
       "current": "4d6ff2a0-aa14-11ea-9ad4-0242ac120006-1-c095",
       "next": "4d6ff48a-aa14-11ea-9ad4-0242ac120006-1-e90c",
       "previous": "4d6fee9a-aa14-11ea-9ad4-0242ac120006-1-1f9c"
      },
      {
       "current": "4d6ff2a0-aa14-11ea-9ad4-0242ac120006-2-c095-c5fc",
       "next": "7db0ff84-184b-11ed-a1da-0242ac120004",
       "previous": "4d6fee9a-aa14-11ea-9ad4-0242ac120006-1-1f9c"
      },
      {
       "current": "4d6ff2a0-aa14-11ea-9ad4-0242ac120006-3-c095-c5fc-31e8",
       "next": "7db0ff84-184b-11ed-a1da-0242ac120004-1-082b",
       "previous": "4d6fee9a-aa14-11ea-9ad4-0242ac120006-2-1f9c-196a"
      },
      {
       "current": "4d6ff2a0-aa14-11ea-9ad4-0242ac120006-4-c095-c5fc-31e8-9da1",
       "next": "7db0ff84-184b-11ed-a1da-0242ac120004-2-082b-62a6",
       "previous": "4d6fee9a-aa14-11ea-9ad4-0242ac120006-3-1f9c-196a-2ab5"
      },
      {
       "current": "4d6ff2a0-aa14-11ea-9ad4-0242ac120006-5-c095-c5fc-31e8-9da1-dcb5",
       "next": "7db0ff84-184b-11ed-a1da-0242ac120004-3-082b-62a6-3c18",
       "previous": "4d6fee9a-aa14-11ea-9ad4-0242ac120006-4-1f9c-196a-2ab5-8f3e"
      },
      {
       "current": "4d6ff2a0-aa14-11ea-9ad4-0242ac120006-6-c095-c5fc-31e8-9da1-dcb5-29f8",
       "next": "7db0ff84-184b-11ed-a1da-0242ac120004-4-082b-62a6-3c18-fe5d",
       "previous": "4d6fee9a-aa14-11ea-9ad4-0242ac120006-5-1f9c-196a-2ab5-8f3e-57a2"
      },
      {
       "current": "4d6ff2a0-aa14-11ea-9ad4-0242ac120006-7-c095-c5fc-31e8-9da1-dcb5-29f8-9c00",
       "next": "7db0ff84-184b-11ed-a1da-0242ac120004-5-082b-62a6-3c18-fe5d-a00d",
       "previous": "4d6fee9a-aa14-11ea-9ad4-0242ac120006-6-1f9c-196a-2ab5-8f3e-57a2-d536"
      }
     ],
     "next": "7db0ff84-184b-11ed-a1da-0242ac120004-6-082b-62a6-3c18-fe5d-a00d-ef70",
     "previous": "4d6fee9a-aa14-11ea-9ad4-0242ac120006-7-1f9c-196a-2ab5-8f3e-57a2-d536-c61f"
    }
   },
   "outputs": [],
   "source": [
    "!ansible -i $hosts -b -m firewalld -a \"rich_rule='rule family=ipv4 source address=xx.yy.0.0/16 port port=6789 protocol=tcp accept' permanent=true state=enabled immediate=yes\" ceph_node"
   ]
  },
  {
   "cell_type": "code",
   "execution_count": null,
   "metadata": {
    "lc_cell_meme": {
     "current": "7db0ff84-184b-11ed-a1da-0242ac120004-6-082b-62a6-3c18-fe5d-a00d-ef70",
     "history": [
      {
       "current": "7db0ff84-184b-11ed-a1da-0242ac120004-1-082b",
       "next": "4d6ff48a-aa14-11ea-9ad4-0242ac120006-1-e90c",
       "previous": "4d6ff2a0-aa14-11ea-9ad4-0242ac120006-1-c095"
      },
      {
       "current": "7db0ff84-184b-11ed-a1da-0242ac120004-2-082b-62a6",
       "next": "4d6ff48a-aa14-11ea-9ad4-0242ac120006-2-e90c-7419",
       "previous": "4d6ff2a0-aa14-11ea-9ad4-0242ac120006-2-c095-c5fc"
      },
      {
       "current": "7db0ff84-184b-11ed-a1da-0242ac120004-3-082b-62a6-3c18",
       "next": "4d6ff48a-aa14-11ea-9ad4-0242ac120006-3-e90c-7419-7455",
       "previous": "4d6ff2a0-aa14-11ea-9ad4-0242ac120006-3-c095-c5fc-31e8"
      },
      {
       "current": "7db0ff84-184b-11ed-a1da-0242ac120004-4-082b-62a6-3c18-fe5d",
       "next": "4d6ff48a-aa14-11ea-9ad4-0242ac120006-4-e90c-7419-7455-7e01",
       "previous": "4d6ff2a0-aa14-11ea-9ad4-0242ac120006-4-c095-c5fc-31e8-9da1"
      },
      {
       "current": "7db0ff84-184b-11ed-a1da-0242ac120004-5-082b-62a6-3c18-fe5d-a00d",
       "next": "4d6ff48a-aa14-11ea-9ad4-0242ac120006-5-e90c-7419-7455-7e01-d785",
       "previous": "4d6ff2a0-aa14-11ea-9ad4-0242ac120006-5-c095-c5fc-31e8-9da1-dcb5"
      },
      {
       "current": "7db0ff84-184b-11ed-a1da-0242ac120004-6-082b-62a6-3c18-fe5d-a00d-ef70",
       "next": "4d6ff48a-aa14-11ea-9ad4-0242ac120006-6-e90c-7419-7455-7e01-d785-1a45",
       "previous": "4d6ff2a0-aa14-11ea-9ad4-0242ac120006-6-c095-c5fc-31e8-9da1-dcb5-29f8"
      }
     ],
     "next": "4d6ff48a-aa14-11ea-9ad4-0242ac120006-7-e90c-7419-7455-7e01-d785-1a45-dc5f",
     "previous": "4d6ff2a0-aa14-11ea-9ad4-0242ac120006-7-c095-c5fc-31e8-9da1-dcb5-29f8-9c00"
    }
   },
   "outputs": [],
   "source": [
    "!ansible -i $hosts -b -m firewalld -a \"rich_rule='rule family=ipv4 source address=xx.yy.0.0/16 port port=3300 protocol=tcp accept' permanent=true state=enabled immediate=yes\" ceph_node"
   ]
  },
  {
   "cell_type": "code",
   "execution_count": null,
   "metadata": {
    "lc_cell_meme": {
     "current": "4d6ff48a-aa14-11ea-9ad4-0242ac120006-7-e90c-7419-7455-7e01-d785-1a45-dc5f",
     "history": [
      {
       "current": "4d6ff48a-aa14-11ea-9ad4-0242ac120006-1-e90c",
       "next": "4d6ff62e-aa14-11ea-9ad4-0242ac120006",
       "previous": "4d6ff2a0-aa14-11ea-9ad4-0242ac120006"
      },
      {
       "current": "4d6ff48a-aa14-11ea-9ad4-0242ac120006-1-e90c",
       "next": "4d6ff62e-aa14-11ea-9ad4-0242ac120006-1-8f1d",
       "previous": "4d6ff2a0-aa14-11ea-9ad4-0242ac120006-1-c095"
      },
      {
       "current": "4d6ff48a-aa14-11ea-9ad4-0242ac120006-2-e90c-7419",
       "next": "4d6ff62e-aa14-11ea-9ad4-0242ac120006-1-8f1d",
       "previous": "7db0ff84-184b-11ed-a1da-0242ac120004"
      },
      {
       "current": "4d6ff48a-aa14-11ea-9ad4-0242ac120006-3-e90c-7419-7455",
       "next": "4d6ff62e-aa14-11ea-9ad4-0242ac120006-2-8f1d-4d54",
       "previous": "7db0ff84-184b-11ed-a1da-0242ac120004-1-082b"
      },
      {
       "current": "4d6ff48a-aa14-11ea-9ad4-0242ac120006-4-e90c-7419-7455-7e01",
       "next": "4d6ff62e-aa14-11ea-9ad4-0242ac120006-3-8f1d-4d54-c6e3",
       "previous": "7db0ff84-184b-11ed-a1da-0242ac120004-2-082b-62a6"
      },
      {
       "current": "4d6ff48a-aa14-11ea-9ad4-0242ac120006-5-e90c-7419-7455-7e01-d785",
       "next": "4d6ff62e-aa14-11ea-9ad4-0242ac120006-4-8f1d-4d54-c6e3-faf2",
       "previous": "7db0ff84-184b-11ed-a1da-0242ac120004-3-082b-62a6-3c18"
      },
      {
       "current": "4d6ff48a-aa14-11ea-9ad4-0242ac120006-6-e90c-7419-7455-7e01-d785-1a45",
       "next": "4d6ff62e-aa14-11ea-9ad4-0242ac120006-5-8f1d-4d54-c6e3-faf2-8a22",
       "previous": "7db0ff84-184b-11ed-a1da-0242ac120004-4-082b-62a6-3c18-fe5d"
      },
      {
       "current": "4d6ff48a-aa14-11ea-9ad4-0242ac120006-7-e90c-7419-7455-7e01-d785-1a45-dc5f",
       "next": "4d6ff62e-aa14-11ea-9ad4-0242ac120006-6-8f1d-4d54-c6e3-faf2-8a22-0428",
       "previous": "7db0ff84-184b-11ed-a1da-0242ac120004-5-082b-62a6-3c18-fe5d-a00d"
      }
     ],
     "next": "4d6ff62e-aa14-11ea-9ad4-0242ac120006-7-8f1d-4d54-c6e3-faf2-8a22-0428-dab8",
     "previous": "7db0ff84-184b-11ed-a1da-0242ac120004-6-082b-62a6-3c18-fe5d-a00d-ef70"
    }
   },
   "outputs": [],
   "source": [
    "!ansible -i $hosts -b -m firewalld -a \"rich_rule='rule family=ipv4 source address=aa.bb.cc.0/24 port port=6800-7300 protocol=tcp accept' permanent=true state=enabled immediate=yes\" ceph_node"
   ]
  },
  {
   "cell_type": "code",
   "execution_count": null,
   "metadata": {
    "lc_cell_meme": {
     "current": "4d6ff62e-aa14-11ea-9ad4-0242ac120006-7-8f1d-4d54-c6e3-faf2-8a22-0428-dab8",
     "history": [
      {
       "current": "4d6ff62e-aa14-11ea-9ad4-0242ac120006",
       "next": "217eb796-98ce-11ea-8d02-0242ac120007-1-9644",
       "previous": "4d6ff48a-aa14-11ea-9ad4-0242ac120006"
      },
      {
       "current": "4d6ff62e-aa14-11ea-9ad4-0242ac120006-1-8f1d",
       "next": "6b93b144-aa15-11ea-9ad4-0242ac120006",
       "previous": "4d6ff48a-aa14-11ea-9ad4-0242ac120006"
      },
      {
       "current": "4d6ff62e-aa14-11ea-9ad4-0242ac120006-1-8f1d",
       "next": "6b93b144-aa15-11ea-9ad4-0242ac120006-1-7bff",
       "previous": "4d6ff48a-aa14-11ea-9ad4-0242ac120006-1-e90c"
      },
      {
       "current": "4d6ff62e-aa14-11ea-9ad4-0242ac120006-2-8f1d-4d54",
       "next": "7db102c2-184b-11ed-a1da-0242ac120004",
       "previous": "4d6ff48a-aa14-11ea-9ad4-0242ac120006-1-e90c"
      },
      {
       "current": "4d6ff62e-aa14-11ea-9ad4-0242ac120006-2-8f1d-4d54",
       "next": "7db102c2-184b-11ed-a1da-0242ac120004-1-9d99",
       "previous": "4d6ff48a-aa14-11ea-9ad4-0242ac120006-2-e90c-7419"
      },
      {
       "current": "4d6ff62e-aa14-11ea-9ad4-0242ac120006-3-8f1d-4d54-c6e3",
       "next": "7db102c2-184b-11ed-a1da-0242ac120004-2-9d99-7f01",
       "previous": "4d6ff48a-aa14-11ea-9ad4-0242ac120006-2-e90c-7419"
      },
      {
       "current": "4d6ff62e-aa14-11ea-9ad4-0242ac120006-4-8f1d-4d54-c6e3-faf2",
       "next": "7db102c2-184b-11ed-a1da-0242ac120004-3-9d99-7f01-829a",
       "previous": "4d6ff48a-aa14-11ea-9ad4-0242ac120006-3-e90c-7419-7455"
      },
      {
       "current": "4d6ff62e-aa14-11ea-9ad4-0242ac120006-5-8f1d-4d54-c6e3-faf2-8a22",
       "next": "7db102c2-184b-11ed-a1da-0242ac120004-4-9d99-7f01-829a-1314",
       "previous": "4d6ff48a-aa14-11ea-9ad4-0242ac120006-4-e90c-7419-7455-7e01"
      },
      {
       "current": "4d6ff62e-aa14-11ea-9ad4-0242ac120006-6-8f1d-4d54-c6e3-faf2-8a22-0428",
       "next": "7db102c2-184b-11ed-a1da-0242ac120004-5-9d99-7f01-829a-1314-60bd",
       "previous": "4d6ff48a-aa14-11ea-9ad4-0242ac120006-5-e90c-7419-7455-7e01-d785"
      },
      {
       "current": "4d6ff62e-aa14-11ea-9ad4-0242ac120006-7-8f1d-4d54-c6e3-faf2-8a22-0428-dab8",
       "next": "7db102c2-184b-11ed-a1da-0242ac120004-6-9d99-7f01-829a-1314-60bd-6286",
       "previous": "4d6ff48a-aa14-11ea-9ad4-0242ac120006-6-e90c-7419-7455-7e01-d785-1a45"
      }
     ],
     "next": "7db102c2-184b-11ed-a1da-0242ac120004-7-9d99-7f01-829a-1314-60bd-6286-21c7",
     "previous": "4d6ff48a-aa14-11ea-9ad4-0242ac120006-7-e90c-7419-7455-7e01-d785-1a45-dc5f"
    }
   },
   "outputs": [],
   "source": [
    "!ansible -i $hosts -b -m firewalld -a \"rich_rule='rule family=ipv4 source address=aa.bb.cc.0/24 port port=6789 protocol=tcp accept' permanent=true state=enabled immediate=yes\" ceph_node"
   ]
  },
  {
   "cell_type": "code",
   "execution_count": null,
   "metadata": {
    "lc_cell_meme": {
     "current": "7db102c2-184b-11ed-a1da-0242ac120004-7-9d99-7f01-829a-1314-60bd-6286-21c7",
     "history": [
      {
       "current": "7db102c2-184b-11ed-a1da-0242ac120004-1-9d99",
       "next": "6b93b144-aa15-11ea-9ad4-0242ac120006-1-7bff",
       "previous": "4d6ff62e-aa14-11ea-9ad4-0242ac120006-1-8f1d"
      },
      {
       "current": "7db102c2-184b-11ed-a1da-0242ac120004-2-9d99-7f01",
       "next": "6b93b144-aa15-11ea-9ad4-0242ac120006-2-7bff-7d1d",
       "previous": "4d6ff62e-aa14-11ea-9ad4-0242ac120006-2-8f1d-4d54"
      },
      {
       "current": "7db102c2-184b-11ed-a1da-0242ac120004-3-9d99-7f01-829a",
       "next": "7109fbbe-6bc4-11ee-89fa-0242ac120005",
       "previous": "4d6ff62e-aa14-11ea-9ad4-0242ac120006-2-8f1d-4d54"
      },
      {
       "current": "7db102c2-184b-11ed-a1da-0242ac120004-4-9d99-7f01-829a-1314",
       "next": "7109fbbe-6bc4-11ee-89fa-0242ac120005-1-46ec",
       "previous": "4d6ff62e-aa14-11ea-9ad4-0242ac120006-3-8f1d-4d54-c6e3"
      },
      {
       "current": "7db102c2-184b-11ed-a1da-0242ac120004-5-9d99-7f01-829a-1314-60bd",
       "next": "7109fbbe-6bc4-11ee-89fa-0242ac120005-2-46ec-39ed",
       "previous": "4d6ff62e-aa14-11ea-9ad4-0242ac120006-4-8f1d-4d54-c6e3-faf2"
      },
      {
       "current": "7db102c2-184b-11ed-a1da-0242ac120004-6-9d99-7f01-829a-1314-60bd-6286",
       "next": "7109fbbe-6bc4-11ee-89fa-0242ac120005-3-46ec-39ed-3089",
       "previous": "4d6ff62e-aa14-11ea-9ad4-0242ac120006-5-8f1d-4d54-c6e3-faf2-8a22"
      },
      {
       "current": "7db102c2-184b-11ed-a1da-0242ac120004-7-9d99-7f01-829a-1314-60bd-6286-21c7",
       "next": "7109fbbe-6bc4-11ee-89fa-0242ac120005-4-46ec-39ed-3089-e07e",
       "previous": "4d6ff62e-aa14-11ea-9ad4-0242ac120006-6-8f1d-4d54-c6e3-faf2-8a22-0428"
      }
     ],
     "next": "7109fbbe-6bc4-11ee-89fa-0242ac120005-5-46ec-39ed-3089-e07e-a349",
     "previous": "4d6ff62e-aa14-11ea-9ad4-0242ac120006-7-8f1d-4d54-c6e3-faf2-8a22-0428-dab8"
    }
   },
   "outputs": [],
   "source": [
    "!ansible -i $hosts -b -m firewalld -a \"rich_rule='rule family=ipv4 source address=aa.bb.cc.0/24 port port=3300 protocol=tcp accept' permanent=true state=enabled immediate=yes\" ceph_node"
   ]
  },
  {
   "cell_type": "markdown",
   "metadata": {
    "lc_cell_meme": {
     "current": "7109fbbe-6bc4-11ee-89fa-0242ac120005-5-46ec-39ed-3089-e07e-a349",
     "history": [
      {
       "current": "7109fbbe-6bc4-11ee-89fa-0242ac120005-1-46ec",
       "next": "6b93b144-aa15-11ea-9ad4-0242ac120006-2-7bff-7d1d",
       "previous": "7db102c2-184b-11ed-a1da-0242ac120004-2-9d99-7f01"
      },
      {
       "current": "7109fbbe-6bc4-11ee-89fa-0242ac120005-2-46ec-39ed",
       "next": "6b93b144-aa15-11ea-9ad4-0242ac120006-3-7bff-7d1d-2ae6",
       "previous": "7db102c2-184b-11ed-a1da-0242ac120004-3-9d99-7f01-829a"
      },
      {
       "current": "7109fbbe-6bc4-11ee-89fa-0242ac120005-3-46ec-39ed-3089",
       "next": "6b93b144-aa15-11ea-9ad4-0242ac120006-4-7bff-7d1d-2ae6-2a18",
       "previous": "7db102c2-184b-11ed-a1da-0242ac120004-4-9d99-7f01-829a-1314"
      },
      {
       "current": "7109fbbe-6bc4-11ee-89fa-0242ac120005-4-46ec-39ed-3089-e07e",
       "next": "6b93b144-aa15-11ea-9ad4-0242ac120006-5-7bff-7d1d-2ae6-2a18-d976",
       "previous": "7db102c2-184b-11ed-a1da-0242ac120004-5-9d99-7f01-829a-1314-60bd"
      },
      {
       "current": "7109fbbe-6bc4-11ee-89fa-0242ac120005-5-46ec-39ed-3089-e07e-a349",
       "next": "6b93b144-aa15-11ea-9ad4-0242ac120006-6-7bff-7d1d-2ae6-2a18-d976-9321",
       "previous": "7db102c2-184b-11ed-a1da-0242ac120004-6-9d99-7f01-829a-1314-60bd-6286"
      }
     ],
     "next": "6b93b144-aa15-11ea-9ad4-0242ac120006-7-7bff-7d1d-2ae6-2a18-d976-9321-e63f",
     "previous": "7db102c2-184b-11ed-a1da-0242ac120004-7-9d99-7f01-829a-1314-60bd-6286-21c7"
    }
   },
   "source": [
    "### ovs-ctrl API"
   ]
  },
  {
   "cell_type": "code",
   "execution_count": null,
   "metadata": {
    "lc_cell_meme": {
     "current": "6b93b144-aa15-11ea-9ad4-0242ac120006-7-7bff-7d1d-2ae6-2a18-d976-9321-e63f",
     "history": [
      {
       "current": "6b93b144-aa15-11ea-9ad4-0242ac120006",
       "next": "6b93b432-aa15-11ea-9ad4-0242ac120006",
       "previous": "4d6ff62e-aa14-11ea-9ad4-0242ac120006"
      },
      {
       "current": "6b93b144-aa15-11ea-9ad4-0242ac120006-1-7bff",
       "next": "b374ef46-aa29-11ea-9ad4-0242ac120006",
       "previous": "4d6ff62e-aa14-11ea-9ad4-0242ac120006"
      },
      {
       "current": "6b93b144-aa15-11ea-9ad4-0242ac120006-1-7bff",
       "next": "b374ef46-aa29-11ea-9ad4-0242ac120006-1-e2a7",
       "previous": "4d6ff62e-aa14-11ea-9ad4-0242ac120006-1-8f1d"
      },
      {
       "current": "6b93b144-aa15-11ea-9ad4-0242ac120006-2-7bff-7d1d",
       "next": "b374ef46-aa29-11ea-9ad4-0242ac120006-1-e2a7",
       "previous": "7db102c2-184b-11ed-a1da-0242ac120004"
      },
      {
       "current": "6b93b144-aa15-11ea-9ad4-0242ac120006-2-7bff-7d1d",
       "next": "b374ef46-aa29-11ea-9ad4-0242ac120006-2-e2a7-3466",
       "previous": "7db102c2-184b-11ed-a1da-0242ac120004-1-9d99"
      },
      {
       "current": "6b93b144-aa15-11ea-9ad4-0242ac120006-2-7bff-7d1d",
       "next": "442c2866-5cf5-11ee-89fa-0242ac120005",
       "previous": "7db102c2-184b-11ed-a1da-0242ac120004-1-9d99"
      },
      {
       "current": "6b93b144-aa15-11ea-9ad4-0242ac120006-2-7bff-7d1d",
       "next": "ebb6c4b8-6319-11ee-89fa-0242ac120005",
       "previous": "7db102c2-184b-11ed-a1da-0242ac120004-1-9d99"
      },
      {
       "current": "6b93b144-aa15-11ea-9ad4-0242ac120006-3-7bff-7d1d-2ae6",
       "next": "ebb6c4b8-6319-11ee-89fa-0242ac120005",
       "previous": "7109fbbe-6bc4-11ee-89fa-0242ac120005"
      },
      {
       "current": "6b93b144-aa15-11ea-9ad4-0242ac120006-4-7bff-7d1d-2ae6-2a18",
       "next": "ebb6c4b8-6319-11ee-89fa-0242ac120005-1-8827",
       "previous": "7109fbbe-6bc4-11ee-89fa-0242ac120005-1-46ec"
      },
      {
       "current": "6b93b144-aa15-11ea-9ad4-0242ac120006-5-7bff-7d1d-2ae6-2a18-d976",
       "next": "ebb6c4b8-6319-11ee-89fa-0242ac120005-2-8827-68cc",
       "previous": "7109fbbe-6bc4-11ee-89fa-0242ac120005-2-46ec-39ed"
      },
      {
       "current": "6b93b144-aa15-11ea-9ad4-0242ac120006-6-7bff-7d1d-2ae6-2a18-d976-9321",
       "next": "ebb6c4b8-6319-11ee-89fa-0242ac120005-3-8827-68cc-adc7",
       "previous": "7109fbbe-6bc4-11ee-89fa-0242ac120005-3-46ec-39ed-3089"
      },
      {
       "current": "6b93b144-aa15-11ea-9ad4-0242ac120006-7-7bff-7d1d-2ae6-2a18-d976-9321-e63f",
       "next": "ebb6c4b8-6319-11ee-89fa-0242ac120005-4-8827-68cc-adc7-f359",
       "previous": "7109fbbe-6bc4-11ee-89fa-0242ac120005-4-46ec-39ed-3089-e07e"
      }
     ],
     "next": "ebb6c4b8-6319-11ee-89fa-0242ac120005-5-8827-68cc-adc7-f359-97c9",
     "previous": "7109fbbe-6bc4-11ee-89fa-0242ac120005-5-46ec-39ed-3089-e07e-a349"
    }
   },
   "outputs": [],
   "source": [
    "!ansible -i $hosts -b -m firewalld -a \"rich_rule='rule family=ipv4 source address=xx.zz.0.0/16 port port=7301 protocol=tcp accept' permanent=true state=enabled immediate=yes\" ceph_node"
   ]
  },
  {
   "cell_type": "markdown",
   "metadata": {
    "lc_cell_meme": {
     "current": "ebb6c4b8-6319-11ee-89fa-0242ac120005-5-8827-68cc-adc7-f359-97c9",
     "history": [
      {
       "current": "ebb6c4b8-6319-11ee-89fa-0242ac120005",
       "next": "ebb6c698-6319-11ee-89fa-0242ac120005",
       "previous": "6b93b144-aa15-11ea-9ad4-0242ac120006-2-7bff-7d1d"
      },
      {
       "current": "ebb6c4b8-6319-11ee-89fa-0242ac120005-1-8827",
       "next": "7ac4a350-631a-11ee-89fa-0242ac120005",
       "previous": "6b93b144-aa15-11ea-9ad4-0242ac120006-2-7bff-7d1d"
      },
      {
       "current": "ebb6c4b8-6319-11ee-89fa-0242ac120005-2-8827-68cc",
       "next": "7ac4a350-631a-11ee-89fa-0242ac120005-1-cc68",
       "previous": "6b93b144-aa15-11ea-9ad4-0242ac120006-3-7bff-7d1d-2ae6"
      },
      {
       "current": "ebb6c4b8-6319-11ee-89fa-0242ac120005-3-8827-68cc-adc7",
       "next": "7ac4a350-631a-11ee-89fa-0242ac120005-2-cc68-da6b",
       "previous": "6b93b144-aa15-11ea-9ad4-0242ac120006-4-7bff-7d1d-2ae6-2a18"
      },
      {
       "current": "ebb6c4b8-6319-11ee-89fa-0242ac120005-4-8827-68cc-adc7-f359",
       "next": "7ac4a350-631a-11ee-89fa-0242ac120005-3-cc68-da6b-40c0",
       "previous": "6b93b144-aa15-11ea-9ad4-0242ac120006-5-7bff-7d1d-2ae6-2a18-d976"
      },
      {
       "current": "ebb6c4b8-6319-11ee-89fa-0242ac120005-5-8827-68cc-adc7-f359-97c9",
       "next": "7ac4a350-631a-11ee-89fa-0242ac120005-4-cc68-da6b-40c0-6a5c",
       "previous": "6b93b144-aa15-11ea-9ad4-0242ac120006-6-7bff-7d1d-2ae6-2a18-d976-9321"
      }
     ],
     "next": "7ac4a350-631a-11ee-89fa-0242ac120005-5-cc68-da6b-40c0-6a5c-d14b",
     "previous": "6b93b144-aa15-11ea-9ad4-0242ac120006-7-7bff-7d1d-2ae6-2a18-d976-9321-e63f"
    }
   },
   "source": [
    "### node_exporter ポート"
   ]
  },
  {
   "cell_type": "code",
   "execution_count": null,
   "metadata": {
    "lc_cell_meme": {
     "current": "7ac4a350-631a-11ee-89fa-0242ac120005-5-cc68-da6b-40c0-6a5c-d14b",
     "history": [
      {
       "current": "7ac4a350-631a-11ee-89fa-0242ac120005-1-cc68",
       "next": "7ac4a4b8-631a-11ee-89fa-0242ac120005",
       "previous": "ebb6c4b8-6319-11ee-89fa-0242ac120005"
      },
      {
       "current": "7ac4a350-631a-11ee-89fa-0242ac120005-2-cc68-da6b",
       "next": "7ac4a4b8-631a-11ee-89fa-0242ac120005-1-3cc8",
       "previous": "ebb6c4b8-6319-11ee-89fa-0242ac120005-1-8827"
      },
      {
       "current": "7ac4a350-631a-11ee-89fa-0242ac120005-3-cc68-da6b-40c0",
       "next": "7ac4a4b8-631a-11ee-89fa-0242ac120005-2-3cc8-92e5",
       "previous": "ebb6c4b8-6319-11ee-89fa-0242ac120005-2-8827-68cc"
      },
      {
       "current": "7ac4a350-631a-11ee-89fa-0242ac120005-4-cc68-da6b-40c0-6a5c",
       "next": "7ac4a4b8-631a-11ee-89fa-0242ac120005-3-3cc8-92e5-123e",
       "previous": "ebb6c4b8-6319-11ee-89fa-0242ac120005-3-8827-68cc-adc7"
      },
      {
       "current": "7ac4a350-631a-11ee-89fa-0242ac120005-5-cc68-da6b-40c0-6a5c-d14b",
       "next": "7ac4a4b8-631a-11ee-89fa-0242ac120005-4-3cc8-92e5-123e-8697",
       "previous": "ebb6c4b8-6319-11ee-89fa-0242ac120005-4-8827-68cc-adc7-f359"
      }
     ],
     "next": "7ac4a4b8-631a-11ee-89fa-0242ac120005-5-3cc8-92e5-123e-8697-d4fa",
     "previous": "ebb6c4b8-6319-11ee-89fa-0242ac120005-5-8827-68cc-adc7-f359-97c9"
    }
   },
   "outputs": [],
   "source": [
    "!ansible -i $hosts -b -m firewalld -a \"rich_rule='rule family=ipv4 source address=xx.yy.0.0/16 port port=9100 protocol=tcp accept' permanent=true state=enabled immediate=yes\" ceph_node"
   ]
  },
  {
   "cell_type": "code",
   "execution_count": null,
   "metadata": {
    "lc_cell_meme": {
     "current": "7ac4a4b8-631a-11ee-89fa-0242ac120005-5-3cc8-92e5-123e-8697-d4fa",
     "history": [
      {
       "current": "7ac4a4b8-631a-11ee-89fa-0242ac120005",
       "next": "7ac4a544-631a-11ee-89fa-0242ac120005",
       "previous": "7ac4a350-631a-11ee-89fa-0242ac120005"
      },
      {
       "current": "7ac4a4b8-631a-11ee-89fa-0242ac120005-1-3cc8",
       "next": "33449706-631a-11ee-89fa-0242ac120005",
       "previous": "7ac4a350-631a-11ee-89fa-0242ac120005"
      },
      {
       "current": "7ac4a4b8-631a-11ee-89fa-0242ac120005-2-3cc8-92e5",
       "next": "33449706-631a-11ee-89fa-0242ac120005-1-7a98",
       "previous": "7ac4a350-631a-11ee-89fa-0242ac120005-1-cc68"
      },
      {
       "current": "7ac4a4b8-631a-11ee-89fa-0242ac120005-3-3cc8-92e5-123e",
       "next": "33449706-631a-11ee-89fa-0242ac120005-2-7a98-83a8",
       "previous": "7ac4a350-631a-11ee-89fa-0242ac120005-2-cc68-da6b"
      },
      {
       "current": "7ac4a4b8-631a-11ee-89fa-0242ac120005-3-3cc8-92e5-123e",
       "next": "33449706-631a-11ee-89fa-0242ac120005-3-7a98-83a8-078e",
       "previous": "7ac4a350-631a-11ee-89fa-0242ac120005-3-cc68-da6b-40c0"
      },
      {
       "current": "7ac4a4b8-631a-11ee-89fa-0242ac120005-4-3cc8-92e5-123e-8697",
       "next": "2319f3ba-1997-11ef-ad2f-0242ac120005",
       "previous": "7ac4a350-631a-11ee-89fa-0242ac120005-3-cc68-da6b-40c0"
      },
      {
       "current": "7ac4a4b8-631a-11ee-89fa-0242ac120005-5-3cc8-92e5-123e-8697-d4fa",
       "next": "2319f3ba-1997-11ef-ad2f-0242ac120005-1-8da4",
       "previous": "7ac4a350-631a-11ee-89fa-0242ac120005-4-cc68-da6b-40c0-6a5c"
      }
     ],
     "next": "2319f3ba-1997-11ef-ad2f-0242ac120005-2-8da4-acd2",
     "previous": "7ac4a350-631a-11ee-89fa-0242ac120005-5-cc68-da6b-40c0-6a5c-d14b"
    }
   },
   "outputs": [],
   "source": [
    "!ansible -i $hosts -b -m firewalld -a \"rich_rule='rule family=ipv4 source address=aa.bb.cc.0/24 port port=9100 protocol=tcp accept' permanent=true state=enabled immediate=yes\" ceph_node"
   ]
  },
  {
   "cell_type": "code",
   "execution_count": null,
   "metadata": {
    "lc_cell_meme": {
     "current": "2319f3ba-1997-11ef-ad2f-0242ac120005-2-8da4-acd2",
     "history": [
      {
       "current": "2319f3ba-1997-11ef-ad2f-0242ac120005-1-8da4",
       "next": "33449706-631a-11ee-89fa-0242ac120005-3-7a98-83a8-078e",
       "previous": "7ac4a4b8-631a-11ee-89fa-0242ac120005-3-3cc8-92e5-123e"
      },
      {
       "current": "2319f3ba-1997-11ef-ad2f-0242ac120005-2-8da4-acd2",
       "next": "33449706-631a-11ee-89fa-0242ac120005-4-7a98-83a8-078e-9934",
       "previous": "7ac4a4b8-631a-11ee-89fa-0242ac120005-4-3cc8-92e5-123e-8697"
      }
     ],
     "next": "33449706-631a-11ee-89fa-0242ac120005-5-7a98-83a8-078e-9934-85b2",
     "previous": "7ac4a4b8-631a-11ee-89fa-0242ac120005-5-3cc8-92e5-123e-8697-d4fa"
    }
   },
   "outputs": [],
   "source": [
    "!ansible -i $hosts -b -m firewalld -a \"rich_rule='rule family=ipv4 source address=xx.zz.0.0/16 port port=9100 protocol=tcp accept' permanent=true state=enabled immediate=yes\" ceph_node"
   ]
  },
  {
   "cell_type": "markdown",
   "metadata": {
    "lc_cell_meme": {
     "current": "33449706-631a-11ee-89fa-0242ac120005-5-7a98-83a8-078e-9934-85b2",
     "history": [
      {
       "current": "33449706-631a-11ee-89fa-0242ac120005",
       "next": "334498d2-631a-11ee-89fa-0242ac120005",
       "previous": "ebb6c698-6319-11ee-89fa-0242ac120005"
      },
      {
       "current": "33449706-631a-11ee-89fa-0242ac120005-1-7a98",
       "next": "7ac4a350-631a-11ee-89fa-0242ac120005-1-766d",
       "previous": "7ac4a4b8-631a-11ee-89fa-0242ac120005"
      },
      {
       "current": "33449706-631a-11ee-89fa-0242ac120005-2-7a98-83a8",
       "next": "7ac4a350-631a-11ee-89fa-0242ac120005-2-766d-6ea7",
       "previous": "7ac4a4b8-631a-11ee-89fa-0242ac120005-1-3cc8"
      },
      {
       "current": "33449706-631a-11ee-89fa-0242ac120005-3-7a98-83a8-078e",
       "next": "7ac4a350-631a-11ee-89fa-0242ac120005-3-766d-6ea7-a437",
       "previous": "7ac4a4b8-631a-11ee-89fa-0242ac120005-2-3cc8-92e5"
      },
      {
       "current": "33449706-631a-11ee-89fa-0242ac120005-3-7a98-83a8-078e",
       "next": "7ac4a350-631a-11ee-89fa-0242ac120005-4-766d-6ea7-a437-30a0",
       "previous": "7ac4a4b8-631a-11ee-89fa-0242ac120005-3-3cc8-92e5-123e"
      },
      {
       "current": "33449706-631a-11ee-89fa-0242ac120005-4-7a98-83a8-078e-9934",
       "next": "7ac4a350-631a-11ee-89fa-0242ac120005-4-766d-6ea7-a437-30a0",
       "previous": "2319f3ba-1997-11ef-ad2f-0242ac120005"
      },
      {
       "current": "33449706-631a-11ee-89fa-0242ac120005-5-7a98-83a8-078e-9934-85b2",
       "next": "7ac4a350-631a-11ee-89fa-0242ac120005-5-766d-6ea7-a437-30a0-adef",
       "previous": "2319f3ba-1997-11ef-ad2f-0242ac120005-1-8da4"
      }
     ],
     "next": "7ac4a350-631a-11ee-89fa-0242ac120005-6-766d-6ea7-a437-30a0-adef-6a8c",
     "previous": "2319f3ba-1997-11ef-ad2f-0242ac120005-2-8da4-acd2"
    }
   },
   "source": [
    "### prometheus ポート"
   ]
  },
  {
   "cell_type": "code",
   "execution_count": null,
   "metadata": {
    "lc_cell_meme": {
     "current": "7ac4a350-631a-11ee-89fa-0242ac120005-6-766d-6ea7-a437-30a0-adef-6a8c",
     "history": [
      {
       "current": "7ac4a350-631a-11ee-89fa-0242ac120005-1-766d",
       "next": "7ac4a4b8-631a-11ee-89fa-0242ac120005",
       "previous": "ebb6c4b8-6319-11ee-89fa-0242ac120005"
      },
      {
       "current": "7ac4a350-631a-11ee-89fa-0242ac120005-1-766d",
       "next": "7ac4a4b8-631a-11ee-89fa-0242ac120005-1-3b2b",
       "previous": "33449706-631a-11ee-89fa-0242ac120005"
      },
      {
       "current": "7ac4a350-631a-11ee-89fa-0242ac120005-2-766d-6ea7",
       "next": "7ac4a4b8-631a-11ee-89fa-0242ac120005-2-3b2b-af63",
       "previous": "33449706-631a-11ee-89fa-0242ac120005"
      },
      {
       "current": "7ac4a350-631a-11ee-89fa-0242ac120005-3-766d-6ea7-a437",
       "next": "7ac4a4b8-631a-11ee-89fa-0242ac120005-3-3b2b-af63-62a5",
       "previous": "33449706-631a-11ee-89fa-0242ac120005-1-7a98"
      },
      {
       "current": "7ac4a350-631a-11ee-89fa-0242ac120005-4-766d-6ea7-a437-30a0",
       "next": "7ac4a4b8-631a-11ee-89fa-0242ac120005-4-3b2b-af63-62a5-54b1",
       "previous": "33449706-631a-11ee-89fa-0242ac120005-2-7a98-83a8"
      },
      {
       "current": "7ac4a350-631a-11ee-89fa-0242ac120005-5-766d-6ea7-a437-30a0-adef",
       "next": "7ac4a4b8-631a-11ee-89fa-0242ac120005-5-3b2b-af63-62a5-54b1-8908",
       "previous": "33449706-631a-11ee-89fa-0242ac120005-3-7a98-83a8-078e"
      },
      {
       "current": "7ac4a350-631a-11ee-89fa-0242ac120005-6-766d-6ea7-a437-30a0-adef-6a8c",
       "next": "7ac4a4b8-631a-11ee-89fa-0242ac120005-6-3b2b-af63-62a5-54b1-8908-4e12",
       "previous": "33449706-631a-11ee-89fa-0242ac120005-4-7a98-83a8-078e-9934"
      }
     ],
     "next": "7ac4a4b8-631a-11ee-89fa-0242ac120005-7-3b2b-af63-62a5-54b1-8908-4e12-fb37",
     "previous": "33449706-631a-11ee-89fa-0242ac120005-5-7a98-83a8-078e-9934-85b2"
    }
   },
   "outputs": [],
   "source": [
    "!ansible -i $hosts -b -m firewalld -a \"rich_rule='rule family=ipv4 source address=xx.yy.0.0/16 port port=9095 protocol=tcp accept' permanent=true state=enabled immediate=yes\" ceph_node"
   ]
  },
  {
   "cell_type": "code",
   "execution_count": null,
   "metadata": {
    "lc_cell_meme": {
     "current": "7ac4a4b8-631a-11ee-89fa-0242ac120005-7-3b2b-af63-62a5-54b1-8908-4e12-fb37",
     "history": [
      {
       "current": "7ac4a4b8-631a-11ee-89fa-0242ac120005-1-3b2b",
       "next": "7ac4a544-631a-11ee-89fa-0242ac120005",
       "previous": "7ac4a350-631a-11ee-89fa-0242ac120005"
      },
      {
       "current": "7ac4a4b8-631a-11ee-89fa-0242ac120005-2-3b2b-af63",
       "next": "442c2866-5cf5-11ee-89fa-0242ac120005",
       "previous": "7ac4a350-631a-11ee-89fa-0242ac120005-1-766d"
      },
      {
       "current": "7ac4a4b8-631a-11ee-89fa-0242ac120005-3-3b2b-af63-62a5",
       "next": "b89629c6-6bc4-11ee-89fa-0242ac120005",
       "previous": "7ac4a350-631a-11ee-89fa-0242ac120005-1-766d"
      },
      {
       "current": "7ac4a4b8-631a-11ee-89fa-0242ac120005-4-3b2b-af63-62a5-54b1",
       "next": "b89629c6-6bc4-11ee-89fa-0242ac120005-1-e5eb",
       "previous": "7ac4a350-631a-11ee-89fa-0242ac120005-2-766d-6ea7"
      },
      {
       "current": "7ac4a4b8-631a-11ee-89fa-0242ac120005-5-3b2b-af63-62a5-54b1-8908",
       "next": "b89629c6-6bc4-11ee-89fa-0242ac120005-2-e5eb-10ec",
       "previous": "7ac4a350-631a-11ee-89fa-0242ac120005-3-766d-6ea7-a437"
      },
      {
       "current": "7ac4a4b8-631a-11ee-89fa-0242ac120005-6-3b2b-af63-62a5-54b1-8908-4e12",
       "next": "b89629c6-6bc4-11ee-89fa-0242ac120005-3-e5eb-10ec-43a3",
       "previous": "7ac4a350-631a-11ee-89fa-0242ac120005-4-766d-6ea7-a437-30a0"
      },
      {
       "current": "7ac4a4b8-631a-11ee-89fa-0242ac120005-7-3b2b-af63-62a5-54b1-8908-4e12-fb37",
       "next": "b89629c6-6bc4-11ee-89fa-0242ac120005-4-e5eb-10ec-43a3-f4bc",
       "previous": "7ac4a350-631a-11ee-89fa-0242ac120005-5-766d-6ea7-a437-30a0-adef"
      }
     ],
     "next": "b89629c6-6bc4-11ee-89fa-0242ac120005-5-e5eb-10ec-43a3-f4bc-8c8d",
     "previous": "7ac4a350-631a-11ee-89fa-0242ac120005-6-766d-6ea7-a437-30a0-adef-6a8c"
    }
   },
   "outputs": [],
   "source": [
    "!ansible -i $hosts -b -m firewalld -a \"rich_rule='rule family=ipv4 source address=xx.zz.0.0/16 port port=9095 protocol=tcp accept' permanent=true state=enabled immediate=yes\" ceph_node"
   ]
  },
  {
   "cell_type": "markdown",
   "metadata": {
    "lc_cell_meme": {
     "current": "b89629c6-6bc4-11ee-89fa-0242ac120005-5-e5eb-10ec-43a3-f4bc-8c8d",
     "history": [
      {
       "current": "b89629c6-6bc4-11ee-89fa-0242ac120005-1-e5eb",
       "next": "7ac4a350-631a-11ee-89fa-0242ac120005-1-9f37",
       "previous": "7ac4a4b8-631a-11ee-89fa-0242ac120005-2-3b2b-af63"
      },
      {
       "current": "b89629c6-6bc4-11ee-89fa-0242ac120005-2-e5eb-10ec",
       "next": "7ac4a350-631a-11ee-89fa-0242ac120005-2-9f37-d5a4",
       "previous": "7ac4a4b8-631a-11ee-89fa-0242ac120005-3-3b2b-af63-62a5"
      },
      {
       "current": "b89629c6-6bc4-11ee-89fa-0242ac120005-3-e5eb-10ec-43a3",
       "next": "7ac4a350-631a-11ee-89fa-0242ac120005-3-9f37-d5a4-275e",
       "previous": "7ac4a4b8-631a-11ee-89fa-0242ac120005-4-3b2b-af63-62a5-54b1"
      },
      {
       "current": "b89629c6-6bc4-11ee-89fa-0242ac120005-4-e5eb-10ec-43a3-f4bc",
       "next": "7ac4a350-631a-11ee-89fa-0242ac120005-4-9f37-d5a4-275e-da5b",
       "previous": "7ac4a4b8-631a-11ee-89fa-0242ac120005-5-3b2b-af63-62a5-54b1-8908"
      },
      {
       "current": "b89629c6-6bc4-11ee-89fa-0242ac120005-5-e5eb-10ec-43a3-f4bc-8c8d",
       "next": "7ac4a350-631a-11ee-89fa-0242ac120005-5-9f37-d5a4-275e-da5b-f90a",
       "previous": "7ac4a4b8-631a-11ee-89fa-0242ac120005-6-3b2b-af63-62a5-54b1-8908-4e12"
      }
     ],
     "next": "7ac4a350-631a-11ee-89fa-0242ac120005-6-9f37-d5a4-275e-da5b-f90a-a7e3",
     "previous": "7ac4a4b8-631a-11ee-89fa-0242ac120005-7-3b2b-af63-62a5-54b1-8908-4e12-fb37"
    }
   },
   "source": [
    "### alertmanager"
   ]
  },
  {
   "cell_type": "code",
   "execution_count": null,
   "metadata": {
    "lc_cell_meme": {
     "current": "7ac4a350-631a-11ee-89fa-0242ac120005-6-9f37-d5a4-275e-da5b-f90a-a7e3",
     "history": [
      {
       "current": "7ac4a350-631a-11ee-89fa-0242ac120005-1-9f37",
       "next": "7ac4a4b8-631a-11ee-89fa-0242ac120005",
       "previous": "ebb6c4b8-6319-11ee-89fa-0242ac120005"
      },
      {
       "current": "7ac4a350-631a-11ee-89fa-0242ac120005-2-9f37-d5a4",
       "next": "7ac4a4b8-631a-11ee-89fa-0242ac120005-1-d3d4",
       "previous": "b89629c6-6bc4-11ee-89fa-0242ac120005"
      },
      {
       "current": "7ac4a350-631a-11ee-89fa-0242ac120005-3-9f37-d5a4-275e",
       "next": "7ac4a4b8-631a-11ee-89fa-0242ac120005-2-d3d4-7f2b",
       "previous": "b89629c6-6bc4-11ee-89fa-0242ac120005-1-e5eb"
      },
      {
       "current": "7ac4a350-631a-11ee-89fa-0242ac120005-4-9f37-d5a4-275e-da5b",
       "next": "7ac4a4b8-631a-11ee-89fa-0242ac120005-3-d3d4-7f2b-9251",
       "previous": "b89629c6-6bc4-11ee-89fa-0242ac120005-2-e5eb-10ec"
      },
      {
       "current": "7ac4a350-631a-11ee-89fa-0242ac120005-4-9f37-d5a4-275e-da5b",
       "next": "7ac4a4b8-631a-11ee-89fa-0242ac120005-4-d3d4-7f2b-9251-e626",
       "previous": "b89629c6-6bc4-11ee-89fa-0242ac120005-3-e5eb-10ec-43a3"
      },
      {
       "current": "7ac4a350-631a-11ee-89fa-0242ac120005-5-9f37-d5a4-275e-da5b-f90a",
       "next": "6aa3adca-1997-11ef-ad2f-0242ac120005",
       "previous": "b89629c6-6bc4-11ee-89fa-0242ac120005-3-e5eb-10ec-43a3"
      },
      {
       "current": "7ac4a350-631a-11ee-89fa-0242ac120005-6-9f37-d5a4-275e-da5b-f90a-a7e3",
       "next": "6aa3adca-1997-11ef-ad2f-0242ac120005-1-3936",
       "previous": "b89629c6-6bc4-11ee-89fa-0242ac120005-4-e5eb-10ec-43a3-f4bc"
      }
     ],
     "next": "6aa3adca-1997-11ef-ad2f-0242ac120005-2-3936-98cc",
     "previous": "b89629c6-6bc4-11ee-89fa-0242ac120005-5-e5eb-10ec-43a3-f4bc-8c8d"
    }
   },
   "outputs": [],
   "source": [
    "!ansible -i $hosts -b -m firewalld -a \"rich_rule='rule family=ipv4 source address=xx.yy.0.0/16 port port=9093 protocol=tcp accept' permanent=true state=enabled immediate=yes\" ceph_node"
   ]
  },
  {
   "cell_type": "code",
   "execution_count": null,
   "metadata": {
    "lc_cell_meme": {
     "current": "6aa3adca-1997-11ef-ad2f-0242ac120005-2-3936-98cc",
     "history": [
      {
       "current": "6aa3adca-1997-11ef-ad2f-0242ac120005-1-3936",
       "next": "7ac4a4b8-631a-11ee-89fa-0242ac120005-4-d3d4-7f2b-9251-e626",
       "previous": "7ac4a350-631a-11ee-89fa-0242ac120005-4-9f37-d5a4-275e-da5b"
      },
      {
       "current": "6aa3adca-1997-11ef-ad2f-0242ac120005-2-3936-98cc",
       "next": "7ac4a4b8-631a-11ee-89fa-0242ac120005-5-d3d4-7f2b-9251-e626-b936",
       "previous": "7ac4a350-631a-11ee-89fa-0242ac120005-5-9f37-d5a4-275e-da5b-f90a"
      }
     ],
     "next": "7ac4a4b8-631a-11ee-89fa-0242ac120005-6-d3d4-7f2b-9251-e626-b936-5c5e",
     "previous": "7ac4a350-631a-11ee-89fa-0242ac120005-6-9f37-d5a4-275e-da5b-f90a-a7e3"
    }
   },
   "outputs": [],
   "source": [
    "!ansible -i $hosts -b -m firewalld -a \"rich_rule='rule family=ipv4 source address=xx.zz.0.0/16 port port=9093 protocol=tcp accept' permanent=true state=enabled immediate=yes\" ceph_node"
   ]
  },
  {
   "cell_type": "code",
   "execution_count": null,
   "metadata": {
    "lc_cell_meme": {
     "current": "7ac4a4b8-631a-11ee-89fa-0242ac120005-6-d3d4-7f2b-9251-e626-b936-5c5e",
     "history": [
      {
       "current": "7ac4a4b8-631a-11ee-89fa-0242ac120005",
       "next": "7ac4a544-631a-11ee-89fa-0242ac120005",
       "previous": "7ac4a350-631a-11ee-89fa-0242ac120005"
      },
      {
       "current": "7ac4a4b8-631a-11ee-89fa-0242ac120005-1-d3d4",
       "next": "33449706-631a-11ee-89fa-0242ac120005",
       "previous": "7ac4a350-631a-11ee-89fa-0242ac120005"
      },
      {
       "current": "7ac4a4b8-631a-11ee-89fa-0242ac120005-1-d3d4",
       "next": "b8962ae8-6bc4-11ee-89fa-0242ac120005",
       "previous": "7ac4a350-631a-11ee-89fa-0242ac120005-1-9f37"
      },
      {
       "current": "7ac4a4b8-631a-11ee-89fa-0242ac120005-2-d3d4-7f2b",
       "next": "7ac4a350-631a-11ee-89fa-0242ac120005-2-9f37-46d2",
       "previous": "7ac4a350-631a-11ee-89fa-0242ac120005-1-9f37"
      },
      {
       "current": "7ac4a4b8-631a-11ee-89fa-0242ac120005-3-d3d4-7f2b-9251",
       "next": "7ac4a350-631a-11ee-89fa-0242ac120005-3-9f37-46d2-3c97",
       "previous": "7ac4a350-631a-11ee-89fa-0242ac120005-2-9f37-d5a4"
      },
      {
       "current": "7ac4a4b8-631a-11ee-89fa-0242ac120005-4-d3d4-7f2b-9251-e626",
       "next": "7ac4a350-631a-11ee-89fa-0242ac120005-4-9f37-46d2-3c97-0ce4",
       "previous": "7ac4a350-631a-11ee-89fa-0242ac120005-3-9f37-d5a4-275e"
      },
      {
       "current": "7ac4a4b8-631a-11ee-89fa-0242ac120005-4-d3d4-7f2b-9251-e626",
       "next": "7ac4a350-631a-11ee-89fa-0242ac120005-5-9f37-46d2-3c97-0ce4-7fed",
       "previous": "7ac4a350-631a-11ee-89fa-0242ac120005-4-9f37-d5a4-275e-da5b"
      },
      {
       "current": "7ac4a4b8-631a-11ee-89fa-0242ac120005-5-d3d4-7f2b-9251-e626-b936",
       "next": "7ac4a350-631a-11ee-89fa-0242ac120005-5-9f37-46d2-3c97-0ce4-7fed",
       "previous": "6aa3adca-1997-11ef-ad2f-0242ac120005"
      },
      {
       "current": "7ac4a4b8-631a-11ee-89fa-0242ac120005-6-d3d4-7f2b-9251-e626-b936-5c5e",
       "next": "7ac4a350-631a-11ee-89fa-0242ac120005-6-9f37-46d2-3c97-0ce4-7fed-6c67",
       "previous": "6aa3adca-1997-11ef-ad2f-0242ac120005-1-3936"
      }
     ],
     "next": "7ac4a350-631a-11ee-89fa-0242ac120005-7-9f37-46d2-3c97-0ce4-7fed-6c67-448a",
     "previous": "6aa3adca-1997-11ef-ad2f-0242ac120005-2-3936-98cc"
    }
   },
   "outputs": [],
   "source": [
    "!ansible -i $hosts -b -m firewalld -a \"rich_rule='rule family=ipv4 source address=aa.bb.cc.0/24 port port=9093 protocol=tcp accept' permanent=true state=enabled immediate=yes\" ceph_node"
   ]
  },
  {
   "cell_type": "code",
   "execution_count": null,
   "metadata": {
    "lc_cell_meme": {
     "current": "7ac4a350-631a-11ee-89fa-0242ac120005-7-9f37-46d2-3c97-0ce4-7fed-6c67-448a",
     "history": [
      {
       "current": "7ac4a350-631a-11ee-89fa-0242ac120005-1-9f37",
       "next": "7ac4a4b8-631a-11ee-89fa-0242ac120005",
       "previous": "ebb6c4b8-6319-11ee-89fa-0242ac120005"
      },
      {
       "current": "7ac4a350-631a-11ee-89fa-0242ac120005-2-9f37-46d2",
       "next": "7ac4a4b8-631a-11ee-89fa-0242ac120005-1-d3d4",
       "previous": "b89629c6-6bc4-11ee-89fa-0242ac120005"
      },
      {
       "current": "7ac4a350-631a-11ee-89fa-0242ac120005-3-9f37-46d2-3c97",
       "next": "7ac4a4b8-631a-11ee-89fa-0242ac120005-2-d3d4-ccb8",
       "previous": "7ac4a4b8-631a-11ee-89fa-0242ac120005-1-d3d4"
      },
      {
       "current": "7ac4a350-631a-11ee-89fa-0242ac120005-4-9f37-46d2-3c97-0ce4",
       "next": "7ac4a4b8-631a-11ee-89fa-0242ac120005-3-d3d4-ccb8-e74a",
       "previous": "7ac4a4b8-631a-11ee-89fa-0242ac120005-2-d3d4-7f2b"
      },
      {
       "current": "7ac4a350-631a-11ee-89fa-0242ac120005-5-9f37-46d2-3c97-0ce4-7fed",
       "next": "7ac4a4b8-631a-11ee-89fa-0242ac120005-4-d3d4-ccb8-e74a-16c4",
       "previous": "7ac4a4b8-631a-11ee-89fa-0242ac120005-3-d3d4-7f2b-9251"
      },
      {
       "current": "7ac4a350-631a-11ee-89fa-0242ac120005-5-9f37-46d2-3c97-0ce4-7fed",
       "next": "7ac4a4b8-631a-11ee-89fa-0242ac120005-5-d3d4-ccb8-e74a-16c4-5e0c",
       "previous": "7ac4a4b8-631a-11ee-89fa-0242ac120005-4-d3d4-7f2b-9251-e626"
      },
      {
       "current": "7ac4a350-631a-11ee-89fa-0242ac120005-6-9f37-46d2-3c97-0ce4-7fed-6c67",
       "next": "6aa3ae88-1997-11ef-ad2f-0242ac120005",
       "previous": "7ac4a4b8-631a-11ee-89fa-0242ac120005-4-d3d4-7f2b-9251-e626"
      },
      {
       "current": "7ac4a350-631a-11ee-89fa-0242ac120005-7-9f37-46d2-3c97-0ce4-7fed-6c67-448a",
       "next": "6aa3ae88-1997-11ef-ad2f-0242ac120005-1-19d5",
       "previous": "7ac4a4b8-631a-11ee-89fa-0242ac120005-5-d3d4-7f2b-9251-e626-b936"
      }
     ],
     "next": "6aa3ae88-1997-11ef-ad2f-0242ac120005-2-19d5-1f16",
     "previous": "7ac4a4b8-631a-11ee-89fa-0242ac120005-6-d3d4-7f2b-9251-e626-b936-5c5e"
    }
   },
   "outputs": [],
   "source": [
    "!ansible -i $hosts -b -m firewalld -a \"rich_rule='rule family=ipv4 source address=xx.yy.0.0/16 port port=9094 protocol=tcp accept' permanent=true state=enabled immediate=yes\" ceph_node"
   ]
  },
  {
   "cell_type": "code",
   "execution_count": null,
   "metadata": {
    "lc_cell_meme": {
     "current": "6aa3ae88-1997-11ef-ad2f-0242ac120005-2-19d5-1f16",
     "history": [
      {
       "current": "6aa3ae88-1997-11ef-ad2f-0242ac120005-1-19d5",
       "next": "7ac4a4b8-631a-11ee-89fa-0242ac120005-5-d3d4-ccb8-e74a-16c4-5e0c",
       "previous": "7ac4a350-631a-11ee-89fa-0242ac120005-5-9f37-46d2-3c97-0ce4-7fed"
      },
      {
       "current": "6aa3ae88-1997-11ef-ad2f-0242ac120005-2-19d5-1f16",
       "next": "7ac4a4b8-631a-11ee-89fa-0242ac120005-6-d3d4-ccb8-e74a-16c4-5e0c-5d07",
       "previous": "7ac4a350-631a-11ee-89fa-0242ac120005-6-9f37-46d2-3c97-0ce4-7fed-6c67"
      }
     ],
     "next": "7ac4a4b8-631a-11ee-89fa-0242ac120005-7-d3d4-ccb8-e74a-16c4-5e0c-5d07-7397",
     "previous": "7ac4a350-631a-11ee-89fa-0242ac120005-7-9f37-46d2-3c97-0ce4-7fed-6c67-448a"
    }
   },
   "outputs": [],
   "source": [
    "!ansible -i $hosts -b -m firewalld -a \"rich_rule='rule family=ipv4 source address=xx.zz.0.0/16 port port=9094 protocol=tcp accept' permanent=true state=enabled immediate=yes\" ceph_node"
   ]
  },
  {
   "cell_type": "code",
   "execution_count": null,
   "metadata": {
    "lc_cell_meme": {
     "current": "7ac4a4b8-631a-11ee-89fa-0242ac120005-7-d3d4-ccb8-e74a-16c4-5e0c-5d07-7397",
     "history": [
      {
       "current": "7ac4a4b8-631a-11ee-89fa-0242ac120005",
       "next": "7ac4a544-631a-11ee-89fa-0242ac120005",
       "previous": "7ac4a350-631a-11ee-89fa-0242ac120005"
      },
      {
       "current": "7ac4a4b8-631a-11ee-89fa-0242ac120005-1-d3d4",
       "next": "33449706-631a-11ee-89fa-0242ac120005",
       "previous": "7ac4a350-631a-11ee-89fa-0242ac120005"
      },
      {
       "current": "7ac4a4b8-631a-11ee-89fa-0242ac120005-2-d3d4-ccb8",
       "next": "b8962ae8-6bc4-11ee-89fa-0242ac120005",
       "previous": "7ac4a350-631a-11ee-89fa-0242ac120005-1-9f37"
      },
      {
       "current": "7ac4a4b8-631a-11ee-89fa-0242ac120005-3-d3d4-ccb8-e74a",
       "next": "b8962ae8-6bc4-11ee-89fa-0242ac120005-1-ac1d",
       "previous": "7ac4a350-631a-11ee-89fa-0242ac120005-2-9f37-46d2"
      },
      {
       "current": "7ac4a4b8-631a-11ee-89fa-0242ac120005-4-d3d4-ccb8-e74a-16c4",
       "next": "b8962ae8-6bc4-11ee-89fa-0242ac120005-2-ac1d-13b3",
       "previous": "7ac4a350-631a-11ee-89fa-0242ac120005-3-9f37-46d2-3c97"
      },
      {
       "current": "7ac4a4b8-631a-11ee-89fa-0242ac120005-5-d3d4-ccb8-e74a-16c4-5e0c",
       "next": "b8962ae8-6bc4-11ee-89fa-0242ac120005-3-ac1d-13b3-5ddb",
       "previous": "7ac4a350-631a-11ee-89fa-0242ac120005-4-9f37-46d2-3c97-0ce4"
      },
      {
       "current": "7ac4a4b8-631a-11ee-89fa-0242ac120005-5-d3d4-ccb8-e74a-16c4-5e0c",
       "next": "b8962ae8-6bc4-11ee-89fa-0242ac120005-4-ac1d-13b3-5ddb-0d89",
       "previous": "7ac4a350-631a-11ee-89fa-0242ac120005-5-9f37-46d2-3c97-0ce4-7fed"
      },
      {
       "current": "7ac4a4b8-631a-11ee-89fa-0242ac120005-6-d3d4-ccb8-e74a-16c4-5e0c-5d07",
       "next": "b8962ae8-6bc4-11ee-89fa-0242ac120005-4-ac1d-13b3-5ddb-0d89",
       "previous": "6aa3ae88-1997-11ef-ad2f-0242ac120005"
      },
      {
       "current": "7ac4a4b8-631a-11ee-89fa-0242ac120005-7-d3d4-ccb8-e74a-16c4-5e0c-5d07-7397",
       "next": "b8962ae8-6bc4-11ee-89fa-0242ac120005-5-ac1d-13b3-5ddb-0d89-b0b4",
       "previous": "6aa3ae88-1997-11ef-ad2f-0242ac120005-1-19d5"
      }
     ],
     "next": "b8962ae8-6bc4-11ee-89fa-0242ac120005-6-ac1d-13b3-5ddb-0d89-b0b4-c0b6",
     "previous": "6aa3ae88-1997-11ef-ad2f-0242ac120005-2-19d5-1f16"
    }
   },
   "outputs": [],
   "source": [
    "!ansible -i $hosts -b -m firewalld -a \"rich_rule='rule family=ipv4 source address=aa.bb.cc.0/24 port port=9094 protocol=tcp accept' permanent=true state=enabled immediate=yes\" ceph_node"
   ]
  },
  {
   "cell_type": "markdown",
   "metadata": {
    "lc_cell_meme": {
     "current": "b8962ae8-6bc4-11ee-89fa-0242ac120005-6-ac1d-13b3-5ddb-0d89-b0b4-c0b6",
     "history": [
      {
       "current": "b8962ae8-6bc4-11ee-89fa-0242ac120005-1-ac1d",
       "next": "b8962b56-6bc4-11ee-89fa-0242ac120005",
       "previous": "7ac4a4b8-631a-11ee-89fa-0242ac120005-1-d3d4"
      },
      {
       "current": "b8962ae8-6bc4-11ee-89fa-0242ac120005-2-ac1d-13b3",
       "next": "7ac4a350-631a-11ee-89fa-0242ac120005-2-766d-9abe",
       "previous": "7ac4a4b8-631a-11ee-89fa-0242ac120005-2-d3d4-ccb8"
      },
      {
       "current": "b8962ae8-6bc4-11ee-89fa-0242ac120005-3-ac1d-13b3-5ddb",
       "next": "7ac4a350-631a-11ee-89fa-0242ac120005-3-766d-9abe-2a61",
       "previous": "7ac4a4b8-631a-11ee-89fa-0242ac120005-3-d3d4-ccb8-e74a"
      },
      {
       "current": "b8962ae8-6bc4-11ee-89fa-0242ac120005-4-ac1d-13b3-5ddb-0d89",
       "next": "7ac4a350-631a-11ee-89fa-0242ac120005-4-766d-9abe-2a61-fb2e",
       "previous": "7ac4a4b8-631a-11ee-89fa-0242ac120005-4-d3d4-ccb8-e74a-16c4"
      },
      {
       "current": "b8962ae8-6bc4-11ee-89fa-0242ac120005-5-ac1d-13b3-5ddb-0d89-b0b4",
       "next": "7ac4a350-631a-11ee-89fa-0242ac120005-5-766d-9abe-2a61-fb2e-59e0",
       "previous": "7ac4a4b8-631a-11ee-89fa-0242ac120005-5-d3d4-ccb8-e74a-16c4-5e0c"
      },
      {
       "current": "b8962ae8-6bc4-11ee-89fa-0242ac120005-6-ac1d-13b3-5ddb-0d89-b0b4-c0b6",
       "next": "7ac4a350-631a-11ee-89fa-0242ac120005-6-766d-9abe-2a61-fb2e-59e0-093e",
       "previous": "7ac4a4b8-631a-11ee-89fa-0242ac120005-6-d3d4-ccb8-e74a-16c4-5e0c-5d07"
      }
     ],
     "next": "7ac4a350-631a-11ee-89fa-0242ac120005-7-766d-9abe-2a61-fb2e-59e0-093e-6817",
     "previous": "7ac4a4b8-631a-11ee-89fa-0242ac120005-7-d3d4-ccb8-e74a-16c4-5e0c-5d07-7397"
    }
   },
   "source": [
    "### grafana"
   ]
  },
  {
   "cell_type": "code",
   "execution_count": null,
   "metadata": {
    "lc_cell_meme": {
     "current": "7ac4a350-631a-11ee-89fa-0242ac120005-7-766d-9abe-2a61-fb2e-59e0-093e-6817",
     "history": [
      {
       "current": "7ac4a350-631a-11ee-89fa-0242ac120005-1-766d",
       "next": "7ac4a4b8-631a-11ee-89fa-0242ac120005",
       "previous": "ebb6c4b8-6319-11ee-89fa-0242ac120005"
      },
      {
       "current": "7ac4a350-631a-11ee-89fa-0242ac120005-1-766d",
       "next": "7ac4a4b8-631a-11ee-89fa-0242ac120005-1-3b2b",
       "previous": "33449706-631a-11ee-89fa-0242ac120005"
      },
      {
       "current": "7ac4a350-631a-11ee-89fa-0242ac120005-2-766d-9abe",
       "next": "7ac4a4b8-631a-11ee-89fa-0242ac120005-2-3b2b-af63",
       "previous": "33449706-631a-11ee-89fa-0242ac120005"
      },
      {
       "current": "7ac4a350-631a-11ee-89fa-0242ac120005-3-766d-9abe-2a61",
       "next": "7ac4a4b8-631a-11ee-89fa-0242ac120005-3-3b2b-af63-6589",
       "previous": "b8962ae8-6bc4-11ee-89fa-0242ac120005-1-ac1d"
      },
      {
       "current": "7ac4a350-631a-11ee-89fa-0242ac120005-4-766d-9abe-2a61-fb2e",
       "next": "7ac4a4b8-631a-11ee-89fa-0242ac120005-4-3b2b-af63-6589-7d08",
       "previous": "b8962ae8-6bc4-11ee-89fa-0242ac120005-2-ac1d-13b3"
      },
      {
       "current": "7ac4a350-631a-11ee-89fa-0242ac120005-5-766d-9abe-2a61-fb2e-59e0",
       "next": "7ac4a4b8-631a-11ee-89fa-0242ac120005-5-3b2b-af63-6589-7d08-c69a",
       "previous": "b8962ae8-6bc4-11ee-89fa-0242ac120005-3-ac1d-13b3-5ddb"
      },
      {
       "current": "7ac4a350-631a-11ee-89fa-0242ac120005-6-766d-9abe-2a61-fb2e-59e0-093e",
       "next": "7ac4a4b8-631a-11ee-89fa-0242ac120005-6-3b2b-af63-6589-7d08-c69a-3c99",
       "previous": "b8962ae8-6bc4-11ee-89fa-0242ac120005-4-ac1d-13b3-5ddb-0d89"
      },
      {
       "current": "7ac4a350-631a-11ee-89fa-0242ac120005-7-766d-9abe-2a61-fb2e-59e0-093e-6817",
       "next": "7ac4a4b8-631a-11ee-89fa-0242ac120005-7-3b2b-af63-6589-7d08-c69a-3c99-b157",
       "previous": "b8962ae8-6bc4-11ee-89fa-0242ac120005-5-ac1d-13b3-5ddb-0d89-b0b4"
      }
     ],
     "next": "7ac4a4b8-631a-11ee-89fa-0242ac120005-8-3b2b-af63-6589-7d08-c69a-3c99-b157-8f9d",
     "previous": "b8962ae8-6bc4-11ee-89fa-0242ac120005-6-ac1d-13b3-5ddb-0d89-b0b4-c0b6"
    }
   },
   "outputs": [],
   "source": [
    "!ansible -i $hosts -b -m firewalld -a \"rich_rule='rule family=ipv4 source address=xx.yy.0.0/16 port port=3000 protocol=tcp accept' permanent=true state=enabled immediate=yes\" ceph_node"
   ]
  },
  {
   "cell_type": "code",
   "execution_count": null,
   "metadata": {
    "lc_cell_meme": {
     "current": "7ac4a4b8-631a-11ee-89fa-0242ac120005-8-3b2b-af63-6589-7d08-c69a-3c99-b157-8f9d",
     "history": [
      {
       "current": "7ac4a4b8-631a-11ee-89fa-0242ac120005-1-3b2b",
       "next": "7ac4a544-631a-11ee-89fa-0242ac120005",
       "previous": "7ac4a350-631a-11ee-89fa-0242ac120005"
      },
      {
       "current": "7ac4a4b8-631a-11ee-89fa-0242ac120005-2-3b2b-af63",
       "next": "442c2866-5cf5-11ee-89fa-0242ac120005",
       "previous": "7ac4a350-631a-11ee-89fa-0242ac120005-1-766d"
      },
      {
       "current": "7ac4a4b8-631a-11ee-89fa-0242ac120005-3-3b2b-af63-6589",
       "next": "b89629c6-6bc4-11ee-89fa-0242ac120005",
       "previous": "7ac4a350-631a-11ee-89fa-0242ac120005-1-766d"
      },
      {
       "current": "7ac4a4b8-631a-11ee-89fa-0242ac120005-3-3b2b-af63-6589",
       "next": "001947e2-6bc5-11ee-89fa-0242ac120005",
       "previous": "7ac4a350-631a-11ee-89fa-0242ac120005-2-766d-9abe"
      },
      {
       "current": "7ac4a4b8-631a-11ee-89fa-0242ac120005-4-3b2b-af63-6589-7d08",
       "next": "001947e2-6bc5-11ee-89fa-0242ac120005-1-d031",
       "previous": "7ac4a350-631a-11ee-89fa-0242ac120005-2-766d-9abe"
      },
      {
       "current": "7ac4a4b8-631a-11ee-89fa-0242ac120005-5-3b2b-af63-6589-7d08-c69a",
       "next": "001947e2-6bc5-11ee-89fa-0242ac120005-2-d031-b883",
       "previous": "7ac4a350-631a-11ee-89fa-0242ac120005-3-766d-9abe-2a61"
      },
      {
       "current": "7ac4a4b8-631a-11ee-89fa-0242ac120005-6-3b2b-af63-6589-7d08-c69a-3c99",
       "next": "001947e2-6bc5-11ee-89fa-0242ac120005-3-d031-b883-60f5",
       "previous": "7ac4a350-631a-11ee-89fa-0242ac120005-4-766d-9abe-2a61-fb2e"
      },
      {
       "current": "7ac4a4b8-631a-11ee-89fa-0242ac120005-7-3b2b-af63-6589-7d08-c69a-3c99-b157",
       "next": "001947e2-6bc5-11ee-89fa-0242ac120005-4-d031-b883-60f5-d724",
       "previous": "7ac4a350-631a-11ee-89fa-0242ac120005-5-766d-9abe-2a61-fb2e-59e0"
      },
      {
       "current": "7ac4a4b8-631a-11ee-89fa-0242ac120005-8-3b2b-af63-6589-7d08-c69a-3c99-b157-8f9d",
       "next": "001947e2-6bc5-11ee-89fa-0242ac120005-5-d031-b883-60f5-d724-bc38",
       "previous": "7ac4a350-631a-11ee-89fa-0242ac120005-6-766d-9abe-2a61-fb2e-59e0-093e"
      }
     ],
     "next": "001947e2-6bc5-11ee-89fa-0242ac120005-6-d031-b883-60f5-d724-bc38-5577",
     "previous": "7ac4a350-631a-11ee-89fa-0242ac120005-7-766d-9abe-2a61-fb2e-59e0-093e-6817"
    }
   },
   "outputs": [],
   "source": [
    "!ansible -i $hosts -b -m firewalld -a \"rich_rule='rule family=ipv4 source address=xx.zz.0.0/16 port port=3000 protocol=tcp accept' permanent=true state=enabled immediate=yes\" ceph_node"
   ]
  },
  {
   "cell_type": "markdown",
   "metadata": {
    "lc_cell_meme": {
     "current": "001947e2-6bc5-11ee-89fa-0242ac120005-6-d031-b883-60f5-d724-bc38-5577",
     "history": [
      {
       "current": "001947e2-6bc5-11ee-89fa-0242ac120005-1-d031",
       "next": "001949cc-6bc5-11ee-89fa-0242ac120005",
       "previous": "7ac4a4b8-631a-11ee-89fa-0242ac120005-3-3b2b-af63-6589"
      },
      {
       "current": "001947e2-6bc5-11ee-89fa-0242ac120005-2-d031-b883",
       "next": "7ac4a350-631a-11ee-89fa-0242ac120005-3-766d-9abe-003f",
       "previous": "7ac4a4b8-631a-11ee-89fa-0242ac120005-3-3b2b-af63-6589"
      },
      {
       "current": "001947e2-6bc5-11ee-89fa-0242ac120005-3-d031-b883-60f5",
       "next": "7ac4a350-631a-11ee-89fa-0242ac120005-4-766d-9abe-003f-3688",
       "previous": "7ac4a4b8-631a-11ee-89fa-0242ac120005-4-3b2b-af63-6589-7d08"
      },
      {
       "current": "001947e2-6bc5-11ee-89fa-0242ac120005-4-d031-b883-60f5-d724",
       "next": "7ac4a350-631a-11ee-89fa-0242ac120005-5-766d-9abe-003f-3688-16a5",
       "previous": "7ac4a4b8-631a-11ee-89fa-0242ac120005-5-3b2b-af63-6589-7d08-c69a"
      },
      {
       "current": "001947e2-6bc5-11ee-89fa-0242ac120005-5-d031-b883-60f5-d724-bc38",
       "next": "7ac4a350-631a-11ee-89fa-0242ac120005-6-766d-9abe-003f-3688-16a5-75e8",
       "previous": "7ac4a4b8-631a-11ee-89fa-0242ac120005-6-3b2b-af63-6589-7d08-c69a-3c99"
      },
      {
       "current": "001947e2-6bc5-11ee-89fa-0242ac120005-6-d031-b883-60f5-d724-bc38-5577",
       "next": "7ac4a350-631a-11ee-89fa-0242ac120005-7-766d-9abe-003f-3688-16a5-75e8-184d",
       "previous": "7ac4a4b8-631a-11ee-89fa-0242ac120005-7-3b2b-af63-6589-7d08-c69a-3c99-b157"
      }
     ],
     "next": "7ac4a350-631a-11ee-89fa-0242ac120005-8-766d-9abe-003f-3688-16a5-75e8-184d-e65c",
     "previous": "7ac4a4b8-631a-11ee-89fa-0242ac120005-8-3b2b-af63-6589-7d08-c69a-3c99-b157-8f9d"
    }
   },
   "source": [
    "### dashboard"
   ]
  },
  {
   "cell_type": "code",
   "execution_count": null,
   "metadata": {
    "lc_cell_meme": {
     "current": "7ac4a350-631a-11ee-89fa-0242ac120005-8-766d-9abe-003f-3688-16a5-75e8-184d-e65c",
     "history": [
      {
       "current": "7ac4a350-631a-11ee-89fa-0242ac120005-1-766d",
       "next": "7ac4a4b8-631a-11ee-89fa-0242ac120005",
       "previous": "ebb6c4b8-6319-11ee-89fa-0242ac120005"
      },
      {
       "current": "7ac4a350-631a-11ee-89fa-0242ac120005-1-766d",
       "next": "7ac4a4b8-631a-11ee-89fa-0242ac120005-1-3b2b",
       "previous": "33449706-631a-11ee-89fa-0242ac120005"
      },
      {
       "current": "7ac4a350-631a-11ee-89fa-0242ac120005-2-766d-9abe",
       "next": "7ac4a4b8-631a-11ee-89fa-0242ac120005-2-3b2b-af63",
       "previous": "33449706-631a-11ee-89fa-0242ac120005"
      },
      {
       "current": "7ac4a350-631a-11ee-89fa-0242ac120005-3-766d-9abe-003f",
       "next": "7ac4a4b8-631a-11ee-89fa-0242ac120005-3-3b2b-af63-6589",
       "previous": "b8962ae8-6bc4-11ee-89fa-0242ac120005-1-ac1d"
      },
      {
       "current": "7ac4a350-631a-11ee-89fa-0242ac120005-4-766d-9abe-003f-3688",
       "next": "7ac4a4b8-631a-11ee-89fa-0242ac120005-4-3b2b-af63-6589-c048",
       "previous": "001947e2-6bc5-11ee-89fa-0242ac120005-1-d031"
      },
      {
       "current": "7ac4a350-631a-11ee-89fa-0242ac120005-5-766d-9abe-003f-3688-16a5",
       "next": "7ac4a4b8-631a-11ee-89fa-0242ac120005-5-3b2b-af63-6589-c048-f327",
       "previous": "001947e2-6bc5-11ee-89fa-0242ac120005-2-d031-b883"
      },
      {
       "current": "7ac4a350-631a-11ee-89fa-0242ac120005-6-766d-9abe-003f-3688-16a5-75e8",
       "next": "7ac4a4b8-631a-11ee-89fa-0242ac120005-6-3b2b-af63-6589-c048-f327-d233",
       "previous": "001947e2-6bc5-11ee-89fa-0242ac120005-3-d031-b883-60f5"
      },
      {
       "current": "7ac4a350-631a-11ee-89fa-0242ac120005-7-766d-9abe-003f-3688-16a5-75e8-184d",
       "next": "7ac4a4b8-631a-11ee-89fa-0242ac120005-7-3b2b-af63-6589-c048-f327-d233-72a3",
       "previous": "001947e2-6bc5-11ee-89fa-0242ac120005-4-d031-b883-60f5-d724"
      },
      {
       "current": "7ac4a350-631a-11ee-89fa-0242ac120005-8-766d-9abe-003f-3688-16a5-75e8-184d-e65c",
       "next": "7ac4a4b8-631a-11ee-89fa-0242ac120005-8-3b2b-af63-6589-c048-f327-d233-72a3-04b3",
       "previous": "001947e2-6bc5-11ee-89fa-0242ac120005-5-d031-b883-60f5-d724-bc38"
      }
     ],
     "next": "7ac4a4b8-631a-11ee-89fa-0242ac120005-9-3b2b-af63-6589-c048-f327-d233-72a3-04b3-c8a5",
     "previous": "001947e2-6bc5-11ee-89fa-0242ac120005-6-d031-b883-60f5-d724-bc38-5577"
    }
   },
   "outputs": [],
   "source": [
    "!ansible -i $hosts -b -m firewalld -a \"rich_rule='rule family=ipv4 source address=xx.yy.0.0/16 port port=8443 protocol=tcp accept' permanent=true state=enabled immediate=yes\" ceph_node"
   ]
  },
  {
   "cell_type": "code",
   "execution_count": null,
   "metadata": {
    "lc_cell_meme": {
     "current": "7ac4a4b8-631a-11ee-89fa-0242ac120005-9-3b2b-af63-6589-c048-f327-d233-72a3-04b3-c8a5",
     "history": [
      {
       "current": "7ac4a4b8-631a-11ee-89fa-0242ac120005-1-3b2b",
       "next": "7ac4a544-631a-11ee-89fa-0242ac120005",
       "previous": "7ac4a350-631a-11ee-89fa-0242ac120005"
      },
      {
       "current": "7ac4a4b8-631a-11ee-89fa-0242ac120005-2-3b2b-af63",
       "next": "442c2866-5cf5-11ee-89fa-0242ac120005",
       "previous": "7ac4a350-631a-11ee-89fa-0242ac120005-1-766d"
      },
      {
       "current": "7ac4a4b8-631a-11ee-89fa-0242ac120005-3-3b2b-af63-6589",
       "next": "b89629c6-6bc4-11ee-89fa-0242ac120005",
       "previous": "7ac4a350-631a-11ee-89fa-0242ac120005-1-766d"
      },
      {
       "current": "7ac4a4b8-631a-11ee-89fa-0242ac120005-4-3b2b-af63-6589-c048",
       "next": "001947e2-6bc5-11ee-89fa-0242ac120005",
       "previous": "7ac4a350-631a-11ee-89fa-0242ac120005-2-766d-9abe"
      },
      {
       "current": "7ac4a4b8-631a-11ee-89fa-0242ac120005-4-3b2b-af63-6589-c048",
       "next": "001949cc-6bc5-11ee-89fa-0242ac120005",
       "previous": "7ac4a350-631a-11ee-89fa-0242ac120005-3-766d-9abe-003f"
      },
      {
       "current": "7ac4a4b8-631a-11ee-89fa-0242ac120005-5-3b2b-af63-6589-c048-f327",
       "next": "442c2866-5cf5-11ee-89fa-0242ac120005",
       "previous": "7ac4a350-631a-11ee-89fa-0242ac120005-3-766d-9abe-003f"
      },
      {
       "current": "7ac4a4b8-631a-11ee-89fa-0242ac120005-6-3b2b-af63-6589-c048-f327-d233",
       "next": "acd66d22-926a-11ee-91d3-0242ac120006",
       "previous": "7ac4a350-631a-11ee-89fa-0242ac120005-4-766d-9abe-003f-3688"
      },
      {
       "current": "7ac4a4b8-631a-11ee-89fa-0242ac120005-7-3b2b-af63-6589-c048-f327-d233-72a3",
       "next": "acd66d22-926a-11ee-91d3-0242ac120006-1-f9db",
       "previous": "7ac4a350-631a-11ee-89fa-0242ac120005-5-766d-9abe-003f-3688-16a5"
      },
      {
       "current": "7ac4a4b8-631a-11ee-89fa-0242ac120005-8-3b2b-af63-6589-c048-f327-d233-72a3-04b3",
       "next": "acd66d22-926a-11ee-91d3-0242ac120006-2-f9db-b38c",
       "previous": "7ac4a350-631a-11ee-89fa-0242ac120005-6-766d-9abe-003f-3688-16a5-75e8"
      },
      {
       "current": "7ac4a4b8-631a-11ee-89fa-0242ac120005-9-3b2b-af63-6589-c048-f327-d233-72a3-04b3-c8a5",
       "next": "acd66d22-926a-11ee-91d3-0242ac120006-3-f9db-b38c-e4b4",
       "previous": "7ac4a350-631a-11ee-89fa-0242ac120005-7-766d-9abe-003f-3688-16a5-75e8-184d"
      }
     ],
     "next": "acd66d22-926a-11ee-91d3-0242ac120006-4-f9db-b38c-e4b4-4624",
     "previous": "7ac4a350-631a-11ee-89fa-0242ac120005-8-766d-9abe-003f-3688-16a5-75e8-184d-e65c"
    }
   },
   "outputs": [],
   "source": [
    "!ansible -i $hosts -b -m firewalld -a \"rich_rule='rule family=ipv4 source address=xx.zz.0.0/16 port port=8443 protocol=tcp accept' permanent=true state=enabled immediate=yes\" ceph_node"
   ]
  },
  {
   "cell_type": "markdown",
   "metadata": {
    "lc_cell_meme": {
     "current": "acd66d22-926a-11ee-91d3-0242ac120006-4-f9db-b38c-e4b4-4624",
     "history": [
      {
       "current": "acd66d22-926a-11ee-91d3-0242ac120006-1-f9db",
       "next": "acd66f16-926a-11ee-91d3-0242ac120006",
       "previous": "7ac4a4b8-631a-11ee-89fa-0242ac120005-5-3b2b-af63-6589-c048-f327"
      },
      {
       "current": "acd66d22-926a-11ee-91d3-0242ac120006-2-f9db-b38c",
       "next": "acd66f16-926a-11ee-91d3-0242ac120006-1-292e",
       "previous": "7ac4a4b8-631a-11ee-89fa-0242ac120005-6-3b2b-af63-6589-c048-f327-d233"
      },
      {
       "current": "acd66d22-926a-11ee-91d3-0242ac120006-3-f9db-b38c-e4b4",
       "next": "acd66f16-926a-11ee-91d3-0242ac120006-2-292e-4079",
       "previous": "7ac4a4b8-631a-11ee-89fa-0242ac120005-7-3b2b-af63-6589-c048-f327-d233-72a3"
      },
      {
       "current": "acd66d22-926a-11ee-91d3-0242ac120006-4-f9db-b38c-e4b4-4624",
       "next": "acd66f16-926a-11ee-91d3-0242ac120006-3-292e-4079-4f45",
       "previous": "7ac4a4b8-631a-11ee-89fa-0242ac120005-8-3b2b-af63-6589-c048-f327-d233-72a3-04b3"
      }
     ],
     "next": "acd66f16-926a-11ee-91d3-0242ac120006-4-292e-4079-4f45-19b5",
     "previous": "7ac4a4b8-631a-11ee-89fa-0242ac120005-9-3b2b-af63-6589-c048-f327-d233-72a3-04b3-c8a5"
    }
   },
   "source": [
    "### Ceph Manager Prometheus エクスポーターモジュール"
   ]
  },
  {
   "cell_type": "code",
   "execution_count": null,
   "metadata": {
    "lc_cell_meme": {
     "current": "acd66f16-926a-11ee-91d3-0242ac120006-4-292e-4079-4f45-19b5",
     "history": [
      {
       "current": "acd66f16-926a-11ee-91d3-0242ac120006-1-292e",
       "next": "acd66fde-926a-11ee-91d3-0242ac120006",
       "previous": "acd66d22-926a-11ee-91d3-0242ac120006"
      },
      {
       "current": "acd66f16-926a-11ee-91d3-0242ac120006-2-292e-4079",
       "next": "acd66fde-926a-11ee-91d3-0242ac120006-1-3890",
       "previous": "acd66d22-926a-11ee-91d3-0242ac120006-1-f9db"
      },
      {
       "current": "acd66f16-926a-11ee-91d3-0242ac120006-2-292e-4079",
       "next": "acd66fde-926a-11ee-91d3-0242ac120006-2-3890-ab8d",
       "previous": "acd66d22-926a-11ee-91d3-0242ac120006-2-f9db-b38c"
      },
      {
       "current": "acd66f16-926a-11ee-91d3-0242ac120006-3-292e-4079-4f45",
       "next": "6aa3aeba-1997-11ef-ad2f-0242ac120005",
       "previous": "acd66d22-926a-11ee-91d3-0242ac120006-2-f9db-b38c"
      },
      {
       "current": "acd66f16-926a-11ee-91d3-0242ac120006-4-292e-4079-4f45-19b5",
       "next": "6aa3aeba-1997-11ef-ad2f-0242ac120005-1-4d04",
       "previous": "acd66d22-926a-11ee-91d3-0242ac120006-3-f9db-b38c-e4b4"
      }
     ],
     "next": "6aa3aeba-1997-11ef-ad2f-0242ac120005-2-4d04-4e26",
     "previous": "acd66d22-926a-11ee-91d3-0242ac120006-4-f9db-b38c-e4b4-4624"
    }
   },
   "outputs": [],
   "source": [
    "!ansible -i $hosts -b -m firewalld -a \"rich_rule='rule family=ipv4 source address=xx.yy.0.0/16 port port=9283 protocol=tcp accept' permanent=true state=enabled immediate=yes\" ceph_node"
   ]
  },
  {
   "cell_type": "code",
   "execution_count": null,
   "metadata": {
    "lc_cell_meme": {
     "current": "6aa3aeba-1997-11ef-ad2f-0242ac120005-2-4d04-4e26",
     "history": [
      {
       "current": "6aa3aeba-1997-11ef-ad2f-0242ac120005-1-4d04",
       "next": "acd66fde-926a-11ee-91d3-0242ac120006-2-3890-ab8d",
       "previous": "acd66f16-926a-11ee-91d3-0242ac120006-2-292e-4079"
      },
      {
       "current": "6aa3aeba-1997-11ef-ad2f-0242ac120005-2-4d04-4e26",
       "next": "acd66fde-926a-11ee-91d3-0242ac120006-3-3890-ab8d-0be5",
       "previous": "acd66f16-926a-11ee-91d3-0242ac120006-3-292e-4079-4f45"
      }
     ],
     "next": "acd66fde-926a-11ee-91d3-0242ac120006-4-3890-ab8d-0be5-24ab",
     "previous": "acd66f16-926a-11ee-91d3-0242ac120006-4-292e-4079-4f45-19b5"
    }
   },
   "outputs": [],
   "source": [
    "!ansible -i $hosts -b -m firewalld -a \"rich_rule='rule family=ipv4 source address=xx.zz.0.0/16 port port=9283 protocol=tcp accept' permanent=true state=enabled immediate=yes\" ceph_node"
   ]
  },
  {
   "cell_type": "code",
   "execution_count": null,
   "metadata": {
    "lc_cell_meme": {
     "current": "acd66fde-926a-11ee-91d3-0242ac120006-4-3890-ab8d-0be5-24ab",
     "history": [
      {
       "current": "acd66fde-926a-11ee-91d3-0242ac120006",
       "next": "acd6706a-926a-11ee-91d3-0242ac120006",
       "previous": "acd66f16-926a-11ee-91d3-0242ac120006"
      },
      {
       "current": "acd66fde-926a-11ee-91d3-0242ac120006-1-3890",
       "next": "acd6706a-926a-11ee-91d3-0242ac120006-1-0ee8",
       "previous": "acd66f16-926a-11ee-91d3-0242ac120006"
      },
      {
       "current": "acd66fde-926a-11ee-91d3-0242ac120006-2-3890-ab8d",
       "next": "acd6706a-926a-11ee-91d3-0242ac120006-2-0ee8-0b7f",
       "previous": "acd66f16-926a-11ee-91d3-0242ac120006-1-292e"
      },
      {
       "current": "acd66fde-926a-11ee-91d3-0242ac120006-2-3890-ab8d",
       "next": "acd6706a-926a-11ee-91d3-0242ac120006-3-0ee8-0b7f-41fb",
       "previous": "acd66f16-926a-11ee-91d3-0242ac120006-2-292e-4079"
      },
      {
       "current": "acd66fde-926a-11ee-91d3-0242ac120006-3-3890-ab8d-0be5",
       "next": "acd6706a-926a-11ee-91d3-0242ac120006-3-0ee8-0b7f-41fb",
       "previous": "6aa3aeba-1997-11ef-ad2f-0242ac120005"
      },
      {
       "current": "acd66fde-926a-11ee-91d3-0242ac120006-4-3890-ab8d-0be5-24ab",
       "next": "acd6706a-926a-11ee-91d3-0242ac120006-4-0ee8-0b7f-41fb-6255",
       "previous": "6aa3aeba-1997-11ef-ad2f-0242ac120005-1-4d04"
      }
     ],
     "next": "acd6706a-926a-11ee-91d3-0242ac120006-5-0ee8-0b7f-41fb-6255-e186",
     "previous": "6aa3aeba-1997-11ef-ad2f-0242ac120005-2-4d04-4e26"
    }
   },
   "outputs": [],
   "source": [
    "!ansible -i $hosts -b -m firewalld -a \"rich_rule='rule family=ipv4 source address=aa.bb.cc.0/24 port port=9283 protocol=tcp accept' permanent=true state=enabled immediate=yes\" ceph_node"
   ]
  },
  {
   "cell_type": "markdown",
   "metadata": {
    "lc_cell_meme": {
     "current": "acd6706a-926a-11ee-91d3-0242ac120006-5-0ee8-0b7f-41fb-6255-e186",
     "history": [
      {
       "current": "acd6706a-926a-11ee-91d3-0242ac120006-2-0ee8-0b7f",
       "next": "acd670ec-926a-11ee-91d3-0242ac120006",
       "previous": "acd66fde-926a-11ee-91d3-0242ac120006"
      },
      {
       "current": "acd6706a-926a-11ee-91d3-0242ac120006-3-0ee8-0b7f-41fb",
       "next": "acd670ec-926a-11ee-91d3-0242ac120006-1-d4e0",
       "previous": "acd66fde-926a-11ee-91d3-0242ac120006-1-3890"
      },
      {
       "current": "acd6706a-926a-11ee-91d3-0242ac120006-4-0ee8-0b7f-41fb-6255",
       "next": "acd670ec-926a-11ee-91d3-0242ac120006-2-d4e0-4c55",
       "previous": "acd66fde-926a-11ee-91d3-0242ac120006-2-3890-ab8d"
      },
      {
       "current": "acd6706a-926a-11ee-91d3-0242ac120006-5-0ee8-0b7f-41fb-6255-e186",
       "next": "acd670ec-926a-11ee-91d3-0242ac120006-3-d4e0-4c55-8d13",
       "previous": "acd66fde-926a-11ee-91d3-0242ac120006-3-3890-ab8d-0be5"
      }
     ],
     "next": "acd670ec-926a-11ee-91d3-0242ac120006-4-d4e0-4c55-8d13-f7d5",
     "previous": "acd66fde-926a-11ee-91d3-0242ac120006-4-3890-ab8d-0be5-24ab"
    }
   },
   "source": [
    "### \tCeph iSCSI ゲートウェイデータ"
   ]
  },
  {
   "cell_type": "code",
   "execution_count": null,
   "metadata": {
    "lc_cell_meme": {
     "current": "acd670ec-926a-11ee-91d3-0242ac120006-4-d4e0-4c55-8d13-f7d5",
     "history": [
      {
       "current": "acd670ec-926a-11ee-91d3-0242ac120006",
       "next": "acd6716e-926a-11ee-91d3-0242ac120006",
       "previous": "acd6706a-926a-11ee-91d3-0242ac120006"
      },
      {
       "current": "acd670ec-926a-11ee-91d3-0242ac120006-1-d4e0",
       "next": "acd6716e-926a-11ee-91d3-0242ac120006",
       "previous": "acd6706a-926a-11ee-91d3-0242ac120006-1-0ee8"
      },
      {
       "current": "acd670ec-926a-11ee-91d3-0242ac120006-2-d4e0-4c55",
       "next": "acd6716e-926a-11ee-91d3-0242ac120006-1-c0a1",
       "previous": "acd6706a-926a-11ee-91d3-0242ac120006-2-0ee8-0b7f"
      },
      {
       "current": "acd670ec-926a-11ee-91d3-0242ac120006-2-d4e0-4c55",
       "next": "acd6716e-926a-11ee-91d3-0242ac120006-2-c0a1-14c9",
       "previous": "acd6706a-926a-11ee-91d3-0242ac120006-3-0ee8-0b7f-41fb"
      },
      {
       "current": "acd670ec-926a-11ee-91d3-0242ac120006-3-d4e0-4c55-8d13",
       "next": "b2284f16-1997-11ef-ad2f-0242ac120005",
       "previous": "acd6706a-926a-11ee-91d3-0242ac120006-3-0ee8-0b7f-41fb"
      },
      {
       "current": "acd670ec-926a-11ee-91d3-0242ac120006-4-d4e0-4c55-8d13-f7d5",
       "next": "b2284f16-1997-11ef-ad2f-0242ac120005-1-6e57",
       "previous": "acd6706a-926a-11ee-91d3-0242ac120006-4-0ee8-0b7f-41fb-6255"
      }
     ],
     "next": "b2284f16-1997-11ef-ad2f-0242ac120005-2-6e57-e191",
     "previous": "acd6706a-926a-11ee-91d3-0242ac120006-5-0ee8-0b7f-41fb-6255-e186"
    }
   },
   "outputs": [],
   "source": [
    "!ansible -i $hosts -b -m firewalld -a \"rich_rule='rule family=ipv4 source address=xx.yy.0.0/16 port port=9287 protocol=tcp accept' permanent=true state=enabled immediate=yes\" ceph_node"
   ]
  },
  {
   "cell_type": "code",
   "execution_count": null,
   "metadata": {
    "lc_cell_meme": {
     "current": "b2284f16-1997-11ef-ad2f-0242ac120005-2-6e57-e191",
     "history": [
      {
       "current": "b2284f16-1997-11ef-ad2f-0242ac120005-1-6e57",
       "next": "acd6716e-926a-11ee-91d3-0242ac120006-2-c0a1-14c9",
       "previous": "acd670ec-926a-11ee-91d3-0242ac120006-2-d4e0-4c55"
      },
      {
       "current": "b2284f16-1997-11ef-ad2f-0242ac120005-2-6e57-e191",
       "next": "acd6716e-926a-11ee-91d3-0242ac120006-3-c0a1-14c9-3016",
       "previous": "acd670ec-926a-11ee-91d3-0242ac120006-3-d4e0-4c55-8d13"
      }
     ],
     "next": "acd6716e-926a-11ee-91d3-0242ac120006-4-c0a1-14c9-3016-9def",
     "previous": "acd670ec-926a-11ee-91d3-0242ac120006-4-d4e0-4c55-8d13-f7d5"
    }
   },
   "outputs": [],
   "source": [
    "!ansible -i $hosts -b -m firewalld -a \"rich_rule='rule family=ipv4 source address=xx.zz.0.0/16 port port=9287 protocol=tcp accept' permanent=true state=enabled immediate=yes\" ceph_node"
   ]
  },
  {
   "cell_type": "code",
   "execution_count": null,
   "metadata": {
    "lc_cell_meme": {
     "current": "acd6716e-926a-11ee-91d3-0242ac120006-4-c0a1-14c9-3016-9def",
     "history": [
      {
       "current": "acd6716e-926a-11ee-91d3-0242ac120006-1-c0a1",
       "next": "442c2866-5cf5-11ee-89fa-0242ac120005-1-8d5e",
       "previous": "acd670ec-926a-11ee-91d3-0242ac120006"
      },
      {
       "current": "acd6716e-926a-11ee-91d3-0242ac120006-2-c0a1-14c9",
       "next": "442c2866-5cf5-11ee-89fa-0242ac120005-2-8d5e-082d",
       "previous": "acd670ec-926a-11ee-91d3-0242ac120006-1-d4e0"
      },
      {
       "current": "acd6716e-926a-11ee-91d3-0242ac120006-2-c0a1-14c9",
       "next": "442c2866-5cf5-11ee-89fa-0242ac120005-3-8d5e-082d-f103",
       "previous": "acd670ec-926a-11ee-91d3-0242ac120006-2-d4e0-4c55"
      },
      {
       "current": "acd6716e-926a-11ee-91d3-0242ac120006-3-c0a1-14c9-3016",
       "next": "442c2866-5cf5-11ee-89fa-0242ac120005-3-8d5e-082d-f103",
       "previous": "b2284f16-1997-11ef-ad2f-0242ac120005"
      },
      {
       "current": "acd6716e-926a-11ee-91d3-0242ac120006-4-c0a1-14c9-3016-9def",
       "next": "442c2866-5cf5-11ee-89fa-0242ac120005-4-8d5e-082d-f103-a4ff",
       "previous": "b2284f16-1997-11ef-ad2f-0242ac120005-1-6e57"
      }
     ],
     "next": "442c2866-5cf5-11ee-89fa-0242ac120005-5-8d5e-082d-f103-a4ff-828c",
     "previous": "b2284f16-1997-11ef-ad2f-0242ac120005-2-6e57-e191"
    }
   },
   "outputs": [],
   "source": [
    "!ansible -i $hosts -b -m firewalld -a \"rich_rule='rule family=ipv4 source address=aa.bb.cc.0/24 port port=9287 protocol=tcp accept' permanent=true state=enabled immediate=yes\" ceph_node"
   ]
  },
  {
   "cell_type": "markdown",
   "metadata": {
    "lc_cell_meme": {
     "current": "442c2866-5cf5-11ee-89fa-0242ac120005-5-8d5e-082d-f103-a4ff-828c",
     "history": [
      {
       "current": "442c2866-5cf5-11ee-89fa-0242ac120005",
       "next": "b375099a-aa29-11ea-9ad4-0242ac120006-2-0962-9f1f",
       "previous": "b374ef46-aa29-11ea-9ad4-0242ac120006-2-e2a7-3466"
      },
      {
       "current": "442c2866-5cf5-11ee-89fa-0242ac120005",
       "next": "b374ef46-aa29-11ea-9ad4-0242ac120006-2-e2a7-3466",
       "previous": "6b93b144-aa15-11ea-9ad4-0242ac120006-2-7bff-7d1d"
      },
      {
       "current": "442c2866-5cf5-11ee-89fa-0242ac120005",
       "next": "b374ef46-aa29-11ea-9ad4-0242ac120006-2-e2a7-3466",
       "previous": "ebb6c698-6319-11ee-89fa-0242ac120005"
      },
      {
       "current": "442c2866-5cf5-11ee-89fa-0242ac120005",
       "next": "b374ef46-aa29-11ea-9ad4-0242ac120006-2-e2a7-3466",
       "previous": "334498d2-631a-11ee-89fa-0242ac120005"
      },
      {
       "current": "442c2866-5cf5-11ee-89fa-0242ac120005",
       "next": "b374ef46-aa29-11ea-9ad4-0242ac120006-2-e2a7-3466",
       "previous": "7ac4a4b8-631a-11ee-89fa-0242ac120005-1-3b2b"
      },
      {
       "current": "442c2866-5cf5-11ee-89fa-0242ac120005",
       "next": "b374ef46-aa29-11ea-9ad4-0242ac120006-2-e2a7-3466",
       "previous": "b8962b56-6bc4-11ee-89fa-0242ac120005"
      },
      {
       "current": "442c2866-5cf5-11ee-89fa-0242ac120005-1-8d5e",
       "next": "b374ef46-aa29-11ea-9ad4-0242ac120006-2-e2a7-3466",
       "previous": "7ac4a4b8-631a-11ee-89fa-0242ac120005-4-3b2b-af63-6589-c048"
      },
      {
       "current": "442c2866-5cf5-11ee-89fa-0242ac120005-2-8d5e-082d",
       "next": "b374ef46-aa29-11ea-9ad4-0242ac120006-3-e2a7-3466-74ef",
       "previous": "acd6716e-926a-11ee-91d3-0242ac120006"
      },
      {
       "current": "442c2866-5cf5-11ee-89fa-0242ac120005-3-8d5e-082d-f103",
       "next": "b374ef46-aa29-11ea-9ad4-0242ac120006-4-e2a7-3466-74ef-f882",
       "previous": "acd6716e-926a-11ee-91d3-0242ac120006-1-c0a1"
      },
      {
       "current": "442c2866-5cf5-11ee-89fa-0242ac120005-4-8d5e-082d-f103-a4ff",
       "next": "b374ef46-aa29-11ea-9ad4-0242ac120006-5-e2a7-3466-74ef-f882-6136",
       "previous": "acd6716e-926a-11ee-91d3-0242ac120006-2-c0a1-14c9"
      },
      {
       "current": "442c2866-5cf5-11ee-89fa-0242ac120005-5-8d5e-082d-f103-a4ff-828c",
       "next": "b374ef46-aa29-11ea-9ad4-0242ac120006-6-e2a7-3466-74ef-f882-6136-a991",
       "previous": "acd6716e-926a-11ee-91d3-0242ac120006-3-c0a1-14c9-3016"
      }
     ],
     "next": "b374ef46-aa29-11ea-9ad4-0242ac120006-7-e2a7-3466-74ef-f882-6136-a991-ac6c",
     "previous": "acd6716e-926a-11ee-91d3-0242ac120006-4-c0a1-14c9-3016-9def"
    }
   },
   "source": [
    "### ssh用ポート解放"
   ]
  },
  {
   "cell_type": "code",
   "execution_count": null,
   "metadata": {
    "lc_cell_meme": {
     "current": "b374ef46-aa29-11ea-9ad4-0242ac120006-7-e2a7-3466-74ef-f882-6136-a991-ac6c",
     "history": [
      {
       "current": "b374ef46-aa29-11ea-9ad4-0242ac120006-1-e2a7",
       "next": "b375099a-aa29-11ea-9ad4-0242ac120006",
       "previous": "6b93b144-aa15-11ea-9ad4-0242ac120006"
      },
      {
       "current": "b374ef46-aa29-11ea-9ad4-0242ac120006-2-e2a7-3466",
       "next": "b375099a-aa29-11ea-9ad4-0242ac120006-1-0962",
       "previous": "6b93b144-aa15-11ea-9ad4-0242ac120006-1-7bff"
      },
      {
       "current": "b374ef46-aa29-11ea-9ad4-0242ac120006-2-e2a7-3466",
       "next": "b375099a-aa29-11ea-9ad4-0242ac120006-2-0962-9f1f",
       "previous": "6b93b144-aa15-11ea-9ad4-0242ac120006-2-7bff-7d1d"
      },
      {
       "current": "b374ef46-aa29-11ea-9ad4-0242ac120006-2-e2a7-3466",
       "next": "442c2866-5cf5-11ee-89fa-0242ac120005",
       "previous": "6b93b144-aa15-11ea-9ad4-0242ac120006-2-7bff-7d1d"
      },
      {
       "current": "b374ef46-aa29-11ea-9ad4-0242ac120006-3-e2a7-3466-74ef",
       "next": "b375099a-aa29-11ea-9ad4-0242ac120006-2-0962-9f1f",
       "previous": "442c2866-5cf5-11ee-89fa-0242ac120005"
      },
      {
       "current": "b374ef46-aa29-11ea-9ad4-0242ac120006-4-e2a7-3466-74ef-f882",
       "next": "b375099a-aa29-11ea-9ad4-0242ac120006-3-0962-9f1f-0dc6",
       "previous": "442c2866-5cf5-11ee-89fa-0242ac120005-1-8d5e"
      },
      {
       "current": "b374ef46-aa29-11ea-9ad4-0242ac120006-5-e2a7-3466-74ef-f882-6136",
       "next": "b375099a-aa29-11ea-9ad4-0242ac120006-4-0962-9f1f-0dc6-b8fe",
       "previous": "442c2866-5cf5-11ee-89fa-0242ac120005-2-8d5e-082d"
      },
      {
       "current": "b374ef46-aa29-11ea-9ad4-0242ac120006-6-e2a7-3466-74ef-f882-6136-a991",
       "next": "b375099a-aa29-11ea-9ad4-0242ac120006-5-0962-9f1f-0dc6-b8fe-e4ac",
       "previous": "442c2866-5cf5-11ee-89fa-0242ac120005-3-8d5e-082d-f103"
      },
      {
       "current": "b374ef46-aa29-11ea-9ad4-0242ac120006-7-e2a7-3466-74ef-f882-6136-a991-ac6c",
       "next": "b375099a-aa29-11ea-9ad4-0242ac120006-6-0962-9f1f-0dc6-b8fe-e4ac-eb4b",
       "previous": "442c2866-5cf5-11ee-89fa-0242ac120005-4-8d5e-082d-f103-a4ff"
      }
     ],
     "next": "b375099a-aa29-11ea-9ad4-0242ac120006-7-0962-9f1f-0dc6-b8fe-e4ac-eb4b-5b23",
     "previous": "442c2866-5cf5-11ee-89fa-0242ac120005-5-8d5e-082d-f103-a4ff-828c"
    }
   },
   "outputs": [],
   "source": [
    "!ansible -i $hosts -b -m firewalld -a \"service=ssh permanent=true state=disabled\" ceph_node"
   ]
  },
  {
   "cell_type": "code",
   "execution_count": null,
   "metadata": {
    "lc_cell_meme": {
     "current": "b375099a-aa29-11ea-9ad4-0242ac120006-7-0962-9f1f-0dc6-b8fe-e4ac-eb4b-5b23",
     "history": [
      {
       "current": "b375099a-aa29-11ea-9ad4-0242ac120006",
       "next": "6b93b432-aa15-11ea-9ad4-0242ac120006",
       "previous": "b374ef46-aa29-11ea-9ad4-0242ac120006"
      },
      {
       "current": "b375099a-aa29-11ea-9ad4-0242ac120006-1-0962",
       "next": "42cf71ba-aa2b-11ea-9ad4-0242ac120006",
       "previous": "b374ef46-aa29-11ea-9ad4-0242ac120006"
      },
      {
       "current": "b375099a-aa29-11ea-9ad4-0242ac120006-2-0962-9f1f",
       "next": "42cf71ba-aa2b-11ea-9ad4-0242ac120006-1-c4e5",
       "previous": "b374ef46-aa29-11ea-9ad4-0242ac120006-1-e2a7"
      },
      {
       "current": "b375099a-aa29-11ea-9ad4-0242ac120006-2-0962-9f1f",
       "next": "42cf71ba-aa2b-11ea-9ad4-0242ac120006-2-c4e5-478e",
       "previous": "b374ef46-aa29-11ea-9ad4-0242ac120006-2-e2a7-3466"
      },
      {
       "current": "b375099a-aa29-11ea-9ad4-0242ac120006-2-0962-9f1f",
       "next": "442c2a46-5cf5-11ee-89fa-0242ac120005",
       "previous": "442c2866-5cf5-11ee-89fa-0242ac120005"
      },
      {
       "current": "b375099a-aa29-11ea-9ad4-0242ac120006-3-0962-9f1f-0dc6",
       "next": "442c2a46-5cf5-11ee-89fa-0242ac120005",
       "previous": "b374ef46-aa29-11ea-9ad4-0242ac120006-2-e2a7-3466"
      },
      {
       "current": "b375099a-aa29-11ea-9ad4-0242ac120006-4-0962-9f1f-0dc6-b8fe",
       "next": "442c2a46-5cf5-11ee-89fa-0242ac120005-1-dbdb",
       "previous": "b374ef46-aa29-11ea-9ad4-0242ac120006-3-e2a7-3466-74ef"
      },
      {
       "current": "b375099a-aa29-11ea-9ad4-0242ac120006-5-0962-9f1f-0dc6-b8fe-e4ac",
       "next": "442c2a46-5cf5-11ee-89fa-0242ac120005-2-dbdb-c522",
       "previous": "b374ef46-aa29-11ea-9ad4-0242ac120006-4-e2a7-3466-74ef-f882"
      },
      {
       "current": "b375099a-aa29-11ea-9ad4-0242ac120006-6-0962-9f1f-0dc6-b8fe-e4ac-eb4b",
       "next": "442c2a46-5cf5-11ee-89fa-0242ac120005-3-dbdb-c522-67ea",
       "previous": "b374ef46-aa29-11ea-9ad4-0242ac120006-5-e2a7-3466-74ef-f882-6136"
      },
      {
       "current": "b375099a-aa29-11ea-9ad4-0242ac120006-7-0962-9f1f-0dc6-b8fe-e4ac-eb4b-5b23",
       "next": "442c2a46-5cf5-11ee-89fa-0242ac120005-4-dbdb-c522-67ea-4a9a",
       "previous": "b374ef46-aa29-11ea-9ad4-0242ac120006-6-e2a7-3466-74ef-f882-6136-a991"
      }
     ],
     "next": "442c2a46-5cf5-11ee-89fa-0242ac120005-5-dbdb-c522-67ea-4a9a-829e",
     "previous": "b374ef46-aa29-11ea-9ad4-0242ac120006-7-e2a7-3466-74ef-f882-6136-a991-ac6c"
    }
   },
   "outputs": [],
   "source": [
    "!ansible -i $hosts -b -m firewalld -a \"rich_rule='rule family=ipv4 source address=xx.zz.0.0/16 port port=22 protocol=tcp accept' permanent=true state=enabled\" ceph_node"
   ]
  },
  {
   "cell_type": "code",
   "execution_count": null,
   "metadata": {
    "lc_cell_meme": {
     "current": "442c2a46-5cf5-11ee-89fa-0242ac120005-5-dbdb-c522-67ea-4a9a-829e",
     "history": [
      {
       "current": "442c2a46-5cf5-11ee-89fa-0242ac120005",
       "next": "42cf71ba-aa2b-11ea-9ad4-0242ac120006-2-c4e5-478e",
       "previous": "b375099a-aa29-11ea-9ad4-0242ac120006-2-0962-9f1f"
      },
      {
       "current": "442c2a46-5cf5-11ee-89fa-0242ac120005-1-dbdb",
       "next": "8bb6a9f4-5cf5-11ee-89fa-0242ac120005",
       "previous": "b375099a-aa29-11ea-9ad4-0242ac120006-2-0962-9f1f"
      },
      {
       "current": "442c2a46-5cf5-11ee-89fa-0242ac120005-2-dbdb-c522",
       "next": "8bb6a9f4-5cf5-11ee-89fa-0242ac120005-1-0436",
       "previous": "b375099a-aa29-11ea-9ad4-0242ac120006-3-0962-9f1f-0dc6"
      },
      {
       "current": "442c2a46-5cf5-11ee-89fa-0242ac120005-3-dbdb-c522-67ea",
       "next": "8bb6a9f4-5cf5-11ee-89fa-0242ac120005-2-0436-a312",
       "previous": "b375099a-aa29-11ea-9ad4-0242ac120006-4-0962-9f1f-0dc6-b8fe"
      },
      {
       "current": "442c2a46-5cf5-11ee-89fa-0242ac120005-4-dbdb-c522-67ea-4a9a",
       "next": "8bb6a9f4-5cf5-11ee-89fa-0242ac120005-3-0436-a312-c23e",
       "previous": "b375099a-aa29-11ea-9ad4-0242ac120006-5-0962-9f1f-0dc6-b8fe-e4ac"
      },
      {
       "current": "442c2a46-5cf5-11ee-89fa-0242ac120005-5-dbdb-c522-67ea-4a9a-829e",
       "next": "8bb6a9f4-5cf5-11ee-89fa-0242ac120005-4-0436-a312-c23e-6203",
       "previous": "b375099a-aa29-11ea-9ad4-0242ac120006-6-0962-9f1f-0dc6-b8fe-e4ac-eb4b"
      }
     ],
     "next": "8bb6a9f4-5cf5-11ee-89fa-0242ac120005-5-0436-a312-c23e-6203-19eb",
     "previous": "b375099a-aa29-11ea-9ad4-0242ac120006-7-0962-9f1f-0dc6-b8fe-e4ac-eb4b-5b23"
    }
   },
   "outputs": [],
   "source": [
    "!ansible -i $hosts -b -m firewalld -a \"rich_rule='rule family=ipv4 source address=aa.bb.cc.0/16 port port=22 protocol=tcp accept' permanent=true state=enabled\" ceph_node"
   ]
  },
  {
   "cell_type": "markdown",
   "metadata": {
    "lc_cell_meme": {
     "current": "8bb6a9f4-5cf5-11ee-89fa-0242ac120005-5-0436-a312-c23e-6203-19eb",
     "history": [
      {
       "current": "8bb6a9f4-5cf5-11ee-89fa-0242ac120005-1-0436",
       "next": "42cf71ba-aa2b-11ea-9ad4-0242ac120006-2-c4e5-478e",
       "previous": "442c2a46-5cf5-11ee-89fa-0242ac120005"
      },
      {
       "current": "8bb6a9f4-5cf5-11ee-89fa-0242ac120005-2-0436-a312",
       "next": "42cf71ba-aa2b-11ea-9ad4-0242ac120006-3-c4e5-478e-5814",
       "previous": "442c2a46-5cf5-11ee-89fa-0242ac120005-1-dbdb"
      },
      {
       "current": "8bb6a9f4-5cf5-11ee-89fa-0242ac120005-3-0436-a312-c23e",
       "next": "42cf71ba-aa2b-11ea-9ad4-0242ac120006-4-c4e5-478e-5814-61ea",
       "previous": "442c2a46-5cf5-11ee-89fa-0242ac120005-2-dbdb-c522"
      },
      {
       "current": "8bb6a9f4-5cf5-11ee-89fa-0242ac120005-4-0436-a312-c23e-6203",
       "next": "42cf71ba-aa2b-11ea-9ad4-0242ac120006-5-c4e5-478e-5814-61ea-a216",
       "previous": "442c2a46-5cf5-11ee-89fa-0242ac120005-3-dbdb-c522-67ea"
      },
      {
       "current": "8bb6a9f4-5cf5-11ee-89fa-0242ac120005-5-0436-a312-c23e-6203-19eb",
       "next": "42cf71ba-aa2b-11ea-9ad4-0242ac120006-6-c4e5-478e-5814-61ea-a216-fc15",
       "previous": "442c2a46-5cf5-11ee-89fa-0242ac120005-4-dbdb-c522-67ea-4a9a"
      }
     ],
     "next": "42cf71ba-aa2b-11ea-9ad4-0242ac120006-7-c4e5-478e-5814-61ea-a216-fc15-7b0e",
     "previous": "442c2a46-5cf5-11ee-89fa-0242ac120005-5-dbdb-c522-67ea-4a9a-829e"
    }
   },
   "source": [
    "### firewalld再起動"
   ]
  },
  {
   "cell_type": "code",
   "execution_count": null,
   "metadata": {
    "lc_cell_meme": {
     "current": "42cf71ba-aa2b-11ea-9ad4-0242ac120006-7-c4e5-478e-5814-61ea-a216-fc15-7b0e",
     "history": [
      {
       "current": "42cf71ba-aa2b-11ea-9ad4-0242ac120006-1-c4e5",
       "next": "6b93b432-aa15-11ea-9ad4-0242ac120006",
       "previous": "b375099a-aa29-11ea-9ad4-0242ac120006"
      },
      {
       "current": "42cf71ba-aa2b-11ea-9ad4-0242ac120006-2-c4e5-478e",
       "next": "6b93b432-aa15-11ea-9ad4-0242ac120006-1-dfe4",
       "previous": "b375099a-aa29-11ea-9ad4-0242ac120006-1-0962"
      },
      {
       "current": "42cf71ba-aa2b-11ea-9ad4-0242ac120006-2-c4e5-478e",
       "next": "6b93b432-aa15-11ea-9ad4-0242ac120006-2-dfe4-b018",
       "previous": "b375099a-aa29-11ea-9ad4-0242ac120006-2-0962-9f1f"
      },
      {
       "current": "42cf71ba-aa2b-11ea-9ad4-0242ac120006-2-c4e5-478e",
       "next": "6b93b432-aa15-11ea-9ad4-0242ac120006-2-dfe4-b018",
       "previous": "442c2a46-5cf5-11ee-89fa-0242ac120005"
      },
      {
       "current": "42cf71ba-aa2b-11ea-9ad4-0242ac120006-3-c4e5-478e-5814",
       "next": "6b93b432-aa15-11ea-9ad4-0242ac120006-2-dfe4-b018",
       "previous": "8bb6a9f4-5cf5-11ee-89fa-0242ac120005"
      },
      {
       "current": "42cf71ba-aa2b-11ea-9ad4-0242ac120006-4-c4e5-478e-5814-61ea",
       "next": "6b93b432-aa15-11ea-9ad4-0242ac120006-3-dfe4-b018-901c",
       "previous": "8bb6a9f4-5cf5-11ee-89fa-0242ac120005-1-0436"
      },
      {
       "current": "42cf71ba-aa2b-11ea-9ad4-0242ac120006-5-c4e5-478e-5814-61ea-a216",
       "next": "6b93b432-aa15-11ea-9ad4-0242ac120006-4-dfe4-b018-901c-cb6f",
       "previous": "8bb6a9f4-5cf5-11ee-89fa-0242ac120005-2-0436-a312"
      },
      {
       "current": "42cf71ba-aa2b-11ea-9ad4-0242ac120006-6-c4e5-478e-5814-61ea-a216-fc15",
       "next": "6b93b432-aa15-11ea-9ad4-0242ac120006-5-dfe4-b018-901c-cb6f-1ef1",
       "previous": "8bb6a9f4-5cf5-11ee-89fa-0242ac120005-3-0436-a312-c23e"
      },
      {
       "current": "42cf71ba-aa2b-11ea-9ad4-0242ac120006-7-c4e5-478e-5814-61ea-a216-fc15-7b0e",
       "next": "6b93b432-aa15-11ea-9ad4-0242ac120006-6-dfe4-b018-901c-cb6f-1ef1-9385",
       "previous": "8bb6a9f4-5cf5-11ee-89fa-0242ac120005-4-0436-a312-c23e-6203"
      }
     ],
     "next": "6b93b432-aa15-11ea-9ad4-0242ac120006-7-dfe4-b018-901c-cb6f-1ef1-9385-acc0",
     "previous": "8bb6a9f4-5cf5-11ee-89fa-0242ac120005-5-0436-a312-c23e-6203-19eb"
    },
    "scrolled": true
   },
   "outputs": [],
   "source": [
    "!ansible -i $hosts -m service -b -a \"name=firewalld enabled=yes state=restarted\" ceph_node"
   ]
  },
  {
   "cell_type": "code",
   "execution_count": null,
   "metadata": {
    "lc_cell_meme": {
     "current": "6b93b432-aa15-11ea-9ad4-0242ac120006-7-dfe4-b018-901c-cb6f-1ef1-9385-acc0",
     "history": [
      {
       "current": "6b93b432-aa15-11ea-9ad4-0242ac120006",
       "next": "217eb796-98ce-11ea-8d02-0242ac120007-1-9644",
       "previous": "6b93b144-aa15-11ea-9ad4-0242ac120006"
      },
      {
       "current": "6b93b432-aa15-11ea-9ad4-0242ac120006",
       "next": "217eb796-98ce-11ea-8d02-0242ac120007-1-9644",
       "previous": "b375099a-aa29-11ea-9ad4-0242ac120006"
      },
      {
       "current": "6b93b432-aa15-11ea-9ad4-0242ac120006-1-dfe4",
       "next": "217eb796-98ce-11ea-8d02-0242ac120007-1-9644",
       "previous": "42cf71ba-aa2b-11ea-9ad4-0242ac120006"
      },
      {
       "current": "6b93b432-aa15-11ea-9ad4-0242ac120006-1-dfe4",
       "next": "217eb796-98ce-11ea-8d02-0242ac120007-2-9644-58e1",
       "previous": "42cf71ba-aa2b-11ea-9ad4-0242ac120006-1-c4e5"
      },
      {
       "current": "6b93b432-aa15-11ea-9ad4-0242ac120006-2-dfe4-b018",
       "next": "40ed0922-98b3-11ea-8d02-0242ac120007-2-51d4-95bd",
       "previous": "42cf71ba-aa2b-11ea-9ad4-0242ac120006-1-c4e5"
      },
      {
       "current": "6b93b432-aa15-11ea-9ad4-0242ac120006-3-dfe4-b018-901c",
       "next": "40ed0922-98b3-11ea-8d02-0242ac120007-3-51d4-95bd-7e79",
       "previous": "42cf71ba-aa2b-11ea-9ad4-0242ac120006-2-c4e5-478e"
      },
      {
       "current": "6b93b432-aa15-11ea-9ad4-0242ac120006-4-dfe4-b018-901c-cb6f",
       "next": "40ed0922-98b3-11ea-8d02-0242ac120007-4-51d4-95bd-7e79-1ad2",
       "previous": "42cf71ba-aa2b-11ea-9ad4-0242ac120006-3-c4e5-478e-5814"
      },
      {
       "current": "6b93b432-aa15-11ea-9ad4-0242ac120006-5-dfe4-b018-901c-cb6f-1ef1",
       "next": "40ed0922-98b3-11ea-8d02-0242ac120007-5-51d4-95bd-7e79-1ad2-bada",
       "previous": "42cf71ba-aa2b-11ea-9ad4-0242ac120006-4-c4e5-478e-5814-61ea"
      },
      {
       "current": "6b93b432-aa15-11ea-9ad4-0242ac120006-6-dfe4-b018-901c-cb6f-1ef1-9385",
       "next": "40ed0922-98b3-11ea-8d02-0242ac120007-6-51d4-95bd-7e79-1ad2-bada-4360",
       "previous": "42cf71ba-aa2b-11ea-9ad4-0242ac120006-5-c4e5-478e-5814-61ea-a216"
      },
      {
       "current": "6b93b432-aa15-11ea-9ad4-0242ac120006-7-dfe4-b018-901c-cb6f-1ef1-9385-acc0",
       "next": "40ed0922-98b3-11ea-8d02-0242ac120007-7-51d4-95bd-7e79-1ad2-bada-4360-f734",
       "previous": "42cf71ba-aa2b-11ea-9ad4-0242ac120006-6-c4e5-478e-5814-61ea-a216-fc15"
      }
     ],
     "next": "40ed0922-98b3-11ea-8d02-0242ac120007-8-51d4-95bd-7e79-1ad2-bada-4360-f734-61e3",
     "previous": "42cf71ba-aa2b-11ea-9ad4-0242ac120006-7-c4e5-478e-5814-61ea-a216-fc15-7b0e"
    },
    "scrolled": true
   },
   "outputs": [],
   "source": [
    "!ansible -i $hosts -b -m shell -a \"firewall-cmd --list-all\" ceph_node"
   ]
  },
  {
   "cell_type": "markdown",
   "metadata": {
    "lc_cell_meme": {
     "current": "40ed0922-98b3-11ea-8d02-0242ac120007-8-51d4-95bd-7e79-1ad2-bada-4360-f734-61e3",
     "history": [
      {
       "current": "40ed0922-98b3-11ea-8d02-0242ac120007",
       "next": "40ed0ac6-98b3-11ea-8d02-0242ac120007",
       "previous": "40ed072e-98b3-11ea-8d02-0242ac120007"
      },
      {
       "current": "40ed0922-98b3-11ea-8d02-0242ac120007-1-51d4",
       "next": "40ed0ac6-98b3-11ea-8d02-0242ac120007",
       "previous": "d0769e06-98bc-11ea-8d02-0242ac120007"
      },
      {
       "current": "40ed0922-98b3-11ea-8d02-0242ac120007-2-51d4-95bd",
       "next": "40ed0ac6-98b3-11ea-8d02-0242ac120007-1-dec7",
       "previous": "d0769e06-98bc-11ea-8d02-0242ac120007-1-e2c4"
      },
      {
       "current": "40ed0922-98b3-11ea-8d02-0242ac120007-2-51d4-95bd",
       "next": "40ed0ac6-98b3-11ea-8d02-0242ac120007-2-dec7-c5c7",
       "previous": "d0769e06-98bc-11ea-8d02-0242ac120007-2-e2c4-485b"
      },
      {
       "current": "40ed0922-98b3-11ea-8d02-0242ac120007-3-51d4-95bd-7e79",
       "next": "40ed0ac6-98b3-11ea-8d02-0242ac120007-2-dec7-c5c7",
       "previous": "6b93b432-aa15-11ea-9ad4-0242ac120006-1-dfe4"
      },
      {
       "current": "40ed0922-98b3-11ea-8d02-0242ac120007-4-51d4-95bd-7e79-1ad2",
       "next": "40ed0ac6-98b3-11ea-8d02-0242ac120007-3-dec7-c5c7-e77f",
       "previous": "6b93b432-aa15-11ea-9ad4-0242ac120006-2-dfe4-b018"
      },
      {
       "current": "40ed0922-98b3-11ea-8d02-0242ac120007-5-51d4-95bd-7e79-1ad2-bada",
       "next": "40ed0ac6-98b3-11ea-8d02-0242ac120007-4-dec7-c5c7-e77f-1676",
       "previous": "6b93b432-aa15-11ea-9ad4-0242ac120006-3-dfe4-b018-901c"
      },
      {
       "current": "40ed0922-98b3-11ea-8d02-0242ac120007-6-51d4-95bd-7e79-1ad2-bada-4360",
       "next": "40ed0ac6-98b3-11ea-8d02-0242ac120007-5-dec7-c5c7-e77f-1676-b51f",
       "previous": "6b93b432-aa15-11ea-9ad4-0242ac120006-4-dfe4-b018-901c-cb6f"
      },
      {
       "current": "40ed0922-98b3-11ea-8d02-0242ac120007-7-51d4-95bd-7e79-1ad2-bada-4360-f734",
       "next": "40ed0ac6-98b3-11ea-8d02-0242ac120007-6-dec7-c5c7-e77f-1676-b51f-fb88",
       "previous": "6b93b432-aa15-11ea-9ad4-0242ac120006-5-dfe4-b018-901c-cb6f-1ef1"
      },
      {
       "current": "40ed0922-98b3-11ea-8d02-0242ac120007-8-51d4-95bd-7e79-1ad2-bada-4360-f734-61e3",
       "next": "40ed0ac6-98b3-11ea-8d02-0242ac120007-7-dec7-c5c7-e77f-1676-b51f-fb88-9485",
       "previous": "6b93b432-aa15-11ea-9ad4-0242ac120006-6-dfe4-b018-901c-cb6f-1ef1-9385"
      }
     ],
     "next": "40ed0ac6-98b3-11ea-8d02-0242ac120007-8-dec7-c5c7-e77f-1676-b51f-fb88-9485-55e9",
     "previous": "6b93b432-aa15-11ea-9ad4-0242ac120006-7-dfe4-b018-901c-cb6f-1ef1-9385-acc0"
    }
   },
   "source": [
    "# ovs有効化"
   ]
  },
  {
   "cell_type": "code",
   "execution_count": null,
   "metadata": {
    "lc_cell_meme": {
     "current": "40ed0ac6-98b3-11ea-8d02-0242ac120007-8-dec7-c5c7-e77f-1676-b51f-fb88-9485-55e9",
     "history": [
      {
       "current": "40ed0ac6-98b3-11ea-8d02-0242ac120007-1-dec7",
       "next": "40ed0dd2-98b3-11ea-8d02-0242ac120007",
       "previous": "40ed0922-98b3-11ea-8d02-0242ac120007"
      },
      {
       "current": "40ed0ac6-98b3-11ea-8d02-0242ac120007-2-dec7-c5c7",
       "next": "40ed0dd2-98b3-11ea-8d02-0242ac120007-1-cd10",
       "previous": "40ed0922-98b3-11ea-8d02-0242ac120007-1-51d4"
      },
      {
       "current": "40ed0ac6-98b3-11ea-8d02-0242ac120007-3-dec7-c5c7-e77f",
       "next": "40ed0dd2-98b3-11ea-8d02-0242ac120007-2-cd10-72fa",
       "previous": "40ed0922-98b3-11ea-8d02-0242ac120007-2-51d4-95bd"
      },
      {
       "current": "40ed0ac6-98b3-11ea-8d02-0242ac120007-4-dec7-c5c7-e77f-1676",
       "next": "40ed0dd2-98b3-11ea-8d02-0242ac120007-3-cd10-72fa-e5a6",
       "previous": "40ed0922-98b3-11ea-8d02-0242ac120007-3-51d4-95bd-7e79"
      },
      {
       "current": "40ed0ac6-98b3-11ea-8d02-0242ac120007-5-dec7-c5c7-e77f-1676-b51f",
       "next": "40ed0dd2-98b3-11ea-8d02-0242ac120007-4-cd10-72fa-e5a6-10da",
       "previous": "40ed0922-98b3-11ea-8d02-0242ac120007-4-51d4-95bd-7e79-1ad2"
      },
      {
       "current": "40ed0ac6-98b3-11ea-8d02-0242ac120007-6-dec7-c5c7-e77f-1676-b51f-fb88",
       "next": "40ed0dd2-98b3-11ea-8d02-0242ac120007-5-cd10-72fa-e5a6-10da-aaee",
       "previous": "40ed0922-98b3-11ea-8d02-0242ac120007-5-51d4-95bd-7e79-1ad2-bada"
      },
      {
       "current": "40ed0ac6-98b3-11ea-8d02-0242ac120007-7-dec7-c5c7-e77f-1676-b51f-fb88-9485",
       "next": "40ed0dd2-98b3-11ea-8d02-0242ac120007-6-cd10-72fa-e5a6-10da-aaee-209e",
       "previous": "40ed0922-98b3-11ea-8d02-0242ac120007-6-51d4-95bd-7e79-1ad2-bada-4360"
      },
      {
       "current": "40ed0ac6-98b3-11ea-8d02-0242ac120007-8-dec7-c5c7-e77f-1676-b51f-fb88-9485-55e9",
       "next": "40ed0dd2-98b3-11ea-8d02-0242ac120007-7-cd10-72fa-e5a6-10da-aaee-209e-1e4e",
       "previous": "40ed0922-98b3-11ea-8d02-0242ac120007-7-51d4-95bd-7e79-1ad2-bada-4360-f734"
      }
     ],
     "next": "40ed0dd2-98b3-11ea-8d02-0242ac120007-8-cd10-72fa-e5a6-10da-aaee-209e-1e4e-bead",
     "previous": "40ed0922-98b3-11ea-8d02-0242ac120007-8-51d4-95bd-7e79-1ad2-bada-4360-f734-61e3"
    },
    "scrolled": true
   },
   "outputs": [],
   "source": [
    "!ansible -i $hosts -b -m service -a \"name=openvswitch enabled=yes state=started\" ceph_node"
   ]
  },
  {
   "cell_type": "markdown",
   "metadata": {
    "lc_cell_meme": {
     "current": "40ed0dd2-98b3-11ea-8d02-0242ac120007-8-cd10-72fa-e5a6-10da-aaee-209e-1e4e-bead",
     "history": [
      {
       "current": "40ed0dd2-98b3-11ea-8d02-0242ac120007",
       "next": "7dae86da-9686-11ea-8d02-0242ac120007",
       "previous": "40ed0ac6-98b3-11ea-8d02-0242ac120007"
      },
      {
       "current": "40ed0dd2-98b3-11ea-8d02-0242ac120007-1-cd10",
       "next": "d0769ffa-98bc-11ea-8d02-0242ac120007",
       "previous": "40ed0ac6-98b3-11ea-8d02-0242ac120007"
      },
      {
       "current": "40ed0dd2-98b3-11ea-8d02-0242ac120007-2-cd10-72fa",
       "next": "d0769ffa-98bc-11ea-8d02-0242ac120007-1-9994",
       "previous": "40ed0ac6-98b3-11ea-8d02-0242ac120007-1-dec7"
      },
      {
       "current": "40ed0dd2-98b3-11ea-8d02-0242ac120007-3-cd10-72fa-e5a6",
       "next": "d0769ffa-98bc-11ea-8d02-0242ac120007-2-9994-0723",
       "previous": "40ed0ac6-98b3-11ea-8d02-0242ac120007-2-dec7-c5c7"
      },
      {
       "current": "40ed0dd2-98b3-11ea-8d02-0242ac120007-4-cd10-72fa-e5a6-10da",
       "next": "d0769ffa-98bc-11ea-8d02-0242ac120007-3-9994-0723-32db",
       "previous": "40ed0ac6-98b3-11ea-8d02-0242ac120007-3-dec7-c5c7-e77f"
      },
      {
       "current": "40ed0dd2-98b3-11ea-8d02-0242ac120007-5-cd10-72fa-e5a6-10da-aaee",
       "next": "d0769ffa-98bc-11ea-8d02-0242ac120007-4-9994-0723-32db-be98",
       "previous": "40ed0ac6-98b3-11ea-8d02-0242ac120007-4-dec7-c5c7-e77f-1676"
      },
      {
       "current": "40ed0dd2-98b3-11ea-8d02-0242ac120007-6-cd10-72fa-e5a6-10da-aaee-209e",
       "next": "d0769ffa-98bc-11ea-8d02-0242ac120007-5-9994-0723-32db-be98-7271",
       "previous": "40ed0ac6-98b3-11ea-8d02-0242ac120007-5-dec7-c5c7-e77f-1676-b51f"
      },
      {
       "current": "40ed0dd2-98b3-11ea-8d02-0242ac120007-7-cd10-72fa-e5a6-10da-aaee-209e-1e4e",
       "next": "d0769ffa-98bc-11ea-8d02-0242ac120007-6-9994-0723-32db-be98-7271-68d1",
       "previous": "40ed0ac6-98b3-11ea-8d02-0242ac120007-6-dec7-c5c7-e77f-1676-b51f-fb88"
      },
      {
       "current": "40ed0dd2-98b3-11ea-8d02-0242ac120007-8-cd10-72fa-e5a6-10da-aaee-209e-1e4e-bead",
       "next": "d0769ffa-98bc-11ea-8d02-0242ac120007-7-9994-0723-32db-be98-7271-68d1-ee87",
       "previous": "40ed0ac6-98b3-11ea-8d02-0242ac120007-7-dec7-c5c7-e77f-1676-b51f-fb88-9485"
      }
     ],
     "next": "d0769ffa-98bc-11ea-8d02-0242ac120007-8-9994-0723-32db-be98-7271-68d1-ee87-1a1e",
     "previous": "40ed0ac6-98b3-11ea-8d02-0242ac120007-8-dec7-c5c7-e77f-1676-b51f-fb88-9485-55e9"
    }
   },
   "source": [
    "## ovs動作確認"
   ]
  },
  {
   "cell_type": "code",
   "execution_count": null,
   "metadata": {
    "lc_cell_meme": {
     "current": "d0769ffa-98bc-11ea-8d02-0242ac120007-8-9994-0723-32db-be98-7271-68d1-ee87-1a1e",
     "history": [
      {
       "current": "d0769ffa-98bc-11ea-8d02-0242ac120007-1-9994",
       "next": "7dae86da-9686-11ea-8d02-0242ac120007",
       "previous": "40ed0dd2-98b3-11ea-8d02-0242ac120007"
      },
      {
       "current": "d0769ffa-98bc-11ea-8d02-0242ac120007-2-9994-0723",
       "next": "7dae86da-9686-11ea-8d02-0242ac120007-1-d01c",
       "previous": "40ed0dd2-98b3-11ea-8d02-0242ac120007-1-cd10"
      },
      {
       "current": "d0769ffa-98bc-11ea-8d02-0242ac120007-2-9994-0723",
       "next": "7dae86da-9686-11ea-8d02-0242ac120007-2-d01c-e7b6",
       "previous": "40ed0dd2-98b3-11ea-8d02-0242ac120007-2-cd10-72fa"
      },
      {
       "current": "d0769ffa-98bc-11ea-8d02-0242ac120007-2-9994-0723",
       "next": "49102b70-98a9-11ea-8d02-0242ac120007-2-6a6f-c566",
       "previous": "40ed0dd2-98b3-11ea-8d02-0242ac120007-2-cd10-72fa"
      },
      {
       "current": "d0769ffa-98bc-11ea-8d02-0242ac120007-2-9994-0723",
       "next": "35c581ba-55a3-11e7-b0b2-00163e9c0e35-2-f60b-133a",
       "previous": "40ed0dd2-98b3-11ea-8d02-0242ac120007-2-cd10-72fa"
      },
      {
       "current": "d0769ffa-98bc-11ea-8d02-0242ac120007-3-9994-0723-32db",
       "next": "bc16c60c-dfce-11eb-b29f-0242ac120008",
       "previous": "40ed0dd2-98b3-11ea-8d02-0242ac120007-2-cd10-72fa"
      },
      {
       "current": "d0769ffa-98bc-11ea-8d02-0242ac120007-4-9994-0723-32db-be98",
       "next": "bc16c60c-dfce-11eb-b29f-0242ac120008-1-89cc",
       "previous": "40ed0dd2-98b3-11ea-8d02-0242ac120007-3-cd10-72fa-e5a6"
      },
      {
       "current": "d0769ffa-98bc-11ea-8d02-0242ac120007-5-9994-0723-32db-be98-7271",
       "next": "bc16c60c-dfce-11eb-b29f-0242ac120008-2-89cc-7369",
       "previous": "40ed0dd2-98b3-11ea-8d02-0242ac120007-4-cd10-72fa-e5a6-10da"
      },
      {
       "current": "d0769ffa-98bc-11ea-8d02-0242ac120007-6-9994-0723-32db-be98-7271-68d1",
       "next": "bc16c60c-dfce-11eb-b29f-0242ac120008-3-89cc-7369-0882",
       "previous": "40ed0dd2-98b3-11ea-8d02-0242ac120007-5-cd10-72fa-e5a6-10da-aaee"
      },
      {
       "current": "d0769ffa-98bc-11ea-8d02-0242ac120007-7-9994-0723-32db-be98-7271-68d1-ee87",
       "next": "bc16c60c-dfce-11eb-b29f-0242ac120008-4-89cc-7369-0882-1deb",
       "previous": "40ed0dd2-98b3-11ea-8d02-0242ac120007-6-cd10-72fa-e5a6-10da-aaee-209e"
      },
      {
       "current": "d0769ffa-98bc-11ea-8d02-0242ac120007-8-9994-0723-32db-be98-7271-68d1-ee87-1a1e",
       "next": "bc16c60c-dfce-11eb-b29f-0242ac120008-5-89cc-7369-0882-1deb-b1f1",
       "previous": "40ed0dd2-98b3-11ea-8d02-0242ac120007-7-cd10-72fa-e5a6-10da-aaee-209e-1e4e"
      }
     ],
     "next": "bc16c60c-dfce-11eb-b29f-0242ac120008-6-89cc-7369-0882-1deb-b1f1-a736",
     "previous": "40ed0dd2-98b3-11ea-8d02-0242ac120007-8-cd10-72fa-e5a6-10da-aaee-209e-1e4e-bead"
    }
   },
   "outputs": [],
   "source": [
    "!ansible -i $hosts -b -m shell -a \"ovs-vsctl show\" ceph_node"
   ]
  },
  {
   "cell_type": "markdown",
   "metadata": {
    "lc_cell_meme": {
     "current": "bc16c60c-dfce-11eb-b29f-0242ac120008-6-89cc-7369-0882-1deb-b1f1-a736",
     "history": [
      {
       "current": "bc16c60c-dfce-11eb-b29f-0242ac120008",
       "next": "bc16c922-dfce-11eb-b29f-0242ac120008",
       "previous": "d0769ffa-98bc-11ea-8d02-0242ac120007-2-9994-0723"
      },
      {
       "current": "bc16c60c-dfce-11eb-b29f-0242ac120008",
       "next": "039ee464-dfcf-11eb-b29f-0242ac120008",
       "previous": "d0769ffa-98bc-11ea-8d02-0242ac120007-2-9994-0723"
      },
      {
       "current": "bc16c60c-dfce-11eb-b29f-0242ac120008-1-89cc",
       "next": "039ee464-dfcf-11eb-b29f-0242ac120008-1-809c",
       "previous": "d0769ffa-98bc-11ea-8d02-0242ac120007-2-9994-0723"
      },
      {
       "current": "bc16c60c-dfce-11eb-b29f-0242ac120008-2-89cc-7369",
       "next": "039ee464-dfcf-11eb-b29f-0242ac120008-2-809c-d4f3",
       "previous": "d0769ffa-98bc-11ea-8d02-0242ac120007-3-9994-0723-32db"
      },
      {
       "current": "bc16c60c-dfce-11eb-b29f-0242ac120008-3-89cc-7369-0882",
       "next": "039ee464-dfcf-11eb-b29f-0242ac120008-3-809c-d4f3-f863",
       "previous": "d0769ffa-98bc-11ea-8d02-0242ac120007-4-9994-0723-32db-be98"
      },
      {
       "current": "bc16c60c-dfce-11eb-b29f-0242ac120008-4-89cc-7369-0882-1deb",
       "next": "039ee464-dfcf-11eb-b29f-0242ac120008-4-809c-d4f3-f863-2575",
       "previous": "d0769ffa-98bc-11ea-8d02-0242ac120007-5-9994-0723-32db-be98-7271"
      },
      {
       "current": "bc16c60c-dfce-11eb-b29f-0242ac120008-5-89cc-7369-0882-1deb-b1f1",
       "next": "039ee464-dfcf-11eb-b29f-0242ac120008-5-809c-d4f3-f863-2575-ffc8",
       "previous": "d0769ffa-98bc-11ea-8d02-0242ac120007-6-9994-0723-32db-be98-7271-68d1"
      },
      {
       "current": "bc16c60c-dfce-11eb-b29f-0242ac120008-6-89cc-7369-0882-1deb-b1f1-a736",
       "next": "039ee464-dfcf-11eb-b29f-0242ac120008-6-809c-d4f3-f863-2575-ffc8-5503",
       "previous": "d0769ffa-98bc-11ea-8d02-0242ac120007-7-9994-0723-32db-be98-7271-68d1-ee87"
      }
     ],
     "next": "039ee464-dfcf-11eb-b29f-0242ac120008-7-809c-d4f3-f863-2575-ffc8-5503-629b",
     "previous": "d0769ffa-98bc-11ea-8d02-0242ac120007-8-9994-0723-32db-be98-7271-68d1-ee87-1a1e"
    }
   },
   "source": [
    "# 更新と再起動"
   ]
  },
  {
   "cell_type": "markdown",
   "metadata": {
    "lc_cell_meme": {
     "current": "039ee464-dfcf-11eb-b29f-0242ac120008-7-809c-d4f3-f863-2575-ffc8-5503-629b",
     "history": [
      {
       "current": "039ee464-dfcf-11eb-b29f-0242ac120008-2-809c-d4f3",
       "next": "bc16c922-dfce-11eb-b29f-0242ac120008",
       "previous": "bc16c60c-dfce-11eb-b29f-0242ac120008"
      },
      {
       "current": "039ee464-dfcf-11eb-b29f-0242ac120008-3-809c-d4f3-f863",
       "next": "bc16c922-dfce-11eb-b29f-0242ac120008-1-ca1f",
       "previous": "bc16c60c-dfce-11eb-b29f-0242ac120008-1-89cc"
      },
      {
       "current": "039ee464-dfcf-11eb-b29f-0242ac120008-4-809c-d4f3-f863-2575",
       "next": "bc16c922-dfce-11eb-b29f-0242ac120008-2-ca1f-7325",
       "previous": "bc16c60c-dfce-11eb-b29f-0242ac120008-2-89cc-7369"
      },
      {
       "current": "039ee464-dfcf-11eb-b29f-0242ac120008-5-809c-d4f3-f863-2575-ffc8",
       "next": "bc16c922-dfce-11eb-b29f-0242ac120008-3-ca1f-7325-2802",
       "previous": "bc16c60c-dfce-11eb-b29f-0242ac120008-3-89cc-7369-0882"
      },
      {
       "current": "039ee464-dfcf-11eb-b29f-0242ac120008-6-809c-d4f3-f863-2575-ffc8-5503",
       "next": "bc16c922-dfce-11eb-b29f-0242ac120008-4-ca1f-7325-2802-d75f",
       "previous": "bc16c60c-dfce-11eb-b29f-0242ac120008-4-89cc-7369-0882-1deb"
      },
      {
       "current": "039ee464-dfcf-11eb-b29f-0242ac120008-7-809c-d4f3-f863-2575-ffc8-5503-629b",
       "next": "bc16c922-dfce-11eb-b29f-0242ac120008-5-ca1f-7325-2802-d75f-b8fe",
       "previous": "bc16c60c-dfce-11eb-b29f-0242ac120008-5-89cc-7369-0882-1deb-b1f1"
      }
     ],
     "next": "bc16c922-dfce-11eb-b29f-0242ac120008-6-ca1f-7325-2802-d75f-b8fe-5258",
     "previous": "bc16c60c-dfce-11eb-b29f-0242ac120008-6-89cc-7369-0882-1deb-b1f1-a736"
    }
   },
   "source": [
    "- OS,パッケージの更新を実施\n",
    "- OS更新を反映させるためノードの再起動"
   ]
  },
  {
   "cell_type": "code",
   "execution_count": null,
   "metadata": {
    "lc_cell_meme": {
     "current": "bc16c922-dfce-11eb-b29f-0242ac120008-6-ca1f-7325-2802-d75f-b8fe-5258",
     "history": [
      {
       "current": "bc16c922-dfce-11eb-b29f-0242ac120008",
       "next": "bc16cb02-dfce-11eb-b29f-0242ac120008",
       "previous": "bc16c60c-dfce-11eb-b29f-0242ac120008"
      },
      {
       "current": "bc16c922-dfce-11eb-b29f-0242ac120008",
       "next": "bc16cb02-dfce-11eb-b29f-0242ac120008",
       "previous": "039ee464-dfcf-11eb-b29f-0242ac120008"
      },
      {
       "current": "bc16c922-dfce-11eb-b29f-0242ac120008-1-ca1f",
       "next": "bc16cb02-dfce-11eb-b29f-0242ac120008",
       "previous": "039ee464-dfcf-11eb-b29f-0242ac120008-1-809c"
      },
      {
       "current": "bc16c922-dfce-11eb-b29f-0242ac120008-2-ca1f-7325",
       "next": "bc16cb02-dfce-11eb-b29f-0242ac120008-1-d4b8",
       "previous": "039ee464-dfcf-11eb-b29f-0242ac120008-2-809c-d4f3"
      },
      {
       "current": "bc16c922-dfce-11eb-b29f-0242ac120008-3-ca1f-7325-2802",
       "next": "bc16cb02-dfce-11eb-b29f-0242ac120008-2-d4b8-00fb",
       "previous": "039ee464-dfcf-11eb-b29f-0242ac120008-3-809c-d4f3-f863"
      },
      {
       "current": "bc16c922-dfce-11eb-b29f-0242ac120008-4-ca1f-7325-2802-d75f",
       "next": "bc16cb02-dfce-11eb-b29f-0242ac120008-3-d4b8-00fb-9c1b",
       "previous": "039ee464-dfcf-11eb-b29f-0242ac120008-4-809c-d4f3-f863-2575"
      },
      {
       "current": "bc16c922-dfce-11eb-b29f-0242ac120008-5-ca1f-7325-2802-d75f-b8fe",
       "next": "bc16cb02-dfce-11eb-b29f-0242ac120008-4-d4b8-00fb-9c1b-cb33",
       "previous": "039ee464-dfcf-11eb-b29f-0242ac120008-5-809c-d4f3-f863-2575-ffc8"
      },
      {
       "current": "bc16c922-dfce-11eb-b29f-0242ac120008-6-ca1f-7325-2802-d75f-b8fe-5258",
       "next": "bc16cb02-dfce-11eb-b29f-0242ac120008-5-d4b8-00fb-9c1b-cb33-9bcf",
       "previous": "039ee464-dfcf-11eb-b29f-0242ac120008-6-809c-d4f3-f863-2575-ffc8-5503"
      }
     ],
     "next": "bc16cb02-dfce-11eb-b29f-0242ac120008-6-d4b8-00fb-9c1b-cb33-9bcf-5d94",
     "previous": "039ee464-dfcf-11eb-b29f-0242ac120008-7-809c-d4f3-f863-2575-ffc8-5503-629b"
    }
   },
   "outputs": [],
   "source": [
    "!ansible -i $hosts -b -m dnf -a \"name='*' state=latest\" ceph_node"
   ]
  },
  {
   "cell_type": "code",
   "execution_count": null,
   "metadata": {
    "lc_cell_meme": {
     "current": "bc16cb02-dfce-11eb-b29f-0242ac120008-6-d4b8-00fb-9c1b-cb33-9bcf-5d94",
     "history": [
      {
       "current": "bc16cb02-dfce-11eb-b29f-0242ac120008",
       "next": "35c581ba-55a3-11e7-b0b2-00163e9c0e35-2-f60b-133a",
       "previous": "bc16c922-dfce-11eb-b29f-0242ac120008"
      },
      {
       "current": "bc16cb02-dfce-11eb-b29f-0242ac120008-1-d4b8",
       "next": "7cf7cab2-f4ea-11eb-b29f-0242ac120008",
       "previous": "bc16c922-dfce-11eb-b29f-0242ac120008"
      },
      {
       "current": "bc16cb02-dfce-11eb-b29f-0242ac120008-2-d4b8-00fb",
       "next": "7cf7cab2-f4ea-11eb-b29f-0242ac120008-1-b24b",
       "previous": "bc16c922-dfce-11eb-b29f-0242ac120008-1-ca1f"
      },
      {
       "current": "bc16cb02-dfce-11eb-b29f-0242ac120008-3-d4b8-00fb-9c1b",
       "next": "7cf7cab2-f4ea-11eb-b29f-0242ac120008-2-b24b-4250",
       "previous": "bc16c922-dfce-11eb-b29f-0242ac120008-2-ca1f-7325"
      },
      {
       "current": "bc16cb02-dfce-11eb-b29f-0242ac120008-4-d4b8-00fb-9c1b-cb33",
       "next": "7cf7cab2-f4ea-11eb-b29f-0242ac120008-3-b24b-4250-ae0d",
       "previous": "bc16c922-dfce-11eb-b29f-0242ac120008-3-ca1f-7325-2802"
      },
      {
       "current": "bc16cb02-dfce-11eb-b29f-0242ac120008-5-d4b8-00fb-9c1b-cb33-9bcf",
       "next": "7cf7cab2-f4ea-11eb-b29f-0242ac120008-4-b24b-4250-ae0d-b4e1",
       "previous": "bc16c922-dfce-11eb-b29f-0242ac120008-4-ca1f-7325-2802-d75f"
      },
      {
       "current": "bc16cb02-dfce-11eb-b29f-0242ac120008-6-d4b8-00fb-9c1b-cb33-9bcf-5d94",
       "next": "7cf7cab2-f4ea-11eb-b29f-0242ac120008-5-b24b-4250-ae0d-b4e1-d16d",
       "previous": "bc16c922-dfce-11eb-b29f-0242ac120008-5-ca1f-7325-2802-d75f-b8fe"
      }
     ],
     "next": "7cf7cab2-f4ea-11eb-b29f-0242ac120008-6-b24b-4250-ae0d-b4e1-d16d-a678",
     "previous": "bc16c922-dfce-11eb-b29f-0242ac120008-6-ca1f-7325-2802-d75f-b8fe-5258"
    }
   },
   "outputs": [],
   "source": [
    "!ansible -i $hosts -b -m reboot -a \"reboot_timeout=3600\" ceph_node"
   ]
  },
  {
   "cell_type": "markdown",
   "metadata": {
    "lc_cell_meme": {
     "current": "7cf7cab2-f4ea-11eb-b29f-0242ac120008-6-b24b-4250-ae0d-b4e1-d16d-a678",
     "history": [
      {
       "current": "7cf7cab2-f4ea-11eb-b29f-0242ac120008-1-b24b",
       "next": "7cf7cecc-f4ea-11eb-b29f-0242ac120008",
       "previous": "bc16cb02-dfce-11eb-b29f-0242ac120008"
      },
      {
       "current": "7cf7cab2-f4ea-11eb-b29f-0242ac120008-1-b24b",
       "next": "7cf7cecc-f4ea-11eb-b29f-0242ac120008-1-c98e",
       "previous": "bc16cb02-dfce-11eb-b29f-0242ac120008-1-d4b8"
      },
      {
       "current": "7cf7cab2-f4ea-11eb-b29f-0242ac120008-2-b24b-4250",
       "next": "f87c0c0a-6d8a-11ee-89fa-0242ac120005",
       "previous": "bc16cb02-dfce-11eb-b29f-0242ac120008-1-d4b8"
      },
      {
       "current": "7cf7cab2-f4ea-11eb-b29f-0242ac120008-3-b24b-4250-ae0d",
       "next": "f87c0c0a-6d8a-11ee-89fa-0242ac120005-1-dffd",
       "previous": "bc16cb02-dfce-11eb-b29f-0242ac120008-2-d4b8-00fb"
      },
      {
       "current": "7cf7cab2-f4ea-11eb-b29f-0242ac120008-4-b24b-4250-ae0d-b4e1",
       "next": "f87c0c0a-6d8a-11ee-89fa-0242ac120005-2-dffd-caf9",
       "previous": "bc16cb02-dfce-11eb-b29f-0242ac120008-3-d4b8-00fb-9c1b"
      },
      {
       "current": "7cf7cab2-f4ea-11eb-b29f-0242ac120008-5-b24b-4250-ae0d-b4e1-d16d",
       "next": "f87c0c0a-6d8a-11ee-89fa-0242ac120005-3-dffd-caf9-05d9",
       "previous": "bc16cb02-dfce-11eb-b29f-0242ac120008-4-d4b8-00fb-9c1b-cb33"
      },
      {
       "current": "7cf7cab2-f4ea-11eb-b29f-0242ac120008-6-b24b-4250-ae0d-b4e1-d16d-a678",
       "next": "f87c0c0a-6d8a-11ee-89fa-0242ac120005-4-dffd-caf9-05d9-adc8",
       "previous": "bc16cb02-dfce-11eb-b29f-0242ac120008-5-d4b8-00fb-9c1b-cb33-9bcf"
      }
     ],
     "next": "f87c0c0a-6d8a-11ee-89fa-0242ac120005-5-dffd-caf9-05d9-adc8-5e60",
     "previous": "bc16cb02-dfce-11eb-b29f-0242ac120008-6-d4b8-00fb-9c1b-cb33-9bcf-5d94"
    }
   },
   "source": [
    "# StrageSegment OVSブリッジ設定\n",
    "StrageSegmentに接続されているインタフェースを確認し、bonding接続したOVSブリッジの設定を行う。<br>\n",
    "StrageSegmentに接続されているR740のインタフェースは、スロット3の2番と、スロット4の1番となっている。"
   ]
  },
  {
   "cell_type": "code",
   "execution_count": null,
   "metadata": {
    "lc_cell_meme": {
     "current": "f87c0c0a-6d8a-11ee-89fa-0242ac120005-5-dffd-caf9-05d9-adc8-5e60",
     "history": [
      {
       "current": "f87c0c0a-6d8a-11ee-89fa-0242ac120005-1-dffd",
       "next": "7cf7cecc-f4ea-11eb-b29f-0242ac120008-1-c98e",
       "previous": "7cf7cab2-f4ea-11eb-b29f-0242ac120008-1-b24b"
      },
      {
       "current": "f87c0c0a-6d8a-11ee-89fa-0242ac120005-2-dffd-caf9",
       "next": "7cf7cecc-f4ea-11eb-b29f-0242ac120008-2-c98e-1225",
       "previous": "7cf7cab2-f4ea-11eb-b29f-0242ac120008-2-b24b-4250"
      },
      {
       "current": "f87c0c0a-6d8a-11ee-89fa-0242ac120005-3-dffd-caf9-05d9",
       "next": "7cf7cecc-f4ea-11eb-b29f-0242ac120008-3-c98e-1225-1b68",
       "previous": "7cf7cab2-f4ea-11eb-b29f-0242ac120008-3-b24b-4250-ae0d"
      },
      {
       "current": "f87c0c0a-6d8a-11ee-89fa-0242ac120005-4-dffd-caf9-05d9-adc8",
       "next": "7cf7cecc-f4ea-11eb-b29f-0242ac120008-4-c98e-1225-1b68-7c08",
       "previous": "7cf7cab2-f4ea-11eb-b29f-0242ac120008-4-b24b-4250-ae0d-b4e1"
      },
      {
       "current": "f87c0c0a-6d8a-11ee-89fa-0242ac120005-5-dffd-caf9-05d9-adc8-5e60",
       "next": "7cf7cecc-f4ea-11eb-b29f-0242ac120008-5-c98e-1225-1b68-7c08-7858",
       "previous": "7cf7cab2-f4ea-11eb-b29f-0242ac120008-5-b24b-4250-ae0d-b4e1-d16d"
      }
     ],
     "next": "7cf7cecc-f4ea-11eb-b29f-0242ac120008-6-c98e-1225-1b68-7c08-7858-cbe3",
     "previous": "7cf7cab2-f4ea-11eb-b29f-0242ac120008-6-b24b-4250-ae0d-b4e1-d16d-a678"
    }
   },
   "outputs": [],
   "source": [
    "print(\"ceph_node_strage_ip={}\".format(ceph_node_strage_ip))"
   ]
  },
  {
   "cell_type": "markdown",
   "metadata": {
    "lc_cell_meme": {
     "current": "7cf7cecc-f4ea-11eb-b29f-0242ac120008-6-c98e-1225-1b68-7c08-7858-cbe3",
     "history": [
      {
       "current": "7cf7cecc-f4ea-11eb-b29f-0242ac120008-1-c98e",
       "next": "7cf7d08e-f4ea-11eb-b29f-0242ac120008",
       "previous": "7cf7cab2-f4ea-11eb-b29f-0242ac120008"
      },
      {
       "current": "7cf7cecc-f4ea-11eb-b29f-0242ac120008-1-c98e",
       "next": "7cf7d08e-f4ea-11eb-b29f-0242ac120008-1-2fb9",
       "previous": "7cf7cab2-f4ea-11eb-b29f-0242ac120008-1-b24b"
      },
      {
       "current": "7cf7cecc-f4ea-11eb-b29f-0242ac120008-2-c98e-1225",
       "next": "7cf7d08e-f4ea-11eb-b29f-0242ac120008-1-2fb9",
       "previous": "f87c0c0a-6d8a-11ee-89fa-0242ac120005"
      },
      {
       "current": "7cf7cecc-f4ea-11eb-b29f-0242ac120008-3-c98e-1225-1b68",
       "next": "7cf7d08e-f4ea-11eb-b29f-0242ac120008-2-2fb9-5aaa",
       "previous": "f87c0c0a-6d8a-11ee-89fa-0242ac120005-1-dffd"
      },
      {
       "current": "7cf7cecc-f4ea-11eb-b29f-0242ac120008-4-c98e-1225-1b68-7c08",
       "next": "7cf7d08e-f4ea-11eb-b29f-0242ac120008-3-2fb9-5aaa-df2e",
       "previous": "f87c0c0a-6d8a-11ee-89fa-0242ac120005-2-dffd-caf9"
      },
      {
       "current": "7cf7cecc-f4ea-11eb-b29f-0242ac120008-5-c98e-1225-1b68-7c08-7858",
       "next": "7cf7d08e-f4ea-11eb-b29f-0242ac120008-4-2fb9-5aaa-df2e-23f3",
       "previous": "f87c0c0a-6d8a-11ee-89fa-0242ac120005-3-dffd-caf9-05d9"
      },
      {
       "current": "7cf7cecc-f4ea-11eb-b29f-0242ac120008-6-c98e-1225-1b68-7c08-7858-cbe3",
       "next": "7cf7d08e-f4ea-11eb-b29f-0242ac120008-5-2fb9-5aaa-df2e-23f3-7810",
       "previous": "f87c0c0a-6d8a-11ee-89fa-0242ac120005-4-dffd-caf9-05d9-adc8"
      }
     ],
     "next": "7cf7d08e-f4ea-11eb-b29f-0242ac120008-6-2fb9-5aaa-df2e-23f3-7810-38e5",
     "previous": "f87c0c0a-6d8a-11ee-89fa-0242ac120005-5-dffd-caf9-05d9-adc8-5e60"
    }
   },
   "source": [
    "## インタフェース状態確認"
   ]
  },
  {
   "cell_type": "code",
   "execution_count": null,
   "metadata": {
    "lc_cell_meme": {
     "current": "7cf7d08e-f4ea-11eb-b29f-0242ac120008-6-2fb9-5aaa-df2e-23f3-7810-38e5",
     "history": [
      {
       "current": "7cf7d08e-f4ea-11eb-b29f-0242ac120008",
       "next": "7cf7d20a-f4ea-11eb-b29f-0242ac120008",
       "previous": "7cf7cecc-f4ea-11eb-b29f-0242ac120008"
      },
      {
       "current": "7cf7d08e-f4ea-11eb-b29f-0242ac120008",
       "next": "6f41fc32-1cfb-11ed-a1da-0242ac120004",
       "previous": "7cf7cecc-f4ea-11eb-b29f-0242ac120008"
      },
      {
       "current": "7cf7d08e-f4ea-11eb-b29f-0242ac120008-1-2fb9",
       "next": "7cf7d20a-f4ea-11eb-b29f-0242ac120008",
       "previous": "7cf7cecc-f4ea-11eb-b29f-0242ac120008"
      },
      {
       "current": "7cf7d08e-f4ea-11eb-b29f-0242ac120008-2-2fb9-5aaa",
       "next": "7cf7d20a-f4ea-11eb-b29f-0242ac120008-1-1230",
       "previous": "7cf7cecc-f4ea-11eb-b29f-0242ac120008-1-c98e"
      },
      {
       "current": "7cf7d08e-f4ea-11eb-b29f-0242ac120008-3-2fb9-5aaa-df2e",
       "next": "7cf7d20a-f4ea-11eb-b29f-0242ac120008-2-1230-bbcf",
       "previous": "7cf7cecc-f4ea-11eb-b29f-0242ac120008-2-c98e-1225"
      },
      {
       "current": "7cf7d08e-f4ea-11eb-b29f-0242ac120008-4-2fb9-5aaa-df2e-23f3",
       "next": "7cf7d20a-f4ea-11eb-b29f-0242ac120008-3-1230-bbcf-e4ef",
       "previous": "7cf7cecc-f4ea-11eb-b29f-0242ac120008-3-c98e-1225-1b68"
      },
      {
       "current": "7cf7d08e-f4ea-11eb-b29f-0242ac120008-5-2fb9-5aaa-df2e-23f3-7810",
       "next": "7cf7d20a-f4ea-11eb-b29f-0242ac120008-4-1230-bbcf-e4ef-b721",
       "previous": "7cf7cecc-f4ea-11eb-b29f-0242ac120008-4-c98e-1225-1b68-7c08"
      },
      {
       "current": "7cf7d08e-f4ea-11eb-b29f-0242ac120008-6-2fb9-5aaa-df2e-23f3-7810-38e5",
       "next": "7cf7d20a-f4ea-11eb-b29f-0242ac120008-5-1230-bbcf-e4ef-b721-f77a",
       "previous": "7cf7cecc-f4ea-11eb-b29f-0242ac120008-5-c98e-1225-1b68-7c08-7858"
      }
     ],
     "next": "7cf7d20a-f4ea-11eb-b29f-0242ac120008-6-1230-bbcf-e4ef-b721-f77a-41cc",
     "previous": "7cf7cecc-f4ea-11eb-b29f-0242ac120008-6-c98e-1225-1b68-7c08-7858-cbe3"
    }
   },
   "outputs": [],
   "source": [
    "!ansible -i $hosts -b -m shell -a \"nmcli conn show\" ceph_node"
   ]
  },
  {
   "cell_type": "code",
   "execution_count": null,
   "metadata": {
    "lc_cell_meme": {
     "current": "7cf7d20a-f4ea-11eb-b29f-0242ac120008-6-1230-bbcf-e4ef-b721-f77a-41cc",
     "history": [
      {
       "current": "7cf7d20a-f4ea-11eb-b29f-0242ac120008",
       "next": "7cf7d372-f4ea-11eb-b29f-0242ac120008",
       "previous": "7cf7d08e-f4ea-11eb-b29f-0242ac120008"
      },
      {
       "current": "7cf7d20a-f4ea-11eb-b29f-0242ac120008",
       "next": "7cf7d372-f4ea-11eb-b29f-0242ac120008",
       "previous": "6f41fc32-1cfb-11ed-a1da-0242ac120004"
      },
      {
       "current": "7cf7d20a-f4ea-11eb-b29f-0242ac120008-1-1230",
       "next": "7cf7d372-f4ea-11eb-b29f-0242ac120008",
       "previous": "7cf7d08e-f4ea-11eb-b29f-0242ac120008"
      },
      {
       "current": "7cf7d20a-f4ea-11eb-b29f-0242ac120008-1-1230",
       "next": "7cf7d372-f4ea-11eb-b29f-0242ac120008-1-7d17",
       "previous": "7cf7d08e-f4ea-11eb-b29f-0242ac120008-1-2fb9"
      },
      {
       "current": "7cf7d20a-f4ea-11eb-b29f-0242ac120008-2-1230-bbcf",
       "next": "f2c34cf0-6bce-11ee-89fa-0242ac120005",
       "previous": "7cf7d08e-f4ea-11eb-b29f-0242ac120008-1-2fb9"
      },
      {
       "current": "7cf7d20a-f4ea-11eb-b29f-0242ac120008-3-1230-bbcf-e4ef",
       "next": "f2c34cf0-6bce-11ee-89fa-0242ac120005-1-3fc8",
       "previous": "7cf7d08e-f4ea-11eb-b29f-0242ac120008-2-2fb9-5aaa"
      },
      {
       "current": "7cf7d20a-f4ea-11eb-b29f-0242ac120008-4-1230-bbcf-e4ef-b721",
       "next": "f2c34cf0-6bce-11ee-89fa-0242ac120005-2-3fc8-6303",
       "previous": "7cf7d08e-f4ea-11eb-b29f-0242ac120008-3-2fb9-5aaa-df2e"
      },
      {
       "current": "7cf7d20a-f4ea-11eb-b29f-0242ac120008-5-1230-bbcf-e4ef-b721-f77a",
       "next": "f2c34cf0-6bce-11ee-89fa-0242ac120005-3-3fc8-6303-ef98",
       "previous": "7cf7d08e-f4ea-11eb-b29f-0242ac120008-4-2fb9-5aaa-df2e-23f3"
      },
      {
       "current": "7cf7d20a-f4ea-11eb-b29f-0242ac120008-6-1230-bbcf-e4ef-b721-f77a-41cc",
       "next": "f2c34cf0-6bce-11ee-89fa-0242ac120005-4-3fc8-6303-ef98-050a",
       "previous": "7cf7d08e-f4ea-11eb-b29f-0242ac120008-5-2fb9-5aaa-df2e-23f3-7810"
      }
     ],
     "next": "f2c34cf0-6bce-11ee-89fa-0242ac120005-5-3fc8-6303-ef98-050a-6af0",
     "previous": "7cf7d08e-f4ea-11eb-b29f-0242ac120008-6-2fb9-5aaa-df2e-23f3-7810-38e5"
    }
   },
   "outputs": [],
   "source": [
    "!ansible -i $hosts -b -m shell -a \"nmcli d\" ceph_node"
   ]
  },
  {
   "cell_type": "code",
   "execution_count": null,
   "metadata": {
    "lc_cell_meme": {
     "current": "f2c34cf0-6bce-11ee-89fa-0242ac120005-5-3fc8-6303-ef98-050a-6af0",
     "history": [
      {
       "current": "f2c34cf0-6bce-11ee-89fa-0242ac120005-1-3fc8",
       "next": "7cf7d372-f4ea-11eb-b29f-0242ac120008-1-7d17",
       "previous": "7cf7d20a-f4ea-11eb-b29f-0242ac120008-1-1230"
      },
      {
       "current": "f2c34cf0-6bce-11ee-89fa-0242ac120005-2-3fc8-6303",
       "next": "7cf7d372-f4ea-11eb-b29f-0242ac120008-2-7d17-ed1c",
       "previous": "7cf7d20a-f4ea-11eb-b29f-0242ac120008-2-1230-bbcf"
      },
      {
       "current": "f2c34cf0-6bce-11ee-89fa-0242ac120005-3-3fc8-6303-ef98",
       "next": "7cf7d372-f4ea-11eb-b29f-0242ac120008-3-7d17-ed1c-84c9",
       "previous": "7cf7d20a-f4ea-11eb-b29f-0242ac120008-3-1230-bbcf-e4ef"
      },
      {
       "current": "f2c34cf0-6bce-11ee-89fa-0242ac120005-4-3fc8-6303-ef98-050a",
       "next": "7cf7d372-f4ea-11eb-b29f-0242ac120008-4-7d17-ed1c-84c9-fc53",
       "previous": "7cf7d20a-f4ea-11eb-b29f-0242ac120008-4-1230-bbcf-e4ef-b721"
      },
      {
       "current": "f2c34cf0-6bce-11ee-89fa-0242ac120005-5-3fc8-6303-ef98-050a-6af0",
       "next": "7cf7d372-f4ea-11eb-b29f-0242ac120008-5-7d17-ed1c-84c9-fc53-f765",
       "previous": "7cf7d20a-f4ea-11eb-b29f-0242ac120008-5-1230-bbcf-e4ef-b721-f77a"
      }
     ],
     "next": "7cf7d372-f4ea-11eb-b29f-0242ac120008-6-7d17-ed1c-84c9-fc53-f765-2f51",
     "previous": "7cf7d20a-f4ea-11eb-b29f-0242ac120008-6-1230-bbcf-e4ef-b721-f77a-41cc"
    }
   },
   "outputs": [],
   "source": [
    "# StrageSegmentに接続されているR740/750のbonding対象インタフェース名称を確認する\n",
    "raise Exception('この先手作業が必要です')"
   ]
  },
  {
   "cell_type": "code",
   "execution_count": null,
   "metadata": {
    "lc_cell_meme": {
     "current": "7cf7d372-f4ea-11eb-b29f-0242ac120008-6-7d17-ed1c-84c9-fc53-f765-2f51",
     "history": [
      {
       "current": "7cf7d372-f4ea-11eb-b29f-0242ac120008",
       "next": "7cf7d4da-f4ea-11eb-b29f-0242ac120008",
       "previous": "7cf7d20a-f4ea-11eb-b29f-0242ac120008"
      },
      {
       "current": "7cf7d372-f4ea-11eb-b29f-0242ac120008-1-7d17",
       "next": "d8bc3bd0-f4ea-11eb-b29f-0242ac120008",
       "previous": "7cf7d20a-f4ea-11eb-b29f-0242ac120008"
      },
      {
       "current": "7cf7d372-f4ea-11eb-b29f-0242ac120008-1-7d17",
       "next": "d8bc3bd0-f4ea-11eb-b29f-0242ac120008-1-160d",
       "previous": "7cf7d20a-f4ea-11eb-b29f-0242ac120008-1-1230"
      },
      {
       "current": "7cf7d372-f4ea-11eb-b29f-0242ac120008-2-7d17-ed1c",
       "next": "d8bc3bd0-f4ea-11eb-b29f-0242ac120008-1-160d",
       "previous": "f2c34cf0-6bce-11ee-89fa-0242ac120005"
      },
      {
       "current": "7cf7d372-f4ea-11eb-b29f-0242ac120008-3-7d17-ed1c-84c9",
       "next": "d8bc3bd0-f4ea-11eb-b29f-0242ac120008-2-160d-499f",
       "previous": "f2c34cf0-6bce-11ee-89fa-0242ac120005-1-3fc8"
      },
      {
       "current": "7cf7d372-f4ea-11eb-b29f-0242ac120008-4-7d17-ed1c-84c9-fc53",
       "next": "d8bc3bd0-f4ea-11eb-b29f-0242ac120008-3-160d-499f-9820",
       "previous": "f2c34cf0-6bce-11ee-89fa-0242ac120005-2-3fc8-6303"
      },
      {
       "current": "7cf7d372-f4ea-11eb-b29f-0242ac120008-5-7d17-ed1c-84c9-fc53-f765",
       "next": "d8bc3bd0-f4ea-11eb-b29f-0242ac120008-4-160d-499f-9820-1e07",
       "previous": "f2c34cf0-6bce-11ee-89fa-0242ac120005-3-3fc8-6303-ef98"
      },
      {
       "current": "7cf7d372-f4ea-11eb-b29f-0242ac120008-6-7d17-ed1c-84c9-fc53-f765-2f51",
       "next": "d8bc3bd0-f4ea-11eb-b29f-0242ac120008-5-160d-499f-9820-1e07-a0ba",
       "previous": "f2c34cf0-6bce-11ee-89fa-0242ac120005-4-3fc8-6303-ef98-050a"
      }
     ],
     "next": "d8bc3bd0-f4ea-11eb-b29f-0242ac120008-6-160d-499f-9820-1e07-a0ba-8eb0",
     "previous": "f2c34cf0-6bce-11ee-89fa-0242ac120005-5-3fc8-6303-ef98-050a-6af0"
    }
   },
   "outputs": [],
   "source": [
    "# StrageSegmentに接続されているR740/750のbonding対象インタフェース名称を定義する\n",
    "interface_list = [\"ens3f1\",\"ens4f1\"]\n",
    "\n",
    "bounding_if = \"strage_bond\"\n",
    "strage_bridge = \"br-ceph\"\n",
    "loca_if = \"br-ceph-local\""
   ]
  },
  {
   "cell_type": "markdown",
   "metadata": {
    "lc_cell_meme": {
     "current": "d8bc3bd0-f4ea-11eb-b29f-0242ac120008-6-160d-499f-9820-1e07-a0ba-8eb0",
     "history": [
      {
       "current": "d8bc3bd0-f4ea-11eb-b29f-0242ac120008-1-160d",
       "next": "d8bc3eb4-f4ea-11eb-b29f-0242ac120008",
       "previous": "7cf7d372-f4ea-11eb-b29f-0242ac120008"
      },
      {
       "current": "d8bc3bd0-f4ea-11eb-b29f-0242ac120008-2-160d-499f",
       "next": "d8bc3eb4-f4ea-11eb-b29f-0242ac120008-1-f4d0",
       "previous": "7cf7d372-f4ea-11eb-b29f-0242ac120008-1-7d17"
      },
      {
       "current": "d8bc3bd0-f4ea-11eb-b29f-0242ac120008-3-160d-499f-9820",
       "next": "d8bc3eb4-f4ea-11eb-b29f-0242ac120008-2-f4d0-3d69",
       "previous": "7cf7d372-f4ea-11eb-b29f-0242ac120008-2-7d17-ed1c"
      },
      {
       "current": "d8bc3bd0-f4ea-11eb-b29f-0242ac120008-4-160d-499f-9820-1e07",
       "next": "d8bc3eb4-f4ea-11eb-b29f-0242ac120008-3-f4d0-3d69-ed59",
       "previous": "7cf7d372-f4ea-11eb-b29f-0242ac120008-3-7d17-ed1c-84c9"
      },
      {
       "current": "d8bc3bd0-f4ea-11eb-b29f-0242ac120008-5-160d-499f-9820-1e07-a0ba",
       "next": "d8bc3eb4-f4ea-11eb-b29f-0242ac120008-4-f4d0-3d69-ed59-cac1",
       "previous": "7cf7d372-f4ea-11eb-b29f-0242ac120008-4-7d17-ed1c-84c9-fc53"
      },
      {
       "current": "d8bc3bd0-f4ea-11eb-b29f-0242ac120008-6-160d-499f-9820-1e07-a0ba-8eb0",
       "next": "d8bc3eb4-f4ea-11eb-b29f-0242ac120008-5-f4d0-3d69-ed59-cac1-a547",
       "previous": "7cf7d372-f4ea-11eb-b29f-0242ac120008-5-7d17-ed1c-84c9-fc53-f765"
      }
     ],
     "next": "d8bc3eb4-f4ea-11eb-b29f-0242ac120008-6-f4d0-3d69-ed59-cac1-a547-cbb0",
     "previous": "7cf7d372-f4ea-11eb-b29f-0242ac120008-6-7d17-ed1c-84c9-fc53-f765-2f51"
    }
   },
   "source": [
    "## OVSブリッジ生成"
   ]
  },
  {
   "cell_type": "code",
   "execution_count": null,
   "metadata": {
    "lc_cell_meme": {
     "current": "d8bc3eb4-f4ea-11eb-b29f-0242ac120008-6-f4d0-3d69-ed59-cac1-a547-cbb0",
     "history": [
      {
       "current": "d8bc3eb4-f4ea-11eb-b29f-0242ac120008",
       "next": "d8bc4062-f4ea-11eb-b29f-0242ac120008",
       "previous": "d8bc3bd0-f4ea-11eb-b29f-0242ac120008"
      },
      {
       "current": "d8bc3eb4-f4ea-11eb-b29f-0242ac120008-1-f4d0",
       "next": "b6d2d684-1cfb-11ed-a1da-0242ac120004",
       "previous": "d8bc3bd0-f4ea-11eb-b29f-0242ac120008"
      },
      {
       "current": "d8bc3eb4-f4ea-11eb-b29f-0242ac120008-2-f4d0-3d69",
       "next": "b6d2d684-1cfb-11ed-a1da-0242ac120004-1-9330",
       "previous": "d8bc3bd0-f4ea-11eb-b29f-0242ac120008-1-160d"
      },
      {
       "current": "d8bc3eb4-f4ea-11eb-b29f-0242ac120008-3-f4d0-3d69-ed59",
       "next": "b6d2d684-1cfb-11ed-a1da-0242ac120004-2-9330-e53b",
       "previous": "d8bc3bd0-f4ea-11eb-b29f-0242ac120008-2-160d-499f"
      },
      {
       "current": "d8bc3eb4-f4ea-11eb-b29f-0242ac120008-4-f4d0-3d69-ed59-cac1",
       "next": "b6d2d684-1cfb-11ed-a1da-0242ac120004-3-9330-e53b-452e",
       "previous": "d8bc3bd0-f4ea-11eb-b29f-0242ac120008-3-160d-499f-9820"
      },
      {
       "current": "d8bc3eb4-f4ea-11eb-b29f-0242ac120008-5-f4d0-3d69-ed59-cac1-a547",
       "next": "b6d2d684-1cfb-11ed-a1da-0242ac120004-4-9330-e53b-452e-05b8",
       "previous": "d8bc3bd0-f4ea-11eb-b29f-0242ac120008-4-160d-499f-9820-1e07"
      },
      {
       "current": "d8bc3eb4-f4ea-11eb-b29f-0242ac120008-6-f4d0-3d69-ed59-cac1-a547-cbb0",
       "next": "b6d2d684-1cfb-11ed-a1da-0242ac120004-5-9330-e53b-452e-05b8-995b",
       "previous": "d8bc3bd0-f4ea-11eb-b29f-0242ac120008-5-160d-499f-9820-1e07-a0ba"
      }
     ],
     "next": "b6d2d684-1cfb-11ed-a1da-0242ac120004-6-9330-e53b-452e-05b8-995b-e375",
     "previous": "d8bc3bd0-f4ea-11eb-b29f-0242ac120008-6-160d-499f-9820-1e07-a0ba-8eb0"
    }
   },
   "outputs": [],
   "source": [
    "!ansible -i $hosts -b -m shell -a \"nmcli conn add type ovs-bridge conn.interface {strage_bridge}\" ceph_node"
   ]
  },
  {
   "cell_type": "code",
   "execution_count": null,
   "metadata": {
    "lc_cell_meme": {
     "current": "b6d2d684-1cfb-11ed-a1da-0242ac120004-6-9330-e53b-452e-05b8-995b-e375",
     "history": [
      {
       "current": "b6d2d684-1cfb-11ed-a1da-0242ac120004-1-9330",
       "next": "d8bc4062-f4ea-11eb-b29f-0242ac120008",
       "previous": "d8bc3eb4-f4ea-11eb-b29f-0242ac120008"
      },
      {
       "current": "b6d2d684-1cfb-11ed-a1da-0242ac120004-2-9330-e53b",
       "next": "d8bc4062-f4ea-11eb-b29f-0242ac120008-1-585c",
       "previous": "d8bc3eb4-f4ea-11eb-b29f-0242ac120008-1-f4d0"
      },
      {
       "current": "b6d2d684-1cfb-11ed-a1da-0242ac120004-3-9330-e53b-452e",
       "next": "d8bc4062-f4ea-11eb-b29f-0242ac120008-2-585c-b85c",
       "previous": "d8bc3eb4-f4ea-11eb-b29f-0242ac120008-2-f4d0-3d69"
      },
      {
       "current": "b6d2d684-1cfb-11ed-a1da-0242ac120004-4-9330-e53b-452e-05b8",
       "next": "d8bc4062-f4ea-11eb-b29f-0242ac120008-3-585c-b85c-58b4",
       "previous": "d8bc3eb4-f4ea-11eb-b29f-0242ac120008-3-f4d0-3d69-ed59"
      },
      {
       "current": "b6d2d684-1cfb-11ed-a1da-0242ac120004-5-9330-e53b-452e-05b8-995b",
       "next": "d8bc4062-f4ea-11eb-b29f-0242ac120008-4-585c-b85c-58b4-a44d",
       "previous": "d8bc3eb4-f4ea-11eb-b29f-0242ac120008-4-f4d0-3d69-ed59-cac1"
      },
      {
       "current": "b6d2d684-1cfb-11ed-a1da-0242ac120004-6-9330-e53b-452e-05b8-995b-e375",
       "next": "d8bc4062-f4ea-11eb-b29f-0242ac120008-5-585c-b85c-58b4-a44d-3296",
       "previous": "d8bc3eb4-f4ea-11eb-b29f-0242ac120008-5-f4d0-3d69-ed59-cac1-a547"
      }
     ],
     "next": "d8bc4062-f4ea-11eb-b29f-0242ac120008-6-585c-b85c-58b4-a44d-3296-fc7a",
     "previous": "d8bc3eb4-f4ea-11eb-b29f-0242ac120008-6-f4d0-3d69-ed59-cac1-a547-cbb0"
    }
   },
   "outputs": [],
   "source": [
    "!sleep 5"
   ]
  },
  {
   "cell_type": "markdown",
   "metadata": {
    "lc_cell_meme": {
     "current": "d8bc4062-f4ea-11eb-b29f-0242ac120008-6-585c-b85c-58b4-a44d-3296-fc7a",
     "history": [
      {
       "current": "d8bc4062-f4ea-11eb-b29f-0242ac120008",
       "next": "d8bc41d4-f4ea-11eb-b29f-0242ac120008",
       "previous": "d8bc3eb4-f4ea-11eb-b29f-0242ac120008"
      },
      {
       "current": "d8bc4062-f4ea-11eb-b29f-0242ac120008-1-585c",
       "next": "d8bc41d4-f4ea-11eb-b29f-0242ac120008",
       "previous": "b6d2d684-1cfb-11ed-a1da-0242ac120004"
      },
      {
       "current": "d8bc4062-f4ea-11eb-b29f-0242ac120008-2-585c-b85c",
       "next": "d8bc41d4-f4ea-11eb-b29f-0242ac120008-1-74ca",
       "previous": "b6d2d684-1cfb-11ed-a1da-0242ac120004-1-9330"
      },
      {
       "current": "d8bc4062-f4ea-11eb-b29f-0242ac120008-3-585c-b85c-58b4",
       "next": "d8bc41d4-f4ea-11eb-b29f-0242ac120008-2-74ca-d6ba",
       "previous": "b6d2d684-1cfb-11ed-a1da-0242ac120004-2-9330-e53b"
      },
      {
       "current": "d8bc4062-f4ea-11eb-b29f-0242ac120008-4-585c-b85c-58b4-a44d",
       "next": "d8bc41d4-f4ea-11eb-b29f-0242ac120008-3-74ca-d6ba-a1b8",
       "previous": "b6d2d684-1cfb-11ed-a1da-0242ac120004-3-9330-e53b-452e"
      },
      {
       "current": "d8bc4062-f4ea-11eb-b29f-0242ac120008-5-585c-b85c-58b4-a44d-3296",
       "next": "d8bc41d4-f4ea-11eb-b29f-0242ac120008-4-74ca-d6ba-a1b8-9402",
       "previous": "b6d2d684-1cfb-11ed-a1da-0242ac120004-4-9330-e53b-452e-05b8"
      },
      {
       "current": "d8bc4062-f4ea-11eb-b29f-0242ac120008-6-585c-b85c-58b4-a44d-3296-fc7a",
       "next": "d8bc41d4-f4ea-11eb-b29f-0242ac120008-5-74ca-d6ba-a1b8-9402-12de",
       "previous": "b6d2d684-1cfb-11ed-a1da-0242ac120004-5-9330-e53b-452e-05b8-995b"
      }
     ],
     "next": "d8bc41d4-f4ea-11eb-b29f-0242ac120008-6-74ca-d6ba-a1b8-9402-12de-73c4",
     "previous": "b6d2d684-1cfb-11ed-a1da-0242ac120004-6-9330-e53b-452e-05b8-995b-e375"
    }
   },
   "source": [
    "## Bonding インタフェース生成"
   ]
  },
  {
   "cell_type": "code",
   "execution_count": null,
   "metadata": {
    "lc_cell_meme": {
     "current": "d8bc41d4-f4ea-11eb-b29f-0242ac120008-6-74ca-d6ba-a1b8-9402-12de-73c4",
     "history": [
      {
       "current": "d8bc41d4-f4ea-11eb-b29f-0242ac120008",
       "next": "d8bc433c-f4ea-11eb-b29f-0242ac120008",
       "previous": "d8bc4062-f4ea-11eb-b29f-0242ac120008"
      },
      {
       "current": "d8bc41d4-f4ea-11eb-b29f-0242ac120008-1-74ca",
       "next": "b6d2d986-1cfb-11ed-a1da-0242ac120004",
       "previous": "d8bc4062-f4ea-11eb-b29f-0242ac120008"
      },
      {
       "current": "d8bc41d4-f4ea-11eb-b29f-0242ac120008-2-74ca-d6ba",
       "next": "b6d2d986-1cfb-11ed-a1da-0242ac120004-1-ce7c",
       "previous": "d8bc4062-f4ea-11eb-b29f-0242ac120008-1-585c"
      },
      {
       "current": "d8bc41d4-f4ea-11eb-b29f-0242ac120008-3-74ca-d6ba-a1b8",
       "next": "b6d2d986-1cfb-11ed-a1da-0242ac120004-2-ce7c-b05f",
       "previous": "d8bc4062-f4ea-11eb-b29f-0242ac120008-2-585c-b85c"
      },
      {
       "current": "d8bc41d4-f4ea-11eb-b29f-0242ac120008-4-74ca-d6ba-a1b8-9402",
       "next": "b6d2d986-1cfb-11ed-a1da-0242ac120004-3-ce7c-b05f-1038",
       "previous": "d8bc4062-f4ea-11eb-b29f-0242ac120008-3-585c-b85c-58b4"
      },
      {
       "current": "d8bc41d4-f4ea-11eb-b29f-0242ac120008-5-74ca-d6ba-a1b8-9402-12de",
       "next": "b6d2d986-1cfb-11ed-a1da-0242ac120004-4-ce7c-b05f-1038-69e5",
       "previous": "d8bc4062-f4ea-11eb-b29f-0242ac120008-4-585c-b85c-58b4-a44d"
      },
      {
       "current": "d8bc41d4-f4ea-11eb-b29f-0242ac120008-6-74ca-d6ba-a1b8-9402-12de-73c4",
       "next": "b6d2d986-1cfb-11ed-a1da-0242ac120004-5-ce7c-b05f-1038-69e5-e16c",
       "previous": "d8bc4062-f4ea-11eb-b29f-0242ac120008-5-585c-b85c-58b4-a44d-3296"
      }
     ],
     "next": "b6d2d986-1cfb-11ed-a1da-0242ac120004-6-ce7c-b05f-1038-69e5-e16c-e108",
     "previous": "d8bc4062-f4ea-11eb-b29f-0242ac120008-6-585c-b85c-58b4-a44d-3296-fc7a"
    }
   },
   "outputs": [],
   "source": [
    "!ansible -i $hosts -b -m shell -a \"nmcli conn add type ovs-port conn.interface port1 master {strage_bridge}\" ceph_node"
   ]
  },
  {
   "cell_type": "code",
   "execution_count": null,
   "metadata": {
    "lc_cell_meme": {
     "current": "b6d2d986-1cfb-11ed-a1da-0242ac120004-6-ce7c-b05f-1038-69e5-e16c-e108",
     "history": [
      {
       "current": "b6d2d986-1cfb-11ed-a1da-0242ac120004-1-ce7c",
       "next": "d8bc433c-f4ea-11eb-b29f-0242ac120008",
       "previous": "d8bc41d4-f4ea-11eb-b29f-0242ac120008"
      },
      {
       "current": "b6d2d986-1cfb-11ed-a1da-0242ac120004-2-ce7c-b05f",
       "next": "d8bc433c-f4ea-11eb-b29f-0242ac120008-1-5915",
       "previous": "d8bc41d4-f4ea-11eb-b29f-0242ac120008-1-74ca"
      },
      {
       "current": "b6d2d986-1cfb-11ed-a1da-0242ac120004-3-ce7c-b05f-1038",
       "next": "d8bc433c-f4ea-11eb-b29f-0242ac120008-2-5915-c8de",
       "previous": "d8bc41d4-f4ea-11eb-b29f-0242ac120008-2-74ca-d6ba"
      },
      {
       "current": "b6d2d986-1cfb-11ed-a1da-0242ac120004-4-ce7c-b05f-1038-69e5",
       "next": "d8bc433c-f4ea-11eb-b29f-0242ac120008-3-5915-c8de-4719",
       "previous": "d8bc41d4-f4ea-11eb-b29f-0242ac120008-3-74ca-d6ba-a1b8"
      },
      {
       "current": "b6d2d986-1cfb-11ed-a1da-0242ac120004-5-ce7c-b05f-1038-69e5-e16c",
       "next": "d8bc433c-f4ea-11eb-b29f-0242ac120008-4-5915-c8de-4719-3a75",
       "previous": "d8bc41d4-f4ea-11eb-b29f-0242ac120008-4-74ca-d6ba-a1b8-9402"
      },
      {
       "current": "b6d2d986-1cfb-11ed-a1da-0242ac120004-6-ce7c-b05f-1038-69e5-e16c-e108",
       "next": "d8bc433c-f4ea-11eb-b29f-0242ac120008-5-5915-c8de-4719-3a75-0a51",
       "previous": "d8bc41d4-f4ea-11eb-b29f-0242ac120008-5-74ca-d6ba-a1b8-9402-12de"
      }
     ],
     "next": "d8bc433c-f4ea-11eb-b29f-0242ac120008-6-5915-c8de-4719-3a75-0a51-9535",
     "previous": "d8bc41d4-f4ea-11eb-b29f-0242ac120008-6-74ca-d6ba-a1b8-9402-12de-73c4"
    }
   },
   "outputs": [],
   "source": [
    "!sleep 5"
   ]
  },
  {
   "cell_type": "code",
   "execution_count": null,
   "metadata": {
    "lc_cell_meme": {
     "current": "d8bc433c-f4ea-11eb-b29f-0242ac120008-6-5915-c8de-4719-3a75-0a51-9535",
     "history": [
      {
       "current": "d8bc433c-f4ea-11eb-b29f-0242ac120008",
       "next": "7cf7d4da-f4ea-11eb-b29f-0242ac120008",
       "previous": "d8bc41d4-f4ea-11eb-b29f-0242ac120008"
      },
      {
       "current": "d8bc433c-f4ea-11eb-b29f-0242ac120008",
       "next": "1d3db240-184c-11ed-a1da-0242ac120004",
       "previous": "d8bc41d4-f4ea-11eb-b29f-0242ac120008"
      },
      {
       "current": "d8bc433c-f4ea-11eb-b29f-0242ac120008-1-5915",
       "next": "b6d2db5c-1cfb-11ed-a1da-0242ac120004",
       "previous": "b6d2d986-1cfb-11ed-a1da-0242ac120004"
      },
      {
       "current": "d8bc433c-f4ea-11eb-b29f-0242ac120008-2-5915-c8de",
       "next": "b6d2db5c-1cfb-11ed-a1da-0242ac120004-1-cf09",
       "previous": "b6d2d986-1cfb-11ed-a1da-0242ac120004-1-ce7c"
      },
      {
       "current": "d8bc433c-f4ea-11eb-b29f-0242ac120008-3-5915-c8de-4719",
       "next": "b6d2db5c-1cfb-11ed-a1da-0242ac120004-2-cf09-8e6b",
       "previous": "b6d2d986-1cfb-11ed-a1da-0242ac120004-2-ce7c-b05f"
      },
      {
       "current": "d8bc433c-f4ea-11eb-b29f-0242ac120008-4-5915-c8de-4719-3a75",
       "next": "b6d2db5c-1cfb-11ed-a1da-0242ac120004-3-cf09-8e6b-d5e6",
       "previous": "b6d2d986-1cfb-11ed-a1da-0242ac120004-3-ce7c-b05f-1038"
      },
      {
       "current": "d8bc433c-f4ea-11eb-b29f-0242ac120008-5-5915-c8de-4719-3a75-0a51",
       "next": "b6d2db5c-1cfb-11ed-a1da-0242ac120004-4-cf09-8e6b-d5e6-961e",
       "previous": "b6d2d986-1cfb-11ed-a1da-0242ac120004-4-ce7c-b05f-1038-69e5"
      },
      {
       "current": "d8bc433c-f4ea-11eb-b29f-0242ac120008-6-5915-c8de-4719-3a75-0a51-9535",
       "next": "b6d2db5c-1cfb-11ed-a1da-0242ac120004-5-cf09-8e6b-d5e6-961e-6a1a",
       "previous": "b6d2d986-1cfb-11ed-a1da-0242ac120004-5-ce7c-b05f-1038-69e5-e16c"
      }
     ],
     "next": "b6d2db5c-1cfb-11ed-a1da-0242ac120004-6-cf09-8e6b-d5e6-961e-6a1a-84e6",
     "previous": "b6d2d986-1cfb-11ed-a1da-0242ac120004-6-ce7c-b05f-1038-69e5-e16c-e108"
    }
   },
   "outputs": [],
   "source": [
    "!ansible -i $hosts -b -m shell -a \"nmcli conn add type bond con-name {bounding_if} ifname {bounding_if} mode 802.3ad master port1\" ceph_node"
   ]
  },
  {
   "cell_type": "code",
   "execution_count": null,
   "metadata": {
    "lc_cell_meme": {
     "current": "b6d2db5c-1cfb-11ed-a1da-0242ac120004-6-cf09-8e6b-d5e6-961e-6a1a-84e6",
     "history": [
      {
       "current": "b6d2db5c-1cfb-11ed-a1da-0242ac120004-1-cf09",
       "next": "1d3db240-184c-11ed-a1da-0242ac120004",
       "previous": "d8bc433c-f4ea-11eb-b29f-0242ac120008"
      },
      {
       "current": "b6d2db5c-1cfb-11ed-a1da-0242ac120004-2-cf09-8e6b",
       "next": "1d3db240-184c-11ed-a1da-0242ac120004-1-4225",
       "previous": "d8bc433c-f4ea-11eb-b29f-0242ac120008-1-5915"
      },
      {
       "current": "b6d2db5c-1cfb-11ed-a1da-0242ac120004-3-cf09-8e6b-d5e6",
       "next": "1d3db240-184c-11ed-a1da-0242ac120004-2-4225-13c1",
       "previous": "d8bc433c-f4ea-11eb-b29f-0242ac120008-2-5915-c8de"
      },
      {
       "current": "b6d2db5c-1cfb-11ed-a1da-0242ac120004-4-cf09-8e6b-d5e6-961e",
       "next": "1d3db240-184c-11ed-a1da-0242ac120004-3-4225-13c1-f00d",
       "previous": "d8bc433c-f4ea-11eb-b29f-0242ac120008-3-5915-c8de-4719"
      },
      {
       "current": "b6d2db5c-1cfb-11ed-a1da-0242ac120004-5-cf09-8e6b-d5e6-961e-6a1a",
       "next": "1d3db240-184c-11ed-a1da-0242ac120004-4-4225-13c1-f00d-305b",
       "previous": "d8bc433c-f4ea-11eb-b29f-0242ac120008-4-5915-c8de-4719-3a75"
      },
      {
       "current": "b6d2db5c-1cfb-11ed-a1da-0242ac120004-6-cf09-8e6b-d5e6-961e-6a1a-84e6",
       "next": "1d3db240-184c-11ed-a1da-0242ac120004-5-4225-13c1-f00d-305b-817a",
       "previous": "d8bc433c-f4ea-11eb-b29f-0242ac120008-5-5915-c8de-4719-3a75-0a51"
      }
     ],
     "next": "1d3db240-184c-11ed-a1da-0242ac120004-6-4225-13c1-f00d-305b-817a-4591",
     "previous": "d8bc433c-f4ea-11eb-b29f-0242ac120008-6-5915-c8de-4719-3a75-0a51-9535"
    }
   },
   "outputs": [],
   "source": [
    "!sleep 5"
   ]
  },
  {
   "cell_type": "code",
   "execution_count": null,
   "metadata": {
    "lc_cell_meme": {
     "current": "1d3db240-184c-11ed-a1da-0242ac120004-6-4225-13c1-f00d-305b-817a-4591",
     "history": [
      {
       "current": "1d3db240-184c-11ed-a1da-0242ac120004",
       "next": "1d3db452-184c-11ed-a1da-0242ac120004",
       "previous": "d8bc433c-f4ea-11eb-b29f-0242ac120008"
      },
      {
       "current": "1d3db240-184c-11ed-a1da-0242ac120004",
       "next": "7cf7d4da-f4ea-11eb-b29f-0242ac120008",
       "previous": "d8bc433c-f4ea-11eb-b29f-0242ac120008"
      },
      {
       "current": "1d3db240-184c-11ed-a1da-0242ac120004",
       "next": "25c0a7ec-1851-11ed-a1da-0242ac120004",
       "previous": "d8bc433c-f4ea-11eb-b29f-0242ac120008"
      },
      {
       "current": "1d3db240-184c-11ed-a1da-0242ac120004",
       "next": "7cf7d4da-f4ea-11eb-b29f-0242ac120008",
       "previous": "d8bc433c-f4ea-11eb-b29f-0242ac120008"
      },
      {
       "current": "1d3db240-184c-11ed-a1da-0242ac120004-1-4225",
       "next": "b6d2dcf6-1cfb-11ed-a1da-0242ac120004",
       "previous": "b6d2db5c-1cfb-11ed-a1da-0242ac120004"
      },
      {
       "current": "1d3db240-184c-11ed-a1da-0242ac120004-2-4225-13c1",
       "next": "b6d2dcf6-1cfb-11ed-a1da-0242ac120004-1-8cc3",
       "previous": "b6d2db5c-1cfb-11ed-a1da-0242ac120004-1-cf09"
      },
      {
       "current": "1d3db240-184c-11ed-a1da-0242ac120004-3-4225-13c1-f00d",
       "next": "b6d2dcf6-1cfb-11ed-a1da-0242ac120004-2-8cc3-631d",
       "previous": "b6d2db5c-1cfb-11ed-a1da-0242ac120004-2-cf09-8e6b"
      },
      {
       "current": "1d3db240-184c-11ed-a1da-0242ac120004-4-4225-13c1-f00d-305b",
       "next": "b6d2dcf6-1cfb-11ed-a1da-0242ac120004-3-8cc3-631d-a9d5",
       "previous": "b6d2db5c-1cfb-11ed-a1da-0242ac120004-3-cf09-8e6b-d5e6"
      },
      {
       "current": "1d3db240-184c-11ed-a1da-0242ac120004-5-4225-13c1-f00d-305b-817a",
       "next": "b6d2dcf6-1cfb-11ed-a1da-0242ac120004-4-8cc3-631d-a9d5-0966",
       "previous": "b6d2db5c-1cfb-11ed-a1da-0242ac120004-4-cf09-8e6b-d5e6-961e"
      },
      {
       "current": "1d3db240-184c-11ed-a1da-0242ac120004-6-4225-13c1-f00d-305b-817a-4591",
       "next": "b6d2dcf6-1cfb-11ed-a1da-0242ac120004-5-8cc3-631d-a9d5-0966-2983",
       "previous": "b6d2db5c-1cfb-11ed-a1da-0242ac120004-5-cf09-8e6b-d5e6-961e-6a1a"
      }
     ],
     "next": "b6d2dcf6-1cfb-11ed-a1da-0242ac120004-6-8cc3-631d-a9d5-0966-2983-6834",
     "previous": "b6d2db5c-1cfb-11ed-a1da-0242ac120004-6-cf09-8e6b-d5e6-961e-6a1a-84e6"
    }
   },
   "outputs": [],
   "source": [
    "!ansible -i $hosts -b -m shell -a \"nmcli conn modify {bounding_if} 802-3.mtu 9000\" ceph_node"
   ]
  },
  {
   "cell_type": "code",
   "execution_count": null,
   "metadata": {
    "lc_cell_meme": {
     "current": "b6d2dcf6-1cfb-11ed-a1da-0242ac120004-6-8cc3-631d-a9d5-0966-2983-6834",
     "history": [
      {
       "current": "b6d2dcf6-1cfb-11ed-a1da-0242ac120004-1-8cc3",
       "next": "7cf7d4da-f4ea-11eb-b29f-0242ac120008",
       "previous": "1d3db240-184c-11ed-a1da-0242ac120004"
      },
      {
       "current": "b6d2dcf6-1cfb-11ed-a1da-0242ac120004-2-8cc3-631d",
       "next": "7cf7d4da-f4ea-11eb-b29f-0242ac120008-1-aade",
       "previous": "1d3db240-184c-11ed-a1da-0242ac120004-1-4225"
      },
      {
       "current": "b6d2dcf6-1cfb-11ed-a1da-0242ac120004-3-8cc3-631d-a9d5",
       "next": "7cf7d4da-f4ea-11eb-b29f-0242ac120008-2-aade-b096",
       "previous": "1d3db240-184c-11ed-a1da-0242ac120004-2-4225-13c1"
      },
      {
       "current": "b6d2dcf6-1cfb-11ed-a1da-0242ac120004-4-8cc3-631d-a9d5-0966",
       "next": "7cf7d4da-f4ea-11eb-b29f-0242ac120008-3-aade-b096-8314",
       "previous": "1d3db240-184c-11ed-a1da-0242ac120004-3-4225-13c1-f00d"
      },
      {
       "current": "b6d2dcf6-1cfb-11ed-a1da-0242ac120004-5-8cc3-631d-a9d5-0966-2983",
       "next": "7cf7d4da-f4ea-11eb-b29f-0242ac120008-4-aade-b096-8314-3703",
       "previous": "1d3db240-184c-11ed-a1da-0242ac120004-4-4225-13c1-f00d-305b"
      },
      {
       "current": "b6d2dcf6-1cfb-11ed-a1da-0242ac120004-6-8cc3-631d-a9d5-0966-2983-6834",
       "next": "7cf7d4da-f4ea-11eb-b29f-0242ac120008-5-aade-b096-8314-3703-337a",
       "previous": "1d3db240-184c-11ed-a1da-0242ac120004-5-4225-13c1-f00d-305b-817a"
      }
     ],
     "next": "7cf7d4da-f4ea-11eb-b29f-0242ac120008-6-aade-b096-8314-3703-337a-04e9",
     "previous": "1d3db240-184c-11ed-a1da-0242ac120004-6-4225-13c1-f00d-305b-817a-4591"
    }
   },
   "outputs": [],
   "source": [
    "!sleep 5"
   ]
  },
  {
   "cell_type": "code",
   "execution_count": null,
   "metadata": {
    "lc_cell_meme": {
     "current": "7cf7d4da-f4ea-11eb-b29f-0242ac120008-6-aade-b096-8314-3703-337a-04e9",
     "history": [
      {
       "current": "7cf7d4da-f4ea-11eb-b29f-0242ac120008",
       "next": "7cf7d6d8-f4ea-11eb-b29f-0242ac120008",
       "previous": "7cf7d372-f4ea-11eb-b29f-0242ac120008"
      },
      {
       "current": "7cf7d4da-f4ea-11eb-b29f-0242ac120008",
       "next": "7cf7d6d8-f4ea-11eb-b29f-0242ac120008",
       "previous": "d8bc433c-f4ea-11eb-b29f-0242ac120008"
      },
      {
       "current": "7cf7d4da-f4ea-11eb-b29f-0242ac120008",
       "next": "7cf7d6d8-f4ea-11eb-b29f-0242ac120008",
       "previous": "1d3db452-184c-11ed-a1da-0242ac120004"
      },
      {
       "current": "7cf7d4da-f4ea-11eb-b29f-0242ac120008",
       "next": "1d3db452-184c-11ed-a1da-0242ac120004",
       "previous": "1d3db240-184c-11ed-a1da-0242ac120004"
      },
      {
       "current": "7cf7d4da-f4ea-11eb-b29f-0242ac120008",
       "next": "1d3db452-184c-11ed-a1da-0242ac120004",
       "previous": "25c0a7ec-1851-11ed-a1da-0242ac120004"
      },
      {
       "current": "7cf7d4da-f4ea-11eb-b29f-0242ac120008",
       "next": "1d3db452-184c-11ed-a1da-0242ac120004",
       "previous": "1d3db240-184c-11ed-a1da-0242ac120004"
      },
      {
       "current": "7cf7d4da-f4ea-11eb-b29f-0242ac120008-1-aade",
       "next": "1d3db452-184c-11ed-a1da-0242ac120004",
       "previous": "b6d2dcf6-1cfb-11ed-a1da-0242ac120004"
      },
      {
       "current": "7cf7d4da-f4ea-11eb-b29f-0242ac120008-2-aade-b096",
       "next": "1d3db452-184c-11ed-a1da-0242ac120004-1-129c",
       "previous": "b6d2dcf6-1cfb-11ed-a1da-0242ac120004-1-8cc3"
      },
      {
       "current": "7cf7d4da-f4ea-11eb-b29f-0242ac120008-3-aade-b096-8314",
       "next": "1d3db452-184c-11ed-a1da-0242ac120004-2-129c-fb1e",
       "previous": "b6d2dcf6-1cfb-11ed-a1da-0242ac120004-2-8cc3-631d"
      },
      {
       "current": "7cf7d4da-f4ea-11eb-b29f-0242ac120008-4-aade-b096-8314-3703",
       "next": "1d3db452-184c-11ed-a1da-0242ac120004-3-129c-fb1e-ecd0",
       "previous": "b6d2dcf6-1cfb-11ed-a1da-0242ac120004-3-8cc3-631d-a9d5"
      },
      {
       "current": "7cf7d4da-f4ea-11eb-b29f-0242ac120008-5-aade-b096-8314-3703-337a",
       "next": "1d3db452-184c-11ed-a1da-0242ac120004-4-129c-fb1e-ecd0-69c0",
       "previous": "b6d2dcf6-1cfb-11ed-a1da-0242ac120004-4-8cc3-631d-a9d5-0966"
      },
      {
       "current": "7cf7d4da-f4ea-11eb-b29f-0242ac120008-6-aade-b096-8314-3703-337a-04e9",
       "next": "1d3db452-184c-11ed-a1da-0242ac120004-5-129c-fb1e-ecd0-69c0-89c2",
       "previous": "b6d2dcf6-1cfb-11ed-a1da-0242ac120004-5-8cc3-631d-a9d5-0966-2983"
      }
     ],
     "next": "1d3db452-184c-11ed-a1da-0242ac120004-6-129c-fb1e-ecd0-69c0-89c2-dd4d",
     "previous": "b6d2dcf6-1cfb-11ed-a1da-0242ac120004-6-8cc3-631d-a9d5-0966-2983-6834"
    }
   },
   "outputs": [],
   "source": [
    "for if_name in interface_list:\n",
    "    !ansible -i $hosts -b -m shell -a \"nmcli conn add type ethernet slave-type bond con-name {bounding_if}-{if_name} ifname {if_name} master {bounding_if}\" ceph_node\n",
    "    !sleep 5"
   ]
  },
  {
   "cell_type": "code",
   "execution_count": null,
   "metadata": {
    "lc_cell_meme": {
     "current": "1d3db452-184c-11ed-a1da-0242ac120004-6-129c-fb1e-ecd0-69c0-89c2-dd4d",
     "history": [
      {
       "current": "1d3db452-184c-11ed-a1da-0242ac120004",
       "next": "7cf7d4da-f4ea-11eb-b29f-0242ac120008",
       "previous": "1d3db240-184c-11ed-a1da-0242ac120004"
      },
      {
       "current": "1d3db452-184c-11ed-a1da-0242ac120004-1-129c",
       "next": "7cf7d6d8-f4ea-11eb-b29f-0242ac120008",
       "previous": "7cf7d4da-f4ea-11eb-b29f-0242ac120008"
      },
      {
       "current": "1d3db452-184c-11ed-a1da-0242ac120004-2-129c-fb1e",
       "next": "7cf7d6d8-f4ea-11eb-b29f-0242ac120008-1-891e",
       "previous": "7cf7d4da-f4ea-11eb-b29f-0242ac120008-1-aade"
      },
      {
       "current": "1d3db452-184c-11ed-a1da-0242ac120004-3-129c-fb1e-ecd0",
       "next": "7cf7d6d8-f4ea-11eb-b29f-0242ac120008-2-891e-4e00",
       "previous": "7cf7d4da-f4ea-11eb-b29f-0242ac120008-2-aade-b096"
      },
      {
       "current": "1d3db452-184c-11ed-a1da-0242ac120004-4-129c-fb1e-ecd0-69c0",
       "next": "7cf7d6d8-f4ea-11eb-b29f-0242ac120008-3-891e-4e00-e7c0",
       "previous": "7cf7d4da-f4ea-11eb-b29f-0242ac120008-3-aade-b096-8314"
      },
      {
       "current": "1d3db452-184c-11ed-a1da-0242ac120004-5-129c-fb1e-ecd0-69c0-89c2",
       "next": "7cf7d6d8-f4ea-11eb-b29f-0242ac120008-4-891e-4e00-e7c0-2a8a",
       "previous": "7cf7d4da-f4ea-11eb-b29f-0242ac120008-4-aade-b096-8314-3703"
      },
      {
       "current": "1d3db452-184c-11ed-a1da-0242ac120004-6-129c-fb1e-ecd0-69c0-89c2-dd4d",
       "next": "7cf7d6d8-f4ea-11eb-b29f-0242ac120008-5-891e-4e00-e7c0-2a8a-5b4c",
       "previous": "7cf7d4da-f4ea-11eb-b29f-0242ac120008-5-aade-b096-8314-3703-337a"
      }
     ],
     "next": "7cf7d6d8-f4ea-11eb-b29f-0242ac120008-6-891e-4e00-e7c0-2a8a-5b4c-aaba",
     "previous": "7cf7d4da-f4ea-11eb-b29f-0242ac120008-6-aade-b096-8314-3703-337a-04e9"
    }
   },
   "outputs": [],
   "source": [
    "for if_name in interface_list:\n",
    "    !ansible -i $hosts -b -m shell -a \"nmcli conn modify {bounding_if}-{if_name} 802-3.mtu 9000\" ceph_node\n",
    "    !sleep 5"
   ]
  },
  {
   "cell_type": "code",
   "execution_count": null,
   "metadata": {
    "lc_cell_meme": {
     "current": "7cf7d6d8-f4ea-11eb-b29f-0242ac120008-6-891e-4e00-e7c0-2a8a-5b4c-aaba",
     "history": [
      {
       "current": "7cf7d6d8-f4ea-11eb-b29f-0242ac120008",
       "next": "7cf7d840-f4ea-11eb-b29f-0242ac120008",
       "previous": "7cf7d4da-f4ea-11eb-b29f-0242ac120008"
      },
      {
       "current": "7cf7d6d8-f4ea-11eb-b29f-0242ac120008-1-891e",
       "next": "7cf7d840-f4ea-11eb-b29f-0242ac120008",
       "previous": "1d3db452-184c-11ed-a1da-0242ac120004"
      },
      {
       "current": "7cf7d6d8-f4ea-11eb-b29f-0242ac120008-2-891e-4e00",
       "next": "7cf7d840-f4ea-11eb-b29f-0242ac120008-1-a046",
       "previous": "1d3db452-184c-11ed-a1da-0242ac120004-1-129c"
      },
      {
       "current": "7cf7d6d8-f4ea-11eb-b29f-0242ac120008-3-891e-4e00-e7c0",
       "next": "7cf7d840-f4ea-11eb-b29f-0242ac120008-2-a046-c3b5",
       "previous": "1d3db452-184c-11ed-a1da-0242ac120004-2-129c-fb1e"
      },
      {
       "current": "7cf7d6d8-f4ea-11eb-b29f-0242ac120008-4-891e-4e00-e7c0-2a8a",
       "next": "7cf7d840-f4ea-11eb-b29f-0242ac120008-3-a046-c3b5-7194",
       "previous": "1d3db452-184c-11ed-a1da-0242ac120004-3-129c-fb1e-ecd0"
      },
      {
       "current": "7cf7d6d8-f4ea-11eb-b29f-0242ac120008-5-891e-4e00-e7c0-2a8a-5b4c",
       "next": "7cf7d840-f4ea-11eb-b29f-0242ac120008-4-a046-c3b5-7194-ee94",
       "previous": "1d3db452-184c-11ed-a1da-0242ac120004-4-129c-fb1e-ecd0-69c0"
      },
      {
       "current": "7cf7d6d8-f4ea-11eb-b29f-0242ac120008-6-891e-4e00-e7c0-2a8a-5b4c-aaba",
       "next": "7cf7d840-f4ea-11eb-b29f-0242ac120008-5-a046-c3b5-7194-ee94-c1e5",
       "previous": "1d3db452-184c-11ed-a1da-0242ac120004-5-129c-fb1e-ecd0-69c0-89c2"
      }
     ],
     "next": "7cf7d840-f4ea-11eb-b29f-0242ac120008-6-a046-c3b5-7194-ee94-c1e5-a3d9",
     "previous": "1d3db452-184c-11ed-a1da-0242ac120004-6-129c-fb1e-ecd0-69c0-89c2-dd4d"
    }
   },
   "outputs": [],
   "source": [
    "!ansible -i $hosts -b -m shell -a \"nmcli conn\" ceph_node"
   ]
  },
  {
   "cell_type": "code",
   "execution_count": null,
   "metadata": {
    "lc_cell_meme": {
     "current": "7cf7d840-f4ea-11eb-b29f-0242ac120008-6-a046-c3b5-7194-ee94-c1e5-a3d9",
     "history": [
      {
       "current": "7cf7d840-f4ea-11eb-b29f-0242ac120008",
       "next": "7cf7d994-f4ea-11eb-b29f-0242ac120008",
       "previous": "7cf7d6d8-f4ea-11eb-b29f-0242ac120008"
      },
      {
       "current": "7cf7d840-f4ea-11eb-b29f-0242ac120008",
       "next": "d8bc4544-f4ea-11eb-b29f-0242ac120008",
       "previous": "7cf7d6d8-f4ea-11eb-b29f-0242ac120008"
      },
      {
       "current": "7cf7d840-f4ea-11eb-b29f-0242ac120008-1-a046",
       "next": "b6d2de7c-1cfb-11ed-a1da-0242ac120004",
       "previous": "7cf7d6d8-f4ea-11eb-b29f-0242ac120008"
      },
      {
       "current": "7cf7d840-f4ea-11eb-b29f-0242ac120008-2-a046-c3b5",
       "next": "b6d2de7c-1cfb-11ed-a1da-0242ac120004-1-136a",
       "previous": "7cf7d6d8-f4ea-11eb-b29f-0242ac120008-1-891e"
      },
      {
       "current": "7cf7d840-f4ea-11eb-b29f-0242ac120008-3-a046-c3b5-7194",
       "next": "b6d2de7c-1cfb-11ed-a1da-0242ac120004-2-136a-b657",
       "previous": "7cf7d6d8-f4ea-11eb-b29f-0242ac120008-2-891e-4e00"
      },
      {
       "current": "7cf7d840-f4ea-11eb-b29f-0242ac120008-4-a046-c3b5-7194-ee94",
       "next": "b6d2de7c-1cfb-11ed-a1da-0242ac120004-3-136a-b657-2aee",
       "previous": "7cf7d6d8-f4ea-11eb-b29f-0242ac120008-3-891e-4e00-e7c0"
      },
      {
       "current": "7cf7d840-f4ea-11eb-b29f-0242ac120008-5-a046-c3b5-7194-ee94-c1e5",
       "next": "b6d2de7c-1cfb-11ed-a1da-0242ac120004-4-136a-b657-2aee-87c7",
       "previous": "7cf7d6d8-f4ea-11eb-b29f-0242ac120008-4-891e-4e00-e7c0-2a8a"
      },
      {
       "current": "7cf7d840-f4ea-11eb-b29f-0242ac120008-6-a046-c3b5-7194-ee94-c1e5-a3d9",
       "next": "b6d2de7c-1cfb-11ed-a1da-0242ac120004-5-136a-b657-2aee-87c7-c07d",
       "previous": "7cf7d6d8-f4ea-11eb-b29f-0242ac120008-5-891e-4e00-e7c0-2a8a-5b4c"
      }
     ],
     "next": "b6d2de7c-1cfb-11ed-a1da-0242ac120004-6-136a-b657-2aee-87c7-c07d-dd8d",
     "previous": "7cf7d6d8-f4ea-11eb-b29f-0242ac120008-6-891e-4e00-e7c0-2a8a-5b4c-aaba"
    }
   },
   "outputs": [],
   "source": [
    "!ansible -i $hosts -b -m shell -a \"nmcli conn down {bounding_if}\" ceph_node"
   ]
  },
  {
   "cell_type": "code",
   "execution_count": null,
   "metadata": {
    "lc_cell_meme": {
     "current": "b6d2de7c-1cfb-11ed-a1da-0242ac120004-6-136a-b657-2aee-87c7-c07d-dd8d",
     "history": [
      {
       "current": "b6d2de7c-1cfb-11ed-a1da-0242ac120004-1-136a",
       "next": "d8bc4544-f4ea-11eb-b29f-0242ac120008",
       "previous": "7cf7d840-f4ea-11eb-b29f-0242ac120008"
      },
      {
       "current": "b6d2de7c-1cfb-11ed-a1da-0242ac120004-2-136a-b657",
       "next": "d8bc4544-f4ea-11eb-b29f-0242ac120008-1-e55b",
       "previous": "7cf7d840-f4ea-11eb-b29f-0242ac120008-1-a046"
      },
      {
       "current": "b6d2de7c-1cfb-11ed-a1da-0242ac120004-3-136a-b657-2aee",
       "next": "d8bc4544-f4ea-11eb-b29f-0242ac120008-2-e55b-deda",
       "previous": "7cf7d840-f4ea-11eb-b29f-0242ac120008-2-a046-c3b5"
      },
      {
       "current": "b6d2de7c-1cfb-11ed-a1da-0242ac120004-4-136a-b657-2aee-87c7",
       "next": "d8bc4544-f4ea-11eb-b29f-0242ac120008-3-e55b-deda-0c5b",
       "previous": "7cf7d840-f4ea-11eb-b29f-0242ac120008-3-a046-c3b5-7194"
      },
      {
       "current": "b6d2de7c-1cfb-11ed-a1da-0242ac120004-5-136a-b657-2aee-87c7-c07d",
       "next": "d8bc4544-f4ea-11eb-b29f-0242ac120008-4-e55b-deda-0c5b-474b",
       "previous": "7cf7d840-f4ea-11eb-b29f-0242ac120008-4-a046-c3b5-7194-ee94"
      },
      {
       "current": "b6d2de7c-1cfb-11ed-a1da-0242ac120004-6-136a-b657-2aee-87c7-c07d-dd8d",
       "next": "d8bc4544-f4ea-11eb-b29f-0242ac120008-5-e55b-deda-0c5b-474b-4125",
       "previous": "7cf7d840-f4ea-11eb-b29f-0242ac120008-5-a046-c3b5-7194-ee94-c1e5"
      }
     ],
     "next": "d8bc4544-f4ea-11eb-b29f-0242ac120008-6-e55b-deda-0c5b-474b-4125-8d73",
     "previous": "7cf7d840-f4ea-11eb-b29f-0242ac120008-6-a046-c3b5-7194-ee94-c1e5-a3d9"
    }
   },
   "outputs": [],
   "source": [
    "!sleep 1"
   ]
  },
  {
   "cell_type": "code",
   "execution_count": null,
   "metadata": {
    "lc_cell_meme": {
     "current": "d8bc4544-f4ea-11eb-b29f-0242ac120008-6-e55b-deda-0c5b-474b-4125-8d73",
     "history": [
      {
       "current": "d8bc4544-f4ea-11eb-b29f-0242ac120008",
       "next": "d8bc46ac-f4ea-11eb-b29f-0242ac120008",
       "previous": "7cf7d840-f4ea-11eb-b29f-0242ac120008"
      },
      {
       "current": "d8bc4544-f4ea-11eb-b29f-0242ac120008-1-e55b",
       "next": "d8bc46ac-f4ea-11eb-b29f-0242ac120008",
       "previous": "b6d2de7c-1cfb-11ed-a1da-0242ac120004"
      },
      {
       "current": "d8bc4544-f4ea-11eb-b29f-0242ac120008-2-e55b-deda",
       "next": "d8bc46ac-f4ea-11eb-b29f-0242ac120008-1-8927",
       "previous": "b6d2de7c-1cfb-11ed-a1da-0242ac120004-1-136a"
      },
      {
       "current": "d8bc4544-f4ea-11eb-b29f-0242ac120008-3-e55b-deda-0c5b",
       "next": "d8bc46ac-f4ea-11eb-b29f-0242ac120008-2-8927-7fed",
       "previous": "b6d2de7c-1cfb-11ed-a1da-0242ac120004-2-136a-b657"
      },
      {
       "current": "d8bc4544-f4ea-11eb-b29f-0242ac120008-4-e55b-deda-0c5b-474b",
       "next": "d8bc46ac-f4ea-11eb-b29f-0242ac120008-3-8927-7fed-986a",
       "previous": "b6d2de7c-1cfb-11ed-a1da-0242ac120004-3-136a-b657-2aee"
      },
      {
       "current": "d8bc4544-f4ea-11eb-b29f-0242ac120008-5-e55b-deda-0c5b-474b-4125",
       "next": "d8bc46ac-f4ea-11eb-b29f-0242ac120008-4-8927-7fed-986a-1223",
       "previous": "b6d2de7c-1cfb-11ed-a1da-0242ac120004-4-136a-b657-2aee-87c7"
      },
      {
       "current": "d8bc4544-f4ea-11eb-b29f-0242ac120008-6-e55b-deda-0c5b-474b-4125-8d73",
       "next": "d8bc46ac-f4ea-11eb-b29f-0242ac120008-5-8927-7fed-986a-1223-383f",
       "previous": "b6d2de7c-1cfb-11ed-a1da-0242ac120004-5-136a-b657-2aee-87c7-c07d"
      }
     ],
     "next": "d8bc46ac-f4ea-11eb-b29f-0242ac120008-6-8927-7fed-986a-1223-383f-df82",
     "previous": "b6d2de7c-1cfb-11ed-a1da-0242ac120004-6-136a-b657-2aee-87c7-c07d-dd8d"
    }
   },
   "outputs": [],
   "source": [
    "!ansible -i $hosts -b -m shell -a \"nmcli conn up {bounding_if}\" ceph_node"
   ]
  },
  {
   "cell_type": "code",
   "execution_count": null,
   "metadata": {
    "lc_cell_meme": {
     "current": "d8bc46ac-f4ea-11eb-b29f-0242ac120008-6-8927-7fed-986a-1223-383f-df82",
     "history": [
      {
       "current": "d8bc46ac-f4ea-11eb-b29f-0242ac120008-1-8927",
       "next": "d8bc480a-f4ea-11eb-b29f-0242ac120008",
       "previous": "d8bc4544-f4ea-11eb-b29f-0242ac120008"
      },
      {
       "current": "d8bc46ac-f4ea-11eb-b29f-0242ac120008-2-8927-7fed",
       "next": "d8bc480a-f4ea-11eb-b29f-0242ac120008-1-3eb1",
       "previous": "d8bc4544-f4ea-11eb-b29f-0242ac120008-1-e55b"
      },
      {
       "current": "d8bc46ac-f4ea-11eb-b29f-0242ac120008-3-8927-7fed-986a",
       "next": "d8bc480a-f4ea-11eb-b29f-0242ac120008-2-3eb1-6516",
       "previous": "d8bc4544-f4ea-11eb-b29f-0242ac120008-2-e55b-deda"
      },
      {
       "current": "d8bc46ac-f4ea-11eb-b29f-0242ac120008-4-8927-7fed-986a-1223",
       "next": "d8bc480a-f4ea-11eb-b29f-0242ac120008-3-3eb1-6516-780a",
       "previous": "d8bc4544-f4ea-11eb-b29f-0242ac120008-3-e55b-deda-0c5b"
      },
      {
       "current": "d8bc46ac-f4ea-11eb-b29f-0242ac120008-5-8927-7fed-986a-1223-383f",
       "next": "d8bc480a-f4ea-11eb-b29f-0242ac120008-4-3eb1-6516-780a-56c7",
       "previous": "d8bc4544-f4ea-11eb-b29f-0242ac120008-4-e55b-deda-0c5b-474b"
      },
      {
       "current": "d8bc46ac-f4ea-11eb-b29f-0242ac120008-6-8927-7fed-986a-1223-383f-df82",
       "next": "d8bc480a-f4ea-11eb-b29f-0242ac120008-5-3eb1-6516-780a-56c7-6d3e",
       "previous": "d8bc4544-f4ea-11eb-b29f-0242ac120008-5-e55b-deda-0c5b-474b-4125"
      }
     ],
     "next": "d8bc480a-f4ea-11eb-b29f-0242ac120008-6-3eb1-6516-780a-56c7-6d3e-6124",
     "previous": "d8bc4544-f4ea-11eb-b29f-0242ac120008-6-e55b-deda-0c5b-474b-4125-8d73"
    }
   },
   "outputs": [],
   "source": [
    "!ansible -i $hosts -b -m shell -a \"nmcli conn\" ceph_node"
   ]
  },
  {
   "cell_type": "code",
   "execution_count": null,
   "metadata": {
    "lc_cell_meme": {
     "current": "d8bc480a-f4ea-11eb-b29f-0242ac120008-6-3eb1-6516-780a-56c7-6d3e-6124",
     "history": [
      {
       "current": "d8bc480a-f4ea-11eb-b29f-0242ac120008",
       "next": "d8bc4954-f4ea-11eb-b29f-0242ac120008",
       "previous": "d8bc46ac-f4ea-11eb-b29f-0242ac120008"
      },
      {
       "current": "d8bc480a-f4ea-11eb-b29f-0242ac120008-1-3eb1",
       "next": "6d521492-1851-11ed-a1da-0242ac120004",
       "previous": "d8bc46ac-f4ea-11eb-b29f-0242ac120008"
      },
      {
       "current": "d8bc480a-f4ea-11eb-b29f-0242ac120008-2-3eb1-6516",
       "next": "6d521492-1851-11ed-a1da-0242ac120004-1-bf27",
       "previous": "d8bc46ac-f4ea-11eb-b29f-0242ac120008-1-8927"
      },
      {
       "current": "d8bc480a-f4ea-11eb-b29f-0242ac120008-3-3eb1-6516-780a",
       "next": "6d521492-1851-11ed-a1da-0242ac120004-2-bf27-c609",
       "previous": "d8bc46ac-f4ea-11eb-b29f-0242ac120008-2-8927-7fed"
      },
      {
       "current": "d8bc480a-f4ea-11eb-b29f-0242ac120008-4-3eb1-6516-780a-56c7",
       "next": "6d521492-1851-11ed-a1da-0242ac120004-3-bf27-c609-2536",
       "previous": "d8bc46ac-f4ea-11eb-b29f-0242ac120008-3-8927-7fed-986a"
      },
      {
       "current": "d8bc480a-f4ea-11eb-b29f-0242ac120008-5-3eb1-6516-780a-56c7-6d3e",
       "next": "6d521492-1851-11ed-a1da-0242ac120004-4-bf27-c609-2536-e8ae",
       "previous": "d8bc46ac-f4ea-11eb-b29f-0242ac120008-4-8927-7fed-986a-1223"
      },
      {
       "current": "d8bc480a-f4ea-11eb-b29f-0242ac120008-6-3eb1-6516-780a-56c7-6d3e-6124",
       "next": "6d521492-1851-11ed-a1da-0242ac120004-5-bf27-c609-2536-e8ae-a31f",
       "previous": "d8bc46ac-f4ea-11eb-b29f-0242ac120008-5-8927-7fed-986a-1223-383f"
      }
     ],
     "next": "6d521492-1851-11ed-a1da-0242ac120004-6-bf27-c609-2536-e8ae-a31f-9e0e",
     "previous": "d8bc46ac-f4ea-11eb-b29f-0242ac120008-6-8927-7fed-986a-1223-383f-df82"
    }
   },
   "outputs": [],
   "source": [
    "!ansible -i $hosts -b -m shell -a \"ip a\" ceph_node"
   ]
  },
  {
   "cell_type": "code",
   "execution_count": null,
   "metadata": {
    "lc_cell_meme": {
     "current": "6d521492-1851-11ed-a1da-0242ac120004-6-bf27-c609-2536-e8ae-a31f-9e0e",
     "history": [
      {
       "current": "6d521492-1851-11ed-a1da-0242ac120004",
       "next": "d8bc4954-f4ea-11eb-b29f-0242ac120008",
       "previous": "d8bc480a-f4ea-11eb-b29f-0242ac120008"
      },
      {
       "current": "6d521492-1851-11ed-a1da-0242ac120004-1-bf27",
       "next": "b4d50162-1851-11ed-a1da-0242ac120004",
       "previous": "d8bc480a-f4ea-11eb-b29f-0242ac120008"
      },
      {
       "current": "6d521492-1851-11ed-a1da-0242ac120004-2-bf27-c609",
       "next": "b4d50162-1851-11ed-a1da-0242ac120004-1-1da2",
       "previous": "d8bc480a-f4ea-11eb-b29f-0242ac120008-1-3eb1"
      },
      {
       "current": "6d521492-1851-11ed-a1da-0242ac120004-3-bf27-c609-2536",
       "next": "b4d50162-1851-11ed-a1da-0242ac120004-2-1da2-66be",
       "previous": "d8bc480a-f4ea-11eb-b29f-0242ac120008-2-3eb1-6516"
      },
      {
       "current": "6d521492-1851-11ed-a1da-0242ac120004-4-bf27-c609-2536-e8ae",
       "next": "b4d50162-1851-11ed-a1da-0242ac120004-3-1da2-66be-1344",
       "previous": "d8bc480a-f4ea-11eb-b29f-0242ac120008-3-3eb1-6516-780a"
      },
      {
       "current": "6d521492-1851-11ed-a1da-0242ac120004-5-bf27-c609-2536-e8ae-a31f",
       "next": "b4d50162-1851-11ed-a1da-0242ac120004-4-1da2-66be-1344-7638",
       "previous": "d8bc480a-f4ea-11eb-b29f-0242ac120008-4-3eb1-6516-780a-56c7"
      },
      {
       "current": "6d521492-1851-11ed-a1da-0242ac120004-6-bf27-c609-2536-e8ae-a31f-9e0e",
       "next": "b4d50162-1851-11ed-a1da-0242ac120004-5-1da2-66be-1344-7638-ab4f",
       "previous": "d8bc480a-f4ea-11eb-b29f-0242ac120008-5-3eb1-6516-780a-56c7-6d3e"
      }
     ],
     "next": "b4d50162-1851-11ed-a1da-0242ac120004-6-1da2-66be-1344-7638-ab4f-d0f7",
     "previous": "d8bc480a-f4ea-11eb-b29f-0242ac120008-6-3eb1-6516-780a-56c7-6d3e-6124"
    }
   },
   "outputs": [],
   "source": [
    "!ansible -i $hosts -b -m shell -a \"nmcli d show {strage_bridge}\" ceph_node"
   ]
  },
  {
   "cell_type": "code",
   "execution_count": null,
   "metadata": {
    "lc_cell_meme": {
     "current": "b4d50162-1851-11ed-a1da-0242ac120004-6-1da2-66be-1344-7638-ab4f-d0f7",
     "history": [
      {
       "current": "b4d50162-1851-11ed-a1da-0242ac120004",
       "next": "d8bc4954-f4ea-11eb-b29f-0242ac120008",
       "previous": "6d521492-1851-11ed-a1da-0242ac120004"
      },
      {
       "current": "b4d50162-1851-11ed-a1da-0242ac120004-1-1da2",
       "next": "fc576eb2-1851-11ed-a1da-0242ac120004",
       "previous": "6d521492-1851-11ed-a1da-0242ac120004"
      },
      {
       "current": "b4d50162-1851-11ed-a1da-0242ac120004-2-1da2-66be",
       "next": "fc576eb2-1851-11ed-a1da-0242ac120004-1-0eb1",
       "previous": "6d521492-1851-11ed-a1da-0242ac120004-1-bf27"
      },
      {
       "current": "b4d50162-1851-11ed-a1da-0242ac120004-3-1da2-66be-1344",
       "next": "fc576eb2-1851-11ed-a1da-0242ac120004-2-0eb1-8b72",
       "previous": "6d521492-1851-11ed-a1da-0242ac120004-2-bf27-c609"
      },
      {
       "current": "b4d50162-1851-11ed-a1da-0242ac120004-4-1da2-66be-1344-7638",
       "next": "fc576eb2-1851-11ed-a1da-0242ac120004-3-0eb1-8b72-cb69",
       "previous": "6d521492-1851-11ed-a1da-0242ac120004-3-bf27-c609-2536"
      },
      {
       "current": "b4d50162-1851-11ed-a1da-0242ac120004-5-1da2-66be-1344-7638-ab4f",
       "next": "fc576eb2-1851-11ed-a1da-0242ac120004-4-0eb1-8b72-cb69-5e81",
       "previous": "6d521492-1851-11ed-a1da-0242ac120004-4-bf27-c609-2536-e8ae"
      },
      {
       "current": "b4d50162-1851-11ed-a1da-0242ac120004-6-1da2-66be-1344-7638-ab4f-d0f7",
       "next": "fc576eb2-1851-11ed-a1da-0242ac120004-5-0eb1-8b72-cb69-5e81-2f5c",
       "previous": "6d521492-1851-11ed-a1da-0242ac120004-5-bf27-c609-2536-e8ae-a31f"
      }
     ],
     "next": "fc576eb2-1851-11ed-a1da-0242ac120004-6-0eb1-8b72-cb69-5e81-2f5c-d491",
     "previous": "6d521492-1851-11ed-a1da-0242ac120004-6-bf27-c609-2536-e8ae-a31f-9e0e"
    }
   },
   "outputs": [],
   "source": [
    "for if_name in interface_list:\n",
    "    !ansible -i $hosts -b -m shell -a \"nmcli d show {if_name}\" ceph_node"
   ]
  },
  {
   "cell_type": "code",
   "execution_count": null,
   "metadata": {
    "lc_cell_meme": {
     "current": "fc576eb2-1851-11ed-a1da-0242ac120004-6-0eb1-8b72-cb69-5e81-2f5c-d491",
     "history": [
      {
       "current": "fc576eb2-1851-11ed-a1da-0242ac120004",
       "next": "d8bc4954-f4ea-11eb-b29f-0242ac120008",
       "previous": "b4d50162-1851-11ed-a1da-0242ac120004"
      },
      {
       "current": "fc576eb2-1851-11ed-a1da-0242ac120004-1-0eb1",
       "next": "758d65fc-1852-11ed-a1da-0242ac120004",
       "previous": "b4d50162-1851-11ed-a1da-0242ac120004"
      },
      {
       "current": "fc576eb2-1851-11ed-a1da-0242ac120004-2-0eb1-8b72",
       "next": "758d65fc-1852-11ed-a1da-0242ac120004-1-fc5c",
       "previous": "b4d50162-1851-11ed-a1da-0242ac120004-1-1da2"
      },
      {
       "current": "fc576eb2-1851-11ed-a1da-0242ac120004-3-0eb1-8b72-cb69",
       "next": "758d65fc-1852-11ed-a1da-0242ac120004-2-fc5c-c57b",
       "previous": "b4d50162-1851-11ed-a1da-0242ac120004-2-1da2-66be"
      },
      {
       "current": "fc576eb2-1851-11ed-a1da-0242ac120004-4-0eb1-8b72-cb69-5e81",
       "next": "758d65fc-1852-11ed-a1da-0242ac120004-3-fc5c-c57b-f0da",
       "previous": "b4d50162-1851-11ed-a1da-0242ac120004-3-1da2-66be-1344"
      },
      {
       "current": "fc576eb2-1851-11ed-a1da-0242ac120004-5-0eb1-8b72-cb69-5e81-2f5c",
       "next": "758d65fc-1852-11ed-a1da-0242ac120004-4-fc5c-c57b-f0da-3479",
       "previous": "b4d50162-1851-11ed-a1da-0242ac120004-4-1da2-66be-1344-7638"
      },
      {
       "current": "fc576eb2-1851-11ed-a1da-0242ac120004-6-0eb1-8b72-cb69-5e81-2f5c-d491",
       "next": "758d65fc-1852-11ed-a1da-0242ac120004-5-fc5c-c57b-f0da-3479-4fab",
       "previous": "b4d50162-1851-11ed-a1da-0242ac120004-5-1da2-66be-1344-7638-ab4f"
      }
     ],
     "next": "758d65fc-1852-11ed-a1da-0242ac120004-6-fc5c-c57b-f0da-3479-4fab-f3c4",
     "previous": "b4d50162-1851-11ed-a1da-0242ac120004-6-1da2-66be-1344-7638-ab4f-d0f7"
    }
   },
   "outputs": [],
   "source": [
    "!ansible -i $hosts -b -m shell -a \"nmcli d show {bounding_if}\" ceph_node"
   ]
  },
  {
   "cell_type": "code",
   "execution_count": null,
   "metadata": {
    "lc_cell_meme": {
     "current": "758d65fc-1852-11ed-a1da-0242ac120004-6-fc5c-c57b-f0da-3479-4fab-f3c4",
     "history": [
      {
       "current": "758d65fc-1852-11ed-a1da-0242ac120004-1-fc5c",
       "next": "d8bc4954-f4ea-11eb-b29f-0242ac120008",
       "previous": "fc576eb2-1851-11ed-a1da-0242ac120004"
      },
      {
       "current": "758d65fc-1852-11ed-a1da-0242ac120004-2-fc5c-c57b",
       "next": "d8bc4954-f4ea-11eb-b29f-0242ac120008-1-1f64",
       "previous": "fc576eb2-1851-11ed-a1da-0242ac120004-1-0eb1"
      },
      {
       "current": "758d65fc-1852-11ed-a1da-0242ac120004-3-fc5c-c57b-f0da",
       "next": "d8bc4954-f4ea-11eb-b29f-0242ac120008-2-1f64-ce2a",
       "previous": "fc576eb2-1851-11ed-a1da-0242ac120004-2-0eb1-8b72"
      },
      {
       "current": "758d65fc-1852-11ed-a1da-0242ac120004-4-fc5c-c57b-f0da-3479",
       "next": "d8bc4954-f4ea-11eb-b29f-0242ac120008-3-1f64-ce2a-bdb0",
       "previous": "fc576eb2-1851-11ed-a1da-0242ac120004-3-0eb1-8b72-cb69"
      },
      {
       "current": "758d65fc-1852-11ed-a1da-0242ac120004-5-fc5c-c57b-f0da-3479-4fab",
       "next": "d8bc4954-f4ea-11eb-b29f-0242ac120008-4-1f64-ce2a-bdb0-89dc",
       "previous": "fc576eb2-1851-11ed-a1da-0242ac120004-4-0eb1-8b72-cb69-5e81"
      },
      {
       "current": "758d65fc-1852-11ed-a1da-0242ac120004-6-fc5c-c57b-f0da-3479-4fab-f3c4",
       "next": "d8bc4954-f4ea-11eb-b29f-0242ac120008-5-1f64-ce2a-bdb0-89dc-e2f1",
       "previous": "fc576eb2-1851-11ed-a1da-0242ac120004-5-0eb1-8b72-cb69-5e81-2f5c"
      }
     ],
     "next": "d8bc4954-f4ea-11eb-b29f-0242ac120008-6-1f64-ce2a-bdb0-89dc-e2f1-cb78",
     "previous": "fc576eb2-1851-11ed-a1da-0242ac120004-6-0eb1-8b72-cb69-5e81-2f5c-d491"
    }
   },
   "outputs": [],
   "source": [
    "!ansible -i $hosts -b -m shell -a \"nmcli d show port1\" ceph_node"
   ]
  },
  {
   "cell_type": "code",
   "execution_count": null,
   "metadata": {
    "lc_cell_meme": {
     "current": "d8bc4954-f4ea-11eb-b29f-0242ac120008-6-1f64-ce2a-bdb0-89dc-e2f1-cb78",
     "history": [
      {
       "current": "d8bc4954-f4ea-11eb-b29f-0242ac120008",
       "next": "7cf7d994-f4ea-11eb-b29f-0242ac120008",
       "previous": "d8bc480a-f4ea-11eb-b29f-0242ac120008"
      },
      {
       "current": "d8bc4954-f4ea-11eb-b29f-0242ac120008",
       "next": "2046355a-f4eb-11eb-b29f-0242ac120008",
       "previous": "d8bc480a-f4ea-11eb-b29f-0242ac120008"
      },
      {
       "current": "d8bc4954-f4ea-11eb-b29f-0242ac120008",
       "next": "2046355a-f4eb-11eb-b29f-0242ac120008",
       "previous": "6d521492-1851-11ed-a1da-0242ac120004"
      },
      {
       "current": "d8bc4954-f4ea-11eb-b29f-0242ac120008",
       "next": "2046355a-f4eb-11eb-b29f-0242ac120008",
       "previous": "b4d50162-1851-11ed-a1da-0242ac120004"
      },
      {
       "current": "d8bc4954-f4ea-11eb-b29f-0242ac120008",
       "next": "2046355a-f4eb-11eb-b29f-0242ac120008",
       "previous": "fc576eb2-1851-11ed-a1da-0242ac120004"
      },
      {
       "current": "d8bc4954-f4ea-11eb-b29f-0242ac120008-1-1f64",
       "next": "2046355a-f4eb-11eb-b29f-0242ac120008",
       "previous": "758d65fc-1852-11ed-a1da-0242ac120004"
      },
      {
       "current": "d8bc4954-f4ea-11eb-b29f-0242ac120008-2-1f64-ce2a",
       "next": "2046355a-f4eb-11eb-b29f-0242ac120008-1-4821",
       "previous": "758d65fc-1852-11ed-a1da-0242ac120004-1-fc5c"
      },
      {
       "current": "d8bc4954-f4ea-11eb-b29f-0242ac120008-3-1f64-ce2a-bdb0",
       "next": "2046355a-f4eb-11eb-b29f-0242ac120008-2-4821-a0af",
       "previous": "758d65fc-1852-11ed-a1da-0242ac120004-2-fc5c-c57b"
      },
      {
       "current": "d8bc4954-f4ea-11eb-b29f-0242ac120008-4-1f64-ce2a-bdb0-89dc",
       "next": "2046355a-f4eb-11eb-b29f-0242ac120008-3-4821-a0af-f6bc",
       "previous": "758d65fc-1852-11ed-a1da-0242ac120004-3-fc5c-c57b-f0da"
      },
      {
       "current": "d8bc4954-f4ea-11eb-b29f-0242ac120008-5-1f64-ce2a-bdb0-89dc-e2f1",
       "next": "2046355a-f4eb-11eb-b29f-0242ac120008-4-4821-a0af-f6bc-e1e6",
       "previous": "758d65fc-1852-11ed-a1da-0242ac120004-4-fc5c-c57b-f0da-3479"
      },
      {
       "current": "d8bc4954-f4ea-11eb-b29f-0242ac120008-6-1f64-ce2a-bdb0-89dc-e2f1-cb78",
       "next": "2046355a-f4eb-11eb-b29f-0242ac120008-5-4821-a0af-f6bc-e1e6-4224",
       "previous": "758d65fc-1852-11ed-a1da-0242ac120004-5-fc5c-c57b-f0da-3479-4fab"
      }
     ],
     "next": "2046355a-f4eb-11eb-b29f-0242ac120008-6-4821-a0af-f6bc-e1e6-4224-82b2",
     "previous": "758d65fc-1852-11ed-a1da-0242ac120004-6-fc5c-c57b-f0da-3479-4fab-f3c4"
    }
   },
   "outputs": [],
   "source": [
    "!ansible -i $hosts -b -m shell -a \"ovs-vsctl show\" ceph_node"
   ]
  },
  {
   "cell_type": "markdown",
   "metadata": {
    "lc_cell_meme": {
     "current": "2046355a-f4eb-11eb-b29f-0242ac120008-6-4821-a0af-f6bc-e1e6-4224-82b2",
     "history": [
      {
       "current": "2046355a-f4eb-11eb-b29f-0242ac120008-1-4821",
       "next": "2046387a-f4eb-11eb-b29f-0242ac120008",
       "previous": "d8bc4954-f4ea-11eb-b29f-0242ac120008"
      },
      {
       "current": "2046355a-f4eb-11eb-b29f-0242ac120008-2-4821-a0af",
       "next": "2046387a-f4eb-11eb-b29f-0242ac120008-1-9649",
       "previous": "d8bc4954-f4ea-11eb-b29f-0242ac120008-1-1f64"
      },
      {
       "current": "2046355a-f4eb-11eb-b29f-0242ac120008-3-4821-a0af-f6bc",
       "next": "2046387a-f4eb-11eb-b29f-0242ac120008-2-9649-f81d",
       "previous": "d8bc4954-f4ea-11eb-b29f-0242ac120008-2-1f64-ce2a"
      },
      {
       "current": "2046355a-f4eb-11eb-b29f-0242ac120008-4-4821-a0af-f6bc-e1e6",
       "next": "2046387a-f4eb-11eb-b29f-0242ac120008-3-9649-f81d-e6a8",
       "previous": "d8bc4954-f4ea-11eb-b29f-0242ac120008-3-1f64-ce2a-bdb0"
      },
      {
       "current": "2046355a-f4eb-11eb-b29f-0242ac120008-5-4821-a0af-f6bc-e1e6-4224",
       "next": "2046387a-f4eb-11eb-b29f-0242ac120008-4-9649-f81d-e6a8-f9d2",
       "previous": "d8bc4954-f4ea-11eb-b29f-0242ac120008-4-1f64-ce2a-bdb0-89dc"
      },
      {
       "current": "2046355a-f4eb-11eb-b29f-0242ac120008-6-4821-a0af-f6bc-e1e6-4224-82b2",
       "next": "2046387a-f4eb-11eb-b29f-0242ac120008-5-9649-f81d-e6a8-f9d2-b7bf",
       "previous": "d8bc4954-f4ea-11eb-b29f-0242ac120008-5-1f64-ce2a-bdb0-89dc-e2f1"
      }
     ],
     "next": "2046387a-f4eb-11eb-b29f-0242ac120008-6-9649-f81d-e6a8-f9d2-b7bf-113d",
     "previous": "d8bc4954-f4ea-11eb-b29f-0242ac120008-6-1f64-ce2a-bdb0-89dc-e2f1-cb78"
    }
   },
   "source": [
    "## StrageSegment側のIPアドレスの設定"
   ]
  },
  {
   "cell_type": "code",
   "execution_count": null,
   "metadata": {
    "lc_cell_meme": {
     "current": "2046387a-f4eb-11eb-b29f-0242ac120008-6-9649-f81d-e6a8-f9d2-b7bf-113d",
     "history": [
      {
       "current": "2046387a-f4eb-11eb-b29f-0242ac120008",
       "next": "20463a5a-f4eb-11eb-b29f-0242ac120008",
       "previous": "2046355a-f4eb-11eb-b29f-0242ac120008"
      },
      {
       "current": "2046387a-f4eb-11eb-b29f-0242ac120008-1-9649",
       "next": "ee801dc6-1cfb-11ed-a1da-0242ac120004",
       "previous": "2046355a-f4eb-11eb-b29f-0242ac120008"
      },
      {
       "current": "2046387a-f4eb-11eb-b29f-0242ac120008-2-9649-f81d",
       "next": "ee801dc6-1cfb-11ed-a1da-0242ac120004-1-d458",
       "previous": "2046355a-f4eb-11eb-b29f-0242ac120008-1-4821"
      },
      {
       "current": "2046387a-f4eb-11eb-b29f-0242ac120008-3-9649-f81d-e6a8",
       "next": "ee801dc6-1cfb-11ed-a1da-0242ac120004-2-d458-37ca",
       "previous": "2046355a-f4eb-11eb-b29f-0242ac120008-2-4821-a0af"
      },
      {
       "current": "2046387a-f4eb-11eb-b29f-0242ac120008-4-9649-f81d-e6a8-f9d2",
       "next": "ee801dc6-1cfb-11ed-a1da-0242ac120004-3-d458-37ca-c106",
       "previous": "2046355a-f4eb-11eb-b29f-0242ac120008-3-4821-a0af-f6bc"
      },
      {
       "current": "2046387a-f4eb-11eb-b29f-0242ac120008-5-9649-f81d-e6a8-f9d2-b7bf",
       "next": "ee801dc6-1cfb-11ed-a1da-0242ac120004-4-d458-37ca-c106-0439",
       "previous": "2046355a-f4eb-11eb-b29f-0242ac120008-4-4821-a0af-f6bc-e1e6"
      },
      {
       "current": "2046387a-f4eb-11eb-b29f-0242ac120008-6-9649-f81d-e6a8-f9d2-b7bf-113d",
       "next": "ee801dc6-1cfb-11ed-a1da-0242ac120004-5-d458-37ca-c106-0439-b953",
       "previous": "2046355a-f4eb-11eb-b29f-0242ac120008-5-4821-a0af-f6bc-e1e6-4224"
      }
     ],
     "next": "ee801dc6-1cfb-11ed-a1da-0242ac120004-6-d458-37ca-c106-0439-b953-0f57",
     "previous": "2046355a-f4eb-11eb-b29f-0242ac120008-6-4821-a0af-f6bc-e1e6-4224-82b2"
    }
   },
   "outputs": [],
   "source": [
    "!ansible -i $hosts -b -m shell -a \"nmcli conn add type ovs-port conn.interface port2 master {strage_bridge}\" ceph_node"
   ]
  },
  {
   "cell_type": "code",
   "execution_count": null,
   "metadata": {
    "lc_cell_meme": {
     "current": "ee801dc6-1cfb-11ed-a1da-0242ac120004-6-d458-37ca-c106-0439-b953-0f57",
     "history": [
      {
       "current": "ee801dc6-1cfb-11ed-a1da-0242ac120004-1-d458",
       "next": "20463a5a-f4eb-11eb-b29f-0242ac120008",
       "previous": "2046387a-f4eb-11eb-b29f-0242ac120008"
      },
      {
       "current": "ee801dc6-1cfb-11ed-a1da-0242ac120004-2-d458-37ca",
       "next": "20463a5a-f4eb-11eb-b29f-0242ac120008-1-1f99",
       "previous": "2046387a-f4eb-11eb-b29f-0242ac120008-1-9649"
      },
      {
       "current": "ee801dc6-1cfb-11ed-a1da-0242ac120004-3-d458-37ca-c106",
       "next": "20463a5a-f4eb-11eb-b29f-0242ac120008-2-1f99-ecb9",
       "previous": "2046387a-f4eb-11eb-b29f-0242ac120008-2-9649-f81d"
      },
      {
       "current": "ee801dc6-1cfb-11ed-a1da-0242ac120004-4-d458-37ca-c106-0439",
       "next": "20463a5a-f4eb-11eb-b29f-0242ac120008-3-1f99-ecb9-8798",
       "previous": "2046387a-f4eb-11eb-b29f-0242ac120008-3-9649-f81d-e6a8"
      },
      {
       "current": "ee801dc6-1cfb-11ed-a1da-0242ac120004-5-d458-37ca-c106-0439-b953",
       "next": "20463a5a-f4eb-11eb-b29f-0242ac120008-4-1f99-ecb9-8798-4dfb",
       "previous": "2046387a-f4eb-11eb-b29f-0242ac120008-4-9649-f81d-e6a8-f9d2"
      },
      {
       "current": "ee801dc6-1cfb-11ed-a1da-0242ac120004-6-d458-37ca-c106-0439-b953-0f57",
       "next": "20463a5a-f4eb-11eb-b29f-0242ac120008-5-1f99-ecb9-8798-4dfb-5b88",
       "previous": "2046387a-f4eb-11eb-b29f-0242ac120008-5-9649-f81d-e6a8-f9d2-b7bf"
      }
     ],
     "next": "20463a5a-f4eb-11eb-b29f-0242ac120008-6-1f99-ecb9-8798-4dfb-5b88-1594",
     "previous": "2046387a-f4eb-11eb-b29f-0242ac120008-6-9649-f81d-e6a8-f9d2-b7bf-113d"
    }
   },
   "outputs": [],
   "source": [
    "!sleep 5"
   ]
  },
  {
   "cell_type": "code",
   "execution_count": null,
   "metadata": {
    "lc_cell_meme": {
     "current": "20463a5a-f4eb-11eb-b29f-0242ac120008-6-1f99-ecb9-8798-4dfb-5b88-1594",
     "history": [
      {
       "current": "20463a5a-f4eb-11eb-b29f-0242ac120008",
       "next": "20463bf4-f4eb-11eb-b29f-0242ac120008",
       "previous": "2046387a-f4eb-11eb-b29f-0242ac120008"
      },
      {
       "current": "20463a5a-f4eb-11eb-b29f-0242ac120008",
       "next": "4f299e96-1850-11ed-a1da-0242ac120004",
       "previous": "2046387a-f4eb-11eb-b29f-0242ac120008"
      },
      {
       "current": "20463a5a-f4eb-11eb-b29f-0242ac120008-1-1f99",
       "next": "ee80201e-1cfb-11ed-a1da-0242ac120004",
       "previous": "ee801dc6-1cfb-11ed-a1da-0242ac120004"
      },
      {
       "current": "20463a5a-f4eb-11eb-b29f-0242ac120008-2-1f99-ecb9",
       "next": "ee80201e-1cfb-11ed-a1da-0242ac120004-1-8037",
       "previous": "ee801dc6-1cfb-11ed-a1da-0242ac120004-1-d458"
      },
      {
       "current": "20463a5a-f4eb-11eb-b29f-0242ac120008-3-1f99-ecb9-8798",
       "next": "ee80201e-1cfb-11ed-a1da-0242ac120004-2-8037-f219",
       "previous": "ee801dc6-1cfb-11ed-a1da-0242ac120004-2-d458-37ca"
      },
      {
       "current": "20463a5a-f4eb-11eb-b29f-0242ac120008-4-1f99-ecb9-8798-4dfb",
       "next": "ee80201e-1cfb-11ed-a1da-0242ac120004-3-8037-f219-eeed",
       "previous": "ee801dc6-1cfb-11ed-a1da-0242ac120004-3-d458-37ca-c106"
      },
      {
       "current": "20463a5a-f4eb-11eb-b29f-0242ac120008-5-1f99-ecb9-8798-4dfb-5b88",
       "next": "ee80201e-1cfb-11ed-a1da-0242ac120004-4-8037-f219-eeed-21df",
       "previous": "ee801dc6-1cfb-11ed-a1da-0242ac120004-4-d458-37ca-c106-0439"
      },
      {
       "current": "20463a5a-f4eb-11eb-b29f-0242ac120008-6-1f99-ecb9-8798-4dfb-5b88-1594",
       "next": "ee80201e-1cfb-11ed-a1da-0242ac120004-5-8037-f219-eeed-21df-938c",
       "previous": "ee801dc6-1cfb-11ed-a1da-0242ac120004-5-d458-37ca-c106-0439-b953"
      }
     ],
     "next": "ee80201e-1cfb-11ed-a1da-0242ac120004-6-8037-f219-eeed-21df-938c-86e5",
     "previous": "ee801dc6-1cfb-11ed-a1da-0242ac120004-6-d458-37ca-c106-0439-b953-0f57"
    }
   },
   "outputs": [],
   "source": [
    "!ansible -i $hosts -b -m shell -a \"nmcli conn add type ovs-interface slave-type ovs-port conn.interface {loca_if} con-name {loca_if} master port2\" ceph_node"
   ]
  },
  {
   "cell_type": "code",
   "execution_count": null,
   "metadata": {
    "lc_cell_meme": {
     "current": "ee80201e-1cfb-11ed-a1da-0242ac120004-6-8037-f219-eeed-21df-938c-86e5",
     "history": [
      {
       "current": "ee80201e-1cfb-11ed-a1da-0242ac120004-1-8037",
       "next": "4f299e96-1850-11ed-a1da-0242ac120004",
       "previous": "20463a5a-f4eb-11eb-b29f-0242ac120008"
      },
      {
       "current": "ee80201e-1cfb-11ed-a1da-0242ac120004-2-8037-f219",
       "next": "4f299e96-1850-11ed-a1da-0242ac120004-1-8c51",
       "previous": "20463a5a-f4eb-11eb-b29f-0242ac120008-1-1f99"
      },
      {
       "current": "ee80201e-1cfb-11ed-a1da-0242ac120004-3-8037-f219-eeed",
       "next": "4f299e96-1850-11ed-a1da-0242ac120004-2-8c51-7bc6",
       "previous": "20463a5a-f4eb-11eb-b29f-0242ac120008-2-1f99-ecb9"
      },
      {
       "current": "ee80201e-1cfb-11ed-a1da-0242ac120004-4-8037-f219-eeed-21df",
       "next": "4f299e96-1850-11ed-a1da-0242ac120004-3-8c51-7bc6-77b4",
       "previous": "20463a5a-f4eb-11eb-b29f-0242ac120008-3-1f99-ecb9-8798"
      },
      {
       "current": "ee80201e-1cfb-11ed-a1da-0242ac120004-5-8037-f219-eeed-21df-938c",
       "next": "4f299e96-1850-11ed-a1da-0242ac120004-4-8c51-7bc6-77b4-14ac",
       "previous": "20463a5a-f4eb-11eb-b29f-0242ac120008-4-1f99-ecb9-8798-4dfb"
      },
      {
       "current": "ee80201e-1cfb-11ed-a1da-0242ac120004-6-8037-f219-eeed-21df-938c-86e5",
       "next": "4f299e96-1850-11ed-a1da-0242ac120004-5-8c51-7bc6-77b4-14ac-f72b",
       "previous": "20463a5a-f4eb-11eb-b29f-0242ac120008-5-1f99-ecb9-8798-4dfb-5b88"
      }
     ],
     "next": "4f299e96-1850-11ed-a1da-0242ac120004-6-8c51-7bc6-77b4-14ac-f72b-38d2",
     "previous": "20463a5a-f4eb-11eb-b29f-0242ac120008-6-1f99-ecb9-8798-4dfb-5b88-1594"
    }
   },
   "outputs": [],
   "source": [
    "!sleep 5"
   ]
  },
  {
   "cell_type": "code",
   "execution_count": null,
   "metadata": {
    "lc_cell_meme": {
     "current": "4f299e96-1850-11ed-a1da-0242ac120004-6-8c51-7bc6-77b4-14ac-f72b-38d2",
     "history": [
      {
       "current": "4f299e96-1850-11ed-a1da-0242ac120004",
       "next": "20463bf4-f4eb-11eb-b29f-0242ac120008",
       "previous": "20463a5a-f4eb-11eb-b29f-0242ac120008"
      },
      {
       "current": "4f299e96-1850-11ed-a1da-0242ac120004-1-8c51",
       "next": "ee80215e-1cfb-11ed-a1da-0242ac120004",
       "previous": "ee80201e-1cfb-11ed-a1da-0242ac120004"
      },
      {
       "current": "4f299e96-1850-11ed-a1da-0242ac120004-2-8c51-7bc6",
       "next": "ee80215e-1cfb-11ed-a1da-0242ac120004-1-f5af",
       "previous": "ee80201e-1cfb-11ed-a1da-0242ac120004-1-8037"
      },
      {
       "current": "4f299e96-1850-11ed-a1da-0242ac120004-3-8c51-7bc6-77b4",
       "next": "ee80215e-1cfb-11ed-a1da-0242ac120004-2-f5af-e3b2",
       "previous": "ee80201e-1cfb-11ed-a1da-0242ac120004-2-8037-f219"
      },
      {
       "current": "4f299e96-1850-11ed-a1da-0242ac120004-4-8c51-7bc6-77b4-14ac",
       "next": "ee80215e-1cfb-11ed-a1da-0242ac120004-3-f5af-e3b2-f846",
       "previous": "ee80201e-1cfb-11ed-a1da-0242ac120004-3-8037-f219-eeed"
      },
      {
       "current": "4f299e96-1850-11ed-a1da-0242ac120004-5-8c51-7bc6-77b4-14ac-f72b",
       "next": "ee80215e-1cfb-11ed-a1da-0242ac120004-4-f5af-e3b2-f846-6e9e",
       "previous": "ee80201e-1cfb-11ed-a1da-0242ac120004-4-8037-f219-eeed-21df"
      },
      {
       "current": "4f299e96-1850-11ed-a1da-0242ac120004-6-8c51-7bc6-77b4-14ac-f72b-38d2",
       "next": "ee80215e-1cfb-11ed-a1da-0242ac120004-5-f5af-e3b2-f846-6e9e-c895",
       "previous": "ee80201e-1cfb-11ed-a1da-0242ac120004-5-8037-f219-eeed-21df-938c"
      }
     ],
     "next": "ee80215e-1cfb-11ed-a1da-0242ac120004-6-f5af-e3b2-f846-6e9e-c895-8d1e",
     "previous": "ee80201e-1cfb-11ed-a1da-0242ac120004-6-8037-f219-eeed-21df-938c-86e5"
    }
   },
   "outputs": [],
   "source": [
    "!ansible -i $hosts -b -m shell -a \"nmcli connection modify {loca_if} 802-3.mtu 9000\" ceph_node"
   ]
  },
  {
   "cell_type": "code",
   "execution_count": null,
   "metadata": {
    "lc_cell_meme": {
     "current": "ee80215e-1cfb-11ed-a1da-0242ac120004-6-f5af-e3b2-f846-6e9e-c895-8d1e",
     "history": [
      {
       "current": "ee80215e-1cfb-11ed-a1da-0242ac120004-1-f5af",
       "next": "20463bf4-f4eb-11eb-b29f-0242ac120008",
       "previous": "4f299e96-1850-11ed-a1da-0242ac120004"
      },
      {
       "current": "ee80215e-1cfb-11ed-a1da-0242ac120004-2-f5af-e3b2",
       "next": "20463bf4-f4eb-11eb-b29f-0242ac120008-1-67fa",
       "previous": "4f299e96-1850-11ed-a1da-0242ac120004-1-8c51"
      },
      {
       "current": "ee80215e-1cfb-11ed-a1da-0242ac120004-3-f5af-e3b2-f846",
       "next": "20463bf4-f4eb-11eb-b29f-0242ac120008-2-67fa-a5e6",
       "previous": "4f299e96-1850-11ed-a1da-0242ac120004-2-8c51-7bc6"
      },
      {
       "current": "ee80215e-1cfb-11ed-a1da-0242ac120004-4-f5af-e3b2-f846-6e9e",
       "next": "20463bf4-f4eb-11eb-b29f-0242ac120008-3-67fa-a5e6-fc67",
       "previous": "4f299e96-1850-11ed-a1da-0242ac120004-3-8c51-7bc6-77b4"
      },
      {
       "current": "ee80215e-1cfb-11ed-a1da-0242ac120004-5-f5af-e3b2-f846-6e9e-c895",
       "next": "20463bf4-f4eb-11eb-b29f-0242ac120008-4-67fa-a5e6-fc67-972a",
       "previous": "4f299e96-1850-11ed-a1da-0242ac120004-4-8c51-7bc6-77b4-14ac"
      },
      {
       "current": "ee80215e-1cfb-11ed-a1da-0242ac120004-6-f5af-e3b2-f846-6e9e-c895-8d1e",
       "next": "20463bf4-f4eb-11eb-b29f-0242ac120008-5-67fa-a5e6-fc67-972a-9b35",
       "previous": "4f299e96-1850-11ed-a1da-0242ac120004-5-8c51-7bc6-77b4-14ac-f72b"
      }
     ],
     "next": "20463bf4-f4eb-11eb-b29f-0242ac120008-6-67fa-a5e6-fc67-972a-9b35-6069",
     "previous": "4f299e96-1850-11ed-a1da-0242ac120004-6-8c51-7bc6-77b4-14ac-f72b-38d2"
    }
   },
   "outputs": [],
   "source": [
    "!sleep 5"
   ]
  },
  {
   "cell_type": "code",
   "execution_count": null,
   "metadata": {
    "lc_cell_meme": {
     "current": "20463bf4-f4eb-11eb-b29f-0242ac120008-6-67fa-a5e6-fc67-972a-9b35-6069",
     "history": [
      {
       "current": "20463bf4-f4eb-11eb-b29f-0242ac120008",
       "next": "20463d84-f4eb-11eb-b29f-0242ac120008",
       "previous": "20463a5a-f4eb-11eb-b29f-0242ac120008"
      },
      {
       "current": "20463bf4-f4eb-11eb-b29f-0242ac120008",
       "next": "20463d84-f4eb-11eb-b29f-0242ac120008",
       "previous": "4f299e96-1850-11ed-a1da-0242ac120004"
      },
      {
       "current": "20463bf4-f4eb-11eb-b29f-0242ac120008-1-67fa",
       "next": "ee802276-1cfb-11ed-a1da-0242ac120004",
       "previous": "ee80215e-1cfb-11ed-a1da-0242ac120004"
      },
      {
       "current": "20463bf4-f4eb-11eb-b29f-0242ac120008-2-67fa-a5e6",
       "next": "ee802276-1cfb-11ed-a1da-0242ac120004-1-b109",
       "previous": "ee80215e-1cfb-11ed-a1da-0242ac120004-1-f5af"
      },
      {
       "current": "20463bf4-f4eb-11eb-b29f-0242ac120008-3-67fa-a5e6-fc67",
       "next": "ee802276-1cfb-11ed-a1da-0242ac120004-2-b109-c21b",
       "previous": "ee80215e-1cfb-11ed-a1da-0242ac120004-2-f5af-e3b2"
      },
      {
       "current": "20463bf4-f4eb-11eb-b29f-0242ac120008-4-67fa-a5e6-fc67-972a",
       "next": "ee802276-1cfb-11ed-a1da-0242ac120004-3-b109-c21b-935b",
       "previous": "ee80215e-1cfb-11ed-a1da-0242ac120004-3-f5af-e3b2-f846"
      },
      {
       "current": "20463bf4-f4eb-11eb-b29f-0242ac120008-5-67fa-a5e6-fc67-972a-9b35",
       "next": "ee802276-1cfb-11ed-a1da-0242ac120004-4-b109-c21b-935b-98d6",
       "previous": "ee80215e-1cfb-11ed-a1da-0242ac120004-4-f5af-e3b2-f846-6e9e"
      },
      {
       "current": "20463bf4-f4eb-11eb-b29f-0242ac120008-6-67fa-a5e6-fc67-972a-9b35-6069",
       "next": "ee802276-1cfb-11ed-a1da-0242ac120004-5-b109-c21b-935b-98d6-7ee2",
       "previous": "ee80215e-1cfb-11ed-a1da-0242ac120004-5-f5af-e3b2-f846-6e9e-c895"
      }
     ],
     "next": "ee802276-1cfb-11ed-a1da-0242ac120004-6-b109-c21b-935b-98d6-7ee2-421a",
     "previous": "ee80215e-1cfb-11ed-a1da-0242ac120004-6-f5af-e3b2-f846-6e9e-c895-8d1e"
    }
   },
   "outputs": [],
   "source": [
    "!ansible -i $hosts -b -m shell -a \"nmcli con mod {loca_if} ipv6.method ignore\" ceph_node"
   ]
  },
  {
   "cell_type": "code",
   "execution_count": null,
   "metadata": {
    "lc_cell_meme": {
     "current": "ee802276-1cfb-11ed-a1da-0242ac120004-6-b109-c21b-935b-98d6-7ee2-421a",
     "history": [
      {
       "current": "ee802276-1cfb-11ed-a1da-0242ac120004-1-b109",
       "next": "20463d84-f4eb-11eb-b29f-0242ac120008",
       "previous": "20463bf4-f4eb-11eb-b29f-0242ac120008"
      },
      {
       "current": "ee802276-1cfb-11ed-a1da-0242ac120004-2-b109-c21b",
       "next": "20463d84-f4eb-11eb-b29f-0242ac120008-1-fa2d",
       "previous": "20463bf4-f4eb-11eb-b29f-0242ac120008-1-67fa"
      },
      {
       "current": "ee802276-1cfb-11ed-a1da-0242ac120004-3-b109-c21b-935b",
       "next": "20463d84-f4eb-11eb-b29f-0242ac120008-2-fa2d-132b",
       "previous": "20463bf4-f4eb-11eb-b29f-0242ac120008-2-67fa-a5e6"
      },
      {
       "current": "ee802276-1cfb-11ed-a1da-0242ac120004-4-b109-c21b-935b-98d6",
       "next": "20463d84-f4eb-11eb-b29f-0242ac120008-3-fa2d-132b-1866",
       "previous": "20463bf4-f4eb-11eb-b29f-0242ac120008-3-67fa-a5e6-fc67"
      },
      {
       "current": "ee802276-1cfb-11ed-a1da-0242ac120004-5-b109-c21b-935b-98d6-7ee2",
       "next": "20463d84-f4eb-11eb-b29f-0242ac120008-4-fa2d-132b-1866-305a",
       "previous": "20463bf4-f4eb-11eb-b29f-0242ac120008-4-67fa-a5e6-fc67-972a"
      },
      {
       "current": "ee802276-1cfb-11ed-a1da-0242ac120004-6-b109-c21b-935b-98d6-7ee2-421a",
       "next": "20463d84-f4eb-11eb-b29f-0242ac120008-5-fa2d-132b-1866-305a-94be",
       "previous": "20463bf4-f4eb-11eb-b29f-0242ac120008-5-67fa-a5e6-fc67-972a-9b35"
      }
     ],
     "next": "20463d84-f4eb-11eb-b29f-0242ac120008-6-fa2d-132b-1866-305a-94be-d46a",
     "previous": "20463bf4-f4eb-11eb-b29f-0242ac120008-6-67fa-a5e6-fc67-972a-9b35-6069"
    }
   },
   "outputs": [],
   "source": [
    "!sleep 5"
   ]
  },
  {
   "cell_type": "code",
   "execution_count": null,
   "metadata": {
    "lc_cell_meme": {
     "current": "20463d84-f4eb-11eb-b29f-0242ac120008-6-fa2d-132b-1866-305a-94be-d46a",
     "history": [
      {
       "current": "20463d84-f4eb-11eb-b29f-0242ac120008",
       "next": "20463ef6-f4eb-11eb-b29f-0242ac120008",
       "previous": "20463bf4-f4eb-11eb-b29f-0242ac120008"
      },
      {
       "current": "20463d84-f4eb-11eb-b29f-0242ac120008-1-fa2d",
       "next": "ee802384-1cfb-11ed-a1da-0242ac120004",
       "previous": "ee802276-1cfb-11ed-a1da-0242ac120004"
      },
      {
       "current": "20463d84-f4eb-11eb-b29f-0242ac120008-2-fa2d-132b",
       "next": "ee802384-1cfb-11ed-a1da-0242ac120004-1-67e6",
       "previous": "ee802276-1cfb-11ed-a1da-0242ac120004-1-b109"
      },
      {
       "current": "20463d84-f4eb-11eb-b29f-0242ac120008-3-fa2d-132b-1866",
       "next": "ee802384-1cfb-11ed-a1da-0242ac120004-2-67e6-0ff5",
       "previous": "ee802276-1cfb-11ed-a1da-0242ac120004-2-b109-c21b"
      },
      {
       "current": "20463d84-f4eb-11eb-b29f-0242ac120008-4-fa2d-132b-1866-305a",
       "next": "ee802384-1cfb-11ed-a1da-0242ac120004-3-67e6-0ff5-dec7",
       "previous": "ee802276-1cfb-11ed-a1da-0242ac120004-3-b109-c21b-935b"
      },
      {
       "current": "20463d84-f4eb-11eb-b29f-0242ac120008-5-fa2d-132b-1866-305a-94be",
       "next": "ee802384-1cfb-11ed-a1da-0242ac120004-4-67e6-0ff5-dec7-9de0",
       "previous": "ee802276-1cfb-11ed-a1da-0242ac120004-4-b109-c21b-935b-98d6"
      },
      {
       "current": "20463d84-f4eb-11eb-b29f-0242ac120008-6-fa2d-132b-1866-305a-94be-d46a",
       "next": "ee802384-1cfb-11ed-a1da-0242ac120004-5-67e6-0ff5-dec7-9de0-a40c",
       "previous": "ee802276-1cfb-11ed-a1da-0242ac120004-5-b109-c21b-935b-98d6-7ee2"
      }
     ],
     "next": "ee802384-1cfb-11ed-a1da-0242ac120004-6-67e6-0ff5-dec7-9de0-a40c-bc7a",
     "previous": "ee802276-1cfb-11ed-a1da-0242ac120004-6-b109-c21b-935b-98d6-7ee2-421a"
    }
   },
   "outputs": [],
   "source": [
    "!ansible -i $hosts -b -m shell -a \"nmcli con mod {loca_if} ipv4.may-fail no\" ceph_node"
   ]
  },
  {
   "cell_type": "code",
   "execution_count": null,
   "metadata": {
    "lc_cell_meme": {
     "current": "ee802384-1cfb-11ed-a1da-0242ac120004-6-67e6-0ff5-dec7-9de0-a40c-bc7a",
     "history": [
      {
       "current": "ee802384-1cfb-11ed-a1da-0242ac120004-1-67e6",
       "next": "20463ef6-f4eb-11eb-b29f-0242ac120008",
       "previous": "20463d84-f4eb-11eb-b29f-0242ac120008"
      },
      {
       "current": "ee802384-1cfb-11ed-a1da-0242ac120004-2-67e6-0ff5",
       "next": "20463ef6-f4eb-11eb-b29f-0242ac120008-1-ee77",
       "previous": "20463d84-f4eb-11eb-b29f-0242ac120008-1-fa2d"
      },
      {
       "current": "ee802384-1cfb-11ed-a1da-0242ac120004-3-67e6-0ff5-dec7",
       "next": "20463ef6-f4eb-11eb-b29f-0242ac120008-2-ee77-03ce",
       "previous": "20463d84-f4eb-11eb-b29f-0242ac120008-2-fa2d-132b"
      },
      {
       "current": "ee802384-1cfb-11ed-a1da-0242ac120004-4-67e6-0ff5-dec7-9de0",
       "next": "20463ef6-f4eb-11eb-b29f-0242ac120008-3-ee77-03ce-a538",
       "previous": "20463d84-f4eb-11eb-b29f-0242ac120008-3-fa2d-132b-1866"
      },
      {
       "current": "ee802384-1cfb-11ed-a1da-0242ac120004-5-67e6-0ff5-dec7-9de0-a40c",
       "next": "20463ef6-f4eb-11eb-b29f-0242ac120008-4-ee77-03ce-a538-7aa4",
       "previous": "20463d84-f4eb-11eb-b29f-0242ac120008-4-fa2d-132b-1866-305a"
      },
      {
       "current": "ee802384-1cfb-11ed-a1da-0242ac120004-6-67e6-0ff5-dec7-9de0-a40c-bc7a",
       "next": "20463ef6-f4eb-11eb-b29f-0242ac120008-5-ee77-03ce-a538-7aa4-9d5a",
       "previous": "20463d84-f4eb-11eb-b29f-0242ac120008-5-fa2d-132b-1866-305a-94be"
      }
     ],
     "next": "20463ef6-f4eb-11eb-b29f-0242ac120008-6-ee77-03ce-a538-7aa4-9d5a-a5f3",
     "previous": "20463d84-f4eb-11eb-b29f-0242ac120008-6-fa2d-132b-1866-305a-94be-d46a"
    }
   },
   "outputs": [],
   "source": [
    "!sleep 5"
   ]
  },
  {
   "cell_type": "code",
   "execution_count": null,
   "metadata": {
    "lc_cell_meme": {
     "current": "20463ef6-f4eb-11eb-b29f-0242ac120008-6-ee77-03ce-a538-7aa4-9d5a-a5f3",
     "history": [
      {
       "current": "20463ef6-f4eb-11eb-b29f-0242ac120008",
       "next": "20464072-f4eb-11eb-b29f-0242ac120008",
       "previous": "20463d84-f4eb-11eb-b29f-0242ac120008"
      },
      {
       "current": "20463ef6-f4eb-11eb-b29f-0242ac120008-1-ee77",
       "next": "ee802488-1cfb-11ed-a1da-0242ac120004",
       "previous": "ee802384-1cfb-11ed-a1da-0242ac120004"
      },
      {
       "current": "20463ef6-f4eb-11eb-b29f-0242ac120008-1-ee77",
       "next": "ee802488-1cfb-11ed-a1da-0242ac120004-1-cbf4",
       "previous": "ee802384-1cfb-11ed-a1da-0242ac120004-1-67e6"
      },
      {
       "current": "20463ef6-f4eb-11eb-b29f-0242ac120008-2-ee77-03ce",
       "next": "20464072-f4eb-11eb-b29f-0242ac120008-1-9bb6",
       "previous": "ee802384-1cfb-11ed-a1da-0242ac120004-1-67e6"
      },
      {
       "current": "20463ef6-f4eb-11eb-b29f-0242ac120008-3-ee77-03ce-a538",
       "next": "20464072-f4eb-11eb-b29f-0242ac120008-2-9bb6-9761",
       "previous": "ee802384-1cfb-11ed-a1da-0242ac120004-2-67e6-0ff5"
      },
      {
       "current": "20463ef6-f4eb-11eb-b29f-0242ac120008-4-ee77-03ce-a538-7aa4",
       "next": "20464072-f4eb-11eb-b29f-0242ac120008-3-9bb6-9761-0f6d",
       "previous": "ee802384-1cfb-11ed-a1da-0242ac120004-3-67e6-0ff5-dec7"
      },
      {
       "current": "20463ef6-f4eb-11eb-b29f-0242ac120008-5-ee77-03ce-a538-7aa4-9d5a",
       "next": "20464072-f4eb-11eb-b29f-0242ac120008-4-9bb6-9761-0f6d-a3be",
       "previous": "ee802384-1cfb-11ed-a1da-0242ac120004-4-67e6-0ff5-dec7-9de0"
      },
      {
       "current": "20463ef6-f4eb-11eb-b29f-0242ac120008-5-ee77-03ce-a538-7aa4-9d5a",
       "next": "20464072-f4eb-11eb-b29f-0242ac120008-5-9bb6-9761-0f6d-a3be-4837",
       "previous": "ee802384-1cfb-11ed-a1da-0242ac120004-5-67e6-0ff5-dec7-9de0-a40c"
      },
      {
       "current": "20463ef6-f4eb-11eb-b29f-0242ac120008-6-ee77-03ce-a538-7aa4-9d5a-a5f3",
       "next": "204641e4-f4eb-11eb-b29f-0242ac120008-5-9394-18fc-9d9c-5b89-1e9f",
       "previous": "ee802384-1cfb-11ed-a1da-0242ac120004-5-67e6-0ff5-dec7-9de0-a40c"
      }
     ],
     "next": "204641e4-f4eb-11eb-b29f-0242ac120008-6-9394-18fc-9d9c-5b89-1e9f-2df3",
     "previous": "ee802384-1cfb-11ed-a1da-0242ac120004-6-67e6-0ff5-dec7-9de0-a40c-bc7a"
    }
   },
   "outputs": [],
   "source": [
    "if ceph_node_strage_ip is not None:\n",
    "    !ansible -i $hosts -b -m shell -a \"nmcli con mod {loca_if} ipv4.addresses '{ceph_node_strage_ip}/{strage_prefix}'\" ceph_node\n",
    "    !sleep 5"
   ]
  },
  {
   "cell_type": "code",
   "execution_count": null,
   "metadata": {
    "lc_cell_meme": {
     "current": "204641e4-f4eb-11eb-b29f-0242ac120008-6-9394-18fc-9d9c-5b89-1e9f-2df3",
     "history": [
      {
       "current": "204641e4-f4eb-11eb-b29f-0242ac120008-1-9394",
       "next": "20464356-f4eb-11eb-b29f-0242ac120008",
       "previous": "20464072-f4eb-11eb-b29f-0242ac120008"
      },
      {
       "current": "204641e4-f4eb-11eb-b29f-0242ac120008-2-9394-18fc",
       "next": "20464356-f4eb-11eb-b29f-0242ac120008-1-3f73",
       "previous": "20464072-f4eb-11eb-b29f-0242ac120008-1-9bb6"
      },
      {
       "current": "204641e4-f4eb-11eb-b29f-0242ac120008-3-9394-18fc-9d9c",
       "next": "20464356-f4eb-11eb-b29f-0242ac120008-2-3f73-dfcc",
       "previous": "20464072-f4eb-11eb-b29f-0242ac120008-2-9bb6-9761"
      },
      {
       "current": "204641e4-f4eb-11eb-b29f-0242ac120008-4-9394-18fc-9d9c-5b89",
       "next": "20464356-f4eb-11eb-b29f-0242ac120008-3-3f73-dfcc-6375",
       "previous": "20464072-f4eb-11eb-b29f-0242ac120008-3-9bb6-9761-0f6d"
      },
      {
       "current": "204641e4-f4eb-11eb-b29f-0242ac120008-5-9394-18fc-9d9c-5b89-1e9f",
       "next": "20464356-f4eb-11eb-b29f-0242ac120008-4-3f73-dfcc-6375-aa69",
       "previous": "20464072-f4eb-11eb-b29f-0242ac120008-4-9bb6-9761-0f6d-a3be"
      },
      {
       "current": "204641e4-f4eb-11eb-b29f-0242ac120008-5-9394-18fc-9d9c-5b89-1e9f",
       "next": "20464356-f4eb-11eb-b29f-0242ac120008-5-3f73-dfcc-6375-aa69-5e01",
       "previous": "20464072-f4eb-11eb-b29f-0242ac120008-5-9bb6-9761-0f6d-a3be-4837"
      },
      {
       "current": "204641e4-f4eb-11eb-b29f-0242ac120008-6-9394-18fc-9d9c-5b89-1e9f-2df3",
       "next": "20464356-f4eb-11eb-b29f-0242ac120008-5-3f73-dfcc-6375-aa69-5e01",
       "previous": "20463ef6-f4eb-11eb-b29f-0242ac120008-5-ee77-03ce-a538-7aa4-9d5a"
      }
     ],
     "next": "20464356-f4eb-11eb-b29f-0242ac120008-6-3f73-dfcc-6375-aa69-5e01-2a61",
     "previous": "20463ef6-f4eb-11eb-b29f-0242ac120008-6-ee77-03ce-a538-7aa4-9d5a-a5f3"
    }
   },
   "outputs": [],
   "source": [
    "!ansible -i $hosts -b -m shell -a \"nmcli con mod {loca_if} ipv4.method manual\" ceph_node"
   ]
  },
  {
   "cell_type": "code",
   "execution_count": null,
   "metadata": {
    "lc_cell_meme": {
     "current": "20464356-f4eb-11eb-b29f-0242ac120008-6-3f73-dfcc-6375-aa69-5e01-2a61",
     "history": [
      {
       "current": "20464356-f4eb-11eb-b29f-0242ac120008",
       "next": "7cf7d994-f4ea-11eb-b29f-0242ac120008",
       "previous": "204641e4-f4eb-11eb-b29f-0242ac120008"
      },
      {
       "current": "20464356-f4eb-11eb-b29f-0242ac120008",
       "next": "5be84f1c-f4eb-11eb-b29f-0242ac120008",
       "previous": "204641e4-f4eb-11eb-b29f-0242ac120008"
      },
      {
       "current": "20464356-f4eb-11eb-b29f-0242ac120008-1-3f73",
       "next": "d2efdd38-1852-11ed-a1da-0242ac120004",
       "previous": "204641e4-f4eb-11eb-b29f-0242ac120008"
      },
      {
       "current": "20464356-f4eb-11eb-b29f-0242ac120008-2-3f73-dfcc",
       "next": "d2efdd38-1852-11ed-a1da-0242ac120004-1-33af",
       "previous": "204641e4-f4eb-11eb-b29f-0242ac120008-1-9394"
      },
      {
       "current": "20464356-f4eb-11eb-b29f-0242ac120008-3-3f73-dfcc-6375",
       "next": "d2efdd38-1852-11ed-a1da-0242ac120004-2-33af-55b7",
       "previous": "204641e4-f4eb-11eb-b29f-0242ac120008-2-9394-18fc"
      },
      {
       "current": "20464356-f4eb-11eb-b29f-0242ac120008-4-3f73-dfcc-6375-aa69",
       "next": "d2efdd38-1852-11ed-a1da-0242ac120004-3-33af-55b7-cb93",
       "previous": "204641e4-f4eb-11eb-b29f-0242ac120008-3-9394-18fc-9d9c"
      },
      {
       "current": "20464356-f4eb-11eb-b29f-0242ac120008-5-3f73-dfcc-6375-aa69-5e01",
       "next": "d2efdd38-1852-11ed-a1da-0242ac120004-4-33af-55b7-cb93-5c3b",
       "previous": "204641e4-f4eb-11eb-b29f-0242ac120008-4-9394-18fc-9d9c-5b89"
      },
      {
       "current": "20464356-f4eb-11eb-b29f-0242ac120008-6-3f73-dfcc-6375-aa69-5e01-2a61",
       "next": "d2efdd38-1852-11ed-a1da-0242ac120004-5-33af-55b7-cb93-5c3b-5560",
       "previous": "204641e4-f4eb-11eb-b29f-0242ac120008-5-9394-18fc-9d9c-5b89-1e9f"
      }
     ],
     "next": "d2efdd38-1852-11ed-a1da-0242ac120004-6-33af-55b7-cb93-5c3b-5560-e29e",
     "previous": "204641e4-f4eb-11eb-b29f-0242ac120008-6-9394-18fc-9d9c-5b89-1e9f-2df3"
    }
   },
   "outputs": [],
   "source": [
    "!ansible -i $hosts -b -m shell -a \"nmcli conn\" ceph_node"
   ]
  },
  {
   "cell_type": "code",
   "execution_count": null,
   "metadata": {
    "lc_cell_meme": {
     "current": "d2efdd38-1852-11ed-a1da-0242ac120004-6-33af-55b7-cb93-5c3b-5560-e29e",
     "history": [
      {
       "current": "d2efdd38-1852-11ed-a1da-0242ac120004",
       "next": "5be84f1c-f4eb-11eb-b29f-0242ac120008",
       "previous": "20464356-f4eb-11eb-b29f-0242ac120008"
      },
      {
       "current": "d2efdd38-1852-11ed-a1da-0242ac120004-1-33af",
       "next": "1a775622-1853-11ed-a1da-0242ac120004",
       "previous": "20464356-f4eb-11eb-b29f-0242ac120008"
      },
      {
       "current": "d2efdd38-1852-11ed-a1da-0242ac120004-2-33af-55b7",
       "next": "1a775622-1853-11ed-a1da-0242ac120004-1-becc",
       "previous": "20464356-f4eb-11eb-b29f-0242ac120008-1-3f73"
      },
      {
       "current": "d2efdd38-1852-11ed-a1da-0242ac120004-3-33af-55b7-cb93",
       "next": "1a775622-1853-11ed-a1da-0242ac120004-2-becc-fee5",
       "previous": "20464356-f4eb-11eb-b29f-0242ac120008-2-3f73-dfcc"
      },
      {
       "current": "d2efdd38-1852-11ed-a1da-0242ac120004-4-33af-55b7-cb93-5c3b",
       "next": "1a775622-1853-11ed-a1da-0242ac120004-3-becc-fee5-402d",
       "previous": "20464356-f4eb-11eb-b29f-0242ac120008-3-3f73-dfcc-6375"
      },
      {
       "current": "d2efdd38-1852-11ed-a1da-0242ac120004-5-33af-55b7-cb93-5c3b-5560",
       "next": "1a775622-1853-11ed-a1da-0242ac120004-4-becc-fee5-402d-2117",
       "previous": "20464356-f4eb-11eb-b29f-0242ac120008-4-3f73-dfcc-6375-aa69"
      },
      {
       "current": "d2efdd38-1852-11ed-a1da-0242ac120004-6-33af-55b7-cb93-5c3b-5560-e29e",
       "next": "1a775622-1853-11ed-a1da-0242ac120004-5-becc-fee5-402d-2117-26d8",
       "previous": "20464356-f4eb-11eb-b29f-0242ac120008-5-3f73-dfcc-6375-aa69-5e01"
      }
     ],
     "next": "1a775622-1853-11ed-a1da-0242ac120004-6-becc-fee5-402d-2117-26d8-3873",
     "previous": "20464356-f4eb-11eb-b29f-0242ac120008-6-3f73-dfcc-6375-aa69-5e01-2a61"
    }
   },
   "outputs": [],
   "source": [
    "!ansible -i $hosts -b -m shell -a \"nmcli d show {loca_if}\" ceph_node"
   ]
  },
  {
   "cell_type": "code",
   "execution_count": null,
   "metadata": {
    "lc_cell_meme": {
     "current": "1a775622-1853-11ed-a1da-0242ac120004-6-becc-fee5-402d-2117-26d8-3873",
     "history": [
      {
       "current": "1a775622-1853-11ed-a1da-0242ac120004-1-becc",
       "next": "5be84f1c-f4eb-11eb-b29f-0242ac120008",
       "previous": "d2efdd38-1852-11ed-a1da-0242ac120004"
      },
      {
       "current": "1a775622-1853-11ed-a1da-0242ac120004-2-becc-fee5",
       "next": "5be84f1c-f4eb-11eb-b29f-0242ac120008-1-ae1f",
       "previous": "d2efdd38-1852-11ed-a1da-0242ac120004-1-33af"
      },
      {
       "current": "1a775622-1853-11ed-a1da-0242ac120004-3-becc-fee5-402d",
       "next": "5be84f1c-f4eb-11eb-b29f-0242ac120008-2-ae1f-aa83",
       "previous": "d2efdd38-1852-11ed-a1da-0242ac120004-2-33af-55b7"
      },
      {
       "current": "1a775622-1853-11ed-a1da-0242ac120004-4-becc-fee5-402d-2117",
       "next": "5be84f1c-f4eb-11eb-b29f-0242ac120008-3-ae1f-aa83-c056",
       "previous": "d2efdd38-1852-11ed-a1da-0242ac120004-3-33af-55b7-cb93"
      },
      {
       "current": "1a775622-1853-11ed-a1da-0242ac120004-5-becc-fee5-402d-2117-26d8",
       "next": "5be84f1c-f4eb-11eb-b29f-0242ac120008-4-ae1f-aa83-c056-d7ee",
       "previous": "d2efdd38-1852-11ed-a1da-0242ac120004-4-33af-55b7-cb93-5c3b"
      },
      {
       "current": "1a775622-1853-11ed-a1da-0242ac120004-6-becc-fee5-402d-2117-26d8-3873",
       "next": "5be84f1c-f4eb-11eb-b29f-0242ac120008-5-ae1f-aa83-c056-d7ee-7e20",
       "previous": "d2efdd38-1852-11ed-a1da-0242ac120004-5-33af-55b7-cb93-5c3b-5560"
      }
     ],
     "next": "5be84f1c-f4eb-11eb-b29f-0242ac120008-6-ae1f-aa83-c056-d7ee-7e20-7be5",
     "previous": "d2efdd38-1852-11ed-a1da-0242ac120004-6-33af-55b7-cb93-5c3b-5560-e29e"
    }
   },
   "outputs": [],
   "source": [
    "!ansible -i $hosts -b -m shell -a \"nmcli con show {loca_if}\" ceph_node"
   ]
  },
  {
   "cell_type": "markdown",
   "metadata": {
    "lc_cell_meme": {
     "current": "5be84f1c-f4eb-11eb-b29f-0242ac120008-6-ae1f-aa83-c056-d7ee-7e20-7be5",
     "history": [
      {
       "current": "5be84f1c-f4eb-11eb-b29f-0242ac120008",
       "next": "7cf7d994-f4ea-11eb-b29f-0242ac120008",
       "previous": "20464356-f4eb-11eb-b29f-0242ac120008"
      },
      {
       "current": "5be84f1c-f4eb-11eb-b29f-0242ac120008",
       "next": "7cf7d994-f4ea-11eb-b29f-0242ac120008",
       "previous": "d2efdd38-1852-11ed-a1da-0242ac120004"
      },
      {
       "current": "5be84f1c-f4eb-11eb-b29f-0242ac120008-1-ae1f",
       "next": "7cf7d994-f4ea-11eb-b29f-0242ac120008",
       "previous": "1a775622-1853-11ed-a1da-0242ac120004"
      },
      {
       "current": "5be84f1c-f4eb-11eb-b29f-0242ac120008-2-ae1f-aa83",
       "next": "7cf7d994-f4ea-11eb-b29f-0242ac120008-1-81f0",
       "previous": "1a775622-1853-11ed-a1da-0242ac120004-1-becc"
      },
      {
       "current": "5be84f1c-f4eb-11eb-b29f-0242ac120008-3-ae1f-aa83-c056",
       "next": "7cf7d994-f4ea-11eb-b29f-0242ac120008-2-81f0-8872",
       "previous": "1a775622-1853-11ed-a1da-0242ac120004-2-becc-fee5"
      },
      {
       "current": "5be84f1c-f4eb-11eb-b29f-0242ac120008-4-ae1f-aa83-c056-d7ee",
       "next": "7cf7d994-f4ea-11eb-b29f-0242ac120008-3-81f0-8872-cc3c",
       "previous": "1a775622-1853-11ed-a1da-0242ac120004-3-becc-fee5-402d"
      },
      {
       "current": "5be84f1c-f4eb-11eb-b29f-0242ac120008-5-ae1f-aa83-c056-d7ee-7e20",
       "next": "7cf7d994-f4ea-11eb-b29f-0242ac120008-4-81f0-8872-cc3c-b325",
       "previous": "1a775622-1853-11ed-a1da-0242ac120004-4-becc-fee5-402d-2117"
      },
      {
       "current": "5be84f1c-f4eb-11eb-b29f-0242ac120008-6-ae1f-aa83-c056-d7ee-7e20-7be5",
       "next": "7cf7d994-f4ea-11eb-b29f-0242ac120008-5-81f0-8872-cc3c-b325-a023",
       "previous": "1a775622-1853-11ed-a1da-0242ac120004-5-becc-fee5-402d-2117-26d8"
      }
     ],
     "next": "7cf7d994-f4ea-11eb-b29f-0242ac120008-6-81f0-8872-cc3c-b325-a023-befe",
     "previous": "1a775622-1853-11ed-a1da-0242ac120004-6-becc-fee5-402d-2117-26d8-3873"
    }
   },
   "source": [
    "## 再起動によるネットワーク設定更新と確認"
   ]
  },
  {
   "cell_type": "code",
   "execution_count": null,
   "metadata": {
    "lc_cell_meme": {
     "current": "7cf7d994-f4ea-11eb-b29f-0242ac120008-6-81f0-8872-cc3c-b325-a023-befe",
     "history": [
      {
       "current": "7cf7d994-f4ea-11eb-b29f-0242ac120008",
       "next": "35c581ba-55a3-11e7-b0b2-00163e9c0e35-2-f60b-133a",
       "previous": "7cf7d840-f4ea-11eb-b29f-0242ac120008"
      },
      {
       "current": "7cf7d994-f4ea-11eb-b29f-0242ac120008",
       "next": "35c581ba-55a3-11e7-b0b2-00163e9c0e35-2-f60b-133a",
       "previous": "d8bc4954-f4ea-11eb-b29f-0242ac120008"
      },
      {
       "current": "7cf7d994-f4ea-11eb-b29f-0242ac120008",
       "next": "204644c8-f4eb-11eb-b29f-0242ac120008",
       "previous": "20464356-f4eb-11eb-b29f-0242ac120008"
      },
      {
       "current": "7cf7d994-f4ea-11eb-b29f-0242ac120008",
       "next": "204644c8-f4eb-11eb-b29f-0242ac120008",
       "previous": "5be84f1c-f4eb-11eb-b29f-0242ac120008"
      },
      {
       "current": "7cf7d994-f4ea-11eb-b29f-0242ac120008-1-81f0",
       "next": "7e9efe98-f4eb-11eb-b29f-0242ac120008",
       "previous": "5be84f1c-f4eb-11eb-b29f-0242ac120008"
      },
      {
       "current": "7cf7d994-f4ea-11eb-b29f-0242ac120008-2-81f0-8872",
       "next": "7e9efe98-f4eb-11eb-b29f-0242ac120008-1-9984",
       "previous": "5be84f1c-f4eb-11eb-b29f-0242ac120008-1-ae1f"
      },
      {
       "current": "7cf7d994-f4ea-11eb-b29f-0242ac120008-3-81f0-8872-cc3c",
       "next": "7e9efe98-f4eb-11eb-b29f-0242ac120008-2-9984-bf5f",
       "previous": "5be84f1c-f4eb-11eb-b29f-0242ac120008-2-ae1f-aa83"
      },
      {
       "current": "7cf7d994-f4ea-11eb-b29f-0242ac120008-4-81f0-8872-cc3c-b325",
       "next": "7e9efe98-f4eb-11eb-b29f-0242ac120008-3-9984-bf5f-8ff6",
       "previous": "5be84f1c-f4eb-11eb-b29f-0242ac120008-3-ae1f-aa83-c056"
      },
      {
       "current": "7cf7d994-f4ea-11eb-b29f-0242ac120008-5-81f0-8872-cc3c-b325-a023",
       "next": "7e9efe98-f4eb-11eb-b29f-0242ac120008-4-9984-bf5f-8ff6-fdc2",
       "previous": "5be84f1c-f4eb-11eb-b29f-0242ac120008-4-ae1f-aa83-c056-d7ee"
      },
      {
       "current": "7cf7d994-f4ea-11eb-b29f-0242ac120008-6-81f0-8872-cc3c-b325-a023-befe",
       "next": "7e9efe98-f4eb-11eb-b29f-0242ac120008-5-9984-bf5f-8ff6-fdc2-17fb",
       "previous": "5be84f1c-f4eb-11eb-b29f-0242ac120008-5-ae1f-aa83-c056-d7ee-7e20"
      }
     ],
     "next": "7e9efe98-f4eb-11eb-b29f-0242ac120008-6-9984-bf5f-8ff6-fdc2-17fb-3dae",
     "previous": "5be84f1c-f4eb-11eb-b29f-0242ac120008-6-ae1f-aa83-c056-d7ee-7e20-7be5"
    }
   },
   "outputs": [],
   "source": [
    "!ansible -i $hosts -b -m reboot -a \"reboot_timeout=3600\" ceph_node"
   ]
  },
  {
   "cell_type": "code",
   "execution_count": null,
   "metadata": {
    "lc_cell_meme": {
     "current": "7e9efe98-f4eb-11eb-b29f-0242ac120008-6-9984-bf5f-8ff6-fdc2-17fb-3dae",
     "history": [
      {
       "current": "7e9efe98-f4eb-11eb-b29f-0242ac120008-1-9984",
       "next": "204644c8-f4eb-11eb-b29f-0242ac120008",
       "previous": "7cf7d994-f4ea-11eb-b29f-0242ac120008"
      },
      {
       "current": "7e9efe98-f4eb-11eb-b29f-0242ac120008-2-9984-bf5f",
       "next": "204644c8-f4eb-11eb-b29f-0242ac120008-1-7159",
       "previous": "7cf7d994-f4ea-11eb-b29f-0242ac120008-1-81f0"
      },
      {
       "current": "7e9efe98-f4eb-11eb-b29f-0242ac120008-3-9984-bf5f-8ff6",
       "next": "204644c8-f4eb-11eb-b29f-0242ac120008-2-7159-0e77",
       "previous": "7cf7d994-f4ea-11eb-b29f-0242ac120008-2-81f0-8872"
      },
      {
       "current": "7e9efe98-f4eb-11eb-b29f-0242ac120008-4-9984-bf5f-8ff6-fdc2",
       "next": "204644c8-f4eb-11eb-b29f-0242ac120008-3-7159-0e77-a84c",
       "previous": "7cf7d994-f4ea-11eb-b29f-0242ac120008-3-81f0-8872-cc3c"
      },
      {
       "current": "7e9efe98-f4eb-11eb-b29f-0242ac120008-5-9984-bf5f-8ff6-fdc2-17fb",
       "next": "204644c8-f4eb-11eb-b29f-0242ac120008-4-7159-0e77-a84c-556f",
       "previous": "7cf7d994-f4ea-11eb-b29f-0242ac120008-4-81f0-8872-cc3c-b325"
      },
      {
       "current": "7e9efe98-f4eb-11eb-b29f-0242ac120008-6-9984-bf5f-8ff6-fdc2-17fb-3dae",
       "next": "204644c8-f4eb-11eb-b29f-0242ac120008-5-7159-0e77-a84c-556f-1f7a",
       "previous": "7cf7d994-f4ea-11eb-b29f-0242ac120008-5-81f0-8872-cc3c-b325-a023"
      }
     ],
     "next": "204644c8-f4eb-11eb-b29f-0242ac120008-6-7159-0e77-a84c-556f-1f7a-cebb",
     "previous": "7cf7d994-f4ea-11eb-b29f-0242ac120008-6-81f0-8872-cc3c-b325-a023-befe"
    }
   },
   "outputs": [],
   "source": [
    "!ansible -i $hosts -b -m shell -a \"nmcli conn\" ceph_node"
   ]
  },
  {
   "cell_type": "code",
   "execution_count": null,
   "metadata": {
    "lc_cell_meme": {
     "current": "204644c8-f4eb-11eb-b29f-0242ac120008-6-7159-0e77-a84c-556f-1f7a-cebb",
     "history": [
      {
       "current": "204644c8-f4eb-11eb-b29f-0242ac120008",
       "next": "2046463a-f4eb-11eb-b29f-0242ac120008",
       "previous": "7cf7d994-f4ea-11eb-b29f-0242ac120008"
      },
      {
       "current": "204644c8-f4eb-11eb-b29f-0242ac120008-1-7159",
       "next": "2046463a-f4eb-11eb-b29f-0242ac120008",
       "previous": "7e9efe98-f4eb-11eb-b29f-0242ac120008"
      },
      {
       "current": "204644c8-f4eb-11eb-b29f-0242ac120008-2-7159-0e77",
       "next": "2046463a-f4eb-11eb-b29f-0242ac120008-1-0ac0",
       "previous": "7e9efe98-f4eb-11eb-b29f-0242ac120008-1-9984"
      },
      {
       "current": "204644c8-f4eb-11eb-b29f-0242ac120008-3-7159-0e77-a84c",
       "next": "2046463a-f4eb-11eb-b29f-0242ac120008-2-0ac0-101e",
       "previous": "7e9efe98-f4eb-11eb-b29f-0242ac120008-2-9984-bf5f"
      },
      {
       "current": "204644c8-f4eb-11eb-b29f-0242ac120008-4-7159-0e77-a84c-556f",
       "next": "2046463a-f4eb-11eb-b29f-0242ac120008-3-0ac0-101e-b666",
       "previous": "7e9efe98-f4eb-11eb-b29f-0242ac120008-3-9984-bf5f-8ff6"
      },
      {
       "current": "204644c8-f4eb-11eb-b29f-0242ac120008-5-7159-0e77-a84c-556f-1f7a",
       "next": "2046463a-f4eb-11eb-b29f-0242ac120008-4-0ac0-101e-b666-fec9",
       "previous": "7e9efe98-f4eb-11eb-b29f-0242ac120008-4-9984-bf5f-8ff6-fdc2"
      },
      {
       "current": "204644c8-f4eb-11eb-b29f-0242ac120008-6-7159-0e77-a84c-556f-1f7a-cebb",
       "next": "2046463a-f4eb-11eb-b29f-0242ac120008-5-0ac0-101e-b666-fec9-6fa6",
       "previous": "7e9efe98-f4eb-11eb-b29f-0242ac120008-5-9984-bf5f-8ff6-fdc2-17fb"
      }
     ],
     "next": "2046463a-f4eb-11eb-b29f-0242ac120008-6-0ac0-101e-b666-fec9-6fa6-1f84",
     "previous": "7e9efe98-f4eb-11eb-b29f-0242ac120008-6-9984-bf5f-8ff6-fdc2-17fb-3dae"
    }
   },
   "outputs": [],
   "source": [
    "!ansible -i $hosts -b -m shell -a \"ip a\" ceph_node"
   ]
  },
  {
   "cell_type": "code",
   "execution_count": null,
   "metadata": {
    "lc_cell_meme": {
     "current": "2046463a-f4eb-11eb-b29f-0242ac120008-6-0ac0-101e-b666-fec9-6fa6-1f84",
     "history": [
      {
       "current": "2046463a-f4eb-11eb-b29f-0242ac120008-1-0ac0",
       "next": "204647a2-f4eb-11eb-b29f-0242ac120008",
       "previous": "204644c8-f4eb-11eb-b29f-0242ac120008"
      },
      {
       "current": "2046463a-f4eb-11eb-b29f-0242ac120008-2-0ac0-101e",
       "next": "204647a2-f4eb-11eb-b29f-0242ac120008-1-10f9",
       "previous": "204644c8-f4eb-11eb-b29f-0242ac120008-1-7159"
      },
      {
       "current": "2046463a-f4eb-11eb-b29f-0242ac120008-3-0ac0-101e-b666",
       "next": "204647a2-f4eb-11eb-b29f-0242ac120008-2-10f9-6d61",
       "previous": "204644c8-f4eb-11eb-b29f-0242ac120008-2-7159-0e77"
      },
      {
       "current": "2046463a-f4eb-11eb-b29f-0242ac120008-4-0ac0-101e-b666-fec9",
       "next": "204647a2-f4eb-11eb-b29f-0242ac120008-3-10f9-6d61-38ce",
       "previous": "204644c8-f4eb-11eb-b29f-0242ac120008-3-7159-0e77-a84c"
      },
      {
       "current": "2046463a-f4eb-11eb-b29f-0242ac120008-5-0ac0-101e-b666-fec9-6fa6",
       "next": "204647a2-f4eb-11eb-b29f-0242ac120008-4-10f9-6d61-38ce-a999",
       "previous": "204644c8-f4eb-11eb-b29f-0242ac120008-4-7159-0e77-a84c-556f"
      },
      {
       "current": "2046463a-f4eb-11eb-b29f-0242ac120008-6-0ac0-101e-b666-fec9-6fa6-1f84",
       "next": "204647a2-f4eb-11eb-b29f-0242ac120008-5-10f9-6d61-38ce-a999-8bd2",
       "previous": "204644c8-f4eb-11eb-b29f-0242ac120008-5-7159-0e77-a84c-556f-1f7a"
      }
     ],
     "next": "204647a2-f4eb-11eb-b29f-0242ac120008-6-10f9-6d61-38ce-a999-8bd2-2425",
     "previous": "204644c8-f4eb-11eb-b29f-0242ac120008-6-7159-0e77-a84c-556f-1f7a-cebb"
    }
   },
   "outputs": [],
   "source": [
    "!ansible -i $hosts -b -m shell -a \"ovs-vsctl show\" ceph_node"
   ]
  },
  {
   "cell_type": "code",
   "execution_count": null,
   "metadata": {
    "lc_cell_meme": {
     "current": "204647a2-f4eb-11eb-b29f-0242ac120008-6-10f9-6d61-38ce-a999-8bd2-2425",
     "history": [
      {
       "current": "204647a2-f4eb-11eb-b29f-0242ac120008",
       "next": "35c581ba-55a3-11e7-b0b2-00163e9c0e35-2-f60b-133a",
       "previous": "2046463a-f4eb-11eb-b29f-0242ac120008"
      },
      {
       "current": "204647a2-f4eb-11eb-b29f-0242ac120008",
       "next": "798c1fba-9a06-11ec-a1da-0242ac120004",
       "previous": "2046463a-f4eb-11eb-b29f-0242ac120008"
      },
      {
       "current": "204647a2-f4eb-11eb-b29f-0242ac120008-1-10f9",
       "next": "35c581ba-55a3-11e7-b0b2-00163e9c0e35-2-f60b-133a",
       "previous": "2046463a-f4eb-11eb-b29f-0242ac120008"
      },
      {
       "current": "204647a2-f4eb-11eb-b29f-0242ac120008-2-10f9-6d61",
       "next": "35c581ba-55a3-11e7-b0b2-00163e9c0e35-3-f60b-133a-40ef",
       "previous": "2046463a-f4eb-11eb-b29f-0242ac120008-1-0ac0"
      },
      {
       "current": "204647a2-f4eb-11eb-b29f-0242ac120008-3-10f9-6d61-38ce",
       "next": "35c581ba-55a3-11e7-b0b2-00163e9c0e35-4-f60b-133a-40ef-819b",
       "previous": "2046463a-f4eb-11eb-b29f-0242ac120008-2-0ac0-101e"
      },
      {
       "current": "204647a2-f4eb-11eb-b29f-0242ac120008-4-10f9-6d61-38ce-a999",
       "next": "35c581ba-55a3-11e7-b0b2-00163e9c0e35-5-f60b-133a-40ef-819b-9536",
       "previous": "2046463a-f4eb-11eb-b29f-0242ac120008-3-0ac0-101e-b666"
      },
      {
       "current": "204647a2-f4eb-11eb-b29f-0242ac120008-5-10f9-6d61-38ce-a999-8bd2",
       "next": "35c581ba-55a3-11e7-b0b2-00163e9c0e35-6-f60b-133a-40ef-819b-9536-3e57",
       "previous": "2046463a-f4eb-11eb-b29f-0242ac120008-4-0ac0-101e-b666-fec9"
      },
      {
       "current": "204647a2-f4eb-11eb-b29f-0242ac120008-6-10f9-6d61-38ce-a999-8bd2-2425",
       "next": "35c581ba-55a3-11e7-b0b2-00163e9c0e35-7-f60b-133a-40ef-819b-9536-3e57-3b00",
       "previous": "2046463a-f4eb-11eb-b29f-0242ac120008-5-0ac0-101e-b666-fec9-6fa6"
      }
     ],
     "next": "35c581ba-55a3-11e7-b0b2-00163e9c0e35-8-f60b-133a-40ef-819b-9536-3e57-3b00-d8d4",
     "previous": "2046463a-f4eb-11eb-b29f-0242ac120008-6-0ac0-101e-b666-fec9-6fa6-1f84"
    }
   },
   "outputs": [],
   "source": [
    "!ansible -i $hosts -b -m shell -a \"ovs-ofctl show {strage_bridge}\" ceph_node"
   ]
  },
  {
   "cell_type": "markdown",
   "metadata": {
    "collapsed": true,
    "lc_cell_meme": {
     "current": "35c581ba-55a3-11e7-b0b2-00163e9c0e35-8-f60b-133a-40ef-819b-9536-3e57-3b00-d8d4",
     "history": [
      {
       "current": "35c581ba-55a3-11e7-b0b2-00163e9c0e35",
       "next": "35c58340-55a3-11e7-b0b2-00163e9c0e35",
       "previous": "35c58034-55a3-11e7-b0b2-00163e9c0e35"
      },
      {
       "current": "35c581ba-55a3-11e7-b0b2-00163e9c0e35",
       "next": "35c58340-55a3-11e7-b0b2-00163e9c0e35",
       "previous": "35c51928-55a3-11e7-b0b2-00163e9c0e35"
      },
      {
       "current": "35c581ba-55a3-11e7-b0b2-00163e9c0e35",
       "next": "35c58340-55a3-11e7-b0b2-00163e9c0e35",
       "previous": "277a614c-47b9-11ea-a028-0242ac120005"
      },
      {
       "current": "35c581ba-55a3-11e7-b0b2-00163e9c0e35",
       "next": "35c58340-55a3-11e7-b0b2-00163e9c0e35",
       "previous": "35c51928-55a3-11e7-b0b2-00163e9c0e35"
      },
      {
       "current": "35c581ba-55a3-11e7-b0b2-00163e9c0e35",
       "next": "35c58340-55a3-11e7-b0b2-00163e9c0e35",
       "previous": "b8a85906-47b6-11ea-a028-0242ac120005"
      },
      {
       "current": "35c581ba-55a3-11e7-b0b2-00163e9c0e35",
       "next": "35c58340-55a3-11e7-b0b2-00163e9c0e35",
       "previous": "35c38fae-55a3-11e7-b0b2-00163e9c0e35"
      },
      {
       "current": "35c581ba-55a3-11e7-b0b2-00163e9c0e35",
       "next": "35c58340-55a3-11e7-b0b2-00163e9c0e35",
       "previous": "35c385a4-55a3-11e7-b0b2-00163e9c0e35"
      },
      {
       "current": "35c581ba-55a3-11e7-b0b2-00163e9c0e35",
       "next": "35c58340-55a3-11e7-b0b2-00163e9c0e35",
       "previous": "27c39180-935b-11ea-8d02-0242ac120007"
      },
      {
       "current": "35c581ba-55a3-11e7-b0b2-00163e9c0e35",
       "next": "35c58340-55a3-11e7-b0b2-00163e9c0e35",
       "previous": "35c385a4-55a3-11e7-b0b2-00163e9c0e35"
      },
      {
       "current": "35c581ba-55a3-11e7-b0b2-00163e9c0e35",
       "next": "35c58340-55a3-11e7-b0b2-00163e9c0e35",
       "previous": "b20d6ace-9684-11ea-8d02-0242ac120007"
      },
      {
       "current": "35c581ba-55a3-11e7-b0b2-00163e9c0e35",
       "next": "35c58340-55a3-11e7-b0b2-00163e9c0e35",
       "previous": "18b837c6-9686-11ea-8d02-0242ac120007"
      },
      {
       "current": "35c581ba-55a3-11e7-b0b2-00163e9c0e35",
       "next": "35c58340-55a3-11e7-b0b2-00163e9c0e35",
       "previous": "59de09f6-9686-11ea-8d02-0242ac120007"
      },
      {
       "current": "35c581ba-55a3-11e7-b0b2-00163e9c0e35",
       "next": "35c58340-55a3-11e7-b0b2-00163e9c0e35",
       "previous": "7dae8b30-9686-11ea-8d02-0242ac120007"
      },
      {
       "current": "35c581ba-55a3-11e7-b0b2-00163e9c0e35",
       "next": "35c58340-55a3-11e7-b0b2-00163e9c0e35",
       "previous": "789942dc-9692-11ea-8d02-0242ac120007"
      },
      {
       "current": "35c581ba-55a3-11e7-b0b2-00163e9c0e35",
       "next": "35c58340-55a3-11e7-b0b2-00163e9c0e35",
       "previous": "e95d003a-9697-11ea-8d02-0242ac120007"
      },
      {
       "current": "35c581ba-55a3-11e7-b0b2-00163e9c0e35",
       "next": "35c58340-55a3-11e7-b0b2-00163e9c0e35",
       "previous": "357fc83a-969d-11ea-8d02-0242ac120007"
      },
      {
       "current": "35c581ba-55a3-11e7-b0b2-00163e9c0e35",
       "next": "35c58340-55a3-11e7-b0b2-00163e9c0e35",
       "previous": "7dae86da-9686-11ea-8d02-0242ac120007"
      },
      {
       "current": "35c581ba-55a3-11e7-b0b2-00163e9c0e35",
       "next": "35c58340-55a3-11e7-b0b2-00163e9c0e35",
       "previous": "49102d8c-98a9-11ea-8d02-0242ac120007"
      },
      {
       "current": "35c581ba-55a3-11e7-b0b2-00163e9c0e35",
       "next": "35c58340-55a3-11e7-b0b2-00163e9c0e35",
       "previous": "dbe917aa-9984-11ea-8d02-0242ac120007"
      },
      {
       "current": "35c581ba-55a3-11e7-b0b2-00163e9c0e35",
       "next": "35c58340-55a3-11e7-b0b2-00163e9c0e35",
       "previous": "f9f7c1a0-9985-11ea-8d02-0242ac120007"
      },
      {
       "current": "35c581ba-55a3-11e7-b0b2-00163e9c0e35",
       "next": "35c58340-55a3-11e7-b0b2-00163e9c0e35",
       "previous": "4180e646-9986-11ea-8d02-0242ac120007"
      },
      {
       "current": "35c581ba-55a3-11e7-b0b2-00163e9c0e35",
       "next": "35c58340-55a3-11e7-b0b2-00163e9c0e35",
       "previous": "eea7aafc-9987-11ea-8d02-0242ac120007"
      },
      {
       "current": "35c581ba-55a3-11e7-b0b2-00163e9c0e35",
       "next": "35c58340-55a3-11e7-b0b2-00163e9c0e35",
       "previous": "7db36be6-9988-11ea-8d02-0242ac120007"
      },
      {
       "current": "35c581ba-55a3-11e7-b0b2-00163e9c0e35",
       "next": "35c58340-55a3-11e7-b0b2-00163e9c0e35",
       "previous": "7db36a7e-9988-11ea-8d02-0242ac120007"
      },
      {
       "current": "35c581ba-55a3-11e7-b0b2-00163e9c0e35",
       "next": "35c58340-55a3-11e7-b0b2-00163e9c0e35",
       "previous": "f3e7d364-998e-11ea-8d02-0242ac120007"
      },
      {
       "current": "35c581ba-55a3-11e7-b0b2-00163e9c0e35-1-f60b",
       "next": "35c58340-55a3-11e7-b0b2-00163e9c0e35",
       "previous": "b0a33f46-98ce-11ea-8d02-0242ac120007"
      },
      {
       "current": "35c581ba-55a3-11e7-b0b2-00163e9c0e35-2-f60b-133a",
       "next": "35c58340-55a3-11e7-b0b2-00163e9c0e35-1-c0ce",
       "previous": "b0a33f46-98ce-11ea-8d02-0242ac120007-1-1e51"
      },
      {
       "current": "35c581ba-55a3-11e7-b0b2-00163e9c0e35-2-f60b-133a",
       "next": "35c58340-55a3-11e7-b0b2-00163e9c0e35-2-c0ce-9618",
       "previous": "b0a33f46-98ce-11ea-8d02-0242ac120007-2-1e51-b1e8"
      },
      {
       "current": "35c581ba-55a3-11e7-b0b2-00163e9c0e35-2-f60b-133a",
       "next": "35c58340-55a3-11e7-b0b2-00163e9c0e35-2-c0ce-9618",
       "previous": "d0769ffa-98bc-11ea-8d02-0242ac120007-2-9994-0723"
      },
      {
       "current": "35c581ba-55a3-11e7-b0b2-00163e9c0e35-2-f60b-133a",
       "next": "35c58340-55a3-11e7-b0b2-00163e9c0e35-2-c0ce-9618",
       "previous": "bc16cb02-dfce-11eb-b29f-0242ac120008"
      },
      {
       "current": "35c581ba-55a3-11e7-b0b2-00163e9c0e35-2-f60b-133a",
       "next": "35c58340-55a3-11e7-b0b2-00163e9c0e35-2-c0ce-9618",
       "previous": "7cf7d994-f4ea-11eb-b29f-0242ac120008"
      },
      {
       "current": "35c581ba-55a3-11e7-b0b2-00163e9c0e35-2-f60b-133a",
       "next": "35c58340-55a3-11e7-b0b2-00163e9c0e35-2-c0ce-9618",
       "previous": "204647a2-f4eb-11eb-b29f-0242ac120008"
      },
      {
       "current": "35c581ba-55a3-11e7-b0b2-00163e9c0e35-2-f60b-133a",
       "next": "35c58340-55a3-11e7-b0b2-00163e9c0e35-2-c0ce-9618",
       "previous": "798c29c4-9a06-11ec-a1da-0242ac120004"
      },
      {
       "current": "35c581ba-55a3-11e7-b0b2-00163e9c0e35-3-f60b-133a-40ef",
       "next": "35c58340-55a3-11e7-b0b2-00163e9c0e35-2-c0ce-9618",
       "previous": "204647a2-f4eb-11eb-b29f-0242ac120008"
      },
      {
       "current": "35c581ba-55a3-11e7-b0b2-00163e9c0e35-4-f60b-133a-40ef-819b",
       "next": "35c58340-55a3-11e7-b0b2-00163e9c0e35-3-c0ce-9618-7032",
       "previous": "204647a2-f4eb-11eb-b29f-0242ac120008-1-10f9"
      },
      {
       "current": "35c581ba-55a3-11e7-b0b2-00163e9c0e35-5-f60b-133a-40ef-819b-9536",
       "next": "35c58340-55a3-11e7-b0b2-00163e9c0e35-4-c0ce-9618-7032-85a8",
       "previous": "204647a2-f4eb-11eb-b29f-0242ac120008-2-10f9-6d61"
      },
      {
       "current": "35c581ba-55a3-11e7-b0b2-00163e9c0e35-6-f60b-133a-40ef-819b-9536-3e57",
       "next": "35c58340-55a3-11e7-b0b2-00163e9c0e35-5-c0ce-9618-7032-85a8-eded",
       "previous": "204647a2-f4eb-11eb-b29f-0242ac120008-3-10f9-6d61-38ce"
      },
      {
       "current": "35c581ba-55a3-11e7-b0b2-00163e9c0e35-7-f60b-133a-40ef-819b-9536-3e57-3b00",
       "next": "35c58340-55a3-11e7-b0b2-00163e9c0e35-6-c0ce-9618-7032-85a8-eded-1265",
       "previous": "204647a2-f4eb-11eb-b29f-0242ac120008-4-10f9-6d61-38ce-a999"
      },
      {
       "current": "35c581ba-55a3-11e7-b0b2-00163e9c0e35-8-f60b-133a-40ef-819b-9536-3e57-3b00-d8d4",
       "next": "35c58340-55a3-11e7-b0b2-00163e9c0e35-7-c0ce-9618-7032-85a8-eded-1265-f416",
       "previous": "204647a2-f4eb-11eb-b29f-0242ac120008-5-10f9-6d61-38ce-a999-8bd2"
      }
     ],
     "next": "35c58340-55a3-11e7-b0b2-00163e9c0e35-8-c0ce-9618-7032-85a8-eded-1265-f416-bc9c",
     "previous": "204647a2-f4eb-11eb-b29f-0242ac120008-6-10f9-6d61-38ce-a999-8bd2-2425"
    }
   },
   "source": [
    "# 後始末\n",
    "\n",
    "一時ディレクトリを削除する。"
   ]
  },
  {
   "cell_type": "code",
   "execution_count": null,
   "metadata": {
    "ExecuteTime": {
     "end_time": "2017-06-29T08:01:20.617274Z",
     "start_time": "2017-06-29T08:01:20.466671Z"
    },
    "lc_cell_meme": {
     "current": "35c58340-55a3-11e7-b0b2-00163e9c0e35-8-c0ce-9618-7032-85a8-eded-1265-f416-bc9c",
     "history": [
      {
       "current": "35c58340-55a3-11e7-b0b2-00163e9c0e35",
       "next": null,
       "previous": "35c581ba-55a3-11e7-b0b2-00163e9c0e35"
      },
      {
       "current": "35c58340-55a3-11e7-b0b2-00163e9c0e35-1-c0ce",
       "next": "c4bd8ce4-5749-11e7-b0b2-00163e9c0e35",
       "previous": "35c581ba-55a3-11e7-b0b2-00163e9c0e35"
      },
      {
       "current": "35c58340-55a3-11e7-b0b2-00163e9c0e35-2-c0ce-9618",
       "next": "c4bd8ce4-5749-11e7-b0b2-00163e9c0e35-1-6c35",
       "previous": "35c581ba-55a3-11e7-b0b2-00163e9c0e35-1-f60b"
      },
      {
       "current": "35c58340-55a3-11e7-b0b2-00163e9c0e35-3-c0ce-9618-7032",
       "next": "c4bd8ce4-5749-11e7-b0b2-00163e9c0e35-2-6c35-ebfb",
       "previous": "35c581ba-55a3-11e7-b0b2-00163e9c0e35-2-f60b-133a"
      },
      {
       "current": "35c58340-55a3-11e7-b0b2-00163e9c0e35-4-c0ce-9618-7032-85a8",
       "next": "c4bd8ce4-5749-11e7-b0b2-00163e9c0e35-3-6c35-ebfb-793f",
       "previous": "35c581ba-55a3-11e7-b0b2-00163e9c0e35-3-f60b-133a-40ef"
      },
      {
       "current": "35c58340-55a3-11e7-b0b2-00163e9c0e35-5-c0ce-9618-7032-85a8-eded",
       "next": "c4bd8ce4-5749-11e7-b0b2-00163e9c0e35-4-6c35-ebfb-793f-411c",
       "previous": "35c581ba-55a3-11e7-b0b2-00163e9c0e35-4-f60b-133a-40ef-819b"
      },
      {
       "current": "35c58340-55a3-11e7-b0b2-00163e9c0e35-6-c0ce-9618-7032-85a8-eded-1265",
       "next": "c4bd8ce4-5749-11e7-b0b2-00163e9c0e35-5-6c35-ebfb-793f-411c-91ad",
       "previous": "35c581ba-55a3-11e7-b0b2-00163e9c0e35-5-f60b-133a-40ef-819b-9536"
      },
      {
       "current": "35c58340-55a3-11e7-b0b2-00163e9c0e35-7-c0ce-9618-7032-85a8-eded-1265-f416",
       "next": "c4bd8ce4-5749-11e7-b0b2-00163e9c0e35-6-6c35-ebfb-793f-411c-91ad-0e74",
       "previous": "35c581ba-55a3-11e7-b0b2-00163e9c0e35-6-f60b-133a-40ef-819b-9536-3e57"
      },
      {
       "current": "35c58340-55a3-11e7-b0b2-00163e9c0e35-8-c0ce-9618-7032-85a8-eded-1265-f416-bc9c",
       "next": "c4bd8ce4-5749-11e7-b0b2-00163e9c0e35-7-6c35-ebfb-793f-411c-91ad-0e74-93d7",
       "previous": "35c581ba-55a3-11e7-b0b2-00163e9c0e35-7-f60b-133a-40ef-819b-9536-3e57-3b00"
      }
     ],
     "next": "c4bd8ce4-5749-11e7-b0b2-00163e9c0e35-8-6c35-ebfb-793f-411c-91ad-0e74-93d7-584b",
     "previous": "35c581ba-55a3-11e7-b0b2-00163e9c0e35-8-f60b-133a-40ef-819b-9536-3e57-3b00-d8d4"
    }
   },
   "outputs": [],
   "source": [
    "!rm -fr $temp_dir"
   ]
  },
  {
   "cell_type": "code",
   "execution_count": null,
   "metadata": {
    "lc_cell_meme": {
     "current": "c4bd8ce4-5749-11e7-b0b2-00163e9c0e35-8-6c35-ebfb-793f-411c-91ad-0e74-93d7-584b",
     "history": [
      {
       "current": "c4bd8ce4-5749-11e7-b0b2-00163e9c0e35-1-6c35",
       "next": null,
       "previous": "35c58340-55a3-11e7-b0b2-00163e9c0e35"
      },
      {
       "current": "c4bd8ce4-5749-11e7-b0b2-00163e9c0e35-2-6c35-ebfb",
       "next": null,
       "previous": "35c58340-55a3-11e7-b0b2-00163e9c0e35-1-c0ce"
      },
      {
       "current": "c4bd8ce4-5749-11e7-b0b2-00163e9c0e35-3-6c35-ebfb-793f",
       "next": null,
       "previous": "35c58340-55a3-11e7-b0b2-00163e9c0e35-2-c0ce-9618"
      },
      {
       "current": "c4bd8ce4-5749-11e7-b0b2-00163e9c0e35-4-6c35-ebfb-793f-411c",
       "next": null,
       "previous": "35c58340-55a3-11e7-b0b2-00163e9c0e35-3-c0ce-9618-7032"
      },
      {
       "current": "c4bd8ce4-5749-11e7-b0b2-00163e9c0e35-5-6c35-ebfb-793f-411c-91ad",
       "next": null,
       "previous": "35c58340-55a3-11e7-b0b2-00163e9c0e35-4-c0ce-9618-7032-85a8"
      },
      {
       "current": "c4bd8ce4-5749-11e7-b0b2-00163e9c0e35-6-6c35-ebfb-793f-411c-91ad-0e74",
       "next": null,
       "previous": "35c58340-55a3-11e7-b0b2-00163e9c0e35-5-c0ce-9618-7032-85a8-eded"
      },
      {
       "current": "c4bd8ce4-5749-11e7-b0b2-00163e9c0e35-7-6c35-ebfb-793f-411c-91ad-0e74-93d7",
       "next": null,
       "previous": "35c58340-55a3-11e7-b0b2-00163e9c0e35-6-c0ce-9618-7032-85a8-eded-1265"
      },
      {
       "current": "c4bd8ce4-5749-11e7-b0b2-00163e9c0e35-8-6c35-ebfb-793f-411c-91ad-0e74-93d7-584b",
       "next": null,
       "previous": "35c58340-55a3-11e7-b0b2-00163e9c0e35-7-c0ce-9618-7032-85a8-eded-1265-f416"
      }
     ],
     "next": null,
     "previous": "35c58340-55a3-11e7-b0b2-00163e9c0e35-8-c0ce-9618-7032-85a8-eded-1265-f416-bc9c"
    }
   },
   "outputs": [],
   "source": []
  }
 ],
 "metadata": {
  "kernelspec": {
   "display_name": "Python 3",
   "language": "python",
   "name": "python3"
  },
  "language_info": {
   "file_extension": ".py",
   "mimetype": "text/x-python",
   "name": "python",
   "nbconvert_exporter": "python",
   "pygments_lexer": "ipython3",
   "version": "3.10.4"
  },
  "lc_notebook_meme": {
   "current": "35c33086-55a3-11e7-b0b2-00163e9c0e35"
  },
  "toc": {
   "base_numbering": 1,
   "nav_menu": {
    "height": "484px",
    "width": "687px"
   },
   "number_sections": true,
   "sideBar": true,
   "skip_h1_title": false,
   "title_cell": "Table of Contents",
   "title_sidebar": "Contents",
   "toc_cell": false,
   "toc_position": {
    "height": "1156px",
    "left": "0px",
    "right": "1330px",
    "top": "106px",
    "width": "340.983px"
   },
   "toc_section_display": "block",
   "toc_window_display": true
  }
 },
 "nbformat": 4,
 "nbformat_minor": 1
}
