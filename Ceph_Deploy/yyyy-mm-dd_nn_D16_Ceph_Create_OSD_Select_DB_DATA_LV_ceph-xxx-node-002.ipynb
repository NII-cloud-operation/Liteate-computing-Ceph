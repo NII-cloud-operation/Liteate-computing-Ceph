{
 "cells": [
  {
   "cell_type": "markdown",
   "metadata": {
    "collapsed": true,
    "lc_cell_meme": {
     "current": "35c33414-55a3-11e7-b0b2-00163e9c0e35-8-1c66-a2f2-5794-99e5-e317-4d29-9cfc-cef7",
     "history": [
      {
       "current": "35c33414-55a3-11e7-b0b2-00163e9c0e35",
       "next": "35c33626-55a3-11e7-b0b2-00163e9c0e35",
       "previous": null
      },
      {
       "current": "35c33414-55a3-11e7-b0b2-00163e9c0e35",
       "next": "35c33626-55a3-11e7-b0b2-00163e9c0e35",
       "previous": null
      },
      {
       "current": "35c33414-55a3-11e7-b0b2-00163e9c0e35",
       "next": "35c33626-55a3-11e7-b0b2-00163e9c0e35",
       "previous": "0db87670-9586-11ea-8d02-0242ac120007"
      },
      {
       "current": "35c33414-55a3-11e7-b0b2-00163e9c0e35-1-1c66",
       "next": "35c337f2-55a3-11e7-b0b2-00163e9c0e35",
       "previous": null
      },
      {
       "current": "35c33414-55a3-11e7-b0b2-00163e9c0e35-2-1c66-a2f2",
       "next": "35c337f2-55a3-11e7-b0b2-00163e9c0e35-1-dc7a",
       "previous": null
      },
      {
       "current": "35c33414-55a3-11e7-b0b2-00163e9c0e35-3-1c66-a2f2-5794",
       "next": "35c337f2-55a3-11e7-b0b2-00163e9c0e35-2-dc7a-5832",
       "previous": null
      },
      {
       "current": "35c33414-55a3-11e7-b0b2-00163e9c0e35-4-1c66-a2f2-5794-99e5",
       "next": "37fd6298-56f9-11ec-a1da-0242ac120004-2-399a-3442",
       "previous": null
      },
      {
       "current": "35c33414-55a3-11e7-b0b2-00163e9c0e35-5-1c66-a2f2-5794-99e5-e317",
       "next": "37fd6298-56f9-11ec-a1da-0242ac120004-3-399a-3442-fcbe",
       "previous": null
      },
      {
       "current": "35c33414-55a3-11e7-b0b2-00163e9c0e35-6-1c66-a2f2-5794-99e5-e317-4d29",
       "next": "37fd6298-56f9-11ec-a1da-0242ac120004-4-399a-3442-fcbe-5b9d",
       "previous": null
      },
      {
       "current": "35c33414-55a3-11e7-b0b2-00163e9c0e35-7-1c66-a2f2-5794-99e5-e317-4d29-9cfc",
       "next": "37fd6298-56f9-11ec-a1da-0242ac120004-5-399a-3442-fcbe-5b9d-cb8a",
       "previous": null
      },
      {
       "current": "35c33414-55a3-11e7-b0b2-00163e9c0e35-8-1c66-a2f2-5794-99e5-e317-4d29-9cfc-cef7",
       "next": "37fd6298-56f9-11ec-a1da-0242ac120004-6-399a-3442-fcbe-5b9d-cb8a-1fea",
       "previous": null
      }
     ],
     "next": "37fd6298-56f9-11ec-a1da-0242ac120004-7-399a-3442-fcbe-5b9d-cb8a-1fea-7177",
     "previous": null
    }
   },
   "source": [
    "# Cephノード構築： 未使用LVを選択してOSD生成\n",
    "CepnクラスタにOSDを生成<br>\n",
    "事前に生成したOSD用のDBとDATA用LVを選択してOSDを生成。"
   ]
  },
  {
   "cell_type": "markdown",
   "metadata": {
    "lc_cell_meme": {
     "current": "37fd6298-56f9-11ec-a1da-0242ac120004-7-399a-3442-fcbe-5b9d-cb8a-1fea-7177",
     "history": [
      {
       "current": "37fd6298-56f9-11ec-a1da-0242ac120004-1-399a",
       "next": "37fd65a4-56f9-11ec-a1da-0242ac120004",
       "previous": "35c337f2-55a3-11e7-b0b2-00163e9c0e35-1-dc7a"
      },
      {
       "current": "37fd6298-56f9-11ec-a1da-0242ac120004-2-399a-3442",
       "next": "37fd65a4-56f9-11ec-a1da-0242ac120004-1-0c3c",
       "previous": "35c337f2-55a3-11e7-b0b2-00163e9c0e35-2-dc7a-5832"
      },
      {
       "current": "37fd6298-56f9-11ec-a1da-0242ac120004-3-399a-3442-fcbe",
       "next": "37fd65a4-56f9-11ec-a1da-0242ac120004-2-0c3c-e765",
       "previous": "35c33414-55a3-11e7-b0b2-00163e9c0e35-3-1c66-a2f2-5794"
      },
      {
       "current": "37fd6298-56f9-11ec-a1da-0242ac120004-4-399a-3442-fcbe-5b9d",
       "next": "37fd65a4-56f9-11ec-a1da-0242ac120004-3-0c3c-e765-01d7",
       "previous": "35c33414-55a3-11e7-b0b2-00163e9c0e35-4-1c66-a2f2-5794-99e5"
      },
      {
       "current": "37fd6298-56f9-11ec-a1da-0242ac120004-5-399a-3442-fcbe-5b9d-cb8a",
       "next": "37fd65a4-56f9-11ec-a1da-0242ac120004-4-0c3c-e765-01d7-9969",
       "previous": "35c33414-55a3-11e7-b0b2-00163e9c0e35-5-1c66-a2f2-5794-99e5-e317"
      },
      {
       "current": "37fd6298-56f9-11ec-a1da-0242ac120004-6-399a-3442-fcbe-5b9d-cb8a-1fea",
       "next": "37fd65a4-56f9-11ec-a1da-0242ac120004-5-0c3c-e765-01d7-9969-0275",
       "previous": "35c33414-55a3-11e7-b0b2-00163e9c0e35-6-1c66-a2f2-5794-99e5-e317-4d29"
      },
      {
       "current": "37fd6298-56f9-11ec-a1da-0242ac120004-7-399a-3442-fcbe-5b9d-cb8a-1fea-7177",
       "next": "37fd65a4-56f9-11ec-a1da-0242ac120004-6-0c3c-e765-01d7-9969-0275-8fbc",
       "previous": "35c33414-55a3-11e7-b0b2-00163e9c0e35-7-1c66-a2f2-5794-99e5-e317-4d29-9cfc"
      }
     ],
     "next": "37fd65a4-56f9-11ec-a1da-0242ac120004-7-0c3c-e765-01d7-9969-0275-8fbc-ba2c",
     "previous": "35c33414-55a3-11e7-b0b2-00163e9c0e35-8-1c66-a2f2-5794-99e5-e317-4d29-9cfc-cef7"
    }
   },
   "source": [
    "# パラメータ定義"
   ]
  },
  {
   "cell_type": "markdown",
   "metadata": {
    "lc_cell_meme": {
     "current": "37fd65a4-56f9-11ec-a1da-0242ac120004-7-0c3c-e765-01d7-9969-0275-8fbc-ba2c",
     "history": [
      {
       "current": "37fd65a4-56f9-11ec-a1da-0242ac120004-1-0c3c",
       "next": "37fd681a-56f9-11ec-a1da-0242ac120004",
       "previous": "37fd6298-56f9-11ec-a1da-0242ac120004"
      },
      {
       "current": "37fd65a4-56f9-11ec-a1da-0242ac120004-2-0c3c-e765",
       "next": "37fd681a-56f9-11ec-a1da-0242ac120004-1-b4aa",
       "previous": "37fd6298-56f9-11ec-a1da-0242ac120004-1-399a"
      },
      {
       "current": "37fd65a4-56f9-11ec-a1da-0242ac120004-3-0c3c-e765-01d7",
       "next": "37fd681a-56f9-11ec-a1da-0242ac120004-2-b4aa-9936",
       "previous": "37fd6298-56f9-11ec-a1da-0242ac120004-2-399a-3442"
      },
      {
       "current": "37fd65a4-56f9-11ec-a1da-0242ac120004-4-0c3c-e765-01d7-9969",
       "next": "37fd681a-56f9-11ec-a1da-0242ac120004-3-b4aa-9936-1e73",
       "previous": "37fd6298-56f9-11ec-a1da-0242ac120004-3-399a-3442-fcbe"
      },
      {
       "current": "37fd65a4-56f9-11ec-a1da-0242ac120004-5-0c3c-e765-01d7-9969-0275",
       "next": "37fd681a-56f9-11ec-a1da-0242ac120004-4-b4aa-9936-1e73-1f55",
       "previous": "37fd6298-56f9-11ec-a1da-0242ac120004-4-399a-3442-fcbe-5b9d"
      },
      {
       "current": "37fd65a4-56f9-11ec-a1da-0242ac120004-6-0c3c-e765-01d7-9969-0275-8fbc",
       "next": "37fd681a-56f9-11ec-a1da-0242ac120004-5-b4aa-9936-1e73-1f55-b128",
       "previous": "37fd6298-56f9-11ec-a1da-0242ac120004-5-399a-3442-fcbe-5b9d-cb8a"
      },
      {
       "current": "37fd65a4-56f9-11ec-a1da-0242ac120004-7-0c3c-e765-01d7-9969-0275-8fbc-ba2c",
       "next": "37fd681a-56f9-11ec-a1da-0242ac120004-6-b4aa-9936-1e73-1f55-b128-e5ae",
       "previous": "37fd6298-56f9-11ec-a1da-0242ac120004-6-399a-3442-fcbe-5b9d-cb8a-1fea"
      }
     ],
     "next": "37fd681a-56f9-11ec-a1da-0242ac120004-7-b4aa-9936-1e73-1f55-b128-e5ae-b765",
     "previous": "37fd6298-56f9-11ec-a1da-0242ac120004-7-399a-3442-fcbe-5b9d-cb8a-1fea-7177"
    }
   },
   "source": [
    "## パラメータファイル設定"
   ]
  },
  {
   "cell_type": "markdown",
   "metadata": {
    "lc_cell_meme": {
     "current": "37fd681a-56f9-11ec-a1da-0242ac120004-7-b4aa-9936-1e73-1f55-b128-e5ae-b765",
     "history": [
      {
       "current": "37fd681a-56f9-11ec-a1da-0242ac120004-1-b4aa",
       "next": "37fd6996-56f9-11ec-a1da-0242ac120004",
       "previous": "37fd65a4-56f9-11ec-a1da-0242ac120004"
      },
      {
       "current": "37fd681a-56f9-11ec-a1da-0242ac120004-2-b4aa-9936",
       "next": "37fd6996-56f9-11ec-a1da-0242ac120004-1-d6f6",
       "previous": "37fd65a4-56f9-11ec-a1da-0242ac120004-1-0c3c"
      },
      {
       "current": "37fd681a-56f9-11ec-a1da-0242ac120004-3-b4aa-9936-1e73",
       "next": "37fd6996-56f9-11ec-a1da-0242ac120004-2-d6f6-e63c",
       "previous": "37fd65a4-56f9-11ec-a1da-0242ac120004-2-0c3c-e765"
      },
      {
       "current": "37fd681a-56f9-11ec-a1da-0242ac120004-4-b4aa-9936-1e73-1f55",
       "next": "37fd6996-56f9-11ec-a1da-0242ac120004-3-d6f6-e63c-31a0",
       "previous": "37fd65a4-56f9-11ec-a1da-0242ac120004-3-0c3c-e765-01d7"
      },
      {
       "current": "37fd681a-56f9-11ec-a1da-0242ac120004-5-b4aa-9936-1e73-1f55-b128",
       "next": "16d99eae-1cc9-11ef-ad2f-0242ac120005",
       "previous": "37fd65a4-56f9-11ec-a1da-0242ac120004-4-0c3c-e765-01d7-9969"
      },
      {
       "current": "37fd681a-56f9-11ec-a1da-0242ac120004-6-b4aa-9936-1e73-1f55-b128-e5ae",
       "next": "16d99eae-1cc9-11ef-ad2f-0242ac120005-1-ea85",
       "previous": "37fd65a4-56f9-11ec-a1da-0242ac120004-5-0c3c-e765-01d7-9969-0275"
      },
      {
       "current": "37fd681a-56f9-11ec-a1da-0242ac120004-7-b4aa-9936-1e73-1f55-b128-e5ae-b765",
       "next": "16d99eae-1cc9-11ef-ad2f-0242ac120005-2-ea85-9eea",
       "previous": "37fd65a4-56f9-11ec-a1da-0242ac120004-6-0c3c-e765-01d7-9969-0275-8fbc"
      }
     ],
     "next": "16d99eae-1cc9-11ef-ad2f-0242ac120005-3-ea85-9eea-0680",
     "previous": "37fd65a4-56f9-11ec-a1da-0242ac120004-7-0c3c-e765-01d7-9969-0275-8fbc-ba2c"
    }
   },
   "source": [
    "Cephクラスタの定義ファイルを指定するため、<br>\n",
    "パラメータ定義格納ディレクトリを表示する。"
   ]
  },
  {
   "cell_type": "code",
   "execution_count": null,
   "metadata": {
    "lc_cell_meme": {
     "current": "16d99eae-1cc9-11ef-ad2f-0242ac120005-3-ea85-9eea-0680",
     "history": [
      {
       "current": "16d99eae-1cc9-11ef-ad2f-0242ac120005-1-ea85",
       "next": "16d99f94-1cc9-11ef-ad2f-0242ac120005",
       "previous": "37fd681a-56f9-11ec-a1da-0242ac120004-4-b4aa-9936-1e73-1f55"
      },
      {
       "current": "16d99eae-1cc9-11ef-ad2f-0242ac120005-2-ea85-9eea",
       "next": "16d99f94-1cc9-11ef-ad2f-0242ac120005-1-482b",
       "previous": "37fd681a-56f9-11ec-a1da-0242ac120004-5-b4aa-9936-1e73-1f55-b128"
      },
      {
       "current": "16d99eae-1cc9-11ef-ad2f-0242ac120005-3-ea85-9eea-0680",
       "next": "16d99f94-1cc9-11ef-ad2f-0242ac120005-2-482b-a1a0",
       "previous": "37fd681a-56f9-11ec-a1da-0242ac120004-6-b4aa-9936-1e73-1f55-b128-e5ae"
      }
     ],
     "next": "16d99f94-1cc9-11ef-ad2f-0242ac120005-3-482b-a1a0-902d",
     "previous": "37fd681a-56f9-11ec-a1da-0242ac120004-7-b4aa-9936-1e73-1f55-b128-e5ae-b765"
    }
   },
   "outputs": [],
   "source": [
    "!ls -p ~/notebooks/share/ | grep \"/$\""
   ]
  },
  {
   "cell_type": "code",
   "execution_count": null,
   "metadata": {
    "lc_cell_meme": {
     "current": "16d99f94-1cc9-11ef-ad2f-0242ac120005-3-482b-a1a0-902d",
     "history": [
      {
       "current": "16d99f94-1cc9-11ef-ad2f-0242ac120005-1-482b",
       "next": "16d99fc6-1cc9-11ef-ad2f-0242ac120005",
       "previous": "16d99eae-1cc9-11ef-ad2f-0242ac120005"
      },
      {
       "current": "16d99f94-1cc9-11ef-ad2f-0242ac120005-2-482b-a1a0",
       "next": "16d99fc6-1cc9-11ef-ad2f-0242ac120005-1-9714",
       "previous": "16d99eae-1cc9-11ef-ad2f-0242ac120005-1-ea85"
      },
      {
       "current": "16d99f94-1cc9-11ef-ad2f-0242ac120005-3-482b-a1a0-902d",
       "next": "16d99fc6-1cc9-11ef-ad2f-0242ac120005-2-9714-7571",
       "previous": "16d99eae-1cc9-11ef-ad2f-0242ac120005-2-ea85-9eea"
      }
     ],
     "next": "16d99fc6-1cc9-11ef-ad2f-0242ac120005-3-9714-7571-487f",
     "previous": "16d99eae-1cc9-11ef-ad2f-0242ac120005-3-ea85-9eea-0680"
    }
   },
   "outputs": [],
   "source": [
    "!ls -p ~/notebooks/share/configuration"
   ]
  },
  {
   "cell_type": "code",
   "execution_count": null,
   "metadata": {
    "lc_cell_meme": {
     "current": "16d99fc6-1cc9-11ef-ad2f-0242ac120005-3-9714-7571-487f",
     "history": [
      {
       "current": "16d99fc6-1cc9-11ef-ad2f-0242ac120005-1-9714",
       "next": "16d99ff8-1cc9-11ef-ad2f-0242ac120005",
       "previous": "16d99f94-1cc9-11ef-ad2f-0242ac120005"
      },
      {
       "current": "16d99fc6-1cc9-11ef-ad2f-0242ac120005-2-9714-7571",
       "next": "16d99ff8-1cc9-11ef-ad2f-0242ac120005-1-8d3f",
       "previous": "16d99f94-1cc9-11ef-ad2f-0242ac120005-1-482b"
      },
      {
       "current": "16d99fc6-1cc9-11ef-ad2f-0242ac120005-3-9714-7571-487f",
       "next": "16d99ff8-1cc9-11ef-ad2f-0242ac120005-2-8d3f-2aea",
       "previous": "16d99f94-1cc9-11ef-ad2f-0242ac120005-2-482b-a1a0"
      }
     ],
     "next": "16d99ff8-1cc9-11ef-ad2f-0242ac120005-3-8d3f-2aea-c10c",
     "previous": "16d99f94-1cc9-11ef-ad2f-0242ac120005-3-482b-a1a0-902d"
    }
   },
   "outputs": [],
   "source": [
    "!ls -p ~/notebooks/share/configuration/ceph"
   ]
  },
  {
   "cell_type": "code",
   "execution_count": null,
   "metadata": {
    "lc_cell_meme": {
     "current": "16d99ff8-1cc9-11ef-ad2f-0242ac120005-3-8d3f-2aea-c10c",
     "history": [
      {
       "current": "16d99ff8-1cc9-11ef-ad2f-0242ac120005-1-8d3f",
       "next": "16d9a020-1cc9-11ef-ad2f-0242ac120005",
       "previous": "16d99fc6-1cc9-11ef-ad2f-0242ac120005"
      },
      {
       "current": "16d99ff8-1cc9-11ef-ad2f-0242ac120005-2-8d3f-2aea",
       "next": "16d9a020-1cc9-11ef-ad2f-0242ac120005-1-c2c0",
       "previous": "16d99fc6-1cc9-11ef-ad2f-0242ac120005-1-9714"
      },
      {
       "current": "16d99ff8-1cc9-11ef-ad2f-0242ac120005-3-8d3f-2aea-c10c",
       "next": "16d9a020-1cc9-11ef-ad2f-0242ac120005-2-c2c0-29b3",
       "previous": "16d99fc6-1cc9-11ef-ad2f-0242ac120005-2-9714-7571"
      }
     ],
     "next": "16d9a020-1cc9-11ef-ad2f-0242ac120005-3-c2c0-29b3-d3a8",
     "previous": "16d99fc6-1cc9-11ef-ad2f-0242ac120005-3-9714-7571-487f"
    }
   },
   "outputs": [],
   "source": [
    "import sys, os.path, importlib, json, yaml\n",
    "\n",
    "config_file_name = \"ceph_admin_vm.yml\"\n",
    "config_file_path = os.path.expanduser(\"~/notebooks/share/configuration/ceph/{}\".format(config_file_name))\n",
    "with open(config_file_path) as f:\n",
    "    admin_params = yaml.safe_load(f)\n",
    "admin_params"
   ]
  },
  {
   "cell_type": "code",
   "execution_count": null,
   "metadata": {
    "lc_cell_meme": {
     "current": "16d9a020-1cc9-11ef-ad2f-0242ac120005-3-c2c0-29b3-d3a8",
     "history": [
      {
       "current": "16d9a020-1cc9-11ef-ad2f-0242ac120005-1-c2c0",
       "next": "16d9a048-1cc9-11ef-ad2f-0242ac120005",
       "previous": "16d99ff8-1cc9-11ef-ad2f-0242ac120005"
      },
      {
       "current": "16d9a020-1cc9-11ef-ad2f-0242ac120005-2-c2c0-29b3",
       "next": "16d9a048-1cc9-11ef-ad2f-0242ac120005-1-cdac",
       "previous": "16d99ff8-1cc9-11ef-ad2f-0242ac120005-1-8d3f"
      },
      {
       "current": "16d9a020-1cc9-11ef-ad2f-0242ac120005-3-c2c0-29b3-d3a8",
       "next": "16d9a048-1cc9-11ef-ad2f-0242ac120005-2-cdac-af45",
       "previous": "16d99ff8-1cc9-11ef-ad2f-0242ac120005-2-8d3f-2aea"
      }
     ],
     "next": "16d9a048-1cc9-11ef-ad2f-0242ac120005-3-cdac-af45-fa6d",
     "previous": "16d99ff8-1cc9-11ef-ad2f-0242ac120005-3-8d3f-2aea-c10c"
    }
   },
   "outputs": [],
   "source": [
    "target_vm_name = 'xxx-ceph-admin1'\n",
    "admin_patam = admin_params[target_vm_name]\n",
    "admin_patam"
   ]
  },
  {
   "cell_type": "code",
   "execution_count": null,
   "metadata": {
    "lc_cell_meme": {
     "current": "16d9a048-1cc9-11ef-ad2f-0242ac120005-3-cdac-af45-fa6d",
     "history": [
      {
       "current": "16d9a048-1cc9-11ef-ad2f-0242ac120005-1-cdac",
       "next": "16d9a0fc-1cc9-11ef-ad2f-0242ac120005",
       "previous": "16d9a020-1cc9-11ef-ad2f-0242ac120005"
      },
      {
       "current": "16d9a048-1cc9-11ef-ad2f-0242ac120005-2-cdac-af45",
       "next": "16d9a0fc-1cc9-11ef-ad2f-0242ac120005-1-b845",
       "previous": "16d9a020-1cc9-11ef-ad2f-0242ac120005-1-c2c0"
      },
      {
       "current": "16d9a048-1cc9-11ef-ad2f-0242ac120005-3-cdac-af45-fa6d",
       "next": "16d9a0fc-1cc9-11ef-ad2f-0242ac120005-2-b845-bf38",
       "previous": "16d9a020-1cc9-11ef-ad2f-0242ac120005-2-c2c0-29b3"
      }
     ],
     "next": "16d9a0fc-1cc9-11ef-ad2f-0242ac120005-3-b845-bf38-d48c",
     "previous": "16d9a020-1cc9-11ef-ad2f-0242ac120005-3-c2c0-29b3-d3a8"
    }
   },
   "outputs": [],
   "source": [
    "ceph_admin_ip = admin_patam['network']['provisioning']['ip']"
   ]
  },
  {
   "cell_type": "code",
   "execution_count": null,
   "metadata": {
    "lc_cell_meme": {
     "current": "16d9a0fc-1cc9-11ef-ad2f-0242ac120005-3-b845-bf38-d48c",
     "history": [
      {
       "current": "16d9a0fc-1cc9-11ef-ad2f-0242ac120005-1-b845",
       "next": "16d9a124-1cc9-11ef-ad2f-0242ac120005",
       "previous": "16d9a048-1cc9-11ef-ad2f-0242ac120005"
      },
      {
       "current": "16d9a0fc-1cc9-11ef-ad2f-0242ac120005-2-b845-bf38",
       "next": "16d9a124-1cc9-11ef-ad2f-0242ac120005-1-d0be",
       "previous": "16d9a048-1cc9-11ef-ad2f-0242ac120005-1-cdac"
      },
      {
       "current": "16d9a0fc-1cc9-11ef-ad2f-0242ac120005-3-b845-bf38-d48c",
       "next": "16d9a124-1cc9-11ef-ad2f-0242ac120005-2-d0be-5de6",
       "previous": "16d9a048-1cc9-11ef-ad2f-0242ac120005-2-cdac-af45"
      }
     ],
     "next": "16d9a124-1cc9-11ef-ad2f-0242ac120005-3-d0be-5de6-0346",
     "previous": "16d9a048-1cc9-11ef-ad2f-0242ac120005-3-cdac-af45-fa6d"
    }
   },
   "outputs": [],
   "source": [
    "import sys, os.path, importlib, json, yaml\n",
    "\n",
    "config_file_name = \"xxx-openstack-parameter.yml\"\n",
    "config_file_path = os.path.expanduser(\"~/notebooks/share/configuration/{}\".format(config_file_name))\n",
    "with open(config_file_path) as f:\n",
    "    params = yaml.safe_load(f)\n",
    "params"
   ]
  },
  {
   "cell_type": "code",
   "execution_count": null,
   "metadata": {
    "lc_cell_meme": {
     "current": "16d9a124-1cc9-11ef-ad2f-0242ac120005-3-d0be-5de6-0346",
     "history": [
      {
       "current": "16d9a124-1cc9-11ef-ad2f-0242ac120005-1-d0be",
       "next": "16d9a14c-1cc9-11ef-ad2f-0242ac120005",
       "previous": "16d9a0fc-1cc9-11ef-ad2f-0242ac120005"
      },
      {
       "current": "16d9a124-1cc9-11ef-ad2f-0242ac120005-2-d0be-5de6",
       "next": "16d9a14c-1cc9-11ef-ad2f-0242ac120005-1-3f59",
       "previous": "16d9a0fc-1cc9-11ef-ad2f-0242ac120005-1-b845"
      },
      {
       "current": "16d9a124-1cc9-11ef-ad2f-0242ac120005-3-d0be-5de6-0346",
       "next": "16d9a14c-1cc9-11ef-ad2f-0242ac120005-2-3f59-7e90",
       "previous": "16d9a0fc-1cc9-11ef-ad2f-0242ac120005-2-b845-bf38"
      }
     ],
     "next": "16d9a14c-1cc9-11ef-ad2f-0242ac120005-3-3f59-7e90-ddf0",
     "previous": "16d9a0fc-1cc9-11ef-ad2f-0242ac120005-3-b845-bf38-d48c"
    }
   },
   "outputs": [],
   "source": [
    "repo_server = params['repository']['addresses']['service_operation']\n",
    "repo_server"
   ]
  },
  {
   "cell_type": "code",
   "execution_count": null,
   "metadata": {
    "lc_cell_meme": {
     "current": "16d9a14c-1cc9-11ef-ad2f-0242ac120005-3-3f59-7e90-ddf0",
     "history": [
      {
       "current": "16d9a14c-1cc9-11ef-ad2f-0242ac120005-1-3f59",
       "next": "37fd7fe4-56f9-11ec-a1da-0242ac120004-5-e08c-554e-472b-f6d5-7467",
       "previous": "16d9a124-1cc9-11ef-ad2f-0242ac120005"
      },
      {
       "current": "16d9a14c-1cc9-11ef-ad2f-0242ac120005-2-3f59-7e90",
       "next": "37fd7fe4-56f9-11ec-a1da-0242ac120004-6-e08c-554e-472b-f6d5-7467-cb33",
       "previous": "16d9a124-1cc9-11ef-ad2f-0242ac120005-1-d0be"
      },
      {
       "current": "16d9a14c-1cc9-11ef-ad2f-0242ac120005-3-3f59-7e90-ddf0",
       "next": "37fd7fe4-56f9-11ec-a1da-0242ac120004-7-e08c-554e-472b-f6d5-7467-cb33-026e",
       "previous": "16d9a124-1cc9-11ef-ad2f-0242ac120005-2-d0be-5de6"
      }
     ],
     "next": "37fd7fe4-56f9-11ec-a1da-0242ac120004-8-e08c-554e-472b-f6d5-7467-cb33-026e-8eee",
     "previous": "16d9a124-1cc9-11ef-ad2f-0242ac120005-3-d0be-5de6-0346"
    }
   },
   "outputs": [],
   "source": [
    "provisioning_vip = params['openstack']['provisioning_vip']\n",
    "provisioning_vip"
   ]
  },
  {
   "cell_type": "markdown",
   "metadata": {
    "heading_collapsed": true,
    "lc_cell_meme": {
     "current": "37fd7fe4-56f9-11ec-a1da-0242ac120004-8-e08c-554e-472b-f6d5-7467-cb33-026e-8eee",
     "history": [
      {
       "current": "37fd7fe4-56f9-11ec-a1da-0242ac120004-1-e08c",
       "next": "37fd8138-56f9-11ec-a1da-0242ac120004",
       "previous": "37fd7e90-56f9-11ec-a1da-0242ac120004"
      },
      {
       "current": "37fd7fe4-56f9-11ec-a1da-0242ac120004-2-e08c-554e",
       "next": "7f8980ba-56f9-11ec-a1da-0242ac120004",
       "previous": "37fd7e90-56f9-11ec-a1da-0242ac120004"
      },
      {
       "current": "37fd7fe4-56f9-11ec-a1da-0242ac120004-3-e08c-554e-472b",
       "next": "7f8980ba-56f9-11ec-a1da-0242ac120004-1-eb32",
       "previous": "37fd7e90-56f9-11ec-a1da-0242ac120004-1-007d"
      },
      {
       "current": "37fd7fe4-56f9-11ec-a1da-0242ac120004-4-e08c-554e-472b-f6d5",
       "next": "7f8980ba-56f9-11ec-a1da-0242ac120004-2-eb32-6b38",
       "previous": "37fd7e90-56f9-11ec-a1da-0242ac120004-2-007d-3534"
      },
      {
       "current": "37fd7fe4-56f9-11ec-a1da-0242ac120004-5-e08c-554e-472b-f6d5-7467",
       "next": "7f8980ba-56f9-11ec-a1da-0242ac120004-3-eb32-6b38-1eaf",
       "previous": "37fd7e90-56f9-11ec-a1da-0242ac120004-3-007d-3534-4a1e"
      },
      {
       "current": "37fd7fe4-56f9-11ec-a1da-0242ac120004-6-e08c-554e-472b-f6d5-7467-cb33",
       "next": "7f8980ba-56f9-11ec-a1da-0242ac120004-4-eb32-6b38-1eaf-5536",
       "previous": "16d9a14c-1cc9-11ef-ad2f-0242ac120005"
      },
      {
       "current": "37fd7fe4-56f9-11ec-a1da-0242ac120004-7-e08c-554e-472b-f6d5-7467-cb33-026e",
       "next": "7f8980ba-56f9-11ec-a1da-0242ac120004-5-eb32-6b38-1eaf-5536-81e9",
       "previous": "16d9a14c-1cc9-11ef-ad2f-0242ac120005-1-3f59"
      },
      {
       "current": "37fd7fe4-56f9-11ec-a1da-0242ac120004-8-e08c-554e-472b-f6d5-7467-cb33-026e-8eee",
       "next": "7f8980ba-56f9-11ec-a1da-0242ac120004-6-eb32-6b38-1eaf-5536-81e9-4348",
       "previous": "16d9a14c-1cc9-11ef-ad2f-0242ac120005-2-3f59-7e90"
      }
     ],
     "next": "7f8980ba-56f9-11ec-a1da-0242ac120004-7-eb32-6b38-1eaf-5536-81e9-4348-bceb",
     "previous": "16d9a14c-1cc9-11ef-ad2f-0242ac120005-3-3f59-7e90-ddf0"
    }
   },
   "source": [
    "## CephノードとストレージセグメントIPアドレス対応表の読み込み"
   ]
  },
  {
   "cell_type": "code",
   "execution_count": null,
   "metadata": {
    "hidden": true,
    "lc_cell_meme": {
     "current": "7f8980ba-56f9-11ec-a1da-0242ac120004-7-eb32-6b38-1eaf-5536-81e9-4348-bceb",
     "history": [
      {
       "current": "7f8980ba-56f9-11ec-a1da-0242ac120004-1-eb32",
       "next": "7f898358-56f9-11ec-a1da-0242ac120004",
       "previous": "37fd7fe4-56f9-11ec-a1da-0242ac120004-1-e08c"
      },
      {
       "current": "7f8980ba-56f9-11ec-a1da-0242ac120004-1-eb32",
       "next": "7f898358-56f9-11ec-a1da-0242ac120004-1-9fd7",
       "previous": "37fd7fe4-56f9-11ec-a1da-0242ac120004-2-e08c-554e"
      },
      {
       "current": "7f8980ba-56f9-11ec-a1da-0242ac120004-2-eb32-6b38",
       "next": "1da70ed8-6f22-11ee-89fa-0242ac120005",
       "previous": "37fd7fe4-56f9-11ec-a1da-0242ac120004-2-e08c-554e"
      },
      {
       "current": "7f8980ba-56f9-11ec-a1da-0242ac120004-3-eb32-6b38-1eaf",
       "next": "1da70ed8-6f22-11ee-89fa-0242ac120005-1-d3a0",
       "previous": "37fd7fe4-56f9-11ec-a1da-0242ac120004-3-e08c-554e-472b"
      },
      {
       "current": "7f8980ba-56f9-11ec-a1da-0242ac120004-4-eb32-6b38-1eaf-5536",
       "next": "1da70ed8-6f22-11ee-89fa-0242ac120005-2-d3a0-da87",
       "previous": "37fd7fe4-56f9-11ec-a1da-0242ac120004-4-e08c-554e-472b-f6d5"
      },
      {
       "current": "7f8980ba-56f9-11ec-a1da-0242ac120004-4-eb32-6b38-1eaf-5536",
       "next": "1da70ed8-6f22-11ee-89fa-0242ac120005-3-d3a0-da87-93d2",
       "previous": "37fd7fe4-56f9-11ec-a1da-0242ac120004-5-e08c-554e-472b-f6d5-7467"
      },
      {
       "current": "7f8980ba-56f9-11ec-a1da-0242ac120004-5-eb32-6b38-1eaf-5536-81e9",
       "next": "652daa0a-6f22-11ee-89fa-0242ac120005-3-e5ec-583b-1d49",
       "previous": "37fd7fe4-56f9-11ec-a1da-0242ac120004-5-e08c-554e-472b-f6d5-7467"
      },
      {
       "current": "7f8980ba-56f9-11ec-a1da-0242ac120004-6-eb32-6b38-1eaf-5536-81e9-4348",
       "next": "652daa0a-6f22-11ee-89fa-0242ac120005-4-e5ec-583b-1d49-257e",
       "previous": "37fd7fe4-56f9-11ec-a1da-0242ac120004-6-e08c-554e-472b-f6d5-7467-cb33"
      },
      {
       "current": "7f8980ba-56f9-11ec-a1da-0242ac120004-7-eb32-6b38-1eaf-5536-81e9-4348-bceb",
       "next": "652daa0a-6f22-11ee-89fa-0242ac120005-5-e5ec-583b-1d49-257e-8508",
       "previous": "37fd7fe4-56f9-11ec-a1da-0242ac120004-7-e08c-554e-472b-f6d5-7467-cb33-026e"
      }
     ],
     "next": "652daa0a-6f22-11ee-89fa-0242ac120005-6-e5ec-583b-1d49-257e-8508-f050",
     "previous": "37fd7fe4-56f9-11ec-a1da-0242ac120004-8-e08c-554e-472b-f6d5-7467-cb33-026e-8eee"
    },
    "scrolled": true
   },
   "outputs": [],
   "source": [
    "import os\n",
    "import csv\n",
    "import pandas as pd\n",
    "\n",
    "instance_ip_csv_path =  os.environ['HOME'] + \"/notebooks/share/configuration/ceph/ceph_instance_ip.csv\"\n",
    "instance_ip_list = []\n",
    "instance_ip_map = {}\n",
    "\n",
    "with open(instance_ip_csv_path, 'r') as path_csv:\n",
    "    reader = csv.DictReader(path_csv)\n",
    "    \n",
    "    for record in reader:\n",
    "        instance_ip_list.append(record)\n",
    "        instance_ip_map[record['instance_name']] = record\n",
    "\n",
    "pd.DataFrame(instance_ip_list)"
   ]
  },
  {
   "cell_type": "markdown",
   "metadata": {
    "heading_collapsed": true,
    "lc_cell_meme": {
     "current": "652daa0a-6f22-11ee-89fa-0242ac120005-6-e5ec-583b-1d49-257e-8508-f050",
     "history": [
      {
       "current": "652daa0a-6f22-11ee-89fa-0242ac120005-1-e5ec",
       "next": "652dab5e-6f22-11ee-89fa-0242ac120005",
       "previous": "7f898358-56f9-11ec-a1da-0242ac120004-1-9fd7"
      },
      {
       "current": "652daa0a-6f22-11ee-89fa-0242ac120005-2-e5ec-583b",
       "next": "652dab5e-6f22-11ee-89fa-0242ac120005-1-aac6",
       "previous": "7f898358-56f9-11ec-a1da-0242ac120004-2-9fd7-82f5"
      },
      {
       "current": "652daa0a-6f22-11ee-89fa-0242ac120005-3-e5ec-583b-1d49",
       "next": "652dab5e-6f22-11ee-89fa-0242ac120005-2-aac6-8d28",
       "previous": "7f898358-56f9-11ec-a1da-0242ac120004-3-9fd7-82f5-f00d"
      },
      {
       "current": "652daa0a-6f22-11ee-89fa-0242ac120005-3-e5ec-583b-1d49",
       "next": "652dab5e-6f22-11ee-89fa-0242ac120005-3-aac6-8d28-9e43",
       "previous": "7f898358-56f9-11ec-a1da-0242ac120004-4-9fd7-82f5-f00d-68f0"
      },
      {
       "current": "652daa0a-6f22-11ee-89fa-0242ac120005-4-e5ec-583b-1d49-257e",
       "next": "652dab5e-6f22-11ee-89fa-0242ac120005-3-aac6-8d28-9e43",
       "previous": "7f8980ba-56f9-11ec-a1da-0242ac120004-4-eb32-6b38-1eaf-5536"
      },
      {
       "current": "652daa0a-6f22-11ee-89fa-0242ac120005-5-e5ec-583b-1d49-257e-8508",
       "next": "652dab5e-6f22-11ee-89fa-0242ac120005-4-aac6-8d28-9e43-6fd8",
       "previous": "7f8980ba-56f9-11ec-a1da-0242ac120004-5-eb32-6b38-1eaf-5536-81e9"
      },
      {
       "current": "652daa0a-6f22-11ee-89fa-0242ac120005-6-e5ec-583b-1d49-257e-8508-f050",
       "next": "652dab5e-6f22-11ee-89fa-0242ac120005-5-aac6-8d28-9e43-6fd8-bffa",
       "previous": "7f8980ba-56f9-11ec-a1da-0242ac120004-6-eb32-6b38-1eaf-5536-81e9-4348"
      }
     ],
     "next": "652dab5e-6f22-11ee-89fa-0242ac120005-6-aac6-8d28-9e43-6fd8-bffa-676d",
     "previous": "7f8980ba-56f9-11ec-a1da-0242ac120004-7-eb32-6b38-1eaf-5536-81e9-4348-bceb"
    }
   },
   "source": [
    "## 作業用ディレクトリを作成する"
   ]
  },
  {
   "cell_type": "code",
   "execution_count": null,
   "metadata": {
    "hidden": true,
    "lc_cell_meme": {
     "current": "652dab5e-6f22-11ee-89fa-0242ac120005-6-aac6-8d28-9e43-6fd8-bffa-676d",
     "history": [
      {
       "current": "652dab5e-6f22-11ee-89fa-0242ac120005-1-aac6",
       "next": "652dabea-6f22-11ee-89fa-0242ac120005",
       "previous": "652daa0a-6f22-11ee-89fa-0242ac120005"
      },
      {
       "current": "652dab5e-6f22-11ee-89fa-0242ac120005-2-aac6-8d28",
       "next": "652dabea-6f22-11ee-89fa-0242ac120005-1-88b3",
       "previous": "652daa0a-6f22-11ee-89fa-0242ac120005-1-e5ec"
      },
      {
       "current": "652dab5e-6f22-11ee-89fa-0242ac120005-3-aac6-8d28-9e43",
       "next": "652dabea-6f22-11ee-89fa-0242ac120005-2-88b3-84c8",
       "previous": "652daa0a-6f22-11ee-89fa-0242ac120005-2-e5ec-583b"
      },
      {
       "current": "652dab5e-6f22-11ee-89fa-0242ac120005-4-aac6-8d28-9e43-6fd8",
       "next": "652dabea-6f22-11ee-89fa-0242ac120005-3-88b3-84c8-865f",
       "previous": "652daa0a-6f22-11ee-89fa-0242ac120005-3-e5ec-583b-1d49"
      },
      {
       "current": "652dab5e-6f22-11ee-89fa-0242ac120005-5-aac6-8d28-9e43-6fd8-bffa",
       "next": "652dabea-6f22-11ee-89fa-0242ac120005-4-88b3-84c8-865f-f669",
       "previous": "652daa0a-6f22-11ee-89fa-0242ac120005-4-e5ec-583b-1d49-257e"
      },
      {
       "current": "652dab5e-6f22-11ee-89fa-0242ac120005-6-aac6-8d28-9e43-6fd8-bffa-676d",
       "next": "652dabea-6f22-11ee-89fa-0242ac120005-5-88b3-84c8-865f-f669-25a2",
       "previous": "652daa0a-6f22-11ee-89fa-0242ac120005-5-e5ec-583b-1d49-257e-8508"
      }
     ],
     "next": "652dabea-6f22-11ee-89fa-0242ac120005-6-88b3-84c8-865f-f669-25a2-4af9",
     "previous": "652daa0a-6f22-11ee-89fa-0242ac120005-6-e5ec-583b-1d49-257e-8508-f050"
    }
   },
   "outputs": [],
   "source": [
    "import os,tempfile\n",
    "temp_dir = tempfile.mkdtemp()\n",
    "print (temp_dir)"
   ]
  },
  {
   "cell_type": "markdown",
   "metadata": {
    "heading_collapsed": true,
    "lc_cell_meme": {
     "current": "652dabea-6f22-11ee-89fa-0242ac120005-6-88b3-84c8-865f-f669-25a2-4af9",
     "history": [
      {
       "current": "652dabea-6f22-11ee-89fa-0242ac120005-1-88b3",
       "next": "652dac44-6f22-11ee-89fa-0242ac120005",
       "previous": "652dab5e-6f22-11ee-89fa-0242ac120005"
      },
      {
       "current": "652dabea-6f22-11ee-89fa-0242ac120005-2-88b3-84c8",
       "next": "652dac44-6f22-11ee-89fa-0242ac120005-1-520a",
       "previous": "652dab5e-6f22-11ee-89fa-0242ac120005-1-aac6"
      },
      {
       "current": "652dabea-6f22-11ee-89fa-0242ac120005-3-88b3-84c8-865f",
       "next": "652dac44-6f22-11ee-89fa-0242ac120005-2-520a-0c99",
       "previous": "652dab5e-6f22-11ee-89fa-0242ac120005-2-aac6-8d28"
      },
      {
       "current": "652dabea-6f22-11ee-89fa-0242ac120005-4-88b3-84c8-865f-f669",
       "next": "652dac44-6f22-11ee-89fa-0242ac120005-3-520a-0c99-ce83",
       "previous": "652dab5e-6f22-11ee-89fa-0242ac120005-3-aac6-8d28-9e43"
      },
      {
       "current": "652dabea-6f22-11ee-89fa-0242ac120005-5-88b3-84c8-865f-f669-25a2",
       "next": "652dac44-6f22-11ee-89fa-0242ac120005-4-520a-0c99-ce83-3b8c",
       "previous": "652dab5e-6f22-11ee-89fa-0242ac120005-4-aac6-8d28-9e43-6fd8"
      },
      {
       "current": "652dabea-6f22-11ee-89fa-0242ac120005-6-88b3-84c8-865f-f669-25a2-4af9",
       "next": "652dac44-6f22-11ee-89fa-0242ac120005-5-520a-0c99-ce83-3b8c-98dd",
       "previous": "652dab5e-6f22-11ee-89fa-0242ac120005-5-aac6-8d28-9e43-6fd8-bffa"
      }
     ],
     "next": "652dac44-6f22-11ee-89fa-0242ac120005-6-520a-0c99-ce83-3b8c-98dd-4f77",
     "previous": "652dab5e-6f22-11ee-89fa-0242ac120005-6-aac6-8d28-9e43-6fd8-bffa-676d"
    }
   },
   "source": [
    "## AnsibleのInventoryファイルを作業用ディレクトリへ作成する"
   ]
  },
  {
   "cell_type": "code",
   "execution_count": null,
   "metadata": {
    "hidden": true,
    "lc_cell_meme": {
     "current": "652dac44-6f22-11ee-89fa-0242ac120005-6-520a-0c99-ce83-3b8c-98dd-4f77",
     "history": [
      {
       "current": "652dac44-6f22-11ee-89fa-0242ac120005-1-520a",
       "next": "652daca8-6f22-11ee-89fa-0242ac120005",
       "previous": "652dabea-6f22-11ee-89fa-0242ac120005"
      },
      {
       "current": "652dac44-6f22-11ee-89fa-0242ac120005-2-520a-0c99",
       "next": "652daca8-6f22-11ee-89fa-0242ac120005-1-1ebf",
       "previous": "652dabea-6f22-11ee-89fa-0242ac120005-1-88b3"
      },
      {
       "current": "652dac44-6f22-11ee-89fa-0242ac120005-3-520a-0c99-ce83",
       "next": "652daca8-6f22-11ee-89fa-0242ac120005-2-1ebf-988c",
       "previous": "652dabea-6f22-11ee-89fa-0242ac120005-2-88b3-84c8"
      },
      {
       "current": "652dac44-6f22-11ee-89fa-0242ac120005-4-520a-0c99-ce83-3b8c",
       "next": "652daca8-6f22-11ee-89fa-0242ac120005-3-1ebf-988c-2aae",
       "previous": "652dabea-6f22-11ee-89fa-0242ac120005-3-88b3-84c8-865f"
      },
      {
       "current": "652dac44-6f22-11ee-89fa-0242ac120005-5-520a-0c99-ce83-3b8c-98dd",
       "next": "652daca8-6f22-11ee-89fa-0242ac120005-4-1ebf-988c-2aae-7fc0",
       "previous": "652dabea-6f22-11ee-89fa-0242ac120005-4-88b3-84c8-865f-f669"
      },
      {
       "current": "652dac44-6f22-11ee-89fa-0242ac120005-6-520a-0c99-ce83-3b8c-98dd-4f77",
       "next": "652daca8-6f22-11ee-89fa-0242ac120005-5-1ebf-988c-2aae-7fc0-5e4a",
       "previous": "652dabea-6f22-11ee-89fa-0242ac120005-5-88b3-84c8-865f-f669-25a2"
      }
     ],
     "next": "652daca8-6f22-11ee-89fa-0242ac120005-6-1ebf-988c-2aae-7fc0-5e4a-5fc0",
     "previous": "652dabea-6f22-11ee-89fa-0242ac120005-6-88b3-84c8-865f-f669-25a2-4af9"
    }
   },
   "outputs": [],
   "source": [
    "import os\n",
    "\n",
    "with open( os.path.join(temp_dir, \"hosts\"), 'w') as f:\n",
    "    f.write('''[openstack_ctl]\n",
    "{openstack_cmn}\n",
    "'''.format(openstack_cmn = provisioning_vip))\n",
    "\n",
    "hosts = temp_dir + \"/hosts\"\n",
    "!cat $hosts"
   ]
  },
  {
   "cell_type": "code",
   "execution_count": null,
   "metadata": {
    "hidden": true,
    "lc_cell_meme": {
     "current": "652daca8-6f22-11ee-89fa-0242ac120005-6-1ebf-988c-2aae-7fc0-5e4a-5fc0",
     "history": [
      {
       "current": "652daca8-6f22-11ee-89fa-0242ac120005-1-1ebf",
       "next": "652dacf8-6f22-11ee-89fa-0242ac120005",
       "previous": "652dac44-6f22-11ee-89fa-0242ac120005"
      },
      {
       "current": "652daca8-6f22-11ee-89fa-0242ac120005-2-1ebf-988c",
       "next": "652dacf8-6f22-11ee-89fa-0242ac120005-1-3e89",
       "previous": "652dac44-6f22-11ee-89fa-0242ac120005-1-520a"
      },
      {
       "current": "652daca8-6f22-11ee-89fa-0242ac120005-3-1ebf-988c-2aae",
       "next": "652dacf8-6f22-11ee-89fa-0242ac120005-2-3e89-2cdd",
       "previous": "652dac44-6f22-11ee-89fa-0242ac120005-2-520a-0c99"
      },
      {
       "current": "652daca8-6f22-11ee-89fa-0242ac120005-4-1ebf-988c-2aae-7fc0",
       "next": "652dacf8-6f22-11ee-89fa-0242ac120005-3-3e89-2cdd-10f5",
       "previous": "652dac44-6f22-11ee-89fa-0242ac120005-3-520a-0c99-ce83"
      },
      {
       "current": "652daca8-6f22-11ee-89fa-0242ac120005-5-1ebf-988c-2aae-7fc0-5e4a",
       "next": "652dacf8-6f22-11ee-89fa-0242ac120005-4-3e89-2cdd-10f5-4905",
       "previous": "652dac44-6f22-11ee-89fa-0242ac120005-4-520a-0c99-ce83-3b8c"
      },
      {
       "current": "652daca8-6f22-11ee-89fa-0242ac120005-6-1ebf-988c-2aae-7fc0-5e4a-5fc0",
       "next": "652dacf8-6f22-11ee-89fa-0242ac120005-5-3e89-2cdd-10f5-4905-6c9a",
       "previous": "652dac44-6f22-11ee-89fa-0242ac120005-5-520a-0c99-ce83-3b8c-98dd"
      }
     ],
     "next": "652dacf8-6f22-11ee-89fa-0242ac120005-6-3e89-2cdd-10f5-4905-6c9a-256d",
     "previous": "652dac44-6f22-11ee-89fa-0242ac120005-6-520a-0c99-ce83-3b8c-98dd-4f77"
    }
   },
   "outputs": [],
   "source": [
    "%env ANSIBLE_INVENTORY={hosts}"
   ]
  },
  {
   "cell_type": "markdown",
   "metadata": {
    "hidden": true,
    "lc_cell_meme": {
     "current": "652dacf8-6f22-11ee-89fa-0242ac120005-6-3e89-2cdd-10f5-4905-6c9a-256d",
     "history": [
      {
       "current": "652dacf8-6f22-11ee-89fa-0242ac120005-1-3e89",
       "next": "652dade8-6f22-11ee-89fa-0242ac120005",
       "previous": "652daca8-6f22-11ee-89fa-0242ac120005"
      },
      {
       "current": "652dacf8-6f22-11ee-89fa-0242ac120005-2-3e89-2cdd",
       "next": "652dade8-6f22-11ee-89fa-0242ac120005-1-6d18",
       "previous": "652daca8-6f22-11ee-89fa-0242ac120005-1-1ebf"
      },
      {
       "current": "652dacf8-6f22-11ee-89fa-0242ac120005-3-3e89-2cdd-10f5",
       "next": "652dade8-6f22-11ee-89fa-0242ac120005-2-6d18-5c90",
       "previous": "652daca8-6f22-11ee-89fa-0242ac120005-2-1ebf-988c"
      },
      {
       "current": "652dacf8-6f22-11ee-89fa-0242ac120005-4-3e89-2cdd-10f5-4905",
       "next": "652dade8-6f22-11ee-89fa-0242ac120005-3-6d18-5c90-0ae3",
       "previous": "652daca8-6f22-11ee-89fa-0242ac120005-3-1ebf-988c-2aae"
      },
      {
       "current": "652dacf8-6f22-11ee-89fa-0242ac120005-5-3e89-2cdd-10f5-4905-6c9a",
       "next": "652dade8-6f22-11ee-89fa-0242ac120005-4-6d18-5c90-0ae3-71b0",
       "previous": "652daca8-6f22-11ee-89fa-0242ac120005-4-1ebf-988c-2aae-7fc0"
      },
      {
       "current": "652dacf8-6f22-11ee-89fa-0242ac120005-6-3e89-2cdd-10f5-4905-6c9a-256d",
       "next": "652dade8-6f22-11ee-89fa-0242ac120005-5-6d18-5c90-0ae3-71b0-290b",
       "previous": "652daca8-6f22-11ee-89fa-0242ac120005-5-1ebf-988c-2aae-7fc0-5e4a"
      }
     ],
     "next": "652dade8-6f22-11ee-89fa-0242ac120005-6-6d18-5c90-0ae3-71b0-290b-2e54",
     "previous": "652daca8-6f22-11ee-89fa-0242ac120005-6-1ebf-988c-2aae-7fc0-5e4a-5fc0"
    }
   },
   "source": [
    "疎通確認"
   ]
  },
  {
   "cell_type": "code",
   "execution_count": null,
   "metadata": {
    "hidden": true,
    "lc_cell_meme": {
     "current": "652dade8-6f22-11ee-89fa-0242ac120005-6-6d18-5c90-0ae3-71b0-290b-2e54",
     "history": [
      {
       "current": "652dade8-6f22-11ee-89fa-0242ac120005-1-6d18",
       "next": "652dae42-6f22-11ee-89fa-0242ac120005",
       "previous": "652dacf8-6f22-11ee-89fa-0242ac120005"
      },
      {
       "current": "652dade8-6f22-11ee-89fa-0242ac120005-2-6d18-5c90",
       "next": "652dae42-6f22-11ee-89fa-0242ac120005-1-a173",
       "previous": "652dacf8-6f22-11ee-89fa-0242ac120005-1-3e89"
      },
      {
       "current": "652dade8-6f22-11ee-89fa-0242ac120005-3-6d18-5c90-0ae3",
       "next": "652dae42-6f22-11ee-89fa-0242ac120005-2-a173-67b3",
       "previous": "652dacf8-6f22-11ee-89fa-0242ac120005-2-3e89-2cdd"
      },
      {
       "current": "652dade8-6f22-11ee-89fa-0242ac120005-4-6d18-5c90-0ae3-71b0",
       "next": "652dae42-6f22-11ee-89fa-0242ac120005-3-a173-67b3-3fbb",
       "previous": "652dacf8-6f22-11ee-89fa-0242ac120005-3-3e89-2cdd-10f5"
      },
      {
       "current": "652dade8-6f22-11ee-89fa-0242ac120005-5-6d18-5c90-0ae3-71b0-290b",
       "next": "652dae42-6f22-11ee-89fa-0242ac120005-4-a173-67b3-3fbb-7879",
       "previous": "652dacf8-6f22-11ee-89fa-0242ac120005-4-3e89-2cdd-10f5-4905"
      },
      {
       "current": "652dade8-6f22-11ee-89fa-0242ac120005-6-6d18-5c90-0ae3-71b0-290b-2e54",
       "next": "652dae42-6f22-11ee-89fa-0242ac120005-5-a173-67b3-3fbb-7879-94a3",
       "previous": "652dacf8-6f22-11ee-89fa-0242ac120005-5-3e89-2cdd-10f5-4905-6c9a"
      }
     ],
     "next": "652dae42-6f22-11ee-89fa-0242ac120005-6-a173-67b3-3fbb-7879-94a3-b361",
     "previous": "652dacf8-6f22-11ee-89fa-0242ac120005-6-3e89-2cdd-10f5-4905-6c9a-256d"
    }
   },
   "outputs": [],
   "source": [
    "!ansible -m ping openstack_ctl"
   ]
  },
  {
   "cell_type": "code",
   "execution_count": null,
   "metadata": {
    "hidden": true,
    "lc_cell_meme": {
     "current": "652dae42-6f22-11ee-89fa-0242ac120005-6-a173-67b3-3fbb-7879-94a3-b361",
     "history": [
      {
       "current": "652dae42-6f22-11ee-89fa-0242ac120005-1-a173",
       "next": "652dae92-6f22-11ee-89fa-0242ac120005",
       "previous": "652dade8-6f22-11ee-89fa-0242ac120005"
      },
      {
       "current": "652dae42-6f22-11ee-89fa-0242ac120005-2-a173-67b3",
       "next": "652dae92-6f22-11ee-89fa-0242ac120005-1-1424",
       "previous": "652dade8-6f22-11ee-89fa-0242ac120005-1-6d18"
      },
      {
       "current": "652dae42-6f22-11ee-89fa-0242ac120005-3-a173-67b3-3fbb",
       "next": "652dae92-6f22-11ee-89fa-0242ac120005-2-1424-1cfb",
       "previous": "652dade8-6f22-11ee-89fa-0242ac120005-2-6d18-5c90"
      },
      {
       "current": "652dae42-6f22-11ee-89fa-0242ac120005-4-a173-67b3-3fbb-7879",
       "next": "652dae92-6f22-11ee-89fa-0242ac120005-3-1424-1cfb-afd8",
       "previous": "652dade8-6f22-11ee-89fa-0242ac120005-3-6d18-5c90-0ae3"
      },
      {
       "current": "652dae42-6f22-11ee-89fa-0242ac120005-5-a173-67b3-3fbb-7879-94a3",
       "next": "652dae92-6f22-11ee-89fa-0242ac120005-4-1424-1cfb-afd8-3ed8",
       "previous": "652dade8-6f22-11ee-89fa-0242ac120005-4-6d18-5c90-0ae3-71b0"
      },
      {
       "current": "652dae42-6f22-11ee-89fa-0242ac120005-6-a173-67b3-3fbb-7879-94a3-b361",
       "next": "652dae92-6f22-11ee-89fa-0242ac120005-5-1424-1cfb-afd8-3ed8-a5f4",
       "previous": "652dade8-6f22-11ee-89fa-0242ac120005-5-6d18-5c90-0ae3-71b0-290b"
      }
     ],
     "next": "652dae92-6f22-11ee-89fa-0242ac120005-6-1424-1cfb-afd8-3ed8-a5f4-0dc4",
     "previous": "652dade8-6f22-11ee-89fa-0242ac120005-6-6d18-5c90-0ae3-71b0-290b-2e54"
    }
   },
   "outputs": [],
   "source": [
    "!ansible -a 'hostname' openstack_ctl"
   ]
  },
  {
   "cell_type": "markdown",
   "metadata": {
    "lc_cell_meme": {
     "current": "652dae92-6f22-11ee-89fa-0242ac120005-6-1424-1cfb-afd8-3ed8-a5f4-0dc4",
     "history": [
      {
       "current": "652dae92-6f22-11ee-89fa-0242ac120005-1-1424",
       "next": "652daeec-6f22-11ee-89fa-0242ac120005",
       "previous": "652dae42-6f22-11ee-89fa-0242ac120005"
      },
      {
       "current": "652dae92-6f22-11ee-89fa-0242ac120005-2-1424-1cfb",
       "next": "652daeec-6f22-11ee-89fa-0242ac120005-1-71b5",
       "previous": "652dae42-6f22-11ee-89fa-0242ac120005-1-a173"
      },
      {
       "current": "652dae92-6f22-11ee-89fa-0242ac120005-3-1424-1cfb-afd8",
       "next": "652daeec-6f22-11ee-89fa-0242ac120005-2-71b5-36ee",
       "previous": "652dae42-6f22-11ee-89fa-0242ac120005-2-a173-67b3"
      },
      {
       "current": "652dae92-6f22-11ee-89fa-0242ac120005-4-1424-1cfb-afd8-3ed8",
       "next": "652daeec-6f22-11ee-89fa-0242ac120005-3-71b5-36ee-7f8f",
       "previous": "652dae42-6f22-11ee-89fa-0242ac120005-3-a173-67b3-3fbb"
      },
      {
       "current": "652dae92-6f22-11ee-89fa-0242ac120005-5-1424-1cfb-afd8-3ed8-a5f4",
       "next": "652daeec-6f22-11ee-89fa-0242ac120005-4-71b5-36ee-7f8f-f755",
       "previous": "652dae42-6f22-11ee-89fa-0242ac120005-4-a173-67b3-3fbb-7879"
      },
      {
       "current": "652dae92-6f22-11ee-89fa-0242ac120005-6-1424-1cfb-afd8-3ed8-a5f4-0dc4",
       "next": "652daeec-6f22-11ee-89fa-0242ac120005-5-71b5-36ee-7f8f-f755-7f6b",
       "previous": "652dae42-6f22-11ee-89fa-0242ac120005-5-a173-67b3-3fbb-7879-94a3"
      }
     ],
     "next": "652daeec-6f22-11ee-89fa-0242ac120005-6-71b5-36ee-7f8f-f755-7f6b-361a",
     "previous": "652dae42-6f22-11ee-89fa-0242ac120005-6-a173-67b3-3fbb-7879-94a3-b361"
    }
   },
   "source": [
    "## OpenStack用OpenRCファイル設定\n",
    "\n",
    "`xxxxxxx`プロジェクト用のOpenRCファイルを事前にダウンロードしておくこと。  "
   ]
  },
  {
   "cell_type": "code",
   "execution_count": null,
   "metadata": {
    "lc_cell_meme": {
     "current": "652daeec-6f22-11ee-89fa-0242ac120005-6-71b5-36ee-7f8f-f755-7f6b-361a",
     "history": [
      {
       "current": "652daeec-6f22-11ee-89fa-0242ac120005-1-71b5",
       "next": "652daf46-6f22-11ee-89fa-0242ac120005",
       "previous": "652dae92-6f22-11ee-89fa-0242ac120005"
      },
      {
       "current": "652daeec-6f22-11ee-89fa-0242ac120005-2-71b5-36ee",
       "next": "652daf46-6f22-11ee-89fa-0242ac120005-1-cc7e",
       "previous": "652dae92-6f22-11ee-89fa-0242ac120005-1-1424"
      },
      {
       "current": "652daeec-6f22-11ee-89fa-0242ac120005-3-71b5-36ee-7f8f",
       "next": "652daf46-6f22-11ee-89fa-0242ac120005-2-cc7e-c882",
       "previous": "652dae92-6f22-11ee-89fa-0242ac120005-2-1424-1cfb"
      },
      {
       "current": "652daeec-6f22-11ee-89fa-0242ac120005-4-71b5-36ee-7f8f-f755",
       "next": "652daf46-6f22-11ee-89fa-0242ac120005-3-cc7e-c882-e203",
       "previous": "652dae92-6f22-11ee-89fa-0242ac120005-3-1424-1cfb-afd8"
      },
      {
       "current": "652daeec-6f22-11ee-89fa-0242ac120005-5-71b5-36ee-7f8f-f755-7f6b",
       "next": "652daf46-6f22-11ee-89fa-0242ac120005-4-cc7e-c882-e203-d80f",
       "previous": "652dae92-6f22-11ee-89fa-0242ac120005-4-1424-1cfb-afd8-3ed8"
      },
      {
       "current": "652daeec-6f22-11ee-89fa-0242ac120005-6-71b5-36ee-7f8f-f755-7f6b-361a",
       "next": "652daf46-6f22-11ee-89fa-0242ac120005-5-cc7e-c882-e203-d80f-17e3",
       "previous": "652dae92-6f22-11ee-89fa-0242ac120005-5-1424-1cfb-afd8-3ed8-a5f4"
      }
     ],
     "next": "652daf46-6f22-11ee-89fa-0242ac120005-6-cc7e-c882-e203-d80f-17e3-955f",
     "previous": "652dae92-6f22-11ee-89fa-0242ac120005-6-1424-1cfb-afd8-3ed8-a5f4-0dc4"
    }
   },
   "outputs": [],
   "source": [
    "import os\n",
    "\n",
    "user_creds = os.path.expanduser('~/.keys/xxxxxxx-openrc.sh')\n",
    "\n",
    "assert os.path.exists(user_creds), '{} is not exist'.format(user_creds)"
   ]
  },
  {
   "cell_type": "code",
   "execution_count": null,
   "metadata": {
    "lc_cell_meme": {
     "current": "652daf46-6f22-11ee-89fa-0242ac120005-6-cc7e-c882-e203-d80f-17e3-955f",
     "history": [
      {
       "current": "652daf46-6f22-11ee-89fa-0242ac120005-1-cc7e",
       "next": "652daf96-6f22-11ee-89fa-0242ac120005",
       "previous": "652daeec-6f22-11ee-89fa-0242ac120005"
      },
      {
       "current": "652daf46-6f22-11ee-89fa-0242ac120005-2-cc7e-c882",
       "next": "652daf96-6f22-11ee-89fa-0242ac120005-1-e432",
       "previous": "652daeec-6f22-11ee-89fa-0242ac120005-1-71b5"
      },
      {
       "current": "652daf46-6f22-11ee-89fa-0242ac120005-3-cc7e-c882-e203",
       "next": "652daf96-6f22-11ee-89fa-0242ac120005-2-e432-4b83",
       "previous": "652daeec-6f22-11ee-89fa-0242ac120005-2-71b5-36ee"
      },
      {
       "current": "652daf46-6f22-11ee-89fa-0242ac120005-4-cc7e-c882-e203-d80f",
       "next": "652daf96-6f22-11ee-89fa-0242ac120005-3-e432-4b83-5c7c",
       "previous": "652daeec-6f22-11ee-89fa-0242ac120005-3-71b5-36ee-7f8f"
      },
      {
       "current": "652daf46-6f22-11ee-89fa-0242ac120005-5-cc7e-c882-e203-d80f-17e3",
       "next": "652daf96-6f22-11ee-89fa-0242ac120005-4-e432-4b83-5c7c-95bb",
       "previous": "652daeec-6f22-11ee-89fa-0242ac120005-4-71b5-36ee-7f8f-f755"
      },
      {
       "current": "652daf46-6f22-11ee-89fa-0242ac120005-6-cc7e-c882-e203-d80f-17e3-955f",
       "next": "652daf96-6f22-11ee-89fa-0242ac120005-5-e432-4b83-5c7c-95bb-5457",
       "previous": "652daeec-6f22-11ee-89fa-0242ac120005-5-71b5-36ee-7f8f-f755-7f6b"
      }
     ],
     "next": "652daf96-6f22-11ee-89fa-0242ac120005-6-e432-4b83-5c7c-95bb-5457-582b",
     "previous": "652daeec-6f22-11ee-89fa-0242ac120005-6-71b5-36ee-7f8f-f755-7f6b-361a"
    }
   },
   "outputs": [],
   "source": [
    "%env USER_CREDS={user_creds}"
   ]
  },
  {
   "cell_type": "code",
   "execution_count": null,
   "metadata": {
    "lc_cell_meme": {
     "current": "652daf96-6f22-11ee-89fa-0242ac120005-6-e432-4b83-5c7c-95bb-5457-582b",
     "history": [
      {
       "current": "652daf96-6f22-11ee-89fa-0242ac120005",
       "next": "652dafe6-6f22-11ee-89fa-0242ac120005",
       "previous": "652daf46-6f22-11ee-89fa-0242ac120005"
      },
      {
       "current": "652daf96-6f22-11ee-89fa-0242ac120005-1-e432",
       "next": "652dafe6-6f22-11ee-89fa-0242ac120005-1-01d4",
       "previous": "652daf46-6f22-11ee-89fa-0242ac120005"
      },
      {
       "current": "652daf96-6f22-11ee-89fa-0242ac120005-2-e432-4b83",
       "next": "652dafe6-6f22-11ee-89fa-0242ac120005-2-01d4-5fa0",
       "previous": "652daf46-6f22-11ee-89fa-0242ac120005-1-cc7e"
      },
      {
       "current": "652daf96-6f22-11ee-89fa-0242ac120005-3-e432-4b83-5c7c",
       "next": "652dafe6-6f22-11ee-89fa-0242ac120005-3-01d4-5fa0-c6de",
       "previous": "652daf46-6f22-11ee-89fa-0242ac120005-2-cc7e-c882"
      },
      {
       "current": "652daf96-6f22-11ee-89fa-0242ac120005-4-e432-4b83-5c7c-95bb",
       "next": "652dafe6-6f22-11ee-89fa-0242ac120005-4-01d4-5fa0-c6de-4435",
       "previous": "652daf46-6f22-11ee-89fa-0242ac120005-3-cc7e-c882-e203"
      },
      {
       "current": "652daf96-6f22-11ee-89fa-0242ac120005-5-e432-4b83-5c7c-95bb-5457",
       "next": "652dafe6-6f22-11ee-89fa-0242ac120005-5-01d4-5fa0-c6de-4435-9c45",
       "previous": "652daf46-6f22-11ee-89fa-0242ac120005-4-cc7e-c882-e203-d80f"
      },
      {
       "current": "652daf96-6f22-11ee-89fa-0242ac120005-6-e432-4b83-5c7c-95bb-5457-582b",
       "next": "652dafe6-6f22-11ee-89fa-0242ac120005-6-01d4-5fa0-c6de-4435-9c45-9fa0",
       "previous": "652daf46-6f22-11ee-89fa-0242ac120005-5-cc7e-c882-e203-d80f-17e3"
      }
     ],
     "next": "652dafe6-6f22-11ee-89fa-0242ac120005-7-01d4-5fa0-c6de-4435-9c45-9fa0-5a02",
     "previous": "652daf46-6f22-11ee-89fa-0242ac120005-6-cc7e-c882-e203-d80f-17e3-955f"
    }
   },
   "outputs": [],
   "source": [
    "!ls -l {user_creds}"
   ]
  },
  {
   "cell_type": "markdown",
   "metadata": {
    "heading_collapsed": true,
    "lc_cell_meme": {
     "current": "652dafe6-6f22-11ee-89fa-0242ac120005-7-01d4-5fa0-c6de-4435-9c45-9fa0-5a02",
     "history": [
      {
       "current": "652dafe6-6f22-11ee-89fa-0242ac120005-2-01d4-5fa0",
       "next": "652db040-6f22-11ee-89fa-0242ac120005",
       "previous": "652daf96-6f22-11ee-89fa-0242ac120005"
      },
      {
       "current": "652dafe6-6f22-11ee-89fa-0242ac120005-3-01d4-5fa0-c6de",
       "next": "652db040-6f22-11ee-89fa-0242ac120005-1-7708",
       "previous": "652daf96-6f22-11ee-89fa-0242ac120005-1-e432"
      },
      {
       "current": "652dafe6-6f22-11ee-89fa-0242ac120005-4-01d4-5fa0-c6de-4435",
       "next": "652db040-6f22-11ee-89fa-0242ac120005-2-7708-1c65",
       "previous": "652daf96-6f22-11ee-89fa-0242ac120005-2-e432-4b83"
      },
      {
       "current": "652dafe6-6f22-11ee-89fa-0242ac120005-5-01d4-5fa0-c6de-4435-9c45",
       "next": "652db040-6f22-11ee-89fa-0242ac120005-3-7708-1c65-d234",
       "previous": "652daf96-6f22-11ee-89fa-0242ac120005-3-e432-4b83-5c7c"
      },
      {
       "current": "652dafe6-6f22-11ee-89fa-0242ac120005-6-01d4-5fa0-c6de-4435-9c45-9fa0",
       "next": "652db040-6f22-11ee-89fa-0242ac120005-4-7708-1c65-d234-6231",
       "previous": "652daf96-6f22-11ee-89fa-0242ac120005-4-e432-4b83-5c7c-95bb"
      },
      {
       "current": "652dafe6-6f22-11ee-89fa-0242ac120005-7-01d4-5fa0-c6de-4435-9c45-9fa0-5a02",
       "next": "652db040-6f22-11ee-89fa-0242ac120005-5-7708-1c65-d234-6231-e2de",
       "previous": "652daf96-6f22-11ee-89fa-0242ac120005-5-e432-4b83-5c7c-95bb-5457"
      }
     ],
     "next": "652db040-6f22-11ee-89fa-0242ac120005-6-7708-1c65-d234-6231-e2de-0b93",
     "previous": "652daf96-6f22-11ee-89fa-0242ac120005-6-e432-4b83-5c7c-95bb-5457-582b"
    }
   },
   "source": [
    "## openstackコマンド用ユーティリティ関数"
   ]
  },
  {
   "cell_type": "code",
   "execution_count": null,
   "metadata": {
    "hidden": true,
    "lc_cell_meme": {
     "current": "652db040-6f22-11ee-89fa-0242ac120005-6-7708-1c65-d234-6231-e2de-0b93",
     "history": [
      {
       "current": "652db040-6f22-11ee-89fa-0242ac120005",
       "next": "652db090-6f22-11ee-89fa-0242ac120005",
       "previous": "652dafe6-6f22-11ee-89fa-0242ac120005"
      },
      {
       "current": "652db040-6f22-11ee-89fa-0242ac120005-1-7708",
       "next": "acb9ce94-6f22-11ee-89fa-0242ac120005",
       "previous": "652dafe6-6f22-11ee-89fa-0242ac120005-1-01d4"
      },
      {
       "current": "652db040-6f22-11ee-89fa-0242ac120005-2-7708-1c65",
       "next": "acb9ce94-6f22-11ee-89fa-0242ac120005-1-b8ff",
       "previous": "652dafe6-6f22-11ee-89fa-0242ac120005-2-01d4-5fa0"
      },
      {
       "current": "652db040-6f22-11ee-89fa-0242ac120005-3-7708-1c65-d234",
       "next": "acb9ce94-6f22-11ee-89fa-0242ac120005-2-b8ff-a8bf",
       "previous": "652dafe6-6f22-11ee-89fa-0242ac120005-3-01d4-5fa0-c6de"
      },
      {
       "current": "652db040-6f22-11ee-89fa-0242ac120005-4-7708-1c65-d234-6231",
       "next": "acb9ce94-6f22-11ee-89fa-0242ac120005-3-b8ff-a8bf-d209",
       "previous": "652dafe6-6f22-11ee-89fa-0242ac120005-4-01d4-5fa0-c6de-4435"
      },
      {
       "current": "652db040-6f22-11ee-89fa-0242ac120005-5-7708-1c65-d234-6231-e2de",
       "next": "acb9ce94-6f22-11ee-89fa-0242ac120005-4-b8ff-a8bf-d209-1b1f",
       "previous": "652dafe6-6f22-11ee-89fa-0242ac120005-5-01d4-5fa0-c6de-4435-9c45"
      },
      {
       "current": "652db040-6f22-11ee-89fa-0242ac120005-6-7708-1c65-d234-6231-e2de-0b93",
       "next": "acb9ce94-6f22-11ee-89fa-0242ac120005-5-b8ff-a8bf-d209-1b1f-437b",
       "previous": "652dafe6-6f22-11ee-89fa-0242ac120005-6-01d4-5fa0-c6de-4435-9c45-9fa0"
      }
     ],
     "next": "acb9ce94-6f22-11ee-89fa-0242ac120005-6-b8ff-a8bf-d209-1b1f-437b-b6a2",
     "previous": "652dafe6-6f22-11ee-89fa-0242ac120005-7-01d4-5fa0-c6de-4435-9c45-9fa0-5a02"
    }
   },
   "outputs": [],
   "source": [
    "def build_cmdline(param):\n",
    "    cmdline = ''\n",
    "    \n",
    "    for param_name, param_value in param.items():\n",
    "        if isinstance(param_value, dict):\n",
    "            for key, value in param_value.items():\n",
    "                cmdline += ' --{} {}={}'.format(param_name, key, value)\n",
    "        elif isinstance(param_value, list):\n",
    "            for item in param_value:\n",
    "                cmdline += ' --{} {}'.format(param_name, item)\n",
    "        elif isinstance(param_value, bool):\n",
    "            if param_value:\n",
    "                cmdline += ' --{}'.format(param_name)\n",
    "        else:\n",
    "            cmdline += ' --{} {}'.format(param_name, param_value)\n",
    "\n",
    "    return cmdline"
   ]
  },
  {
   "cell_type": "code",
   "execution_count": null,
   "metadata": {
    "hidden": true,
    "lc_cell_meme": {
     "current": "acb9ce94-6f22-11ee-89fa-0242ac120005-6-b8ff-a8bf-d209-1b1f-437b-b6a2",
     "history": [
      {
       "current": "acb9ce94-6f22-11ee-89fa-0242ac120005-1-b8ff",
       "next": "acb9cf52-6f22-11ee-89fa-0242ac120005",
       "previous": "652db040-6f22-11ee-89fa-0242ac120005"
      },
      {
       "current": "acb9ce94-6f22-11ee-89fa-0242ac120005-2-b8ff-a8bf",
       "next": "acb9cf52-6f22-11ee-89fa-0242ac120005-1-9049",
       "previous": "652db040-6f22-11ee-89fa-0242ac120005-1-7708"
      },
      {
       "current": "acb9ce94-6f22-11ee-89fa-0242ac120005-3-b8ff-a8bf-d209",
       "next": "acb9cf52-6f22-11ee-89fa-0242ac120005-2-9049-517b",
       "previous": "652db040-6f22-11ee-89fa-0242ac120005-2-7708-1c65"
      },
      {
       "current": "acb9ce94-6f22-11ee-89fa-0242ac120005-4-b8ff-a8bf-d209-1b1f",
       "next": "acb9cf52-6f22-11ee-89fa-0242ac120005-3-9049-517b-1cb5",
       "previous": "652db040-6f22-11ee-89fa-0242ac120005-3-7708-1c65-d234"
      },
      {
       "current": "acb9ce94-6f22-11ee-89fa-0242ac120005-5-b8ff-a8bf-d209-1b1f-437b",
       "next": "acb9cf52-6f22-11ee-89fa-0242ac120005-4-9049-517b-1cb5-aba3",
       "previous": "652db040-6f22-11ee-89fa-0242ac120005-4-7708-1c65-d234-6231"
      },
      {
       "current": "acb9ce94-6f22-11ee-89fa-0242ac120005-6-b8ff-a8bf-d209-1b1f-437b-b6a2",
       "next": "acb9cf52-6f22-11ee-89fa-0242ac120005-5-9049-517b-1cb5-aba3-c272",
       "previous": "652db040-6f22-11ee-89fa-0242ac120005-5-7708-1c65-d234-6231-e2de"
      }
     ],
     "next": "acb9cf52-6f22-11ee-89fa-0242ac120005-6-9049-517b-1cb5-aba3-c272-22b9",
     "previous": "652db040-6f22-11ee-89fa-0242ac120005-6-7708-1c65-d234-6231-e2de-0b93"
    }
   },
   "outputs": [],
   "source": [
    "import json\n",
    "\n",
    "def run_openstack(cmd):\n",
    "    print('EXEC: {}'.format(cmd))\n",
    "    out = !source {user_creds} && {cmd}\n",
    "    print('OUTPUT: {}'.format('\\n'.join(out)))\n",
    "    return json.loads('\\n'.join(out))"
   ]
  },
  {
   "cell_type": "markdown",
   "metadata": {
    "hidden": true,
    "lc_cell_meme": {
     "current": "acb9cf52-6f22-11ee-89fa-0242ac120005-6-9049-517b-1cb5-aba3-c272-22b9",
     "history": [
      {
       "current": "acb9cf52-6f22-11ee-89fa-0242ac120005-1-9049",
       "next": "acb9d010-6f22-11ee-89fa-0242ac120005",
       "previous": "acb9ce94-6f22-11ee-89fa-0242ac120005"
      },
      {
       "current": "acb9cf52-6f22-11ee-89fa-0242ac120005-2-9049-517b",
       "next": "acb9d010-6f22-11ee-89fa-0242ac120005-1-3ca6",
       "previous": "acb9ce94-6f22-11ee-89fa-0242ac120005-1-b8ff"
      },
      {
       "current": "acb9cf52-6f22-11ee-89fa-0242ac120005-3-9049-517b-1cb5",
       "next": "acb9d010-6f22-11ee-89fa-0242ac120005-2-3ca6-909f",
       "previous": "acb9ce94-6f22-11ee-89fa-0242ac120005-2-b8ff-a8bf"
      },
      {
       "current": "acb9cf52-6f22-11ee-89fa-0242ac120005-4-9049-517b-1cb5-aba3",
       "next": "acb9d010-6f22-11ee-89fa-0242ac120005-3-3ca6-909f-2456",
       "previous": "acb9ce94-6f22-11ee-89fa-0242ac120005-3-b8ff-a8bf-d209"
      },
      {
       "current": "acb9cf52-6f22-11ee-89fa-0242ac120005-5-9049-517b-1cb5-aba3-c272",
       "next": "acb9d010-6f22-11ee-89fa-0242ac120005-4-3ca6-909f-2456-e874",
       "previous": "acb9ce94-6f22-11ee-89fa-0242ac120005-4-b8ff-a8bf-d209-1b1f"
      },
      {
       "current": "acb9cf52-6f22-11ee-89fa-0242ac120005-6-9049-517b-1cb5-aba3-c272-22b9",
       "next": "acb9d010-6f22-11ee-89fa-0242ac120005-5-3ca6-909f-2456-e874-d9a1",
       "previous": "acb9ce94-6f22-11ee-89fa-0242ac120005-5-b8ff-a8bf-d209-1b1f-437b"
      }
     ],
     "next": "acb9d010-6f22-11ee-89fa-0242ac120005-6-3ca6-909f-2456-e874-d9a1-03f4",
     "previous": "acb9ce94-6f22-11ee-89fa-0242ac120005-6-b8ff-a8bf-d209-1b1f-437b-b6a2"
    }
   },
   "source": [
    "テスト"
   ]
  },
  {
   "cell_type": "code",
   "execution_count": null,
   "metadata": {
    "hidden": true,
    "lc_cell_meme": {
     "current": "acb9d010-6f22-11ee-89fa-0242ac120005-6-3ca6-909f-2456-e874-d9a1-03f4",
     "history": [
      {
       "current": "acb9d010-6f22-11ee-89fa-0242ac120005-1-3ca6",
       "next": "7f8984de-56f9-11ec-a1da-0242ac120004-1-fe2a",
       "previous": "acb9cf52-6f22-11ee-89fa-0242ac120005"
      },
      {
       "current": "acb9d010-6f22-11ee-89fa-0242ac120005-2-3ca6-909f",
       "next": "7f8984de-56f9-11ec-a1da-0242ac120004-2-fe2a-5358",
       "previous": "acb9cf52-6f22-11ee-89fa-0242ac120005-1-9049"
      },
      {
       "current": "acb9d010-6f22-11ee-89fa-0242ac120005-3-3ca6-909f-2456",
       "next": "7f8984de-56f9-11ec-a1da-0242ac120004-3-fe2a-5358-78f5",
       "previous": "acb9cf52-6f22-11ee-89fa-0242ac120005-2-9049-517b"
      },
      {
       "current": "acb9d010-6f22-11ee-89fa-0242ac120005-4-3ca6-909f-2456-e874",
       "next": "7f8984de-56f9-11ec-a1da-0242ac120004-4-fe2a-5358-78f5-a915",
       "previous": "acb9cf52-6f22-11ee-89fa-0242ac120005-3-9049-517b-1cb5"
      },
      {
       "current": "acb9d010-6f22-11ee-89fa-0242ac120005-5-3ca6-909f-2456-e874-d9a1",
       "next": "7f8984de-56f9-11ec-a1da-0242ac120004-5-fe2a-5358-78f5-a915-3e40",
       "previous": "acb9cf52-6f22-11ee-89fa-0242ac120005-4-9049-517b-1cb5-aba3"
      },
      {
       "current": "acb9d010-6f22-11ee-89fa-0242ac120005-6-3ca6-909f-2456-e874-d9a1-03f4",
       "next": "7f8984de-56f9-11ec-a1da-0242ac120004-6-fe2a-5358-78f5-a915-3e40-97e9",
       "previous": "acb9cf52-6f22-11ee-89fa-0242ac120005-5-9049-517b-1cb5-aba3-c272"
      }
     ],
     "next": "7f8984de-56f9-11ec-a1da-0242ac120004-7-fe2a-5358-78f5-a915-3e40-97e9-3033",
     "previous": "acb9cf52-6f22-11ee-89fa-0242ac120005-6-9049-517b-1cb5-aba3-c272-22b9"
    }
   },
   "outputs": [],
   "source": [
    "run_openstack('openstack flavor list -f json' + build_cmdline({'all': True}))"
   ]
  },
  {
   "cell_type": "markdown",
   "metadata": {
    "lc_cell_meme": {
     "current": "7f8984de-56f9-11ec-a1da-0242ac120004-7-fe2a-5358-78f5-a915-3e40-97e9-3033",
     "history": [
      {
       "current": "7f8984de-56f9-11ec-a1da-0242ac120004-1-fe2a",
       "next": "7f89861e-56f9-11ec-a1da-0242ac120004",
       "previous": "7f898358-56f9-11ec-a1da-0242ac120004"
      },
      {
       "current": "7f8984de-56f9-11ec-a1da-0242ac120004-1-fe2a",
       "next": "7f89861e-56f9-11ec-a1da-0242ac120004-1-f0eb",
       "previous": "7f898358-56f9-11ec-a1da-0242ac120004-1-9fd7"
      },
      {
       "current": "7f8984de-56f9-11ec-a1da-0242ac120004-1-fe2a",
       "next": "7f89861e-56f9-11ec-a1da-0242ac120004-1-f0eb",
       "previous": "652db090-6f22-11ee-89fa-0242ac120005"
      },
      {
       "current": "7f8984de-56f9-11ec-a1da-0242ac120004-2-fe2a-5358",
       "next": "7f89861e-56f9-11ec-a1da-0242ac120004-1-f0eb",
       "previous": "acb9d010-6f22-11ee-89fa-0242ac120005"
      },
      {
       "current": "7f8984de-56f9-11ec-a1da-0242ac120004-3-fe2a-5358-78f5",
       "next": "7f89861e-56f9-11ec-a1da-0242ac120004-2-f0eb-c504",
       "previous": "acb9d010-6f22-11ee-89fa-0242ac120005-1-3ca6"
      },
      {
       "current": "7f8984de-56f9-11ec-a1da-0242ac120004-4-fe2a-5358-78f5-a915",
       "next": "7f89861e-56f9-11ec-a1da-0242ac120004-3-f0eb-c504-0941",
       "previous": "acb9d010-6f22-11ee-89fa-0242ac120005-2-3ca6-909f"
      },
      {
       "current": "7f8984de-56f9-11ec-a1da-0242ac120004-5-fe2a-5358-78f5-a915-3e40",
       "next": "7f89861e-56f9-11ec-a1da-0242ac120004-4-f0eb-c504-0941-4ceb",
       "previous": "acb9d010-6f22-11ee-89fa-0242ac120005-3-3ca6-909f-2456"
      },
      {
       "current": "7f8984de-56f9-11ec-a1da-0242ac120004-6-fe2a-5358-78f5-a915-3e40-97e9",
       "next": "7f89861e-56f9-11ec-a1da-0242ac120004-5-f0eb-c504-0941-4ceb-27e9",
       "previous": "acb9d010-6f22-11ee-89fa-0242ac120005-4-3ca6-909f-2456-e874"
      },
      {
       "current": "7f8984de-56f9-11ec-a1da-0242ac120004-7-fe2a-5358-78f5-a915-3e40-97e9-3033",
       "next": "7f89861e-56f9-11ec-a1da-0242ac120004-6-f0eb-c504-0941-4ceb-27e9-eff2",
       "previous": "acb9d010-6f22-11ee-89fa-0242ac120005-5-3ca6-909f-2456-e874-d9a1"
      }
     ],
     "next": "7f89861e-56f9-11ec-a1da-0242ac120004-7-f0eb-c504-0941-4ceb-27e9-eff2-7c62",
     "previous": "acb9d010-6f22-11ee-89fa-0242ac120005-6-3ca6-909f-2456-e874-d9a1-03f4"
    }
   },
   "source": [
    "## デプロイされたCephノード情報の取得"
   ]
  },
  {
   "cell_type": "markdown",
   "metadata": {
    "lc_cell_meme": {
     "current": "7f89861e-56f9-11ec-a1da-0242ac120004-7-f0eb-c504-0941-4ceb-27e9-eff2-7c62",
     "history": [
      {
       "current": "7f89861e-56f9-11ec-a1da-0242ac120004-1-f0eb",
       "next": "7f898754-56f9-11ec-a1da-0242ac120004",
       "previous": "7f8984de-56f9-11ec-a1da-0242ac120004"
      },
      {
       "current": "7f89861e-56f9-11ec-a1da-0242ac120004-1-f0eb",
       "next": "7f898754-56f9-11ec-a1da-0242ac120004-1-c22e",
       "previous": "7f8984de-56f9-11ec-a1da-0242ac120004-1-fe2a"
      },
      {
       "current": "7f89861e-56f9-11ec-a1da-0242ac120004-2-f0eb-c504",
       "next": "acb9d042-6f22-11ee-89fa-0242ac120005",
       "previous": "7f8984de-56f9-11ec-a1da-0242ac120004-1-fe2a"
      },
      {
       "current": "7f89861e-56f9-11ec-a1da-0242ac120004-3-f0eb-c504-0941",
       "next": "acb9d042-6f22-11ee-89fa-0242ac120005-1-788d",
       "previous": "7f8984de-56f9-11ec-a1da-0242ac120004-2-fe2a-5358"
      },
      {
       "current": "7f89861e-56f9-11ec-a1da-0242ac120004-4-f0eb-c504-0941-4ceb",
       "next": "acb9d042-6f22-11ee-89fa-0242ac120005-2-788d-060a",
       "previous": "7f8984de-56f9-11ec-a1da-0242ac120004-3-fe2a-5358-78f5"
      },
      {
       "current": "7f89861e-56f9-11ec-a1da-0242ac120004-5-f0eb-c504-0941-4ceb-27e9",
       "next": "acb9d042-6f22-11ee-89fa-0242ac120005-3-788d-060a-3304",
       "previous": "7f8984de-56f9-11ec-a1da-0242ac120004-4-fe2a-5358-78f5-a915"
      },
      {
       "current": "7f89861e-56f9-11ec-a1da-0242ac120004-6-f0eb-c504-0941-4ceb-27e9-eff2",
       "next": "acb9d042-6f22-11ee-89fa-0242ac120005-4-788d-060a-3304-e1e9",
       "previous": "7f8984de-56f9-11ec-a1da-0242ac120004-5-fe2a-5358-78f5-a915-3e40"
      },
      {
       "current": "7f89861e-56f9-11ec-a1da-0242ac120004-7-f0eb-c504-0941-4ceb-27e9-eff2-7c62",
       "next": "acb9d042-6f22-11ee-89fa-0242ac120005-5-788d-060a-3304-e1e9-9c3f",
       "previous": "7f8984de-56f9-11ec-a1da-0242ac120004-6-fe2a-5358-78f5-a915-3e40-97e9"
      }
     ],
     "next": "acb9d042-6f22-11ee-89fa-0242ac120005-6-788d-060a-3304-e1e9-9c3f-7b88",
     "previous": "7f8984de-56f9-11ec-a1da-0242ac120004-7-fe2a-5358-78f5-a915-3e40-97e9-3033"
    }
   },
   "source": [
    "ストレージノードを特定するにあたり、ノード名称が　ceph-nodexxx （xxxの部分は、右寄せ0埋めの数字3桁）というルールに従っていることを前提としている。<br>\n",
    " 例：ceph-node001<br>\n",
    " このノード名称ルールは、構築するCephクラスタ毎に変えるため、以下で定義する。"
   ]
  },
  {
   "cell_type": "code",
   "execution_count": null,
   "metadata": {
    "lc_cell_meme": {
     "current": "acb9d042-6f22-11ee-89fa-0242ac120005-6-788d-060a-3304-e1e9-9c3f-7b88",
     "history": [
      {
       "current": "acb9d042-6f22-11ee-89fa-0242ac120005-1-788d",
       "next": "7f898754-56f9-11ec-a1da-0242ac120004-1-c22e",
       "previous": "7f89861e-56f9-11ec-a1da-0242ac120004-1-f0eb"
      },
      {
       "current": "acb9d042-6f22-11ee-89fa-0242ac120005-2-788d-060a",
       "next": "7f898754-56f9-11ec-a1da-0242ac120004-2-c22e-cc63",
       "previous": "7f89861e-56f9-11ec-a1da-0242ac120004-2-f0eb-c504"
      },
      {
       "current": "acb9d042-6f22-11ee-89fa-0242ac120005-3-788d-060a-3304",
       "next": "7f898754-56f9-11ec-a1da-0242ac120004-3-c22e-cc63-19a1",
       "previous": "7f89861e-56f9-11ec-a1da-0242ac120004-3-f0eb-c504-0941"
      },
      {
       "current": "acb9d042-6f22-11ee-89fa-0242ac120005-4-788d-060a-3304-e1e9",
       "next": "7f898754-56f9-11ec-a1da-0242ac120004-4-c22e-cc63-19a1-a2c0",
       "previous": "7f89861e-56f9-11ec-a1da-0242ac120004-4-f0eb-c504-0941-4ceb"
      },
      {
       "current": "acb9d042-6f22-11ee-89fa-0242ac120005-5-788d-060a-3304-e1e9-9c3f",
       "next": "7f898754-56f9-11ec-a1da-0242ac120004-5-c22e-cc63-19a1-a2c0-ecbd",
       "previous": "7f89861e-56f9-11ec-a1da-0242ac120004-5-f0eb-c504-0941-4ceb-27e9"
      },
      {
       "current": "acb9d042-6f22-11ee-89fa-0242ac120005-6-788d-060a-3304-e1e9-9c3f-7b88",
       "next": "7f898754-56f9-11ec-a1da-0242ac120004-6-c22e-cc63-19a1-a2c0-ecbd-3997",
       "previous": "7f89861e-56f9-11ec-a1da-0242ac120004-6-f0eb-c504-0941-4ceb-27e9-eff2"
      }
     ],
     "next": "7f898754-56f9-11ec-a1da-0242ac120004-7-c22e-cc63-19a1-a2c0-ecbd-3997-9908",
     "previous": "7f89861e-56f9-11ec-a1da-0242ac120004-7-f0eb-c504-0941-4ceb-27e9-eff2-7c62"
    }
   },
   "outputs": [],
   "source": [
    "# 初期化対象のインスタンス名称を設定する\n",
    "raise Exception('この先手作業が必要です')"
   ]
  },
  {
   "cell_type": "code",
   "execution_count": null,
   "metadata": {
    "lc_cell_meme": {
     "current": "7f898754-56f9-11ec-a1da-0242ac120004-7-c22e-cc63-19a1-a2c0-ecbd-3997-9908",
     "history": [
      {
       "current": "7f898754-56f9-11ec-a1da-0242ac120004",
       "next": "37fd8138-56f9-11ec-a1da-0242ac120004",
       "previous": "7f89861e-56f9-11ec-a1da-0242ac120004"
      },
      {
       "current": "7f898754-56f9-11ec-a1da-0242ac120004-1-c22e",
       "next": "37fd8138-56f9-11ec-a1da-0242ac120004-1-cd3c",
       "previous": "7f89861e-56f9-11ec-a1da-0242ac120004"
      },
      {
       "current": "7f898754-56f9-11ec-a1da-0242ac120004-1-c22e",
       "next": "37fd8138-56f9-11ec-a1da-0242ac120004-2-cd3c-96de",
       "previous": "7f89861e-56f9-11ec-a1da-0242ac120004-1-f0eb"
      },
      {
       "current": "7f898754-56f9-11ec-a1da-0242ac120004-2-c22e-cc63",
       "next": "acb9d06a-6f22-11ee-89fa-0242ac120005",
       "previous": "acb9d042-6f22-11ee-89fa-0242ac120005"
      },
      {
       "current": "7f898754-56f9-11ec-a1da-0242ac120004-3-c22e-cc63-19a1",
       "next": "acb9d06a-6f22-11ee-89fa-0242ac120005-1-af7c",
       "previous": "acb9d042-6f22-11ee-89fa-0242ac120005-1-788d"
      },
      {
       "current": "7f898754-56f9-11ec-a1da-0242ac120004-4-c22e-cc63-19a1-a2c0",
       "next": "acb9d06a-6f22-11ee-89fa-0242ac120005-2-af7c-0655",
       "previous": "acb9d042-6f22-11ee-89fa-0242ac120005-2-788d-060a"
      },
      {
       "current": "7f898754-56f9-11ec-a1da-0242ac120004-5-c22e-cc63-19a1-a2c0-ecbd",
       "next": "acb9d06a-6f22-11ee-89fa-0242ac120005-3-af7c-0655-f978",
       "previous": "acb9d042-6f22-11ee-89fa-0242ac120005-3-788d-060a-3304"
      },
      {
       "current": "7f898754-56f9-11ec-a1da-0242ac120004-6-c22e-cc63-19a1-a2c0-ecbd-3997",
       "next": "acb9d06a-6f22-11ee-89fa-0242ac120005-4-af7c-0655-f978-1863",
       "previous": "acb9d042-6f22-11ee-89fa-0242ac120005-4-788d-060a-3304-e1e9"
      },
      {
       "current": "7f898754-56f9-11ec-a1da-0242ac120004-7-c22e-cc63-19a1-a2c0-ecbd-3997-9908",
       "next": "acb9d06a-6f22-11ee-89fa-0242ac120005-5-af7c-0655-f978-1863-4399",
       "previous": "acb9d042-6f22-11ee-89fa-0242ac120005-5-788d-060a-3304-e1e9-9c3f"
      }
     ],
     "next": "acb9d06a-6f22-11ee-89fa-0242ac120005-6-af7c-0655-f978-1863-4399-7bce",
     "previous": "acb9d042-6f22-11ee-89fa-0242ac120005-6-788d-060a-3304-e1e9-9c3f-7b88"
    }
   },
   "outputs": [],
   "source": [
    "import pandas as pd\n",
    "import re\n",
    "\n",
    "# 対象インスタンス名称マッチングルール\n",
    "name_match_rule = r'ceph-xxx-node-[0-9]+'"
   ]
  },
  {
   "cell_type": "markdown",
   "metadata": {
    "heading_collapsed": true,
    "lc_cell_meme": {
     "current": "acb9d06a-6f22-11ee-89fa-0242ac120005-6-af7c-0655-f978-1863-4399-7bce",
     "history": [
      {
       "current": "acb9d06a-6f22-11ee-89fa-0242ac120005-1-af7c",
       "next": "acb9d092-6f22-11ee-89fa-0242ac120005",
       "previous": "7f898754-56f9-11ec-a1da-0242ac120004-1-c22e"
      },
      {
       "current": "acb9d06a-6f22-11ee-89fa-0242ac120005-2-af7c-0655",
       "next": "acb9d092-6f22-11ee-89fa-0242ac120005-1-ac62",
       "previous": "7f898754-56f9-11ec-a1da-0242ac120004-2-c22e-cc63"
      },
      {
       "current": "acb9d06a-6f22-11ee-89fa-0242ac120005-3-af7c-0655-f978",
       "next": "acb9d092-6f22-11ee-89fa-0242ac120005-2-ac62-07f6",
       "previous": "7f898754-56f9-11ec-a1da-0242ac120004-3-c22e-cc63-19a1"
      },
      {
       "current": "acb9d06a-6f22-11ee-89fa-0242ac120005-4-af7c-0655-f978-1863",
       "next": "acb9d092-6f22-11ee-89fa-0242ac120005-3-ac62-07f6-71b4",
       "previous": "7f898754-56f9-11ec-a1da-0242ac120004-4-c22e-cc63-19a1-a2c0"
      },
      {
       "current": "acb9d06a-6f22-11ee-89fa-0242ac120005-5-af7c-0655-f978-1863-4399",
       "next": "acb9d092-6f22-11ee-89fa-0242ac120005-4-ac62-07f6-71b4-146b",
       "previous": "7f898754-56f9-11ec-a1da-0242ac120004-5-c22e-cc63-19a1-a2c0-ecbd"
      },
      {
       "current": "acb9d06a-6f22-11ee-89fa-0242ac120005-6-af7c-0655-f978-1863-4399-7bce",
       "next": "acb9d092-6f22-11ee-89fa-0242ac120005-5-ac62-07f6-71b4-146b-b852",
       "previous": "7f898754-56f9-11ec-a1da-0242ac120004-6-c22e-cc63-19a1-a2c0-ecbd-3997"
      }
     ],
     "next": "acb9d092-6f22-11ee-89fa-0242ac120005-6-ac62-07f6-71b4-146b-b852-dd4e",
     "previous": "7f898754-56f9-11ec-a1da-0242ac120004-7-c22e-cc63-19a1-a2c0-ecbd-3997-9908"
    }
   },
   "source": [
    "## OpenStack Ironicからノード情報の取得"
   ]
  },
  {
   "cell_type": "code",
   "execution_count": null,
   "metadata": {
    "hidden": true,
    "lc_cell_meme": {
     "current": "acb9d092-6f22-11ee-89fa-0242ac120005-6-ac62-07f6-71b4-146b-b852-dd4e",
     "history": [
      {
       "current": "acb9d092-6f22-11ee-89fa-0242ac120005-1-ac62",
       "next": "acb9d0ba-6f22-11ee-89fa-0242ac120005",
       "previous": "acb9d06a-6f22-11ee-89fa-0242ac120005"
      },
      {
       "current": "acb9d092-6f22-11ee-89fa-0242ac120005-2-ac62-07f6",
       "next": "acb9d0ba-6f22-11ee-89fa-0242ac120005-1-f79e",
       "previous": "acb9d06a-6f22-11ee-89fa-0242ac120005-1-af7c"
      },
      {
       "current": "acb9d092-6f22-11ee-89fa-0242ac120005-3-ac62-07f6-71b4",
       "next": "acb9d0ba-6f22-11ee-89fa-0242ac120005-2-f79e-063c",
       "previous": "acb9d06a-6f22-11ee-89fa-0242ac120005-2-af7c-0655"
      },
      {
       "current": "acb9d092-6f22-11ee-89fa-0242ac120005-4-ac62-07f6-71b4-146b",
       "next": "acb9d0ba-6f22-11ee-89fa-0242ac120005-3-f79e-063c-7aa6",
       "previous": "acb9d06a-6f22-11ee-89fa-0242ac120005-3-af7c-0655-f978"
      },
      {
       "current": "acb9d092-6f22-11ee-89fa-0242ac120005-5-ac62-07f6-71b4-146b-b852",
       "next": "acb9d0ba-6f22-11ee-89fa-0242ac120005-4-f79e-063c-7aa6-be08",
       "previous": "acb9d06a-6f22-11ee-89fa-0242ac120005-4-af7c-0655-f978-1863"
      },
      {
       "current": "acb9d092-6f22-11ee-89fa-0242ac120005-6-ac62-07f6-71b4-146b-b852-dd4e",
       "next": "acb9d0ba-6f22-11ee-89fa-0242ac120005-5-f79e-063c-7aa6-be08-543d",
       "previous": "acb9d06a-6f22-11ee-89fa-0242ac120005-5-af7c-0655-f978-1863-4399"
      }
     ],
     "next": "acb9d0ba-6f22-11ee-89fa-0242ac120005-6-f79e-063c-7aa6-be08-543d-de04",
     "previous": "acb9d06a-6f22-11ee-89fa-0242ac120005-6-af7c-0655-f978-1863-4399-7bce"
    },
    "scrolled": true
   },
   "outputs": [],
   "source": [
    "cmd = \"openstack baremetal node list -f json --long\"\n",
    "nodes = run_openstack(cmd)"
   ]
  },
  {
   "cell_type": "code",
   "execution_count": null,
   "metadata": {
    "hidden": true,
    "lc_cell_meme": {
     "current": "acb9d0ba-6f22-11ee-89fa-0242ac120005-6-f79e-063c-7aa6-be08-543d-de04",
     "history": [
      {
       "current": "acb9d0ba-6f22-11ee-89fa-0242ac120005-1-f79e",
       "next": "acb9d0e2-6f22-11ee-89fa-0242ac120005",
       "previous": "acb9d092-6f22-11ee-89fa-0242ac120005"
      },
      {
       "current": "acb9d0ba-6f22-11ee-89fa-0242ac120005-2-f79e-063c",
       "next": "acb9d0e2-6f22-11ee-89fa-0242ac120005-1-d808",
       "previous": "acb9d092-6f22-11ee-89fa-0242ac120005-1-ac62"
      },
      {
       "current": "acb9d0ba-6f22-11ee-89fa-0242ac120005-3-f79e-063c-7aa6",
       "next": "acb9d0e2-6f22-11ee-89fa-0242ac120005-2-d808-6d73",
       "previous": "acb9d092-6f22-11ee-89fa-0242ac120005-2-ac62-07f6"
      },
      {
       "current": "acb9d0ba-6f22-11ee-89fa-0242ac120005-4-f79e-063c-7aa6-be08",
       "next": "acb9d0e2-6f22-11ee-89fa-0242ac120005-3-d808-6d73-d70b",
       "previous": "acb9d092-6f22-11ee-89fa-0242ac120005-3-ac62-07f6-71b4"
      },
      {
       "current": "acb9d0ba-6f22-11ee-89fa-0242ac120005-5-f79e-063c-7aa6-be08-543d",
       "next": "acb9d0e2-6f22-11ee-89fa-0242ac120005-4-d808-6d73-d70b-68ac",
       "previous": "acb9d092-6f22-11ee-89fa-0242ac120005-4-ac62-07f6-71b4-146b"
      },
      {
       "current": "acb9d0ba-6f22-11ee-89fa-0242ac120005-6-f79e-063c-7aa6-be08-543d-de04",
       "next": "acb9d0e2-6f22-11ee-89fa-0242ac120005-5-d808-6d73-d70b-68ac-629c",
       "previous": "acb9d092-6f22-11ee-89fa-0242ac120005-5-ac62-07f6-71b4-146b-b852"
      }
     ],
     "next": "acb9d0e2-6f22-11ee-89fa-0242ac120005-6-d808-6d73-d70b-68ac-629c-e889",
     "previous": "acb9d092-6f22-11ee-89fa-0242ac120005-6-ac62-07f6-71b4-146b-b852-dd4e"
    }
   },
   "outputs": [],
   "source": [
    "import pandas as pd\n",
    "import re\n",
    "\n",
    "for node in nodes:\n",
    "    instance_uuid = node.get(\"Instance UUID\", None)\n",
    "    if instance_uuid is None:\n",
    "        continue\n",
    "        \n",
    "    node[\"instance_name\"] = node[\"Instance Info\"][\"display_name\"]\n",
    "\n",
    "pd.set_option('display.max_rows', None)\n",
    "pd.DataFrame(nodes, columns=['Instance UUID', 'instance_name', 'UUID', 'Maintenance', 'Provisioning State', 'Power State', 'Name'])\n"
   ]
  },
  {
   "cell_type": "code",
   "execution_count": null,
   "metadata": {
    "hidden": true,
    "lc_cell_meme": {
     "current": "acb9d0e2-6f22-11ee-89fa-0242ac120005-6-d808-6d73-d70b-68ac-629c-e889",
     "history": [
      {
       "current": "acb9d0e2-6f22-11ee-89fa-0242ac120005-1-d808",
       "next": "acb9d10a-6f22-11ee-89fa-0242ac120005",
       "previous": "acb9d0ba-6f22-11ee-89fa-0242ac120005"
      },
      {
       "current": "acb9d0e2-6f22-11ee-89fa-0242ac120005-2-d808-6d73",
       "next": "acb9d10a-6f22-11ee-89fa-0242ac120005-1-349d",
       "previous": "acb9d0ba-6f22-11ee-89fa-0242ac120005-1-f79e"
      },
      {
       "current": "acb9d0e2-6f22-11ee-89fa-0242ac120005-3-d808-6d73-d70b",
       "next": "acb9d10a-6f22-11ee-89fa-0242ac120005-2-349d-7a26",
       "previous": "acb9d0ba-6f22-11ee-89fa-0242ac120005-2-f79e-063c"
      },
      {
       "current": "acb9d0e2-6f22-11ee-89fa-0242ac120005-4-d808-6d73-d70b-68ac",
       "next": "acb9d10a-6f22-11ee-89fa-0242ac120005-3-349d-7a26-6150",
       "previous": "acb9d0ba-6f22-11ee-89fa-0242ac120005-3-f79e-063c-7aa6"
      },
      {
       "current": "acb9d0e2-6f22-11ee-89fa-0242ac120005-5-d808-6d73-d70b-68ac-629c",
       "next": "acb9d10a-6f22-11ee-89fa-0242ac120005-4-349d-7a26-6150-c3ac",
       "previous": "acb9d0ba-6f22-11ee-89fa-0242ac120005-4-f79e-063c-7aa6-be08"
      },
      {
       "current": "acb9d0e2-6f22-11ee-89fa-0242ac120005-6-d808-6d73-d70b-68ac-629c-e889",
       "next": "acb9d10a-6f22-11ee-89fa-0242ac120005-5-349d-7a26-6150-c3ac-373c",
       "previous": "acb9d0ba-6f22-11ee-89fa-0242ac120005-5-f79e-063c-7aa6-be08-543d"
      }
     ],
     "next": "acb9d10a-6f22-11ee-89fa-0242ac120005-6-349d-7a26-6150-c3ac-373c-16cc",
     "previous": "acb9d0ba-6f22-11ee-89fa-0242ac120005-6-f79e-063c-7aa6-be08-543d-de04"
    },
    "scrolled": true
   },
   "outputs": [],
   "source": [
    "cmd = \"openstack server list -f json --long\"\n",
    "nova_server_map = run_openstack(cmd)"
   ]
  },
  {
   "cell_type": "code",
   "execution_count": null,
   "metadata": {
    "hidden": true,
    "lc_cell_meme": {
     "current": "acb9d10a-6f22-11ee-89fa-0242ac120005-6-349d-7a26-6150-c3ac-373c-16cc",
     "history": [
      {
       "current": "acb9d10a-6f22-11ee-89fa-0242ac120005",
       "next": "acb9d132-6f22-11ee-89fa-0242ac120005",
       "previous": "acb9d0e2-6f22-11ee-89fa-0242ac120005"
      },
      {
       "current": "acb9d10a-6f22-11ee-89fa-0242ac120005-1-349d",
       "next": "7163ca0c-56fb-11ec-a1da-0242ac120004-1-2a50",
       "previous": "acb9d0e2-6f22-11ee-89fa-0242ac120005"
      },
      {
       "current": "acb9d10a-6f22-11ee-89fa-0242ac120005-2-349d-7a26",
       "next": "7163ca0c-56fb-11ec-a1da-0242ac120004-2-2a50-90a2",
       "previous": "acb9d0e2-6f22-11ee-89fa-0242ac120005-1-d808"
      },
      {
       "current": "acb9d10a-6f22-11ee-89fa-0242ac120005-3-349d-7a26-6150",
       "next": "7163ca0c-56fb-11ec-a1da-0242ac120004-3-2a50-90a2-f57a",
       "previous": "acb9d0e2-6f22-11ee-89fa-0242ac120005-2-d808-6d73"
      },
      {
       "current": "acb9d10a-6f22-11ee-89fa-0242ac120005-4-349d-7a26-6150-c3ac",
       "next": "7163ca0c-56fb-11ec-a1da-0242ac120004-4-2a50-90a2-f57a-52d6",
       "previous": "acb9d0e2-6f22-11ee-89fa-0242ac120005-3-d808-6d73-d70b"
      },
      {
       "current": "acb9d10a-6f22-11ee-89fa-0242ac120005-5-349d-7a26-6150-c3ac-373c",
       "next": "7163ca0c-56fb-11ec-a1da-0242ac120004-5-2a50-90a2-f57a-52d6-6004",
       "previous": "acb9d0e2-6f22-11ee-89fa-0242ac120005-4-d808-6d73-d70b-68ac"
      },
      {
       "current": "acb9d10a-6f22-11ee-89fa-0242ac120005-6-349d-7a26-6150-c3ac-373c-16cc",
       "next": "7163ca0c-56fb-11ec-a1da-0242ac120004-6-2a50-90a2-f57a-52d6-6004-b31c",
       "previous": "acb9d0e2-6f22-11ee-89fa-0242ac120005-5-d808-6d73-d70b-68ac-629c"
      }
     ],
     "next": "7163ca0c-56fb-11ec-a1da-0242ac120004-7-2a50-90a2-f57a-52d6-6004-b31c-8ade",
     "previous": "acb9d0e2-6f22-11ee-89fa-0242ac120005-6-d808-6d73-d70b-68ac-629c-e889"
    }
   },
   "outputs": [],
   "source": [
    "node_list = []\n",
    "for server in nova_server_map:\n",
    "    node_id = server['ID']\n",
    "    if re.match(name_match_rule, server['Name']) is None:\n",
    "        continue\n",
    "    for node in nodes:\n",
    "        if node['Instance UUID'] == node_id:\n",
    "            node_info = {}\n",
    "            node_list.append(node_info)\n",
    "            node_info['name'] = server['Name']\n",
    "            node_info['node_name'] = node['Name']\n",
    "            instance_ip_info = instance_ip_map.get(server['Name'], None)\n",
    "            if instance_ip_info is not None:\n",
    "                node_info['instance_ip'] = instance_ip_info.get('ipv4', None)\n",
    "            else:\n",
    "                node_info['instance_ip'] = None\n",
    "            address = server['Networks']\n",
    "            prov_net = address['provisioning-net']\n",
    "            for addr in prov_net:\n",
    "                node_info['prov_ip'] = addr\n",
    "\n",
    "pd.DataFrame(node_list)"
   ]
  },
  {
   "cell_type": "markdown",
   "metadata": {
    "lc_cell_meme": {
     "current": "7163ca0c-56fb-11ec-a1da-0242ac120004-7-2a50-90a2-f57a-52d6-6004-b31c-8ade",
     "history": [
      {
       "current": "7163ca0c-56fb-11ec-a1da-0242ac120004",
       "next": "7163cc14-56fb-11ec-a1da-0242ac120004",
       "previous": "7163c6b0-56fb-11ec-a1da-0242ac120004"
      },
      {
       "current": "7163ca0c-56fb-11ec-a1da-0242ac120004-1-2a50",
       "next": "7163cc14-56fb-11ec-a1da-0242ac120004",
       "previous": "d9e2e18e-56fc-11ec-a1da-0242ac120004"
      },
      {
       "current": "7163ca0c-56fb-11ec-a1da-0242ac120004-1-2a50",
       "next": "7163cc14-56fb-11ec-a1da-0242ac120004-1-2f97",
       "previous": "d9e2e18e-56fc-11ec-a1da-0242ac120004-1-488f"
      },
      {
       "current": "7163ca0c-56fb-11ec-a1da-0242ac120004-2-2a50-90a2",
       "next": "7163cc14-56fb-11ec-a1da-0242ac120004-1-2f97",
       "previous": "acb9d10a-6f22-11ee-89fa-0242ac120005"
      },
      {
       "current": "7163ca0c-56fb-11ec-a1da-0242ac120004-3-2a50-90a2-f57a",
       "next": "7163cc14-56fb-11ec-a1da-0242ac120004-2-2f97-a529",
       "previous": "acb9d10a-6f22-11ee-89fa-0242ac120005-1-349d"
      },
      {
       "current": "7163ca0c-56fb-11ec-a1da-0242ac120004-4-2a50-90a2-f57a-52d6",
       "next": "7163cc14-56fb-11ec-a1da-0242ac120004-3-2f97-a529-c6ca",
       "previous": "acb9d10a-6f22-11ee-89fa-0242ac120005-2-349d-7a26"
      },
      {
       "current": "7163ca0c-56fb-11ec-a1da-0242ac120004-5-2a50-90a2-f57a-52d6-6004",
       "next": "7163cc14-56fb-11ec-a1da-0242ac120004-4-2f97-a529-c6ca-fe61",
       "previous": "acb9d10a-6f22-11ee-89fa-0242ac120005-3-349d-7a26-6150"
      },
      {
       "current": "7163ca0c-56fb-11ec-a1da-0242ac120004-6-2a50-90a2-f57a-52d6-6004-b31c",
       "next": "7163cc14-56fb-11ec-a1da-0242ac120004-5-2f97-a529-c6ca-fe61-e8e5",
       "previous": "acb9d10a-6f22-11ee-89fa-0242ac120005-4-349d-7a26-6150-c3ac"
      },
      {
       "current": "7163ca0c-56fb-11ec-a1da-0242ac120004-7-2a50-90a2-f57a-52d6-6004-b31c-8ade",
       "next": "7163cc14-56fb-11ec-a1da-0242ac120004-6-2f97-a529-c6ca-fe61-e8e5-8c6c",
       "previous": "acb9d10a-6f22-11ee-89fa-0242ac120005-5-349d-7a26-6150-c3ac-373c"
      }
     ],
     "next": "7163cc14-56fb-11ec-a1da-0242ac120004-7-2f97-a529-c6ca-fe61-e8e5-8c6c-07ff",
     "previous": "acb9d10a-6f22-11ee-89fa-0242ac120005-6-349d-7a26-6150-c3ac-373c-16cc"
    }
   },
   "source": [
    "## 初期化対象Cephノード情報の取得"
   ]
  },
  {
   "cell_type": "markdown",
   "metadata": {
    "lc_cell_meme": {
     "current": "7163cc14-56fb-11ec-a1da-0242ac120004-7-2f97-a529-c6ca-fe61-e8e5-8c6c-07ff",
     "history": [
      {
       "current": "7163cc14-56fb-11ec-a1da-0242ac120004-1-2f97",
       "next": "7163cdd6-56fb-11ec-a1da-0242ac120004",
       "previous": "7163ca0c-56fb-11ec-a1da-0242ac120004"
      },
      {
       "current": "7163cc14-56fb-11ec-a1da-0242ac120004-1-2f97",
       "next": "7163cdd6-56fb-11ec-a1da-0242ac120004-1-03bf",
       "previous": "7163ca0c-56fb-11ec-a1da-0242ac120004-1-2a50"
      },
      {
       "current": "7163cc14-56fb-11ec-a1da-0242ac120004-2-2f97-a529",
       "next": "7163cf84-56fb-11ec-a1da-0242ac120004-1-09bf",
       "previous": "7163ca0c-56fb-11ec-a1da-0242ac120004-1-2a50"
      },
      {
       "current": "7163cc14-56fb-11ec-a1da-0242ac120004-3-2f97-a529-c6ca",
       "next": "7163cf84-56fb-11ec-a1da-0242ac120004-2-09bf-fb5c",
       "previous": "7163ca0c-56fb-11ec-a1da-0242ac120004-2-2a50-90a2"
      },
      {
       "current": "7163cc14-56fb-11ec-a1da-0242ac120004-4-2f97-a529-c6ca-fe61",
       "next": "7163cf84-56fb-11ec-a1da-0242ac120004-3-09bf-fb5c-e66b",
       "previous": "7163ca0c-56fb-11ec-a1da-0242ac120004-3-2a50-90a2-f57a"
      },
      {
       "current": "7163cc14-56fb-11ec-a1da-0242ac120004-5-2f97-a529-c6ca-fe61-e8e5",
       "next": "7163cf84-56fb-11ec-a1da-0242ac120004-4-09bf-fb5c-e66b-4b86",
       "previous": "7163ca0c-56fb-11ec-a1da-0242ac120004-4-2a50-90a2-f57a-52d6"
      },
      {
       "current": "7163cc14-56fb-11ec-a1da-0242ac120004-6-2f97-a529-c6ca-fe61-e8e5-8c6c",
       "next": "7163cf84-56fb-11ec-a1da-0242ac120004-5-09bf-fb5c-e66b-4b86-997e",
       "previous": "7163ca0c-56fb-11ec-a1da-0242ac120004-5-2a50-90a2-f57a-52d6-6004"
      },
      {
       "current": "7163cc14-56fb-11ec-a1da-0242ac120004-7-2f97-a529-c6ca-fe61-e8e5-8c6c-07ff",
       "next": "7163cf84-56fb-11ec-a1da-0242ac120004-6-09bf-fb5c-e66b-4b86-997e-b334",
       "previous": "7163ca0c-56fb-11ec-a1da-0242ac120004-6-2a50-90a2-f57a-52d6-6004-b31c"
      }
     ],
     "next": "7163cf84-56fb-11ec-a1da-0242ac120004-7-09bf-fb5c-e66b-4b86-997e-b334-8473",
     "previous": "7163ca0c-56fb-11ec-a1da-0242ac120004-7-2a50-90a2-f57a-52d6-6004-b31c-8ade"
    }
   },
   "source": [
    "初期化対象のインスタンス名称を設定する"
   ]
  },
  {
   "cell_type": "code",
   "execution_count": null,
   "metadata": {
    "lc_cell_meme": {
     "current": "7163cf84-56fb-11ec-a1da-0242ac120004-7-09bf-fb5c-e66b-4b86-997e-b334-8473",
     "history": [
      {
       "current": "7163cf84-56fb-11ec-a1da-0242ac120004-1-09bf",
       "next": "7163d132-56fb-11ec-a1da-0242ac120004",
       "previous": "7163cdd6-56fb-11ec-a1da-0242ac120004"
      },
      {
       "current": "7163cf84-56fb-11ec-a1da-0242ac120004-1-09bf",
       "next": "7163d132-56fb-11ec-a1da-0242ac120004-1-18a6",
       "previous": "7163cdd6-56fb-11ec-a1da-0242ac120004-1-03bf"
      },
      {
       "current": "7163cf84-56fb-11ec-a1da-0242ac120004-2-09bf-fb5c",
       "next": "7163d132-56fb-11ec-a1da-0242ac120004-1-18a6",
       "previous": "7163cc14-56fb-11ec-a1da-0242ac120004-1-2f97"
      },
      {
       "current": "7163cf84-56fb-11ec-a1da-0242ac120004-3-09bf-fb5c-e66b",
       "next": "7163d132-56fb-11ec-a1da-0242ac120004-2-18a6-96fa",
       "previous": "7163cc14-56fb-11ec-a1da-0242ac120004-2-2f97-a529"
      },
      {
       "current": "7163cf84-56fb-11ec-a1da-0242ac120004-4-09bf-fb5c-e66b-4b86",
       "next": "7163d132-56fb-11ec-a1da-0242ac120004-3-18a6-96fa-9250",
       "previous": "7163cc14-56fb-11ec-a1da-0242ac120004-3-2f97-a529-c6ca"
      },
      {
       "current": "7163cf84-56fb-11ec-a1da-0242ac120004-5-09bf-fb5c-e66b-4b86-997e",
       "next": "7163d132-56fb-11ec-a1da-0242ac120004-4-18a6-96fa-9250-e823",
       "previous": "7163cc14-56fb-11ec-a1da-0242ac120004-4-2f97-a529-c6ca-fe61"
      },
      {
       "current": "7163cf84-56fb-11ec-a1da-0242ac120004-6-09bf-fb5c-e66b-4b86-997e-b334",
       "next": "7163d132-56fb-11ec-a1da-0242ac120004-5-18a6-96fa-9250-e823-043e",
       "previous": "7163cc14-56fb-11ec-a1da-0242ac120004-5-2f97-a529-c6ca-fe61-e8e5"
      },
      {
       "current": "7163cf84-56fb-11ec-a1da-0242ac120004-7-09bf-fb5c-e66b-4b86-997e-b334-8473",
       "next": "7163d132-56fb-11ec-a1da-0242ac120004-6-18a6-96fa-9250-e823-043e-f27b",
       "previous": "7163cc14-56fb-11ec-a1da-0242ac120004-6-2f97-a529-c6ca-fe61-e8e5-8c6c"
      }
     ],
     "next": "7163d132-56fb-11ec-a1da-0242ac120004-7-18a6-96fa-9250-e823-043e-f27b-fda9",
     "previous": "7163cc14-56fb-11ec-a1da-0242ac120004-7-2f97-a529-c6ca-fe61-e8e5-8c6c-07ff"
    }
   },
   "outputs": [],
   "source": [
    "# 初期化対象のインスタンス名称を設定する\n",
    "raise Exception('この先手作業が必要です')"
   ]
  },
  {
   "cell_type": "code",
   "execution_count": null,
   "metadata": {
    "lc_cell_meme": {
     "current": "7163d132-56fb-11ec-a1da-0242ac120004-7-18a6-96fa-9250-e823-043e-f27b-fda9",
     "history": [
      {
       "current": "7163d132-56fb-11ec-a1da-0242ac120004-1-18a6",
       "next": "7163d2d6-56fb-11ec-a1da-0242ac120004",
       "previous": "7163cf84-56fb-11ec-a1da-0242ac120004"
      },
      {
       "current": "7163d132-56fb-11ec-a1da-0242ac120004-1-18a6",
       "next": "7163d2d6-56fb-11ec-a1da-0242ac120004-1-e7d2",
       "previous": "7163cf84-56fb-11ec-a1da-0242ac120004-1-09bf"
      },
      {
       "current": "7163d132-56fb-11ec-a1da-0242ac120004-2-18a6-96fa",
       "next": "162bf270-6cae-11ee-89fa-0242ac120005",
       "previous": "7163cf84-56fb-11ec-a1da-0242ac120004-1-09bf"
      },
      {
       "current": "7163d132-56fb-11ec-a1da-0242ac120004-3-18a6-96fa-9250",
       "next": "162bf270-6cae-11ee-89fa-0242ac120005-1-49be",
       "previous": "7163cf84-56fb-11ec-a1da-0242ac120004-2-09bf-fb5c"
      },
      {
       "current": "7163d132-56fb-11ec-a1da-0242ac120004-4-18a6-96fa-9250-e823",
       "next": "162bf270-6cae-11ee-89fa-0242ac120005-2-49be-b9cd",
       "previous": "7163cf84-56fb-11ec-a1da-0242ac120004-3-09bf-fb5c-e66b"
      },
      {
       "current": "7163d132-56fb-11ec-a1da-0242ac120004-5-18a6-96fa-9250-e823-043e",
       "next": "162bf270-6cae-11ee-89fa-0242ac120005-3-49be-b9cd-ae5a",
       "previous": "7163cf84-56fb-11ec-a1da-0242ac120004-4-09bf-fb5c-e66b-4b86"
      },
      {
       "current": "7163d132-56fb-11ec-a1da-0242ac120004-6-18a6-96fa-9250-e823-043e-f27b",
       "next": "162bf270-6cae-11ee-89fa-0242ac120005-4-49be-b9cd-ae5a-25e9",
       "previous": "7163cf84-56fb-11ec-a1da-0242ac120004-5-09bf-fb5c-e66b-4b86-997e"
      },
      {
       "current": "7163d132-56fb-11ec-a1da-0242ac120004-7-18a6-96fa-9250-e823-043e-f27b-fda9",
       "next": "162bf270-6cae-11ee-89fa-0242ac120005-5-49be-b9cd-ae5a-25e9-4aa9",
       "previous": "7163cf84-56fb-11ec-a1da-0242ac120004-6-09bf-fb5c-e66b-4b86-997e-b334"
      }
     ],
     "next": "162bf270-6cae-11ee-89fa-0242ac120005-6-49be-b9cd-ae5a-25e9-4aa9-4828",
     "previous": "7163cf84-56fb-11ec-a1da-0242ac120004-7-09bf-fb5c-e66b-4b86-997e-b334-8473"
    }
   },
   "outputs": [],
   "source": [
    "# bootstrap OSD生成先ノード\n",
    "instance_name = 'ceph-xxx-node-002'"
   ]
  },
  {
   "cell_type": "code",
   "execution_count": null,
   "metadata": {
    "lc_cell_meme": {
     "current": "162bf270-6cae-11ee-89fa-0242ac120005-6-49be-b9cd-ae5a-25e9-4aa9-4828",
     "history": [
      {
       "current": "162bf270-6cae-11ee-89fa-0242ac120005-1-49be",
       "next": "7163d2d6-56fb-11ec-a1da-0242ac120004-1-e7d2",
       "previous": "7163d132-56fb-11ec-a1da-0242ac120004-1-18a6"
      },
      {
       "current": "162bf270-6cae-11ee-89fa-0242ac120005-2-49be-b9cd",
       "next": "7163d2d6-56fb-11ec-a1da-0242ac120004-2-e7d2-f946",
       "previous": "7163d132-56fb-11ec-a1da-0242ac120004-2-18a6-96fa"
      },
      {
       "current": "162bf270-6cae-11ee-89fa-0242ac120005-3-49be-b9cd-ae5a",
       "next": "7163d2d6-56fb-11ec-a1da-0242ac120004-3-e7d2-f946-71cd",
       "previous": "7163d132-56fb-11ec-a1da-0242ac120004-3-18a6-96fa-9250"
      },
      {
       "current": "162bf270-6cae-11ee-89fa-0242ac120005-4-49be-b9cd-ae5a-25e9",
       "next": "7163d2d6-56fb-11ec-a1da-0242ac120004-4-e7d2-f946-71cd-00cb",
       "previous": "7163d132-56fb-11ec-a1da-0242ac120004-4-18a6-96fa-9250-e823"
      },
      {
       "current": "162bf270-6cae-11ee-89fa-0242ac120005-5-49be-b9cd-ae5a-25e9-4aa9",
       "next": "7163d2d6-56fb-11ec-a1da-0242ac120004-5-e7d2-f946-71cd-00cb-29eb",
       "previous": "7163d132-56fb-11ec-a1da-0242ac120004-5-18a6-96fa-9250-e823-043e"
      },
      {
       "current": "162bf270-6cae-11ee-89fa-0242ac120005-6-49be-b9cd-ae5a-25e9-4aa9-4828",
       "next": "7163d2d6-56fb-11ec-a1da-0242ac120004-6-e7d2-f946-71cd-00cb-29eb-184a",
       "previous": "7163d132-56fb-11ec-a1da-0242ac120004-6-18a6-96fa-9250-e823-043e-f27b"
      }
     ],
     "next": "7163d2d6-56fb-11ec-a1da-0242ac120004-7-e7d2-f946-71cd-00cb-29eb-184a-2e78",
     "previous": "7163d132-56fb-11ec-a1da-0242ac120004-7-18a6-96fa-9250-e823-043e-f27b-fda9"
    }
   },
   "outputs": [],
   "source": [
    "bootstrap_node_name = 'ceph-xxx-node-001'"
   ]
  },
  {
   "cell_type": "code",
   "execution_count": null,
   "metadata": {
    "lc_cell_meme": {
     "current": "7163d2d6-56fb-11ec-a1da-0242ac120004-7-e7d2-f946-71cd-00cb-29eb-184a-2e78",
     "history": [
      {
       "current": "7163d2d6-56fb-11ec-a1da-0242ac120004-1-e7d2",
       "next": "7163d470-56fb-11ec-a1da-0242ac120004",
       "previous": "7163d132-56fb-11ec-a1da-0242ac120004"
      },
      {
       "current": "7163d2d6-56fb-11ec-a1da-0242ac120004-1-e7d2",
       "next": "7163d470-56fb-11ec-a1da-0242ac120004-1-1660",
       "previous": "7163d132-56fb-11ec-a1da-0242ac120004-1-18a6"
      },
      {
       "current": "7163d2d6-56fb-11ec-a1da-0242ac120004-2-e7d2-f946",
       "next": "162bf3ec-6cae-11ee-89fa-0242ac120005",
       "previous": "162bf270-6cae-11ee-89fa-0242ac120005"
      },
      {
       "current": "7163d2d6-56fb-11ec-a1da-0242ac120004-3-e7d2-f946-71cd",
       "next": "162bf3ec-6cae-11ee-89fa-0242ac120005-1-880a",
       "previous": "162bf270-6cae-11ee-89fa-0242ac120005-1-49be"
      },
      {
       "current": "7163d2d6-56fb-11ec-a1da-0242ac120004-4-e7d2-f946-71cd-00cb",
       "next": "162bf3ec-6cae-11ee-89fa-0242ac120005-2-880a-7735",
       "previous": "162bf270-6cae-11ee-89fa-0242ac120005-2-49be-b9cd"
      },
      {
       "current": "7163d2d6-56fb-11ec-a1da-0242ac120004-5-e7d2-f946-71cd-00cb-29eb",
       "next": "162bf3ec-6cae-11ee-89fa-0242ac120005-3-880a-7735-751c",
       "previous": "162bf270-6cae-11ee-89fa-0242ac120005-3-49be-b9cd-ae5a"
      },
      {
       "current": "7163d2d6-56fb-11ec-a1da-0242ac120004-6-e7d2-f946-71cd-00cb-29eb-184a",
       "next": "162bf3ec-6cae-11ee-89fa-0242ac120005-4-880a-7735-751c-e719",
       "previous": "162bf270-6cae-11ee-89fa-0242ac120005-4-49be-b9cd-ae5a-25e9"
      },
      {
       "current": "7163d2d6-56fb-11ec-a1da-0242ac120004-7-e7d2-f946-71cd-00cb-29eb-184a-2e78",
       "next": "162bf3ec-6cae-11ee-89fa-0242ac120005-5-880a-7735-751c-e719-c4a0",
       "previous": "162bf270-6cae-11ee-89fa-0242ac120005-5-49be-b9cd-ae5a-25e9-4aa9"
      }
     ],
     "next": "162bf3ec-6cae-11ee-89fa-0242ac120005-6-880a-7735-751c-e719-c4a0-7c13",
     "previous": "162bf270-6cae-11ee-89fa-0242ac120005-6-49be-b9cd-ae5a-25e9-4aa9-4828"
    }
   },
   "outputs": [],
   "source": [
    "target = None\n",
    "for elem in node_list:\n",
    "    if elem['name'] == instance_name:\n",
    "        target = elem\n",
    "        break\n",
    "\n",
    "assert (target is not None), \"指定されたターゲットノードが存在しません。\"\n",
    "print (target)"
   ]
  },
  {
   "cell_type": "code",
   "execution_count": null,
   "metadata": {
    "lc_cell_meme": {
     "current": "162bf3ec-6cae-11ee-89fa-0242ac120005-6-880a-7735-751c-e719-c4a0-7c13",
     "history": [
      {
       "current": "162bf3ec-6cae-11ee-89fa-0242ac120005-1-880a",
       "next": "7163d470-56fb-11ec-a1da-0242ac120004-1-1660",
       "previous": "7163d2d6-56fb-11ec-a1da-0242ac120004-1-e7d2"
      },
      {
       "current": "162bf3ec-6cae-11ee-89fa-0242ac120005-2-880a-7735",
       "next": "7163d470-56fb-11ec-a1da-0242ac120004-2-1660-a292",
       "previous": "7163d2d6-56fb-11ec-a1da-0242ac120004-2-e7d2-f946"
      },
      {
       "current": "162bf3ec-6cae-11ee-89fa-0242ac120005-3-880a-7735-751c",
       "next": "7163d470-56fb-11ec-a1da-0242ac120004-3-1660-a292-4c97",
       "previous": "7163d2d6-56fb-11ec-a1da-0242ac120004-3-e7d2-f946-71cd"
      },
      {
       "current": "162bf3ec-6cae-11ee-89fa-0242ac120005-4-880a-7735-751c-e719",
       "next": "7163d470-56fb-11ec-a1da-0242ac120004-4-1660-a292-4c97-bd02",
       "previous": "7163d2d6-56fb-11ec-a1da-0242ac120004-4-e7d2-f946-71cd-00cb"
      },
      {
       "current": "162bf3ec-6cae-11ee-89fa-0242ac120005-5-880a-7735-751c-e719-c4a0",
       "next": "7163d470-56fb-11ec-a1da-0242ac120004-5-1660-a292-4c97-bd02-6b76",
       "previous": "7163d2d6-56fb-11ec-a1da-0242ac120004-5-e7d2-f946-71cd-00cb-29eb"
      },
      {
       "current": "162bf3ec-6cae-11ee-89fa-0242ac120005-6-880a-7735-751c-e719-c4a0-7c13",
       "next": "7163d470-56fb-11ec-a1da-0242ac120004-6-1660-a292-4c97-bd02-6b76-9e36",
       "previous": "7163d2d6-56fb-11ec-a1da-0242ac120004-6-e7d2-f946-71cd-00cb-29eb-184a"
      }
     ],
     "next": "7163d470-56fb-11ec-a1da-0242ac120004-7-1660-a292-4c97-bd02-6b76-9e36-46c4",
     "previous": "7163d2d6-56fb-11ec-a1da-0242ac120004-7-e7d2-f946-71cd-00cb-29eb-184a-2e78"
    }
   },
   "outputs": [],
   "source": [
    "bootstrap_node = None\n",
    "for elem in node_list:\n",
    "    if elem['name'] == bootstrap_node_name:\n",
    "        bootstrap_node = elem\n",
    "        break\n",
    "\n",
    "assert (bootstrap_node is not None), \"指定されたターゲットノードが存在しません。\"\n",
    "print (bootstrap_node)"
   ]
  },
  {
   "cell_type": "markdown",
   "metadata": {
    "lc_cell_meme": {
     "current": "7163d470-56fb-11ec-a1da-0242ac120004-7-1660-a292-4c97-bd02-6b76-9e36-46c4",
     "history": [
      {
       "current": "7163d470-56fb-11ec-a1da-0242ac120004-1-1660",
       "next": "7163d60a-56fb-11ec-a1da-0242ac120004",
       "previous": "7163d2d6-56fb-11ec-a1da-0242ac120004"
      },
      {
       "current": "7163d470-56fb-11ec-a1da-0242ac120004-1-1660",
       "next": "7163d60a-56fb-11ec-a1da-0242ac120004-1-989b",
       "previous": "7163d2d6-56fb-11ec-a1da-0242ac120004-1-e7d2"
      },
      {
       "current": "7163d470-56fb-11ec-a1da-0242ac120004-1-1660",
       "next": "7163d60a-56fb-11ec-a1da-0242ac120004-1-989b",
       "previous": "162bf3ec-6cae-11ee-89fa-0242ac120005"
      },
      {
       "current": "7163d470-56fb-11ec-a1da-0242ac120004-2-1660-a292",
       "next": "743175ea-56fb-11ec-a1da-0242ac120004-2-33ed-7a5f",
       "previous": "162bf3ec-6cae-11ee-89fa-0242ac120005"
      },
      {
       "current": "7163d470-56fb-11ec-a1da-0242ac120004-3-1660-a292-4c97",
       "next": "743175ea-56fb-11ec-a1da-0242ac120004-3-33ed-7a5f-9d35",
       "previous": "162bf3ec-6cae-11ee-89fa-0242ac120005-1-880a"
      },
      {
       "current": "7163d470-56fb-11ec-a1da-0242ac120004-4-1660-a292-4c97-bd02",
       "next": "743175ea-56fb-11ec-a1da-0242ac120004-4-33ed-7a5f-9d35-029d",
       "previous": "162bf3ec-6cae-11ee-89fa-0242ac120005-2-880a-7735"
      },
      {
       "current": "7163d470-56fb-11ec-a1da-0242ac120004-5-1660-a292-4c97-bd02-6b76",
       "next": "743175ea-56fb-11ec-a1da-0242ac120004-5-33ed-7a5f-9d35-029d-e12c",
       "previous": "162bf3ec-6cae-11ee-89fa-0242ac120005-3-880a-7735-751c"
      },
      {
       "current": "7163d470-56fb-11ec-a1da-0242ac120004-6-1660-a292-4c97-bd02-6b76-9e36",
       "next": "743175ea-56fb-11ec-a1da-0242ac120004-6-33ed-7a5f-9d35-029d-e12c-bd1a",
       "previous": "162bf3ec-6cae-11ee-89fa-0242ac120005-4-880a-7735-751c-e719"
      },
      {
       "current": "7163d470-56fb-11ec-a1da-0242ac120004-7-1660-a292-4c97-bd02-6b76-9e36-46c4",
       "next": "743175ea-56fb-11ec-a1da-0242ac120004-7-33ed-7a5f-9d35-029d-e12c-bd1a-1312",
       "previous": "162bf3ec-6cae-11ee-89fa-0242ac120005-5-880a-7735-751c-e719-c4a0"
      }
     ],
     "next": "743175ea-56fb-11ec-a1da-0242ac120004-8-33ed-7a5f-9d35-029d-e12c-bd1a-1312-0005",
     "previous": "162bf3ec-6cae-11ee-89fa-0242ac120005-6-880a-7735-751c-e719-c4a0-7c13"
    }
   },
   "source": [
    "## 一時Inventoryファイルの生成\n",
    "以下を実行し、作業用ディレクトリ配下に一時Inventoryファイルを生成する。"
   ]
  },
  {
   "cell_type": "markdown",
   "metadata": {
    "lc_cell_meme": {
     "current": "743175ea-56fb-11ec-a1da-0242ac120004-8-33ed-7a5f-9d35-029d-e12c-bd1a-1312-0005",
     "history": [
      {
       "current": "743175ea-56fb-11ec-a1da-0242ac120004-2-33ed-7a5f",
       "next": "7431796e-56fb-11ec-a1da-0242ac120004",
       "previous": "7163d7ae-56fb-11ec-a1da-0242ac120004"
      },
      {
       "current": "743175ea-56fb-11ec-a1da-0242ac120004-2-33ed-7a5f",
       "next": "7431796e-56fb-11ec-a1da-0242ac120004-1-d0f1",
       "previous": "7163d7ae-56fb-11ec-a1da-0242ac120004-1-0ea4"
      },
      {
       "current": "743175ea-56fb-11ec-a1da-0242ac120004-3-33ed-7a5f-9d35",
       "next": "7431796e-56fb-11ec-a1da-0242ac120004-1-d0f1",
       "previous": "7163d470-56fb-11ec-a1da-0242ac120004-1-1660"
      },
      {
       "current": "743175ea-56fb-11ec-a1da-0242ac120004-4-33ed-7a5f-9d35-029d",
       "next": "7431796e-56fb-11ec-a1da-0242ac120004-2-d0f1-be63",
       "previous": "7163d470-56fb-11ec-a1da-0242ac120004-2-1660-a292"
      },
      {
       "current": "743175ea-56fb-11ec-a1da-0242ac120004-5-33ed-7a5f-9d35-029d-e12c",
       "next": "7431796e-56fb-11ec-a1da-0242ac120004-3-d0f1-be63-cdb1",
       "previous": "7163d470-56fb-11ec-a1da-0242ac120004-3-1660-a292-4c97"
      },
      {
       "current": "743175ea-56fb-11ec-a1da-0242ac120004-6-33ed-7a5f-9d35-029d-e12c-bd1a",
       "next": "7431796e-56fb-11ec-a1da-0242ac120004-4-d0f1-be63-cdb1-e81d",
       "previous": "7163d470-56fb-11ec-a1da-0242ac120004-4-1660-a292-4c97-bd02"
      },
      {
       "current": "743175ea-56fb-11ec-a1da-0242ac120004-7-33ed-7a5f-9d35-029d-e12c-bd1a-1312",
       "next": "7431796e-56fb-11ec-a1da-0242ac120004-5-d0f1-be63-cdb1-e81d-4de0",
       "previous": "7163d470-56fb-11ec-a1da-0242ac120004-5-1660-a292-4c97-bd02-6b76"
      },
      {
       "current": "743175ea-56fb-11ec-a1da-0242ac120004-8-33ed-7a5f-9d35-029d-e12c-bd1a-1312-0005",
       "next": "7431796e-56fb-11ec-a1da-0242ac120004-6-d0f1-be63-cdb1-e81d-4de0-e5e0",
       "previous": "7163d470-56fb-11ec-a1da-0242ac120004-6-1660-a292-4c97-bd02-6b76-9e36"
      }
     ],
     "next": "7431796e-56fb-11ec-a1da-0242ac120004-7-d0f1-be63-cdb1-e81d-4de0-e5e0-8333",
     "previous": "7163d470-56fb-11ec-a1da-0242ac120004-7-1660-a292-4c97-bd02-6b76-9e36-46c4"
    }
   },
   "source": [
    "Inventoryファイルを生成する。"
   ]
  },
  {
   "cell_type": "code",
   "execution_count": null,
   "metadata": {
    "lc_cell_meme": {
     "current": "7431796e-56fb-11ec-a1da-0242ac120004-7-d0f1-be63-cdb1-e81d-4de0-e5e0-8333",
     "history": [
      {
       "current": "7431796e-56fb-11ec-a1da-0242ac120004",
       "next": "74317b3a-56fb-11ec-a1da-0242ac120004",
       "previous": "743175ea-56fb-11ec-a1da-0242ac120004"
      },
      {
       "current": "7431796e-56fb-11ec-a1da-0242ac120004-1-d0f1",
       "next": "74317b3a-56fb-11ec-a1da-0242ac120004-1-6a3c",
       "previous": "743175ea-56fb-11ec-a1da-0242ac120004-1-33ed"
      },
      {
       "current": "7431796e-56fb-11ec-a1da-0242ac120004-2-d0f1-be63",
       "next": "74317b3a-56fb-11ec-a1da-0242ac120004-2-6a3c-5cd9",
       "previous": "743175ea-56fb-11ec-a1da-0242ac120004-2-33ed-7a5f"
      },
      {
       "current": "7431796e-56fb-11ec-a1da-0242ac120004-3-d0f1-be63-cdb1",
       "next": "74317b3a-56fb-11ec-a1da-0242ac120004-3-6a3c-5cd9-37f7",
       "previous": "743175ea-56fb-11ec-a1da-0242ac120004-3-33ed-7a5f-9d35"
      },
      {
       "current": "7431796e-56fb-11ec-a1da-0242ac120004-4-d0f1-be63-cdb1-e81d",
       "next": "74317b3a-56fb-11ec-a1da-0242ac120004-4-6a3c-5cd9-37f7-5301",
       "previous": "743175ea-56fb-11ec-a1da-0242ac120004-4-33ed-7a5f-9d35-029d"
      },
      {
       "current": "7431796e-56fb-11ec-a1da-0242ac120004-4-d0f1-be63-cdb1-e81d",
       "next": "74317b3a-56fb-11ec-a1da-0242ac120004-5-6a3c-5cd9-37f7-5301-f7c8",
       "previous": "743175ea-56fb-11ec-a1da-0242ac120004-5-33ed-7a5f-9d35-029d-e12c"
      },
      {
       "current": "7431796e-56fb-11ec-a1da-0242ac120004-5-d0f1-be63-cdb1-e81d-4de0",
       "next": "74317e28-56fb-11ec-a1da-0242ac120004-4-474d-6416-908e-b120",
       "previous": "743175ea-56fb-11ec-a1da-0242ac120004-5-33ed-7a5f-9d35-029d-e12c"
      },
      {
       "current": "7431796e-56fb-11ec-a1da-0242ac120004-6-d0f1-be63-cdb1-e81d-4de0-e5e0",
       "next": "74317e28-56fb-11ec-a1da-0242ac120004-5-474d-6416-908e-b120-3e52",
       "previous": "743175ea-56fb-11ec-a1da-0242ac120004-6-33ed-7a5f-9d35-029d-e12c-bd1a"
      },
      {
       "current": "7431796e-56fb-11ec-a1da-0242ac120004-7-d0f1-be63-cdb1-e81d-4de0-e5e0-8333",
       "next": "74317e28-56fb-11ec-a1da-0242ac120004-6-474d-6416-908e-b120-3e52-7b89",
       "previous": "743175ea-56fb-11ec-a1da-0242ac120004-7-33ed-7a5f-9d35-029d-e12c-bd1a-1312"
      }
     ],
     "next": "74317e28-56fb-11ec-a1da-0242ac120004-7-474d-6416-908e-b120-3e52-7b89-def7",
     "previous": "743175ea-56fb-11ec-a1da-0242ac120004-8-33ed-7a5f-9d35-029d-e12c-bd1a-1312-0005"
    }
   },
   "outputs": [],
   "source": [
    "node_user='xxxxx'\n",
    "proxy_user='xxxxx'\n",
    "proxy_key='~/.ssh/id_ras'"
   ]
  },
  {
   "cell_type": "code",
   "execution_count": null,
   "metadata": {
    "lc_cell_meme": {
     "current": "74317e28-56fb-11ec-a1da-0242ac120004-7-474d-6416-908e-b120-3e52-7b89-def7",
     "history": [
      {
       "current": "74317e28-56fb-11ec-a1da-0242ac120004",
       "next": "c709e59c-56f9-11ec-a1da-0242ac120004",
       "previous": "74317cb6-56fb-11ec-a1da-0242ac120004"
      },
      {
       "current": "74317e28-56fb-11ec-a1da-0242ac120004-1-474d",
       "next": "35c362a4-55a3-11e7-b0b2-00163e9c0e35-1-e49a",
       "previous": "74317cb6-56fb-11ec-a1da-0242ac120004"
      },
      {
       "current": "74317e28-56fb-11ec-a1da-0242ac120004-1-474d",
       "next": "35c362a4-55a3-11e7-b0b2-00163e9c0e35-2-e49a-f407",
       "previous": "74317cb6-56fb-11ec-a1da-0242ac120004-1-9d19"
      },
      {
       "current": "74317e28-56fb-11ec-a1da-0242ac120004-2-474d-6416",
       "next": "35c362a4-55a3-11e7-b0b2-00163e9c0e35-2-e49a-f407",
       "previous": "74317b3a-56fb-11ec-a1da-0242ac120004-2-6a3c-5cd9"
      },
      {
       "current": "74317e28-56fb-11ec-a1da-0242ac120004-3-474d-6416-908e",
       "next": "35c362a4-55a3-11e7-b0b2-00163e9c0e35-3-e49a-f407-221f",
       "previous": "74317b3a-56fb-11ec-a1da-0242ac120004-3-6a3c-5cd9-37f7"
      },
      {
       "current": "74317e28-56fb-11ec-a1da-0242ac120004-4-474d-6416-908e-b120",
       "next": "35c362a4-55a3-11e7-b0b2-00163e9c0e35-4-e49a-f407-221f-f6cf",
       "previous": "74317b3a-56fb-11ec-a1da-0242ac120004-4-6a3c-5cd9-37f7-5301"
      },
      {
       "current": "74317e28-56fb-11ec-a1da-0242ac120004-4-474d-6416-908e-b120",
       "next": "35c362a4-55a3-11e7-b0b2-00163e9c0e35-5-e49a-f407-221f-f6cf-8aa5",
       "previous": "74317b3a-56fb-11ec-a1da-0242ac120004-5-6a3c-5cd9-37f7-5301-f7c8"
      },
      {
       "current": "74317e28-56fb-11ec-a1da-0242ac120004-4-474d-6416-908e-b120",
       "next": "a5f45084-1cc9-11ef-ad2f-0242ac120005",
       "previous": "74317b3a-56fb-11ec-a1da-0242ac120004-5-6a3c-5cd9-37f7-5301-f7c8"
      },
      {
       "current": "74317e28-56fb-11ec-a1da-0242ac120004-5-474d-6416-908e-b120-3e52",
       "next": "a5f45084-1cc9-11ef-ad2f-0242ac120005",
       "previous": "7431796e-56fb-11ec-a1da-0242ac120004-4-d0f1-be63-cdb1-e81d"
      },
      {
       "current": "74317e28-56fb-11ec-a1da-0242ac120004-6-474d-6416-908e-b120-3e52-7b89",
       "next": "a5f45084-1cc9-11ef-ad2f-0242ac120005-1-024c",
       "previous": "7431796e-56fb-11ec-a1da-0242ac120004-5-d0f1-be63-cdb1-e81d-4de0"
      },
      {
       "current": "74317e28-56fb-11ec-a1da-0242ac120004-7-474d-6416-908e-b120-3e52-7b89-def7",
       "next": "a5f45084-1cc9-11ef-ad2f-0242ac120005-2-024c-52ac",
       "previous": "7431796e-56fb-11ec-a1da-0242ac120004-6-d0f1-be63-cdb1-e81d-4de0-e5e0"
      }
     ],
     "next": "a5f45084-1cc9-11ef-ad2f-0242ac120005-3-024c-52ac-aa1a",
     "previous": "7431796e-56fb-11ec-a1da-0242ac120004-7-d0f1-be63-cdb1-e81d-4de0-e5e0-8333"
    }
   },
   "outputs": [],
   "source": [
    "import os\n",
    "\n",
    "with open( os.path.join(temp_dir, \"hosts\"), 'w') as f:\n",
    "     f.write('''[ceph_admin]\n",
    "{ceph_admin_ip}   ansible_user={proxy_user} ansible_ssh_private_key_file={proxy_key} ansible_python_interpreter=/usr/bin/python3\n",
    "[ceph_node]\n",
    "{node_ip}  ansible_user={node_user} ansible_ssh_common_args='-o ControlMaster=auto -o StrictHostKeyChecking=no -o ControlPersist=30m -o ProxyCommand=\"ssh -W %h:%p -i {proxy_key} -q {proxy_user}@{ceph_admin_ip}\"' ansible_python_interpreter=/usr/bin/python3\n",
    "'''.format(ceph_admin_ip=ceph_admin_ip, node_ip=target[\"prov_ip\"],\n",
    "           node_user=node_user, proxy_user=proxy_user, proxy_key=proxy_key))\n",
    "     f.write('''[bootstrap]\n",
    "{node_ip}  ansible_user={node_user} ansible_ssh_common_args='-o ControlMaster=auto -o StrictHostKeyChecking=no -o ControlPersist=30m -o ProxyCommand=\"ssh -W %h:%p -i {proxy_key} -q {proxy_user}@{ceph_admin_ip}\"' ansible_python_interpreter=/usr/bin/python3\n",
    "'''.format(ceph_admin_ip=ceph_admin_ip, node_ip=bootstrap_node[\"prov_ip\"],\n",
    "           node_user=node_user, proxy_user=proxy_user, proxy_key=proxy_key))\n",
    "\n",
    "hosts = temp_dir + \"/hosts\"\n",
    "\n",
    "!cat $hosts"
   ]
  },
  {
   "cell_type": "code",
   "execution_count": null,
   "metadata": {
    "lc_cell_meme": {
     "current": "a5f45084-1cc9-11ef-ad2f-0242ac120005-3-024c-52ac-aa1a",
     "history": [
      {
       "current": "a5f45084-1cc9-11ef-ad2f-0242ac120005-1-024c",
       "next": "35c362a4-55a3-11e7-b0b2-00163e9c0e35-5-e49a-f407-221f-f6cf-8aa5",
       "previous": "74317e28-56fb-11ec-a1da-0242ac120004-4-474d-6416-908e-b120"
      },
      {
       "current": "a5f45084-1cc9-11ef-ad2f-0242ac120005-2-024c-52ac",
       "next": "35c362a4-55a3-11e7-b0b2-00163e9c0e35-6-e49a-f407-221f-f6cf-8aa5-d9cb",
       "previous": "74317e28-56fb-11ec-a1da-0242ac120004-5-474d-6416-908e-b120-3e52"
      },
      {
       "current": "a5f45084-1cc9-11ef-ad2f-0242ac120005-3-024c-52ac-aa1a",
       "next": "35c362a4-55a3-11e7-b0b2-00163e9c0e35-7-e49a-f407-221f-f6cf-8aa5-d9cb-b24e",
       "previous": "74317e28-56fb-11ec-a1da-0242ac120004-6-474d-6416-908e-b120-3e52-7b89"
      }
     ],
     "next": "35c362a4-55a3-11e7-b0b2-00163e9c0e35-8-e49a-f407-221f-f6cf-8aa5-d9cb-b24e-720c",
     "previous": "74317e28-56fb-11ec-a1da-0242ac120004-7-474d-6416-908e-b120-3e52-7b89-def7"
    }
   },
   "outputs": [],
   "source": [
    "%env ANSIBLE_INVENTORY={hosts}"
   ]
  },
  {
   "cell_type": "markdown",
   "metadata": {
    "lc_cell_meme": {
     "current": "35c362a4-55a3-11e7-b0b2-00163e9c0e35-8-e49a-f407-221f-f6cf-8aa5-d9cb-b24e-720c",
     "history": [
      {
       "current": "35c362a4-55a3-11e7-b0b2-00163e9c0e35",
       "next": "35c36448-55a3-11e7-b0b2-00163e9c0e35",
       "previous": "35c360f6-55a3-11e7-b0b2-00163e9c0e35"
      },
      {
       "current": "35c362a4-55a3-11e7-b0b2-00163e9c0e35",
       "next": "35c36448-55a3-11e7-b0b2-00163e9c0e35",
       "previous": "4cd5b0cc-7ef5-11ea-a926-0242ac120004"
      },
      {
       "current": "35c362a4-55a3-11e7-b0b2-00163e9c0e35",
       "next": "35c36448-55a3-11e7-b0b2-00163e9c0e35",
       "previous": "db546a28-7ef5-11ea-a926-0242ac120004"
      },
      {
       "current": "35c362a4-55a3-11e7-b0b2-00163e9c0e35",
       "next": "35c36448-55a3-11e7-b0b2-00163e9c0e35",
       "previous": "4cd5af28-7ef5-11ea-a926-0242ac120004"
      },
      {
       "current": "35c362a4-55a3-11e7-b0b2-00163e9c0e35",
       "next": "35c36448-55a3-11e7-b0b2-00163e9c0e35",
       "previous": "7d464504-9107-11ea-8d02-0242ac120007"
      },
      {
       "current": "35c362a4-55a3-11e7-b0b2-00163e9c0e35",
       "next": "35c36448-55a3-11e7-b0b2-00163e9c0e35",
       "previous": "bd797188-910b-11ea-8d02-0242ac120007"
      },
      {
       "current": "35c362a4-55a3-11e7-b0b2-00163e9c0e35",
       "next": "35c36448-55a3-11e7-b0b2-00163e9c0e35",
       "previous": "70b95056-9111-11ea-8d02-0242ac120007"
      },
      {
       "current": "35c362a4-55a3-11e7-b0b2-00163e9c0e35",
       "next": "35c36448-55a3-11e7-b0b2-00163e9c0e35",
       "previous": "bd797188-910b-11ea-8d02-0242ac120007"
      },
      {
       "current": "35c362a4-55a3-11e7-b0b2-00163e9c0e35",
       "next": "bd797188-910b-11ea-8d02-0242ac120007",
       "previous": "4cd5af28-7ef5-11ea-a926-0242ac120004"
      },
      {
       "current": "35c362a4-55a3-11e7-b0b2-00163e9c0e35",
       "next": "484c7376-935c-11ea-8d02-0242ac120007",
       "previous": "4cd5af28-7ef5-11ea-a926-0242ac120004"
      },
      {
       "current": "35c362a4-55a3-11e7-b0b2-00163e9c0e35-1-e49a",
       "next": "bd797188-910b-11ea-8d02-0242ac120007",
       "previous": "4cd5af28-7ef5-11ea-a926-0242ac120004"
      },
      {
       "current": "35c362a4-55a3-11e7-b0b2-00163e9c0e35-1-e49a",
       "next": "bd797188-910b-11ea-8d02-0242ac120007-1-a27b",
       "previous": "4cd5af28-7ef5-11ea-a926-0242ac120004-1-4700"
      },
      {
       "current": "35c362a4-55a3-11e7-b0b2-00163e9c0e35-1-e49a",
       "next": "bd797188-910b-11ea-8d02-0242ac120007-1-a27b",
       "previous": "35c337f2-55a3-11e7-b0b2-00163e9c0e35-1-dc7a"
      },
      {
       "current": "35c362a4-55a3-11e7-b0b2-00163e9c0e35-1-e49a",
       "next": "bd797188-910b-11ea-8d02-0242ac120007-1-a27b",
       "previous": "37fd8534-56f9-11ec-a1da-0242ac120004"
      },
      {
       "current": "35c362a4-55a3-11e7-b0b2-00163e9c0e35-1-e49a",
       "next": "bd797188-910b-11ea-8d02-0242ac120007-1-a27b",
       "previous": "c709e722-56f9-11ec-a1da-0242ac120004"
      },
      {
       "current": "35c362a4-55a3-11e7-b0b2-00163e9c0e35-2-e49a-f407",
       "next": "bd797188-910b-11ea-8d02-0242ac120007-1-a27b",
       "previous": "74317e28-56fb-11ec-a1da-0242ac120004"
      },
      {
       "current": "35c362a4-55a3-11e7-b0b2-00163e9c0e35-3-e49a-f407-221f",
       "next": "bd797188-910b-11ea-8d02-0242ac120007-2-a27b-d878",
       "previous": "74317e28-56fb-11ec-a1da-0242ac120004-1-474d"
      },
      {
       "current": "35c362a4-55a3-11e7-b0b2-00163e9c0e35-4-e49a-f407-221f-f6cf",
       "next": "bd797188-910b-11ea-8d02-0242ac120007-3-a27b-d878-755b",
       "previous": "74317e28-56fb-11ec-a1da-0242ac120004-2-474d-6416"
      },
      {
       "current": "35c362a4-55a3-11e7-b0b2-00163e9c0e35-5-e49a-f407-221f-f6cf-8aa5",
       "next": "bd797188-910b-11ea-8d02-0242ac120007-4-a27b-d878-755b-5ea3",
       "previous": "74317e28-56fb-11ec-a1da-0242ac120004-3-474d-6416-908e"
      },
      {
       "current": "35c362a4-55a3-11e7-b0b2-00163e9c0e35-5-e49a-f407-221f-f6cf-8aa5",
       "next": "bd797188-910b-11ea-8d02-0242ac120007-5-a27b-d878-755b-5ea3-c4d6",
       "previous": "74317e28-56fb-11ec-a1da-0242ac120004-4-474d-6416-908e-b120"
      },
      {
       "current": "35c362a4-55a3-11e7-b0b2-00163e9c0e35-6-e49a-f407-221f-f6cf-8aa5-d9cb",
       "next": "bd797188-910b-11ea-8d02-0242ac120007-5-a27b-d878-755b-5ea3-c4d6",
       "previous": "a5f45084-1cc9-11ef-ad2f-0242ac120005"
      },
      {
       "current": "35c362a4-55a3-11e7-b0b2-00163e9c0e35-7-e49a-f407-221f-f6cf-8aa5-d9cb-b24e",
       "next": "bd797188-910b-11ea-8d02-0242ac120007-6-a27b-d878-755b-5ea3-c4d6-e731",
       "previous": "a5f45084-1cc9-11ef-ad2f-0242ac120005-1-024c"
      },
      {
       "current": "35c362a4-55a3-11e7-b0b2-00163e9c0e35-8-e49a-f407-221f-f6cf-8aa5-d9cb-b24e-720c",
       "next": "bd797188-910b-11ea-8d02-0242ac120007-7-a27b-d878-755b-5ea3-c4d6-e731-b018",
       "previous": "a5f45084-1cc9-11ef-ad2f-0242ac120005-2-024c-52ac"
      }
     ],
     "next": "bd797188-910b-11ea-8d02-0242ac120007-8-a27b-d878-755b-5ea3-c4d6-e731-b018-0b83",
     "previous": "a5f45084-1cc9-11ef-ad2f-0242ac120005-3-024c-52ac-aa1a"
    }
   },
   "source": [
    "# 疎通確認\n",
    "以下コマンドを実行し、OpeHubからCephAdmin経由で、Cephノードに疎通することを確認する。"
   ]
  },
  {
   "cell_type": "code",
   "execution_count": null,
   "metadata": {
    "lc_cell_meme": {
     "current": "bd797188-910b-11ea-8d02-0242ac120007-8-a27b-d878-755b-5ea3-c4d6-e731-b018-0b83",
     "history": [
      {
       "current": "bd797188-910b-11ea-8d02-0242ac120007",
       "next": "35c362a4-55a3-11e7-b0b2-00163e9c0e35",
       "previous": "7d464504-9107-11ea-8d02-0242ac120007"
      },
      {
       "current": "bd797188-910b-11ea-8d02-0242ac120007",
       "next": "70b95056-9111-11ea-8d02-0242ac120007",
       "previous": "7d464504-9107-11ea-8d02-0242ac120007"
      },
      {
       "current": "bd797188-910b-11ea-8d02-0242ac120007",
       "next": "35c362a4-55a3-11e7-b0b2-00163e9c0e35",
       "previous": "7d464504-9107-11ea-8d02-0242ac120007"
      },
      {
       "current": "bd797188-910b-11ea-8d02-0242ac120007",
       "next": "35c362a4-55a3-11e7-b0b2-00163e9c0e35",
       "previous": "4cd5af28-7ef5-11ea-a926-0242ac120004"
      },
      {
       "current": "bd797188-910b-11ea-8d02-0242ac120007",
       "next": "35c36448-55a3-11e7-b0b2-00163e9c0e35",
       "previous": "35c362a4-55a3-11e7-b0b2-00163e9c0e35"
      },
      {
       "current": "bd797188-910b-11ea-8d02-0242ac120007",
       "next": "35c3783e-55a3-11e7-b0b2-00163e9c0e35",
       "previous": "35c362a4-55a3-11e7-b0b2-00163e9c0e35"
      },
      {
       "current": "bd797188-910b-11ea-8d02-0242ac120007",
       "next": "35c3783e-55a3-11e7-b0b2-00163e9c0e35",
       "previous": "484c7376-935c-11ea-8d02-0242ac120007"
      },
      {
       "current": "bd797188-910b-11ea-8d02-0242ac120007",
       "next": "35c3783e-55a3-11e7-b0b2-00163e9c0e35",
       "previous": "35c362a4-55a3-11e7-b0b2-00163e9c0e35"
      },
      {
       "current": "bd797188-910b-11ea-8d02-0242ac120007",
       "next": "ac56a252-95bd-11ea-8d02-0242ac120007",
       "previous": "35c362a4-55a3-11e7-b0b2-00163e9c0e35"
      },
      {
       "current": "bd797188-910b-11ea-8d02-0242ac120007",
       "next": "3121c468-9a31-11ea-8d02-0242ac120007",
       "previous": "35c362a4-55a3-11e7-b0b2-00163e9c0e35"
      },
      {
       "current": "bd797188-910b-11ea-8d02-0242ac120007",
       "next": "65205d38-9a36-11ea-8d02-0242ac120007",
       "previous": "35c362a4-55a3-11e7-b0b2-00163e9c0e35"
      },
      {
       "current": "bd797188-910b-11ea-8d02-0242ac120007-1-a27b",
       "next": "9418ce40-9a36-11ea-8d02-0242ac120007",
       "previous": "35c362a4-55a3-11e7-b0b2-00163e9c0e35"
      },
      {
       "current": "bd797188-910b-11ea-8d02-0242ac120007-2-a27b-d878",
       "next": "9418ce40-9a36-11ea-8d02-0242ac120007-1-e415",
       "previous": "35c362a4-55a3-11e7-b0b2-00163e9c0e35-1-e49a"
      },
      {
       "current": "bd797188-910b-11ea-8d02-0242ac120007-3-a27b-d878-755b",
       "next": "9418ce40-9a36-11ea-8d02-0242ac120007-2-e415-abb0",
       "previous": "35c362a4-55a3-11e7-b0b2-00163e9c0e35-2-e49a-f407"
      },
      {
       "current": "bd797188-910b-11ea-8d02-0242ac120007-4-a27b-d878-755b-5ea3",
       "next": "9418ce40-9a36-11ea-8d02-0242ac120007-3-e415-abb0-12df",
       "previous": "35c362a4-55a3-11e7-b0b2-00163e9c0e35-3-e49a-f407-221f"
      },
      {
       "current": "bd797188-910b-11ea-8d02-0242ac120007-5-a27b-d878-755b-5ea3-c4d6",
       "next": "9418ce40-9a36-11ea-8d02-0242ac120007-4-e415-abb0-12df-5d96",
       "previous": "35c362a4-55a3-11e7-b0b2-00163e9c0e35-4-e49a-f407-221f-f6cf"
      },
      {
       "current": "bd797188-910b-11ea-8d02-0242ac120007-6-a27b-d878-755b-5ea3-c4d6-e731",
       "next": "9418ce40-9a36-11ea-8d02-0242ac120007-5-e415-abb0-12df-5d96-3e94",
       "previous": "35c362a4-55a3-11e7-b0b2-00163e9c0e35-5-e49a-f407-221f-f6cf-8aa5"
      },
      {
       "current": "bd797188-910b-11ea-8d02-0242ac120007-7-a27b-d878-755b-5ea3-c4d6-e731-b018",
       "next": "9418ce40-9a36-11ea-8d02-0242ac120007-6-e415-abb0-12df-5d96-3e94-2861",
       "previous": "35c362a4-55a3-11e7-b0b2-00163e9c0e35-6-e49a-f407-221f-f6cf-8aa5-d9cb"
      },
      {
       "current": "bd797188-910b-11ea-8d02-0242ac120007-8-a27b-d878-755b-5ea3-c4d6-e731-b018-0b83",
       "next": "9418ce40-9a36-11ea-8d02-0242ac120007-7-e415-abb0-12df-5d96-3e94-2861-0df4",
       "previous": "35c362a4-55a3-11e7-b0b2-00163e9c0e35-7-e49a-f407-221f-f6cf-8aa5-d9cb-b24e"
      }
     ],
     "next": "9418ce40-9a36-11ea-8d02-0242ac120007-8-e415-abb0-12df-5d96-3e94-2861-0df4-db64",
     "previous": "35c362a4-55a3-11e7-b0b2-00163e9c0e35-8-e49a-f407-221f-f6cf-8aa5-d9cb-b24e-720c"
    }
   },
   "outputs": [],
   "source": [
    "!ansible -i $hosts -b -m shell -a 'hostname' ceph_admin"
   ]
  },
  {
   "cell_type": "markdown",
   "metadata": {
    "lc_cell_meme": {
     "current": "9418ce40-9a36-11ea-8d02-0242ac120007-8-e415-abb0-12df-5d96-3e94-2861-0df4-db64",
     "history": [
      {
       "current": "9418ce40-9a36-11ea-8d02-0242ac120007-1-e415",
       "next": "65205d38-9a36-11ea-8d02-0242ac120007",
       "previous": "bd797188-910b-11ea-8d02-0242ac120007"
      },
      {
       "current": "9418ce40-9a36-11ea-8d02-0242ac120007-2-e415-abb0",
       "next": "65205d38-9a36-11ea-8d02-0242ac120007-1-4503",
       "previous": "bd797188-910b-11ea-8d02-0242ac120007-1-a27b"
      },
      {
       "current": "9418ce40-9a36-11ea-8d02-0242ac120007-2-e415-abb0",
       "next": "65205d38-9a36-11ea-8d02-0242ac120007-2-4503-c921",
       "previous": "bd797188-910b-11ea-8d02-0242ac120007-2-a27b-d878"
      },
      {
       "current": "9418ce40-9a36-11ea-8d02-0242ac120007-3-e415-abb0-12df",
       "next": "034b7262-56fc-11ec-a1da-0242ac120004-1-6184",
       "previous": "bd797188-910b-11ea-8d02-0242ac120007-2-a27b-d878"
      },
      {
       "current": "9418ce40-9a36-11ea-8d02-0242ac120007-4-e415-abb0-12df-5d96",
       "next": "034b7262-56fc-11ec-a1da-0242ac120004-2-6184-2fbc",
       "previous": "bd797188-910b-11ea-8d02-0242ac120007-3-a27b-d878-755b"
      },
      {
       "current": "9418ce40-9a36-11ea-8d02-0242ac120007-5-e415-abb0-12df-5d96-3e94",
       "next": "034b7262-56fc-11ec-a1da-0242ac120004-3-6184-2fbc-b986",
       "previous": "bd797188-910b-11ea-8d02-0242ac120007-4-a27b-d878-755b-5ea3"
      },
      {
       "current": "9418ce40-9a36-11ea-8d02-0242ac120007-6-e415-abb0-12df-5d96-3e94-2861",
       "next": "034b7262-56fc-11ec-a1da-0242ac120004-4-6184-2fbc-b986-223b",
       "previous": "bd797188-910b-11ea-8d02-0242ac120007-5-a27b-d878-755b-5ea3-c4d6"
      },
      {
       "current": "9418ce40-9a36-11ea-8d02-0242ac120007-7-e415-abb0-12df-5d96-3e94-2861-0df4",
       "next": "034b7262-56fc-11ec-a1da-0242ac120004-5-6184-2fbc-b986-223b-5666",
       "previous": "bd797188-910b-11ea-8d02-0242ac120007-6-a27b-d878-755b-5ea3-c4d6-e731"
      },
      {
       "current": "9418ce40-9a36-11ea-8d02-0242ac120007-8-e415-abb0-12df-5d96-3e94-2861-0df4-db64",
       "next": "034b7262-56fc-11ec-a1da-0242ac120004-6-6184-2fbc-b986-223b-5666-338f",
       "previous": "bd797188-910b-11ea-8d02-0242ac120007-7-a27b-d878-755b-5ea3-c4d6-e731-b018"
      }
     ],
     "next": "034b7262-56fc-11ec-a1da-0242ac120004-7-6184-2fbc-b986-223b-5666-338f-05cd",
     "previous": "bd797188-910b-11ea-8d02-0242ac120007-8-a27b-d878-755b-5ea3-c4d6-e731-b018-0b83"
    }
   },
   "source": [
    "以下コマンドを実行し、OpeHubからCephAdminに疎通することを確認する。"
   ]
  },
  {
   "cell_type": "code",
   "execution_count": null,
   "metadata": {
    "lc_cell_meme": {
     "current": "034b7262-56fc-11ec-a1da-0242ac120004-7-6184-2fbc-b986-223b-5666-338f-05cd",
     "history": [
      {
       "current": "034b7262-56fc-11ec-a1da-0242ac120004",
       "next": "cfbfd3de-9a50-11ea-8d02-0242ac120007-1-a19f",
       "previous": "65205d38-9a36-11ea-8d02-0242ac120007-1-4503"
      },
      {
       "current": "034b7262-56fc-11ec-a1da-0242ac120004-1-6184",
       "next": "08f1174a-9b04-11ea-8d02-0242ac120007-1-f99a",
       "previous": "65205d38-9a36-11ea-8d02-0242ac120007-1-4503"
      },
      {
       "current": "034b7262-56fc-11ec-a1da-0242ac120004-1-6184",
       "next": "08f1174a-9b04-11ea-8d02-0242ac120007-2-f99a-9309",
       "previous": "65205d38-9a36-11ea-8d02-0242ac120007-2-4503-c921"
      },
      {
       "current": "034b7262-56fc-11ec-a1da-0242ac120004-1-6184",
       "next": "ecc4b59c-6cae-11ee-89fa-0242ac120005",
       "previous": "65205d38-9a36-11ea-8d02-0242ac120007-2-4503-c921"
      },
      {
       "current": "034b7262-56fc-11ec-a1da-0242ac120004-2-6184-2fbc",
       "next": "ecc4b59c-6cae-11ee-89fa-0242ac120005",
       "previous": "9418ce40-9a36-11ea-8d02-0242ac120007-2-e415-abb0"
      },
      {
       "current": "034b7262-56fc-11ec-a1da-0242ac120004-3-6184-2fbc-b986",
       "next": "ecc4b59c-6cae-11ee-89fa-0242ac120005-1-8b40",
       "previous": "9418ce40-9a36-11ea-8d02-0242ac120007-3-e415-abb0-12df"
      },
      {
       "current": "034b7262-56fc-11ec-a1da-0242ac120004-4-6184-2fbc-b986-223b",
       "next": "ecc4b59c-6cae-11ee-89fa-0242ac120005-2-8b40-35eb",
       "previous": "9418ce40-9a36-11ea-8d02-0242ac120007-4-e415-abb0-12df-5d96"
      },
      {
       "current": "034b7262-56fc-11ec-a1da-0242ac120004-5-6184-2fbc-b986-223b-5666",
       "next": "ecc4b59c-6cae-11ee-89fa-0242ac120005-3-8b40-35eb-f22d",
       "previous": "9418ce40-9a36-11ea-8d02-0242ac120007-5-e415-abb0-12df-5d96-3e94"
      },
      {
       "current": "034b7262-56fc-11ec-a1da-0242ac120004-6-6184-2fbc-b986-223b-5666-338f",
       "next": "ecc4b59c-6cae-11ee-89fa-0242ac120005-4-8b40-35eb-f22d-6678",
       "previous": "9418ce40-9a36-11ea-8d02-0242ac120007-6-e415-abb0-12df-5d96-3e94-2861"
      },
      {
       "current": "034b7262-56fc-11ec-a1da-0242ac120004-7-6184-2fbc-b986-223b-5666-338f-05cd",
       "next": "ecc4b59c-6cae-11ee-89fa-0242ac120005-5-8b40-35eb-f22d-6678-a5c6",
       "previous": "9418ce40-9a36-11ea-8d02-0242ac120007-7-e415-abb0-12df-5d96-3e94-2861-0df4"
      }
     ],
     "next": "ecc4b59c-6cae-11ee-89fa-0242ac120005-6-8b40-35eb-f22d-6678-a5c6-de76",
     "previous": "9418ce40-9a36-11ea-8d02-0242ac120007-8-e415-abb0-12df-5d96-3e94-2861-0df4-db64"
    }
   },
   "outputs": [],
   "source": [
    "!ansible -i $hosts -b -m shell -a 'hostname' bootstrap"
   ]
  },
  {
   "cell_type": "code",
   "execution_count": null,
   "metadata": {
    "lc_cell_meme": {
     "current": "ecc4b59c-6cae-11ee-89fa-0242ac120005-6-8b40-35eb-f22d-6678-a5c6-de76",
     "history": [
      {
       "current": "ecc4b59c-6cae-11ee-89fa-0242ac120005",
       "next": "08f1174a-9b04-11ea-8d02-0242ac120007-2-f99a-9309",
       "previous": "034b7262-56fc-11ec-a1da-0242ac120004-1-6184"
      },
      {
       "current": "ecc4b59c-6cae-11ee-89fa-0242ac120005-1-8b40",
       "next": "f22be07e-81e3-11ee-91d3-0242ac120006",
       "previous": "034b7262-56fc-11ec-a1da-0242ac120004-1-6184"
      },
      {
       "current": "ecc4b59c-6cae-11ee-89fa-0242ac120005-2-8b40-35eb",
       "next": "f22be07e-81e3-11ee-91d3-0242ac120006-1-b9eb",
       "previous": "034b7262-56fc-11ec-a1da-0242ac120004-2-6184-2fbc"
      },
      {
       "current": "ecc4b59c-6cae-11ee-89fa-0242ac120005-3-8b40-35eb-f22d",
       "next": "f22be07e-81e3-11ee-91d3-0242ac120006-2-b9eb-96ca",
       "previous": "034b7262-56fc-11ec-a1da-0242ac120004-3-6184-2fbc-b986"
      },
      {
       "current": "ecc4b59c-6cae-11ee-89fa-0242ac120005-4-8b40-35eb-f22d-6678",
       "next": "f22be07e-81e3-11ee-91d3-0242ac120006-3-b9eb-96ca-95fb",
       "previous": "034b7262-56fc-11ec-a1da-0242ac120004-4-6184-2fbc-b986-223b"
      },
      {
       "current": "ecc4b59c-6cae-11ee-89fa-0242ac120005-5-8b40-35eb-f22d-6678-a5c6",
       "next": "f22be07e-81e3-11ee-91d3-0242ac120006-4-b9eb-96ca-95fb-628d",
       "previous": "034b7262-56fc-11ec-a1da-0242ac120004-5-6184-2fbc-b986-223b-5666"
      },
      {
       "current": "ecc4b59c-6cae-11ee-89fa-0242ac120005-6-8b40-35eb-f22d-6678-a5c6-de76",
       "next": "f22be07e-81e3-11ee-91d3-0242ac120006-5-b9eb-96ca-95fb-628d-114a",
       "previous": "034b7262-56fc-11ec-a1da-0242ac120004-6-6184-2fbc-b986-223b-5666-338f"
      }
     ],
     "next": "f22be07e-81e3-11ee-91d3-0242ac120006-6-b9eb-96ca-95fb-628d-114a-83e0",
     "previous": "034b7262-56fc-11ec-a1da-0242ac120004-7-6184-2fbc-b986-223b-5666-338f-05cd"
    }
   },
   "outputs": [],
   "source": [
    "!ansible -i $hosts -b -m shell -a 'hostname' ceph_node"
   ]
  },
  {
   "cell_type": "markdown",
   "metadata": {
    "lc_cell_meme": {
     "current": "f22be07e-81e3-11ee-91d3-0242ac120006-6-b9eb-96ca-95fb-628d-114a-83e0",
     "history": [
      {
       "current": "f22be07e-81e3-11ee-91d3-0242ac120006",
       "next": "f22be268-81e3-11ee-91d3-0242ac120006",
       "previous": "ecc4b59c-6cae-11ee-89fa-0242ac120005"
      },
      {
       "current": "f22be07e-81e3-11ee-91d3-0242ac120006-1-b9eb",
       "next": "f22be268-81e3-11ee-91d3-0242ac120006-1-728b",
       "previous": "ecc4b59c-6cae-11ee-89fa-0242ac120005"
      },
      {
       "current": "f22be07e-81e3-11ee-91d3-0242ac120006-2-b9eb-96ca",
       "next": "f22be268-81e3-11ee-91d3-0242ac120006-2-728b-027e",
       "previous": "ecc4b59c-6cae-11ee-89fa-0242ac120005-1-8b40"
      },
      {
       "current": "f22be07e-81e3-11ee-91d3-0242ac120006-3-b9eb-96ca-95fb",
       "next": "f22be268-81e3-11ee-91d3-0242ac120006-3-728b-027e-3a08",
       "previous": "ecc4b59c-6cae-11ee-89fa-0242ac120005-2-8b40-35eb"
      },
      {
       "current": "f22be07e-81e3-11ee-91d3-0242ac120006-4-b9eb-96ca-95fb-628d",
       "next": "f22be268-81e3-11ee-91d3-0242ac120006-4-728b-027e-3a08-9585",
       "previous": "ecc4b59c-6cae-11ee-89fa-0242ac120005-3-8b40-35eb-f22d"
      },
      {
       "current": "f22be07e-81e3-11ee-91d3-0242ac120006-5-b9eb-96ca-95fb-628d-114a",
       "next": "f22be268-81e3-11ee-91d3-0242ac120006-5-728b-027e-3a08-9585-c063",
       "previous": "ecc4b59c-6cae-11ee-89fa-0242ac120005-4-8b40-35eb-f22d-6678"
      },
      {
       "current": "f22be07e-81e3-11ee-91d3-0242ac120006-6-b9eb-96ca-95fb-628d-114a-83e0",
       "next": "f22be268-81e3-11ee-91d3-0242ac120006-6-728b-027e-3a08-9585-c063-31e5",
       "previous": "ecc4b59c-6cae-11ee-89fa-0242ac120005-5-8b40-35eb-f22d-6678-a5c6"
      }
     ],
     "next": "f22be268-81e3-11ee-91d3-0242ac120006-7-728b-027e-3a08-9585-c063-31e5-3044",
     "previous": "ecc4b59c-6cae-11ee-89fa-0242ac120005-6-8b40-35eb-f22d-6678-a5c6-de76"
    }
   },
   "source": [
    "# 事前PV/LVM情報取得"
   ]
  },
  {
   "cell_type": "markdown",
   "metadata": {
    "heading_collapsed": true,
    "lc_cell_meme": {
     "current": "f22be268-81e3-11ee-91d3-0242ac120006-7-728b-027e-3a08-9585-c063-31e5-3044",
     "history": [
      {
       "current": "f22be268-81e3-11ee-91d3-0242ac120006-2-728b-027e",
       "next": "f22be330-81e3-11ee-91d3-0242ac120006",
       "previous": "f22be07e-81e3-11ee-91d3-0242ac120006"
      },
      {
       "current": "f22be268-81e3-11ee-91d3-0242ac120006-3-728b-027e-3a08",
       "next": "f22be330-81e3-11ee-91d3-0242ac120006-1-bc9f",
       "previous": "f22be07e-81e3-11ee-91d3-0242ac120006-1-b9eb"
      },
      {
       "current": "f22be268-81e3-11ee-91d3-0242ac120006-4-728b-027e-3a08-9585",
       "next": "f22be330-81e3-11ee-91d3-0242ac120006-2-bc9f-2f64",
       "previous": "f22be07e-81e3-11ee-91d3-0242ac120006-2-b9eb-96ca"
      },
      {
       "current": "f22be268-81e3-11ee-91d3-0242ac120006-5-728b-027e-3a08-9585-c063",
       "next": "f22be330-81e3-11ee-91d3-0242ac120006-3-bc9f-2f64-2b20",
       "previous": "f22be07e-81e3-11ee-91d3-0242ac120006-3-b9eb-96ca-95fb"
      },
      {
       "current": "f22be268-81e3-11ee-91d3-0242ac120006-6-728b-027e-3a08-9585-c063-31e5",
       "next": "f22be330-81e3-11ee-91d3-0242ac120006-4-bc9f-2f64-2b20-d1d8",
       "previous": "f22be07e-81e3-11ee-91d3-0242ac120006-4-b9eb-96ca-95fb-628d"
      },
      {
       "current": "f22be268-81e3-11ee-91d3-0242ac120006-7-728b-027e-3a08-9585-c063-31e5-3044",
       "next": "f22be330-81e3-11ee-91d3-0242ac120006-5-bc9f-2f64-2b20-d1d8-885b",
       "previous": "f22be07e-81e3-11ee-91d3-0242ac120006-5-b9eb-96ca-95fb-628d-114a"
      }
     ],
     "next": "f22be330-81e3-11ee-91d3-0242ac120006-6-bc9f-2f64-2b20-d1d8-885b-1b81",
     "previous": "f22be07e-81e3-11ee-91d3-0242ac120006-6-b9eb-96ca-95fb-628d-114a-83e0"
    }
   },
   "source": [
    "## LVM情報取得関数定"
   ]
  },
  {
   "cell_type": "code",
   "execution_count": null,
   "metadata": {
    "hidden": true,
    "lc_cell_meme": {
     "current": "f22be330-81e3-11ee-91d3-0242ac120006-6-bc9f-2f64-2b20-d1d8-885b-1b81",
     "history": [
      {
       "current": "f22be330-81e3-11ee-91d3-0242ac120006",
       "next": "f22be3b2-81e3-11ee-91d3-0242ac120006",
       "previous": "f22be268-81e3-11ee-91d3-0242ac120006"
      },
      {
       "current": "f22be330-81e3-11ee-91d3-0242ac120006-1-bc9f",
       "next": "f22be3b2-81e3-11ee-91d3-0242ac120006-1-210b",
       "previous": "f22be268-81e3-11ee-91d3-0242ac120006-1-728b"
      },
      {
       "current": "f22be330-81e3-11ee-91d3-0242ac120006-2-bc9f-2f64",
       "next": "f22be3b2-81e3-11ee-91d3-0242ac120006-2-210b-fd97",
       "previous": "f22be268-81e3-11ee-91d3-0242ac120006-2-728b-027e"
      },
      {
       "current": "f22be330-81e3-11ee-91d3-0242ac120006-3-bc9f-2f64-2b20",
       "next": "f22be3b2-81e3-11ee-91d3-0242ac120006-3-210b-fd97-000b",
       "previous": "f22be268-81e3-11ee-91d3-0242ac120006-3-728b-027e-3a08"
      },
      {
       "current": "f22be330-81e3-11ee-91d3-0242ac120006-4-bc9f-2f64-2b20-d1d8",
       "next": "f22be3b2-81e3-11ee-91d3-0242ac120006-4-210b-fd97-000b-6a68",
       "previous": "f22be268-81e3-11ee-91d3-0242ac120006-4-728b-027e-3a08-9585"
      },
      {
       "current": "f22be330-81e3-11ee-91d3-0242ac120006-5-bc9f-2f64-2b20-d1d8-885b",
       "next": "f22be3b2-81e3-11ee-91d3-0242ac120006-5-210b-fd97-000b-6a68-e460",
       "previous": "f22be268-81e3-11ee-91d3-0242ac120006-5-728b-027e-3a08-9585-c063"
      },
      {
       "current": "f22be330-81e3-11ee-91d3-0242ac120006-6-bc9f-2f64-2b20-d1d8-885b-1b81",
       "next": "f22be3b2-81e3-11ee-91d3-0242ac120006-6-210b-fd97-000b-6a68-e460-3d56",
       "previous": "f22be268-81e3-11ee-91d3-0242ac120006-6-728b-027e-3a08-9585-c063-31e5"
      }
     ],
     "next": "f22be3b2-81e3-11ee-91d3-0242ac120006-7-210b-fd97-000b-6a68-e460-3d56-cce7",
     "previous": "f22be268-81e3-11ee-91d3-0242ac120006-7-728b-027e-3a08-9585-c063-31e5-3044"
    }
   },
   "outputs": [],
   "source": [
    "import re\n",
    "\n",
    "def make_pv_info_list(ret):\n",
    "    ret.pop(0)\n",
    "    pv_info_list = []\n",
    "    pv_info = None\n",
    "    for line in ret:\n",
    "        if re.search('Physical volume', line) is not None:\n",
    "            pv_info = {}\n",
    "        elif re.search('PV Name', line) is not None:\n",
    "            elems = re.sub('PV Name','',line).split()\n",
    "            pv_info['pv_name'] = elems[0]\n",
    "        elif re.search('VG Name', line) is not None:\n",
    "            elems = re.sub('VG Name','',line).split()\n",
    "            pv_info['vg_name'] = elems[0]\n",
    "        elif re.search('PV Size', line) is not None:\n",
    "            elems = re.sub('PV Size','',line).split()\n",
    "            pv_info['pv_size'] = elems[0]\n",
    "            pv_info_list.append(pv_info)\n",
    "\n",
    "    return pv_info_list\n",
    "\n",
    "def make_lv_info_list(ret, pv_info_map):\n",
    "    lv_info_list = []\n",
    "    lv_info = None\n",
    "    for line in ret:\n",
    "        if re.search('Logical volume', line) is not None:\n",
    "            lv_info = {}\n",
    "        elif re.search('LV Path', line) is not None:\n",
    "            elems = re.sub('LV Path','',line).split()\n",
    "            lv_info['lv_path'] = elems[0]\n",
    "        elif re.search('LV Name', line) is not None:\n",
    "            elems = re.sub('LV Name','',line).split()\n",
    "            lv_info['lv_name'] = elems[0]\n",
    "        elif re.search('VG Name', line) is not None:\n",
    "            elems = re.sub('VG Name','',line).split()\n",
    "            lv_info['vg_name'] = elems[0]\n",
    "            lv_info['pv_name'] = pv_info_map.get(lv_info['vg_name'],None)\n",
    "        elif re.search('Block device', line) is not None:\n",
    "            elems = re.sub('Block device','',line).split()\n",
    "            lv_info['block_dev'] = elems[0]\n",
    "            dev_elems = lv_info['block_dev'].split(':')\n",
    "            dev_name = \"dm-{}\".format(dev_elems[1])\n",
    "            lv_info['dev_name'] = dev_name\n",
    "            lv_info_list.append(lv_info)\n",
    "            \n",
    "    return lv_info_list"
   ]
  },
  {
   "cell_type": "markdown",
   "metadata": {
    "heading_collapsed": true,
    "lc_cell_meme": {
     "current": "f22be3b2-81e3-11ee-91d3-0242ac120006-7-210b-fd97-000b-6a68-e460-3d56-cce7",
     "history": [
      {
       "current": "f22be3b2-81e3-11ee-91d3-0242ac120006-1-210b",
       "next": "f22be434-81e3-11ee-91d3-0242ac120006",
       "previous": "f22be330-81e3-11ee-91d3-0242ac120006"
      },
      {
       "current": "f22be3b2-81e3-11ee-91d3-0242ac120006-2-210b-fd97",
       "next": "39bc8e5c-81e4-11ee-91d3-0242ac120006",
       "previous": "f22be330-81e3-11ee-91d3-0242ac120006"
      },
      {
       "current": "f22be3b2-81e3-11ee-91d3-0242ac120006-3-210b-fd97-000b",
       "next": "39bc8e5c-81e4-11ee-91d3-0242ac120006-1-0a44",
       "previous": "f22be330-81e3-11ee-91d3-0242ac120006-1-bc9f"
      },
      {
       "current": "f22be3b2-81e3-11ee-91d3-0242ac120006-4-210b-fd97-000b-6a68",
       "next": "39bc8e5c-81e4-11ee-91d3-0242ac120006-2-0a44-dcd3",
       "previous": "f22be330-81e3-11ee-91d3-0242ac120006-2-bc9f-2f64"
      },
      {
       "current": "f22be3b2-81e3-11ee-91d3-0242ac120006-5-210b-fd97-000b-6a68-e460",
       "next": "39bc8e5c-81e4-11ee-91d3-0242ac120006-3-0a44-dcd3-baf5",
       "previous": "f22be330-81e3-11ee-91d3-0242ac120006-3-bc9f-2f64-2b20"
      },
      {
       "current": "f22be3b2-81e3-11ee-91d3-0242ac120006-6-210b-fd97-000b-6a68-e460-3d56",
       "next": "39bc8e5c-81e4-11ee-91d3-0242ac120006-4-0a44-dcd3-baf5-37d9",
       "previous": "f22be330-81e3-11ee-91d3-0242ac120006-4-bc9f-2f64-2b20-d1d8"
      },
      {
       "current": "f22be3b2-81e3-11ee-91d3-0242ac120006-7-210b-fd97-000b-6a68-e460-3d56-cce7",
       "next": "39bc8e5c-81e4-11ee-91d3-0242ac120006-5-0a44-dcd3-baf5-37d9-0cba",
       "previous": "f22be330-81e3-11ee-91d3-0242ac120006-5-bc9f-2f64-2b20-d1d8-885b"
      }
     ],
     "next": "39bc8e5c-81e4-11ee-91d3-0242ac120006-6-0a44-dcd3-baf5-37d9-0cba-43d7",
     "previous": "f22be330-81e3-11ee-91d3-0242ac120006-6-bc9f-2f64-2b20-d1d8-885b-1b81"
    }
   },
   "source": [
    "## PV情報取得"
   ]
  },
  {
   "cell_type": "code",
   "execution_count": null,
   "metadata": {
    "hidden": true,
    "lc_cell_meme": {
     "current": "39bc8e5c-81e4-11ee-91d3-0242ac120006-6-0a44-dcd3-baf5-37d9-0cba-43d7",
     "history": [
      {
       "current": "39bc8e5c-81e4-11ee-91d3-0242ac120006-1-0a44",
       "next": "39bc9064-81e4-11ee-91d3-0242ac120006",
       "previous": "f22be3b2-81e3-11ee-91d3-0242ac120006-1-210b"
      },
      {
       "current": "39bc8e5c-81e4-11ee-91d3-0242ac120006-2-0a44-dcd3",
       "next": "39bc9064-81e4-11ee-91d3-0242ac120006-1-275c",
       "previous": "f22be3b2-81e3-11ee-91d3-0242ac120006-2-210b-fd97"
      },
      {
       "current": "39bc8e5c-81e4-11ee-91d3-0242ac120006-3-0a44-dcd3-baf5",
       "next": "39bc9064-81e4-11ee-91d3-0242ac120006-2-275c-632b",
       "previous": "f22be3b2-81e3-11ee-91d3-0242ac120006-3-210b-fd97-000b"
      },
      {
       "current": "39bc8e5c-81e4-11ee-91d3-0242ac120006-4-0a44-dcd3-baf5-37d9",
       "next": "39bc9064-81e4-11ee-91d3-0242ac120006-3-275c-632b-f2c9",
       "previous": "f22be3b2-81e3-11ee-91d3-0242ac120006-4-210b-fd97-000b-6a68"
      },
      {
       "current": "39bc8e5c-81e4-11ee-91d3-0242ac120006-5-0a44-dcd3-baf5-37d9-0cba",
       "next": "39bc9064-81e4-11ee-91d3-0242ac120006-4-275c-632b-f2c9-8b2a",
       "previous": "f22be3b2-81e3-11ee-91d3-0242ac120006-5-210b-fd97-000b-6a68-e460"
      },
      {
       "current": "39bc8e5c-81e4-11ee-91d3-0242ac120006-6-0a44-dcd3-baf5-37d9-0cba-43d7",
       "next": "39bc9064-81e4-11ee-91d3-0242ac120006-5-275c-632b-f2c9-8b2a-090c",
       "previous": "f22be3b2-81e3-11ee-91d3-0242ac120006-6-210b-fd97-000b-6a68-e460-3d56"
      }
     ],
     "next": "39bc9064-81e4-11ee-91d3-0242ac120006-6-275c-632b-f2c9-8b2a-090c-3473",
     "previous": "f22be3b2-81e3-11ee-91d3-0242ac120006-7-210b-fd97-000b-6a68-e460-3d56-cce7"
    }
   },
   "outputs": [],
   "source": [
    "# get PV Info\n",
    "ret = !ansible -i $hosts -b -m shell -a 'pvdisplay' ceph_node\n",
    "pv_info_list = make_pv_info_list(ret)\n",
    "\n",
    "pv_info_map = {}\n",
    "for pv_info in pv_info_list:\n",
    "    vg_name = pv_info['vg_name']\n",
    "    pv_info_map[vg_name] = pv_info['pv_name']    \n",
    "    \n",
    "# get PV Info\n",
    "ret = !ansible -i $hosts -b -m shell -a 'lvdisplay' ceph_node\n",
    "lv_info_list = make_lv_info_list(ret,pv_info_map)\n",
    "\n"
   ]
  },
  {
   "cell_type": "code",
   "execution_count": null,
   "metadata": {
    "hidden": true,
    "lc_cell_meme": {
     "current": "39bc9064-81e4-11ee-91d3-0242ac120006-6-275c-632b-f2c9-8b2a-090c-3473",
     "history": [
      {
       "current": "39bc9064-81e4-11ee-91d3-0242ac120006-1-275c",
       "next": "39bc910e-81e4-11ee-91d3-0242ac120006",
       "previous": "39bc8e5c-81e4-11ee-91d3-0242ac120006"
      },
      {
       "current": "39bc9064-81e4-11ee-91d3-0242ac120006-2-275c-632b",
       "next": "39bc910e-81e4-11ee-91d3-0242ac120006-1-f828",
       "previous": "39bc8e5c-81e4-11ee-91d3-0242ac120006-1-0a44"
      },
      {
       "current": "39bc9064-81e4-11ee-91d3-0242ac120006-3-275c-632b-f2c9",
       "next": "39bc910e-81e4-11ee-91d3-0242ac120006-2-f828-2b0f",
       "previous": "39bc8e5c-81e4-11ee-91d3-0242ac120006-2-0a44-dcd3"
      },
      {
       "current": "39bc9064-81e4-11ee-91d3-0242ac120006-4-275c-632b-f2c9-8b2a",
       "next": "39bc910e-81e4-11ee-91d3-0242ac120006-3-f828-2b0f-a2be",
       "previous": "39bc8e5c-81e4-11ee-91d3-0242ac120006-3-0a44-dcd3-baf5"
      },
      {
       "current": "39bc9064-81e4-11ee-91d3-0242ac120006-5-275c-632b-f2c9-8b2a-090c",
       "next": "39bc910e-81e4-11ee-91d3-0242ac120006-4-f828-2b0f-a2be-d9af",
       "previous": "39bc8e5c-81e4-11ee-91d3-0242ac120006-4-0a44-dcd3-baf5-37d9"
      },
      {
       "current": "39bc9064-81e4-11ee-91d3-0242ac120006-6-275c-632b-f2c9-8b2a-090c-3473",
       "next": "39bc910e-81e4-11ee-91d3-0242ac120006-5-f828-2b0f-a2be-d9af-09e6",
       "previous": "39bc8e5c-81e4-11ee-91d3-0242ac120006-5-0a44-dcd3-baf5-37d9-0cba"
      }
     ],
     "next": "39bc910e-81e4-11ee-91d3-0242ac120006-6-f828-2b0f-a2be-d9af-09e6-16be",
     "previous": "39bc8e5c-81e4-11ee-91d3-0242ac120006-6-0a44-dcd3-baf5-37d9-0cba-43d7"
    }
   },
   "outputs": [],
   "source": [
    "pd.DataFrame(pv_info_list)"
   ]
  },
  {
   "cell_type": "code",
   "execution_count": null,
   "metadata": {
    "hidden": true,
    "lc_cell_meme": {
     "current": "39bc910e-81e4-11ee-91d3-0242ac120006-6-f828-2b0f-a2be-d9af-09e6-16be",
     "history": [
      {
       "current": "39bc910e-81e4-11ee-91d3-0242ac120006-1-f828",
       "next": "39bc9190-81e4-11ee-91d3-0242ac120006",
       "previous": "39bc9064-81e4-11ee-91d3-0242ac120006"
      },
      {
       "current": "39bc910e-81e4-11ee-91d3-0242ac120006-2-f828-2b0f",
       "next": "39bc9190-81e4-11ee-91d3-0242ac120006-1-bec8",
       "previous": "39bc9064-81e4-11ee-91d3-0242ac120006-1-275c"
      },
      {
       "current": "39bc910e-81e4-11ee-91d3-0242ac120006-3-f828-2b0f-a2be",
       "next": "39bc9190-81e4-11ee-91d3-0242ac120006-2-bec8-ee45",
       "previous": "39bc9064-81e4-11ee-91d3-0242ac120006-2-275c-632b"
      },
      {
       "current": "39bc910e-81e4-11ee-91d3-0242ac120006-4-f828-2b0f-a2be-d9af",
       "next": "39bc9190-81e4-11ee-91d3-0242ac120006-3-bec8-ee45-bf18",
       "previous": "39bc9064-81e4-11ee-91d3-0242ac120006-3-275c-632b-f2c9"
      },
      {
       "current": "39bc910e-81e4-11ee-91d3-0242ac120006-5-f828-2b0f-a2be-d9af-09e6",
       "next": "39bc9190-81e4-11ee-91d3-0242ac120006-4-bec8-ee45-bf18-d827",
       "previous": "39bc9064-81e4-11ee-91d3-0242ac120006-4-275c-632b-f2c9-8b2a"
      },
      {
       "current": "39bc910e-81e4-11ee-91d3-0242ac120006-6-f828-2b0f-a2be-d9af-09e6-16be",
       "next": "39bc9190-81e4-11ee-91d3-0242ac120006-5-bec8-ee45-bf18-d827-b1cd",
       "previous": "39bc9064-81e4-11ee-91d3-0242ac120006-5-275c-632b-f2c9-8b2a-090c"
      }
     ],
     "next": "39bc9190-81e4-11ee-91d3-0242ac120006-6-bec8-ee45-bf18-d827-b1cd-e10a",
     "previous": "39bc9064-81e4-11ee-91d3-0242ac120006-6-275c-632b-f2c9-8b2a-090c-3473"
    }
   },
   "outputs": [],
   "source": [
    "pd.DataFrame(lv_info_list)"
   ]
  },
  {
   "cell_type": "code",
   "execution_count": null,
   "metadata": {
    "hidden": true,
    "lc_cell_meme": {
     "current": "39bc9190-81e4-11ee-91d3-0242ac120006-6-bec8-ee45-bf18-d827-b1cd-e10a",
     "history": [
      {
       "current": "39bc9190-81e4-11ee-91d3-0242ac120006",
       "next": "39bc91fe-81e4-11ee-91d3-0242ac120006",
       "previous": "39bc910e-81e4-11ee-91d3-0242ac120006"
      },
      {
       "current": "39bc9190-81e4-11ee-91d3-0242ac120006",
       "next": "79af6e92-81fa-11ee-91d3-0242ac120006",
       "previous": "39bc910e-81e4-11ee-91d3-0242ac120006"
      },
      {
       "current": "39bc9190-81e4-11ee-91d3-0242ac120006-1-bec8",
       "next": "feb0f914-81fd-11ee-91d3-0242ac120006",
       "previous": "39bc910e-81e4-11ee-91d3-0242ac120006"
      },
      {
       "current": "39bc9190-81e4-11ee-91d3-0242ac120006-2-bec8-ee45",
       "next": "feb0f914-81fd-11ee-91d3-0242ac120006-1-5508",
       "previous": "39bc910e-81e4-11ee-91d3-0242ac120006-1-f828"
      },
      {
       "current": "39bc9190-81e4-11ee-91d3-0242ac120006-3-bec8-ee45-bf18",
       "next": "feb0f914-81fd-11ee-91d3-0242ac120006-2-5508-64ce",
       "previous": "39bc910e-81e4-11ee-91d3-0242ac120006-2-f828-2b0f"
      },
      {
       "current": "39bc9190-81e4-11ee-91d3-0242ac120006-4-bec8-ee45-bf18-d827",
       "next": "feb0f914-81fd-11ee-91d3-0242ac120006-3-5508-64ce-f035",
       "previous": "39bc910e-81e4-11ee-91d3-0242ac120006-3-f828-2b0f-a2be"
      },
      {
       "current": "39bc9190-81e4-11ee-91d3-0242ac120006-5-bec8-ee45-bf18-d827-b1cd",
       "next": "feb0f914-81fd-11ee-91d3-0242ac120006-4-5508-64ce-f035-f0d8",
       "previous": "39bc910e-81e4-11ee-91d3-0242ac120006-4-f828-2b0f-a2be-d9af"
      },
      {
       "current": "39bc9190-81e4-11ee-91d3-0242ac120006-6-bec8-ee45-bf18-d827-b1cd-e10a",
       "next": "feb0f914-81fd-11ee-91d3-0242ac120006-5-5508-64ce-f035-f0d8-c7b4",
       "previous": "39bc910e-81e4-11ee-91d3-0242ac120006-5-f828-2b0f-a2be-d9af-09e6"
      }
     ],
     "next": "feb0f914-81fd-11ee-91d3-0242ac120006-6-5508-64ce-f035-f0d8-c7b4-63d6",
     "previous": "39bc910e-81e4-11ee-91d3-0242ac120006-6-f828-2b0f-a2be-d9af-09e6-16be"
    }
   },
   "outputs": [],
   "source": [
    "db_lv_info_list = []\n",
    "data_lv_info_list = []\n",
    "for lv_info in lv_info_list:\n",
    "    vg_name = lv_info['vg_name']\n",
    "    if vg_name == 'vg_db':\n",
    "        db_lv_info_list.append(lv_info)\n",
    "        lv_name = lv_info['lv_name']\n",
    "        lv_id = lv_name.replace('lv_db','')\n",
    "        lv_info['lv_id'] = int(lv_id)\n",
    "    elif 'vg_data_' in vg_name:\n",
    "        data_lv_info_list.append(lv_info)\n",
    "        lv_name = lv_info['lv_name']\n",
    "        lv_id = lv_name.replace('lv_data_','')\n",
    "        lv_info['lv_id'] = int(lv_id)\n"
   ]
  },
  {
   "cell_type": "code",
   "execution_count": null,
   "metadata": {
    "hidden": true,
    "lc_cell_meme": {
     "current": "feb0f914-81fd-11ee-91d3-0242ac120006-6-5508-64ce-f035-f0d8-c7b4-63d6",
     "history": [
      {
       "current": "feb0f914-81fd-11ee-91d3-0242ac120006-1-5508",
       "next": "feb0f9fa-81fd-11ee-91d3-0242ac120006",
       "previous": "39bc9190-81e4-11ee-91d3-0242ac120006"
      },
      {
       "current": "feb0f914-81fd-11ee-91d3-0242ac120006-2-5508-64ce",
       "next": "feb0f9fa-81fd-11ee-91d3-0242ac120006-1-0f12",
       "previous": "39bc9190-81e4-11ee-91d3-0242ac120006-1-bec8"
      },
      {
       "current": "feb0f914-81fd-11ee-91d3-0242ac120006-3-5508-64ce-f035",
       "next": "feb0f9fa-81fd-11ee-91d3-0242ac120006-2-0f12-8e78",
       "previous": "39bc9190-81e4-11ee-91d3-0242ac120006-2-bec8-ee45"
      },
      {
       "current": "feb0f914-81fd-11ee-91d3-0242ac120006-4-5508-64ce-f035-f0d8",
       "next": "feb0f9fa-81fd-11ee-91d3-0242ac120006-3-0f12-8e78-7455",
       "previous": "39bc9190-81e4-11ee-91d3-0242ac120006-3-bec8-ee45-bf18"
      },
      {
       "current": "feb0f914-81fd-11ee-91d3-0242ac120006-5-5508-64ce-f035-f0d8-c7b4",
       "next": "feb0f9fa-81fd-11ee-91d3-0242ac120006-4-0f12-8e78-7455-f2f4",
       "previous": "39bc9190-81e4-11ee-91d3-0242ac120006-4-bec8-ee45-bf18-d827"
      },
      {
       "current": "feb0f914-81fd-11ee-91d3-0242ac120006-6-5508-64ce-f035-f0d8-c7b4-63d6",
       "next": "feb0f9fa-81fd-11ee-91d3-0242ac120006-5-0f12-8e78-7455-f2f4-7dda",
       "previous": "39bc9190-81e4-11ee-91d3-0242ac120006-5-bec8-ee45-bf18-d827-b1cd"
      }
     ],
     "next": "feb0f9fa-81fd-11ee-91d3-0242ac120006-6-0f12-8e78-7455-f2f4-7dda-d13c",
     "previous": "39bc9190-81e4-11ee-91d3-0242ac120006-6-bec8-ee45-bf18-d827-b1cd-e10a"
    }
   },
   "outputs": [],
   "source": [
    "pd.DataFrame(db_lv_info_list)"
   ]
  },
  {
   "cell_type": "code",
   "execution_count": null,
   "metadata": {
    "hidden": true,
    "lc_cell_meme": {
     "current": "feb0f9fa-81fd-11ee-91d3-0242ac120006-6-0f12-8e78-7455-f2f4-7dda-d13c",
     "history": [
      {
       "current": "feb0f9fa-81fd-11ee-91d3-0242ac120006-1-0f12",
       "next": "79af6e92-81fa-11ee-91d3-0242ac120006",
       "previous": "feb0f914-81fd-11ee-91d3-0242ac120006"
      },
      {
       "current": "feb0f9fa-81fd-11ee-91d3-0242ac120006-2-0f12-8e78",
       "next": "79af6e92-81fa-11ee-91d3-0242ac120006-1-71ea",
       "previous": "feb0f914-81fd-11ee-91d3-0242ac120006-1-5508"
      },
      {
       "current": "feb0f9fa-81fd-11ee-91d3-0242ac120006-3-0f12-8e78-7455",
       "next": "79af6e92-81fa-11ee-91d3-0242ac120006-2-71ea-63dd",
       "previous": "feb0f914-81fd-11ee-91d3-0242ac120006-2-5508-64ce"
      },
      {
       "current": "feb0f9fa-81fd-11ee-91d3-0242ac120006-4-0f12-8e78-7455-f2f4",
       "next": "79af6e92-81fa-11ee-91d3-0242ac120006-3-71ea-63dd-a1ad",
       "previous": "feb0f914-81fd-11ee-91d3-0242ac120006-3-5508-64ce-f035"
      },
      {
       "current": "feb0f9fa-81fd-11ee-91d3-0242ac120006-5-0f12-8e78-7455-f2f4-7dda",
       "next": "79af6e92-81fa-11ee-91d3-0242ac120006-4-71ea-63dd-a1ad-b18a",
       "previous": "feb0f914-81fd-11ee-91d3-0242ac120006-4-5508-64ce-f035-f0d8"
      },
      {
       "current": "feb0f9fa-81fd-11ee-91d3-0242ac120006-6-0f12-8e78-7455-f2f4-7dda-d13c",
       "next": "79af6e92-81fa-11ee-91d3-0242ac120006-5-71ea-63dd-a1ad-b18a-c1c4",
       "previous": "feb0f914-81fd-11ee-91d3-0242ac120006-5-5508-64ce-f035-f0d8-c7b4"
      }
     ],
     "next": "79af6e92-81fa-11ee-91d3-0242ac120006-6-71ea-63dd-a1ad-b18a-c1c4-38ee",
     "previous": "feb0f914-81fd-11ee-91d3-0242ac120006-6-5508-64ce-f035-f0d8-c7b4-63d6"
    }
   },
   "outputs": [],
   "source": [
    "pd.DataFrame(data_lv_info_list)"
   ]
  },
  {
   "cell_type": "markdown",
   "metadata": {
    "lc_cell_meme": {
     "current": "79af6e92-81fa-11ee-91d3-0242ac120006-6-71ea-63dd-a1ad-b18a-c1c4-38ee",
     "history": [
      {
       "current": "79af6e92-81fa-11ee-91d3-0242ac120006",
       "next": "79af704a-81fa-11ee-91d3-0242ac120006",
       "previous": "39bc9190-81e4-11ee-91d3-0242ac120006"
      },
      {
       "current": "79af6e92-81fa-11ee-91d3-0242ac120006",
       "next": "79af704a-81fa-11ee-91d3-0242ac120006-1-93c1",
       "previous": "39bc9190-81e4-11ee-91d3-0242ac120006"
      },
      {
       "current": "79af6e92-81fa-11ee-91d3-0242ac120006-1-71ea",
       "next": "79af704a-81fa-11ee-91d3-0242ac120006-1-93c1",
       "previous": "feb0f9fa-81fd-11ee-91d3-0242ac120006"
      },
      {
       "current": "79af6e92-81fa-11ee-91d3-0242ac120006-2-71ea-63dd",
       "next": "79af704a-81fa-11ee-91d3-0242ac120006-2-93c1-5e22",
       "previous": "feb0f9fa-81fd-11ee-91d3-0242ac120006-1-0f12"
      },
      {
       "current": "79af6e92-81fa-11ee-91d3-0242ac120006-3-71ea-63dd-a1ad",
       "next": "79af704a-81fa-11ee-91d3-0242ac120006-3-93c1-5e22-39b9",
       "previous": "feb0f9fa-81fd-11ee-91d3-0242ac120006-2-0f12-8e78"
      },
      {
       "current": "79af6e92-81fa-11ee-91d3-0242ac120006-4-71ea-63dd-a1ad-b18a",
       "next": "79af704a-81fa-11ee-91d3-0242ac120006-4-93c1-5e22-39b9-6ecb",
       "previous": "feb0f9fa-81fd-11ee-91d3-0242ac120006-3-0f12-8e78-7455"
      },
      {
       "current": "79af6e92-81fa-11ee-91d3-0242ac120006-5-71ea-63dd-a1ad-b18a-c1c4",
       "next": "79af704a-81fa-11ee-91d3-0242ac120006-5-93c1-5e22-39b9-6ecb-f5c7",
       "previous": "feb0f9fa-81fd-11ee-91d3-0242ac120006-4-0f12-8e78-7455-f2f4"
      },
      {
       "current": "79af6e92-81fa-11ee-91d3-0242ac120006-6-71ea-63dd-a1ad-b18a-c1c4-38ee",
       "next": "79af704a-81fa-11ee-91d3-0242ac120006-6-93c1-5e22-39b9-6ecb-f5c7-1431",
       "previous": "feb0f9fa-81fd-11ee-91d3-0242ac120006-5-0f12-8e78-7455-f2f4-7dda"
      }
     ],
     "next": "79af704a-81fa-11ee-91d3-0242ac120006-7-93c1-5e22-39b9-6ecb-f5c7-1431-c661",
     "previous": "feb0f9fa-81fd-11ee-91d3-0242ac120006-6-0f12-8e78-7455-f2f4-7dda-d13c"
    }
   },
   "source": [
    "# 未使用状態のLVを特定"
   ]
  },
  {
   "cell_type": "markdown",
   "metadata": {
    "lc_cell_meme": {
     "current": "79af704a-81fa-11ee-91d3-0242ac120006-7-93c1-5e22-39b9-6ecb-f5c7-1431-c661",
     "history": [
      {
       "current": "79af704a-81fa-11ee-91d3-0242ac120006-2-93c1-5e22",
       "next": "79af70f4-81fa-11ee-91d3-0242ac120006",
       "previous": "79af6e92-81fa-11ee-91d3-0242ac120006"
      },
      {
       "current": "79af704a-81fa-11ee-91d3-0242ac120006-3-93c1-5e22-39b9",
       "next": "79af70f4-81fa-11ee-91d3-0242ac120006-1-592a",
       "previous": "79af6e92-81fa-11ee-91d3-0242ac120006-1-71ea"
      },
      {
       "current": "79af704a-81fa-11ee-91d3-0242ac120006-4-93c1-5e22-39b9-6ecb",
       "next": "79af70f4-81fa-11ee-91d3-0242ac120006-2-592a-b399",
       "previous": "79af6e92-81fa-11ee-91d3-0242ac120006-2-71ea-63dd"
      },
      {
       "current": "79af704a-81fa-11ee-91d3-0242ac120006-5-93c1-5e22-39b9-6ecb-f5c7",
       "next": "79af70f4-81fa-11ee-91d3-0242ac120006-3-592a-b399-8ab2",
       "previous": "79af6e92-81fa-11ee-91d3-0242ac120006-3-71ea-63dd-a1ad"
      },
      {
       "current": "79af704a-81fa-11ee-91d3-0242ac120006-6-93c1-5e22-39b9-6ecb-f5c7-1431",
       "next": "79af70f4-81fa-11ee-91d3-0242ac120006-4-592a-b399-8ab2-18f1",
       "previous": "79af6e92-81fa-11ee-91d3-0242ac120006-4-71ea-63dd-a1ad-b18a"
      },
      {
       "current": "79af704a-81fa-11ee-91d3-0242ac120006-7-93c1-5e22-39b9-6ecb-f5c7-1431-c661",
       "next": "79af70f4-81fa-11ee-91d3-0242ac120006-5-592a-b399-8ab2-18f1-1e5e",
       "previous": "79af6e92-81fa-11ee-91d3-0242ac120006-5-71ea-63dd-a1ad-b18a-c1c4"
      }
     ],
     "next": "79af70f4-81fa-11ee-91d3-0242ac120006-6-592a-b399-8ab2-18f1-1e5e-77fa",
     "previous": "79af6e92-81fa-11ee-91d3-0242ac120006-6-71ea-63dd-a1ad-b18a-c1c4-38ee"
    }
   },
   "source": [
    "## 対象OSDの詳細情報取得"
   ]
  },
  {
   "cell_type": "code",
   "execution_count": null,
   "metadata": {
    "lc_cell_meme": {
     "current": "79af70f4-81fa-11ee-91d3-0242ac120006-6-592a-b399-8ab2-18f1-1e5e-77fa",
     "history": [
      {
       "current": "79af70f4-81fa-11ee-91d3-0242ac120006",
       "next": "79af7176-81fa-11ee-91d3-0242ac120006",
       "previous": "79af704a-81fa-11ee-91d3-0242ac120006"
      },
      {
       "current": "79af70f4-81fa-11ee-91d3-0242ac120006-1-592a",
       "next": "c26b72f6-81fb-11ee-91d3-0242ac120006",
       "previous": "79af704a-81fa-11ee-91d3-0242ac120006-1-93c1"
      },
      {
       "current": "79af70f4-81fa-11ee-91d3-0242ac120006-2-592a-b399",
       "next": "c26b72f6-81fb-11ee-91d3-0242ac120006-1-ff05",
       "previous": "79af704a-81fa-11ee-91d3-0242ac120006-2-93c1-5e22"
      },
      {
       "current": "79af70f4-81fa-11ee-91d3-0242ac120006-3-592a-b399-8ab2",
       "next": "c26b72f6-81fb-11ee-91d3-0242ac120006-2-ff05-da55",
       "previous": "79af704a-81fa-11ee-91d3-0242ac120006-3-93c1-5e22-39b9"
      },
      {
       "current": "79af70f4-81fa-11ee-91d3-0242ac120006-4-592a-b399-8ab2-18f1",
       "next": "c26b72f6-81fb-11ee-91d3-0242ac120006-3-ff05-da55-23c8",
       "previous": "79af704a-81fa-11ee-91d3-0242ac120006-4-93c1-5e22-39b9-6ecb"
      },
      {
       "current": "79af70f4-81fa-11ee-91d3-0242ac120006-5-592a-b399-8ab2-18f1-1e5e",
       "next": "c26b72f6-81fb-11ee-91d3-0242ac120006-4-ff05-da55-23c8-3ece",
       "previous": "79af704a-81fa-11ee-91d3-0242ac120006-5-93c1-5e22-39b9-6ecb-f5c7"
      },
      {
       "current": "79af70f4-81fa-11ee-91d3-0242ac120006-6-592a-b399-8ab2-18f1-1e5e-77fa",
       "next": "c26b72f6-81fb-11ee-91d3-0242ac120006-5-ff05-da55-23c8-3ece-a7ef",
       "previous": "79af704a-81fa-11ee-91d3-0242ac120006-6-93c1-5e22-39b9-6ecb-f5c7-1431"
      }
     ],
     "next": "c26b72f6-81fb-11ee-91d3-0242ac120006-6-ff05-da55-23c8-3ece-a7ef-d154",
     "previous": "79af704a-81fa-11ee-91d3-0242ac120006-7-93c1-5e22-39b9-6ecb-f5c7-1431-c661"
    }
   },
   "outputs": [],
   "source": [
    "ret = !ansible -i $hosts -b -m shell -a \"cephadm shell -- ceph osd metadata --format=json 2> /dev/null\" bootstrap"
   ]
  },
  {
   "cell_type": "code",
   "execution_count": null,
   "metadata": {
    "lc_cell_meme": {
     "current": "c26b72f6-81fb-11ee-91d3-0242ac120006-6-ff05-da55-23c8-3ece-a7ef-d154",
     "history": [
      {
       "current": "c26b72f6-81fb-11ee-91d3-0242ac120006-1-ff05",
       "next": "c26b74a4-81fb-11ee-91d3-0242ac120006",
       "previous": "79af70f4-81fa-11ee-91d3-0242ac120006"
      },
      {
       "current": "c26b72f6-81fb-11ee-91d3-0242ac120006-2-ff05-da55",
       "next": "c26b74a4-81fb-11ee-91d3-0242ac120006-1-bb90",
       "previous": "79af70f4-81fa-11ee-91d3-0242ac120006-1-592a"
      },
      {
       "current": "c26b72f6-81fb-11ee-91d3-0242ac120006-3-ff05-da55-23c8",
       "next": "c26b74a4-81fb-11ee-91d3-0242ac120006-2-bb90-4442",
       "previous": "79af70f4-81fa-11ee-91d3-0242ac120006-2-592a-b399"
      },
      {
       "current": "c26b72f6-81fb-11ee-91d3-0242ac120006-4-ff05-da55-23c8-3ece",
       "next": "c26b74a4-81fb-11ee-91d3-0242ac120006-3-bb90-4442-8ad3",
       "previous": "79af70f4-81fa-11ee-91d3-0242ac120006-3-592a-b399-8ab2"
      },
      {
       "current": "c26b72f6-81fb-11ee-91d3-0242ac120006-5-ff05-da55-23c8-3ece-a7ef",
       "next": "c26b74a4-81fb-11ee-91d3-0242ac120006-4-bb90-4442-8ad3-177b",
       "previous": "79af70f4-81fa-11ee-91d3-0242ac120006-4-592a-b399-8ab2-18f1"
      },
      {
       "current": "c26b72f6-81fb-11ee-91d3-0242ac120006-6-ff05-da55-23c8-3ece-a7ef-d154",
       "next": "c26b74a4-81fb-11ee-91d3-0242ac120006-5-bb90-4442-8ad3-177b-952e",
       "previous": "79af70f4-81fa-11ee-91d3-0242ac120006-5-592a-b399-8ab2-18f1-1e5e"
      }
     ],
     "next": "c26b74a4-81fb-11ee-91d3-0242ac120006-6-bb90-4442-8ad3-177b-952e-d552",
     "previous": "79af70f4-81fa-11ee-91d3-0242ac120006-6-592a-b399-8ab2-18f1-1e5e-77fa"
    },
    "scrolled": true
   },
   "outputs": [],
   "source": [
    "osd_metadata_list = json.loads(ret[2])\n",
    "print(json.dumps(osd_metadata_list, indent=2))"
   ]
  },
  {
   "cell_type": "code",
   "execution_count": null,
   "metadata": {
    "lc_cell_meme": {
     "current": "c26b74a4-81fb-11ee-91d3-0242ac120006-6-bb90-4442-8ad3-177b-952e-d552",
     "history": [
      {
       "current": "c26b74a4-81fb-11ee-91d3-0242ac120006-1-bb90",
       "next": "c26b7544-81fb-11ee-91d3-0242ac120006",
       "previous": "c26b72f6-81fb-11ee-91d3-0242ac120006"
      },
      {
       "current": "c26b74a4-81fb-11ee-91d3-0242ac120006-2-bb90-4442",
       "next": "c26b7544-81fb-11ee-91d3-0242ac120006-1-817e",
       "previous": "c26b72f6-81fb-11ee-91d3-0242ac120006-1-ff05"
      },
      {
       "current": "c26b74a4-81fb-11ee-91d3-0242ac120006-3-bb90-4442-8ad3",
       "next": "c26b7544-81fb-11ee-91d3-0242ac120006-2-817e-f037",
       "previous": "c26b72f6-81fb-11ee-91d3-0242ac120006-2-ff05-da55"
      },
      {
       "current": "c26b74a4-81fb-11ee-91d3-0242ac120006-4-bb90-4442-8ad3-177b",
       "next": "c26b7544-81fb-11ee-91d3-0242ac120006-3-817e-f037-1704",
       "previous": "c26b72f6-81fb-11ee-91d3-0242ac120006-3-ff05-da55-23c8"
      },
      {
       "current": "c26b74a4-81fb-11ee-91d3-0242ac120006-5-bb90-4442-8ad3-177b-952e",
       "next": "c26b7544-81fb-11ee-91d3-0242ac120006-4-817e-f037-1704-6508",
       "previous": "c26b72f6-81fb-11ee-91d3-0242ac120006-4-ff05-da55-23c8-3ece"
      },
      {
       "current": "c26b74a4-81fb-11ee-91d3-0242ac120006-6-bb90-4442-8ad3-177b-952e-d552",
       "next": "c26b7544-81fb-11ee-91d3-0242ac120006-5-817e-f037-1704-6508-8e8c",
       "previous": "c26b72f6-81fb-11ee-91d3-0242ac120006-5-ff05-da55-23c8-3ece-a7ef"
      }
     ],
     "next": "c26b7544-81fb-11ee-91d3-0242ac120006-6-817e-f037-1704-6508-8e8c-500a",
     "previous": "c26b72f6-81fb-11ee-91d3-0242ac120006-6-ff05-da55-23c8-3ece-a7ef-d154"
    }
   },
   "outputs": [],
   "source": [
    "osd_strage_info_list = []\n",
    "for osd_metadata in osd_metadata_list:\n",
    "    hostname = osd_metadata['container_hostname']\n",
    "    if instance_name != hostname:\n",
    "        continue\n",
    "    osd_strage_info = {}\n",
    "    osd_strage_info['hostname'] = hostname\n",
    "    osd_strage_info['osd_id'] = osd_metadata['id']\n",
    "    osd_strage_info['bluefs_db_partition_path'] = osd_metadata['bluefs_db_partition_path']\n",
    "    osd_strage_info['bluefs_db_type'] = osd_metadata['bluefs_db_type']\n",
    "    osd_strage_info['bluestore_bdev_partition_path'] = osd_metadata['bluestore_bdev_partition_path']\n",
    "    osd_strage_info['bluestore_bdev_type'] = osd_metadata['bluestore_bdev_type']\n",
    "    osd_strage_info_list.append(osd_strage_info)"
   ]
  },
  {
   "cell_type": "code",
   "execution_count": null,
   "metadata": {
    "lc_cell_meme": {
     "current": "c26b7544-81fb-11ee-91d3-0242ac120006-6-817e-f037-1704-6508-8e8c-500a",
     "history": [
      {
       "current": "c26b7544-81fb-11ee-91d3-0242ac120006",
       "next": "c26b75bc-81fb-11ee-91d3-0242ac120006",
       "previous": "c26b74a4-81fb-11ee-91d3-0242ac120006"
      },
      {
       "current": "c26b7544-81fb-11ee-91d3-0242ac120006-1-817e",
       "next": "abdb20aa-81ff-11ee-91d3-0242ac120006",
       "previous": "c26b74a4-81fb-11ee-91d3-0242ac120006"
      },
      {
       "current": "c26b7544-81fb-11ee-91d3-0242ac120006-2-817e-f037",
       "next": "abdb20aa-81ff-11ee-91d3-0242ac120006-1-be51",
       "previous": "c26b74a4-81fb-11ee-91d3-0242ac120006-1-bb90"
      },
      {
       "current": "c26b7544-81fb-11ee-91d3-0242ac120006-3-817e-f037-1704",
       "next": "abdb20aa-81ff-11ee-91d3-0242ac120006-2-be51-67c7",
       "previous": "c26b74a4-81fb-11ee-91d3-0242ac120006-2-bb90-4442"
      },
      {
       "current": "c26b7544-81fb-11ee-91d3-0242ac120006-4-817e-f037-1704-6508",
       "next": "abdb20aa-81ff-11ee-91d3-0242ac120006-3-be51-67c7-ad47",
       "previous": "c26b74a4-81fb-11ee-91d3-0242ac120006-3-bb90-4442-8ad3"
      },
      {
       "current": "c26b7544-81fb-11ee-91d3-0242ac120006-5-817e-f037-1704-6508-8e8c",
       "next": "abdb20aa-81ff-11ee-91d3-0242ac120006-4-be51-67c7-ad47-8ffe",
       "previous": "c26b74a4-81fb-11ee-91d3-0242ac120006-4-bb90-4442-8ad3-177b"
      },
      {
       "current": "c26b7544-81fb-11ee-91d3-0242ac120006-6-817e-f037-1704-6508-8e8c-500a",
       "next": "abdb20aa-81ff-11ee-91d3-0242ac120006-5-be51-67c7-ad47-8ffe-cbeb",
       "previous": "c26b74a4-81fb-11ee-91d3-0242ac120006-5-bb90-4442-8ad3-177b-952e"
      }
     ],
     "next": "abdb20aa-81ff-11ee-91d3-0242ac120006-6-be51-67c7-ad47-8ffe-cbeb-bed7",
     "previous": "c26b74a4-81fb-11ee-91d3-0242ac120006-6-bb90-4442-8ad3-177b-952e-d552"
    }
   },
   "outputs": [],
   "source": [
    "pd.DataFrame(osd_strage_info_list)"
   ]
  },
  {
   "cell_type": "code",
   "execution_count": null,
   "metadata": {
    "lc_cell_meme": {
     "current": "abdb20aa-81ff-11ee-91d3-0242ac120006-6-be51-67c7-ad47-8ffe-cbeb-bed7",
     "history": [
      {
       "current": "abdb20aa-81ff-11ee-91d3-0242ac120006",
       "next": "c26b75bc-81fb-11ee-91d3-0242ac120006",
       "previous": "c26b7544-81fb-11ee-91d3-0242ac120006"
      },
      {
       "current": "abdb20aa-81ff-11ee-91d3-0242ac120006-1-be51",
       "next": "c9f77d94-8200-11ee-91d3-0242ac120006",
       "previous": "c26b7544-81fb-11ee-91d3-0242ac120006"
      },
      {
       "current": "abdb20aa-81ff-11ee-91d3-0242ac120006-2-be51-67c7",
       "next": "c9f77d94-8200-11ee-91d3-0242ac120006-1-90e6",
       "previous": "c26b7544-81fb-11ee-91d3-0242ac120006-1-817e"
      },
      {
       "current": "abdb20aa-81ff-11ee-91d3-0242ac120006-3-be51-67c7-ad47",
       "next": "c9f77d94-8200-11ee-91d3-0242ac120006-2-90e6-3c18",
       "previous": "c26b7544-81fb-11ee-91d3-0242ac120006-2-817e-f037"
      },
      {
       "current": "abdb20aa-81ff-11ee-91d3-0242ac120006-4-be51-67c7-ad47-8ffe",
       "next": "c9f77d94-8200-11ee-91d3-0242ac120006-3-90e6-3c18-6be7",
       "previous": "c26b7544-81fb-11ee-91d3-0242ac120006-3-817e-f037-1704"
      },
      {
       "current": "abdb20aa-81ff-11ee-91d3-0242ac120006-5-be51-67c7-ad47-8ffe-cbeb",
       "next": "c9f77d94-8200-11ee-91d3-0242ac120006-4-90e6-3c18-6be7-ed0f",
       "previous": "c26b7544-81fb-11ee-91d3-0242ac120006-4-817e-f037-1704-6508"
      },
      {
       "current": "abdb20aa-81ff-11ee-91d3-0242ac120006-6-be51-67c7-ad47-8ffe-cbeb-bed7",
       "next": "c9f77d94-8200-11ee-91d3-0242ac120006-5-90e6-3c18-6be7-ed0f-e24f",
       "previous": "c26b7544-81fb-11ee-91d3-0242ac120006-5-817e-f037-1704-6508-8e8c"
      }
     ],
     "next": "c9f77d94-8200-11ee-91d3-0242ac120006-6-90e6-3c18-6be7-ed0f-e24f-deaf",
     "previous": "c26b7544-81fb-11ee-91d3-0242ac120006-6-817e-f037-1704-6508-8e8c-500a"
    }
   },
   "outputs": [],
   "source": [
    "osd_db_path_map = {}\n",
    "osd_data_path_map = {}\n",
    "\n",
    "for osd_strage_info in osd_strage_info_list:\n",
    "    bluefs_db_partition_path = osd_strage_info['bluefs_db_partition_path']\n",
    "    bluestore_bdev_partition_path = osd_strage_info['bluestore_bdev_partition_path']\n",
    "    db_dev = bluefs_db_partition_path.replace('/dev/','')\n",
    "    data_dev = bluestore_bdev_partition_path.replace('/dev/','')\n",
    "    osd_db_path_map[db_dev] = osd_strage_info\n",
    "    osd_data_path_map[data_dev] = osd_strage_info"
   ]
  },
  {
   "cell_type": "code",
   "execution_count": null,
   "metadata": {
    "lc_cell_meme": {
     "current": "c9f77d94-8200-11ee-91d3-0242ac120006-6-90e6-3c18-6be7-ed0f-e24f-deaf",
     "history": [
      {
       "current": "c9f77d94-8200-11ee-91d3-0242ac120006-1-90e6",
       "next": "c26b75bc-81fb-11ee-91d3-0242ac120006",
       "previous": "abdb20aa-81ff-11ee-91d3-0242ac120006"
      },
      {
       "current": "c9f77d94-8200-11ee-91d3-0242ac120006-2-90e6-3c18",
       "next": "c26b75bc-81fb-11ee-91d3-0242ac120006-1-63f4",
       "previous": "abdb20aa-81ff-11ee-91d3-0242ac120006-1-be51"
      },
      {
       "current": "c9f77d94-8200-11ee-91d3-0242ac120006-3-90e6-3c18-6be7",
       "next": "c26b75bc-81fb-11ee-91d3-0242ac120006-2-63f4-a293",
       "previous": "abdb20aa-81ff-11ee-91d3-0242ac120006-2-be51-67c7"
      },
      {
       "current": "c9f77d94-8200-11ee-91d3-0242ac120006-4-90e6-3c18-6be7-ed0f",
       "next": "c26b75bc-81fb-11ee-91d3-0242ac120006-3-63f4-a293-14b0",
       "previous": "abdb20aa-81ff-11ee-91d3-0242ac120006-3-be51-67c7-ad47"
      },
      {
       "current": "c9f77d94-8200-11ee-91d3-0242ac120006-5-90e6-3c18-6be7-ed0f-e24f",
       "next": "c26b75bc-81fb-11ee-91d3-0242ac120006-4-63f4-a293-14b0-6693",
       "previous": "abdb20aa-81ff-11ee-91d3-0242ac120006-4-be51-67c7-ad47-8ffe"
      },
      {
       "current": "c9f77d94-8200-11ee-91d3-0242ac120006-6-90e6-3c18-6be7-ed0f-e24f-deaf",
       "next": "c26b75bc-81fb-11ee-91d3-0242ac120006-5-63f4-a293-14b0-6693-448d",
       "previous": "abdb20aa-81ff-11ee-91d3-0242ac120006-5-be51-67c7-ad47-8ffe-cbeb"
      }
     ],
     "next": "c26b75bc-81fb-11ee-91d3-0242ac120006-6-63f4-a293-14b0-6693-448d-4498",
     "previous": "abdb20aa-81ff-11ee-91d3-0242ac120006-6-be51-67c7-ad47-8ffe-cbeb-bed7"
    },
    "scrolled": true
   },
   "outputs": [],
   "source": [
    "print(json.dumps(osd_db_path_map, indent=2))\n",
    "print(json.dumps(osd_data_path_map, indent=2))\n"
   ]
  },
  {
   "cell_type": "code",
   "execution_count": null,
   "metadata": {
    "lc_cell_meme": {
     "current": "c26b75bc-81fb-11ee-91d3-0242ac120006-6-63f4-a293-14b0-6693-448d-4498",
     "history": [
      {
       "current": "c26b75bc-81fb-11ee-91d3-0242ac120006",
       "next": "c26b7620-81fb-11ee-91d3-0242ac120006",
       "previous": "c26b7544-81fb-11ee-91d3-0242ac120006"
      },
      {
       "current": "c26b75bc-81fb-11ee-91d3-0242ac120006",
       "next": "c26b7620-81fb-11ee-91d3-0242ac120006",
       "previous": "abdb20aa-81ff-11ee-91d3-0242ac120006"
      },
      {
       "current": "c26b75bc-81fb-11ee-91d3-0242ac120006-1-63f4",
       "next": "c26b7620-81fb-11ee-91d3-0242ac120006",
       "previous": "c9f77d94-8200-11ee-91d3-0242ac120006"
      },
      {
       "current": "c26b75bc-81fb-11ee-91d3-0242ac120006-2-63f4-a293",
       "next": "c26b7620-81fb-11ee-91d3-0242ac120006-1-4894",
       "previous": "c9f77d94-8200-11ee-91d3-0242ac120006-1-90e6"
      },
      {
       "current": "c26b75bc-81fb-11ee-91d3-0242ac120006-3-63f4-a293-14b0",
       "next": "c26b7620-81fb-11ee-91d3-0242ac120006-2-4894-dfc0",
       "previous": "c9f77d94-8200-11ee-91d3-0242ac120006-2-90e6-3c18"
      },
      {
       "current": "c26b75bc-81fb-11ee-91d3-0242ac120006-4-63f4-a293-14b0-6693",
       "next": "c26b7620-81fb-11ee-91d3-0242ac120006-3-4894-dfc0-e135",
       "previous": "c9f77d94-8200-11ee-91d3-0242ac120006-3-90e6-3c18-6be7"
      },
      {
       "current": "c26b75bc-81fb-11ee-91d3-0242ac120006-5-63f4-a293-14b0-6693-448d",
       "next": "c26b7620-81fb-11ee-91d3-0242ac120006-4-4894-dfc0-e135-d93f",
       "previous": "c9f77d94-8200-11ee-91d3-0242ac120006-4-90e6-3c18-6be7-ed0f"
      },
      {
       "current": "c26b75bc-81fb-11ee-91d3-0242ac120006-6-63f4-a293-14b0-6693-448d-4498",
       "next": "c26b7620-81fb-11ee-91d3-0242ac120006-5-4894-dfc0-e135-d93f-b9bb",
       "previous": "c9f77d94-8200-11ee-91d3-0242ac120006-5-90e6-3c18-6be7-ed0f-e24f"
      }
     ],
     "next": "c26b7620-81fb-11ee-91d3-0242ac120006-6-4894-dfc0-e135-d93f-b9bb-1a5f",
     "previous": "c9f77d94-8200-11ee-91d3-0242ac120006-6-90e6-3c18-6be7-ed0f-e24f-deaf"
    }
   },
   "outputs": [],
   "source": [
    "free_db_lv_info_list = []\n",
    "free_data_lv_info_list = []\n",
    "\n",
    "for db_lv_info in db_lv_info_list:\n",
    "    dev_name = db_lv_info['dev_name']\n",
    "    if dev_name not in osd_db_path_map:\n",
    "        free_db_lv_info_list.append(db_lv_info)\n",
    "\n",
    "for data_lv_info in data_lv_info_list:\n",
    "    dev_name = data_lv_info['dev_name']\n",
    "    if dev_name not in osd_data_path_map:\n",
    "        free_data_lv_info_list.append(data_lv_info)\n",
    "\n",
    "free_db_lv_info_list = sorted(free_db_lv_info_list, key=lambda x: x['lv_id'])\n",
    "free_data_lv_info_list = sorted(free_data_lv_info_list, key=lambda x: x['lv_id'])\n"
   ]
  },
  {
   "cell_type": "code",
   "execution_count": null,
   "metadata": {
    "lc_cell_meme": {
     "current": "c26b7620-81fb-11ee-91d3-0242ac120006-6-4894-dfc0-e135-d93f-b9bb-1a5f",
     "history": [
      {
       "current": "c26b7620-81fb-11ee-91d3-0242ac120006-1-4894",
       "next": "c26b7684-81fb-11ee-91d3-0242ac120006",
       "previous": "c26b75bc-81fb-11ee-91d3-0242ac120006"
      },
      {
       "current": "c26b7620-81fb-11ee-91d3-0242ac120006-2-4894-dfc0",
       "next": "c26b7684-81fb-11ee-91d3-0242ac120006-1-c774",
       "previous": "c26b75bc-81fb-11ee-91d3-0242ac120006-1-63f4"
      },
      {
       "current": "c26b7620-81fb-11ee-91d3-0242ac120006-3-4894-dfc0-e135",
       "next": "c26b7684-81fb-11ee-91d3-0242ac120006-2-c774-5572",
       "previous": "c26b75bc-81fb-11ee-91d3-0242ac120006-2-63f4-a293"
      },
      {
       "current": "c26b7620-81fb-11ee-91d3-0242ac120006-4-4894-dfc0-e135-d93f",
       "next": "c26b7684-81fb-11ee-91d3-0242ac120006-3-c774-5572-9eb6",
       "previous": "c26b75bc-81fb-11ee-91d3-0242ac120006-3-63f4-a293-14b0"
      },
      {
       "current": "c26b7620-81fb-11ee-91d3-0242ac120006-5-4894-dfc0-e135-d93f-b9bb",
       "next": "c26b7684-81fb-11ee-91d3-0242ac120006-4-c774-5572-9eb6-e881",
       "previous": "c26b75bc-81fb-11ee-91d3-0242ac120006-4-63f4-a293-14b0-6693"
      },
      {
       "current": "c26b7620-81fb-11ee-91d3-0242ac120006-6-4894-dfc0-e135-d93f-b9bb-1a5f",
       "next": "c26b7684-81fb-11ee-91d3-0242ac120006-5-c774-5572-9eb6-e881-bf5a",
       "previous": "c26b75bc-81fb-11ee-91d3-0242ac120006-5-63f4-a293-14b0-6693-448d"
      }
     ],
     "next": "c26b7684-81fb-11ee-91d3-0242ac120006-6-c774-5572-9eb6-e881-bf5a-cb8c",
     "previous": "c26b75bc-81fb-11ee-91d3-0242ac120006-6-63f4-a293-14b0-6693-448d-4498"
    }
   },
   "outputs": [],
   "source": [
    "pd.DataFrame(free_db_lv_info_list)"
   ]
  },
  {
   "cell_type": "code",
   "execution_count": null,
   "metadata": {
    "lc_cell_meme": {
     "current": "c26b7684-81fb-11ee-91d3-0242ac120006-6-c774-5572-9eb6-e881-bf5a-cb8c",
     "history": [
      {
       "current": "c26b7684-81fb-11ee-91d3-0242ac120006",
       "next": "79af7176-81fa-11ee-91d3-0242ac120006",
       "previous": "c26b7620-81fb-11ee-91d3-0242ac120006"
      },
      {
       "current": "c26b7684-81fb-11ee-91d3-0242ac120006",
       "next": "79af7176-81fa-11ee-91d3-0242ac120006-1-90f3",
       "previous": "c26b7620-81fb-11ee-91d3-0242ac120006"
      },
      {
       "current": "c26b7684-81fb-11ee-91d3-0242ac120006-1-c774",
       "next": "f91e75fa-8372-11ee-91d3-0242ac120006",
       "previous": "c26b7620-81fb-11ee-91d3-0242ac120006"
      },
      {
       "current": "c26b7684-81fb-11ee-91d3-0242ac120006-2-c774-5572",
       "next": "f91e75fa-8372-11ee-91d3-0242ac120006-1-6c89",
       "previous": "c26b7620-81fb-11ee-91d3-0242ac120006-1-4894"
      },
      {
       "current": "c26b7684-81fb-11ee-91d3-0242ac120006-3-c774-5572-9eb6",
       "next": "f91e75fa-8372-11ee-91d3-0242ac120006-2-6c89-493b",
       "previous": "c26b7620-81fb-11ee-91d3-0242ac120006-2-4894-dfc0"
      },
      {
       "current": "c26b7684-81fb-11ee-91d3-0242ac120006-4-c774-5572-9eb6-e881",
       "next": "f91e75fa-8372-11ee-91d3-0242ac120006-3-6c89-493b-75bb",
       "previous": "c26b7620-81fb-11ee-91d3-0242ac120006-3-4894-dfc0-e135"
      },
      {
       "current": "c26b7684-81fb-11ee-91d3-0242ac120006-5-c774-5572-9eb6-e881-bf5a",
       "next": "f91e75fa-8372-11ee-91d3-0242ac120006-4-6c89-493b-75bb-991d",
       "previous": "c26b7620-81fb-11ee-91d3-0242ac120006-4-4894-dfc0-e135-d93f"
      },
      {
       "current": "c26b7684-81fb-11ee-91d3-0242ac120006-6-c774-5572-9eb6-e881-bf5a-cb8c",
       "next": "f91e75fa-8372-11ee-91d3-0242ac120006-5-6c89-493b-75bb-991d-2d19",
       "previous": "c26b7620-81fb-11ee-91d3-0242ac120006-5-4894-dfc0-e135-d93f-b9bb"
      }
     ],
     "next": "f91e75fa-8372-11ee-91d3-0242ac120006-6-6c89-493b-75bb-991d-2d19-87bc",
     "previous": "c26b7620-81fb-11ee-91d3-0242ac120006-6-4894-dfc0-e135-d93f-b9bb-1a5f"
    }
   },
   "outputs": [],
   "source": [
    "pd.DataFrame(free_data_lv_info_list)"
   ]
  },
  {
   "cell_type": "code",
   "execution_count": null,
   "metadata": {
    "lc_cell_meme": {
     "current": "f91e75fa-8372-11ee-91d3-0242ac120006-6-6c89-493b-75bb-991d-2d19-87bc",
     "history": [
      {
       "current": "f91e75fa-8372-11ee-91d3-0242ac120006",
       "next": "f91e77e4-8372-11ee-91d3-0242ac120006",
       "previous": "c26b7684-81fb-11ee-91d3-0242ac120006"
      },
      {
       "current": "f91e75fa-8372-11ee-91d3-0242ac120006-1-6c89",
       "next": "79af7176-81fa-11ee-91d3-0242ac120006-1-90f3",
       "previous": "c26b7684-81fb-11ee-91d3-0242ac120006"
      },
      {
       "current": "f91e75fa-8372-11ee-91d3-0242ac120006-2-6c89-493b",
       "next": "79af7176-81fa-11ee-91d3-0242ac120006-2-90f3-4ce2",
       "previous": "c26b7684-81fb-11ee-91d3-0242ac120006-1-c774"
      },
      {
       "current": "f91e75fa-8372-11ee-91d3-0242ac120006-3-6c89-493b-75bb",
       "next": "79af7176-81fa-11ee-91d3-0242ac120006-3-90f3-4ce2-1456",
       "previous": "c26b7684-81fb-11ee-91d3-0242ac120006-2-c774-5572"
      },
      {
       "current": "f91e75fa-8372-11ee-91d3-0242ac120006-4-6c89-493b-75bb-991d",
       "next": "79af7176-81fa-11ee-91d3-0242ac120006-4-90f3-4ce2-1456-8a70",
       "previous": "c26b7684-81fb-11ee-91d3-0242ac120006-3-c774-5572-9eb6"
      },
      {
       "current": "f91e75fa-8372-11ee-91d3-0242ac120006-5-6c89-493b-75bb-991d-2d19",
       "next": "79af7176-81fa-11ee-91d3-0242ac120006-5-90f3-4ce2-1456-8a70-313f",
       "previous": "c26b7684-81fb-11ee-91d3-0242ac120006-4-c774-5572-9eb6-e881"
      },
      {
       "current": "f91e75fa-8372-11ee-91d3-0242ac120006-6-6c89-493b-75bb-991d-2d19-87bc",
       "next": "79af7176-81fa-11ee-91d3-0242ac120006-6-90f3-4ce2-1456-8a70-313f-1d20",
       "previous": "c26b7684-81fb-11ee-91d3-0242ac120006-5-c774-5572-9eb6-e881-bf5a"
      }
     ],
     "next": "79af7176-81fa-11ee-91d3-0242ac120006-7-90f3-4ce2-1456-8a70-313f-1d20-496b",
     "previous": "c26b7684-81fb-11ee-91d3-0242ac120006-6-c774-5572-9eb6-e881-bf5a-cb8c"
    },
    "scrolled": true
   },
   "outputs": [],
   "source": [
    "free_lv_info_map = {}\n",
    "free_lv_info_list = []\n",
    "\n",
    "for free_db_lv_info in free_db_lv_info_list:\n",
    "    lv_id = free_db_lv_info['lv_id']\n",
    "    free_lv_info_map[lv_id] = {}\n",
    "    free_lv_info_map[lv_id]['lv_id'] = lv_id\n",
    "    free_lv_info_map[lv_id]['db_lv_info'] = free_db_lv_info\n",
    "for free_data_lv_info in free_data_lv_info_list:\n",
    "    lv_id = free_data_lv_info['lv_id']\n",
    "    free_lv_id_info = free_lv_info_map.get(lv_id, {})\n",
    "    free_lv_id_info['lv_id'] = lv_id\n",
    "    free_lv_id_info['data_lv_info'] = free_data_lv_info\n",
    "\n",
    "for key,val in free_lv_info_map.items():\n",
    "    if 'db_lv_info' in val.keys() and 'data_lv_info' in val.keys():\n",
    "        free_lv_info_list.append(val)\n",
    "\n",
    "free_lv_info_list = sorted(free_lv_info_list, key=lambda x: x['lv_id'])        \n",
    "print(json.dumps(free_lv_info_list, indent=2))"
   ]
  },
  {
   "cell_type": "markdown",
   "metadata": {
    "lc_cell_meme": {
     "current": "79af7176-81fa-11ee-91d3-0242ac120006-7-90f3-4ce2-1456-8a70-313f-1d20-496b",
     "history": [
      {
       "current": "79af7176-81fa-11ee-91d3-0242ac120006",
       "next": "79af71ee-81fa-11ee-91d3-0242ac120006",
       "previous": "79af70f4-81fa-11ee-91d3-0242ac120006"
      },
      {
       "current": "79af7176-81fa-11ee-91d3-0242ac120006-1-90f3",
       "next": "79af71ee-81fa-11ee-91d3-0242ac120006",
       "previous": "c26b7684-81fb-11ee-91d3-0242ac120006"
      },
      {
       "current": "79af7176-81fa-11ee-91d3-0242ac120006-1-90f3",
       "next": "79af71ee-81fa-11ee-91d3-0242ac120006",
       "previous": "f91e77e4-8372-11ee-91d3-0242ac120006"
      },
      {
       "current": "79af7176-81fa-11ee-91d3-0242ac120006-2-90f3-4ce2",
       "next": "79af71ee-81fa-11ee-91d3-0242ac120006",
       "previous": "f91e75fa-8372-11ee-91d3-0242ac120006"
      },
      {
       "current": "79af7176-81fa-11ee-91d3-0242ac120006-3-90f3-4ce2-1456",
       "next": "79af71ee-81fa-11ee-91d3-0242ac120006-1-cfcb",
       "previous": "f91e75fa-8372-11ee-91d3-0242ac120006-1-6c89"
      },
      {
       "current": "79af7176-81fa-11ee-91d3-0242ac120006-4-90f3-4ce2-1456-8a70",
       "next": "79af71ee-81fa-11ee-91d3-0242ac120006-2-cfcb-157e",
       "previous": "f91e75fa-8372-11ee-91d3-0242ac120006-2-6c89-493b"
      },
      {
       "current": "79af7176-81fa-11ee-91d3-0242ac120006-5-90f3-4ce2-1456-8a70-313f",
       "next": "79af71ee-81fa-11ee-91d3-0242ac120006-3-cfcb-157e-308e",
       "previous": "f91e75fa-8372-11ee-91d3-0242ac120006-3-6c89-493b-75bb"
      },
      {
       "current": "79af7176-81fa-11ee-91d3-0242ac120006-6-90f3-4ce2-1456-8a70-313f-1d20",
       "next": "79af71ee-81fa-11ee-91d3-0242ac120006-4-cfcb-157e-308e-4549",
       "previous": "f91e75fa-8372-11ee-91d3-0242ac120006-4-6c89-493b-75bb-991d"
      },
      {
       "current": "79af7176-81fa-11ee-91d3-0242ac120006-7-90f3-4ce2-1456-8a70-313f-1d20-496b",
       "next": "79af71ee-81fa-11ee-91d3-0242ac120006-5-cfcb-157e-308e-4549-325e",
       "previous": "f91e75fa-8372-11ee-91d3-0242ac120006-5-6c89-493b-75bb-991d-2d19"
      }
     ],
     "next": "79af71ee-81fa-11ee-91d3-0242ac120006-6-cfcb-157e-308e-4549-325e-72b4",
     "previous": "f91e75fa-8372-11ee-91d3-0242ac120006-6-6c89-493b-75bb-991d-2d19-87bc"
    }
   },
   "source": [
    "# OSD生成"
   ]
  },
  {
   "cell_type": "code",
   "execution_count": null,
   "metadata": {
    "lc_cell_meme": {
     "current": "79af71ee-81fa-11ee-91d3-0242ac120006-6-cfcb-157e-308e-4549-325e-72b4",
     "history": [
      {
       "current": "79af71ee-81fa-11ee-91d3-0242ac120006",
       "next": "79af7266-81fa-11ee-91d3-0242ac120006",
       "previous": "79af7176-81fa-11ee-91d3-0242ac120006"
      },
      {
       "current": "79af71ee-81fa-11ee-91d3-0242ac120006-1-cfcb",
       "next": "79af7266-81fa-11ee-91d3-0242ac120006",
       "previous": "79af7176-81fa-11ee-91d3-0242ac120006-1-90f3"
      },
      {
       "current": "79af71ee-81fa-11ee-91d3-0242ac120006-2-cfcb-157e",
       "next": "79af7266-81fa-11ee-91d3-0242ac120006-1-608f",
       "previous": "79af7176-81fa-11ee-91d3-0242ac120006-2-90f3-4ce2"
      },
      {
       "current": "79af71ee-81fa-11ee-91d3-0242ac120006-3-cfcb-157e-308e",
       "next": "79af7266-81fa-11ee-91d3-0242ac120006-2-608f-ca09",
       "previous": "79af7176-81fa-11ee-91d3-0242ac120006-3-90f3-4ce2-1456"
      },
      {
       "current": "79af71ee-81fa-11ee-91d3-0242ac120006-4-cfcb-157e-308e-4549",
       "next": "79af7266-81fa-11ee-91d3-0242ac120006-3-608f-ca09-a844",
       "previous": "79af7176-81fa-11ee-91d3-0242ac120006-4-90f3-4ce2-1456-8a70"
      },
      {
       "current": "79af71ee-81fa-11ee-91d3-0242ac120006-5-cfcb-157e-308e-4549-325e",
       "next": "79af7266-81fa-11ee-91d3-0242ac120006-4-608f-ca09-a844-e71e",
       "previous": "79af7176-81fa-11ee-91d3-0242ac120006-5-90f3-4ce2-1456-8a70-313f"
      },
      {
       "current": "79af71ee-81fa-11ee-91d3-0242ac120006-6-cfcb-157e-308e-4549-325e-72b4",
       "next": "79af7266-81fa-11ee-91d3-0242ac120006-5-608f-ca09-a844-e71e-3302",
       "previous": "79af7176-81fa-11ee-91d3-0242ac120006-6-90f3-4ce2-1456-8a70-313f-1d20"
      }
     ],
     "next": "79af7266-81fa-11ee-91d3-0242ac120006-6-608f-ca09-a844-e71e-3302-5b7e",
     "previous": "79af7176-81fa-11ee-91d3-0242ac120006-7-90f3-4ce2-1456-8a70-313f-1d20-496b"
    }
   },
   "outputs": [],
   "source": [
    "# 生成するOSD数を指定\n",
    "raise Exception('この先手作業が必要です')"
   ]
  },
  {
   "cell_type": "code",
   "execution_count": null,
   "metadata": {
    "lc_cell_meme": {
     "current": "79af7266-81fa-11ee-91d3-0242ac120006-6-608f-ca09-a844-e71e-3302-5b7e",
     "history": [
      {
       "current": "79af7266-81fa-11ee-91d3-0242ac120006",
       "next": "08f1174a-9b04-11ea-8d02-0242ac120007-2-f99a-9309",
       "previous": "79af71ee-81fa-11ee-91d3-0242ac120006"
      },
      {
       "current": "79af7266-81fa-11ee-91d3-0242ac120006",
       "next": "35c581ba-55a3-11e7-b0b2-00163e9c0e35-2-89bc-f9d0",
       "previous": "79af71ee-81fa-11ee-91d3-0242ac120006"
      },
      {
       "current": "79af7266-81fa-11ee-91d3-0242ac120006",
       "next": "4dbe59ca-8203-11ee-91d3-0242ac120006",
       "previous": "79af71ee-81fa-11ee-91d3-0242ac120006"
      },
      {
       "current": "79af7266-81fa-11ee-91d3-0242ac120006-1-608f",
       "next": "4dbe59ca-8203-11ee-91d3-0242ac120006-1-a910",
       "previous": "79af71ee-81fa-11ee-91d3-0242ac120006"
      },
      {
       "current": "79af7266-81fa-11ee-91d3-0242ac120006-2-608f-ca09",
       "next": "4dbe59ca-8203-11ee-91d3-0242ac120006-2-a910-0e3b",
       "previous": "79af71ee-81fa-11ee-91d3-0242ac120006-1-cfcb"
      },
      {
       "current": "79af7266-81fa-11ee-91d3-0242ac120006-3-608f-ca09-a844",
       "next": "4dbe59ca-8203-11ee-91d3-0242ac120006-3-a910-0e3b-cbc3",
       "previous": "79af71ee-81fa-11ee-91d3-0242ac120006-2-cfcb-157e"
      },
      {
       "current": "79af7266-81fa-11ee-91d3-0242ac120006-4-608f-ca09-a844-e71e",
       "next": "4dbe59ca-8203-11ee-91d3-0242ac120006-4-a910-0e3b-cbc3-0281",
       "previous": "79af71ee-81fa-11ee-91d3-0242ac120006-3-cfcb-157e-308e"
      },
      {
       "current": "79af7266-81fa-11ee-91d3-0242ac120006-5-608f-ca09-a844-e71e-3302",
       "next": "4dbe59ca-8203-11ee-91d3-0242ac120006-5-a910-0e3b-cbc3-0281-745e",
       "previous": "79af71ee-81fa-11ee-91d3-0242ac120006-4-cfcb-157e-308e-4549"
      },
      {
       "current": "79af7266-81fa-11ee-91d3-0242ac120006-6-608f-ca09-a844-e71e-3302-5b7e",
       "next": "4dbe59ca-8203-11ee-91d3-0242ac120006-6-a910-0e3b-cbc3-0281-745e-6ccc",
       "previous": "79af71ee-81fa-11ee-91d3-0242ac120006-5-cfcb-157e-308e-4549-325e"
      }
     ],
     "next": "4dbe59ca-8203-11ee-91d3-0242ac120006-7-a910-0e3b-cbc3-0281-745e-6ccc-e4ba",
     "previous": "79af71ee-81fa-11ee-91d3-0242ac120006-6-cfcb-157e-308e-4549-325e-72b4"
    }
   },
   "outputs": [],
   "source": [
    "apply_osd_num = 12"
   ]
  },
  {
   "cell_type": "markdown",
   "metadata": {
    "lc_cell_meme": {
     "current": "4dbe59ca-8203-11ee-91d3-0242ac120006-7-a910-0e3b-cbc3-0281-745e-6ccc-e4ba",
     "history": [
      {
       "current": "4dbe59ca-8203-11ee-91d3-0242ac120006-2-a910-0e3b",
       "next": "4dbe5ab0-8203-11ee-91d3-0242ac120006",
       "previous": "79af7266-81fa-11ee-91d3-0242ac120006"
      },
      {
       "current": "4dbe59ca-8203-11ee-91d3-0242ac120006-3-a910-0e3b-cbc3",
       "next": "4dbe5ab0-8203-11ee-91d3-0242ac120006-1-6a89",
       "previous": "79af7266-81fa-11ee-91d3-0242ac120006-1-608f"
      },
      {
       "current": "4dbe59ca-8203-11ee-91d3-0242ac120006-4-a910-0e3b-cbc3-0281",
       "next": "4dbe5ab0-8203-11ee-91d3-0242ac120006-2-6a89-2401",
       "previous": "79af7266-81fa-11ee-91d3-0242ac120006-2-608f-ca09"
      },
      {
       "current": "4dbe59ca-8203-11ee-91d3-0242ac120006-5-a910-0e3b-cbc3-0281-745e",
       "next": "4dbe5ab0-8203-11ee-91d3-0242ac120006-3-6a89-2401-3bc4",
       "previous": "79af7266-81fa-11ee-91d3-0242ac120006-3-608f-ca09-a844"
      },
      {
       "current": "4dbe59ca-8203-11ee-91d3-0242ac120006-6-a910-0e3b-cbc3-0281-745e-6ccc",
       "next": "4dbe5ab0-8203-11ee-91d3-0242ac120006-4-6a89-2401-3bc4-f9ba",
       "previous": "79af7266-81fa-11ee-91d3-0242ac120006-4-608f-ca09-a844-e71e"
      },
      {
       "current": "4dbe59ca-8203-11ee-91d3-0242ac120006-7-a910-0e3b-cbc3-0281-745e-6ccc-e4ba",
       "next": "4dbe5ab0-8203-11ee-91d3-0242ac120006-5-6a89-2401-3bc4-f9ba-1c75",
       "previous": "79af7266-81fa-11ee-91d3-0242ac120006-5-608f-ca09-a844-e71e-3302"
      }
     ],
     "next": "4dbe5ab0-8203-11ee-91d3-0242ac120006-6-6a89-2401-3bc4-f9ba-1c75-a4dd",
     "previous": "79af7266-81fa-11ee-91d3-0242ac120006-6-608f-ca09-a844-e71e-3302-5b7e"
    }
   },
   "source": [
    "## DB,DATA LV指定"
   ]
  },
  {
   "cell_type": "code",
   "execution_count": null,
   "metadata": {
    "lc_cell_meme": {
     "current": "4dbe5ab0-8203-11ee-91d3-0242ac120006-6-6a89-2401-3bc4-f9ba-1c75-a4dd",
     "history": [
      {
       "current": "4dbe5ab0-8203-11ee-91d3-0242ac120006",
       "next": "4dbe5af6-8203-11ee-91d3-0242ac120006",
       "previous": "4dbe59ca-8203-11ee-91d3-0242ac120006"
      },
      {
       "current": "4dbe5ab0-8203-11ee-91d3-0242ac120006-1-6a89",
       "next": "953ffe34-8203-11ee-91d3-0242ac120006",
       "previous": "4dbe59ca-8203-11ee-91d3-0242ac120006-1-a910"
      },
      {
       "current": "4dbe5ab0-8203-11ee-91d3-0242ac120006-2-6a89-2401",
       "next": "953ffe34-8203-11ee-91d3-0242ac120006-1-9c32",
       "previous": "4dbe59ca-8203-11ee-91d3-0242ac120006-2-a910-0e3b"
      },
      {
       "current": "4dbe5ab0-8203-11ee-91d3-0242ac120006-3-6a89-2401-3bc4",
       "next": "953ffe34-8203-11ee-91d3-0242ac120006-2-9c32-e922",
       "previous": "4dbe59ca-8203-11ee-91d3-0242ac120006-3-a910-0e3b-cbc3"
      },
      {
       "current": "4dbe5ab0-8203-11ee-91d3-0242ac120006-4-6a89-2401-3bc4-f9ba",
       "next": "953ffe34-8203-11ee-91d3-0242ac120006-3-9c32-e922-3f93",
       "previous": "4dbe59ca-8203-11ee-91d3-0242ac120006-4-a910-0e3b-cbc3-0281"
      },
      {
       "current": "4dbe5ab0-8203-11ee-91d3-0242ac120006-5-6a89-2401-3bc4-f9ba-1c75",
       "next": "953ffe34-8203-11ee-91d3-0242ac120006-4-9c32-e922-3f93-00c8",
       "previous": "4dbe59ca-8203-11ee-91d3-0242ac120006-5-a910-0e3b-cbc3-0281-745e"
      },
      {
       "current": "4dbe5ab0-8203-11ee-91d3-0242ac120006-6-6a89-2401-3bc4-f9ba-1c75-a4dd",
       "next": "953ffe34-8203-11ee-91d3-0242ac120006-5-9c32-e922-3f93-00c8-f5af",
       "previous": "4dbe59ca-8203-11ee-91d3-0242ac120006-6-a910-0e3b-cbc3-0281-745e-6ccc"
      }
     ],
     "next": "953ffe34-8203-11ee-91d3-0242ac120006-6-9c32-e922-3f93-00c8-f5af-0d64",
     "previous": "4dbe59ca-8203-11ee-91d3-0242ac120006-7-a910-0e3b-cbc3-0281-745e-6ccc-e4ba"
    }
   },
   "outputs": [],
   "source": [
    "apply_lv_info_list = []\n",
    "\n",
    "if len(free_lv_info_list) < apply_osd_num:\n",
    "    apply_osd_num = len(free_lv_info_list)\n",
    "\n",
    "for index in range(apply_osd_num):\n",
    "    apply_lv_info_list.append(free_lv_info_list[index])\n"
   ]
  },
  {
   "cell_type": "code",
   "execution_count": null,
   "metadata": {
    "lc_cell_meme": {
     "current": "953ffe34-8203-11ee-91d3-0242ac120006-6-9c32-e922-3f93-00c8-f5af-0d64",
     "history": [
      {
       "current": "953ffe34-8203-11ee-91d3-0242ac120006",
       "next": "953fff74-8203-11ee-91d3-0242ac120006",
       "previous": "4dbe5ab0-8203-11ee-91d3-0242ac120006"
      },
      {
       "current": "953ffe34-8203-11ee-91d3-0242ac120006-1-9c32",
       "next": "42f26ac0-8205-11ee-91d3-0242ac120006",
       "previous": "4dbe5ab0-8203-11ee-91d3-0242ac120006"
      },
      {
       "current": "953ffe34-8203-11ee-91d3-0242ac120006-2-9c32-e922",
       "next": "42f26ac0-8205-11ee-91d3-0242ac120006-1-f23e",
       "previous": "4dbe5ab0-8203-11ee-91d3-0242ac120006-1-6a89"
      },
      {
       "current": "953ffe34-8203-11ee-91d3-0242ac120006-3-9c32-e922-3f93",
       "next": "42f26ac0-8205-11ee-91d3-0242ac120006-2-f23e-073f",
       "previous": "4dbe5ab0-8203-11ee-91d3-0242ac120006-2-6a89-2401"
      },
      {
       "current": "953ffe34-8203-11ee-91d3-0242ac120006-4-9c32-e922-3f93-00c8",
       "next": "42f26ac0-8205-11ee-91d3-0242ac120006-3-f23e-073f-8c12",
       "previous": "4dbe5ab0-8203-11ee-91d3-0242ac120006-3-6a89-2401-3bc4"
      },
      {
       "current": "953ffe34-8203-11ee-91d3-0242ac120006-5-9c32-e922-3f93-00c8-f5af",
       "next": "42f26ac0-8205-11ee-91d3-0242ac120006-4-f23e-073f-8c12-9481",
       "previous": "4dbe5ab0-8203-11ee-91d3-0242ac120006-4-6a89-2401-3bc4-f9ba"
      },
      {
       "current": "953ffe34-8203-11ee-91d3-0242ac120006-6-9c32-e922-3f93-00c8-f5af-0d64",
       "next": "42f26ac0-8205-11ee-91d3-0242ac120006-5-f23e-073f-8c12-9481-ff7d",
       "previous": "4dbe5ab0-8203-11ee-91d3-0242ac120006-5-6a89-2401-3bc4-f9ba-1c75"
      }
     ],
     "next": "42f26ac0-8205-11ee-91d3-0242ac120006-6-f23e-073f-8c12-9481-ff7d-e64c",
     "previous": "4dbe5ab0-8203-11ee-91d3-0242ac120006-6-6a89-2401-3bc4-f9ba-1c75-a4dd"
    },
    "scrolled": true
   },
   "outputs": [],
   "source": [
    "print(json.dumps(apply_lv_info_list, indent=2))"
   ]
  },
  {
   "cell_type": "markdown",
   "metadata": {
    "lc_cell_meme": {
     "current": "42f26ac0-8205-11ee-91d3-0242ac120006-6-f23e-073f-8c12-9481-ff7d-e64c",
     "history": [
      {
       "current": "42f26ac0-8205-11ee-91d3-0242ac120006",
       "next": "42f26bc4-8205-11ee-91d3-0242ac120006",
       "previous": "953fff74-8203-11ee-91d3-0242ac120006"
      },
      {
       "current": "42f26ac0-8205-11ee-91d3-0242ac120006-1-f23e",
       "next": "42f26bc4-8205-11ee-91d3-0242ac120006",
       "previous": "953ffe34-8203-11ee-91d3-0242ac120006"
      },
      {
       "current": "42f26ac0-8205-11ee-91d3-0242ac120006-2-f23e-073f",
       "next": "42f26bc4-8205-11ee-91d3-0242ac120006-1-b09e",
       "previous": "953ffe34-8203-11ee-91d3-0242ac120006-1-9c32"
      },
      {
       "current": "42f26ac0-8205-11ee-91d3-0242ac120006-3-f23e-073f-8c12",
       "next": "42f26bc4-8205-11ee-91d3-0242ac120006-2-b09e-4c57",
       "previous": "953ffe34-8203-11ee-91d3-0242ac120006-2-9c32-e922"
      },
      {
       "current": "42f26ac0-8205-11ee-91d3-0242ac120006-4-f23e-073f-8c12-9481",
       "next": "42f26bc4-8205-11ee-91d3-0242ac120006-3-b09e-4c57-e976",
       "previous": "953ffe34-8203-11ee-91d3-0242ac120006-3-9c32-e922-3f93"
      },
      {
       "current": "42f26ac0-8205-11ee-91d3-0242ac120006-5-f23e-073f-8c12-9481-ff7d",
       "next": "42f26bc4-8205-11ee-91d3-0242ac120006-4-b09e-4c57-e976-f08a",
       "previous": "953ffe34-8203-11ee-91d3-0242ac120006-4-9c32-e922-3f93-00c8"
      },
      {
       "current": "42f26ac0-8205-11ee-91d3-0242ac120006-6-f23e-073f-8c12-9481-ff7d-e64c",
       "next": "42f26bc4-8205-11ee-91d3-0242ac120006-5-b09e-4c57-e976-f08a-c469",
       "previous": "953ffe34-8203-11ee-91d3-0242ac120006-5-9c32-e922-3f93-00c8-f5af"
      }
     ],
     "next": "42f26bc4-8205-11ee-91d3-0242ac120006-6-b09e-4c57-e976-f08a-c469-c27c",
     "previous": "953ffe34-8203-11ee-91d3-0242ac120006-6-9c32-e922-3f93-00c8-f5af-0d64"
    }
   },
   "source": [
    "## OSD構築前のスクラビング無効化"
   ]
  },
  {
   "cell_type": "code",
   "execution_count": null,
   "metadata": {
    "lc_cell_meme": {
     "current": "42f26bc4-8205-11ee-91d3-0242ac120006-6-b09e-4c57-e976-f08a-c469-c27c",
     "history": [
      {
       "current": "42f26bc4-8205-11ee-91d3-0242ac120006-1-b09e",
       "next": "42f26c0a-8205-11ee-91d3-0242ac120006",
       "previous": "42f26ac0-8205-11ee-91d3-0242ac120006"
      },
      {
       "current": "42f26bc4-8205-11ee-91d3-0242ac120006-2-b09e-4c57",
       "next": "42f26c0a-8205-11ee-91d3-0242ac120006-1-0d72",
       "previous": "42f26ac0-8205-11ee-91d3-0242ac120006-1-f23e"
      },
      {
       "current": "42f26bc4-8205-11ee-91d3-0242ac120006-3-b09e-4c57-e976",
       "next": "42f26c0a-8205-11ee-91d3-0242ac120006-2-0d72-6099",
       "previous": "42f26ac0-8205-11ee-91d3-0242ac120006-2-f23e-073f"
      },
      {
       "current": "42f26bc4-8205-11ee-91d3-0242ac120006-4-b09e-4c57-e976-f08a",
       "next": "42f26c0a-8205-11ee-91d3-0242ac120006-3-0d72-6099-75c2",
       "previous": "42f26ac0-8205-11ee-91d3-0242ac120006-3-f23e-073f-8c12"
      },
      {
       "current": "42f26bc4-8205-11ee-91d3-0242ac120006-5-b09e-4c57-e976-f08a-c469",
       "next": "42f26c0a-8205-11ee-91d3-0242ac120006-4-0d72-6099-75c2-566f",
       "previous": "42f26ac0-8205-11ee-91d3-0242ac120006-4-f23e-073f-8c12-9481"
      },
      {
       "current": "42f26bc4-8205-11ee-91d3-0242ac120006-6-b09e-4c57-e976-f08a-c469-c27c",
       "next": "42f26c0a-8205-11ee-91d3-0242ac120006-5-0d72-6099-75c2-566f-ad46",
       "previous": "42f26ac0-8205-11ee-91d3-0242ac120006-5-f23e-073f-8c12-9481-ff7d"
      }
     ],
     "next": "42f26c0a-8205-11ee-91d3-0242ac120006-6-0d72-6099-75c2-566f-ad46-b7c8",
     "previous": "42f26ac0-8205-11ee-91d3-0242ac120006-6-f23e-073f-8c12-9481-ff7d-e64c"
    }
   },
   "outputs": [],
   "source": [
    "!ansible -i $hosts -b -m shell -a \"cephadm shell -- ceph osd set noscrub\" bootstrap"
   ]
  },
  {
   "cell_type": "code",
   "execution_count": null,
   "metadata": {
    "lc_cell_meme": {
     "current": "42f26c0a-8205-11ee-91d3-0242ac120006-6-0d72-6099-75c2-566f-ad46-b7c8",
     "history": [
      {
       "current": "42f26c0a-8205-11ee-91d3-0242ac120006-1-0d72",
       "next": "42f26c3c-8205-11ee-91d3-0242ac120006",
       "previous": "42f26bc4-8205-11ee-91d3-0242ac120006"
      },
      {
       "current": "42f26c0a-8205-11ee-91d3-0242ac120006-2-0d72-6099",
       "next": "42f26c3c-8205-11ee-91d3-0242ac120006-1-b4dc",
       "previous": "42f26bc4-8205-11ee-91d3-0242ac120006-1-b09e"
      },
      {
       "current": "42f26c0a-8205-11ee-91d3-0242ac120006-3-0d72-6099-75c2",
       "next": "42f26c3c-8205-11ee-91d3-0242ac120006-2-b4dc-2aca",
       "previous": "42f26bc4-8205-11ee-91d3-0242ac120006-2-b09e-4c57"
      },
      {
       "current": "42f26c0a-8205-11ee-91d3-0242ac120006-4-0d72-6099-75c2-566f",
       "next": "42f26c3c-8205-11ee-91d3-0242ac120006-3-b4dc-2aca-5369",
       "previous": "42f26bc4-8205-11ee-91d3-0242ac120006-3-b09e-4c57-e976"
      },
      {
       "current": "42f26c0a-8205-11ee-91d3-0242ac120006-5-0d72-6099-75c2-566f-ad46",
       "next": "42f26c3c-8205-11ee-91d3-0242ac120006-4-b4dc-2aca-5369-75d0",
       "previous": "42f26bc4-8205-11ee-91d3-0242ac120006-4-b09e-4c57-e976-f08a"
      },
      {
       "current": "42f26c0a-8205-11ee-91d3-0242ac120006-6-0d72-6099-75c2-566f-ad46-b7c8",
       "next": "42f26c3c-8205-11ee-91d3-0242ac120006-5-b4dc-2aca-5369-75d0-01f3",
       "previous": "42f26bc4-8205-11ee-91d3-0242ac120006-5-b09e-4c57-e976-f08a-c469"
      }
     ],
     "next": "42f26c3c-8205-11ee-91d3-0242ac120006-6-b4dc-2aca-5369-75d0-01f3-65c0",
     "previous": "42f26bc4-8205-11ee-91d3-0242ac120006-6-b09e-4c57-e976-f08a-c469-c27c"
    }
   },
   "outputs": [],
   "source": [
    "!ansible -i $hosts -b -m shell -a \"cephadm shell -- ceph osd set nodeep-scrub\" bootstrap"
   ]
  },
  {
   "cell_type": "markdown",
   "metadata": {
    "lc_cell_meme": {
     "current": "42f26c3c-8205-11ee-91d3-0242ac120006-6-b4dc-2aca-5369-75d0-01f3-65c0",
     "history": [
      {
       "current": "42f26c3c-8205-11ee-91d3-0242ac120006-1-b4dc",
       "next": "42f26c6e-8205-11ee-91d3-0242ac120006",
       "previous": "42f26c0a-8205-11ee-91d3-0242ac120006"
      },
      {
       "current": "42f26c3c-8205-11ee-91d3-0242ac120006-2-b4dc-2aca",
       "next": "42f26c6e-8205-11ee-91d3-0242ac120006-1-8793",
       "previous": "42f26c0a-8205-11ee-91d3-0242ac120006-1-0d72"
      },
      {
       "current": "42f26c3c-8205-11ee-91d3-0242ac120006-3-b4dc-2aca-5369",
       "next": "42f26c6e-8205-11ee-91d3-0242ac120006-2-8793-5168",
       "previous": "42f26c0a-8205-11ee-91d3-0242ac120006-2-0d72-6099"
      },
      {
       "current": "42f26c3c-8205-11ee-91d3-0242ac120006-4-b4dc-2aca-5369-75d0",
       "next": "42f26c6e-8205-11ee-91d3-0242ac120006-3-8793-5168-a15d",
       "previous": "42f26c0a-8205-11ee-91d3-0242ac120006-3-0d72-6099-75c2"
      },
      {
       "current": "42f26c3c-8205-11ee-91d3-0242ac120006-5-b4dc-2aca-5369-75d0-01f3",
       "next": "42f26c6e-8205-11ee-91d3-0242ac120006-4-8793-5168-a15d-d1f2",
       "previous": "42f26c0a-8205-11ee-91d3-0242ac120006-4-0d72-6099-75c2-566f"
      },
      {
       "current": "42f26c3c-8205-11ee-91d3-0242ac120006-6-b4dc-2aca-5369-75d0-01f3-65c0",
       "next": "42f26c6e-8205-11ee-91d3-0242ac120006-5-8793-5168-a15d-d1f2-7eb0",
       "previous": "42f26c0a-8205-11ee-91d3-0242ac120006-5-0d72-6099-75c2-566f-ad46"
      }
     ],
     "next": "42f26c6e-8205-11ee-91d3-0242ac120006-6-8793-5168-a15d-d1f2-7eb0-e8c6",
     "previous": "42f26c0a-8205-11ee-91d3-0242ac120006-6-0d72-6099-75c2-566f-ad46-b7c8"
    }
   },
   "source": [
    "## バックフィルおよび復元機能を制限"
   ]
  },
  {
   "cell_type": "code",
   "execution_count": null,
   "metadata": {
    "lc_cell_meme": {
     "current": "42f26c6e-8205-11ee-91d3-0242ac120006-6-8793-5168-a15d-d1f2-7eb0-e8c6",
     "history": [
      {
       "current": "42f26c6e-8205-11ee-91d3-0242ac120006-1-8793",
       "next": "953fffec-8203-11ee-91d3-0242ac120006-1-7147",
       "previous": "42f26c3c-8205-11ee-91d3-0242ac120006"
      },
      {
       "current": "42f26c6e-8205-11ee-91d3-0242ac120006-2-8793-5168",
       "next": "953fffec-8203-11ee-91d3-0242ac120006-2-7147-045c",
       "previous": "42f26c3c-8205-11ee-91d3-0242ac120006-1-b4dc"
      },
      {
       "current": "42f26c6e-8205-11ee-91d3-0242ac120006-3-8793-5168-a15d",
       "next": "953fffec-8203-11ee-91d3-0242ac120006-3-7147-045c-b78a",
       "previous": "42f26c3c-8205-11ee-91d3-0242ac120006-2-b4dc-2aca"
      },
      {
       "current": "42f26c6e-8205-11ee-91d3-0242ac120006-4-8793-5168-a15d-d1f2",
       "next": "953fffec-8203-11ee-91d3-0242ac120006-4-7147-045c-b78a-7c92",
       "previous": "42f26c3c-8205-11ee-91d3-0242ac120006-3-b4dc-2aca-5369"
      },
      {
       "current": "42f26c6e-8205-11ee-91d3-0242ac120006-5-8793-5168-a15d-d1f2-7eb0",
       "next": "953fffec-8203-11ee-91d3-0242ac120006-5-7147-045c-b78a-7c92-7ecf",
       "previous": "42f26c3c-8205-11ee-91d3-0242ac120006-4-b4dc-2aca-5369-75d0"
      },
      {
       "current": "42f26c6e-8205-11ee-91d3-0242ac120006-6-8793-5168-a15d-d1f2-7eb0-e8c6",
       "next": "953fffec-8203-11ee-91d3-0242ac120006-6-7147-045c-b78a-7c92-7ecf-52db",
       "previous": "42f26c3c-8205-11ee-91d3-0242ac120006-5-b4dc-2aca-5369-75d0-01f3"
      }
     ],
     "next": "953fffec-8203-11ee-91d3-0242ac120006-7-7147-045c-b78a-7c92-7ecf-52db-73ae",
     "previous": "42f26c3c-8205-11ee-91d3-0242ac120006-6-b4dc-2aca-5369-75d0-01f3-65c0"
    },
    "scrolled": true
   },
   "outputs": [],
   "source": [
    "!ansible -i $hosts -b -m shell -a \"cephadm shell -- ceph tell osd.* injectargs --osd-max-backfills 1 --osd-recovery-max-active 1 --osd-recovery-op-priority 1\" bootstrap"
   ]
  },
  {
   "cell_type": "markdown",
   "metadata": {
    "lc_cell_meme": {
     "current": "953fffec-8203-11ee-91d3-0242ac120006-7-7147-045c-b78a-7c92-7ecf-52db-73ae",
     "history": [
      {
       "current": "953fffec-8203-11ee-91d3-0242ac120006-1-7147",
       "next": "4dbe5af6-8203-11ee-91d3-0242ac120006",
       "previous": "953fff74-8203-11ee-91d3-0242ac120006"
      },
      {
       "current": "953fffec-8203-11ee-91d3-0242ac120006-2-7147-045c",
       "next": "4dbe5af6-8203-11ee-91d3-0242ac120006",
       "previous": "42f26c6e-8205-11ee-91d3-0242ac120006"
      },
      {
       "current": "953fffec-8203-11ee-91d3-0242ac120006-3-7147-045c-b78a",
       "next": "4dbe5af6-8203-11ee-91d3-0242ac120006-1-63f6",
       "previous": "42f26c6e-8205-11ee-91d3-0242ac120006-1-8793"
      },
      {
       "current": "953fffec-8203-11ee-91d3-0242ac120006-4-7147-045c-b78a-7c92",
       "next": "4dbe5af6-8203-11ee-91d3-0242ac120006-2-63f6-c450",
       "previous": "42f26c6e-8205-11ee-91d3-0242ac120006-2-8793-5168"
      },
      {
       "current": "953fffec-8203-11ee-91d3-0242ac120006-5-7147-045c-b78a-7c92-7ecf",
       "next": "4dbe5af6-8203-11ee-91d3-0242ac120006-3-63f6-c450-2ad4",
       "previous": "42f26c6e-8205-11ee-91d3-0242ac120006-3-8793-5168-a15d"
      },
      {
       "current": "953fffec-8203-11ee-91d3-0242ac120006-6-7147-045c-b78a-7c92-7ecf-52db",
       "next": "4dbe5af6-8203-11ee-91d3-0242ac120006-4-63f6-c450-2ad4-408d",
       "previous": "42f26c6e-8205-11ee-91d3-0242ac120006-4-8793-5168-a15d-d1f2"
      },
      {
       "current": "953fffec-8203-11ee-91d3-0242ac120006-7-7147-045c-b78a-7c92-7ecf-52db-73ae",
       "next": "4dbe5af6-8203-11ee-91d3-0242ac120006-5-63f6-c450-2ad4-408d-9148",
       "previous": "42f26c6e-8205-11ee-91d3-0242ac120006-5-8793-5168-a15d-d1f2-7eb0"
      }
     ],
     "next": "4dbe5af6-8203-11ee-91d3-0242ac120006-6-63f6-c450-2ad4-408d-9148-643e",
     "previous": "42f26c6e-8205-11ee-91d3-0242ac120006-6-8793-5168-a15d-d1f2-7eb0-e8c6"
    }
   },
   "source": [
    "## OSD 追加"
   ]
  },
  {
   "cell_type": "code",
   "execution_count": null,
   "metadata": {
    "lc_cell_meme": {
     "current": "4dbe5af6-8203-11ee-91d3-0242ac120006-6-63f6-c450-2ad4-408d-9148-643e",
     "history": [
      {
       "current": "4dbe5af6-8203-11ee-91d3-0242ac120006",
       "next": "4dbe5b1e-8203-11ee-91d3-0242ac120006",
       "previous": "4dbe5ab0-8203-11ee-91d3-0242ac120006"
      },
      {
       "current": "4dbe5af6-8203-11ee-91d3-0242ac120006",
       "next": "4dbe5b1e-8203-11ee-91d3-0242ac120006",
       "previous": "953fffec-8203-11ee-91d3-0242ac120006"
      },
      {
       "current": "4dbe5af6-8203-11ee-91d3-0242ac120006-1-63f6",
       "next": "4dbe5b1e-8203-11ee-91d3-0242ac120006",
       "previous": "953fffec-8203-11ee-91d3-0242ac120006-1-7147"
      },
      {
       "current": "4dbe5af6-8203-11ee-91d3-0242ac120006-2-63f6-c450",
       "next": "4dbe5b1e-8203-11ee-91d3-0242ac120006-1-9611",
       "previous": "953fffec-8203-11ee-91d3-0242ac120006-2-7147-045c"
      },
      {
       "current": "4dbe5af6-8203-11ee-91d3-0242ac120006-3-63f6-c450-2ad4",
       "next": "4dbe5b1e-8203-11ee-91d3-0242ac120006-2-9611-2bf8",
       "previous": "953fffec-8203-11ee-91d3-0242ac120006-3-7147-045c-b78a"
      },
      {
       "current": "4dbe5af6-8203-11ee-91d3-0242ac120006-4-63f6-c450-2ad4-408d",
       "next": "4dbe5b1e-8203-11ee-91d3-0242ac120006-3-9611-2bf8-754b",
       "previous": "953fffec-8203-11ee-91d3-0242ac120006-4-7147-045c-b78a-7c92"
      },
      {
       "current": "4dbe5af6-8203-11ee-91d3-0242ac120006-5-63f6-c450-2ad4-408d-9148",
       "next": "4dbe5b1e-8203-11ee-91d3-0242ac120006-4-9611-2bf8-754b-4742",
       "previous": "953fffec-8203-11ee-91d3-0242ac120006-5-7147-045c-b78a-7c92-7ecf"
      },
      {
       "current": "4dbe5af6-8203-11ee-91d3-0242ac120006-6-63f6-c450-2ad4-408d-9148-643e",
       "next": "4dbe5b1e-8203-11ee-91d3-0242ac120006-5-9611-2bf8-754b-4742-67ea",
       "previous": "953fffec-8203-11ee-91d3-0242ac120006-6-7147-045c-b78a-7c92-7ecf-52db"
      }
     ],
     "next": "4dbe5b1e-8203-11ee-91d3-0242ac120006-6-9611-2bf8-754b-4742-67ea-e1e5",
     "previous": "953fffec-8203-11ee-91d3-0242ac120006-7-7147-045c-b78a-7c92-7ecf-52db-73ae"
    },
    "scrolled": true
   },
   "outputs": [],
   "source": [
    "for index in range(apply_osd_num):\n",
    "    db_dev = apply_lv_info_list[index]['db_lv_info']['lv_path']\n",
    "    data_dev = apply_lv_info_list[index]['data_lv_info']['lv_path']\n",
    "    print(\"instance_name={} db_dev={} data_dev={}\".format(instance_name,db_dev,data_dev))\n",
    "    !ansible -i $hosts -b -m shell -a \"cephadm shell -- ceph orch daemon add osd $instance_name:data_devices=$data_dev,db_devices=$db_dev\" bootstrap"
   ]
  },
  {
   "cell_type": "code",
   "execution_count": null,
   "metadata": {
    "lc_cell_meme": {
     "current": "4dbe5b1e-8203-11ee-91d3-0242ac120006-6-9611-2bf8-754b-4742-67ea-e1e5",
     "history": [
      {
       "current": "4dbe5b1e-8203-11ee-91d3-0242ac120006",
       "next": "35c581ba-55a3-11e7-b0b2-00163e9c0e35-2-89bc-f9d0",
       "previous": "4dbe5af6-8203-11ee-91d3-0242ac120006"
      },
      {
       "current": "4dbe5b1e-8203-11ee-91d3-0242ac120006-1-9611",
       "next": "fae6cd8e-8204-11ee-91d3-0242ac120006",
       "previous": "4dbe5af6-8203-11ee-91d3-0242ac120006"
      },
      {
       "current": "4dbe5b1e-8203-11ee-91d3-0242ac120006-2-9611-2bf8",
       "next": "fae6cd8e-8204-11ee-91d3-0242ac120006-1-ac9b",
       "previous": "4dbe5af6-8203-11ee-91d3-0242ac120006-1-63f6"
      },
      {
       "current": "4dbe5b1e-8203-11ee-91d3-0242ac120006-3-9611-2bf8-754b",
       "next": "fae6cd8e-8204-11ee-91d3-0242ac120006-2-ac9b-8591",
       "previous": "4dbe5af6-8203-11ee-91d3-0242ac120006-2-63f6-c450"
      },
      {
       "current": "4dbe5b1e-8203-11ee-91d3-0242ac120006-4-9611-2bf8-754b-4742",
       "next": "fae6cd8e-8204-11ee-91d3-0242ac120006-3-ac9b-8591-4459",
       "previous": "4dbe5af6-8203-11ee-91d3-0242ac120006-3-63f6-c450-2ad4"
      },
      {
       "current": "4dbe5b1e-8203-11ee-91d3-0242ac120006-5-9611-2bf8-754b-4742-67ea",
       "next": "fae6cd8e-8204-11ee-91d3-0242ac120006-4-ac9b-8591-4459-1184",
       "previous": "4dbe5af6-8203-11ee-91d3-0242ac120006-4-63f6-c450-2ad4-408d"
      },
      {
       "current": "4dbe5b1e-8203-11ee-91d3-0242ac120006-6-9611-2bf8-754b-4742-67ea-e1e5",
       "next": "fae6cd8e-8204-11ee-91d3-0242ac120006-5-ac9b-8591-4459-1184-5b72",
       "previous": "4dbe5af6-8203-11ee-91d3-0242ac120006-5-63f6-c450-2ad4-408d-9148"
      }
     ],
     "next": "fae6cd8e-8204-11ee-91d3-0242ac120006-6-ac9b-8591-4459-1184-5b72-d6ab",
     "previous": "4dbe5af6-8203-11ee-91d3-0242ac120006-6-63f6-c450-2ad4-408d-9148-643e"
    }
   },
   "outputs": [],
   "source": [
    "!ansible -i $hosts -b -m shell -a 'cephadm shell -- ceph orch ls 2> /dev/null' bootstrap"
   ]
  },
  {
   "cell_type": "code",
   "execution_count": null,
   "metadata": {
    "lc_cell_meme": {
     "current": "fae6cd8e-8204-11ee-91d3-0242ac120006-6-ac9b-8591-4459-1184-5b72-d6ab",
     "history": [
      {
       "current": "fae6cd8e-8204-11ee-91d3-0242ac120006",
       "next": "fae6cf50-8204-11ee-91d3-0242ac120006",
       "previous": "4dbe5b1e-8203-11ee-91d3-0242ac120006"
      },
      {
       "current": "fae6cd8e-8204-11ee-91d3-0242ac120006-1-ac9b",
       "next": "fae6cf50-8204-11ee-91d3-0242ac120006-1-078c",
       "previous": "4dbe5b1e-8203-11ee-91d3-0242ac120006"
      },
      {
       "current": "fae6cd8e-8204-11ee-91d3-0242ac120006-2-ac9b-8591",
       "next": "fae6cf50-8204-11ee-91d3-0242ac120006-2-078c-ddf6",
       "previous": "4dbe5b1e-8203-11ee-91d3-0242ac120006-1-9611"
      },
      {
       "current": "fae6cd8e-8204-11ee-91d3-0242ac120006-3-ac9b-8591-4459",
       "next": "fae6cf50-8204-11ee-91d3-0242ac120006-3-078c-ddf6-8b0c",
       "previous": "4dbe5b1e-8203-11ee-91d3-0242ac120006-2-9611-2bf8"
      },
      {
       "current": "fae6cd8e-8204-11ee-91d3-0242ac120006-4-ac9b-8591-4459-1184",
       "next": "fae6cf50-8204-11ee-91d3-0242ac120006-4-078c-ddf6-8b0c-c48b",
       "previous": "4dbe5b1e-8203-11ee-91d3-0242ac120006-3-9611-2bf8-754b"
      },
      {
       "current": "fae6cd8e-8204-11ee-91d3-0242ac120006-5-ac9b-8591-4459-1184-5b72",
       "next": "fae6cf50-8204-11ee-91d3-0242ac120006-5-078c-ddf6-8b0c-c48b-6826",
       "previous": "4dbe5b1e-8203-11ee-91d3-0242ac120006-4-9611-2bf8-754b-4742"
      },
      {
       "current": "fae6cd8e-8204-11ee-91d3-0242ac120006-6-ac9b-8591-4459-1184-5b72-d6ab",
       "next": "fae6cf50-8204-11ee-91d3-0242ac120006-6-078c-ddf6-8b0c-c48b-6826-d9e5",
       "previous": "4dbe5b1e-8203-11ee-91d3-0242ac120006-5-9611-2bf8-754b-4742-67ea"
      }
     ],
     "next": "fae6cf50-8204-11ee-91d3-0242ac120006-7-078c-ddf6-8b0c-c48b-6826-d9e5-63d8",
     "previous": "4dbe5b1e-8203-11ee-91d3-0242ac120006-6-9611-2bf8-754b-4742-67ea-e1e5"
    }
   },
   "outputs": [],
   "source": [
    "!ansible -i $hosts -b -m shell -a 'cephadm shell -- ceph -s 2> /dev/null' bootstrap"
   ]
  },
  {
   "cell_type": "markdown",
   "metadata": {
    "lc_cell_meme": {
     "current": "fae6cf50-8204-11ee-91d3-0242ac120006-7-078c-ddf6-8b0c-c48b-6826-d9e5-63d8",
     "history": [
      {
       "current": "fae6cf50-8204-11ee-91d3-0242ac120006",
       "next": "fae6d004-8204-11ee-91d3-0242ac120006",
       "previous": "fae6cd8e-8204-11ee-91d3-0242ac120006"
      },
      {
       "current": "fae6cf50-8204-11ee-91d3-0242ac120006-2-078c-ddf6",
       "next": "42f26ca0-8205-11ee-91d3-0242ac120006",
       "previous": "fae6cd8e-8204-11ee-91d3-0242ac120006"
      },
      {
       "current": "fae6cf50-8204-11ee-91d3-0242ac120006-3-078c-ddf6-8b0c",
       "next": "42f26ca0-8205-11ee-91d3-0242ac120006-1-eed1",
       "previous": "fae6cd8e-8204-11ee-91d3-0242ac120006-1-ac9b"
      },
      {
       "current": "fae6cf50-8204-11ee-91d3-0242ac120006-4-078c-ddf6-8b0c-c48b",
       "next": "42f26ca0-8205-11ee-91d3-0242ac120006-2-eed1-97ec",
       "previous": "fae6cd8e-8204-11ee-91d3-0242ac120006-2-ac9b-8591"
      },
      {
       "current": "fae6cf50-8204-11ee-91d3-0242ac120006-5-078c-ddf6-8b0c-c48b-6826",
       "next": "42f26ca0-8205-11ee-91d3-0242ac120006-3-eed1-97ec-175f",
       "previous": "fae6cd8e-8204-11ee-91d3-0242ac120006-3-ac9b-8591-4459"
      },
      {
       "current": "fae6cf50-8204-11ee-91d3-0242ac120006-6-078c-ddf6-8b0c-c48b-6826-d9e5",
       "next": "42f26ca0-8205-11ee-91d3-0242ac120006-4-eed1-97ec-175f-cd72",
       "previous": "fae6cd8e-8204-11ee-91d3-0242ac120006-4-ac9b-8591-4459-1184"
      },
      {
       "current": "fae6cf50-8204-11ee-91d3-0242ac120006-7-078c-ddf6-8b0c-c48b-6826-d9e5-63d8",
       "next": "42f26ca0-8205-11ee-91d3-0242ac120006-5-eed1-97ec-175f-cd72-e4a3",
       "previous": "fae6cd8e-8204-11ee-91d3-0242ac120006-5-ac9b-8591-4459-1184-5b72"
      }
     ],
     "next": "42f26ca0-8205-11ee-91d3-0242ac120006-6-eed1-97ec-175f-cd72-e4a3-6df3",
     "previous": "fae6cd8e-8204-11ee-91d3-0242ac120006-6-ac9b-8591-4459-1184-5b72-d6ab"
    }
   },
   "source": [
    "## OSD構築後のスクラビング有効化"
   ]
  },
  {
   "cell_type": "code",
   "execution_count": null,
   "metadata": {
    "lc_cell_meme": {
     "current": "42f26ca0-8205-11ee-91d3-0242ac120006-6-eed1-97ec-175f-cd72-e4a3-6df3",
     "history": [
      {
       "current": "42f26ca0-8205-11ee-91d3-0242ac120006",
       "next": "42f26cd2-8205-11ee-91d3-0242ac120006",
       "previous": "fae6cf50-8204-11ee-91d3-0242ac120006"
      },
      {
       "current": "42f26ca0-8205-11ee-91d3-0242ac120006-1-eed1",
       "next": "42f26cd2-8205-11ee-91d3-0242ac120006",
       "previous": "fae6cf50-8204-11ee-91d3-0242ac120006-1-078c"
      },
      {
       "current": "42f26ca0-8205-11ee-91d3-0242ac120006-2-eed1-97ec",
       "next": "42f26cd2-8205-11ee-91d3-0242ac120006-1-4114",
       "previous": "fae6cf50-8204-11ee-91d3-0242ac120006-2-078c-ddf6"
      },
      {
       "current": "42f26ca0-8205-11ee-91d3-0242ac120006-3-eed1-97ec-175f",
       "next": "42f26cd2-8205-11ee-91d3-0242ac120006-2-4114-2430",
       "previous": "fae6cf50-8204-11ee-91d3-0242ac120006-3-078c-ddf6-8b0c"
      },
      {
       "current": "42f26ca0-8205-11ee-91d3-0242ac120006-4-eed1-97ec-175f-cd72",
       "next": "42f26cd2-8205-11ee-91d3-0242ac120006-3-4114-2430-e010",
       "previous": "fae6cf50-8204-11ee-91d3-0242ac120006-4-078c-ddf6-8b0c-c48b"
      },
      {
       "current": "42f26ca0-8205-11ee-91d3-0242ac120006-5-eed1-97ec-175f-cd72-e4a3",
       "next": "42f26cd2-8205-11ee-91d3-0242ac120006-4-4114-2430-e010-e591",
       "previous": "fae6cf50-8204-11ee-91d3-0242ac120006-5-078c-ddf6-8b0c-c48b-6826"
      },
      {
       "current": "42f26ca0-8205-11ee-91d3-0242ac120006-6-eed1-97ec-175f-cd72-e4a3-6df3",
       "next": "42f26cd2-8205-11ee-91d3-0242ac120006-5-4114-2430-e010-e591-152c",
       "previous": "fae6cf50-8204-11ee-91d3-0242ac120006-6-078c-ddf6-8b0c-c48b-6826-d9e5"
      }
     ],
     "next": "42f26cd2-8205-11ee-91d3-0242ac120006-6-4114-2430-e010-e591-152c-f128",
     "previous": "fae6cf50-8204-11ee-91d3-0242ac120006-7-078c-ddf6-8b0c-c48b-6826-d9e5-63d8"
    }
   },
   "outputs": [],
   "source": [
    "!ansible -i $hosts -b -m shell -a \"cephadm shell -- ceph osd unset noscrub\" bootstrap"
   ]
  },
  {
   "cell_type": "code",
   "execution_count": null,
   "metadata": {
    "lc_cell_meme": {
     "current": "42f26cd2-8205-11ee-91d3-0242ac120006-6-4114-2430-e010-e591-152c-f128",
     "history": [
      {
       "current": "42f26cd2-8205-11ee-91d3-0242ac120006",
       "next": "42f26cfa-8205-11ee-91d3-0242ac120006",
       "previous": "42f26ca0-8205-11ee-91d3-0242ac120006"
      },
      {
       "current": "42f26cd2-8205-11ee-91d3-0242ac120006-1-4114",
       "next": "42f26cfa-8205-11ee-91d3-0242ac120006-1-510b",
       "previous": "42f26ca0-8205-11ee-91d3-0242ac120006"
      },
      {
       "current": "42f26cd2-8205-11ee-91d3-0242ac120006-2-4114-2430",
       "next": "42f26cfa-8205-11ee-91d3-0242ac120006-2-510b-7b2e",
       "previous": "42f26ca0-8205-11ee-91d3-0242ac120006-1-eed1"
      },
      {
       "current": "42f26cd2-8205-11ee-91d3-0242ac120006-3-4114-2430-e010",
       "next": "42f26cfa-8205-11ee-91d3-0242ac120006-3-510b-7b2e-5f9a",
       "previous": "42f26ca0-8205-11ee-91d3-0242ac120006-2-eed1-97ec"
      },
      {
       "current": "42f26cd2-8205-11ee-91d3-0242ac120006-4-4114-2430-e010-e591",
       "next": "42f26cfa-8205-11ee-91d3-0242ac120006-4-510b-7b2e-5f9a-f2d5",
       "previous": "42f26ca0-8205-11ee-91d3-0242ac120006-3-eed1-97ec-175f"
      },
      {
       "current": "42f26cd2-8205-11ee-91d3-0242ac120006-5-4114-2430-e010-e591-152c",
       "next": "42f26cfa-8205-11ee-91d3-0242ac120006-5-510b-7b2e-5f9a-f2d5-b068",
       "previous": "42f26ca0-8205-11ee-91d3-0242ac120006-4-eed1-97ec-175f-cd72"
      },
      {
       "current": "42f26cd2-8205-11ee-91d3-0242ac120006-6-4114-2430-e010-e591-152c-f128",
       "next": "42f26cfa-8205-11ee-91d3-0242ac120006-6-510b-7b2e-5f9a-f2d5-b068-4979",
       "previous": "42f26ca0-8205-11ee-91d3-0242ac120006-5-eed1-97ec-175f-cd72-e4a3"
      }
     ],
     "next": "42f26cfa-8205-11ee-91d3-0242ac120006-7-510b-7b2e-5f9a-f2d5-b068-4979-81b7",
     "previous": "42f26ca0-8205-11ee-91d3-0242ac120006-6-eed1-97ec-175f-cd72-e4a3-6df3"
    }
   },
   "outputs": [],
   "source": [
    "!ansible -i $hosts -b -m shell -a \"cephadm shell -- ceph osd unset nodeep-scrub\" bootstrap"
   ]
  },
  {
   "cell_type": "markdown",
   "metadata": {
    "lc_cell_meme": {
     "current": "42f26cfa-8205-11ee-91d3-0242ac120006-7-510b-7b2e-5f9a-f2d5-b068-4979-81b7",
     "history": [
      {
       "current": "42f26cfa-8205-11ee-91d3-0242ac120006-2-510b-7b2e",
       "next": "fae6d004-8204-11ee-91d3-0242ac120006",
       "previous": "42f26cd2-8205-11ee-91d3-0242ac120006"
      },
      {
       "current": "42f26cfa-8205-11ee-91d3-0242ac120006-3-510b-7b2e-5f9a",
       "next": "fae6d004-8204-11ee-91d3-0242ac120006-1-802c",
       "previous": "42f26cd2-8205-11ee-91d3-0242ac120006-1-4114"
      },
      {
       "current": "42f26cfa-8205-11ee-91d3-0242ac120006-4-510b-7b2e-5f9a-f2d5",
       "next": "fae6d004-8204-11ee-91d3-0242ac120006-2-802c-4941",
       "previous": "42f26cd2-8205-11ee-91d3-0242ac120006-2-4114-2430"
      },
      {
       "current": "42f26cfa-8205-11ee-91d3-0242ac120006-5-510b-7b2e-5f9a-f2d5-b068",
       "next": "fae6d004-8204-11ee-91d3-0242ac120006-3-802c-4941-8ac4",
       "previous": "42f26cd2-8205-11ee-91d3-0242ac120006-3-4114-2430-e010"
      },
      {
       "current": "42f26cfa-8205-11ee-91d3-0242ac120006-6-510b-7b2e-5f9a-f2d5-b068-4979",
       "next": "fae6d004-8204-11ee-91d3-0242ac120006-4-802c-4941-8ac4-6261",
       "previous": "42f26cd2-8205-11ee-91d3-0242ac120006-4-4114-2430-e010-e591"
      },
      {
       "current": "42f26cfa-8205-11ee-91d3-0242ac120006-7-510b-7b2e-5f9a-f2d5-b068-4979-81b7",
       "next": "fae6d004-8204-11ee-91d3-0242ac120006-5-802c-4941-8ac4-6261-925a",
       "previous": "42f26cd2-8205-11ee-91d3-0242ac120006-5-4114-2430-e010-e591-152c"
      }
     ],
     "next": "fae6d004-8204-11ee-91d3-0242ac120006-6-802c-4941-8ac4-6261-925a-2214",
     "previous": "42f26cd2-8205-11ee-91d3-0242ac120006-6-4114-2430-e010-e591-152c-f128"
    }
   },
   "source": [
    "## バックフィルおよびリカバリー機能を default に戻す"
   ]
  },
  {
   "cell_type": "code",
   "execution_count": null,
   "metadata": {
    "lc_cell_meme": {
     "current": "fae6d004-8204-11ee-91d3-0242ac120006-6-802c-4941-8ac4-6261-925a-2214",
     "history": [
      {
       "current": "fae6d004-8204-11ee-91d3-0242ac120006",
       "next": "35c581ba-55a3-11e7-b0b2-00163e9c0e35-2-89bc-f9d0",
       "previous": "fae6cf50-8204-11ee-91d3-0242ac120006"
      },
      {
       "current": "fae6d004-8204-11ee-91d3-0242ac120006",
       "next": "35c581ba-55a3-11e7-b0b2-00163e9c0e35-2-89bc-f9d0",
       "previous": "42f26cfa-8205-11ee-91d3-0242ac120006"
      },
      {
       "current": "fae6d004-8204-11ee-91d3-0242ac120006-1-802c",
       "next": "79af704a-81fa-11ee-91d3-0242ac120006-2-93c1-4f3b",
       "previous": "42f26cfa-8205-11ee-91d3-0242ac120006-1-510b"
      },
      {
       "current": "fae6d004-8204-11ee-91d3-0242ac120006-2-802c-4941",
       "next": "79af704a-81fa-11ee-91d3-0242ac120006-3-93c1-4f3b-7ae9",
       "previous": "42f26cfa-8205-11ee-91d3-0242ac120006-2-510b-7b2e"
      },
      {
       "current": "fae6d004-8204-11ee-91d3-0242ac120006-3-802c-4941-8ac4",
       "next": "79af704a-81fa-11ee-91d3-0242ac120006-4-93c1-4f3b-7ae9-8c3a",
       "previous": "42f26cfa-8205-11ee-91d3-0242ac120006-3-510b-7b2e-5f9a"
      },
      {
       "current": "fae6d004-8204-11ee-91d3-0242ac120006-4-802c-4941-8ac4-6261",
       "next": "79af704a-81fa-11ee-91d3-0242ac120006-5-93c1-4f3b-7ae9-8c3a-5148",
       "previous": "42f26cfa-8205-11ee-91d3-0242ac120006-4-510b-7b2e-5f9a-f2d5"
      },
      {
       "current": "fae6d004-8204-11ee-91d3-0242ac120006-5-802c-4941-8ac4-6261-925a",
       "next": "79af704a-81fa-11ee-91d3-0242ac120006-6-93c1-4f3b-7ae9-8c3a-5148-1067",
       "previous": "42f26cfa-8205-11ee-91d3-0242ac120006-5-510b-7b2e-5f9a-f2d5-b068"
      },
      {
       "current": "fae6d004-8204-11ee-91d3-0242ac120006-6-802c-4941-8ac4-6261-925a-2214",
       "next": "79af704a-81fa-11ee-91d3-0242ac120006-7-93c1-4f3b-7ae9-8c3a-5148-1067-eb50",
       "previous": "42f26cfa-8205-11ee-91d3-0242ac120006-6-510b-7b2e-5f9a-f2d5-b068-4979"
      }
     ],
     "next": "79af704a-81fa-11ee-91d3-0242ac120006-8-93c1-4f3b-7ae9-8c3a-5148-1067-eb50-ce69",
     "previous": "42f26cfa-8205-11ee-91d3-0242ac120006-7-510b-7b2e-5f9a-f2d5-b068-4979-81b7"
    },
    "scrolled": true
   },
   "outputs": [],
   "source": [
    "!ansible -i $hosts -b -m shell -a \"cephadm shell -- ceph tell osd.* injectargs --osd-max-backfills 1 --osd-recovery-max-active 3 --osd-recovery-op-priority 3\" bootstrap"
   ]
  },
  {
   "cell_type": "markdown",
   "metadata": {
    "lc_cell_meme": {
     "current": "79af704a-81fa-11ee-91d3-0242ac120006-8-93c1-4f3b-7ae9-8c3a-5148-1067-eb50-ce69",
     "history": [
      {
       "current": "79af704a-81fa-11ee-91d3-0242ac120006-2-93c1-4f3b",
       "next": "79af70f4-81fa-11ee-91d3-0242ac120006",
       "previous": "79af6e92-81fa-11ee-91d3-0242ac120006"
      },
      {
       "current": "79af704a-81fa-11ee-91d3-0242ac120006-3-93c1-4f3b-7ae9",
       "next": "79af70f4-81fa-11ee-91d3-0242ac120006-1-a61a",
       "previous": "fae6d004-8204-11ee-91d3-0242ac120006"
      },
      {
       "current": "79af704a-81fa-11ee-91d3-0242ac120006-4-93c1-4f3b-7ae9-8c3a",
       "next": "79af70f4-81fa-11ee-91d3-0242ac120006-2-a61a-a5a2",
       "previous": "fae6d004-8204-11ee-91d3-0242ac120006-1-802c"
      },
      {
       "current": "79af704a-81fa-11ee-91d3-0242ac120006-5-93c1-4f3b-7ae9-8c3a-5148",
       "next": "79af70f4-81fa-11ee-91d3-0242ac120006-3-a61a-a5a2-cf7d",
       "previous": "fae6d004-8204-11ee-91d3-0242ac120006-2-802c-4941"
      },
      {
       "current": "79af704a-81fa-11ee-91d3-0242ac120006-6-93c1-4f3b-7ae9-8c3a-5148-1067",
       "next": "79af70f4-81fa-11ee-91d3-0242ac120006-4-a61a-a5a2-cf7d-cd8b",
       "previous": "fae6d004-8204-11ee-91d3-0242ac120006-3-802c-4941-8ac4"
      },
      {
       "current": "79af704a-81fa-11ee-91d3-0242ac120006-7-93c1-4f3b-7ae9-8c3a-5148-1067-eb50",
       "next": "79af70f4-81fa-11ee-91d3-0242ac120006-5-a61a-a5a2-cf7d-cd8b-a605",
       "previous": "fae6d004-8204-11ee-91d3-0242ac120006-4-802c-4941-8ac4-6261"
      },
      {
       "current": "79af704a-81fa-11ee-91d3-0242ac120006-8-93c1-4f3b-7ae9-8c3a-5148-1067-eb50-ce69",
       "next": "79af70f4-81fa-11ee-91d3-0242ac120006-6-a61a-a5a2-cf7d-cd8b-a605-0e38",
       "previous": "fae6d004-8204-11ee-91d3-0242ac120006-5-802c-4941-8ac4-6261-925a"
      }
     ],
     "next": "79af70f4-81fa-11ee-91d3-0242ac120006-7-a61a-a5a2-cf7d-cd8b-a605-0e38-cede",
     "previous": "fae6d004-8204-11ee-91d3-0242ac120006-6-802c-4941-8ac4-6261-925a-2214"
    }
   },
   "source": [
    "## 対象ノードのOSDの詳細情報取得"
   ]
  },
  {
   "cell_type": "code",
   "execution_count": null,
   "metadata": {
    "lc_cell_meme": {
     "current": "79af70f4-81fa-11ee-91d3-0242ac120006-7-a61a-a5a2-cf7d-cd8b-a605-0e38-cede",
     "history": [
      {
       "current": "79af70f4-81fa-11ee-91d3-0242ac120006",
       "next": "79af7176-81fa-11ee-91d3-0242ac120006",
       "previous": "79af704a-81fa-11ee-91d3-0242ac120006"
      },
      {
       "current": "79af70f4-81fa-11ee-91d3-0242ac120006-1-a61a",
       "next": "c26b72f6-81fb-11ee-91d3-0242ac120006",
       "previous": "79af704a-81fa-11ee-91d3-0242ac120006-1-93c1"
      },
      {
       "current": "79af70f4-81fa-11ee-91d3-0242ac120006-2-a61a-a5a2",
       "next": "c26b72f6-81fb-11ee-91d3-0242ac120006-1-ac0c",
       "previous": "79af704a-81fa-11ee-91d3-0242ac120006-2-93c1-4f3b"
      },
      {
       "current": "79af70f4-81fa-11ee-91d3-0242ac120006-3-a61a-a5a2-cf7d",
       "next": "c26b72f6-81fb-11ee-91d3-0242ac120006-2-ac0c-635f",
       "previous": "79af704a-81fa-11ee-91d3-0242ac120006-3-93c1-4f3b-7ae9"
      },
      {
       "current": "79af70f4-81fa-11ee-91d3-0242ac120006-4-a61a-a5a2-cf7d-cd8b",
       "next": "c26b72f6-81fb-11ee-91d3-0242ac120006-3-ac0c-635f-9716",
       "previous": "79af704a-81fa-11ee-91d3-0242ac120006-4-93c1-4f3b-7ae9-8c3a"
      },
      {
       "current": "79af70f4-81fa-11ee-91d3-0242ac120006-5-a61a-a5a2-cf7d-cd8b-a605",
       "next": "c26b72f6-81fb-11ee-91d3-0242ac120006-4-ac0c-635f-9716-b6a8",
       "previous": "79af704a-81fa-11ee-91d3-0242ac120006-5-93c1-4f3b-7ae9-8c3a-5148"
      },
      {
       "current": "79af70f4-81fa-11ee-91d3-0242ac120006-6-a61a-a5a2-cf7d-cd8b-a605-0e38",
       "next": "c26b72f6-81fb-11ee-91d3-0242ac120006-5-ac0c-635f-9716-b6a8-d7be",
       "previous": "79af704a-81fa-11ee-91d3-0242ac120006-6-93c1-4f3b-7ae9-8c3a-5148-1067"
      },
      {
       "current": "79af70f4-81fa-11ee-91d3-0242ac120006-7-a61a-a5a2-cf7d-cd8b-a605-0e38-cede",
       "next": "c26b72f6-81fb-11ee-91d3-0242ac120006-6-ac0c-635f-9716-b6a8-d7be-39d0",
       "previous": "79af704a-81fa-11ee-91d3-0242ac120006-7-93c1-4f3b-7ae9-8c3a-5148-1067-eb50"
      }
     ],
     "next": "c26b72f6-81fb-11ee-91d3-0242ac120006-7-ac0c-635f-9716-b6a8-d7be-39d0-3cb4",
     "previous": "79af704a-81fa-11ee-91d3-0242ac120006-8-93c1-4f3b-7ae9-8c3a-5148-1067-eb50-ce69"
    }
   },
   "outputs": [],
   "source": [
    "ret = !ansible -i $hosts -b -m shell -a \"cephadm shell -- ceph osd metadata --format=json 2> /dev/null\" bootstrap"
   ]
  },
  {
   "cell_type": "code",
   "execution_count": null,
   "metadata": {
    "lc_cell_meme": {
     "current": "c26b72f6-81fb-11ee-91d3-0242ac120006-7-ac0c-635f-9716-b6a8-d7be-39d0-3cb4",
     "history": [
      {
       "current": "c26b72f6-81fb-11ee-91d3-0242ac120006-1-ac0c",
       "next": "c26b74a4-81fb-11ee-91d3-0242ac120006",
       "previous": "79af70f4-81fa-11ee-91d3-0242ac120006"
      },
      {
       "current": "c26b72f6-81fb-11ee-91d3-0242ac120006-2-ac0c-635f",
       "next": "c26b74a4-81fb-11ee-91d3-0242ac120006-1-1d5a",
       "previous": "79af70f4-81fa-11ee-91d3-0242ac120006-1-a61a"
      },
      {
       "current": "c26b72f6-81fb-11ee-91d3-0242ac120006-3-ac0c-635f-9716",
       "next": "c26b74a4-81fb-11ee-91d3-0242ac120006-2-1d5a-a8a3",
       "previous": "79af70f4-81fa-11ee-91d3-0242ac120006-2-a61a-a5a2"
      },
      {
       "current": "c26b72f6-81fb-11ee-91d3-0242ac120006-4-ac0c-635f-9716-b6a8",
       "next": "c26b74a4-81fb-11ee-91d3-0242ac120006-3-1d5a-a8a3-7fb6",
       "previous": "79af70f4-81fa-11ee-91d3-0242ac120006-3-a61a-a5a2-cf7d"
      },
      {
       "current": "c26b72f6-81fb-11ee-91d3-0242ac120006-5-ac0c-635f-9716-b6a8-d7be",
       "next": "c26b74a4-81fb-11ee-91d3-0242ac120006-4-1d5a-a8a3-7fb6-cb7c",
       "previous": "79af70f4-81fa-11ee-91d3-0242ac120006-4-a61a-a5a2-cf7d-cd8b"
      },
      {
       "current": "c26b72f6-81fb-11ee-91d3-0242ac120006-6-ac0c-635f-9716-b6a8-d7be-39d0",
       "next": "c26b74a4-81fb-11ee-91d3-0242ac120006-5-1d5a-a8a3-7fb6-cb7c-8cc2",
       "previous": "79af70f4-81fa-11ee-91d3-0242ac120006-5-a61a-a5a2-cf7d-cd8b-a605"
      },
      {
       "current": "c26b72f6-81fb-11ee-91d3-0242ac120006-7-ac0c-635f-9716-b6a8-d7be-39d0-3cb4",
       "next": "c26b74a4-81fb-11ee-91d3-0242ac120006-6-1d5a-a8a3-7fb6-cb7c-8cc2-1215",
       "previous": "79af70f4-81fa-11ee-91d3-0242ac120006-6-a61a-a5a2-cf7d-cd8b-a605-0e38"
      }
     ],
     "next": "c26b74a4-81fb-11ee-91d3-0242ac120006-7-1d5a-a8a3-7fb6-cb7c-8cc2-1215-da8c",
     "previous": "79af70f4-81fa-11ee-91d3-0242ac120006-7-a61a-a5a2-cf7d-cd8b-a605-0e38-cede"
    },
    "scrolled": true
   },
   "outputs": [],
   "source": [
    "osd_metadata_list = json.loads(ret[2])\n",
    "print(json.dumps(osd_metadata_list, indent=2))"
   ]
  },
  {
   "cell_type": "code",
   "execution_count": null,
   "metadata": {
    "lc_cell_meme": {
     "current": "c26b74a4-81fb-11ee-91d3-0242ac120006-7-1d5a-a8a3-7fb6-cb7c-8cc2-1215-da8c",
     "history": [
      {
       "current": "c26b74a4-81fb-11ee-91d3-0242ac120006-1-1d5a",
       "next": "c26b7544-81fb-11ee-91d3-0242ac120006",
       "previous": "c26b72f6-81fb-11ee-91d3-0242ac120006"
      },
      {
       "current": "c26b74a4-81fb-11ee-91d3-0242ac120006-2-1d5a-a8a3",
       "next": "c26b7544-81fb-11ee-91d3-0242ac120006-1-767b",
       "previous": "c26b72f6-81fb-11ee-91d3-0242ac120006-1-ac0c"
      },
      {
       "current": "c26b74a4-81fb-11ee-91d3-0242ac120006-3-1d5a-a8a3-7fb6",
       "next": "c26b7544-81fb-11ee-91d3-0242ac120006-2-767b-2d8e",
       "previous": "c26b72f6-81fb-11ee-91d3-0242ac120006-2-ac0c-635f"
      },
      {
       "current": "c26b74a4-81fb-11ee-91d3-0242ac120006-4-1d5a-a8a3-7fb6-cb7c",
       "next": "c26b7544-81fb-11ee-91d3-0242ac120006-3-767b-2d8e-33a3",
       "previous": "c26b72f6-81fb-11ee-91d3-0242ac120006-3-ac0c-635f-9716"
      },
      {
       "current": "c26b74a4-81fb-11ee-91d3-0242ac120006-5-1d5a-a8a3-7fb6-cb7c-8cc2",
       "next": "c26b7544-81fb-11ee-91d3-0242ac120006-4-767b-2d8e-33a3-a0d8",
       "previous": "c26b72f6-81fb-11ee-91d3-0242ac120006-4-ac0c-635f-9716-b6a8"
      },
      {
       "current": "c26b74a4-81fb-11ee-91d3-0242ac120006-6-1d5a-a8a3-7fb6-cb7c-8cc2-1215",
       "next": "c26b7544-81fb-11ee-91d3-0242ac120006-5-767b-2d8e-33a3-a0d8-d709",
       "previous": "c26b72f6-81fb-11ee-91d3-0242ac120006-5-ac0c-635f-9716-b6a8-d7be"
      },
      {
       "current": "c26b74a4-81fb-11ee-91d3-0242ac120006-7-1d5a-a8a3-7fb6-cb7c-8cc2-1215-da8c",
       "next": "c26b7544-81fb-11ee-91d3-0242ac120006-6-767b-2d8e-33a3-a0d8-d709-289a",
       "previous": "c26b72f6-81fb-11ee-91d3-0242ac120006-6-ac0c-635f-9716-b6a8-d7be-39d0"
      }
     ],
     "next": "c26b7544-81fb-11ee-91d3-0242ac120006-7-767b-2d8e-33a3-a0d8-d709-289a-82d0",
     "previous": "c26b72f6-81fb-11ee-91d3-0242ac120006-7-ac0c-635f-9716-b6a8-d7be-39d0-3cb4"
    }
   },
   "outputs": [],
   "source": [
    "osd_strage_info_list = []\n",
    "for osd_metadata in osd_metadata_list:\n",
    "    hostname = osd_metadata['container_hostname']\n",
    "    if instance_name != hostname:\n",
    "        continue\n",
    "    osd_strage_info = {}\n",
    "    osd_strage_info['hostname'] = hostname\n",
    "    osd_strage_info['osd_id'] = osd_metadata['id']\n",
    "    osd_strage_info['bluefs_db_partition_path'] = osd_metadata['bluefs_db_partition_path']\n",
    "    osd_strage_info['bluefs_db_type'] = osd_metadata['bluefs_db_type']\n",
    "    osd_strage_info['bluestore_bdev_partition_path'] = osd_metadata['bluestore_bdev_partition_path']\n",
    "    osd_strage_info['bluestore_bdev_type'] = osd_metadata['bluestore_bdev_type']\n",
    "    osd_strage_info_list.append(osd_strage_info)"
   ]
  },
  {
   "cell_type": "code",
   "execution_count": null,
   "metadata": {
    "lc_cell_meme": {
     "current": "c26b7544-81fb-11ee-91d3-0242ac120006-7-767b-2d8e-33a3-a0d8-d709-289a-82d0",
     "history": [
      {
       "current": "c26b7544-81fb-11ee-91d3-0242ac120006",
       "next": "c26b75bc-81fb-11ee-91d3-0242ac120006",
       "previous": "c26b74a4-81fb-11ee-91d3-0242ac120006"
      },
      {
       "current": "c26b7544-81fb-11ee-91d3-0242ac120006-1-767b",
       "next": "abdb20aa-81ff-11ee-91d3-0242ac120006",
       "previous": "c26b74a4-81fb-11ee-91d3-0242ac120006"
      },
      {
       "current": "c26b7544-81fb-11ee-91d3-0242ac120006-1-767b",
       "next": "8a7cff86-8205-11ee-91d3-0242ac120006",
       "previous": "c26b74a4-81fb-11ee-91d3-0242ac120006-1-1d5a"
      },
      {
       "current": "c26b7544-81fb-11ee-91d3-0242ac120006-2-767b-2d8e",
       "next": "35c581ba-55a3-11e7-b0b2-00163e9c0e35-2-89bc-f9d0",
       "previous": "c26b74a4-81fb-11ee-91d3-0242ac120006-1-1d5a"
      },
      {
       "current": "c26b7544-81fb-11ee-91d3-0242ac120006-2-767b-2d8e",
       "next": "35c581ba-55a3-11e7-b0b2-00163e9c0e35-3-89bc-f9d0-6fda",
       "previous": "c26b74a4-81fb-11ee-91d3-0242ac120006-2-1d5a-a8a3"
      },
      {
       "current": "c26b7544-81fb-11ee-91d3-0242ac120006-3-767b-2d8e-33a3",
       "next": "f656b96a-a558-11ee-91d3-0242ac120006",
       "previous": "c26b74a4-81fb-11ee-91d3-0242ac120006-2-1d5a-a8a3"
      },
      {
       "current": "c26b7544-81fb-11ee-91d3-0242ac120006-4-767b-2d8e-33a3-a0d8",
       "next": "f656b96a-a558-11ee-91d3-0242ac120006-1-e5e0",
       "previous": "c26b74a4-81fb-11ee-91d3-0242ac120006-3-1d5a-a8a3-7fb6"
      },
      {
       "current": "c26b7544-81fb-11ee-91d3-0242ac120006-5-767b-2d8e-33a3-a0d8-d709",
       "next": "f656b96a-a558-11ee-91d3-0242ac120006-2-e5e0-38f0",
       "previous": "c26b74a4-81fb-11ee-91d3-0242ac120006-4-1d5a-a8a3-7fb6-cb7c"
      },
      {
       "current": "c26b7544-81fb-11ee-91d3-0242ac120006-6-767b-2d8e-33a3-a0d8-d709-289a",
       "next": "f656b96a-a558-11ee-91d3-0242ac120006-3-e5e0-38f0-9b4d",
       "previous": "c26b74a4-81fb-11ee-91d3-0242ac120006-5-1d5a-a8a3-7fb6-cb7c-8cc2"
      },
      {
       "current": "c26b7544-81fb-11ee-91d3-0242ac120006-7-767b-2d8e-33a3-a0d8-d709-289a-82d0",
       "next": "f656b96a-a558-11ee-91d3-0242ac120006-4-e5e0-38f0-9b4d-f6f5",
       "previous": "c26b74a4-81fb-11ee-91d3-0242ac120006-6-1d5a-a8a3-7fb6-cb7c-8cc2-1215"
      }
     ],
     "next": "f656b96a-a558-11ee-91d3-0242ac120006-5-e5e0-38f0-9b4d-f6f5-50a1",
     "previous": "c26b74a4-81fb-11ee-91d3-0242ac120006-7-1d5a-a8a3-7fb6-cb7c-8cc2-1215-da8c"
    }
   },
   "outputs": [],
   "source": [
    "pd.DataFrame(osd_strage_info_list)"
   ]
  },
  {
   "cell_type": "code",
   "execution_count": null,
   "metadata": {
    "lc_cell_meme": {
     "current": "f656b96a-a558-11ee-91d3-0242ac120006-5-e5e0-38f0-9b4d-f6f5-50a1",
     "history": [
      {
       "current": "f656b96a-a558-11ee-91d3-0242ac120006-1-e5e0",
       "next": "35c581ba-55a3-11e7-b0b2-00163e9c0e35-3-89bc-f9d0-6fda",
       "previous": "c26b7544-81fb-11ee-91d3-0242ac120006-2-767b-2d8e"
      },
      {
       "current": "f656b96a-a558-11ee-91d3-0242ac120006-2-e5e0-38f0",
       "next": "35c581ba-55a3-11e7-b0b2-00163e9c0e35-4-89bc-f9d0-6fda-4bde",
       "previous": "c26b7544-81fb-11ee-91d3-0242ac120006-3-767b-2d8e-33a3"
      },
      {
       "current": "f656b96a-a558-11ee-91d3-0242ac120006-3-e5e0-38f0-9b4d",
       "next": "35c581ba-55a3-11e7-b0b2-00163e9c0e35-5-89bc-f9d0-6fda-4bde-1515",
       "previous": "c26b7544-81fb-11ee-91d3-0242ac120006-4-767b-2d8e-33a3-a0d8"
      },
      {
       "current": "f656b96a-a558-11ee-91d3-0242ac120006-4-e5e0-38f0-9b4d-f6f5",
       "next": "35c581ba-55a3-11e7-b0b2-00163e9c0e35-6-89bc-f9d0-6fda-4bde-1515-4a99",
       "previous": "c26b7544-81fb-11ee-91d3-0242ac120006-5-767b-2d8e-33a3-a0d8-d709"
      },
      {
       "current": "f656b96a-a558-11ee-91d3-0242ac120006-5-e5e0-38f0-9b4d-f6f5-50a1",
       "next": "35c581ba-55a3-11e7-b0b2-00163e9c0e35-7-89bc-f9d0-6fda-4bde-1515-4a99-1160",
       "previous": "c26b7544-81fb-11ee-91d3-0242ac120006-6-767b-2d8e-33a3-a0d8-d709-289a"
      }
     ],
     "next": "35c581ba-55a3-11e7-b0b2-00163e9c0e35-8-89bc-f9d0-6fda-4bde-1515-4a99-1160-0fe8",
     "previous": "c26b7544-81fb-11ee-91d3-0242ac120006-7-767b-2d8e-33a3-a0d8-d709-289a-82d0"
    }
   },
   "outputs": [],
   "source": [
    "!ansible -i $hosts -b -m shell -a 'cephadm shell -- ceph -s 2> /dev/null' bootstrap"
   ]
  },
  {
   "cell_type": "markdown",
   "metadata": {
    "collapsed": true,
    "lc_cell_meme": {
     "current": "35c581ba-55a3-11e7-b0b2-00163e9c0e35-8-89bc-f9d0-6fda-4bde-1515-4a99-1160-0fe8",
     "history": [
      {
       "current": "35c581ba-55a3-11e7-b0b2-00163e9c0e35",
       "next": "35c58340-55a3-11e7-b0b2-00163e9c0e35",
       "previous": "35c58034-55a3-11e7-b0b2-00163e9c0e35"
      },
      {
       "current": "35c581ba-55a3-11e7-b0b2-00163e9c0e35",
       "next": "35c58340-55a3-11e7-b0b2-00163e9c0e35",
       "previous": "35c51928-55a3-11e7-b0b2-00163e9c0e35"
      },
      {
       "current": "35c581ba-55a3-11e7-b0b2-00163e9c0e35",
       "next": "35c58340-55a3-11e7-b0b2-00163e9c0e35",
       "previous": "277a614c-47b9-11ea-a028-0242ac120005"
      },
      {
       "current": "35c581ba-55a3-11e7-b0b2-00163e9c0e35",
       "next": "35c58340-55a3-11e7-b0b2-00163e9c0e35",
       "previous": "35c51928-55a3-11e7-b0b2-00163e9c0e35"
      },
      {
       "current": "35c581ba-55a3-11e7-b0b2-00163e9c0e35",
       "next": "35c58340-55a3-11e7-b0b2-00163e9c0e35",
       "previous": "b8a85906-47b6-11ea-a028-0242ac120005"
      },
      {
       "current": "35c581ba-55a3-11e7-b0b2-00163e9c0e35",
       "next": "35c58340-55a3-11e7-b0b2-00163e9c0e35",
       "previous": "35c38fae-55a3-11e7-b0b2-00163e9c0e35"
      },
      {
       "current": "35c581ba-55a3-11e7-b0b2-00163e9c0e35",
       "next": "35c58340-55a3-11e7-b0b2-00163e9c0e35",
       "previous": "35c385a4-55a3-11e7-b0b2-00163e9c0e35"
      },
      {
       "current": "35c581ba-55a3-11e7-b0b2-00163e9c0e35",
       "next": "35c58340-55a3-11e7-b0b2-00163e9c0e35",
       "previous": "27c39180-935b-11ea-8d02-0242ac120007"
      },
      {
       "current": "35c581ba-55a3-11e7-b0b2-00163e9c0e35",
       "next": "35c58340-55a3-11e7-b0b2-00163e9c0e35",
       "previous": "35c385a4-55a3-11e7-b0b2-00163e9c0e35"
      },
      {
       "current": "35c581ba-55a3-11e7-b0b2-00163e9c0e35",
       "next": "35c58340-55a3-11e7-b0b2-00163e9c0e35",
       "previous": "b20d6ace-9684-11ea-8d02-0242ac120007"
      },
      {
       "current": "35c581ba-55a3-11e7-b0b2-00163e9c0e35",
       "next": "35c58340-55a3-11e7-b0b2-00163e9c0e35",
       "previous": "18b837c6-9686-11ea-8d02-0242ac120007"
      },
      {
       "current": "35c581ba-55a3-11e7-b0b2-00163e9c0e35",
       "next": "35c58340-55a3-11e7-b0b2-00163e9c0e35",
       "previous": "59de09f6-9686-11ea-8d02-0242ac120007"
      },
      {
       "current": "35c581ba-55a3-11e7-b0b2-00163e9c0e35",
       "next": "35c58340-55a3-11e7-b0b2-00163e9c0e35",
       "previous": "7dae8b30-9686-11ea-8d02-0242ac120007"
      },
      {
       "current": "35c581ba-55a3-11e7-b0b2-00163e9c0e35",
       "next": "35c58340-55a3-11e7-b0b2-00163e9c0e35",
       "previous": "789942dc-9692-11ea-8d02-0242ac120007"
      },
      {
       "current": "35c581ba-55a3-11e7-b0b2-00163e9c0e35",
       "next": "35c58340-55a3-11e7-b0b2-00163e9c0e35",
       "previous": "e95d003a-9697-11ea-8d02-0242ac120007"
      },
      {
       "current": "35c581ba-55a3-11e7-b0b2-00163e9c0e35",
       "next": "35c58340-55a3-11e7-b0b2-00163e9c0e35",
       "previous": "357fc83a-969d-11ea-8d02-0242ac120007"
      },
      {
       "current": "35c581ba-55a3-11e7-b0b2-00163e9c0e35",
       "next": "35c58340-55a3-11e7-b0b2-00163e9c0e35",
       "previous": "7dae86da-9686-11ea-8d02-0242ac120007"
      },
      {
       "current": "35c581ba-55a3-11e7-b0b2-00163e9c0e35",
       "next": "35c58340-55a3-11e7-b0b2-00163e9c0e35",
       "previous": "49102d8c-98a9-11ea-8d02-0242ac120007"
      },
      {
       "current": "35c581ba-55a3-11e7-b0b2-00163e9c0e35",
       "next": "35c58340-55a3-11e7-b0b2-00163e9c0e35",
       "previous": "dbe917aa-9984-11ea-8d02-0242ac120007"
      },
      {
       "current": "35c581ba-55a3-11e7-b0b2-00163e9c0e35",
       "next": "35c58340-55a3-11e7-b0b2-00163e9c0e35",
       "previous": "f9f7c1a0-9985-11ea-8d02-0242ac120007"
      },
      {
       "current": "35c581ba-55a3-11e7-b0b2-00163e9c0e35",
       "next": "35c58340-55a3-11e7-b0b2-00163e9c0e35",
       "previous": "4180e646-9986-11ea-8d02-0242ac120007"
      },
      {
       "current": "35c581ba-55a3-11e7-b0b2-00163e9c0e35",
       "next": "35c58340-55a3-11e7-b0b2-00163e9c0e35",
       "previous": "eea7aafc-9987-11ea-8d02-0242ac120007"
      },
      {
       "current": "35c581ba-55a3-11e7-b0b2-00163e9c0e35",
       "next": "35c58340-55a3-11e7-b0b2-00163e9c0e35",
       "previous": "7db36be6-9988-11ea-8d02-0242ac120007"
      },
      {
       "current": "35c581ba-55a3-11e7-b0b2-00163e9c0e35",
       "next": "35c58340-55a3-11e7-b0b2-00163e9c0e35",
       "previous": "7db36a7e-9988-11ea-8d02-0242ac120007"
      },
      {
       "current": "35c581ba-55a3-11e7-b0b2-00163e9c0e35",
       "next": "35c58340-55a3-11e7-b0b2-00163e9c0e35",
       "previous": "f3e7d364-998e-11ea-8d02-0242ac120007"
      },
      {
       "current": "35c581ba-55a3-11e7-b0b2-00163e9c0e35",
       "next": "35c58340-55a3-11e7-b0b2-00163e9c0e35",
       "previous": "b0a33f46-98ce-11ea-8d02-0242ac120007"
      },
      {
       "current": "35c581ba-55a3-11e7-b0b2-00163e9c0e35",
       "next": "35c58340-55a3-11e7-b0b2-00163e9c0e35",
       "previous": "752d5d50-9a60-11ea-8d02-0242ac120007"
      },
      {
       "current": "35c581ba-55a3-11e7-b0b2-00163e9c0e35",
       "next": "35c58340-55a3-11e7-b0b2-00163e9c0e35",
       "previous": "e61b1904-9a5f-11ea-8d02-0242ac120007"
      },
      {
       "current": "35c581ba-55a3-11e7-b0b2-00163e9c0e35",
       "next": "35c58340-55a3-11e7-b0b2-00163e9c0e35",
       "previous": "e61b1774-9a5f-11ea-8d02-0242ac120007"
      },
      {
       "current": "35c581ba-55a3-11e7-b0b2-00163e9c0e35-1-89bc",
       "next": "35c58340-55a3-11e7-b0b2-00163e9c0e35",
       "previous": "adc93ec4-9b1c-11ea-8d02-0242ac120007"
      },
      {
       "current": "35c581ba-55a3-11e7-b0b2-00163e9c0e35-2-89bc-f9d0",
       "next": "35c58340-55a3-11e7-b0b2-00163e9c0e35-1-38bc",
       "previous": "adc93ec4-9b1c-11ea-8d02-0242ac120007-1-9d17"
      },
      {
       "current": "35c581ba-55a3-11e7-b0b2-00163e9c0e35-2-89bc-f9d0",
       "next": "35c58340-55a3-11e7-b0b2-00163e9c0e35-2-38bc-8fc7",
       "previous": "adc93ec4-9b1c-11ea-8d02-0242ac120007-2-9d17-b208"
      },
      {
       "current": "35c581ba-55a3-11e7-b0b2-00163e9c0e35-2-89bc-f9d0",
       "next": "35c58340-55a3-11e7-b0b2-00163e9c0e35-2-38bc-8fc7",
       "previous": "cea0381c-6cad-11ee-89fa-0242ac120005"
      },
      {
       "current": "35c581ba-55a3-11e7-b0b2-00163e9c0e35-2-89bc-f9d0",
       "next": "35c58340-55a3-11e7-b0b2-00163e9c0e35-2-38bc-8fc7",
       "previous": "cea037a4-6cad-11ee-89fa-0242ac120005"
      },
      {
       "current": "35c581ba-55a3-11e7-b0b2-00163e9c0e35-2-89bc-f9d0",
       "next": "35c58340-55a3-11e7-b0b2-00163e9c0e35-2-38bc-8fc7",
       "previous": "1cc14c3a-7211-11ee-89fa-0242ac120005-1-22c6"
      },
      {
       "current": "35c581ba-55a3-11e7-b0b2-00163e9c0e35-2-89bc-f9d0",
       "next": "35c58340-55a3-11e7-b0b2-00163e9c0e35-2-38bc-8fc7",
       "previous": "abccd26e-7211-11ee-89fa-0242ac120005-1-49d0"
      },
      {
       "current": "35c581ba-55a3-11e7-b0b2-00163e9c0e35-2-89bc-f9d0",
       "next": "35c58340-55a3-11e7-b0b2-00163e9c0e35-2-38bc-8fc7",
       "previous": "39bc9190-81e4-11ee-91d3-0242ac120006-1-3d03"
      },
      {
       "current": "35c581ba-55a3-11e7-b0b2-00163e9c0e35-2-89bc-f9d0",
       "next": "35c58340-55a3-11e7-b0b2-00163e9c0e35-2-38bc-8fc7",
       "previous": "79af7266-81fa-11ee-91d3-0242ac120006"
      },
      {
       "current": "35c581ba-55a3-11e7-b0b2-00163e9c0e35-2-89bc-f9d0",
       "next": "35c58340-55a3-11e7-b0b2-00163e9c0e35-2-38bc-8fc7",
       "previous": "4dbe5b1e-8203-11ee-91d3-0242ac120006"
      },
      {
       "current": "35c581ba-55a3-11e7-b0b2-00163e9c0e35-2-89bc-f9d0",
       "next": "35c58340-55a3-11e7-b0b2-00163e9c0e35-2-38bc-8fc7",
       "previous": "fae6d004-8204-11ee-91d3-0242ac120006"
      },
      {
       "current": "35c581ba-55a3-11e7-b0b2-00163e9c0e35-2-89bc-f9d0",
       "next": "35c58340-55a3-11e7-b0b2-00163e9c0e35-2-38bc-8fc7",
       "previous": "8a7d015c-8205-11ee-91d3-0242ac120006"
      },
      {
       "current": "35c581ba-55a3-11e7-b0b2-00163e9c0e35-3-89bc-f9d0-6fda",
       "next": "35c58340-55a3-11e7-b0b2-00163e9c0e35-2-38bc-8fc7",
       "previous": "c26b7544-81fb-11ee-91d3-0242ac120006-1-767b"
      },
      {
       "current": "35c581ba-55a3-11e7-b0b2-00163e9c0e35-3-89bc-f9d0-6fda",
       "next": "35c58340-55a3-11e7-b0b2-00163e9c0e35-3-38bc-8fc7-6452",
       "previous": "c26b7544-81fb-11ee-91d3-0242ac120006-2-767b-2d8e"
      },
      {
       "current": "35c581ba-55a3-11e7-b0b2-00163e9c0e35-4-89bc-f9d0-6fda-4bde",
       "next": "35c58340-55a3-11e7-b0b2-00163e9c0e35-3-38bc-8fc7-6452",
       "previous": "f656b96a-a558-11ee-91d3-0242ac120006"
      },
      {
       "current": "35c581ba-55a3-11e7-b0b2-00163e9c0e35-5-89bc-f9d0-6fda-4bde-1515",
       "next": "35c58340-55a3-11e7-b0b2-00163e9c0e35-4-38bc-8fc7-6452-b3fb",
       "previous": "f656b96a-a558-11ee-91d3-0242ac120006-1-e5e0"
      },
      {
       "current": "35c581ba-55a3-11e7-b0b2-00163e9c0e35-6-89bc-f9d0-6fda-4bde-1515-4a99",
       "next": "35c58340-55a3-11e7-b0b2-00163e9c0e35-5-38bc-8fc7-6452-b3fb-f830",
       "previous": "f656b96a-a558-11ee-91d3-0242ac120006-2-e5e0-38f0"
      },
      {
       "current": "35c581ba-55a3-11e7-b0b2-00163e9c0e35-7-89bc-f9d0-6fda-4bde-1515-4a99-1160",
       "next": "35c58340-55a3-11e7-b0b2-00163e9c0e35-6-38bc-8fc7-6452-b3fb-f830-a305",
       "previous": "f656b96a-a558-11ee-91d3-0242ac120006-3-e5e0-38f0-9b4d"
      },
      {
       "current": "35c581ba-55a3-11e7-b0b2-00163e9c0e35-8-89bc-f9d0-6fda-4bde-1515-4a99-1160-0fe8",
       "next": "35c58340-55a3-11e7-b0b2-00163e9c0e35-7-38bc-8fc7-6452-b3fb-f830-a305-dc21",
       "previous": "f656b96a-a558-11ee-91d3-0242ac120006-4-e5e0-38f0-9b4d-f6f5"
      }
     ],
     "next": "35c58340-55a3-11e7-b0b2-00163e9c0e35-8-38bc-8fc7-6452-b3fb-f830-a305-dc21-5e02",
     "previous": "f656b96a-a558-11ee-91d3-0242ac120006-5-e5e0-38f0-9b4d-f6f5-50a1"
    }
   },
   "source": [
    "# 後始末\n",
    "\n",
    "一時ディレクトリを削除する。"
   ]
  },
  {
   "cell_type": "code",
   "execution_count": null,
   "metadata": {
    "ExecuteTime": {
     "end_time": "2017-06-29T08:01:20.617274Z",
     "start_time": "2017-06-29T08:01:20.466671Z"
    },
    "lc_cell_meme": {
     "current": "35c58340-55a3-11e7-b0b2-00163e9c0e35-8-38bc-8fc7-6452-b3fb-f830-a305-dc21-5e02",
     "history": [
      {
       "current": "35c58340-55a3-11e7-b0b2-00163e9c0e35",
       "next": null,
       "previous": "35c581ba-55a3-11e7-b0b2-00163e9c0e35"
      },
      {
       "current": "35c58340-55a3-11e7-b0b2-00163e9c0e35-1-38bc",
       "next": "c4bd8ce4-5749-11e7-b0b2-00163e9c0e35",
       "previous": "35c581ba-55a3-11e7-b0b2-00163e9c0e35"
      },
      {
       "current": "35c58340-55a3-11e7-b0b2-00163e9c0e35-2-38bc-8fc7",
       "next": "c4bd8ce4-5749-11e7-b0b2-00163e9c0e35-1-e01c",
       "previous": "35c581ba-55a3-11e7-b0b2-00163e9c0e35-1-89bc"
      },
      {
       "current": "35c58340-55a3-11e7-b0b2-00163e9c0e35-3-38bc-8fc7-6452",
       "next": "c4bd8ce4-5749-11e7-b0b2-00163e9c0e35-2-e01c-d763",
       "previous": "35c581ba-55a3-11e7-b0b2-00163e9c0e35-2-89bc-f9d0"
      },
      {
       "current": "35c58340-55a3-11e7-b0b2-00163e9c0e35-4-38bc-8fc7-6452-b3fb",
       "next": "c4bd8ce4-5749-11e7-b0b2-00163e9c0e35-3-e01c-d763-ea47",
       "previous": "35c581ba-55a3-11e7-b0b2-00163e9c0e35-3-89bc-f9d0-6fda"
      },
      {
       "current": "35c58340-55a3-11e7-b0b2-00163e9c0e35-5-38bc-8fc7-6452-b3fb-f830",
       "next": "c4bd8ce4-5749-11e7-b0b2-00163e9c0e35-4-e01c-d763-ea47-5866",
       "previous": "35c581ba-55a3-11e7-b0b2-00163e9c0e35-4-89bc-f9d0-6fda-4bde"
      },
      {
       "current": "35c58340-55a3-11e7-b0b2-00163e9c0e35-6-38bc-8fc7-6452-b3fb-f830-a305",
       "next": "c4bd8ce4-5749-11e7-b0b2-00163e9c0e35-5-e01c-d763-ea47-5866-eeed",
       "previous": "35c581ba-55a3-11e7-b0b2-00163e9c0e35-5-89bc-f9d0-6fda-4bde-1515"
      },
      {
       "current": "35c58340-55a3-11e7-b0b2-00163e9c0e35-7-38bc-8fc7-6452-b3fb-f830-a305-dc21",
       "next": "c4bd8ce4-5749-11e7-b0b2-00163e9c0e35-6-e01c-d763-ea47-5866-eeed-e451",
       "previous": "35c581ba-55a3-11e7-b0b2-00163e9c0e35-6-89bc-f9d0-6fda-4bde-1515-4a99"
      },
      {
       "current": "35c58340-55a3-11e7-b0b2-00163e9c0e35-8-38bc-8fc7-6452-b3fb-f830-a305-dc21-5e02",
       "next": "c4bd8ce4-5749-11e7-b0b2-00163e9c0e35-7-e01c-d763-ea47-5866-eeed-e451-cdc2",
       "previous": "35c581ba-55a3-11e7-b0b2-00163e9c0e35-7-89bc-f9d0-6fda-4bde-1515-4a99-1160"
      }
     ],
     "next": "c4bd8ce4-5749-11e7-b0b2-00163e9c0e35-8-e01c-d763-ea47-5866-eeed-e451-cdc2-e23b",
     "previous": "35c581ba-55a3-11e7-b0b2-00163e9c0e35-8-89bc-f9d0-6fda-4bde-1515-4a99-1160-0fe8"
    }
   },
   "outputs": [],
   "source": [
    "!rm -fr $temp_dir"
   ]
  },
  {
   "cell_type": "code",
   "execution_count": null,
   "metadata": {
    "lc_cell_meme": {
     "current": "c4bd8ce4-5749-11e7-b0b2-00163e9c0e35-8-e01c-d763-ea47-5866-eeed-e451-cdc2-e23b",
     "history": [
      {
       "current": "c4bd8ce4-5749-11e7-b0b2-00163e9c0e35-1-e01c",
       "next": null,
       "previous": "35c58340-55a3-11e7-b0b2-00163e9c0e35"
      },
      {
       "current": "c4bd8ce4-5749-11e7-b0b2-00163e9c0e35-2-e01c-d763",
       "next": null,
       "previous": "35c58340-55a3-11e7-b0b2-00163e9c0e35-1-38bc"
      },
      {
       "current": "c4bd8ce4-5749-11e7-b0b2-00163e9c0e35-3-e01c-d763-ea47",
       "next": null,
       "previous": "35c58340-55a3-11e7-b0b2-00163e9c0e35-2-38bc-8fc7"
      },
      {
       "current": "c4bd8ce4-5749-11e7-b0b2-00163e9c0e35-4-e01c-d763-ea47-5866",
       "next": null,
       "previous": "35c58340-55a3-11e7-b0b2-00163e9c0e35-3-38bc-8fc7-6452"
      },
      {
       "current": "c4bd8ce4-5749-11e7-b0b2-00163e9c0e35-5-e01c-d763-ea47-5866-eeed",
       "next": null,
       "previous": "35c58340-55a3-11e7-b0b2-00163e9c0e35-4-38bc-8fc7-6452-b3fb"
      },
      {
       "current": "c4bd8ce4-5749-11e7-b0b2-00163e9c0e35-6-e01c-d763-ea47-5866-eeed-e451",
       "next": null,
       "previous": "35c58340-55a3-11e7-b0b2-00163e9c0e35-5-38bc-8fc7-6452-b3fb-f830"
      },
      {
       "current": "c4bd8ce4-5749-11e7-b0b2-00163e9c0e35-7-e01c-d763-ea47-5866-eeed-e451-cdc2",
       "next": null,
       "previous": "35c58340-55a3-11e7-b0b2-00163e9c0e35-6-38bc-8fc7-6452-b3fb-f830-a305"
      },
      {
       "current": "c4bd8ce4-5749-11e7-b0b2-00163e9c0e35-8-e01c-d763-ea47-5866-eeed-e451-cdc2-e23b",
       "next": null,
       "previous": "35c58340-55a3-11e7-b0b2-00163e9c0e35-7-38bc-8fc7-6452-b3fb-f830-a305-dc21"
      }
     ],
     "next": null,
     "previous": "35c58340-55a3-11e7-b0b2-00163e9c0e35-8-38bc-8fc7-6452-b3fb-f830-a305-dc21-5e02"
    }
   },
   "outputs": [],
   "source": []
  }
 ],
 "metadata": {
  "kernelspec": {
   "display_name": "Python 3",
   "language": "python",
   "name": "python3"
  },
  "language_info": {
   "file_extension": ".py",
   "mimetype": "text/x-python",
   "name": "python",
   "nbconvert_exporter": "python",
   "pygments_lexer": "ipython3",
   "version": "3.10.4"
  },
  "lc_notebook_meme": {
   "current": "35c33086-55a3-11e7-b0b2-00163e9c0e35"
  },
  "toc": {
   "base_numbering": 1,
   "nav_menu": {
    "height": "484px",
    "width": "687px"
   },
   "number_sections": true,
   "sideBar": true,
   "skip_h1_title": false,
   "title_cell": "Table of Contents",
   "title_sidebar": "Contents",
   "toc_cell": false,
   "toc_position": {
    "height": "1156px",
    "left": "51px",
    "right": "1330px",
    "top": "111.133px",
    "width": "255px"
   },
   "toc_section_display": true,
   "toc_window_display": true
  }
 },
 "nbformat": 4,
 "nbformat_minor": 1
}
