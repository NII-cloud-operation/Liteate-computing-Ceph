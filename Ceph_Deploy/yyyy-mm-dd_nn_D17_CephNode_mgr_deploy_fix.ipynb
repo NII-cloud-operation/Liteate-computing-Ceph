{
 "cells": [
  {
   "cell_type": "markdown",
   "metadata": {
    "collapsed": true,
    "lc_cell_meme": {
     "current": "35c33414-55a3-11e7-b0b2-00163e9c0e35-8-ffee-ac17-9684-a3bd-e93e-7c25-1219-d445",
     "history": [
      {
       "current": "35c33414-55a3-11e7-b0b2-00163e9c0e35",
       "next": "35c33626-55a3-11e7-b0b2-00163e9c0e35",
       "previous": null
      },
      {
       "current": "35c33414-55a3-11e7-b0b2-00163e9c0e35",
       "next": "35c33626-55a3-11e7-b0b2-00163e9c0e35",
       "previous": null
      },
      {
       "current": "35c33414-55a3-11e7-b0b2-00163e9c0e35",
       "next": "35c33626-55a3-11e7-b0b2-00163e9c0e35",
       "previous": "0db87670-9586-11ea-8d02-0242ac120007"
      },
      {
       "current": "35c33414-55a3-11e7-b0b2-00163e9c0e35-1-ffee",
       "next": "35c337f2-55a3-11e7-b0b2-00163e9c0e35",
       "previous": null
      },
      {
       "current": "35c33414-55a3-11e7-b0b2-00163e9c0e35-2-ffee-ac17",
       "next": "35c337f2-55a3-11e7-b0b2-00163e9c0e35-1-b874",
       "previous": null
      },
      {
       "current": "35c33414-55a3-11e7-b0b2-00163e9c0e35-3-ffee-ac17-9684",
       "next": "35c337f2-55a3-11e7-b0b2-00163e9c0e35-2-b874-13f7",
       "previous": null
      },
      {
       "current": "35c33414-55a3-11e7-b0b2-00163e9c0e35-4-ffee-ac17-9684-a3bd",
       "next": "35c337f2-55a3-11e7-b0b2-00163e9c0e35-3-b874-13f7-3f47",
       "previous": null
      },
      {
       "current": "35c33414-55a3-11e7-b0b2-00163e9c0e35-5-ffee-ac17-9684-a3bd-e93e",
       "next": "35c339aa-55a3-11e7-b0b2-00163e9c0e35-4-eee2-af6c-3cfe-8d4a",
       "previous": null
      },
      {
       "current": "35c33414-55a3-11e7-b0b2-00163e9c0e35-6-ffee-ac17-9684-a3bd-e93e-7c25",
       "next": "35c339aa-55a3-11e7-b0b2-00163e9c0e35-5-eee2-af6c-3cfe-8d4a-083f",
       "previous": null
      },
      {
       "current": "35c33414-55a3-11e7-b0b2-00163e9c0e35-7-ffee-ac17-9684-a3bd-e93e-7c25-1219",
       "next": "35c339aa-55a3-11e7-b0b2-00163e9c0e35-6-eee2-af6c-3cfe-8d4a-083f-a92b",
       "previous": null
      },
      {
       "current": "35c33414-55a3-11e7-b0b2-00163e9c0e35-8-ffee-ac17-9684-a3bd-e93e-7c25-1219-d445",
       "next": "35c339aa-55a3-11e7-b0b2-00163e9c0e35-7-eee2-af6c-3cfe-8d4a-083f-a92b-60c9",
       "previous": null
      }
     ],
     "next": "35c339aa-55a3-11e7-b0b2-00163e9c0e35-8-eee2-af6c-3cfe-8d4a-083f-a92b-60c9-f3f7",
     "previous": null
    }
   },
   "source": [
    "# Cephノード構築：Managerサービス配置固定\n",
    "Managerサービス数を、デフォルトの2から3への変更と、稼働するホストの固定を行う。<br>"
   ]
  },
  {
   "cell_type": "markdown",
   "metadata": {
    "lc_cell_meme": {
     "current": "35c339aa-55a3-11e7-b0b2-00163e9c0e35-8-eee2-af6c-3cfe-8d4a-083f-a92b-60c9-f3f7",
     "history": [
      {
       "current": "35c339aa-55a3-11e7-b0b2-00163e9c0e35",
       "next": "35c33b6c-55a3-11e7-b0b2-00163e9c0e35",
       "previous": "35c337f2-55a3-11e7-b0b2-00163e9c0e35"
      },
      {
       "current": "35c339aa-55a3-11e7-b0b2-00163e9c0e35",
       "next": "670888aa-5722-11e7-b0b2-00163e9c0e35",
       "previous": "35c337f2-55a3-11e7-b0b2-00163e9c0e35"
      },
      {
       "current": "35c339aa-55a3-11e7-b0b2-00163e9c0e35",
       "next": "670888aa-5722-11e7-b0b2-00163e9c0e35",
       "previous": "357fc83a-969d-11ea-8d02-0242ac120007"
      },
      {
       "current": "35c339aa-55a3-11e7-b0b2-00163e9c0e35-1-eee2",
       "next": "670888aa-5722-11e7-b0b2-00163e9c0e35",
       "previous": "8a48dae0-98a1-11ea-8d02-0242ac120007"
      },
      {
       "current": "35c339aa-55a3-11e7-b0b2-00163e9c0e35-2-eee2-af6c",
       "next": "670888aa-5722-11e7-b0b2-00163e9c0e35-1-17ba",
       "previous": "8a48dae0-98a1-11ea-8d02-0242ac120007-1-4da2"
      },
      {
       "current": "35c339aa-55a3-11e7-b0b2-00163e9c0e35-2-eee2-af6c",
       "next": "670888aa-5722-11e7-b0b2-00163e9c0e35-2-17ba-53fc",
       "previous": "8a48dae0-98a1-11ea-8d02-0242ac120007-2-4da2-9c77"
      },
      {
       "current": "35c339aa-55a3-11e7-b0b2-00163e9c0e35-3-eee2-af6c-3cfe",
       "next": "670888aa-5722-11e7-b0b2-00163e9c0e35-2-17ba-53fc",
       "previous": "35c337f2-55a3-11e7-b0b2-00163e9c0e35-2-b874-13f7"
      },
      {
       "current": "35c339aa-55a3-11e7-b0b2-00163e9c0e35-4-eee2-af6c-3cfe-8d4a",
       "next": "670888aa-5722-11e7-b0b2-00163e9c0e35-3-17ba-53fc-2957",
       "previous": "35c337f2-55a3-11e7-b0b2-00163e9c0e35-3-b874-13f7-3f47"
      },
      {
       "current": "35c339aa-55a3-11e7-b0b2-00163e9c0e35-5-eee2-af6c-3cfe-8d4a-083f",
       "next": "670888aa-5722-11e7-b0b2-00163e9c0e35-4-17ba-53fc-2957-ac6c",
       "previous": "35c33414-55a3-11e7-b0b2-00163e9c0e35-4-ffee-ac17-9684-a3bd"
      },
      {
       "current": "35c339aa-55a3-11e7-b0b2-00163e9c0e35-6-eee2-af6c-3cfe-8d4a-083f-a92b",
       "next": "670888aa-5722-11e7-b0b2-00163e9c0e35-5-17ba-53fc-2957-ac6c-ee20",
       "previous": "35c33414-55a3-11e7-b0b2-00163e9c0e35-5-ffee-ac17-9684-a3bd-e93e"
      },
      {
       "current": "35c339aa-55a3-11e7-b0b2-00163e9c0e35-7-eee2-af6c-3cfe-8d4a-083f-a92b-60c9",
       "next": "670888aa-5722-11e7-b0b2-00163e9c0e35-6-17ba-53fc-2957-ac6c-ee20-d432",
       "previous": "35c33414-55a3-11e7-b0b2-00163e9c0e35-6-ffee-ac17-9684-a3bd-e93e-7c25"
      },
      {
       "current": "35c339aa-55a3-11e7-b0b2-00163e9c0e35-8-eee2-af6c-3cfe-8d4a-083f-a92b-60c9-f3f7",
       "next": "670888aa-5722-11e7-b0b2-00163e9c0e35-7-17ba-53fc-2957-ac6c-ee20-d432-20fb",
       "previous": "35c33414-55a3-11e7-b0b2-00163e9c0e35-7-ffee-ac17-9684-a3bd-e93e-7c25-1219"
      }
     ],
     "next": "670888aa-5722-11e7-b0b2-00163e9c0e35-8-17ba-53fc-2957-ac6c-ee20-d432-20fb-c506",
     "previous": "35c33414-55a3-11e7-b0b2-00163e9c0e35-8-ffee-ac17-9684-a3bd-e93e-7c25-1219-d445"
    }
   },
   "source": [
    "# パラメータ定義"
   ]
  },
  {
   "cell_type": "markdown",
   "metadata": {
    "lc_cell_meme": {
     "current": "670888aa-5722-11e7-b0b2-00163e9c0e35-8-17ba-53fc-2957-ac6c-ee20-d432-20fb-c506",
     "history": [
      {
       "current": "670888aa-5722-11e7-b0b2-00163e9c0e35-1-17ba",
       "next": "35c33b6c-55a3-11e7-b0b2-00163e9c0e35",
       "previous": "35c339aa-55a3-11e7-b0b2-00163e9c0e35"
      },
      {
       "current": "670888aa-5722-11e7-b0b2-00163e9c0e35-2-17ba-53fc",
       "next": "35c33b6c-55a3-11e7-b0b2-00163e9c0e35-1-c84d",
       "previous": "35c339aa-55a3-11e7-b0b2-00163e9c0e35-1-eee2"
      },
      {
       "current": "670888aa-5722-11e7-b0b2-00163e9c0e35-3-17ba-53fc-2957",
       "next": "35c33b6c-55a3-11e7-b0b2-00163e9c0e35-2-c84d-3439",
       "previous": "35c339aa-55a3-11e7-b0b2-00163e9c0e35-2-eee2-af6c"
      },
      {
       "current": "670888aa-5722-11e7-b0b2-00163e9c0e35-4-17ba-53fc-2957-ac6c",
       "next": "35c33b6c-55a3-11e7-b0b2-00163e9c0e35-3-c84d-3439-eddb",
       "previous": "35c339aa-55a3-11e7-b0b2-00163e9c0e35-3-eee2-af6c-3cfe"
      },
      {
       "current": "670888aa-5722-11e7-b0b2-00163e9c0e35-5-17ba-53fc-2957-ac6c-ee20",
       "next": "35c33b6c-55a3-11e7-b0b2-00163e9c0e35-4-c84d-3439-eddb-ff92",
       "previous": "35c339aa-55a3-11e7-b0b2-00163e9c0e35-4-eee2-af6c-3cfe-8d4a"
      },
      {
       "current": "670888aa-5722-11e7-b0b2-00163e9c0e35-6-17ba-53fc-2957-ac6c-ee20-d432",
       "next": "35c33b6c-55a3-11e7-b0b2-00163e9c0e35-5-c84d-3439-eddb-ff92-4f0f",
       "previous": "35c339aa-55a3-11e7-b0b2-00163e9c0e35-5-eee2-af6c-3cfe-8d4a-083f"
      },
      {
       "current": "670888aa-5722-11e7-b0b2-00163e9c0e35-7-17ba-53fc-2957-ac6c-ee20-d432-20fb",
       "next": "35c33b6c-55a3-11e7-b0b2-00163e9c0e35-6-c84d-3439-eddb-ff92-4f0f-8f6d",
       "previous": "35c339aa-55a3-11e7-b0b2-00163e9c0e35-6-eee2-af6c-3cfe-8d4a-083f-a92b"
      },
      {
       "current": "670888aa-5722-11e7-b0b2-00163e9c0e35-8-17ba-53fc-2957-ac6c-ee20-d432-20fb-c506",
       "next": "35c33b6c-55a3-11e7-b0b2-00163e9c0e35-7-c84d-3439-eddb-ff92-4f0f-8f6d-b42d",
       "previous": "35c339aa-55a3-11e7-b0b2-00163e9c0e35-7-eee2-af6c-3cfe-8d4a-083f-a92b-60c9"
      }
     ],
     "next": "35c33b6c-55a3-11e7-b0b2-00163e9c0e35-8-c84d-3439-eddb-ff92-4f0f-8f6d-b42d-1f4e",
     "previous": "35c339aa-55a3-11e7-b0b2-00163e9c0e35-8-eee2-af6c-3cfe-8d4a-083f-a92b-60c9-f3f7"
    }
   },
   "source": [
    "## パラメータファイル設定"
   ]
  },
  {
   "cell_type": "markdown",
   "metadata": {
    "lc_cell_meme": {
     "current": "35c33b6c-55a3-11e7-b0b2-00163e9c0e35-8-c84d-3439-eddb-ff92-4f0f-8f6d-b42d-1f4e",
     "history": [
      {
       "current": "35c33b6c-55a3-11e7-b0b2-00163e9c0e35",
       "next": "35c33d24-55a3-11e7-b0b2-00163e9c0e35",
       "previous": "35c339aa-55a3-11e7-b0b2-00163e9c0e35"
      },
      {
       "current": "35c33b6c-55a3-11e7-b0b2-00163e9c0e35-1-c84d",
       "next": "35c33d24-55a3-11e7-b0b2-00163e9c0e35",
       "previous": "670888aa-5722-11e7-b0b2-00163e9c0e35"
      },
      {
       "current": "35c33b6c-55a3-11e7-b0b2-00163e9c0e35-2-c84d-3439",
       "next": "35c33d24-55a3-11e7-b0b2-00163e9c0e35-1-c8d8",
       "previous": "670888aa-5722-11e7-b0b2-00163e9c0e35-1-17ba"
      },
      {
       "current": "35c33b6c-55a3-11e7-b0b2-00163e9c0e35-3-c84d-3439-eddb",
       "next": "35c33d24-55a3-11e7-b0b2-00163e9c0e35-2-c8d8-c063",
       "previous": "670888aa-5722-11e7-b0b2-00163e9c0e35-2-17ba-53fc"
      },
      {
       "current": "35c33b6c-55a3-11e7-b0b2-00163e9c0e35-4-c84d-3439-eddb-ff92",
       "next": "35c33d24-55a3-11e7-b0b2-00163e9c0e35-3-c8d8-c063-e3d4",
       "previous": "670888aa-5722-11e7-b0b2-00163e9c0e35-3-17ba-53fc-2957"
      },
      {
       "current": "35c33b6c-55a3-11e7-b0b2-00163e9c0e35-5-c84d-3439-eddb-ff92-4f0f",
       "next": "35c33d24-55a3-11e7-b0b2-00163e9c0e35-4-c8d8-c063-e3d4-beca",
       "previous": "670888aa-5722-11e7-b0b2-00163e9c0e35-4-17ba-53fc-2957-ac6c"
      },
      {
       "current": "35c33b6c-55a3-11e7-b0b2-00163e9c0e35-6-c84d-3439-eddb-ff92-4f0f-8f6d",
       "next": "35c33d24-55a3-11e7-b0b2-00163e9c0e35-5-c8d8-c063-e3d4-beca-5a78",
       "previous": "670888aa-5722-11e7-b0b2-00163e9c0e35-5-17ba-53fc-2957-ac6c-ee20"
      },
      {
       "current": "35c33b6c-55a3-11e7-b0b2-00163e9c0e35-7-c84d-3439-eddb-ff92-4f0f-8f6d-b42d",
       "next": "10615c54-1e42-11ef-ad2f-0242ac120005",
       "previous": "670888aa-5722-11e7-b0b2-00163e9c0e35-6-17ba-53fc-2957-ac6c-ee20-d432"
      },
      {
       "current": "35c33b6c-55a3-11e7-b0b2-00163e9c0e35-8-c84d-3439-eddb-ff92-4f0f-8f6d-b42d-1f4e",
       "next": "10615c54-1e42-11ef-ad2f-0242ac120005-1-14dd",
       "previous": "670888aa-5722-11e7-b0b2-00163e9c0e35-7-17ba-53fc-2957-ac6c-ee20-d432-20fb"
      }
     ],
     "next": "10615c54-1e42-11ef-ad2f-0242ac120005-2-14dd-5f7b",
     "previous": "670888aa-5722-11e7-b0b2-00163e9c0e35-8-17ba-53fc-2957-ac6c-ee20-d432-20fb-c506"
    }
   },
   "source": [
    "Cephクラスタの定義ファイルを指定するため、<br>\n",
    "パラメータ定義格納ディレクトリを表示する。"
   ]
  },
  {
   "cell_type": "code",
   "execution_count": null,
   "metadata": {
    "lc_cell_meme": {
     "current": "10615c54-1e42-11ef-ad2f-0242ac120005-2-14dd-5f7b",
     "history": [
      {
       "current": "10615c54-1e42-11ef-ad2f-0242ac120005-1-14dd",
       "next": "10615d1c-1e42-11ef-ad2f-0242ac120005",
       "previous": "35c33b6c-55a3-11e7-b0b2-00163e9c0e35-6-c84d-3439-eddb-ff92-4f0f-8f6d"
      },
      {
       "current": "10615c54-1e42-11ef-ad2f-0242ac120005-2-14dd-5f7b",
       "next": "10615d1c-1e42-11ef-ad2f-0242ac120005-1-1d74",
       "previous": "35c33b6c-55a3-11e7-b0b2-00163e9c0e35-7-c84d-3439-eddb-ff92-4f0f-8f6d-b42d"
      }
     ],
     "next": "10615d1c-1e42-11ef-ad2f-0242ac120005-2-1d74-6273",
     "previous": "35c33b6c-55a3-11e7-b0b2-00163e9c0e35-8-c84d-3439-eddb-ff92-4f0f-8f6d-b42d-1f4e"
    }
   },
   "outputs": [],
   "source": [
    "!ls -p ~/notebooks/share/ | grep \"/$\""
   ]
  },
  {
   "cell_type": "code",
   "execution_count": null,
   "metadata": {
    "lc_cell_meme": {
     "current": "10615d1c-1e42-11ef-ad2f-0242ac120005-2-1d74-6273",
     "history": [
      {
       "current": "10615d1c-1e42-11ef-ad2f-0242ac120005-1-1d74",
       "next": "10615d4e-1e42-11ef-ad2f-0242ac120005",
       "previous": "10615c54-1e42-11ef-ad2f-0242ac120005"
      },
      {
       "current": "10615d1c-1e42-11ef-ad2f-0242ac120005-2-1d74-6273",
       "next": "10615d4e-1e42-11ef-ad2f-0242ac120005-1-efc3",
       "previous": "10615c54-1e42-11ef-ad2f-0242ac120005-1-14dd"
      }
     ],
     "next": "10615d4e-1e42-11ef-ad2f-0242ac120005-2-efc3-f4ad",
     "previous": "10615c54-1e42-11ef-ad2f-0242ac120005-2-14dd-5f7b"
    }
   },
   "outputs": [],
   "source": [
    "!ls -p ~/notebooks/share/configuration"
   ]
  },
  {
   "cell_type": "code",
   "execution_count": null,
   "metadata": {
    "lc_cell_meme": {
     "current": "10615d4e-1e42-11ef-ad2f-0242ac120005-2-efc3-f4ad",
     "history": [
      {
       "current": "10615d4e-1e42-11ef-ad2f-0242ac120005-1-efc3",
       "next": "10615d76-1e42-11ef-ad2f-0242ac120005",
       "previous": "10615d1c-1e42-11ef-ad2f-0242ac120005"
      },
      {
       "current": "10615d4e-1e42-11ef-ad2f-0242ac120005-2-efc3-f4ad",
       "next": "10615d76-1e42-11ef-ad2f-0242ac120005-1-69fe",
       "previous": "10615d1c-1e42-11ef-ad2f-0242ac120005-1-1d74"
      }
     ],
     "next": "10615d76-1e42-11ef-ad2f-0242ac120005-2-69fe-fede",
     "previous": "10615d1c-1e42-11ef-ad2f-0242ac120005-2-1d74-6273"
    }
   },
   "outputs": [],
   "source": [
    "!ls -p ~/notebooks/share/configuration/ceph"
   ]
  },
  {
   "cell_type": "code",
   "execution_count": null,
   "metadata": {
    "lc_cell_meme": {
     "current": "10615d76-1e42-11ef-ad2f-0242ac120005-2-69fe-fede",
     "history": [
      {
       "current": "10615d76-1e42-11ef-ad2f-0242ac120005-1-69fe",
       "next": "10615d9e-1e42-11ef-ad2f-0242ac120005",
       "previous": "10615d4e-1e42-11ef-ad2f-0242ac120005"
      },
      {
       "current": "10615d76-1e42-11ef-ad2f-0242ac120005-2-69fe-fede",
       "next": "10615d9e-1e42-11ef-ad2f-0242ac120005-1-3f19",
       "previous": "10615d4e-1e42-11ef-ad2f-0242ac120005-1-efc3"
      }
     ],
     "next": "10615d9e-1e42-11ef-ad2f-0242ac120005-2-3f19-512d",
     "previous": "10615d4e-1e42-11ef-ad2f-0242ac120005-2-efc3-f4ad"
    }
   },
   "outputs": [],
   "source": [
    "import sys, os.path, importlib, json, yaml\n",
    "\n",
    "config_file_name = \"ceph_admin_vm.yml\"\n",
    "config_file_path = os.path.expanduser(\"~/notebooks/share/configuration/ceph/{}\".format(config_file_name))\n",
    "with open(config_file_path) as f:\n",
    "    admin_params = yaml.safe_load(f)\n",
    "admin_params"
   ]
  },
  {
   "cell_type": "code",
   "execution_count": null,
   "metadata": {
    "lc_cell_meme": {
     "current": "10615d9e-1e42-11ef-ad2f-0242ac120005-2-3f19-512d",
     "history": [
      {
       "current": "10615d9e-1e42-11ef-ad2f-0242ac120005-1-3f19",
       "next": "10615dc6-1e42-11ef-ad2f-0242ac120005",
       "previous": "10615d76-1e42-11ef-ad2f-0242ac120005"
      },
      {
       "current": "10615d9e-1e42-11ef-ad2f-0242ac120005-2-3f19-512d",
       "next": "10615dc6-1e42-11ef-ad2f-0242ac120005-1-d62d",
       "previous": "10615d76-1e42-11ef-ad2f-0242ac120005-1-69fe"
      }
     ],
     "next": "10615dc6-1e42-11ef-ad2f-0242ac120005-2-d62d-e35e",
     "previous": "10615d76-1e42-11ef-ad2f-0242ac120005-2-69fe-fede"
    }
   },
   "outputs": [],
   "source": [
    "target_vm_name = 'xxx-ceph-admin1'\n",
    "admin_patam = admin_params[target_vm_name]\n",
    "admin_patam"
   ]
  },
  {
   "cell_type": "code",
   "execution_count": null,
   "metadata": {
    "lc_cell_meme": {
     "current": "10615dc6-1e42-11ef-ad2f-0242ac120005-2-d62d-e35e",
     "history": [
      {
       "current": "10615dc6-1e42-11ef-ad2f-0242ac120005-1-d62d",
       "next": "10615de4-1e42-11ef-ad2f-0242ac120005",
       "previous": "10615d9e-1e42-11ef-ad2f-0242ac120005"
      },
      {
       "current": "10615dc6-1e42-11ef-ad2f-0242ac120005-2-d62d-e35e",
       "next": "10615de4-1e42-11ef-ad2f-0242ac120005-1-8c7b",
       "previous": "10615d9e-1e42-11ef-ad2f-0242ac120005-1-3f19"
      }
     ],
     "next": "10615de4-1e42-11ef-ad2f-0242ac120005-2-8c7b-1aa5",
     "previous": "10615d9e-1e42-11ef-ad2f-0242ac120005-2-3f19-512d"
    }
   },
   "outputs": [],
   "source": [
    "ceph_admin_ip = admin_patam['network']['provisioning']['ip']"
   ]
  },
  {
   "cell_type": "code",
   "execution_count": null,
   "metadata": {
    "lc_cell_meme": {
     "current": "10615de4-1e42-11ef-ad2f-0242ac120005-2-8c7b-1aa5",
     "history": [
      {
       "current": "10615de4-1e42-11ef-ad2f-0242ac120005-1-8c7b",
       "next": "10615e0c-1e42-11ef-ad2f-0242ac120005",
       "previous": "10615dc6-1e42-11ef-ad2f-0242ac120005"
      },
      {
       "current": "10615de4-1e42-11ef-ad2f-0242ac120005-2-8c7b-1aa5",
       "next": "10615e0c-1e42-11ef-ad2f-0242ac120005-1-f876",
       "previous": "10615dc6-1e42-11ef-ad2f-0242ac120005-1-d62d"
      }
     ],
     "next": "10615e0c-1e42-11ef-ad2f-0242ac120005-2-f876-3046",
     "previous": "10615dc6-1e42-11ef-ad2f-0242ac120005-2-d62d-e35e"
    }
   },
   "outputs": [],
   "source": [
    "import sys, os.path, importlib, json, yaml\n",
    "\n",
    "config_file_name = \"xxx-openstack-parameter.yml\"\n",
    "config_file_path = os.path.expanduser(\"~/notebooks/share/configuration/{}\".format(config_file_name))\n",
    "with open(config_file_path) as f:\n",
    "    params = yaml.safe_load(f)\n",
    "params"
   ]
  },
  {
   "cell_type": "code",
   "execution_count": null,
   "metadata": {
    "lc_cell_meme": {
     "current": "10615e0c-1e42-11ef-ad2f-0242ac120005-2-f876-3046",
     "history": [
      {
       "current": "10615e0c-1e42-11ef-ad2f-0242ac120005-1-f876",
       "next": "10615e34-1e42-11ef-ad2f-0242ac120005",
       "previous": "10615de4-1e42-11ef-ad2f-0242ac120005"
      },
      {
       "current": "10615e0c-1e42-11ef-ad2f-0242ac120005-2-f876-3046",
       "next": "10615e34-1e42-11ef-ad2f-0242ac120005-1-ab0b",
       "previous": "10615de4-1e42-11ef-ad2f-0242ac120005-1-8c7b"
      }
     ],
     "next": "10615e34-1e42-11ef-ad2f-0242ac120005-2-ab0b-fb02",
     "previous": "10615de4-1e42-11ef-ad2f-0242ac120005-2-8c7b-1aa5"
    }
   },
   "outputs": [],
   "source": [
    "repo_server = params['repository']['addresses']['service_operation']\n",
    "repo_server"
   ]
  },
  {
   "cell_type": "code",
   "execution_count": null,
   "metadata": {
    "lc_cell_meme": {
     "current": "10615e34-1e42-11ef-ad2f-0242ac120005-2-ab0b-fb02",
     "history": [
      {
       "current": "10615e34-1e42-11ef-ad2f-0242ac120005",
       "next": "10615e52-1e42-11ef-ad2f-0242ac120005",
       "previous": "10615e0c-1e42-11ef-ad2f-0242ac120005"
      },
      {
       "current": "10615e34-1e42-11ef-ad2f-0242ac120005-1-ab0b",
       "next": "bf249b06-98af-11ea-8d02-0242ac120007-6-1e49-e772-9042-770c-411c-273c",
       "previous": "10615e0c-1e42-11ef-ad2f-0242ac120005"
      },
      {
       "current": "10615e34-1e42-11ef-ad2f-0242ac120005-2-ab0b-fb02",
       "next": "bf249b06-98af-11ea-8d02-0242ac120007-7-1e49-e772-9042-770c-411c-273c-dc6d",
       "previous": "10615e0c-1e42-11ef-ad2f-0242ac120005-1-f876"
      }
     ],
     "next": "bf249b06-98af-11ea-8d02-0242ac120007-8-1e49-e772-9042-770c-411c-273c-dc6d-c5a2",
     "previous": "10615e0c-1e42-11ef-ad2f-0242ac120005-2-f876-3046"
    }
   },
   "outputs": [],
   "source": [
    "provisioning_vip = params['openstack']['provisioning_vip']\n",
    "provisioning_vip"
   ]
  },
  {
   "cell_type": "markdown",
   "metadata": {
    "lc_cell_meme": {
     "current": "bf249b06-98af-11ea-8d02-0242ac120007-8-1e49-e772-9042-770c-411c-273c-dc6d-c5a2",
     "history": [
      {
       "current": "bf249b06-98af-11ea-8d02-0242ac120007",
       "next": "d1bcb8ac-9599-11ea-8d02-0242ac120007",
       "previous": "7dae8996-9686-11ea-8d02-0242ac120007"
      },
      {
       "current": "bf249b06-98af-11ea-8d02-0242ac120007-1-1e49",
       "next": "dd8e3cbc-98f2-11ea-8d02-0242ac120007",
       "previous": "7dae8996-9686-11ea-8d02-0242ac120007"
      },
      {
       "current": "bf249b06-98af-11ea-8d02-0242ac120007-2-1e49-e772",
       "next": "dd8e3cbc-98f2-11ea-8d02-0242ac120007-1-706a",
       "previous": "7dae8996-9686-11ea-8d02-0242ac120007-1-20c5"
      },
      {
       "current": "bf249b06-98af-11ea-8d02-0242ac120007-2-1e49-e772",
       "next": "dd8e3cbc-98f2-11ea-8d02-0242ac120007-2-706a-309d",
       "previous": "7dae8996-9686-11ea-8d02-0242ac120007-2-20c5-a0b0"
      },
      {
       "current": "bf249b06-98af-11ea-8d02-0242ac120007-2-1e49-e772",
       "next": "dd8e3cbc-98f2-11ea-8d02-0242ac120007-2-706a-309d",
       "previous": "1afe76e2-def8-11eb-b29f-0242ac120008"
      },
      {
       "current": "bf249b06-98af-11ea-8d02-0242ac120007-2-1e49-e772",
       "next": "d1bcb8ac-9599-11ea-8d02-0242ac120007-2-ec95-2870",
       "previous": "1afe76e2-def8-11eb-b29f-0242ac120008"
      },
      {
       "current": "bf249b06-98af-11ea-8d02-0242ac120007-2-1e49-e772",
       "next": "d1bcb8ac-9599-11ea-8d02-0242ac120007-2-ec95-2870",
       "previous": "445f36bc-def7-11eb-b29f-0242ac120008"
      },
      {
       "current": "bf249b06-98af-11ea-8d02-0242ac120007-3-1e49-e772-9042",
       "next": "d1bcb8ac-9599-11ea-8d02-0242ac120007-2-ec95-2870",
       "previous": "17dd310e-deff-11eb-b29f-0242ac120008"
      },
      {
       "current": "bf249b06-98af-11ea-8d02-0242ac120007-4-1e49-e772-9042-770c",
       "next": "d1bcb8ac-9599-11ea-8d02-0242ac120007-3-ec95-2870-3f6b",
       "previous": "17dd310e-deff-11eb-b29f-0242ac120008-1-9f34"
      },
      {
       "current": "bf249b06-98af-11ea-8d02-0242ac120007-5-1e49-e772-9042-770c-411c",
       "next": "d1bcb8ac-9599-11ea-8d02-0242ac120007-4-ec95-2870-3f6b-38a0",
       "previous": "17dd310e-deff-11eb-b29f-0242ac120008-2-9f34-a086"
      },
      {
       "current": "bf249b06-98af-11ea-8d02-0242ac120007-6-1e49-e772-9042-770c-411c-273c",
       "next": "d1bcb8ac-9599-11ea-8d02-0242ac120007-5-ec95-2870-3f6b-38a0-51f3",
       "previous": "17dd310e-deff-11eb-b29f-0242ac120008-3-9f34-a086-eb2a"
      },
      {
       "current": "bf249b06-98af-11ea-8d02-0242ac120007-6-1e49-e772-9042-770c-411c-273c",
       "next": "d1bcb8ac-9599-11ea-8d02-0242ac120007-6-ec95-2870-3f6b-38a0-51f3-b064",
       "previous": "17dd310e-deff-11eb-b29f-0242ac120008-4-9f34-a086-eb2a-351b"
      },
      {
       "current": "bf249b06-98af-11ea-8d02-0242ac120007-7-1e49-e772-9042-770c-411c-273c-dc6d",
       "next": "d1bcb8ac-9599-11ea-8d02-0242ac120007-6-ec95-2870-3f6b-38a0-51f3-b064",
       "previous": "10615e34-1e42-11ef-ad2f-0242ac120005"
      },
      {
       "current": "bf249b06-98af-11ea-8d02-0242ac120007-8-1e49-e772-9042-770c-411c-273c-dc6d-c5a2",
       "next": "d1bcb8ac-9599-11ea-8d02-0242ac120007-7-ec95-2870-3f6b-38a0-51f3-b064-1134",
       "previous": "10615e34-1e42-11ef-ad2f-0242ac120005-1-ab0b"
      }
     ],
     "next": "d1bcb8ac-9599-11ea-8d02-0242ac120007-8-ec95-2870-3f6b-38a0-51f3-b064-1134-216e",
     "previous": "10615e34-1e42-11ef-ad2f-0242ac120005-2-ab0b-fb02"
    }
   },
   "source": [
    "## CephノードとストレージセグメントIPアドレス対応表の読み込み"
   ]
  },
  {
   "cell_type": "code",
   "execution_count": null,
   "metadata": {
    "lc_cell_meme": {
     "current": "d1bcb8ac-9599-11ea-8d02-0242ac120007-8-ec95-2870-3f6b-38a0-51f3-b064-1134-216e",
     "history": [
      {
       "current": "d1bcb8ac-9599-11ea-8d02-0242ac120007",
       "next": "d1bcba78-9599-11ea-8d02-0242ac120007",
       "previous": "d1bcb5c8-9599-11ea-8d02-0242ac120007"
      },
      {
       "current": "d1bcb8ac-9599-11ea-8d02-0242ac120007",
       "next": "d1bcba78-9599-11ea-8d02-0242ac120007",
       "previous": "a85c1dda-959a-11ea-8d02-0242ac120007"
      },
      {
       "current": "d1bcb8ac-9599-11ea-8d02-0242ac120007",
       "next": "81dd4f74-9597-11ea-8d02-0242ac120007",
       "previous": "a85c1dda-959a-11ea-8d02-0242ac120007"
      },
      {
       "current": "d1bcb8ac-9599-11ea-8d02-0242ac120007",
       "next": "e879cdac-95bf-11ea-8d02-0242ac120007",
       "previous": "a85c1dda-959a-11ea-8d02-0242ac120007"
      },
      {
       "current": "d1bcb8ac-9599-11ea-8d02-0242ac120007",
       "next": "7899411a-9692-11ea-8d02-0242ac120007",
       "previous": "bf249b06-98af-11ea-8d02-0242ac120007"
      },
      {
       "current": "d1bcb8ac-9599-11ea-8d02-0242ac120007",
       "next": "06afe9a8-98b0-11ea-8d02-0242ac120007",
       "previous": "bf249b06-98af-11ea-8d02-0242ac120007"
      },
      {
       "current": "d1bcb8ac-9599-11ea-8d02-0242ac120007",
       "next": "06afe9a8-98b0-11ea-8d02-0242ac120007",
       "previous": "dd8e3cbc-98f2-11ea-8d02-0242ac120007"
      },
      {
       "current": "d1bcb8ac-9599-11ea-8d02-0242ac120007-1-ec95",
       "next": "250e7a70-98f3-11ea-8d02-0242ac120007",
       "previous": "dd8e3cbc-98f2-11ea-8d02-0242ac120007"
      },
      {
       "current": "d1bcb8ac-9599-11ea-8d02-0242ac120007-2-ec95-2870",
       "next": "250e7a70-98f3-11ea-8d02-0242ac120007-1-f0b4",
       "previous": "dd8e3cbc-98f2-11ea-8d02-0242ac120007-1-706a"
      },
      {
       "current": "d1bcb8ac-9599-11ea-8d02-0242ac120007-2-ec95-2870",
       "next": "250e7a70-98f3-11ea-8d02-0242ac120007-2-f0b4-6edf",
       "previous": "dd8e3cbc-98f2-11ea-8d02-0242ac120007-2-706a-309d"
      },
      {
       "current": "d1bcb8ac-9599-11ea-8d02-0242ac120007-3-ec95-2870-3f6b",
       "next": "250e7a70-98f3-11ea-8d02-0242ac120007-2-f0b4-6edf",
       "previous": "bf249b06-98af-11ea-8d02-0242ac120007-2-1e49-e772"
      },
      {
       "current": "d1bcb8ac-9599-11ea-8d02-0242ac120007-3-ec95-2870-3f6b",
       "next": "250e7a70-98f3-11ea-8d02-0242ac120007-3-f0b4-6edf-9d40",
       "previous": "bf249b06-98af-11ea-8d02-0242ac120007-3-1e49-e772-9042"
      },
      {
       "current": "d1bcb8ac-9599-11ea-8d02-0242ac120007-4-ec95-2870-3f6b-38a0",
       "next": "2991a18c-6f17-11ee-89fa-0242ac120005",
       "previous": "bf249b06-98af-11ea-8d02-0242ac120007-3-1e49-e772-9042"
      },
      {
       "current": "d1bcb8ac-9599-11ea-8d02-0242ac120007-5-ec95-2870-3f6b-38a0-51f3",
       "next": "2991a18c-6f17-11ee-89fa-0242ac120005-1-4b72",
       "previous": "bf249b06-98af-11ea-8d02-0242ac120007-4-1e49-e772-9042-770c"
      },
      {
       "current": "d1bcb8ac-9599-11ea-8d02-0242ac120007-6-ec95-2870-3f6b-38a0-51f3-b064",
       "next": "2991a18c-6f17-11ee-89fa-0242ac120005-2-4b72-60b0",
       "previous": "bf249b06-98af-11ea-8d02-0242ac120007-5-1e49-e772-9042-770c-411c"
      },
      {
       "current": "d1bcb8ac-9599-11ea-8d02-0242ac120007-6-ec95-2870-3f6b-38a0-51f3-b064",
       "next": "2991a18c-6f17-11ee-89fa-0242ac120005-3-4b72-60b0-f14f",
       "previous": "bf249b06-98af-11ea-8d02-0242ac120007-6-1e49-e772-9042-770c-411c-273c"
      },
      {
       "current": "d1bcb8ac-9599-11ea-8d02-0242ac120007-7-ec95-2870-3f6b-38a0-51f3-b064-1134",
       "next": "711857b2-6f17-11ee-89fa-0242ac120005-3-5208-830c-9851",
       "previous": "bf249b06-98af-11ea-8d02-0242ac120007-6-1e49-e772-9042-770c-411c-273c"
      },
      {
       "current": "d1bcb8ac-9599-11ea-8d02-0242ac120007-8-ec95-2870-3f6b-38a0-51f3-b064-1134-216e",
       "next": "711857b2-6f17-11ee-89fa-0242ac120005-4-5208-830c-9851-288a",
       "previous": "bf249b06-98af-11ea-8d02-0242ac120007-7-1e49-e772-9042-770c-411c-273c-dc6d"
      }
     ],
     "next": "711857b2-6f17-11ee-89fa-0242ac120005-5-5208-830c-9851-288a-9adb",
     "previous": "bf249b06-98af-11ea-8d02-0242ac120007-8-1e49-e772-9042-770c-411c-273c-dc6d-c5a2"
    },
    "scrolled": true
   },
   "outputs": [],
   "source": [
    "import os\n",
    "import csv\n",
    "import pandas as pd\n",
    "\n",
    "instance_ip_csv_path =  os.environ['HOME'] + \"/notebooks/share/configuration/ceph/ceph_instance_ip.csv\"\n",
    "instance_ip_list = []\n",
    "instance_ip_map = {}\n",
    "\n",
    "with open(instance_ip_csv_path, 'r') as path_csv:\n",
    "    reader = csv.DictReader(path_csv)\n",
    "    \n",
    "    for record in reader:\n",
    "        instance_ip_list.append(record)\n",
    "        instance_ip_map[record['instance_name']] = record\n",
    "\n",
    "pd.DataFrame(instance_ip_list)"
   ]
  },
  {
   "cell_type": "markdown",
   "metadata": {
    "lc_cell_meme": {
     "current": "711857b2-6f17-11ee-89fa-0242ac120005-5-5208-830c-9851-288a-9adb",
     "history": [
      {
       "current": "711857b2-6f17-11ee-89fa-0242ac120005-1-5208",
       "next": "71185870-6f17-11ee-89fa-0242ac120005",
       "previous": "250e7a70-98f3-11ea-8d02-0242ac120007-3-f0b4-6edf-9d40"
      },
      {
       "current": "711857b2-6f17-11ee-89fa-0242ac120005-2-5208-830c",
       "next": "71185870-6f17-11ee-89fa-0242ac120005-1-4e3f",
       "previous": "250e7a70-98f3-11ea-8d02-0242ac120007-4-f0b4-6edf-9d40-a530"
      },
      {
       "current": "711857b2-6f17-11ee-89fa-0242ac120005-3-5208-830c-9851",
       "next": "71185870-6f17-11ee-89fa-0242ac120005-2-4e3f-ce4b",
       "previous": "250e7a70-98f3-11ea-8d02-0242ac120007-5-f0b4-6edf-9d40-a530-fbfa"
      },
      {
       "current": "711857b2-6f17-11ee-89fa-0242ac120005-3-5208-830c-9851",
       "next": "71185870-6f17-11ee-89fa-0242ac120005-3-4e3f-ce4b-aaa8",
       "previous": "250e7a70-98f3-11ea-8d02-0242ac120007-6-f0b4-6edf-9d40-a530-fbfa-a776"
      },
      {
       "current": "711857b2-6f17-11ee-89fa-0242ac120005-4-5208-830c-9851-288a",
       "next": "71185870-6f17-11ee-89fa-0242ac120005-3-4e3f-ce4b-aaa8",
       "previous": "d1bcb8ac-9599-11ea-8d02-0242ac120007-6-ec95-2870-3f6b-38a0-51f3-b064"
      },
      {
       "current": "711857b2-6f17-11ee-89fa-0242ac120005-5-5208-830c-9851-288a-9adb",
       "next": "71185870-6f17-11ee-89fa-0242ac120005-4-4e3f-ce4b-aaa8-81c1",
       "previous": "d1bcb8ac-9599-11ea-8d02-0242ac120007-7-ec95-2870-3f6b-38a0-51f3-b064-1134"
      }
     ],
     "next": "71185870-6f17-11ee-89fa-0242ac120005-5-4e3f-ce4b-aaa8-81c1-fa1e",
     "previous": "d1bcb8ac-9599-11ea-8d02-0242ac120007-8-ec95-2870-3f6b-38a0-51f3-b064-1134-216e"
    }
   },
   "source": [
    "## 作業用ディレクトリを作成する"
   ]
  },
  {
   "cell_type": "code",
   "execution_count": null,
   "metadata": {
    "lc_cell_meme": {
     "current": "71185870-6f17-11ee-89fa-0242ac120005-5-4e3f-ce4b-aaa8-81c1-fa1e",
     "history": [
      {
       "current": "71185870-6f17-11ee-89fa-0242ac120005-1-4e3f",
       "next": "711858ac-6f17-11ee-89fa-0242ac120005",
       "previous": "711857b2-6f17-11ee-89fa-0242ac120005"
      },
      {
       "current": "71185870-6f17-11ee-89fa-0242ac120005-2-4e3f-ce4b",
       "next": "711858ac-6f17-11ee-89fa-0242ac120005-1-b10f",
       "previous": "711857b2-6f17-11ee-89fa-0242ac120005-1-5208"
      },
      {
       "current": "71185870-6f17-11ee-89fa-0242ac120005-3-4e3f-ce4b-aaa8",
       "next": "711858ac-6f17-11ee-89fa-0242ac120005-2-b10f-c00c",
       "previous": "711857b2-6f17-11ee-89fa-0242ac120005-2-5208-830c"
      },
      {
       "current": "71185870-6f17-11ee-89fa-0242ac120005-4-4e3f-ce4b-aaa8-81c1",
       "next": "711858ac-6f17-11ee-89fa-0242ac120005-3-b10f-c00c-1212",
       "previous": "711857b2-6f17-11ee-89fa-0242ac120005-3-5208-830c-9851"
      },
      {
       "current": "71185870-6f17-11ee-89fa-0242ac120005-5-4e3f-ce4b-aaa8-81c1-fa1e",
       "next": "711858ac-6f17-11ee-89fa-0242ac120005-4-b10f-c00c-1212-6bac",
       "previous": "711857b2-6f17-11ee-89fa-0242ac120005-4-5208-830c-9851-288a"
      }
     ],
     "next": "711858ac-6f17-11ee-89fa-0242ac120005-5-b10f-c00c-1212-6bac-9be4",
     "previous": "711857b2-6f17-11ee-89fa-0242ac120005-5-5208-830c-9851-288a-9adb"
    }
   },
   "outputs": [],
   "source": [
    "import os,tempfile\n",
    "temp_dir = tempfile.mkdtemp()\n",
    "print (temp_dir)"
   ]
  },
  {
   "cell_type": "markdown",
   "metadata": {
    "lc_cell_meme": {
     "current": "711858ac-6f17-11ee-89fa-0242ac120005-5-b10f-c00c-1212-6bac-9be4",
     "history": [
      {
       "current": "711858ac-6f17-11ee-89fa-0242ac120005-1-b10f",
       "next": "711858ca-6f17-11ee-89fa-0242ac120005",
       "previous": "71185870-6f17-11ee-89fa-0242ac120005"
      },
      {
       "current": "711858ac-6f17-11ee-89fa-0242ac120005-2-b10f-c00c",
       "next": "711858ca-6f17-11ee-89fa-0242ac120005-1-b779",
       "previous": "71185870-6f17-11ee-89fa-0242ac120005-1-4e3f"
      },
      {
       "current": "711858ac-6f17-11ee-89fa-0242ac120005-3-b10f-c00c-1212",
       "next": "711858ca-6f17-11ee-89fa-0242ac120005-2-b779-3433",
       "previous": "71185870-6f17-11ee-89fa-0242ac120005-2-4e3f-ce4b"
      },
      {
       "current": "711858ac-6f17-11ee-89fa-0242ac120005-4-b10f-c00c-1212-6bac",
       "next": "711858ca-6f17-11ee-89fa-0242ac120005-3-b779-3433-e199",
       "previous": "71185870-6f17-11ee-89fa-0242ac120005-3-4e3f-ce4b-aaa8"
      },
      {
       "current": "711858ac-6f17-11ee-89fa-0242ac120005-5-b10f-c00c-1212-6bac-9be4",
       "next": "711858ca-6f17-11ee-89fa-0242ac120005-4-b779-3433-e199-f0ca",
       "previous": "71185870-6f17-11ee-89fa-0242ac120005-4-4e3f-ce4b-aaa8-81c1"
      }
     ],
     "next": "711858ca-6f17-11ee-89fa-0242ac120005-5-b779-3433-e199-f0ca-8eed",
     "previous": "71185870-6f17-11ee-89fa-0242ac120005-5-4e3f-ce4b-aaa8-81c1-fa1e"
    }
   },
   "source": [
    "## AnsibleのInventoryファイルを作業用ディレクトリへ作成する"
   ]
  },
  {
   "cell_type": "code",
   "execution_count": null,
   "metadata": {
    "lc_cell_meme": {
     "current": "711858ca-6f17-11ee-89fa-0242ac120005-5-b779-3433-e199-f0ca-8eed",
     "history": [
      {
       "current": "711858ca-6f17-11ee-89fa-0242ac120005-1-b779",
       "next": "711858f2-6f17-11ee-89fa-0242ac120005",
       "previous": "711858ac-6f17-11ee-89fa-0242ac120005"
      },
      {
       "current": "711858ca-6f17-11ee-89fa-0242ac120005-2-b779-3433",
       "next": "711858f2-6f17-11ee-89fa-0242ac120005-1-c10f",
       "previous": "711858ac-6f17-11ee-89fa-0242ac120005-1-b10f"
      },
      {
       "current": "711858ca-6f17-11ee-89fa-0242ac120005-3-b779-3433-e199",
       "next": "711858f2-6f17-11ee-89fa-0242ac120005-2-c10f-c331",
       "previous": "711858ac-6f17-11ee-89fa-0242ac120005-2-b10f-c00c"
      },
      {
       "current": "711858ca-6f17-11ee-89fa-0242ac120005-4-b779-3433-e199-f0ca",
       "next": "711858f2-6f17-11ee-89fa-0242ac120005-3-c10f-c331-05ce",
       "previous": "711858ac-6f17-11ee-89fa-0242ac120005-3-b10f-c00c-1212"
      },
      {
       "current": "711858ca-6f17-11ee-89fa-0242ac120005-5-b779-3433-e199-f0ca-8eed",
       "next": "711858f2-6f17-11ee-89fa-0242ac120005-4-c10f-c331-05ce-6f5f",
       "previous": "711858ac-6f17-11ee-89fa-0242ac120005-4-b10f-c00c-1212-6bac"
      }
     ],
     "next": "711858f2-6f17-11ee-89fa-0242ac120005-5-c10f-c331-05ce-6f5f-1afb",
     "previous": "711858ac-6f17-11ee-89fa-0242ac120005-5-b10f-c00c-1212-6bac-9be4"
    }
   },
   "outputs": [],
   "source": [
    "import os\n",
    "\n",
    "with open( os.path.join(temp_dir, \"hosts\"), 'w') as f:\n",
    "    f.write('''[openstack_ctl]\n",
    "{openstack_cmn}\n",
    "'''.format(openstack_cmn = provisioning_vip))\n",
    "\n",
    "hosts = temp_dir + \"/hosts\"\n",
    "!cat $hosts"
   ]
  },
  {
   "cell_type": "code",
   "execution_count": null,
   "metadata": {
    "lc_cell_meme": {
     "current": "711858f2-6f17-11ee-89fa-0242ac120005-5-c10f-c331-05ce-6f5f-1afb",
     "history": [
      {
       "current": "711858f2-6f17-11ee-89fa-0242ac120005-1-c10f",
       "next": "71185910-6f17-11ee-89fa-0242ac120005",
       "previous": "711858ca-6f17-11ee-89fa-0242ac120005"
      },
      {
       "current": "711858f2-6f17-11ee-89fa-0242ac120005-2-c10f-c331",
       "next": "71185910-6f17-11ee-89fa-0242ac120005-1-d475",
       "previous": "711858ca-6f17-11ee-89fa-0242ac120005-1-b779"
      },
      {
       "current": "711858f2-6f17-11ee-89fa-0242ac120005-3-c10f-c331-05ce",
       "next": "71185910-6f17-11ee-89fa-0242ac120005-2-d475-42ea",
       "previous": "711858ca-6f17-11ee-89fa-0242ac120005-2-b779-3433"
      },
      {
       "current": "711858f2-6f17-11ee-89fa-0242ac120005-4-c10f-c331-05ce-6f5f",
       "next": "71185910-6f17-11ee-89fa-0242ac120005-3-d475-42ea-7edd",
       "previous": "711858ca-6f17-11ee-89fa-0242ac120005-3-b779-3433-e199"
      },
      {
       "current": "711858f2-6f17-11ee-89fa-0242ac120005-5-c10f-c331-05ce-6f5f-1afb",
       "next": "71185910-6f17-11ee-89fa-0242ac120005-4-d475-42ea-7edd-d7e5",
       "previous": "711858ca-6f17-11ee-89fa-0242ac120005-4-b779-3433-e199-f0ca"
      }
     ],
     "next": "71185910-6f17-11ee-89fa-0242ac120005-5-d475-42ea-7edd-d7e5-0749",
     "previous": "711858ca-6f17-11ee-89fa-0242ac120005-5-b779-3433-e199-f0ca-8eed"
    }
   },
   "outputs": [],
   "source": [
    "%env ANSIBLE_INVENTORY={hosts}"
   ]
  },
  {
   "cell_type": "markdown",
   "metadata": {
    "lc_cell_meme": {
     "current": "71185910-6f17-11ee-89fa-0242ac120005-5-d475-42ea-7edd-d7e5-0749",
     "history": [
      {
       "current": "71185910-6f17-11ee-89fa-0242ac120005-1-d475",
       "next": "7118592e-6f17-11ee-89fa-0242ac120005",
       "previous": "711858f2-6f17-11ee-89fa-0242ac120005"
      },
      {
       "current": "71185910-6f17-11ee-89fa-0242ac120005-2-d475-42ea",
       "next": "7118592e-6f17-11ee-89fa-0242ac120005-1-b750",
       "previous": "711858f2-6f17-11ee-89fa-0242ac120005-1-c10f"
      },
      {
       "current": "71185910-6f17-11ee-89fa-0242ac120005-3-d475-42ea-7edd",
       "next": "7118592e-6f17-11ee-89fa-0242ac120005-2-b750-7a3b",
       "previous": "711858f2-6f17-11ee-89fa-0242ac120005-2-c10f-c331"
      },
      {
       "current": "71185910-6f17-11ee-89fa-0242ac120005-4-d475-42ea-7edd-d7e5",
       "next": "7118592e-6f17-11ee-89fa-0242ac120005-3-b750-7a3b-1792",
       "previous": "711858f2-6f17-11ee-89fa-0242ac120005-3-c10f-c331-05ce"
      },
      {
       "current": "71185910-6f17-11ee-89fa-0242ac120005-5-d475-42ea-7edd-d7e5-0749",
       "next": "7118592e-6f17-11ee-89fa-0242ac120005-4-b750-7a3b-1792-1238",
       "previous": "711858f2-6f17-11ee-89fa-0242ac120005-4-c10f-c331-05ce-6f5f"
      }
     ],
     "next": "7118592e-6f17-11ee-89fa-0242ac120005-5-b750-7a3b-1792-1238-f7ee",
     "previous": "711858f2-6f17-11ee-89fa-0242ac120005-5-c10f-c331-05ce-6f5f-1afb"
    }
   },
   "source": [
    "疎通確認"
   ]
  },
  {
   "cell_type": "code",
   "execution_count": null,
   "metadata": {
    "lc_cell_meme": {
     "current": "7118592e-6f17-11ee-89fa-0242ac120005-5-b750-7a3b-1792-1238-f7ee",
     "history": [
      {
       "current": "7118592e-6f17-11ee-89fa-0242ac120005-1-b750",
       "next": "71185956-6f17-11ee-89fa-0242ac120005",
       "previous": "71185910-6f17-11ee-89fa-0242ac120005"
      },
      {
       "current": "7118592e-6f17-11ee-89fa-0242ac120005-2-b750-7a3b",
       "next": "71185956-6f17-11ee-89fa-0242ac120005-1-718b",
       "previous": "71185910-6f17-11ee-89fa-0242ac120005-1-d475"
      },
      {
       "current": "7118592e-6f17-11ee-89fa-0242ac120005-3-b750-7a3b-1792",
       "next": "71185956-6f17-11ee-89fa-0242ac120005-2-718b-f30a",
       "previous": "71185910-6f17-11ee-89fa-0242ac120005-2-d475-42ea"
      },
      {
       "current": "7118592e-6f17-11ee-89fa-0242ac120005-4-b750-7a3b-1792-1238",
       "next": "71185956-6f17-11ee-89fa-0242ac120005-3-718b-f30a-92ca",
       "previous": "71185910-6f17-11ee-89fa-0242ac120005-3-d475-42ea-7edd"
      },
      {
       "current": "7118592e-6f17-11ee-89fa-0242ac120005-5-b750-7a3b-1792-1238-f7ee",
       "next": "71185956-6f17-11ee-89fa-0242ac120005-4-718b-f30a-92ca-b475",
       "previous": "71185910-6f17-11ee-89fa-0242ac120005-4-d475-42ea-7edd-d7e5"
      }
     ],
     "next": "71185956-6f17-11ee-89fa-0242ac120005-5-718b-f30a-92ca-b475-c87e",
     "previous": "71185910-6f17-11ee-89fa-0242ac120005-5-d475-42ea-7edd-d7e5-0749"
    }
   },
   "outputs": [],
   "source": [
    "!ansible -m ping openstack_ctl"
   ]
  },
  {
   "cell_type": "code",
   "execution_count": null,
   "metadata": {
    "lc_cell_meme": {
     "current": "71185956-6f17-11ee-89fa-0242ac120005-5-718b-f30a-92ca-b475-c87e",
     "history": [
      {
       "current": "71185956-6f17-11ee-89fa-0242ac120005-1-718b",
       "next": "71185974-6f17-11ee-89fa-0242ac120005",
       "previous": "7118592e-6f17-11ee-89fa-0242ac120005"
      },
      {
       "current": "71185956-6f17-11ee-89fa-0242ac120005-2-718b-f30a",
       "next": "71185974-6f17-11ee-89fa-0242ac120005-1-8c6a",
       "previous": "7118592e-6f17-11ee-89fa-0242ac120005-1-b750"
      },
      {
       "current": "71185956-6f17-11ee-89fa-0242ac120005-3-718b-f30a-92ca",
       "next": "71185974-6f17-11ee-89fa-0242ac120005-2-8c6a-bd46",
       "previous": "7118592e-6f17-11ee-89fa-0242ac120005-2-b750-7a3b"
      },
      {
       "current": "71185956-6f17-11ee-89fa-0242ac120005-4-718b-f30a-92ca-b475",
       "next": "71185974-6f17-11ee-89fa-0242ac120005-3-8c6a-bd46-b311",
       "previous": "7118592e-6f17-11ee-89fa-0242ac120005-3-b750-7a3b-1792"
      },
      {
       "current": "71185956-6f17-11ee-89fa-0242ac120005-5-718b-f30a-92ca-b475-c87e",
       "next": "71185974-6f17-11ee-89fa-0242ac120005-4-8c6a-bd46-b311-e237",
       "previous": "7118592e-6f17-11ee-89fa-0242ac120005-4-b750-7a3b-1792-1238"
      }
     ],
     "next": "71185974-6f17-11ee-89fa-0242ac120005-5-8c6a-bd46-b311-e237-00f5",
     "previous": "7118592e-6f17-11ee-89fa-0242ac120005-5-b750-7a3b-1792-1238-f7ee"
    }
   },
   "outputs": [],
   "source": [
    "!ansible -a 'hostname' openstack_ctl"
   ]
  },
  {
   "cell_type": "markdown",
   "metadata": {
    "lc_cell_meme": {
     "current": "71185974-6f17-11ee-89fa-0242ac120005-5-8c6a-bd46-b311-e237-00f5",
     "history": [
      {
       "current": "71185974-6f17-11ee-89fa-0242ac120005-1-8c6a",
       "next": "7118599c-6f17-11ee-89fa-0242ac120005",
       "previous": "71185956-6f17-11ee-89fa-0242ac120005"
      },
      {
       "current": "71185974-6f17-11ee-89fa-0242ac120005-2-8c6a-bd46",
       "next": "7118599c-6f17-11ee-89fa-0242ac120005-1-93db",
       "previous": "71185956-6f17-11ee-89fa-0242ac120005-1-718b"
      },
      {
       "current": "71185974-6f17-11ee-89fa-0242ac120005-3-8c6a-bd46-b311",
       "next": "7118599c-6f17-11ee-89fa-0242ac120005-2-93db-022e",
       "previous": "71185956-6f17-11ee-89fa-0242ac120005-2-718b-f30a"
      },
      {
       "current": "71185974-6f17-11ee-89fa-0242ac120005-4-8c6a-bd46-b311-e237",
       "next": "7118599c-6f17-11ee-89fa-0242ac120005-3-93db-022e-ad73",
       "previous": "71185956-6f17-11ee-89fa-0242ac120005-3-718b-f30a-92ca"
      },
      {
       "current": "71185974-6f17-11ee-89fa-0242ac120005-5-8c6a-bd46-b311-e237-00f5",
       "next": "7118599c-6f17-11ee-89fa-0242ac120005-4-93db-022e-ad73-c0e2",
       "previous": "71185956-6f17-11ee-89fa-0242ac120005-4-718b-f30a-92ca-b475"
      }
     ],
     "next": "7118599c-6f17-11ee-89fa-0242ac120005-5-93db-022e-ad73-c0e2-43de",
     "previous": "71185956-6f17-11ee-89fa-0242ac120005-5-718b-f30a-92ca-b475-c87e"
    }
   },
   "source": [
    "## OpenStack用OpenRCファイル設定\n",
    "\n",
    "`xxxxxxx`プロジェクト用のOpenRCファイルを事前にダウンロードしておくこと。  "
   ]
  },
  {
   "cell_type": "code",
   "execution_count": null,
   "metadata": {
    "lc_cell_meme": {
     "current": "7118599c-6f17-11ee-89fa-0242ac120005-5-93db-022e-ad73-c0e2-43de",
     "history": [
      {
       "current": "7118599c-6f17-11ee-89fa-0242ac120005-1-93db",
       "next": "711859ba-6f17-11ee-89fa-0242ac120005",
       "previous": "71185974-6f17-11ee-89fa-0242ac120005"
      },
      {
       "current": "7118599c-6f17-11ee-89fa-0242ac120005-2-93db-022e",
       "next": "711859ba-6f17-11ee-89fa-0242ac120005-1-0186",
       "previous": "71185974-6f17-11ee-89fa-0242ac120005-1-8c6a"
      },
      {
       "current": "7118599c-6f17-11ee-89fa-0242ac120005-3-93db-022e-ad73",
       "next": "711859ba-6f17-11ee-89fa-0242ac120005-2-0186-9611",
       "previous": "71185974-6f17-11ee-89fa-0242ac120005-2-8c6a-bd46"
      },
      {
       "current": "7118599c-6f17-11ee-89fa-0242ac120005-4-93db-022e-ad73-c0e2",
       "next": "711859ba-6f17-11ee-89fa-0242ac120005-3-0186-9611-884e",
       "previous": "71185974-6f17-11ee-89fa-0242ac120005-3-8c6a-bd46-b311"
      },
      {
       "current": "7118599c-6f17-11ee-89fa-0242ac120005-5-93db-022e-ad73-c0e2-43de",
       "next": "711859ba-6f17-11ee-89fa-0242ac120005-4-0186-9611-884e-b035",
       "previous": "71185974-6f17-11ee-89fa-0242ac120005-4-8c6a-bd46-b311-e237"
      }
     ],
     "next": "711859ba-6f17-11ee-89fa-0242ac120005-5-0186-9611-884e-b035-e79e",
     "previous": "71185974-6f17-11ee-89fa-0242ac120005-5-8c6a-bd46-b311-e237-00f5"
    }
   },
   "outputs": [],
   "source": [
    "import os\n",
    "\n",
    "user_creds = os.path.expanduser('~/.keys/xxxxxxx-openrc.sh')\n",
    "\n",
    "assert os.path.exists(user_creds), '{} is not exist'.format(user_creds)"
   ]
  },
  {
   "cell_type": "code",
   "execution_count": null,
   "metadata": {
    "lc_cell_meme": {
     "current": "711859ba-6f17-11ee-89fa-0242ac120005-5-0186-9611-884e-b035-e79e",
     "history": [
      {
       "current": "711859ba-6f17-11ee-89fa-0242ac120005-1-0186",
       "next": "711859d8-6f17-11ee-89fa-0242ac120005",
       "previous": "7118599c-6f17-11ee-89fa-0242ac120005"
      },
      {
       "current": "711859ba-6f17-11ee-89fa-0242ac120005-2-0186-9611",
       "next": "711859d8-6f17-11ee-89fa-0242ac120005-1-89b8",
       "previous": "7118599c-6f17-11ee-89fa-0242ac120005-1-93db"
      },
      {
       "current": "711859ba-6f17-11ee-89fa-0242ac120005-3-0186-9611-884e",
       "next": "711859d8-6f17-11ee-89fa-0242ac120005-2-89b8-7dcb",
       "previous": "7118599c-6f17-11ee-89fa-0242ac120005-2-93db-022e"
      },
      {
       "current": "711859ba-6f17-11ee-89fa-0242ac120005-4-0186-9611-884e-b035",
       "next": "711859d8-6f17-11ee-89fa-0242ac120005-3-89b8-7dcb-a464",
       "previous": "7118599c-6f17-11ee-89fa-0242ac120005-3-93db-022e-ad73"
      },
      {
       "current": "711859ba-6f17-11ee-89fa-0242ac120005-5-0186-9611-884e-b035-e79e",
       "next": "711859d8-6f17-11ee-89fa-0242ac120005-4-89b8-7dcb-a464-9cf4",
       "previous": "7118599c-6f17-11ee-89fa-0242ac120005-4-93db-022e-ad73-c0e2"
      }
     ],
     "next": "711859d8-6f17-11ee-89fa-0242ac120005-5-89b8-7dcb-a464-9cf4-75d3",
     "previous": "7118599c-6f17-11ee-89fa-0242ac120005-5-93db-022e-ad73-c0e2-43de"
    }
   },
   "outputs": [],
   "source": [
    "%env USER_CREDS={user_creds}"
   ]
  },
  {
   "cell_type": "code",
   "execution_count": null,
   "metadata": {
    "lc_cell_meme": {
     "current": "711859d8-6f17-11ee-89fa-0242ac120005-5-89b8-7dcb-a464-9cf4-75d3",
     "history": [
      {
       "current": "711859d8-6f17-11ee-89fa-0242ac120005",
       "next": "71185a00-6f17-11ee-89fa-0242ac120005",
       "previous": "711859ba-6f17-11ee-89fa-0242ac120005"
      },
      {
       "current": "711859d8-6f17-11ee-89fa-0242ac120005-1-89b8",
       "next": "71185a00-6f17-11ee-89fa-0242ac120005-1-468f",
       "previous": "711859ba-6f17-11ee-89fa-0242ac120005"
      },
      {
       "current": "711859d8-6f17-11ee-89fa-0242ac120005-2-89b8-7dcb",
       "next": "71185a00-6f17-11ee-89fa-0242ac120005-2-468f-3d13",
       "previous": "711859ba-6f17-11ee-89fa-0242ac120005-1-0186"
      },
      {
       "current": "711859d8-6f17-11ee-89fa-0242ac120005-3-89b8-7dcb-a464",
       "next": "71185a00-6f17-11ee-89fa-0242ac120005-3-468f-3d13-0403",
       "previous": "711859ba-6f17-11ee-89fa-0242ac120005-2-0186-9611"
      },
      {
       "current": "711859d8-6f17-11ee-89fa-0242ac120005-4-89b8-7dcb-a464-9cf4",
       "next": "71185a00-6f17-11ee-89fa-0242ac120005-4-468f-3d13-0403-a1e0",
       "previous": "711859ba-6f17-11ee-89fa-0242ac120005-3-0186-9611-884e"
      },
      {
       "current": "711859d8-6f17-11ee-89fa-0242ac120005-5-89b8-7dcb-a464-9cf4-75d3",
       "next": "71185a00-6f17-11ee-89fa-0242ac120005-5-468f-3d13-0403-a1e0-2e3b",
       "previous": "711859ba-6f17-11ee-89fa-0242ac120005-4-0186-9611-884e-b035"
      }
     ],
     "next": "71185a00-6f17-11ee-89fa-0242ac120005-6-468f-3d13-0403-a1e0-2e3b-d3b8",
     "previous": "711859ba-6f17-11ee-89fa-0242ac120005-5-0186-9611-884e-b035-e79e"
    }
   },
   "outputs": [],
   "source": [
    "!ls -l {user_creds}"
   ]
  },
  {
   "cell_type": "markdown",
   "metadata": {
    "heading_collapsed": true,
    "lc_cell_meme": {
     "current": "71185a00-6f17-11ee-89fa-0242ac120005-6-468f-3d13-0403-a1e0-2e3b-d3b8",
     "history": [
      {
       "current": "71185a00-6f17-11ee-89fa-0242ac120005-2-468f-3d13",
       "next": "71185a1e-6f17-11ee-89fa-0242ac120005",
       "previous": "711859d8-6f17-11ee-89fa-0242ac120005"
      },
      {
       "current": "71185a00-6f17-11ee-89fa-0242ac120005-3-468f-3d13-0403",
       "next": "71185a1e-6f17-11ee-89fa-0242ac120005-1-7d59",
       "previous": "711859d8-6f17-11ee-89fa-0242ac120005-1-89b8"
      },
      {
       "current": "71185a00-6f17-11ee-89fa-0242ac120005-4-468f-3d13-0403-a1e0",
       "next": "71185a1e-6f17-11ee-89fa-0242ac120005-2-7d59-b78b",
       "previous": "711859d8-6f17-11ee-89fa-0242ac120005-2-89b8-7dcb"
      },
      {
       "current": "71185a00-6f17-11ee-89fa-0242ac120005-5-468f-3d13-0403-a1e0-2e3b",
       "next": "71185a1e-6f17-11ee-89fa-0242ac120005-3-7d59-b78b-6f17",
       "previous": "711859d8-6f17-11ee-89fa-0242ac120005-3-89b8-7dcb-a464"
      },
      {
       "current": "71185a00-6f17-11ee-89fa-0242ac120005-6-468f-3d13-0403-a1e0-2e3b-d3b8",
       "next": "71185a1e-6f17-11ee-89fa-0242ac120005-4-7d59-b78b-6f17-3334",
       "previous": "711859d8-6f17-11ee-89fa-0242ac120005-4-89b8-7dcb-a464-9cf4"
      }
     ],
     "next": "71185a1e-6f17-11ee-89fa-0242ac120005-5-7d59-b78b-6f17-3334-6d40",
     "previous": "711859d8-6f17-11ee-89fa-0242ac120005-5-89b8-7dcb-a464-9cf4-75d3"
    }
   },
   "source": [
    "## openstackコマンド用ユーティリティ関数"
   ]
  },
  {
   "cell_type": "code",
   "execution_count": null,
   "metadata": {
    "hidden": true,
    "lc_cell_meme": {
     "current": "71185a1e-6f17-11ee-89fa-0242ac120005-5-7d59-b78b-6f17-3334-6d40",
     "history": [
      {
       "current": "71185a1e-6f17-11ee-89fa-0242ac120005",
       "next": "71185a3c-6f17-11ee-89fa-0242ac120005",
       "previous": "71185a00-6f17-11ee-89fa-0242ac120005"
      },
      {
       "current": "71185a1e-6f17-11ee-89fa-0242ac120005-1-7d59",
       "next": "b8a5691c-6f17-11ee-89fa-0242ac120005",
       "previous": "71185a00-6f17-11ee-89fa-0242ac120005-1-468f"
      },
      {
       "current": "71185a1e-6f17-11ee-89fa-0242ac120005-2-7d59-b78b",
       "next": "b8a5691c-6f17-11ee-89fa-0242ac120005-1-4e3b",
       "previous": "71185a00-6f17-11ee-89fa-0242ac120005-2-468f-3d13"
      },
      {
       "current": "71185a1e-6f17-11ee-89fa-0242ac120005-3-7d59-b78b-6f17",
       "next": "b8a5691c-6f17-11ee-89fa-0242ac120005-2-4e3b-2603",
       "previous": "71185a00-6f17-11ee-89fa-0242ac120005-3-468f-3d13-0403"
      },
      {
       "current": "71185a1e-6f17-11ee-89fa-0242ac120005-4-7d59-b78b-6f17-3334",
       "next": "b8a5691c-6f17-11ee-89fa-0242ac120005-3-4e3b-2603-c58a",
       "previous": "71185a00-6f17-11ee-89fa-0242ac120005-4-468f-3d13-0403-a1e0"
      },
      {
       "current": "71185a1e-6f17-11ee-89fa-0242ac120005-5-7d59-b78b-6f17-3334-6d40",
       "next": "b8a5691c-6f17-11ee-89fa-0242ac120005-4-4e3b-2603-c58a-9ab8",
       "previous": "71185a00-6f17-11ee-89fa-0242ac120005-5-468f-3d13-0403-a1e0-2e3b"
      }
     ],
     "next": "b8a5691c-6f17-11ee-89fa-0242ac120005-5-4e3b-2603-c58a-9ab8-e22e",
     "previous": "71185a00-6f17-11ee-89fa-0242ac120005-6-468f-3d13-0403-a1e0-2e3b-d3b8"
    }
   },
   "outputs": [],
   "source": [
    "def build_cmdline(param):\n",
    "    cmdline = ''\n",
    "    \n",
    "    for param_name, param_value in param.items():\n",
    "        if isinstance(param_value, dict):\n",
    "            for key, value in param_value.items():\n",
    "                cmdline += ' --{} {}={}'.format(param_name, key, value)\n",
    "        elif isinstance(param_value, list):\n",
    "            for item in param_value:\n",
    "                cmdline += ' --{} {}'.format(param_name, item)\n",
    "        elif isinstance(param_value, bool):\n",
    "            if param_value:\n",
    "                cmdline += ' --{}'.format(param_name)\n",
    "        else:\n",
    "            cmdline += ' --{} {}'.format(param_name, param_value)\n",
    "\n",
    "    return cmdline"
   ]
  },
  {
   "cell_type": "code",
   "execution_count": null,
   "metadata": {
    "hidden": true,
    "lc_cell_meme": {
     "current": "b8a5691c-6f17-11ee-89fa-0242ac120005-5-4e3b-2603-c58a-9ab8-e22e",
     "history": [
      {
       "current": "b8a5691c-6f17-11ee-89fa-0242ac120005-1-4e3b",
       "next": "b8a56a7a-6f17-11ee-89fa-0242ac120005",
       "previous": "71185a1e-6f17-11ee-89fa-0242ac120005"
      },
      {
       "current": "b8a5691c-6f17-11ee-89fa-0242ac120005-2-4e3b-2603",
       "next": "b8a56a7a-6f17-11ee-89fa-0242ac120005-1-3e5b",
       "previous": "71185a1e-6f17-11ee-89fa-0242ac120005-1-7d59"
      },
      {
       "current": "b8a5691c-6f17-11ee-89fa-0242ac120005-3-4e3b-2603-c58a",
       "next": "b8a56a7a-6f17-11ee-89fa-0242ac120005-2-3e5b-c1dc",
       "previous": "71185a1e-6f17-11ee-89fa-0242ac120005-2-7d59-b78b"
      },
      {
       "current": "b8a5691c-6f17-11ee-89fa-0242ac120005-4-4e3b-2603-c58a-9ab8",
       "next": "b8a56a7a-6f17-11ee-89fa-0242ac120005-3-3e5b-c1dc-38b1",
       "previous": "71185a1e-6f17-11ee-89fa-0242ac120005-3-7d59-b78b-6f17"
      },
      {
       "current": "b8a5691c-6f17-11ee-89fa-0242ac120005-5-4e3b-2603-c58a-9ab8-e22e",
       "next": "b8a56a7a-6f17-11ee-89fa-0242ac120005-4-3e5b-c1dc-38b1-bef4",
       "previous": "71185a1e-6f17-11ee-89fa-0242ac120005-4-7d59-b78b-6f17-3334"
      }
     ],
     "next": "b8a56a7a-6f17-11ee-89fa-0242ac120005-5-3e5b-c1dc-38b1-bef4-a166",
     "previous": "71185a1e-6f17-11ee-89fa-0242ac120005-5-7d59-b78b-6f17-3334-6d40"
    }
   },
   "outputs": [],
   "source": [
    "import json\n",
    "\n",
    "def run_openstack(cmd):\n",
    "    print('EXEC: {}'.format(cmd))\n",
    "    out = !source {user_creds} && {cmd}\n",
    "    print('OUTPUT: {}'.format('\\n'.join(out)))\n",
    "    return json.loads('\\n'.join(out))"
   ]
  },
  {
   "cell_type": "markdown",
   "metadata": {
    "hidden": true,
    "lc_cell_meme": {
     "current": "b8a56a7a-6f17-11ee-89fa-0242ac120005-5-3e5b-c1dc-38b1-bef4-a166",
     "history": [
      {
       "current": "b8a56a7a-6f17-11ee-89fa-0242ac120005-1-3e5b",
       "next": "b8a56afc-6f17-11ee-89fa-0242ac120005",
       "previous": "b8a5691c-6f17-11ee-89fa-0242ac120005"
      },
      {
       "current": "b8a56a7a-6f17-11ee-89fa-0242ac120005-2-3e5b-c1dc",
       "next": "b8a56afc-6f17-11ee-89fa-0242ac120005-1-fddb",
       "previous": "b8a5691c-6f17-11ee-89fa-0242ac120005-1-4e3b"
      },
      {
       "current": "b8a56a7a-6f17-11ee-89fa-0242ac120005-3-3e5b-c1dc-38b1",
       "next": "b8a56afc-6f17-11ee-89fa-0242ac120005-2-fddb-6c34",
       "previous": "b8a5691c-6f17-11ee-89fa-0242ac120005-2-4e3b-2603"
      },
      {
       "current": "b8a56a7a-6f17-11ee-89fa-0242ac120005-4-3e5b-c1dc-38b1-bef4",
       "next": "b8a56afc-6f17-11ee-89fa-0242ac120005-3-fddb-6c34-7d5e",
       "previous": "b8a5691c-6f17-11ee-89fa-0242ac120005-3-4e3b-2603-c58a"
      },
      {
       "current": "b8a56a7a-6f17-11ee-89fa-0242ac120005-5-3e5b-c1dc-38b1-bef4-a166",
       "next": "b8a56afc-6f17-11ee-89fa-0242ac120005-4-fddb-6c34-7d5e-6739",
       "previous": "b8a5691c-6f17-11ee-89fa-0242ac120005-4-4e3b-2603-c58a-9ab8"
      }
     ],
     "next": "b8a56afc-6f17-11ee-89fa-0242ac120005-5-fddb-6c34-7d5e-6739-fe2c",
     "previous": "b8a5691c-6f17-11ee-89fa-0242ac120005-5-4e3b-2603-c58a-9ab8-e22e"
    }
   },
   "source": [
    "テスト"
   ]
  },
  {
   "cell_type": "code",
   "execution_count": null,
   "metadata": {
    "hidden": true,
    "lc_cell_meme": {
     "current": "b8a56afc-6f17-11ee-89fa-0242ac120005-5-fddb-6c34-7d5e-6739-fe2c",
     "history": [
      {
       "current": "b8a56afc-6f17-11ee-89fa-0242ac120005-1-fddb",
       "next": "06afe9a8-98b0-11ea-8d02-0242ac120007-3-a1c1-faf0-55bd",
       "previous": "b8a56a7a-6f17-11ee-89fa-0242ac120005"
      },
      {
       "current": "b8a56afc-6f17-11ee-89fa-0242ac120005-2-fddb-6c34",
       "next": "06afe9a8-98b0-11ea-8d02-0242ac120007-4-a1c1-faf0-55bd-de3c",
       "previous": "b8a56a7a-6f17-11ee-89fa-0242ac120005-1-3e5b"
      },
      {
       "current": "b8a56afc-6f17-11ee-89fa-0242ac120005-3-fddb-6c34-7d5e",
       "next": "06afe9a8-98b0-11ea-8d02-0242ac120007-5-a1c1-faf0-55bd-de3c-47db",
       "previous": "b8a56a7a-6f17-11ee-89fa-0242ac120005-2-3e5b-c1dc"
      },
      {
       "current": "b8a56afc-6f17-11ee-89fa-0242ac120005-4-fddb-6c34-7d5e-6739",
       "next": "06afe9a8-98b0-11ea-8d02-0242ac120007-6-a1c1-faf0-55bd-de3c-47db-0025",
       "previous": "b8a56a7a-6f17-11ee-89fa-0242ac120005-3-3e5b-c1dc-38b1"
      },
      {
       "current": "b8a56afc-6f17-11ee-89fa-0242ac120005-5-fddb-6c34-7d5e-6739-fe2c",
       "next": "06afe9a8-98b0-11ea-8d02-0242ac120007-7-a1c1-faf0-55bd-de3c-47db-0025-b445",
       "previous": "b8a56a7a-6f17-11ee-89fa-0242ac120005-4-3e5b-c1dc-38b1-bef4"
      }
     ],
     "next": "06afe9a8-98b0-11ea-8d02-0242ac120007-8-a1c1-faf0-55bd-de3c-47db-0025-b445-fbfb",
     "previous": "b8a56a7a-6f17-11ee-89fa-0242ac120005-5-3e5b-c1dc-38b1-bef4-a166"
    }
   },
   "outputs": [],
   "source": [
    "run_openstack('openstack flavor list -f json' + build_cmdline({'all': True}))"
   ]
  },
  {
   "cell_type": "markdown",
   "metadata": {
    "lc_cell_meme": {
     "current": "06afe9a8-98b0-11ea-8d02-0242ac120007-8-a1c1-faf0-55bd-de3c-47db-0025-b445-fbfb",
     "history": [
      {
       "current": "06afe9a8-98b0-11ea-8d02-0242ac120007",
       "next": "7899411a-9692-11ea-8d02-0242ac120007",
       "previous": "d1bcb8ac-9599-11ea-8d02-0242ac120007"
      },
      {
       "current": "06afe9a8-98b0-11ea-8d02-0242ac120007-1-a1c1",
       "next": "7899411a-9692-11ea-8d02-0242ac120007",
       "previous": "250e7a70-98f3-11ea-8d02-0242ac120007"
      },
      {
       "current": "06afe9a8-98b0-11ea-8d02-0242ac120007-2-a1c1-faf0",
       "next": "7899411a-9692-11ea-8d02-0242ac120007-1-2cd2",
       "previous": "250e7a70-98f3-11ea-8d02-0242ac120007-1-f0b4"
      },
      {
       "current": "06afe9a8-98b0-11ea-8d02-0242ac120007-2-a1c1-faf0",
       "next": "7899411a-9692-11ea-8d02-0242ac120007-2-2cd2-395d",
       "previous": "250e7a70-98f3-11ea-8d02-0242ac120007-2-f0b4-6edf"
      },
      {
       "current": "06afe9a8-98b0-11ea-8d02-0242ac120007-2-a1c1-faf0",
       "next": "04bfc54e-defc-11eb-b29f-0242ac120008",
       "previous": "250e7a70-98f3-11ea-8d02-0242ac120007-2-f0b4-6edf"
      },
      {
       "current": "06afe9a8-98b0-11ea-8d02-0242ac120007-3-a1c1-faf0-55bd",
       "next": "329a4046-dfad-11eb-b29f-0242ac120008",
       "previous": "250e7a70-98f3-11ea-8d02-0242ac120007-2-f0b4-6edf"
      },
      {
       "current": "06afe9a8-98b0-11ea-8d02-0242ac120007-3-a1c1-faf0-55bd",
       "next": "329a4046-dfad-11eb-b29f-0242ac120008-1-1375",
       "previous": "250e7a70-98f3-11ea-8d02-0242ac120007-3-f0b4-6edf-9d40"
      },
      {
       "current": "06afe9a8-98b0-11ea-8d02-0242ac120007-3-a1c1-faf0-55bd",
       "next": "329a4046-dfad-11eb-b29f-0242ac120008-1-1375",
       "previous": "71185a3c-6f17-11ee-89fa-0242ac120005"
      },
      {
       "current": "06afe9a8-98b0-11ea-8d02-0242ac120007-4-a1c1-faf0-55bd-de3c",
       "next": "329a4046-dfad-11eb-b29f-0242ac120008-1-1375",
       "previous": "b8a56afc-6f17-11ee-89fa-0242ac120005"
      },
      {
       "current": "06afe9a8-98b0-11ea-8d02-0242ac120007-5-a1c1-faf0-55bd-de3c-47db",
       "next": "329a4046-dfad-11eb-b29f-0242ac120008-2-1375-5c6a",
       "previous": "b8a56afc-6f17-11ee-89fa-0242ac120005-1-fddb"
      },
      {
       "current": "06afe9a8-98b0-11ea-8d02-0242ac120007-6-a1c1-faf0-55bd-de3c-47db-0025",
       "next": "329a4046-dfad-11eb-b29f-0242ac120008-3-1375-5c6a-e26a",
       "previous": "b8a56afc-6f17-11ee-89fa-0242ac120005-2-fddb-6c34"
      },
      {
       "current": "06afe9a8-98b0-11ea-8d02-0242ac120007-7-a1c1-faf0-55bd-de3c-47db-0025-b445",
       "next": "329a4046-dfad-11eb-b29f-0242ac120008-4-1375-5c6a-e26a-7847",
       "previous": "b8a56afc-6f17-11ee-89fa-0242ac120005-3-fddb-6c34-7d5e"
      },
      {
       "current": "06afe9a8-98b0-11ea-8d02-0242ac120007-8-a1c1-faf0-55bd-de3c-47db-0025-b445-fbfb",
       "next": "329a4046-dfad-11eb-b29f-0242ac120008-5-1375-5c6a-e26a-7847-13e2",
       "previous": "b8a56afc-6f17-11ee-89fa-0242ac120005-4-fddb-6c34-7d5e-6739"
      }
     ],
     "next": "329a4046-dfad-11eb-b29f-0242ac120008-6-1375-5c6a-e26a-7847-13e2-45f5",
     "previous": "b8a56afc-6f17-11ee-89fa-0242ac120005-5-fddb-6c34-7d5e-6739-fe2c"
    }
   },
   "source": [
    "## デプロイされたCephノード情報の取得"
   ]
  },
  {
   "cell_type": "markdown",
   "metadata": {
    "lc_cell_meme": {
     "current": "329a4046-dfad-11eb-b29f-0242ac120008-6-1375-5c6a-e26a-7847-13e2-45f5",
     "history": [
      {
       "current": "329a4046-dfad-11eb-b29f-0242ac120008-1-1375",
       "next": "329a4348-dfad-11eb-b29f-0242ac120008",
       "previous": "06afe9a8-98b0-11ea-8d02-0242ac120007-2-a1c1-faf0"
      },
      {
       "current": "329a4046-dfad-11eb-b29f-0242ac120008-1-1375",
       "next": "329a4348-dfad-11eb-b29f-0242ac120008-1-ed21",
       "previous": "06afe9a8-98b0-11ea-8d02-0242ac120007-3-a1c1-faf0-55bd"
      },
      {
       "current": "329a4046-dfad-11eb-b29f-0242ac120008-2-1375-5c6a",
       "next": "b8a56c28-6f17-11ee-89fa-0242ac120005",
       "previous": "06afe9a8-98b0-11ea-8d02-0242ac120007-3-a1c1-faf0-55bd"
      },
      {
       "current": "329a4046-dfad-11eb-b29f-0242ac120008-3-1375-5c6a-e26a",
       "next": "b8a56c28-6f17-11ee-89fa-0242ac120005-1-3111",
       "previous": "06afe9a8-98b0-11ea-8d02-0242ac120007-4-a1c1-faf0-55bd-de3c"
      },
      {
       "current": "329a4046-dfad-11eb-b29f-0242ac120008-4-1375-5c6a-e26a-7847",
       "next": "b8a56c28-6f17-11ee-89fa-0242ac120005-2-3111-c5fb",
       "previous": "06afe9a8-98b0-11ea-8d02-0242ac120007-5-a1c1-faf0-55bd-de3c-47db"
      },
      {
       "current": "329a4046-dfad-11eb-b29f-0242ac120008-5-1375-5c6a-e26a-7847-13e2",
       "next": "b8a56c28-6f17-11ee-89fa-0242ac120005-3-3111-c5fb-5a45",
       "previous": "06afe9a8-98b0-11ea-8d02-0242ac120007-6-a1c1-faf0-55bd-de3c-47db-0025"
      },
      {
       "current": "329a4046-dfad-11eb-b29f-0242ac120008-6-1375-5c6a-e26a-7847-13e2-45f5",
       "next": "b8a56c28-6f17-11ee-89fa-0242ac120005-4-3111-c5fb-5a45-189a",
       "previous": "06afe9a8-98b0-11ea-8d02-0242ac120007-7-a1c1-faf0-55bd-de3c-47db-0025-b445"
      }
     ],
     "next": "b8a56c28-6f17-11ee-89fa-0242ac120005-5-3111-c5fb-5a45-189a-549b",
     "previous": "06afe9a8-98b0-11ea-8d02-0242ac120007-8-a1c1-faf0-55bd-de3c-47db-0025-b445-fbfb"
    }
   },
   "source": [
    "ストレージノードを特定するにあたり、ノード名称が　ceph-nodexxx （xxxの部分は、右寄せ0埋めの数字3桁）というルールに従っていることを前提としている。<br>\n",
    " 例：ceph-node001<br>\n",
    " このノード名称ルールは、構築するCephクラスタ毎に変えるため、以下で定義する。"
   ]
  },
  {
   "cell_type": "code",
   "execution_count": null,
   "metadata": {
    "lc_cell_meme": {
     "current": "b8a56c28-6f17-11ee-89fa-0242ac120005-5-3111-c5fb-5a45-189a-549b",
     "history": [
      {
       "current": "b8a56c28-6f17-11ee-89fa-0242ac120005-1-3111",
       "next": "329a4348-dfad-11eb-b29f-0242ac120008-1-ed21",
       "previous": "329a4046-dfad-11eb-b29f-0242ac120008-1-1375"
      },
      {
       "current": "b8a56c28-6f17-11ee-89fa-0242ac120005-2-3111-c5fb",
       "next": "329a4348-dfad-11eb-b29f-0242ac120008-2-ed21-a601",
       "previous": "329a4046-dfad-11eb-b29f-0242ac120008-2-1375-5c6a"
      },
      {
       "current": "b8a56c28-6f17-11ee-89fa-0242ac120005-3-3111-c5fb-5a45",
       "next": "329a4348-dfad-11eb-b29f-0242ac120008-3-ed21-a601-b640",
       "previous": "329a4046-dfad-11eb-b29f-0242ac120008-3-1375-5c6a-e26a"
      },
      {
       "current": "b8a56c28-6f17-11ee-89fa-0242ac120005-4-3111-c5fb-5a45-189a",
       "next": "329a4348-dfad-11eb-b29f-0242ac120008-4-ed21-a601-b640-2a1d",
       "previous": "329a4046-dfad-11eb-b29f-0242ac120008-4-1375-5c6a-e26a-7847"
      },
      {
       "current": "b8a56c28-6f17-11ee-89fa-0242ac120005-5-3111-c5fb-5a45-189a-549b",
       "next": "329a4348-dfad-11eb-b29f-0242ac120008-5-ed21-a601-b640-2a1d-7e85",
       "previous": "329a4046-dfad-11eb-b29f-0242ac120008-5-1375-5c6a-e26a-7847-13e2"
      }
     ],
     "next": "329a4348-dfad-11eb-b29f-0242ac120008-6-ed21-a601-b640-2a1d-7e85-bb50",
     "previous": "329a4046-dfad-11eb-b29f-0242ac120008-6-1375-5c6a-e26a-7847-13e2-45f5"
    }
   },
   "outputs": [],
   "source": [
    "# 初期化対象のインスタンス名称を設定する\n",
    "raise Exception('この先手作業が必要です')"
   ]
  },
  {
   "cell_type": "code",
   "execution_count": null,
   "metadata": {
    "lc_cell_meme": {
     "current": "329a4348-dfad-11eb-b29f-0242ac120008-6-ed21-a601-b640-2a1d-7e85-bb50",
     "history": [
      {
       "current": "329a4348-dfad-11eb-b29f-0242ac120008-1-ed21",
       "next": "04bfc54e-defc-11eb-b29f-0242ac120008",
       "previous": "329a4046-dfad-11eb-b29f-0242ac120008"
      },
      {
       "current": "329a4348-dfad-11eb-b29f-0242ac120008-1-ed21",
       "next": "04bfc54e-defc-11eb-b29f-0242ac120008-1-5336",
       "previous": "329a4046-dfad-11eb-b29f-0242ac120008-1-1375"
      },
      {
       "current": "329a4348-dfad-11eb-b29f-0242ac120008-2-ed21-a601",
       "next": "b8a56c96-6f17-11ee-89fa-0242ac120005",
       "previous": "b8a56c28-6f17-11ee-89fa-0242ac120005"
      },
      {
       "current": "329a4348-dfad-11eb-b29f-0242ac120008-3-ed21-a601-b640",
       "next": "b8a56c96-6f17-11ee-89fa-0242ac120005-1-0eea",
       "previous": "b8a56c28-6f17-11ee-89fa-0242ac120005-1-3111"
      },
      {
       "current": "329a4348-dfad-11eb-b29f-0242ac120008-4-ed21-a601-b640-2a1d",
       "next": "b8a56c96-6f17-11ee-89fa-0242ac120005-2-0eea-4e19",
       "previous": "b8a56c28-6f17-11ee-89fa-0242ac120005-2-3111-c5fb"
      },
      {
       "current": "329a4348-dfad-11eb-b29f-0242ac120008-5-ed21-a601-b640-2a1d-7e85",
       "next": "b8a56c96-6f17-11ee-89fa-0242ac120005-3-0eea-4e19-86cc",
       "previous": "b8a56c28-6f17-11ee-89fa-0242ac120005-3-3111-c5fb-5a45"
      },
      {
       "current": "329a4348-dfad-11eb-b29f-0242ac120008-6-ed21-a601-b640-2a1d-7e85-bb50",
       "next": "b8a56c96-6f17-11ee-89fa-0242ac120005-4-0eea-4e19-86cc-4622",
       "previous": "b8a56c28-6f17-11ee-89fa-0242ac120005-4-3111-c5fb-5a45-189a"
      }
     ],
     "next": "b8a56c96-6f17-11ee-89fa-0242ac120005-5-0eea-4e19-86cc-4622-8687",
     "previous": "b8a56c28-6f17-11ee-89fa-0242ac120005-5-3111-c5fb-5a45-189a-549b"
    }
   },
   "outputs": [],
   "source": [
    "import pandas as pd\n",
    "import re\n",
    "\n",
    "# 対象インスタンス名称マッチングルール\n",
    "name_match_rule = r'ceph-xxx-node-[0-9]+'"
   ]
  },
  {
   "cell_type": "markdown",
   "metadata": {
    "heading_collapsed": true,
    "lc_cell_meme": {
     "current": "b8a56c96-6f17-11ee-89fa-0242ac120005-5-0eea-4e19-86cc-4622-8687",
     "history": [
      {
       "current": "b8a56c96-6f17-11ee-89fa-0242ac120005-1-0eea",
       "next": "b8a56cf0-6f17-11ee-89fa-0242ac120005",
       "previous": "329a4348-dfad-11eb-b29f-0242ac120008-1-ed21"
      },
      {
       "current": "b8a56c96-6f17-11ee-89fa-0242ac120005-2-0eea-4e19",
       "next": "b8a56cf0-6f17-11ee-89fa-0242ac120005-1-3748",
       "previous": "329a4348-dfad-11eb-b29f-0242ac120008-2-ed21-a601"
      },
      {
       "current": "b8a56c96-6f17-11ee-89fa-0242ac120005-3-0eea-4e19-86cc",
       "next": "b8a56cf0-6f17-11ee-89fa-0242ac120005-2-3748-9ef0",
       "previous": "329a4348-dfad-11eb-b29f-0242ac120008-3-ed21-a601-b640"
      },
      {
       "current": "b8a56c96-6f17-11ee-89fa-0242ac120005-4-0eea-4e19-86cc-4622",
       "next": "b8a56cf0-6f17-11ee-89fa-0242ac120005-3-3748-9ef0-440b",
       "previous": "329a4348-dfad-11eb-b29f-0242ac120008-4-ed21-a601-b640-2a1d"
      },
      {
       "current": "b8a56c96-6f17-11ee-89fa-0242ac120005-5-0eea-4e19-86cc-4622-8687",
       "next": "b8a56cf0-6f17-11ee-89fa-0242ac120005-4-3748-9ef0-440b-f16e",
       "previous": "329a4348-dfad-11eb-b29f-0242ac120008-5-ed21-a601-b640-2a1d-7e85"
      }
     ],
     "next": "b8a56cf0-6f17-11ee-89fa-0242ac120005-5-3748-9ef0-440b-f16e-442e",
     "previous": "329a4348-dfad-11eb-b29f-0242ac120008-6-ed21-a601-b640-2a1d-7e85-bb50"
    }
   },
   "source": [
    "## OpenStack Ironicからノード情報の取得"
   ]
  },
  {
   "cell_type": "code",
   "execution_count": null,
   "metadata": {
    "hidden": true,
    "lc_cell_meme": {
     "current": "b8a56cf0-6f17-11ee-89fa-0242ac120005-5-3748-9ef0-440b-f16e-442e",
     "history": [
      {
       "current": "b8a56cf0-6f17-11ee-89fa-0242ac120005-1-3748",
       "next": "b8a56d54-6f17-11ee-89fa-0242ac120005",
       "previous": "b8a56c96-6f17-11ee-89fa-0242ac120005"
      },
      {
       "current": "b8a56cf0-6f17-11ee-89fa-0242ac120005-2-3748-9ef0",
       "next": "b8a56d54-6f17-11ee-89fa-0242ac120005-1-8745",
       "previous": "b8a56c96-6f17-11ee-89fa-0242ac120005-1-0eea"
      },
      {
       "current": "b8a56cf0-6f17-11ee-89fa-0242ac120005-3-3748-9ef0-440b",
       "next": "b8a56d54-6f17-11ee-89fa-0242ac120005-2-8745-8933",
       "previous": "b8a56c96-6f17-11ee-89fa-0242ac120005-2-0eea-4e19"
      },
      {
       "current": "b8a56cf0-6f17-11ee-89fa-0242ac120005-4-3748-9ef0-440b-f16e",
       "next": "b8a56d54-6f17-11ee-89fa-0242ac120005-3-8745-8933-a521",
       "previous": "b8a56c96-6f17-11ee-89fa-0242ac120005-3-0eea-4e19-86cc"
      },
      {
       "current": "b8a56cf0-6f17-11ee-89fa-0242ac120005-5-3748-9ef0-440b-f16e-442e",
       "next": "b8a56d54-6f17-11ee-89fa-0242ac120005-4-8745-8933-a521-9695",
       "previous": "b8a56c96-6f17-11ee-89fa-0242ac120005-4-0eea-4e19-86cc-4622"
      }
     ],
     "next": "b8a56d54-6f17-11ee-89fa-0242ac120005-5-8745-8933-a521-9695-670b",
     "previous": "b8a56c96-6f17-11ee-89fa-0242ac120005-5-0eea-4e19-86cc-4622-8687"
    }
   },
   "outputs": [],
   "source": [
    "cmd = \"openstack baremetal node list -f json --long\"\n",
    "nodes = run_openstack(cmd)"
   ]
  },
  {
   "cell_type": "code",
   "execution_count": null,
   "metadata": {
    "hidden": true,
    "lc_cell_meme": {
     "current": "b8a56d54-6f17-11ee-89fa-0242ac120005-5-8745-8933-a521-9695-670b",
     "history": [
      {
       "current": "b8a56d54-6f17-11ee-89fa-0242ac120005-1-8745",
       "next": "b8a56dae-6f17-11ee-89fa-0242ac120005",
       "previous": "b8a56cf0-6f17-11ee-89fa-0242ac120005"
      },
      {
       "current": "b8a56d54-6f17-11ee-89fa-0242ac120005-2-8745-8933",
       "next": "b8a56dae-6f17-11ee-89fa-0242ac120005-1-c4e3",
       "previous": "b8a56cf0-6f17-11ee-89fa-0242ac120005-1-3748"
      },
      {
       "current": "b8a56d54-6f17-11ee-89fa-0242ac120005-3-8745-8933-a521",
       "next": "b8a56dae-6f17-11ee-89fa-0242ac120005-2-c4e3-ed21",
       "previous": "b8a56cf0-6f17-11ee-89fa-0242ac120005-2-3748-9ef0"
      },
      {
       "current": "b8a56d54-6f17-11ee-89fa-0242ac120005-4-8745-8933-a521-9695",
       "next": "b8a56dae-6f17-11ee-89fa-0242ac120005-3-c4e3-ed21-a490",
       "previous": "b8a56cf0-6f17-11ee-89fa-0242ac120005-3-3748-9ef0-440b"
      },
      {
       "current": "b8a56d54-6f17-11ee-89fa-0242ac120005-5-8745-8933-a521-9695-670b",
       "next": "b8a56dae-6f17-11ee-89fa-0242ac120005-4-c4e3-ed21-a490-3b50",
       "previous": "b8a56cf0-6f17-11ee-89fa-0242ac120005-4-3748-9ef0-440b-f16e"
      }
     ],
     "next": "b8a56dae-6f17-11ee-89fa-0242ac120005-5-c4e3-ed21-a490-3b50-3bc3",
     "previous": "b8a56cf0-6f17-11ee-89fa-0242ac120005-5-3748-9ef0-440b-f16e-442e"
    }
   },
   "outputs": [],
   "source": [
    "import pandas as pd\n",
    "import re\n",
    "\n",
    "for node in nodes:\n",
    "    instance_uuid = node.get(\"Instance UUID\", None)\n",
    "    if instance_uuid is None:\n",
    "        continue\n",
    "        \n",
    "    node[\"instance_name\"] = node[\"Instance Info\"][\"display_name\"]\n",
    "\n",
    "pd.set_option('display.max_rows', None)\n",
    "pd.DataFrame(nodes, columns=['Instance UUID', 'instance_name', 'UUID', 'Maintenance', 'Provisioning State', 'Power State', 'Name'])"
   ]
  },
  {
   "cell_type": "code",
   "execution_count": null,
   "metadata": {
    "hidden": true,
    "lc_cell_meme": {
     "current": "b8a56dae-6f17-11ee-89fa-0242ac120005-5-c4e3-ed21-a490-3b50-3bc3",
     "history": [
      {
       "current": "b8a56dae-6f17-11ee-89fa-0242ac120005-1-c4e3",
       "next": "b8a56e08-6f17-11ee-89fa-0242ac120005",
       "previous": "b8a56d54-6f17-11ee-89fa-0242ac120005"
      },
      {
       "current": "b8a56dae-6f17-11ee-89fa-0242ac120005-2-c4e3-ed21",
       "next": "b8a56e08-6f17-11ee-89fa-0242ac120005-1-8ff6",
       "previous": "b8a56d54-6f17-11ee-89fa-0242ac120005-1-8745"
      },
      {
       "current": "b8a56dae-6f17-11ee-89fa-0242ac120005-3-c4e3-ed21-a490",
       "next": "b8a56e08-6f17-11ee-89fa-0242ac120005-2-8ff6-8676",
       "previous": "b8a56d54-6f17-11ee-89fa-0242ac120005-2-8745-8933"
      },
      {
       "current": "b8a56dae-6f17-11ee-89fa-0242ac120005-4-c4e3-ed21-a490-3b50",
       "next": "b8a56e08-6f17-11ee-89fa-0242ac120005-3-8ff6-8676-5352",
       "previous": "b8a56d54-6f17-11ee-89fa-0242ac120005-3-8745-8933-a521"
      },
      {
       "current": "b8a56dae-6f17-11ee-89fa-0242ac120005-5-c4e3-ed21-a490-3b50-3bc3",
       "next": "b8a56e08-6f17-11ee-89fa-0242ac120005-4-8ff6-8676-5352-69cf",
       "previous": "b8a56d54-6f17-11ee-89fa-0242ac120005-4-8745-8933-a521-9695"
      }
     ],
     "next": "b8a56e08-6f17-11ee-89fa-0242ac120005-5-8ff6-8676-5352-69cf-a488",
     "previous": "b8a56d54-6f17-11ee-89fa-0242ac120005-5-8745-8933-a521-9695-670b"
    }
   },
   "outputs": [],
   "source": [
    "cmd = \"openstack server list -f json --long\"\n",
    "nova_server_map = run_openstack(cmd)"
   ]
  },
  {
   "cell_type": "code",
   "execution_count": null,
   "metadata": {
    "hidden": true,
    "lc_cell_meme": {
     "current": "b8a56e08-6f17-11ee-89fa-0242ac120005-5-8ff6-8676-5352-69cf-a488",
     "history": [
      {
       "current": "b8a56e08-6f17-11ee-89fa-0242ac120005",
       "next": "b8a56e62-6f17-11ee-89fa-0242ac120005",
       "previous": "b8a56dae-6f17-11ee-89fa-0242ac120005"
      },
      {
       "current": "b8a56e08-6f17-11ee-89fa-0242ac120005-1-8ff6",
       "next": "06afec50-98b0-11ea-8d02-0242ac120007-3-5828-a305-b690",
       "previous": "b8a56dae-6f17-11ee-89fa-0242ac120005"
      },
      {
       "current": "b8a56e08-6f17-11ee-89fa-0242ac120005-2-8ff6-8676",
       "next": "06afec50-98b0-11ea-8d02-0242ac120007-4-5828-a305-b690-fb43",
       "previous": "b8a56dae-6f17-11ee-89fa-0242ac120005-1-c4e3"
      },
      {
       "current": "b8a56e08-6f17-11ee-89fa-0242ac120005-3-8ff6-8676-5352",
       "next": "06afec50-98b0-11ea-8d02-0242ac120007-5-5828-a305-b690-fb43-4f90",
       "previous": "b8a56dae-6f17-11ee-89fa-0242ac120005-2-c4e3-ed21"
      },
      {
       "current": "b8a56e08-6f17-11ee-89fa-0242ac120005-4-8ff6-8676-5352-69cf",
       "next": "06afec50-98b0-11ea-8d02-0242ac120007-6-5828-a305-b690-fb43-4f90-9fbf",
       "previous": "b8a56dae-6f17-11ee-89fa-0242ac120005-3-c4e3-ed21-a490"
      },
      {
       "current": "b8a56e08-6f17-11ee-89fa-0242ac120005-5-8ff6-8676-5352-69cf-a488",
       "next": "06afec50-98b0-11ea-8d02-0242ac120007-7-5828-a305-b690-fb43-4f90-9fbf-5c23",
       "previous": "b8a56dae-6f17-11ee-89fa-0242ac120005-4-c4e3-ed21-a490-3b50"
      }
     ],
     "next": "06afec50-98b0-11ea-8d02-0242ac120007-8-5828-a305-b690-fb43-4f90-9fbf-5c23-bd1b",
     "previous": "b8a56dae-6f17-11ee-89fa-0242ac120005-5-c4e3-ed21-a490-3b50-3bc3"
    }
   },
   "outputs": [],
   "source": [
    "node_list = []\n",
    "for server in nova_server_map:\n",
    "    node_id = server['ID']\n",
    "    if re.match(name_match_rule, server['Name']) is None:\n",
    "        continue\n",
    "    for node in nodes:\n",
    "        if node['Instance UUID'] == node_id:\n",
    "            node_info = {}\n",
    "            node_list.append(node_info)\n",
    "            node_info['name'] = server['Name']\n",
    "            node_info['node_name'] = node['Name']\n",
    "            instance_ip_info = instance_ip_map.get(server['Name'], None)\n",
    "            if instance_ip_info is not None:\n",
    "                node_info['instance_ip'] = instance_ip_info.get('ipv4', None)\n",
    "            else:\n",
    "                node_info['instance_ip'] = None\n",
    "            address = server['Networks']\n",
    "            prov_net = address['provisioning-net']\n",
    "            for addr in prov_net:\n",
    "                node_info['prov_ip'] = addr\n",
    "\n",
    "pd.DataFrame(node_list)"
   ]
  },
  {
   "cell_type": "markdown",
   "metadata": {
    "lc_cell_meme": {
     "current": "06afec50-98b0-11ea-8d02-0242ac120007-8-5828-a305-b690-fb43-4f90-9fbf-5c23-bd1b",
     "history": [
      {
       "current": "06afec50-98b0-11ea-8d02-0242ac120007-1-5828",
       "next": "8a48d590-98a1-11ea-8d02-0242ac120007",
       "previous": "357fc83a-969d-11ea-8d02-0242ac120007"
      },
      {
       "current": "06afec50-98b0-11ea-8d02-0242ac120007-2-5828-a305",
       "next": "8a48d590-98a1-11ea-8d02-0242ac120007-1-1c0f",
       "previous": "357fc83a-969d-11ea-8d02-0242ac120007-1-9a36"
      },
      {
       "current": "06afec50-98b0-11ea-8d02-0242ac120007-3-5828-a305-b690",
       "next": "8a48d590-98a1-11ea-8d02-0242ac120007-2-1c0f-5b25",
       "previous": "357fc83a-969d-11ea-8d02-0242ac120007-2-9a36-95b8"
      },
      {
       "current": "06afec50-98b0-11ea-8d02-0242ac120007-3-5828-a305-b690",
       "next": "8a48d590-98a1-11ea-8d02-0242ac120007-3-1c0f-5b25-d7c0",
       "previous": "357fc83a-969d-11ea-8d02-0242ac120007-3-9a36-95b8-3fa9"
      },
      {
       "current": "06afec50-98b0-11ea-8d02-0242ac120007-4-5828-a305-b690-fb43",
       "next": "8a48d590-98a1-11ea-8d02-0242ac120007-3-1c0f-5b25-d7c0",
       "previous": "b8a56e08-6f17-11ee-89fa-0242ac120005"
      },
      {
       "current": "06afec50-98b0-11ea-8d02-0242ac120007-5-5828-a305-b690-fb43-4f90",
       "next": "8a48d590-98a1-11ea-8d02-0242ac120007-4-1c0f-5b25-d7c0-7208",
       "previous": "b8a56e08-6f17-11ee-89fa-0242ac120005-1-8ff6"
      },
      {
       "current": "06afec50-98b0-11ea-8d02-0242ac120007-6-5828-a305-b690-fb43-4f90-9fbf",
       "next": "8a48d590-98a1-11ea-8d02-0242ac120007-5-1c0f-5b25-d7c0-7208-948a",
       "previous": "b8a56e08-6f17-11ee-89fa-0242ac120005-2-8ff6-8676"
      },
      {
       "current": "06afec50-98b0-11ea-8d02-0242ac120007-7-5828-a305-b690-fb43-4f90-9fbf-5c23",
       "next": "8a48d590-98a1-11ea-8d02-0242ac120007-6-1c0f-5b25-d7c0-7208-948a-9e2c",
       "previous": "b8a56e08-6f17-11ee-89fa-0242ac120005-3-8ff6-8676-5352"
      },
      {
       "current": "06afec50-98b0-11ea-8d02-0242ac120007-8-5828-a305-b690-fb43-4f90-9fbf-5c23-bd1b",
       "next": "8a48d590-98a1-11ea-8d02-0242ac120007-7-1c0f-5b25-d7c0-7208-948a-9e2c-b08b",
       "previous": "b8a56e08-6f17-11ee-89fa-0242ac120005-4-8ff6-8676-5352-69cf"
      }
     ],
     "next": "8a48d590-98a1-11ea-8d02-0242ac120007-8-1c0f-5b25-d7c0-7208-948a-9e2c-b08b-fb33",
     "previous": "b8a56e08-6f17-11ee-89fa-0242ac120005-5-8ff6-8676-5352-69cf-a488"
    }
   },
   "source": [
    "## 登録対象Cephノード情報の取得"
   ]
  },
  {
   "cell_type": "markdown",
   "metadata": {
    "lc_cell_meme": {
     "current": "8a48d590-98a1-11ea-8d02-0242ac120007-8-1c0f-5b25-d7c0-7208-948a-9e2c-b08b-fb33",
     "history": [
      {
       "current": "8a48d590-98a1-11ea-8d02-0242ac120007",
       "next": "8a48d90a-98a1-11ea-8d02-0242ac120007",
       "previous": "357fc83a-969d-11ea-8d02-0242ac120007"
      },
      {
       "current": "8a48d590-98a1-11ea-8d02-0242ac120007",
       "next": "8a48d90a-98a1-11ea-8d02-0242ac120007",
       "previous": "06afec50-98b0-11ea-8d02-0242ac120007"
      },
      {
       "current": "8a48d590-98a1-11ea-8d02-0242ac120007",
       "next": "a85c1dda-959a-11ea-8d02-0242ac120007",
       "previous": "06afec50-98b0-11ea-8d02-0242ac120007"
      },
      {
       "current": "8a48d590-98a1-11ea-8d02-0242ac120007-1-1c0f",
       "next": "e879cdac-95bf-11ea-8d02-0242ac120007",
       "previous": "06afec50-98b0-11ea-8d02-0242ac120007"
      },
      {
       "current": "8a48d590-98a1-11ea-8d02-0242ac120007-2-1c0f-5b25",
       "next": "e879cdac-95bf-11ea-8d02-0242ac120007-1-4a2c",
       "previous": "06afec50-98b0-11ea-8d02-0242ac120007-1-5828"
      },
      {
       "current": "8a48d590-98a1-11ea-8d02-0242ac120007-3-1c0f-5b25-d7c0",
       "next": "e879cdac-95bf-11ea-8d02-0242ac120007-2-4a2c-6b2f",
       "previous": "06afec50-98b0-11ea-8d02-0242ac120007-2-5828-a305"
      },
      {
       "current": "8a48d590-98a1-11ea-8d02-0242ac120007-4-1c0f-5b25-d7c0-7208",
       "next": "e879cdac-95bf-11ea-8d02-0242ac120007-3-4a2c-6b2f-958d",
       "previous": "06afec50-98b0-11ea-8d02-0242ac120007-3-5828-a305-b690"
      },
      {
       "current": "8a48d590-98a1-11ea-8d02-0242ac120007-5-1c0f-5b25-d7c0-7208-948a",
       "next": "e879cdac-95bf-11ea-8d02-0242ac120007-4-4a2c-6b2f-958d-e58e",
       "previous": "06afec50-98b0-11ea-8d02-0242ac120007-4-5828-a305-b690-fb43"
      },
      {
       "current": "8a48d590-98a1-11ea-8d02-0242ac120007-6-1c0f-5b25-d7c0-7208-948a-9e2c",
       "next": "e879cdac-95bf-11ea-8d02-0242ac120007-5-4a2c-6b2f-958d-e58e-f540",
       "previous": "06afec50-98b0-11ea-8d02-0242ac120007-5-5828-a305-b690-fb43-4f90"
      },
      {
       "current": "8a48d590-98a1-11ea-8d02-0242ac120007-7-1c0f-5b25-d7c0-7208-948a-9e2c-b08b",
       "next": "e879cdac-95bf-11ea-8d02-0242ac120007-6-4a2c-6b2f-958d-e58e-f540-0c57",
       "previous": "06afec50-98b0-11ea-8d02-0242ac120007-6-5828-a305-b690-fb43-4f90-9fbf"
      },
      {
       "current": "8a48d590-98a1-11ea-8d02-0242ac120007-8-1c0f-5b25-d7c0-7208-948a-9e2c-b08b-fb33",
       "next": "e879cdac-95bf-11ea-8d02-0242ac120007-7-4a2c-6b2f-958d-e58e-f540-0c57-4b0c",
       "previous": "06afec50-98b0-11ea-8d02-0242ac120007-7-5828-a305-b690-fb43-4f90-9fbf-5c23"
      }
     ],
     "next": "e879cdac-95bf-11ea-8d02-0242ac120007-8-4a2c-6b2f-958d-e58e-f540-0c57-4b0c-4308",
     "previous": "06afec50-98b0-11ea-8d02-0242ac120007-8-5828-a305-b690-fb43-4f90-9fbf-5c23-bd1b"
    }
   },
   "source": [
    "初期化対象のインスタンス名称を設定する"
   ]
  },
  {
   "cell_type": "code",
   "execution_count": null,
   "metadata": {
    "lc_cell_meme": {
     "current": "e879cdac-95bf-11ea-8d02-0242ac120007-8-4a2c-6b2f-958d-e58e-f540-0c57-4b0c-4308",
     "history": [
      {
       "current": "e879cdac-95bf-11ea-8d02-0242ac120007",
       "next": "81dd4f74-9597-11ea-8d02-0242ac120007",
       "previous": "d1bcb8ac-9599-11ea-8d02-0242ac120007"
      },
      {
       "current": "e879cdac-95bf-11ea-8d02-0242ac120007",
       "next": "81dd4f74-9597-11ea-8d02-0242ac120007",
       "previous": "a85c1dda-959a-11ea-8d02-0242ac120007"
      },
      {
       "current": "e879cdac-95bf-11ea-8d02-0242ac120007",
       "next": "8a48d90a-98a1-11ea-8d02-0242ac120007",
       "previous": "a85c1dda-959a-11ea-8d02-0242ac120007"
      },
      {
       "current": "e879cdac-95bf-11ea-8d02-0242ac120007-1-4a2c",
       "next": "8a48d90a-98a1-11ea-8d02-0242ac120007",
       "previous": "8a48d590-98a1-11ea-8d02-0242ac120007"
      },
      {
       "current": "e879cdac-95bf-11ea-8d02-0242ac120007-2-4a2c-6b2f",
       "next": "8a48d90a-98a1-11ea-8d02-0242ac120007-1-0ebc",
       "previous": "8a48d590-98a1-11ea-8d02-0242ac120007-1-1c0f"
      },
      {
       "current": "e879cdac-95bf-11ea-8d02-0242ac120007-2-4a2c-6b2f",
       "next": "8a48d90a-98a1-11ea-8d02-0242ac120007-2-0ebc-93ac",
       "previous": "8a48d590-98a1-11ea-8d02-0242ac120007-2-1c0f-5b25"
      },
      {
       "current": "e879cdac-95bf-11ea-8d02-0242ac120007-3-4a2c-6b2f-958d",
       "next": "809aa1e6-def9-11eb-b29f-0242ac120008",
       "previous": "8a48d590-98a1-11ea-8d02-0242ac120007-2-1c0f-5b25"
      },
      {
       "current": "e879cdac-95bf-11ea-8d02-0242ac120007-4-4a2c-6b2f-958d-e58e",
       "next": "809aa1e6-def9-11eb-b29f-0242ac120008-1-b49e",
       "previous": "8a48d590-98a1-11ea-8d02-0242ac120007-3-1c0f-5b25-d7c0"
      },
      {
       "current": "e879cdac-95bf-11ea-8d02-0242ac120007-5-4a2c-6b2f-958d-e58e-f540",
       "next": "809aa1e6-def9-11eb-b29f-0242ac120008-2-b49e-dcb8",
       "previous": "8a48d590-98a1-11ea-8d02-0242ac120007-4-1c0f-5b25-d7c0-7208"
      },
      {
       "current": "e879cdac-95bf-11ea-8d02-0242ac120007-6-4a2c-6b2f-958d-e58e-f540-0c57",
       "next": "809aa1e6-def9-11eb-b29f-0242ac120008-3-b49e-dcb8-b482",
       "previous": "8a48d590-98a1-11ea-8d02-0242ac120007-5-1c0f-5b25-d7c0-7208-948a"
      },
      {
       "current": "e879cdac-95bf-11ea-8d02-0242ac120007-7-4a2c-6b2f-958d-e58e-f540-0c57-4b0c",
       "next": "809aa1e6-def9-11eb-b29f-0242ac120008-4-b49e-dcb8-b482-da80",
       "previous": "8a48d590-98a1-11ea-8d02-0242ac120007-6-1c0f-5b25-d7c0-7208-948a-9e2c"
      },
      {
       "current": "e879cdac-95bf-11ea-8d02-0242ac120007-8-4a2c-6b2f-958d-e58e-f540-0c57-4b0c-4308",
       "next": "809aa1e6-def9-11eb-b29f-0242ac120008-5-b49e-dcb8-b482-da80-18fc",
       "previous": "8a48d590-98a1-11ea-8d02-0242ac120007-7-1c0f-5b25-d7c0-7208-948a-9e2c-b08b"
      }
     ],
     "next": "809aa1e6-def9-11eb-b29f-0242ac120008-6-b49e-dcb8-b482-da80-18fc-8b51",
     "previous": "8a48d590-98a1-11ea-8d02-0242ac120007-8-1c0f-5b25-d7c0-7208-948a-9e2c-b08b-fb33"
    },
    "scrolled": true
   },
   "outputs": [],
   "source": [
    "# 初期化対象のインスタンス名称を設定する\n",
    "raise Exception('この先手作業が必要です')"
   ]
  },
  {
   "cell_type": "markdown",
   "metadata": {
    "lc_cell_meme": {
     "current": "809aa1e6-def9-11eb-b29f-0242ac120008-6-b49e-dcb8-b482-da80-18fc-8b51",
     "history": [
      {
       "current": "809aa1e6-def9-11eb-b29f-0242ac120008-1-b49e",
       "next": "8a48d90a-98a1-11ea-8d02-0242ac120007-2-0ebc-93ac",
       "previous": "e879cdac-95bf-11ea-8d02-0242ac120007-2-4a2c-6b2f"
      },
      {
       "current": "809aa1e6-def9-11eb-b29f-0242ac120008-1-b49e",
       "next": "8a48d90a-98a1-11ea-8d02-0242ac120007-3-0ebc-93ac-04b4",
       "previous": "e879cdac-95bf-11ea-8d02-0242ac120007-3-4a2c-6b2f-958d"
      },
      {
       "current": "809aa1e6-def9-11eb-b29f-0242ac120008-2-b49e-dcb8",
       "next": "bb3e251e-61bc-11ee-89fa-0242ac120005",
       "previous": "e879cdac-95bf-11ea-8d02-0242ac120007-3-4a2c-6b2f-958d"
      },
      {
       "current": "809aa1e6-def9-11eb-b29f-0242ac120008-3-b49e-dcb8-b482",
       "next": "bb3e251e-61bc-11ee-89fa-0242ac120005-1-b5a3",
       "previous": "e879cdac-95bf-11ea-8d02-0242ac120007-4-4a2c-6b2f-958d-e58e"
      },
      {
       "current": "809aa1e6-def9-11eb-b29f-0242ac120008-4-b49e-dcb8-b482-da80",
       "next": "bb3e251e-61bc-11ee-89fa-0242ac120005-2-b5a3-6166",
       "previous": "e879cdac-95bf-11ea-8d02-0242ac120007-5-4a2c-6b2f-958d-e58e-f540"
      },
      {
       "current": "809aa1e6-def9-11eb-b29f-0242ac120008-5-b49e-dcb8-b482-da80-18fc",
       "next": "bb3e251e-61bc-11ee-89fa-0242ac120005-3-b5a3-6166-576a",
       "previous": "e879cdac-95bf-11ea-8d02-0242ac120007-6-4a2c-6b2f-958d-e58e-f540-0c57"
      },
      {
       "current": "809aa1e6-def9-11eb-b29f-0242ac120008-6-b49e-dcb8-b482-da80-18fc-8b51",
       "next": "bb3e251e-61bc-11ee-89fa-0242ac120005-4-b5a3-6166-576a-bca8",
       "previous": "e879cdac-95bf-11ea-8d02-0242ac120007-7-4a2c-6b2f-958d-e58e-f540-0c57-4b0c"
      }
     ],
     "next": "bb3e251e-61bc-11ee-89fa-0242ac120005-5-b5a3-6166-576a-bca8-61d1",
     "previous": "e879cdac-95bf-11ea-8d02-0242ac120007-8-4a2c-6b2f-958d-e58e-f540-0c57-4b0c-4308"
    }
   },
   "source": [
    "### adminノードの指定"
   ]
  },
  {
   "cell_type": "code",
   "execution_count": null,
   "metadata": {
    "lc_cell_meme": {
     "current": "bb3e251e-61bc-11ee-89fa-0242ac120005-5-b5a3-6166-576a-bca8-61d1",
     "history": [
      {
       "current": "bb3e251e-61bc-11ee-89fa-0242ac120005",
       "next": "8a48dae0-98a1-11ea-8d02-0242ac120007-3-4da2-9c77-127e",
       "previous": "8a48d90a-98a1-11ea-8d02-0242ac120007-3-0ebc-93ac-04b4"
      },
      {
       "current": "bb3e251e-61bc-11ee-89fa-0242ac120005",
       "next": "8a48dae0-98a1-11ea-8d02-0242ac120007-3-4da2-9c77-127e",
       "previous": "6cd9fe0e-6250-11ee-89fa-0242ac120005"
      },
      {
       "current": "bb3e251e-61bc-11ee-89fa-0242ac120005",
       "next": "6cd9fe0e-6250-11ee-89fa-0242ac120005",
       "previous": "8a48d90a-98a1-11ea-8d02-0242ac120007-3-0ebc-93ac-04b4"
      },
      {
       "current": "bb3e251e-61bc-11ee-89fa-0242ac120005-1-b5a3",
       "next": "8a48dae0-98a1-11ea-8d02-0242ac120007-3-4da2-9c77-127e",
       "previous": "809aa1e6-def9-11eb-b29f-0242ac120008-1-b49e"
      },
      {
       "current": "bb3e251e-61bc-11ee-89fa-0242ac120005-2-b5a3-6166",
       "next": "8a48dae0-98a1-11ea-8d02-0242ac120007-4-4da2-9c77-127e-a959",
       "previous": "809aa1e6-def9-11eb-b29f-0242ac120008-2-b49e-dcb8"
      },
      {
       "current": "bb3e251e-61bc-11ee-89fa-0242ac120005-3-b5a3-6166-576a",
       "next": "8a48dae0-98a1-11ea-8d02-0242ac120007-5-4da2-9c77-127e-a959-9a66",
       "previous": "809aa1e6-def9-11eb-b29f-0242ac120008-3-b49e-dcb8-b482"
      },
      {
       "current": "bb3e251e-61bc-11ee-89fa-0242ac120005-4-b5a3-6166-576a-bca8",
       "next": "8a48dae0-98a1-11ea-8d02-0242ac120007-6-4da2-9c77-127e-a959-9a66-9e6d",
       "previous": "809aa1e6-def9-11eb-b29f-0242ac120008-4-b49e-dcb8-b482-da80"
      },
      {
       "current": "bb3e251e-61bc-11ee-89fa-0242ac120005-5-b5a3-6166-576a-bca8-61d1",
       "next": "8a48dae0-98a1-11ea-8d02-0242ac120007-7-4da2-9c77-127e-a959-9a66-9e6d-2e86",
       "previous": "809aa1e6-def9-11eb-b29f-0242ac120008-5-b49e-dcb8-b482-da80-18fc"
      }
     ],
     "next": "8a48dae0-98a1-11ea-8d02-0242ac120007-8-4da2-9c77-127e-a959-9a66-9e6d-2e86-15ff",
     "previous": "809aa1e6-def9-11eb-b29f-0242ac120008-6-b49e-dcb8-b482-da80-18fc-8b51"
    }
   },
   "outputs": [],
   "source": [
    "bootstrap_node_name = 'ceph-xxx-node-001'"
   ]
  },
  {
   "cell_type": "code",
   "execution_count": null,
   "metadata": {
    "lc_cell_meme": {
     "current": "8a48dae0-98a1-11ea-8d02-0242ac120007-8-4da2-9c77-127e-a959-9a66-9e6d-2e86-15ff",
     "history": [
      {
       "current": "8a48dae0-98a1-11ea-8d02-0242ac120007-1-4da2",
       "next": "35c339aa-55a3-11e7-b0b2-00163e9c0e35",
       "previous": "8a48d90a-98a1-11ea-8d02-0242ac120007"
      },
      {
       "current": "8a48dae0-98a1-11ea-8d02-0242ac120007-2-4da2-9c77",
       "next": "35c339aa-55a3-11e7-b0b2-00163e9c0e35-1-eee2",
       "previous": "8a48d90a-98a1-11ea-8d02-0242ac120007-1-0ebc"
      },
      {
       "current": "8a48dae0-98a1-11ea-8d02-0242ac120007-2-4da2-9c77",
       "next": "35c339aa-55a3-11e7-b0b2-00163e9c0e35-2-eee2-af6c",
       "previous": "8a48d90a-98a1-11ea-8d02-0242ac120007-2-0ebc-93ac"
      },
      {
       "current": "8a48dae0-98a1-11ea-8d02-0242ac120007-2-4da2-9c77",
       "next": "35c362a4-55a3-11e7-b0b2-00163e9c0e35-2-3f0a-3633",
       "previous": "8a48d90a-98a1-11ea-8d02-0242ac120007-2-0ebc-93ac"
      },
      {
       "current": "8a48dae0-98a1-11ea-8d02-0242ac120007-2-4da2-9c77",
       "next": "1afe7a3e-def8-11eb-b29f-0242ac120008",
       "previous": "8a48d90a-98a1-11ea-8d02-0242ac120007-2-0ebc-93ac"
      },
      {
       "current": "8a48dae0-98a1-11ea-8d02-0242ac120007-3-4da2-9c77-127e",
       "next": "35c35a52-55a3-11e7-b0b2-00163e9c0e35-2-ed71-9007",
       "previous": "8a48d90a-98a1-11ea-8d02-0242ac120007-2-0ebc-93ac"
      },
      {
       "current": "8a48dae0-98a1-11ea-8d02-0242ac120007-3-4da2-9c77-127e",
       "next": "35c35a52-55a3-11e7-b0b2-00163e9c0e35-3-ed71-9007-f930",
       "previous": "8a48d90a-98a1-11ea-8d02-0242ac120007-3-0ebc-93ac-04b4"
      },
      {
       "current": "8a48dae0-98a1-11ea-8d02-0242ac120007-3-4da2-9c77-127e",
       "next": "2c2cd6ae-61bc-11ee-89fa-0242ac120005",
       "previous": "8a48d90a-98a1-11ea-8d02-0242ac120007-3-0ebc-93ac-04b4"
      },
      {
       "current": "8a48dae0-98a1-11ea-8d02-0242ac120007-3-4da2-9c77-127e",
       "next": "2c2cd6ae-61bc-11ee-89fa-0242ac120005",
       "previous": "bb3e251e-61bc-11ee-89fa-0242ac120005"
      },
      {
       "current": "8a48dae0-98a1-11ea-8d02-0242ac120007-3-4da2-9c77-127e",
       "next": "2c2cd6ae-61bc-11ee-89fa-0242ac120005",
       "previous": "6cd9fe0e-6250-11ee-89fa-0242ac120005"
      },
      {
       "current": "8a48dae0-98a1-11ea-8d02-0242ac120007-4-4da2-9c77-127e-a959",
       "next": "35c35a52-55a3-11e7-b0b2-00163e9c0e35-3-ed71-9007-f930",
       "previous": "bb3e251e-61bc-11ee-89fa-0242ac120005"
      },
      {
       "current": "8a48dae0-98a1-11ea-8d02-0242ac120007-5-4da2-9c77-127e-a959-9a66",
       "next": "35c35a52-55a3-11e7-b0b2-00163e9c0e35-4-ed71-9007-f930-2269",
       "previous": "bb3e251e-61bc-11ee-89fa-0242ac120005-1-b5a3"
      },
      {
       "current": "8a48dae0-98a1-11ea-8d02-0242ac120007-6-4da2-9c77-127e-a959-9a66-9e6d",
       "next": "35c35a52-55a3-11e7-b0b2-00163e9c0e35-5-ed71-9007-f930-2269-38aa",
       "previous": "bb3e251e-61bc-11ee-89fa-0242ac120005-2-b5a3-6166"
      },
      {
       "current": "8a48dae0-98a1-11ea-8d02-0242ac120007-7-4da2-9c77-127e-a959-9a66-9e6d-2e86",
       "next": "35c35a52-55a3-11e7-b0b2-00163e9c0e35-6-ed71-9007-f930-2269-38aa-1cb8",
       "previous": "bb3e251e-61bc-11ee-89fa-0242ac120005-3-b5a3-6166-576a"
      },
      {
       "current": "8a48dae0-98a1-11ea-8d02-0242ac120007-8-4da2-9c77-127e-a959-9a66-9e6d-2e86-15ff",
       "next": "35c35a52-55a3-11e7-b0b2-00163e9c0e35-7-ed71-9007-f930-2269-38aa-1cb8-06f4",
       "previous": "bb3e251e-61bc-11ee-89fa-0242ac120005-4-b5a3-6166-576a-bca8"
      }
     ],
     "next": "35c35a52-55a3-11e7-b0b2-00163e9c0e35-8-ed71-9007-f930-2269-38aa-1cb8-06f4-b612",
     "previous": "bb3e251e-61bc-11ee-89fa-0242ac120005-5-b5a3-6166-576a-bca8-61d1"
    }
   },
   "outputs": [],
   "source": [
    "bootstrap_node = None\n",
    "for elem in node_list:\n",
    "    if elem['name'] == bootstrap_node_name:\n",
    "        bootstrap_node = elem\n",
    "        break\n",
    "\n",
    "assert (bootstrap_node is not None), \"指定されたBootstrap nodeが存在しません。\"\n",
    "print(bootstrap_node)"
   ]
  },
  {
   "cell_type": "markdown",
   "metadata": {
    "lc_cell_meme": {
     "current": "35c35a52-55a3-11e7-b0b2-00163e9c0e35-8-ed71-9007-f930-2269-38aa-1cb8-06f4-b612",
     "history": [
      {
       "current": "35c35a52-55a3-11e7-b0b2-00163e9c0e35",
       "next": "35c35bf6-55a3-11e7-b0b2-00163e9c0e35",
       "previous": "35c358ae-55a3-11e7-b0b2-00163e9c0e35"
      },
      {
       "current": "35c35a52-55a3-11e7-b0b2-00163e9c0e35",
       "next": "35c35bf6-55a3-11e7-b0b2-00163e9c0e35",
       "previous": "690aae12-2871-11ea-b5b0-0242ac120004"
      },
      {
       "current": "35c35a52-55a3-11e7-b0b2-00163e9c0e35",
       "next": "35c35bf6-55a3-11e7-b0b2-00163e9c0e35",
       "previous": "1f202142-40d1-11ea-ab19-0242ac120004"
      },
      {
       "current": "35c35a52-55a3-11e7-b0b2-00163e9c0e35",
       "next": "35c35bf6-55a3-11e7-b0b2-00163e9c0e35",
       "previous": "690aae12-2871-11ea-b5b0-0242ac120004"
      },
      {
       "current": "35c35a52-55a3-11e7-b0b2-00163e9c0e35",
       "next": "35c35bf6-55a3-11e7-b0b2-00163e9c0e35",
       "previous": "35c358ae-55a3-11e7-b0b2-00163e9c0e35"
      },
      {
       "current": "35c35a52-55a3-11e7-b0b2-00163e9c0e35",
       "next": "35c35bf6-55a3-11e7-b0b2-00163e9c0e35",
       "previous": "29c91c64-2850-11ea-b5b0-0242ac120004"
      },
      {
       "current": "35c35a52-55a3-11e7-b0b2-00163e9c0e35",
       "next": "35c35bf6-55a3-11e7-b0b2-00163e9c0e35",
       "previous": "35c35552-55a3-11e7-b0b2-00163e9c0e35"
      },
      {
       "current": "35c35a52-55a3-11e7-b0b2-00163e9c0e35",
       "next": "35c35bf6-55a3-11e7-b0b2-00163e9c0e35",
       "previous": "81dd5320-9597-11ea-8d02-0242ac120007"
      },
      {
       "current": "35c35a52-55a3-11e7-b0b2-00163e9c0e35-1-ed71",
       "next": "35c35bf6-55a3-11e7-b0b2-00163e9c0e35",
       "previous": "46b9463a-95bc-11ea-8d02-0242ac120007"
      },
      {
       "current": "35c35a52-55a3-11e7-b0b2-00163e9c0e35-1-ed71",
       "next": "35c35bf6-55a3-11e7-b0b2-00163e9c0e35-1-4f76",
       "previous": "46b9463a-95bc-11ea-8d02-0242ac120007-1-777e"
      },
      {
       "current": "35c35a52-55a3-11e7-b0b2-00163e9c0e35-2-ed71-9007",
       "next": "35c35bf6-55a3-11e7-b0b2-00163e9c0e35-1-4f76",
       "previous": "e3624638-98a7-11ea-8d02-0242ac120007-1-0249"
      },
      {
       "current": "35c35a52-55a3-11e7-b0b2-00163e9c0e35-2-ed71-9007",
       "next": "35c35bf6-55a3-11e7-b0b2-00163e9c0e35-2-4f76-7f4b",
       "previous": "e3624638-98a7-11ea-8d02-0242ac120007-2-0249-59e8"
      },
      {
       "current": "35c35a52-55a3-11e7-b0b2-00163e9c0e35-2-ed71-9007",
       "next": "35c35bf6-55a3-11e7-b0b2-00163e9c0e35-2-4f76-7f4b",
       "previous": "445f39dc-def7-11eb-b29f-0242ac120008"
      },
      {
       "current": "35c35a52-55a3-11e7-b0b2-00163e9c0e35-2-ed71-9007",
       "next": "35c35bf6-55a3-11e7-b0b2-00163e9c0e35-2-4f76-7f4b",
       "previous": "445f36bc-def7-11eb-b29f-0242ac120008"
      },
      {
       "current": "35c35a52-55a3-11e7-b0b2-00163e9c0e35-2-ed71-9007",
       "next": "35c35bf6-55a3-11e7-b0b2-00163e9c0e35-2-4f76-7f4b",
       "previous": "1afe7e1c-def8-11eb-b29f-0242ac120008"
      },
      {
       "current": "35c35a52-55a3-11e7-b0b2-00163e9c0e35-3-ed71-9007-f930",
       "next": "35c35bf6-55a3-11e7-b0b2-00163e9c0e35-2-4f76-7f4b",
       "previous": "8a48dae0-98a1-11ea-8d02-0242ac120007-2-4da2-9c77"
      },
      {
       "current": "35c35a52-55a3-11e7-b0b2-00163e9c0e35-3-ed71-9007-f930",
       "next": "35c35bf6-55a3-11e7-b0b2-00163e9c0e35-3-4f76-7f4b-c54b",
       "previous": "8a48dae0-98a1-11ea-8d02-0242ac120007-3-4da2-9c77-127e"
      },
      {
       "current": "35c35a52-55a3-11e7-b0b2-00163e9c0e35-3-ed71-9007-f930",
       "next": "35c35bf6-55a3-11e7-b0b2-00163e9c0e35-3-4f76-7f4b-c54b",
       "previous": "2c2cd6ae-61bc-11ee-89fa-0242ac120005"
      },
      {
       "current": "35c35a52-55a3-11e7-b0b2-00163e9c0e35-3-ed71-9007-f930",
       "next": "35c35f52-55a3-11e7-b0b2-00163e9c0e35-3-e2de-8a27-98e3",
       "previous": "2c2cd6ae-61bc-11ee-89fa-0242ac120005"
      },
      {
       "current": "35c35a52-55a3-11e7-b0b2-00163e9c0e35-4-ed71-9007-f930-2269",
       "next": "35c35f52-55a3-11e7-b0b2-00163e9c0e35-3-e2de-8a27-98e3",
       "previous": "8a48dae0-98a1-11ea-8d02-0242ac120007-3-4da2-9c77-127e"
      },
      {
       "current": "35c35a52-55a3-11e7-b0b2-00163e9c0e35-5-ed71-9007-f930-2269-38aa",
       "next": "35c35f52-55a3-11e7-b0b2-00163e9c0e35-4-e2de-8a27-98e3-734a",
       "previous": "8a48dae0-98a1-11ea-8d02-0242ac120007-4-4da2-9c77-127e-a959"
      },
      {
       "current": "35c35a52-55a3-11e7-b0b2-00163e9c0e35-6-ed71-9007-f930-2269-38aa-1cb8",
       "next": "35c35f52-55a3-11e7-b0b2-00163e9c0e35-5-e2de-8a27-98e3-734a-8028",
       "previous": "8a48dae0-98a1-11ea-8d02-0242ac120007-5-4da2-9c77-127e-a959-9a66"
      },
      {
       "current": "35c35a52-55a3-11e7-b0b2-00163e9c0e35-7-ed71-9007-f930-2269-38aa-1cb8-06f4",
       "next": "35c35f52-55a3-11e7-b0b2-00163e9c0e35-6-e2de-8a27-98e3-734a-8028-a1b4",
       "previous": "8a48dae0-98a1-11ea-8d02-0242ac120007-6-4da2-9c77-127e-a959-9a66-9e6d"
      },
      {
       "current": "35c35a52-55a3-11e7-b0b2-00163e9c0e35-8-ed71-9007-f930-2269-38aa-1cb8-06f4-b612",
       "next": "35c35f52-55a3-11e7-b0b2-00163e9c0e35-7-e2de-8a27-98e3-734a-8028-a1b4-a468",
       "previous": "8a48dae0-98a1-11ea-8d02-0242ac120007-7-4da2-9c77-127e-a959-9a66-9e6d-2e86"
      }
     ],
     "next": "35c35f52-55a3-11e7-b0b2-00163e9c0e35-8-e2de-8a27-98e3-734a-8028-a1b4-a468-b54d",
     "previous": "8a48dae0-98a1-11ea-8d02-0242ac120007-8-4da2-9c77-127e-a959-9a66-9e6d-2e86-15ff"
    }
   },
   "source": [
    "## 一時Inventoryファイルの生成\n",
    "以下を実行し、作業用ディレクトリ配下に一時Inventoryファイルを生成する。"
   ]
  },
  {
   "cell_type": "markdown",
   "metadata": {
    "lc_cell_meme": {
     "current": "35c35f52-55a3-11e7-b0b2-00163e9c0e35-8-e2de-8a27-98e3-734a-8028-a1b4-a468-b54d",
     "history": [
      {
       "current": "35c35f52-55a3-11e7-b0b2-00163e9c0e35",
       "next": "35c360f6-55a3-11e7-b0b2-00163e9c0e35",
       "previous": "35c35dae-55a3-11e7-b0b2-00163e9c0e35"
      },
      {
       "current": "35c35f52-55a3-11e7-b0b2-00163e9c0e35-1-e2de",
       "next": "a33430b0-9327-11ea-8d02-0242ac120007",
       "previous": "35c35dae-55a3-11e7-b0b2-00163e9c0e35"
      },
      {
       "current": "35c35f52-55a3-11e7-b0b2-00163e9c0e35-2-e2de-8a27",
       "next": "a33430b0-9327-11ea-8d02-0242ac120007-1-3202",
       "previous": "35c35dae-55a3-11e7-b0b2-00163e9c0e35-1-7091"
      },
      {
       "current": "35c35f52-55a3-11e7-b0b2-00163e9c0e35-3-e2de-8a27-98e3",
       "next": "a33430b0-9327-11ea-8d02-0242ac120007-2-3202-0bdc",
       "previous": "35c35dae-55a3-11e7-b0b2-00163e9c0e35-2-7091-7055"
      },
      {
       "current": "35c35f52-55a3-11e7-b0b2-00163e9c0e35-3-e2de-8a27-98e3",
       "next": "a33430b0-9327-11ea-8d02-0242ac120007-3-3202-0bdc-fd62",
       "previous": "35c35dae-55a3-11e7-b0b2-00163e9c0e35-3-7091-7055-1fd7"
      },
      {
       "current": "35c35f52-55a3-11e7-b0b2-00163e9c0e35-4-e2de-8a27-98e3-734a",
       "next": "a33430b0-9327-11ea-8d02-0242ac120007-3-3202-0bdc-fd62",
       "previous": "35c35a52-55a3-11e7-b0b2-00163e9c0e35-3-ed71-9007-f930"
      },
      {
       "current": "35c35f52-55a3-11e7-b0b2-00163e9c0e35-5-e2de-8a27-98e3-734a-8028",
       "next": "a33430b0-9327-11ea-8d02-0242ac120007-4-3202-0bdc-fd62-c9d9",
       "previous": "35c35a52-55a3-11e7-b0b2-00163e9c0e35-4-ed71-9007-f930-2269"
      },
      {
       "current": "35c35f52-55a3-11e7-b0b2-00163e9c0e35-6-e2de-8a27-98e3-734a-8028-a1b4",
       "next": "a33430b0-9327-11ea-8d02-0242ac120007-5-3202-0bdc-fd62-c9d9-729e",
       "previous": "35c35a52-55a3-11e7-b0b2-00163e9c0e35-5-ed71-9007-f930-2269-38aa"
      },
      {
       "current": "35c35f52-55a3-11e7-b0b2-00163e9c0e35-7-e2de-8a27-98e3-734a-8028-a1b4-a468",
       "next": "a33430b0-9327-11ea-8d02-0242ac120007-6-3202-0bdc-fd62-c9d9-729e-f139",
       "previous": "35c35a52-55a3-11e7-b0b2-00163e9c0e35-6-ed71-9007-f930-2269-38aa-1cb8"
      },
      {
       "current": "35c35f52-55a3-11e7-b0b2-00163e9c0e35-8-e2de-8a27-98e3-734a-8028-a1b4-a468-b54d",
       "next": "a33430b0-9327-11ea-8d02-0242ac120007-7-3202-0bdc-fd62-c9d9-729e-f139-888f",
       "previous": "35c35a52-55a3-11e7-b0b2-00163e9c0e35-7-ed71-9007-f930-2269-38aa-1cb8-06f4"
      }
     ],
     "next": "a33430b0-9327-11ea-8d02-0242ac120007-8-3202-0bdc-fd62-c9d9-729e-f139-888f-44af",
     "previous": "35c35a52-55a3-11e7-b0b2-00163e9c0e35-8-ed71-9007-f930-2269-38aa-1cb8-06f4-b612"
    }
   },
   "source": [
    "Inventoryファイルを生成する。"
   ]
  },
  {
   "cell_type": "code",
   "execution_count": null,
   "metadata": {
    "lc_cell_meme": {
     "current": "a33430b0-9327-11ea-8d02-0242ac120007-8-3202-0bdc-fd62-c9d9-729e-f139-888f-44af",
     "history": [
      {
       "current": "a33430b0-9327-11ea-8d02-0242ac120007",
       "next": "35c360f6-55a3-11e7-b0b2-00163e9c0e35",
       "previous": "35c35f52-55a3-11e7-b0b2-00163e9c0e35"
      },
      {
       "current": "a33430b0-9327-11ea-8d02-0242ac120007-1-3202",
       "next": "9c0b8624-959f-11ea-8d02-0242ac120007",
       "previous": "35c35f52-55a3-11e7-b0b2-00163e9c0e35"
      },
      {
       "current": "a33430b0-9327-11ea-8d02-0242ac120007-2-3202-0bdc",
       "next": "9c0b8624-959f-11ea-8d02-0242ac120007-1-8098",
       "previous": "35c35f52-55a3-11e7-b0b2-00163e9c0e35-1-e2de"
      },
      {
       "current": "a33430b0-9327-11ea-8d02-0242ac120007-2-3202-0bdc",
       "next": "9c0b8624-959f-11ea-8d02-0242ac120007-2-8098-a371",
       "previous": "35c35f52-55a3-11e7-b0b2-00163e9c0e35-2-e2de-8a27"
      },
      {
       "current": "a33430b0-9327-11ea-8d02-0242ac120007-3-3202-0bdc-fd62",
       "next": "27f1be96-f4f0-11eb-b29f-0242ac120008",
       "previous": "35c35f52-55a3-11e7-b0b2-00163e9c0e35-2-e2de-8a27"
      },
      {
       "current": "a33430b0-9327-11ea-8d02-0242ac120007-3-3202-0bdc-fd62",
       "next": "27f1be96-f4f0-11eb-b29f-0242ac120008-1-0b6c",
       "previous": "35c35f52-55a3-11e7-b0b2-00163e9c0e35-3-e2de-8a27-98e3"
      },
      {
       "current": "a33430b0-9327-11ea-8d02-0242ac120007-4-3202-0bdc-fd62-c9d9",
       "next": "73b1e49c-61bc-11ee-89fa-0242ac120005",
       "previous": "35c35f52-55a3-11e7-b0b2-00163e9c0e35-3-e2de-8a27-98e3"
      },
      {
       "current": "a33430b0-9327-11ea-8d02-0242ac120007-5-3202-0bdc-fd62-c9d9-729e",
       "next": "73b1e49c-61bc-11ee-89fa-0242ac120005-1-e5dd",
       "previous": "35c35f52-55a3-11e7-b0b2-00163e9c0e35-4-e2de-8a27-98e3-734a"
      },
      {
       "current": "a33430b0-9327-11ea-8d02-0242ac120007-6-3202-0bdc-fd62-c9d9-729e-f139",
       "next": "73b1e49c-61bc-11ee-89fa-0242ac120005-2-e5dd-e2b6",
       "previous": "35c35f52-55a3-11e7-b0b2-00163e9c0e35-5-e2de-8a27-98e3-734a-8028"
      },
      {
       "current": "a33430b0-9327-11ea-8d02-0242ac120007-7-3202-0bdc-fd62-c9d9-729e-f139-888f",
       "next": "73b1e49c-61bc-11ee-89fa-0242ac120005-3-e5dd-e2b6-e9e4",
       "previous": "35c35f52-55a3-11e7-b0b2-00163e9c0e35-6-e2de-8a27-98e3-734a-8028-a1b4"
      },
      {
       "current": "a33430b0-9327-11ea-8d02-0242ac120007-8-3202-0bdc-fd62-c9d9-729e-f139-888f-44af",
       "next": "73b1e49c-61bc-11ee-89fa-0242ac120005-4-e5dd-e2b6-e9e4-c741",
       "previous": "35c35f52-55a3-11e7-b0b2-00163e9c0e35-7-e2de-8a27-98e3-734a-8028-a1b4-a468"
      }
     ],
     "next": "73b1e49c-61bc-11ee-89fa-0242ac120005-5-e5dd-e2b6-e9e4-c741-8ab9",
     "previous": "35c35f52-55a3-11e7-b0b2-00163e9c0e35-8-e2de-8a27-98e3-734a-8028-a1b4-a468-b54d"
    }
   },
   "outputs": [],
   "source": [
    "node_user='xxxxx'\n",
    "cephadmin_user='cephadmin'\n",
    "node_key='~/.ssh/id_ras'\n",
    "proxy_user='xxxxx'\n",
    "proxy_key='~/.ssh/id_ras'"
   ]
  },
  {
   "cell_type": "code",
   "execution_count": null,
   "metadata": {
    "lc_cell_meme": {
     "current": "73b1e49c-61bc-11ee-89fa-0242ac120005-5-e5dd-e2b6-e9e4-c741-8ab9",
     "history": [
      {
       "current": "73b1e49c-61bc-11ee-89fa-0242ac120005",
       "next": "35c360f6-55a3-11e7-b0b2-00163e9c0e35-3-4a79-f9ba-754f",
       "previous": "9c0b8624-959f-11ea-8d02-0242ac120007-3-8098-a371-0b4a"
      },
      {
       "current": "73b1e49c-61bc-11ee-89fa-0242ac120005-1-e5dd",
       "next": "35c360f6-55a3-11e7-b0b2-00163e9c0e35-3-4a79-f9ba-754f",
       "previous": "a33430b0-9327-11ea-8d02-0242ac120007-3-3202-0bdc-fd62"
      },
      {
       "current": "73b1e49c-61bc-11ee-89fa-0242ac120005-2-e5dd-e2b6",
       "next": "35c360f6-55a3-11e7-b0b2-00163e9c0e35-4-4a79-f9ba-754f-92e6",
       "previous": "a33430b0-9327-11ea-8d02-0242ac120007-4-3202-0bdc-fd62-c9d9"
      },
      {
       "current": "73b1e49c-61bc-11ee-89fa-0242ac120005-3-e5dd-e2b6-e9e4",
       "next": "35c360f6-55a3-11e7-b0b2-00163e9c0e35-5-4a79-f9ba-754f-92e6-b009",
       "previous": "a33430b0-9327-11ea-8d02-0242ac120007-5-3202-0bdc-fd62-c9d9-729e"
      },
      {
       "current": "73b1e49c-61bc-11ee-89fa-0242ac120005-4-e5dd-e2b6-e9e4-c741",
       "next": "35c360f6-55a3-11e7-b0b2-00163e9c0e35-6-4a79-f9ba-754f-92e6-b009-7047",
       "previous": "a33430b0-9327-11ea-8d02-0242ac120007-6-3202-0bdc-fd62-c9d9-729e-f139"
      },
      {
       "current": "73b1e49c-61bc-11ee-89fa-0242ac120005-5-e5dd-e2b6-e9e4-c741-8ab9",
       "next": "35c360f6-55a3-11e7-b0b2-00163e9c0e35-7-4a79-f9ba-754f-92e6-b009-7047-5a1a",
       "previous": "a33430b0-9327-11ea-8d02-0242ac120007-7-3202-0bdc-fd62-c9d9-729e-f139-888f"
      }
     ],
     "next": "35c360f6-55a3-11e7-b0b2-00163e9c0e35-8-4a79-f9ba-754f-92e6-b009-7047-5a1a-f8e0",
     "previous": "a33430b0-9327-11ea-8d02-0242ac120007-8-3202-0bdc-fd62-c9d9-729e-f139-888f-44af"
    }
   },
   "outputs": [],
   "source": [
    "bootstrap_ip = bootstrap_node['prov_ip']"
   ]
  },
  {
   "cell_type": "code",
   "execution_count": null,
   "metadata": {
    "ExecuteTime": {
     "end_time": "2017-06-29T08:50:39.909299Z",
     "start_time": "2017-06-29T08:50:39.762658Z"
    },
    "lc_cell_meme": {
     "current": "35c360f6-55a3-11e7-b0b2-00163e9c0e35-8-4a79-f9ba-754f-92e6-b009-7047-5a1a-f8e0",
     "history": [
      {
       "current": "35c360f6-55a3-11e7-b0b2-00163e9c0e35",
       "next": "35c362a4-55a3-11e7-b0b2-00163e9c0e35",
       "previous": "35c35f52-55a3-11e7-b0b2-00163e9c0e35"
      },
      {
       "current": "35c360f6-55a3-11e7-b0b2-00163e9c0e35",
       "next": "35c362a4-55a3-11e7-b0b2-00163e9c0e35",
       "previous": "a33430b0-9327-11ea-8d02-0242ac120007"
      },
      {
       "current": "35c360f6-55a3-11e7-b0b2-00163e9c0e35-1-4a79",
       "next": "35c362a4-55a3-11e7-b0b2-00163e9c0e35",
       "previous": "9c0b88cc-959f-11ea-8d02-0242ac120007"
      },
      {
       "current": "35c360f6-55a3-11e7-b0b2-00163e9c0e35-2-4a79-f9ba",
       "next": "35c362a4-55a3-11e7-b0b2-00163e9c0e35-1-3f0a",
       "previous": "9c0b88cc-959f-11ea-8d02-0242ac120007-1-b077"
      },
      {
       "current": "35c360f6-55a3-11e7-b0b2-00163e9c0e35-2-4a79-f9ba",
       "next": "35c362a4-55a3-11e7-b0b2-00163e9c0e35-2-3f0a-3633",
       "previous": "9c0b88cc-959f-11ea-8d02-0242ac120007-2-b077-046d"
      },
      {
       "current": "35c360f6-55a3-11e7-b0b2-00163e9c0e35-2-4a79-f9ba",
       "next": "7dae8996-9686-11ea-8d02-0242ac120007-2-20c5-a0b0",
       "previous": "9c0b88cc-959f-11ea-8d02-0242ac120007-2-b077-046d"
      },
      {
       "current": "35c360f6-55a3-11e7-b0b2-00163e9c0e35-2-4a79-f9ba",
       "next": "35c362a4-55a3-11e7-b0b2-00163e9c0e35-2-89a7-98f2",
       "previous": "9c0b88cc-959f-11ea-8d02-0242ac120007-2-b077-046d"
      },
      {
       "current": "35c360f6-55a3-11e7-b0b2-00163e9c0e35-3-4a79-f9ba-754f",
       "next": "35c362a4-55a3-11e7-b0b2-00163e9c0e35-2-89a7-98f2",
       "previous": "9c0b8624-959f-11ea-8d02-0242ac120007-2-8098-a371"
      },
      {
       "current": "35c360f6-55a3-11e7-b0b2-00163e9c0e35-3-4a79-f9ba-754f",
       "next": "35c362a4-55a3-11e7-b0b2-00163e9c0e35-3-89a7-98f2-5cf2",
       "previous": "9c0b8624-959f-11ea-8d02-0242ac120007-3-8098-a371-0b4a"
      },
      {
       "current": "35c360f6-55a3-11e7-b0b2-00163e9c0e35-4-4a79-f9ba-754f-92e6",
       "next": "35c362a4-55a3-11e7-b0b2-00163e9c0e35-3-89a7-98f2-5cf2",
       "previous": "73b1e49c-61bc-11ee-89fa-0242ac120005"
      },
      {
       "current": "35c360f6-55a3-11e7-b0b2-00163e9c0e35-5-4a79-f9ba-754f-92e6-b009",
       "next": "35c362a4-55a3-11e7-b0b2-00163e9c0e35-4-89a7-98f2-5cf2-69c1",
       "previous": "73b1e49c-61bc-11ee-89fa-0242ac120005-1-e5dd"
      },
      {
       "current": "35c360f6-55a3-11e7-b0b2-00163e9c0e35-6-4a79-f9ba-754f-92e6-b009-7047",
       "next": "35c362a4-55a3-11e7-b0b2-00163e9c0e35-5-89a7-98f2-5cf2-69c1-51e4",
       "previous": "73b1e49c-61bc-11ee-89fa-0242ac120005-2-e5dd-e2b6"
      },
      {
       "current": "35c360f6-55a3-11e7-b0b2-00163e9c0e35-6-4a79-f9ba-754f-92e6-b009-7047",
       "next": "35c362a4-55a3-11e7-b0b2-00163e9c0e35-6-89a7-98f2-5cf2-69c1-51e4-223e",
       "previous": "73b1e49c-61bc-11ee-89fa-0242ac120005-3-e5dd-e2b6-e9e4"
      },
      {
       "current": "35c360f6-55a3-11e7-b0b2-00163e9c0e35-7-4a79-f9ba-754f-92e6-b009-7047-5a1a",
       "next": "9f7244b2-1e42-11ef-ad2f-0242ac120005",
       "previous": "73b1e49c-61bc-11ee-89fa-0242ac120005-3-e5dd-e2b6-e9e4"
      },
      {
       "current": "35c360f6-55a3-11e7-b0b2-00163e9c0e35-8-4a79-f9ba-754f-92e6-b009-7047-5a1a-f8e0",
       "next": "9f7244b2-1e42-11ef-ad2f-0242ac120005-1-0e6c",
       "previous": "73b1e49c-61bc-11ee-89fa-0242ac120005-4-e5dd-e2b6-e9e4-c741"
      }
     ],
     "next": "9f7244b2-1e42-11ef-ad2f-0242ac120005-2-0e6c-45d9",
     "previous": "73b1e49c-61bc-11ee-89fa-0242ac120005-5-e5dd-e2b6-e9e4-c741-8ab9"
    },
    "run_control": {
     "frozen": true
    },
    "scrolled": false
   },
   "outputs": [],
   "source": [
    "import os\n",
    "\n",
    "with open( os.path.join(temp_dir, \"hosts\"), 'w') as f:\n",
    "\n",
    "    f.write('''[ceph_admin]\n",
    "{ceph_admin_ip} ansible_user={proxy_user} ansible_ssh_private_key_file={proxy_key} ansible_python_interpreter=/usr/bin/python3\n",
    "'''.format(ceph_admin_ip=ceph_admin_ip, proxy_user=proxy_user, proxy_key=proxy_key, bootstrap_ip=bootstrap_ip))\n",
    "\n",
    "    f.write('''[bootstrap]\n",
    "{node_ip} ansible_user={node_user} ansible_ssh_private_key_file={node_key} ansible_ssh_common_args='-o ControlMaster=auto -o StrictHostKeyChecking=no -o ControlPersist=30m -o ProxyCommand=\"ssh -W %h:%p -i {proxy_key} -q {proxy_user}@{ceph_admin_ip}\"' ansible_python_interpreter=/usr/bin/python3\n",
    "'''.format(ceph_admin_ip=ceph_admin_ip, node_ip=bootstrap_ip, node_key=node_key,\n",
    "           node_user=node_user, proxy_user=proxy_user, proxy_key=proxy_key))    \n",
    "\n",
    "    f.write('''[openstack_ctl]\n",
    "{openstack_cmn}\n",
    "'''.format(openstack_cmn = provisioning_vip))\n",
    "\n",
    "hosts = temp_dir + \"/hosts\"\n",
    "\n",
    "!cat $hosts"
   ]
  },
  {
   "cell_type": "code",
   "execution_count": null,
   "metadata": {
    "lc_cell_meme": {
     "current": "9f7244b2-1e42-11ef-ad2f-0242ac120005-2-0e6c-45d9",
     "history": [
      {
       "current": "9f7244b2-1e42-11ef-ad2f-0242ac120005-1-0e6c",
       "next": "35c362a4-55a3-11e7-b0b2-00163e9c0e35-6-89a7-98f2-5cf2-69c1-51e4-223e",
       "previous": "35c360f6-55a3-11e7-b0b2-00163e9c0e35-6-4a79-f9ba-754f-92e6-b009-7047"
      },
      {
       "current": "9f7244b2-1e42-11ef-ad2f-0242ac120005-2-0e6c-45d9",
       "next": "35c362a4-55a3-11e7-b0b2-00163e9c0e35-7-89a7-98f2-5cf2-69c1-51e4-223e-08bd",
       "previous": "35c360f6-55a3-11e7-b0b2-00163e9c0e35-7-4a79-f9ba-754f-92e6-b009-7047-5a1a"
      }
     ],
     "next": "35c362a4-55a3-11e7-b0b2-00163e9c0e35-8-89a7-98f2-5cf2-69c1-51e4-223e-08bd-e2b9",
     "previous": "35c360f6-55a3-11e7-b0b2-00163e9c0e35-8-4a79-f9ba-754f-92e6-b009-7047-5a1a-f8e0"
    }
   },
   "outputs": [],
   "source": [
    "%env ANSIBLE_INVENTORY={hosts}"
   ]
  },
  {
   "cell_type": "markdown",
   "metadata": {
    "lc_cell_meme": {
     "current": "35c362a4-55a3-11e7-b0b2-00163e9c0e35-8-89a7-98f2-5cf2-69c1-51e4-223e-08bd-e2b9",
     "history": [
      {
       "current": "35c362a4-55a3-11e7-b0b2-00163e9c0e35",
       "next": "35c36448-55a3-11e7-b0b2-00163e9c0e35",
       "previous": "35c360f6-55a3-11e7-b0b2-00163e9c0e35"
      },
      {
       "current": "35c362a4-55a3-11e7-b0b2-00163e9c0e35",
       "next": "35c36448-55a3-11e7-b0b2-00163e9c0e35",
       "previous": "4cd5b0cc-7ef5-11ea-a926-0242ac120004"
      },
      {
       "current": "35c362a4-55a3-11e7-b0b2-00163e9c0e35",
       "next": "35c36448-55a3-11e7-b0b2-00163e9c0e35",
       "previous": "db546a28-7ef5-11ea-a926-0242ac120004"
      },
      {
       "current": "35c362a4-55a3-11e7-b0b2-00163e9c0e35",
       "next": "35c36448-55a3-11e7-b0b2-00163e9c0e35",
       "previous": "4cd5af28-7ef5-11ea-a926-0242ac120004"
      },
      {
       "current": "35c362a4-55a3-11e7-b0b2-00163e9c0e35",
       "next": "35c36448-55a3-11e7-b0b2-00163e9c0e35",
       "previous": "7d464504-9107-11ea-8d02-0242ac120007"
      },
      {
       "current": "35c362a4-55a3-11e7-b0b2-00163e9c0e35",
       "next": "35c36448-55a3-11e7-b0b2-00163e9c0e35",
       "previous": "bd797188-910b-11ea-8d02-0242ac120007"
      },
      {
       "current": "35c362a4-55a3-11e7-b0b2-00163e9c0e35",
       "next": "35c36448-55a3-11e7-b0b2-00163e9c0e35",
       "previous": "70b95056-9111-11ea-8d02-0242ac120007"
      },
      {
       "current": "35c362a4-55a3-11e7-b0b2-00163e9c0e35",
       "next": "35c36448-55a3-11e7-b0b2-00163e9c0e35",
       "previous": "bd797188-910b-11ea-8d02-0242ac120007"
      },
      {
       "current": "35c362a4-55a3-11e7-b0b2-00163e9c0e35",
       "next": "bd797188-910b-11ea-8d02-0242ac120007",
       "previous": "4cd5af28-7ef5-11ea-a926-0242ac120004"
      },
      {
       "current": "35c362a4-55a3-11e7-b0b2-00163e9c0e35",
       "next": "484c7376-935c-11ea-8d02-0242ac120007",
       "previous": "4cd5af28-7ef5-11ea-a926-0242ac120004"
      },
      {
       "current": "35c362a4-55a3-11e7-b0b2-00163e9c0e35-1-89a7",
       "next": "bd797188-910b-11ea-8d02-0242ac120007",
       "previous": "4cd5af28-7ef5-11ea-a926-0242ac120004"
      },
      {
       "current": "35c362a4-55a3-11e7-b0b2-00163e9c0e35-2-89a7-98f2",
       "next": "bd797188-910b-11ea-8d02-0242ac120007-1-728a",
       "previous": "4cd5af28-7ef5-11ea-a926-0242ac120004-1-726b"
      },
      {
       "current": "35c362a4-55a3-11e7-b0b2-00163e9c0e35-2-89a7-98f2",
       "next": "bd797188-910b-11ea-8d02-0242ac120007-2-728a-254c",
       "previous": "4cd5af28-7ef5-11ea-a926-0242ac120004-2-726b-a0d6"
      },
      {
       "current": "35c362a4-55a3-11e7-b0b2-00163e9c0e35-2-89a7-98f2",
       "next": "bd797188-910b-11ea-8d02-0242ac120007-2-728a-254c",
       "previous": "35c360f6-55a3-11e7-b0b2-00163e9c0e35-2-4a79-f9ba"
      },
      {
       "current": "35c362a4-55a3-11e7-b0b2-00163e9c0e35-3-89a7-98f2-5cf2",
       "next": "ef4d2888-aa17-11ea-9ad4-0242ac120006-1-42b7",
       "previous": "35c360f6-55a3-11e7-b0b2-00163e9c0e35-2-4a79-f9ba"
      },
      {
       "current": "35c362a4-55a3-11e7-b0b2-00163e9c0e35-4-89a7-98f2-5cf2-69c1",
       "next": "ef4d2888-aa17-11ea-9ad4-0242ac120006-2-42b7-b07a",
       "previous": "35c360f6-55a3-11e7-b0b2-00163e9c0e35-3-4a79-f9ba-754f"
      },
      {
       "current": "35c362a4-55a3-11e7-b0b2-00163e9c0e35-5-89a7-98f2-5cf2-69c1-51e4",
       "next": "ef4d2888-aa17-11ea-9ad4-0242ac120006-3-42b7-b07a-259e",
       "previous": "35c360f6-55a3-11e7-b0b2-00163e9c0e35-4-4a79-f9ba-754f-92e6"
      },
      {
       "current": "35c362a4-55a3-11e7-b0b2-00163e9c0e35-6-89a7-98f2-5cf2-69c1-51e4-223e",
       "next": "ef4d2888-aa17-11ea-9ad4-0242ac120006-4-42b7-b07a-259e-7ebc",
       "previous": "35c360f6-55a3-11e7-b0b2-00163e9c0e35-5-4a79-f9ba-754f-92e6-b009"
      },
      {
       "current": "35c362a4-55a3-11e7-b0b2-00163e9c0e35-6-89a7-98f2-5cf2-69c1-51e4-223e",
       "next": "ef4d2888-aa17-11ea-9ad4-0242ac120006-5-42b7-b07a-259e-7ebc-0053",
       "previous": "35c360f6-55a3-11e7-b0b2-00163e9c0e35-6-4a79-f9ba-754f-92e6-b009-7047"
      },
      {
       "current": "35c362a4-55a3-11e7-b0b2-00163e9c0e35-7-89a7-98f2-5cf2-69c1-51e4-223e-08bd",
       "next": "ef4d2888-aa17-11ea-9ad4-0242ac120006-5-42b7-b07a-259e-7ebc-0053",
       "previous": "9f7244b2-1e42-11ef-ad2f-0242ac120005"
      },
      {
       "current": "35c362a4-55a3-11e7-b0b2-00163e9c0e35-8-89a7-98f2-5cf2-69c1-51e4-223e-08bd-e2b9",
       "next": "ef4d2888-aa17-11ea-9ad4-0242ac120006-6-42b7-b07a-259e-7ebc-0053-9ca8",
       "previous": "9f7244b2-1e42-11ef-ad2f-0242ac120005-1-0e6c"
      }
     ],
     "next": "ef4d2888-aa17-11ea-9ad4-0242ac120006-7-42b7-b07a-259e-7ebc-0053-9ca8-4513",
     "previous": "9f7244b2-1e42-11ef-ad2f-0242ac120005-2-0e6c-45d9"
    }
   },
   "source": [
    "## 疎通確認\n",
    "以下コマンドを実行し、OpeHubからCephAdmin経由で、Cephノードに疎通することを確認する。"
   ]
  },
  {
   "cell_type": "code",
   "execution_count": null,
   "metadata": {
    "lc_cell_meme": {
     "current": "ef4d2888-aa17-11ea-9ad4-0242ac120006-7-42b7-b07a-259e-7ebc-0053-9ca8-4513",
     "history": [
      {
       "current": "ef4d2888-aa17-11ea-9ad4-0242ac120006-1-42b7",
       "next": "ac56a252-95bd-11ea-8d02-0242ac120007-1-86ee",
       "previous": "bd797188-910b-11ea-8d02-0242ac120007-1-728a"
      },
      {
       "current": "ef4d2888-aa17-11ea-9ad4-0242ac120006-1-42b7",
       "next": "ac56a252-95bd-11ea-8d02-0242ac120007-2-86ee-3a22",
       "previous": "bd797188-910b-11ea-8d02-0242ac120007-2-728a-254c"
      },
      {
       "current": "ef4d2888-aa17-11ea-9ad4-0242ac120006-1-42b7",
       "next": "bd797188-910b-11ea-8d02-0242ac120007-2-728a-254c",
       "previous": "35c362a4-55a3-11e7-b0b2-00163e9c0e35-2-89a7-98f2"
      },
      {
       "current": "ef4d2888-aa17-11ea-9ad4-0242ac120006-2-42b7-b07a",
       "next": "e3856a36-df01-11eb-b29f-0242ac120008",
       "previous": "35c362a4-55a3-11e7-b0b2-00163e9c0e35-2-89a7-98f2"
      },
      {
       "current": "ef4d2888-aa17-11ea-9ad4-0242ac120006-2-42b7-b07a",
       "next": "e3856a36-df01-11eb-b29f-0242ac120008-1-d6f1",
       "previous": "35c362a4-55a3-11e7-b0b2-00163e9c0e35-3-89a7-98f2-5cf2"
      },
      {
       "current": "ef4d2888-aa17-11ea-9ad4-0242ac120006-2-42b7-b07a",
       "next": "bd797188-910b-11ea-8d02-0242ac120007-3-728a-254c-2f4c",
       "previous": "35c362a4-55a3-11e7-b0b2-00163e9c0e35-3-89a7-98f2-5cf2"
      },
      {
       "current": "ef4d2888-aa17-11ea-9ad4-0242ac120006-3-42b7-b07a-259e",
       "next": "91d0d70c-61bd-11ee-89fa-0242ac120005",
       "previous": "35c362a4-55a3-11e7-b0b2-00163e9c0e35-3-89a7-98f2-5cf2"
      },
      {
       "current": "ef4d2888-aa17-11ea-9ad4-0242ac120006-4-42b7-b07a-259e-7ebc",
       "next": "91d0d70c-61bd-11ee-89fa-0242ac120005-1-906c",
       "previous": "35c362a4-55a3-11e7-b0b2-00163e9c0e35-4-89a7-98f2-5cf2-69c1"
      },
      {
       "current": "ef4d2888-aa17-11ea-9ad4-0242ac120006-5-42b7-b07a-259e-7ebc-0053",
       "next": "91d0d70c-61bd-11ee-89fa-0242ac120005-2-906c-a2cf",
       "previous": "35c362a4-55a3-11e7-b0b2-00163e9c0e35-5-89a7-98f2-5cf2-69c1-51e4"
      },
      {
       "current": "ef4d2888-aa17-11ea-9ad4-0242ac120006-6-42b7-b07a-259e-7ebc-0053-9ca8",
       "next": "91d0d70c-61bd-11ee-89fa-0242ac120005-3-906c-a2cf-6a96",
       "previous": "35c362a4-55a3-11e7-b0b2-00163e9c0e35-6-89a7-98f2-5cf2-69c1-51e4-223e"
      },
      {
       "current": "ef4d2888-aa17-11ea-9ad4-0242ac120006-7-42b7-b07a-259e-7ebc-0053-9ca8-4513",
       "next": "91d0d70c-61bd-11ee-89fa-0242ac120005-4-906c-a2cf-6a96-499b",
       "previous": "35c362a4-55a3-11e7-b0b2-00163e9c0e35-7-89a7-98f2-5cf2-69c1-51e4-223e-08bd"
      }
     ],
     "next": "91d0d70c-61bd-11ee-89fa-0242ac120005-5-906c-a2cf-6a96-499b-058f",
     "previous": "35c362a4-55a3-11e7-b0b2-00163e9c0e35-8-89a7-98f2-5cf2-69c1-51e4-223e-08bd-e2b9"
    }
   },
   "outputs": [],
   "source": [
    "!ansible -b -m shell -a 'hostname' ceph_admin"
   ]
  },
  {
   "cell_type": "code",
   "execution_count": null,
   "metadata": {
    "lc_cell_meme": {
     "current": "91d0d70c-61bd-11ee-89fa-0242ac120005-5-906c-a2cf-6a96-499b-058f",
     "history": [
      {
       "current": "91d0d70c-61bd-11ee-89fa-0242ac120005",
       "next": "ac56a252-95bd-11ea-8d02-0242ac120007-3-86ee-3a22-9a71",
       "previous": "21d849e2-dfd0-11eb-b29f-0242ac120008-1-ee1b"
      },
      {
       "current": "91d0d70c-61bd-11ee-89fa-0242ac120005-1-906c",
       "next": "ac56a252-95bd-11ea-8d02-0242ac120007-3-86ee-3a22-9a71",
       "previous": "ef4d2888-aa17-11ea-9ad4-0242ac120006-2-42b7-b07a"
      },
      {
       "current": "91d0d70c-61bd-11ee-89fa-0242ac120005-2-906c-a2cf",
       "next": "ac56a252-95bd-11ea-8d02-0242ac120007-4-86ee-3a22-9a71-5d5b",
       "previous": "ef4d2888-aa17-11ea-9ad4-0242ac120006-3-42b7-b07a-259e"
      },
      {
       "current": "91d0d70c-61bd-11ee-89fa-0242ac120005-3-906c-a2cf-6a96",
       "next": "ac56a252-95bd-11ea-8d02-0242ac120007-5-86ee-3a22-9a71-5d5b-e172",
       "previous": "ef4d2888-aa17-11ea-9ad4-0242ac120006-4-42b7-b07a-259e-7ebc"
      },
      {
       "current": "91d0d70c-61bd-11ee-89fa-0242ac120005-4-906c-a2cf-6a96-499b",
       "next": "ac56a252-95bd-11ea-8d02-0242ac120007-6-86ee-3a22-9a71-5d5b-e172-a290",
       "previous": "ef4d2888-aa17-11ea-9ad4-0242ac120006-5-42b7-b07a-259e-7ebc-0053"
      },
      {
       "current": "91d0d70c-61bd-11ee-89fa-0242ac120005-5-906c-a2cf-6a96-499b-058f",
       "next": "ac56a252-95bd-11ea-8d02-0242ac120007-7-86ee-3a22-9a71-5d5b-e172-a290-4c80",
       "previous": "ef4d2888-aa17-11ea-9ad4-0242ac120006-6-42b7-b07a-259e-7ebc-0053-9ca8"
      }
     ],
     "next": "ac56a252-95bd-11ea-8d02-0242ac120007-8-86ee-3a22-9a71-5d5b-e172-a290-4c80-0a90",
     "previous": "ef4d2888-aa17-11ea-9ad4-0242ac120006-7-42b7-b07a-259e-7ebc-0053-9ca8-4513"
    }
   },
   "outputs": [],
   "source": [
    "!ansible -b -m shell -a 'hostname' bootstrap"
   ]
  },
  {
   "cell_type": "markdown",
   "metadata": {
    "lc_cell_meme": {
     "current": "ac56a252-95bd-11ea-8d02-0242ac120007-8-86ee-3a22-9a71-5d5b-e172-a290-4c80-0a90",
     "history": [
      {
       "current": "ac56a252-95bd-11ea-8d02-0242ac120007-1-86ee",
       "next": "ac56a6c6-95bd-11ea-8d02-0242ac120007",
       "previous": "bd797188-910b-11ea-8d02-0242ac120007"
      },
      {
       "current": "ac56a252-95bd-11ea-8d02-0242ac120007-1-86ee",
       "next": "ac56a6c6-95bd-11ea-8d02-0242ac120007-1-431a",
       "previous": "bd797188-910b-11ea-8d02-0242ac120007-1-728a"
      },
      {
       "current": "ac56a252-95bd-11ea-8d02-0242ac120007-1-86ee",
       "next": "46b93d3e-95bc-11ea-8d02-0242ac120007-1-9f9c",
       "previous": "bd797188-910b-11ea-8d02-0242ac120007-1-728a"
      },
      {
       "current": "ac56a252-95bd-11ea-8d02-0242ac120007-2-86ee-3a22",
       "next": "46b93d3e-95bc-11ea-8d02-0242ac120007-1-9f9c",
       "previous": "ef4d2888-aa17-11ea-9ad4-0242ac120006"
      },
      {
       "current": "ac56a252-95bd-11ea-8d02-0242ac120007-2-86ee-3a22",
       "next": "46b93d3e-95bc-11ea-8d02-0242ac120007-2-9f9c-2f8b",
       "previous": "ef4d2888-aa17-11ea-9ad4-0242ac120006-1-42b7"
      },
      {
       "current": "ac56a252-95bd-11ea-8d02-0242ac120007-2-86ee-3a22",
       "next": "46b93d3e-95bc-11ea-8d02-0242ac120007-2-9f9c-2f8b",
       "previous": "bd797188-910b-11ea-8d02-0242ac120007-2-728a-254c"
      },
      {
       "current": "ac56a252-95bd-11ea-8d02-0242ac120007-3-86ee-3a22-9a71",
       "next": "46b93d3e-95bc-11ea-8d02-0242ac120007-2-9f9c-2f8b",
       "previous": "21d849e2-dfd0-11eb-b29f-0242ac120008"
      },
      {
       "current": "ac56a252-95bd-11ea-8d02-0242ac120007-3-86ee-3a22-9a71",
       "next": "46b93d3e-95bc-11ea-8d02-0242ac120007-3-9f9c-2f8b-fd5c",
       "previous": "21d849e2-dfd0-11eb-b29f-0242ac120008-1-ee1b"
      },
      {
       "current": "ac56a252-95bd-11ea-8d02-0242ac120007-3-86ee-3a22-9a71",
       "next": "1e5a5a54-4bb1-11ee-89fa-0242ac120005",
       "previous": "21d849e2-dfd0-11eb-b29f-0242ac120008-1-ee1b"
      },
      {
       "current": "ac56a252-95bd-11ea-8d02-0242ac120007-3-86ee-3a22-9a71",
       "next": "65e00220-4bb1-11ee-89fa-0242ac120005",
       "previous": "21d849e2-dfd0-11eb-b29f-0242ac120008-1-ee1b"
      },
      {
       "current": "ac56a252-95bd-11ea-8d02-0242ac120007-3-86ee-3a22-9a71",
       "next": "5d429cae-6191-11ee-89fa-0242ac120005",
       "previous": "21d849e2-dfd0-11eb-b29f-0242ac120008-1-ee1b"
      },
      {
       "current": "ac56a252-95bd-11ea-8d02-0242ac120007-3-86ee-3a22-9a71",
       "next": "5d429cae-6191-11ee-89fa-0242ac120005",
       "previous": "91d0d70c-61bd-11ee-89fa-0242ac120005"
      },
      {
       "current": "ac56a252-95bd-11ea-8d02-0242ac120007-3-86ee-3a22-9a71",
       "next": "d9541562-61bd-11ee-89fa-0242ac120005",
       "previous": "91d0d70c-61bd-11ee-89fa-0242ac120005"
      },
      {
       "current": "ac56a252-95bd-11ea-8d02-0242ac120007-3-86ee-3a22-9a71",
       "next": "43709838-6251-11ee-89fa-0242ac120005",
       "previous": "91d0d70c-61bd-11ee-89fa-0242ac120005"
      },
      {
       "current": "ac56a252-95bd-11ea-8d02-0242ac120007-3-86ee-3a22-9a71",
       "next": "5dbaa4dc-7470-11ee-89fa-0242ac120005",
       "previous": "91d0d70c-61bd-11ee-89fa-0242ac120005"
      },
      {
       "current": "ac56a252-95bd-11ea-8d02-0242ac120007-3-86ee-3a22-9a71",
       "next": "5dbaa93c-7470-11ee-89fa-0242ac120005",
       "previous": "91d0d70c-61bd-11ee-89fa-0242ac120005"
      },
      {
       "current": "ac56a252-95bd-11ea-8d02-0242ac120007-4-86ee-3a22-9a71-5d5b",
       "next": "3a6f2148-7474-11ee-89fa-0242ac120005",
       "previous": "91d0d70c-61bd-11ee-89fa-0242ac120005"
      },
      {
       "current": "ac56a252-95bd-11ea-8d02-0242ac120007-5-86ee-3a22-9a71-5d5b-e172",
       "next": "3a6f2148-7474-11ee-89fa-0242ac120005-1-ff65",
       "previous": "91d0d70c-61bd-11ee-89fa-0242ac120005-1-906c"
      },
      {
       "current": "ac56a252-95bd-11ea-8d02-0242ac120007-6-86ee-3a22-9a71-5d5b-e172-a290",
       "next": "3a6f2148-7474-11ee-89fa-0242ac120005-2-ff65-e231",
       "previous": "91d0d70c-61bd-11ee-89fa-0242ac120005-2-906c-a2cf"
      },
      {
       "current": "ac56a252-95bd-11ea-8d02-0242ac120007-7-86ee-3a22-9a71-5d5b-e172-a290-4c80",
       "next": "3a6f2148-7474-11ee-89fa-0242ac120005-3-ff65-e231-44fb",
       "previous": "91d0d70c-61bd-11ee-89fa-0242ac120005-3-906c-a2cf-6a96"
      },
      {
       "current": "ac56a252-95bd-11ea-8d02-0242ac120007-8-86ee-3a22-9a71-5d5b-e172-a290-4c80-0a90",
       "next": "3a6f2148-7474-11ee-89fa-0242ac120005-4-ff65-e231-44fb-80bf",
       "previous": "91d0d70c-61bd-11ee-89fa-0242ac120005-4-906c-a2cf-6a96-499b"
      }
     ],
     "next": "3a6f2148-7474-11ee-89fa-0242ac120005-5-ff65-e231-44fb-80bf-3335",
     "previous": "91d0d70c-61bd-11ee-89fa-0242ac120005-5-906c-a2cf-6a96-499b-058f"
    }
   },
   "source": [
    "# Managerノード固定"
   ]
  },
  {
   "cell_type": "markdown",
   "metadata": {
    "lc_cell_meme": {
     "current": "3a6f2148-7474-11ee-89fa-0242ac120005-5-ff65-e231-44fb-80bf-3335",
     "history": [
      {
       "current": "3a6f2148-7474-11ee-89fa-0242ac120005",
       "next": "5dbaa93c-7470-11ee-89fa-0242ac120005",
       "previous": "ac56a252-95bd-11ea-8d02-0242ac120007-3-86ee-3a22-9a71"
      },
      {
       "current": "3a6f2148-7474-11ee-89fa-0242ac120005-1-ff65",
       "next": "abd280a0-7f96-11ee-91d3-0242ac120006",
       "previous": "ac56a252-95bd-11ea-8d02-0242ac120007-3-86ee-3a22-9a71"
      },
      {
       "current": "3a6f2148-7474-11ee-89fa-0242ac120005-2-ff65-e231",
       "next": "abd280a0-7f96-11ee-91d3-0242ac120006-1-7189",
       "previous": "ac56a252-95bd-11ea-8d02-0242ac120007-4-86ee-3a22-9a71-5d5b"
      },
      {
       "current": "3a6f2148-7474-11ee-89fa-0242ac120005-3-ff65-e231-44fb",
       "next": "abd280a0-7f96-11ee-91d3-0242ac120006-2-7189-d52e",
       "previous": "ac56a252-95bd-11ea-8d02-0242ac120007-5-86ee-3a22-9a71-5d5b-e172"
      },
      {
       "current": "3a6f2148-7474-11ee-89fa-0242ac120005-4-ff65-e231-44fb-80bf",
       "next": "abd280a0-7f96-11ee-91d3-0242ac120006-3-7189-d52e-17ba",
       "previous": "ac56a252-95bd-11ea-8d02-0242ac120007-6-86ee-3a22-9a71-5d5b-e172-a290"
      },
      {
       "current": "3a6f2148-7474-11ee-89fa-0242ac120005-5-ff65-e231-44fb-80bf-3335",
       "next": "abd280a0-7f96-11ee-91d3-0242ac120006-4-7189-d52e-17ba-7832",
       "previous": "ac56a252-95bd-11ea-8d02-0242ac120007-7-86ee-3a22-9a71-5d5b-e172-a290-4c80"
      }
     ],
     "next": "abd280a0-7f96-11ee-91d3-0242ac120006-5-7189-d52e-17ba-7832-5602",
     "previous": "ac56a252-95bd-11ea-8d02-0242ac120007-8-86ee-3a22-9a71-5d5b-e172-a290-4c80-0a90"
    }
   },
   "source": [
    "## 対象ノード設定"
   ]
  },
  {
   "cell_type": "code",
   "execution_count": null,
   "metadata": {
    "lc_cell_meme": {
     "current": "abd280a0-7f96-11ee-91d3-0242ac120006-5-7189-d52e-17ba-7832-5602",
     "history": [
      {
       "current": "abd280a0-7f96-11ee-91d3-0242ac120006",
       "next": "abd28280-7f96-11ee-91d3-0242ac120006",
       "previous": "3a6f2148-7474-11ee-89fa-0242ac120005"
      },
      {
       "current": "abd280a0-7f96-11ee-91d3-0242ac120006-1-7189",
       "next": "5dbaa93c-7470-11ee-89fa-0242ac120005",
       "previous": "3a6f2148-7474-11ee-89fa-0242ac120005"
      },
      {
       "current": "abd280a0-7f96-11ee-91d3-0242ac120006-2-7189-d52e",
       "next": "5dbaa93c-7470-11ee-89fa-0242ac120005-1-e814",
       "previous": "3a6f2148-7474-11ee-89fa-0242ac120005-1-ff65"
      },
      {
       "current": "abd280a0-7f96-11ee-91d3-0242ac120006-3-7189-d52e-17ba",
       "next": "5dbaa93c-7470-11ee-89fa-0242ac120005-2-e814-6ced",
       "previous": "3a6f2148-7474-11ee-89fa-0242ac120005-2-ff65-e231"
      },
      {
       "current": "abd280a0-7f96-11ee-91d3-0242ac120006-4-7189-d52e-17ba-7832",
       "next": "5dbaa93c-7470-11ee-89fa-0242ac120005-3-e814-6ced-eda2",
       "previous": "3a6f2148-7474-11ee-89fa-0242ac120005-3-ff65-e231-44fb"
      },
      {
       "current": "abd280a0-7f96-11ee-91d3-0242ac120006-5-7189-d52e-17ba-7832-5602",
       "next": "5dbaa93c-7470-11ee-89fa-0242ac120005-4-e814-6ced-eda2-87cc",
       "previous": "3a6f2148-7474-11ee-89fa-0242ac120005-4-ff65-e231-44fb-80bf"
      }
     ],
     "next": "5dbaa93c-7470-11ee-89fa-0242ac120005-5-e814-6ced-eda2-87cc-9b0a",
     "previous": "3a6f2148-7474-11ee-89fa-0242ac120005-5-ff65-e231-44fb-80bf-3335"
    }
   },
   "outputs": [],
   "source": [
    "!ansible -b -m shell -a \"cephadm shell -- ceph orch ls 2> /dev/null\" bootstrap"
   ]
  },
  {
   "cell_type": "code",
   "execution_count": null,
   "metadata": {
    "lc_cell_meme": {
     "current": "5dbaa93c-7470-11ee-89fa-0242ac120005-5-e814-6ced-eda2-87cc-9b0a",
     "history": [
      {
       "current": "5dbaa93c-7470-11ee-89fa-0242ac120005",
       "next": "5dbaa9aa-7470-11ee-89fa-0242ac120005",
       "previous": "5dbaa7f2-7470-11ee-89fa-0242ac120005"
      },
      {
       "current": "5dbaa93c-7470-11ee-89fa-0242ac120005",
       "next": "5dbaa9aa-7470-11ee-89fa-0242ac120005",
       "previous": "ac56a252-95bd-11ea-8d02-0242ac120007-3-86ee-3a22-9a71"
      },
      {
       "current": "5dbaa93c-7470-11ee-89fa-0242ac120005",
       "next": "5dbaa9aa-7470-11ee-89fa-0242ac120005",
       "previous": "3a6f2148-7474-11ee-89fa-0242ac120005"
      },
      {
       "current": "5dbaa93c-7470-11ee-89fa-0242ac120005",
       "next": "5dbaa9aa-7470-11ee-89fa-0242ac120005",
       "previous": "abd28280-7f96-11ee-91d3-0242ac120006"
      },
      {
       "current": "5dbaa93c-7470-11ee-89fa-0242ac120005-1-e814",
       "next": "ab61503e-7473-11ee-89fa-0242ac120005",
       "previous": "abd280a0-7f96-11ee-91d3-0242ac120006"
      },
      {
       "current": "5dbaa93c-7470-11ee-89fa-0242ac120005-2-e814-6ced",
       "next": "ab61503e-7473-11ee-89fa-0242ac120005-1-8741",
       "previous": "abd280a0-7f96-11ee-91d3-0242ac120006-1-7189"
      },
      {
       "current": "5dbaa93c-7470-11ee-89fa-0242ac120005-3-e814-6ced-eda2",
       "next": "ab61503e-7473-11ee-89fa-0242ac120005-2-8741-c44c",
       "previous": "abd280a0-7f96-11ee-91d3-0242ac120006-2-7189-d52e"
      },
      {
       "current": "5dbaa93c-7470-11ee-89fa-0242ac120005-4-e814-6ced-eda2-87cc",
       "next": "ab61503e-7473-11ee-89fa-0242ac120005-3-8741-c44c-f01a",
       "previous": "abd280a0-7f96-11ee-91d3-0242ac120006-3-7189-d52e-17ba"
      },
      {
       "current": "5dbaa93c-7470-11ee-89fa-0242ac120005-5-e814-6ced-eda2-87cc-9b0a",
       "next": "ab61503e-7473-11ee-89fa-0242ac120005-4-8741-c44c-f01a-1c48",
       "previous": "abd280a0-7f96-11ee-91d3-0242ac120006-4-7189-d52e-17ba-7832"
      }
     ],
     "next": "ab61503e-7473-11ee-89fa-0242ac120005-5-8741-c44c-f01a-1c48-77d3",
     "previous": "abd280a0-7f96-11ee-91d3-0242ac120006-5-7189-d52e-17ba-7832-5602"
    }
   },
   "outputs": [],
   "source": [
    "# 対象のインスタンス名称を設定する\n",
    "raise Exception('この先手作業が必要です')"
   ]
  },
  {
   "cell_type": "code",
   "execution_count": null,
   "metadata": {
    "lc_cell_meme": {
     "current": "ab61503e-7473-11ee-89fa-0242ac120005-5-8741-c44c-f01a-1c48-77d3",
     "history": [
      {
       "current": "ab61503e-7473-11ee-89fa-0242ac120005",
       "next": "ab61521e-7473-11ee-89fa-0242ac120005",
       "previous": "5dbaa9aa-7470-11ee-89fa-0242ac120005"
      },
      {
       "current": "ab61503e-7473-11ee-89fa-0242ac120005",
       "next": "ab61528c-7473-11ee-89fa-0242ac120005-1-e1ca",
       "previous": "5dbaa93c-7470-11ee-89fa-0242ac120005"
      },
      {
       "current": "ab61503e-7473-11ee-89fa-0242ac120005-1-8741",
       "next": "16f1b906-7fb4-11ee-91d3-0242ac120006",
       "previous": "5dbaa93c-7470-11ee-89fa-0242ac120005"
      },
      {
       "current": "ab61503e-7473-11ee-89fa-0242ac120005-2-8741-c44c",
       "next": "16f1b906-7fb4-11ee-91d3-0242ac120006-1-26f2",
       "previous": "5dbaa93c-7470-11ee-89fa-0242ac120005-1-e814"
      },
      {
       "current": "ab61503e-7473-11ee-89fa-0242ac120005-3-8741-c44c-f01a",
       "next": "16f1b906-7fb4-11ee-91d3-0242ac120006-2-26f2-e86d",
       "previous": "5dbaa93c-7470-11ee-89fa-0242ac120005-2-e814-6ced"
      },
      {
       "current": "ab61503e-7473-11ee-89fa-0242ac120005-4-8741-c44c-f01a-1c48",
       "next": "16f1b906-7fb4-11ee-91d3-0242ac120006-3-26f2-e86d-8ea6",
       "previous": "5dbaa93c-7470-11ee-89fa-0242ac120005-3-e814-6ced-eda2"
      },
      {
       "current": "ab61503e-7473-11ee-89fa-0242ac120005-5-8741-c44c-f01a-1c48-77d3",
       "next": "16f1b906-7fb4-11ee-91d3-0242ac120006-4-26f2-e86d-8ea6-04ef",
       "previous": "5dbaa93c-7470-11ee-89fa-0242ac120005-4-e814-6ced-eda2-87cc"
      }
     ],
     "next": "16f1b906-7fb4-11ee-91d3-0242ac120006-5-26f2-e86d-8ea6-04ef-a5ca",
     "previous": "5dbaa93c-7470-11ee-89fa-0242ac120005-5-e814-6ced-eda2-87cc-9b0a"
    }
   },
   "outputs": [],
   "source": [
    "mgr_hosts = ['ceph-xxx-node-001','ceph-xxx-node-002','ceph-xxx-node-003']"
   ]
  },
  {
   "cell_type": "code",
   "execution_count": null,
   "metadata": {
    "lc_cell_meme": {
     "current": "16f1b906-7fb4-11ee-91d3-0242ac120006-5-26f2-e86d-8ea6-04ef-a5ca",
     "history": [
      {
       "current": "16f1b906-7fb4-11ee-91d3-0242ac120006-1-26f2",
       "next": "e5d0a4ea-7f9f-11ee-91d3-0242ac120006",
       "previous": "ab61503e-7473-11ee-89fa-0242ac120005"
      },
      {
       "current": "16f1b906-7fb4-11ee-91d3-0242ac120006-2-26f2-e86d",
       "next": "e5d0a4ea-7f9f-11ee-91d3-0242ac120006-1-d83a",
       "previous": "ab61503e-7473-11ee-89fa-0242ac120005-1-8741"
      },
      {
       "current": "16f1b906-7fb4-11ee-91d3-0242ac120006-3-26f2-e86d-8ea6",
       "next": "e5d0a4ea-7f9f-11ee-91d3-0242ac120006-2-d83a-0186",
       "previous": "ab61503e-7473-11ee-89fa-0242ac120005-2-8741-c44c"
      },
      {
       "current": "16f1b906-7fb4-11ee-91d3-0242ac120006-4-26f2-e86d-8ea6-04ef",
       "next": "e5d0a4ea-7f9f-11ee-91d3-0242ac120006-3-d83a-0186-778a",
       "previous": "ab61503e-7473-11ee-89fa-0242ac120005-3-8741-c44c-f01a"
      },
      {
       "current": "16f1b906-7fb4-11ee-91d3-0242ac120006-5-26f2-e86d-8ea6-04ef-a5ca",
       "next": "e5d0a4ea-7f9f-11ee-91d3-0242ac120006-4-d83a-0186-778a-4ff8",
       "previous": "ab61503e-7473-11ee-89fa-0242ac120005-4-8741-c44c-f01a-1c48"
      }
     ],
     "next": "e5d0a4ea-7f9f-11ee-91d3-0242ac120006-5-d83a-0186-778a-4ff8-5f2c",
     "previous": "ab61503e-7473-11ee-89fa-0242ac120005-5-8741-c44c-f01a-1c48-77d3"
    }
   },
   "outputs": [],
   "source": [
    "mgr_hostname = \" \".join(mgr_hosts)\n",
    "mgr_hostname"
   ]
  },
  {
   "cell_type": "code",
   "execution_count": null,
   "metadata": {
    "lc_cell_meme": {
     "current": "e5d0a4ea-7f9f-11ee-91d3-0242ac120006-5-d83a-0186-778a-4ff8-5f2c",
     "history": [
      {
       "current": "e5d0a4ea-7f9f-11ee-91d3-0242ac120006",
       "next": "56c24740-7f9f-11ee-91d3-0242ac120006",
       "previous": "b4d4c82a-7f9b-11ee-91d3-0242ac120006"
      },
      {
       "current": "e5d0a4ea-7f9f-11ee-91d3-0242ac120006",
       "next": "56c24740-7f9f-11ee-91d3-0242ac120006",
       "previous": "fa27a724-7fac-11ee-91d3-0242ac120006"
      },
      {
       "current": "e5d0a4ea-7f9f-11ee-91d3-0242ac120006",
       "next": "56c24740-7f9f-11ee-91d3-0242ac120006",
       "previous": "16f1b906-7fb4-11ee-91d3-0242ac120006"
      },
      {
       "current": "e5d0a4ea-7f9f-11ee-91d3-0242ac120006-1-d83a",
       "next": "41aedb8a-7fad-11ee-91d3-0242ac120006",
       "previous": "16f1b906-7fb4-11ee-91d3-0242ac120006"
      },
      {
       "current": "e5d0a4ea-7f9f-11ee-91d3-0242ac120006-1-d83a",
       "next": "41aedb8a-7fad-11ee-91d3-0242ac120006-1-6d5c",
       "previous": "16f1b906-7fb4-11ee-91d3-0242ac120006-1-26f2"
      },
      {
       "current": "e5d0a4ea-7f9f-11ee-91d3-0242ac120006-2-d83a-0186",
       "next": "56c248c6-7f9f-11ee-91d3-0242ac120006-1-c3e5",
       "previous": "16f1b906-7fb4-11ee-91d3-0242ac120006-1-26f2"
      },
      {
       "current": "e5d0a4ea-7f9f-11ee-91d3-0242ac120006-3-d83a-0186-778a",
       "next": "56c248c6-7f9f-11ee-91d3-0242ac120006-2-c3e5-f11c",
       "previous": "16f1b906-7fb4-11ee-91d3-0242ac120006-2-26f2-e86d"
      },
      {
       "current": "e5d0a4ea-7f9f-11ee-91d3-0242ac120006-4-d83a-0186-778a-4ff8",
       "next": "56c248c6-7f9f-11ee-91d3-0242ac120006-3-c3e5-f11c-dc02",
       "previous": "16f1b906-7fb4-11ee-91d3-0242ac120006-3-26f2-e86d-8ea6"
      },
      {
       "current": "e5d0a4ea-7f9f-11ee-91d3-0242ac120006-5-d83a-0186-778a-4ff8-5f2c",
       "next": "56c248c6-7f9f-11ee-91d3-0242ac120006-4-c3e5-f11c-dc02-bb9a",
       "previous": "16f1b906-7fb4-11ee-91d3-0242ac120006-4-26f2-e86d-8ea6-04ef"
      }
     ],
     "next": "56c248c6-7f9f-11ee-91d3-0242ac120006-5-c3e5-f11c-dc02-bb9a-68ae",
     "previous": "16f1b906-7fb4-11ee-91d3-0242ac120006-5-26f2-e86d-8ea6-04ef-a5ca"
    }
   },
   "outputs": [],
   "source": [
    "!ansible -b -m shell -a \"cephadm shell -- ceph orch apply mgr --placement=\\\"$mgr_hostname\\\" 2> /dev/null\" bootstrap"
   ]
  },
  {
   "cell_type": "code",
   "execution_count": null,
   "metadata": {
    "lc_cell_meme": {
     "current": "56c248c6-7f9f-11ee-91d3-0242ac120006-5-c3e5-f11c-dc02-bb9a-68ae",
     "history": [
      {
       "current": "56c248c6-7f9f-11ee-91d3-0242ac120006",
       "next": "56c2495c-7f9f-11ee-91d3-0242ac120006",
       "previous": "56c24740-7f9f-11ee-91d3-0242ac120006"
      },
      {
       "current": "56c248c6-7f9f-11ee-91d3-0242ac120006",
       "next": "35c581ba-55a3-11e7-b0b2-00163e9c0e35-3-f60b-133a-40ef",
       "previous": "56c24740-7f9f-11ee-91d3-0242ac120006"
      },
      {
       "current": "56c248c6-7f9f-11ee-91d3-0242ac120006",
       "next": "35c581ba-55a3-11e7-b0b2-00163e9c0e35-3-f60b-133a-40ef",
       "previous": "41aedb8a-7fad-11ee-91d3-0242ac120006"
      },
      {
       "current": "56c248c6-7f9f-11ee-91d3-0242ac120006-1-c3e5",
       "next": "7213066e-7fb4-11ee-91d3-0242ac120006",
       "previous": "41aedb8a-7fad-11ee-91d3-0242ac120006"
      },
      {
       "current": "56c248c6-7f9f-11ee-91d3-0242ac120006-1-c3e5",
       "next": "7213066e-7fb4-11ee-91d3-0242ac120006-1-089a",
       "previous": "41aedb8a-7fad-11ee-91d3-0242ac120006-1-6d5c"
      },
      {
       "current": "56c248c6-7f9f-11ee-91d3-0242ac120006-2-c3e5-f11c",
       "next": "7213066e-7fb4-11ee-91d3-0242ac120006-1-089a",
       "previous": "e5d0a4ea-7f9f-11ee-91d3-0242ac120006-1-d83a"
      },
      {
       "current": "56c248c6-7f9f-11ee-91d3-0242ac120006-3-c3e5-f11c-dc02",
       "next": "7213066e-7fb4-11ee-91d3-0242ac120006-2-089a-90c9",
       "previous": "e5d0a4ea-7f9f-11ee-91d3-0242ac120006-2-d83a-0186"
      },
      {
       "current": "56c248c6-7f9f-11ee-91d3-0242ac120006-4-c3e5-f11c-dc02-bb9a",
       "next": "7213066e-7fb4-11ee-91d3-0242ac120006-3-089a-90c9-2feb",
       "previous": "e5d0a4ea-7f9f-11ee-91d3-0242ac120006-3-d83a-0186-778a"
      },
      {
       "current": "56c248c6-7f9f-11ee-91d3-0242ac120006-5-c3e5-f11c-dc02-bb9a-68ae",
       "next": "7213066e-7fb4-11ee-91d3-0242ac120006-4-089a-90c9-2feb-3a0d",
       "previous": "e5d0a4ea-7f9f-11ee-91d3-0242ac120006-4-d83a-0186-778a-4ff8"
      }
     ],
     "next": "7213066e-7fb4-11ee-91d3-0242ac120006-5-089a-90c9-2feb-3a0d-98d4",
     "previous": "e5d0a4ea-7f9f-11ee-91d3-0242ac120006-5-d83a-0186-778a-4ff8-5f2c"
    }
   },
   "outputs": [],
   "source": [
    "!ansible -b -m shell -a \"cephadm shell -- ceph orch ls 2> /dev/null\" bootstrap"
   ]
  },
  {
   "cell_type": "code",
   "execution_count": null,
   "metadata": {
    "lc_cell_meme": {
     "current": "7213066e-7fb4-11ee-91d3-0242ac120006-5-089a-90c9-2feb-3a0d-98d4",
     "history": [
      {
       "current": "7213066e-7fb4-11ee-91d3-0242ac120006-1-089a",
       "next": "35c581ba-55a3-11e7-b0b2-00163e9c0e35-3-f60b-133a-40ef",
       "previous": "56c248c6-7f9f-11ee-91d3-0242ac120006"
      },
      {
       "current": "7213066e-7fb4-11ee-91d3-0242ac120006-2-089a-90c9",
       "next": "35c581ba-55a3-11e7-b0b2-00163e9c0e35-4-f60b-133a-40ef-4453",
       "previous": "56c248c6-7f9f-11ee-91d3-0242ac120006-1-c3e5"
      },
      {
       "current": "7213066e-7fb4-11ee-91d3-0242ac120006-3-089a-90c9-2feb",
       "next": "35c581ba-55a3-11e7-b0b2-00163e9c0e35-5-f60b-133a-40ef-4453-fb8f",
       "previous": "56c248c6-7f9f-11ee-91d3-0242ac120006-2-c3e5-f11c"
      },
      {
       "current": "7213066e-7fb4-11ee-91d3-0242ac120006-4-089a-90c9-2feb-3a0d",
       "next": "35c581ba-55a3-11e7-b0b2-00163e9c0e35-6-f60b-133a-40ef-4453-fb8f-772c",
       "previous": "56c248c6-7f9f-11ee-91d3-0242ac120006-3-c3e5-f11c-dc02"
      },
      {
       "current": "7213066e-7fb4-11ee-91d3-0242ac120006-5-089a-90c9-2feb-3a0d-98d4",
       "next": "35c581ba-55a3-11e7-b0b2-00163e9c0e35-7-f60b-133a-40ef-4453-fb8f-772c-4a01",
       "previous": "56c248c6-7f9f-11ee-91d3-0242ac120006-4-c3e5-f11c-dc02-bb9a"
      }
     ],
     "next": "35c581ba-55a3-11e7-b0b2-00163e9c0e35-8-f60b-133a-40ef-4453-fb8f-772c-4a01-c2d8",
     "previous": "56c248c6-7f9f-11ee-91d3-0242ac120006-5-c3e5-f11c-dc02-bb9a-68ae"
    }
   },
   "outputs": [],
   "source": [
    "!ansible -b -m shell -a \"cephadm shell -- ceph -s 2> /dev/null\" bootstrap"
   ]
  },
  {
   "cell_type": "markdown",
   "metadata": {
    "collapsed": true,
    "lc_cell_meme": {
     "current": "35c581ba-55a3-11e7-b0b2-00163e9c0e35-8-f60b-133a-40ef-4453-fb8f-772c-4a01-c2d8",
     "history": [
      {
       "current": "35c581ba-55a3-11e7-b0b2-00163e9c0e35",
       "next": "35c58340-55a3-11e7-b0b2-00163e9c0e35",
       "previous": "35c58034-55a3-11e7-b0b2-00163e9c0e35"
      },
      {
       "current": "35c581ba-55a3-11e7-b0b2-00163e9c0e35",
       "next": "35c58340-55a3-11e7-b0b2-00163e9c0e35",
       "previous": "35c51928-55a3-11e7-b0b2-00163e9c0e35"
      },
      {
       "current": "35c581ba-55a3-11e7-b0b2-00163e9c0e35",
       "next": "35c58340-55a3-11e7-b0b2-00163e9c0e35",
       "previous": "277a614c-47b9-11ea-a028-0242ac120005"
      },
      {
       "current": "35c581ba-55a3-11e7-b0b2-00163e9c0e35",
       "next": "35c58340-55a3-11e7-b0b2-00163e9c0e35",
       "previous": "35c51928-55a3-11e7-b0b2-00163e9c0e35"
      },
      {
       "current": "35c581ba-55a3-11e7-b0b2-00163e9c0e35",
       "next": "35c58340-55a3-11e7-b0b2-00163e9c0e35",
       "previous": "b8a85906-47b6-11ea-a028-0242ac120005"
      },
      {
       "current": "35c581ba-55a3-11e7-b0b2-00163e9c0e35",
       "next": "35c58340-55a3-11e7-b0b2-00163e9c0e35",
       "previous": "35c38fae-55a3-11e7-b0b2-00163e9c0e35"
      },
      {
       "current": "35c581ba-55a3-11e7-b0b2-00163e9c0e35",
       "next": "35c58340-55a3-11e7-b0b2-00163e9c0e35",
       "previous": "35c385a4-55a3-11e7-b0b2-00163e9c0e35"
      },
      {
       "current": "35c581ba-55a3-11e7-b0b2-00163e9c0e35",
       "next": "35c58340-55a3-11e7-b0b2-00163e9c0e35",
       "previous": "27c39180-935b-11ea-8d02-0242ac120007"
      },
      {
       "current": "35c581ba-55a3-11e7-b0b2-00163e9c0e35",
       "next": "35c58340-55a3-11e7-b0b2-00163e9c0e35",
       "previous": "35c385a4-55a3-11e7-b0b2-00163e9c0e35"
      },
      {
       "current": "35c581ba-55a3-11e7-b0b2-00163e9c0e35",
       "next": "35c58340-55a3-11e7-b0b2-00163e9c0e35",
       "previous": "b20d6ace-9684-11ea-8d02-0242ac120007"
      },
      {
       "current": "35c581ba-55a3-11e7-b0b2-00163e9c0e35",
       "next": "35c58340-55a3-11e7-b0b2-00163e9c0e35",
       "previous": "18b837c6-9686-11ea-8d02-0242ac120007"
      },
      {
       "current": "35c581ba-55a3-11e7-b0b2-00163e9c0e35",
       "next": "35c58340-55a3-11e7-b0b2-00163e9c0e35",
       "previous": "59de09f6-9686-11ea-8d02-0242ac120007"
      },
      {
       "current": "35c581ba-55a3-11e7-b0b2-00163e9c0e35",
       "next": "35c58340-55a3-11e7-b0b2-00163e9c0e35",
       "previous": "7dae8b30-9686-11ea-8d02-0242ac120007"
      },
      {
       "current": "35c581ba-55a3-11e7-b0b2-00163e9c0e35",
       "next": "35c58340-55a3-11e7-b0b2-00163e9c0e35",
       "previous": "789942dc-9692-11ea-8d02-0242ac120007"
      },
      {
       "current": "35c581ba-55a3-11e7-b0b2-00163e9c0e35",
       "next": "35c58340-55a3-11e7-b0b2-00163e9c0e35",
       "previous": "e95d003a-9697-11ea-8d02-0242ac120007"
      },
      {
       "current": "35c581ba-55a3-11e7-b0b2-00163e9c0e35",
       "next": "35c58340-55a3-11e7-b0b2-00163e9c0e35",
       "previous": "357fc83a-969d-11ea-8d02-0242ac120007"
      },
      {
       "current": "35c581ba-55a3-11e7-b0b2-00163e9c0e35",
       "next": "35c58340-55a3-11e7-b0b2-00163e9c0e35",
       "previous": "7dae86da-9686-11ea-8d02-0242ac120007"
      },
      {
       "current": "35c581ba-55a3-11e7-b0b2-00163e9c0e35",
       "next": "35c58340-55a3-11e7-b0b2-00163e9c0e35",
       "previous": "49102d8c-98a9-11ea-8d02-0242ac120007"
      },
      {
       "current": "35c581ba-55a3-11e7-b0b2-00163e9c0e35",
       "next": "35c58340-55a3-11e7-b0b2-00163e9c0e35",
       "previous": "dbe917aa-9984-11ea-8d02-0242ac120007"
      },
      {
       "current": "35c581ba-55a3-11e7-b0b2-00163e9c0e35",
       "next": "35c58340-55a3-11e7-b0b2-00163e9c0e35",
       "previous": "f9f7c1a0-9985-11ea-8d02-0242ac120007"
      },
      {
       "current": "35c581ba-55a3-11e7-b0b2-00163e9c0e35",
       "next": "35c58340-55a3-11e7-b0b2-00163e9c0e35",
       "previous": "4180e646-9986-11ea-8d02-0242ac120007"
      },
      {
       "current": "35c581ba-55a3-11e7-b0b2-00163e9c0e35",
       "next": "35c58340-55a3-11e7-b0b2-00163e9c0e35",
       "previous": "eea7aafc-9987-11ea-8d02-0242ac120007"
      },
      {
       "current": "35c581ba-55a3-11e7-b0b2-00163e9c0e35",
       "next": "35c58340-55a3-11e7-b0b2-00163e9c0e35",
       "previous": "7db36be6-9988-11ea-8d02-0242ac120007"
      },
      {
       "current": "35c581ba-55a3-11e7-b0b2-00163e9c0e35",
       "next": "35c58340-55a3-11e7-b0b2-00163e9c0e35",
       "previous": "7db36a7e-9988-11ea-8d02-0242ac120007"
      },
      {
       "current": "35c581ba-55a3-11e7-b0b2-00163e9c0e35",
       "next": "35c58340-55a3-11e7-b0b2-00163e9c0e35",
       "previous": "f3e7d364-998e-11ea-8d02-0242ac120007"
      },
      {
       "current": "35c581ba-55a3-11e7-b0b2-00163e9c0e35-1-f60b",
       "next": "35c58340-55a3-11e7-b0b2-00163e9c0e35",
       "previous": "b0a33f46-98ce-11ea-8d02-0242ac120007"
      },
      {
       "current": "35c581ba-55a3-11e7-b0b2-00163e9c0e35-2-f60b-133a",
       "next": "35c58340-55a3-11e7-b0b2-00163e9c0e35-1-c0ce",
       "previous": "b0a33f46-98ce-11ea-8d02-0242ac120007-1-1e51"
      },
      {
       "current": "35c581ba-55a3-11e7-b0b2-00163e9c0e35-2-f60b-133a",
       "next": "35c58340-55a3-11e7-b0b2-00163e9c0e35-2-c0ce-9618",
       "previous": "b0a33f46-98ce-11ea-8d02-0242ac120007-2-1e51-b1e8"
      },
      {
       "current": "35c581ba-55a3-11e7-b0b2-00163e9c0e35-2-f60b-133a",
       "next": "35c58340-55a3-11e7-b0b2-00163e9c0e35-2-c0ce-9618",
       "previous": "d0769ffa-98bc-11ea-8d02-0242ac120007-2-9994-0723"
      },
      {
       "current": "35c581ba-55a3-11e7-b0b2-00163e9c0e35-2-f60b-133a",
       "next": "35c58340-55a3-11e7-b0b2-00163e9c0e35-2-c0ce-9618",
       "previous": "bc16cb02-dfce-11eb-b29f-0242ac120008"
      },
      {
       "current": "35c581ba-55a3-11e7-b0b2-00163e9c0e35-2-f60b-133a",
       "next": "35c58340-55a3-11e7-b0b2-00163e9c0e35-2-c0ce-9618",
       "previous": "7cf7d994-f4ea-11eb-b29f-0242ac120008"
      },
      {
       "current": "35c581ba-55a3-11e7-b0b2-00163e9c0e35-2-f60b-133a",
       "next": "35c58340-55a3-11e7-b0b2-00163e9c0e35-2-c0ce-9618",
       "previous": "204647a2-f4eb-11eb-b29f-0242ac120008"
      },
      {
       "current": "35c581ba-55a3-11e7-b0b2-00163e9c0e35-2-f60b-133a",
       "next": "35c58340-55a3-11e7-b0b2-00163e9c0e35-2-c0ce-9618",
       "previous": "798c29c4-9a06-11ec-a1da-0242ac120004"
      },
      {
       "current": "35c581ba-55a3-11e7-b0b2-00163e9c0e35-3-f60b-133a-40ef",
       "next": "35c58340-55a3-11e7-b0b2-00163e9c0e35-2-c0ce-9618",
       "previous": "204647a2-f4eb-11eb-b29f-0242ac120008"
      },
      {
       "current": "35c581ba-55a3-11e7-b0b2-00163e9c0e35-3-f60b-133a-40ef",
       "next": "35c58340-55a3-11e7-b0b2-00163e9c0e35-3-c0ce-9618-7032",
       "previous": "204647a2-f4eb-11eb-b29f-0242ac120008-1-10f9"
      },
      {
       "current": "35c581ba-55a3-11e7-b0b2-00163e9c0e35-3-f60b-133a-40ef",
       "next": "35c58340-55a3-11e7-b0b2-00163e9c0e35-3-c0ce-9618-7032",
       "previous": "3c6cb112-4bb2-11ee-89fa-0242ac120005"
      },
      {
       "current": "35c581ba-55a3-11e7-b0b2-00163e9c0e35-3-f60b-133a-40ef",
       "next": "35c58340-55a3-11e7-b0b2-00163e9c0e35-3-c0ce-9618-7032",
       "previous": "d619a970-6195-11ee-89fa-0242ac120005"
      },
      {
       "current": "35c581ba-55a3-11e7-b0b2-00163e9c0e35-3-f60b-133a-40ef",
       "next": "35c58340-55a3-11e7-b0b2-00163e9c0e35-3-c0ce-9618-7032",
       "previous": "d954180a-61bd-11ee-89fa-0242ac120005"
      },
      {
       "current": "35c581ba-55a3-11e7-b0b2-00163e9c0e35-3-f60b-133a-40ef",
       "next": "35c58340-55a3-11e7-b0b2-00163e9c0e35-3-c0ce-9618-7032",
       "previous": "0fca55a2-6254-11ee-89fa-0242ac120005"
      },
      {
       "current": "35c581ba-55a3-11e7-b0b2-00163e9c0e35-3-f60b-133a-40ef",
       "next": "35c58340-55a3-11e7-b0b2-00163e9c0e35-3-c0ce-9618-7032",
       "previous": "43709838-6251-11ee-89fa-0242ac120005"
      },
      {
       "current": "35c581ba-55a3-11e7-b0b2-00163e9c0e35-3-f60b-133a-40ef",
       "next": "35c58340-55a3-11e7-b0b2-00163e9c0e35-3-c0ce-9618-7032",
       "previous": "5dbaa7f2-7470-11ee-89fa-0242ac120005"
      },
      {
       "current": "35c581ba-55a3-11e7-b0b2-00163e9c0e35-3-f60b-133a-40ef",
       "next": "35c58340-55a3-11e7-b0b2-00163e9c0e35-3-c0ce-9618-7032",
       "previous": "56c248c6-7f9f-11ee-91d3-0242ac120006"
      },
      {
       "current": "35c581ba-55a3-11e7-b0b2-00163e9c0e35-4-f60b-133a-40ef-4453",
       "next": "35c58340-55a3-11e7-b0b2-00163e9c0e35-3-c0ce-9618-7032",
       "previous": "7213066e-7fb4-11ee-91d3-0242ac120006"
      },
      {
       "current": "35c581ba-55a3-11e7-b0b2-00163e9c0e35-5-f60b-133a-40ef-4453-fb8f",
       "next": "35c58340-55a3-11e7-b0b2-00163e9c0e35-4-c0ce-9618-7032-2059",
       "previous": "7213066e-7fb4-11ee-91d3-0242ac120006-1-089a"
      },
      {
       "current": "35c581ba-55a3-11e7-b0b2-00163e9c0e35-6-f60b-133a-40ef-4453-fb8f-772c",
       "next": "35c58340-55a3-11e7-b0b2-00163e9c0e35-5-c0ce-9618-7032-2059-1124",
       "previous": "7213066e-7fb4-11ee-91d3-0242ac120006-2-089a-90c9"
      },
      {
       "current": "35c581ba-55a3-11e7-b0b2-00163e9c0e35-7-f60b-133a-40ef-4453-fb8f-772c-4a01",
       "next": "35c58340-55a3-11e7-b0b2-00163e9c0e35-6-c0ce-9618-7032-2059-1124-0556",
       "previous": "7213066e-7fb4-11ee-91d3-0242ac120006-3-089a-90c9-2feb"
      },
      {
       "current": "35c581ba-55a3-11e7-b0b2-00163e9c0e35-8-f60b-133a-40ef-4453-fb8f-772c-4a01-c2d8",
       "next": "35c58340-55a3-11e7-b0b2-00163e9c0e35-7-c0ce-9618-7032-2059-1124-0556-ec78",
       "previous": "7213066e-7fb4-11ee-91d3-0242ac120006-4-089a-90c9-2feb-3a0d"
      }
     ],
     "next": "35c58340-55a3-11e7-b0b2-00163e9c0e35-8-c0ce-9618-7032-2059-1124-0556-ec78-b615",
     "previous": "7213066e-7fb4-11ee-91d3-0242ac120006-5-089a-90c9-2feb-3a0d-98d4"
    }
   },
   "source": [
    "# 後始末\n",
    "\n",
    "一時ディレクトリを削除する。"
   ]
  },
  {
   "cell_type": "code",
   "execution_count": null,
   "metadata": {
    "ExecuteTime": {
     "end_time": "2017-06-29T08:01:20.617274Z",
     "start_time": "2017-06-29T08:01:20.466671Z"
    },
    "lc_cell_meme": {
     "current": "35c58340-55a3-11e7-b0b2-00163e9c0e35-8-c0ce-9618-7032-2059-1124-0556-ec78-b615",
     "history": [
      {
       "current": "35c58340-55a3-11e7-b0b2-00163e9c0e35",
       "next": null,
       "previous": "35c581ba-55a3-11e7-b0b2-00163e9c0e35"
      },
      {
       "current": "35c58340-55a3-11e7-b0b2-00163e9c0e35-1-c0ce",
       "next": "c4bd8ce4-5749-11e7-b0b2-00163e9c0e35",
       "previous": "35c581ba-55a3-11e7-b0b2-00163e9c0e35"
      },
      {
       "current": "35c58340-55a3-11e7-b0b2-00163e9c0e35-2-c0ce-9618",
       "next": "c4bd8ce4-5749-11e7-b0b2-00163e9c0e35-1-6c35",
       "previous": "35c581ba-55a3-11e7-b0b2-00163e9c0e35-1-f60b"
      },
      {
       "current": "35c58340-55a3-11e7-b0b2-00163e9c0e35-3-c0ce-9618-7032",
       "next": "c4bd8ce4-5749-11e7-b0b2-00163e9c0e35-2-6c35-ebfb",
       "previous": "35c581ba-55a3-11e7-b0b2-00163e9c0e35-2-f60b-133a"
      },
      {
       "current": "35c58340-55a3-11e7-b0b2-00163e9c0e35-4-c0ce-9618-7032-2059",
       "next": "c4bd8ce4-5749-11e7-b0b2-00163e9c0e35-3-6c35-ebfb-793f",
       "previous": "35c581ba-55a3-11e7-b0b2-00163e9c0e35-3-f60b-133a-40ef"
      },
      {
       "current": "35c58340-55a3-11e7-b0b2-00163e9c0e35-5-c0ce-9618-7032-2059-1124",
       "next": "c4bd8ce4-5749-11e7-b0b2-00163e9c0e35-4-6c35-ebfb-793f-5262",
       "previous": "35c581ba-55a3-11e7-b0b2-00163e9c0e35-4-f60b-133a-40ef-4453"
      },
      {
       "current": "35c58340-55a3-11e7-b0b2-00163e9c0e35-6-c0ce-9618-7032-2059-1124-0556",
       "next": "c4bd8ce4-5749-11e7-b0b2-00163e9c0e35-5-6c35-ebfb-793f-5262-af7c",
       "previous": "35c581ba-55a3-11e7-b0b2-00163e9c0e35-5-f60b-133a-40ef-4453-fb8f"
      },
      {
       "current": "35c58340-55a3-11e7-b0b2-00163e9c0e35-7-c0ce-9618-7032-2059-1124-0556-ec78",
       "next": "c4bd8ce4-5749-11e7-b0b2-00163e9c0e35-6-6c35-ebfb-793f-5262-af7c-6194",
       "previous": "35c581ba-55a3-11e7-b0b2-00163e9c0e35-6-f60b-133a-40ef-4453-fb8f-772c"
      },
      {
       "current": "35c58340-55a3-11e7-b0b2-00163e9c0e35-8-c0ce-9618-7032-2059-1124-0556-ec78-b615",
       "next": "c4bd8ce4-5749-11e7-b0b2-00163e9c0e35-7-6c35-ebfb-793f-5262-af7c-6194-f5c8",
       "previous": "35c581ba-55a3-11e7-b0b2-00163e9c0e35-7-f60b-133a-40ef-4453-fb8f-772c-4a01"
      }
     ],
     "next": "c4bd8ce4-5749-11e7-b0b2-00163e9c0e35-8-6c35-ebfb-793f-5262-af7c-6194-f5c8-aba7",
     "previous": "35c581ba-55a3-11e7-b0b2-00163e9c0e35-8-f60b-133a-40ef-4453-fb8f-772c-4a01-c2d8"
    }
   },
   "outputs": [],
   "source": [
    "!rm -fr $temp_dir"
   ]
  },
  {
   "cell_type": "code",
   "execution_count": null,
   "metadata": {
    "lc_cell_meme": {
     "current": "c4bd8ce4-5749-11e7-b0b2-00163e9c0e35-8-6c35-ebfb-793f-5262-af7c-6194-f5c8-aba7",
     "history": [
      {
       "current": "c4bd8ce4-5749-11e7-b0b2-00163e9c0e35-1-6c35",
       "next": null,
       "previous": "35c58340-55a3-11e7-b0b2-00163e9c0e35"
      },
      {
       "current": "c4bd8ce4-5749-11e7-b0b2-00163e9c0e35-2-6c35-ebfb",
       "next": null,
       "previous": "35c58340-55a3-11e7-b0b2-00163e9c0e35-1-c0ce"
      },
      {
       "current": "c4bd8ce4-5749-11e7-b0b2-00163e9c0e35-3-6c35-ebfb-793f",
       "next": null,
       "previous": "35c58340-55a3-11e7-b0b2-00163e9c0e35-2-c0ce-9618"
      },
      {
       "current": "c4bd8ce4-5749-11e7-b0b2-00163e9c0e35-4-6c35-ebfb-793f-5262",
       "next": null,
       "previous": "35c58340-55a3-11e7-b0b2-00163e9c0e35-3-c0ce-9618-7032"
      },
      {
       "current": "c4bd8ce4-5749-11e7-b0b2-00163e9c0e35-5-6c35-ebfb-793f-5262-af7c",
       "next": null,
       "previous": "35c58340-55a3-11e7-b0b2-00163e9c0e35-4-c0ce-9618-7032-2059"
      },
      {
       "current": "c4bd8ce4-5749-11e7-b0b2-00163e9c0e35-6-6c35-ebfb-793f-5262-af7c-6194",
       "next": null,
       "previous": "35c58340-55a3-11e7-b0b2-00163e9c0e35-5-c0ce-9618-7032-2059-1124"
      },
      {
       "current": "c4bd8ce4-5749-11e7-b0b2-00163e9c0e35-7-6c35-ebfb-793f-5262-af7c-6194-f5c8",
       "next": null,
       "previous": "35c58340-55a3-11e7-b0b2-00163e9c0e35-6-c0ce-9618-7032-2059-1124-0556"
      },
      {
       "current": "c4bd8ce4-5749-11e7-b0b2-00163e9c0e35-8-6c35-ebfb-793f-5262-af7c-6194-f5c8-aba7",
       "next": null,
       "previous": "35c58340-55a3-11e7-b0b2-00163e9c0e35-7-c0ce-9618-7032-2059-1124-0556-ec78"
      }
     ],
     "next": null,
     "previous": "35c58340-55a3-11e7-b0b2-00163e9c0e35-8-c0ce-9618-7032-2059-1124-0556-ec78-b615"
    }
   },
   "outputs": [],
   "source": []
  }
 ],
 "metadata": {
  "kernelspec": {
   "display_name": "Python 3",
   "language": "python",
   "name": "python3"
  },
  "language_info": {
   "file_extension": ".py",
   "mimetype": "text/x-python",
   "name": "python",
   "nbconvert_exporter": "python",
   "pygments_lexer": "ipython3",
   "version": "3.10.4"
  },
  "lc_notebook_meme": {
   "current": "35c33086-55a3-11e7-b0b2-00163e9c0e35"
  },
  "toc": {
   "base_numbering": 1,
   "nav_menu": {
    "height": "484px",
    "width": "687px"
   },
   "number_sections": true,
   "sideBar": true,
   "skip_h1_title": false,
   "title_cell": "Table of Contents",
   "title_sidebar": "Contents",
   "toc_cell": false,
   "toc_position": {
    "height": "1156px",
    "left": "0px",
    "right": "1330px",
    "top": "106px",
    "width": "340.983px"
   },
   "toc_section_display": "block",
   "toc_window_display": true
  }
 },
 "nbformat": 4,
 "nbformat_minor": 1
}
