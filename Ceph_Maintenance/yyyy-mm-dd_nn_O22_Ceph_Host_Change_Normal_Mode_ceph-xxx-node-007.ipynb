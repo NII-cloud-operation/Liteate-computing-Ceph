{
 "cells": [
  {
   "cell_type": "markdown",
   "metadata": {
    "collapsed": true,
    "lc_cell_meme": {
     "current": "35c33414-55a3-11e7-b0b2-00163e9c0e35-6-1c66-a2f2-cee4-5240-8407-9056",
     "history": [
      {
       "current": "35c33414-55a3-11e7-b0b2-00163e9c0e35",
       "next": "35c33626-55a3-11e7-b0b2-00163e9c0e35",
       "previous": null
      },
      {
       "current": "35c33414-55a3-11e7-b0b2-00163e9c0e35",
       "next": "35c33626-55a3-11e7-b0b2-00163e9c0e35",
       "previous": null
      },
      {
       "current": "35c33414-55a3-11e7-b0b2-00163e9c0e35",
       "next": "35c33626-55a3-11e7-b0b2-00163e9c0e35",
       "previous": "0db87670-9586-11ea-8d02-0242ac120007"
      },
      {
       "current": "35c33414-55a3-11e7-b0b2-00163e9c0e35-1-1c66",
       "next": "35c337f2-55a3-11e7-b0b2-00163e9c0e35",
       "previous": null
      },
      {
       "current": "35c33414-55a3-11e7-b0b2-00163e9c0e35-2-1c66-a2f2",
       "next": "35c337f2-55a3-11e7-b0b2-00163e9c0e35-1-dc7a",
       "previous": null
      },
      {
       "current": "35c33414-55a3-11e7-b0b2-00163e9c0e35-2-1c66-a2f2",
       "next": "35c337f2-55a3-11e7-b0b2-00163e9c0e35-2-dc7a-5832",
       "previous": null
      },
      {
       "current": "35c33414-55a3-11e7-b0b2-00163e9c0e35-3-1c66-a2f2-cee4",
       "next": "37fd6298-56f9-11ec-a1da-0242ac120004-1-399a",
       "previous": null
      },
      {
       "current": "35c33414-55a3-11e7-b0b2-00163e9c0e35-4-1c66-a2f2-cee4-5240",
       "next": "37fd6298-56f9-11ec-a1da-0242ac120004-2-399a-26be",
       "previous": null
      },
      {
       "current": "35c33414-55a3-11e7-b0b2-00163e9c0e35-5-1c66-a2f2-cee4-5240-8407",
       "next": "37fd6298-56f9-11ec-a1da-0242ac120004-3-399a-26be-9132",
       "previous": null
      },
      {
       "current": "35c33414-55a3-11e7-b0b2-00163e9c0e35-6-1c66-a2f2-cee4-5240-8407-9056",
       "next": "37fd6298-56f9-11ec-a1da-0242ac120004-4-399a-26be-9132-367e",
       "previous": null
      }
     ],
     "next": "37fd6298-56f9-11ec-a1da-0242ac120004-5-399a-26be-9132-367e-d5bb",
     "previous": null
    }
   },
   "source": [
    "# Cephノード運用：Cephクラスタノードサービス再開<br>\n",
    "Cephクラスタノードをメンテナンスモードから復帰させ、ノード単位でのCephサービスを再開する。\n"
   ]
  },
  {
   "cell_type": "markdown",
   "metadata": {
    "lc_cell_meme": {
     "current": "37fd6298-56f9-11ec-a1da-0242ac120004-5-399a-26be-9132-367e-d5bb",
     "history": [
      {
       "current": "37fd6298-56f9-11ec-a1da-0242ac120004-1-399a",
       "next": "37fd65a4-56f9-11ec-a1da-0242ac120004",
       "previous": "35c337f2-55a3-11e7-b0b2-00163e9c0e35-1-dc7a"
      },
      {
       "current": "37fd6298-56f9-11ec-a1da-0242ac120004-1-399a",
       "next": "37fd65a4-56f9-11ec-a1da-0242ac120004-1-0c3c",
       "previous": "35c337f2-55a3-11e7-b0b2-00163e9c0e35-2-dc7a-5832"
      },
      {
       "current": "37fd6298-56f9-11ec-a1da-0242ac120004-2-399a-26be",
       "next": "37fd65a4-56f9-11ec-a1da-0242ac120004-1-0c3c",
       "previous": "35c33414-55a3-11e7-b0b2-00163e9c0e35-2-1c66-a2f2"
      },
      {
       "current": "37fd6298-56f9-11ec-a1da-0242ac120004-3-399a-26be-9132",
       "next": "37fd65a4-56f9-11ec-a1da-0242ac120004-2-0c3c-3567",
       "previous": "35c33414-55a3-11e7-b0b2-00163e9c0e35-3-1c66-a2f2-cee4"
      },
      {
       "current": "37fd6298-56f9-11ec-a1da-0242ac120004-4-399a-26be-9132-367e",
       "next": "37fd65a4-56f9-11ec-a1da-0242ac120004-3-0c3c-3567-82d3",
       "previous": "35c33414-55a3-11e7-b0b2-00163e9c0e35-4-1c66-a2f2-cee4-5240"
      },
      {
       "current": "37fd6298-56f9-11ec-a1da-0242ac120004-5-399a-26be-9132-367e-d5bb",
       "next": "37fd65a4-56f9-11ec-a1da-0242ac120004-4-0c3c-3567-82d3-2155",
       "previous": "35c33414-55a3-11e7-b0b2-00163e9c0e35-5-1c66-a2f2-cee4-5240-8407"
      }
     ],
     "next": "37fd65a4-56f9-11ec-a1da-0242ac120004-5-0c3c-3567-82d3-2155-f984",
     "previous": "35c33414-55a3-11e7-b0b2-00163e9c0e35-6-1c66-a2f2-cee4-5240-8407-9056"
    }
   },
   "source": [
    "# パラメータ定義"
   ]
  },
  {
   "cell_type": "markdown",
   "metadata": {
    "lc_cell_meme": {
     "current": "37fd65a4-56f9-11ec-a1da-0242ac120004-5-0c3c-3567-82d3-2155-f984",
     "history": [
      {
       "current": "37fd65a4-56f9-11ec-a1da-0242ac120004-1-0c3c",
       "next": "37fd681a-56f9-11ec-a1da-0242ac120004",
       "previous": "37fd6298-56f9-11ec-a1da-0242ac120004"
      },
      {
       "current": "37fd65a4-56f9-11ec-a1da-0242ac120004-2-0c3c-3567",
       "next": "37fd681a-56f9-11ec-a1da-0242ac120004-1-b4aa",
       "previous": "37fd6298-56f9-11ec-a1da-0242ac120004-1-399a"
      },
      {
       "current": "37fd65a4-56f9-11ec-a1da-0242ac120004-3-0c3c-3567-82d3",
       "next": "37fd681a-56f9-11ec-a1da-0242ac120004-2-b4aa-75c3",
       "previous": "37fd6298-56f9-11ec-a1da-0242ac120004-2-399a-26be"
      },
      {
       "current": "37fd65a4-56f9-11ec-a1da-0242ac120004-4-0c3c-3567-82d3-2155",
       "next": "37fd681a-56f9-11ec-a1da-0242ac120004-3-b4aa-75c3-80a9",
       "previous": "37fd6298-56f9-11ec-a1da-0242ac120004-3-399a-26be-9132"
      },
      {
       "current": "37fd65a4-56f9-11ec-a1da-0242ac120004-5-0c3c-3567-82d3-2155-f984",
       "next": "37fd681a-56f9-11ec-a1da-0242ac120004-4-b4aa-75c3-80a9-4905",
       "previous": "37fd6298-56f9-11ec-a1da-0242ac120004-4-399a-26be-9132-367e"
      }
     ],
     "next": "37fd681a-56f9-11ec-a1da-0242ac120004-5-b4aa-75c3-80a9-4905-e6a6",
     "previous": "37fd6298-56f9-11ec-a1da-0242ac120004-5-399a-26be-9132-367e-d5bb"
    }
   },
   "source": [
    "## パラメータファイル設定"
   ]
  },
  {
   "cell_type": "markdown",
   "metadata": {
    "lc_cell_meme": {
     "current": "37fd681a-56f9-11ec-a1da-0242ac120004-5-b4aa-75c3-80a9-4905-e6a6",
     "history": [
      {
       "current": "37fd681a-56f9-11ec-a1da-0242ac120004-1-b4aa",
       "next": "37fd6996-56f9-11ec-a1da-0242ac120004",
       "previous": "37fd65a4-56f9-11ec-a1da-0242ac120004"
      },
      {
       "current": "37fd681a-56f9-11ec-a1da-0242ac120004-2-b4aa-75c3",
       "next": "37fd6996-56f9-11ec-a1da-0242ac120004-1-d6f6",
       "previous": "37fd65a4-56f9-11ec-a1da-0242ac120004-1-0c3c"
      },
      {
       "current": "37fd681a-56f9-11ec-a1da-0242ac120004-3-b4aa-75c3-80a9",
       "next": "37fd6996-56f9-11ec-a1da-0242ac120004-2-d6f6-4fca",
       "previous": "37fd65a4-56f9-11ec-a1da-0242ac120004-2-0c3c-3567"
      },
      {
       "current": "37fd681a-56f9-11ec-a1da-0242ac120004-4-b4aa-75c3-80a9-4905",
       "next": "160294c2-2304-11ef-ad2f-0242ac120005",
       "previous": "37fd65a4-56f9-11ec-a1da-0242ac120004-3-0c3c-3567-82d3"
      },
      {
       "current": "37fd681a-56f9-11ec-a1da-0242ac120004-5-b4aa-75c3-80a9-4905-e6a6",
       "next": "160294c2-2304-11ef-ad2f-0242ac120005-1-7fd7",
       "previous": "37fd65a4-56f9-11ec-a1da-0242ac120004-4-0c3c-3567-82d3-2155"
      }
     ],
     "next": "160294c2-2304-11ef-ad2f-0242ac120005-2-7fd7-5963",
     "previous": "37fd65a4-56f9-11ec-a1da-0242ac120004-5-0c3c-3567-82d3-2155-f984"
    }
   },
   "source": [
    "Cephクラスタの定義ファイルを指定するため、<br>\n",
    "パラメータ定義格納ディレクトリを表示する。"
   ]
  },
  {
   "cell_type": "code",
   "execution_count": null,
   "metadata": {
    "lc_cell_meme": {
     "current": "160294c2-2304-11ef-ad2f-0242ac120005-2-7fd7-5963",
     "history": [
      {
       "current": "160294c2-2304-11ef-ad2f-0242ac120005-1-7fd7",
       "next": "1602958a-2304-11ef-ad2f-0242ac120005",
       "previous": "37fd681a-56f9-11ec-a1da-0242ac120004-3-b4aa-75c3-80a9"
      },
      {
       "current": "160294c2-2304-11ef-ad2f-0242ac120005-2-7fd7-5963",
       "next": "1602958a-2304-11ef-ad2f-0242ac120005-1-fff6",
       "previous": "37fd681a-56f9-11ec-a1da-0242ac120004-4-b4aa-75c3-80a9-4905"
      }
     ],
     "next": "1602958a-2304-11ef-ad2f-0242ac120005-2-fff6-1aad",
     "previous": "37fd681a-56f9-11ec-a1da-0242ac120004-5-b4aa-75c3-80a9-4905-e6a6"
    }
   },
   "outputs": [],
   "source": [
    "!ls -p ~/notebooks/share/ | grep \"/$\""
   ]
  },
  {
   "cell_type": "code",
   "execution_count": null,
   "metadata": {
    "lc_cell_meme": {
     "current": "1602958a-2304-11ef-ad2f-0242ac120005-2-fff6-1aad",
     "history": [
      {
       "current": "1602958a-2304-11ef-ad2f-0242ac120005-1-fff6",
       "next": "160295bc-2304-11ef-ad2f-0242ac120005",
       "previous": "160294c2-2304-11ef-ad2f-0242ac120005"
      },
      {
       "current": "1602958a-2304-11ef-ad2f-0242ac120005-2-fff6-1aad",
       "next": "160295bc-2304-11ef-ad2f-0242ac120005-1-710f",
       "previous": "160294c2-2304-11ef-ad2f-0242ac120005-1-7fd7"
      }
     ],
     "next": "160295bc-2304-11ef-ad2f-0242ac120005-2-710f-d712",
     "previous": "160294c2-2304-11ef-ad2f-0242ac120005-2-7fd7-5963"
    }
   },
   "outputs": [],
   "source": [
    "!ls -p ~/notebooks/share/configuration"
   ]
  },
  {
   "cell_type": "code",
   "execution_count": null,
   "metadata": {
    "lc_cell_meme": {
     "current": "160295bc-2304-11ef-ad2f-0242ac120005-2-710f-d712",
     "history": [
      {
       "current": "160295bc-2304-11ef-ad2f-0242ac120005-1-710f",
       "next": "160295e4-2304-11ef-ad2f-0242ac120005",
       "previous": "1602958a-2304-11ef-ad2f-0242ac120005"
      },
      {
       "current": "160295bc-2304-11ef-ad2f-0242ac120005-2-710f-d712",
       "next": "160295e4-2304-11ef-ad2f-0242ac120005-1-7307",
       "previous": "1602958a-2304-11ef-ad2f-0242ac120005-1-fff6"
      }
     ],
     "next": "160295e4-2304-11ef-ad2f-0242ac120005-2-7307-b093",
     "previous": "1602958a-2304-11ef-ad2f-0242ac120005-2-fff6-1aad"
    }
   },
   "outputs": [],
   "source": [
    "!ls -p ~/notebooks/share/configuration/ceph"
   ]
  },
  {
   "cell_type": "code",
   "execution_count": null,
   "metadata": {
    "lc_cell_meme": {
     "current": "160295e4-2304-11ef-ad2f-0242ac120005-2-7307-b093",
     "history": [
      {
       "current": "160295e4-2304-11ef-ad2f-0242ac120005-1-7307",
       "next": "1602960c-2304-11ef-ad2f-0242ac120005",
       "previous": "160295bc-2304-11ef-ad2f-0242ac120005"
      },
      {
       "current": "160295e4-2304-11ef-ad2f-0242ac120005-2-7307-b093",
       "next": "1602960c-2304-11ef-ad2f-0242ac120005-1-c86e",
       "previous": "160295bc-2304-11ef-ad2f-0242ac120005-1-710f"
      }
     ],
     "next": "1602960c-2304-11ef-ad2f-0242ac120005-2-c86e-e1b2",
     "previous": "160295bc-2304-11ef-ad2f-0242ac120005-2-710f-d712"
    }
   },
   "outputs": [],
   "source": [
    "import sys, os.path, importlib, json, yaml\n",
    "\n",
    "config_file_name = \"ceph_admin_vm.yml\"\n",
    "config_file_path = os.path.expanduser(\"~/notebooks/share/configuration/ceph/{}\".format(config_file_name))\n",
    "with open(config_file_path) as f:\n",
    "    admin_params = yaml.safe_load(f)\n",
    "admin_params"
   ]
  },
  {
   "cell_type": "code",
   "execution_count": null,
   "metadata": {
    "lc_cell_meme": {
     "current": "1602960c-2304-11ef-ad2f-0242ac120005-2-c86e-e1b2",
     "history": [
      {
       "current": "1602960c-2304-11ef-ad2f-0242ac120005-1-c86e",
       "next": "1602962a-2304-11ef-ad2f-0242ac120005",
       "previous": "160295e4-2304-11ef-ad2f-0242ac120005"
      },
      {
       "current": "1602960c-2304-11ef-ad2f-0242ac120005-2-c86e-e1b2",
       "next": "1602962a-2304-11ef-ad2f-0242ac120005-1-f9b4",
       "previous": "160295e4-2304-11ef-ad2f-0242ac120005-1-7307"
      }
     ],
     "next": "1602962a-2304-11ef-ad2f-0242ac120005-2-f9b4-5b11",
     "previous": "160295e4-2304-11ef-ad2f-0242ac120005-2-7307-b093"
    }
   },
   "outputs": [],
   "source": [
    "target_vm_name = 'xxx-ceph-admin1'\n",
    "admin_patam = admin_params[target_vm_name]\n",
    "admin_patam"
   ]
  },
  {
   "cell_type": "code",
   "execution_count": null,
   "metadata": {
    "lc_cell_meme": {
     "current": "1602962a-2304-11ef-ad2f-0242ac120005-2-f9b4-5b11",
     "history": [
      {
       "current": "1602962a-2304-11ef-ad2f-0242ac120005-1-f9b4",
       "next": "16029648-2304-11ef-ad2f-0242ac120005",
       "previous": "1602960c-2304-11ef-ad2f-0242ac120005"
      },
      {
       "current": "1602962a-2304-11ef-ad2f-0242ac120005-2-f9b4-5b11",
       "next": "16029648-2304-11ef-ad2f-0242ac120005-1-220a",
       "previous": "1602960c-2304-11ef-ad2f-0242ac120005-1-c86e"
      }
     ],
     "next": "16029648-2304-11ef-ad2f-0242ac120005-2-220a-6e54",
     "previous": "1602960c-2304-11ef-ad2f-0242ac120005-2-c86e-e1b2"
    }
   },
   "outputs": [],
   "source": [
    "ceph_admin_ip = admin_patam['network']['provisioning']['ip']"
   ]
  },
  {
   "cell_type": "code",
   "execution_count": null,
   "metadata": {
    "lc_cell_meme": {
     "current": "16029648-2304-11ef-ad2f-0242ac120005-2-220a-6e54",
     "history": [
      {
       "current": "16029648-2304-11ef-ad2f-0242ac120005-1-220a",
       "next": "16029670-2304-11ef-ad2f-0242ac120005",
       "previous": "1602962a-2304-11ef-ad2f-0242ac120005"
      },
      {
       "current": "16029648-2304-11ef-ad2f-0242ac120005-2-220a-6e54",
       "next": "16029670-2304-11ef-ad2f-0242ac120005-1-9be3",
       "previous": "1602962a-2304-11ef-ad2f-0242ac120005-1-f9b4"
      }
     ],
     "next": "16029670-2304-11ef-ad2f-0242ac120005-2-9be3-5bcb",
     "previous": "1602962a-2304-11ef-ad2f-0242ac120005-2-f9b4-5b11"
    }
   },
   "outputs": [],
   "source": [
    "import sys, os.path, importlib, json, yaml\n",
    "\n",
    "config_file_name = \"xxx-openstack-parameter.yml\"\n",
    "config_file_path = os.path.expanduser(\"~/notebooks/share/configuration/{}\".format(config_file_name))\n",
    "with open(config_file_path) as f:\n",
    "    params = yaml.safe_load(f)\n",
    "params"
   ]
  },
  {
   "cell_type": "code",
   "execution_count": null,
   "metadata": {
    "lc_cell_meme": {
     "current": "16029670-2304-11ef-ad2f-0242ac120005-2-9be3-5bcb",
     "history": [
      {
       "current": "16029670-2304-11ef-ad2f-0242ac120005-1-9be3",
       "next": "1602968e-2304-11ef-ad2f-0242ac120005",
       "previous": "16029648-2304-11ef-ad2f-0242ac120005"
      },
      {
       "current": "16029670-2304-11ef-ad2f-0242ac120005-2-9be3-5bcb",
       "next": "1602968e-2304-11ef-ad2f-0242ac120005-1-028b",
       "previous": "16029648-2304-11ef-ad2f-0242ac120005-1-220a"
      }
     ],
     "next": "1602968e-2304-11ef-ad2f-0242ac120005-2-028b-da84",
     "previous": "16029648-2304-11ef-ad2f-0242ac120005-2-220a-6e54"
    }
   },
   "outputs": [],
   "source": [
    "repo_server = params['repository']['addresses']['service_operation']\n",
    "repo_server"
   ]
  },
  {
   "cell_type": "code",
   "execution_count": null,
   "metadata": {
    "lc_cell_meme": {
     "current": "1602968e-2304-11ef-ad2f-0242ac120005-2-028b-da84",
     "history": [
      {
       "current": "1602968e-2304-11ef-ad2f-0242ac120005",
       "next": "160296b6-2304-11ef-ad2f-0242ac120005",
       "previous": "16029670-2304-11ef-ad2f-0242ac120005"
      },
      {
       "current": "1602968e-2304-11ef-ad2f-0242ac120005-1-028b",
       "next": "37fd7fe4-56f9-11ec-a1da-0242ac120004-4-e08c-554e-4ba0-a701",
       "previous": "16029670-2304-11ef-ad2f-0242ac120005"
      },
      {
       "current": "1602968e-2304-11ef-ad2f-0242ac120005-2-028b-da84",
       "next": "37fd7fe4-56f9-11ec-a1da-0242ac120004-5-e08c-554e-4ba0-a701-9137",
       "previous": "16029670-2304-11ef-ad2f-0242ac120005-1-9be3"
      }
     ],
     "next": "37fd7fe4-56f9-11ec-a1da-0242ac120004-6-e08c-554e-4ba0-a701-9137-9992",
     "previous": "16029670-2304-11ef-ad2f-0242ac120005-2-9be3-5bcb"
    }
   },
   "outputs": [],
   "source": [
    "provisioning_vip = params['openstack']['provisioning_vip']\n",
    "provisioning_vip"
   ]
  },
  {
   "cell_type": "markdown",
   "metadata": {
    "heading_collapsed": true,
    "lc_cell_meme": {
     "current": "37fd7fe4-56f9-11ec-a1da-0242ac120004-6-e08c-554e-4ba0-a701-9137-9992",
     "history": [
      {
       "current": "37fd7fe4-56f9-11ec-a1da-0242ac120004-1-e08c",
       "next": "37fd8138-56f9-11ec-a1da-0242ac120004",
       "previous": "37fd7e90-56f9-11ec-a1da-0242ac120004"
      },
      {
       "current": "37fd7fe4-56f9-11ec-a1da-0242ac120004-2-e08c-554e",
       "next": "7f8980ba-56f9-11ec-a1da-0242ac120004",
       "previous": "37fd7e90-56f9-11ec-a1da-0242ac120004"
      },
      {
       "current": "37fd7fe4-56f9-11ec-a1da-0242ac120004-3-e08c-554e-4ba0",
       "next": "7f8980ba-56f9-11ec-a1da-0242ac120004-1-eb32",
       "previous": "37fd7e90-56f9-11ec-a1da-0242ac120004-1-007d"
      },
      {
       "current": "37fd7fe4-56f9-11ec-a1da-0242ac120004-4-e08c-554e-4ba0-a701",
       "next": "7f8980ba-56f9-11ec-a1da-0242ac120004-2-eb32-aac6",
       "previous": "37fd7e90-56f9-11ec-a1da-0242ac120004-2-007d-9c16"
      },
      {
       "current": "37fd7fe4-56f9-11ec-a1da-0242ac120004-4-e08c-554e-4ba0-a701",
       "next": "7f8980ba-56f9-11ec-a1da-0242ac120004-3-eb32-aac6-cc82",
       "previous": "160296b6-2304-11ef-ad2f-0242ac120005"
      },
      {
       "current": "37fd7fe4-56f9-11ec-a1da-0242ac120004-5-e08c-554e-4ba0-a701-9137",
       "next": "7f8980ba-56f9-11ec-a1da-0242ac120004-3-eb32-aac6-cc82",
       "previous": "1602968e-2304-11ef-ad2f-0242ac120005"
      },
      {
       "current": "37fd7fe4-56f9-11ec-a1da-0242ac120004-6-e08c-554e-4ba0-a701-9137-9992",
       "next": "7f8980ba-56f9-11ec-a1da-0242ac120004-4-eb32-aac6-cc82-8d78",
       "previous": "1602968e-2304-11ef-ad2f-0242ac120005-1-028b"
      }
     ],
     "next": "7f8980ba-56f9-11ec-a1da-0242ac120004-5-eb32-aac6-cc82-8d78-8ab9",
     "previous": "1602968e-2304-11ef-ad2f-0242ac120005-2-028b-da84"
    }
   },
   "source": [
    "## CephノードとストレージセグメントIPアドレス対応表の読み込み"
   ]
  },
  {
   "cell_type": "code",
   "execution_count": null,
   "metadata": {
    "hidden": true,
    "lc_cell_meme": {
     "current": "7f8980ba-56f9-11ec-a1da-0242ac120004-5-eb32-aac6-cc82-8d78-8ab9",
     "history": [
      {
       "current": "7f8980ba-56f9-11ec-a1da-0242ac120004-1-eb32",
       "next": "7f898358-56f9-11ec-a1da-0242ac120004",
       "previous": "37fd7fe4-56f9-11ec-a1da-0242ac120004-1-e08c"
      },
      {
       "current": "7f8980ba-56f9-11ec-a1da-0242ac120004-1-eb32",
       "next": "7f898358-56f9-11ec-a1da-0242ac120004-1-9fd7",
       "previous": "37fd7fe4-56f9-11ec-a1da-0242ac120004-2-e08c-554e"
      },
      {
       "current": "7f8980ba-56f9-11ec-a1da-0242ac120004-2-eb32-aac6",
       "next": "1da70ed8-6f22-11ee-89fa-0242ac120005",
       "previous": "37fd7fe4-56f9-11ec-a1da-0242ac120004-2-e08c-554e"
      },
      {
       "current": "7f8980ba-56f9-11ec-a1da-0242ac120004-3-eb32-aac6-cc82",
       "next": "1da70ed8-6f22-11ee-89fa-0242ac120005-1-d425",
       "previous": "37fd7fe4-56f9-11ec-a1da-0242ac120004-3-e08c-554e-4ba0"
      },
      {
       "current": "7f8980ba-56f9-11ec-a1da-0242ac120004-4-eb32-aac6-cc82-8d78",
       "next": "652daa0a-6f22-11ee-89fa-0242ac120005-2-0dfb-9911",
       "previous": "37fd7fe4-56f9-11ec-a1da-0242ac120004-4-e08c-554e-4ba0-a701"
      },
      {
       "current": "7f8980ba-56f9-11ec-a1da-0242ac120004-5-eb32-aac6-cc82-8d78-8ab9",
       "next": "652daa0a-6f22-11ee-89fa-0242ac120005-3-0dfb-9911-ebc0",
       "previous": "37fd7fe4-56f9-11ec-a1da-0242ac120004-5-e08c-554e-4ba0-a701-9137"
      }
     ],
     "next": "652daa0a-6f22-11ee-89fa-0242ac120005-4-0dfb-9911-ebc0-9690",
     "previous": "37fd7fe4-56f9-11ec-a1da-0242ac120004-6-e08c-554e-4ba0-a701-9137-9992"
    },
    "scrolled": true
   },
   "outputs": [],
   "source": [
    "import os\n",
    "import csv\n",
    "import pandas as pd\n",
    "\n",
    "instance_ip_csv_path =  os.environ['HOME'] + \"/notebooks/share/configuration/ceph/ceph_instance_ip.csv\"\n",
    "instance_ip_list = []\n",
    "instance_ip_map = {}\n",
    "\n",
    "with open(instance_ip_csv_path, 'r') as path_csv:\n",
    "    reader = csv.DictReader(path_csv)\n",
    "    \n",
    "    for record in reader:\n",
    "        instance_ip_list.append(record)\n",
    "        instance_ip_map[record['instance_name']] = record\n",
    "\n",
    "pd.DataFrame(instance_ip_list)"
   ]
  },
  {
   "cell_type": "markdown",
   "metadata": {
    "heading_collapsed": true,
    "lc_cell_meme": {
     "current": "652daa0a-6f22-11ee-89fa-0242ac120005-4-0dfb-9911-ebc0-9690",
     "history": [
      {
       "current": "652daa0a-6f22-11ee-89fa-0242ac120005-1-0dfb",
       "next": "652dab5e-6f22-11ee-89fa-0242ac120005",
       "previous": "7f898358-56f9-11ec-a1da-0242ac120004-1-9fd7"
      },
      {
       "current": "652daa0a-6f22-11ee-89fa-0242ac120005-2-0dfb-9911",
       "next": "652dab5e-6f22-11ee-89fa-0242ac120005-1-98d4",
       "previous": "7f898358-56f9-11ec-a1da-0242ac120004-2-9fd7-3fe7"
      },
      {
       "current": "652daa0a-6f22-11ee-89fa-0242ac120005-3-0dfb-9911-ebc0",
       "next": "652dab5e-6f22-11ee-89fa-0242ac120005-2-98d4-ef56",
       "previous": "7f8980ba-56f9-11ec-a1da-0242ac120004-3-eb32-aac6-cc82"
      },
      {
       "current": "652daa0a-6f22-11ee-89fa-0242ac120005-4-0dfb-9911-ebc0-9690",
       "next": "652dab5e-6f22-11ee-89fa-0242ac120005-3-98d4-ef56-f969",
       "previous": "7f8980ba-56f9-11ec-a1da-0242ac120004-4-eb32-aac6-cc82-8d78"
      }
     ],
     "next": "652dab5e-6f22-11ee-89fa-0242ac120005-4-98d4-ef56-f969-c9c4",
     "previous": "7f8980ba-56f9-11ec-a1da-0242ac120004-5-eb32-aac6-cc82-8d78-8ab9"
    }
   },
   "source": [
    "## 作業用ディレクトリを作成する"
   ]
  },
  {
   "cell_type": "code",
   "execution_count": null,
   "metadata": {
    "hidden": true,
    "lc_cell_meme": {
     "current": "652dab5e-6f22-11ee-89fa-0242ac120005-4-98d4-ef56-f969-c9c4",
     "history": [
      {
       "current": "652dab5e-6f22-11ee-89fa-0242ac120005-1-98d4",
       "next": "652dabea-6f22-11ee-89fa-0242ac120005",
       "previous": "652daa0a-6f22-11ee-89fa-0242ac120005"
      },
      {
       "current": "652dab5e-6f22-11ee-89fa-0242ac120005-2-98d4-ef56",
       "next": "652dabea-6f22-11ee-89fa-0242ac120005-1-d721",
       "previous": "652daa0a-6f22-11ee-89fa-0242ac120005-1-0dfb"
      },
      {
       "current": "652dab5e-6f22-11ee-89fa-0242ac120005-3-98d4-ef56-f969",
       "next": "652dabea-6f22-11ee-89fa-0242ac120005-2-d721-10e5",
       "previous": "652daa0a-6f22-11ee-89fa-0242ac120005-2-0dfb-9911"
      },
      {
       "current": "652dab5e-6f22-11ee-89fa-0242ac120005-4-98d4-ef56-f969-c9c4",
       "next": "652dabea-6f22-11ee-89fa-0242ac120005-3-d721-10e5-5cb8",
       "previous": "652daa0a-6f22-11ee-89fa-0242ac120005-3-0dfb-9911-ebc0"
      }
     ],
     "next": "652dabea-6f22-11ee-89fa-0242ac120005-4-d721-10e5-5cb8-f6b7",
     "previous": "652daa0a-6f22-11ee-89fa-0242ac120005-4-0dfb-9911-ebc0-9690"
    }
   },
   "outputs": [],
   "source": [
    "import os,tempfile\n",
    "temp_dir = tempfile.mkdtemp()\n",
    "print (temp_dir)"
   ]
  },
  {
   "cell_type": "markdown",
   "metadata": {
    "heading_collapsed": true,
    "lc_cell_meme": {
     "current": "652dabea-6f22-11ee-89fa-0242ac120005-4-d721-10e5-5cb8-f6b7",
     "history": [
      {
       "current": "652dabea-6f22-11ee-89fa-0242ac120005-1-d721",
       "next": "652dac44-6f22-11ee-89fa-0242ac120005",
       "previous": "652dab5e-6f22-11ee-89fa-0242ac120005"
      },
      {
       "current": "652dabea-6f22-11ee-89fa-0242ac120005-2-d721-10e5",
       "next": "652dac44-6f22-11ee-89fa-0242ac120005-1-7510",
       "previous": "652dab5e-6f22-11ee-89fa-0242ac120005-1-98d4"
      },
      {
       "current": "652dabea-6f22-11ee-89fa-0242ac120005-3-d721-10e5-5cb8",
       "next": "652dac44-6f22-11ee-89fa-0242ac120005-2-7510-6470",
       "previous": "652dab5e-6f22-11ee-89fa-0242ac120005-2-98d4-ef56"
      },
      {
       "current": "652dabea-6f22-11ee-89fa-0242ac120005-4-d721-10e5-5cb8-f6b7",
       "next": "652dac44-6f22-11ee-89fa-0242ac120005-3-7510-6470-3194",
       "previous": "652dab5e-6f22-11ee-89fa-0242ac120005-3-98d4-ef56-f969"
      }
     ],
     "next": "652dac44-6f22-11ee-89fa-0242ac120005-4-7510-6470-3194-e22c",
     "previous": "652dab5e-6f22-11ee-89fa-0242ac120005-4-98d4-ef56-f969-c9c4"
    }
   },
   "source": [
    "## AnsibleのInventoryファイルを作業用ディレクトリへ作成する"
   ]
  },
  {
   "cell_type": "code",
   "execution_count": null,
   "metadata": {
    "hidden": true,
    "lc_cell_meme": {
     "current": "652dac44-6f22-11ee-89fa-0242ac120005-4-7510-6470-3194-e22c",
     "history": [
      {
       "current": "652dac44-6f22-11ee-89fa-0242ac120005-1-7510",
       "next": "652daca8-6f22-11ee-89fa-0242ac120005",
       "previous": "652dabea-6f22-11ee-89fa-0242ac120005"
      },
      {
       "current": "652dac44-6f22-11ee-89fa-0242ac120005-2-7510-6470",
       "next": "652daca8-6f22-11ee-89fa-0242ac120005-1-a236",
       "previous": "652dabea-6f22-11ee-89fa-0242ac120005-1-d721"
      },
      {
       "current": "652dac44-6f22-11ee-89fa-0242ac120005-3-7510-6470-3194",
       "next": "652daca8-6f22-11ee-89fa-0242ac120005-2-a236-d37e",
       "previous": "652dabea-6f22-11ee-89fa-0242ac120005-2-d721-10e5"
      },
      {
       "current": "652dac44-6f22-11ee-89fa-0242ac120005-4-7510-6470-3194-e22c",
       "next": "652daca8-6f22-11ee-89fa-0242ac120005-3-a236-d37e-56e2",
       "previous": "652dabea-6f22-11ee-89fa-0242ac120005-3-d721-10e5-5cb8"
      }
     ],
     "next": "652daca8-6f22-11ee-89fa-0242ac120005-4-a236-d37e-56e2-bcb1",
     "previous": "652dabea-6f22-11ee-89fa-0242ac120005-4-d721-10e5-5cb8-f6b7"
    }
   },
   "outputs": [],
   "source": [
    "import os\n",
    "\n",
    "with open( os.path.join(temp_dir, \"hosts\"), 'w') as f:\n",
    "    f.write('''[openstack_ctl]\n",
    "{openstack_cmn}\n",
    "'''.format(openstack_cmn = provisioning_vip))\n",
    "\n",
    "hosts = temp_dir + \"/hosts\"\n",
    "!cat $hosts"
   ]
  },
  {
   "cell_type": "code",
   "execution_count": null,
   "metadata": {
    "hidden": true,
    "lc_cell_meme": {
     "current": "652daca8-6f22-11ee-89fa-0242ac120005-4-a236-d37e-56e2-bcb1",
     "history": [
      {
       "current": "652daca8-6f22-11ee-89fa-0242ac120005-1-a236",
       "next": "652dacf8-6f22-11ee-89fa-0242ac120005",
       "previous": "652dac44-6f22-11ee-89fa-0242ac120005"
      },
      {
       "current": "652daca8-6f22-11ee-89fa-0242ac120005-2-a236-d37e",
       "next": "652dacf8-6f22-11ee-89fa-0242ac120005-1-8fe9",
       "previous": "652dac44-6f22-11ee-89fa-0242ac120005-1-7510"
      },
      {
       "current": "652daca8-6f22-11ee-89fa-0242ac120005-3-a236-d37e-56e2",
       "next": "652dacf8-6f22-11ee-89fa-0242ac120005-2-8fe9-d48c",
       "previous": "652dac44-6f22-11ee-89fa-0242ac120005-2-7510-6470"
      },
      {
       "current": "652daca8-6f22-11ee-89fa-0242ac120005-4-a236-d37e-56e2-bcb1",
       "next": "652dacf8-6f22-11ee-89fa-0242ac120005-3-8fe9-d48c-3331",
       "previous": "652dac44-6f22-11ee-89fa-0242ac120005-3-7510-6470-3194"
      }
     ],
     "next": "652dacf8-6f22-11ee-89fa-0242ac120005-4-8fe9-d48c-3331-724f",
     "previous": "652dac44-6f22-11ee-89fa-0242ac120005-4-7510-6470-3194-e22c"
    }
   },
   "outputs": [],
   "source": [
    "%env ANSIBLE_INVENTORY={hosts}"
   ]
  },
  {
   "cell_type": "markdown",
   "metadata": {
    "hidden": true,
    "lc_cell_meme": {
     "current": "652dacf8-6f22-11ee-89fa-0242ac120005-4-8fe9-d48c-3331-724f",
     "history": [
      {
       "current": "652dacf8-6f22-11ee-89fa-0242ac120005-1-8fe9",
       "next": "652dade8-6f22-11ee-89fa-0242ac120005",
       "previous": "652daca8-6f22-11ee-89fa-0242ac120005"
      },
      {
       "current": "652dacf8-6f22-11ee-89fa-0242ac120005-2-8fe9-d48c",
       "next": "652dade8-6f22-11ee-89fa-0242ac120005-1-9a76",
       "previous": "652daca8-6f22-11ee-89fa-0242ac120005-1-a236"
      },
      {
       "current": "652dacf8-6f22-11ee-89fa-0242ac120005-3-8fe9-d48c-3331",
       "next": "652dade8-6f22-11ee-89fa-0242ac120005-2-9a76-38e3",
       "previous": "652daca8-6f22-11ee-89fa-0242ac120005-2-a236-d37e"
      },
      {
       "current": "652dacf8-6f22-11ee-89fa-0242ac120005-4-8fe9-d48c-3331-724f",
       "next": "652dade8-6f22-11ee-89fa-0242ac120005-3-9a76-38e3-ea58",
       "previous": "652daca8-6f22-11ee-89fa-0242ac120005-3-a236-d37e-56e2"
      }
     ],
     "next": "652dade8-6f22-11ee-89fa-0242ac120005-4-9a76-38e3-ea58-12c2",
     "previous": "652daca8-6f22-11ee-89fa-0242ac120005-4-a236-d37e-56e2-bcb1"
    }
   },
   "source": [
    "疎通確認"
   ]
  },
  {
   "cell_type": "code",
   "execution_count": null,
   "metadata": {
    "hidden": true,
    "lc_cell_meme": {
     "current": "652dade8-6f22-11ee-89fa-0242ac120005-4-9a76-38e3-ea58-12c2",
     "history": [
      {
       "current": "652dade8-6f22-11ee-89fa-0242ac120005-1-9a76",
       "next": "652dae42-6f22-11ee-89fa-0242ac120005",
       "previous": "652dacf8-6f22-11ee-89fa-0242ac120005"
      },
      {
       "current": "652dade8-6f22-11ee-89fa-0242ac120005-2-9a76-38e3",
       "next": "652dae42-6f22-11ee-89fa-0242ac120005-1-f95d",
       "previous": "652dacf8-6f22-11ee-89fa-0242ac120005-1-8fe9"
      },
      {
       "current": "652dade8-6f22-11ee-89fa-0242ac120005-3-9a76-38e3-ea58",
       "next": "652dae42-6f22-11ee-89fa-0242ac120005-2-f95d-c65a",
       "previous": "652dacf8-6f22-11ee-89fa-0242ac120005-2-8fe9-d48c"
      },
      {
       "current": "652dade8-6f22-11ee-89fa-0242ac120005-4-9a76-38e3-ea58-12c2",
       "next": "652dae42-6f22-11ee-89fa-0242ac120005-3-f95d-c65a-cfa7",
       "previous": "652dacf8-6f22-11ee-89fa-0242ac120005-3-8fe9-d48c-3331"
      }
     ],
     "next": "652dae42-6f22-11ee-89fa-0242ac120005-4-f95d-c65a-cfa7-a70f",
     "previous": "652dacf8-6f22-11ee-89fa-0242ac120005-4-8fe9-d48c-3331-724f"
    }
   },
   "outputs": [],
   "source": [
    "!ansible -m ping openstack_ctl"
   ]
  },
  {
   "cell_type": "code",
   "execution_count": null,
   "metadata": {
    "hidden": true,
    "lc_cell_meme": {
     "current": "652dae42-6f22-11ee-89fa-0242ac120005-4-f95d-c65a-cfa7-a70f",
     "history": [
      {
       "current": "652dae42-6f22-11ee-89fa-0242ac120005-1-f95d",
       "next": "652dae92-6f22-11ee-89fa-0242ac120005",
       "previous": "652dade8-6f22-11ee-89fa-0242ac120005"
      },
      {
       "current": "652dae42-6f22-11ee-89fa-0242ac120005-2-f95d-c65a",
       "next": "652dae92-6f22-11ee-89fa-0242ac120005-1-84d8",
       "previous": "652dade8-6f22-11ee-89fa-0242ac120005-1-9a76"
      },
      {
       "current": "652dae42-6f22-11ee-89fa-0242ac120005-3-f95d-c65a-cfa7",
       "next": "652dae92-6f22-11ee-89fa-0242ac120005-2-84d8-883e",
       "previous": "652dade8-6f22-11ee-89fa-0242ac120005-2-9a76-38e3"
      },
      {
       "current": "652dae42-6f22-11ee-89fa-0242ac120005-4-f95d-c65a-cfa7-a70f",
       "next": "652dae92-6f22-11ee-89fa-0242ac120005-3-84d8-883e-3fbb",
       "previous": "652dade8-6f22-11ee-89fa-0242ac120005-3-9a76-38e3-ea58"
      }
     ],
     "next": "652dae92-6f22-11ee-89fa-0242ac120005-4-84d8-883e-3fbb-1f95",
     "previous": "652dade8-6f22-11ee-89fa-0242ac120005-4-9a76-38e3-ea58-12c2"
    }
   },
   "outputs": [],
   "source": [
    "!ansible -a 'hostname' openstack_ctl"
   ]
  },
  {
   "cell_type": "markdown",
   "metadata": {
    "lc_cell_meme": {
     "current": "652dae92-6f22-11ee-89fa-0242ac120005-4-84d8-883e-3fbb-1f95",
     "history": [
      {
       "current": "652dae92-6f22-11ee-89fa-0242ac120005-1-84d8",
       "next": "652daeec-6f22-11ee-89fa-0242ac120005",
       "previous": "652dae42-6f22-11ee-89fa-0242ac120005"
      },
      {
       "current": "652dae92-6f22-11ee-89fa-0242ac120005-2-84d8-883e",
       "next": "652daeec-6f22-11ee-89fa-0242ac120005-1-a276",
       "previous": "652dae42-6f22-11ee-89fa-0242ac120005-1-f95d"
      },
      {
       "current": "652dae92-6f22-11ee-89fa-0242ac120005-3-84d8-883e-3fbb",
       "next": "652daeec-6f22-11ee-89fa-0242ac120005-2-a276-34e0",
       "previous": "652dae42-6f22-11ee-89fa-0242ac120005-2-f95d-c65a"
      },
      {
       "current": "652dae92-6f22-11ee-89fa-0242ac120005-4-84d8-883e-3fbb-1f95",
       "next": "652daeec-6f22-11ee-89fa-0242ac120005-3-a276-34e0-d768",
       "previous": "652dae42-6f22-11ee-89fa-0242ac120005-3-f95d-c65a-cfa7"
      }
     ],
     "next": "652daeec-6f22-11ee-89fa-0242ac120005-4-a276-34e0-d768-ecca",
     "previous": "652dae42-6f22-11ee-89fa-0242ac120005-4-f95d-c65a-cfa7-a70f"
    }
   },
   "source": [
    "## OpenStack用OpenRCファイル設定\n",
    "\n",
    "`xxxxxxx`プロジェクト用のOpenRCファイルを事前にダウンロードしておくこと。  "
   ]
  },
  {
   "cell_type": "code",
   "execution_count": null,
   "metadata": {
    "lc_cell_meme": {
     "current": "652daeec-6f22-11ee-89fa-0242ac120005-4-a276-34e0-d768-ecca",
     "history": [
      {
       "current": "652daeec-6f22-11ee-89fa-0242ac120005-1-a276",
       "next": "652daf46-6f22-11ee-89fa-0242ac120005",
       "previous": "652dae92-6f22-11ee-89fa-0242ac120005"
      },
      {
       "current": "652daeec-6f22-11ee-89fa-0242ac120005-2-a276-34e0",
       "next": "652daf46-6f22-11ee-89fa-0242ac120005-1-8910",
       "previous": "652dae92-6f22-11ee-89fa-0242ac120005-1-84d8"
      },
      {
       "current": "652daeec-6f22-11ee-89fa-0242ac120005-3-a276-34e0-d768",
       "next": "652daf46-6f22-11ee-89fa-0242ac120005-2-8910-daa4",
       "previous": "652dae92-6f22-11ee-89fa-0242ac120005-2-84d8-883e"
      },
      {
       "current": "652daeec-6f22-11ee-89fa-0242ac120005-4-a276-34e0-d768-ecca",
       "next": "652daf46-6f22-11ee-89fa-0242ac120005-3-8910-daa4-3b45",
       "previous": "652dae92-6f22-11ee-89fa-0242ac120005-3-84d8-883e-3fbb"
      }
     ],
     "next": "652daf46-6f22-11ee-89fa-0242ac120005-4-8910-daa4-3b45-60ae",
     "previous": "652dae92-6f22-11ee-89fa-0242ac120005-4-84d8-883e-3fbb-1f95"
    }
   },
   "outputs": [],
   "source": [
    "import os\n",
    "\n",
    "user_creds = os.path.expanduser('~/.keys/xxxxxxx-openrc.sh')\n",
    "\n",
    "assert os.path.exists(user_creds), '{} is not exist'.format(user_creds)"
   ]
  },
  {
   "cell_type": "code",
   "execution_count": null,
   "metadata": {
    "lc_cell_meme": {
     "current": "652daf46-6f22-11ee-89fa-0242ac120005-4-8910-daa4-3b45-60ae",
     "history": [
      {
       "current": "652daf46-6f22-11ee-89fa-0242ac120005-1-8910",
       "next": "652daf96-6f22-11ee-89fa-0242ac120005",
       "previous": "652daeec-6f22-11ee-89fa-0242ac120005"
      },
      {
       "current": "652daf46-6f22-11ee-89fa-0242ac120005-2-8910-daa4",
       "next": "652daf96-6f22-11ee-89fa-0242ac120005-1-130c",
       "previous": "652daeec-6f22-11ee-89fa-0242ac120005-1-a276"
      },
      {
       "current": "652daf46-6f22-11ee-89fa-0242ac120005-3-8910-daa4-3b45",
       "next": "652daf96-6f22-11ee-89fa-0242ac120005-2-130c-05da",
       "previous": "652daeec-6f22-11ee-89fa-0242ac120005-2-a276-34e0"
      },
      {
       "current": "652daf46-6f22-11ee-89fa-0242ac120005-4-8910-daa4-3b45-60ae",
       "next": "652daf96-6f22-11ee-89fa-0242ac120005-3-130c-05da-72a4",
       "previous": "652daeec-6f22-11ee-89fa-0242ac120005-3-a276-34e0-d768"
      }
     ],
     "next": "652daf96-6f22-11ee-89fa-0242ac120005-4-130c-05da-72a4-2995",
     "previous": "652daeec-6f22-11ee-89fa-0242ac120005-4-a276-34e0-d768-ecca"
    }
   },
   "outputs": [],
   "source": [
    "%env USER_CREDS={user_creds}"
   ]
  },
  {
   "cell_type": "code",
   "execution_count": null,
   "metadata": {
    "lc_cell_meme": {
     "current": "652daf96-6f22-11ee-89fa-0242ac120005-4-130c-05da-72a4-2995",
     "history": [
      {
       "current": "652daf96-6f22-11ee-89fa-0242ac120005",
       "next": "652dafe6-6f22-11ee-89fa-0242ac120005",
       "previous": "652daf46-6f22-11ee-89fa-0242ac120005"
      },
      {
       "current": "652daf96-6f22-11ee-89fa-0242ac120005-1-130c",
       "next": "652dafe6-6f22-11ee-89fa-0242ac120005-1-01d4",
       "previous": "652daf46-6f22-11ee-89fa-0242ac120005"
      },
      {
       "current": "652daf96-6f22-11ee-89fa-0242ac120005-2-130c-05da",
       "next": "652dafe6-6f22-11ee-89fa-0242ac120005-2-01d4-816f",
       "previous": "652daf46-6f22-11ee-89fa-0242ac120005-1-8910"
      },
      {
       "current": "652daf96-6f22-11ee-89fa-0242ac120005-3-130c-05da-72a4",
       "next": "652dafe6-6f22-11ee-89fa-0242ac120005-3-01d4-816f-8ff6",
       "previous": "652daf46-6f22-11ee-89fa-0242ac120005-2-8910-daa4"
      },
      {
       "current": "652daf96-6f22-11ee-89fa-0242ac120005-4-130c-05da-72a4-2995",
       "next": "652dafe6-6f22-11ee-89fa-0242ac120005-4-01d4-816f-8ff6-4b5d",
       "previous": "652daf46-6f22-11ee-89fa-0242ac120005-3-8910-daa4-3b45"
      }
     ],
     "next": "652dafe6-6f22-11ee-89fa-0242ac120005-5-01d4-816f-8ff6-4b5d-6aac",
     "previous": "652daf46-6f22-11ee-89fa-0242ac120005-4-8910-daa4-3b45-60ae"
    }
   },
   "outputs": [],
   "source": [
    "!ls -l {user_creds}"
   ]
  },
  {
   "cell_type": "markdown",
   "metadata": {
    "heading_collapsed": true,
    "lc_cell_meme": {
     "current": "652dafe6-6f22-11ee-89fa-0242ac120005-5-01d4-816f-8ff6-4b5d-6aac",
     "history": [
      {
       "current": "652dafe6-6f22-11ee-89fa-0242ac120005-2-01d4-816f",
       "next": "652db040-6f22-11ee-89fa-0242ac120005",
       "previous": "652daf96-6f22-11ee-89fa-0242ac120005"
      },
      {
       "current": "652dafe6-6f22-11ee-89fa-0242ac120005-3-01d4-816f-8ff6",
       "next": "652db040-6f22-11ee-89fa-0242ac120005-1-d11c",
       "previous": "652daf96-6f22-11ee-89fa-0242ac120005-1-130c"
      },
      {
       "current": "652dafe6-6f22-11ee-89fa-0242ac120005-4-01d4-816f-8ff6-4b5d",
       "next": "652db040-6f22-11ee-89fa-0242ac120005-2-d11c-a95e",
       "previous": "652daf96-6f22-11ee-89fa-0242ac120005-2-130c-05da"
      },
      {
       "current": "652dafe6-6f22-11ee-89fa-0242ac120005-5-01d4-816f-8ff6-4b5d-6aac",
       "next": "652db040-6f22-11ee-89fa-0242ac120005-3-d11c-a95e-8791",
       "previous": "652daf96-6f22-11ee-89fa-0242ac120005-3-130c-05da-72a4"
      }
     ],
     "next": "652db040-6f22-11ee-89fa-0242ac120005-4-d11c-a95e-8791-680f",
     "previous": "652daf96-6f22-11ee-89fa-0242ac120005-4-130c-05da-72a4-2995"
    }
   },
   "source": [
    "## openstackコマンド用ユーティリティ関数"
   ]
  },
  {
   "cell_type": "code",
   "execution_count": null,
   "metadata": {
    "hidden": true,
    "lc_cell_meme": {
     "current": "652db040-6f22-11ee-89fa-0242ac120005-4-d11c-a95e-8791-680f",
     "history": [
      {
       "current": "652db040-6f22-11ee-89fa-0242ac120005",
       "next": "652db090-6f22-11ee-89fa-0242ac120005",
       "previous": "652dafe6-6f22-11ee-89fa-0242ac120005"
      },
      {
       "current": "652db040-6f22-11ee-89fa-0242ac120005-1-d11c",
       "next": "acb9ce94-6f22-11ee-89fa-0242ac120005",
       "previous": "652dafe6-6f22-11ee-89fa-0242ac120005-1-01d4"
      },
      {
       "current": "652db040-6f22-11ee-89fa-0242ac120005-2-d11c-a95e",
       "next": "acb9ce94-6f22-11ee-89fa-0242ac120005-1-55c6",
       "previous": "652dafe6-6f22-11ee-89fa-0242ac120005-2-01d4-816f"
      },
      {
       "current": "652db040-6f22-11ee-89fa-0242ac120005-3-d11c-a95e-8791",
       "next": "acb9ce94-6f22-11ee-89fa-0242ac120005-2-55c6-e57d",
       "previous": "652dafe6-6f22-11ee-89fa-0242ac120005-3-01d4-816f-8ff6"
      },
      {
       "current": "652db040-6f22-11ee-89fa-0242ac120005-4-d11c-a95e-8791-680f",
       "next": "acb9ce94-6f22-11ee-89fa-0242ac120005-3-55c6-e57d-c5ae",
       "previous": "652dafe6-6f22-11ee-89fa-0242ac120005-4-01d4-816f-8ff6-4b5d"
      }
     ],
     "next": "acb9ce94-6f22-11ee-89fa-0242ac120005-4-55c6-e57d-c5ae-7609",
     "previous": "652dafe6-6f22-11ee-89fa-0242ac120005-5-01d4-816f-8ff6-4b5d-6aac"
    }
   },
   "outputs": [],
   "source": [
    "def build_cmdline(param):\n",
    "    cmdline = ''\n",
    "    \n",
    "    for param_name, param_value in param.items():\n",
    "        if isinstance(param_value, dict):\n",
    "            for key, value in param_value.items():\n",
    "                cmdline += ' --{} {}={}'.format(param_name, key, value)\n",
    "        elif isinstance(param_value, list):\n",
    "            for item in param_value:\n",
    "                cmdline += ' --{} {}'.format(param_name, item)\n",
    "        elif isinstance(param_value, bool):\n",
    "            if param_value:\n",
    "                cmdline += ' --{}'.format(param_name)\n",
    "        else:\n",
    "            cmdline += ' --{} {}'.format(param_name, param_value)\n",
    "\n",
    "    return cmdline"
   ]
  },
  {
   "cell_type": "code",
   "execution_count": null,
   "metadata": {
    "hidden": true,
    "lc_cell_meme": {
     "current": "acb9ce94-6f22-11ee-89fa-0242ac120005-4-55c6-e57d-c5ae-7609",
     "history": [
      {
       "current": "acb9ce94-6f22-11ee-89fa-0242ac120005-1-55c6",
       "next": "acb9cf52-6f22-11ee-89fa-0242ac120005",
       "previous": "652db040-6f22-11ee-89fa-0242ac120005"
      },
      {
       "current": "acb9ce94-6f22-11ee-89fa-0242ac120005-2-55c6-e57d",
       "next": "acb9cf52-6f22-11ee-89fa-0242ac120005-1-139f",
       "previous": "652db040-6f22-11ee-89fa-0242ac120005-1-d11c"
      },
      {
       "current": "acb9ce94-6f22-11ee-89fa-0242ac120005-3-55c6-e57d-c5ae",
       "next": "acb9cf52-6f22-11ee-89fa-0242ac120005-2-139f-876d",
       "previous": "652db040-6f22-11ee-89fa-0242ac120005-2-d11c-a95e"
      },
      {
       "current": "acb9ce94-6f22-11ee-89fa-0242ac120005-4-55c6-e57d-c5ae-7609",
       "next": "acb9cf52-6f22-11ee-89fa-0242ac120005-3-139f-876d-8227",
       "previous": "652db040-6f22-11ee-89fa-0242ac120005-3-d11c-a95e-8791"
      }
     ],
     "next": "acb9cf52-6f22-11ee-89fa-0242ac120005-4-139f-876d-8227-353d",
     "previous": "652db040-6f22-11ee-89fa-0242ac120005-4-d11c-a95e-8791-680f"
    }
   },
   "outputs": [],
   "source": [
    "import json\n",
    "\n",
    "def run_openstack(cmd):\n",
    "    print('EXEC: {}'.format(cmd))\n",
    "    out = !source {user_creds} && {cmd}\n",
    "    print('OUTPUT: {}'.format('\\n'.join(out)))\n",
    "    return json.loads('\\n'.join(out))"
   ]
  },
  {
   "cell_type": "markdown",
   "metadata": {
    "hidden": true,
    "lc_cell_meme": {
     "current": "acb9cf52-6f22-11ee-89fa-0242ac120005-4-139f-876d-8227-353d",
     "history": [
      {
       "current": "acb9cf52-6f22-11ee-89fa-0242ac120005-1-139f",
       "next": "acb9d010-6f22-11ee-89fa-0242ac120005",
       "previous": "acb9ce94-6f22-11ee-89fa-0242ac120005"
      },
      {
       "current": "acb9cf52-6f22-11ee-89fa-0242ac120005-2-139f-876d",
       "next": "acb9d010-6f22-11ee-89fa-0242ac120005-1-41c5",
       "previous": "acb9ce94-6f22-11ee-89fa-0242ac120005-1-55c6"
      },
      {
       "current": "acb9cf52-6f22-11ee-89fa-0242ac120005-3-139f-876d-8227",
       "next": "acb9d010-6f22-11ee-89fa-0242ac120005-2-41c5-0bad",
       "previous": "acb9ce94-6f22-11ee-89fa-0242ac120005-2-55c6-e57d"
      },
      {
       "current": "acb9cf52-6f22-11ee-89fa-0242ac120005-4-139f-876d-8227-353d",
       "next": "acb9d010-6f22-11ee-89fa-0242ac120005-3-41c5-0bad-18de",
       "previous": "acb9ce94-6f22-11ee-89fa-0242ac120005-3-55c6-e57d-c5ae"
      }
     ],
     "next": "acb9d010-6f22-11ee-89fa-0242ac120005-4-41c5-0bad-18de-2b11",
     "previous": "acb9ce94-6f22-11ee-89fa-0242ac120005-4-55c6-e57d-c5ae-7609"
    }
   },
   "source": [
    "テスト"
   ]
  },
  {
   "cell_type": "code",
   "execution_count": null,
   "metadata": {
    "hidden": true,
    "lc_cell_meme": {
     "current": "acb9d010-6f22-11ee-89fa-0242ac120005-4-41c5-0bad-18de-2b11",
     "history": [
      {
       "current": "acb9d010-6f22-11ee-89fa-0242ac120005-1-41c5",
       "next": "7f8984de-56f9-11ec-a1da-0242ac120004-1-fe2a",
       "previous": "acb9cf52-6f22-11ee-89fa-0242ac120005"
      },
      {
       "current": "acb9d010-6f22-11ee-89fa-0242ac120005-2-41c5-0bad",
       "next": "7f8984de-56f9-11ec-a1da-0242ac120004-2-fe2a-fbf7",
       "previous": "acb9cf52-6f22-11ee-89fa-0242ac120005-1-139f"
      },
      {
       "current": "acb9d010-6f22-11ee-89fa-0242ac120005-3-41c5-0bad-18de",
       "next": "7f8984de-56f9-11ec-a1da-0242ac120004-3-fe2a-fbf7-17c6",
       "previous": "acb9cf52-6f22-11ee-89fa-0242ac120005-2-139f-876d"
      },
      {
       "current": "acb9d010-6f22-11ee-89fa-0242ac120005-4-41c5-0bad-18de-2b11",
       "next": "7f8984de-56f9-11ec-a1da-0242ac120004-4-fe2a-fbf7-17c6-b163",
       "previous": "acb9cf52-6f22-11ee-89fa-0242ac120005-3-139f-876d-8227"
      }
     ],
     "next": "7f8984de-56f9-11ec-a1da-0242ac120004-5-fe2a-fbf7-17c6-b163-1787",
     "previous": "acb9cf52-6f22-11ee-89fa-0242ac120005-4-139f-876d-8227-353d"
    }
   },
   "outputs": [],
   "source": [
    "run_openstack('openstack flavor list -f json' + build_cmdline({'all': True}))"
   ]
  },
  {
   "cell_type": "markdown",
   "metadata": {
    "lc_cell_meme": {
     "current": "7f8984de-56f9-11ec-a1da-0242ac120004-5-fe2a-fbf7-17c6-b163-1787",
     "history": [
      {
       "current": "7f8984de-56f9-11ec-a1da-0242ac120004-1-fe2a",
       "next": "7f89861e-56f9-11ec-a1da-0242ac120004",
       "previous": "7f898358-56f9-11ec-a1da-0242ac120004"
      },
      {
       "current": "7f8984de-56f9-11ec-a1da-0242ac120004-1-fe2a",
       "next": "7f89861e-56f9-11ec-a1da-0242ac120004-1-f0eb",
       "previous": "7f898358-56f9-11ec-a1da-0242ac120004-1-9fd7"
      },
      {
       "current": "7f8984de-56f9-11ec-a1da-0242ac120004-1-fe2a",
       "next": "7f89861e-56f9-11ec-a1da-0242ac120004-1-f0eb",
       "previous": "652db090-6f22-11ee-89fa-0242ac120005"
      },
      {
       "current": "7f8984de-56f9-11ec-a1da-0242ac120004-2-fe2a-fbf7",
       "next": "7f89861e-56f9-11ec-a1da-0242ac120004-1-f0eb",
       "previous": "acb9d010-6f22-11ee-89fa-0242ac120005"
      },
      {
       "current": "7f8984de-56f9-11ec-a1da-0242ac120004-3-fe2a-fbf7-17c6",
       "next": "7f89861e-56f9-11ec-a1da-0242ac120004-2-f0eb-abb9",
       "previous": "acb9d010-6f22-11ee-89fa-0242ac120005-1-41c5"
      },
      {
       "current": "7f8984de-56f9-11ec-a1da-0242ac120004-4-fe2a-fbf7-17c6-b163",
       "next": "7f89861e-56f9-11ec-a1da-0242ac120004-3-f0eb-abb9-795d",
       "previous": "acb9d010-6f22-11ee-89fa-0242ac120005-2-41c5-0bad"
      },
      {
       "current": "7f8984de-56f9-11ec-a1da-0242ac120004-5-fe2a-fbf7-17c6-b163-1787",
       "next": "7f89861e-56f9-11ec-a1da-0242ac120004-4-f0eb-abb9-795d-05a0",
       "previous": "acb9d010-6f22-11ee-89fa-0242ac120005-3-41c5-0bad-18de"
      }
     ],
     "next": "7f89861e-56f9-11ec-a1da-0242ac120004-5-f0eb-abb9-795d-05a0-d6ac",
     "previous": "acb9d010-6f22-11ee-89fa-0242ac120005-4-41c5-0bad-18de-2b11"
    }
   },
   "source": [
    "## デプロイされたCephノード情報の取得"
   ]
  },
  {
   "cell_type": "markdown",
   "metadata": {
    "lc_cell_meme": {
     "current": "7f89861e-56f9-11ec-a1da-0242ac120004-5-f0eb-abb9-795d-05a0-d6ac",
     "history": [
      {
       "current": "7f89861e-56f9-11ec-a1da-0242ac120004-1-f0eb",
       "next": "7f898754-56f9-11ec-a1da-0242ac120004",
       "previous": "7f8984de-56f9-11ec-a1da-0242ac120004"
      },
      {
       "current": "7f89861e-56f9-11ec-a1da-0242ac120004-1-f0eb",
       "next": "7f898754-56f9-11ec-a1da-0242ac120004-1-c22e",
       "previous": "7f8984de-56f9-11ec-a1da-0242ac120004-1-fe2a"
      },
      {
       "current": "7f89861e-56f9-11ec-a1da-0242ac120004-2-f0eb-abb9",
       "next": "acb9d042-6f22-11ee-89fa-0242ac120005",
       "previous": "7f8984de-56f9-11ec-a1da-0242ac120004-1-fe2a"
      },
      {
       "current": "7f89861e-56f9-11ec-a1da-0242ac120004-3-f0eb-abb9-795d",
       "next": "acb9d042-6f22-11ee-89fa-0242ac120005-1-dc61",
       "previous": "7f8984de-56f9-11ec-a1da-0242ac120004-2-fe2a-fbf7"
      },
      {
       "current": "7f89861e-56f9-11ec-a1da-0242ac120004-4-f0eb-abb9-795d-05a0",
       "next": "acb9d042-6f22-11ee-89fa-0242ac120005-2-dc61-e5eb",
       "previous": "7f8984de-56f9-11ec-a1da-0242ac120004-3-fe2a-fbf7-17c6"
      },
      {
       "current": "7f89861e-56f9-11ec-a1da-0242ac120004-5-f0eb-abb9-795d-05a0-d6ac",
       "next": "acb9d042-6f22-11ee-89fa-0242ac120005-3-dc61-e5eb-153b",
       "previous": "7f8984de-56f9-11ec-a1da-0242ac120004-4-fe2a-fbf7-17c6-b163"
      }
     ],
     "next": "acb9d042-6f22-11ee-89fa-0242ac120005-4-dc61-e5eb-153b-5534",
     "previous": "7f8984de-56f9-11ec-a1da-0242ac120004-5-fe2a-fbf7-17c6-b163-1787"
    }
   },
   "source": [
    "ストレージノードを特定するにあたり、ノード名称が　ceph-nodexxx （xxxの部分は、右寄せ0埋めの数字3桁）というルールに従っていることを前提としている。<br>\n",
    " 例：ceph-node001<br>\n",
    " このノード名称ルールは、構築するCephクラスタ毎に変えるため、以下で定義する。"
   ]
  },
  {
   "cell_type": "code",
   "execution_count": null,
   "metadata": {
    "lc_cell_meme": {
     "current": "acb9d042-6f22-11ee-89fa-0242ac120005-4-dc61-e5eb-153b-5534",
     "history": [
      {
       "current": "acb9d042-6f22-11ee-89fa-0242ac120005-1-dc61",
       "next": "7f898754-56f9-11ec-a1da-0242ac120004-1-c22e",
       "previous": "7f89861e-56f9-11ec-a1da-0242ac120004-1-f0eb"
      },
      {
       "current": "acb9d042-6f22-11ee-89fa-0242ac120005-2-dc61-e5eb",
       "next": "7f898754-56f9-11ec-a1da-0242ac120004-2-c22e-66b8",
       "previous": "7f89861e-56f9-11ec-a1da-0242ac120004-2-f0eb-abb9"
      },
      {
       "current": "acb9d042-6f22-11ee-89fa-0242ac120005-3-dc61-e5eb-153b",
       "next": "7f898754-56f9-11ec-a1da-0242ac120004-3-c22e-66b8-de7c",
       "previous": "7f89861e-56f9-11ec-a1da-0242ac120004-3-f0eb-abb9-795d"
      },
      {
       "current": "acb9d042-6f22-11ee-89fa-0242ac120005-4-dc61-e5eb-153b-5534",
       "next": "7f898754-56f9-11ec-a1da-0242ac120004-4-c22e-66b8-de7c-30c6",
       "previous": "7f89861e-56f9-11ec-a1da-0242ac120004-4-f0eb-abb9-795d-05a0"
      }
     ],
     "next": "7f898754-56f9-11ec-a1da-0242ac120004-5-c22e-66b8-de7c-30c6-cdf9",
     "previous": "7f89861e-56f9-11ec-a1da-0242ac120004-5-f0eb-abb9-795d-05a0-d6ac"
    }
   },
   "outputs": [],
   "source": [
    "# 初期化対象のインスタンス名称を設定する\n",
    "raise Exception('この先手作業が必要です')"
   ]
  },
  {
   "cell_type": "code",
   "execution_count": null,
   "metadata": {
    "lc_cell_meme": {
     "current": "7f898754-56f9-11ec-a1da-0242ac120004-5-c22e-66b8-de7c-30c6-cdf9",
     "history": [
      {
       "current": "7f898754-56f9-11ec-a1da-0242ac120004",
       "next": "37fd8138-56f9-11ec-a1da-0242ac120004",
       "previous": "7f89861e-56f9-11ec-a1da-0242ac120004"
      },
      {
       "current": "7f898754-56f9-11ec-a1da-0242ac120004-1-c22e",
       "next": "37fd8138-56f9-11ec-a1da-0242ac120004-1-cd3c",
       "previous": "7f89861e-56f9-11ec-a1da-0242ac120004"
      },
      {
       "current": "7f898754-56f9-11ec-a1da-0242ac120004-1-c22e",
       "next": "37fd8138-56f9-11ec-a1da-0242ac120004-2-cd3c-96de",
       "previous": "7f89861e-56f9-11ec-a1da-0242ac120004-1-f0eb"
      },
      {
       "current": "7f898754-56f9-11ec-a1da-0242ac120004-2-c22e-66b8",
       "next": "acb9d06a-6f22-11ee-89fa-0242ac120005",
       "previous": "acb9d042-6f22-11ee-89fa-0242ac120005"
      },
      {
       "current": "7f898754-56f9-11ec-a1da-0242ac120004-3-c22e-66b8-de7c",
       "next": "acb9d06a-6f22-11ee-89fa-0242ac120005-1-aeed",
       "previous": "acb9d042-6f22-11ee-89fa-0242ac120005-1-dc61"
      },
      {
       "current": "7f898754-56f9-11ec-a1da-0242ac120004-4-c22e-66b8-de7c-30c6",
       "next": "acb9d06a-6f22-11ee-89fa-0242ac120005-2-aeed-bbec",
       "previous": "acb9d042-6f22-11ee-89fa-0242ac120005-2-dc61-e5eb"
      },
      {
       "current": "7f898754-56f9-11ec-a1da-0242ac120004-5-c22e-66b8-de7c-30c6-cdf9",
       "next": "acb9d06a-6f22-11ee-89fa-0242ac120005-3-aeed-bbec-8760",
       "previous": "acb9d042-6f22-11ee-89fa-0242ac120005-3-dc61-e5eb-153b"
      }
     ],
     "next": "acb9d06a-6f22-11ee-89fa-0242ac120005-4-aeed-bbec-8760-9283",
     "previous": "acb9d042-6f22-11ee-89fa-0242ac120005-4-dc61-e5eb-153b-5534"
    }
   },
   "outputs": [],
   "source": [
    "import pandas as pd\n",
    "import re\n",
    "\n",
    "# 対象インスタンス名称マッチングルール\n",
    "name_match_rule = r'ceph-xxx-node-[0-9]+'"
   ]
  },
  {
   "cell_type": "markdown",
   "metadata": {
    "heading_collapsed": true,
    "lc_cell_meme": {
     "current": "acb9d06a-6f22-11ee-89fa-0242ac120005-4-aeed-bbec-8760-9283",
     "history": [
      {
       "current": "acb9d06a-6f22-11ee-89fa-0242ac120005-1-aeed",
       "next": "acb9d092-6f22-11ee-89fa-0242ac120005",
       "previous": "7f898754-56f9-11ec-a1da-0242ac120004-1-c22e"
      },
      {
       "current": "acb9d06a-6f22-11ee-89fa-0242ac120005-2-aeed-bbec",
       "next": "acb9d092-6f22-11ee-89fa-0242ac120005-1-046d",
       "previous": "7f898754-56f9-11ec-a1da-0242ac120004-2-c22e-66b8"
      },
      {
       "current": "acb9d06a-6f22-11ee-89fa-0242ac120005-3-aeed-bbec-8760",
       "next": "acb9d092-6f22-11ee-89fa-0242ac120005-2-046d-6317",
       "previous": "7f898754-56f9-11ec-a1da-0242ac120004-3-c22e-66b8-de7c"
      },
      {
       "current": "acb9d06a-6f22-11ee-89fa-0242ac120005-4-aeed-bbec-8760-9283",
       "next": "acb9d092-6f22-11ee-89fa-0242ac120005-3-046d-6317-19b2",
       "previous": "7f898754-56f9-11ec-a1da-0242ac120004-4-c22e-66b8-de7c-30c6"
      }
     ],
     "next": "acb9d092-6f22-11ee-89fa-0242ac120005-4-046d-6317-19b2-7e98",
     "previous": "7f898754-56f9-11ec-a1da-0242ac120004-5-c22e-66b8-de7c-30c6-cdf9"
    }
   },
   "source": [
    "## OpenStack Ironicからノード情報の取得"
   ]
  },
  {
   "cell_type": "code",
   "execution_count": null,
   "metadata": {
    "hidden": true,
    "lc_cell_meme": {
     "current": "acb9d092-6f22-11ee-89fa-0242ac120005-4-046d-6317-19b2-7e98",
     "history": [
      {
       "current": "acb9d092-6f22-11ee-89fa-0242ac120005-1-046d",
       "next": "acb9d0ba-6f22-11ee-89fa-0242ac120005",
       "previous": "acb9d06a-6f22-11ee-89fa-0242ac120005"
      },
      {
       "current": "acb9d092-6f22-11ee-89fa-0242ac120005-2-046d-6317",
       "next": "acb9d0ba-6f22-11ee-89fa-0242ac120005-1-6678",
       "previous": "acb9d06a-6f22-11ee-89fa-0242ac120005-1-aeed"
      },
      {
       "current": "acb9d092-6f22-11ee-89fa-0242ac120005-3-046d-6317-19b2",
       "next": "acb9d0ba-6f22-11ee-89fa-0242ac120005-2-6678-a524",
       "previous": "acb9d06a-6f22-11ee-89fa-0242ac120005-2-aeed-bbec"
      },
      {
       "current": "acb9d092-6f22-11ee-89fa-0242ac120005-4-046d-6317-19b2-7e98",
       "next": "acb9d0ba-6f22-11ee-89fa-0242ac120005-3-6678-a524-d769",
       "previous": "acb9d06a-6f22-11ee-89fa-0242ac120005-3-aeed-bbec-8760"
      }
     ],
     "next": "acb9d0ba-6f22-11ee-89fa-0242ac120005-4-6678-a524-d769-b3c2",
     "previous": "acb9d06a-6f22-11ee-89fa-0242ac120005-4-aeed-bbec-8760-9283"
    }
   },
   "outputs": [],
   "source": [
    "cmd = \"openstack baremetal node list -f json --long\"\n",
    "nodes = run_openstack(cmd)"
   ]
  },
  {
   "cell_type": "code",
   "execution_count": null,
   "metadata": {
    "hidden": true,
    "lc_cell_meme": {
     "current": "acb9d0ba-6f22-11ee-89fa-0242ac120005-4-6678-a524-d769-b3c2",
     "history": [
      {
       "current": "acb9d0ba-6f22-11ee-89fa-0242ac120005-1-6678",
       "next": "acb9d0e2-6f22-11ee-89fa-0242ac120005",
       "previous": "acb9d092-6f22-11ee-89fa-0242ac120005"
      },
      {
       "current": "acb9d0ba-6f22-11ee-89fa-0242ac120005-2-6678-a524",
       "next": "acb9d0e2-6f22-11ee-89fa-0242ac120005-1-8daa",
       "previous": "acb9d092-6f22-11ee-89fa-0242ac120005-1-046d"
      },
      {
       "current": "acb9d0ba-6f22-11ee-89fa-0242ac120005-3-6678-a524-d769",
       "next": "acb9d0e2-6f22-11ee-89fa-0242ac120005-2-8daa-451f",
       "previous": "acb9d092-6f22-11ee-89fa-0242ac120005-2-046d-6317"
      },
      {
       "current": "acb9d0ba-6f22-11ee-89fa-0242ac120005-4-6678-a524-d769-b3c2",
       "next": "acb9d0e2-6f22-11ee-89fa-0242ac120005-3-8daa-451f-20a5",
       "previous": "acb9d092-6f22-11ee-89fa-0242ac120005-3-046d-6317-19b2"
      }
     ],
     "next": "acb9d0e2-6f22-11ee-89fa-0242ac120005-4-8daa-451f-20a5-aeca",
     "previous": "acb9d092-6f22-11ee-89fa-0242ac120005-4-046d-6317-19b2-7e98"
    }
   },
   "outputs": [],
   "source": [
    "import pandas as pd\n",
    "import re\n",
    "\n",
    "for node in nodes:\n",
    "    instance_uuid = node.get(\"Instance UUID\", None)\n",
    "    if instance_uuid is None:\n",
    "        continue\n",
    "        \n",
    "    node[\"instance_name\"] = node[\"Instance Info\"][\"display_name\"]\n",
    "\n",
    "pd.set_option('display.max_rows', None)\n",
    "pd.DataFrame(nodes, columns=['Instance UUID', 'instance_name', 'UUID', 'Maintenance', 'Provisioning State', 'Power State', 'Name'])\n"
   ]
  },
  {
   "cell_type": "code",
   "execution_count": null,
   "metadata": {
    "hidden": true,
    "lc_cell_meme": {
     "current": "acb9d0e2-6f22-11ee-89fa-0242ac120005-4-8daa-451f-20a5-aeca",
     "history": [
      {
       "current": "acb9d0e2-6f22-11ee-89fa-0242ac120005-1-8daa",
       "next": "acb9d10a-6f22-11ee-89fa-0242ac120005",
       "previous": "acb9d0ba-6f22-11ee-89fa-0242ac120005"
      },
      {
       "current": "acb9d0e2-6f22-11ee-89fa-0242ac120005-2-8daa-451f",
       "next": "acb9d10a-6f22-11ee-89fa-0242ac120005-1-7c4d",
       "previous": "acb9d0ba-6f22-11ee-89fa-0242ac120005-1-6678"
      },
      {
       "current": "acb9d0e2-6f22-11ee-89fa-0242ac120005-3-8daa-451f-20a5",
       "next": "acb9d10a-6f22-11ee-89fa-0242ac120005-2-7c4d-93af",
       "previous": "acb9d0ba-6f22-11ee-89fa-0242ac120005-2-6678-a524"
      },
      {
       "current": "acb9d0e2-6f22-11ee-89fa-0242ac120005-4-8daa-451f-20a5-aeca",
       "next": "acb9d10a-6f22-11ee-89fa-0242ac120005-3-7c4d-93af-ee86",
       "previous": "acb9d0ba-6f22-11ee-89fa-0242ac120005-3-6678-a524-d769"
      }
     ],
     "next": "acb9d10a-6f22-11ee-89fa-0242ac120005-4-7c4d-93af-ee86-6fe7",
     "previous": "acb9d0ba-6f22-11ee-89fa-0242ac120005-4-6678-a524-d769-b3c2"
    }
   },
   "outputs": [],
   "source": [
    "cmd = \"openstack server list -f json --long\"\n",
    "nova_server_map = run_openstack(cmd)"
   ]
  },
  {
   "cell_type": "code",
   "execution_count": null,
   "metadata": {
    "hidden": true,
    "lc_cell_meme": {
     "current": "acb9d10a-6f22-11ee-89fa-0242ac120005-4-7c4d-93af-ee86-6fe7",
     "history": [
      {
       "current": "acb9d10a-6f22-11ee-89fa-0242ac120005",
       "next": "acb9d132-6f22-11ee-89fa-0242ac120005",
       "previous": "acb9d0e2-6f22-11ee-89fa-0242ac120005"
      },
      {
       "current": "acb9d10a-6f22-11ee-89fa-0242ac120005-1-7c4d",
       "next": "7163ca0c-56fb-11ec-a1da-0242ac120004-1-2a50",
       "previous": "acb9d0e2-6f22-11ee-89fa-0242ac120005"
      },
      {
       "current": "acb9d10a-6f22-11ee-89fa-0242ac120005-2-7c4d-93af",
       "next": "7163ca0c-56fb-11ec-a1da-0242ac120004-2-2a50-01b3",
       "previous": "acb9d0e2-6f22-11ee-89fa-0242ac120005-1-8daa"
      },
      {
       "current": "acb9d10a-6f22-11ee-89fa-0242ac120005-3-7c4d-93af-ee86",
       "next": "7163ca0c-56fb-11ec-a1da-0242ac120004-3-2a50-01b3-9fcb",
       "previous": "acb9d0e2-6f22-11ee-89fa-0242ac120005-2-8daa-451f"
      },
      {
       "current": "acb9d10a-6f22-11ee-89fa-0242ac120005-4-7c4d-93af-ee86-6fe7",
       "next": "7163ca0c-56fb-11ec-a1da-0242ac120004-4-2a50-01b3-9fcb-f08f",
       "previous": "acb9d0e2-6f22-11ee-89fa-0242ac120005-3-8daa-451f-20a5"
      }
     ],
     "next": "7163ca0c-56fb-11ec-a1da-0242ac120004-5-2a50-01b3-9fcb-f08f-4c6c",
     "previous": "acb9d0e2-6f22-11ee-89fa-0242ac120005-4-8daa-451f-20a5-aeca"
    }
   },
   "outputs": [],
   "source": [
    "node_list = []\n",
    "for server in nova_server_map:\n",
    "    node_id = server['ID']\n",
    "    if re.match(name_match_rule, server['Name']) is None:\n",
    "        continue\n",
    "    for node in nodes:\n",
    "        if node['Instance UUID'] == node_id:\n",
    "            node_info = {}\n",
    "            node_list.append(node_info)\n",
    "            node_info['name'] = server['Name']\n",
    "            node_info['node_name'] = node['Name']\n",
    "            instance_ip_info = instance_ip_map.get(server['Name'], None)\n",
    "            if instance_ip_info is not None:\n",
    "                node_info['instance_ip'] = instance_ip_info.get('ipv4', None)\n",
    "            else:\n",
    "                node_info['instance_ip'] = None\n",
    "            address = server['Networks']\n",
    "            prov_net = address['provisioning-net']\n",
    "            for addr in prov_net:\n",
    "                node_info['prov_ip'] = addr\n",
    "\n",
    "pd.DataFrame(node_list)"
   ]
  },
  {
   "cell_type": "markdown",
   "metadata": {
    "lc_cell_meme": {
     "current": "7163ca0c-56fb-11ec-a1da-0242ac120004-5-2a50-01b3-9fcb-f08f-4c6c",
     "history": [
      {
       "current": "7163ca0c-56fb-11ec-a1da-0242ac120004",
       "next": "7163cc14-56fb-11ec-a1da-0242ac120004",
       "previous": "7163c6b0-56fb-11ec-a1da-0242ac120004"
      },
      {
       "current": "7163ca0c-56fb-11ec-a1da-0242ac120004-1-2a50",
       "next": "7163cc14-56fb-11ec-a1da-0242ac120004",
       "previous": "d9e2e18e-56fc-11ec-a1da-0242ac120004"
      },
      {
       "current": "7163ca0c-56fb-11ec-a1da-0242ac120004-1-2a50",
       "next": "7163cc14-56fb-11ec-a1da-0242ac120004-1-2f97",
       "previous": "d9e2e18e-56fc-11ec-a1da-0242ac120004-1-488f"
      },
      {
       "current": "7163ca0c-56fb-11ec-a1da-0242ac120004-2-2a50-01b3",
       "next": "7163cc14-56fb-11ec-a1da-0242ac120004-1-2f97",
       "previous": "acb9d10a-6f22-11ee-89fa-0242ac120005"
      },
      {
       "current": "7163ca0c-56fb-11ec-a1da-0242ac120004-3-2a50-01b3-9fcb",
       "next": "7163cc14-56fb-11ec-a1da-0242ac120004-2-2f97-cefe",
       "previous": "acb9d10a-6f22-11ee-89fa-0242ac120005-1-7c4d"
      },
      {
       "current": "7163ca0c-56fb-11ec-a1da-0242ac120004-4-2a50-01b3-9fcb-f08f",
       "next": "7163cc14-56fb-11ec-a1da-0242ac120004-3-2f97-cefe-5586",
       "previous": "acb9d10a-6f22-11ee-89fa-0242ac120005-2-7c4d-93af"
      },
      {
       "current": "7163ca0c-56fb-11ec-a1da-0242ac120004-5-2a50-01b3-9fcb-f08f-4c6c",
       "next": "7163cc14-56fb-11ec-a1da-0242ac120004-4-2f97-cefe-5586-25d6",
       "previous": "acb9d10a-6f22-11ee-89fa-0242ac120005-3-7c4d-93af-ee86"
      }
     ],
     "next": "7163cc14-56fb-11ec-a1da-0242ac120004-5-2f97-cefe-5586-25d6-a803",
     "previous": "acb9d10a-6f22-11ee-89fa-0242ac120005-4-7c4d-93af-ee86-6fe7"
    }
   },
   "source": [
    "## 初期化対象Cephノード情報の取得"
   ]
  },
  {
   "cell_type": "markdown",
   "metadata": {
    "lc_cell_meme": {
     "current": "7163cc14-56fb-11ec-a1da-0242ac120004-5-2f97-cefe-5586-25d6-a803",
     "history": [
      {
       "current": "7163cc14-56fb-11ec-a1da-0242ac120004-1-2f97",
       "next": "7163cdd6-56fb-11ec-a1da-0242ac120004",
       "previous": "7163ca0c-56fb-11ec-a1da-0242ac120004"
      },
      {
       "current": "7163cc14-56fb-11ec-a1da-0242ac120004-1-2f97",
       "next": "7163cdd6-56fb-11ec-a1da-0242ac120004-1-03bf",
       "previous": "7163ca0c-56fb-11ec-a1da-0242ac120004-1-2a50"
      },
      {
       "current": "7163cc14-56fb-11ec-a1da-0242ac120004-2-2f97-cefe",
       "next": "7163cf84-56fb-11ec-a1da-0242ac120004-1-09bf",
       "previous": "7163ca0c-56fb-11ec-a1da-0242ac120004-1-2a50"
      },
      {
       "current": "7163cc14-56fb-11ec-a1da-0242ac120004-3-2f97-cefe-5586",
       "next": "7163cf84-56fb-11ec-a1da-0242ac120004-2-09bf-bd18",
       "previous": "7163ca0c-56fb-11ec-a1da-0242ac120004-2-2a50-01b3"
      },
      {
       "current": "7163cc14-56fb-11ec-a1da-0242ac120004-4-2f97-cefe-5586-25d6",
       "next": "7163cf84-56fb-11ec-a1da-0242ac120004-3-09bf-bd18-8d4b",
       "previous": "7163ca0c-56fb-11ec-a1da-0242ac120004-3-2a50-01b3-9fcb"
      },
      {
       "current": "7163cc14-56fb-11ec-a1da-0242ac120004-5-2f97-cefe-5586-25d6-a803",
       "next": "7163cf84-56fb-11ec-a1da-0242ac120004-4-09bf-bd18-8d4b-478e",
       "previous": "7163ca0c-56fb-11ec-a1da-0242ac120004-4-2a50-01b3-9fcb-f08f"
      }
     ],
     "next": "7163cf84-56fb-11ec-a1da-0242ac120004-5-09bf-bd18-8d4b-478e-1dbc",
     "previous": "7163ca0c-56fb-11ec-a1da-0242ac120004-5-2a50-01b3-9fcb-f08f-4c6c"
    }
   },
   "source": [
    "初期化対象のインスタンス名称を設定する"
   ]
  },
  {
   "cell_type": "code",
   "execution_count": null,
   "metadata": {
    "lc_cell_meme": {
     "current": "7163cf84-56fb-11ec-a1da-0242ac120004-5-09bf-bd18-8d4b-478e-1dbc",
     "history": [
      {
       "current": "7163cf84-56fb-11ec-a1da-0242ac120004-1-09bf",
       "next": "7163d132-56fb-11ec-a1da-0242ac120004",
       "previous": "7163cdd6-56fb-11ec-a1da-0242ac120004"
      },
      {
       "current": "7163cf84-56fb-11ec-a1da-0242ac120004-1-09bf",
       "next": "7163d132-56fb-11ec-a1da-0242ac120004-1-18a6",
       "previous": "7163cdd6-56fb-11ec-a1da-0242ac120004-1-03bf"
      },
      {
       "current": "7163cf84-56fb-11ec-a1da-0242ac120004-2-09bf-bd18",
       "next": "7163d132-56fb-11ec-a1da-0242ac120004-1-18a6",
       "previous": "7163cc14-56fb-11ec-a1da-0242ac120004-1-2f97"
      },
      {
       "current": "7163cf84-56fb-11ec-a1da-0242ac120004-3-09bf-bd18-8d4b",
       "next": "7163d132-56fb-11ec-a1da-0242ac120004-2-18a6-ccac",
       "previous": "7163cc14-56fb-11ec-a1da-0242ac120004-2-2f97-cefe"
      },
      {
       "current": "7163cf84-56fb-11ec-a1da-0242ac120004-4-09bf-bd18-8d4b-478e",
       "next": "7163d132-56fb-11ec-a1da-0242ac120004-3-18a6-ccac-20f0",
       "previous": "7163cc14-56fb-11ec-a1da-0242ac120004-3-2f97-cefe-5586"
      },
      {
       "current": "7163cf84-56fb-11ec-a1da-0242ac120004-5-09bf-bd18-8d4b-478e-1dbc",
       "next": "7163d132-56fb-11ec-a1da-0242ac120004-4-18a6-ccac-20f0-271e",
       "previous": "7163cc14-56fb-11ec-a1da-0242ac120004-4-2f97-cefe-5586-25d6"
      }
     ],
     "next": "7163d132-56fb-11ec-a1da-0242ac120004-5-18a6-ccac-20f0-271e-942f",
     "previous": "7163cc14-56fb-11ec-a1da-0242ac120004-5-2f97-cefe-5586-25d6-a803"
    }
   },
   "outputs": [],
   "source": [
    "# 初期化対象のインスタンス名称を設定する\n",
    "raise Exception('この先手作業が必要です')"
   ]
  },
  {
   "cell_type": "code",
   "execution_count": null,
   "metadata": {
    "lc_cell_meme": {
     "current": "7163d132-56fb-11ec-a1da-0242ac120004-5-18a6-ccac-20f0-271e-942f",
     "history": [
      {
       "current": "7163d132-56fb-11ec-a1da-0242ac120004-1-18a6",
       "next": "7163d2d6-56fb-11ec-a1da-0242ac120004",
       "previous": "7163cf84-56fb-11ec-a1da-0242ac120004"
      },
      {
       "current": "7163d132-56fb-11ec-a1da-0242ac120004-1-18a6",
       "next": "7163d2d6-56fb-11ec-a1da-0242ac120004-1-e7d2",
       "previous": "7163cf84-56fb-11ec-a1da-0242ac120004-1-09bf"
      },
      {
       "current": "7163d132-56fb-11ec-a1da-0242ac120004-2-18a6-ccac",
       "next": "162bf270-6cae-11ee-89fa-0242ac120005",
       "previous": "7163cf84-56fb-11ec-a1da-0242ac120004-1-09bf"
      },
      {
       "current": "7163d132-56fb-11ec-a1da-0242ac120004-3-18a6-ccac-20f0",
       "next": "162bf270-6cae-11ee-89fa-0242ac120005-1-d6c1",
       "previous": "7163cf84-56fb-11ec-a1da-0242ac120004-2-09bf-bd18"
      },
      {
       "current": "7163d132-56fb-11ec-a1da-0242ac120004-4-18a6-ccac-20f0-271e",
       "next": "162bf270-6cae-11ee-89fa-0242ac120005-2-d6c1-0b86",
       "previous": "7163cf84-56fb-11ec-a1da-0242ac120004-3-09bf-bd18-8d4b"
      },
      {
       "current": "7163d132-56fb-11ec-a1da-0242ac120004-5-18a6-ccac-20f0-271e-942f",
       "next": "162bf270-6cae-11ee-89fa-0242ac120005-3-d6c1-0b86-be39",
       "previous": "7163cf84-56fb-11ec-a1da-0242ac120004-4-09bf-bd18-8d4b-478e"
      }
     ],
     "next": "162bf270-6cae-11ee-89fa-0242ac120005-4-d6c1-0b86-be39-6106",
     "previous": "7163cf84-56fb-11ec-a1da-0242ac120004-5-09bf-bd18-8d4b-478e-1dbc"
    }
   },
   "outputs": [],
   "source": [
    "# メンテナンス対応先ノード\n",
    "instance_name = 'ceph-xxx-node-007'"
   ]
  },
  {
   "cell_type": "code",
   "execution_count": null,
   "metadata": {
    "lc_cell_meme": {
     "current": "162bf270-6cae-11ee-89fa-0242ac120005-4-d6c1-0b86-be39-6106",
     "history": [
      {
       "current": "162bf270-6cae-11ee-89fa-0242ac120005-1-d6c1",
       "next": "7163d2d6-56fb-11ec-a1da-0242ac120004-1-e7d2",
       "previous": "7163d132-56fb-11ec-a1da-0242ac120004-1-18a6"
      },
      {
       "current": "162bf270-6cae-11ee-89fa-0242ac120005-2-d6c1-0b86",
       "next": "7163d2d6-56fb-11ec-a1da-0242ac120004-2-e7d2-f9a8",
       "previous": "7163d132-56fb-11ec-a1da-0242ac120004-2-18a6-ccac"
      },
      {
       "current": "162bf270-6cae-11ee-89fa-0242ac120005-3-d6c1-0b86-be39",
       "next": "7163d2d6-56fb-11ec-a1da-0242ac120004-3-e7d2-f9a8-0078",
       "previous": "7163d132-56fb-11ec-a1da-0242ac120004-3-18a6-ccac-20f0"
      },
      {
       "current": "162bf270-6cae-11ee-89fa-0242ac120005-4-d6c1-0b86-be39-6106",
       "next": "7163d2d6-56fb-11ec-a1da-0242ac120004-4-e7d2-f9a8-0078-6f8c",
       "previous": "7163d132-56fb-11ec-a1da-0242ac120004-4-18a6-ccac-20f0-271e"
      }
     ],
     "next": "7163d2d6-56fb-11ec-a1da-0242ac120004-5-e7d2-f9a8-0078-6f8c-0acf",
     "previous": "7163d132-56fb-11ec-a1da-0242ac120004-5-18a6-ccac-20f0-271e-942f"
    }
   },
   "outputs": [],
   "source": [
    "# instance_nameと同じインスタンスを指定しないこと\n",
    "bootstrap_node_name = 'ceph-xxx-node-001'"
   ]
  },
  {
   "cell_type": "code",
   "execution_count": null,
   "metadata": {
    "lc_cell_meme": {
     "current": "7163d2d6-56fb-11ec-a1da-0242ac120004-5-e7d2-f9a8-0078-6f8c-0acf",
     "history": [
      {
       "current": "7163d2d6-56fb-11ec-a1da-0242ac120004-1-e7d2",
       "next": "7163d470-56fb-11ec-a1da-0242ac120004",
       "previous": "7163d132-56fb-11ec-a1da-0242ac120004"
      },
      {
       "current": "7163d2d6-56fb-11ec-a1da-0242ac120004-1-e7d2",
       "next": "7163d470-56fb-11ec-a1da-0242ac120004-1-1660",
       "previous": "7163d132-56fb-11ec-a1da-0242ac120004-1-18a6"
      },
      {
       "current": "7163d2d6-56fb-11ec-a1da-0242ac120004-2-e7d2-f9a8",
       "next": "162bf3ec-6cae-11ee-89fa-0242ac120005",
       "previous": "162bf270-6cae-11ee-89fa-0242ac120005"
      },
      {
       "current": "7163d2d6-56fb-11ec-a1da-0242ac120004-3-e7d2-f9a8-0078",
       "next": "162bf3ec-6cae-11ee-89fa-0242ac120005-1-b347",
       "previous": "162bf270-6cae-11ee-89fa-0242ac120005-1-d6c1"
      },
      {
       "current": "7163d2d6-56fb-11ec-a1da-0242ac120004-4-e7d2-f9a8-0078-6f8c",
       "next": "162bf3ec-6cae-11ee-89fa-0242ac120005-2-b347-6a89",
       "previous": "162bf270-6cae-11ee-89fa-0242ac120005-2-d6c1-0b86"
      },
      {
       "current": "7163d2d6-56fb-11ec-a1da-0242ac120004-5-e7d2-f9a8-0078-6f8c-0acf",
       "next": "162bf3ec-6cae-11ee-89fa-0242ac120005-3-b347-6a89-2c94",
       "previous": "162bf270-6cae-11ee-89fa-0242ac120005-3-d6c1-0b86-be39"
      }
     ],
     "next": "162bf3ec-6cae-11ee-89fa-0242ac120005-4-b347-6a89-2c94-f13f",
     "previous": "162bf270-6cae-11ee-89fa-0242ac120005-4-d6c1-0b86-be39-6106"
    }
   },
   "outputs": [],
   "source": [
    "target = None\n",
    "for elem in node_list:\n",
    "    if elem['name'] == instance_name:\n",
    "        target = elem\n",
    "        break\n",
    "\n",
    "assert (target is not None), \"指定されたターゲットノードが存在しません。\"\n",
    "print (target)"
   ]
  },
  {
   "cell_type": "code",
   "execution_count": null,
   "metadata": {
    "lc_cell_meme": {
     "current": "162bf3ec-6cae-11ee-89fa-0242ac120005-4-b347-6a89-2c94-f13f",
     "history": [
      {
       "current": "162bf3ec-6cae-11ee-89fa-0242ac120005-1-b347",
       "next": "7163d470-56fb-11ec-a1da-0242ac120004-1-1660",
       "previous": "7163d2d6-56fb-11ec-a1da-0242ac120004-1-e7d2"
      },
      {
       "current": "162bf3ec-6cae-11ee-89fa-0242ac120005-2-b347-6a89",
       "next": "7163d470-56fb-11ec-a1da-0242ac120004-2-1660-1518",
       "previous": "7163d2d6-56fb-11ec-a1da-0242ac120004-2-e7d2-f9a8"
      },
      {
       "current": "162bf3ec-6cae-11ee-89fa-0242ac120005-3-b347-6a89-2c94",
       "next": "7163d470-56fb-11ec-a1da-0242ac120004-3-1660-1518-b102",
       "previous": "7163d2d6-56fb-11ec-a1da-0242ac120004-3-e7d2-f9a8-0078"
      },
      {
       "current": "162bf3ec-6cae-11ee-89fa-0242ac120005-4-b347-6a89-2c94-f13f",
       "next": "7163d470-56fb-11ec-a1da-0242ac120004-4-1660-1518-b102-fbf1",
       "previous": "7163d2d6-56fb-11ec-a1da-0242ac120004-4-e7d2-f9a8-0078-6f8c"
      }
     ],
     "next": "7163d470-56fb-11ec-a1da-0242ac120004-5-1660-1518-b102-fbf1-bd82",
     "previous": "7163d2d6-56fb-11ec-a1da-0242ac120004-5-e7d2-f9a8-0078-6f8c-0acf"
    }
   },
   "outputs": [],
   "source": [
    "bootstrap_node = None\n",
    "for elem in node_list:\n",
    "    if elem['name'] == bootstrap_node_name:\n",
    "        bootstrap_node = elem\n",
    "        break\n",
    "\n",
    "assert (bootstrap_node is not None), \"指定されたターゲットノードが存在しません。\"\n",
    "print (bootstrap_node)"
   ]
  },
  {
   "cell_type": "markdown",
   "metadata": {
    "lc_cell_meme": {
     "current": "7163d470-56fb-11ec-a1da-0242ac120004-5-1660-1518-b102-fbf1-bd82",
     "history": [
      {
       "current": "7163d470-56fb-11ec-a1da-0242ac120004-1-1660",
       "next": "7163d60a-56fb-11ec-a1da-0242ac120004",
       "previous": "7163d2d6-56fb-11ec-a1da-0242ac120004"
      },
      {
       "current": "7163d470-56fb-11ec-a1da-0242ac120004-1-1660",
       "next": "7163d60a-56fb-11ec-a1da-0242ac120004-1-989b",
       "previous": "7163d2d6-56fb-11ec-a1da-0242ac120004-1-e7d2"
      },
      {
       "current": "7163d470-56fb-11ec-a1da-0242ac120004-1-1660",
       "next": "7163d60a-56fb-11ec-a1da-0242ac120004-1-989b",
       "previous": "162bf3ec-6cae-11ee-89fa-0242ac120005"
      },
      {
       "current": "7163d470-56fb-11ec-a1da-0242ac120004-2-1660-1518",
       "next": "743175ea-56fb-11ec-a1da-0242ac120004-2-33ed-7a5f",
       "previous": "162bf3ec-6cae-11ee-89fa-0242ac120005"
      },
      {
       "current": "7163d470-56fb-11ec-a1da-0242ac120004-3-1660-1518-b102",
       "next": "743175ea-56fb-11ec-a1da-0242ac120004-3-33ed-7a5f-dd59",
       "previous": "162bf3ec-6cae-11ee-89fa-0242ac120005-1-b347"
      },
      {
       "current": "7163d470-56fb-11ec-a1da-0242ac120004-4-1660-1518-b102-fbf1",
       "next": "743175ea-56fb-11ec-a1da-0242ac120004-4-33ed-7a5f-dd59-1645",
       "previous": "162bf3ec-6cae-11ee-89fa-0242ac120005-2-b347-6a89"
      },
      {
       "current": "7163d470-56fb-11ec-a1da-0242ac120004-5-1660-1518-b102-fbf1-bd82",
       "next": "743175ea-56fb-11ec-a1da-0242ac120004-5-33ed-7a5f-dd59-1645-7ab4",
       "previous": "162bf3ec-6cae-11ee-89fa-0242ac120005-3-b347-6a89-2c94"
      }
     ],
     "next": "743175ea-56fb-11ec-a1da-0242ac120004-6-33ed-7a5f-dd59-1645-7ab4-856f",
     "previous": "162bf3ec-6cae-11ee-89fa-0242ac120005-4-b347-6a89-2c94-f13f"
    }
   },
   "source": [
    "## 一時Inventoryファイルの生成\n",
    "以下を実行し、作業用ディレクトリ配下に一時Inventoryファイルを生成する。"
   ]
  },
  {
   "cell_type": "markdown",
   "metadata": {
    "lc_cell_meme": {
     "current": "743175ea-56fb-11ec-a1da-0242ac120004-6-33ed-7a5f-dd59-1645-7ab4-856f",
     "history": [
      {
       "current": "743175ea-56fb-11ec-a1da-0242ac120004-2-33ed-7a5f",
       "next": "7431796e-56fb-11ec-a1da-0242ac120004",
       "previous": "7163d7ae-56fb-11ec-a1da-0242ac120004"
      },
      {
       "current": "743175ea-56fb-11ec-a1da-0242ac120004-2-33ed-7a5f",
       "next": "7431796e-56fb-11ec-a1da-0242ac120004-1-d0f1",
       "previous": "7163d7ae-56fb-11ec-a1da-0242ac120004-1-0ea4"
      },
      {
       "current": "743175ea-56fb-11ec-a1da-0242ac120004-3-33ed-7a5f-dd59",
       "next": "7431796e-56fb-11ec-a1da-0242ac120004-1-d0f1",
       "previous": "7163d470-56fb-11ec-a1da-0242ac120004-1-1660"
      },
      {
       "current": "743175ea-56fb-11ec-a1da-0242ac120004-4-33ed-7a5f-dd59-1645",
       "next": "7431796e-56fb-11ec-a1da-0242ac120004-2-d0f1-80a6",
       "previous": "7163d470-56fb-11ec-a1da-0242ac120004-2-1660-1518"
      },
      {
       "current": "743175ea-56fb-11ec-a1da-0242ac120004-5-33ed-7a5f-dd59-1645-7ab4",
       "next": "7431796e-56fb-11ec-a1da-0242ac120004-3-d0f1-80a6-2739",
       "previous": "7163d470-56fb-11ec-a1da-0242ac120004-3-1660-1518-b102"
      },
      {
       "current": "743175ea-56fb-11ec-a1da-0242ac120004-6-33ed-7a5f-dd59-1645-7ab4-856f",
       "next": "7431796e-56fb-11ec-a1da-0242ac120004-4-d0f1-80a6-2739-67f2",
       "previous": "7163d470-56fb-11ec-a1da-0242ac120004-4-1660-1518-b102-fbf1"
      }
     ],
     "next": "7431796e-56fb-11ec-a1da-0242ac120004-5-d0f1-80a6-2739-67f2-071b",
     "previous": "7163d470-56fb-11ec-a1da-0242ac120004-5-1660-1518-b102-fbf1-bd82"
    }
   },
   "source": [
    "Inventoryファイルを生成する。"
   ]
  },
  {
   "cell_type": "code",
   "execution_count": null,
   "metadata": {
    "lc_cell_meme": {
     "current": "7431796e-56fb-11ec-a1da-0242ac120004-5-d0f1-80a6-2739-67f2-071b",
     "history": [
      {
       "current": "7431796e-56fb-11ec-a1da-0242ac120004",
       "next": "74317b3a-56fb-11ec-a1da-0242ac120004",
       "previous": "743175ea-56fb-11ec-a1da-0242ac120004"
      },
      {
       "current": "7431796e-56fb-11ec-a1da-0242ac120004-1-d0f1",
       "next": "74317b3a-56fb-11ec-a1da-0242ac120004-1-6a3c",
       "previous": "743175ea-56fb-11ec-a1da-0242ac120004-1-33ed"
      },
      {
       "current": "7431796e-56fb-11ec-a1da-0242ac120004-2-d0f1-80a6",
       "next": "74317b3a-56fb-11ec-a1da-0242ac120004-2-6a3c-5cd9",
       "previous": "743175ea-56fb-11ec-a1da-0242ac120004-2-33ed-7a5f"
      },
      {
       "current": "7431796e-56fb-11ec-a1da-0242ac120004-3-d0f1-80a6-2739",
       "next": "74317b3a-56fb-11ec-a1da-0242ac120004-3-6a3c-5cd9-1d6d",
       "previous": "743175ea-56fb-11ec-a1da-0242ac120004-3-33ed-7a5f-dd59"
      },
      {
       "current": "7431796e-56fb-11ec-a1da-0242ac120004-4-d0f1-80a6-2739-67f2",
       "next": "74317b3a-56fb-11ec-a1da-0242ac120004-4-6a3c-5cd9-1d6d-a1e2",
       "previous": "743175ea-56fb-11ec-a1da-0242ac120004-4-33ed-7a5f-dd59-1645"
      },
      {
       "current": "7431796e-56fb-11ec-a1da-0242ac120004-5-d0f1-80a6-2739-67f2-071b",
       "next": "74317b3a-56fb-11ec-a1da-0242ac120004-5-6a3c-5cd9-1d6d-a1e2-21c0",
       "previous": "743175ea-56fb-11ec-a1da-0242ac120004-5-33ed-7a5f-dd59-1645-7ab4"
      }
     ],
     "next": "74317b3a-56fb-11ec-a1da-0242ac120004-6-6a3c-5cd9-1d6d-a1e2-21c0-a1f8",
     "previous": "743175ea-56fb-11ec-a1da-0242ac120004-6-33ed-7a5f-dd59-1645-7ab4-856f"
    }
   },
   "outputs": [],
   "source": [
    "node_user='xxxxx'\n",
    "proxy_user='xxxxx'\n",
    "proxy_key='~/.ssh/id_ras'"
   ]
  },
  {
   "cell_type": "markdown",
   "metadata": {
    "lc_cell_meme": {
     "current": "74317b3a-56fb-11ec-a1da-0242ac120004-6-6a3c-5cd9-1d6d-a1e2-21c0-a1f8",
     "history": [
      {
       "current": "74317b3a-56fb-11ec-a1da-0242ac120004-2-6a3c-5cd9",
       "next": "74317cb6-56fb-11ec-a1da-0242ac120004",
       "previous": "7431796e-56fb-11ec-a1da-0242ac120004"
      },
      {
       "current": "74317b3a-56fb-11ec-a1da-0242ac120004-2-6a3c-5cd9",
       "next": "74317cb6-56fb-11ec-a1da-0242ac120004-1-9d19",
       "previous": "7431796e-56fb-11ec-a1da-0242ac120004-1-d0f1"
      },
      {
       "current": "74317b3a-56fb-11ec-a1da-0242ac120004-3-6a3c-5cd9-1d6d",
       "next": "74317e28-56fb-11ec-a1da-0242ac120004-1-474d",
       "previous": "7431796e-56fb-11ec-a1da-0242ac120004-1-d0f1"
      },
      {
       "current": "74317b3a-56fb-11ec-a1da-0242ac120004-4-6a3c-5cd9-1d6d-a1e2",
       "next": "74317e28-56fb-11ec-a1da-0242ac120004-2-474d-ce44",
       "previous": "7431796e-56fb-11ec-a1da-0242ac120004-2-d0f1-80a6"
      },
      {
       "current": "74317b3a-56fb-11ec-a1da-0242ac120004-5-6a3c-5cd9-1d6d-a1e2-21c0",
       "next": "74317e28-56fb-11ec-a1da-0242ac120004-3-474d-ce44-5a68",
       "previous": "7431796e-56fb-11ec-a1da-0242ac120004-3-d0f1-80a6-2739"
      },
      {
       "current": "74317b3a-56fb-11ec-a1da-0242ac120004-6-6a3c-5cd9-1d6d-a1e2-21c0-a1f8",
       "next": "74317e28-56fb-11ec-a1da-0242ac120004-4-474d-ce44-5a68-3324",
       "previous": "7431796e-56fb-11ec-a1da-0242ac120004-4-d0f1-80a6-2739-67f2"
      }
     ],
     "next": "74317e28-56fb-11ec-a1da-0242ac120004-5-474d-ce44-5a68-3324-0837",
     "previous": "7431796e-56fb-11ec-a1da-0242ac120004-5-d0f1-80a6-2739-67f2-071b"
    }
   },
   "source": [
    "sudoでパスワードが必要な場合は、パスワード入力を設定してansible.cfgに設定すること。"
   ]
  },
  {
   "cell_type": "code",
   "execution_count": null,
   "metadata": {
    "lc_cell_meme": {
     "current": "74317e28-56fb-11ec-a1da-0242ac120004-5-474d-ce44-5a68-3324-0837",
     "history": [
      {
       "current": "74317e28-56fb-11ec-a1da-0242ac120004",
       "next": "c709e59c-56f9-11ec-a1da-0242ac120004",
       "previous": "74317cb6-56fb-11ec-a1da-0242ac120004"
      },
      {
       "current": "74317e28-56fb-11ec-a1da-0242ac120004-1-474d",
       "next": "35c362a4-55a3-11e7-b0b2-00163e9c0e35-1-e49a",
       "previous": "74317cb6-56fb-11ec-a1da-0242ac120004"
      },
      {
       "current": "74317e28-56fb-11ec-a1da-0242ac120004-1-474d",
       "next": "35c362a4-55a3-11e7-b0b2-00163e9c0e35-2-e49a-f407",
       "previous": "74317cb6-56fb-11ec-a1da-0242ac120004-1-9d19"
      },
      {
       "current": "74317e28-56fb-11ec-a1da-0242ac120004-2-474d-ce44",
       "next": "35c362a4-55a3-11e7-b0b2-00163e9c0e35-2-e49a-f407",
       "previous": "74317b3a-56fb-11ec-a1da-0242ac120004-2-6a3c-5cd9"
      },
      {
       "current": "74317e28-56fb-11ec-a1da-0242ac120004-3-474d-ce44-5a68",
       "next": "35c362a4-55a3-11e7-b0b2-00163e9c0e35-3-e49a-f407-4055",
       "previous": "74317b3a-56fb-11ec-a1da-0242ac120004-3-6a3c-5cd9-1d6d"
      },
      {
       "current": "74317e28-56fb-11ec-a1da-0242ac120004-3-474d-ce44-5a68",
       "next": "35c362a4-55a3-11e7-b0b2-00163e9c0e35-4-e49a-f407-4055-ac46",
       "previous": "74317b3a-56fb-11ec-a1da-0242ac120004-4-6a3c-5cd9-1d6d-a1e2"
      },
      {
       "current": "74317e28-56fb-11ec-a1da-0242ac120004-4-474d-ce44-5a68-3324",
       "next": "5d88165a-2304-11ef-ad2f-0242ac120005",
       "previous": "74317b3a-56fb-11ec-a1da-0242ac120004-4-6a3c-5cd9-1d6d-a1e2"
      },
      {
       "current": "74317e28-56fb-11ec-a1da-0242ac120004-5-474d-ce44-5a68-3324-0837",
       "next": "5d88165a-2304-11ef-ad2f-0242ac120005-1-7acb",
       "previous": "74317b3a-56fb-11ec-a1da-0242ac120004-5-6a3c-5cd9-1d6d-a1e2-21c0"
      }
     ],
     "next": "5d88165a-2304-11ef-ad2f-0242ac120005-2-7acb-7445",
     "previous": "74317b3a-56fb-11ec-a1da-0242ac120004-6-6a3c-5cd9-1d6d-a1e2-21c0-a1f8"
    }
   },
   "outputs": [],
   "source": [
    "import os\n",
    "\n",
    "with open( os.path.join(temp_dir, \"hosts\"), 'w') as f:\n",
    "     f.write('''[ceph_admin]\n",
    "{ceph_admin_ip}   ansible_user={proxy_user} ansible_ssh_private_key_file={proxy_key} ansible_python_interpreter=/usr/bin/python3\n",
    "[ceph_node]\n",
    "{node_ip}  ansible_user={node_user} ansible_ssh_common_args='-o ControlMaster=auto -o StrictHostKeyChecking=no -o ControlPersist=30m -o ProxyCommand=\"ssh -W %h:%p -i {proxy_key} -q {proxy_user}@{ceph_admin_ip}\"' ansible_python_interpreter=/usr/bin/python3\n",
    "'''.format(ceph_admin_ip=ceph_admin_ip, node_ip=target[\"prov_ip\"],\n",
    "           node_user=node_user, proxy_user=proxy_user, proxy_key=proxy_key))\n",
    "     f.write('''[bootstrap]\n",
    "{node_ip}  ansible_user={node_user} ansible_ssh_common_args='-o ControlMaster=auto -o StrictHostKeyChecking=no -o ControlPersist=30m -o ProxyCommand=\"ssh -W %h:%p -i {proxy_key} -q {proxy_user}@{ceph_admin_ip}\"' ansible_python_interpreter=/usr/bin/python3\n",
    "'''.format(ceph_admin_ip=ceph_admin_ip, node_ip=bootstrap_node[\"prov_ip\"],\n",
    "           node_user=node_user, proxy_user=proxy_user, proxy_key=proxy_key))\n",
    "\n",
    "hosts = temp_dir + \"/hosts\"\n",
    "\n",
    "!cat $hosts"
   ]
  },
  {
   "cell_type": "code",
   "execution_count": null,
   "metadata": {
    "lc_cell_meme": {
     "current": "5d88165a-2304-11ef-ad2f-0242ac120005-2-7acb-7445",
     "history": [
      {
       "current": "5d88165a-2304-11ef-ad2f-0242ac120005-1-7acb",
       "next": "35c362a4-55a3-11e7-b0b2-00163e9c0e35-4-e49a-f407-4055-ac46",
       "previous": "74317e28-56fb-11ec-a1da-0242ac120004-3-474d-ce44-5a68"
      },
      {
       "current": "5d88165a-2304-11ef-ad2f-0242ac120005-2-7acb-7445",
       "next": "35c362a4-55a3-11e7-b0b2-00163e9c0e35-5-e49a-f407-4055-ac46-facd",
       "previous": "74317e28-56fb-11ec-a1da-0242ac120004-4-474d-ce44-5a68-3324"
      }
     ],
     "next": "35c362a4-55a3-11e7-b0b2-00163e9c0e35-6-e49a-f407-4055-ac46-facd-0ff4",
     "previous": "74317e28-56fb-11ec-a1da-0242ac120004-5-474d-ce44-5a68-3324-0837"
    }
   },
   "outputs": [],
   "source": [
    "%env ANSIBLE_INVENTORY={hosts}"
   ]
  },
  {
   "cell_type": "markdown",
   "metadata": {
    "lc_cell_meme": {
     "current": "35c362a4-55a3-11e7-b0b2-00163e9c0e35-6-e49a-f407-4055-ac46-facd-0ff4",
     "history": [
      {
       "current": "35c362a4-55a3-11e7-b0b2-00163e9c0e35",
       "next": "35c36448-55a3-11e7-b0b2-00163e9c0e35",
       "previous": "35c360f6-55a3-11e7-b0b2-00163e9c0e35"
      },
      {
       "current": "35c362a4-55a3-11e7-b0b2-00163e9c0e35",
       "next": "35c36448-55a3-11e7-b0b2-00163e9c0e35",
       "previous": "4cd5b0cc-7ef5-11ea-a926-0242ac120004"
      },
      {
       "current": "35c362a4-55a3-11e7-b0b2-00163e9c0e35",
       "next": "35c36448-55a3-11e7-b0b2-00163e9c0e35",
       "previous": "db546a28-7ef5-11ea-a926-0242ac120004"
      },
      {
       "current": "35c362a4-55a3-11e7-b0b2-00163e9c0e35",
       "next": "35c36448-55a3-11e7-b0b2-00163e9c0e35",
       "previous": "4cd5af28-7ef5-11ea-a926-0242ac120004"
      },
      {
       "current": "35c362a4-55a3-11e7-b0b2-00163e9c0e35",
       "next": "35c36448-55a3-11e7-b0b2-00163e9c0e35",
       "previous": "7d464504-9107-11ea-8d02-0242ac120007"
      },
      {
       "current": "35c362a4-55a3-11e7-b0b2-00163e9c0e35",
       "next": "35c36448-55a3-11e7-b0b2-00163e9c0e35",
       "previous": "bd797188-910b-11ea-8d02-0242ac120007"
      },
      {
       "current": "35c362a4-55a3-11e7-b0b2-00163e9c0e35",
       "next": "35c36448-55a3-11e7-b0b2-00163e9c0e35",
       "previous": "70b95056-9111-11ea-8d02-0242ac120007"
      },
      {
       "current": "35c362a4-55a3-11e7-b0b2-00163e9c0e35",
       "next": "35c36448-55a3-11e7-b0b2-00163e9c0e35",
       "previous": "bd797188-910b-11ea-8d02-0242ac120007"
      },
      {
       "current": "35c362a4-55a3-11e7-b0b2-00163e9c0e35",
       "next": "bd797188-910b-11ea-8d02-0242ac120007",
       "previous": "4cd5af28-7ef5-11ea-a926-0242ac120004"
      },
      {
       "current": "35c362a4-55a3-11e7-b0b2-00163e9c0e35",
       "next": "484c7376-935c-11ea-8d02-0242ac120007",
       "previous": "4cd5af28-7ef5-11ea-a926-0242ac120004"
      },
      {
       "current": "35c362a4-55a3-11e7-b0b2-00163e9c0e35-1-e49a",
       "next": "bd797188-910b-11ea-8d02-0242ac120007",
       "previous": "4cd5af28-7ef5-11ea-a926-0242ac120004"
      },
      {
       "current": "35c362a4-55a3-11e7-b0b2-00163e9c0e35-1-e49a",
       "next": "bd797188-910b-11ea-8d02-0242ac120007-1-a27b",
       "previous": "4cd5af28-7ef5-11ea-a926-0242ac120004-1-4700"
      },
      {
       "current": "35c362a4-55a3-11e7-b0b2-00163e9c0e35-1-e49a",
       "next": "bd797188-910b-11ea-8d02-0242ac120007-1-a27b",
       "previous": "35c337f2-55a3-11e7-b0b2-00163e9c0e35-1-dc7a"
      },
      {
       "current": "35c362a4-55a3-11e7-b0b2-00163e9c0e35-1-e49a",
       "next": "bd797188-910b-11ea-8d02-0242ac120007-1-a27b",
       "previous": "37fd8534-56f9-11ec-a1da-0242ac120004"
      },
      {
       "current": "35c362a4-55a3-11e7-b0b2-00163e9c0e35-1-e49a",
       "next": "bd797188-910b-11ea-8d02-0242ac120007-1-a27b",
       "previous": "c709e722-56f9-11ec-a1da-0242ac120004"
      },
      {
       "current": "35c362a4-55a3-11e7-b0b2-00163e9c0e35-2-e49a-f407",
       "next": "bd797188-910b-11ea-8d02-0242ac120007-1-a27b",
       "previous": "74317e28-56fb-11ec-a1da-0242ac120004"
      },
      {
       "current": "35c362a4-55a3-11e7-b0b2-00163e9c0e35-3-e49a-f407-4055",
       "next": "bd797188-910b-11ea-8d02-0242ac120007-2-a27b-d878",
       "previous": "74317e28-56fb-11ec-a1da-0242ac120004-1-474d"
      },
      {
       "current": "35c362a4-55a3-11e7-b0b2-00163e9c0e35-4-e49a-f407-4055-ac46",
       "next": "bd797188-910b-11ea-8d02-0242ac120007-3-a27b-d878-9699",
       "previous": "74317e28-56fb-11ec-a1da-0242ac120004-2-474d-ce44"
      },
      {
       "current": "35c362a4-55a3-11e7-b0b2-00163e9c0e35-4-e49a-f407-4055-ac46",
       "next": "bd797188-910b-11ea-8d02-0242ac120007-4-a27b-d878-9699-9f45",
       "previous": "74317e28-56fb-11ec-a1da-0242ac120004-3-474d-ce44-5a68"
      },
      {
       "current": "35c362a4-55a3-11e7-b0b2-00163e9c0e35-5-e49a-f407-4055-ac46-facd",
       "next": "bd797188-910b-11ea-8d02-0242ac120007-4-a27b-d878-9699-9f45",
       "previous": "5d88165a-2304-11ef-ad2f-0242ac120005"
      },
      {
       "current": "35c362a4-55a3-11e7-b0b2-00163e9c0e35-6-e49a-f407-4055-ac46-facd-0ff4",
       "next": "bd797188-910b-11ea-8d02-0242ac120007-5-a27b-d878-9699-9f45-16a6",
       "previous": "5d88165a-2304-11ef-ad2f-0242ac120005-1-7acb"
      }
     ],
     "next": "bd797188-910b-11ea-8d02-0242ac120007-6-a27b-d878-9699-9f45-16a6-5bc1",
     "previous": "5d88165a-2304-11ef-ad2f-0242ac120005-2-7acb-7445"
    }
   },
   "source": [
    "# 疎通確認\n",
    "以下コマンドを実行し、OpeHubからCephAdmin経由で、Cephノードに疎通することを確認する。"
   ]
  },
  {
   "cell_type": "code",
   "execution_count": null,
   "metadata": {
    "lc_cell_meme": {
     "current": "bd797188-910b-11ea-8d02-0242ac120007-6-a27b-d878-9699-9f45-16a6-5bc1",
     "history": [
      {
       "current": "bd797188-910b-11ea-8d02-0242ac120007",
       "next": "35c362a4-55a3-11e7-b0b2-00163e9c0e35",
       "previous": "7d464504-9107-11ea-8d02-0242ac120007"
      },
      {
       "current": "bd797188-910b-11ea-8d02-0242ac120007",
       "next": "70b95056-9111-11ea-8d02-0242ac120007",
       "previous": "7d464504-9107-11ea-8d02-0242ac120007"
      },
      {
       "current": "bd797188-910b-11ea-8d02-0242ac120007",
       "next": "35c362a4-55a3-11e7-b0b2-00163e9c0e35",
       "previous": "7d464504-9107-11ea-8d02-0242ac120007"
      },
      {
       "current": "bd797188-910b-11ea-8d02-0242ac120007",
       "next": "35c362a4-55a3-11e7-b0b2-00163e9c0e35",
       "previous": "4cd5af28-7ef5-11ea-a926-0242ac120004"
      },
      {
       "current": "bd797188-910b-11ea-8d02-0242ac120007",
       "next": "35c36448-55a3-11e7-b0b2-00163e9c0e35",
       "previous": "35c362a4-55a3-11e7-b0b2-00163e9c0e35"
      },
      {
       "current": "bd797188-910b-11ea-8d02-0242ac120007",
       "next": "35c3783e-55a3-11e7-b0b2-00163e9c0e35",
       "previous": "35c362a4-55a3-11e7-b0b2-00163e9c0e35"
      },
      {
       "current": "bd797188-910b-11ea-8d02-0242ac120007",
       "next": "35c3783e-55a3-11e7-b0b2-00163e9c0e35",
       "previous": "484c7376-935c-11ea-8d02-0242ac120007"
      },
      {
       "current": "bd797188-910b-11ea-8d02-0242ac120007",
       "next": "35c3783e-55a3-11e7-b0b2-00163e9c0e35",
       "previous": "35c362a4-55a3-11e7-b0b2-00163e9c0e35"
      },
      {
       "current": "bd797188-910b-11ea-8d02-0242ac120007",
       "next": "ac56a252-95bd-11ea-8d02-0242ac120007",
       "previous": "35c362a4-55a3-11e7-b0b2-00163e9c0e35"
      },
      {
       "current": "bd797188-910b-11ea-8d02-0242ac120007",
       "next": "3121c468-9a31-11ea-8d02-0242ac120007",
       "previous": "35c362a4-55a3-11e7-b0b2-00163e9c0e35"
      },
      {
       "current": "bd797188-910b-11ea-8d02-0242ac120007",
       "next": "65205d38-9a36-11ea-8d02-0242ac120007",
       "previous": "35c362a4-55a3-11e7-b0b2-00163e9c0e35"
      },
      {
       "current": "bd797188-910b-11ea-8d02-0242ac120007-1-a27b",
       "next": "9418ce40-9a36-11ea-8d02-0242ac120007",
       "previous": "35c362a4-55a3-11e7-b0b2-00163e9c0e35"
      },
      {
       "current": "bd797188-910b-11ea-8d02-0242ac120007-2-a27b-d878",
       "next": "9418ce40-9a36-11ea-8d02-0242ac120007-1-e415",
       "previous": "35c362a4-55a3-11e7-b0b2-00163e9c0e35-1-e49a"
      },
      {
       "current": "bd797188-910b-11ea-8d02-0242ac120007-3-a27b-d878-9699",
       "next": "9418ce40-9a36-11ea-8d02-0242ac120007-2-e415-abb0",
       "previous": "35c362a4-55a3-11e7-b0b2-00163e9c0e35-2-e49a-f407"
      },
      {
       "current": "bd797188-910b-11ea-8d02-0242ac120007-4-a27b-d878-9699-9f45",
       "next": "9418ce40-9a36-11ea-8d02-0242ac120007-3-e415-abb0-76f2",
       "previous": "35c362a4-55a3-11e7-b0b2-00163e9c0e35-3-e49a-f407-4055"
      },
      {
       "current": "bd797188-910b-11ea-8d02-0242ac120007-5-a27b-d878-9699-9f45-16a6",
       "next": "9418ce40-9a36-11ea-8d02-0242ac120007-4-e415-abb0-76f2-1326",
       "previous": "35c362a4-55a3-11e7-b0b2-00163e9c0e35-4-e49a-f407-4055-ac46"
      },
      {
       "current": "bd797188-910b-11ea-8d02-0242ac120007-6-a27b-d878-9699-9f45-16a6-5bc1",
       "next": "9418ce40-9a36-11ea-8d02-0242ac120007-5-e415-abb0-76f2-1326-1c9f",
       "previous": "35c362a4-55a3-11e7-b0b2-00163e9c0e35-5-e49a-f407-4055-ac46-facd"
      }
     ],
     "next": "9418ce40-9a36-11ea-8d02-0242ac120007-6-e415-abb0-76f2-1326-1c9f-5fe1",
     "previous": "35c362a4-55a3-11e7-b0b2-00163e9c0e35-6-e49a-f407-4055-ac46-facd-0ff4"
    }
   },
   "outputs": [],
   "source": [
    "!ansible -i $hosts -b -m shell -a 'hostname' ceph_admin"
   ]
  },
  {
   "cell_type": "markdown",
   "metadata": {
    "lc_cell_meme": {
     "current": "9418ce40-9a36-11ea-8d02-0242ac120007-6-e415-abb0-76f2-1326-1c9f-5fe1",
     "history": [
      {
       "current": "9418ce40-9a36-11ea-8d02-0242ac120007-1-e415",
       "next": "65205d38-9a36-11ea-8d02-0242ac120007",
       "previous": "bd797188-910b-11ea-8d02-0242ac120007"
      },
      {
       "current": "9418ce40-9a36-11ea-8d02-0242ac120007-2-e415-abb0",
       "next": "65205d38-9a36-11ea-8d02-0242ac120007-1-4503",
       "previous": "bd797188-910b-11ea-8d02-0242ac120007-1-a27b"
      },
      {
       "current": "9418ce40-9a36-11ea-8d02-0242ac120007-2-e415-abb0",
       "next": "65205d38-9a36-11ea-8d02-0242ac120007-2-4503-c921",
       "previous": "bd797188-910b-11ea-8d02-0242ac120007-2-a27b-d878"
      },
      {
       "current": "9418ce40-9a36-11ea-8d02-0242ac120007-3-e415-abb0-76f2",
       "next": "034b7262-56fc-11ec-a1da-0242ac120004-1-6184",
       "previous": "bd797188-910b-11ea-8d02-0242ac120007-2-a27b-d878"
      },
      {
       "current": "9418ce40-9a36-11ea-8d02-0242ac120007-4-e415-abb0-76f2-1326",
       "next": "034b7262-56fc-11ec-a1da-0242ac120004-2-6184-89e8",
       "previous": "bd797188-910b-11ea-8d02-0242ac120007-3-a27b-d878-9699"
      },
      {
       "current": "9418ce40-9a36-11ea-8d02-0242ac120007-5-e415-abb0-76f2-1326-1c9f",
       "next": "034b7262-56fc-11ec-a1da-0242ac120004-3-6184-89e8-f555",
       "previous": "bd797188-910b-11ea-8d02-0242ac120007-4-a27b-d878-9699-9f45"
      },
      {
       "current": "9418ce40-9a36-11ea-8d02-0242ac120007-6-e415-abb0-76f2-1326-1c9f-5fe1",
       "next": "034b7262-56fc-11ec-a1da-0242ac120004-4-6184-89e8-f555-b416",
       "previous": "bd797188-910b-11ea-8d02-0242ac120007-5-a27b-d878-9699-9f45-16a6"
      }
     ],
     "next": "034b7262-56fc-11ec-a1da-0242ac120004-5-6184-89e8-f555-b416-592b",
     "previous": "bd797188-910b-11ea-8d02-0242ac120007-6-a27b-d878-9699-9f45-16a6-5bc1"
    }
   },
   "source": [
    "以下コマンドを実行し、OpeHubからCephAdminに疎通することを確認する。"
   ]
  },
  {
   "cell_type": "code",
   "execution_count": null,
   "metadata": {
    "lc_cell_meme": {
     "current": "034b7262-56fc-11ec-a1da-0242ac120004-5-6184-89e8-f555-b416-592b",
     "history": [
      {
       "current": "034b7262-56fc-11ec-a1da-0242ac120004",
       "next": "cfbfd3de-9a50-11ea-8d02-0242ac120007-1-a19f",
       "previous": "65205d38-9a36-11ea-8d02-0242ac120007-1-4503"
      },
      {
       "current": "034b7262-56fc-11ec-a1da-0242ac120004-1-6184",
       "next": "08f1174a-9b04-11ea-8d02-0242ac120007-1-f99a",
       "previous": "65205d38-9a36-11ea-8d02-0242ac120007-1-4503"
      },
      {
       "current": "034b7262-56fc-11ec-a1da-0242ac120004-1-6184",
       "next": "08f1174a-9b04-11ea-8d02-0242ac120007-2-f99a-9309",
       "previous": "65205d38-9a36-11ea-8d02-0242ac120007-2-4503-c921"
      },
      {
       "current": "034b7262-56fc-11ec-a1da-0242ac120004-1-6184",
       "next": "ecc4b59c-6cae-11ee-89fa-0242ac120005",
       "previous": "65205d38-9a36-11ea-8d02-0242ac120007-2-4503-c921"
      },
      {
       "current": "034b7262-56fc-11ec-a1da-0242ac120004-2-6184-89e8",
       "next": "ecc4b59c-6cae-11ee-89fa-0242ac120005",
       "previous": "9418ce40-9a36-11ea-8d02-0242ac120007-2-e415-abb0"
      },
      {
       "current": "034b7262-56fc-11ec-a1da-0242ac120004-3-6184-89e8-f555",
       "next": "ecc4b59c-6cae-11ee-89fa-0242ac120005-1-9935",
       "previous": "9418ce40-9a36-11ea-8d02-0242ac120007-3-e415-abb0-76f2"
      },
      {
       "current": "034b7262-56fc-11ec-a1da-0242ac120004-4-6184-89e8-f555-b416",
       "next": "ecc4b59c-6cae-11ee-89fa-0242ac120005-2-9935-74f1",
       "previous": "9418ce40-9a36-11ea-8d02-0242ac120007-4-e415-abb0-76f2-1326"
      },
      {
       "current": "034b7262-56fc-11ec-a1da-0242ac120004-5-6184-89e8-f555-b416-592b",
       "next": "ecc4b59c-6cae-11ee-89fa-0242ac120005-3-9935-74f1-9134",
       "previous": "9418ce40-9a36-11ea-8d02-0242ac120007-5-e415-abb0-76f2-1326-1c9f"
      }
     ],
     "next": "ecc4b59c-6cae-11ee-89fa-0242ac120005-4-9935-74f1-9134-37de",
     "previous": "9418ce40-9a36-11ea-8d02-0242ac120007-6-e415-abb0-76f2-1326-1c9f-5fe1"
    }
   },
   "outputs": [],
   "source": [
    "!ansible -i $hosts -b -m shell -a 'hostname' bootstrap"
   ]
  },
  {
   "cell_type": "code",
   "execution_count": null,
   "metadata": {
    "lc_cell_meme": {
     "current": "ecc4b59c-6cae-11ee-89fa-0242ac120005-4-9935-74f1-9134-37de",
     "history": [
      {
       "current": "ecc4b59c-6cae-11ee-89fa-0242ac120005",
       "next": "08f1174a-9b04-11ea-8d02-0242ac120007-2-f99a-9309",
       "previous": "034b7262-56fc-11ec-a1da-0242ac120004-1-6184"
      },
      {
       "current": "ecc4b59c-6cae-11ee-89fa-0242ac120005",
       "next": "f22be07e-81e3-11ee-91d3-0242ac120006",
       "previous": "034b7262-56fc-11ec-a1da-0242ac120004-1-6184"
      },
      {
       "current": "ecc4b59c-6cae-11ee-89fa-0242ac120005-1-9935",
       "next": "28c9c182-8383-11ee-91d3-0242ac120006",
       "previous": "034b7262-56fc-11ec-a1da-0242ac120004-1-6184"
      },
      {
       "current": "ecc4b59c-6cae-11ee-89fa-0242ac120005-2-9935-74f1",
       "next": "28c9c182-8383-11ee-91d3-0242ac120006-1-c739",
       "previous": "034b7262-56fc-11ec-a1da-0242ac120004-2-6184-89e8"
      },
      {
       "current": "ecc4b59c-6cae-11ee-89fa-0242ac120005-3-9935-74f1-9134",
       "next": "28c9c182-8383-11ee-91d3-0242ac120006-2-c739-2d83",
       "previous": "034b7262-56fc-11ec-a1da-0242ac120004-3-6184-89e8-f555"
      },
      {
       "current": "ecc4b59c-6cae-11ee-89fa-0242ac120005-4-9935-74f1-9134-37de",
       "next": "28c9c182-8383-11ee-91d3-0242ac120006-3-c739-2d83-035b",
       "previous": "034b7262-56fc-11ec-a1da-0242ac120004-4-6184-89e8-f555-b416"
      }
     ],
     "next": "28c9c182-8383-11ee-91d3-0242ac120006-4-c739-2d83-035b-935a",
     "previous": "034b7262-56fc-11ec-a1da-0242ac120004-5-6184-89e8-f555-b416-592b"
    }
   },
   "outputs": [],
   "source": [
    "!ansible -i $hosts -b -m shell -a 'hostname' ceph_node"
   ]
  },
  {
   "cell_type": "markdown",
   "metadata": {
    "lc_cell_meme": {
     "current": "28c9c182-8383-11ee-91d3-0242ac120006-4-c739-2d83-035b-935a",
     "history": [
      {
       "current": "28c9c182-8383-11ee-91d3-0242ac120006",
       "next": "28c9c34e-8383-11ee-91d3-0242ac120006",
       "previous": "ecc4b59c-6cae-11ee-89fa-0242ac120005"
      },
      {
       "current": "28c9c182-8383-11ee-91d3-0242ac120006",
       "next": "70733752-8383-11ee-91d3-0242ac120006",
       "previous": "ecc4b59c-6cae-11ee-89fa-0242ac120005"
      },
      {
       "current": "28c9c182-8383-11ee-91d3-0242ac120006",
       "next": "d6091ebe-8384-11ee-91d3-0242ac120006",
       "previous": "ecc4b59c-6cae-11ee-89fa-0242ac120005"
      },
      {
       "current": "28c9c182-8383-11ee-91d3-0242ac120006-1-c739",
       "next": "4b13c1b8-851b-11ee-91d3-0242ac120006",
       "previous": "ecc4b59c-6cae-11ee-89fa-0242ac120005"
      },
      {
       "current": "28c9c182-8383-11ee-91d3-0242ac120006-2-c739-2d83",
       "next": "4b13c1b8-851b-11ee-91d3-0242ac120006-1-a036",
       "previous": "ecc4b59c-6cae-11ee-89fa-0242ac120005-1-9935"
      },
      {
       "current": "28c9c182-8383-11ee-91d3-0242ac120006-3-c739-2d83-035b",
       "next": "4b13c1b8-851b-11ee-91d3-0242ac120006-2-a036-5fce",
       "previous": "ecc4b59c-6cae-11ee-89fa-0242ac120005-2-9935-74f1"
      },
      {
       "current": "28c9c182-8383-11ee-91d3-0242ac120006-4-c739-2d83-035b-935a",
       "next": "4b13c1b8-851b-11ee-91d3-0242ac120006-3-a036-5fce-1a73",
       "previous": "ecc4b59c-6cae-11ee-89fa-0242ac120005-3-9935-74f1-9134"
      }
     ],
     "next": "4b13c1b8-851b-11ee-91d3-0242ac120006-4-a036-5fce-1a73-f5ab",
     "previous": "ecc4b59c-6cae-11ee-89fa-0242ac120005-4-9935-74f1-9134-37de"
    }
   },
   "source": [
    "# Cephクラスタノードのメンテナンスモード解除"
   ]
  },
  {
   "cell_type": "markdown",
   "metadata": {
    "lc_cell_meme": {
     "current": "4b13c1b8-851b-11ee-91d3-0242ac120006-4-a036-5fce-1a73-f5ab",
     "history": [
      {
       "current": "4b13c1b8-851b-11ee-91d3-0242ac120006-1-a036",
       "next": "4b13c370-851b-11ee-91d3-0242ac120006",
       "previous": "28c9c182-8383-11ee-91d3-0242ac120006"
      },
      {
       "current": "4b13c1b8-851b-11ee-91d3-0242ac120006-2-a036-5fce",
       "next": "4b13c370-851b-11ee-91d3-0242ac120006-1-6e0c",
       "previous": "28c9c182-8383-11ee-91d3-0242ac120006-1-c739"
      },
      {
       "current": "4b13c1b8-851b-11ee-91d3-0242ac120006-3-a036-5fce-1a73",
       "next": "4b13c370-851b-11ee-91d3-0242ac120006-2-6e0c-f26e",
       "previous": "28c9c182-8383-11ee-91d3-0242ac120006-2-c739-2d83"
      },
      {
       "current": "4b13c1b8-851b-11ee-91d3-0242ac120006-4-a036-5fce-1a73-f5ab",
       "next": "4b13c370-851b-11ee-91d3-0242ac120006-3-6e0c-f26e-9a50",
       "previous": "28c9c182-8383-11ee-91d3-0242ac120006-3-c739-2d83-035b"
      }
     ],
     "next": "4b13c370-851b-11ee-91d3-0242ac120006-4-6e0c-f26e-9a50-2387",
     "previous": "28c9c182-8383-11ee-91d3-0242ac120006-4-c739-2d83-035b-935a"
    }
   },
   "source": [
    "## ノード状態確認"
   ]
  },
  {
   "cell_type": "code",
   "execution_count": null,
   "metadata": {
    "lc_cell_meme": {
     "current": "4b13c370-851b-11ee-91d3-0242ac120006-4-6e0c-f26e-9a50-2387",
     "history": [
      {
       "current": "4b13c370-851b-11ee-91d3-0242ac120006",
       "next": "4b13c41a-851b-11ee-91d3-0242ac120006",
       "previous": "4b13c1b8-851b-11ee-91d3-0242ac120006"
      },
      {
       "current": "4b13c370-851b-11ee-91d3-0242ac120006-1-6e0c",
       "next": "da2265a8-851b-11ee-91d3-0242ac120006",
       "previous": "4b13c1b8-851b-11ee-91d3-0242ac120006"
      },
      {
       "current": "4b13c370-851b-11ee-91d3-0242ac120006-2-6e0c-f26e",
       "next": "da2265a8-851b-11ee-91d3-0242ac120006-1-8f75",
       "previous": "4b13c1b8-851b-11ee-91d3-0242ac120006-1-a036"
      },
      {
       "current": "4b13c370-851b-11ee-91d3-0242ac120006-3-6e0c-f26e-9a50",
       "next": "da2265a8-851b-11ee-91d3-0242ac120006-2-8f75-ec3b",
       "previous": "4b13c1b8-851b-11ee-91d3-0242ac120006-2-a036-5fce"
      },
      {
       "current": "4b13c370-851b-11ee-91d3-0242ac120006-4-6e0c-f26e-9a50-2387",
       "next": "da2265a8-851b-11ee-91d3-0242ac120006-3-8f75-ec3b-f35d",
       "previous": "4b13c1b8-851b-11ee-91d3-0242ac120006-3-a036-5fce-1a73"
      }
     ],
     "next": "da2265a8-851b-11ee-91d3-0242ac120006-4-8f75-ec3b-f35d-05d3",
     "previous": "4b13c1b8-851b-11ee-91d3-0242ac120006-4-a036-5fce-1a73-f5ab"
    }
   },
   "outputs": [],
   "source": [
    "ret = !ansible -b -m shell -a \"cephadm shell -- ceph orch host ls --format=json 2> /dev/null\" bootstrap\n",
    "ret"
   ]
  },
  {
   "cell_type": "code",
   "execution_count": null,
   "metadata": {
    "lc_cell_meme": {
     "current": "da2265a8-851b-11ee-91d3-0242ac120006-4-8f75-ec3b-f35d-05d3",
     "history": [
      {
       "current": "da2265a8-851b-11ee-91d3-0242ac120006-1-8f75",
       "next": "4b13c41a-851b-11ee-91d3-0242ac120006",
       "previous": "4b13c370-851b-11ee-91d3-0242ac120006"
      },
      {
       "current": "da2265a8-851b-11ee-91d3-0242ac120006-2-8f75-ec3b",
       "next": "4b13c41a-851b-11ee-91d3-0242ac120006-1-0255",
       "previous": "4b13c370-851b-11ee-91d3-0242ac120006-1-6e0c"
      },
      {
       "current": "da2265a8-851b-11ee-91d3-0242ac120006-3-8f75-ec3b-f35d",
       "next": "4b13c41a-851b-11ee-91d3-0242ac120006-2-0255-6647",
       "previous": "4b13c370-851b-11ee-91d3-0242ac120006-2-6e0c-f26e"
      },
      {
       "current": "da2265a8-851b-11ee-91d3-0242ac120006-4-8f75-ec3b-f35d-05d3",
       "next": "4b13c41a-851b-11ee-91d3-0242ac120006-3-0255-6647-9fff",
       "previous": "4b13c370-851b-11ee-91d3-0242ac120006-3-6e0c-f26e-9a50"
      }
     ],
     "next": "4b13c41a-851b-11ee-91d3-0242ac120006-4-0255-6647-9fff-cef5",
     "previous": "4b13c370-851b-11ee-91d3-0242ac120006-4-6e0c-f26e-9a50-2387"
    },
    "scrolled": true
   },
   "outputs": [],
   "source": [
    "host_state_list = json.loads(ret[2])\n",
    "print(json.dumps(host_state_list, indent=2))"
   ]
  },
  {
   "cell_type": "code",
   "execution_count": null,
   "metadata": {
    "lc_cell_meme": {
     "current": "4b13c41a-851b-11ee-91d3-0242ac120006-4-0255-6647-9fff-cef5",
     "history": [
      {
       "current": "4b13c41a-851b-11ee-91d3-0242ac120006",
       "next": "4b13c492-851b-11ee-91d3-0242ac120006",
       "previous": "4b13c370-851b-11ee-91d3-0242ac120006"
      },
      {
       "current": "4b13c41a-851b-11ee-91d3-0242ac120006-1-0255",
       "next": "4b13c492-851b-11ee-91d3-0242ac120006",
       "previous": "da2265a8-851b-11ee-91d3-0242ac120006"
      },
      {
       "current": "4b13c41a-851b-11ee-91d3-0242ac120006-2-0255-6647",
       "next": "4b13c492-851b-11ee-91d3-0242ac120006-1-8643",
       "previous": "da2265a8-851b-11ee-91d3-0242ac120006-1-8f75"
      },
      {
       "current": "4b13c41a-851b-11ee-91d3-0242ac120006-3-0255-6647-9fff",
       "next": "4b13c492-851b-11ee-91d3-0242ac120006-2-8643-e6fd",
       "previous": "da2265a8-851b-11ee-91d3-0242ac120006-2-8f75-ec3b"
      },
      {
       "current": "4b13c41a-851b-11ee-91d3-0242ac120006-4-0255-6647-9fff-cef5",
       "next": "4b13c492-851b-11ee-91d3-0242ac120006-3-8643-e6fd-df2c",
       "previous": "da2265a8-851b-11ee-91d3-0242ac120006-3-8f75-ec3b-f35d"
      }
     ],
     "next": "4b13c492-851b-11ee-91d3-0242ac120006-4-8643-e6fd-df2c-ecfc",
     "previous": "da2265a8-851b-11ee-91d3-0242ac120006-4-8f75-ec3b-f35d-05d3"
    }
   },
   "outputs": [],
   "source": [
    "pd.DataFrame(host_state_list)"
   ]
  },
  {
   "cell_type": "code",
   "execution_count": null,
   "metadata": {
    "lc_cell_meme": {
     "current": "4b13c492-851b-11ee-91d3-0242ac120006-4-8643-e6fd-df2c-ecfc",
     "history": [
      {
       "current": "4b13c492-851b-11ee-91d3-0242ac120006",
       "next": "4b13c50a-851b-11ee-91d3-0242ac120006",
       "previous": "4b13c41a-851b-11ee-91d3-0242ac120006"
      },
      {
       "current": "4b13c492-851b-11ee-91d3-0242ac120006-1-8643",
       "next": "d6091ebe-8384-11ee-91d3-0242ac120006",
       "previous": "4b13c41a-851b-11ee-91d3-0242ac120006"
      },
      {
       "current": "4b13c492-851b-11ee-91d3-0242ac120006-2-8643-e6fd",
       "next": "d6091ebe-8384-11ee-91d3-0242ac120006-1-dff7",
       "previous": "4b13c41a-851b-11ee-91d3-0242ac120006-1-0255"
      },
      {
       "current": "4b13c492-851b-11ee-91d3-0242ac120006-3-8643-e6fd-df2c",
       "next": "d6091ebe-8384-11ee-91d3-0242ac120006-2-dff7-cdc8",
       "previous": "4b13c41a-851b-11ee-91d3-0242ac120006-2-0255-6647"
      },
      {
       "current": "4b13c492-851b-11ee-91d3-0242ac120006-4-8643-e6fd-df2c-ecfc",
       "next": "d6091ebe-8384-11ee-91d3-0242ac120006-3-dff7-cdc8-bbd5",
       "previous": "4b13c41a-851b-11ee-91d3-0242ac120006-3-0255-6647-9fff"
      }
     ],
     "next": "d6091ebe-8384-11ee-91d3-0242ac120006-4-dff7-cdc8-bbd5-50df",
     "previous": "4b13c41a-851b-11ee-91d3-0242ac120006-4-0255-6647-9fff-cef5"
    }
   },
   "outputs": [],
   "source": [
    "for host_state in host_state_list:\n",
    "    if host_state['hostname'] == instance_name:\n",
    "        assert (host_state['status'] != ''), \"対象ノードが停止またはメンテナンスモードではない。\""
   ]
  },
  {
   "cell_type": "markdown",
   "metadata": {
    "lc_cell_meme": {
     "current": "d6091ebe-8384-11ee-91d3-0242ac120006-4-dff7-cdc8-bbd5-50df",
     "history": [
      {
       "current": "d6091ebe-8384-11ee-91d3-0242ac120006",
       "next": "d6091f36-8384-11ee-91d3-0242ac120006",
       "previous": "d6091e0a-8384-11ee-91d3-0242ac120006"
      },
      {
       "current": "d6091ebe-8384-11ee-91d3-0242ac120006",
       "next": "16a33598-8387-11ee-91d3-0242ac120006",
       "previous": "28c9c182-8383-11ee-91d3-0242ac120006"
      },
      {
       "current": "d6091ebe-8384-11ee-91d3-0242ac120006",
       "next": "16a33598-8387-11ee-91d3-0242ac120006",
       "previous": "4b13c50a-851b-11ee-91d3-0242ac120006"
      },
      {
       "current": "d6091ebe-8384-11ee-91d3-0242ac120006",
       "next": "16a33598-8387-11ee-91d3-0242ac120006",
       "previous": "4b13c492-851b-11ee-91d3-0242ac120006"
      },
      {
       "current": "d6091ebe-8384-11ee-91d3-0242ac120006-1-dff7",
       "next": "d6091f36-8384-11ee-91d3-0242ac120006",
       "previous": "4b13c492-851b-11ee-91d3-0242ac120006"
      },
      {
       "current": "d6091ebe-8384-11ee-91d3-0242ac120006-2-dff7-cdc8",
       "next": "d6091f36-8384-11ee-91d3-0242ac120006-1-d729",
       "previous": "4b13c492-851b-11ee-91d3-0242ac120006-1-8643"
      },
      {
       "current": "d6091ebe-8384-11ee-91d3-0242ac120006-3-dff7-cdc8-bbd5",
       "next": "d6091f36-8384-11ee-91d3-0242ac120006-2-d729-f21e",
       "previous": "4b13c492-851b-11ee-91d3-0242ac120006-2-8643-e6fd"
      },
      {
       "current": "d6091ebe-8384-11ee-91d3-0242ac120006-4-dff7-cdc8-bbd5-50df",
       "next": "d6091f36-8384-11ee-91d3-0242ac120006-3-d729-f21e-f838",
       "previous": "4b13c492-851b-11ee-91d3-0242ac120006-3-8643-e6fd-df2c"
      }
     ],
     "next": "d6091f36-8384-11ee-91d3-0242ac120006-4-d729-f21e-f838-bb84",
     "previous": "4b13c492-851b-11ee-91d3-0242ac120006-4-8643-e6fd-df2c-ecfc"
    }
   },
   "source": [
    "## ホストのメンテナンスモード解除\n",
    "ホストのメンテナンスモードを解除する。"
   ]
  },
  {
   "cell_type": "code",
   "execution_count": null,
   "metadata": {
    "lc_cell_meme": {
     "current": "d6091f36-8384-11ee-91d3-0242ac120006-4-d729-f21e-f838-bb84",
     "history": [
      {
       "current": "d6091f36-8384-11ee-91d3-0242ac120006",
       "next": "d6091fae-8384-11ee-91d3-0242ac120006",
       "previous": "d6091ebe-8384-11ee-91d3-0242ac120006"
      },
      {
       "current": "d6091f36-8384-11ee-91d3-0242ac120006",
       "next": "d6091fae-8384-11ee-91d3-0242ac120006",
       "previous": "16a33598-8387-11ee-91d3-0242ac120006"
      },
      {
       "current": "d6091f36-8384-11ee-91d3-0242ac120006-1-d729",
       "next": "d6091fae-8384-11ee-91d3-0242ac120006",
       "previous": "d6091ebe-8384-11ee-91d3-0242ac120006"
      },
      {
       "current": "d6091f36-8384-11ee-91d3-0242ac120006-2-d729-f21e",
       "next": "d6091fae-8384-11ee-91d3-0242ac120006-1-01b8",
       "previous": "d6091ebe-8384-11ee-91d3-0242ac120006-1-dff7"
      },
      {
       "current": "d6091f36-8384-11ee-91d3-0242ac120006-3-d729-f21e-f838",
       "next": "d6091fae-8384-11ee-91d3-0242ac120006-2-01b8-54e7",
       "previous": "d6091ebe-8384-11ee-91d3-0242ac120006-2-dff7-cdc8"
      },
      {
       "current": "d6091f36-8384-11ee-91d3-0242ac120006-4-d729-f21e-f838-bb84",
       "next": "d6091fae-8384-11ee-91d3-0242ac120006-3-01b8-54e7-66bf",
       "previous": "d6091ebe-8384-11ee-91d3-0242ac120006-3-dff7-cdc8-bbd5"
      }
     ],
     "next": "d6091fae-8384-11ee-91d3-0242ac120006-4-01b8-54e7-66bf-b81d",
     "previous": "d6091ebe-8384-11ee-91d3-0242ac120006-4-dff7-cdc8-bbd5-50df"
    }
   },
   "outputs": [],
   "source": [
    "!ansible -b -m shell -a \"cephadm shell -- ceph orch host maintenance exit $instance_name 2> /dev/null\" bootstrap"
   ]
  },
  {
   "cell_type": "code",
   "execution_count": null,
   "metadata": {
    "lc_cell_meme": {
     "current": "d6091fae-8384-11ee-91d3-0242ac120006-4-01b8-54e7-66bf-b81d",
     "history": [
      {
       "current": "d6091fae-8384-11ee-91d3-0242ac120006",
       "next": "35c581ba-55a3-11e7-b0b2-00163e9c0e35-2-89bc-f9d0",
       "previous": "d6091f36-8384-11ee-91d3-0242ac120006"
      },
      {
       "current": "d6091fae-8384-11ee-91d3-0242ac120006-1-01b8",
       "next": "1da685ae-8385-11ee-91d3-0242ac120006",
       "previous": "d6091f36-8384-11ee-91d3-0242ac120006"
      },
      {
       "current": "d6091fae-8384-11ee-91d3-0242ac120006-2-01b8-54e7",
       "next": "1da685ae-8385-11ee-91d3-0242ac120006-1-6d0d",
       "previous": "d6091f36-8384-11ee-91d3-0242ac120006-1-d729"
      },
      {
       "current": "d6091fae-8384-11ee-91d3-0242ac120006-3-01b8-54e7-66bf",
       "next": "1da685ae-8385-11ee-91d3-0242ac120006-2-6d0d-20b8",
       "previous": "d6091f36-8384-11ee-91d3-0242ac120006-2-d729-f21e"
      },
      {
       "current": "d6091fae-8384-11ee-91d3-0242ac120006-4-01b8-54e7-66bf-b81d",
       "next": "1da685ae-8385-11ee-91d3-0242ac120006-3-6d0d-20b8-b9b5",
       "previous": "d6091f36-8384-11ee-91d3-0242ac120006-3-d729-f21e-f838"
      }
     ],
     "next": "1da685ae-8385-11ee-91d3-0242ac120006-4-6d0d-20b8-b9b5-049d",
     "previous": "d6091f36-8384-11ee-91d3-0242ac120006-4-d729-f21e-f838-bb84"
    }
   },
   "outputs": [],
   "source": [
    "!ansible -b -m shell -a \"cephadm shell -- ceph orch host ls 2> /dev/null\" bootstrap"
   ]
  },
  {
   "cell_type": "code",
   "execution_count": null,
   "metadata": {
    "lc_cell_meme": {
     "current": "1da685ae-8385-11ee-91d3-0242ac120006-4-6d0d-20b8-b9b5-049d",
     "history": [
      {
       "current": "1da685ae-8385-11ee-91d3-0242ac120006",
       "next": "35c581ba-55a3-11e7-b0b2-00163e9c0e35-2-89bc-f9d0",
       "previous": "d6091fae-8384-11ee-91d3-0242ac120006"
      },
      {
       "current": "1da685ae-8385-11ee-91d3-0242ac120006",
       "next": "652e65b8-8385-11ee-91d3-0242ac120006",
       "previous": "d6091fae-8384-11ee-91d3-0242ac120006"
      },
      {
       "current": "1da685ae-8385-11ee-91d3-0242ac120006-1-6d0d",
       "next": "28c9c4de-8383-11ee-91d3-0242ac120006-1-7c21",
       "previous": "d6091fae-8384-11ee-91d3-0242ac120006"
      },
      {
       "current": "1da685ae-8385-11ee-91d3-0242ac120006-2-6d0d-20b8",
       "next": "28c9c4de-8383-11ee-91d3-0242ac120006-2-7c21-922e",
       "previous": "d6091fae-8384-11ee-91d3-0242ac120006-1-01b8"
      },
      {
       "current": "1da685ae-8385-11ee-91d3-0242ac120006-3-6d0d-20b8-b9b5",
       "next": "28c9c4de-8383-11ee-91d3-0242ac120006-3-7c21-922e-89e6",
       "previous": "d6091fae-8384-11ee-91d3-0242ac120006-2-01b8-54e7"
      },
      {
       "current": "1da685ae-8385-11ee-91d3-0242ac120006-4-6d0d-20b8-b9b5-049d",
       "next": "28c9c4de-8383-11ee-91d3-0242ac120006-4-7c21-922e-89e6-77ad",
       "previous": "d6091fae-8384-11ee-91d3-0242ac120006-3-01b8-54e7-66bf"
      }
     ],
     "next": "28c9c4de-8383-11ee-91d3-0242ac120006-5-7c21-922e-89e6-77ad-85f8",
     "previous": "d6091fae-8384-11ee-91d3-0242ac120006-4-01b8-54e7-66bf-b81d"
    }
   },
   "outputs": [],
   "source": [
    "!ansible -b -m shell -a \"cephadm shell -- ceph -s 2> /dev/null\" bootstrap"
   ]
  },
  {
   "cell_type": "markdown",
   "metadata": {
    "lc_cell_meme": {
     "current": "28c9c4de-8383-11ee-91d3-0242ac120006-5-7c21-922e-89e6-77ad-85f8",
     "history": [
      {
       "current": "28c9c4de-8383-11ee-91d3-0242ac120006-1-7c21",
       "next": "28c9c57e-8383-11ee-91d3-0242ac120006",
       "previous": "28c9c34e-8383-11ee-91d3-0242ac120006"
      },
      {
       "current": "28c9c4de-8383-11ee-91d3-0242ac120006-2-7c21-922e",
       "next": "28c9c57e-8383-11ee-91d3-0242ac120006",
       "previous": "1da685ae-8385-11ee-91d3-0242ac120006"
      },
      {
       "current": "28c9c4de-8383-11ee-91d3-0242ac120006-3-7c21-922e-89e6",
       "next": "28c9c57e-8383-11ee-91d3-0242ac120006-1-60f5",
       "previous": "1da685ae-8385-11ee-91d3-0242ac120006-1-6d0d"
      },
      {
       "current": "28c9c4de-8383-11ee-91d3-0242ac120006-4-7c21-922e-89e6-77ad",
       "next": "28c9c57e-8383-11ee-91d3-0242ac120006-2-60f5-b27a",
       "previous": "1da685ae-8385-11ee-91d3-0242ac120006-2-6d0d-20b8"
      },
      {
       "current": "28c9c4de-8383-11ee-91d3-0242ac120006-5-7c21-922e-89e6-77ad-85f8",
       "next": "28c9c57e-8383-11ee-91d3-0242ac120006-3-60f5-b27a-a21b",
       "previous": "1da685ae-8385-11ee-91d3-0242ac120006-3-6d0d-20b8-b9b5"
      }
     ],
     "next": "28c9c57e-8383-11ee-91d3-0242ac120006-4-60f5-b27a-a21b-b115",
     "previous": "1da685ae-8385-11ee-91d3-0242ac120006-4-6d0d-20b8-b9b5-049d"
    }
   },
   "source": [
    "## OSDデーモン noout設定解除\n",
    "停止対象ホスト上のOSDにnooutフラグを解除する。"
   ]
  },
  {
   "cell_type": "code",
   "execution_count": null,
   "metadata": {
    "lc_cell_meme": {
     "current": "28c9c57e-8383-11ee-91d3-0242ac120006-4-60f5-b27a-a21b-b115",
     "history": [
      {
       "current": "28c9c57e-8383-11ee-91d3-0242ac120006",
       "next": "f22be07e-81e3-11ee-91d3-0242ac120006",
       "previous": "28c9c4de-8383-11ee-91d3-0242ac120006"
      },
      {
       "current": "28c9c57e-8383-11ee-91d3-0242ac120006-1-60f5",
       "next": "b7ec63a6-8383-11ee-91d3-0242ac120006",
       "previous": "28c9c4de-8383-11ee-91d3-0242ac120006-1-7c21"
      },
      {
       "current": "28c9c57e-8383-11ee-91d3-0242ac120006-2-60f5-b27a",
       "next": "b7ec63a6-8383-11ee-91d3-0242ac120006-1-529b",
       "previous": "28c9c4de-8383-11ee-91d3-0242ac120006-2-7c21-922e"
      },
      {
       "current": "28c9c57e-8383-11ee-91d3-0242ac120006-3-60f5-b27a-a21b",
       "next": "b7ec63a6-8383-11ee-91d3-0242ac120006-2-529b-b96b",
       "previous": "28c9c4de-8383-11ee-91d3-0242ac120006-3-7c21-922e-89e6"
      },
      {
       "current": "28c9c57e-8383-11ee-91d3-0242ac120006-4-60f5-b27a-a21b-b115",
       "next": "b7ec63a6-8383-11ee-91d3-0242ac120006-3-529b-b96b-fb69",
       "previous": "28c9c4de-8383-11ee-91d3-0242ac120006-4-7c21-922e-89e6-77ad"
      }
     ],
     "next": "b7ec63a6-8383-11ee-91d3-0242ac120006-4-529b-b96b-fb69-bfb7",
     "previous": "28c9c4de-8383-11ee-91d3-0242ac120006-5-7c21-922e-89e6-77ad-85f8"
    }
   },
   "outputs": [],
   "source": [
    "ret = !ansible -b -m shell -a \"cephadm shell -- ceph osd ls-tree $instance_name 2> /dev/null\" bootstrap\n",
    "ret"
   ]
  },
  {
   "cell_type": "code",
   "execution_count": null,
   "metadata": {
    "lc_cell_meme": {
     "current": "b7ec63a6-8383-11ee-91d3-0242ac120006-4-529b-b96b-fb69-bfb7",
     "history": [
      {
       "current": "b7ec63a6-8383-11ee-91d3-0242ac120006-1-529b",
       "next": "b7ec6554-8383-11ee-91d3-0242ac120006",
       "previous": "28c9c57e-8383-11ee-91d3-0242ac120006"
      },
      {
       "current": "b7ec63a6-8383-11ee-91d3-0242ac120006-2-529b-b96b",
       "next": "b7ec6554-8383-11ee-91d3-0242ac120006-1-d639",
       "previous": "28c9c57e-8383-11ee-91d3-0242ac120006-1-60f5"
      },
      {
       "current": "b7ec63a6-8383-11ee-91d3-0242ac120006-3-529b-b96b-fb69",
       "next": "b7ec6554-8383-11ee-91d3-0242ac120006-2-d639-d9be",
       "previous": "28c9c57e-8383-11ee-91d3-0242ac120006-2-60f5-b27a"
      },
      {
       "current": "b7ec63a6-8383-11ee-91d3-0242ac120006-4-529b-b96b-fb69-bfb7",
       "next": "b7ec6554-8383-11ee-91d3-0242ac120006-3-d639-d9be-4a5c",
       "previous": "28c9c57e-8383-11ee-91d3-0242ac120006-3-60f5-b27a-a21b"
      }
     ],
     "next": "b7ec6554-8383-11ee-91d3-0242ac120006-4-d639-d9be-4a5c-0fda",
     "previous": "28c9c57e-8383-11ee-91d3-0242ac120006-4-60f5-b27a-a21b-b115"
    }
   },
   "outputs": [],
   "source": [
    "ret.pop(0)\n",
    "ret"
   ]
  },
  {
   "cell_type": "code",
   "execution_count": null,
   "metadata": {
    "lc_cell_meme": {
     "current": "b7ec6554-8383-11ee-91d3-0242ac120006-4-d639-d9be-4a5c-0fda",
     "history": [
      {
       "current": "b7ec6554-8383-11ee-91d3-0242ac120006-1-d639",
       "next": "b7ec65f4-8383-11ee-91d3-0242ac120006",
       "previous": "b7ec63a6-8383-11ee-91d3-0242ac120006"
      },
      {
       "current": "b7ec6554-8383-11ee-91d3-0242ac120006-2-d639-d9be",
       "next": "b7ec65f4-8383-11ee-91d3-0242ac120006-1-1532",
       "previous": "b7ec63a6-8383-11ee-91d3-0242ac120006-1-529b"
      },
      {
       "current": "b7ec6554-8383-11ee-91d3-0242ac120006-3-d639-d9be-4a5c",
       "next": "b7ec65f4-8383-11ee-91d3-0242ac120006-2-1532-9203",
       "previous": "b7ec63a6-8383-11ee-91d3-0242ac120006-2-529b-b96b"
      },
      {
       "current": "b7ec6554-8383-11ee-91d3-0242ac120006-4-d639-d9be-4a5c-0fda",
       "next": "b7ec65f4-8383-11ee-91d3-0242ac120006-3-1532-9203-5b44",
       "previous": "b7ec63a6-8383-11ee-91d3-0242ac120006-3-529b-b96b-fb69"
      }
     ],
     "next": "b7ec65f4-8383-11ee-91d3-0242ac120006-4-1532-9203-5b44-22a0",
     "previous": "b7ec63a6-8383-11ee-91d3-0242ac120006-4-529b-b96b-fb69-bfb7"
    }
   },
   "outputs": [],
   "source": [
    "for osd_id in ret:\n",
    "    if osd_id.isdecimal() == True:\n",
    "        !ansible -b -m shell -a \"cephadm shell -- ceph osd rm-noout osd.$osd_id 2> /dev/null\" bootstrap"
   ]
  },
  {
   "cell_type": "code",
   "execution_count": null,
   "metadata": {
    "lc_cell_meme": {
     "current": "b7ec65f4-8383-11ee-91d3-0242ac120006-4-1532-9203-5b44-22a0",
     "history": [
      {
       "current": "b7ec65f4-8383-11ee-91d3-0242ac120006",
       "next": "b7ec6662-8383-11ee-91d3-0242ac120006",
       "previous": "b7ec6554-8383-11ee-91d3-0242ac120006"
      },
      {
       "current": "b7ec65f4-8383-11ee-91d3-0242ac120006-1-1532",
       "next": "35c581ba-55a3-11e7-b0b2-00163e9c0e35-2-89bc-f9d0",
       "previous": "b7ec6554-8383-11ee-91d3-0242ac120006"
      },
      {
       "current": "b7ec65f4-8383-11ee-91d3-0242ac120006-1-1532",
       "next": "7f4f6e36-97eb-11ee-91d3-0242ac120006",
       "previous": "b7ec6554-8383-11ee-91d3-0242ac120006-1-d639"
      },
      {
       "current": "b7ec65f4-8383-11ee-91d3-0242ac120006-2-1532-9203",
       "next": "7f4f6e36-97eb-11ee-91d3-0242ac120006-1-a6f2",
       "previous": "b7ec6554-8383-11ee-91d3-0242ac120006-1-d639"
      },
      {
       "current": "b7ec65f4-8383-11ee-91d3-0242ac120006-3-1532-9203-5b44",
       "next": "7f4f6e36-97eb-11ee-91d3-0242ac120006-2-a6f2-a6bb",
       "previous": "b7ec6554-8383-11ee-91d3-0242ac120006-2-d639-d9be"
      },
      {
       "current": "b7ec65f4-8383-11ee-91d3-0242ac120006-4-1532-9203-5b44-22a0",
       "next": "7f4f6e36-97eb-11ee-91d3-0242ac120006-3-a6f2-a6bb-c138",
       "previous": "b7ec6554-8383-11ee-91d3-0242ac120006-3-d639-d9be-4a5c"
      }
     ],
     "next": "7f4f6e36-97eb-11ee-91d3-0242ac120006-4-a6f2-a6bb-c138-07e0",
     "previous": "b7ec6554-8383-11ee-91d3-0242ac120006-4-d639-d9be-4a5c-0fda"
    }
   },
   "outputs": [],
   "source": [
    "!ansible -b -m shell -a \"cephadm shell -- ceph -s 2> /dev/null\" bootstrap"
   ]
  },
  {
   "cell_type": "markdown",
   "metadata": {
    "lc_cell_meme": {
     "current": "7f4f6e36-97eb-11ee-91d3-0242ac120006-4-a6f2-a6bb-c138-07e0",
     "history": [
      {
       "current": "7f4f6e36-97eb-11ee-91d3-0242ac120006-2-a6f2-a6bb",
       "next": "7f4f7016-97eb-11ee-91d3-0242ac120006",
       "previous": "b7ec65f4-8383-11ee-91d3-0242ac120006-1-1532"
      },
      {
       "current": "7f4f6e36-97eb-11ee-91d3-0242ac120006-3-a6f2-a6bb-c138",
       "next": "7f4f7016-97eb-11ee-91d3-0242ac120006-1-f479",
       "previous": "b7ec65f4-8383-11ee-91d3-0242ac120006-2-1532-9203"
      },
      {
       "current": "7f4f6e36-97eb-11ee-91d3-0242ac120006-4-a6f2-a6bb-c138-07e0",
       "next": "7f4f7016-97eb-11ee-91d3-0242ac120006-2-f479-5bfc",
       "previous": "b7ec65f4-8383-11ee-91d3-0242ac120006-3-1532-9203-5b44"
      }
     ],
     "next": "7f4f7016-97eb-11ee-91d3-0242ac120006-3-f479-5bfc-7a40",
     "previous": "b7ec65f4-8383-11ee-91d3-0242ac120006-4-1532-9203-5b44-22a0"
    }
   },
   "source": [
    "# ovs_ctrlサービス再起動\n",
    "ovs_ctrlとMONコンテナの起動タイミングのコントロールが不可能であるため、Ceph起動後に手動で再起動を行う。"
   ]
  },
  {
   "cell_type": "code",
   "execution_count": null,
   "metadata": {
    "lc_cell_meme": {
     "current": "7f4f7016-97eb-11ee-91d3-0242ac120006-3-f479-5bfc-7a40",
     "history": [
      {
       "current": "7f4f7016-97eb-11ee-91d3-0242ac120006",
       "next": "7f4f70c0-97eb-11ee-91d3-0242ac120006",
       "previous": "7f4f6e36-97eb-11ee-91d3-0242ac120006"
      },
      {
       "current": "7f4f7016-97eb-11ee-91d3-0242ac120006-1-f479",
       "next": "c6dd72c0-97eb-11ee-91d3-0242ac120006",
       "previous": "7f4f6e36-97eb-11ee-91d3-0242ac120006-1-a6f2"
      },
      {
       "current": "7f4f7016-97eb-11ee-91d3-0242ac120006-2-f479-5bfc",
       "next": "c6dd72c0-97eb-11ee-91d3-0242ac120006-1-11ff",
       "previous": "7f4f6e36-97eb-11ee-91d3-0242ac120006-2-a6f2-a6bb"
      },
      {
       "current": "7f4f7016-97eb-11ee-91d3-0242ac120006-3-f479-5bfc-7a40",
       "next": "c6dd72c0-97eb-11ee-91d3-0242ac120006-2-11ff-9fa3",
       "previous": "7f4f6e36-97eb-11ee-91d3-0242ac120006-3-a6f2-a6bb-c138"
      }
     ],
     "next": "c6dd72c0-97eb-11ee-91d3-0242ac120006-3-11ff-9fa3-f662",
     "previous": "7f4f6e36-97eb-11ee-91d3-0242ac120006-4-a6f2-a6bb-c138-07e0"
    }
   },
   "outputs": [],
   "source": [
    "!ansible -b -m service -a \"name=ovs_ctrl enabled=yes state=restarted\" ceph_node"
   ]
  },
  {
   "cell_type": "code",
   "execution_count": null,
   "metadata": {
    "lc_cell_meme": {
     "current": "c6dd72c0-97eb-11ee-91d3-0242ac120006-3-11ff-9fa3-f662",
     "history": [
      {
       "current": "c6dd72c0-97eb-11ee-91d3-0242ac120006-1-11ff",
       "next": "7f4f70c0-97eb-11ee-91d3-0242ac120006-1-e0f2",
       "previous": "7f4f7016-97eb-11ee-91d3-0242ac120006"
      },
      {
       "current": "c6dd72c0-97eb-11ee-91d3-0242ac120006-2-11ff-9fa3",
       "next": "7f4f70c0-97eb-11ee-91d3-0242ac120006-2-e0f2-4a51",
       "previous": "7f4f7016-97eb-11ee-91d3-0242ac120006-1-f479"
      },
      {
       "current": "c6dd72c0-97eb-11ee-91d3-0242ac120006-3-11ff-9fa3-f662",
       "next": "7f4f70c0-97eb-11ee-91d3-0242ac120006-3-e0f2-4a51-d85f",
       "previous": "7f4f7016-97eb-11ee-91d3-0242ac120006-2-f479-5bfc"
      }
     ],
     "next": "7f4f70c0-97eb-11ee-91d3-0242ac120006-4-e0f2-4a51-d85f-f74c",
     "previous": "7f4f7016-97eb-11ee-91d3-0242ac120006-3-f479-5bfc-7a40"
    }
   },
   "outputs": [],
   "source": [
    "!ansible -b -m shell -a \"systemctl status ovs_ctrl\" ceph_node"
   ]
  },
  {
   "cell_type": "markdown",
   "metadata": {
    "lc_cell_meme": {
     "current": "7f4f70c0-97eb-11ee-91d3-0242ac120006-4-e0f2-4a51-d85f-f74c",
     "history": [
      {
       "current": "7f4f70c0-97eb-11ee-91d3-0242ac120006-1-e0f2",
       "next": "35c581ba-55a3-11e7-b0b2-00163e9c0e35-3-89bc-f9d0-e61c",
       "previous": "7f4f7016-97eb-11ee-91d3-0242ac120006"
      },
      {
       "current": "7f4f70c0-97eb-11ee-91d3-0242ac120006-2-e0f2-4a51",
       "next": "c6dd7374-97eb-11ee-91d3-0242ac120006",
       "previous": "c6dd72c0-97eb-11ee-91d3-0242ac120006"
      },
      {
       "current": "7f4f70c0-97eb-11ee-91d3-0242ac120006-3-e0f2-4a51-d85f",
       "next": "c6dd7374-97eb-11ee-91d3-0242ac120006-1-a387",
       "previous": "c6dd72c0-97eb-11ee-91d3-0242ac120006-1-11ff"
      },
      {
       "current": "7f4f70c0-97eb-11ee-91d3-0242ac120006-4-e0f2-4a51-d85f-f74c",
       "next": "c6dd7374-97eb-11ee-91d3-0242ac120006-2-a387-4340",
       "previous": "c6dd72c0-97eb-11ee-91d3-0242ac120006-2-11ff-9fa3"
      }
     ],
     "next": "c6dd7374-97eb-11ee-91d3-0242ac120006-3-a387-4340-d44d",
     "previous": "c6dd72c0-97eb-11ee-91d3-0242ac120006-3-11ff-9fa3-f662"
    }
   },
   "source": [
    "# CephGatewayサービス再起動\n",
    "CephGatewayとMONコンテナの起動タイミングのコントロールが不可能であるため、Ceph起動後に手動で再起動を行う。"
   ]
  },
  {
   "cell_type": "code",
   "execution_count": null,
   "metadata": {
    "lc_cell_meme": {
     "current": "c6dd7374-97eb-11ee-91d3-0242ac120006-3-a387-4340-d44d",
     "history": [
      {
       "current": "c6dd7374-97eb-11ee-91d3-0242ac120006-1-a387",
       "next": "c6dd73a6-97eb-11ee-91d3-0242ac120006",
       "previous": "7f4f70c0-97eb-11ee-91d3-0242ac120006-1-e0f2"
      },
      {
       "current": "c6dd7374-97eb-11ee-91d3-0242ac120006-2-a387-4340",
       "next": "c6dd73a6-97eb-11ee-91d3-0242ac120006-1-604f",
       "previous": "7f4f70c0-97eb-11ee-91d3-0242ac120006-2-e0f2-4a51"
      },
      {
       "current": "c6dd7374-97eb-11ee-91d3-0242ac120006-3-a387-4340-d44d",
       "next": "c6dd73a6-97eb-11ee-91d3-0242ac120006-2-604f-66ac",
       "previous": "7f4f70c0-97eb-11ee-91d3-0242ac120006-3-e0f2-4a51-d85f"
      }
     ],
     "next": "c6dd73a6-97eb-11ee-91d3-0242ac120006-3-604f-66ac-5ec9",
     "previous": "7f4f70c0-97eb-11ee-91d3-0242ac120006-4-e0f2-4a51-d85f-f74c"
    }
   },
   "outputs": [],
   "source": [
    "!ansible -b -m service -a \"name=ceph_gateway enabled=yes state=restarted\" ceph_node"
   ]
  },
  {
   "cell_type": "code",
   "execution_count": null,
   "metadata": {
    "lc_cell_meme": {
     "current": "c6dd73a6-97eb-11ee-91d3-0242ac120006-3-604f-66ac-5ec9",
     "history": [
      {
       "current": "c6dd73a6-97eb-11ee-91d3-0242ac120006-1-604f",
       "next": "35c581ba-55a3-11e7-b0b2-00163e9c0e35-3-89bc-f9d0-e61c",
       "previous": "c6dd7374-97eb-11ee-91d3-0242ac120006"
      },
      {
       "current": "c6dd73a6-97eb-11ee-91d3-0242ac120006-2-604f-66ac",
       "next": "35c581ba-55a3-11e7-b0b2-00163e9c0e35-4-89bc-f9d0-e61c-13c8",
       "previous": "c6dd7374-97eb-11ee-91d3-0242ac120006-1-a387"
      },
      {
       "current": "c6dd73a6-97eb-11ee-91d3-0242ac120006-3-604f-66ac-5ec9",
       "next": "35c581ba-55a3-11e7-b0b2-00163e9c0e35-5-89bc-f9d0-e61c-13c8-67c2",
       "previous": "c6dd7374-97eb-11ee-91d3-0242ac120006-2-a387-4340"
      }
     ],
     "next": "35c581ba-55a3-11e7-b0b2-00163e9c0e35-6-89bc-f9d0-e61c-13c8-67c2-f1ab",
     "previous": "c6dd7374-97eb-11ee-91d3-0242ac120006-3-a387-4340-d44d"
    }
   },
   "outputs": [],
   "source": [
    "!ansible -b -m shell -a \"systemctl status ceph_gateway\" ceph_node"
   ]
  },
  {
   "cell_type": "markdown",
   "metadata": {
    "collapsed": true,
    "lc_cell_meme": {
     "current": "35c581ba-55a3-11e7-b0b2-00163e9c0e35-6-89bc-f9d0-e61c-13c8-67c2-f1ab",
     "history": [
      {
       "current": "35c581ba-55a3-11e7-b0b2-00163e9c0e35",
       "next": "35c58340-55a3-11e7-b0b2-00163e9c0e35",
       "previous": "35c58034-55a3-11e7-b0b2-00163e9c0e35"
      },
      {
       "current": "35c581ba-55a3-11e7-b0b2-00163e9c0e35",
       "next": "35c58340-55a3-11e7-b0b2-00163e9c0e35",
       "previous": "35c51928-55a3-11e7-b0b2-00163e9c0e35"
      },
      {
       "current": "35c581ba-55a3-11e7-b0b2-00163e9c0e35",
       "next": "35c58340-55a3-11e7-b0b2-00163e9c0e35",
       "previous": "277a614c-47b9-11ea-a028-0242ac120005"
      },
      {
       "current": "35c581ba-55a3-11e7-b0b2-00163e9c0e35",
       "next": "35c58340-55a3-11e7-b0b2-00163e9c0e35",
       "previous": "35c51928-55a3-11e7-b0b2-00163e9c0e35"
      },
      {
       "current": "35c581ba-55a3-11e7-b0b2-00163e9c0e35",
       "next": "35c58340-55a3-11e7-b0b2-00163e9c0e35",
       "previous": "b8a85906-47b6-11ea-a028-0242ac120005"
      },
      {
       "current": "35c581ba-55a3-11e7-b0b2-00163e9c0e35",
       "next": "35c58340-55a3-11e7-b0b2-00163e9c0e35",
       "previous": "35c38fae-55a3-11e7-b0b2-00163e9c0e35"
      },
      {
       "current": "35c581ba-55a3-11e7-b0b2-00163e9c0e35",
       "next": "35c58340-55a3-11e7-b0b2-00163e9c0e35",
       "previous": "35c385a4-55a3-11e7-b0b2-00163e9c0e35"
      },
      {
       "current": "35c581ba-55a3-11e7-b0b2-00163e9c0e35",
       "next": "35c58340-55a3-11e7-b0b2-00163e9c0e35",
       "previous": "27c39180-935b-11ea-8d02-0242ac120007"
      },
      {
       "current": "35c581ba-55a3-11e7-b0b2-00163e9c0e35",
       "next": "35c58340-55a3-11e7-b0b2-00163e9c0e35",
       "previous": "35c385a4-55a3-11e7-b0b2-00163e9c0e35"
      },
      {
       "current": "35c581ba-55a3-11e7-b0b2-00163e9c0e35",
       "next": "35c58340-55a3-11e7-b0b2-00163e9c0e35",
       "previous": "b20d6ace-9684-11ea-8d02-0242ac120007"
      },
      {
       "current": "35c581ba-55a3-11e7-b0b2-00163e9c0e35",
       "next": "35c58340-55a3-11e7-b0b2-00163e9c0e35",
       "previous": "18b837c6-9686-11ea-8d02-0242ac120007"
      },
      {
       "current": "35c581ba-55a3-11e7-b0b2-00163e9c0e35",
       "next": "35c58340-55a3-11e7-b0b2-00163e9c0e35",
       "previous": "59de09f6-9686-11ea-8d02-0242ac120007"
      },
      {
       "current": "35c581ba-55a3-11e7-b0b2-00163e9c0e35",
       "next": "35c58340-55a3-11e7-b0b2-00163e9c0e35",
       "previous": "7dae8b30-9686-11ea-8d02-0242ac120007"
      },
      {
       "current": "35c581ba-55a3-11e7-b0b2-00163e9c0e35",
       "next": "35c58340-55a3-11e7-b0b2-00163e9c0e35",
       "previous": "789942dc-9692-11ea-8d02-0242ac120007"
      },
      {
       "current": "35c581ba-55a3-11e7-b0b2-00163e9c0e35",
       "next": "35c58340-55a3-11e7-b0b2-00163e9c0e35",
       "previous": "e95d003a-9697-11ea-8d02-0242ac120007"
      },
      {
       "current": "35c581ba-55a3-11e7-b0b2-00163e9c0e35",
       "next": "35c58340-55a3-11e7-b0b2-00163e9c0e35",
       "previous": "357fc83a-969d-11ea-8d02-0242ac120007"
      },
      {
       "current": "35c581ba-55a3-11e7-b0b2-00163e9c0e35",
       "next": "35c58340-55a3-11e7-b0b2-00163e9c0e35",
       "previous": "7dae86da-9686-11ea-8d02-0242ac120007"
      },
      {
       "current": "35c581ba-55a3-11e7-b0b2-00163e9c0e35",
       "next": "35c58340-55a3-11e7-b0b2-00163e9c0e35",
       "previous": "49102d8c-98a9-11ea-8d02-0242ac120007"
      },
      {
       "current": "35c581ba-55a3-11e7-b0b2-00163e9c0e35",
       "next": "35c58340-55a3-11e7-b0b2-00163e9c0e35",
       "previous": "dbe917aa-9984-11ea-8d02-0242ac120007"
      },
      {
       "current": "35c581ba-55a3-11e7-b0b2-00163e9c0e35",
       "next": "35c58340-55a3-11e7-b0b2-00163e9c0e35",
       "previous": "f9f7c1a0-9985-11ea-8d02-0242ac120007"
      },
      {
       "current": "35c581ba-55a3-11e7-b0b2-00163e9c0e35",
       "next": "35c58340-55a3-11e7-b0b2-00163e9c0e35",
       "previous": "4180e646-9986-11ea-8d02-0242ac120007"
      },
      {
       "current": "35c581ba-55a3-11e7-b0b2-00163e9c0e35",
       "next": "35c58340-55a3-11e7-b0b2-00163e9c0e35",
       "previous": "eea7aafc-9987-11ea-8d02-0242ac120007"
      },
      {
       "current": "35c581ba-55a3-11e7-b0b2-00163e9c0e35",
       "next": "35c58340-55a3-11e7-b0b2-00163e9c0e35",
       "previous": "7db36be6-9988-11ea-8d02-0242ac120007"
      },
      {
       "current": "35c581ba-55a3-11e7-b0b2-00163e9c0e35",
       "next": "35c58340-55a3-11e7-b0b2-00163e9c0e35",
       "previous": "7db36a7e-9988-11ea-8d02-0242ac120007"
      },
      {
       "current": "35c581ba-55a3-11e7-b0b2-00163e9c0e35",
       "next": "35c58340-55a3-11e7-b0b2-00163e9c0e35",
       "previous": "f3e7d364-998e-11ea-8d02-0242ac120007"
      },
      {
       "current": "35c581ba-55a3-11e7-b0b2-00163e9c0e35",
       "next": "35c58340-55a3-11e7-b0b2-00163e9c0e35",
       "previous": "b0a33f46-98ce-11ea-8d02-0242ac120007"
      },
      {
       "current": "35c581ba-55a3-11e7-b0b2-00163e9c0e35",
       "next": "35c58340-55a3-11e7-b0b2-00163e9c0e35",
       "previous": "752d5d50-9a60-11ea-8d02-0242ac120007"
      },
      {
       "current": "35c581ba-55a3-11e7-b0b2-00163e9c0e35",
       "next": "35c58340-55a3-11e7-b0b2-00163e9c0e35",
       "previous": "e61b1904-9a5f-11ea-8d02-0242ac120007"
      },
      {
       "current": "35c581ba-55a3-11e7-b0b2-00163e9c0e35",
       "next": "35c58340-55a3-11e7-b0b2-00163e9c0e35",
       "previous": "e61b1774-9a5f-11ea-8d02-0242ac120007"
      },
      {
       "current": "35c581ba-55a3-11e7-b0b2-00163e9c0e35-1-89bc",
       "next": "35c58340-55a3-11e7-b0b2-00163e9c0e35",
       "previous": "adc93ec4-9b1c-11ea-8d02-0242ac120007"
      },
      {
       "current": "35c581ba-55a3-11e7-b0b2-00163e9c0e35-2-89bc-f9d0",
       "next": "35c58340-55a3-11e7-b0b2-00163e9c0e35-1-38bc",
       "previous": "adc93ec4-9b1c-11ea-8d02-0242ac120007-1-9d17"
      },
      {
       "current": "35c581ba-55a3-11e7-b0b2-00163e9c0e35-2-89bc-f9d0",
       "next": "35c58340-55a3-11e7-b0b2-00163e9c0e35-2-38bc-8fc7",
       "previous": "adc93ec4-9b1c-11ea-8d02-0242ac120007-2-9d17-b208"
      },
      {
       "current": "35c581ba-55a3-11e7-b0b2-00163e9c0e35-2-89bc-f9d0",
       "next": "35c58340-55a3-11e7-b0b2-00163e9c0e35-2-38bc-8fc7",
       "previous": "cea0381c-6cad-11ee-89fa-0242ac120005"
      },
      {
       "current": "35c581ba-55a3-11e7-b0b2-00163e9c0e35-2-89bc-f9d0",
       "next": "35c58340-55a3-11e7-b0b2-00163e9c0e35-2-38bc-8fc7",
       "previous": "cea037a4-6cad-11ee-89fa-0242ac120005"
      },
      {
       "current": "35c581ba-55a3-11e7-b0b2-00163e9c0e35-2-89bc-f9d0",
       "next": "35c58340-55a3-11e7-b0b2-00163e9c0e35-2-38bc-8fc7",
       "previous": "1cc14c3a-7211-11ee-89fa-0242ac120005-1-22c6"
      },
      {
       "current": "35c581ba-55a3-11e7-b0b2-00163e9c0e35-2-89bc-f9d0",
       "next": "35c58340-55a3-11e7-b0b2-00163e9c0e35-2-38bc-8fc7",
       "previous": "abccd26e-7211-11ee-89fa-0242ac120005-1-49d0"
      },
      {
       "current": "35c581ba-55a3-11e7-b0b2-00163e9c0e35-2-89bc-f9d0",
       "next": "35c58340-55a3-11e7-b0b2-00163e9c0e35-2-38bc-8fc7",
       "previous": "39bc9190-81e4-11ee-91d3-0242ac120006-1-3d03"
      },
      {
       "current": "35c581ba-55a3-11e7-b0b2-00163e9c0e35-2-89bc-f9d0",
       "next": "35c58340-55a3-11e7-b0b2-00163e9c0e35-2-38bc-8fc7",
       "previous": "79af7266-81fa-11ee-91d3-0242ac120006"
      },
      {
       "current": "35c581ba-55a3-11e7-b0b2-00163e9c0e35-2-89bc-f9d0",
       "next": "35c58340-55a3-11e7-b0b2-00163e9c0e35-2-38bc-8fc7",
       "previous": "4dbe5b1e-8203-11ee-91d3-0242ac120006"
      },
      {
       "current": "35c581ba-55a3-11e7-b0b2-00163e9c0e35-2-89bc-f9d0",
       "next": "35c58340-55a3-11e7-b0b2-00163e9c0e35-2-38bc-8fc7",
       "previous": "fae6d004-8204-11ee-91d3-0242ac120006"
      },
      {
       "current": "35c581ba-55a3-11e7-b0b2-00163e9c0e35-2-89bc-f9d0",
       "next": "35c58340-55a3-11e7-b0b2-00163e9c0e35-2-38bc-8fc7",
       "previous": "8a7d015c-8205-11ee-91d3-0242ac120006"
      },
      {
       "current": "35c581ba-55a3-11e7-b0b2-00163e9c0e35-2-89bc-f9d0",
       "next": "35c58340-55a3-11e7-b0b2-00163e9c0e35-2-38bc-8fc7",
       "previous": "c26b7544-81fb-11ee-91d3-0242ac120006-1-767b"
      },
      {
       "current": "35c581ba-55a3-11e7-b0b2-00163e9c0e35-2-89bc-f9d0",
       "next": "35c58340-55a3-11e7-b0b2-00163e9c0e35-2-38bc-8fc7",
       "previous": "b7ec6662-8383-11ee-91d3-0242ac120006"
      },
      {
       "current": "35c581ba-55a3-11e7-b0b2-00163e9c0e35-2-89bc-f9d0",
       "next": "35c58340-55a3-11e7-b0b2-00163e9c0e35-2-38bc-8fc7",
       "previous": "d6091fae-8384-11ee-91d3-0242ac120006"
      },
      {
       "current": "35c581ba-55a3-11e7-b0b2-00163e9c0e35-2-89bc-f9d0",
       "next": "35c58340-55a3-11e7-b0b2-00163e9c0e35-2-38bc-8fc7",
       "previous": "1da685ae-8385-11ee-91d3-0242ac120006"
      },
      {
       "current": "35c581ba-55a3-11e7-b0b2-00163e9c0e35-2-89bc-f9d0",
       "next": "35c58340-55a3-11e7-b0b2-00163e9c0e35-2-38bc-8fc7",
       "previous": "652e65b8-8385-11ee-91d3-0242ac120006"
      },
      {
       "current": "35c581ba-55a3-11e7-b0b2-00163e9c0e35-2-89bc-f9d0",
       "next": "35c58340-55a3-11e7-b0b2-00163e9c0e35-2-38bc-8fc7",
       "previous": "d6091e0a-8384-11ee-91d3-0242ac120006"
      },
      {
       "current": "35c581ba-55a3-11e7-b0b2-00163e9c0e35-3-89bc-f9d0-e61c",
       "next": "35c58340-55a3-11e7-b0b2-00163e9c0e35-2-38bc-8fc7",
       "previous": "b7ec65f4-8383-11ee-91d3-0242ac120006"
      },
      {
       "current": "35c581ba-55a3-11e7-b0b2-00163e9c0e35-3-89bc-f9d0-e61c",
       "next": "35c58340-55a3-11e7-b0b2-00163e9c0e35-3-38bc-8fc7-8980",
       "previous": "7f4f70c0-97eb-11ee-91d3-0242ac120006"
      },
      {
       "current": "35c581ba-55a3-11e7-b0b2-00163e9c0e35-4-89bc-f9d0-e61c-13c8",
       "next": "35c58340-55a3-11e7-b0b2-00163e9c0e35-3-38bc-8fc7-8980",
       "previous": "c6dd73a6-97eb-11ee-91d3-0242ac120006"
      },
      {
       "current": "35c581ba-55a3-11e7-b0b2-00163e9c0e35-5-89bc-f9d0-e61c-13c8-67c2",
       "next": "35c58340-55a3-11e7-b0b2-00163e9c0e35-4-38bc-8fc7-8980-2d3c",
       "previous": "c6dd73a6-97eb-11ee-91d3-0242ac120006-1-604f"
      },
      {
       "current": "35c581ba-55a3-11e7-b0b2-00163e9c0e35-6-89bc-f9d0-e61c-13c8-67c2-f1ab",
       "next": "35c58340-55a3-11e7-b0b2-00163e9c0e35-5-38bc-8fc7-8980-2d3c-7ed0",
       "previous": "c6dd73a6-97eb-11ee-91d3-0242ac120006-2-604f-66ac"
      }
     ],
     "next": "35c58340-55a3-11e7-b0b2-00163e9c0e35-6-38bc-8fc7-8980-2d3c-7ed0-d674",
     "previous": "c6dd73a6-97eb-11ee-91d3-0242ac120006-3-604f-66ac-5ec9"
    }
   },
   "source": [
    "# 後始末\n",
    "\n",
    "一時ディレクトリを削除する。"
   ]
  },
  {
   "cell_type": "code",
   "execution_count": null,
   "metadata": {
    "ExecuteTime": {
     "end_time": "2017-06-29T08:01:20.617274Z",
     "start_time": "2017-06-29T08:01:20.466671Z"
    },
    "lc_cell_meme": {
     "current": "35c58340-55a3-11e7-b0b2-00163e9c0e35-6-38bc-8fc7-8980-2d3c-7ed0-d674",
     "history": [
      {
       "current": "35c58340-55a3-11e7-b0b2-00163e9c0e35",
       "next": null,
       "previous": "35c581ba-55a3-11e7-b0b2-00163e9c0e35"
      },
      {
       "current": "35c58340-55a3-11e7-b0b2-00163e9c0e35-1-38bc",
       "next": "c4bd8ce4-5749-11e7-b0b2-00163e9c0e35",
       "previous": "35c581ba-55a3-11e7-b0b2-00163e9c0e35"
      },
      {
       "current": "35c58340-55a3-11e7-b0b2-00163e9c0e35-2-38bc-8fc7",
       "next": "c4bd8ce4-5749-11e7-b0b2-00163e9c0e35-1-e01c",
       "previous": "35c581ba-55a3-11e7-b0b2-00163e9c0e35-1-89bc"
      },
      {
       "current": "35c58340-55a3-11e7-b0b2-00163e9c0e35-3-38bc-8fc7-8980",
       "next": "c4bd8ce4-5749-11e7-b0b2-00163e9c0e35-2-e01c-d763",
       "previous": "35c581ba-55a3-11e7-b0b2-00163e9c0e35-2-89bc-f9d0"
      },
      {
       "current": "35c58340-55a3-11e7-b0b2-00163e9c0e35-4-38bc-8fc7-8980-2d3c",
       "next": "c4bd8ce4-5749-11e7-b0b2-00163e9c0e35-3-e01c-d763-e057",
       "previous": "35c581ba-55a3-11e7-b0b2-00163e9c0e35-3-89bc-f9d0-e61c"
      },
      {
       "current": "35c58340-55a3-11e7-b0b2-00163e9c0e35-5-38bc-8fc7-8980-2d3c-7ed0",
       "next": "c4bd8ce4-5749-11e7-b0b2-00163e9c0e35-4-e01c-d763-e057-6822",
       "previous": "35c581ba-55a3-11e7-b0b2-00163e9c0e35-4-89bc-f9d0-e61c-13c8"
      },
      {
       "current": "35c58340-55a3-11e7-b0b2-00163e9c0e35-6-38bc-8fc7-8980-2d3c-7ed0-d674",
       "next": "c4bd8ce4-5749-11e7-b0b2-00163e9c0e35-5-e01c-d763-e057-6822-683d",
       "previous": "35c581ba-55a3-11e7-b0b2-00163e9c0e35-5-89bc-f9d0-e61c-13c8-67c2"
      }
     ],
     "next": "c4bd8ce4-5749-11e7-b0b2-00163e9c0e35-6-e01c-d763-e057-6822-683d-1feb",
     "previous": "35c581ba-55a3-11e7-b0b2-00163e9c0e35-6-89bc-f9d0-e61c-13c8-67c2-f1ab"
    }
   },
   "outputs": [],
   "source": [
    "!rm -fr $temp_dir"
   ]
  },
  {
   "cell_type": "code",
   "execution_count": null,
   "metadata": {
    "lc_cell_meme": {
     "current": "c4bd8ce4-5749-11e7-b0b2-00163e9c0e35-6-e01c-d763-e057-6822-683d-1feb",
     "history": [
      {
       "current": "c4bd8ce4-5749-11e7-b0b2-00163e9c0e35-1-e01c",
       "next": null,
       "previous": "35c58340-55a3-11e7-b0b2-00163e9c0e35"
      },
      {
       "current": "c4bd8ce4-5749-11e7-b0b2-00163e9c0e35-2-e01c-d763",
       "next": null,
       "previous": "35c58340-55a3-11e7-b0b2-00163e9c0e35-1-38bc"
      },
      {
       "current": "c4bd8ce4-5749-11e7-b0b2-00163e9c0e35-3-e01c-d763-e057",
       "next": null,
       "previous": "35c58340-55a3-11e7-b0b2-00163e9c0e35-2-38bc-8fc7"
      },
      {
       "current": "c4bd8ce4-5749-11e7-b0b2-00163e9c0e35-4-e01c-d763-e057-6822",
       "next": null,
       "previous": "35c58340-55a3-11e7-b0b2-00163e9c0e35-3-38bc-8fc7-8980"
      },
      {
       "current": "c4bd8ce4-5749-11e7-b0b2-00163e9c0e35-5-e01c-d763-e057-6822-683d",
       "next": null,
       "previous": "35c58340-55a3-11e7-b0b2-00163e9c0e35-4-38bc-8fc7-8980-2d3c"
      },
      {
       "current": "c4bd8ce4-5749-11e7-b0b2-00163e9c0e35-6-e01c-d763-e057-6822-683d-1feb",
       "next": null,
       "previous": "35c58340-55a3-11e7-b0b2-00163e9c0e35-5-38bc-8fc7-8980-2d3c-7ed0"
      }
     ],
     "next": null,
     "previous": "35c58340-55a3-11e7-b0b2-00163e9c0e35-6-38bc-8fc7-8980-2d3c-7ed0-d674"
    }
   },
   "outputs": [],
   "source": []
  }
 ],
 "metadata": {
  "kernelspec": {
   "display_name": "Python 3",
   "language": "python",
   "name": "python3"
  },
  "language_info": {
   "file_extension": ".py",
   "mimetype": "text/x-python",
   "name": "python",
   "nbconvert_exporter": "python",
   "pygments_lexer": "ipython3",
   "version": "3.10.4"
  },
  "lc_notebook_meme": {
   "current": "35c33086-55a3-11e7-b0b2-00163e9c0e35"
  },
  "toc": {
   "base_numbering": 1,
   "nav_menu": {
    "height": "484px",
    "width": "687px"
   },
   "number_sections": true,
   "sideBar": true,
   "skip_h1_title": false,
   "title_cell": "Table of Contents",
   "title_sidebar": "Contents",
   "toc_cell": false,
   "toc_position": {
    "height": "1156px",
    "left": "51px",
    "right": "1330px",
    "top": "111.133px",
    "width": "255px"
   },
   "toc_section_display": true,
   "toc_window_display": true
  }
 },
 "nbformat": 4,
 "nbformat_minor": 1
}
