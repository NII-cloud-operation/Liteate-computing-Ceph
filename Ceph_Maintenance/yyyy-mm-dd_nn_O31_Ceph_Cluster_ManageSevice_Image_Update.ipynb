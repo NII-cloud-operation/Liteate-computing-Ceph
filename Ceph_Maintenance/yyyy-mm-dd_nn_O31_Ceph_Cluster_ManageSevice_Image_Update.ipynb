{
 "cells": [
  {
   "cell_type": "markdown",
   "metadata": {
    "collapsed": true,
    "lc_cell_meme": {
     "current": "35c33414-55a3-11e7-b0b2-00163e9c0e35-7-ffee-ac17-9684-d7ed-1c39-d4c6-44fa",
     "history": [
      {
       "current": "35c33414-55a3-11e7-b0b2-00163e9c0e35",
       "next": "35c33626-55a3-11e7-b0b2-00163e9c0e35",
       "previous": null
      },
      {
       "current": "35c33414-55a3-11e7-b0b2-00163e9c0e35",
       "next": "35c33626-55a3-11e7-b0b2-00163e9c0e35",
       "previous": null
      },
      {
       "current": "35c33414-55a3-11e7-b0b2-00163e9c0e35",
       "next": "35c33626-55a3-11e7-b0b2-00163e9c0e35",
       "previous": "0db87670-9586-11ea-8d02-0242ac120007"
      },
      {
       "current": "35c33414-55a3-11e7-b0b2-00163e9c0e35-1-ffee",
       "next": "35c337f2-55a3-11e7-b0b2-00163e9c0e35",
       "previous": null
      },
      {
       "current": "35c33414-55a3-11e7-b0b2-00163e9c0e35-2-ffee-ac17",
       "next": "35c337f2-55a3-11e7-b0b2-00163e9c0e35-1-b874",
       "previous": null
      },
      {
       "current": "35c33414-55a3-11e7-b0b2-00163e9c0e35-3-ffee-ac17-9684",
       "next": "35c337f2-55a3-11e7-b0b2-00163e9c0e35-2-b874-13f7",
       "previous": null
      },
      {
       "current": "35c33414-55a3-11e7-b0b2-00163e9c0e35-3-ffee-ac17-9684",
       "next": "35c337f2-55a3-11e7-b0b2-00163e9c0e35-3-b874-13f7-3f47",
       "previous": null
      },
      {
       "current": "35c33414-55a3-11e7-b0b2-00163e9c0e35-4-ffee-ac17-9684-d7ed",
       "next": "35c339aa-55a3-11e7-b0b2-00163e9c0e35-3-eee2-af6c-3cfe",
       "previous": null
      },
      {
       "current": "35c33414-55a3-11e7-b0b2-00163e9c0e35-5-ffee-ac17-9684-d7ed-1c39",
       "next": "35c339aa-55a3-11e7-b0b2-00163e9c0e35-4-eee2-af6c-3cfe-7c4a",
       "previous": null
      },
      {
       "current": "35c33414-55a3-11e7-b0b2-00163e9c0e35-6-ffee-ac17-9684-d7ed-1c39-d4c6",
       "next": "35c339aa-55a3-11e7-b0b2-00163e9c0e35-5-eee2-af6c-3cfe-7c4a-f477",
       "previous": null
      },
      {
       "current": "35c33414-55a3-11e7-b0b2-00163e9c0e35-7-ffee-ac17-9684-d7ed-1c39-d4c6-44fa",
       "next": "35c339aa-55a3-11e7-b0b2-00163e9c0e35-6-eee2-af6c-3cfe-7c4a-f477-3a59",
       "previous": null
      }
     ],
     "next": "35c339aa-55a3-11e7-b0b2-00163e9c0e35-7-eee2-af6c-3cfe-7c4a-f477-3a59-3461",
     "previous": null
    }
   },
   "source": [
    "# Cephノード運用：Cephクラスタ 監視・管理サービスUpdate\n",
    "Cephクラスタを構成するサービスであるMgr,MOM,Crashのイメージ更新を行う。\n"
   ]
  },
  {
   "cell_type": "markdown",
   "metadata": {
    "lc_cell_meme": {
     "current": "35c339aa-55a3-11e7-b0b2-00163e9c0e35-7-eee2-af6c-3cfe-7c4a-f477-3a59-3461",
     "history": [
      {
       "current": "35c339aa-55a3-11e7-b0b2-00163e9c0e35",
       "next": "35c33b6c-55a3-11e7-b0b2-00163e9c0e35",
       "previous": "35c337f2-55a3-11e7-b0b2-00163e9c0e35"
      },
      {
       "current": "35c339aa-55a3-11e7-b0b2-00163e9c0e35",
       "next": "670888aa-5722-11e7-b0b2-00163e9c0e35",
       "previous": "35c337f2-55a3-11e7-b0b2-00163e9c0e35"
      },
      {
       "current": "35c339aa-55a3-11e7-b0b2-00163e9c0e35",
       "next": "670888aa-5722-11e7-b0b2-00163e9c0e35",
       "previous": "357fc83a-969d-11ea-8d02-0242ac120007"
      },
      {
       "current": "35c339aa-55a3-11e7-b0b2-00163e9c0e35-1-eee2",
       "next": "670888aa-5722-11e7-b0b2-00163e9c0e35",
       "previous": "8a48dae0-98a1-11ea-8d02-0242ac120007"
      },
      {
       "current": "35c339aa-55a3-11e7-b0b2-00163e9c0e35-2-eee2-af6c",
       "next": "670888aa-5722-11e7-b0b2-00163e9c0e35-1-17ba",
       "previous": "8a48dae0-98a1-11ea-8d02-0242ac120007-1-4da2"
      },
      {
       "current": "35c339aa-55a3-11e7-b0b2-00163e9c0e35-2-eee2-af6c",
       "next": "670888aa-5722-11e7-b0b2-00163e9c0e35-2-17ba-53fc",
       "previous": "8a48dae0-98a1-11ea-8d02-0242ac120007-2-4da2-9c77"
      },
      {
       "current": "35c339aa-55a3-11e7-b0b2-00163e9c0e35-3-eee2-af6c-3cfe",
       "next": "670888aa-5722-11e7-b0b2-00163e9c0e35-2-17ba-53fc",
       "previous": "35c337f2-55a3-11e7-b0b2-00163e9c0e35-2-b874-13f7"
      },
      {
       "current": "35c339aa-55a3-11e7-b0b2-00163e9c0e35-3-eee2-af6c-3cfe",
       "next": "670888aa-5722-11e7-b0b2-00163e9c0e35-3-17ba-53fc-2957",
       "previous": "35c337f2-55a3-11e7-b0b2-00163e9c0e35-3-b874-13f7-3f47"
      },
      {
       "current": "35c339aa-55a3-11e7-b0b2-00163e9c0e35-4-eee2-af6c-3cfe-7c4a",
       "next": "670888aa-5722-11e7-b0b2-00163e9c0e35-3-17ba-53fc-2957",
       "previous": "35c33414-55a3-11e7-b0b2-00163e9c0e35-3-ffee-ac17-9684"
      },
      {
       "current": "35c339aa-55a3-11e7-b0b2-00163e9c0e35-5-eee2-af6c-3cfe-7c4a-f477",
       "next": "670888aa-5722-11e7-b0b2-00163e9c0e35-4-17ba-53fc-2957-5830",
       "previous": "35c33414-55a3-11e7-b0b2-00163e9c0e35-4-ffee-ac17-9684-d7ed"
      },
      {
       "current": "35c339aa-55a3-11e7-b0b2-00163e9c0e35-6-eee2-af6c-3cfe-7c4a-f477-3a59",
       "next": "670888aa-5722-11e7-b0b2-00163e9c0e35-5-17ba-53fc-2957-5830-7b98",
       "previous": "35c33414-55a3-11e7-b0b2-00163e9c0e35-5-ffee-ac17-9684-d7ed-1c39"
      },
      {
       "current": "35c339aa-55a3-11e7-b0b2-00163e9c0e35-7-eee2-af6c-3cfe-7c4a-f477-3a59-3461",
       "next": "670888aa-5722-11e7-b0b2-00163e9c0e35-6-17ba-53fc-2957-5830-7b98-6fc6",
       "previous": "35c33414-55a3-11e7-b0b2-00163e9c0e35-6-ffee-ac17-9684-d7ed-1c39-d4c6"
      }
     ],
     "next": "670888aa-5722-11e7-b0b2-00163e9c0e35-7-17ba-53fc-2957-5830-7b98-6fc6-9580",
     "previous": "35c33414-55a3-11e7-b0b2-00163e9c0e35-7-ffee-ac17-9684-d7ed-1c39-d4c6-44fa"
    }
   },
   "source": [
    "# パラメータ定義"
   ]
  },
  {
   "cell_type": "markdown",
   "metadata": {
    "lc_cell_meme": {
     "current": "670888aa-5722-11e7-b0b2-00163e9c0e35-7-17ba-53fc-2957-5830-7b98-6fc6-9580",
     "history": [
      {
       "current": "670888aa-5722-11e7-b0b2-00163e9c0e35-1-17ba",
       "next": "35c33b6c-55a3-11e7-b0b2-00163e9c0e35",
       "previous": "35c339aa-55a3-11e7-b0b2-00163e9c0e35"
      },
      {
       "current": "670888aa-5722-11e7-b0b2-00163e9c0e35-2-17ba-53fc",
       "next": "35c33b6c-55a3-11e7-b0b2-00163e9c0e35-1-c84d",
       "previous": "35c339aa-55a3-11e7-b0b2-00163e9c0e35-1-eee2"
      },
      {
       "current": "670888aa-5722-11e7-b0b2-00163e9c0e35-3-17ba-53fc-2957",
       "next": "35c33b6c-55a3-11e7-b0b2-00163e9c0e35-2-c84d-3439",
       "previous": "35c339aa-55a3-11e7-b0b2-00163e9c0e35-2-eee2-af6c"
      },
      {
       "current": "670888aa-5722-11e7-b0b2-00163e9c0e35-4-17ba-53fc-2957-5830",
       "next": "35c33b6c-55a3-11e7-b0b2-00163e9c0e35-3-c84d-3439-eddb",
       "previous": "35c339aa-55a3-11e7-b0b2-00163e9c0e35-3-eee2-af6c-3cfe"
      },
      {
       "current": "670888aa-5722-11e7-b0b2-00163e9c0e35-5-17ba-53fc-2957-5830-7b98",
       "next": "35c33b6c-55a3-11e7-b0b2-00163e9c0e35-4-c84d-3439-eddb-682c",
       "previous": "35c339aa-55a3-11e7-b0b2-00163e9c0e35-4-eee2-af6c-3cfe-7c4a"
      },
      {
       "current": "670888aa-5722-11e7-b0b2-00163e9c0e35-6-17ba-53fc-2957-5830-7b98-6fc6",
       "next": "35c33b6c-55a3-11e7-b0b2-00163e9c0e35-5-c84d-3439-eddb-682c-c460",
       "previous": "35c339aa-55a3-11e7-b0b2-00163e9c0e35-5-eee2-af6c-3cfe-7c4a-f477"
      },
      {
       "current": "670888aa-5722-11e7-b0b2-00163e9c0e35-7-17ba-53fc-2957-5830-7b98-6fc6-9580",
       "next": "35c33b6c-55a3-11e7-b0b2-00163e9c0e35-6-c84d-3439-eddb-682c-c460-6c00",
       "previous": "35c339aa-55a3-11e7-b0b2-00163e9c0e35-6-eee2-af6c-3cfe-7c4a-f477-3a59"
      }
     ],
     "next": "35c33b6c-55a3-11e7-b0b2-00163e9c0e35-7-c84d-3439-eddb-682c-c460-6c00-b903",
     "previous": "35c339aa-55a3-11e7-b0b2-00163e9c0e35-7-eee2-af6c-3cfe-7c4a-f477-3a59-3461"
    }
   },
   "source": [
    "## パラメータファイル設定"
   ]
  },
  {
   "cell_type": "markdown",
   "metadata": {
    "lc_cell_meme": {
     "current": "35c33b6c-55a3-11e7-b0b2-00163e9c0e35-7-c84d-3439-eddb-682c-c460-6c00-b903",
     "history": [
      {
       "current": "35c33b6c-55a3-11e7-b0b2-00163e9c0e35",
       "next": "35c33d24-55a3-11e7-b0b2-00163e9c0e35",
       "previous": "35c339aa-55a3-11e7-b0b2-00163e9c0e35"
      },
      {
       "current": "35c33b6c-55a3-11e7-b0b2-00163e9c0e35-1-c84d",
       "next": "35c33d24-55a3-11e7-b0b2-00163e9c0e35",
       "previous": "670888aa-5722-11e7-b0b2-00163e9c0e35"
      },
      {
       "current": "35c33b6c-55a3-11e7-b0b2-00163e9c0e35-2-c84d-3439",
       "next": "35c33d24-55a3-11e7-b0b2-00163e9c0e35-1-c8d8",
       "previous": "670888aa-5722-11e7-b0b2-00163e9c0e35-1-17ba"
      },
      {
       "current": "35c33b6c-55a3-11e7-b0b2-00163e9c0e35-3-c84d-3439-eddb",
       "next": "35c33d24-55a3-11e7-b0b2-00163e9c0e35-2-c8d8-c063",
       "previous": "670888aa-5722-11e7-b0b2-00163e9c0e35-2-17ba-53fc"
      },
      {
       "current": "35c33b6c-55a3-11e7-b0b2-00163e9c0e35-4-c84d-3439-eddb-682c",
       "next": "35c33d24-55a3-11e7-b0b2-00163e9c0e35-3-c8d8-c063-e3d4",
       "previous": "670888aa-5722-11e7-b0b2-00163e9c0e35-3-17ba-53fc-2957"
      },
      {
       "current": "35c33b6c-55a3-11e7-b0b2-00163e9c0e35-5-c84d-3439-eddb-682c-c460",
       "next": "35c33d24-55a3-11e7-b0b2-00163e9c0e35-4-c8d8-c063-e3d4-8496",
       "previous": "670888aa-5722-11e7-b0b2-00163e9c0e35-4-17ba-53fc-2957-5830"
      },
      {
       "current": "35c33b6c-55a3-11e7-b0b2-00163e9c0e35-6-c84d-3439-eddb-682c-c460-6c00",
       "next": "73b6b4b8-22fa-11ef-ad2f-0242ac120005",
       "previous": "670888aa-5722-11e7-b0b2-00163e9c0e35-5-17ba-53fc-2957-5830-7b98"
      },
      {
       "current": "35c33b6c-55a3-11e7-b0b2-00163e9c0e35-7-c84d-3439-eddb-682c-c460-6c00-b903",
       "next": "73b6b4b8-22fa-11ef-ad2f-0242ac120005-1-9d6a",
       "previous": "670888aa-5722-11e7-b0b2-00163e9c0e35-6-17ba-53fc-2957-5830-7b98-6fc6"
      }
     ],
     "next": "73b6b4b8-22fa-11ef-ad2f-0242ac120005-2-9d6a-050d",
     "previous": "670888aa-5722-11e7-b0b2-00163e9c0e35-7-17ba-53fc-2957-5830-7b98-6fc6-9580"
    }
   },
   "source": [
    "Cephクラスタの定義ファイルを指定するため、<br>\n",
    "パラメータ定義格納ディレクトリを表示する。"
   ]
  },
  {
   "cell_type": "code",
   "execution_count": null,
   "metadata": {
    "lc_cell_meme": {
     "current": "73b6b4b8-22fa-11ef-ad2f-0242ac120005-2-9d6a-050d",
     "history": [
      {
       "current": "73b6b4b8-22fa-11ef-ad2f-0242ac120005-1-9d6a",
       "next": "73b6b580-22fa-11ef-ad2f-0242ac120005",
       "previous": "35c33b6c-55a3-11e7-b0b2-00163e9c0e35-5-c84d-3439-eddb-682c-c460"
      },
      {
       "current": "73b6b4b8-22fa-11ef-ad2f-0242ac120005-2-9d6a-050d",
       "next": "73b6b580-22fa-11ef-ad2f-0242ac120005-1-014a",
       "previous": "35c33b6c-55a3-11e7-b0b2-00163e9c0e35-6-c84d-3439-eddb-682c-c460-6c00"
      }
     ],
     "next": "73b6b580-22fa-11ef-ad2f-0242ac120005-2-014a-4c99",
     "previous": "35c33b6c-55a3-11e7-b0b2-00163e9c0e35-7-c84d-3439-eddb-682c-c460-6c00-b903"
    }
   },
   "outputs": [],
   "source": [
    "!ls -p ~/notebooks/share/ | grep \"/$\""
   ]
  },
  {
   "cell_type": "code",
   "execution_count": null,
   "metadata": {
    "lc_cell_meme": {
     "current": "73b6b580-22fa-11ef-ad2f-0242ac120005-2-014a-4c99",
     "history": [
      {
       "current": "73b6b580-22fa-11ef-ad2f-0242ac120005-1-014a",
       "next": "73b6b5b2-22fa-11ef-ad2f-0242ac120005",
       "previous": "73b6b4b8-22fa-11ef-ad2f-0242ac120005"
      },
      {
       "current": "73b6b580-22fa-11ef-ad2f-0242ac120005-2-014a-4c99",
       "next": "73b6b5b2-22fa-11ef-ad2f-0242ac120005-1-2924",
       "previous": "73b6b4b8-22fa-11ef-ad2f-0242ac120005-1-9d6a"
      }
     ],
     "next": "73b6b5b2-22fa-11ef-ad2f-0242ac120005-2-2924-94be",
     "previous": "73b6b4b8-22fa-11ef-ad2f-0242ac120005-2-9d6a-050d"
    }
   },
   "outputs": [],
   "source": [
    "!ls -p ~/notebooks/share/configuration"
   ]
  },
  {
   "cell_type": "code",
   "execution_count": null,
   "metadata": {
    "lc_cell_meme": {
     "current": "73b6b5b2-22fa-11ef-ad2f-0242ac120005-2-2924-94be",
     "history": [
      {
       "current": "73b6b5b2-22fa-11ef-ad2f-0242ac120005-1-2924",
       "next": "73b6b5da-22fa-11ef-ad2f-0242ac120005",
       "previous": "73b6b580-22fa-11ef-ad2f-0242ac120005"
      },
      {
       "current": "73b6b5b2-22fa-11ef-ad2f-0242ac120005-2-2924-94be",
       "next": "73b6b5da-22fa-11ef-ad2f-0242ac120005-1-1481",
       "previous": "73b6b580-22fa-11ef-ad2f-0242ac120005-1-014a"
      }
     ],
     "next": "73b6b5da-22fa-11ef-ad2f-0242ac120005-2-1481-5174",
     "previous": "73b6b580-22fa-11ef-ad2f-0242ac120005-2-014a-4c99"
    }
   },
   "outputs": [],
   "source": [
    "!ls -p ~/notebooks/share/configuration/ceph"
   ]
  },
  {
   "cell_type": "code",
   "execution_count": null,
   "metadata": {
    "lc_cell_meme": {
     "current": "73b6b5da-22fa-11ef-ad2f-0242ac120005-2-1481-5174",
     "history": [
      {
       "current": "73b6b5da-22fa-11ef-ad2f-0242ac120005-1-1481",
       "next": "73b6b602-22fa-11ef-ad2f-0242ac120005",
       "previous": "73b6b5b2-22fa-11ef-ad2f-0242ac120005"
      },
      {
       "current": "73b6b5da-22fa-11ef-ad2f-0242ac120005-2-1481-5174",
       "next": "73b6b602-22fa-11ef-ad2f-0242ac120005-1-7d8b",
       "previous": "73b6b5b2-22fa-11ef-ad2f-0242ac120005-1-2924"
      }
     ],
     "next": "73b6b602-22fa-11ef-ad2f-0242ac120005-2-7d8b-98fc",
     "previous": "73b6b5b2-22fa-11ef-ad2f-0242ac120005-2-2924-94be"
    }
   },
   "outputs": [],
   "source": [
    "import sys, os.path, importlib, json, yaml\n",
    "\n",
    "config_file_name = \"ceph_admin_vm.yml\"\n",
    "config_file_path = os.path.expanduser(\"~/notebooks/share/configuration/ceph/{}\".format(config_file_name))\n",
    "with open(config_file_path) as f:\n",
    "    admin_params = yaml.safe_load(f)\n",
    "admin_params"
   ]
  },
  {
   "cell_type": "code",
   "execution_count": null,
   "metadata": {
    "lc_cell_meme": {
     "current": "73b6b602-22fa-11ef-ad2f-0242ac120005-2-7d8b-98fc",
     "history": [
      {
       "current": "73b6b602-22fa-11ef-ad2f-0242ac120005-1-7d8b",
       "next": "73b6b620-22fa-11ef-ad2f-0242ac120005",
       "previous": "73b6b5da-22fa-11ef-ad2f-0242ac120005"
      },
      {
       "current": "73b6b602-22fa-11ef-ad2f-0242ac120005-2-7d8b-98fc",
       "next": "73b6b620-22fa-11ef-ad2f-0242ac120005-1-9fb3",
       "previous": "73b6b5da-22fa-11ef-ad2f-0242ac120005-1-1481"
      }
     ],
     "next": "73b6b620-22fa-11ef-ad2f-0242ac120005-2-9fb3-9b31",
     "previous": "73b6b5da-22fa-11ef-ad2f-0242ac120005-2-1481-5174"
    }
   },
   "outputs": [],
   "source": [
    "target_vm_name = 'xxx-ceph-admin1'\n",
    "admin_patam = admin_params[target_vm_name]\n",
    "admin_patam"
   ]
  },
  {
   "cell_type": "code",
   "execution_count": null,
   "metadata": {
    "lc_cell_meme": {
     "current": "73b6b620-22fa-11ef-ad2f-0242ac120005-2-9fb3-9b31",
     "history": [
      {
       "current": "73b6b620-22fa-11ef-ad2f-0242ac120005-1-9fb3",
       "next": "73b6b648-22fa-11ef-ad2f-0242ac120005",
       "previous": "73b6b602-22fa-11ef-ad2f-0242ac120005"
      },
      {
       "current": "73b6b620-22fa-11ef-ad2f-0242ac120005-2-9fb3-9b31",
       "next": "73b6b648-22fa-11ef-ad2f-0242ac120005-1-6f72",
       "previous": "73b6b602-22fa-11ef-ad2f-0242ac120005-1-7d8b"
      }
     ],
     "next": "73b6b648-22fa-11ef-ad2f-0242ac120005-2-6f72-ea70",
     "previous": "73b6b602-22fa-11ef-ad2f-0242ac120005-2-7d8b-98fc"
    }
   },
   "outputs": [],
   "source": [
    "ceph_admin_ip = admin_patam['network']['provisioning']['ip']"
   ]
  },
  {
   "cell_type": "code",
   "execution_count": null,
   "metadata": {
    "lc_cell_meme": {
     "current": "73b6b648-22fa-11ef-ad2f-0242ac120005-2-6f72-ea70",
     "history": [
      {
       "current": "73b6b648-22fa-11ef-ad2f-0242ac120005-1-6f72",
       "next": "73b6b666-22fa-11ef-ad2f-0242ac120005",
       "previous": "73b6b620-22fa-11ef-ad2f-0242ac120005"
      },
      {
       "current": "73b6b648-22fa-11ef-ad2f-0242ac120005-2-6f72-ea70",
       "next": "73b6b666-22fa-11ef-ad2f-0242ac120005-1-8421",
       "previous": "73b6b620-22fa-11ef-ad2f-0242ac120005-1-9fb3"
      }
     ],
     "next": "73b6b666-22fa-11ef-ad2f-0242ac120005-2-8421-250a",
     "previous": "73b6b620-22fa-11ef-ad2f-0242ac120005-2-9fb3-9b31"
    }
   },
   "outputs": [],
   "source": [
    "import sys, os.path, importlib, json, yaml\n",
    "\n",
    "config_file_name = \"xxx-openstack-parameter.yml\"\n",
    "config_file_path = os.path.expanduser(\"~/notebooks/share/configuration/{}\".format(config_file_name))\n",
    "with open(config_file_path) as f:\n",
    "    params = yaml.safe_load(f)\n",
    "params"
   ]
  },
  {
   "cell_type": "code",
   "execution_count": null,
   "metadata": {
    "lc_cell_meme": {
     "current": "73b6b666-22fa-11ef-ad2f-0242ac120005-2-8421-250a",
     "history": [
      {
       "current": "73b6b666-22fa-11ef-ad2f-0242ac120005-1-8421",
       "next": "73b6b68e-22fa-11ef-ad2f-0242ac120005",
       "previous": "73b6b648-22fa-11ef-ad2f-0242ac120005"
      },
      {
       "current": "73b6b666-22fa-11ef-ad2f-0242ac120005-2-8421-250a",
       "next": "73b6b68e-22fa-11ef-ad2f-0242ac120005-1-128b",
       "previous": "73b6b648-22fa-11ef-ad2f-0242ac120005-1-6f72"
      }
     ],
     "next": "73b6b68e-22fa-11ef-ad2f-0242ac120005-2-128b-981f",
     "previous": "73b6b648-22fa-11ef-ad2f-0242ac120005-2-6f72-ea70"
    }
   },
   "outputs": [],
   "source": [
    "repo_server = params['repository']['addresses']['service_operation']\n",
    "repo_server"
   ]
  },
  {
   "cell_type": "code",
   "execution_count": null,
   "metadata": {
    "lc_cell_meme": {
     "current": "73b6b68e-22fa-11ef-ad2f-0242ac120005-2-128b-981f",
     "history": [
      {
       "current": "73b6b68e-22fa-11ef-ad2f-0242ac120005-1-128b",
       "next": "bf249b06-98af-11ea-8d02-0242ac120007-5-1e49-e772-9042-a9df-31cb",
       "previous": "73b6b666-22fa-11ef-ad2f-0242ac120005"
      },
      {
       "current": "73b6b68e-22fa-11ef-ad2f-0242ac120005-2-128b-981f",
       "next": "bf249b06-98af-11ea-8d02-0242ac120007-6-1e49-e772-9042-a9df-31cb-844b",
       "previous": "73b6b666-22fa-11ef-ad2f-0242ac120005-1-8421"
      }
     ],
     "next": "bf249b06-98af-11ea-8d02-0242ac120007-7-1e49-e772-9042-a9df-31cb-844b-7936",
     "previous": "73b6b666-22fa-11ef-ad2f-0242ac120005-2-8421-250a"
    }
   },
   "outputs": [],
   "source": [
    "provisioning_vip = params['openstack']['provisioning_vip']\n",
    "provisioning_vip"
   ]
  },
  {
   "cell_type": "markdown",
   "metadata": {
    "lc_cell_meme": {
     "current": "bf249b06-98af-11ea-8d02-0242ac120007-7-1e49-e772-9042-a9df-31cb-844b-7936",
     "history": [
      {
       "current": "bf249b06-98af-11ea-8d02-0242ac120007",
       "next": "d1bcb8ac-9599-11ea-8d02-0242ac120007",
       "previous": "7dae8996-9686-11ea-8d02-0242ac120007"
      },
      {
       "current": "bf249b06-98af-11ea-8d02-0242ac120007-1-1e49",
       "next": "dd8e3cbc-98f2-11ea-8d02-0242ac120007",
       "previous": "7dae8996-9686-11ea-8d02-0242ac120007"
      },
      {
       "current": "bf249b06-98af-11ea-8d02-0242ac120007-2-1e49-e772",
       "next": "dd8e3cbc-98f2-11ea-8d02-0242ac120007-1-706a",
       "previous": "7dae8996-9686-11ea-8d02-0242ac120007-1-20c5"
      },
      {
       "current": "bf249b06-98af-11ea-8d02-0242ac120007-2-1e49-e772",
       "next": "dd8e3cbc-98f2-11ea-8d02-0242ac120007-2-706a-309d",
       "previous": "7dae8996-9686-11ea-8d02-0242ac120007-2-20c5-a0b0"
      },
      {
       "current": "bf249b06-98af-11ea-8d02-0242ac120007-2-1e49-e772",
       "next": "dd8e3cbc-98f2-11ea-8d02-0242ac120007-2-706a-309d",
       "previous": "1afe76e2-def8-11eb-b29f-0242ac120008"
      },
      {
       "current": "bf249b06-98af-11ea-8d02-0242ac120007-2-1e49-e772",
       "next": "d1bcb8ac-9599-11ea-8d02-0242ac120007-2-ec95-2870",
       "previous": "1afe76e2-def8-11eb-b29f-0242ac120008"
      },
      {
       "current": "bf249b06-98af-11ea-8d02-0242ac120007-2-1e49-e772",
       "next": "d1bcb8ac-9599-11ea-8d02-0242ac120007-2-ec95-2870",
       "previous": "445f36bc-def7-11eb-b29f-0242ac120008"
      },
      {
       "current": "bf249b06-98af-11ea-8d02-0242ac120007-3-1e49-e772-9042",
       "next": "d1bcb8ac-9599-11ea-8d02-0242ac120007-2-ec95-2870",
       "previous": "17dd310e-deff-11eb-b29f-0242ac120008"
      },
      {
       "current": "bf249b06-98af-11ea-8d02-0242ac120007-4-1e49-e772-9042-a9df",
       "next": "d1bcb8ac-9599-11ea-8d02-0242ac120007-3-ec95-2870-3f6b",
       "previous": "17dd310e-deff-11eb-b29f-0242ac120008-1-9f34"
      },
      {
       "current": "bf249b06-98af-11ea-8d02-0242ac120007-5-1e49-e772-9042-a9df-31cb",
       "next": "d1bcb8ac-9599-11ea-8d02-0242ac120007-4-ec95-2870-3f6b-62d1",
       "previous": "17dd310e-deff-11eb-b29f-0242ac120008-2-9f34-0f9e"
      },
      {
       "current": "bf249b06-98af-11ea-8d02-0242ac120007-6-1e49-e772-9042-a9df-31cb-844b",
       "next": "d1bcb8ac-9599-11ea-8d02-0242ac120007-5-ec95-2870-3f6b-62d1-c5e9",
       "previous": "73b6b68e-22fa-11ef-ad2f-0242ac120005"
      },
      {
       "current": "bf249b06-98af-11ea-8d02-0242ac120007-7-1e49-e772-9042-a9df-31cb-844b-7936",
       "next": "d1bcb8ac-9599-11ea-8d02-0242ac120007-6-ec95-2870-3f6b-62d1-c5e9-abc4",
       "previous": "73b6b68e-22fa-11ef-ad2f-0242ac120005-1-128b"
      }
     ],
     "next": "d1bcb8ac-9599-11ea-8d02-0242ac120007-7-ec95-2870-3f6b-62d1-c5e9-abc4-19b7",
     "previous": "73b6b68e-22fa-11ef-ad2f-0242ac120005-2-128b-981f"
    }
   },
   "source": [
    "## CephノードとストレージセグメントIPアドレス対応表の読み込み"
   ]
  },
  {
   "cell_type": "code",
   "execution_count": null,
   "metadata": {
    "lc_cell_meme": {
     "current": "d1bcb8ac-9599-11ea-8d02-0242ac120007-7-ec95-2870-3f6b-62d1-c5e9-abc4-19b7",
     "history": [
      {
       "current": "d1bcb8ac-9599-11ea-8d02-0242ac120007",
       "next": "d1bcba78-9599-11ea-8d02-0242ac120007",
       "previous": "d1bcb5c8-9599-11ea-8d02-0242ac120007"
      },
      {
       "current": "d1bcb8ac-9599-11ea-8d02-0242ac120007",
       "next": "d1bcba78-9599-11ea-8d02-0242ac120007",
       "previous": "a85c1dda-959a-11ea-8d02-0242ac120007"
      },
      {
       "current": "d1bcb8ac-9599-11ea-8d02-0242ac120007",
       "next": "81dd4f74-9597-11ea-8d02-0242ac120007",
       "previous": "a85c1dda-959a-11ea-8d02-0242ac120007"
      },
      {
       "current": "d1bcb8ac-9599-11ea-8d02-0242ac120007",
       "next": "e879cdac-95bf-11ea-8d02-0242ac120007",
       "previous": "a85c1dda-959a-11ea-8d02-0242ac120007"
      },
      {
       "current": "d1bcb8ac-9599-11ea-8d02-0242ac120007",
       "next": "7899411a-9692-11ea-8d02-0242ac120007",
       "previous": "bf249b06-98af-11ea-8d02-0242ac120007"
      },
      {
       "current": "d1bcb8ac-9599-11ea-8d02-0242ac120007",
       "next": "06afe9a8-98b0-11ea-8d02-0242ac120007",
       "previous": "bf249b06-98af-11ea-8d02-0242ac120007"
      },
      {
       "current": "d1bcb8ac-9599-11ea-8d02-0242ac120007",
       "next": "06afe9a8-98b0-11ea-8d02-0242ac120007",
       "previous": "dd8e3cbc-98f2-11ea-8d02-0242ac120007"
      },
      {
       "current": "d1bcb8ac-9599-11ea-8d02-0242ac120007-1-ec95",
       "next": "250e7a70-98f3-11ea-8d02-0242ac120007",
       "previous": "dd8e3cbc-98f2-11ea-8d02-0242ac120007"
      },
      {
       "current": "d1bcb8ac-9599-11ea-8d02-0242ac120007-2-ec95-2870",
       "next": "250e7a70-98f3-11ea-8d02-0242ac120007-1-f0b4",
       "previous": "dd8e3cbc-98f2-11ea-8d02-0242ac120007-1-706a"
      },
      {
       "current": "d1bcb8ac-9599-11ea-8d02-0242ac120007-2-ec95-2870",
       "next": "250e7a70-98f3-11ea-8d02-0242ac120007-2-f0b4-6edf",
       "previous": "dd8e3cbc-98f2-11ea-8d02-0242ac120007-2-706a-309d"
      },
      {
       "current": "d1bcb8ac-9599-11ea-8d02-0242ac120007-3-ec95-2870-3f6b",
       "next": "250e7a70-98f3-11ea-8d02-0242ac120007-2-f0b4-6edf",
       "previous": "bf249b06-98af-11ea-8d02-0242ac120007-2-1e49-e772"
      },
      {
       "current": "d1bcb8ac-9599-11ea-8d02-0242ac120007-3-ec95-2870-3f6b",
       "next": "250e7a70-98f3-11ea-8d02-0242ac120007-3-f0b4-6edf-9d40",
       "previous": "bf249b06-98af-11ea-8d02-0242ac120007-3-1e49-e772-9042"
      },
      {
       "current": "d1bcb8ac-9599-11ea-8d02-0242ac120007-4-ec95-2870-3f6b-62d1",
       "next": "8a6e62b8-6f14-11ee-89fa-0242ac120005",
       "previous": "bf249b06-98af-11ea-8d02-0242ac120007-3-1e49-e772-9042"
      },
      {
       "current": "d1bcb8ac-9599-11ea-8d02-0242ac120007-5-ec95-2870-3f6b-62d1-c5e9",
       "next": "8a6e62b8-6f14-11ee-89fa-0242ac120005-1-6d29",
       "previous": "bf249b06-98af-11ea-8d02-0242ac120007-4-1e49-e772-9042-a9df"
      },
      {
       "current": "d1bcb8ac-9599-11ea-8d02-0242ac120007-5-ec95-2870-3f6b-62d1-c5e9",
       "next": "8a6e62b8-6f14-11ee-89fa-0242ac120005-2-6d29-228a",
       "previous": "bf249b06-98af-11ea-8d02-0242ac120007-5-1e49-e772-9042-a9df-31cb"
      },
      {
       "current": "d1bcb8ac-9599-11ea-8d02-0242ac120007-6-ec95-2870-3f6b-62d1-c5e9-abc4",
       "next": "8a6e6452-6f14-11ee-89fa-0242ac120005-2-7d17-6e7d",
       "previous": "bf249b06-98af-11ea-8d02-0242ac120007-5-1e49-e772-9042-a9df-31cb"
      },
      {
       "current": "d1bcb8ac-9599-11ea-8d02-0242ac120007-7-ec95-2870-3f6b-62d1-c5e9-abc4-19b7",
       "next": "8a6e6452-6f14-11ee-89fa-0242ac120005-3-7d17-6e7d-51d8",
       "previous": "bf249b06-98af-11ea-8d02-0242ac120007-6-1e49-e772-9042-a9df-31cb-844b"
      }
     ],
     "next": "8a6e6452-6f14-11ee-89fa-0242ac120005-4-7d17-6e7d-51d8-5401",
     "previous": "bf249b06-98af-11ea-8d02-0242ac120007-7-1e49-e772-9042-a9df-31cb-844b-7936"
    },
    "scrolled": true
   },
   "outputs": [],
   "source": [
    "import os\n",
    "import csv\n",
    "import pandas as pd\n",
    "\n",
    "instance_ip_csv_path =  os.environ['HOME'] + \"/notebooks/share/configuration/ceph/ceph_instance_ip.csv\"\n",
    "instance_ip_list = []\n",
    "instance_ip_map = {}\n",
    "\n",
    "with open(instance_ip_csv_path, 'r') as path_csv:\n",
    "    reader = csv.DictReader(path_csv)\n",
    "    \n",
    "    for record in reader:\n",
    "        instance_ip_list.append(record)\n",
    "        instance_ip_map[record['instance_name']] = record\n",
    "\n",
    "pd.DataFrame(instance_ip_list)"
   ]
  },
  {
   "cell_type": "markdown",
   "metadata": {
    "lc_cell_meme": {
     "current": "8a6e6452-6f14-11ee-89fa-0242ac120005-4-7d17-6e7d-51d8-5401",
     "history": [
      {
       "current": "8a6e6452-6f14-11ee-89fa-0242ac120005-1-7d17",
       "next": "8a6e65e2-6f14-11ee-89fa-0242ac120005",
       "previous": "250e7a70-98f3-11ea-8d02-0242ac120007-3-f0b4-6edf-9d40"
      },
      {
       "current": "8a6e6452-6f14-11ee-89fa-0242ac120005-2-7d17-6e7d",
       "next": "8a6e65e2-6f14-11ee-89fa-0242ac120005-1-dbf9",
       "previous": "250e7a70-98f3-11ea-8d02-0242ac120007-4-f0b4-6edf-9d40-cc65"
      },
      {
       "current": "8a6e6452-6f14-11ee-89fa-0242ac120005-2-7d17-6e7d",
       "next": "8a6e65e2-6f14-11ee-89fa-0242ac120005-2-dbf9-3dc4",
       "previous": "250e7a70-98f3-11ea-8d02-0242ac120007-5-f0b4-6edf-9d40-cc65-347f"
      },
      {
       "current": "8a6e6452-6f14-11ee-89fa-0242ac120005-3-7d17-6e7d-51d8",
       "next": "8a6e65e2-6f14-11ee-89fa-0242ac120005-2-dbf9-3dc4",
       "previous": "d1bcb8ac-9599-11ea-8d02-0242ac120007-5-ec95-2870-3f6b-62d1-c5e9"
      },
      {
       "current": "8a6e6452-6f14-11ee-89fa-0242ac120005-4-7d17-6e7d-51d8-5401",
       "next": "8a6e65e2-6f14-11ee-89fa-0242ac120005-3-dbf9-3dc4-4c9b",
       "previous": "d1bcb8ac-9599-11ea-8d02-0242ac120007-6-ec95-2870-3f6b-62d1-c5e9-abc4"
      }
     ],
     "next": "8a6e65e2-6f14-11ee-89fa-0242ac120005-4-dbf9-3dc4-4c9b-e862",
     "previous": "d1bcb8ac-9599-11ea-8d02-0242ac120007-7-ec95-2870-3f6b-62d1-c5e9-abc4-19b7"
    }
   },
   "source": [
    "## 作業用ディレクトリを作成する"
   ]
  },
  {
   "cell_type": "code",
   "execution_count": null,
   "metadata": {
    "lc_cell_meme": {
     "current": "8a6e65e2-6f14-11ee-89fa-0242ac120005-4-dbf9-3dc4-4c9b-e862",
     "history": [
      {
       "current": "8a6e65e2-6f14-11ee-89fa-0242ac120005-1-dbf9",
       "next": "8a6e6664-6f14-11ee-89fa-0242ac120005",
       "previous": "8a6e6452-6f14-11ee-89fa-0242ac120005"
      },
      {
       "current": "8a6e65e2-6f14-11ee-89fa-0242ac120005-2-dbf9-3dc4",
       "next": "8a6e6664-6f14-11ee-89fa-0242ac120005-1-63e1",
       "previous": "8a6e6452-6f14-11ee-89fa-0242ac120005-1-7d17"
      },
      {
       "current": "8a6e65e2-6f14-11ee-89fa-0242ac120005-3-dbf9-3dc4-4c9b",
       "next": "8a6e6664-6f14-11ee-89fa-0242ac120005-2-63e1-7bcc",
       "previous": "8a6e6452-6f14-11ee-89fa-0242ac120005-2-7d17-6e7d"
      },
      {
       "current": "8a6e65e2-6f14-11ee-89fa-0242ac120005-4-dbf9-3dc4-4c9b-e862",
       "next": "8a6e6664-6f14-11ee-89fa-0242ac120005-3-63e1-7bcc-cc19",
       "previous": "8a6e6452-6f14-11ee-89fa-0242ac120005-3-7d17-6e7d-51d8"
      }
     ],
     "next": "8a6e6664-6f14-11ee-89fa-0242ac120005-4-63e1-7bcc-cc19-3e8b",
     "previous": "8a6e6452-6f14-11ee-89fa-0242ac120005-4-7d17-6e7d-51d8-5401"
    }
   },
   "outputs": [],
   "source": [
    "import os,tempfile\n",
    "temp_dir = tempfile.mkdtemp()\n",
    "print (temp_dir)"
   ]
  },
  {
   "cell_type": "markdown",
   "metadata": {
    "lc_cell_meme": {
     "current": "8a6e6664-6f14-11ee-89fa-0242ac120005-4-63e1-7bcc-cc19-3e8b",
     "history": [
      {
       "current": "8a6e6664-6f14-11ee-89fa-0242ac120005-1-63e1",
       "next": "8a6e66c8-6f14-11ee-89fa-0242ac120005",
       "previous": "8a6e65e2-6f14-11ee-89fa-0242ac120005"
      },
      {
       "current": "8a6e6664-6f14-11ee-89fa-0242ac120005-2-63e1-7bcc",
       "next": "8a6e66c8-6f14-11ee-89fa-0242ac120005-1-b976",
       "previous": "8a6e65e2-6f14-11ee-89fa-0242ac120005-1-dbf9"
      },
      {
       "current": "8a6e6664-6f14-11ee-89fa-0242ac120005-3-63e1-7bcc-cc19",
       "next": "8a6e66c8-6f14-11ee-89fa-0242ac120005-2-b976-de41",
       "previous": "8a6e65e2-6f14-11ee-89fa-0242ac120005-2-dbf9-3dc4"
      },
      {
       "current": "8a6e6664-6f14-11ee-89fa-0242ac120005-4-63e1-7bcc-cc19-3e8b",
       "next": "8a6e66c8-6f14-11ee-89fa-0242ac120005-3-b976-de41-311b",
       "previous": "8a6e65e2-6f14-11ee-89fa-0242ac120005-3-dbf9-3dc4-4c9b"
      }
     ],
     "next": "8a6e66c8-6f14-11ee-89fa-0242ac120005-4-b976-de41-311b-6e5c",
     "previous": "8a6e65e2-6f14-11ee-89fa-0242ac120005-4-dbf9-3dc4-4c9b-e862"
    }
   },
   "source": [
    "## AnsibleのInventoryファイルを作業用ディレクトリへ作成する"
   ]
  },
  {
   "cell_type": "code",
   "execution_count": null,
   "metadata": {
    "lc_cell_meme": {
     "current": "8a6e66c8-6f14-11ee-89fa-0242ac120005-4-b976-de41-311b-6e5c",
     "history": [
      {
       "current": "8a6e66c8-6f14-11ee-89fa-0242ac120005-1-b976",
       "next": "8a6e6736-6f14-11ee-89fa-0242ac120005",
       "previous": "8a6e6664-6f14-11ee-89fa-0242ac120005"
      },
      {
       "current": "8a6e66c8-6f14-11ee-89fa-0242ac120005-2-b976-de41",
       "next": "8a6e6736-6f14-11ee-89fa-0242ac120005-1-d92f",
       "previous": "8a6e6664-6f14-11ee-89fa-0242ac120005-1-63e1"
      },
      {
       "current": "8a6e66c8-6f14-11ee-89fa-0242ac120005-3-b976-de41-311b",
       "next": "8a6e6736-6f14-11ee-89fa-0242ac120005-2-d92f-a044",
       "previous": "8a6e6664-6f14-11ee-89fa-0242ac120005-2-63e1-7bcc"
      },
      {
       "current": "8a6e66c8-6f14-11ee-89fa-0242ac120005-4-b976-de41-311b-6e5c",
       "next": "8a6e6736-6f14-11ee-89fa-0242ac120005-3-d92f-a044-f97b",
       "previous": "8a6e6664-6f14-11ee-89fa-0242ac120005-3-63e1-7bcc-cc19"
      }
     ],
     "next": "8a6e6736-6f14-11ee-89fa-0242ac120005-4-d92f-a044-f97b-08d6",
     "previous": "8a6e6664-6f14-11ee-89fa-0242ac120005-4-63e1-7bcc-cc19-3e8b"
    }
   },
   "outputs": [],
   "source": [
    "import os\n",
    "\n",
    "with open( os.path.join(temp_dir, \"hosts\"), 'w') as f:\n",
    "    f.write('''[openstack_ctl]\n",
    "{openstack_cmn}\n",
    "'''.format(openstack_cmn = provisioning_vip))\n",
    "\n",
    "hosts = temp_dir + \"/hosts\"\n",
    "!cat $hosts"
   ]
  },
  {
   "cell_type": "code",
   "execution_count": null,
   "metadata": {
    "lc_cell_meme": {
     "current": "8a6e6736-6f14-11ee-89fa-0242ac120005-4-d92f-a044-f97b-08d6",
     "history": [
      {
       "current": "8a6e6736-6f14-11ee-89fa-0242ac120005",
       "next": "8a6e67a4-6f14-11ee-89fa-0242ac120005",
       "previous": "8a6e66c8-6f14-11ee-89fa-0242ac120005"
      },
      {
       "current": "8a6e6736-6f14-11ee-89fa-0242ac120005-1-d92f",
       "next": "8a6e67a4-6f14-11ee-89fa-0242ac120005-1-b446",
       "previous": "8a6e66c8-6f14-11ee-89fa-0242ac120005"
      },
      {
       "current": "8a6e6736-6f14-11ee-89fa-0242ac120005-2-d92f-a044",
       "next": "8a6e67a4-6f14-11ee-89fa-0242ac120005-2-b446-4a6a",
       "previous": "8a6e66c8-6f14-11ee-89fa-0242ac120005-1-b976"
      },
      {
       "current": "8a6e6736-6f14-11ee-89fa-0242ac120005-3-d92f-a044-f97b",
       "next": "8a6e67a4-6f14-11ee-89fa-0242ac120005-3-b446-4a6a-9680",
       "previous": "8a6e66c8-6f14-11ee-89fa-0242ac120005-2-b976-de41"
      },
      {
       "current": "8a6e6736-6f14-11ee-89fa-0242ac120005-4-d92f-a044-f97b-08d6",
       "next": "8a6e67a4-6f14-11ee-89fa-0242ac120005-4-b446-4a6a-9680-3cac",
       "previous": "8a6e66c8-6f14-11ee-89fa-0242ac120005-3-b976-de41-311b"
      }
     ],
     "next": "8a6e67a4-6f14-11ee-89fa-0242ac120005-5-b446-4a6a-9680-3cac-194e",
     "previous": "8a6e66c8-6f14-11ee-89fa-0242ac120005-4-b976-de41-311b-6e5c"
    }
   },
   "outputs": [],
   "source": [
    "%env ANSIBLE_INVENTORY={hosts}"
   ]
  },
  {
   "cell_type": "markdown",
   "metadata": {
    "lc_cell_meme": {
     "current": "8a6e67a4-6f14-11ee-89fa-0242ac120005-5-b446-4a6a-9680-3cac-194e",
     "history": [
      {
       "current": "8a6e67a4-6f14-11ee-89fa-0242ac120005-2-b446-4a6a",
       "next": "8a6e6808-6f14-11ee-89fa-0242ac120005",
       "previous": "8a6e6736-6f14-11ee-89fa-0242ac120005"
      },
      {
       "current": "8a6e67a4-6f14-11ee-89fa-0242ac120005-3-b446-4a6a-9680",
       "next": "8a6e6808-6f14-11ee-89fa-0242ac120005-1-778e",
       "previous": "8a6e6736-6f14-11ee-89fa-0242ac120005-1-d92f"
      },
      {
       "current": "8a6e67a4-6f14-11ee-89fa-0242ac120005-4-b446-4a6a-9680-3cac",
       "next": "8a6e6808-6f14-11ee-89fa-0242ac120005-2-778e-14ad",
       "previous": "8a6e6736-6f14-11ee-89fa-0242ac120005-2-d92f-a044"
      },
      {
       "current": "8a6e67a4-6f14-11ee-89fa-0242ac120005-5-b446-4a6a-9680-3cac-194e",
       "next": "8a6e6808-6f14-11ee-89fa-0242ac120005-3-778e-14ad-cc34",
       "previous": "8a6e6736-6f14-11ee-89fa-0242ac120005-3-d92f-a044-f97b"
      }
     ],
     "next": "8a6e6808-6f14-11ee-89fa-0242ac120005-4-778e-14ad-cc34-5094",
     "previous": "8a6e6736-6f14-11ee-89fa-0242ac120005-4-d92f-a044-f97b-08d6"
    }
   },
   "source": [
    "疎通確認"
   ]
  },
  {
   "cell_type": "code",
   "execution_count": null,
   "metadata": {
    "lc_cell_meme": {
     "current": "8a6e6808-6f14-11ee-89fa-0242ac120005-4-778e-14ad-cc34-5094",
     "history": [
      {
       "current": "8a6e6808-6f14-11ee-89fa-0242ac120005",
       "next": "8a6e6862-6f14-11ee-89fa-0242ac120005",
       "previous": "8a6e67a4-6f14-11ee-89fa-0242ac120005"
      },
      {
       "current": "8a6e6808-6f14-11ee-89fa-0242ac120005-1-778e",
       "next": "8a6e6862-6f14-11ee-89fa-0242ac120005",
       "previous": "8a6e67a4-6f14-11ee-89fa-0242ac120005-1-b446"
      },
      {
       "current": "8a6e6808-6f14-11ee-89fa-0242ac120005-2-778e-14ad",
       "next": "8a6e6862-6f14-11ee-89fa-0242ac120005-1-ff2c",
       "previous": "8a6e67a4-6f14-11ee-89fa-0242ac120005-2-b446-4a6a"
      },
      {
       "current": "8a6e6808-6f14-11ee-89fa-0242ac120005-3-778e-14ad-cc34",
       "next": "8a6e6862-6f14-11ee-89fa-0242ac120005-2-ff2c-2a59",
       "previous": "8a6e67a4-6f14-11ee-89fa-0242ac120005-3-b446-4a6a-9680"
      },
      {
       "current": "8a6e6808-6f14-11ee-89fa-0242ac120005-4-778e-14ad-cc34-5094",
       "next": "8a6e6862-6f14-11ee-89fa-0242ac120005-3-ff2c-2a59-1ba7",
       "previous": "8a6e67a4-6f14-11ee-89fa-0242ac120005-4-b446-4a6a-9680-3cac"
      }
     ],
     "next": "8a6e6862-6f14-11ee-89fa-0242ac120005-4-ff2c-2a59-1ba7-d662",
     "previous": "8a6e67a4-6f14-11ee-89fa-0242ac120005-5-b446-4a6a-9680-3cac-194e"
    }
   },
   "outputs": [],
   "source": [
    "!ansible -m ping openstack_ctl"
   ]
  },
  {
   "cell_type": "code",
   "execution_count": null,
   "metadata": {
    "lc_cell_meme": {
     "current": "8a6e6862-6f14-11ee-89fa-0242ac120005-4-ff2c-2a59-1ba7-d662",
     "history": [
      {
       "current": "8a6e6862-6f14-11ee-89fa-0242ac120005",
       "next": "8a6e68d0-6f14-11ee-89fa-0242ac120005",
       "previous": "8a6e6808-6f14-11ee-89fa-0242ac120005"
      },
      {
       "current": "8a6e6862-6f14-11ee-89fa-0242ac120005-1-ff2c",
       "next": "8a6e68d0-6f14-11ee-89fa-0242ac120005-1-da77",
       "previous": "8a6e6808-6f14-11ee-89fa-0242ac120005"
      },
      {
       "current": "8a6e6862-6f14-11ee-89fa-0242ac120005-2-ff2c-2a59",
       "next": "8a6e68d0-6f14-11ee-89fa-0242ac120005-2-da77-a2c8",
       "previous": "8a6e6808-6f14-11ee-89fa-0242ac120005-1-778e"
      },
      {
       "current": "8a6e6862-6f14-11ee-89fa-0242ac120005-3-ff2c-2a59-1ba7",
       "next": "8a6e68d0-6f14-11ee-89fa-0242ac120005-3-da77-a2c8-8cd8",
       "previous": "8a6e6808-6f14-11ee-89fa-0242ac120005-2-778e-14ad"
      },
      {
       "current": "8a6e6862-6f14-11ee-89fa-0242ac120005-4-ff2c-2a59-1ba7-d662",
       "next": "8a6e68d0-6f14-11ee-89fa-0242ac120005-4-da77-a2c8-8cd8-640c",
       "previous": "8a6e6808-6f14-11ee-89fa-0242ac120005-3-778e-14ad-cc34"
      }
     ],
     "next": "8a6e68d0-6f14-11ee-89fa-0242ac120005-5-da77-a2c8-8cd8-640c-f9a9",
     "previous": "8a6e6808-6f14-11ee-89fa-0242ac120005-4-778e-14ad-cc34-5094"
    }
   },
   "outputs": [],
   "source": [
    "!ansible -a 'hostname' openstack_ctl"
   ]
  },
  {
   "cell_type": "markdown",
   "metadata": {
    "lc_cell_meme": {
     "current": "8a6e68d0-6f14-11ee-89fa-0242ac120005-5-da77-a2c8-8cd8-640c-f9a9",
     "history": [
      {
       "current": "8a6e68d0-6f14-11ee-89fa-0242ac120005-2-da77-a2c8",
       "next": "8a6e6934-6f14-11ee-89fa-0242ac120005",
       "previous": "8a6e6862-6f14-11ee-89fa-0242ac120005"
      },
      {
       "current": "8a6e68d0-6f14-11ee-89fa-0242ac120005-3-da77-a2c8-8cd8",
       "next": "8a6e6934-6f14-11ee-89fa-0242ac120005-1-89f2",
       "previous": "8a6e6862-6f14-11ee-89fa-0242ac120005-1-ff2c"
      },
      {
       "current": "8a6e68d0-6f14-11ee-89fa-0242ac120005-4-da77-a2c8-8cd8-640c",
       "next": "8a6e6934-6f14-11ee-89fa-0242ac120005-2-89f2-e5d1",
       "previous": "8a6e6862-6f14-11ee-89fa-0242ac120005-2-ff2c-2a59"
      },
      {
       "current": "8a6e68d0-6f14-11ee-89fa-0242ac120005-5-da77-a2c8-8cd8-640c-f9a9",
       "next": "8a6e6934-6f14-11ee-89fa-0242ac120005-3-89f2-e5d1-60ba",
       "previous": "8a6e6862-6f14-11ee-89fa-0242ac120005-3-ff2c-2a59-1ba7"
      }
     ],
     "next": "8a6e6934-6f14-11ee-89fa-0242ac120005-4-89f2-e5d1-60ba-6ebc",
     "previous": "8a6e6862-6f14-11ee-89fa-0242ac120005-4-ff2c-2a59-1ba7-d662"
    }
   },
   "source": [
    "## OpenStack用OpenRCファイル設定\n",
    "\n",
    "`xxxxxxx`プロジェクト用のOpenRCファイルを事前にダウンロードしておくこと。  "
   ]
  },
  {
   "cell_type": "code",
   "execution_count": null,
   "metadata": {
    "lc_cell_meme": {
     "current": "8a6e6934-6f14-11ee-89fa-0242ac120005-4-89f2-e5d1-60ba-6ebc",
     "history": [
      {
       "current": "8a6e6934-6f14-11ee-89fa-0242ac120005",
       "next": "8a6e698e-6f14-11ee-89fa-0242ac120005",
       "previous": "8a6e68d0-6f14-11ee-89fa-0242ac120005"
      },
      {
       "current": "8a6e6934-6f14-11ee-89fa-0242ac120005-1-89f2",
       "next": "d1f5984a-6f14-11ee-89fa-0242ac120005",
       "previous": "8a6e68d0-6f14-11ee-89fa-0242ac120005-1-da77"
      },
      {
       "current": "8a6e6934-6f14-11ee-89fa-0242ac120005-2-89f2-e5d1",
       "next": "d1f5984a-6f14-11ee-89fa-0242ac120005-1-c16e",
       "previous": "8a6e68d0-6f14-11ee-89fa-0242ac120005-2-da77-a2c8"
      },
      {
       "current": "8a6e6934-6f14-11ee-89fa-0242ac120005-3-89f2-e5d1-60ba",
       "next": "d1f5984a-6f14-11ee-89fa-0242ac120005-2-c16e-86c5",
       "previous": "8a6e68d0-6f14-11ee-89fa-0242ac120005-3-da77-a2c8-8cd8"
      },
      {
       "current": "8a6e6934-6f14-11ee-89fa-0242ac120005-4-89f2-e5d1-60ba-6ebc",
       "next": "d1f5984a-6f14-11ee-89fa-0242ac120005-3-c16e-86c5-0847",
       "previous": "8a6e68d0-6f14-11ee-89fa-0242ac120005-4-da77-a2c8-8cd8-640c"
      }
     ],
     "next": "d1f5984a-6f14-11ee-89fa-0242ac120005-4-c16e-86c5-0847-b305",
     "previous": "8a6e68d0-6f14-11ee-89fa-0242ac120005-5-da77-a2c8-8cd8-640c-f9a9"
    }
   },
   "outputs": [],
   "source": [
    "import os\n",
    "\n",
    "user_creds = os.path.expanduser('~/.keys/xxxxxxx-openrc.sh')\n",
    "\n",
    "assert os.path.exists(user_creds), '{} is not exist'.format(user_creds)"
   ]
  },
  {
   "cell_type": "code",
   "execution_count": null,
   "metadata": {
    "lc_cell_meme": {
     "current": "d1f5984a-6f14-11ee-89fa-0242ac120005-4-c16e-86c5-0847-b305",
     "history": [
      {
       "current": "d1f5984a-6f14-11ee-89fa-0242ac120005-1-c16e",
       "next": "d1f599e4-6f14-11ee-89fa-0242ac120005",
       "previous": "8a6e6934-6f14-11ee-89fa-0242ac120005"
      },
      {
       "current": "d1f5984a-6f14-11ee-89fa-0242ac120005-2-c16e-86c5",
       "next": "d1f599e4-6f14-11ee-89fa-0242ac120005-1-6d4f",
       "previous": "8a6e6934-6f14-11ee-89fa-0242ac120005-1-89f2"
      },
      {
       "current": "d1f5984a-6f14-11ee-89fa-0242ac120005-3-c16e-86c5-0847",
       "next": "d1f599e4-6f14-11ee-89fa-0242ac120005-2-6d4f-b6b0",
       "previous": "8a6e6934-6f14-11ee-89fa-0242ac120005-2-89f2-e5d1"
      },
      {
       "current": "d1f5984a-6f14-11ee-89fa-0242ac120005-4-c16e-86c5-0847-b305",
       "next": "d1f599e4-6f14-11ee-89fa-0242ac120005-3-6d4f-b6b0-47c8",
       "previous": "8a6e6934-6f14-11ee-89fa-0242ac120005-3-89f2-e5d1-60ba"
      }
     ],
     "next": "d1f599e4-6f14-11ee-89fa-0242ac120005-4-6d4f-b6b0-47c8-eec4",
     "previous": "8a6e6934-6f14-11ee-89fa-0242ac120005-4-89f2-e5d1-60ba-6ebc"
    }
   },
   "outputs": [],
   "source": [
    "%env USER_CREDS={user_creds}"
   ]
  },
  {
   "cell_type": "code",
   "execution_count": null,
   "metadata": {
    "lc_cell_meme": {
     "current": "d1f599e4-6f14-11ee-89fa-0242ac120005-4-6d4f-b6b0-47c8-eec4",
     "history": [
      {
       "current": "d1f599e4-6f14-11ee-89fa-0242ac120005-1-6d4f",
       "next": "d1f59a8e-6f14-11ee-89fa-0242ac120005",
       "previous": "d1f5984a-6f14-11ee-89fa-0242ac120005"
      },
      {
       "current": "d1f599e4-6f14-11ee-89fa-0242ac120005-2-6d4f-b6b0",
       "next": "d1f59a8e-6f14-11ee-89fa-0242ac120005-1-4184",
       "previous": "d1f5984a-6f14-11ee-89fa-0242ac120005-1-c16e"
      },
      {
       "current": "d1f599e4-6f14-11ee-89fa-0242ac120005-3-6d4f-b6b0-47c8",
       "next": "d1f59a8e-6f14-11ee-89fa-0242ac120005-2-4184-f760",
       "previous": "d1f5984a-6f14-11ee-89fa-0242ac120005-2-c16e-86c5"
      },
      {
       "current": "d1f599e4-6f14-11ee-89fa-0242ac120005-4-6d4f-b6b0-47c8-eec4",
       "next": "d1f59a8e-6f14-11ee-89fa-0242ac120005-3-4184-f760-f9de",
       "previous": "d1f5984a-6f14-11ee-89fa-0242ac120005-3-c16e-86c5-0847"
      }
     ],
     "next": "d1f59a8e-6f14-11ee-89fa-0242ac120005-4-4184-f760-f9de-2306",
     "previous": "d1f5984a-6f14-11ee-89fa-0242ac120005-4-c16e-86c5-0847-b305"
    }
   },
   "outputs": [],
   "source": [
    "!ls -l {user_creds}"
   ]
  },
  {
   "cell_type": "markdown",
   "metadata": {
    "lc_cell_meme": {
     "current": "d1f59a8e-6f14-11ee-89fa-0242ac120005-4-4184-f760-f9de-2306",
     "history": [
      {
       "current": "d1f59a8e-6f14-11ee-89fa-0242ac120005-1-4184",
       "next": "d1f59b06-6f14-11ee-89fa-0242ac120005",
       "previous": "d1f599e4-6f14-11ee-89fa-0242ac120005"
      },
      {
       "current": "d1f59a8e-6f14-11ee-89fa-0242ac120005-2-4184-f760",
       "next": "d1f59b06-6f14-11ee-89fa-0242ac120005-1-8b00",
       "previous": "d1f599e4-6f14-11ee-89fa-0242ac120005-1-6d4f"
      },
      {
       "current": "d1f59a8e-6f14-11ee-89fa-0242ac120005-3-4184-f760-f9de",
       "next": "d1f59b06-6f14-11ee-89fa-0242ac120005-2-8b00-55cb",
       "previous": "d1f599e4-6f14-11ee-89fa-0242ac120005-2-6d4f-b6b0"
      },
      {
       "current": "d1f59a8e-6f14-11ee-89fa-0242ac120005-4-4184-f760-f9de-2306",
       "next": "d1f59b06-6f14-11ee-89fa-0242ac120005-3-8b00-55cb-e178",
       "previous": "d1f599e4-6f14-11ee-89fa-0242ac120005-3-6d4f-b6b0-47c8"
      }
     ],
     "next": "d1f59b06-6f14-11ee-89fa-0242ac120005-4-8b00-55cb-e178-6e23",
     "previous": "d1f599e4-6f14-11ee-89fa-0242ac120005-4-6d4f-b6b0-47c8-eec4"
    }
   },
   "source": [
    "## openstackコマンド用ユーティリティ関数"
   ]
  },
  {
   "cell_type": "code",
   "execution_count": null,
   "metadata": {
    "lc_cell_meme": {
     "current": "d1f59b06-6f14-11ee-89fa-0242ac120005-4-8b00-55cb-e178-6e23",
     "history": [
      {
       "current": "d1f59b06-6f14-11ee-89fa-0242ac120005-1-8b00",
       "next": "d1f59b74-6f14-11ee-89fa-0242ac120005",
       "previous": "d1f59a8e-6f14-11ee-89fa-0242ac120005"
      },
      {
       "current": "d1f59b06-6f14-11ee-89fa-0242ac120005-2-8b00-55cb",
       "next": "d1f59b74-6f14-11ee-89fa-0242ac120005-1-461f",
       "previous": "d1f59a8e-6f14-11ee-89fa-0242ac120005-1-4184"
      },
      {
       "current": "d1f59b06-6f14-11ee-89fa-0242ac120005-3-8b00-55cb-e178",
       "next": "d1f59b74-6f14-11ee-89fa-0242ac120005-2-461f-0141",
       "previous": "d1f59a8e-6f14-11ee-89fa-0242ac120005-2-4184-f760"
      },
      {
       "current": "d1f59b06-6f14-11ee-89fa-0242ac120005-4-8b00-55cb-e178-6e23",
       "next": "d1f59b74-6f14-11ee-89fa-0242ac120005-3-461f-0141-2438",
       "previous": "d1f59a8e-6f14-11ee-89fa-0242ac120005-3-4184-f760-f9de"
      }
     ],
     "next": "d1f59b74-6f14-11ee-89fa-0242ac120005-4-461f-0141-2438-3aad",
     "previous": "d1f59a8e-6f14-11ee-89fa-0242ac120005-4-4184-f760-f9de-2306"
    }
   },
   "outputs": [],
   "source": [
    "def build_cmdline(param):\n",
    "    cmdline = ''\n",
    "    \n",
    "    for param_name, param_value in param.items():\n",
    "        if isinstance(param_value, dict):\n",
    "            for key, value in param_value.items():\n",
    "                cmdline += ' --{} {}={}'.format(param_name, key, value)\n",
    "        elif isinstance(param_value, list):\n",
    "            for item in param_value:\n",
    "                cmdline += ' --{} {}'.format(param_name, item)\n",
    "        elif isinstance(param_value, bool):\n",
    "            if param_value:\n",
    "                cmdline += ' --{}'.format(param_name)\n",
    "        else:\n",
    "            cmdline += ' --{} {}'.format(param_name, param_value)\n",
    "\n",
    "    return cmdline"
   ]
  },
  {
   "cell_type": "code",
   "execution_count": null,
   "metadata": {
    "lc_cell_meme": {
     "current": "d1f59b74-6f14-11ee-89fa-0242ac120005-4-461f-0141-2438-3aad",
     "history": [
      {
       "current": "d1f59b74-6f14-11ee-89fa-0242ac120005",
       "next": "d1f59bec-6f14-11ee-89fa-0242ac120005",
       "previous": "d1f59b06-6f14-11ee-89fa-0242ac120005"
      },
      {
       "current": "d1f59b74-6f14-11ee-89fa-0242ac120005-1-461f",
       "next": "d1f59bec-6f14-11ee-89fa-0242ac120005-1-da5a",
       "previous": "d1f59b06-6f14-11ee-89fa-0242ac120005"
      },
      {
       "current": "d1f59b74-6f14-11ee-89fa-0242ac120005-2-461f-0141",
       "next": "d1f59bec-6f14-11ee-89fa-0242ac120005-2-da5a-0f60",
       "previous": "d1f59b06-6f14-11ee-89fa-0242ac120005-1-8b00"
      },
      {
       "current": "d1f59b74-6f14-11ee-89fa-0242ac120005-3-461f-0141-2438",
       "next": "d1f59bec-6f14-11ee-89fa-0242ac120005-3-da5a-0f60-01a5",
       "previous": "d1f59b06-6f14-11ee-89fa-0242ac120005-2-8b00-55cb"
      },
      {
       "current": "d1f59b74-6f14-11ee-89fa-0242ac120005-4-461f-0141-2438-3aad",
       "next": "d1f59bec-6f14-11ee-89fa-0242ac120005-4-da5a-0f60-01a5-0d73",
       "previous": "d1f59b06-6f14-11ee-89fa-0242ac120005-3-8b00-55cb-e178"
      }
     ],
     "next": "d1f59bec-6f14-11ee-89fa-0242ac120005-5-da5a-0f60-01a5-0d73-2c02",
     "previous": "d1f59b06-6f14-11ee-89fa-0242ac120005-4-8b00-55cb-e178-6e23"
    }
   },
   "outputs": [],
   "source": [
    "import json\n",
    "\n",
    "def run_openstack(cmd):\n",
    "    print('EXEC: {}'.format(cmd))\n",
    "    out = !source {user_creds} && {cmd}\n",
    "    print('OUTPUT: {}'.format('\\n'.join(out)))\n",
    "    return json.loads('\\n'.join(out))"
   ]
  },
  {
   "cell_type": "markdown",
   "metadata": {
    "lc_cell_meme": {
     "current": "d1f59bec-6f14-11ee-89fa-0242ac120005-5-da5a-0f60-01a5-0d73-2c02",
     "history": [
      {
       "current": "d1f59bec-6f14-11ee-89fa-0242ac120005-2-da5a-0f60",
       "next": "8a6e698e-6f14-11ee-89fa-0242ac120005",
       "previous": "d1f59b74-6f14-11ee-89fa-0242ac120005"
      },
      {
       "current": "d1f59bec-6f14-11ee-89fa-0242ac120005-3-da5a-0f60-01a5",
       "next": "8a6e698e-6f14-11ee-89fa-0242ac120005-1-63f4",
       "previous": "d1f59b74-6f14-11ee-89fa-0242ac120005-1-461f"
      },
      {
       "current": "d1f59bec-6f14-11ee-89fa-0242ac120005-4-da5a-0f60-01a5-0d73",
       "next": "8a6e698e-6f14-11ee-89fa-0242ac120005-2-63f4-5b23",
       "previous": "d1f59b74-6f14-11ee-89fa-0242ac120005-2-461f-0141"
      },
      {
       "current": "d1f59bec-6f14-11ee-89fa-0242ac120005-5-da5a-0f60-01a5-0d73-2c02",
       "next": "8a6e698e-6f14-11ee-89fa-0242ac120005-3-63f4-5b23-1074",
       "previous": "d1f59b74-6f14-11ee-89fa-0242ac120005-3-461f-0141-2438"
      }
     ],
     "next": "8a6e698e-6f14-11ee-89fa-0242ac120005-4-63f4-5b23-1074-4806",
     "previous": "d1f59b74-6f14-11ee-89fa-0242ac120005-4-461f-0141-2438-3aad"
    }
   },
   "source": [
    "テスト"
   ]
  },
  {
   "cell_type": "code",
   "execution_count": null,
   "metadata": {
    "lc_cell_meme": {
     "current": "8a6e698e-6f14-11ee-89fa-0242ac120005-4-63f4-5b23-1074-4806",
     "history": [
      {
       "current": "8a6e698e-6f14-11ee-89fa-0242ac120005",
       "next": "8a6e69fc-6f14-11ee-89fa-0242ac120005",
       "previous": "8a6e6934-6f14-11ee-89fa-0242ac120005"
      },
      {
       "current": "8a6e698e-6f14-11ee-89fa-0242ac120005",
       "next": "8a6e69fc-6f14-11ee-89fa-0242ac120005",
       "previous": "d1f59bec-6f14-11ee-89fa-0242ac120005"
      },
      {
       "current": "8a6e698e-6f14-11ee-89fa-0242ac120005-1-63f4",
       "next": "06afe9a8-98b0-11ea-8d02-0242ac120007-3-a1c1-faf0-55bd",
       "previous": "d1f59bec-6f14-11ee-89fa-0242ac120005-1-da5a"
      },
      {
       "current": "8a6e698e-6f14-11ee-89fa-0242ac120005-2-63f4-5b23",
       "next": "06afe9a8-98b0-11ea-8d02-0242ac120007-4-a1c1-faf0-55bd-115c",
       "previous": "d1f59bec-6f14-11ee-89fa-0242ac120005-2-da5a-0f60"
      },
      {
       "current": "8a6e698e-6f14-11ee-89fa-0242ac120005-3-63f4-5b23-1074",
       "next": "06afe9a8-98b0-11ea-8d02-0242ac120007-5-a1c1-faf0-55bd-115c-fa23",
       "previous": "d1f59bec-6f14-11ee-89fa-0242ac120005-3-da5a-0f60-01a5"
      },
      {
       "current": "8a6e698e-6f14-11ee-89fa-0242ac120005-4-63f4-5b23-1074-4806",
       "next": "06afe9a8-98b0-11ea-8d02-0242ac120007-6-a1c1-faf0-55bd-115c-fa23-9424",
       "previous": "d1f59bec-6f14-11ee-89fa-0242ac120005-4-da5a-0f60-01a5-0d73"
      }
     ],
     "next": "06afe9a8-98b0-11ea-8d02-0242ac120007-7-a1c1-faf0-55bd-115c-fa23-9424-d6c0",
     "previous": "d1f59bec-6f14-11ee-89fa-0242ac120005-5-da5a-0f60-01a5-0d73-2c02"
    }
   },
   "outputs": [],
   "source": [
    "run_openstack('openstack flavor list -f json' + build_cmdline({'all': True}))"
   ]
  },
  {
   "cell_type": "markdown",
   "metadata": {
    "lc_cell_meme": {
     "current": "06afe9a8-98b0-11ea-8d02-0242ac120007-7-a1c1-faf0-55bd-115c-fa23-9424-d6c0",
     "history": [
      {
       "current": "06afe9a8-98b0-11ea-8d02-0242ac120007",
       "next": "7899411a-9692-11ea-8d02-0242ac120007",
       "previous": "d1bcb8ac-9599-11ea-8d02-0242ac120007"
      },
      {
       "current": "06afe9a8-98b0-11ea-8d02-0242ac120007-1-a1c1",
       "next": "7899411a-9692-11ea-8d02-0242ac120007",
       "previous": "250e7a70-98f3-11ea-8d02-0242ac120007"
      },
      {
       "current": "06afe9a8-98b0-11ea-8d02-0242ac120007-2-a1c1-faf0",
       "next": "7899411a-9692-11ea-8d02-0242ac120007-1-2cd2",
       "previous": "250e7a70-98f3-11ea-8d02-0242ac120007-1-f0b4"
      },
      {
       "current": "06afe9a8-98b0-11ea-8d02-0242ac120007-2-a1c1-faf0",
       "next": "7899411a-9692-11ea-8d02-0242ac120007-2-2cd2-395d",
       "previous": "250e7a70-98f3-11ea-8d02-0242ac120007-2-f0b4-6edf"
      },
      {
       "current": "06afe9a8-98b0-11ea-8d02-0242ac120007-2-a1c1-faf0",
       "next": "04bfc54e-defc-11eb-b29f-0242ac120008",
       "previous": "250e7a70-98f3-11ea-8d02-0242ac120007-2-f0b4-6edf"
      },
      {
       "current": "06afe9a8-98b0-11ea-8d02-0242ac120007-3-a1c1-faf0-55bd",
       "next": "329a4046-dfad-11eb-b29f-0242ac120008",
       "previous": "250e7a70-98f3-11ea-8d02-0242ac120007-2-f0b4-6edf"
      },
      {
       "current": "06afe9a8-98b0-11ea-8d02-0242ac120007-3-a1c1-faf0-55bd",
       "next": "329a4046-dfad-11eb-b29f-0242ac120008-1-1375",
       "previous": "250e7a70-98f3-11ea-8d02-0242ac120007-3-f0b4-6edf-9d40"
      },
      {
       "current": "06afe9a8-98b0-11ea-8d02-0242ac120007-3-a1c1-faf0-55bd",
       "next": "329a4046-dfad-11eb-b29f-0242ac120008-1-1375",
       "previous": "8a6e69fc-6f14-11ee-89fa-0242ac120005"
      },
      {
       "current": "06afe9a8-98b0-11ea-8d02-0242ac120007-4-a1c1-faf0-55bd-115c",
       "next": "329a4046-dfad-11eb-b29f-0242ac120008-1-1375",
       "previous": "8a6e698e-6f14-11ee-89fa-0242ac120005"
      },
      {
       "current": "06afe9a8-98b0-11ea-8d02-0242ac120007-5-a1c1-faf0-55bd-115c-fa23",
       "next": "329a4046-dfad-11eb-b29f-0242ac120008-2-1375-c437",
       "previous": "8a6e698e-6f14-11ee-89fa-0242ac120005-1-63f4"
      },
      {
       "current": "06afe9a8-98b0-11ea-8d02-0242ac120007-6-a1c1-faf0-55bd-115c-fa23-9424",
       "next": "329a4046-dfad-11eb-b29f-0242ac120008-3-1375-c437-5fd4",
       "previous": "8a6e698e-6f14-11ee-89fa-0242ac120005-2-63f4-5b23"
      },
      {
       "current": "06afe9a8-98b0-11ea-8d02-0242ac120007-7-a1c1-faf0-55bd-115c-fa23-9424-d6c0",
       "next": "329a4046-dfad-11eb-b29f-0242ac120008-4-1375-c437-5fd4-295d",
       "previous": "8a6e698e-6f14-11ee-89fa-0242ac120005-3-63f4-5b23-1074"
      }
     ],
     "next": "329a4046-dfad-11eb-b29f-0242ac120008-5-1375-c437-5fd4-295d-3b2a",
     "previous": "8a6e698e-6f14-11ee-89fa-0242ac120005-4-63f4-5b23-1074-4806"
    }
   },
   "source": [
    "## デプロイされたCephノード情報の取得"
   ]
  },
  {
   "cell_type": "markdown",
   "metadata": {
    "lc_cell_meme": {
     "current": "329a4046-dfad-11eb-b29f-0242ac120008-5-1375-c437-5fd4-295d-3b2a",
     "history": [
      {
       "current": "329a4046-dfad-11eb-b29f-0242ac120008-1-1375",
       "next": "329a4348-dfad-11eb-b29f-0242ac120008",
       "previous": "06afe9a8-98b0-11ea-8d02-0242ac120007-2-a1c1-faf0"
      },
      {
       "current": "329a4046-dfad-11eb-b29f-0242ac120008-1-1375",
       "next": "329a4348-dfad-11eb-b29f-0242ac120008-1-ed21",
       "previous": "06afe9a8-98b0-11ea-8d02-0242ac120007-3-a1c1-faf0-55bd"
      },
      {
       "current": "329a4046-dfad-11eb-b29f-0242ac120008-2-1375-c437",
       "next": "197c8f3e-6f15-11ee-89fa-0242ac120005",
       "previous": "06afe9a8-98b0-11ea-8d02-0242ac120007-3-a1c1-faf0-55bd"
      },
      {
       "current": "329a4046-dfad-11eb-b29f-0242ac120008-3-1375-c437-5fd4",
       "next": "197c8f3e-6f15-11ee-89fa-0242ac120005-1-cde1",
       "previous": "06afe9a8-98b0-11ea-8d02-0242ac120007-4-a1c1-faf0-55bd-115c"
      },
      {
       "current": "329a4046-dfad-11eb-b29f-0242ac120008-4-1375-c437-5fd4-295d",
       "next": "197c8f3e-6f15-11ee-89fa-0242ac120005-2-cde1-fb9f",
       "previous": "06afe9a8-98b0-11ea-8d02-0242ac120007-5-a1c1-faf0-55bd-115c-fa23"
      },
      {
       "current": "329a4046-dfad-11eb-b29f-0242ac120008-5-1375-c437-5fd4-295d-3b2a",
       "next": "197c8f3e-6f15-11ee-89fa-0242ac120005-3-cde1-fb9f-8ebb",
       "previous": "06afe9a8-98b0-11ea-8d02-0242ac120007-6-a1c1-faf0-55bd-115c-fa23-9424"
      }
     ],
     "next": "197c8f3e-6f15-11ee-89fa-0242ac120005-4-cde1-fb9f-8ebb-084e",
     "previous": "06afe9a8-98b0-11ea-8d02-0242ac120007-7-a1c1-faf0-55bd-115c-fa23-9424-d6c0"
    }
   },
   "source": [
    "ストレージノードを特定するにあたり、ノード名称が　ceph-nodexxx （xxxの部分は、右寄せ0埋めの数字3桁）というルールに従っていることを前提としている。<br>\n",
    " 例：ceph-node001<br>\n",
    " このノード名称ルールは、構築するCephクラスタ毎に変えるため、以下で定義する。"
   ]
  },
  {
   "cell_type": "code",
   "execution_count": null,
   "metadata": {
    "lc_cell_meme": {
     "current": "197c8f3e-6f15-11ee-89fa-0242ac120005-4-cde1-fb9f-8ebb-084e",
     "history": [
      {
       "current": "197c8f3e-6f15-11ee-89fa-0242ac120005-1-cde1",
       "next": "329a4348-dfad-11eb-b29f-0242ac120008-1-ed21",
       "previous": "329a4046-dfad-11eb-b29f-0242ac120008-1-1375"
      },
      {
       "current": "197c8f3e-6f15-11ee-89fa-0242ac120005-2-cde1-fb9f",
       "next": "329a4348-dfad-11eb-b29f-0242ac120008-2-ed21-b8c4",
       "previous": "329a4046-dfad-11eb-b29f-0242ac120008-2-1375-c437"
      },
      {
       "current": "197c8f3e-6f15-11ee-89fa-0242ac120005-3-cde1-fb9f-8ebb",
       "next": "329a4348-dfad-11eb-b29f-0242ac120008-3-ed21-b8c4-d0d1",
       "previous": "329a4046-dfad-11eb-b29f-0242ac120008-3-1375-c437-5fd4"
      },
      {
       "current": "197c8f3e-6f15-11ee-89fa-0242ac120005-4-cde1-fb9f-8ebb-084e",
       "next": "329a4348-dfad-11eb-b29f-0242ac120008-4-ed21-b8c4-d0d1-5b69",
       "previous": "329a4046-dfad-11eb-b29f-0242ac120008-4-1375-c437-5fd4-295d"
      }
     ],
     "next": "329a4348-dfad-11eb-b29f-0242ac120008-5-ed21-b8c4-d0d1-5b69-3eb4",
     "previous": "329a4046-dfad-11eb-b29f-0242ac120008-5-1375-c437-5fd4-295d-3b2a"
    }
   },
   "outputs": [],
   "source": [
    "# 初期化対象のインスタンス名称を設定する\n",
    "raise Exception('この先手作業が必要です')"
   ]
  },
  {
   "cell_type": "code",
   "execution_count": null,
   "metadata": {
    "lc_cell_meme": {
     "current": "329a4348-dfad-11eb-b29f-0242ac120008-5-ed21-b8c4-d0d1-5b69-3eb4",
     "history": [
      {
       "current": "329a4348-dfad-11eb-b29f-0242ac120008-1-ed21",
       "next": "04bfc54e-defc-11eb-b29f-0242ac120008",
       "previous": "329a4046-dfad-11eb-b29f-0242ac120008"
      },
      {
       "current": "329a4348-dfad-11eb-b29f-0242ac120008-1-ed21",
       "next": "04bfc54e-defc-11eb-b29f-0242ac120008-1-5336",
       "previous": "329a4046-dfad-11eb-b29f-0242ac120008-1-1375"
      },
      {
       "current": "329a4348-dfad-11eb-b29f-0242ac120008-2-ed21-b8c4",
       "next": "197c8ff2-6f15-11ee-89fa-0242ac120005",
       "previous": "197c8f3e-6f15-11ee-89fa-0242ac120005"
      },
      {
       "current": "329a4348-dfad-11eb-b29f-0242ac120008-3-ed21-b8c4-d0d1",
       "next": "197c8ff2-6f15-11ee-89fa-0242ac120005-1-183f",
       "previous": "197c8f3e-6f15-11ee-89fa-0242ac120005-1-cde1"
      },
      {
       "current": "329a4348-dfad-11eb-b29f-0242ac120008-4-ed21-b8c4-d0d1-5b69",
       "next": "197c8ff2-6f15-11ee-89fa-0242ac120005-2-183f-d9e4",
       "previous": "197c8f3e-6f15-11ee-89fa-0242ac120005-2-cde1-fb9f"
      },
      {
       "current": "329a4348-dfad-11eb-b29f-0242ac120008-5-ed21-b8c4-d0d1-5b69-3eb4",
       "next": "197c8ff2-6f15-11ee-89fa-0242ac120005-3-183f-d9e4-171e",
       "previous": "197c8f3e-6f15-11ee-89fa-0242ac120005-3-cde1-fb9f-8ebb"
      }
     ],
     "next": "197c8ff2-6f15-11ee-89fa-0242ac120005-4-183f-d9e4-171e-b77b",
     "previous": "197c8f3e-6f15-11ee-89fa-0242ac120005-4-cde1-fb9f-8ebb-084e"
    }
   },
   "outputs": [],
   "source": [
    "import pandas as pd\n",
    "import re\n",
    "\n",
    "# 対象インスタンス名称マッチングルール\n",
    "name_match_rule = r'ceph-xxx-node-[0-9]+'"
   ]
  },
  {
   "cell_type": "markdown",
   "metadata": {
    "heading_collapsed": true,
    "lc_cell_meme": {
     "current": "197c8ff2-6f15-11ee-89fa-0242ac120005-4-183f-d9e4-171e-b77b",
     "history": [
      {
       "current": "197c8ff2-6f15-11ee-89fa-0242ac120005-1-183f",
       "next": "197c9024-6f15-11ee-89fa-0242ac120005",
       "previous": "329a4348-dfad-11eb-b29f-0242ac120008-1-ed21"
      },
      {
       "current": "197c8ff2-6f15-11ee-89fa-0242ac120005-2-183f-d9e4",
       "next": "197c9024-6f15-11ee-89fa-0242ac120005-1-dea2",
       "previous": "329a4348-dfad-11eb-b29f-0242ac120008-2-ed21-b8c4"
      },
      {
       "current": "197c8ff2-6f15-11ee-89fa-0242ac120005-3-183f-d9e4-171e",
       "next": "197c9024-6f15-11ee-89fa-0242ac120005-2-dea2-34e1",
       "previous": "329a4348-dfad-11eb-b29f-0242ac120008-3-ed21-b8c4-d0d1"
      },
      {
       "current": "197c8ff2-6f15-11ee-89fa-0242ac120005-4-183f-d9e4-171e-b77b",
       "next": "197c9024-6f15-11ee-89fa-0242ac120005-3-dea2-34e1-6c01",
       "previous": "329a4348-dfad-11eb-b29f-0242ac120008-4-ed21-b8c4-d0d1-5b69"
      }
     ],
     "next": "197c9024-6f15-11ee-89fa-0242ac120005-4-dea2-34e1-6c01-466d",
     "previous": "329a4348-dfad-11eb-b29f-0242ac120008-5-ed21-b8c4-d0d1-5b69-3eb4"
    }
   },
   "source": [
    "## OpenStack Ironicからノード情報の取得"
   ]
  },
  {
   "cell_type": "code",
   "execution_count": null,
   "metadata": {
    "hidden": true,
    "lc_cell_meme": {
     "current": "197c9024-6f15-11ee-89fa-0242ac120005-4-dea2-34e1-6c01-466d",
     "history": [
      {
       "current": "197c9024-6f15-11ee-89fa-0242ac120005-1-dea2",
       "next": "197c904c-6f15-11ee-89fa-0242ac120005",
       "previous": "197c8ff2-6f15-11ee-89fa-0242ac120005"
      },
      {
       "current": "197c9024-6f15-11ee-89fa-0242ac120005-2-dea2-34e1",
       "next": "197c904c-6f15-11ee-89fa-0242ac120005-1-d90f",
       "previous": "197c8ff2-6f15-11ee-89fa-0242ac120005-1-183f"
      },
      {
       "current": "197c9024-6f15-11ee-89fa-0242ac120005-3-dea2-34e1-6c01",
       "next": "197c904c-6f15-11ee-89fa-0242ac120005-2-d90f-d432",
       "previous": "197c8ff2-6f15-11ee-89fa-0242ac120005-2-183f-d9e4"
      },
      {
       "current": "197c9024-6f15-11ee-89fa-0242ac120005-4-dea2-34e1-6c01-466d",
       "next": "197c904c-6f15-11ee-89fa-0242ac120005-3-d90f-d432-7302",
       "previous": "197c8ff2-6f15-11ee-89fa-0242ac120005-3-183f-d9e4-171e"
      }
     ],
     "next": "197c904c-6f15-11ee-89fa-0242ac120005-4-d90f-d432-7302-817f",
     "previous": "197c8ff2-6f15-11ee-89fa-0242ac120005-4-183f-d9e4-171e-b77b"
    },
    "scrolled": true
   },
   "outputs": [],
   "source": [
    "cmd = \"openstack baremetal node list -f json --long\"\n",
    "nodes = run_openstack(cmd)"
   ]
  },
  {
   "cell_type": "code",
   "execution_count": null,
   "metadata": {
    "hidden": true,
    "lc_cell_meme": {
     "current": "197c904c-6f15-11ee-89fa-0242ac120005-4-d90f-d432-7302-817f",
     "history": [
      {
       "current": "197c904c-6f15-11ee-89fa-0242ac120005-1-d90f",
       "next": "197c906a-6f15-11ee-89fa-0242ac120005",
       "previous": "197c9024-6f15-11ee-89fa-0242ac120005"
      },
      {
       "current": "197c904c-6f15-11ee-89fa-0242ac120005-2-d90f-d432",
       "next": "197c906a-6f15-11ee-89fa-0242ac120005-1-c35f",
       "previous": "197c9024-6f15-11ee-89fa-0242ac120005-1-dea2"
      },
      {
       "current": "197c904c-6f15-11ee-89fa-0242ac120005-3-d90f-d432-7302",
       "next": "197c906a-6f15-11ee-89fa-0242ac120005-2-c35f-d7e5",
       "previous": "197c9024-6f15-11ee-89fa-0242ac120005-2-dea2-34e1"
      },
      {
       "current": "197c904c-6f15-11ee-89fa-0242ac120005-4-d90f-d432-7302-817f",
       "next": "197c906a-6f15-11ee-89fa-0242ac120005-3-c35f-d7e5-93e6",
       "previous": "197c9024-6f15-11ee-89fa-0242ac120005-3-dea2-34e1-6c01"
      }
     ],
     "next": "197c906a-6f15-11ee-89fa-0242ac120005-4-c35f-d7e5-93e6-1f19",
     "previous": "197c9024-6f15-11ee-89fa-0242ac120005-4-dea2-34e1-6c01-466d"
    },
    "scrolled": true
   },
   "outputs": [],
   "source": [
    "import pandas as pd\n",
    "import re\n",
    "\n",
    "for node in nodes:\n",
    "    instance_uuid = node.get(\"Instance UUID\", None)\n",
    "    if instance_uuid is None:\n",
    "        continue\n",
    "        \n",
    "    node[\"instance_name\"] = node[\"Instance Info\"][\"display_name\"]\n",
    "\n",
    "pd.set_option('display.max_rows', None)\n",
    "pd.DataFrame(nodes, columns=['Instance UUID', 'instance_name', 'UUID', 'Maintenance', 'Provisioning State', 'Power State', 'Name'])"
   ]
  },
  {
   "cell_type": "code",
   "execution_count": null,
   "metadata": {
    "hidden": true,
    "lc_cell_meme": {
     "current": "197c906a-6f15-11ee-89fa-0242ac120005-4-c35f-d7e5-93e6-1f19",
     "history": [
      {
       "current": "197c906a-6f15-11ee-89fa-0242ac120005-1-c35f",
       "next": "197c9092-6f15-11ee-89fa-0242ac120005",
       "previous": "197c904c-6f15-11ee-89fa-0242ac120005"
      },
      {
       "current": "197c906a-6f15-11ee-89fa-0242ac120005-2-c35f-d7e5",
       "next": "197c9092-6f15-11ee-89fa-0242ac120005-1-eff5",
       "previous": "197c904c-6f15-11ee-89fa-0242ac120005-1-d90f"
      },
      {
       "current": "197c906a-6f15-11ee-89fa-0242ac120005-3-c35f-d7e5-93e6",
       "next": "197c9092-6f15-11ee-89fa-0242ac120005-2-eff5-2e72",
       "previous": "197c904c-6f15-11ee-89fa-0242ac120005-2-d90f-d432"
      },
      {
       "current": "197c906a-6f15-11ee-89fa-0242ac120005-4-c35f-d7e5-93e6-1f19",
       "next": "197c9092-6f15-11ee-89fa-0242ac120005-3-eff5-2e72-95d8",
       "previous": "197c904c-6f15-11ee-89fa-0242ac120005-3-d90f-d432-7302"
      }
     ],
     "next": "197c9092-6f15-11ee-89fa-0242ac120005-4-eff5-2e72-95d8-ba2a",
     "previous": "197c904c-6f15-11ee-89fa-0242ac120005-4-d90f-d432-7302-817f"
    }
   },
   "outputs": [],
   "source": [
    "cmd = \"openstack server list -f json --long\"\n",
    "nova_server_map = run_openstack(cmd)"
   ]
  },
  {
   "cell_type": "code",
   "execution_count": null,
   "metadata": {
    "hidden": true,
    "lc_cell_meme": {
     "current": "197c9092-6f15-11ee-89fa-0242ac120005-4-eff5-2e72-95d8-ba2a",
     "history": [
      {
       "current": "197c9092-6f15-11ee-89fa-0242ac120005",
       "next": "06afec50-98b0-11ea-8d02-0242ac120007-3-5828-a305-b690",
       "previous": "197c906a-6f15-11ee-89fa-0242ac120005"
      },
      {
       "current": "197c9092-6f15-11ee-89fa-0242ac120005-1-eff5",
       "next": "7007693c-7956-11ee-89fa-0242ac120005",
       "previous": "197c906a-6f15-11ee-89fa-0242ac120005"
      },
      {
       "current": "197c9092-6f15-11ee-89fa-0242ac120005-2-eff5-2e72",
       "next": "7007693c-7956-11ee-89fa-0242ac120005-1-b8c6",
       "previous": "197c906a-6f15-11ee-89fa-0242ac120005-1-c35f"
      },
      {
       "current": "197c9092-6f15-11ee-89fa-0242ac120005-3-eff5-2e72-95d8",
       "next": "7007693c-7956-11ee-89fa-0242ac120005-2-b8c6-1e5e",
       "previous": "197c906a-6f15-11ee-89fa-0242ac120005-2-c35f-d7e5"
      },
      {
       "current": "197c9092-6f15-11ee-89fa-0242ac120005-4-eff5-2e72-95d8-ba2a",
       "next": "7007693c-7956-11ee-89fa-0242ac120005-3-b8c6-1e5e-4c77",
       "previous": "197c906a-6f15-11ee-89fa-0242ac120005-3-c35f-d7e5-93e6"
      }
     ],
     "next": "7007693c-7956-11ee-89fa-0242ac120005-4-b8c6-1e5e-4c77-fe02",
     "previous": "197c906a-6f15-11ee-89fa-0242ac120005-4-c35f-d7e5-93e6-1f19"
    }
   },
   "outputs": [],
   "source": [
    "node_list = []\n",
    "for server in nova_server_map:\n",
    "    node_id = server['ID']\n",
    "    if re.match(name_match_rule, server['Name']) is None:\n",
    "        continue\n",
    "    for node in nodes:\n",
    "        if node['Instance UUID'] == node_id:\n",
    "            node_info = {}\n",
    "            node_list.append(node_info)\n",
    "            node_info['name'] = server['Name']\n",
    "            node_info['node_name'] = node['Name']\n",
    "            instance_ip_info = instance_ip_map.get(server['Name'], None)\n",
    "            if instance_ip_info is not None:\n",
    "                node_info['instance_ip'] = instance_ip_info.get('ipv4', None)\n",
    "            else:\n",
    "                node_info['instance_ip'] = None\n",
    "            address = server['Networks']\n",
    "            prov_net = address['provisioning-net']\n",
    "            for addr in prov_net:\n",
    "                node_info['prov_ip'] = addr\n",
    "\n",
    "pd.DataFrame(node_list)"
   ]
  },
  {
   "cell_type": "code",
   "execution_count": null,
   "metadata": {
    "hidden": true,
    "lc_cell_meme": {
     "current": "7007693c-7956-11ee-89fa-0242ac120005-4-b8c6-1e5e-4c77-fe02",
     "history": [
      {
       "current": "7007693c-7956-11ee-89fa-0242ac120005-1-b8c6",
       "next": "06afec50-98b0-11ea-8d02-0242ac120007-3-5828-a305-b690",
       "previous": "197c9092-6f15-11ee-89fa-0242ac120005"
      },
      {
       "current": "7007693c-7956-11ee-89fa-0242ac120005-2-b8c6-1e5e",
       "next": "06afec50-98b0-11ea-8d02-0242ac120007-4-5828-a305-b690-2523",
       "previous": "197c9092-6f15-11ee-89fa-0242ac120005-1-eff5"
      },
      {
       "current": "7007693c-7956-11ee-89fa-0242ac120005-3-b8c6-1e5e-4c77",
       "next": "06afec50-98b0-11ea-8d02-0242ac120007-5-5828-a305-b690-2523-1b6d",
       "previous": "197c9092-6f15-11ee-89fa-0242ac120005-2-eff5-2e72"
      },
      {
       "current": "7007693c-7956-11ee-89fa-0242ac120005-4-b8c6-1e5e-4c77-fe02",
       "next": "06afec50-98b0-11ea-8d02-0242ac120007-6-5828-a305-b690-2523-1b6d-1d21",
       "previous": "197c9092-6f15-11ee-89fa-0242ac120005-3-eff5-2e72-95d8"
      }
     ],
     "next": "06afec50-98b0-11ea-8d02-0242ac120007-7-5828-a305-b690-2523-1b6d-1d21-9a29",
     "previous": "197c9092-6f15-11ee-89fa-0242ac120005-4-eff5-2e72-95d8-ba2a"
    }
   },
   "outputs": [],
   "source": [
    "# nameをキーにしたノード情報生成\n",
    "node_map = {}\n",
    "for node in node_list:\n",
    "    node_map[node['name']] = node"
   ]
  },
  {
   "cell_type": "markdown",
   "metadata": {
    "lc_cell_meme": {
     "current": "06afec50-98b0-11ea-8d02-0242ac120007-7-5828-a305-b690-2523-1b6d-1d21-9a29",
     "history": [
      {
       "current": "06afec50-98b0-11ea-8d02-0242ac120007-1-5828",
       "next": "8a48d590-98a1-11ea-8d02-0242ac120007",
       "previous": "357fc83a-969d-11ea-8d02-0242ac120007"
      },
      {
       "current": "06afec50-98b0-11ea-8d02-0242ac120007-2-5828-a305",
       "next": "8a48d590-98a1-11ea-8d02-0242ac120007-1-1c0f",
       "previous": "357fc83a-969d-11ea-8d02-0242ac120007-1-9a36"
      },
      {
       "current": "06afec50-98b0-11ea-8d02-0242ac120007-3-5828-a305-b690",
       "next": "8a48d590-98a1-11ea-8d02-0242ac120007-2-1c0f-5b25",
       "previous": "357fc83a-969d-11ea-8d02-0242ac120007-2-9a36-95b8"
      },
      {
       "current": "06afec50-98b0-11ea-8d02-0242ac120007-3-5828-a305-b690",
       "next": "8a48d590-98a1-11ea-8d02-0242ac120007-3-1c0f-5b25-d7c0",
       "previous": "357fc83a-969d-11ea-8d02-0242ac120007-3-9a36-95b8-3fa9"
      },
      {
       "current": "06afec50-98b0-11ea-8d02-0242ac120007-3-5828-a305-b690",
       "next": "8a48d590-98a1-11ea-8d02-0242ac120007-3-1c0f-5b25-d7c0",
       "previous": "197c9092-6f15-11ee-89fa-0242ac120005"
      },
      {
       "current": "06afec50-98b0-11ea-8d02-0242ac120007-4-5828-a305-b690-2523",
       "next": "8a48d590-98a1-11ea-8d02-0242ac120007-3-1c0f-5b25-d7c0",
       "previous": "7007693c-7956-11ee-89fa-0242ac120005"
      },
      {
       "current": "06afec50-98b0-11ea-8d02-0242ac120007-5-5828-a305-b690-2523-1b6d",
       "next": "8a48d590-98a1-11ea-8d02-0242ac120007-4-1c0f-5b25-d7c0-115e",
       "previous": "7007693c-7956-11ee-89fa-0242ac120005-1-b8c6"
      },
      {
       "current": "06afec50-98b0-11ea-8d02-0242ac120007-6-5828-a305-b690-2523-1b6d-1d21",
       "next": "8a48d590-98a1-11ea-8d02-0242ac120007-5-1c0f-5b25-d7c0-115e-0d4f",
       "previous": "7007693c-7956-11ee-89fa-0242ac120005-2-b8c6-1e5e"
      },
      {
       "current": "06afec50-98b0-11ea-8d02-0242ac120007-7-5828-a305-b690-2523-1b6d-1d21-9a29",
       "next": "8a48d590-98a1-11ea-8d02-0242ac120007-6-1c0f-5b25-d7c0-115e-0d4f-2881",
       "previous": "7007693c-7956-11ee-89fa-0242ac120005-3-b8c6-1e5e-4c77"
      }
     ],
     "next": "8a48d590-98a1-11ea-8d02-0242ac120007-7-1c0f-5b25-d7c0-115e-0d4f-2881-18d7",
     "previous": "7007693c-7956-11ee-89fa-0242ac120005-4-b8c6-1e5e-4c77-fe02"
    }
   },
   "source": [
    "## 対象Cephノード情報の取得"
   ]
  },
  {
   "cell_type": "markdown",
   "metadata": {
    "lc_cell_meme": {
     "current": "8a48d590-98a1-11ea-8d02-0242ac120007-7-1c0f-5b25-d7c0-115e-0d4f-2881-18d7",
     "history": [
      {
       "current": "8a48d590-98a1-11ea-8d02-0242ac120007",
       "next": "8a48d90a-98a1-11ea-8d02-0242ac120007",
       "previous": "357fc83a-969d-11ea-8d02-0242ac120007"
      },
      {
       "current": "8a48d590-98a1-11ea-8d02-0242ac120007",
       "next": "8a48d90a-98a1-11ea-8d02-0242ac120007",
       "previous": "06afec50-98b0-11ea-8d02-0242ac120007"
      },
      {
       "current": "8a48d590-98a1-11ea-8d02-0242ac120007",
       "next": "a85c1dda-959a-11ea-8d02-0242ac120007",
       "previous": "06afec50-98b0-11ea-8d02-0242ac120007"
      },
      {
       "current": "8a48d590-98a1-11ea-8d02-0242ac120007-1-1c0f",
       "next": "e879cdac-95bf-11ea-8d02-0242ac120007",
       "previous": "06afec50-98b0-11ea-8d02-0242ac120007"
      },
      {
       "current": "8a48d590-98a1-11ea-8d02-0242ac120007-2-1c0f-5b25",
       "next": "e879cdac-95bf-11ea-8d02-0242ac120007-1-4a2c",
       "previous": "06afec50-98b0-11ea-8d02-0242ac120007-1-5828"
      },
      {
       "current": "8a48d590-98a1-11ea-8d02-0242ac120007-3-1c0f-5b25-d7c0",
       "next": "e879cdac-95bf-11ea-8d02-0242ac120007-2-4a2c-6b2f",
       "previous": "06afec50-98b0-11ea-8d02-0242ac120007-2-5828-a305"
      },
      {
       "current": "8a48d590-98a1-11ea-8d02-0242ac120007-4-1c0f-5b25-d7c0-115e",
       "next": "e879cdac-95bf-11ea-8d02-0242ac120007-3-4a2c-6b2f-958d",
       "previous": "06afec50-98b0-11ea-8d02-0242ac120007-3-5828-a305-b690"
      },
      {
       "current": "8a48d590-98a1-11ea-8d02-0242ac120007-5-1c0f-5b25-d7c0-115e-0d4f",
       "next": "e879cdac-95bf-11ea-8d02-0242ac120007-4-4a2c-6b2f-958d-aa58",
       "previous": "06afec50-98b0-11ea-8d02-0242ac120007-4-5828-a305-b690-2523"
      },
      {
       "current": "8a48d590-98a1-11ea-8d02-0242ac120007-6-1c0f-5b25-d7c0-115e-0d4f-2881",
       "next": "e879cdac-95bf-11ea-8d02-0242ac120007-5-4a2c-6b2f-958d-aa58-8319",
       "previous": "06afec50-98b0-11ea-8d02-0242ac120007-5-5828-a305-b690-2523-1b6d"
      },
      {
       "current": "8a48d590-98a1-11ea-8d02-0242ac120007-7-1c0f-5b25-d7c0-115e-0d4f-2881-18d7",
       "next": "e879cdac-95bf-11ea-8d02-0242ac120007-6-4a2c-6b2f-958d-aa58-8319-f3f1",
       "previous": "06afec50-98b0-11ea-8d02-0242ac120007-6-5828-a305-b690-2523-1b6d-1d21"
      }
     ],
     "next": "e879cdac-95bf-11ea-8d02-0242ac120007-7-4a2c-6b2f-958d-aa58-8319-f3f1-5cd9",
     "previous": "06afec50-98b0-11ea-8d02-0242ac120007-7-5828-a305-b690-2523-1b6d-1d21-9a29"
    }
   },
   "source": [
    "初期化対象のインスタンス名称を設定する"
   ]
  },
  {
   "cell_type": "code",
   "execution_count": null,
   "metadata": {
    "lc_cell_meme": {
     "current": "e879cdac-95bf-11ea-8d02-0242ac120007-7-4a2c-6b2f-958d-aa58-8319-f3f1-5cd9",
     "history": [
      {
       "current": "e879cdac-95bf-11ea-8d02-0242ac120007",
       "next": "81dd4f74-9597-11ea-8d02-0242ac120007",
       "previous": "d1bcb8ac-9599-11ea-8d02-0242ac120007"
      },
      {
       "current": "e879cdac-95bf-11ea-8d02-0242ac120007",
       "next": "81dd4f74-9597-11ea-8d02-0242ac120007",
       "previous": "a85c1dda-959a-11ea-8d02-0242ac120007"
      },
      {
       "current": "e879cdac-95bf-11ea-8d02-0242ac120007",
       "next": "8a48d90a-98a1-11ea-8d02-0242ac120007",
       "previous": "a85c1dda-959a-11ea-8d02-0242ac120007"
      },
      {
       "current": "e879cdac-95bf-11ea-8d02-0242ac120007-1-4a2c",
       "next": "8a48d90a-98a1-11ea-8d02-0242ac120007",
       "previous": "8a48d590-98a1-11ea-8d02-0242ac120007"
      },
      {
       "current": "e879cdac-95bf-11ea-8d02-0242ac120007-2-4a2c-6b2f",
       "next": "8a48d90a-98a1-11ea-8d02-0242ac120007-1-0ebc",
       "previous": "8a48d590-98a1-11ea-8d02-0242ac120007-1-1c0f"
      },
      {
       "current": "e879cdac-95bf-11ea-8d02-0242ac120007-2-4a2c-6b2f",
       "next": "8a48d90a-98a1-11ea-8d02-0242ac120007-2-0ebc-93ac",
       "previous": "8a48d590-98a1-11ea-8d02-0242ac120007-2-1c0f-5b25"
      },
      {
       "current": "e879cdac-95bf-11ea-8d02-0242ac120007-3-4a2c-6b2f-958d",
       "next": "809aa1e6-def9-11eb-b29f-0242ac120008",
       "previous": "8a48d590-98a1-11ea-8d02-0242ac120007-2-1c0f-5b25"
      },
      {
       "current": "e879cdac-95bf-11ea-8d02-0242ac120007-4-4a2c-6b2f-958d-aa58",
       "next": "809aa1e6-def9-11eb-b29f-0242ac120008-1-b49e",
       "previous": "8a48d590-98a1-11ea-8d02-0242ac120007-3-1c0f-5b25-d7c0"
      },
      {
       "current": "e879cdac-95bf-11ea-8d02-0242ac120007-5-4a2c-6b2f-958d-aa58-8319",
       "next": "809aa1e6-def9-11eb-b29f-0242ac120008-2-b49e-3757",
       "previous": "8a48d590-98a1-11ea-8d02-0242ac120007-4-1c0f-5b25-d7c0-115e"
      },
      {
       "current": "e879cdac-95bf-11ea-8d02-0242ac120007-6-4a2c-6b2f-958d-aa58-8319-f3f1",
       "next": "809aa1e6-def9-11eb-b29f-0242ac120008-3-b49e-3757-5bfe",
       "previous": "8a48d590-98a1-11ea-8d02-0242ac120007-5-1c0f-5b25-d7c0-115e-0d4f"
      },
      {
       "current": "e879cdac-95bf-11ea-8d02-0242ac120007-7-4a2c-6b2f-958d-aa58-8319-f3f1-5cd9",
       "next": "809aa1e6-def9-11eb-b29f-0242ac120008-4-b49e-3757-5bfe-7429",
       "previous": "8a48d590-98a1-11ea-8d02-0242ac120007-6-1c0f-5b25-d7c0-115e-0d4f-2881"
      }
     ],
     "next": "809aa1e6-def9-11eb-b29f-0242ac120008-5-b49e-3757-5bfe-7429-b4d4",
     "previous": "8a48d590-98a1-11ea-8d02-0242ac120007-7-1c0f-5b25-d7c0-115e-0d4f-2881-18d7"
    },
    "scrolled": true
   },
   "outputs": [],
   "source": [
    "# 初期化対象のインスタンス名称を設定する\n",
    "raise Exception('この先手作業が必要です')"
   ]
  },
  {
   "cell_type": "markdown",
   "metadata": {
    "lc_cell_meme": {
     "current": "809aa1e6-def9-11eb-b29f-0242ac120008-5-b49e-3757-5bfe-7429-b4d4",
     "history": [
      {
       "current": "809aa1e6-def9-11eb-b29f-0242ac120008-1-b49e",
       "next": "8a48d90a-98a1-11ea-8d02-0242ac120007-2-0ebc-93ac",
       "previous": "e879cdac-95bf-11ea-8d02-0242ac120007-2-4a2c-6b2f"
      },
      {
       "current": "809aa1e6-def9-11eb-b29f-0242ac120008-1-b49e",
       "next": "8a48d90a-98a1-11ea-8d02-0242ac120007-3-0ebc-93ac-04b4",
       "previous": "e879cdac-95bf-11ea-8d02-0242ac120007-3-4a2c-6b2f-958d"
      },
      {
       "current": "809aa1e6-def9-11eb-b29f-0242ac120008-2-b49e-3757",
       "next": "bb3e251e-61bc-11ee-89fa-0242ac120005",
       "previous": "e879cdac-95bf-11ea-8d02-0242ac120007-3-4a2c-6b2f-958d"
      },
      {
       "current": "809aa1e6-def9-11eb-b29f-0242ac120008-3-b49e-3757-5bfe",
       "next": "bb3e251e-61bc-11ee-89fa-0242ac120005-1-ef2a",
       "previous": "e879cdac-95bf-11ea-8d02-0242ac120007-4-4a2c-6b2f-958d-aa58"
      },
      {
       "current": "809aa1e6-def9-11eb-b29f-0242ac120008-4-b49e-3757-5bfe-7429",
       "next": "bb3e251e-61bc-11ee-89fa-0242ac120005-2-ef2a-89a4",
       "previous": "e879cdac-95bf-11ea-8d02-0242ac120007-5-4a2c-6b2f-958d-aa58-8319"
      },
      {
       "current": "809aa1e6-def9-11eb-b29f-0242ac120008-5-b49e-3757-5bfe-7429-b4d4",
       "next": "bb3e251e-61bc-11ee-89fa-0242ac120005-3-ef2a-89a4-2a10",
       "previous": "e879cdac-95bf-11ea-8d02-0242ac120007-6-4a2c-6b2f-958d-aa58-8319-f3f1"
      }
     ],
     "next": "bb3e251e-61bc-11ee-89fa-0242ac120005-4-ef2a-89a4-2a10-bde1",
     "previous": "e879cdac-95bf-11ea-8d02-0242ac120007-7-4a2c-6b2f-958d-aa58-8319-f3f1-5cd9"
    }
   },
   "source": [
    "### adminノードの指定"
   ]
  },
  {
   "cell_type": "code",
   "execution_count": null,
   "metadata": {
    "lc_cell_meme": {
     "current": "bb3e251e-61bc-11ee-89fa-0242ac120005-4-ef2a-89a4-2a10-bde1",
     "history": [
      {
       "current": "bb3e251e-61bc-11ee-89fa-0242ac120005",
       "next": "8a48dae0-98a1-11ea-8d02-0242ac120007-3-4da2-9c77-127e",
       "previous": "8a48d90a-98a1-11ea-8d02-0242ac120007-3-0ebc-93ac-04b4"
      },
      {
       "current": "bb3e251e-61bc-11ee-89fa-0242ac120005",
       "next": "8a48dae0-98a1-11ea-8d02-0242ac120007-3-4da2-9c77-127e",
       "previous": "809aa1e6-def9-11eb-b29f-0242ac120008-1-b49e"
      },
      {
       "current": "bb3e251e-61bc-11ee-89fa-0242ac120005",
       "next": "a2611ada-7876-11ee-89fa-0242ac120005",
       "previous": "809aa1e6-def9-11eb-b29f-0242ac120008-1-b49e"
      },
      {
       "current": "bb3e251e-61bc-11ee-89fa-0242ac120005-1-ef2a",
       "next": "8a48dae0-98a1-11ea-8d02-0242ac120007-3-4da2-9c77-127e",
       "previous": "809aa1e6-def9-11eb-b29f-0242ac120008-1-b49e"
      },
      {
       "current": "bb3e251e-61bc-11ee-89fa-0242ac120005-2-ef2a-89a4",
       "next": "8a48dae0-98a1-11ea-8d02-0242ac120007-4-4da2-9c77-127e-e560",
       "previous": "809aa1e6-def9-11eb-b29f-0242ac120008-2-b49e-3757"
      },
      {
       "current": "bb3e251e-61bc-11ee-89fa-0242ac120005-3-ef2a-89a4-2a10",
       "next": "8a48dae0-98a1-11ea-8d02-0242ac120007-5-4da2-9c77-127e-e560-7d7f",
       "previous": "809aa1e6-def9-11eb-b29f-0242ac120008-3-b49e-3757-5bfe"
      },
      {
       "current": "bb3e251e-61bc-11ee-89fa-0242ac120005-4-ef2a-89a4-2a10-bde1",
       "next": "8a48dae0-98a1-11ea-8d02-0242ac120007-6-4da2-9c77-127e-e560-7d7f-352e",
       "previous": "809aa1e6-def9-11eb-b29f-0242ac120008-4-b49e-3757-5bfe-7429"
      }
     ],
     "next": "8a48dae0-98a1-11ea-8d02-0242ac120007-7-4da2-9c77-127e-e560-7d7f-352e-8012",
     "previous": "809aa1e6-def9-11eb-b29f-0242ac120008-5-b49e-3757-5bfe-7429-b4d4"
    }
   },
   "outputs": [],
   "source": [
    "bootstrap_node_name = 'ceph-xxx-node-001'"
   ]
  },
  {
   "cell_type": "code",
   "execution_count": null,
   "metadata": {
    "lc_cell_meme": {
     "current": "8a48dae0-98a1-11ea-8d02-0242ac120007-7-4da2-9c77-127e-e560-7d7f-352e-8012",
     "history": [
      {
       "current": "8a48dae0-98a1-11ea-8d02-0242ac120007-1-4da2",
       "next": "35c339aa-55a3-11e7-b0b2-00163e9c0e35",
       "previous": "8a48d90a-98a1-11ea-8d02-0242ac120007"
      },
      {
       "current": "8a48dae0-98a1-11ea-8d02-0242ac120007-2-4da2-9c77",
       "next": "35c339aa-55a3-11e7-b0b2-00163e9c0e35-1-eee2",
       "previous": "8a48d90a-98a1-11ea-8d02-0242ac120007-1-0ebc"
      },
      {
       "current": "8a48dae0-98a1-11ea-8d02-0242ac120007-2-4da2-9c77",
       "next": "35c339aa-55a3-11e7-b0b2-00163e9c0e35-2-eee2-af6c",
       "previous": "8a48d90a-98a1-11ea-8d02-0242ac120007-2-0ebc-93ac"
      },
      {
       "current": "8a48dae0-98a1-11ea-8d02-0242ac120007-2-4da2-9c77",
       "next": "35c362a4-55a3-11e7-b0b2-00163e9c0e35-2-3f0a-3633",
       "previous": "8a48d90a-98a1-11ea-8d02-0242ac120007-2-0ebc-93ac"
      },
      {
       "current": "8a48dae0-98a1-11ea-8d02-0242ac120007-2-4da2-9c77",
       "next": "1afe7a3e-def8-11eb-b29f-0242ac120008",
       "previous": "8a48d90a-98a1-11ea-8d02-0242ac120007-2-0ebc-93ac"
      },
      {
       "current": "8a48dae0-98a1-11ea-8d02-0242ac120007-3-4da2-9c77-127e",
       "next": "35c35a52-55a3-11e7-b0b2-00163e9c0e35-2-ed71-9007",
       "previous": "8a48d90a-98a1-11ea-8d02-0242ac120007-2-0ebc-93ac"
      },
      {
       "current": "8a48dae0-98a1-11ea-8d02-0242ac120007-3-4da2-9c77-127e",
       "next": "35c35a52-55a3-11e7-b0b2-00163e9c0e35-3-ed71-9007-f930",
       "previous": "8a48d90a-98a1-11ea-8d02-0242ac120007-3-0ebc-93ac-04b4"
      },
      {
       "current": "8a48dae0-98a1-11ea-8d02-0242ac120007-3-4da2-9c77-127e",
       "next": "2c2cd6ae-61bc-11ee-89fa-0242ac120005",
       "previous": "8a48d90a-98a1-11ea-8d02-0242ac120007-3-0ebc-93ac-04b4"
      },
      {
       "current": "8a48dae0-98a1-11ea-8d02-0242ac120007-3-4da2-9c77-127e",
       "next": "2c2cd6ae-61bc-11ee-89fa-0242ac120005",
       "previous": "bb3e251e-61bc-11ee-89fa-0242ac120005"
      },
      {
       "current": "8a48dae0-98a1-11ea-8d02-0242ac120007-3-4da2-9c77-127e",
       "next": "35c35f52-55a3-11e7-b0b2-00163e9c0e35-3-e2de-8a27-98e3",
       "previous": "bb3e251e-61bc-11ee-89fa-0242ac120005"
      },
      {
       "current": "8a48dae0-98a1-11ea-8d02-0242ac120007-3-4da2-9c77-127e",
       "next": "a2611ca6-7876-11ee-89fa-0242ac120005",
       "previous": "a2611ada-7876-11ee-89fa-0242ac120005"
      },
      {
       "current": "8a48dae0-98a1-11ea-8d02-0242ac120007-3-4da2-9c77-127e",
       "next": "2dd5493e-788f-11ee-89fa-0242ac120005",
       "previous": "bb3e251e-61bc-11ee-89fa-0242ac120005"
      },
      {
       "current": "8a48dae0-98a1-11ea-8d02-0242ac120007-4-4da2-9c77-127e-e560",
       "next": "35c35f52-55a3-11e7-b0b2-00163e9c0e35-3-e2de-8a27-98e3",
       "previous": "bb3e251e-61bc-11ee-89fa-0242ac120005"
      },
      {
       "current": "8a48dae0-98a1-11ea-8d02-0242ac120007-5-4da2-9c77-127e-e560-7d7f",
       "next": "35c35f52-55a3-11e7-b0b2-00163e9c0e35-4-e2de-8a27-98e3-d795",
       "previous": "bb3e251e-61bc-11ee-89fa-0242ac120005-1-ef2a"
      },
      {
       "current": "8a48dae0-98a1-11ea-8d02-0242ac120007-6-4da2-9c77-127e-e560-7d7f-352e",
       "next": "35c35f52-55a3-11e7-b0b2-00163e9c0e35-5-e2de-8a27-98e3-d795-f20e",
       "previous": "bb3e251e-61bc-11ee-89fa-0242ac120005-2-ef2a-89a4"
      },
      {
       "current": "8a48dae0-98a1-11ea-8d02-0242ac120007-7-4da2-9c77-127e-e560-7d7f-352e-8012",
       "next": "35c35f52-55a3-11e7-b0b2-00163e9c0e35-6-e2de-8a27-98e3-d795-f20e-5402",
       "previous": "bb3e251e-61bc-11ee-89fa-0242ac120005-3-ef2a-89a4-2a10"
      }
     ],
     "next": "35c35f52-55a3-11e7-b0b2-00163e9c0e35-7-e2de-8a27-98e3-d795-f20e-5402-9e28",
     "previous": "bb3e251e-61bc-11ee-89fa-0242ac120005-4-ef2a-89a4-2a10-bde1"
    }
   },
   "outputs": [],
   "source": [
    "bootstrap_node = node_map.get(bootstrap_node_name, None)\n",
    "\n",
    "assert (bootstrap_node is not None), \"指定されたBootstrap nodeが存在しません。\"\n",
    "print(bootstrap_node)"
   ]
  },
  {
   "cell_type": "markdown",
   "metadata": {
    "lc_cell_meme": {
     "current": "35c35f52-55a3-11e7-b0b2-00163e9c0e35-7-e2de-8a27-98e3-d795-f20e-5402-9e28",
     "history": [
      {
       "current": "35c35f52-55a3-11e7-b0b2-00163e9c0e35",
       "next": "35c360f6-55a3-11e7-b0b2-00163e9c0e35",
       "previous": "35c35dae-55a3-11e7-b0b2-00163e9c0e35"
      },
      {
       "current": "35c35f52-55a3-11e7-b0b2-00163e9c0e35-1-e2de",
       "next": "a33430b0-9327-11ea-8d02-0242ac120007",
       "previous": "35c35dae-55a3-11e7-b0b2-00163e9c0e35"
      },
      {
       "current": "35c35f52-55a3-11e7-b0b2-00163e9c0e35-2-e2de-8a27",
       "next": "a33430b0-9327-11ea-8d02-0242ac120007-1-3202",
       "previous": "35c35dae-55a3-11e7-b0b2-00163e9c0e35-1-7091"
      },
      {
       "current": "35c35f52-55a3-11e7-b0b2-00163e9c0e35-3-e2de-8a27-98e3",
       "next": "a33430b0-9327-11ea-8d02-0242ac120007-2-3202-0bdc",
       "previous": "35c35dae-55a3-11e7-b0b2-00163e9c0e35-2-7091-7055"
      },
      {
       "current": "35c35f52-55a3-11e7-b0b2-00163e9c0e35-3-e2de-8a27-98e3",
       "next": "a33430b0-9327-11ea-8d02-0242ac120007-3-3202-0bdc-fd62",
       "previous": "35c35dae-55a3-11e7-b0b2-00163e9c0e35-3-7091-7055-1fd7"
      },
      {
       "current": "35c35f52-55a3-11e7-b0b2-00163e9c0e35-3-e2de-8a27-98e3",
       "next": "a33430b0-9327-11ea-8d02-0242ac120007-3-3202-0bdc-fd62",
       "previous": "35c35a52-55a3-11e7-b0b2-00163e9c0e35-3-ed71-9007-f930"
      },
      {
       "current": "35c35f52-55a3-11e7-b0b2-00163e9c0e35-3-e2de-8a27-98e3",
       "next": "a33430b0-9327-11ea-8d02-0242ac120007-3-3202-0bdc-fd62",
       "previous": "2c2cd6ae-61bc-11ee-89fa-0242ac120005"
      },
      {
       "current": "35c35f52-55a3-11e7-b0b2-00163e9c0e35-3-e2de-8a27-98e3",
       "next": "a33430b0-9327-11ea-8d02-0242ac120007-3-3202-0bdc-fd62",
       "previous": "8a48dae0-98a1-11ea-8d02-0242ac120007-3-4da2-9c77-127e"
      },
      {
       "current": "35c35f52-55a3-11e7-b0b2-00163e9c0e35-3-e2de-8a27-98e3",
       "next": "a33430b0-9327-11ea-8d02-0242ac120007-3-3202-0bdc-fd62",
       "previous": "a2611ca6-7876-11ee-89fa-0242ac120005"
      },
      {
       "current": "35c35f52-55a3-11e7-b0b2-00163e9c0e35-4-e2de-8a27-98e3-d795",
       "next": "a33430b0-9327-11ea-8d02-0242ac120007-3-3202-0bdc-fd62",
       "previous": "8a48dae0-98a1-11ea-8d02-0242ac120007-3-4da2-9c77-127e"
      },
      {
       "current": "35c35f52-55a3-11e7-b0b2-00163e9c0e35-5-e2de-8a27-98e3-d795-f20e",
       "next": "a33430b0-9327-11ea-8d02-0242ac120007-4-3202-0bdc-fd62-8ce4",
       "previous": "8a48dae0-98a1-11ea-8d02-0242ac120007-4-4da2-9c77-127e-e560"
      },
      {
       "current": "35c35f52-55a3-11e7-b0b2-00163e9c0e35-6-e2de-8a27-98e3-d795-f20e-5402",
       "next": "a33430b0-9327-11ea-8d02-0242ac120007-5-3202-0bdc-fd62-8ce4-2f76",
       "previous": "8a48dae0-98a1-11ea-8d02-0242ac120007-5-4da2-9c77-127e-e560-7d7f"
      },
      {
       "current": "35c35f52-55a3-11e7-b0b2-00163e9c0e35-7-e2de-8a27-98e3-d795-f20e-5402-9e28",
       "next": "a33430b0-9327-11ea-8d02-0242ac120007-6-3202-0bdc-fd62-8ce4-2f76-c4af",
       "previous": "8a48dae0-98a1-11ea-8d02-0242ac120007-6-4da2-9c77-127e-e560-7d7f-352e"
      }
     ],
     "next": "a33430b0-9327-11ea-8d02-0242ac120007-7-3202-0bdc-fd62-8ce4-2f76-c4af-418d",
     "previous": "8a48dae0-98a1-11ea-8d02-0242ac120007-7-4da2-9c77-127e-e560-7d7f-352e-8012"
    }
   },
   "source": [
    "# Inventoryファイルを生成する。"
   ]
  },
  {
   "cell_type": "code",
   "execution_count": null,
   "metadata": {
    "lc_cell_meme": {
     "current": "a33430b0-9327-11ea-8d02-0242ac120007-7-3202-0bdc-fd62-8ce4-2f76-c4af-418d",
     "history": [
      {
       "current": "a33430b0-9327-11ea-8d02-0242ac120007",
       "next": "35c360f6-55a3-11e7-b0b2-00163e9c0e35",
       "previous": "35c35f52-55a3-11e7-b0b2-00163e9c0e35"
      },
      {
       "current": "a33430b0-9327-11ea-8d02-0242ac120007-1-3202",
       "next": "9c0b8624-959f-11ea-8d02-0242ac120007",
       "previous": "35c35f52-55a3-11e7-b0b2-00163e9c0e35"
      },
      {
       "current": "a33430b0-9327-11ea-8d02-0242ac120007-2-3202-0bdc",
       "next": "9c0b8624-959f-11ea-8d02-0242ac120007-1-8098",
       "previous": "35c35f52-55a3-11e7-b0b2-00163e9c0e35-1-e2de"
      },
      {
       "current": "a33430b0-9327-11ea-8d02-0242ac120007-2-3202-0bdc",
       "next": "9c0b8624-959f-11ea-8d02-0242ac120007-2-8098-a371",
       "previous": "35c35f52-55a3-11e7-b0b2-00163e9c0e35-2-e2de-8a27"
      },
      {
       "current": "a33430b0-9327-11ea-8d02-0242ac120007-3-3202-0bdc-fd62",
       "next": "27f1be96-f4f0-11eb-b29f-0242ac120008",
       "previous": "35c35f52-55a3-11e7-b0b2-00163e9c0e35-2-e2de-8a27"
      },
      {
       "current": "a33430b0-9327-11ea-8d02-0242ac120007-3-3202-0bdc-fd62",
       "next": "27f1be96-f4f0-11eb-b29f-0242ac120008-1-0b6c",
       "previous": "35c35f52-55a3-11e7-b0b2-00163e9c0e35-3-e2de-8a27-98e3"
      },
      {
       "current": "a33430b0-9327-11ea-8d02-0242ac120007-4-3202-0bdc-fd62-8ce4",
       "next": "73b1e49c-61bc-11ee-89fa-0242ac120005",
       "previous": "35c35f52-55a3-11e7-b0b2-00163e9c0e35-3-e2de-8a27-98e3"
      },
      {
       "current": "a33430b0-9327-11ea-8d02-0242ac120007-5-3202-0bdc-fd62-8ce4-2f76",
       "next": "73b1e49c-61bc-11ee-89fa-0242ac120005-1-678d",
       "previous": "35c35f52-55a3-11e7-b0b2-00163e9c0e35-4-e2de-8a27-98e3-d795"
      },
      {
       "current": "a33430b0-9327-11ea-8d02-0242ac120007-6-3202-0bdc-fd62-8ce4-2f76-c4af",
       "next": "73b1e49c-61bc-11ee-89fa-0242ac120005-2-678d-8e29",
       "previous": "35c35f52-55a3-11e7-b0b2-00163e9c0e35-5-e2de-8a27-98e3-d795-f20e"
      },
      {
       "current": "a33430b0-9327-11ea-8d02-0242ac120007-7-3202-0bdc-fd62-8ce4-2f76-c4af-418d",
       "next": "73b1e49c-61bc-11ee-89fa-0242ac120005-3-678d-8e29-aa18",
       "previous": "35c35f52-55a3-11e7-b0b2-00163e9c0e35-6-e2de-8a27-98e3-d795-f20e-5402"
      }
     ],
     "next": "73b1e49c-61bc-11ee-89fa-0242ac120005-4-678d-8e29-aa18-5ace",
     "previous": "35c35f52-55a3-11e7-b0b2-00163e9c0e35-7-e2de-8a27-98e3-d795-f20e-5402-9e28"
    }
   },
   "outputs": [],
   "source": [
    "node_user='xxxxx'\n",
    "cephadmin_user='cephadmin'\n",
    "node_key='~/.ssh/id_ras'\n",
    "proxy_user='xxxxx'\n",
    "proxy_key='~/.ssh/id_ras'"
   ]
  },
  {
   "cell_type": "code",
   "execution_count": null,
   "metadata": {
    "lc_cell_meme": {
     "current": "73b1e49c-61bc-11ee-89fa-0242ac120005-4-678d-8e29-aa18-5ace",
     "history": [
      {
       "current": "73b1e49c-61bc-11ee-89fa-0242ac120005",
       "next": "35c360f6-55a3-11e7-b0b2-00163e9c0e35-3-4a79-f9ba-754f",
       "previous": "9c0b8624-959f-11ea-8d02-0242ac120007-3-8098-a371-0b4a"
      },
      {
       "current": "73b1e49c-61bc-11ee-89fa-0242ac120005-1-678d",
       "next": "35c360f6-55a3-11e7-b0b2-00163e9c0e35-3-4a79-f9ba-754f",
       "previous": "a33430b0-9327-11ea-8d02-0242ac120007-3-3202-0bdc-fd62"
      },
      {
       "current": "73b1e49c-61bc-11ee-89fa-0242ac120005-2-678d-8e29",
       "next": "35c360f6-55a3-11e7-b0b2-00163e9c0e35-4-4a79-f9ba-754f-e4ef",
       "previous": "a33430b0-9327-11ea-8d02-0242ac120007-4-3202-0bdc-fd62-8ce4"
      },
      {
       "current": "73b1e49c-61bc-11ee-89fa-0242ac120005-3-678d-8e29-aa18",
       "next": "35c360f6-55a3-11e7-b0b2-00163e9c0e35-5-4a79-f9ba-754f-e4ef-6cae",
       "previous": "a33430b0-9327-11ea-8d02-0242ac120007-5-3202-0bdc-fd62-8ce4-2f76"
      },
      {
       "current": "73b1e49c-61bc-11ee-89fa-0242ac120005-4-678d-8e29-aa18-5ace",
       "next": "35c360f6-55a3-11e7-b0b2-00163e9c0e35-6-4a79-f9ba-754f-e4ef-6cae-9ecd",
       "previous": "a33430b0-9327-11ea-8d02-0242ac120007-6-3202-0bdc-fd62-8ce4-2f76-c4af"
      }
     ],
     "next": "35c360f6-55a3-11e7-b0b2-00163e9c0e35-7-4a79-f9ba-754f-e4ef-6cae-9ecd-13c7",
     "previous": "a33430b0-9327-11ea-8d02-0242ac120007-7-3202-0bdc-fd62-8ce4-2f76-c4af-418d"
    }
   },
   "outputs": [],
   "source": [
    "bootstrap_ip = bootstrap_node['prov_ip']"
   ]
  },
  {
   "cell_type": "code",
   "execution_count": null,
   "metadata": {
    "ExecuteTime": {
     "end_time": "2017-06-29T08:50:39.909299Z",
     "start_time": "2017-06-29T08:50:39.762658Z"
    },
    "lc_cell_meme": {
     "current": "35c360f6-55a3-11e7-b0b2-00163e9c0e35-7-4a79-f9ba-754f-e4ef-6cae-9ecd-13c7",
     "history": [
      {
       "current": "35c360f6-55a3-11e7-b0b2-00163e9c0e35",
       "next": "35c362a4-55a3-11e7-b0b2-00163e9c0e35",
       "previous": "35c35f52-55a3-11e7-b0b2-00163e9c0e35"
      },
      {
       "current": "35c360f6-55a3-11e7-b0b2-00163e9c0e35",
       "next": "35c362a4-55a3-11e7-b0b2-00163e9c0e35",
       "previous": "a33430b0-9327-11ea-8d02-0242ac120007"
      },
      {
       "current": "35c360f6-55a3-11e7-b0b2-00163e9c0e35-1-4a79",
       "next": "35c362a4-55a3-11e7-b0b2-00163e9c0e35",
       "previous": "9c0b88cc-959f-11ea-8d02-0242ac120007"
      },
      {
       "current": "35c360f6-55a3-11e7-b0b2-00163e9c0e35-2-4a79-f9ba",
       "next": "35c362a4-55a3-11e7-b0b2-00163e9c0e35-1-3f0a",
       "previous": "9c0b88cc-959f-11ea-8d02-0242ac120007-1-b077"
      },
      {
       "current": "35c360f6-55a3-11e7-b0b2-00163e9c0e35-2-4a79-f9ba",
       "next": "35c362a4-55a3-11e7-b0b2-00163e9c0e35-2-3f0a-3633",
       "previous": "9c0b88cc-959f-11ea-8d02-0242ac120007-2-b077-046d"
      },
      {
       "current": "35c360f6-55a3-11e7-b0b2-00163e9c0e35-2-4a79-f9ba",
       "next": "7dae8996-9686-11ea-8d02-0242ac120007-2-20c5-a0b0",
       "previous": "9c0b88cc-959f-11ea-8d02-0242ac120007-2-b077-046d"
      },
      {
       "current": "35c360f6-55a3-11e7-b0b2-00163e9c0e35-2-4a79-f9ba",
       "next": "35c362a4-55a3-11e7-b0b2-00163e9c0e35-2-89a7-98f2",
       "previous": "9c0b88cc-959f-11ea-8d02-0242ac120007-2-b077-046d"
      },
      {
       "current": "35c360f6-55a3-11e7-b0b2-00163e9c0e35-3-4a79-f9ba-754f",
       "next": "35c362a4-55a3-11e7-b0b2-00163e9c0e35-2-89a7-98f2",
       "previous": "9c0b8624-959f-11ea-8d02-0242ac120007-2-8098-a371"
      },
      {
       "current": "35c360f6-55a3-11e7-b0b2-00163e9c0e35-3-4a79-f9ba-754f",
       "next": "35c362a4-55a3-11e7-b0b2-00163e9c0e35-3-89a7-98f2-5cf2",
       "previous": "9c0b8624-959f-11ea-8d02-0242ac120007-3-8098-a371-0b4a"
      },
      {
       "current": "35c360f6-55a3-11e7-b0b2-00163e9c0e35-4-4a79-f9ba-754f-e4ef",
       "next": "35c362a4-55a3-11e7-b0b2-00163e9c0e35-3-89a7-98f2-5cf2",
       "previous": "73b1e49c-61bc-11ee-89fa-0242ac120005"
      },
      {
       "current": "35c360f6-55a3-11e7-b0b2-00163e9c0e35-5-4a79-f9ba-754f-e4ef-6cae",
       "next": "35c362a4-55a3-11e7-b0b2-00163e9c0e35-4-89a7-98f2-5cf2-7dbf",
       "previous": "73b1e49c-61bc-11ee-89fa-0242ac120005-1-678d"
      },
      {
       "current": "35c360f6-55a3-11e7-b0b2-00163e9c0e35-5-4a79-f9ba-754f-e4ef-6cae",
       "next": "35c362a4-55a3-11e7-b0b2-00163e9c0e35-5-89a7-98f2-5cf2-7dbf-b1c1",
       "previous": "73b1e49c-61bc-11ee-89fa-0242ac120005-2-678d-8e29"
      },
      {
       "current": "35c360f6-55a3-11e7-b0b2-00163e9c0e35-6-4a79-f9ba-754f-e4ef-6cae-9ecd",
       "next": "e0a072bc-22fa-11ef-ad2f-0242ac120005",
       "previous": "73b1e49c-61bc-11ee-89fa-0242ac120005-2-678d-8e29"
      },
      {
       "current": "35c360f6-55a3-11e7-b0b2-00163e9c0e35-7-4a79-f9ba-754f-e4ef-6cae-9ecd-13c7",
       "next": "e0a072bc-22fa-11ef-ad2f-0242ac120005-1-cdc1",
       "previous": "73b1e49c-61bc-11ee-89fa-0242ac120005-3-678d-8e29-aa18"
      }
     ],
     "next": "e0a072bc-22fa-11ef-ad2f-0242ac120005-2-cdc1-f4b5",
     "previous": "73b1e49c-61bc-11ee-89fa-0242ac120005-4-678d-8e29-aa18-5ace"
    },
    "run_control": {
     "frozen": true
    },
    "scrolled": false
   },
   "outputs": [],
   "source": [
    "import os\n",
    "\n",
    "with open( os.path.join(temp_dir, \"hosts\"), 'w') as f:\n",
    "\n",
    "    f.write('''[ceph_admin]\n",
    "{ceph_admin_ip} ansible_user={proxy_user} ansible_ssh_private_key_file={proxy_key} ansible_python_interpreter=/usr/bin/python3\n",
    "'''.format(ceph_admin_ip=ceph_admin_ip, proxy_user=proxy_user, proxy_key=proxy_key, bootstrap_ip=bootstrap_ip))\n",
    "\n",
    "    f.write('''[bootstrap]\n",
    "{node_ip} ansible_user={node_user} ansible_ssh_private_key_file={node_key} ansible_ssh_common_args='-o ControlMaster=auto -o StrictHostKeyChecking=no -o ControlPersist=30m -o ProxyCommand=\"ssh -W %h:%p -i {proxy_key} -q {proxy_user}@{ceph_admin_ip}\"' ansible_python_interpreter=/usr/bin/python3\n",
    "'''.format(ceph_admin_ip=ceph_admin_ip, node_ip=bootstrap_ip, node_key=node_key,\n",
    "           node_user=node_user, proxy_user=proxy_user, proxy_key=proxy_key))    \n",
    "\n",
    "    f.write('''[openstack_ctl]\n",
    "{openstack_cmn}\n",
    "'''.format(openstack_cmn = provisioning_vip))\n",
    "\n",
    "hosts = temp_dir + \"/hosts\"\n",
    "\n",
    "!cat $hosts"
   ]
  },
  {
   "cell_type": "code",
   "execution_count": null,
   "metadata": {
    "lc_cell_meme": {
     "current": "e0a072bc-22fa-11ef-ad2f-0242ac120005-2-cdc1-f4b5",
     "history": [
      {
       "current": "e0a072bc-22fa-11ef-ad2f-0242ac120005-1-cdc1",
       "next": "35c362a4-55a3-11e7-b0b2-00163e9c0e35-5-89a7-98f2-5cf2-7dbf-b1c1",
       "previous": "35c360f6-55a3-11e7-b0b2-00163e9c0e35-5-4a79-f9ba-754f-e4ef-6cae"
      },
      {
       "current": "e0a072bc-22fa-11ef-ad2f-0242ac120005-2-cdc1-f4b5",
       "next": "35c362a4-55a3-11e7-b0b2-00163e9c0e35-6-89a7-98f2-5cf2-7dbf-b1c1-5051",
       "previous": "35c360f6-55a3-11e7-b0b2-00163e9c0e35-6-4a79-f9ba-754f-e4ef-6cae-9ecd"
      }
     ],
     "next": "35c362a4-55a3-11e7-b0b2-00163e9c0e35-7-89a7-98f2-5cf2-7dbf-b1c1-5051-fd12",
     "previous": "35c360f6-55a3-11e7-b0b2-00163e9c0e35-7-4a79-f9ba-754f-e4ef-6cae-9ecd-13c7"
    }
   },
   "outputs": [],
   "source": [
    "%env ANSIBLE_INVENTORY={hosts}"
   ]
  },
  {
   "cell_type": "markdown",
   "metadata": {
    "lc_cell_meme": {
     "current": "35c362a4-55a3-11e7-b0b2-00163e9c0e35-7-89a7-98f2-5cf2-7dbf-b1c1-5051-fd12",
     "history": [
      {
       "current": "35c362a4-55a3-11e7-b0b2-00163e9c0e35",
       "next": "35c36448-55a3-11e7-b0b2-00163e9c0e35",
       "previous": "35c360f6-55a3-11e7-b0b2-00163e9c0e35"
      },
      {
       "current": "35c362a4-55a3-11e7-b0b2-00163e9c0e35",
       "next": "35c36448-55a3-11e7-b0b2-00163e9c0e35",
       "previous": "4cd5b0cc-7ef5-11ea-a926-0242ac120004"
      },
      {
       "current": "35c362a4-55a3-11e7-b0b2-00163e9c0e35",
       "next": "35c36448-55a3-11e7-b0b2-00163e9c0e35",
       "previous": "db546a28-7ef5-11ea-a926-0242ac120004"
      },
      {
       "current": "35c362a4-55a3-11e7-b0b2-00163e9c0e35",
       "next": "35c36448-55a3-11e7-b0b2-00163e9c0e35",
       "previous": "4cd5af28-7ef5-11ea-a926-0242ac120004"
      },
      {
       "current": "35c362a4-55a3-11e7-b0b2-00163e9c0e35",
       "next": "35c36448-55a3-11e7-b0b2-00163e9c0e35",
       "previous": "7d464504-9107-11ea-8d02-0242ac120007"
      },
      {
       "current": "35c362a4-55a3-11e7-b0b2-00163e9c0e35",
       "next": "35c36448-55a3-11e7-b0b2-00163e9c0e35",
       "previous": "bd797188-910b-11ea-8d02-0242ac120007"
      },
      {
       "current": "35c362a4-55a3-11e7-b0b2-00163e9c0e35",
       "next": "35c36448-55a3-11e7-b0b2-00163e9c0e35",
       "previous": "70b95056-9111-11ea-8d02-0242ac120007"
      },
      {
       "current": "35c362a4-55a3-11e7-b0b2-00163e9c0e35",
       "next": "35c36448-55a3-11e7-b0b2-00163e9c0e35",
       "previous": "bd797188-910b-11ea-8d02-0242ac120007"
      },
      {
       "current": "35c362a4-55a3-11e7-b0b2-00163e9c0e35",
       "next": "bd797188-910b-11ea-8d02-0242ac120007",
       "previous": "4cd5af28-7ef5-11ea-a926-0242ac120004"
      },
      {
       "current": "35c362a4-55a3-11e7-b0b2-00163e9c0e35",
       "next": "484c7376-935c-11ea-8d02-0242ac120007",
       "previous": "4cd5af28-7ef5-11ea-a926-0242ac120004"
      },
      {
       "current": "35c362a4-55a3-11e7-b0b2-00163e9c0e35-1-89a7",
       "next": "bd797188-910b-11ea-8d02-0242ac120007",
       "previous": "4cd5af28-7ef5-11ea-a926-0242ac120004"
      },
      {
       "current": "35c362a4-55a3-11e7-b0b2-00163e9c0e35-2-89a7-98f2",
       "next": "bd797188-910b-11ea-8d02-0242ac120007-1-728a",
       "previous": "4cd5af28-7ef5-11ea-a926-0242ac120004-1-726b"
      },
      {
       "current": "35c362a4-55a3-11e7-b0b2-00163e9c0e35-2-89a7-98f2",
       "next": "bd797188-910b-11ea-8d02-0242ac120007-2-728a-254c",
       "previous": "4cd5af28-7ef5-11ea-a926-0242ac120004-2-726b-a0d6"
      },
      {
       "current": "35c362a4-55a3-11e7-b0b2-00163e9c0e35-2-89a7-98f2",
       "next": "bd797188-910b-11ea-8d02-0242ac120007-2-728a-254c",
       "previous": "35c360f6-55a3-11e7-b0b2-00163e9c0e35-2-4a79-f9ba"
      },
      {
       "current": "35c362a4-55a3-11e7-b0b2-00163e9c0e35-3-89a7-98f2-5cf2",
       "next": "ef4d2888-aa17-11ea-9ad4-0242ac120006-1-42b7",
       "previous": "35c360f6-55a3-11e7-b0b2-00163e9c0e35-2-4a79-f9ba"
      },
      {
       "current": "35c362a4-55a3-11e7-b0b2-00163e9c0e35-4-89a7-98f2-5cf2-7dbf",
       "next": "ef4d2888-aa17-11ea-9ad4-0242ac120006-2-42b7-b07a",
       "previous": "35c360f6-55a3-11e7-b0b2-00163e9c0e35-3-4a79-f9ba-754f"
      },
      {
       "current": "35c362a4-55a3-11e7-b0b2-00163e9c0e35-5-89a7-98f2-5cf2-7dbf-b1c1",
       "next": "ef4d2888-aa17-11ea-9ad4-0242ac120006-3-42b7-b07a-e83e",
       "previous": "35c360f6-55a3-11e7-b0b2-00163e9c0e35-4-4a79-f9ba-754f-e4ef"
      },
      {
       "current": "35c362a4-55a3-11e7-b0b2-00163e9c0e35-5-89a7-98f2-5cf2-7dbf-b1c1",
       "next": "ef4d2888-aa17-11ea-9ad4-0242ac120006-4-42b7-b07a-e83e-aadf",
       "previous": "35c360f6-55a3-11e7-b0b2-00163e9c0e35-5-4a79-f9ba-754f-e4ef-6cae"
      },
      {
       "current": "35c362a4-55a3-11e7-b0b2-00163e9c0e35-6-89a7-98f2-5cf2-7dbf-b1c1-5051",
       "next": "ef4d2888-aa17-11ea-9ad4-0242ac120006-4-42b7-b07a-e83e-aadf",
       "previous": "e0a072bc-22fa-11ef-ad2f-0242ac120005"
      },
      {
       "current": "35c362a4-55a3-11e7-b0b2-00163e9c0e35-7-89a7-98f2-5cf2-7dbf-b1c1-5051-fd12",
       "next": "ef4d2888-aa17-11ea-9ad4-0242ac120006-5-42b7-b07a-e83e-aadf-d4ba",
       "previous": "e0a072bc-22fa-11ef-ad2f-0242ac120005-1-cdc1"
      }
     ],
     "next": "ef4d2888-aa17-11ea-9ad4-0242ac120006-6-42b7-b07a-e83e-aadf-d4ba-bde5",
     "previous": "e0a072bc-22fa-11ef-ad2f-0242ac120005-2-cdc1-f4b5"
    }
   },
   "source": [
    "## 疎通確認\n",
    "以下コマンドを実行し、OpeHubからCephAdmin経由で、Cephノードに疎通することを確認する。"
   ]
  },
  {
   "cell_type": "code",
   "execution_count": null,
   "metadata": {
    "lc_cell_meme": {
     "current": "ef4d2888-aa17-11ea-9ad4-0242ac120006-6-42b7-b07a-e83e-aadf-d4ba-bde5",
     "history": [
      {
       "current": "ef4d2888-aa17-11ea-9ad4-0242ac120006-1-42b7",
       "next": "ac56a252-95bd-11ea-8d02-0242ac120007-1-86ee",
       "previous": "bd797188-910b-11ea-8d02-0242ac120007-1-728a"
      },
      {
       "current": "ef4d2888-aa17-11ea-9ad4-0242ac120006-1-42b7",
       "next": "ac56a252-95bd-11ea-8d02-0242ac120007-2-86ee-3a22",
       "previous": "bd797188-910b-11ea-8d02-0242ac120007-2-728a-254c"
      },
      {
       "current": "ef4d2888-aa17-11ea-9ad4-0242ac120006-1-42b7",
       "next": "bd797188-910b-11ea-8d02-0242ac120007-2-728a-254c",
       "previous": "35c362a4-55a3-11e7-b0b2-00163e9c0e35-2-89a7-98f2"
      },
      {
       "current": "ef4d2888-aa17-11ea-9ad4-0242ac120006-2-42b7-b07a",
       "next": "e3856a36-df01-11eb-b29f-0242ac120008",
       "previous": "35c362a4-55a3-11e7-b0b2-00163e9c0e35-2-89a7-98f2"
      },
      {
       "current": "ef4d2888-aa17-11ea-9ad4-0242ac120006-2-42b7-b07a",
       "next": "e3856a36-df01-11eb-b29f-0242ac120008-1-d6f1",
       "previous": "35c362a4-55a3-11e7-b0b2-00163e9c0e35-3-89a7-98f2-5cf2"
      },
      {
       "current": "ef4d2888-aa17-11ea-9ad4-0242ac120006-2-42b7-b07a",
       "next": "bd797188-910b-11ea-8d02-0242ac120007-3-728a-254c-2f4c",
       "previous": "35c362a4-55a3-11e7-b0b2-00163e9c0e35-3-89a7-98f2-5cf2"
      },
      {
       "current": "ef4d2888-aa17-11ea-9ad4-0242ac120006-3-42b7-b07a-e83e",
       "next": "91d0d70c-61bd-11ee-89fa-0242ac120005",
       "previous": "35c362a4-55a3-11e7-b0b2-00163e9c0e35-3-89a7-98f2-5cf2"
      },
      {
       "current": "ef4d2888-aa17-11ea-9ad4-0242ac120006-4-42b7-b07a-e83e-aadf",
       "next": "91d0d70c-61bd-11ee-89fa-0242ac120005-1-f8a6",
       "previous": "35c362a4-55a3-11e7-b0b2-00163e9c0e35-4-89a7-98f2-5cf2-7dbf"
      },
      {
       "current": "ef4d2888-aa17-11ea-9ad4-0242ac120006-5-42b7-b07a-e83e-aadf-d4ba",
       "next": "91d0d70c-61bd-11ee-89fa-0242ac120005-2-f8a6-cb40",
       "previous": "35c362a4-55a3-11e7-b0b2-00163e9c0e35-5-89a7-98f2-5cf2-7dbf-b1c1"
      },
      {
       "current": "ef4d2888-aa17-11ea-9ad4-0242ac120006-6-42b7-b07a-e83e-aadf-d4ba-bde5",
       "next": "91d0d70c-61bd-11ee-89fa-0242ac120005-3-f8a6-cb40-8e48",
       "previous": "35c362a4-55a3-11e7-b0b2-00163e9c0e35-6-89a7-98f2-5cf2-7dbf-b1c1-5051"
      }
     ],
     "next": "91d0d70c-61bd-11ee-89fa-0242ac120005-4-f8a6-cb40-8e48-41b9",
     "previous": "35c362a4-55a3-11e7-b0b2-00163e9c0e35-7-89a7-98f2-5cf2-7dbf-b1c1-5051-fd12"
    }
   },
   "outputs": [],
   "source": [
    "!ansible -b -m shell -a 'hostname' ceph_admin"
   ]
  },
  {
   "cell_type": "code",
   "execution_count": null,
   "metadata": {
    "lc_cell_meme": {
     "current": "91d0d70c-61bd-11ee-89fa-0242ac120005-4-f8a6-cb40-8e48-41b9",
     "history": [
      {
       "current": "91d0d70c-61bd-11ee-89fa-0242ac120005",
       "next": "ac56a252-95bd-11ea-8d02-0242ac120007-3-86ee-3a22-9a71",
       "previous": "21d849e2-dfd0-11eb-b29f-0242ac120008-1-ee1b"
      },
      {
       "current": "91d0d70c-61bd-11ee-89fa-0242ac120005",
       "next": "ac56a252-95bd-11ea-8d02-0242ac120007-3-86ee-3a22-9a71",
       "previous": "bd797188-910b-11ea-8d02-0242ac120007-3-728a-254c-2f4c"
      },
      {
       "current": "91d0d70c-61bd-11ee-89fa-0242ac120005",
       "next": "ac56a252-95bd-11ea-8d02-0242ac120007-3-86ee-3a22-9a71",
       "previous": "43f4ca3e-7950-11ee-89fa-0242ac120005"
      },
      {
       "current": "91d0d70c-61bd-11ee-89fa-0242ac120005",
       "next": "93aacc66-8839-11ee-91d3-0242ac120006",
       "previous": "43f4ca3e-7950-11ee-89fa-0242ac120005"
      },
      {
       "current": "91d0d70c-61bd-11ee-89fa-0242ac120005-1-f8a6",
       "next": "93aacc66-8839-11ee-91d3-0242ac120006",
       "previous": "ef4d2888-aa17-11ea-9ad4-0242ac120006-2-42b7-b07a"
      },
      {
       "current": "91d0d70c-61bd-11ee-89fa-0242ac120005-2-f8a6-cb40",
       "next": "93aacc66-8839-11ee-91d3-0242ac120006-1-01bf",
       "previous": "ef4d2888-aa17-11ea-9ad4-0242ac120006-3-42b7-b07a-e83e"
      },
      {
       "current": "91d0d70c-61bd-11ee-89fa-0242ac120005-3-f8a6-cb40-8e48",
       "next": "93aacc66-8839-11ee-91d3-0242ac120006-2-01bf-450d",
       "previous": "ef4d2888-aa17-11ea-9ad4-0242ac120006-4-42b7-b07a-e83e-aadf"
      },
      {
       "current": "91d0d70c-61bd-11ee-89fa-0242ac120005-4-f8a6-cb40-8e48-41b9",
       "next": "93aacc66-8839-11ee-91d3-0242ac120006-3-01bf-450d-c150",
       "previous": "ef4d2888-aa17-11ea-9ad4-0242ac120006-5-42b7-b07a-e83e-aadf-d4ba"
      }
     ],
     "next": "93aacc66-8839-11ee-91d3-0242ac120006-4-01bf-450d-c150-c836",
     "previous": "ef4d2888-aa17-11ea-9ad4-0242ac120006-6-42b7-b07a-e83e-aadf-d4ba-bde5"
    },
    "scrolled": true
   },
   "outputs": [],
   "source": [
    "!ansible -b -m shell -a 'hostname' bootstrap"
   ]
  },
  {
   "cell_type": "markdown",
   "metadata": {
    "lc_cell_meme": {
     "current": "93aacc66-8839-11ee-91d3-0242ac120006-4-01bf-450d-c150-c836",
     "history": [
      {
       "current": "93aacc66-8839-11ee-91d3-0242ac120006",
       "next": "93aace00-8839-11ee-91d3-0242ac120006",
       "previous": "91d0d70c-61bd-11ee-89fa-0242ac120005"
      },
      {
       "current": "93aacc66-8839-11ee-91d3-0242ac120006-1-01bf",
       "next": "1839aefa-883c-11ee-91d3-0242ac120006",
       "previous": "91d0d70c-61bd-11ee-89fa-0242ac120005"
      },
      {
       "current": "93aacc66-8839-11ee-91d3-0242ac120006-2-01bf-450d",
       "next": "1839aefa-883c-11ee-91d3-0242ac120006-1-e884",
       "previous": "91d0d70c-61bd-11ee-89fa-0242ac120005-1-f8a6"
      },
      {
       "current": "93aacc66-8839-11ee-91d3-0242ac120006-3-01bf-450d-c150",
       "next": "1839aefa-883c-11ee-91d3-0242ac120006-2-e884-210e",
       "previous": "91d0d70c-61bd-11ee-89fa-0242ac120005-2-f8a6-cb40"
      },
      {
       "current": "93aacc66-8839-11ee-91d3-0242ac120006-4-01bf-450d-c150-c836",
       "next": "1839aefa-883c-11ee-91d3-0242ac120006-3-e884-210e-cf4d",
       "previous": "91d0d70c-61bd-11ee-89fa-0242ac120005-3-f8a6-cb40-8e48"
      }
     ],
     "next": "1839aefa-883c-11ee-91d3-0242ac120006-4-e884-210e-cf4d-2f9b",
     "previous": "91d0d70c-61bd-11ee-89fa-0242ac120005-4-f8a6-cb40-8e48-41b9"
    }
   },
   "source": [
    "# MGR,MON,CrashサービスイメージのUpdate"
   ]
  },
  {
   "cell_type": "markdown",
   "metadata": {
    "lc_cell_meme": {
     "current": "1839aefa-883c-11ee-91d3-0242ac120006-4-e884-210e-cf4d-2f9b",
     "history": [
      {
       "current": "1839aefa-883c-11ee-91d3-0242ac120006-1-e884",
       "next": "93aace00-8839-11ee-91d3-0242ac120006",
       "previous": "93aacc66-8839-11ee-91d3-0242ac120006"
      },
      {
       "current": "1839aefa-883c-11ee-91d3-0242ac120006-2-e884-210e",
       "next": "93aace00-8839-11ee-91d3-0242ac120006-1-5be8",
       "previous": "93aacc66-8839-11ee-91d3-0242ac120006-1-01bf"
      },
      {
       "current": "1839aefa-883c-11ee-91d3-0242ac120006-3-e884-210e-cf4d",
       "next": "93aace00-8839-11ee-91d3-0242ac120006-2-5be8-fe60",
       "previous": "93aacc66-8839-11ee-91d3-0242ac120006-2-01bf-450d"
      },
      {
       "current": "1839aefa-883c-11ee-91d3-0242ac120006-4-e884-210e-cf4d-2f9b",
       "next": "93aace00-8839-11ee-91d3-0242ac120006-3-5be8-fe60-6c99",
       "previous": "93aacc66-8839-11ee-91d3-0242ac120006-3-01bf-450d-c150"
      }
     ],
     "next": "93aace00-8839-11ee-91d3-0242ac120006-4-5be8-fe60-6c99-648d",
     "previous": "93aacc66-8839-11ee-91d3-0242ac120006-4-01bf-450d-c150-c836"
    }
   },
   "source": [
    "## Update"
   ]
  },
  {
   "cell_type": "code",
   "execution_count": null,
   "metadata": {
    "lc_cell_meme": {
     "current": "93aace00-8839-11ee-91d3-0242ac120006-4-5be8-fe60-6c99-648d",
     "history": [
      {
       "current": "93aace00-8839-11ee-91d3-0242ac120006",
       "next": "93aace96-8839-11ee-91d3-0242ac120006",
       "previous": "93aacc66-8839-11ee-91d3-0242ac120006"
      },
      {
       "current": "93aace00-8839-11ee-91d3-0242ac120006-1-5be8",
       "next": "93aace96-8839-11ee-91d3-0242ac120006",
       "previous": "1839aefa-883c-11ee-91d3-0242ac120006"
      },
      {
       "current": "93aace00-8839-11ee-91d3-0242ac120006-2-5be8-fe60",
       "next": "93aace96-8839-11ee-91d3-0242ac120006-1-bb34",
       "previous": "1839aefa-883c-11ee-91d3-0242ac120006-1-e884"
      },
      {
       "current": "93aace00-8839-11ee-91d3-0242ac120006-3-5be8-fe60-6c99",
       "next": "93aace96-8839-11ee-91d3-0242ac120006-2-bb34-9291",
       "previous": "1839aefa-883c-11ee-91d3-0242ac120006-2-e884-210e"
      },
      {
       "current": "93aace00-8839-11ee-91d3-0242ac120006-4-5be8-fe60-6c99-648d",
       "next": "93aace96-8839-11ee-91d3-0242ac120006-3-bb34-9291-2eea",
       "previous": "1839aefa-883c-11ee-91d3-0242ac120006-3-e884-210e-cf4d"
      }
     ],
     "next": "93aace96-8839-11ee-91d3-0242ac120006-4-bb34-9291-2eea-6eb9",
     "previous": "1839aefa-883c-11ee-91d3-0242ac120006-4-e884-210e-cf4d-2f9b"
    }
   },
   "outputs": [],
   "source": [
    "# 更新対象Cephリポジトリ指定\n",
    "ceph_image = 'repository:5000/ceph/ceph:v17'"
   ]
  },
  {
   "cell_type": "code",
   "execution_count": null,
   "metadata": {
    "lc_cell_meme": {
     "current": "93aace96-8839-11ee-91d3-0242ac120006-4-bb34-9291-2eea-6eb9",
     "history": [
      {
       "current": "93aace96-8839-11ee-91d3-0242ac120006",
       "next": "93aacf04-8839-11ee-91d3-0242ac120006",
       "previous": "93aace00-8839-11ee-91d3-0242ac120006"
      },
      {
       "current": "93aace96-8839-11ee-91d3-0242ac120006-1-bb34",
       "next": "1839b080-883c-11ee-91d3-0242ac120006",
       "previous": "93aace00-8839-11ee-91d3-0242ac120006"
      },
      {
       "current": "93aace96-8839-11ee-91d3-0242ac120006-2-bb34-9291",
       "next": "1839b080-883c-11ee-91d3-0242ac120006-1-4996",
       "previous": "93aace00-8839-11ee-91d3-0242ac120006-1-5be8"
      },
      {
       "current": "93aace96-8839-11ee-91d3-0242ac120006-3-bb34-9291-2eea",
       "next": "1839b080-883c-11ee-91d3-0242ac120006-2-4996-d6b2",
       "previous": "93aace00-8839-11ee-91d3-0242ac120006-2-5be8-fe60"
      },
      {
       "current": "93aace96-8839-11ee-91d3-0242ac120006-4-bb34-9291-2eea-6eb9",
       "next": "1839b080-883c-11ee-91d3-0242ac120006-3-4996-d6b2-8e83",
       "previous": "93aace00-8839-11ee-91d3-0242ac120006-3-5be8-fe60-6c99"
      }
     ],
     "next": "1839b080-883c-11ee-91d3-0242ac120006-4-4996-d6b2-8e83-7e25",
     "previous": "93aace00-8839-11ee-91d3-0242ac120006-4-5be8-fe60-6c99-648d"
    }
   },
   "outputs": [],
   "source": [
    "!ansible -b -m shell -a \"cephadm shell -- ceph orch upgrade start --image $ceph_image --daemon-types mgr,mon,crash\" bootstrap"
   ]
  },
  {
   "cell_type": "markdown",
   "metadata": {
    "lc_cell_meme": {
     "current": "1839b080-883c-11ee-91d3-0242ac120006-4-4996-d6b2-8e83-7e25",
     "history": [
      {
       "current": "1839b080-883c-11ee-91d3-0242ac120006",
       "next": "1839b116-883c-11ee-91d3-0242ac120006",
       "previous": "93aace96-8839-11ee-91d3-0242ac120006"
      },
      {
       "current": "1839b080-883c-11ee-91d3-0242ac120006-1-4996",
       "next": "bac16386-883f-11ee-91d3-0242ac120006",
       "previous": "93aace96-8839-11ee-91d3-0242ac120006"
      },
      {
       "current": "1839b080-883c-11ee-91d3-0242ac120006-2-4996-d6b2",
       "next": "bac16386-883f-11ee-91d3-0242ac120006-1-c2c2",
       "previous": "93aace96-8839-11ee-91d3-0242ac120006-1-bb34"
      },
      {
       "current": "1839b080-883c-11ee-91d3-0242ac120006-3-4996-d6b2-8e83",
       "next": "bac16386-883f-11ee-91d3-0242ac120006-2-c2c2-1b84",
       "previous": "93aace96-8839-11ee-91d3-0242ac120006-2-bb34-9291"
      },
      {
       "current": "1839b080-883c-11ee-91d3-0242ac120006-4-4996-d6b2-8e83-7e25",
       "next": "bac16386-883f-11ee-91d3-0242ac120006-3-c2c2-1b84-e790",
       "previous": "93aace96-8839-11ee-91d3-0242ac120006-3-bb34-9291-2eea"
      }
     ],
     "next": "bac16386-883f-11ee-91d3-0242ac120006-4-c2c2-1b84-e790-98da",
     "previous": "93aace96-8839-11ee-91d3-0242ac120006-4-bb34-9291-2eea-6eb9"
    }
   },
   "source": [
    "## Update完了確認"
   ]
  },
  {
   "cell_type": "code",
   "execution_count": null,
   "metadata": {
    "lc_cell_meme": {
     "current": "bac16386-883f-11ee-91d3-0242ac120006-4-c2c2-1b84-e790-98da",
     "history": [
      {
       "current": "bac16386-883f-11ee-91d3-0242ac120006",
       "next": "bac1644e-883f-11ee-91d3-0242ac120006",
       "previous": "1839b080-883c-11ee-91d3-0242ac120006"
      },
      {
       "current": "bac16386-883f-11ee-91d3-0242ac120006-1-c2c2",
       "next": "35c581ba-55a3-11e7-b0b2-00163e9c0e35-3-f60b-133a-40ef",
       "previous": "1839b080-883c-11ee-91d3-0242ac120006"
      },
      {
       "current": "bac16386-883f-11ee-91d3-0242ac120006-2-c2c2-1b84",
       "next": "35c581ba-55a3-11e7-b0b2-00163e9c0e35-4-f60b-133a-40ef-6b3c",
       "previous": "1839b080-883c-11ee-91d3-0242ac120006-1-4996"
      },
      {
       "current": "bac16386-883f-11ee-91d3-0242ac120006-3-c2c2-1b84-e790",
       "next": "35c581ba-55a3-11e7-b0b2-00163e9c0e35-5-f60b-133a-40ef-6b3c-7cb4",
       "previous": "1839b080-883c-11ee-91d3-0242ac120006-2-4996-d6b2"
      },
      {
       "current": "bac16386-883f-11ee-91d3-0242ac120006-4-c2c2-1b84-e790-98da",
       "next": "35c581ba-55a3-11e7-b0b2-00163e9c0e35-6-f60b-133a-40ef-6b3c-7cb4-7b25",
       "previous": "1839b080-883c-11ee-91d3-0242ac120006-3-4996-d6b2-8e83"
      }
     ],
     "next": "35c581ba-55a3-11e7-b0b2-00163e9c0e35-7-f60b-133a-40ef-6b3c-7cb4-7b25-c71e",
     "previous": "1839b080-883c-11ee-91d3-0242ac120006-4-4996-d6b2-8e83-7e25"
    }
   },
   "outputs": [],
   "source": [
    "import time\n",
    "\n",
    "is_done = False\n",
    "while is_done == False:\n",
    "    ret = !ansible -b -m shell -a \"cephadm shell -- ceph orch upgrade status --format=json 2> /dev/null\" bootstrap\n",
    "    del ret[0:2]\n",
    "    stat_text = ''.join(ret)\n",
    "    stat = json.loads(stat_text)\n",
    "    if stat['in_progress'] == False:\n",
    "        print(\"Progress Done\")\n",
    "        is_done = True\n",
    "    else:\n",
    "        print(\"in_progress=true\")\n",
    "        time.sleep(5)"
   ]
  },
  {
   "cell_type": "markdown",
   "metadata": {
    "collapsed": true,
    "lc_cell_meme": {
     "current": "35c581ba-55a3-11e7-b0b2-00163e9c0e35-7-f60b-133a-40ef-6b3c-7cb4-7b25-c71e",
     "history": [
      {
       "current": "35c581ba-55a3-11e7-b0b2-00163e9c0e35",
       "next": "35c58340-55a3-11e7-b0b2-00163e9c0e35",
       "previous": "35c58034-55a3-11e7-b0b2-00163e9c0e35"
      },
      {
       "current": "35c581ba-55a3-11e7-b0b2-00163e9c0e35",
       "next": "35c58340-55a3-11e7-b0b2-00163e9c0e35",
       "previous": "35c51928-55a3-11e7-b0b2-00163e9c0e35"
      },
      {
       "current": "35c581ba-55a3-11e7-b0b2-00163e9c0e35",
       "next": "35c58340-55a3-11e7-b0b2-00163e9c0e35",
       "previous": "277a614c-47b9-11ea-a028-0242ac120005"
      },
      {
       "current": "35c581ba-55a3-11e7-b0b2-00163e9c0e35",
       "next": "35c58340-55a3-11e7-b0b2-00163e9c0e35",
       "previous": "35c51928-55a3-11e7-b0b2-00163e9c0e35"
      },
      {
       "current": "35c581ba-55a3-11e7-b0b2-00163e9c0e35",
       "next": "35c58340-55a3-11e7-b0b2-00163e9c0e35",
       "previous": "b8a85906-47b6-11ea-a028-0242ac120005"
      },
      {
       "current": "35c581ba-55a3-11e7-b0b2-00163e9c0e35",
       "next": "35c58340-55a3-11e7-b0b2-00163e9c0e35",
       "previous": "35c38fae-55a3-11e7-b0b2-00163e9c0e35"
      },
      {
       "current": "35c581ba-55a3-11e7-b0b2-00163e9c0e35",
       "next": "35c58340-55a3-11e7-b0b2-00163e9c0e35",
       "previous": "35c385a4-55a3-11e7-b0b2-00163e9c0e35"
      },
      {
       "current": "35c581ba-55a3-11e7-b0b2-00163e9c0e35",
       "next": "35c58340-55a3-11e7-b0b2-00163e9c0e35",
       "previous": "27c39180-935b-11ea-8d02-0242ac120007"
      },
      {
       "current": "35c581ba-55a3-11e7-b0b2-00163e9c0e35",
       "next": "35c58340-55a3-11e7-b0b2-00163e9c0e35",
       "previous": "35c385a4-55a3-11e7-b0b2-00163e9c0e35"
      },
      {
       "current": "35c581ba-55a3-11e7-b0b2-00163e9c0e35",
       "next": "35c58340-55a3-11e7-b0b2-00163e9c0e35",
       "previous": "b20d6ace-9684-11ea-8d02-0242ac120007"
      },
      {
       "current": "35c581ba-55a3-11e7-b0b2-00163e9c0e35",
       "next": "35c58340-55a3-11e7-b0b2-00163e9c0e35",
       "previous": "18b837c6-9686-11ea-8d02-0242ac120007"
      },
      {
       "current": "35c581ba-55a3-11e7-b0b2-00163e9c0e35",
       "next": "35c58340-55a3-11e7-b0b2-00163e9c0e35",
       "previous": "59de09f6-9686-11ea-8d02-0242ac120007"
      },
      {
       "current": "35c581ba-55a3-11e7-b0b2-00163e9c0e35",
       "next": "35c58340-55a3-11e7-b0b2-00163e9c0e35",
       "previous": "7dae8b30-9686-11ea-8d02-0242ac120007"
      },
      {
       "current": "35c581ba-55a3-11e7-b0b2-00163e9c0e35",
       "next": "35c58340-55a3-11e7-b0b2-00163e9c0e35",
       "previous": "789942dc-9692-11ea-8d02-0242ac120007"
      },
      {
       "current": "35c581ba-55a3-11e7-b0b2-00163e9c0e35",
       "next": "35c58340-55a3-11e7-b0b2-00163e9c0e35",
       "previous": "e95d003a-9697-11ea-8d02-0242ac120007"
      },
      {
       "current": "35c581ba-55a3-11e7-b0b2-00163e9c0e35",
       "next": "35c58340-55a3-11e7-b0b2-00163e9c0e35",
       "previous": "357fc83a-969d-11ea-8d02-0242ac120007"
      },
      {
       "current": "35c581ba-55a3-11e7-b0b2-00163e9c0e35",
       "next": "35c58340-55a3-11e7-b0b2-00163e9c0e35",
       "previous": "7dae86da-9686-11ea-8d02-0242ac120007"
      },
      {
       "current": "35c581ba-55a3-11e7-b0b2-00163e9c0e35",
       "next": "35c58340-55a3-11e7-b0b2-00163e9c0e35",
       "previous": "49102d8c-98a9-11ea-8d02-0242ac120007"
      },
      {
       "current": "35c581ba-55a3-11e7-b0b2-00163e9c0e35",
       "next": "35c58340-55a3-11e7-b0b2-00163e9c0e35",
       "previous": "dbe917aa-9984-11ea-8d02-0242ac120007"
      },
      {
       "current": "35c581ba-55a3-11e7-b0b2-00163e9c0e35",
       "next": "35c58340-55a3-11e7-b0b2-00163e9c0e35",
       "previous": "f9f7c1a0-9985-11ea-8d02-0242ac120007"
      },
      {
       "current": "35c581ba-55a3-11e7-b0b2-00163e9c0e35",
       "next": "35c58340-55a3-11e7-b0b2-00163e9c0e35",
       "previous": "4180e646-9986-11ea-8d02-0242ac120007"
      },
      {
       "current": "35c581ba-55a3-11e7-b0b2-00163e9c0e35",
       "next": "35c58340-55a3-11e7-b0b2-00163e9c0e35",
       "previous": "eea7aafc-9987-11ea-8d02-0242ac120007"
      },
      {
       "current": "35c581ba-55a3-11e7-b0b2-00163e9c0e35",
       "next": "35c58340-55a3-11e7-b0b2-00163e9c0e35",
       "previous": "7db36be6-9988-11ea-8d02-0242ac120007"
      },
      {
       "current": "35c581ba-55a3-11e7-b0b2-00163e9c0e35",
       "next": "35c58340-55a3-11e7-b0b2-00163e9c0e35",
       "previous": "7db36a7e-9988-11ea-8d02-0242ac120007"
      },
      {
       "current": "35c581ba-55a3-11e7-b0b2-00163e9c0e35",
       "next": "35c58340-55a3-11e7-b0b2-00163e9c0e35",
       "previous": "f3e7d364-998e-11ea-8d02-0242ac120007"
      },
      {
       "current": "35c581ba-55a3-11e7-b0b2-00163e9c0e35-1-f60b",
       "next": "35c58340-55a3-11e7-b0b2-00163e9c0e35",
       "previous": "b0a33f46-98ce-11ea-8d02-0242ac120007"
      },
      {
       "current": "35c581ba-55a3-11e7-b0b2-00163e9c0e35-2-f60b-133a",
       "next": "35c58340-55a3-11e7-b0b2-00163e9c0e35-1-c0ce",
       "previous": "b0a33f46-98ce-11ea-8d02-0242ac120007-1-1e51"
      },
      {
       "current": "35c581ba-55a3-11e7-b0b2-00163e9c0e35-2-f60b-133a",
       "next": "35c58340-55a3-11e7-b0b2-00163e9c0e35-2-c0ce-9618",
       "previous": "b0a33f46-98ce-11ea-8d02-0242ac120007-2-1e51-b1e8"
      },
      {
       "current": "35c581ba-55a3-11e7-b0b2-00163e9c0e35-2-f60b-133a",
       "next": "35c58340-55a3-11e7-b0b2-00163e9c0e35-2-c0ce-9618",
       "previous": "d0769ffa-98bc-11ea-8d02-0242ac120007-2-9994-0723"
      },
      {
       "current": "35c581ba-55a3-11e7-b0b2-00163e9c0e35-2-f60b-133a",
       "next": "35c58340-55a3-11e7-b0b2-00163e9c0e35-2-c0ce-9618",
       "previous": "bc16cb02-dfce-11eb-b29f-0242ac120008"
      },
      {
       "current": "35c581ba-55a3-11e7-b0b2-00163e9c0e35-2-f60b-133a",
       "next": "35c58340-55a3-11e7-b0b2-00163e9c0e35-2-c0ce-9618",
       "previous": "7cf7d994-f4ea-11eb-b29f-0242ac120008"
      },
      {
       "current": "35c581ba-55a3-11e7-b0b2-00163e9c0e35-2-f60b-133a",
       "next": "35c58340-55a3-11e7-b0b2-00163e9c0e35-2-c0ce-9618",
       "previous": "204647a2-f4eb-11eb-b29f-0242ac120008"
      },
      {
       "current": "35c581ba-55a3-11e7-b0b2-00163e9c0e35-2-f60b-133a",
       "next": "35c58340-55a3-11e7-b0b2-00163e9c0e35-2-c0ce-9618",
       "previous": "798c29c4-9a06-11ec-a1da-0242ac120004"
      },
      {
       "current": "35c581ba-55a3-11e7-b0b2-00163e9c0e35-3-f60b-133a-40ef",
       "next": "35c58340-55a3-11e7-b0b2-00163e9c0e35-2-c0ce-9618",
       "previous": "204647a2-f4eb-11eb-b29f-0242ac120008"
      },
      {
       "current": "35c581ba-55a3-11e7-b0b2-00163e9c0e35-3-f60b-133a-40ef",
       "next": "35c58340-55a3-11e7-b0b2-00163e9c0e35-3-c0ce-9618-7032",
       "previous": "204647a2-f4eb-11eb-b29f-0242ac120008-1-10f9"
      },
      {
       "current": "35c581ba-55a3-11e7-b0b2-00163e9c0e35-3-f60b-133a-40ef",
       "next": "35c58340-55a3-11e7-b0b2-00163e9c0e35-3-c0ce-9618-7032",
       "previous": "3c6cb112-4bb2-11ee-89fa-0242ac120005"
      },
      {
       "current": "35c581ba-55a3-11e7-b0b2-00163e9c0e35-3-f60b-133a-40ef",
       "next": "35c58340-55a3-11e7-b0b2-00163e9c0e35-3-c0ce-9618-7032",
       "previous": "d619a970-6195-11ee-89fa-0242ac120005"
      },
      {
       "current": "35c581ba-55a3-11e7-b0b2-00163e9c0e35-3-f60b-133a-40ef",
       "next": "35c58340-55a3-11e7-b0b2-00163e9c0e35-3-c0ce-9618-7032",
       "previous": "d954180a-61bd-11ee-89fa-0242ac120005"
      },
      {
       "current": "35c581ba-55a3-11e7-b0b2-00163e9c0e35-3-f60b-133a-40ef",
       "next": "35c58340-55a3-11e7-b0b2-00163e9c0e35-3-c0ce-9618-7032",
       "previous": "8f9c98ce-716a-11ee-89fa-0242ac120005"
      },
      {
       "current": "35c581ba-55a3-11e7-b0b2-00163e9c0e35-3-f60b-133a-40ef",
       "next": "35c58340-55a3-11e7-b0b2-00163e9c0e35-3-c0ce-9618-7032",
       "previous": "3ce444ae-716c-11ee-89fa-0242ac120005"
      },
      {
       "current": "35c581ba-55a3-11e7-b0b2-00163e9c0e35-3-f60b-133a-40ef",
       "next": "35c58340-55a3-11e7-b0b2-00163e9c0e35-3-c0ce-9618-7032",
       "previous": "31f71398-7877-11ee-89fa-0242ac120005"
      },
      {
       "current": "35c581ba-55a3-11e7-b0b2-00163e9c0e35-3-f60b-133a-40ef",
       "next": "35c58340-55a3-11e7-b0b2-00163e9c0e35-3-c0ce-9618-7032",
       "previous": "8c52f84a-787a-11ee-89fa-0242ac120005"
      },
      {
       "current": "35c581ba-55a3-11e7-b0b2-00163e9c0e35-3-f60b-133a-40ef",
       "next": "35c58340-55a3-11e7-b0b2-00163e9c0e35-3-c0ce-9618-7032",
       "previous": "d15989fa-7888-11ee-89fa-0242ac120005"
      },
      {
       "current": "35c581ba-55a3-11e7-b0b2-00163e9c0e35-3-f60b-133a-40ef",
       "next": "35c58340-55a3-11e7-b0b2-00163e9c0e35-3-c0ce-9618-7032",
       "previous": "180f42ec-7d14-11ee-89fa-0242ac120005"
      },
      {
       "current": "35c581ba-55a3-11e7-b0b2-00163e9c0e35-3-f60b-133a-40ef",
       "next": "35c58340-55a3-11e7-b0b2-00163e9c0e35-3-c0ce-9618-7032",
       "previous": "d15989fa-7888-11ee-89fa-0242ac120005"
      },
      {
       "current": "35c581ba-55a3-11e7-b0b2-00163e9c0e35-3-f60b-133a-40ef",
       "next": "35c58340-55a3-11e7-b0b2-00163e9c0e35-3-c0ce-9618-7032",
       "previous": "0f18571c-7d16-11ee-89fa-0242ac120005"
      },
      {
       "current": "35c581ba-55a3-11e7-b0b2-00163e9c0e35-3-f60b-133a-40ef",
       "next": "35c58340-55a3-11e7-b0b2-00163e9c0e35-3-c0ce-9618-7032",
       "previous": "93aad364-8839-11ee-91d3-0242ac120006"
      },
      {
       "current": "35c581ba-55a3-11e7-b0b2-00163e9c0e35-3-f60b-133a-40ef",
       "next": "35c58340-55a3-11e7-b0b2-00163e9c0e35-3-c0ce-9618-7032",
       "previous": "1839b116-883c-11ee-91d3-0242ac120006"
      },
      {
       "current": "35c581ba-55a3-11e7-b0b2-00163e9c0e35-3-f60b-133a-40ef",
       "next": "35c58340-55a3-11e7-b0b2-00163e9c0e35-3-c0ce-9618-7032",
       "previous": "54bd9984-883e-11ee-91d3-0242ac120006"
      },
      {
       "current": "35c581ba-55a3-11e7-b0b2-00163e9c0e35-3-f60b-133a-40ef",
       "next": "35c58340-55a3-11e7-b0b2-00163e9c0e35-3-c0ce-9618-7032",
       "previous": "730fc474-883f-11ee-91d3-0242ac120006"
      },
      {
       "current": "35c581ba-55a3-11e7-b0b2-00163e9c0e35-4-f60b-133a-40ef-6b3c",
       "next": "35c58340-55a3-11e7-b0b2-00163e9c0e35-3-c0ce-9618-7032",
       "previous": "bac16386-883f-11ee-91d3-0242ac120006"
      },
      {
       "current": "35c581ba-55a3-11e7-b0b2-00163e9c0e35-5-f60b-133a-40ef-6b3c-7cb4",
       "next": "35c58340-55a3-11e7-b0b2-00163e9c0e35-4-c0ce-9618-7032-7b20",
       "previous": "bac16386-883f-11ee-91d3-0242ac120006-1-c2c2"
      },
      {
       "current": "35c581ba-55a3-11e7-b0b2-00163e9c0e35-6-f60b-133a-40ef-6b3c-7cb4-7b25",
       "next": "35c58340-55a3-11e7-b0b2-00163e9c0e35-5-c0ce-9618-7032-7b20-43f6",
       "previous": "bac16386-883f-11ee-91d3-0242ac120006-2-c2c2-1b84"
      },
      {
       "current": "35c581ba-55a3-11e7-b0b2-00163e9c0e35-7-f60b-133a-40ef-6b3c-7cb4-7b25-c71e",
       "next": "35c58340-55a3-11e7-b0b2-00163e9c0e35-6-c0ce-9618-7032-7b20-43f6-a212",
       "previous": "bac16386-883f-11ee-91d3-0242ac120006-3-c2c2-1b84-e790"
      }
     ],
     "next": "35c58340-55a3-11e7-b0b2-00163e9c0e35-7-c0ce-9618-7032-7b20-43f6-a212-1b64",
     "previous": "bac16386-883f-11ee-91d3-0242ac120006-4-c2c2-1b84-e790-98da"
    }
   },
   "source": [
    "# 後始末\n",
    "\n",
    "一時ディレクトリを削除する。"
   ]
  },
  {
   "cell_type": "code",
   "execution_count": null,
   "metadata": {
    "ExecuteTime": {
     "end_time": "2017-06-29T08:01:20.617274Z",
     "start_time": "2017-06-29T08:01:20.466671Z"
    },
    "lc_cell_meme": {
     "current": "35c58340-55a3-11e7-b0b2-00163e9c0e35-7-c0ce-9618-7032-7b20-43f6-a212-1b64",
     "history": [
      {
       "current": "35c58340-55a3-11e7-b0b2-00163e9c0e35",
       "next": null,
       "previous": "35c581ba-55a3-11e7-b0b2-00163e9c0e35"
      },
      {
       "current": "35c58340-55a3-11e7-b0b2-00163e9c0e35-1-c0ce",
       "next": "c4bd8ce4-5749-11e7-b0b2-00163e9c0e35",
       "previous": "35c581ba-55a3-11e7-b0b2-00163e9c0e35"
      },
      {
       "current": "35c58340-55a3-11e7-b0b2-00163e9c0e35-2-c0ce-9618",
       "next": "c4bd8ce4-5749-11e7-b0b2-00163e9c0e35-1-6c35",
       "previous": "35c581ba-55a3-11e7-b0b2-00163e9c0e35-1-f60b"
      },
      {
       "current": "35c58340-55a3-11e7-b0b2-00163e9c0e35-3-c0ce-9618-7032",
       "next": "c4bd8ce4-5749-11e7-b0b2-00163e9c0e35-2-6c35-ebfb",
       "previous": "35c581ba-55a3-11e7-b0b2-00163e9c0e35-2-f60b-133a"
      },
      {
       "current": "35c58340-55a3-11e7-b0b2-00163e9c0e35-4-c0ce-9618-7032-7b20",
       "next": "c4bd8ce4-5749-11e7-b0b2-00163e9c0e35-3-6c35-ebfb-793f",
       "previous": "35c581ba-55a3-11e7-b0b2-00163e9c0e35-3-f60b-133a-40ef"
      },
      {
       "current": "35c58340-55a3-11e7-b0b2-00163e9c0e35-5-c0ce-9618-7032-7b20-43f6",
       "next": "c4bd8ce4-5749-11e7-b0b2-00163e9c0e35-4-6c35-ebfb-793f-bacf",
       "previous": "35c581ba-55a3-11e7-b0b2-00163e9c0e35-4-f60b-133a-40ef-6b3c"
      },
      {
       "current": "35c58340-55a3-11e7-b0b2-00163e9c0e35-6-c0ce-9618-7032-7b20-43f6-a212",
       "next": "c4bd8ce4-5749-11e7-b0b2-00163e9c0e35-5-6c35-ebfb-793f-bacf-e849",
       "previous": "35c581ba-55a3-11e7-b0b2-00163e9c0e35-5-f60b-133a-40ef-6b3c-7cb4"
      },
      {
       "current": "35c58340-55a3-11e7-b0b2-00163e9c0e35-7-c0ce-9618-7032-7b20-43f6-a212-1b64",
       "next": "c4bd8ce4-5749-11e7-b0b2-00163e9c0e35-6-6c35-ebfb-793f-bacf-e849-0665",
       "previous": "35c581ba-55a3-11e7-b0b2-00163e9c0e35-6-f60b-133a-40ef-6b3c-7cb4-7b25"
      }
     ],
     "next": "c4bd8ce4-5749-11e7-b0b2-00163e9c0e35-7-6c35-ebfb-793f-bacf-e849-0665-1fa1",
     "previous": "35c581ba-55a3-11e7-b0b2-00163e9c0e35-7-f60b-133a-40ef-6b3c-7cb4-7b25-c71e"
    }
   },
   "outputs": [],
   "source": [
    "!rm -fr $temp_dir"
   ]
  },
  {
   "cell_type": "code",
   "execution_count": null,
   "metadata": {
    "lc_cell_meme": {
     "current": "c4bd8ce4-5749-11e7-b0b2-00163e9c0e35-7-6c35-ebfb-793f-bacf-e849-0665-1fa1",
     "history": [
      {
       "current": "c4bd8ce4-5749-11e7-b0b2-00163e9c0e35-1-6c35",
       "next": null,
       "previous": "35c58340-55a3-11e7-b0b2-00163e9c0e35"
      },
      {
       "current": "c4bd8ce4-5749-11e7-b0b2-00163e9c0e35-2-6c35-ebfb",
       "next": null,
       "previous": "35c58340-55a3-11e7-b0b2-00163e9c0e35-1-c0ce"
      },
      {
       "current": "c4bd8ce4-5749-11e7-b0b2-00163e9c0e35-3-6c35-ebfb-793f",
       "next": null,
       "previous": "35c58340-55a3-11e7-b0b2-00163e9c0e35-2-c0ce-9618"
      },
      {
       "current": "c4bd8ce4-5749-11e7-b0b2-00163e9c0e35-4-6c35-ebfb-793f-bacf",
       "next": null,
       "previous": "35c58340-55a3-11e7-b0b2-00163e9c0e35-3-c0ce-9618-7032"
      },
      {
       "current": "c4bd8ce4-5749-11e7-b0b2-00163e9c0e35-5-6c35-ebfb-793f-bacf-e849",
       "next": null,
       "previous": "35c58340-55a3-11e7-b0b2-00163e9c0e35-4-c0ce-9618-7032-7b20"
      },
      {
       "current": "c4bd8ce4-5749-11e7-b0b2-00163e9c0e35-6-6c35-ebfb-793f-bacf-e849-0665",
       "next": null,
       "previous": "35c58340-55a3-11e7-b0b2-00163e9c0e35-5-c0ce-9618-7032-7b20-43f6"
      },
      {
       "current": "c4bd8ce4-5749-11e7-b0b2-00163e9c0e35-7-6c35-ebfb-793f-bacf-e849-0665-1fa1",
       "next": null,
       "previous": "35c58340-55a3-11e7-b0b2-00163e9c0e35-6-c0ce-9618-7032-7b20-43f6-a212"
      }
     ],
     "next": null,
     "previous": "35c58340-55a3-11e7-b0b2-00163e9c0e35-7-c0ce-9618-7032-7b20-43f6-a212-1b64"
    }
   },
   "outputs": [],
   "source": []
  }
 ],
 "metadata": {
  "kernelspec": {
   "display_name": "Python 3",
   "language": "python",
   "name": "python3"
  },
  "language_info": {
   "file_extension": ".py",
   "mimetype": "text/x-python",
   "name": "python",
   "nbconvert_exporter": "python",
   "pygments_lexer": "ipython3",
   "version": "3.10.4"
  },
  "lc_notebook_meme": {
   "current": "35c33086-55a3-11e7-b0b2-00163e9c0e35"
  },
  "toc": {
   "base_numbering": 1,
   "nav_menu": {
    "height": "484px",
    "width": "687px"
   },
   "number_sections": true,
   "sideBar": true,
   "skip_h1_title": false,
   "title_cell": "Table of Contents",
   "title_sidebar": "Contents",
   "toc_cell": false,
   "toc_position": {
    "height": "1156px",
    "left": "0px",
    "right": "1330px",
    "top": "106px",
    "width": "340.983px"
   },
   "toc_section_display": "block",
   "toc_window_display": true
  }
 },
 "nbformat": 4,
 "nbformat_minor": 1
}
