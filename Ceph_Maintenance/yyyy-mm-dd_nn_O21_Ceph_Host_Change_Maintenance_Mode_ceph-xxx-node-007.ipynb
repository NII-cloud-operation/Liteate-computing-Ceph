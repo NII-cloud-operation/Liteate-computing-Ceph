{
 "cells": [
  {
   "cell_type": "markdown",
   "metadata": {
    "collapsed": true,
    "lc_cell_meme": {
     "current": "35c33414-55a3-11e7-b0b2-00163e9c0e35-6-1c66-a2f2-2e32-5018-a445-528b",
     "history": [
      {
       "current": "35c33414-55a3-11e7-b0b2-00163e9c0e35",
       "next": "35c33626-55a3-11e7-b0b2-00163e9c0e35",
       "previous": null
      },
      {
       "current": "35c33414-55a3-11e7-b0b2-00163e9c0e35",
       "next": "35c33626-55a3-11e7-b0b2-00163e9c0e35",
       "previous": null
      },
      {
       "current": "35c33414-55a3-11e7-b0b2-00163e9c0e35",
       "next": "35c33626-55a3-11e7-b0b2-00163e9c0e35",
       "previous": "0db87670-9586-11ea-8d02-0242ac120007"
      },
      {
       "current": "35c33414-55a3-11e7-b0b2-00163e9c0e35-1-1c66",
       "next": "35c337f2-55a3-11e7-b0b2-00163e9c0e35",
       "previous": null
      },
      {
       "current": "35c33414-55a3-11e7-b0b2-00163e9c0e35-2-1c66-a2f2",
       "next": "35c337f2-55a3-11e7-b0b2-00163e9c0e35-1-dc7a",
       "previous": null
      },
      {
       "current": "35c33414-55a3-11e7-b0b2-00163e9c0e35-2-1c66-a2f2",
       "next": "35c337f2-55a3-11e7-b0b2-00163e9c0e35-2-dc7a-5832",
       "previous": null
      },
      {
       "current": "35c33414-55a3-11e7-b0b2-00163e9c0e35-3-1c66-a2f2-2e32",
       "next": "37fd6298-56f9-11ec-a1da-0242ac120004-1-399a",
       "previous": null
      },
      {
       "current": "35c33414-55a3-11e7-b0b2-00163e9c0e35-4-1c66-a2f2-2e32-5018",
       "next": "37fd6298-56f9-11ec-a1da-0242ac120004-2-399a-cfa9",
       "previous": null
      },
      {
       "current": "35c33414-55a3-11e7-b0b2-00163e9c0e35-5-1c66-a2f2-2e32-5018-a445",
       "next": "37fd6298-56f9-11ec-a1da-0242ac120004-3-399a-cfa9-8cf9",
       "previous": null
      },
      {
       "current": "35c33414-55a3-11e7-b0b2-00163e9c0e35-6-1c66-a2f2-2e32-5018-a445-528b",
       "next": "37fd6298-56f9-11ec-a1da-0242ac120004-4-399a-cfa9-8cf9-5b6b",
       "previous": null
      }
     ],
     "next": "37fd6298-56f9-11ec-a1da-0242ac120004-5-399a-cfa9-8cf9-5b6b-881c",
     "previous": null
    }
   },
   "source": [
    "# Cephノード運用：Cephクラスタノードサービス停止<br>\n",
    "Cephクラスタノードに対するメンテナンス作業を行うため、ノード単位でのCephサービス停止を行う。\n"
   ]
  },
  {
   "cell_type": "markdown",
   "metadata": {
    "lc_cell_meme": {
     "current": "37fd6298-56f9-11ec-a1da-0242ac120004-5-399a-cfa9-8cf9-5b6b-881c",
     "history": [
      {
       "current": "37fd6298-56f9-11ec-a1da-0242ac120004-1-399a",
       "next": "37fd65a4-56f9-11ec-a1da-0242ac120004",
       "previous": "35c337f2-55a3-11e7-b0b2-00163e9c0e35-1-dc7a"
      },
      {
       "current": "37fd6298-56f9-11ec-a1da-0242ac120004-1-399a",
       "next": "37fd65a4-56f9-11ec-a1da-0242ac120004-1-0c3c",
       "previous": "35c337f2-55a3-11e7-b0b2-00163e9c0e35-2-dc7a-5832"
      },
      {
       "current": "37fd6298-56f9-11ec-a1da-0242ac120004-2-399a-cfa9",
       "next": "37fd65a4-56f9-11ec-a1da-0242ac120004-1-0c3c",
       "previous": "35c33414-55a3-11e7-b0b2-00163e9c0e35-2-1c66-a2f2"
      },
      {
       "current": "37fd6298-56f9-11ec-a1da-0242ac120004-3-399a-cfa9-8cf9",
       "next": "37fd65a4-56f9-11ec-a1da-0242ac120004-2-0c3c-80f9",
       "previous": "35c33414-55a3-11e7-b0b2-00163e9c0e35-3-1c66-a2f2-2e32"
      },
      {
       "current": "37fd6298-56f9-11ec-a1da-0242ac120004-4-399a-cfa9-8cf9-5b6b",
       "next": "37fd65a4-56f9-11ec-a1da-0242ac120004-3-0c3c-80f9-4222",
       "previous": "35c33414-55a3-11e7-b0b2-00163e9c0e35-4-1c66-a2f2-2e32-5018"
      },
      {
       "current": "37fd6298-56f9-11ec-a1da-0242ac120004-5-399a-cfa9-8cf9-5b6b-881c",
       "next": "37fd65a4-56f9-11ec-a1da-0242ac120004-4-0c3c-80f9-4222-e5c1",
       "previous": "35c33414-55a3-11e7-b0b2-00163e9c0e35-5-1c66-a2f2-2e32-5018-a445"
      }
     ],
     "next": "37fd65a4-56f9-11ec-a1da-0242ac120004-5-0c3c-80f9-4222-e5c1-36dc",
     "previous": "35c33414-55a3-11e7-b0b2-00163e9c0e35-6-1c66-a2f2-2e32-5018-a445-528b"
    }
   },
   "source": [
    "# パラメータ定義"
   ]
  },
  {
   "cell_type": "markdown",
   "metadata": {
    "lc_cell_meme": {
     "current": "37fd65a4-56f9-11ec-a1da-0242ac120004-5-0c3c-80f9-4222-e5c1-36dc",
     "history": [
      {
       "current": "37fd65a4-56f9-11ec-a1da-0242ac120004-1-0c3c",
       "next": "37fd681a-56f9-11ec-a1da-0242ac120004",
       "previous": "37fd6298-56f9-11ec-a1da-0242ac120004"
      },
      {
       "current": "37fd65a4-56f9-11ec-a1da-0242ac120004-2-0c3c-80f9",
       "next": "37fd681a-56f9-11ec-a1da-0242ac120004-1-b4aa",
       "previous": "37fd6298-56f9-11ec-a1da-0242ac120004-1-399a"
      },
      {
       "current": "37fd65a4-56f9-11ec-a1da-0242ac120004-3-0c3c-80f9-4222",
       "next": "37fd681a-56f9-11ec-a1da-0242ac120004-2-b4aa-93c9",
       "previous": "37fd6298-56f9-11ec-a1da-0242ac120004-2-399a-cfa9"
      },
      {
       "current": "37fd65a4-56f9-11ec-a1da-0242ac120004-4-0c3c-80f9-4222-e5c1",
       "next": "37fd681a-56f9-11ec-a1da-0242ac120004-3-b4aa-93c9-be9d",
       "previous": "37fd6298-56f9-11ec-a1da-0242ac120004-3-399a-cfa9-8cf9"
      },
      {
       "current": "37fd65a4-56f9-11ec-a1da-0242ac120004-5-0c3c-80f9-4222-e5c1-36dc",
       "next": "37fd681a-56f9-11ec-a1da-0242ac120004-4-b4aa-93c9-be9d-fc74",
       "previous": "37fd6298-56f9-11ec-a1da-0242ac120004-4-399a-cfa9-8cf9-5b6b"
      }
     ],
     "next": "37fd681a-56f9-11ec-a1da-0242ac120004-5-b4aa-93c9-be9d-fc74-0b54",
     "previous": "37fd6298-56f9-11ec-a1da-0242ac120004-5-399a-cfa9-8cf9-5b6b-881c"
    }
   },
   "source": [
    "## パラメータファイル設定"
   ]
  },
  {
   "cell_type": "markdown",
   "metadata": {
    "lc_cell_meme": {
     "current": "37fd681a-56f9-11ec-a1da-0242ac120004-5-b4aa-93c9-be9d-fc74-0b54",
     "history": [
      {
       "current": "37fd681a-56f9-11ec-a1da-0242ac120004-1-b4aa",
       "next": "37fd6996-56f9-11ec-a1da-0242ac120004",
       "previous": "37fd65a4-56f9-11ec-a1da-0242ac120004"
      },
      {
       "current": "37fd681a-56f9-11ec-a1da-0242ac120004-2-b4aa-93c9",
       "next": "37fd6996-56f9-11ec-a1da-0242ac120004-1-d6f6",
       "previous": "37fd65a4-56f9-11ec-a1da-0242ac120004-1-0c3c"
      },
      {
       "current": "37fd681a-56f9-11ec-a1da-0242ac120004-3-b4aa-93c9-be9d",
       "next": "37fd6996-56f9-11ec-a1da-0242ac120004-2-d6f6-6118",
       "previous": "37fd65a4-56f9-11ec-a1da-0242ac120004-2-0c3c-80f9"
      },
      {
       "current": "37fd681a-56f9-11ec-a1da-0242ac120004-4-b4aa-93c9-be9d-fc74",
       "next": "23c6aaba-2301-11ef-ad2f-0242ac120005",
       "previous": "37fd65a4-56f9-11ec-a1da-0242ac120004-3-0c3c-80f9-4222"
      },
      {
       "current": "37fd681a-56f9-11ec-a1da-0242ac120004-5-b4aa-93c9-be9d-fc74-0b54",
       "next": "23c6aaba-2301-11ef-ad2f-0242ac120005-1-eb2f",
       "previous": "37fd65a4-56f9-11ec-a1da-0242ac120004-4-0c3c-80f9-4222-e5c1"
      }
     ],
     "next": "23c6aaba-2301-11ef-ad2f-0242ac120005-2-eb2f-0609",
     "previous": "37fd65a4-56f9-11ec-a1da-0242ac120004-5-0c3c-80f9-4222-e5c1-36dc"
    }
   },
   "source": [
    "Cephクラスタの定義ファイルを指定するため、<br>\n",
    "パラメータ定義格納ディレクトリを表示する。"
   ]
  },
  {
   "cell_type": "code",
   "execution_count": null,
   "metadata": {
    "lc_cell_meme": {
     "current": "23c6aaba-2301-11ef-ad2f-0242ac120005-2-eb2f-0609",
     "history": [
      {
       "current": "23c6aaba-2301-11ef-ad2f-0242ac120005-1-eb2f",
       "next": "23c6ab6e-2301-11ef-ad2f-0242ac120005",
       "previous": "37fd681a-56f9-11ec-a1da-0242ac120004-3-b4aa-93c9-be9d"
      },
      {
       "current": "23c6aaba-2301-11ef-ad2f-0242ac120005-2-eb2f-0609",
       "next": "23c6ab6e-2301-11ef-ad2f-0242ac120005-1-2e4e",
       "previous": "37fd681a-56f9-11ec-a1da-0242ac120004-4-b4aa-93c9-be9d-fc74"
      }
     ],
     "next": "23c6ab6e-2301-11ef-ad2f-0242ac120005-2-2e4e-b7c1",
     "previous": "37fd681a-56f9-11ec-a1da-0242ac120004-5-b4aa-93c9-be9d-fc74-0b54"
    }
   },
   "outputs": [],
   "source": [
    "!ls -p ~/notebooks/share/ | grep \"/$\""
   ]
  },
  {
   "cell_type": "code",
   "execution_count": null,
   "metadata": {
    "lc_cell_meme": {
     "current": "23c6ab6e-2301-11ef-ad2f-0242ac120005-2-2e4e-b7c1",
     "history": [
      {
       "current": "23c6ab6e-2301-11ef-ad2f-0242ac120005-1-2e4e",
       "next": "23c6abaa-2301-11ef-ad2f-0242ac120005",
       "previous": "23c6aaba-2301-11ef-ad2f-0242ac120005"
      },
      {
       "current": "23c6ab6e-2301-11ef-ad2f-0242ac120005-2-2e4e-b7c1",
       "next": "23c6abaa-2301-11ef-ad2f-0242ac120005-1-ced0",
       "previous": "23c6aaba-2301-11ef-ad2f-0242ac120005-1-eb2f"
      }
     ],
     "next": "23c6abaa-2301-11ef-ad2f-0242ac120005-2-ced0-6332",
     "previous": "23c6aaba-2301-11ef-ad2f-0242ac120005-2-eb2f-0609"
    }
   },
   "outputs": [],
   "source": [
    "!ls -p ~/notebooks/share/configuration"
   ]
  },
  {
   "cell_type": "code",
   "execution_count": null,
   "metadata": {
    "lc_cell_meme": {
     "current": "23c6abaa-2301-11ef-ad2f-0242ac120005-2-ced0-6332",
     "history": [
      {
       "current": "23c6abaa-2301-11ef-ad2f-0242ac120005-1-ced0",
       "next": "23c6abc8-2301-11ef-ad2f-0242ac120005",
       "previous": "23c6ab6e-2301-11ef-ad2f-0242ac120005"
      },
      {
       "current": "23c6abaa-2301-11ef-ad2f-0242ac120005-2-ced0-6332",
       "next": "23c6abc8-2301-11ef-ad2f-0242ac120005-1-ab8e",
       "previous": "23c6ab6e-2301-11ef-ad2f-0242ac120005-1-2e4e"
      }
     ],
     "next": "23c6abc8-2301-11ef-ad2f-0242ac120005-2-ab8e-619e",
     "previous": "23c6ab6e-2301-11ef-ad2f-0242ac120005-2-2e4e-b7c1"
    }
   },
   "outputs": [],
   "source": [
    "!ls -p ~/notebooks/share/configuration/ceph"
   ]
  },
  {
   "cell_type": "code",
   "execution_count": null,
   "metadata": {
    "lc_cell_meme": {
     "current": "23c6abc8-2301-11ef-ad2f-0242ac120005-2-ab8e-619e",
     "history": [
      {
       "current": "23c6abc8-2301-11ef-ad2f-0242ac120005-1-ab8e",
       "next": "23c6abf0-2301-11ef-ad2f-0242ac120005",
       "previous": "23c6abaa-2301-11ef-ad2f-0242ac120005"
      },
      {
       "current": "23c6abc8-2301-11ef-ad2f-0242ac120005-2-ab8e-619e",
       "next": "23c6abf0-2301-11ef-ad2f-0242ac120005-1-0b6a",
       "previous": "23c6abaa-2301-11ef-ad2f-0242ac120005-1-ced0"
      }
     ],
     "next": "23c6abf0-2301-11ef-ad2f-0242ac120005-2-0b6a-548e",
     "previous": "23c6abaa-2301-11ef-ad2f-0242ac120005-2-ced0-6332"
    }
   },
   "outputs": [],
   "source": [
    "import sys, os.path, importlib, json, yaml\n",
    "\n",
    "config_file_name = \"ceph_admin_vm.yml\"\n",
    "config_file_path = os.path.expanduser(\"~/notebooks/share/configuration/ceph/{}\".format(config_file_name))\n",
    "with open(config_file_path) as f:\n",
    "    admin_params = yaml.safe_load(f)\n",
    "admin_params"
   ]
  },
  {
   "cell_type": "code",
   "execution_count": null,
   "metadata": {
    "lc_cell_meme": {
     "current": "23c6abf0-2301-11ef-ad2f-0242ac120005-2-0b6a-548e",
     "history": [
      {
       "current": "23c6abf0-2301-11ef-ad2f-0242ac120005-1-0b6a",
       "next": "23c6ac0e-2301-11ef-ad2f-0242ac120005",
       "previous": "23c6abc8-2301-11ef-ad2f-0242ac120005"
      },
      {
       "current": "23c6abf0-2301-11ef-ad2f-0242ac120005-2-0b6a-548e",
       "next": "23c6ac0e-2301-11ef-ad2f-0242ac120005-1-abf2",
       "previous": "23c6abc8-2301-11ef-ad2f-0242ac120005-1-ab8e"
      }
     ],
     "next": "23c6ac0e-2301-11ef-ad2f-0242ac120005-2-abf2-de2d",
     "previous": "23c6abc8-2301-11ef-ad2f-0242ac120005-2-ab8e-619e"
    }
   },
   "outputs": [],
   "source": [
    "target_vm_name = 'xxx-ceph-admin1'\n",
    "admin_patam = admin_params[target_vm_name]\n",
    "admin_patam"
   ]
  },
  {
   "cell_type": "code",
   "execution_count": null,
   "metadata": {
    "lc_cell_meme": {
     "current": "23c6ac0e-2301-11ef-ad2f-0242ac120005-2-abf2-de2d",
     "history": [
      {
       "current": "23c6ac0e-2301-11ef-ad2f-0242ac120005-1-abf2",
       "next": "23c6ac36-2301-11ef-ad2f-0242ac120005",
       "previous": "23c6abf0-2301-11ef-ad2f-0242ac120005"
      },
      {
       "current": "23c6ac0e-2301-11ef-ad2f-0242ac120005-2-abf2-de2d",
       "next": "23c6ac36-2301-11ef-ad2f-0242ac120005-1-893f",
       "previous": "23c6abf0-2301-11ef-ad2f-0242ac120005-1-0b6a"
      }
     ],
     "next": "23c6ac36-2301-11ef-ad2f-0242ac120005-2-893f-6a61",
     "previous": "23c6abf0-2301-11ef-ad2f-0242ac120005-2-0b6a-548e"
    }
   },
   "outputs": [],
   "source": [
    "ceph_admin_ip = admin_patam['network']['provisioning']['ip']"
   ]
  },
  {
   "cell_type": "code",
   "execution_count": null,
   "metadata": {
    "lc_cell_meme": {
     "current": "23c6ac36-2301-11ef-ad2f-0242ac120005-2-893f-6a61",
     "history": [
      {
       "current": "23c6ac36-2301-11ef-ad2f-0242ac120005-1-893f",
       "next": "23c6ac54-2301-11ef-ad2f-0242ac120005",
       "previous": "23c6ac0e-2301-11ef-ad2f-0242ac120005"
      },
      {
       "current": "23c6ac36-2301-11ef-ad2f-0242ac120005-2-893f-6a61",
       "next": "23c6ac54-2301-11ef-ad2f-0242ac120005-1-43b8",
       "previous": "23c6ac0e-2301-11ef-ad2f-0242ac120005-1-abf2"
      }
     ],
     "next": "23c6ac54-2301-11ef-ad2f-0242ac120005-2-43b8-6b07",
     "previous": "23c6ac0e-2301-11ef-ad2f-0242ac120005-2-abf2-de2d"
    }
   },
   "outputs": [],
   "source": [
    "import sys, os.path, importlib, json, yaml\n",
    "\n",
    "config_file_name = \"xxx-openstack-parameter.yml\"\n",
    "config_file_path = os.path.expanduser(\"~/notebooks/share/configuration/{}\".format(config_file_name))\n",
    "with open(config_file_path) as f:\n",
    "    params = yaml.safe_load(f)\n",
    "params"
   ]
  },
  {
   "cell_type": "code",
   "execution_count": null,
   "metadata": {
    "lc_cell_meme": {
     "current": "23c6ac54-2301-11ef-ad2f-0242ac120005-2-43b8-6b07",
     "history": [
      {
       "current": "23c6ac54-2301-11ef-ad2f-0242ac120005-1-43b8",
       "next": "23c6ac7c-2301-11ef-ad2f-0242ac120005",
       "previous": "23c6ac36-2301-11ef-ad2f-0242ac120005"
      },
      {
       "current": "23c6ac54-2301-11ef-ad2f-0242ac120005-2-43b8-6b07",
       "next": "23c6ac7c-2301-11ef-ad2f-0242ac120005-1-b5de",
       "previous": "23c6ac36-2301-11ef-ad2f-0242ac120005-1-893f"
      }
     ],
     "next": "23c6ac7c-2301-11ef-ad2f-0242ac120005-2-b5de-163c",
     "previous": "23c6ac36-2301-11ef-ad2f-0242ac120005-2-893f-6a61"
    }
   },
   "outputs": [],
   "source": [
    "repo_server = params['repository']['addresses']['service_operation']\n",
    "repo_server"
   ]
  },
  {
   "cell_type": "code",
   "execution_count": null,
   "metadata": {
    "lc_cell_meme": {
     "current": "23c6ac7c-2301-11ef-ad2f-0242ac120005-2-b5de-163c",
     "history": [
      {
       "current": "23c6ac7c-2301-11ef-ad2f-0242ac120005",
       "next": "23c6aca4-2301-11ef-ad2f-0242ac120005",
       "previous": "23c6ac54-2301-11ef-ad2f-0242ac120005"
      },
      {
       "current": "23c6ac7c-2301-11ef-ad2f-0242ac120005-1-b5de",
       "next": "37fd7fe4-56f9-11ec-a1da-0242ac120004-4-e08c-554e-1602-c4c8",
       "previous": "23c6ac54-2301-11ef-ad2f-0242ac120005"
      },
      {
       "current": "23c6ac7c-2301-11ef-ad2f-0242ac120005-2-b5de-163c",
       "next": "37fd7fe4-56f9-11ec-a1da-0242ac120004-5-e08c-554e-1602-c4c8-610d",
       "previous": "23c6ac54-2301-11ef-ad2f-0242ac120005-1-43b8"
      }
     ],
     "next": "37fd7fe4-56f9-11ec-a1da-0242ac120004-6-e08c-554e-1602-c4c8-610d-6386",
     "previous": "23c6ac54-2301-11ef-ad2f-0242ac120005-2-43b8-6b07"
    }
   },
   "outputs": [],
   "source": [
    "provisioning_vip = params['openstack']['provisioning_vip']\n",
    "provisioning_vip"
   ]
  },
  {
   "cell_type": "markdown",
   "metadata": {
    "heading_collapsed": true,
    "lc_cell_meme": {
     "current": "37fd7fe4-56f9-11ec-a1da-0242ac120004-6-e08c-554e-1602-c4c8-610d-6386",
     "history": [
      {
       "current": "37fd7fe4-56f9-11ec-a1da-0242ac120004-1-e08c",
       "next": "37fd8138-56f9-11ec-a1da-0242ac120004",
       "previous": "37fd7e90-56f9-11ec-a1da-0242ac120004"
      },
      {
       "current": "37fd7fe4-56f9-11ec-a1da-0242ac120004-2-e08c-554e",
       "next": "7f8980ba-56f9-11ec-a1da-0242ac120004",
       "previous": "37fd7e90-56f9-11ec-a1da-0242ac120004"
      },
      {
       "current": "37fd7fe4-56f9-11ec-a1da-0242ac120004-3-e08c-554e-1602",
       "next": "7f8980ba-56f9-11ec-a1da-0242ac120004-1-eb32",
       "previous": "37fd7e90-56f9-11ec-a1da-0242ac120004-1-007d"
      },
      {
       "current": "37fd7fe4-56f9-11ec-a1da-0242ac120004-4-e08c-554e-1602-c4c8",
       "next": "7f8980ba-56f9-11ec-a1da-0242ac120004-2-eb32-3431",
       "previous": "37fd7e90-56f9-11ec-a1da-0242ac120004-2-007d-347a"
      },
      {
       "current": "37fd7fe4-56f9-11ec-a1da-0242ac120004-4-e08c-554e-1602-c4c8",
       "next": "7f8980ba-56f9-11ec-a1da-0242ac120004-3-eb32-3431-f1d1",
       "previous": "37fd7e90-56f9-11ec-a1da-0242ac120004-3-007d-347a-34ae"
      },
      {
       "current": "37fd7fe4-56f9-11ec-a1da-0242ac120004-5-e08c-554e-1602-c4c8-610d",
       "next": "7f8980ba-56f9-11ec-a1da-0242ac120004-3-eb32-3431-f1d1",
       "previous": "23c6ac7c-2301-11ef-ad2f-0242ac120005"
      },
      {
       "current": "37fd7fe4-56f9-11ec-a1da-0242ac120004-6-e08c-554e-1602-c4c8-610d-6386",
       "next": "7f8980ba-56f9-11ec-a1da-0242ac120004-4-eb32-3431-f1d1-5f3a",
       "previous": "23c6ac7c-2301-11ef-ad2f-0242ac120005-1-b5de"
      }
     ],
     "next": "7f8980ba-56f9-11ec-a1da-0242ac120004-5-eb32-3431-f1d1-5f3a-fed1",
     "previous": "23c6ac7c-2301-11ef-ad2f-0242ac120005-2-b5de-163c"
    }
   },
   "source": [
    "## CephノードとストレージセグメントIPアドレス対応表の読み込み"
   ]
  },
  {
   "cell_type": "code",
   "execution_count": null,
   "metadata": {
    "hidden": true,
    "lc_cell_meme": {
     "current": "7f8980ba-56f9-11ec-a1da-0242ac120004-5-eb32-3431-f1d1-5f3a-fed1",
     "history": [
      {
       "current": "7f8980ba-56f9-11ec-a1da-0242ac120004-1-eb32",
       "next": "7f898358-56f9-11ec-a1da-0242ac120004",
       "previous": "37fd7fe4-56f9-11ec-a1da-0242ac120004-1-e08c"
      },
      {
       "current": "7f8980ba-56f9-11ec-a1da-0242ac120004-1-eb32",
       "next": "7f898358-56f9-11ec-a1da-0242ac120004-1-9fd7",
       "previous": "37fd7fe4-56f9-11ec-a1da-0242ac120004-2-e08c-554e"
      },
      {
       "current": "7f8980ba-56f9-11ec-a1da-0242ac120004-2-eb32-3431",
       "next": "1da70ed8-6f22-11ee-89fa-0242ac120005",
       "previous": "37fd7fe4-56f9-11ec-a1da-0242ac120004-2-e08c-554e"
      },
      {
       "current": "7f8980ba-56f9-11ec-a1da-0242ac120004-3-eb32-3431-f1d1",
       "next": "1da70ed8-6f22-11ee-89fa-0242ac120005-1-0053",
       "previous": "37fd7fe4-56f9-11ec-a1da-0242ac120004-3-e08c-554e-1602"
      },
      {
       "current": "7f8980ba-56f9-11ec-a1da-0242ac120004-3-eb32-3431-f1d1",
       "next": "1da70ed8-6f22-11ee-89fa-0242ac120005-2-0053-91c1",
       "previous": "37fd7fe4-56f9-11ec-a1da-0242ac120004-4-e08c-554e-1602-c4c8"
      },
      {
       "current": "7f8980ba-56f9-11ec-a1da-0242ac120004-4-eb32-3431-f1d1-5f3a",
       "next": "652daa0a-6f22-11ee-89fa-0242ac120005-2-eba6-7807",
       "previous": "37fd7fe4-56f9-11ec-a1da-0242ac120004-4-e08c-554e-1602-c4c8"
      },
      {
       "current": "7f8980ba-56f9-11ec-a1da-0242ac120004-5-eb32-3431-f1d1-5f3a-fed1",
       "next": "652daa0a-6f22-11ee-89fa-0242ac120005-3-eba6-7807-f0e2",
       "previous": "37fd7fe4-56f9-11ec-a1da-0242ac120004-5-e08c-554e-1602-c4c8-610d"
      }
     ],
     "next": "652daa0a-6f22-11ee-89fa-0242ac120005-4-eba6-7807-f0e2-1901",
     "previous": "37fd7fe4-56f9-11ec-a1da-0242ac120004-6-e08c-554e-1602-c4c8-610d-6386"
    },
    "scrolled": true
   },
   "outputs": [],
   "source": [
    "import os\n",
    "import csv\n",
    "import pandas as pd\n",
    "\n",
    "instance_ip_csv_path =  os.environ['HOME'] + \"/notebooks/share/configuration/ceph/ceph_instance_ip.csv\"\n",
    "instance_ip_list = []\n",
    "instance_ip_map = {}\n",
    "\n",
    "with open(instance_ip_csv_path, 'r') as path_csv:\n",
    "    reader = csv.DictReader(path_csv)\n",
    "    \n",
    "    for record in reader:\n",
    "        instance_ip_list.append(record)\n",
    "        instance_ip_map[record['instance_name']] = record\n",
    "\n",
    "pd.DataFrame(instance_ip_list)"
   ]
  },
  {
   "cell_type": "markdown",
   "metadata": {
    "lc_cell_meme": {
     "current": "652daa0a-6f22-11ee-89fa-0242ac120005-4-eba6-7807-f0e2-1901",
     "history": [
      {
       "current": "652daa0a-6f22-11ee-89fa-0242ac120005-1-eba6",
       "next": "652dab5e-6f22-11ee-89fa-0242ac120005",
       "previous": "7f898358-56f9-11ec-a1da-0242ac120004-1-9fd7"
      },
      {
       "current": "652daa0a-6f22-11ee-89fa-0242ac120005-2-eba6-7807",
       "next": "652dab5e-6f22-11ee-89fa-0242ac120005-1-03ad",
       "previous": "7f898358-56f9-11ec-a1da-0242ac120004-2-9fd7-38e6"
      },
      {
       "current": "652daa0a-6f22-11ee-89fa-0242ac120005-2-eba6-7807",
       "next": "652dab5e-6f22-11ee-89fa-0242ac120005-2-03ad-c3e0",
       "previous": "7f898358-56f9-11ec-a1da-0242ac120004-3-9fd7-38e6-a54b"
      },
      {
       "current": "652daa0a-6f22-11ee-89fa-0242ac120005-3-eba6-7807-f0e2",
       "next": "652dab5e-6f22-11ee-89fa-0242ac120005-2-03ad-c3e0",
       "previous": "7f8980ba-56f9-11ec-a1da-0242ac120004-3-eb32-3431-f1d1"
      },
      {
       "current": "652daa0a-6f22-11ee-89fa-0242ac120005-4-eba6-7807-f0e2-1901",
       "next": "652dab5e-6f22-11ee-89fa-0242ac120005-3-03ad-c3e0-f8ca",
       "previous": "7f8980ba-56f9-11ec-a1da-0242ac120004-4-eb32-3431-f1d1-5f3a"
      }
     ],
     "next": "652dab5e-6f22-11ee-89fa-0242ac120005-4-03ad-c3e0-f8ca-de14",
     "previous": "7f8980ba-56f9-11ec-a1da-0242ac120004-5-eb32-3431-f1d1-5f3a-fed1"
    }
   },
   "source": [
    "## 作業用ディレクトリを作成する"
   ]
  },
  {
   "cell_type": "code",
   "execution_count": null,
   "metadata": {
    "lc_cell_meme": {
     "current": "652dab5e-6f22-11ee-89fa-0242ac120005-4-03ad-c3e0-f8ca-de14",
     "history": [
      {
       "current": "652dab5e-6f22-11ee-89fa-0242ac120005-1-03ad",
       "next": "652dabea-6f22-11ee-89fa-0242ac120005",
       "previous": "652daa0a-6f22-11ee-89fa-0242ac120005"
      },
      {
       "current": "652dab5e-6f22-11ee-89fa-0242ac120005-2-03ad-c3e0",
       "next": "652dabea-6f22-11ee-89fa-0242ac120005-1-7316",
       "previous": "652daa0a-6f22-11ee-89fa-0242ac120005-1-eba6"
      },
      {
       "current": "652dab5e-6f22-11ee-89fa-0242ac120005-3-03ad-c3e0-f8ca",
       "next": "652dabea-6f22-11ee-89fa-0242ac120005-2-7316-5b9c",
       "previous": "652daa0a-6f22-11ee-89fa-0242ac120005-2-eba6-7807"
      },
      {
       "current": "652dab5e-6f22-11ee-89fa-0242ac120005-4-03ad-c3e0-f8ca-de14",
       "next": "652dabea-6f22-11ee-89fa-0242ac120005-3-7316-5b9c-786a",
       "previous": "652daa0a-6f22-11ee-89fa-0242ac120005-3-eba6-7807-f0e2"
      }
     ],
     "next": "652dabea-6f22-11ee-89fa-0242ac120005-4-7316-5b9c-786a-cade",
     "previous": "652daa0a-6f22-11ee-89fa-0242ac120005-4-eba6-7807-f0e2-1901"
    }
   },
   "outputs": [],
   "source": [
    "import os,tempfile\n",
    "temp_dir = tempfile.mkdtemp()\n",
    "print (temp_dir)"
   ]
  },
  {
   "cell_type": "markdown",
   "metadata": {
    "heading_collapsed": true,
    "lc_cell_meme": {
     "current": "652dabea-6f22-11ee-89fa-0242ac120005-4-7316-5b9c-786a-cade",
     "history": [
      {
       "current": "652dabea-6f22-11ee-89fa-0242ac120005-1-7316",
       "next": "652dac44-6f22-11ee-89fa-0242ac120005",
       "previous": "652dab5e-6f22-11ee-89fa-0242ac120005"
      },
      {
       "current": "652dabea-6f22-11ee-89fa-0242ac120005-2-7316-5b9c",
       "next": "652dac44-6f22-11ee-89fa-0242ac120005-1-37b3",
       "previous": "652dab5e-6f22-11ee-89fa-0242ac120005-1-03ad"
      },
      {
       "current": "652dabea-6f22-11ee-89fa-0242ac120005-3-7316-5b9c-786a",
       "next": "652dac44-6f22-11ee-89fa-0242ac120005-2-37b3-4cc6",
       "previous": "652dab5e-6f22-11ee-89fa-0242ac120005-2-03ad-c3e0"
      },
      {
       "current": "652dabea-6f22-11ee-89fa-0242ac120005-4-7316-5b9c-786a-cade",
       "next": "652dac44-6f22-11ee-89fa-0242ac120005-3-37b3-4cc6-fbaa",
       "previous": "652dab5e-6f22-11ee-89fa-0242ac120005-3-03ad-c3e0-f8ca"
      }
     ],
     "next": "652dac44-6f22-11ee-89fa-0242ac120005-4-37b3-4cc6-fbaa-de94",
     "previous": "652dab5e-6f22-11ee-89fa-0242ac120005-4-03ad-c3e0-f8ca-de14"
    }
   },
   "source": [
    "## AnsibleのInventoryファイルを作業用ディレクトリへ作成する"
   ]
  },
  {
   "cell_type": "code",
   "execution_count": null,
   "metadata": {
    "hidden": true,
    "lc_cell_meme": {
     "current": "652dac44-6f22-11ee-89fa-0242ac120005-4-37b3-4cc6-fbaa-de94",
     "history": [
      {
       "current": "652dac44-6f22-11ee-89fa-0242ac120005-1-37b3",
       "next": "652daca8-6f22-11ee-89fa-0242ac120005",
       "previous": "652dabea-6f22-11ee-89fa-0242ac120005"
      },
      {
       "current": "652dac44-6f22-11ee-89fa-0242ac120005-2-37b3-4cc6",
       "next": "652daca8-6f22-11ee-89fa-0242ac120005-1-af82",
       "previous": "652dabea-6f22-11ee-89fa-0242ac120005-1-7316"
      },
      {
       "current": "652dac44-6f22-11ee-89fa-0242ac120005-3-37b3-4cc6-fbaa",
       "next": "652daca8-6f22-11ee-89fa-0242ac120005-2-af82-a6ef",
       "previous": "652dabea-6f22-11ee-89fa-0242ac120005-2-7316-5b9c"
      },
      {
       "current": "652dac44-6f22-11ee-89fa-0242ac120005-4-37b3-4cc6-fbaa-de94",
       "next": "652daca8-6f22-11ee-89fa-0242ac120005-3-af82-a6ef-3893",
       "previous": "652dabea-6f22-11ee-89fa-0242ac120005-3-7316-5b9c-786a"
      }
     ],
     "next": "652daca8-6f22-11ee-89fa-0242ac120005-4-af82-a6ef-3893-c274",
     "previous": "652dabea-6f22-11ee-89fa-0242ac120005-4-7316-5b9c-786a-cade"
    }
   },
   "outputs": [],
   "source": [
    "import os\n",
    "\n",
    "with open( os.path.join(temp_dir, \"hosts\"), 'w') as f:\n",
    "    f.write('''[openstack_ctl]\n",
    "{openstack_cmn}\n",
    "'''.format(openstack_cmn = provisioning_vip))\n",
    "\n",
    "hosts = temp_dir + \"/hosts\"\n",
    "!cat $hosts"
   ]
  },
  {
   "cell_type": "code",
   "execution_count": null,
   "metadata": {
    "hidden": true,
    "lc_cell_meme": {
     "current": "652daca8-6f22-11ee-89fa-0242ac120005-4-af82-a6ef-3893-c274",
     "history": [
      {
       "current": "652daca8-6f22-11ee-89fa-0242ac120005-1-af82",
       "next": "652dacf8-6f22-11ee-89fa-0242ac120005",
       "previous": "652dac44-6f22-11ee-89fa-0242ac120005"
      },
      {
       "current": "652daca8-6f22-11ee-89fa-0242ac120005-2-af82-a6ef",
       "next": "652dacf8-6f22-11ee-89fa-0242ac120005-1-1f2c",
       "previous": "652dac44-6f22-11ee-89fa-0242ac120005-1-37b3"
      },
      {
       "current": "652daca8-6f22-11ee-89fa-0242ac120005-3-af82-a6ef-3893",
       "next": "652dacf8-6f22-11ee-89fa-0242ac120005-2-1f2c-3ef4",
       "previous": "652dac44-6f22-11ee-89fa-0242ac120005-2-37b3-4cc6"
      },
      {
       "current": "652daca8-6f22-11ee-89fa-0242ac120005-4-af82-a6ef-3893-c274",
       "next": "652dacf8-6f22-11ee-89fa-0242ac120005-3-1f2c-3ef4-b10b",
       "previous": "652dac44-6f22-11ee-89fa-0242ac120005-3-37b3-4cc6-fbaa"
      }
     ],
     "next": "652dacf8-6f22-11ee-89fa-0242ac120005-4-1f2c-3ef4-b10b-3c01",
     "previous": "652dac44-6f22-11ee-89fa-0242ac120005-4-37b3-4cc6-fbaa-de94"
    }
   },
   "outputs": [],
   "source": [
    "%env ANSIBLE_INVENTORY={hosts}"
   ]
  },
  {
   "cell_type": "markdown",
   "metadata": {
    "hidden": true,
    "lc_cell_meme": {
     "current": "652dacf8-6f22-11ee-89fa-0242ac120005-4-1f2c-3ef4-b10b-3c01",
     "history": [
      {
       "current": "652dacf8-6f22-11ee-89fa-0242ac120005-1-1f2c",
       "next": "652dade8-6f22-11ee-89fa-0242ac120005",
       "previous": "652daca8-6f22-11ee-89fa-0242ac120005"
      },
      {
       "current": "652dacf8-6f22-11ee-89fa-0242ac120005-2-1f2c-3ef4",
       "next": "652dade8-6f22-11ee-89fa-0242ac120005-1-c1ff",
       "previous": "652daca8-6f22-11ee-89fa-0242ac120005-1-af82"
      },
      {
       "current": "652dacf8-6f22-11ee-89fa-0242ac120005-3-1f2c-3ef4-b10b",
       "next": "652dade8-6f22-11ee-89fa-0242ac120005-2-c1ff-72e4",
       "previous": "652daca8-6f22-11ee-89fa-0242ac120005-2-af82-a6ef"
      },
      {
       "current": "652dacf8-6f22-11ee-89fa-0242ac120005-4-1f2c-3ef4-b10b-3c01",
       "next": "652dade8-6f22-11ee-89fa-0242ac120005-3-c1ff-72e4-cf3a",
       "previous": "652daca8-6f22-11ee-89fa-0242ac120005-3-af82-a6ef-3893"
      }
     ],
     "next": "652dade8-6f22-11ee-89fa-0242ac120005-4-c1ff-72e4-cf3a-403e",
     "previous": "652daca8-6f22-11ee-89fa-0242ac120005-4-af82-a6ef-3893-c274"
    }
   },
   "source": [
    "疎通確認"
   ]
  },
  {
   "cell_type": "code",
   "execution_count": null,
   "metadata": {
    "hidden": true,
    "lc_cell_meme": {
     "current": "652dade8-6f22-11ee-89fa-0242ac120005-4-c1ff-72e4-cf3a-403e",
     "history": [
      {
       "current": "652dade8-6f22-11ee-89fa-0242ac120005-1-c1ff",
       "next": "652dae42-6f22-11ee-89fa-0242ac120005",
       "previous": "652dacf8-6f22-11ee-89fa-0242ac120005"
      },
      {
       "current": "652dade8-6f22-11ee-89fa-0242ac120005-2-c1ff-72e4",
       "next": "652dae42-6f22-11ee-89fa-0242ac120005-1-c78d",
       "previous": "652dacf8-6f22-11ee-89fa-0242ac120005-1-1f2c"
      },
      {
       "current": "652dade8-6f22-11ee-89fa-0242ac120005-3-c1ff-72e4-cf3a",
       "next": "652dae42-6f22-11ee-89fa-0242ac120005-2-c78d-365b",
       "previous": "652dacf8-6f22-11ee-89fa-0242ac120005-2-1f2c-3ef4"
      },
      {
       "current": "652dade8-6f22-11ee-89fa-0242ac120005-4-c1ff-72e4-cf3a-403e",
       "next": "652dae42-6f22-11ee-89fa-0242ac120005-3-c78d-365b-f049",
       "previous": "652dacf8-6f22-11ee-89fa-0242ac120005-3-1f2c-3ef4-b10b"
      }
     ],
     "next": "652dae42-6f22-11ee-89fa-0242ac120005-4-c78d-365b-f049-7ea2",
     "previous": "652dacf8-6f22-11ee-89fa-0242ac120005-4-1f2c-3ef4-b10b-3c01"
    }
   },
   "outputs": [],
   "source": [
    "!ansible -m ping openstack_ctl"
   ]
  },
  {
   "cell_type": "code",
   "execution_count": null,
   "metadata": {
    "hidden": true,
    "lc_cell_meme": {
     "current": "652dae42-6f22-11ee-89fa-0242ac120005-4-c78d-365b-f049-7ea2",
     "history": [
      {
       "current": "652dae42-6f22-11ee-89fa-0242ac120005-1-c78d",
       "next": "652dae92-6f22-11ee-89fa-0242ac120005",
       "previous": "652dade8-6f22-11ee-89fa-0242ac120005"
      },
      {
       "current": "652dae42-6f22-11ee-89fa-0242ac120005-2-c78d-365b",
       "next": "652dae92-6f22-11ee-89fa-0242ac120005-1-fe09",
       "previous": "652dade8-6f22-11ee-89fa-0242ac120005-1-c1ff"
      },
      {
       "current": "652dae42-6f22-11ee-89fa-0242ac120005-3-c78d-365b-f049",
       "next": "652dae92-6f22-11ee-89fa-0242ac120005-2-fe09-5ae8",
       "previous": "652dade8-6f22-11ee-89fa-0242ac120005-2-c1ff-72e4"
      },
      {
       "current": "652dae42-6f22-11ee-89fa-0242ac120005-4-c78d-365b-f049-7ea2",
       "next": "652dae92-6f22-11ee-89fa-0242ac120005-3-fe09-5ae8-1624",
       "previous": "652dade8-6f22-11ee-89fa-0242ac120005-3-c1ff-72e4-cf3a"
      }
     ],
     "next": "652dae92-6f22-11ee-89fa-0242ac120005-4-fe09-5ae8-1624-decc",
     "previous": "652dade8-6f22-11ee-89fa-0242ac120005-4-c1ff-72e4-cf3a-403e"
    }
   },
   "outputs": [],
   "source": [
    "!ansible -a 'hostname' openstack_ctl"
   ]
  },
  {
   "cell_type": "markdown",
   "metadata": {
    "lc_cell_meme": {
     "current": "652dae92-6f22-11ee-89fa-0242ac120005-4-fe09-5ae8-1624-decc",
     "history": [
      {
       "current": "652dae92-6f22-11ee-89fa-0242ac120005-1-fe09",
       "next": "652daeec-6f22-11ee-89fa-0242ac120005",
       "previous": "652dae42-6f22-11ee-89fa-0242ac120005"
      },
      {
       "current": "652dae92-6f22-11ee-89fa-0242ac120005-2-fe09-5ae8",
       "next": "652daeec-6f22-11ee-89fa-0242ac120005-1-86fb",
       "previous": "652dae42-6f22-11ee-89fa-0242ac120005-1-c78d"
      },
      {
       "current": "652dae92-6f22-11ee-89fa-0242ac120005-3-fe09-5ae8-1624",
       "next": "652daeec-6f22-11ee-89fa-0242ac120005-2-86fb-4a47",
       "previous": "652dae42-6f22-11ee-89fa-0242ac120005-2-c78d-365b"
      },
      {
       "current": "652dae92-6f22-11ee-89fa-0242ac120005-4-fe09-5ae8-1624-decc",
       "next": "652daeec-6f22-11ee-89fa-0242ac120005-3-86fb-4a47-4afd",
       "previous": "652dae42-6f22-11ee-89fa-0242ac120005-3-c78d-365b-f049"
      }
     ],
     "next": "652daeec-6f22-11ee-89fa-0242ac120005-4-86fb-4a47-4afd-9535",
     "previous": "652dae42-6f22-11ee-89fa-0242ac120005-4-c78d-365b-f049-7ea2"
    }
   },
   "source": [
    "## OpenStack用OpenRCファイル設定\n",
    "\n",
    "`xxxxxxx`プロジェクト用のOpenRCファイルを事前にダウンロードしておくこと。  "
   ]
  },
  {
   "cell_type": "code",
   "execution_count": null,
   "metadata": {
    "lc_cell_meme": {
     "current": "652daeec-6f22-11ee-89fa-0242ac120005-4-86fb-4a47-4afd-9535",
     "history": [
      {
       "current": "652daeec-6f22-11ee-89fa-0242ac120005-1-86fb",
       "next": "652daf46-6f22-11ee-89fa-0242ac120005",
       "previous": "652dae92-6f22-11ee-89fa-0242ac120005"
      },
      {
       "current": "652daeec-6f22-11ee-89fa-0242ac120005-2-86fb-4a47",
       "next": "652daf46-6f22-11ee-89fa-0242ac120005-1-19ca",
       "previous": "652dae92-6f22-11ee-89fa-0242ac120005-1-fe09"
      },
      {
       "current": "652daeec-6f22-11ee-89fa-0242ac120005-3-86fb-4a47-4afd",
       "next": "652daf46-6f22-11ee-89fa-0242ac120005-2-19ca-b673",
       "previous": "652dae92-6f22-11ee-89fa-0242ac120005-2-fe09-5ae8"
      },
      {
       "current": "652daeec-6f22-11ee-89fa-0242ac120005-4-86fb-4a47-4afd-9535",
       "next": "652daf46-6f22-11ee-89fa-0242ac120005-3-19ca-b673-6523",
       "previous": "652dae92-6f22-11ee-89fa-0242ac120005-3-fe09-5ae8-1624"
      }
     ],
     "next": "652daf46-6f22-11ee-89fa-0242ac120005-4-19ca-b673-6523-0dcf",
     "previous": "652dae92-6f22-11ee-89fa-0242ac120005-4-fe09-5ae8-1624-decc"
    }
   },
   "outputs": [],
   "source": [
    "import os\n",
    "\n",
    "user_creds = os.path.expanduser('~/.keys/xxxxxxx-openrc.sh')\n",
    "\n",
    "assert os.path.exists(user_creds), '{} is not exist'.format(user_creds)"
   ]
  },
  {
   "cell_type": "code",
   "execution_count": null,
   "metadata": {
    "lc_cell_meme": {
     "current": "652daf46-6f22-11ee-89fa-0242ac120005-4-19ca-b673-6523-0dcf",
     "history": [
      {
       "current": "652daf46-6f22-11ee-89fa-0242ac120005-1-19ca",
       "next": "652daf96-6f22-11ee-89fa-0242ac120005",
       "previous": "652daeec-6f22-11ee-89fa-0242ac120005"
      },
      {
       "current": "652daf46-6f22-11ee-89fa-0242ac120005-2-19ca-b673",
       "next": "652daf96-6f22-11ee-89fa-0242ac120005-1-b21b",
       "previous": "652daeec-6f22-11ee-89fa-0242ac120005-1-86fb"
      },
      {
       "current": "652daf46-6f22-11ee-89fa-0242ac120005-3-19ca-b673-6523",
       "next": "652daf96-6f22-11ee-89fa-0242ac120005-2-b21b-fe1c",
       "previous": "652daeec-6f22-11ee-89fa-0242ac120005-2-86fb-4a47"
      },
      {
       "current": "652daf46-6f22-11ee-89fa-0242ac120005-4-19ca-b673-6523-0dcf",
       "next": "652daf96-6f22-11ee-89fa-0242ac120005-3-b21b-fe1c-4faf",
       "previous": "652daeec-6f22-11ee-89fa-0242ac120005-3-86fb-4a47-4afd"
      }
     ],
     "next": "652daf96-6f22-11ee-89fa-0242ac120005-4-b21b-fe1c-4faf-106e",
     "previous": "652daeec-6f22-11ee-89fa-0242ac120005-4-86fb-4a47-4afd-9535"
    }
   },
   "outputs": [],
   "source": [
    "%env USER_CREDS={user_creds}"
   ]
  },
  {
   "cell_type": "code",
   "execution_count": null,
   "metadata": {
    "lc_cell_meme": {
     "current": "652daf96-6f22-11ee-89fa-0242ac120005-4-b21b-fe1c-4faf-106e",
     "history": [
      {
       "current": "652daf96-6f22-11ee-89fa-0242ac120005",
       "next": "652dafe6-6f22-11ee-89fa-0242ac120005",
       "previous": "652daf46-6f22-11ee-89fa-0242ac120005"
      },
      {
       "current": "652daf96-6f22-11ee-89fa-0242ac120005-1-b21b",
       "next": "652dafe6-6f22-11ee-89fa-0242ac120005-1-01d4",
       "previous": "652daf46-6f22-11ee-89fa-0242ac120005"
      },
      {
       "current": "652daf96-6f22-11ee-89fa-0242ac120005-2-b21b-fe1c",
       "next": "652dafe6-6f22-11ee-89fa-0242ac120005-2-01d4-f6a8",
       "previous": "652daf46-6f22-11ee-89fa-0242ac120005-1-19ca"
      },
      {
       "current": "652daf96-6f22-11ee-89fa-0242ac120005-3-b21b-fe1c-4faf",
       "next": "652dafe6-6f22-11ee-89fa-0242ac120005-3-01d4-f6a8-cc12",
       "previous": "652daf46-6f22-11ee-89fa-0242ac120005-2-19ca-b673"
      },
      {
       "current": "652daf96-6f22-11ee-89fa-0242ac120005-4-b21b-fe1c-4faf-106e",
       "next": "652dafe6-6f22-11ee-89fa-0242ac120005-4-01d4-f6a8-cc12-7140",
       "previous": "652daf46-6f22-11ee-89fa-0242ac120005-3-19ca-b673-6523"
      }
     ],
     "next": "652dafe6-6f22-11ee-89fa-0242ac120005-5-01d4-f6a8-cc12-7140-125e",
     "previous": "652daf46-6f22-11ee-89fa-0242ac120005-4-19ca-b673-6523-0dcf"
    }
   },
   "outputs": [],
   "source": [
    "!ls -l {user_creds}"
   ]
  },
  {
   "cell_type": "markdown",
   "metadata": {
    "heading_collapsed": true,
    "lc_cell_meme": {
     "current": "652dafe6-6f22-11ee-89fa-0242ac120005-5-01d4-f6a8-cc12-7140-125e",
     "history": [
      {
       "current": "652dafe6-6f22-11ee-89fa-0242ac120005-2-01d4-f6a8",
       "next": "652db040-6f22-11ee-89fa-0242ac120005",
       "previous": "652daf96-6f22-11ee-89fa-0242ac120005"
      },
      {
       "current": "652dafe6-6f22-11ee-89fa-0242ac120005-3-01d4-f6a8-cc12",
       "next": "652db040-6f22-11ee-89fa-0242ac120005-1-a27f",
       "previous": "652daf96-6f22-11ee-89fa-0242ac120005-1-b21b"
      },
      {
       "current": "652dafe6-6f22-11ee-89fa-0242ac120005-4-01d4-f6a8-cc12-7140",
       "next": "652db040-6f22-11ee-89fa-0242ac120005-2-a27f-c6cb",
       "previous": "652daf96-6f22-11ee-89fa-0242ac120005-2-b21b-fe1c"
      },
      {
       "current": "652dafe6-6f22-11ee-89fa-0242ac120005-5-01d4-f6a8-cc12-7140-125e",
       "next": "652db040-6f22-11ee-89fa-0242ac120005-3-a27f-c6cb-1559",
       "previous": "652daf96-6f22-11ee-89fa-0242ac120005-3-b21b-fe1c-4faf"
      }
     ],
     "next": "652db040-6f22-11ee-89fa-0242ac120005-4-a27f-c6cb-1559-cc76",
     "previous": "652daf96-6f22-11ee-89fa-0242ac120005-4-b21b-fe1c-4faf-106e"
    }
   },
   "source": [
    "## openstackコマンド用ユーティリティ関数"
   ]
  },
  {
   "cell_type": "code",
   "execution_count": null,
   "metadata": {
    "hidden": true,
    "lc_cell_meme": {
     "current": "652db040-6f22-11ee-89fa-0242ac120005-4-a27f-c6cb-1559-cc76",
     "history": [
      {
       "current": "652db040-6f22-11ee-89fa-0242ac120005",
       "next": "652db090-6f22-11ee-89fa-0242ac120005",
       "previous": "652dafe6-6f22-11ee-89fa-0242ac120005"
      },
      {
       "current": "652db040-6f22-11ee-89fa-0242ac120005-1-a27f",
       "next": "acb9ce94-6f22-11ee-89fa-0242ac120005",
       "previous": "652dafe6-6f22-11ee-89fa-0242ac120005-1-01d4"
      },
      {
       "current": "652db040-6f22-11ee-89fa-0242ac120005-2-a27f-c6cb",
       "next": "acb9ce94-6f22-11ee-89fa-0242ac120005-1-d50e",
       "previous": "652dafe6-6f22-11ee-89fa-0242ac120005-2-01d4-f6a8"
      },
      {
       "current": "652db040-6f22-11ee-89fa-0242ac120005-3-a27f-c6cb-1559",
       "next": "acb9ce94-6f22-11ee-89fa-0242ac120005-2-d50e-3738",
       "previous": "652dafe6-6f22-11ee-89fa-0242ac120005-3-01d4-f6a8-cc12"
      },
      {
       "current": "652db040-6f22-11ee-89fa-0242ac120005-4-a27f-c6cb-1559-cc76",
       "next": "acb9ce94-6f22-11ee-89fa-0242ac120005-3-d50e-3738-ea30",
       "previous": "652dafe6-6f22-11ee-89fa-0242ac120005-4-01d4-f6a8-cc12-7140"
      }
     ],
     "next": "acb9ce94-6f22-11ee-89fa-0242ac120005-4-d50e-3738-ea30-fd23",
     "previous": "652dafe6-6f22-11ee-89fa-0242ac120005-5-01d4-f6a8-cc12-7140-125e"
    }
   },
   "outputs": [],
   "source": [
    "def build_cmdline(param):\n",
    "    cmdline = ''\n",
    "    \n",
    "    for param_name, param_value in param.items():\n",
    "        if isinstance(param_value, dict):\n",
    "            for key, value in param_value.items():\n",
    "                cmdline += ' --{} {}={}'.format(param_name, key, value)\n",
    "        elif isinstance(param_value, list):\n",
    "            for item in param_value:\n",
    "                cmdline += ' --{} {}'.format(param_name, item)\n",
    "        elif isinstance(param_value, bool):\n",
    "            if param_value:\n",
    "                cmdline += ' --{}'.format(param_name)\n",
    "        else:\n",
    "            cmdline += ' --{} {}'.format(param_name, param_value)\n",
    "\n",
    "    return cmdline"
   ]
  },
  {
   "cell_type": "code",
   "execution_count": null,
   "metadata": {
    "hidden": true,
    "lc_cell_meme": {
     "current": "acb9ce94-6f22-11ee-89fa-0242ac120005-4-d50e-3738-ea30-fd23",
     "history": [
      {
       "current": "acb9ce94-6f22-11ee-89fa-0242ac120005-1-d50e",
       "next": "acb9cf52-6f22-11ee-89fa-0242ac120005",
       "previous": "652db040-6f22-11ee-89fa-0242ac120005"
      },
      {
       "current": "acb9ce94-6f22-11ee-89fa-0242ac120005-2-d50e-3738",
       "next": "acb9cf52-6f22-11ee-89fa-0242ac120005-1-577c",
       "previous": "652db040-6f22-11ee-89fa-0242ac120005-1-a27f"
      },
      {
       "current": "acb9ce94-6f22-11ee-89fa-0242ac120005-3-d50e-3738-ea30",
       "next": "acb9cf52-6f22-11ee-89fa-0242ac120005-2-577c-d6d0",
       "previous": "652db040-6f22-11ee-89fa-0242ac120005-2-a27f-c6cb"
      },
      {
       "current": "acb9ce94-6f22-11ee-89fa-0242ac120005-4-d50e-3738-ea30-fd23",
       "next": "acb9cf52-6f22-11ee-89fa-0242ac120005-3-577c-d6d0-a864",
       "previous": "652db040-6f22-11ee-89fa-0242ac120005-3-a27f-c6cb-1559"
      }
     ],
     "next": "acb9cf52-6f22-11ee-89fa-0242ac120005-4-577c-d6d0-a864-16c9",
     "previous": "652db040-6f22-11ee-89fa-0242ac120005-4-a27f-c6cb-1559-cc76"
    }
   },
   "outputs": [],
   "source": [
    "import json\n",
    "\n",
    "def run_openstack(cmd):\n",
    "    print('EXEC: {}'.format(cmd))\n",
    "    out = !source {user_creds} && {cmd}\n",
    "    print('OUTPUT: {}'.format('\\n'.join(out)))\n",
    "    return json.loads('\\n'.join(out))"
   ]
  },
  {
   "cell_type": "markdown",
   "metadata": {
    "hidden": true,
    "lc_cell_meme": {
     "current": "acb9cf52-6f22-11ee-89fa-0242ac120005-4-577c-d6d0-a864-16c9",
     "history": [
      {
       "current": "acb9cf52-6f22-11ee-89fa-0242ac120005-1-577c",
       "next": "acb9d010-6f22-11ee-89fa-0242ac120005",
       "previous": "acb9ce94-6f22-11ee-89fa-0242ac120005"
      },
      {
       "current": "acb9cf52-6f22-11ee-89fa-0242ac120005-2-577c-d6d0",
       "next": "acb9d010-6f22-11ee-89fa-0242ac120005-1-775d",
       "previous": "acb9ce94-6f22-11ee-89fa-0242ac120005-1-d50e"
      },
      {
       "current": "acb9cf52-6f22-11ee-89fa-0242ac120005-3-577c-d6d0-a864",
       "next": "acb9d010-6f22-11ee-89fa-0242ac120005-2-775d-5afd",
       "previous": "acb9ce94-6f22-11ee-89fa-0242ac120005-2-d50e-3738"
      },
      {
       "current": "acb9cf52-6f22-11ee-89fa-0242ac120005-4-577c-d6d0-a864-16c9",
       "next": "acb9d010-6f22-11ee-89fa-0242ac120005-3-775d-5afd-30ea",
       "previous": "acb9ce94-6f22-11ee-89fa-0242ac120005-3-d50e-3738-ea30"
      }
     ],
     "next": "acb9d010-6f22-11ee-89fa-0242ac120005-4-775d-5afd-30ea-caca",
     "previous": "acb9ce94-6f22-11ee-89fa-0242ac120005-4-d50e-3738-ea30-fd23"
    }
   },
   "source": [
    "テスト"
   ]
  },
  {
   "cell_type": "code",
   "execution_count": null,
   "metadata": {
    "hidden": true,
    "lc_cell_meme": {
     "current": "acb9d010-6f22-11ee-89fa-0242ac120005-4-775d-5afd-30ea-caca",
     "history": [
      {
       "current": "acb9d010-6f22-11ee-89fa-0242ac120005-1-775d",
       "next": "7f8984de-56f9-11ec-a1da-0242ac120004-1-fe2a",
       "previous": "acb9cf52-6f22-11ee-89fa-0242ac120005"
      },
      {
       "current": "acb9d010-6f22-11ee-89fa-0242ac120005-2-775d-5afd",
       "next": "7f8984de-56f9-11ec-a1da-0242ac120004-2-fe2a-db8e",
       "previous": "acb9cf52-6f22-11ee-89fa-0242ac120005-1-577c"
      },
      {
       "current": "acb9d010-6f22-11ee-89fa-0242ac120005-3-775d-5afd-30ea",
       "next": "7f8984de-56f9-11ec-a1da-0242ac120004-3-fe2a-db8e-0c0d",
       "previous": "acb9cf52-6f22-11ee-89fa-0242ac120005-2-577c-d6d0"
      },
      {
       "current": "acb9d010-6f22-11ee-89fa-0242ac120005-4-775d-5afd-30ea-caca",
       "next": "7f8984de-56f9-11ec-a1da-0242ac120004-4-fe2a-db8e-0c0d-7314",
       "previous": "acb9cf52-6f22-11ee-89fa-0242ac120005-3-577c-d6d0-a864"
      }
     ],
     "next": "7f8984de-56f9-11ec-a1da-0242ac120004-5-fe2a-db8e-0c0d-7314-cfff",
     "previous": "acb9cf52-6f22-11ee-89fa-0242ac120005-4-577c-d6d0-a864-16c9"
    }
   },
   "outputs": [],
   "source": [
    "run_openstack('openstack flavor list -f json' + build_cmdline({'all': True}))"
   ]
  },
  {
   "cell_type": "markdown",
   "metadata": {
    "lc_cell_meme": {
     "current": "7f8984de-56f9-11ec-a1da-0242ac120004-5-fe2a-db8e-0c0d-7314-cfff",
     "history": [
      {
       "current": "7f8984de-56f9-11ec-a1da-0242ac120004-1-fe2a",
       "next": "7f89861e-56f9-11ec-a1da-0242ac120004",
       "previous": "7f898358-56f9-11ec-a1da-0242ac120004"
      },
      {
       "current": "7f8984de-56f9-11ec-a1da-0242ac120004-1-fe2a",
       "next": "7f89861e-56f9-11ec-a1da-0242ac120004-1-f0eb",
       "previous": "7f898358-56f9-11ec-a1da-0242ac120004-1-9fd7"
      },
      {
       "current": "7f8984de-56f9-11ec-a1da-0242ac120004-1-fe2a",
       "next": "7f89861e-56f9-11ec-a1da-0242ac120004-1-f0eb",
       "previous": "652db090-6f22-11ee-89fa-0242ac120005"
      },
      {
       "current": "7f8984de-56f9-11ec-a1da-0242ac120004-2-fe2a-db8e",
       "next": "7f89861e-56f9-11ec-a1da-0242ac120004-1-f0eb",
       "previous": "acb9d010-6f22-11ee-89fa-0242ac120005"
      },
      {
       "current": "7f8984de-56f9-11ec-a1da-0242ac120004-3-fe2a-db8e-0c0d",
       "next": "7f89861e-56f9-11ec-a1da-0242ac120004-2-f0eb-ecf2",
       "previous": "acb9d010-6f22-11ee-89fa-0242ac120005-1-775d"
      },
      {
       "current": "7f8984de-56f9-11ec-a1da-0242ac120004-4-fe2a-db8e-0c0d-7314",
       "next": "7f89861e-56f9-11ec-a1da-0242ac120004-3-f0eb-ecf2-9eab",
       "previous": "acb9d010-6f22-11ee-89fa-0242ac120005-2-775d-5afd"
      },
      {
       "current": "7f8984de-56f9-11ec-a1da-0242ac120004-5-fe2a-db8e-0c0d-7314-cfff",
       "next": "7f89861e-56f9-11ec-a1da-0242ac120004-4-f0eb-ecf2-9eab-35e8",
       "previous": "acb9d010-6f22-11ee-89fa-0242ac120005-3-775d-5afd-30ea"
      }
     ],
     "next": "7f89861e-56f9-11ec-a1da-0242ac120004-5-f0eb-ecf2-9eab-35e8-efe6",
     "previous": "acb9d010-6f22-11ee-89fa-0242ac120005-4-775d-5afd-30ea-caca"
    }
   },
   "source": [
    "## デプロイされたCephノード情報の取得"
   ]
  },
  {
   "cell_type": "markdown",
   "metadata": {
    "lc_cell_meme": {
     "current": "7f89861e-56f9-11ec-a1da-0242ac120004-5-f0eb-ecf2-9eab-35e8-efe6",
     "history": [
      {
       "current": "7f89861e-56f9-11ec-a1da-0242ac120004-1-f0eb",
       "next": "7f898754-56f9-11ec-a1da-0242ac120004",
       "previous": "7f8984de-56f9-11ec-a1da-0242ac120004"
      },
      {
       "current": "7f89861e-56f9-11ec-a1da-0242ac120004-1-f0eb",
       "next": "7f898754-56f9-11ec-a1da-0242ac120004-1-c22e",
       "previous": "7f8984de-56f9-11ec-a1da-0242ac120004-1-fe2a"
      },
      {
       "current": "7f89861e-56f9-11ec-a1da-0242ac120004-2-f0eb-ecf2",
       "next": "acb9d042-6f22-11ee-89fa-0242ac120005",
       "previous": "7f8984de-56f9-11ec-a1da-0242ac120004-1-fe2a"
      },
      {
       "current": "7f89861e-56f9-11ec-a1da-0242ac120004-3-f0eb-ecf2-9eab",
       "next": "acb9d042-6f22-11ee-89fa-0242ac120005-1-1048",
       "previous": "7f8984de-56f9-11ec-a1da-0242ac120004-2-fe2a-db8e"
      },
      {
       "current": "7f89861e-56f9-11ec-a1da-0242ac120004-4-f0eb-ecf2-9eab-35e8",
       "next": "acb9d042-6f22-11ee-89fa-0242ac120005-2-1048-e7c4",
       "previous": "7f8984de-56f9-11ec-a1da-0242ac120004-3-fe2a-db8e-0c0d"
      },
      {
       "current": "7f89861e-56f9-11ec-a1da-0242ac120004-5-f0eb-ecf2-9eab-35e8-efe6",
       "next": "acb9d042-6f22-11ee-89fa-0242ac120005-3-1048-e7c4-69d2",
       "previous": "7f8984de-56f9-11ec-a1da-0242ac120004-4-fe2a-db8e-0c0d-7314"
      }
     ],
     "next": "acb9d042-6f22-11ee-89fa-0242ac120005-4-1048-e7c4-69d2-a23f",
     "previous": "7f8984de-56f9-11ec-a1da-0242ac120004-5-fe2a-db8e-0c0d-7314-cfff"
    }
   },
   "source": [
    "ストレージノードを特定するにあたり、ノード名称が　ceph-nodexxx （xxxの部分は、右寄せ0埋めの数字3桁）というルールに従っていることを前提としている。<br>\n",
    " 例：ceph-node001<br>\n",
    " このノード名称ルールは、構築するCephクラスタ毎に変えるため、以下で定義する。"
   ]
  },
  {
   "cell_type": "code",
   "execution_count": null,
   "metadata": {
    "lc_cell_meme": {
     "current": "acb9d042-6f22-11ee-89fa-0242ac120005-4-1048-e7c4-69d2-a23f",
     "history": [
      {
       "current": "acb9d042-6f22-11ee-89fa-0242ac120005-1-1048",
       "next": "7f898754-56f9-11ec-a1da-0242ac120004-1-c22e",
       "previous": "7f89861e-56f9-11ec-a1da-0242ac120004-1-f0eb"
      },
      {
       "current": "acb9d042-6f22-11ee-89fa-0242ac120005-2-1048-e7c4",
       "next": "7f898754-56f9-11ec-a1da-0242ac120004-2-c22e-9c92",
       "previous": "7f89861e-56f9-11ec-a1da-0242ac120004-2-f0eb-ecf2"
      },
      {
       "current": "acb9d042-6f22-11ee-89fa-0242ac120005-3-1048-e7c4-69d2",
       "next": "7f898754-56f9-11ec-a1da-0242ac120004-3-c22e-9c92-e57e",
       "previous": "7f89861e-56f9-11ec-a1da-0242ac120004-3-f0eb-ecf2-9eab"
      },
      {
       "current": "acb9d042-6f22-11ee-89fa-0242ac120005-4-1048-e7c4-69d2-a23f",
       "next": "7f898754-56f9-11ec-a1da-0242ac120004-4-c22e-9c92-e57e-bc71",
       "previous": "7f89861e-56f9-11ec-a1da-0242ac120004-4-f0eb-ecf2-9eab-35e8"
      }
     ],
     "next": "7f898754-56f9-11ec-a1da-0242ac120004-5-c22e-9c92-e57e-bc71-ca22",
     "previous": "7f89861e-56f9-11ec-a1da-0242ac120004-5-f0eb-ecf2-9eab-35e8-efe6"
    }
   },
   "outputs": [],
   "source": [
    "# 初期化対象のインスタンス名称を設定する\n",
    "raise Exception('この先手作業が必要です')"
   ]
  },
  {
   "cell_type": "code",
   "execution_count": null,
   "metadata": {
    "lc_cell_meme": {
     "current": "7f898754-56f9-11ec-a1da-0242ac120004-5-c22e-9c92-e57e-bc71-ca22",
     "history": [
      {
       "current": "7f898754-56f9-11ec-a1da-0242ac120004",
       "next": "37fd8138-56f9-11ec-a1da-0242ac120004",
       "previous": "7f89861e-56f9-11ec-a1da-0242ac120004"
      },
      {
       "current": "7f898754-56f9-11ec-a1da-0242ac120004-1-c22e",
       "next": "37fd8138-56f9-11ec-a1da-0242ac120004-1-cd3c",
       "previous": "7f89861e-56f9-11ec-a1da-0242ac120004"
      },
      {
       "current": "7f898754-56f9-11ec-a1da-0242ac120004-1-c22e",
       "next": "37fd8138-56f9-11ec-a1da-0242ac120004-2-cd3c-96de",
       "previous": "7f89861e-56f9-11ec-a1da-0242ac120004-1-f0eb"
      },
      {
       "current": "7f898754-56f9-11ec-a1da-0242ac120004-2-c22e-9c92",
       "next": "acb9d06a-6f22-11ee-89fa-0242ac120005",
       "previous": "acb9d042-6f22-11ee-89fa-0242ac120005"
      },
      {
       "current": "7f898754-56f9-11ec-a1da-0242ac120004-3-c22e-9c92-e57e",
       "next": "acb9d06a-6f22-11ee-89fa-0242ac120005-1-8532",
       "previous": "acb9d042-6f22-11ee-89fa-0242ac120005-1-1048"
      },
      {
       "current": "7f898754-56f9-11ec-a1da-0242ac120004-4-c22e-9c92-e57e-bc71",
       "next": "acb9d06a-6f22-11ee-89fa-0242ac120005-2-8532-764d",
       "previous": "acb9d042-6f22-11ee-89fa-0242ac120005-2-1048-e7c4"
      },
      {
       "current": "7f898754-56f9-11ec-a1da-0242ac120004-5-c22e-9c92-e57e-bc71-ca22",
       "next": "acb9d06a-6f22-11ee-89fa-0242ac120005-3-8532-764d-3d59",
       "previous": "acb9d042-6f22-11ee-89fa-0242ac120005-3-1048-e7c4-69d2"
      }
     ],
     "next": "acb9d06a-6f22-11ee-89fa-0242ac120005-4-8532-764d-3d59-8c89",
     "previous": "acb9d042-6f22-11ee-89fa-0242ac120005-4-1048-e7c4-69d2-a23f"
    }
   },
   "outputs": [],
   "source": [
    "import pandas as pd\n",
    "import re\n",
    "\n",
    "# 対象インスタンス名称マッチングルール\n",
    "name_match_rule = r'ceph-xxx-node-[0-9]+'"
   ]
  },
  {
   "cell_type": "markdown",
   "metadata": {
    "heading_collapsed": true,
    "lc_cell_meme": {
     "current": "acb9d06a-6f22-11ee-89fa-0242ac120005-4-8532-764d-3d59-8c89",
     "history": [
      {
       "current": "acb9d06a-6f22-11ee-89fa-0242ac120005-1-8532",
       "next": "acb9d092-6f22-11ee-89fa-0242ac120005",
       "previous": "7f898754-56f9-11ec-a1da-0242ac120004-1-c22e"
      },
      {
       "current": "acb9d06a-6f22-11ee-89fa-0242ac120005-2-8532-764d",
       "next": "acb9d092-6f22-11ee-89fa-0242ac120005-1-eea8",
       "previous": "7f898754-56f9-11ec-a1da-0242ac120004-2-c22e-9c92"
      },
      {
       "current": "acb9d06a-6f22-11ee-89fa-0242ac120005-3-8532-764d-3d59",
       "next": "acb9d092-6f22-11ee-89fa-0242ac120005-2-eea8-463c",
       "previous": "7f898754-56f9-11ec-a1da-0242ac120004-3-c22e-9c92-e57e"
      },
      {
       "current": "acb9d06a-6f22-11ee-89fa-0242ac120005-4-8532-764d-3d59-8c89",
       "next": "acb9d092-6f22-11ee-89fa-0242ac120005-3-eea8-463c-bcf8",
       "previous": "7f898754-56f9-11ec-a1da-0242ac120004-4-c22e-9c92-e57e-bc71"
      }
     ],
     "next": "acb9d092-6f22-11ee-89fa-0242ac120005-4-eea8-463c-bcf8-bb39",
     "previous": "7f898754-56f9-11ec-a1da-0242ac120004-5-c22e-9c92-e57e-bc71-ca22"
    }
   },
   "source": [
    "## OpenStack Ironicからノード情報の取得"
   ]
  },
  {
   "cell_type": "code",
   "execution_count": null,
   "metadata": {
    "hidden": true,
    "lc_cell_meme": {
     "current": "acb9d092-6f22-11ee-89fa-0242ac120005-4-eea8-463c-bcf8-bb39",
     "history": [
      {
       "current": "acb9d092-6f22-11ee-89fa-0242ac120005-1-eea8",
       "next": "acb9d0ba-6f22-11ee-89fa-0242ac120005",
       "previous": "acb9d06a-6f22-11ee-89fa-0242ac120005"
      },
      {
       "current": "acb9d092-6f22-11ee-89fa-0242ac120005-2-eea8-463c",
       "next": "acb9d0ba-6f22-11ee-89fa-0242ac120005-1-ba0f",
       "previous": "acb9d06a-6f22-11ee-89fa-0242ac120005-1-8532"
      },
      {
       "current": "acb9d092-6f22-11ee-89fa-0242ac120005-3-eea8-463c-bcf8",
       "next": "acb9d0ba-6f22-11ee-89fa-0242ac120005-2-ba0f-ae5f",
       "previous": "acb9d06a-6f22-11ee-89fa-0242ac120005-2-8532-764d"
      },
      {
       "current": "acb9d092-6f22-11ee-89fa-0242ac120005-4-eea8-463c-bcf8-bb39",
       "next": "acb9d0ba-6f22-11ee-89fa-0242ac120005-3-ba0f-ae5f-d98c",
       "previous": "acb9d06a-6f22-11ee-89fa-0242ac120005-3-8532-764d-3d59"
      }
     ],
     "next": "acb9d0ba-6f22-11ee-89fa-0242ac120005-4-ba0f-ae5f-d98c-a1cf",
     "previous": "acb9d06a-6f22-11ee-89fa-0242ac120005-4-8532-764d-3d59-8c89"
    },
    "scrolled": true
   },
   "outputs": [],
   "source": [
    "cmd = \"openstack baremetal node list -f json --long\"\n",
    "nodes = run_openstack(cmd)"
   ]
  },
  {
   "cell_type": "code",
   "execution_count": null,
   "metadata": {
    "hidden": true,
    "lc_cell_meme": {
     "current": "acb9d0ba-6f22-11ee-89fa-0242ac120005-4-ba0f-ae5f-d98c-a1cf",
     "history": [
      {
       "current": "acb9d0ba-6f22-11ee-89fa-0242ac120005-1-ba0f",
       "next": "acb9d0e2-6f22-11ee-89fa-0242ac120005",
       "previous": "acb9d092-6f22-11ee-89fa-0242ac120005"
      },
      {
       "current": "acb9d0ba-6f22-11ee-89fa-0242ac120005-2-ba0f-ae5f",
       "next": "acb9d0e2-6f22-11ee-89fa-0242ac120005-1-11e0",
       "previous": "acb9d092-6f22-11ee-89fa-0242ac120005-1-eea8"
      },
      {
       "current": "acb9d0ba-6f22-11ee-89fa-0242ac120005-3-ba0f-ae5f-d98c",
       "next": "acb9d0e2-6f22-11ee-89fa-0242ac120005-2-11e0-ec5a",
       "previous": "acb9d092-6f22-11ee-89fa-0242ac120005-2-eea8-463c"
      },
      {
       "current": "acb9d0ba-6f22-11ee-89fa-0242ac120005-4-ba0f-ae5f-d98c-a1cf",
       "next": "acb9d0e2-6f22-11ee-89fa-0242ac120005-3-11e0-ec5a-0012",
       "previous": "acb9d092-6f22-11ee-89fa-0242ac120005-3-eea8-463c-bcf8"
      }
     ],
     "next": "acb9d0e2-6f22-11ee-89fa-0242ac120005-4-11e0-ec5a-0012-fc0e",
     "previous": "acb9d092-6f22-11ee-89fa-0242ac120005-4-eea8-463c-bcf8-bb39"
    }
   },
   "outputs": [],
   "source": [
    "import pandas as pd\n",
    "import re\n",
    "\n",
    "for node in nodes:\n",
    "    instance_uuid = node.get(\"Instance UUID\", None)\n",
    "    if instance_uuid is None:\n",
    "        continue\n",
    "        \n",
    "    node[\"instance_name\"] = node[\"Instance Info\"][\"display_name\"]\n",
    "\n",
    "pd.set_option('display.max_rows', None)\n",
    "pd.DataFrame(nodes, columns=['Instance UUID', 'instance_name', 'UUID', 'Maintenance', 'Provisioning State', 'Power State', 'Name'])\n"
   ]
  },
  {
   "cell_type": "code",
   "execution_count": null,
   "metadata": {
    "hidden": true,
    "lc_cell_meme": {
     "current": "acb9d0e2-6f22-11ee-89fa-0242ac120005-4-11e0-ec5a-0012-fc0e",
     "history": [
      {
       "current": "acb9d0e2-6f22-11ee-89fa-0242ac120005-1-11e0",
       "next": "acb9d10a-6f22-11ee-89fa-0242ac120005",
       "previous": "acb9d0ba-6f22-11ee-89fa-0242ac120005"
      },
      {
       "current": "acb9d0e2-6f22-11ee-89fa-0242ac120005-2-11e0-ec5a",
       "next": "acb9d10a-6f22-11ee-89fa-0242ac120005-1-6be3",
       "previous": "acb9d0ba-6f22-11ee-89fa-0242ac120005-1-ba0f"
      },
      {
       "current": "acb9d0e2-6f22-11ee-89fa-0242ac120005-3-11e0-ec5a-0012",
       "next": "acb9d10a-6f22-11ee-89fa-0242ac120005-2-6be3-6038",
       "previous": "acb9d0ba-6f22-11ee-89fa-0242ac120005-2-ba0f-ae5f"
      },
      {
       "current": "acb9d0e2-6f22-11ee-89fa-0242ac120005-4-11e0-ec5a-0012-fc0e",
       "next": "acb9d10a-6f22-11ee-89fa-0242ac120005-3-6be3-6038-61e9",
       "previous": "acb9d0ba-6f22-11ee-89fa-0242ac120005-3-ba0f-ae5f-d98c"
      }
     ],
     "next": "acb9d10a-6f22-11ee-89fa-0242ac120005-4-6be3-6038-61e9-3bf5",
     "previous": "acb9d0ba-6f22-11ee-89fa-0242ac120005-4-ba0f-ae5f-d98c-a1cf"
    }
   },
   "outputs": [],
   "source": [
    "cmd = \"openstack server list -f json --long\"\n",
    "nova_server_map = run_openstack(cmd)"
   ]
  },
  {
   "cell_type": "code",
   "execution_count": null,
   "metadata": {
    "hidden": true,
    "lc_cell_meme": {
     "current": "acb9d10a-6f22-11ee-89fa-0242ac120005-4-6be3-6038-61e9-3bf5",
     "history": [
      {
       "current": "acb9d10a-6f22-11ee-89fa-0242ac120005",
       "next": "acb9d132-6f22-11ee-89fa-0242ac120005",
       "previous": "acb9d0e2-6f22-11ee-89fa-0242ac120005"
      },
      {
       "current": "acb9d10a-6f22-11ee-89fa-0242ac120005-1-6be3",
       "next": "7163ca0c-56fb-11ec-a1da-0242ac120004-1-2a50",
       "previous": "acb9d0e2-6f22-11ee-89fa-0242ac120005"
      },
      {
       "current": "acb9d10a-6f22-11ee-89fa-0242ac120005-2-6be3-6038",
       "next": "7163ca0c-56fb-11ec-a1da-0242ac120004-2-2a50-7328",
       "previous": "acb9d0e2-6f22-11ee-89fa-0242ac120005-1-11e0"
      },
      {
       "current": "acb9d10a-6f22-11ee-89fa-0242ac120005-3-6be3-6038-61e9",
       "next": "7163ca0c-56fb-11ec-a1da-0242ac120004-3-2a50-7328-e29b",
       "previous": "acb9d0e2-6f22-11ee-89fa-0242ac120005-2-11e0-ec5a"
      },
      {
       "current": "acb9d10a-6f22-11ee-89fa-0242ac120005-4-6be3-6038-61e9-3bf5",
       "next": "7163ca0c-56fb-11ec-a1da-0242ac120004-4-2a50-7328-e29b-72bf",
       "previous": "acb9d0e2-6f22-11ee-89fa-0242ac120005-3-11e0-ec5a-0012"
      }
     ],
     "next": "7163ca0c-56fb-11ec-a1da-0242ac120004-5-2a50-7328-e29b-72bf-17ad",
     "previous": "acb9d0e2-6f22-11ee-89fa-0242ac120005-4-11e0-ec5a-0012-fc0e"
    }
   },
   "outputs": [],
   "source": [
    "node_list = []\n",
    "for server in nova_server_map:\n",
    "    node_id = server['ID']\n",
    "    if re.match(name_match_rule, server['Name']) is None:\n",
    "        continue\n",
    "    for node in nodes:\n",
    "        if node['Instance UUID'] == node_id:\n",
    "            node_info = {}\n",
    "            node_list.append(node_info)\n",
    "            node_info['name'] = server['Name']\n",
    "            node_info['node_name'] = node['Name']\n",
    "            instance_ip_info = instance_ip_map.get(server['Name'], None)\n",
    "            if instance_ip_info is not None:\n",
    "                node_info['instance_ip'] = instance_ip_info.get('ipv4', None)\n",
    "            else:\n",
    "                node_info['instance_ip'] = None\n",
    "            address = server['Networks']\n",
    "            prov_net = address['provisioning-net']\n",
    "            for addr in prov_net:\n",
    "                node_info['prov_ip'] = addr\n",
    "\n",
    "pd.DataFrame(node_list)"
   ]
  },
  {
   "cell_type": "markdown",
   "metadata": {
    "lc_cell_meme": {
     "current": "7163ca0c-56fb-11ec-a1da-0242ac120004-5-2a50-7328-e29b-72bf-17ad",
     "history": [
      {
       "current": "7163ca0c-56fb-11ec-a1da-0242ac120004",
       "next": "7163cc14-56fb-11ec-a1da-0242ac120004",
       "previous": "7163c6b0-56fb-11ec-a1da-0242ac120004"
      },
      {
       "current": "7163ca0c-56fb-11ec-a1da-0242ac120004-1-2a50",
       "next": "7163cc14-56fb-11ec-a1da-0242ac120004",
       "previous": "d9e2e18e-56fc-11ec-a1da-0242ac120004"
      },
      {
       "current": "7163ca0c-56fb-11ec-a1da-0242ac120004-1-2a50",
       "next": "7163cc14-56fb-11ec-a1da-0242ac120004-1-2f97",
       "previous": "d9e2e18e-56fc-11ec-a1da-0242ac120004-1-488f"
      },
      {
       "current": "7163ca0c-56fb-11ec-a1da-0242ac120004-2-2a50-7328",
       "next": "7163cc14-56fb-11ec-a1da-0242ac120004-1-2f97",
       "previous": "acb9d10a-6f22-11ee-89fa-0242ac120005"
      },
      {
       "current": "7163ca0c-56fb-11ec-a1da-0242ac120004-3-2a50-7328-e29b",
       "next": "7163cc14-56fb-11ec-a1da-0242ac120004-2-2f97-d09b",
       "previous": "acb9d10a-6f22-11ee-89fa-0242ac120005-1-6be3"
      },
      {
       "current": "7163ca0c-56fb-11ec-a1da-0242ac120004-4-2a50-7328-e29b-72bf",
       "next": "7163cc14-56fb-11ec-a1da-0242ac120004-3-2f97-d09b-78b2",
       "previous": "acb9d10a-6f22-11ee-89fa-0242ac120005-2-6be3-6038"
      },
      {
       "current": "7163ca0c-56fb-11ec-a1da-0242ac120004-5-2a50-7328-e29b-72bf-17ad",
       "next": "7163cc14-56fb-11ec-a1da-0242ac120004-4-2f97-d09b-78b2-99df",
       "previous": "acb9d10a-6f22-11ee-89fa-0242ac120005-3-6be3-6038-61e9"
      }
     ],
     "next": "7163cc14-56fb-11ec-a1da-0242ac120004-5-2f97-d09b-78b2-99df-01e6",
     "previous": "acb9d10a-6f22-11ee-89fa-0242ac120005-4-6be3-6038-61e9-3bf5"
    }
   },
   "source": [
    "## 初期化対象Cephノード情報の取得"
   ]
  },
  {
   "cell_type": "markdown",
   "metadata": {
    "lc_cell_meme": {
     "current": "7163cc14-56fb-11ec-a1da-0242ac120004-5-2f97-d09b-78b2-99df-01e6",
     "history": [
      {
       "current": "7163cc14-56fb-11ec-a1da-0242ac120004-1-2f97",
       "next": "7163cdd6-56fb-11ec-a1da-0242ac120004",
       "previous": "7163ca0c-56fb-11ec-a1da-0242ac120004"
      },
      {
       "current": "7163cc14-56fb-11ec-a1da-0242ac120004-1-2f97",
       "next": "7163cdd6-56fb-11ec-a1da-0242ac120004-1-03bf",
       "previous": "7163ca0c-56fb-11ec-a1da-0242ac120004-1-2a50"
      },
      {
       "current": "7163cc14-56fb-11ec-a1da-0242ac120004-2-2f97-d09b",
       "next": "7163cf84-56fb-11ec-a1da-0242ac120004-1-09bf",
       "previous": "7163ca0c-56fb-11ec-a1da-0242ac120004-1-2a50"
      },
      {
       "current": "7163cc14-56fb-11ec-a1da-0242ac120004-3-2f97-d09b-78b2",
       "next": "7163cf84-56fb-11ec-a1da-0242ac120004-2-09bf-1063",
       "previous": "7163ca0c-56fb-11ec-a1da-0242ac120004-2-2a50-7328"
      },
      {
       "current": "7163cc14-56fb-11ec-a1da-0242ac120004-4-2f97-d09b-78b2-99df",
       "next": "7163cf84-56fb-11ec-a1da-0242ac120004-3-09bf-1063-da78",
       "previous": "7163ca0c-56fb-11ec-a1da-0242ac120004-3-2a50-7328-e29b"
      },
      {
       "current": "7163cc14-56fb-11ec-a1da-0242ac120004-5-2f97-d09b-78b2-99df-01e6",
       "next": "7163cf84-56fb-11ec-a1da-0242ac120004-4-09bf-1063-da78-a77a",
       "previous": "7163ca0c-56fb-11ec-a1da-0242ac120004-4-2a50-7328-e29b-72bf"
      }
     ],
     "next": "7163cf84-56fb-11ec-a1da-0242ac120004-5-09bf-1063-da78-a77a-4f46",
     "previous": "7163ca0c-56fb-11ec-a1da-0242ac120004-5-2a50-7328-e29b-72bf-17ad"
    }
   },
   "source": [
    "初期化対象のインスタンス名称を設定する"
   ]
  },
  {
   "cell_type": "code",
   "execution_count": null,
   "metadata": {
    "lc_cell_meme": {
     "current": "7163cf84-56fb-11ec-a1da-0242ac120004-5-09bf-1063-da78-a77a-4f46",
     "history": [
      {
       "current": "7163cf84-56fb-11ec-a1da-0242ac120004-1-09bf",
       "next": "7163d132-56fb-11ec-a1da-0242ac120004",
       "previous": "7163cdd6-56fb-11ec-a1da-0242ac120004"
      },
      {
       "current": "7163cf84-56fb-11ec-a1da-0242ac120004-1-09bf",
       "next": "7163d132-56fb-11ec-a1da-0242ac120004-1-18a6",
       "previous": "7163cdd6-56fb-11ec-a1da-0242ac120004-1-03bf"
      },
      {
       "current": "7163cf84-56fb-11ec-a1da-0242ac120004-2-09bf-1063",
       "next": "7163d132-56fb-11ec-a1da-0242ac120004-1-18a6",
       "previous": "7163cc14-56fb-11ec-a1da-0242ac120004-1-2f97"
      },
      {
       "current": "7163cf84-56fb-11ec-a1da-0242ac120004-3-09bf-1063-da78",
       "next": "7163d132-56fb-11ec-a1da-0242ac120004-2-18a6-3b5d",
       "previous": "7163cc14-56fb-11ec-a1da-0242ac120004-2-2f97-d09b"
      },
      {
       "current": "7163cf84-56fb-11ec-a1da-0242ac120004-4-09bf-1063-da78-a77a",
       "next": "7163d132-56fb-11ec-a1da-0242ac120004-3-18a6-3b5d-6414",
       "previous": "7163cc14-56fb-11ec-a1da-0242ac120004-3-2f97-d09b-78b2"
      },
      {
       "current": "7163cf84-56fb-11ec-a1da-0242ac120004-5-09bf-1063-da78-a77a-4f46",
       "next": "7163d132-56fb-11ec-a1da-0242ac120004-4-18a6-3b5d-6414-98a0",
       "previous": "7163cc14-56fb-11ec-a1da-0242ac120004-4-2f97-d09b-78b2-99df"
      }
     ],
     "next": "7163d132-56fb-11ec-a1da-0242ac120004-5-18a6-3b5d-6414-98a0-1733",
     "previous": "7163cc14-56fb-11ec-a1da-0242ac120004-5-2f97-d09b-78b2-99df-01e6"
    }
   },
   "outputs": [],
   "source": [
    "# 初期化対象のインスタンス名称を設定する\n",
    "raise Exception('この先手作業が必要です')"
   ]
  },
  {
   "cell_type": "code",
   "execution_count": null,
   "metadata": {
    "lc_cell_meme": {
     "current": "7163d132-56fb-11ec-a1da-0242ac120004-5-18a6-3b5d-6414-98a0-1733",
     "history": [
      {
       "current": "7163d132-56fb-11ec-a1da-0242ac120004-1-18a6",
       "next": "7163d2d6-56fb-11ec-a1da-0242ac120004",
       "previous": "7163cf84-56fb-11ec-a1da-0242ac120004"
      },
      {
       "current": "7163d132-56fb-11ec-a1da-0242ac120004-1-18a6",
       "next": "7163d2d6-56fb-11ec-a1da-0242ac120004-1-e7d2",
       "previous": "7163cf84-56fb-11ec-a1da-0242ac120004-1-09bf"
      },
      {
       "current": "7163d132-56fb-11ec-a1da-0242ac120004-2-18a6-3b5d",
       "next": "162bf270-6cae-11ee-89fa-0242ac120005",
       "previous": "7163cf84-56fb-11ec-a1da-0242ac120004-1-09bf"
      },
      {
       "current": "7163d132-56fb-11ec-a1da-0242ac120004-3-18a6-3b5d-6414",
       "next": "162bf270-6cae-11ee-89fa-0242ac120005-1-495c",
       "previous": "7163cf84-56fb-11ec-a1da-0242ac120004-2-09bf-1063"
      },
      {
       "current": "7163d132-56fb-11ec-a1da-0242ac120004-4-18a6-3b5d-6414-98a0",
       "next": "162bf270-6cae-11ee-89fa-0242ac120005-2-495c-b213",
       "previous": "7163cf84-56fb-11ec-a1da-0242ac120004-3-09bf-1063-da78"
      },
      {
       "current": "7163d132-56fb-11ec-a1da-0242ac120004-5-18a6-3b5d-6414-98a0-1733",
       "next": "162bf270-6cae-11ee-89fa-0242ac120005-3-495c-b213-f681",
       "previous": "7163cf84-56fb-11ec-a1da-0242ac120004-4-09bf-1063-da78-a77a"
      }
     ],
     "next": "162bf270-6cae-11ee-89fa-0242ac120005-4-495c-b213-f681-9038",
     "previous": "7163cf84-56fb-11ec-a1da-0242ac120004-5-09bf-1063-da78-a77a-4f46"
    }
   },
   "outputs": [],
   "source": [
    "# メンテナンス対応先ノード\n",
    "instance_name = 'ceph-xxx-node-007'"
   ]
  },
  {
   "cell_type": "code",
   "execution_count": null,
   "metadata": {
    "lc_cell_meme": {
     "current": "162bf270-6cae-11ee-89fa-0242ac120005-4-495c-b213-f681-9038",
     "history": [
      {
       "current": "162bf270-6cae-11ee-89fa-0242ac120005-1-495c",
       "next": "7163d2d6-56fb-11ec-a1da-0242ac120004-1-e7d2",
       "previous": "7163d132-56fb-11ec-a1da-0242ac120004-1-18a6"
      },
      {
       "current": "162bf270-6cae-11ee-89fa-0242ac120005-2-495c-b213",
       "next": "7163d2d6-56fb-11ec-a1da-0242ac120004-2-e7d2-388b",
       "previous": "7163d132-56fb-11ec-a1da-0242ac120004-2-18a6-3b5d"
      },
      {
       "current": "162bf270-6cae-11ee-89fa-0242ac120005-3-495c-b213-f681",
       "next": "7163d2d6-56fb-11ec-a1da-0242ac120004-3-e7d2-388b-e416",
       "previous": "7163d132-56fb-11ec-a1da-0242ac120004-3-18a6-3b5d-6414"
      },
      {
       "current": "162bf270-6cae-11ee-89fa-0242ac120005-4-495c-b213-f681-9038",
       "next": "7163d2d6-56fb-11ec-a1da-0242ac120004-4-e7d2-388b-e416-e2af",
       "previous": "7163d132-56fb-11ec-a1da-0242ac120004-4-18a6-3b5d-6414-98a0"
      }
     ],
     "next": "7163d2d6-56fb-11ec-a1da-0242ac120004-5-e7d2-388b-e416-e2af-29af",
     "previous": "7163d132-56fb-11ec-a1da-0242ac120004-5-18a6-3b5d-6414-98a0-1733"
    }
   },
   "outputs": [],
   "source": [
    "# instance_nameと同じインスタンスを指定しないこと\n",
    "bootstrap_node_name = 'ceph-xxx-node-001'"
   ]
  },
  {
   "cell_type": "code",
   "execution_count": null,
   "metadata": {
    "lc_cell_meme": {
     "current": "7163d2d6-56fb-11ec-a1da-0242ac120004-5-e7d2-388b-e416-e2af-29af",
     "history": [
      {
       "current": "7163d2d6-56fb-11ec-a1da-0242ac120004-1-e7d2",
       "next": "7163d470-56fb-11ec-a1da-0242ac120004",
       "previous": "7163d132-56fb-11ec-a1da-0242ac120004"
      },
      {
       "current": "7163d2d6-56fb-11ec-a1da-0242ac120004-1-e7d2",
       "next": "7163d470-56fb-11ec-a1da-0242ac120004-1-1660",
       "previous": "7163d132-56fb-11ec-a1da-0242ac120004-1-18a6"
      },
      {
       "current": "7163d2d6-56fb-11ec-a1da-0242ac120004-2-e7d2-388b",
       "next": "162bf3ec-6cae-11ee-89fa-0242ac120005",
       "previous": "162bf270-6cae-11ee-89fa-0242ac120005"
      },
      {
       "current": "7163d2d6-56fb-11ec-a1da-0242ac120004-3-e7d2-388b-e416",
       "next": "162bf3ec-6cae-11ee-89fa-0242ac120005-1-c99e",
       "previous": "162bf270-6cae-11ee-89fa-0242ac120005-1-495c"
      },
      {
       "current": "7163d2d6-56fb-11ec-a1da-0242ac120004-4-e7d2-388b-e416-e2af",
       "next": "162bf3ec-6cae-11ee-89fa-0242ac120005-2-c99e-0041",
       "previous": "162bf270-6cae-11ee-89fa-0242ac120005-2-495c-b213"
      },
      {
       "current": "7163d2d6-56fb-11ec-a1da-0242ac120004-5-e7d2-388b-e416-e2af-29af",
       "next": "162bf3ec-6cae-11ee-89fa-0242ac120005-3-c99e-0041-05fc",
       "previous": "162bf270-6cae-11ee-89fa-0242ac120005-3-495c-b213-f681"
      }
     ],
     "next": "162bf3ec-6cae-11ee-89fa-0242ac120005-4-c99e-0041-05fc-11b9",
     "previous": "162bf270-6cae-11ee-89fa-0242ac120005-4-495c-b213-f681-9038"
    }
   },
   "outputs": [],
   "source": [
    "target = None\n",
    "for elem in node_list:\n",
    "    if elem['name'] == instance_name:\n",
    "        target = elem\n",
    "        break\n",
    "\n",
    "assert (target is not None), \"指定されたターゲットノードが存在しません。\"\n",
    "print (target)"
   ]
  },
  {
   "cell_type": "code",
   "execution_count": null,
   "metadata": {
    "lc_cell_meme": {
     "current": "162bf3ec-6cae-11ee-89fa-0242ac120005-4-c99e-0041-05fc-11b9",
     "history": [
      {
       "current": "162bf3ec-6cae-11ee-89fa-0242ac120005-1-c99e",
       "next": "7163d470-56fb-11ec-a1da-0242ac120004-1-1660",
       "previous": "7163d2d6-56fb-11ec-a1da-0242ac120004-1-e7d2"
      },
      {
       "current": "162bf3ec-6cae-11ee-89fa-0242ac120005-2-c99e-0041",
       "next": "7163d470-56fb-11ec-a1da-0242ac120004-2-1660-3467",
       "previous": "7163d2d6-56fb-11ec-a1da-0242ac120004-2-e7d2-388b"
      },
      {
       "current": "162bf3ec-6cae-11ee-89fa-0242ac120005-3-c99e-0041-05fc",
       "next": "7163d470-56fb-11ec-a1da-0242ac120004-3-1660-3467-41c7",
       "previous": "7163d2d6-56fb-11ec-a1da-0242ac120004-3-e7d2-388b-e416"
      },
      {
       "current": "162bf3ec-6cae-11ee-89fa-0242ac120005-4-c99e-0041-05fc-11b9",
       "next": "7163d470-56fb-11ec-a1da-0242ac120004-4-1660-3467-41c7-a83a",
       "previous": "7163d2d6-56fb-11ec-a1da-0242ac120004-4-e7d2-388b-e416-e2af"
      }
     ],
     "next": "7163d470-56fb-11ec-a1da-0242ac120004-5-1660-3467-41c7-a83a-8395",
     "previous": "7163d2d6-56fb-11ec-a1da-0242ac120004-5-e7d2-388b-e416-e2af-29af"
    }
   },
   "outputs": [],
   "source": [
    "bootstrap_node = None\n",
    "for elem in node_list:\n",
    "    if elem['name'] == bootstrap_node_name:\n",
    "        bootstrap_node = elem\n",
    "        break\n",
    "\n",
    "assert (bootstrap_node is not None), \"指定されたターゲットノードが存在しません。\"\n",
    "print (bootstrap_node)"
   ]
  },
  {
   "cell_type": "markdown",
   "metadata": {
    "lc_cell_meme": {
     "current": "7163d470-56fb-11ec-a1da-0242ac120004-5-1660-3467-41c7-a83a-8395",
     "history": [
      {
       "current": "7163d470-56fb-11ec-a1da-0242ac120004-1-1660",
       "next": "7163d60a-56fb-11ec-a1da-0242ac120004",
       "previous": "7163d2d6-56fb-11ec-a1da-0242ac120004"
      },
      {
       "current": "7163d470-56fb-11ec-a1da-0242ac120004-1-1660",
       "next": "7163d60a-56fb-11ec-a1da-0242ac120004-1-989b",
       "previous": "7163d2d6-56fb-11ec-a1da-0242ac120004-1-e7d2"
      },
      {
       "current": "7163d470-56fb-11ec-a1da-0242ac120004-1-1660",
       "next": "7163d60a-56fb-11ec-a1da-0242ac120004-1-989b",
       "previous": "162bf3ec-6cae-11ee-89fa-0242ac120005"
      },
      {
       "current": "7163d470-56fb-11ec-a1da-0242ac120004-2-1660-3467",
       "next": "743175ea-56fb-11ec-a1da-0242ac120004-2-33ed-7a5f",
       "previous": "162bf3ec-6cae-11ee-89fa-0242ac120005"
      },
      {
       "current": "7163d470-56fb-11ec-a1da-0242ac120004-3-1660-3467-41c7",
       "next": "743175ea-56fb-11ec-a1da-0242ac120004-3-33ed-7a5f-50ef",
       "previous": "162bf3ec-6cae-11ee-89fa-0242ac120005-1-c99e"
      },
      {
       "current": "7163d470-56fb-11ec-a1da-0242ac120004-4-1660-3467-41c7-a83a",
       "next": "743175ea-56fb-11ec-a1da-0242ac120004-4-33ed-7a5f-50ef-ced7",
       "previous": "162bf3ec-6cae-11ee-89fa-0242ac120005-2-c99e-0041"
      },
      {
       "current": "7163d470-56fb-11ec-a1da-0242ac120004-5-1660-3467-41c7-a83a-8395",
       "next": "743175ea-56fb-11ec-a1da-0242ac120004-5-33ed-7a5f-50ef-ced7-8823",
       "previous": "162bf3ec-6cae-11ee-89fa-0242ac120005-3-c99e-0041-05fc"
      }
     ],
     "next": "743175ea-56fb-11ec-a1da-0242ac120004-6-33ed-7a5f-50ef-ced7-8823-b750",
     "previous": "162bf3ec-6cae-11ee-89fa-0242ac120005-4-c99e-0041-05fc-11b9"
    }
   },
   "source": [
    "## 一時Inventoryファイルの生成\n",
    "以下を実行し、作業用ディレクトリ配下に一時Inventoryファイルを生成する。"
   ]
  },
  {
   "cell_type": "markdown",
   "metadata": {
    "lc_cell_meme": {
     "current": "743175ea-56fb-11ec-a1da-0242ac120004-6-33ed-7a5f-50ef-ced7-8823-b750",
     "history": [
      {
       "current": "743175ea-56fb-11ec-a1da-0242ac120004-2-33ed-7a5f",
       "next": "7431796e-56fb-11ec-a1da-0242ac120004",
       "previous": "7163d7ae-56fb-11ec-a1da-0242ac120004"
      },
      {
       "current": "743175ea-56fb-11ec-a1da-0242ac120004-2-33ed-7a5f",
       "next": "7431796e-56fb-11ec-a1da-0242ac120004-1-d0f1",
       "previous": "7163d7ae-56fb-11ec-a1da-0242ac120004-1-0ea4"
      },
      {
       "current": "743175ea-56fb-11ec-a1da-0242ac120004-3-33ed-7a5f-50ef",
       "next": "7431796e-56fb-11ec-a1da-0242ac120004-1-d0f1",
       "previous": "7163d470-56fb-11ec-a1da-0242ac120004-1-1660"
      },
      {
       "current": "743175ea-56fb-11ec-a1da-0242ac120004-4-33ed-7a5f-50ef-ced7",
       "next": "7431796e-56fb-11ec-a1da-0242ac120004-2-d0f1-3a92",
       "previous": "7163d470-56fb-11ec-a1da-0242ac120004-2-1660-3467"
      },
      {
       "current": "743175ea-56fb-11ec-a1da-0242ac120004-5-33ed-7a5f-50ef-ced7-8823",
       "next": "7431796e-56fb-11ec-a1da-0242ac120004-3-d0f1-3a92-b668",
       "previous": "7163d470-56fb-11ec-a1da-0242ac120004-3-1660-3467-41c7"
      },
      {
       "current": "743175ea-56fb-11ec-a1da-0242ac120004-6-33ed-7a5f-50ef-ced7-8823-b750",
       "next": "7431796e-56fb-11ec-a1da-0242ac120004-4-d0f1-3a92-b668-9e69",
       "previous": "7163d470-56fb-11ec-a1da-0242ac120004-4-1660-3467-41c7-a83a"
      }
     ],
     "next": "7431796e-56fb-11ec-a1da-0242ac120004-5-d0f1-3a92-b668-9e69-2dd1",
     "previous": "7163d470-56fb-11ec-a1da-0242ac120004-5-1660-3467-41c7-a83a-8395"
    }
   },
   "source": [
    "Inventoryファイルを生成する。"
   ]
  },
  {
   "cell_type": "code",
   "execution_count": null,
   "metadata": {
    "lc_cell_meme": {
     "current": "7431796e-56fb-11ec-a1da-0242ac120004-5-d0f1-3a92-b668-9e69-2dd1",
     "history": [
      {
       "current": "7431796e-56fb-11ec-a1da-0242ac120004",
       "next": "74317b3a-56fb-11ec-a1da-0242ac120004",
       "previous": "743175ea-56fb-11ec-a1da-0242ac120004"
      },
      {
       "current": "7431796e-56fb-11ec-a1da-0242ac120004-1-d0f1",
       "next": "74317b3a-56fb-11ec-a1da-0242ac120004-1-6a3c",
       "previous": "743175ea-56fb-11ec-a1da-0242ac120004-1-33ed"
      },
      {
       "current": "7431796e-56fb-11ec-a1da-0242ac120004-2-d0f1-3a92",
       "next": "74317b3a-56fb-11ec-a1da-0242ac120004-2-6a3c-5cd9",
       "previous": "743175ea-56fb-11ec-a1da-0242ac120004-2-33ed-7a5f"
      },
      {
       "current": "7431796e-56fb-11ec-a1da-0242ac120004-3-d0f1-3a92-b668",
       "next": "74317b3a-56fb-11ec-a1da-0242ac120004-3-6a3c-5cd9-4c2a",
       "previous": "743175ea-56fb-11ec-a1da-0242ac120004-3-33ed-7a5f-50ef"
      },
      {
       "current": "7431796e-56fb-11ec-a1da-0242ac120004-4-d0f1-3a92-b668-9e69",
       "next": "74317b3a-56fb-11ec-a1da-0242ac120004-4-6a3c-5cd9-4c2a-5f4f",
       "previous": "743175ea-56fb-11ec-a1da-0242ac120004-4-33ed-7a5f-50ef-ced7"
      },
      {
       "current": "7431796e-56fb-11ec-a1da-0242ac120004-5-d0f1-3a92-b668-9e69-2dd1",
       "next": "74317b3a-56fb-11ec-a1da-0242ac120004-5-6a3c-5cd9-4c2a-5f4f-4b7a",
       "previous": "743175ea-56fb-11ec-a1da-0242ac120004-5-33ed-7a5f-50ef-ced7-8823"
      }
     ],
     "next": "74317b3a-56fb-11ec-a1da-0242ac120004-6-6a3c-5cd9-4c2a-5f4f-4b7a-19a6",
     "previous": "743175ea-56fb-11ec-a1da-0242ac120004-6-33ed-7a5f-50ef-ced7-8823-b750"
    }
   },
   "outputs": [],
   "source": [
    "node_user='xxxxx'\n",
    "proxy_user='xxxxx'\n",
    "proxy_key='~/.ssh/id_ras'"
   ]
  },
  {
   "cell_type": "markdown",
   "metadata": {
    "lc_cell_meme": {
     "current": "74317b3a-56fb-11ec-a1da-0242ac120004-6-6a3c-5cd9-4c2a-5f4f-4b7a-19a6",
     "history": [
      {
       "current": "74317b3a-56fb-11ec-a1da-0242ac120004-2-6a3c-5cd9",
       "next": "74317cb6-56fb-11ec-a1da-0242ac120004",
       "previous": "7431796e-56fb-11ec-a1da-0242ac120004"
      },
      {
       "current": "74317b3a-56fb-11ec-a1da-0242ac120004-2-6a3c-5cd9",
       "next": "74317cb6-56fb-11ec-a1da-0242ac120004-1-9d19",
       "previous": "7431796e-56fb-11ec-a1da-0242ac120004-1-d0f1"
      },
      {
       "current": "74317b3a-56fb-11ec-a1da-0242ac120004-3-6a3c-5cd9-4c2a",
       "next": "74317e28-56fb-11ec-a1da-0242ac120004-1-474d",
       "previous": "7431796e-56fb-11ec-a1da-0242ac120004-1-d0f1"
      },
      {
       "current": "74317b3a-56fb-11ec-a1da-0242ac120004-4-6a3c-5cd9-4c2a-5f4f",
       "next": "74317e28-56fb-11ec-a1da-0242ac120004-2-474d-2ef7",
       "previous": "7431796e-56fb-11ec-a1da-0242ac120004-2-d0f1-3a92"
      },
      {
       "current": "74317b3a-56fb-11ec-a1da-0242ac120004-5-6a3c-5cd9-4c2a-5f4f-4b7a",
       "next": "74317e28-56fb-11ec-a1da-0242ac120004-3-474d-2ef7-9f5e",
       "previous": "7431796e-56fb-11ec-a1da-0242ac120004-3-d0f1-3a92-b668"
      },
      {
       "current": "74317b3a-56fb-11ec-a1da-0242ac120004-6-6a3c-5cd9-4c2a-5f4f-4b7a-19a6",
       "next": "74317e28-56fb-11ec-a1da-0242ac120004-4-474d-2ef7-9f5e-cc46",
       "previous": "7431796e-56fb-11ec-a1da-0242ac120004-4-d0f1-3a92-b668-9e69"
      }
     ],
     "next": "74317e28-56fb-11ec-a1da-0242ac120004-5-474d-2ef7-9f5e-cc46-c4a9",
     "previous": "7431796e-56fb-11ec-a1da-0242ac120004-5-d0f1-3a92-b668-9e69-2dd1"
    }
   },
   "source": [
    "sudoでパスワードが必要な場合は、パスワード入力を設定してansible.cfgに設定すること。"
   ]
  },
  {
   "cell_type": "code",
   "execution_count": null,
   "metadata": {
    "lc_cell_meme": {
     "current": "74317e28-56fb-11ec-a1da-0242ac120004-5-474d-2ef7-9f5e-cc46-c4a9",
     "history": [
      {
       "current": "74317e28-56fb-11ec-a1da-0242ac120004",
       "next": "c709e59c-56f9-11ec-a1da-0242ac120004",
       "previous": "74317cb6-56fb-11ec-a1da-0242ac120004"
      },
      {
       "current": "74317e28-56fb-11ec-a1da-0242ac120004-1-474d",
       "next": "35c362a4-55a3-11e7-b0b2-00163e9c0e35-1-e49a",
       "previous": "74317cb6-56fb-11ec-a1da-0242ac120004"
      },
      {
       "current": "74317e28-56fb-11ec-a1da-0242ac120004-1-474d",
       "next": "35c362a4-55a3-11e7-b0b2-00163e9c0e35-2-e49a-f407",
       "previous": "74317cb6-56fb-11ec-a1da-0242ac120004-1-9d19"
      },
      {
       "current": "74317e28-56fb-11ec-a1da-0242ac120004-2-474d-2ef7",
       "next": "35c362a4-55a3-11e7-b0b2-00163e9c0e35-2-e49a-f407",
       "previous": "74317b3a-56fb-11ec-a1da-0242ac120004-2-6a3c-5cd9"
      },
      {
       "current": "74317e28-56fb-11ec-a1da-0242ac120004-3-474d-2ef7-9f5e",
       "next": "35c362a4-55a3-11e7-b0b2-00163e9c0e35-3-e49a-f407-1676",
       "previous": "74317b3a-56fb-11ec-a1da-0242ac120004-3-6a3c-5cd9-4c2a"
      },
      {
       "current": "74317e28-56fb-11ec-a1da-0242ac120004-3-474d-2ef7-9f5e",
       "next": "35c362a4-55a3-11e7-b0b2-00163e9c0e35-4-e49a-f407-1676-a8cf",
       "previous": "74317b3a-56fb-11ec-a1da-0242ac120004-4-6a3c-5cd9-4c2a-5f4f"
      },
      {
       "current": "74317e28-56fb-11ec-a1da-0242ac120004-4-474d-2ef7-9f5e-cc46",
       "next": "89b86fe2-2302-11ef-ad2f-0242ac120005",
       "previous": "74317b3a-56fb-11ec-a1da-0242ac120004-4-6a3c-5cd9-4c2a-5f4f"
      },
      {
       "current": "74317e28-56fb-11ec-a1da-0242ac120004-5-474d-2ef7-9f5e-cc46-c4a9",
       "next": "89b86fe2-2302-11ef-ad2f-0242ac120005-1-efe2",
       "previous": "74317b3a-56fb-11ec-a1da-0242ac120004-5-6a3c-5cd9-4c2a-5f4f-4b7a"
      }
     ],
     "next": "89b86fe2-2302-11ef-ad2f-0242ac120005-2-efe2-0808",
     "previous": "74317b3a-56fb-11ec-a1da-0242ac120004-6-6a3c-5cd9-4c2a-5f4f-4b7a-19a6"
    }
   },
   "outputs": [],
   "source": [
    "import os\n",
    "\n",
    "with open( os.path.join(temp_dir, \"hosts\"), 'w') as f:\n",
    "     f.write('''[ceph_admin]\n",
    "{ceph_admin_ip}   ansible_user={proxy_user} ansible_ssh_private_key_file={proxy_key} ansible_python_interpreter=/usr/bin/python3\n",
    "[ceph_node]\n",
    "{node_ip}  ansible_user={node_user} ansible_ssh_common_args='-o ControlMaster=auto -o StrictHostKeyChecking=no -o ControlPersist=30m -o ProxyCommand=\"ssh -W %h:%p -i {proxy_key} -q {proxy_user}@{ceph_admin_ip}\"' ansible_python_interpreter=/usr/bin/python3\n",
    "'''.format(ceph_admin_ip=ceph_admin_ip, node_ip=target[\"prov_ip\"],\n",
    "           node_user=node_user, proxy_user=proxy_user, proxy_key=proxy_key))\n",
    "     f.write('''[bootstrap]\n",
    "{node_ip}  ansible_user={node_user} ansible_ssh_common_args='-o ControlMaster=auto -o StrictHostKeyChecking=no -o ControlPersist=30m -o ProxyCommand=\"ssh -W %h:%p -i {proxy_key} -q {proxy_user}@{ceph_admin_ip}\"' ansible_python_interpreter=/usr/bin/python3\n",
    "'''.format(ceph_admin_ip=ceph_admin_ip, node_ip=bootstrap_node[\"prov_ip\"],\n",
    "           node_user=node_user, proxy_user=proxy_user, proxy_key=proxy_key))\n",
    "\n",
    "hosts = temp_dir + \"/hosts\"\n",
    "\n",
    "!cat $hosts"
   ]
  },
  {
   "cell_type": "code",
   "execution_count": null,
   "metadata": {
    "lc_cell_meme": {
     "current": "89b86fe2-2302-11ef-ad2f-0242ac120005-2-efe2-0808",
     "history": [
      {
       "current": "89b86fe2-2302-11ef-ad2f-0242ac120005-1-efe2",
       "next": "35c362a4-55a3-11e7-b0b2-00163e9c0e35-4-e49a-f407-1676-a8cf",
       "previous": "74317e28-56fb-11ec-a1da-0242ac120004-3-474d-2ef7-9f5e"
      },
      {
       "current": "89b86fe2-2302-11ef-ad2f-0242ac120005-2-efe2-0808",
       "next": "35c362a4-55a3-11e7-b0b2-00163e9c0e35-5-e49a-f407-1676-a8cf-82a8",
       "previous": "74317e28-56fb-11ec-a1da-0242ac120004-4-474d-2ef7-9f5e-cc46"
      }
     ],
     "next": "35c362a4-55a3-11e7-b0b2-00163e9c0e35-6-e49a-f407-1676-a8cf-82a8-457c",
     "previous": "74317e28-56fb-11ec-a1da-0242ac120004-5-474d-2ef7-9f5e-cc46-c4a9"
    }
   },
   "outputs": [],
   "source": [
    "%env ANSIBLE_INVENTORY={hosts}"
   ]
  },
  {
   "cell_type": "markdown",
   "metadata": {
    "lc_cell_meme": {
     "current": "35c362a4-55a3-11e7-b0b2-00163e9c0e35-6-e49a-f407-1676-a8cf-82a8-457c",
     "history": [
      {
       "current": "35c362a4-55a3-11e7-b0b2-00163e9c0e35",
       "next": "35c36448-55a3-11e7-b0b2-00163e9c0e35",
       "previous": "35c360f6-55a3-11e7-b0b2-00163e9c0e35"
      },
      {
       "current": "35c362a4-55a3-11e7-b0b2-00163e9c0e35",
       "next": "35c36448-55a3-11e7-b0b2-00163e9c0e35",
       "previous": "4cd5b0cc-7ef5-11ea-a926-0242ac120004"
      },
      {
       "current": "35c362a4-55a3-11e7-b0b2-00163e9c0e35",
       "next": "35c36448-55a3-11e7-b0b2-00163e9c0e35",
       "previous": "db546a28-7ef5-11ea-a926-0242ac120004"
      },
      {
       "current": "35c362a4-55a3-11e7-b0b2-00163e9c0e35",
       "next": "35c36448-55a3-11e7-b0b2-00163e9c0e35",
       "previous": "4cd5af28-7ef5-11ea-a926-0242ac120004"
      },
      {
       "current": "35c362a4-55a3-11e7-b0b2-00163e9c0e35",
       "next": "35c36448-55a3-11e7-b0b2-00163e9c0e35",
       "previous": "7d464504-9107-11ea-8d02-0242ac120007"
      },
      {
       "current": "35c362a4-55a3-11e7-b0b2-00163e9c0e35",
       "next": "35c36448-55a3-11e7-b0b2-00163e9c0e35",
       "previous": "bd797188-910b-11ea-8d02-0242ac120007"
      },
      {
       "current": "35c362a4-55a3-11e7-b0b2-00163e9c0e35",
       "next": "35c36448-55a3-11e7-b0b2-00163e9c0e35",
       "previous": "70b95056-9111-11ea-8d02-0242ac120007"
      },
      {
       "current": "35c362a4-55a3-11e7-b0b2-00163e9c0e35",
       "next": "35c36448-55a3-11e7-b0b2-00163e9c0e35",
       "previous": "bd797188-910b-11ea-8d02-0242ac120007"
      },
      {
       "current": "35c362a4-55a3-11e7-b0b2-00163e9c0e35",
       "next": "bd797188-910b-11ea-8d02-0242ac120007",
       "previous": "4cd5af28-7ef5-11ea-a926-0242ac120004"
      },
      {
       "current": "35c362a4-55a3-11e7-b0b2-00163e9c0e35",
       "next": "484c7376-935c-11ea-8d02-0242ac120007",
       "previous": "4cd5af28-7ef5-11ea-a926-0242ac120004"
      },
      {
       "current": "35c362a4-55a3-11e7-b0b2-00163e9c0e35-1-e49a",
       "next": "bd797188-910b-11ea-8d02-0242ac120007",
       "previous": "4cd5af28-7ef5-11ea-a926-0242ac120004"
      },
      {
       "current": "35c362a4-55a3-11e7-b0b2-00163e9c0e35-1-e49a",
       "next": "bd797188-910b-11ea-8d02-0242ac120007-1-a27b",
       "previous": "4cd5af28-7ef5-11ea-a926-0242ac120004-1-4700"
      },
      {
       "current": "35c362a4-55a3-11e7-b0b2-00163e9c0e35-1-e49a",
       "next": "bd797188-910b-11ea-8d02-0242ac120007-1-a27b",
       "previous": "35c337f2-55a3-11e7-b0b2-00163e9c0e35-1-dc7a"
      },
      {
       "current": "35c362a4-55a3-11e7-b0b2-00163e9c0e35-1-e49a",
       "next": "bd797188-910b-11ea-8d02-0242ac120007-1-a27b",
       "previous": "37fd8534-56f9-11ec-a1da-0242ac120004"
      },
      {
       "current": "35c362a4-55a3-11e7-b0b2-00163e9c0e35-1-e49a",
       "next": "bd797188-910b-11ea-8d02-0242ac120007-1-a27b",
       "previous": "c709e722-56f9-11ec-a1da-0242ac120004"
      },
      {
       "current": "35c362a4-55a3-11e7-b0b2-00163e9c0e35-2-e49a-f407",
       "next": "bd797188-910b-11ea-8d02-0242ac120007-1-a27b",
       "previous": "74317e28-56fb-11ec-a1da-0242ac120004"
      },
      {
       "current": "35c362a4-55a3-11e7-b0b2-00163e9c0e35-3-e49a-f407-1676",
       "next": "bd797188-910b-11ea-8d02-0242ac120007-2-a27b-d878",
       "previous": "74317e28-56fb-11ec-a1da-0242ac120004-1-474d"
      },
      {
       "current": "35c362a4-55a3-11e7-b0b2-00163e9c0e35-4-e49a-f407-1676-a8cf",
       "next": "bd797188-910b-11ea-8d02-0242ac120007-3-a27b-d878-25ea",
       "previous": "74317e28-56fb-11ec-a1da-0242ac120004-2-474d-2ef7"
      },
      {
       "current": "35c362a4-55a3-11e7-b0b2-00163e9c0e35-4-e49a-f407-1676-a8cf",
       "next": "bd797188-910b-11ea-8d02-0242ac120007-4-a27b-d878-25ea-1cf3",
       "previous": "74317e28-56fb-11ec-a1da-0242ac120004-3-474d-2ef7-9f5e"
      },
      {
       "current": "35c362a4-55a3-11e7-b0b2-00163e9c0e35-5-e49a-f407-1676-a8cf-82a8",
       "next": "bd797188-910b-11ea-8d02-0242ac120007-4-a27b-d878-25ea-1cf3",
       "previous": "89b86fe2-2302-11ef-ad2f-0242ac120005"
      },
      {
       "current": "35c362a4-55a3-11e7-b0b2-00163e9c0e35-6-e49a-f407-1676-a8cf-82a8-457c",
       "next": "bd797188-910b-11ea-8d02-0242ac120007-5-a27b-d878-25ea-1cf3-edde",
       "previous": "89b86fe2-2302-11ef-ad2f-0242ac120005-1-efe2"
      }
     ],
     "next": "bd797188-910b-11ea-8d02-0242ac120007-6-a27b-d878-25ea-1cf3-edde-cae1",
     "previous": "89b86fe2-2302-11ef-ad2f-0242ac120005-2-efe2-0808"
    }
   },
   "source": [
    "# 疎通確認\n",
    "以下コマンドを実行し、OpeHubからCephAdmin経由で、Cephノードに疎通することを確認する。"
   ]
  },
  {
   "cell_type": "code",
   "execution_count": null,
   "metadata": {
    "lc_cell_meme": {
     "current": "bd797188-910b-11ea-8d02-0242ac120007-6-a27b-d878-25ea-1cf3-edde-cae1",
     "history": [
      {
       "current": "bd797188-910b-11ea-8d02-0242ac120007",
       "next": "35c362a4-55a3-11e7-b0b2-00163e9c0e35",
       "previous": "7d464504-9107-11ea-8d02-0242ac120007"
      },
      {
       "current": "bd797188-910b-11ea-8d02-0242ac120007",
       "next": "70b95056-9111-11ea-8d02-0242ac120007",
       "previous": "7d464504-9107-11ea-8d02-0242ac120007"
      },
      {
       "current": "bd797188-910b-11ea-8d02-0242ac120007",
       "next": "35c362a4-55a3-11e7-b0b2-00163e9c0e35",
       "previous": "7d464504-9107-11ea-8d02-0242ac120007"
      },
      {
       "current": "bd797188-910b-11ea-8d02-0242ac120007",
       "next": "35c362a4-55a3-11e7-b0b2-00163e9c0e35",
       "previous": "4cd5af28-7ef5-11ea-a926-0242ac120004"
      },
      {
       "current": "bd797188-910b-11ea-8d02-0242ac120007",
       "next": "35c36448-55a3-11e7-b0b2-00163e9c0e35",
       "previous": "35c362a4-55a3-11e7-b0b2-00163e9c0e35"
      },
      {
       "current": "bd797188-910b-11ea-8d02-0242ac120007",
       "next": "35c3783e-55a3-11e7-b0b2-00163e9c0e35",
       "previous": "35c362a4-55a3-11e7-b0b2-00163e9c0e35"
      },
      {
       "current": "bd797188-910b-11ea-8d02-0242ac120007",
       "next": "35c3783e-55a3-11e7-b0b2-00163e9c0e35",
       "previous": "484c7376-935c-11ea-8d02-0242ac120007"
      },
      {
       "current": "bd797188-910b-11ea-8d02-0242ac120007",
       "next": "35c3783e-55a3-11e7-b0b2-00163e9c0e35",
       "previous": "35c362a4-55a3-11e7-b0b2-00163e9c0e35"
      },
      {
       "current": "bd797188-910b-11ea-8d02-0242ac120007",
       "next": "ac56a252-95bd-11ea-8d02-0242ac120007",
       "previous": "35c362a4-55a3-11e7-b0b2-00163e9c0e35"
      },
      {
       "current": "bd797188-910b-11ea-8d02-0242ac120007",
       "next": "3121c468-9a31-11ea-8d02-0242ac120007",
       "previous": "35c362a4-55a3-11e7-b0b2-00163e9c0e35"
      },
      {
       "current": "bd797188-910b-11ea-8d02-0242ac120007",
       "next": "65205d38-9a36-11ea-8d02-0242ac120007",
       "previous": "35c362a4-55a3-11e7-b0b2-00163e9c0e35"
      },
      {
       "current": "bd797188-910b-11ea-8d02-0242ac120007-1-a27b",
       "next": "9418ce40-9a36-11ea-8d02-0242ac120007",
       "previous": "35c362a4-55a3-11e7-b0b2-00163e9c0e35"
      },
      {
       "current": "bd797188-910b-11ea-8d02-0242ac120007-2-a27b-d878",
       "next": "9418ce40-9a36-11ea-8d02-0242ac120007-1-e415",
       "previous": "35c362a4-55a3-11e7-b0b2-00163e9c0e35-1-e49a"
      },
      {
       "current": "bd797188-910b-11ea-8d02-0242ac120007-3-a27b-d878-25ea",
       "next": "9418ce40-9a36-11ea-8d02-0242ac120007-2-e415-abb0",
       "previous": "35c362a4-55a3-11e7-b0b2-00163e9c0e35-2-e49a-f407"
      },
      {
       "current": "bd797188-910b-11ea-8d02-0242ac120007-4-a27b-d878-25ea-1cf3",
       "next": "9418ce40-9a36-11ea-8d02-0242ac120007-3-e415-abb0-0032",
       "previous": "35c362a4-55a3-11e7-b0b2-00163e9c0e35-3-e49a-f407-1676"
      },
      {
       "current": "bd797188-910b-11ea-8d02-0242ac120007-5-a27b-d878-25ea-1cf3-edde",
       "next": "9418ce40-9a36-11ea-8d02-0242ac120007-4-e415-abb0-0032-0bc1",
       "previous": "35c362a4-55a3-11e7-b0b2-00163e9c0e35-4-e49a-f407-1676-a8cf"
      },
      {
       "current": "bd797188-910b-11ea-8d02-0242ac120007-6-a27b-d878-25ea-1cf3-edde-cae1",
       "next": "9418ce40-9a36-11ea-8d02-0242ac120007-5-e415-abb0-0032-0bc1-3de4",
       "previous": "35c362a4-55a3-11e7-b0b2-00163e9c0e35-5-e49a-f407-1676-a8cf-82a8"
      }
     ],
     "next": "9418ce40-9a36-11ea-8d02-0242ac120007-6-e415-abb0-0032-0bc1-3de4-9206",
     "previous": "35c362a4-55a3-11e7-b0b2-00163e9c0e35-6-e49a-f407-1676-a8cf-82a8-457c"
    }
   },
   "outputs": [],
   "source": [
    "!ansible -b -m shell -a 'hostname' ceph_admin"
   ]
  },
  {
   "cell_type": "markdown",
   "metadata": {
    "lc_cell_meme": {
     "current": "9418ce40-9a36-11ea-8d02-0242ac120007-6-e415-abb0-0032-0bc1-3de4-9206",
     "history": [
      {
       "current": "9418ce40-9a36-11ea-8d02-0242ac120007-1-e415",
       "next": "65205d38-9a36-11ea-8d02-0242ac120007",
       "previous": "bd797188-910b-11ea-8d02-0242ac120007"
      },
      {
       "current": "9418ce40-9a36-11ea-8d02-0242ac120007-2-e415-abb0",
       "next": "65205d38-9a36-11ea-8d02-0242ac120007-1-4503",
       "previous": "bd797188-910b-11ea-8d02-0242ac120007-1-a27b"
      },
      {
       "current": "9418ce40-9a36-11ea-8d02-0242ac120007-2-e415-abb0",
       "next": "65205d38-9a36-11ea-8d02-0242ac120007-2-4503-c921",
       "previous": "bd797188-910b-11ea-8d02-0242ac120007-2-a27b-d878"
      },
      {
       "current": "9418ce40-9a36-11ea-8d02-0242ac120007-3-e415-abb0-0032",
       "next": "034b7262-56fc-11ec-a1da-0242ac120004-1-6184",
       "previous": "bd797188-910b-11ea-8d02-0242ac120007-2-a27b-d878"
      },
      {
       "current": "9418ce40-9a36-11ea-8d02-0242ac120007-4-e415-abb0-0032-0bc1",
       "next": "034b7262-56fc-11ec-a1da-0242ac120004-2-6184-3528",
       "previous": "bd797188-910b-11ea-8d02-0242ac120007-3-a27b-d878-25ea"
      },
      {
       "current": "9418ce40-9a36-11ea-8d02-0242ac120007-5-e415-abb0-0032-0bc1-3de4",
       "next": "034b7262-56fc-11ec-a1da-0242ac120004-3-6184-3528-c3c9",
       "previous": "bd797188-910b-11ea-8d02-0242ac120007-4-a27b-d878-25ea-1cf3"
      },
      {
       "current": "9418ce40-9a36-11ea-8d02-0242ac120007-6-e415-abb0-0032-0bc1-3de4-9206",
       "next": "034b7262-56fc-11ec-a1da-0242ac120004-4-6184-3528-c3c9-033e",
       "previous": "bd797188-910b-11ea-8d02-0242ac120007-5-a27b-d878-25ea-1cf3-edde"
      }
     ],
     "next": "034b7262-56fc-11ec-a1da-0242ac120004-5-6184-3528-c3c9-033e-946d",
     "previous": "bd797188-910b-11ea-8d02-0242ac120007-6-a27b-d878-25ea-1cf3-edde-cae1"
    }
   },
   "source": [
    "以下コマンドを実行し、OpeHubからCephAdminに疎通することを確認する。"
   ]
  },
  {
   "cell_type": "code",
   "execution_count": null,
   "metadata": {
    "lc_cell_meme": {
     "current": "034b7262-56fc-11ec-a1da-0242ac120004-5-6184-3528-c3c9-033e-946d",
     "history": [
      {
       "current": "034b7262-56fc-11ec-a1da-0242ac120004",
       "next": "cfbfd3de-9a50-11ea-8d02-0242ac120007-1-a19f",
       "previous": "65205d38-9a36-11ea-8d02-0242ac120007-1-4503"
      },
      {
       "current": "034b7262-56fc-11ec-a1da-0242ac120004-1-6184",
       "next": "08f1174a-9b04-11ea-8d02-0242ac120007-1-f99a",
       "previous": "65205d38-9a36-11ea-8d02-0242ac120007-1-4503"
      },
      {
       "current": "034b7262-56fc-11ec-a1da-0242ac120004-1-6184",
       "next": "08f1174a-9b04-11ea-8d02-0242ac120007-2-f99a-9309",
       "previous": "65205d38-9a36-11ea-8d02-0242ac120007-2-4503-c921"
      },
      {
       "current": "034b7262-56fc-11ec-a1da-0242ac120004-1-6184",
       "next": "ecc4b59c-6cae-11ee-89fa-0242ac120005",
       "previous": "65205d38-9a36-11ea-8d02-0242ac120007-2-4503-c921"
      },
      {
       "current": "034b7262-56fc-11ec-a1da-0242ac120004-2-6184-3528",
       "next": "ecc4b59c-6cae-11ee-89fa-0242ac120005",
       "previous": "9418ce40-9a36-11ea-8d02-0242ac120007-2-e415-abb0"
      },
      {
       "current": "034b7262-56fc-11ec-a1da-0242ac120004-3-6184-3528-c3c9",
       "next": "ecc4b59c-6cae-11ee-89fa-0242ac120005-1-3752",
       "previous": "9418ce40-9a36-11ea-8d02-0242ac120007-3-e415-abb0-0032"
      },
      {
       "current": "034b7262-56fc-11ec-a1da-0242ac120004-4-6184-3528-c3c9-033e",
       "next": "ecc4b59c-6cae-11ee-89fa-0242ac120005-2-3752-484a",
       "previous": "9418ce40-9a36-11ea-8d02-0242ac120007-4-e415-abb0-0032-0bc1"
      },
      {
       "current": "034b7262-56fc-11ec-a1da-0242ac120004-5-6184-3528-c3c9-033e-946d",
       "next": "ecc4b59c-6cae-11ee-89fa-0242ac120005-3-3752-484a-ec2b",
       "previous": "9418ce40-9a36-11ea-8d02-0242ac120007-5-e415-abb0-0032-0bc1-3de4"
      }
     ],
     "next": "ecc4b59c-6cae-11ee-89fa-0242ac120005-4-3752-484a-ec2b-9e30",
     "previous": "9418ce40-9a36-11ea-8d02-0242ac120007-6-e415-abb0-0032-0bc1-3de4-9206"
    }
   },
   "outputs": [],
   "source": [
    "!ansible -b -m shell -a 'hostname' bootstrap"
   ]
  },
  {
   "cell_type": "code",
   "execution_count": null,
   "metadata": {
    "lc_cell_meme": {
     "current": "ecc4b59c-6cae-11ee-89fa-0242ac120005-4-3752-484a-ec2b-9e30",
     "history": [
      {
       "current": "ecc4b59c-6cae-11ee-89fa-0242ac120005",
       "next": "08f1174a-9b04-11ea-8d02-0242ac120007-2-f99a-9309",
       "previous": "034b7262-56fc-11ec-a1da-0242ac120004-1-6184"
      },
      {
       "current": "ecc4b59c-6cae-11ee-89fa-0242ac120005",
       "next": "f22be07e-81e3-11ee-91d3-0242ac120006",
       "previous": "034b7262-56fc-11ec-a1da-0242ac120004-1-6184"
      },
      {
       "current": "ecc4b59c-6cae-11ee-89fa-0242ac120005",
       "next": "28c9c182-8383-11ee-91d3-0242ac120006",
       "previous": "034b7262-56fc-11ec-a1da-0242ac120004-1-6184"
      },
      {
       "current": "ecc4b59c-6cae-11ee-89fa-0242ac120005-1-3752",
       "next": "b7e8f19c-838a-11ee-91d3-0242ac120006",
       "previous": "034b7262-56fc-11ec-a1da-0242ac120004-1-6184"
      },
      {
       "current": "ecc4b59c-6cae-11ee-89fa-0242ac120005-2-3752-484a",
       "next": "b7e8f19c-838a-11ee-91d3-0242ac120006-1-bc2e",
       "previous": "034b7262-56fc-11ec-a1da-0242ac120004-2-6184-3528"
      },
      {
       "current": "ecc4b59c-6cae-11ee-89fa-0242ac120005-3-3752-484a-ec2b",
       "next": "b7e8f19c-838a-11ee-91d3-0242ac120006-2-bc2e-015c",
       "previous": "034b7262-56fc-11ec-a1da-0242ac120004-3-6184-3528-c3c9"
      },
      {
       "current": "ecc4b59c-6cae-11ee-89fa-0242ac120005-4-3752-484a-ec2b-9e30",
       "next": "b7e8f19c-838a-11ee-91d3-0242ac120006-3-bc2e-015c-de0c",
       "previous": "034b7262-56fc-11ec-a1da-0242ac120004-4-6184-3528-c3c9-033e"
      }
     ],
     "next": "b7e8f19c-838a-11ee-91d3-0242ac120006-4-bc2e-015c-de0c-2d03",
     "previous": "034b7262-56fc-11ec-a1da-0242ac120004-5-6184-3528-c3c9-033e-946d"
    }
   },
   "outputs": [],
   "source": [
    "!ansible -b -m shell -a 'hostname' ceph_node"
   ]
  },
  {
   "cell_type": "markdown",
   "metadata": {
    "lc_cell_meme": {
     "current": "b7e8f19c-838a-11ee-91d3-0242ac120006-4-bc2e-015c-de0c-2d03",
     "history": [
      {
       "current": "b7e8f19c-838a-11ee-91d3-0242ac120006",
       "next": "b7e8f322-838a-11ee-91d3-0242ac120006",
       "previous": "ecc4b59c-6cae-11ee-89fa-0242ac120005"
      },
      {
       "current": "b7e8f19c-838a-11ee-91d3-0242ac120006-1-bc2e",
       "next": "ff736d6c-838a-11ee-91d3-0242ac120006",
       "previous": "ecc4b59c-6cae-11ee-89fa-0242ac120005"
      },
      {
       "current": "b7e8f19c-838a-11ee-91d3-0242ac120006-2-bc2e-015c",
       "next": "ff736d6c-838a-11ee-91d3-0242ac120006-1-1000",
       "previous": "ecc4b59c-6cae-11ee-89fa-0242ac120005-1-3752"
      },
      {
       "current": "b7e8f19c-838a-11ee-91d3-0242ac120006-3-bc2e-015c-de0c",
       "next": "ff736d6c-838a-11ee-91d3-0242ac120006-2-1000-10d3",
       "previous": "ecc4b59c-6cae-11ee-89fa-0242ac120005-2-3752-484a"
      },
      {
       "current": "b7e8f19c-838a-11ee-91d3-0242ac120006-4-bc2e-015c-de0c-2d03",
       "next": "ff736d6c-838a-11ee-91d3-0242ac120006-3-1000-10d3-6045",
       "previous": "ecc4b59c-6cae-11ee-89fa-0242ac120005-3-3752-484a-ec2b"
      }
     ],
     "next": "ff736d6c-838a-11ee-91d3-0242ac120006-4-1000-10d3-6045-e090",
     "previous": "ecc4b59c-6cae-11ee-89fa-0242ac120005-4-3752-484a-ec2b-9e30"
    }
   },
   "source": [
    "# サービス状態確認"
   ]
  },
  {
   "cell_type": "markdown",
   "metadata": {
    "lc_cell_meme": {
     "current": "ff736d6c-838a-11ee-91d3-0242ac120006-4-1000-10d3-6045-e090",
     "history": [
      {
       "current": "ff736d6c-838a-11ee-91d3-0242ac120006",
       "next": "b7e8f322-838a-11ee-91d3-0242ac120006",
       "previous": "b7e8f19c-838a-11ee-91d3-0242ac120006"
      },
      {
       "current": "ff736d6c-838a-11ee-91d3-0242ac120006-1-1000",
       "next": "65613540-838c-11ee-91d3-0242ac120006",
       "previous": "b7e8f19c-838a-11ee-91d3-0242ac120006"
      },
      {
       "current": "ff736d6c-838a-11ee-91d3-0242ac120006-2-1000-10d3",
       "next": "65613540-838c-11ee-91d3-0242ac120006-1-bf06",
       "previous": "b7e8f19c-838a-11ee-91d3-0242ac120006-1-bc2e"
      },
      {
       "current": "ff736d6c-838a-11ee-91d3-0242ac120006-3-1000-10d3-6045",
       "next": "65613540-838c-11ee-91d3-0242ac120006-2-bf06-ecd7",
       "previous": "b7e8f19c-838a-11ee-91d3-0242ac120006-2-bc2e-015c"
      },
      {
       "current": "ff736d6c-838a-11ee-91d3-0242ac120006-4-1000-10d3-6045-e090",
       "next": "65613540-838c-11ee-91d3-0242ac120006-3-bf06-ecd7-d2ec",
       "previous": "b7e8f19c-838a-11ee-91d3-0242ac120006-3-bc2e-015c-de0c"
      }
     ],
     "next": "65613540-838c-11ee-91d3-0242ac120006-4-bf06-ecd7-d2ec-e2ab",
     "previous": "b7e8f19c-838a-11ee-91d3-0242ac120006-4-bc2e-015c-de0c-2d03"
    }
   },
   "source": [
    "## サービス状態取得"
   ]
  },
  {
   "cell_type": "code",
   "execution_count": null,
   "metadata": {
    "lc_cell_meme": {
     "current": "65613540-838c-11ee-91d3-0242ac120006-4-bf06-ecd7-d2ec-e2ab",
     "history": [
      {
       "current": "65613540-838c-11ee-91d3-0242ac120006-1-bf06",
       "next": "65613806-838c-11ee-91d3-0242ac120006",
       "previous": "ff736d6c-838a-11ee-91d3-0242ac120006"
      },
      {
       "current": "65613540-838c-11ee-91d3-0242ac120006-2-bf06-ecd7",
       "next": "65613806-838c-11ee-91d3-0242ac120006-1-73f6",
       "previous": "ff736d6c-838a-11ee-91d3-0242ac120006-1-1000"
      },
      {
       "current": "65613540-838c-11ee-91d3-0242ac120006-3-bf06-ecd7-d2ec",
       "next": "65613806-838c-11ee-91d3-0242ac120006-2-73f6-4b2e",
       "previous": "ff736d6c-838a-11ee-91d3-0242ac120006-2-1000-10d3"
      },
      {
       "current": "65613540-838c-11ee-91d3-0242ac120006-4-bf06-ecd7-d2ec-e2ab",
       "next": "65613806-838c-11ee-91d3-0242ac120006-3-73f6-4b2e-a166",
       "previous": "ff736d6c-838a-11ee-91d3-0242ac120006-3-1000-10d3-6045"
      }
     ],
     "next": "65613806-838c-11ee-91d3-0242ac120006-4-73f6-4b2e-a166-0485",
     "previous": "ff736d6c-838a-11ee-91d3-0242ac120006-4-1000-10d3-6045-e090"
    },
    "scrolled": true
   },
   "outputs": [],
   "source": [
    "ret = !ansible -b -m shell -a \"cephadm shell --  ceph orch ls --format=json 2> /dev/null\" bootstrap\n",
    "ret"
   ]
  },
  {
   "cell_type": "code",
   "execution_count": null,
   "metadata": {
    "lc_cell_meme": {
     "current": "65613806-838c-11ee-91d3-0242ac120006-4-73f6-4b2e-a166-0485",
     "history": [
      {
       "current": "65613806-838c-11ee-91d3-0242ac120006",
       "next": "656138b0-838c-11ee-91d3-0242ac120006",
       "previous": "65613540-838c-11ee-91d3-0242ac120006"
      },
      {
       "current": "65613806-838c-11ee-91d3-0242ac120006-1-73f6",
       "next": "f4740244-838c-11ee-91d3-0242ac120006",
       "previous": "65613540-838c-11ee-91d3-0242ac120006"
      },
      {
       "current": "65613806-838c-11ee-91d3-0242ac120006-2-73f6-4b2e",
       "next": "f4740244-838c-11ee-91d3-0242ac120006-1-a37b",
       "previous": "65613540-838c-11ee-91d3-0242ac120006-1-bf06"
      },
      {
       "current": "65613806-838c-11ee-91d3-0242ac120006-3-73f6-4b2e-a166",
       "next": "f4740244-838c-11ee-91d3-0242ac120006-2-a37b-934b",
       "previous": "65613540-838c-11ee-91d3-0242ac120006-2-bf06-ecd7"
      },
      {
       "current": "65613806-838c-11ee-91d3-0242ac120006-4-73f6-4b2e-a166-0485",
       "next": "f4740244-838c-11ee-91d3-0242ac120006-3-a37b-934b-228d",
       "previous": "65613540-838c-11ee-91d3-0242ac120006-3-bf06-ecd7-d2ec"
      }
     ],
     "next": "f4740244-838c-11ee-91d3-0242ac120006-4-a37b-934b-228d-0d08",
     "previous": "65613540-838c-11ee-91d3-0242ac120006-4-bf06-ecd7-d2ec-e2ab"
    }
   },
   "outputs": [],
   "source": [
    "orch_ls_list = json.loads(ret[2])\n",
    "print(json.dumps(orch_ls_list, indent=2))"
   ]
  },
  {
   "cell_type": "code",
   "execution_count": null,
   "metadata": {
    "lc_cell_meme": {
     "current": "f4740244-838c-11ee-91d3-0242ac120006-4-a37b-934b-228d-0d08",
     "history": [
      {
       "current": "f4740244-838c-11ee-91d3-0242ac120006-1-a37b",
       "next": "f4740320-838c-11ee-91d3-0242ac120006",
       "previous": "65613806-838c-11ee-91d3-0242ac120006"
      },
      {
       "current": "f4740244-838c-11ee-91d3-0242ac120006-2-a37b-934b",
       "next": "f4740320-838c-11ee-91d3-0242ac120006-1-94a4",
       "previous": "65613806-838c-11ee-91d3-0242ac120006-1-73f6"
      },
      {
       "current": "f4740244-838c-11ee-91d3-0242ac120006-3-a37b-934b-228d",
       "next": "f4740320-838c-11ee-91d3-0242ac120006-2-94a4-8185",
       "previous": "65613806-838c-11ee-91d3-0242ac120006-2-73f6-4b2e"
      },
      {
       "current": "f4740244-838c-11ee-91d3-0242ac120006-4-a37b-934b-228d-0d08",
       "next": "f4740320-838c-11ee-91d3-0242ac120006-3-94a4-8185-1cc3",
       "previous": "65613806-838c-11ee-91d3-0242ac120006-3-73f6-4b2e-a166"
      }
     ],
     "next": "f4740320-838c-11ee-91d3-0242ac120006-4-94a4-8185-1cc3-b9a7",
     "previous": "65613806-838c-11ee-91d3-0242ac120006-4-73f6-4b2e-a166-0485"
    }
   },
   "outputs": [],
   "source": [
    "orch_info_map = {}\n",
    "for orch_ls in orch_ls_list:\n",
    "    service_type = orch_ls['service_type']\n",
    "    orch_info = orch_info_map.get(service_type, {})\n",
    "    orch_info['service_type'] = service_type\n",
    "    orch_info['service_name'] = orch_ls.get('service_name',None)\n",
    "    orch_info['placement'] = orch_ls.get('placement',None)\n",
    "    orch_info['networks'] = orch_ls.get('networks',None)\n",
    "    orch_info_map[service_type] = orch_info\n"
   ]
  },
  {
   "cell_type": "code",
   "execution_count": null,
   "metadata": {
    "lc_cell_meme": {
     "current": "f4740320-838c-11ee-91d3-0242ac120006-4-94a4-8185-1cc3-b9a7",
     "history": [
      {
       "current": "f4740320-838c-11ee-91d3-0242ac120006-1-94a4",
       "next": "656138b0-838c-11ee-91d3-0242ac120006",
       "previous": "f4740244-838c-11ee-91d3-0242ac120006"
      },
      {
       "current": "f4740320-838c-11ee-91d3-0242ac120006-2-94a4-8185",
       "next": "656138b0-838c-11ee-91d3-0242ac120006-1-cb19",
       "previous": "f4740244-838c-11ee-91d3-0242ac120006-1-a37b"
      },
      {
       "current": "f4740320-838c-11ee-91d3-0242ac120006-3-94a4-8185-1cc3",
       "next": "656138b0-838c-11ee-91d3-0242ac120006-2-cb19-566c",
       "previous": "f4740244-838c-11ee-91d3-0242ac120006-2-a37b-934b"
      },
      {
       "current": "f4740320-838c-11ee-91d3-0242ac120006-4-94a4-8185-1cc3-b9a7",
       "next": "656138b0-838c-11ee-91d3-0242ac120006-3-cb19-566c-f247",
       "previous": "f4740244-838c-11ee-91d3-0242ac120006-3-a37b-934b-228d"
      }
     ],
     "next": "656138b0-838c-11ee-91d3-0242ac120006-4-cb19-566c-f247-594a",
     "previous": "f4740244-838c-11ee-91d3-0242ac120006-4-a37b-934b-228d-0d08"
    },
    "scrolled": true
   },
   "outputs": [],
   "source": [
    "print(json.dumps(orch_info_map, indent=2))"
   ]
  },
  {
   "cell_type": "code",
   "execution_count": null,
   "metadata": {
    "lc_cell_meme": {
     "current": "656138b0-838c-11ee-91d3-0242ac120006-4-cb19-566c-f247-594a",
     "history": [
      {
       "current": "656138b0-838c-11ee-91d3-0242ac120006",
       "next": "65613932-838c-11ee-91d3-0242ac120006",
       "previous": "65613806-838c-11ee-91d3-0242ac120006"
      },
      {
       "current": "656138b0-838c-11ee-91d3-0242ac120006-1-cb19",
       "next": "65613932-838c-11ee-91d3-0242ac120006",
       "previous": "f4740320-838c-11ee-91d3-0242ac120006"
      },
      {
       "current": "656138b0-838c-11ee-91d3-0242ac120006-2-cb19-566c",
       "next": "65613932-838c-11ee-91d3-0242ac120006-1-2586",
       "previous": "f4740320-838c-11ee-91d3-0242ac120006-1-94a4"
      },
      {
       "current": "656138b0-838c-11ee-91d3-0242ac120006-3-cb19-566c-f247",
       "next": "65613932-838c-11ee-91d3-0242ac120006-2-2586-923e",
       "previous": "f4740320-838c-11ee-91d3-0242ac120006-2-94a4-8185"
      },
      {
       "current": "656138b0-838c-11ee-91d3-0242ac120006-4-cb19-566c-f247-594a",
       "next": "65613932-838c-11ee-91d3-0242ac120006-3-2586-923e-820c",
       "previous": "f4740320-838c-11ee-91d3-0242ac120006-3-94a4-8185-1cc3"
      }
     ],
     "next": "65613932-838c-11ee-91d3-0242ac120006-4-2586-923e-820c-5731",
     "previous": "f4740320-838c-11ee-91d3-0242ac120006-4-94a4-8185-1cc3-b9a7"
    }
   },
   "outputs": [],
   "source": [
    "ret = !ansible -b -m shell -a \"cephadm shell --  ceph orch ps --format=json 2> /dev/null\" bootstrap\n",
    "ret"
   ]
  },
  {
   "cell_type": "code",
   "execution_count": null,
   "metadata": {
    "lc_cell_meme": {
     "current": "65613932-838c-11ee-91d3-0242ac120006-4-2586-923e-820c-5731",
     "history": [
      {
       "current": "65613932-838c-11ee-91d3-0242ac120006",
       "next": "b7e8f322-838a-11ee-91d3-0242ac120006",
       "previous": "656138b0-838c-11ee-91d3-0242ac120006"
      },
      {
       "current": "65613932-838c-11ee-91d3-0242ac120006-1-2586",
       "next": "ace8ec32-838c-11ee-91d3-0242ac120006",
       "previous": "656138b0-838c-11ee-91d3-0242ac120006"
      },
      {
       "current": "65613932-838c-11ee-91d3-0242ac120006-2-2586-923e",
       "next": "ace8ec32-838c-11ee-91d3-0242ac120006-1-37fb",
       "previous": "656138b0-838c-11ee-91d3-0242ac120006-1-cb19"
      },
      {
       "current": "65613932-838c-11ee-91d3-0242ac120006-3-2586-923e-820c",
       "next": "ace8ec32-838c-11ee-91d3-0242ac120006-2-37fb-b7aa",
       "previous": "656138b0-838c-11ee-91d3-0242ac120006-2-cb19-566c"
      },
      {
       "current": "65613932-838c-11ee-91d3-0242ac120006-4-2586-923e-820c-5731",
       "next": "ace8ec32-838c-11ee-91d3-0242ac120006-3-37fb-b7aa-9d4c",
       "previous": "656138b0-838c-11ee-91d3-0242ac120006-3-cb19-566c-f247"
      }
     ],
     "next": "ace8ec32-838c-11ee-91d3-0242ac120006-4-37fb-b7aa-9d4c-aced",
     "previous": "656138b0-838c-11ee-91d3-0242ac120006-4-cb19-566c-f247-594a"
    }
   },
   "outputs": [],
   "source": [
    "orch_ps_list = json.loads(ret[2])\n",
    "print(json.dumps(orch_ps_list, indent=2))"
   ]
  },
  {
   "cell_type": "code",
   "execution_count": null,
   "metadata": {
    "lc_cell_meme": {
     "current": "ace8ec32-838c-11ee-91d3-0242ac120006-4-37fb-b7aa-9d4c-aced",
     "history": [
      {
       "current": "ace8ec32-838c-11ee-91d3-0242ac120006-1-37fb",
       "next": "ace8ed9a-838c-11ee-91d3-0242ac120006",
       "previous": "65613932-838c-11ee-91d3-0242ac120006"
      },
      {
       "current": "ace8ec32-838c-11ee-91d3-0242ac120006-2-37fb-b7aa",
       "next": "ace8ed9a-838c-11ee-91d3-0242ac120006-1-be23",
       "previous": "65613932-838c-11ee-91d3-0242ac120006-1-2586"
      },
      {
       "current": "ace8ec32-838c-11ee-91d3-0242ac120006-3-37fb-b7aa-9d4c",
       "next": "ace8ed9a-838c-11ee-91d3-0242ac120006-2-be23-545b",
       "previous": "65613932-838c-11ee-91d3-0242ac120006-2-2586-923e"
      },
      {
       "current": "ace8ec32-838c-11ee-91d3-0242ac120006-4-37fb-b7aa-9d4c-aced",
       "next": "ace8ed9a-838c-11ee-91d3-0242ac120006-3-be23-545b-7673",
       "previous": "65613932-838c-11ee-91d3-0242ac120006-3-2586-923e-820c"
      }
     ],
     "next": "ace8ed9a-838c-11ee-91d3-0242ac120006-4-be23-545b-7673-d289",
     "previous": "65613932-838c-11ee-91d3-0242ac120006-4-2586-923e-820c-5731"
    }
   },
   "outputs": [],
   "source": [
    "orch_service_list = []\n",
    "for orch_ps in orch_ps_list:\n",
    "    orch_service = {}\n",
    "    hostname = orch_ps.get('hostname',None)\n",
    "    service_name = orch_ps.get('service_name',None)\n",
    "    daemon_type = orch_ps.get('daemon_type',None)\n",
    "    daemon_name = orch_ps.get('daemon_name',None)\n",
    "    is_active = orch_ps.get('is_active',None)\n",
    "    status_desc = orch_ps.get('status_desc',None)\n",
    "    status = orch_ps.get('status',None)\n",
    "\n",
    "    orch_service['hostname'] = hostname\n",
    "    orch_service['service_name'] = service_name\n",
    "    orch_service['daemon_type'] = daemon_type\n",
    "    orch_service['daemon_name'] = daemon_name\n",
    "    orch_service['is_active'] = is_active\n",
    "    orch_service['status_desc'] = status_desc\n",
    "    orch_service['status'] = status\n",
    "    \n",
    "    orch_service_list.append(orch_service)\n",
    "    "
   ]
  },
  {
   "cell_type": "code",
   "execution_count": null,
   "metadata": {
    "lc_cell_meme": {
     "current": "ace8ed9a-838c-11ee-91d3-0242ac120006-4-be23-545b-7673-d289",
     "history": [
      {
       "current": "ace8ed9a-838c-11ee-91d3-0242ac120006",
       "next": "ace8eee4-838c-11ee-91d3-0242ac120006",
       "previous": "ace8ec32-838c-11ee-91d3-0242ac120006"
      },
      {
       "current": "ace8ed9a-838c-11ee-91d3-0242ac120006-1-be23",
       "next": "b7e8f426-838a-11ee-91d3-0242ac120006",
       "previous": "ace8ec32-838c-11ee-91d3-0242ac120006"
      },
      {
       "current": "ace8ed9a-838c-11ee-91d3-0242ac120006-2-be23-545b",
       "next": "b7e8f426-838a-11ee-91d3-0242ac120006-1-e944",
       "previous": "ace8ec32-838c-11ee-91d3-0242ac120006-1-37fb"
      },
      {
       "current": "ace8ed9a-838c-11ee-91d3-0242ac120006-3-be23-545b-7673",
       "next": "b7e8f426-838a-11ee-91d3-0242ac120006-2-e944-cbfd",
       "previous": "ace8ec32-838c-11ee-91d3-0242ac120006-2-37fb-b7aa"
      },
      {
       "current": "ace8ed9a-838c-11ee-91d3-0242ac120006-4-be23-545b-7673-d289",
       "next": "b7e8f426-838a-11ee-91d3-0242ac120006-3-e944-cbfd-0df5",
       "previous": "ace8ec32-838c-11ee-91d3-0242ac120006-3-37fb-b7aa-9d4c"
      }
     ],
     "next": "b7e8f426-838a-11ee-91d3-0242ac120006-4-e944-cbfd-0df5-0fb9",
     "previous": "ace8ec32-838c-11ee-91d3-0242ac120006-4-37fb-b7aa-9d4c-aced"
    }
   },
   "outputs": [],
   "source": [
    "pd.set_option('display.max_rows', None)\n",
    "pd.DataFrame(orch_service_list)"
   ]
  },
  {
   "cell_type": "code",
   "execution_count": null,
   "metadata": {
    "lc_cell_meme": {
     "current": "b7e8f426-838a-11ee-91d3-0242ac120006-4-e944-cbfd-0df5-0fb9",
     "history": [
      {
       "current": "b7e8f426-838a-11ee-91d3-0242ac120006",
       "next": "28c9c182-8383-11ee-91d3-0242ac120006",
       "previous": "b7e8f3b8-838a-11ee-91d3-0242ac120006"
      },
      {
       "current": "b7e8f426-838a-11ee-91d3-0242ac120006-1-e944",
       "next": "0743fcc8-8390-11ee-91d3-0242ac120006",
       "previous": "ace8ed9a-838c-11ee-91d3-0242ac120006"
      },
      {
       "current": "b7e8f426-838a-11ee-91d3-0242ac120006-2-e944-cbfd",
       "next": "0743fcc8-8390-11ee-91d3-0242ac120006-1-77ea",
       "previous": "ace8ed9a-838c-11ee-91d3-0242ac120006-1-be23"
      },
      {
       "current": "b7e8f426-838a-11ee-91d3-0242ac120006-3-e944-cbfd-0df5",
       "next": "0743fcc8-8390-11ee-91d3-0242ac120006-2-77ea-15f6",
       "previous": "ace8ed9a-838c-11ee-91d3-0242ac120006-2-be23-545b"
      },
      {
       "current": "b7e8f426-838a-11ee-91d3-0242ac120006-4-e944-cbfd-0df5-0fb9",
       "next": "0743fcc8-8390-11ee-91d3-0242ac120006-3-77ea-15f6-f99a",
       "previous": "ace8ed9a-838c-11ee-91d3-0242ac120006-3-be23-545b-7673"
      }
     ],
     "next": "0743fcc8-8390-11ee-91d3-0242ac120006-4-77ea-15f6-f99a-2894",
     "previous": "ace8ed9a-838c-11ee-91d3-0242ac120006-4-be23-545b-7673-d289"
    }
   },
   "outputs": [],
   "source": [
    "service_state_list_map = {}\n",
    "\n",
    "for orch_service in orch_service_list:\n",
    "    daemon_type = orch_service['daemon_type']\n",
    "    service_state_list = service_state_list_map.get(daemon_type, [])\n",
    "    service_state_list.append(orch_service)\n",
    "    service_state_list_map[daemon_type] = service_state_list\n",
    "    "
   ]
  },
  {
   "cell_type": "code",
   "execution_count": null,
   "metadata": {
    "lc_cell_meme": {
     "current": "0743fcc8-8390-11ee-91d3-0242ac120006-4-77ea-15f6-f99a-2894",
     "history": [
      {
       "current": "0743fcc8-8390-11ee-91d3-0242ac120006",
       "next": "0743fe58-8390-11ee-91d3-0242ac120006",
       "previous": "b7e8f426-838a-11ee-91d3-0242ac120006"
      },
      {
       "current": "0743fcc8-8390-11ee-91d3-0242ac120006",
       "next": "28c9c182-8383-11ee-91d3-0242ac120006",
       "previous": "b7e8f426-838a-11ee-91d3-0242ac120006"
      },
      {
       "current": "0743fcc8-8390-11ee-91d3-0242ac120006-1-77ea",
       "next": "6d019448-8391-11ee-91d3-0242ac120006",
       "previous": "b7e8f426-838a-11ee-91d3-0242ac120006"
      },
      {
       "current": "0743fcc8-8390-11ee-91d3-0242ac120006-2-77ea-15f6",
       "next": "6d019448-8391-11ee-91d3-0242ac120006-1-d879",
       "previous": "b7e8f426-838a-11ee-91d3-0242ac120006-1-e944"
      },
      {
       "current": "0743fcc8-8390-11ee-91d3-0242ac120006-3-77ea-15f6-f99a",
       "next": "6d019448-8391-11ee-91d3-0242ac120006-2-d879-1653",
       "previous": "b7e8f426-838a-11ee-91d3-0242ac120006-2-e944-cbfd"
      },
      {
       "current": "0743fcc8-8390-11ee-91d3-0242ac120006-4-77ea-15f6-f99a-2894",
       "next": "6d019448-8391-11ee-91d3-0242ac120006-3-d879-1653-8dd5",
       "previous": "b7e8f426-838a-11ee-91d3-0242ac120006-3-e944-cbfd-0df5"
      }
     ],
     "next": "6d019448-8391-11ee-91d3-0242ac120006-4-d879-1653-8dd5-9f69",
     "previous": "b7e8f426-838a-11ee-91d3-0242ac120006-4-e944-cbfd-0df5-0fb9"
    }
   },
   "outputs": [],
   "source": [
    "for key,val in service_state_list_map.items():\n",
    "    print(\"----------------------------------\")\n",
    "    print(\"type={}\".format(key))\n",
    "    ret = pd.DataFrame(val)\n",
    "    print(ret)"
   ]
  },
  {
   "cell_type": "markdown",
   "metadata": {
    "lc_cell_meme": {
     "current": "6d019448-8391-11ee-91d3-0242ac120006-4-d879-1653-8dd5-9f69",
     "history": [
      {
       "current": "6d019448-8391-11ee-91d3-0242ac120006-1-d879",
       "next": "6d0195f6-8391-11ee-91d3-0242ac120006",
       "previous": "0743fcc8-8390-11ee-91d3-0242ac120006"
      },
      {
       "current": "6d019448-8391-11ee-91d3-0242ac120006-2-d879-1653",
       "next": "6d0195f6-8391-11ee-91d3-0242ac120006-1-7f57",
       "previous": "0743fcc8-8390-11ee-91d3-0242ac120006-1-77ea"
      },
      {
       "current": "6d019448-8391-11ee-91d3-0242ac120006-3-d879-1653-8dd5",
       "next": "6d0195f6-8391-11ee-91d3-0242ac120006-2-7f57-c024",
       "previous": "0743fcc8-8390-11ee-91d3-0242ac120006-2-77ea-15f6"
      },
      {
       "current": "6d019448-8391-11ee-91d3-0242ac120006-4-d879-1653-8dd5-9f69",
       "next": "6d0195f6-8391-11ee-91d3-0242ac120006-3-7f57-c024-1e4c",
       "previous": "0743fcc8-8390-11ee-91d3-0242ac120006-3-77ea-15f6-f99a"
      }
     ],
     "next": "6d0195f6-8391-11ee-91d3-0242ac120006-4-7f57-c024-1e4c-41a5",
     "previous": "0743fcc8-8390-11ee-91d3-0242ac120006-4-77ea-15f6-f99a-2894"
    }
   },
   "source": [
    "## mgr"
   ]
  },
  {
   "cell_type": "code",
   "execution_count": null,
   "metadata": {
    "lc_cell_meme": {
     "current": "6d0195f6-8391-11ee-91d3-0242ac120006-4-7f57-c024-1e4c-41a5",
     "history": [
      {
       "current": "6d0195f6-8391-11ee-91d3-0242ac120006",
       "next": "6d0196a0-8391-11ee-91d3-0242ac120006",
       "previous": "6d019448-8391-11ee-91d3-0242ac120006"
      },
      {
       "current": "6d0195f6-8391-11ee-91d3-0242ac120006-1-7f57",
       "next": "6d0196a0-8391-11ee-91d3-0242ac120006-1-41ce",
       "previous": "6d019448-8391-11ee-91d3-0242ac120006"
      },
      {
       "current": "6d0195f6-8391-11ee-91d3-0242ac120006-2-7f57-c024",
       "next": "6d0196a0-8391-11ee-91d3-0242ac120006-2-41ce-6c10",
       "previous": "6d019448-8391-11ee-91d3-0242ac120006-1-d879"
      },
      {
       "current": "6d0195f6-8391-11ee-91d3-0242ac120006-3-7f57-c024-1e4c",
       "next": "6d0196a0-8391-11ee-91d3-0242ac120006-3-41ce-6c10-c249",
       "previous": "6d019448-8391-11ee-91d3-0242ac120006-2-d879-1653"
      },
      {
       "current": "6d0195f6-8391-11ee-91d3-0242ac120006-4-7f57-c024-1e4c-41a5",
       "next": "6d0196a0-8391-11ee-91d3-0242ac120006-4-41ce-6c10-c249-867e",
       "previous": "6d019448-8391-11ee-91d3-0242ac120006-3-d879-1653-8dd5"
      }
     ],
     "next": "6d0196a0-8391-11ee-91d3-0242ac120006-5-41ce-6c10-c249-867e-69b2",
     "previous": "6d019448-8391-11ee-91d3-0242ac120006-4-d879-1653-8dd5-9f69"
    }
   },
   "outputs": [],
   "source": [
    "target_node_mgr = None\n",
    "mgr_state_list = service_state_list_map['mgr']\n",
    "for mgr_state in mgr_state_list:\n",
    "    if mgr_state['hostname'] == instance_name:\n",
    "        target_node_mgr = mgr_state\n",
    "        break\n",
    "\n",
    "print(target_node_mgr)"
   ]
  },
  {
   "cell_type": "markdown",
   "metadata": {
    "lc_cell_meme": {
     "current": "6d0196a0-8391-11ee-91d3-0242ac120006-5-41ce-6c10-c249-867e-69b2",
     "history": [
      {
       "current": "6d0196a0-8391-11ee-91d3-0242ac120006-1-41ce",
       "next": "28c9c182-8383-11ee-91d3-0242ac120006",
       "previous": "6d0195f6-8391-11ee-91d3-0242ac120006"
      },
      {
       "current": "6d0196a0-8391-11ee-91d3-0242ac120006-2-41ce-6c10",
       "next": "b4889db6-8391-11ee-91d3-0242ac120006",
       "previous": "6d0195f6-8391-11ee-91d3-0242ac120006"
      },
      {
       "current": "6d0196a0-8391-11ee-91d3-0242ac120006-3-41ce-6c10-c249",
       "next": "b4889db6-8391-11ee-91d3-0242ac120006-1-6db3",
       "previous": "6d0195f6-8391-11ee-91d3-0242ac120006-1-7f57"
      },
      {
       "current": "6d0196a0-8391-11ee-91d3-0242ac120006-4-41ce-6c10-c249-867e",
       "next": "b4889db6-8391-11ee-91d3-0242ac120006-2-6db3-07dd",
       "previous": "6d0195f6-8391-11ee-91d3-0242ac120006-2-7f57-c024"
      },
      {
       "current": "6d0196a0-8391-11ee-91d3-0242ac120006-5-41ce-6c10-c249-867e-69b2",
       "next": "b4889db6-8391-11ee-91d3-0242ac120006-3-6db3-07dd-b2a6",
       "previous": "6d0195f6-8391-11ee-91d3-0242ac120006-3-7f57-c024-1e4c"
      }
     ],
     "next": "b4889db6-8391-11ee-91d3-0242ac120006-4-6db3-07dd-b2a6-d452",
     "previous": "6d0195f6-8391-11ee-91d3-0242ac120006-4-7f57-c024-1e4c-41a5"
    }
   },
   "source": [
    "## prometheus"
   ]
  },
  {
   "cell_type": "code",
   "execution_count": null,
   "metadata": {
    "lc_cell_meme": {
     "current": "b4889db6-8391-11ee-91d3-0242ac120006-4-6db3-07dd-b2a6-d452",
     "history": [
      {
       "current": "b4889db6-8391-11ee-91d3-0242ac120006",
       "next": "b4889f78-8391-11ee-91d3-0242ac120006",
       "previous": "6d0196a0-8391-11ee-91d3-0242ac120006-1-41ce"
      },
      {
       "current": "b4889db6-8391-11ee-91d3-0242ac120006-1-6db3",
       "next": "b4889f78-8391-11ee-91d3-0242ac120006-1-aea2",
       "previous": "6d0196a0-8391-11ee-91d3-0242ac120006-1-41ce"
      },
      {
       "current": "b4889db6-8391-11ee-91d3-0242ac120006-2-6db3-07dd",
       "next": "b4889f78-8391-11ee-91d3-0242ac120006-2-aea2-cc7f",
       "previous": "6d0196a0-8391-11ee-91d3-0242ac120006-2-41ce-6c10"
      },
      {
       "current": "b4889db6-8391-11ee-91d3-0242ac120006-3-6db3-07dd-b2a6",
       "next": "b4889f78-8391-11ee-91d3-0242ac120006-3-aea2-cc7f-95c0",
       "previous": "6d0196a0-8391-11ee-91d3-0242ac120006-3-41ce-6c10-c249"
      },
      {
       "current": "b4889db6-8391-11ee-91d3-0242ac120006-4-6db3-07dd-b2a6-d452",
       "next": "b4889f78-8391-11ee-91d3-0242ac120006-4-aea2-cc7f-95c0-0afb",
       "previous": "6d0196a0-8391-11ee-91d3-0242ac120006-4-41ce-6c10-c249-867e"
      }
     ],
     "next": "b4889f78-8391-11ee-91d3-0242ac120006-5-aea2-cc7f-95c0-0afb-c5c1",
     "previous": "6d0196a0-8391-11ee-91d3-0242ac120006-5-41ce-6c10-c249-867e-69b2"
    }
   },
   "outputs": [],
   "source": [
    "target_node_prometheus = None\n",
    "prometheus_state_list = service_state_list_map['prometheus']\n",
    "for prometheus_state in prometheus_state_list:\n",
    "    if prometheus_state['hostname'] == instance_name:\n",
    "        target_node_prometheus = prometheus_state\n",
    "        break\n",
    "\n",
    "print(target_node_prometheus)"
   ]
  },
  {
   "cell_type": "markdown",
   "metadata": {
    "lc_cell_meme": {
     "current": "b4889f78-8391-11ee-91d3-0242ac120006-5-aea2-cc7f-95c0-0afb-c5c1",
     "history": [
      {
       "current": "b4889f78-8391-11ee-91d3-0242ac120006-1-aea2",
       "next": "b488a02c-8391-11ee-91d3-0242ac120006",
       "previous": "b4889db6-8391-11ee-91d3-0242ac120006"
      },
      {
       "current": "b4889f78-8391-11ee-91d3-0242ac120006-2-aea2-cc7f",
       "next": "fc1b68a2-8391-11ee-91d3-0242ac120006",
       "previous": "b4889db6-8391-11ee-91d3-0242ac120006"
      },
      {
       "current": "b4889f78-8391-11ee-91d3-0242ac120006-3-aea2-cc7f-95c0",
       "next": "fc1b68a2-8391-11ee-91d3-0242ac120006-1-b179",
       "previous": "b4889db6-8391-11ee-91d3-0242ac120006-1-6db3"
      },
      {
       "current": "b4889f78-8391-11ee-91d3-0242ac120006-4-aea2-cc7f-95c0-0afb",
       "next": "fc1b68a2-8391-11ee-91d3-0242ac120006-2-b179-1bc9",
       "previous": "b4889db6-8391-11ee-91d3-0242ac120006-2-6db3-07dd"
      },
      {
       "current": "b4889f78-8391-11ee-91d3-0242ac120006-5-aea2-cc7f-95c0-0afb-c5c1",
       "next": "fc1b68a2-8391-11ee-91d3-0242ac120006-3-b179-1bc9-9340",
       "previous": "b4889db6-8391-11ee-91d3-0242ac120006-3-6db3-07dd-b2a6"
      }
     ],
     "next": "fc1b68a2-8391-11ee-91d3-0242ac120006-4-b179-1bc9-9340-1404",
     "previous": "b4889db6-8391-11ee-91d3-0242ac120006-4-6db3-07dd-b2a6-d452"
    }
   },
   "source": [
    "## alertmanager"
   ]
  },
  {
   "cell_type": "code",
   "execution_count": null,
   "metadata": {
    "lc_cell_meme": {
     "current": "fc1b68a2-8391-11ee-91d3-0242ac120006-4-b179-1bc9-9340-1404",
     "history": [
      {
       "current": "fc1b68a2-8391-11ee-91d3-0242ac120006",
       "next": "fc1b6a6e-8391-11ee-91d3-0242ac120006",
       "previous": "b4889f78-8391-11ee-91d3-0242ac120006-1-aea2"
      },
      {
       "current": "fc1b68a2-8391-11ee-91d3-0242ac120006-1-b179",
       "next": "fc1b6a6e-8391-11ee-91d3-0242ac120006-1-79fc",
       "previous": "b4889f78-8391-11ee-91d3-0242ac120006-1-aea2"
      },
      {
       "current": "fc1b68a2-8391-11ee-91d3-0242ac120006-2-b179-1bc9",
       "next": "fc1b6a6e-8391-11ee-91d3-0242ac120006-2-79fc-90fd",
       "previous": "b4889f78-8391-11ee-91d3-0242ac120006-2-aea2-cc7f"
      },
      {
       "current": "fc1b68a2-8391-11ee-91d3-0242ac120006-3-b179-1bc9-9340",
       "next": "fc1b6a6e-8391-11ee-91d3-0242ac120006-3-79fc-90fd-a3b7",
       "previous": "b4889f78-8391-11ee-91d3-0242ac120006-3-aea2-cc7f-95c0"
      },
      {
       "current": "fc1b68a2-8391-11ee-91d3-0242ac120006-4-b179-1bc9-9340-1404",
       "next": "fc1b6a6e-8391-11ee-91d3-0242ac120006-4-79fc-90fd-a3b7-0a5e",
       "previous": "b4889f78-8391-11ee-91d3-0242ac120006-4-aea2-cc7f-95c0-0afb"
      }
     ],
     "next": "fc1b6a6e-8391-11ee-91d3-0242ac120006-5-79fc-90fd-a3b7-0a5e-3c24",
     "previous": "b4889f78-8391-11ee-91d3-0242ac120006-5-aea2-cc7f-95c0-0afb-c5c1"
    }
   },
   "outputs": [],
   "source": [
    "target_node_alertmanager = None\n",
    "alertmanager_state_list = service_state_list_map['alertmanager']\n",
    "for alertmanager_state in alertmanager_state_list:\n",
    "    if alertmanager_state['hostname'] == instance_name:\n",
    "        target_node_alertmanager = prometheus_state\n",
    "        break\n",
    "\n",
    "print(target_node_alertmanager)"
   ]
  },
  {
   "cell_type": "markdown",
   "metadata": {
    "lc_cell_meme": {
     "current": "fc1b6a6e-8391-11ee-91d3-0242ac120006-5-79fc-90fd-a3b7-0a5e-3c24",
     "history": [
      {
       "current": "fc1b6a6e-8391-11ee-91d3-0242ac120006-1-79fc",
       "next": "b488a02c-8391-11ee-91d3-0242ac120006",
       "previous": "fc1b68a2-8391-11ee-91d3-0242ac120006"
      },
      {
       "current": "fc1b6a6e-8391-11ee-91d3-0242ac120006-2-79fc-90fd",
       "next": "43c2a6fc-8392-11ee-91d3-0242ac120006",
       "previous": "fc1b68a2-8391-11ee-91d3-0242ac120006"
      },
      {
       "current": "fc1b6a6e-8391-11ee-91d3-0242ac120006-3-79fc-90fd-a3b7",
       "next": "43c2a6fc-8392-11ee-91d3-0242ac120006-1-a604",
       "previous": "fc1b68a2-8391-11ee-91d3-0242ac120006-1-b179"
      },
      {
       "current": "fc1b6a6e-8391-11ee-91d3-0242ac120006-4-79fc-90fd-a3b7-0a5e",
       "next": "43c2a6fc-8392-11ee-91d3-0242ac120006-2-a604-24ae",
       "previous": "fc1b68a2-8391-11ee-91d3-0242ac120006-2-b179-1bc9"
      },
      {
       "current": "fc1b6a6e-8391-11ee-91d3-0242ac120006-5-79fc-90fd-a3b7-0a5e-3c24",
       "next": "43c2a6fc-8392-11ee-91d3-0242ac120006-3-a604-24ae-29f5",
       "previous": "fc1b68a2-8391-11ee-91d3-0242ac120006-3-b179-1bc9-9340"
      }
     ],
     "next": "43c2a6fc-8392-11ee-91d3-0242ac120006-4-a604-24ae-29f5-351c",
     "previous": "fc1b68a2-8391-11ee-91d3-0242ac120006-4-b179-1bc9-9340-1404"
    }
   },
   "source": [
    "## grafana"
   ]
  },
  {
   "cell_type": "code",
   "execution_count": null,
   "metadata": {
    "lc_cell_meme": {
     "current": "43c2a6fc-8392-11ee-91d3-0242ac120006-4-a604-24ae-29f5-351c",
     "history": [
      {
       "current": "43c2a6fc-8392-11ee-91d3-0242ac120006",
       "next": "b488a02c-8391-11ee-91d3-0242ac120006",
       "previous": "fc1b6a6e-8391-11ee-91d3-0242ac120006-1-79fc"
      },
      {
       "current": "43c2a6fc-8392-11ee-91d3-0242ac120006-1-a604",
       "next": "28c9c182-8383-11ee-91d3-0242ac120006",
       "previous": "fc1b6a6e-8391-11ee-91d3-0242ac120006-1-79fc"
      },
      {
       "current": "43c2a6fc-8392-11ee-91d3-0242ac120006-2-a604-24ae",
       "next": "28c9c182-8383-11ee-91d3-0242ac120006-1-782e",
       "previous": "fc1b6a6e-8391-11ee-91d3-0242ac120006-2-79fc-90fd"
      },
      {
       "current": "43c2a6fc-8392-11ee-91d3-0242ac120006-3-a604-24ae-29f5",
       "next": "28c9c182-8383-11ee-91d3-0242ac120006-2-782e-e4a5",
       "previous": "fc1b6a6e-8391-11ee-91d3-0242ac120006-3-79fc-90fd-a3b7"
      },
      {
       "current": "43c2a6fc-8392-11ee-91d3-0242ac120006-4-a604-24ae-29f5-351c",
       "next": "28c9c182-8383-11ee-91d3-0242ac120006-3-782e-e4a5-e0da",
       "previous": "fc1b6a6e-8391-11ee-91d3-0242ac120006-4-79fc-90fd-a3b7-0a5e"
      }
     ],
     "next": "28c9c182-8383-11ee-91d3-0242ac120006-4-782e-e4a5-e0da-35a6",
     "previous": "fc1b6a6e-8391-11ee-91d3-0242ac120006-5-79fc-90fd-a3b7-0a5e-3c24"
    }
   },
   "outputs": [],
   "source": [
    "target_node_grafana = None\n",
    "grafana_state_list = service_state_list_map['grafana']\n",
    "for grafana_state in grafana_state_list:\n",
    "    if grafana_state['hostname'] == instance_name:\n",
    "        target_node_grafana = prometheus_state\n",
    "        break\n",
    "\n",
    "print(target_node_grafana)"
   ]
  },
  {
   "cell_type": "markdown",
   "metadata": {
    "lc_cell_meme": {
     "current": "28c9c182-8383-11ee-91d3-0242ac120006-4-782e-e4a5-e0da-35a6",
     "history": [
      {
       "current": "28c9c182-8383-11ee-91d3-0242ac120006",
       "next": "28c9c34e-8383-11ee-91d3-0242ac120006",
       "previous": "ecc4b59c-6cae-11ee-89fa-0242ac120005"
      },
      {
       "current": "28c9c182-8383-11ee-91d3-0242ac120006",
       "next": "70733752-8383-11ee-91d3-0242ac120006",
       "previous": "ecc4b59c-6cae-11ee-89fa-0242ac120005"
      },
      {
       "current": "28c9c182-8383-11ee-91d3-0242ac120006",
       "next": "70733752-8383-11ee-91d3-0242ac120006",
       "previous": "b7e8f426-838a-11ee-91d3-0242ac120006"
      },
      {
       "current": "28c9c182-8383-11ee-91d3-0242ac120006",
       "next": "70733752-8383-11ee-91d3-0242ac120006",
       "previous": "0743ff70-8390-11ee-91d3-0242ac120006"
      },
      {
       "current": "28c9c182-8383-11ee-91d3-0242ac120006",
       "next": "70733752-8383-11ee-91d3-0242ac120006",
       "previous": "0743fcc8-8390-11ee-91d3-0242ac120006"
      },
      {
       "current": "28c9c182-8383-11ee-91d3-0242ac120006",
       "next": "70733752-8383-11ee-91d3-0242ac120006",
       "previous": "6d0196a0-8391-11ee-91d3-0242ac120006"
      },
      {
       "current": "28c9c182-8383-11ee-91d3-0242ac120006",
       "next": "70733752-8383-11ee-91d3-0242ac120006",
       "previous": "b488a02c-8391-11ee-91d3-0242ac120006"
      },
      {
       "current": "28c9c182-8383-11ee-91d3-0242ac120006",
       "next": "70733752-8383-11ee-91d3-0242ac120006",
       "previous": "43c2a6fc-8392-11ee-91d3-0242ac120006"
      },
      {
       "current": "28c9c182-8383-11ee-91d3-0242ac120006-1-782e",
       "next": "01dc65c6-8517-11ee-91d3-0242ac120006",
       "previous": "43c2a6fc-8392-11ee-91d3-0242ac120006"
      },
      {
       "current": "28c9c182-8383-11ee-91d3-0242ac120006-2-782e-e4a5",
       "next": "01dc65c6-8517-11ee-91d3-0242ac120006-1-6377",
       "previous": "43c2a6fc-8392-11ee-91d3-0242ac120006-1-a604"
      },
      {
       "current": "28c9c182-8383-11ee-91d3-0242ac120006-3-782e-e4a5-e0da",
       "next": "01dc65c6-8517-11ee-91d3-0242ac120006-2-6377-068f",
       "previous": "43c2a6fc-8392-11ee-91d3-0242ac120006-2-a604-24ae"
      },
      {
       "current": "28c9c182-8383-11ee-91d3-0242ac120006-4-782e-e4a5-e0da-35a6",
       "next": "01dc65c6-8517-11ee-91d3-0242ac120006-3-6377-068f-5ddd",
       "previous": "43c2a6fc-8392-11ee-91d3-0242ac120006-3-a604-24ae-29f5"
      }
     ],
     "next": "01dc65c6-8517-11ee-91d3-0242ac120006-4-6377-068f-5ddd-a498",
     "previous": "43c2a6fc-8392-11ee-91d3-0242ac120006-4-a604-24ae-29f5-351c"
    }
   },
   "source": [
    "# Cephクラスタノードのメンテナンスモード移行"
   ]
  },
  {
   "cell_type": "markdown",
   "metadata": {
    "lc_cell_meme": {
     "current": "01dc65c6-8517-11ee-91d3-0242ac120006-4-6377-068f-5ddd-a498",
     "history": [
      {
       "current": "01dc65c6-8517-11ee-91d3-0242ac120006-1-6377",
       "next": "01dc66de-8517-11ee-91d3-0242ac120006",
       "previous": "28c9c182-8383-11ee-91d3-0242ac120006"
      },
      {
       "current": "01dc65c6-8517-11ee-91d3-0242ac120006-2-6377-068f",
       "next": "01dc66de-8517-11ee-91d3-0242ac120006-1-8c10",
       "previous": "28c9c182-8383-11ee-91d3-0242ac120006-1-782e"
      },
      {
       "current": "01dc65c6-8517-11ee-91d3-0242ac120006-3-6377-068f-5ddd",
       "next": "01dc66de-8517-11ee-91d3-0242ac120006-2-8c10-b5ab",
       "previous": "28c9c182-8383-11ee-91d3-0242ac120006-2-782e-e4a5"
      },
      {
       "current": "01dc65c6-8517-11ee-91d3-0242ac120006-4-6377-068f-5ddd-a498",
       "next": "01dc66de-8517-11ee-91d3-0242ac120006-3-8c10-b5ab-6bad",
       "previous": "28c9c182-8383-11ee-91d3-0242ac120006-3-782e-e4a5-e0da"
      }
     ],
     "next": "01dc66de-8517-11ee-91d3-0242ac120006-4-8c10-b5ab-6bad-14e7",
     "previous": "28c9c182-8383-11ee-91d3-0242ac120006-4-782e-e4a5-e0da-35a6"
    }
   },
   "source": [
    "## ノード状態確認"
   ]
  },
  {
   "cell_type": "code",
   "execution_count": null,
   "metadata": {
    "lc_cell_meme": {
     "current": "01dc66de-8517-11ee-91d3-0242ac120006-4-8c10-b5ab-6bad-14e7",
     "history": [
      {
       "current": "01dc66de-8517-11ee-91d3-0242ac120006",
       "next": "70733752-8383-11ee-91d3-0242ac120006",
       "previous": "01dc65c6-8517-11ee-91d3-0242ac120006"
      },
      {
       "current": "01dc66de-8517-11ee-91d3-0242ac120006-1-8c10",
       "next": "495623c4-8517-11ee-91d3-0242ac120006",
       "previous": "01dc65c6-8517-11ee-91d3-0242ac120006"
      },
      {
       "current": "01dc66de-8517-11ee-91d3-0242ac120006-2-8c10-b5ab",
       "next": "495623c4-8517-11ee-91d3-0242ac120006-1-5221",
       "previous": "01dc65c6-8517-11ee-91d3-0242ac120006-1-6377"
      },
      {
       "current": "01dc66de-8517-11ee-91d3-0242ac120006-3-8c10-b5ab-6bad",
       "next": "495623c4-8517-11ee-91d3-0242ac120006-2-5221-fe1f",
       "previous": "01dc65c6-8517-11ee-91d3-0242ac120006-2-6377-068f"
      },
      {
       "current": "01dc66de-8517-11ee-91d3-0242ac120006-4-8c10-b5ab-6bad-14e7",
       "next": "495623c4-8517-11ee-91d3-0242ac120006-3-5221-fe1f-01f0",
       "previous": "01dc65c6-8517-11ee-91d3-0242ac120006-3-6377-068f-5ddd"
      }
     ],
     "next": "495623c4-8517-11ee-91d3-0242ac120006-4-5221-fe1f-01f0-4089",
     "previous": "01dc65c6-8517-11ee-91d3-0242ac120006-4-6377-068f-5ddd-a498"
    }
   },
   "outputs": [],
   "source": [
    "ret = !ansible -b -m shell -a \"cephadm shell -- ceph orch host ls --format=json 2> /dev/null\" bootstrap\n",
    "ret"
   ]
  },
  {
   "cell_type": "code",
   "execution_count": null,
   "metadata": {
    "lc_cell_meme": {
     "current": "495623c4-8517-11ee-91d3-0242ac120006-4-5221-fe1f-01f0-4089",
     "history": [
      {
       "current": "495623c4-8517-11ee-91d3-0242ac120006",
       "next": "70733752-8383-11ee-91d3-0242ac120006",
       "previous": "01dc66de-8517-11ee-91d3-0242ac120006"
      },
      {
       "current": "495623c4-8517-11ee-91d3-0242ac120006-1-5221",
       "next": "90d6eeea-8517-11ee-91d3-0242ac120006",
       "previous": "01dc66de-8517-11ee-91d3-0242ac120006"
      },
      {
       "current": "495623c4-8517-11ee-91d3-0242ac120006-2-5221-fe1f",
       "next": "90d6eeea-8517-11ee-91d3-0242ac120006-1-4fb6",
       "previous": "01dc66de-8517-11ee-91d3-0242ac120006-1-8c10"
      },
      {
       "current": "495623c4-8517-11ee-91d3-0242ac120006-3-5221-fe1f-01f0",
       "next": "90d6eeea-8517-11ee-91d3-0242ac120006-2-4fb6-ceae",
       "previous": "01dc66de-8517-11ee-91d3-0242ac120006-2-8c10-b5ab"
      },
      {
       "current": "495623c4-8517-11ee-91d3-0242ac120006-4-5221-fe1f-01f0-4089",
       "next": "90d6eeea-8517-11ee-91d3-0242ac120006-3-4fb6-ceae-85f2",
       "previous": "01dc66de-8517-11ee-91d3-0242ac120006-3-8c10-b5ab-6bad"
      }
     ],
     "next": "90d6eeea-8517-11ee-91d3-0242ac120006-4-4fb6-ceae-85f2-7776",
     "previous": "01dc66de-8517-11ee-91d3-0242ac120006-4-8c10-b5ab-6bad-14e7"
    },
    "scrolled": true
   },
   "outputs": [],
   "source": [
    "host_state_list = json.loads(ret[2])\n",
    "print(json.dumps(host_state_list, indent=2))"
   ]
  },
  {
   "cell_type": "code",
   "execution_count": null,
   "metadata": {
    "lc_cell_meme": {
     "current": "90d6eeea-8517-11ee-91d3-0242ac120006-4-4fb6-ceae-85f2-7776",
     "history": [
      {
       "current": "90d6eeea-8517-11ee-91d3-0242ac120006-1-4fb6",
       "next": "90d6f052-8517-11ee-91d3-0242ac120006",
       "previous": "495623c4-8517-11ee-91d3-0242ac120006"
      },
      {
       "current": "90d6eeea-8517-11ee-91d3-0242ac120006-2-4fb6-ceae",
       "next": "90d6f052-8517-11ee-91d3-0242ac120006-1-062a",
       "previous": "495623c4-8517-11ee-91d3-0242ac120006-1-5221"
      },
      {
       "current": "90d6eeea-8517-11ee-91d3-0242ac120006-3-4fb6-ceae-85f2",
       "next": "90d6f052-8517-11ee-91d3-0242ac120006-2-062a-76cc",
       "previous": "495623c4-8517-11ee-91d3-0242ac120006-2-5221-fe1f"
      },
      {
       "current": "90d6eeea-8517-11ee-91d3-0242ac120006-4-4fb6-ceae-85f2-7776",
       "next": "90d6f052-8517-11ee-91d3-0242ac120006-3-062a-76cc-503e",
       "previous": "495623c4-8517-11ee-91d3-0242ac120006-3-5221-fe1f-01f0"
      }
     ],
     "next": "90d6f052-8517-11ee-91d3-0242ac120006-4-062a-76cc-503e-412a",
     "previous": "495623c4-8517-11ee-91d3-0242ac120006-4-5221-fe1f-01f0-4089"
    }
   },
   "outputs": [],
   "source": [
    "pd.DataFrame(host_state_list)"
   ]
  },
  {
   "cell_type": "code",
   "execution_count": null,
   "metadata": {
    "lc_cell_meme": {
     "current": "90d6f052-8517-11ee-91d3-0242ac120006-4-062a-76cc-503e-412a",
     "history": [
      {
       "current": "90d6f052-8517-11ee-91d3-0242ac120006",
       "next": "90d6f0e8-8517-11ee-91d3-0242ac120006",
       "previous": "90d6eeea-8517-11ee-91d3-0242ac120006"
      },
      {
       "current": "90d6f052-8517-11ee-91d3-0242ac120006-1-062a",
       "next": "70733752-8383-11ee-91d3-0242ac120006",
       "previous": "90d6eeea-8517-11ee-91d3-0242ac120006"
      },
      {
       "current": "90d6f052-8517-11ee-91d3-0242ac120006-2-062a-76cc",
       "next": "70733752-8383-11ee-91d3-0242ac120006-1-aa69",
       "previous": "90d6eeea-8517-11ee-91d3-0242ac120006-1-4fb6"
      },
      {
       "current": "90d6f052-8517-11ee-91d3-0242ac120006-3-062a-76cc-503e",
       "next": "70733752-8383-11ee-91d3-0242ac120006-2-aa69-a77f",
       "previous": "90d6eeea-8517-11ee-91d3-0242ac120006-2-4fb6-ceae"
      },
      {
       "current": "90d6f052-8517-11ee-91d3-0242ac120006-4-062a-76cc-503e-412a",
       "next": "70733752-8383-11ee-91d3-0242ac120006-3-aa69-a77f-c318",
       "previous": "90d6eeea-8517-11ee-91d3-0242ac120006-3-4fb6-ceae-85f2"
      }
     ],
     "next": "70733752-8383-11ee-91d3-0242ac120006-4-aa69-a77f-c318-6ca0",
     "previous": "90d6eeea-8517-11ee-91d3-0242ac120006-4-4fb6-ceae-85f2-7776"
    }
   },
   "outputs": [],
   "source": [
    "for host_state in host_state_list:\n",
    "    assert (host_state['status'] == ''), \"すでに状態が停止またはメンテナンス状態のホストが存在する。\""
   ]
  },
  {
   "cell_type": "markdown",
   "metadata": {
    "lc_cell_meme": {
     "current": "70733752-8383-11ee-91d3-0242ac120006-4-aa69-a77f-c318-6ca0",
     "history": [
      {
       "current": "70733752-8383-11ee-91d3-0242ac120006",
       "next": "28c9c34e-8383-11ee-91d3-0242ac120006",
       "previous": "28c9c182-8383-11ee-91d3-0242ac120006"
      },
      {
       "current": "70733752-8383-11ee-91d3-0242ac120006",
       "next": "28c9c34e-8383-11ee-91d3-0242ac120006",
       "previous": "01dc66de-8517-11ee-91d3-0242ac120006"
      },
      {
       "current": "70733752-8383-11ee-91d3-0242ac120006",
       "next": "28c9c34e-8383-11ee-91d3-0242ac120006",
       "previous": "495623c4-8517-11ee-91d3-0242ac120006"
      },
      {
       "current": "70733752-8383-11ee-91d3-0242ac120006",
       "next": "28c9c34e-8383-11ee-91d3-0242ac120006",
       "previous": "90d6f0e8-8517-11ee-91d3-0242ac120006"
      },
      {
       "current": "70733752-8383-11ee-91d3-0242ac120006-1-aa69",
       "next": "28c9c34e-8383-11ee-91d3-0242ac120006",
       "previous": "90d6f052-8517-11ee-91d3-0242ac120006"
      },
      {
       "current": "70733752-8383-11ee-91d3-0242ac120006-2-aa69-a77f",
       "next": "28c9c34e-8383-11ee-91d3-0242ac120006-1-c525",
       "previous": "90d6f052-8517-11ee-91d3-0242ac120006-1-062a"
      },
      {
       "current": "70733752-8383-11ee-91d3-0242ac120006-3-aa69-a77f-c318",
       "next": "28c9c34e-8383-11ee-91d3-0242ac120006-2-c525-ba54",
       "previous": "90d6f052-8517-11ee-91d3-0242ac120006-2-062a-76cc"
      },
      {
       "current": "70733752-8383-11ee-91d3-0242ac120006-4-aa69-a77f-c318-6ca0",
       "next": "28c9c34e-8383-11ee-91d3-0242ac120006-3-c525-ba54-5c56",
       "previous": "90d6f052-8517-11ee-91d3-0242ac120006-3-062a-76cc-503e"
      }
     ],
     "next": "28c9c34e-8383-11ee-91d3-0242ac120006-4-c525-ba54-5c56-e2f0",
     "previous": "90d6f052-8517-11ee-91d3-0242ac120006-4-062a-76cc-503e-412a"
    }
   },
   "source": [
    "## 対象ノード停止の可否を確認"
   ]
  },
  {
   "cell_type": "code",
   "execution_count": null,
   "metadata": {
    "lc_cell_meme": {
     "current": "28c9c34e-8383-11ee-91d3-0242ac120006-4-c525-ba54-5c56-e2f0",
     "history": [
      {
       "current": "28c9c34e-8383-11ee-91d3-0242ac120006",
       "next": "28c9c4de-8383-11ee-91d3-0242ac120006",
       "previous": "28c9c182-8383-11ee-91d3-0242ac120006"
      },
      {
       "current": "28c9c34e-8383-11ee-91d3-0242ac120006",
       "next": "28c9c4de-8383-11ee-91d3-0242ac120006",
       "previous": "70733752-8383-11ee-91d3-0242ac120006"
      },
      {
       "current": "28c9c34e-8383-11ee-91d3-0242ac120006",
       "next": "28c9c4de-8383-11ee-91d3-0242ac120006-1-7c21",
       "previous": "70733752-8383-11ee-91d3-0242ac120006"
      },
      {
       "current": "28c9c34e-8383-11ee-91d3-0242ac120006",
       "next": "676cef22-8518-11ee-91d3-0242ac120006",
       "previous": "70733752-8383-11ee-91d3-0242ac120006"
      },
      {
       "current": "28c9c34e-8383-11ee-91d3-0242ac120006",
       "next": "28c9c4de-8383-11ee-91d3-0242ac120006-1-7c21",
       "previous": "70733752-8383-11ee-91d3-0242ac120006"
      },
      {
       "current": "28c9c34e-8383-11ee-91d3-0242ac120006-1-c525",
       "next": "b7ec6662-8383-11ee-91d3-0242ac120006-1-c443",
       "previous": "70733752-8383-11ee-91d3-0242ac120006"
      },
      {
       "current": "28c9c34e-8383-11ee-91d3-0242ac120006-2-c525-ba54",
       "next": "b7ec6662-8383-11ee-91d3-0242ac120006-2-c443-9a5e",
       "previous": "70733752-8383-11ee-91d3-0242ac120006-1-aa69"
      },
      {
       "current": "28c9c34e-8383-11ee-91d3-0242ac120006-3-c525-ba54-5c56",
       "next": "b7ec6662-8383-11ee-91d3-0242ac120006-3-c443-9a5e-8ae7",
       "previous": "70733752-8383-11ee-91d3-0242ac120006-2-aa69-a77f"
      },
      {
       "current": "28c9c34e-8383-11ee-91d3-0242ac120006-4-c525-ba54-5c56-e2f0",
       "next": "b7ec6662-8383-11ee-91d3-0242ac120006-4-c443-9a5e-8ae7-cbf7",
       "previous": "70733752-8383-11ee-91d3-0242ac120006-3-aa69-a77f-c318"
      }
     ],
     "next": "b7ec6662-8383-11ee-91d3-0242ac120006-5-c443-9a5e-8ae7-cbf7-ebb7",
     "previous": "70733752-8383-11ee-91d3-0242ac120006-4-aa69-a77f-c318-6ca0"
    }
   },
   "outputs": [],
   "source": [
    "ret = !ansible -b -m shell -a \"cephadm shell -- ceph orch host ok-to-stop $instance_name\" bootstrap\n",
    "ret"
   ]
  },
  {
   "cell_type": "markdown",
   "metadata": {
    "lc_cell_meme": {
     "current": "b7ec6662-8383-11ee-91d3-0242ac120006-5-c443-9a5e-8ae7-cbf7-ebb7",
     "history": [
      {
       "current": "b7ec6662-8383-11ee-91d3-0242ac120006",
       "next": "35c581ba-55a3-11e7-b0b2-00163e9c0e35-2-89bc-f9d0",
       "previous": "b7ec65f4-8383-11ee-91d3-0242ac120006"
      },
      {
       "current": "b7ec6662-8383-11ee-91d3-0242ac120006-1-c443",
       "next": "d6091c52-8384-11ee-91d3-0242ac120006",
       "previous": "b7ec65f4-8383-11ee-91d3-0242ac120006"
      },
      {
       "current": "b7ec6662-8383-11ee-91d3-0242ac120006-1-c443",
       "next": "d6091c52-8384-11ee-91d3-0242ac120006-1-34d4",
       "previous": "b7ec65f4-8383-11ee-91d3-0242ac120006"
      },
      {
       "current": "b7ec6662-8383-11ee-91d3-0242ac120006-2-c443-9a5e",
       "next": "d6091c52-8384-11ee-91d3-0242ac120006-1-34d4",
       "previous": "28c9c34e-8383-11ee-91d3-0242ac120006"
      },
      {
       "current": "b7ec6662-8383-11ee-91d3-0242ac120006-3-c443-9a5e-8ae7",
       "next": "d6091c52-8384-11ee-91d3-0242ac120006-2-34d4-cf14",
       "previous": "28c9c34e-8383-11ee-91d3-0242ac120006-1-c525"
      },
      {
       "current": "b7ec6662-8383-11ee-91d3-0242ac120006-4-c443-9a5e-8ae7-cbf7",
       "next": "d6091c52-8384-11ee-91d3-0242ac120006-3-34d4-cf14-627e",
       "previous": "28c9c34e-8383-11ee-91d3-0242ac120006-2-c525-ba54"
      },
      {
       "current": "b7ec6662-8383-11ee-91d3-0242ac120006-5-c443-9a5e-8ae7-cbf7-ebb7",
       "next": "d6091c52-8384-11ee-91d3-0242ac120006-4-34d4-cf14-627e-7f23",
       "previous": "28c9c34e-8383-11ee-91d3-0242ac120006-3-c525-ba54-5c56"
      }
     ],
     "next": "d6091c52-8384-11ee-91d3-0242ac120006-5-34d4-cf14-627e-7f23-3838",
     "previous": "28c9c34e-8383-11ee-91d3-0242ac120006-4-c525-ba54-5c56-e2f0"
    }
   },
   "source": [
    "## mgrのActiveホスト変更"
   ]
  },
  {
   "cell_type": "code",
   "execution_count": null,
   "metadata": {
    "lc_cell_meme": {
     "current": "d6091c52-8384-11ee-91d3-0242ac120006-5-34d4-cf14-627e-7f23-3838",
     "history": [
      {
       "current": "d6091c52-8384-11ee-91d3-0242ac120006",
       "next": "d6091e0a-8384-11ee-91d3-0242ac120006",
       "previous": "b7ec6662-8383-11ee-91d3-0242ac120006"
      },
      {
       "current": "d6091c52-8384-11ee-91d3-0242ac120006",
       "next": "1a67b29c-8393-11ee-91d3-0242ac120006",
       "previous": "b7ec6662-8383-11ee-91d3-0242ac120006-1-c443"
      },
      {
       "current": "d6091c52-8384-11ee-91d3-0242ac120006-1-34d4",
       "next": "1a67b44a-8393-11ee-91d3-0242ac120006",
       "previous": "b7ec6662-8383-11ee-91d3-0242ac120006-1-c443"
      },
      {
       "current": "d6091c52-8384-11ee-91d3-0242ac120006-2-34d4-cf14",
       "next": "c664c6d2-8741-11ee-91d3-0242ac120006",
       "previous": "b7ec6662-8383-11ee-91d3-0242ac120006-1-c443"
      },
      {
       "current": "d6091c52-8384-11ee-91d3-0242ac120006-3-34d4-cf14-627e",
       "next": "c664c6d2-8741-11ee-91d3-0242ac120006-1-cfb9",
       "previous": "b7ec6662-8383-11ee-91d3-0242ac120006-2-c443-9a5e"
      },
      {
       "current": "d6091c52-8384-11ee-91d3-0242ac120006-4-34d4-cf14-627e-7f23",
       "next": "c664c6d2-8741-11ee-91d3-0242ac120006-2-cfb9-cdb4",
       "previous": "b7ec6662-8383-11ee-91d3-0242ac120006-3-c443-9a5e-8ae7"
      },
      {
       "current": "d6091c52-8384-11ee-91d3-0242ac120006-5-34d4-cf14-627e-7f23-3838",
       "next": "c664c6d2-8741-11ee-91d3-0242ac120006-3-cfb9-cdb4-9489",
       "previous": "b7ec6662-8383-11ee-91d3-0242ac120006-4-c443-9a5e-8ae7-cbf7"
      }
     ],
     "next": "c664c6d2-8741-11ee-91d3-0242ac120006-4-cfb9-cdb4-9489-6c51",
     "previous": "b7ec6662-8383-11ee-91d3-0242ac120006-5-c443-9a5e-8ae7-cbf7-ebb7"
    }
   },
   "outputs": [],
   "source": [
    "mgr = None\n",
    "if target_node_mgr is not None:\n",
    "    if target_node_mgr['is_active'] == True:\n",
    "        mgr = target_node_mgr\n",
    "assert (mgr is None), \"メンテナンス対象ホストに、Activeなmgrが稼働中。他のホストのmgrをActiveにする。\"\n",
    "print (mgr)"
   ]
  },
  {
   "cell_type": "code",
   "execution_count": null,
   "metadata": {
    "lc_cell_meme": {
     "current": "c664c6d2-8741-11ee-91d3-0242ac120006-4-cfb9-cdb4-9489-6c51",
     "history": [
      {
       "current": "c664c6d2-8741-11ee-91d3-0242ac120006",
       "next": "1a67b44a-8393-11ee-91d3-0242ac120006",
       "previous": "d6091c52-8384-11ee-91d3-0242ac120006-1-34d4"
      },
      {
       "current": "c664c6d2-8741-11ee-91d3-0242ac120006-1-cfb9",
       "next": "1a67b4ea-8393-11ee-91d3-0242ac120006",
       "previous": "d6091c52-8384-11ee-91d3-0242ac120006-1-34d4"
      },
      {
       "current": "c664c6d2-8741-11ee-91d3-0242ac120006-2-cfb9-cdb4",
       "next": "1a67b4ea-8393-11ee-91d3-0242ac120006-1-0e05",
       "previous": "d6091c52-8384-11ee-91d3-0242ac120006-2-34d4-cf14"
      },
      {
       "current": "c664c6d2-8741-11ee-91d3-0242ac120006-3-cfb9-cdb4-9489",
       "next": "1a67b4ea-8393-11ee-91d3-0242ac120006-2-0e05-8969",
       "previous": "d6091c52-8384-11ee-91d3-0242ac120006-3-34d4-cf14-627e"
      },
      {
       "current": "c664c6d2-8741-11ee-91d3-0242ac120006-4-cfb9-cdb4-9489-6c51",
       "next": "1a67b4ea-8393-11ee-91d3-0242ac120006-3-0e05-8969-3810",
       "previous": "d6091c52-8384-11ee-91d3-0242ac120006-4-34d4-cf14-627e-7f23"
      }
     ],
     "next": "1a67b4ea-8393-11ee-91d3-0242ac120006-4-0e05-8969-3810-38f5",
     "previous": "d6091c52-8384-11ee-91d3-0242ac120006-5-34d4-cf14-627e-7f23-3838"
    }
   },
   "outputs": [],
   "source": [
    "print(mgr)"
   ]
  },
  {
   "cell_type": "code",
   "execution_count": null,
   "metadata": {
    "lc_cell_meme": {
     "current": "1a67b4ea-8393-11ee-91d3-0242ac120006-4-0e05-8969-3810-38f5",
     "history": [
      {
       "current": "1a67b4ea-8393-11ee-91d3-0242ac120006",
       "next": "d6091e0a-8384-11ee-91d3-0242ac120006",
       "previous": "1a67b44a-8393-11ee-91d3-0242ac120006"
      },
      {
       "current": "1a67b4ea-8393-11ee-91d3-0242ac120006",
       "next": "d6091ebe-8384-11ee-91d3-0242ac120006",
       "previous": "1a67b44a-8393-11ee-91d3-0242ac120006"
      },
      {
       "current": "1a67b4ea-8393-11ee-91d3-0242ac120006",
       "next": "7ede1e8a-8741-11ee-91d3-0242ac120006",
       "previous": "1a67b44a-8393-11ee-91d3-0242ac120006"
      },
      {
       "current": "1a67b4ea-8393-11ee-91d3-0242ac120006",
       "next": "7ede1e8a-8741-11ee-91d3-0242ac120006",
       "previous": "c664c8a8-8741-11ee-91d3-0242ac120006"
      },
      {
       "current": "1a67b4ea-8393-11ee-91d3-0242ac120006-1-0e05",
       "next": "7ede1e8a-8741-11ee-91d3-0242ac120006",
       "previous": "c664c6d2-8741-11ee-91d3-0242ac120006"
      },
      {
       "current": "1a67b4ea-8393-11ee-91d3-0242ac120006-2-0e05-8969",
       "next": "7ede1e8a-8741-11ee-91d3-0242ac120006-1-4ff2",
       "previous": "c664c6d2-8741-11ee-91d3-0242ac120006-1-cfb9"
      },
      {
       "current": "1a67b4ea-8393-11ee-91d3-0242ac120006-3-0e05-8969-3810",
       "next": "7ede1e8a-8741-11ee-91d3-0242ac120006-2-4ff2-9bdd",
       "previous": "c664c6d2-8741-11ee-91d3-0242ac120006-2-cfb9-cdb4"
      },
      {
       "current": "1a67b4ea-8393-11ee-91d3-0242ac120006-4-0e05-8969-3810-38f5",
       "next": "7ede1e8a-8741-11ee-91d3-0242ac120006-3-4ff2-9bdd-c5c8",
       "previous": "c664c6d2-8741-11ee-91d3-0242ac120006-3-cfb9-cdb4-9489"
      }
     ],
     "next": "7ede1e8a-8741-11ee-91d3-0242ac120006-4-4ff2-9bdd-c5c8-f75c",
     "previous": "c664c6d2-8741-11ee-91d3-0242ac120006-4-cfb9-cdb4-9489-6c51"
    }
   },
   "outputs": [],
   "source": [
    "if mgr is not None:\n",
    "    daemon_name = mgr['daemon_name']\n",
    "    daemon_name = daemon_name.replace('mgr.','')\n",
    "    print(daemon_name)\n",
    "    !ansible -b -m shell -a \"cephadm shell -- ceph mgr fail $daemon_name\" bootstrap"
   ]
  },
  {
   "cell_type": "code",
   "execution_count": null,
   "metadata": {
    "lc_cell_meme": {
     "current": "7ede1e8a-8741-11ee-91d3-0242ac120006-4-4ff2-9bdd-c5c8-f75c",
     "history": [
      {
       "current": "7ede1e8a-8741-11ee-91d3-0242ac120006",
       "next": "d6091ebe-8384-11ee-91d3-0242ac120006",
       "previous": "1a67b4ea-8393-11ee-91d3-0242ac120006"
      },
      {
       "current": "7ede1e8a-8741-11ee-91d3-0242ac120006-1-4ff2",
       "next": "28c9c4de-8383-11ee-91d3-0242ac120006-1-7c21",
       "previous": "1a67b4ea-8393-11ee-91d3-0242ac120006"
      },
      {
       "current": "7ede1e8a-8741-11ee-91d3-0242ac120006-2-4ff2-9bdd",
       "next": "28c9c4de-8383-11ee-91d3-0242ac120006-2-7c21-3787",
       "previous": "1a67b4ea-8393-11ee-91d3-0242ac120006-1-0e05"
      },
      {
       "current": "7ede1e8a-8741-11ee-91d3-0242ac120006-3-4ff2-9bdd-c5c8",
       "next": "28c9c4de-8383-11ee-91d3-0242ac120006-3-7c21-3787-d0d4",
       "previous": "1a67b4ea-8393-11ee-91d3-0242ac120006-2-0e05-8969"
      },
      {
       "current": "7ede1e8a-8741-11ee-91d3-0242ac120006-4-4ff2-9bdd-c5c8-f75c",
       "next": "28c9c4de-8383-11ee-91d3-0242ac120006-4-7c21-3787-d0d4-9142",
       "previous": "1a67b4ea-8393-11ee-91d3-0242ac120006-3-0e05-8969-3810"
      }
     ],
     "next": "28c9c4de-8383-11ee-91d3-0242ac120006-5-7c21-3787-d0d4-9142-f43a",
     "previous": "1a67b4ea-8393-11ee-91d3-0242ac120006-4-0e05-8969-3810-38f5"
    }
   },
   "outputs": [],
   "source": [
    "ret = !ansible -b -m shell -a \"cephadm shell -- ceph orch host ok-to-stop $instance_name  2> /dev/null\" bootstrap\n",
    "ret"
   ]
  },
  {
   "cell_type": "markdown",
   "metadata": {
    "lc_cell_meme": {
     "current": "28c9c4de-8383-11ee-91d3-0242ac120006-5-7c21-3787-d0d4-9142-f43a",
     "history": [
      {
       "current": "28c9c4de-8383-11ee-91d3-0242ac120006-1-7c21",
       "next": "28c9c57e-8383-11ee-91d3-0242ac120006",
       "previous": "28c9c34e-8383-11ee-91d3-0242ac120006"
      },
      {
       "current": "28c9c4de-8383-11ee-91d3-0242ac120006-1-7c21",
       "next": "28c9c57e-8383-11ee-91d3-0242ac120006",
       "previous": "676cf45e-8518-11ee-91d3-0242ac120006"
      },
      {
       "current": "28c9c4de-8383-11ee-91d3-0242ac120006-1-7c21",
       "next": "28c9c57e-8383-11ee-91d3-0242ac120006",
       "previous": "28c9c34e-8383-11ee-91d3-0242ac120006"
      },
      {
       "current": "28c9c4de-8383-11ee-91d3-0242ac120006-2-7c21-3787",
       "next": "28c9c57e-8383-11ee-91d3-0242ac120006",
       "previous": "7ede1e8a-8741-11ee-91d3-0242ac120006"
      },
      {
       "current": "28c9c4de-8383-11ee-91d3-0242ac120006-3-7c21-3787-d0d4",
       "next": "28c9c57e-8383-11ee-91d3-0242ac120006-1-7493",
       "previous": "7ede1e8a-8741-11ee-91d3-0242ac120006-1-4ff2"
      },
      {
       "current": "28c9c4de-8383-11ee-91d3-0242ac120006-4-7c21-3787-d0d4-9142",
       "next": "28c9c57e-8383-11ee-91d3-0242ac120006-2-7493-68ca",
       "previous": "7ede1e8a-8741-11ee-91d3-0242ac120006-2-4ff2-9bdd"
      },
      {
       "current": "28c9c4de-8383-11ee-91d3-0242ac120006-5-7c21-3787-d0d4-9142-f43a",
       "next": "28c9c57e-8383-11ee-91d3-0242ac120006-3-7493-68ca-66e6",
       "previous": "7ede1e8a-8741-11ee-91d3-0242ac120006-3-4ff2-9bdd-c5c8"
      }
     ],
     "next": "28c9c57e-8383-11ee-91d3-0242ac120006-4-7493-68ca-66e6-0e18",
     "previous": "7ede1e8a-8741-11ee-91d3-0242ac120006-4-4ff2-9bdd-c5c8-f75c"
    }
   },
   "source": [
    "## OSDデーモン noout設定\n",
    "停止対象ホスト上のOSDにnooutフラグを設定する。"
   ]
  },
  {
   "cell_type": "code",
   "execution_count": null,
   "metadata": {
    "lc_cell_meme": {
     "current": "28c9c57e-8383-11ee-91d3-0242ac120006-4-7493-68ca-66e6-0e18",
     "history": [
      {
       "current": "28c9c57e-8383-11ee-91d3-0242ac120006",
       "next": "f22be07e-81e3-11ee-91d3-0242ac120006",
       "previous": "28c9c4de-8383-11ee-91d3-0242ac120006"
      },
      {
       "current": "28c9c57e-8383-11ee-91d3-0242ac120006-1-7493",
       "next": "b7ec63a6-8383-11ee-91d3-0242ac120006",
       "previous": "28c9c4de-8383-11ee-91d3-0242ac120006-1-7c21"
      },
      {
       "current": "28c9c57e-8383-11ee-91d3-0242ac120006-2-7493-68ca",
       "next": "b7ec63a6-8383-11ee-91d3-0242ac120006-1-7be4",
       "previous": "28c9c4de-8383-11ee-91d3-0242ac120006-2-7c21-3787"
      },
      {
       "current": "28c9c57e-8383-11ee-91d3-0242ac120006-3-7493-68ca-66e6",
       "next": "b7ec63a6-8383-11ee-91d3-0242ac120006-2-7be4-0845",
       "previous": "28c9c4de-8383-11ee-91d3-0242ac120006-3-7c21-3787-d0d4"
      },
      {
       "current": "28c9c57e-8383-11ee-91d3-0242ac120006-4-7493-68ca-66e6-0e18",
       "next": "b7ec63a6-8383-11ee-91d3-0242ac120006-3-7be4-0845-f05c",
       "previous": "28c9c4de-8383-11ee-91d3-0242ac120006-4-7c21-3787-d0d4-9142"
      }
     ],
     "next": "b7ec63a6-8383-11ee-91d3-0242ac120006-4-7be4-0845-f05c-1c9d",
     "previous": "28c9c4de-8383-11ee-91d3-0242ac120006-5-7c21-3787-d0d4-9142-f43a"
    }
   },
   "outputs": [],
   "source": [
    "ret = !ansible -b -m shell -a \"cephadm shell -- ceph osd ls-tree $instance_name 2> /dev/null\" bootstrap\n",
    "ret"
   ]
  },
  {
   "cell_type": "code",
   "execution_count": null,
   "metadata": {
    "lc_cell_meme": {
     "current": "b7ec63a6-8383-11ee-91d3-0242ac120006-4-7be4-0845-f05c-1c9d",
     "history": [
      {
       "current": "b7ec63a6-8383-11ee-91d3-0242ac120006-1-7be4",
       "next": "b7ec6554-8383-11ee-91d3-0242ac120006",
       "previous": "28c9c57e-8383-11ee-91d3-0242ac120006"
      },
      {
       "current": "b7ec63a6-8383-11ee-91d3-0242ac120006-2-7be4-0845",
       "next": "b7ec6554-8383-11ee-91d3-0242ac120006-1-5a52",
       "previous": "28c9c57e-8383-11ee-91d3-0242ac120006-1-7493"
      },
      {
       "current": "b7ec63a6-8383-11ee-91d3-0242ac120006-3-7be4-0845-f05c",
       "next": "b7ec6554-8383-11ee-91d3-0242ac120006-2-5a52-ac2f",
       "previous": "28c9c57e-8383-11ee-91d3-0242ac120006-2-7493-68ca"
      },
      {
       "current": "b7ec63a6-8383-11ee-91d3-0242ac120006-4-7be4-0845-f05c-1c9d",
       "next": "b7ec6554-8383-11ee-91d3-0242ac120006-3-5a52-ac2f-38d2",
       "previous": "28c9c57e-8383-11ee-91d3-0242ac120006-3-7493-68ca-66e6"
      }
     ],
     "next": "b7ec6554-8383-11ee-91d3-0242ac120006-4-5a52-ac2f-38d2-c055",
     "previous": "28c9c57e-8383-11ee-91d3-0242ac120006-4-7493-68ca-66e6-0e18"
    }
   },
   "outputs": [],
   "source": [
    "ret.pop(0)\n",
    "ret"
   ]
  },
  {
   "cell_type": "code",
   "execution_count": null,
   "metadata": {
    "lc_cell_meme": {
     "current": "b7ec6554-8383-11ee-91d3-0242ac120006-4-5a52-ac2f-38d2-c055",
     "history": [
      {
       "current": "b7ec6554-8383-11ee-91d3-0242ac120006-1-5a52",
       "next": "b7ec65f4-8383-11ee-91d3-0242ac120006",
       "previous": "b7ec63a6-8383-11ee-91d3-0242ac120006"
      },
      {
       "current": "b7ec6554-8383-11ee-91d3-0242ac120006-2-5a52-ac2f",
       "next": "b7ec65f4-8383-11ee-91d3-0242ac120006-1-334d",
       "previous": "b7ec63a6-8383-11ee-91d3-0242ac120006-1-7be4"
      },
      {
       "current": "b7ec6554-8383-11ee-91d3-0242ac120006-3-5a52-ac2f-38d2",
       "next": "b7ec65f4-8383-11ee-91d3-0242ac120006-2-334d-4520",
       "previous": "b7ec63a6-8383-11ee-91d3-0242ac120006-2-7be4-0845"
      },
      {
       "current": "b7ec6554-8383-11ee-91d3-0242ac120006-4-5a52-ac2f-38d2-c055",
       "next": "b7ec65f4-8383-11ee-91d3-0242ac120006-3-334d-4520-0d61",
       "previous": "b7ec63a6-8383-11ee-91d3-0242ac120006-3-7be4-0845-f05c"
      }
     ],
     "next": "b7ec65f4-8383-11ee-91d3-0242ac120006-4-334d-4520-0d61-d148",
     "previous": "b7ec63a6-8383-11ee-91d3-0242ac120006-4-7be4-0845-f05c-1c9d"
    }
   },
   "outputs": [],
   "source": [
    "for osd_id in ret:\n",
    "    if osd_id.isdecimal() == True:\n",
    "        !ansible -b -m shell -a \"cephadm shell -- ceph osd add-noout osd.$osd_id 2> /dev/null\" bootstrap"
   ]
  },
  {
   "cell_type": "code",
   "execution_count": null,
   "metadata": {
    "lc_cell_meme": {
     "current": "b7ec65f4-8383-11ee-91d3-0242ac120006-4-334d-4520-0d61-d148",
     "history": [
      {
       "current": "b7ec65f4-8383-11ee-91d3-0242ac120006",
       "next": "b7ec6662-8383-11ee-91d3-0242ac120006",
       "previous": "b7ec6554-8383-11ee-91d3-0242ac120006"
      },
      {
       "current": "b7ec65f4-8383-11ee-91d3-0242ac120006",
       "next": "b7ec6662-8383-11ee-91d3-0242ac120006-1-c443",
       "previous": "b7ec6554-8383-11ee-91d3-0242ac120006"
      },
      {
       "current": "b7ec65f4-8383-11ee-91d3-0242ac120006-1-334d",
       "next": "d6091ebe-8384-11ee-91d3-0242ac120006",
       "previous": "b7ec6554-8383-11ee-91d3-0242ac120006"
      },
      {
       "current": "b7ec65f4-8383-11ee-91d3-0242ac120006-2-334d-4520",
       "next": "d6091ebe-8384-11ee-91d3-0242ac120006-1-33fe",
       "previous": "b7ec6554-8383-11ee-91d3-0242ac120006-1-5a52"
      },
      {
       "current": "b7ec65f4-8383-11ee-91d3-0242ac120006-3-334d-4520-0d61",
       "next": "d6091ebe-8384-11ee-91d3-0242ac120006-2-33fe-19e6",
       "previous": "b7ec6554-8383-11ee-91d3-0242ac120006-2-5a52-ac2f"
      },
      {
       "current": "b7ec65f4-8383-11ee-91d3-0242ac120006-4-334d-4520-0d61-d148",
       "next": "d6091ebe-8384-11ee-91d3-0242ac120006-3-33fe-19e6-26ec",
       "previous": "b7ec6554-8383-11ee-91d3-0242ac120006-3-5a52-ac2f-38d2"
      }
     ],
     "next": "d6091ebe-8384-11ee-91d3-0242ac120006-4-33fe-19e6-26ec-b3fc",
     "previous": "b7ec6554-8383-11ee-91d3-0242ac120006-4-5a52-ac2f-38d2-c055"
    }
   },
   "outputs": [],
   "source": [
    "!ansible -b -m shell -a \"cephadm shell -- ceph -s 2> /dev/null\" bootstrap"
   ]
  },
  {
   "cell_type": "markdown",
   "metadata": {
    "lc_cell_meme": {
     "current": "d6091ebe-8384-11ee-91d3-0242ac120006-4-33fe-19e6-26ec-b3fc",
     "history": [
      {
       "current": "d6091ebe-8384-11ee-91d3-0242ac120006",
       "next": "d6091f36-8384-11ee-91d3-0242ac120006",
       "previous": "d6091e0a-8384-11ee-91d3-0242ac120006"
      },
      {
       "current": "d6091ebe-8384-11ee-91d3-0242ac120006",
       "next": "d6091f36-8384-11ee-91d3-0242ac120006",
       "previous": "1a67b4ea-8393-11ee-91d3-0242ac120006"
      },
      {
       "current": "d6091ebe-8384-11ee-91d3-0242ac120006",
       "next": "85b59b4a-8519-11ee-91d3-0242ac120006",
       "previous": "1a67b4ea-8393-11ee-91d3-0242ac120006"
      },
      {
       "current": "d6091ebe-8384-11ee-91d3-0242ac120006",
       "next": "85b59b4a-8519-11ee-91d3-0242ac120006",
       "previous": "7ede1e8a-8741-11ee-91d3-0242ac120006"
      },
      {
       "current": "d6091ebe-8384-11ee-91d3-0242ac120006-1-33fe",
       "next": "85b59b4a-8519-11ee-91d3-0242ac120006",
       "previous": "b7ec65f4-8383-11ee-91d3-0242ac120006"
      },
      {
       "current": "d6091ebe-8384-11ee-91d3-0242ac120006-2-33fe-19e6",
       "next": "85b59b4a-8519-11ee-91d3-0242ac120006-1-0741",
       "previous": "b7ec65f4-8383-11ee-91d3-0242ac120006-1-334d"
      },
      {
       "current": "d6091ebe-8384-11ee-91d3-0242ac120006-3-33fe-19e6-26ec",
       "next": "85b59b4a-8519-11ee-91d3-0242ac120006-2-0741-d613",
       "previous": "b7ec65f4-8383-11ee-91d3-0242ac120006-2-334d-4520"
      },
      {
       "current": "d6091ebe-8384-11ee-91d3-0242ac120006-4-33fe-19e6-26ec-b3fc",
       "next": "85b59b4a-8519-11ee-91d3-0242ac120006-3-0741-d613-d0ba",
       "previous": "b7ec65f4-8383-11ee-91d3-0242ac120006-3-334d-4520-0d61"
      }
     ],
     "next": "85b59b4a-8519-11ee-91d3-0242ac120006-4-0741-d613-d0ba-1527",
     "previous": "b7ec65f4-8383-11ee-91d3-0242ac120006-4-334d-4520-0d61-d148"
    }
   },
   "source": [
    "## ホストのメンテナンスモード設定\n",
    "ホストをメンテナンスモードに設定すると、そのホスト上のceph.targetが停止され、そのノード上のCephサービスが停止する。"
   ]
  },
  {
   "cell_type": "code",
   "execution_count": null,
   "metadata": {
    "lc_cell_meme": {
     "current": "85b59b4a-8519-11ee-91d3-0242ac120006-4-0741-d613-d0ba-1527",
     "history": [
      {
       "current": "85b59b4a-8519-11ee-91d3-0242ac120006-1-0741",
       "next": "d6091f36-8384-11ee-91d3-0242ac120006",
       "previous": "d6091ebe-8384-11ee-91d3-0242ac120006"
      },
      {
       "current": "85b59b4a-8519-11ee-91d3-0242ac120006-2-0741-d613",
       "next": "d6091f36-8384-11ee-91d3-0242ac120006-1-ebb5",
       "previous": "d6091ebe-8384-11ee-91d3-0242ac120006-1-33fe"
      },
      {
       "current": "85b59b4a-8519-11ee-91d3-0242ac120006-3-0741-d613-d0ba",
       "next": "d6091f36-8384-11ee-91d3-0242ac120006-2-ebb5-e7a1",
       "previous": "d6091ebe-8384-11ee-91d3-0242ac120006-2-33fe-19e6"
      },
      {
       "current": "85b59b4a-8519-11ee-91d3-0242ac120006-4-0741-d613-d0ba-1527",
       "next": "d6091f36-8384-11ee-91d3-0242ac120006-3-ebb5-e7a1-6b37",
       "previous": "d6091ebe-8384-11ee-91d3-0242ac120006-3-33fe-19e6-26ec"
      }
     ],
     "next": "d6091f36-8384-11ee-91d3-0242ac120006-4-ebb5-e7a1-6b37-eb12",
     "previous": "d6091ebe-8384-11ee-91d3-0242ac120006-4-33fe-19e6-26ec-b3fc"
    }
   },
   "outputs": [],
   "source": [
    "print(\"Node name={}\".format(instance_name))"
   ]
  },
  {
   "cell_type": "code",
   "execution_count": null,
   "metadata": {
    "lc_cell_meme": {
     "current": "d6091f36-8384-11ee-91d3-0242ac120006-4-ebb5-e7a1-6b37-eb12",
     "history": [
      {
       "current": "d6091f36-8384-11ee-91d3-0242ac120006",
       "next": "d6091fae-8384-11ee-91d3-0242ac120006",
       "previous": "d6091ebe-8384-11ee-91d3-0242ac120006"
      },
      {
       "current": "d6091f36-8384-11ee-91d3-0242ac120006-1-ebb5",
       "next": "d6091fae-8384-11ee-91d3-0242ac120006",
       "previous": "85b59b4a-8519-11ee-91d3-0242ac120006"
      },
      {
       "current": "d6091f36-8384-11ee-91d3-0242ac120006-2-ebb5-e7a1",
       "next": "d6091fae-8384-11ee-91d3-0242ac120006-1-a748",
       "previous": "85b59b4a-8519-11ee-91d3-0242ac120006-1-0741"
      },
      {
       "current": "d6091f36-8384-11ee-91d3-0242ac120006-3-ebb5-e7a1-6b37",
       "next": "d6091fae-8384-11ee-91d3-0242ac120006-2-a748-5323",
       "previous": "85b59b4a-8519-11ee-91d3-0242ac120006-2-0741-d613"
      },
      {
       "current": "d6091f36-8384-11ee-91d3-0242ac120006-4-ebb5-e7a1-6b37-eb12",
       "next": "d6091fae-8384-11ee-91d3-0242ac120006-3-a748-5323-0f4f",
       "previous": "85b59b4a-8519-11ee-91d3-0242ac120006-3-0741-d613-d0ba"
      }
     ],
     "next": "d6091fae-8384-11ee-91d3-0242ac120006-4-a748-5323-0f4f-3533",
     "previous": "85b59b4a-8519-11ee-91d3-0242ac120006-4-0741-d613-d0ba-1527"
    }
   },
   "outputs": [],
   "source": [
    "!ansible -b -m shell -a \"cephadm shell -- ceph orch host maintenance enter $instance_name 2> /dev/null\" bootstrap"
   ]
  },
  {
   "cell_type": "code",
   "execution_count": null,
   "metadata": {
    "lc_cell_meme": {
     "current": "d6091fae-8384-11ee-91d3-0242ac120006-4-a748-5323-0f4f-3533",
     "history": [
      {
       "current": "d6091fae-8384-11ee-91d3-0242ac120006",
       "next": "35c581ba-55a3-11e7-b0b2-00163e9c0e35-2-89bc-f9d0",
       "previous": "d6091f36-8384-11ee-91d3-0242ac120006"
      },
      {
       "current": "d6091fae-8384-11ee-91d3-0242ac120006-1-a748",
       "next": "1da685ae-8385-11ee-91d3-0242ac120006",
       "previous": "d6091f36-8384-11ee-91d3-0242ac120006"
      },
      {
       "current": "d6091fae-8384-11ee-91d3-0242ac120006-2-a748-5323",
       "next": "1da685ae-8385-11ee-91d3-0242ac120006-1-84e0",
       "previous": "d6091f36-8384-11ee-91d3-0242ac120006-1-ebb5"
      },
      {
       "current": "d6091fae-8384-11ee-91d3-0242ac120006-3-a748-5323-0f4f",
       "next": "1da685ae-8385-11ee-91d3-0242ac120006-2-84e0-6c44",
       "previous": "d6091f36-8384-11ee-91d3-0242ac120006-2-ebb5-e7a1"
      },
      {
       "current": "d6091fae-8384-11ee-91d3-0242ac120006-4-a748-5323-0f4f-3533",
       "next": "1da685ae-8385-11ee-91d3-0242ac120006-3-84e0-6c44-8728",
       "previous": "d6091f36-8384-11ee-91d3-0242ac120006-3-ebb5-e7a1-6b37"
      }
     ],
     "next": "1da685ae-8385-11ee-91d3-0242ac120006-4-84e0-6c44-8728-f647",
     "previous": "d6091f36-8384-11ee-91d3-0242ac120006-4-ebb5-e7a1-6b37-eb12"
    }
   },
   "outputs": [],
   "source": [
    "!ansible -b -m shell -a \"cephadm shell -- ceph orch host ls 2> /dev/null\" bootstrap"
   ]
  },
  {
   "cell_type": "code",
   "execution_count": null,
   "metadata": {
    "lc_cell_meme": {
     "current": "1da685ae-8385-11ee-91d3-0242ac120006-4-84e0-6c44-8728-f647",
     "history": [
      {
       "current": "1da685ae-8385-11ee-91d3-0242ac120006",
       "next": "35c581ba-55a3-11e7-b0b2-00163e9c0e35-2-89bc-f9d0",
       "previous": "d6091fae-8384-11ee-91d3-0242ac120006"
      },
      {
       "current": "1da685ae-8385-11ee-91d3-0242ac120006-1-84e0",
       "next": "652e65b8-8385-11ee-91d3-0242ac120006",
       "previous": "d6091fae-8384-11ee-91d3-0242ac120006"
      },
      {
       "current": "1da685ae-8385-11ee-91d3-0242ac120006-2-84e0-6c44",
       "next": "652e65b8-8385-11ee-91d3-0242ac120006-1-5c75",
       "previous": "d6091fae-8384-11ee-91d3-0242ac120006-1-a748"
      },
      {
       "current": "1da685ae-8385-11ee-91d3-0242ac120006-3-84e0-6c44-8728",
       "next": "652e65b8-8385-11ee-91d3-0242ac120006-2-5c75-e29e",
       "previous": "d6091fae-8384-11ee-91d3-0242ac120006-2-a748-5323"
      },
      {
       "current": "1da685ae-8385-11ee-91d3-0242ac120006-4-84e0-6c44-8728-f647",
       "next": "652e65b8-8385-11ee-91d3-0242ac120006-3-5c75-e29e-9925",
       "previous": "d6091fae-8384-11ee-91d3-0242ac120006-3-a748-5323-0f4f"
      }
     ],
     "next": "652e65b8-8385-11ee-91d3-0242ac120006-4-5c75-e29e-9925-e250",
     "previous": "d6091fae-8384-11ee-91d3-0242ac120006-4-a748-5323-0f4f-3533"
    }
   },
   "outputs": [],
   "source": [
    "!ansible -b -m shell -a \"cephadm shell -- ceph -s 2> /dev/null\" bootstrap"
   ]
  },
  {
   "cell_type": "code",
   "execution_count": null,
   "metadata": {
    "lc_cell_meme": {
     "current": "652e65b8-8385-11ee-91d3-0242ac120006-4-5c75-e29e-9925-e250",
     "history": [
      {
       "current": "652e65b8-8385-11ee-91d3-0242ac120006-1-5c75",
       "next": "35c581ba-55a3-11e7-b0b2-00163e9c0e35-2-89bc-f9d0",
       "previous": "1da685ae-8385-11ee-91d3-0242ac120006"
      },
      {
       "current": "652e65b8-8385-11ee-91d3-0242ac120006-2-5c75-e29e",
       "next": "35c581ba-55a3-11e7-b0b2-00163e9c0e35-3-89bc-f9d0-6034",
       "previous": "1da685ae-8385-11ee-91d3-0242ac120006-1-84e0"
      },
      {
       "current": "652e65b8-8385-11ee-91d3-0242ac120006-3-5c75-e29e-9925",
       "next": "35c581ba-55a3-11e7-b0b2-00163e9c0e35-4-89bc-f9d0-6034-19f0",
       "previous": "1da685ae-8385-11ee-91d3-0242ac120006-2-84e0-6c44"
      },
      {
       "current": "652e65b8-8385-11ee-91d3-0242ac120006-4-5c75-e29e-9925-e250",
       "next": "35c581ba-55a3-11e7-b0b2-00163e9c0e35-5-89bc-f9d0-6034-19f0-4f41",
       "previous": "1da685ae-8385-11ee-91d3-0242ac120006-3-84e0-6c44-8728"
      }
     ],
     "next": "35c581ba-55a3-11e7-b0b2-00163e9c0e35-6-89bc-f9d0-6034-19f0-4f41-5e8c",
     "previous": "1da685ae-8385-11ee-91d3-0242ac120006-4-84e0-6c44-8728-f647"
    }
   },
   "outputs": [],
   "source": [
    "!ansible -b -m shell -a 'systemctl status ceph.target' ceph_node"
   ]
  },
  {
   "cell_type": "markdown",
   "metadata": {
    "collapsed": true,
    "lc_cell_meme": {
     "current": "35c581ba-55a3-11e7-b0b2-00163e9c0e35-6-89bc-f9d0-6034-19f0-4f41-5e8c",
     "history": [
      {
       "current": "35c581ba-55a3-11e7-b0b2-00163e9c0e35",
       "next": "35c58340-55a3-11e7-b0b2-00163e9c0e35",
       "previous": "35c58034-55a3-11e7-b0b2-00163e9c0e35"
      },
      {
       "current": "35c581ba-55a3-11e7-b0b2-00163e9c0e35",
       "next": "35c58340-55a3-11e7-b0b2-00163e9c0e35",
       "previous": "35c51928-55a3-11e7-b0b2-00163e9c0e35"
      },
      {
       "current": "35c581ba-55a3-11e7-b0b2-00163e9c0e35",
       "next": "35c58340-55a3-11e7-b0b2-00163e9c0e35",
       "previous": "277a614c-47b9-11ea-a028-0242ac120005"
      },
      {
       "current": "35c581ba-55a3-11e7-b0b2-00163e9c0e35",
       "next": "35c58340-55a3-11e7-b0b2-00163e9c0e35",
       "previous": "35c51928-55a3-11e7-b0b2-00163e9c0e35"
      },
      {
       "current": "35c581ba-55a3-11e7-b0b2-00163e9c0e35",
       "next": "35c58340-55a3-11e7-b0b2-00163e9c0e35",
       "previous": "b8a85906-47b6-11ea-a028-0242ac120005"
      },
      {
       "current": "35c581ba-55a3-11e7-b0b2-00163e9c0e35",
       "next": "35c58340-55a3-11e7-b0b2-00163e9c0e35",
       "previous": "35c38fae-55a3-11e7-b0b2-00163e9c0e35"
      },
      {
       "current": "35c581ba-55a3-11e7-b0b2-00163e9c0e35",
       "next": "35c58340-55a3-11e7-b0b2-00163e9c0e35",
       "previous": "35c385a4-55a3-11e7-b0b2-00163e9c0e35"
      },
      {
       "current": "35c581ba-55a3-11e7-b0b2-00163e9c0e35",
       "next": "35c58340-55a3-11e7-b0b2-00163e9c0e35",
       "previous": "27c39180-935b-11ea-8d02-0242ac120007"
      },
      {
       "current": "35c581ba-55a3-11e7-b0b2-00163e9c0e35",
       "next": "35c58340-55a3-11e7-b0b2-00163e9c0e35",
       "previous": "35c385a4-55a3-11e7-b0b2-00163e9c0e35"
      },
      {
       "current": "35c581ba-55a3-11e7-b0b2-00163e9c0e35",
       "next": "35c58340-55a3-11e7-b0b2-00163e9c0e35",
       "previous": "b20d6ace-9684-11ea-8d02-0242ac120007"
      },
      {
       "current": "35c581ba-55a3-11e7-b0b2-00163e9c0e35",
       "next": "35c58340-55a3-11e7-b0b2-00163e9c0e35",
       "previous": "18b837c6-9686-11ea-8d02-0242ac120007"
      },
      {
       "current": "35c581ba-55a3-11e7-b0b2-00163e9c0e35",
       "next": "35c58340-55a3-11e7-b0b2-00163e9c0e35",
       "previous": "59de09f6-9686-11ea-8d02-0242ac120007"
      },
      {
       "current": "35c581ba-55a3-11e7-b0b2-00163e9c0e35",
       "next": "35c58340-55a3-11e7-b0b2-00163e9c0e35",
       "previous": "7dae8b30-9686-11ea-8d02-0242ac120007"
      },
      {
       "current": "35c581ba-55a3-11e7-b0b2-00163e9c0e35",
       "next": "35c58340-55a3-11e7-b0b2-00163e9c0e35",
       "previous": "789942dc-9692-11ea-8d02-0242ac120007"
      },
      {
       "current": "35c581ba-55a3-11e7-b0b2-00163e9c0e35",
       "next": "35c58340-55a3-11e7-b0b2-00163e9c0e35",
       "previous": "e95d003a-9697-11ea-8d02-0242ac120007"
      },
      {
       "current": "35c581ba-55a3-11e7-b0b2-00163e9c0e35",
       "next": "35c58340-55a3-11e7-b0b2-00163e9c0e35",
       "previous": "357fc83a-969d-11ea-8d02-0242ac120007"
      },
      {
       "current": "35c581ba-55a3-11e7-b0b2-00163e9c0e35",
       "next": "35c58340-55a3-11e7-b0b2-00163e9c0e35",
       "previous": "7dae86da-9686-11ea-8d02-0242ac120007"
      },
      {
       "current": "35c581ba-55a3-11e7-b0b2-00163e9c0e35",
       "next": "35c58340-55a3-11e7-b0b2-00163e9c0e35",
       "previous": "49102d8c-98a9-11ea-8d02-0242ac120007"
      },
      {
       "current": "35c581ba-55a3-11e7-b0b2-00163e9c0e35",
       "next": "35c58340-55a3-11e7-b0b2-00163e9c0e35",
       "previous": "dbe917aa-9984-11ea-8d02-0242ac120007"
      },
      {
       "current": "35c581ba-55a3-11e7-b0b2-00163e9c0e35",
       "next": "35c58340-55a3-11e7-b0b2-00163e9c0e35",
       "previous": "f9f7c1a0-9985-11ea-8d02-0242ac120007"
      },
      {
       "current": "35c581ba-55a3-11e7-b0b2-00163e9c0e35",
       "next": "35c58340-55a3-11e7-b0b2-00163e9c0e35",
       "previous": "4180e646-9986-11ea-8d02-0242ac120007"
      },
      {
       "current": "35c581ba-55a3-11e7-b0b2-00163e9c0e35",
       "next": "35c58340-55a3-11e7-b0b2-00163e9c0e35",
       "previous": "eea7aafc-9987-11ea-8d02-0242ac120007"
      },
      {
       "current": "35c581ba-55a3-11e7-b0b2-00163e9c0e35",
       "next": "35c58340-55a3-11e7-b0b2-00163e9c0e35",
       "previous": "7db36be6-9988-11ea-8d02-0242ac120007"
      },
      {
       "current": "35c581ba-55a3-11e7-b0b2-00163e9c0e35",
       "next": "35c58340-55a3-11e7-b0b2-00163e9c0e35",
       "previous": "7db36a7e-9988-11ea-8d02-0242ac120007"
      },
      {
       "current": "35c581ba-55a3-11e7-b0b2-00163e9c0e35",
       "next": "35c58340-55a3-11e7-b0b2-00163e9c0e35",
       "previous": "f3e7d364-998e-11ea-8d02-0242ac120007"
      },
      {
       "current": "35c581ba-55a3-11e7-b0b2-00163e9c0e35",
       "next": "35c58340-55a3-11e7-b0b2-00163e9c0e35",
       "previous": "b0a33f46-98ce-11ea-8d02-0242ac120007"
      },
      {
       "current": "35c581ba-55a3-11e7-b0b2-00163e9c0e35",
       "next": "35c58340-55a3-11e7-b0b2-00163e9c0e35",
       "previous": "752d5d50-9a60-11ea-8d02-0242ac120007"
      },
      {
       "current": "35c581ba-55a3-11e7-b0b2-00163e9c0e35",
       "next": "35c58340-55a3-11e7-b0b2-00163e9c0e35",
       "previous": "e61b1904-9a5f-11ea-8d02-0242ac120007"
      },
      {
       "current": "35c581ba-55a3-11e7-b0b2-00163e9c0e35",
       "next": "35c58340-55a3-11e7-b0b2-00163e9c0e35",
       "previous": "e61b1774-9a5f-11ea-8d02-0242ac120007"
      },
      {
       "current": "35c581ba-55a3-11e7-b0b2-00163e9c0e35-1-89bc",
       "next": "35c58340-55a3-11e7-b0b2-00163e9c0e35",
       "previous": "adc93ec4-9b1c-11ea-8d02-0242ac120007"
      },
      {
       "current": "35c581ba-55a3-11e7-b0b2-00163e9c0e35-2-89bc-f9d0",
       "next": "35c58340-55a3-11e7-b0b2-00163e9c0e35-1-38bc",
       "previous": "adc93ec4-9b1c-11ea-8d02-0242ac120007-1-9d17"
      },
      {
       "current": "35c581ba-55a3-11e7-b0b2-00163e9c0e35-2-89bc-f9d0",
       "next": "35c58340-55a3-11e7-b0b2-00163e9c0e35-2-38bc-8fc7",
       "previous": "adc93ec4-9b1c-11ea-8d02-0242ac120007-2-9d17-b208"
      },
      {
       "current": "35c581ba-55a3-11e7-b0b2-00163e9c0e35-2-89bc-f9d0",
       "next": "35c58340-55a3-11e7-b0b2-00163e9c0e35-2-38bc-8fc7",
       "previous": "cea0381c-6cad-11ee-89fa-0242ac120005"
      },
      {
       "current": "35c581ba-55a3-11e7-b0b2-00163e9c0e35-2-89bc-f9d0",
       "next": "35c58340-55a3-11e7-b0b2-00163e9c0e35-2-38bc-8fc7",
       "previous": "cea037a4-6cad-11ee-89fa-0242ac120005"
      },
      {
       "current": "35c581ba-55a3-11e7-b0b2-00163e9c0e35-2-89bc-f9d0",
       "next": "35c58340-55a3-11e7-b0b2-00163e9c0e35-2-38bc-8fc7",
       "previous": "1cc14c3a-7211-11ee-89fa-0242ac120005-1-22c6"
      },
      {
       "current": "35c581ba-55a3-11e7-b0b2-00163e9c0e35-2-89bc-f9d0",
       "next": "35c58340-55a3-11e7-b0b2-00163e9c0e35-2-38bc-8fc7",
       "previous": "abccd26e-7211-11ee-89fa-0242ac120005-1-49d0"
      },
      {
       "current": "35c581ba-55a3-11e7-b0b2-00163e9c0e35-2-89bc-f9d0",
       "next": "35c58340-55a3-11e7-b0b2-00163e9c0e35-2-38bc-8fc7",
       "previous": "39bc9190-81e4-11ee-91d3-0242ac120006-1-3d03"
      },
      {
       "current": "35c581ba-55a3-11e7-b0b2-00163e9c0e35-2-89bc-f9d0",
       "next": "35c58340-55a3-11e7-b0b2-00163e9c0e35-2-38bc-8fc7",
       "previous": "79af7266-81fa-11ee-91d3-0242ac120006"
      },
      {
       "current": "35c581ba-55a3-11e7-b0b2-00163e9c0e35-2-89bc-f9d0",
       "next": "35c58340-55a3-11e7-b0b2-00163e9c0e35-2-38bc-8fc7",
       "previous": "4dbe5b1e-8203-11ee-91d3-0242ac120006"
      },
      {
       "current": "35c581ba-55a3-11e7-b0b2-00163e9c0e35-2-89bc-f9d0",
       "next": "35c58340-55a3-11e7-b0b2-00163e9c0e35-2-38bc-8fc7",
       "previous": "fae6d004-8204-11ee-91d3-0242ac120006"
      },
      {
       "current": "35c581ba-55a3-11e7-b0b2-00163e9c0e35-2-89bc-f9d0",
       "next": "35c58340-55a3-11e7-b0b2-00163e9c0e35-2-38bc-8fc7",
       "previous": "8a7d015c-8205-11ee-91d3-0242ac120006"
      },
      {
       "current": "35c581ba-55a3-11e7-b0b2-00163e9c0e35-2-89bc-f9d0",
       "next": "35c58340-55a3-11e7-b0b2-00163e9c0e35-2-38bc-8fc7",
       "previous": "c26b7544-81fb-11ee-91d3-0242ac120006-1-767b"
      },
      {
       "current": "35c581ba-55a3-11e7-b0b2-00163e9c0e35-2-89bc-f9d0",
       "next": "35c58340-55a3-11e7-b0b2-00163e9c0e35-2-38bc-8fc7",
       "previous": "b7ec6662-8383-11ee-91d3-0242ac120006"
      },
      {
       "current": "35c581ba-55a3-11e7-b0b2-00163e9c0e35-2-89bc-f9d0",
       "next": "35c58340-55a3-11e7-b0b2-00163e9c0e35-2-38bc-8fc7",
       "previous": "d6091fae-8384-11ee-91d3-0242ac120006"
      },
      {
       "current": "35c581ba-55a3-11e7-b0b2-00163e9c0e35-2-89bc-f9d0",
       "next": "35c58340-55a3-11e7-b0b2-00163e9c0e35-2-38bc-8fc7",
       "previous": "1da685ae-8385-11ee-91d3-0242ac120006"
      },
      {
       "current": "35c581ba-55a3-11e7-b0b2-00163e9c0e35-3-89bc-f9d0-6034",
       "next": "35c58340-55a3-11e7-b0b2-00163e9c0e35-2-38bc-8fc7",
       "previous": "652e65b8-8385-11ee-91d3-0242ac120006"
      },
      {
       "current": "35c581ba-55a3-11e7-b0b2-00163e9c0e35-4-89bc-f9d0-6034-19f0",
       "next": "35c58340-55a3-11e7-b0b2-00163e9c0e35-3-38bc-8fc7-0f7a",
       "previous": "652e65b8-8385-11ee-91d3-0242ac120006-1-5c75"
      },
      {
       "current": "35c581ba-55a3-11e7-b0b2-00163e9c0e35-5-89bc-f9d0-6034-19f0-4f41",
       "next": "35c58340-55a3-11e7-b0b2-00163e9c0e35-4-38bc-8fc7-0f7a-2955",
       "previous": "652e65b8-8385-11ee-91d3-0242ac120006-2-5c75-e29e"
      },
      {
       "current": "35c581ba-55a3-11e7-b0b2-00163e9c0e35-6-89bc-f9d0-6034-19f0-4f41-5e8c",
       "next": "35c58340-55a3-11e7-b0b2-00163e9c0e35-5-38bc-8fc7-0f7a-2955-4ea5",
       "previous": "652e65b8-8385-11ee-91d3-0242ac120006-3-5c75-e29e-9925"
      }
     ],
     "next": "35c58340-55a3-11e7-b0b2-00163e9c0e35-6-38bc-8fc7-0f7a-2955-4ea5-b1b8",
     "previous": "652e65b8-8385-11ee-91d3-0242ac120006-4-5c75-e29e-9925-e250"
    }
   },
   "source": [
    "# 後始末\n",
    "\n",
    "一時ディレクトリを削除する。"
   ]
  },
  {
   "cell_type": "code",
   "execution_count": null,
   "metadata": {
    "ExecuteTime": {
     "end_time": "2017-06-29T08:01:20.617274Z",
     "start_time": "2017-06-29T08:01:20.466671Z"
    },
    "lc_cell_meme": {
     "current": "35c58340-55a3-11e7-b0b2-00163e9c0e35-6-38bc-8fc7-0f7a-2955-4ea5-b1b8",
     "history": [
      {
       "current": "35c58340-55a3-11e7-b0b2-00163e9c0e35",
       "next": null,
       "previous": "35c581ba-55a3-11e7-b0b2-00163e9c0e35"
      },
      {
       "current": "35c58340-55a3-11e7-b0b2-00163e9c0e35-1-38bc",
       "next": "c4bd8ce4-5749-11e7-b0b2-00163e9c0e35",
       "previous": "35c581ba-55a3-11e7-b0b2-00163e9c0e35"
      },
      {
       "current": "35c58340-55a3-11e7-b0b2-00163e9c0e35-2-38bc-8fc7",
       "next": "c4bd8ce4-5749-11e7-b0b2-00163e9c0e35-1-e01c",
       "previous": "35c581ba-55a3-11e7-b0b2-00163e9c0e35-1-89bc"
      },
      {
       "current": "35c58340-55a3-11e7-b0b2-00163e9c0e35-3-38bc-8fc7-0f7a",
       "next": "c4bd8ce4-5749-11e7-b0b2-00163e9c0e35-2-e01c-d763",
       "previous": "35c581ba-55a3-11e7-b0b2-00163e9c0e35-2-89bc-f9d0"
      },
      {
       "current": "35c58340-55a3-11e7-b0b2-00163e9c0e35-4-38bc-8fc7-0f7a-2955",
       "next": "c4bd8ce4-5749-11e7-b0b2-00163e9c0e35-3-e01c-d763-d831",
       "previous": "35c581ba-55a3-11e7-b0b2-00163e9c0e35-3-89bc-f9d0-6034"
      },
      {
       "current": "35c58340-55a3-11e7-b0b2-00163e9c0e35-5-38bc-8fc7-0f7a-2955-4ea5",
       "next": "c4bd8ce4-5749-11e7-b0b2-00163e9c0e35-4-e01c-d763-d831-327e",
       "previous": "35c581ba-55a3-11e7-b0b2-00163e9c0e35-4-89bc-f9d0-6034-19f0"
      },
      {
       "current": "35c58340-55a3-11e7-b0b2-00163e9c0e35-6-38bc-8fc7-0f7a-2955-4ea5-b1b8",
       "next": "c4bd8ce4-5749-11e7-b0b2-00163e9c0e35-5-e01c-d763-d831-327e-fec2",
       "previous": "35c581ba-55a3-11e7-b0b2-00163e9c0e35-5-89bc-f9d0-6034-19f0-4f41"
      }
     ],
     "next": "c4bd8ce4-5749-11e7-b0b2-00163e9c0e35-6-e01c-d763-d831-327e-fec2-6463",
     "previous": "35c581ba-55a3-11e7-b0b2-00163e9c0e35-6-89bc-f9d0-6034-19f0-4f41-5e8c"
    }
   },
   "outputs": [],
   "source": [
    "!rm -fr $temp_dir"
   ]
  },
  {
   "cell_type": "code",
   "execution_count": null,
   "metadata": {
    "lc_cell_meme": {
     "current": "c4bd8ce4-5749-11e7-b0b2-00163e9c0e35-6-e01c-d763-d831-327e-fec2-6463",
     "history": [
      {
       "current": "c4bd8ce4-5749-11e7-b0b2-00163e9c0e35-1-e01c",
       "next": null,
       "previous": "35c58340-55a3-11e7-b0b2-00163e9c0e35"
      },
      {
       "current": "c4bd8ce4-5749-11e7-b0b2-00163e9c0e35-2-e01c-d763",
       "next": null,
       "previous": "35c58340-55a3-11e7-b0b2-00163e9c0e35-1-38bc"
      },
      {
       "current": "c4bd8ce4-5749-11e7-b0b2-00163e9c0e35-3-e01c-d763-d831",
       "next": null,
       "previous": "35c58340-55a3-11e7-b0b2-00163e9c0e35-2-38bc-8fc7"
      },
      {
       "current": "c4bd8ce4-5749-11e7-b0b2-00163e9c0e35-4-e01c-d763-d831-327e",
       "next": null,
       "previous": "35c58340-55a3-11e7-b0b2-00163e9c0e35-3-38bc-8fc7-0f7a"
      },
      {
       "current": "c4bd8ce4-5749-11e7-b0b2-00163e9c0e35-5-e01c-d763-d831-327e-fec2",
       "next": null,
       "previous": "35c58340-55a3-11e7-b0b2-00163e9c0e35-4-38bc-8fc7-0f7a-2955"
      },
      {
       "current": "c4bd8ce4-5749-11e7-b0b2-00163e9c0e35-6-e01c-d763-d831-327e-fec2-6463",
       "next": null,
       "previous": "35c58340-55a3-11e7-b0b2-00163e9c0e35-5-38bc-8fc7-0f7a-2955-4ea5"
      }
     ],
     "next": null,
     "previous": "35c58340-55a3-11e7-b0b2-00163e9c0e35-6-38bc-8fc7-0f7a-2955-4ea5-b1b8"
    }
   },
   "outputs": [],
   "source": []
  }
 ],
 "metadata": {
  "kernelspec": {
   "display_name": "Python 3",
   "language": "python",
   "name": "python3"
  },
  "language_info": {
   "file_extension": ".py",
   "mimetype": "text/x-python",
   "name": "python",
   "nbconvert_exporter": "python",
   "pygments_lexer": "ipython3",
   "version": "3.10.4"
  },
  "lc_notebook_meme": {
   "current": "35c33086-55a3-11e7-b0b2-00163e9c0e35"
  },
  "toc": {
   "base_numbering": 1,
   "nav_menu": {
    "height": "484px",
    "width": "687px"
   },
   "number_sections": true,
   "sideBar": true,
   "skip_h1_title": false,
   "title_cell": "Table of Contents",
   "title_sidebar": "Contents",
   "toc_cell": false,
   "toc_position": {
    "height": "1156px",
    "left": "51px",
    "right": "1330px",
    "top": "111.133px",
    "width": "255px"
   },
   "toc_section_display": true,
   "toc_window_display": true
  }
 },
 "nbformat": 4,
 "nbformat_minor": 1
}
