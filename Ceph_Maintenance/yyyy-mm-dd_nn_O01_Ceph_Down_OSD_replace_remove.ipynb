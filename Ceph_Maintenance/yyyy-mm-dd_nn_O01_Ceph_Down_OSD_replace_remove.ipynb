{
 "cells": [
  {
   "cell_type": "markdown",
   "metadata": {
    "collapsed": true,
    "lc_cell_meme": {
     "current": "35c33414-55a3-11e7-b0b2-00163e9c0e35-7-ffee-ac17-9684-88dc-1e23-ebf9-3fd5",
     "history": [
      {
       "current": "35c33414-55a3-11e7-b0b2-00163e9c0e35",
       "next": "35c33626-55a3-11e7-b0b2-00163e9c0e35",
       "previous": null
      },
      {
       "current": "35c33414-55a3-11e7-b0b2-00163e9c0e35",
       "next": "35c33626-55a3-11e7-b0b2-00163e9c0e35",
       "previous": null
      },
      {
       "current": "35c33414-55a3-11e7-b0b2-00163e9c0e35",
       "next": "35c33626-55a3-11e7-b0b2-00163e9c0e35",
       "previous": "0db87670-9586-11ea-8d02-0242ac120007"
      },
      {
       "current": "35c33414-55a3-11e7-b0b2-00163e9c0e35-1-ffee",
       "next": "35c337f2-55a3-11e7-b0b2-00163e9c0e35",
       "previous": null
      },
      {
       "current": "35c33414-55a3-11e7-b0b2-00163e9c0e35-2-ffee-ac17",
       "next": "35c337f2-55a3-11e7-b0b2-00163e9c0e35-1-b874",
       "previous": null
      },
      {
       "current": "35c33414-55a3-11e7-b0b2-00163e9c0e35-3-ffee-ac17-9684",
       "next": "35c337f2-55a3-11e7-b0b2-00163e9c0e35-2-b874-13f7",
       "previous": null
      },
      {
       "current": "35c33414-55a3-11e7-b0b2-00163e9c0e35-3-ffee-ac17-9684",
       "next": "35c337f2-55a3-11e7-b0b2-00163e9c0e35-3-b874-13f7-3f47",
       "previous": null
      },
      {
       "current": "35c33414-55a3-11e7-b0b2-00163e9c0e35-4-ffee-ac17-9684-88dc",
       "next": "35c339aa-55a3-11e7-b0b2-00163e9c0e35-3-eee2-af6c-3cfe",
       "previous": null
      },
      {
       "current": "35c33414-55a3-11e7-b0b2-00163e9c0e35-5-ffee-ac17-9684-88dc-1e23",
       "next": "35c339aa-55a3-11e7-b0b2-00163e9c0e35-4-eee2-af6c-3cfe-ae87",
       "previous": null
      },
      {
       "current": "35c33414-55a3-11e7-b0b2-00163e9c0e35-6-ffee-ac17-9684-88dc-1e23-ebf9",
       "next": "35c339aa-55a3-11e7-b0b2-00163e9c0e35-5-eee2-af6c-3cfe-ae87-d422",
       "previous": null
      },
      {
       "current": "35c33414-55a3-11e7-b0b2-00163e9c0e35-7-ffee-ac17-9684-88dc-1e23-ebf9-3fd5",
       "next": "35c339aa-55a3-11e7-b0b2-00163e9c0e35-6-eee2-af6c-3cfe-ae87-d422-e97e",
       "previous": null
      }
     ],
     "next": "35c339aa-55a3-11e7-b0b2-00163e9c0e35-7-eee2-af6c-3cfe-ae87-d422-e97e-6158",
     "previous": null
    }
   },
   "source": [
    "# Cephノード運用：停止中OSDの削除（replace）\n",
    "障害の発生したOSD(down状態)の停止と削除<br>\n"
   ]
  },
  {
   "cell_type": "markdown",
   "metadata": {
    "lc_cell_meme": {
     "current": "35c339aa-55a3-11e7-b0b2-00163e9c0e35-7-eee2-af6c-3cfe-ae87-d422-e97e-6158",
     "history": [
      {
       "current": "35c339aa-55a3-11e7-b0b2-00163e9c0e35",
       "next": "35c33b6c-55a3-11e7-b0b2-00163e9c0e35",
       "previous": "35c337f2-55a3-11e7-b0b2-00163e9c0e35"
      },
      {
       "current": "35c339aa-55a3-11e7-b0b2-00163e9c0e35",
       "next": "670888aa-5722-11e7-b0b2-00163e9c0e35",
       "previous": "35c337f2-55a3-11e7-b0b2-00163e9c0e35"
      },
      {
       "current": "35c339aa-55a3-11e7-b0b2-00163e9c0e35",
       "next": "670888aa-5722-11e7-b0b2-00163e9c0e35",
       "previous": "357fc83a-969d-11ea-8d02-0242ac120007"
      },
      {
       "current": "35c339aa-55a3-11e7-b0b2-00163e9c0e35-1-eee2",
       "next": "670888aa-5722-11e7-b0b2-00163e9c0e35",
       "previous": "8a48dae0-98a1-11ea-8d02-0242ac120007"
      },
      {
       "current": "35c339aa-55a3-11e7-b0b2-00163e9c0e35-2-eee2-af6c",
       "next": "670888aa-5722-11e7-b0b2-00163e9c0e35-1-17ba",
       "previous": "8a48dae0-98a1-11ea-8d02-0242ac120007-1-4da2"
      },
      {
       "current": "35c339aa-55a3-11e7-b0b2-00163e9c0e35-2-eee2-af6c",
       "next": "670888aa-5722-11e7-b0b2-00163e9c0e35-2-17ba-53fc",
       "previous": "8a48dae0-98a1-11ea-8d02-0242ac120007-2-4da2-9c77"
      },
      {
       "current": "35c339aa-55a3-11e7-b0b2-00163e9c0e35-3-eee2-af6c-3cfe",
       "next": "670888aa-5722-11e7-b0b2-00163e9c0e35-2-17ba-53fc",
       "previous": "35c337f2-55a3-11e7-b0b2-00163e9c0e35-2-b874-13f7"
      },
      {
       "current": "35c339aa-55a3-11e7-b0b2-00163e9c0e35-3-eee2-af6c-3cfe",
       "next": "670888aa-5722-11e7-b0b2-00163e9c0e35-3-17ba-53fc-2957",
       "previous": "35c337f2-55a3-11e7-b0b2-00163e9c0e35-3-b874-13f7-3f47"
      },
      {
       "current": "35c339aa-55a3-11e7-b0b2-00163e9c0e35-4-eee2-af6c-3cfe-ae87",
       "next": "670888aa-5722-11e7-b0b2-00163e9c0e35-3-17ba-53fc-2957",
       "previous": "35c33414-55a3-11e7-b0b2-00163e9c0e35-3-ffee-ac17-9684"
      },
      {
       "current": "35c339aa-55a3-11e7-b0b2-00163e9c0e35-5-eee2-af6c-3cfe-ae87-d422",
       "next": "670888aa-5722-11e7-b0b2-00163e9c0e35-4-17ba-53fc-2957-0d35",
       "previous": "35c33414-55a3-11e7-b0b2-00163e9c0e35-4-ffee-ac17-9684-88dc"
      },
      {
       "current": "35c339aa-55a3-11e7-b0b2-00163e9c0e35-6-eee2-af6c-3cfe-ae87-d422-e97e",
       "next": "670888aa-5722-11e7-b0b2-00163e9c0e35-5-17ba-53fc-2957-0d35-c589",
       "previous": "35c33414-55a3-11e7-b0b2-00163e9c0e35-5-ffee-ac17-9684-88dc-1e23"
      },
      {
       "current": "35c339aa-55a3-11e7-b0b2-00163e9c0e35-7-eee2-af6c-3cfe-ae87-d422-e97e-6158",
       "next": "670888aa-5722-11e7-b0b2-00163e9c0e35-6-17ba-53fc-2957-0d35-c589-1197",
       "previous": "35c33414-55a3-11e7-b0b2-00163e9c0e35-6-ffee-ac17-9684-88dc-1e23-ebf9"
      }
     ],
     "next": "670888aa-5722-11e7-b0b2-00163e9c0e35-7-17ba-53fc-2957-0d35-c589-1197-59d4",
     "previous": "35c33414-55a3-11e7-b0b2-00163e9c0e35-7-ffee-ac17-9684-88dc-1e23-ebf9-3fd5"
    }
   },
   "source": [
    "# パラメータ定義"
   ]
  },
  {
   "cell_type": "markdown",
   "metadata": {
    "lc_cell_meme": {
     "current": "670888aa-5722-11e7-b0b2-00163e9c0e35-7-17ba-53fc-2957-0d35-c589-1197-59d4",
     "history": [
      {
       "current": "670888aa-5722-11e7-b0b2-00163e9c0e35-1-17ba",
       "next": "35c33b6c-55a3-11e7-b0b2-00163e9c0e35",
       "previous": "35c339aa-55a3-11e7-b0b2-00163e9c0e35"
      },
      {
       "current": "670888aa-5722-11e7-b0b2-00163e9c0e35-2-17ba-53fc",
       "next": "35c33b6c-55a3-11e7-b0b2-00163e9c0e35-1-c84d",
       "previous": "35c339aa-55a3-11e7-b0b2-00163e9c0e35-1-eee2"
      },
      {
       "current": "670888aa-5722-11e7-b0b2-00163e9c0e35-3-17ba-53fc-2957",
       "next": "35c33b6c-55a3-11e7-b0b2-00163e9c0e35-2-c84d-3439",
       "previous": "35c339aa-55a3-11e7-b0b2-00163e9c0e35-2-eee2-af6c"
      },
      {
       "current": "670888aa-5722-11e7-b0b2-00163e9c0e35-4-17ba-53fc-2957-0d35",
       "next": "35c33b6c-55a3-11e7-b0b2-00163e9c0e35-3-c84d-3439-eddb",
       "previous": "35c339aa-55a3-11e7-b0b2-00163e9c0e35-3-eee2-af6c-3cfe"
      },
      {
       "current": "670888aa-5722-11e7-b0b2-00163e9c0e35-5-17ba-53fc-2957-0d35-c589",
       "next": "35c33b6c-55a3-11e7-b0b2-00163e9c0e35-4-c84d-3439-eddb-f357",
       "previous": "35c339aa-55a3-11e7-b0b2-00163e9c0e35-4-eee2-af6c-3cfe-ae87"
      },
      {
       "current": "670888aa-5722-11e7-b0b2-00163e9c0e35-6-17ba-53fc-2957-0d35-c589-1197",
       "next": "35c33b6c-55a3-11e7-b0b2-00163e9c0e35-5-c84d-3439-eddb-f357-ca68",
       "previous": "35c339aa-55a3-11e7-b0b2-00163e9c0e35-5-eee2-af6c-3cfe-ae87-d422"
      },
      {
       "current": "670888aa-5722-11e7-b0b2-00163e9c0e35-7-17ba-53fc-2957-0d35-c589-1197-59d4",
       "next": "35c33b6c-55a3-11e7-b0b2-00163e9c0e35-6-c84d-3439-eddb-f357-ca68-60fa",
       "previous": "35c339aa-55a3-11e7-b0b2-00163e9c0e35-6-eee2-af6c-3cfe-ae87-d422-e97e"
      }
     ],
     "next": "35c33b6c-55a3-11e7-b0b2-00163e9c0e35-7-c84d-3439-eddb-f357-ca68-60fa-0f2d",
     "previous": "35c339aa-55a3-11e7-b0b2-00163e9c0e35-7-eee2-af6c-3cfe-ae87-d422-e97e-6158"
    }
   },
   "source": [
    "## パラメータファイル設定"
   ]
  },
  {
   "cell_type": "markdown",
   "metadata": {
    "lc_cell_meme": {
     "current": "35c33b6c-55a3-11e7-b0b2-00163e9c0e35-7-c84d-3439-eddb-f357-ca68-60fa-0f2d",
     "history": [
      {
       "current": "35c33b6c-55a3-11e7-b0b2-00163e9c0e35",
       "next": "35c33d24-55a3-11e7-b0b2-00163e9c0e35",
       "previous": "35c339aa-55a3-11e7-b0b2-00163e9c0e35"
      },
      {
       "current": "35c33b6c-55a3-11e7-b0b2-00163e9c0e35-1-c84d",
       "next": "35c33d24-55a3-11e7-b0b2-00163e9c0e35",
       "previous": "670888aa-5722-11e7-b0b2-00163e9c0e35"
      },
      {
       "current": "35c33b6c-55a3-11e7-b0b2-00163e9c0e35-2-c84d-3439",
       "next": "35c33d24-55a3-11e7-b0b2-00163e9c0e35-1-c8d8",
       "previous": "670888aa-5722-11e7-b0b2-00163e9c0e35-1-17ba"
      },
      {
       "current": "35c33b6c-55a3-11e7-b0b2-00163e9c0e35-3-c84d-3439-eddb",
       "next": "35c33d24-55a3-11e7-b0b2-00163e9c0e35-2-c8d8-c063",
       "previous": "670888aa-5722-11e7-b0b2-00163e9c0e35-2-17ba-53fc"
      },
      {
       "current": "35c33b6c-55a3-11e7-b0b2-00163e9c0e35-4-c84d-3439-eddb-f357",
       "next": "35c33d24-55a3-11e7-b0b2-00163e9c0e35-3-c8d8-c063-e3d4",
       "previous": "670888aa-5722-11e7-b0b2-00163e9c0e35-3-17ba-53fc-2957"
      },
      {
       "current": "35c33b6c-55a3-11e7-b0b2-00163e9c0e35-5-c84d-3439-eddb-f357-ca68",
       "next": "35c33d24-55a3-11e7-b0b2-00163e9c0e35-4-c8d8-c063-e3d4-d654",
       "previous": "670888aa-5722-11e7-b0b2-00163e9c0e35-4-17ba-53fc-2957-0d35"
      },
      {
       "current": "35c33b6c-55a3-11e7-b0b2-00163e9c0e35-6-c84d-3439-eddb-f357-ca68-60fa",
       "next": "db81f60e-2492-11ef-ad2f-0242ac120005",
       "previous": "670888aa-5722-11e7-b0b2-00163e9c0e35-5-17ba-53fc-2957-0d35-c589"
      },
      {
       "current": "35c33b6c-55a3-11e7-b0b2-00163e9c0e35-7-c84d-3439-eddb-f357-ca68-60fa-0f2d",
       "next": "db81f60e-2492-11ef-ad2f-0242ac120005-1-5a89",
       "previous": "670888aa-5722-11e7-b0b2-00163e9c0e35-6-17ba-53fc-2957-0d35-c589-1197"
      }
     ],
     "next": "db81f60e-2492-11ef-ad2f-0242ac120005-2-5a89-572d",
     "previous": "670888aa-5722-11e7-b0b2-00163e9c0e35-7-17ba-53fc-2957-0d35-c589-1197-59d4"
    }
   },
   "source": [
    "Cephクラスタの定義ファイルを指定するため、<br>\n",
    "パラメータ定義格納ディレクトリを表示する。"
   ]
  },
  {
   "cell_type": "code",
   "execution_count": null,
   "metadata": {
    "lc_cell_meme": {
     "current": "db81f60e-2492-11ef-ad2f-0242ac120005-2-5a89-572d",
     "history": [
      {
       "current": "db81f60e-2492-11ef-ad2f-0242ac120005-1-5a89",
       "next": "db81f6d6-2492-11ef-ad2f-0242ac120005",
       "previous": "35c33b6c-55a3-11e7-b0b2-00163e9c0e35-5-c84d-3439-eddb-f357-ca68"
      },
      {
       "current": "db81f60e-2492-11ef-ad2f-0242ac120005-2-5a89-572d",
       "next": "db81f6d6-2492-11ef-ad2f-0242ac120005-1-7bf3",
       "previous": "35c33b6c-55a3-11e7-b0b2-00163e9c0e35-6-c84d-3439-eddb-f357-ca68-60fa"
      }
     ],
     "next": "db81f6d6-2492-11ef-ad2f-0242ac120005-2-7bf3-1abe",
     "previous": "35c33b6c-55a3-11e7-b0b2-00163e9c0e35-7-c84d-3439-eddb-f357-ca68-60fa-0f2d"
    }
   },
   "outputs": [],
   "source": [
    "!ls -p ~/notebooks/share/ | grep \"/$\""
   ]
  },
  {
   "cell_type": "code",
   "execution_count": null,
   "metadata": {
    "lc_cell_meme": {
     "current": "db81f6d6-2492-11ef-ad2f-0242ac120005-2-7bf3-1abe",
     "history": [
      {
       "current": "db81f6d6-2492-11ef-ad2f-0242ac120005-1-7bf3",
       "next": "db81f708-2492-11ef-ad2f-0242ac120005",
       "previous": "db81f60e-2492-11ef-ad2f-0242ac120005"
      },
      {
       "current": "db81f6d6-2492-11ef-ad2f-0242ac120005-2-7bf3-1abe",
       "next": "db81f708-2492-11ef-ad2f-0242ac120005-1-e109",
       "previous": "db81f60e-2492-11ef-ad2f-0242ac120005-1-5a89"
      }
     ],
     "next": "db81f708-2492-11ef-ad2f-0242ac120005-2-e109-f31b",
     "previous": "db81f60e-2492-11ef-ad2f-0242ac120005-2-5a89-572d"
    }
   },
   "outputs": [],
   "source": [
    "!ls -p ~/notebooks/share/configuration"
   ]
  },
  {
   "cell_type": "code",
   "execution_count": null,
   "metadata": {
    "lc_cell_meme": {
     "current": "db81f708-2492-11ef-ad2f-0242ac120005-2-e109-f31b",
     "history": [
      {
       "current": "db81f708-2492-11ef-ad2f-0242ac120005-1-e109",
       "next": "db81f726-2492-11ef-ad2f-0242ac120005",
       "previous": "db81f6d6-2492-11ef-ad2f-0242ac120005"
      },
      {
       "current": "db81f708-2492-11ef-ad2f-0242ac120005-2-e109-f31b",
       "next": "db81f726-2492-11ef-ad2f-0242ac120005-1-e3aa",
       "previous": "db81f6d6-2492-11ef-ad2f-0242ac120005-1-7bf3"
      }
     ],
     "next": "db81f726-2492-11ef-ad2f-0242ac120005-2-e3aa-1b25",
     "previous": "db81f6d6-2492-11ef-ad2f-0242ac120005-2-7bf3-1abe"
    }
   },
   "outputs": [],
   "source": [
    "!ls -p ~/notebooks/share/configuration/ceph"
   ]
  },
  {
   "cell_type": "code",
   "execution_count": null,
   "metadata": {
    "lc_cell_meme": {
     "current": "db81f726-2492-11ef-ad2f-0242ac120005-2-e3aa-1b25",
     "history": [
      {
       "current": "db81f726-2492-11ef-ad2f-0242ac120005-1-e3aa",
       "next": "db81f74e-2492-11ef-ad2f-0242ac120005",
       "previous": "db81f708-2492-11ef-ad2f-0242ac120005"
      },
      {
       "current": "db81f726-2492-11ef-ad2f-0242ac120005-2-e3aa-1b25",
       "next": "db81f74e-2492-11ef-ad2f-0242ac120005-1-4059",
       "previous": "db81f708-2492-11ef-ad2f-0242ac120005-1-e109"
      }
     ],
     "next": "db81f74e-2492-11ef-ad2f-0242ac120005-2-4059-a39d",
     "previous": "db81f708-2492-11ef-ad2f-0242ac120005-2-e109-f31b"
    }
   },
   "outputs": [],
   "source": [
    "import sys, os.path, importlib, json, yaml\n",
    "\n",
    "config_file_name = \"ceph_admin_vm.yml\"\n",
    "config_file_path = os.path.expanduser(\"~/notebooks/share/configuration/ceph/{}\".format(config_file_name))\n",
    "with open(config_file_path) as f:\n",
    "    admin_params = yaml.safe_load(f)\n",
    "admin_params"
   ]
  },
  {
   "cell_type": "code",
   "execution_count": null,
   "metadata": {
    "lc_cell_meme": {
     "current": "db81f74e-2492-11ef-ad2f-0242ac120005-2-4059-a39d",
     "history": [
      {
       "current": "db81f74e-2492-11ef-ad2f-0242ac120005-1-4059",
       "next": "db81f76c-2492-11ef-ad2f-0242ac120005",
       "previous": "db81f726-2492-11ef-ad2f-0242ac120005"
      },
      {
       "current": "db81f74e-2492-11ef-ad2f-0242ac120005-2-4059-a39d",
       "next": "db81f76c-2492-11ef-ad2f-0242ac120005-1-715c",
       "previous": "db81f726-2492-11ef-ad2f-0242ac120005-1-e3aa"
      }
     ],
     "next": "db81f76c-2492-11ef-ad2f-0242ac120005-2-715c-7ec6",
     "previous": "db81f726-2492-11ef-ad2f-0242ac120005-2-e3aa-1b25"
    }
   },
   "outputs": [],
   "source": [
    "target_vm_name = 'xxx-ceph-admin1'\n",
    "admin_patam = admin_params[target_vm_name]\n",
    "admin_patam"
   ]
  },
  {
   "cell_type": "code",
   "execution_count": null,
   "metadata": {
    "lc_cell_meme": {
     "current": "db81f76c-2492-11ef-ad2f-0242ac120005-2-715c-7ec6",
     "history": [
      {
       "current": "db81f76c-2492-11ef-ad2f-0242ac120005-1-715c",
       "next": "db81f794-2492-11ef-ad2f-0242ac120005",
       "previous": "db81f74e-2492-11ef-ad2f-0242ac120005"
      },
      {
       "current": "db81f76c-2492-11ef-ad2f-0242ac120005-2-715c-7ec6",
       "next": "db81f794-2492-11ef-ad2f-0242ac120005-1-1fb2",
       "previous": "db81f74e-2492-11ef-ad2f-0242ac120005-1-4059"
      }
     ],
     "next": "db81f794-2492-11ef-ad2f-0242ac120005-2-1fb2-7d44",
     "previous": "db81f74e-2492-11ef-ad2f-0242ac120005-2-4059-a39d"
    }
   },
   "outputs": [],
   "source": [
    "ceph_admin_ip = admin_patam['network']['provisioning']['ip']"
   ]
  },
  {
   "cell_type": "code",
   "execution_count": null,
   "metadata": {
    "lc_cell_meme": {
     "current": "db81f794-2492-11ef-ad2f-0242ac120005-2-1fb2-7d44",
     "history": [
      {
       "current": "db81f794-2492-11ef-ad2f-0242ac120005-1-1fb2",
       "next": "db81f7b2-2492-11ef-ad2f-0242ac120005",
       "previous": "db81f76c-2492-11ef-ad2f-0242ac120005"
      },
      {
       "current": "db81f794-2492-11ef-ad2f-0242ac120005-2-1fb2-7d44",
       "next": "db81f7b2-2492-11ef-ad2f-0242ac120005-1-9dda",
       "previous": "db81f76c-2492-11ef-ad2f-0242ac120005-1-715c"
      }
     ],
     "next": "db81f7b2-2492-11ef-ad2f-0242ac120005-2-9dda-2916",
     "previous": "db81f76c-2492-11ef-ad2f-0242ac120005-2-715c-7ec6"
    }
   },
   "outputs": [],
   "source": [
    "import sys, os.path, importlib, json, yaml\n",
    "\n",
    "config_file_name = \"xxx-openstack-parameter.yml\"\n",
    "config_file_path = os.path.expanduser(\"~/notebooks/share/configuration/{}\".format(config_file_name))\n",
    "with open(config_file_path) as f:\n",
    "    params = yaml.safe_load(f)\n",
    "params"
   ]
  },
  {
   "cell_type": "code",
   "execution_count": null,
   "metadata": {
    "lc_cell_meme": {
     "current": "db81f7b2-2492-11ef-ad2f-0242ac120005-2-9dda-2916",
     "history": [
      {
       "current": "db81f7b2-2492-11ef-ad2f-0242ac120005-1-9dda",
       "next": "db81f7da-2492-11ef-ad2f-0242ac120005",
       "previous": "db81f794-2492-11ef-ad2f-0242ac120005"
      },
      {
       "current": "db81f7b2-2492-11ef-ad2f-0242ac120005-2-9dda-2916",
       "next": "db81f7da-2492-11ef-ad2f-0242ac120005-1-42e3",
       "previous": "db81f794-2492-11ef-ad2f-0242ac120005-1-1fb2"
      }
     ],
     "next": "db81f7da-2492-11ef-ad2f-0242ac120005-2-42e3-d1e9",
     "previous": "db81f794-2492-11ef-ad2f-0242ac120005-2-1fb2-7d44"
    }
   },
   "outputs": [],
   "source": [
    "repo_server = params['repository']['addresses']['service_operation']\n",
    "repo_server"
   ]
  },
  {
   "cell_type": "code",
   "execution_count": null,
   "metadata": {
    "lc_cell_meme": {
     "current": "db81f7da-2492-11ef-ad2f-0242ac120005-2-42e3-d1e9",
     "history": [
      {
       "current": "db81f7da-2492-11ef-ad2f-0242ac120005",
       "next": "db81f7f8-2492-11ef-ad2f-0242ac120005",
       "previous": "db81f7b2-2492-11ef-ad2f-0242ac120005"
      },
      {
       "current": "db81f7da-2492-11ef-ad2f-0242ac120005-1-42e3",
       "next": "bf249b06-98af-11ea-8d02-0242ac120007-5-1e49-e772-9042-03a8-eaa8",
       "previous": "db81f7b2-2492-11ef-ad2f-0242ac120005"
      },
      {
       "current": "db81f7da-2492-11ef-ad2f-0242ac120005-2-42e3-d1e9",
       "next": "bf249b06-98af-11ea-8d02-0242ac120007-6-1e49-e772-9042-03a8-eaa8-80fe",
       "previous": "db81f7b2-2492-11ef-ad2f-0242ac120005-1-9dda"
      }
     ],
     "next": "bf249b06-98af-11ea-8d02-0242ac120007-7-1e49-e772-9042-03a8-eaa8-80fe-793a",
     "previous": "db81f7b2-2492-11ef-ad2f-0242ac120005-2-9dda-2916"
    }
   },
   "outputs": [],
   "source": [
    "provisioning_vip = params['openstack']['provisioning_vip']\n",
    "provisioning_vip"
   ]
  },
  {
   "cell_type": "markdown",
   "metadata": {
    "lc_cell_meme": {
     "current": "bf249b06-98af-11ea-8d02-0242ac120007-7-1e49-e772-9042-03a8-eaa8-80fe-793a",
     "history": [
      {
       "current": "bf249b06-98af-11ea-8d02-0242ac120007",
       "next": "d1bcb8ac-9599-11ea-8d02-0242ac120007",
       "previous": "7dae8996-9686-11ea-8d02-0242ac120007"
      },
      {
       "current": "bf249b06-98af-11ea-8d02-0242ac120007-1-1e49",
       "next": "dd8e3cbc-98f2-11ea-8d02-0242ac120007",
       "previous": "7dae8996-9686-11ea-8d02-0242ac120007"
      },
      {
       "current": "bf249b06-98af-11ea-8d02-0242ac120007-2-1e49-e772",
       "next": "dd8e3cbc-98f2-11ea-8d02-0242ac120007-1-706a",
       "previous": "7dae8996-9686-11ea-8d02-0242ac120007-1-20c5"
      },
      {
       "current": "bf249b06-98af-11ea-8d02-0242ac120007-2-1e49-e772",
       "next": "dd8e3cbc-98f2-11ea-8d02-0242ac120007-2-706a-309d",
       "previous": "7dae8996-9686-11ea-8d02-0242ac120007-2-20c5-a0b0"
      },
      {
       "current": "bf249b06-98af-11ea-8d02-0242ac120007-2-1e49-e772",
       "next": "dd8e3cbc-98f2-11ea-8d02-0242ac120007-2-706a-309d",
       "previous": "1afe76e2-def8-11eb-b29f-0242ac120008"
      },
      {
       "current": "bf249b06-98af-11ea-8d02-0242ac120007-2-1e49-e772",
       "next": "d1bcb8ac-9599-11ea-8d02-0242ac120007-2-ec95-2870",
       "previous": "1afe76e2-def8-11eb-b29f-0242ac120008"
      },
      {
       "current": "bf249b06-98af-11ea-8d02-0242ac120007-2-1e49-e772",
       "next": "d1bcb8ac-9599-11ea-8d02-0242ac120007-2-ec95-2870",
       "previous": "445f36bc-def7-11eb-b29f-0242ac120008"
      },
      {
       "current": "bf249b06-98af-11ea-8d02-0242ac120007-3-1e49-e772-9042",
       "next": "d1bcb8ac-9599-11ea-8d02-0242ac120007-2-ec95-2870",
       "previous": "17dd310e-deff-11eb-b29f-0242ac120008"
      },
      {
       "current": "bf249b06-98af-11ea-8d02-0242ac120007-4-1e49-e772-9042-03a8",
       "next": "d1bcb8ac-9599-11ea-8d02-0242ac120007-3-ec95-2870-3f6b",
       "previous": "17dd310e-deff-11eb-b29f-0242ac120008-1-9f34"
      },
      {
       "current": "bf249b06-98af-11ea-8d02-0242ac120007-5-1e49-e772-9042-03a8-eaa8",
       "next": "d1bcb8ac-9599-11ea-8d02-0242ac120007-4-ec95-2870-3f6b-3a45",
       "previous": "17dd310e-deff-11eb-b29f-0242ac120008-2-9f34-5b56"
      },
      {
       "current": "bf249b06-98af-11ea-8d02-0242ac120007-5-1e49-e772-9042-03a8-eaa8",
       "next": "d1bcb8ac-9599-11ea-8d02-0242ac120007-5-ec95-2870-3f6b-3a45-2c61",
       "previous": "17dd310e-deff-11eb-b29f-0242ac120008-3-9f34-5b56-d587"
      },
      {
       "current": "bf249b06-98af-11ea-8d02-0242ac120007-6-1e49-e772-9042-03a8-eaa8-80fe",
       "next": "d1bcb8ac-9599-11ea-8d02-0242ac120007-5-ec95-2870-3f6b-3a45-2c61",
       "previous": "db81f7da-2492-11ef-ad2f-0242ac120005"
      },
      {
       "current": "bf249b06-98af-11ea-8d02-0242ac120007-7-1e49-e772-9042-03a8-eaa8-80fe-793a",
       "next": "d1bcb8ac-9599-11ea-8d02-0242ac120007-6-ec95-2870-3f6b-3a45-2c61-f698",
       "previous": "db81f7da-2492-11ef-ad2f-0242ac120005-1-42e3"
      }
     ],
     "next": "d1bcb8ac-9599-11ea-8d02-0242ac120007-7-ec95-2870-3f6b-3a45-2c61-f698-1cea",
     "previous": "db81f7da-2492-11ef-ad2f-0242ac120005-2-42e3-d1e9"
    }
   },
   "source": [
    "## CephノードとストレージセグメントIPアドレス対応表の読み込み"
   ]
  },
  {
   "cell_type": "code",
   "execution_count": null,
   "metadata": {
    "lc_cell_meme": {
     "current": "d1bcb8ac-9599-11ea-8d02-0242ac120007-7-ec95-2870-3f6b-3a45-2c61-f698-1cea",
     "history": [
      {
       "current": "d1bcb8ac-9599-11ea-8d02-0242ac120007",
       "next": "d1bcba78-9599-11ea-8d02-0242ac120007",
       "previous": "d1bcb5c8-9599-11ea-8d02-0242ac120007"
      },
      {
       "current": "d1bcb8ac-9599-11ea-8d02-0242ac120007",
       "next": "d1bcba78-9599-11ea-8d02-0242ac120007",
       "previous": "a85c1dda-959a-11ea-8d02-0242ac120007"
      },
      {
       "current": "d1bcb8ac-9599-11ea-8d02-0242ac120007",
       "next": "81dd4f74-9597-11ea-8d02-0242ac120007",
       "previous": "a85c1dda-959a-11ea-8d02-0242ac120007"
      },
      {
       "current": "d1bcb8ac-9599-11ea-8d02-0242ac120007",
       "next": "e879cdac-95bf-11ea-8d02-0242ac120007",
       "previous": "a85c1dda-959a-11ea-8d02-0242ac120007"
      },
      {
       "current": "d1bcb8ac-9599-11ea-8d02-0242ac120007",
       "next": "7899411a-9692-11ea-8d02-0242ac120007",
       "previous": "bf249b06-98af-11ea-8d02-0242ac120007"
      },
      {
       "current": "d1bcb8ac-9599-11ea-8d02-0242ac120007",
       "next": "06afe9a8-98b0-11ea-8d02-0242ac120007",
       "previous": "bf249b06-98af-11ea-8d02-0242ac120007"
      },
      {
       "current": "d1bcb8ac-9599-11ea-8d02-0242ac120007",
       "next": "06afe9a8-98b0-11ea-8d02-0242ac120007",
       "previous": "dd8e3cbc-98f2-11ea-8d02-0242ac120007"
      },
      {
       "current": "d1bcb8ac-9599-11ea-8d02-0242ac120007-1-ec95",
       "next": "250e7a70-98f3-11ea-8d02-0242ac120007",
       "previous": "dd8e3cbc-98f2-11ea-8d02-0242ac120007"
      },
      {
       "current": "d1bcb8ac-9599-11ea-8d02-0242ac120007-2-ec95-2870",
       "next": "250e7a70-98f3-11ea-8d02-0242ac120007-1-f0b4",
       "previous": "dd8e3cbc-98f2-11ea-8d02-0242ac120007-1-706a"
      },
      {
       "current": "d1bcb8ac-9599-11ea-8d02-0242ac120007-2-ec95-2870",
       "next": "250e7a70-98f3-11ea-8d02-0242ac120007-2-f0b4-6edf",
       "previous": "dd8e3cbc-98f2-11ea-8d02-0242ac120007-2-706a-309d"
      },
      {
       "current": "d1bcb8ac-9599-11ea-8d02-0242ac120007-3-ec95-2870-3f6b",
       "next": "250e7a70-98f3-11ea-8d02-0242ac120007-2-f0b4-6edf",
       "previous": "bf249b06-98af-11ea-8d02-0242ac120007-2-1e49-e772"
      },
      {
       "current": "d1bcb8ac-9599-11ea-8d02-0242ac120007-3-ec95-2870-3f6b",
       "next": "250e7a70-98f3-11ea-8d02-0242ac120007-3-f0b4-6edf-9d40",
       "previous": "bf249b06-98af-11ea-8d02-0242ac120007-3-1e49-e772-9042"
      },
      {
       "current": "d1bcb8ac-9599-11ea-8d02-0242ac120007-4-ec95-2870-3f6b-3a45",
       "next": "8a6e62b8-6f14-11ee-89fa-0242ac120005",
       "previous": "bf249b06-98af-11ea-8d02-0242ac120007-3-1e49-e772-9042"
      },
      {
       "current": "d1bcb8ac-9599-11ea-8d02-0242ac120007-5-ec95-2870-3f6b-3a45-2c61",
       "next": "8a6e62b8-6f14-11ee-89fa-0242ac120005-1-2feb",
       "previous": "bf249b06-98af-11ea-8d02-0242ac120007-4-1e49-e772-9042-03a8"
      },
      {
       "current": "d1bcb8ac-9599-11ea-8d02-0242ac120007-5-ec95-2870-3f6b-3a45-2c61",
       "next": "8a6e62b8-6f14-11ee-89fa-0242ac120005-2-2feb-4c95",
       "previous": "bf249b06-98af-11ea-8d02-0242ac120007-5-1e49-e772-9042-03a8-eaa8"
      },
      {
       "current": "d1bcb8ac-9599-11ea-8d02-0242ac120007-6-ec95-2870-3f6b-3a45-2c61-f698",
       "next": "8a6e6452-6f14-11ee-89fa-0242ac120005-2-76d2-5020",
       "previous": "bf249b06-98af-11ea-8d02-0242ac120007-5-1e49-e772-9042-03a8-eaa8"
      },
      {
       "current": "d1bcb8ac-9599-11ea-8d02-0242ac120007-7-ec95-2870-3f6b-3a45-2c61-f698-1cea",
       "next": "8a6e6452-6f14-11ee-89fa-0242ac120005-3-76d2-5020-adfb",
       "previous": "bf249b06-98af-11ea-8d02-0242ac120007-6-1e49-e772-9042-03a8-eaa8-80fe"
      }
     ],
     "next": "8a6e6452-6f14-11ee-89fa-0242ac120005-4-76d2-5020-adfb-bb88",
     "previous": "bf249b06-98af-11ea-8d02-0242ac120007-7-1e49-e772-9042-03a8-eaa8-80fe-793a"
    },
    "scrolled": true
   },
   "outputs": [],
   "source": [
    "import os\n",
    "import csv\n",
    "import pandas as pd\n",
    "\n",
    "instance_ip_csv_path =  os.environ['HOME'] + \"/notebooks/share/configuration/ceph/ceph_instance_ip.csv\"\n",
    "instance_ip_list = []\n",
    "instance_ip_map = {}\n",
    "\n",
    "with open(instance_ip_csv_path, 'r') as path_csv:\n",
    "    reader = csv.DictReader(path_csv)\n",
    "    \n",
    "    for record in reader:\n",
    "        instance_ip_list.append(record)\n",
    "        instance_ip_map[record['instance_name']] = record\n",
    "\n",
    "pd.DataFrame(instance_ip_list)"
   ]
  },
  {
   "cell_type": "markdown",
   "metadata": {
    "lc_cell_meme": {
     "current": "8a6e6452-6f14-11ee-89fa-0242ac120005-4-76d2-5020-adfb-bb88",
     "history": [
      {
       "current": "8a6e6452-6f14-11ee-89fa-0242ac120005-1-76d2",
       "next": "8a6e65e2-6f14-11ee-89fa-0242ac120005",
       "previous": "250e7a70-98f3-11ea-8d02-0242ac120007-3-f0b4-6edf-9d40"
      },
      {
       "current": "8a6e6452-6f14-11ee-89fa-0242ac120005-2-76d2-5020",
       "next": "8a6e65e2-6f14-11ee-89fa-0242ac120005-1-04a1",
       "previous": "250e7a70-98f3-11ea-8d02-0242ac120007-4-f0b4-6edf-9d40-ea9a"
      },
      {
       "current": "8a6e6452-6f14-11ee-89fa-0242ac120005-2-76d2-5020",
       "next": "8a6e65e2-6f14-11ee-89fa-0242ac120005-2-04a1-1809",
       "previous": "250e7a70-98f3-11ea-8d02-0242ac120007-5-f0b4-6edf-9d40-ea9a-a29d"
      },
      {
       "current": "8a6e6452-6f14-11ee-89fa-0242ac120005-3-76d2-5020-adfb",
       "next": "8a6e65e2-6f14-11ee-89fa-0242ac120005-2-04a1-1809",
       "previous": "d1bcb8ac-9599-11ea-8d02-0242ac120007-5-ec95-2870-3f6b-3a45-2c61"
      },
      {
       "current": "8a6e6452-6f14-11ee-89fa-0242ac120005-4-76d2-5020-adfb-bb88",
       "next": "8a6e65e2-6f14-11ee-89fa-0242ac120005-3-04a1-1809-471d",
       "previous": "d1bcb8ac-9599-11ea-8d02-0242ac120007-6-ec95-2870-3f6b-3a45-2c61-f698"
      }
     ],
     "next": "8a6e65e2-6f14-11ee-89fa-0242ac120005-4-04a1-1809-471d-8ba0",
     "previous": "d1bcb8ac-9599-11ea-8d02-0242ac120007-7-ec95-2870-3f6b-3a45-2c61-f698-1cea"
    }
   },
   "source": [
    "## 作業用ディレクトリを作成する"
   ]
  },
  {
   "cell_type": "code",
   "execution_count": null,
   "metadata": {
    "lc_cell_meme": {
     "current": "8a6e65e2-6f14-11ee-89fa-0242ac120005-4-04a1-1809-471d-8ba0",
     "history": [
      {
       "current": "8a6e65e2-6f14-11ee-89fa-0242ac120005-1-04a1",
       "next": "8a6e6664-6f14-11ee-89fa-0242ac120005",
       "previous": "8a6e6452-6f14-11ee-89fa-0242ac120005"
      },
      {
       "current": "8a6e65e2-6f14-11ee-89fa-0242ac120005-2-04a1-1809",
       "next": "8a6e6664-6f14-11ee-89fa-0242ac120005-1-f794",
       "previous": "8a6e6452-6f14-11ee-89fa-0242ac120005-1-76d2"
      },
      {
       "current": "8a6e65e2-6f14-11ee-89fa-0242ac120005-3-04a1-1809-471d",
       "next": "8a6e6664-6f14-11ee-89fa-0242ac120005-2-f794-8b19",
       "previous": "8a6e6452-6f14-11ee-89fa-0242ac120005-2-76d2-5020"
      },
      {
       "current": "8a6e65e2-6f14-11ee-89fa-0242ac120005-4-04a1-1809-471d-8ba0",
       "next": "8a6e6664-6f14-11ee-89fa-0242ac120005-3-f794-8b19-9219",
       "previous": "8a6e6452-6f14-11ee-89fa-0242ac120005-3-76d2-5020-adfb"
      }
     ],
     "next": "8a6e6664-6f14-11ee-89fa-0242ac120005-4-f794-8b19-9219-84d4",
     "previous": "8a6e6452-6f14-11ee-89fa-0242ac120005-4-76d2-5020-adfb-bb88"
    }
   },
   "outputs": [],
   "source": [
    "import os,tempfile\n",
    "temp_dir = tempfile.mkdtemp()\n",
    "print (temp_dir)"
   ]
  },
  {
   "cell_type": "markdown",
   "metadata": {
    "lc_cell_meme": {
     "current": "8a6e6664-6f14-11ee-89fa-0242ac120005-4-f794-8b19-9219-84d4",
     "history": [
      {
       "current": "8a6e6664-6f14-11ee-89fa-0242ac120005-1-f794",
       "next": "8a6e66c8-6f14-11ee-89fa-0242ac120005",
       "previous": "8a6e65e2-6f14-11ee-89fa-0242ac120005"
      },
      {
       "current": "8a6e6664-6f14-11ee-89fa-0242ac120005-2-f794-8b19",
       "next": "8a6e66c8-6f14-11ee-89fa-0242ac120005-1-04ff",
       "previous": "8a6e65e2-6f14-11ee-89fa-0242ac120005-1-04a1"
      },
      {
       "current": "8a6e6664-6f14-11ee-89fa-0242ac120005-3-f794-8b19-9219",
       "next": "8a6e66c8-6f14-11ee-89fa-0242ac120005-2-04ff-245a",
       "previous": "8a6e65e2-6f14-11ee-89fa-0242ac120005-2-04a1-1809"
      },
      {
       "current": "8a6e6664-6f14-11ee-89fa-0242ac120005-4-f794-8b19-9219-84d4",
       "next": "8a6e66c8-6f14-11ee-89fa-0242ac120005-3-04ff-245a-4714",
       "previous": "8a6e65e2-6f14-11ee-89fa-0242ac120005-3-04a1-1809-471d"
      }
     ],
     "next": "8a6e66c8-6f14-11ee-89fa-0242ac120005-4-04ff-245a-4714-7780",
     "previous": "8a6e65e2-6f14-11ee-89fa-0242ac120005-4-04a1-1809-471d-8ba0"
    }
   },
   "source": [
    "## AnsibleのInventoryファイルを作業用ディレクトリへ作成する"
   ]
  },
  {
   "cell_type": "code",
   "execution_count": null,
   "metadata": {
    "lc_cell_meme": {
     "current": "8a6e66c8-6f14-11ee-89fa-0242ac120005-4-04ff-245a-4714-7780",
     "history": [
      {
       "current": "8a6e66c8-6f14-11ee-89fa-0242ac120005-1-04ff",
       "next": "8a6e6736-6f14-11ee-89fa-0242ac120005",
       "previous": "8a6e6664-6f14-11ee-89fa-0242ac120005"
      },
      {
       "current": "8a6e66c8-6f14-11ee-89fa-0242ac120005-2-04ff-245a",
       "next": "8a6e6736-6f14-11ee-89fa-0242ac120005-1-bd60",
       "previous": "8a6e6664-6f14-11ee-89fa-0242ac120005-1-f794"
      },
      {
       "current": "8a6e66c8-6f14-11ee-89fa-0242ac120005-3-04ff-245a-4714",
       "next": "8a6e6736-6f14-11ee-89fa-0242ac120005-2-bd60-f2da",
       "previous": "8a6e6664-6f14-11ee-89fa-0242ac120005-2-f794-8b19"
      },
      {
       "current": "8a6e66c8-6f14-11ee-89fa-0242ac120005-4-04ff-245a-4714-7780",
       "next": "8a6e6736-6f14-11ee-89fa-0242ac120005-3-bd60-f2da-2f4f",
       "previous": "8a6e6664-6f14-11ee-89fa-0242ac120005-3-f794-8b19-9219"
      }
     ],
     "next": "8a6e6736-6f14-11ee-89fa-0242ac120005-4-bd60-f2da-2f4f-5b39",
     "previous": "8a6e6664-6f14-11ee-89fa-0242ac120005-4-f794-8b19-9219-84d4"
    }
   },
   "outputs": [],
   "source": [
    "import os\n",
    "\n",
    "with open( os.path.join(temp_dir, \"hosts\"), 'w') as f:\n",
    "    f.write('''[openstack_ctl]\n",
    "{openstack_cmn}\n",
    "'''.format(openstack_cmn = provisioning_vip))\n",
    "\n",
    "hosts = temp_dir + \"/hosts\"\n",
    "!cat $hosts"
   ]
  },
  {
   "cell_type": "code",
   "execution_count": null,
   "metadata": {
    "lc_cell_meme": {
     "current": "8a6e6736-6f14-11ee-89fa-0242ac120005-4-bd60-f2da-2f4f-5b39",
     "history": [
      {
       "current": "8a6e6736-6f14-11ee-89fa-0242ac120005",
       "next": "8a6e67a4-6f14-11ee-89fa-0242ac120005",
       "previous": "8a6e66c8-6f14-11ee-89fa-0242ac120005"
      },
      {
       "current": "8a6e6736-6f14-11ee-89fa-0242ac120005-1-bd60",
       "next": "8a6e67a4-6f14-11ee-89fa-0242ac120005-1-b446",
       "previous": "8a6e66c8-6f14-11ee-89fa-0242ac120005"
      },
      {
       "current": "8a6e6736-6f14-11ee-89fa-0242ac120005-2-bd60-f2da",
       "next": "8a6e67a4-6f14-11ee-89fa-0242ac120005-2-b446-999e",
       "previous": "8a6e66c8-6f14-11ee-89fa-0242ac120005-1-04ff"
      },
      {
       "current": "8a6e6736-6f14-11ee-89fa-0242ac120005-3-bd60-f2da-2f4f",
       "next": "8a6e67a4-6f14-11ee-89fa-0242ac120005-3-b446-999e-2099",
       "previous": "8a6e66c8-6f14-11ee-89fa-0242ac120005-2-04ff-245a"
      },
      {
       "current": "8a6e6736-6f14-11ee-89fa-0242ac120005-4-bd60-f2da-2f4f-5b39",
       "next": "8a6e67a4-6f14-11ee-89fa-0242ac120005-4-b446-999e-2099-4f07",
       "previous": "8a6e66c8-6f14-11ee-89fa-0242ac120005-3-04ff-245a-4714"
      }
     ],
     "next": "8a6e67a4-6f14-11ee-89fa-0242ac120005-5-b446-999e-2099-4f07-eb90",
     "previous": "8a6e66c8-6f14-11ee-89fa-0242ac120005-4-04ff-245a-4714-7780"
    }
   },
   "outputs": [],
   "source": [
    "%env ANSIBLE_INVENTORY={hosts}"
   ]
  },
  {
   "cell_type": "markdown",
   "metadata": {
    "lc_cell_meme": {
     "current": "8a6e67a4-6f14-11ee-89fa-0242ac120005-5-b446-999e-2099-4f07-eb90",
     "history": [
      {
       "current": "8a6e67a4-6f14-11ee-89fa-0242ac120005-2-b446-999e",
       "next": "8a6e6808-6f14-11ee-89fa-0242ac120005",
       "previous": "8a6e6736-6f14-11ee-89fa-0242ac120005"
      },
      {
       "current": "8a6e67a4-6f14-11ee-89fa-0242ac120005-3-b446-999e-2099",
       "next": "8a6e6808-6f14-11ee-89fa-0242ac120005-1-10c9",
       "previous": "8a6e6736-6f14-11ee-89fa-0242ac120005-1-bd60"
      },
      {
       "current": "8a6e67a4-6f14-11ee-89fa-0242ac120005-4-b446-999e-2099-4f07",
       "next": "8a6e6808-6f14-11ee-89fa-0242ac120005-2-10c9-f0fe",
       "previous": "8a6e6736-6f14-11ee-89fa-0242ac120005-2-bd60-f2da"
      },
      {
       "current": "8a6e67a4-6f14-11ee-89fa-0242ac120005-5-b446-999e-2099-4f07-eb90",
       "next": "8a6e6808-6f14-11ee-89fa-0242ac120005-3-10c9-f0fe-88f4",
       "previous": "8a6e6736-6f14-11ee-89fa-0242ac120005-3-bd60-f2da-2f4f"
      }
     ],
     "next": "8a6e6808-6f14-11ee-89fa-0242ac120005-4-10c9-f0fe-88f4-a1f5",
     "previous": "8a6e6736-6f14-11ee-89fa-0242ac120005-4-bd60-f2da-2f4f-5b39"
    }
   },
   "source": [
    "疎通確認"
   ]
  },
  {
   "cell_type": "code",
   "execution_count": null,
   "metadata": {
    "lc_cell_meme": {
     "current": "8a6e6808-6f14-11ee-89fa-0242ac120005-4-10c9-f0fe-88f4-a1f5",
     "history": [
      {
       "current": "8a6e6808-6f14-11ee-89fa-0242ac120005",
       "next": "8a6e6862-6f14-11ee-89fa-0242ac120005",
       "previous": "8a6e67a4-6f14-11ee-89fa-0242ac120005"
      },
      {
       "current": "8a6e6808-6f14-11ee-89fa-0242ac120005-1-10c9",
       "next": "8a6e6862-6f14-11ee-89fa-0242ac120005",
       "previous": "8a6e67a4-6f14-11ee-89fa-0242ac120005-1-b446"
      },
      {
       "current": "8a6e6808-6f14-11ee-89fa-0242ac120005-2-10c9-f0fe",
       "next": "8a6e6862-6f14-11ee-89fa-0242ac120005-1-5f32",
       "previous": "8a6e67a4-6f14-11ee-89fa-0242ac120005-2-b446-999e"
      },
      {
       "current": "8a6e6808-6f14-11ee-89fa-0242ac120005-3-10c9-f0fe-88f4",
       "next": "8a6e6862-6f14-11ee-89fa-0242ac120005-2-5f32-ba9c",
       "previous": "8a6e67a4-6f14-11ee-89fa-0242ac120005-3-b446-999e-2099"
      },
      {
       "current": "8a6e6808-6f14-11ee-89fa-0242ac120005-4-10c9-f0fe-88f4-a1f5",
       "next": "8a6e6862-6f14-11ee-89fa-0242ac120005-3-5f32-ba9c-17c7",
       "previous": "8a6e67a4-6f14-11ee-89fa-0242ac120005-4-b446-999e-2099-4f07"
      }
     ],
     "next": "8a6e6862-6f14-11ee-89fa-0242ac120005-4-5f32-ba9c-17c7-b91d",
     "previous": "8a6e67a4-6f14-11ee-89fa-0242ac120005-5-b446-999e-2099-4f07-eb90"
    }
   },
   "outputs": [],
   "source": [
    "!ansible -m ping openstack_ctl"
   ]
  },
  {
   "cell_type": "code",
   "execution_count": null,
   "metadata": {
    "lc_cell_meme": {
     "current": "8a6e6862-6f14-11ee-89fa-0242ac120005-4-5f32-ba9c-17c7-b91d",
     "history": [
      {
       "current": "8a6e6862-6f14-11ee-89fa-0242ac120005",
       "next": "8a6e68d0-6f14-11ee-89fa-0242ac120005",
       "previous": "8a6e6808-6f14-11ee-89fa-0242ac120005"
      },
      {
       "current": "8a6e6862-6f14-11ee-89fa-0242ac120005-1-5f32",
       "next": "8a6e68d0-6f14-11ee-89fa-0242ac120005-1-da77",
       "previous": "8a6e6808-6f14-11ee-89fa-0242ac120005"
      },
      {
       "current": "8a6e6862-6f14-11ee-89fa-0242ac120005-2-5f32-ba9c",
       "next": "8a6e68d0-6f14-11ee-89fa-0242ac120005-2-da77-ec4d",
       "previous": "8a6e6808-6f14-11ee-89fa-0242ac120005-1-10c9"
      },
      {
       "current": "8a6e6862-6f14-11ee-89fa-0242ac120005-3-5f32-ba9c-17c7",
       "next": "8a6e68d0-6f14-11ee-89fa-0242ac120005-3-da77-ec4d-2435",
       "previous": "8a6e6808-6f14-11ee-89fa-0242ac120005-2-10c9-f0fe"
      },
      {
       "current": "8a6e6862-6f14-11ee-89fa-0242ac120005-4-5f32-ba9c-17c7-b91d",
       "next": "8a6e68d0-6f14-11ee-89fa-0242ac120005-4-da77-ec4d-2435-0936",
       "previous": "8a6e6808-6f14-11ee-89fa-0242ac120005-3-10c9-f0fe-88f4"
      }
     ],
     "next": "8a6e68d0-6f14-11ee-89fa-0242ac120005-5-da77-ec4d-2435-0936-7da5",
     "previous": "8a6e6808-6f14-11ee-89fa-0242ac120005-4-10c9-f0fe-88f4-a1f5"
    }
   },
   "outputs": [],
   "source": [
    "!ansible -a 'hostname' openstack_ctl"
   ]
  },
  {
   "cell_type": "markdown",
   "metadata": {
    "lc_cell_meme": {
     "current": "8a6e68d0-6f14-11ee-89fa-0242ac120005-5-da77-ec4d-2435-0936-7da5",
     "history": [
      {
       "current": "8a6e68d0-6f14-11ee-89fa-0242ac120005-2-da77-ec4d",
       "next": "8a6e6934-6f14-11ee-89fa-0242ac120005",
       "previous": "8a6e6862-6f14-11ee-89fa-0242ac120005"
      },
      {
       "current": "8a6e68d0-6f14-11ee-89fa-0242ac120005-3-da77-ec4d-2435",
       "next": "8a6e6934-6f14-11ee-89fa-0242ac120005-1-dc84",
       "previous": "8a6e6862-6f14-11ee-89fa-0242ac120005-1-5f32"
      },
      {
       "current": "8a6e68d0-6f14-11ee-89fa-0242ac120005-4-da77-ec4d-2435-0936",
       "next": "8a6e6934-6f14-11ee-89fa-0242ac120005-2-dc84-0beb",
       "previous": "8a6e6862-6f14-11ee-89fa-0242ac120005-2-5f32-ba9c"
      },
      {
       "current": "8a6e68d0-6f14-11ee-89fa-0242ac120005-5-da77-ec4d-2435-0936-7da5",
       "next": "8a6e6934-6f14-11ee-89fa-0242ac120005-3-dc84-0beb-c78c",
       "previous": "8a6e6862-6f14-11ee-89fa-0242ac120005-3-5f32-ba9c-17c7"
      }
     ],
     "next": "8a6e6934-6f14-11ee-89fa-0242ac120005-4-dc84-0beb-c78c-7ba6",
     "previous": "8a6e6862-6f14-11ee-89fa-0242ac120005-4-5f32-ba9c-17c7-b91d"
    }
   },
   "source": [
    "## OpenStack用OpenRCファイル設定\n",
    "\n",
    "`xxxxxxx`プロジェクト用のOpenRCファイルを事前にダウンロードしておくこと。  "
   ]
  },
  {
   "cell_type": "code",
   "execution_count": null,
   "metadata": {
    "lc_cell_meme": {
     "current": "8a6e6934-6f14-11ee-89fa-0242ac120005-4-dc84-0beb-c78c-7ba6",
     "history": [
      {
       "current": "8a6e6934-6f14-11ee-89fa-0242ac120005",
       "next": "8a6e698e-6f14-11ee-89fa-0242ac120005",
       "previous": "8a6e68d0-6f14-11ee-89fa-0242ac120005"
      },
      {
       "current": "8a6e6934-6f14-11ee-89fa-0242ac120005-1-dc84",
       "next": "d1f5984a-6f14-11ee-89fa-0242ac120005",
       "previous": "8a6e68d0-6f14-11ee-89fa-0242ac120005-1-da77"
      },
      {
       "current": "8a6e6934-6f14-11ee-89fa-0242ac120005-2-dc84-0beb",
       "next": "d1f5984a-6f14-11ee-89fa-0242ac120005-1-1832",
       "previous": "8a6e68d0-6f14-11ee-89fa-0242ac120005-2-da77-ec4d"
      },
      {
       "current": "8a6e6934-6f14-11ee-89fa-0242ac120005-3-dc84-0beb-c78c",
       "next": "d1f5984a-6f14-11ee-89fa-0242ac120005-2-1832-7e37",
       "previous": "8a6e68d0-6f14-11ee-89fa-0242ac120005-3-da77-ec4d-2435"
      },
      {
       "current": "8a6e6934-6f14-11ee-89fa-0242ac120005-4-dc84-0beb-c78c-7ba6",
       "next": "d1f5984a-6f14-11ee-89fa-0242ac120005-3-1832-7e37-11ae",
       "previous": "8a6e68d0-6f14-11ee-89fa-0242ac120005-4-da77-ec4d-2435-0936"
      }
     ],
     "next": "d1f5984a-6f14-11ee-89fa-0242ac120005-4-1832-7e37-11ae-a757",
     "previous": "8a6e68d0-6f14-11ee-89fa-0242ac120005-5-da77-ec4d-2435-0936-7da5"
    }
   },
   "outputs": [],
   "source": [
    "import os\n",
    "\n",
    "user_creds = os.path.expanduser('~/.keys/xxxxxxx-openrc.sh')\n",
    "\n",
    "assert os.path.exists(user_creds), '{} is not exist'.format(user_creds)"
   ]
  },
  {
   "cell_type": "code",
   "execution_count": null,
   "metadata": {
    "lc_cell_meme": {
     "current": "d1f5984a-6f14-11ee-89fa-0242ac120005-4-1832-7e37-11ae-a757",
     "history": [
      {
       "current": "d1f5984a-6f14-11ee-89fa-0242ac120005-1-1832",
       "next": "d1f599e4-6f14-11ee-89fa-0242ac120005",
       "previous": "8a6e6934-6f14-11ee-89fa-0242ac120005"
      },
      {
       "current": "d1f5984a-6f14-11ee-89fa-0242ac120005-2-1832-7e37",
       "next": "d1f599e4-6f14-11ee-89fa-0242ac120005-1-83de",
       "previous": "8a6e6934-6f14-11ee-89fa-0242ac120005-1-dc84"
      },
      {
       "current": "d1f5984a-6f14-11ee-89fa-0242ac120005-3-1832-7e37-11ae",
       "next": "d1f599e4-6f14-11ee-89fa-0242ac120005-2-83de-f0fe",
       "previous": "8a6e6934-6f14-11ee-89fa-0242ac120005-2-dc84-0beb"
      },
      {
       "current": "d1f5984a-6f14-11ee-89fa-0242ac120005-4-1832-7e37-11ae-a757",
       "next": "d1f599e4-6f14-11ee-89fa-0242ac120005-3-83de-f0fe-88d6",
       "previous": "8a6e6934-6f14-11ee-89fa-0242ac120005-3-dc84-0beb-c78c"
      }
     ],
     "next": "d1f599e4-6f14-11ee-89fa-0242ac120005-4-83de-f0fe-88d6-dc34",
     "previous": "8a6e6934-6f14-11ee-89fa-0242ac120005-4-dc84-0beb-c78c-7ba6"
    }
   },
   "outputs": [],
   "source": [
    "%env USER_CREDS={user_creds}"
   ]
  },
  {
   "cell_type": "code",
   "execution_count": null,
   "metadata": {
    "lc_cell_meme": {
     "current": "d1f599e4-6f14-11ee-89fa-0242ac120005-4-83de-f0fe-88d6-dc34",
     "history": [
      {
       "current": "d1f599e4-6f14-11ee-89fa-0242ac120005-1-83de",
       "next": "d1f59a8e-6f14-11ee-89fa-0242ac120005",
       "previous": "d1f5984a-6f14-11ee-89fa-0242ac120005"
      },
      {
       "current": "d1f599e4-6f14-11ee-89fa-0242ac120005-2-83de-f0fe",
       "next": "d1f59a8e-6f14-11ee-89fa-0242ac120005-1-55e6",
       "previous": "d1f5984a-6f14-11ee-89fa-0242ac120005-1-1832"
      },
      {
       "current": "d1f599e4-6f14-11ee-89fa-0242ac120005-3-83de-f0fe-88d6",
       "next": "d1f59a8e-6f14-11ee-89fa-0242ac120005-2-55e6-c948",
       "previous": "d1f5984a-6f14-11ee-89fa-0242ac120005-2-1832-7e37"
      },
      {
       "current": "d1f599e4-6f14-11ee-89fa-0242ac120005-4-83de-f0fe-88d6-dc34",
       "next": "d1f59a8e-6f14-11ee-89fa-0242ac120005-3-55e6-c948-837e",
       "previous": "d1f5984a-6f14-11ee-89fa-0242ac120005-3-1832-7e37-11ae"
      }
     ],
     "next": "d1f59a8e-6f14-11ee-89fa-0242ac120005-4-55e6-c948-837e-b1e9",
     "previous": "d1f5984a-6f14-11ee-89fa-0242ac120005-4-1832-7e37-11ae-a757"
    }
   },
   "outputs": [],
   "source": [
    "!ls -l {user_creds}"
   ]
  },
  {
   "cell_type": "markdown",
   "metadata": {
    "heading_collapsed": true,
    "lc_cell_meme": {
     "current": "d1f59a8e-6f14-11ee-89fa-0242ac120005-4-55e6-c948-837e-b1e9",
     "history": [
      {
       "current": "d1f59a8e-6f14-11ee-89fa-0242ac120005-1-55e6",
       "next": "d1f59b06-6f14-11ee-89fa-0242ac120005",
       "previous": "d1f599e4-6f14-11ee-89fa-0242ac120005"
      },
      {
       "current": "d1f59a8e-6f14-11ee-89fa-0242ac120005-2-55e6-c948",
       "next": "d1f59b06-6f14-11ee-89fa-0242ac120005-1-a952",
       "previous": "d1f599e4-6f14-11ee-89fa-0242ac120005-1-83de"
      },
      {
       "current": "d1f59a8e-6f14-11ee-89fa-0242ac120005-3-55e6-c948-837e",
       "next": "d1f59b06-6f14-11ee-89fa-0242ac120005-2-a952-ac64",
       "previous": "d1f599e4-6f14-11ee-89fa-0242ac120005-2-83de-f0fe"
      },
      {
       "current": "d1f59a8e-6f14-11ee-89fa-0242ac120005-4-55e6-c948-837e-b1e9",
       "next": "d1f59b06-6f14-11ee-89fa-0242ac120005-3-a952-ac64-30c5",
       "previous": "d1f599e4-6f14-11ee-89fa-0242ac120005-3-83de-f0fe-88d6"
      }
     ],
     "next": "d1f59b06-6f14-11ee-89fa-0242ac120005-4-a952-ac64-30c5-c85a",
     "previous": "d1f599e4-6f14-11ee-89fa-0242ac120005-4-83de-f0fe-88d6-dc34"
    }
   },
   "source": [
    "## openstackコマンド用ユーティリティ関数"
   ]
  },
  {
   "cell_type": "code",
   "execution_count": null,
   "metadata": {
    "hidden": true,
    "lc_cell_meme": {
     "current": "d1f59b06-6f14-11ee-89fa-0242ac120005-4-a952-ac64-30c5-c85a",
     "history": [
      {
       "current": "d1f59b06-6f14-11ee-89fa-0242ac120005-1-a952",
       "next": "d1f59b74-6f14-11ee-89fa-0242ac120005",
       "previous": "d1f59a8e-6f14-11ee-89fa-0242ac120005"
      },
      {
       "current": "d1f59b06-6f14-11ee-89fa-0242ac120005-2-a952-ac64",
       "next": "d1f59b74-6f14-11ee-89fa-0242ac120005-1-7c57",
       "previous": "d1f59a8e-6f14-11ee-89fa-0242ac120005-1-55e6"
      },
      {
       "current": "d1f59b06-6f14-11ee-89fa-0242ac120005-3-a952-ac64-30c5",
       "next": "d1f59b74-6f14-11ee-89fa-0242ac120005-2-7c57-822b",
       "previous": "d1f59a8e-6f14-11ee-89fa-0242ac120005-2-55e6-c948"
      },
      {
       "current": "d1f59b06-6f14-11ee-89fa-0242ac120005-4-a952-ac64-30c5-c85a",
       "next": "d1f59b74-6f14-11ee-89fa-0242ac120005-3-7c57-822b-8553",
       "previous": "d1f59a8e-6f14-11ee-89fa-0242ac120005-3-55e6-c948-837e"
      }
     ],
     "next": "d1f59b74-6f14-11ee-89fa-0242ac120005-4-7c57-822b-8553-460b",
     "previous": "d1f59a8e-6f14-11ee-89fa-0242ac120005-4-55e6-c948-837e-b1e9"
    }
   },
   "outputs": [],
   "source": [
    "def build_cmdline(param):\n",
    "    cmdline = ''\n",
    "    \n",
    "    for param_name, param_value in param.items():\n",
    "        if isinstance(param_value, dict):\n",
    "            for key, value in param_value.items():\n",
    "                cmdline += ' --{} {}={}'.format(param_name, key, value)\n",
    "        elif isinstance(param_value, list):\n",
    "            for item in param_value:\n",
    "                cmdline += ' --{} {}'.format(param_name, item)\n",
    "        elif isinstance(param_value, bool):\n",
    "            if param_value:\n",
    "                cmdline += ' --{}'.format(param_name)\n",
    "        else:\n",
    "            cmdline += ' --{} {}'.format(param_name, param_value)\n",
    "\n",
    "    return cmdline"
   ]
  },
  {
   "cell_type": "code",
   "execution_count": null,
   "metadata": {
    "hidden": true,
    "lc_cell_meme": {
     "current": "d1f59b74-6f14-11ee-89fa-0242ac120005-4-7c57-822b-8553-460b",
     "history": [
      {
       "current": "d1f59b74-6f14-11ee-89fa-0242ac120005",
       "next": "d1f59bec-6f14-11ee-89fa-0242ac120005",
       "previous": "d1f59b06-6f14-11ee-89fa-0242ac120005"
      },
      {
       "current": "d1f59b74-6f14-11ee-89fa-0242ac120005-1-7c57",
       "next": "d1f59bec-6f14-11ee-89fa-0242ac120005-1-da5a",
       "previous": "d1f59b06-6f14-11ee-89fa-0242ac120005"
      },
      {
       "current": "d1f59b74-6f14-11ee-89fa-0242ac120005-2-7c57-822b",
       "next": "d1f59bec-6f14-11ee-89fa-0242ac120005-2-da5a-5a17",
       "previous": "d1f59b06-6f14-11ee-89fa-0242ac120005-1-a952"
      },
      {
       "current": "d1f59b74-6f14-11ee-89fa-0242ac120005-3-7c57-822b-8553",
       "next": "d1f59bec-6f14-11ee-89fa-0242ac120005-3-da5a-5a17-16f4",
       "previous": "d1f59b06-6f14-11ee-89fa-0242ac120005-2-a952-ac64"
      },
      {
       "current": "d1f59b74-6f14-11ee-89fa-0242ac120005-4-7c57-822b-8553-460b",
       "next": "d1f59bec-6f14-11ee-89fa-0242ac120005-4-da5a-5a17-16f4-219c",
       "previous": "d1f59b06-6f14-11ee-89fa-0242ac120005-3-a952-ac64-30c5"
      }
     ],
     "next": "d1f59bec-6f14-11ee-89fa-0242ac120005-5-da5a-5a17-16f4-219c-b1e7",
     "previous": "d1f59b06-6f14-11ee-89fa-0242ac120005-4-a952-ac64-30c5-c85a"
    }
   },
   "outputs": [],
   "source": [
    "import json\n",
    "\n",
    "def run_openstack(cmd):\n",
    "    print('EXEC: {}'.format(cmd))\n",
    "    out = !source {user_creds} && {cmd}\n",
    "    print('OUTPUT: {}'.format('\\n'.join(out)))\n",
    "    return json.loads('\\n'.join(out))"
   ]
  },
  {
   "cell_type": "markdown",
   "metadata": {
    "hidden": true,
    "lc_cell_meme": {
     "current": "d1f59bec-6f14-11ee-89fa-0242ac120005-5-da5a-5a17-16f4-219c-b1e7",
     "history": [
      {
       "current": "d1f59bec-6f14-11ee-89fa-0242ac120005-2-da5a-5a17",
       "next": "8a6e698e-6f14-11ee-89fa-0242ac120005",
       "previous": "d1f59b74-6f14-11ee-89fa-0242ac120005"
      },
      {
       "current": "d1f59bec-6f14-11ee-89fa-0242ac120005-3-da5a-5a17-16f4",
       "next": "8a6e698e-6f14-11ee-89fa-0242ac120005-1-6b16",
       "previous": "d1f59b74-6f14-11ee-89fa-0242ac120005-1-7c57"
      },
      {
       "current": "d1f59bec-6f14-11ee-89fa-0242ac120005-4-da5a-5a17-16f4-219c",
       "next": "8a6e698e-6f14-11ee-89fa-0242ac120005-2-6b16-6bc7",
       "previous": "d1f59b74-6f14-11ee-89fa-0242ac120005-2-7c57-822b"
      },
      {
       "current": "d1f59bec-6f14-11ee-89fa-0242ac120005-5-da5a-5a17-16f4-219c-b1e7",
       "next": "8a6e698e-6f14-11ee-89fa-0242ac120005-3-6b16-6bc7-f53f",
       "previous": "d1f59b74-6f14-11ee-89fa-0242ac120005-3-7c57-822b-8553"
      }
     ],
     "next": "8a6e698e-6f14-11ee-89fa-0242ac120005-4-6b16-6bc7-f53f-1692",
     "previous": "d1f59b74-6f14-11ee-89fa-0242ac120005-4-7c57-822b-8553-460b"
    }
   },
   "source": [
    "テスト"
   ]
  },
  {
   "cell_type": "code",
   "execution_count": null,
   "metadata": {
    "hidden": true,
    "lc_cell_meme": {
     "current": "8a6e698e-6f14-11ee-89fa-0242ac120005-4-6b16-6bc7-f53f-1692",
     "history": [
      {
       "current": "8a6e698e-6f14-11ee-89fa-0242ac120005",
       "next": "8a6e69fc-6f14-11ee-89fa-0242ac120005",
       "previous": "8a6e6934-6f14-11ee-89fa-0242ac120005"
      },
      {
       "current": "8a6e698e-6f14-11ee-89fa-0242ac120005",
       "next": "8a6e69fc-6f14-11ee-89fa-0242ac120005",
       "previous": "d1f59bec-6f14-11ee-89fa-0242ac120005"
      },
      {
       "current": "8a6e698e-6f14-11ee-89fa-0242ac120005-1-6b16",
       "next": "06afe9a8-98b0-11ea-8d02-0242ac120007-3-a1c1-faf0-55bd",
       "previous": "d1f59bec-6f14-11ee-89fa-0242ac120005-1-da5a"
      },
      {
       "current": "8a6e698e-6f14-11ee-89fa-0242ac120005-2-6b16-6bc7",
       "next": "06afe9a8-98b0-11ea-8d02-0242ac120007-4-a1c1-faf0-55bd-c3c6",
       "previous": "d1f59bec-6f14-11ee-89fa-0242ac120005-2-da5a-5a17"
      },
      {
       "current": "8a6e698e-6f14-11ee-89fa-0242ac120005-3-6b16-6bc7-f53f",
       "next": "06afe9a8-98b0-11ea-8d02-0242ac120007-5-a1c1-faf0-55bd-c3c6-2fe9",
       "previous": "d1f59bec-6f14-11ee-89fa-0242ac120005-3-da5a-5a17-16f4"
      },
      {
       "current": "8a6e698e-6f14-11ee-89fa-0242ac120005-4-6b16-6bc7-f53f-1692",
       "next": "06afe9a8-98b0-11ea-8d02-0242ac120007-6-a1c1-faf0-55bd-c3c6-2fe9-c8a9",
       "previous": "d1f59bec-6f14-11ee-89fa-0242ac120005-4-da5a-5a17-16f4-219c"
      }
     ],
     "next": "06afe9a8-98b0-11ea-8d02-0242ac120007-7-a1c1-faf0-55bd-c3c6-2fe9-c8a9-01b1",
     "previous": "d1f59bec-6f14-11ee-89fa-0242ac120005-5-da5a-5a17-16f4-219c-b1e7"
    }
   },
   "outputs": [],
   "source": [
    "run_openstack('openstack flavor list -f json' + build_cmdline({'all': True}))"
   ]
  },
  {
   "cell_type": "markdown",
   "metadata": {
    "lc_cell_meme": {
     "current": "06afe9a8-98b0-11ea-8d02-0242ac120007-7-a1c1-faf0-55bd-c3c6-2fe9-c8a9-01b1",
     "history": [
      {
       "current": "06afe9a8-98b0-11ea-8d02-0242ac120007",
       "next": "7899411a-9692-11ea-8d02-0242ac120007",
       "previous": "d1bcb8ac-9599-11ea-8d02-0242ac120007"
      },
      {
       "current": "06afe9a8-98b0-11ea-8d02-0242ac120007-1-a1c1",
       "next": "7899411a-9692-11ea-8d02-0242ac120007",
       "previous": "250e7a70-98f3-11ea-8d02-0242ac120007"
      },
      {
       "current": "06afe9a8-98b0-11ea-8d02-0242ac120007-2-a1c1-faf0",
       "next": "7899411a-9692-11ea-8d02-0242ac120007-1-2cd2",
       "previous": "250e7a70-98f3-11ea-8d02-0242ac120007-1-f0b4"
      },
      {
       "current": "06afe9a8-98b0-11ea-8d02-0242ac120007-2-a1c1-faf0",
       "next": "7899411a-9692-11ea-8d02-0242ac120007-2-2cd2-395d",
       "previous": "250e7a70-98f3-11ea-8d02-0242ac120007-2-f0b4-6edf"
      },
      {
       "current": "06afe9a8-98b0-11ea-8d02-0242ac120007-2-a1c1-faf0",
       "next": "04bfc54e-defc-11eb-b29f-0242ac120008",
       "previous": "250e7a70-98f3-11ea-8d02-0242ac120007-2-f0b4-6edf"
      },
      {
       "current": "06afe9a8-98b0-11ea-8d02-0242ac120007-3-a1c1-faf0-55bd",
       "next": "329a4046-dfad-11eb-b29f-0242ac120008",
       "previous": "250e7a70-98f3-11ea-8d02-0242ac120007-2-f0b4-6edf"
      },
      {
       "current": "06afe9a8-98b0-11ea-8d02-0242ac120007-3-a1c1-faf0-55bd",
       "next": "329a4046-dfad-11eb-b29f-0242ac120008-1-1375",
       "previous": "250e7a70-98f3-11ea-8d02-0242ac120007-3-f0b4-6edf-9d40"
      },
      {
       "current": "06afe9a8-98b0-11ea-8d02-0242ac120007-3-a1c1-faf0-55bd",
       "next": "329a4046-dfad-11eb-b29f-0242ac120008-1-1375",
       "previous": "8a6e69fc-6f14-11ee-89fa-0242ac120005"
      },
      {
       "current": "06afe9a8-98b0-11ea-8d02-0242ac120007-4-a1c1-faf0-55bd-c3c6",
       "next": "329a4046-dfad-11eb-b29f-0242ac120008-1-1375",
       "previous": "8a6e698e-6f14-11ee-89fa-0242ac120005"
      },
      {
       "current": "06afe9a8-98b0-11ea-8d02-0242ac120007-5-a1c1-faf0-55bd-c3c6-2fe9",
       "next": "329a4046-dfad-11eb-b29f-0242ac120008-2-1375-15b7",
       "previous": "8a6e698e-6f14-11ee-89fa-0242ac120005-1-6b16"
      },
      {
       "current": "06afe9a8-98b0-11ea-8d02-0242ac120007-6-a1c1-faf0-55bd-c3c6-2fe9-c8a9",
       "next": "329a4046-dfad-11eb-b29f-0242ac120008-3-1375-15b7-d126",
       "previous": "8a6e698e-6f14-11ee-89fa-0242ac120005-2-6b16-6bc7"
      },
      {
       "current": "06afe9a8-98b0-11ea-8d02-0242ac120007-7-a1c1-faf0-55bd-c3c6-2fe9-c8a9-01b1",
       "next": "329a4046-dfad-11eb-b29f-0242ac120008-4-1375-15b7-d126-49f1",
       "previous": "8a6e698e-6f14-11ee-89fa-0242ac120005-3-6b16-6bc7-f53f"
      }
     ],
     "next": "329a4046-dfad-11eb-b29f-0242ac120008-5-1375-15b7-d126-49f1-27ce",
     "previous": "8a6e698e-6f14-11ee-89fa-0242ac120005-4-6b16-6bc7-f53f-1692"
    }
   },
   "source": [
    "## デプロイされたCephノード情報の取得"
   ]
  },
  {
   "cell_type": "markdown",
   "metadata": {
    "lc_cell_meme": {
     "current": "329a4046-dfad-11eb-b29f-0242ac120008-5-1375-15b7-d126-49f1-27ce",
     "history": [
      {
       "current": "329a4046-dfad-11eb-b29f-0242ac120008-1-1375",
       "next": "329a4348-dfad-11eb-b29f-0242ac120008",
       "previous": "06afe9a8-98b0-11ea-8d02-0242ac120007-2-a1c1-faf0"
      },
      {
       "current": "329a4046-dfad-11eb-b29f-0242ac120008-1-1375",
       "next": "329a4348-dfad-11eb-b29f-0242ac120008-1-ed21",
       "previous": "06afe9a8-98b0-11ea-8d02-0242ac120007-3-a1c1-faf0-55bd"
      },
      {
       "current": "329a4046-dfad-11eb-b29f-0242ac120008-2-1375-15b7",
       "next": "197c8f3e-6f15-11ee-89fa-0242ac120005",
       "previous": "06afe9a8-98b0-11ea-8d02-0242ac120007-3-a1c1-faf0-55bd"
      },
      {
       "current": "329a4046-dfad-11eb-b29f-0242ac120008-3-1375-15b7-d126",
       "next": "197c8f3e-6f15-11ee-89fa-0242ac120005-1-45ba",
       "previous": "06afe9a8-98b0-11ea-8d02-0242ac120007-4-a1c1-faf0-55bd-c3c6"
      },
      {
       "current": "329a4046-dfad-11eb-b29f-0242ac120008-4-1375-15b7-d126-49f1",
       "next": "197c8f3e-6f15-11ee-89fa-0242ac120005-2-45ba-12ba",
       "previous": "06afe9a8-98b0-11ea-8d02-0242ac120007-5-a1c1-faf0-55bd-c3c6-2fe9"
      },
      {
       "current": "329a4046-dfad-11eb-b29f-0242ac120008-5-1375-15b7-d126-49f1-27ce",
       "next": "197c8f3e-6f15-11ee-89fa-0242ac120005-3-45ba-12ba-0291",
       "previous": "06afe9a8-98b0-11ea-8d02-0242ac120007-6-a1c1-faf0-55bd-c3c6-2fe9-c8a9"
      }
     ],
     "next": "197c8f3e-6f15-11ee-89fa-0242ac120005-4-45ba-12ba-0291-ffa6",
     "previous": "06afe9a8-98b0-11ea-8d02-0242ac120007-7-a1c1-faf0-55bd-c3c6-2fe9-c8a9-01b1"
    }
   },
   "source": [
    "ストレージノードを特定するにあたり、ノード名称が　ceph-nodexxx （xxxの部分は、右寄せ0埋めの数字3桁）というルールに従っていることを前提としている。<br>\n",
    " 例：ceph-node001<br>\n",
    " このノード名称ルールは、構築するCephクラスタ毎に変えるため、以下で定義する。"
   ]
  },
  {
   "cell_type": "code",
   "execution_count": null,
   "metadata": {
    "lc_cell_meme": {
     "current": "197c8f3e-6f15-11ee-89fa-0242ac120005-4-45ba-12ba-0291-ffa6",
     "history": [
      {
       "current": "197c8f3e-6f15-11ee-89fa-0242ac120005-1-45ba",
       "next": "329a4348-dfad-11eb-b29f-0242ac120008-1-ed21",
       "previous": "329a4046-dfad-11eb-b29f-0242ac120008-1-1375"
      },
      {
       "current": "197c8f3e-6f15-11ee-89fa-0242ac120005-2-45ba-12ba",
       "next": "329a4348-dfad-11eb-b29f-0242ac120008-2-ed21-3cbc",
       "previous": "329a4046-dfad-11eb-b29f-0242ac120008-2-1375-15b7"
      },
      {
       "current": "197c8f3e-6f15-11ee-89fa-0242ac120005-3-45ba-12ba-0291",
       "next": "329a4348-dfad-11eb-b29f-0242ac120008-3-ed21-3cbc-d0ce",
       "previous": "329a4046-dfad-11eb-b29f-0242ac120008-3-1375-15b7-d126"
      },
      {
       "current": "197c8f3e-6f15-11ee-89fa-0242ac120005-4-45ba-12ba-0291-ffa6",
       "next": "329a4348-dfad-11eb-b29f-0242ac120008-4-ed21-3cbc-d0ce-2e35",
       "previous": "329a4046-dfad-11eb-b29f-0242ac120008-4-1375-15b7-d126-49f1"
      }
     ],
     "next": "329a4348-dfad-11eb-b29f-0242ac120008-5-ed21-3cbc-d0ce-2e35-6826",
     "previous": "329a4046-dfad-11eb-b29f-0242ac120008-5-1375-15b7-d126-49f1-27ce"
    }
   },
   "outputs": [],
   "source": [
    "# 初期化対象のインスタンス名称を設定する\n",
    "raise Exception('この先手作業が必要です')"
   ]
  },
  {
   "cell_type": "code",
   "execution_count": null,
   "metadata": {
    "lc_cell_meme": {
     "current": "329a4348-dfad-11eb-b29f-0242ac120008-5-ed21-3cbc-d0ce-2e35-6826",
     "history": [
      {
       "current": "329a4348-dfad-11eb-b29f-0242ac120008-1-ed21",
       "next": "04bfc54e-defc-11eb-b29f-0242ac120008",
       "previous": "329a4046-dfad-11eb-b29f-0242ac120008"
      },
      {
       "current": "329a4348-dfad-11eb-b29f-0242ac120008-1-ed21",
       "next": "04bfc54e-defc-11eb-b29f-0242ac120008-1-5336",
       "previous": "329a4046-dfad-11eb-b29f-0242ac120008-1-1375"
      },
      {
       "current": "329a4348-dfad-11eb-b29f-0242ac120008-2-ed21-3cbc",
       "next": "197c8ff2-6f15-11ee-89fa-0242ac120005",
       "previous": "197c8f3e-6f15-11ee-89fa-0242ac120005"
      },
      {
       "current": "329a4348-dfad-11eb-b29f-0242ac120008-3-ed21-3cbc-d0ce",
       "next": "197c8ff2-6f15-11ee-89fa-0242ac120005-1-36c8",
       "previous": "197c8f3e-6f15-11ee-89fa-0242ac120005-1-45ba"
      },
      {
       "current": "329a4348-dfad-11eb-b29f-0242ac120008-4-ed21-3cbc-d0ce-2e35",
       "next": "197c8ff2-6f15-11ee-89fa-0242ac120005-2-36c8-91ef",
       "previous": "197c8f3e-6f15-11ee-89fa-0242ac120005-2-45ba-12ba"
      },
      {
       "current": "329a4348-dfad-11eb-b29f-0242ac120008-5-ed21-3cbc-d0ce-2e35-6826",
       "next": "197c8ff2-6f15-11ee-89fa-0242ac120005-3-36c8-91ef-0254",
       "previous": "197c8f3e-6f15-11ee-89fa-0242ac120005-3-45ba-12ba-0291"
      }
     ],
     "next": "197c8ff2-6f15-11ee-89fa-0242ac120005-4-36c8-91ef-0254-73bc",
     "previous": "197c8f3e-6f15-11ee-89fa-0242ac120005-4-45ba-12ba-0291-ffa6"
    }
   },
   "outputs": [],
   "source": [
    "import pandas as pd\n",
    "import re\n",
    "\n",
    "# 対象インスタンス名称マッチングルール\n",
    "name_match_rule = r'ceph-xxx-node-[0-9]+'"
   ]
  },
  {
   "cell_type": "markdown",
   "metadata": {
    "heading_collapsed": true,
    "lc_cell_meme": {
     "current": "197c8ff2-6f15-11ee-89fa-0242ac120005-4-36c8-91ef-0254-73bc",
     "history": [
      {
       "current": "197c8ff2-6f15-11ee-89fa-0242ac120005-1-36c8",
       "next": "197c9024-6f15-11ee-89fa-0242ac120005",
       "previous": "329a4348-dfad-11eb-b29f-0242ac120008-1-ed21"
      },
      {
       "current": "197c8ff2-6f15-11ee-89fa-0242ac120005-2-36c8-91ef",
       "next": "197c9024-6f15-11ee-89fa-0242ac120005-1-e998",
       "previous": "329a4348-dfad-11eb-b29f-0242ac120008-2-ed21-3cbc"
      },
      {
       "current": "197c8ff2-6f15-11ee-89fa-0242ac120005-3-36c8-91ef-0254",
       "next": "197c9024-6f15-11ee-89fa-0242ac120005-2-e998-f9e0",
       "previous": "329a4348-dfad-11eb-b29f-0242ac120008-3-ed21-3cbc-d0ce"
      },
      {
       "current": "197c8ff2-6f15-11ee-89fa-0242ac120005-4-36c8-91ef-0254-73bc",
       "next": "197c9024-6f15-11ee-89fa-0242ac120005-3-e998-f9e0-5469",
       "previous": "329a4348-dfad-11eb-b29f-0242ac120008-4-ed21-3cbc-d0ce-2e35"
      }
     ],
     "next": "197c9024-6f15-11ee-89fa-0242ac120005-4-e998-f9e0-5469-29c0",
     "previous": "329a4348-dfad-11eb-b29f-0242ac120008-5-ed21-3cbc-d0ce-2e35-6826"
    }
   },
   "source": [
    "## OpenStack Ironicからノード情報の取得"
   ]
  },
  {
   "cell_type": "code",
   "execution_count": null,
   "metadata": {
    "hidden": true,
    "lc_cell_meme": {
     "current": "197c9024-6f15-11ee-89fa-0242ac120005-4-e998-f9e0-5469-29c0",
     "history": [
      {
       "current": "197c9024-6f15-11ee-89fa-0242ac120005-1-e998",
       "next": "197c904c-6f15-11ee-89fa-0242ac120005",
       "previous": "197c8ff2-6f15-11ee-89fa-0242ac120005"
      },
      {
       "current": "197c9024-6f15-11ee-89fa-0242ac120005-2-e998-f9e0",
       "next": "197c904c-6f15-11ee-89fa-0242ac120005-1-3bd6",
       "previous": "197c8ff2-6f15-11ee-89fa-0242ac120005-1-36c8"
      },
      {
       "current": "197c9024-6f15-11ee-89fa-0242ac120005-3-e998-f9e0-5469",
       "next": "197c904c-6f15-11ee-89fa-0242ac120005-2-3bd6-cd38",
       "previous": "197c8ff2-6f15-11ee-89fa-0242ac120005-2-36c8-91ef"
      },
      {
       "current": "197c9024-6f15-11ee-89fa-0242ac120005-4-e998-f9e0-5469-29c0",
       "next": "197c904c-6f15-11ee-89fa-0242ac120005-3-3bd6-cd38-22d9",
       "previous": "197c8ff2-6f15-11ee-89fa-0242ac120005-3-36c8-91ef-0254"
      }
     ],
     "next": "197c904c-6f15-11ee-89fa-0242ac120005-4-3bd6-cd38-22d9-bf7b",
     "previous": "197c8ff2-6f15-11ee-89fa-0242ac120005-4-36c8-91ef-0254-73bc"
    },
    "scrolled": true
   },
   "outputs": [],
   "source": [
    "cmd = \"openstack baremetal node list -f json --long\"\n",
    "nodes = run_openstack(cmd)"
   ]
  },
  {
   "cell_type": "code",
   "execution_count": null,
   "metadata": {
    "hidden": true,
    "lc_cell_meme": {
     "current": "197c904c-6f15-11ee-89fa-0242ac120005-4-3bd6-cd38-22d9-bf7b",
     "history": [
      {
       "current": "197c904c-6f15-11ee-89fa-0242ac120005-1-3bd6",
       "next": "197c906a-6f15-11ee-89fa-0242ac120005",
       "previous": "197c9024-6f15-11ee-89fa-0242ac120005"
      },
      {
       "current": "197c904c-6f15-11ee-89fa-0242ac120005-2-3bd6-cd38",
       "next": "197c906a-6f15-11ee-89fa-0242ac120005-1-679d",
       "previous": "197c9024-6f15-11ee-89fa-0242ac120005-1-e998"
      },
      {
       "current": "197c904c-6f15-11ee-89fa-0242ac120005-3-3bd6-cd38-22d9",
       "next": "197c906a-6f15-11ee-89fa-0242ac120005-2-679d-2dde",
       "previous": "197c9024-6f15-11ee-89fa-0242ac120005-2-e998-f9e0"
      },
      {
       "current": "197c904c-6f15-11ee-89fa-0242ac120005-4-3bd6-cd38-22d9-bf7b",
       "next": "197c906a-6f15-11ee-89fa-0242ac120005-3-679d-2dde-7dd6",
       "previous": "197c9024-6f15-11ee-89fa-0242ac120005-3-e998-f9e0-5469"
      }
     ],
     "next": "197c906a-6f15-11ee-89fa-0242ac120005-4-679d-2dde-7dd6-4d70",
     "previous": "197c9024-6f15-11ee-89fa-0242ac120005-4-e998-f9e0-5469-29c0"
    },
    "scrolled": true
   },
   "outputs": [],
   "source": [
    "import pandas as pd\n",
    "import re\n",
    "\n",
    "for node in nodes:\n",
    "    instance_uuid = node.get(\"Instance UUID\", None)\n",
    "    if instance_uuid is None:\n",
    "        continue\n",
    "        \n",
    "    node[\"instance_name\"] = node[\"Instance Info\"][\"display_name\"]\n",
    "\n",
    "pd.set_option('display.max_rows', None)\n",
    "pd.DataFrame(nodes, columns=['Instance UUID', 'instance_name', 'UUID', 'Maintenance', 'Provisioning State', 'Power State', 'Name'])"
   ]
  },
  {
   "cell_type": "code",
   "execution_count": null,
   "metadata": {
    "hidden": true,
    "lc_cell_meme": {
     "current": "197c906a-6f15-11ee-89fa-0242ac120005-4-679d-2dde-7dd6-4d70",
     "history": [
      {
       "current": "197c906a-6f15-11ee-89fa-0242ac120005-1-679d",
       "next": "197c9092-6f15-11ee-89fa-0242ac120005",
       "previous": "197c904c-6f15-11ee-89fa-0242ac120005"
      },
      {
       "current": "197c906a-6f15-11ee-89fa-0242ac120005-2-679d-2dde",
       "next": "197c9092-6f15-11ee-89fa-0242ac120005-1-ac2f",
       "previous": "197c904c-6f15-11ee-89fa-0242ac120005-1-3bd6"
      },
      {
       "current": "197c906a-6f15-11ee-89fa-0242ac120005-3-679d-2dde-7dd6",
       "next": "197c9092-6f15-11ee-89fa-0242ac120005-2-ac2f-b618",
       "previous": "197c904c-6f15-11ee-89fa-0242ac120005-2-3bd6-cd38"
      },
      {
       "current": "197c906a-6f15-11ee-89fa-0242ac120005-4-679d-2dde-7dd6-4d70",
       "next": "197c9092-6f15-11ee-89fa-0242ac120005-3-ac2f-b618-58df",
       "previous": "197c904c-6f15-11ee-89fa-0242ac120005-3-3bd6-cd38-22d9"
      }
     ],
     "next": "197c9092-6f15-11ee-89fa-0242ac120005-4-ac2f-b618-58df-449a",
     "previous": "197c904c-6f15-11ee-89fa-0242ac120005-4-3bd6-cd38-22d9-bf7b"
    }
   },
   "outputs": [],
   "source": [
    "cmd = \"openstack server list -f json --long\"\n",
    "nova_server_map = run_openstack(cmd)"
   ]
  },
  {
   "cell_type": "code",
   "execution_count": null,
   "metadata": {
    "hidden": true,
    "lc_cell_meme": {
     "current": "197c9092-6f15-11ee-89fa-0242ac120005-4-ac2f-b618-58df-449a",
     "history": [
      {
       "current": "197c9092-6f15-11ee-89fa-0242ac120005",
       "next": "06afec50-98b0-11ea-8d02-0242ac120007-3-5828-a305-b690",
       "previous": "197c906a-6f15-11ee-89fa-0242ac120005"
      },
      {
       "current": "197c9092-6f15-11ee-89fa-0242ac120005-1-ac2f",
       "next": "7007693c-7956-11ee-89fa-0242ac120005",
       "previous": "197c906a-6f15-11ee-89fa-0242ac120005"
      },
      {
       "current": "197c9092-6f15-11ee-89fa-0242ac120005-2-ac2f-b618",
       "next": "7007693c-7956-11ee-89fa-0242ac120005-1-4a38",
       "previous": "197c906a-6f15-11ee-89fa-0242ac120005-1-679d"
      },
      {
       "current": "197c9092-6f15-11ee-89fa-0242ac120005-3-ac2f-b618-58df",
       "next": "7007693c-7956-11ee-89fa-0242ac120005-2-4a38-d08c",
       "previous": "197c906a-6f15-11ee-89fa-0242ac120005-2-679d-2dde"
      },
      {
       "current": "197c9092-6f15-11ee-89fa-0242ac120005-4-ac2f-b618-58df-449a",
       "next": "7007693c-7956-11ee-89fa-0242ac120005-3-4a38-d08c-0e9f",
       "previous": "197c906a-6f15-11ee-89fa-0242ac120005-3-679d-2dde-7dd6"
      }
     ],
     "next": "7007693c-7956-11ee-89fa-0242ac120005-4-4a38-d08c-0e9f-fc95",
     "previous": "197c906a-6f15-11ee-89fa-0242ac120005-4-679d-2dde-7dd6-4d70"
    }
   },
   "outputs": [],
   "source": [
    "node_list = []\n",
    "for server in nova_server_map:\n",
    "    node_id = server['ID']\n",
    "    if re.match(name_match_rule, server['Name']) is None:\n",
    "        continue\n",
    "    for node in nodes:\n",
    "        if node['Instance UUID'] == node_id:\n",
    "            node_info = {}\n",
    "            node_list.append(node_info)\n",
    "            node_info['name'] = server['Name']\n",
    "            node_info['node_name'] = node['Name']\n",
    "            instance_ip_info = instance_ip_map.get(server['Name'], None)\n",
    "            if instance_ip_info is not None:\n",
    "                node_info['instance_ip'] = instance_ip_info.get('ipv4', None)\n",
    "            else:\n",
    "                node_info['instance_ip'] = None\n",
    "            address = server['Networks']\n",
    "            prov_net = address['provisioning-net']\n",
    "            for addr in prov_net:\n",
    "                node_info['prov_ip'] = addr\n",
    "\n",
    "pd.DataFrame(node_list)"
   ]
  },
  {
   "cell_type": "code",
   "execution_count": null,
   "metadata": {
    "hidden": true,
    "lc_cell_meme": {
     "current": "7007693c-7956-11ee-89fa-0242ac120005-4-4a38-d08c-0e9f-fc95",
     "history": [
      {
       "current": "7007693c-7956-11ee-89fa-0242ac120005-1-4a38",
       "next": "06afec50-98b0-11ea-8d02-0242ac120007-3-5828-a305-b690",
       "previous": "197c9092-6f15-11ee-89fa-0242ac120005"
      },
      {
       "current": "7007693c-7956-11ee-89fa-0242ac120005-2-4a38-d08c",
       "next": "06afec50-98b0-11ea-8d02-0242ac120007-4-5828-a305-b690-32c8",
       "previous": "197c9092-6f15-11ee-89fa-0242ac120005-1-ac2f"
      },
      {
       "current": "7007693c-7956-11ee-89fa-0242ac120005-3-4a38-d08c-0e9f",
       "next": "06afec50-98b0-11ea-8d02-0242ac120007-5-5828-a305-b690-32c8-8cc4",
       "previous": "197c9092-6f15-11ee-89fa-0242ac120005-2-ac2f-b618"
      },
      {
       "current": "7007693c-7956-11ee-89fa-0242ac120005-4-4a38-d08c-0e9f-fc95",
       "next": "06afec50-98b0-11ea-8d02-0242ac120007-6-5828-a305-b690-32c8-8cc4-6118",
       "previous": "197c9092-6f15-11ee-89fa-0242ac120005-3-ac2f-b618-58df"
      }
     ],
     "next": "06afec50-98b0-11ea-8d02-0242ac120007-7-5828-a305-b690-32c8-8cc4-6118-cb52",
     "previous": "197c9092-6f15-11ee-89fa-0242ac120005-4-ac2f-b618-58df-449a"
    }
   },
   "outputs": [],
   "source": [
    "# nameをキーにしたノード情報生成\n",
    "node_map = {}\n",
    "for node in node_list:\n",
    "    node_map[node['name']] = node"
   ]
  },
  {
   "cell_type": "markdown",
   "metadata": {
    "lc_cell_meme": {
     "current": "06afec50-98b0-11ea-8d02-0242ac120007-7-5828-a305-b690-32c8-8cc4-6118-cb52",
     "history": [
      {
       "current": "06afec50-98b0-11ea-8d02-0242ac120007-1-5828",
       "next": "8a48d590-98a1-11ea-8d02-0242ac120007",
       "previous": "357fc83a-969d-11ea-8d02-0242ac120007"
      },
      {
       "current": "06afec50-98b0-11ea-8d02-0242ac120007-2-5828-a305",
       "next": "8a48d590-98a1-11ea-8d02-0242ac120007-1-1c0f",
       "previous": "357fc83a-969d-11ea-8d02-0242ac120007-1-9a36"
      },
      {
       "current": "06afec50-98b0-11ea-8d02-0242ac120007-3-5828-a305-b690",
       "next": "8a48d590-98a1-11ea-8d02-0242ac120007-2-1c0f-5b25",
       "previous": "357fc83a-969d-11ea-8d02-0242ac120007-2-9a36-95b8"
      },
      {
       "current": "06afec50-98b0-11ea-8d02-0242ac120007-3-5828-a305-b690",
       "next": "8a48d590-98a1-11ea-8d02-0242ac120007-3-1c0f-5b25-d7c0",
       "previous": "357fc83a-969d-11ea-8d02-0242ac120007-3-9a36-95b8-3fa9"
      },
      {
       "current": "06afec50-98b0-11ea-8d02-0242ac120007-3-5828-a305-b690",
       "next": "8a48d590-98a1-11ea-8d02-0242ac120007-3-1c0f-5b25-d7c0",
       "previous": "197c9092-6f15-11ee-89fa-0242ac120005"
      },
      {
       "current": "06afec50-98b0-11ea-8d02-0242ac120007-4-5828-a305-b690-32c8",
       "next": "8a48d590-98a1-11ea-8d02-0242ac120007-3-1c0f-5b25-d7c0",
       "previous": "7007693c-7956-11ee-89fa-0242ac120005"
      },
      {
       "current": "06afec50-98b0-11ea-8d02-0242ac120007-5-5828-a305-b690-32c8-8cc4",
       "next": "8a48d590-98a1-11ea-8d02-0242ac120007-4-1c0f-5b25-d7c0-161e",
       "previous": "7007693c-7956-11ee-89fa-0242ac120005-1-4a38"
      },
      {
       "current": "06afec50-98b0-11ea-8d02-0242ac120007-6-5828-a305-b690-32c8-8cc4-6118",
       "next": "8a48d590-98a1-11ea-8d02-0242ac120007-5-1c0f-5b25-d7c0-161e-9a3a",
       "previous": "7007693c-7956-11ee-89fa-0242ac120005-2-4a38-d08c"
      },
      {
       "current": "06afec50-98b0-11ea-8d02-0242ac120007-7-5828-a305-b690-32c8-8cc4-6118-cb52",
       "next": "8a48d590-98a1-11ea-8d02-0242ac120007-6-1c0f-5b25-d7c0-161e-9a3a-bf44",
       "previous": "7007693c-7956-11ee-89fa-0242ac120005-3-4a38-d08c-0e9f"
      }
     ],
     "next": "8a48d590-98a1-11ea-8d02-0242ac120007-7-1c0f-5b25-d7c0-161e-9a3a-bf44-63d5",
     "previous": "7007693c-7956-11ee-89fa-0242ac120005-4-4a38-d08c-0e9f-fc95"
    }
   },
   "source": [
    "## 対象Cephノード情報の取得"
   ]
  },
  {
   "cell_type": "markdown",
   "metadata": {
    "lc_cell_meme": {
     "current": "8a48d590-98a1-11ea-8d02-0242ac120007-7-1c0f-5b25-d7c0-161e-9a3a-bf44-63d5",
     "history": [
      {
       "current": "8a48d590-98a1-11ea-8d02-0242ac120007",
       "next": "8a48d90a-98a1-11ea-8d02-0242ac120007",
       "previous": "357fc83a-969d-11ea-8d02-0242ac120007"
      },
      {
       "current": "8a48d590-98a1-11ea-8d02-0242ac120007",
       "next": "8a48d90a-98a1-11ea-8d02-0242ac120007",
       "previous": "06afec50-98b0-11ea-8d02-0242ac120007"
      },
      {
       "current": "8a48d590-98a1-11ea-8d02-0242ac120007",
       "next": "a85c1dda-959a-11ea-8d02-0242ac120007",
       "previous": "06afec50-98b0-11ea-8d02-0242ac120007"
      },
      {
       "current": "8a48d590-98a1-11ea-8d02-0242ac120007-1-1c0f",
       "next": "e879cdac-95bf-11ea-8d02-0242ac120007",
       "previous": "06afec50-98b0-11ea-8d02-0242ac120007"
      },
      {
       "current": "8a48d590-98a1-11ea-8d02-0242ac120007-2-1c0f-5b25",
       "next": "e879cdac-95bf-11ea-8d02-0242ac120007-1-4a2c",
       "previous": "06afec50-98b0-11ea-8d02-0242ac120007-1-5828"
      },
      {
       "current": "8a48d590-98a1-11ea-8d02-0242ac120007-3-1c0f-5b25-d7c0",
       "next": "e879cdac-95bf-11ea-8d02-0242ac120007-2-4a2c-6b2f",
       "previous": "06afec50-98b0-11ea-8d02-0242ac120007-2-5828-a305"
      },
      {
       "current": "8a48d590-98a1-11ea-8d02-0242ac120007-4-1c0f-5b25-d7c0-161e",
       "next": "e879cdac-95bf-11ea-8d02-0242ac120007-3-4a2c-6b2f-958d",
       "previous": "06afec50-98b0-11ea-8d02-0242ac120007-3-5828-a305-b690"
      },
      {
       "current": "8a48d590-98a1-11ea-8d02-0242ac120007-5-1c0f-5b25-d7c0-161e-9a3a",
       "next": "e879cdac-95bf-11ea-8d02-0242ac120007-4-4a2c-6b2f-958d-d446",
       "previous": "06afec50-98b0-11ea-8d02-0242ac120007-4-5828-a305-b690-32c8"
      },
      {
       "current": "8a48d590-98a1-11ea-8d02-0242ac120007-6-1c0f-5b25-d7c0-161e-9a3a-bf44",
       "next": "e879cdac-95bf-11ea-8d02-0242ac120007-5-4a2c-6b2f-958d-d446-099f",
       "previous": "06afec50-98b0-11ea-8d02-0242ac120007-5-5828-a305-b690-32c8-8cc4"
      },
      {
       "current": "8a48d590-98a1-11ea-8d02-0242ac120007-7-1c0f-5b25-d7c0-161e-9a3a-bf44-63d5",
       "next": "e879cdac-95bf-11ea-8d02-0242ac120007-6-4a2c-6b2f-958d-d446-099f-a448",
       "previous": "06afec50-98b0-11ea-8d02-0242ac120007-6-5828-a305-b690-32c8-8cc4-6118"
      }
     ],
     "next": "e879cdac-95bf-11ea-8d02-0242ac120007-7-4a2c-6b2f-958d-d446-099f-a448-e033",
     "previous": "06afec50-98b0-11ea-8d02-0242ac120007-7-5828-a305-b690-32c8-8cc4-6118-cb52"
    }
   },
   "source": [
    "初期化対象のインスタンス名称を設定する"
   ]
  },
  {
   "cell_type": "code",
   "execution_count": null,
   "metadata": {
    "lc_cell_meme": {
     "current": "e879cdac-95bf-11ea-8d02-0242ac120007-7-4a2c-6b2f-958d-d446-099f-a448-e033",
     "history": [
      {
       "current": "e879cdac-95bf-11ea-8d02-0242ac120007",
       "next": "81dd4f74-9597-11ea-8d02-0242ac120007",
       "previous": "d1bcb8ac-9599-11ea-8d02-0242ac120007"
      },
      {
       "current": "e879cdac-95bf-11ea-8d02-0242ac120007",
       "next": "81dd4f74-9597-11ea-8d02-0242ac120007",
       "previous": "a85c1dda-959a-11ea-8d02-0242ac120007"
      },
      {
       "current": "e879cdac-95bf-11ea-8d02-0242ac120007",
       "next": "8a48d90a-98a1-11ea-8d02-0242ac120007",
       "previous": "a85c1dda-959a-11ea-8d02-0242ac120007"
      },
      {
       "current": "e879cdac-95bf-11ea-8d02-0242ac120007-1-4a2c",
       "next": "8a48d90a-98a1-11ea-8d02-0242ac120007",
       "previous": "8a48d590-98a1-11ea-8d02-0242ac120007"
      },
      {
       "current": "e879cdac-95bf-11ea-8d02-0242ac120007-2-4a2c-6b2f",
       "next": "8a48d90a-98a1-11ea-8d02-0242ac120007-1-0ebc",
       "previous": "8a48d590-98a1-11ea-8d02-0242ac120007-1-1c0f"
      },
      {
       "current": "e879cdac-95bf-11ea-8d02-0242ac120007-2-4a2c-6b2f",
       "next": "8a48d90a-98a1-11ea-8d02-0242ac120007-2-0ebc-93ac",
       "previous": "8a48d590-98a1-11ea-8d02-0242ac120007-2-1c0f-5b25"
      },
      {
       "current": "e879cdac-95bf-11ea-8d02-0242ac120007-3-4a2c-6b2f-958d",
       "next": "809aa1e6-def9-11eb-b29f-0242ac120008",
       "previous": "8a48d590-98a1-11ea-8d02-0242ac120007-2-1c0f-5b25"
      },
      {
       "current": "e879cdac-95bf-11ea-8d02-0242ac120007-4-4a2c-6b2f-958d-d446",
       "next": "809aa1e6-def9-11eb-b29f-0242ac120008-1-b49e",
       "previous": "8a48d590-98a1-11ea-8d02-0242ac120007-3-1c0f-5b25-d7c0"
      },
      {
       "current": "e879cdac-95bf-11ea-8d02-0242ac120007-5-4a2c-6b2f-958d-d446-099f",
       "next": "809aa1e6-def9-11eb-b29f-0242ac120008-2-b49e-ca5a",
       "previous": "8a48d590-98a1-11ea-8d02-0242ac120007-4-1c0f-5b25-d7c0-161e"
      },
      {
       "current": "e879cdac-95bf-11ea-8d02-0242ac120007-6-4a2c-6b2f-958d-d446-099f-a448",
       "next": "809aa1e6-def9-11eb-b29f-0242ac120008-3-b49e-ca5a-2d71",
       "previous": "8a48d590-98a1-11ea-8d02-0242ac120007-5-1c0f-5b25-d7c0-161e-9a3a"
      },
      {
       "current": "e879cdac-95bf-11ea-8d02-0242ac120007-7-4a2c-6b2f-958d-d446-099f-a448-e033",
       "next": "809aa1e6-def9-11eb-b29f-0242ac120008-4-b49e-ca5a-2d71-65a9",
       "previous": "8a48d590-98a1-11ea-8d02-0242ac120007-6-1c0f-5b25-d7c0-161e-9a3a-bf44"
      }
     ],
     "next": "809aa1e6-def9-11eb-b29f-0242ac120008-5-b49e-ca5a-2d71-65a9-0b2b",
     "previous": "8a48d590-98a1-11ea-8d02-0242ac120007-7-1c0f-5b25-d7c0-161e-9a3a-bf44-63d5"
    },
    "scrolled": true
   },
   "outputs": [],
   "source": [
    "# adminのインスタンス名称を設定する\n",
    "raise Exception('この先手作業が必要です')"
   ]
  },
  {
   "cell_type": "markdown",
   "metadata": {
    "lc_cell_meme": {
     "current": "809aa1e6-def9-11eb-b29f-0242ac120008-5-b49e-ca5a-2d71-65a9-0b2b",
     "history": [
      {
       "current": "809aa1e6-def9-11eb-b29f-0242ac120008-1-b49e",
       "next": "8a48d90a-98a1-11ea-8d02-0242ac120007-2-0ebc-93ac",
       "previous": "e879cdac-95bf-11ea-8d02-0242ac120007-2-4a2c-6b2f"
      },
      {
       "current": "809aa1e6-def9-11eb-b29f-0242ac120008-1-b49e",
       "next": "8a48d90a-98a1-11ea-8d02-0242ac120007-3-0ebc-93ac-04b4",
       "previous": "e879cdac-95bf-11ea-8d02-0242ac120007-3-4a2c-6b2f-958d"
      },
      {
       "current": "809aa1e6-def9-11eb-b29f-0242ac120008-2-b49e-ca5a",
       "next": "bb3e251e-61bc-11ee-89fa-0242ac120005",
       "previous": "e879cdac-95bf-11ea-8d02-0242ac120007-3-4a2c-6b2f-958d"
      },
      {
       "current": "809aa1e6-def9-11eb-b29f-0242ac120008-3-b49e-ca5a-2d71",
       "next": "bb3e251e-61bc-11ee-89fa-0242ac120005-1-ef5d",
       "previous": "e879cdac-95bf-11ea-8d02-0242ac120007-4-4a2c-6b2f-958d-d446"
      },
      {
       "current": "809aa1e6-def9-11eb-b29f-0242ac120008-4-b49e-ca5a-2d71-65a9",
       "next": "bb3e251e-61bc-11ee-89fa-0242ac120005-2-ef5d-d1fa",
       "previous": "e879cdac-95bf-11ea-8d02-0242ac120007-5-4a2c-6b2f-958d-d446-099f"
      },
      {
       "current": "809aa1e6-def9-11eb-b29f-0242ac120008-5-b49e-ca5a-2d71-65a9-0b2b",
       "next": "bb3e251e-61bc-11ee-89fa-0242ac120005-3-ef5d-d1fa-792b",
       "previous": "e879cdac-95bf-11ea-8d02-0242ac120007-6-4a2c-6b2f-958d-d446-099f-a448"
      }
     ],
     "next": "bb3e251e-61bc-11ee-89fa-0242ac120005-4-ef5d-d1fa-792b-706c",
     "previous": "e879cdac-95bf-11ea-8d02-0242ac120007-7-4a2c-6b2f-958d-d446-099f-a448-e033"
    }
   },
   "source": [
    "### adminノードの指定"
   ]
  },
  {
   "cell_type": "code",
   "execution_count": null,
   "metadata": {
    "lc_cell_meme": {
     "current": "bb3e251e-61bc-11ee-89fa-0242ac120005-4-ef5d-d1fa-792b-706c",
     "history": [
      {
       "current": "bb3e251e-61bc-11ee-89fa-0242ac120005",
       "next": "8a48dae0-98a1-11ea-8d02-0242ac120007-3-4da2-9c77-127e",
       "previous": "8a48d90a-98a1-11ea-8d02-0242ac120007-3-0ebc-93ac-04b4"
      },
      {
       "current": "bb3e251e-61bc-11ee-89fa-0242ac120005",
       "next": "8a48dae0-98a1-11ea-8d02-0242ac120007-3-4da2-9c77-127e",
       "previous": "809aa1e6-def9-11eb-b29f-0242ac120008-1-b49e"
      },
      {
       "current": "bb3e251e-61bc-11ee-89fa-0242ac120005",
       "next": "a2611ada-7876-11ee-89fa-0242ac120005",
       "previous": "809aa1e6-def9-11eb-b29f-0242ac120008-1-b49e"
      },
      {
       "current": "bb3e251e-61bc-11ee-89fa-0242ac120005-1-ef5d",
       "next": "8a48dae0-98a1-11ea-8d02-0242ac120007-3-4da2-9c77-127e",
       "previous": "809aa1e6-def9-11eb-b29f-0242ac120008-1-b49e"
      },
      {
       "current": "bb3e251e-61bc-11ee-89fa-0242ac120005-2-ef5d-d1fa",
       "next": "8a48dae0-98a1-11ea-8d02-0242ac120007-4-4da2-9c77-127e-61a4",
       "previous": "809aa1e6-def9-11eb-b29f-0242ac120008-2-b49e-ca5a"
      },
      {
       "current": "bb3e251e-61bc-11ee-89fa-0242ac120005-3-ef5d-d1fa-792b",
       "next": "8a48dae0-98a1-11ea-8d02-0242ac120007-5-4da2-9c77-127e-61a4-9442",
       "previous": "809aa1e6-def9-11eb-b29f-0242ac120008-3-b49e-ca5a-2d71"
      },
      {
       "current": "bb3e251e-61bc-11ee-89fa-0242ac120005-4-ef5d-d1fa-792b-706c",
       "next": "8a48dae0-98a1-11ea-8d02-0242ac120007-6-4da2-9c77-127e-61a4-9442-4edc",
       "previous": "809aa1e6-def9-11eb-b29f-0242ac120008-4-b49e-ca5a-2d71-65a9"
      }
     ],
     "next": "8a48dae0-98a1-11ea-8d02-0242ac120007-7-4da2-9c77-127e-61a4-9442-4edc-b6cf",
     "previous": "809aa1e6-def9-11eb-b29f-0242ac120008-5-b49e-ca5a-2d71-65a9-0b2b"
    }
   },
   "outputs": [],
   "source": [
    "bootstrap_node_name = 'ceph-xxx-node-001'"
   ]
  },
  {
   "cell_type": "code",
   "execution_count": null,
   "metadata": {
    "lc_cell_meme": {
     "current": "8a48dae0-98a1-11ea-8d02-0242ac120007-7-4da2-9c77-127e-61a4-9442-4edc-b6cf",
     "history": [
      {
       "current": "8a48dae0-98a1-11ea-8d02-0242ac120007-1-4da2",
       "next": "35c339aa-55a3-11e7-b0b2-00163e9c0e35",
       "previous": "8a48d90a-98a1-11ea-8d02-0242ac120007"
      },
      {
       "current": "8a48dae0-98a1-11ea-8d02-0242ac120007-2-4da2-9c77",
       "next": "35c339aa-55a3-11e7-b0b2-00163e9c0e35-1-eee2",
       "previous": "8a48d90a-98a1-11ea-8d02-0242ac120007-1-0ebc"
      },
      {
       "current": "8a48dae0-98a1-11ea-8d02-0242ac120007-2-4da2-9c77",
       "next": "35c339aa-55a3-11e7-b0b2-00163e9c0e35-2-eee2-af6c",
       "previous": "8a48d90a-98a1-11ea-8d02-0242ac120007-2-0ebc-93ac"
      },
      {
       "current": "8a48dae0-98a1-11ea-8d02-0242ac120007-2-4da2-9c77",
       "next": "35c362a4-55a3-11e7-b0b2-00163e9c0e35-2-3f0a-3633",
       "previous": "8a48d90a-98a1-11ea-8d02-0242ac120007-2-0ebc-93ac"
      },
      {
       "current": "8a48dae0-98a1-11ea-8d02-0242ac120007-2-4da2-9c77",
       "next": "1afe7a3e-def8-11eb-b29f-0242ac120008",
       "previous": "8a48d90a-98a1-11ea-8d02-0242ac120007-2-0ebc-93ac"
      },
      {
       "current": "8a48dae0-98a1-11ea-8d02-0242ac120007-3-4da2-9c77-127e",
       "next": "35c35a52-55a3-11e7-b0b2-00163e9c0e35-2-ed71-9007",
       "previous": "8a48d90a-98a1-11ea-8d02-0242ac120007-2-0ebc-93ac"
      },
      {
       "current": "8a48dae0-98a1-11ea-8d02-0242ac120007-3-4da2-9c77-127e",
       "next": "35c35a52-55a3-11e7-b0b2-00163e9c0e35-3-ed71-9007-f930",
       "previous": "8a48d90a-98a1-11ea-8d02-0242ac120007-3-0ebc-93ac-04b4"
      },
      {
       "current": "8a48dae0-98a1-11ea-8d02-0242ac120007-3-4da2-9c77-127e",
       "next": "2c2cd6ae-61bc-11ee-89fa-0242ac120005",
       "previous": "8a48d90a-98a1-11ea-8d02-0242ac120007-3-0ebc-93ac-04b4"
      },
      {
       "current": "8a48dae0-98a1-11ea-8d02-0242ac120007-3-4da2-9c77-127e",
       "next": "2c2cd6ae-61bc-11ee-89fa-0242ac120005",
       "previous": "bb3e251e-61bc-11ee-89fa-0242ac120005"
      },
      {
       "current": "8a48dae0-98a1-11ea-8d02-0242ac120007-3-4da2-9c77-127e",
       "next": "35c35f52-55a3-11e7-b0b2-00163e9c0e35-3-e2de-8a27-98e3",
       "previous": "bb3e251e-61bc-11ee-89fa-0242ac120005"
      },
      {
       "current": "8a48dae0-98a1-11ea-8d02-0242ac120007-3-4da2-9c77-127e",
       "next": "a2611ca6-7876-11ee-89fa-0242ac120005",
       "previous": "a2611ada-7876-11ee-89fa-0242ac120005"
      },
      {
       "current": "8a48dae0-98a1-11ea-8d02-0242ac120007-3-4da2-9c77-127e",
       "next": "2dd5493e-788f-11ee-89fa-0242ac120005",
       "previous": "bb3e251e-61bc-11ee-89fa-0242ac120005"
      },
      {
       "current": "8a48dae0-98a1-11ea-8d02-0242ac120007-4-4da2-9c77-127e-61a4",
       "next": "35c35f52-55a3-11e7-b0b2-00163e9c0e35-3-e2de-8a27-98e3",
       "previous": "bb3e251e-61bc-11ee-89fa-0242ac120005"
      },
      {
       "current": "8a48dae0-98a1-11ea-8d02-0242ac120007-5-4da2-9c77-127e-61a4-9442",
       "next": "35c35f52-55a3-11e7-b0b2-00163e9c0e35-4-e2de-8a27-98e3-9aeb",
       "previous": "bb3e251e-61bc-11ee-89fa-0242ac120005-1-ef5d"
      },
      {
       "current": "8a48dae0-98a1-11ea-8d02-0242ac120007-6-4da2-9c77-127e-61a4-9442-4edc",
       "next": "35c35f52-55a3-11e7-b0b2-00163e9c0e35-5-e2de-8a27-98e3-9aeb-e55b",
       "previous": "bb3e251e-61bc-11ee-89fa-0242ac120005-2-ef5d-d1fa"
      },
      {
       "current": "8a48dae0-98a1-11ea-8d02-0242ac120007-7-4da2-9c77-127e-61a4-9442-4edc-b6cf",
       "next": "35c35f52-55a3-11e7-b0b2-00163e9c0e35-6-e2de-8a27-98e3-9aeb-e55b-fbe1",
       "previous": "bb3e251e-61bc-11ee-89fa-0242ac120005-3-ef5d-d1fa-792b"
      }
     ],
     "next": "35c35f52-55a3-11e7-b0b2-00163e9c0e35-7-e2de-8a27-98e3-9aeb-e55b-fbe1-1c2f",
     "previous": "bb3e251e-61bc-11ee-89fa-0242ac120005-4-ef5d-d1fa-792b-706c"
    }
   },
   "outputs": [],
   "source": [
    "bootstrap_node = node_map.get(bootstrap_node_name, None)\n",
    "\n",
    "assert (bootstrap_node is not None), \"指定されたBootstrap nodeが存在しません。\"\n",
    "print(bootstrap_node)"
   ]
  },
  {
   "cell_type": "markdown",
   "metadata": {
    "lc_cell_meme": {
     "current": "35c35f52-55a3-11e7-b0b2-00163e9c0e35-7-e2de-8a27-98e3-9aeb-e55b-fbe1-1c2f",
     "history": [
      {
       "current": "35c35f52-55a3-11e7-b0b2-00163e9c0e35",
       "next": "35c360f6-55a3-11e7-b0b2-00163e9c0e35",
       "previous": "35c35dae-55a3-11e7-b0b2-00163e9c0e35"
      },
      {
       "current": "35c35f52-55a3-11e7-b0b2-00163e9c0e35-1-e2de",
       "next": "a33430b0-9327-11ea-8d02-0242ac120007",
       "previous": "35c35dae-55a3-11e7-b0b2-00163e9c0e35"
      },
      {
       "current": "35c35f52-55a3-11e7-b0b2-00163e9c0e35-2-e2de-8a27",
       "next": "a33430b0-9327-11ea-8d02-0242ac120007-1-3202",
       "previous": "35c35dae-55a3-11e7-b0b2-00163e9c0e35-1-7091"
      },
      {
       "current": "35c35f52-55a3-11e7-b0b2-00163e9c0e35-3-e2de-8a27-98e3",
       "next": "a33430b0-9327-11ea-8d02-0242ac120007-2-3202-0bdc",
       "previous": "35c35dae-55a3-11e7-b0b2-00163e9c0e35-2-7091-7055"
      },
      {
       "current": "35c35f52-55a3-11e7-b0b2-00163e9c0e35-3-e2de-8a27-98e3",
       "next": "a33430b0-9327-11ea-8d02-0242ac120007-3-3202-0bdc-fd62",
       "previous": "35c35dae-55a3-11e7-b0b2-00163e9c0e35-3-7091-7055-1fd7"
      },
      {
       "current": "35c35f52-55a3-11e7-b0b2-00163e9c0e35-3-e2de-8a27-98e3",
       "next": "a33430b0-9327-11ea-8d02-0242ac120007-3-3202-0bdc-fd62",
       "previous": "35c35a52-55a3-11e7-b0b2-00163e9c0e35-3-ed71-9007-f930"
      },
      {
       "current": "35c35f52-55a3-11e7-b0b2-00163e9c0e35-3-e2de-8a27-98e3",
       "next": "a33430b0-9327-11ea-8d02-0242ac120007-3-3202-0bdc-fd62",
       "previous": "2c2cd6ae-61bc-11ee-89fa-0242ac120005"
      },
      {
       "current": "35c35f52-55a3-11e7-b0b2-00163e9c0e35-3-e2de-8a27-98e3",
       "next": "a33430b0-9327-11ea-8d02-0242ac120007-3-3202-0bdc-fd62",
       "previous": "8a48dae0-98a1-11ea-8d02-0242ac120007-3-4da2-9c77-127e"
      },
      {
       "current": "35c35f52-55a3-11e7-b0b2-00163e9c0e35-3-e2de-8a27-98e3",
       "next": "a33430b0-9327-11ea-8d02-0242ac120007-3-3202-0bdc-fd62",
       "previous": "a2611ca6-7876-11ee-89fa-0242ac120005"
      },
      {
       "current": "35c35f52-55a3-11e7-b0b2-00163e9c0e35-4-e2de-8a27-98e3-9aeb",
       "next": "a33430b0-9327-11ea-8d02-0242ac120007-3-3202-0bdc-fd62",
       "previous": "8a48dae0-98a1-11ea-8d02-0242ac120007-3-4da2-9c77-127e"
      },
      {
       "current": "35c35f52-55a3-11e7-b0b2-00163e9c0e35-5-e2de-8a27-98e3-9aeb-e55b",
       "next": "a33430b0-9327-11ea-8d02-0242ac120007-4-3202-0bdc-fd62-3a79",
       "previous": "8a48dae0-98a1-11ea-8d02-0242ac120007-4-4da2-9c77-127e-61a4"
      },
      {
       "current": "35c35f52-55a3-11e7-b0b2-00163e9c0e35-6-e2de-8a27-98e3-9aeb-e55b-fbe1",
       "next": "a33430b0-9327-11ea-8d02-0242ac120007-5-3202-0bdc-fd62-3a79-4375",
       "previous": "8a48dae0-98a1-11ea-8d02-0242ac120007-5-4da2-9c77-127e-61a4-9442"
      },
      {
       "current": "35c35f52-55a3-11e7-b0b2-00163e9c0e35-7-e2de-8a27-98e3-9aeb-e55b-fbe1-1c2f",
       "next": "a33430b0-9327-11ea-8d02-0242ac120007-6-3202-0bdc-fd62-3a79-4375-f20f",
       "previous": "8a48dae0-98a1-11ea-8d02-0242ac120007-6-4da2-9c77-127e-61a4-9442-4edc"
      }
     ],
     "next": "a33430b0-9327-11ea-8d02-0242ac120007-7-3202-0bdc-fd62-3a79-4375-f20f-f046",
     "previous": "8a48dae0-98a1-11ea-8d02-0242ac120007-7-4da2-9c77-127e-61a4-9442-4edc-b6cf"
    }
   },
   "source": [
    "# Inventoryファイルを生成する。"
   ]
  },
  {
   "cell_type": "code",
   "execution_count": null,
   "metadata": {
    "lc_cell_meme": {
     "current": "a33430b0-9327-11ea-8d02-0242ac120007-7-3202-0bdc-fd62-3a79-4375-f20f-f046",
     "history": [
      {
       "current": "a33430b0-9327-11ea-8d02-0242ac120007",
       "next": "35c360f6-55a3-11e7-b0b2-00163e9c0e35",
       "previous": "35c35f52-55a3-11e7-b0b2-00163e9c0e35"
      },
      {
       "current": "a33430b0-9327-11ea-8d02-0242ac120007-1-3202",
       "next": "9c0b8624-959f-11ea-8d02-0242ac120007",
       "previous": "35c35f52-55a3-11e7-b0b2-00163e9c0e35"
      },
      {
       "current": "a33430b0-9327-11ea-8d02-0242ac120007-2-3202-0bdc",
       "next": "9c0b8624-959f-11ea-8d02-0242ac120007-1-8098",
       "previous": "35c35f52-55a3-11e7-b0b2-00163e9c0e35-1-e2de"
      },
      {
       "current": "a33430b0-9327-11ea-8d02-0242ac120007-2-3202-0bdc",
       "next": "9c0b8624-959f-11ea-8d02-0242ac120007-2-8098-a371",
       "previous": "35c35f52-55a3-11e7-b0b2-00163e9c0e35-2-e2de-8a27"
      },
      {
       "current": "a33430b0-9327-11ea-8d02-0242ac120007-3-3202-0bdc-fd62",
       "next": "27f1be96-f4f0-11eb-b29f-0242ac120008",
       "previous": "35c35f52-55a3-11e7-b0b2-00163e9c0e35-2-e2de-8a27"
      },
      {
       "current": "a33430b0-9327-11ea-8d02-0242ac120007-3-3202-0bdc-fd62",
       "next": "27f1be96-f4f0-11eb-b29f-0242ac120008-1-0b6c",
       "previous": "35c35f52-55a3-11e7-b0b2-00163e9c0e35-3-e2de-8a27-98e3"
      },
      {
       "current": "a33430b0-9327-11ea-8d02-0242ac120007-4-3202-0bdc-fd62-3a79",
       "next": "73b1e49c-61bc-11ee-89fa-0242ac120005",
       "previous": "35c35f52-55a3-11e7-b0b2-00163e9c0e35-3-e2de-8a27-98e3"
      },
      {
       "current": "a33430b0-9327-11ea-8d02-0242ac120007-5-3202-0bdc-fd62-3a79-4375",
       "next": "73b1e49c-61bc-11ee-89fa-0242ac120005-1-adb6",
       "previous": "35c35f52-55a3-11e7-b0b2-00163e9c0e35-4-e2de-8a27-98e3-9aeb"
      },
      {
       "current": "a33430b0-9327-11ea-8d02-0242ac120007-6-3202-0bdc-fd62-3a79-4375-f20f",
       "next": "73b1e49c-61bc-11ee-89fa-0242ac120005-2-adb6-9e1f",
       "previous": "35c35f52-55a3-11e7-b0b2-00163e9c0e35-5-e2de-8a27-98e3-9aeb-e55b"
      },
      {
       "current": "a33430b0-9327-11ea-8d02-0242ac120007-7-3202-0bdc-fd62-3a79-4375-f20f-f046",
       "next": "73b1e49c-61bc-11ee-89fa-0242ac120005-3-adb6-9e1f-fb82",
       "previous": "35c35f52-55a3-11e7-b0b2-00163e9c0e35-6-e2de-8a27-98e3-9aeb-e55b-fbe1"
      }
     ],
     "next": "73b1e49c-61bc-11ee-89fa-0242ac120005-4-adb6-9e1f-fb82-c013",
     "previous": "35c35f52-55a3-11e7-b0b2-00163e9c0e35-7-e2de-8a27-98e3-9aeb-e55b-fbe1-1c2f"
    }
   },
   "outputs": [],
   "source": [
    "node_user='xxxxx'\n",
    "cephadmin_user='cephadmin'\n",
    "node_key='~/.ssh/id_ras'\n",
    "proxy_user='xxxxx'\n",
    "proxy_key='~/.ssh/id_ras'"
   ]
  },
  {
   "cell_type": "code",
   "execution_count": null,
   "metadata": {
    "lc_cell_meme": {
     "current": "73b1e49c-61bc-11ee-89fa-0242ac120005-4-adb6-9e1f-fb82-c013",
     "history": [
      {
       "current": "73b1e49c-61bc-11ee-89fa-0242ac120005",
       "next": "35c360f6-55a3-11e7-b0b2-00163e9c0e35-3-4a79-f9ba-754f",
       "previous": "9c0b8624-959f-11ea-8d02-0242ac120007-3-8098-a371-0b4a"
      },
      {
       "current": "73b1e49c-61bc-11ee-89fa-0242ac120005-1-adb6",
       "next": "35c360f6-55a3-11e7-b0b2-00163e9c0e35-3-4a79-f9ba-754f",
       "previous": "a33430b0-9327-11ea-8d02-0242ac120007-3-3202-0bdc-fd62"
      },
      {
       "current": "73b1e49c-61bc-11ee-89fa-0242ac120005-2-adb6-9e1f",
       "next": "35c360f6-55a3-11e7-b0b2-00163e9c0e35-4-4a79-f9ba-754f-944d",
       "previous": "a33430b0-9327-11ea-8d02-0242ac120007-4-3202-0bdc-fd62-3a79"
      },
      {
       "current": "73b1e49c-61bc-11ee-89fa-0242ac120005-3-adb6-9e1f-fb82",
       "next": "35c360f6-55a3-11e7-b0b2-00163e9c0e35-5-4a79-f9ba-754f-944d-5c05",
       "previous": "a33430b0-9327-11ea-8d02-0242ac120007-5-3202-0bdc-fd62-3a79-4375"
      },
      {
       "current": "73b1e49c-61bc-11ee-89fa-0242ac120005-4-adb6-9e1f-fb82-c013",
       "next": "35c360f6-55a3-11e7-b0b2-00163e9c0e35-6-4a79-f9ba-754f-944d-5c05-5456",
       "previous": "a33430b0-9327-11ea-8d02-0242ac120007-6-3202-0bdc-fd62-3a79-4375-f20f"
      }
     ],
     "next": "35c360f6-55a3-11e7-b0b2-00163e9c0e35-7-4a79-f9ba-754f-944d-5c05-5456-6589",
     "previous": "a33430b0-9327-11ea-8d02-0242ac120007-7-3202-0bdc-fd62-3a79-4375-f20f-f046"
    }
   },
   "outputs": [],
   "source": [
    "bootstrap_ip = bootstrap_node['prov_ip']"
   ]
  },
  {
   "cell_type": "code",
   "execution_count": null,
   "metadata": {
    "ExecuteTime": {
     "end_time": "2017-06-29T08:50:39.909299Z",
     "start_time": "2017-06-29T08:50:39.762658Z"
    },
    "lc_cell_meme": {
     "current": "35c360f6-55a3-11e7-b0b2-00163e9c0e35-7-4a79-f9ba-754f-944d-5c05-5456-6589",
     "history": [
      {
       "current": "35c360f6-55a3-11e7-b0b2-00163e9c0e35",
       "next": "35c362a4-55a3-11e7-b0b2-00163e9c0e35",
       "previous": "35c35f52-55a3-11e7-b0b2-00163e9c0e35"
      },
      {
       "current": "35c360f6-55a3-11e7-b0b2-00163e9c0e35",
       "next": "35c362a4-55a3-11e7-b0b2-00163e9c0e35",
       "previous": "a33430b0-9327-11ea-8d02-0242ac120007"
      },
      {
       "current": "35c360f6-55a3-11e7-b0b2-00163e9c0e35-1-4a79",
       "next": "35c362a4-55a3-11e7-b0b2-00163e9c0e35",
       "previous": "9c0b88cc-959f-11ea-8d02-0242ac120007"
      },
      {
       "current": "35c360f6-55a3-11e7-b0b2-00163e9c0e35-2-4a79-f9ba",
       "next": "35c362a4-55a3-11e7-b0b2-00163e9c0e35-1-3f0a",
       "previous": "9c0b88cc-959f-11ea-8d02-0242ac120007-1-b077"
      },
      {
       "current": "35c360f6-55a3-11e7-b0b2-00163e9c0e35-2-4a79-f9ba",
       "next": "35c362a4-55a3-11e7-b0b2-00163e9c0e35-2-3f0a-3633",
       "previous": "9c0b88cc-959f-11ea-8d02-0242ac120007-2-b077-046d"
      },
      {
       "current": "35c360f6-55a3-11e7-b0b2-00163e9c0e35-2-4a79-f9ba",
       "next": "7dae8996-9686-11ea-8d02-0242ac120007-2-20c5-a0b0",
       "previous": "9c0b88cc-959f-11ea-8d02-0242ac120007-2-b077-046d"
      },
      {
       "current": "35c360f6-55a3-11e7-b0b2-00163e9c0e35-2-4a79-f9ba",
       "next": "35c362a4-55a3-11e7-b0b2-00163e9c0e35-2-89a7-98f2",
       "previous": "9c0b88cc-959f-11ea-8d02-0242ac120007-2-b077-046d"
      },
      {
       "current": "35c360f6-55a3-11e7-b0b2-00163e9c0e35-3-4a79-f9ba-754f",
       "next": "35c362a4-55a3-11e7-b0b2-00163e9c0e35-2-89a7-98f2",
       "previous": "9c0b8624-959f-11ea-8d02-0242ac120007-2-8098-a371"
      },
      {
       "current": "35c360f6-55a3-11e7-b0b2-00163e9c0e35-3-4a79-f9ba-754f",
       "next": "35c362a4-55a3-11e7-b0b2-00163e9c0e35-3-89a7-98f2-5cf2",
       "previous": "9c0b8624-959f-11ea-8d02-0242ac120007-3-8098-a371-0b4a"
      },
      {
       "current": "35c360f6-55a3-11e7-b0b2-00163e9c0e35-4-4a79-f9ba-754f-944d",
       "next": "35c362a4-55a3-11e7-b0b2-00163e9c0e35-3-89a7-98f2-5cf2",
       "previous": "73b1e49c-61bc-11ee-89fa-0242ac120005"
      },
      {
       "current": "35c360f6-55a3-11e7-b0b2-00163e9c0e35-5-4a79-f9ba-754f-944d-5c05",
       "next": "35c362a4-55a3-11e7-b0b2-00163e9c0e35-4-89a7-98f2-5cf2-94e5",
       "previous": "73b1e49c-61bc-11ee-89fa-0242ac120005-1-adb6"
      },
      {
       "current": "35c360f6-55a3-11e7-b0b2-00163e9c0e35-5-4a79-f9ba-754f-944d-5c05",
       "next": "35c362a4-55a3-11e7-b0b2-00163e9c0e35-5-89a7-98f2-5cf2-94e5-9135",
       "previous": "73b1e49c-61bc-11ee-89fa-0242ac120005-2-adb6-9e1f"
      },
      {
       "current": "35c360f6-55a3-11e7-b0b2-00163e9c0e35-6-4a79-f9ba-754f-944d-5c05-5456",
       "next": "f99e57c6-2493-11ef-ad2f-0242ac120005",
       "previous": "73b1e49c-61bc-11ee-89fa-0242ac120005-2-adb6-9e1f"
      },
      {
       "current": "35c360f6-55a3-11e7-b0b2-00163e9c0e35-7-4a79-f9ba-754f-944d-5c05-5456-6589",
       "next": "f99e57c6-2493-11ef-ad2f-0242ac120005-1-e53f",
       "previous": "73b1e49c-61bc-11ee-89fa-0242ac120005-3-adb6-9e1f-fb82"
      }
     ],
     "next": "f99e57c6-2493-11ef-ad2f-0242ac120005-2-e53f-32e5",
     "previous": "73b1e49c-61bc-11ee-89fa-0242ac120005-4-adb6-9e1f-fb82-c013"
    },
    "run_control": {
     "frozen": true
    },
    "scrolled": true
   },
   "outputs": [],
   "source": [
    "import os\n",
    "\n",
    "with open( os.path.join(temp_dir, \"hosts\"), 'w') as f:\n",
    "\n",
    "    f.write('''[ceph_admin]\n",
    "{ceph_admin_ip} ansible_user={proxy_user} ansible_ssh_private_key_file={proxy_key} ansible_python_interpreter=/usr/bin/python3\n",
    "'''.format(ceph_admin_ip=ceph_admin_ip, proxy_user=proxy_user, proxy_key=proxy_key, bootstrap_ip=bootstrap_ip))\n",
    "\n",
    "    f.write('''[bootstrap]\n",
    "{node_ip} ansible_user={node_user} ansible_ssh_private_key_file={node_key} ansible_ssh_common_args='-o ControlMaster=auto -o StrictHostKeyChecking=no -o ControlPersist=30m -o ProxyCommand=\"ssh -W %h:%p -i {proxy_key} -q {proxy_user}@{ceph_admin_ip}\"' ansible_python_interpreter=/usr/bin/python3\n",
    "[ceph_nodes]\n",
    "'''.format(ceph_admin_ip=ceph_admin_ip, node_ip=bootstrap_ip, node_key=node_key,\n",
    "           node_user=node_user, proxy_user=proxy_user, proxy_key=proxy_key))\n",
    "    \n",
    "    for node in node_list:\n",
    "        node_ip = node['prov_ip']\n",
    "        f.write('''{node_ip} ansible_user={node_user} ansible_ssh_private_key_file={node_key} ansible_ssh_common_args='-o ControlMaster=auto -o StrictHostKeyChecking=no -o ControlPersist=30m -o ProxyCommand=\"ssh -W %h:%p -i {proxy_key} -q {proxy_user}@{ceph_admin_ip}\"' ansible_python_interpreter=/usr/bin/python3\n",
    "'''.format(ceph_admin_ip=ceph_admin_ip, node_ip=node_ip, node_key=node_key,\n",
    "           node_user=node_user, proxy_user=proxy_user, proxy_key=proxy_key))\n",
    "\n",
    "hosts = temp_dir + \"/hosts\"\n",
    "\n",
    "!cat $hosts"
   ]
  },
  {
   "cell_type": "code",
   "execution_count": null,
   "metadata": {
    "lc_cell_meme": {
     "current": "f99e57c6-2493-11ef-ad2f-0242ac120005-2-e53f-32e5",
     "history": [
      {
       "current": "f99e57c6-2493-11ef-ad2f-0242ac120005-1-e53f",
       "next": "35c362a4-55a3-11e7-b0b2-00163e9c0e35-5-89a7-98f2-5cf2-94e5-9135",
       "previous": "35c360f6-55a3-11e7-b0b2-00163e9c0e35-5-4a79-f9ba-754f-944d-5c05"
      },
      {
       "current": "f99e57c6-2493-11ef-ad2f-0242ac120005-2-e53f-32e5",
       "next": "35c362a4-55a3-11e7-b0b2-00163e9c0e35-6-89a7-98f2-5cf2-94e5-9135-9f83",
       "previous": "35c360f6-55a3-11e7-b0b2-00163e9c0e35-6-4a79-f9ba-754f-944d-5c05-5456"
      }
     ],
     "next": "35c362a4-55a3-11e7-b0b2-00163e9c0e35-7-89a7-98f2-5cf2-94e5-9135-9f83-8716",
     "previous": "35c360f6-55a3-11e7-b0b2-00163e9c0e35-7-4a79-f9ba-754f-944d-5c05-5456-6589"
    }
   },
   "outputs": [],
   "source": [
    "%env ANSIBLE_INVENTORY={hosts}"
   ]
  },
  {
   "cell_type": "markdown",
   "metadata": {
    "lc_cell_meme": {
     "current": "35c362a4-55a3-11e7-b0b2-00163e9c0e35-7-89a7-98f2-5cf2-94e5-9135-9f83-8716",
     "history": [
      {
       "current": "35c362a4-55a3-11e7-b0b2-00163e9c0e35",
       "next": "35c36448-55a3-11e7-b0b2-00163e9c0e35",
       "previous": "35c360f6-55a3-11e7-b0b2-00163e9c0e35"
      },
      {
       "current": "35c362a4-55a3-11e7-b0b2-00163e9c0e35",
       "next": "35c36448-55a3-11e7-b0b2-00163e9c0e35",
       "previous": "4cd5b0cc-7ef5-11ea-a926-0242ac120004"
      },
      {
       "current": "35c362a4-55a3-11e7-b0b2-00163e9c0e35",
       "next": "35c36448-55a3-11e7-b0b2-00163e9c0e35",
       "previous": "db546a28-7ef5-11ea-a926-0242ac120004"
      },
      {
       "current": "35c362a4-55a3-11e7-b0b2-00163e9c0e35",
       "next": "35c36448-55a3-11e7-b0b2-00163e9c0e35",
       "previous": "4cd5af28-7ef5-11ea-a926-0242ac120004"
      },
      {
       "current": "35c362a4-55a3-11e7-b0b2-00163e9c0e35",
       "next": "35c36448-55a3-11e7-b0b2-00163e9c0e35",
       "previous": "7d464504-9107-11ea-8d02-0242ac120007"
      },
      {
       "current": "35c362a4-55a3-11e7-b0b2-00163e9c0e35",
       "next": "35c36448-55a3-11e7-b0b2-00163e9c0e35",
       "previous": "bd797188-910b-11ea-8d02-0242ac120007"
      },
      {
       "current": "35c362a4-55a3-11e7-b0b2-00163e9c0e35",
       "next": "35c36448-55a3-11e7-b0b2-00163e9c0e35",
       "previous": "70b95056-9111-11ea-8d02-0242ac120007"
      },
      {
       "current": "35c362a4-55a3-11e7-b0b2-00163e9c0e35",
       "next": "35c36448-55a3-11e7-b0b2-00163e9c0e35",
       "previous": "bd797188-910b-11ea-8d02-0242ac120007"
      },
      {
       "current": "35c362a4-55a3-11e7-b0b2-00163e9c0e35",
       "next": "bd797188-910b-11ea-8d02-0242ac120007",
       "previous": "4cd5af28-7ef5-11ea-a926-0242ac120004"
      },
      {
       "current": "35c362a4-55a3-11e7-b0b2-00163e9c0e35",
       "next": "484c7376-935c-11ea-8d02-0242ac120007",
       "previous": "4cd5af28-7ef5-11ea-a926-0242ac120004"
      },
      {
       "current": "35c362a4-55a3-11e7-b0b2-00163e9c0e35-1-89a7",
       "next": "bd797188-910b-11ea-8d02-0242ac120007",
       "previous": "4cd5af28-7ef5-11ea-a926-0242ac120004"
      },
      {
       "current": "35c362a4-55a3-11e7-b0b2-00163e9c0e35-2-89a7-98f2",
       "next": "bd797188-910b-11ea-8d02-0242ac120007-1-728a",
       "previous": "4cd5af28-7ef5-11ea-a926-0242ac120004-1-726b"
      },
      {
       "current": "35c362a4-55a3-11e7-b0b2-00163e9c0e35-2-89a7-98f2",
       "next": "bd797188-910b-11ea-8d02-0242ac120007-2-728a-254c",
       "previous": "4cd5af28-7ef5-11ea-a926-0242ac120004-2-726b-a0d6"
      },
      {
       "current": "35c362a4-55a3-11e7-b0b2-00163e9c0e35-2-89a7-98f2",
       "next": "bd797188-910b-11ea-8d02-0242ac120007-2-728a-254c",
       "previous": "35c360f6-55a3-11e7-b0b2-00163e9c0e35-2-4a79-f9ba"
      },
      {
       "current": "35c362a4-55a3-11e7-b0b2-00163e9c0e35-3-89a7-98f2-5cf2",
       "next": "ef4d2888-aa17-11ea-9ad4-0242ac120006-1-42b7",
       "previous": "35c360f6-55a3-11e7-b0b2-00163e9c0e35-2-4a79-f9ba"
      },
      {
       "current": "35c362a4-55a3-11e7-b0b2-00163e9c0e35-4-89a7-98f2-5cf2-94e5",
       "next": "ef4d2888-aa17-11ea-9ad4-0242ac120006-2-42b7-b07a",
       "previous": "35c360f6-55a3-11e7-b0b2-00163e9c0e35-3-4a79-f9ba-754f"
      },
      {
       "current": "35c362a4-55a3-11e7-b0b2-00163e9c0e35-5-89a7-98f2-5cf2-94e5-9135",
       "next": "ef4d2888-aa17-11ea-9ad4-0242ac120006-3-42b7-b07a-2351",
       "previous": "35c360f6-55a3-11e7-b0b2-00163e9c0e35-4-4a79-f9ba-754f-944d"
      },
      {
       "current": "35c362a4-55a3-11e7-b0b2-00163e9c0e35-5-89a7-98f2-5cf2-94e5-9135",
       "next": "ef4d2888-aa17-11ea-9ad4-0242ac120006-4-42b7-b07a-2351-9587",
       "previous": "35c360f6-55a3-11e7-b0b2-00163e9c0e35-5-4a79-f9ba-754f-944d-5c05"
      },
      {
       "current": "35c362a4-55a3-11e7-b0b2-00163e9c0e35-6-89a7-98f2-5cf2-94e5-9135-9f83",
       "next": "ef4d2888-aa17-11ea-9ad4-0242ac120006-4-42b7-b07a-2351-9587",
       "previous": "f99e57c6-2493-11ef-ad2f-0242ac120005"
      },
      {
       "current": "35c362a4-55a3-11e7-b0b2-00163e9c0e35-7-89a7-98f2-5cf2-94e5-9135-9f83-8716",
       "next": "ef4d2888-aa17-11ea-9ad4-0242ac120006-5-42b7-b07a-2351-9587-d625",
       "previous": "f99e57c6-2493-11ef-ad2f-0242ac120005-1-e53f"
      }
     ],
     "next": "ef4d2888-aa17-11ea-9ad4-0242ac120006-6-42b7-b07a-2351-9587-d625-2c36",
     "previous": "f99e57c6-2493-11ef-ad2f-0242ac120005-2-e53f-32e5"
    }
   },
   "source": [
    "## 疎通確認\n",
    "以下コマンドを実行し、OpeHubからCephAdmin経由で、Cephノードに疎通することを確認する。"
   ]
  },
  {
   "cell_type": "code",
   "execution_count": null,
   "metadata": {
    "lc_cell_meme": {
     "current": "ef4d2888-aa17-11ea-9ad4-0242ac120006-6-42b7-b07a-2351-9587-d625-2c36",
     "history": [
      {
       "current": "ef4d2888-aa17-11ea-9ad4-0242ac120006-1-42b7",
       "next": "ac56a252-95bd-11ea-8d02-0242ac120007-1-86ee",
       "previous": "bd797188-910b-11ea-8d02-0242ac120007-1-728a"
      },
      {
       "current": "ef4d2888-aa17-11ea-9ad4-0242ac120006-1-42b7",
       "next": "ac56a252-95bd-11ea-8d02-0242ac120007-2-86ee-3a22",
       "previous": "bd797188-910b-11ea-8d02-0242ac120007-2-728a-254c"
      },
      {
       "current": "ef4d2888-aa17-11ea-9ad4-0242ac120006-1-42b7",
       "next": "bd797188-910b-11ea-8d02-0242ac120007-2-728a-254c",
       "previous": "35c362a4-55a3-11e7-b0b2-00163e9c0e35-2-89a7-98f2"
      },
      {
       "current": "ef4d2888-aa17-11ea-9ad4-0242ac120006-2-42b7-b07a",
       "next": "e3856a36-df01-11eb-b29f-0242ac120008",
       "previous": "35c362a4-55a3-11e7-b0b2-00163e9c0e35-2-89a7-98f2"
      },
      {
       "current": "ef4d2888-aa17-11ea-9ad4-0242ac120006-2-42b7-b07a",
       "next": "e3856a36-df01-11eb-b29f-0242ac120008-1-d6f1",
       "previous": "35c362a4-55a3-11e7-b0b2-00163e9c0e35-3-89a7-98f2-5cf2"
      },
      {
       "current": "ef4d2888-aa17-11ea-9ad4-0242ac120006-3-42b7-b07a-2351",
       "next": "bd797188-910b-11ea-8d02-0242ac120007-3-728a-254c-2f4c",
       "previous": "35c362a4-55a3-11e7-b0b2-00163e9c0e35-3-89a7-98f2-5cf2"
      },
      {
       "current": "ef4d2888-aa17-11ea-9ad4-0242ac120006-4-42b7-b07a-2351-9587",
       "next": "bd797188-910b-11ea-8d02-0242ac120007-4-728a-254c-2f4c-b329",
       "previous": "35c362a4-55a3-11e7-b0b2-00163e9c0e35-4-89a7-98f2-5cf2-94e5"
      },
      {
       "current": "ef4d2888-aa17-11ea-9ad4-0242ac120006-5-42b7-b07a-2351-9587-d625",
       "next": "bd797188-910b-11ea-8d02-0242ac120007-5-728a-254c-2f4c-b329-b3ea",
       "previous": "35c362a4-55a3-11e7-b0b2-00163e9c0e35-5-89a7-98f2-5cf2-94e5-9135"
      },
      {
       "current": "ef4d2888-aa17-11ea-9ad4-0242ac120006-6-42b7-b07a-2351-9587-d625-2c36",
       "next": "bd797188-910b-11ea-8d02-0242ac120007-6-728a-254c-2f4c-b329-b3ea-7a81",
       "previous": "35c362a4-55a3-11e7-b0b2-00163e9c0e35-6-89a7-98f2-5cf2-94e5-9135-9f83"
      }
     ],
     "next": "bd797188-910b-11ea-8d02-0242ac120007-7-728a-254c-2f4c-b329-b3ea-7a81-4d68",
     "previous": "35c362a4-55a3-11e7-b0b2-00163e9c0e35-7-89a7-98f2-5cf2-94e5-9135-9f83-8716"
    }
   },
   "outputs": [],
   "source": [
    "!ansible -b -m shell -a 'hostname' ceph_admin"
   ]
  },
  {
   "cell_type": "code",
   "execution_count": null,
   "metadata": {
    "lc_cell_meme": {
     "current": "bd797188-910b-11ea-8d02-0242ac120007-7-728a-254c-2f4c-b329-b3ea-7a81-4d68",
     "history": [
      {
       "current": "bd797188-910b-11ea-8d02-0242ac120007",
       "next": "35c362a4-55a3-11e7-b0b2-00163e9c0e35",
       "previous": "7d464504-9107-11ea-8d02-0242ac120007"
      },
      {
       "current": "bd797188-910b-11ea-8d02-0242ac120007",
       "next": "70b95056-9111-11ea-8d02-0242ac120007",
       "previous": "7d464504-9107-11ea-8d02-0242ac120007"
      },
      {
       "current": "bd797188-910b-11ea-8d02-0242ac120007",
       "next": "35c362a4-55a3-11e7-b0b2-00163e9c0e35",
       "previous": "7d464504-9107-11ea-8d02-0242ac120007"
      },
      {
       "current": "bd797188-910b-11ea-8d02-0242ac120007",
       "next": "35c362a4-55a3-11e7-b0b2-00163e9c0e35",
       "previous": "4cd5af28-7ef5-11ea-a926-0242ac120004"
      },
      {
       "current": "bd797188-910b-11ea-8d02-0242ac120007",
       "next": "35c36448-55a3-11e7-b0b2-00163e9c0e35",
       "previous": "35c362a4-55a3-11e7-b0b2-00163e9c0e35"
      },
      {
       "current": "bd797188-910b-11ea-8d02-0242ac120007",
       "next": "35c3783e-55a3-11e7-b0b2-00163e9c0e35",
       "previous": "35c362a4-55a3-11e7-b0b2-00163e9c0e35"
      },
      {
       "current": "bd797188-910b-11ea-8d02-0242ac120007",
       "next": "35c3783e-55a3-11e7-b0b2-00163e9c0e35",
       "previous": "484c7376-935c-11ea-8d02-0242ac120007"
      },
      {
       "current": "bd797188-910b-11ea-8d02-0242ac120007",
       "next": "35c3783e-55a3-11e7-b0b2-00163e9c0e35",
       "previous": "35c362a4-55a3-11e7-b0b2-00163e9c0e35"
      },
      {
       "current": "bd797188-910b-11ea-8d02-0242ac120007-1-728a",
       "next": "ac56a252-95bd-11ea-8d02-0242ac120007",
       "previous": "35c362a4-55a3-11e7-b0b2-00163e9c0e35"
      },
      {
       "current": "bd797188-910b-11ea-8d02-0242ac120007-1-728a",
       "next": "ac56a252-95bd-11ea-8d02-0242ac120007-1-86ee",
       "previous": "35c362a4-55a3-11e7-b0b2-00163e9c0e35-1-89a7"
      },
      {
       "current": "bd797188-910b-11ea-8d02-0242ac120007-2-728a-254c",
       "next": "ef4d2888-aa17-11ea-9ad4-0242ac120006",
       "previous": "35c362a4-55a3-11e7-b0b2-00163e9c0e35-1-89a7"
      },
      {
       "current": "bd797188-910b-11ea-8d02-0242ac120007-2-728a-254c",
       "next": "ef4d2888-aa17-11ea-9ad4-0242ac120006-1-42b7",
       "previous": "35c362a4-55a3-11e7-b0b2-00163e9c0e35-2-89a7-98f2"
      },
      {
       "current": "bd797188-910b-11ea-8d02-0242ac120007-2-728a-254c",
       "next": "ac56a252-95bd-11ea-8d02-0242ac120007-2-86ee-3a22",
       "previous": "ef4d2888-aa17-11ea-9ad4-0242ac120006-1-42b7"
      },
      {
       "current": "bd797188-910b-11ea-8d02-0242ac120007-2-728a-254c",
       "next": "ac56a252-95bd-11ea-8d02-0242ac120007-2-86ee-3a22",
       "previous": "e3856a36-df01-11eb-b29f-0242ac120008"
      },
      {
       "current": "bd797188-910b-11ea-8d02-0242ac120007-3-728a-254c-2f4c",
       "next": "21d849e2-dfd0-11eb-b29f-0242ac120008",
       "previous": "e3856a36-df01-11eb-b29f-0242ac120008"
      },
      {
       "current": "bd797188-910b-11ea-8d02-0242ac120007-3-728a-254c-2f4c",
       "next": "21d849e2-dfd0-11eb-b29f-0242ac120008-1-ee1b",
       "previous": "e3856a36-df01-11eb-b29f-0242ac120008-1-d6f1"
      },
      {
       "current": "bd797188-910b-11ea-8d02-0242ac120007-3-728a-254c-2f4c",
       "next": "21d849e2-dfd0-11eb-b29f-0242ac120008-1-ee1b",
       "previous": "ef4d2888-aa17-11ea-9ad4-0242ac120006-2-42b7-b07a"
      },
      {
       "current": "bd797188-910b-11ea-8d02-0242ac120007-3-728a-254c-2f4c",
       "next": "91d0d70c-61bd-11ee-89fa-0242ac120005",
       "previous": "ef4d2888-aa17-11ea-9ad4-0242ac120006-2-42b7-b07a"
      },
      {
       "current": "bd797188-910b-11ea-8d02-0242ac120007-4-728a-254c-2f4c-b329",
       "next": "43f4ca3e-7950-11ee-89fa-0242ac120005",
       "previous": "ef4d2888-aa17-11ea-9ad4-0242ac120006-2-42b7-b07a"
      },
      {
       "current": "bd797188-910b-11ea-8d02-0242ac120007-5-728a-254c-2f4c-b329-b3ea",
       "next": "43f4ca3e-7950-11ee-89fa-0242ac120005-1-bf71",
       "previous": "ef4d2888-aa17-11ea-9ad4-0242ac120006-3-42b7-b07a-2351"
      },
      {
       "current": "bd797188-910b-11ea-8d02-0242ac120007-6-728a-254c-2f4c-b329-b3ea-7a81",
       "next": "43f4ca3e-7950-11ee-89fa-0242ac120005-2-bf71-7f68",
       "previous": "ef4d2888-aa17-11ea-9ad4-0242ac120006-4-42b7-b07a-2351-9587"
      },
      {
       "current": "bd797188-910b-11ea-8d02-0242ac120007-7-728a-254c-2f4c-b329-b3ea-7a81-4d68",
       "next": "43f4ca3e-7950-11ee-89fa-0242ac120005-3-bf71-7f68-76fc",
       "previous": "ef4d2888-aa17-11ea-9ad4-0242ac120006-5-42b7-b07a-2351-9587-d625"
      }
     ],
     "next": "43f4ca3e-7950-11ee-89fa-0242ac120005-4-bf71-7f68-76fc-b2e2",
     "previous": "ef4d2888-aa17-11ea-9ad4-0242ac120006-6-42b7-b07a-2351-9587-d625-2c36"
    }
   },
   "outputs": [],
   "source": [
    "for node in node_list:\n",
    "    prov_ip = node['prov_ip']\n",
    "    !ansible -b -m shell -a 'hostname' $prov_ip"
   ]
  },
  {
   "cell_type": "code",
   "execution_count": null,
   "metadata": {
    "lc_cell_meme": {
     "current": "43f4ca3e-7950-11ee-89fa-0242ac120005-4-bf71-7f68-76fc-b2e2",
     "history": [
      {
       "current": "43f4ca3e-7950-11ee-89fa-0242ac120005-1-bf71",
       "next": "91d0d70c-61bd-11ee-89fa-0242ac120005",
       "previous": "bd797188-910b-11ea-8d02-0242ac120007-3-728a-254c-2f4c"
      },
      {
       "current": "43f4ca3e-7950-11ee-89fa-0242ac120005-2-bf71-7f68",
       "next": "91d0d70c-61bd-11ee-89fa-0242ac120005-1-a120",
       "previous": "bd797188-910b-11ea-8d02-0242ac120007-4-728a-254c-2f4c-b329"
      },
      {
       "current": "43f4ca3e-7950-11ee-89fa-0242ac120005-3-bf71-7f68-76fc",
       "next": "91d0d70c-61bd-11ee-89fa-0242ac120005-2-a120-23b2",
       "previous": "bd797188-910b-11ea-8d02-0242ac120007-5-728a-254c-2f4c-b329-b3ea"
      },
      {
       "current": "43f4ca3e-7950-11ee-89fa-0242ac120005-4-bf71-7f68-76fc-b2e2",
       "next": "91d0d70c-61bd-11ee-89fa-0242ac120005-3-a120-23b2-6074",
       "previous": "bd797188-910b-11ea-8d02-0242ac120007-6-728a-254c-2f4c-b329-b3ea-7a81"
      }
     ],
     "next": "91d0d70c-61bd-11ee-89fa-0242ac120005-4-a120-23b2-6074-8de1",
     "previous": "bd797188-910b-11ea-8d02-0242ac120007-7-728a-254c-2f4c-b329-b3ea-7a81-4d68"
    }
   },
   "outputs": [],
   "source": [
    "!ansible -b -m shell -a 'hostname' ceph_nodes"
   ]
  },
  {
   "cell_type": "code",
   "execution_count": null,
   "metadata": {
    "lc_cell_meme": {
     "current": "91d0d70c-61bd-11ee-89fa-0242ac120005-4-a120-23b2-6074-8de1",
     "history": [
      {
       "current": "91d0d70c-61bd-11ee-89fa-0242ac120005",
       "next": "ac56a252-95bd-11ea-8d02-0242ac120007-3-86ee-3a22-9a71",
       "previous": "21d849e2-dfd0-11eb-b29f-0242ac120008-1-ee1b"
      },
      {
       "current": "91d0d70c-61bd-11ee-89fa-0242ac120005",
       "next": "ac56a252-95bd-11ea-8d02-0242ac120007-3-86ee-3a22-9a71",
       "previous": "bd797188-910b-11ea-8d02-0242ac120007-3-728a-254c-2f4c"
      },
      {
       "current": "91d0d70c-61bd-11ee-89fa-0242ac120005-1-a120",
       "next": "ac56a252-95bd-11ea-8d02-0242ac120007-3-86ee-3a22-9a71",
       "previous": "43f4ca3e-7950-11ee-89fa-0242ac120005"
      },
      {
       "current": "91d0d70c-61bd-11ee-89fa-0242ac120005-2-a120-23b2",
       "next": "ac56a252-95bd-11ea-8d02-0242ac120007-4-86ee-3a22-9a71-4084",
       "previous": "43f4ca3e-7950-11ee-89fa-0242ac120005-1-bf71"
      },
      {
       "current": "91d0d70c-61bd-11ee-89fa-0242ac120005-3-a120-23b2-6074",
       "next": "ac56a252-95bd-11ea-8d02-0242ac120007-5-86ee-3a22-9a71-4084-6c0e",
       "previous": "43f4ca3e-7950-11ee-89fa-0242ac120005-2-bf71-7f68"
      },
      {
       "current": "91d0d70c-61bd-11ee-89fa-0242ac120005-4-a120-23b2-6074-8de1",
       "next": "ac56a252-95bd-11ea-8d02-0242ac120007-6-86ee-3a22-9a71-4084-6c0e-b2f1",
       "previous": "43f4ca3e-7950-11ee-89fa-0242ac120005-3-bf71-7f68-76fc"
      }
     ],
     "next": "ac56a252-95bd-11ea-8d02-0242ac120007-7-86ee-3a22-9a71-4084-6c0e-b2f1-0b21",
     "previous": "43f4ca3e-7950-11ee-89fa-0242ac120005-4-bf71-7f68-76fc-b2e2"
    },
    "scrolled": true
   },
   "outputs": [],
   "source": [
    "!ansible -b -m shell -a 'hostname' bootstrap"
   ]
  },
  {
   "cell_type": "markdown",
   "metadata": {
    "lc_cell_meme": {
     "current": "ac56a252-95bd-11ea-8d02-0242ac120007-7-86ee-3a22-9a71-4084-6c0e-b2f1-0b21",
     "history": [
      {
       "current": "ac56a252-95bd-11ea-8d02-0242ac120007-1-86ee",
       "next": "ac56a6c6-95bd-11ea-8d02-0242ac120007",
       "previous": "bd797188-910b-11ea-8d02-0242ac120007"
      },
      {
       "current": "ac56a252-95bd-11ea-8d02-0242ac120007-1-86ee",
       "next": "ac56a6c6-95bd-11ea-8d02-0242ac120007-1-431a",
       "previous": "bd797188-910b-11ea-8d02-0242ac120007-1-728a"
      },
      {
       "current": "ac56a252-95bd-11ea-8d02-0242ac120007-1-86ee",
       "next": "46b93d3e-95bc-11ea-8d02-0242ac120007-1-9f9c",
       "previous": "bd797188-910b-11ea-8d02-0242ac120007-1-728a"
      },
      {
       "current": "ac56a252-95bd-11ea-8d02-0242ac120007-2-86ee-3a22",
       "next": "46b93d3e-95bc-11ea-8d02-0242ac120007-1-9f9c",
       "previous": "ef4d2888-aa17-11ea-9ad4-0242ac120006"
      },
      {
       "current": "ac56a252-95bd-11ea-8d02-0242ac120007-2-86ee-3a22",
       "next": "46b93d3e-95bc-11ea-8d02-0242ac120007-2-9f9c-2f8b",
       "previous": "ef4d2888-aa17-11ea-9ad4-0242ac120006-1-42b7"
      },
      {
       "current": "ac56a252-95bd-11ea-8d02-0242ac120007-2-86ee-3a22",
       "next": "46b93d3e-95bc-11ea-8d02-0242ac120007-2-9f9c-2f8b",
       "previous": "bd797188-910b-11ea-8d02-0242ac120007-2-728a-254c"
      },
      {
       "current": "ac56a252-95bd-11ea-8d02-0242ac120007-3-86ee-3a22-9a71",
       "next": "46b93d3e-95bc-11ea-8d02-0242ac120007-2-9f9c-2f8b",
       "previous": "21d849e2-dfd0-11eb-b29f-0242ac120008"
      },
      {
       "current": "ac56a252-95bd-11ea-8d02-0242ac120007-3-86ee-3a22-9a71",
       "next": "46b93d3e-95bc-11ea-8d02-0242ac120007-3-9f9c-2f8b-fd5c",
       "previous": "21d849e2-dfd0-11eb-b29f-0242ac120008-1-ee1b"
      },
      {
       "current": "ac56a252-95bd-11ea-8d02-0242ac120007-3-86ee-3a22-9a71",
       "next": "1e5a5a54-4bb1-11ee-89fa-0242ac120005",
       "previous": "21d849e2-dfd0-11eb-b29f-0242ac120008-1-ee1b"
      },
      {
       "current": "ac56a252-95bd-11ea-8d02-0242ac120007-3-86ee-3a22-9a71",
       "next": "65e00220-4bb1-11ee-89fa-0242ac120005",
       "previous": "21d849e2-dfd0-11eb-b29f-0242ac120008-1-ee1b"
      },
      {
       "current": "ac56a252-95bd-11ea-8d02-0242ac120007-3-86ee-3a22-9a71",
       "next": "5d429cae-6191-11ee-89fa-0242ac120005",
       "previous": "21d849e2-dfd0-11eb-b29f-0242ac120008-1-ee1b"
      },
      {
       "current": "ac56a252-95bd-11ea-8d02-0242ac120007-3-86ee-3a22-9a71",
       "next": "5d429cae-6191-11ee-89fa-0242ac120005",
       "previous": "91d0d70c-61bd-11ee-89fa-0242ac120005"
      },
      {
       "current": "ac56a252-95bd-11ea-8d02-0242ac120007-3-86ee-3a22-9a71",
       "next": "d9541562-61bd-11ee-89fa-0242ac120005",
       "previous": "91d0d70c-61bd-11ee-89fa-0242ac120005"
      },
      {
       "current": "ac56a252-95bd-11ea-8d02-0242ac120007-3-86ee-3a22-9a71",
       "next": "a55217b0-7166-11ee-89fa-0242ac120005",
       "previous": "91d0d70c-61bd-11ee-89fa-0242ac120005"
      },
      {
       "current": "ac56a252-95bd-11ea-8d02-0242ac120007-3-86ee-3a22-9a71",
       "next": "8f9c95d6-716a-11ee-89fa-0242ac120005",
       "previous": "91d0d70c-61bd-11ee-89fa-0242ac120005"
      },
      {
       "current": "ac56a252-95bd-11ea-8d02-0242ac120007-3-86ee-3a22-9a71",
       "next": "31f70f06-7877-11ee-89fa-0242ac120005",
       "previous": "91d0d70c-61bd-11ee-89fa-0242ac120005"
      },
      {
       "current": "ac56a252-95bd-11ea-8d02-0242ac120007-3-86ee-3a22-9a71",
       "next": "fdebe68c-7880-11ee-89fa-0242ac120005",
       "previous": "91d0d70c-61bd-11ee-89fa-0242ac120005"
      },
      {
       "current": "ac56a252-95bd-11ea-8d02-0242ac120007-4-86ee-3a22-9a71-4084",
       "next": "1c10c3d4-7882-11ee-89fa-0242ac120005",
       "previous": "91d0d70c-61bd-11ee-89fa-0242ac120005"
      },
      {
       "current": "ac56a252-95bd-11ea-8d02-0242ac120007-5-86ee-3a22-9a71-4084-6c0e",
       "next": "1c10c3d4-7882-11ee-89fa-0242ac120005-1-2b76",
       "previous": "91d0d70c-61bd-11ee-89fa-0242ac120005-1-a120"
      },
      {
       "current": "ac56a252-95bd-11ea-8d02-0242ac120007-6-86ee-3a22-9a71-4084-6c0e-b2f1",
       "next": "1c10c3d4-7882-11ee-89fa-0242ac120005-2-2b76-2bf3",
       "previous": "91d0d70c-61bd-11ee-89fa-0242ac120005-2-a120-23b2"
      },
      {
       "current": "ac56a252-95bd-11ea-8d02-0242ac120007-7-86ee-3a22-9a71-4084-6c0e-b2f1-0b21",
       "next": "1c10c3d4-7882-11ee-89fa-0242ac120005-3-2b76-2bf3-b806",
       "previous": "91d0d70c-61bd-11ee-89fa-0242ac120005-3-a120-23b2-6074"
      }
     ],
     "next": "1c10c3d4-7882-11ee-89fa-0242ac120005-4-2b76-2bf3-b806-896f",
     "previous": "91d0d70c-61bd-11ee-89fa-0242ac120005-4-a120-23b2-6074-8de1"
    }
   },
   "source": [
    "# OSD情報の取得"
   ]
  },
  {
   "cell_type": "markdown",
   "metadata": {
    "lc_cell_meme": {
     "current": "1c10c3d4-7882-11ee-89fa-0242ac120005-4-2b76-2bf3-b806-896f",
     "history": [
      {
       "current": "1c10c3d4-7882-11ee-89fa-0242ac120005-1-2b76",
       "next": "31f70f06-7877-11ee-89fa-0242ac120005",
       "previous": "ac56a252-95bd-11ea-8d02-0242ac120007-3-86ee-3a22-9a71"
      },
      {
       "current": "1c10c3d4-7882-11ee-89fa-0242ac120005-2-2b76-2bf3",
       "next": "31f70f06-7877-11ee-89fa-0242ac120005-1-82f9",
       "previous": "ac56a252-95bd-11ea-8d02-0242ac120007-4-86ee-3a22-9a71-4084"
      },
      {
       "current": "1c10c3d4-7882-11ee-89fa-0242ac120005-3-2b76-2bf3-b806",
       "next": "31f70f06-7877-11ee-89fa-0242ac120005-2-82f9-42c5",
       "previous": "ac56a252-95bd-11ea-8d02-0242ac120007-5-86ee-3a22-9a71-4084-6c0e"
      },
      {
       "current": "1c10c3d4-7882-11ee-89fa-0242ac120005-4-2b76-2bf3-b806-896f",
       "next": "31f70f06-7877-11ee-89fa-0242ac120005-3-82f9-42c5-e495",
       "previous": "ac56a252-95bd-11ea-8d02-0242ac120007-6-86ee-3a22-9a71-4084-6c0e-b2f1"
      }
     ],
     "next": "31f70f06-7877-11ee-89fa-0242ac120005-4-82f9-42c5-e495-be2f",
     "previous": "ac56a252-95bd-11ea-8d02-0242ac120007-7-86ee-3a22-9a71-4084-6c0e-b2f1-0b21"
    }
   },
   "source": [
    "## 全てのOSD情報取得"
   ]
  },
  {
   "cell_type": "code",
   "execution_count": null,
   "metadata": {
    "lc_cell_meme": {
     "current": "31f70f06-7877-11ee-89fa-0242ac120005-4-82f9-42c5-e495-be2f",
     "history": [
      {
       "current": "31f70f06-7877-11ee-89fa-0242ac120005",
       "next": "31f71280-7877-11ee-89fa-0242ac120005",
       "previous": "ac56a252-95bd-11ea-8d02-0242ac120007-3-86ee-3a22-9a71"
      },
      {
       "current": "31f70f06-7877-11ee-89fa-0242ac120005",
       "next": "31f71280-7877-11ee-89fa-0242ac120005",
       "previous": "fdebec4a-7880-11ee-89fa-0242ac120005"
      },
      {
       "current": "31f70f06-7877-11ee-89fa-0242ac120005-1-82f9",
       "next": "31f71280-7877-11ee-89fa-0242ac120005",
       "previous": "1c10c3d4-7882-11ee-89fa-0242ac120005"
      },
      {
       "current": "31f70f06-7877-11ee-89fa-0242ac120005-2-82f9-42c5",
       "next": "31f71280-7877-11ee-89fa-0242ac120005-1-e908",
       "previous": "1c10c3d4-7882-11ee-89fa-0242ac120005-1-2b76"
      },
      {
       "current": "31f70f06-7877-11ee-89fa-0242ac120005-3-82f9-42c5-e495",
       "next": "31f71280-7877-11ee-89fa-0242ac120005-2-e908-3467",
       "previous": "1c10c3d4-7882-11ee-89fa-0242ac120005-2-2b76-2bf3"
      },
      {
       "current": "31f70f06-7877-11ee-89fa-0242ac120005-4-82f9-42c5-e495-be2f",
       "next": "31f71280-7877-11ee-89fa-0242ac120005-3-e908-3467-f689",
       "previous": "1c10c3d4-7882-11ee-89fa-0242ac120005-3-2b76-2bf3-b806"
      }
     ],
     "next": "31f71280-7877-11ee-89fa-0242ac120005-4-e908-3467-f689-4d50",
     "previous": "1c10c3d4-7882-11ee-89fa-0242ac120005-4-2b76-2bf3-b806-896f"
    }
   },
   "outputs": [],
   "source": [
    "ret = !ansible -b -m shell -a 'cephadm shell -- ceph osd tree --format=json 2> /dev/null' bootstrap"
   ]
  },
  {
   "cell_type": "code",
   "execution_count": null,
   "metadata": {
    "lc_cell_meme": {
     "current": "31f71280-7877-11ee-89fa-0242ac120005-4-e908-3467-f689-4d50",
     "history": [
      {
       "current": "31f71280-7877-11ee-89fa-0242ac120005-1-e908",
       "next": "31f7132a-7877-11ee-89fa-0242ac120005",
       "previous": "31f70f06-7877-11ee-89fa-0242ac120005"
      },
      {
       "current": "31f71280-7877-11ee-89fa-0242ac120005-2-e908-3467",
       "next": "31f7132a-7877-11ee-89fa-0242ac120005-1-8c4b",
       "previous": "31f70f06-7877-11ee-89fa-0242ac120005-1-82f9"
      },
      {
       "current": "31f71280-7877-11ee-89fa-0242ac120005-3-e908-3467-f689",
       "next": "31f7132a-7877-11ee-89fa-0242ac120005-2-8c4b-3ee9",
       "previous": "31f70f06-7877-11ee-89fa-0242ac120005-2-82f9-42c5"
      },
      {
       "current": "31f71280-7877-11ee-89fa-0242ac120005-4-e908-3467-f689-4d50",
       "next": "31f7132a-7877-11ee-89fa-0242ac120005-3-8c4b-3ee9-5f4d",
       "previous": "31f70f06-7877-11ee-89fa-0242ac120005-3-82f9-42c5-e495"
      }
     ],
     "next": "31f7132a-7877-11ee-89fa-0242ac120005-4-8c4b-3ee9-5f4d-5c18",
     "previous": "31f70f06-7877-11ee-89fa-0242ac120005-4-82f9-42c5-e495-be2f"
    },
    "scrolled": true
   },
   "outputs": [],
   "source": [
    "print(ret)"
   ]
  },
  {
   "cell_type": "code",
   "execution_count": null,
   "metadata": {
    "lc_cell_meme": {
     "current": "31f7132a-7877-11ee-89fa-0242ac120005-4-8c4b-3ee9-5f4d-5c18",
     "history": [
      {
       "current": "31f7132a-7877-11ee-89fa-0242ac120005-1-8c4b",
       "next": "31f71398-7877-11ee-89fa-0242ac120005",
       "previous": "31f71280-7877-11ee-89fa-0242ac120005"
      },
      {
       "current": "31f7132a-7877-11ee-89fa-0242ac120005-2-8c4b-3ee9",
       "next": "31f71398-7877-11ee-89fa-0242ac120005-1-5f64",
       "previous": "31f71280-7877-11ee-89fa-0242ac120005-1-e908"
      },
      {
       "current": "31f7132a-7877-11ee-89fa-0242ac120005-3-8c4b-3ee9-5f4d",
       "next": "31f71398-7877-11ee-89fa-0242ac120005-2-5f64-29b7",
       "previous": "31f71280-7877-11ee-89fa-0242ac120005-2-e908-3467"
      },
      {
       "current": "31f7132a-7877-11ee-89fa-0242ac120005-4-8c4b-3ee9-5f4d-5c18",
       "next": "31f71398-7877-11ee-89fa-0242ac120005-3-5f64-29b7-886d",
       "previous": "31f71280-7877-11ee-89fa-0242ac120005-3-e908-3467-f689"
      }
     ],
     "next": "31f71398-7877-11ee-89fa-0242ac120005-4-5f64-29b7-886d-8606",
     "previous": "31f71280-7877-11ee-89fa-0242ac120005-4-e908-3467-f689-4d50"
    },
    "scrolled": true
   },
   "outputs": [],
   "source": [
    "osd_tree = json.loads(ret[2])\n",
    "print(json.dumps(osd_tree, indent=2))"
   ]
  },
  {
   "cell_type": "code",
   "execution_count": null,
   "metadata": {
    "lc_cell_meme": {
     "current": "31f71398-7877-11ee-89fa-0242ac120005-4-5f64-29b7-886d-8606",
     "history": [
      {
       "current": "31f71398-7877-11ee-89fa-0242ac120005",
       "next": "8f9c95d6-716a-11ee-89fa-0242ac120005",
       "previous": "31f7132a-7877-11ee-89fa-0242ac120005"
      },
      {
       "current": "31f71398-7877-11ee-89fa-0242ac120005",
       "next": "35c581ba-55a3-11e7-b0b2-00163e9c0e35-3-f60b-133a-40ef",
       "previous": "31f7132a-7877-11ee-89fa-0242ac120005"
      },
      {
       "current": "31f71398-7877-11ee-89fa-0242ac120005",
       "next": "8c52f2dc-787a-11ee-89fa-0242ac120005",
       "previous": "31f7132a-7877-11ee-89fa-0242ac120005"
      },
      {
       "current": "31f71398-7877-11ee-89fa-0242ac120005-1-5f64",
       "next": "8c52f5b6-787a-11ee-89fa-0242ac120005",
       "previous": "31f7132a-7877-11ee-89fa-0242ac120005"
      },
      {
       "current": "31f71398-7877-11ee-89fa-0242ac120005-2-5f64-29b7",
       "next": "8c52f5b6-787a-11ee-89fa-0242ac120005-1-4fed",
       "previous": "31f7132a-7877-11ee-89fa-0242ac120005-1-8c4b"
      },
      {
       "current": "31f71398-7877-11ee-89fa-0242ac120005-3-5f64-29b7-886d",
       "next": "8c52f5b6-787a-11ee-89fa-0242ac120005-2-4fed-936e",
       "previous": "31f7132a-7877-11ee-89fa-0242ac120005-2-8c4b-3ee9"
      },
      {
       "current": "31f71398-7877-11ee-89fa-0242ac120005-4-5f64-29b7-886d-8606",
       "next": "8c52f5b6-787a-11ee-89fa-0242ac120005-3-4fed-936e-01a5",
       "previous": "31f7132a-7877-11ee-89fa-0242ac120005-3-8c4b-3ee9-5f4d"
      }
     ],
     "next": "8c52f5b6-787a-11ee-89fa-0242ac120005-4-4fed-936e-01a5-12af",
     "previous": "31f7132a-7877-11ee-89fa-0242ac120005-4-8c4b-3ee9-5f4d-5c18"
    }
   },
   "outputs": [],
   "source": [
    "host_map = {}\n",
    "osd_map = {}\n",
    "osd_info_list = []\n",
    "\n",
    "nodes = osd_tree['nodes']\n",
    "for osd_tree_info in nodes:\n",
    "    info_type = osd_tree_info.get('type',None)\n",
    "    if info_type == \"host\":\n",
    "        host_map[osd_tree_info['name']] = osd_tree_info\n",
    "    elif  info_type == \"osd\":\n",
    "        osd_map[osd_tree_info['id']] = osd_tree_info\n",
    "\n",
    "for key,val in host_map.items():\n",
    "    children = val.get('children',[])\n",
    "    for osd_id in children:\n",
    "        osd = osd_map.get(osd_id,None)\n",
    "        if osd is not None:\n",
    "            osd['host_name'] = key\n",
    "            osd.pop('pool_weights')\n",
    "            osd_info_list.append(osd)\n"
   ]
  },
  {
   "cell_type": "code",
   "execution_count": null,
   "metadata": {
    "lc_cell_meme": {
     "current": "8c52f5b6-787a-11ee-89fa-0242ac120005-4-4fed-936e-01a5-12af",
     "history": [
      {
       "current": "8c52f5b6-787a-11ee-89fa-0242ac120005",
       "next": "8c52f66a-787a-11ee-89fa-0242ac120005",
       "previous": "8c52f2dc-787a-11ee-89fa-0242ac120005"
      },
      {
       "current": "8c52f5b6-787a-11ee-89fa-0242ac120005",
       "next": "1c10c596-7882-11ee-89fa-0242ac120005",
       "previous": "8c52f2dc-787a-11ee-89fa-0242ac120005"
      },
      {
       "current": "8c52f5b6-787a-11ee-89fa-0242ac120005",
       "next": "1c10c596-7882-11ee-89fa-0242ac120005-1-83a6",
       "previous": "8c52f2dc-787a-11ee-89fa-0242ac120005"
      },
      {
       "current": "8c52f5b6-787a-11ee-89fa-0242ac120005-1-4fed",
       "next": "1c10c596-7882-11ee-89fa-0242ac120005-1-83a6",
       "previous": "31f71398-7877-11ee-89fa-0242ac120005"
      },
      {
       "current": "8c52f5b6-787a-11ee-89fa-0242ac120005-2-4fed-936e",
       "next": "1c10c596-7882-11ee-89fa-0242ac120005-2-83a6-da67",
       "previous": "31f71398-7877-11ee-89fa-0242ac120005-1-5f64"
      },
      {
       "current": "8c52f5b6-787a-11ee-89fa-0242ac120005-3-4fed-936e-01a5",
       "next": "1c10c596-7882-11ee-89fa-0242ac120005-3-83a6-da67-038e",
       "previous": "31f71398-7877-11ee-89fa-0242ac120005-2-5f64-29b7"
      },
      {
       "current": "8c52f5b6-787a-11ee-89fa-0242ac120005-4-4fed-936e-01a5-12af",
       "next": "1c10c596-7882-11ee-89fa-0242ac120005-4-83a6-da67-038e-dbf1",
       "previous": "31f71398-7877-11ee-89fa-0242ac120005-3-5f64-29b7-886d"
      }
     ],
     "next": "1c10c596-7882-11ee-89fa-0242ac120005-5-83a6-da67-038e-dbf1-7bbb",
     "previous": "31f71398-7877-11ee-89fa-0242ac120005-4-5f64-29b7-886d-8606"
    },
    "scrolled": true
   },
   "outputs": [],
   "source": [
    "pd.DataFrame(osd_info_list)"
   ]
  },
  {
   "cell_type": "markdown",
   "metadata": {
    "lc_cell_meme": {
     "current": "1c10c596-7882-11ee-89fa-0242ac120005-5-83a6-da67-038e-dbf1-7bbb",
     "history": [
      {
       "current": "1c10c596-7882-11ee-89fa-0242ac120005-1-83a6",
       "next": "8c52f66a-787a-11ee-89fa-0242ac120005",
       "previous": "8c52f5b6-787a-11ee-89fa-0242ac120005"
      },
      {
       "current": "1c10c596-7882-11ee-89fa-0242ac120005-2-83a6-da67",
       "next": "63983a8e-7882-11ee-89fa-0242ac120005",
       "previous": "8c52f5b6-787a-11ee-89fa-0242ac120005"
      },
      {
       "current": "1c10c596-7882-11ee-89fa-0242ac120005-3-83a6-da67-038e",
       "next": "63983a8e-7882-11ee-89fa-0242ac120005-1-339c",
       "previous": "8c52f5b6-787a-11ee-89fa-0242ac120005-1-4fed"
      },
      {
       "current": "1c10c596-7882-11ee-89fa-0242ac120005-4-83a6-da67-038e-dbf1",
       "next": "63983a8e-7882-11ee-89fa-0242ac120005-2-339c-033b",
       "previous": "8c52f5b6-787a-11ee-89fa-0242ac120005-2-4fed-936e"
      },
      {
       "current": "1c10c596-7882-11ee-89fa-0242ac120005-5-83a6-da67-038e-dbf1-7bbb",
       "next": "63983a8e-7882-11ee-89fa-0242ac120005-3-339c-033b-32b5",
       "previous": "8c52f5b6-787a-11ee-89fa-0242ac120005-3-4fed-936e-01a5"
      }
     ],
     "next": "63983a8e-7882-11ee-89fa-0242ac120005-4-339c-033b-32b5-5de9",
     "previous": "8c52f5b6-787a-11ee-89fa-0242ac120005-4-4fed-936e-01a5-12af"
    }
   },
   "source": [
    "## 対象OSDの詳細情報取得"
   ]
  },
  {
   "cell_type": "code",
   "execution_count": null,
   "metadata": {
    "lc_cell_meme": {
     "current": "63983a8e-7882-11ee-89fa-0242ac120005-4-339c-033b-32b5-5de9",
     "history": [
      {
       "current": "63983a8e-7882-11ee-89fa-0242ac120005",
       "next": "63983bb0-7882-11ee-89fa-0242ac120005",
       "previous": "8c52f6ec-787a-11ee-89fa-0242ac120005"
      },
      {
       "current": "63983a8e-7882-11ee-89fa-0242ac120005",
       "next": "63983bb0-7882-11ee-89fa-0242ac120005",
       "previous": "1c10c596-7882-11ee-89fa-0242ac120005-1-83a6"
      },
      {
       "current": "63983a8e-7882-11ee-89fa-0242ac120005-1-339c",
       "next": "63983ca0-7882-11ee-89fa-0242ac120005",
       "previous": "1c10c596-7882-11ee-89fa-0242ac120005-1-83a6"
      },
      {
       "current": "63983a8e-7882-11ee-89fa-0242ac120005-2-339c-033b",
       "next": "63983ca0-7882-11ee-89fa-0242ac120005-1-0290",
       "previous": "1c10c596-7882-11ee-89fa-0242ac120005-2-83a6-da67"
      },
      {
       "current": "63983a8e-7882-11ee-89fa-0242ac120005-3-339c-033b-32b5",
       "next": "63983ca0-7882-11ee-89fa-0242ac120005-2-0290-4ca8",
       "previous": "1c10c596-7882-11ee-89fa-0242ac120005-3-83a6-da67-038e"
      },
      {
       "current": "63983a8e-7882-11ee-89fa-0242ac120005-4-339c-033b-32b5-5de9",
       "next": "63983ca0-7882-11ee-89fa-0242ac120005-3-0290-4ca8-8766",
       "previous": "1c10c596-7882-11ee-89fa-0242ac120005-4-83a6-da67-038e-dbf1"
      }
     ],
     "next": "63983ca0-7882-11ee-89fa-0242ac120005-4-0290-4ca8-8766-47dd",
     "previous": "1c10c596-7882-11ee-89fa-0242ac120005-5-83a6-da67-038e-dbf1-7bbb"
    }
   },
   "outputs": [],
   "source": [
    "ret = !ansible -b -m shell -a \"cephadm shell -- ceph osd metadata --format=json 2> /dev/null\" bootstrap"
   ]
  },
  {
   "cell_type": "code",
   "execution_count": null,
   "metadata": {
    "lc_cell_meme": {
     "current": "63983ca0-7882-11ee-89fa-0242ac120005-4-0290-4ca8-8766-47dd",
     "history": [
      {
       "current": "63983ca0-7882-11ee-89fa-0242ac120005",
       "next": "8c52f7d2-787a-11ee-89fa-0242ac120005",
       "previous": "63983bb0-7882-11ee-89fa-0242ac120005"
      },
      {
       "current": "63983ca0-7882-11ee-89fa-0242ac120005",
       "next": "73a3ee14-788c-11ee-89fa-0242ac120005",
       "previous": "63983bb0-7882-11ee-89fa-0242ac120005"
      },
      {
       "current": "63983ca0-7882-11ee-89fa-0242ac120005-1-0290",
       "next": "73a3ee14-788c-11ee-89fa-0242ac120005",
       "previous": "63983a8e-7882-11ee-89fa-0242ac120005"
      },
      {
       "current": "63983ca0-7882-11ee-89fa-0242ac120005-2-0290-4ca8",
       "next": "73a3ee14-788c-11ee-89fa-0242ac120005-1-ebc9",
       "previous": "63983a8e-7882-11ee-89fa-0242ac120005-1-339c"
      },
      {
       "current": "63983ca0-7882-11ee-89fa-0242ac120005-3-0290-4ca8-8766",
       "next": "73a3ee14-788c-11ee-89fa-0242ac120005-2-ebc9-bb4d",
       "previous": "63983a8e-7882-11ee-89fa-0242ac120005-2-339c-033b"
      },
      {
       "current": "63983ca0-7882-11ee-89fa-0242ac120005-4-0290-4ca8-8766-47dd",
       "next": "73a3ee14-788c-11ee-89fa-0242ac120005-3-ebc9-bb4d-96d3",
       "previous": "63983a8e-7882-11ee-89fa-0242ac120005-3-339c-033b-32b5"
      }
     ],
     "next": "73a3ee14-788c-11ee-89fa-0242ac120005-4-ebc9-bb4d-96d3-f8de",
     "previous": "63983a8e-7882-11ee-89fa-0242ac120005-4-339c-033b-32b5-5de9"
    },
    "scrolled": true
   },
   "outputs": [],
   "source": [
    "osd_metadata_list = json.loads(ret[2])\n",
    "print(json.dumps(osd_metadata_list, indent=2))"
   ]
  },
  {
   "cell_type": "code",
   "execution_count": null,
   "metadata": {
    "lc_cell_meme": {
     "current": "73a3ee14-788c-11ee-89fa-0242ac120005-4-ebc9-bb4d-96d3-f8de",
     "history": [
      {
       "current": "73a3ee14-788c-11ee-89fa-0242ac120005",
       "next": "73a3eee6-788c-11ee-89fa-0242ac120005",
       "previous": "63983ca0-7882-11ee-89fa-0242ac120005"
      },
      {
       "current": "73a3ee14-788c-11ee-89fa-0242ac120005-1-ebc9",
       "next": "38ab707c-7952-11ee-89fa-0242ac120005",
       "previous": "63983ca0-7882-11ee-89fa-0242ac120005"
      },
      {
       "current": "73a3ee14-788c-11ee-89fa-0242ac120005-2-ebc9-bb4d",
       "next": "38ab707c-7952-11ee-89fa-0242ac120005-1-148e",
       "previous": "63983ca0-7882-11ee-89fa-0242ac120005-1-0290"
      },
      {
       "current": "73a3ee14-788c-11ee-89fa-0242ac120005-3-ebc9-bb4d-96d3",
       "next": "38ab707c-7952-11ee-89fa-0242ac120005-2-148e-ee14",
       "previous": "63983ca0-7882-11ee-89fa-0242ac120005-2-0290-4ca8"
      },
      {
       "current": "73a3ee14-788c-11ee-89fa-0242ac120005-4-ebc9-bb4d-96d3-f8de",
       "next": "38ab707c-7952-11ee-89fa-0242ac120005-3-148e-ee14-ea76",
       "previous": "63983ca0-7882-11ee-89fa-0242ac120005-3-0290-4ca8-8766"
      }
     ],
     "next": "38ab707c-7952-11ee-89fa-0242ac120005-4-148e-ee14-ea76-5bb1",
     "previous": "63983ca0-7882-11ee-89fa-0242ac120005-4-0290-4ca8-8766-47dd"
    }
   },
   "outputs": [],
   "source": [
    "for osd_metadata in osd_metadata_list:\n",
    "    bluefs_db_partition_path = osd_metadata['bluefs_db_partition_path']\n",
    "    bluestore_bdev_partition_path = osd_metadata['bluestore_bdev_partition_path']\n",
    "    osd_id =  osd_metadata['id']\n",
    "    osd = osd_map.get(osd_id,None)\n",
    "    osd['bluefs_db_partition_path'] = bluefs_db_partition_path\n",
    "    osd['bluestore_bdev_partition_path'] = bluestore_bdev_partition_path\n"
   ]
  },
  {
   "cell_type": "code",
   "execution_count": null,
   "metadata": {
    "lc_cell_meme": {
     "current": "38ab707c-7952-11ee-89fa-0242ac120005-4-148e-ee14-ea76-5bb1",
     "history": [
      {
       "current": "38ab707c-7952-11ee-89fa-0242ac120005",
       "next": "38ab720c-7952-11ee-89fa-0242ac120005",
       "previous": "73a3ee14-788c-11ee-89fa-0242ac120005"
      },
      {
       "current": "38ab707c-7952-11ee-89fa-0242ac120005-1-148e",
       "next": "38ab720c-7952-11ee-89fa-0242ac120005-3-0da0-508c-90bc",
       "previous": "73a3ee14-788c-11ee-89fa-0242ac120005"
      },
      {
       "current": "38ab707c-7952-11ee-89fa-0242ac120005-2-148e-ee14",
       "next": "38ab720c-7952-11ee-89fa-0242ac120005-4-0da0-508c-90bc-c89a",
       "previous": "73a3ee14-788c-11ee-89fa-0242ac120005-1-ebc9"
      },
      {
       "current": "38ab707c-7952-11ee-89fa-0242ac120005-3-148e-ee14-ea76",
       "next": "38ab720c-7952-11ee-89fa-0242ac120005-5-0da0-508c-90bc-c89a-2a75",
       "previous": "73a3ee14-788c-11ee-89fa-0242ac120005-2-ebc9-bb4d"
      },
      {
       "current": "38ab707c-7952-11ee-89fa-0242ac120005-4-148e-ee14-ea76-5bb1",
       "next": "38ab720c-7952-11ee-89fa-0242ac120005-6-0da0-508c-90bc-c89a-2a75-b25c",
       "previous": "73a3ee14-788c-11ee-89fa-0242ac120005-3-ebc9-bb4d-96d3"
      }
     ],
     "next": "38ab720c-7952-11ee-89fa-0242ac120005-7-0da0-508c-90bc-c89a-2a75-b25c-fb8b",
     "previous": "73a3ee14-788c-11ee-89fa-0242ac120005-4-ebc9-bb4d-96d3-f8de"
    },
    "scrolled": true
   },
   "outputs": [],
   "source": [
    "pd.DataFrame(osd_info_list)"
   ]
  },
  {
   "cell_type": "markdown",
   "metadata": {
    "lc_cell_meme": {
     "current": "38ab720c-7952-11ee-89fa-0242ac120005-7-0da0-508c-90bc-c89a-2a75-b25c-fb8b",
     "history": [
      {
       "current": "38ab720c-7952-11ee-89fa-0242ac120005-4-0da0-508c-90bc-c89a",
       "next": "38ab7298-7952-11ee-89fa-0242ac120005",
       "previous": "38ab707c-7952-11ee-89fa-0242ac120005"
      },
      {
       "current": "38ab720c-7952-11ee-89fa-0242ac120005-5-0da0-508c-90bc-c89a-2a75",
       "next": "38ab7298-7952-11ee-89fa-0242ac120005-1-0d15",
       "previous": "38ab707c-7952-11ee-89fa-0242ac120005-1-148e"
      },
      {
       "current": "38ab720c-7952-11ee-89fa-0242ac120005-6-0da0-508c-90bc-c89a-2a75-b25c",
       "next": "38ab7298-7952-11ee-89fa-0242ac120005-2-0d15-350d",
       "previous": "38ab707c-7952-11ee-89fa-0242ac120005-2-148e-ee14"
      },
      {
       "current": "38ab720c-7952-11ee-89fa-0242ac120005-7-0da0-508c-90bc-c89a-2a75-b25c-fb8b",
       "next": "38ab7298-7952-11ee-89fa-0242ac120005-3-0d15-350d-780f",
       "previous": "38ab707c-7952-11ee-89fa-0242ac120005-3-148e-ee14-ea76"
      }
     ],
     "next": "38ab7298-7952-11ee-89fa-0242ac120005-4-0d15-350d-780f-485d",
     "previous": "38ab707c-7952-11ee-89fa-0242ac120005-4-148e-ee14-ea76-5bb1"
    }
   },
   "source": [
    "## Down OSD情報取得"
   ]
  },
  {
   "cell_type": "code",
   "execution_count": null,
   "metadata": {
    "lc_cell_meme": {
     "current": "38ab7298-7952-11ee-89fa-0242ac120005-4-0d15-350d-780f-485d",
     "history": [
      {
       "current": "38ab7298-7952-11ee-89fa-0242ac120005",
       "next": "38ab72fc-7952-11ee-89fa-0242ac120005",
       "previous": "38ab720c-7952-11ee-89fa-0242ac120005"
      },
      {
       "current": "38ab7298-7952-11ee-89fa-0242ac120005-1-0d15",
       "next": "38ab72fc-7952-11ee-89fa-0242ac120005",
       "previous": "38ab720c-7952-11ee-89fa-0242ac120005-3-0da0-508c-90bc"
      },
      {
       "current": "38ab7298-7952-11ee-89fa-0242ac120005-2-0d15-350d",
       "next": "38ab72fc-7952-11ee-89fa-0242ac120005-1-a451",
       "previous": "38ab720c-7952-11ee-89fa-0242ac120005-4-0da0-508c-90bc-c89a"
      },
      {
       "current": "38ab7298-7952-11ee-89fa-0242ac120005-3-0d15-350d-780f",
       "next": "38ab72fc-7952-11ee-89fa-0242ac120005-2-a451-b895",
       "previous": "38ab720c-7952-11ee-89fa-0242ac120005-5-0da0-508c-90bc-c89a-2a75"
      },
      {
       "current": "38ab7298-7952-11ee-89fa-0242ac120005-4-0d15-350d-780f-485d",
       "next": "38ab72fc-7952-11ee-89fa-0242ac120005-3-a451-b895-87d2",
       "previous": "38ab720c-7952-11ee-89fa-0242ac120005-6-0da0-508c-90bc-c89a-2a75-b25c"
      }
     ],
     "next": "38ab72fc-7952-11ee-89fa-0242ac120005-4-a451-b895-87d2-e291",
     "previous": "38ab720c-7952-11ee-89fa-0242ac120005-7-0da0-508c-90bc-c89a-2a75-b25c-fb8b"
    }
   },
   "outputs": [],
   "source": [
    "down_osd_info_list = []\n",
    "for osd_info in osd_info_list:\n",
    "    status = osd_info['status']\n",
    "    if status == 'down':\n",
    "        down_osd_info_list.append(osd_info)"
   ]
  },
  {
   "cell_type": "code",
   "execution_count": null,
   "metadata": {
    "lc_cell_meme": {
     "current": "38ab72fc-7952-11ee-89fa-0242ac120005-4-a451-b895-87d2-e291",
     "history": [
      {
       "current": "38ab72fc-7952-11ee-89fa-0242ac120005",
       "next": "ab1fa5b8-7882-11ee-89fa-0242ac120005-1-3a7c",
       "previous": "38ab7298-7952-11ee-89fa-0242ac120005"
      },
      {
       "current": "38ab72fc-7952-11ee-89fa-0242ac120005",
       "next": "2811e288-7956-11ee-89fa-0242ac120005",
       "previous": "38ab7298-7952-11ee-89fa-0242ac120005"
      },
      {
       "current": "38ab72fc-7952-11ee-89fa-0242ac120005-1-a451",
       "next": "ab1fa5b8-7882-11ee-89fa-0242ac120005-1-3a7c",
       "previous": "38ab7298-7952-11ee-89fa-0242ac120005"
      },
      {
       "current": "38ab72fc-7952-11ee-89fa-0242ac120005-2-a451-b895",
       "next": "ab1fa5b8-7882-11ee-89fa-0242ac120005-2-3a7c-28a5",
       "previous": "38ab7298-7952-11ee-89fa-0242ac120005-1-0d15"
      },
      {
       "current": "38ab72fc-7952-11ee-89fa-0242ac120005-3-a451-b895-87d2",
       "next": "ab1fa5b8-7882-11ee-89fa-0242ac120005-3-3a7c-28a5-1516",
       "previous": "38ab7298-7952-11ee-89fa-0242ac120005-2-0d15-350d"
      },
      {
       "current": "38ab72fc-7952-11ee-89fa-0242ac120005-4-a451-b895-87d2-e291",
       "next": "ab1fa5b8-7882-11ee-89fa-0242ac120005-4-3a7c-28a5-1516-0ca6",
       "previous": "38ab7298-7952-11ee-89fa-0242ac120005-3-0d15-350d-780f"
      }
     ],
     "next": "ab1fa5b8-7882-11ee-89fa-0242ac120005-5-3a7c-28a5-1516-0ca6-2cf4",
     "previous": "38ab7298-7952-11ee-89fa-0242ac120005-4-0d15-350d-780f-485d"
    }
   },
   "outputs": [],
   "source": [
    "pd.DataFrame(down_osd_info_list)"
   ]
  },
  {
   "cell_type": "markdown",
   "metadata": {
    "lc_cell_meme": {
     "current": "ab1fa5b8-7882-11ee-89fa-0242ac120005-5-3a7c-28a5-1516-0ca6-2cf4",
     "history": [
      {
       "current": "ab1fa5b8-7882-11ee-89fa-0242ac120005",
       "next": "ab1fa82e-7882-11ee-89fa-0242ac120005",
       "previous": "8c52f7d2-787a-11ee-89fa-0242ac120005"
      },
      {
       "current": "ab1fa5b8-7882-11ee-89fa-0242ac120005-1-3a7c",
       "next": "81b57774-7883-11ee-89fa-0242ac120005",
       "previous": "8c52f7d2-787a-11ee-89fa-0242ac120005"
      },
      {
       "current": "ab1fa5b8-7882-11ee-89fa-0242ac120005-1-3a7c",
       "next": "81b57774-7883-11ee-89fa-0242ac120005",
       "previous": "d1598748-7888-11ee-89fa-0242ac120005"
      },
      {
       "current": "ab1fa5b8-7882-11ee-89fa-0242ac120005-1-3a7c",
       "next": "36fe2b70-788a-11ee-89fa-0242ac120005",
       "previous": "d1598748-7888-11ee-89fa-0242ac120005"
      },
      {
       "current": "ab1fa5b8-7882-11ee-89fa-0242ac120005-1-3a7c",
       "next": "36fe2b70-788a-11ee-89fa-0242ac120005",
       "previous": "73a3eee6-788c-11ee-89fa-0242ac120005"
      },
      {
       "current": "ab1fa5b8-7882-11ee-89fa-0242ac120005-1-3a7c",
       "next": "36fe2b70-788a-11ee-89fa-0242ac120005",
       "previous": "38ab72fc-7952-11ee-89fa-0242ac120005"
      },
      {
       "current": "ab1fa5b8-7882-11ee-89fa-0242ac120005-1-3a7c",
       "next": "50950646-7955-11ee-89fa-0242ac120005",
       "previous": "38ab72fc-7952-11ee-89fa-0242ac120005"
      },
      {
       "current": "ab1fa5b8-7882-11ee-89fa-0242ac120005-1-3a7c",
       "next": "50950646-7955-11ee-89fa-0242ac120005",
       "previous": "2811e602-7956-11ee-89fa-0242ac120005"
      },
      {
       "current": "ab1fa5b8-7882-11ee-89fa-0242ac120005-1-3a7c",
       "next": "d5d1e4da-7957-11ee-89fa-0242ac120005",
       "previous": "2811e602-7956-11ee-89fa-0242ac120005"
      },
      {
       "current": "ab1fa5b8-7882-11ee-89fa-0242ac120005-2-3a7c-28a5",
       "next": "d5d1e4da-7957-11ee-89fa-0242ac120005",
       "previous": "38ab72fc-7952-11ee-89fa-0242ac120005"
      },
      {
       "current": "ab1fa5b8-7882-11ee-89fa-0242ac120005-3-3a7c-28a5-1516",
       "next": "d5d1e4da-7957-11ee-89fa-0242ac120005-1-3fa5",
       "previous": "38ab72fc-7952-11ee-89fa-0242ac120005-1-a451"
      },
      {
       "current": "ab1fa5b8-7882-11ee-89fa-0242ac120005-4-3a7c-28a5-1516-0ca6",
       "next": "d5d1e4da-7957-11ee-89fa-0242ac120005-2-3fa5-2364",
       "previous": "38ab72fc-7952-11ee-89fa-0242ac120005-2-a451-b895"
      },
      {
       "current": "ab1fa5b8-7882-11ee-89fa-0242ac120005-5-3a7c-28a5-1516-0ca6-2cf4",
       "next": "d5d1e4da-7957-11ee-89fa-0242ac120005-3-3fa5-2364-983c",
       "previous": "38ab72fc-7952-11ee-89fa-0242ac120005-3-a451-b895-87d2"
      }
     ],
     "next": "d5d1e4da-7957-11ee-89fa-0242ac120005-4-3fa5-2364-983c-4f40",
     "previous": "38ab72fc-7952-11ee-89fa-0242ac120005-4-a451-b895-87d2-e291"
    }
   },
   "source": [
    "# LVMのデバイスマップ情報取得"
   ]
  },
  {
   "cell_type": "markdown",
   "metadata": {
    "lc_cell_meme": {
     "current": "d5d1e4da-7957-11ee-89fa-0242ac120005-4-3fa5-2364-983c-4f40",
     "history": [
      {
       "current": "d5d1e4da-7957-11ee-89fa-0242ac120005",
       "next": "d5d1e584-7957-11ee-89fa-0242ac120005",
       "previous": "d5d1e32c-7957-11ee-89fa-0242ac120005"
      },
      {
       "current": "d5d1e4da-7957-11ee-89fa-0242ac120005-1-3fa5",
       "next": "d5d1e584-7957-11ee-89fa-0242ac120005",
       "previous": "ab1fa5b8-7882-11ee-89fa-0242ac120005-1-3a7c"
      },
      {
       "current": "d5d1e4da-7957-11ee-89fa-0242ac120005-2-3fa5-2364",
       "next": "d5d1e584-7957-11ee-89fa-0242ac120005-1-afaf",
       "previous": "ab1fa5b8-7882-11ee-89fa-0242ac120005-2-3a7c-28a5"
      },
      {
       "current": "d5d1e4da-7957-11ee-89fa-0242ac120005-3-3fa5-2364-983c",
       "next": "d5d1e584-7957-11ee-89fa-0242ac120005-2-afaf-f106",
       "previous": "ab1fa5b8-7882-11ee-89fa-0242ac120005-3-3a7c-28a5-1516"
      },
      {
       "current": "d5d1e4da-7957-11ee-89fa-0242ac120005-4-3fa5-2364-983c-4f40",
       "next": "d5d1e584-7957-11ee-89fa-0242ac120005-3-afaf-f106-1671",
       "previous": "ab1fa5b8-7882-11ee-89fa-0242ac120005-4-3a7c-28a5-1516-0ca6"
      }
     ],
     "next": "d5d1e584-7957-11ee-89fa-0242ac120005-4-afaf-f106-1671-9890",
     "previous": "ab1fa5b8-7882-11ee-89fa-0242ac120005-5-3a7c-28a5-1516-0ca6-2cf4"
    }
   },
   "source": [
    "## LVM情報取得関数定"
   ]
  },
  {
   "cell_type": "code",
   "execution_count": null,
   "metadata": {
    "lc_cell_meme": {
     "current": "d5d1e584-7957-11ee-89fa-0242ac120005-4-afaf-f106-1671-9890",
     "history": [
      {
       "current": "d5d1e584-7957-11ee-89fa-0242ac120005",
       "next": "d5d1e5fc-7957-11ee-89fa-0242ac120005",
       "previous": "d5d1e4da-7957-11ee-89fa-0242ac120005"
      },
      {
       "current": "d5d1e584-7957-11ee-89fa-0242ac120005-1-afaf",
       "next": "d5d1e5fc-7957-11ee-89fa-0242ac120005-1-3391",
       "previous": "d5d1e4da-7957-11ee-89fa-0242ac120005"
      },
      {
       "current": "d5d1e584-7957-11ee-89fa-0242ac120005-2-afaf-f106",
       "next": "d5d1e5fc-7957-11ee-89fa-0242ac120005-2-3391-f762",
       "previous": "d5d1e4da-7957-11ee-89fa-0242ac120005-1-3fa5"
      },
      {
       "current": "d5d1e584-7957-11ee-89fa-0242ac120005-3-afaf-f106-1671",
       "next": "d5d1e5fc-7957-11ee-89fa-0242ac120005-3-3391-f762-19de",
       "previous": "d5d1e4da-7957-11ee-89fa-0242ac120005-2-3fa5-2364"
      },
      {
       "current": "d5d1e584-7957-11ee-89fa-0242ac120005-4-afaf-f106-1671-9890",
       "next": "d5d1e5fc-7957-11ee-89fa-0242ac120005-4-3391-f762-19de-36de",
       "previous": "d5d1e4da-7957-11ee-89fa-0242ac120005-3-3fa5-2364-983c"
      }
     ],
     "next": "d5d1e5fc-7957-11ee-89fa-0242ac120005-5-3391-f762-19de-36de-2dee",
     "previous": "d5d1e4da-7957-11ee-89fa-0242ac120005-4-3fa5-2364-983c-4f40"
    }
   },
   "outputs": [],
   "source": [
    "import re\n",
    "\n",
    "def make_pv_info_list(ret):\n",
    "    ret.pop(0)\n",
    "    pv_info_list = []\n",
    "    pv_info = None\n",
    "    for line in ret:\n",
    "        if re.search('Physical volume', line) is not None:\n",
    "            pv_info = {}\n",
    "        elif re.search('PV Name', line) is not None:\n",
    "            elems = re.sub('PV Name','',line).split()\n",
    "            pv_info['pv_name'] = elems[0]\n",
    "        elif re.search('VG Name', line) is not None:\n",
    "            elems = re.sub('VG Name','',line).split()\n",
    "            pv_info['vg_name'] = elems[0]\n",
    "        elif re.search('PV Size', line) is not None:\n",
    "            elems = re.sub('PV Size','',line).split()\n",
    "            pv_info['pv_size'] = elems[0]\n",
    "            pv_info_list.append(pv_info)\n",
    "\n",
    "    return pv_info_list\n",
    "\n",
    "def make_lv_info_list(ret, pv_info_map):\n",
    "    lv_info_list = []\n",
    "    lv_info = None\n",
    "    for line in ret:\n",
    "        if re.search('Logical volume', line) is not None:\n",
    "            lv_info = {}\n",
    "        elif re.search('LV Path', line) is not None:\n",
    "            elems = re.sub('LV Path','',line).split()\n",
    "            lv_info['lv_path'] = elems[0]\n",
    "        elif re.search('LV Name', line) is not None:\n",
    "            elems = re.sub('LV Name','',line).split()\n",
    "            lv_info['lv_name'] = elems[0]\n",
    "        elif re.search('VG Name', line) is not None:\n",
    "            elems = re.sub('VG Name','',line).split()\n",
    "            lv_info['vg_name'] = elems[0]\n",
    "            lv_info['pv_name'] = pv_info_map.get(lv_info['vg_name'],None)\n",
    "        elif re.search('Block device', line) is not None:\n",
    "            elems = re.sub('Block device','',line).split()\n",
    "            lv_info['block_dev'] = elems[0]\n",
    "            dev_elems = lv_info['block_dev'].split(':')\n",
    "            dev_name = \"dm-{}\".format(dev_elems[1])\n",
    "            lv_info['dev_name'] = dev_name\n",
    "            lv_info_list.append(lv_info)\n",
    "            \n",
    "    return lv_info_list\n",
    "            "
   ]
  },
  {
   "cell_type": "markdown",
   "metadata": {
    "lc_cell_meme": {
     "current": "d5d1e5fc-7957-11ee-89fa-0242ac120005-5-3391-f762-19de-36de-2dee",
     "history": [
      {
       "current": "d5d1e5fc-7957-11ee-89fa-0242ac120005-1-3391",
       "next": "509507ea-7955-11ee-89fa-0242ac120005",
       "previous": "d5d1e584-7957-11ee-89fa-0242ac120005"
      },
      {
       "current": "d5d1e5fc-7957-11ee-89fa-0242ac120005-2-3391-f762",
       "next": "50950646-7955-11ee-89fa-0242ac120005",
       "previous": "d5d1e584-7957-11ee-89fa-0242ac120005"
      },
      {
       "current": "d5d1e5fc-7957-11ee-89fa-0242ac120005-3-3391-f762-19de",
       "next": "50950646-7955-11ee-89fa-0242ac120005-1-db70",
       "previous": "d5d1e584-7957-11ee-89fa-0242ac120005-1-afaf"
      },
      {
       "current": "d5d1e5fc-7957-11ee-89fa-0242ac120005-4-3391-f762-19de-36de",
       "next": "50950646-7955-11ee-89fa-0242ac120005-2-db70-7f38",
       "previous": "d5d1e584-7957-11ee-89fa-0242ac120005-2-afaf-f106"
      },
      {
       "current": "d5d1e5fc-7957-11ee-89fa-0242ac120005-5-3391-f762-19de-36de-2dee",
       "next": "50950646-7955-11ee-89fa-0242ac120005-3-db70-7f38-a4e1",
       "previous": "d5d1e584-7957-11ee-89fa-0242ac120005-3-afaf-f106-1671"
      }
     ],
     "next": "50950646-7955-11ee-89fa-0242ac120005-4-db70-7f38-a4e1-a5b3",
     "previous": "d5d1e584-7957-11ee-89fa-0242ac120005-4-afaf-f106-1671-9890"
    }
   },
   "source": [
    "## PV情報取得"
   ]
  },
  {
   "cell_type": "code",
   "execution_count": null,
   "metadata": {
    "lc_cell_meme": {
     "current": "50950646-7955-11ee-89fa-0242ac120005-4-db70-7f38-a4e1-a5b3",
     "history": [
      {
       "current": "50950646-7955-11ee-89fa-0242ac120005",
       "next": "509507ea-7955-11ee-89fa-0242ac120005",
       "previous": "ab1fa5b8-7882-11ee-89fa-0242ac120005-1-3a7c"
      },
      {
       "current": "50950646-7955-11ee-89fa-0242ac120005",
       "next": "d5d1e32c-7957-11ee-89fa-0242ac120005",
       "previous": "ab1fa5b8-7882-11ee-89fa-0242ac120005-1-3a7c"
      },
      {
       "current": "50950646-7955-11ee-89fa-0242ac120005-1-db70",
       "next": "f3ef8642-7958-11ee-89fa-0242ac120005",
       "previous": "d5d1e5fc-7957-11ee-89fa-0242ac120005-1-3391"
      },
      {
       "current": "50950646-7955-11ee-89fa-0242ac120005-2-db70-7f38",
       "next": "f3ef8642-7958-11ee-89fa-0242ac120005-1-0cf9",
       "previous": "d5d1e5fc-7957-11ee-89fa-0242ac120005-2-3391-f762"
      },
      {
       "current": "50950646-7955-11ee-89fa-0242ac120005-3-db70-7f38-a4e1",
       "next": "f3ef8642-7958-11ee-89fa-0242ac120005-2-0cf9-5e29",
       "previous": "d5d1e5fc-7957-11ee-89fa-0242ac120005-3-3391-f762-19de"
      },
      {
       "current": "50950646-7955-11ee-89fa-0242ac120005-4-db70-7f38-a4e1-a5b3",
       "next": "f3ef8642-7958-11ee-89fa-0242ac120005-3-0cf9-5e29-ec7c",
       "previous": "d5d1e5fc-7957-11ee-89fa-0242ac120005-4-3391-f762-19de-36de"
      }
     ],
     "next": "f3ef8642-7958-11ee-89fa-0242ac120005-4-0cf9-5e29-ec7c-8206",
     "previous": "d5d1e5fc-7957-11ee-89fa-0242ac120005-5-3391-f762-19de-36de-2dee"
    }
   },
   "outputs": [],
   "source": [
    "host_name_set = set()\n",
    "for down_osd_info in down_osd_info_list:\n",
    "    host_name_set.add(down_osd_info['host_name'])\n",
    "\n",
    "print(host_name_set)"
   ]
  },
  {
   "cell_type": "code",
   "execution_count": null,
   "metadata": {
    "lc_cell_meme": {
     "current": "f3ef8642-7958-11ee-89fa-0242ac120005-4-0cf9-5e29-ec7c-8206",
     "history": [
      {
       "current": "f3ef8642-7958-11ee-89fa-0242ac120005-1-0cf9",
       "next": "f3ef8750-7958-11ee-89fa-0242ac120005",
       "previous": "50950646-7955-11ee-89fa-0242ac120005"
      },
      {
       "current": "f3ef8642-7958-11ee-89fa-0242ac120005-2-0cf9-5e29",
       "next": "f3ef8750-7958-11ee-89fa-0242ac120005-1-dba0",
       "previous": "50950646-7955-11ee-89fa-0242ac120005-1-db70"
      },
      {
       "current": "f3ef8642-7958-11ee-89fa-0242ac120005-3-0cf9-5e29-ec7c",
       "next": "f3ef8750-7958-11ee-89fa-0242ac120005-2-dba0-b93d",
       "previous": "50950646-7955-11ee-89fa-0242ac120005-2-db70-7f38"
      },
      {
       "current": "f3ef8642-7958-11ee-89fa-0242ac120005-4-0cf9-5e29-ec7c-8206",
       "next": "f3ef8750-7958-11ee-89fa-0242ac120005-3-dba0-b93d-ed03",
       "previous": "50950646-7955-11ee-89fa-0242ac120005-3-db70-7f38-a4e1"
      }
     ],
     "next": "f3ef8750-7958-11ee-89fa-0242ac120005-4-dba0-b93d-ed03-376a",
     "previous": "50950646-7955-11ee-89fa-0242ac120005-4-db70-7f38-a4e1-a5b3"
    }
   },
   "outputs": [],
   "source": [
    "pv_info_list_map = {}\n",
    "lv_info_list_map = {}\n",
    "\n",
    "for host_name in host_name_set:\n",
    "    node_info = node_map.get(host_name, None)\n",
    "    assert (node_info is not None), \"指定されたnodeの情報が存在しません。\"\n",
    "\n",
    "    # get PV Info\n",
    "    prov_ip = node['prov_ip']\n",
    "    ret = !ansible -i $hosts -b -m shell -a 'pvdisplay' $prov_ip\n",
    "    pv_info_list = make_pv_info_list(ret)\n",
    "    pv_info_list_map[host_name] = pv_info_list\n",
    "\n",
    "    pv_info_map = {}\n",
    "    for pv_info in pv_info_list:\n",
    "        vg_name = pv_info['vg_name']\n",
    "        pv_info_map[vg_name] = pv_info['pv_name']    \n",
    "    \n",
    "    # get PV Info\n",
    "    ret = !ansible -i $hosts -b -m shell -a 'lvdisplay' $prov_ip\n",
    "    lv_info_list = make_lv_info_list(ret,pv_info_map)\n",
    "    lv_info_list_map[host_name] = lv_info_list\n"
   ]
  },
  {
   "cell_type": "code",
   "execution_count": null,
   "metadata": {
    "lc_cell_meme": {
     "current": "f3ef8750-7958-11ee-89fa-0242ac120005-4-dba0-b93d-ed03-376a",
     "history": [
      {
       "current": "f3ef8750-7958-11ee-89fa-0242ac120005-1-dba0",
       "next": "f3ef87aa-7958-11ee-89fa-0242ac120005",
       "previous": "f3ef8642-7958-11ee-89fa-0242ac120005"
      },
      {
       "current": "f3ef8750-7958-11ee-89fa-0242ac120005-2-dba0-b93d",
       "next": "f3ef87aa-7958-11ee-89fa-0242ac120005-1-76b1",
       "previous": "f3ef8642-7958-11ee-89fa-0242ac120005-1-0cf9"
      },
      {
       "current": "f3ef8750-7958-11ee-89fa-0242ac120005-3-dba0-b93d-ed03",
       "next": "f3ef87aa-7958-11ee-89fa-0242ac120005-2-76b1-1ff3",
       "previous": "f3ef8642-7958-11ee-89fa-0242ac120005-2-0cf9-5e29"
      },
      {
       "current": "f3ef8750-7958-11ee-89fa-0242ac120005-4-dba0-b93d-ed03-376a",
       "next": "f3ef87aa-7958-11ee-89fa-0242ac120005-3-76b1-1ff3-cd32",
       "previous": "f3ef8642-7958-11ee-89fa-0242ac120005-3-0cf9-5e29-ec7c"
      }
     ],
     "next": "f3ef87aa-7958-11ee-89fa-0242ac120005-4-76b1-1ff3-cd32-6be7",
     "previous": "f3ef8642-7958-11ee-89fa-0242ac120005-4-0cf9-5e29-ec7c-8206"
    }
   },
   "outputs": [],
   "source": [
    "for key, pv_info_list in pv_info_list_map.items():\n",
    "    ret = pd.DataFrame(pv_info_list)\n",
    "    print(key)\n",
    "    print(ret)\n"
   ]
  },
  {
   "cell_type": "code",
   "execution_count": null,
   "metadata": {
    "lc_cell_meme": {
     "current": "f3ef87aa-7958-11ee-89fa-0242ac120005-4-76b1-1ff3-cd32-6be7",
     "history": [
      {
       "current": "f3ef87aa-7958-11ee-89fa-0242ac120005",
       "next": "f3ef87f0-7958-11ee-89fa-0242ac120005",
       "previous": "f3ef8750-7958-11ee-89fa-0242ac120005"
      },
      {
       "current": "f3ef87aa-7958-11ee-89fa-0242ac120005-1-76b1",
       "next": "f7959f9a-788e-11ee-89fa-0242ac120005",
       "previous": "f3ef8750-7958-11ee-89fa-0242ac120005"
      },
      {
       "current": "f3ef87aa-7958-11ee-89fa-0242ac120005-2-76b1-1ff3",
       "next": "f7959f9a-788e-11ee-89fa-0242ac120005-1-874e",
       "previous": "f3ef8750-7958-11ee-89fa-0242ac120005-1-dba0"
      },
      {
       "current": "f3ef87aa-7958-11ee-89fa-0242ac120005-3-76b1-1ff3-cd32",
       "next": "f7959f9a-788e-11ee-89fa-0242ac120005-2-874e-5e06",
       "previous": "f3ef8750-7958-11ee-89fa-0242ac120005-2-dba0-b93d"
      },
      {
       "current": "f3ef87aa-7958-11ee-89fa-0242ac120005-4-76b1-1ff3-cd32-6be7",
       "next": "f7959f9a-788e-11ee-89fa-0242ac120005-3-874e-5e06-4638",
       "previous": "f3ef8750-7958-11ee-89fa-0242ac120005-3-dba0-b93d-ed03"
      }
     ],
     "next": "f7959f9a-788e-11ee-89fa-0242ac120005-4-874e-5e06-4638-e100",
     "previous": "f3ef8750-7958-11ee-89fa-0242ac120005-4-dba0-b93d-ed03-376a"
    }
   },
   "outputs": [],
   "source": [
    "for key, lv_info_list in lv_info_list_map.items():\n",
    "    ret = pd.DataFrame(lv_info_list)\n",
    "    print(key)\n",
    "    print(ret)"
   ]
  },
  {
   "cell_type": "markdown",
   "metadata": {
    "lc_cell_meme": {
     "current": "f7959f9a-788e-11ee-89fa-0242ac120005-4-874e-5e06-4638-e100",
     "history": [
      {
       "current": "f7959f9a-788e-11ee-89fa-0242ac120005",
       "next": "4a3ab980-788d-11ee-89fa-0242ac120005",
       "previous": "8c52f84a-787a-11ee-89fa-0242ac120005"
      },
      {
       "current": "f7959f9a-788e-11ee-89fa-0242ac120005",
       "next": "4a3ab980-788d-11ee-89fa-0242ac120005",
       "previous": "f3ef87aa-7958-11ee-89fa-0242ac120005"
      },
      {
       "current": "f7959f9a-788e-11ee-89fa-0242ac120005-1-874e",
       "next": "52495ff6-7c74-11ee-89fa-0242ac120005",
       "previous": "f3ef87aa-7958-11ee-89fa-0242ac120005"
      },
      {
       "current": "f7959f9a-788e-11ee-89fa-0242ac120005-2-874e-5e06",
       "next": "52495ff6-7c74-11ee-89fa-0242ac120005-1-e2ea",
       "previous": "f3ef87aa-7958-11ee-89fa-0242ac120005-1-76b1"
      },
      {
       "current": "f7959f9a-788e-11ee-89fa-0242ac120005-3-874e-5e06-4638",
       "next": "52495ff6-7c74-11ee-89fa-0242ac120005-2-e2ea-94c2",
       "previous": "f3ef87aa-7958-11ee-89fa-0242ac120005-2-76b1-1ff3"
      },
      {
       "current": "f7959f9a-788e-11ee-89fa-0242ac120005-4-874e-5e06-4638-e100",
       "next": "52495ff6-7c74-11ee-89fa-0242ac120005-3-e2ea-94c2-4c5a",
       "previous": "f3ef87aa-7958-11ee-89fa-0242ac120005-3-76b1-1ff3-cd32"
      }
     ],
     "next": "52495ff6-7c74-11ee-89fa-0242ac120005-4-e2ea-94c2-4c5a-3199",
     "previous": "f3ef87aa-7958-11ee-89fa-0242ac120005-4-76b1-1ff3-cd32-6be7"
    }
   },
   "source": [
    "## Down OSD情報リストと対象ディスクとの関連付け"
   ]
  },
  {
   "cell_type": "code",
   "execution_count": null,
   "metadata": {
    "lc_cell_meme": {
     "current": "52495ff6-7c74-11ee-89fa-0242ac120005-4-e2ea-94c2-4c5a-3199",
     "history": [
      {
       "current": "52495ff6-7c74-11ee-89fa-0242ac120005-1-e2ea",
       "next": "5249623a-7c74-11ee-89fa-0242ac120005",
       "previous": "f7959f9a-788e-11ee-89fa-0242ac120005"
      },
      {
       "current": "52495ff6-7c74-11ee-89fa-0242ac120005-2-e2ea-94c2",
       "next": "5249623a-7c74-11ee-89fa-0242ac120005-1-b83e",
       "previous": "f7959f9a-788e-11ee-89fa-0242ac120005-1-874e"
      },
      {
       "current": "52495ff6-7c74-11ee-89fa-0242ac120005-3-e2ea-94c2-4c5a",
       "next": "5249623a-7c74-11ee-89fa-0242ac120005-2-b83e-5033",
       "previous": "f7959f9a-788e-11ee-89fa-0242ac120005-2-874e-5e06"
      },
      {
       "current": "52495ff6-7c74-11ee-89fa-0242ac120005-4-e2ea-94c2-4c5a-3199",
       "next": "5249623a-7c74-11ee-89fa-0242ac120005-3-b83e-5033-b088",
       "previous": "f7959f9a-788e-11ee-89fa-0242ac120005-3-874e-5e06-4638"
      }
     ],
     "next": "5249623a-7c74-11ee-89fa-0242ac120005-4-b83e-5033-b088-2c97",
     "previous": "f7959f9a-788e-11ee-89fa-0242ac120005-4-874e-5e06-4638-e100"
    }
   },
   "outputs": [],
   "source": [
    "for down_osd_info in down_osd_info_list:\n",
    "    host_name = down_osd_info['host_name']\n",
    "    name = down_osd_info['name']\n",
    "    bluefs_db_partition_path = down_osd_info['bluefs_db_partition_path']\n",
    "    db_dev_name = bluefs_db_partition_path.split('/')[2]\n",
    "    bluestore_bdev_partition_path = down_osd_info['bluestore_bdev_partition_path']\n",
    "    bdev_dev_name = bluestore_bdev_partition_path.split('/')[2]\n",
    "\n",
    "    lv_info_list = lv_info_list_map[host_name]\n",
    "    target_db_lv_info = None\n",
    "    target_bdev_lv_info = None\n",
    "    for lv_info in lv_info_list:\n",
    "        if lv_info['dev_name'] == db_dev_name:\n",
    "            target_db_lv_info = lv_info\n",
    "        if lv_info['dev_name'] == bdev_dev_name:\n",
    "            target_bdev_lv_info = lv_info\n",
    "        if target_bdev_lv_info is None or target_db_lv_info is None:\n",
    "            continue\n",
    "\n",
    "    if target_bdev_lv_info is not None:\n",
    "        osd_info['bdev_lv_path'] = target_bdev_lv_info['lv_path']\n",
    "        osd_info['bdev_lv_name'] = target_bdev_lv_info['lv_name']\n",
    "        osd_info['bdev_vg_name'] = target_bdev_lv_info['vg_name']\n",
    "        osd_info['bdev_pv_name'] = target_bdev_lv_info['pv_name']\n",
    "    else:\n",
    "        osd_info['bdev_lv_path'] = None\n",
    "        osd_info['bdev_lv_name'] = None\n",
    "        osd_info['bdev_vg_name'] = None\n",
    "        osd_info['bdev_pv_name'] = None\n",
    "    \n",
    "\n",
    "    if target_db_lv_info is not None:\n",
    "        osd_info['db_lv_path'] = target_db_lv_info['lv_path']\n",
    "        osd_info['db_lv_name'] = target_db_lv_info['lv_name']\n",
    "        osd_info['db_vg_name'] = target_db_lv_info['vg_name']\n",
    "        osd_info['db_pv_name'] = target_db_lv_info['pv_name']\n",
    "    else:\n",
    "        osd_info['db_lv_path'] = None\n",
    "        osd_info['db_lv_name'] = None\n",
    "        osd_info['db_vg_name'] = None\n",
    "        osd_info['db_pv_name'] = None\n",
    "    "
   ]
  },
  {
   "cell_type": "code",
   "execution_count": null,
   "metadata": {
    "lc_cell_meme": {
     "current": "5249623a-7c74-11ee-89fa-0242ac120005-4-b83e-5033-b088-2c97",
     "history": [
      {
       "current": "5249623a-7c74-11ee-89fa-0242ac120005",
       "next": "524962e4-7c74-11ee-89fa-0242ac120005",
       "previous": "52495ff6-7c74-11ee-89fa-0242ac120005"
      },
      {
       "current": "5249623a-7c74-11ee-89fa-0242ac120005-1-b83e",
       "next": "d972543c-788d-11ee-89fa-0242ac120005-1-4b32",
       "previous": "52495ff6-7c74-11ee-89fa-0242ac120005"
      },
      {
       "current": "5249623a-7c74-11ee-89fa-0242ac120005-2-b83e-5033",
       "next": "d972543c-788d-11ee-89fa-0242ac120005-2-4b32-8f1c",
       "previous": "52495ff6-7c74-11ee-89fa-0242ac120005-1-e2ea"
      },
      {
       "current": "5249623a-7c74-11ee-89fa-0242ac120005-3-b83e-5033-b088",
       "next": "d972543c-788d-11ee-89fa-0242ac120005-3-4b32-8f1c-3ce7",
       "previous": "52495ff6-7c74-11ee-89fa-0242ac120005-2-e2ea-94c2"
      },
      {
       "current": "5249623a-7c74-11ee-89fa-0242ac120005-4-b83e-5033-b088-2c97",
       "next": "d972543c-788d-11ee-89fa-0242ac120005-4-4b32-8f1c-3ce7-a965",
       "previous": "52495ff6-7c74-11ee-89fa-0242ac120005-3-e2ea-94c2-4c5a"
      }
     ],
     "next": "d972543c-788d-11ee-89fa-0242ac120005-5-4b32-8f1c-3ce7-a965-e505",
     "previous": "52495ff6-7c74-11ee-89fa-0242ac120005-4-e2ea-94c2-4c5a-3199"
    }
   },
   "outputs": [],
   "source": [
    "pd.DataFrame(down_osd_info_list)"
   ]
  },
  {
   "cell_type": "markdown",
   "metadata": {
    "lc_cell_meme": {
     "current": "d972543c-788d-11ee-89fa-0242ac120005-5-4b32-8f1c-3ce7-a965-e505",
     "history": [
      {
       "current": "d972543c-788d-11ee-89fa-0242ac120005-1-4b32",
       "next": "d972545a-788d-11ee-89fa-0242ac120005",
       "previous": "d9725414-788d-11ee-89fa-0242ac120005"
      },
      {
       "current": "d972543c-788d-11ee-89fa-0242ac120005-1-4b32",
       "next": "0883efe0-7c78-11ee-89fa-0242ac120005",
       "previous": "5249623a-7c74-11ee-89fa-0242ac120005"
      },
      {
       "current": "d972543c-788d-11ee-89fa-0242ac120005-1-4b32",
       "next": "e54d6ba0-82c1-11ee-91d3-0242ac120006",
       "previous": "5249623a-7c74-11ee-89fa-0242ac120005"
      },
      {
       "current": "d972543c-788d-11ee-89fa-0242ac120005-2-4b32-8f1c",
       "next": "e54d6ba0-82c1-11ee-91d3-0242ac120006-1-d256",
       "previous": "5249623a-7c74-11ee-89fa-0242ac120005"
      },
      {
       "current": "d972543c-788d-11ee-89fa-0242ac120005-3-4b32-8f1c-3ce7",
       "next": "e54d6ba0-82c1-11ee-91d3-0242ac120006-2-d256-fd87",
       "previous": "5249623a-7c74-11ee-89fa-0242ac120005-1-b83e"
      },
      {
       "current": "d972543c-788d-11ee-89fa-0242ac120005-4-4b32-8f1c-3ce7-a965",
       "next": "e54d6ba0-82c1-11ee-91d3-0242ac120006-3-d256-fd87-40d7",
       "previous": "5249623a-7c74-11ee-89fa-0242ac120005-2-b83e-5033"
      },
      {
       "current": "d972543c-788d-11ee-89fa-0242ac120005-5-4b32-8f1c-3ce7-a965-e505",
       "next": "e54d6ba0-82c1-11ee-91d3-0242ac120006-4-d256-fd87-40d7-fcba",
       "previous": "5249623a-7c74-11ee-89fa-0242ac120005-3-b83e-5033-b088"
      }
     ],
     "next": "e54d6ba0-82c1-11ee-91d3-0242ac120006-5-d256-fd87-40d7-fcba-da3d",
     "previous": "5249623a-7c74-11ee-89fa-0242ac120005-4-b83e-5033-b088-2c97"
    }
   },
   "source": [
    "# OSDの停止と削除"
   ]
  },
  {
   "cell_type": "markdown",
   "metadata": {
    "lc_cell_meme": {
     "current": "e54d6ba0-82c1-11ee-91d3-0242ac120006-5-d256-fd87-40d7-fcba-da3d",
     "history": [
      {
       "current": "e54d6ba0-82c1-11ee-91d3-0242ac120006-2-d256-fd87",
       "next": "e54d6d76-82c1-11ee-91d3-0242ac120006",
       "previous": "d972543c-788d-11ee-89fa-0242ac120005-1-4b32"
      },
      {
       "current": "e54d6ba0-82c1-11ee-91d3-0242ac120006-3-d256-fd87-40d7",
       "next": "e54d6d76-82c1-11ee-91d3-0242ac120006-1-a6e2",
       "previous": "d972543c-788d-11ee-89fa-0242ac120005-2-4b32-8f1c"
      },
      {
       "current": "e54d6ba0-82c1-11ee-91d3-0242ac120006-4-d256-fd87-40d7-fcba",
       "next": "e54d6d76-82c1-11ee-91d3-0242ac120006-2-a6e2-07fc",
       "previous": "d972543c-788d-11ee-89fa-0242ac120005-3-4b32-8f1c-3ce7"
      },
      {
       "current": "e54d6ba0-82c1-11ee-91d3-0242ac120006-5-d256-fd87-40d7-fcba-da3d",
       "next": "e54d6d76-82c1-11ee-91d3-0242ac120006-3-a6e2-07fc-3d51",
       "previous": "d972543c-788d-11ee-89fa-0242ac120005-4-4b32-8f1c-3ce7-a965"
      }
     ],
     "next": "e54d6d76-82c1-11ee-91d3-0242ac120006-4-a6e2-07fc-3d51-a5fe",
     "previous": "d972543c-788d-11ee-89fa-0242ac120005-5-4b32-8f1c-3ce7-a965-e505"
    }
   },
   "source": [
    "## 削除対象OSD選択"
   ]
  },
  {
   "cell_type": "code",
   "execution_count": null,
   "metadata": {
    "lc_cell_meme": {
     "current": "e54d6d76-82c1-11ee-91d3-0242ac120006-4-a6e2-07fc-3d51-a5fe",
     "history": [
      {
       "current": "e54d6d76-82c1-11ee-91d3-0242ac120006",
       "next": "0883efe0-7c78-11ee-89fa-0242ac120005",
       "previous": "e54d6ba0-82c1-11ee-91d3-0242ac120006"
      },
      {
       "current": "e54d6d76-82c1-11ee-91d3-0242ac120006-1-a6e2",
       "next": "2cd731d6-82c2-11ee-91d3-0242ac120006",
       "previous": "e54d6ba0-82c1-11ee-91d3-0242ac120006-1-d256"
      },
      {
       "current": "e54d6d76-82c1-11ee-91d3-0242ac120006-2-a6e2-07fc",
       "next": "2cd731d6-82c2-11ee-91d3-0242ac120006-1-2ca2",
       "previous": "e54d6ba0-82c1-11ee-91d3-0242ac120006-2-d256-fd87"
      },
      {
       "current": "e54d6d76-82c1-11ee-91d3-0242ac120006-3-a6e2-07fc-3d51",
       "next": "2cd731d6-82c2-11ee-91d3-0242ac120006-2-2ca2-024a",
       "previous": "e54d6ba0-82c1-11ee-91d3-0242ac120006-3-d256-fd87-40d7"
      },
      {
       "current": "e54d6d76-82c1-11ee-91d3-0242ac120006-4-a6e2-07fc-3d51-a5fe",
       "next": "2cd731d6-82c2-11ee-91d3-0242ac120006-3-2ca2-024a-04b2",
       "previous": "e54d6ba0-82c1-11ee-91d3-0242ac120006-4-d256-fd87-40d7-fcba"
      }
     ],
     "next": "2cd731d6-82c2-11ee-91d3-0242ac120006-4-2ca2-024a-04b2-73ea",
     "previous": "e54d6ba0-82c1-11ee-91d3-0242ac120006-5-d256-fd87-40d7-fcba-da3d"
    }
   },
   "outputs": [],
   "source": [
    "# 削除対象OSDのIDを指定\n",
    "raise Exception('この先手作業が必要です')"
   ]
  },
  {
   "cell_type": "code",
   "execution_count": null,
   "metadata": {
    "lc_cell_meme": {
     "current": "2cd731d6-82c2-11ee-91d3-0242ac120006-4-2ca2-024a-04b2-73ea",
     "history": [
      {
       "current": "2cd731d6-82c2-11ee-91d3-0242ac120006-1-2ca2",
       "next": "2cd7337a-82c2-11ee-91d3-0242ac120006",
       "previous": "e54d6d76-82c1-11ee-91d3-0242ac120006"
      },
      {
       "current": "2cd731d6-82c2-11ee-91d3-0242ac120006-2-2ca2-024a",
       "next": "2cd7337a-82c2-11ee-91d3-0242ac120006-1-3146",
       "previous": "e54d6d76-82c1-11ee-91d3-0242ac120006-1-a6e2"
      },
      {
       "current": "2cd731d6-82c2-11ee-91d3-0242ac120006-3-2ca2-024a-04b2",
       "next": "2cd7337a-82c2-11ee-91d3-0242ac120006-2-3146-4dff",
       "previous": "e54d6d76-82c1-11ee-91d3-0242ac120006-2-a6e2-07fc"
      },
      {
       "current": "2cd731d6-82c2-11ee-91d3-0242ac120006-4-2ca2-024a-04b2-73ea",
       "next": "2cd7337a-82c2-11ee-91d3-0242ac120006-3-3146-4dff-b4ca",
       "previous": "e54d6d76-82c1-11ee-91d3-0242ac120006-3-a6e2-07fc-3d51"
      }
     ],
     "next": "2cd7337a-82c2-11ee-91d3-0242ac120006-4-3146-4dff-b4ca-7aa1",
     "previous": "e54d6d76-82c1-11ee-91d3-0242ac120006-4-a6e2-07fc-3d51-a5fe"
    }
   },
   "outputs": [],
   "source": [
    "remove_osd_id = 60"
   ]
  },
  {
   "cell_type": "code",
   "execution_count": null,
   "metadata": {
    "lc_cell_meme": {
     "current": "2cd7337a-82c2-11ee-91d3-0242ac120006-4-3146-4dff-b4ca-7aa1",
     "history": [
      {
       "current": "2cd7337a-82c2-11ee-91d3-0242ac120006",
       "next": "0883efe0-7c78-11ee-89fa-0242ac120005",
       "previous": "2cd731d6-82c2-11ee-91d3-0242ac120006"
      },
      {
       "current": "2cd7337a-82c2-11ee-91d3-0242ac120006-1-3146",
       "next": "bbee09ee-82c2-11ee-91d3-0242ac120006",
       "previous": "2cd731d6-82c2-11ee-91d3-0242ac120006"
      },
      {
       "current": "2cd7337a-82c2-11ee-91d3-0242ac120006-2-3146-4dff",
       "next": "bbee09ee-82c2-11ee-91d3-0242ac120006-1-b82f",
       "previous": "2cd731d6-82c2-11ee-91d3-0242ac120006-1-2ca2"
      },
      {
       "current": "2cd7337a-82c2-11ee-91d3-0242ac120006-3-3146-4dff-b4ca",
       "next": "bbee09ee-82c2-11ee-91d3-0242ac120006-2-b82f-7bb1",
       "previous": "2cd731d6-82c2-11ee-91d3-0242ac120006-2-2ca2-024a"
      },
      {
       "current": "2cd7337a-82c2-11ee-91d3-0242ac120006-4-3146-4dff-b4ca-7aa1",
       "next": "bbee09ee-82c2-11ee-91d3-0242ac120006-3-b82f-7bb1-f535",
       "previous": "2cd731d6-82c2-11ee-91d3-0242ac120006-3-2ca2-024a-04b2"
      }
     ],
     "next": "bbee09ee-82c2-11ee-91d3-0242ac120006-4-b82f-7bb1-f535-f35e",
     "previous": "2cd731d6-82c2-11ee-91d3-0242ac120006-4-2ca2-024a-04b2-73ea"
    }
   },
   "outputs": [],
   "source": [
    "remove_osd_info = None\n",
    "for down_osd_info in down_osd_info_list:\n",
    "    if remove_osd_id == down_osd_info['id']:\n",
    "        remove_osd_info = down_osd_info\n",
    "        break\n",
    "\n",
    "assert (remove_osd_info is not None), \"指定された Down OSDが存在しません。\"\n",
    "print(remove_osd_info)"
   ]
  },
  {
   "cell_type": "markdown",
   "metadata": {
    "lc_cell_meme": {
     "current": "bbee09ee-82c2-11ee-91d3-0242ac120006-4-b82f-7bb1-f535-f35e",
     "history": [
      {
       "current": "bbee09ee-82c2-11ee-91d3-0242ac120006",
       "next": "0883efe0-7c78-11ee-89fa-0242ac120005",
       "previous": "2cd7337a-82c2-11ee-91d3-0242ac120006"
      },
      {
       "current": "bbee09ee-82c2-11ee-91d3-0242ac120006-1-b82f",
       "next": "422cacfc-82c5-11ee-91d3-0242ac120006",
       "previous": "2cd7337a-82c2-11ee-91d3-0242ac120006"
      },
      {
       "current": "bbee09ee-82c2-11ee-91d3-0242ac120006-2-b82f-7bb1",
       "next": "422cacfc-82c5-11ee-91d3-0242ac120006-1-00b6",
       "previous": "2cd7337a-82c2-11ee-91d3-0242ac120006-1-3146"
      },
      {
       "current": "bbee09ee-82c2-11ee-91d3-0242ac120006-3-b82f-7bb1-f535",
       "next": "422cacfc-82c5-11ee-91d3-0242ac120006-2-00b6-f160",
       "previous": "2cd7337a-82c2-11ee-91d3-0242ac120006-2-3146-4dff"
      },
      {
       "current": "bbee09ee-82c2-11ee-91d3-0242ac120006-4-b82f-7bb1-f535-f35e",
       "next": "422cacfc-82c5-11ee-91d3-0242ac120006-3-00b6-f160-d30b",
       "previous": "2cd7337a-82c2-11ee-91d3-0242ac120006-3-3146-4dff-b4ca"
      }
     ],
     "next": "422cacfc-82c5-11ee-91d3-0242ac120006-4-00b6-f160-d30b-369a",
     "previous": "2cd7337a-82c2-11ee-91d3-0242ac120006-4-3146-4dff-b4ca-7aa1"
    }
   },
   "source": [
    "## out OSD"
   ]
  },
  {
   "cell_type": "code",
   "execution_count": null,
   "metadata": {
    "lc_cell_meme": {
     "current": "422cacfc-82c5-11ee-91d3-0242ac120006-4-00b6-f160-d30b-369a",
     "history": [
      {
       "current": "422cacfc-82c5-11ee-91d3-0242ac120006",
       "next": "0883efe0-7c78-11ee-89fa-0242ac120005",
       "previous": "bbee09ee-82c2-11ee-91d3-0242ac120006"
      },
      {
       "current": "422cacfc-82c5-11ee-91d3-0242ac120006",
       "next": "86e71ef2-82cc-11ee-91d3-0242ac120006",
       "previous": "bbee09ee-82c2-11ee-91d3-0242ac120006"
      },
      {
       "current": "422cacfc-82c5-11ee-91d3-0242ac120006-1-00b6",
       "next": "86e72140-82cc-11ee-91d3-0242ac120006",
       "previous": "bbee09ee-82c2-11ee-91d3-0242ac120006"
      },
      {
       "current": "422cacfc-82c5-11ee-91d3-0242ac120006-2-00b6-f160",
       "next": "86e72140-82cc-11ee-91d3-0242ac120006-1-9ffa",
       "previous": "bbee09ee-82c2-11ee-91d3-0242ac120006-1-b82f"
      },
      {
       "current": "422cacfc-82c5-11ee-91d3-0242ac120006-3-00b6-f160-d30b",
       "next": "86e72140-82cc-11ee-91d3-0242ac120006-2-9ffa-2b97",
       "previous": "bbee09ee-82c2-11ee-91d3-0242ac120006-2-b82f-7bb1"
      },
      {
       "current": "422cacfc-82c5-11ee-91d3-0242ac120006-4-00b6-f160-d30b-369a",
       "next": "86e72140-82cc-11ee-91d3-0242ac120006-3-9ffa-2b97-608b",
       "previous": "bbee09ee-82c2-11ee-91d3-0242ac120006-3-b82f-7bb1-f535"
      }
     ],
     "next": "86e72140-82cc-11ee-91d3-0242ac120006-4-9ffa-2b97-608b-39b6",
     "previous": "bbee09ee-82c2-11ee-91d3-0242ac120006-4-b82f-7bb1-f535-f35e"
    }
   },
   "outputs": [],
   "source": [
    "osd_id = remove_osd_info['id']\n",
    "!ansible -b -m shell -a \"cephadm shell -- ceph osd out osd.$osd_id\" bootstrap"
   ]
  },
  {
   "cell_type": "markdown",
   "metadata": {
    "lc_cell_meme": {
     "current": "86e72140-82cc-11ee-91d3-0242ac120006-4-9ffa-2b97-608b-39b6",
     "history": [
      {
       "current": "86e72140-82cc-11ee-91d3-0242ac120006",
       "next": "0883efe0-7c78-11ee-89fa-0242ac120005",
       "previous": "86e72096-82cc-11ee-91d3-0242ac120006"
      },
      {
       "current": "86e72140-82cc-11ee-91d3-0242ac120006",
       "next": "ce6e82d8-82cc-11ee-91d3-0242ac120006",
       "previous": "422cacfc-82c5-11ee-91d3-0242ac120006"
      },
      {
       "current": "86e72140-82cc-11ee-91d3-0242ac120006-1-9ffa",
       "next": "2946ebf0-82d2-11ee-91d3-0242ac120006",
       "previous": "422cacfc-82c5-11ee-91d3-0242ac120006"
      },
      {
       "current": "86e72140-82cc-11ee-91d3-0242ac120006-2-9ffa-2b97",
       "next": "2946ebf0-82d2-11ee-91d3-0242ac120006-1-f76b",
       "previous": "422cacfc-82c5-11ee-91d3-0242ac120006-1-00b6"
      },
      {
       "current": "86e72140-82cc-11ee-91d3-0242ac120006-3-9ffa-2b97-608b",
       "next": "2946ebf0-82d2-11ee-91d3-0242ac120006-2-f76b-bf5b",
       "previous": "422cacfc-82c5-11ee-91d3-0242ac120006-2-00b6-f160"
      },
      {
       "current": "86e72140-82cc-11ee-91d3-0242ac120006-4-9ffa-2b97-608b-39b6",
       "next": "2946ebf0-82d2-11ee-91d3-0242ac120006-3-f76b-bf5b-0ea8",
       "previous": "422cacfc-82c5-11ee-91d3-0242ac120006-3-00b6-f160-d30b"
      }
     ],
     "next": "2946ebf0-82d2-11ee-91d3-0242ac120006-4-f76b-bf5b-0ea8-d185",
     "previous": "422cacfc-82c5-11ee-91d3-0242ac120006-4-00b6-f160-d30b-369a"
    }
   },
   "source": [
    "## Stop OSD"
   ]
  },
  {
   "cell_type": "code",
   "execution_count": null,
   "metadata": {
    "lc_cell_meme": {
     "current": "2946ebf0-82d2-11ee-91d3-0242ac120006-4-f76b-bf5b-0ea8-d185",
     "history": [
      {
       "current": "2946ebf0-82d2-11ee-91d3-0242ac120006-1-f76b",
       "next": "ce6e82d8-82cc-11ee-91d3-0242ac120006",
       "previous": "86e72140-82cc-11ee-91d3-0242ac120006"
      },
      {
       "current": "2946ebf0-82d2-11ee-91d3-0242ac120006-2-f76b-bf5b",
       "next": "ce6e82d8-82cc-11ee-91d3-0242ac120006-1-6bf9",
       "previous": "86e72140-82cc-11ee-91d3-0242ac120006-1-9ffa"
      },
      {
       "current": "2946ebf0-82d2-11ee-91d3-0242ac120006-3-f76b-bf5b-0ea8",
       "next": "ce6e82d8-82cc-11ee-91d3-0242ac120006-2-6bf9-e92b",
       "previous": "86e72140-82cc-11ee-91d3-0242ac120006-2-9ffa-2b97"
      },
      {
       "current": "2946ebf0-82d2-11ee-91d3-0242ac120006-4-f76b-bf5b-0ea8-d185",
       "next": "ce6e82d8-82cc-11ee-91d3-0242ac120006-3-6bf9-e92b-5ccc",
       "previous": "86e72140-82cc-11ee-91d3-0242ac120006-3-9ffa-2b97-608b"
      }
     ],
     "next": "ce6e82d8-82cc-11ee-91d3-0242ac120006-4-6bf9-e92b-5ccc-71d1",
     "previous": "86e72140-82cc-11ee-91d3-0242ac120006-4-9ffa-2b97-608b-39b6"
    },
    "scrolled": true
   },
   "outputs": [],
   "source": [
    "!ansible -b -m shell -a \"cephadm shell -- ceph osd tree\" bootstrap"
   ]
  },
  {
   "cell_type": "code",
   "execution_count": null,
   "metadata": {
    "lc_cell_meme": {
     "current": "ce6e82d8-82cc-11ee-91d3-0242ac120006-4-6bf9-e92b-5ccc-71d1",
     "history": [
      {
       "current": "ce6e82d8-82cc-11ee-91d3-0242ac120006",
       "next": "ce6e8454-82cc-11ee-91d3-0242ac120006",
       "previous": "86e72140-82cc-11ee-91d3-0242ac120006"
      },
      {
       "current": "ce6e82d8-82cc-11ee-91d3-0242ac120006",
       "next": "ce6e8454-82cc-11ee-91d3-0242ac120006",
       "previous": "2946ebf0-82d2-11ee-91d3-0242ac120006"
      },
      {
       "current": "ce6e82d8-82cc-11ee-91d3-0242ac120006-1-6bf9",
       "next": "d909bb7e-82d4-11ee-91d3-0242ac120006",
       "previous": "2946ebf0-82d2-11ee-91d3-0242ac120006"
      },
      {
       "current": "ce6e82d8-82cc-11ee-91d3-0242ac120006-2-6bf9-e92b",
       "next": "d909bb7e-82d4-11ee-91d3-0242ac120006-1-45e4",
       "previous": "2946ebf0-82d2-11ee-91d3-0242ac120006-1-f76b"
      },
      {
       "current": "ce6e82d8-82cc-11ee-91d3-0242ac120006-3-6bf9-e92b-5ccc",
       "next": "d909bb7e-82d4-11ee-91d3-0242ac120006-2-45e4-5a44",
       "previous": "2946ebf0-82d2-11ee-91d3-0242ac120006-2-f76b-bf5b"
      },
      {
       "current": "ce6e82d8-82cc-11ee-91d3-0242ac120006-4-6bf9-e92b-5ccc-71d1",
       "next": "d909bb7e-82d4-11ee-91d3-0242ac120006-3-45e4-5a44-8ad6",
       "previous": "2946ebf0-82d2-11ee-91d3-0242ac120006-3-f76b-bf5b-0ea8"
      }
     ],
     "next": "d909bb7e-82d4-11ee-91d3-0242ac120006-4-45e4-5a44-8ad6-8f9a",
     "previous": "2946ebf0-82d2-11ee-91d3-0242ac120006-4-f76b-bf5b-0ea8-d185"
    }
   },
   "outputs": [],
   "source": [
    "!ansible -b -m shell -a \"cephadm shell -- ceph -s\" bootstrap"
   ]
  },
  {
   "cell_type": "code",
   "execution_count": null,
   "metadata": {
    "lc_cell_meme": {
     "current": "d909bb7e-82d4-11ee-91d3-0242ac120006-4-45e4-5a44-8ad6-8f9a",
     "history": [
      {
       "current": "d909bb7e-82d4-11ee-91d3-0242ac120006-1-45e4",
       "next": "ce6e8454-82cc-11ee-91d3-0242ac120006",
       "previous": "ce6e82d8-82cc-11ee-91d3-0242ac120006"
      },
      {
       "current": "d909bb7e-82d4-11ee-91d3-0242ac120006-2-45e4-5a44",
       "next": "ce6e8454-82cc-11ee-91d3-0242ac120006-1-b565",
       "previous": "ce6e82d8-82cc-11ee-91d3-0242ac120006-1-6bf9"
      },
      {
       "current": "d909bb7e-82d4-11ee-91d3-0242ac120006-3-45e4-5a44-8ad6",
       "next": "ce6e8454-82cc-11ee-91d3-0242ac120006-2-b565-a69a",
       "previous": "ce6e82d8-82cc-11ee-91d3-0242ac120006-2-6bf9-e92b"
      },
      {
       "current": "d909bb7e-82d4-11ee-91d3-0242ac120006-4-45e4-5a44-8ad6-8f9a",
       "next": "ce6e8454-82cc-11ee-91d3-0242ac120006-3-b565-a69a-33d3",
       "previous": "ce6e82d8-82cc-11ee-91d3-0242ac120006-3-6bf9-e92b-5ccc"
      }
     ],
     "next": "ce6e8454-82cc-11ee-91d3-0242ac120006-4-b565-a69a-33d3-f8af",
     "previous": "ce6e82d8-82cc-11ee-91d3-0242ac120006-4-6bf9-e92b-5ccc-71d1"
    }
   },
   "outputs": [],
   "source": [
    "!ansible -b -m shell -a \"cephadm shell -- ceph pg stat 2> /dev/null\" bootstrap"
   ]
  },
  {
   "cell_type": "markdown",
   "metadata": {
    "lc_cell_meme": {
     "current": "ce6e8454-82cc-11ee-91d3-0242ac120006-4-b565-a69a-33d3-f8af",
     "history": [
      {
       "current": "ce6e8454-82cc-11ee-91d3-0242ac120006",
       "next": "0883efe0-7c78-11ee-89fa-0242ac120005",
       "previous": "ce6e82d8-82cc-11ee-91d3-0242ac120006"
      },
      {
       "current": "ce6e8454-82cc-11ee-91d3-0242ac120006",
       "next": "15f8f9a8-82cd-11ee-91d3-0242ac120006",
       "previous": "ce6e82d8-82cc-11ee-91d3-0242ac120006"
      },
      {
       "current": "ce6e8454-82cc-11ee-91d3-0242ac120006-1-b565",
       "next": "15f8f9a8-82cd-11ee-91d3-0242ac120006",
       "previous": "d909bb7e-82d4-11ee-91d3-0242ac120006"
      },
      {
       "current": "ce6e8454-82cc-11ee-91d3-0242ac120006-2-b565-a69a",
       "next": "15f8f9a8-82cd-11ee-91d3-0242ac120006-1-41d0",
       "previous": "d909bb7e-82d4-11ee-91d3-0242ac120006-1-45e4"
      },
      {
       "current": "ce6e8454-82cc-11ee-91d3-0242ac120006-3-b565-a69a-33d3",
       "next": "15f8f9a8-82cd-11ee-91d3-0242ac120006-2-41d0-02a7",
       "previous": "d909bb7e-82d4-11ee-91d3-0242ac120006-2-45e4-5a44"
      },
      {
       "current": "ce6e8454-82cc-11ee-91d3-0242ac120006-4-b565-a69a-33d3-f8af",
       "next": "15f8f9a8-82cd-11ee-91d3-0242ac120006-3-41d0-02a7-0ead",
       "previous": "d909bb7e-82d4-11ee-91d3-0242ac120006-3-45e4-5a44-8ad6"
      }
     ],
     "next": "15f8f9a8-82cd-11ee-91d3-0242ac120006-4-41d0-02a7-0ead-8463",
     "previous": "d909bb7e-82d4-11ee-91d3-0242ac120006-4-45e4-5a44-8ad6-8f9a"
    }
   },
   "source": [
    "この段階で、PGのリカバリ処理がは発生している。<br>\n",
    "リカバリ処理が完了してから、次のステップへ進むこと。"
   ]
  },
  {
   "cell_type": "code",
   "execution_count": null,
   "metadata": {
    "lc_cell_meme": {
     "current": "15f8f9a8-82cd-11ee-91d3-0242ac120006-4-41d0-02a7-0ead-8463",
     "history": [
      {
       "current": "15f8f9a8-82cd-11ee-91d3-0242ac120006-1-41d0",
       "next": "0883efe0-7c78-11ee-89fa-0242ac120005",
       "previous": "ce6e8454-82cc-11ee-91d3-0242ac120006"
      },
      {
       "current": "15f8f9a8-82cd-11ee-91d3-0242ac120006-2-41d0-02a7",
       "next": "0883efe0-7c78-11ee-89fa-0242ac120005-1-f7b2",
       "previous": "ce6e8454-82cc-11ee-91d3-0242ac120006-1-b565"
      },
      {
       "current": "15f8f9a8-82cd-11ee-91d3-0242ac120006-3-41d0-02a7-0ead",
       "next": "0883efe0-7c78-11ee-89fa-0242ac120005-2-f7b2-dd0c",
       "previous": "ce6e8454-82cc-11ee-91d3-0242ac120006-2-b565-a69a"
      },
      {
       "current": "15f8f9a8-82cd-11ee-91d3-0242ac120006-4-41d0-02a7-0ead-8463",
       "next": "0883efe0-7c78-11ee-89fa-0242ac120005-3-f7b2-dd0c-42d2",
       "previous": "ce6e8454-82cc-11ee-91d3-0242ac120006-3-b565-a69a-33d3"
      }
     ],
     "next": "0883efe0-7c78-11ee-89fa-0242ac120005-4-f7b2-dd0c-42d2-4a5d",
     "previous": "ce6e8454-82cc-11ee-91d3-0242ac120006-4-b565-a69a-33d3-f8af"
    }
   },
   "outputs": [],
   "source": [
    "# PGのリカバリ処理が終了するまで、次のステップに進まないこと。\n",
    "raise Exception('PGのリカバリ処理が終了するまで、次のステップに進まないこと。')"
   ]
  },
  {
   "cell_type": "code",
   "execution_count": null,
   "metadata": {
    "lc_cell_meme": {
     "current": "0883efe0-7c78-11ee-89fa-0242ac120005-4-f7b2-dd0c-42d2-4a5d",
     "history": [
      {
       "current": "0883efe0-7c78-11ee-89fa-0242ac120005",
       "next": "0883f10c-7c78-11ee-89fa-0242ac120005",
       "previous": "d972543c-788d-11ee-89fa-0242ac120005-1-4b32"
      },
      {
       "current": "0883efe0-7c78-11ee-89fa-0242ac120005",
       "next": "0883f10c-7c78-11ee-89fa-0242ac120005",
       "previous": "e54d6d76-82c1-11ee-91d3-0242ac120006"
      },
      {
       "current": "0883efe0-7c78-11ee-89fa-0242ac120005",
       "next": "0883f10c-7c78-11ee-89fa-0242ac120005",
       "previous": "2cd7337a-82c2-11ee-91d3-0242ac120006"
      },
      {
       "current": "0883efe0-7c78-11ee-89fa-0242ac120005",
       "next": "bbee0b88-82c2-11ee-91d3-0242ac120006",
       "previous": "bbee09ee-82c2-11ee-91d3-0242ac120006"
      },
      {
       "current": "0883efe0-7c78-11ee-89fa-0242ac120005",
       "next": "bbee0b88-82c2-11ee-91d3-0242ac120006",
       "previous": "422cacfc-82c5-11ee-91d3-0242ac120006"
      },
      {
       "current": "0883efe0-7c78-11ee-89fa-0242ac120005",
       "next": "89b95af2-82c5-11ee-91d3-0242ac120006",
       "previous": "422cacfc-82c5-11ee-91d3-0242ac120006"
      },
      {
       "current": "0883efe0-7c78-11ee-89fa-0242ac120005",
       "next": "89b95af2-82c5-11ee-91d3-0242ac120006",
       "previous": "86e72140-82cc-11ee-91d3-0242ac120006"
      },
      {
       "current": "0883efe0-7c78-11ee-89fa-0242ac120005",
       "next": "89b95af2-82c5-11ee-91d3-0242ac120006",
       "previous": "ce6e8454-82cc-11ee-91d3-0242ac120006"
      },
      {
       "current": "0883efe0-7c78-11ee-89fa-0242ac120005-1-f7b2",
       "next": "89b95af2-82c5-11ee-91d3-0242ac120006",
       "previous": "15f8f9a8-82cd-11ee-91d3-0242ac120006"
      },
      {
       "current": "0883efe0-7c78-11ee-89fa-0242ac120005-2-f7b2-dd0c",
       "next": "89b95af2-82c5-11ee-91d3-0242ac120006-1-ba06",
       "previous": "15f8f9a8-82cd-11ee-91d3-0242ac120006-1-41d0"
      },
      {
       "current": "0883efe0-7c78-11ee-89fa-0242ac120005-3-f7b2-dd0c-42d2",
       "next": "89b95af2-82c5-11ee-91d3-0242ac120006-2-ba06-b524",
       "previous": "15f8f9a8-82cd-11ee-91d3-0242ac120006-2-41d0-02a7"
      },
      {
       "current": "0883efe0-7c78-11ee-89fa-0242ac120005-4-f7b2-dd0c-42d2-4a5d",
       "next": "89b95af2-82c5-11ee-91d3-0242ac120006-3-ba06-b524-646f",
       "previous": "15f8f9a8-82cd-11ee-91d3-0242ac120006-3-41d0-02a7-0ead"
      }
     ],
     "next": "89b95af2-82c5-11ee-91d3-0242ac120006-4-ba06-b524-646f-dd27",
     "previous": "15f8f9a8-82cd-11ee-91d3-0242ac120006-4-41d0-02a7-0ead-8463"
    }
   },
   "outputs": [],
   "source": [
    "!ansible -b -m shell -a \"cephadm shell -- ceph orch daemon stop osd.$osd_id\" bootstrap"
   ]
  },
  {
   "cell_type": "code",
   "execution_count": null,
   "metadata": {
    "lc_cell_meme": {
     "current": "89b95af2-82c5-11ee-91d3-0242ac120006-4-ba06-b524-646f-dd27",
     "history": [
      {
       "current": "89b95af2-82c5-11ee-91d3-0242ac120006-1-ba06",
       "next": "bbee0b88-82c2-11ee-91d3-0242ac120006",
       "previous": "0883efe0-7c78-11ee-89fa-0242ac120005"
      },
      {
       "current": "89b95af2-82c5-11ee-91d3-0242ac120006-2-ba06-b524",
       "next": "bbee0b88-82c2-11ee-91d3-0242ac120006-1-79f3",
       "previous": "0883efe0-7c78-11ee-89fa-0242ac120005-1-f7b2"
      },
      {
       "current": "89b95af2-82c5-11ee-91d3-0242ac120006-3-ba06-b524-646f",
       "next": "bbee0b88-82c2-11ee-91d3-0242ac120006-2-79f3-4aad",
       "previous": "0883efe0-7c78-11ee-89fa-0242ac120005-2-f7b2-dd0c"
      },
      {
       "current": "89b95af2-82c5-11ee-91d3-0242ac120006-4-ba06-b524-646f-dd27",
       "next": "bbee0b88-82c2-11ee-91d3-0242ac120006-3-79f3-4aad-c9f7",
       "previous": "0883efe0-7c78-11ee-89fa-0242ac120005-3-f7b2-dd0c-42d2"
      }
     ],
     "next": "bbee0b88-82c2-11ee-91d3-0242ac120006-4-79f3-4aad-c9f7-7d15",
     "previous": "0883efe0-7c78-11ee-89fa-0242ac120005-4-f7b2-dd0c-42d2-4a5d"
    },
    "scrolled": true
   },
   "outputs": [],
   "source": [
    "!ansible -b -m shell -a \"cephadm shell -- ceph osd tree\" bootstrap"
   ]
  },
  {
   "cell_type": "markdown",
   "metadata": {
    "lc_cell_meme": {
     "current": "bbee0b88-82c2-11ee-91d3-0242ac120006-4-79f3-4aad-c9f7-7d15",
     "history": [
      {
       "current": "bbee0b88-82c2-11ee-91d3-0242ac120006",
       "next": "bbee0c1e-82c2-11ee-91d3-0242ac120006",
       "previous": "0883efe0-7c78-11ee-89fa-0242ac120005"
      },
      {
       "current": "bbee0b88-82c2-11ee-91d3-0242ac120006-1-79f3",
       "next": "bbee0c1e-82c2-11ee-91d3-0242ac120006",
       "previous": "89b95af2-82c5-11ee-91d3-0242ac120006"
      },
      {
       "current": "bbee0b88-82c2-11ee-91d3-0242ac120006-2-79f3-4aad",
       "next": "bbee0c1e-82c2-11ee-91d3-0242ac120006-1-5320",
       "previous": "89b95af2-82c5-11ee-91d3-0242ac120006-1-ba06"
      },
      {
       "current": "bbee0b88-82c2-11ee-91d3-0242ac120006-3-79f3-4aad-c9f7",
       "next": "bbee0c1e-82c2-11ee-91d3-0242ac120006-2-5320-2ab1",
       "previous": "89b95af2-82c5-11ee-91d3-0242ac120006-2-ba06-b524"
      },
      {
       "current": "bbee0b88-82c2-11ee-91d3-0242ac120006-4-79f3-4aad-c9f7-7d15",
       "next": "bbee0c1e-82c2-11ee-91d3-0242ac120006-3-5320-2ab1-1981",
       "previous": "89b95af2-82c5-11ee-91d3-0242ac120006-3-ba06-b524-646f"
      }
     ],
     "next": "bbee0c1e-82c2-11ee-91d3-0242ac120006-4-5320-2ab1-1981-c7b7",
     "previous": "89b95af2-82c5-11ee-91d3-0242ac120006-4-ba06-b524-646f-dd27"
    }
   },
   "source": [
    "## remove OSD"
   ]
  },
  {
   "cell_type": "code",
   "execution_count": null,
   "metadata": {
    "lc_cell_meme": {
     "current": "bbee0c1e-82c2-11ee-91d3-0242ac120006-4-5320-2ab1-1981-c7b7",
     "history": [
      {
       "current": "bbee0c1e-82c2-11ee-91d3-0242ac120006-1-5320",
       "next": "0883f10c-7c78-11ee-89fa-0242ac120005",
       "previous": "bbee0b88-82c2-11ee-91d3-0242ac120006"
      },
      {
       "current": "bbee0c1e-82c2-11ee-91d3-0242ac120006-2-5320-2ab1",
       "next": "0883f10c-7c78-11ee-89fa-0242ac120005-1-43f2",
       "previous": "bbee0b88-82c2-11ee-91d3-0242ac120006-1-79f3"
      },
      {
       "current": "bbee0c1e-82c2-11ee-91d3-0242ac120006-3-5320-2ab1-1981",
       "next": "0883f10c-7c78-11ee-89fa-0242ac120005-2-43f2-c4c2",
       "previous": "bbee0b88-82c2-11ee-91d3-0242ac120006-2-79f3-4aad"
      },
      {
       "current": "bbee0c1e-82c2-11ee-91d3-0242ac120006-4-5320-2ab1-1981-c7b7",
       "next": "0883f10c-7c78-11ee-89fa-0242ac120005-3-43f2-c4c2-df93",
       "previous": "bbee0b88-82c2-11ee-91d3-0242ac120006-3-79f3-4aad-c9f7"
      }
     ],
     "next": "0883f10c-7c78-11ee-89fa-0242ac120005-4-43f2-c4c2-df93-b9ab",
     "previous": "bbee0b88-82c2-11ee-91d3-0242ac120006-4-79f3-4aad-c9f7-7d15"
    }
   },
   "outputs": [],
   "source": [
    "!ansible -b -m shell -a \"cephadm shell -- ceph orch osd rm $osd_id --replace\" bootstrap"
   ]
  },
  {
   "cell_type": "code",
   "execution_count": null,
   "metadata": {
    "lc_cell_meme": {
     "current": "0883f10c-7c78-11ee-89fa-0242ac120005-4-43f2-c4c2-df93-b9ab",
     "history": [
      {
       "current": "0883f10c-7c78-11ee-89fa-0242ac120005",
       "next": "d972545a-788d-11ee-89fa-0242ac120005",
       "previous": "0883efe0-7c78-11ee-89fa-0242ac120005"
      },
      {
       "current": "0883f10c-7c78-11ee-89fa-0242ac120005",
       "next": "d159893c-7888-11ee-89fa-0242ac120005",
       "previous": "0883efe0-7c78-11ee-89fa-0242ac120005"
      },
      {
       "current": "0883f10c-7c78-11ee-89fa-0242ac120005",
       "next": "c78e6e4a-7d15-11ee-89fa-0242ac120005",
       "previous": "0883efe0-7c78-11ee-89fa-0242ac120005"
      },
      {
       "current": "0883f10c-7c78-11ee-89fa-0242ac120005-1-43f2",
       "next": "c78e6e4a-7d15-11ee-89fa-0242ac120005",
       "previous": "bbee0c1e-82c2-11ee-91d3-0242ac120006"
      },
      {
       "current": "0883f10c-7c78-11ee-89fa-0242ac120005-2-43f2-c4c2",
       "next": "c78e6e4a-7d15-11ee-89fa-0242ac120005-1-3828",
       "previous": "bbee0c1e-82c2-11ee-91d3-0242ac120006-1-5320"
      },
      {
       "current": "0883f10c-7c78-11ee-89fa-0242ac120005-3-43f2-c4c2-df93",
       "next": "c78e6e4a-7d15-11ee-89fa-0242ac120005-2-3828-bfe7",
       "previous": "bbee0c1e-82c2-11ee-91d3-0242ac120006-2-5320-2ab1"
      },
      {
       "current": "0883f10c-7c78-11ee-89fa-0242ac120005-4-43f2-c4c2-df93-b9ab",
       "next": "c78e6e4a-7d15-11ee-89fa-0242ac120005-3-3828-bfe7-1a96",
       "previous": "bbee0c1e-82c2-11ee-91d3-0242ac120006-3-5320-2ab1-1981"
      }
     ],
     "next": "c78e6e4a-7d15-11ee-89fa-0242ac120005-4-3828-bfe7-1a96-b09c",
     "previous": "bbee0c1e-82c2-11ee-91d3-0242ac120006-4-5320-2ab1-1981-c7b7"
    },
    "scrolled": true
   },
   "outputs": [],
   "source": [
    "!ansible -b -m shell -a \"cephadm shell -- ceph osd tree\" bootstrap"
   ]
  },
  {
   "cell_type": "markdown",
   "metadata": {
    "lc_cell_meme": {
     "current": "c78e6e4a-7d15-11ee-89fa-0242ac120005-4-3828-bfe7-1a96-b09c",
     "history": [
      {
       "current": "c78e6e4a-7d15-11ee-89fa-0242ac120005",
       "next": "d15989a0-7888-11ee-89fa-0242ac120005",
       "previous": "0883f10c-7c78-11ee-89fa-0242ac120005"
      },
      {
       "current": "c78e6e4a-7d15-11ee-89fa-0242ac120005-1-3828",
       "next": "e1c2070e-7d15-11ee-89fa-0242ac120005",
       "previous": "0883f10c-7c78-11ee-89fa-0242ac120005"
      },
      {
       "current": "c78e6e4a-7d15-11ee-89fa-0242ac120005-2-3828-bfe7",
       "next": "e1c2070e-7d15-11ee-89fa-0242ac120005-1-2852",
       "previous": "0883f10c-7c78-11ee-89fa-0242ac120005-1-43f2"
      },
      {
       "current": "c78e6e4a-7d15-11ee-89fa-0242ac120005-3-3828-bfe7-1a96",
       "next": "e1c2070e-7d15-11ee-89fa-0242ac120005-2-2852-7f0f",
       "previous": "0883f10c-7c78-11ee-89fa-0242ac120005-2-43f2-c4c2"
      },
      {
       "current": "c78e6e4a-7d15-11ee-89fa-0242ac120005-4-3828-bfe7-1a96-b09c",
       "next": "e1c2070e-7d15-11ee-89fa-0242ac120005-3-2852-7f0f-f34f",
       "previous": "0883f10c-7c78-11ee-89fa-0242ac120005-3-43f2-c4c2-df93"
      }
     ],
     "next": "e1c2070e-7d15-11ee-89fa-0242ac120005-4-2852-7f0f-f34f-0c28",
     "previous": "0883f10c-7c78-11ee-89fa-0242ac120005-4-43f2-c4c2-df93-b9ab"
    }
   },
   "source": [
    "## LVM からのZAP"
   ]
  },
  {
   "cell_type": "code",
   "execution_count": null,
   "metadata": {
    "lc_cell_meme": {
     "current": "e1c2070e-7d15-11ee-89fa-0242ac120005-4-2852-7f0f-f34f-0c28",
     "history": [
      {
       "current": "e1c2070e-7d15-11ee-89fa-0242ac120005",
       "next": "d15989a0-7888-11ee-89fa-0242ac120005",
       "previous": "c78e6e4a-7d15-11ee-89fa-0242ac120005"
      },
      {
       "current": "e1c2070e-7d15-11ee-89fa-0242ac120005-1-2852",
       "next": "d15989fa-7888-11ee-89fa-0242ac120005",
       "previous": "c78e6e4a-7d15-11ee-89fa-0242ac120005"
      },
      {
       "current": "e1c2070e-7d15-11ee-89fa-0242ac120005-2-2852-7f0f",
       "next": "d15989fa-7888-11ee-89fa-0242ac120005-1-f50a",
       "previous": "c78e6e4a-7d15-11ee-89fa-0242ac120005-1-3828"
      },
      {
       "current": "e1c2070e-7d15-11ee-89fa-0242ac120005-3-2852-7f0f-f34f",
       "next": "d15989fa-7888-11ee-89fa-0242ac120005-2-f50a-501c",
       "previous": "c78e6e4a-7d15-11ee-89fa-0242ac120005-2-3828-bfe7"
      },
      {
       "current": "e1c2070e-7d15-11ee-89fa-0242ac120005-4-2852-7f0f-f34f-0c28",
       "next": "d15989fa-7888-11ee-89fa-0242ac120005-3-f50a-501c-1b32",
       "previous": "c78e6e4a-7d15-11ee-89fa-0242ac120005-3-3828-bfe7-1a96"
      }
     ],
     "next": "d15989fa-7888-11ee-89fa-0242ac120005-4-f50a-501c-1b32-4f46",
     "previous": "c78e6e4a-7d15-11ee-89fa-0242ac120005-4-3828-bfe7-1a96-b09c"
    }
   },
   "outputs": [],
   "source": [
    "osd_id = remove_osd_info['id']\n",
    "host_name = remove_osd_info['host_name']\n",
    "prov_ip = None\n",
    "for node in node_list:\n",
    "    if host_name == node['name']:\n",
    "        prov_ip = node['prov_ip']\n",
    "        break\n",
    "\n",
    "!ansible -b -m shell -a \"cephadm shell -- ceph-volume lvm list $osd_id\" $prov_ip"
   ]
  },
  {
   "cell_type": "code",
   "execution_count": null,
   "metadata": {
    "lc_cell_meme": {
     "current": "d15989fa-7888-11ee-89fa-0242ac120005-4-f50a-501c-1b32-4f46",
     "history": [
      {
       "current": "d15989fa-7888-11ee-89fa-0242ac120005",
       "next": "35c581ba-55a3-11e7-b0b2-00163e9c0e35-3-f60b-133a-40ef",
       "previous": "d15989a0-7888-11ee-89fa-0242ac120005"
      },
      {
       "current": "d15989fa-7888-11ee-89fa-0242ac120005",
       "next": "180f40a8-7d14-11ee-89fa-0242ac120005",
       "previous": "d15989a0-7888-11ee-89fa-0242ac120005"
      },
      {
       "current": "d15989fa-7888-11ee-89fa-0242ac120005",
       "next": "35c581ba-55a3-11e7-b0b2-00163e9c0e35-3-f60b-133a-40ef",
       "previous": "d15989a0-7888-11ee-89fa-0242ac120005"
      },
      {
       "current": "d15989fa-7888-11ee-89fa-0242ac120005",
       "next": "0f18571c-7d16-11ee-89fa-0242ac120005",
       "previous": "d15989a0-7888-11ee-89fa-0242ac120005"
      },
      {
       "current": "d15989fa-7888-11ee-89fa-0242ac120005-1-f50a",
       "next": "0f18571c-7d16-11ee-89fa-0242ac120005",
       "previous": "e1c2070e-7d15-11ee-89fa-0242ac120005"
      },
      {
       "current": "d15989fa-7888-11ee-89fa-0242ac120005-2-f50a-501c",
       "next": "0f18571c-7d16-11ee-89fa-0242ac120005-1-90a4",
       "previous": "e1c2070e-7d15-11ee-89fa-0242ac120005-1-2852"
      },
      {
       "current": "d15989fa-7888-11ee-89fa-0242ac120005-3-f50a-501c-1b32",
       "next": "0f18571c-7d16-11ee-89fa-0242ac120005-2-90a4-d748",
       "previous": "e1c2070e-7d15-11ee-89fa-0242ac120005-2-2852-7f0f"
      },
      {
       "current": "d15989fa-7888-11ee-89fa-0242ac120005-4-f50a-501c-1b32-4f46",
       "next": "0f18571c-7d16-11ee-89fa-0242ac120005-3-90a4-d748-fde2",
       "previous": "e1c2070e-7d15-11ee-89fa-0242ac120005-3-2852-7f0f-f34f"
      }
     ],
     "next": "0f18571c-7d16-11ee-89fa-0242ac120005-4-90a4-d748-fde2-91b8",
     "previous": "e1c2070e-7d15-11ee-89fa-0242ac120005-4-2852-7f0f-f34f-0c28"
    },
    "scrolled": true
   },
   "outputs": [],
   "source": [
    "!ansible -b -m shell -a \"cephadm shell -- ceph osd tree\" bootstrap"
   ]
  },
  {
   "cell_type": "code",
   "execution_count": null,
   "metadata": {
    "lc_cell_meme": {
     "current": "0f18571c-7d16-11ee-89fa-0242ac120005-4-90a4-d748-fde2-91b8",
     "history": [
      {
       "current": "0f18571c-7d16-11ee-89fa-0242ac120005-1-90a4",
       "next": "35c581ba-55a3-11e7-b0b2-00163e9c0e35-3-f60b-133a-40ef",
       "previous": "d15989fa-7888-11ee-89fa-0242ac120005"
      },
      {
       "current": "0f18571c-7d16-11ee-89fa-0242ac120005-2-90a4-d748",
       "next": "35c581ba-55a3-11e7-b0b2-00163e9c0e35-4-f60b-133a-40ef-931e",
       "previous": "d15989fa-7888-11ee-89fa-0242ac120005-1-f50a"
      },
      {
       "current": "0f18571c-7d16-11ee-89fa-0242ac120005-3-90a4-d748-fde2",
       "next": "35c581ba-55a3-11e7-b0b2-00163e9c0e35-5-f60b-133a-40ef-931e-a633",
       "previous": "d15989fa-7888-11ee-89fa-0242ac120005-2-f50a-501c"
      },
      {
       "current": "0f18571c-7d16-11ee-89fa-0242ac120005-4-90a4-d748-fde2-91b8",
       "next": "35c581ba-55a3-11e7-b0b2-00163e9c0e35-6-f60b-133a-40ef-931e-a633-7b83",
       "previous": "d15989fa-7888-11ee-89fa-0242ac120005-3-f50a-501c-1b32"
      }
     ],
     "next": "35c581ba-55a3-11e7-b0b2-00163e9c0e35-7-f60b-133a-40ef-931e-a633-7b83-03f1",
     "previous": "d15989fa-7888-11ee-89fa-0242ac120005-4-f50a-501c-1b32-4f46"
    }
   },
   "outputs": [],
   "source": [
    "!ansible -b -m shell -a \"cephadm shell -- ceph -s\" bootstrap"
   ]
  },
  {
   "cell_type": "markdown",
   "metadata": {
    "collapsed": true,
    "lc_cell_meme": {
     "current": "35c581ba-55a3-11e7-b0b2-00163e9c0e35-7-f60b-133a-40ef-931e-a633-7b83-03f1",
     "history": [
      {
       "current": "35c581ba-55a3-11e7-b0b2-00163e9c0e35",
       "next": "35c58340-55a3-11e7-b0b2-00163e9c0e35",
       "previous": "35c58034-55a3-11e7-b0b2-00163e9c0e35"
      },
      {
       "current": "35c581ba-55a3-11e7-b0b2-00163e9c0e35",
       "next": "35c58340-55a3-11e7-b0b2-00163e9c0e35",
       "previous": "35c51928-55a3-11e7-b0b2-00163e9c0e35"
      },
      {
       "current": "35c581ba-55a3-11e7-b0b2-00163e9c0e35",
       "next": "35c58340-55a3-11e7-b0b2-00163e9c0e35",
       "previous": "277a614c-47b9-11ea-a028-0242ac120005"
      },
      {
       "current": "35c581ba-55a3-11e7-b0b2-00163e9c0e35",
       "next": "35c58340-55a3-11e7-b0b2-00163e9c0e35",
       "previous": "35c51928-55a3-11e7-b0b2-00163e9c0e35"
      },
      {
       "current": "35c581ba-55a3-11e7-b0b2-00163e9c0e35",
       "next": "35c58340-55a3-11e7-b0b2-00163e9c0e35",
       "previous": "b8a85906-47b6-11ea-a028-0242ac120005"
      },
      {
       "current": "35c581ba-55a3-11e7-b0b2-00163e9c0e35",
       "next": "35c58340-55a3-11e7-b0b2-00163e9c0e35",
       "previous": "35c38fae-55a3-11e7-b0b2-00163e9c0e35"
      },
      {
       "current": "35c581ba-55a3-11e7-b0b2-00163e9c0e35",
       "next": "35c58340-55a3-11e7-b0b2-00163e9c0e35",
       "previous": "35c385a4-55a3-11e7-b0b2-00163e9c0e35"
      },
      {
       "current": "35c581ba-55a3-11e7-b0b2-00163e9c0e35",
       "next": "35c58340-55a3-11e7-b0b2-00163e9c0e35",
       "previous": "27c39180-935b-11ea-8d02-0242ac120007"
      },
      {
       "current": "35c581ba-55a3-11e7-b0b2-00163e9c0e35",
       "next": "35c58340-55a3-11e7-b0b2-00163e9c0e35",
       "previous": "35c385a4-55a3-11e7-b0b2-00163e9c0e35"
      },
      {
       "current": "35c581ba-55a3-11e7-b0b2-00163e9c0e35",
       "next": "35c58340-55a3-11e7-b0b2-00163e9c0e35",
       "previous": "b20d6ace-9684-11ea-8d02-0242ac120007"
      },
      {
       "current": "35c581ba-55a3-11e7-b0b2-00163e9c0e35",
       "next": "35c58340-55a3-11e7-b0b2-00163e9c0e35",
       "previous": "18b837c6-9686-11ea-8d02-0242ac120007"
      },
      {
       "current": "35c581ba-55a3-11e7-b0b2-00163e9c0e35",
       "next": "35c58340-55a3-11e7-b0b2-00163e9c0e35",
       "previous": "59de09f6-9686-11ea-8d02-0242ac120007"
      },
      {
       "current": "35c581ba-55a3-11e7-b0b2-00163e9c0e35",
       "next": "35c58340-55a3-11e7-b0b2-00163e9c0e35",
       "previous": "7dae8b30-9686-11ea-8d02-0242ac120007"
      },
      {
       "current": "35c581ba-55a3-11e7-b0b2-00163e9c0e35",
       "next": "35c58340-55a3-11e7-b0b2-00163e9c0e35",
       "previous": "789942dc-9692-11ea-8d02-0242ac120007"
      },
      {
       "current": "35c581ba-55a3-11e7-b0b2-00163e9c0e35",
       "next": "35c58340-55a3-11e7-b0b2-00163e9c0e35",
       "previous": "e95d003a-9697-11ea-8d02-0242ac120007"
      },
      {
       "current": "35c581ba-55a3-11e7-b0b2-00163e9c0e35",
       "next": "35c58340-55a3-11e7-b0b2-00163e9c0e35",
       "previous": "357fc83a-969d-11ea-8d02-0242ac120007"
      },
      {
       "current": "35c581ba-55a3-11e7-b0b2-00163e9c0e35",
       "next": "35c58340-55a3-11e7-b0b2-00163e9c0e35",
       "previous": "7dae86da-9686-11ea-8d02-0242ac120007"
      },
      {
       "current": "35c581ba-55a3-11e7-b0b2-00163e9c0e35",
       "next": "35c58340-55a3-11e7-b0b2-00163e9c0e35",
       "previous": "49102d8c-98a9-11ea-8d02-0242ac120007"
      },
      {
       "current": "35c581ba-55a3-11e7-b0b2-00163e9c0e35",
       "next": "35c58340-55a3-11e7-b0b2-00163e9c0e35",
       "previous": "dbe917aa-9984-11ea-8d02-0242ac120007"
      },
      {
       "current": "35c581ba-55a3-11e7-b0b2-00163e9c0e35",
       "next": "35c58340-55a3-11e7-b0b2-00163e9c0e35",
       "previous": "f9f7c1a0-9985-11ea-8d02-0242ac120007"
      },
      {
       "current": "35c581ba-55a3-11e7-b0b2-00163e9c0e35",
       "next": "35c58340-55a3-11e7-b0b2-00163e9c0e35",
       "previous": "4180e646-9986-11ea-8d02-0242ac120007"
      },
      {
       "current": "35c581ba-55a3-11e7-b0b2-00163e9c0e35",
       "next": "35c58340-55a3-11e7-b0b2-00163e9c0e35",
       "previous": "eea7aafc-9987-11ea-8d02-0242ac120007"
      },
      {
       "current": "35c581ba-55a3-11e7-b0b2-00163e9c0e35",
       "next": "35c58340-55a3-11e7-b0b2-00163e9c0e35",
       "previous": "7db36be6-9988-11ea-8d02-0242ac120007"
      },
      {
       "current": "35c581ba-55a3-11e7-b0b2-00163e9c0e35",
       "next": "35c58340-55a3-11e7-b0b2-00163e9c0e35",
       "previous": "7db36a7e-9988-11ea-8d02-0242ac120007"
      },
      {
       "current": "35c581ba-55a3-11e7-b0b2-00163e9c0e35",
       "next": "35c58340-55a3-11e7-b0b2-00163e9c0e35",
       "previous": "f3e7d364-998e-11ea-8d02-0242ac120007"
      },
      {
       "current": "35c581ba-55a3-11e7-b0b2-00163e9c0e35-1-f60b",
       "next": "35c58340-55a3-11e7-b0b2-00163e9c0e35",
       "previous": "b0a33f46-98ce-11ea-8d02-0242ac120007"
      },
      {
       "current": "35c581ba-55a3-11e7-b0b2-00163e9c0e35-2-f60b-133a",
       "next": "35c58340-55a3-11e7-b0b2-00163e9c0e35-1-c0ce",
       "previous": "b0a33f46-98ce-11ea-8d02-0242ac120007-1-1e51"
      },
      {
       "current": "35c581ba-55a3-11e7-b0b2-00163e9c0e35-2-f60b-133a",
       "next": "35c58340-55a3-11e7-b0b2-00163e9c0e35-2-c0ce-9618",
       "previous": "b0a33f46-98ce-11ea-8d02-0242ac120007-2-1e51-b1e8"
      },
      {
       "current": "35c581ba-55a3-11e7-b0b2-00163e9c0e35-2-f60b-133a",
       "next": "35c58340-55a3-11e7-b0b2-00163e9c0e35-2-c0ce-9618",
       "previous": "d0769ffa-98bc-11ea-8d02-0242ac120007-2-9994-0723"
      },
      {
       "current": "35c581ba-55a3-11e7-b0b2-00163e9c0e35-2-f60b-133a",
       "next": "35c58340-55a3-11e7-b0b2-00163e9c0e35-2-c0ce-9618",
       "previous": "bc16cb02-dfce-11eb-b29f-0242ac120008"
      },
      {
       "current": "35c581ba-55a3-11e7-b0b2-00163e9c0e35-2-f60b-133a",
       "next": "35c58340-55a3-11e7-b0b2-00163e9c0e35-2-c0ce-9618",
       "previous": "7cf7d994-f4ea-11eb-b29f-0242ac120008"
      },
      {
       "current": "35c581ba-55a3-11e7-b0b2-00163e9c0e35-2-f60b-133a",
       "next": "35c58340-55a3-11e7-b0b2-00163e9c0e35-2-c0ce-9618",
       "previous": "204647a2-f4eb-11eb-b29f-0242ac120008"
      },
      {
       "current": "35c581ba-55a3-11e7-b0b2-00163e9c0e35-2-f60b-133a",
       "next": "35c58340-55a3-11e7-b0b2-00163e9c0e35-2-c0ce-9618",
       "previous": "798c29c4-9a06-11ec-a1da-0242ac120004"
      },
      {
       "current": "35c581ba-55a3-11e7-b0b2-00163e9c0e35-3-f60b-133a-40ef",
       "next": "35c58340-55a3-11e7-b0b2-00163e9c0e35-2-c0ce-9618",
       "previous": "204647a2-f4eb-11eb-b29f-0242ac120008"
      },
      {
       "current": "35c581ba-55a3-11e7-b0b2-00163e9c0e35-3-f60b-133a-40ef",
       "next": "35c58340-55a3-11e7-b0b2-00163e9c0e35-3-c0ce-9618-7032",
       "previous": "204647a2-f4eb-11eb-b29f-0242ac120008-1-10f9"
      },
      {
       "current": "35c581ba-55a3-11e7-b0b2-00163e9c0e35-3-f60b-133a-40ef",
       "next": "35c58340-55a3-11e7-b0b2-00163e9c0e35-3-c0ce-9618-7032",
       "previous": "3c6cb112-4bb2-11ee-89fa-0242ac120005"
      },
      {
       "current": "35c581ba-55a3-11e7-b0b2-00163e9c0e35-3-f60b-133a-40ef",
       "next": "35c58340-55a3-11e7-b0b2-00163e9c0e35-3-c0ce-9618-7032",
       "previous": "d619a970-6195-11ee-89fa-0242ac120005"
      },
      {
       "current": "35c581ba-55a3-11e7-b0b2-00163e9c0e35-3-f60b-133a-40ef",
       "next": "35c58340-55a3-11e7-b0b2-00163e9c0e35-3-c0ce-9618-7032",
       "previous": "d954180a-61bd-11ee-89fa-0242ac120005"
      },
      {
       "current": "35c581ba-55a3-11e7-b0b2-00163e9c0e35-3-f60b-133a-40ef",
       "next": "35c58340-55a3-11e7-b0b2-00163e9c0e35-3-c0ce-9618-7032",
       "previous": "8f9c98ce-716a-11ee-89fa-0242ac120005"
      },
      {
       "current": "35c581ba-55a3-11e7-b0b2-00163e9c0e35-3-f60b-133a-40ef",
       "next": "35c58340-55a3-11e7-b0b2-00163e9c0e35-3-c0ce-9618-7032",
       "previous": "3ce444ae-716c-11ee-89fa-0242ac120005"
      },
      {
       "current": "35c581ba-55a3-11e7-b0b2-00163e9c0e35-3-f60b-133a-40ef",
       "next": "35c58340-55a3-11e7-b0b2-00163e9c0e35-3-c0ce-9618-7032",
       "previous": "31f71398-7877-11ee-89fa-0242ac120005"
      },
      {
       "current": "35c581ba-55a3-11e7-b0b2-00163e9c0e35-3-f60b-133a-40ef",
       "next": "35c58340-55a3-11e7-b0b2-00163e9c0e35-3-c0ce-9618-7032",
       "previous": "8c52f84a-787a-11ee-89fa-0242ac120005"
      },
      {
       "current": "35c581ba-55a3-11e7-b0b2-00163e9c0e35-3-f60b-133a-40ef",
       "next": "35c58340-55a3-11e7-b0b2-00163e9c0e35-3-c0ce-9618-7032",
       "previous": "d15989fa-7888-11ee-89fa-0242ac120005"
      },
      {
       "current": "35c581ba-55a3-11e7-b0b2-00163e9c0e35-3-f60b-133a-40ef",
       "next": "35c58340-55a3-11e7-b0b2-00163e9c0e35-3-c0ce-9618-7032",
       "previous": "180f42ec-7d14-11ee-89fa-0242ac120005"
      },
      {
       "current": "35c581ba-55a3-11e7-b0b2-00163e9c0e35-3-f60b-133a-40ef",
       "next": "35c58340-55a3-11e7-b0b2-00163e9c0e35-3-c0ce-9618-7032",
       "previous": "d15989fa-7888-11ee-89fa-0242ac120005"
      },
      {
       "current": "35c581ba-55a3-11e7-b0b2-00163e9c0e35-4-f60b-133a-40ef-931e",
       "next": "35c58340-55a3-11e7-b0b2-00163e9c0e35-3-c0ce-9618-7032",
       "previous": "0f18571c-7d16-11ee-89fa-0242ac120005"
      },
      {
       "current": "35c581ba-55a3-11e7-b0b2-00163e9c0e35-5-f60b-133a-40ef-931e-a633",
       "next": "35c58340-55a3-11e7-b0b2-00163e9c0e35-4-c0ce-9618-7032-4707",
       "previous": "0f18571c-7d16-11ee-89fa-0242ac120005-1-90a4"
      },
      {
       "current": "35c581ba-55a3-11e7-b0b2-00163e9c0e35-6-f60b-133a-40ef-931e-a633-7b83",
       "next": "35c58340-55a3-11e7-b0b2-00163e9c0e35-5-c0ce-9618-7032-4707-b4fd",
       "previous": "0f18571c-7d16-11ee-89fa-0242ac120005-2-90a4-d748"
      },
      {
       "current": "35c581ba-55a3-11e7-b0b2-00163e9c0e35-7-f60b-133a-40ef-931e-a633-7b83-03f1",
       "next": "35c58340-55a3-11e7-b0b2-00163e9c0e35-6-c0ce-9618-7032-4707-b4fd-fa85",
       "previous": "0f18571c-7d16-11ee-89fa-0242ac120005-3-90a4-d748-fde2"
      }
     ],
     "next": "35c58340-55a3-11e7-b0b2-00163e9c0e35-7-c0ce-9618-7032-4707-b4fd-fa85-fda1",
     "previous": "0f18571c-7d16-11ee-89fa-0242ac120005-4-90a4-d748-fde2-91b8"
    }
   },
   "source": [
    "# 後始末\n",
    "\n",
    "一時ディレクトリを削除する。"
   ]
  },
  {
   "cell_type": "code",
   "execution_count": null,
   "metadata": {
    "ExecuteTime": {
     "end_time": "2017-06-29T08:01:20.617274Z",
     "start_time": "2017-06-29T08:01:20.466671Z"
    },
    "lc_cell_meme": {
     "current": "35c58340-55a3-11e7-b0b2-00163e9c0e35-7-c0ce-9618-7032-4707-b4fd-fa85-fda1",
     "history": [
      {
       "current": "35c58340-55a3-11e7-b0b2-00163e9c0e35",
       "next": null,
       "previous": "35c581ba-55a3-11e7-b0b2-00163e9c0e35"
      },
      {
       "current": "35c58340-55a3-11e7-b0b2-00163e9c0e35-1-c0ce",
       "next": "c4bd8ce4-5749-11e7-b0b2-00163e9c0e35",
       "previous": "35c581ba-55a3-11e7-b0b2-00163e9c0e35"
      },
      {
       "current": "35c58340-55a3-11e7-b0b2-00163e9c0e35-2-c0ce-9618",
       "next": "c4bd8ce4-5749-11e7-b0b2-00163e9c0e35-1-6c35",
       "previous": "35c581ba-55a3-11e7-b0b2-00163e9c0e35-1-f60b"
      },
      {
       "current": "35c58340-55a3-11e7-b0b2-00163e9c0e35-3-c0ce-9618-7032",
       "next": "c4bd8ce4-5749-11e7-b0b2-00163e9c0e35-2-6c35-ebfb",
       "previous": "35c581ba-55a3-11e7-b0b2-00163e9c0e35-2-f60b-133a"
      },
      {
       "current": "35c58340-55a3-11e7-b0b2-00163e9c0e35-4-c0ce-9618-7032-4707",
       "next": "c4bd8ce4-5749-11e7-b0b2-00163e9c0e35-3-6c35-ebfb-793f",
       "previous": "35c581ba-55a3-11e7-b0b2-00163e9c0e35-3-f60b-133a-40ef"
      },
      {
       "current": "35c58340-55a3-11e7-b0b2-00163e9c0e35-5-c0ce-9618-7032-4707-b4fd",
       "next": "c4bd8ce4-5749-11e7-b0b2-00163e9c0e35-4-6c35-ebfb-793f-2b5c",
       "previous": "35c581ba-55a3-11e7-b0b2-00163e9c0e35-4-f60b-133a-40ef-931e"
      },
      {
       "current": "35c58340-55a3-11e7-b0b2-00163e9c0e35-6-c0ce-9618-7032-4707-b4fd-fa85",
       "next": "c4bd8ce4-5749-11e7-b0b2-00163e9c0e35-5-6c35-ebfb-793f-2b5c-9750",
       "previous": "35c581ba-55a3-11e7-b0b2-00163e9c0e35-5-f60b-133a-40ef-931e-a633"
      },
      {
       "current": "35c58340-55a3-11e7-b0b2-00163e9c0e35-7-c0ce-9618-7032-4707-b4fd-fa85-fda1",
       "next": "c4bd8ce4-5749-11e7-b0b2-00163e9c0e35-6-6c35-ebfb-793f-2b5c-9750-7160",
       "previous": "35c581ba-55a3-11e7-b0b2-00163e9c0e35-6-f60b-133a-40ef-931e-a633-7b83"
      }
     ],
     "next": "c4bd8ce4-5749-11e7-b0b2-00163e9c0e35-7-6c35-ebfb-793f-2b5c-9750-7160-9647",
     "previous": "35c581ba-55a3-11e7-b0b2-00163e9c0e35-7-f60b-133a-40ef-931e-a633-7b83-03f1"
    }
   },
   "outputs": [],
   "source": [
    "!rm -fr $temp_dir"
   ]
  },
  {
   "cell_type": "code",
   "execution_count": null,
   "metadata": {
    "lc_cell_meme": {
     "current": "c4bd8ce4-5749-11e7-b0b2-00163e9c0e35-7-6c35-ebfb-793f-2b5c-9750-7160-9647",
     "history": [
      {
       "current": "c4bd8ce4-5749-11e7-b0b2-00163e9c0e35-1-6c35",
       "next": null,
       "previous": "35c58340-55a3-11e7-b0b2-00163e9c0e35"
      },
      {
       "current": "c4bd8ce4-5749-11e7-b0b2-00163e9c0e35-2-6c35-ebfb",
       "next": null,
       "previous": "35c58340-55a3-11e7-b0b2-00163e9c0e35-1-c0ce"
      },
      {
       "current": "c4bd8ce4-5749-11e7-b0b2-00163e9c0e35-3-6c35-ebfb-793f",
       "next": null,
       "previous": "35c58340-55a3-11e7-b0b2-00163e9c0e35-2-c0ce-9618"
      },
      {
       "current": "c4bd8ce4-5749-11e7-b0b2-00163e9c0e35-4-6c35-ebfb-793f-2b5c",
       "next": null,
       "previous": "35c58340-55a3-11e7-b0b2-00163e9c0e35-3-c0ce-9618-7032"
      },
      {
       "current": "c4bd8ce4-5749-11e7-b0b2-00163e9c0e35-5-6c35-ebfb-793f-2b5c-9750",
       "next": null,
       "previous": "35c58340-55a3-11e7-b0b2-00163e9c0e35-4-c0ce-9618-7032-4707"
      },
      {
       "current": "c4bd8ce4-5749-11e7-b0b2-00163e9c0e35-6-6c35-ebfb-793f-2b5c-9750-7160",
       "next": null,
       "previous": "35c58340-55a3-11e7-b0b2-00163e9c0e35-5-c0ce-9618-7032-4707-b4fd"
      },
      {
       "current": "c4bd8ce4-5749-11e7-b0b2-00163e9c0e35-7-6c35-ebfb-793f-2b5c-9750-7160-9647",
       "next": null,
       "previous": "35c58340-55a3-11e7-b0b2-00163e9c0e35-6-c0ce-9618-7032-4707-b4fd-fa85"
      }
     ],
     "next": null,
     "previous": "35c58340-55a3-11e7-b0b2-00163e9c0e35-7-c0ce-9618-7032-4707-b4fd-fa85-fda1"
    }
   },
   "outputs": [],
   "source": []
  }
 ],
 "metadata": {
  "kernelspec": {
   "display_name": "Python 3",
   "language": "python",
   "name": "python3"
  },
  "language_info": {
   "file_extension": ".py",
   "mimetype": "text/x-python",
   "name": "python",
   "nbconvert_exporter": "python",
   "pygments_lexer": "ipython3",
   "version": "3.10.4"
  },
  "lc_notebook_meme": {
   "current": "35c33086-55a3-11e7-b0b2-00163e9c0e35"
  },
  "toc": {
   "base_numbering": 1,
   "nav_menu": {
    "height": "484px",
    "width": "687px"
   },
   "number_sections": true,
   "sideBar": true,
   "skip_h1_title": false,
   "title_cell": "Table of Contents",
   "title_sidebar": "Contents",
   "toc_cell": false,
   "toc_position": {
    "height": "1156px",
    "left": "0px",
    "right": "1330px",
    "top": "106px",
    "width": "340.983px"
   },
   "toc_section_display": "block",
   "toc_window_display": true
  }
 },
 "nbformat": 4,
 "nbformat_minor": 1
}
