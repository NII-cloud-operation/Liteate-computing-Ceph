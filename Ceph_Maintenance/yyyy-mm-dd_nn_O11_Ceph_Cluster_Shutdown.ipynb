{
 "cells": [
  {
   "cell_type": "markdown",
   "metadata": {
    "collapsed": true,
    "lc_cell_meme": {
     "current": "35c33414-55a3-11e7-b0b2-00163e9c0e35-8-ffee-ac17-9684-c0fd-52ee-a789-2265-7470",
     "history": [
      {
       "current": "35c33414-55a3-11e7-b0b2-00163e9c0e35",
       "next": "35c33626-55a3-11e7-b0b2-00163e9c0e35",
       "previous": null
      },
      {
       "current": "35c33414-55a3-11e7-b0b2-00163e9c0e35",
       "next": "35c33626-55a3-11e7-b0b2-00163e9c0e35",
       "previous": null
      },
      {
       "current": "35c33414-55a3-11e7-b0b2-00163e9c0e35",
       "next": "35c33626-55a3-11e7-b0b2-00163e9c0e35",
       "previous": "0db87670-9586-11ea-8d02-0242ac120007"
      },
      {
       "current": "35c33414-55a3-11e7-b0b2-00163e9c0e35-1-ffee",
       "next": "35c337f2-55a3-11e7-b0b2-00163e9c0e35",
       "previous": null
      },
      {
       "current": "35c33414-55a3-11e7-b0b2-00163e9c0e35-2-ffee-ac17",
       "next": "35c337f2-55a3-11e7-b0b2-00163e9c0e35-1-b874",
       "previous": null
      },
      {
       "current": "35c33414-55a3-11e7-b0b2-00163e9c0e35-3-ffee-ac17-9684",
       "next": "35c337f2-55a3-11e7-b0b2-00163e9c0e35-2-b874-13f7",
       "previous": null
      },
      {
       "current": "35c33414-55a3-11e7-b0b2-00163e9c0e35-3-ffee-ac17-9684",
       "next": "35c337f2-55a3-11e7-b0b2-00163e9c0e35-3-b874-13f7-3f47",
       "previous": null
      },
      {
       "current": "35c33414-55a3-11e7-b0b2-00163e9c0e35-4-ffee-ac17-9684-c0fd",
       "next": "35c339aa-55a3-11e7-b0b2-00163e9c0e35-3-eee2-af6c-3cfe",
       "previous": null
      },
      {
       "current": "35c33414-55a3-11e7-b0b2-00163e9c0e35-5-ffee-ac17-9684-c0fd-52ee",
       "next": "35c339aa-55a3-11e7-b0b2-00163e9c0e35-4-eee2-af6c-3cfe-1db2",
       "previous": null
      },
      {
       "current": "35c33414-55a3-11e7-b0b2-00163e9c0e35-6-ffee-ac17-9684-c0fd-52ee-a789",
       "next": "35c339aa-55a3-11e7-b0b2-00163e9c0e35-5-eee2-af6c-3cfe-1db2-05b9",
       "previous": null
      },
      {
       "current": "35c33414-55a3-11e7-b0b2-00163e9c0e35-7-ffee-ac17-9684-c0fd-52ee-a789-2265",
       "next": "35c339aa-55a3-11e7-b0b2-00163e9c0e35-6-eee2-af6c-3cfe-1db2-05b9-4b73",
       "previous": null
      },
      {
       "current": "35c33414-55a3-11e7-b0b2-00163e9c0e35-8-ffee-ac17-9684-c0fd-52ee-a789-2265-7470",
       "next": "35c339aa-55a3-11e7-b0b2-00163e9c0e35-7-eee2-af6c-3cfe-1db2-05b9-4b73-70c5",
       "previous": null
      }
     ],
     "next": "35c339aa-55a3-11e7-b0b2-00163e9c0e35-8-eee2-af6c-3cfe-1db2-05b9-4b73-70c5-c531",
     "previous": null
    }
   },
   "source": [
    "# Cephノード運用：Cephクラスターの停止\n"
   ]
  },
  {
   "cell_type": "markdown",
   "metadata": {
    "lc_cell_meme": {
     "current": "35c339aa-55a3-11e7-b0b2-00163e9c0e35-8-eee2-af6c-3cfe-1db2-05b9-4b73-70c5-c531",
     "history": [
      {
       "current": "35c339aa-55a3-11e7-b0b2-00163e9c0e35",
       "next": "35c33b6c-55a3-11e7-b0b2-00163e9c0e35",
       "previous": "35c337f2-55a3-11e7-b0b2-00163e9c0e35"
      },
      {
       "current": "35c339aa-55a3-11e7-b0b2-00163e9c0e35",
       "next": "670888aa-5722-11e7-b0b2-00163e9c0e35",
       "previous": "35c337f2-55a3-11e7-b0b2-00163e9c0e35"
      },
      {
       "current": "35c339aa-55a3-11e7-b0b2-00163e9c0e35",
       "next": "670888aa-5722-11e7-b0b2-00163e9c0e35",
       "previous": "357fc83a-969d-11ea-8d02-0242ac120007"
      },
      {
       "current": "35c339aa-55a3-11e7-b0b2-00163e9c0e35-1-eee2",
       "next": "670888aa-5722-11e7-b0b2-00163e9c0e35",
       "previous": "8a48dae0-98a1-11ea-8d02-0242ac120007"
      },
      {
       "current": "35c339aa-55a3-11e7-b0b2-00163e9c0e35-2-eee2-af6c",
       "next": "670888aa-5722-11e7-b0b2-00163e9c0e35-1-17ba",
       "previous": "8a48dae0-98a1-11ea-8d02-0242ac120007-1-4da2"
      },
      {
       "current": "35c339aa-55a3-11e7-b0b2-00163e9c0e35-2-eee2-af6c",
       "next": "670888aa-5722-11e7-b0b2-00163e9c0e35-2-17ba-53fc",
       "previous": "8a48dae0-98a1-11ea-8d02-0242ac120007-2-4da2-9c77"
      },
      {
       "current": "35c339aa-55a3-11e7-b0b2-00163e9c0e35-3-eee2-af6c-3cfe",
       "next": "670888aa-5722-11e7-b0b2-00163e9c0e35-2-17ba-53fc",
       "previous": "35c337f2-55a3-11e7-b0b2-00163e9c0e35-2-b874-13f7"
      },
      {
       "current": "35c339aa-55a3-11e7-b0b2-00163e9c0e35-3-eee2-af6c-3cfe",
       "next": "670888aa-5722-11e7-b0b2-00163e9c0e35-3-17ba-53fc-2957",
       "previous": "35c337f2-55a3-11e7-b0b2-00163e9c0e35-3-b874-13f7-3f47"
      },
      {
       "current": "35c339aa-55a3-11e7-b0b2-00163e9c0e35-4-eee2-af6c-3cfe-1db2",
       "next": "670888aa-5722-11e7-b0b2-00163e9c0e35-3-17ba-53fc-2957",
       "previous": "35c33414-55a3-11e7-b0b2-00163e9c0e35-3-ffee-ac17-9684"
      },
      {
       "current": "35c339aa-55a3-11e7-b0b2-00163e9c0e35-5-eee2-af6c-3cfe-1db2-05b9",
       "next": "670888aa-5722-11e7-b0b2-00163e9c0e35-4-17ba-53fc-2957-9d7e",
       "previous": "35c33414-55a3-11e7-b0b2-00163e9c0e35-4-ffee-ac17-9684-c0fd"
      },
      {
       "current": "35c339aa-55a3-11e7-b0b2-00163e9c0e35-6-eee2-af6c-3cfe-1db2-05b9-4b73",
       "next": "670888aa-5722-11e7-b0b2-00163e9c0e35-5-17ba-53fc-2957-9d7e-412e",
       "previous": "35c33414-55a3-11e7-b0b2-00163e9c0e35-5-ffee-ac17-9684-c0fd-52ee"
      },
      {
       "current": "35c339aa-55a3-11e7-b0b2-00163e9c0e35-7-eee2-af6c-3cfe-1db2-05b9-4b73-70c5",
       "next": "670888aa-5722-11e7-b0b2-00163e9c0e35-6-17ba-53fc-2957-9d7e-412e-819d",
       "previous": "35c33414-55a3-11e7-b0b2-00163e9c0e35-6-ffee-ac17-9684-c0fd-52ee-a789"
      },
      {
       "current": "35c339aa-55a3-11e7-b0b2-00163e9c0e35-8-eee2-af6c-3cfe-1db2-05b9-4b73-70c5-c531",
       "next": "670888aa-5722-11e7-b0b2-00163e9c0e35-7-17ba-53fc-2957-9d7e-412e-819d-3791",
       "previous": "35c33414-55a3-11e7-b0b2-00163e9c0e35-7-ffee-ac17-9684-c0fd-52ee-a789-2265"
      }
     ],
     "next": "670888aa-5722-11e7-b0b2-00163e9c0e35-8-17ba-53fc-2957-9d7e-412e-819d-3791-429a",
     "previous": "35c33414-55a3-11e7-b0b2-00163e9c0e35-8-ffee-ac17-9684-c0fd-52ee-a789-2265-7470"
    }
   },
   "source": [
    "# パラメータ定義"
   ]
  },
  {
   "cell_type": "markdown",
   "metadata": {
    "lc_cell_meme": {
     "current": "670888aa-5722-11e7-b0b2-00163e9c0e35-8-17ba-53fc-2957-9d7e-412e-819d-3791-429a",
     "history": [
      {
       "current": "670888aa-5722-11e7-b0b2-00163e9c0e35-1-17ba",
       "next": "35c33b6c-55a3-11e7-b0b2-00163e9c0e35",
       "previous": "35c339aa-55a3-11e7-b0b2-00163e9c0e35"
      },
      {
       "current": "670888aa-5722-11e7-b0b2-00163e9c0e35-2-17ba-53fc",
       "next": "35c33b6c-55a3-11e7-b0b2-00163e9c0e35-1-c84d",
       "previous": "35c339aa-55a3-11e7-b0b2-00163e9c0e35-1-eee2"
      },
      {
       "current": "670888aa-5722-11e7-b0b2-00163e9c0e35-3-17ba-53fc-2957",
       "next": "35c33b6c-55a3-11e7-b0b2-00163e9c0e35-2-c84d-3439",
       "previous": "35c339aa-55a3-11e7-b0b2-00163e9c0e35-2-eee2-af6c"
      },
      {
       "current": "670888aa-5722-11e7-b0b2-00163e9c0e35-4-17ba-53fc-2957-9d7e",
       "next": "35c33b6c-55a3-11e7-b0b2-00163e9c0e35-3-c84d-3439-eddb",
       "previous": "35c339aa-55a3-11e7-b0b2-00163e9c0e35-3-eee2-af6c-3cfe"
      },
      {
       "current": "670888aa-5722-11e7-b0b2-00163e9c0e35-5-17ba-53fc-2957-9d7e-412e",
       "next": "35c33b6c-55a3-11e7-b0b2-00163e9c0e35-4-c84d-3439-eddb-152d",
       "previous": "35c339aa-55a3-11e7-b0b2-00163e9c0e35-4-eee2-af6c-3cfe-1db2"
      },
      {
       "current": "670888aa-5722-11e7-b0b2-00163e9c0e35-6-17ba-53fc-2957-9d7e-412e-819d",
       "next": "35c33b6c-55a3-11e7-b0b2-00163e9c0e35-5-c84d-3439-eddb-152d-3a45",
       "previous": "35c339aa-55a3-11e7-b0b2-00163e9c0e35-5-eee2-af6c-3cfe-1db2-05b9"
      },
      {
       "current": "670888aa-5722-11e7-b0b2-00163e9c0e35-7-17ba-53fc-2957-9d7e-412e-819d-3791",
       "next": "35c33b6c-55a3-11e7-b0b2-00163e9c0e35-6-c84d-3439-eddb-152d-3a45-0d2e",
       "previous": "35c339aa-55a3-11e7-b0b2-00163e9c0e35-6-eee2-af6c-3cfe-1db2-05b9-4b73"
      },
      {
       "current": "670888aa-5722-11e7-b0b2-00163e9c0e35-8-17ba-53fc-2957-9d7e-412e-819d-3791-429a",
       "next": "35c33b6c-55a3-11e7-b0b2-00163e9c0e35-7-c84d-3439-eddb-152d-3a45-0d2e-08fd",
       "previous": "35c339aa-55a3-11e7-b0b2-00163e9c0e35-7-eee2-af6c-3cfe-1db2-05b9-4b73-70c5"
      }
     ],
     "next": "35c33b6c-55a3-11e7-b0b2-00163e9c0e35-8-c84d-3439-eddb-152d-3a45-0d2e-08fd-3448",
     "previous": "35c339aa-55a3-11e7-b0b2-00163e9c0e35-8-eee2-af6c-3cfe-1db2-05b9-4b73-70c5-c531"
    }
   },
   "source": [
    "## パラメータファイル設定"
   ]
  },
  {
   "cell_type": "markdown",
   "metadata": {
    "lc_cell_meme": {
     "current": "35c33b6c-55a3-11e7-b0b2-00163e9c0e35-8-c84d-3439-eddb-152d-3a45-0d2e-08fd-3448",
     "history": [
      {
       "current": "35c33b6c-55a3-11e7-b0b2-00163e9c0e35",
       "next": "35c33d24-55a3-11e7-b0b2-00163e9c0e35",
       "previous": "35c339aa-55a3-11e7-b0b2-00163e9c0e35"
      },
      {
       "current": "35c33b6c-55a3-11e7-b0b2-00163e9c0e35-1-c84d",
       "next": "35c33d24-55a3-11e7-b0b2-00163e9c0e35",
       "previous": "670888aa-5722-11e7-b0b2-00163e9c0e35"
      },
      {
       "current": "35c33b6c-55a3-11e7-b0b2-00163e9c0e35-2-c84d-3439",
       "next": "35c33d24-55a3-11e7-b0b2-00163e9c0e35-1-c8d8",
       "previous": "670888aa-5722-11e7-b0b2-00163e9c0e35-1-17ba"
      },
      {
       "current": "35c33b6c-55a3-11e7-b0b2-00163e9c0e35-3-c84d-3439-eddb",
       "next": "35c33d24-55a3-11e7-b0b2-00163e9c0e35-2-c8d8-c063",
       "previous": "670888aa-5722-11e7-b0b2-00163e9c0e35-2-17ba-53fc"
      },
      {
       "current": "35c33b6c-55a3-11e7-b0b2-00163e9c0e35-4-c84d-3439-eddb-152d",
       "next": "35c33d24-55a3-11e7-b0b2-00163e9c0e35-3-c8d8-c063-e3d4",
       "previous": "670888aa-5722-11e7-b0b2-00163e9c0e35-3-17ba-53fc-2957"
      },
      {
       "current": "35c33b6c-55a3-11e7-b0b2-00163e9c0e35-5-c84d-3439-eddb-152d-3a45",
       "next": "35c33d24-55a3-11e7-b0b2-00163e9c0e35-4-c8d8-c063-e3d4-8e16",
       "previous": "670888aa-5722-11e7-b0b2-00163e9c0e35-4-17ba-53fc-2957-9d7e"
      },
      {
       "current": "35c33b6c-55a3-11e7-b0b2-00163e9c0e35-6-c84d-3439-eddb-152d-3a45-0d2e",
       "next": "35c33d24-55a3-11e7-b0b2-00163e9c0e35-5-c8d8-c063-e3d4-8e16-f2ea",
       "previous": "670888aa-5722-11e7-b0b2-00163e9c0e35-5-17ba-53fc-2957-9d7e-412e"
      },
      {
       "current": "35c33b6c-55a3-11e7-b0b2-00163e9c0e35-7-c84d-3439-eddb-152d-3a45-0d2e-08fd",
       "next": "9d447bc4-230b-11ef-ad2f-0242ac120005",
       "previous": "670888aa-5722-11e7-b0b2-00163e9c0e35-6-17ba-53fc-2957-9d7e-412e-819d"
      },
      {
       "current": "35c33b6c-55a3-11e7-b0b2-00163e9c0e35-8-c84d-3439-eddb-152d-3a45-0d2e-08fd-3448",
       "next": "9d447bc4-230b-11ef-ad2f-0242ac120005-1-d404",
       "previous": "670888aa-5722-11e7-b0b2-00163e9c0e35-7-17ba-53fc-2957-9d7e-412e-819d-3791"
      }
     ],
     "next": "9d447bc4-230b-11ef-ad2f-0242ac120005-2-d404-9a08",
     "previous": "670888aa-5722-11e7-b0b2-00163e9c0e35-8-17ba-53fc-2957-9d7e-412e-819d-3791-429a"
    }
   },
   "source": [
    "Cephクラスタの定義ファイルを指定するため、<br>\n",
    "パラメータ定義格納ディレクトリを表示する。"
   ]
  },
  {
   "cell_type": "code",
   "execution_count": null,
   "metadata": {
    "lc_cell_meme": {
     "current": "9d447bc4-230b-11ef-ad2f-0242ac120005-2-d404-9a08",
     "history": [
      {
       "current": "9d447bc4-230b-11ef-ad2f-0242ac120005-1-d404",
       "next": "9d447c96-230b-11ef-ad2f-0242ac120005",
       "previous": "35c33b6c-55a3-11e7-b0b2-00163e9c0e35-6-c84d-3439-eddb-152d-3a45-0d2e"
      },
      {
       "current": "9d447bc4-230b-11ef-ad2f-0242ac120005-2-d404-9a08",
       "next": "9d447c96-230b-11ef-ad2f-0242ac120005-1-c039",
       "previous": "35c33b6c-55a3-11e7-b0b2-00163e9c0e35-7-c84d-3439-eddb-152d-3a45-0d2e-08fd"
      }
     ],
     "next": "9d447c96-230b-11ef-ad2f-0242ac120005-2-c039-b1ac",
     "previous": "35c33b6c-55a3-11e7-b0b2-00163e9c0e35-8-c84d-3439-eddb-152d-3a45-0d2e-08fd-3448"
    }
   },
   "outputs": [],
   "source": [
    "!ls -p ~/notebooks/share/ | grep \"/$\""
   ]
  },
  {
   "cell_type": "code",
   "execution_count": null,
   "metadata": {
    "lc_cell_meme": {
     "current": "9d447c96-230b-11ef-ad2f-0242ac120005-2-c039-b1ac",
     "history": [
      {
       "current": "9d447c96-230b-11ef-ad2f-0242ac120005-1-c039",
       "next": "9d447cc8-230b-11ef-ad2f-0242ac120005",
       "previous": "9d447bc4-230b-11ef-ad2f-0242ac120005"
      },
      {
       "current": "9d447c96-230b-11ef-ad2f-0242ac120005-2-c039-b1ac",
       "next": "9d447cc8-230b-11ef-ad2f-0242ac120005-1-8dbe",
       "previous": "9d447bc4-230b-11ef-ad2f-0242ac120005-1-d404"
      }
     ],
     "next": "9d447cc8-230b-11ef-ad2f-0242ac120005-2-8dbe-8368",
     "previous": "9d447bc4-230b-11ef-ad2f-0242ac120005-2-d404-9a08"
    }
   },
   "outputs": [],
   "source": [
    "!ls -p ~/notebooks/share/configuration"
   ]
  },
  {
   "cell_type": "code",
   "execution_count": null,
   "metadata": {
    "lc_cell_meme": {
     "current": "9d447cc8-230b-11ef-ad2f-0242ac120005-2-8dbe-8368",
     "history": [
      {
       "current": "9d447cc8-230b-11ef-ad2f-0242ac120005-1-8dbe",
       "next": "9d447cf0-230b-11ef-ad2f-0242ac120005",
       "previous": "9d447c96-230b-11ef-ad2f-0242ac120005"
      },
      {
       "current": "9d447cc8-230b-11ef-ad2f-0242ac120005-2-8dbe-8368",
       "next": "9d447cf0-230b-11ef-ad2f-0242ac120005-1-a4a3",
       "previous": "9d447c96-230b-11ef-ad2f-0242ac120005-1-c039"
      }
     ],
     "next": "9d447cf0-230b-11ef-ad2f-0242ac120005-2-a4a3-9894",
     "previous": "9d447c96-230b-11ef-ad2f-0242ac120005-2-c039-b1ac"
    }
   },
   "outputs": [],
   "source": [
    "!ls -p ~/notebooks/share/configuration/ceph"
   ]
  },
  {
   "cell_type": "code",
   "execution_count": null,
   "metadata": {
    "lc_cell_meme": {
     "current": "9d447cf0-230b-11ef-ad2f-0242ac120005-2-a4a3-9894",
     "history": [
      {
       "current": "9d447cf0-230b-11ef-ad2f-0242ac120005-1-a4a3",
       "next": "9d447d0e-230b-11ef-ad2f-0242ac120005",
       "previous": "9d447cc8-230b-11ef-ad2f-0242ac120005"
      },
      {
       "current": "9d447cf0-230b-11ef-ad2f-0242ac120005-2-a4a3-9894",
       "next": "9d447d0e-230b-11ef-ad2f-0242ac120005-1-451b",
       "previous": "9d447cc8-230b-11ef-ad2f-0242ac120005-1-8dbe"
      }
     ],
     "next": "9d447d0e-230b-11ef-ad2f-0242ac120005-2-451b-d784",
     "previous": "9d447cc8-230b-11ef-ad2f-0242ac120005-2-8dbe-8368"
    }
   },
   "outputs": [],
   "source": [
    "import sys, os.path, importlib, json, yaml\n",
    "\n",
    "config_file_name = \"ceph_admin_vm.yml\"\n",
    "config_file_path = os.path.expanduser(\"~/notebooks/share/configuration/ceph/{}\".format(config_file_name))\n",
    "with open(config_file_path) as f:\n",
    "    admin_params = yaml.safe_load(f)\n",
    "admin_params"
   ]
  },
  {
   "cell_type": "code",
   "execution_count": null,
   "metadata": {
    "lc_cell_meme": {
     "current": "9d447d0e-230b-11ef-ad2f-0242ac120005-2-451b-d784",
     "history": [
      {
       "current": "9d447d0e-230b-11ef-ad2f-0242ac120005-1-451b",
       "next": "9d447d36-230b-11ef-ad2f-0242ac120005",
       "previous": "9d447cf0-230b-11ef-ad2f-0242ac120005"
      },
      {
       "current": "9d447d0e-230b-11ef-ad2f-0242ac120005-2-451b-d784",
       "next": "9d447d36-230b-11ef-ad2f-0242ac120005-1-930e",
       "previous": "9d447cf0-230b-11ef-ad2f-0242ac120005-1-a4a3"
      }
     ],
     "next": "9d447d36-230b-11ef-ad2f-0242ac120005-2-930e-7027",
     "previous": "9d447cf0-230b-11ef-ad2f-0242ac120005-2-a4a3-9894"
    }
   },
   "outputs": [],
   "source": [
    "target_vm_name = 'xxx-ceph-admin1'\n",
    "admin_patam = admin_params[target_vm_name]\n",
    "admin_patam"
   ]
  },
  {
   "cell_type": "code",
   "execution_count": null,
   "metadata": {
    "lc_cell_meme": {
     "current": "9d447d36-230b-11ef-ad2f-0242ac120005-2-930e-7027",
     "history": [
      {
       "current": "9d447d36-230b-11ef-ad2f-0242ac120005-1-930e",
       "next": "9d447d5e-230b-11ef-ad2f-0242ac120005",
       "previous": "9d447d0e-230b-11ef-ad2f-0242ac120005"
      },
      {
       "current": "9d447d36-230b-11ef-ad2f-0242ac120005-2-930e-7027",
       "next": "9d447d5e-230b-11ef-ad2f-0242ac120005-1-7f1f",
       "previous": "9d447d0e-230b-11ef-ad2f-0242ac120005-1-451b"
      }
     ],
     "next": "9d447d5e-230b-11ef-ad2f-0242ac120005-2-7f1f-534f",
     "previous": "9d447d0e-230b-11ef-ad2f-0242ac120005-2-451b-d784"
    }
   },
   "outputs": [],
   "source": [
    "ceph_admin_ip = admin_patam['network']['provisioning']['ip']"
   ]
  },
  {
   "cell_type": "code",
   "execution_count": null,
   "metadata": {
    "lc_cell_meme": {
     "current": "9d447d5e-230b-11ef-ad2f-0242ac120005-2-7f1f-534f",
     "history": [
      {
       "current": "9d447d5e-230b-11ef-ad2f-0242ac120005-1-7f1f",
       "next": "9d447d7c-230b-11ef-ad2f-0242ac120005",
       "previous": "9d447d36-230b-11ef-ad2f-0242ac120005"
      },
      {
       "current": "9d447d5e-230b-11ef-ad2f-0242ac120005-2-7f1f-534f",
       "next": "9d447d7c-230b-11ef-ad2f-0242ac120005-1-ecd3",
       "previous": "9d447d36-230b-11ef-ad2f-0242ac120005-1-930e"
      }
     ],
     "next": "9d447d7c-230b-11ef-ad2f-0242ac120005-2-ecd3-1f4d",
     "previous": "9d447d36-230b-11ef-ad2f-0242ac120005-2-930e-7027"
    }
   },
   "outputs": [],
   "source": [
    "import sys, os.path, importlib, json, yaml\n",
    "\n",
    "config_file_name = \"xxx-openstack-parameter.yml\"\n",
    "config_file_path = os.path.expanduser(\"~/notebooks/share/configuration/{}\".format(config_file_name))\n",
    "with open(config_file_path) as f:\n",
    "    params = yaml.safe_load(f)\n",
    "params"
   ]
  },
  {
   "cell_type": "code",
   "execution_count": null,
   "metadata": {
    "lc_cell_meme": {
     "current": "9d447d7c-230b-11ef-ad2f-0242ac120005-2-ecd3-1f4d",
     "history": [
      {
       "current": "9d447d7c-230b-11ef-ad2f-0242ac120005-1-ecd3",
       "next": "9d447d9a-230b-11ef-ad2f-0242ac120005",
       "previous": "9d447d5e-230b-11ef-ad2f-0242ac120005"
      },
      {
       "current": "9d447d7c-230b-11ef-ad2f-0242ac120005-2-ecd3-1f4d",
       "next": "9d447d9a-230b-11ef-ad2f-0242ac120005-1-e69c",
       "previous": "9d447d5e-230b-11ef-ad2f-0242ac120005-1-7f1f"
      }
     ],
     "next": "9d447d9a-230b-11ef-ad2f-0242ac120005-2-e69c-4da3",
     "previous": "9d447d5e-230b-11ef-ad2f-0242ac120005-2-7f1f-534f"
    }
   },
   "outputs": [],
   "source": [
    "repo_server = params['repository']['addresses']['service_operation']\n",
    "repo_server"
   ]
  },
  {
   "cell_type": "code",
   "execution_count": null,
   "metadata": {
    "lc_cell_meme": {
     "current": "9d447d9a-230b-11ef-ad2f-0242ac120005-2-e69c-4da3",
     "history": [
      {
       "current": "9d447d9a-230b-11ef-ad2f-0242ac120005",
       "next": "9d447dc2-230b-11ef-ad2f-0242ac120005",
       "previous": "9d447d7c-230b-11ef-ad2f-0242ac120005"
      },
      {
       "current": "9d447d9a-230b-11ef-ad2f-0242ac120005-1-e69c",
       "next": "bf249b06-98af-11ea-8d02-0242ac120007-6-1e49-e772-9042-18a8-e441-3d5c",
       "previous": "9d447d7c-230b-11ef-ad2f-0242ac120005"
      },
      {
       "current": "9d447d9a-230b-11ef-ad2f-0242ac120005-2-e69c-4da3",
       "next": "bf249b06-98af-11ea-8d02-0242ac120007-7-1e49-e772-9042-18a8-e441-3d5c-1a1c",
       "previous": "9d447d7c-230b-11ef-ad2f-0242ac120005-1-ecd3"
      }
     ],
     "next": "bf249b06-98af-11ea-8d02-0242ac120007-8-1e49-e772-9042-18a8-e441-3d5c-1a1c-9a1a",
     "previous": "9d447d7c-230b-11ef-ad2f-0242ac120005-2-ecd3-1f4d"
    }
   },
   "outputs": [],
   "source": [
    "provisioning_vip = params['openstack']['provisioning_vip']\n",
    "provisioning_vip"
   ]
  },
  {
   "cell_type": "markdown",
   "metadata": {
    "heading_collapsed": true,
    "lc_cell_meme": {
     "current": "bf249b06-98af-11ea-8d02-0242ac120007-8-1e49-e772-9042-18a8-e441-3d5c-1a1c-9a1a",
     "history": [
      {
       "current": "bf249b06-98af-11ea-8d02-0242ac120007",
       "next": "d1bcb8ac-9599-11ea-8d02-0242ac120007",
       "previous": "7dae8996-9686-11ea-8d02-0242ac120007"
      },
      {
       "current": "bf249b06-98af-11ea-8d02-0242ac120007-1-1e49",
       "next": "dd8e3cbc-98f2-11ea-8d02-0242ac120007",
       "previous": "7dae8996-9686-11ea-8d02-0242ac120007"
      },
      {
       "current": "bf249b06-98af-11ea-8d02-0242ac120007-2-1e49-e772",
       "next": "dd8e3cbc-98f2-11ea-8d02-0242ac120007-1-706a",
       "previous": "7dae8996-9686-11ea-8d02-0242ac120007-1-20c5"
      },
      {
       "current": "bf249b06-98af-11ea-8d02-0242ac120007-2-1e49-e772",
       "next": "dd8e3cbc-98f2-11ea-8d02-0242ac120007-2-706a-309d",
       "previous": "7dae8996-9686-11ea-8d02-0242ac120007-2-20c5-a0b0"
      },
      {
       "current": "bf249b06-98af-11ea-8d02-0242ac120007-2-1e49-e772",
       "next": "dd8e3cbc-98f2-11ea-8d02-0242ac120007-2-706a-309d",
       "previous": "1afe76e2-def8-11eb-b29f-0242ac120008"
      },
      {
       "current": "bf249b06-98af-11ea-8d02-0242ac120007-2-1e49-e772",
       "next": "d1bcb8ac-9599-11ea-8d02-0242ac120007-2-ec95-2870",
       "previous": "1afe76e2-def8-11eb-b29f-0242ac120008"
      },
      {
       "current": "bf249b06-98af-11ea-8d02-0242ac120007-2-1e49-e772",
       "next": "d1bcb8ac-9599-11ea-8d02-0242ac120007-2-ec95-2870",
       "previous": "445f36bc-def7-11eb-b29f-0242ac120008"
      },
      {
       "current": "bf249b06-98af-11ea-8d02-0242ac120007-3-1e49-e772-9042",
       "next": "d1bcb8ac-9599-11ea-8d02-0242ac120007-2-ec95-2870",
       "previous": "17dd310e-deff-11eb-b29f-0242ac120008"
      },
      {
       "current": "bf249b06-98af-11ea-8d02-0242ac120007-4-1e49-e772-9042-18a8",
       "next": "d1bcb8ac-9599-11ea-8d02-0242ac120007-3-ec95-2870-3f6b",
       "previous": "17dd310e-deff-11eb-b29f-0242ac120008-1-9f34"
      },
      {
       "current": "bf249b06-98af-11ea-8d02-0242ac120007-5-1e49-e772-9042-18a8-e441",
       "next": "d1bcb8ac-9599-11ea-8d02-0242ac120007-4-ec95-2870-3f6b-4d21",
       "previous": "17dd310e-deff-11eb-b29f-0242ac120008-2-9f34-5219"
      },
      {
       "current": "bf249b06-98af-11ea-8d02-0242ac120007-6-1e49-e772-9042-18a8-e441-3d5c",
       "next": "d1bcb8ac-9599-11ea-8d02-0242ac120007-5-ec95-2870-3f6b-4d21-7d85",
       "previous": "17dd310e-deff-11eb-b29f-0242ac120008-3-9f34-5219-452c"
      },
      {
       "current": "bf249b06-98af-11ea-8d02-0242ac120007-6-1e49-e772-9042-18a8-e441-3d5c",
       "next": "d1bcb8ac-9599-11ea-8d02-0242ac120007-6-ec95-2870-3f6b-4d21-7d85-8de6",
       "previous": "17dd310e-deff-11eb-b29f-0242ac120008-4-9f34-5219-452c-7365"
      },
      {
       "current": "bf249b06-98af-11ea-8d02-0242ac120007-7-1e49-e772-9042-18a8-e441-3d5c-1a1c",
       "next": "d1bcb8ac-9599-11ea-8d02-0242ac120007-6-ec95-2870-3f6b-4d21-7d85-8de6",
       "previous": "9d447d9a-230b-11ef-ad2f-0242ac120005"
      },
      {
       "current": "bf249b06-98af-11ea-8d02-0242ac120007-8-1e49-e772-9042-18a8-e441-3d5c-1a1c-9a1a",
       "next": "d1bcb8ac-9599-11ea-8d02-0242ac120007-7-ec95-2870-3f6b-4d21-7d85-8de6-37a9",
       "previous": "9d447d9a-230b-11ef-ad2f-0242ac120005-1-e69c"
      }
     ],
     "next": "d1bcb8ac-9599-11ea-8d02-0242ac120007-8-ec95-2870-3f6b-4d21-7d85-8de6-37a9-b615",
     "previous": "9d447d9a-230b-11ef-ad2f-0242ac120005-2-e69c-4da3"
    }
   },
   "source": [
    "## CephノードとストレージセグメントIPアドレス対応表の読み込み"
   ]
  },
  {
   "cell_type": "code",
   "execution_count": null,
   "metadata": {
    "hidden": true,
    "lc_cell_meme": {
     "current": "d1bcb8ac-9599-11ea-8d02-0242ac120007-8-ec95-2870-3f6b-4d21-7d85-8de6-37a9-b615",
     "history": [
      {
       "current": "d1bcb8ac-9599-11ea-8d02-0242ac120007",
       "next": "d1bcba78-9599-11ea-8d02-0242ac120007",
       "previous": "d1bcb5c8-9599-11ea-8d02-0242ac120007"
      },
      {
       "current": "d1bcb8ac-9599-11ea-8d02-0242ac120007",
       "next": "d1bcba78-9599-11ea-8d02-0242ac120007",
       "previous": "a85c1dda-959a-11ea-8d02-0242ac120007"
      },
      {
       "current": "d1bcb8ac-9599-11ea-8d02-0242ac120007",
       "next": "81dd4f74-9597-11ea-8d02-0242ac120007",
       "previous": "a85c1dda-959a-11ea-8d02-0242ac120007"
      },
      {
       "current": "d1bcb8ac-9599-11ea-8d02-0242ac120007",
       "next": "e879cdac-95bf-11ea-8d02-0242ac120007",
       "previous": "a85c1dda-959a-11ea-8d02-0242ac120007"
      },
      {
       "current": "d1bcb8ac-9599-11ea-8d02-0242ac120007",
       "next": "7899411a-9692-11ea-8d02-0242ac120007",
       "previous": "bf249b06-98af-11ea-8d02-0242ac120007"
      },
      {
       "current": "d1bcb8ac-9599-11ea-8d02-0242ac120007",
       "next": "06afe9a8-98b0-11ea-8d02-0242ac120007",
       "previous": "bf249b06-98af-11ea-8d02-0242ac120007"
      },
      {
       "current": "d1bcb8ac-9599-11ea-8d02-0242ac120007",
       "next": "06afe9a8-98b0-11ea-8d02-0242ac120007",
       "previous": "dd8e3cbc-98f2-11ea-8d02-0242ac120007"
      },
      {
       "current": "d1bcb8ac-9599-11ea-8d02-0242ac120007-1-ec95",
       "next": "250e7a70-98f3-11ea-8d02-0242ac120007",
       "previous": "dd8e3cbc-98f2-11ea-8d02-0242ac120007"
      },
      {
       "current": "d1bcb8ac-9599-11ea-8d02-0242ac120007-2-ec95-2870",
       "next": "250e7a70-98f3-11ea-8d02-0242ac120007-1-f0b4",
       "previous": "dd8e3cbc-98f2-11ea-8d02-0242ac120007-1-706a"
      },
      {
       "current": "d1bcb8ac-9599-11ea-8d02-0242ac120007-2-ec95-2870",
       "next": "250e7a70-98f3-11ea-8d02-0242ac120007-2-f0b4-6edf",
       "previous": "dd8e3cbc-98f2-11ea-8d02-0242ac120007-2-706a-309d"
      },
      {
       "current": "d1bcb8ac-9599-11ea-8d02-0242ac120007-3-ec95-2870-3f6b",
       "next": "250e7a70-98f3-11ea-8d02-0242ac120007-2-f0b4-6edf",
       "previous": "bf249b06-98af-11ea-8d02-0242ac120007-2-1e49-e772"
      },
      {
       "current": "d1bcb8ac-9599-11ea-8d02-0242ac120007-3-ec95-2870-3f6b",
       "next": "250e7a70-98f3-11ea-8d02-0242ac120007-3-f0b4-6edf-9d40",
       "previous": "bf249b06-98af-11ea-8d02-0242ac120007-3-1e49-e772-9042"
      },
      {
       "current": "d1bcb8ac-9599-11ea-8d02-0242ac120007-4-ec95-2870-3f6b-4d21",
       "next": "8a6e62b8-6f14-11ee-89fa-0242ac120005",
       "previous": "bf249b06-98af-11ea-8d02-0242ac120007-3-1e49-e772-9042"
      },
      {
       "current": "d1bcb8ac-9599-11ea-8d02-0242ac120007-5-ec95-2870-3f6b-4d21-7d85",
       "next": "8a6e62b8-6f14-11ee-89fa-0242ac120005-1-54b8",
       "previous": "bf249b06-98af-11ea-8d02-0242ac120007-4-1e49-e772-9042-18a8"
      },
      {
       "current": "d1bcb8ac-9599-11ea-8d02-0242ac120007-6-ec95-2870-3f6b-4d21-7d85-8de6",
       "next": "8a6e62b8-6f14-11ee-89fa-0242ac120005-2-54b8-5419",
       "previous": "bf249b06-98af-11ea-8d02-0242ac120007-5-1e49-e772-9042-18a8-e441"
      },
      {
       "current": "d1bcb8ac-9599-11ea-8d02-0242ac120007-6-ec95-2870-3f6b-4d21-7d85-8de6",
       "next": "8a6e62b8-6f14-11ee-89fa-0242ac120005-3-54b8-5419-6c65",
       "previous": "bf249b06-98af-11ea-8d02-0242ac120007-6-1e49-e772-9042-18a8-e441-3d5c"
      },
      {
       "current": "d1bcb8ac-9599-11ea-8d02-0242ac120007-7-ec95-2870-3f6b-4d21-7d85-8de6-37a9",
       "next": "8a6e6452-6f14-11ee-89fa-0242ac120005-3-b9e8-d390-1f92",
       "previous": "bf249b06-98af-11ea-8d02-0242ac120007-6-1e49-e772-9042-18a8-e441-3d5c"
      },
      {
       "current": "d1bcb8ac-9599-11ea-8d02-0242ac120007-8-ec95-2870-3f6b-4d21-7d85-8de6-37a9-b615",
       "next": "8a6e6452-6f14-11ee-89fa-0242ac120005-4-b9e8-d390-1f92-291d",
       "previous": "bf249b06-98af-11ea-8d02-0242ac120007-7-1e49-e772-9042-18a8-e441-3d5c-1a1c"
      }
     ],
     "next": "8a6e6452-6f14-11ee-89fa-0242ac120005-5-b9e8-d390-1f92-291d-5d67",
     "previous": "bf249b06-98af-11ea-8d02-0242ac120007-8-1e49-e772-9042-18a8-e441-3d5c-1a1c-9a1a"
    },
    "scrolled": true
   },
   "outputs": [],
   "source": [
    "import os\n",
    "import csv\n",
    "import pandas as pd\n",
    "\n",
    "instance_ip_csv_path =  os.environ['HOME'] + \"/notebooks/share/configuration/ceph/ceph_instance_ip.csv\"\n",
    "instance_ip_list = []\n",
    "instance_ip_map = {}\n",
    "\n",
    "with open(instance_ip_csv_path, 'r') as path_csv:\n",
    "    reader = csv.DictReader(path_csv)\n",
    "    \n",
    "    for record in reader:\n",
    "        instance_ip_list.append(record)\n",
    "        instance_ip_map[record['instance_name']] = record\n",
    "\n",
    "pd.DataFrame(instance_ip_list)"
   ]
  },
  {
   "cell_type": "markdown",
   "metadata": {
    "heading_collapsed": true,
    "lc_cell_meme": {
     "current": "8a6e6452-6f14-11ee-89fa-0242ac120005-5-b9e8-d390-1f92-291d-5d67",
     "history": [
      {
       "current": "8a6e6452-6f14-11ee-89fa-0242ac120005-1-b9e8",
       "next": "8a6e65e2-6f14-11ee-89fa-0242ac120005",
       "previous": "250e7a70-98f3-11ea-8d02-0242ac120007-3-f0b4-6edf-9d40"
      },
      {
       "current": "8a6e6452-6f14-11ee-89fa-0242ac120005-2-b9e8-d390",
       "next": "8a6e65e2-6f14-11ee-89fa-0242ac120005-1-3051",
       "previous": "250e7a70-98f3-11ea-8d02-0242ac120007-4-f0b4-6edf-9d40-379e"
      },
      {
       "current": "8a6e6452-6f14-11ee-89fa-0242ac120005-3-b9e8-d390-1f92",
       "next": "8a6e65e2-6f14-11ee-89fa-0242ac120005-2-3051-5fb8",
       "previous": "250e7a70-98f3-11ea-8d02-0242ac120007-5-f0b4-6edf-9d40-379e-8453"
      },
      {
       "current": "8a6e6452-6f14-11ee-89fa-0242ac120005-3-b9e8-d390-1f92",
       "next": "8a6e65e2-6f14-11ee-89fa-0242ac120005-3-3051-5fb8-de51",
       "previous": "250e7a70-98f3-11ea-8d02-0242ac120007-6-f0b4-6edf-9d40-379e-8453-bf87"
      },
      {
       "current": "8a6e6452-6f14-11ee-89fa-0242ac120005-4-b9e8-d390-1f92-291d",
       "next": "8a6e65e2-6f14-11ee-89fa-0242ac120005-3-3051-5fb8-de51",
       "previous": "d1bcb8ac-9599-11ea-8d02-0242ac120007-6-ec95-2870-3f6b-4d21-7d85-8de6"
      },
      {
       "current": "8a6e6452-6f14-11ee-89fa-0242ac120005-5-b9e8-d390-1f92-291d-5d67",
       "next": "8a6e65e2-6f14-11ee-89fa-0242ac120005-4-3051-5fb8-de51-6537",
       "previous": "d1bcb8ac-9599-11ea-8d02-0242ac120007-7-ec95-2870-3f6b-4d21-7d85-8de6-37a9"
      }
     ],
     "next": "8a6e65e2-6f14-11ee-89fa-0242ac120005-5-3051-5fb8-de51-6537-e494",
     "previous": "d1bcb8ac-9599-11ea-8d02-0242ac120007-8-ec95-2870-3f6b-4d21-7d85-8de6-37a9-b615"
    }
   },
   "source": [
    "## 作業用ディレクトリを作成する"
   ]
  },
  {
   "cell_type": "code",
   "execution_count": null,
   "metadata": {
    "hidden": true,
    "lc_cell_meme": {
     "current": "8a6e65e2-6f14-11ee-89fa-0242ac120005-5-3051-5fb8-de51-6537-e494",
     "history": [
      {
       "current": "8a6e65e2-6f14-11ee-89fa-0242ac120005-1-3051",
       "next": "8a6e6664-6f14-11ee-89fa-0242ac120005",
       "previous": "8a6e6452-6f14-11ee-89fa-0242ac120005"
      },
      {
       "current": "8a6e65e2-6f14-11ee-89fa-0242ac120005-2-3051-5fb8",
       "next": "8a6e6664-6f14-11ee-89fa-0242ac120005-1-6ee0",
       "previous": "8a6e6452-6f14-11ee-89fa-0242ac120005-1-b9e8"
      },
      {
       "current": "8a6e65e2-6f14-11ee-89fa-0242ac120005-3-3051-5fb8-de51",
       "next": "8a6e6664-6f14-11ee-89fa-0242ac120005-2-6ee0-e18f",
       "previous": "8a6e6452-6f14-11ee-89fa-0242ac120005-2-b9e8-d390"
      },
      {
       "current": "8a6e65e2-6f14-11ee-89fa-0242ac120005-4-3051-5fb8-de51-6537",
       "next": "8a6e6664-6f14-11ee-89fa-0242ac120005-3-6ee0-e18f-c8e2",
       "previous": "8a6e6452-6f14-11ee-89fa-0242ac120005-3-b9e8-d390-1f92"
      },
      {
       "current": "8a6e65e2-6f14-11ee-89fa-0242ac120005-5-3051-5fb8-de51-6537-e494",
       "next": "8a6e6664-6f14-11ee-89fa-0242ac120005-4-6ee0-e18f-c8e2-84b8",
       "previous": "8a6e6452-6f14-11ee-89fa-0242ac120005-4-b9e8-d390-1f92-291d"
      }
     ],
     "next": "8a6e6664-6f14-11ee-89fa-0242ac120005-5-6ee0-e18f-c8e2-84b8-b0da",
     "previous": "8a6e6452-6f14-11ee-89fa-0242ac120005-5-b9e8-d390-1f92-291d-5d67"
    }
   },
   "outputs": [],
   "source": [
    "import os,tempfile\n",
    "temp_dir = tempfile.mkdtemp()\n",
    "print (temp_dir)"
   ]
  },
  {
   "cell_type": "markdown",
   "metadata": {
    "lc_cell_meme": {
     "current": "8a6e6664-6f14-11ee-89fa-0242ac120005-5-6ee0-e18f-c8e2-84b8-b0da",
     "history": [
      {
       "current": "8a6e6664-6f14-11ee-89fa-0242ac120005-1-6ee0",
       "next": "8a6e66c8-6f14-11ee-89fa-0242ac120005",
       "previous": "8a6e65e2-6f14-11ee-89fa-0242ac120005"
      },
      {
       "current": "8a6e6664-6f14-11ee-89fa-0242ac120005-2-6ee0-e18f",
       "next": "8a6e66c8-6f14-11ee-89fa-0242ac120005-1-ce18",
       "previous": "8a6e65e2-6f14-11ee-89fa-0242ac120005-1-3051"
      },
      {
       "current": "8a6e6664-6f14-11ee-89fa-0242ac120005-3-6ee0-e18f-c8e2",
       "next": "8a6e66c8-6f14-11ee-89fa-0242ac120005-2-ce18-ecbd",
       "previous": "8a6e65e2-6f14-11ee-89fa-0242ac120005-2-3051-5fb8"
      },
      {
       "current": "8a6e6664-6f14-11ee-89fa-0242ac120005-4-6ee0-e18f-c8e2-84b8",
       "next": "8a6e66c8-6f14-11ee-89fa-0242ac120005-3-ce18-ecbd-313d",
       "previous": "8a6e65e2-6f14-11ee-89fa-0242ac120005-3-3051-5fb8-de51"
      },
      {
       "current": "8a6e6664-6f14-11ee-89fa-0242ac120005-5-6ee0-e18f-c8e2-84b8-b0da",
       "next": "8a6e66c8-6f14-11ee-89fa-0242ac120005-4-ce18-ecbd-313d-44c0",
       "previous": "8a6e65e2-6f14-11ee-89fa-0242ac120005-4-3051-5fb8-de51-6537"
      }
     ],
     "next": "8a6e66c8-6f14-11ee-89fa-0242ac120005-5-ce18-ecbd-313d-44c0-6eb3",
     "previous": "8a6e65e2-6f14-11ee-89fa-0242ac120005-5-3051-5fb8-de51-6537-e494"
    }
   },
   "source": [
    "## AnsibleのInventoryファイルを作業用ディレクトリへ作成する"
   ]
  },
  {
   "cell_type": "code",
   "execution_count": null,
   "metadata": {
    "lc_cell_meme": {
     "current": "8a6e66c8-6f14-11ee-89fa-0242ac120005-5-ce18-ecbd-313d-44c0-6eb3",
     "history": [
      {
       "current": "8a6e66c8-6f14-11ee-89fa-0242ac120005-1-ce18",
       "next": "8a6e6736-6f14-11ee-89fa-0242ac120005",
       "previous": "8a6e6664-6f14-11ee-89fa-0242ac120005"
      },
      {
       "current": "8a6e66c8-6f14-11ee-89fa-0242ac120005-2-ce18-ecbd",
       "next": "8a6e6736-6f14-11ee-89fa-0242ac120005-1-3fd4",
       "previous": "8a6e6664-6f14-11ee-89fa-0242ac120005-1-6ee0"
      },
      {
       "current": "8a6e66c8-6f14-11ee-89fa-0242ac120005-3-ce18-ecbd-313d",
       "next": "8a6e6736-6f14-11ee-89fa-0242ac120005-2-3fd4-f6ea",
       "previous": "8a6e6664-6f14-11ee-89fa-0242ac120005-2-6ee0-e18f"
      },
      {
       "current": "8a6e66c8-6f14-11ee-89fa-0242ac120005-4-ce18-ecbd-313d-44c0",
       "next": "8a6e6736-6f14-11ee-89fa-0242ac120005-3-3fd4-f6ea-a4cf",
       "previous": "8a6e6664-6f14-11ee-89fa-0242ac120005-3-6ee0-e18f-c8e2"
      },
      {
       "current": "8a6e66c8-6f14-11ee-89fa-0242ac120005-5-ce18-ecbd-313d-44c0-6eb3",
       "next": "8a6e6736-6f14-11ee-89fa-0242ac120005-4-3fd4-f6ea-a4cf-28ad",
       "previous": "8a6e6664-6f14-11ee-89fa-0242ac120005-4-6ee0-e18f-c8e2-84b8"
      }
     ],
     "next": "8a6e6736-6f14-11ee-89fa-0242ac120005-5-3fd4-f6ea-a4cf-28ad-5e94",
     "previous": "8a6e6664-6f14-11ee-89fa-0242ac120005-5-6ee0-e18f-c8e2-84b8-b0da"
    }
   },
   "outputs": [],
   "source": [
    "import os\n",
    "\n",
    "with open( os.path.join(temp_dir, \"hosts\"), 'w') as f:\n",
    "    f.write('''[openstack_ctl]\n",
    "{openstack_cmn}\n",
    "'''.format(openstack_cmn = provisioning_vip))\n",
    "\n",
    "hosts = temp_dir + \"/hosts\"\n",
    "!cat $hosts"
   ]
  },
  {
   "cell_type": "code",
   "execution_count": null,
   "metadata": {
    "lc_cell_meme": {
     "current": "8a6e6736-6f14-11ee-89fa-0242ac120005-5-3fd4-f6ea-a4cf-28ad-5e94",
     "history": [
      {
       "current": "8a6e6736-6f14-11ee-89fa-0242ac120005",
       "next": "8a6e67a4-6f14-11ee-89fa-0242ac120005",
       "previous": "8a6e66c8-6f14-11ee-89fa-0242ac120005"
      },
      {
       "current": "8a6e6736-6f14-11ee-89fa-0242ac120005-1-3fd4",
       "next": "8a6e67a4-6f14-11ee-89fa-0242ac120005-1-b446",
       "previous": "8a6e66c8-6f14-11ee-89fa-0242ac120005"
      },
      {
       "current": "8a6e6736-6f14-11ee-89fa-0242ac120005-2-3fd4-f6ea",
       "next": "8a6e67a4-6f14-11ee-89fa-0242ac120005-2-b446-dc02",
       "previous": "8a6e66c8-6f14-11ee-89fa-0242ac120005-1-ce18"
      },
      {
       "current": "8a6e6736-6f14-11ee-89fa-0242ac120005-3-3fd4-f6ea-a4cf",
       "next": "8a6e67a4-6f14-11ee-89fa-0242ac120005-3-b446-dc02-0332",
       "previous": "8a6e66c8-6f14-11ee-89fa-0242ac120005-2-ce18-ecbd"
      },
      {
       "current": "8a6e6736-6f14-11ee-89fa-0242ac120005-4-3fd4-f6ea-a4cf-28ad",
       "next": "8a6e67a4-6f14-11ee-89fa-0242ac120005-4-b446-dc02-0332-1fe4",
       "previous": "8a6e66c8-6f14-11ee-89fa-0242ac120005-3-ce18-ecbd-313d"
      },
      {
       "current": "8a6e6736-6f14-11ee-89fa-0242ac120005-5-3fd4-f6ea-a4cf-28ad-5e94",
       "next": "8a6e67a4-6f14-11ee-89fa-0242ac120005-5-b446-dc02-0332-1fe4-55c4",
       "previous": "8a6e66c8-6f14-11ee-89fa-0242ac120005-4-ce18-ecbd-313d-44c0"
      }
     ],
     "next": "8a6e67a4-6f14-11ee-89fa-0242ac120005-6-b446-dc02-0332-1fe4-55c4-fc01",
     "previous": "8a6e66c8-6f14-11ee-89fa-0242ac120005-5-ce18-ecbd-313d-44c0-6eb3"
    }
   },
   "outputs": [],
   "source": [
    "%env ANSIBLE_INVENTORY={hosts}"
   ]
  },
  {
   "cell_type": "markdown",
   "metadata": {
    "lc_cell_meme": {
     "current": "8a6e67a4-6f14-11ee-89fa-0242ac120005-6-b446-dc02-0332-1fe4-55c4-fc01",
     "history": [
      {
       "current": "8a6e67a4-6f14-11ee-89fa-0242ac120005-2-b446-dc02",
       "next": "8a6e6808-6f14-11ee-89fa-0242ac120005",
       "previous": "8a6e6736-6f14-11ee-89fa-0242ac120005"
      },
      {
       "current": "8a6e67a4-6f14-11ee-89fa-0242ac120005-3-b446-dc02-0332",
       "next": "8a6e6808-6f14-11ee-89fa-0242ac120005-1-61e5",
       "previous": "8a6e6736-6f14-11ee-89fa-0242ac120005-1-3fd4"
      },
      {
       "current": "8a6e67a4-6f14-11ee-89fa-0242ac120005-4-b446-dc02-0332-1fe4",
       "next": "8a6e6808-6f14-11ee-89fa-0242ac120005-2-61e5-3e37",
       "previous": "8a6e6736-6f14-11ee-89fa-0242ac120005-2-3fd4-f6ea"
      },
      {
       "current": "8a6e67a4-6f14-11ee-89fa-0242ac120005-5-b446-dc02-0332-1fe4-55c4",
       "next": "8a6e6808-6f14-11ee-89fa-0242ac120005-3-61e5-3e37-3ed6",
       "previous": "8a6e6736-6f14-11ee-89fa-0242ac120005-3-3fd4-f6ea-a4cf"
      },
      {
       "current": "8a6e67a4-6f14-11ee-89fa-0242ac120005-6-b446-dc02-0332-1fe4-55c4-fc01",
       "next": "8a6e6808-6f14-11ee-89fa-0242ac120005-4-61e5-3e37-3ed6-41f5",
       "previous": "8a6e6736-6f14-11ee-89fa-0242ac120005-4-3fd4-f6ea-a4cf-28ad"
      }
     ],
     "next": "8a6e6808-6f14-11ee-89fa-0242ac120005-5-61e5-3e37-3ed6-41f5-3c61",
     "previous": "8a6e6736-6f14-11ee-89fa-0242ac120005-5-3fd4-f6ea-a4cf-28ad-5e94"
    }
   },
   "source": [
    "疎通確認"
   ]
  },
  {
   "cell_type": "code",
   "execution_count": null,
   "metadata": {
    "lc_cell_meme": {
     "current": "8a6e6808-6f14-11ee-89fa-0242ac120005-5-61e5-3e37-3ed6-41f5-3c61",
     "history": [
      {
       "current": "8a6e6808-6f14-11ee-89fa-0242ac120005",
       "next": "8a6e6862-6f14-11ee-89fa-0242ac120005",
       "previous": "8a6e67a4-6f14-11ee-89fa-0242ac120005"
      },
      {
       "current": "8a6e6808-6f14-11ee-89fa-0242ac120005-1-61e5",
       "next": "8a6e6862-6f14-11ee-89fa-0242ac120005",
       "previous": "8a6e67a4-6f14-11ee-89fa-0242ac120005-1-b446"
      },
      {
       "current": "8a6e6808-6f14-11ee-89fa-0242ac120005-2-61e5-3e37",
       "next": "8a6e6862-6f14-11ee-89fa-0242ac120005-1-edf6",
       "previous": "8a6e67a4-6f14-11ee-89fa-0242ac120005-2-b446-dc02"
      },
      {
       "current": "8a6e6808-6f14-11ee-89fa-0242ac120005-3-61e5-3e37-3ed6",
       "next": "8a6e6862-6f14-11ee-89fa-0242ac120005-2-edf6-09bb",
       "previous": "8a6e67a4-6f14-11ee-89fa-0242ac120005-3-b446-dc02-0332"
      },
      {
       "current": "8a6e6808-6f14-11ee-89fa-0242ac120005-4-61e5-3e37-3ed6-41f5",
       "next": "8a6e6862-6f14-11ee-89fa-0242ac120005-3-edf6-09bb-5dea",
       "previous": "8a6e67a4-6f14-11ee-89fa-0242ac120005-4-b446-dc02-0332-1fe4"
      },
      {
       "current": "8a6e6808-6f14-11ee-89fa-0242ac120005-5-61e5-3e37-3ed6-41f5-3c61",
       "next": "8a6e6862-6f14-11ee-89fa-0242ac120005-4-edf6-09bb-5dea-7198",
       "previous": "8a6e67a4-6f14-11ee-89fa-0242ac120005-5-b446-dc02-0332-1fe4-55c4"
      }
     ],
     "next": "8a6e6862-6f14-11ee-89fa-0242ac120005-5-edf6-09bb-5dea-7198-3861",
     "previous": "8a6e67a4-6f14-11ee-89fa-0242ac120005-6-b446-dc02-0332-1fe4-55c4-fc01"
    }
   },
   "outputs": [],
   "source": [
    "!ansible -m ping openstack_ctl"
   ]
  },
  {
   "cell_type": "code",
   "execution_count": null,
   "metadata": {
    "lc_cell_meme": {
     "current": "8a6e6862-6f14-11ee-89fa-0242ac120005-5-edf6-09bb-5dea-7198-3861",
     "history": [
      {
       "current": "8a6e6862-6f14-11ee-89fa-0242ac120005",
       "next": "8a6e68d0-6f14-11ee-89fa-0242ac120005",
       "previous": "8a6e6808-6f14-11ee-89fa-0242ac120005"
      },
      {
       "current": "8a6e6862-6f14-11ee-89fa-0242ac120005-1-edf6",
       "next": "8a6e68d0-6f14-11ee-89fa-0242ac120005-1-da77",
       "previous": "8a6e6808-6f14-11ee-89fa-0242ac120005"
      },
      {
       "current": "8a6e6862-6f14-11ee-89fa-0242ac120005-2-edf6-09bb",
       "next": "8a6e68d0-6f14-11ee-89fa-0242ac120005-2-da77-6bfd",
       "previous": "8a6e6808-6f14-11ee-89fa-0242ac120005-1-61e5"
      },
      {
       "current": "8a6e6862-6f14-11ee-89fa-0242ac120005-3-edf6-09bb-5dea",
       "next": "8a6e68d0-6f14-11ee-89fa-0242ac120005-3-da77-6bfd-1921",
       "previous": "8a6e6808-6f14-11ee-89fa-0242ac120005-2-61e5-3e37"
      },
      {
       "current": "8a6e6862-6f14-11ee-89fa-0242ac120005-4-edf6-09bb-5dea-7198",
       "next": "8a6e68d0-6f14-11ee-89fa-0242ac120005-4-da77-6bfd-1921-e493",
       "previous": "8a6e6808-6f14-11ee-89fa-0242ac120005-3-61e5-3e37-3ed6"
      },
      {
       "current": "8a6e6862-6f14-11ee-89fa-0242ac120005-5-edf6-09bb-5dea-7198-3861",
       "next": "8a6e68d0-6f14-11ee-89fa-0242ac120005-5-da77-6bfd-1921-e493-8907",
       "previous": "8a6e6808-6f14-11ee-89fa-0242ac120005-4-61e5-3e37-3ed6-41f5"
      }
     ],
     "next": "8a6e68d0-6f14-11ee-89fa-0242ac120005-6-da77-6bfd-1921-e493-8907-1a60",
     "previous": "8a6e6808-6f14-11ee-89fa-0242ac120005-5-61e5-3e37-3ed6-41f5-3c61"
    }
   },
   "outputs": [],
   "source": [
    "!ansible -a 'hostname' openstack_ctl"
   ]
  },
  {
   "cell_type": "markdown",
   "metadata": {
    "lc_cell_meme": {
     "current": "8a6e68d0-6f14-11ee-89fa-0242ac120005-6-da77-6bfd-1921-e493-8907-1a60",
     "history": [
      {
       "current": "8a6e68d0-6f14-11ee-89fa-0242ac120005-2-da77-6bfd",
       "next": "8a6e6934-6f14-11ee-89fa-0242ac120005",
       "previous": "8a6e6862-6f14-11ee-89fa-0242ac120005"
      },
      {
       "current": "8a6e68d0-6f14-11ee-89fa-0242ac120005-3-da77-6bfd-1921",
       "next": "8a6e6934-6f14-11ee-89fa-0242ac120005-1-c3d1",
       "previous": "8a6e6862-6f14-11ee-89fa-0242ac120005-1-edf6"
      },
      {
       "current": "8a6e68d0-6f14-11ee-89fa-0242ac120005-4-da77-6bfd-1921-e493",
       "next": "8a6e6934-6f14-11ee-89fa-0242ac120005-2-c3d1-aa4e",
       "previous": "8a6e6862-6f14-11ee-89fa-0242ac120005-2-edf6-09bb"
      },
      {
       "current": "8a6e68d0-6f14-11ee-89fa-0242ac120005-5-da77-6bfd-1921-e493-8907",
       "next": "8a6e6934-6f14-11ee-89fa-0242ac120005-3-c3d1-aa4e-613a",
       "previous": "8a6e6862-6f14-11ee-89fa-0242ac120005-3-edf6-09bb-5dea"
      },
      {
       "current": "8a6e68d0-6f14-11ee-89fa-0242ac120005-6-da77-6bfd-1921-e493-8907-1a60",
       "next": "8a6e6934-6f14-11ee-89fa-0242ac120005-4-c3d1-aa4e-613a-b799",
       "previous": "8a6e6862-6f14-11ee-89fa-0242ac120005-4-edf6-09bb-5dea-7198"
      }
     ],
     "next": "8a6e6934-6f14-11ee-89fa-0242ac120005-5-c3d1-aa4e-613a-b799-d26e",
     "previous": "8a6e6862-6f14-11ee-89fa-0242ac120005-5-edf6-09bb-5dea-7198-3861"
    }
   },
   "source": [
    "## OpenStack用OpenRCファイル設定\n",
    "\n",
    "`xxxxxxx`プロジェクト用のOpenRCファイルを事前にダウンロードしておくこと。  "
   ]
  },
  {
   "cell_type": "code",
   "execution_count": null,
   "metadata": {
    "lc_cell_meme": {
     "current": "8a6e6934-6f14-11ee-89fa-0242ac120005-5-c3d1-aa4e-613a-b799-d26e",
     "history": [
      {
       "current": "8a6e6934-6f14-11ee-89fa-0242ac120005",
       "next": "8a6e698e-6f14-11ee-89fa-0242ac120005",
       "previous": "8a6e68d0-6f14-11ee-89fa-0242ac120005"
      },
      {
       "current": "8a6e6934-6f14-11ee-89fa-0242ac120005-1-c3d1",
       "next": "d1f5984a-6f14-11ee-89fa-0242ac120005",
       "previous": "8a6e68d0-6f14-11ee-89fa-0242ac120005-1-da77"
      },
      {
       "current": "8a6e6934-6f14-11ee-89fa-0242ac120005-2-c3d1-aa4e",
       "next": "d1f5984a-6f14-11ee-89fa-0242ac120005-1-a87f",
       "previous": "8a6e68d0-6f14-11ee-89fa-0242ac120005-2-da77-6bfd"
      },
      {
       "current": "8a6e6934-6f14-11ee-89fa-0242ac120005-3-c3d1-aa4e-613a",
       "next": "d1f5984a-6f14-11ee-89fa-0242ac120005-2-a87f-2edc",
       "previous": "8a6e68d0-6f14-11ee-89fa-0242ac120005-3-da77-6bfd-1921"
      },
      {
       "current": "8a6e6934-6f14-11ee-89fa-0242ac120005-4-c3d1-aa4e-613a-b799",
       "next": "d1f5984a-6f14-11ee-89fa-0242ac120005-3-a87f-2edc-65bc",
       "previous": "8a6e68d0-6f14-11ee-89fa-0242ac120005-4-da77-6bfd-1921-e493"
      },
      {
       "current": "8a6e6934-6f14-11ee-89fa-0242ac120005-5-c3d1-aa4e-613a-b799-d26e",
       "next": "d1f5984a-6f14-11ee-89fa-0242ac120005-4-a87f-2edc-65bc-f05e",
       "previous": "8a6e68d0-6f14-11ee-89fa-0242ac120005-5-da77-6bfd-1921-e493-8907"
      }
     ],
     "next": "d1f5984a-6f14-11ee-89fa-0242ac120005-5-a87f-2edc-65bc-f05e-b5b4",
     "previous": "8a6e68d0-6f14-11ee-89fa-0242ac120005-6-da77-6bfd-1921-e493-8907-1a60"
    }
   },
   "outputs": [],
   "source": [
    "import os\n",
    "\n",
    "user_creds = os.path.expanduser('~/.keys/xxxxxxx-openrc.sh')\n",
    "\n",
    "assert os.path.exists(user_creds), '{} is not exist'.format(user_creds)"
   ]
  },
  {
   "cell_type": "code",
   "execution_count": null,
   "metadata": {
    "lc_cell_meme": {
     "current": "d1f5984a-6f14-11ee-89fa-0242ac120005-5-a87f-2edc-65bc-f05e-b5b4",
     "history": [
      {
       "current": "d1f5984a-6f14-11ee-89fa-0242ac120005-1-a87f",
       "next": "d1f599e4-6f14-11ee-89fa-0242ac120005",
       "previous": "8a6e6934-6f14-11ee-89fa-0242ac120005"
      },
      {
       "current": "d1f5984a-6f14-11ee-89fa-0242ac120005-2-a87f-2edc",
       "next": "d1f599e4-6f14-11ee-89fa-0242ac120005-1-a69d",
       "previous": "8a6e6934-6f14-11ee-89fa-0242ac120005-1-c3d1"
      },
      {
       "current": "d1f5984a-6f14-11ee-89fa-0242ac120005-3-a87f-2edc-65bc",
       "next": "d1f599e4-6f14-11ee-89fa-0242ac120005-2-a69d-6dc9",
       "previous": "8a6e6934-6f14-11ee-89fa-0242ac120005-2-c3d1-aa4e"
      },
      {
       "current": "d1f5984a-6f14-11ee-89fa-0242ac120005-4-a87f-2edc-65bc-f05e",
       "next": "d1f599e4-6f14-11ee-89fa-0242ac120005-3-a69d-6dc9-dec8",
       "previous": "8a6e6934-6f14-11ee-89fa-0242ac120005-3-c3d1-aa4e-613a"
      },
      {
       "current": "d1f5984a-6f14-11ee-89fa-0242ac120005-5-a87f-2edc-65bc-f05e-b5b4",
       "next": "d1f599e4-6f14-11ee-89fa-0242ac120005-4-a69d-6dc9-dec8-4574",
       "previous": "8a6e6934-6f14-11ee-89fa-0242ac120005-4-c3d1-aa4e-613a-b799"
      }
     ],
     "next": "d1f599e4-6f14-11ee-89fa-0242ac120005-5-a69d-6dc9-dec8-4574-2438",
     "previous": "8a6e6934-6f14-11ee-89fa-0242ac120005-5-c3d1-aa4e-613a-b799-d26e"
    }
   },
   "outputs": [],
   "source": [
    "%env USER_CREDS={user_creds}"
   ]
  },
  {
   "cell_type": "code",
   "execution_count": null,
   "metadata": {
    "lc_cell_meme": {
     "current": "d1f599e4-6f14-11ee-89fa-0242ac120005-5-a69d-6dc9-dec8-4574-2438",
     "history": [
      {
       "current": "d1f599e4-6f14-11ee-89fa-0242ac120005-1-a69d",
       "next": "d1f59a8e-6f14-11ee-89fa-0242ac120005",
       "previous": "d1f5984a-6f14-11ee-89fa-0242ac120005"
      },
      {
       "current": "d1f599e4-6f14-11ee-89fa-0242ac120005-2-a69d-6dc9",
       "next": "d1f59a8e-6f14-11ee-89fa-0242ac120005-1-331e",
       "previous": "d1f5984a-6f14-11ee-89fa-0242ac120005-1-a87f"
      },
      {
       "current": "d1f599e4-6f14-11ee-89fa-0242ac120005-3-a69d-6dc9-dec8",
       "next": "d1f59a8e-6f14-11ee-89fa-0242ac120005-2-331e-6a8e",
       "previous": "d1f5984a-6f14-11ee-89fa-0242ac120005-2-a87f-2edc"
      },
      {
       "current": "d1f599e4-6f14-11ee-89fa-0242ac120005-4-a69d-6dc9-dec8-4574",
       "next": "d1f59a8e-6f14-11ee-89fa-0242ac120005-3-331e-6a8e-2698",
       "previous": "d1f5984a-6f14-11ee-89fa-0242ac120005-3-a87f-2edc-65bc"
      },
      {
       "current": "d1f599e4-6f14-11ee-89fa-0242ac120005-5-a69d-6dc9-dec8-4574-2438",
       "next": "d1f59a8e-6f14-11ee-89fa-0242ac120005-4-331e-6a8e-2698-5f58",
       "previous": "d1f5984a-6f14-11ee-89fa-0242ac120005-4-a87f-2edc-65bc-f05e"
      }
     ],
     "next": "d1f59a8e-6f14-11ee-89fa-0242ac120005-5-331e-6a8e-2698-5f58-15a0",
     "previous": "d1f5984a-6f14-11ee-89fa-0242ac120005-5-a87f-2edc-65bc-f05e-b5b4"
    }
   },
   "outputs": [],
   "source": [
    "!ls -l {user_creds}"
   ]
  },
  {
   "cell_type": "markdown",
   "metadata": {
    "heading_collapsed": true,
    "lc_cell_meme": {
     "current": "d1f59a8e-6f14-11ee-89fa-0242ac120005-5-331e-6a8e-2698-5f58-15a0",
     "history": [
      {
       "current": "d1f59a8e-6f14-11ee-89fa-0242ac120005-1-331e",
       "next": "d1f59b06-6f14-11ee-89fa-0242ac120005",
       "previous": "d1f599e4-6f14-11ee-89fa-0242ac120005"
      },
      {
       "current": "d1f59a8e-6f14-11ee-89fa-0242ac120005-2-331e-6a8e",
       "next": "d1f59b06-6f14-11ee-89fa-0242ac120005-1-e7f2",
       "previous": "d1f599e4-6f14-11ee-89fa-0242ac120005-1-a69d"
      },
      {
       "current": "d1f59a8e-6f14-11ee-89fa-0242ac120005-3-331e-6a8e-2698",
       "next": "d1f59b06-6f14-11ee-89fa-0242ac120005-2-e7f2-18cc",
       "previous": "d1f599e4-6f14-11ee-89fa-0242ac120005-2-a69d-6dc9"
      },
      {
       "current": "d1f59a8e-6f14-11ee-89fa-0242ac120005-4-331e-6a8e-2698-5f58",
       "next": "d1f59b06-6f14-11ee-89fa-0242ac120005-3-e7f2-18cc-7e26",
       "previous": "d1f599e4-6f14-11ee-89fa-0242ac120005-3-a69d-6dc9-dec8"
      },
      {
       "current": "d1f59a8e-6f14-11ee-89fa-0242ac120005-5-331e-6a8e-2698-5f58-15a0",
       "next": "d1f59b06-6f14-11ee-89fa-0242ac120005-4-e7f2-18cc-7e26-eccc",
       "previous": "d1f599e4-6f14-11ee-89fa-0242ac120005-4-a69d-6dc9-dec8-4574"
      }
     ],
     "next": "d1f59b06-6f14-11ee-89fa-0242ac120005-5-e7f2-18cc-7e26-eccc-6c34",
     "previous": "d1f599e4-6f14-11ee-89fa-0242ac120005-5-a69d-6dc9-dec8-4574-2438"
    }
   },
   "source": [
    "## openstackコマンド用ユーティリティ関数"
   ]
  },
  {
   "cell_type": "code",
   "execution_count": null,
   "metadata": {
    "hidden": true,
    "lc_cell_meme": {
     "current": "d1f59b06-6f14-11ee-89fa-0242ac120005-5-e7f2-18cc-7e26-eccc-6c34",
     "history": [
      {
       "current": "d1f59b06-6f14-11ee-89fa-0242ac120005-1-e7f2",
       "next": "d1f59b74-6f14-11ee-89fa-0242ac120005",
       "previous": "d1f59a8e-6f14-11ee-89fa-0242ac120005"
      },
      {
       "current": "d1f59b06-6f14-11ee-89fa-0242ac120005-2-e7f2-18cc",
       "next": "d1f59b74-6f14-11ee-89fa-0242ac120005-1-d8ca",
       "previous": "d1f59a8e-6f14-11ee-89fa-0242ac120005-1-331e"
      },
      {
       "current": "d1f59b06-6f14-11ee-89fa-0242ac120005-3-e7f2-18cc-7e26",
       "next": "d1f59b74-6f14-11ee-89fa-0242ac120005-2-d8ca-5b75",
       "previous": "d1f59a8e-6f14-11ee-89fa-0242ac120005-2-331e-6a8e"
      },
      {
       "current": "d1f59b06-6f14-11ee-89fa-0242ac120005-4-e7f2-18cc-7e26-eccc",
       "next": "d1f59b74-6f14-11ee-89fa-0242ac120005-3-d8ca-5b75-92f7",
       "previous": "d1f59a8e-6f14-11ee-89fa-0242ac120005-3-331e-6a8e-2698"
      },
      {
       "current": "d1f59b06-6f14-11ee-89fa-0242ac120005-5-e7f2-18cc-7e26-eccc-6c34",
       "next": "d1f59b74-6f14-11ee-89fa-0242ac120005-4-d8ca-5b75-92f7-df75",
       "previous": "d1f59a8e-6f14-11ee-89fa-0242ac120005-4-331e-6a8e-2698-5f58"
      }
     ],
     "next": "d1f59b74-6f14-11ee-89fa-0242ac120005-5-d8ca-5b75-92f7-df75-9e22",
     "previous": "d1f59a8e-6f14-11ee-89fa-0242ac120005-5-331e-6a8e-2698-5f58-15a0"
    }
   },
   "outputs": [],
   "source": [
    "def build_cmdline(param):\n",
    "    cmdline = ''\n",
    "    \n",
    "    for param_name, param_value in param.items():\n",
    "        if isinstance(param_value, dict):\n",
    "            for key, value in param_value.items():\n",
    "                cmdline += ' --{} {}={}'.format(param_name, key, value)\n",
    "        elif isinstance(param_value, list):\n",
    "            for item in param_value:\n",
    "                cmdline += ' --{} {}'.format(param_name, item)\n",
    "        elif isinstance(param_value, bool):\n",
    "            if param_value:\n",
    "                cmdline += ' --{}'.format(param_name)\n",
    "        else:\n",
    "            cmdline += ' --{} {}'.format(param_name, param_value)\n",
    "\n",
    "    return cmdline"
   ]
  },
  {
   "cell_type": "code",
   "execution_count": null,
   "metadata": {
    "hidden": true,
    "lc_cell_meme": {
     "current": "d1f59b74-6f14-11ee-89fa-0242ac120005-5-d8ca-5b75-92f7-df75-9e22",
     "history": [
      {
       "current": "d1f59b74-6f14-11ee-89fa-0242ac120005",
       "next": "d1f59bec-6f14-11ee-89fa-0242ac120005",
       "previous": "d1f59b06-6f14-11ee-89fa-0242ac120005"
      },
      {
       "current": "d1f59b74-6f14-11ee-89fa-0242ac120005-1-d8ca",
       "next": "d1f59bec-6f14-11ee-89fa-0242ac120005-1-da5a",
       "previous": "d1f59b06-6f14-11ee-89fa-0242ac120005"
      },
      {
       "current": "d1f59b74-6f14-11ee-89fa-0242ac120005-2-d8ca-5b75",
       "next": "d1f59bec-6f14-11ee-89fa-0242ac120005-2-da5a-e321",
       "previous": "d1f59b06-6f14-11ee-89fa-0242ac120005-1-e7f2"
      },
      {
       "current": "d1f59b74-6f14-11ee-89fa-0242ac120005-3-d8ca-5b75-92f7",
       "next": "d1f59bec-6f14-11ee-89fa-0242ac120005-3-da5a-e321-1966",
       "previous": "d1f59b06-6f14-11ee-89fa-0242ac120005-2-e7f2-18cc"
      },
      {
       "current": "d1f59b74-6f14-11ee-89fa-0242ac120005-4-d8ca-5b75-92f7-df75",
       "next": "d1f59bec-6f14-11ee-89fa-0242ac120005-4-da5a-e321-1966-718e",
       "previous": "d1f59b06-6f14-11ee-89fa-0242ac120005-3-e7f2-18cc-7e26"
      },
      {
       "current": "d1f59b74-6f14-11ee-89fa-0242ac120005-5-d8ca-5b75-92f7-df75-9e22",
       "next": "d1f59bec-6f14-11ee-89fa-0242ac120005-5-da5a-e321-1966-718e-dd82",
       "previous": "d1f59b06-6f14-11ee-89fa-0242ac120005-4-e7f2-18cc-7e26-eccc"
      }
     ],
     "next": "d1f59bec-6f14-11ee-89fa-0242ac120005-6-da5a-e321-1966-718e-dd82-4d88",
     "previous": "d1f59b06-6f14-11ee-89fa-0242ac120005-5-e7f2-18cc-7e26-eccc-6c34"
    }
   },
   "outputs": [],
   "source": [
    "import json\n",
    "\n",
    "def run_openstack(cmd):\n",
    "    print('EXEC: {}'.format(cmd))\n",
    "    out = !source {user_creds} && {cmd}\n",
    "    print('OUTPUT: {}'.format('\\n'.join(out)))\n",
    "    return json.loads('\\n'.join(out))"
   ]
  },
  {
   "cell_type": "markdown",
   "metadata": {
    "hidden": true,
    "lc_cell_meme": {
     "current": "d1f59bec-6f14-11ee-89fa-0242ac120005-6-da5a-e321-1966-718e-dd82-4d88",
     "history": [
      {
       "current": "d1f59bec-6f14-11ee-89fa-0242ac120005-2-da5a-e321",
       "next": "8a6e698e-6f14-11ee-89fa-0242ac120005",
       "previous": "d1f59b74-6f14-11ee-89fa-0242ac120005"
      },
      {
       "current": "d1f59bec-6f14-11ee-89fa-0242ac120005-3-da5a-e321-1966",
       "next": "8a6e698e-6f14-11ee-89fa-0242ac120005-1-54f5",
       "previous": "d1f59b74-6f14-11ee-89fa-0242ac120005-1-d8ca"
      },
      {
       "current": "d1f59bec-6f14-11ee-89fa-0242ac120005-4-da5a-e321-1966-718e",
       "next": "8a6e698e-6f14-11ee-89fa-0242ac120005-2-54f5-198c",
       "previous": "d1f59b74-6f14-11ee-89fa-0242ac120005-2-d8ca-5b75"
      },
      {
       "current": "d1f59bec-6f14-11ee-89fa-0242ac120005-5-da5a-e321-1966-718e-dd82",
       "next": "8a6e698e-6f14-11ee-89fa-0242ac120005-3-54f5-198c-e894",
       "previous": "d1f59b74-6f14-11ee-89fa-0242ac120005-3-d8ca-5b75-92f7"
      },
      {
       "current": "d1f59bec-6f14-11ee-89fa-0242ac120005-6-da5a-e321-1966-718e-dd82-4d88",
       "next": "8a6e698e-6f14-11ee-89fa-0242ac120005-4-54f5-198c-e894-7d55",
       "previous": "d1f59b74-6f14-11ee-89fa-0242ac120005-4-d8ca-5b75-92f7-df75"
      }
     ],
     "next": "8a6e698e-6f14-11ee-89fa-0242ac120005-5-54f5-198c-e894-7d55-68d4",
     "previous": "d1f59b74-6f14-11ee-89fa-0242ac120005-5-d8ca-5b75-92f7-df75-9e22"
    }
   },
   "source": [
    "テスト"
   ]
  },
  {
   "cell_type": "code",
   "execution_count": null,
   "metadata": {
    "hidden": true,
    "lc_cell_meme": {
     "current": "8a6e698e-6f14-11ee-89fa-0242ac120005-5-54f5-198c-e894-7d55-68d4",
     "history": [
      {
       "current": "8a6e698e-6f14-11ee-89fa-0242ac120005",
       "next": "8a6e69fc-6f14-11ee-89fa-0242ac120005",
       "previous": "8a6e6934-6f14-11ee-89fa-0242ac120005"
      },
      {
       "current": "8a6e698e-6f14-11ee-89fa-0242ac120005",
       "next": "8a6e69fc-6f14-11ee-89fa-0242ac120005",
       "previous": "d1f59bec-6f14-11ee-89fa-0242ac120005"
      },
      {
       "current": "8a6e698e-6f14-11ee-89fa-0242ac120005-1-54f5",
       "next": "06afe9a8-98b0-11ea-8d02-0242ac120007-3-a1c1-faf0-55bd",
       "previous": "d1f59bec-6f14-11ee-89fa-0242ac120005-1-da5a"
      },
      {
       "current": "8a6e698e-6f14-11ee-89fa-0242ac120005-2-54f5-198c",
       "next": "06afe9a8-98b0-11ea-8d02-0242ac120007-4-a1c1-faf0-55bd-91e4",
       "previous": "d1f59bec-6f14-11ee-89fa-0242ac120005-2-da5a-e321"
      },
      {
       "current": "8a6e698e-6f14-11ee-89fa-0242ac120005-3-54f5-198c-e894",
       "next": "06afe9a8-98b0-11ea-8d02-0242ac120007-5-a1c1-faf0-55bd-91e4-454d",
       "previous": "d1f59bec-6f14-11ee-89fa-0242ac120005-3-da5a-e321-1966"
      },
      {
       "current": "8a6e698e-6f14-11ee-89fa-0242ac120005-4-54f5-198c-e894-7d55",
       "next": "06afe9a8-98b0-11ea-8d02-0242ac120007-6-a1c1-faf0-55bd-91e4-454d-9c8e",
       "previous": "d1f59bec-6f14-11ee-89fa-0242ac120005-4-da5a-e321-1966-718e"
      },
      {
       "current": "8a6e698e-6f14-11ee-89fa-0242ac120005-5-54f5-198c-e894-7d55-68d4",
       "next": "06afe9a8-98b0-11ea-8d02-0242ac120007-7-a1c1-faf0-55bd-91e4-454d-9c8e-6dfe",
       "previous": "d1f59bec-6f14-11ee-89fa-0242ac120005-5-da5a-e321-1966-718e-dd82"
      }
     ],
     "next": "06afe9a8-98b0-11ea-8d02-0242ac120007-8-a1c1-faf0-55bd-91e4-454d-9c8e-6dfe-30dd",
     "previous": "d1f59bec-6f14-11ee-89fa-0242ac120005-6-da5a-e321-1966-718e-dd82-4d88"
    }
   },
   "outputs": [],
   "source": [
    "run_openstack('openstack flavor list -f json' + build_cmdline({'all': True}))"
   ]
  },
  {
   "cell_type": "markdown",
   "metadata": {
    "lc_cell_meme": {
     "current": "06afe9a8-98b0-11ea-8d02-0242ac120007-8-a1c1-faf0-55bd-91e4-454d-9c8e-6dfe-30dd",
     "history": [
      {
       "current": "06afe9a8-98b0-11ea-8d02-0242ac120007",
       "next": "7899411a-9692-11ea-8d02-0242ac120007",
       "previous": "d1bcb8ac-9599-11ea-8d02-0242ac120007"
      },
      {
       "current": "06afe9a8-98b0-11ea-8d02-0242ac120007-1-a1c1",
       "next": "7899411a-9692-11ea-8d02-0242ac120007",
       "previous": "250e7a70-98f3-11ea-8d02-0242ac120007"
      },
      {
       "current": "06afe9a8-98b0-11ea-8d02-0242ac120007-2-a1c1-faf0",
       "next": "7899411a-9692-11ea-8d02-0242ac120007-1-2cd2",
       "previous": "250e7a70-98f3-11ea-8d02-0242ac120007-1-f0b4"
      },
      {
       "current": "06afe9a8-98b0-11ea-8d02-0242ac120007-2-a1c1-faf0",
       "next": "7899411a-9692-11ea-8d02-0242ac120007-2-2cd2-395d",
       "previous": "250e7a70-98f3-11ea-8d02-0242ac120007-2-f0b4-6edf"
      },
      {
       "current": "06afe9a8-98b0-11ea-8d02-0242ac120007-2-a1c1-faf0",
       "next": "04bfc54e-defc-11eb-b29f-0242ac120008",
       "previous": "250e7a70-98f3-11ea-8d02-0242ac120007-2-f0b4-6edf"
      },
      {
       "current": "06afe9a8-98b0-11ea-8d02-0242ac120007-3-a1c1-faf0-55bd",
       "next": "329a4046-dfad-11eb-b29f-0242ac120008",
       "previous": "250e7a70-98f3-11ea-8d02-0242ac120007-2-f0b4-6edf"
      },
      {
       "current": "06afe9a8-98b0-11ea-8d02-0242ac120007-3-a1c1-faf0-55bd",
       "next": "329a4046-dfad-11eb-b29f-0242ac120008-1-1375",
       "previous": "250e7a70-98f3-11ea-8d02-0242ac120007-3-f0b4-6edf-9d40"
      },
      {
       "current": "06afe9a8-98b0-11ea-8d02-0242ac120007-3-a1c1-faf0-55bd",
       "next": "329a4046-dfad-11eb-b29f-0242ac120008-1-1375",
       "previous": "8a6e69fc-6f14-11ee-89fa-0242ac120005"
      },
      {
       "current": "06afe9a8-98b0-11ea-8d02-0242ac120007-4-a1c1-faf0-55bd-91e4",
       "next": "329a4046-dfad-11eb-b29f-0242ac120008-1-1375",
       "previous": "8a6e698e-6f14-11ee-89fa-0242ac120005"
      },
      {
       "current": "06afe9a8-98b0-11ea-8d02-0242ac120007-5-a1c1-faf0-55bd-91e4-454d",
       "next": "329a4046-dfad-11eb-b29f-0242ac120008-2-1375-7419",
       "previous": "8a6e698e-6f14-11ee-89fa-0242ac120005-1-54f5"
      },
      {
       "current": "06afe9a8-98b0-11ea-8d02-0242ac120007-6-a1c1-faf0-55bd-91e4-454d-9c8e",
       "next": "329a4046-dfad-11eb-b29f-0242ac120008-3-1375-7419-65f1",
       "previous": "8a6e698e-6f14-11ee-89fa-0242ac120005-2-54f5-198c"
      },
      {
       "current": "06afe9a8-98b0-11ea-8d02-0242ac120007-7-a1c1-faf0-55bd-91e4-454d-9c8e-6dfe",
       "next": "329a4046-dfad-11eb-b29f-0242ac120008-4-1375-7419-65f1-30a8",
       "previous": "8a6e698e-6f14-11ee-89fa-0242ac120005-3-54f5-198c-e894"
      },
      {
       "current": "06afe9a8-98b0-11ea-8d02-0242ac120007-8-a1c1-faf0-55bd-91e4-454d-9c8e-6dfe-30dd",
       "next": "329a4046-dfad-11eb-b29f-0242ac120008-5-1375-7419-65f1-30a8-e541",
       "previous": "8a6e698e-6f14-11ee-89fa-0242ac120005-4-54f5-198c-e894-7d55"
      }
     ],
     "next": "329a4046-dfad-11eb-b29f-0242ac120008-6-1375-7419-65f1-30a8-e541-d655",
     "previous": "8a6e698e-6f14-11ee-89fa-0242ac120005-5-54f5-198c-e894-7d55-68d4"
    }
   },
   "source": [
    "## デプロイされたCephノード情報の取得"
   ]
  },
  {
   "cell_type": "markdown",
   "metadata": {
    "lc_cell_meme": {
     "current": "329a4046-dfad-11eb-b29f-0242ac120008-6-1375-7419-65f1-30a8-e541-d655",
     "history": [
      {
       "current": "329a4046-dfad-11eb-b29f-0242ac120008-1-1375",
       "next": "329a4348-dfad-11eb-b29f-0242ac120008",
       "previous": "06afe9a8-98b0-11ea-8d02-0242ac120007-2-a1c1-faf0"
      },
      {
       "current": "329a4046-dfad-11eb-b29f-0242ac120008-1-1375",
       "next": "329a4348-dfad-11eb-b29f-0242ac120008-1-ed21",
       "previous": "06afe9a8-98b0-11ea-8d02-0242ac120007-3-a1c1-faf0-55bd"
      },
      {
       "current": "329a4046-dfad-11eb-b29f-0242ac120008-2-1375-7419",
       "next": "197c8f3e-6f15-11ee-89fa-0242ac120005",
       "previous": "06afe9a8-98b0-11ea-8d02-0242ac120007-3-a1c1-faf0-55bd"
      },
      {
       "current": "329a4046-dfad-11eb-b29f-0242ac120008-3-1375-7419-65f1",
       "next": "197c8f3e-6f15-11ee-89fa-0242ac120005-1-9073",
       "previous": "06afe9a8-98b0-11ea-8d02-0242ac120007-4-a1c1-faf0-55bd-91e4"
      },
      {
       "current": "329a4046-dfad-11eb-b29f-0242ac120008-4-1375-7419-65f1-30a8",
       "next": "197c8f3e-6f15-11ee-89fa-0242ac120005-2-9073-f0a5",
       "previous": "06afe9a8-98b0-11ea-8d02-0242ac120007-5-a1c1-faf0-55bd-91e4-454d"
      },
      {
       "current": "329a4046-dfad-11eb-b29f-0242ac120008-5-1375-7419-65f1-30a8-e541",
       "next": "197c8f3e-6f15-11ee-89fa-0242ac120005-3-9073-f0a5-7725",
       "previous": "06afe9a8-98b0-11ea-8d02-0242ac120007-6-a1c1-faf0-55bd-91e4-454d-9c8e"
      },
      {
       "current": "329a4046-dfad-11eb-b29f-0242ac120008-6-1375-7419-65f1-30a8-e541-d655",
       "next": "197c8f3e-6f15-11ee-89fa-0242ac120005-4-9073-f0a5-7725-432d",
       "previous": "06afe9a8-98b0-11ea-8d02-0242ac120007-7-a1c1-faf0-55bd-91e4-454d-9c8e-6dfe"
      }
     ],
     "next": "197c8f3e-6f15-11ee-89fa-0242ac120005-5-9073-f0a5-7725-432d-cc00",
     "previous": "06afe9a8-98b0-11ea-8d02-0242ac120007-8-a1c1-faf0-55bd-91e4-454d-9c8e-6dfe-30dd"
    }
   },
   "source": [
    "ストレージノードを特定するにあたり、ノード名称が　ceph-nodexxx （xxxの部分は、右寄せ0埋めの数字3桁）というルールに従っていることを前提としている。<br>\n",
    " 例：ceph-node001<br>\n",
    " このノード名称ルールは、構築するCephクラスタ毎に変えるため、以下で定義する。"
   ]
  },
  {
   "cell_type": "code",
   "execution_count": null,
   "metadata": {
    "lc_cell_meme": {
     "current": "197c8f3e-6f15-11ee-89fa-0242ac120005-5-9073-f0a5-7725-432d-cc00",
     "history": [
      {
       "current": "197c8f3e-6f15-11ee-89fa-0242ac120005-1-9073",
       "next": "329a4348-dfad-11eb-b29f-0242ac120008-1-ed21",
       "previous": "329a4046-dfad-11eb-b29f-0242ac120008-1-1375"
      },
      {
       "current": "197c8f3e-6f15-11ee-89fa-0242ac120005-2-9073-f0a5",
       "next": "329a4348-dfad-11eb-b29f-0242ac120008-2-ed21-85a1",
       "previous": "329a4046-dfad-11eb-b29f-0242ac120008-2-1375-7419"
      },
      {
       "current": "197c8f3e-6f15-11ee-89fa-0242ac120005-3-9073-f0a5-7725",
       "next": "329a4348-dfad-11eb-b29f-0242ac120008-3-ed21-85a1-0a04",
       "previous": "329a4046-dfad-11eb-b29f-0242ac120008-3-1375-7419-65f1"
      },
      {
       "current": "197c8f3e-6f15-11ee-89fa-0242ac120005-4-9073-f0a5-7725-432d",
       "next": "329a4348-dfad-11eb-b29f-0242ac120008-4-ed21-85a1-0a04-8ab9",
       "previous": "329a4046-dfad-11eb-b29f-0242ac120008-4-1375-7419-65f1-30a8"
      },
      {
       "current": "197c8f3e-6f15-11ee-89fa-0242ac120005-5-9073-f0a5-7725-432d-cc00",
       "next": "329a4348-dfad-11eb-b29f-0242ac120008-5-ed21-85a1-0a04-8ab9-6195",
       "previous": "329a4046-dfad-11eb-b29f-0242ac120008-5-1375-7419-65f1-30a8-e541"
      }
     ],
     "next": "329a4348-dfad-11eb-b29f-0242ac120008-6-ed21-85a1-0a04-8ab9-6195-7c80",
     "previous": "329a4046-dfad-11eb-b29f-0242ac120008-6-1375-7419-65f1-30a8-e541-d655"
    }
   },
   "outputs": [],
   "source": [
    "# 初期化対象のインスタンス名称を設定する\n",
    "raise Exception('この先手作業が必要です')"
   ]
  },
  {
   "cell_type": "code",
   "execution_count": null,
   "metadata": {
    "lc_cell_meme": {
     "current": "329a4348-dfad-11eb-b29f-0242ac120008-6-ed21-85a1-0a04-8ab9-6195-7c80",
     "history": [
      {
       "current": "329a4348-dfad-11eb-b29f-0242ac120008-1-ed21",
       "next": "04bfc54e-defc-11eb-b29f-0242ac120008",
       "previous": "329a4046-dfad-11eb-b29f-0242ac120008"
      },
      {
       "current": "329a4348-dfad-11eb-b29f-0242ac120008-1-ed21",
       "next": "04bfc54e-defc-11eb-b29f-0242ac120008-1-5336",
       "previous": "329a4046-dfad-11eb-b29f-0242ac120008-1-1375"
      },
      {
       "current": "329a4348-dfad-11eb-b29f-0242ac120008-2-ed21-85a1",
       "next": "197c8ff2-6f15-11ee-89fa-0242ac120005",
       "previous": "197c8f3e-6f15-11ee-89fa-0242ac120005"
      },
      {
       "current": "329a4348-dfad-11eb-b29f-0242ac120008-3-ed21-85a1-0a04",
       "next": "197c8ff2-6f15-11ee-89fa-0242ac120005-1-caf8",
       "previous": "197c8f3e-6f15-11ee-89fa-0242ac120005-1-9073"
      },
      {
       "current": "329a4348-dfad-11eb-b29f-0242ac120008-4-ed21-85a1-0a04-8ab9",
       "next": "197c8ff2-6f15-11ee-89fa-0242ac120005-2-caf8-8e68",
       "previous": "197c8f3e-6f15-11ee-89fa-0242ac120005-2-9073-f0a5"
      },
      {
       "current": "329a4348-dfad-11eb-b29f-0242ac120008-5-ed21-85a1-0a04-8ab9-6195",
       "next": "197c8ff2-6f15-11ee-89fa-0242ac120005-3-caf8-8e68-f162",
       "previous": "197c8f3e-6f15-11ee-89fa-0242ac120005-3-9073-f0a5-7725"
      },
      {
       "current": "329a4348-dfad-11eb-b29f-0242ac120008-6-ed21-85a1-0a04-8ab9-6195-7c80",
       "next": "197c8ff2-6f15-11ee-89fa-0242ac120005-4-caf8-8e68-f162-a870",
       "previous": "197c8f3e-6f15-11ee-89fa-0242ac120005-4-9073-f0a5-7725-432d"
      }
     ],
     "next": "197c8ff2-6f15-11ee-89fa-0242ac120005-5-caf8-8e68-f162-a870-fa2a",
     "previous": "197c8f3e-6f15-11ee-89fa-0242ac120005-5-9073-f0a5-7725-432d-cc00"
    }
   },
   "outputs": [],
   "source": [
    "import pandas as pd\n",
    "import re\n",
    "\n",
    "# 対象インスタンス名称マッチングルール\n",
    "name_match_rule = r'ceph-xxx-node-[0-9]+'"
   ]
  },
  {
   "cell_type": "markdown",
   "metadata": {
    "heading_collapsed": true,
    "lc_cell_meme": {
     "current": "197c8ff2-6f15-11ee-89fa-0242ac120005-5-caf8-8e68-f162-a870-fa2a",
     "history": [
      {
       "current": "197c8ff2-6f15-11ee-89fa-0242ac120005-1-caf8",
       "next": "197c9024-6f15-11ee-89fa-0242ac120005",
       "previous": "329a4348-dfad-11eb-b29f-0242ac120008-1-ed21"
      },
      {
       "current": "197c8ff2-6f15-11ee-89fa-0242ac120005-2-caf8-8e68",
       "next": "197c9024-6f15-11ee-89fa-0242ac120005-1-9107",
       "previous": "329a4348-dfad-11eb-b29f-0242ac120008-2-ed21-85a1"
      },
      {
       "current": "197c8ff2-6f15-11ee-89fa-0242ac120005-3-caf8-8e68-f162",
       "next": "197c9024-6f15-11ee-89fa-0242ac120005-2-9107-99ff",
       "previous": "329a4348-dfad-11eb-b29f-0242ac120008-3-ed21-85a1-0a04"
      },
      {
       "current": "197c8ff2-6f15-11ee-89fa-0242ac120005-4-caf8-8e68-f162-a870",
       "next": "197c9024-6f15-11ee-89fa-0242ac120005-3-9107-99ff-3968",
       "previous": "329a4348-dfad-11eb-b29f-0242ac120008-4-ed21-85a1-0a04-8ab9"
      },
      {
       "current": "197c8ff2-6f15-11ee-89fa-0242ac120005-5-caf8-8e68-f162-a870-fa2a",
       "next": "197c9024-6f15-11ee-89fa-0242ac120005-4-9107-99ff-3968-a5d5",
       "previous": "329a4348-dfad-11eb-b29f-0242ac120008-5-ed21-85a1-0a04-8ab9-6195"
      }
     ],
     "next": "197c9024-6f15-11ee-89fa-0242ac120005-5-9107-99ff-3968-a5d5-2cf9",
     "previous": "329a4348-dfad-11eb-b29f-0242ac120008-6-ed21-85a1-0a04-8ab9-6195-7c80"
    }
   },
   "source": [
    "## OpenStack Ironicからノード情報の取得"
   ]
  },
  {
   "cell_type": "code",
   "execution_count": null,
   "metadata": {
    "hidden": true,
    "lc_cell_meme": {
     "current": "197c9024-6f15-11ee-89fa-0242ac120005-5-9107-99ff-3968-a5d5-2cf9",
     "history": [
      {
       "current": "197c9024-6f15-11ee-89fa-0242ac120005-1-9107",
       "next": "197c904c-6f15-11ee-89fa-0242ac120005",
       "previous": "197c8ff2-6f15-11ee-89fa-0242ac120005"
      },
      {
       "current": "197c9024-6f15-11ee-89fa-0242ac120005-2-9107-99ff",
       "next": "197c904c-6f15-11ee-89fa-0242ac120005-1-4b07",
       "previous": "197c8ff2-6f15-11ee-89fa-0242ac120005-1-caf8"
      },
      {
       "current": "197c9024-6f15-11ee-89fa-0242ac120005-3-9107-99ff-3968",
       "next": "197c904c-6f15-11ee-89fa-0242ac120005-2-4b07-fbd9",
       "previous": "197c8ff2-6f15-11ee-89fa-0242ac120005-2-caf8-8e68"
      },
      {
       "current": "197c9024-6f15-11ee-89fa-0242ac120005-4-9107-99ff-3968-a5d5",
       "next": "197c904c-6f15-11ee-89fa-0242ac120005-3-4b07-fbd9-c96b",
       "previous": "197c8ff2-6f15-11ee-89fa-0242ac120005-3-caf8-8e68-f162"
      },
      {
       "current": "197c9024-6f15-11ee-89fa-0242ac120005-5-9107-99ff-3968-a5d5-2cf9",
       "next": "197c904c-6f15-11ee-89fa-0242ac120005-4-4b07-fbd9-c96b-82a7",
       "previous": "197c8ff2-6f15-11ee-89fa-0242ac120005-4-caf8-8e68-f162-a870"
      }
     ],
     "next": "197c904c-6f15-11ee-89fa-0242ac120005-5-4b07-fbd9-c96b-82a7-81b9",
     "previous": "197c8ff2-6f15-11ee-89fa-0242ac120005-5-caf8-8e68-f162-a870-fa2a"
    },
    "scrolled": true
   },
   "outputs": [],
   "source": [
    "cmd = \"openstack baremetal node list -f json --long\"\n",
    "nodes = run_openstack(cmd)"
   ]
  },
  {
   "cell_type": "code",
   "execution_count": null,
   "metadata": {
    "hidden": true,
    "lc_cell_meme": {
     "current": "197c904c-6f15-11ee-89fa-0242ac120005-5-4b07-fbd9-c96b-82a7-81b9",
     "history": [
      {
       "current": "197c904c-6f15-11ee-89fa-0242ac120005-1-4b07",
       "next": "197c906a-6f15-11ee-89fa-0242ac120005",
       "previous": "197c9024-6f15-11ee-89fa-0242ac120005"
      },
      {
       "current": "197c904c-6f15-11ee-89fa-0242ac120005-2-4b07-fbd9",
       "next": "197c906a-6f15-11ee-89fa-0242ac120005-1-258c",
       "previous": "197c9024-6f15-11ee-89fa-0242ac120005-1-9107"
      },
      {
       "current": "197c904c-6f15-11ee-89fa-0242ac120005-3-4b07-fbd9-c96b",
       "next": "197c906a-6f15-11ee-89fa-0242ac120005-2-258c-3d01",
       "previous": "197c9024-6f15-11ee-89fa-0242ac120005-2-9107-99ff"
      },
      {
       "current": "197c904c-6f15-11ee-89fa-0242ac120005-4-4b07-fbd9-c96b-82a7",
       "next": "197c906a-6f15-11ee-89fa-0242ac120005-3-258c-3d01-d4d9",
       "previous": "197c9024-6f15-11ee-89fa-0242ac120005-3-9107-99ff-3968"
      },
      {
       "current": "197c904c-6f15-11ee-89fa-0242ac120005-5-4b07-fbd9-c96b-82a7-81b9",
       "next": "197c906a-6f15-11ee-89fa-0242ac120005-4-258c-3d01-d4d9-5dca",
       "previous": "197c9024-6f15-11ee-89fa-0242ac120005-4-9107-99ff-3968-a5d5"
      }
     ],
     "next": "197c906a-6f15-11ee-89fa-0242ac120005-5-258c-3d01-d4d9-5dca-c746",
     "previous": "197c9024-6f15-11ee-89fa-0242ac120005-5-9107-99ff-3968-a5d5-2cf9"
    },
    "scrolled": true
   },
   "outputs": [],
   "source": [
    "import pandas as pd\n",
    "import re\n",
    "\n",
    "for node in nodes:\n",
    "    instance_uuid = node.get(\"Instance UUID\", None)\n",
    "    if instance_uuid is None:\n",
    "        continue\n",
    "        \n",
    "    node[\"instance_name\"] = node[\"Instance Info\"][\"display_name\"]\n",
    "\n",
    "pd.set_option('display.max_rows', None)\n",
    "pd.DataFrame(nodes, columns=['Instance UUID', 'instance_name', 'UUID', 'Maintenance', 'Provisioning State', 'Power State', 'Name'])"
   ]
  },
  {
   "cell_type": "code",
   "execution_count": null,
   "metadata": {
    "hidden": true,
    "lc_cell_meme": {
     "current": "197c906a-6f15-11ee-89fa-0242ac120005-5-258c-3d01-d4d9-5dca-c746",
     "history": [
      {
       "current": "197c906a-6f15-11ee-89fa-0242ac120005-1-258c",
       "next": "197c9092-6f15-11ee-89fa-0242ac120005",
       "previous": "197c904c-6f15-11ee-89fa-0242ac120005"
      },
      {
       "current": "197c906a-6f15-11ee-89fa-0242ac120005-2-258c-3d01",
       "next": "197c9092-6f15-11ee-89fa-0242ac120005-1-b655",
       "previous": "197c904c-6f15-11ee-89fa-0242ac120005-1-4b07"
      },
      {
       "current": "197c906a-6f15-11ee-89fa-0242ac120005-3-258c-3d01-d4d9",
       "next": "197c9092-6f15-11ee-89fa-0242ac120005-2-b655-3af2",
       "previous": "197c904c-6f15-11ee-89fa-0242ac120005-2-4b07-fbd9"
      },
      {
       "current": "197c906a-6f15-11ee-89fa-0242ac120005-4-258c-3d01-d4d9-5dca",
       "next": "197c9092-6f15-11ee-89fa-0242ac120005-3-b655-3af2-0974",
       "previous": "197c904c-6f15-11ee-89fa-0242ac120005-3-4b07-fbd9-c96b"
      },
      {
       "current": "197c906a-6f15-11ee-89fa-0242ac120005-5-258c-3d01-d4d9-5dca-c746",
       "next": "197c9092-6f15-11ee-89fa-0242ac120005-4-b655-3af2-0974-69ae",
       "previous": "197c904c-6f15-11ee-89fa-0242ac120005-4-4b07-fbd9-c96b-82a7"
      }
     ],
     "next": "197c9092-6f15-11ee-89fa-0242ac120005-5-b655-3af2-0974-69ae-2e8d",
     "previous": "197c904c-6f15-11ee-89fa-0242ac120005-5-4b07-fbd9-c96b-82a7-81b9"
    },
    "scrolled": true
   },
   "outputs": [],
   "source": [
    "cmd = \"openstack server list -f json --long\"\n",
    "nova_server_map = run_openstack(cmd)"
   ]
  },
  {
   "cell_type": "code",
   "execution_count": null,
   "metadata": {
    "hidden": true,
    "lc_cell_meme": {
     "current": "197c9092-6f15-11ee-89fa-0242ac120005-5-b655-3af2-0974-69ae-2e8d",
     "history": [
      {
       "current": "197c9092-6f15-11ee-89fa-0242ac120005",
       "next": "06afec50-98b0-11ea-8d02-0242ac120007-3-5828-a305-b690",
       "previous": "197c906a-6f15-11ee-89fa-0242ac120005"
      },
      {
       "current": "197c9092-6f15-11ee-89fa-0242ac120005-1-b655",
       "next": "7007693c-7956-11ee-89fa-0242ac120005",
       "previous": "197c906a-6f15-11ee-89fa-0242ac120005"
      },
      {
       "current": "197c9092-6f15-11ee-89fa-0242ac120005-2-b655-3af2",
       "next": "7007693c-7956-11ee-89fa-0242ac120005-1-e015",
       "previous": "197c906a-6f15-11ee-89fa-0242ac120005-1-258c"
      },
      {
       "current": "197c9092-6f15-11ee-89fa-0242ac120005-3-b655-3af2-0974",
       "next": "7007693c-7956-11ee-89fa-0242ac120005-2-e015-8ba5",
       "previous": "197c906a-6f15-11ee-89fa-0242ac120005-2-258c-3d01"
      },
      {
       "current": "197c9092-6f15-11ee-89fa-0242ac120005-4-b655-3af2-0974-69ae",
       "next": "7007693c-7956-11ee-89fa-0242ac120005-3-e015-8ba5-6bf8",
       "previous": "197c906a-6f15-11ee-89fa-0242ac120005-3-258c-3d01-d4d9"
      },
      {
       "current": "197c9092-6f15-11ee-89fa-0242ac120005-5-b655-3af2-0974-69ae-2e8d",
       "next": "7007693c-7956-11ee-89fa-0242ac120005-4-e015-8ba5-6bf8-54e6",
       "previous": "197c906a-6f15-11ee-89fa-0242ac120005-4-258c-3d01-d4d9-5dca"
      }
     ],
     "next": "7007693c-7956-11ee-89fa-0242ac120005-5-e015-8ba5-6bf8-54e6-07f6",
     "previous": "197c906a-6f15-11ee-89fa-0242ac120005-5-258c-3d01-d4d9-5dca-c746"
    }
   },
   "outputs": [],
   "source": [
    "node_list = []\n",
    "for server in nova_server_map:\n",
    "    node_id = server['ID']\n",
    "    if re.match(name_match_rule, server['Name']) is None:\n",
    "        continue\n",
    "    for node in nodes:\n",
    "        if node['Instance UUID'] == node_id:\n",
    "            node_info = {}\n",
    "            node_list.append(node_info)\n",
    "            node_info['name'] = server['Name']\n",
    "            node_info['node_name'] = node['Name']\n",
    "            instance_ip_info = instance_ip_map.get(server['Name'], None)\n",
    "            if instance_ip_info is not None:\n",
    "                node_info['instance_ip'] = instance_ip_info.get('ipv4', None)\n",
    "            else:\n",
    "                node_info['instance_ip'] = None\n",
    "            address = server['Networks']\n",
    "            prov_net = address['provisioning-net']\n",
    "            for addr in prov_net:\n",
    "                node_info['prov_ip'] = addr\n",
    "\n",
    "pd.DataFrame(node_list)"
   ]
  },
  {
   "cell_type": "code",
   "execution_count": null,
   "metadata": {
    "hidden": true,
    "lc_cell_meme": {
     "current": "7007693c-7956-11ee-89fa-0242ac120005-5-e015-8ba5-6bf8-54e6-07f6",
     "history": [
      {
       "current": "7007693c-7956-11ee-89fa-0242ac120005-1-e015",
       "next": "06afec50-98b0-11ea-8d02-0242ac120007-3-5828-a305-b690",
       "previous": "197c9092-6f15-11ee-89fa-0242ac120005"
      },
      {
       "current": "7007693c-7956-11ee-89fa-0242ac120005-2-e015-8ba5",
       "next": "06afec50-98b0-11ea-8d02-0242ac120007-4-5828-a305-b690-b154",
       "previous": "197c9092-6f15-11ee-89fa-0242ac120005-1-b655"
      },
      {
       "current": "7007693c-7956-11ee-89fa-0242ac120005-3-e015-8ba5-6bf8",
       "next": "06afec50-98b0-11ea-8d02-0242ac120007-5-5828-a305-b690-b154-f163",
       "previous": "197c9092-6f15-11ee-89fa-0242ac120005-2-b655-3af2"
      },
      {
       "current": "7007693c-7956-11ee-89fa-0242ac120005-4-e015-8ba5-6bf8-54e6",
       "next": "06afec50-98b0-11ea-8d02-0242ac120007-6-5828-a305-b690-b154-f163-0082",
       "previous": "197c9092-6f15-11ee-89fa-0242ac120005-3-b655-3af2-0974"
      },
      {
       "current": "7007693c-7956-11ee-89fa-0242ac120005-5-e015-8ba5-6bf8-54e6-07f6",
       "next": "06afec50-98b0-11ea-8d02-0242ac120007-7-5828-a305-b690-b154-f163-0082-63e1",
       "previous": "197c9092-6f15-11ee-89fa-0242ac120005-4-b655-3af2-0974-69ae"
      }
     ],
     "next": "06afec50-98b0-11ea-8d02-0242ac120007-8-5828-a305-b690-b154-f163-0082-63e1-418d",
     "previous": "197c9092-6f15-11ee-89fa-0242ac120005-5-b655-3af2-0974-69ae-2e8d"
    }
   },
   "outputs": [],
   "source": [
    "# nameをキーにしたノード情報生成\n",
    "node_map = {}\n",
    "for node in node_list:\n",
    "    node_map[node['name']] = node"
   ]
  },
  {
   "cell_type": "markdown",
   "metadata": {
    "lc_cell_meme": {
     "current": "06afec50-98b0-11ea-8d02-0242ac120007-8-5828-a305-b690-b154-f163-0082-63e1-418d",
     "history": [
      {
       "current": "06afec50-98b0-11ea-8d02-0242ac120007-1-5828",
       "next": "8a48d590-98a1-11ea-8d02-0242ac120007",
       "previous": "357fc83a-969d-11ea-8d02-0242ac120007"
      },
      {
       "current": "06afec50-98b0-11ea-8d02-0242ac120007-2-5828-a305",
       "next": "8a48d590-98a1-11ea-8d02-0242ac120007-1-1c0f",
       "previous": "357fc83a-969d-11ea-8d02-0242ac120007-1-9a36"
      },
      {
       "current": "06afec50-98b0-11ea-8d02-0242ac120007-3-5828-a305-b690",
       "next": "8a48d590-98a1-11ea-8d02-0242ac120007-2-1c0f-5b25",
       "previous": "357fc83a-969d-11ea-8d02-0242ac120007-2-9a36-95b8"
      },
      {
       "current": "06afec50-98b0-11ea-8d02-0242ac120007-3-5828-a305-b690",
       "next": "8a48d590-98a1-11ea-8d02-0242ac120007-3-1c0f-5b25-d7c0",
       "previous": "357fc83a-969d-11ea-8d02-0242ac120007-3-9a36-95b8-3fa9"
      },
      {
       "current": "06afec50-98b0-11ea-8d02-0242ac120007-3-5828-a305-b690",
       "next": "8a48d590-98a1-11ea-8d02-0242ac120007-3-1c0f-5b25-d7c0",
       "previous": "197c9092-6f15-11ee-89fa-0242ac120005"
      },
      {
       "current": "06afec50-98b0-11ea-8d02-0242ac120007-4-5828-a305-b690-b154",
       "next": "8a48d590-98a1-11ea-8d02-0242ac120007-3-1c0f-5b25-d7c0",
       "previous": "7007693c-7956-11ee-89fa-0242ac120005"
      },
      {
       "current": "06afec50-98b0-11ea-8d02-0242ac120007-5-5828-a305-b690-b154-f163",
       "next": "8a48d590-98a1-11ea-8d02-0242ac120007-4-1c0f-5b25-d7c0-b139",
       "previous": "7007693c-7956-11ee-89fa-0242ac120005-1-e015"
      },
      {
       "current": "06afec50-98b0-11ea-8d02-0242ac120007-6-5828-a305-b690-b154-f163-0082",
       "next": "8a48d590-98a1-11ea-8d02-0242ac120007-5-1c0f-5b25-d7c0-b139-c295",
       "previous": "7007693c-7956-11ee-89fa-0242ac120005-2-e015-8ba5"
      },
      {
       "current": "06afec50-98b0-11ea-8d02-0242ac120007-7-5828-a305-b690-b154-f163-0082-63e1",
       "next": "8a48d590-98a1-11ea-8d02-0242ac120007-6-1c0f-5b25-d7c0-b139-c295-b3a4",
       "previous": "7007693c-7956-11ee-89fa-0242ac120005-3-e015-8ba5-6bf8"
      },
      {
       "current": "06afec50-98b0-11ea-8d02-0242ac120007-8-5828-a305-b690-b154-f163-0082-63e1-418d",
       "next": "8a48d590-98a1-11ea-8d02-0242ac120007-7-1c0f-5b25-d7c0-b139-c295-b3a4-fc1b",
       "previous": "7007693c-7956-11ee-89fa-0242ac120005-4-e015-8ba5-6bf8-54e6"
      }
     ],
     "next": "8a48d590-98a1-11ea-8d02-0242ac120007-8-1c0f-5b25-d7c0-b139-c295-b3a4-fc1b-7adc",
     "previous": "7007693c-7956-11ee-89fa-0242ac120005-5-e015-8ba5-6bf8-54e6-07f6"
    }
   },
   "source": [
    "## 対象Cephノード情報の取得"
   ]
  },
  {
   "cell_type": "markdown",
   "metadata": {
    "lc_cell_meme": {
     "current": "8a48d590-98a1-11ea-8d02-0242ac120007-8-1c0f-5b25-d7c0-b139-c295-b3a4-fc1b-7adc",
     "history": [
      {
       "current": "8a48d590-98a1-11ea-8d02-0242ac120007",
       "next": "8a48d90a-98a1-11ea-8d02-0242ac120007",
       "previous": "357fc83a-969d-11ea-8d02-0242ac120007"
      },
      {
       "current": "8a48d590-98a1-11ea-8d02-0242ac120007",
       "next": "8a48d90a-98a1-11ea-8d02-0242ac120007",
       "previous": "06afec50-98b0-11ea-8d02-0242ac120007"
      },
      {
       "current": "8a48d590-98a1-11ea-8d02-0242ac120007",
       "next": "a85c1dda-959a-11ea-8d02-0242ac120007",
       "previous": "06afec50-98b0-11ea-8d02-0242ac120007"
      },
      {
       "current": "8a48d590-98a1-11ea-8d02-0242ac120007-1-1c0f",
       "next": "e879cdac-95bf-11ea-8d02-0242ac120007",
       "previous": "06afec50-98b0-11ea-8d02-0242ac120007"
      },
      {
       "current": "8a48d590-98a1-11ea-8d02-0242ac120007-2-1c0f-5b25",
       "next": "e879cdac-95bf-11ea-8d02-0242ac120007-1-4a2c",
       "previous": "06afec50-98b0-11ea-8d02-0242ac120007-1-5828"
      },
      {
       "current": "8a48d590-98a1-11ea-8d02-0242ac120007-3-1c0f-5b25-d7c0",
       "next": "e879cdac-95bf-11ea-8d02-0242ac120007-2-4a2c-6b2f",
       "previous": "06afec50-98b0-11ea-8d02-0242ac120007-2-5828-a305"
      },
      {
       "current": "8a48d590-98a1-11ea-8d02-0242ac120007-4-1c0f-5b25-d7c0-b139",
       "next": "e879cdac-95bf-11ea-8d02-0242ac120007-3-4a2c-6b2f-958d",
       "previous": "06afec50-98b0-11ea-8d02-0242ac120007-3-5828-a305-b690"
      },
      {
       "current": "8a48d590-98a1-11ea-8d02-0242ac120007-5-1c0f-5b25-d7c0-b139-c295",
       "next": "e879cdac-95bf-11ea-8d02-0242ac120007-4-4a2c-6b2f-958d-68fa",
       "previous": "06afec50-98b0-11ea-8d02-0242ac120007-4-5828-a305-b690-b154"
      },
      {
       "current": "8a48d590-98a1-11ea-8d02-0242ac120007-6-1c0f-5b25-d7c0-b139-c295-b3a4",
       "next": "e879cdac-95bf-11ea-8d02-0242ac120007-5-4a2c-6b2f-958d-68fa-b44c",
       "previous": "06afec50-98b0-11ea-8d02-0242ac120007-5-5828-a305-b690-b154-f163"
      },
      {
       "current": "8a48d590-98a1-11ea-8d02-0242ac120007-7-1c0f-5b25-d7c0-b139-c295-b3a4-fc1b",
       "next": "e879cdac-95bf-11ea-8d02-0242ac120007-6-4a2c-6b2f-958d-68fa-b44c-b766",
       "previous": "06afec50-98b0-11ea-8d02-0242ac120007-6-5828-a305-b690-b154-f163-0082"
      },
      {
       "current": "8a48d590-98a1-11ea-8d02-0242ac120007-8-1c0f-5b25-d7c0-b139-c295-b3a4-fc1b-7adc",
       "next": "e879cdac-95bf-11ea-8d02-0242ac120007-7-4a2c-6b2f-958d-68fa-b44c-b766-3ae7",
       "previous": "06afec50-98b0-11ea-8d02-0242ac120007-7-5828-a305-b690-b154-f163-0082-63e1"
      }
     ],
     "next": "e879cdac-95bf-11ea-8d02-0242ac120007-8-4a2c-6b2f-958d-68fa-b44c-b766-3ae7-725d",
     "previous": "06afec50-98b0-11ea-8d02-0242ac120007-8-5828-a305-b690-b154-f163-0082-63e1-418d"
    }
   },
   "source": [
    "初期化対象のインスタンス名称を設定する"
   ]
  },
  {
   "cell_type": "code",
   "execution_count": null,
   "metadata": {
    "lc_cell_meme": {
     "current": "e879cdac-95bf-11ea-8d02-0242ac120007-8-4a2c-6b2f-958d-68fa-b44c-b766-3ae7-725d",
     "history": [
      {
       "current": "e879cdac-95bf-11ea-8d02-0242ac120007",
       "next": "81dd4f74-9597-11ea-8d02-0242ac120007",
       "previous": "d1bcb8ac-9599-11ea-8d02-0242ac120007"
      },
      {
       "current": "e879cdac-95bf-11ea-8d02-0242ac120007",
       "next": "81dd4f74-9597-11ea-8d02-0242ac120007",
       "previous": "a85c1dda-959a-11ea-8d02-0242ac120007"
      },
      {
       "current": "e879cdac-95bf-11ea-8d02-0242ac120007",
       "next": "8a48d90a-98a1-11ea-8d02-0242ac120007",
       "previous": "a85c1dda-959a-11ea-8d02-0242ac120007"
      },
      {
       "current": "e879cdac-95bf-11ea-8d02-0242ac120007-1-4a2c",
       "next": "8a48d90a-98a1-11ea-8d02-0242ac120007",
       "previous": "8a48d590-98a1-11ea-8d02-0242ac120007"
      },
      {
       "current": "e879cdac-95bf-11ea-8d02-0242ac120007-2-4a2c-6b2f",
       "next": "8a48d90a-98a1-11ea-8d02-0242ac120007-1-0ebc",
       "previous": "8a48d590-98a1-11ea-8d02-0242ac120007-1-1c0f"
      },
      {
       "current": "e879cdac-95bf-11ea-8d02-0242ac120007-2-4a2c-6b2f",
       "next": "8a48d90a-98a1-11ea-8d02-0242ac120007-2-0ebc-93ac",
       "previous": "8a48d590-98a1-11ea-8d02-0242ac120007-2-1c0f-5b25"
      },
      {
       "current": "e879cdac-95bf-11ea-8d02-0242ac120007-3-4a2c-6b2f-958d",
       "next": "809aa1e6-def9-11eb-b29f-0242ac120008",
       "previous": "8a48d590-98a1-11ea-8d02-0242ac120007-2-1c0f-5b25"
      },
      {
       "current": "e879cdac-95bf-11ea-8d02-0242ac120007-4-4a2c-6b2f-958d-68fa",
       "next": "809aa1e6-def9-11eb-b29f-0242ac120008-1-b49e",
       "previous": "8a48d590-98a1-11ea-8d02-0242ac120007-3-1c0f-5b25-d7c0"
      },
      {
       "current": "e879cdac-95bf-11ea-8d02-0242ac120007-5-4a2c-6b2f-958d-68fa-b44c",
       "next": "809aa1e6-def9-11eb-b29f-0242ac120008-2-b49e-e174",
       "previous": "8a48d590-98a1-11ea-8d02-0242ac120007-4-1c0f-5b25-d7c0-b139"
      },
      {
       "current": "e879cdac-95bf-11ea-8d02-0242ac120007-6-4a2c-6b2f-958d-68fa-b44c-b766",
       "next": "809aa1e6-def9-11eb-b29f-0242ac120008-3-b49e-e174-c3d3",
       "previous": "8a48d590-98a1-11ea-8d02-0242ac120007-5-1c0f-5b25-d7c0-b139-c295"
      },
      {
       "current": "e879cdac-95bf-11ea-8d02-0242ac120007-7-4a2c-6b2f-958d-68fa-b44c-b766-3ae7",
       "next": "809aa1e6-def9-11eb-b29f-0242ac120008-4-b49e-e174-c3d3-2f80",
       "previous": "8a48d590-98a1-11ea-8d02-0242ac120007-6-1c0f-5b25-d7c0-b139-c295-b3a4"
      },
      {
       "current": "e879cdac-95bf-11ea-8d02-0242ac120007-8-4a2c-6b2f-958d-68fa-b44c-b766-3ae7-725d",
       "next": "809aa1e6-def9-11eb-b29f-0242ac120008-5-b49e-e174-c3d3-2f80-bd0b",
       "previous": "8a48d590-98a1-11ea-8d02-0242ac120007-7-1c0f-5b25-d7c0-b139-c295-b3a4-fc1b"
      }
     ],
     "next": "809aa1e6-def9-11eb-b29f-0242ac120008-6-b49e-e174-c3d3-2f80-bd0b-6342",
     "previous": "8a48d590-98a1-11ea-8d02-0242ac120007-8-1c0f-5b25-d7c0-b139-c295-b3a4-fc1b-7adc"
    },
    "scrolled": true
   },
   "outputs": [],
   "source": [
    "# 初期化対象のインスタンス名称を設定する\n",
    "raise Exception('この先手作業が必要です')"
   ]
  },
  {
   "cell_type": "markdown",
   "metadata": {
    "lc_cell_meme": {
     "current": "809aa1e6-def9-11eb-b29f-0242ac120008-6-b49e-e174-c3d3-2f80-bd0b-6342",
     "history": [
      {
       "current": "809aa1e6-def9-11eb-b29f-0242ac120008-1-b49e",
       "next": "8a48d90a-98a1-11ea-8d02-0242ac120007-2-0ebc-93ac",
       "previous": "e879cdac-95bf-11ea-8d02-0242ac120007-2-4a2c-6b2f"
      },
      {
       "current": "809aa1e6-def9-11eb-b29f-0242ac120008-1-b49e",
       "next": "8a48d90a-98a1-11ea-8d02-0242ac120007-3-0ebc-93ac-04b4",
       "previous": "e879cdac-95bf-11ea-8d02-0242ac120007-3-4a2c-6b2f-958d"
      },
      {
       "current": "809aa1e6-def9-11eb-b29f-0242ac120008-2-b49e-e174",
       "next": "bb3e251e-61bc-11ee-89fa-0242ac120005",
       "previous": "e879cdac-95bf-11ea-8d02-0242ac120007-3-4a2c-6b2f-958d"
      },
      {
       "current": "809aa1e6-def9-11eb-b29f-0242ac120008-3-b49e-e174-c3d3",
       "next": "bb3e251e-61bc-11ee-89fa-0242ac120005-1-90fb",
       "previous": "e879cdac-95bf-11ea-8d02-0242ac120007-4-4a2c-6b2f-958d-68fa"
      },
      {
       "current": "809aa1e6-def9-11eb-b29f-0242ac120008-4-b49e-e174-c3d3-2f80",
       "next": "bb3e251e-61bc-11ee-89fa-0242ac120005-2-90fb-c553",
       "previous": "e879cdac-95bf-11ea-8d02-0242ac120007-5-4a2c-6b2f-958d-68fa-b44c"
      },
      {
       "current": "809aa1e6-def9-11eb-b29f-0242ac120008-5-b49e-e174-c3d3-2f80-bd0b",
       "next": "bb3e251e-61bc-11ee-89fa-0242ac120005-3-90fb-c553-18a9",
       "previous": "e879cdac-95bf-11ea-8d02-0242ac120007-6-4a2c-6b2f-958d-68fa-b44c-b766"
      },
      {
       "current": "809aa1e6-def9-11eb-b29f-0242ac120008-6-b49e-e174-c3d3-2f80-bd0b-6342",
       "next": "bb3e251e-61bc-11ee-89fa-0242ac120005-4-90fb-c553-18a9-3a0c",
       "previous": "e879cdac-95bf-11ea-8d02-0242ac120007-7-4a2c-6b2f-958d-68fa-b44c-b766-3ae7"
      }
     ],
     "next": "bb3e251e-61bc-11ee-89fa-0242ac120005-5-90fb-c553-18a9-3a0c-5a51",
     "previous": "e879cdac-95bf-11ea-8d02-0242ac120007-8-4a2c-6b2f-958d-68fa-b44c-b766-3ae7-725d"
    }
   },
   "source": [
    "### adminノードの指定"
   ]
  },
  {
   "cell_type": "code",
   "execution_count": null,
   "metadata": {
    "lc_cell_meme": {
     "current": "bb3e251e-61bc-11ee-89fa-0242ac120005-5-90fb-c553-18a9-3a0c-5a51",
     "history": [
      {
       "current": "bb3e251e-61bc-11ee-89fa-0242ac120005",
       "next": "8a48dae0-98a1-11ea-8d02-0242ac120007-3-4da2-9c77-127e",
       "previous": "8a48d90a-98a1-11ea-8d02-0242ac120007-3-0ebc-93ac-04b4"
      },
      {
       "current": "bb3e251e-61bc-11ee-89fa-0242ac120005",
       "next": "8a48dae0-98a1-11ea-8d02-0242ac120007-3-4da2-9c77-127e",
       "previous": "809aa1e6-def9-11eb-b29f-0242ac120008-1-b49e"
      },
      {
       "current": "bb3e251e-61bc-11ee-89fa-0242ac120005",
       "next": "a2611ada-7876-11ee-89fa-0242ac120005",
       "previous": "809aa1e6-def9-11eb-b29f-0242ac120008-1-b49e"
      },
      {
       "current": "bb3e251e-61bc-11ee-89fa-0242ac120005-1-90fb",
       "next": "8a48dae0-98a1-11ea-8d02-0242ac120007-3-4da2-9c77-127e",
       "previous": "809aa1e6-def9-11eb-b29f-0242ac120008-1-b49e"
      },
      {
       "current": "bb3e251e-61bc-11ee-89fa-0242ac120005-2-90fb-c553",
       "next": "8a48dae0-98a1-11ea-8d02-0242ac120007-4-4da2-9c77-127e-0b7c",
       "previous": "809aa1e6-def9-11eb-b29f-0242ac120008-2-b49e-e174"
      },
      {
       "current": "bb3e251e-61bc-11ee-89fa-0242ac120005-3-90fb-c553-18a9",
       "next": "8a48dae0-98a1-11ea-8d02-0242ac120007-5-4da2-9c77-127e-0b7c-1c4f",
       "previous": "809aa1e6-def9-11eb-b29f-0242ac120008-3-b49e-e174-c3d3"
      },
      {
       "current": "bb3e251e-61bc-11ee-89fa-0242ac120005-4-90fb-c553-18a9-3a0c",
       "next": "8a48dae0-98a1-11ea-8d02-0242ac120007-6-4da2-9c77-127e-0b7c-1c4f-d98c",
       "previous": "809aa1e6-def9-11eb-b29f-0242ac120008-4-b49e-e174-c3d3-2f80"
      },
      {
       "current": "bb3e251e-61bc-11ee-89fa-0242ac120005-5-90fb-c553-18a9-3a0c-5a51",
       "next": "8a48dae0-98a1-11ea-8d02-0242ac120007-7-4da2-9c77-127e-0b7c-1c4f-d98c-a250",
       "previous": "809aa1e6-def9-11eb-b29f-0242ac120008-5-b49e-e174-c3d3-2f80-bd0b"
      }
     ],
     "next": "8a48dae0-98a1-11ea-8d02-0242ac120007-8-4da2-9c77-127e-0b7c-1c4f-d98c-a250-7a37",
     "previous": "809aa1e6-def9-11eb-b29f-0242ac120008-6-b49e-e174-c3d3-2f80-bd0b-6342"
    }
   },
   "outputs": [],
   "source": [
    "bootstrap_node_name = 'ceph-xxx-node-001'"
   ]
  },
  {
   "cell_type": "code",
   "execution_count": null,
   "metadata": {
    "lc_cell_meme": {
     "current": "8a48dae0-98a1-11ea-8d02-0242ac120007-8-4da2-9c77-127e-0b7c-1c4f-d98c-a250-7a37",
     "history": [
      {
       "current": "8a48dae0-98a1-11ea-8d02-0242ac120007-1-4da2",
       "next": "35c339aa-55a3-11e7-b0b2-00163e9c0e35",
       "previous": "8a48d90a-98a1-11ea-8d02-0242ac120007"
      },
      {
       "current": "8a48dae0-98a1-11ea-8d02-0242ac120007-2-4da2-9c77",
       "next": "35c339aa-55a3-11e7-b0b2-00163e9c0e35-1-eee2",
       "previous": "8a48d90a-98a1-11ea-8d02-0242ac120007-1-0ebc"
      },
      {
       "current": "8a48dae0-98a1-11ea-8d02-0242ac120007-2-4da2-9c77",
       "next": "35c339aa-55a3-11e7-b0b2-00163e9c0e35-2-eee2-af6c",
       "previous": "8a48d90a-98a1-11ea-8d02-0242ac120007-2-0ebc-93ac"
      },
      {
       "current": "8a48dae0-98a1-11ea-8d02-0242ac120007-2-4da2-9c77",
       "next": "35c362a4-55a3-11e7-b0b2-00163e9c0e35-2-3f0a-3633",
       "previous": "8a48d90a-98a1-11ea-8d02-0242ac120007-2-0ebc-93ac"
      },
      {
       "current": "8a48dae0-98a1-11ea-8d02-0242ac120007-2-4da2-9c77",
       "next": "1afe7a3e-def8-11eb-b29f-0242ac120008",
       "previous": "8a48d90a-98a1-11ea-8d02-0242ac120007-2-0ebc-93ac"
      },
      {
       "current": "8a48dae0-98a1-11ea-8d02-0242ac120007-3-4da2-9c77-127e",
       "next": "35c35a52-55a3-11e7-b0b2-00163e9c0e35-2-ed71-9007",
       "previous": "8a48d90a-98a1-11ea-8d02-0242ac120007-2-0ebc-93ac"
      },
      {
       "current": "8a48dae0-98a1-11ea-8d02-0242ac120007-3-4da2-9c77-127e",
       "next": "35c35a52-55a3-11e7-b0b2-00163e9c0e35-3-ed71-9007-f930",
       "previous": "8a48d90a-98a1-11ea-8d02-0242ac120007-3-0ebc-93ac-04b4"
      },
      {
       "current": "8a48dae0-98a1-11ea-8d02-0242ac120007-3-4da2-9c77-127e",
       "next": "2c2cd6ae-61bc-11ee-89fa-0242ac120005",
       "previous": "8a48d90a-98a1-11ea-8d02-0242ac120007-3-0ebc-93ac-04b4"
      },
      {
       "current": "8a48dae0-98a1-11ea-8d02-0242ac120007-3-4da2-9c77-127e",
       "next": "2c2cd6ae-61bc-11ee-89fa-0242ac120005",
       "previous": "bb3e251e-61bc-11ee-89fa-0242ac120005"
      },
      {
       "current": "8a48dae0-98a1-11ea-8d02-0242ac120007-3-4da2-9c77-127e",
       "next": "35c35f52-55a3-11e7-b0b2-00163e9c0e35-3-e2de-8a27-98e3",
       "previous": "bb3e251e-61bc-11ee-89fa-0242ac120005"
      },
      {
       "current": "8a48dae0-98a1-11ea-8d02-0242ac120007-3-4da2-9c77-127e",
       "next": "a2611ca6-7876-11ee-89fa-0242ac120005",
       "previous": "a2611ada-7876-11ee-89fa-0242ac120005"
      },
      {
       "current": "8a48dae0-98a1-11ea-8d02-0242ac120007-3-4da2-9c77-127e",
       "next": "2dd5493e-788f-11ee-89fa-0242ac120005",
       "previous": "bb3e251e-61bc-11ee-89fa-0242ac120005"
      },
      {
       "current": "8a48dae0-98a1-11ea-8d02-0242ac120007-4-4da2-9c77-127e-0b7c",
       "next": "35c35f52-55a3-11e7-b0b2-00163e9c0e35-3-e2de-8a27-98e3",
       "previous": "bb3e251e-61bc-11ee-89fa-0242ac120005"
      },
      {
       "current": "8a48dae0-98a1-11ea-8d02-0242ac120007-5-4da2-9c77-127e-0b7c-1c4f",
       "next": "35c35f52-55a3-11e7-b0b2-00163e9c0e35-4-e2de-8a27-98e3-7c2c",
       "previous": "bb3e251e-61bc-11ee-89fa-0242ac120005-1-90fb"
      },
      {
       "current": "8a48dae0-98a1-11ea-8d02-0242ac120007-6-4da2-9c77-127e-0b7c-1c4f-d98c",
       "next": "35c35f52-55a3-11e7-b0b2-00163e9c0e35-5-e2de-8a27-98e3-7c2c-9f97",
       "previous": "bb3e251e-61bc-11ee-89fa-0242ac120005-2-90fb-c553"
      },
      {
       "current": "8a48dae0-98a1-11ea-8d02-0242ac120007-7-4da2-9c77-127e-0b7c-1c4f-d98c-a250",
       "next": "35c35f52-55a3-11e7-b0b2-00163e9c0e35-6-e2de-8a27-98e3-7c2c-9f97-5773",
       "previous": "bb3e251e-61bc-11ee-89fa-0242ac120005-3-90fb-c553-18a9"
      },
      {
       "current": "8a48dae0-98a1-11ea-8d02-0242ac120007-8-4da2-9c77-127e-0b7c-1c4f-d98c-a250-7a37",
       "next": "35c35f52-55a3-11e7-b0b2-00163e9c0e35-7-e2de-8a27-98e3-7c2c-9f97-5773-9cfd",
       "previous": "bb3e251e-61bc-11ee-89fa-0242ac120005-4-90fb-c553-18a9-3a0c"
      }
     ],
     "next": "35c35f52-55a3-11e7-b0b2-00163e9c0e35-8-e2de-8a27-98e3-7c2c-9f97-5773-9cfd-6b9b",
     "previous": "bb3e251e-61bc-11ee-89fa-0242ac120005-5-90fb-c553-18a9-3a0c-5a51"
    }
   },
   "outputs": [],
   "source": [
    "bootstrap_node = node_map.get(bootstrap_node_name, None)\n",
    "\n",
    "assert (bootstrap_node is not None), \"指定されたBootstrap nodeが存在しません。\"\n",
    "print(bootstrap_node)"
   ]
  },
  {
   "cell_type": "markdown",
   "metadata": {
    "lc_cell_meme": {
     "current": "35c35f52-55a3-11e7-b0b2-00163e9c0e35-8-e2de-8a27-98e3-7c2c-9f97-5773-9cfd-6b9b",
     "history": [
      {
       "current": "35c35f52-55a3-11e7-b0b2-00163e9c0e35",
       "next": "35c360f6-55a3-11e7-b0b2-00163e9c0e35",
       "previous": "35c35dae-55a3-11e7-b0b2-00163e9c0e35"
      },
      {
       "current": "35c35f52-55a3-11e7-b0b2-00163e9c0e35-1-e2de",
       "next": "a33430b0-9327-11ea-8d02-0242ac120007",
       "previous": "35c35dae-55a3-11e7-b0b2-00163e9c0e35"
      },
      {
       "current": "35c35f52-55a3-11e7-b0b2-00163e9c0e35-2-e2de-8a27",
       "next": "a33430b0-9327-11ea-8d02-0242ac120007-1-3202",
       "previous": "35c35dae-55a3-11e7-b0b2-00163e9c0e35-1-7091"
      },
      {
       "current": "35c35f52-55a3-11e7-b0b2-00163e9c0e35-3-e2de-8a27-98e3",
       "next": "a33430b0-9327-11ea-8d02-0242ac120007-2-3202-0bdc",
       "previous": "35c35dae-55a3-11e7-b0b2-00163e9c0e35-2-7091-7055"
      },
      {
       "current": "35c35f52-55a3-11e7-b0b2-00163e9c0e35-3-e2de-8a27-98e3",
       "next": "a33430b0-9327-11ea-8d02-0242ac120007-3-3202-0bdc-fd62",
       "previous": "35c35dae-55a3-11e7-b0b2-00163e9c0e35-3-7091-7055-1fd7"
      },
      {
       "current": "35c35f52-55a3-11e7-b0b2-00163e9c0e35-3-e2de-8a27-98e3",
       "next": "a33430b0-9327-11ea-8d02-0242ac120007-3-3202-0bdc-fd62",
       "previous": "35c35a52-55a3-11e7-b0b2-00163e9c0e35-3-ed71-9007-f930"
      },
      {
       "current": "35c35f52-55a3-11e7-b0b2-00163e9c0e35-3-e2de-8a27-98e3",
       "next": "a33430b0-9327-11ea-8d02-0242ac120007-3-3202-0bdc-fd62",
       "previous": "2c2cd6ae-61bc-11ee-89fa-0242ac120005"
      },
      {
       "current": "35c35f52-55a3-11e7-b0b2-00163e9c0e35-3-e2de-8a27-98e3",
       "next": "a33430b0-9327-11ea-8d02-0242ac120007-3-3202-0bdc-fd62",
       "previous": "8a48dae0-98a1-11ea-8d02-0242ac120007-3-4da2-9c77-127e"
      },
      {
       "current": "35c35f52-55a3-11e7-b0b2-00163e9c0e35-3-e2de-8a27-98e3",
       "next": "a33430b0-9327-11ea-8d02-0242ac120007-3-3202-0bdc-fd62",
       "previous": "a2611ca6-7876-11ee-89fa-0242ac120005"
      },
      {
       "current": "35c35f52-55a3-11e7-b0b2-00163e9c0e35-4-e2de-8a27-98e3-7c2c",
       "next": "a33430b0-9327-11ea-8d02-0242ac120007-3-3202-0bdc-fd62",
       "previous": "8a48dae0-98a1-11ea-8d02-0242ac120007-3-4da2-9c77-127e"
      },
      {
       "current": "35c35f52-55a3-11e7-b0b2-00163e9c0e35-5-e2de-8a27-98e3-7c2c-9f97",
       "next": "a33430b0-9327-11ea-8d02-0242ac120007-4-3202-0bdc-fd62-7815",
       "previous": "8a48dae0-98a1-11ea-8d02-0242ac120007-4-4da2-9c77-127e-0b7c"
      },
      {
       "current": "35c35f52-55a3-11e7-b0b2-00163e9c0e35-6-e2de-8a27-98e3-7c2c-9f97-5773",
       "next": "a33430b0-9327-11ea-8d02-0242ac120007-5-3202-0bdc-fd62-7815-4148",
       "previous": "8a48dae0-98a1-11ea-8d02-0242ac120007-5-4da2-9c77-127e-0b7c-1c4f"
      },
      {
       "current": "35c35f52-55a3-11e7-b0b2-00163e9c0e35-7-e2de-8a27-98e3-7c2c-9f97-5773-9cfd",
       "next": "a33430b0-9327-11ea-8d02-0242ac120007-6-3202-0bdc-fd62-7815-4148-f142",
       "previous": "8a48dae0-98a1-11ea-8d02-0242ac120007-6-4da2-9c77-127e-0b7c-1c4f-d98c"
      },
      {
       "current": "35c35f52-55a3-11e7-b0b2-00163e9c0e35-8-e2de-8a27-98e3-7c2c-9f97-5773-9cfd-6b9b",
       "next": "a33430b0-9327-11ea-8d02-0242ac120007-7-3202-0bdc-fd62-7815-4148-f142-48b5",
       "previous": "8a48dae0-98a1-11ea-8d02-0242ac120007-7-4da2-9c77-127e-0b7c-1c4f-d98c-a250"
      }
     ],
     "next": "a33430b0-9327-11ea-8d02-0242ac120007-8-3202-0bdc-fd62-7815-4148-f142-48b5-c0e1",
     "previous": "8a48dae0-98a1-11ea-8d02-0242ac120007-8-4da2-9c77-127e-0b7c-1c4f-d98c-a250-7a37"
    }
   },
   "source": [
    "# Inventoryファイルを生成する。"
   ]
  },
  {
   "cell_type": "code",
   "execution_count": null,
   "metadata": {
    "lc_cell_meme": {
     "current": "a33430b0-9327-11ea-8d02-0242ac120007-8-3202-0bdc-fd62-7815-4148-f142-48b5-c0e1",
     "history": [
      {
       "current": "a33430b0-9327-11ea-8d02-0242ac120007",
       "next": "35c360f6-55a3-11e7-b0b2-00163e9c0e35",
       "previous": "35c35f52-55a3-11e7-b0b2-00163e9c0e35"
      },
      {
       "current": "a33430b0-9327-11ea-8d02-0242ac120007-1-3202",
       "next": "9c0b8624-959f-11ea-8d02-0242ac120007",
       "previous": "35c35f52-55a3-11e7-b0b2-00163e9c0e35"
      },
      {
       "current": "a33430b0-9327-11ea-8d02-0242ac120007-2-3202-0bdc",
       "next": "9c0b8624-959f-11ea-8d02-0242ac120007-1-8098",
       "previous": "35c35f52-55a3-11e7-b0b2-00163e9c0e35-1-e2de"
      },
      {
       "current": "a33430b0-9327-11ea-8d02-0242ac120007-2-3202-0bdc",
       "next": "9c0b8624-959f-11ea-8d02-0242ac120007-2-8098-a371",
       "previous": "35c35f52-55a3-11e7-b0b2-00163e9c0e35-2-e2de-8a27"
      },
      {
       "current": "a33430b0-9327-11ea-8d02-0242ac120007-3-3202-0bdc-fd62",
       "next": "27f1be96-f4f0-11eb-b29f-0242ac120008",
       "previous": "35c35f52-55a3-11e7-b0b2-00163e9c0e35-2-e2de-8a27"
      },
      {
       "current": "a33430b0-9327-11ea-8d02-0242ac120007-3-3202-0bdc-fd62",
       "next": "27f1be96-f4f0-11eb-b29f-0242ac120008-1-0b6c",
       "previous": "35c35f52-55a3-11e7-b0b2-00163e9c0e35-3-e2de-8a27-98e3"
      },
      {
       "current": "a33430b0-9327-11ea-8d02-0242ac120007-4-3202-0bdc-fd62-7815",
       "next": "73b1e49c-61bc-11ee-89fa-0242ac120005",
       "previous": "35c35f52-55a3-11e7-b0b2-00163e9c0e35-3-e2de-8a27-98e3"
      },
      {
       "current": "a33430b0-9327-11ea-8d02-0242ac120007-5-3202-0bdc-fd62-7815-4148",
       "next": "73b1e49c-61bc-11ee-89fa-0242ac120005-1-db45",
       "previous": "35c35f52-55a3-11e7-b0b2-00163e9c0e35-4-e2de-8a27-98e3-7c2c"
      },
      {
       "current": "a33430b0-9327-11ea-8d02-0242ac120007-6-3202-0bdc-fd62-7815-4148-f142",
       "next": "73b1e49c-61bc-11ee-89fa-0242ac120005-2-db45-381d",
       "previous": "35c35f52-55a3-11e7-b0b2-00163e9c0e35-5-e2de-8a27-98e3-7c2c-9f97"
      },
      {
       "current": "a33430b0-9327-11ea-8d02-0242ac120007-7-3202-0bdc-fd62-7815-4148-f142-48b5",
       "next": "73b1e49c-61bc-11ee-89fa-0242ac120005-3-db45-381d-4bb1",
       "previous": "35c35f52-55a3-11e7-b0b2-00163e9c0e35-6-e2de-8a27-98e3-7c2c-9f97-5773"
      },
      {
       "current": "a33430b0-9327-11ea-8d02-0242ac120007-8-3202-0bdc-fd62-7815-4148-f142-48b5-c0e1",
       "next": "73b1e49c-61bc-11ee-89fa-0242ac120005-4-db45-381d-4bb1-89ea",
       "previous": "35c35f52-55a3-11e7-b0b2-00163e9c0e35-7-e2de-8a27-98e3-7c2c-9f97-5773-9cfd"
      }
     ],
     "next": "73b1e49c-61bc-11ee-89fa-0242ac120005-5-db45-381d-4bb1-89ea-391e",
     "previous": "35c35f52-55a3-11e7-b0b2-00163e9c0e35-8-e2de-8a27-98e3-7c2c-9f97-5773-9cfd-6b9b"
    }
   },
   "outputs": [],
   "source": [
    "node_user='xxxxx'\n",
    "cephadmin_user='cephadmin'\n",
    "node_key='~/.ssh/id_ras'\n",
    "proxy_user='xxxxx'\n",
    "proxy_key='~/.ssh/id_ras'"
   ]
  },
  {
   "cell_type": "code",
   "execution_count": null,
   "metadata": {
    "lc_cell_meme": {
     "current": "73b1e49c-61bc-11ee-89fa-0242ac120005-5-db45-381d-4bb1-89ea-391e",
     "history": [
      {
       "current": "73b1e49c-61bc-11ee-89fa-0242ac120005",
       "next": "35c360f6-55a3-11e7-b0b2-00163e9c0e35-3-4a79-f9ba-754f",
       "previous": "9c0b8624-959f-11ea-8d02-0242ac120007-3-8098-a371-0b4a"
      },
      {
       "current": "73b1e49c-61bc-11ee-89fa-0242ac120005-1-db45",
       "next": "35c360f6-55a3-11e7-b0b2-00163e9c0e35-3-4a79-f9ba-754f",
       "previous": "a33430b0-9327-11ea-8d02-0242ac120007-3-3202-0bdc-fd62"
      },
      {
       "current": "73b1e49c-61bc-11ee-89fa-0242ac120005-2-db45-381d",
       "next": "35c360f6-55a3-11e7-b0b2-00163e9c0e35-4-4a79-f9ba-754f-8ae2",
       "previous": "a33430b0-9327-11ea-8d02-0242ac120007-4-3202-0bdc-fd62-7815"
      },
      {
       "current": "73b1e49c-61bc-11ee-89fa-0242ac120005-3-db45-381d-4bb1",
       "next": "35c360f6-55a3-11e7-b0b2-00163e9c0e35-5-4a79-f9ba-754f-8ae2-ef9d",
       "previous": "a33430b0-9327-11ea-8d02-0242ac120007-5-3202-0bdc-fd62-7815-4148"
      },
      {
       "current": "73b1e49c-61bc-11ee-89fa-0242ac120005-4-db45-381d-4bb1-89ea",
       "next": "35c360f6-55a3-11e7-b0b2-00163e9c0e35-6-4a79-f9ba-754f-8ae2-ef9d-fcd6",
       "previous": "a33430b0-9327-11ea-8d02-0242ac120007-6-3202-0bdc-fd62-7815-4148-f142"
      },
      {
       "current": "73b1e49c-61bc-11ee-89fa-0242ac120005-5-db45-381d-4bb1-89ea-391e",
       "next": "35c360f6-55a3-11e7-b0b2-00163e9c0e35-7-4a79-f9ba-754f-8ae2-ef9d-fcd6-6b8d",
       "previous": "a33430b0-9327-11ea-8d02-0242ac120007-7-3202-0bdc-fd62-7815-4148-f142-48b5"
      }
     ],
     "next": "35c360f6-55a3-11e7-b0b2-00163e9c0e35-8-4a79-f9ba-754f-8ae2-ef9d-fcd6-6b8d-cda0",
     "previous": "a33430b0-9327-11ea-8d02-0242ac120007-8-3202-0bdc-fd62-7815-4148-f142-48b5-c0e1"
    }
   },
   "outputs": [],
   "source": [
    "bootstrap_ip = bootstrap_node['prov_ip']"
   ]
  },
  {
   "cell_type": "code",
   "execution_count": null,
   "metadata": {
    "ExecuteTime": {
     "end_time": "2017-06-29T08:50:39.909299Z",
     "start_time": "2017-06-29T08:50:39.762658Z"
    },
    "lc_cell_meme": {
     "current": "35c360f6-55a3-11e7-b0b2-00163e9c0e35-8-4a79-f9ba-754f-8ae2-ef9d-fcd6-6b8d-cda0",
     "history": [
      {
       "current": "35c360f6-55a3-11e7-b0b2-00163e9c0e35",
       "next": "35c362a4-55a3-11e7-b0b2-00163e9c0e35",
       "previous": "35c35f52-55a3-11e7-b0b2-00163e9c0e35"
      },
      {
       "current": "35c360f6-55a3-11e7-b0b2-00163e9c0e35",
       "next": "35c362a4-55a3-11e7-b0b2-00163e9c0e35",
       "previous": "a33430b0-9327-11ea-8d02-0242ac120007"
      },
      {
       "current": "35c360f6-55a3-11e7-b0b2-00163e9c0e35-1-4a79",
       "next": "35c362a4-55a3-11e7-b0b2-00163e9c0e35",
       "previous": "9c0b88cc-959f-11ea-8d02-0242ac120007"
      },
      {
       "current": "35c360f6-55a3-11e7-b0b2-00163e9c0e35-2-4a79-f9ba",
       "next": "35c362a4-55a3-11e7-b0b2-00163e9c0e35-1-3f0a",
       "previous": "9c0b88cc-959f-11ea-8d02-0242ac120007-1-b077"
      },
      {
       "current": "35c360f6-55a3-11e7-b0b2-00163e9c0e35-2-4a79-f9ba",
       "next": "35c362a4-55a3-11e7-b0b2-00163e9c0e35-2-3f0a-3633",
       "previous": "9c0b88cc-959f-11ea-8d02-0242ac120007-2-b077-046d"
      },
      {
       "current": "35c360f6-55a3-11e7-b0b2-00163e9c0e35-2-4a79-f9ba",
       "next": "7dae8996-9686-11ea-8d02-0242ac120007-2-20c5-a0b0",
       "previous": "9c0b88cc-959f-11ea-8d02-0242ac120007-2-b077-046d"
      },
      {
       "current": "35c360f6-55a3-11e7-b0b2-00163e9c0e35-2-4a79-f9ba",
       "next": "35c362a4-55a3-11e7-b0b2-00163e9c0e35-2-89a7-98f2",
       "previous": "9c0b88cc-959f-11ea-8d02-0242ac120007-2-b077-046d"
      },
      {
       "current": "35c360f6-55a3-11e7-b0b2-00163e9c0e35-3-4a79-f9ba-754f",
       "next": "35c362a4-55a3-11e7-b0b2-00163e9c0e35-2-89a7-98f2",
       "previous": "9c0b8624-959f-11ea-8d02-0242ac120007-2-8098-a371"
      },
      {
       "current": "35c360f6-55a3-11e7-b0b2-00163e9c0e35-3-4a79-f9ba-754f",
       "next": "35c362a4-55a3-11e7-b0b2-00163e9c0e35-3-89a7-98f2-5cf2",
       "previous": "9c0b8624-959f-11ea-8d02-0242ac120007-3-8098-a371-0b4a"
      },
      {
       "current": "35c360f6-55a3-11e7-b0b2-00163e9c0e35-4-4a79-f9ba-754f-8ae2",
       "next": "35c362a4-55a3-11e7-b0b2-00163e9c0e35-3-89a7-98f2-5cf2",
       "previous": "73b1e49c-61bc-11ee-89fa-0242ac120005"
      },
      {
       "current": "35c360f6-55a3-11e7-b0b2-00163e9c0e35-5-4a79-f9ba-754f-8ae2-ef9d",
       "next": "35c362a4-55a3-11e7-b0b2-00163e9c0e35-4-89a7-98f2-5cf2-7ed8",
       "previous": "73b1e49c-61bc-11ee-89fa-0242ac120005-1-db45"
      },
      {
       "current": "35c360f6-55a3-11e7-b0b2-00163e9c0e35-6-4a79-f9ba-754f-8ae2-ef9d-fcd6",
       "next": "35c362a4-55a3-11e7-b0b2-00163e9c0e35-5-89a7-98f2-5cf2-7ed8-5899",
       "previous": "73b1e49c-61bc-11ee-89fa-0242ac120005-2-db45-381d"
      },
      {
       "current": "35c360f6-55a3-11e7-b0b2-00163e9c0e35-6-4a79-f9ba-754f-8ae2-ef9d-fcd6",
       "next": "35c362a4-55a3-11e7-b0b2-00163e9c0e35-6-89a7-98f2-5cf2-7ed8-5899-920d",
       "previous": "73b1e49c-61bc-11ee-89fa-0242ac120005-3-db45-381d-4bb1"
      },
      {
       "current": "35c360f6-55a3-11e7-b0b2-00163e9c0e35-7-4a79-f9ba-754f-8ae2-ef9d-fcd6-6b8d",
       "next": "2c4fd8e0-230c-11ef-ad2f-0242ac120005",
       "previous": "73b1e49c-61bc-11ee-89fa-0242ac120005-3-db45-381d-4bb1"
      },
      {
       "current": "35c360f6-55a3-11e7-b0b2-00163e9c0e35-8-4a79-f9ba-754f-8ae2-ef9d-fcd6-6b8d-cda0",
       "next": "2c4fd8e0-230c-11ef-ad2f-0242ac120005-1-6322",
       "previous": "73b1e49c-61bc-11ee-89fa-0242ac120005-4-db45-381d-4bb1-89ea"
      }
     ],
     "next": "2c4fd8e0-230c-11ef-ad2f-0242ac120005-2-6322-eb61",
     "previous": "73b1e49c-61bc-11ee-89fa-0242ac120005-5-db45-381d-4bb1-89ea-391e"
    },
    "run_control": {
     "frozen": true
    },
    "scrolled": false
   },
   "outputs": [],
   "source": [
    "import os\n",
    "\n",
    "with open( os.path.join(temp_dir, \"hosts\"), 'w') as f:\n",
    "\n",
    "    f.write('''[ceph_admin]\n",
    "{ceph_admin_ip} ansible_user={proxy_user} ansible_ssh_private_key_file={proxy_key} ansible_python_interpreter=/usr/bin/python3\n",
    "'''.format(ceph_admin_ip=ceph_admin_ip, proxy_user=proxy_user, proxy_key=proxy_key, bootstrap_ip=bootstrap_ip))\n",
    "\n",
    "    f.write('''[bootstrap]\n",
    "{node_ip} ansible_user={node_user} ansible_ssh_private_key_file={node_key} ansible_ssh_common_args='-o ControlMaster=auto -o StrictHostKeyChecking=no -o ControlPersist=30m -o ProxyCommand=\"ssh -W %h:%p -i {proxy_key} -q {proxy_user}@{ceph_admin_ip}\"' ansible_python_interpreter=/usr/bin/python3\n",
    "[ceph_nodes]\n",
    "'''.format(ceph_admin_ip=ceph_admin_ip, node_ip=bootstrap_ip, node_key=node_key,\n",
    "           node_user=node_user, proxy_user=proxy_user, proxy_key=proxy_key))\n",
    "    \n",
    "    for node in node_list:\n",
    "        node_ip = node['prov_ip']\n",
    "        f.write('''{node_ip} ansible_user={node_user} ansible_ssh_private_key_file={node_key} ansible_ssh_common_args='-o ControlMaster=auto -o StrictHostKeyChecking=no -o ControlPersist=30m -o ProxyCommand=\"ssh -W %h:%p -i {proxy_key} -q {proxy_user}@{ceph_admin_ip}\"' ansible_python_interpreter=/usr/bin/python3\n",
    "'''.format(ceph_admin_ip=ceph_admin_ip, node_ip=node_ip, node_key=node_key,\n",
    "           node_user=node_user, proxy_user=proxy_user, proxy_key=proxy_key))\n",
    "\n",
    "hosts = temp_dir + \"/hosts\"\n",
    "\n",
    "!cat $hosts"
   ]
  },
  {
   "cell_type": "code",
   "execution_count": null,
   "metadata": {
    "lc_cell_meme": {
     "current": "2c4fd8e0-230c-11ef-ad2f-0242ac120005-2-6322-eb61",
     "history": [
      {
       "current": "2c4fd8e0-230c-11ef-ad2f-0242ac120005-1-6322",
       "next": "35c362a4-55a3-11e7-b0b2-00163e9c0e35-6-89a7-98f2-5cf2-7ed8-5899-920d",
       "previous": "35c360f6-55a3-11e7-b0b2-00163e9c0e35-6-4a79-f9ba-754f-8ae2-ef9d-fcd6"
      },
      {
       "current": "2c4fd8e0-230c-11ef-ad2f-0242ac120005-2-6322-eb61",
       "next": "35c362a4-55a3-11e7-b0b2-00163e9c0e35-7-89a7-98f2-5cf2-7ed8-5899-920d-4def",
       "previous": "35c360f6-55a3-11e7-b0b2-00163e9c0e35-7-4a79-f9ba-754f-8ae2-ef9d-fcd6-6b8d"
      }
     ],
     "next": "35c362a4-55a3-11e7-b0b2-00163e9c0e35-8-89a7-98f2-5cf2-7ed8-5899-920d-4def-6257",
     "previous": "35c360f6-55a3-11e7-b0b2-00163e9c0e35-8-4a79-f9ba-754f-8ae2-ef9d-fcd6-6b8d-cda0"
    }
   },
   "outputs": [],
   "source": [
    "%env ANSIBLE_INVENTORY={hosts}"
   ]
  },
  {
   "cell_type": "markdown",
   "metadata": {
    "lc_cell_meme": {
     "current": "35c362a4-55a3-11e7-b0b2-00163e9c0e35-8-89a7-98f2-5cf2-7ed8-5899-920d-4def-6257",
     "history": [
      {
       "current": "35c362a4-55a3-11e7-b0b2-00163e9c0e35",
       "next": "35c36448-55a3-11e7-b0b2-00163e9c0e35",
       "previous": "35c360f6-55a3-11e7-b0b2-00163e9c0e35"
      },
      {
       "current": "35c362a4-55a3-11e7-b0b2-00163e9c0e35",
       "next": "35c36448-55a3-11e7-b0b2-00163e9c0e35",
       "previous": "4cd5b0cc-7ef5-11ea-a926-0242ac120004"
      },
      {
       "current": "35c362a4-55a3-11e7-b0b2-00163e9c0e35",
       "next": "35c36448-55a3-11e7-b0b2-00163e9c0e35",
       "previous": "db546a28-7ef5-11ea-a926-0242ac120004"
      },
      {
       "current": "35c362a4-55a3-11e7-b0b2-00163e9c0e35",
       "next": "35c36448-55a3-11e7-b0b2-00163e9c0e35",
       "previous": "4cd5af28-7ef5-11ea-a926-0242ac120004"
      },
      {
       "current": "35c362a4-55a3-11e7-b0b2-00163e9c0e35",
       "next": "35c36448-55a3-11e7-b0b2-00163e9c0e35",
       "previous": "7d464504-9107-11ea-8d02-0242ac120007"
      },
      {
       "current": "35c362a4-55a3-11e7-b0b2-00163e9c0e35",
       "next": "35c36448-55a3-11e7-b0b2-00163e9c0e35",
       "previous": "bd797188-910b-11ea-8d02-0242ac120007"
      },
      {
       "current": "35c362a4-55a3-11e7-b0b2-00163e9c0e35",
       "next": "35c36448-55a3-11e7-b0b2-00163e9c0e35",
       "previous": "70b95056-9111-11ea-8d02-0242ac120007"
      },
      {
       "current": "35c362a4-55a3-11e7-b0b2-00163e9c0e35",
       "next": "35c36448-55a3-11e7-b0b2-00163e9c0e35",
       "previous": "bd797188-910b-11ea-8d02-0242ac120007"
      },
      {
       "current": "35c362a4-55a3-11e7-b0b2-00163e9c0e35",
       "next": "bd797188-910b-11ea-8d02-0242ac120007",
       "previous": "4cd5af28-7ef5-11ea-a926-0242ac120004"
      },
      {
       "current": "35c362a4-55a3-11e7-b0b2-00163e9c0e35",
       "next": "484c7376-935c-11ea-8d02-0242ac120007",
       "previous": "4cd5af28-7ef5-11ea-a926-0242ac120004"
      },
      {
       "current": "35c362a4-55a3-11e7-b0b2-00163e9c0e35-1-89a7",
       "next": "bd797188-910b-11ea-8d02-0242ac120007",
       "previous": "4cd5af28-7ef5-11ea-a926-0242ac120004"
      },
      {
       "current": "35c362a4-55a3-11e7-b0b2-00163e9c0e35-2-89a7-98f2",
       "next": "bd797188-910b-11ea-8d02-0242ac120007-1-728a",
       "previous": "4cd5af28-7ef5-11ea-a926-0242ac120004-1-726b"
      },
      {
       "current": "35c362a4-55a3-11e7-b0b2-00163e9c0e35-2-89a7-98f2",
       "next": "bd797188-910b-11ea-8d02-0242ac120007-2-728a-254c",
       "previous": "4cd5af28-7ef5-11ea-a926-0242ac120004-2-726b-a0d6"
      },
      {
       "current": "35c362a4-55a3-11e7-b0b2-00163e9c0e35-2-89a7-98f2",
       "next": "bd797188-910b-11ea-8d02-0242ac120007-2-728a-254c",
       "previous": "35c360f6-55a3-11e7-b0b2-00163e9c0e35-2-4a79-f9ba"
      },
      {
       "current": "35c362a4-55a3-11e7-b0b2-00163e9c0e35-3-89a7-98f2-5cf2",
       "next": "ef4d2888-aa17-11ea-9ad4-0242ac120006-1-42b7",
       "previous": "35c360f6-55a3-11e7-b0b2-00163e9c0e35-2-4a79-f9ba"
      },
      {
       "current": "35c362a4-55a3-11e7-b0b2-00163e9c0e35-4-89a7-98f2-5cf2-7ed8",
       "next": "ef4d2888-aa17-11ea-9ad4-0242ac120006-2-42b7-b07a",
       "previous": "35c360f6-55a3-11e7-b0b2-00163e9c0e35-3-4a79-f9ba-754f"
      },
      {
       "current": "35c362a4-55a3-11e7-b0b2-00163e9c0e35-5-89a7-98f2-5cf2-7ed8-5899",
       "next": "ef4d2888-aa17-11ea-9ad4-0242ac120006-3-42b7-b07a-9a41",
       "previous": "35c360f6-55a3-11e7-b0b2-00163e9c0e35-4-4a79-f9ba-754f-8ae2"
      },
      {
       "current": "35c362a4-55a3-11e7-b0b2-00163e9c0e35-6-89a7-98f2-5cf2-7ed8-5899-920d",
       "next": "ef4d2888-aa17-11ea-9ad4-0242ac120006-4-42b7-b07a-9a41-907b",
       "previous": "35c360f6-55a3-11e7-b0b2-00163e9c0e35-5-4a79-f9ba-754f-8ae2-ef9d"
      },
      {
       "current": "35c362a4-55a3-11e7-b0b2-00163e9c0e35-6-89a7-98f2-5cf2-7ed8-5899-920d",
       "next": "ef4d2888-aa17-11ea-9ad4-0242ac120006-5-42b7-b07a-9a41-907b-387d",
       "previous": "35c360f6-55a3-11e7-b0b2-00163e9c0e35-6-4a79-f9ba-754f-8ae2-ef9d-fcd6"
      },
      {
       "current": "35c362a4-55a3-11e7-b0b2-00163e9c0e35-7-89a7-98f2-5cf2-7ed8-5899-920d-4def",
       "next": "ef4d2888-aa17-11ea-9ad4-0242ac120006-5-42b7-b07a-9a41-907b-387d",
       "previous": "2c4fd8e0-230c-11ef-ad2f-0242ac120005"
      },
      {
       "current": "35c362a4-55a3-11e7-b0b2-00163e9c0e35-8-89a7-98f2-5cf2-7ed8-5899-920d-4def-6257",
       "next": "ef4d2888-aa17-11ea-9ad4-0242ac120006-6-42b7-b07a-9a41-907b-387d-e630",
       "previous": "2c4fd8e0-230c-11ef-ad2f-0242ac120005-1-6322"
      }
     ],
     "next": "ef4d2888-aa17-11ea-9ad4-0242ac120006-7-42b7-b07a-9a41-907b-387d-e630-f585",
     "previous": "2c4fd8e0-230c-11ef-ad2f-0242ac120005-2-6322-eb61"
    }
   },
   "source": [
    "## 疎通確認\n",
    "以下コマンドを実行し、OpeHubからCephAdmin経由で、Cephノードに疎通することを確認する。"
   ]
  },
  {
   "cell_type": "code",
   "execution_count": null,
   "metadata": {
    "lc_cell_meme": {
     "current": "ef4d2888-aa17-11ea-9ad4-0242ac120006-7-42b7-b07a-9a41-907b-387d-e630-f585",
     "history": [
      {
       "current": "ef4d2888-aa17-11ea-9ad4-0242ac120006-1-42b7",
       "next": "ac56a252-95bd-11ea-8d02-0242ac120007-1-86ee",
       "previous": "bd797188-910b-11ea-8d02-0242ac120007-1-728a"
      },
      {
       "current": "ef4d2888-aa17-11ea-9ad4-0242ac120006-1-42b7",
       "next": "ac56a252-95bd-11ea-8d02-0242ac120007-2-86ee-3a22",
       "previous": "bd797188-910b-11ea-8d02-0242ac120007-2-728a-254c"
      },
      {
       "current": "ef4d2888-aa17-11ea-9ad4-0242ac120006-1-42b7",
       "next": "bd797188-910b-11ea-8d02-0242ac120007-2-728a-254c",
       "previous": "35c362a4-55a3-11e7-b0b2-00163e9c0e35-2-89a7-98f2"
      },
      {
       "current": "ef4d2888-aa17-11ea-9ad4-0242ac120006-2-42b7-b07a",
       "next": "e3856a36-df01-11eb-b29f-0242ac120008",
       "previous": "35c362a4-55a3-11e7-b0b2-00163e9c0e35-2-89a7-98f2"
      },
      {
       "current": "ef4d2888-aa17-11ea-9ad4-0242ac120006-2-42b7-b07a",
       "next": "e3856a36-df01-11eb-b29f-0242ac120008-1-d6f1",
       "previous": "35c362a4-55a3-11e7-b0b2-00163e9c0e35-3-89a7-98f2-5cf2"
      },
      {
       "current": "ef4d2888-aa17-11ea-9ad4-0242ac120006-3-42b7-b07a-9a41",
       "next": "bd797188-910b-11ea-8d02-0242ac120007-3-728a-254c-2f4c",
       "previous": "35c362a4-55a3-11e7-b0b2-00163e9c0e35-3-89a7-98f2-5cf2"
      },
      {
       "current": "ef4d2888-aa17-11ea-9ad4-0242ac120006-4-42b7-b07a-9a41-907b",
       "next": "bd797188-910b-11ea-8d02-0242ac120007-4-728a-254c-2f4c-6ff3",
       "previous": "35c362a4-55a3-11e7-b0b2-00163e9c0e35-4-89a7-98f2-5cf2-7ed8"
      },
      {
       "current": "ef4d2888-aa17-11ea-9ad4-0242ac120006-5-42b7-b07a-9a41-907b-387d",
       "next": "bd797188-910b-11ea-8d02-0242ac120007-5-728a-254c-2f4c-6ff3-adaf",
       "previous": "35c362a4-55a3-11e7-b0b2-00163e9c0e35-5-89a7-98f2-5cf2-7ed8-5899"
      },
      {
       "current": "ef4d2888-aa17-11ea-9ad4-0242ac120006-6-42b7-b07a-9a41-907b-387d-e630",
       "next": "bd797188-910b-11ea-8d02-0242ac120007-6-728a-254c-2f4c-6ff3-adaf-61ba",
       "previous": "35c362a4-55a3-11e7-b0b2-00163e9c0e35-6-89a7-98f2-5cf2-7ed8-5899-920d"
      },
      {
       "current": "ef4d2888-aa17-11ea-9ad4-0242ac120006-7-42b7-b07a-9a41-907b-387d-e630-f585",
       "next": "bd797188-910b-11ea-8d02-0242ac120007-7-728a-254c-2f4c-6ff3-adaf-61ba-d47d",
       "previous": "35c362a4-55a3-11e7-b0b2-00163e9c0e35-7-89a7-98f2-5cf2-7ed8-5899-920d-4def"
      }
     ],
     "next": "bd797188-910b-11ea-8d02-0242ac120007-8-728a-254c-2f4c-6ff3-adaf-61ba-d47d-e28d",
     "previous": "35c362a4-55a3-11e7-b0b2-00163e9c0e35-8-89a7-98f2-5cf2-7ed8-5899-920d-4def-6257"
    }
   },
   "outputs": [],
   "source": [
    "!ansible -b -m shell -a 'hostname' ceph_admin"
   ]
  },
  {
   "cell_type": "code",
   "execution_count": null,
   "metadata": {
    "lc_cell_meme": {
     "current": "bd797188-910b-11ea-8d02-0242ac120007-8-728a-254c-2f4c-6ff3-adaf-61ba-d47d-e28d",
     "history": [
      {
       "current": "bd797188-910b-11ea-8d02-0242ac120007",
       "next": "35c362a4-55a3-11e7-b0b2-00163e9c0e35",
       "previous": "7d464504-9107-11ea-8d02-0242ac120007"
      },
      {
       "current": "bd797188-910b-11ea-8d02-0242ac120007",
       "next": "70b95056-9111-11ea-8d02-0242ac120007",
       "previous": "7d464504-9107-11ea-8d02-0242ac120007"
      },
      {
       "current": "bd797188-910b-11ea-8d02-0242ac120007",
       "next": "35c362a4-55a3-11e7-b0b2-00163e9c0e35",
       "previous": "7d464504-9107-11ea-8d02-0242ac120007"
      },
      {
       "current": "bd797188-910b-11ea-8d02-0242ac120007",
       "next": "35c362a4-55a3-11e7-b0b2-00163e9c0e35",
       "previous": "4cd5af28-7ef5-11ea-a926-0242ac120004"
      },
      {
       "current": "bd797188-910b-11ea-8d02-0242ac120007",
       "next": "35c36448-55a3-11e7-b0b2-00163e9c0e35",
       "previous": "35c362a4-55a3-11e7-b0b2-00163e9c0e35"
      },
      {
       "current": "bd797188-910b-11ea-8d02-0242ac120007",
       "next": "35c3783e-55a3-11e7-b0b2-00163e9c0e35",
       "previous": "35c362a4-55a3-11e7-b0b2-00163e9c0e35"
      },
      {
       "current": "bd797188-910b-11ea-8d02-0242ac120007",
       "next": "35c3783e-55a3-11e7-b0b2-00163e9c0e35",
       "previous": "484c7376-935c-11ea-8d02-0242ac120007"
      },
      {
       "current": "bd797188-910b-11ea-8d02-0242ac120007",
       "next": "35c3783e-55a3-11e7-b0b2-00163e9c0e35",
       "previous": "35c362a4-55a3-11e7-b0b2-00163e9c0e35"
      },
      {
       "current": "bd797188-910b-11ea-8d02-0242ac120007-1-728a",
       "next": "ac56a252-95bd-11ea-8d02-0242ac120007",
       "previous": "35c362a4-55a3-11e7-b0b2-00163e9c0e35"
      },
      {
       "current": "bd797188-910b-11ea-8d02-0242ac120007-1-728a",
       "next": "ac56a252-95bd-11ea-8d02-0242ac120007-1-86ee",
       "previous": "35c362a4-55a3-11e7-b0b2-00163e9c0e35-1-89a7"
      },
      {
       "current": "bd797188-910b-11ea-8d02-0242ac120007-2-728a-254c",
       "next": "ef4d2888-aa17-11ea-9ad4-0242ac120006",
       "previous": "35c362a4-55a3-11e7-b0b2-00163e9c0e35-1-89a7"
      },
      {
       "current": "bd797188-910b-11ea-8d02-0242ac120007-2-728a-254c",
       "next": "ef4d2888-aa17-11ea-9ad4-0242ac120006-1-42b7",
       "previous": "35c362a4-55a3-11e7-b0b2-00163e9c0e35-2-89a7-98f2"
      },
      {
       "current": "bd797188-910b-11ea-8d02-0242ac120007-2-728a-254c",
       "next": "ac56a252-95bd-11ea-8d02-0242ac120007-2-86ee-3a22",
       "previous": "ef4d2888-aa17-11ea-9ad4-0242ac120006-1-42b7"
      },
      {
       "current": "bd797188-910b-11ea-8d02-0242ac120007-2-728a-254c",
       "next": "ac56a252-95bd-11ea-8d02-0242ac120007-2-86ee-3a22",
       "previous": "e3856a36-df01-11eb-b29f-0242ac120008"
      },
      {
       "current": "bd797188-910b-11ea-8d02-0242ac120007-3-728a-254c-2f4c",
       "next": "21d849e2-dfd0-11eb-b29f-0242ac120008",
       "previous": "e3856a36-df01-11eb-b29f-0242ac120008"
      },
      {
       "current": "bd797188-910b-11ea-8d02-0242ac120007-3-728a-254c-2f4c",
       "next": "21d849e2-dfd0-11eb-b29f-0242ac120008-1-ee1b",
       "previous": "e3856a36-df01-11eb-b29f-0242ac120008-1-d6f1"
      },
      {
       "current": "bd797188-910b-11ea-8d02-0242ac120007-3-728a-254c-2f4c",
       "next": "21d849e2-dfd0-11eb-b29f-0242ac120008-1-ee1b",
       "previous": "ef4d2888-aa17-11ea-9ad4-0242ac120006-2-42b7-b07a"
      },
      {
       "current": "bd797188-910b-11ea-8d02-0242ac120007-3-728a-254c-2f4c",
       "next": "91d0d70c-61bd-11ee-89fa-0242ac120005",
       "previous": "ef4d2888-aa17-11ea-9ad4-0242ac120006-2-42b7-b07a"
      },
      {
       "current": "bd797188-910b-11ea-8d02-0242ac120007-4-728a-254c-2f4c-6ff3",
       "next": "43f4ca3e-7950-11ee-89fa-0242ac120005",
       "previous": "ef4d2888-aa17-11ea-9ad4-0242ac120006-2-42b7-b07a"
      },
      {
       "current": "bd797188-910b-11ea-8d02-0242ac120007-5-728a-254c-2f4c-6ff3-adaf",
       "next": "43f4ca3e-7950-11ee-89fa-0242ac120005-1-ae1b",
       "previous": "ef4d2888-aa17-11ea-9ad4-0242ac120006-3-42b7-b07a-9a41"
      },
      {
       "current": "bd797188-910b-11ea-8d02-0242ac120007-6-728a-254c-2f4c-6ff3-adaf-61ba",
       "next": "43f4ca3e-7950-11ee-89fa-0242ac120005-2-ae1b-ccc9",
       "previous": "ef4d2888-aa17-11ea-9ad4-0242ac120006-4-42b7-b07a-9a41-907b"
      },
      {
       "current": "bd797188-910b-11ea-8d02-0242ac120007-7-728a-254c-2f4c-6ff3-adaf-61ba-d47d",
       "next": "43f4ca3e-7950-11ee-89fa-0242ac120005-3-ae1b-ccc9-5a93",
       "previous": "ef4d2888-aa17-11ea-9ad4-0242ac120006-5-42b7-b07a-9a41-907b-387d"
      },
      {
       "current": "bd797188-910b-11ea-8d02-0242ac120007-8-728a-254c-2f4c-6ff3-adaf-61ba-d47d-e28d",
       "next": "43f4ca3e-7950-11ee-89fa-0242ac120005-4-ae1b-ccc9-5a93-af67",
       "previous": "ef4d2888-aa17-11ea-9ad4-0242ac120006-6-42b7-b07a-9a41-907b-387d-e630"
      }
     ],
     "next": "43f4ca3e-7950-11ee-89fa-0242ac120005-5-ae1b-ccc9-5a93-af67-240c",
     "previous": "ef4d2888-aa17-11ea-9ad4-0242ac120006-7-42b7-b07a-9a41-907b-387d-e630-f585"
    }
   },
   "outputs": [],
   "source": [
    "for node in node_list:\n",
    "    prov_ip = node['prov_ip']\n",
    "    !ansible -b -m shell -a 'hostname' $prov_ip"
   ]
  },
  {
   "cell_type": "code",
   "execution_count": null,
   "metadata": {
    "lc_cell_meme": {
     "current": "43f4ca3e-7950-11ee-89fa-0242ac120005-5-ae1b-ccc9-5a93-af67-240c",
     "history": [
      {
       "current": "43f4ca3e-7950-11ee-89fa-0242ac120005-1-ae1b",
       "next": "91d0d70c-61bd-11ee-89fa-0242ac120005",
       "previous": "bd797188-910b-11ea-8d02-0242ac120007-3-728a-254c-2f4c"
      },
      {
       "current": "43f4ca3e-7950-11ee-89fa-0242ac120005-2-ae1b-ccc9",
       "next": "91d0d70c-61bd-11ee-89fa-0242ac120005-1-2a07",
       "previous": "bd797188-910b-11ea-8d02-0242ac120007-4-728a-254c-2f4c-6ff3"
      },
      {
       "current": "43f4ca3e-7950-11ee-89fa-0242ac120005-3-ae1b-ccc9-5a93",
       "next": "91d0d70c-61bd-11ee-89fa-0242ac120005-2-2a07-6e54",
       "previous": "bd797188-910b-11ea-8d02-0242ac120007-5-728a-254c-2f4c-6ff3-adaf"
      },
      {
       "current": "43f4ca3e-7950-11ee-89fa-0242ac120005-4-ae1b-ccc9-5a93-af67",
       "next": "91d0d70c-61bd-11ee-89fa-0242ac120005-3-2a07-6e54-9ea5",
       "previous": "bd797188-910b-11ea-8d02-0242ac120007-6-728a-254c-2f4c-6ff3-adaf-61ba"
      },
      {
       "current": "43f4ca3e-7950-11ee-89fa-0242ac120005-5-ae1b-ccc9-5a93-af67-240c",
       "next": "91d0d70c-61bd-11ee-89fa-0242ac120005-4-2a07-6e54-9ea5-9071",
       "previous": "bd797188-910b-11ea-8d02-0242ac120007-7-728a-254c-2f4c-6ff3-adaf-61ba-d47d"
      }
     ],
     "next": "91d0d70c-61bd-11ee-89fa-0242ac120005-5-2a07-6e54-9ea5-9071-9f53",
     "previous": "bd797188-910b-11ea-8d02-0242ac120007-8-728a-254c-2f4c-6ff3-adaf-61ba-d47d-e28d"
    }
   },
   "outputs": [],
   "source": [
    "!ansible -b -m shell -a 'hostname' ceph_nodes"
   ]
  },
  {
   "cell_type": "code",
   "execution_count": null,
   "metadata": {
    "lc_cell_meme": {
     "current": "91d0d70c-61bd-11ee-89fa-0242ac120005-5-2a07-6e54-9ea5-9071-9f53",
     "history": [
      {
       "current": "91d0d70c-61bd-11ee-89fa-0242ac120005",
       "next": "ac56a252-95bd-11ea-8d02-0242ac120007-3-86ee-3a22-9a71",
       "previous": "21d849e2-dfd0-11eb-b29f-0242ac120008-1-ee1b"
      },
      {
       "current": "91d0d70c-61bd-11ee-89fa-0242ac120005",
       "next": "ac56a252-95bd-11ea-8d02-0242ac120007-3-86ee-3a22-9a71",
       "previous": "bd797188-910b-11ea-8d02-0242ac120007-3-728a-254c-2f4c"
      },
      {
       "current": "91d0d70c-61bd-11ee-89fa-0242ac120005",
       "next": "ac56a252-95bd-11ea-8d02-0242ac120007-3-86ee-3a22-9a71",
       "previous": "43f4ca3e-7950-11ee-89fa-0242ac120005"
      },
      {
       "current": "91d0d70c-61bd-11ee-89fa-0242ac120005-1-2a07",
       "next": "7890499e-8765-11ee-91d3-0242ac120006",
       "previous": "43f4ca3e-7950-11ee-89fa-0242ac120005"
      },
      {
       "current": "91d0d70c-61bd-11ee-89fa-0242ac120005-2-2a07-6e54",
       "next": "7890499e-8765-11ee-91d3-0242ac120006-1-ad30",
       "previous": "43f4ca3e-7950-11ee-89fa-0242ac120005-1-ae1b"
      },
      {
       "current": "91d0d70c-61bd-11ee-89fa-0242ac120005-3-2a07-6e54-9ea5",
       "next": "7890499e-8765-11ee-91d3-0242ac120006-2-ad30-8781",
       "previous": "43f4ca3e-7950-11ee-89fa-0242ac120005-2-ae1b-ccc9"
      },
      {
       "current": "91d0d70c-61bd-11ee-89fa-0242ac120005-4-2a07-6e54-9ea5-9071",
       "next": "7890499e-8765-11ee-91d3-0242ac120006-3-ad30-8781-a982",
       "previous": "43f4ca3e-7950-11ee-89fa-0242ac120005-3-ae1b-ccc9-5a93"
      },
      {
       "current": "91d0d70c-61bd-11ee-89fa-0242ac120005-5-2a07-6e54-9ea5-9071-9f53",
       "next": "7890499e-8765-11ee-91d3-0242ac120006-4-ad30-8781-a982-891e",
       "previous": "43f4ca3e-7950-11ee-89fa-0242ac120005-4-ae1b-ccc9-5a93-af67"
      }
     ],
     "next": "7890499e-8765-11ee-91d3-0242ac120006-5-ad30-8781-a982-891e-7e9f",
     "previous": "43f4ca3e-7950-11ee-89fa-0242ac120005-5-ae1b-ccc9-5a93-af67-240c"
    },
    "scrolled": true
   },
   "outputs": [],
   "source": [
    "!ansible -b -m shell -a 'hostname' bootstrap"
   ]
  },
  {
   "cell_type": "markdown",
   "metadata": {
    "lc_cell_meme": {
     "current": "7890499e-8765-11ee-91d3-0242ac120006-5-ad30-8781-a982-891e-7e9f",
     "history": [
      {
       "current": "7890499e-8765-11ee-91d3-0242ac120006-1-ad30",
       "next": "78904b42-8765-11ee-91d3-0242ac120006",
       "previous": "91d0d70c-61bd-11ee-89fa-0242ac120005"
      },
      {
       "current": "7890499e-8765-11ee-91d3-0242ac120006-2-ad30-8781",
       "next": "78904b42-8765-11ee-91d3-0242ac120006-1-d7ce",
       "previous": "91d0d70c-61bd-11ee-89fa-0242ac120005-1-2a07"
      },
      {
       "current": "7890499e-8765-11ee-91d3-0242ac120006-3-ad30-8781-a982",
       "next": "78904b42-8765-11ee-91d3-0242ac120006-2-d7ce-d8cd",
       "previous": "91d0d70c-61bd-11ee-89fa-0242ac120005-2-2a07-6e54"
      },
      {
       "current": "7890499e-8765-11ee-91d3-0242ac120006-4-ad30-8781-a982-891e",
       "next": "78904b42-8765-11ee-91d3-0242ac120006-3-d7ce-d8cd-6fec",
       "previous": "91d0d70c-61bd-11ee-89fa-0242ac120005-3-2a07-6e54-9ea5"
      },
      {
       "current": "7890499e-8765-11ee-91d3-0242ac120006-5-ad30-8781-a982-891e-7e9f",
       "next": "78904b42-8765-11ee-91d3-0242ac120006-4-d7ce-d8cd-6fec-609f",
       "previous": "91d0d70c-61bd-11ee-89fa-0242ac120005-4-2a07-6e54-9ea5-9071"
      }
     ],
     "next": "78904b42-8765-11ee-91d3-0242ac120006-5-d7ce-d8cd-6fec-609f-ff74",
     "previous": "91d0d70c-61bd-11ee-89fa-0242ac120005-5-2a07-6e54-9ea5-9071-9f53"
    }
   },
   "source": [
    "# 監視Stackの停止"
   ]
  },
  {
   "cell_type": "code",
   "execution_count": null,
   "metadata": {
    "lc_cell_meme": {
     "current": "78904b42-8765-11ee-91d3-0242ac120006-5-d7ce-d8cd-6fec-609f-ff74",
     "history": [
      {
       "current": "78904b42-8765-11ee-91d3-0242ac120006",
       "next": "78904be2-8765-11ee-91d3-0242ac120006",
       "previous": "7890499e-8765-11ee-91d3-0242ac120006"
      },
      {
       "current": "78904b42-8765-11ee-91d3-0242ac120006-1-d7ce",
       "next": "c026f88e-8765-11ee-91d3-0242ac120006",
       "previous": "7890499e-8765-11ee-91d3-0242ac120006"
      },
      {
       "current": "78904b42-8765-11ee-91d3-0242ac120006-2-d7ce-d8cd",
       "next": "c026f88e-8765-11ee-91d3-0242ac120006-1-2c1e",
       "previous": "7890499e-8765-11ee-91d3-0242ac120006-1-ad30"
      },
      {
       "current": "78904b42-8765-11ee-91d3-0242ac120006-3-d7ce-d8cd-6fec",
       "next": "c026f88e-8765-11ee-91d3-0242ac120006-2-2c1e-3756",
       "previous": "7890499e-8765-11ee-91d3-0242ac120006-2-ad30-8781"
      },
      {
       "current": "78904b42-8765-11ee-91d3-0242ac120006-4-d7ce-d8cd-6fec-609f",
       "next": "c026f88e-8765-11ee-91d3-0242ac120006-3-2c1e-3756-069e",
       "previous": "7890499e-8765-11ee-91d3-0242ac120006-3-ad30-8781-a982"
      },
      {
       "current": "78904b42-8765-11ee-91d3-0242ac120006-5-d7ce-d8cd-6fec-609f-ff74",
       "next": "c026f88e-8765-11ee-91d3-0242ac120006-4-2c1e-3756-069e-be5e",
       "previous": "7890499e-8765-11ee-91d3-0242ac120006-4-ad30-8781-a982-891e"
      }
     ],
     "next": "c026f88e-8765-11ee-91d3-0242ac120006-5-2c1e-3756-069e-be5e-df41",
     "previous": "7890499e-8765-11ee-91d3-0242ac120006-5-ad30-8781-a982-891e-7e9f"
    }
   },
   "outputs": [],
   "source": [
    "!ansible -b -m shell -a \"cephadm shell -- ceph orch stop alertmanager\" bootstrap"
   ]
  },
  {
   "cell_type": "code",
   "execution_count": null,
   "metadata": {
    "lc_cell_meme": {
     "current": "c026f88e-8765-11ee-91d3-0242ac120006-5-2c1e-3756-069e-be5e-df41",
     "history": [
      {
       "current": "c026f88e-8765-11ee-91d3-0242ac120006-1-2c1e",
       "next": "c026f96a-8765-11ee-91d3-0242ac120006",
       "previous": "78904b42-8765-11ee-91d3-0242ac120006"
      },
      {
       "current": "c026f88e-8765-11ee-91d3-0242ac120006-2-2c1e-3756",
       "next": "c026f96a-8765-11ee-91d3-0242ac120006-1-cff4",
       "previous": "78904b42-8765-11ee-91d3-0242ac120006-1-d7ce"
      },
      {
       "current": "c026f88e-8765-11ee-91d3-0242ac120006-3-2c1e-3756-069e",
       "next": "c026f96a-8765-11ee-91d3-0242ac120006-2-cff4-9ba6",
       "previous": "78904b42-8765-11ee-91d3-0242ac120006-2-d7ce-d8cd"
      },
      {
       "current": "c026f88e-8765-11ee-91d3-0242ac120006-4-2c1e-3756-069e-be5e",
       "next": "c026f96a-8765-11ee-91d3-0242ac120006-3-cff4-9ba6-4603",
       "previous": "78904b42-8765-11ee-91d3-0242ac120006-3-d7ce-d8cd-6fec"
      },
      {
       "current": "c026f88e-8765-11ee-91d3-0242ac120006-5-2c1e-3756-069e-be5e-df41",
       "next": "c026f96a-8765-11ee-91d3-0242ac120006-4-cff4-9ba6-4603-d9a2",
       "previous": "78904b42-8765-11ee-91d3-0242ac120006-4-d7ce-d8cd-6fec-609f"
      }
     ],
     "next": "c026f96a-8765-11ee-91d3-0242ac120006-5-cff4-9ba6-4603-d9a2-6076",
     "previous": "78904b42-8765-11ee-91d3-0242ac120006-5-d7ce-d8cd-6fec-609f-ff74"
    }
   },
   "outputs": [],
   "source": [
    "!ansible -b -m shell -a \"cephadm shell -- ceph orch stop node-exporter\" bootstrap"
   ]
  },
  {
   "cell_type": "code",
   "execution_count": null,
   "metadata": {
    "lc_cell_meme": {
     "current": "c026f96a-8765-11ee-91d3-0242ac120006-5-cff4-9ba6-4603-d9a2-6076",
     "history": [
      {
       "current": "c026f96a-8765-11ee-91d3-0242ac120006-1-cff4",
       "next": "c026f9a6-8765-11ee-91d3-0242ac120006",
       "previous": "c026f88e-8765-11ee-91d3-0242ac120006"
      },
      {
       "current": "c026f96a-8765-11ee-91d3-0242ac120006-2-cff4-9ba6",
       "next": "c026f9a6-8765-11ee-91d3-0242ac120006-1-3ed0",
       "previous": "c026f88e-8765-11ee-91d3-0242ac120006-1-2c1e"
      },
      {
       "current": "c026f96a-8765-11ee-91d3-0242ac120006-3-cff4-9ba6-4603",
       "next": "c026f9a6-8765-11ee-91d3-0242ac120006-2-3ed0-9e97",
       "previous": "c026f88e-8765-11ee-91d3-0242ac120006-2-2c1e-3756"
      },
      {
       "current": "c026f96a-8765-11ee-91d3-0242ac120006-4-cff4-9ba6-4603-d9a2",
       "next": "c026f9a6-8765-11ee-91d3-0242ac120006-3-3ed0-9e97-54a2",
       "previous": "c026f88e-8765-11ee-91d3-0242ac120006-3-2c1e-3756-069e"
      },
      {
       "current": "c026f96a-8765-11ee-91d3-0242ac120006-5-cff4-9ba6-4603-d9a2-6076",
       "next": "c026f9a6-8765-11ee-91d3-0242ac120006-4-3ed0-9e97-54a2-43d4",
       "previous": "c026f88e-8765-11ee-91d3-0242ac120006-4-2c1e-3756-069e-be5e"
      }
     ],
     "next": "c026f9a6-8765-11ee-91d3-0242ac120006-5-3ed0-9e97-54a2-43d4-e414",
     "previous": "c026f88e-8765-11ee-91d3-0242ac120006-5-2c1e-3756-069e-be5e-df41"
    }
   },
   "outputs": [],
   "source": [
    "!ansible -b -m shell -a \"cephadm shell -- ceph orch stop prometheus\" bootstrap"
   ]
  },
  {
   "cell_type": "code",
   "execution_count": null,
   "metadata": {
    "lc_cell_meme": {
     "current": "c026f9a6-8765-11ee-91d3-0242ac120006-5-3ed0-9e97-54a2-43d4-e414",
     "history": [
      {
       "current": "c026f9a6-8765-11ee-91d3-0242ac120006-1-3ed0",
       "next": "c026f9ce-8765-11ee-91d3-0242ac120006",
       "previous": "c026f96a-8765-11ee-91d3-0242ac120006"
      },
      {
       "current": "c026f9a6-8765-11ee-91d3-0242ac120006-2-3ed0-9e97",
       "next": "c026f9ce-8765-11ee-91d3-0242ac120006-1-c008",
       "previous": "c026f96a-8765-11ee-91d3-0242ac120006-1-cff4"
      },
      {
       "current": "c026f9a6-8765-11ee-91d3-0242ac120006-3-3ed0-9e97-54a2",
       "next": "c026f9ce-8765-11ee-91d3-0242ac120006-2-c008-702d",
       "previous": "c026f96a-8765-11ee-91d3-0242ac120006-2-cff4-9ba6"
      },
      {
       "current": "c026f9a6-8765-11ee-91d3-0242ac120006-4-3ed0-9e97-54a2-43d4",
       "next": "c026f9ce-8765-11ee-91d3-0242ac120006-3-c008-702d-dbe8",
       "previous": "c026f96a-8765-11ee-91d3-0242ac120006-3-cff4-9ba6-4603"
      },
      {
       "current": "c026f9a6-8765-11ee-91d3-0242ac120006-5-3ed0-9e97-54a2-43d4-e414",
       "next": "c026f9ce-8765-11ee-91d3-0242ac120006-4-c008-702d-dbe8-0ee2",
       "previous": "c026f96a-8765-11ee-91d3-0242ac120006-4-cff4-9ba6-4603-d9a2"
      }
     ],
     "next": "c026f9ce-8765-11ee-91d3-0242ac120006-5-c008-702d-dbe8-0ee2-c770",
     "previous": "c026f96a-8765-11ee-91d3-0242ac120006-5-cff4-9ba6-4603-d9a2-6076"
    }
   },
   "outputs": [],
   "source": [
    "!ansible -b -m shell -a \"cephadm shell -- ceph orch stop grafana\" bootstrap"
   ]
  },
  {
   "cell_type": "code",
   "execution_count": null,
   "metadata": {
    "lc_cell_meme": {
     "current": "c026f9ce-8765-11ee-91d3-0242ac120006-5-c008-702d-dbe8-0ee2-c770",
     "history": [
      {
       "current": "c026f9ce-8765-11ee-91d3-0242ac120006-1-c008",
       "next": "ac56a252-95bd-11ea-8d02-0242ac120007-3-86ee-3a22-9a71",
       "previous": "c026f9a6-8765-11ee-91d3-0242ac120006"
      },
      {
       "current": "c026f9ce-8765-11ee-91d3-0242ac120006-2-c008-702d",
       "next": "ac56a252-95bd-11ea-8d02-0242ac120007-4-86ee-3a22-9a71-29d3",
       "previous": "c026f9a6-8765-11ee-91d3-0242ac120006-1-3ed0"
      },
      {
       "current": "c026f9ce-8765-11ee-91d3-0242ac120006-3-c008-702d-dbe8",
       "next": "ac56a252-95bd-11ea-8d02-0242ac120007-5-86ee-3a22-9a71-29d3-ea95",
       "previous": "c026f9a6-8765-11ee-91d3-0242ac120006-2-3ed0-9e97"
      },
      {
       "current": "c026f9ce-8765-11ee-91d3-0242ac120006-4-c008-702d-dbe8-0ee2",
       "next": "ac56a252-95bd-11ea-8d02-0242ac120007-6-86ee-3a22-9a71-29d3-ea95-eb1d",
       "previous": "c026f9a6-8765-11ee-91d3-0242ac120006-3-3ed0-9e97-54a2"
      },
      {
       "current": "c026f9ce-8765-11ee-91d3-0242ac120006-5-c008-702d-dbe8-0ee2-c770",
       "next": "ac56a252-95bd-11ea-8d02-0242ac120007-7-86ee-3a22-9a71-29d3-ea95-eb1d-971c",
       "previous": "c026f9a6-8765-11ee-91d3-0242ac120006-4-3ed0-9e97-54a2-43d4"
      }
     ],
     "next": "ac56a252-95bd-11ea-8d02-0242ac120007-8-86ee-3a22-9a71-29d3-ea95-eb1d-971c-2d6e",
     "previous": "c026f9a6-8765-11ee-91d3-0242ac120006-5-3ed0-9e97-54a2-43d4-e414"
    }
   },
   "outputs": [],
   "source": [
    "!ansible -b -m shell -a \"cephadm shell -- ceph orch stop crash\" bootstrap"
   ]
  },
  {
   "cell_type": "markdown",
   "metadata": {
    "lc_cell_meme": {
     "current": "ac56a252-95bd-11ea-8d02-0242ac120007-8-86ee-3a22-9a71-29d3-ea95-eb1d-971c-2d6e",
     "history": [
      {
       "current": "ac56a252-95bd-11ea-8d02-0242ac120007-1-86ee",
       "next": "ac56a6c6-95bd-11ea-8d02-0242ac120007",
       "previous": "bd797188-910b-11ea-8d02-0242ac120007"
      },
      {
       "current": "ac56a252-95bd-11ea-8d02-0242ac120007-1-86ee",
       "next": "ac56a6c6-95bd-11ea-8d02-0242ac120007-1-431a",
       "previous": "bd797188-910b-11ea-8d02-0242ac120007-1-728a"
      },
      {
       "current": "ac56a252-95bd-11ea-8d02-0242ac120007-1-86ee",
       "next": "46b93d3e-95bc-11ea-8d02-0242ac120007-1-9f9c",
       "previous": "bd797188-910b-11ea-8d02-0242ac120007-1-728a"
      },
      {
       "current": "ac56a252-95bd-11ea-8d02-0242ac120007-2-86ee-3a22",
       "next": "46b93d3e-95bc-11ea-8d02-0242ac120007-1-9f9c",
       "previous": "ef4d2888-aa17-11ea-9ad4-0242ac120006"
      },
      {
       "current": "ac56a252-95bd-11ea-8d02-0242ac120007-2-86ee-3a22",
       "next": "46b93d3e-95bc-11ea-8d02-0242ac120007-2-9f9c-2f8b",
       "previous": "ef4d2888-aa17-11ea-9ad4-0242ac120006-1-42b7"
      },
      {
       "current": "ac56a252-95bd-11ea-8d02-0242ac120007-2-86ee-3a22",
       "next": "46b93d3e-95bc-11ea-8d02-0242ac120007-2-9f9c-2f8b",
       "previous": "bd797188-910b-11ea-8d02-0242ac120007-2-728a-254c"
      },
      {
       "current": "ac56a252-95bd-11ea-8d02-0242ac120007-3-86ee-3a22-9a71",
       "next": "46b93d3e-95bc-11ea-8d02-0242ac120007-2-9f9c-2f8b",
       "previous": "21d849e2-dfd0-11eb-b29f-0242ac120008"
      },
      {
       "current": "ac56a252-95bd-11ea-8d02-0242ac120007-3-86ee-3a22-9a71",
       "next": "46b93d3e-95bc-11ea-8d02-0242ac120007-3-9f9c-2f8b-fd5c",
       "previous": "21d849e2-dfd0-11eb-b29f-0242ac120008-1-ee1b"
      },
      {
       "current": "ac56a252-95bd-11ea-8d02-0242ac120007-3-86ee-3a22-9a71",
       "next": "1e5a5a54-4bb1-11ee-89fa-0242ac120005",
       "previous": "21d849e2-dfd0-11eb-b29f-0242ac120008-1-ee1b"
      },
      {
       "current": "ac56a252-95bd-11ea-8d02-0242ac120007-3-86ee-3a22-9a71",
       "next": "65e00220-4bb1-11ee-89fa-0242ac120005",
       "previous": "21d849e2-dfd0-11eb-b29f-0242ac120008-1-ee1b"
      },
      {
       "current": "ac56a252-95bd-11ea-8d02-0242ac120007-3-86ee-3a22-9a71",
       "next": "5d429cae-6191-11ee-89fa-0242ac120005",
       "previous": "21d849e2-dfd0-11eb-b29f-0242ac120008-1-ee1b"
      },
      {
       "current": "ac56a252-95bd-11ea-8d02-0242ac120007-3-86ee-3a22-9a71",
       "next": "5d429cae-6191-11ee-89fa-0242ac120005",
       "previous": "91d0d70c-61bd-11ee-89fa-0242ac120005"
      },
      {
       "current": "ac56a252-95bd-11ea-8d02-0242ac120007-3-86ee-3a22-9a71",
       "next": "d9541562-61bd-11ee-89fa-0242ac120005",
       "previous": "91d0d70c-61bd-11ee-89fa-0242ac120005"
      },
      {
       "current": "ac56a252-95bd-11ea-8d02-0242ac120007-3-86ee-3a22-9a71",
       "next": "a55217b0-7166-11ee-89fa-0242ac120005",
       "previous": "91d0d70c-61bd-11ee-89fa-0242ac120005"
      },
      {
       "current": "ac56a252-95bd-11ea-8d02-0242ac120007-3-86ee-3a22-9a71",
       "next": "8f9c95d6-716a-11ee-89fa-0242ac120005",
       "previous": "91d0d70c-61bd-11ee-89fa-0242ac120005"
      },
      {
       "current": "ac56a252-95bd-11ea-8d02-0242ac120007-3-86ee-3a22-9a71",
       "next": "31f70f06-7877-11ee-89fa-0242ac120005",
       "previous": "91d0d70c-61bd-11ee-89fa-0242ac120005"
      },
      {
       "current": "ac56a252-95bd-11ea-8d02-0242ac120007-3-86ee-3a22-9a71",
       "next": "fdebe68c-7880-11ee-89fa-0242ac120005",
       "previous": "91d0d70c-61bd-11ee-89fa-0242ac120005"
      },
      {
       "current": "ac56a252-95bd-11ea-8d02-0242ac120007-3-86ee-3a22-9a71",
       "next": "1c10c3d4-7882-11ee-89fa-0242ac120005",
       "previous": "91d0d70c-61bd-11ee-89fa-0242ac120005"
      },
      {
       "current": "ac56a252-95bd-11ea-8d02-0242ac120007-3-86ee-3a22-9a71",
       "next": "5a4c53f2-8764-11ee-91d3-0242ac120006",
       "previous": "91d0d70c-61bd-11ee-89fa-0242ac120005"
      },
      {
       "current": "ac56a252-95bd-11ea-8d02-0242ac120007-3-86ee-3a22-9a71",
       "next": "5a4c53f2-8764-11ee-91d3-0242ac120006-1-1cf1",
       "previous": "91d0d70c-61bd-11ee-89fa-0242ac120005"
      },
      {
       "current": "ac56a252-95bd-11ea-8d02-0242ac120007-3-86ee-3a22-9a71",
       "next": "5a4c53f2-8764-11ee-91d3-0242ac120006-1-1cf1",
       "previous": "78904c64-8765-11ee-91d3-0242ac120006"
      },
      {
       "current": "ac56a252-95bd-11ea-8d02-0242ac120007-4-86ee-3a22-9a71-29d3",
       "next": "5a4c53f2-8764-11ee-91d3-0242ac120006-1-1cf1",
       "previous": "c026f9ce-8765-11ee-91d3-0242ac120006"
      },
      {
       "current": "ac56a252-95bd-11ea-8d02-0242ac120007-5-86ee-3a22-9a71-29d3-ea95",
       "next": "5a4c53f2-8764-11ee-91d3-0242ac120006-2-1cf1-ecf6",
       "previous": "c026f9ce-8765-11ee-91d3-0242ac120006-1-c008"
      },
      {
       "current": "ac56a252-95bd-11ea-8d02-0242ac120007-6-86ee-3a22-9a71-29d3-ea95-eb1d",
       "next": "5a4c53f2-8764-11ee-91d3-0242ac120006-3-1cf1-ecf6-e4cd",
       "previous": "c026f9ce-8765-11ee-91d3-0242ac120006-2-c008-702d"
      },
      {
       "current": "ac56a252-95bd-11ea-8d02-0242ac120007-7-86ee-3a22-9a71-29d3-ea95-eb1d-971c",
       "next": "5a4c53f2-8764-11ee-91d3-0242ac120006-4-1cf1-ecf6-e4cd-3727",
       "previous": "c026f9ce-8765-11ee-91d3-0242ac120006-3-c008-702d-dbe8"
      },
      {
       "current": "ac56a252-95bd-11ea-8d02-0242ac120007-8-86ee-3a22-9a71-29d3-ea95-eb1d-971c-2d6e",
       "next": "5a4c53f2-8764-11ee-91d3-0242ac120006-5-1cf1-ecf6-e4cd-3727-481a",
       "previous": "c026f9ce-8765-11ee-91d3-0242ac120006-4-c008-702d-dbe8-0ee2"
      }
     ],
     "next": "5a4c53f2-8764-11ee-91d3-0242ac120006-6-1cf1-ecf6-e4cd-3727-481a-ea43",
     "previous": "c026f9ce-8765-11ee-91d3-0242ac120006-5-c008-702d-dbe8-0ee2-c770"
    }
   },
   "source": [
    "# OSDの停止"
   ]
  },
  {
   "cell_type": "markdown",
   "metadata": {
    "lc_cell_meme": {
     "current": "5a4c53f2-8764-11ee-91d3-0242ac120006-6-1cf1-ecf6-e4cd-3727-481a-ea43",
     "history": [
      {
       "current": "5a4c53f2-8764-11ee-91d3-0242ac120006-2-1cf1-ecf6",
       "next": "5a4c55dc-8764-11ee-91d3-0242ac120006",
       "previous": "ac56a252-95bd-11ea-8d02-0242ac120007-3-86ee-3a22-9a71"
      },
      {
       "current": "5a4c53f2-8764-11ee-91d3-0242ac120006-3-1cf1-ecf6-e4cd",
       "next": "5a4c55dc-8764-11ee-91d3-0242ac120006-1-48b6",
       "previous": "ac56a252-95bd-11ea-8d02-0242ac120007-4-86ee-3a22-9a71-29d3"
      },
      {
       "current": "5a4c53f2-8764-11ee-91d3-0242ac120006-4-1cf1-ecf6-e4cd-3727",
       "next": "5a4c55dc-8764-11ee-91d3-0242ac120006-2-48b6-a91c",
       "previous": "ac56a252-95bd-11ea-8d02-0242ac120007-5-86ee-3a22-9a71-29d3-ea95"
      },
      {
       "current": "5a4c53f2-8764-11ee-91d3-0242ac120006-5-1cf1-ecf6-e4cd-3727-481a",
       "next": "5a4c55dc-8764-11ee-91d3-0242ac120006-3-48b6-a91c-66f9",
       "previous": "ac56a252-95bd-11ea-8d02-0242ac120007-6-86ee-3a22-9a71-29d3-ea95-eb1d"
      },
      {
       "current": "5a4c53f2-8764-11ee-91d3-0242ac120006-6-1cf1-ecf6-e4cd-3727-481a-ea43",
       "next": "5a4c55dc-8764-11ee-91d3-0242ac120006-4-48b6-a91c-66f9-b588",
       "previous": "ac56a252-95bd-11ea-8d02-0242ac120007-7-86ee-3a22-9a71-29d3-ea95-eb1d-971c"
      }
     ],
     "next": "5a4c55dc-8764-11ee-91d3-0242ac120006-5-48b6-a91c-66f9-b588-614c",
     "previous": "ac56a252-95bd-11ea-8d02-0242ac120007-8-86ee-3a22-9a71-29d3-ea95-eb1d-971c-2d6e"
    }
   },
   "source": [
    "## OSD同期処理の無効化"
   ]
  },
  {
   "cell_type": "code",
   "execution_count": null,
   "metadata": {
    "lc_cell_meme": {
     "current": "5a4c55dc-8764-11ee-91d3-0242ac120006-5-48b6-a91c-66f9-b588-614c",
     "history": [
      {
       "current": "5a4c55dc-8764-11ee-91d3-0242ac120006",
       "next": "5a4c569a-8764-11ee-91d3-0242ac120006",
       "previous": "5a4c53f2-8764-11ee-91d3-0242ac120006"
      },
      {
       "current": "5a4c55dc-8764-11ee-91d3-0242ac120006-1-48b6",
       "next": "e982a8e6-8764-11ee-91d3-0242ac120006",
       "previous": "5a4c53f2-8764-11ee-91d3-0242ac120006-1-1cf1"
      },
      {
       "current": "5a4c55dc-8764-11ee-91d3-0242ac120006-2-48b6-a91c",
       "next": "e982a8e6-8764-11ee-91d3-0242ac120006-1-dc2e",
       "previous": "5a4c53f2-8764-11ee-91d3-0242ac120006-2-1cf1-ecf6"
      },
      {
       "current": "5a4c55dc-8764-11ee-91d3-0242ac120006-3-48b6-a91c-66f9",
       "next": "e982a8e6-8764-11ee-91d3-0242ac120006-2-dc2e-c74f",
       "previous": "5a4c53f2-8764-11ee-91d3-0242ac120006-3-1cf1-ecf6-e4cd"
      },
      {
       "current": "5a4c55dc-8764-11ee-91d3-0242ac120006-4-48b6-a91c-66f9-b588",
       "next": "e982a8e6-8764-11ee-91d3-0242ac120006-3-dc2e-c74f-26c1",
       "previous": "5a4c53f2-8764-11ee-91d3-0242ac120006-4-1cf1-ecf6-e4cd-3727"
      },
      {
       "current": "5a4c55dc-8764-11ee-91d3-0242ac120006-5-48b6-a91c-66f9-b588-614c",
       "next": "e982a8e6-8764-11ee-91d3-0242ac120006-4-dc2e-c74f-26c1-296f",
       "previous": "5a4c53f2-8764-11ee-91d3-0242ac120006-5-1cf1-ecf6-e4cd-3727-481a"
      }
     ],
     "next": "e982a8e6-8764-11ee-91d3-0242ac120006-5-dc2e-c74f-26c1-296f-d4ad",
     "previous": "5a4c53f2-8764-11ee-91d3-0242ac120006-6-1cf1-ecf6-e4cd-3727-481a-ea43"
    }
   },
   "outputs": [],
   "source": [
    "!ansible -b -m shell -a \"cephadm shell -- ceph osd set noout\" bootstrap"
   ]
  },
  {
   "cell_type": "code",
   "execution_count": null,
   "metadata": {
    "lc_cell_meme": {
     "current": "e982a8e6-8764-11ee-91d3-0242ac120006-5-dc2e-c74f-26c1-296f-d4ad",
     "history": [
      {
       "current": "e982a8e6-8764-11ee-91d3-0242ac120006-1-dc2e",
       "next": "e982aa94-8764-11ee-91d3-0242ac120006",
       "previous": "5a4c55dc-8764-11ee-91d3-0242ac120006"
      },
      {
       "current": "e982a8e6-8764-11ee-91d3-0242ac120006-2-dc2e-c74f",
       "next": "e982aa94-8764-11ee-91d3-0242ac120006-1-b747",
       "previous": "5a4c55dc-8764-11ee-91d3-0242ac120006-1-48b6"
      },
      {
       "current": "e982a8e6-8764-11ee-91d3-0242ac120006-3-dc2e-c74f-26c1",
       "next": "e982aa94-8764-11ee-91d3-0242ac120006-2-b747-9d45",
       "previous": "5a4c55dc-8764-11ee-91d3-0242ac120006-2-48b6-a91c"
      },
      {
       "current": "e982a8e6-8764-11ee-91d3-0242ac120006-4-dc2e-c74f-26c1-296f",
       "next": "e982aa94-8764-11ee-91d3-0242ac120006-3-b747-9d45-6a0e",
       "previous": "5a4c55dc-8764-11ee-91d3-0242ac120006-3-48b6-a91c-66f9"
      },
      {
       "current": "e982a8e6-8764-11ee-91d3-0242ac120006-5-dc2e-c74f-26c1-296f-d4ad",
       "next": "e982aa94-8764-11ee-91d3-0242ac120006-4-b747-9d45-6a0e-3c61",
       "previous": "5a4c55dc-8764-11ee-91d3-0242ac120006-4-48b6-a91c-66f9-b588"
      }
     ],
     "next": "e982aa94-8764-11ee-91d3-0242ac120006-5-b747-9d45-6a0e-3c61-8f39",
     "previous": "5a4c55dc-8764-11ee-91d3-0242ac120006-5-48b6-a91c-66f9-b588-614c"
    }
   },
   "outputs": [],
   "source": [
    "!ansible -b -m shell -a \"cephadm shell -- ceph osd set norecover\" bootstrap"
   ]
  },
  {
   "cell_type": "code",
   "execution_count": null,
   "metadata": {
    "lc_cell_meme": {
     "current": "e982aa94-8764-11ee-91d3-0242ac120006-5-b747-9d45-6a0e-3c61-8f39",
     "history": [
      {
       "current": "e982aa94-8764-11ee-91d3-0242ac120006-1-b747",
       "next": "e982ab34-8764-11ee-91d3-0242ac120006",
       "previous": "e982a8e6-8764-11ee-91d3-0242ac120006"
      },
      {
       "current": "e982aa94-8764-11ee-91d3-0242ac120006-2-b747-9d45",
       "next": "e982ab34-8764-11ee-91d3-0242ac120006-1-94e7",
       "previous": "e982a8e6-8764-11ee-91d3-0242ac120006-1-dc2e"
      },
      {
       "current": "e982aa94-8764-11ee-91d3-0242ac120006-3-b747-9d45-6a0e",
       "next": "e982ab34-8764-11ee-91d3-0242ac120006-2-94e7-5482",
       "previous": "e982a8e6-8764-11ee-91d3-0242ac120006-2-dc2e-c74f"
      },
      {
       "current": "e982aa94-8764-11ee-91d3-0242ac120006-4-b747-9d45-6a0e-3c61",
       "next": "e982ab34-8764-11ee-91d3-0242ac120006-3-94e7-5482-2d10",
       "previous": "e982a8e6-8764-11ee-91d3-0242ac120006-3-dc2e-c74f-26c1"
      },
      {
       "current": "e982aa94-8764-11ee-91d3-0242ac120006-5-b747-9d45-6a0e-3c61-8f39",
       "next": "e982ab34-8764-11ee-91d3-0242ac120006-4-94e7-5482-2d10-53ea",
       "previous": "e982a8e6-8764-11ee-91d3-0242ac120006-4-dc2e-c74f-26c1-296f"
      }
     ],
     "next": "e982ab34-8764-11ee-91d3-0242ac120006-5-94e7-5482-2d10-53ea-3551",
     "previous": "e982a8e6-8764-11ee-91d3-0242ac120006-5-dc2e-c74f-26c1-296f-d4ad"
    }
   },
   "outputs": [],
   "source": [
    "!ansible -b -m shell -a \"cephadm shell -- ceph osd set norebalance\" bootstrap"
   ]
  },
  {
   "cell_type": "code",
   "execution_count": null,
   "metadata": {
    "lc_cell_meme": {
     "current": "e982ab34-8764-11ee-91d3-0242ac120006-5-94e7-5482-2d10-53ea-3551",
     "history": [
      {
       "current": "e982ab34-8764-11ee-91d3-0242ac120006-1-94e7",
       "next": "e982abac-8764-11ee-91d3-0242ac120006",
       "previous": "e982aa94-8764-11ee-91d3-0242ac120006"
      },
      {
       "current": "e982ab34-8764-11ee-91d3-0242ac120006-2-94e7-5482",
       "next": "e982abac-8764-11ee-91d3-0242ac120006-1-df73",
       "previous": "e982aa94-8764-11ee-91d3-0242ac120006-1-b747"
      },
      {
       "current": "e982ab34-8764-11ee-91d3-0242ac120006-3-94e7-5482-2d10",
       "next": "e982abac-8764-11ee-91d3-0242ac120006-2-df73-b401",
       "previous": "e982aa94-8764-11ee-91d3-0242ac120006-2-b747-9d45"
      },
      {
       "current": "e982ab34-8764-11ee-91d3-0242ac120006-4-94e7-5482-2d10-53ea",
       "next": "e982abac-8764-11ee-91d3-0242ac120006-3-df73-b401-5076",
       "previous": "e982aa94-8764-11ee-91d3-0242ac120006-3-b747-9d45-6a0e"
      },
      {
       "current": "e982ab34-8764-11ee-91d3-0242ac120006-5-94e7-5482-2d10-53ea-3551",
       "next": "e982abac-8764-11ee-91d3-0242ac120006-4-df73-b401-5076-8ab0",
       "previous": "e982aa94-8764-11ee-91d3-0242ac120006-4-b747-9d45-6a0e-3c61"
      }
     ],
     "next": "e982abac-8764-11ee-91d3-0242ac120006-5-df73-b401-5076-8ab0-025e",
     "previous": "e982aa94-8764-11ee-91d3-0242ac120006-5-b747-9d45-6a0e-3c61-8f39"
    }
   },
   "outputs": [],
   "source": [
    "!ansible -b -m shell -a \"cephadm shell -- ceph osd set nobackfill\" bootstrap"
   ]
  },
  {
   "cell_type": "code",
   "execution_count": null,
   "metadata": {
    "lc_cell_meme": {
     "current": "e982abac-8764-11ee-91d3-0242ac120006-5-df73-b401-5076-8ab0-025e",
     "history": [
      {
       "current": "e982abac-8764-11ee-91d3-0242ac120006-1-df73",
       "next": "e982ac1a-8764-11ee-91d3-0242ac120006",
       "previous": "e982ab34-8764-11ee-91d3-0242ac120006"
      },
      {
       "current": "e982abac-8764-11ee-91d3-0242ac120006-2-df73-b401",
       "next": "e982ac1a-8764-11ee-91d3-0242ac120006-1-999d",
       "previous": "e982ab34-8764-11ee-91d3-0242ac120006-1-94e7"
      },
      {
       "current": "e982abac-8764-11ee-91d3-0242ac120006-3-df73-b401-5076",
       "next": "e982ac1a-8764-11ee-91d3-0242ac120006-2-999d-91f0",
       "previous": "e982ab34-8764-11ee-91d3-0242ac120006-2-94e7-5482"
      },
      {
       "current": "e982abac-8764-11ee-91d3-0242ac120006-4-df73-b401-5076-8ab0",
       "next": "e982ac1a-8764-11ee-91d3-0242ac120006-3-999d-91f0-5cc8",
       "previous": "e982ab34-8764-11ee-91d3-0242ac120006-3-94e7-5482-2d10"
      },
      {
       "current": "e982abac-8764-11ee-91d3-0242ac120006-5-df73-b401-5076-8ab0-025e",
       "next": "e982ac1a-8764-11ee-91d3-0242ac120006-4-999d-91f0-5cc8-415b",
       "previous": "e982ab34-8764-11ee-91d3-0242ac120006-4-94e7-5482-2d10-53ea"
      }
     ],
     "next": "e982ac1a-8764-11ee-91d3-0242ac120006-5-999d-91f0-5cc8-415b-6c61",
     "previous": "e982ab34-8764-11ee-91d3-0242ac120006-5-94e7-5482-2d10-53ea-3551"
    }
   },
   "outputs": [],
   "source": [
    "!ansible -b -m shell -a \"cephadm shell -- ceph osd set nodown\" bootstrap"
   ]
  },
  {
   "cell_type": "code",
   "execution_count": null,
   "metadata": {
    "lc_cell_meme": {
     "current": "e982ac1a-8764-11ee-91d3-0242ac120006-5-999d-91f0-5cc8-415b-6c61",
     "history": [
      {
       "current": "e982ac1a-8764-11ee-91d3-0242ac120006",
       "next": "e982ac92-8764-11ee-91d3-0242ac120006",
       "previous": "e982abac-8764-11ee-91d3-0242ac120006"
      },
      {
       "current": "e982ac1a-8764-11ee-91d3-0242ac120006",
       "next": "1c10c3d4-7882-11ee-89fa-0242ac120005",
       "previous": "e982abac-8764-11ee-91d3-0242ac120006"
      },
      {
       "current": "e982ac1a-8764-11ee-91d3-0242ac120006-1-999d",
       "next": "392aa268-876a-11ee-91d3-0242ac120006",
       "previous": "e982abac-8764-11ee-91d3-0242ac120006"
      },
      {
       "current": "e982ac1a-8764-11ee-91d3-0242ac120006-2-999d-91f0",
       "next": "392aa268-876a-11ee-91d3-0242ac120006-1-29d4",
       "previous": "e982abac-8764-11ee-91d3-0242ac120006-1-df73"
      },
      {
       "current": "e982ac1a-8764-11ee-91d3-0242ac120006-3-999d-91f0-5cc8",
       "next": "392aa268-876a-11ee-91d3-0242ac120006-2-29d4-6c29",
       "previous": "e982abac-8764-11ee-91d3-0242ac120006-2-df73-b401"
      },
      {
       "current": "e982ac1a-8764-11ee-91d3-0242ac120006-4-999d-91f0-5cc8-415b",
       "next": "392aa268-876a-11ee-91d3-0242ac120006-3-29d4-6c29-b4da",
       "previous": "e982abac-8764-11ee-91d3-0242ac120006-3-df73-b401-5076"
      },
      {
       "current": "e982ac1a-8764-11ee-91d3-0242ac120006-5-999d-91f0-5cc8-415b-6c61",
       "next": "392aa268-876a-11ee-91d3-0242ac120006-4-29d4-6c29-b4da-4523",
       "previous": "e982abac-8764-11ee-91d3-0242ac120006-4-df73-b401-5076-8ab0"
      }
     ],
     "next": "392aa268-876a-11ee-91d3-0242ac120006-5-29d4-6c29-b4da-4523-3291",
     "previous": "e982abac-8764-11ee-91d3-0242ac120006-5-df73-b401-5076-8ab0-025e"
    }
   },
   "outputs": [],
   "source": [
    "!ansible -b -m shell -a \"cephadm shell -- ceph osd set pause\" bootstrap"
   ]
  },
  {
   "cell_type": "code",
   "execution_count": null,
   "metadata": {
    "lc_cell_meme": {
     "current": "392aa268-876a-11ee-91d3-0242ac120006-5-29d4-6c29-b4da-4523-3291",
     "history": [
      {
       "current": "392aa268-876a-11ee-91d3-0242ac120006-1-29d4",
       "next": "1c10c3d4-7882-11ee-89fa-0242ac120005",
       "previous": "e982ac1a-8764-11ee-91d3-0242ac120006"
      },
      {
       "current": "392aa268-876a-11ee-91d3-0242ac120006-2-29d4-6c29",
       "next": "1c10c3d4-7882-11ee-89fa-0242ac120005-1-d14e",
       "previous": "e982ac1a-8764-11ee-91d3-0242ac120006-1-999d"
      },
      {
       "current": "392aa268-876a-11ee-91d3-0242ac120006-3-29d4-6c29-b4da",
       "next": "1c10c3d4-7882-11ee-89fa-0242ac120005-2-d14e-ce3e",
       "previous": "e982ac1a-8764-11ee-91d3-0242ac120006-2-999d-91f0"
      },
      {
       "current": "392aa268-876a-11ee-91d3-0242ac120006-4-29d4-6c29-b4da-4523",
       "next": "1c10c3d4-7882-11ee-89fa-0242ac120005-3-d14e-ce3e-2f3f",
       "previous": "e982ac1a-8764-11ee-91d3-0242ac120006-3-999d-91f0-5cc8"
      },
      {
       "current": "392aa268-876a-11ee-91d3-0242ac120006-5-29d4-6c29-b4da-4523-3291",
       "next": "1c10c3d4-7882-11ee-89fa-0242ac120005-4-d14e-ce3e-2f3f-013a",
       "previous": "e982ac1a-8764-11ee-91d3-0242ac120006-4-999d-91f0-5cc8-415b"
      }
     ],
     "next": "1c10c3d4-7882-11ee-89fa-0242ac120005-5-d14e-ce3e-2f3f-013a-9b49",
     "previous": "e982ac1a-8764-11ee-91d3-0242ac120006-5-999d-91f0-5cc8-415b-6c61"
    }
   },
   "outputs": [],
   "source": [
    "!ansible -b -m shell -a \"cephadm shell -- ceph -s 2> /dev/null\" bootstrap"
   ]
  },
  {
   "cell_type": "markdown",
   "metadata": {
    "lc_cell_meme": {
     "current": "1c10c3d4-7882-11ee-89fa-0242ac120005-5-d14e-ce3e-2f3f-013a-9b49",
     "history": [
      {
       "current": "1c10c3d4-7882-11ee-89fa-0242ac120005",
       "next": "31f70f06-7877-11ee-89fa-0242ac120005",
       "previous": "ac56a252-95bd-11ea-8d02-0242ac120007-3-86ee-3a22-9a71"
      },
      {
       "current": "1c10c3d4-7882-11ee-89fa-0242ac120005",
       "next": "31f70f06-7877-11ee-89fa-0242ac120005",
       "previous": "5a4c5726-8764-11ee-91d3-0242ac120006"
      },
      {
       "current": "1c10c3d4-7882-11ee-89fa-0242ac120005",
       "next": "31f70f06-7877-11ee-89fa-0242ac120005",
       "previous": "e982ac1a-8764-11ee-91d3-0242ac120006"
      },
      {
       "current": "1c10c3d4-7882-11ee-89fa-0242ac120005-1-d14e",
       "next": "31f70f06-7877-11ee-89fa-0242ac120005",
       "previous": "392aa268-876a-11ee-91d3-0242ac120006"
      },
      {
       "current": "1c10c3d4-7882-11ee-89fa-0242ac120005-2-d14e-ce3e",
       "next": "31f70f06-7877-11ee-89fa-0242ac120005-1-c990",
       "previous": "392aa268-876a-11ee-91d3-0242ac120006-1-29d4"
      },
      {
       "current": "1c10c3d4-7882-11ee-89fa-0242ac120005-3-d14e-ce3e-2f3f",
       "next": "31f70f06-7877-11ee-89fa-0242ac120005-2-c990-85e1",
       "previous": "392aa268-876a-11ee-91d3-0242ac120006-2-29d4-6c29"
      },
      {
       "current": "1c10c3d4-7882-11ee-89fa-0242ac120005-4-d14e-ce3e-2f3f-013a",
       "next": "31f70f06-7877-11ee-89fa-0242ac120005-3-c990-85e1-112e",
       "previous": "392aa268-876a-11ee-91d3-0242ac120006-3-29d4-6c29-b4da"
      },
      {
       "current": "1c10c3d4-7882-11ee-89fa-0242ac120005-5-d14e-ce3e-2f3f-013a-9b49",
       "next": "31f70f06-7877-11ee-89fa-0242ac120005-4-c990-85e1-112e-3c12",
       "previous": "392aa268-876a-11ee-91d3-0242ac120006-4-29d4-6c29-b4da-4523"
      }
     ],
     "next": "31f70f06-7877-11ee-89fa-0242ac120005-5-c990-85e1-112e-3c12-ec86",
     "previous": "392aa268-876a-11ee-91d3-0242ac120006-5-29d4-6c29-b4da-4523-3291"
    }
   },
   "source": [
    "## 全てのOSD情報取得"
   ]
  },
  {
   "cell_type": "code",
   "execution_count": null,
   "metadata": {
    "lc_cell_meme": {
     "current": "31f70f06-7877-11ee-89fa-0242ac120005-5-c990-85e1-112e-3c12-ec86",
     "history": [
      {
       "current": "31f70f06-7877-11ee-89fa-0242ac120005",
       "next": "31f71280-7877-11ee-89fa-0242ac120005",
       "previous": "ac56a252-95bd-11ea-8d02-0242ac120007-3-86ee-3a22-9a71"
      },
      {
       "current": "31f70f06-7877-11ee-89fa-0242ac120005",
       "next": "31f71280-7877-11ee-89fa-0242ac120005",
       "previous": "fdebec4a-7880-11ee-89fa-0242ac120005"
      },
      {
       "current": "31f70f06-7877-11ee-89fa-0242ac120005-1-c990",
       "next": "31f71280-7877-11ee-89fa-0242ac120005",
       "previous": "1c10c3d4-7882-11ee-89fa-0242ac120005"
      },
      {
       "current": "31f70f06-7877-11ee-89fa-0242ac120005-2-c990-85e1",
       "next": "31f71280-7877-11ee-89fa-0242ac120005-1-69aa",
       "previous": "1c10c3d4-7882-11ee-89fa-0242ac120005-1-d14e"
      },
      {
       "current": "31f70f06-7877-11ee-89fa-0242ac120005-3-c990-85e1-112e",
       "next": "31f71280-7877-11ee-89fa-0242ac120005-2-69aa-c611",
       "previous": "1c10c3d4-7882-11ee-89fa-0242ac120005-2-d14e-ce3e"
      },
      {
       "current": "31f70f06-7877-11ee-89fa-0242ac120005-4-c990-85e1-112e-3c12",
       "next": "31f71280-7877-11ee-89fa-0242ac120005-3-69aa-c611-9929",
       "previous": "1c10c3d4-7882-11ee-89fa-0242ac120005-3-d14e-ce3e-2f3f"
      },
      {
       "current": "31f70f06-7877-11ee-89fa-0242ac120005-5-c990-85e1-112e-3c12-ec86",
       "next": "31f71280-7877-11ee-89fa-0242ac120005-4-69aa-c611-9929-f4bc",
       "previous": "1c10c3d4-7882-11ee-89fa-0242ac120005-4-d14e-ce3e-2f3f-013a"
      }
     ],
     "next": "31f71280-7877-11ee-89fa-0242ac120005-5-69aa-c611-9929-f4bc-1117",
     "previous": "1c10c3d4-7882-11ee-89fa-0242ac120005-5-d14e-ce3e-2f3f-013a-9b49"
    }
   },
   "outputs": [],
   "source": [
    "ret = !ansible -b -m shell -a 'cephadm shell -- ceph osd tree --format=json 2> /dev/null' bootstrap"
   ]
  },
  {
   "cell_type": "code",
   "execution_count": null,
   "metadata": {
    "lc_cell_meme": {
     "current": "31f71280-7877-11ee-89fa-0242ac120005-5-69aa-c611-9929-f4bc-1117",
     "history": [
      {
       "current": "31f71280-7877-11ee-89fa-0242ac120005-1-69aa",
       "next": "31f7132a-7877-11ee-89fa-0242ac120005",
       "previous": "31f70f06-7877-11ee-89fa-0242ac120005"
      },
      {
       "current": "31f71280-7877-11ee-89fa-0242ac120005-2-69aa-c611",
       "next": "31f7132a-7877-11ee-89fa-0242ac120005-1-61bc",
       "previous": "31f70f06-7877-11ee-89fa-0242ac120005-1-c990"
      },
      {
       "current": "31f71280-7877-11ee-89fa-0242ac120005-3-69aa-c611-9929",
       "next": "31f7132a-7877-11ee-89fa-0242ac120005-2-61bc-2fbf",
       "previous": "31f70f06-7877-11ee-89fa-0242ac120005-2-c990-85e1"
      },
      {
       "current": "31f71280-7877-11ee-89fa-0242ac120005-4-69aa-c611-9929-f4bc",
       "next": "31f7132a-7877-11ee-89fa-0242ac120005-3-61bc-2fbf-19d9",
       "previous": "31f70f06-7877-11ee-89fa-0242ac120005-3-c990-85e1-112e"
      },
      {
       "current": "31f71280-7877-11ee-89fa-0242ac120005-5-69aa-c611-9929-f4bc-1117",
       "next": "31f7132a-7877-11ee-89fa-0242ac120005-4-61bc-2fbf-19d9-e8db",
       "previous": "31f70f06-7877-11ee-89fa-0242ac120005-4-c990-85e1-112e-3c12"
      }
     ],
     "next": "31f7132a-7877-11ee-89fa-0242ac120005-5-61bc-2fbf-19d9-e8db-0834",
     "previous": "31f70f06-7877-11ee-89fa-0242ac120005-5-c990-85e1-112e-3c12-ec86"
    },
    "scrolled": true
   },
   "outputs": [],
   "source": [
    "print(ret)"
   ]
  },
  {
   "cell_type": "code",
   "execution_count": null,
   "metadata": {
    "lc_cell_meme": {
     "current": "31f7132a-7877-11ee-89fa-0242ac120005-5-61bc-2fbf-19d9-e8db-0834",
     "history": [
      {
       "current": "31f7132a-7877-11ee-89fa-0242ac120005-1-61bc",
       "next": "31f71398-7877-11ee-89fa-0242ac120005",
       "previous": "31f71280-7877-11ee-89fa-0242ac120005"
      },
      {
       "current": "31f7132a-7877-11ee-89fa-0242ac120005-2-61bc-2fbf",
       "next": "31f71398-7877-11ee-89fa-0242ac120005-1-98f4",
       "previous": "31f71280-7877-11ee-89fa-0242ac120005-1-69aa"
      },
      {
       "current": "31f7132a-7877-11ee-89fa-0242ac120005-3-61bc-2fbf-19d9",
       "next": "31f71398-7877-11ee-89fa-0242ac120005-2-98f4-c846",
       "previous": "31f71280-7877-11ee-89fa-0242ac120005-2-69aa-c611"
      },
      {
       "current": "31f7132a-7877-11ee-89fa-0242ac120005-4-61bc-2fbf-19d9-e8db",
       "next": "31f71398-7877-11ee-89fa-0242ac120005-3-98f4-c846-bc58",
       "previous": "31f71280-7877-11ee-89fa-0242ac120005-3-69aa-c611-9929"
      },
      {
       "current": "31f7132a-7877-11ee-89fa-0242ac120005-5-61bc-2fbf-19d9-e8db-0834",
       "next": "31f71398-7877-11ee-89fa-0242ac120005-4-98f4-c846-bc58-92f5",
       "previous": "31f71280-7877-11ee-89fa-0242ac120005-4-69aa-c611-9929-f4bc"
      }
     ],
     "next": "31f71398-7877-11ee-89fa-0242ac120005-5-98f4-c846-bc58-92f5-878c",
     "previous": "31f71280-7877-11ee-89fa-0242ac120005-5-69aa-c611-9929-f4bc-1117"
    },
    "scrolled": true
   },
   "outputs": [],
   "source": [
    "osd_tree = json.loads(ret[2])\n",
    "print(json.dumps(osd_tree, indent=2))"
   ]
  },
  {
   "cell_type": "code",
   "execution_count": null,
   "metadata": {
    "lc_cell_meme": {
     "current": "31f71398-7877-11ee-89fa-0242ac120005-5-98f4-c846-bc58-92f5-878c",
     "history": [
      {
       "current": "31f71398-7877-11ee-89fa-0242ac120005",
       "next": "8f9c95d6-716a-11ee-89fa-0242ac120005",
       "previous": "31f7132a-7877-11ee-89fa-0242ac120005"
      },
      {
       "current": "31f71398-7877-11ee-89fa-0242ac120005",
       "next": "35c581ba-55a3-11e7-b0b2-00163e9c0e35-3-f60b-133a-40ef",
       "previous": "31f7132a-7877-11ee-89fa-0242ac120005"
      },
      {
       "current": "31f71398-7877-11ee-89fa-0242ac120005",
       "next": "8c52f2dc-787a-11ee-89fa-0242ac120005",
       "previous": "31f7132a-7877-11ee-89fa-0242ac120005"
      },
      {
       "current": "31f71398-7877-11ee-89fa-0242ac120005-1-98f4",
       "next": "8c52f5b6-787a-11ee-89fa-0242ac120005",
       "previous": "31f7132a-7877-11ee-89fa-0242ac120005"
      },
      {
       "current": "31f71398-7877-11ee-89fa-0242ac120005-2-98f4-c846",
       "next": "8c52f5b6-787a-11ee-89fa-0242ac120005-1-f9ec",
       "previous": "31f7132a-7877-11ee-89fa-0242ac120005-1-61bc"
      },
      {
       "current": "31f71398-7877-11ee-89fa-0242ac120005-3-98f4-c846-bc58",
       "next": "8c52f5b6-787a-11ee-89fa-0242ac120005-2-f9ec-39a3",
       "previous": "31f7132a-7877-11ee-89fa-0242ac120005-2-61bc-2fbf"
      },
      {
       "current": "31f71398-7877-11ee-89fa-0242ac120005-4-98f4-c846-bc58-92f5",
       "next": "8c52f5b6-787a-11ee-89fa-0242ac120005-3-f9ec-39a3-bcc5",
       "previous": "31f7132a-7877-11ee-89fa-0242ac120005-3-61bc-2fbf-19d9"
      },
      {
       "current": "31f71398-7877-11ee-89fa-0242ac120005-5-98f4-c846-bc58-92f5-878c",
       "next": "8c52f5b6-787a-11ee-89fa-0242ac120005-4-f9ec-39a3-bcc5-af38",
       "previous": "31f7132a-7877-11ee-89fa-0242ac120005-4-61bc-2fbf-19d9-e8db"
      }
     ],
     "next": "8c52f5b6-787a-11ee-89fa-0242ac120005-5-f9ec-39a3-bcc5-af38-20f8",
     "previous": "31f7132a-7877-11ee-89fa-0242ac120005-5-61bc-2fbf-19d9-e8db-0834"
    }
   },
   "outputs": [],
   "source": [
    "host_map = {}\n",
    "osd_map = {}\n",
    "osd_info_list = []\n",
    "\n",
    "nodes = osd_tree['nodes']\n",
    "for osd_tree_info in nodes:\n",
    "    info_type = osd_tree_info.get('type',None)\n",
    "    if info_type == \"host\":\n",
    "        host_map[osd_tree_info['name']] = osd_tree_info\n",
    "    elif  info_type == \"osd\":\n",
    "        osd_map[osd_tree_info['id']] = osd_tree_info\n",
    "\n",
    "for key,val in host_map.items():\n",
    "    children = val.get('children',[])\n",
    "    for osd_id in children:\n",
    "        osd = osd_map.get(osd_id,None)\n",
    "        if osd is not None:\n",
    "            osd['host_name'] = key\n",
    "            osd.pop('pool_weights')\n",
    "            osd_info_list.append(osd)\n"
   ]
  },
  {
   "cell_type": "code",
   "execution_count": null,
   "metadata": {
    "lc_cell_meme": {
     "current": "8c52f5b6-787a-11ee-89fa-0242ac120005-5-f9ec-39a3-bcc5-af38-20f8",
     "history": [
      {
       "current": "8c52f5b6-787a-11ee-89fa-0242ac120005",
       "next": "8c52f66a-787a-11ee-89fa-0242ac120005",
       "previous": "8c52f2dc-787a-11ee-89fa-0242ac120005"
      },
      {
       "current": "8c52f5b6-787a-11ee-89fa-0242ac120005",
       "next": "1c10c596-7882-11ee-89fa-0242ac120005",
       "previous": "8c52f2dc-787a-11ee-89fa-0242ac120005"
      },
      {
       "current": "8c52f5b6-787a-11ee-89fa-0242ac120005",
       "next": "1c10c596-7882-11ee-89fa-0242ac120005-1-83a6",
       "previous": "8c52f2dc-787a-11ee-89fa-0242ac120005"
      },
      {
       "current": "8c52f5b6-787a-11ee-89fa-0242ac120005",
       "next": "1c10c596-7882-11ee-89fa-0242ac120005-1-83a6",
       "previous": "31f71398-7877-11ee-89fa-0242ac120005"
      },
      {
       "current": "8c52f5b6-787a-11ee-89fa-0242ac120005",
       "next": "3109ce1a-8765-11ee-91d3-0242ac120006",
       "previous": "31f71398-7877-11ee-89fa-0242ac120005"
      },
      {
       "current": "8c52f5b6-787a-11ee-89fa-0242ac120005-1-f9ec",
       "next": "3109ce1a-8765-11ee-91d3-0242ac120006-1-9be3",
       "previous": "31f71398-7877-11ee-89fa-0242ac120005"
      },
      {
       "current": "8c52f5b6-787a-11ee-89fa-0242ac120005-2-f9ec-39a3",
       "next": "3109ce1a-8765-11ee-91d3-0242ac120006-2-9be3-3985",
       "previous": "31f71398-7877-11ee-89fa-0242ac120005-1-98f4"
      },
      {
       "current": "8c52f5b6-787a-11ee-89fa-0242ac120005-3-f9ec-39a3-bcc5",
       "next": "3109ce1a-8765-11ee-91d3-0242ac120006-3-9be3-3985-48cf",
       "previous": "31f71398-7877-11ee-89fa-0242ac120005-2-98f4-c846"
      },
      {
       "current": "8c52f5b6-787a-11ee-89fa-0242ac120005-4-f9ec-39a3-bcc5-af38",
       "next": "3109ce1a-8765-11ee-91d3-0242ac120006-4-9be3-3985-48cf-ecc4",
       "previous": "31f71398-7877-11ee-89fa-0242ac120005-3-98f4-c846-bc58"
      },
      {
       "current": "8c52f5b6-787a-11ee-89fa-0242ac120005-5-f9ec-39a3-bcc5-af38-20f8",
       "next": "3109ce1a-8765-11ee-91d3-0242ac120006-5-9be3-3985-48cf-ecc4-32eb",
       "previous": "31f71398-7877-11ee-89fa-0242ac120005-4-98f4-c846-bc58-92f5"
      }
     ],
     "next": "3109ce1a-8765-11ee-91d3-0242ac120006-6-9be3-3985-48cf-ecc4-32eb-6b33",
     "previous": "31f71398-7877-11ee-89fa-0242ac120005-5-98f4-c846-bc58-92f5-878c"
    },
    "scrolled": true
   },
   "outputs": [],
   "source": [
    "pd.DataFrame(osd_info_list)"
   ]
  },
  {
   "cell_type": "markdown",
   "metadata": {
    "lc_cell_meme": {
     "current": "3109ce1a-8765-11ee-91d3-0242ac120006-6-9be3-3985-48cf-ecc4-32eb-6b33",
     "history": [
      {
       "current": "3109ce1a-8765-11ee-91d3-0242ac120006-1-9be3",
       "next": "3109d018-8765-11ee-91d3-0242ac120006",
       "previous": "8c52f5b6-787a-11ee-89fa-0242ac120005"
      },
      {
       "current": "3109ce1a-8765-11ee-91d3-0242ac120006-2-9be3-3985",
       "next": "3109d018-8765-11ee-91d3-0242ac120006-1-35ae",
       "previous": "8c52f5b6-787a-11ee-89fa-0242ac120005"
      },
      {
       "current": "3109ce1a-8765-11ee-91d3-0242ac120006-3-9be3-3985-48cf",
       "next": "3109d018-8765-11ee-91d3-0242ac120006-2-35ae-70f5",
       "previous": "8c52f5b6-787a-11ee-89fa-0242ac120005-1-f9ec"
      },
      {
       "current": "3109ce1a-8765-11ee-91d3-0242ac120006-4-9be3-3985-48cf-ecc4",
       "next": "3109d018-8765-11ee-91d3-0242ac120006-3-35ae-70f5-90b6",
       "previous": "8c52f5b6-787a-11ee-89fa-0242ac120005-2-f9ec-39a3"
      },
      {
       "current": "3109ce1a-8765-11ee-91d3-0242ac120006-5-9be3-3985-48cf-ecc4-32eb",
       "next": "3109d018-8765-11ee-91d3-0242ac120006-4-35ae-70f5-90b6-0779",
       "previous": "8c52f5b6-787a-11ee-89fa-0242ac120005-3-f9ec-39a3-bcc5"
      },
      {
       "current": "3109ce1a-8765-11ee-91d3-0242ac120006-6-9be3-3985-48cf-ecc4-32eb-6b33",
       "next": "3109d018-8765-11ee-91d3-0242ac120006-5-35ae-70f5-90b6-0779-5fce",
       "previous": "8c52f5b6-787a-11ee-89fa-0242ac120005-4-f9ec-39a3-bcc5-af38"
      }
     ],
     "next": "3109d018-8765-11ee-91d3-0242ac120006-6-35ae-70f5-90b6-0779-5fce-dec2",
     "previous": "8c52f5b6-787a-11ee-89fa-0242ac120005-5-f9ec-39a3-bcc5-af38-20f8"
    }
   },
   "source": [
    "## 全てのOSDを停止"
   ]
  },
  {
   "cell_type": "code",
   "execution_count": null,
   "metadata": {
    "lc_cell_meme": {
     "current": "3109d018-8765-11ee-91d3-0242ac120006-6-35ae-70f5-90b6-0779-5fce-dec2",
     "history": [
      {
       "current": "3109d018-8765-11ee-91d3-0242ac120006-1-35ae",
       "next": "3109d0a4-8765-11ee-91d3-0242ac120006",
       "previous": "3109ce1a-8765-11ee-91d3-0242ac120006"
      },
      {
       "current": "3109d018-8765-11ee-91d3-0242ac120006-1-35ae",
       "next": "1c10c596-7882-11ee-89fa-0242ac120005-2-83a6-c37a",
       "previous": "3109ce1a-8765-11ee-91d3-0242ac120006-1-9be3"
      },
      {
       "current": "3109d018-8765-11ee-91d3-0242ac120006-1-35ae",
       "next": "4f25b1ce-8766-11ee-91d3-0242ac120006",
       "previous": "3109ce1a-8765-11ee-91d3-0242ac120006-1-9be3"
      },
      {
       "current": "3109d018-8765-11ee-91d3-0242ac120006-2-35ae-70f5",
       "next": "392aa416-876a-11ee-91d3-0242ac120006",
       "previous": "3109ce1a-8765-11ee-91d3-0242ac120006-1-9be3"
      },
      {
       "current": "3109d018-8765-11ee-91d3-0242ac120006-2-35ae-70f5",
       "next": "392aa416-876a-11ee-91d3-0242ac120006-1-cde2",
       "previous": "3109ce1a-8765-11ee-91d3-0242ac120006-2-9be3-3985"
      },
      {
       "current": "3109d018-8765-11ee-91d3-0242ac120006-2-35ae-70f5",
       "next": "97f2957c-0c2f-11ef-9d3e-0242ac120006",
       "previous": "3109ce1a-8765-11ee-91d3-0242ac120006-2-9be3-3985"
      },
      {
       "current": "3109d018-8765-11ee-91d3-0242ac120006-2-35ae-70f5",
       "next": "3109ce1a-8765-11ee-91d3-0242ac120006-3-9be3-3985-50d2",
       "previous": "3109ce1a-8765-11ee-91d3-0242ac120006-2-9be3-3985"
      },
      {
       "current": "3109d018-8765-11ee-91d3-0242ac120006-3-35ae-70f5-90b6",
       "next": "1c10c3d4-7882-11ee-89fa-0242ac120005-2-d14e-8efd",
       "previous": "3109ce1a-8765-11ee-91d3-0242ac120006-2-9be3-3985"
      },
      {
       "current": "3109d018-8765-11ee-91d3-0242ac120006-4-35ae-70f5-90b6-0779",
       "next": "1c10c3d4-7882-11ee-89fa-0242ac120005-3-d14e-8efd-6974",
       "previous": "3109ce1a-8765-11ee-91d3-0242ac120006-3-9be3-3985-48cf"
      },
      {
       "current": "3109d018-8765-11ee-91d3-0242ac120006-5-35ae-70f5-90b6-0779-5fce",
       "next": "1c10c3d4-7882-11ee-89fa-0242ac120005-4-d14e-8efd-6974-6d83",
       "previous": "3109ce1a-8765-11ee-91d3-0242ac120006-4-9be3-3985-48cf-ecc4"
      },
      {
       "current": "3109d018-8765-11ee-91d3-0242ac120006-6-35ae-70f5-90b6-0779-5fce-dec2",
       "next": "1c10c3d4-7882-11ee-89fa-0242ac120005-5-d14e-8efd-6974-6d83-0655",
       "previous": "3109ce1a-8765-11ee-91d3-0242ac120006-5-9be3-3985-48cf-ecc4-32eb"
      }
     ],
     "next": "1c10c3d4-7882-11ee-89fa-0242ac120005-6-d14e-8efd-6974-6d83-0655-2d8f",
     "previous": "3109ce1a-8765-11ee-91d3-0242ac120006-6-9be3-3985-48cf-ecc4-32eb-6b33"
    },
    "scrolled": true
   },
   "outputs": [],
   "source": [
    "for osd_info in osd_info_list:\n",
    "    name = osd_info['name']\n",
    "    !ansible -b -m shell -a \"cephadm shell -- ceph orch daemon stop $name\" bootstrap"
   ]
  },
  {
   "cell_type": "markdown",
   "metadata": {
    "lc_cell_meme": {
     "current": "1c10c3d4-7882-11ee-89fa-0242ac120005-6-d14e-8efd-6974-6d83-0655-2d8f",
     "history": [
      {
       "current": "1c10c3d4-7882-11ee-89fa-0242ac120005",
       "next": "31f70f06-7877-11ee-89fa-0242ac120005",
       "previous": "ac56a252-95bd-11ea-8d02-0242ac120007-3-86ee-3a22-9a71"
      },
      {
       "current": "1c10c3d4-7882-11ee-89fa-0242ac120005",
       "next": "31f70f06-7877-11ee-89fa-0242ac120005",
       "previous": "5a4c5726-8764-11ee-91d3-0242ac120006"
      },
      {
       "current": "1c10c3d4-7882-11ee-89fa-0242ac120005",
       "next": "31f70f06-7877-11ee-89fa-0242ac120005",
       "previous": "e982ac1a-8764-11ee-91d3-0242ac120006"
      },
      {
       "current": "1c10c3d4-7882-11ee-89fa-0242ac120005-1-d14e",
       "next": "31f70f06-7877-11ee-89fa-0242ac120005",
       "previous": "392aa268-876a-11ee-91d3-0242ac120006"
      },
      {
       "current": "1c10c3d4-7882-11ee-89fa-0242ac120005-2-d14e-8efd",
       "next": "31f70f06-7877-11ee-89fa-0242ac120005-1-c990",
       "previous": "392aa268-876a-11ee-91d3-0242ac120006-1-29d4"
      },
      {
       "current": "1c10c3d4-7882-11ee-89fa-0242ac120005-2-d14e-8efd",
       "next": "31f70f06-7877-11ee-89fa-0242ac120005-2-c990-b733",
       "previous": "3109d018-8765-11ee-91d3-0242ac120006-3-35ae-70f5-71ba"
      },
      {
       "current": "1c10c3d4-7882-11ee-89fa-0242ac120005-3-d14e-8efd-6974",
       "next": "31f70f06-7877-11ee-89fa-0242ac120005-2-c990-b733",
       "previous": "3109d018-8765-11ee-91d3-0242ac120006-2-35ae-70f5"
      },
      {
       "current": "1c10c3d4-7882-11ee-89fa-0242ac120005-4-d14e-8efd-6974-6d83",
       "next": "31f70f06-7877-11ee-89fa-0242ac120005-3-c990-b733-3e06",
       "previous": "3109d018-8765-11ee-91d3-0242ac120006-3-35ae-70f5-90b6"
      },
      {
       "current": "1c10c3d4-7882-11ee-89fa-0242ac120005-5-d14e-8efd-6974-6d83-0655",
       "next": "31f70f06-7877-11ee-89fa-0242ac120005-4-c990-b733-3e06-0517",
       "previous": "3109d018-8765-11ee-91d3-0242ac120006-4-35ae-70f5-90b6-0779"
      },
      {
       "current": "1c10c3d4-7882-11ee-89fa-0242ac120005-6-d14e-8efd-6974-6d83-0655-2d8f",
       "next": "31f70f06-7877-11ee-89fa-0242ac120005-5-c990-b733-3e06-0517-8c88",
       "previous": "3109d018-8765-11ee-91d3-0242ac120006-5-35ae-70f5-90b6-0779-5fce"
      }
     ],
     "next": "31f70f06-7877-11ee-89fa-0242ac120005-6-c990-b733-3e06-0517-8c88-e443",
     "previous": "3109d018-8765-11ee-91d3-0242ac120006-6-35ae-70f5-90b6-0779-5fce-dec2"
    }
   },
   "source": [
    "## 停止後の全てのOSD情報取得"
   ]
  },
  {
   "cell_type": "code",
   "execution_count": null,
   "metadata": {
    "lc_cell_meme": {
     "current": "31f70f06-7877-11ee-89fa-0242ac120005-6-c990-b733-3e06-0517-8c88-e443",
     "history": [
      {
       "current": "31f70f06-7877-11ee-89fa-0242ac120005",
       "next": "31f71280-7877-11ee-89fa-0242ac120005",
       "previous": "ac56a252-95bd-11ea-8d02-0242ac120007-3-86ee-3a22-9a71"
      },
      {
       "current": "31f70f06-7877-11ee-89fa-0242ac120005",
       "next": "31f71280-7877-11ee-89fa-0242ac120005",
       "previous": "fdebec4a-7880-11ee-89fa-0242ac120005"
      },
      {
       "current": "31f70f06-7877-11ee-89fa-0242ac120005-1-c990",
       "next": "31f71280-7877-11ee-89fa-0242ac120005",
       "previous": "1c10c3d4-7882-11ee-89fa-0242ac120005"
      },
      {
       "current": "31f70f06-7877-11ee-89fa-0242ac120005-2-c990-b733",
       "next": "31f71280-7877-11ee-89fa-0242ac120005-1-69aa",
       "previous": "1c10c3d4-7882-11ee-89fa-0242ac120005-1-d14e"
      },
      {
       "current": "31f70f06-7877-11ee-89fa-0242ac120005-3-c990-b733-3e06",
       "next": "31f71280-7877-11ee-89fa-0242ac120005-2-69aa-48ec",
       "previous": "1c10c3d4-7882-11ee-89fa-0242ac120005-2-d14e-8efd"
      },
      {
       "current": "31f70f06-7877-11ee-89fa-0242ac120005-4-c990-b733-3e06-0517",
       "next": "31f71280-7877-11ee-89fa-0242ac120005-3-69aa-48ec-7090",
       "previous": "1c10c3d4-7882-11ee-89fa-0242ac120005-3-d14e-8efd-6974"
      },
      {
       "current": "31f70f06-7877-11ee-89fa-0242ac120005-5-c990-b733-3e06-0517-8c88",
       "next": "31f71280-7877-11ee-89fa-0242ac120005-4-69aa-48ec-7090-d00e",
       "previous": "1c10c3d4-7882-11ee-89fa-0242ac120005-4-d14e-8efd-6974-6d83"
      },
      {
       "current": "31f70f06-7877-11ee-89fa-0242ac120005-6-c990-b733-3e06-0517-8c88-e443",
       "next": "31f71280-7877-11ee-89fa-0242ac120005-5-69aa-48ec-7090-d00e-adf3",
       "previous": "1c10c3d4-7882-11ee-89fa-0242ac120005-5-d14e-8efd-6974-6d83-0655"
      }
     ],
     "next": "31f71280-7877-11ee-89fa-0242ac120005-6-69aa-48ec-7090-d00e-adf3-cdba",
     "previous": "1c10c3d4-7882-11ee-89fa-0242ac120005-6-d14e-8efd-6974-6d83-0655-2d8f"
    }
   },
   "outputs": [],
   "source": [
    "ret = !ansible -b -m shell -a 'cephadm shell -- ceph osd tree --format=json 2> /dev/null' bootstrap"
   ]
  },
  {
   "cell_type": "code",
   "execution_count": null,
   "metadata": {
    "lc_cell_meme": {
     "current": "31f71280-7877-11ee-89fa-0242ac120005-6-69aa-48ec-7090-d00e-adf3-cdba",
     "history": [
      {
       "current": "31f71280-7877-11ee-89fa-0242ac120005-1-69aa",
       "next": "31f7132a-7877-11ee-89fa-0242ac120005",
       "previous": "31f70f06-7877-11ee-89fa-0242ac120005"
      },
      {
       "current": "31f71280-7877-11ee-89fa-0242ac120005-2-69aa-48ec",
       "next": "31f7132a-7877-11ee-89fa-0242ac120005-1-61bc",
       "previous": "31f70f06-7877-11ee-89fa-0242ac120005-1-c990"
      },
      {
       "current": "31f71280-7877-11ee-89fa-0242ac120005-3-69aa-48ec-7090",
       "next": "31f7132a-7877-11ee-89fa-0242ac120005-2-61bc-73d1",
       "previous": "31f70f06-7877-11ee-89fa-0242ac120005-2-c990-b733"
      },
      {
       "current": "31f71280-7877-11ee-89fa-0242ac120005-4-69aa-48ec-7090-d00e",
       "next": "31f7132a-7877-11ee-89fa-0242ac120005-3-61bc-73d1-c22c",
       "previous": "31f70f06-7877-11ee-89fa-0242ac120005-3-c990-b733-3e06"
      },
      {
       "current": "31f71280-7877-11ee-89fa-0242ac120005-5-69aa-48ec-7090-d00e-adf3",
       "next": "31f7132a-7877-11ee-89fa-0242ac120005-4-61bc-73d1-c22c-8849",
       "previous": "31f70f06-7877-11ee-89fa-0242ac120005-4-c990-b733-3e06-0517"
      },
      {
       "current": "31f71280-7877-11ee-89fa-0242ac120005-6-69aa-48ec-7090-d00e-adf3-cdba",
       "next": "31f7132a-7877-11ee-89fa-0242ac120005-5-61bc-73d1-c22c-8849-abca",
       "previous": "31f70f06-7877-11ee-89fa-0242ac120005-5-c990-b733-3e06-0517-8c88"
      }
     ],
     "next": "31f7132a-7877-11ee-89fa-0242ac120005-6-61bc-73d1-c22c-8849-abca-c686",
     "previous": "31f70f06-7877-11ee-89fa-0242ac120005-6-c990-b733-3e06-0517-8c88-e443"
    },
    "scrolled": true
   },
   "outputs": [],
   "source": [
    "print(ret)"
   ]
  },
  {
   "cell_type": "code",
   "execution_count": null,
   "metadata": {
    "lc_cell_meme": {
     "current": "31f7132a-7877-11ee-89fa-0242ac120005-6-61bc-73d1-c22c-8849-abca-c686",
     "history": [
      {
       "current": "31f7132a-7877-11ee-89fa-0242ac120005-1-61bc",
       "next": "31f71398-7877-11ee-89fa-0242ac120005",
       "previous": "31f71280-7877-11ee-89fa-0242ac120005"
      },
      {
       "current": "31f7132a-7877-11ee-89fa-0242ac120005-2-61bc-73d1",
       "next": "31f71398-7877-11ee-89fa-0242ac120005-1-98f4",
       "previous": "31f71280-7877-11ee-89fa-0242ac120005-1-69aa"
      },
      {
       "current": "31f7132a-7877-11ee-89fa-0242ac120005-3-61bc-73d1-c22c",
       "next": "31f71398-7877-11ee-89fa-0242ac120005-2-98f4-9228",
       "previous": "31f71280-7877-11ee-89fa-0242ac120005-2-69aa-48ec"
      },
      {
       "current": "31f7132a-7877-11ee-89fa-0242ac120005-4-61bc-73d1-c22c-8849",
       "next": "31f71398-7877-11ee-89fa-0242ac120005-3-98f4-9228-40e2",
       "previous": "31f71280-7877-11ee-89fa-0242ac120005-3-69aa-48ec-7090"
      },
      {
       "current": "31f7132a-7877-11ee-89fa-0242ac120005-5-61bc-73d1-c22c-8849-abca",
       "next": "31f71398-7877-11ee-89fa-0242ac120005-4-98f4-9228-40e2-f077",
       "previous": "31f71280-7877-11ee-89fa-0242ac120005-4-69aa-48ec-7090-d00e"
      },
      {
       "current": "31f7132a-7877-11ee-89fa-0242ac120005-6-61bc-73d1-c22c-8849-abca-c686",
       "next": "31f71398-7877-11ee-89fa-0242ac120005-5-98f4-9228-40e2-f077-8991",
       "previous": "31f71280-7877-11ee-89fa-0242ac120005-5-69aa-48ec-7090-d00e-adf3"
      }
     ],
     "next": "31f71398-7877-11ee-89fa-0242ac120005-6-98f4-9228-40e2-f077-8991-6cee",
     "previous": "31f71280-7877-11ee-89fa-0242ac120005-6-69aa-48ec-7090-d00e-adf3-cdba"
    },
    "scrolled": true
   },
   "outputs": [],
   "source": [
    "osd_tree = json.loads(ret[2])\n",
    "print(json.dumps(osd_tree, indent=2))"
   ]
  },
  {
   "cell_type": "code",
   "execution_count": null,
   "metadata": {
    "lc_cell_meme": {
     "current": "31f71398-7877-11ee-89fa-0242ac120005-6-98f4-9228-40e2-f077-8991-6cee",
     "history": [
      {
       "current": "31f71398-7877-11ee-89fa-0242ac120005",
       "next": "8f9c95d6-716a-11ee-89fa-0242ac120005",
       "previous": "31f7132a-7877-11ee-89fa-0242ac120005"
      },
      {
       "current": "31f71398-7877-11ee-89fa-0242ac120005",
       "next": "35c581ba-55a3-11e7-b0b2-00163e9c0e35-3-f60b-133a-40ef",
       "previous": "31f7132a-7877-11ee-89fa-0242ac120005"
      },
      {
       "current": "31f71398-7877-11ee-89fa-0242ac120005",
       "next": "8c52f2dc-787a-11ee-89fa-0242ac120005",
       "previous": "31f7132a-7877-11ee-89fa-0242ac120005"
      },
      {
       "current": "31f71398-7877-11ee-89fa-0242ac120005-1-98f4",
       "next": "8c52f5b6-787a-11ee-89fa-0242ac120005",
       "previous": "31f7132a-7877-11ee-89fa-0242ac120005"
      },
      {
       "current": "31f71398-7877-11ee-89fa-0242ac120005-2-98f4-9228",
       "next": "8c52f5b6-787a-11ee-89fa-0242ac120005-1-f9ec",
       "previous": "31f7132a-7877-11ee-89fa-0242ac120005-1-61bc"
      },
      {
       "current": "31f71398-7877-11ee-89fa-0242ac120005-3-98f4-9228-40e2",
       "next": "8c52f5b6-787a-11ee-89fa-0242ac120005-2-f9ec-2677",
       "previous": "31f7132a-7877-11ee-89fa-0242ac120005-2-61bc-73d1"
      },
      {
       "current": "31f71398-7877-11ee-89fa-0242ac120005-4-98f4-9228-40e2-f077",
       "next": "8c52f5b6-787a-11ee-89fa-0242ac120005-3-f9ec-2677-4d3c",
       "previous": "31f7132a-7877-11ee-89fa-0242ac120005-3-61bc-73d1-c22c"
      },
      {
       "current": "31f71398-7877-11ee-89fa-0242ac120005-5-98f4-9228-40e2-f077-8991",
       "next": "8c52f5b6-787a-11ee-89fa-0242ac120005-4-f9ec-2677-4d3c-6314",
       "previous": "31f7132a-7877-11ee-89fa-0242ac120005-4-61bc-73d1-c22c-8849"
      },
      {
       "current": "31f71398-7877-11ee-89fa-0242ac120005-6-98f4-9228-40e2-f077-8991-6cee",
       "next": "8c52f5b6-787a-11ee-89fa-0242ac120005-5-f9ec-2677-4d3c-6314-148c",
       "previous": "31f7132a-7877-11ee-89fa-0242ac120005-5-61bc-73d1-c22c-8849-abca"
      }
     ],
     "next": "8c52f5b6-787a-11ee-89fa-0242ac120005-6-f9ec-2677-4d3c-6314-148c-58b3",
     "previous": "31f7132a-7877-11ee-89fa-0242ac120005-6-61bc-73d1-c22c-8849-abca-c686"
    }
   },
   "outputs": [],
   "source": [
    "host_map = {}\n",
    "osd_map = {}\n",
    "osd_info_list = []\n",
    "\n",
    "nodes = osd_tree['nodes']\n",
    "for osd_tree_info in nodes:\n",
    "    info_type = osd_tree_info.get('type',None)\n",
    "    if info_type == \"host\":\n",
    "        host_map[osd_tree_info['name']] = osd_tree_info\n",
    "    elif  info_type == \"osd\":\n",
    "        osd_map[osd_tree_info['id']] = osd_tree_info\n",
    "\n",
    "for key,val in host_map.items():\n",
    "    children = val.get('children',[])\n",
    "    for osd_id in children:\n",
    "        osd = osd_map.get(osd_id,None)\n",
    "        if osd is not None:\n",
    "            osd['host_name'] = key\n",
    "            osd.pop('pool_weights')\n",
    "            osd_info_list.append(osd)\n"
   ]
  },
  {
   "cell_type": "code",
   "execution_count": null,
   "metadata": {
    "lc_cell_meme": {
     "current": "8c52f5b6-787a-11ee-89fa-0242ac120005-6-f9ec-2677-4d3c-6314-148c-58b3",
     "history": [
      {
       "current": "8c52f5b6-787a-11ee-89fa-0242ac120005",
       "next": "8c52f66a-787a-11ee-89fa-0242ac120005",
       "previous": "8c52f2dc-787a-11ee-89fa-0242ac120005"
      },
      {
       "current": "8c52f5b6-787a-11ee-89fa-0242ac120005",
       "next": "1c10c596-7882-11ee-89fa-0242ac120005",
       "previous": "8c52f2dc-787a-11ee-89fa-0242ac120005"
      },
      {
       "current": "8c52f5b6-787a-11ee-89fa-0242ac120005",
       "next": "1c10c596-7882-11ee-89fa-0242ac120005-1-83a6",
       "previous": "8c52f2dc-787a-11ee-89fa-0242ac120005"
      },
      {
       "current": "8c52f5b6-787a-11ee-89fa-0242ac120005",
       "next": "1c10c596-7882-11ee-89fa-0242ac120005-1-83a6",
       "previous": "31f71398-7877-11ee-89fa-0242ac120005"
      },
      {
       "current": "8c52f5b6-787a-11ee-89fa-0242ac120005",
       "next": "3109ce1a-8765-11ee-91d3-0242ac120006",
       "previous": "31f71398-7877-11ee-89fa-0242ac120005"
      },
      {
       "current": "8c52f5b6-787a-11ee-89fa-0242ac120005-1-f9ec",
       "next": "3109ce1a-8765-11ee-91d3-0242ac120006-1-9be3",
       "previous": "31f71398-7877-11ee-89fa-0242ac120005"
      },
      {
       "current": "8c52f5b6-787a-11ee-89fa-0242ac120005-2-f9ec-2677",
       "next": "3109ce1a-8765-11ee-91d3-0242ac120006-2-9be3-3985",
       "previous": "31f71398-7877-11ee-89fa-0242ac120005-1-98f4"
      },
      {
       "current": "8c52f5b6-787a-11ee-89fa-0242ac120005-2-f9ec-2677",
       "next": "97f297c0-0c2f-11ef-9d3e-0242ac120006",
       "previous": "31f71398-7877-11ee-89fa-0242ac120005-2-98f4-9228"
      },
      {
       "current": "8c52f5b6-787a-11ee-89fa-0242ac120005-3-f9ec-2677-4d3c",
       "next": "392aa416-876a-11ee-91d3-0242ac120006-1-cde2",
       "previous": "31f71398-7877-11ee-89fa-0242ac120005-2-98f4-9228"
      },
      {
       "current": "8c52f5b6-787a-11ee-89fa-0242ac120005-4-f9ec-2677-4d3c-6314",
       "next": "392aa416-876a-11ee-91d3-0242ac120006-2-cde2-915b",
       "previous": "31f71398-7877-11ee-89fa-0242ac120005-3-98f4-9228-40e2"
      },
      {
       "current": "8c52f5b6-787a-11ee-89fa-0242ac120005-5-f9ec-2677-4d3c-6314-148c",
       "next": "392aa416-876a-11ee-91d3-0242ac120006-3-cde2-915b-6453",
       "previous": "31f71398-7877-11ee-89fa-0242ac120005-4-98f4-9228-40e2-f077"
      },
      {
       "current": "8c52f5b6-787a-11ee-89fa-0242ac120005-6-f9ec-2677-4d3c-6314-148c-58b3",
       "next": "392aa416-876a-11ee-91d3-0242ac120006-4-cde2-915b-6453-5be0",
       "previous": "31f71398-7877-11ee-89fa-0242ac120005-5-98f4-9228-40e2-f077-8991"
      }
     ],
     "next": "392aa416-876a-11ee-91d3-0242ac120006-5-cde2-915b-6453-5be0-bd23",
     "previous": "31f71398-7877-11ee-89fa-0242ac120005-6-98f4-9228-40e2-f077-8991-6cee"
    },
    "scrolled": true
   },
   "outputs": [],
   "source": [
    "pd.DataFrame(osd_info_list)"
   ]
  },
  {
   "cell_type": "code",
   "execution_count": null,
   "metadata": {
    "lc_cell_meme": {
     "current": "392aa416-876a-11ee-91d3-0242ac120006-5-cde2-915b-6453-5be0-bd23",
     "history": [
      {
       "current": "392aa416-876a-11ee-91d3-0242ac120006-1-cde2",
       "next": "4f25b1ce-8766-11ee-91d3-0242ac120006",
       "previous": "3109d018-8765-11ee-91d3-0242ac120006-1-35ae"
      },
      {
       "current": "392aa416-876a-11ee-91d3-0242ac120006-1-cde2",
       "next": "4f25b1ce-8766-11ee-91d3-0242ac120006-1-91f4",
       "previous": "3109d018-8765-11ee-91d3-0242ac120006-2-35ae-70f5"
      },
      {
       "current": "392aa416-876a-11ee-91d3-0242ac120006-1-cde2",
       "next": "97f2982e-0c2f-11ef-9d3e-0242ac120006",
       "previous": "97f297c0-0c2f-11ef-9d3e-0242ac120006"
      },
      {
       "current": "392aa416-876a-11ee-91d3-0242ac120006-1-cde2",
       "next": "97f2982e-0c2f-11ef-9d3e-0242ac120006",
       "previous": "8c52f5b6-787a-11ee-89fa-0242ac120005-2-f9ec-2677"
      },
      {
       "current": "392aa416-876a-11ee-91d3-0242ac120006-2-cde2-915b",
       "next": "fdf63f30-0c30-11ef-9d3e-0242ac120006",
       "previous": "8c52f5b6-787a-11ee-89fa-0242ac120005-2-f9ec-2677"
      },
      {
       "current": "392aa416-876a-11ee-91d3-0242ac120006-3-cde2-915b-6453",
       "next": "fdf63f30-0c30-11ef-9d3e-0242ac120006-1-a65b",
       "previous": "8c52f5b6-787a-11ee-89fa-0242ac120005-3-f9ec-2677-4d3c"
      },
      {
       "current": "392aa416-876a-11ee-91d3-0242ac120006-4-cde2-915b-6453-5be0",
       "next": "fdf63f30-0c30-11ef-9d3e-0242ac120006-2-a65b-6998",
       "previous": "8c52f5b6-787a-11ee-89fa-0242ac120005-4-f9ec-2677-4d3c-6314"
      },
      {
       "current": "392aa416-876a-11ee-91d3-0242ac120006-5-cde2-915b-6453-5be0-bd23",
       "next": "fdf63f30-0c30-11ef-9d3e-0242ac120006-3-a65b-6998-beaa",
       "previous": "8c52f5b6-787a-11ee-89fa-0242ac120005-5-f9ec-2677-4d3c-6314-148c"
      }
     ],
     "next": "fdf63f30-0c30-11ef-9d3e-0242ac120006-4-a65b-6998-beaa-3c3a",
     "previous": "8c52f5b6-787a-11ee-89fa-0242ac120005-6-f9ec-2677-4d3c-6314-148c-58b3"
    }
   },
   "outputs": [],
   "source": [
    "!ansible -b -m shell -a \"cephadm shell -- ceph -s 2> /dev/null\" bootstrap"
   ]
  },
  {
   "cell_type": "markdown",
   "metadata": {
    "lc_cell_meme": {
     "current": "fdf63f30-0c30-11ef-9d3e-0242ac120006-4-a65b-6998-beaa-3c3a",
     "history": [
      {
       "current": "fdf63f30-0c30-11ef-9d3e-0242ac120006-1-a65b",
       "next": "97f2982e-0c2f-11ef-9d3e-0242ac120006",
       "previous": "392aa416-876a-11ee-91d3-0242ac120006-1-cde2"
      },
      {
       "current": "fdf63f30-0c30-11ef-9d3e-0242ac120006-2-a65b-6998",
       "next": "97f2982e-0c2f-11ef-9d3e-0242ac120006-1-4911",
       "previous": "392aa416-876a-11ee-91d3-0242ac120006-2-cde2-915b"
      },
      {
       "current": "fdf63f30-0c30-11ef-9d3e-0242ac120006-3-a65b-6998-beaa",
       "next": "97f2982e-0c2f-11ef-9d3e-0242ac120006-2-4911-1732",
       "previous": "392aa416-876a-11ee-91d3-0242ac120006-3-cde2-915b-6453"
      },
      {
       "current": "fdf63f30-0c30-11ef-9d3e-0242ac120006-4-a65b-6998-beaa-3c3a",
       "next": "97f2982e-0c2f-11ef-9d3e-0242ac120006-3-4911-1732-21e8",
       "previous": "392aa416-876a-11ee-91d3-0242ac120006-4-cde2-915b-6453-5be0"
      }
     ],
     "next": "97f2982e-0c2f-11ef-9d3e-0242ac120006-4-4911-1732-21e8-58e8",
     "previous": "392aa416-876a-11ee-91d3-0242ac120006-5-cde2-915b-6453-5be0-bd23"
    }
   },
   "source": [
    "### OSDサービス確認"
   ]
  },
  {
   "cell_type": "code",
   "execution_count": null,
   "metadata": {
    "lc_cell_meme": {
     "current": "97f2982e-0c2f-11ef-9d3e-0242ac120006-4-4911-1732-21e8-58e8",
     "history": [
      {
       "current": "97f2982e-0c2f-11ef-9d3e-0242ac120006",
       "next": "4f25b1ce-8766-11ee-91d3-0242ac120006-1-91f4",
       "previous": "392aa416-876a-11ee-91d3-0242ac120006-1-cde2"
      },
      {
       "current": "97f2982e-0c2f-11ef-9d3e-0242ac120006",
       "next": "4f25b1ce-8766-11ee-91d3-0242ac120006-1-91f4",
       "previous": "fdf63f30-0c30-11ef-9d3e-0242ac120006"
      },
      {
       "current": "97f2982e-0c2f-11ef-9d3e-0242ac120006",
       "next": "becdc92c-0c35-11ef-9d3e-0242ac120006",
       "previous": "fdf63f30-0c30-11ef-9d3e-0242ac120006"
      },
      {
       "current": "97f2982e-0c2f-11ef-9d3e-0242ac120006-1-4911",
       "next": "4f25b1ce-8766-11ee-91d3-0242ac120006-1-91f4",
       "previous": "fdf63f30-0c30-11ef-9d3e-0242ac120006"
      },
      {
       "current": "97f2982e-0c2f-11ef-9d3e-0242ac120006-2-4911-1732",
       "next": "4f25b1ce-8766-11ee-91d3-0242ac120006-2-91f4-254e",
       "previous": "fdf63f30-0c30-11ef-9d3e-0242ac120006-1-a65b"
      },
      {
       "current": "97f2982e-0c2f-11ef-9d3e-0242ac120006-3-4911-1732-21e8",
       "next": "4f25b1ce-8766-11ee-91d3-0242ac120006-3-91f4-254e-23e8",
       "previous": "fdf63f30-0c30-11ef-9d3e-0242ac120006-2-a65b-6998"
      },
      {
       "current": "97f2982e-0c2f-11ef-9d3e-0242ac120006-4-4911-1732-21e8-58e8",
       "next": "4f25b1ce-8766-11ee-91d3-0242ac120006-4-91f4-254e-23e8-318a",
       "previous": "fdf63f30-0c30-11ef-9d3e-0242ac120006-3-a65b-6998-beaa"
      }
     ],
     "next": "4f25b1ce-8766-11ee-91d3-0242ac120006-5-91f4-254e-23e8-318a-8e6e",
     "previous": "fdf63f30-0c30-11ef-9d3e-0242ac120006-4-a65b-6998-beaa-3c3a"
    },
    "scrolled": false
   },
   "outputs": [],
   "source": [
    "for node in node_list:\n",
    "    name =  node['name']\n",
    "    prov_ip = node['prov_ip']\n",
    "    ret = !ansible -b -m shell -a \"systemctl list-units | grep 'loaded active running' | grep 'Ceph osd'\" $prov_ip\n",
    "    ret.pop(0)\n",
    "    for line in ret:\n",
    "        elems = line.split()\n",
    "        print(\"node={} osd service={}\".format(name,elems[0]))\n"
   ]
  },
  {
   "cell_type": "markdown",
   "metadata": {
    "lc_cell_meme": {
     "current": "4f25b1ce-8766-11ee-91d3-0242ac120006-5-91f4-254e-23e8-318a-8e6e",
     "history": [
      {
       "current": "4f25b1ce-8766-11ee-91d3-0242ac120006",
       "next": "4f25b35e-8766-11ee-91d3-0242ac120006",
       "previous": "3109d018-8765-11ee-91d3-0242ac120006-1-35ae"
      },
      {
       "current": "4f25b1ce-8766-11ee-91d3-0242ac120006-1-91f4",
       "next": "4f25b35e-8766-11ee-91d3-0242ac120006",
       "previous": "392aa416-876a-11ee-91d3-0242ac120006"
      },
      {
       "current": "4f25b1ce-8766-11ee-91d3-0242ac120006-1-91f4",
       "next": "4f25b35e-8766-11ee-91d3-0242ac120006-1-5858",
       "previous": "392aa416-876a-11ee-91d3-0242ac120006-1-cde2"
      },
      {
       "current": "4f25b1ce-8766-11ee-91d3-0242ac120006-1-91f4",
       "next": "4f25b35e-8766-11ee-91d3-0242ac120006-1-5858",
       "previous": "97f2982e-0c2f-11ef-9d3e-0242ac120006"
      },
      {
       "current": "4f25b1ce-8766-11ee-91d3-0242ac120006-1-91f4",
       "next": "4f25b35e-8766-11ee-91d3-0242ac120006-1-5858",
       "previous": "becdc92c-0c35-11ef-9d3e-0242ac120006"
      },
      {
       "current": "4f25b1ce-8766-11ee-91d3-0242ac120006-2-91f4-254e",
       "next": "becdc92c-0c35-11ef-9d3e-0242ac120006",
       "previous": "97f2982e-0c2f-11ef-9d3e-0242ac120006"
      },
      {
       "current": "4f25b1ce-8766-11ee-91d3-0242ac120006-3-91f4-254e-23e8",
       "next": "becdc92c-0c35-11ef-9d3e-0242ac120006-1-b6b1",
       "previous": "97f2982e-0c2f-11ef-9d3e-0242ac120006-1-4911"
      },
      {
       "current": "4f25b1ce-8766-11ee-91d3-0242ac120006-4-91f4-254e-23e8-318a",
       "next": "becdc92c-0c35-11ef-9d3e-0242ac120006-2-b6b1-75de",
       "previous": "97f2982e-0c2f-11ef-9d3e-0242ac120006-2-4911-1732"
      },
      {
       "current": "4f25b1ce-8766-11ee-91d3-0242ac120006-5-91f4-254e-23e8-318a-8e6e",
       "next": "becdc92c-0c35-11ef-9d3e-0242ac120006-3-b6b1-75de-146a",
       "previous": "97f2982e-0c2f-11ef-9d3e-0242ac120006-3-4911-1732-21e8"
      }
     ],
     "next": "becdc92c-0c35-11ef-9d3e-0242ac120006-4-b6b1-75de-146a-b3af",
     "previous": "97f2982e-0c2f-11ef-9d3e-0242ac120006-4-4911-1732-21e8-58e8"
    }
   },
   "source": [
    "# MONの停止"
   ]
  },
  {
   "cell_type": "code",
   "execution_count": null,
   "metadata": {
    "lc_cell_meme": {
     "current": "becdc92c-0c35-11ef-9d3e-0242ac120006-4-b6b1-75de-146a-b3af",
     "history": [
      {
       "current": "becdc92c-0c35-11ef-9d3e-0242ac120006",
       "next": "4f25b1ce-8766-11ee-91d3-0242ac120006-1-91f4",
       "previous": "97f2982e-0c2f-11ef-9d3e-0242ac120006"
      },
      {
       "current": "becdc92c-0c35-11ef-9d3e-0242ac120006-1-b6b1",
       "next": "4f25b35e-8766-11ee-91d3-0242ac120006-1-5858",
       "previous": "4f25b1ce-8766-11ee-91d3-0242ac120006-1-91f4"
      },
      {
       "current": "becdc92c-0c35-11ef-9d3e-0242ac120006-2-b6b1-75de",
       "next": "4f25b35e-8766-11ee-91d3-0242ac120006-2-5858-1519",
       "previous": "4f25b1ce-8766-11ee-91d3-0242ac120006-2-91f4-254e"
      },
      {
       "current": "becdc92c-0c35-11ef-9d3e-0242ac120006-3-b6b1-75de-146a",
       "next": "4f25b35e-8766-11ee-91d3-0242ac120006-3-5858-1519-1ed3",
       "previous": "4f25b1ce-8766-11ee-91d3-0242ac120006-3-91f4-254e-23e8"
      },
      {
       "current": "becdc92c-0c35-11ef-9d3e-0242ac120006-4-b6b1-75de-146a-b3af",
       "next": "4f25b35e-8766-11ee-91d3-0242ac120006-4-5858-1519-1ed3-92f2",
       "previous": "4f25b1ce-8766-11ee-91d3-0242ac120006-4-91f4-254e-23e8-318a"
      }
     ],
     "next": "4f25b35e-8766-11ee-91d3-0242ac120006-5-5858-1519-1ed3-92f2-298e",
     "previous": "4f25b1ce-8766-11ee-91d3-0242ac120006-5-91f4-254e-23e8-318a-8e6e"
    }
   },
   "outputs": [],
   "source": [
    "for node in node_list:\n",
    "    name =  node['name']\n",
    "    prov_ip = node['prov_ip']\n",
    "    ret = !ansible -b -m shell -a \"systemctl list-units | grep 'loaded active running' | grep 'Ceph mon'\" $prov_ip\n",
    "    ret_data = ret[1]\n",
    "    elems = ret_data.split()\n",
    "    if len(elems) < 8:\n",
    "        continue\n",
    "    service_name = elems[0]\n",
    "    print(service_name)"
   ]
  },
  {
   "cell_type": "code",
   "execution_count": null,
   "metadata": {
    "lc_cell_meme": {
     "current": "4f25b35e-8766-11ee-91d3-0242ac120006-5-5858-1519-1ed3-92f2-298e",
     "history": [
      {
       "current": "4f25b35e-8766-11ee-91d3-0242ac120006",
       "next": "4f25b3fe-8766-11ee-91d3-0242ac120006",
       "previous": "4f25b1ce-8766-11ee-91d3-0242ac120006"
      },
      {
       "current": "4f25b35e-8766-11ee-91d3-0242ac120006",
       "next": "35c581ba-55a3-11e7-b0b2-00163e9c0e35-3-f60b-133a-40ef",
       "previous": "4f25b1ce-8766-11ee-91d3-0242ac120006"
      },
      {
       "current": "4f25b35e-8766-11ee-91d3-0242ac120006-1-5858",
       "next": "42b35aae-876b-11ee-91d3-0242ac120006",
       "previous": "4f25b1ce-8766-11ee-91d3-0242ac120006"
      },
      {
       "current": "4f25b35e-8766-11ee-91d3-0242ac120006-1-5858",
       "next": "42b35aae-876b-11ee-91d3-0242ac120006-1-2095",
       "previous": "4f25b1ce-8766-11ee-91d3-0242ac120006-1-91f4"
      },
      {
       "current": "4f25b35e-8766-11ee-91d3-0242ac120006-2-5858-1519",
       "next": "42b35aae-876b-11ee-91d3-0242ac120006-1-2095",
       "previous": "becdc92c-0c35-11ef-9d3e-0242ac120006"
      },
      {
       "current": "4f25b35e-8766-11ee-91d3-0242ac120006-3-5858-1519-1ed3",
       "next": "42b35aae-876b-11ee-91d3-0242ac120006-2-2095-c1d1",
       "previous": "becdc92c-0c35-11ef-9d3e-0242ac120006-1-b6b1"
      },
      {
       "current": "4f25b35e-8766-11ee-91d3-0242ac120006-4-5858-1519-1ed3-92f2",
       "next": "42b35aae-876b-11ee-91d3-0242ac120006-3-2095-c1d1-709c",
       "previous": "becdc92c-0c35-11ef-9d3e-0242ac120006-2-b6b1-75de"
      },
      {
       "current": "4f25b35e-8766-11ee-91d3-0242ac120006-5-5858-1519-1ed3-92f2-298e",
       "next": "42b35aae-876b-11ee-91d3-0242ac120006-4-2095-c1d1-709c-a11a",
       "previous": "becdc92c-0c35-11ef-9d3e-0242ac120006-3-b6b1-75de-146a"
      }
     ],
     "next": "42b35aae-876b-11ee-91d3-0242ac120006-5-2095-c1d1-709c-a11a-23d2",
     "previous": "becdc92c-0c35-11ef-9d3e-0242ac120006-4-b6b1-75de-146a-b3af"
    }
   },
   "outputs": [],
   "source": [
    "for node in node_list:\n",
    "    name =  node['name']\n",
    "    prov_ip = node['prov_ip']\n",
    "    ret = !ansible -b -m shell -a \"systemctl list-units | grep 'loaded active running' | grep 'Ceph mon'\" $prov_ip\n",
    "    ret_data = ret[1]\n",
    "    elems = ret_data.split()\n",
    "    if len(elems) < 8:\n",
    "        continue\n",
    "    service_name = elems[0]\n",
    "    print(service_name)\n",
    "    !ansible -i $hosts -b -m shell -a \"systemctl stop $service_name\" $prov_ip"
   ]
  },
  {
   "cell_type": "code",
   "execution_count": null,
   "metadata": {
    "lc_cell_meme": {
     "current": "42b35aae-876b-11ee-91d3-0242ac120006-5-2095-c1d1-709c-a11a-23d2",
     "history": [
      {
       "current": "42b35aae-876b-11ee-91d3-0242ac120006-1-2095",
       "next": "35c581ba-55a3-11e7-b0b2-00163e9c0e35-3-f60b-133a-40ef",
       "previous": "4f25b35e-8766-11ee-91d3-0242ac120006"
      },
      {
       "current": "42b35aae-876b-11ee-91d3-0242ac120006-2-2095-c1d1",
       "next": "35c581ba-55a3-11e7-b0b2-00163e9c0e35-4-f60b-133a-40ef-8949",
       "previous": "4f25b35e-8766-11ee-91d3-0242ac120006-1-5858"
      },
      {
       "current": "42b35aae-876b-11ee-91d3-0242ac120006-3-2095-c1d1-709c",
       "next": "35c581ba-55a3-11e7-b0b2-00163e9c0e35-5-f60b-133a-40ef-8949-148b",
       "previous": "4f25b35e-8766-11ee-91d3-0242ac120006-2-5858-1519"
      },
      {
       "current": "42b35aae-876b-11ee-91d3-0242ac120006-4-2095-c1d1-709c-a11a",
       "next": "35c581ba-55a3-11e7-b0b2-00163e9c0e35-6-f60b-133a-40ef-8949-148b-ef79",
       "previous": "4f25b35e-8766-11ee-91d3-0242ac120006-3-5858-1519-1ed3"
      },
      {
       "current": "42b35aae-876b-11ee-91d3-0242ac120006-5-2095-c1d1-709c-a11a-23d2",
       "next": "35c581ba-55a3-11e7-b0b2-00163e9c0e35-7-f60b-133a-40ef-8949-148b-ef79-8d6a",
       "previous": "4f25b35e-8766-11ee-91d3-0242ac120006-4-5858-1519-1ed3-92f2"
      }
     ],
     "next": "35c581ba-55a3-11e7-b0b2-00163e9c0e35-8-f60b-133a-40ef-8949-148b-ef79-8d6a-4822",
     "previous": "4f25b35e-8766-11ee-91d3-0242ac120006-5-5858-1519-1ed3-92f2-298e"
    }
   },
   "outputs": [],
   "source": [
    "for node in node_list:\n",
    "    name =  node['name']\n",
    "    prov_ip = node['prov_ip']\n",
    "    ret = !ansible -b -m shell -a \"systemctl list-units | grep 'loaded active running' | grep 'Ceph mon'\" $prov_ip\n",
    "    print(ret)"
   ]
  },
  {
   "cell_type": "markdown",
   "metadata": {
    "collapsed": true,
    "lc_cell_meme": {
     "current": "35c581ba-55a3-11e7-b0b2-00163e9c0e35-8-f60b-133a-40ef-8949-148b-ef79-8d6a-4822",
     "history": [
      {
       "current": "35c581ba-55a3-11e7-b0b2-00163e9c0e35",
       "next": "35c58340-55a3-11e7-b0b2-00163e9c0e35",
       "previous": "35c58034-55a3-11e7-b0b2-00163e9c0e35"
      },
      {
       "current": "35c581ba-55a3-11e7-b0b2-00163e9c0e35",
       "next": "35c58340-55a3-11e7-b0b2-00163e9c0e35",
       "previous": "35c51928-55a3-11e7-b0b2-00163e9c0e35"
      },
      {
       "current": "35c581ba-55a3-11e7-b0b2-00163e9c0e35",
       "next": "35c58340-55a3-11e7-b0b2-00163e9c0e35",
       "previous": "277a614c-47b9-11ea-a028-0242ac120005"
      },
      {
       "current": "35c581ba-55a3-11e7-b0b2-00163e9c0e35",
       "next": "35c58340-55a3-11e7-b0b2-00163e9c0e35",
       "previous": "35c51928-55a3-11e7-b0b2-00163e9c0e35"
      },
      {
       "current": "35c581ba-55a3-11e7-b0b2-00163e9c0e35",
       "next": "35c58340-55a3-11e7-b0b2-00163e9c0e35",
       "previous": "b8a85906-47b6-11ea-a028-0242ac120005"
      },
      {
       "current": "35c581ba-55a3-11e7-b0b2-00163e9c0e35",
       "next": "35c58340-55a3-11e7-b0b2-00163e9c0e35",
       "previous": "35c38fae-55a3-11e7-b0b2-00163e9c0e35"
      },
      {
       "current": "35c581ba-55a3-11e7-b0b2-00163e9c0e35",
       "next": "35c58340-55a3-11e7-b0b2-00163e9c0e35",
       "previous": "35c385a4-55a3-11e7-b0b2-00163e9c0e35"
      },
      {
       "current": "35c581ba-55a3-11e7-b0b2-00163e9c0e35",
       "next": "35c58340-55a3-11e7-b0b2-00163e9c0e35",
       "previous": "27c39180-935b-11ea-8d02-0242ac120007"
      },
      {
       "current": "35c581ba-55a3-11e7-b0b2-00163e9c0e35",
       "next": "35c58340-55a3-11e7-b0b2-00163e9c0e35",
       "previous": "35c385a4-55a3-11e7-b0b2-00163e9c0e35"
      },
      {
       "current": "35c581ba-55a3-11e7-b0b2-00163e9c0e35",
       "next": "35c58340-55a3-11e7-b0b2-00163e9c0e35",
       "previous": "b20d6ace-9684-11ea-8d02-0242ac120007"
      },
      {
       "current": "35c581ba-55a3-11e7-b0b2-00163e9c0e35",
       "next": "35c58340-55a3-11e7-b0b2-00163e9c0e35",
       "previous": "18b837c6-9686-11ea-8d02-0242ac120007"
      },
      {
       "current": "35c581ba-55a3-11e7-b0b2-00163e9c0e35",
       "next": "35c58340-55a3-11e7-b0b2-00163e9c0e35",
       "previous": "59de09f6-9686-11ea-8d02-0242ac120007"
      },
      {
       "current": "35c581ba-55a3-11e7-b0b2-00163e9c0e35",
       "next": "35c58340-55a3-11e7-b0b2-00163e9c0e35",
       "previous": "7dae8b30-9686-11ea-8d02-0242ac120007"
      },
      {
       "current": "35c581ba-55a3-11e7-b0b2-00163e9c0e35",
       "next": "35c58340-55a3-11e7-b0b2-00163e9c0e35",
       "previous": "789942dc-9692-11ea-8d02-0242ac120007"
      },
      {
       "current": "35c581ba-55a3-11e7-b0b2-00163e9c0e35",
       "next": "35c58340-55a3-11e7-b0b2-00163e9c0e35",
       "previous": "e95d003a-9697-11ea-8d02-0242ac120007"
      },
      {
       "current": "35c581ba-55a3-11e7-b0b2-00163e9c0e35",
       "next": "35c58340-55a3-11e7-b0b2-00163e9c0e35",
       "previous": "357fc83a-969d-11ea-8d02-0242ac120007"
      },
      {
       "current": "35c581ba-55a3-11e7-b0b2-00163e9c0e35",
       "next": "35c58340-55a3-11e7-b0b2-00163e9c0e35",
       "previous": "7dae86da-9686-11ea-8d02-0242ac120007"
      },
      {
       "current": "35c581ba-55a3-11e7-b0b2-00163e9c0e35",
       "next": "35c58340-55a3-11e7-b0b2-00163e9c0e35",
       "previous": "49102d8c-98a9-11ea-8d02-0242ac120007"
      },
      {
       "current": "35c581ba-55a3-11e7-b0b2-00163e9c0e35",
       "next": "35c58340-55a3-11e7-b0b2-00163e9c0e35",
       "previous": "dbe917aa-9984-11ea-8d02-0242ac120007"
      },
      {
       "current": "35c581ba-55a3-11e7-b0b2-00163e9c0e35",
       "next": "35c58340-55a3-11e7-b0b2-00163e9c0e35",
       "previous": "f9f7c1a0-9985-11ea-8d02-0242ac120007"
      },
      {
       "current": "35c581ba-55a3-11e7-b0b2-00163e9c0e35",
       "next": "35c58340-55a3-11e7-b0b2-00163e9c0e35",
       "previous": "4180e646-9986-11ea-8d02-0242ac120007"
      },
      {
       "current": "35c581ba-55a3-11e7-b0b2-00163e9c0e35",
       "next": "35c58340-55a3-11e7-b0b2-00163e9c0e35",
       "previous": "eea7aafc-9987-11ea-8d02-0242ac120007"
      },
      {
       "current": "35c581ba-55a3-11e7-b0b2-00163e9c0e35",
       "next": "35c58340-55a3-11e7-b0b2-00163e9c0e35",
       "previous": "7db36be6-9988-11ea-8d02-0242ac120007"
      },
      {
       "current": "35c581ba-55a3-11e7-b0b2-00163e9c0e35",
       "next": "35c58340-55a3-11e7-b0b2-00163e9c0e35",
       "previous": "7db36a7e-9988-11ea-8d02-0242ac120007"
      },
      {
       "current": "35c581ba-55a3-11e7-b0b2-00163e9c0e35",
       "next": "35c58340-55a3-11e7-b0b2-00163e9c0e35",
       "previous": "f3e7d364-998e-11ea-8d02-0242ac120007"
      },
      {
       "current": "35c581ba-55a3-11e7-b0b2-00163e9c0e35-1-f60b",
       "next": "35c58340-55a3-11e7-b0b2-00163e9c0e35",
       "previous": "b0a33f46-98ce-11ea-8d02-0242ac120007"
      },
      {
       "current": "35c581ba-55a3-11e7-b0b2-00163e9c0e35-2-f60b-133a",
       "next": "35c58340-55a3-11e7-b0b2-00163e9c0e35-1-c0ce",
       "previous": "b0a33f46-98ce-11ea-8d02-0242ac120007-1-1e51"
      },
      {
       "current": "35c581ba-55a3-11e7-b0b2-00163e9c0e35-2-f60b-133a",
       "next": "35c58340-55a3-11e7-b0b2-00163e9c0e35-2-c0ce-9618",
       "previous": "b0a33f46-98ce-11ea-8d02-0242ac120007-2-1e51-b1e8"
      },
      {
       "current": "35c581ba-55a3-11e7-b0b2-00163e9c0e35-2-f60b-133a",
       "next": "35c58340-55a3-11e7-b0b2-00163e9c0e35-2-c0ce-9618",
       "previous": "d0769ffa-98bc-11ea-8d02-0242ac120007-2-9994-0723"
      },
      {
       "current": "35c581ba-55a3-11e7-b0b2-00163e9c0e35-2-f60b-133a",
       "next": "35c58340-55a3-11e7-b0b2-00163e9c0e35-2-c0ce-9618",
       "previous": "bc16cb02-dfce-11eb-b29f-0242ac120008"
      },
      {
       "current": "35c581ba-55a3-11e7-b0b2-00163e9c0e35-2-f60b-133a",
       "next": "35c58340-55a3-11e7-b0b2-00163e9c0e35-2-c0ce-9618",
       "previous": "7cf7d994-f4ea-11eb-b29f-0242ac120008"
      },
      {
       "current": "35c581ba-55a3-11e7-b0b2-00163e9c0e35-2-f60b-133a",
       "next": "35c58340-55a3-11e7-b0b2-00163e9c0e35-2-c0ce-9618",
       "previous": "204647a2-f4eb-11eb-b29f-0242ac120008"
      },
      {
       "current": "35c581ba-55a3-11e7-b0b2-00163e9c0e35-2-f60b-133a",
       "next": "35c58340-55a3-11e7-b0b2-00163e9c0e35-2-c0ce-9618",
       "previous": "798c29c4-9a06-11ec-a1da-0242ac120004"
      },
      {
       "current": "35c581ba-55a3-11e7-b0b2-00163e9c0e35-3-f60b-133a-40ef",
       "next": "35c58340-55a3-11e7-b0b2-00163e9c0e35-2-c0ce-9618",
       "previous": "204647a2-f4eb-11eb-b29f-0242ac120008"
      },
      {
       "current": "35c581ba-55a3-11e7-b0b2-00163e9c0e35-3-f60b-133a-40ef",
       "next": "35c58340-55a3-11e7-b0b2-00163e9c0e35-3-c0ce-9618-7032",
       "previous": "204647a2-f4eb-11eb-b29f-0242ac120008-1-10f9"
      },
      {
       "current": "35c581ba-55a3-11e7-b0b2-00163e9c0e35-3-f60b-133a-40ef",
       "next": "35c58340-55a3-11e7-b0b2-00163e9c0e35-3-c0ce-9618-7032",
       "previous": "3c6cb112-4bb2-11ee-89fa-0242ac120005"
      },
      {
       "current": "35c581ba-55a3-11e7-b0b2-00163e9c0e35-3-f60b-133a-40ef",
       "next": "35c58340-55a3-11e7-b0b2-00163e9c0e35-3-c0ce-9618-7032",
       "previous": "d619a970-6195-11ee-89fa-0242ac120005"
      },
      {
       "current": "35c581ba-55a3-11e7-b0b2-00163e9c0e35-3-f60b-133a-40ef",
       "next": "35c58340-55a3-11e7-b0b2-00163e9c0e35-3-c0ce-9618-7032",
       "previous": "d954180a-61bd-11ee-89fa-0242ac120005"
      },
      {
       "current": "35c581ba-55a3-11e7-b0b2-00163e9c0e35-3-f60b-133a-40ef",
       "next": "35c58340-55a3-11e7-b0b2-00163e9c0e35-3-c0ce-9618-7032",
       "previous": "8f9c98ce-716a-11ee-89fa-0242ac120005"
      },
      {
       "current": "35c581ba-55a3-11e7-b0b2-00163e9c0e35-3-f60b-133a-40ef",
       "next": "35c58340-55a3-11e7-b0b2-00163e9c0e35-3-c0ce-9618-7032",
       "previous": "3ce444ae-716c-11ee-89fa-0242ac120005"
      },
      {
       "current": "35c581ba-55a3-11e7-b0b2-00163e9c0e35-3-f60b-133a-40ef",
       "next": "35c58340-55a3-11e7-b0b2-00163e9c0e35-3-c0ce-9618-7032",
       "previous": "31f71398-7877-11ee-89fa-0242ac120005"
      },
      {
       "current": "35c581ba-55a3-11e7-b0b2-00163e9c0e35-3-f60b-133a-40ef",
       "next": "35c58340-55a3-11e7-b0b2-00163e9c0e35-3-c0ce-9618-7032",
       "previous": "8c52f84a-787a-11ee-89fa-0242ac120005"
      },
      {
       "current": "35c581ba-55a3-11e7-b0b2-00163e9c0e35-3-f60b-133a-40ef",
       "next": "35c58340-55a3-11e7-b0b2-00163e9c0e35-3-c0ce-9618-7032",
       "previous": "d15989fa-7888-11ee-89fa-0242ac120005"
      },
      {
       "current": "35c581ba-55a3-11e7-b0b2-00163e9c0e35-3-f60b-133a-40ef",
       "next": "35c58340-55a3-11e7-b0b2-00163e9c0e35-3-c0ce-9618-7032",
       "previous": "180f42ec-7d14-11ee-89fa-0242ac120005"
      },
      {
       "current": "35c581ba-55a3-11e7-b0b2-00163e9c0e35-3-f60b-133a-40ef",
       "next": "35c58340-55a3-11e7-b0b2-00163e9c0e35-3-c0ce-9618-7032",
       "previous": "d15989fa-7888-11ee-89fa-0242ac120005"
      },
      {
       "current": "35c581ba-55a3-11e7-b0b2-00163e9c0e35-3-f60b-133a-40ef",
       "next": "35c58340-55a3-11e7-b0b2-00163e9c0e35-3-c0ce-9618-7032",
       "previous": "0f18571c-7d16-11ee-89fa-0242ac120005"
      },
      {
       "current": "35c581ba-55a3-11e7-b0b2-00163e9c0e35-3-f60b-133a-40ef",
       "next": "35c58340-55a3-11e7-b0b2-00163e9c0e35-3-c0ce-9618-7032",
       "previous": "0f18571c-7d16-11ee-89fa-0242ac120005-1-6c98"
      },
      {
       "current": "35c581ba-55a3-11e7-b0b2-00163e9c0e35-3-f60b-133a-40ef",
       "next": "35c58340-55a3-11e7-b0b2-00163e9c0e35-3-c0ce-9618-7032",
       "previous": "4f25b46c-8766-11ee-91d3-0242ac120006"
      },
      {
       "current": "35c581ba-55a3-11e7-b0b2-00163e9c0e35-3-f60b-133a-40ef",
       "next": "35c58340-55a3-11e7-b0b2-00163e9c0e35-3-c0ce-9618-7032",
       "previous": "4f25b35e-8766-11ee-91d3-0242ac120006"
      },
      {
       "current": "35c581ba-55a3-11e7-b0b2-00163e9c0e35-4-f60b-133a-40ef-8949",
       "next": "35c58340-55a3-11e7-b0b2-00163e9c0e35-3-c0ce-9618-7032",
       "previous": "42b35aae-876b-11ee-91d3-0242ac120006"
      },
      {
       "current": "35c581ba-55a3-11e7-b0b2-00163e9c0e35-5-f60b-133a-40ef-8949-148b",
       "next": "35c58340-55a3-11e7-b0b2-00163e9c0e35-4-c0ce-9618-7032-f7a8",
       "previous": "42b35aae-876b-11ee-91d3-0242ac120006-1-2095"
      },
      {
       "current": "35c581ba-55a3-11e7-b0b2-00163e9c0e35-6-f60b-133a-40ef-8949-148b-ef79",
       "next": "35c58340-55a3-11e7-b0b2-00163e9c0e35-5-c0ce-9618-7032-f7a8-f83e",
       "previous": "42b35aae-876b-11ee-91d3-0242ac120006-2-2095-c1d1"
      },
      {
       "current": "35c581ba-55a3-11e7-b0b2-00163e9c0e35-7-f60b-133a-40ef-8949-148b-ef79-8d6a",
       "next": "35c58340-55a3-11e7-b0b2-00163e9c0e35-6-c0ce-9618-7032-f7a8-f83e-16b4",
       "previous": "42b35aae-876b-11ee-91d3-0242ac120006-3-2095-c1d1-709c"
      },
      {
       "current": "35c581ba-55a3-11e7-b0b2-00163e9c0e35-8-f60b-133a-40ef-8949-148b-ef79-8d6a-4822",
       "next": "35c58340-55a3-11e7-b0b2-00163e9c0e35-7-c0ce-9618-7032-f7a8-f83e-16b4-4a48",
       "previous": "42b35aae-876b-11ee-91d3-0242ac120006-4-2095-c1d1-709c-a11a"
      }
     ],
     "next": "35c58340-55a3-11e7-b0b2-00163e9c0e35-8-c0ce-9618-7032-f7a8-f83e-16b4-4a48-2eff",
     "previous": "42b35aae-876b-11ee-91d3-0242ac120006-5-2095-c1d1-709c-a11a-23d2"
    }
   },
   "source": [
    "# 後始末\n",
    "\n",
    "一時ディレクトリを削除する。"
   ]
  },
  {
   "cell_type": "code",
   "execution_count": null,
   "metadata": {
    "ExecuteTime": {
     "end_time": "2017-06-29T08:01:20.617274Z",
     "start_time": "2017-06-29T08:01:20.466671Z"
    },
    "lc_cell_meme": {
     "current": "35c58340-55a3-11e7-b0b2-00163e9c0e35-8-c0ce-9618-7032-f7a8-f83e-16b4-4a48-2eff",
     "history": [
      {
       "current": "35c58340-55a3-11e7-b0b2-00163e9c0e35",
       "next": null,
       "previous": "35c581ba-55a3-11e7-b0b2-00163e9c0e35"
      },
      {
       "current": "35c58340-55a3-11e7-b0b2-00163e9c0e35-1-c0ce",
       "next": "c4bd8ce4-5749-11e7-b0b2-00163e9c0e35",
       "previous": "35c581ba-55a3-11e7-b0b2-00163e9c0e35"
      },
      {
       "current": "35c58340-55a3-11e7-b0b2-00163e9c0e35-2-c0ce-9618",
       "next": "c4bd8ce4-5749-11e7-b0b2-00163e9c0e35-1-6c35",
       "previous": "35c581ba-55a3-11e7-b0b2-00163e9c0e35-1-f60b"
      },
      {
       "current": "35c58340-55a3-11e7-b0b2-00163e9c0e35-3-c0ce-9618-7032",
       "next": "c4bd8ce4-5749-11e7-b0b2-00163e9c0e35-2-6c35-ebfb",
       "previous": "35c581ba-55a3-11e7-b0b2-00163e9c0e35-2-f60b-133a"
      },
      {
       "current": "35c58340-55a3-11e7-b0b2-00163e9c0e35-4-c0ce-9618-7032-f7a8",
       "next": "c4bd8ce4-5749-11e7-b0b2-00163e9c0e35-3-6c35-ebfb-793f",
       "previous": "35c581ba-55a3-11e7-b0b2-00163e9c0e35-3-f60b-133a-40ef"
      },
      {
       "current": "35c58340-55a3-11e7-b0b2-00163e9c0e35-5-c0ce-9618-7032-f7a8-f83e",
       "next": "c4bd8ce4-5749-11e7-b0b2-00163e9c0e35-4-6c35-ebfb-793f-84b2",
       "previous": "35c581ba-55a3-11e7-b0b2-00163e9c0e35-4-f60b-133a-40ef-8949"
      },
      {
       "current": "35c58340-55a3-11e7-b0b2-00163e9c0e35-6-c0ce-9618-7032-f7a8-f83e-16b4",
       "next": "c4bd8ce4-5749-11e7-b0b2-00163e9c0e35-5-6c35-ebfb-793f-84b2-f687",
       "previous": "35c581ba-55a3-11e7-b0b2-00163e9c0e35-5-f60b-133a-40ef-8949-148b"
      },
      {
       "current": "35c58340-55a3-11e7-b0b2-00163e9c0e35-7-c0ce-9618-7032-f7a8-f83e-16b4-4a48",
       "next": "c4bd8ce4-5749-11e7-b0b2-00163e9c0e35-6-6c35-ebfb-793f-84b2-f687-f462",
       "previous": "35c581ba-55a3-11e7-b0b2-00163e9c0e35-6-f60b-133a-40ef-8949-148b-ef79"
      },
      {
       "current": "35c58340-55a3-11e7-b0b2-00163e9c0e35-8-c0ce-9618-7032-f7a8-f83e-16b4-4a48-2eff",
       "next": "c4bd8ce4-5749-11e7-b0b2-00163e9c0e35-7-6c35-ebfb-793f-84b2-f687-f462-1b30",
       "previous": "35c581ba-55a3-11e7-b0b2-00163e9c0e35-7-f60b-133a-40ef-8949-148b-ef79-8d6a"
      }
     ],
     "next": "c4bd8ce4-5749-11e7-b0b2-00163e9c0e35-8-6c35-ebfb-793f-84b2-f687-f462-1b30-86b1",
     "previous": "35c581ba-55a3-11e7-b0b2-00163e9c0e35-8-f60b-133a-40ef-8949-148b-ef79-8d6a-4822"
    }
   },
   "outputs": [],
   "source": [
    "!rm -fr $temp_dir"
   ]
  },
  {
   "cell_type": "code",
   "execution_count": null,
   "metadata": {
    "lc_cell_meme": {
     "current": "c4bd8ce4-5749-11e7-b0b2-00163e9c0e35-8-6c35-ebfb-793f-84b2-f687-f462-1b30-86b1",
     "history": [
      {
       "current": "c4bd8ce4-5749-11e7-b0b2-00163e9c0e35-1-6c35",
       "next": null,
       "previous": "35c58340-55a3-11e7-b0b2-00163e9c0e35"
      },
      {
       "current": "c4bd8ce4-5749-11e7-b0b2-00163e9c0e35-2-6c35-ebfb",
       "next": null,
       "previous": "35c58340-55a3-11e7-b0b2-00163e9c0e35-1-c0ce"
      },
      {
       "current": "c4bd8ce4-5749-11e7-b0b2-00163e9c0e35-3-6c35-ebfb-793f",
       "next": null,
       "previous": "35c58340-55a3-11e7-b0b2-00163e9c0e35-2-c0ce-9618"
      },
      {
       "current": "c4bd8ce4-5749-11e7-b0b2-00163e9c0e35-4-6c35-ebfb-793f-84b2",
       "next": null,
       "previous": "35c58340-55a3-11e7-b0b2-00163e9c0e35-3-c0ce-9618-7032"
      },
      {
       "current": "c4bd8ce4-5749-11e7-b0b2-00163e9c0e35-5-6c35-ebfb-793f-84b2-f687",
       "next": null,
       "previous": "35c58340-55a3-11e7-b0b2-00163e9c0e35-4-c0ce-9618-7032-f7a8"
      },
      {
       "current": "c4bd8ce4-5749-11e7-b0b2-00163e9c0e35-6-6c35-ebfb-793f-84b2-f687-f462",
       "next": null,
       "previous": "35c58340-55a3-11e7-b0b2-00163e9c0e35-5-c0ce-9618-7032-f7a8-f83e"
      },
      {
       "current": "c4bd8ce4-5749-11e7-b0b2-00163e9c0e35-7-6c35-ebfb-793f-84b2-f687-f462-1b30",
       "next": null,
       "previous": "35c58340-55a3-11e7-b0b2-00163e9c0e35-6-c0ce-9618-7032-f7a8-f83e-16b4"
      },
      {
       "current": "c4bd8ce4-5749-11e7-b0b2-00163e9c0e35-8-6c35-ebfb-793f-84b2-f687-f462-1b30-86b1",
       "next": null,
       "previous": "35c58340-55a3-11e7-b0b2-00163e9c0e35-7-c0ce-9618-7032-f7a8-f83e-16b4-4a48"
      }
     ],
     "next": null,
     "previous": "35c58340-55a3-11e7-b0b2-00163e9c0e35-8-c0ce-9618-7032-f7a8-f83e-16b4-4a48-2eff"
    }
   },
   "outputs": [],
   "source": []
  }
 ],
 "metadata": {
  "kernelspec": {
   "display_name": "Python 3",
   "language": "python",
   "name": "python3"
  },
  "language_info": {
   "file_extension": ".py",
   "mimetype": "text/x-python",
   "name": "python",
   "nbconvert_exporter": "python",
   "pygments_lexer": "ipython3",
   "version": "3.10.4"
  },
  "lc_notebook_meme": {
   "current": "35c33086-55a3-11e7-b0b2-00163e9c0e35"
  },
  "toc": {
   "base_numbering": 1,
   "nav_menu": {
    "height": "484px",
    "width": "687px"
   },
   "number_sections": true,
   "sideBar": true,
   "skip_h1_title": false,
   "title_cell": "Table of Contents",
   "title_sidebar": "Contents",
   "toc_cell": false,
   "toc_position": {
    "height": "1156px",
    "left": "0px",
    "right": "1330px",
    "top": "106px",
    "width": "340.983px"
   },
   "toc_section_display": "block",
   "toc_window_display": true
  }
 },
 "nbformat": 4,
 "nbformat_minor": 1
}
