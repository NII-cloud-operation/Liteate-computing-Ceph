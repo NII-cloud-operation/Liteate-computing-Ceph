{
 "cells": [
  {
   "cell_type": "markdown",
   "metadata": {
    "collapsed": true,
    "lc_cell_meme": {
     "current": "35c33414-55a3-11e7-b0b2-00163e9c0e35-7-ffee-ac17-9684-abf3-2fef-0f05-7191",
     "history": [
      {
       "current": "35c33414-55a3-11e7-b0b2-00163e9c0e35",
       "next": "35c33626-55a3-11e7-b0b2-00163e9c0e35",
       "previous": null
      },
      {
       "current": "35c33414-55a3-11e7-b0b2-00163e9c0e35",
       "next": "35c33626-55a3-11e7-b0b2-00163e9c0e35",
       "previous": null
      },
      {
       "current": "35c33414-55a3-11e7-b0b2-00163e9c0e35",
       "next": "35c33626-55a3-11e7-b0b2-00163e9c0e35",
       "previous": "0db87670-9586-11ea-8d02-0242ac120007"
      },
      {
       "current": "35c33414-55a3-11e7-b0b2-00163e9c0e35-1-ffee",
       "next": "35c337f2-55a3-11e7-b0b2-00163e9c0e35",
       "previous": null
      },
      {
       "current": "35c33414-55a3-11e7-b0b2-00163e9c0e35-2-ffee-ac17",
       "next": "35c337f2-55a3-11e7-b0b2-00163e9c0e35-1-b874",
       "previous": null
      },
      {
       "current": "35c33414-55a3-11e7-b0b2-00163e9c0e35-3-ffee-ac17-9684",
       "next": "35c337f2-55a3-11e7-b0b2-00163e9c0e35-2-b874-13f7",
       "previous": null
      },
      {
       "current": "35c33414-55a3-11e7-b0b2-00163e9c0e35-3-ffee-ac17-9684",
       "next": "35c337f2-55a3-11e7-b0b2-00163e9c0e35-3-b874-13f7-3f47",
       "previous": null
      },
      {
       "current": "35c33414-55a3-11e7-b0b2-00163e9c0e35-4-ffee-ac17-9684-abf3",
       "next": "35c339aa-55a3-11e7-b0b2-00163e9c0e35-3-eee2-af6c-3cfe",
       "previous": null
      },
      {
       "current": "35c33414-55a3-11e7-b0b2-00163e9c0e35-5-ffee-ac17-9684-abf3-2fef",
       "next": "35c339aa-55a3-11e7-b0b2-00163e9c0e35-4-eee2-af6c-3cfe-098b",
       "previous": null
      },
      {
       "current": "35c33414-55a3-11e7-b0b2-00163e9c0e35-6-ffee-ac17-9684-abf3-2fef-0f05",
       "next": "35c339aa-55a3-11e7-b0b2-00163e9c0e35-5-eee2-af6c-3cfe-098b-239f",
       "previous": null
      },
      {
       "current": "35c33414-55a3-11e7-b0b2-00163e9c0e35-7-ffee-ac17-9684-abf3-2fef-0f05-7191",
       "next": "35c339aa-55a3-11e7-b0b2-00163e9c0e35-6-eee2-af6c-3cfe-098b-239f-d03b",
       "previous": null
      }
     ],
     "next": "35c339aa-55a3-11e7-b0b2-00163e9c0e35-7-eee2-af6c-3cfe-098b-239f-d03b-f906",
     "previous": null
    }
   },
   "source": [
    "# Cephノード運用：Cephクラスタ 監視Stack Update\n",
    "Cephクラスタの監視スタック構成するサービスのイメージ更新を行う。\n"
   ]
  },
  {
   "cell_type": "markdown",
   "metadata": {
    "lc_cell_meme": {
     "current": "35c339aa-55a3-11e7-b0b2-00163e9c0e35-7-eee2-af6c-3cfe-098b-239f-d03b-f906",
     "history": [
      {
       "current": "35c339aa-55a3-11e7-b0b2-00163e9c0e35",
       "next": "35c33b6c-55a3-11e7-b0b2-00163e9c0e35",
       "previous": "35c337f2-55a3-11e7-b0b2-00163e9c0e35"
      },
      {
       "current": "35c339aa-55a3-11e7-b0b2-00163e9c0e35",
       "next": "670888aa-5722-11e7-b0b2-00163e9c0e35",
       "previous": "35c337f2-55a3-11e7-b0b2-00163e9c0e35"
      },
      {
       "current": "35c339aa-55a3-11e7-b0b2-00163e9c0e35",
       "next": "670888aa-5722-11e7-b0b2-00163e9c0e35",
       "previous": "357fc83a-969d-11ea-8d02-0242ac120007"
      },
      {
       "current": "35c339aa-55a3-11e7-b0b2-00163e9c0e35-1-eee2",
       "next": "670888aa-5722-11e7-b0b2-00163e9c0e35",
       "previous": "8a48dae0-98a1-11ea-8d02-0242ac120007"
      },
      {
       "current": "35c339aa-55a3-11e7-b0b2-00163e9c0e35-2-eee2-af6c",
       "next": "670888aa-5722-11e7-b0b2-00163e9c0e35-1-17ba",
       "previous": "8a48dae0-98a1-11ea-8d02-0242ac120007-1-4da2"
      },
      {
       "current": "35c339aa-55a3-11e7-b0b2-00163e9c0e35-2-eee2-af6c",
       "next": "670888aa-5722-11e7-b0b2-00163e9c0e35-2-17ba-53fc",
       "previous": "8a48dae0-98a1-11ea-8d02-0242ac120007-2-4da2-9c77"
      },
      {
       "current": "35c339aa-55a3-11e7-b0b2-00163e9c0e35-3-eee2-af6c-3cfe",
       "next": "670888aa-5722-11e7-b0b2-00163e9c0e35-2-17ba-53fc",
       "previous": "35c337f2-55a3-11e7-b0b2-00163e9c0e35-2-b874-13f7"
      },
      {
       "current": "35c339aa-55a3-11e7-b0b2-00163e9c0e35-3-eee2-af6c-3cfe",
       "next": "670888aa-5722-11e7-b0b2-00163e9c0e35-3-17ba-53fc-2957",
       "previous": "35c337f2-55a3-11e7-b0b2-00163e9c0e35-3-b874-13f7-3f47"
      },
      {
       "current": "35c339aa-55a3-11e7-b0b2-00163e9c0e35-4-eee2-af6c-3cfe-098b",
       "next": "670888aa-5722-11e7-b0b2-00163e9c0e35-3-17ba-53fc-2957",
       "previous": "35c33414-55a3-11e7-b0b2-00163e9c0e35-3-ffee-ac17-9684"
      },
      {
       "current": "35c339aa-55a3-11e7-b0b2-00163e9c0e35-5-eee2-af6c-3cfe-098b-239f",
       "next": "670888aa-5722-11e7-b0b2-00163e9c0e35-4-17ba-53fc-2957-f162",
       "previous": "35c33414-55a3-11e7-b0b2-00163e9c0e35-4-ffee-ac17-9684-abf3"
      },
      {
       "current": "35c339aa-55a3-11e7-b0b2-00163e9c0e35-6-eee2-af6c-3cfe-098b-239f-d03b",
       "next": "670888aa-5722-11e7-b0b2-00163e9c0e35-5-17ba-53fc-2957-f162-24c7",
       "previous": "35c33414-55a3-11e7-b0b2-00163e9c0e35-5-ffee-ac17-9684-abf3-2fef"
      },
      {
       "current": "35c339aa-55a3-11e7-b0b2-00163e9c0e35-7-eee2-af6c-3cfe-098b-239f-d03b-f906",
       "next": "670888aa-5722-11e7-b0b2-00163e9c0e35-6-17ba-53fc-2957-f162-24c7-25be",
       "previous": "35c33414-55a3-11e7-b0b2-00163e9c0e35-6-ffee-ac17-9684-abf3-2fef-0f05"
      }
     ],
     "next": "670888aa-5722-11e7-b0b2-00163e9c0e35-7-17ba-53fc-2957-f162-24c7-25be-dbfc",
     "previous": "35c33414-55a3-11e7-b0b2-00163e9c0e35-7-ffee-ac17-9684-abf3-2fef-0f05-7191"
    }
   },
   "source": [
    "# パラメータ定義"
   ]
  },
  {
   "cell_type": "markdown",
   "metadata": {
    "lc_cell_meme": {
     "current": "670888aa-5722-11e7-b0b2-00163e9c0e35-7-17ba-53fc-2957-f162-24c7-25be-dbfc",
     "history": [
      {
       "current": "670888aa-5722-11e7-b0b2-00163e9c0e35-1-17ba",
       "next": "35c33b6c-55a3-11e7-b0b2-00163e9c0e35",
       "previous": "35c339aa-55a3-11e7-b0b2-00163e9c0e35"
      },
      {
       "current": "670888aa-5722-11e7-b0b2-00163e9c0e35-2-17ba-53fc",
       "next": "35c33b6c-55a3-11e7-b0b2-00163e9c0e35-1-c84d",
       "previous": "35c339aa-55a3-11e7-b0b2-00163e9c0e35-1-eee2"
      },
      {
       "current": "670888aa-5722-11e7-b0b2-00163e9c0e35-3-17ba-53fc-2957",
       "next": "35c33b6c-55a3-11e7-b0b2-00163e9c0e35-2-c84d-3439",
       "previous": "35c339aa-55a3-11e7-b0b2-00163e9c0e35-2-eee2-af6c"
      },
      {
       "current": "670888aa-5722-11e7-b0b2-00163e9c0e35-4-17ba-53fc-2957-f162",
       "next": "35c33b6c-55a3-11e7-b0b2-00163e9c0e35-3-c84d-3439-eddb",
       "previous": "35c339aa-55a3-11e7-b0b2-00163e9c0e35-3-eee2-af6c-3cfe"
      },
      {
       "current": "670888aa-5722-11e7-b0b2-00163e9c0e35-5-17ba-53fc-2957-f162-24c7",
       "next": "35c33b6c-55a3-11e7-b0b2-00163e9c0e35-4-c84d-3439-eddb-2e43",
       "previous": "35c339aa-55a3-11e7-b0b2-00163e9c0e35-4-eee2-af6c-3cfe-098b"
      },
      {
       "current": "670888aa-5722-11e7-b0b2-00163e9c0e35-6-17ba-53fc-2957-f162-24c7-25be",
       "next": "35c33b6c-55a3-11e7-b0b2-00163e9c0e35-5-c84d-3439-eddb-2e43-c7e0",
       "previous": "35c339aa-55a3-11e7-b0b2-00163e9c0e35-5-eee2-af6c-3cfe-098b-239f"
      },
      {
       "current": "670888aa-5722-11e7-b0b2-00163e9c0e35-7-17ba-53fc-2957-f162-24c7-25be-dbfc",
       "next": "35c33b6c-55a3-11e7-b0b2-00163e9c0e35-6-c84d-3439-eddb-2e43-c7e0-a35b",
       "previous": "35c339aa-55a3-11e7-b0b2-00163e9c0e35-6-eee2-af6c-3cfe-098b-239f-d03b"
      }
     ],
     "next": "35c33b6c-55a3-11e7-b0b2-00163e9c0e35-7-c84d-3439-eddb-2e43-c7e0-a35b-c0eb",
     "previous": "35c339aa-55a3-11e7-b0b2-00163e9c0e35-7-eee2-af6c-3cfe-098b-239f-d03b-f906"
    }
   },
   "source": [
    "## パラメータファイル設定"
   ]
  },
  {
   "cell_type": "markdown",
   "metadata": {
    "lc_cell_meme": {
     "current": "35c33b6c-55a3-11e7-b0b2-00163e9c0e35-7-c84d-3439-eddb-2e43-c7e0-a35b-c0eb",
     "history": [
      {
       "current": "35c33b6c-55a3-11e7-b0b2-00163e9c0e35",
       "next": "35c33d24-55a3-11e7-b0b2-00163e9c0e35",
       "previous": "35c339aa-55a3-11e7-b0b2-00163e9c0e35"
      },
      {
       "current": "35c33b6c-55a3-11e7-b0b2-00163e9c0e35-1-c84d",
       "next": "35c33d24-55a3-11e7-b0b2-00163e9c0e35",
       "previous": "670888aa-5722-11e7-b0b2-00163e9c0e35"
      },
      {
       "current": "35c33b6c-55a3-11e7-b0b2-00163e9c0e35-2-c84d-3439",
       "next": "35c33d24-55a3-11e7-b0b2-00163e9c0e35-1-c8d8",
       "previous": "670888aa-5722-11e7-b0b2-00163e9c0e35-1-17ba"
      },
      {
       "current": "35c33b6c-55a3-11e7-b0b2-00163e9c0e35-3-c84d-3439-eddb",
       "next": "35c33d24-55a3-11e7-b0b2-00163e9c0e35-2-c8d8-c063",
       "previous": "670888aa-5722-11e7-b0b2-00163e9c0e35-2-17ba-53fc"
      },
      {
       "current": "35c33b6c-55a3-11e7-b0b2-00163e9c0e35-4-c84d-3439-eddb-2e43",
       "next": "35c33d24-55a3-11e7-b0b2-00163e9c0e35-3-c8d8-c063-e3d4",
       "previous": "670888aa-5722-11e7-b0b2-00163e9c0e35-3-17ba-53fc-2957"
      },
      {
       "current": "35c33b6c-55a3-11e7-b0b2-00163e9c0e35-5-c84d-3439-eddb-2e43-c7e0",
       "next": "35c33d24-55a3-11e7-b0b2-00163e9c0e35-4-c8d8-c063-e3d4-2838",
       "previous": "670888aa-5722-11e7-b0b2-00163e9c0e35-4-17ba-53fc-2957-f162"
      },
      {
       "current": "35c33b6c-55a3-11e7-b0b2-00163e9c0e35-6-c84d-3439-eddb-2e43-c7e0-a35b",
       "next": "cead5b62-2307-11ef-ad2f-0242ac120005",
       "previous": "670888aa-5722-11e7-b0b2-00163e9c0e35-5-17ba-53fc-2957-f162-24c7"
      },
      {
       "current": "35c33b6c-55a3-11e7-b0b2-00163e9c0e35-7-c84d-3439-eddb-2e43-c7e0-a35b-c0eb",
       "next": "cead5b62-2307-11ef-ad2f-0242ac120005-1-001a",
       "previous": "670888aa-5722-11e7-b0b2-00163e9c0e35-6-17ba-53fc-2957-f162-24c7-25be"
      }
     ],
     "next": "cead5b62-2307-11ef-ad2f-0242ac120005-2-001a-72ba",
     "previous": "670888aa-5722-11e7-b0b2-00163e9c0e35-7-17ba-53fc-2957-f162-24c7-25be-dbfc"
    }
   },
   "source": [
    "Cephクラスタの定義ファイルを指定するため、<br>\n",
    "パラメータ定義格納ディレクトリを表示する。"
   ]
  },
  {
   "cell_type": "code",
   "execution_count": null,
   "metadata": {
    "lc_cell_meme": {
     "current": "cead5b62-2307-11ef-ad2f-0242ac120005-2-001a-72ba",
     "history": [
      {
       "current": "cead5b62-2307-11ef-ad2f-0242ac120005-1-001a",
       "next": "cead5c34-2307-11ef-ad2f-0242ac120005",
       "previous": "35c33b6c-55a3-11e7-b0b2-00163e9c0e35-5-c84d-3439-eddb-2e43-c7e0"
      },
      {
       "current": "cead5b62-2307-11ef-ad2f-0242ac120005-2-001a-72ba",
       "next": "cead5c34-2307-11ef-ad2f-0242ac120005-1-3daa",
       "previous": "35c33b6c-55a3-11e7-b0b2-00163e9c0e35-6-c84d-3439-eddb-2e43-c7e0-a35b"
      }
     ],
     "next": "cead5c34-2307-11ef-ad2f-0242ac120005-2-3daa-4057",
     "previous": "35c33b6c-55a3-11e7-b0b2-00163e9c0e35-7-c84d-3439-eddb-2e43-c7e0-a35b-c0eb"
    }
   },
   "outputs": [],
   "source": [
    "!ls -p ~/notebooks/share/ | grep \"/$\""
   ]
  },
  {
   "cell_type": "code",
   "execution_count": null,
   "metadata": {
    "lc_cell_meme": {
     "current": "cead5c34-2307-11ef-ad2f-0242ac120005-2-3daa-4057",
     "history": [
      {
       "current": "cead5c34-2307-11ef-ad2f-0242ac120005-1-3daa",
       "next": "cead5c66-2307-11ef-ad2f-0242ac120005",
       "previous": "cead5b62-2307-11ef-ad2f-0242ac120005"
      },
      {
       "current": "cead5c34-2307-11ef-ad2f-0242ac120005-2-3daa-4057",
       "next": "cead5c66-2307-11ef-ad2f-0242ac120005-1-74ae",
       "previous": "cead5b62-2307-11ef-ad2f-0242ac120005-1-001a"
      }
     ],
     "next": "cead5c66-2307-11ef-ad2f-0242ac120005-2-74ae-9813",
     "previous": "cead5b62-2307-11ef-ad2f-0242ac120005-2-001a-72ba"
    }
   },
   "outputs": [],
   "source": [
    "!ls -p ~/notebooks/share/configuration"
   ]
  },
  {
   "cell_type": "code",
   "execution_count": null,
   "metadata": {
    "lc_cell_meme": {
     "current": "cead5c66-2307-11ef-ad2f-0242ac120005-2-74ae-9813",
     "history": [
      {
       "current": "cead5c66-2307-11ef-ad2f-0242ac120005-1-74ae",
       "next": "cead5c8e-2307-11ef-ad2f-0242ac120005",
       "previous": "cead5c34-2307-11ef-ad2f-0242ac120005"
      },
      {
       "current": "cead5c66-2307-11ef-ad2f-0242ac120005-2-74ae-9813",
       "next": "cead5c8e-2307-11ef-ad2f-0242ac120005-1-ab83",
       "previous": "cead5c34-2307-11ef-ad2f-0242ac120005-1-3daa"
      }
     ],
     "next": "cead5c8e-2307-11ef-ad2f-0242ac120005-2-ab83-0824",
     "previous": "cead5c34-2307-11ef-ad2f-0242ac120005-2-3daa-4057"
    }
   },
   "outputs": [],
   "source": [
    "!ls -p ~/notebooks/share/configuration/ceph"
   ]
  },
  {
   "cell_type": "code",
   "execution_count": null,
   "metadata": {
    "lc_cell_meme": {
     "current": "cead5c8e-2307-11ef-ad2f-0242ac120005-2-ab83-0824",
     "history": [
      {
       "current": "cead5c8e-2307-11ef-ad2f-0242ac120005-1-ab83",
       "next": "cead5cac-2307-11ef-ad2f-0242ac120005",
       "previous": "cead5c66-2307-11ef-ad2f-0242ac120005"
      },
      {
       "current": "cead5c8e-2307-11ef-ad2f-0242ac120005-2-ab83-0824",
       "next": "cead5cac-2307-11ef-ad2f-0242ac120005-1-55f1",
       "previous": "cead5c66-2307-11ef-ad2f-0242ac120005-1-74ae"
      }
     ],
     "next": "cead5cac-2307-11ef-ad2f-0242ac120005-2-55f1-b808",
     "previous": "cead5c66-2307-11ef-ad2f-0242ac120005-2-74ae-9813"
    }
   },
   "outputs": [],
   "source": [
    "import sys, os.path, importlib, json, yaml\n",
    "\n",
    "config_file_name = \"ceph_admin_vm.yml\"\n",
    "config_file_path = os.path.expanduser(\"~/notebooks/share/configuration/ceph/{}\".format(config_file_name))\n",
    "with open(config_file_path) as f:\n",
    "    admin_params = yaml.safe_load(f)\n",
    "admin_params"
   ]
  },
  {
   "cell_type": "code",
   "execution_count": null,
   "metadata": {
    "lc_cell_meme": {
     "current": "cead5cac-2307-11ef-ad2f-0242ac120005-2-55f1-b808",
     "history": [
      {
       "current": "cead5cac-2307-11ef-ad2f-0242ac120005-1-55f1",
       "next": "cead5cd4-2307-11ef-ad2f-0242ac120005",
       "previous": "cead5c8e-2307-11ef-ad2f-0242ac120005"
      },
      {
       "current": "cead5cac-2307-11ef-ad2f-0242ac120005-2-55f1-b808",
       "next": "cead5cd4-2307-11ef-ad2f-0242ac120005-1-1e39",
       "previous": "cead5c8e-2307-11ef-ad2f-0242ac120005-1-ab83"
      }
     ],
     "next": "cead5cd4-2307-11ef-ad2f-0242ac120005-2-1e39-3d3b",
     "previous": "cead5c8e-2307-11ef-ad2f-0242ac120005-2-ab83-0824"
    }
   },
   "outputs": [],
   "source": [
    "target_vm_name = 'xxx-ceph-admin1'\n",
    "admin_patam = admin_params[target_vm_name]\n",
    "admin_patam"
   ]
  },
  {
   "cell_type": "code",
   "execution_count": null,
   "metadata": {
    "lc_cell_meme": {
     "current": "cead5cd4-2307-11ef-ad2f-0242ac120005-2-1e39-3d3b",
     "history": [
      {
       "current": "cead5cd4-2307-11ef-ad2f-0242ac120005-1-1e39",
       "next": "cead5cfc-2307-11ef-ad2f-0242ac120005",
       "previous": "cead5cac-2307-11ef-ad2f-0242ac120005"
      },
      {
       "current": "cead5cd4-2307-11ef-ad2f-0242ac120005-2-1e39-3d3b",
       "next": "cead5cfc-2307-11ef-ad2f-0242ac120005-1-3db9",
       "previous": "cead5cac-2307-11ef-ad2f-0242ac120005-1-55f1"
      }
     ],
     "next": "cead5cfc-2307-11ef-ad2f-0242ac120005-2-3db9-32ba",
     "previous": "cead5cac-2307-11ef-ad2f-0242ac120005-2-55f1-b808"
    }
   },
   "outputs": [],
   "source": [
    "ceph_admin_ip = admin_patam['network']['provisioning']['ip']"
   ]
  },
  {
   "cell_type": "code",
   "execution_count": null,
   "metadata": {
    "lc_cell_meme": {
     "current": "cead5cfc-2307-11ef-ad2f-0242ac120005-2-3db9-32ba",
     "history": [
      {
       "current": "cead5cfc-2307-11ef-ad2f-0242ac120005-1-3db9",
       "next": "cead5d1a-2307-11ef-ad2f-0242ac120005",
       "previous": "cead5cd4-2307-11ef-ad2f-0242ac120005"
      },
      {
       "current": "cead5cfc-2307-11ef-ad2f-0242ac120005-2-3db9-32ba",
       "next": "cead5d1a-2307-11ef-ad2f-0242ac120005-1-18a4",
       "previous": "cead5cd4-2307-11ef-ad2f-0242ac120005-1-1e39"
      }
     ],
     "next": "cead5d1a-2307-11ef-ad2f-0242ac120005-2-18a4-9186",
     "previous": "cead5cd4-2307-11ef-ad2f-0242ac120005-2-1e39-3d3b"
    }
   },
   "outputs": [],
   "source": [
    "import sys, os.path, importlib, json, yaml\n",
    "\n",
    "config_file_name = \"xxx-openstack-parameter.yml\"\n",
    "config_file_path = os.path.expanduser(\"~/notebooks/share/configuration/{}\".format(config_file_name))\n",
    "with open(config_file_path) as f:\n",
    "    params = yaml.safe_load(f)\n",
    "params"
   ]
  },
  {
   "cell_type": "code",
   "execution_count": null,
   "metadata": {
    "lc_cell_meme": {
     "current": "cead5d1a-2307-11ef-ad2f-0242ac120005-2-18a4-9186",
     "history": [
      {
       "current": "cead5d1a-2307-11ef-ad2f-0242ac120005-1-18a4",
       "next": "cead5d42-2307-11ef-ad2f-0242ac120005",
       "previous": "cead5cfc-2307-11ef-ad2f-0242ac120005"
      },
      {
       "current": "cead5d1a-2307-11ef-ad2f-0242ac120005-2-18a4-9186",
       "next": "cead5d42-2307-11ef-ad2f-0242ac120005-1-f88b",
       "previous": "cead5cfc-2307-11ef-ad2f-0242ac120005-1-3db9"
      }
     ],
     "next": "cead5d42-2307-11ef-ad2f-0242ac120005-2-f88b-ddb8",
     "previous": "cead5cfc-2307-11ef-ad2f-0242ac120005-2-3db9-32ba"
    }
   },
   "outputs": [],
   "source": [
    "repo_server = params['repository']['addresses']['service_operation']\n",
    "repo_server"
   ]
  },
  {
   "cell_type": "code",
   "execution_count": null,
   "metadata": {
    "lc_cell_meme": {
     "current": "cead5d42-2307-11ef-ad2f-0242ac120005-2-f88b-ddb8",
     "history": [
      {
       "current": "cead5d42-2307-11ef-ad2f-0242ac120005-1-f88b",
       "next": "bf249b06-98af-11ea-8d02-0242ac120007-5-1e49-e772-9042-ea60-546b",
       "previous": "cead5d1a-2307-11ef-ad2f-0242ac120005"
      },
      {
       "current": "cead5d42-2307-11ef-ad2f-0242ac120005-2-f88b-ddb8",
       "next": "bf249b06-98af-11ea-8d02-0242ac120007-6-1e49-e772-9042-ea60-546b-bc98",
       "previous": "cead5d1a-2307-11ef-ad2f-0242ac120005-1-18a4"
      }
     ],
     "next": "bf249b06-98af-11ea-8d02-0242ac120007-7-1e49-e772-9042-ea60-546b-bc98-4c45",
     "previous": "cead5d1a-2307-11ef-ad2f-0242ac120005-2-18a4-9186"
    }
   },
   "outputs": [],
   "source": [
    "provisioning_vip = params['openstack']['provisioning_vip']\n",
    "provisioning_vip"
   ]
  },
  {
   "cell_type": "markdown",
   "metadata": {
    "lc_cell_meme": {
     "current": "bf249b06-98af-11ea-8d02-0242ac120007-7-1e49-e772-9042-ea60-546b-bc98-4c45",
     "history": [
      {
       "current": "bf249b06-98af-11ea-8d02-0242ac120007",
       "next": "d1bcb8ac-9599-11ea-8d02-0242ac120007",
       "previous": "7dae8996-9686-11ea-8d02-0242ac120007"
      },
      {
       "current": "bf249b06-98af-11ea-8d02-0242ac120007-1-1e49",
       "next": "dd8e3cbc-98f2-11ea-8d02-0242ac120007",
       "previous": "7dae8996-9686-11ea-8d02-0242ac120007"
      },
      {
       "current": "bf249b06-98af-11ea-8d02-0242ac120007-2-1e49-e772",
       "next": "dd8e3cbc-98f2-11ea-8d02-0242ac120007-1-706a",
       "previous": "7dae8996-9686-11ea-8d02-0242ac120007-1-20c5"
      },
      {
       "current": "bf249b06-98af-11ea-8d02-0242ac120007-2-1e49-e772",
       "next": "dd8e3cbc-98f2-11ea-8d02-0242ac120007-2-706a-309d",
       "previous": "7dae8996-9686-11ea-8d02-0242ac120007-2-20c5-a0b0"
      },
      {
       "current": "bf249b06-98af-11ea-8d02-0242ac120007-2-1e49-e772",
       "next": "dd8e3cbc-98f2-11ea-8d02-0242ac120007-2-706a-309d",
       "previous": "1afe76e2-def8-11eb-b29f-0242ac120008"
      },
      {
       "current": "bf249b06-98af-11ea-8d02-0242ac120007-2-1e49-e772",
       "next": "d1bcb8ac-9599-11ea-8d02-0242ac120007-2-ec95-2870",
       "previous": "1afe76e2-def8-11eb-b29f-0242ac120008"
      },
      {
       "current": "bf249b06-98af-11ea-8d02-0242ac120007-2-1e49-e772",
       "next": "d1bcb8ac-9599-11ea-8d02-0242ac120007-2-ec95-2870",
       "previous": "445f36bc-def7-11eb-b29f-0242ac120008"
      },
      {
       "current": "bf249b06-98af-11ea-8d02-0242ac120007-3-1e49-e772-9042",
       "next": "d1bcb8ac-9599-11ea-8d02-0242ac120007-2-ec95-2870",
       "previous": "17dd310e-deff-11eb-b29f-0242ac120008"
      },
      {
       "current": "bf249b06-98af-11ea-8d02-0242ac120007-4-1e49-e772-9042-ea60",
       "next": "d1bcb8ac-9599-11ea-8d02-0242ac120007-3-ec95-2870-3f6b",
       "previous": "17dd310e-deff-11eb-b29f-0242ac120008-1-9f34"
      },
      {
       "current": "bf249b06-98af-11ea-8d02-0242ac120007-5-1e49-e772-9042-ea60-546b",
       "next": "d1bcb8ac-9599-11ea-8d02-0242ac120007-4-ec95-2870-3f6b-a478",
       "previous": "17dd310e-deff-11eb-b29f-0242ac120008-2-9f34-c6a3"
      },
      {
       "current": "bf249b06-98af-11ea-8d02-0242ac120007-6-1e49-e772-9042-ea60-546b-bc98",
       "next": "d1bcb8ac-9599-11ea-8d02-0242ac120007-5-ec95-2870-3f6b-a478-a1cb",
       "previous": "cead5d42-2307-11ef-ad2f-0242ac120005"
      },
      {
       "current": "bf249b06-98af-11ea-8d02-0242ac120007-7-1e49-e772-9042-ea60-546b-bc98-4c45",
       "next": "d1bcb8ac-9599-11ea-8d02-0242ac120007-6-ec95-2870-3f6b-a478-a1cb-1ead",
       "previous": "cead5d42-2307-11ef-ad2f-0242ac120005-1-f88b"
      }
     ],
     "next": "d1bcb8ac-9599-11ea-8d02-0242ac120007-7-ec95-2870-3f6b-a478-a1cb-1ead-573e",
     "previous": "cead5d42-2307-11ef-ad2f-0242ac120005-2-f88b-ddb8"
    }
   },
   "source": [
    "## CephノードとストレージセグメントIPアドレス対応表の読み込み"
   ]
  },
  {
   "cell_type": "code",
   "execution_count": null,
   "metadata": {
    "lc_cell_meme": {
     "current": "d1bcb8ac-9599-11ea-8d02-0242ac120007-7-ec95-2870-3f6b-a478-a1cb-1ead-573e",
     "history": [
      {
       "current": "d1bcb8ac-9599-11ea-8d02-0242ac120007",
       "next": "d1bcba78-9599-11ea-8d02-0242ac120007",
       "previous": "d1bcb5c8-9599-11ea-8d02-0242ac120007"
      },
      {
       "current": "d1bcb8ac-9599-11ea-8d02-0242ac120007",
       "next": "d1bcba78-9599-11ea-8d02-0242ac120007",
       "previous": "a85c1dda-959a-11ea-8d02-0242ac120007"
      },
      {
       "current": "d1bcb8ac-9599-11ea-8d02-0242ac120007",
       "next": "81dd4f74-9597-11ea-8d02-0242ac120007",
       "previous": "a85c1dda-959a-11ea-8d02-0242ac120007"
      },
      {
       "current": "d1bcb8ac-9599-11ea-8d02-0242ac120007",
       "next": "e879cdac-95bf-11ea-8d02-0242ac120007",
       "previous": "a85c1dda-959a-11ea-8d02-0242ac120007"
      },
      {
       "current": "d1bcb8ac-9599-11ea-8d02-0242ac120007",
       "next": "7899411a-9692-11ea-8d02-0242ac120007",
       "previous": "bf249b06-98af-11ea-8d02-0242ac120007"
      },
      {
       "current": "d1bcb8ac-9599-11ea-8d02-0242ac120007",
       "next": "06afe9a8-98b0-11ea-8d02-0242ac120007",
       "previous": "bf249b06-98af-11ea-8d02-0242ac120007"
      },
      {
       "current": "d1bcb8ac-9599-11ea-8d02-0242ac120007",
       "next": "06afe9a8-98b0-11ea-8d02-0242ac120007",
       "previous": "dd8e3cbc-98f2-11ea-8d02-0242ac120007"
      },
      {
       "current": "d1bcb8ac-9599-11ea-8d02-0242ac120007-1-ec95",
       "next": "250e7a70-98f3-11ea-8d02-0242ac120007",
       "previous": "dd8e3cbc-98f2-11ea-8d02-0242ac120007"
      },
      {
       "current": "d1bcb8ac-9599-11ea-8d02-0242ac120007-2-ec95-2870",
       "next": "250e7a70-98f3-11ea-8d02-0242ac120007-1-f0b4",
       "previous": "dd8e3cbc-98f2-11ea-8d02-0242ac120007-1-706a"
      },
      {
       "current": "d1bcb8ac-9599-11ea-8d02-0242ac120007-2-ec95-2870",
       "next": "250e7a70-98f3-11ea-8d02-0242ac120007-2-f0b4-6edf",
       "previous": "dd8e3cbc-98f2-11ea-8d02-0242ac120007-2-706a-309d"
      },
      {
       "current": "d1bcb8ac-9599-11ea-8d02-0242ac120007-3-ec95-2870-3f6b",
       "next": "250e7a70-98f3-11ea-8d02-0242ac120007-2-f0b4-6edf",
       "previous": "bf249b06-98af-11ea-8d02-0242ac120007-2-1e49-e772"
      },
      {
       "current": "d1bcb8ac-9599-11ea-8d02-0242ac120007-3-ec95-2870-3f6b",
       "next": "250e7a70-98f3-11ea-8d02-0242ac120007-3-f0b4-6edf-9d40",
       "previous": "bf249b06-98af-11ea-8d02-0242ac120007-3-1e49-e772-9042"
      },
      {
       "current": "d1bcb8ac-9599-11ea-8d02-0242ac120007-4-ec95-2870-3f6b-a478",
       "next": "8a6e62b8-6f14-11ee-89fa-0242ac120005",
       "previous": "bf249b06-98af-11ea-8d02-0242ac120007-3-1e49-e772-9042"
      },
      {
       "current": "d1bcb8ac-9599-11ea-8d02-0242ac120007-5-ec95-2870-3f6b-a478-a1cb",
       "next": "8a6e62b8-6f14-11ee-89fa-0242ac120005-1-f86b",
       "previous": "bf249b06-98af-11ea-8d02-0242ac120007-4-1e49-e772-9042-ea60"
      },
      {
       "current": "d1bcb8ac-9599-11ea-8d02-0242ac120007-6-ec95-2870-3f6b-a478-a1cb-1ead",
       "next": "8a6e6452-6f14-11ee-89fa-0242ac120005-2-1fba-ae51",
       "previous": "bf249b06-98af-11ea-8d02-0242ac120007-5-1e49-e772-9042-ea60-546b"
      },
      {
       "current": "d1bcb8ac-9599-11ea-8d02-0242ac120007-7-ec95-2870-3f6b-a478-a1cb-1ead-573e",
       "next": "8a6e6452-6f14-11ee-89fa-0242ac120005-3-1fba-ae51-9714",
       "previous": "bf249b06-98af-11ea-8d02-0242ac120007-6-1e49-e772-9042-ea60-546b-bc98"
      }
     ],
     "next": "8a6e6452-6f14-11ee-89fa-0242ac120005-4-1fba-ae51-9714-126d",
     "previous": "bf249b06-98af-11ea-8d02-0242ac120007-7-1e49-e772-9042-ea60-546b-bc98-4c45"
    },
    "scrolled": true
   },
   "outputs": [],
   "source": [
    "import os\n",
    "import csv\n",
    "import pandas as pd\n",
    "\n",
    "instance_ip_csv_path =  os.environ['HOME'] + \"/notebooks/share/configuration/ceph/ceph_instance_ip.csv\"\n",
    "instance_ip_list = []\n",
    "instance_ip_map = {}\n",
    "\n",
    "with open(instance_ip_csv_path, 'r') as path_csv:\n",
    "    reader = csv.DictReader(path_csv)\n",
    "    \n",
    "    for record in reader:\n",
    "        instance_ip_list.append(record)\n",
    "        instance_ip_map[record['instance_name']] = record\n",
    "\n",
    "pd.DataFrame(instance_ip_list)"
   ]
  },
  {
   "cell_type": "markdown",
   "metadata": {
    "lc_cell_meme": {
     "current": "8a6e6452-6f14-11ee-89fa-0242ac120005-4-1fba-ae51-9714-126d",
     "history": [
      {
       "current": "8a6e6452-6f14-11ee-89fa-0242ac120005-1-1fba",
       "next": "8a6e65e2-6f14-11ee-89fa-0242ac120005",
       "previous": "250e7a70-98f3-11ea-8d02-0242ac120007-3-f0b4-6edf-9d40"
      },
      {
       "current": "8a6e6452-6f14-11ee-89fa-0242ac120005-2-1fba-ae51",
       "next": "8a6e65e2-6f14-11ee-89fa-0242ac120005-1-c3ce",
       "previous": "250e7a70-98f3-11ea-8d02-0242ac120007-4-f0b4-6edf-9d40-906c"
      },
      {
       "current": "8a6e6452-6f14-11ee-89fa-0242ac120005-3-1fba-ae51-9714",
       "next": "8a6e65e2-6f14-11ee-89fa-0242ac120005-2-c3ce-e2fe",
       "previous": "d1bcb8ac-9599-11ea-8d02-0242ac120007-5-ec95-2870-3f6b-a478-a1cb"
      },
      {
       "current": "8a6e6452-6f14-11ee-89fa-0242ac120005-4-1fba-ae51-9714-126d",
       "next": "8a6e65e2-6f14-11ee-89fa-0242ac120005-3-c3ce-e2fe-14c6",
       "previous": "d1bcb8ac-9599-11ea-8d02-0242ac120007-6-ec95-2870-3f6b-a478-a1cb-1ead"
      }
     ],
     "next": "8a6e65e2-6f14-11ee-89fa-0242ac120005-4-c3ce-e2fe-14c6-c771",
     "previous": "d1bcb8ac-9599-11ea-8d02-0242ac120007-7-ec95-2870-3f6b-a478-a1cb-1ead-573e"
    }
   },
   "source": [
    "## 作業用ディレクトリを作成する"
   ]
  },
  {
   "cell_type": "code",
   "execution_count": null,
   "metadata": {
    "lc_cell_meme": {
     "current": "8a6e65e2-6f14-11ee-89fa-0242ac120005-4-c3ce-e2fe-14c6-c771",
     "history": [
      {
       "current": "8a6e65e2-6f14-11ee-89fa-0242ac120005-1-c3ce",
       "next": "8a6e6664-6f14-11ee-89fa-0242ac120005",
       "previous": "8a6e6452-6f14-11ee-89fa-0242ac120005"
      },
      {
       "current": "8a6e65e2-6f14-11ee-89fa-0242ac120005-2-c3ce-e2fe",
       "next": "8a6e6664-6f14-11ee-89fa-0242ac120005-1-baeb",
       "previous": "8a6e6452-6f14-11ee-89fa-0242ac120005-1-1fba"
      },
      {
       "current": "8a6e65e2-6f14-11ee-89fa-0242ac120005-3-c3ce-e2fe-14c6",
       "next": "8a6e6664-6f14-11ee-89fa-0242ac120005-2-baeb-06d7",
       "previous": "8a6e6452-6f14-11ee-89fa-0242ac120005-2-1fba-ae51"
      },
      {
       "current": "8a6e65e2-6f14-11ee-89fa-0242ac120005-4-c3ce-e2fe-14c6-c771",
       "next": "8a6e6664-6f14-11ee-89fa-0242ac120005-3-baeb-06d7-1ea8",
       "previous": "8a6e6452-6f14-11ee-89fa-0242ac120005-3-1fba-ae51-9714"
      }
     ],
     "next": "8a6e6664-6f14-11ee-89fa-0242ac120005-4-baeb-06d7-1ea8-7896",
     "previous": "8a6e6452-6f14-11ee-89fa-0242ac120005-4-1fba-ae51-9714-126d"
    }
   },
   "outputs": [],
   "source": [
    "import os,tempfile\n",
    "temp_dir = tempfile.mkdtemp()\n",
    "print (temp_dir)"
   ]
  },
  {
   "cell_type": "markdown",
   "metadata": {
    "lc_cell_meme": {
     "current": "8a6e6664-6f14-11ee-89fa-0242ac120005-4-baeb-06d7-1ea8-7896",
     "history": [
      {
       "current": "8a6e6664-6f14-11ee-89fa-0242ac120005-1-baeb",
       "next": "8a6e66c8-6f14-11ee-89fa-0242ac120005",
       "previous": "8a6e65e2-6f14-11ee-89fa-0242ac120005"
      },
      {
       "current": "8a6e6664-6f14-11ee-89fa-0242ac120005-2-baeb-06d7",
       "next": "8a6e66c8-6f14-11ee-89fa-0242ac120005-1-2953",
       "previous": "8a6e65e2-6f14-11ee-89fa-0242ac120005-1-c3ce"
      },
      {
       "current": "8a6e6664-6f14-11ee-89fa-0242ac120005-3-baeb-06d7-1ea8",
       "next": "8a6e66c8-6f14-11ee-89fa-0242ac120005-2-2953-bca9",
       "previous": "8a6e65e2-6f14-11ee-89fa-0242ac120005-2-c3ce-e2fe"
      },
      {
       "current": "8a6e6664-6f14-11ee-89fa-0242ac120005-4-baeb-06d7-1ea8-7896",
       "next": "8a6e66c8-6f14-11ee-89fa-0242ac120005-3-2953-bca9-2240",
       "previous": "8a6e65e2-6f14-11ee-89fa-0242ac120005-3-c3ce-e2fe-14c6"
      }
     ],
     "next": "8a6e66c8-6f14-11ee-89fa-0242ac120005-4-2953-bca9-2240-5a98",
     "previous": "8a6e65e2-6f14-11ee-89fa-0242ac120005-4-c3ce-e2fe-14c6-c771"
    }
   },
   "source": [
    "## AnsibleのInventoryファイルを作業用ディレクトリへ作成する"
   ]
  },
  {
   "cell_type": "code",
   "execution_count": null,
   "metadata": {
    "lc_cell_meme": {
     "current": "8a6e66c8-6f14-11ee-89fa-0242ac120005-4-2953-bca9-2240-5a98",
     "history": [
      {
       "current": "8a6e66c8-6f14-11ee-89fa-0242ac120005-1-2953",
       "next": "8a6e6736-6f14-11ee-89fa-0242ac120005",
       "previous": "8a6e6664-6f14-11ee-89fa-0242ac120005"
      },
      {
       "current": "8a6e66c8-6f14-11ee-89fa-0242ac120005-2-2953-bca9",
       "next": "8a6e6736-6f14-11ee-89fa-0242ac120005-1-8645",
       "previous": "8a6e6664-6f14-11ee-89fa-0242ac120005-1-baeb"
      },
      {
       "current": "8a6e66c8-6f14-11ee-89fa-0242ac120005-3-2953-bca9-2240",
       "next": "8a6e6736-6f14-11ee-89fa-0242ac120005-2-8645-71e6",
       "previous": "8a6e6664-6f14-11ee-89fa-0242ac120005-2-baeb-06d7"
      },
      {
       "current": "8a6e66c8-6f14-11ee-89fa-0242ac120005-4-2953-bca9-2240-5a98",
       "next": "8a6e6736-6f14-11ee-89fa-0242ac120005-3-8645-71e6-0f88",
       "previous": "8a6e6664-6f14-11ee-89fa-0242ac120005-3-baeb-06d7-1ea8"
      }
     ],
     "next": "8a6e6736-6f14-11ee-89fa-0242ac120005-4-8645-71e6-0f88-65e1",
     "previous": "8a6e6664-6f14-11ee-89fa-0242ac120005-4-baeb-06d7-1ea8-7896"
    }
   },
   "outputs": [],
   "source": [
    "import os\n",
    "\n",
    "with open( os.path.join(temp_dir, \"hosts\"), 'w') as f:\n",
    "    f.write('''[openstack_ctl]\n",
    "{openstack_cmn}\n",
    "'''.format(openstack_cmn = provisioning_vip))\n",
    "\n",
    "hosts = temp_dir + \"/hosts\"\n",
    "!cat $hosts"
   ]
  },
  {
   "cell_type": "code",
   "execution_count": null,
   "metadata": {
    "lc_cell_meme": {
     "current": "8a6e6736-6f14-11ee-89fa-0242ac120005-4-8645-71e6-0f88-65e1",
     "history": [
      {
       "current": "8a6e6736-6f14-11ee-89fa-0242ac120005",
       "next": "8a6e67a4-6f14-11ee-89fa-0242ac120005",
       "previous": "8a6e66c8-6f14-11ee-89fa-0242ac120005"
      },
      {
       "current": "8a6e6736-6f14-11ee-89fa-0242ac120005-1-8645",
       "next": "8a6e67a4-6f14-11ee-89fa-0242ac120005-1-b446",
       "previous": "8a6e66c8-6f14-11ee-89fa-0242ac120005"
      },
      {
       "current": "8a6e6736-6f14-11ee-89fa-0242ac120005-2-8645-71e6",
       "next": "8a6e67a4-6f14-11ee-89fa-0242ac120005-2-b446-7099",
       "previous": "8a6e66c8-6f14-11ee-89fa-0242ac120005-1-2953"
      },
      {
       "current": "8a6e6736-6f14-11ee-89fa-0242ac120005-3-8645-71e6-0f88",
       "next": "8a6e67a4-6f14-11ee-89fa-0242ac120005-3-b446-7099-19c1",
       "previous": "8a6e66c8-6f14-11ee-89fa-0242ac120005-2-2953-bca9"
      },
      {
       "current": "8a6e6736-6f14-11ee-89fa-0242ac120005-4-8645-71e6-0f88-65e1",
       "next": "8a6e67a4-6f14-11ee-89fa-0242ac120005-4-b446-7099-19c1-cc4a",
       "previous": "8a6e66c8-6f14-11ee-89fa-0242ac120005-3-2953-bca9-2240"
      }
     ],
     "next": "8a6e67a4-6f14-11ee-89fa-0242ac120005-5-b446-7099-19c1-cc4a-ada8",
     "previous": "8a6e66c8-6f14-11ee-89fa-0242ac120005-4-2953-bca9-2240-5a98"
    }
   },
   "outputs": [],
   "source": [
    "%env ANSIBLE_INVENTORY={hosts}"
   ]
  },
  {
   "cell_type": "markdown",
   "metadata": {
    "lc_cell_meme": {
     "current": "8a6e67a4-6f14-11ee-89fa-0242ac120005-5-b446-7099-19c1-cc4a-ada8",
     "history": [
      {
       "current": "8a6e67a4-6f14-11ee-89fa-0242ac120005-2-b446-7099",
       "next": "8a6e6808-6f14-11ee-89fa-0242ac120005",
       "previous": "8a6e6736-6f14-11ee-89fa-0242ac120005"
      },
      {
       "current": "8a6e67a4-6f14-11ee-89fa-0242ac120005-3-b446-7099-19c1",
       "next": "8a6e6808-6f14-11ee-89fa-0242ac120005-1-1c50",
       "previous": "8a6e6736-6f14-11ee-89fa-0242ac120005-1-8645"
      },
      {
       "current": "8a6e67a4-6f14-11ee-89fa-0242ac120005-4-b446-7099-19c1-cc4a",
       "next": "8a6e6808-6f14-11ee-89fa-0242ac120005-2-1c50-a810",
       "previous": "8a6e6736-6f14-11ee-89fa-0242ac120005-2-8645-71e6"
      },
      {
       "current": "8a6e67a4-6f14-11ee-89fa-0242ac120005-5-b446-7099-19c1-cc4a-ada8",
       "next": "8a6e6808-6f14-11ee-89fa-0242ac120005-3-1c50-a810-af30",
       "previous": "8a6e6736-6f14-11ee-89fa-0242ac120005-3-8645-71e6-0f88"
      }
     ],
     "next": "8a6e6808-6f14-11ee-89fa-0242ac120005-4-1c50-a810-af30-e99d",
     "previous": "8a6e6736-6f14-11ee-89fa-0242ac120005-4-8645-71e6-0f88-65e1"
    }
   },
   "source": [
    "疎通確認"
   ]
  },
  {
   "cell_type": "code",
   "execution_count": null,
   "metadata": {
    "lc_cell_meme": {
     "current": "8a6e6808-6f14-11ee-89fa-0242ac120005-4-1c50-a810-af30-e99d",
     "history": [
      {
       "current": "8a6e6808-6f14-11ee-89fa-0242ac120005",
       "next": "8a6e6862-6f14-11ee-89fa-0242ac120005",
       "previous": "8a6e67a4-6f14-11ee-89fa-0242ac120005"
      },
      {
       "current": "8a6e6808-6f14-11ee-89fa-0242ac120005-1-1c50",
       "next": "8a6e6862-6f14-11ee-89fa-0242ac120005",
       "previous": "8a6e67a4-6f14-11ee-89fa-0242ac120005-1-b446"
      },
      {
       "current": "8a6e6808-6f14-11ee-89fa-0242ac120005-2-1c50-a810",
       "next": "8a6e6862-6f14-11ee-89fa-0242ac120005-1-b742",
       "previous": "8a6e67a4-6f14-11ee-89fa-0242ac120005-2-b446-7099"
      },
      {
       "current": "8a6e6808-6f14-11ee-89fa-0242ac120005-3-1c50-a810-af30",
       "next": "8a6e6862-6f14-11ee-89fa-0242ac120005-2-b742-d9c8",
       "previous": "8a6e67a4-6f14-11ee-89fa-0242ac120005-3-b446-7099-19c1"
      },
      {
       "current": "8a6e6808-6f14-11ee-89fa-0242ac120005-4-1c50-a810-af30-e99d",
       "next": "8a6e6862-6f14-11ee-89fa-0242ac120005-3-b742-d9c8-06f3",
       "previous": "8a6e67a4-6f14-11ee-89fa-0242ac120005-4-b446-7099-19c1-cc4a"
      }
     ],
     "next": "8a6e6862-6f14-11ee-89fa-0242ac120005-4-b742-d9c8-06f3-f5f4",
     "previous": "8a6e67a4-6f14-11ee-89fa-0242ac120005-5-b446-7099-19c1-cc4a-ada8"
    }
   },
   "outputs": [],
   "source": [
    "!ansible -m ping openstack_ctl"
   ]
  },
  {
   "cell_type": "code",
   "execution_count": null,
   "metadata": {
    "lc_cell_meme": {
     "current": "8a6e6862-6f14-11ee-89fa-0242ac120005-4-b742-d9c8-06f3-f5f4",
     "history": [
      {
       "current": "8a6e6862-6f14-11ee-89fa-0242ac120005",
       "next": "8a6e68d0-6f14-11ee-89fa-0242ac120005",
       "previous": "8a6e6808-6f14-11ee-89fa-0242ac120005"
      },
      {
       "current": "8a6e6862-6f14-11ee-89fa-0242ac120005-1-b742",
       "next": "8a6e68d0-6f14-11ee-89fa-0242ac120005-1-da77",
       "previous": "8a6e6808-6f14-11ee-89fa-0242ac120005"
      },
      {
       "current": "8a6e6862-6f14-11ee-89fa-0242ac120005-2-b742-d9c8",
       "next": "8a6e68d0-6f14-11ee-89fa-0242ac120005-2-da77-35ff",
       "previous": "8a6e6808-6f14-11ee-89fa-0242ac120005-1-1c50"
      },
      {
       "current": "8a6e6862-6f14-11ee-89fa-0242ac120005-3-b742-d9c8-06f3",
       "next": "8a6e68d0-6f14-11ee-89fa-0242ac120005-3-da77-35ff-1eee",
       "previous": "8a6e6808-6f14-11ee-89fa-0242ac120005-2-1c50-a810"
      },
      {
       "current": "8a6e6862-6f14-11ee-89fa-0242ac120005-4-b742-d9c8-06f3-f5f4",
       "next": "8a6e68d0-6f14-11ee-89fa-0242ac120005-4-da77-35ff-1eee-a5e7",
       "previous": "8a6e6808-6f14-11ee-89fa-0242ac120005-3-1c50-a810-af30"
      }
     ],
     "next": "8a6e68d0-6f14-11ee-89fa-0242ac120005-5-da77-35ff-1eee-a5e7-fc03",
     "previous": "8a6e6808-6f14-11ee-89fa-0242ac120005-4-1c50-a810-af30-e99d"
    }
   },
   "outputs": [],
   "source": [
    "!ansible -a 'hostname' openstack_ctl"
   ]
  },
  {
   "cell_type": "markdown",
   "metadata": {
    "lc_cell_meme": {
     "current": "8a6e68d0-6f14-11ee-89fa-0242ac120005-5-da77-35ff-1eee-a5e7-fc03",
     "history": [
      {
       "current": "8a6e68d0-6f14-11ee-89fa-0242ac120005-2-da77-35ff",
       "next": "8a6e6934-6f14-11ee-89fa-0242ac120005",
       "previous": "8a6e6862-6f14-11ee-89fa-0242ac120005"
      },
      {
       "current": "8a6e68d0-6f14-11ee-89fa-0242ac120005-3-da77-35ff-1eee",
       "next": "8a6e6934-6f14-11ee-89fa-0242ac120005-1-82cf",
       "previous": "8a6e6862-6f14-11ee-89fa-0242ac120005-1-b742"
      },
      {
       "current": "8a6e68d0-6f14-11ee-89fa-0242ac120005-4-da77-35ff-1eee-a5e7",
       "next": "8a6e6934-6f14-11ee-89fa-0242ac120005-2-82cf-cbe5",
       "previous": "8a6e6862-6f14-11ee-89fa-0242ac120005-2-b742-d9c8"
      },
      {
       "current": "8a6e68d0-6f14-11ee-89fa-0242ac120005-5-da77-35ff-1eee-a5e7-fc03",
       "next": "8a6e6934-6f14-11ee-89fa-0242ac120005-3-82cf-cbe5-303e",
       "previous": "8a6e6862-6f14-11ee-89fa-0242ac120005-3-b742-d9c8-06f3"
      }
     ],
     "next": "8a6e6934-6f14-11ee-89fa-0242ac120005-4-82cf-cbe5-303e-2d5f",
     "previous": "8a6e6862-6f14-11ee-89fa-0242ac120005-4-b742-d9c8-06f3-f5f4"
    }
   },
   "source": [
    "## OpenStack用OpenRCファイル設定\n",
    "\n",
    "`xxxxxxx`プロジェクト用のOpenRCファイルを事前にダウンロードしておくこと。  "
   ]
  },
  {
   "cell_type": "code",
   "execution_count": null,
   "metadata": {
    "lc_cell_meme": {
     "current": "8a6e6934-6f14-11ee-89fa-0242ac120005-4-82cf-cbe5-303e-2d5f",
     "history": [
      {
       "current": "8a6e6934-6f14-11ee-89fa-0242ac120005",
       "next": "8a6e698e-6f14-11ee-89fa-0242ac120005",
       "previous": "8a6e68d0-6f14-11ee-89fa-0242ac120005"
      },
      {
       "current": "8a6e6934-6f14-11ee-89fa-0242ac120005-1-82cf",
       "next": "d1f5984a-6f14-11ee-89fa-0242ac120005",
       "previous": "8a6e68d0-6f14-11ee-89fa-0242ac120005-1-da77"
      },
      {
       "current": "8a6e6934-6f14-11ee-89fa-0242ac120005-2-82cf-cbe5",
       "next": "d1f5984a-6f14-11ee-89fa-0242ac120005-1-0491",
       "previous": "8a6e68d0-6f14-11ee-89fa-0242ac120005-2-da77-35ff"
      },
      {
       "current": "8a6e6934-6f14-11ee-89fa-0242ac120005-3-82cf-cbe5-303e",
       "next": "d1f5984a-6f14-11ee-89fa-0242ac120005-2-0491-ed32",
       "previous": "8a6e68d0-6f14-11ee-89fa-0242ac120005-3-da77-35ff-1eee"
      },
      {
       "current": "8a6e6934-6f14-11ee-89fa-0242ac120005-4-82cf-cbe5-303e-2d5f",
       "next": "d1f5984a-6f14-11ee-89fa-0242ac120005-3-0491-ed32-690a",
       "previous": "8a6e68d0-6f14-11ee-89fa-0242ac120005-4-da77-35ff-1eee-a5e7"
      }
     ],
     "next": "d1f5984a-6f14-11ee-89fa-0242ac120005-4-0491-ed32-690a-e441",
     "previous": "8a6e68d0-6f14-11ee-89fa-0242ac120005-5-da77-35ff-1eee-a5e7-fc03"
    }
   },
   "outputs": [],
   "source": [
    "import os\n",
    "\n",
    "user_creds = os.path.expanduser('~/.keys/xxxxxxx-openrc.sh')\n",
    "\n",
    "assert os.path.exists(user_creds), '{} is not exist'.format(user_creds)"
   ]
  },
  {
   "cell_type": "code",
   "execution_count": null,
   "metadata": {
    "lc_cell_meme": {
     "current": "d1f5984a-6f14-11ee-89fa-0242ac120005-4-0491-ed32-690a-e441",
     "history": [
      {
       "current": "d1f5984a-6f14-11ee-89fa-0242ac120005-1-0491",
       "next": "d1f599e4-6f14-11ee-89fa-0242ac120005",
       "previous": "8a6e6934-6f14-11ee-89fa-0242ac120005"
      },
      {
       "current": "d1f5984a-6f14-11ee-89fa-0242ac120005-2-0491-ed32",
       "next": "d1f599e4-6f14-11ee-89fa-0242ac120005-1-ee9d",
       "previous": "8a6e6934-6f14-11ee-89fa-0242ac120005-1-82cf"
      },
      {
       "current": "d1f5984a-6f14-11ee-89fa-0242ac120005-3-0491-ed32-690a",
       "next": "d1f599e4-6f14-11ee-89fa-0242ac120005-2-ee9d-6363",
       "previous": "8a6e6934-6f14-11ee-89fa-0242ac120005-2-82cf-cbe5"
      },
      {
       "current": "d1f5984a-6f14-11ee-89fa-0242ac120005-4-0491-ed32-690a-e441",
       "next": "d1f599e4-6f14-11ee-89fa-0242ac120005-3-ee9d-6363-5e1f",
       "previous": "8a6e6934-6f14-11ee-89fa-0242ac120005-3-82cf-cbe5-303e"
      }
     ],
     "next": "d1f599e4-6f14-11ee-89fa-0242ac120005-4-ee9d-6363-5e1f-397e",
     "previous": "8a6e6934-6f14-11ee-89fa-0242ac120005-4-82cf-cbe5-303e-2d5f"
    }
   },
   "outputs": [],
   "source": [
    "%env USER_CREDS={user_creds}"
   ]
  },
  {
   "cell_type": "code",
   "execution_count": null,
   "metadata": {
    "lc_cell_meme": {
     "current": "d1f599e4-6f14-11ee-89fa-0242ac120005-4-ee9d-6363-5e1f-397e",
     "history": [
      {
       "current": "d1f599e4-6f14-11ee-89fa-0242ac120005-1-ee9d",
       "next": "d1f59a8e-6f14-11ee-89fa-0242ac120005",
       "previous": "d1f5984a-6f14-11ee-89fa-0242ac120005"
      },
      {
       "current": "d1f599e4-6f14-11ee-89fa-0242ac120005-2-ee9d-6363",
       "next": "d1f59a8e-6f14-11ee-89fa-0242ac120005-1-dee9",
       "previous": "d1f5984a-6f14-11ee-89fa-0242ac120005-1-0491"
      },
      {
       "current": "d1f599e4-6f14-11ee-89fa-0242ac120005-3-ee9d-6363-5e1f",
       "next": "d1f59a8e-6f14-11ee-89fa-0242ac120005-2-dee9-6575",
       "previous": "d1f5984a-6f14-11ee-89fa-0242ac120005-2-0491-ed32"
      },
      {
       "current": "d1f599e4-6f14-11ee-89fa-0242ac120005-4-ee9d-6363-5e1f-397e",
       "next": "d1f59a8e-6f14-11ee-89fa-0242ac120005-3-dee9-6575-193a",
       "previous": "d1f5984a-6f14-11ee-89fa-0242ac120005-3-0491-ed32-690a"
      }
     ],
     "next": "d1f59a8e-6f14-11ee-89fa-0242ac120005-4-dee9-6575-193a-1e7c",
     "previous": "d1f5984a-6f14-11ee-89fa-0242ac120005-4-0491-ed32-690a-e441"
    }
   },
   "outputs": [],
   "source": [
    "!ls -l {user_creds}"
   ]
  },
  {
   "cell_type": "markdown",
   "metadata": {
    "lc_cell_meme": {
     "current": "d1f59a8e-6f14-11ee-89fa-0242ac120005-4-dee9-6575-193a-1e7c",
     "history": [
      {
       "current": "d1f59a8e-6f14-11ee-89fa-0242ac120005-1-dee9",
       "next": "d1f59b06-6f14-11ee-89fa-0242ac120005",
       "previous": "d1f599e4-6f14-11ee-89fa-0242ac120005"
      },
      {
       "current": "d1f59a8e-6f14-11ee-89fa-0242ac120005-2-dee9-6575",
       "next": "d1f59b06-6f14-11ee-89fa-0242ac120005-1-9ab5",
       "previous": "d1f599e4-6f14-11ee-89fa-0242ac120005-1-ee9d"
      },
      {
       "current": "d1f59a8e-6f14-11ee-89fa-0242ac120005-3-dee9-6575-193a",
       "next": "d1f59b06-6f14-11ee-89fa-0242ac120005-2-9ab5-d2a1",
       "previous": "d1f599e4-6f14-11ee-89fa-0242ac120005-2-ee9d-6363"
      },
      {
       "current": "d1f59a8e-6f14-11ee-89fa-0242ac120005-4-dee9-6575-193a-1e7c",
       "next": "d1f59b06-6f14-11ee-89fa-0242ac120005-3-9ab5-d2a1-0bc5",
       "previous": "d1f599e4-6f14-11ee-89fa-0242ac120005-3-ee9d-6363-5e1f"
      }
     ],
     "next": "d1f59b06-6f14-11ee-89fa-0242ac120005-4-9ab5-d2a1-0bc5-0803",
     "previous": "d1f599e4-6f14-11ee-89fa-0242ac120005-4-ee9d-6363-5e1f-397e"
    }
   },
   "source": [
    "## openstackコマンド用ユーティリティ関数"
   ]
  },
  {
   "cell_type": "code",
   "execution_count": null,
   "metadata": {
    "lc_cell_meme": {
     "current": "d1f59b06-6f14-11ee-89fa-0242ac120005-4-9ab5-d2a1-0bc5-0803",
     "history": [
      {
       "current": "d1f59b06-6f14-11ee-89fa-0242ac120005-1-9ab5",
       "next": "d1f59b74-6f14-11ee-89fa-0242ac120005",
       "previous": "d1f59a8e-6f14-11ee-89fa-0242ac120005"
      },
      {
       "current": "d1f59b06-6f14-11ee-89fa-0242ac120005-2-9ab5-d2a1",
       "next": "d1f59b74-6f14-11ee-89fa-0242ac120005-1-47e2",
       "previous": "d1f59a8e-6f14-11ee-89fa-0242ac120005-1-dee9"
      },
      {
       "current": "d1f59b06-6f14-11ee-89fa-0242ac120005-3-9ab5-d2a1-0bc5",
       "next": "d1f59b74-6f14-11ee-89fa-0242ac120005-2-47e2-d3fa",
       "previous": "d1f59a8e-6f14-11ee-89fa-0242ac120005-2-dee9-6575"
      },
      {
       "current": "d1f59b06-6f14-11ee-89fa-0242ac120005-4-9ab5-d2a1-0bc5-0803",
       "next": "d1f59b74-6f14-11ee-89fa-0242ac120005-3-47e2-d3fa-902d",
       "previous": "d1f59a8e-6f14-11ee-89fa-0242ac120005-3-dee9-6575-193a"
      }
     ],
     "next": "d1f59b74-6f14-11ee-89fa-0242ac120005-4-47e2-d3fa-902d-b833",
     "previous": "d1f59a8e-6f14-11ee-89fa-0242ac120005-4-dee9-6575-193a-1e7c"
    }
   },
   "outputs": [],
   "source": [
    "def build_cmdline(param):\n",
    "    cmdline = ''\n",
    "    \n",
    "    for param_name, param_value in param.items():\n",
    "        if isinstance(param_value, dict):\n",
    "            for key, value in param_value.items():\n",
    "                cmdline += ' --{} {}={}'.format(param_name, key, value)\n",
    "        elif isinstance(param_value, list):\n",
    "            for item in param_value:\n",
    "                cmdline += ' --{} {}'.format(param_name, item)\n",
    "        elif isinstance(param_value, bool):\n",
    "            if param_value:\n",
    "                cmdline += ' --{}'.format(param_name)\n",
    "        else:\n",
    "            cmdline += ' --{} {}'.format(param_name, param_value)\n",
    "\n",
    "    return cmdline"
   ]
  },
  {
   "cell_type": "code",
   "execution_count": null,
   "metadata": {
    "lc_cell_meme": {
     "current": "d1f59b74-6f14-11ee-89fa-0242ac120005-4-47e2-d3fa-902d-b833",
     "history": [
      {
       "current": "d1f59b74-6f14-11ee-89fa-0242ac120005",
       "next": "d1f59bec-6f14-11ee-89fa-0242ac120005",
       "previous": "d1f59b06-6f14-11ee-89fa-0242ac120005"
      },
      {
       "current": "d1f59b74-6f14-11ee-89fa-0242ac120005-1-47e2",
       "next": "d1f59bec-6f14-11ee-89fa-0242ac120005-1-da5a",
       "previous": "d1f59b06-6f14-11ee-89fa-0242ac120005"
      },
      {
       "current": "d1f59b74-6f14-11ee-89fa-0242ac120005-2-47e2-d3fa",
       "next": "d1f59bec-6f14-11ee-89fa-0242ac120005-2-da5a-f01b",
       "previous": "d1f59b06-6f14-11ee-89fa-0242ac120005-1-9ab5"
      },
      {
       "current": "d1f59b74-6f14-11ee-89fa-0242ac120005-3-47e2-d3fa-902d",
       "next": "d1f59bec-6f14-11ee-89fa-0242ac120005-3-da5a-f01b-780e",
       "previous": "d1f59b06-6f14-11ee-89fa-0242ac120005-2-9ab5-d2a1"
      },
      {
       "current": "d1f59b74-6f14-11ee-89fa-0242ac120005-4-47e2-d3fa-902d-b833",
       "next": "d1f59bec-6f14-11ee-89fa-0242ac120005-4-da5a-f01b-780e-2c79",
       "previous": "d1f59b06-6f14-11ee-89fa-0242ac120005-3-9ab5-d2a1-0bc5"
      }
     ],
     "next": "d1f59bec-6f14-11ee-89fa-0242ac120005-5-da5a-f01b-780e-2c79-361b",
     "previous": "d1f59b06-6f14-11ee-89fa-0242ac120005-4-9ab5-d2a1-0bc5-0803"
    }
   },
   "outputs": [],
   "source": [
    "import json\n",
    "\n",
    "def run_openstack(cmd):\n",
    "    print('EXEC: {}'.format(cmd))\n",
    "    out = !source {user_creds} && {cmd}\n",
    "    print('OUTPUT: {}'.format('\\n'.join(out)))\n",
    "    return json.loads('\\n'.join(out))"
   ]
  },
  {
   "cell_type": "markdown",
   "metadata": {
    "lc_cell_meme": {
     "current": "d1f59bec-6f14-11ee-89fa-0242ac120005-5-da5a-f01b-780e-2c79-361b",
     "history": [
      {
       "current": "d1f59bec-6f14-11ee-89fa-0242ac120005-2-da5a-f01b",
       "next": "8a6e698e-6f14-11ee-89fa-0242ac120005",
       "previous": "d1f59b74-6f14-11ee-89fa-0242ac120005"
      },
      {
       "current": "d1f59bec-6f14-11ee-89fa-0242ac120005-3-da5a-f01b-780e",
       "next": "8a6e698e-6f14-11ee-89fa-0242ac120005-1-35d0",
       "previous": "d1f59b74-6f14-11ee-89fa-0242ac120005-1-47e2"
      },
      {
       "current": "d1f59bec-6f14-11ee-89fa-0242ac120005-4-da5a-f01b-780e-2c79",
       "next": "8a6e698e-6f14-11ee-89fa-0242ac120005-2-35d0-15e4",
       "previous": "d1f59b74-6f14-11ee-89fa-0242ac120005-2-47e2-d3fa"
      },
      {
       "current": "d1f59bec-6f14-11ee-89fa-0242ac120005-5-da5a-f01b-780e-2c79-361b",
       "next": "8a6e698e-6f14-11ee-89fa-0242ac120005-3-35d0-15e4-5023",
       "previous": "d1f59b74-6f14-11ee-89fa-0242ac120005-3-47e2-d3fa-902d"
      }
     ],
     "next": "8a6e698e-6f14-11ee-89fa-0242ac120005-4-35d0-15e4-5023-ec39",
     "previous": "d1f59b74-6f14-11ee-89fa-0242ac120005-4-47e2-d3fa-902d-b833"
    }
   },
   "source": [
    "テスト"
   ]
  },
  {
   "cell_type": "code",
   "execution_count": null,
   "metadata": {
    "lc_cell_meme": {
     "current": "8a6e698e-6f14-11ee-89fa-0242ac120005-4-35d0-15e4-5023-ec39",
     "history": [
      {
       "current": "8a6e698e-6f14-11ee-89fa-0242ac120005",
       "next": "8a6e69fc-6f14-11ee-89fa-0242ac120005",
       "previous": "8a6e6934-6f14-11ee-89fa-0242ac120005"
      },
      {
       "current": "8a6e698e-6f14-11ee-89fa-0242ac120005",
       "next": "8a6e69fc-6f14-11ee-89fa-0242ac120005",
       "previous": "d1f59bec-6f14-11ee-89fa-0242ac120005"
      },
      {
       "current": "8a6e698e-6f14-11ee-89fa-0242ac120005-1-35d0",
       "next": "06afe9a8-98b0-11ea-8d02-0242ac120007-3-a1c1-faf0-55bd",
       "previous": "d1f59bec-6f14-11ee-89fa-0242ac120005-1-da5a"
      },
      {
       "current": "8a6e698e-6f14-11ee-89fa-0242ac120005-2-35d0-15e4",
       "next": "06afe9a8-98b0-11ea-8d02-0242ac120007-4-a1c1-faf0-55bd-5280",
       "previous": "d1f59bec-6f14-11ee-89fa-0242ac120005-2-da5a-f01b"
      },
      {
       "current": "8a6e698e-6f14-11ee-89fa-0242ac120005-3-35d0-15e4-5023",
       "next": "06afe9a8-98b0-11ea-8d02-0242ac120007-5-a1c1-faf0-55bd-5280-314c",
       "previous": "d1f59bec-6f14-11ee-89fa-0242ac120005-3-da5a-f01b-780e"
      },
      {
       "current": "8a6e698e-6f14-11ee-89fa-0242ac120005-4-35d0-15e4-5023-ec39",
       "next": "06afe9a8-98b0-11ea-8d02-0242ac120007-6-a1c1-faf0-55bd-5280-314c-449e",
       "previous": "d1f59bec-6f14-11ee-89fa-0242ac120005-4-da5a-f01b-780e-2c79"
      }
     ],
     "next": "06afe9a8-98b0-11ea-8d02-0242ac120007-7-a1c1-faf0-55bd-5280-314c-449e-26f2",
     "previous": "d1f59bec-6f14-11ee-89fa-0242ac120005-5-da5a-f01b-780e-2c79-361b"
    }
   },
   "outputs": [],
   "source": [
    "run_openstack('openstack flavor list -f json' + build_cmdline({'all': True}))"
   ]
  },
  {
   "cell_type": "markdown",
   "metadata": {
    "lc_cell_meme": {
     "current": "06afe9a8-98b0-11ea-8d02-0242ac120007-7-a1c1-faf0-55bd-5280-314c-449e-26f2",
     "history": [
      {
       "current": "06afe9a8-98b0-11ea-8d02-0242ac120007",
       "next": "7899411a-9692-11ea-8d02-0242ac120007",
       "previous": "d1bcb8ac-9599-11ea-8d02-0242ac120007"
      },
      {
       "current": "06afe9a8-98b0-11ea-8d02-0242ac120007-1-a1c1",
       "next": "7899411a-9692-11ea-8d02-0242ac120007",
       "previous": "250e7a70-98f3-11ea-8d02-0242ac120007"
      },
      {
       "current": "06afe9a8-98b0-11ea-8d02-0242ac120007-2-a1c1-faf0",
       "next": "7899411a-9692-11ea-8d02-0242ac120007-1-2cd2",
       "previous": "250e7a70-98f3-11ea-8d02-0242ac120007-1-f0b4"
      },
      {
       "current": "06afe9a8-98b0-11ea-8d02-0242ac120007-2-a1c1-faf0",
       "next": "7899411a-9692-11ea-8d02-0242ac120007-2-2cd2-395d",
       "previous": "250e7a70-98f3-11ea-8d02-0242ac120007-2-f0b4-6edf"
      },
      {
       "current": "06afe9a8-98b0-11ea-8d02-0242ac120007-2-a1c1-faf0",
       "next": "04bfc54e-defc-11eb-b29f-0242ac120008",
       "previous": "250e7a70-98f3-11ea-8d02-0242ac120007-2-f0b4-6edf"
      },
      {
       "current": "06afe9a8-98b0-11ea-8d02-0242ac120007-3-a1c1-faf0-55bd",
       "next": "329a4046-dfad-11eb-b29f-0242ac120008",
       "previous": "250e7a70-98f3-11ea-8d02-0242ac120007-2-f0b4-6edf"
      },
      {
       "current": "06afe9a8-98b0-11ea-8d02-0242ac120007-3-a1c1-faf0-55bd",
       "next": "329a4046-dfad-11eb-b29f-0242ac120008-1-1375",
       "previous": "250e7a70-98f3-11ea-8d02-0242ac120007-3-f0b4-6edf-9d40"
      },
      {
       "current": "06afe9a8-98b0-11ea-8d02-0242ac120007-3-a1c1-faf0-55bd",
       "next": "329a4046-dfad-11eb-b29f-0242ac120008-1-1375",
       "previous": "8a6e69fc-6f14-11ee-89fa-0242ac120005"
      },
      {
       "current": "06afe9a8-98b0-11ea-8d02-0242ac120007-4-a1c1-faf0-55bd-5280",
       "next": "329a4046-dfad-11eb-b29f-0242ac120008-1-1375",
       "previous": "8a6e698e-6f14-11ee-89fa-0242ac120005"
      },
      {
       "current": "06afe9a8-98b0-11ea-8d02-0242ac120007-5-a1c1-faf0-55bd-5280-314c",
       "next": "329a4046-dfad-11eb-b29f-0242ac120008-2-1375-88c3",
       "previous": "8a6e698e-6f14-11ee-89fa-0242ac120005-1-35d0"
      },
      {
       "current": "06afe9a8-98b0-11ea-8d02-0242ac120007-6-a1c1-faf0-55bd-5280-314c-449e",
       "next": "329a4046-dfad-11eb-b29f-0242ac120008-3-1375-88c3-0a77",
       "previous": "8a6e698e-6f14-11ee-89fa-0242ac120005-2-35d0-15e4"
      },
      {
       "current": "06afe9a8-98b0-11ea-8d02-0242ac120007-7-a1c1-faf0-55bd-5280-314c-449e-26f2",
       "next": "329a4046-dfad-11eb-b29f-0242ac120008-4-1375-88c3-0a77-8f62",
       "previous": "8a6e698e-6f14-11ee-89fa-0242ac120005-3-35d0-15e4-5023"
      }
     ],
     "next": "329a4046-dfad-11eb-b29f-0242ac120008-5-1375-88c3-0a77-8f62-7b5c",
     "previous": "8a6e698e-6f14-11ee-89fa-0242ac120005-4-35d0-15e4-5023-ec39"
    }
   },
   "source": [
    "## デプロイされたCephノード情報の取得"
   ]
  },
  {
   "cell_type": "markdown",
   "metadata": {
    "lc_cell_meme": {
     "current": "329a4046-dfad-11eb-b29f-0242ac120008-5-1375-88c3-0a77-8f62-7b5c",
     "history": [
      {
       "current": "329a4046-dfad-11eb-b29f-0242ac120008-1-1375",
       "next": "329a4348-dfad-11eb-b29f-0242ac120008",
       "previous": "06afe9a8-98b0-11ea-8d02-0242ac120007-2-a1c1-faf0"
      },
      {
       "current": "329a4046-dfad-11eb-b29f-0242ac120008-1-1375",
       "next": "329a4348-dfad-11eb-b29f-0242ac120008-1-ed21",
       "previous": "06afe9a8-98b0-11ea-8d02-0242ac120007-3-a1c1-faf0-55bd"
      },
      {
       "current": "329a4046-dfad-11eb-b29f-0242ac120008-2-1375-88c3",
       "next": "197c8f3e-6f15-11ee-89fa-0242ac120005",
       "previous": "06afe9a8-98b0-11ea-8d02-0242ac120007-3-a1c1-faf0-55bd"
      },
      {
       "current": "329a4046-dfad-11eb-b29f-0242ac120008-3-1375-88c3-0a77",
       "next": "197c8f3e-6f15-11ee-89fa-0242ac120005-1-3609",
       "previous": "06afe9a8-98b0-11ea-8d02-0242ac120007-4-a1c1-faf0-55bd-5280"
      },
      {
       "current": "329a4046-dfad-11eb-b29f-0242ac120008-4-1375-88c3-0a77-8f62",
       "next": "197c8f3e-6f15-11ee-89fa-0242ac120005-2-3609-902b",
       "previous": "06afe9a8-98b0-11ea-8d02-0242ac120007-5-a1c1-faf0-55bd-5280-314c"
      },
      {
       "current": "329a4046-dfad-11eb-b29f-0242ac120008-5-1375-88c3-0a77-8f62-7b5c",
       "next": "197c8f3e-6f15-11ee-89fa-0242ac120005-3-3609-902b-bebe",
       "previous": "06afe9a8-98b0-11ea-8d02-0242ac120007-6-a1c1-faf0-55bd-5280-314c-449e"
      }
     ],
     "next": "197c8f3e-6f15-11ee-89fa-0242ac120005-4-3609-902b-bebe-946f",
     "previous": "06afe9a8-98b0-11ea-8d02-0242ac120007-7-a1c1-faf0-55bd-5280-314c-449e-26f2"
    }
   },
   "source": [
    "ストレージノードを特定するにあたり、ノード名称が　ceph-nodexxx （xxxの部分は、右寄せ0埋めの数字3桁）というルールに従っていることを前提としている。<br>\n",
    " 例：ceph-node001<br>\n",
    " このノード名称ルールは、構築するCephクラスタ毎に変えるため、以下で定義する。"
   ]
  },
  {
   "cell_type": "code",
   "execution_count": null,
   "metadata": {
    "lc_cell_meme": {
     "current": "197c8f3e-6f15-11ee-89fa-0242ac120005-4-3609-902b-bebe-946f",
     "history": [
      {
       "current": "197c8f3e-6f15-11ee-89fa-0242ac120005-1-3609",
       "next": "329a4348-dfad-11eb-b29f-0242ac120008-1-ed21",
       "previous": "329a4046-dfad-11eb-b29f-0242ac120008-1-1375"
      },
      {
       "current": "197c8f3e-6f15-11ee-89fa-0242ac120005-2-3609-902b",
       "next": "329a4348-dfad-11eb-b29f-0242ac120008-2-ed21-5161",
       "previous": "329a4046-dfad-11eb-b29f-0242ac120008-2-1375-88c3"
      },
      {
       "current": "197c8f3e-6f15-11ee-89fa-0242ac120005-3-3609-902b-bebe",
       "next": "329a4348-dfad-11eb-b29f-0242ac120008-3-ed21-5161-4b3b",
       "previous": "329a4046-dfad-11eb-b29f-0242ac120008-3-1375-88c3-0a77"
      },
      {
       "current": "197c8f3e-6f15-11ee-89fa-0242ac120005-4-3609-902b-bebe-946f",
       "next": "329a4348-dfad-11eb-b29f-0242ac120008-4-ed21-5161-4b3b-6d57",
       "previous": "329a4046-dfad-11eb-b29f-0242ac120008-4-1375-88c3-0a77-8f62"
      }
     ],
     "next": "329a4348-dfad-11eb-b29f-0242ac120008-5-ed21-5161-4b3b-6d57-e238",
     "previous": "329a4046-dfad-11eb-b29f-0242ac120008-5-1375-88c3-0a77-8f62-7b5c"
    }
   },
   "outputs": [],
   "source": [
    "# 初期化対象のインスタンス名称を設定する\n",
    "raise Exception('この先手作業が必要です')"
   ]
  },
  {
   "cell_type": "code",
   "execution_count": null,
   "metadata": {
    "lc_cell_meme": {
     "current": "329a4348-dfad-11eb-b29f-0242ac120008-5-ed21-5161-4b3b-6d57-e238",
     "history": [
      {
       "current": "329a4348-dfad-11eb-b29f-0242ac120008-1-ed21",
       "next": "04bfc54e-defc-11eb-b29f-0242ac120008",
       "previous": "329a4046-dfad-11eb-b29f-0242ac120008"
      },
      {
       "current": "329a4348-dfad-11eb-b29f-0242ac120008-1-ed21",
       "next": "04bfc54e-defc-11eb-b29f-0242ac120008-1-5336",
       "previous": "329a4046-dfad-11eb-b29f-0242ac120008-1-1375"
      },
      {
       "current": "329a4348-dfad-11eb-b29f-0242ac120008-2-ed21-5161",
       "next": "197c8ff2-6f15-11ee-89fa-0242ac120005",
       "previous": "197c8f3e-6f15-11ee-89fa-0242ac120005"
      },
      {
       "current": "329a4348-dfad-11eb-b29f-0242ac120008-3-ed21-5161-4b3b",
       "next": "197c8ff2-6f15-11ee-89fa-0242ac120005-1-e3b3",
       "previous": "197c8f3e-6f15-11ee-89fa-0242ac120005-1-3609"
      },
      {
       "current": "329a4348-dfad-11eb-b29f-0242ac120008-4-ed21-5161-4b3b-6d57",
       "next": "197c8ff2-6f15-11ee-89fa-0242ac120005-2-e3b3-679c",
       "previous": "197c8f3e-6f15-11ee-89fa-0242ac120005-2-3609-902b"
      },
      {
       "current": "329a4348-dfad-11eb-b29f-0242ac120008-5-ed21-5161-4b3b-6d57-e238",
       "next": "197c8ff2-6f15-11ee-89fa-0242ac120005-3-e3b3-679c-ccd8",
       "previous": "197c8f3e-6f15-11ee-89fa-0242ac120005-3-3609-902b-bebe"
      }
     ],
     "next": "197c8ff2-6f15-11ee-89fa-0242ac120005-4-e3b3-679c-ccd8-24fb",
     "previous": "197c8f3e-6f15-11ee-89fa-0242ac120005-4-3609-902b-bebe-946f"
    }
   },
   "outputs": [],
   "source": [
    "import pandas as pd\n",
    "import re\n",
    "\n",
    "# 対象インスタンス名称マッチングルール\n",
    "name_match_rule = r'ceph-xxx-node-[0-9]+'"
   ]
  },
  {
   "cell_type": "markdown",
   "metadata": {
    "heading_collapsed": true,
    "lc_cell_meme": {
     "current": "197c8ff2-6f15-11ee-89fa-0242ac120005-4-e3b3-679c-ccd8-24fb",
     "history": [
      {
       "current": "197c8ff2-6f15-11ee-89fa-0242ac120005-1-e3b3",
       "next": "197c9024-6f15-11ee-89fa-0242ac120005",
       "previous": "329a4348-dfad-11eb-b29f-0242ac120008-1-ed21"
      },
      {
       "current": "197c8ff2-6f15-11ee-89fa-0242ac120005-2-e3b3-679c",
       "next": "197c9024-6f15-11ee-89fa-0242ac120005-1-5956",
       "previous": "329a4348-dfad-11eb-b29f-0242ac120008-2-ed21-5161"
      },
      {
       "current": "197c8ff2-6f15-11ee-89fa-0242ac120005-3-e3b3-679c-ccd8",
       "next": "197c9024-6f15-11ee-89fa-0242ac120005-2-5956-c869",
       "previous": "329a4348-dfad-11eb-b29f-0242ac120008-3-ed21-5161-4b3b"
      },
      {
       "current": "197c8ff2-6f15-11ee-89fa-0242ac120005-4-e3b3-679c-ccd8-24fb",
       "next": "197c9024-6f15-11ee-89fa-0242ac120005-3-5956-c869-e45e",
       "previous": "329a4348-dfad-11eb-b29f-0242ac120008-4-ed21-5161-4b3b-6d57"
      }
     ],
     "next": "197c9024-6f15-11ee-89fa-0242ac120005-4-5956-c869-e45e-a37c",
     "previous": "329a4348-dfad-11eb-b29f-0242ac120008-5-ed21-5161-4b3b-6d57-e238"
    }
   },
   "source": [
    "## OpenStack Ironicからノード情報の取得"
   ]
  },
  {
   "cell_type": "code",
   "execution_count": null,
   "metadata": {
    "hidden": true,
    "lc_cell_meme": {
     "current": "197c9024-6f15-11ee-89fa-0242ac120005-4-5956-c869-e45e-a37c",
     "history": [
      {
       "current": "197c9024-6f15-11ee-89fa-0242ac120005-1-5956",
       "next": "197c904c-6f15-11ee-89fa-0242ac120005",
       "previous": "197c8ff2-6f15-11ee-89fa-0242ac120005"
      },
      {
       "current": "197c9024-6f15-11ee-89fa-0242ac120005-2-5956-c869",
       "next": "197c904c-6f15-11ee-89fa-0242ac120005-1-f7dd",
       "previous": "197c8ff2-6f15-11ee-89fa-0242ac120005-1-e3b3"
      },
      {
       "current": "197c9024-6f15-11ee-89fa-0242ac120005-3-5956-c869-e45e",
       "next": "197c904c-6f15-11ee-89fa-0242ac120005-2-f7dd-e4e6",
       "previous": "197c8ff2-6f15-11ee-89fa-0242ac120005-2-e3b3-679c"
      },
      {
       "current": "197c9024-6f15-11ee-89fa-0242ac120005-4-5956-c869-e45e-a37c",
       "next": "197c904c-6f15-11ee-89fa-0242ac120005-3-f7dd-e4e6-6721",
       "previous": "197c8ff2-6f15-11ee-89fa-0242ac120005-3-e3b3-679c-ccd8"
      }
     ],
     "next": "197c904c-6f15-11ee-89fa-0242ac120005-4-f7dd-e4e6-6721-3615",
     "previous": "197c8ff2-6f15-11ee-89fa-0242ac120005-4-e3b3-679c-ccd8-24fb"
    },
    "scrolled": true
   },
   "outputs": [],
   "source": [
    "cmd = \"openstack baremetal node list -f json --long\"\n",
    "nodes = run_openstack(cmd)"
   ]
  },
  {
   "cell_type": "code",
   "execution_count": null,
   "metadata": {
    "hidden": true,
    "lc_cell_meme": {
     "current": "197c904c-6f15-11ee-89fa-0242ac120005-4-f7dd-e4e6-6721-3615",
     "history": [
      {
       "current": "197c904c-6f15-11ee-89fa-0242ac120005-1-f7dd",
       "next": "197c906a-6f15-11ee-89fa-0242ac120005",
       "previous": "197c9024-6f15-11ee-89fa-0242ac120005"
      },
      {
       "current": "197c904c-6f15-11ee-89fa-0242ac120005-2-f7dd-e4e6",
       "next": "197c906a-6f15-11ee-89fa-0242ac120005-1-e2e3",
       "previous": "197c9024-6f15-11ee-89fa-0242ac120005-1-5956"
      },
      {
       "current": "197c904c-6f15-11ee-89fa-0242ac120005-3-f7dd-e4e6-6721",
       "next": "197c906a-6f15-11ee-89fa-0242ac120005-2-e2e3-094d",
       "previous": "197c9024-6f15-11ee-89fa-0242ac120005-2-5956-c869"
      },
      {
       "current": "197c904c-6f15-11ee-89fa-0242ac120005-4-f7dd-e4e6-6721-3615",
       "next": "197c906a-6f15-11ee-89fa-0242ac120005-3-e2e3-094d-bbac",
       "previous": "197c9024-6f15-11ee-89fa-0242ac120005-3-5956-c869-e45e"
      }
     ],
     "next": "197c906a-6f15-11ee-89fa-0242ac120005-4-e2e3-094d-bbac-80f1",
     "previous": "197c9024-6f15-11ee-89fa-0242ac120005-4-5956-c869-e45e-a37c"
    },
    "scrolled": true
   },
   "outputs": [],
   "source": [
    "import pandas as pd\n",
    "import re\n",
    "\n",
    "for node in nodes:\n",
    "    instance_uuid = node.get(\"Instance UUID\", None)\n",
    "    if instance_uuid is None:\n",
    "        continue\n",
    "        \n",
    "    node[\"instance_name\"] = node[\"Instance Info\"][\"display_name\"]\n",
    "\n",
    "pd.set_option('display.max_rows', None)\n",
    "pd.DataFrame(nodes, columns=['Instance UUID', 'instance_name', 'UUID', 'Maintenance', 'Provisioning State', 'Power State', 'Name'])"
   ]
  },
  {
   "cell_type": "code",
   "execution_count": null,
   "metadata": {
    "hidden": true,
    "lc_cell_meme": {
     "current": "197c906a-6f15-11ee-89fa-0242ac120005-4-e2e3-094d-bbac-80f1",
     "history": [
      {
       "current": "197c906a-6f15-11ee-89fa-0242ac120005-1-e2e3",
       "next": "197c9092-6f15-11ee-89fa-0242ac120005",
       "previous": "197c904c-6f15-11ee-89fa-0242ac120005"
      },
      {
       "current": "197c906a-6f15-11ee-89fa-0242ac120005-2-e2e3-094d",
       "next": "197c9092-6f15-11ee-89fa-0242ac120005-1-bee1",
       "previous": "197c904c-6f15-11ee-89fa-0242ac120005-1-f7dd"
      },
      {
       "current": "197c906a-6f15-11ee-89fa-0242ac120005-3-e2e3-094d-bbac",
       "next": "197c9092-6f15-11ee-89fa-0242ac120005-2-bee1-a342",
       "previous": "197c904c-6f15-11ee-89fa-0242ac120005-2-f7dd-e4e6"
      },
      {
       "current": "197c906a-6f15-11ee-89fa-0242ac120005-4-e2e3-094d-bbac-80f1",
       "next": "197c9092-6f15-11ee-89fa-0242ac120005-3-bee1-a342-afd9",
       "previous": "197c904c-6f15-11ee-89fa-0242ac120005-3-f7dd-e4e6-6721"
      }
     ],
     "next": "197c9092-6f15-11ee-89fa-0242ac120005-4-bee1-a342-afd9-9d8e",
     "previous": "197c904c-6f15-11ee-89fa-0242ac120005-4-f7dd-e4e6-6721-3615"
    },
    "scrolled": true
   },
   "outputs": [],
   "source": [
    "cmd = \"openstack server list -f json --long\"\n",
    "nova_server_map = run_openstack(cmd)"
   ]
  },
  {
   "cell_type": "code",
   "execution_count": null,
   "metadata": {
    "hidden": true,
    "lc_cell_meme": {
     "current": "197c9092-6f15-11ee-89fa-0242ac120005-4-bee1-a342-afd9-9d8e",
     "history": [
      {
       "current": "197c9092-6f15-11ee-89fa-0242ac120005",
       "next": "06afec50-98b0-11ea-8d02-0242ac120007-3-5828-a305-b690",
       "previous": "197c906a-6f15-11ee-89fa-0242ac120005"
      },
      {
       "current": "197c9092-6f15-11ee-89fa-0242ac120005-1-bee1",
       "next": "7007693c-7956-11ee-89fa-0242ac120005",
       "previous": "197c906a-6f15-11ee-89fa-0242ac120005"
      },
      {
       "current": "197c9092-6f15-11ee-89fa-0242ac120005-2-bee1-a342",
       "next": "7007693c-7956-11ee-89fa-0242ac120005-1-27ea",
       "previous": "197c906a-6f15-11ee-89fa-0242ac120005-1-e2e3"
      },
      {
       "current": "197c9092-6f15-11ee-89fa-0242ac120005-3-bee1-a342-afd9",
       "next": "7007693c-7956-11ee-89fa-0242ac120005-2-27ea-4693",
       "previous": "197c906a-6f15-11ee-89fa-0242ac120005-2-e2e3-094d"
      },
      {
       "current": "197c9092-6f15-11ee-89fa-0242ac120005-4-bee1-a342-afd9-9d8e",
       "next": "7007693c-7956-11ee-89fa-0242ac120005-3-27ea-4693-cb5a",
       "previous": "197c906a-6f15-11ee-89fa-0242ac120005-3-e2e3-094d-bbac"
      }
     ],
     "next": "7007693c-7956-11ee-89fa-0242ac120005-4-27ea-4693-cb5a-04a8",
     "previous": "197c906a-6f15-11ee-89fa-0242ac120005-4-e2e3-094d-bbac-80f1"
    }
   },
   "outputs": [],
   "source": [
    "node_list = []\n",
    "for server in nova_server_map:\n",
    "    node_id = server['ID']\n",
    "    if re.match(name_match_rule, server['Name']) is None:\n",
    "        continue\n",
    "    for node in nodes:\n",
    "        if node['Instance UUID'] == node_id:\n",
    "            node_info = {}\n",
    "            node_list.append(node_info)\n",
    "            node_info['name'] = server['Name']\n",
    "            node_info['node_name'] = node['Name']\n",
    "            instance_ip_info = instance_ip_map.get(server['Name'], None)\n",
    "            if instance_ip_info is not None:\n",
    "                node_info['instance_ip'] = instance_ip_info.get('ipv4', None)\n",
    "            else:\n",
    "                node_info['instance_ip'] = None\n",
    "            address = server['Networks']\n",
    "            prov_net = address['provisioning-net']\n",
    "            for addr in prov_net:\n",
    "                node_info['prov_ip'] = addr\n",
    "\n",
    "pd.DataFrame(node_list)"
   ]
  },
  {
   "cell_type": "code",
   "execution_count": null,
   "metadata": {
    "hidden": true,
    "lc_cell_meme": {
     "current": "7007693c-7956-11ee-89fa-0242ac120005-4-27ea-4693-cb5a-04a8",
     "history": [
      {
       "current": "7007693c-7956-11ee-89fa-0242ac120005-1-27ea",
       "next": "06afec50-98b0-11ea-8d02-0242ac120007-3-5828-a305-b690",
       "previous": "197c9092-6f15-11ee-89fa-0242ac120005"
      },
      {
       "current": "7007693c-7956-11ee-89fa-0242ac120005-2-27ea-4693",
       "next": "06afec50-98b0-11ea-8d02-0242ac120007-4-5828-a305-b690-1604",
       "previous": "197c9092-6f15-11ee-89fa-0242ac120005-1-bee1"
      },
      {
       "current": "7007693c-7956-11ee-89fa-0242ac120005-3-27ea-4693-cb5a",
       "next": "06afec50-98b0-11ea-8d02-0242ac120007-5-5828-a305-b690-1604-0ae2",
       "previous": "197c9092-6f15-11ee-89fa-0242ac120005-2-bee1-a342"
      },
      {
       "current": "7007693c-7956-11ee-89fa-0242ac120005-4-27ea-4693-cb5a-04a8",
       "next": "06afec50-98b0-11ea-8d02-0242ac120007-6-5828-a305-b690-1604-0ae2-55d8",
       "previous": "197c9092-6f15-11ee-89fa-0242ac120005-3-bee1-a342-afd9"
      }
     ],
     "next": "06afec50-98b0-11ea-8d02-0242ac120007-7-5828-a305-b690-1604-0ae2-55d8-2c4c",
     "previous": "197c9092-6f15-11ee-89fa-0242ac120005-4-bee1-a342-afd9-9d8e"
    }
   },
   "outputs": [],
   "source": [
    "# nameをキーにしたノード情報生成\n",
    "node_map = {}\n",
    "for node in node_list:\n",
    "    node_map[node['name']] = node"
   ]
  },
  {
   "cell_type": "markdown",
   "metadata": {
    "lc_cell_meme": {
     "current": "06afec50-98b0-11ea-8d02-0242ac120007-7-5828-a305-b690-1604-0ae2-55d8-2c4c",
     "history": [
      {
       "current": "06afec50-98b0-11ea-8d02-0242ac120007-1-5828",
       "next": "8a48d590-98a1-11ea-8d02-0242ac120007",
       "previous": "357fc83a-969d-11ea-8d02-0242ac120007"
      },
      {
       "current": "06afec50-98b0-11ea-8d02-0242ac120007-2-5828-a305",
       "next": "8a48d590-98a1-11ea-8d02-0242ac120007-1-1c0f",
       "previous": "357fc83a-969d-11ea-8d02-0242ac120007-1-9a36"
      },
      {
       "current": "06afec50-98b0-11ea-8d02-0242ac120007-3-5828-a305-b690",
       "next": "8a48d590-98a1-11ea-8d02-0242ac120007-2-1c0f-5b25",
       "previous": "357fc83a-969d-11ea-8d02-0242ac120007-2-9a36-95b8"
      },
      {
       "current": "06afec50-98b0-11ea-8d02-0242ac120007-3-5828-a305-b690",
       "next": "8a48d590-98a1-11ea-8d02-0242ac120007-3-1c0f-5b25-d7c0",
       "previous": "357fc83a-969d-11ea-8d02-0242ac120007-3-9a36-95b8-3fa9"
      },
      {
       "current": "06afec50-98b0-11ea-8d02-0242ac120007-3-5828-a305-b690",
       "next": "8a48d590-98a1-11ea-8d02-0242ac120007-3-1c0f-5b25-d7c0",
       "previous": "197c9092-6f15-11ee-89fa-0242ac120005"
      },
      {
       "current": "06afec50-98b0-11ea-8d02-0242ac120007-4-5828-a305-b690-1604",
       "next": "8a48d590-98a1-11ea-8d02-0242ac120007-3-1c0f-5b25-d7c0",
       "previous": "7007693c-7956-11ee-89fa-0242ac120005"
      },
      {
       "current": "06afec50-98b0-11ea-8d02-0242ac120007-5-5828-a305-b690-1604-0ae2",
       "next": "8a48d590-98a1-11ea-8d02-0242ac120007-4-1c0f-5b25-d7c0-6a16",
       "previous": "7007693c-7956-11ee-89fa-0242ac120005-1-27ea"
      },
      {
       "current": "06afec50-98b0-11ea-8d02-0242ac120007-6-5828-a305-b690-1604-0ae2-55d8",
       "next": "8a48d590-98a1-11ea-8d02-0242ac120007-5-1c0f-5b25-d7c0-6a16-bfc4",
       "previous": "7007693c-7956-11ee-89fa-0242ac120005-2-27ea-4693"
      },
      {
       "current": "06afec50-98b0-11ea-8d02-0242ac120007-7-5828-a305-b690-1604-0ae2-55d8-2c4c",
       "next": "8a48d590-98a1-11ea-8d02-0242ac120007-6-1c0f-5b25-d7c0-6a16-bfc4-88d5",
       "previous": "7007693c-7956-11ee-89fa-0242ac120005-3-27ea-4693-cb5a"
      }
     ],
     "next": "8a48d590-98a1-11ea-8d02-0242ac120007-7-1c0f-5b25-d7c0-6a16-bfc4-88d5-b860",
     "previous": "7007693c-7956-11ee-89fa-0242ac120005-4-27ea-4693-cb5a-04a8"
    }
   },
   "source": [
    "## 対象Cephノード情報の取得"
   ]
  },
  {
   "cell_type": "markdown",
   "metadata": {
    "lc_cell_meme": {
     "current": "8a48d590-98a1-11ea-8d02-0242ac120007-7-1c0f-5b25-d7c0-6a16-bfc4-88d5-b860",
     "history": [
      {
       "current": "8a48d590-98a1-11ea-8d02-0242ac120007",
       "next": "8a48d90a-98a1-11ea-8d02-0242ac120007",
       "previous": "357fc83a-969d-11ea-8d02-0242ac120007"
      },
      {
       "current": "8a48d590-98a1-11ea-8d02-0242ac120007",
       "next": "8a48d90a-98a1-11ea-8d02-0242ac120007",
       "previous": "06afec50-98b0-11ea-8d02-0242ac120007"
      },
      {
       "current": "8a48d590-98a1-11ea-8d02-0242ac120007",
       "next": "a85c1dda-959a-11ea-8d02-0242ac120007",
       "previous": "06afec50-98b0-11ea-8d02-0242ac120007"
      },
      {
       "current": "8a48d590-98a1-11ea-8d02-0242ac120007-1-1c0f",
       "next": "e879cdac-95bf-11ea-8d02-0242ac120007",
       "previous": "06afec50-98b0-11ea-8d02-0242ac120007"
      },
      {
       "current": "8a48d590-98a1-11ea-8d02-0242ac120007-2-1c0f-5b25",
       "next": "e879cdac-95bf-11ea-8d02-0242ac120007-1-4a2c",
       "previous": "06afec50-98b0-11ea-8d02-0242ac120007-1-5828"
      },
      {
       "current": "8a48d590-98a1-11ea-8d02-0242ac120007-3-1c0f-5b25-d7c0",
       "next": "e879cdac-95bf-11ea-8d02-0242ac120007-2-4a2c-6b2f",
       "previous": "06afec50-98b0-11ea-8d02-0242ac120007-2-5828-a305"
      },
      {
       "current": "8a48d590-98a1-11ea-8d02-0242ac120007-4-1c0f-5b25-d7c0-6a16",
       "next": "e879cdac-95bf-11ea-8d02-0242ac120007-3-4a2c-6b2f-958d",
       "previous": "06afec50-98b0-11ea-8d02-0242ac120007-3-5828-a305-b690"
      },
      {
       "current": "8a48d590-98a1-11ea-8d02-0242ac120007-5-1c0f-5b25-d7c0-6a16-bfc4",
       "next": "e879cdac-95bf-11ea-8d02-0242ac120007-4-4a2c-6b2f-958d-23a9",
       "previous": "06afec50-98b0-11ea-8d02-0242ac120007-4-5828-a305-b690-1604"
      },
      {
       "current": "8a48d590-98a1-11ea-8d02-0242ac120007-6-1c0f-5b25-d7c0-6a16-bfc4-88d5",
       "next": "e879cdac-95bf-11ea-8d02-0242ac120007-5-4a2c-6b2f-958d-23a9-ccf9",
       "previous": "06afec50-98b0-11ea-8d02-0242ac120007-5-5828-a305-b690-1604-0ae2"
      },
      {
       "current": "8a48d590-98a1-11ea-8d02-0242ac120007-7-1c0f-5b25-d7c0-6a16-bfc4-88d5-b860",
       "next": "e879cdac-95bf-11ea-8d02-0242ac120007-6-4a2c-6b2f-958d-23a9-ccf9-1ab3",
       "previous": "06afec50-98b0-11ea-8d02-0242ac120007-6-5828-a305-b690-1604-0ae2-55d8"
      }
     ],
     "next": "e879cdac-95bf-11ea-8d02-0242ac120007-7-4a2c-6b2f-958d-23a9-ccf9-1ab3-0516",
     "previous": "06afec50-98b0-11ea-8d02-0242ac120007-7-5828-a305-b690-1604-0ae2-55d8-2c4c"
    }
   },
   "source": [
    "初期化対象のインスタンス名称を設定する"
   ]
  },
  {
   "cell_type": "code",
   "execution_count": null,
   "metadata": {
    "lc_cell_meme": {
     "current": "e879cdac-95bf-11ea-8d02-0242ac120007-7-4a2c-6b2f-958d-23a9-ccf9-1ab3-0516",
     "history": [
      {
       "current": "e879cdac-95bf-11ea-8d02-0242ac120007",
       "next": "81dd4f74-9597-11ea-8d02-0242ac120007",
       "previous": "d1bcb8ac-9599-11ea-8d02-0242ac120007"
      },
      {
       "current": "e879cdac-95bf-11ea-8d02-0242ac120007",
       "next": "81dd4f74-9597-11ea-8d02-0242ac120007",
       "previous": "a85c1dda-959a-11ea-8d02-0242ac120007"
      },
      {
       "current": "e879cdac-95bf-11ea-8d02-0242ac120007",
       "next": "8a48d90a-98a1-11ea-8d02-0242ac120007",
       "previous": "a85c1dda-959a-11ea-8d02-0242ac120007"
      },
      {
       "current": "e879cdac-95bf-11ea-8d02-0242ac120007-1-4a2c",
       "next": "8a48d90a-98a1-11ea-8d02-0242ac120007",
       "previous": "8a48d590-98a1-11ea-8d02-0242ac120007"
      },
      {
       "current": "e879cdac-95bf-11ea-8d02-0242ac120007-2-4a2c-6b2f",
       "next": "8a48d90a-98a1-11ea-8d02-0242ac120007-1-0ebc",
       "previous": "8a48d590-98a1-11ea-8d02-0242ac120007-1-1c0f"
      },
      {
       "current": "e879cdac-95bf-11ea-8d02-0242ac120007-2-4a2c-6b2f",
       "next": "8a48d90a-98a1-11ea-8d02-0242ac120007-2-0ebc-93ac",
       "previous": "8a48d590-98a1-11ea-8d02-0242ac120007-2-1c0f-5b25"
      },
      {
       "current": "e879cdac-95bf-11ea-8d02-0242ac120007-3-4a2c-6b2f-958d",
       "next": "809aa1e6-def9-11eb-b29f-0242ac120008",
       "previous": "8a48d590-98a1-11ea-8d02-0242ac120007-2-1c0f-5b25"
      },
      {
       "current": "e879cdac-95bf-11ea-8d02-0242ac120007-4-4a2c-6b2f-958d-23a9",
       "next": "809aa1e6-def9-11eb-b29f-0242ac120008-1-b49e",
       "previous": "8a48d590-98a1-11ea-8d02-0242ac120007-3-1c0f-5b25-d7c0"
      },
      {
       "current": "e879cdac-95bf-11ea-8d02-0242ac120007-5-4a2c-6b2f-958d-23a9-ccf9",
       "next": "809aa1e6-def9-11eb-b29f-0242ac120008-2-b49e-6319",
       "previous": "8a48d590-98a1-11ea-8d02-0242ac120007-4-1c0f-5b25-d7c0-6a16"
      },
      {
       "current": "e879cdac-95bf-11ea-8d02-0242ac120007-6-4a2c-6b2f-958d-23a9-ccf9-1ab3",
       "next": "809aa1e6-def9-11eb-b29f-0242ac120008-3-b49e-6319-4443",
       "previous": "8a48d590-98a1-11ea-8d02-0242ac120007-5-1c0f-5b25-d7c0-6a16-bfc4"
      },
      {
       "current": "e879cdac-95bf-11ea-8d02-0242ac120007-7-4a2c-6b2f-958d-23a9-ccf9-1ab3-0516",
       "next": "809aa1e6-def9-11eb-b29f-0242ac120008-4-b49e-6319-4443-4676",
       "previous": "8a48d590-98a1-11ea-8d02-0242ac120007-6-1c0f-5b25-d7c0-6a16-bfc4-88d5"
      }
     ],
     "next": "809aa1e6-def9-11eb-b29f-0242ac120008-5-b49e-6319-4443-4676-bfef",
     "previous": "8a48d590-98a1-11ea-8d02-0242ac120007-7-1c0f-5b25-d7c0-6a16-bfc4-88d5-b860"
    },
    "scrolled": true
   },
   "outputs": [],
   "source": [
    "# 初期化対象のインスタンス名称を設定する\n",
    "raise Exception('この先手作業が必要です')"
   ]
  },
  {
   "cell_type": "markdown",
   "metadata": {
    "lc_cell_meme": {
     "current": "809aa1e6-def9-11eb-b29f-0242ac120008-5-b49e-6319-4443-4676-bfef",
     "history": [
      {
       "current": "809aa1e6-def9-11eb-b29f-0242ac120008-1-b49e",
       "next": "8a48d90a-98a1-11ea-8d02-0242ac120007-2-0ebc-93ac",
       "previous": "e879cdac-95bf-11ea-8d02-0242ac120007-2-4a2c-6b2f"
      },
      {
       "current": "809aa1e6-def9-11eb-b29f-0242ac120008-1-b49e",
       "next": "8a48d90a-98a1-11ea-8d02-0242ac120007-3-0ebc-93ac-04b4",
       "previous": "e879cdac-95bf-11ea-8d02-0242ac120007-3-4a2c-6b2f-958d"
      },
      {
       "current": "809aa1e6-def9-11eb-b29f-0242ac120008-2-b49e-6319",
       "next": "bb3e251e-61bc-11ee-89fa-0242ac120005",
       "previous": "e879cdac-95bf-11ea-8d02-0242ac120007-3-4a2c-6b2f-958d"
      },
      {
       "current": "809aa1e6-def9-11eb-b29f-0242ac120008-3-b49e-6319-4443",
       "next": "bb3e251e-61bc-11ee-89fa-0242ac120005-1-586f",
       "previous": "e879cdac-95bf-11ea-8d02-0242ac120007-4-4a2c-6b2f-958d-23a9"
      },
      {
       "current": "809aa1e6-def9-11eb-b29f-0242ac120008-4-b49e-6319-4443-4676",
       "next": "bb3e251e-61bc-11ee-89fa-0242ac120005-2-586f-cd68",
       "previous": "e879cdac-95bf-11ea-8d02-0242ac120007-5-4a2c-6b2f-958d-23a9-ccf9"
      },
      {
       "current": "809aa1e6-def9-11eb-b29f-0242ac120008-5-b49e-6319-4443-4676-bfef",
       "next": "bb3e251e-61bc-11ee-89fa-0242ac120005-3-586f-cd68-132a",
       "previous": "e879cdac-95bf-11ea-8d02-0242ac120007-6-4a2c-6b2f-958d-23a9-ccf9-1ab3"
      }
     ],
     "next": "bb3e251e-61bc-11ee-89fa-0242ac120005-4-586f-cd68-132a-83a2",
     "previous": "e879cdac-95bf-11ea-8d02-0242ac120007-7-4a2c-6b2f-958d-23a9-ccf9-1ab3-0516"
    }
   },
   "source": [
    "### adminノードの指定"
   ]
  },
  {
   "cell_type": "code",
   "execution_count": null,
   "metadata": {
    "lc_cell_meme": {
     "current": "bb3e251e-61bc-11ee-89fa-0242ac120005-4-586f-cd68-132a-83a2",
     "history": [
      {
       "current": "bb3e251e-61bc-11ee-89fa-0242ac120005",
       "next": "8a48dae0-98a1-11ea-8d02-0242ac120007-3-4da2-9c77-127e",
       "previous": "8a48d90a-98a1-11ea-8d02-0242ac120007-3-0ebc-93ac-04b4"
      },
      {
       "current": "bb3e251e-61bc-11ee-89fa-0242ac120005",
       "next": "8a48dae0-98a1-11ea-8d02-0242ac120007-3-4da2-9c77-127e",
       "previous": "809aa1e6-def9-11eb-b29f-0242ac120008-1-b49e"
      },
      {
       "current": "bb3e251e-61bc-11ee-89fa-0242ac120005",
       "next": "a2611ada-7876-11ee-89fa-0242ac120005",
       "previous": "809aa1e6-def9-11eb-b29f-0242ac120008-1-b49e"
      },
      {
       "current": "bb3e251e-61bc-11ee-89fa-0242ac120005-1-586f",
       "next": "8a48dae0-98a1-11ea-8d02-0242ac120007-3-4da2-9c77-127e",
       "previous": "809aa1e6-def9-11eb-b29f-0242ac120008-1-b49e"
      },
      {
       "current": "bb3e251e-61bc-11ee-89fa-0242ac120005-2-586f-cd68",
       "next": "8a48dae0-98a1-11ea-8d02-0242ac120007-4-4da2-9c77-127e-d22b",
       "previous": "809aa1e6-def9-11eb-b29f-0242ac120008-2-b49e-6319"
      },
      {
       "current": "bb3e251e-61bc-11ee-89fa-0242ac120005-3-586f-cd68-132a",
       "next": "8a48dae0-98a1-11ea-8d02-0242ac120007-5-4da2-9c77-127e-d22b-8c1e",
       "previous": "809aa1e6-def9-11eb-b29f-0242ac120008-3-b49e-6319-4443"
      },
      {
       "current": "bb3e251e-61bc-11ee-89fa-0242ac120005-4-586f-cd68-132a-83a2",
       "next": "8a48dae0-98a1-11ea-8d02-0242ac120007-6-4da2-9c77-127e-d22b-8c1e-4372",
       "previous": "809aa1e6-def9-11eb-b29f-0242ac120008-4-b49e-6319-4443-4676"
      }
     ],
     "next": "8a48dae0-98a1-11ea-8d02-0242ac120007-7-4da2-9c77-127e-d22b-8c1e-4372-99fd",
     "previous": "809aa1e6-def9-11eb-b29f-0242ac120008-5-b49e-6319-4443-4676-bfef"
    }
   },
   "outputs": [],
   "source": [
    "bootstrap_node_name = 'ceph-xxx-node-001'"
   ]
  },
  {
   "cell_type": "code",
   "execution_count": null,
   "metadata": {
    "lc_cell_meme": {
     "current": "8a48dae0-98a1-11ea-8d02-0242ac120007-7-4da2-9c77-127e-d22b-8c1e-4372-99fd",
     "history": [
      {
       "current": "8a48dae0-98a1-11ea-8d02-0242ac120007-1-4da2",
       "next": "35c339aa-55a3-11e7-b0b2-00163e9c0e35",
       "previous": "8a48d90a-98a1-11ea-8d02-0242ac120007"
      },
      {
       "current": "8a48dae0-98a1-11ea-8d02-0242ac120007-2-4da2-9c77",
       "next": "35c339aa-55a3-11e7-b0b2-00163e9c0e35-1-eee2",
       "previous": "8a48d90a-98a1-11ea-8d02-0242ac120007-1-0ebc"
      },
      {
       "current": "8a48dae0-98a1-11ea-8d02-0242ac120007-2-4da2-9c77",
       "next": "35c339aa-55a3-11e7-b0b2-00163e9c0e35-2-eee2-af6c",
       "previous": "8a48d90a-98a1-11ea-8d02-0242ac120007-2-0ebc-93ac"
      },
      {
       "current": "8a48dae0-98a1-11ea-8d02-0242ac120007-2-4da2-9c77",
       "next": "35c362a4-55a3-11e7-b0b2-00163e9c0e35-2-3f0a-3633",
       "previous": "8a48d90a-98a1-11ea-8d02-0242ac120007-2-0ebc-93ac"
      },
      {
       "current": "8a48dae0-98a1-11ea-8d02-0242ac120007-2-4da2-9c77",
       "next": "1afe7a3e-def8-11eb-b29f-0242ac120008",
       "previous": "8a48d90a-98a1-11ea-8d02-0242ac120007-2-0ebc-93ac"
      },
      {
       "current": "8a48dae0-98a1-11ea-8d02-0242ac120007-3-4da2-9c77-127e",
       "next": "35c35a52-55a3-11e7-b0b2-00163e9c0e35-2-ed71-9007",
       "previous": "8a48d90a-98a1-11ea-8d02-0242ac120007-2-0ebc-93ac"
      },
      {
       "current": "8a48dae0-98a1-11ea-8d02-0242ac120007-3-4da2-9c77-127e",
       "next": "35c35a52-55a3-11e7-b0b2-00163e9c0e35-3-ed71-9007-f930",
       "previous": "8a48d90a-98a1-11ea-8d02-0242ac120007-3-0ebc-93ac-04b4"
      },
      {
       "current": "8a48dae0-98a1-11ea-8d02-0242ac120007-3-4da2-9c77-127e",
       "next": "2c2cd6ae-61bc-11ee-89fa-0242ac120005",
       "previous": "8a48d90a-98a1-11ea-8d02-0242ac120007-3-0ebc-93ac-04b4"
      },
      {
       "current": "8a48dae0-98a1-11ea-8d02-0242ac120007-3-4da2-9c77-127e",
       "next": "2c2cd6ae-61bc-11ee-89fa-0242ac120005",
       "previous": "bb3e251e-61bc-11ee-89fa-0242ac120005"
      },
      {
       "current": "8a48dae0-98a1-11ea-8d02-0242ac120007-3-4da2-9c77-127e",
       "next": "35c35f52-55a3-11e7-b0b2-00163e9c0e35-3-e2de-8a27-98e3",
       "previous": "bb3e251e-61bc-11ee-89fa-0242ac120005"
      },
      {
       "current": "8a48dae0-98a1-11ea-8d02-0242ac120007-3-4da2-9c77-127e",
       "next": "a2611ca6-7876-11ee-89fa-0242ac120005",
       "previous": "a2611ada-7876-11ee-89fa-0242ac120005"
      },
      {
       "current": "8a48dae0-98a1-11ea-8d02-0242ac120007-3-4da2-9c77-127e",
       "next": "2dd5493e-788f-11ee-89fa-0242ac120005",
       "previous": "bb3e251e-61bc-11ee-89fa-0242ac120005"
      },
      {
       "current": "8a48dae0-98a1-11ea-8d02-0242ac120007-4-4da2-9c77-127e-d22b",
       "next": "35c35f52-55a3-11e7-b0b2-00163e9c0e35-3-e2de-8a27-98e3",
       "previous": "bb3e251e-61bc-11ee-89fa-0242ac120005"
      },
      {
       "current": "8a48dae0-98a1-11ea-8d02-0242ac120007-5-4da2-9c77-127e-d22b-8c1e",
       "next": "35c35f52-55a3-11e7-b0b2-00163e9c0e35-4-e2de-8a27-98e3-51d2",
       "previous": "bb3e251e-61bc-11ee-89fa-0242ac120005-1-586f"
      },
      {
       "current": "8a48dae0-98a1-11ea-8d02-0242ac120007-6-4da2-9c77-127e-d22b-8c1e-4372",
       "next": "35c35f52-55a3-11e7-b0b2-00163e9c0e35-5-e2de-8a27-98e3-51d2-b206",
       "previous": "bb3e251e-61bc-11ee-89fa-0242ac120005-2-586f-cd68"
      },
      {
       "current": "8a48dae0-98a1-11ea-8d02-0242ac120007-7-4da2-9c77-127e-d22b-8c1e-4372-99fd",
       "next": "35c35f52-55a3-11e7-b0b2-00163e9c0e35-6-e2de-8a27-98e3-51d2-b206-d196",
       "previous": "bb3e251e-61bc-11ee-89fa-0242ac120005-3-586f-cd68-132a"
      }
     ],
     "next": "35c35f52-55a3-11e7-b0b2-00163e9c0e35-7-e2de-8a27-98e3-51d2-b206-d196-cc9c",
     "previous": "bb3e251e-61bc-11ee-89fa-0242ac120005-4-586f-cd68-132a-83a2"
    }
   },
   "outputs": [],
   "source": [
    "bootstrap_node = node_map.get(bootstrap_node_name, None)\n",
    "\n",
    "assert (bootstrap_node is not None), \"指定されたBootstrap nodeが存在しません。\"\n",
    "print(bootstrap_node)"
   ]
  },
  {
   "cell_type": "markdown",
   "metadata": {
    "lc_cell_meme": {
     "current": "35c35f52-55a3-11e7-b0b2-00163e9c0e35-7-e2de-8a27-98e3-51d2-b206-d196-cc9c",
     "history": [
      {
       "current": "35c35f52-55a3-11e7-b0b2-00163e9c0e35",
       "next": "35c360f6-55a3-11e7-b0b2-00163e9c0e35",
       "previous": "35c35dae-55a3-11e7-b0b2-00163e9c0e35"
      },
      {
       "current": "35c35f52-55a3-11e7-b0b2-00163e9c0e35-1-e2de",
       "next": "a33430b0-9327-11ea-8d02-0242ac120007",
       "previous": "35c35dae-55a3-11e7-b0b2-00163e9c0e35"
      },
      {
       "current": "35c35f52-55a3-11e7-b0b2-00163e9c0e35-2-e2de-8a27",
       "next": "a33430b0-9327-11ea-8d02-0242ac120007-1-3202",
       "previous": "35c35dae-55a3-11e7-b0b2-00163e9c0e35-1-7091"
      },
      {
       "current": "35c35f52-55a3-11e7-b0b2-00163e9c0e35-3-e2de-8a27-98e3",
       "next": "a33430b0-9327-11ea-8d02-0242ac120007-2-3202-0bdc",
       "previous": "35c35dae-55a3-11e7-b0b2-00163e9c0e35-2-7091-7055"
      },
      {
       "current": "35c35f52-55a3-11e7-b0b2-00163e9c0e35-3-e2de-8a27-98e3",
       "next": "a33430b0-9327-11ea-8d02-0242ac120007-3-3202-0bdc-fd62",
       "previous": "35c35dae-55a3-11e7-b0b2-00163e9c0e35-3-7091-7055-1fd7"
      },
      {
       "current": "35c35f52-55a3-11e7-b0b2-00163e9c0e35-3-e2de-8a27-98e3",
       "next": "a33430b0-9327-11ea-8d02-0242ac120007-3-3202-0bdc-fd62",
       "previous": "35c35a52-55a3-11e7-b0b2-00163e9c0e35-3-ed71-9007-f930"
      },
      {
       "current": "35c35f52-55a3-11e7-b0b2-00163e9c0e35-3-e2de-8a27-98e3",
       "next": "a33430b0-9327-11ea-8d02-0242ac120007-3-3202-0bdc-fd62",
       "previous": "2c2cd6ae-61bc-11ee-89fa-0242ac120005"
      },
      {
       "current": "35c35f52-55a3-11e7-b0b2-00163e9c0e35-3-e2de-8a27-98e3",
       "next": "a33430b0-9327-11ea-8d02-0242ac120007-3-3202-0bdc-fd62",
       "previous": "8a48dae0-98a1-11ea-8d02-0242ac120007-3-4da2-9c77-127e"
      },
      {
       "current": "35c35f52-55a3-11e7-b0b2-00163e9c0e35-3-e2de-8a27-98e3",
       "next": "a33430b0-9327-11ea-8d02-0242ac120007-3-3202-0bdc-fd62",
       "previous": "a2611ca6-7876-11ee-89fa-0242ac120005"
      },
      {
       "current": "35c35f52-55a3-11e7-b0b2-00163e9c0e35-4-e2de-8a27-98e3-51d2",
       "next": "a33430b0-9327-11ea-8d02-0242ac120007-3-3202-0bdc-fd62",
       "previous": "8a48dae0-98a1-11ea-8d02-0242ac120007-3-4da2-9c77-127e"
      },
      {
       "current": "35c35f52-55a3-11e7-b0b2-00163e9c0e35-5-e2de-8a27-98e3-51d2-b206",
       "next": "a33430b0-9327-11ea-8d02-0242ac120007-4-3202-0bdc-fd62-8ee8",
       "previous": "8a48dae0-98a1-11ea-8d02-0242ac120007-4-4da2-9c77-127e-d22b"
      },
      {
       "current": "35c35f52-55a3-11e7-b0b2-00163e9c0e35-6-e2de-8a27-98e3-51d2-b206-d196",
       "next": "a33430b0-9327-11ea-8d02-0242ac120007-5-3202-0bdc-fd62-8ee8-cf81",
       "previous": "8a48dae0-98a1-11ea-8d02-0242ac120007-5-4da2-9c77-127e-d22b-8c1e"
      },
      {
       "current": "35c35f52-55a3-11e7-b0b2-00163e9c0e35-7-e2de-8a27-98e3-51d2-b206-d196-cc9c",
       "next": "a33430b0-9327-11ea-8d02-0242ac120007-6-3202-0bdc-fd62-8ee8-cf81-d400",
       "previous": "8a48dae0-98a1-11ea-8d02-0242ac120007-6-4da2-9c77-127e-d22b-8c1e-4372"
      }
     ],
     "next": "a33430b0-9327-11ea-8d02-0242ac120007-7-3202-0bdc-fd62-8ee8-cf81-d400-67f2",
     "previous": "8a48dae0-98a1-11ea-8d02-0242ac120007-7-4da2-9c77-127e-d22b-8c1e-4372-99fd"
    }
   },
   "source": [
    "# Inventoryファイルを生成する。"
   ]
  },
  {
   "cell_type": "code",
   "execution_count": null,
   "metadata": {
    "lc_cell_meme": {
     "current": "a33430b0-9327-11ea-8d02-0242ac120007-7-3202-0bdc-fd62-8ee8-cf81-d400-67f2",
     "history": [
      {
       "current": "a33430b0-9327-11ea-8d02-0242ac120007",
       "next": "35c360f6-55a3-11e7-b0b2-00163e9c0e35",
       "previous": "35c35f52-55a3-11e7-b0b2-00163e9c0e35"
      },
      {
       "current": "a33430b0-9327-11ea-8d02-0242ac120007-1-3202",
       "next": "9c0b8624-959f-11ea-8d02-0242ac120007",
       "previous": "35c35f52-55a3-11e7-b0b2-00163e9c0e35"
      },
      {
       "current": "a33430b0-9327-11ea-8d02-0242ac120007-2-3202-0bdc",
       "next": "9c0b8624-959f-11ea-8d02-0242ac120007-1-8098",
       "previous": "35c35f52-55a3-11e7-b0b2-00163e9c0e35-1-e2de"
      },
      {
       "current": "a33430b0-9327-11ea-8d02-0242ac120007-2-3202-0bdc",
       "next": "9c0b8624-959f-11ea-8d02-0242ac120007-2-8098-a371",
       "previous": "35c35f52-55a3-11e7-b0b2-00163e9c0e35-2-e2de-8a27"
      },
      {
       "current": "a33430b0-9327-11ea-8d02-0242ac120007-3-3202-0bdc-fd62",
       "next": "27f1be96-f4f0-11eb-b29f-0242ac120008",
       "previous": "35c35f52-55a3-11e7-b0b2-00163e9c0e35-2-e2de-8a27"
      },
      {
       "current": "a33430b0-9327-11ea-8d02-0242ac120007-3-3202-0bdc-fd62",
       "next": "27f1be96-f4f0-11eb-b29f-0242ac120008-1-0b6c",
       "previous": "35c35f52-55a3-11e7-b0b2-00163e9c0e35-3-e2de-8a27-98e3"
      },
      {
       "current": "a33430b0-9327-11ea-8d02-0242ac120007-4-3202-0bdc-fd62-8ee8",
       "next": "73b1e49c-61bc-11ee-89fa-0242ac120005",
       "previous": "35c35f52-55a3-11e7-b0b2-00163e9c0e35-3-e2de-8a27-98e3"
      },
      {
       "current": "a33430b0-9327-11ea-8d02-0242ac120007-5-3202-0bdc-fd62-8ee8-cf81",
       "next": "73b1e49c-61bc-11ee-89fa-0242ac120005-1-dea7",
       "previous": "35c35f52-55a3-11e7-b0b2-00163e9c0e35-4-e2de-8a27-98e3-51d2"
      },
      {
       "current": "a33430b0-9327-11ea-8d02-0242ac120007-6-3202-0bdc-fd62-8ee8-cf81-d400",
       "next": "73b1e49c-61bc-11ee-89fa-0242ac120005-2-dea7-cde7",
       "previous": "35c35f52-55a3-11e7-b0b2-00163e9c0e35-5-e2de-8a27-98e3-51d2-b206"
      },
      {
       "current": "a33430b0-9327-11ea-8d02-0242ac120007-7-3202-0bdc-fd62-8ee8-cf81-d400-67f2",
       "next": "73b1e49c-61bc-11ee-89fa-0242ac120005-3-dea7-cde7-5ebd",
       "previous": "35c35f52-55a3-11e7-b0b2-00163e9c0e35-6-e2de-8a27-98e3-51d2-b206-d196"
      }
     ],
     "next": "73b1e49c-61bc-11ee-89fa-0242ac120005-4-dea7-cde7-5ebd-0375",
     "previous": "35c35f52-55a3-11e7-b0b2-00163e9c0e35-7-e2de-8a27-98e3-51d2-b206-d196-cc9c"
    }
   },
   "outputs": [],
   "source": [
    "node_user='xxxxx'\n",
    "cephadmin_user='cephadmin'\n",
    "node_key='~/.ssh/id_ras'\n",
    "proxy_user='xxxxx'\n",
    "proxy_key='~/.ssh/id_ras'"
   ]
  },
  {
   "cell_type": "code",
   "execution_count": null,
   "metadata": {
    "lc_cell_meme": {
     "current": "73b1e49c-61bc-11ee-89fa-0242ac120005-4-dea7-cde7-5ebd-0375",
     "history": [
      {
       "current": "73b1e49c-61bc-11ee-89fa-0242ac120005",
       "next": "35c360f6-55a3-11e7-b0b2-00163e9c0e35-3-4a79-f9ba-754f",
       "previous": "9c0b8624-959f-11ea-8d02-0242ac120007-3-8098-a371-0b4a"
      },
      {
       "current": "73b1e49c-61bc-11ee-89fa-0242ac120005-1-dea7",
       "next": "35c360f6-55a3-11e7-b0b2-00163e9c0e35-3-4a79-f9ba-754f",
       "previous": "a33430b0-9327-11ea-8d02-0242ac120007-3-3202-0bdc-fd62"
      },
      {
       "current": "73b1e49c-61bc-11ee-89fa-0242ac120005-2-dea7-cde7",
       "next": "35c360f6-55a3-11e7-b0b2-00163e9c0e35-4-4a79-f9ba-754f-ab30",
       "previous": "a33430b0-9327-11ea-8d02-0242ac120007-4-3202-0bdc-fd62-8ee8"
      },
      {
       "current": "73b1e49c-61bc-11ee-89fa-0242ac120005-3-dea7-cde7-5ebd",
       "next": "35c360f6-55a3-11e7-b0b2-00163e9c0e35-5-4a79-f9ba-754f-ab30-9a56",
       "previous": "a33430b0-9327-11ea-8d02-0242ac120007-5-3202-0bdc-fd62-8ee8-cf81"
      },
      {
       "current": "73b1e49c-61bc-11ee-89fa-0242ac120005-4-dea7-cde7-5ebd-0375",
       "next": "35c360f6-55a3-11e7-b0b2-00163e9c0e35-6-4a79-f9ba-754f-ab30-9a56-0e96",
       "previous": "a33430b0-9327-11ea-8d02-0242ac120007-6-3202-0bdc-fd62-8ee8-cf81-d400"
      }
     ],
     "next": "35c360f6-55a3-11e7-b0b2-00163e9c0e35-7-4a79-f9ba-754f-ab30-9a56-0e96-9c73",
     "previous": "a33430b0-9327-11ea-8d02-0242ac120007-7-3202-0bdc-fd62-8ee8-cf81-d400-67f2"
    }
   },
   "outputs": [],
   "source": [
    "bootstrap_ip = bootstrap_node['prov_ip']"
   ]
  },
  {
   "cell_type": "code",
   "execution_count": null,
   "metadata": {
    "ExecuteTime": {
     "end_time": "2017-06-29T08:50:39.909299Z",
     "start_time": "2017-06-29T08:50:39.762658Z"
    },
    "lc_cell_meme": {
     "current": "35c360f6-55a3-11e7-b0b2-00163e9c0e35-7-4a79-f9ba-754f-ab30-9a56-0e96-9c73",
     "history": [
      {
       "current": "35c360f6-55a3-11e7-b0b2-00163e9c0e35",
       "next": "35c362a4-55a3-11e7-b0b2-00163e9c0e35",
       "previous": "35c35f52-55a3-11e7-b0b2-00163e9c0e35"
      },
      {
       "current": "35c360f6-55a3-11e7-b0b2-00163e9c0e35",
       "next": "35c362a4-55a3-11e7-b0b2-00163e9c0e35",
       "previous": "a33430b0-9327-11ea-8d02-0242ac120007"
      },
      {
       "current": "35c360f6-55a3-11e7-b0b2-00163e9c0e35-1-4a79",
       "next": "35c362a4-55a3-11e7-b0b2-00163e9c0e35",
       "previous": "9c0b88cc-959f-11ea-8d02-0242ac120007"
      },
      {
       "current": "35c360f6-55a3-11e7-b0b2-00163e9c0e35-2-4a79-f9ba",
       "next": "35c362a4-55a3-11e7-b0b2-00163e9c0e35-1-3f0a",
       "previous": "9c0b88cc-959f-11ea-8d02-0242ac120007-1-b077"
      },
      {
       "current": "35c360f6-55a3-11e7-b0b2-00163e9c0e35-2-4a79-f9ba",
       "next": "35c362a4-55a3-11e7-b0b2-00163e9c0e35-2-3f0a-3633",
       "previous": "9c0b88cc-959f-11ea-8d02-0242ac120007-2-b077-046d"
      },
      {
       "current": "35c360f6-55a3-11e7-b0b2-00163e9c0e35-2-4a79-f9ba",
       "next": "7dae8996-9686-11ea-8d02-0242ac120007-2-20c5-a0b0",
       "previous": "9c0b88cc-959f-11ea-8d02-0242ac120007-2-b077-046d"
      },
      {
       "current": "35c360f6-55a3-11e7-b0b2-00163e9c0e35-2-4a79-f9ba",
       "next": "35c362a4-55a3-11e7-b0b2-00163e9c0e35-2-89a7-98f2",
       "previous": "9c0b88cc-959f-11ea-8d02-0242ac120007-2-b077-046d"
      },
      {
       "current": "35c360f6-55a3-11e7-b0b2-00163e9c0e35-3-4a79-f9ba-754f",
       "next": "35c362a4-55a3-11e7-b0b2-00163e9c0e35-2-89a7-98f2",
       "previous": "9c0b8624-959f-11ea-8d02-0242ac120007-2-8098-a371"
      },
      {
       "current": "35c360f6-55a3-11e7-b0b2-00163e9c0e35-3-4a79-f9ba-754f",
       "next": "35c362a4-55a3-11e7-b0b2-00163e9c0e35-3-89a7-98f2-5cf2",
       "previous": "9c0b8624-959f-11ea-8d02-0242ac120007-3-8098-a371-0b4a"
      },
      {
       "current": "35c360f6-55a3-11e7-b0b2-00163e9c0e35-4-4a79-f9ba-754f-ab30",
       "next": "35c362a4-55a3-11e7-b0b2-00163e9c0e35-3-89a7-98f2-5cf2",
       "previous": "73b1e49c-61bc-11ee-89fa-0242ac120005"
      },
      {
       "current": "35c360f6-55a3-11e7-b0b2-00163e9c0e35-5-4a79-f9ba-754f-ab30-9a56",
       "next": "35c362a4-55a3-11e7-b0b2-00163e9c0e35-4-89a7-98f2-5cf2-ba96",
       "previous": "73b1e49c-61bc-11ee-89fa-0242ac120005-1-dea7"
      },
      {
       "current": "35c360f6-55a3-11e7-b0b2-00163e9c0e35-5-4a79-f9ba-754f-ab30-9a56",
       "next": "35c362a4-55a3-11e7-b0b2-00163e9c0e35-5-89a7-98f2-5cf2-ba96-7039",
       "previous": "73b1e49c-61bc-11ee-89fa-0242ac120005-2-dea7-cde7"
      },
      {
       "current": "35c360f6-55a3-11e7-b0b2-00163e9c0e35-6-4a79-f9ba-754f-ab30-9a56-0e96",
       "next": "16341110-2308-11ef-ad2f-0242ac120005",
       "previous": "73b1e49c-61bc-11ee-89fa-0242ac120005-2-dea7-cde7"
      },
      {
       "current": "35c360f6-55a3-11e7-b0b2-00163e9c0e35-7-4a79-f9ba-754f-ab30-9a56-0e96-9c73",
       "next": "16341110-2308-11ef-ad2f-0242ac120005-1-eaf4",
       "previous": "73b1e49c-61bc-11ee-89fa-0242ac120005-3-dea7-cde7-5ebd"
      }
     ],
     "next": "16341110-2308-11ef-ad2f-0242ac120005-2-eaf4-dba1",
     "previous": "73b1e49c-61bc-11ee-89fa-0242ac120005-4-dea7-cde7-5ebd-0375"
    },
    "run_control": {
     "frozen": true
    },
    "scrolled": false
   },
   "outputs": [],
   "source": [
    "import os\n",
    "\n",
    "with open( os.path.join(temp_dir, \"hosts\"), 'w') as f:\n",
    "    f.write('''[openstack_ctl]\n",
    "{openstack_cmn}\n",
    "'''.format(openstack_cmn = provisioning_vip))\n",
    "\n",
    "    f.write('''[ceph_admin]\n",
    "{ceph_admin_ip} ansible_user={proxy_user} ansible_ssh_private_key_file={proxy_key} ansible_python_interpreter=/usr/bin/python3\n",
    "[ceph_nodes]\n",
    "'''.format(ceph_admin_ip=ceph_admin_ip, proxy_user=proxy_user, proxy_key=proxy_key))\n",
    "\n",
    "    f.write('''[bootstrap]\n",
    "{node_ip} ansible_user={node_user} ansible_ssh_private_key_file={node_key} ansible_ssh_common_args='-o ControlMaster=auto -o StrictHostKeyChecking=no -o ControlPersist=30m -o ProxyCommand=\"ssh -W %h:%p -i {proxy_key} -q {proxy_user}@{ceph_admin_ip}\"' ansible_python_interpreter=/usr/bin/python3\n",
    "[ceph_nodes]\n",
    "'''.format(ceph_admin_ip=ceph_admin_ip, node_ip=bootstrap_ip, node_key=node_key,\n",
    "           node_user=node_user, proxy_user=proxy_user, proxy_key=proxy_key))\n",
    "\n",
    "    for node in node_list:\n",
    "        node_ip = node['prov_ip']\n",
    "        f.write('''{node_ip} ansible_user={node_user} ansible_ssh_private_key_file={node_key} ansible_ssh_common_args='-o ControlMaster=auto -o StrictHostKeyChecking=no -o ControlPersist=30m -o ProxyCommand=\"ssh -W %h:%p -i {proxy_key} -q {proxy_user}@{ceph_admin_ip}\"' ansible_python_interpreter=/usr/bin/python3\n",
    "'''.format(ceph_admin_ip=ceph_admin_ip, node_ip=node_ip, node_key=node_key,\n",
    "           node_user=node_user, proxy_user=proxy_user, proxy_key=proxy_key))\n",
    "\n",
    "hosts = temp_dir + \"/hosts\"\n",
    "\n",
    "!cat $hosts"
   ]
  },
  {
   "cell_type": "code",
   "execution_count": null,
   "metadata": {
    "lc_cell_meme": {
     "current": "16341110-2308-11ef-ad2f-0242ac120005-2-eaf4-dba1",
     "history": [
      {
       "current": "16341110-2308-11ef-ad2f-0242ac120005-1-eaf4",
       "next": "35c362a4-55a3-11e7-b0b2-00163e9c0e35-5-89a7-98f2-5cf2-ba96-7039",
       "previous": "35c360f6-55a3-11e7-b0b2-00163e9c0e35-5-4a79-f9ba-754f-ab30-9a56"
      },
      {
       "current": "16341110-2308-11ef-ad2f-0242ac120005-2-eaf4-dba1",
       "next": "35c362a4-55a3-11e7-b0b2-00163e9c0e35-6-89a7-98f2-5cf2-ba96-7039-fd54",
       "previous": "35c360f6-55a3-11e7-b0b2-00163e9c0e35-6-4a79-f9ba-754f-ab30-9a56-0e96"
      }
     ],
     "next": "35c362a4-55a3-11e7-b0b2-00163e9c0e35-7-89a7-98f2-5cf2-ba96-7039-fd54-4ba0",
     "previous": "35c360f6-55a3-11e7-b0b2-00163e9c0e35-7-4a79-f9ba-754f-ab30-9a56-0e96-9c73"
    }
   },
   "outputs": [],
   "source": [
    "%env ANSIBLE_INVENTORY={hosts}"
   ]
  },
  {
   "cell_type": "markdown",
   "metadata": {
    "lc_cell_meme": {
     "current": "35c362a4-55a3-11e7-b0b2-00163e9c0e35-7-89a7-98f2-5cf2-ba96-7039-fd54-4ba0",
     "history": [
      {
       "current": "35c362a4-55a3-11e7-b0b2-00163e9c0e35",
       "next": "35c36448-55a3-11e7-b0b2-00163e9c0e35",
       "previous": "35c360f6-55a3-11e7-b0b2-00163e9c0e35"
      },
      {
       "current": "35c362a4-55a3-11e7-b0b2-00163e9c0e35",
       "next": "35c36448-55a3-11e7-b0b2-00163e9c0e35",
       "previous": "4cd5b0cc-7ef5-11ea-a926-0242ac120004"
      },
      {
       "current": "35c362a4-55a3-11e7-b0b2-00163e9c0e35",
       "next": "35c36448-55a3-11e7-b0b2-00163e9c0e35",
       "previous": "db546a28-7ef5-11ea-a926-0242ac120004"
      },
      {
       "current": "35c362a4-55a3-11e7-b0b2-00163e9c0e35",
       "next": "35c36448-55a3-11e7-b0b2-00163e9c0e35",
       "previous": "4cd5af28-7ef5-11ea-a926-0242ac120004"
      },
      {
       "current": "35c362a4-55a3-11e7-b0b2-00163e9c0e35",
       "next": "35c36448-55a3-11e7-b0b2-00163e9c0e35",
       "previous": "7d464504-9107-11ea-8d02-0242ac120007"
      },
      {
       "current": "35c362a4-55a3-11e7-b0b2-00163e9c0e35",
       "next": "35c36448-55a3-11e7-b0b2-00163e9c0e35",
       "previous": "bd797188-910b-11ea-8d02-0242ac120007"
      },
      {
       "current": "35c362a4-55a3-11e7-b0b2-00163e9c0e35",
       "next": "35c36448-55a3-11e7-b0b2-00163e9c0e35",
       "previous": "70b95056-9111-11ea-8d02-0242ac120007"
      },
      {
       "current": "35c362a4-55a3-11e7-b0b2-00163e9c0e35",
       "next": "35c36448-55a3-11e7-b0b2-00163e9c0e35",
       "previous": "bd797188-910b-11ea-8d02-0242ac120007"
      },
      {
       "current": "35c362a4-55a3-11e7-b0b2-00163e9c0e35",
       "next": "bd797188-910b-11ea-8d02-0242ac120007",
       "previous": "4cd5af28-7ef5-11ea-a926-0242ac120004"
      },
      {
       "current": "35c362a4-55a3-11e7-b0b2-00163e9c0e35",
       "next": "484c7376-935c-11ea-8d02-0242ac120007",
       "previous": "4cd5af28-7ef5-11ea-a926-0242ac120004"
      },
      {
       "current": "35c362a4-55a3-11e7-b0b2-00163e9c0e35-1-89a7",
       "next": "bd797188-910b-11ea-8d02-0242ac120007",
       "previous": "4cd5af28-7ef5-11ea-a926-0242ac120004"
      },
      {
       "current": "35c362a4-55a3-11e7-b0b2-00163e9c0e35-2-89a7-98f2",
       "next": "bd797188-910b-11ea-8d02-0242ac120007-1-728a",
       "previous": "4cd5af28-7ef5-11ea-a926-0242ac120004-1-726b"
      },
      {
       "current": "35c362a4-55a3-11e7-b0b2-00163e9c0e35-2-89a7-98f2",
       "next": "bd797188-910b-11ea-8d02-0242ac120007-2-728a-254c",
       "previous": "4cd5af28-7ef5-11ea-a926-0242ac120004-2-726b-a0d6"
      },
      {
       "current": "35c362a4-55a3-11e7-b0b2-00163e9c0e35-2-89a7-98f2",
       "next": "bd797188-910b-11ea-8d02-0242ac120007-2-728a-254c",
       "previous": "35c360f6-55a3-11e7-b0b2-00163e9c0e35-2-4a79-f9ba"
      },
      {
       "current": "35c362a4-55a3-11e7-b0b2-00163e9c0e35-3-89a7-98f2-5cf2",
       "next": "ef4d2888-aa17-11ea-9ad4-0242ac120006-1-42b7",
       "previous": "35c360f6-55a3-11e7-b0b2-00163e9c0e35-2-4a79-f9ba"
      },
      {
       "current": "35c362a4-55a3-11e7-b0b2-00163e9c0e35-4-89a7-98f2-5cf2-ba96",
       "next": "ef4d2888-aa17-11ea-9ad4-0242ac120006-2-42b7-b07a",
       "previous": "35c360f6-55a3-11e7-b0b2-00163e9c0e35-3-4a79-f9ba-754f"
      },
      {
       "current": "35c362a4-55a3-11e7-b0b2-00163e9c0e35-5-89a7-98f2-5cf2-ba96-7039",
       "next": "ef4d2888-aa17-11ea-9ad4-0242ac120006-3-42b7-b07a-afbb",
       "previous": "35c360f6-55a3-11e7-b0b2-00163e9c0e35-4-4a79-f9ba-754f-ab30"
      },
      {
       "current": "35c362a4-55a3-11e7-b0b2-00163e9c0e35-5-89a7-98f2-5cf2-ba96-7039",
       "next": "ef4d2888-aa17-11ea-9ad4-0242ac120006-4-42b7-b07a-afbb-a043",
       "previous": "35c360f6-55a3-11e7-b0b2-00163e9c0e35-5-4a79-f9ba-754f-ab30-9a56"
      },
      {
       "current": "35c362a4-55a3-11e7-b0b2-00163e9c0e35-6-89a7-98f2-5cf2-ba96-7039-fd54",
       "next": "ef4d2888-aa17-11ea-9ad4-0242ac120006-4-42b7-b07a-afbb-a043",
       "previous": "16341110-2308-11ef-ad2f-0242ac120005"
      },
      {
       "current": "35c362a4-55a3-11e7-b0b2-00163e9c0e35-7-89a7-98f2-5cf2-ba96-7039-fd54-4ba0",
       "next": "ef4d2888-aa17-11ea-9ad4-0242ac120006-5-42b7-b07a-afbb-a043-a3e9",
       "previous": "16341110-2308-11ef-ad2f-0242ac120005-1-eaf4"
      }
     ],
     "next": "ef4d2888-aa17-11ea-9ad4-0242ac120006-6-42b7-b07a-afbb-a043-a3e9-1387",
     "previous": "16341110-2308-11ef-ad2f-0242ac120005-2-eaf4-dba1"
    }
   },
   "source": [
    "## 疎通確認\n",
    "以下コマンドを実行し、OpeHubからCephAdmin経由で、Cephノードに疎通することを確認する。"
   ]
  },
  {
   "cell_type": "code",
   "execution_count": null,
   "metadata": {
    "lc_cell_meme": {
     "current": "ef4d2888-aa17-11ea-9ad4-0242ac120006-6-42b7-b07a-afbb-a043-a3e9-1387",
     "history": [
      {
       "current": "ef4d2888-aa17-11ea-9ad4-0242ac120006-1-42b7",
       "next": "ac56a252-95bd-11ea-8d02-0242ac120007-1-86ee",
       "previous": "bd797188-910b-11ea-8d02-0242ac120007-1-728a"
      },
      {
       "current": "ef4d2888-aa17-11ea-9ad4-0242ac120006-1-42b7",
       "next": "ac56a252-95bd-11ea-8d02-0242ac120007-2-86ee-3a22",
       "previous": "bd797188-910b-11ea-8d02-0242ac120007-2-728a-254c"
      },
      {
       "current": "ef4d2888-aa17-11ea-9ad4-0242ac120006-1-42b7",
       "next": "bd797188-910b-11ea-8d02-0242ac120007-2-728a-254c",
       "previous": "35c362a4-55a3-11e7-b0b2-00163e9c0e35-2-89a7-98f2"
      },
      {
       "current": "ef4d2888-aa17-11ea-9ad4-0242ac120006-2-42b7-b07a",
       "next": "e3856a36-df01-11eb-b29f-0242ac120008",
       "previous": "35c362a4-55a3-11e7-b0b2-00163e9c0e35-2-89a7-98f2"
      },
      {
       "current": "ef4d2888-aa17-11ea-9ad4-0242ac120006-2-42b7-b07a",
       "next": "e3856a36-df01-11eb-b29f-0242ac120008-1-d6f1",
       "previous": "35c362a4-55a3-11e7-b0b2-00163e9c0e35-3-89a7-98f2-5cf2"
      },
      {
       "current": "ef4d2888-aa17-11ea-9ad4-0242ac120006-3-42b7-b07a-afbb",
       "next": "bd797188-910b-11ea-8d02-0242ac120007-3-728a-254c-2f4c",
       "previous": "35c362a4-55a3-11e7-b0b2-00163e9c0e35-3-89a7-98f2-5cf2"
      },
      {
       "current": "ef4d2888-aa17-11ea-9ad4-0242ac120006-4-42b7-b07a-afbb-a043",
       "next": "bd797188-910b-11ea-8d02-0242ac120007-4-728a-254c-2f4c-b905",
       "previous": "35c362a4-55a3-11e7-b0b2-00163e9c0e35-4-89a7-98f2-5cf2-ba96"
      },
      {
       "current": "ef4d2888-aa17-11ea-9ad4-0242ac120006-5-42b7-b07a-afbb-a043-a3e9",
       "next": "bd797188-910b-11ea-8d02-0242ac120007-5-728a-254c-2f4c-b905-88f8",
       "previous": "35c362a4-55a3-11e7-b0b2-00163e9c0e35-5-89a7-98f2-5cf2-ba96-7039"
      },
      {
       "current": "ef4d2888-aa17-11ea-9ad4-0242ac120006-6-42b7-b07a-afbb-a043-a3e9-1387",
       "next": "bd797188-910b-11ea-8d02-0242ac120007-6-728a-254c-2f4c-b905-88f8-3e6d",
       "previous": "35c362a4-55a3-11e7-b0b2-00163e9c0e35-6-89a7-98f2-5cf2-ba96-7039-fd54"
      }
     ],
     "next": "bd797188-910b-11ea-8d02-0242ac120007-7-728a-254c-2f4c-b905-88f8-3e6d-f922",
     "previous": "35c362a4-55a3-11e7-b0b2-00163e9c0e35-7-89a7-98f2-5cf2-ba96-7039-fd54-4ba0"
    }
   },
   "outputs": [],
   "source": [
    "!ansible -b -m shell -a 'hostname' ceph_admin"
   ]
  },
  {
   "cell_type": "code",
   "execution_count": null,
   "metadata": {
    "lc_cell_meme": {
     "current": "bd797188-910b-11ea-8d02-0242ac120007-7-728a-254c-2f4c-b905-88f8-3e6d-f922",
     "history": [
      {
       "current": "bd797188-910b-11ea-8d02-0242ac120007",
       "next": "35c362a4-55a3-11e7-b0b2-00163e9c0e35",
       "previous": "7d464504-9107-11ea-8d02-0242ac120007"
      },
      {
       "current": "bd797188-910b-11ea-8d02-0242ac120007",
       "next": "70b95056-9111-11ea-8d02-0242ac120007",
       "previous": "7d464504-9107-11ea-8d02-0242ac120007"
      },
      {
       "current": "bd797188-910b-11ea-8d02-0242ac120007",
       "next": "35c362a4-55a3-11e7-b0b2-00163e9c0e35",
       "previous": "7d464504-9107-11ea-8d02-0242ac120007"
      },
      {
       "current": "bd797188-910b-11ea-8d02-0242ac120007",
       "next": "35c362a4-55a3-11e7-b0b2-00163e9c0e35",
       "previous": "4cd5af28-7ef5-11ea-a926-0242ac120004"
      },
      {
       "current": "bd797188-910b-11ea-8d02-0242ac120007",
       "next": "35c36448-55a3-11e7-b0b2-00163e9c0e35",
       "previous": "35c362a4-55a3-11e7-b0b2-00163e9c0e35"
      },
      {
       "current": "bd797188-910b-11ea-8d02-0242ac120007",
       "next": "35c3783e-55a3-11e7-b0b2-00163e9c0e35",
       "previous": "35c362a4-55a3-11e7-b0b2-00163e9c0e35"
      },
      {
       "current": "bd797188-910b-11ea-8d02-0242ac120007",
       "next": "35c3783e-55a3-11e7-b0b2-00163e9c0e35",
       "previous": "484c7376-935c-11ea-8d02-0242ac120007"
      },
      {
       "current": "bd797188-910b-11ea-8d02-0242ac120007",
       "next": "35c3783e-55a3-11e7-b0b2-00163e9c0e35",
       "previous": "35c362a4-55a3-11e7-b0b2-00163e9c0e35"
      },
      {
       "current": "bd797188-910b-11ea-8d02-0242ac120007-1-728a",
       "next": "ac56a252-95bd-11ea-8d02-0242ac120007",
       "previous": "35c362a4-55a3-11e7-b0b2-00163e9c0e35"
      },
      {
       "current": "bd797188-910b-11ea-8d02-0242ac120007-1-728a",
       "next": "ac56a252-95bd-11ea-8d02-0242ac120007-1-86ee",
       "previous": "35c362a4-55a3-11e7-b0b2-00163e9c0e35-1-89a7"
      },
      {
       "current": "bd797188-910b-11ea-8d02-0242ac120007-2-728a-254c",
       "next": "ef4d2888-aa17-11ea-9ad4-0242ac120006",
       "previous": "35c362a4-55a3-11e7-b0b2-00163e9c0e35-1-89a7"
      },
      {
       "current": "bd797188-910b-11ea-8d02-0242ac120007-2-728a-254c",
       "next": "ef4d2888-aa17-11ea-9ad4-0242ac120006-1-42b7",
       "previous": "35c362a4-55a3-11e7-b0b2-00163e9c0e35-2-89a7-98f2"
      },
      {
       "current": "bd797188-910b-11ea-8d02-0242ac120007-2-728a-254c",
       "next": "ac56a252-95bd-11ea-8d02-0242ac120007-2-86ee-3a22",
       "previous": "ef4d2888-aa17-11ea-9ad4-0242ac120006-1-42b7"
      },
      {
       "current": "bd797188-910b-11ea-8d02-0242ac120007-2-728a-254c",
       "next": "ac56a252-95bd-11ea-8d02-0242ac120007-2-86ee-3a22",
       "previous": "e3856a36-df01-11eb-b29f-0242ac120008"
      },
      {
       "current": "bd797188-910b-11ea-8d02-0242ac120007-3-728a-254c-2f4c",
       "next": "21d849e2-dfd0-11eb-b29f-0242ac120008",
       "previous": "e3856a36-df01-11eb-b29f-0242ac120008"
      },
      {
       "current": "bd797188-910b-11ea-8d02-0242ac120007-3-728a-254c-2f4c",
       "next": "21d849e2-dfd0-11eb-b29f-0242ac120008-1-ee1b",
       "previous": "e3856a36-df01-11eb-b29f-0242ac120008-1-d6f1"
      },
      {
       "current": "bd797188-910b-11ea-8d02-0242ac120007-3-728a-254c-2f4c",
       "next": "21d849e2-dfd0-11eb-b29f-0242ac120008-1-ee1b",
       "previous": "ef4d2888-aa17-11ea-9ad4-0242ac120006-2-42b7-b07a"
      },
      {
       "current": "bd797188-910b-11ea-8d02-0242ac120007-3-728a-254c-2f4c",
       "next": "91d0d70c-61bd-11ee-89fa-0242ac120005",
       "previous": "ef4d2888-aa17-11ea-9ad4-0242ac120006-2-42b7-b07a"
      },
      {
       "current": "bd797188-910b-11ea-8d02-0242ac120007-4-728a-254c-2f4c-b905",
       "next": "43f4ca3e-7950-11ee-89fa-0242ac120005",
       "previous": "ef4d2888-aa17-11ea-9ad4-0242ac120006-2-42b7-b07a"
      },
      {
       "current": "bd797188-910b-11ea-8d02-0242ac120007-5-728a-254c-2f4c-b905-88f8",
       "next": "43f4ca3e-7950-11ee-89fa-0242ac120005-1-6170",
       "previous": "ef4d2888-aa17-11ea-9ad4-0242ac120006-3-42b7-b07a-afbb"
      },
      {
       "current": "bd797188-910b-11ea-8d02-0242ac120007-6-728a-254c-2f4c-b905-88f8-3e6d",
       "next": "43f4ca3e-7950-11ee-89fa-0242ac120005-2-6170-c07b",
       "previous": "ef4d2888-aa17-11ea-9ad4-0242ac120006-4-42b7-b07a-afbb-a043"
      },
      {
       "current": "bd797188-910b-11ea-8d02-0242ac120007-7-728a-254c-2f4c-b905-88f8-3e6d-f922",
       "next": "43f4ca3e-7950-11ee-89fa-0242ac120005-3-6170-c07b-ea0f",
       "previous": "ef4d2888-aa17-11ea-9ad4-0242ac120006-5-42b7-b07a-afbb-a043-a3e9"
      }
     ],
     "next": "43f4ca3e-7950-11ee-89fa-0242ac120005-4-6170-c07b-ea0f-aa63",
     "previous": "ef4d2888-aa17-11ea-9ad4-0242ac120006-6-42b7-b07a-afbb-a043-a3e9-1387"
    }
   },
   "outputs": [],
   "source": [
    "for node in node_list:\n",
    "    prov_ip = node['prov_ip']\n",
    "    !ansible -b -m shell -a 'hostname' $prov_ip"
   ]
  },
  {
   "cell_type": "code",
   "execution_count": null,
   "metadata": {
    "lc_cell_meme": {
     "current": "43f4ca3e-7950-11ee-89fa-0242ac120005-4-6170-c07b-ea0f-aa63",
     "history": [
      {
       "current": "43f4ca3e-7950-11ee-89fa-0242ac120005-1-6170",
       "next": "91d0d70c-61bd-11ee-89fa-0242ac120005",
       "previous": "bd797188-910b-11ea-8d02-0242ac120007-3-728a-254c-2f4c"
      },
      {
       "current": "43f4ca3e-7950-11ee-89fa-0242ac120005-2-6170-c07b",
       "next": "91d0d70c-61bd-11ee-89fa-0242ac120005-1-9f25",
       "previous": "bd797188-910b-11ea-8d02-0242ac120007-4-728a-254c-2f4c-b905"
      },
      {
       "current": "43f4ca3e-7950-11ee-89fa-0242ac120005-3-6170-c07b-ea0f",
       "next": "91d0d70c-61bd-11ee-89fa-0242ac120005-2-9f25-009f",
       "previous": "bd797188-910b-11ea-8d02-0242ac120007-5-728a-254c-2f4c-b905-88f8"
      },
      {
       "current": "43f4ca3e-7950-11ee-89fa-0242ac120005-4-6170-c07b-ea0f-aa63",
       "next": "91d0d70c-61bd-11ee-89fa-0242ac120005-3-9f25-009f-615a",
       "previous": "bd797188-910b-11ea-8d02-0242ac120007-6-728a-254c-2f4c-b905-88f8-3e6d"
      }
     ],
     "next": "91d0d70c-61bd-11ee-89fa-0242ac120005-4-9f25-009f-615a-86d2",
     "previous": "bd797188-910b-11ea-8d02-0242ac120007-7-728a-254c-2f4c-b905-88f8-3e6d-f922"
    }
   },
   "outputs": [],
   "source": [
    "!ansible -b -m shell -a 'hostname' ceph_nodes"
   ]
  },
  {
   "cell_type": "code",
   "execution_count": null,
   "metadata": {
    "lc_cell_meme": {
     "current": "91d0d70c-61bd-11ee-89fa-0242ac120005-4-9f25-009f-615a-86d2",
     "history": [
      {
       "current": "91d0d70c-61bd-11ee-89fa-0242ac120005",
       "next": "ac56a252-95bd-11ea-8d02-0242ac120007-3-86ee-3a22-9a71",
       "previous": "21d849e2-dfd0-11eb-b29f-0242ac120008-1-ee1b"
      },
      {
       "current": "91d0d70c-61bd-11ee-89fa-0242ac120005",
       "next": "ac56a252-95bd-11ea-8d02-0242ac120007-3-86ee-3a22-9a71",
       "previous": "bd797188-910b-11ea-8d02-0242ac120007-3-728a-254c-2f4c"
      },
      {
       "current": "91d0d70c-61bd-11ee-89fa-0242ac120005",
       "next": "ac56a252-95bd-11ea-8d02-0242ac120007-3-86ee-3a22-9a71",
       "previous": "43f4ca3e-7950-11ee-89fa-0242ac120005"
      },
      {
       "current": "91d0d70c-61bd-11ee-89fa-0242ac120005-1-9f25",
       "next": "7890499e-8765-11ee-91d3-0242ac120006",
       "previous": "43f4ca3e-7950-11ee-89fa-0242ac120005"
      },
      {
       "current": "91d0d70c-61bd-11ee-89fa-0242ac120005-2-9f25-009f",
       "next": "7890499e-8765-11ee-91d3-0242ac120006-1-cb13",
       "previous": "43f4ca3e-7950-11ee-89fa-0242ac120005-1-6170"
      },
      {
       "current": "91d0d70c-61bd-11ee-89fa-0242ac120005-3-9f25-009f-615a",
       "next": "7890499e-8765-11ee-91d3-0242ac120006-2-cb13-0eea",
       "previous": "43f4ca3e-7950-11ee-89fa-0242ac120005-2-6170-c07b"
      },
      {
       "current": "91d0d70c-61bd-11ee-89fa-0242ac120005-4-9f25-009f-615a-86d2",
       "next": "7890499e-8765-11ee-91d3-0242ac120006-3-cb13-0eea-e8f0",
       "previous": "43f4ca3e-7950-11ee-89fa-0242ac120005-3-6170-c07b-ea0f"
      }
     ],
     "next": "7890499e-8765-11ee-91d3-0242ac120006-4-cb13-0eea-e8f0-60ff",
     "previous": "43f4ca3e-7950-11ee-89fa-0242ac120005-4-6170-c07b-ea0f-aa63"
    },
    "scrolled": true
   },
   "outputs": [],
   "source": [
    "!ansible -b -m shell -a 'hostname' bootstrap"
   ]
  },
  {
   "cell_type": "markdown",
   "metadata": {
    "lc_cell_meme": {
     "current": "7890499e-8765-11ee-91d3-0242ac120006-4-cb13-0eea-e8f0-60ff",
     "history": [
      {
       "current": "7890499e-8765-11ee-91d3-0242ac120006",
       "next": "78904b42-8765-11ee-91d3-0242ac120006",
       "previous": "91d0d70c-61bd-11ee-89fa-0242ac120005"
      },
      {
       "current": "7890499e-8765-11ee-91d3-0242ac120006",
       "next": "b9a7b5a2-88fa-11ee-91d3-0242ac120006",
       "previous": "91d0d70c-61bd-11ee-89fa-0242ac120005"
      },
      {
       "current": "7890499e-8765-11ee-91d3-0242ac120006-1-cb13",
       "next": "b9a7b5a2-88fa-11ee-91d3-0242ac120006-1-f398",
       "previous": "91d0d70c-61bd-11ee-89fa-0242ac120005"
      },
      {
       "current": "7890499e-8765-11ee-91d3-0242ac120006-2-cb13-0eea",
       "next": "b9a7b5a2-88fa-11ee-91d3-0242ac120006-2-f398-f83b",
       "previous": "91d0d70c-61bd-11ee-89fa-0242ac120005-1-9f25"
      },
      {
       "current": "7890499e-8765-11ee-91d3-0242ac120006-3-cb13-0eea-e8f0",
       "next": "b9a7b5a2-88fa-11ee-91d3-0242ac120006-3-f398-f83b-254b",
       "previous": "91d0d70c-61bd-11ee-89fa-0242ac120005-2-9f25-009f"
      },
      {
       "current": "7890499e-8765-11ee-91d3-0242ac120006-4-cb13-0eea-e8f0-60ff",
       "next": "b9a7b5a2-88fa-11ee-91d3-0242ac120006-4-f398-f83b-254b-a9ea",
       "previous": "91d0d70c-61bd-11ee-89fa-0242ac120005-3-9f25-009f-615a"
      }
     ],
     "next": "b9a7b5a2-88fa-11ee-91d3-0242ac120006-5-f398-f83b-254b-a9ea-6568",
     "previous": "91d0d70c-61bd-11ee-89fa-0242ac120005-4-9f25-009f-615a-86d2"
    }
   },
   "source": [
    "# 監視Stackのイメージ更新"
   ]
  },
  {
   "cell_type": "markdown",
   "metadata": {
    "lc_cell_meme": {
     "current": "b9a7b5a2-88fa-11ee-91d3-0242ac120006-5-f398-f83b-254b-a9ea-6568",
     "history": [
      {
       "current": "b9a7b5a2-88fa-11ee-91d3-0242ac120006-2-f398-f83b",
       "next": "b9a7b750-88fa-11ee-91d3-0242ac120006",
       "previous": "7890499e-8765-11ee-91d3-0242ac120006"
      },
      {
       "current": "b9a7b5a2-88fa-11ee-91d3-0242ac120006-3-f398-f83b-254b",
       "next": "b9a7b750-88fa-11ee-91d3-0242ac120006-1-a30a",
       "previous": "7890499e-8765-11ee-91d3-0242ac120006-1-cb13"
      },
      {
       "current": "b9a7b5a2-88fa-11ee-91d3-0242ac120006-4-f398-f83b-254b-a9ea",
       "next": "b9a7b750-88fa-11ee-91d3-0242ac120006-2-a30a-e7b8",
       "previous": "7890499e-8765-11ee-91d3-0242ac120006-2-cb13-0eea"
      },
      {
       "current": "b9a7b5a2-88fa-11ee-91d3-0242ac120006-5-f398-f83b-254b-a9ea-6568",
       "next": "b9a7b750-88fa-11ee-91d3-0242ac120006-3-a30a-e7b8-8a3a",
       "previous": "7890499e-8765-11ee-91d3-0242ac120006-3-cb13-0eea-e8f0"
      }
     ],
     "next": "b9a7b750-88fa-11ee-91d3-0242ac120006-4-a30a-e7b8-8a3a-a3cb",
     "previous": "7890499e-8765-11ee-91d3-0242ac120006-4-cb13-0eea-e8f0-60ff"
    }
   },
   "source": [
    "## 対象イメージバージョン指定"
   ]
  },
  {
   "cell_type": "code",
   "execution_count": null,
   "metadata": {
    "lc_cell_meme": {
     "current": "b9a7b750-88fa-11ee-91d3-0242ac120006-4-a30a-e7b8-8a3a-a3cb",
     "history": [
      {
       "current": "b9a7b750-88fa-11ee-91d3-0242ac120006",
       "next": "b9a7b7fa-88fa-11ee-91d3-0242ac120006",
       "previous": "b9a7b5a2-88fa-11ee-91d3-0242ac120006"
      },
      {
       "current": "b9a7b750-88fa-11ee-91d3-0242ac120006",
       "next": "b9a7b7fa-88fa-11ee-91d3-0242ac120006",
       "previous": "b9a7b5a2-88fa-11ee-91d3-0242ac120006-1-f398"
      },
      {
       "current": "b9a7b750-88fa-11ee-91d3-0242ac120006-1-a30a",
       "next": "b9a7b7fa-88fa-11ee-91d3-0242ac120006-1-6ee9",
       "previous": "b9a7b5a2-88fa-11ee-91d3-0242ac120006-1-f398"
      },
      {
       "current": "b9a7b750-88fa-11ee-91d3-0242ac120006-2-a30a-e7b8",
       "next": "b9a7b7fa-88fa-11ee-91d3-0242ac120006-2-6ee9-b04b",
       "previous": "b9a7b5a2-88fa-11ee-91d3-0242ac120006-2-f398-f83b"
      },
      {
       "current": "b9a7b750-88fa-11ee-91d3-0242ac120006-3-a30a-e7b8-8a3a",
       "next": "b9a7b7fa-88fa-11ee-91d3-0242ac120006-3-6ee9-b04b-595c",
       "previous": "b9a7b5a2-88fa-11ee-91d3-0242ac120006-3-f398-f83b-254b"
      },
      {
       "current": "b9a7b750-88fa-11ee-91d3-0242ac120006-4-a30a-e7b8-8a3a-a3cb",
       "next": "b9a7b7fa-88fa-11ee-91d3-0242ac120006-4-6ee9-b04b-595c-df9c",
       "previous": "b9a7b5a2-88fa-11ee-91d3-0242ac120006-4-f398-f83b-254b-a9ea"
      }
     ],
     "next": "b9a7b7fa-88fa-11ee-91d3-0242ac120006-5-6ee9-b04b-595c-df9c-ba0c",
     "previous": "b9a7b5a2-88fa-11ee-91d3-0242ac120006-5-f398-f83b-254b-a9ea-6568"
    }
   },
   "outputs": [],
   "source": [
    "prometheus = 'repository:5000/prometheus/prometheus:v2.33.4'\n",
    "grafana = 'repository:5000/ceph/ceph-grafana:8.3.5'\n",
    "alertmanager = 'repository:5000/prometheus/alertmanager:v0.23.0'\n",
    "node_exporter = 'repository:5000/prometheus/node-exporter:latest'"
   ]
  },
  {
   "cell_type": "markdown",
   "metadata": {
    "lc_cell_meme": {
     "current": "b9a7b7fa-88fa-11ee-91d3-0242ac120006-5-6ee9-b04b-595c-df9c-ba0c",
     "history": [
      {
       "current": "b9a7b7fa-88fa-11ee-91d3-0242ac120006-2-6ee9-b04b",
       "next": "b9a7b872-88fa-11ee-91d3-0242ac120006",
       "previous": "b9a7b750-88fa-11ee-91d3-0242ac120006"
      },
      {
       "current": "b9a7b7fa-88fa-11ee-91d3-0242ac120006-3-6ee9-b04b-595c",
       "next": "b9a7b872-88fa-11ee-91d3-0242ac120006-1-18f7",
       "previous": "b9a7b750-88fa-11ee-91d3-0242ac120006-1-a30a"
      },
      {
       "current": "b9a7b7fa-88fa-11ee-91d3-0242ac120006-4-6ee9-b04b-595c-df9c",
       "next": "b9a7b872-88fa-11ee-91d3-0242ac120006-2-18f7-bc0f",
       "previous": "b9a7b750-88fa-11ee-91d3-0242ac120006-2-a30a-e7b8"
      },
      {
       "current": "b9a7b7fa-88fa-11ee-91d3-0242ac120006-5-6ee9-b04b-595c-df9c-ba0c",
       "next": "b9a7b872-88fa-11ee-91d3-0242ac120006-3-18f7-bc0f-0dc3",
       "previous": "b9a7b750-88fa-11ee-91d3-0242ac120006-3-a30a-e7b8-8a3a"
      }
     ],
     "next": "b9a7b872-88fa-11ee-91d3-0242ac120006-4-18f7-bc0f-0dc3-cb8d",
     "previous": "b9a7b750-88fa-11ee-91d3-0242ac120006-4-a30a-e7b8-8a3a-a3cb"
    }
   },
   "source": [
    "## イメージ更新"
   ]
  },
  {
   "cell_type": "code",
   "execution_count": null,
   "metadata": {
    "lc_cell_meme": {
     "current": "b9a7b872-88fa-11ee-91d3-0242ac120006-4-18f7-bc0f-0dc3-cb8d",
     "history": [
      {
       "current": "b9a7b872-88fa-11ee-91d3-0242ac120006",
       "next": "b9a7b8e0-88fa-11ee-91d3-0242ac120006",
       "previous": "b9a7b7fa-88fa-11ee-91d3-0242ac120006"
      },
      {
       "current": "b9a7b872-88fa-11ee-91d3-0242ac120006",
       "next": "48b5e1c4-88fb-11ee-91d3-0242ac120006",
       "previous": "b9a7b7fa-88fa-11ee-91d3-0242ac120006-1-6ee9"
      },
      {
       "current": "b9a7b872-88fa-11ee-91d3-0242ac120006-1-18f7",
       "next": "48b5e322-88fb-11ee-91d3-0242ac120006",
       "previous": "b9a7b7fa-88fa-11ee-91d3-0242ac120006-1-6ee9"
      },
      {
       "current": "b9a7b872-88fa-11ee-91d3-0242ac120006-2-18f7-bc0f",
       "next": "48b5e322-88fb-11ee-91d3-0242ac120006-1-c4f6",
       "previous": "b9a7b7fa-88fa-11ee-91d3-0242ac120006-2-6ee9-b04b"
      },
      {
       "current": "b9a7b872-88fa-11ee-91d3-0242ac120006-3-18f7-bc0f-0dc3",
       "next": "48b5e322-88fb-11ee-91d3-0242ac120006-2-c4f6-a432",
       "previous": "b9a7b7fa-88fa-11ee-91d3-0242ac120006-3-6ee9-b04b-595c"
      },
      {
       "current": "b9a7b872-88fa-11ee-91d3-0242ac120006-4-18f7-bc0f-0dc3-cb8d",
       "next": "48b5e322-88fb-11ee-91d3-0242ac120006-3-c4f6-a432-c506",
       "previous": "b9a7b7fa-88fa-11ee-91d3-0242ac120006-4-6ee9-b04b-595c-df9c"
      }
     ],
     "next": "48b5e322-88fb-11ee-91d3-0242ac120006-4-c4f6-a432-c506-0274",
     "previous": "b9a7b7fa-88fa-11ee-91d3-0242ac120006-5-6ee9-b04b-595c-df9c-ba0c"
    }
   },
   "outputs": [],
   "source": [
    "!ansible -b -m shell -a \"podman pull $prometheus --authfile /etc/ceph/podman-auth.json\" ceph_nodes"
   ]
  },
  {
   "cell_type": "code",
   "execution_count": null,
   "metadata": {
    "lc_cell_meme": {
     "current": "48b5e322-88fb-11ee-91d3-0242ac120006-4-c4f6-a432-c506-0274",
     "history": [
      {
       "current": "48b5e322-88fb-11ee-91d3-0242ac120006",
       "next": "48b5e39a-88fb-11ee-91d3-0242ac120006",
       "previous": "48b5e1c4-88fb-11ee-91d3-0242ac120006"
      },
      {
       "current": "48b5e322-88fb-11ee-91d3-0242ac120006-1-c4f6",
       "next": "48b5e39a-88fb-11ee-91d3-0242ac120006",
       "previous": "b9a7b872-88fa-11ee-91d3-0242ac120006"
      },
      {
       "current": "48b5e322-88fb-11ee-91d3-0242ac120006-2-c4f6-a432",
       "next": "48b5e39a-88fb-11ee-91d3-0242ac120006-1-1415",
       "previous": "b9a7b872-88fa-11ee-91d3-0242ac120006-1-18f7"
      },
      {
       "current": "48b5e322-88fb-11ee-91d3-0242ac120006-3-c4f6-a432-c506",
       "next": "48b5e39a-88fb-11ee-91d3-0242ac120006-2-1415-6e8c",
       "previous": "b9a7b872-88fa-11ee-91d3-0242ac120006-2-18f7-bc0f"
      },
      {
       "current": "48b5e322-88fb-11ee-91d3-0242ac120006-4-c4f6-a432-c506-0274",
       "next": "48b5e39a-88fb-11ee-91d3-0242ac120006-3-1415-6e8c-7976",
       "previous": "b9a7b872-88fa-11ee-91d3-0242ac120006-3-18f7-bc0f-0dc3"
      }
     ],
     "next": "48b5e39a-88fb-11ee-91d3-0242ac120006-4-1415-6e8c-7976-20e4",
     "previous": "b9a7b872-88fa-11ee-91d3-0242ac120006-4-18f7-bc0f-0dc3-cb8d"
    },
    "scrolled": true
   },
   "outputs": [],
   "source": [
    "!ansible -b -m shell -a \"podman pull $alertmanager --authfile /etc/ceph/podman-auth.json\" ceph_nodes"
   ]
  },
  {
   "cell_type": "code",
   "execution_count": null,
   "metadata": {
    "lc_cell_meme": {
     "current": "48b5e39a-88fb-11ee-91d3-0242ac120006-4-1415-6e8c-7976-20e4",
     "history": [
      {
       "current": "48b5e39a-88fb-11ee-91d3-0242ac120006",
       "next": "48b5e3f4-88fb-11ee-91d3-0242ac120006",
       "previous": "48b5e322-88fb-11ee-91d3-0242ac120006"
      },
      {
       "current": "48b5e39a-88fb-11ee-91d3-0242ac120006-1-1415",
       "next": "48b5e1c4-88fb-11ee-91d3-0242ac120006",
       "previous": "48b5e322-88fb-11ee-91d3-0242ac120006"
      },
      {
       "current": "48b5e39a-88fb-11ee-91d3-0242ac120006-2-1415-6e8c",
       "next": "48b5e1c4-88fb-11ee-91d3-0242ac120006-1-8894",
       "previous": "48b5e322-88fb-11ee-91d3-0242ac120006-1-c4f6"
      },
      {
       "current": "48b5e39a-88fb-11ee-91d3-0242ac120006-3-1415-6e8c-7976",
       "next": "48b5e1c4-88fb-11ee-91d3-0242ac120006-2-8894-df18",
       "previous": "48b5e322-88fb-11ee-91d3-0242ac120006-2-c4f6-a432"
      },
      {
       "current": "48b5e39a-88fb-11ee-91d3-0242ac120006-4-1415-6e8c-7976-20e4",
       "next": "48b5e1c4-88fb-11ee-91d3-0242ac120006-3-8894-df18-5945",
       "previous": "48b5e322-88fb-11ee-91d3-0242ac120006-3-c4f6-a432-c506"
      }
     ],
     "next": "48b5e1c4-88fb-11ee-91d3-0242ac120006-4-8894-df18-5945-0406",
     "previous": "48b5e322-88fb-11ee-91d3-0242ac120006-4-c4f6-a432-c506-0274"
    },
    "scrolled": true
   },
   "outputs": [],
   "source": [
    "!ansible -b -m shell -a \"podman pull $node_exporter --authfile /etc/ceph/podman-auth.json\" ceph_nodes"
   ]
  },
  {
   "cell_type": "code",
   "execution_count": null,
   "metadata": {
    "lc_cell_meme": {
     "current": "48b5e1c4-88fb-11ee-91d3-0242ac120006-4-8894-df18-5945-0406",
     "history": [
      {
       "current": "48b5e1c4-88fb-11ee-91d3-0242ac120006",
       "next": "48b5e322-88fb-11ee-91d3-0242ac120006",
       "previous": "b9a7b872-88fa-11ee-91d3-0242ac120006"
      },
      {
       "current": "48b5e1c4-88fb-11ee-91d3-0242ac120006-1-8894",
       "next": "48b5e3f4-88fb-11ee-91d3-0242ac120006",
       "previous": "48b5e39a-88fb-11ee-91d3-0242ac120006"
      },
      {
       "current": "48b5e1c4-88fb-11ee-91d3-0242ac120006-2-8894-df18",
       "next": "48b5e3f4-88fb-11ee-91d3-0242ac120006-1-eb9a",
       "previous": "48b5e39a-88fb-11ee-91d3-0242ac120006-1-1415"
      },
      {
       "current": "48b5e1c4-88fb-11ee-91d3-0242ac120006-3-8894-df18-5945",
       "next": "48b5e3f4-88fb-11ee-91d3-0242ac120006-2-eb9a-8535",
       "previous": "48b5e39a-88fb-11ee-91d3-0242ac120006-2-1415-6e8c"
      },
      {
       "current": "48b5e1c4-88fb-11ee-91d3-0242ac120006-4-8894-df18-5945-0406",
       "next": "48b5e3f4-88fb-11ee-91d3-0242ac120006-3-eb9a-8535-3705",
       "previous": "48b5e39a-88fb-11ee-91d3-0242ac120006-3-1415-6e8c-7976"
      }
     ],
     "next": "48b5e3f4-88fb-11ee-91d3-0242ac120006-4-eb9a-8535-3705-371b",
     "previous": "48b5e39a-88fb-11ee-91d3-0242ac120006-4-1415-6e8c-7976-20e4"
    },
    "scrolled": true
   },
   "outputs": [],
   "source": [
    "!ansible -b -m shell -a \"podman pull $grafana --authfile /etc/ceph/podman-auth.json\" ceph_nodes"
   ]
  },
  {
   "cell_type": "code",
   "execution_count": null,
   "metadata": {
    "lc_cell_meme": {
     "current": "48b5e3f4-88fb-11ee-91d3-0242ac120006-4-eb9a-8535-3705-371b",
     "history": [
      {
       "current": "48b5e3f4-88fb-11ee-91d3-0242ac120006",
       "next": "48b5e44e-88fb-11ee-91d3-0242ac120006",
       "previous": "48b5e39a-88fb-11ee-91d3-0242ac120006"
      },
      {
       "current": "48b5e3f4-88fb-11ee-91d3-0242ac120006",
       "next": "48b5e44e-88fb-11ee-91d3-0242ac120006-1-0f06",
       "previous": "48b5e39a-88fb-11ee-91d3-0242ac120006"
      },
      {
       "current": "48b5e3f4-88fb-11ee-91d3-0242ac120006-1-eb9a",
       "next": "48b5e44e-88fb-11ee-91d3-0242ac120006-1-0f06",
       "previous": "48b5e1c4-88fb-11ee-91d3-0242ac120006"
      },
      {
       "current": "48b5e3f4-88fb-11ee-91d3-0242ac120006-2-eb9a-8535",
       "next": "48b5e44e-88fb-11ee-91d3-0242ac120006-2-0f06-e879",
       "previous": "48b5e1c4-88fb-11ee-91d3-0242ac120006-1-8894"
      },
      {
       "current": "48b5e3f4-88fb-11ee-91d3-0242ac120006-3-eb9a-8535-3705",
       "next": "48b5e44e-88fb-11ee-91d3-0242ac120006-3-0f06-e879-b8dd",
       "previous": "48b5e1c4-88fb-11ee-91d3-0242ac120006-2-8894-df18"
      },
      {
       "current": "48b5e3f4-88fb-11ee-91d3-0242ac120006-4-eb9a-8535-3705-371b",
       "next": "48b5e44e-88fb-11ee-91d3-0242ac120006-4-0f06-e879-b8dd-b5a2",
       "previous": "48b5e1c4-88fb-11ee-91d3-0242ac120006-3-8894-df18-5945"
      }
     ],
     "next": "48b5e44e-88fb-11ee-91d3-0242ac120006-5-0f06-e879-b8dd-b5a2-6f40",
     "previous": "48b5e1c4-88fb-11ee-91d3-0242ac120006-4-8894-df18-5945-0406"
    },
    "scrolled": true
   },
   "outputs": [],
   "source": [
    "!ansible -b -m shell -a \"podman images\" ceph_nodes"
   ]
  },
  {
   "cell_type": "markdown",
   "metadata": {
    "lc_cell_meme": {
     "current": "48b5e44e-88fb-11ee-91d3-0242ac120006-5-0f06-e879-b8dd-b5a2-6f40",
     "history": [
      {
       "current": "48b5e44e-88fb-11ee-91d3-0242ac120006-2-0f06-e879",
       "next": "b9a7b8e0-88fa-11ee-91d3-0242ac120006",
       "previous": "48b5e3f4-88fb-11ee-91d3-0242ac120006"
      },
      {
       "current": "48b5e44e-88fb-11ee-91d3-0242ac120006-3-0f06-e879-b8dd",
       "next": "b9a7b8e0-88fa-11ee-91d3-0242ac120006-1-6f39",
       "previous": "48b5e3f4-88fb-11ee-91d3-0242ac120006-1-eb9a"
      },
      {
       "current": "48b5e44e-88fb-11ee-91d3-0242ac120006-4-0f06-e879-b8dd-b5a2",
       "next": "b9a7b8e0-88fa-11ee-91d3-0242ac120006-2-6f39-840e",
       "previous": "48b5e3f4-88fb-11ee-91d3-0242ac120006-2-eb9a-8535"
      },
      {
       "current": "48b5e44e-88fb-11ee-91d3-0242ac120006-5-0f06-e879-b8dd-b5a2-6f40",
       "next": "b9a7b8e0-88fa-11ee-91d3-0242ac120006-3-6f39-840e-672d",
       "previous": "48b5e3f4-88fb-11ee-91d3-0242ac120006-3-eb9a-8535-3705"
      }
     ],
     "next": "b9a7b8e0-88fa-11ee-91d3-0242ac120006-4-6f39-840e-672d-87b3",
     "previous": "48b5e3f4-88fb-11ee-91d3-0242ac120006-4-eb9a-8535-3705-371b"
    }
   },
   "source": [
    "# 更新イメージでのコンテナ再構築"
   ]
  },
  {
   "cell_type": "code",
   "execution_count": null,
   "metadata": {
    "lc_cell_meme": {
     "current": "b9a7b8e0-88fa-11ee-91d3-0242ac120006-4-6f39-840e-672d-87b3",
     "history": [
      {
       "current": "b9a7b8e0-88fa-11ee-91d3-0242ac120006",
       "next": "78904b42-8765-11ee-91d3-0242ac120006",
       "previous": "b9a7b872-88fa-11ee-91d3-0242ac120006"
      },
      {
       "current": "b9a7b8e0-88fa-11ee-91d3-0242ac120006",
       "next": "78904b42-8765-11ee-91d3-0242ac120006",
       "previous": "48b5e44e-88fb-11ee-91d3-0242ac120006"
      },
      {
       "current": "b9a7b8e0-88fa-11ee-91d3-0242ac120006",
       "next": "904013d4-88fb-11ee-91d3-0242ac120006",
       "previous": "48b5e44e-88fb-11ee-91d3-0242ac120006-1-0f06"
      },
      {
       "current": "b9a7b8e0-88fa-11ee-91d3-0242ac120006",
       "next": "90401596-88fb-11ee-91d3-0242ac120006",
       "previous": "48b5e44e-88fb-11ee-91d3-0242ac120006-1-0f06"
      },
      {
       "current": "b9a7b8e0-88fa-11ee-91d3-0242ac120006",
       "next": "66d8d0c0-88fc-11ee-91d3-0242ac120006",
       "previous": "48b5e44e-88fb-11ee-91d3-0242ac120006-1-0f06"
      },
      {
       "current": "b9a7b8e0-88fa-11ee-91d3-0242ac120006-1-6f39",
       "next": "90401596-88fb-11ee-91d3-0242ac120006",
       "previous": "48b5e44e-88fb-11ee-91d3-0242ac120006-1-0f06"
      },
      {
       "current": "b9a7b8e0-88fa-11ee-91d3-0242ac120006-2-6f39-840e",
       "next": "90401596-88fb-11ee-91d3-0242ac120006-1-e7d9",
       "previous": "48b5e44e-88fb-11ee-91d3-0242ac120006-2-0f06-e879"
      },
      {
       "current": "b9a7b8e0-88fa-11ee-91d3-0242ac120006-3-6f39-840e-672d",
       "next": "90401596-88fb-11ee-91d3-0242ac120006-2-e7d9-f6e5",
       "previous": "48b5e44e-88fb-11ee-91d3-0242ac120006-3-0f06-e879-b8dd"
      },
      {
       "current": "b9a7b8e0-88fa-11ee-91d3-0242ac120006-4-6f39-840e-672d-87b3",
       "next": "90401596-88fb-11ee-91d3-0242ac120006-3-e7d9-f6e5-2a21",
       "previous": "48b5e44e-88fb-11ee-91d3-0242ac120006-4-0f06-e879-b8dd-b5a2"
      }
     ],
     "next": "90401596-88fb-11ee-91d3-0242ac120006-4-e7d9-f6e5-2a21-fc4a",
     "previous": "48b5e44e-88fb-11ee-91d3-0242ac120006-5-0f06-e879-b8dd-b5a2-6f40"
    }
   },
   "outputs": [],
   "source": [
    "!ansible -b -m shell -a 'cephadm shell -- ceph orch redeploy prometheus 2> /dev/null' bootstrap"
   ]
  },
  {
   "cell_type": "code",
   "execution_count": null,
   "metadata": {
    "lc_cell_meme": {
     "current": "90401596-88fb-11ee-91d3-0242ac120006-4-e7d9-f6e5-2a21-fc4a",
     "history": [
      {
       "current": "90401596-88fb-11ee-91d3-0242ac120006",
       "next": "9040164a-88fb-11ee-91d3-0242ac120006",
       "previous": "904013d4-88fb-11ee-91d3-0242ac120006"
      },
      {
       "current": "90401596-88fb-11ee-91d3-0242ac120006",
       "next": "904013d4-88fb-11ee-91d3-0242ac120006",
       "previous": "b9a7b8e0-88fa-11ee-91d3-0242ac120006"
      },
      {
       "current": "90401596-88fb-11ee-91d3-0242ac120006",
       "next": "66d8d296-88fc-11ee-91d3-0242ac120006",
       "previous": "66d8d0c0-88fc-11ee-91d3-0242ac120006"
      },
      {
       "current": "90401596-88fb-11ee-91d3-0242ac120006-1-e7d9",
       "next": "904013d4-88fb-11ee-91d3-0242ac120006",
       "previous": "b9a7b8e0-88fa-11ee-91d3-0242ac120006"
      },
      {
       "current": "90401596-88fb-11ee-91d3-0242ac120006-2-e7d9-f6e5",
       "next": "904013d4-88fb-11ee-91d3-0242ac120006-1-e858",
       "previous": "b9a7b8e0-88fa-11ee-91d3-0242ac120006-1-6f39"
      },
      {
       "current": "90401596-88fb-11ee-91d3-0242ac120006-3-e7d9-f6e5-2a21",
       "next": "904013d4-88fb-11ee-91d3-0242ac120006-2-e858-02a1",
       "previous": "b9a7b8e0-88fa-11ee-91d3-0242ac120006-2-6f39-840e"
      },
      {
       "current": "90401596-88fb-11ee-91d3-0242ac120006-4-e7d9-f6e5-2a21-fc4a",
       "next": "904013d4-88fb-11ee-91d3-0242ac120006-3-e858-02a1-b888",
       "previous": "b9a7b8e0-88fa-11ee-91d3-0242ac120006-3-6f39-840e-672d"
      }
     ],
     "next": "904013d4-88fb-11ee-91d3-0242ac120006-4-e858-02a1-b888-34f3",
     "previous": "b9a7b8e0-88fa-11ee-91d3-0242ac120006-4-6f39-840e-672d-87b3"
    }
   },
   "outputs": [],
   "source": [
    "!ansible -b -m shell -a 'cephadm shell -- ceph orch redeploy alertmanager 2> /dev/null' bootstrap"
   ]
  },
  {
   "cell_type": "code",
   "execution_count": null,
   "metadata": {
    "lc_cell_meme": {
     "current": "904013d4-88fb-11ee-91d3-0242ac120006-4-e858-02a1-b888-34f3",
     "history": [
      {
       "current": "904013d4-88fb-11ee-91d3-0242ac120006",
       "next": "90401596-88fb-11ee-91d3-0242ac120006",
       "previous": "b9a7b8e0-88fa-11ee-91d3-0242ac120006"
      },
      {
       "current": "904013d4-88fb-11ee-91d3-0242ac120006",
       "next": "9040164a-88fb-11ee-91d3-0242ac120006",
       "previous": "90401596-88fb-11ee-91d3-0242ac120006"
      },
      {
       "current": "904013d4-88fb-11ee-91d3-0242ac120006",
       "next": "66d8d340-88fc-11ee-91d3-0242ac120006",
       "previous": "66d8d296-88fc-11ee-91d3-0242ac120006"
      },
      {
       "current": "904013d4-88fb-11ee-91d3-0242ac120006-1-e858",
       "next": "9040164a-88fb-11ee-91d3-0242ac120006",
       "previous": "90401596-88fb-11ee-91d3-0242ac120006"
      },
      {
       "current": "904013d4-88fb-11ee-91d3-0242ac120006-2-e858-02a1",
       "next": "9040164a-88fb-11ee-91d3-0242ac120006-1-e8e8",
       "previous": "90401596-88fb-11ee-91d3-0242ac120006-1-e7d9"
      },
      {
       "current": "904013d4-88fb-11ee-91d3-0242ac120006-3-e858-02a1-b888",
       "next": "9040164a-88fb-11ee-91d3-0242ac120006-2-e8e8-2d59",
       "previous": "90401596-88fb-11ee-91d3-0242ac120006-2-e7d9-f6e5"
      },
      {
       "current": "904013d4-88fb-11ee-91d3-0242ac120006-4-e858-02a1-b888-34f3",
       "next": "9040164a-88fb-11ee-91d3-0242ac120006-3-e8e8-2d59-0fbf",
       "previous": "90401596-88fb-11ee-91d3-0242ac120006-3-e7d9-f6e5-2a21"
      }
     ],
     "next": "9040164a-88fb-11ee-91d3-0242ac120006-4-e8e8-2d59-0fbf-0bee",
     "previous": "90401596-88fb-11ee-91d3-0242ac120006-4-e7d9-f6e5-2a21-fc4a"
    }
   },
   "outputs": [],
   "source": [
    "!ansible -b -m shell -a 'cephadm shell -- ceph orch redeploy node-exporter 2> /dev/null' bootstrap"
   ]
  },
  {
   "cell_type": "code",
   "execution_count": null,
   "metadata": {
    "lc_cell_meme": {
     "current": "9040164a-88fb-11ee-91d3-0242ac120006-4-e8e8-2d59-0fbf-0bee",
     "history": [
      {
       "current": "9040164a-88fb-11ee-91d3-0242ac120006",
       "next": "904016cc-88fb-11ee-91d3-0242ac120006",
       "previous": "90401596-88fb-11ee-91d3-0242ac120006"
      },
      {
       "current": "9040164a-88fb-11ee-91d3-0242ac120006",
       "next": "35c581ba-55a3-11e7-b0b2-00163e9c0e35-3-f60b-133a-40ef",
       "previous": "904013d4-88fb-11ee-91d3-0242ac120006"
      },
      {
       "current": "9040164a-88fb-11ee-91d3-0242ac120006",
       "next": "66d8d3b8-88fc-11ee-91d3-0242ac120006",
       "previous": "66d8d340-88fc-11ee-91d3-0242ac120006"
      },
      {
       "current": "9040164a-88fb-11ee-91d3-0242ac120006-1-e8e8",
       "next": "35c581ba-55a3-11e7-b0b2-00163e9c0e35-3-f60b-133a-40ef",
       "previous": "904013d4-88fb-11ee-91d3-0242ac120006"
      },
      {
       "current": "9040164a-88fb-11ee-91d3-0242ac120006-2-e8e8-2d59",
       "next": "35c581ba-55a3-11e7-b0b2-00163e9c0e35-4-f60b-133a-40ef-6be0",
       "previous": "904013d4-88fb-11ee-91d3-0242ac120006-1-e858"
      },
      {
       "current": "9040164a-88fb-11ee-91d3-0242ac120006-3-e8e8-2d59-0fbf",
       "next": "35c581ba-55a3-11e7-b0b2-00163e9c0e35-5-f60b-133a-40ef-6be0-83d7",
       "previous": "904013d4-88fb-11ee-91d3-0242ac120006-2-e858-02a1"
      },
      {
       "current": "9040164a-88fb-11ee-91d3-0242ac120006-4-e8e8-2d59-0fbf-0bee",
       "next": "35c581ba-55a3-11e7-b0b2-00163e9c0e35-6-f60b-133a-40ef-6be0-83d7-0d11",
       "previous": "904013d4-88fb-11ee-91d3-0242ac120006-3-e858-02a1-b888"
      }
     ],
     "next": "35c581ba-55a3-11e7-b0b2-00163e9c0e35-7-f60b-133a-40ef-6be0-83d7-0d11-f284",
     "previous": "904013d4-88fb-11ee-91d3-0242ac120006-4-e858-02a1-b888-34f3"
    }
   },
   "outputs": [],
   "source": [
    "!ansible -b -m shell -a 'cephadm shell -- ceph orch redeploy grafana 2> /dev/null' bootstrap"
   ]
  },
  {
   "cell_type": "markdown",
   "metadata": {
    "collapsed": true,
    "lc_cell_meme": {
     "current": "35c581ba-55a3-11e7-b0b2-00163e9c0e35-7-f60b-133a-40ef-6be0-83d7-0d11-f284",
     "history": [
      {
       "current": "35c581ba-55a3-11e7-b0b2-00163e9c0e35",
       "next": "35c58340-55a3-11e7-b0b2-00163e9c0e35",
       "previous": "35c58034-55a3-11e7-b0b2-00163e9c0e35"
      },
      {
       "current": "35c581ba-55a3-11e7-b0b2-00163e9c0e35",
       "next": "35c58340-55a3-11e7-b0b2-00163e9c0e35",
       "previous": "35c51928-55a3-11e7-b0b2-00163e9c0e35"
      },
      {
       "current": "35c581ba-55a3-11e7-b0b2-00163e9c0e35",
       "next": "35c58340-55a3-11e7-b0b2-00163e9c0e35",
       "previous": "277a614c-47b9-11ea-a028-0242ac120005"
      },
      {
       "current": "35c581ba-55a3-11e7-b0b2-00163e9c0e35",
       "next": "35c58340-55a3-11e7-b0b2-00163e9c0e35",
       "previous": "35c51928-55a3-11e7-b0b2-00163e9c0e35"
      },
      {
       "current": "35c581ba-55a3-11e7-b0b2-00163e9c0e35",
       "next": "35c58340-55a3-11e7-b0b2-00163e9c0e35",
       "previous": "b8a85906-47b6-11ea-a028-0242ac120005"
      },
      {
       "current": "35c581ba-55a3-11e7-b0b2-00163e9c0e35",
       "next": "35c58340-55a3-11e7-b0b2-00163e9c0e35",
       "previous": "35c38fae-55a3-11e7-b0b2-00163e9c0e35"
      },
      {
       "current": "35c581ba-55a3-11e7-b0b2-00163e9c0e35",
       "next": "35c58340-55a3-11e7-b0b2-00163e9c0e35",
       "previous": "35c385a4-55a3-11e7-b0b2-00163e9c0e35"
      },
      {
       "current": "35c581ba-55a3-11e7-b0b2-00163e9c0e35",
       "next": "35c58340-55a3-11e7-b0b2-00163e9c0e35",
       "previous": "27c39180-935b-11ea-8d02-0242ac120007"
      },
      {
       "current": "35c581ba-55a3-11e7-b0b2-00163e9c0e35",
       "next": "35c58340-55a3-11e7-b0b2-00163e9c0e35",
       "previous": "35c385a4-55a3-11e7-b0b2-00163e9c0e35"
      },
      {
       "current": "35c581ba-55a3-11e7-b0b2-00163e9c0e35",
       "next": "35c58340-55a3-11e7-b0b2-00163e9c0e35",
       "previous": "b20d6ace-9684-11ea-8d02-0242ac120007"
      },
      {
       "current": "35c581ba-55a3-11e7-b0b2-00163e9c0e35",
       "next": "35c58340-55a3-11e7-b0b2-00163e9c0e35",
       "previous": "18b837c6-9686-11ea-8d02-0242ac120007"
      },
      {
       "current": "35c581ba-55a3-11e7-b0b2-00163e9c0e35",
       "next": "35c58340-55a3-11e7-b0b2-00163e9c0e35",
       "previous": "59de09f6-9686-11ea-8d02-0242ac120007"
      },
      {
       "current": "35c581ba-55a3-11e7-b0b2-00163e9c0e35",
       "next": "35c58340-55a3-11e7-b0b2-00163e9c0e35",
       "previous": "7dae8b30-9686-11ea-8d02-0242ac120007"
      },
      {
       "current": "35c581ba-55a3-11e7-b0b2-00163e9c0e35",
       "next": "35c58340-55a3-11e7-b0b2-00163e9c0e35",
       "previous": "789942dc-9692-11ea-8d02-0242ac120007"
      },
      {
       "current": "35c581ba-55a3-11e7-b0b2-00163e9c0e35",
       "next": "35c58340-55a3-11e7-b0b2-00163e9c0e35",
       "previous": "e95d003a-9697-11ea-8d02-0242ac120007"
      },
      {
       "current": "35c581ba-55a3-11e7-b0b2-00163e9c0e35",
       "next": "35c58340-55a3-11e7-b0b2-00163e9c0e35",
       "previous": "357fc83a-969d-11ea-8d02-0242ac120007"
      },
      {
       "current": "35c581ba-55a3-11e7-b0b2-00163e9c0e35",
       "next": "35c58340-55a3-11e7-b0b2-00163e9c0e35",
       "previous": "7dae86da-9686-11ea-8d02-0242ac120007"
      },
      {
       "current": "35c581ba-55a3-11e7-b0b2-00163e9c0e35",
       "next": "35c58340-55a3-11e7-b0b2-00163e9c0e35",
       "previous": "49102d8c-98a9-11ea-8d02-0242ac120007"
      },
      {
       "current": "35c581ba-55a3-11e7-b0b2-00163e9c0e35",
       "next": "35c58340-55a3-11e7-b0b2-00163e9c0e35",
       "previous": "dbe917aa-9984-11ea-8d02-0242ac120007"
      },
      {
       "current": "35c581ba-55a3-11e7-b0b2-00163e9c0e35",
       "next": "35c58340-55a3-11e7-b0b2-00163e9c0e35",
       "previous": "f9f7c1a0-9985-11ea-8d02-0242ac120007"
      },
      {
       "current": "35c581ba-55a3-11e7-b0b2-00163e9c0e35",
       "next": "35c58340-55a3-11e7-b0b2-00163e9c0e35",
       "previous": "4180e646-9986-11ea-8d02-0242ac120007"
      },
      {
       "current": "35c581ba-55a3-11e7-b0b2-00163e9c0e35",
       "next": "35c58340-55a3-11e7-b0b2-00163e9c0e35",
       "previous": "eea7aafc-9987-11ea-8d02-0242ac120007"
      },
      {
       "current": "35c581ba-55a3-11e7-b0b2-00163e9c0e35",
       "next": "35c58340-55a3-11e7-b0b2-00163e9c0e35",
       "previous": "7db36be6-9988-11ea-8d02-0242ac120007"
      },
      {
       "current": "35c581ba-55a3-11e7-b0b2-00163e9c0e35",
       "next": "35c58340-55a3-11e7-b0b2-00163e9c0e35",
       "previous": "7db36a7e-9988-11ea-8d02-0242ac120007"
      },
      {
       "current": "35c581ba-55a3-11e7-b0b2-00163e9c0e35",
       "next": "35c58340-55a3-11e7-b0b2-00163e9c0e35",
       "previous": "f3e7d364-998e-11ea-8d02-0242ac120007"
      },
      {
       "current": "35c581ba-55a3-11e7-b0b2-00163e9c0e35-1-f60b",
       "next": "35c58340-55a3-11e7-b0b2-00163e9c0e35",
       "previous": "b0a33f46-98ce-11ea-8d02-0242ac120007"
      },
      {
       "current": "35c581ba-55a3-11e7-b0b2-00163e9c0e35-2-f60b-133a",
       "next": "35c58340-55a3-11e7-b0b2-00163e9c0e35-1-c0ce",
       "previous": "b0a33f46-98ce-11ea-8d02-0242ac120007-1-1e51"
      },
      {
       "current": "35c581ba-55a3-11e7-b0b2-00163e9c0e35-2-f60b-133a",
       "next": "35c58340-55a3-11e7-b0b2-00163e9c0e35-2-c0ce-9618",
       "previous": "b0a33f46-98ce-11ea-8d02-0242ac120007-2-1e51-b1e8"
      },
      {
       "current": "35c581ba-55a3-11e7-b0b2-00163e9c0e35-2-f60b-133a",
       "next": "35c58340-55a3-11e7-b0b2-00163e9c0e35-2-c0ce-9618",
       "previous": "d0769ffa-98bc-11ea-8d02-0242ac120007-2-9994-0723"
      },
      {
       "current": "35c581ba-55a3-11e7-b0b2-00163e9c0e35-2-f60b-133a",
       "next": "35c58340-55a3-11e7-b0b2-00163e9c0e35-2-c0ce-9618",
       "previous": "bc16cb02-dfce-11eb-b29f-0242ac120008"
      },
      {
       "current": "35c581ba-55a3-11e7-b0b2-00163e9c0e35-2-f60b-133a",
       "next": "35c58340-55a3-11e7-b0b2-00163e9c0e35-2-c0ce-9618",
       "previous": "7cf7d994-f4ea-11eb-b29f-0242ac120008"
      },
      {
       "current": "35c581ba-55a3-11e7-b0b2-00163e9c0e35-2-f60b-133a",
       "next": "35c58340-55a3-11e7-b0b2-00163e9c0e35-2-c0ce-9618",
       "previous": "204647a2-f4eb-11eb-b29f-0242ac120008"
      },
      {
       "current": "35c581ba-55a3-11e7-b0b2-00163e9c0e35-2-f60b-133a",
       "next": "35c58340-55a3-11e7-b0b2-00163e9c0e35-2-c0ce-9618",
       "previous": "798c29c4-9a06-11ec-a1da-0242ac120004"
      },
      {
       "current": "35c581ba-55a3-11e7-b0b2-00163e9c0e35-3-f60b-133a-40ef",
       "next": "35c58340-55a3-11e7-b0b2-00163e9c0e35-2-c0ce-9618",
       "previous": "204647a2-f4eb-11eb-b29f-0242ac120008"
      },
      {
       "current": "35c581ba-55a3-11e7-b0b2-00163e9c0e35-3-f60b-133a-40ef",
       "next": "35c58340-55a3-11e7-b0b2-00163e9c0e35-3-c0ce-9618-7032",
       "previous": "204647a2-f4eb-11eb-b29f-0242ac120008-1-10f9"
      },
      {
       "current": "35c581ba-55a3-11e7-b0b2-00163e9c0e35-3-f60b-133a-40ef",
       "next": "35c58340-55a3-11e7-b0b2-00163e9c0e35-3-c0ce-9618-7032",
       "previous": "3c6cb112-4bb2-11ee-89fa-0242ac120005"
      },
      {
       "current": "35c581ba-55a3-11e7-b0b2-00163e9c0e35-3-f60b-133a-40ef",
       "next": "35c58340-55a3-11e7-b0b2-00163e9c0e35-3-c0ce-9618-7032",
       "previous": "d619a970-6195-11ee-89fa-0242ac120005"
      },
      {
       "current": "35c581ba-55a3-11e7-b0b2-00163e9c0e35-3-f60b-133a-40ef",
       "next": "35c58340-55a3-11e7-b0b2-00163e9c0e35-3-c0ce-9618-7032",
       "previous": "d954180a-61bd-11ee-89fa-0242ac120005"
      },
      {
       "current": "35c581ba-55a3-11e7-b0b2-00163e9c0e35-3-f60b-133a-40ef",
       "next": "35c58340-55a3-11e7-b0b2-00163e9c0e35-3-c0ce-9618-7032",
       "previous": "8f9c98ce-716a-11ee-89fa-0242ac120005"
      },
      {
       "current": "35c581ba-55a3-11e7-b0b2-00163e9c0e35-3-f60b-133a-40ef",
       "next": "35c58340-55a3-11e7-b0b2-00163e9c0e35-3-c0ce-9618-7032",
       "previous": "3ce444ae-716c-11ee-89fa-0242ac120005"
      },
      {
       "current": "35c581ba-55a3-11e7-b0b2-00163e9c0e35-3-f60b-133a-40ef",
       "next": "35c58340-55a3-11e7-b0b2-00163e9c0e35-3-c0ce-9618-7032",
       "previous": "31f71398-7877-11ee-89fa-0242ac120005"
      },
      {
       "current": "35c581ba-55a3-11e7-b0b2-00163e9c0e35-3-f60b-133a-40ef",
       "next": "35c58340-55a3-11e7-b0b2-00163e9c0e35-3-c0ce-9618-7032",
       "previous": "8c52f84a-787a-11ee-89fa-0242ac120005"
      },
      {
       "current": "35c581ba-55a3-11e7-b0b2-00163e9c0e35-3-f60b-133a-40ef",
       "next": "35c58340-55a3-11e7-b0b2-00163e9c0e35-3-c0ce-9618-7032",
       "previous": "d15989fa-7888-11ee-89fa-0242ac120005"
      },
      {
       "current": "35c581ba-55a3-11e7-b0b2-00163e9c0e35-3-f60b-133a-40ef",
       "next": "35c58340-55a3-11e7-b0b2-00163e9c0e35-3-c0ce-9618-7032",
       "previous": "180f42ec-7d14-11ee-89fa-0242ac120005"
      },
      {
       "current": "35c581ba-55a3-11e7-b0b2-00163e9c0e35-3-f60b-133a-40ef",
       "next": "35c58340-55a3-11e7-b0b2-00163e9c0e35-3-c0ce-9618-7032",
       "previous": "d15989fa-7888-11ee-89fa-0242ac120005"
      },
      {
       "current": "35c581ba-55a3-11e7-b0b2-00163e9c0e35-3-f60b-133a-40ef",
       "next": "35c58340-55a3-11e7-b0b2-00163e9c0e35-3-c0ce-9618-7032",
       "previous": "0f18571c-7d16-11ee-89fa-0242ac120005"
      },
      {
       "current": "35c581ba-55a3-11e7-b0b2-00163e9c0e35-3-f60b-133a-40ef",
       "next": "35c58340-55a3-11e7-b0b2-00163e9c0e35-3-c0ce-9618-7032",
       "previous": "0f18571c-7d16-11ee-89fa-0242ac120005-1-6c98"
      },
      {
       "current": "35c581ba-55a3-11e7-b0b2-00163e9c0e35-3-f60b-133a-40ef",
       "next": "35c58340-55a3-11e7-b0b2-00163e9c0e35-3-c0ce-9618-7032",
       "previous": "4f25b46c-8766-11ee-91d3-0242ac120006"
      },
      {
       "current": "35c581ba-55a3-11e7-b0b2-00163e9c0e35-3-f60b-133a-40ef",
       "next": "35c58340-55a3-11e7-b0b2-00163e9c0e35-3-c0ce-9618-7032",
       "previous": "4f25b35e-8766-11ee-91d3-0242ac120006"
      },
      {
       "current": "35c581ba-55a3-11e7-b0b2-00163e9c0e35-3-f60b-133a-40ef",
       "next": "35c58340-55a3-11e7-b0b2-00163e9c0e35-3-c0ce-9618-7032",
       "previous": "42b35aae-876b-11ee-91d3-0242ac120006"
      },
      {
       "current": "35c581ba-55a3-11e7-b0b2-00163e9c0e35-3-f60b-133a-40ef",
       "next": "35c58340-55a3-11e7-b0b2-00163e9c0e35-3-c0ce-9618-7032",
       "previous": "9040164a-88fb-11ee-91d3-0242ac120006"
      },
      {
       "current": "35c581ba-55a3-11e7-b0b2-00163e9c0e35-3-f60b-133a-40ef",
       "next": "35c58340-55a3-11e7-b0b2-00163e9c0e35-3-c0ce-9618-7032",
       "previous": "66d8d3b8-88fc-11ee-91d3-0242ac120006"
      },
      {
       "current": "35c581ba-55a3-11e7-b0b2-00163e9c0e35-4-f60b-133a-40ef-6be0",
       "next": "35c58340-55a3-11e7-b0b2-00163e9c0e35-3-c0ce-9618-7032",
       "previous": "9040164a-88fb-11ee-91d3-0242ac120006"
      },
      {
       "current": "35c581ba-55a3-11e7-b0b2-00163e9c0e35-5-f60b-133a-40ef-6be0-83d7",
       "next": "35c58340-55a3-11e7-b0b2-00163e9c0e35-4-c0ce-9618-7032-e530",
       "previous": "9040164a-88fb-11ee-91d3-0242ac120006-1-e8e8"
      },
      {
       "current": "35c581ba-55a3-11e7-b0b2-00163e9c0e35-6-f60b-133a-40ef-6be0-83d7-0d11",
       "next": "35c58340-55a3-11e7-b0b2-00163e9c0e35-5-c0ce-9618-7032-e530-07d4",
       "previous": "9040164a-88fb-11ee-91d3-0242ac120006-2-e8e8-2d59"
      },
      {
       "current": "35c581ba-55a3-11e7-b0b2-00163e9c0e35-7-f60b-133a-40ef-6be0-83d7-0d11-f284",
       "next": "35c58340-55a3-11e7-b0b2-00163e9c0e35-6-c0ce-9618-7032-e530-07d4-a4b9",
       "previous": "9040164a-88fb-11ee-91d3-0242ac120006-3-e8e8-2d59-0fbf"
      }
     ],
     "next": "35c58340-55a3-11e7-b0b2-00163e9c0e35-7-c0ce-9618-7032-e530-07d4-a4b9-3c30",
     "previous": "9040164a-88fb-11ee-91d3-0242ac120006-4-e8e8-2d59-0fbf-0bee"
    }
   },
   "source": [
    "# 後始末\n",
    "\n",
    "一時ディレクトリを削除する。"
   ]
  },
  {
   "cell_type": "code",
   "execution_count": null,
   "metadata": {
    "ExecuteTime": {
     "end_time": "2017-06-29T08:01:20.617274Z",
     "start_time": "2017-06-29T08:01:20.466671Z"
    },
    "lc_cell_meme": {
     "current": "35c58340-55a3-11e7-b0b2-00163e9c0e35-7-c0ce-9618-7032-e530-07d4-a4b9-3c30",
     "history": [
      {
       "current": "35c58340-55a3-11e7-b0b2-00163e9c0e35",
       "next": null,
       "previous": "35c581ba-55a3-11e7-b0b2-00163e9c0e35"
      },
      {
       "current": "35c58340-55a3-11e7-b0b2-00163e9c0e35-1-c0ce",
       "next": "c4bd8ce4-5749-11e7-b0b2-00163e9c0e35",
       "previous": "35c581ba-55a3-11e7-b0b2-00163e9c0e35"
      },
      {
       "current": "35c58340-55a3-11e7-b0b2-00163e9c0e35-2-c0ce-9618",
       "next": "c4bd8ce4-5749-11e7-b0b2-00163e9c0e35-1-6c35",
       "previous": "35c581ba-55a3-11e7-b0b2-00163e9c0e35-1-f60b"
      },
      {
       "current": "35c58340-55a3-11e7-b0b2-00163e9c0e35-3-c0ce-9618-7032",
       "next": "c4bd8ce4-5749-11e7-b0b2-00163e9c0e35-2-6c35-ebfb",
       "previous": "35c581ba-55a3-11e7-b0b2-00163e9c0e35-2-f60b-133a"
      },
      {
       "current": "35c58340-55a3-11e7-b0b2-00163e9c0e35-4-c0ce-9618-7032-e530",
       "next": "c4bd8ce4-5749-11e7-b0b2-00163e9c0e35-3-6c35-ebfb-793f",
       "previous": "35c581ba-55a3-11e7-b0b2-00163e9c0e35-3-f60b-133a-40ef"
      },
      {
       "current": "35c58340-55a3-11e7-b0b2-00163e9c0e35-5-c0ce-9618-7032-e530-07d4",
       "next": "c4bd8ce4-5749-11e7-b0b2-00163e9c0e35-4-6c35-ebfb-793f-246d",
       "previous": "35c581ba-55a3-11e7-b0b2-00163e9c0e35-4-f60b-133a-40ef-6be0"
      },
      {
       "current": "35c58340-55a3-11e7-b0b2-00163e9c0e35-6-c0ce-9618-7032-e530-07d4-a4b9",
       "next": "c4bd8ce4-5749-11e7-b0b2-00163e9c0e35-5-6c35-ebfb-793f-246d-4e5e",
       "previous": "35c581ba-55a3-11e7-b0b2-00163e9c0e35-5-f60b-133a-40ef-6be0-83d7"
      },
      {
       "current": "35c58340-55a3-11e7-b0b2-00163e9c0e35-7-c0ce-9618-7032-e530-07d4-a4b9-3c30",
       "next": "c4bd8ce4-5749-11e7-b0b2-00163e9c0e35-6-6c35-ebfb-793f-246d-4e5e-d5f3",
       "previous": "35c581ba-55a3-11e7-b0b2-00163e9c0e35-6-f60b-133a-40ef-6be0-83d7-0d11"
      }
     ],
     "next": "c4bd8ce4-5749-11e7-b0b2-00163e9c0e35-7-6c35-ebfb-793f-246d-4e5e-d5f3-3090",
     "previous": "35c581ba-55a3-11e7-b0b2-00163e9c0e35-7-f60b-133a-40ef-6be0-83d7-0d11-f284"
    }
   },
   "outputs": [],
   "source": [
    "!rm -fr $temp_dir"
   ]
  },
  {
   "cell_type": "code",
   "execution_count": null,
   "metadata": {
    "lc_cell_meme": {
     "current": "c4bd8ce4-5749-11e7-b0b2-00163e9c0e35-7-6c35-ebfb-793f-246d-4e5e-d5f3-3090",
     "history": [
      {
       "current": "c4bd8ce4-5749-11e7-b0b2-00163e9c0e35-1-6c35",
       "next": null,
       "previous": "35c58340-55a3-11e7-b0b2-00163e9c0e35"
      },
      {
       "current": "c4bd8ce4-5749-11e7-b0b2-00163e9c0e35-2-6c35-ebfb",
       "next": null,
       "previous": "35c58340-55a3-11e7-b0b2-00163e9c0e35-1-c0ce"
      },
      {
       "current": "c4bd8ce4-5749-11e7-b0b2-00163e9c0e35-3-6c35-ebfb-793f",
       "next": null,
       "previous": "35c58340-55a3-11e7-b0b2-00163e9c0e35-2-c0ce-9618"
      },
      {
       "current": "c4bd8ce4-5749-11e7-b0b2-00163e9c0e35-4-6c35-ebfb-793f-246d",
       "next": null,
       "previous": "35c58340-55a3-11e7-b0b2-00163e9c0e35-3-c0ce-9618-7032"
      },
      {
       "current": "c4bd8ce4-5749-11e7-b0b2-00163e9c0e35-5-6c35-ebfb-793f-246d-4e5e",
       "next": null,
       "previous": "35c58340-55a3-11e7-b0b2-00163e9c0e35-4-c0ce-9618-7032-e530"
      },
      {
       "current": "c4bd8ce4-5749-11e7-b0b2-00163e9c0e35-6-6c35-ebfb-793f-246d-4e5e-d5f3",
       "next": null,
       "previous": "35c58340-55a3-11e7-b0b2-00163e9c0e35-5-c0ce-9618-7032-e530-07d4"
      },
      {
       "current": "c4bd8ce4-5749-11e7-b0b2-00163e9c0e35-7-6c35-ebfb-793f-246d-4e5e-d5f3-3090",
       "next": null,
       "previous": "35c58340-55a3-11e7-b0b2-00163e9c0e35-6-c0ce-9618-7032-e530-07d4-a4b9"
      }
     ],
     "next": null,
     "previous": "35c58340-55a3-11e7-b0b2-00163e9c0e35-7-c0ce-9618-7032-e530-07d4-a4b9-3c30"
    }
   },
   "outputs": [],
   "source": []
  }
 ],
 "metadata": {
  "kernelspec": {
   "display_name": "Python 3",
   "language": "python",
   "name": "python3"
  },
  "language_info": {
   "file_extension": ".py",
   "mimetype": "text/x-python",
   "name": "python",
   "nbconvert_exporter": "python",
   "pygments_lexer": "ipython3",
   "version": "3.10.4"
  },
  "lc_notebook_meme": {
   "current": "35c33086-55a3-11e7-b0b2-00163e9c0e35"
  },
  "toc": {
   "base_numbering": 1,
   "nav_menu": {
    "height": "484px",
    "width": "687px"
   },
   "number_sections": true,
   "sideBar": true,
   "skip_h1_title": false,
   "title_cell": "Table of Contents",
   "title_sidebar": "Contents",
   "toc_cell": false,
   "toc_position": {
    "height": "1156px",
    "left": "0px",
    "right": "1330px",
    "top": "106px",
    "width": "340.983px"
   },
   "toc_section_display": "block",
   "toc_window_display": true
  }
 },
 "nbformat": 4,
 "nbformat_minor": 1
}
