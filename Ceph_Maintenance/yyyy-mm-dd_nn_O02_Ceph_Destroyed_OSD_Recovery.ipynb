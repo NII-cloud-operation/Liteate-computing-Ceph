{
 "cells": [
  {
   "cell_type": "markdown",
   "metadata": {
    "collapsed": true,
    "lc_cell_meme": {
     "current": "35c33414-55a3-11e7-b0b2-00163e9c0e35-7-ffee-ac17-9684-fd8d-6b1d-7a2d-9470",
     "history": [
      {
       "current": "35c33414-55a3-11e7-b0b2-00163e9c0e35",
       "next": "35c33626-55a3-11e7-b0b2-00163e9c0e35",
       "previous": null
      },
      {
       "current": "35c33414-55a3-11e7-b0b2-00163e9c0e35",
       "next": "35c33626-55a3-11e7-b0b2-00163e9c0e35",
       "previous": null
      },
      {
       "current": "35c33414-55a3-11e7-b0b2-00163e9c0e35",
       "next": "35c33626-55a3-11e7-b0b2-00163e9c0e35",
       "previous": "0db87670-9586-11ea-8d02-0242ac120007"
      },
      {
       "current": "35c33414-55a3-11e7-b0b2-00163e9c0e35-1-ffee",
       "next": "35c337f2-55a3-11e7-b0b2-00163e9c0e35",
       "previous": null
      },
      {
       "current": "35c33414-55a3-11e7-b0b2-00163e9c0e35-2-ffee-ac17",
       "next": "35c337f2-55a3-11e7-b0b2-00163e9c0e35-1-b874",
       "previous": null
      },
      {
       "current": "35c33414-55a3-11e7-b0b2-00163e9c0e35-3-ffee-ac17-9684",
       "next": "35c337f2-55a3-11e7-b0b2-00163e9c0e35-2-b874-13f7",
       "previous": null
      },
      {
       "current": "35c33414-55a3-11e7-b0b2-00163e9c0e35-3-ffee-ac17-9684",
       "next": "35c337f2-55a3-11e7-b0b2-00163e9c0e35-3-b874-13f7-3f47",
       "previous": null
      },
      {
       "current": "35c33414-55a3-11e7-b0b2-00163e9c0e35-4-ffee-ac17-9684-fd8d",
       "next": "35c339aa-55a3-11e7-b0b2-00163e9c0e35-3-eee2-af6c-3cfe",
       "previous": null
      },
      {
       "current": "35c33414-55a3-11e7-b0b2-00163e9c0e35-5-ffee-ac17-9684-fd8d-6b1d",
       "next": "35c339aa-55a3-11e7-b0b2-00163e9c0e35-4-eee2-af6c-3cfe-967d",
       "previous": null
      },
      {
       "current": "35c33414-55a3-11e7-b0b2-00163e9c0e35-6-ffee-ac17-9684-fd8d-6b1d-7a2d",
       "next": "35c339aa-55a3-11e7-b0b2-00163e9c0e35-5-eee2-af6c-3cfe-967d-0ab0",
       "previous": null
      },
      {
       "current": "35c33414-55a3-11e7-b0b2-00163e9c0e35-7-ffee-ac17-9684-fd8d-6b1d-7a2d-9470",
       "next": "35c339aa-55a3-11e7-b0b2-00163e9c0e35-6-eee2-af6c-3cfe-967d-0ab0-1827",
       "previous": null
      }
     ],
     "next": "35c339aa-55a3-11e7-b0b2-00163e9c0e35-7-eee2-af6c-3cfe-967d-0ab0-1827-7866",
     "previous": null
    }
   },
   "source": [
    "# Cephノード構築：障害により削除したOSDを復帰させる\n",
    "HDD障害などにより削除したOSDを復帰させる。<br>\n",
    "destroyed状態になってOSDを対象とする。（replaceで削除したOSD）"
   ]
  },
  {
   "cell_type": "markdown",
   "metadata": {
    "lc_cell_meme": {
     "current": "35c339aa-55a3-11e7-b0b2-00163e9c0e35-7-eee2-af6c-3cfe-967d-0ab0-1827-7866",
     "history": [
      {
       "current": "35c339aa-55a3-11e7-b0b2-00163e9c0e35",
       "next": "35c33b6c-55a3-11e7-b0b2-00163e9c0e35",
       "previous": "35c337f2-55a3-11e7-b0b2-00163e9c0e35"
      },
      {
       "current": "35c339aa-55a3-11e7-b0b2-00163e9c0e35",
       "next": "670888aa-5722-11e7-b0b2-00163e9c0e35",
       "previous": "35c337f2-55a3-11e7-b0b2-00163e9c0e35"
      },
      {
       "current": "35c339aa-55a3-11e7-b0b2-00163e9c0e35",
       "next": "670888aa-5722-11e7-b0b2-00163e9c0e35",
       "previous": "357fc83a-969d-11ea-8d02-0242ac120007"
      },
      {
       "current": "35c339aa-55a3-11e7-b0b2-00163e9c0e35-1-eee2",
       "next": "670888aa-5722-11e7-b0b2-00163e9c0e35",
       "previous": "8a48dae0-98a1-11ea-8d02-0242ac120007"
      },
      {
       "current": "35c339aa-55a3-11e7-b0b2-00163e9c0e35-2-eee2-af6c",
       "next": "670888aa-5722-11e7-b0b2-00163e9c0e35-1-17ba",
       "previous": "8a48dae0-98a1-11ea-8d02-0242ac120007-1-4da2"
      },
      {
       "current": "35c339aa-55a3-11e7-b0b2-00163e9c0e35-2-eee2-af6c",
       "next": "670888aa-5722-11e7-b0b2-00163e9c0e35-2-17ba-53fc",
       "previous": "8a48dae0-98a1-11ea-8d02-0242ac120007-2-4da2-9c77"
      },
      {
       "current": "35c339aa-55a3-11e7-b0b2-00163e9c0e35-3-eee2-af6c-3cfe",
       "next": "670888aa-5722-11e7-b0b2-00163e9c0e35-2-17ba-53fc",
       "previous": "35c337f2-55a3-11e7-b0b2-00163e9c0e35-2-b874-13f7"
      },
      {
       "current": "35c339aa-55a3-11e7-b0b2-00163e9c0e35-3-eee2-af6c-3cfe",
       "next": "670888aa-5722-11e7-b0b2-00163e9c0e35-3-17ba-53fc-2957",
       "previous": "35c337f2-55a3-11e7-b0b2-00163e9c0e35-3-b874-13f7-3f47"
      },
      {
       "current": "35c339aa-55a3-11e7-b0b2-00163e9c0e35-4-eee2-af6c-3cfe-967d",
       "next": "670888aa-5722-11e7-b0b2-00163e9c0e35-3-17ba-53fc-2957",
       "previous": "35c33414-55a3-11e7-b0b2-00163e9c0e35-3-ffee-ac17-9684"
      },
      {
       "current": "35c339aa-55a3-11e7-b0b2-00163e9c0e35-5-eee2-af6c-3cfe-967d-0ab0",
       "next": "670888aa-5722-11e7-b0b2-00163e9c0e35-4-17ba-53fc-2957-09c9",
       "previous": "35c33414-55a3-11e7-b0b2-00163e9c0e35-4-ffee-ac17-9684-fd8d"
      },
      {
       "current": "35c339aa-55a3-11e7-b0b2-00163e9c0e35-6-eee2-af6c-3cfe-967d-0ab0-1827",
       "next": "670888aa-5722-11e7-b0b2-00163e9c0e35-5-17ba-53fc-2957-09c9-e634",
       "previous": "35c33414-55a3-11e7-b0b2-00163e9c0e35-5-ffee-ac17-9684-fd8d-6b1d"
      },
      {
       "current": "35c339aa-55a3-11e7-b0b2-00163e9c0e35-7-eee2-af6c-3cfe-967d-0ab0-1827-7866",
       "next": "670888aa-5722-11e7-b0b2-00163e9c0e35-6-17ba-53fc-2957-09c9-e634-ea6a",
       "previous": "35c33414-55a3-11e7-b0b2-00163e9c0e35-6-ffee-ac17-9684-fd8d-6b1d-7a2d"
      }
     ],
     "next": "670888aa-5722-11e7-b0b2-00163e9c0e35-7-17ba-53fc-2957-09c9-e634-ea6a-181b",
     "previous": "35c33414-55a3-11e7-b0b2-00163e9c0e35-7-ffee-ac17-9684-fd8d-6b1d-7a2d-9470"
    }
   },
   "source": [
    "# パラメータ定義"
   ]
  },
  {
   "cell_type": "markdown",
   "metadata": {
    "lc_cell_meme": {
     "current": "670888aa-5722-11e7-b0b2-00163e9c0e35-7-17ba-53fc-2957-09c9-e634-ea6a-181b",
     "history": [
      {
       "current": "670888aa-5722-11e7-b0b2-00163e9c0e35-1-17ba",
       "next": "35c33b6c-55a3-11e7-b0b2-00163e9c0e35",
       "previous": "35c339aa-55a3-11e7-b0b2-00163e9c0e35"
      },
      {
       "current": "670888aa-5722-11e7-b0b2-00163e9c0e35-2-17ba-53fc",
       "next": "35c33b6c-55a3-11e7-b0b2-00163e9c0e35-1-c84d",
       "previous": "35c339aa-55a3-11e7-b0b2-00163e9c0e35-1-eee2"
      },
      {
       "current": "670888aa-5722-11e7-b0b2-00163e9c0e35-3-17ba-53fc-2957",
       "next": "35c33b6c-55a3-11e7-b0b2-00163e9c0e35-2-c84d-3439",
       "previous": "35c339aa-55a3-11e7-b0b2-00163e9c0e35-2-eee2-af6c"
      },
      {
       "current": "670888aa-5722-11e7-b0b2-00163e9c0e35-4-17ba-53fc-2957-09c9",
       "next": "35c33b6c-55a3-11e7-b0b2-00163e9c0e35-3-c84d-3439-eddb",
       "previous": "35c339aa-55a3-11e7-b0b2-00163e9c0e35-3-eee2-af6c-3cfe"
      },
      {
       "current": "670888aa-5722-11e7-b0b2-00163e9c0e35-5-17ba-53fc-2957-09c9-e634",
       "next": "35c33b6c-55a3-11e7-b0b2-00163e9c0e35-4-c84d-3439-eddb-b829",
       "previous": "35c339aa-55a3-11e7-b0b2-00163e9c0e35-4-eee2-af6c-3cfe-967d"
      },
      {
       "current": "670888aa-5722-11e7-b0b2-00163e9c0e35-6-17ba-53fc-2957-09c9-e634-ea6a",
       "next": "35c33b6c-55a3-11e7-b0b2-00163e9c0e35-5-c84d-3439-eddb-b829-fa46",
       "previous": "35c339aa-55a3-11e7-b0b2-00163e9c0e35-5-eee2-af6c-3cfe-967d-0ab0"
      },
      {
       "current": "670888aa-5722-11e7-b0b2-00163e9c0e35-7-17ba-53fc-2957-09c9-e634-ea6a-181b",
       "next": "35c33b6c-55a3-11e7-b0b2-00163e9c0e35-6-c84d-3439-eddb-b829-fa46-7b7b",
       "previous": "35c339aa-55a3-11e7-b0b2-00163e9c0e35-6-eee2-af6c-3cfe-967d-0ab0-1827"
      }
     ],
     "next": "35c33b6c-55a3-11e7-b0b2-00163e9c0e35-7-c84d-3439-eddb-b829-fa46-7b7b-b7d0",
     "previous": "35c339aa-55a3-11e7-b0b2-00163e9c0e35-7-eee2-af6c-3cfe-967d-0ab0-1827-7866"
    }
   },
   "source": [
    "## パラメータファイル設定"
   ]
  },
  {
   "cell_type": "markdown",
   "metadata": {
    "lc_cell_meme": {
     "current": "35c33b6c-55a3-11e7-b0b2-00163e9c0e35-7-c84d-3439-eddb-b829-fa46-7b7b-b7d0",
     "history": [
      {
       "current": "35c33b6c-55a3-11e7-b0b2-00163e9c0e35",
       "next": "35c33d24-55a3-11e7-b0b2-00163e9c0e35",
       "previous": "35c339aa-55a3-11e7-b0b2-00163e9c0e35"
      },
      {
       "current": "35c33b6c-55a3-11e7-b0b2-00163e9c0e35-1-c84d",
       "next": "35c33d24-55a3-11e7-b0b2-00163e9c0e35",
       "previous": "670888aa-5722-11e7-b0b2-00163e9c0e35"
      },
      {
       "current": "35c33b6c-55a3-11e7-b0b2-00163e9c0e35-2-c84d-3439",
       "next": "35c33d24-55a3-11e7-b0b2-00163e9c0e35-1-c8d8",
       "previous": "670888aa-5722-11e7-b0b2-00163e9c0e35-1-17ba"
      },
      {
       "current": "35c33b6c-55a3-11e7-b0b2-00163e9c0e35-3-c84d-3439-eddb",
       "next": "35c33d24-55a3-11e7-b0b2-00163e9c0e35-2-c8d8-c063",
       "previous": "670888aa-5722-11e7-b0b2-00163e9c0e35-2-17ba-53fc"
      },
      {
       "current": "35c33b6c-55a3-11e7-b0b2-00163e9c0e35-4-c84d-3439-eddb-b829",
       "next": "35c33d24-55a3-11e7-b0b2-00163e9c0e35-3-c8d8-c063-e3d4",
       "previous": "670888aa-5722-11e7-b0b2-00163e9c0e35-3-17ba-53fc-2957"
      },
      {
       "current": "35c33b6c-55a3-11e7-b0b2-00163e9c0e35-5-c84d-3439-eddb-b829-fa46",
       "next": "35c33d24-55a3-11e7-b0b2-00163e9c0e35-4-c8d8-c063-e3d4-4ae9",
       "previous": "670888aa-5722-11e7-b0b2-00163e9c0e35-4-17ba-53fc-2957-09c9"
      },
      {
       "current": "35c33b6c-55a3-11e7-b0b2-00163e9c0e35-6-c84d-3439-eddb-b829-fa46-7b7b",
       "next": "6f45c382-2495-11ef-ad2f-0242ac120005",
       "previous": "670888aa-5722-11e7-b0b2-00163e9c0e35-5-17ba-53fc-2957-09c9-e634"
      },
      {
       "current": "35c33b6c-55a3-11e7-b0b2-00163e9c0e35-7-c84d-3439-eddb-b829-fa46-7b7b-b7d0",
       "next": "6f45c382-2495-11ef-ad2f-0242ac120005-1-91a0",
       "previous": "670888aa-5722-11e7-b0b2-00163e9c0e35-6-17ba-53fc-2957-09c9-e634-ea6a"
      }
     ],
     "next": "6f45c382-2495-11ef-ad2f-0242ac120005-2-91a0-20fe",
     "previous": "670888aa-5722-11e7-b0b2-00163e9c0e35-7-17ba-53fc-2957-09c9-e634-ea6a-181b"
    }
   },
   "source": [
    "Cephクラスタの定義ファイルを指定するため、<br>\n",
    "パラメータ定義格納ディレクトリを表示する。"
   ]
  },
  {
   "cell_type": "code",
   "execution_count": null,
   "metadata": {
    "lc_cell_meme": {
     "current": "6f45c382-2495-11ef-ad2f-0242ac120005-2-91a0-20fe",
     "history": [
      {
       "current": "6f45c382-2495-11ef-ad2f-0242ac120005-1-91a0",
       "next": "6f45c440-2495-11ef-ad2f-0242ac120005",
       "previous": "35c33b6c-55a3-11e7-b0b2-00163e9c0e35-5-c84d-3439-eddb-b829-fa46"
      },
      {
       "current": "6f45c382-2495-11ef-ad2f-0242ac120005-2-91a0-20fe",
       "next": "6f45c440-2495-11ef-ad2f-0242ac120005-1-5860",
       "previous": "35c33b6c-55a3-11e7-b0b2-00163e9c0e35-6-c84d-3439-eddb-b829-fa46-7b7b"
      }
     ],
     "next": "6f45c440-2495-11ef-ad2f-0242ac120005-2-5860-fd37",
     "previous": "35c33b6c-55a3-11e7-b0b2-00163e9c0e35-7-c84d-3439-eddb-b829-fa46-7b7b-b7d0"
    }
   },
   "outputs": [],
   "source": [
    "!ls -p ~/notebooks/share/ | grep \"/$\""
   ]
  },
  {
   "cell_type": "code",
   "execution_count": null,
   "metadata": {
    "lc_cell_meme": {
     "current": "6f45c440-2495-11ef-ad2f-0242ac120005-2-5860-fd37",
     "history": [
      {
       "current": "6f45c440-2495-11ef-ad2f-0242ac120005-1-5860",
       "next": "6f45c472-2495-11ef-ad2f-0242ac120005",
       "previous": "6f45c382-2495-11ef-ad2f-0242ac120005"
      },
      {
       "current": "6f45c440-2495-11ef-ad2f-0242ac120005-2-5860-fd37",
       "next": "6f45c472-2495-11ef-ad2f-0242ac120005-1-9600",
       "previous": "6f45c382-2495-11ef-ad2f-0242ac120005-1-91a0"
      }
     ],
     "next": "6f45c472-2495-11ef-ad2f-0242ac120005-2-9600-c747",
     "previous": "6f45c382-2495-11ef-ad2f-0242ac120005-2-91a0-20fe"
    }
   },
   "outputs": [],
   "source": [
    "!ls -p ~/notebooks/share/configuration"
   ]
  },
  {
   "cell_type": "code",
   "execution_count": null,
   "metadata": {
    "lc_cell_meme": {
     "current": "6f45c472-2495-11ef-ad2f-0242ac120005-2-9600-c747",
     "history": [
      {
       "current": "6f45c472-2495-11ef-ad2f-0242ac120005-1-9600",
       "next": "6f45c49a-2495-11ef-ad2f-0242ac120005",
       "previous": "6f45c440-2495-11ef-ad2f-0242ac120005"
      },
      {
       "current": "6f45c472-2495-11ef-ad2f-0242ac120005-2-9600-c747",
       "next": "6f45c49a-2495-11ef-ad2f-0242ac120005-1-2fa7",
       "previous": "6f45c440-2495-11ef-ad2f-0242ac120005-1-5860"
      }
     ],
     "next": "6f45c49a-2495-11ef-ad2f-0242ac120005-2-2fa7-bbb5",
     "previous": "6f45c440-2495-11ef-ad2f-0242ac120005-2-5860-fd37"
    }
   },
   "outputs": [],
   "source": [
    "!ls -p ~/notebooks/share/configuration/ceph"
   ]
  },
  {
   "cell_type": "code",
   "execution_count": null,
   "metadata": {
    "lc_cell_meme": {
     "current": "6f45c49a-2495-11ef-ad2f-0242ac120005-2-2fa7-bbb5",
     "history": [
      {
       "current": "6f45c49a-2495-11ef-ad2f-0242ac120005-1-2fa7",
       "next": "6f45c4b8-2495-11ef-ad2f-0242ac120005",
       "previous": "6f45c472-2495-11ef-ad2f-0242ac120005"
      },
      {
       "current": "6f45c49a-2495-11ef-ad2f-0242ac120005-2-2fa7-bbb5",
       "next": "6f45c4b8-2495-11ef-ad2f-0242ac120005-1-5575",
       "previous": "6f45c472-2495-11ef-ad2f-0242ac120005-1-9600"
      }
     ],
     "next": "6f45c4b8-2495-11ef-ad2f-0242ac120005-2-5575-4c05",
     "previous": "6f45c472-2495-11ef-ad2f-0242ac120005-2-9600-c747"
    }
   },
   "outputs": [],
   "source": [
    "import sys, os.path, importlib, json, yaml\n",
    "\n",
    "config_file_name = \"ceph_admin_vm.yml\"\n",
    "config_file_path = os.path.expanduser(\"~/notebooks/share/configuration/ceph/{}\".format(config_file_name))\n",
    "with open(config_file_path) as f:\n",
    "    admin_params = yaml.safe_load(f)\n",
    "admin_params"
   ]
  },
  {
   "cell_type": "code",
   "execution_count": null,
   "metadata": {
    "lc_cell_meme": {
     "current": "6f45c4b8-2495-11ef-ad2f-0242ac120005-2-5575-4c05",
     "history": [
      {
       "current": "6f45c4b8-2495-11ef-ad2f-0242ac120005-1-5575",
       "next": "6f45c4e0-2495-11ef-ad2f-0242ac120005",
       "previous": "6f45c49a-2495-11ef-ad2f-0242ac120005"
      },
      {
       "current": "6f45c4b8-2495-11ef-ad2f-0242ac120005-2-5575-4c05",
       "next": "6f45c4e0-2495-11ef-ad2f-0242ac120005-1-0fad",
       "previous": "6f45c49a-2495-11ef-ad2f-0242ac120005-1-2fa7"
      }
     ],
     "next": "6f45c4e0-2495-11ef-ad2f-0242ac120005-2-0fad-a675",
     "previous": "6f45c49a-2495-11ef-ad2f-0242ac120005-2-2fa7-bbb5"
    }
   },
   "outputs": [],
   "source": [
    "target_vm_name = 'xxx-ceph-admin1'\n",
    "admin_patam = admin_params[target_vm_name]\n",
    "admin_patam"
   ]
  },
  {
   "cell_type": "code",
   "execution_count": null,
   "metadata": {
    "lc_cell_meme": {
     "current": "6f45c4e0-2495-11ef-ad2f-0242ac120005-2-0fad-a675",
     "history": [
      {
       "current": "6f45c4e0-2495-11ef-ad2f-0242ac120005-1-0fad",
       "next": "6f45c4fe-2495-11ef-ad2f-0242ac120005",
       "previous": "6f45c4b8-2495-11ef-ad2f-0242ac120005"
      },
      {
       "current": "6f45c4e0-2495-11ef-ad2f-0242ac120005-2-0fad-a675",
       "next": "6f45c4fe-2495-11ef-ad2f-0242ac120005-1-1aae",
       "previous": "6f45c4b8-2495-11ef-ad2f-0242ac120005-1-5575"
      }
     ],
     "next": "6f45c4fe-2495-11ef-ad2f-0242ac120005-2-1aae-4764",
     "previous": "6f45c4b8-2495-11ef-ad2f-0242ac120005-2-5575-4c05"
    }
   },
   "outputs": [],
   "source": [
    "ceph_admin_ip = admin_patam['network']['provisioning']['ip']"
   ]
  },
  {
   "cell_type": "code",
   "execution_count": null,
   "metadata": {
    "lc_cell_meme": {
     "current": "6f45c4fe-2495-11ef-ad2f-0242ac120005-2-1aae-4764",
     "history": [
      {
       "current": "6f45c4fe-2495-11ef-ad2f-0242ac120005-1-1aae",
       "next": "6f45c51c-2495-11ef-ad2f-0242ac120005",
       "previous": "6f45c4e0-2495-11ef-ad2f-0242ac120005"
      },
      {
       "current": "6f45c4fe-2495-11ef-ad2f-0242ac120005-2-1aae-4764",
       "next": "6f45c51c-2495-11ef-ad2f-0242ac120005-1-d4c2",
       "previous": "6f45c4e0-2495-11ef-ad2f-0242ac120005-1-0fad"
      }
     ],
     "next": "6f45c51c-2495-11ef-ad2f-0242ac120005-2-d4c2-55e0",
     "previous": "6f45c4e0-2495-11ef-ad2f-0242ac120005-2-0fad-a675"
    }
   },
   "outputs": [],
   "source": [
    "import sys, os.path, importlib, json, yaml\n",
    "\n",
    "config_file_name = \"xxx-openstack-parameter.yml\"\n",
    "config_file_path = os.path.expanduser(\"~/notebooks/share/configuration/{}\".format(config_file_name))\n",
    "with open(config_file_path) as f:\n",
    "    params = yaml.safe_load(f)\n",
    "params"
   ]
  },
  {
   "cell_type": "code",
   "execution_count": null,
   "metadata": {
    "lc_cell_meme": {
     "current": "6f45c51c-2495-11ef-ad2f-0242ac120005-2-d4c2-55e0",
     "history": [
      {
       "current": "6f45c51c-2495-11ef-ad2f-0242ac120005-1-d4c2",
       "next": "6f45c544-2495-11ef-ad2f-0242ac120005",
       "previous": "6f45c4fe-2495-11ef-ad2f-0242ac120005"
      },
      {
       "current": "6f45c51c-2495-11ef-ad2f-0242ac120005-2-d4c2-55e0",
       "next": "6f45c544-2495-11ef-ad2f-0242ac120005-1-2df8",
       "previous": "6f45c4fe-2495-11ef-ad2f-0242ac120005-1-1aae"
      }
     ],
     "next": "6f45c544-2495-11ef-ad2f-0242ac120005-2-2df8-b764",
     "previous": "6f45c4fe-2495-11ef-ad2f-0242ac120005-2-1aae-4764"
    }
   },
   "outputs": [],
   "source": [
    "repo_server = params['repository']['addresses']['service_operation']\n",
    "repo_server"
   ]
  },
  {
   "cell_type": "code",
   "execution_count": null,
   "metadata": {
    "lc_cell_meme": {
     "current": "6f45c544-2495-11ef-ad2f-0242ac120005-2-2df8-b764",
     "history": [
      {
       "current": "6f45c544-2495-11ef-ad2f-0242ac120005",
       "next": "35c33d24-55a3-11e7-b0b2-00163e9c0e35-5-c8d8-c063-e3d4-4ae9-f112",
       "previous": "6f45c51c-2495-11ef-ad2f-0242ac120005"
      },
      {
       "current": "6f45c544-2495-11ef-ad2f-0242ac120005-1-2df8",
       "next": "bf249b06-98af-11ea-8d02-0242ac120007-5-1e49-e772-9042-cb53-4aeb",
       "previous": "6f45c51c-2495-11ef-ad2f-0242ac120005"
      },
      {
       "current": "6f45c544-2495-11ef-ad2f-0242ac120005-2-2df8-b764",
       "next": "bf249b06-98af-11ea-8d02-0242ac120007-6-1e49-e772-9042-cb53-4aeb-afa8",
       "previous": "6f45c51c-2495-11ef-ad2f-0242ac120005-1-d4c2"
      }
     ],
     "next": "bf249b06-98af-11ea-8d02-0242ac120007-7-1e49-e772-9042-cb53-4aeb-afa8-0000",
     "previous": "6f45c51c-2495-11ef-ad2f-0242ac120005-2-d4c2-55e0"
    }
   },
   "outputs": [],
   "source": [
    "provisioning_vip = params['openstack']['provisioning_vip']\n",
    "provisioning_vip"
   ]
  },
  {
   "cell_type": "markdown",
   "metadata": {
    "heading_collapsed": true,
    "lc_cell_meme": {
     "current": "bf249b06-98af-11ea-8d02-0242ac120007-7-1e49-e772-9042-cb53-4aeb-afa8-0000",
     "history": [
      {
       "current": "bf249b06-98af-11ea-8d02-0242ac120007",
       "next": "d1bcb8ac-9599-11ea-8d02-0242ac120007",
       "previous": "7dae8996-9686-11ea-8d02-0242ac120007"
      },
      {
       "current": "bf249b06-98af-11ea-8d02-0242ac120007-1-1e49",
       "next": "dd8e3cbc-98f2-11ea-8d02-0242ac120007",
       "previous": "7dae8996-9686-11ea-8d02-0242ac120007"
      },
      {
       "current": "bf249b06-98af-11ea-8d02-0242ac120007-2-1e49-e772",
       "next": "dd8e3cbc-98f2-11ea-8d02-0242ac120007-1-706a",
       "previous": "7dae8996-9686-11ea-8d02-0242ac120007-1-20c5"
      },
      {
       "current": "bf249b06-98af-11ea-8d02-0242ac120007-2-1e49-e772",
       "next": "dd8e3cbc-98f2-11ea-8d02-0242ac120007-2-706a-309d",
       "previous": "7dae8996-9686-11ea-8d02-0242ac120007-2-20c5-a0b0"
      },
      {
       "current": "bf249b06-98af-11ea-8d02-0242ac120007-2-1e49-e772",
       "next": "dd8e3cbc-98f2-11ea-8d02-0242ac120007-2-706a-309d",
       "previous": "1afe76e2-def8-11eb-b29f-0242ac120008"
      },
      {
       "current": "bf249b06-98af-11ea-8d02-0242ac120007-2-1e49-e772",
       "next": "d1bcb8ac-9599-11ea-8d02-0242ac120007-2-ec95-2870",
       "previous": "1afe76e2-def8-11eb-b29f-0242ac120008"
      },
      {
       "current": "bf249b06-98af-11ea-8d02-0242ac120007-2-1e49-e772",
       "next": "d1bcb8ac-9599-11ea-8d02-0242ac120007-2-ec95-2870",
       "previous": "445f36bc-def7-11eb-b29f-0242ac120008"
      },
      {
       "current": "bf249b06-98af-11ea-8d02-0242ac120007-3-1e49-e772-9042",
       "next": "d1bcb8ac-9599-11ea-8d02-0242ac120007-2-ec95-2870",
       "previous": "17dd310e-deff-11eb-b29f-0242ac120008"
      },
      {
       "current": "bf249b06-98af-11ea-8d02-0242ac120007-4-1e49-e772-9042-cb53",
       "next": "d1bcb8ac-9599-11ea-8d02-0242ac120007-3-ec95-2870-3f6b",
       "previous": "17dd310e-deff-11eb-b29f-0242ac120008-1-9f34"
      },
      {
       "current": "bf249b06-98af-11ea-8d02-0242ac120007-5-1e49-e772-9042-cb53-4aeb",
       "next": "d1bcb8ac-9599-11ea-8d02-0242ac120007-4-ec95-2870-3f6b-c470",
       "previous": "17dd310e-deff-11eb-b29f-0242ac120008-2-9f34-ab12"
      },
      {
       "current": "bf249b06-98af-11ea-8d02-0242ac120007-5-1e49-e772-9042-cb53-4aeb",
       "next": "d1bcb8ac-9599-11ea-8d02-0242ac120007-5-ec95-2870-3f6b-c470-a557",
       "previous": "17dd310e-deff-11eb-b29f-0242ac120008-3-9f34-ab12-8084"
      },
      {
       "current": "bf249b06-98af-11ea-8d02-0242ac120007-6-1e49-e772-9042-cb53-4aeb-afa8",
       "next": "d1bcb8ac-9599-11ea-8d02-0242ac120007-5-ec95-2870-3f6b-c470-a557",
       "previous": "6f45c544-2495-11ef-ad2f-0242ac120005"
      },
      {
       "current": "bf249b06-98af-11ea-8d02-0242ac120007-7-1e49-e772-9042-cb53-4aeb-afa8-0000",
       "next": "d1bcb8ac-9599-11ea-8d02-0242ac120007-6-ec95-2870-3f6b-c470-a557-5aef",
       "previous": "6f45c544-2495-11ef-ad2f-0242ac120005-1-2df8"
      }
     ],
     "next": "d1bcb8ac-9599-11ea-8d02-0242ac120007-7-ec95-2870-3f6b-c470-a557-5aef-4da0",
     "previous": "6f45c544-2495-11ef-ad2f-0242ac120005-2-2df8-b764"
    }
   },
   "source": [
    "## CephノードとストレージセグメントIPアドレス対応表の読み込み"
   ]
  },
  {
   "cell_type": "code",
   "execution_count": null,
   "metadata": {
    "hidden": true,
    "lc_cell_meme": {
     "current": "d1bcb8ac-9599-11ea-8d02-0242ac120007-7-ec95-2870-3f6b-c470-a557-5aef-4da0",
     "history": [
      {
       "current": "d1bcb8ac-9599-11ea-8d02-0242ac120007",
       "next": "d1bcba78-9599-11ea-8d02-0242ac120007",
       "previous": "d1bcb5c8-9599-11ea-8d02-0242ac120007"
      },
      {
       "current": "d1bcb8ac-9599-11ea-8d02-0242ac120007",
       "next": "d1bcba78-9599-11ea-8d02-0242ac120007",
       "previous": "a85c1dda-959a-11ea-8d02-0242ac120007"
      },
      {
       "current": "d1bcb8ac-9599-11ea-8d02-0242ac120007",
       "next": "81dd4f74-9597-11ea-8d02-0242ac120007",
       "previous": "a85c1dda-959a-11ea-8d02-0242ac120007"
      },
      {
       "current": "d1bcb8ac-9599-11ea-8d02-0242ac120007",
       "next": "e879cdac-95bf-11ea-8d02-0242ac120007",
       "previous": "a85c1dda-959a-11ea-8d02-0242ac120007"
      },
      {
       "current": "d1bcb8ac-9599-11ea-8d02-0242ac120007",
       "next": "7899411a-9692-11ea-8d02-0242ac120007",
       "previous": "bf249b06-98af-11ea-8d02-0242ac120007"
      },
      {
       "current": "d1bcb8ac-9599-11ea-8d02-0242ac120007",
       "next": "06afe9a8-98b0-11ea-8d02-0242ac120007",
       "previous": "bf249b06-98af-11ea-8d02-0242ac120007"
      },
      {
       "current": "d1bcb8ac-9599-11ea-8d02-0242ac120007",
       "next": "06afe9a8-98b0-11ea-8d02-0242ac120007",
       "previous": "dd8e3cbc-98f2-11ea-8d02-0242ac120007"
      },
      {
       "current": "d1bcb8ac-9599-11ea-8d02-0242ac120007-1-ec95",
       "next": "250e7a70-98f3-11ea-8d02-0242ac120007",
       "previous": "dd8e3cbc-98f2-11ea-8d02-0242ac120007"
      },
      {
       "current": "d1bcb8ac-9599-11ea-8d02-0242ac120007-2-ec95-2870",
       "next": "250e7a70-98f3-11ea-8d02-0242ac120007-1-f0b4",
       "previous": "dd8e3cbc-98f2-11ea-8d02-0242ac120007-1-706a"
      },
      {
       "current": "d1bcb8ac-9599-11ea-8d02-0242ac120007-2-ec95-2870",
       "next": "250e7a70-98f3-11ea-8d02-0242ac120007-2-f0b4-6edf",
       "previous": "dd8e3cbc-98f2-11ea-8d02-0242ac120007-2-706a-309d"
      },
      {
       "current": "d1bcb8ac-9599-11ea-8d02-0242ac120007-3-ec95-2870-3f6b",
       "next": "250e7a70-98f3-11ea-8d02-0242ac120007-2-f0b4-6edf",
       "previous": "bf249b06-98af-11ea-8d02-0242ac120007-2-1e49-e772"
      },
      {
       "current": "d1bcb8ac-9599-11ea-8d02-0242ac120007-3-ec95-2870-3f6b",
       "next": "250e7a70-98f3-11ea-8d02-0242ac120007-3-f0b4-6edf-9d40",
       "previous": "bf249b06-98af-11ea-8d02-0242ac120007-3-1e49-e772-9042"
      },
      {
       "current": "d1bcb8ac-9599-11ea-8d02-0242ac120007-4-ec95-2870-3f6b-c470",
       "next": "8a6e62b8-6f14-11ee-89fa-0242ac120005",
       "previous": "bf249b06-98af-11ea-8d02-0242ac120007-3-1e49-e772-9042"
      },
      {
       "current": "d1bcb8ac-9599-11ea-8d02-0242ac120007-5-ec95-2870-3f6b-c470-a557",
       "next": "8a6e62b8-6f14-11ee-89fa-0242ac120005-1-d649",
       "previous": "bf249b06-98af-11ea-8d02-0242ac120007-4-1e49-e772-9042-cb53"
      },
      {
       "current": "d1bcb8ac-9599-11ea-8d02-0242ac120007-5-ec95-2870-3f6b-c470-a557",
       "next": "8a6e62b8-6f14-11ee-89fa-0242ac120005-2-d649-3bb9",
       "previous": "bf249b06-98af-11ea-8d02-0242ac120007-5-1e49-e772-9042-cb53-4aeb"
      },
      {
       "current": "d1bcb8ac-9599-11ea-8d02-0242ac120007-6-ec95-2870-3f6b-c470-a557-5aef",
       "next": "8a6e6452-6f14-11ee-89fa-0242ac120005-2-f1fb-38ac",
       "previous": "bf249b06-98af-11ea-8d02-0242ac120007-5-1e49-e772-9042-cb53-4aeb"
      },
      {
       "current": "d1bcb8ac-9599-11ea-8d02-0242ac120007-7-ec95-2870-3f6b-c470-a557-5aef-4da0",
       "next": "8a6e6452-6f14-11ee-89fa-0242ac120005-3-f1fb-38ac-c2e8",
       "previous": "bf249b06-98af-11ea-8d02-0242ac120007-6-1e49-e772-9042-cb53-4aeb-afa8"
      }
     ],
     "next": "8a6e6452-6f14-11ee-89fa-0242ac120005-4-f1fb-38ac-c2e8-60e3",
     "previous": "bf249b06-98af-11ea-8d02-0242ac120007-7-1e49-e772-9042-cb53-4aeb-afa8-0000"
    },
    "scrolled": true
   },
   "outputs": [],
   "source": [
    "import os\n",
    "import csv\n",
    "import pandas as pd\n",
    "\n",
    "instance_ip_csv_path =  os.environ['HOME'] + \"/notebooks/share/configuration/ceph/ceph_instance_ip.csv\"\n",
    "instance_ip_list = []\n",
    "instance_ip_map = {}\n",
    "\n",
    "with open(instance_ip_csv_path, 'r') as path_csv:\n",
    "    reader = csv.DictReader(path_csv)\n",
    "    \n",
    "    for record in reader:\n",
    "        instance_ip_list.append(record)\n",
    "        instance_ip_map[record['instance_name']] = record\n",
    "\n",
    "pd.DataFrame(instance_ip_list)"
   ]
  },
  {
   "cell_type": "markdown",
   "metadata": {
    "heading_collapsed": true,
    "lc_cell_meme": {
     "current": "8a6e6452-6f14-11ee-89fa-0242ac120005-4-f1fb-38ac-c2e8-60e3",
     "history": [
      {
       "current": "8a6e6452-6f14-11ee-89fa-0242ac120005-1-f1fb",
       "next": "8a6e65e2-6f14-11ee-89fa-0242ac120005",
       "previous": "250e7a70-98f3-11ea-8d02-0242ac120007-3-f0b4-6edf-9d40"
      },
      {
       "current": "8a6e6452-6f14-11ee-89fa-0242ac120005-2-f1fb-38ac",
       "next": "8a6e65e2-6f14-11ee-89fa-0242ac120005-1-a7fa",
       "previous": "250e7a70-98f3-11ea-8d02-0242ac120007-4-f0b4-6edf-9d40-afbc"
      },
      {
       "current": "8a6e6452-6f14-11ee-89fa-0242ac120005-2-f1fb-38ac",
       "next": "8a6e65e2-6f14-11ee-89fa-0242ac120005-2-a7fa-c9c4",
       "previous": "250e7a70-98f3-11ea-8d02-0242ac120007-5-f0b4-6edf-9d40-afbc-a04c"
      },
      {
       "current": "8a6e6452-6f14-11ee-89fa-0242ac120005-3-f1fb-38ac-c2e8",
       "next": "8a6e65e2-6f14-11ee-89fa-0242ac120005-2-a7fa-c9c4",
       "previous": "d1bcb8ac-9599-11ea-8d02-0242ac120007-5-ec95-2870-3f6b-c470-a557"
      },
      {
       "current": "8a6e6452-6f14-11ee-89fa-0242ac120005-4-f1fb-38ac-c2e8-60e3",
       "next": "8a6e65e2-6f14-11ee-89fa-0242ac120005-3-a7fa-c9c4-94d4",
       "previous": "d1bcb8ac-9599-11ea-8d02-0242ac120007-6-ec95-2870-3f6b-c470-a557-5aef"
      }
     ],
     "next": "8a6e65e2-6f14-11ee-89fa-0242ac120005-4-a7fa-c9c4-94d4-cec1",
     "previous": "d1bcb8ac-9599-11ea-8d02-0242ac120007-7-ec95-2870-3f6b-c470-a557-5aef-4da0"
    }
   },
   "source": [
    "## 作業用ディレクトリを作成する"
   ]
  },
  {
   "cell_type": "code",
   "execution_count": null,
   "metadata": {
    "hidden": true,
    "lc_cell_meme": {
     "current": "8a6e65e2-6f14-11ee-89fa-0242ac120005-4-a7fa-c9c4-94d4-cec1",
     "history": [
      {
       "current": "8a6e65e2-6f14-11ee-89fa-0242ac120005-1-a7fa",
       "next": "8a6e6664-6f14-11ee-89fa-0242ac120005",
       "previous": "8a6e6452-6f14-11ee-89fa-0242ac120005"
      },
      {
       "current": "8a6e65e2-6f14-11ee-89fa-0242ac120005-2-a7fa-c9c4",
       "next": "8a6e6664-6f14-11ee-89fa-0242ac120005-1-b59d",
       "previous": "8a6e6452-6f14-11ee-89fa-0242ac120005-1-f1fb"
      },
      {
       "current": "8a6e65e2-6f14-11ee-89fa-0242ac120005-3-a7fa-c9c4-94d4",
       "next": "8a6e6664-6f14-11ee-89fa-0242ac120005-2-b59d-f499",
       "previous": "8a6e6452-6f14-11ee-89fa-0242ac120005-2-f1fb-38ac"
      },
      {
       "current": "8a6e65e2-6f14-11ee-89fa-0242ac120005-4-a7fa-c9c4-94d4-cec1",
       "next": "8a6e6664-6f14-11ee-89fa-0242ac120005-3-b59d-f499-49a9",
       "previous": "8a6e6452-6f14-11ee-89fa-0242ac120005-3-f1fb-38ac-c2e8"
      }
     ],
     "next": "8a6e6664-6f14-11ee-89fa-0242ac120005-4-b59d-f499-49a9-0944",
     "previous": "8a6e6452-6f14-11ee-89fa-0242ac120005-4-f1fb-38ac-c2e8-60e3"
    }
   },
   "outputs": [],
   "source": [
    "import os,tempfile\n",
    "temp_dir = tempfile.mkdtemp()\n",
    "print (temp_dir)"
   ]
  },
  {
   "cell_type": "markdown",
   "metadata": {
    "lc_cell_meme": {
     "current": "8a6e6664-6f14-11ee-89fa-0242ac120005-4-b59d-f499-49a9-0944",
     "history": [
      {
       "current": "8a6e6664-6f14-11ee-89fa-0242ac120005-1-b59d",
       "next": "8a6e66c8-6f14-11ee-89fa-0242ac120005",
       "previous": "8a6e65e2-6f14-11ee-89fa-0242ac120005"
      },
      {
       "current": "8a6e6664-6f14-11ee-89fa-0242ac120005-2-b59d-f499",
       "next": "8a6e66c8-6f14-11ee-89fa-0242ac120005-1-8b3e",
       "previous": "8a6e65e2-6f14-11ee-89fa-0242ac120005-1-a7fa"
      },
      {
       "current": "8a6e6664-6f14-11ee-89fa-0242ac120005-3-b59d-f499-49a9",
       "next": "8a6e66c8-6f14-11ee-89fa-0242ac120005-2-8b3e-e5ec",
       "previous": "8a6e65e2-6f14-11ee-89fa-0242ac120005-2-a7fa-c9c4"
      },
      {
       "current": "8a6e6664-6f14-11ee-89fa-0242ac120005-4-b59d-f499-49a9-0944",
       "next": "8a6e66c8-6f14-11ee-89fa-0242ac120005-3-8b3e-e5ec-8aea",
       "previous": "8a6e65e2-6f14-11ee-89fa-0242ac120005-3-a7fa-c9c4-94d4"
      }
     ],
     "next": "8a6e66c8-6f14-11ee-89fa-0242ac120005-4-8b3e-e5ec-8aea-d525",
     "previous": "8a6e65e2-6f14-11ee-89fa-0242ac120005-4-a7fa-c9c4-94d4-cec1"
    }
   },
   "source": [
    "## AnsibleのInventoryファイルを作業用ディレクトリへ作成する"
   ]
  },
  {
   "cell_type": "code",
   "execution_count": null,
   "metadata": {
    "lc_cell_meme": {
     "current": "8a6e66c8-6f14-11ee-89fa-0242ac120005-4-8b3e-e5ec-8aea-d525",
     "history": [
      {
       "current": "8a6e66c8-6f14-11ee-89fa-0242ac120005-1-8b3e",
       "next": "8a6e6736-6f14-11ee-89fa-0242ac120005",
       "previous": "8a6e6664-6f14-11ee-89fa-0242ac120005"
      },
      {
       "current": "8a6e66c8-6f14-11ee-89fa-0242ac120005-2-8b3e-e5ec",
       "next": "8a6e6736-6f14-11ee-89fa-0242ac120005-1-3d66",
       "previous": "8a6e6664-6f14-11ee-89fa-0242ac120005-1-b59d"
      },
      {
       "current": "8a6e66c8-6f14-11ee-89fa-0242ac120005-3-8b3e-e5ec-8aea",
       "next": "8a6e6736-6f14-11ee-89fa-0242ac120005-2-3d66-ea04",
       "previous": "8a6e6664-6f14-11ee-89fa-0242ac120005-2-b59d-f499"
      },
      {
       "current": "8a6e66c8-6f14-11ee-89fa-0242ac120005-4-8b3e-e5ec-8aea-d525",
       "next": "8a6e6736-6f14-11ee-89fa-0242ac120005-3-3d66-ea04-6b8c",
       "previous": "8a6e6664-6f14-11ee-89fa-0242ac120005-3-b59d-f499-49a9"
      }
     ],
     "next": "8a6e6736-6f14-11ee-89fa-0242ac120005-4-3d66-ea04-6b8c-6518",
     "previous": "8a6e6664-6f14-11ee-89fa-0242ac120005-4-b59d-f499-49a9-0944"
    }
   },
   "outputs": [],
   "source": [
    "import os\n",
    "\n",
    "with open( os.path.join(temp_dir, \"hosts\"), 'w') as f:\n",
    "    f.write('''[openstack_ctl]\n",
    "{openstack_cmn}\n",
    "'''.format(openstack_cmn = provisioning_vip))\n",
    "\n",
    "hosts = temp_dir + \"/hosts\"\n",
    "!cat $hosts"
   ]
  },
  {
   "cell_type": "code",
   "execution_count": null,
   "metadata": {
    "lc_cell_meme": {
     "current": "8a6e6736-6f14-11ee-89fa-0242ac120005-4-3d66-ea04-6b8c-6518",
     "history": [
      {
       "current": "8a6e6736-6f14-11ee-89fa-0242ac120005",
       "next": "8a6e67a4-6f14-11ee-89fa-0242ac120005",
       "previous": "8a6e66c8-6f14-11ee-89fa-0242ac120005"
      },
      {
       "current": "8a6e6736-6f14-11ee-89fa-0242ac120005-1-3d66",
       "next": "8a6e67a4-6f14-11ee-89fa-0242ac120005-1-b446",
       "previous": "8a6e66c8-6f14-11ee-89fa-0242ac120005"
      },
      {
       "current": "8a6e6736-6f14-11ee-89fa-0242ac120005-2-3d66-ea04",
       "next": "8a6e67a4-6f14-11ee-89fa-0242ac120005-2-b446-82bd",
       "previous": "8a6e66c8-6f14-11ee-89fa-0242ac120005-1-8b3e"
      },
      {
       "current": "8a6e6736-6f14-11ee-89fa-0242ac120005-3-3d66-ea04-6b8c",
       "next": "8a6e67a4-6f14-11ee-89fa-0242ac120005-3-b446-82bd-7150",
       "previous": "8a6e66c8-6f14-11ee-89fa-0242ac120005-2-8b3e-e5ec"
      },
      {
       "current": "8a6e6736-6f14-11ee-89fa-0242ac120005-4-3d66-ea04-6b8c-6518",
       "next": "8a6e67a4-6f14-11ee-89fa-0242ac120005-4-b446-82bd-7150-828e",
       "previous": "8a6e66c8-6f14-11ee-89fa-0242ac120005-3-8b3e-e5ec-8aea"
      }
     ],
     "next": "8a6e67a4-6f14-11ee-89fa-0242ac120005-5-b446-82bd-7150-828e-2b01",
     "previous": "8a6e66c8-6f14-11ee-89fa-0242ac120005-4-8b3e-e5ec-8aea-d525"
    }
   },
   "outputs": [],
   "source": [
    "%env ANSIBLE_INVENTORY={hosts}"
   ]
  },
  {
   "cell_type": "markdown",
   "metadata": {
    "lc_cell_meme": {
     "current": "8a6e67a4-6f14-11ee-89fa-0242ac120005-5-b446-82bd-7150-828e-2b01",
     "history": [
      {
       "current": "8a6e67a4-6f14-11ee-89fa-0242ac120005-2-b446-82bd",
       "next": "8a6e6808-6f14-11ee-89fa-0242ac120005",
       "previous": "8a6e6736-6f14-11ee-89fa-0242ac120005"
      },
      {
       "current": "8a6e67a4-6f14-11ee-89fa-0242ac120005-3-b446-82bd-7150",
       "next": "8a6e6808-6f14-11ee-89fa-0242ac120005-1-eb24",
       "previous": "8a6e6736-6f14-11ee-89fa-0242ac120005-1-3d66"
      },
      {
       "current": "8a6e67a4-6f14-11ee-89fa-0242ac120005-4-b446-82bd-7150-828e",
       "next": "8a6e6808-6f14-11ee-89fa-0242ac120005-2-eb24-71cf",
       "previous": "8a6e6736-6f14-11ee-89fa-0242ac120005-2-3d66-ea04"
      },
      {
       "current": "8a6e67a4-6f14-11ee-89fa-0242ac120005-5-b446-82bd-7150-828e-2b01",
       "next": "8a6e6808-6f14-11ee-89fa-0242ac120005-3-eb24-71cf-f849",
       "previous": "8a6e6736-6f14-11ee-89fa-0242ac120005-3-3d66-ea04-6b8c"
      }
     ],
     "next": "8a6e6808-6f14-11ee-89fa-0242ac120005-4-eb24-71cf-f849-caef",
     "previous": "8a6e6736-6f14-11ee-89fa-0242ac120005-4-3d66-ea04-6b8c-6518"
    }
   },
   "source": [
    "疎通確認"
   ]
  },
  {
   "cell_type": "code",
   "execution_count": null,
   "metadata": {
    "lc_cell_meme": {
     "current": "8a6e6808-6f14-11ee-89fa-0242ac120005-4-eb24-71cf-f849-caef",
     "history": [
      {
       "current": "8a6e6808-6f14-11ee-89fa-0242ac120005",
       "next": "8a6e6862-6f14-11ee-89fa-0242ac120005",
       "previous": "8a6e67a4-6f14-11ee-89fa-0242ac120005"
      },
      {
       "current": "8a6e6808-6f14-11ee-89fa-0242ac120005-1-eb24",
       "next": "8a6e6862-6f14-11ee-89fa-0242ac120005",
       "previous": "8a6e67a4-6f14-11ee-89fa-0242ac120005-1-b446"
      },
      {
       "current": "8a6e6808-6f14-11ee-89fa-0242ac120005-2-eb24-71cf",
       "next": "8a6e6862-6f14-11ee-89fa-0242ac120005-1-ddc5",
       "previous": "8a6e67a4-6f14-11ee-89fa-0242ac120005-2-b446-82bd"
      },
      {
       "current": "8a6e6808-6f14-11ee-89fa-0242ac120005-3-eb24-71cf-f849",
       "next": "8a6e6862-6f14-11ee-89fa-0242ac120005-2-ddc5-1c7c",
       "previous": "8a6e67a4-6f14-11ee-89fa-0242ac120005-3-b446-82bd-7150"
      },
      {
       "current": "8a6e6808-6f14-11ee-89fa-0242ac120005-4-eb24-71cf-f849-caef",
       "next": "8a6e6862-6f14-11ee-89fa-0242ac120005-3-ddc5-1c7c-7de6",
       "previous": "8a6e67a4-6f14-11ee-89fa-0242ac120005-4-b446-82bd-7150-828e"
      }
     ],
     "next": "8a6e6862-6f14-11ee-89fa-0242ac120005-4-ddc5-1c7c-7de6-feed",
     "previous": "8a6e67a4-6f14-11ee-89fa-0242ac120005-5-b446-82bd-7150-828e-2b01"
    }
   },
   "outputs": [],
   "source": [
    "!ansible -m ping openstack_ctl"
   ]
  },
  {
   "cell_type": "code",
   "execution_count": null,
   "metadata": {
    "lc_cell_meme": {
     "current": "8a6e6862-6f14-11ee-89fa-0242ac120005-4-ddc5-1c7c-7de6-feed",
     "history": [
      {
       "current": "8a6e6862-6f14-11ee-89fa-0242ac120005",
       "next": "8a6e68d0-6f14-11ee-89fa-0242ac120005",
       "previous": "8a6e6808-6f14-11ee-89fa-0242ac120005"
      },
      {
       "current": "8a6e6862-6f14-11ee-89fa-0242ac120005-1-ddc5",
       "next": "8a6e68d0-6f14-11ee-89fa-0242ac120005-1-da77",
       "previous": "8a6e6808-6f14-11ee-89fa-0242ac120005"
      },
      {
       "current": "8a6e6862-6f14-11ee-89fa-0242ac120005-2-ddc5-1c7c",
       "next": "8a6e68d0-6f14-11ee-89fa-0242ac120005-2-da77-75a1",
       "previous": "8a6e6808-6f14-11ee-89fa-0242ac120005-1-eb24"
      },
      {
       "current": "8a6e6862-6f14-11ee-89fa-0242ac120005-3-ddc5-1c7c-7de6",
       "next": "8a6e68d0-6f14-11ee-89fa-0242ac120005-3-da77-75a1-3ac4",
       "previous": "8a6e6808-6f14-11ee-89fa-0242ac120005-2-eb24-71cf"
      },
      {
       "current": "8a6e6862-6f14-11ee-89fa-0242ac120005-4-ddc5-1c7c-7de6-feed",
       "next": "8a6e68d0-6f14-11ee-89fa-0242ac120005-4-da77-75a1-3ac4-e7e6",
       "previous": "8a6e6808-6f14-11ee-89fa-0242ac120005-3-eb24-71cf-f849"
      }
     ],
     "next": "8a6e68d0-6f14-11ee-89fa-0242ac120005-5-da77-75a1-3ac4-e7e6-9f66",
     "previous": "8a6e6808-6f14-11ee-89fa-0242ac120005-4-eb24-71cf-f849-caef"
    }
   },
   "outputs": [],
   "source": [
    "!ansible -a 'hostname' openstack_ctl"
   ]
  },
  {
   "cell_type": "markdown",
   "metadata": {
    "lc_cell_meme": {
     "current": "8a6e68d0-6f14-11ee-89fa-0242ac120005-5-da77-75a1-3ac4-e7e6-9f66",
     "history": [
      {
       "current": "8a6e68d0-6f14-11ee-89fa-0242ac120005-2-da77-75a1",
       "next": "8a6e6934-6f14-11ee-89fa-0242ac120005",
       "previous": "8a6e6862-6f14-11ee-89fa-0242ac120005"
      },
      {
       "current": "8a6e68d0-6f14-11ee-89fa-0242ac120005-3-da77-75a1-3ac4",
       "next": "8a6e6934-6f14-11ee-89fa-0242ac120005-1-b9c0",
       "previous": "8a6e6862-6f14-11ee-89fa-0242ac120005-1-ddc5"
      },
      {
       "current": "8a6e68d0-6f14-11ee-89fa-0242ac120005-4-da77-75a1-3ac4-e7e6",
       "next": "8a6e6934-6f14-11ee-89fa-0242ac120005-2-b9c0-1a43",
       "previous": "8a6e6862-6f14-11ee-89fa-0242ac120005-2-ddc5-1c7c"
      },
      {
       "current": "8a6e68d0-6f14-11ee-89fa-0242ac120005-5-da77-75a1-3ac4-e7e6-9f66",
       "next": "8a6e6934-6f14-11ee-89fa-0242ac120005-3-b9c0-1a43-b2f7",
       "previous": "8a6e6862-6f14-11ee-89fa-0242ac120005-3-ddc5-1c7c-7de6"
      }
     ],
     "next": "8a6e6934-6f14-11ee-89fa-0242ac120005-4-b9c0-1a43-b2f7-47b6",
     "previous": "8a6e6862-6f14-11ee-89fa-0242ac120005-4-ddc5-1c7c-7de6-feed"
    }
   },
   "source": [
    "## OpenStack用OpenRCファイル設定\n",
    "\n",
    "`xxxxxxx`プロジェクト用のOpenRCファイルを事前にダウンロードしておくこと。  "
   ]
  },
  {
   "cell_type": "code",
   "execution_count": null,
   "metadata": {
    "lc_cell_meme": {
     "current": "8a6e6934-6f14-11ee-89fa-0242ac120005-4-b9c0-1a43-b2f7-47b6",
     "history": [
      {
       "current": "8a6e6934-6f14-11ee-89fa-0242ac120005",
       "next": "8a6e698e-6f14-11ee-89fa-0242ac120005",
       "previous": "8a6e68d0-6f14-11ee-89fa-0242ac120005"
      },
      {
       "current": "8a6e6934-6f14-11ee-89fa-0242ac120005-1-b9c0",
       "next": "d1f5984a-6f14-11ee-89fa-0242ac120005",
       "previous": "8a6e68d0-6f14-11ee-89fa-0242ac120005-1-da77"
      },
      {
       "current": "8a6e6934-6f14-11ee-89fa-0242ac120005-2-b9c0-1a43",
       "next": "d1f5984a-6f14-11ee-89fa-0242ac120005-1-db6a",
       "previous": "8a6e68d0-6f14-11ee-89fa-0242ac120005-2-da77-75a1"
      },
      {
       "current": "8a6e6934-6f14-11ee-89fa-0242ac120005-3-b9c0-1a43-b2f7",
       "next": "d1f5984a-6f14-11ee-89fa-0242ac120005-2-db6a-78f1",
       "previous": "8a6e68d0-6f14-11ee-89fa-0242ac120005-3-da77-75a1-3ac4"
      },
      {
       "current": "8a6e6934-6f14-11ee-89fa-0242ac120005-4-b9c0-1a43-b2f7-47b6",
       "next": "d1f5984a-6f14-11ee-89fa-0242ac120005-3-db6a-78f1-0028",
       "previous": "8a6e68d0-6f14-11ee-89fa-0242ac120005-4-da77-75a1-3ac4-e7e6"
      }
     ],
     "next": "d1f5984a-6f14-11ee-89fa-0242ac120005-4-db6a-78f1-0028-09a6",
     "previous": "8a6e68d0-6f14-11ee-89fa-0242ac120005-5-da77-75a1-3ac4-e7e6-9f66"
    }
   },
   "outputs": [],
   "source": [
    "import os\n",
    "\n",
    "user_creds = os.path.expanduser('~/.keys/xxxxxxx-openrc.sh')\n",
    "\n",
    "assert os.path.exists(user_creds), '{} is not exist'.format(user_creds)"
   ]
  },
  {
   "cell_type": "code",
   "execution_count": null,
   "metadata": {
    "lc_cell_meme": {
     "current": "d1f5984a-6f14-11ee-89fa-0242ac120005-4-db6a-78f1-0028-09a6",
     "history": [
      {
       "current": "d1f5984a-6f14-11ee-89fa-0242ac120005-1-db6a",
       "next": "d1f599e4-6f14-11ee-89fa-0242ac120005",
       "previous": "8a6e6934-6f14-11ee-89fa-0242ac120005"
      },
      {
       "current": "d1f5984a-6f14-11ee-89fa-0242ac120005-2-db6a-78f1",
       "next": "d1f599e4-6f14-11ee-89fa-0242ac120005-1-0fdd",
       "previous": "8a6e6934-6f14-11ee-89fa-0242ac120005-1-b9c0"
      },
      {
       "current": "d1f5984a-6f14-11ee-89fa-0242ac120005-3-db6a-78f1-0028",
       "next": "d1f599e4-6f14-11ee-89fa-0242ac120005-2-0fdd-2d89",
       "previous": "8a6e6934-6f14-11ee-89fa-0242ac120005-2-b9c0-1a43"
      },
      {
       "current": "d1f5984a-6f14-11ee-89fa-0242ac120005-4-db6a-78f1-0028-09a6",
       "next": "d1f599e4-6f14-11ee-89fa-0242ac120005-3-0fdd-2d89-40a0",
       "previous": "8a6e6934-6f14-11ee-89fa-0242ac120005-3-b9c0-1a43-b2f7"
      }
     ],
     "next": "d1f599e4-6f14-11ee-89fa-0242ac120005-4-0fdd-2d89-40a0-cb0b",
     "previous": "8a6e6934-6f14-11ee-89fa-0242ac120005-4-b9c0-1a43-b2f7-47b6"
    }
   },
   "outputs": [],
   "source": [
    "%env USER_CREDS={user_creds}"
   ]
  },
  {
   "cell_type": "code",
   "execution_count": null,
   "metadata": {
    "lc_cell_meme": {
     "current": "d1f599e4-6f14-11ee-89fa-0242ac120005-4-0fdd-2d89-40a0-cb0b",
     "history": [
      {
       "current": "d1f599e4-6f14-11ee-89fa-0242ac120005-1-0fdd",
       "next": "d1f59a8e-6f14-11ee-89fa-0242ac120005",
       "previous": "d1f5984a-6f14-11ee-89fa-0242ac120005"
      },
      {
       "current": "d1f599e4-6f14-11ee-89fa-0242ac120005-2-0fdd-2d89",
       "next": "d1f59a8e-6f14-11ee-89fa-0242ac120005-1-4ee6",
       "previous": "d1f5984a-6f14-11ee-89fa-0242ac120005-1-db6a"
      },
      {
       "current": "d1f599e4-6f14-11ee-89fa-0242ac120005-3-0fdd-2d89-40a0",
       "next": "d1f59a8e-6f14-11ee-89fa-0242ac120005-2-4ee6-a44d",
       "previous": "d1f5984a-6f14-11ee-89fa-0242ac120005-2-db6a-78f1"
      },
      {
       "current": "d1f599e4-6f14-11ee-89fa-0242ac120005-4-0fdd-2d89-40a0-cb0b",
       "next": "d1f59a8e-6f14-11ee-89fa-0242ac120005-3-4ee6-a44d-9e12",
       "previous": "d1f5984a-6f14-11ee-89fa-0242ac120005-3-db6a-78f1-0028"
      }
     ],
     "next": "d1f59a8e-6f14-11ee-89fa-0242ac120005-4-4ee6-a44d-9e12-5902",
     "previous": "d1f5984a-6f14-11ee-89fa-0242ac120005-4-db6a-78f1-0028-09a6"
    }
   },
   "outputs": [],
   "source": [
    "!ls -l {user_creds}"
   ]
  },
  {
   "cell_type": "markdown",
   "metadata": {
    "heading_collapsed": true,
    "lc_cell_meme": {
     "current": "d1f59a8e-6f14-11ee-89fa-0242ac120005-4-4ee6-a44d-9e12-5902",
     "history": [
      {
       "current": "d1f59a8e-6f14-11ee-89fa-0242ac120005-1-4ee6",
       "next": "d1f59b06-6f14-11ee-89fa-0242ac120005",
       "previous": "d1f599e4-6f14-11ee-89fa-0242ac120005"
      },
      {
       "current": "d1f59a8e-6f14-11ee-89fa-0242ac120005-2-4ee6-a44d",
       "next": "d1f59b06-6f14-11ee-89fa-0242ac120005-1-9153",
       "previous": "d1f599e4-6f14-11ee-89fa-0242ac120005-1-0fdd"
      },
      {
       "current": "d1f59a8e-6f14-11ee-89fa-0242ac120005-3-4ee6-a44d-9e12",
       "next": "d1f59b06-6f14-11ee-89fa-0242ac120005-2-9153-108a",
       "previous": "d1f599e4-6f14-11ee-89fa-0242ac120005-2-0fdd-2d89"
      },
      {
       "current": "d1f59a8e-6f14-11ee-89fa-0242ac120005-4-4ee6-a44d-9e12-5902",
       "next": "d1f59b06-6f14-11ee-89fa-0242ac120005-3-9153-108a-73c7",
       "previous": "d1f599e4-6f14-11ee-89fa-0242ac120005-3-0fdd-2d89-40a0"
      }
     ],
     "next": "d1f59b06-6f14-11ee-89fa-0242ac120005-4-9153-108a-73c7-a6bb",
     "previous": "d1f599e4-6f14-11ee-89fa-0242ac120005-4-0fdd-2d89-40a0-cb0b"
    }
   },
   "source": [
    "## openstackコマンド用ユーティリティ関数"
   ]
  },
  {
   "cell_type": "code",
   "execution_count": null,
   "metadata": {
    "hidden": true,
    "lc_cell_meme": {
     "current": "d1f59b06-6f14-11ee-89fa-0242ac120005-4-9153-108a-73c7-a6bb",
     "history": [
      {
       "current": "d1f59b06-6f14-11ee-89fa-0242ac120005-1-9153",
       "next": "d1f59b74-6f14-11ee-89fa-0242ac120005",
       "previous": "d1f59a8e-6f14-11ee-89fa-0242ac120005"
      },
      {
       "current": "d1f59b06-6f14-11ee-89fa-0242ac120005-2-9153-108a",
       "next": "d1f59b74-6f14-11ee-89fa-0242ac120005-1-28a5",
       "previous": "d1f59a8e-6f14-11ee-89fa-0242ac120005-1-4ee6"
      },
      {
       "current": "d1f59b06-6f14-11ee-89fa-0242ac120005-3-9153-108a-73c7",
       "next": "d1f59b74-6f14-11ee-89fa-0242ac120005-2-28a5-7206",
       "previous": "d1f59a8e-6f14-11ee-89fa-0242ac120005-2-4ee6-a44d"
      },
      {
       "current": "d1f59b06-6f14-11ee-89fa-0242ac120005-4-9153-108a-73c7-a6bb",
       "next": "d1f59b74-6f14-11ee-89fa-0242ac120005-3-28a5-7206-9837",
       "previous": "d1f59a8e-6f14-11ee-89fa-0242ac120005-3-4ee6-a44d-9e12"
      }
     ],
     "next": "d1f59b74-6f14-11ee-89fa-0242ac120005-4-28a5-7206-9837-37b3",
     "previous": "d1f59a8e-6f14-11ee-89fa-0242ac120005-4-4ee6-a44d-9e12-5902"
    }
   },
   "outputs": [],
   "source": [
    "def build_cmdline(param):\n",
    "    cmdline = ''\n",
    "    \n",
    "    for param_name, param_value in param.items():\n",
    "        if isinstance(param_value, dict):\n",
    "            for key, value in param_value.items():\n",
    "                cmdline += ' --{} {}={}'.format(param_name, key, value)\n",
    "        elif isinstance(param_value, list):\n",
    "            for item in param_value:\n",
    "                cmdline += ' --{} {}'.format(param_name, item)\n",
    "        elif isinstance(param_value, bool):\n",
    "            if param_value:\n",
    "                cmdline += ' --{}'.format(param_name)\n",
    "        else:\n",
    "            cmdline += ' --{} {}'.format(param_name, param_value)\n",
    "\n",
    "    return cmdline"
   ]
  },
  {
   "cell_type": "code",
   "execution_count": null,
   "metadata": {
    "hidden": true,
    "lc_cell_meme": {
     "current": "d1f59b74-6f14-11ee-89fa-0242ac120005-4-28a5-7206-9837-37b3",
     "history": [
      {
       "current": "d1f59b74-6f14-11ee-89fa-0242ac120005",
       "next": "d1f59bec-6f14-11ee-89fa-0242ac120005",
       "previous": "d1f59b06-6f14-11ee-89fa-0242ac120005"
      },
      {
       "current": "d1f59b74-6f14-11ee-89fa-0242ac120005-1-28a5",
       "next": "d1f59bec-6f14-11ee-89fa-0242ac120005-1-da5a",
       "previous": "d1f59b06-6f14-11ee-89fa-0242ac120005"
      },
      {
       "current": "d1f59b74-6f14-11ee-89fa-0242ac120005-2-28a5-7206",
       "next": "d1f59bec-6f14-11ee-89fa-0242ac120005-2-da5a-0de6",
       "previous": "d1f59b06-6f14-11ee-89fa-0242ac120005-1-9153"
      },
      {
       "current": "d1f59b74-6f14-11ee-89fa-0242ac120005-3-28a5-7206-9837",
       "next": "d1f59bec-6f14-11ee-89fa-0242ac120005-3-da5a-0de6-fb0b",
       "previous": "d1f59b06-6f14-11ee-89fa-0242ac120005-2-9153-108a"
      },
      {
       "current": "d1f59b74-6f14-11ee-89fa-0242ac120005-4-28a5-7206-9837-37b3",
       "next": "d1f59bec-6f14-11ee-89fa-0242ac120005-4-da5a-0de6-fb0b-991a",
       "previous": "d1f59b06-6f14-11ee-89fa-0242ac120005-3-9153-108a-73c7"
      }
     ],
     "next": "d1f59bec-6f14-11ee-89fa-0242ac120005-5-da5a-0de6-fb0b-991a-b380",
     "previous": "d1f59b06-6f14-11ee-89fa-0242ac120005-4-9153-108a-73c7-a6bb"
    }
   },
   "outputs": [],
   "source": [
    "import json\n",
    "\n",
    "def run_openstack(cmd):\n",
    "    print('EXEC: {}'.format(cmd))\n",
    "    out = !source {user_creds} && {cmd}\n",
    "    print('OUTPUT: {}'.format('\\n'.join(out)))\n",
    "    return json.loads('\\n'.join(out))"
   ]
  },
  {
   "cell_type": "markdown",
   "metadata": {
    "hidden": true,
    "lc_cell_meme": {
     "current": "d1f59bec-6f14-11ee-89fa-0242ac120005-5-da5a-0de6-fb0b-991a-b380",
     "history": [
      {
       "current": "d1f59bec-6f14-11ee-89fa-0242ac120005-2-da5a-0de6",
       "next": "8a6e698e-6f14-11ee-89fa-0242ac120005",
       "previous": "d1f59b74-6f14-11ee-89fa-0242ac120005"
      },
      {
       "current": "d1f59bec-6f14-11ee-89fa-0242ac120005-3-da5a-0de6-fb0b",
       "next": "8a6e698e-6f14-11ee-89fa-0242ac120005-1-1b26",
       "previous": "d1f59b74-6f14-11ee-89fa-0242ac120005-1-28a5"
      },
      {
       "current": "d1f59bec-6f14-11ee-89fa-0242ac120005-4-da5a-0de6-fb0b-991a",
       "next": "8a6e698e-6f14-11ee-89fa-0242ac120005-2-1b26-ec42",
       "previous": "d1f59b74-6f14-11ee-89fa-0242ac120005-2-28a5-7206"
      },
      {
       "current": "d1f59bec-6f14-11ee-89fa-0242ac120005-5-da5a-0de6-fb0b-991a-b380",
       "next": "8a6e698e-6f14-11ee-89fa-0242ac120005-3-1b26-ec42-4dce",
       "previous": "d1f59b74-6f14-11ee-89fa-0242ac120005-3-28a5-7206-9837"
      }
     ],
     "next": "8a6e698e-6f14-11ee-89fa-0242ac120005-4-1b26-ec42-4dce-96f4",
     "previous": "d1f59b74-6f14-11ee-89fa-0242ac120005-4-28a5-7206-9837-37b3"
    }
   },
   "source": [
    "テスト"
   ]
  },
  {
   "cell_type": "code",
   "execution_count": null,
   "metadata": {
    "hidden": true,
    "lc_cell_meme": {
     "current": "8a6e698e-6f14-11ee-89fa-0242ac120005-4-1b26-ec42-4dce-96f4",
     "history": [
      {
       "current": "8a6e698e-6f14-11ee-89fa-0242ac120005",
       "next": "8a6e69fc-6f14-11ee-89fa-0242ac120005",
       "previous": "8a6e6934-6f14-11ee-89fa-0242ac120005"
      },
      {
       "current": "8a6e698e-6f14-11ee-89fa-0242ac120005",
       "next": "8a6e69fc-6f14-11ee-89fa-0242ac120005",
       "previous": "d1f59bec-6f14-11ee-89fa-0242ac120005"
      },
      {
       "current": "8a6e698e-6f14-11ee-89fa-0242ac120005-1-1b26",
       "next": "06afe9a8-98b0-11ea-8d02-0242ac120007-3-a1c1-faf0-55bd",
       "previous": "d1f59bec-6f14-11ee-89fa-0242ac120005-1-da5a"
      },
      {
       "current": "8a6e698e-6f14-11ee-89fa-0242ac120005-2-1b26-ec42",
       "next": "06afe9a8-98b0-11ea-8d02-0242ac120007-4-a1c1-faf0-55bd-ef84",
       "previous": "d1f59bec-6f14-11ee-89fa-0242ac120005-2-da5a-0de6"
      },
      {
       "current": "8a6e698e-6f14-11ee-89fa-0242ac120005-3-1b26-ec42-4dce",
       "next": "06afe9a8-98b0-11ea-8d02-0242ac120007-5-a1c1-faf0-55bd-ef84-b391",
       "previous": "d1f59bec-6f14-11ee-89fa-0242ac120005-3-da5a-0de6-fb0b"
      },
      {
       "current": "8a6e698e-6f14-11ee-89fa-0242ac120005-4-1b26-ec42-4dce-96f4",
       "next": "06afe9a8-98b0-11ea-8d02-0242ac120007-6-a1c1-faf0-55bd-ef84-b391-2bfe",
       "previous": "d1f59bec-6f14-11ee-89fa-0242ac120005-4-da5a-0de6-fb0b-991a"
      }
     ],
     "next": "06afe9a8-98b0-11ea-8d02-0242ac120007-7-a1c1-faf0-55bd-ef84-b391-2bfe-0682",
     "previous": "d1f59bec-6f14-11ee-89fa-0242ac120005-5-da5a-0de6-fb0b-991a-b380"
    }
   },
   "outputs": [],
   "source": [
    "run_openstack('openstack flavor list -f json' + build_cmdline({'all': True}))"
   ]
  },
  {
   "cell_type": "markdown",
   "metadata": {
    "lc_cell_meme": {
     "current": "06afe9a8-98b0-11ea-8d02-0242ac120007-7-a1c1-faf0-55bd-ef84-b391-2bfe-0682",
     "history": [
      {
       "current": "06afe9a8-98b0-11ea-8d02-0242ac120007",
       "next": "7899411a-9692-11ea-8d02-0242ac120007",
       "previous": "d1bcb8ac-9599-11ea-8d02-0242ac120007"
      },
      {
       "current": "06afe9a8-98b0-11ea-8d02-0242ac120007-1-a1c1",
       "next": "7899411a-9692-11ea-8d02-0242ac120007",
       "previous": "250e7a70-98f3-11ea-8d02-0242ac120007"
      },
      {
       "current": "06afe9a8-98b0-11ea-8d02-0242ac120007-2-a1c1-faf0",
       "next": "7899411a-9692-11ea-8d02-0242ac120007-1-2cd2",
       "previous": "250e7a70-98f3-11ea-8d02-0242ac120007-1-f0b4"
      },
      {
       "current": "06afe9a8-98b0-11ea-8d02-0242ac120007-2-a1c1-faf0",
       "next": "7899411a-9692-11ea-8d02-0242ac120007-2-2cd2-395d",
       "previous": "250e7a70-98f3-11ea-8d02-0242ac120007-2-f0b4-6edf"
      },
      {
       "current": "06afe9a8-98b0-11ea-8d02-0242ac120007-2-a1c1-faf0",
       "next": "04bfc54e-defc-11eb-b29f-0242ac120008",
       "previous": "250e7a70-98f3-11ea-8d02-0242ac120007-2-f0b4-6edf"
      },
      {
       "current": "06afe9a8-98b0-11ea-8d02-0242ac120007-3-a1c1-faf0-55bd",
       "next": "329a4046-dfad-11eb-b29f-0242ac120008",
       "previous": "250e7a70-98f3-11ea-8d02-0242ac120007-2-f0b4-6edf"
      },
      {
       "current": "06afe9a8-98b0-11ea-8d02-0242ac120007-3-a1c1-faf0-55bd",
       "next": "329a4046-dfad-11eb-b29f-0242ac120008-1-1375",
       "previous": "250e7a70-98f3-11ea-8d02-0242ac120007-3-f0b4-6edf-9d40"
      },
      {
       "current": "06afe9a8-98b0-11ea-8d02-0242ac120007-3-a1c1-faf0-55bd",
       "next": "329a4046-dfad-11eb-b29f-0242ac120008-1-1375",
       "previous": "8a6e69fc-6f14-11ee-89fa-0242ac120005"
      },
      {
       "current": "06afe9a8-98b0-11ea-8d02-0242ac120007-4-a1c1-faf0-55bd-ef84",
       "next": "329a4046-dfad-11eb-b29f-0242ac120008-1-1375",
       "previous": "8a6e698e-6f14-11ee-89fa-0242ac120005"
      },
      {
       "current": "06afe9a8-98b0-11ea-8d02-0242ac120007-5-a1c1-faf0-55bd-ef84-b391",
       "next": "329a4046-dfad-11eb-b29f-0242ac120008-2-1375-fa72",
       "previous": "8a6e698e-6f14-11ee-89fa-0242ac120005-1-1b26"
      },
      {
       "current": "06afe9a8-98b0-11ea-8d02-0242ac120007-6-a1c1-faf0-55bd-ef84-b391-2bfe",
       "next": "329a4046-dfad-11eb-b29f-0242ac120008-3-1375-fa72-e4f0",
       "previous": "8a6e698e-6f14-11ee-89fa-0242ac120005-2-1b26-ec42"
      },
      {
       "current": "06afe9a8-98b0-11ea-8d02-0242ac120007-7-a1c1-faf0-55bd-ef84-b391-2bfe-0682",
       "next": "329a4046-dfad-11eb-b29f-0242ac120008-4-1375-fa72-e4f0-cb84",
       "previous": "8a6e698e-6f14-11ee-89fa-0242ac120005-3-1b26-ec42-4dce"
      }
     ],
     "next": "329a4046-dfad-11eb-b29f-0242ac120008-5-1375-fa72-e4f0-cb84-fadf",
     "previous": "8a6e698e-6f14-11ee-89fa-0242ac120005-4-1b26-ec42-4dce-96f4"
    }
   },
   "source": [
    "## デプロイされたCephノード情報の取得"
   ]
  },
  {
   "cell_type": "markdown",
   "metadata": {
    "lc_cell_meme": {
     "current": "329a4046-dfad-11eb-b29f-0242ac120008-5-1375-fa72-e4f0-cb84-fadf",
     "history": [
      {
       "current": "329a4046-dfad-11eb-b29f-0242ac120008-1-1375",
       "next": "329a4348-dfad-11eb-b29f-0242ac120008",
       "previous": "06afe9a8-98b0-11ea-8d02-0242ac120007-2-a1c1-faf0"
      },
      {
       "current": "329a4046-dfad-11eb-b29f-0242ac120008-1-1375",
       "next": "329a4348-dfad-11eb-b29f-0242ac120008-1-ed21",
       "previous": "06afe9a8-98b0-11ea-8d02-0242ac120007-3-a1c1-faf0-55bd"
      },
      {
       "current": "329a4046-dfad-11eb-b29f-0242ac120008-2-1375-fa72",
       "next": "197c8f3e-6f15-11ee-89fa-0242ac120005",
       "previous": "06afe9a8-98b0-11ea-8d02-0242ac120007-3-a1c1-faf0-55bd"
      },
      {
       "current": "329a4046-dfad-11eb-b29f-0242ac120008-3-1375-fa72-e4f0",
       "next": "197c8f3e-6f15-11ee-89fa-0242ac120005-1-99a1",
       "previous": "06afe9a8-98b0-11ea-8d02-0242ac120007-4-a1c1-faf0-55bd-ef84"
      },
      {
       "current": "329a4046-dfad-11eb-b29f-0242ac120008-4-1375-fa72-e4f0-cb84",
       "next": "197c8f3e-6f15-11ee-89fa-0242ac120005-2-99a1-b183",
       "previous": "06afe9a8-98b0-11ea-8d02-0242ac120007-5-a1c1-faf0-55bd-ef84-b391"
      },
      {
       "current": "329a4046-dfad-11eb-b29f-0242ac120008-5-1375-fa72-e4f0-cb84-fadf",
       "next": "197c8f3e-6f15-11ee-89fa-0242ac120005-3-99a1-b183-c64a",
       "previous": "06afe9a8-98b0-11ea-8d02-0242ac120007-6-a1c1-faf0-55bd-ef84-b391-2bfe"
      }
     ],
     "next": "197c8f3e-6f15-11ee-89fa-0242ac120005-4-99a1-b183-c64a-f04b",
     "previous": "06afe9a8-98b0-11ea-8d02-0242ac120007-7-a1c1-faf0-55bd-ef84-b391-2bfe-0682"
    }
   },
   "source": [
    "ストレージノードを特定するにあたり、ノード名称が　ceph-nodexxx （xxxの部分は、右寄せ0埋めの数字3桁）というルールに従っていることを前提としている。<br>\n",
    " 例：ceph-node001<br>\n",
    " このノード名称ルールは、構築するCephクラスタ毎に変えるため、以下で定義する。"
   ]
  },
  {
   "cell_type": "code",
   "execution_count": null,
   "metadata": {
    "lc_cell_meme": {
     "current": "197c8f3e-6f15-11ee-89fa-0242ac120005-4-99a1-b183-c64a-f04b",
     "history": [
      {
       "current": "197c8f3e-6f15-11ee-89fa-0242ac120005-1-99a1",
       "next": "329a4348-dfad-11eb-b29f-0242ac120008-1-ed21",
       "previous": "329a4046-dfad-11eb-b29f-0242ac120008-1-1375"
      },
      {
       "current": "197c8f3e-6f15-11ee-89fa-0242ac120005-2-99a1-b183",
       "next": "329a4348-dfad-11eb-b29f-0242ac120008-2-ed21-c51b",
       "previous": "329a4046-dfad-11eb-b29f-0242ac120008-2-1375-fa72"
      },
      {
       "current": "197c8f3e-6f15-11ee-89fa-0242ac120005-3-99a1-b183-c64a",
       "next": "329a4348-dfad-11eb-b29f-0242ac120008-3-ed21-c51b-eb78",
       "previous": "329a4046-dfad-11eb-b29f-0242ac120008-3-1375-fa72-e4f0"
      },
      {
       "current": "197c8f3e-6f15-11ee-89fa-0242ac120005-4-99a1-b183-c64a-f04b",
       "next": "329a4348-dfad-11eb-b29f-0242ac120008-4-ed21-c51b-eb78-a5ff",
       "previous": "329a4046-dfad-11eb-b29f-0242ac120008-4-1375-fa72-e4f0-cb84"
      }
     ],
     "next": "329a4348-dfad-11eb-b29f-0242ac120008-5-ed21-c51b-eb78-a5ff-d8fc",
     "previous": "329a4046-dfad-11eb-b29f-0242ac120008-5-1375-fa72-e4f0-cb84-fadf"
    }
   },
   "outputs": [],
   "source": [
    "# 初期化対象のインスタンス名称を設定する\n",
    "raise Exception('この先手作業が必要です')"
   ]
  },
  {
   "cell_type": "code",
   "execution_count": null,
   "metadata": {
    "lc_cell_meme": {
     "current": "329a4348-dfad-11eb-b29f-0242ac120008-5-ed21-c51b-eb78-a5ff-d8fc",
     "history": [
      {
       "current": "329a4348-dfad-11eb-b29f-0242ac120008-1-ed21",
       "next": "04bfc54e-defc-11eb-b29f-0242ac120008",
       "previous": "329a4046-dfad-11eb-b29f-0242ac120008"
      },
      {
       "current": "329a4348-dfad-11eb-b29f-0242ac120008-1-ed21",
       "next": "04bfc54e-defc-11eb-b29f-0242ac120008-1-5336",
       "previous": "329a4046-dfad-11eb-b29f-0242ac120008-1-1375"
      },
      {
       "current": "329a4348-dfad-11eb-b29f-0242ac120008-2-ed21-c51b",
       "next": "197c8ff2-6f15-11ee-89fa-0242ac120005",
       "previous": "197c8f3e-6f15-11ee-89fa-0242ac120005"
      },
      {
       "current": "329a4348-dfad-11eb-b29f-0242ac120008-3-ed21-c51b-eb78",
       "next": "197c8ff2-6f15-11ee-89fa-0242ac120005-1-2ded",
       "previous": "197c8f3e-6f15-11ee-89fa-0242ac120005-1-99a1"
      },
      {
       "current": "329a4348-dfad-11eb-b29f-0242ac120008-4-ed21-c51b-eb78-a5ff",
       "next": "197c8ff2-6f15-11ee-89fa-0242ac120005-2-2ded-1c74",
       "previous": "197c8f3e-6f15-11ee-89fa-0242ac120005-2-99a1-b183"
      },
      {
       "current": "329a4348-dfad-11eb-b29f-0242ac120008-5-ed21-c51b-eb78-a5ff-d8fc",
       "next": "197c8ff2-6f15-11ee-89fa-0242ac120005-3-2ded-1c74-b17e",
       "previous": "197c8f3e-6f15-11ee-89fa-0242ac120005-3-99a1-b183-c64a"
      }
     ],
     "next": "197c8ff2-6f15-11ee-89fa-0242ac120005-4-2ded-1c74-b17e-9ffb",
     "previous": "197c8f3e-6f15-11ee-89fa-0242ac120005-4-99a1-b183-c64a-f04b"
    }
   },
   "outputs": [],
   "source": [
    "import pandas as pd\n",
    "import re\n",
    "\n",
    "# 対象インスタンス名称マッチングルール\n",
    "name_match_rule = r'ceph-xxx-node-[0-9]+'"
   ]
  },
  {
   "cell_type": "markdown",
   "metadata": {
    "lc_cell_meme": {
     "current": "197c8ff2-6f15-11ee-89fa-0242ac120005-4-2ded-1c74-b17e-9ffb",
     "history": [
      {
       "current": "197c8ff2-6f15-11ee-89fa-0242ac120005-1-2ded",
       "next": "197c9024-6f15-11ee-89fa-0242ac120005",
       "previous": "329a4348-dfad-11eb-b29f-0242ac120008-1-ed21"
      },
      {
       "current": "197c8ff2-6f15-11ee-89fa-0242ac120005-2-2ded-1c74",
       "next": "197c9024-6f15-11ee-89fa-0242ac120005-1-78e1",
       "previous": "329a4348-dfad-11eb-b29f-0242ac120008-2-ed21-c51b"
      },
      {
       "current": "197c8ff2-6f15-11ee-89fa-0242ac120005-3-2ded-1c74-b17e",
       "next": "197c9024-6f15-11ee-89fa-0242ac120005-2-78e1-d162",
       "previous": "329a4348-dfad-11eb-b29f-0242ac120008-3-ed21-c51b-eb78"
      },
      {
       "current": "197c8ff2-6f15-11ee-89fa-0242ac120005-4-2ded-1c74-b17e-9ffb",
       "next": "197c9024-6f15-11ee-89fa-0242ac120005-3-78e1-d162-e5ed",
       "previous": "329a4348-dfad-11eb-b29f-0242ac120008-4-ed21-c51b-eb78-a5ff"
      }
     ],
     "next": "197c9024-6f15-11ee-89fa-0242ac120005-4-78e1-d162-e5ed-1c06",
     "previous": "329a4348-dfad-11eb-b29f-0242ac120008-5-ed21-c51b-eb78-a5ff-d8fc"
    }
   },
   "source": [
    "## OpenStack Ironicからノード情報の取得"
   ]
  },
  {
   "cell_type": "code",
   "execution_count": null,
   "metadata": {
    "lc_cell_meme": {
     "current": "197c9024-6f15-11ee-89fa-0242ac120005-4-78e1-d162-e5ed-1c06",
     "history": [
      {
       "current": "197c9024-6f15-11ee-89fa-0242ac120005-1-78e1",
       "next": "197c904c-6f15-11ee-89fa-0242ac120005",
       "previous": "197c8ff2-6f15-11ee-89fa-0242ac120005"
      },
      {
       "current": "197c9024-6f15-11ee-89fa-0242ac120005-2-78e1-d162",
       "next": "197c904c-6f15-11ee-89fa-0242ac120005-1-0f71",
       "previous": "197c8ff2-6f15-11ee-89fa-0242ac120005-1-2ded"
      },
      {
       "current": "197c9024-6f15-11ee-89fa-0242ac120005-3-78e1-d162-e5ed",
       "next": "197c904c-6f15-11ee-89fa-0242ac120005-2-0f71-a271",
       "previous": "197c8ff2-6f15-11ee-89fa-0242ac120005-2-2ded-1c74"
      },
      {
       "current": "197c9024-6f15-11ee-89fa-0242ac120005-4-78e1-d162-e5ed-1c06",
       "next": "197c904c-6f15-11ee-89fa-0242ac120005-3-0f71-a271-6d17",
       "previous": "197c8ff2-6f15-11ee-89fa-0242ac120005-3-2ded-1c74-b17e"
      }
     ],
     "next": "197c904c-6f15-11ee-89fa-0242ac120005-4-0f71-a271-6d17-ea4b",
     "previous": "197c8ff2-6f15-11ee-89fa-0242ac120005-4-2ded-1c74-b17e-9ffb"
    },
    "scrolled": true
   },
   "outputs": [],
   "source": [
    "cmd = \"openstack baremetal node list -f json --long\"\n",
    "nodes = run_openstack(cmd)"
   ]
  },
  {
   "cell_type": "code",
   "execution_count": null,
   "metadata": {
    "lc_cell_meme": {
     "current": "197c904c-6f15-11ee-89fa-0242ac120005-4-0f71-a271-6d17-ea4b",
     "history": [
      {
       "current": "197c904c-6f15-11ee-89fa-0242ac120005-1-0f71",
       "next": "197c906a-6f15-11ee-89fa-0242ac120005",
       "previous": "197c9024-6f15-11ee-89fa-0242ac120005"
      },
      {
       "current": "197c904c-6f15-11ee-89fa-0242ac120005-2-0f71-a271",
       "next": "197c906a-6f15-11ee-89fa-0242ac120005-1-0314",
       "previous": "197c9024-6f15-11ee-89fa-0242ac120005-1-78e1"
      },
      {
       "current": "197c904c-6f15-11ee-89fa-0242ac120005-3-0f71-a271-6d17",
       "next": "197c906a-6f15-11ee-89fa-0242ac120005-2-0314-e48a",
       "previous": "197c9024-6f15-11ee-89fa-0242ac120005-2-78e1-d162"
      },
      {
       "current": "197c904c-6f15-11ee-89fa-0242ac120005-4-0f71-a271-6d17-ea4b",
       "next": "197c906a-6f15-11ee-89fa-0242ac120005-3-0314-e48a-d9fa",
       "previous": "197c9024-6f15-11ee-89fa-0242ac120005-3-78e1-d162-e5ed"
      }
     ],
     "next": "197c906a-6f15-11ee-89fa-0242ac120005-4-0314-e48a-d9fa-b68e",
     "previous": "197c9024-6f15-11ee-89fa-0242ac120005-4-78e1-d162-e5ed-1c06"
    },
    "scrolled": true
   },
   "outputs": [],
   "source": [
    "import pandas as pd\n",
    "import re\n",
    "\n",
    "for node in nodes:\n",
    "    instance_uuid = node.get(\"Instance UUID\", None)\n",
    "    if instance_uuid is None:\n",
    "        continue\n",
    "        \n",
    "    node[\"instance_name\"] = node[\"Instance Info\"][\"display_name\"]\n",
    "\n",
    "pd.set_option('display.max_rows', None)\n",
    "pd.DataFrame(nodes, columns=['Instance UUID', 'instance_name', 'UUID', 'Maintenance', 'Provisioning State', 'Power State', 'Name'])"
   ]
  },
  {
   "cell_type": "code",
   "execution_count": null,
   "metadata": {
    "lc_cell_meme": {
     "current": "197c906a-6f15-11ee-89fa-0242ac120005-4-0314-e48a-d9fa-b68e",
     "history": [
      {
       "current": "197c906a-6f15-11ee-89fa-0242ac120005-1-0314",
       "next": "197c9092-6f15-11ee-89fa-0242ac120005",
       "previous": "197c904c-6f15-11ee-89fa-0242ac120005"
      },
      {
       "current": "197c906a-6f15-11ee-89fa-0242ac120005-2-0314-e48a",
       "next": "197c9092-6f15-11ee-89fa-0242ac120005-1-da7f",
       "previous": "197c904c-6f15-11ee-89fa-0242ac120005-1-0f71"
      },
      {
       "current": "197c906a-6f15-11ee-89fa-0242ac120005-3-0314-e48a-d9fa",
       "next": "197c9092-6f15-11ee-89fa-0242ac120005-2-da7f-7836",
       "previous": "197c904c-6f15-11ee-89fa-0242ac120005-2-0f71-a271"
      },
      {
       "current": "197c906a-6f15-11ee-89fa-0242ac120005-4-0314-e48a-d9fa-b68e",
       "next": "197c9092-6f15-11ee-89fa-0242ac120005-3-da7f-7836-2b70",
       "previous": "197c904c-6f15-11ee-89fa-0242ac120005-3-0f71-a271-6d17"
      }
     ],
     "next": "197c9092-6f15-11ee-89fa-0242ac120005-4-da7f-7836-2b70-0feb",
     "previous": "197c904c-6f15-11ee-89fa-0242ac120005-4-0f71-a271-6d17-ea4b"
    },
    "scrolled": true
   },
   "outputs": [],
   "source": [
    "cmd = \"openstack server list -f json --long\"\n",
    "nova_server_map = run_openstack(cmd)"
   ]
  },
  {
   "cell_type": "code",
   "execution_count": null,
   "metadata": {
    "lc_cell_meme": {
     "current": "197c9092-6f15-11ee-89fa-0242ac120005-4-da7f-7836-2b70-0feb",
     "history": [
      {
       "current": "197c9092-6f15-11ee-89fa-0242ac120005",
       "next": "06afec50-98b0-11ea-8d02-0242ac120007-3-5828-a305-b690",
       "previous": "197c906a-6f15-11ee-89fa-0242ac120005"
      },
      {
       "current": "197c9092-6f15-11ee-89fa-0242ac120005",
       "next": "7007693c-7956-11ee-89fa-0242ac120005",
       "previous": "197c906a-6f15-11ee-89fa-0242ac120005"
      },
      {
       "current": "197c9092-6f15-11ee-89fa-0242ac120005-1-da7f",
       "next": "06afec50-98b0-11ea-8d02-0242ac120007-3-5828-a305-b690",
       "previous": "197c906a-6f15-11ee-89fa-0242ac120005"
      },
      {
       "current": "197c9092-6f15-11ee-89fa-0242ac120005-2-da7f-7836",
       "next": "06afec50-98b0-11ea-8d02-0242ac120007-4-5828-a305-b690-15d8",
       "previous": "197c906a-6f15-11ee-89fa-0242ac120005-1-0314"
      },
      {
       "current": "197c9092-6f15-11ee-89fa-0242ac120005-2-da7f-7836",
       "next": "06afec50-98b0-11ea-8d02-0242ac120007-5-5828-a305-b690-15d8-c231",
       "previous": "197c906a-6f15-11ee-89fa-0242ac120005-2-0314-e48a"
      },
      {
       "current": "197c9092-6f15-11ee-89fa-0242ac120005-3-da7f-7836-2b70",
       "next": "f36d2554-2497-11ef-ad2f-0242ac120005",
       "previous": "197c906a-6f15-11ee-89fa-0242ac120005-2-0314-e48a"
      },
      {
       "current": "197c9092-6f15-11ee-89fa-0242ac120005-4-da7f-7836-2b70-0feb",
       "next": "f36d2554-2497-11ef-ad2f-0242ac120005-1-efb5",
       "previous": "197c906a-6f15-11ee-89fa-0242ac120005-3-0314-e48a-d9fa"
      }
     ],
     "next": "f36d2554-2497-11ef-ad2f-0242ac120005-2-efb5-d158",
     "previous": "197c906a-6f15-11ee-89fa-0242ac120005-4-0314-e48a-d9fa-b68e"
    }
   },
   "outputs": [],
   "source": [
    "node_list = []\n",
    "for server in nova_server_map:\n",
    "    node_id = server['ID']\n",
    "    if re.match(name_match_rule, server['Name']) is None:\n",
    "        continue\n",
    "    for node in nodes:\n",
    "        if node['Instance UUID'] == node_id:\n",
    "            node_info = {}\n",
    "            node_list.append(node_info)\n",
    "            node_info['name'] = server['Name']\n",
    "            node_info['node_name'] = node['Name']\n",
    "            instance_ip_info = instance_ip_map.get(server['Name'], None)\n",
    "            if instance_ip_info is not None:\n",
    "                node_info['instance_ip'] = instance_ip_info.get('ipv4', None)\n",
    "            else:\n",
    "                node_info['instance_ip'] = None\n",
    "            address = server['Networks']\n",
    "            prov_net = address['provisioning-net']\n",
    "            for addr in prov_net:\n",
    "                node_info['prov_ip'] = addr\n",
    "\n",
    "pd.DataFrame(node_list)"
   ]
  },
  {
   "cell_type": "code",
   "execution_count": null,
   "metadata": {
    "lc_cell_meme": {
     "current": "f36d2554-2497-11ef-ad2f-0242ac120005-2-efb5-d158",
     "history": [
      {
       "current": "f36d2554-2497-11ef-ad2f-0242ac120005-1-efb5",
       "next": "06afec50-98b0-11ea-8d02-0242ac120007-5-5828-a305-b690-15d8-c231",
       "previous": "197c9092-6f15-11ee-89fa-0242ac120005-2-da7f-7836"
      },
      {
       "current": "f36d2554-2497-11ef-ad2f-0242ac120005-2-efb5-d158",
       "next": "06afec50-98b0-11ea-8d02-0242ac120007-6-5828-a305-b690-15d8-c231-0753",
       "previous": "197c9092-6f15-11ee-89fa-0242ac120005-3-da7f-7836-2b70"
      }
     ],
     "next": "06afec50-98b0-11ea-8d02-0242ac120007-7-5828-a305-b690-15d8-c231-0753-f35a",
     "previous": "197c9092-6f15-11ee-89fa-0242ac120005-4-da7f-7836-2b70-0feb"
    }
   },
   "outputs": [],
   "source": [
    "# nameをキーにしたノード情報生成\n",
    "node_map = {}\n",
    "for node in node_list:\n",
    "    node_map[node['name']] = node"
   ]
  },
  {
   "cell_type": "markdown",
   "metadata": {
    "lc_cell_meme": {
     "current": "06afec50-98b0-11ea-8d02-0242ac120007-7-5828-a305-b690-15d8-c231-0753-f35a",
     "history": [
      {
       "current": "06afec50-98b0-11ea-8d02-0242ac120007-1-5828",
       "next": "8a48d590-98a1-11ea-8d02-0242ac120007",
       "previous": "357fc83a-969d-11ea-8d02-0242ac120007"
      },
      {
       "current": "06afec50-98b0-11ea-8d02-0242ac120007-2-5828-a305",
       "next": "8a48d590-98a1-11ea-8d02-0242ac120007-1-1c0f",
       "previous": "357fc83a-969d-11ea-8d02-0242ac120007-1-9a36"
      },
      {
       "current": "06afec50-98b0-11ea-8d02-0242ac120007-3-5828-a305-b690",
       "next": "8a48d590-98a1-11ea-8d02-0242ac120007-2-1c0f-5b25",
       "previous": "357fc83a-969d-11ea-8d02-0242ac120007-2-9a36-95b8"
      },
      {
       "current": "06afec50-98b0-11ea-8d02-0242ac120007-3-5828-a305-b690",
       "next": "8a48d590-98a1-11ea-8d02-0242ac120007-3-1c0f-5b25-d7c0",
       "previous": "357fc83a-969d-11ea-8d02-0242ac120007-3-9a36-95b8-3fa9"
      },
      {
       "current": "06afec50-98b0-11ea-8d02-0242ac120007-3-5828-a305-b690",
       "next": "8a48d590-98a1-11ea-8d02-0242ac120007-3-1c0f-5b25-d7c0",
       "previous": "197c9092-6f15-11ee-89fa-0242ac120005"
      },
      {
       "current": "06afec50-98b0-11ea-8d02-0242ac120007-3-5828-a305-b690",
       "next": "8a48d590-98a1-11ea-8d02-0242ac120007-3-1c0f-5b25-d7c0",
       "previous": "7007693c-7956-11ee-89fa-0242ac120005"
      },
      {
       "current": "06afec50-98b0-11ea-8d02-0242ac120007-4-5828-a305-b690-15d8",
       "next": "8a48d590-98a1-11ea-8d02-0242ac120007-3-1c0f-5b25-d7c0",
       "previous": "197c9092-6f15-11ee-89fa-0242ac120005"
      },
      {
       "current": "06afec50-98b0-11ea-8d02-0242ac120007-5-5828-a305-b690-15d8-c231",
       "next": "8a48d590-98a1-11ea-8d02-0242ac120007-4-1c0f-5b25-d7c0-5795",
       "previous": "197c9092-6f15-11ee-89fa-0242ac120005-1-da7f"
      },
      {
       "current": "06afec50-98b0-11ea-8d02-0242ac120007-5-5828-a305-b690-15d8-c231",
       "next": "8a48d590-98a1-11ea-8d02-0242ac120007-5-1c0f-5b25-d7c0-5795-2270",
       "previous": "197c9092-6f15-11ee-89fa-0242ac120005-2-da7f-7836"
      },
      {
       "current": "06afec50-98b0-11ea-8d02-0242ac120007-6-5828-a305-b690-15d8-c231-0753",
       "next": "8a48d590-98a1-11ea-8d02-0242ac120007-5-1c0f-5b25-d7c0-5795-2270",
       "previous": "f36d2554-2497-11ef-ad2f-0242ac120005"
      },
      {
       "current": "06afec50-98b0-11ea-8d02-0242ac120007-7-5828-a305-b690-15d8-c231-0753-f35a",
       "next": "8a48d590-98a1-11ea-8d02-0242ac120007-6-1c0f-5b25-d7c0-5795-2270-741f",
       "previous": "f36d2554-2497-11ef-ad2f-0242ac120005-1-efb5"
      }
     ],
     "next": "8a48d590-98a1-11ea-8d02-0242ac120007-7-1c0f-5b25-d7c0-5795-2270-741f-2f7a",
     "previous": "f36d2554-2497-11ef-ad2f-0242ac120005-2-efb5-d158"
    }
   },
   "source": [
    "## 対象Cephノード情報の取得"
   ]
  },
  {
   "cell_type": "markdown",
   "metadata": {
    "lc_cell_meme": {
     "current": "8a48d590-98a1-11ea-8d02-0242ac120007-7-1c0f-5b25-d7c0-5795-2270-741f-2f7a",
     "history": [
      {
       "current": "8a48d590-98a1-11ea-8d02-0242ac120007",
       "next": "8a48d90a-98a1-11ea-8d02-0242ac120007",
       "previous": "357fc83a-969d-11ea-8d02-0242ac120007"
      },
      {
       "current": "8a48d590-98a1-11ea-8d02-0242ac120007",
       "next": "8a48d90a-98a1-11ea-8d02-0242ac120007",
       "previous": "06afec50-98b0-11ea-8d02-0242ac120007"
      },
      {
       "current": "8a48d590-98a1-11ea-8d02-0242ac120007",
       "next": "a85c1dda-959a-11ea-8d02-0242ac120007",
       "previous": "06afec50-98b0-11ea-8d02-0242ac120007"
      },
      {
       "current": "8a48d590-98a1-11ea-8d02-0242ac120007-1-1c0f",
       "next": "e879cdac-95bf-11ea-8d02-0242ac120007",
       "previous": "06afec50-98b0-11ea-8d02-0242ac120007"
      },
      {
       "current": "8a48d590-98a1-11ea-8d02-0242ac120007-2-1c0f-5b25",
       "next": "e879cdac-95bf-11ea-8d02-0242ac120007-1-4a2c",
       "previous": "06afec50-98b0-11ea-8d02-0242ac120007-1-5828"
      },
      {
       "current": "8a48d590-98a1-11ea-8d02-0242ac120007-3-1c0f-5b25-d7c0",
       "next": "e879cdac-95bf-11ea-8d02-0242ac120007-2-4a2c-6b2f",
       "previous": "06afec50-98b0-11ea-8d02-0242ac120007-2-5828-a305"
      },
      {
       "current": "8a48d590-98a1-11ea-8d02-0242ac120007-4-1c0f-5b25-d7c0-5795",
       "next": "e879cdac-95bf-11ea-8d02-0242ac120007-3-4a2c-6b2f-958d",
       "previous": "06afec50-98b0-11ea-8d02-0242ac120007-3-5828-a305-b690"
      },
      {
       "current": "8a48d590-98a1-11ea-8d02-0242ac120007-5-1c0f-5b25-d7c0-5795-2270",
       "next": "e879cdac-95bf-11ea-8d02-0242ac120007-4-4a2c-6b2f-958d-5269",
       "previous": "06afec50-98b0-11ea-8d02-0242ac120007-4-5828-a305-b690-15d8"
      },
      {
       "current": "8a48d590-98a1-11ea-8d02-0242ac120007-6-1c0f-5b25-d7c0-5795-2270-741f",
       "next": "e879cdac-95bf-11ea-8d02-0242ac120007-5-4a2c-6b2f-958d-5269-37b4",
       "previous": "06afec50-98b0-11ea-8d02-0242ac120007-5-5828-a305-b690-15d8-c231"
      },
      {
       "current": "8a48d590-98a1-11ea-8d02-0242ac120007-7-1c0f-5b25-d7c0-5795-2270-741f-2f7a",
       "next": "e879cdac-95bf-11ea-8d02-0242ac120007-6-4a2c-6b2f-958d-5269-37b4-e241",
       "previous": "06afec50-98b0-11ea-8d02-0242ac120007-6-5828-a305-b690-15d8-c231-0753"
      }
     ],
     "next": "e879cdac-95bf-11ea-8d02-0242ac120007-7-4a2c-6b2f-958d-5269-37b4-e241-b4f8",
     "previous": "06afec50-98b0-11ea-8d02-0242ac120007-7-5828-a305-b690-15d8-c231-0753-f35a"
    }
   },
   "source": [
    "初期化対象のインスタンス名称を設定する"
   ]
  },
  {
   "cell_type": "code",
   "execution_count": null,
   "metadata": {
    "lc_cell_meme": {
     "current": "e879cdac-95bf-11ea-8d02-0242ac120007-7-4a2c-6b2f-958d-5269-37b4-e241-b4f8",
     "history": [
      {
       "current": "e879cdac-95bf-11ea-8d02-0242ac120007",
       "next": "81dd4f74-9597-11ea-8d02-0242ac120007",
       "previous": "d1bcb8ac-9599-11ea-8d02-0242ac120007"
      },
      {
       "current": "e879cdac-95bf-11ea-8d02-0242ac120007",
       "next": "81dd4f74-9597-11ea-8d02-0242ac120007",
       "previous": "a85c1dda-959a-11ea-8d02-0242ac120007"
      },
      {
       "current": "e879cdac-95bf-11ea-8d02-0242ac120007",
       "next": "8a48d90a-98a1-11ea-8d02-0242ac120007",
       "previous": "a85c1dda-959a-11ea-8d02-0242ac120007"
      },
      {
       "current": "e879cdac-95bf-11ea-8d02-0242ac120007-1-4a2c",
       "next": "8a48d90a-98a1-11ea-8d02-0242ac120007",
       "previous": "8a48d590-98a1-11ea-8d02-0242ac120007"
      },
      {
       "current": "e879cdac-95bf-11ea-8d02-0242ac120007-2-4a2c-6b2f",
       "next": "8a48d90a-98a1-11ea-8d02-0242ac120007-1-0ebc",
       "previous": "8a48d590-98a1-11ea-8d02-0242ac120007-1-1c0f"
      },
      {
       "current": "e879cdac-95bf-11ea-8d02-0242ac120007-2-4a2c-6b2f",
       "next": "8a48d90a-98a1-11ea-8d02-0242ac120007-2-0ebc-93ac",
       "previous": "8a48d590-98a1-11ea-8d02-0242ac120007-2-1c0f-5b25"
      },
      {
       "current": "e879cdac-95bf-11ea-8d02-0242ac120007-3-4a2c-6b2f-958d",
       "next": "809aa1e6-def9-11eb-b29f-0242ac120008",
       "previous": "8a48d590-98a1-11ea-8d02-0242ac120007-2-1c0f-5b25"
      },
      {
       "current": "e879cdac-95bf-11ea-8d02-0242ac120007-4-4a2c-6b2f-958d-5269",
       "next": "809aa1e6-def9-11eb-b29f-0242ac120008-1-b49e",
       "previous": "8a48d590-98a1-11ea-8d02-0242ac120007-3-1c0f-5b25-d7c0"
      },
      {
       "current": "e879cdac-95bf-11ea-8d02-0242ac120007-5-4a2c-6b2f-958d-5269-37b4",
       "next": "809aa1e6-def9-11eb-b29f-0242ac120008-2-b49e-817b",
       "previous": "8a48d590-98a1-11ea-8d02-0242ac120007-4-1c0f-5b25-d7c0-5795"
      },
      {
       "current": "e879cdac-95bf-11ea-8d02-0242ac120007-6-4a2c-6b2f-958d-5269-37b4-e241",
       "next": "809aa1e6-def9-11eb-b29f-0242ac120008-3-b49e-817b-74da",
       "previous": "8a48d590-98a1-11ea-8d02-0242ac120007-5-1c0f-5b25-d7c0-5795-2270"
      },
      {
       "current": "e879cdac-95bf-11ea-8d02-0242ac120007-7-4a2c-6b2f-958d-5269-37b4-e241-b4f8",
       "next": "809aa1e6-def9-11eb-b29f-0242ac120008-4-b49e-817b-74da-0103",
       "previous": "8a48d590-98a1-11ea-8d02-0242ac120007-6-1c0f-5b25-d7c0-5795-2270-741f"
      }
     ],
     "next": "809aa1e6-def9-11eb-b29f-0242ac120008-5-b49e-817b-74da-0103-d488",
     "previous": "8a48d590-98a1-11ea-8d02-0242ac120007-7-1c0f-5b25-d7c0-5795-2270-741f-2f7a"
    },
    "scrolled": true
   },
   "outputs": [],
   "source": [
    "# adminのインスタンス名称を設定する\n",
    "raise Exception('この先手作業が必要です')"
   ]
  },
  {
   "cell_type": "markdown",
   "metadata": {
    "lc_cell_meme": {
     "current": "809aa1e6-def9-11eb-b29f-0242ac120008-5-b49e-817b-74da-0103-d488",
     "history": [
      {
       "current": "809aa1e6-def9-11eb-b29f-0242ac120008-1-b49e",
       "next": "8a48d90a-98a1-11ea-8d02-0242ac120007-2-0ebc-93ac",
       "previous": "e879cdac-95bf-11ea-8d02-0242ac120007-2-4a2c-6b2f"
      },
      {
       "current": "809aa1e6-def9-11eb-b29f-0242ac120008-1-b49e",
       "next": "8a48d90a-98a1-11ea-8d02-0242ac120007-3-0ebc-93ac-04b4",
       "previous": "e879cdac-95bf-11ea-8d02-0242ac120007-3-4a2c-6b2f-958d"
      },
      {
       "current": "809aa1e6-def9-11eb-b29f-0242ac120008-2-b49e-817b",
       "next": "bb3e251e-61bc-11ee-89fa-0242ac120005",
       "previous": "e879cdac-95bf-11ea-8d02-0242ac120007-3-4a2c-6b2f-958d"
      },
      {
       "current": "809aa1e6-def9-11eb-b29f-0242ac120008-3-b49e-817b-74da",
       "next": "bb3e251e-61bc-11ee-89fa-0242ac120005-1-432f",
       "previous": "e879cdac-95bf-11ea-8d02-0242ac120007-4-4a2c-6b2f-958d-5269"
      },
      {
       "current": "809aa1e6-def9-11eb-b29f-0242ac120008-4-b49e-817b-74da-0103",
       "next": "bb3e251e-61bc-11ee-89fa-0242ac120005-2-432f-d763",
       "previous": "e879cdac-95bf-11ea-8d02-0242ac120007-5-4a2c-6b2f-958d-5269-37b4"
      },
      {
       "current": "809aa1e6-def9-11eb-b29f-0242ac120008-5-b49e-817b-74da-0103-d488",
       "next": "bb3e251e-61bc-11ee-89fa-0242ac120005-3-432f-d763-1ba0",
       "previous": "e879cdac-95bf-11ea-8d02-0242ac120007-6-4a2c-6b2f-958d-5269-37b4-e241"
      }
     ],
     "next": "bb3e251e-61bc-11ee-89fa-0242ac120005-4-432f-d763-1ba0-5978",
     "previous": "e879cdac-95bf-11ea-8d02-0242ac120007-7-4a2c-6b2f-958d-5269-37b4-e241-b4f8"
    }
   },
   "source": [
    "### adminノードの指定"
   ]
  },
  {
   "cell_type": "code",
   "execution_count": null,
   "metadata": {
    "lc_cell_meme": {
     "current": "bb3e251e-61bc-11ee-89fa-0242ac120005-4-432f-d763-1ba0-5978",
     "history": [
      {
       "current": "bb3e251e-61bc-11ee-89fa-0242ac120005",
       "next": "8a48dae0-98a1-11ea-8d02-0242ac120007-3-4da2-9c77-127e",
       "previous": "8a48d90a-98a1-11ea-8d02-0242ac120007-3-0ebc-93ac-04b4"
      },
      {
       "current": "bb3e251e-61bc-11ee-89fa-0242ac120005",
       "next": "8a48dae0-98a1-11ea-8d02-0242ac120007-3-4da2-9c77-127e",
       "previous": "809aa1e6-def9-11eb-b29f-0242ac120008-1-b49e"
      },
      {
       "current": "bb3e251e-61bc-11ee-89fa-0242ac120005",
       "next": "a2611ada-7876-11ee-89fa-0242ac120005",
       "previous": "809aa1e6-def9-11eb-b29f-0242ac120008-1-b49e"
      },
      {
       "current": "bb3e251e-61bc-11ee-89fa-0242ac120005-1-432f",
       "next": "8a48dae0-98a1-11ea-8d02-0242ac120007-3-4da2-9c77-127e",
       "previous": "809aa1e6-def9-11eb-b29f-0242ac120008-1-b49e"
      },
      {
       "current": "bb3e251e-61bc-11ee-89fa-0242ac120005-2-432f-d763",
       "next": "8a48dae0-98a1-11ea-8d02-0242ac120007-4-4da2-9c77-127e-23a9",
       "previous": "809aa1e6-def9-11eb-b29f-0242ac120008-2-b49e-817b"
      },
      {
       "current": "bb3e251e-61bc-11ee-89fa-0242ac120005-3-432f-d763-1ba0",
       "next": "8a48dae0-98a1-11ea-8d02-0242ac120007-5-4da2-9c77-127e-23a9-483c",
       "previous": "809aa1e6-def9-11eb-b29f-0242ac120008-3-b49e-817b-74da"
      },
      {
       "current": "bb3e251e-61bc-11ee-89fa-0242ac120005-4-432f-d763-1ba0-5978",
       "next": "8a48dae0-98a1-11ea-8d02-0242ac120007-6-4da2-9c77-127e-23a9-483c-a0c3",
       "previous": "809aa1e6-def9-11eb-b29f-0242ac120008-4-b49e-817b-74da-0103"
      }
     ],
     "next": "8a48dae0-98a1-11ea-8d02-0242ac120007-7-4da2-9c77-127e-23a9-483c-a0c3-d777",
     "previous": "809aa1e6-def9-11eb-b29f-0242ac120008-5-b49e-817b-74da-0103-d488"
    }
   },
   "outputs": [],
   "source": [
    "bootstrap_node_name = 'ceph-xxx-node-001'"
   ]
  },
  {
   "cell_type": "code",
   "execution_count": null,
   "metadata": {
    "lc_cell_meme": {
     "current": "8a48dae0-98a1-11ea-8d02-0242ac120007-7-4da2-9c77-127e-23a9-483c-a0c3-d777",
     "history": [
      {
       "current": "8a48dae0-98a1-11ea-8d02-0242ac120007-1-4da2",
       "next": "35c339aa-55a3-11e7-b0b2-00163e9c0e35",
       "previous": "8a48d90a-98a1-11ea-8d02-0242ac120007"
      },
      {
       "current": "8a48dae0-98a1-11ea-8d02-0242ac120007-2-4da2-9c77",
       "next": "35c339aa-55a3-11e7-b0b2-00163e9c0e35-1-eee2",
       "previous": "8a48d90a-98a1-11ea-8d02-0242ac120007-1-0ebc"
      },
      {
       "current": "8a48dae0-98a1-11ea-8d02-0242ac120007-2-4da2-9c77",
       "next": "35c339aa-55a3-11e7-b0b2-00163e9c0e35-2-eee2-af6c",
       "previous": "8a48d90a-98a1-11ea-8d02-0242ac120007-2-0ebc-93ac"
      },
      {
       "current": "8a48dae0-98a1-11ea-8d02-0242ac120007-2-4da2-9c77",
       "next": "35c362a4-55a3-11e7-b0b2-00163e9c0e35-2-3f0a-3633",
       "previous": "8a48d90a-98a1-11ea-8d02-0242ac120007-2-0ebc-93ac"
      },
      {
       "current": "8a48dae0-98a1-11ea-8d02-0242ac120007-2-4da2-9c77",
       "next": "1afe7a3e-def8-11eb-b29f-0242ac120008",
       "previous": "8a48d90a-98a1-11ea-8d02-0242ac120007-2-0ebc-93ac"
      },
      {
       "current": "8a48dae0-98a1-11ea-8d02-0242ac120007-3-4da2-9c77-127e",
       "next": "35c35a52-55a3-11e7-b0b2-00163e9c0e35-2-ed71-9007",
       "previous": "8a48d90a-98a1-11ea-8d02-0242ac120007-2-0ebc-93ac"
      },
      {
       "current": "8a48dae0-98a1-11ea-8d02-0242ac120007-3-4da2-9c77-127e",
       "next": "35c35a52-55a3-11e7-b0b2-00163e9c0e35-3-ed71-9007-f930",
       "previous": "8a48d90a-98a1-11ea-8d02-0242ac120007-3-0ebc-93ac-04b4"
      },
      {
       "current": "8a48dae0-98a1-11ea-8d02-0242ac120007-3-4da2-9c77-127e",
       "next": "2c2cd6ae-61bc-11ee-89fa-0242ac120005",
       "previous": "8a48d90a-98a1-11ea-8d02-0242ac120007-3-0ebc-93ac-04b4"
      },
      {
       "current": "8a48dae0-98a1-11ea-8d02-0242ac120007-3-4da2-9c77-127e",
       "next": "2c2cd6ae-61bc-11ee-89fa-0242ac120005",
       "previous": "bb3e251e-61bc-11ee-89fa-0242ac120005"
      },
      {
       "current": "8a48dae0-98a1-11ea-8d02-0242ac120007-3-4da2-9c77-127e",
       "next": "35c35f52-55a3-11e7-b0b2-00163e9c0e35-3-e2de-8a27-98e3",
       "previous": "bb3e251e-61bc-11ee-89fa-0242ac120005"
      },
      {
       "current": "8a48dae0-98a1-11ea-8d02-0242ac120007-3-4da2-9c77-127e",
       "next": "a2611ca6-7876-11ee-89fa-0242ac120005",
       "previous": "a2611ada-7876-11ee-89fa-0242ac120005"
      },
      {
       "current": "8a48dae0-98a1-11ea-8d02-0242ac120007-3-4da2-9c77-127e",
       "next": "2dd5493e-788f-11ee-89fa-0242ac120005",
       "previous": "bb3e251e-61bc-11ee-89fa-0242ac120005"
      },
      {
       "current": "8a48dae0-98a1-11ea-8d02-0242ac120007-4-4da2-9c77-127e-23a9",
       "next": "35c35f52-55a3-11e7-b0b2-00163e9c0e35-3-e2de-8a27-98e3",
       "previous": "bb3e251e-61bc-11ee-89fa-0242ac120005"
      },
      {
       "current": "8a48dae0-98a1-11ea-8d02-0242ac120007-5-4da2-9c77-127e-23a9-483c",
       "next": "35c35f52-55a3-11e7-b0b2-00163e9c0e35-4-e2de-8a27-98e3-decf",
       "previous": "bb3e251e-61bc-11ee-89fa-0242ac120005-1-432f"
      },
      {
       "current": "8a48dae0-98a1-11ea-8d02-0242ac120007-6-4da2-9c77-127e-23a9-483c-a0c3",
       "next": "35c35f52-55a3-11e7-b0b2-00163e9c0e35-5-e2de-8a27-98e3-decf-8e8b",
       "previous": "bb3e251e-61bc-11ee-89fa-0242ac120005-2-432f-d763"
      },
      {
       "current": "8a48dae0-98a1-11ea-8d02-0242ac120007-7-4da2-9c77-127e-23a9-483c-a0c3-d777",
       "next": "35c35f52-55a3-11e7-b0b2-00163e9c0e35-6-e2de-8a27-98e3-decf-8e8b-ac96",
       "previous": "bb3e251e-61bc-11ee-89fa-0242ac120005-3-432f-d763-1ba0"
      }
     ],
     "next": "35c35f52-55a3-11e7-b0b2-00163e9c0e35-7-e2de-8a27-98e3-decf-8e8b-ac96-632c",
     "previous": "bb3e251e-61bc-11ee-89fa-0242ac120005-4-432f-d763-1ba0-5978"
    }
   },
   "outputs": [],
   "source": [
    "bootstrap_node = node_map.get(bootstrap_node_name, None)\n",
    "\n",
    "assert (bootstrap_node is not None), \"指定されたBootstrap nodeが存在しません。\"\n",
    "print(bootstrap_node)"
   ]
  },
  {
   "cell_type": "markdown",
   "metadata": {
    "lc_cell_meme": {
     "current": "35c35f52-55a3-11e7-b0b2-00163e9c0e35-7-e2de-8a27-98e3-decf-8e8b-ac96-632c",
     "history": [
      {
       "current": "35c35f52-55a3-11e7-b0b2-00163e9c0e35",
       "next": "35c360f6-55a3-11e7-b0b2-00163e9c0e35",
       "previous": "35c35dae-55a3-11e7-b0b2-00163e9c0e35"
      },
      {
       "current": "35c35f52-55a3-11e7-b0b2-00163e9c0e35-1-e2de",
       "next": "a33430b0-9327-11ea-8d02-0242ac120007",
       "previous": "35c35dae-55a3-11e7-b0b2-00163e9c0e35"
      },
      {
       "current": "35c35f52-55a3-11e7-b0b2-00163e9c0e35-2-e2de-8a27",
       "next": "a33430b0-9327-11ea-8d02-0242ac120007-1-3202",
       "previous": "35c35dae-55a3-11e7-b0b2-00163e9c0e35-1-7091"
      },
      {
       "current": "35c35f52-55a3-11e7-b0b2-00163e9c0e35-3-e2de-8a27-98e3",
       "next": "a33430b0-9327-11ea-8d02-0242ac120007-2-3202-0bdc",
       "previous": "35c35dae-55a3-11e7-b0b2-00163e9c0e35-2-7091-7055"
      },
      {
       "current": "35c35f52-55a3-11e7-b0b2-00163e9c0e35-3-e2de-8a27-98e3",
       "next": "a33430b0-9327-11ea-8d02-0242ac120007-3-3202-0bdc-fd62",
       "previous": "35c35dae-55a3-11e7-b0b2-00163e9c0e35-3-7091-7055-1fd7"
      },
      {
       "current": "35c35f52-55a3-11e7-b0b2-00163e9c0e35-3-e2de-8a27-98e3",
       "next": "a33430b0-9327-11ea-8d02-0242ac120007-3-3202-0bdc-fd62",
       "previous": "35c35a52-55a3-11e7-b0b2-00163e9c0e35-3-ed71-9007-f930"
      },
      {
       "current": "35c35f52-55a3-11e7-b0b2-00163e9c0e35-3-e2de-8a27-98e3",
       "next": "a33430b0-9327-11ea-8d02-0242ac120007-3-3202-0bdc-fd62",
       "previous": "2c2cd6ae-61bc-11ee-89fa-0242ac120005"
      },
      {
       "current": "35c35f52-55a3-11e7-b0b2-00163e9c0e35-3-e2de-8a27-98e3",
       "next": "a33430b0-9327-11ea-8d02-0242ac120007-3-3202-0bdc-fd62",
       "previous": "8a48dae0-98a1-11ea-8d02-0242ac120007-3-4da2-9c77-127e"
      },
      {
       "current": "35c35f52-55a3-11e7-b0b2-00163e9c0e35-3-e2de-8a27-98e3",
       "next": "a33430b0-9327-11ea-8d02-0242ac120007-3-3202-0bdc-fd62",
       "previous": "a2611ca6-7876-11ee-89fa-0242ac120005"
      },
      {
       "current": "35c35f52-55a3-11e7-b0b2-00163e9c0e35-4-e2de-8a27-98e3-decf",
       "next": "a33430b0-9327-11ea-8d02-0242ac120007-3-3202-0bdc-fd62",
       "previous": "8a48dae0-98a1-11ea-8d02-0242ac120007-3-4da2-9c77-127e"
      },
      {
       "current": "35c35f52-55a3-11e7-b0b2-00163e9c0e35-5-e2de-8a27-98e3-decf-8e8b",
       "next": "a33430b0-9327-11ea-8d02-0242ac120007-4-3202-0bdc-fd62-d055",
       "previous": "8a48dae0-98a1-11ea-8d02-0242ac120007-4-4da2-9c77-127e-23a9"
      },
      {
       "current": "35c35f52-55a3-11e7-b0b2-00163e9c0e35-6-e2de-8a27-98e3-decf-8e8b-ac96",
       "next": "a33430b0-9327-11ea-8d02-0242ac120007-5-3202-0bdc-fd62-d055-7f29",
       "previous": "8a48dae0-98a1-11ea-8d02-0242ac120007-5-4da2-9c77-127e-23a9-483c"
      },
      {
       "current": "35c35f52-55a3-11e7-b0b2-00163e9c0e35-7-e2de-8a27-98e3-decf-8e8b-ac96-632c",
       "next": "a33430b0-9327-11ea-8d02-0242ac120007-6-3202-0bdc-fd62-d055-7f29-21e3",
       "previous": "8a48dae0-98a1-11ea-8d02-0242ac120007-6-4da2-9c77-127e-23a9-483c-a0c3"
      }
     ],
     "next": "a33430b0-9327-11ea-8d02-0242ac120007-7-3202-0bdc-fd62-d055-7f29-21e3-b305",
     "previous": "8a48dae0-98a1-11ea-8d02-0242ac120007-7-4da2-9c77-127e-23a9-483c-a0c3-d777"
    }
   },
   "source": [
    "# Inventoryファイルを生成する。"
   ]
  },
  {
   "cell_type": "code",
   "execution_count": null,
   "metadata": {
    "lc_cell_meme": {
     "current": "a33430b0-9327-11ea-8d02-0242ac120007-7-3202-0bdc-fd62-d055-7f29-21e3-b305",
     "history": [
      {
       "current": "a33430b0-9327-11ea-8d02-0242ac120007",
       "next": "35c360f6-55a3-11e7-b0b2-00163e9c0e35",
       "previous": "35c35f52-55a3-11e7-b0b2-00163e9c0e35"
      },
      {
       "current": "a33430b0-9327-11ea-8d02-0242ac120007-1-3202",
       "next": "9c0b8624-959f-11ea-8d02-0242ac120007",
       "previous": "35c35f52-55a3-11e7-b0b2-00163e9c0e35"
      },
      {
       "current": "a33430b0-9327-11ea-8d02-0242ac120007-2-3202-0bdc",
       "next": "9c0b8624-959f-11ea-8d02-0242ac120007-1-8098",
       "previous": "35c35f52-55a3-11e7-b0b2-00163e9c0e35-1-e2de"
      },
      {
       "current": "a33430b0-9327-11ea-8d02-0242ac120007-2-3202-0bdc",
       "next": "9c0b8624-959f-11ea-8d02-0242ac120007-2-8098-a371",
       "previous": "35c35f52-55a3-11e7-b0b2-00163e9c0e35-2-e2de-8a27"
      },
      {
       "current": "a33430b0-9327-11ea-8d02-0242ac120007-3-3202-0bdc-fd62",
       "next": "27f1be96-f4f0-11eb-b29f-0242ac120008",
       "previous": "35c35f52-55a3-11e7-b0b2-00163e9c0e35-2-e2de-8a27"
      },
      {
       "current": "a33430b0-9327-11ea-8d02-0242ac120007-3-3202-0bdc-fd62",
       "next": "27f1be96-f4f0-11eb-b29f-0242ac120008-1-0b6c",
       "previous": "35c35f52-55a3-11e7-b0b2-00163e9c0e35-3-e2de-8a27-98e3"
      },
      {
       "current": "a33430b0-9327-11ea-8d02-0242ac120007-4-3202-0bdc-fd62-d055",
       "next": "73b1e49c-61bc-11ee-89fa-0242ac120005",
       "previous": "35c35f52-55a3-11e7-b0b2-00163e9c0e35-3-e2de-8a27-98e3"
      },
      {
       "current": "a33430b0-9327-11ea-8d02-0242ac120007-5-3202-0bdc-fd62-d055-7f29",
       "next": "73b1e49c-61bc-11ee-89fa-0242ac120005-1-eb86",
       "previous": "35c35f52-55a3-11e7-b0b2-00163e9c0e35-4-e2de-8a27-98e3-decf"
      },
      {
       "current": "a33430b0-9327-11ea-8d02-0242ac120007-6-3202-0bdc-fd62-d055-7f29-21e3",
       "next": "73b1e49c-61bc-11ee-89fa-0242ac120005-2-eb86-d24d",
       "previous": "35c35f52-55a3-11e7-b0b2-00163e9c0e35-5-e2de-8a27-98e3-decf-8e8b"
      },
      {
       "current": "a33430b0-9327-11ea-8d02-0242ac120007-7-3202-0bdc-fd62-d055-7f29-21e3-b305",
       "next": "73b1e49c-61bc-11ee-89fa-0242ac120005-3-eb86-d24d-ddf7",
       "previous": "35c35f52-55a3-11e7-b0b2-00163e9c0e35-6-e2de-8a27-98e3-decf-8e8b-ac96"
      }
     ],
     "next": "73b1e49c-61bc-11ee-89fa-0242ac120005-4-eb86-d24d-ddf7-80bf",
     "previous": "35c35f52-55a3-11e7-b0b2-00163e9c0e35-7-e2de-8a27-98e3-decf-8e8b-ac96-632c"
    }
   },
   "outputs": [],
   "source": [
    "node_user='xxxxx'\n",
    "cephadmin_user='cephadmin'\n",
    "node_key='~/.ssh/id_ras'\n",
    "proxy_user='xxxxx'\n",
    "proxy_key='~/.ssh/id_ras'"
   ]
  },
  {
   "cell_type": "code",
   "execution_count": null,
   "metadata": {
    "lc_cell_meme": {
     "current": "73b1e49c-61bc-11ee-89fa-0242ac120005-4-eb86-d24d-ddf7-80bf",
     "history": [
      {
       "current": "73b1e49c-61bc-11ee-89fa-0242ac120005",
       "next": "35c360f6-55a3-11e7-b0b2-00163e9c0e35-3-4a79-f9ba-754f",
       "previous": "9c0b8624-959f-11ea-8d02-0242ac120007-3-8098-a371-0b4a"
      },
      {
       "current": "73b1e49c-61bc-11ee-89fa-0242ac120005-1-eb86",
       "next": "35c360f6-55a3-11e7-b0b2-00163e9c0e35-3-4a79-f9ba-754f",
       "previous": "a33430b0-9327-11ea-8d02-0242ac120007-3-3202-0bdc-fd62"
      },
      {
       "current": "73b1e49c-61bc-11ee-89fa-0242ac120005-2-eb86-d24d",
       "next": "35c360f6-55a3-11e7-b0b2-00163e9c0e35-4-4a79-f9ba-754f-e407",
       "previous": "a33430b0-9327-11ea-8d02-0242ac120007-4-3202-0bdc-fd62-d055"
      },
      {
       "current": "73b1e49c-61bc-11ee-89fa-0242ac120005-3-eb86-d24d-ddf7",
       "next": "35c360f6-55a3-11e7-b0b2-00163e9c0e35-5-4a79-f9ba-754f-e407-6895",
       "previous": "a33430b0-9327-11ea-8d02-0242ac120007-5-3202-0bdc-fd62-d055-7f29"
      },
      {
       "current": "73b1e49c-61bc-11ee-89fa-0242ac120005-4-eb86-d24d-ddf7-80bf",
       "next": "35c360f6-55a3-11e7-b0b2-00163e9c0e35-6-4a79-f9ba-754f-e407-6895-1638",
       "previous": "a33430b0-9327-11ea-8d02-0242ac120007-6-3202-0bdc-fd62-d055-7f29-21e3"
      }
     ],
     "next": "35c360f6-55a3-11e7-b0b2-00163e9c0e35-7-4a79-f9ba-754f-e407-6895-1638-8cc8",
     "previous": "a33430b0-9327-11ea-8d02-0242ac120007-7-3202-0bdc-fd62-d055-7f29-21e3-b305"
    }
   },
   "outputs": [],
   "source": [
    "bootstrap_ip = bootstrap_node['prov_ip']"
   ]
  },
  {
   "cell_type": "code",
   "execution_count": null,
   "metadata": {
    "ExecuteTime": {
     "end_time": "2017-06-29T08:50:39.909299Z",
     "start_time": "2017-06-29T08:50:39.762658Z"
    },
    "lc_cell_meme": {
     "current": "35c360f6-55a3-11e7-b0b2-00163e9c0e35-7-4a79-f9ba-754f-e407-6895-1638-8cc8",
     "history": [
      {
       "current": "35c360f6-55a3-11e7-b0b2-00163e9c0e35",
       "next": "35c362a4-55a3-11e7-b0b2-00163e9c0e35",
       "previous": "35c35f52-55a3-11e7-b0b2-00163e9c0e35"
      },
      {
       "current": "35c360f6-55a3-11e7-b0b2-00163e9c0e35",
       "next": "35c362a4-55a3-11e7-b0b2-00163e9c0e35",
       "previous": "a33430b0-9327-11ea-8d02-0242ac120007"
      },
      {
       "current": "35c360f6-55a3-11e7-b0b2-00163e9c0e35-1-4a79",
       "next": "35c362a4-55a3-11e7-b0b2-00163e9c0e35",
       "previous": "9c0b88cc-959f-11ea-8d02-0242ac120007"
      },
      {
       "current": "35c360f6-55a3-11e7-b0b2-00163e9c0e35-2-4a79-f9ba",
       "next": "35c362a4-55a3-11e7-b0b2-00163e9c0e35-1-3f0a",
       "previous": "9c0b88cc-959f-11ea-8d02-0242ac120007-1-b077"
      },
      {
       "current": "35c360f6-55a3-11e7-b0b2-00163e9c0e35-2-4a79-f9ba",
       "next": "35c362a4-55a3-11e7-b0b2-00163e9c0e35-2-3f0a-3633",
       "previous": "9c0b88cc-959f-11ea-8d02-0242ac120007-2-b077-046d"
      },
      {
       "current": "35c360f6-55a3-11e7-b0b2-00163e9c0e35-2-4a79-f9ba",
       "next": "7dae8996-9686-11ea-8d02-0242ac120007-2-20c5-a0b0",
       "previous": "9c0b88cc-959f-11ea-8d02-0242ac120007-2-b077-046d"
      },
      {
       "current": "35c360f6-55a3-11e7-b0b2-00163e9c0e35-2-4a79-f9ba",
       "next": "35c362a4-55a3-11e7-b0b2-00163e9c0e35-2-89a7-98f2",
       "previous": "9c0b88cc-959f-11ea-8d02-0242ac120007-2-b077-046d"
      },
      {
       "current": "35c360f6-55a3-11e7-b0b2-00163e9c0e35-3-4a79-f9ba-754f",
       "next": "35c362a4-55a3-11e7-b0b2-00163e9c0e35-2-89a7-98f2",
       "previous": "9c0b8624-959f-11ea-8d02-0242ac120007-2-8098-a371"
      },
      {
       "current": "35c360f6-55a3-11e7-b0b2-00163e9c0e35-3-4a79-f9ba-754f",
       "next": "35c362a4-55a3-11e7-b0b2-00163e9c0e35-3-89a7-98f2-5cf2",
       "previous": "9c0b8624-959f-11ea-8d02-0242ac120007-3-8098-a371-0b4a"
      },
      {
       "current": "35c360f6-55a3-11e7-b0b2-00163e9c0e35-4-4a79-f9ba-754f-e407",
       "next": "35c362a4-55a3-11e7-b0b2-00163e9c0e35-3-89a7-98f2-5cf2",
       "previous": "73b1e49c-61bc-11ee-89fa-0242ac120005"
      },
      {
       "current": "35c360f6-55a3-11e7-b0b2-00163e9c0e35-5-4a79-f9ba-754f-e407-6895",
       "next": "35c362a4-55a3-11e7-b0b2-00163e9c0e35-4-89a7-98f2-5cf2-796f",
       "previous": "73b1e49c-61bc-11ee-89fa-0242ac120005-1-eb86"
      },
      {
       "current": "35c360f6-55a3-11e7-b0b2-00163e9c0e35-5-4a79-f9ba-754f-e407-6895",
       "next": "35c362a4-55a3-11e7-b0b2-00163e9c0e35-5-89a7-98f2-5cf2-796f-c5af",
       "previous": "73b1e49c-61bc-11ee-89fa-0242ac120005-2-eb86-d24d"
      },
      {
       "current": "35c360f6-55a3-11e7-b0b2-00163e9c0e35-6-4a79-f9ba-754f-e407-6895-1638",
       "next": "e23fb85e-2498-11ef-ad2f-0242ac120005",
       "previous": "73b1e49c-61bc-11ee-89fa-0242ac120005-2-eb86-d24d"
      },
      {
       "current": "35c360f6-55a3-11e7-b0b2-00163e9c0e35-7-4a79-f9ba-754f-e407-6895-1638-8cc8",
       "next": "e23fb85e-2498-11ef-ad2f-0242ac120005-1-c653",
       "previous": "73b1e49c-61bc-11ee-89fa-0242ac120005-3-eb86-d24d-ddf7"
      }
     ],
     "next": "e23fb85e-2498-11ef-ad2f-0242ac120005-2-c653-6cac",
     "previous": "73b1e49c-61bc-11ee-89fa-0242ac120005-4-eb86-d24d-ddf7-80bf"
    },
    "run_control": {
     "frozen": true
    },
    "scrolled": true
   },
   "outputs": [],
   "source": [
    "import os\n",
    "\n",
    "with open( os.path.join(temp_dir, \"hosts\"), 'w') as f:\n",
    "\n",
    "    f.write('''[ceph_admin]\n",
    "{ceph_admin_ip} ansible_user={proxy_user} ansible_ssh_private_key_file={proxy_key} ansible_python_interpreter=/usr/bin/python3\n",
    "'''.format(ceph_admin_ip=ceph_admin_ip, proxy_user=proxy_user, proxy_key=proxy_key, bootstrap_ip=bootstrap_ip))\n",
    "\n",
    "    f.write('''[bootstrap]\n",
    "{node_ip} ansible_user={node_user} ansible_ssh_private_key_file={node_key} ansible_ssh_common_args='-o ControlMaster=auto -o StrictHostKeyChecking=no -o ControlPersist=30m -o ProxyCommand=\"ssh -W %h:%p -i {proxy_key} -q {proxy_user}@{ceph_admin_ip}\"' ansible_python_interpreter=/usr/bin/python3\n",
    "[ceph_nodes]\n",
    "'''.format(ceph_admin_ip=ceph_admin_ip, node_ip=bootstrap_ip, node_key=node_key,\n",
    "           node_user=node_user, proxy_user=proxy_user, proxy_key=proxy_key))\n",
    "    \n",
    "    for node in node_list:\n",
    "        node_ip = node['prov_ip']\n",
    "        f.write('''{node_ip} ansible_user={node_user} ansible_ssh_private_key_file={node_key} ansible_ssh_common_args='-o ControlMaster=auto -o StrictHostKeyChecking=no -o ControlPersist=30m -o ProxyCommand=\"ssh -W %h:%p -i {proxy_key} -q {proxy_user}@{ceph_admin_ip}\"' ansible_python_interpreter=/usr/bin/python3\n",
    "'''.format(ceph_admin_ip=ceph_admin_ip, node_ip=node_ip, node_key=node_key,\n",
    "           node_user=node_user, proxy_user=proxy_user, proxy_key=proxy_key))\n",
    "\n",
    "hosts = temp_dir + \"/hosts\"\n",
    "\n",
    "!cat $hosts"
   ]
  },
  {
   "cell_type": "code",
   "execution_count": null,
   "metadata": {
    "lc_cell_meme": {
     "current": "e23fb85e-2498-11ef-ad2f-0242ac120005-2-c653-6cac",
     "history": [
      {
       "current": "e23fb85e-2498-11ef-ad2f-0242ac120005-1-c653",
       "next": "35c362a4-55a3-11e7-b0b2-00163e9c0e35-5-89a7-98f2-5cf2-796f-c5af",
       "previous": "35c360f6-55a3-11e7-b0b2-00163e9c0e35-5-4a79-f9ba-754f-e407-6895"
      },
      {
       "current": "e23fb85e-2498-11ef-ad2f-0242ac120005-2-c653-6cac",
       "next": "35c362a4-55a3-11e7-b0b2-00163e9c0e35-6-89a7-98f2-5cf2-796f-c5af-d9b3",
       "previous": "35c360f6-55a3-11e7-b0b2-00163e9c0e35-6-4a79-f9ba-754f-e407-6895-1638"
      }
     ],
     "next": "35c362a4-55a3-11e7-b0b2-00163e9c0e35-7-89a7-98f2-5cf2-796f-c5af-d9b3-6ec2",
     "previous": "35c360f6-55a3-11e7-b0b2-00163e9c0e35-7-4a79-f9ba-754f-e407-6895-1638-8cc8"
    }
   },
   "outputs": [],
   "source": [
    "%env ANSIBLE_INVENTORY={hosts}"
   ]
  },
  {
   "cell_type": "markdown",
   "metadata": {
    "lc_cell_meme": {
     "current": "35c362a4-55a3-11e7-b0b2-00163e9c0e35-7-89a7-98f2-5cf2-796f-c5af-d9b3-6ec2",
     "history": [
      {
       "current": "35c362a4-55a3-11e7-b0b2-00163e9c0e35",
       "next": "35c36448-55a3-11e7-b0b2-00163e9c0e35",
       "previous": "35c360f6-55a3-11e7-b0b2-00163e9c0e35"
      },
      {
       "current": "35c362a4-55a3-11e7-b0b2-00163e9c0e35",
       "next": "35c36448-55a3-11e7-b0b2-00163e9c0e35",
       "previous": "4cd5b0cc-7ef5-11ea-a926-0242ac120004"
      },
      {
       "current": "35c362a4-55a3-11e7-b0b2-00163e9c0e35",
       "next": "35c36448-55a3-11e7-b0b2-00163e9c0e35",
       "previous": "db546a28-7ef5-11ea-a926-0242ac120004"
      },
      {
       "current": "35c362a4-55a3-11e7-b0b2-00163e9c0e35",
       "next": "35c36448-55a3-11e7-b0b2-00163e9c0e35",
       "previous": "4cd5af28-7ef5-11ea-a926-0242ac120004"
      },
      {
       "current": "35c362a4-55a3-11e7-b0b2-00163e9c0e35",
       "next": "35c36448-55a3-11e7-b0b2-00163e9c0e35",
       "previous": "7d464504-9107-11ea-8d02-0242ac120007"
      },
      {
       "current": "35c362a4-55a3-11e7-b0b2-00163e9c0e35",
       "next": "35c36448-55a3-11e7-b0b2-00163e9c0e35",
       "previous": "bd797188-910b-11ea-8d02-0242ac120007"
      },
      {
       "current": "35c362a4-55a3-11e7-b0b2-00163e9c0e35",
       "next": "35c36448-55a3-11e7-b0b2-00163e9c0e35",
       "previous": "70b95056-9111-11ea-8d02-0242ac120007"
      },
      {
       "current": "35c362a4-55a3-11e7-b0b2-00163e9c0e35",
       "next": "35c36448-55a3-11e7-b0b2-00163e9c0e35",
       "previous": "bd797188-910b-11ea-8d02-0242ac120007"
      },
      {
       "current": "35c362a4-55a3-11e7-b0b2-00163e9c0e35",
       "next": "bd797188-910b-11ea-8d02-0242ac120007",
       "previous": "4cd5af28-7ef5-11ea-a926-0242ac120004"
      },
      {
       "current": "35c362a4-55a3-11e7-b0b2-00163e9c0e35",
       "next": "484c7376-935c-11ea-8d02-0242ac120007",
       "previous": "4cd5af28-7ef5-11ea-a926-0242ac120004"
      },
      {
       "current": "35c362a4-55a3-11e7-b0b2-00163e9c0e35-1-89a7",
       "next": "bd797188-910b-11ea-8d02-0242ac120007",
       "previous": "4cd5af28-7ef5-11ea-a926-0242ac120004"
      },
      {
       "current": "35c362a4-55a3-11e7-b0b2-00163e9c0e35-2-89a7-98f2",
       "next": "bd797188-910b-11ea-8d02-0242ac120007-1-728a",
       "previous": "4cd5af28-7ef5-11ea-a926-0242ac120004-1-726b"
      },
      {
       "current": "35c362a4-55a3-11e7-b0b2-00163e9c0e35-2-89a7-98f2",
       "next": "bd797188-910b-11ea-8d02-0242ac120007-2-728a-254c",
       "previous": "4cd5af28-7ef5-11ea-a926-0242ac120004-2-726b-a0d6"
      },
      {
       "current": "35c362a4-55a3-11e7-b0b2-00163e9c0e35-2-89a7-98f2",
       "next": "bd797188-910b-11ea-8d02-0242ac120007-2-728a-254c",
       "previous": "35c360f6-55a3-11e7-b0b2-00163e9c0e35-2-4a79-f9ba"
      },
      {
       "current": "35c362a4-55a3-11e7-b0b2-00163e9c0e35-3-89a7-98f2-5cf2",
       "next": "ef4d2888-aa17-11ea-9ad4-0242ac120006-1-42b7",
       "previous": "35c360f6-55a3-11e7-b0b2-00163e9c0e35-2-4a79-f9ba"
      },
      {
       "current": "35c362a4-55a3-11e7-b0b2-00163e9c0e35-4-89a7-98f2-5cf2-796f",
       "next": "ef4d2888-aa17-11ea-9ad4-0242ac120006-2-42b7-b07a",
       "previous": "35c360f6-55a3-11e7-b0b2-00163e9c0e35-3-4a79-f9ba-754f"
      },
      {
       "current": "35c362a4-55a3-11e7-b0b2-00163e9c0e35-5-89a7-98f2-5cf2-796f-c5af",
       "next": "ef4d2888-aa17-11ea-9ad4-0242ac120006-3-42b7-b07a-41b3",
       "previous": "35c360f6-55a3-11e7-b0b2-00163e9c0e35-4-4a79-f9ba-754f-e407"
      },
      {
       "current": "35c362a4-55a3-11e7-b0b2-00163e9c0e35-5-89a7-98f2-5cf2-796f-c5af",
       "next": "ef4d2888-aa17-11ea-9ad4-0242ac120006-4-42b7-b07a-41b3-1b11",
       "previous": "35c360f6-55a3-11e7-b0b2-00163e9c0e35-5-4a79-f9ba-754f-e407-6895"
      },
      {
       "current": "35c362a4-55a3-11e7-b0b2-00163e9c0e35-6-89a7-98f2-5cf2-796f-c5af-d9b3",
       "next": "ef4d2888-aa17-11ea-9ad4-0242ac120006-4-42b7-b07a-41b3-1b11",
       "previous": "e23fb85e-2498-11ef-ad2f-0242ac120005"
      },
      {
       "current": "35c362a4-55a3-11e7-b0b2-00163e9c0e35-7-89a7-98f2-5cf2-796f-c5af-d9b3-6ec2",
       "next": "ef4d2888-aa17-11ea-9ad4-0242ac120006-5-42b7-b07a-41b3-1b11-6ace",
       "previous": "e23fb85e-2498-11ef-ad2f-0242ac120005-1-c653"
      }
     ],
     "next": "ef4d2888-aa17-11ea-9ad4-0242ac120006-6-42b7-b07a-41b3-1b11-6ace-45ee",
     "previous": "e23fb85e-2498-11ef-ad2f-0242ac120005-2-c653-6cac"
    }
   },
   "source": [
    "## 疎通確認\n",
    "以下コマンドを実行し、OpeHubからCephAdmin経由で、Cephノードに疎通することを確認する。"
   ]
  },
  {
   "cell_type": "code",
   "execution_count": null,
   "metadata": {
    "lc_cell_meme": {
     "current": "ef4d2888-aa17-11ea-9ad4-0242ac120006-6-42b7-b07a-41b3-1b11-6ace-45ee",
     "history": [
      {
       "current": "ef4d2888-aa17-11ea-9ad4-0242ac120006-1-42b7",
       "next": "ac56a252-95bd-11ea-8d02-0242ac120007-1-86ee",
       "previous": "bd797188-910b-11ea-8d02-0242ac120007-1-728a"
      },
      {
       "current": "ef4d2888-aa17-11ea-9ad4-0242ac120006-1-42b7",
       "next": "ac56a252-95bd-11ea-8d02-0242ac120007-2-86ee-3a22",
       "previous": "bd797188-910b-11ea-8d02-0242ac120007-2-728a-254c"
      },
      {
       "current": "ef4d2888-aa17-11ea-9ad4-0242ac120006-1-42b7",
       "next": "bd797188-910b-11ea-8d02-0242ac120007-2-728a-254c",
       "previous": "35c362a4-55a3-11e7-b0b2-00163e9c0e35-2-89a7-98f2"
      },
      {
       "current": "ef4d2888-aa17-11ea-9ad4-0242ac120006-2-42b7-b07a",
       "next": "e3856a36-df01-11eb-b29f-0242ac120008",
       "previous": "35c362a4-55a3-11e7-b0b2-00163e9c0e35-2-89a7-98f2"
      },
      {
       "current": "ef4d2888-aa17-11ea-9ad4-0242ac120006-2-42b7-b07a",
       "next": "e3856a36-df01-11eb-b29f-0242ac120008-1-d6f1",
       "previous": "35c362a4-55a3-11e7-b0b2-00163e9c0e35-3-89a7-98f2-5cf2"
      },
      {
       "current": "ef4d2888-aa17-11ea-9ad4-0242ac120006-3-42b7-b07a-41b3",
       "next": "bd797188-910b-11ea-8d02-0242ac120007-3-728a-254c-2f4c",
       "previous": "35c362a4-55a3-11e7-b0b2-00163e9c0e35-3-89a7-98f2-5cf2"
      },
      {
       "current": "ef4d2888-aa17-11ea-9ad4-0242ac120006-4-42b7-b07a-41b3-1b11",
       "next": "bd797188-910b-11ea-8d02-0242ac120007-4-728a-254c-2f4c-2572",
       "previous": "35c362a4-55a3-11e7-b0b2-00163e9c0e35-4-89a7-98f2-5cf2-796f"
      },
      {
       "current": "ef4d2888-aa17-11ea-9ad4-0242ac120006-5-42b7-b07a-41b3-1b11-6ace",
       "next": "bd797188-910b-11ea-8d02-0242ac120007-5-728a-254c-2f4c-2572-673d",
       "previous": "35c362a4-55a3-11e7-b0b2-00163e9c0e35-5-89a7-98f2-5cf2-796f-c5af"
      },
      {
       "current": "ef4d2888-aa17-11ea-9ad4-0242ac120006-6-42b7-b07a-41b3-1b11-6ace-45ee",
       "next": "bd797188-910b-11ea-8d02-0242ac120007-6-728a-254c-2f4c-2572-673d-0b52",
       "previous": "35c362a4-55a3-11e7-b0b2-00163e9c0e35-6-89a7-98f2-5cf2-796f-c5af-d9b3"
      }
     ],
     "next": "bd797188-910b-11ea-8d02-0242ac120007-7-728a-254c-2f4c-2572-673d-0b52-5dd5",
     "previous": "35c362a4-55a3-11e7-b0b2-00163e9c0e35-7-89a7-98f2-5cf2-796f-c5af-d9b3-6ec2"
    }
   },
   "outputs": [],
   "source": [
    "!ansible -b -m shell -a 'hostname' ceph_admin"
   ]
  },
  {
   "cell_type": "code",
   "execution_count": null,
   "metadata": {
    "lc_cell_meme": {
     "current": "bd797188-910b-11ea-8d02-0242ac120007-7-728a-254c-2f4c-2572-673d-0b52-5dd5",
     "history": [
      {
       "current": "bd797188-910b-11ea-8d02-0242ac120007",
       "next": "35c362a4-55a3-11e7-b0b2-00163e9c0e35",
       "previous": "7d464504-9107-11ea-8d02-0242ac120007"
      },
      {
       "current": "bd797188-910b-11ea-8d02-0242ac120007",
       "next": "70b95056-9111-11ea-8d02-0242ac120007",
       "previous": "7d464504-9107-11ea-8d02-0242ac120007"
      },
      {
       "current": "bd797188-910b-11ea-8d02-0242ac120007",
       "next": "35c362a4-55a3-11e7-b0b2-00163e9c0e35",
       "previous": "7d464504-9107-11ea-8d02-0242ac120007"
      },
      {
       "current": "bd797188-910b-11ea-8d02-0242ac120007",
       "next": "35c362a4-55a3-11e7-b0b2-00163e9c0e35",
       "previous": "4cd5af28-7ef5-11ea-a926-0242ac120004"
      },
      {
       "current": "bd797188-910b-11ea-8d02-0242ac120007",
       "next": "35c36448-55a3-11e7-b0b2-00163e9c0e35",
       "previous": "35c362a4-55a3-11e7-b0b2-00163e9c0e35"
      },
      {
       "current": "bd797188-910b-11ea-8d02-0242ac120007",
       "next": "35c3783e-55a3-11e7-b0b2-00163e9c0e35",
       "previous": "35c362a4-55a3-11e7-b0b2-00163e9c0e35"
      },
      {
       "current": "bd797188-910b-11ea-8d02-0242ac120007",
       "next": "35c3783e-55a3-11e7-b0b2-00163e9c0e35",
       "previous": "484c7376-935c-11ea-8d02-0242ac120007"
      },
      {
       "current": "bd797188-910b-11ea-8d02-0242ac120007",
       "next": "35c3783e-55a3-11e7-b0b2-00163e9c0e35",
       "previous": "35c362a4-55a3-11e7-b0b2-00163e9c0e35"
      },
      {
       "current": "bd797188-910b-11ea-8d02-0242ac120007-1-728a",
       "next": "ac56a252-95bd-11ea-8d02-0242ac120007",
       "previous": "35c362a4-55a3-11e7-b0b2-00163e9c0e35"
      },
      {
       "current": "bd797188-910b-11ea-8d02-0242ac120007-1-728a",
       "next": "ac56a252-95bd-11ea-8d02-0242ac120007-1-86ee",
       "previous": "35c362a4-55a3-11e7-b0b2-00163e9c0e35-1-89a7"
      },
      {
       "current": "bd797188-910b-11ea-8d02-0242ac120007-2-728a-254c",
       "next": "ef4d2888-aa17-11ea-9ad4-0242ac120006",
       "previous": "35c362a4-55a3-11e7-b0b2-00163e9c0e35-1-89a7"
      },
      {
       "current": "bd797188-910b-11ea-8d02-0242ac120007-2-728a-254c",
       "next": "ef4d2888-aa17-11ea-9ad4-0242ac120006-1-42b7",
       "previous": "35c362a4-55a3-11e7-b0b2-00163e9c0e35-2-89a7-98f2"
      },
      {
       "current": "bd797188-910b-11ea-8d02-0242ac120007-2-728a-254c",
       "next": "ac56a252-95bd-11ea-8d02-0242ac120007-2-86ee-3a22",
       "previous": "ef4d2888-aa17-11ea-9ad4-0242ac120006-1-42b7"
      },
      {
       "current": "bd797188-910b-11ea-8d02-0242ac120007-2-728a-254c",
       "next": "ac56a252-95bd-11ea-8d02-0242ac120007-2-86ee-3a22",
       "previous": "e3856a36-df01-11eb-b29f-0242ac120008"
      },
      {
       "current": "bd797188-910b-11ea-8d02-0242ac120007-3-728a-254c-2f4c",
       "next": "21d849e2-dfd0-11eb-b29f-0242ac120008",
       "previous": "e3856a36-df01-11eb-b29f-0242ac120008"
      },
      {
       "current": "bd797188-910b-11ea-8d02-0242ac120007-3-728a-254c-2f4c",
       "next": "21d849e2-dfd0-11eb-b29f-0242ac120008-1-ee1b",
       "previous": "e3856a36-df01-11eb-b29f-0242ac120008-1-d6f1"
      },
      {
       "current": "bd797188-910b-11ea-8d02-0242ac120007-3-728a-254c-2f4c",
       "next": "21d849e2-dfd0-11eb-b29f-0242ac120008-1-ee1b",
       "previous": "ef4d2888-aa17-11ea-9ad4-0242ac120006-2-42b7-b07a"
      },
      {
       "current": "bd797188-910b-11ea-8d02-0242ac120007-3-728a-254c-2f4c",
       "next": "91d0d70c-61bd-11ee-89fa-0242ac120005",
       "previous": "ef4d2888-aa17-11ea-9ad4-0242ac120006-2-42b7-b07a"
      },
      {
       "current": "bd797188-910b-11ea-8d02-0242ac120007-4-728a-254c-2f4c-2572",
       "next": "43f4ca3e-7950-11ee-89fa-0242ac120005",
       "previous": "ef4d2888-aa17-11ea-9ad4-0242ac120006-2-42b7-b07a"
      },
      {
       "current": "bd797188-910b-11ea-8d02-0242ac120007-5-728a-254c-2f4c-2572-673d",
       "next": "43f4ca3e-7950-11ee-89fa-0242ac120005-1-0aa4",
       "previous": "ef4d2888-aa17-11ea-9ad4-0242ac120006-3-42b7-b07a-41b3"
      },
      {
       "current": "bd797188-910b-11ea-8d02-0242ac120007-6-728a-254c-2f4c-2572-673d-0b52",
       "next": "43f4ca3e-7950-11ee-89fa-0242ac120005-2-0aa4-93d3",
       "previous": "ef4d2888-aa17-11ea-9ad4-0242ac120006-4-42b7-b07a-41b3-1b11"
      },
      {
       "current": "bd797188-910b-11ea-8d02-0242ac120007-7-728a-254c-2f4c-2572-673d-0b52-5dd5",
       "next": "43f4ca3e-7950-11ee-89fa-0242ac120005-3-0aa4-93d3-5ac2",
       "previous": "ef4d2888-aa17-11ea-9ad4-0242ac120006-5-42b7-b07a-41b3-1b11-6ace"
      }
     ],
     "next": "43f4ca3e-7950-11ee-89fa-0242ac120005-4-0aa4-93d3-5ac2-ec69",
     "previous": "ef4d2888-aa17-11ea-9ad4-0242ac120006-6-42b7-b07a-41b3-1b11-6ace-45ee"
    }
   },
   "outputs": [],
   "source": [
    "for node in node_list:\n",
    "    prov_ip = node['prov_ip']\n",
    "    !ansible -b -m shell -a 'hostname' $prov_ip"
   ]
  },
  {
   "cell_type": "code",
   "execution_count": null,
   "metadata": {
    "lc_cell_meme": {
     "current": "43f4ca3e-7950-11ee-89fa-0242ac120005-4-0aa4-93d3-5ac2-ec69",
     "history": [
      {
       "current": "43f4ca3e-7950-11ee-89fa-0242ac120005-1-0aa4",
       "next": "91d0d70c-61bd-11ee-89fa-0242ac120005",
       "previous": "bd797188-910b-11ea-8d02-0242ac120007-3-728a-254c-2f4c"
      },
      {
       "current": "43f4ca3e-7950-11ee-89fa-0242ac120005-2-0aa4-93d3",
       "next": "91d0d70c-61bd-11ee-89fa-0242ac120005-1-76d4",
       "previous": "bd797188-910b-11ea-8d02-0242ac120007-4-728a-254c-2f4c-2572"
      },
      {
       "current": "43f4ca3e-7950-11ee-89fa-0242ac120005-3-0aa4-93d3-5ac2",
       "next": "91d0d70c-61bd-11ee-89fa-0242ac120005-2-76d4-3b84",
       "previous": "bd797188-910b-11ea-8d02-0242ac120007-5-728a-254c-2f4c-2572-673d"
      },
      {
       "current": "43f4ca3e-7950-11ee-89fa-0242ac120005-4-0aa4-93d3-5ac2-ec69",
       "next": "91d0d70c-61bd-11ee-89fa-0242ac120005-3-76d4-3b84-30d4",
       "previous": "bd797188-910b-11ea-8d02-0242ac120007-6-728a-254c-2f4c-2572-673d-0b52"
      }
     ],
     "next": "91d0d70c-61bd-11ee-89fa-0242ac120005-4-76d4-3b84-30d4-1e48",
     "previous": "bd797188-910b-11ea-8d02-0242ac120007-7-728a-254c-2f4c-2572-673d-0b52-5dd5"
    }
   },
   "outputs": [],
   "source": [
    "!ansible -b -m shell -a 'hostname' ceph_nodes"
   ]
  },
  {
   "cell_type": "code",
   "execution_count": null,
   "metadata": {
    "lc_cell_meme": {
     "current": "91d0d70c-61bd-11ee-89fa-0242ac120005-4-76d4-3b84-30d4-1e48",
     "history": [
      {
       "current": "91d0d70c-61bd-11ee-89fa-0242ac120005",
       "next": "ac56a252-95bd-11ea-8d02-0242ac120007-3-86ee-3a22-9a71",
       "previous": "21d849e2-dfd0-11eb-b29f-0242ac120008-1-ee1b"
      },
      {
       "current": "91d0d70c-61bd-11ee-89fa-0242ac120005",
       "next": "ac56a252-95bd-11ea-8d02-0242ac120007-3-86ee-3a22-9a71",
       "previous": "bd797188-910b-11ea-8d02-0242ac120007-3-728a-254c-2f4c"
      },
      {
       "current": "91d0d70c-61bd-11ee-89fa-0242ac120005-1-76d4",
       "next": "ac56a252-95bd-11ea-8d02-0242ac120007-3-86ee-3a22-9a71",
       "previous": "43f4ca3e-7950-11ee-89fa-0242ac120005"
      },
      {
       "current": "91d0d70c-61bd-11ee-89fa-0242ac120005-2-76d4-3b84",
       "next": "ac56a252-95bd-11ea-8d02-0242ac120007-4-86ee-3a22-9a71-c258",
       "previous": "43f4ca3e-7950-11ee-89fa-0242ac120005-1-0aa4"
      },
      {
       "current": "91d0d70c-61bd-11ee-89fa-0242ac120005-3-76d4-3b84-30d4",
       "next": "ac56a252-95bd-11ea-8d02-0242ac120007-5-86ee-3a22-9a71-c258-2de5",
       "previous": "43f4ca3e-7950-11ee-89fa-0242ac120005-2-0aa4-93d3"
      },
      {
       "current": "91d0d70c-61bd-11ee-89fa-0242ac120005-4-76d4-3b84-30d4-1e48",
       "next": "ac56a252-95bd-11ea-8d02-0242ac120007-6-86ee-3a22-9a71-c258-2de5-f4b1",
       "previous": "43f4ca3e-7950-11ee-89fa-0242ac120005-3-0aa4-93d3-5ac2"
      }
     ],
     "next": "ac56a252-95bd-11ea-8d02-0242ac120007-7-86ee-3a22-9a71-c258-2de5-f4b1-10fa",
     "previous": "43f4ca3e-7950-11ee-89fa-0242ac120005-4-0aa4-93d3-5ac2-ec69"
    },
    "scrolled": true
   },
   "outputs": [],
   "source": [
    "!ansible -b -m shell -a 'hostname' bootstrap"
   ]
  },
  {
   "cell_type": "markdown",
   "metadata": {
    "lc_cell_meme": {
     "current": "ac56a252-95bd-11ea-8d02-0242ac120007-7-86ee-3a22-9a71-c258-2de5-f4b1-10fa",
     "history": [
      {
       "current": "ac56a252-95bd-11ea-8d02-0242ac120007-1-86ee",
       "next": "ac56a6c6-95bd-11ea-8d02-0242ac120007",
       "previous": "bd797188-910b-11ea-8d02-0242ac120007"
      },
      {
       "current": "ac56a252-95bd-11ea-8d02-0242ac120007-1-86ee",
       "next": "ac56a6c6-95bd-11ea-8d02-0242ac120007-1-431a",
       "previous": "bd797188-910b-11ea-8d02-0242ac120007-1-728a"
      },
      {
       "current": "ac56a252-95bd-11ea-8d02-0242ac120007-1-86ee",
       "next": "46b93d3e-95bc-11ea-8d02-0242ac120007-1-9f9c",
       "previous": "bd797188-910b-11ea-8d02-0242ac120007-1-728a"
      },
      {
       "current": "ac56a252-95bd-11ea-8d02-0242ac120007-2-86ee-3a22",
       "next": "46b93d3e-95bc-11ea-8d02-0242ac120007-1-9f9c",
       "previous": "ef4d2888-aa17-11ea-9ad4-0242ac120006"
      },
      {
       "current": "ac56a252-95bd-11ea-8d02-0242ac120007-2-86ee-3a22",
       "next": "46b93d3e-95bc-11ea-8d02-0242ac120007-2-9f9c-2f8b",
       "previous": "ef4d2888-aa17-11ea-9ad4-0242ac120006-1-42b7"
      },
      {
       "current": "ac56a252-95bd-11ea-8d02-0242ac120007-2-86ee-3a22",
       "next": "46b93d3e-95bc-11ea-8d02-0242ac120007-2-9f9c-2f8b",
       "previous": "bd797188-910b-11ea-8d02-0242ac120007-2-728a-254c"
      },
      {
       "current": "ac56a252-95bd-11ea-8d02-0242ac120007-3-86ee-3a22-9a71",
       "next": "46b93d3e-95bc-11ea-8d02-0242ac120007-2-9f9c-2f8b",
       "previous": "21d849e2-dfd0-11eb-b29f-0242ac120008"
      },
      {
       "current": "ac56a252-95bd-11ea-8d02-0242ac120007-3-86ee-3a22-9a71",
       "next": "46b93d3e-95bc-11ea-8d02-0242ac120007-3-9f9c-2f8b-fd5c",
       "previous": "21d849e2-dfd0-11eb-b29f-0242ac120008-1-ee1b"
      },
      {
       "current": "ac56a252-95bd-11ea-8d02-0242ac120007-3-86ee-3a22-9a71",
       "next": "1e5a5a54-4bb1-11ee-89fa-0242ac120005",
       "previous": "21d849e2-dfd0-11eb-b29f-0242ac120008-1-ee1b"
      },
      {
       "current": "ac56a252-95bd-11ea-8d02-0242ac120007-3-86ee-3a22-9a71",
       "next": "65e00220-4bb1-11ee-89fa-0242ac120005",
       "previous": "21d849e2-dfd0-11eb-b29f-0242ac120008-1-ee1b"
      },
      {
       "current": "ac56a252-95bd-11ea-8d02-0242ac120007-3-86ee-3a22-9a71",
       "next": "5d429cae-6191-11ee-89fa-0242ac120005",
       "previous": "21d849e2-dfd0-11eb-b29f-0242ac120008-1-ee1b"
      },
      {
       "current": "ac56a252-95bd-11ea-8d02-0242ac120007-3-86ee-3a22-9a71",
       "next": "5d429cae-6191-11ee-89fa-0242ac120005",
       "previous": "91d0d70c-61bd-11ee-89fa-0242ac120005"
      },
      {
       "current": "ac56a252-95bd-11ea-8d02-0242ac120007-3-86ee-3a22-9a71",
       "next": "d9541562-61bd-11ee-89fa-0242ac120005",
       "previous": "91d0d70c-61bd-11ee-89fa-0242ac120005"
      },
      {
       "current": "ac56a252-95bd-11ea-8d02-0242ac120007-3-86ee-3a22-9a71",
       "next": "a55217b0-7166-11ee-89fa-0242ac120005",
       "previous": "91d0d70c-61bd-11ee-89fa-0242ac120005"
      },
      {
       "current": "ac56a252-95bd-11ea-8d02-0242ac120007-3-86ee-3a22-9a71",
       "next": "8f9c95d6-716a-11ee-89fa-0242ac120005",
       "previous": "91d0d70c-61bd-11ee-89fa-0242ac120005"
      },
      {
       "current": "ac56a252-95bd-11ea-8d02-0242ac120007-3-86ee-3a22-9a71",
       "next": "31f70f06-7877-11ee-89fa-0242ac120005",
       "previous": "91d0d70c-61bd-11ee-89fa-0242ac120005"
      },
      {
       "current": "ac56a252-95bd-11ea-8d02-0242ac120007-3-86ee-3a22-9a71",
       "next": "fdebe68c-7880-11ee-89fa-0242ac120005",
       "previous": "91d0d70c-61bd-11ee-89fa-0242ac120005"
      },
      {
       "current": "ac56a252-95bd-11ea-8d02-0242ac120007-4-86ee-3a22-9a71-c258",
       "next": "1c10c3d4-7882-11ee-89fa-0242ac120005",
       "previous": "91d0d70c-61bd-11ee-89fa-0242ac120005"
      },
      {
       "current": "ac56a252-95bd-11ea-8d02-0242ac120007-5-86ee-3a22-9a71-c258-2de5",
       "next": "1c10c3d4-7882-11ee-89fa-0242ac120005-1-d5ae",
       "previous": "91d0d70c-61bd-11ee-89fa-0242ac120005-1-76d4"
      },
      {
       "current": "ac56a252-95bd-11ea-8d02-0242ac120007-6-86ee-3a22-9a71-c258-2de5-f4b1",
       "next": "1c10c3d4-7882-11ee-89fa-0242ac120005-2-d5ae-1088",
       "previous": "91d0d70c-61bd-11ee-89fa-0242ac120005-2-76d4-3b84"
      },
      {
       "current": "ac56a252-95bd-11ea-8d02-0242ac120007-7-86ee-3a22-9a71-c258-2de5-f4b1-10fa",
       "next": "1c10c3d4-7882-11ee-89fa-0242ac120005-3-d5ae-1088-0930",
       "previous": "91d0d70c-61bd-11ee-89fa-0242ac120005-3-76d4-3b84-30d4"
      }
     ],
     "next": "1c10c3d4-7882-11ee-89fa-0242ac120005-4-d5ae-1088-0930-101d",
     "previous": "91d0d70c-61bd-11ee-89fa-0242ac120005-4-76d4-3b84-30d4-1e48"
    }
   },
   "source": [
    "# OSD情報の取得"
   ]
  },
  {
   "cell_type": "markdown",
   "metadata": {
    "lc_cell_meme": {
     "current": "1c10c3d4-7882-11ee-89fa-0242ac120005-4-d5ae-1088-0930-101d",
     "history": [
      {
       "current": "1c10c3d4-7882-11ee-89fa-0242ac120005-1-d5ae",
       "next": "31f70f06-7877-11ee-89fa-0242ac120005",
       "previous": "ac56a252-95bd-11ea-8d02-0242ac120007-3-86ee-3a22-9a71"
      },
      {
       "current": "1c10c3d4-7882-11ee-89fa-0242ac120005-2-d5ae-1088",
       "next": "31f70f06-7877-11ee-89fa-0242ac120005-1-7d1e",
       "previous": "ac56a252-95bd-11ea-8d02-0242ac120007-4-86ee-3a22-9a71-c258"
      },
      {
       "current": "1c10c3d4-7882-11ee-89fa-0242ac120005-3-d5ae-1088-0930",
       "next": "31f70f06-7877-11ee-89fa-0242ac120005-2-7d1e-ea64",
       "previous": "ac56a252-95bd-11ea-8d02-0242ac120007-5-86ee-3a22-9a71-c258-2de5"
      },
      {
       "current": "1c10c3d4-7882-11ee-89fa-0242ac120005-4-d5ae-1088-0930-101d",
       "next": "31f70f06-7877-11ee-89fa-0242ac120005-3-7d1e-ea64-0b6c",
       "previous": "ac56a252-95bd-11ea-8d02-0242ac120007-6-86ee-3a22-9a71-c258-2de5-f4b1"
      }
     ],
     "next": "31f70f06-7877-11ee-89fa-0242ac120005-4-7d1e-ea64-0b6c-4914",
     "previous": "ac56a252-95bd-11ea-8d02-0242ac120007-7-86ee-3a22-9a71-c258-2de5-f4b1-10fa"
    }
   },
   "source": [
    "## 全てのOSD情報取得"
   ]
  },
  {
   "cell_type": "code",
   "execution_count": null,
   "metadata": {
    "lc_cell_meme": {
     "current": "31f70f06-7877-11ee-89fa-0242ac120005-4-7d1e-ea64-0b6c-4914",
     "history": [
      {
       "current": "31f70f06-7877-11ee-89fa-0242ac120005",
       "next": "31f71280-7877-11ee-89fa-0242ac120005",
       "previous": "ac56a252-95bd-11ea-8d02-0242ac120007-3-86ee-3a22-9a71"
      },
      {
       "current": "31f70f06-7877-11ee-89fa-0242ac120005",
       "next": "31f71280-7877-11ee-89fa-0242ac120005",
       "previous": "fdebec4a-7880-11ee-89fa-0242ac120005"
      },
      {
       "current": "31f70f06-7877-11ee-89fa-0242ac120005-1-7d1e",
       "next": "31f71280-7877-11ee-89fa-0242ac120005",
       "previous": "1c10c3d4-7882-11ee-89fa-0242ac120005"
      },
      {
       "current": "31f70f06-7877-11ee-89fa-0242ac120005-2-7d1e-ea64",
       "next": "31f71280-7877-11ee-89fa-0242ac120005-1-5dc2",
       "previous": "1c10c3d4-7882-11ee-89fa-0242ac120005-1-d5ae"
      },
      {
       "current": "31f70f06-7877-11ee-89fa-0242ac120005-3-7d1e-ea64-0b6c",
       "next": "31f71280-7877-11ee-89fa-0242ac120005-2-5dc2-efbe",
       "previous": "1c10c3d4-7882-11ee-89fa-0242ac120005-2-d5ae-1088"
      },
      {
       "current": "31f70f06-7877-11ee-89fa-0242ac120005-4-7d1e-ea64-0b6c-4914",
       "next": "31f71280-7877-11ee-89fa-0242ac120005-3-5dc2-efbe-4357",
       "previous": "1c10c3d4-7882-11ee-89fa-0242ac120005-3-d5ae-1088-0930"
      }
     ],
     "next": "31f71280-7877-11ee-89fa-0242ac120005-4-5dc2-efbe-4357-f7f3",
     "previous": "1c10c3d4-7882-11ee-89fa-0242ac120005-4-d5ae-1088-0930-101d"
    }
   },
   "outputs": [],
   "source": [
    "ret = !ansible -b -m shell -a 'cephadm shell -- ceph osd tree --format=json 2> /dev/null' bootstrap"
   ]
  },
  {
   "cell_type": "code",
   "execution_count": null,
   "metadata": {
    "lc_cell_meme": {
     "current": "31f71280-7877-11ee-89fa-0242ac120005-4-5dc2-efbe-4357-f7f3",
     "history": [
      {
       "current": "31f71280-7877-11ee-89fa-0242ac120005-1-5dc2",
       "next": "31f7132a-7877-11ee-89fa-0242ac120005",
       "previous": "31f70f06-7877-11ee-89fa-0242ac120005"
      },
      {
       "current": "31f71280-7877-11ee-89fa-0242ac120005-2-5dc2-efbe",
       "next": "31f7132a-7877-11ee-89fa-0242ac120005-1-6e54",
       "previous": "31f70f06-7877-11ee-89fa-0242ac120005-1-7d1e"
      },
      {
       "current": "31f71280-7877-11ee-89fa-0242ac120005-3-5dc2-efbe-4357",
       "next": "31f7132a-7877-11ee-89fa-0242ac120005-2-6e54-c446",
       "previous": "31f70f06-7877-11ee-89fa-0242ac120005-2-7d1e-ea64"
      },
      {
       "current": "31f71280-7877-11ee-89fa-0242ac120005-4-5dc2-efbe-4357-f7f3",
       "next": "31f7132a-7877-11ee-89fa-0242ac120005-3-6e54-c446-8602",
       "previous": "31f70f06-7877-11ee-89fa-0242ac120005-3-7d1e-ea64-0b6c"
      }
     ],
     "next": "31f7132a-7877-11ee-89fa-0242ac120005-4-6e54-c446-8602-7053",
     "previous": "31f70f06-7877-11ee-89fa-0242ac120005-4-7d1e-ea64-0b6c-4914"
    },
    "scrolled": true
   },
   "outputs": [],
   "source": [
    "print(ret)"
   ]
  },
  {
   "cell_type": "code",
   "execution_count": null,
   "metadata": {
    "lc_cell_meme": {
     "current": "31f7132a-7877-11ee-89fa-0242ac120005-4-6e54-c446-8602-7053",
     "history": [
      {
       "current": "31f7132a-7877-11ee-89fa-0242ac120005-1-6e54",
       "next": "31f71398-7877-11ee-89fa-0242ac120005",
       "previous": "31f71280-7877-11ee-89fa-0242ac120005"
      },
      {
       "current": "31f7132a-7877-11ee-89fa-0242ac120005-2-6e54-c446",
       "next": "31f71398-7877-11ee-89fa-0242ac120005-1-29e5",
       "previous": "31f71280-7877-11ee-89fa-0242ac120005-1-5dc2"
      },
      {
       "current": "31f7132a-7877-11ee-89fa-0242ac120005-3-6e54-c446-8602",
       "next": "31f71398-7877-11ee-89fa-0242ac120005-2-29e5-9d68",
       "previous": "31f71280-7877-11ee-89fa-0242ac120005-2-5dc2-efbe"
      },
      {
       "current": "31f7132a-7877-11ee-89fa-0242ac120005-4-6e54-c446-8602-7053",
       "next": "31f71398-7877-11ee-89fa-0242ac120005-3-29e5-9d68-cf6f",
       "previous": "31f71280-7877-11ee-89fa-0242ac120005-3-5dc2-efbe-4357"
      }
     ],
     "next": "31f71398-7877-11ee-89fa-0242ac120005-4-29e5-9d68-cf6f-b9cf",
     "previous": "31f71280-7877-11ee-89fa-0242ac120005-4-5dc2-efbe-4357-f7f3"
    },
    "scrolled": true
   },
   "outputs": [],
   "source": [
    "osd_tree = json.loads(ret[2])\n",
    "print(json.dumps(osd_tree, indent=2))"
   ]
  },
  {
   "cell_type": "code",
   "execution_count": null,
   "metadata": {
    "lc_cell_meme": {
     "current": "31f71398-7877-11ee-89fa-0242ac120005-4-29e5-9d68-cf6f-b9cf",
     "history": [
      {
       "current": "31f71398-7877-11ee-89fa-0242ac120005",
       "next": "8f9c95d6-716a-11ee-89fa-0242ac120005",
       "previous": "31f7132a-7877-11ee-89fa-0242ac120005"
      },
      {
       "current": "31f71398-7877-11ee-89fa-0242ac120005",
       "next": "35c581ba-55a3-11e7-b0b2-00163e9c0e35-3-f60b-133a-40ef",
       "previous": "31f7132a-7877-11ee-89fa-0242ac120005"
      },
      {
       "current": "31f71398-7877-11ee-89fa-0242ac120005",
       "next": "8c52f2dc-787a-11ee-89fa-0242ac120005",
       "previous": "31f7132a-7877-11ee-89fa-0242ac120005"
      },
      {
       "current": "31f71398-7877-11ee-89fa-0242ac120005-1-29e5",
       "next": "8c52f5b6-787a-11ee-89fa-0242ac120005",
       "previous": "31f7132a-7877-11ee-89fa-0242ac120005"
      },
      {
       "current": "31f71398-7877-11ee-89fa-0242ac120005-2-29e5-9d68",
       "next": "8c52f5b6-787a-11ee-89fa-0242ac120005-1-3473",
       "previous": "31f7132a-7877-11ee-89fa-0242ac120005-1-6e54"
      },
      {
       "current": "31f71398-7877-11ee-89fa-0242ac120005-3-29e5-9d68-cf6f",
       "next": "8c52f5b6-787a-11ee-89fa-0242ac120005-2-3473-221e",
       "previous": "31f7132a-7877-11ee-89fa-0242ac120005-2-6e54-c446"
      },
      {
       "current": "31f71398-7877-11ee-89fa-0242ac120005-4-29e5-9d68-cf6f-b9cf",
       "next": "8c52f5b6-787a-11ee-89fa-0242ac120005-3-3473-221e-907f",
       "previous": "31f7132a-7877-11ee-89fa-0242ac120005-3-6e54-c446-8602"
      }
     ],
     "next": "8c52f5b6-787a-11ee-89fa-0242ac120005-4-3473-221e-907f-3d2c",
     "previous": "31f7132a-7877-11ee-89fa-0242ac120005-4-6e54-c446-8602-7053"
    }
   },
   "outputs": [],
   "source": [
    "host_map = {}\n",
    "osd_map = {}\n",
    "osd_info_list = []\n",
    "\n",
    "nodes = osd_tree['nodes']\n",
    "for osd_tree_info in nodes:\n",
    "    info_type = osd_tree_info.get('type',None)\n",
    "    if info_type == \"host\":\n",
    "        host_map[osd_tree_info['name']] = osd_tree_info\n",
    "    elif  info_type == \"osd\":\n",
    "        osd_map[osd_tree_info['id']] = osd_tree_info\n",
    "\n",
    "for key,val in host_map.items():\n",
    "    children = val.get('children',[])\n",
    "    for osd_id in children:\n",
    "        osd = osd_map.get(osd_id,None)\n",
    "        if osd is not None:\n",
    "            osd['host_name'] = key\n",
    "            osd.pop('pool_weights')\n",
    "            osd_info_list.append(osd)\n"
   ]
  },
  {
   "cell_type": "code",
   "execution_count": null,
   "metadata": {
    "lc_cell_meme": {
     "current": "8c52f5b6-787a-11ee-89fa-0242ac120005-4-3473-221e-907f-3d2c",
     "history": [
      {
       "current": "8c52f5b6-787a-11ee-89fa-0242ac120005",
       "next": "8c52f66a-787a-11ee-89fa-0242ac120005",
       "previous": "8c52f2dc-787a-11ee-89fa-0242ac120005"
      },
      {
       "current": "8c52f5b6-787a-11ee-89fa-0242ac120005",
       "next": "1c10c596-7882-11ee-89fa-0242ac120005",
       "previous": "8c52f2dc-787a-11ee-89fa-0242ac120005"
      },
      {
       "current": "8c52f5b6-787a-11ee-89fa-0242ac120005",
       "next": "1c10c596-7882-11ee-89fa-0242ac120005-1-83a6",
       "previous": "8c52f2dc-787a-11ee-89fa-0242ac120005"
      },
      {
       "current": "8c52f5b6-787a-11ee-89fa-0242ac120005-1-3473",
       "next": "1c10c596-7882-11ee-89fa-0242ac120005-1-83a6",
       "previous": "31f71398-7877-11ee-89fa-0242ac120005"
      },
      {
       "current": "8c52f5b6-787a-11ee-89fa-0242ac120005-2-3473-221e",
       "next": "1c10c596-7882-11ee-89fa-0242ac120005-2-83a6-f14d",
       "previous": "31f71398-7877-11ee-89fa-0242ac120005-1-29e5"
      },
      {
       "current": "8c52f5b6-787a-11ee-89fa-0242ac120005-3-3473-221e-907f",
       "next": "1c10c596-7882-11ee-89fa-0242ac120005-3-83a6-f14d-94f6",
       "previous": "31f71398-7877-11ee-89fa-0242ac120005-2-29e5-9d68"
      },
      {
       "current": "8c52f5b6-787a-11ee-89fa-0242ac120005-4-3473-221e-907f-3d2c",
       "next": "1c10c596-7882-11ee-89fa-0242ac120005-4-83a6-f14d-94f6-7a56",
       "previous": "31f71398-7877-11ee-89fa-0242ac120005-3-29e5-9d68-cf6f"
      }
     ],
     "next": "1c10c596-7882-11ee-89fa-0242ac120005-5-83a6-f14d-94f6-7a56-5bc8",
     "previous": "31f71398-7877-11ee-89fa-0242ac120005-4-29e5-9d68-cf6f-b9cf"
    },
    "scrolled": true
   },
   "outputs": [],
   "source": [
    "pd.DataFrame(osd_info_list)"
   ]
  },
  {
   "cell_type": "markdown",
   "metadata": {
    "lc_cell_meme": {
     "current": "1c10c596-7882-11ee-89fa-0242ac120005-5-83a6-f14d-94f6-7a56-5bc8",
     "history": [
      {
       "current": "1c10c596-7882-11ee-89fa-0242ac120005-1-83a6",
       "next": "8c52f66a-787a-11ee-89fa-0242ac120005",
       "previous": "8c52f5b6-787a-11ee-89fa-0242ac120005"
      },
      {
       "current": "1c10c596-7882-11ee-89fa-0242ac120005-2-83a6-f14d",
       "next": "63983a8e-7882-11ee-89fa-0242ac120005",
       "previous": "8c52f5b6-787a-11ee-89fa-0242ac120005"
      },
      {
       "current": "1c10c596-7882-11ee-89fa-0242ac120005-3-83a6-f14d-94f6",
       "next": "63983a8e-7882-11ee-89fa-0242ac120005-1-809a",
       "previous": "8c52f5b6-787a-11ee-89fa-0242ac120005-1-3473"
      },
      {
       "current": "1c10c596-7882-11ee-89fa-0242ac120005-4-83a6-f14d-94f6-7a56",
       "next": "63983a8e-7882-11ee-89fa-0242ac120005-2-809a-d98a",
       "previous": "8c52f5b6-787a-11ee-89fa-0242ac120005-2-3473-221e"
      },
      {
       "current": "1c10c596-7882-11ee-89fa-0242ac120005-5-83a6-f14d-94f6-7a56-5bc8",
       "next": "63983a8e-7882-11ee-89fa-0242ac120005-3-809a-d98a-61a0",
       "previous": "8c52f5b6-787a-11ee-89fa-0242ac120005-3-3473-221e-907f"
      }
     ],
     "next": "63983a8e-7882-11ee-89fa-0242ac120005-4-809a-d98a-61a0-f1b5",
     "previous": "8c52f5b6-787a-11ee-89fa-0242ac120005-4-3473-221e-907f-3d2c"
    }
   },
   "source": [
    "## 対象OSDの詳細情報取得"
   ]
  },
  {
   "cell_type": "code",
   "execution_count": null,
   "metadata": {
    "lc_cell_meme": {
     "current": "63983a8e-7882-11ee-89fa-0242ac120005-4-809a-d98a-61a0-f1b5",
     "history": [
      {
       "current": "63983a8e-7882-11ee-89fa-0242ac120005",
       "next": "63983bb0-7882-11ee-89fa-0242ac120005",
       "previous": "8c52f6ec-787a-11ee-89fa-0242ac120005"
      },
      {
       "current": "63983a8e-7882-11ee-89fa-0242ac120005",
       "next": "63983bb0-7882-11ee-89fa-0242ac120005",
       "previous": "1c10c596-7882-11ee-89fa-0242ac120005-1-83a6"
      },
      {
       "current": "63983a8e-7882-11ee-89fa-0242ac120005-1-809a",
       "next": "63983ca0-7882-11ee-89fa-0242ac120005",
       "previous": "1c10c596-7882-11ee-89fa-0242ac120005-1-83a6"
      },
      {
       "current": "63983a8e-7882-11ee-89fa-0242ac120005-2-809a-d98a",
       "next": "63983ca0-7882-11ee-89fa-0242ac120005-1-9e9a",
       "previous": "1c10c596-7882-11ee-89fa-0242ac120005-2-83a6-f14d"
      },
      {
       "current": "63983a8e-7882-11ee-89fa-0242ac120005-3-809a-d98a-61a0",
       "next": "63983ca0-7882-11ee-89fa-0242ac120005-2-9e9a-1891",
       "previous": "1c10c596-7882-11ee-89fa-0242ac120005-3-83a6-f14d-94f6"
      },
      {
       "current": "63983a8e-7882-11ee-89fa-0242ac120005-4-809a-d98a-61a0-f1b5",
       "next": "63983ca0-7882-11ee-89fa-0242ac120005-3-9e9a-1891-6c07",
       "previous": "1c10c596-7882-11ee-89fa-0242ac120005-4-83a6-f14d-94f6-7a56"
      }
     ],
     "next": "63983ca0-7882-11ee-89fa-0242ac120005-4-9e9a-1891-6c07-d1da",
     "previous": "1c10c596-7882-11ee-89fa-0242ac120005-5-83a6-f14d-94f6-7a56-5bc8"
    }
   },
   "outputs": [],
   "source": [
    "ret = !ansible -b -m shell -a \"cephadm shell -- ceph osd metadata --format=json 2> /dev/null\" bootstrap"
   ]
  },
  {
   "cell_type": "code",
   "execution_count": null,
   "metadata": {
    "lc_cell_meme": {
     "current": "63983ca0-7882-11ee-89fa-0242ac120005-4-9e9a-1891-6c07-d1da",
     "history": [
      {
       "current": "63983ca0-7882-11ee-89fa-0242ac120005",
       "next": "8c52f7d2-787a-11ee-89fa-0242ac120005",
       "previous": "63983bb0-7882-11ee-89fa-0242ac120005"
      },
      {
       "current": "63983ca0-7882-11ee-89fa-0242ac120005",
       "next": "73a3ee14-788c-11ee-89fa-0242ac120005",
       "previous": "63983bb0-7882-11ee-89fa-0242ac120005"
      },
      {
       "current": "63983ca0-7882-11ee-89fa-0242ac120005-1-9e9a",
       "next": "73a3ee14-788c-11ee-89fa-0242ac120005",
       "previous": "63983a8e-7882-11ee-89fa-0242ac120005"
      },
      {
       "current": "63983ca0-7882-11ee-89fa-0242ac120005-2-9e9a-1891",
       "next": "73a3ee14-788c-11ee-89fa-0242ac120005-1-3951",
       "previous": "63983a8e-7882-11ee-89fa-0242ac120005-1-809a"
      },
      {
       "current": "63983ca0-7882-11ee-89fa-0242ac120005-3-9e9a-1891-6c07",
       "next": "73a3ee14-788c-11ee-89fa-0242ac120005-2-3951-e5cd",
       "previous": "63983a8e-7882-11ee-89fa-0242ac120005-2-809a-d98a"
      },
      {
       "current": "63983ca0-7882-11ee-89fa-0242ac120005-4-9e9a-1891-6c07-d1da",
       "next": "73a3ee14-788c-11ee-89fa-0242ac120005-3-3951-e5cd-548b",
       "previous": "63983a8e-7882-11ee-89fa-0242ac120005-3-809a-d98a-61a0"
      }
     ],
     "next": "73a3ee14-788c-11ee-89fa-0242ac120005-4-3951-e5cd-548b-5059",
     "previous": "63983a8e-7882-11ee-89fa-0242ac120005-4-809a-d98a-61a0-f1b5"
    },
    "scrolled": true
   },
   "outputs": [],
   "source": [
    "osd_metadata_list = json.loads(ret[2])\n",
    "print(json.dumps(osd_metadata_list, indent=2))"
   ]
  },
  {
   "cell_type": "code",
   "execution_count": null,
   "metadata": {
    "lc_cell_meme": {
     "current": "73a3ee14-788c-11ee-89fa-0242ac120005-4-3951-e5cd-548b-5059",
     "history": [
      {
       "current": "73a3ee14-788c-11ee-89fa-0242ac120005",
       "next": "73a3eee6-788c-11ee-89fa-0242ac120005",
       "previous": "63983ca0-7882-11ee-89fa-0242ac120005"
      },
      {
       "current": "73a3ee14-788c-11ee-89fa-0242ac120005-1-3951",
       "next": "38ab707c-7952-11ee-89fa-0242ac120005",
       "previous": "63983ca0-7882-11ee-89fa-0242ac120005"
      },
      {
       "current": "73a3ee14-788c-11ee-89fa-0242ac120005-2-3951-e5cd",
       "next": "38ab707c-7952-11ee-89fa-0242ac120005-1-8729",
       "previous": "63983ca0-7882-11ee-89fa-0242ac120005-1-9e9a"
      },
      {
       "current": "73a3ee14-788c-11ee-89fa-0242ac120005-3-3951-e5cd-548b",
       "next": "38ab707c-7952-11ee-89fa-0242ac120005-2-8729-d660",
       "previous": "63983ca0-7882-11ee-89fa-0242ac120005-2-9e9a-1891"
      },
      {
       "current": "73a3ee14-788c-11ee-89fa-0242ac120005-4-3951-e5cd-548b-5059",
       "next": "38ab707c-7952-11ee-89fa-0242ac120005-3-8729-d660-54a6",
       "previous": "63983ca0-7882-11ee-89fa-0242ac120005-3-9e9a-1891-6c07"
      }
     ],
     "next": "38ab707c-7952-11ee-89fa-0242ac120005-4-8729-d660-54a6-ef13",
     "previous": "63983ca0-7882-11ee-89fa-0242ac120005-4-9e9a-1891-6c07-d1da"
    }
   },
   "outputs": [],
   "source": [
    "for osd_metadata in osd_metadata_list:\n",
    "    bluefs_db_partition_path = osd_metadata['bluefs_db_partition_path']\n",
    "    bluestore_bdev_partition_path = osd_metadata['bluestore_bdev_partition_path']\n",
    "    osd_id =  osd_metadata['id']\n",
    "    osd = osd_map.get(osd_id,None)\n",
    "    osd['bluefs_db_partition_path'] = bluefs_db_partition_path\n",
    "    osd['bluestore_bdev_partition_path'] = bluestore_bdev_partition_path\n"
   ]
  },
  {
   "cell_type": "code",
   "execution_count": null,
   "metadata": {
    "lc_cell_meme": {
     "current": "38ab707c-7952-11ee-89fa-0242ac120005-4-8729-d660-54a6-ef13",
     "history": [
      {
       "current": "38ab707c-7952-11ee-89fa-0242ac120005",
       "next": "38ab720c-7952-11ee-89fa-0242ac120005",
       "previous": "73a3ee14-788c-11ee-89fa-0242ac120005"
      },
      {
       "current": "38ab707c-7952-11ee-89fa-0242ac120005",
       "next": "38ab720c-7952-11ee-89fa-0242ac120005-3-0da0-508c-90bc",
       "previous": "73a3ee14-788c-11ee-89fa-0242ac120005"
      },
      {
       "current": "38ab707c-7952-11ee-89fa-0242ac120005-1-8729",
       "next": "ab1fa5b8-7882-11ee-89fa-0242ac120005-1-3a7c",
       "previous": "73a3ee14-788c-11ee-89fa-0242ac120005"
      },
      {
       "current": "38ab707c-7952-11ee-89fa-0242ac120005-2-8729-d660",
       "next": "ab1fa5b8-7882-11ee-89fa-0242ac120005-2-3a7c-6400",
       "previous": "73a3ee14-788c-11ee-89fa-0242ac120005-1-3951"
      },
      {
       "current": "38ab707c-7952-11ee-89fa-0242ac120005-3-8729-d660-54a6",
       "next": "ab1fa5b8-7882-11ee-89fa-0242ac120005-3-3a7c-6400-cdc3",
       "previous": "73a3ee14-788c-11ee-89fa-0242ac120005-2-3951-e5cd"
      },
      {
       "current": "38ab707c-7952-11ee-89fa-0242ac120005-4-8729-d660-54a6-ef13",
       "next": "ab1fa5b8-7882-11ee-89fa-0242ac120005-4-3a7c-6400-cdc3-2163",
       "previous": "73a3ee14-788c-11ee-89fa-0242ac120005-3-3951-e5cd-548b"
      }
     ],
     "next": "ab1fa5b8-7882-11ee-89fa-0242ac120005-5-3a7c-6400-cdc3-2163-467d",
     "previous": "73a3ee14-788c-11ee-89fa-0242ac120005-4-3951-e5cd-548b-5059"
    },
    "scrolled": true
   },
   "outputs": [],
   "source": [
    "pd.DataFrame(osd_info_list)"
   ]
  },
  {
   "cell_type": "markdown",
   "metadata": {
    "lc_cell_meme": {
     "current": "ab1fa5b8-7882-11ee-89fa-0242ac120005-5-3a7c-6400-cdc3-2163-467d",
     "history": [
      {
       "current": "ab1fa5b8-7882-11ee-89fa-0242ac120005",
       "next": "ab1fa82e-7882-11ee-89fa-0242ac120005",
       "previous": "8c52f7d2-787a-11ee-89fa-0242ac120005"
      },
      {
       "current": "ab1fa5b8-7882-11ee-89fa-0242ac120005-1-3a7c",
       "next": "81b57774-7883-11ee-89fa-0242ac120005",
       "previous": "8c52f7d2-787a-11ee-89fa-0242ac120005"
      },
      {
       "current": "ab1fa5b8-7882-11ee-89fa-0242ac120005-1-3a7c",
       "next": "81b57774-7883-11ee-89fa-0242ac120005",
       "previous": "d1598748-7888-11ee-89fa-0242ac120005"
      },
      {
       "current": "ab1fa5b8-7882-11ee-89fa-0242ac120005-1-3a7c",
       "next": "36fe2b70-788a-11ee-89fa-0242ac120005",
       "previous": "d1598748-7888-11ee-89fa-0242ac120005"
      },
      {
       "current": "ab1fa5b8-7882-11ee-89fa-0242ac120005-1-3a7c",
       "next": "36fe2b70-788a-11ee-89fa-0242ac120005",
       "previous": "73a3eee6-788c-11ee-89fa-0242ac120005"
      },
      {
       "current": "ab1fa5b8-7882-11ee-89fa-0242ac120005-1-3a7c",
       "next": "36fe2b70-788a-11ee-89fa-0242ac120005",
       "previous": "38ab72fc-7952-11ee-89fa-0242ac120005"
      },
      {
       "current": "ab1fa5b8-7882-11ee-89fa-0242ac120005-1-3a7c",
       "next": "50950646-7955-11ee-89fa-0242ac120005",
       "previous": "38ab72fc-7952-11ee-89fa-0242ac120005"
      },
      {
       "current": "ab1fa5b8-7882-11ee-89fa-0242ac120005-1-3a7c",
       "next": "50950646-7955-11ee-89fa-0242ac120005",
       "previous": "2811e602-7956-11ee-89fa-0242ac120005"
      },
      {
       "current": "ab1fa5b8-7882-11ee-89fa-0242ac120005-1-3a7c",
       "next": "d5d1e4da-7957-11ee-89fa-0242ac120005",
       "previous": "2811e602-7956-11ee-89fa-0242ac120005"
      },
      {
       "current": "ab1fa5b8-7882-11ee-89fa-0242ac120005-1-3a7c",
       "next": "d5d1e4da-7957-11ee-89fa-0242ac120005",
       "previous": "38ab72fc-7952-11ee-89fa-0242ac120005"
      },
      {
       "current": "ab1fa5b8-7882-11ee-89fa-0242ac120005-2-3a7c-6400",
       "next": "d5d1e4da-7957-11ee-89fa-0242ac120005",
       "previous": "38ab707c-7952-11ee-89fa-0242ac120005"
      },
      {
       "current": "ab1fa5b8-7882-11ee-89fa-0242ac120005-3-3a7c-6400-cdc3",
       "next": "d5d1e4da-7957-11ee-89fa-0242ac120005-1-e98d",
       "previous": "38ab707c-7952-11ee-89fa-0242ac120005-1-8729"
      },
      {
       "current": "ab1fa5b8-7882-11ee-89fa-0242ac120005-4-3a7c-6400-cdc3-2163",
       "next": "d5d1e4da-7957-11ee-89fa-0242ac120005-2-e98d-ab3d",
       "previous": "38ab707c-7952-11ee-89fa-0242ac120005-2-8729-d660"
      },
      {
       "current": "ab1fa5b8-7882-11ee-89fa-0242ac120005-5-3a7c-6400-cdc3-2163-467d",
       "next": "d5d1e4da-7957-11ee-89fa-0242ac120005-3-e98d-ab3d-43a2",
       "previous": "38ab707c-7952-11ee-89fa-0242ac120005-3-8729-d660-54a6"
      }
     ],
     "next": "d5d1e4da-7957-11ee-89fa-0242ac120005-4-e98d-ab3d-43a2-e2f5",
     "previous": "38ab707c-7952-11ee-89fa-0242ac120005-4-8729-d660-54a6-ef13"
    }
   },
   "source": [
    "# LVMのデバイスマップ情報取得"
   ]
  },
  {
   "cell_type": "markdown",
   "metadata": {
    "lc_cell_meme": {
     "current": "d5d1e4da-7957-11ee-89fa-0242ac120005-4-e98d-ab3d-43a2-e2f5",
     "history": [
      {
       "current": "d5d1e4da-7957-11ee-89fa-0242ac120005",
       "next": "d5d1e584-7957-11ee-89fa-0242ac120005",
       "previous": "d5d1e32c-7957-11ee-89fa-0242ac120005"
      },
      {
       "current": "d5d1e4da-7957-11ee-89fa-0242ac120005-1-e98d",
       "next": "d5d1e584-7957-11ee-89fa-0242ac120005",
       "previous": "ab1fa5b8-7882-11ee-89fa-0242ac120005-1-3a7c"
      },
      {
       "current": "d5d1e4da-7957-11ee-89fa-0242ac120005-2-e98d-ab3d",
       "next": "d5d1e584-7957-11ee-89fa-0242ac120005-1-2545",
       "previous": "ab1fa5b8-7882-11ee-89fa-0242ac120005-2-3a7c-6400"
      },
      {
       "current": "d5d1e4da-7957-11ee-89fa-0242ac120005-3-e98d-ab3d-43a2",
       "next": "d5d1e584-7957-11ee-89fa-0242ac120005-2-2545-b128",
       "previous": "ab1fa5b8-7882-11ee-89fa-0242ac120005-3-3a7c-6400-cdc3"
      },
      {
       "current": "d5d1e4da-7957-11ee-89fa-0242ac120005-4-e98d-ab3d-43a2-e2f5",
       "next": "d5d1e584-7957-11ee-89fa-0242ac120005-3-2545-b128-2600",
       "previous": "ab1fa5b8-7882-11ee-89fa-0242ac120005-4-3a7c-6400-cdc3-2163"
      }
     ],
     "next": "d5d1e584-7957-11ee-89fa-0242ac120005-4-2545-b128-2600-6e9f",
     "previous": "ab1fa5b8-7882-11ee-89fa-0242ac120005-5-3a7c-6400-cdc3-2163-467d"
    }
   },
   "source": [
    "## LVM情報取得関数定"
   ]
  },
  {
   "cell_type": "code",
   "execution_count": null,
   "metadata": {
    "lc_cell_meme": {
     "current": "d5d1e584-7957-11ee-89fa-0242ac120005-4-2545-b128-2600-6e9f",
     "history": [
      {
       "current": "d5d1e584-7957-11ee-89fa-0242ac120005",
       "next": "d5d1e5fc-7957-11ee-89fa-0242ac120005",
       "previous": "d5d1e4da-7957-11ee-89fa-0242ac120005"
      },
      {
       "current": "d5d1e584-7957-11ee-89fa-0242ac120005-1-2545",
       "next": "d5d1e5fc-7957-11ee-89fa-0242ac120005-1-3391",
       "previous": "d5d1e4da-7957-11ee-89fa-0242ac120005"
      },
      {
       "current": "d5d1e584-7957-11ee-89fa-0242ac120005-2-2545-b128",
       "next": "d5d1e5fc-7957-11ee-89fa-0242ac120005-2-3391-f726",
       "previous": "d5d1e4da-7957-11ee-89fa-0242ac120005-1-e98d"
      },
      {
       "current": "d5d1e584-7957-11ee-89fa-0242ac120005-3-2545-b128-2600",
       "next": "d5d1e5fc-7957-11ee-89fa-0242ac120005-3-3391-f726-2bed",
       "previous": "d5d1e4da-7957-11ee-89fa-0242ac120005-2-e98d-ab3d"
      },
      {
       "current": "d5d1e584-7957-11ee-89fa-0242ac120005-4-2545-b128-2600-6e9f",
       "next": "d5d1e5fc-7957-11ee-89fa-0242ac120005-4-3391-f726-2bed-9952",
       "previous": "d5d1e4da-7957-11ee-89fa-0242ac120005-3-e98d-ab3d-43a2"
      }
     ],
     "next": "d5d1e5fc-7957-11ee-89fa-0242ac120005-5-3391-f726-2bed-9952-3c72",
     "previous": "d5d1e4da-7957-11ee-89fa-0242ac120005-4-e98d-ab3d-43a2-e2f5"
    }
   },
   "outputs": [],
   "source": [
    "import re\n",
    "\n",
    "def make_pv_info_list(ret):\n",
    "    ret.pop(0)\n",
    "    pv_info_list = []\n",
    "    pv_info = None\n",
    "    for line in ret:\n",
    "        if re.search('Physical volume', line) is not None:\n",
    "            pv_info = {}\n",
    "        elif re.search('PV Name', line) is not None:\n",
    "            elems = re.sub('PV Name','',line).split()\n",
    "            pv_info['pv_name'] = elems[0]\n",
    "        elif re.search('VG Name', line) is not None:\n",
    "            elems = re.sub('VG Name','',line).split()\n",
    "            pv_info['vg_name'] = elems[0]\n",
    "        elif re.search('PV Size', line) is not None:\n",
    "            elems = re.sub('PV Size','',line).split()\n",
    "            pv_info['pv_size'] = elems[0]\n",
    "            pv_info_list.append(pv_info)\n",
    "\n",
    "    return pv_info_list\n",
    "\n",
    "def make_lv_info_list(ret, pv_info_map):\n",
    "    lv_info_list = []\n",
    "    lv_info = None\n",
    "    for line in ret:\n",
    "        if re.search('Logical volume', line) is not None:\n",
    "            lv_info = {}\n",
    "        elif re.search('LV Path', line) is not None:\n",
    "            elems = re.sub('LV Path','',line).split()\n",
    "            lv_info['lv_path'] = elems[0]\n",
    "        elif re.search('LV Name', line) is not None:\n",
    "            elems = re.sub('LV Name','',line).split()\n",
    "            lv_info['lv_name'] = elems[0]\n",
    "        elif re.search('VG Name', line) is not None:\n",
    "            elems = re.sub('VG Name','',line).split()\n",
    "            lv_info['vg_name'] = elems[0]\n",
    "            lv_info['pv_name'] = pv_info_map.get(lv_info['vg_name'],None)\n",
    "        elif re.search('Block device', line) is not None:\n",
    "            elems = re.sub('Block device','',line).split()\n",
    "            lv_info['block_dev'] = elems[0]\n",
    "            dev_elems = lv_info['block_dev'].split(':')\n",
    "            dev_name = \"dm-{}\".format(dev_elems[1])\n",
    "            lv_info['dev_name'] = dev_name\n",
    "            lv_info_list.append(lv_info)\n",
    "            \n",
    "    return lv_info_list\n",
    "            "
   ]
  },
  {
   "cell_type": "markdown",
   "metadata": {
    "lc_cell_meme": {
     "current": "d5d1e5fc-7957-11ee-89fa-0242ac120005-5-3391-f726-2bed-9952-3c72",
     "history": [
      {
       "current": "d5d1e5fc-7957-11ee-89fa-0242ac120005-1-3391",
       "next": "509507ea-7955-11ee-89fa-0242ac120005",
       "previous": "d5d1e584-7957-11ee-89fa-0242ac120005"
      },
      {
       "current": "d5d1e5fc-7957-11ee-89fa-0242ac120005-1-3391",
       "next": "50950646-7955-11ee-89fa-0242ac120005",
       "previous": "d5d1e584-7957-11ee-89fa-0242ac120005"
      },
      {
       "current": "d5d1e5fc-7957-11ee-89fa-0242ac120005-1-3391",
       "next": "f3ef8642-7958-11ee-89fa-0242ac120005",
       "previous": "d5d1e584-7957-11ee-89fa-0242ac120005"
      },
      {
       "current": "d5d1e5fc-7957-11ee-89fa-0242ac120005-1-3391",
       "next": "565fee00-835b-11ee-91d3-0242ac120006",
       "previous": "d5d1e584-7957-11ee-89fa-0242ac120005"
      },
      {
       "current": "d5d1e5fc-7957-11ee-89fa-0242ac120005-2-3391-f726",
       "next": "f3ef8642-7958-11ee-89fa-0242ac120005",
       "previous": "d5d1e584-7957-11ee-89fa-0242ac120005"
      },
      {
       "current": "d5d1e5fc-7957-11ee-89fa-0242ac120005-3-3391-f726-2bed",
       "next": "f3ef8642-7958-11ee-89fa-0242ac120005-1-b2f6",
       "previous": "d5d1e584-7957-11ee-89fa-0242ac120005-1-2545"
      },
      {
       "current": "d5d1e5fc-7957-11ee-89fa-0242ac120005-4-3391-f726-2bed-9952",
       "next": "f3ef8642-7958-11ee-89fa-0242ac120005-2-b2f6-dcc3",
       "previous": "d5d1e584-7957-11ee-89fa-0242ac120005-2-2545-b128"
      },
      {
       "current": "d5d1e5fc-7957-11ee-89fa-0242ac120005-5-3391-f726-2bed-9952-3c72",
       "next": "f3ef8642-7958-11ee-89fa-0242ac120005-3-b2f6-dcc3-5648",
       "previous": "d5d1e584-7957-11ee-89fa-0242ac120005-3-2545-b128-2600"
      }
     ],
     "next": "f3ef8642-7958-11ee-89fa-0242ac120005-4-b2f6-dcc3-5648-3171",
     "previous": "d5d1e584-7957-11ee-89fa-0242ac120005-4-2545-b128-2600-6e9f"
    }
   },
   "source": [
    "## PV情報取得"
   ]
  },
  {
   "cell_type": "code",
   "execution_count": null,
   "metadata": {
    "lc_cell_meme": {
     "current": "f3ef8642-7958-11ee-89fa-0242ac120005-4-b2f6-dcc3-5648-3171",
     "history": [
      {
       "current": "f3ef8642-7958-11ee-89fa-0242ac120005",
       "next": "f3ef8750-7958-11ee-89fa-0242ac120005",
       "previous": "50950646-7955-11ee-89fa-0242ac120005"
      },
      {
       "current": "f3ef8642-7958-11ee-89fa-0242ac120005",
       "next": "f3ef8750-7958-11ee-89fa-0242ac120005",
       "previous": "d5d1e5fc-7957-11ee-89fa-0242ac120005-1-3391"
      },
      {
       "current": "f3ef8642-7958-11ee-89fa-0242ac120005",
       "next": "f3ef8750-7958-11ee-89fa-0242ac120005",
       "previous": "565fee00-835b-11ee-91d3-0242ac120006"
      },
      {
       "current": "f3ef8642-7958-11ee-89fa-0242ac120005-1-b2f6",
       "next": "f3ef8750-7958-11ee-89fa-0242ac120005",
       "previous": "d5d1e5fc-7957-11ee-89fa-0242ac120005-1-3391"
      },
      {
       "current": "f3ef8642-7958-11ee-89fa-0242ac120005-2-b2f6-dcc3",
       "next": "f3ef8750-7958-11ee-89fa-0242ac120005-1-73e0",
       "previous": "d5d1e5fc-7957-11ee-89fa-0242ac120005-2-3391-f726"
      },
      {
       "current": "f3ef8642-7958-11ee-89fa-0242ac120005-3-b2f6-dcc3-5648",
       "next": "f3ef8750-7958-11ee-89fa-0242ac120005-2-73e0-f92e",
       "previous": "d5d1e5fc-7957-11ee-89fa-0242ac120005-3-3391-f726-2bed"
      },
      {
       "current": "f3ef8642-7958-11ee-89fa-0242ac120005-4-b2f6-dcc3-5648-3171",
       "next": "f3ef8750-7958-11ee-89fa-0242ac120005-3-73e0-f92e-a04f",
       "previous": "d5d1e5fc-7957-11ee-89fa-0242ac120005-4-3391-f726-2bed-9952"
      }
     ],
     "next": "f3ef8750-7958-11ee-89fa-0242ac120005-4-73e0-f92e-a04f-7df3",
     "previous": "d5d1e5fc-7957-11ee-89fa-0242ac120005-5-3391-f726-2bed-9952-3c72"
    }
   },
   "outputs": [],
   "source": [
    "pv_info_list_map = {}\n",
    "lv_info_list_map = {}\n",
    "\n",
    "for node in node_list:\n",
    "    # get PV Info\n",
    "    host_name = node['name']\n",
    "    prov_ip = node['prov_ip']\n",
    "    ret = !ansible -i $hosts -b -m shell -a 'pvdisplay' $prov_ip\n",
    "    pv_info_list = make_pv_info_list(ret)\n",
    "    pv_info_list_map[host_name] = pv_info_list\n",
    "\n",
    "    pv_info_map = {}\n",
    "    for pv_info in pv_info_list:\n",
    "        vg_name = pv_info['vg_name']\n",
    "        pv_info_map[vg_name] = pv_info['pv_name']    \n",
    "    \n",
    "    # get PV Info\n",
    "    ret = !ansible -i $hosts -b -m shell -a 'lvdisplay' $prov_ip\n",
    "    lv_info_list = make_lv_info_list(ret,pv_info_map)\n",
    "    lv_info_list_map[host_name] = lv_info_list\n"
   ]
  },
  {
   "cell_type": "code",
   "execution_count": null,
   "metadata": {
    "lc_cell_meme": {
     "current": "f3ef8750-7958-11ee-89fa-0242ac120005-4-73e0-f92e-a04f-7df3",
     "history": [
      {
       "current": "f3ef8750-7958-11ee-89fa-0242ac120005-1-73e0",
       "next": "f3ef87aa-7958-11ee-89fa-0242ac120005",
       "previous": "f3ef8642-7958-11ee-89fa-0242ac120005"
      },
      {
       "current": "f3ef8750-7958-11ee-89fa-0242ac120005-2-73e0-f92e",
       "next": "f3ef87aa-7958-11ee-89fa-0242ac120005-1-5d21",
       "previous": "f3ef8642-7958-11ee-89fa-0242ac120005-1-b2f6"
      },
      {
       "current": "f3ef8750-7958-11ee-89fa-0242ac120005-3-73e0-f92e-a04f",
       "next": "f3ef87aa-7958-11ee-89fa-0242ac120005-2-5d21-6f69",
       "previous": "f3ef8642-7958-11ee-89fa-0242ac120005-2-b2f6-dcc3"
      },
      {
       "current": "f3ef8750-7958-11ee-89fa-0242ac120005-4-73e0-f92e-a04f-7df3",
       "next": "f3ef87aa-7958-11ee-89fa-0242ac120005-3-5d21-6f69-4231",
       "previous": "f3ef8642-7958-11ee-89fa-0242ac120005-3-b2f6-dcc3-5648"
      }
     ],
     "next": "f3ef87aa-7958-11ee-89fa-0242ac120005-4-5d21-6f69-4231-adf2",
     "previous": "f3ef8642-7958-11ee-89fa-0242ac120005-4-b2f6-dcc3-5648-3171"
    },
    "scrolled": true
   },
   "outputs": [],
   "source": [
    "for key, pv_info_list in pv_info_list_map.items():\n",
    "    ret = pd.DataFrame(pv_info_list)\n",
    "    print(key)\n",
    "    print(ret)\n"
   ]
  },
  {
   "cell_type": "code",
   "execution_count": null,
   "metadata": {
    "lc_cell_meme": {
     "current": "f3ef87aa-7958-11ee-89fa-0242ac120005-4-5d21-6f69-4231-adf2",
     "history": [
      {
       "current": "f3ef87aa-7958-11ee-89fa-0242ac120005",
       "next": "f3ef87f0-7958-11ee-89fa-0242ac120005",
       "previous": "f3ef8750-7958-11ee-89fa-0242ac120005"
      },
      {
       "current": "f3ef87aa-7958-11ee-89fa-0242ac120005-1-5d21",
       "next": "f7959f9a-788e-11ee-89fa-0242ac120005",
       "previous": "f3ef8750-7958-11ee-89fa-0242ac120005"
      },
      {
       "current": "f3ef87aa-7958-11ee-89fa-0242ac120005-2-5d21-6f69",
       "next": "f7959f9a-788e-11ee-89fa-0242ac120005-1-b14f",
       "previous": "f3ef8750-7958-11ee-89fa-0242ac120005-1-73e0"
      },
      {
       "current": "f3ef87aa-7958-11ee-89fa-0242ac120005-3-5d21-6f69-4231",
       "next": "f7959f9a-788e-11ee-89fa-0242ac120005-2-b14f-cd9b",
       "previous": "f3ef8750-7958-11ee-89fa-0242ac120005-2-73e0-f92e"
      },
      {
       "current": "f3ef87aa-7958-11ee-89fa-0242ac120005-4-5d21-6f69-4231-adf2",
       "next": "f7959f9a-788e-11ee-89fa-0242ac120005-3-b14f-cd9b-2f72",
       "previous": "f3ef8750-7958-11ee-89fa-0242ac120005-3-73e0-f92e-a04f"
      }
     ],
     "next": "f7959f9a-788e-11ee-89fa-0242ac120005-4-b14f-cd9b-2f72-b297",
     "previous": "f3ef8750-7958-11ee-89fa-0242ac120005-4-73e0-f92e-a04f-7df3"
    },
    "scrolled": true
   },
   "outputs": [],
   "source": [
    "for key, lv_info_list in lv_info_list_map.items():\n",
    "    ret = pd.DataFrame(lv_info_list)\n",
    "    print(key)\n",
    "    print(ret)"
   ]
  },
  {
   "cell_type": "markdown",
   "metadata": {
    "lc_cell_meme": {
     "current": "f7959f9a-788e-11ee-89fa-0242ac120005-4-b14f-cd9b-2f72-b297",
     "history": [
      {
       "current": "f7959f9a-788e-11ee-89fa-0242ac120005",
       "next": "4a3ab980-788d-11ee-89fa-0242ac120005",
       "previous": "8c52f84a-787a-11ee-89fa-0242ac120005"
      },
      {
       "current": "f7959f9a-788e-11ee-89fa-0242ac120005",
       "next": "4a3ab980-788d-11ee-89fa-0242ac120005",
       "previous": "f3ef87aa-7958-11ee-89fa-0242ac120005"
      },
      {
       "current": "f7959f9a-788e-11ee-89fa-0242ac120005-1-b14f",
       "next": "52495ff6-7c74-11ee-89fa-0242ac120005",
       "previous": "f3ef87aa-7958-11ee-89fa-0242ac120005"
      },
      {
       "current": "f7959f9a-788e-11ee-89fa-0242ac120005-2-b14f-cd9b",
       "next": "52495ff6-7c74-11ee-89fa-0242ac120005-1-8a16",
       "previous": "f3ef87aa-7958-11ee-89fa-0242ac120005-1-5d21"
      },
      {
       "current": "f7959f9a-788e-11ee-89fa-0242ac120005-3-b14f-cd9b-2f72",
       "next": "52495ff6-7c74-11ee-89fa-0242ac120005-2-8a16-2782",
       "previous": "f3ef87aa-7958-11ee-89fa-0242ac120005-2-5d21-6f69"
      },
      {
       "current": "f7959f9a-788e-11ee-89fa-0242ac120005-4-b14f-cd9b-2f72-b297",
       "next": "52495ff6-7c74-11ee-89fa-0242ac120005-3-8a16-2782-6714",
       "previous": "f3ef87aa-7958-11ee-89fa-0242ac120005-3-5d21-6f69-4231"
      }
     ],
     "next": "52495ff6-7c74-11ee-89fa-0242ac120005-4-8a16-2782-6714-a265",
     "previous": "f3ef87aa-7958-11ee-89fa-0242ac120005-4-5d21-6f69-4231-adf2"
    }
   },
   "source": [
    "## OSD情報リストと対象ディスクとの関連付け"
   ]
  },
  {
   "cell_type": "code",
   "execution_count": null,
   "metadata": {
    "lc_cell_meme": {
     "current": "52495ff6-7c74-11ee-89fa-0242ac120005-4-8a16-2782-6714-a265",
     "history": [
      {
       "current": "52495ff6-7c74-11ee-89fa-0242ac120005-1-8a16",
       "next": "5249623a-7c74-11ee-89fa-0242ac120005",
       "previous": "f7959f9a-788e-11ee-89fa-0242ac120005"
      },
      {
       "current": "52495ff6-7c74-11ee-89fa-0242ac120005-2-8a16-2782",
       "next": "5249623a-7c74-11ee-89fa-0242ac120005-1-e4f9",
       "previous": "f7959f9a-788e-11ee-89fa-0242ac120005-1-b14f"
      },
      {
       "current": "52495ff6-7c74-11ee-89fa-0242ac120005-3-8a16-2782-6714",
       "next": "5249623a-7c74-11ee-89fa-0242ac120005-2-e4f9-9177",
       "previous": "f7959f9a-788e-11ee-89fa-0242ac120005-2-b14f-cd9b"
      },
      {
       "current": "52495ff6-7c74-11ee-89fa-0242ac120005-4-8a16-2782-6714-a265",
       "next": "5249623a-7c74-11ee-89fa-0242ac120005-3-e4f9-9177-5562",
       "previous": "f7959f9a-788e-11ee-89fa-0242ac120005-3-b14f-cd9b-2f72"
      }
     ],
     "next": "5249623a-7c74-11ee-89fa-0242ac120005-4-e4f9-9177-5562-4fa7",
     "previous": "f7959f9a-788e-11ee-89fa-0242ac120005-4-b14f-cd9b-2f72-b297"
    }
   },
   "outputs": [],
   "source": [
    "for osd_info in osd_info_list:\n",
    "    host_name = osd_info['host_name']\n",
    "    name = osd_info['name']\n",
    "    bluefs_db_partition_path = osd_info['bluefs_db_partition_path']\n",
    "    db_dev_name = bluefs_db_partition_path.split('/')[2]\n",
    "    bluestore_bdev_partition_path = osd_info['bluestore_bdev_partition_path']\n",
    "    bdev_dev_name = bluestore_bdev_partition_path.split('/')[2]\n",
    "\n",
    "    lv_info_list = lv_info_list_map[host_name]\n",
    "    target_db_lv_info = None\n",
    "    target_bdev_lv_info = None\n",
    "    for lv_info in lv_info_list:\n",
    "        if lv_info['dev_name'] == db_dev_name:\n",
    "            target_db_lv_info = lv_info\n",
    "        if lv_info['dev_name'] == bdev_dev_name:\n",
    "            target_bdev_lv_info = lv_info\n",
    "        if target_bdev_lv_info is None or target_db_lv_info is None:\n",
    "            continue\n",
    "\n",
    "    if target_bdev_lv_info is not None:\n",
    "        osd_info['bdev_lv_path'] = target_bdev_lv_info['lv_path']\n",
    "        osd_info['bdev_lv_name'] = target_bdev_lv_info['lv_name']\n",
    "        osd_info['bdev_vg_name'] = target_bdev_lv_info['vg_name']\n",
    "        osd_info['bdev_pv_name'] = target_bdev_lv_info['pv_name']\n",
    "    else:\n",
    "        osd_info['bdev_lv_path'] = None\n",
    "        osd_info['bdev_lv_name'] = None\n",
    "        osd_info['bdev_vg_name'] = None\n",
    "        osd_info['bdev_pv_name'] = None\n",
    "    \n",
    "\n",
    "    if target_db_lv_info is not None:\n",
    "        osd_info['db_lv_path'] = target_db_lv_info['lv_path']\n",
    "        osd_info['db_lv_name'] = target_db_lv_info['lv_name']\n",
    "        osd_info['db_vg_name'] = target_db_lv_info['vg_name']\n",
    "        osd_info['db_pv_name'] = target_db_lv_info['pv_name']\n",
    "    else:\n",
    "        osd_info['db_lv_path'] = None\n",
    "        osd_info['db_lv_name'] = None\n",
    "        osd_info['db_vg_name'] = None\n",
    "        osd_info['db_pv_name'] = None\n",
    "    "
   ]
  },
  {
   "cell_type": "code",
   "execution_count": null,
   "metadata": {
    "lc_cell_meme": {
     "current": "5249623a-7c74-11ee-89fa-0242ac120005-4-e4f9-9177-5562-4fa7",
     "history": [
      {
       "current": "5249623a-7c74-11ee-89fa-0242ac120005",
       "next": "524962e4-7c74-11ee-89fa-0242ac120005",
       "previous": "52495ff6-7c74-11ee-89fa-0242ac120005"
      },
      {
       "current": "5249623a-7c74-11ee-89fa-0242ac120005-1-e4f9",
       "next": "d972543c-788d-11ee-89fa-0242ac120005-1-4b32",
       "previous": "52495ff6-7c74-11ee-89fa-0242ac120005"
      },
      {
       "current": "5249623a-7c74-11ee-89fa-0242ac120005-2-e4f9-9177",
       "next": "d972543c-788d-11ee-89fa-0242ac120005-2-4b32-4434",
       "previous": "52495ff6-7c74-11ee-89fa-0242ac120005-1-8a16"
      },
      {
       "current": "5249623a-7c74-11ee-89fa-0242ac120005-3-e4f9-9177-5562",
       "next": "d972543c-788d-11ee-89fa-0242ac120005-3-4b32-4434-691c",
       "previous": "52495ff6-7c74-11ee-89fa-0242ac120005-2-8a16-2782"
      },
      {
       "current": "5249623a-7c74-11ee-89fa-0242ac120005-4-e4f9-9177-5562-4fa7",
       "next": "d972543c-788d-11ee-89fa-0242ac120005-4-4b32-4434-691c-2c1d",
       "previous": "52495ff6-7c74-11ee-89fa-0242ac120005-3-8a16-2782-6714"
      }
     ],
     "next": "d972543c-788d-11ee-89fa-0242ac120005-5-4b32-4434-691c-2c1d-4bde",
     "previous": "52495ff6-7c74-11ee-89fa-0242ac120005-4-8a16-2782-6714-a265"
    },
    "scrolled": true
   },
   "outputs": [],
   "source": [
    "pd.set_option('display.max_columns', 50)\n",
    "pd.set_option('display.max_rows', len(osd_info_list))\n",
    "pd.DataFrame(osd_info_list)"
   ]
  },
  {
   "cell_type": "markdown",
   "metadata": {
    "lc_cell_meme": {
     "current": "d972543c-788d-11ee-89fa-0242ac120005-5-4b32-4434-691c-2c1d-4bde",
     "history": [
      {
       "current": "d972543c-788d-11ee-89fa-0242ac120005-1-4b32",
       "next": "d972545a-788d-11ee-89fa-0242ac120005",
       "previous": "d9725414-788d-11ee-89fa-0242ac120005"
      },
      {
       "current": "d972543c-788d-11ee-89fa-0242ac120005-1-4b32",
       "next": "0883efe0-7c78-11ee-89fa-0242ac120005",
       "previous": "5249623a-7c74-11ee-89fa-0242ac120005"
      },
      {
       "current": "d972543c-788d-11ee-89fa-0242ac120005-1-4b32",
       "next": "e54d6ba0-82c1-11ee-91d3-0242ac120006",
       "previous": "5249623a-7c74-11ee-89fa-0242ac120005"
      },
      {
       "current": "d972543c-788d-11ee-89fa-0242ac120005-1-4b32",
       "next": "e54d6ba0-82c1-11ee-91d3-0242ac120006-1-d256",
       "previous": "5249623a-7c74-11ee-89fa-0242ac120005"
      },
      {
       "current": "d972543c-788d-11ee-89fa-0242ac120005-2-4b32-4434",
       "next": "38ab720c-7952-11ee-89fa-0242ac120005-3-0da0-508c-90bc",
       "previous": "5249623a-7c74-11ee-89fa-0242ac120005"
      },
      {
       "current": "d972543c-788d-11ee-89fa-0242ac120005-3-4b32-4434-691c",
       "next": "38ab720c-7952-11ee-89fa-0242ac120005-4-0da0-508c-90bc-12e5",
       "previous": "5249623a-7c74-11ee-89fa-0242ac120005-1-e4f9"
      },
      {
       "current": "d972543c-788d-11ee-89fa-0242ac120005-4-4b32-4434-691c-2c1d",
       "next": "38ab720c-7952-11ee-89fa-0242ac120005-5-0da0-508c-90bc-12e5-d75a",
       "previous": "5249623a-7c74-11ee-89fa-0242ac120005-2-e4f9-9177"
      },
      {
       "current": "d972543c-788d-11ee-89fa-0242ac120005-5-4b32-4434-691c-2c1d-4bde",
       "next": "38ab720c-7952-11ee-89fa-0242ac120005-6-0da0-508c-90bc-12e5-d75a-c753",
       "previous": "5249623a-7c74-11ee-89fa-0242ac120005-3-e4f9-9177-5562"
      }
     ],
     "next": "38ab720c-7952-11ee-89fa-0242ac120005-7-0da0-508c-90bc-12e5-d75a-c753-3f55",
     "previous": "5249623a-7c74-11ee-89fa-0242ac120005-4-e4f9-9177-5562-4fa7"
    }
   },
   "source": [
    "# 削除OSDの復帰"
   ]
  },
  {
   "cell_type": "markdown",
   "metadata": {
    "lc_cell_meme": {
     "current": "38ab720c-7952-11ee-89fa-0242ac120005-7-0da0-508c-90bc-12e5-d75a-c753-3f55",
     "history": [
      {
       "current": "38ab720c-7952-11ee-89fa-0242ac120005-3-0da0-508c-90bc",
       "next": "38ab7298-7952-11ee-89fa-0242ac120005",
       "previous": "38ab707c-7952-11ee-89fa-0242ac120005"
      },
      {
       "current": "38ab720c-7952-11ee-89fa-0242ac120005-4-0da0-508c-90bc-12e5",
       "next": "38ab7298-7952-11ee-89fa-0242ac120005",
       "previous": "d972543c-788d-11ee-89fa-0242ac120005-1-4b32"
      },
      {
       "current": "38ab720c-7952-11ee-89fa-0242ac120005-5-0da0-508c-90bc-12e5-d75a",
       "next": "38ab7298-7952-11ee-89fa-0242ac120005-1-f3d0",
       "previous": "d972543c-788d-11ee-89fa-0242ac120005-2-4b32-4434"
      },
      {
       "current": "38ab720c-7952-11ee-89fa-0242ac120005-6-0da0-508c-90bc-12e5-d75a-c753",
       "next": "38ab7298-7952-11ee-89fa-0242ac120005-2-f3d0-75bd",
       "previous": "d972543c-788d-11ee-89fa-0242ac120005-3-4b32-4434-691c"
      },
      {
       "current": "38ab720c-7952-11ee-89fa-0242ac120005-7-0da0-508c-90bc-12e5-d75a-c753-3f55",
       "next": "38ab7298-7952-11ee-89fa-0242ac120005-3-f3d0-75bd-85ca",
       "previous": "d972543c-788d-11ee-89fa-0242ac120005-4-4b32-4434-691c-2c1d"
      }
     ],
     "next": "38ab7298-7952-11ee-89fa-0242ac120005-4-f3d0-75bd-85ca-1fb6",
     "previous": "d972543c-788d-11ee-89fa-0242ac120005-5-4b32-4434-691c-2c1d-4bde"
    }
   },
   "source": [
    "## Destroyed OSD情報取得"
   ]
  },
  {
   "cell_type": "code",
   "execution_count": null,
   "metadata": {
    "lc_cell_meme": {
     "current": "38ab7298-7952-11ee-89fa-0242ac120005-4-f3d0-75bd-85ca-1fb6",
     "history": [
      {
       "current": "38ab7298-7952-11ee-89fa-0242ac120005",
       "next": "38ab72fc-7952-11ee-89fa-0242ac120005",
       "previous": "38ab720c-7952-11ee-89fa-0242ac120005"
      },
      {
       "current": "38ab7298-7952-11ee-89fa-0242ac120005-1-f3d0",
       "next": "38ab72fc-7952-11ee-89fa-0242ac120005",
       "previous": "38ab720c-7952-11ee-89fa-0242ac120005-3-0da0-508c-90bc"
      },
      {
       "current": "38ab7298-7952-11ee-89fa-0242ac120005-2-f3d0-75bd",
       "next": "38ab72fc-7952-11ee-89fa-0242ac120005-1-e0ad",
       "previous": "38ab720c-7952-11ee-89fa-0242ac120005-4-0da0-508c-90bc-12e5"
      },
      {
       "current": "38ab7298-7952-11ee-89fa-0242ac120005-3-f3d0-75bd-85ca",
       "next": "38ab72fc-7952-11ee-89fa-0242ac120005-2-e0ad-b36d",
       "previous": "38ab720c-7952-11ee-89fa-0242ac120005-5-0da0-508c-90bc-12e5-d75a"
      },
      {
       "current": "38ab7298-7952-11ee-89fa-0242ac120005-4-f3d0-75bd-85ca-1fb6",
       "next": "38ab72fc-7952-11ee-89fa-0242ac120005-3-e0ad-b36d-2a71",
       "previous": "38ab720c-7952-11ee-89fa-0242ac120005-6-0da0-508c-90bc-12e5-d75a-c753"
      }
     ],
     "next": "38ab72fc-7952-11ee-89fa-0242ac120005-4-e0ad-b36d-2a71-6806",
     "previous": "38ab720c-7952-11ee-89fa-0242ac120005-7-0da0-508c-90bc-12e5-d75a-c753-3f55"
    }
   },
   "outputs": [],
   "source": [
    "destroyed_osd_info_list = []\n",
    "for osd_info in osd_info_list:\n",
    "    status = osd_info['status']\n",
    "    if status == 'destroyed':\n",
    "        destroyed_osd_info_list.append(osd_info)"
   ]
  },
  {
   "cell_type": "code",
   "execution_count": null,
   "metadata": {
    "lc_cell_meme": {
     "current": "38ab72fc-7952-11ee-89fa-0242ac120005-4-e0ad-b36d-2a71-6806",
     "history": [
      {
       "current": "38ab72fc-7952-11ee-89fa-0242ac120005",
       "next": "ab1fa5b8-7882-11ee-89fa-0242ac120005-1-3a7c",
       "previous": "38ab7298-7952-11ee-89fa-0242ac120005"
      },
      {
       "current": "38ab72fc-7952-11ee-89fa-0242ac120005",
       "next": "2811e288-7956-11ee-89fa-0242ac120005",
       "previous": "38ab7298-7952-11ee-89fa-0242ac120005"
      },
      {
       "current": "38ab72fc-7952-11ee-89fa-0242ac120005",
       "next": "ab1fa5b8-7882-11ee-89fa-0242ac120005-1-3a7c",
       "previous": "38ab7298-7952-11ee-89fa-0242ac120005"
      },
      {
       "current": "38ab72fc-7952-11ee-89fa-0242ac120005",
       "next": "61a21024-8359-11ee-91d3-0242ac120006",
       "previous": "38ab7298-7952-11ee-89fa-0242ac120005"
      },
      {
       "current": "38ab72fc-7952-11ee-89fa-0242ac120005",
       "next": "61a21024-8359-11ee-91d3-0242ac120006-1-f734",
       "previous": "38ab7298-7952-11ee-89fa-0242ac120005"
      },
      {
       "current": "38ab72fc-7952-11ee-89fa-0242ac120005-1-e0ad",
       "next": "cf5daf1e-835f-11ee-91d3-0242ac120006-1-9f06",
       "previous": "38ab7298-7952-11ee-89fa-0242ac120005"
      },
      {
       "current": "38ab72fc-7952-11ee-89fa-0242ac120005-2-e0ad-b36d",
       "next": "cf5daf1e-835f-11ee-91d3-0242ac120006-2-9f06-ee2a",
       "previous": "38ab7298-7952-11ee-89fa-0242ac120005-1-f3d0"
      },
      {
       "current": "38ab72fc-7952-11ee-89fa-0242ac120005-3-e0ad-b36d-2a71",
       "next": "cf5daf1e-835f-11ee-91d3-0242ac120006-3-9f06-ee2a-3112",
       "previous": "38ab7298-7952-11ee-89fa-0242ac120005-2-f3d0-75bd"
      },
      {
       "current": "38ab72fc-7952-11ee-89fa-0242ac120005-4-e0ad-b36d-2a71-6806",
       "next": "cf5daf1e-835f-11ee-91d3-0242ac120006-4-9f06-ee2a-3112-9d38",
       "previous": "38ab7298-7952-11ee-89fa-0242ac120005-3-f3d0-75bd-85ca"
      }
     ],
     "next": "cf5daf1e-835f-11ee-91d3-0242ac120006-5-9f06-ee2a-3112-9d38-bb8d",
     "previous": "38ab7298-7952-11ee-89fa-0242ac120005-4-f3d0-75bd-85ca-1fb6"
    }
   },
   "outputs": [],
   "source": [
    "pd.DataFrame(destroyed_osd_info_list)"
   ]
  },
  {
   "cell_type": "markdown",
   "metadata": {
    "lc_cell_meme": {
     "current": "cf5daf1e-835f-11ee-91d3-0242ac120006-5-9f06-ee2a-3112-9d38-bb8d",
     "history": [
      {
       "current": "cf5daf1e-835f-11ee-91d3-0242ac120006",
       "next": "cf5daf96-835f-11ee-91d3-0242ac120006",
       "previous": "cf5dae6a-835f-11ee-91d3-0242ac120006"
      },
      {
       "current": "cf5daf1e-835f-11ee-91d3-0242ac120006-1-9f06",
       "next": "cf5daf96-835f-11ee-91d3-0242ac120006",
       "previous": "cf5dae6a-835f-11ee-91d3-0242ac120006-1-5ac0"
      },
      {
       "current": "cf5daf1e-835f-11ee-91d3-0242ac120006-1-9f06",
       "next": "cf5daf96-835f-11ee-91d3-0242ac120006-2-6387-c264",
       "previous": "cf5dae6a-835f-11ee-91d3-0242ac120006-1-5ac0"
      },
      {
       "current": "cf5daf1e-835f-11ee-91d3-0242ac120006-2-9f06-ee2a",
       "next": "cf5daf96-835f-11ee-91d3-0242ac120006-2-6387-c264",
       "previous": "38ab72fc-7952-11ee-89fa-0242ac120005"
      },
      {
       "current": "cf5daf1e-835f-11ee-91d3-0242ac120006-3-9f06-ee2a-3112",
       "next": "cf5daf96-835f-11ee-91d3-0242ac120006-3-6387-c264-cb9f",
       "previous": "38ab72fc-7952-11ee-89fa-0242ac120005-1-e0ad"
      },
      {
       "current": "cf5daf1e-835f-11ee-91d3-0242ac120006-4-9f06-ee2a-3112-9d38",
       "next": "cf5daf96-835f-11ee-91d3-0242ac120006-4-6387-c264-cb9f-2c95",
       "previous": "38ab72fc-7952-11ee-89fa-0242ac120005-2-e0ad-b36d"
      },
      {
       "current": "cf5daf1e-835f-11ee-91d3-0242ac120006-5-9f06-ee2a-3112-9d38-bb8d",
       "next": "cf5daf96-835f-11ee-91d3-0242ac120006-5-6387-c264-cb9f-2c95-6626",
       "previous": "38ab72fc-7952-11ee-89fa-0242ac120005-3-e0ad-b36d-2a71"
      }
     ],
     "next": "cf5daf96-835f-11ee-91d3-0242ac120006-6-6387-c264-cb9f-2c95-6626-723c",
     "previous": "38ab72fc-7952-11ee-89fa-0242ac120005-4-e0ad-b36d-2a71-6806"
    }
   },
   "source": [
    "## 復帰対象OSD指定"
   ]
  },
  {
   "cell_type": "code",
   "execution_count": null,
   "metadata": {
    "lc_cell_meme": {
     "current": "cf5daf96-835f-11ee-91d3-0242ac120006-6-6387-c264-cb9f-2c95-6626-723c",
     "history": [
      {
       "current": "cf5daf96-835f-11ee-91d3-0242ac120006-2-6387-c264",
       "next": "cf5db00e-835f-11ee-91d3-0242ac120006",
       "previous": "cf5daf1e-835f-11ee-91d3-0242ac120006"
      },
      {
       "current": "cf5daf96-835f-11ee-91d3-0242ac120006-3-6387-c264-cb9f",
       "next": "cf5db00e-835f-11ee-91d3-0242ac120006",
       "previous": "cf5daf1e-835f-11ee-91d3-0242ac120006-1-9f06"
      },
      {
       "current": "cf5daf96-835f-11ee-91d3-0242ac120006-4-6387-c264-cb9f-2c95",
       "next": "cf5db00e-835f-11ee-91d3-0242ac120006-1-ae6a",
       "previous": "cf5daf1e-835f-11ee-91d3-0242ac120006-2-9f06-ee2a"
      },
      {
       "current": "cf5daf96-835f-11ee-91d3-0242ac120006-5-6387-c264-cb9f-2c95-6626",
       "next": "cf5db00e-835f-11ee-91d3-0242ac120006-2-ae6a-eb26",
       "previous": "cf5daf1e-835f-11ee-91d3-0242ac120006-3-9f06-ee2a-3112"
      },
      {
       "current": "cf5daf96-835f-11ee-91d3-0242ac120006-6-6387-c264-cb9f-2c95-6626-723c",
       "next": "cf5db00e-835f-11ee-91d3-0242ac120006-3-ae6a-eb26-1b2f",
       "previous": "cf5daf1e-835f-11ee-91d3-0242ac120006-4-9f06-ee2a-3112-9d38"
      }
     ],
     "next": "cf5db00e-835f-11ee-91d3-0242ac120006-4-ae6a-eb26-1b2f-74b2",
     "previous": "cf5daf1e-835f-11ee-91d3-0242ac120006-5-9f06-ee2a-3112-9d38-bb8d"
    }
   },
   "outputs": [],
   "source": [
    "# 復帰対象OSDのIDを指定\n",
    "raise Exception('OSDの復帰は1つづつ行う。そのため、復帰対象OSDが複数存在していることを想定し、手動で対象OSD IDを指定する。')"
   ]
  },
  {
   "cell_type": "code",
   "execution_count": null,
   "metadata": {
    "lc_cell_meme": {
     "current": "cf5db00e-835f-11ee-91d3-0242ac120006-4-ae6a-eb26-1b2f-74b2",
     "history": [
      {
       "current": "cf5db00e-835f-11ee-91d3-0242ac120006",
       "next": "61a21204-8359-11ee-91d3-0242ac120006",
       "previous": "cf5daf96-835f-11ee-91d3-0242ac120006"
      },
      {
       "current": "cf5db00e-835f-11ee-91d3-0242ac120006",
       "next": "61a21204-8359-11ee-91d3-0242ac120006",
       "previous": "cf5daf96-835f-11ee-91d3-0242ac120006-2-6387-c264"
      },
      {
       "current": "cf5db00e-835f-11ee-91d3-0242ac120006",
       "next": "54fa443c-8371-11ee-91d3-0242ac120006",
       "previous": "cf5daf96-835f-11ee-91d3-0242ac120006-2-6387-c264"
      },
      {
       "current": "cf5db00e-835f-11ee-91d3-0242ac120006-1-ae6a",
       "next": "61a21024-8359-11ee-91d3-0242ac120006-1-f734",
       "previous": "cf5daf96-835f-11ee-91d3-0242ac120006-2-6387-c264"
      },
      {
       "current": "cf5db00e-835f-11ee-91d3-0242ac120006-2-ae6a-eb26",
       "next": "61a21024-8359-11ee-91d3-0242ac120006-2-f734-c892",
       "previous": "cf5daf96-835f-11ee-91d3-0242ac120006-3-6387-c264-cb9f"
      },
      {
       "current": "cf5db00e-835f-11ee-91d3-0242ac120006-3-ae6a-eb26-1b2f",
       "next": "61a21024-8359-11ee-91d3-0242ac120006-3-f734-c892-2f0a",
       "previous": "cf5daf96-835f-11ee-91d3-0242ac120006-4-6387-c264-cb9f-2c95"
      },
      {
       "current": "cf5db00e-835f-11ee-91d3-0242ac120006-4-ae6a-eb26-1b2f-74b2",
       "next": "61a21024-8359-11ee-91d3-0242ac120006-4-f734-c892-2f0a-d4b7",
       "previous": "cf5daf96-835f-11ee-91d3-0242ac120006-5-6387-c264-cb9f-2c95-6626"
      }
     ],
     "next": "61a21024-8359-11ee-91d3-0242ac120006-5-f734-c892-2f0a-d4b7-ddea",
     "previous": "cf5daf96-835f-11ee-91d3-0242ac120006-6-6387-c264-cb9f-2c95-6626-723c"
    }
   },
   "outputs": [],
   "source": [
    "recovery_osd_id = 60"
   ]
  },
  {
   "cell_type": "markdown",
   "metadata": {
    "lc_cell_meme": {
     "current": "61a21024-8359-11ee-91d3-0242ac120006-5-f734-c892-2f0a-d4b7-ddea",
     "history": [
      {
       "current": "61a21024-8359-11ee-91d3-0242ac120006-1-f734",
       "next": "61a21204-8359-11ee-91d3-0242ac120006",
       "previous": "38ab72fc-7952-11ee-89fa-0242ac120005"
      },
      {
       "current": "61a21024-8359-11ee-91d3-0242ac120006-1-f734",
       "next": "cf5daca8-835f-11ee-91d3-0242ac120006",
       "previous": "38ab72fc-7952-11ee-89fa-0242ac120005"
      },
      {
       "current": "61a21024-8359-11ee-91d3-0242ac120006-1-f734",
       "next": "cf5daca8-835f-11ee-91d3-0242ac120006",
       "previous": "54fa443c-8371-11ee-91d3-0242ac120006"
      },
      {
       "current": "61a21024-8359-11ee-91d3-0242ac120006-2-f734-c892",
       "next": "61a21204-8359-11ee-91d3-0242ac120006",
       "previous": "cf5db00e-835f-11ee-91d3-0242ac120006"
      },
      {
       "current": "61a21024-8359-11ee-91d3-0242ac120006-3-f734-c892-2f0a",
       "next": "61a21204-8359-11ee-91d3-0242ac120006-1-1686",
       "previous": "cf5db00e-835f-11ee-91d3-0242ac120006-1-ae6a"
      },
      {
       "current": "61a21024-8359-11ee-91d3-0242ac120006-4-f734-c892-2f0a-d4b7",
       "next": "61a21204-8359-11ee-91d3-0242ac120006-2-1686-f21d",
       "previous": "cf5db00e-835f-11ee-91d3-0242ac120006-2-ae6a-eb26"
      },
      {
       "current": "61a21024-8359-11ee-91d3-0242ac120006-5-f734-c892-2f0a-d4b7-ddea",
       "next": "61a21204-8359-11ee-91d3-0242ac120006-3-1686-f21d-79a4",
       "previous": "cf5db00e-835f-11ee-91d3-0242ac120006-3-ae6a-eb26-1b2f"
      }
     ],
     "next": "61a21204-8359-11ee-91d3-0242ac120006-4-1686-f21d-79a4-5049",
     "previous": "cf5db00e-835f-11ee-91d3-0242ac120006-4-ae6a-eb26-1b2f-74b2"
    }
   },
   "source": [
    "## 復帰先LVチェック"
   ]
  },
  {
   "cell_type": "code",
   "execution_count": null,
   "metadata": {
    "lc_cell_meme": {
     "current": "61a21204-8359-11ee-91d3-0242ac120006-4-1686-f21d-79a4-5049",
     "history": [
      {
       "current": "61a21204-8359-11ee-91d3-0242ac120006",
       "next": "61a212b8-8359-11ee-91d3-0242ac120006",
       "previous": "61a21024-8359-11ee-91d3-0242ac120006"
      },
      {
       "current": "61a21204-8359-11ee-91d3-0242ac120006",
       "next": "61a212b8-8359-11ee-91d3-0242ac120006",
       "previous": "cf5db00e-835f-11ee-91d3-0242ac120006"
      },
      {
       "current": "61a21204-8359-11ee-91d3-0242ac120006",
       "next": "61a212b8-8359-11ee-91d3-0242ac120006",
       "previous": "cf5dae6a-835f-11ee-91d3-0242ac120006-1-5ac0"
      },
      {
       "current": "61a21204-8359-11ee-91d3-0242ac120006-1-1686",
       "next": "61a212b8-8359-11ee-91d3-0242ac120006",
       "previous": "61a21024-8359-11ee-91d3-0242ac120006-1-f734"
      },
      {
       "current": "61a21204-8359-11ee-91d3-0242ac120006-2-1686-f21d",
       "next": "61a212b8-8359-11ee-91d3-0242ac120006-1-8a48",
       "previous": "61a21024-8359-11ee-91d3-0242ac120006-2-f734-c892"
      },
      {
       "current": "61a21204-8359-11ee-91d3-0242ac120006-3-1686-f21d-79a4",
       "next": "61a212b8-8359-11ee-91d3-0242ac120006-2-8a48-61c6",
       "previous": "61a21024-8359-11ee-91d3-0242ac120006-3-f734-c892-2f0a"
      },
      {
       "current": "61a21204-8359-11ee-91d3-0242ac120006-4-1686-f21d-79a4-5049",
       "next": "61a212b8-8359-11ee-91d3-0242ac120006-3-8a48-61c6-45ab",
       "previous": "61a21024-8359-11ee-91d3-0242ac120006-4-f734-c892-2f0a-d4b7"
      }
     ],
     "next": "61a212b8-8359-11ee-91d3-0242ac120006-4-8a48-61c6-45ab-50fa",
     "previous": "61a21024-8359-11ee-91d3-0242ac120006-5-f734-c892-2f0a-d4b7-ddea"
    }
   },
   "outputs": [],
   "source": [
    "recovery_osd_info = None\n",
    "for osd_id in destroyed_osd_info_list:\n",
    "    if recovery_osd_id == osd_id['id']:\n",
    "        recovery_osd_info = osd_id\n",
    "        break\n",
    "print(recovery_osd_info)"
   ]
  },
  {
   "cell_type": "code",
   "execution_count": null,
   "metadata": {
    "lc_cell_meme": {
     "current": "61a212b8-8359-11ee-91d3-0242ac120006-4-8a48-61c6-45ab-50fa",
     "history": [
      {
       "current": "61a212b8-8359-11ee-91d3-0242ac120006",
       "next": "61a21452-8359-11ee-91d3-0242ac120006",
       "previous": "61a21204-8359-11ee-91d3-0242ac120006"
      },
      {
       "current": "61a212b8-8359-11ee-91d3-0242ac120006",
       "next": "61a21452-8359-11ee-91d3-0242ac120006-1-3103",
       "previous": "61a21204-8359-11ee-91d3-0242ac120006"
      },
      {
       "current": "61a212b8-8359-11ee-91d3-0242ac120006-1-8a48",
       "next": "cf5dae6a-835f-11ee-91d3-0242ac120006-1-5ac0",
       "previous": "61a21204-8359-11ee-91d3-0242ac120006"
      },
      {
       "current": "61a212b8-8359-11ee-91d3-0242ac120006-2-8a48-61c6",
       "next": "cf5dae6a-835f-11ee-91d3-0242ac120006-2-5ac0-a97c",
       "previous": "61a21204-8359-11ee-91d3-0242ac120006-1-1686"
      },
      {
       "current": "61a212b8-8359-11ee-91d3-0242ac120006-3-8a48-61c6-45ab",
       "next": "cf5dae6a-835f-11ee-91d3-0242ac120006-3-5ac0-a97c-830c",
       "previous": "61a21204-8359-11ee-91d3-0242ac120006-2-1686-f21d"
      },
      {
       "current": "61a212b8-8359-11ee-91d3-0242ac120006-4-8a48-61c6-45ab-50fa",
       "next": "cf5dae6a-835f-11ee-91d3-0242ac120006-4-5ac0-a97c-830c-28ff",
       "previous": "61a21204-8359-11ee-91d3-0242ac120006-3-1686-f21d-79a4"
      }
     ],
     "next": "cf5dae6a-835f-11ee-91d3-0242ac120006-5-5ac0-a97c-830c-28ff-d490",
     "previous": "61a21204-8359-11ee-91d3-0242ac120006-4-1686-f21d-79a4-5049"
    }
   },
   "outputs": [],
   "source": [
    "bdev_lv_path = recovery_osd_info['bdev_lv_path']\n",
    "db_lv_path = recovery_osd_info['db_lv_path']\n",
    "host_name = recovery_osd_info['host_name']\n",
    "print(\"host={} osd.{} db_lv_path={} bdev_lv_path={}\".format(host_name, recovery_osd_id,db_lv_path,bdev_lv_path))\n",
    "\n",
    "assert (db_lv_path is not None), \"復帰先のdb_lv_pathが存在しません。復帰するOSDのLVが復旧していないため、復帰できません。\"\n",
    "assert (bdev_lv_path is not None), \"復帰先のbdev_lv_pathが存在しません。復帰するOSDのLVが復旧していないため、復帰できません。\"\n"
   ]
  },
  {
   "cell_type": "markdown",
   "metadata": {
    "lc_cell_meme": {
     "current": "cf5dae6a-835f-11ee-91d3-0242ac120006-5-5ac0-a97c-830c-28ff-d490",
     "history": [
      {
       "current": "cf5dae6a-835f-11ee-91d3-0242ac120006-1-5ac0",
       "next": "cf5daf1e-835f-11ee-91d3-0242ac120006",
       "previous": "cf5daca8-835f-11ee-91d3-0242ac120006"
      },
      {
       "current": "cf5dae6a-835f-11ee-91d3-0242ac120006-1-5ac0",
       "next": "cf5daf1e-835f-11ee-91d3-0242ac120006-1-9f06",
       "previous": "cf5daca8-835f-11ee-91d3-0242ac120006"
      },
      {
       "current": "cf5dae6a-835f-11ee-91d3-0242ac120006-1-5ac0",
       "next": "61a21204-8359-11ee-91d3-0242ac120006",
       "previous": "cf5daca8-835f-11ee-91d3-0242ac120006"
      },
      {
       "current": "cf5dae6a-835f-11ee-91d3-0242ac120006-2-5ac0-a97c",
       "next": "61a21452-8359-11ee-91d3-0242ac120006-1-3103",
       "previous": "61a212b8-8359-11ee-91d3-0242ac120006"
      },
      {
       "current": "cf5dae6a-835f-11ee-91d3-0242ac120006-2-5ac0-a97c",
       "next": "61a21452-8359-11ee-91d3-0242ac120006-2-3103-5b33",
       "previous": "61a212b8-8359-11ee-91d3-0242ac120006-1-8a48"
      },
      {
       "current": "cf5dae6a-835f-11ee-91d3-0242ac120006-2-5ac0-a97c",
       "next": "f6c28224-9d67-11ee-91d3-0242ac120006",
       "previous": "61a212b8-8359-11ee-91d3-0242ac120006-1-8a48"
      },
      {
       "current": "cf5dae6a-835f-11ee-91d3-0242ac120006-3-5ac0-a97c-830c",
       "next": "f6c28224-9d67-11ee-91d3-0242ac120006-1-2b43",
       "previous": "61a212b8-8359-11ee-91d3-0242ac120006-1-8a48"
      },
      {
       "current": "cf5dae6a-835f-11ee-91d3-0242ac120006-4-5ac0-a97c-830c-28ff",
       "next": "f6c28224-9d67-11ee-91d3-0242ac120006-2-2b43-ab8b",
       "previous": "61a212b8-8359-11ee-91d3-0242ac120006-2-8a48-61c6"
      },
      {
       "current": "cf5dae6a-835f-11ee-91d3-0242ac120006-5-5ac0-a97c-830c-28ff-d490",
       "next": "f6c28224-9d67-11ee-91d3-0242ac120006-3-2b43-ab8b-60d0",
       "previous": "61a212b8-8359-11ee-91d3-0242ac120006-3-8a48-61c6-45ab"
      }
     ],
     "next": "f6c28224-9d67-11ee-91d3-0242ac120006-4-2b43-ab8b-60d0-3011",
     "previous": "61a212b8-8359-11ee-91d3-0242ac120006-4-8a48-61c6-45ab-50fa"
    }
   },
   "source": [
    "復帰するOSDのLVが存在しないケースでは、HDDが交換とLVの復旧が完了していないことを示している。<br>\n",
    "この場合、HDDとLVの復旧を行ったのちに再度実行するか、未使用HDDとLVを指定して復旧させる。<br>\n",
    "\n",
    "未使用HDDとLVを指定して復旧させる場合は、以下のNotebookを用いて、未使用LVを使用してOSDを構築する。<br>\n",
    "yyyy-mm-dd_nn_D15_Ceph_Create_OSD_Select_DB_DATA_LV_[NODE_NAME] <br>\n",
    "\n",
    "復帰OSDとして、削除したOSDと同じノード、同じLVを用いる必要はない。"
   ]
  },
  {
   "cell_type": "markdown",
   "metadata": {
    "lc_cell_meme": {
     "current": "f6c28224-9d67-11ee-91d3-0242ac120006-4-2b43-ab8b-60d0-3011",
     "history": [
      {
       "current": "f6c28224-9d67-11ee-91d3-0242ac120006-1-2b43",
       "next": "f6c28418-9d67-11ee-91d3-0242ac120006",
       "previous": "cf5dae6a-835f-11ee-91d3-0242ac120006-2-5ac0-a97c"
      },
      {
       "current": "f6c28224-9d67-11ee-91d3-0242ac120006-1-2b43",
       "next": "3e493f7a-9d68-11ee-91d3-0242ac120006",
       "previous": "cf5dae6a-835f-11ee-91d3-0242ac120006-2-5ac0-a97c"
      },
      {
       "current": "f6c28224-9d67-11ee-91d3-0242ac120006-2-2b43-ab8b",
       "next": "3e493f7a-9d68-11ee-91d3-0242ac120006-1-6dd5",
       "previous": "cf5dae6a-835f-11ee-91d3-0242ac120006-2-5ac0-a97c"
      },
      {
       "current": "f6c28224-9d67-11ee-91d3-0242ac120006-3-2b43-ab8b-60d0",
       "next": "3e493f7a-9d68-11ee-91d3-0242ac120006-2-6dd5-e90b",
       "previous": "cf5dae6a-835f-11ee-91d3-0242ac120006-3-5ac0-a97c-830c"
      },
      {
       "current": "f6c28224-9d67-11ee-91d3-0242ac120006-4-2b43-ab8b-60d0-3011",
       "next": "3e493f7a-9d68-11ee-91d3-0242ac120006-3-6dd5-e90b-1de7",
       "previous": "cf5dae6a-835f-11ee-91d3-0242ac120006-4-5ac0-a97c-830c-28ff"
      }
     ],
     "next": "3e493f7a-9d68-11ee-91d3-0242ac120006-4-6dd5-e90b-1de7-bcd0",
     "previous": "cf5dae6a-835f-11ee-91d3-0242ac120006-5-5ac0-a97c-830c-28ff-d490"
    }
   },
   "source": [
    "## 復帰先LV再構築"
   ]
  },
  {
   "cell_type": "markdown",
   "metadata": {
    "lc_cell_meme": {
     "current": "3e493f7a-9d68-11ee-91d3-0242ac120006-4-6dd5-e90b-1de7-bcd0",
     "history": [
      {
       "current": "3e493f7a-9d68-11ee-91d3-0242ac120006-2-6dd5-e90b",
       "next": "3e4940ce-9d68-11ee-91d3-0242ac120006",
       "previous": "f6c28224-9d67-11ee-91d3-0242ac120006-1-2b43"
      },
      {
       "current": "3e493f7a-9d68-11ee-91d3-0242ac120006-3-6dd5-e90b-1de7",
       "next": "3e4940ce-9d68-11ee-91d3-0242ac120006-1-3072",
       "previous": "f6c28224-9d67-11ee-91d3-0242ac120006-2-2b43-ab8b"
      },
      {
       "current": "3e493f7a-9d68-11ee-91d3-0242ac120006-4-6dd5-e90b-1de7-bcd0",
       "next": "3e4940ce-9d68-11ee-91d3-0242ac120006-2-3072-fe9a",
       "previous": "f6c28224-9d67-11ee-91d3-0242ac120006-3-2b43-ab8b-60d0"
      }
     ],
     "next": "3e4940ce-9d68-11ee-91d3-0242ac120006-3-3072-fe9a-fd59",
     "previous": "f6c28224-9d67-11ee-91d3-0242ac120006-4-2b43-ab8b-60d0-3011"
    }
   },
   "source": [
    "### DB LV再構築"
   ]
  },
  {
   "cell_type": "code",
   "execution_count": null,
   "metadata": {
    "lc_cell_meme": {
     "current": "3e4940ce-9d68-11ee-91d3-0242ac120006-3-3072-fe9a-fd59",
     "history": [
      {
       "current": "3e4940ce-9d68-11ee-91d3-0242ac120006",
       "next": "3e494146-9d68-11ee-91d3-0242ac120006",
       "previous": "3e493f7a-9d68-11ee-91d3-0242ac120006"
      },
      {
       "current": "3e4940ce-9d68-11ee-91d3-0242ac120006-1-3072",
       "next": "3e494146-9d68-11ee-91d3-0242ac120006",
       "previous": "3e493f7a-9d68-11ee-91d3-0242ac120006-1-6dd5"
      },
      {
       "current": "3e4940ce-9d68-11ee-91d3-0242ac120006-2-3072-fe9a",
       "next": "3e494146-9d68-11ee-91d3-0242ac120006-1-b4ca",
       "previous": "3e493f7a-9d68-11ee-91d3-0242ac120006-2-6dd5-e90b"
      },
      {
       "current": "3e4940ce-9d68-11ee-91d3-0242ac120006-3-3072-fe9a-fd59",
       "next": "3e494146-9d68-11ee-91d3-0242ac120006-2-b4ca-eb0d",
       "previous": "3e493f7a-9d68-11ee-91d3-0242ac120006-3-6dd5-e90b-1de7"
      }
     ],
     "next": "3e494146-9d68-11ee-91d3-0242ac120006-3-b4ca-eb0d-1cb3",
     "previous": "3e493f7a-9d68-11ee-91d3-0242ac120006-4-6dd5-e90b-1de7-bcd0"
    }
   },
   "outputs": [],
   "source": [
    "db_lv_num = 0\n",
    "lv_info_list = lv_info_list_map[host_name]\n",
    "for lv_info in lv_info_list:\n",
    "    vg_name = lv_info['vg_name']\n",
    "    if vg_name == 'vg_db':\n",
    "        db_lv_num += 1\n",
    "\n",
    "print(db_lv_num)"
   ]
  },
  {
   "cell_type": "code",
   "execution_count": null,
   "metadata": {
    "lc_cell_meme": {
     "current": "3e494146-9d68-11ee-91d3-0242ac120006-3-b4ca-eb0d-1cb3",
     "history": [
      {
       "current": "3e494146-9d68-11ee-91d3-0242ac120006",
       "next": "f6c28418-9d67-11ee-91d3-0242ac120006",
       "previous": "3e4940ce-9d68-11ee-91d3-0242ac120006"
      },
      {
       "current": "3e494146-9d68-11ee-91d3-0242ac120006-1-b4ca",
       "next": "f6c28418-9d67-11ee-91d3-0242ac120006-1-3f8c",
       "previous": "3e4940ce-9d68-11ee-91d3-0242ac120006"
      },
      {
       "current": "3e494146-9d68-11ee-91d3-0242ac120006-2-b4ca-eb0d",
       "next": "f6c28418-9d67-11ee-91d3-0242ac120006-2-3f8c-64f7",
       "previous": "3e4940ce-9d68-11ee-91d3-0242ac120006-1-3072"
      },
      {
       "current": "3e494146-9d68-11ee-91d3-0242ac120006-3-b4ca-eb0d-1cb3",
       "next": "f6c28418-9d67-11ee-91d3-0242ac120006-3-3f8c-64f7-3583",
       "previous": "3e4940ce-9d68-11ee-91d3-0242ac120006-2-3072-fe9a"
      }
     ],
     "next": "f6c28418-9d67-11ee-91d3-0242ac120006-4-3f8c-64f7-3583-9807",
     "previous": "3e4940ce-9d68-11ee-91d3-0242ac120006-3-3072-fe9a-fd59"
    }
   },
   "outputs": [],
   "source": [
    "node = node_map[host_name]\n",
    "prov_ip = node['prov_ip']\n",
    "!ansible -i $hosts -b -m shell -a 'hostname' $prov_ip"
   ]
  },
  {
   "cell_type": "markdown",
   "metadata": {
    "lc_cell_meme": {
     "current": "f6c28418-9d67-11ee-91d3-0242ac120006-4-3f8c-64f7-3583-9807",
     "history": [
      {
       "current": "f6c28418-9d67-11ee-91d3-0242ac120006",
       "next": "61a21452-8359-11ee-91d3-0242ac120006-2-3103-5b33",
       "previous": "f6c28224-9d67-11ee-91d3-0242ac120006"
      },
      {
       "current": "f6c28418-9d67-11ee-91d3-0242ac120006-1-3f8c",
       "next": "61a21452-8359-11ee-91d3-0242ac120006-2-3103-5b33",
       "previous": "3e494146-9d68-11ee-91d3-0242ac120006"
      },
      {
       "current": "f6c28418-9d67-11ee-91d3-0242ac120006-1-3f8c",
       "next": "5c8900be-9d69-11ee-91d3-0242ac120006",
       "previous": "3e494146-9d68-11ee-91d3-0242ac120006"
      },
      {
       "current": "f6c28418-9d67-11ee-91d3-0242ac120006-1-3f8c",
       "next": "a463d184-9d69-11ee-91d3-0242ac120006",
       "previous": "3e494146-9d68-11ee-91d3-0242ac120006"
      },
      {
       "current": "f6c28418-9d67-11ee-91d3-0242ac120006-1-3f8c",
       "next": "c6d4f652-9d6f-11ee-91d3-0242ac120006-1-9a4a",
       "previous": "3e494146-9d68-11ee-91d3-0242ac120006"
      },
      {
       "current": "f6c28418-9d67-11ee-91d3-0242ac120006-2-3f8c-64f7",
       "next": "a463d184-9d69-11ee-91d3-0242ac120006",
       "previous": "3e494146-9d68-11ee-91d3-0242ac120006"
      },
      {
       "current": "f6c28418-9d67-11ee-91d3-0242ac120006-3-3f8c-64f7-3583",
       "next": "a463d184-9d69-11ee-91d3-0242ac120006-1-39b6",
       "previous": "3e494146-9d68-11ee-91d3-0242ac120006-1-b4ca"
      },
      {
       "current": "f6c28418-9d67-11ee-91d3-0242ac120006-4-3f8c-64f7-3583-9807",
       "next": "a463d184-9d69-11ee-91d3-0242ac120006-2-39b6-1ca3",
       "previous": "3e494146-9d68-11ee-91d3-0242ac120006-2-b4ca-eb0d"
      }
     ],
     "next": "a463d184-9d69-11ee-91d3-0242ac120006-3-39b6-1ca3-93e4",
     "previous": "3e494146-9d68-11ee-91d3-0242ac120006-3-b4ca-eb0d-1cb3"
    }
   },
   "source": [
    "#### DB LV 削除"
   ]
  },
  {
   "cell_type": "code",
   "execution_count": null,
   "metadata": {
    "lc_cell_meme": {
     "current": "a463d184-9d69-11ee-91d3-0242ac120006-3-39b6-1ca3-93e4",
     "history": [
      {
       "current": "a463d184-9d69-11ee-91d3-0242ac120006",
       "next": "5c8900be-9d69-11ee-91d3-0242ac120006",
       "previous": "f6c28418-9d67-11ee-91d3-0242ac120006-1-3f8c"
      },
      {
       "current": "a463d184-9d69-11ee-91d3-0242ac120006",
       "next": "5c8900be-9d69-11ee-91d3-0242ac120006",
       "previous": "2d7528ea-9d71-11ee-91d3-0242ac120006"
      },
      {
       "current": "a463d184-9d69-11ee-91d3-0242ac120006-1-39b6",
       "next": "c6d4f652-9d6f-11ee-91d3-0242ac120006-1-9a4a",
       "previous": "f6c28418-9d67-11ee-91d3-0242ac120006-1-3f8c"
      },
      {
       "current": "a463d184-9d69-11ee-91d3-0242ac120006-2-39b6-1ca3",
       "next": "c6d4f652-9d6f-11ee-91d3-0242ac120006-2-9a4a-c76e",
       "previous": "f6c28418-9d67-11ee-91d3-0242ac120006-2-3f8c-64f7"
      },
      {
       "current": "a463d184-9d69-11ee-91d3-0242ac120006-3-39b6-1ca3-93e4",
       "next": "c6d4f652-9d6f-11ee-91d3-0242ac120006-3-9a4a-c76e-0b04",
       "previous": "f6c28418-9d67-11ee-91d3-0242ac120006-3-3f8c-64f7-3583"
      }
     ],
     "next": "c6d4f652-9d6f-11ee-91d3-0242ac120006-4-9a4a-c76e-0b04-5d68",
     "previous": "f6c28418-9d67-11ee-91d3-0242ac120006-4-3f8c-64f7-3583-9807"
    }
   },
   "outputs": [],
   "source": [
    "db_vg_name = recovery_osd_info['db_vg_name']\n",
    "db_lv_name = recovery_osd_info['db_lv_name']\n",
    "print (\"db_vg_name={} db_lv_name={}\".format(db_vg_name,db_lv_name))"
   ]
  },
  {
   "cell_type": "code",
   "execution_count": null,
   "metadata": {
    "lc_cell_meme": {
     "current": "c6d4f652-9d6f-11ee-91d3-0242ac120006-4-9a4a-c76e-0b04-5d68",
     "history": [
      {
       "current": "c6d4f652-9d6f-11ee-91d3-0242ac120006-1-9a4a",
       "next": "c6d4f7ba-9d6f-11ee-91d3-0242ac120006",
       "previous": "992d4230-9d6b-11ee-91d3-0242ac120006"
      },
      {
       "current": "c6d4f652-9d6f-11ee-91d3-0242ac120006-1-9a4a",
       "next": "c6d4f7ba-9d6f-11ee-91d3-0242ac120006-1-7b23",
       "previous": "f6c28418-9d67-11ee-91d3-0242ac120006-1-3f8c"
      },
      {
       "current": "c6d4f652-9d6f-11ee-91d3-0242ac120006-2-9a4a-c76e",
       "next": "c6d4f7ba-9d6f-11ee-91d3-0242ac120006-1-7b23",
       "previous": "a463d184-9d69-11ee-91d3-0242ac120006"
      },
      {
       "current": "c6d4f652-9d6f-11ee-91d3-0242ac120006-3-9a4a-c76e-0b04",
       "next": "c6d4f7ba-9d6f-11ee-91d3-0242ac120006-2-7b23-f40b",
       "previous": "a463d184-9d69-11ee-91d3-0242ac120006-1-39b6"
      },
      {
       "current": "c6d4f652-9d6f-11ee-91d3-0242ac120006-4-9a4a-c76e-0b04-5d68",
       "next": "c6d4f7ba-9d6f-11ee-91d3-0242ac120006-3-7b23-f40b-2e53",
       "previous": "a463d184-9d69-11ee-91d3-0242ac120006-2-39b6-1ca3"
      }
     ],
     "next": "c6d4f7ba-9d6f-11ee-91d3-0242ac120006-4-7b23-f40b-2e53-9585",
     "previous": "a463d184-9d69-11ee-91d3-0242ac120006-3-39b6-1ca3-93e4"
    }
   },
   "outputs": [],
   "source": [
    "!ansible -b -m shell -a \"wipefs -an /dev/$db_vg_name/$db_lv_name\" $prov_ip"
   ]
  },
  {
   "cell_type": "code",
   "execution_count": null,
   "metadata": {
    "lc_cell_meme": {
     "current": "c6d4f7ba-9d6f-11ee-91d3-0242ac120006-4-7b23-f40b-2e53-9585",
     "history": [
      {
       "current": "c6d4f7ba-9d6f-11ee-91d3-0242ac120006-1-7b23",
       "next": "5c8900be-9d69-11ee-91d3-0242ac120006-1-3681",
       "previous": "c6d4f652-9d6f-11ee-91d3-0242ac120006"
      },
      {
       "current": "c6d4f7ba-9d6f-11ee-91d3-0242ac120006-2-7b23-f40b",
       "next": "2d7528ea-9d71-11ee-91d3-0242ac120006",
       "previous": "c6d4f652-9d6f-11ee-91d3-0242ac120006-1-9a4a"
      },
      {
       "current": "c6d4f7ba-9d6f-11ee-91d3-0242ac120006-3-7b23-f40b-2e53",
       "next": "2d7528ea-9d71-11ee-91d3-0242ac120006-1-34fc",
       "previous": "c6d4f652-9d6f-11ee-91d3-0242ac120006-2-9a4a-c76e"
      },
      {
       "current": "c6d4f7ba-9d6f-11ee-91d3-0242ac120006-4-7b23-f40b-2e53-9585",
       "next": "2d7528ea-9d71-11ee-91d3-0242ac120006-2-34fc-758e",
       "previous": "c6d4f652-9d6f-11ee-91d3-0242ac120006-3-9a4a-c76e-0b04"
      }
     ],
     "next": "2d7528ea-9d71-11ee-91d3-0242ac120006-3-34fc-758e-123c",
     "previous": "c6d4f652-9d6f-11ee-91d3-0242ac120006-4-9a4a-c76e-0b04-5d68"
    }
   },
   "outputs": [],
   "source": [
    "!ansible -b -m shell -a \"wipefs -a /dev/$db_vg_name/$db_lv_name\" $prov_ip"
   ]
  },
  {
   "cell_type": "code",
   "execution_count": null,
   "metadata": {
    "lc_cell_meme": {
     "current": "2d7528ea-9d71-11ee-91d3-0242ac120006-3-34fc-758e-123c",
     "history": [
      {
       "current": "2d7528ea-9d71-11ee-91d3-0242ac120006",
       "next": "a463d184-9d69-11ee-91d3-0242ac120006",
       "previous": "c6d4f7ba-9d6f-11ee-91d3-0242ac120006-1-7b23"
      },
      {
       "current": "2d7528ea-9d71-11ee-91d3-0242ac120006-1-34fc",
       "next": "5c8900be-9d69-11ee-91d3-0242ac120006",
       "previous": "c6d4f7ba-9d6f-11ee-91d3-0242ac120006-1-7b23"
      },
      {
       "current": "2d7528ea-9d71-11ee-91d3-0242ac120006-2-34fc-758e",
       "next": "5c8900be-9d69-11ee-91d3-0242ac120006-1-6462",
       "previous": "c6d4f7ba-9d6f-11ee-91d3-0242ac120006-2-7b23-f40b"
      },
      {
       "current": "2d7528ea-9d71-11ee-91d3-0242ac120006-3-34fc-758e-123c",
       "next": "5c8900be-9d69-11ee-91d3-0242ac120006-2-6462-e4c2",
       "previous": "c6d4f7ba-9d6f-11ee-91d3-0242ac120006-3-7b23-f40b-2e53"
      }
     ],
     "next": "5c8900be-9d69-11ee-91d3-0242ac120006-3-6462-e4c2-2f2a",
     "previous": "c6d4f7ba-9d6f-11ee-91d3-0242ac120006-4-7b23-f40b-2e53-9585"
    }
   },
   "outputs": [],
   "source": [
    "!ansible -b -m shell -a \"wipefs -an /dev/$db_vg_name/$db_lv_name\" $prov_ip"
   ]
  },
  {
   "cell_type": "code",
   "execution_count": null,
   "metadata": {
    "lc_cell_meme": {
     "current": "5c8900be-9d69-11ee-91d3-0242ac120006-3-6462-e4c2-2f2a",
     "history": [
      {
       "current": "5c8900be-9d69-11ee-91d3-0242ac120006",
       "next": "5c890258-9d69-11ee-91d3-0242ac120006",
       "previous": "f6c28418-9d67-11ee-91d3-0242ac120006-1-3f8c"
      },
      {
       "current": "5c8900be-9d69-11ee-91d3-0242ac120006",
       "next": "5c890258-9d69-11ee-91d3-0242ac120006",
       "previous": "a463d184-9d69-11ee-91d3-0242ac120006"
      },
      {
       "current": "5c8900be-9d69-11ee-91d3-0242ac120006-1-6462",
       "next": "5c890258-9d69-11ee-91d3-0242ac120006",
       "previous": "2d7528ea-9d71-11ee-91d3-0242ac120006"
      },
      {
       "current": "5c8900be-9d69-11ee-91d3-0242ac120006-2-6462-e4c2",
       "next": "5c890258-9d69-11ee-91d3-0242ac120006-1-37f5",
       "previous": "2d7528ea-9d71-11ee-91d3-0242ac120006-1-34fc"
      },
      {
       "current": "5c8900be-9d69-11ee-91d3-0242ac120006-3-6462-e4c2-2f2a",
       "next": "5c890258-9d69-11ee-91d3-0242ac120006-2-37f5-c7eb",
       "previous": "2d7528ea-9d71-11ee-91d3-0242ac120006-2-34fc-758e"
      }
     ],
     "next": "5c890258-9d69-11ee-91d3-0242ac120006-3-37f5-c7eb-90b4",
     "previous": "2d7528ea-9d71-11ee-91d3-0242ac120006-3-34fc-758e-123c"
    }
   },
   "outputs": [],
   "source": [
    "!ansible -i $hosts -b -m shell -a \"lvchange --activate n $db_vg_name/$db_lv_name\" $prov_ip"
   ]
  },
  {
   "cell_type": "code",
   "execution_count": null,
   "metadata": {
    "lc_cell_meme": {
     "current": "5c890258-9d69-11ee-91d3-0242ac120006-3-37f5-c7eb-90b4",
     "history": [
      {
       "current": "5c890258-9d69-11ee-91d3-0242ac120006",
       "next": "5c8902b2-9d69-11ee-91d3-0242ac120006",
       "previous": "5c8900be-9d69-11ee-91d3-0242ac120006"
      },
      {
       "current": "5c890258-9d69-11ee-91d3-0242ac120006",
       "next": "5c8902b2-9d69-11ee-91d3-0242ac120006-1-f185",
       "previous": "5c8900be-9d69-11ee-91d3-0242ac120006"
      },
      {
       "current": "5c890258-9d69-11ee-91d3-0242ac120006-1-37f5",
       "next": "33753692-9d6a-11ee-91d3-0242ac120006",
       "previous": "5c8900be-9d69-11ee-91d3-0242ac120006"
      },
      {
       "current": "5c890258-9d69-11ee-91d3-0242ac120006-2-37f5-c7eb",
       "next": "33753692-9d6a-11ee-91d3-0242ac120006-1-a331",
       "previous": "5c8900be-9d69-11ee-91d3-0242ac120006-1-6462"
      },
      {
       "current": "5c890258-9d69-11ee-91d3-0242ac120006-3-37f5-c7eb-90b4",
       "next": "33753692-9d6a-11ee-91d3-0242ac120006-2-a331-fd34",
       "previous": "5c8900be-9d69-11ee-91d3-0242ac120006-2-6462-e4c2"
      }
     ],
     "next": "33753692-9d6a-11ee-91d3-0242ac120006-3-a331-fd34-0f18",
     "previous": "5c8900be-9d69-11ee-91d3-0242ac120006-3-6462-e4c2-2f2a"
    }
   },
   "outputs": [],
   "source": [
    "!ansible -b -m shell -a \"lvremove /dev/$db_vg_name/$db_lv_name\" $prov_ip"
   ]
  },
  {
   "cell_type": "code",
   "execution_count": null,
   "metadata": {
    "lc_cell_meme": {
     "current": "33753692-9d6a-11ee-91d3-0242ac120006-3-a331-fd34-0f18",
     "history": [
      {
       "current": "33753692-9d6a-11ee-91d3-0242ac120006",
       "next": "3375371e-9d6a-11ee-91d3-0242ac120006",
       "previous": "337534e4-9d6a-11ee-91d3-0242ac120006"
      },
      {
       "current": "33753692-9d6a-11ee-91d3-0242ac120006-1-a331",
       "next": "5c8902b2-9d69-11ee-91d3-0242ac120006-1-f185",
       "previous": "5c890258-9d69-11ee-91d3-0242ac120006"
      },
      {
       "current": "33753692-9d6a-11ee-91d3-0242ac120006-2-a331-fd34",
       "next": "5c8902b2-9d69-11ee-91d3-0242ac120006-2-f185-33bd",
       "previous": "5c890258-9d69-11ee-91d3-0242ac120006-1-37f5"
      },
      {
       "current": "33753692-9d6a-11ee-91d3-0242ac120006-3-a331-fd34-0f18",
       "next": "5c8902b2-9d69-11ee-91d3-0242ac120006-3-f185-33bd-7c46",
       "previous": "5c890258-9d69-11ee-91d3-0242ac120006-2-37f5-c7eb"
      }
     ],
     "next": "5c8902b2-9d69-11ee-91d3-0242ac120006-4-f185-33bd-7c46-aeda",
     "previous": "5c890258-9d69-11ee-91d3-0242ac120006-3-37f5-c7eb-90b4"
    }
   },
   "outputs": [],
   "source": [
    "!ansible -b -m shell -a \"lvdisplay $db_vg_name\" $prov_ip"
   ]
  },
  {
   "cell_type": "markdown",
   "metadata": {
    "lc_cell_meme": {
     "current": "5c8902b2-9d69-11ee-91d3-0242ac120006-4-f185-33bd-7c46-aeda",
     "history": [
      {
       "current": "5c8902b2-9d69-11ee-91d3-0242ac120006-1-f185",
       "next": "5c8902f8-9d69-11ee-91d3-0242ac120006",
       "previous": "5c890258-9d69-11ee-91d3-0242ac120006"
      },
      {
       "current": "5c8902b2-9d69-11ee-91d3-0242ac120006-1-f185",
       "next": "337534e4-9d6a-11ee-91d3-0242ac120006",
       "previous": "5c890258-9d69-11ee-91d3-0242ac120006"
      },
      {
       "current": "5c8902b2-9d69-11ee-91d3-0242ac120006-2-f185-33bd",
       "next": "337534e4-9d6a-11ee-91d3-0242ac120006",
       "previous": "33753692-9d6a-11ee-91d3-0242ac120006"
      },
      {
       "current": "5c8902b2-9d69-11ee-91d3-0242ac120006-3-f185-33bd-7c46",
       "next": "337534e4-9d6a-11ee-91d3-0242ac120006-1-a405",
       "previous": "33753692-9d6a-11ee-91d3-0242ac120006-1-a331"
      },
      {
       "current": "5c8902b2-9d69-11ee-91d3-0242ac120006-4-f185-33bd-7c46-aeda",
       "next": "337534e4-9d6a-11ee-91d3-0242ac120006-2-a405-b5ae",
       "previous": "33753692-9d6a-11ee-91d3-0242ac120006-2-a331-fd34"
      }
     ],
     "next": "337534e4-9d6a-11ee-91d3-0242ac120006-3-a405-b5ae-6527",
     "previous": "33753692-9d6a-11ee-91d3-0242ac120006-3-a331-fd34-0f18"
    }
   },
   "source": [
    "#### DB LV 生成"
   ]
  },
  {
   "cell_type": "code",
   "execution_count": null,
   "metadata": {
    "lc_cell_meme": {
     "current": "337534e4-9d6a-11ee-91d3-0242ac120006-3-a405-b5ae-6527",
     "history": [
      {
       "current": "337534e4-9d6a-11ee-91d3-0242ac120006",
       "next": "33753692-9d6a-11ee-91d3-0242ac120006",
       "previous": "5c8902b2-9d69-11ee-91d3-0242ac120006-1-f185"
      },
      {
       "current": "337534e4-9d6a-11ee-91d3-0242ac120006-1-a405",
       "next": "3375371e-9d6a-11ee-91d3-0242ac120006",
       "previous": "5c8902b2-9d69-11ee-91d3-0242ac120006-1-f185"
      },
      {
       "current": "337534e4-9d6a-11ee-91d3-0242ac120006-2-a405-b5ae",
       "next": "3375371e-9d6a-11ee-91d3-0242ac120006-1-6cd9",
       "previous": "5c8902b2-9d69-11ee-91d3-0242ac120006-2-f185-33bd"
      },
      {
       "current": "337534e4-9d6a-11ee-91d3-0242ac120006-3-a405-b5ae-6527",
       "next": "3375371e-9d6a-11ee-91d3-0242ac120006-2-6cd9-974e",
       "previous": "5c8902b2-9d69-11ee-91d3-0242ac120006-3-f185-33bd-7c46"
      }
     ],
     "next": "3375371e-9d6a-11ee-91d3-0242ac120006-3-6cd9-974e-5ea4",
     "previous": "5c8902b2-9d69-11ee-91d3-0242ac120006-4-f185-33bd-7c46-aeda"
    }
   },
   "outputs": [],
   "source": [
    "import math\n",
    "lv_size = 1.0 / db_lv_num * 100.0\n",
    "lv_size = math.floor(lv_size)\n",
    "print (lv_size)"
   ]
  },
  {
   "cell_type": "code",
   "execution_count": null,
   "metadata": {
    "lc_cell_meme": {
     "current": "3375371e-9d6a-11ee-91d3-0242ac120006-3-6cd9-974e-5ea4",
     "history": [
      {
       "current": "3375371e-9d6a-11ee-91d3-0242ac120006",
       "next": "3375378c-9d6a-11ee-91d3-0242ac120006",
       "previous": "33753692-9d6a-11ee-91d3-0242ac120006"
      },
      {
       "current": "3375371e-9d6a-11ee-91d3-0242ac120006-1-6cd9",
       "next": "3375378c-9d6a-11ee-91d3-0242ac120006",
       "previous": "337534e4-9d6a-11ee-91d3-0242ac120006"
      },
      {
       "current": "3375371e-9d6a-11ee-91d3-0242ac120006-2-6cd9-974e",
       "next": "3375378c-9d6a-11ee-91d3-0242ac120006-1-d099",
       "previous": "337534e4-9d6a-11ee-91d3-0242ac120006-1-a405"
      },
      {
       "current": "3375371e-9d6a-11ee-91d3-0242ac120006-3-6cd9-974e-5ea4",
       "next": "3375378c-9d6a-11ee-91d3-0242ac120006-2-d099-f273",
       "previous": "337534e4-9d6a-11ee-91d3-0242ac120006-2-a405-b5ae"
      }
     ],
     "next": "3375378c-9d6a-11ee-91d3-0242ac120006-3-d099-f273-f1c2",
     "previous": "337534e4-9d6a-11ee-91d3-0242ac120006-3-a405-b5ae-6527"
    }
   },
   "outputs": [],
   "source": [
    "#elems = db_lv_name.split('_')\n",
    "#replace_cnt = None\n",
    "#if len(elems) < 3:\n",
    "#    replace_cnt = 1\n",
    "#elif len(elems) == 3:\n",
    "#    replace_cnt = int(elems[2]) + 1\n",
    "#\n",
    "#next_db_lv_name = \"{}_{}_{}\".format(elems[0],elems[1],replace_cnt)\n",
    "next_db_lv_name = db_lv_name\n",
    "print(next_db_lv_name)"
   ]
  },
  {
   "cell_type": "code",
   "execution_count": null,
   "metadata": {
    "lc_cell_meme": {
     "current": "3375378c-9d6a-11ee-91d3-0242ac120006-3-d099-f273-f1c2",
     "history": [
      {
       "current": "3375378c-9d6a-11ee-91d3-0242ac120006-1-d099",
       "next": "5c8902f8-9d69-11ee-91d3-0242ac120006",
       "previous": "3375371e-9d6a-11ee-91d3-0242ac120006"
      },
      {
       "current": "3375378c-9d6a-11ee-91d3-0242ac120006-2-d099-f273",
       "next": "5c8902f8-9d69-11ee-91d3-0242ac120006-1-14b3",
       "previous": "3375371e-9d6a-11ee-91d3-0242ac120006-1-6cd9"
      },
      {
       "current": "3375378c-9d6a-11ee-91d3-0242ac120006-3-d099-f273-f1c2",
       "next": "5c8902f8-9d69-11ee-91d3-0242ac120006-2-14b3-6ab8",
       "previous": "3375371e-9d6a-11ee-91d3-0242ac120006-2-6cd9-974e"
      }
     ],
     "next": "5c8902f8-9d69-11ee-91d3-0242ac120006-3-14b3-6ab8-1027",
     "previous": "3375371e-9d6a-11ee-91d3-0242ac120006-3-6cd9-974e-5ea4"
    }
   },
   "outputs": [],
   "source": [
    "lv_size_perc = \"{}%VG\".format(lv_size)\n",
    "!ansible -i $hosts shell -a \"lvcreate -l $lv_size_perc -n $next_db_lv_name $db_vg_name\" $prov_ip"
   ]
  },
  {
   "cell_type": "code",
   "execution_count": null,
   "metadata": {
    "lc_cell_meme": {
     "current": "5c8902f8-9d69-11ee-91d3-0242ac120006-3-14b3-6ab8-1027",
     "history": [
      {
       "current": "5c8902f8-9d69-11ee-91d3-0242ac120006",
       "next": "61a21452-8359-11ee-91d3-0242ac120006-2-3103-5b33",
       "previous": "5c8902b2-9d69-11ee-91d3-0242ac120006"
      },
      {
       "current": "5c8902f8-9d69-11ee-91d3-0242ac120006",
       "next": "61a21452-8359-11ee-91d3-0242ac120006-2-3103-5b33",
       "previous": "3375378c-9d6a-11ee-91d3-0242ac120006"
      },
      {
       "current": "5c8902f8-9d69-11ee-91d3-0242ac120006",
       "next": "992d4078-9d6b-11ee-91d3-0242ac120006",
       "previous": "3375378c-9d6a-11ee-91d3-0242ac120006"
      },
      {
       "current": "5c8902f8-9d69-11ee-91d3-0242ac120006-1-14b3",
       "next": "992d4078-9d6b-11ee-91d3-0242ac120006-1-bedd",
       "previous": "3375378c-9d6a-11ee-91d3-0242ac120006"
      },
      {
       "current": "5c8902f8-9d69-11ee-91d3-0242ac120006-2-14b3-6ab8",
       "next": "992d4078-9d6b-11ee-91d3-0242ac120006-2-bedd-7655",
       "previous": "3375378c-9d6a-11ee-91d3-0242ac120006-1-d099"
      },
      {
       "current": "5c8902f8-9d69-11ee-91d3-0242ac120006-3-14b3-6ab8-1027",
       "next": "992d4078-9d6b-11ee-91d3-0242ac120006-3-bedd-7655-8ec3",
       "previous": "3375378c-9d6a-11ee-91d3-0242ac120006-2-d099-f273"
      }
     ],
     "next": "992d4078-9d6b-11ee-91d3-0242ac120006-4-bedd-7655-8ec3-a89d",
     "previous": "3375378c-9d6a-11ee-91d3-0242ac120006-3-d099-f273-f1c2"
    }
   },
   "outputs": [],
   "source": [
    "!ansible -i $hosts shell -a \"lvdisplay $db_vg_name\" $prov_ip"
   ]
  },
  {
   "cell_type": "markdown",
   "metadata": {
    "lc_cell_meme": {
     "current": "992d4078-9d6b-11ee-91d3-0242ac120006-4-bedd-7655-8ec3-a89d",
     "history": [
      {
       "current": "992d4078-9d6b-11ee-91d3-0242ac120006-1-bedd",
       "next": "992d4230-9d6b-11ee-91d3-0242ac120006",
       "previous": "5c8902f8-9d69-11ee-91d3-0242ac120006"
      },
      {
       "current": "992d4078-9d6b-11ee-91d3-0242ac120006-2-bedd-7655",
       "next": "28381ae0-9d6c-11ee-91d3-0242ac120006",
       "previous": "5c8902f8-9d69-11ee-91d3-0242ac120006"
      },
      {
       "current": "992d4078-9d6b-11ee-91d3-0242ac120006-3-bedd-7655-8ec3",
       "next": "28381ae0-9d6c-11ee-91d3-0242ac120006-1-47cb",
       "previous": "5c8902f8-9d69-11ee-91d3-0242ac120006-1-14b3"
      },
      {
       "current": "992d4078-9d6b-11ee-91d3-0242ac120006-4-bedd-7655-8ec3-a89d",
       "next": "28381ae0-9d6c-11ee-91d3-0242ac120006-2-47cb-eb92",
       "previous": "5c8902f8-9d69-11ee-91d3-0242ac120006-2-14b3-6ab8"
      }
     ],
     "next": "28381ae0-9d6c-11ee-91d3-0242ac120006-3-47cb-eb92-8e7f",
     "previous": "5c8902f8-9d69-11ee-91d3-0242ac120006-3-14b3-6ab8-1027"
    }
   },
   "source": [
    "### DATA LV 再構築"
   ]
  },
  {
   "cell_type": "markdown",
   "metadata": {
    "lc_cell_meme": {
     "current": "28381ae0-9d6c-11ee-91d3-0242ac120006-3-47cb-eb92-8e7f",
     "history": [
      {
       "current": "28381ae0-9d6c-11ee-91d3-0242ac120006-1-47cb",
       "next": "992d4230-9d6b-11ee-91d3-0242ac120006",
       "previous": "992d4078-9d6b-11ee-91d3-0242ac120006-1-bedd"
      },
      {
       "current": "28381ae0-9d6c-11ee-91d3-0242ac120006-2-47cb-eb92",
       "next": "992d4230-9d6b-11ee-91d3-0242ac120006-1-f081",
       "previous": "992d4078-9d6b-11ee-91d3-0242ac120006-2-bedd-7655"
      },
      {
       "current": "28381ae0-9d6c-11ee-91d3-0242ac120006-3-47cb-eb92-8e7f",
       "next": "992d4230-9d6b-11ee-91d3-0242ac120006-2-f081-b7ca",
       "previous": "992d4078-9d6b-11ee-91d3-0242ac120006-3-bedd-7655-8ec3"
      }
     ],
     "next": "992d4230-9d6b-11ee-91d3-0242ac120006-3-f081-b7ca-152f",
     "previous": "992d4078-9d6b-11ee-91d3-0242ac120006-4-bedd-7655-8ec3-a89d"
    }
   },
   "source": [
    "#### DATA LV 削除"
   ]
  },
  {
   "cell_type": "code",
   "execution_count": null,
   "metadata": {
    "lc_cell_meme": {
     "current": "992d4230-9d6b-11ee-91d3-0242ac120006-3-f081-b7ca-152f",
     "history": [
      {
       "current": "992d4230-9d6b-11ee-91d3-0242ac120006",
       "next": "992d42d0-9d6b-11ee-91d3-0242ac120006",
       "previous": "992d4078-9d6b-11ee-91d3-0242ac120006"
      },
      {
       "current": "992d4230-9d6b-11ee-91d3-0242ac120006",
       "next": "992d42d0-9d6b-11ee-91d3-0242ac120006",
       "previous": "992d4078-9d6b-11ee-91d3-0242ac120006-1-bedd"
      },
      {
       "current": "992d4230-9d6b-11ee-91d3-0242ac120006",
       "next": "992d42d0-9d6b-11ee-91d3-0242ac120006",
       "previous": "28381ae0-9d6c-11ee-91d3-0242ac120006"
      },
      {
       "current": "992d4230-9d6b-11ee-91d3-0242ac120006",
       "next": "5c8900be-9d69-11ee-91d3-0242ac120006-1-3681",
       "previous": "28381ae0-9d6c-11ee-91d3-0242ac120006"
      },
      {
       "current": "992d4230-9d6b-11ee-91d3-0242ac120006-1-f081",
       "next": "c6d4f652-9d6f-11ee-91d3-0242ac120006",
       "previous": "28381ae0-9d6c-11ee-91d3-0242ac120006"
      },
      {
       "current": "992d4230-9d6b-11ee-91d3-0242ac120006-2-f081-b7ca",
       "next": "c6d4f652-9d6f-11ee-91d3-0242ac120006-1-3fab",
       "previous": "28381ae0-9d6c-11ee-91d3-0242ac120006-1-47cb"
      },
      {
       "current": "992d4230-9d6b-11ee-91d3-0242ac120006-3-f081-b7ca-152f",
       "next": "c6d4f652-9d6f-11ee-91d3-0242ac120006-2-3fab-cc0b",
       "previous": "28381ae0-9d6c-11ee-91d3-0242ac120006-2-47cb-eb92"
      }
     ],
     "next": "c6d4f652-9d6f-11ee-91d3-0242ac120006-3-3fab-cc0b-51f3",
     "previous": "28381ae0-9d6c-11ee-91d3-0242ac120006-3-47cb-eb92-8e7f"
    }
   },
   "outputs": [],
   "source": [
    "bdev_vg_name = recovery_osd_info['bdev_vg_name']\n",
    "bdev_lv_name = recovery_osd_info['bdev_lv_name']\n",
    "print (\"bdev_vg_name={} bdev_lv_name={}\".format(bdev_vg_name,bdev_lv_name))"
   ]
  },
  {
   "cell_type": "code",
   "execution_count": null,
   "metadata": {
    "lc_cell_meme": {
     "current": "c6d4f652-9d6f-11ee-91d3-0242ac120006-3-3fab-cc0b-51f3",
     "history": [
      {
       "current": "c6d4f652-9d6f-11ee-91d3-0242ac120006-1-3fab",
       "next": "c6d4f7ba-9d6f-11ee-91d3-0242ac120006",
       "previous": "992d4230-9d6b-11ee-91d3-0242ac120006"
      },
      {
       "current": "c6d4f652-9d6f-11ee-91d3-0242ac120006-2-3fab-cc0b",
       "next": "c6d4f7ba-9d6f-11ee-91d3-0242ac120006-1-7a77",
       "previous": "992d4230-9d6b-11ee-91d3-0242ac120006-1-f081"
      },
      {
       "current": "c6d4f652-9d6f-11ee-91d3-0242ac120006-3-3fab-cc0b-51f3",
       "next": "c6d4f7ba-9d6f-11ee-91d3-0242ac120006-2-7a77-e17e",
       "previous": "992d4230-9d6b-11ee-91d3-0242ac120006-2-f081-b7ca"
      }
     ],
     "next": "c6d4f7ba-9d6f-11ee-91d3-0242ac120006-3-7a77-e17e-c21b",
     "previous": "992d4230-9d6b-11ee-91d3-0242ac120006-3-f081-b7ca-152f"
    }
   },
   "outputs": [],
   "source": [
    "!ansible -b -m shell -a \"wipefs -an /dev/$bdev_vg_name/$bdev_lv_name\" $prov_ip"
   ]
  },
  {
   "cell_type": "code",
   "execution_count": null,
   "metadata": {
    "lc_cell_meme": {
     "current": "c6d4f7ba-9d6f-11ee-91d3-0242ac120006-3-7a77-e17e-c21b",
     "history": [
      {
       "current": "c6d4f7ba-9d6f-11ee-91d3-0242ac120006",
       "next": "5c8900be-9d69-11ee-91d3-0242ac120006-1-3681",
       "previous": "c6d4f652-9d6f-11ee-91d3-0242ac120006"
      },
      {
       "current": "c6d4f7ba-9d6f-11ee-91d3-0242ac120006-1-7a77",
       "next": "2d752aa2-9d71-11ee-91d3-0242ac120006",
       "previous": "c6d4f652-9d6f-11ee-91d3-0242ac120006"
      },
      {
       "current": "c6d4f7ba-9d6f-11ee-91d3-0242ac120006-2-7a77-e17e",
       "next": "2d752aa2-9d71-11ee-91d3-0242ac120006-1-c1b5",
       "previous": "c6d4f652-9d6f-11ee-91d3-0242ac120006-1-3fab"
      },
      {
       "current": "c6d4f7ba-9d6f-11ee-91d3-0242ac120006-3-7a77-e17e-c21b",
       "next": "2d752aa2-9d71-11ee-91d3-0242ac120006-2-c1b5-0aac",
       "previous": "c6d4f652-9d6f-11ee-91d3-0242ac120006-2-3fab-cc0b"
      }
     ],
     "next": "2d752aa2-9d71-11ee-91d3-0242ac120006-3-c1b5-0aac-e752",
     "previous": "c6d4f652-9d6f-11ee-91d3-0242ac120006-3-3fab-cc0b-51f3"
    }
   },
   "outputs": [],
   "source": [
    "!ansible -b -m shell -a \"wipefs -a /dev/$bdev_vg_name/$bdev_lv_name\" $prov_ip"
   ]
  },
  {
   "cell_type": "code",
   "execution_count": null,
   "metadata": {
    "lc_cell_meme": {
     "current": "2d752aa2-9d71-11ee-91d3-0242ac120006-3-c1b5-0aac-e752",
     "history": [
      {
       "current": "2d752aa2-9d71-11ee-91d3-0242ac120006-1-c1b5",
       "next": "5c8900be-9d69-11ee-91d3-0242ac120006-1-3681",
       "previous": "c6d4f7ba-9d6f-11ee-91d3-0242ac120006"
      },
      {
       "current": "2d752aa2-9d71-11ee-91d3-0242ac120006-2-c1b5-0aac",
       "next": "5c8900be-9d69-11ee-91d3-0242ac120006-2-3681-3ce0",
       "previous": "c6d4f7ba-9d6f-11ee-91d3-0242ac120006-1-7a77"
      },
      {
       "current": "2d752aa2-9d71-11ee-91d3-0242ac120006-3-c1b5-0aac-e752",
       "next": "5c8900be-9d69-11ee-91d3-0242ac120006-3-3681-3ce0-e42f",
       "previous": "c6d4f7ba-9d6f-11ee-91d3-0242ac120006-2-7a77-e17e"
      }
     ],
     "next": "5c8900be-9d69-11ee-91d3-0242ac120006-4-3681-3ce0-e42f-7380",
     "previous": "c6d4f7ba-9d6f-11ee-91d3-0242ac120006-3-7a77-e17e-c21b"
    }
   },
   "outputs": [],
   "source": [
    "!ansible -b -m shell -a \"wipefs -an /dev/$bdev_vg_name/$bdev_lv_name\" $prov_ip"
   ]
  },
  {
   "cell_type": "code",
   "execution_count": null,
   "metadata": {
    "lc_cell_meme": {
     "current": "5c8900be-9d69-11ee-91d3-0242ac120006-4-3681-3ce0-e42f-7380",
     "history": [
      {
       "current": "5c8900be-9d69-11ee-91d3-0242ac120006",
       "next": "5c890258-9d69-11ee-91d3-0242ac120006",
       "previous": "f6c28418-9d67-11ee-91d3-0242ac120006-1-3f8c"
      },
      {
       "current": "5c8900be-9d69-11ee-91d3-0242ac120006-1-3681",
       "next": "5c890258-9d69-11ee-91d3-0242ac120006",
       "previous": "a463d184-9d69-11ee-91d3-0242ac120006"
      },
      {
       "current": "5c8900be-9d69-11ee-91d3-0242ac120006-1-3681",
       "next": "5c890258-9d69-11ee-91d3-0242ac120006-1-52fa",
       "previous": "992d4230-9d6b-11ee-91d3-0242ac120006"
      },
      {
       "current": "5c8900be-9d69-11ee-91d3-0242ac120006-1-3681",
       "next": "5c890258-9d69-11ee-91d3-0242ac120006-1-52fa",
       "previous": "c6d4f7ba-9d6f-11ee-91d3-0242ac120006"
      },
      {
       "current": "5c8900be-9d69-11ee-91d3-0242ac120006-2-3681-3ce0",
       "next": "5c890258-9d69-11ee-91d3-0242ac120006-1-52fa",
       "previous": "2d752aa2-9d71-11ee-91d3-0242ac120006"
      },
      {
       "current": "5c8900be-9d69-11ee-91d3-0242ac120006-3-3681-3ce0-e42f",
       "next": "5c890258-9d69-11ee-91d3-0242ac120006-2-52fa-7d9e",
       "previous": "2d752aa2-9d71-11ee-91d3-0242ac120006-1-c1b5"
      },
      {
       "current": "5c8900be-9d69-11ee-91d3-0242ac120006-4-3681-3ce0-e42f-7380",
       "next": "5c890258-9d69-11ee-91d3-0242ac120006-3-52fa-7d9e-4975",
       "previous": "2d752aa2-9d71-11ee-91d3-0242ac120006-2-c1b5-0aac"
      }
     ],
     "next": "5c890258-9d69-11ee-91d3-0242ac120006-4-52fa-7d9e-4975-2877",
     "previous": "2d752aa2-9d71-11ee-91d3-0242ac120006-3-c1b5-0aac-e752"
    }
   },
   "outputs": [],
   "source": [
    "!ansible -b -m shell -a \"lvchange --activate n $bdev_vg_name/$bdev_lv_name\" $prov_ip"
   ]
  },
  {
   "cell_type": "code",
   "execution_count": null,
   "metadata": {
    "lc_cell_meme": {
     "current": "5c890258-9d69-11ee-91d3-0242ac120006-4-52fa-7d9e-4975-2877",
     "history": [
      {
       "current": "5c890258-9d69-11ee-91d3-0242ac120006",
       "next": "5c8902b2-9d69-11ee-91d3-0242ac120006",
       "previous": "5c8900be-9d69-11ee-91d3-0242ac120006"
      },
      {
       "current": "5c890258-9d69-11ee-91d3-0242ac120006",
       "next": "5c8902b2-9d69-11ee-91d3-0242ac120006-1-f185",
       "previous": "5c8900be-9d69-11ee-91d3-0242ac120006"
      },
      {
       "current": "5c890258-9d69-11ee-91d3-0242ac120006-1-52fa",
       "next": "33753692-9d6a-11ee-91d3-0242ac120006",
       "previous": "5c8900be-9d69-11ee-91d3-0242ac120006"
      },
      {
       "current": "5c890258-9d69-11ee-91d3-0242ac120006-2-52fa-7d9e",
       "next": "33753692-9d6a-11ee-91d3-0242ac120006-1-45fb",
       "previous": "5c8900be-9d69-11ee-91d3-0242ac120006-1-3681"
      },
      {
       "current": "5c890258-9d69-11ee-91d3-0242ac120006-3-52fa-7d9e-4975",
       "next": "33753692-9d6a-11ee-91d3-0242ac120006-2-45fb-6576",
       "previous": "5c8900be-9d69-11ee-91d3-0242ac120006-2-3681-3ce0"
      },
      {
       "current": "5c890258-9d69-11ee-91d3-0242ac120006-4-52fa-7d9e-4975-2877",
       "next": "33753692-9d6a-11ee-91d3-0242ac120006-3-45fb-6576-84a3",
       "previous": "5c8900be-9d69-11ee-91d3-0242ac120006-3-3681-3ce0-e42f"
      }
     ],
     "next": "33753692-9d6a-11ee-91d3-0242ac120006-4-45fb-6576-84a3-e4fd",
     "previous": "5c8900be-9d69-11ee-91d3-0242ac120006-4-3681-3ce0-e42f-7380"
    }
   },
   "outputs": [],
   "source": [
    "!ansible -b -m shell -a \"lvremove /dev/$bdev_vg_name/$bdev_lv_name\" $prov_ip"
   ]
  },
  {
   "cell_type": "code",
   "execution_count": null,
   "metadata": {
    "lc_cell_meme": {
     "current": "33753692-9d6a-11ee-91d3-0242ac120006-4-45fb-6576-84a3-e4fd",
     "history": [
      {
       "current": "33753692-9d6a-11ee-91d3-0242ac120006",
       "next": "3375371e-9d6a-11ee-91d3-0242ac120006",
       "previous": "337534e4-9d6a-11ee-91d3-0242ac120006"
      },
      {
       "current": "33753692-9d6a-11ee-91d3-0242ac120006-1-45fb",
       "next": "5c8902b2-9d69-11ee-91d3-0242ac120006-1-f185",
       "previous": "5c890258-9d69-11ee-91d3-0242ac120006"
      },
      {
       "current": "33753692-9d6a-11ee-91d3-0242ac120006-2-45fb-6576",
       "next": "5c8902b2-9d69-11ee-91d3-0242ac120006-2-f185-6410",
       "previous": "5c890258-9d69-11ee-91d3-0242ac120006-1-52fa"
      },
      {
       "current": "33753692-9d6a-11ee-91d3-0242ac120006-3-45fb-6576-84a3",
       "next": "5c8902b2-9d69-11ee-91d3-0242ac120006-3-f185-6410-b2d3",
       "previous": "5c890258-9d69-11ee-91d3-0242ac120006-2-52fa-7d9e"
      },
      {
       "current": "33753692-9d6a-11ee-91d3-0242ac120006-4-45fb-6576-84a3-e4fd",
       "next": "5c8902b2-9d69-11ee-91d3-0242ac120006-4-f185-6410-b2d3-59eb",
       "previous": "5c890258-9d69-11ee-91d3-0242ac120006-3-52fa-7d9e-4975"
      }
     ],
     "next": "5c8902b2-9d69-11ee-91d3-0242ac120006-5-f185-6410-b2d3-59eb-dca8",
     "previous": "5c890258-9d69-11ee-91d3-0242ac120006-4-52fa-7d9e-4975-2877"
    }
   },
   "outputs": [],
   "source": [
    "!ansible -b -m shell -a \"lvdisplay $bdev_vg_name\" $prov_ip"
   ]
  },
  {
   "cell_type": "markdown",
   "metadata": {
    "lc_cell_meme": {
     "current": "5c8902b2-9d69-11ee-91d3-0242ac120006-5-f185-6410-b2d3-59eb-dca8",
     "history": [
      {
       "current": "5c8902b2-9d69-11ee-91d3-0242ac120006-1-f185",
       "next": "5c8902f8-9d69-11ee-91d3-0242ac120006",
       "previous": "5c890258-9d69-11ee-91d3-0242ac120006"
      },
      {
       "current": "5c8902b2-9d69-11ee-91d3-0242ac120006-1-f185",
       "next": "337534e4-9d6a-11ee-91d3-0242ac120006",
       "previous": "5c890258-9d69-11ee-91d3-0242ac120006"
      },
      {
       "current": "5c8902b2-9d69-11ee-91d3-0242ac120006-2-f185-6410",
       "next": "337534e4-9d6a-11ee-91d3-0242ac120006",
       "previous": "33753692-9d6a-11ee-91d3-0242ac120006"
      },
      {
       "current": "5c8902b2-9d69-11ee-91d3-0242ac120006-3-f185-6410-b2d3",
       "next": "3375371e-9d6a-11ee-91d3-0242ac120006-1-6eca",
       "previous": "33753692-9d6a-11ee-91d3-0242ac120006-1-45fb"
      },
      {
       "current": "5c8902b2-9d69-11ee-91d3-0242ac120006-4-f185-6410-b2d3-59eb",
       "next": "3375371e-9d6a-11ee-91d3-0242ac120006-2-6eca-cb7a",
       "previous": "33753692-9d6a-11ee-91d3-0242ac120006-2-45fb-6576"
      },
      {
       "current": "5c8902b2-9d69-11ee-91d3-0242ac120006-5-f185-6410-b2d3-59eb-dca8",
       "next": "3375371e-9d6a-11ee-91d3-0242ac120006-3-6eca-cb7a-7e67",
       "previous": "33753692-9d6a-11ee-91d3-0242ac120006-3-45fb-6576-84a3"
      }
     ],
     "next": "3375371e-9d6a-11ee-91d3-0242ac120006-4-6eca-cb7a-7e67-1841",
     "previous": "33753692-9d6a-11ee-91d3-0242ac120006-4-45fb-6576-84a3-e4fd"
    }
   },
   "source": [
    "#### DATA LV 生成"
   ]
  },
  {
   "cell_type": "code",
   "execution_count": null,
   "metadata": {
    "lc_cell_meme": {
     "current": "3375371e-9d6a-11ee-91d3-0242ac120006-4-6eca-cb7a-7e67-1841",
     "history": [
      {
       "current": "3375371e-9d6a-11ee-91d3-0242ac120006",
       "next": "3375378c-9d6a-11ee-91d3-0242ac120006",
       "previous": "33753692-9d6a-11ee-91d3-0242ac120006"
      },
      {
       "current": "3375371e-9d6a-11ee-91d3-0242ac120006-1-6eca",
       "next": "3375378c-9d6a-11ee-91d3-0242ac120006",
       "previous": "337534e4-9d6a-11ee-91d3-0242ac120006"
      },
      {
       "current": "3375371e-9d6a-11ee-91d3-0242ac120006-2-6eca-cb7a",
       "next": "3375378c-9d6a-11ee-91d3-0242ac120006-1-15df",
       "previous": "5c8902b2-9d69-11ee-91d3-0242ac120006-2-f185-6410"
      },
      {
       "current": "3375371e-9d6a-11ee-91d3-0242ac120006-3-6eca-cb7a-7e67",
       "next": "3375378c-9d6a-11ee-91d3-0242ac120006-2-15df-b43c",
       "previous": "5c8902b2-9d69-11ee-91d3-0242ac120006-3-f185-6410-b2d3"
      },
      {
       "current": "3375371e-9d6a-11ee-91d3-0242ac120006-4-6eca-cb7a-7e67-1841",
       "next": "3375378c-9d6a-11ee-91d3-0242ac120006-3-15df-b43c-359c",
       "previous": "5c8902b2-9d69-11ee-91d3-0242ac120006-4-f185-6410-b2d3-59eb"
      }
     ],
     "next": "3375378c-9d6a-11ee-91d3-0242ac120006-4-15df-b43c-359c-8c13",
     "previous": "5c8902b2-9d69-11ee-91d3-0242ac120006-5-f185-6410-b2d3-59eb-dca8"
    }
   },
   "outputs": [],
   "source": [
    "#elems = bdev_lv_name.split('_')\n",
    "#replace_cnt = None\n",
    "#if len(elems) < 4:\n",
    "#    replace_cnt = 1\n",
    "#elif len(elems) == 4:\n",
    "#    replace_cnt = int(elems[3]) + 1\n",
    "#\n",
    "#next_bdev_lv_name = \"{}_{}_{}_{}\".format(elems[0],elems[1],elems[2],replace_cnt)\n",
    "\n",
    "next_bdev_lv_name = bdev_lv_name\n",
    "print(next_bdev_lv_name)"
   ]
  },
  {
   "cell_type": "code",
   "execution_count": null,
   "metadata": {
    "lc_cell_meme": {
     "current": "3375378c-9d6a-11ee-91d3-0242ac120006-4-15df-b43c-359c-8c13",
     "history": [
      {
       "current": "3375378c-9d6a-11ee-91d3-0242ac120006-1-15df",
       "next": "5c8902f8-9d69-11ee-91d3-0242ac120006",
       "previous": "3375371e-9d6a-11ee-91d3-0242ac120006"
      },
      {
       "current": "3375378c-9d6a-11ee-91d3-0242ac120006-2-15df-b43c",
       "next": "5c8902f8-9d69-11ee-91d3-0242ac120006-1-c407",
       "previous": "3375371e-9d6a-11ee-91d3-0242ac120006-1-6eca"
      },
      {
       "current": "3375378c-9d6a-11ee-91d3-0242ac120006-3-15df-b43c-359c",
       "next": "5c8902f8-9d69-11ee-91d3-0242ac120006-2-c407-f473",
       "previous": "3375371e-9d6a-11ee-91d3-0242ac120006-2-6eca-cb7a"
      },
      {
       "current": "3375378c-9d6a-11ee-91d3-0242ac120006-4-15df-b43c-359c-8c13",
       "next": "5c8902f8-9d69-11ee-91d3-0242ac120006-3-c407-f473-1963",
       "previous": "3375371e-9d6a-11ee-91d3-0242ac120006-3-6eca-cb7a-7e67"
      }
     ],
     "next": "5c8902f8-9d69-11ee-91d3-0242ac120006-4-c407-f473-1963-0e96",
     "previous": "3375371e-9d6a-11ee-91d3-0242ac120006-4-6eca-cb7a-7e67-1841"
    }
   },
   "outputs": [],
   "source": [
    "lv_size_perc = \"{}%VG\".format(lv_size)\n",
    "!ansible -b -m shell -a \"lvcreate -l 100%FREE -n $next_bdev_lv_name $bdev_vg_name\" $prov_ip"
   ]
  },
  {
   "cell_type": "code",
   "execution_count": null,
   "metadata": {
    "lc_cell_meme": {
     "current": "5c8902f8-9d69-11ee-91d3-0242ac120006-4-c407-f473-1963-0e96",
     "history": [
      {
       "current": "5c8902f8-9d69-11ee-91d3-0242ac120006",
       "next": "61a21452-8359-11ee-91d3-0242ac120006-2-3103-5b33",
       "previous": "5c8902b2-9d69-11ee-91d3-0242ac120006"
      },
      {
       "current": "5c8902f8-9d69-11ee-91d3-0242ac120006",
       "next": "61a21452-8359-11ee-91d3-0242ac120006-2-3103-5b33",
       "previous": "3375378c-9d6a-11ee-91d3-0242ac120006"
      },
      {
       "current": "5c8902f8-9d69-11ee-91d3-0242ac120006",
       "next": "992d4078-9d6b-11ee-91d3-0242ac120006",
       "previous": "3375378c-9d6a-11ee-91d3-0242ac120006"
      },
      {
       "current": "5c8902f8-9d69-11ee-91d3-0242ac120006-1-c407",
       "next": "992d4078-9d6b-11ee-91d3-0242ac120006-1-bedd",
       "previous": "3375378c-9d6a-11ee-91d3-0242ac120006"
      },
      {
       "current": "5c8902f8-9d69-11ee-91d3-0242ac120006-1-c407",
       "next": "992d4348-9d6b-11ee-91d3-0242ac120006",
       "previous": "3375378c-9d6a-11ee-91d3-0242ac120006-1-15df"
      },
      {
       "current": "5c8902f8-9d69-11ee-91d3-0242ac120006-2-c407-f473",
       "next": "992d442e-9d6b-11ee-91d3-0242ac120006-1-a143",
       "previous": "3375378c-9d6a-11ee-91d3-0242ac120006-1-15df"
      },
      {
       "current": "5c8902f8-9d69-11ee-91d3-0242ac120006-3-c407-f473-1963",
       "next": "992d442e-9d6b-11ee-91d3-0242ac120006-2-a143-e2ee",
       "previous": "3375378c-9d6a-11ee-91d3-0242ac120006-2-15df-b43c"
      },
      {
       "current": "5c8902f8-9d69-11ee-91d3-0242ac120006-4-c407-f473-1963-0e96",
       "next": "992d442e-9d6b-11ee-91d3-0242ac120006-3-a143-e2ee-a23f",
       "previous": "3375378c-9d6a-11ee-91d3-0242ac120006-3-15df-b43c-359c"
      }
     ],
     "next": "992d442e-9d6b-11ee-91d3-0242ac120006-4-a143-e2ee-a23f-8623",
     "previous": "3375378c-9d6a-11ee-91d3-0242ac120006-4-15df-b43c-359c-8c13"
    }
   },
   "outputs": [],
   "source": [
    "!ansible -b -m shell -a \"lvdisplay $bdev_vg_name\" $prov_ip"
   ]
  },
  {
   "cell_type": "markdown",
   "metadata": {
    "lc_cell_meme": {
     "current": "992d442e-9d6b-11ee-91d3-0242ac120006-4-a143-e2ee-a23f-8623",
     "history": [
      {
       "current": "992d442e-9d6b-11ee-91d3-0242ac120006-1-a143",
       "next": "61a21452-8359-11ee-91d3-0242ac120006-2-3103-5b33",
       "previous": "992d43c0-9d6b-11ee-91d3-0242ac120006"
      },
      {
       "current": "992d442e-9d6b-11ee-91d3-0242ac120006-2-a143-e2ee",
       "next": "992d4348-9d6b-11ee-91d3-0242ac120006",
       "previous": "5c8902f8-9d69-11ee-91d3-0242ac120006-1-c407"
      },
      {
       "current": "992d442e-9d6b-11ee-91d3-0242ac120006-3-a143-e2ee-a23f",
       "next": "992d4348-9d6b-11ee-91d3-0242ac120006-1-0ab1",
       "previous": "5c8902f8-9d69-11ee-91d3-0242ac120006-2-c407-f473"
      },
      {
       "current": "992d442e-9d6b-11ee-91d3-0242ac120006-4-a143-e2ee-a23f-8623",
       "next": "992d4348-9d6b-11ee-91d3-0242ac120006-2-0ab1-2e5e",
       "previous": "5c8902f8-9d69-11ee-91d3-0242ac120006-3-c407-f473-1963"
      }
     ],
     "next": "992d4348-9d6b-11ee-91d3-0242ac120006-3-0ab1-2e5e-bc37",
     "previous": "5c8902f8-9d69-11ee-91d3-0242ac120006-4-c407-f473-1963-0e96"
    }
   },
   "source": [
    "### LVパス生成"
   ]
  },
  {
   "cell_type": "code",
   "execution_count": null,
   "metadata": {
    "lc_cell_meme": {
     "current": "992d4348-9d6b-11ee-91d3-0242ac120006-3-0ab1-2e5e-bc37",
     "history": [
      {
       "current": "992d4348-9d6b-11ee-91d3-0242ac120006",
       "next": "992d43c0-9d6b-11ee-91d3-0242ac120006",
       "previous": "992d42d0-9d6b-11ee-91d3-0242ac120006"
      },
      {
       "current": "992d4348-9d6b-11ee-91d3-0242ac120006",
       "next": "992d43c0-9d6b-11ee-91d3-0242ac120006",
       "previous": "5c8902f8-9d69-11ee-91d3-0242ac120006-1-c407"
      },
      {
       "current": "992d4348-9d6b-11ee-91d3-0242ac120006-1-0ab1",
       "next": "992d43c0-9d6b-11ee-91d3-0242ac120006",
       "previous": "992d442e-9d6b-11ee-91d3-0242ac120006-1-a143"
      },
      {
       "current": "992d4348-9d6b-11ee-91d3-0242ac120006-2-0ab1-2e5e",
       "next": "992d43c0-9d6b-11ee-91d3-0242ac120006-1-b6bd",
       "previous": "992d442e-9d6b-11ee-91d3-0242ac120006-2-a143-e2ee"
      },
      {
       "current": "992d4348-9d6b-11ee-91d3-0242ac120006-3-0ab1-2e5e-bc37",
       "next": "992d43c0-9d6b-11ee-91d3-0242ac120006-2-b6bd-9618",
       "previous": "992d442e-9d6b-11ee-91d3-0242ac120006-3-a143-e2ee-a23f"
      }
     ],
     "next": "992d43c0-9d6b-11ee-91d3-0242ac120006-3-b6bd-9618-8168",
     "previous": "992d442e-9d6b-11ee-91d3-0242ac120006-4-a143-e2ee-a23f-8623"
    }
   },
   "outputs": [],
   "source": [
    "db_lv_path = \"/dev/{}/{}\".format(db_vg_name,next_db_lv_name)\n",
    "print(db_lv_path)"
   ]
  },
  {
   "cell_type": "code",
   "execution_count": null,
   "metadata": {
    "lc_cell_meme": {
     "current": "992d43c0-9d6b-11ee-91d3-0242ac120006-3-b6bd-9618-8168",
     "history": [
      {
       "current": "992d43c0-9d6b-11ee-91d3-0242ac120006",
       "next": "992d442e-9d6b-11ee-91d3-0242ac120006",
       "previous": "992d4348-9d6b-11ee-91d3-0242ac120006"
      },
      {
       "current": "992d43c0-9d6b-11ee-91d3-0242ac120006-1-b6bd",
       "next": "61a21452-8359-11ee-91d3-0242ac120006-2-3103-5b33",
       "previous": "992d4348-9d6b-11ee-91d3-0242ac120006"
      },
      {
       "current": "992d43c0-9d6b-11ee-91d3-0242ac120006-2-b6bd-9618",
       "next": "61a21452-8359-11ee-91d3-0242ac120006-3-3103-5b33-02e8",
       "previous": "992d4348-9d6b-11ee-91d3-0242ac120006-1-0ab1"
      },
      {
       "current": "992d43c0-9d6b-11ee-91d3-0242ac120006-3-b6bd-9618-8168",
       "next": "61a21452-8359-11ee-91d3-0242ac120006-4-3103-5b33-02e8-1986",
       "previous": "992d4348-9d6b-11ee-91d3-0242ac120006-2-0ab1-2e5e"
      }
     ],
     "next": "61a21452-8359-11ee-91d3-0242ac120006-5-3103-5b33-02e8-1986-3437",
     "previous": "992d4348-9d6b-11ee-91d3-0242ac120006-3-0ab1-2e5e-bc37"
    }
   },
   "outputs": [],
   "source": [
    "bdev_lv_path = \"/dev/{}/{}\".format(bdev_vg_name,next_bdev_lv_name)\n",
    "print(bdev_lv_path)"
   ]
  },
  {
   "cell_type": "markdown",
   "metadata": {
    "lc_cell_meme": {
     "current": "61a21452-8359-11ee-91d3-0242ac120006-5-3103-5b33-02e8-1986-3437",
     "history": [
      {
       "current": "61a21452-8359-11ee-91d3-0242ac120006",
       "next": "e54d6ba0-82c1-11ee-91d3-0242ac120006-1-d256",
       "previous": "61a212b8-8359-11ee-91d3-0242ac120006"
      },
      {
       "current": "61a21452-8359-11ee-91d3-0242ac120006-1-3103",
       "next": "35c581ba-55a3-11e7-b0b2-00163e9c0e35-3-f60b-133a-40ef",
       "previous": "61a212b8-8359-11ee-91d3-0242ac120006"
      },
      {
       "current": "61a21452-8359-11ee-91d3-0242ac120006-1-3103",
       "next": "3ab0e092-836f-11ee-91d3-0242ac120006",
       "previous": "61a212b8-8359-11ee-91d3-0242ac120006"
      },
      {
       "current": "61a21452-8359-11ee-91d3-0242ac120006-2-3103-5b33",
       "next": "3ab0e092-836f-11ee-91d3-0242ac120006",
       "previous": "cf5dae6a-835f-11ee-91d3-0242ac120006-1-5ac0"
      },
      {
       "current": "61a21452-8359-11ee-91d3-0242ac120006-2-3103-5b33",
       "next": "3ab0e092-836f-11ee-91d3-0242ac120006-1-a78a",
       "previous": "cf5dae6a-835f-11ee-91d3-0242ac120006-2-5ac0-a97c"
      },
      {
       "current": "61a21452-8359-11ee-91d3-0242ac120006-2-3103-5b33",
       "next": "3ab0e092-836f-11ee-91d3-0242ac120006-1-a78a",
       "previous": "f6c28418-9d67-11ee-91d3-0242ac120006"
      },
      {
       "current": "61a21452-8359-11ee-91d3-0242ac120006-2-3103-5b33",
       "next": "3ab0e092-836f-11ee-91d3-0242ac120006-1-a78a",
       "previous": "5c8902f8-9d69-11ee-91d3-0242ac120006"
      },
      {
       "current": "61a21452-8359-11ee-91d3-0242ac120006-2-3103-5b33",
       "next": "3ab0e092-836f-11ee-91d3-0242ac120006-1-a78a",
       "previous": "992d442e-9d6b-11ee-91d3-0242ac120006"
      },
      {
       "current": "61a21452-8359-11ee-91d3-0242ac120006-3-3103-5b33-02e8",
       "next": "3ab0e092-836f-11ee-91d3-0242ac120006-1-a78a",
       "previous": "992d43c0-9d6b-11ee-91d3-0242ac120006"
      },
      {
       "current": "61a21452-8359-11ee-91d3-0242ac120006-4-3103-5b33-02e8-1986",
       "next": "3ab0e092-836f-11ee-91d3-0242ac120006-2-a78a-a4c2",
       "previous": "992d43c0-9d6b-11ee-91d3-0242ac120006-1-b6bd"
      },
      {
       "current": "61a21452-8359-11ee-91d3-0242ac120006-5-3103-5b33-02e8-1986-3437",
       "next": "3ab0e092-836f-11ee-91d3-0242ac120006-3-a78a-a4c2-33f2",
       "previous": "992d43c0-9d6b-11ee-91d3-0242ac120006-2-b6bd-9618"
      }
     ],
     "next": "3ab0e092-836f-11ee-91d3-0242ac120006-4-a78a-a4c2-33f2-56fa",
     "previous": "992d43c0-9d6b-11ee-91d3-0242ac120006-3-b6bd-9618-8168"
    }
   },
   "source": [
    "## OSD構築前のスクラビング無効化"
   ]
  },
  {
   "cell_type": "code",
   "execution_count": null,
   "metadata": {
    "lc_cell_meme": {
     "current": "3ab0e092-836f-11ee-91d3-0242ac120006-4-a78a-a4c2-33f2-56fa",
     "history": [
      {
       "current": "3ab0e092-836f-11ee-91d3-0242ac120006-1-a78a",
       "next": "3ab0e236-836f-11ee-91d3-0242ac120006",
       "previous": "61a21452-8359-11ee-91d3-0242ac120006-1-3103"
      },
      {
       "current": "3ab0e092-836f-11ee-91d3-0242ac120006-2-a78a-a4c2",
       "next": "3ab0e236-836f-11ee-91d3-0242ac120006-1-b72f",
       "previous": "61a21452-8359-11ee-91d3-0242ac120006-2-3103-5b33"
      },
      {
       "current": "3ab0e092-836f-11ee-91d3-0242ac120006-3-a78a-a4c2-33f2",
       "next": "3ab0e236-836f-11ee-91d3-0242ac120006-2-b72f-3527",
       "previous": "61a21452-8359-11ee-91d3-0242ac120006-3-3103-5b33-02e8"
      },
      {
       "current": "3ab0e092-836f-11ee-91d3-0242ac120006-4-a78a-a4c2-33f2-56fa",
       "next": "3ab0e236-836f-11ee-91d3-0242ac120006-3-b72f-3527-2719",
       "previous": "61a21452-8359-11ee-91d3-0242ac120006-4-3103-5b33-02e8-1986"
      }
     ],
     "next": "3ab0e236-836f-11ee-91d3-0242ac120006-4-b72f-3527-2719-9e42",
     "previous": "61a21452-8359-11ee-91d3-0242ac120006-5-3103-5b33-02e8-1986-3437"
    }
   },
   "outputs": [],
   "source": [
    "!ansible -b -m shell -a \"cephadm shell -- ceph osd set noscrub\" bootstrap"
   ]
  },
  {
   "cell_type": "code",
   "execution_count": null,
   "metadata": {
    "lc_cell_meme": {
     "current": "3ab0e236-836f-11ee-91d3-0242ac120006-4-b72f-3527-2719-9e42",
     "history": [
      {
       "current": "3ab0e236-836f-11ee-91d3-0242ac120006",
       "next": "3ab0e2d6-836f-11ee-91d3-0242ac120006",
       "previous": "3ab0e092-836f-11ee-91d3-0242ac120006"
      },
      {
       "current": "3ab0e236-836f-11ee-91d3-0242ac120006-1-b72f",
       "next": "3ab0e2d6-836f-11ee-91d3-0242ac120006-1-6abd",
       "previous": "3ab0e092-836f-11ee-91d3-0242ac120006"
      },
      {
       "current": "3ab0e236-836f-11ee-91d3-0242ac120006-2-b72f-3527",
       "next": "3ab0e2d6-836f-11ee-91d3-0242ac120006-2-6abd-031d",
       "previous": "3ab0e092-836f-11ee-91d3-0242ac120006-1-a78a"
      },
      {
       "current": "3ab0e236-836f-11ee-91d3-0242ac120006-3-b72f-3527-2719",
       "next": "3ab0e2d6-836f-11ee-91d3-0242ac120006-3-6abd-031d-5b5f",
       "previous": "3ab0e092-836f-11ee-91d3-0242ac120006-2-a78a-a4c2"
      },
      {
       "current": "3ab0e236-836f-11ee-91d3-0242ac120006-4-b72f-3527-2719-9e42",
       "next": "3ab0e2d6-836f-11ee-91d3-0242ac120006-4-6abd-031d-5b5f-5a18",
       "previous": "3ab0e092-836f-11ee-91d3-0242ac120006-3-a78a-a4c2-33f2"
      }
     ],
     "next": "3ab0e2d6-836f-11ee-91d3-0242ac120006-5-6abd-031d-5b5f-5a18-67c3",
     "previous": "3ab0e092-836f-11ee-91d3-0242ac120006-4-a78a-a4c2-33f2-56fa"
    }
   },
   "outputs": [],
   "source": [
    "!ansible -b -m shell -a \"cephadm shell -- ceph osd set nodeep-scrub\" bootstrap"
   ]
  },
  {
   "cell_type": "markdown",
   "metadata": {
    "lc_cell_meme": {
     "current": "3ab0e2d6-836f-11ee-91d3-0242ac120006-5-6abd-031d-5b5f-5a18-67c3",
     "history": [
      {
       "current": "3ab0e2d6-836f-11ee-91d3-0242ac120006-1-6abd",
       "next": "3ab0e358-836f-11ee-91d3-0242ac120006",
       "previous": "3ab0e236-836f-11ee-91d3-0242ac120006"
      },
      {
       "current": "3ab0e2d6-836f-11ee-91d3-0242ac120006-2-6abd-031d",
       "next": "c9befe0e-836f-11ee-91d3-0242ac120006",
       "previous": "3ab0e236-836f-11ee-91d3-0242ac120006"
      },
      {
       "current": "3ab0e2d6-836f-11ee-91d3-0242ac120006-3-6abd-031d-5b5f",
       "next": "c9befe0e-836f-11ee-91d3-0242ac120006-1-24cb",
       "previous": "3ab0e236-836f-11ee-91d3-0242ac120006-1-b72f"
      },
      {
       "current": "3ab0e2d6-836f-11ee-91d3-0242ac120006-4-6abd-031d-5b5f-5a18",
       "next": "c9befe0e-836f-11ee-91d3-0242ac120006-2-24cb-dbcc",
       "previous": "3ab0e236-836f-11ee-91d3-0242ac120006-2-b72f-3527"
      },
      {
       "current": "3ab0e2d6-836f-11ee-91d3-0242ac120006-5-6abd-031d-5b5f-5a18-67c3",
       "next": "c9befe0e-836f-11ee-91d3-0242ac120006-3-24cb-dbcc-eff8",
       "previous": "3ab0e236-836f-11ee-91d3-0242ac120006-3-b72f-3527-2719"
      }
     ],
     "next": "c9befe0e-836f-11ee-91d3-0242ac120006-4-24cb-dbcc-eff8-16bc",
     "previous": "3ab0e236-836f-11ee-91d3-0242ac120006-4-b72f-3527-2719-9e42"
    }
   },
   "source": [
    "## OSD 復帰"
   ]
  },
  {
   "cell_type": "code",
   "execution_count": null,
   "metadata": {
    "lc_cell_meme": {
     "current": "c9befe0e-836f-11ee-91d3-0242ac120006-4-24cb-dbcc-eff8-16bc",
     "history": [
      {
       "current": "c9befe0e-836f-11ee-91d3-0242ac120006-1-24cb",
       "next": "3ab0e358-836f-11ee-91d3-0242ac120006",
       "previous": "3ab0e2d6-836f-11ee-91d3-0242ac120006-1-6abd"
      },
      {
       "current": "c9befe0e-836f-11ee-91d3-0242ac120006-1-24cb",
       "next": "3ab0e358-836f-11ee-91d3-0242ac120006-1-154d",
       "previous": "3ab0e2d6-836f-11ee-91d3-0242ac120006-2-6abd-031d"
      },
      {
       "current": "c9befe0e-836f-11ee-91d3-0242ac120006-2-24cb-dbcc",
       "next": "d0c1350a-9a58-11ee-91d3-0242ac120006",
       "previous": "3ab0e2d6-836f-11ee-91d3-0242ac120006-2-6abd-031d"
      },
      {
       "current": "c9befe0e-836f-11ee-91d3-0242ac120006-3-24cb-dbcc-eff8",
       "next": "d0c1350a-9a58-11ee-91d3-0242ac120006-1-31f3",
       "previous": "3ab0e2d6-836f-11ee-91d3-0242ac120006-3-6abd-031d-5b5f"
      },
      {
       "current": "c9befe0e-836f-11ee-91d3-0242ac120006-4-24cb-dbcc-eff8-16bc",
       "next": "d0c1350a-9a58-11ee-91d3-0242ac120006-2-31f3-7a0d",
       "previous": "3ab0e2d6-836f-11ee-91d3-0242ac120006-4-6abd-031d-5b5f-5a18"
      }
     ],
     "next": "d0c1350a-9a58-11ee-91d3-0242ac120006-3-31f3-7a0d-ecd2",
     "previous": "3ab0e2d6-836f-11ee-91d3-0242ac120006-5-6abd-031d-5b5f-5a18-67c3"
    }
   },
   "outputs": [],
   "source": [
    "assert (db_lv_path is not None and bdev_lv_path is not None and host_name is not None), \"パラメータの不備\""
   ]
  },
  {
   "cell_type": "code",
   "execution_count": null,
   "metadata": {
    "lc_cell_meme": {
     "current": "d0c1350a-9a58-11ee-91d3-0242ac120006-3-31f3-7a0d-ecd2",
     "history": [
      {
       "current": "d0c1350a-9a58-11ee-91d3-0242ac120006-1-31f3",
       "next": "3ab0e358-836f-11ee-91d3-0242ac120006-1-154d",
       "previous": "c9befe0e-836f-11ee-91d3-0242ac120006-1-24cb"
      },
      {
       "current": "d0c1350a-9a58-11ee-91d3-0242ac120006-2-31f3-7a0d",
       "next": "3ab0e358-836f-11ee-91d3-0242ac120006-2-154d-d4ee",
       "previous": "c9befe0e-836f-11ee-91d3-0242ac120006-2-24cb-dbcc"
      },
      {
       "current": "d0c1350a-9a58-11ee-91d3-0242ac120006-3-31f3-7a0d-ecd2",
       "next": "3ab0e358-836f-11ee-91d3-0242ac120006-3-154d-d4ee-3a68",
       "previous": "c9befe0e-836f-11ee-91d3-0242ac120006-3-24cb-dbcc-eff8"
      }
     ],
     "next": "3ab0e358-836f-11ee-91d3-0242ac120006-4-154d-d4ee-3a68-857e",
     "previous": "c9befe0e-836f-11ee-91d3-0242ac120006-4-24cb-dbcc-eff8-16bc"
    }
   },
   "outputs": [],
   "source": [
    "print(\"host_name={} db_dev={} data_dev={}\".format(host_name,db_lv_path,bdev_lv_path))"
   ]
  },
  {
   "cell_type": "code",
   "execution_count": null,
   "metadata": {
    "lc_cell_meme": {
     "current": "3ab0e358-836f-11ee-91d3-0242ac120006-4-154d-d4ee-3a68-857e",
     "history": [
      {
       "current": "3ab0e358-836f-11ee-91d3-0242ac120006",
       "next": "3ab0e4b6-836f-11ee-91d3-0242ac120006",
       "previous": "3ab0e2d6-836f-11ee-91d3-0242ac120006"
      },
      {
       "current": "3ab0e358-836f-11ee-91d3-0242ac120006",
       "next": "3ab0e4b6-836f-11ee-91d3-0242ac120006",
       "previous": "3ab0e2d6-836f-11ee-91d3-0242ac120006-1-6abd"
      },
      {
       "current": "3ab0e358-836f-11ee-91d3-0242ac120006-1-154d",
       "next": "3ab0e4b6-836f-11ee-91d3-0242ac120006",
       "previous": "c9befe0e-836f-11ee-91d3-0242ac120006"
      },
      {
       "current": "3ab0e358-836f-11ee-91d3-0242ac120006-1-154d",
       "next": "3ab0e4b6-836f-11ee-91d3-0242ac120006-1-db08",
       "previous": "c9befe0e-836f-11ee-91d3-0242ac120006-1-24cb"
      },
      {
       "current": "3ab0e358-836f-11ee-91d3-0242ac120006-1-154d",
       "next": "3ab0e4b6-836f-11ee-91d3-0242ac120006-1-db08",
       "previous": "d0c1350a-9a58-11ee-91d3-0242ac120006"
      },
      {
       "current": "3ab0e358-836f-11ee-91d3-0242ac120006-2-154d-d4ee",
       "next": "9fc30664-9b10-11ee-91d3-0242ac120006",
       "previous": "d0c1350a-9a58-11ee-91d3-0242ac120006"
      },
      {
       "current": "3ab0e358-836f-11ee-91d3-0242ac120006-3-154d-d4ee-3a68",
       "next": "9fc30664-9b10-11ee-91d3-0242ac120006-1-1c1a",
       "previous": "d0c1350a-9a58-11ee-91d3-0242ac120006-1-31f3"
      },
      {
       "current": "3ab0e358-836f-11ee-91d3-0242ac120006-4-154d-d4ee-3a68-857e",
       "next": "9fc30664-9b10-11ee-91d3-0242ac120006-2-1c1a-0221",
       "previous": "d0c1350a-9a58-11ee-91d3-0242ac120006-2-31f3-7a0d"
      }
     ],
     "next": "9fc30664-9b10-11ee-91d3-0242ac120006-3-1c1a-0221-865b",
     "previous": "d0c1350a-9a58-11ee-91d3-0242ac120006-3-31f3-7a0d-ecd2"
    }
   },
   "outputs": [],
   "source": [
    "!ansible -b -m shell -a \"cephadm shell -- ceph orch daemon add osd $host_name:data_devices=$bdev_lv_path,db_devices=$db_lv_path\" bootstrap"
   ]
  },
  {
   "cell_type": "code",
   "execution_count": null,
   "metadata": {
    "lc_cell_meme": {
     "current": "9fc30664-9b10-11ee-91d3-0242ac120006-3-1c1a-0221-865b",
     "history": [
      {
       "current": "9fc30664-9b10-11ee-91d3-0242ac120006-1-1c1a",
       "next": "3ab0e4b6-836f-11ee-91d3-0242ac120006-1-db08",
       "previous": "3ab0e358-836f-11ee-91d3-0242ac120006-1-154d"
      },
      {
       "current": "9fc30664-9b10-11ee-91d3-0242ac120006-2-1c1a-0221",
       "next": "3ab0e4b6-836f-11ee-91d3-0242ac120006-2-db08-86ef",
       "previous": "3ab0e358-836f-11ee-91d3-0242ac120006-2-154d-d4ee"
      },
      {
       "current": "9fc30664-9b10-11ee-91d3-0242ac120006-3-1c1a-0221-865b",
       "next": "3ab0e4b6-836f-11ee-91d3-0242ac120006-3-db08-86ef-ab89",
       "previous": "3ab0e358-836f-11ee-91d3-0242ac120006-3-154d-d4ee-3a68"
      }
     ],
     "next": "3ab0e4b6-836f-11ee-91d3-0242ac120006-4-db08-86ef-ab89-c5db",
     "previous": "3ab0e358-836f-11ee-91d3-0242ac120006-4-154d-d4ee-3a68-857e"
    }
   },
   "outputs": [],
   "source": [
    "!ansible -b -m shell -a \"cephadm shell -- ceph osd tree\" bootstrap"
   ]
  },
  {
   "cell_type": "code",
   "execution_count": null,
   "metadata": {
    "lc_cell_meme": {
     "current": "3ab0e4b6-836f-11ee-91d3-0242ac120006-4-db08-86ef-ab89-c5db",
     "history": [
      {
       "current": "3ab0e4b6-836f-11ee-91d3-0242ac120006",
       "next": "35c581ba-55a3-11e7-b0b2-00163e9c0e35-3-f60b-133a-40ef",
       "previous": "3ab0e358-836f-11ee-91d3-0242ac120006"
      },
      {
       "current": "3ab0e4b6-836f-11ee-91d3-0242ac120006-1-db08",
       "next": "114fe918-8370-11ee-91d3-0242ac120006",
       "previous": "3ab0e358-836f-11ee-91d3-0242ac120006"
      },
      {
       "current": "3ab0e4b6-836f-11ee-91d3-0242ac120006-1-db08",
       "next": "114fe918-8370-11ee-91d3-0242ac120006-1-51de",
       "previous": "3ab0e358-836f-11ee-91d3-0242ac120006-1-154d"
      },
      {
       "current": "3ab0e4b6-836f-11ee-91d3-0242ac120006-2-db08-86ef",
       "next": "114fe918-8370-11ee-91d3-0242ac120006-1-51de",
       "previous": "9fc30664-9b10-11ee-91d3-0242ac120006"
      },
      {
       "current": "3ab0e4b6-836f-11ee-91d3-0242ac120006-3-db08-86ef-ab89",
       "next": "114fe918-8370-11ee-91d3-0242ac120006-2-51de-ba27",
       "previous": "9fc30664-9b10-11ee-91d3-0242ac120006-1-1c1a"
      },
      {
       "current": "3ab0e4b6-836f-11ee-91d3-0242ac120006-4-db08-86ef-ab89-c5db",
       "next": "114fe918-8370-11ee-91d3-0242ac120006-3-51de-ba27-9427",
       "previous": "9fc30664-9b10-11ee-91d3-0242ac120006-2-1c1a-0221"
      }
     ],
     "next": "114fe918-8370-11ee-91d3-0242ac120006-4-51de-ba27-9427-596c",
     "previous": "9fc30664-9b10-11ee-91d3-0242ac120006-3-1c1a-0221-865b"
    }
   },
   "outputs": [],
   "source": [
    "!ansible -b -m shell -a 'cephadm shell -- ceph orch ls' bootstrap"
   ]
  },
  {
   "cell_type": "code",
   "execution_count": null,
   "metadata": {
    "lc_cell_meme": {
     "current": "114fe918-8370-11ee-91d3-0242ac120006-4-51de-ba27-9427-596c",
     "history": [
      {
       "current": "114fe918-8370-11ee-91d3-0242ac120006-1-51de",
       "next": "114fea80-8370-11ee-91d3-0242ac120006",
       "previous": "3ab0e4b6-836f-11ee-91d3-0242ac120006"
      },
      {
       "current": "114fe918-8370-11ee-91d3-0242ac120006-2-51de-ba27",
       "next": "114fea80-8370-11ee-91d3-0242ac120006-1-f4cd",
       "previous": "3ab0e4b6-836f-11ee-91d3-0242ac120006-1-db08"
      },
      {
       "current": "114fe918-8370-11ee-91d3-0242ac120006-3-51de-ba27-9427",
       "next": "114fea80-8370-11ee-91d3-0242ac120006-2-f4cd-2fd8",
       "previous": "3ab0e4b6-836f-11ee-91d3-0242ac120006-2-db08-86ef"
      },
      {
       "current": "114fe918-8370-11ee-91d3-0242ac120006-4-51de-ba27-9427-596c",
       "next": "114fea80-8370-11ee-91d3-0242ac120006-3-f4cd-2fd8-879e",
       "previous": "3ab0e4b6-836f-11ee-91d3-0242ac120006-3-db08-86ef-ab89"
      }
     ],
     "next": "114fea80-8370-11ee-91d3-0242ac120006-4-f4cd-2fd8-879e-c211",
     "previous": "3ab0e4b6-836f-11ee-91d3-0242ac120006-4-db08-86ef-ab89-c5db"
    }
   },
   "outputs": [],
   "source": [
    "!ansible -b -m shell -a 'cephadm shell -- ceph -s' bootstrap"
   ]
  },
  {
   "cell_type": "markdown",
   "metadata": {
    "lc_cell_meme": {
     "current": "114fea80-8370-11ee-91d3-0242ac120006-4-f4cd-2fd8-879e-c211",
     "history": [
      {
       "current": "114fea80-8370-11ee-91d3-0242ac120006-1-f4cd",
       "next": "114feb16-8370-11ee-91d3-0242ac120006",
       "previous": "114fe918-8370-11ee-91d3-0242ac120006"
      },
      {
       "current": "114fea80-8370-11ee-91d3-0242ac120006-2-f4cd-2fd8",
       "next": "114feb16-8370-11ee-91d3-0242ac120006-1-a5b1",
       "previous": "114fe918-8370-11ee-91d3-0242ac120006-1-51de"
      },
      {
       "current": "114fea80-8370-11ee-91d3-0242ac120006-3-f4cd-2fd8-879e",
       "next": "114feb16-8370-11ee-91d3-0242ac120006-2-a5b1-e537",
       "previous": "114fe918-8370-11ee-91d3-0242ac120006-2-51de-ba27"
      },
      {
       "current": "114fea80-8370-11ee-91d3-0242ac120006-4-f4cd-2fd8-879e-c211",
       "next": "114feb16-8370-11ee-91d3-0242ac120006-3-a5b1-e537-3560",
       "previous": "114fe918-8370-11ee-91d3-0242ac120006-3-51de-ba27-9427"
      }
     ],
     "next": "114feb16-8370-11ee-91d3-0242ac120006-4-a5b1-e537-3560-a7de",
     "previous": "114fe918-8370-11ee-91d3-0242ac120006-4-51de-ba27-9427-596c"
    }
   },
   "source": [
    "## OSD構築後のスクラビング有効化"
   ]
  },
  {
   "cell_type": "code",
   "execution_count": null,
   "metadata": {
    "lc_cell_meme": {
     "current": "114feb16-8370-11ee-91d3-0242ac120006-4-a5b1-e537-3560-a7de",
     "history": [
      {
       "current": "114feb16-8370-11ee-91d3-0242ac120006-1-a5b1",
       "next": "114feb7a-8370-11ee-91d3-0242ac120006",
       "previous": "114fea80-8370-11ee-91d3-0242ac120006"
      },
      {
       "current": "114feb16-8370-11ee-91d3-0242ac120006-2-a5b1-e537",
       "next": "114feb7a-8370-11ee-91d3-0242ac120006-1-1c2a",
       "previous": "114fea80-8370-11ee-91d3-0242ac120006-1-f4cd"
      },
      {
       "current": "114feb16-8370-11ee-91d3-0242ac120006-3-a5b1-e537-3560",
       "next": "114feb7a-8370-11ee-91d3-0242ac120006-2-1c2a-2c74",
       "previous": "114fea80-8370-11ee-91d3-0242ac120006-2-f4cd-2fd8"
      },
      {
       "current": "114feb16-8370-11ee-91d3-0242ac120006-4-a5b1-e537-3560-a7de",
       "next": "114feb7a-8370-11ee-91d3-0242ac120006-3-1c2a-2c74-daf2",
       "previous": "114fea80-8370-11ee-91d3-0242ac120006-3-f4cd-2fd8-879e"
      }
     ],
     "next": "114feb7a-8370-11ee-91d3-0242ac120006-4-1c2a-2c74-daf2-4bf8",
     "previous": "114fea80-8370-11ee-91d3-0242ac120006-4-f4cd-2fd8-879e-c211"
    }
   },
   "outputs": [],
   "source": [
    "!ansible -b -m shell -a \"cephadm shell -- ceph osd unset noscrub\" bootstrap"
   ]
  },
  {
   "cell_type": "code",
   "execution_count": null,
   "metadata": {
    "lc_cell_meme": {
     "current": "114feb7a-8370-11ee-91d3-0242ac120006-4-1c2a-2c74-daf2-4bf8",
     "history": [
      {
       "current": "114feb7a-8370-11ee-91d3-0242ac120006-1-1c2a",
       "next": "114febde-8370-11ee-91d3-0242ac120006",
       "previous": "114feb16-8370-11ee-91d3-0242ac120006"
      },
      {
       "current": "114feb7a-8370-11ee-91d3-0242ac120006-2-1c2a-2c74",
       "next": "114febde-8370-11ee-91d3-0242ac120006-1-1df8",
       "previous": "114feb16-8370-11ee-91d3-0242ac120006-1-a5b1"
      },
      {
       "current": "114feb7a-8370-11ee-91d3-0242ac120006-3-1c2a-2c74-daf2",
       "next": "114febde-8370-11ee-91d3-0242ac120006-2-1df8-e370",
       "previous": "114feb16-8370-11ee-91d3-0242ac120006-2-a5b1-e537"
      },
      {
       "current": "114feb7a-8370-11ee-91d3-0242ac120006-4-1c2a-2c74-daf2-4bf8",
       "next": "114febde-8370-11ee-91d3-0242ac120006-3-1df8-e370-a699",
       "previous": "114feb16-8370-11ee-91d3-0242ac120006-3-a5b1-e537-3560"
      }
     ],
     "next": "114febde-8370-11ee-91d3-0242ac120006-4-1df8-e370-a699-2c4c",
     "previous": "114feb16-8370-11ee-91d3-0242ac120006-4-a5b1-e537-3560-a7de"
    }
   },
   "outputs": [],
   "source": [
    "!ansible -b -m shell -a \"cephadm shell -- ceph osd unset nodeep-scrub\" bootstrap"
   ]
  },
  {
   "cell_type": "code",
   "execution_count": null,
   "metadata": {
    "lc_cell_meme": {
     "current": "114febde-8370-11ee-91d3-0242ac120006-4-1df8-e370-a699-2c4c",
     "history": [
      {
       "current": "114febde-8370-11ee-91d3-0242ac120006-1-1df8",
       "next": "35c581ba-55a3-11e7-b0b2-00163e9c0e35-3-f60b-133a-40ef",
       "previous": "114feb7a-8370-11ee-91d3-0242ac120006"
      },
      {
       "current": "114febde-8370-11ee-91d3-0242ac120006-1-1df8",
       "next": "35c581ba-55a3-11e7-b0b2-00163e9c0e35-4-f60b-133a-40ef-811a",
       "previous": "114feb7a-8370-11ee-91d3-0242ac120006-1-1c2a"
      },
      {
       "current": "114febde-8370-11ee-91d3-0242ac120006-2-1df8-e370",
       "next": "4b7f2a48-9a56-11ee-91d3-0242ac120006",
       "previous": "114feb7a-8370-11ee-91d3-0242ac120006-1-1c2a"
      },
      {
       "current": "114febde-8370-11ee-91d3-0242ac120006-3-1df8-e370-a699",
       "next": "4b7f2a48-9a56-11ee-91d3-0242ac120006-1-bb17",
       "previous": "114feb7a-8370-11ee-91d3-0242ac120006-2-1c2a-2c74"
      },
      {
       "current": "114febde-8370-11ee-91d3-0242ac120006-4-1df8-e370-a699-2c4c",
       "next": "4b7f2a48-9a56-11ee-91d3-0242ac120006-2-bb17-498c",
       "previous": "114feb7a-8370-11ee-91d3-0242ac120006-3-1c2a-2c74-daf2"
      }
     ],
     "next": "4b7f2a48-9a56-11ee-91d3-0242ac120006-3-bb17-498c-b7ab",
     "previous": "114feb7a-8370-11ee-91d3-0242ac120006-4-1c2a-2c74-daf2-4bf8"
    }
   },
   "outputs": [],
   "source": [
    "!ansible -b -m shell -a \"cephadm shell -- ceph -s\" bootstrap"
   ]
  },
  {
   "cell_type": "code",
   "execution_count": null,
   "metadata": {
    "lc_cell_meme": {
     "current": "4b7f2a48-9a56-11ee-91d3-0242ac120006-3-bb17-498c-b7ab",
     "history": [
      {
       "current": "4b7f2a48-9a56-11ee-91d3-0242ac120006-1-bb17",
       "next": "35c581ba-55a3-11e7-b0b2-00163e9c0e35-4-f60b-133a-40ef-811a",
       "previous": "114febde-8370-11ee-91d3-0242ac120006-1-1df8"
      },
      {
       "current": "4b7f2a48-9a56-11ee-91d3-0242ac120006-2-bb17-498c",
       "next": "35c581ba-55a3-11e7-b0b2-00163e9c0e35-5-f60b-133a-40ef-811a-4740",
       "previous": "114febde-8370-11ee-91d3-0242ac120006-2-1df8-e370"
      },
      {
       "current": "4b7f2a48-9a56-11ee-91d3-0242ac120006-3-bb17-498c-b7ab",
       "next": "35c581ba-55a3-11e7-b0b2-00163e9c0e35-6-f60b-133a-40ef-811a-4740-0373",
       "previous": "114febde-8370-11ee-91d3-0242ac120006-3-1df8-e370-a699"
      }
     ],
     "next": "35c581ba-55a3-11e7-b0b2-00163e9c0e35-7-f60b-133a-40ef-811a-4740-0373-3976",
     "previous": "114febde-8370-11ee-91d3-0242ac120006-4-1df8-e370-a699-2c4c"
    }
   },
   "outputs": [],
   "source": [
    "!ansible -b -m shell -a \"cephadm shell -- ceph osd in osd.$recovery_osd_id\" bootstrap"
   ]
  },
  {
   "cell_type": "markdown",
   "metadata": {
    "collapsed": true,
    "lc_cell_meme": {
     "current": "35c581ba-55a3-11e7-b0b2-00163e9c0e35-7-f60b-133a-40ef-811a-4740-0373-3976",
     "history": [
      {
       "current": "35c581ba-55a3-11e7-b0b2-00163e9c0e35",
       "next": "35c58340-55a3-11e7-b0b2-00163e9c0e35",
       "previous": "35c58034-55a3-11e7-b0b2-00163e9c0e35"
      },
      {
       "current": "35c581ba-55a3-11e7-b0b2-00163e9c0e35",
       "next": "35c58340-55a3-11e7-b0b2-00163e9c0e35",
       "previous": "35c51928-55a3-11e7-b0b2-00163e9c0e35"
      },
      {
       "current": "35c581ba-55a3-11e7-b0b2-00163e9c0e35",
       "next": "35c58340-55a3-11e7-b0b2-00163e9c0e35",
       "previous": "277a614c-47b9-11ea-a028-0242ac120005"
      },
      {
       "current": "35c581ba-55a3-11e7-b0b2-00163e9c0e35",
       "next": "35c58340-55a3-11e7-b0b2-00163e9c0e35",
       "previous": "35c51928-55a3-11e7-b0b2-00163e9c0e35"
      },
      {
       "current": "35c581ba-55a3-11e7-b0b2-00163e9c0e35",
       "next": "35c58340-55a3-11e7-b0b2-00163e9c0e35",
       "previous": "b8a85906-47b6-11ea-a028-0242ac120005"
      },
      {
       "current": "35c581ba-55a3-11e7-b0b2-00163e9c0e35",
       "next": "35c58340-55a3-11e7-b0b2-00163e9c0e35",
       "previous": "35c38fae-55a3-11e7-b0b2-00163e9c0e35"
      },
      {
       "current": "35c581ba-55a3-11e7-b0b2-00163e9c0e35",
       "next": "35c58340-55a3-11e7-b0b2-00163e9c0e35",
       "previous": "35c385a4-55a3-11e7-b0b2-00163e9c0e35"
      },
      {
       "current": "35c581ba-55a3-11e7-b0b2-00163e9c0e35",
       "next": "35c58340-55a3-11e7-b0b2-00163e9c0e35",
       "previous": "27c39180-935b-11ea-8d02-0242ac120007"
      },
      {
       "current": "35c581ba-55a3-11e7-b0b2-00163e9c0e35",
       "next": "35c58340-55a3-11e7-b0b2-00163e9c0e35",
       "previous": "35c385a4-55a3-11e7-b0b2-00163e9c0e35"
      },
      {
       "current": "35c581ba-55a3-11e7-b0b2-00163e9c0e35",
       "next": "35c58340-55a3-11e7-b0b2-00163e9c0e35",
       "previous": "b20d6ace-9684-11ea-8d02-0242ac120007"
      },
      {
       "current": "35c581ba-55a3-11e7-b0b2-00163e9c0e35",
       "next": "35c58340-55a3-11e7-b0b2-00163e9c0e35",
       "previous": "18b837c6-9686-11ea-8d02-0242ac120007"
      },
      {
       "current": "35c581ba-55a3-11e7-b0b2-00163e9c0e35",
       "next": "35c58340-55a3-11e7-b0b2-00163e9c0e35",
       "previous": "59de09f6-9686-11ea-8d02-0242ac120007"
      },
      {
       "current": "35c581ba-55a3-11e7-b0b2-00163e9c0e35",
       "next": "35c58340-55a3-11e7-b0b2-00163e9c0e35",
       "previous": "7dae8b30-9686-11ea-8d02-0242ac120007"
      },
      {
       "current": "35c581ba-55a3-11e7-b0b2-00163e9c0e35",
       "next": "35c58340-55a3-11e7-b0b2-00163e9c0e35",
       "previous": "789942dc-9692-11ea-8d02-0242ac120007"
      },
      {
       "current": "35c581ba-55a3-11e7-b0b2-00163e9c0e35",
       "next": "35c58340-55a3-11e7-b0b2-00163e9c0e35",
       "previous": "e95d003a-9697-11ea-8d02-0242ac120007"
      },
      {
       "current": "35c581ba-55a3-11e7-b0b2-00163e9c0e35",
       "next": "35c58340-55a3-11e7-b0b2-00163e9c0e35",
       "previous": "357fc83a-969d-11ea-8d02-0242ac120007"
      },
      {
       "current": "35c581ba-55a3-11e7-b0b2-00163e9c0e35",
       "next": "35c58340-55a3-11e7-b0b2-00163e9c0e35",
       "previous": "7dae86da-9686-11ea-8d02-0242ac120007"
      },
      {
       "current": "35c581ba-55a3-11e7-b0b2-00163e9c0e35",
       "next": "35c58340-55a3-11e7-b0b2-00163e9c0e35",
       "previous": "49102d8c-98a9-11ea-8d02-0242ac120007"
      },
      {
       "current": "35c581ba-55a3-11e7-b0b2-00163e9c0e35",
       "next": "35c58340-55a3-11e7-b0b2-00163e9c0e35",
       "previous": "dbe917aa-9984-11ea-8d02-0242ac120007"
      },
      {
       "current": "35c581ba-55a3-11e7-b0b2-00163e9c0e35",
       "next": "35c58340-55a3-11e7-b0b2-00163e9c0e35",
       "previous": "f9f7c1a0-9985-11ea-8d02-0242ac120007"
      },
      {
       "current": "35c581ba-55a3-11e7-b0b2-00163e9c0e35",
       "next": "35c58340-55a3-11e7-b0b2-00163e9c0e35",
       "previous": "4180e646-9986-11ea-8d02-0242ac120007"
      },
      {
       "current": "35c581ba-55a3-11e7-b0b2-00163e9c0e35",
       "next": "35c58340-55a3-11e7-b0b2-00163e9c0e35",
       "previous": "eea7aafc-9987-11ea-8d02-0242ac120007"
      },
      {
       "current": "35c581ba-55a3-11e7-b0b2-00163e9c0e35",
       "next": "35c58340-55a3-11e7-b0b2-00163e9c0e35",
       "previous": "7db36be6-9988-11ea-8d02-0242ac120007"
      },
      {
       "current": "35c581ba-55a3-11e7-b0b2-00163e9c0e35",
       "next": "35c58340-55a3-11e7-b0b2-00163e9c0e35",
       "previous": "7db36a7e-9988-11ea-8d02-0242ac120007"
      },
      {
       "current": "35c581ba-55a3-11e7-b0b2-00163e9c0e35",
       "next": "35c58340-55a3-11e7-b0b2-00163e9c0e35",
       "previous": "f3e7d364-998e-11ea-8d02-0242ac120007"
      },
      {
       "current": "35c581ba-55a3-11e7-b0b2-00163e9c0e35-1-f60b",
       "next": "35c58340-55a3-11e7-b0b2-00163e9c0e35",
       "previous": "b0a33f46-98ce-11ea-8d02-0242ac120007"
      },
      {
       "current": "35c581ba-55a3-11e7-b0b2-00163e9c0e35-2-f60b-133a",
       "next": "35c58340-55a3-11e7-b0b2-00163e9c0e35-1-c0ce",
       "previous": "b0a33f46-98ce-11ea-8d02-0242ac120007-1-1e51"
      },
      {
       "current": "35c581ba-55a3-11e7-b0b2-00163e9c0e35-2-f60b-133a",
       "next": "35c58340-55a3-11e7-b0b2-00163e9c0e35-2-c0ce-9618",
       "previous": "b0a33f46-98ce-11ea-8d02-0242ac120007-2-1e51-b1e8"
      },
      {
       "current": "35c581ba-55a3-11e7-b0b2-00163e9c0e35-2-f60b-133a",
       "next": "35c58340-55a3-11e7-b0b2-00163e9c0e35-2-c0ce-9618",
       "previous": "d0769ffa-98bc-11ea-8d02-0242ac120007-2-9994-0723"
      },
      {
       "current": "35c581ba-55a3-11e7-b0b2-00163e9c0e35-2-f60b-133a",
       "next": "35c58340-55a3-11e7-b0b2-00163e9c0e35-2-c0ce-9618",
       "previous": "bc16cb02-dfce-11eb-b29f-0242ac120008"
      },
      {
       "current": "35c581ba-55a3-11e7-b0b2-00163e9c0e35-2-f60b-133a",
       "next": "35c58340-55a3-11e7-b0b2-00163e9c0e35-2-c0ce-9618",
       "previous": "7cf7d994-f4ea-11eb-b29f-0242ac120008"
      },
      {
       "current": "35c581ba-55a3-11e7-b0b2-00163e9c0e35-2-f60b-133a",
       "next": "35c58340-55a3-11e7-b0b2-00163e9c0e35-2-c0ce-9618",
       "previous": "204647a2-f4eb-11eb-b29f-0242ac120008"
      },
      {
       "current": "35c581ba-55a3-11e7-b0b2-00163e9c0e35-2-f60b-133a",
       "next": "35c58340-55a3-11e7-b0b2-00163e9c0e35-2-c0ce-9618",
       "previous": "798c29c4-9a06-11ec-a1da-0242ac120004"
      },
      {
       "current": "35c581ba-55a3-11e7-b0b2-00163e9c0e35-3-f60b-133a-40ef",
       "next": "35c58340-55a3-11e7-b0b2-00163e9c0e35-2-c0ce-9618",
       "previous": "204647a2-f4eb-11eb-b29f-0242ac120008"
      },
      {
       "current": "35c581ba-55a3-11e7-b0b2-00163e9c0e35-3-f60b-133a-40ef",
       "next": "35c58340-55a3-11e7-b0b2-00163e9c0e35-3-c0ce-9618-7032",
       "previous": "204647a2-f4eb-11eb-b29f-0242ac120008-1-10f9"
      },
      {
       "current": "35c581ba-55a3-11e7-b0b2-00163e9c0e35-3-f60b-133a-40ef",
       "next": "35c58340-55a3-11e7-b0b2-00163e9c0e35-3-c0ce-9618-7032",
       "previous": "3c6cb112-4bb2-11ee-89fa-0242ac120005"
      },
      {
       "current": "35c581ba-55a3-11e7-b0b2-00163e9c0e35-3-f60b-133a-40ef",
       "next": "35c58340-55a3-11e7-b0b2-00163e9c0e35-3-c0ce-9618-7032",
       "previous": "d619a970-6195-11ee-89fa-0242ac120005"
      },
      {
       "current": "35c581ba-55a3-11e7-b0b2-00163e9c0e35-3-f60b-133a-40ef",
       "next": "35c58340-55a3-11e7-b0b2-00163e9c0e35-3-c0ce-9618-7032",
       "previous": "d954180a-61bd-11ee-89fa-0242ac120005"
      },
      {
       "current": "35c581ba-55a3-11e7-b0b2-00163e9c0e35-3-f60b-133a-40ef",
       "next": "35c58340-55a3-11e7-b0b2-00163e9c0e35-3-c0ce-9618-7032",
       "previous": "8f9c98ce-716a-11ee-89fa-0242ac120005"
      },
      {
       "current": "35c581ba-55a3-11e7-b0b2-00163e9c0e35-3-f60b-133a-40ef",
       "next": "35c58340-55a3-11e7-b0b2-00163e9c0e35-3-c0ce-9618-7032",
       "previous": "3ce444ae-716c-11ee-89fa-0242ac120005"
      },
      {
       "current": "35c581ba-55a3-11e7-b0b2-00163e9c0e35-3-f60b-133a-40ef",
       "next": "35c58340-55a3-11e7-b0b2-00163e9c0e35-3-c0ce-9618-7032",
       "previous": "31f71398-7877-11ee-89fa-0242ac120005"
      },
      {
       "current": "35c581ba-55a3-11e7-b0b2-00163e9c0e35-3-f60b-133a-40ef",
       "next": "35c58340-55a3-11e7-b0b2-00163e9c0e35-3-c0ce-9618-7032",
       "previous": "8c52f84a-787a-11ee-89fa-0242ac120005"
      },
      {
       "current": "35c581ba-55a3-11e7-b0b2-00163e9c0e35-3-f60b-133a-40ef",
       "next": "35c58340-55a3-11e7-b0b2-00163e9c0e35-3-c0ce-9618-7032",
       "previous": "d15989fa-7888-11ee-89fa-0242ac120005"
      },
      {
       "current": "35c581ba-55a3-11e7-b0b2-00163e9c0e35-3-f60b-133a-40ef",
       "next": "35c58340-55a3-11e7-b0b2-00163e9c0e35-3-c0ce-9618-7032",
       "previous": "180f42ec-7d14-11ee-89fa-0242ac120005"
      },
      {
       "current": "35c581ba-55a3-11e7-b0b2-00163e9c0e35-3-f60b-133a-40ef",
       "next": "35c58340-55a3-11e7-b0b2-00163e9c0e35-3-c0ce-9618-7032",
       "previous": "d15989fa-7888-11ee-89fa-0242ac120005"
      },
      {
       "current": "35c581ba-55a3-11e7-b0b2-00163e9c0e35-3-f60b-133a-40ef",
       "next": "35c58340-55a3-11e7-b0b2-00163e9c0e35-3-c0ce-9618-7032",
       "previous": "0f18571c-7d16-11ee-89fa-0242ac120005"
      },
      {
       "current": "35c581ba-55a3-11e7-b0b2-00163e9c0e35-3-f60b-133a-40ef",
       "next": "35c58340-55a3-11e7-b0b2-00163e9c0e35-3-c0ce-9618-7032",
       "previous": "61a21452-8359-11ee-91d3-0242ac120006"
      },
      {
       "current": "35c581ba-55a3-11e7-b0b2-00163e9c0e35-3-f60b-133a-40ef",
       "next": "35c58340-55a3-11e7-b0b2-00163e9c0e35-3-c0ce-9618-7032",
       "previous": "3ab0e4b6-836f-11ee-91d3-0242ac120006"
      },
      {
       "current": "35c581ba-55a3-11e7-b0b2-00163e9c0e35-4-f60b-133a-40ef-811a",
       "next": "35c58340-55a3-11e7-b0b2-00163e9c0e35-3-c0ce-9618-7032",
       "previous": "114febde-8370-11ee-91d3-0242ac120006"
      },
      {
       "current": "35c581ba-55a3-11e7-b0b2-00163e9c0e35-4-f60b-133a-40ef-811a",
       "next": "35c58340-55a3-11e7-b0b2-00163e9c0e35-4-c0ce-9618-7032-229f",
       "previous": "114febde-8370-11ee-91d3-0242ac120006-1-1df8"
      },
      {
       "current": "35c581ba-55a3-11e7-b0b2-00163e9c0e35-5-f60b-133a-40ef-811a-4740",
       "next": "35c58340-55a3-11e7-b0b2-00163e9c0e35-4-c0ce-9618-7032-229f",
       "previous": "4b7f2a48-9a56-11ee-91d3-0242ac120006"
      },
      {
       "current": "35c581ba-55a3-11e7-b0b2-00163e9c0e35-6-f60b-133a-40ef-811a-4740-0373",
       "next": "35c58340-55a3-11e7-b0b2-00163e9c0e35-5-c0ce-9618-7032-229f-6ef9",
       "previous": "4b7f2a48-9a56-11ee-91d3-0242ac120006-1-bb17"
      },
      {
       "current": "35c581ba-55a3-11e7-b0b2-00163e9c0e35-7-f60b-133a-40ef-811a-4740-0373-3976",
       "next": "35c58340-55a3-11e7-b0b2-00163e9c0e35-6-c0ce-9618-7032-229f-6ef9-4dea",
       "previous": "4b7f2a48-9a56-11ee-91d3-0242ac120006-2-bb17-498c"
      }
     ],
     "next": "35c58340-55a3-11e7-b0b2-00163e9c0e35-7-c0ce-9618-7032-229f-6ef9-4dea-7a35",
     "previous": "4b7f2a48-9a56-11ee-91d3-0242ac120006-3-bb17-498c-b7ab"
    }
   },
   "source": [
    "# 後始末\n",
    "\n",
    "一時ディレクトリを削除する。"
   ]
  },
  {
   "cell_type": "code",
   "execution_count": null,
   "metadata": {
    "ExecuteTime": {
     "end_time": "2017-06-29T08:01:20.617274Z",
     "start_time": "2017-06-29T08:01:20.466671Z"
    },
    "lc_cell_meme": {
     "current": "35c58340-55a3-11e7-b0b2-00163e9c0e35-7-c0ce-9618-7032-229f-6ef9-4dea-7a35",
     "history": [
      {
       "current": "35c58340-55a3-11e7-b0b2-00163e9c0e35",
       "next": null,
       "previous": "35c581ba-55a3-11e7-b0b2-00163e9c0e35"
      },
      {
       "current": "35c58340-55a3-11e7-b0b2-00163e9c0e35-1-c0ce",
       "next": "c4bd8ce4-5749-11e7-b0b2-00163e9c0e35",
       "previous": "35c581ba-55a3-11e7-b0b2-00163e9c0e35"
      },
      {
       "current": "35c58340-55a3-11e7-b0b2-00163e9c0e35-2-c0ce-9618",
       "next": "c4bd8ce4-5749-11e7-b0b2-00163e9c0e35-1-6c35",
       "previous": "35c581ba-55a3-11e7-b0b2-00163e9c0e35-1-f60b"
      },
      {
       "current": "35c58340-55a3-11e7-b0b2-00163e9c0e35-3-c0ce-9618-7032",
       "next": "c4bd8ce4-5749-11e7-b0b2-00163e9c0e35-2-6c35-ebfb",
       "previous": "35c581ba-55a3-11e7-b0b2-00163e9c0e35-2-f60b-133a"
      },
      {
       "current": "35c58340-55a3-11e7-b0b2-00163e9c0e35-4-c0ce-9618-7032-229f",
       "next": "c4bd8ce4-5749-11e7-b0b2-00163e9c0e35-3-6c35-ebfb-793f",
       "previous": "35c581ba-55a3-11e7-b0b2-00163e9c0e35-3-f60b-133a-40ef"
      },
      {
       "current": "35c58340-55a3-11e7-b0b2-00163e9c0e35-5-c0ce-9618-7032-229f-6ef9",
       "next": "c4bd8ce4-5749-11e7-b0b2-00163e9c0e35-4-6c35-ebfb-793f-d486",
       "previous": "35c581ba-55a3-11e7-b0b2-00163e9c0e35-4-f60b-133a-40ef-811a"
      },
      {
       "current": "35c58340-55a3-11e7-b0b2-00163e9c0e35-6-c0ce-9618-7032-229f-6ef9-4dea",
       "next": "c4bd8ce4-5749-11e7-b0b2-00163e9c0e35-5-6c35-ebfb-793f-d486-f728",
       "previous": "35c581ba-55a3-11e7-b0b2-00163e9c0e35-5-f60b-133a-40ef-811a-4740"
      },
      {
       "current": "35c58340-55a3-11e7-b0b2-00163e9c0e35-7-c0ce-9618-7032-229f-6ef9-4dea-7a35",
       "next": "c4bd8ce4-5749-11e7-b0b2-00163e9c0e35-6-6c35-ebfb-793f-d486-f728-4e5e",
       "previous": "35c581ba-55a3-11e7-b0b2-00163e9c0e35-6-f60b-133a-40ef-811a-4740-0373"
      }
     ],
     "next": "c4bd8ce4-5749-11e7-b0b2-00163e9c0e35-7-6c35-ebfb-793f-d486-f728-4e5e-a1b1",
     "previous": "35c581ba-55a3-11e7-b0b2-00163e9c0e35-7-f60b-133a-40ef-811a-4740-0373-3976"
    }
   },
   "outputs": [],
   "source": [
    "!rm -fr $temp_dir"
   ]
  },
  {
   "cell_type": "code",
   "execution_count": null,
   "metadata": {
    "lc_cell_meme": {
     "current": "c4bd8ce4-5749-11e7-b0b2-00163e9c0e35-7-6c35-ebfb-793f-d486-f728-4e5e-a1b1",
     "history": [
      {
       "current": "c4bd8ce4-5749-11e7-b0b2-00163e9c0e35-1-6c35",
       "next": null,
       "previous": "35c58340-55a3-11e7-b0b2-00163e9c0e35"
      },
      {
       "current": "c4bd8ce4-5749-11e7-b0b2-00163e9c0e35-2-6c35-ebfb",
       "next": null,
       "previous": "35c58340-55a3-11e7-b0b2-00163e9c0e35-1-c0ce"
      },
      {
       "current": "c4bd8ce4-5749-11e7-b0b2-00163e9c0e35-3-6c35-ebfb-793f",
       "next": null,
       "previous": "35c58340-55a3-11e7-b0b2-00163e9c0e35-2-c0ce-9618"
      },
      {
       "current": "c4bd8ce4-5749-11e7-b0b2-00163e9c0e35-4-6c35-ebfb-793f-d486",
       "next": null,
       "previous": "35c58340-55a3-11e7-b0b2-00163e9c0e35-3-c0ce-9618-7032"
      },
      {
       "current": "c4bd8ce4-5749-11e7-b0b2-00163e9c0e35-5-6c35-ebfb-793f-d486-f728",
       "next": null,
       "previous": "35c58340-55a3-11e7-b0b2-00163e9c0e35-4-c0ce-9618-7032-229f"
      },
      {
       "current": "c4bd8ce4-5749-11e7-b0b2-00163e9c0e35-6-6c35-ebfb-793f-d486-f728-4e5e",
       "next": null,
       "previous": "35c58340-55a3-11e7-b0b2-00163e9c0e35-5-c0ce-9618-7032-229f-6ef9"
      },
      {
       "current": "c4bd8ce4-5749-11e7-b0b2-00163e9c0e35-7-6c35-ebfb-793f-d486-f728-4e5e-a1b1",
       "next": null,
       "previous": "35c58340-55a3-11e7-b0b2-00163e9c0e35-6-c0ce-9618-7032-229f-6ef9-4dea"
      }
     ],
     "next": null,
     "previous": "35c58340-55a3-11e7-b0b2-00163e9c0e35-7-c0ce-9618-7032-229f-6ef9-4dea-7a35"
    }
   },
   "outputs": [],
   "source": []
  }
 ],
 "metadata": {
  "kernelspec": {
   "display_name": "Python 3",
   "language": "python",
   "name": "python3"
  },
  "language_info": {
   "file_extension": ".py",
   "mimetype": "text/x-python",
   "name": "python",
   "nbconvert_exporter": "python",
   "pygments_lexer": "ipython3",
   "version": "3.10.4"
  },
  "lc_notebook_meme": {
   "current": "35c33086-55a3-11e7-b0b2-00163e9c0e35"
  },
  "toc": {
   "base_numbering": 1,
   "nav_menu": {
    "height": "484px",
    "width": "687px"
   },
   "number_sections": true,
   "sideBar": true,
   "skip_h1_title": false,
   "title_cell": "Table of Contents",
   "title_sidebar": "Contents",
   "toc_cell": false,
   "toc_position": {
    "height": "1156px",
    "left": "0px",
    "right": "1330px",
    "top": "106px",
    "width": "340.983px"
   },
   "toc_section_display": "block",
   "toc_window_display": true
  }
 },
 "nbformat": 4,
 "nbformat_minor": 1
}
