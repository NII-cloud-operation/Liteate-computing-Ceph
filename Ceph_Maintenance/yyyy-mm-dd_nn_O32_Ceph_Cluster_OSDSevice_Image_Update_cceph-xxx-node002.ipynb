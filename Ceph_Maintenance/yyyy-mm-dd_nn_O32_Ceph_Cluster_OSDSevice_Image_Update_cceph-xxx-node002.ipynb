{
 "cells": [
  {
   "cell_type": "markdown",
   "metadata": {
    "collapsed": true,
    "lc_cell_meme": {
     "current": "35c33414-55a3-11e7-b0b2-00163e9c0e35-6-1c66-a2f2-b876-6b2b-7981-18cf",
     "history": [
      {
       "current": "35c33414-55a3-11e7-b0b2-00163e9c0e35",
       "next": "35c33626-55a3-11e7-b0b2-00163e9c0e35",
       "previous": null
      },
      {
       "current": "35c33414-55a3-11e7-b0b2-00163e9c0e35",
       "next": "35c33626-55a3-11e7-b0b2-00163e9c0e35",
       "previous": null
      },
      {
       "current": "35c33414-55a3-11e7-b0b2-00163e9c0e35",
       "next": "35c33626-55a3-11e7-b0b2-00163e9c0e35",
       "previous": "0db87670-9586-11ea-8d02-0242ac120007"
      },
      {
       "current": "35c33414-55a3-11e7-b0b2-00163e9c0e35-1-1c66",
       "next": "35c337f2-55a3-11e7-b0b2-00163e9c0e35",
       "previous": null
      },
      {
       "current": "35c33414-55a3-11e7-b0b2-00163e9c0e35-2-1c66-a2f2",
       "next": "35c337f2-55a3-11e7-b0b2-00163e9c0e35-1-dc7a",
       "previous": null
      },
      {
       "current": "35c33414-55a3-11e7-b0b2-00163e9c0e35-2-1c66-a2f2",
       "next": "35c337f2-55a3-11e7-b0b2-00163e9c0e35-2-dc7a-5832",
       "previous": null
      },
      {
       "current": "35c33414-55a3-11e7-b0b2-00163e9c0e35-3-1c66-a2f2-b876",
       "next": "37fd6298-56f9-11ec-a1da-0242ac120004-1-399a",
       "previous": null
      },
      {
       "current": "35c33414-55a3-11e7-b0b2-00163e9c0e35-4-1c66-a2f2-b876-6b2b",
       "next": "37fd6298-56f9-11ec-a1da-0242ac120004-2-399a-be9e",
       "previous": null
      },
      {
       "current": "35c33414-55a3-11e7-b0b2-00163e9c0e35-5-1c66-a2f2-b876-6b2b-7981",
       "next": "37fd6298-56f9-11ec-a1da-0242ac120004-3-399a-be9e-a6d3",
       "previous": null
      },
      {
       "current": "35c33414-55a3-11e7-b0b2-00163e9c0e35-6-1c66-a2f2-b876-6b2b-7981-18cf",
       "next": "37fd6298-56f9-11ec-a1da-0242ac120004-4-399a-be9e-a6d3-c453",
       "previous": null
      }
     ],
     "next": "37fd6298-56f9-11ec-a1da-0242ac120004-5-399a-be9e-a6d3-c453-0b1c",
     "previous": null
    }
   },
   "source": [
    "# Cephノード運用：Cephクラスタ OSDサービスUpdate\n",
    "Cephクラスタを構成するサービスであるOSDのイメージ更新を行う。\n",
    "\n"
   ]
  },
  {
   "cell_type": "markdown",
   "metadata": {
    "lc_cell_meme": {
     "current": "37fd6298-56f9-11ec-a1da-0242ac120004-5-399a-be9e-a6d3-c453-0b1c",
     "history": [
      {
       "current": "37fd6298-56f9-11ec-a1da-0242ac120004-1-399a",
       "next": "37fd65a4-56f9-11ec-a1da-0242ac120004",
       "previous": "35c337f2-55a3-11e7-b0b2-00163e9c0e35-1-dc7a"
      },
      {
       "current": "37fd6298-56f9-11ec-a1da-0242ac120004-1-399a",
       "next": "37fd65a4-56f9-11ec-a1da-0242ac120004-1-0c3c",
       "previous": "35c337f2-55a3-11e7-b0b2-00163e9c0e35-2-dc7a-5832"
      },
      {
       "current": "37fd6298-56f9-11ec-a1da-0242ac120004-2-399a-be9e",
       "next": "37fd65a4-56f9-11ec-a1da-0242ac120004-1-0c3c",
       "previous": "35c33414-55a3-11e7-b0b2-00163e9c0e35-2-1c66-a2f2"
      },
      {
       "current": "37fd6298-56f9-11ec-a1da-0242ac120004-3-399a-be9e-a6d3",
       "next": "37fd65a4-56f9-11ec-a1da-0242ac120004-2-0c3c-42cf",
       "previous": "35c33414-55a3-11e7-b0b2-00163e9c0e35-3-1c66-a2f2-b876"
      },
      {
       "current": "37fd6298-56f9-11ec-a1da-0242ac120004-4-399a-be9e-a6d3-c453",
       "next": "37fd65a4-56f9-11ec-a1da-0242ac120004-3-0c3c-42cf-6484",
       "previous": "35c33414-55a3-11e7-b0b2-00163e9c0e35-4-1c66-a2f2-b876-6b2b"
      },
      {
       "current": "37fd6298-56f9-11ec-a1da-0242ac120004-5-399a-be9e-a6d3-c453-0b1c",
       "next": "37fd65a4-56f9-11ec-a1da-0242ac120004-4-0c3c-42cf-6484-b56a",
       "previous": "35c33414-55a3-11e7-b0b2-00163e9c0e35-5-1c66-a2f2-b876-6b2b-7981"
      }
     ],
     "next": "37fd65a4-56f9-11ec-a1da-0242ac120004-5-0c3c-42cf-6484-b56a-8e69",
     "previous": "35c33414-55a3-11e7-b0b2-00163e9c0e35-6-1c66-a2f2-b876-6b2b-7981-18cf"
    }
   },
   "source": [
    "# パラメータ定義"
   ]
  },
  {
   "cell_type": "markdown",
   "metadata": {
    "lc_cell_meme": {
     "current": "37fd65a4-56f9-11ec-a1da-0242ac120004-5-0c3c-42cf-6484-b56a-8e69",
     "history": [
      {
       "current": "37fd65a4-56f9-11ec-a1da-0242ac120004-1-0c3c",
       "next": "37fd681a-56f9-11ec-a1da-0242ac120004",
       "previous": "37fd6298-56f9-11ec-a1da-0242ac120004"
      },
      {
       "current": "37fd65a4-56f9-11ec-a1da-0242ac120004-2-0c3c-42cf",
       "next": "37fd681a-56f9-11ec-a1da-0242ac120004-1-b4aa",
       "previous": "37fd6298-56f9-11ec-a1da-0242ac120004-1-399a"
      },
      {
       "current": "37fd65a4-56f9-11ec-a1da-0242ac120004-3-0c3c-42cf-6484",
       "next": "37fd681a-56f9-11ec-a1da-0242ac120004-2-b4aa-30a2",
       "previous": "37fd6298-56f9-11ec-a1da-0242ac120004-2-399a-be9e"
      },
      {
       "current": "37fd65a4-56f9-11ec-a1da-0242ac120004-4-0c3c-42cf-6484-b56a",
       "next": "37fd681a-56f9-11ec-a1da-0242ac120004-3-b4aa-30a2-1292",
       "previous": "37fd6298-56f9-11ec-a1da-0242ac120004-3-399a-be9e-a6d3"
      },
      {
       "current": "37fd65a4-56f9-11ec-a1da-0242ac120004-5-0c3c-42cf-6484-b56a-8e69",
       "next": "37fd681a-56f9-11ec-a1da-0242ac120004-4-b4aa-30a2-1292-19af",
       "previous": "37fd6298-56f9-11ec-a1da-0242ac120004-4-399a-be9e-a6d3-c453"
      }
     ],
     "next": "37fd681a-56f9-11ec-a1da-0242ac120004-5-b4aa-30a2-1292-19af-ab7a",
     "previous": "37fd6298-56f9-11ec-a1da-0242ac120004-5-399a-be9e-a6d3-c453-0b1c"
    }
   },
   "source": [
    "## パラメータファイル設定"
   ]
  },
  {
   "cell_type": "markdown",
   "metadata": {
    "lc_cell_meme": {
     "current": "37fd681a-56f9-11ec-a1da-0242ac120004-5-b4aa-30a2-1292-19af-ab7a",
     "history": [
      {
       "current": "37fd681a-56f9-11ec-a1da-0242ac120004-1-b4aa",
       "next": "37fd6996-56f9-11ec-a1da-0242ac120004",
       "previous": "37fd65a4-56f9-11ec-a1da-0242ac120004"
      },
      {
       "current": "37fd681a-56f9-11ec-a1da-0242ac120004-2-b4aa-30a2",
       "next": "37fd6996-56f9-11ec-a1da-0242ac120004-1-d6f6",
       "previous": "37fd65a4-56f9-11ec-a1da-0242ac120004-1-0c3c"
      },
      {
       "current": "37fd681a-56f9-11ec-a1da-0242ac120004-3-b4aa-30a2-1292",
       "next": "37fd6996-56f9-11ec-a1da-0242ac120004-2-d6f6-cb1a",
       "previous": "37fd65a4-56f9-11ec-a1da-0242ac120004-2-0c3c-42cf"
      },
      {
       "current": "37fd681a-56f9-11ec-a1da-0242ac120004-4-b4aa-30a2-1292-19af",
       "next": "7b504ac8-22fe-11ef-ad2f-0242ac120005",
       "previous": "37fd65a4-56f9-11ec-a1da-0242ac120004-3-0c3c-42cf-6484"
      },
      {
       "current": "37fd681a-56f9-11ec-a1da-0242ac120004-5-b4aa-30a2-1292-19af-ab7a",
       "next": "7b504ac8-22fe-11ef-ad2f-0242ac120005-1-7ede",
       "previous": "37fd65a4-56f9-11ec-a1da-0242ac120004-4-0c3c-42cf-6484-b56a"
      }
     ],
     "next": "7b504ac8-22fe-11ef-ad2f-0242ac120005-2-7ede-b7dc",
     "previous": "37fd65a4-56f9-11ec-a1da-0242ac120004-5-0c3c-42cf-6484-b56a-8e69"
    }
   },
   "source": [
    "Cephクラスタの定義ファイルを指定するため、<br>\n",
    "パラメータ定義格納ディレクトリを表示する。"
   ]
  },
  {
   "cell_type": "code",
   "execution_count": null,
   "metadata": {
    "lc_cell_meme": {
     "current": "7b504ac8-22fe-11ef-ad2f-0242ac120005-2-7ede-b7dc",
     "history": [
      {
       "current": "7b504ac8-22fe-11ef-ad2f-0242ac120005-1-7ede",
       "next": "7b504bae-22fe-11ef-ad2f-0242ac120005",
       "previous": "37fd681a-56f9-11ec-a1da-0242ac120004-3-b4aa-30a2-1292"
      },
      {
       "current": "7b504ac8-22fe-11ef-ad2f-0242ac120005-2-7ede-b7dc",
       "next": "7b504bae-22fe-11ef-ad2f-0242ac120005-1-23e4",
       "previous": "37fd681a-56f9-11ec-a1da-0242ac120004-4-b4aa-30a2-1292-19af"
      }
     ],
     "next": "7b504bae-22fe-11ef-ad2f-0242ac120005-2-23e4-a61e",
     "previous": "37fd681a-56f9-11ec-a1da-0242ac120004-5-b4aa-30a2-1292-19af-ab7a"
    }
   },
   "outputs": [],
   "source": [
    "!ls -p ~/notebooks/share/ | grep \"/$\""
   ]
  },
  {
   "cell_type": "code",
   "execution_count": null,
   "metadata": {
    "lc_cell_meme": {
     "current": "7b504bae-22fe-11ef-ad2f-0242ac120005-2-23e4-a61e",
     "history": [
      {
       "current": "7b504bae-22fe-11ef-ad2f-0242ac120005-1-23e4",
       "next": "7b504bea-22fe-11ef-ad2f-0242ac120005",
       "previous": "7b504ac8-22fe-11ef-ad2f-0242ac120005"
      },
      {
       "current": "7b504bae-22fe-11ef-ad2f-0242ac120005-2-23e4-a61e",
       "next": "7b504bea-22fe-11ef-ad2f-0242ac120005-1-7510",
       "previous": "7b504ac8-22fe-11ef-ad2f-0242ac120005-1-7ede"
      }
     ],
     "next": "7b504bea-22fe-11ef-ad2f-0242ac120005-2-7510-01cc",
     "previous": "7b504ac8-22fe-11ef-ad2f-0242ac120005-2-7ede-b7dc"
    }
   },
   "outputs": [],
   "source": [
    "!ls -p ~/notebooks/share/configuration"
   ]
  },
  {
   "cell_type": "code",
   "execution_count": null,
   "metadata": {
    "lc_cell_meme": {
     "current": "7b504bea-22fe-11ef-ad2f-0242ac120005-2-7510-01cc",
     "history": [
      {
       "current": "7b504bea-22fe-11ef-ad2f-0242ac120005-1-7510",
       "next": "7b504c08-22fe-11ef-ad2f-0242ac120005",
       "previous": "7b504bae-22fe-11ef-ad2f-0242ac120005"
      },
      {
       "current": "7b504bea-22fe-11ef-ad2f-0242ac120005-2-7510-01cc",
       "next": "7b504c08-22fe-11ef-ad2f-0242ac120005-1-69ca",
       "previous": "7b504bae-22fe-11ef-ad2f-0242ac120005-1-23e4"
      }
     ],
     "next": "7b504c08-22fe-11ef-ad2f-0242ac120005-2-69ca-1a82",
     "previous": "7b504bae-22fe-11ef-ad2f-0242ac120005-2-23e4-a61e"
    }
   },
   "outputs": [],
   "source": [
    "!ls -p ~/notebooks/share/configuration/ceph"
   ]
  },
  {
   "cell_type": "code",
   "execution_count": null,
   "metadata": {
    "lc_cell_meme": {
     "current": "7b504c08-22fe-11ef-ad2f-0242ac120005-2-69ca-1a82",
     "history": [
      {
       "current": "7b504c08-22fe-11ef-ad2f-0242ac120005-1-69ca",
       "next": "7b504c30-22fe-11ef-ad2f-0242ac120005",
       "previous": "7b504bea-22fe-11ef-ad2f-0242ac120005"
      },
      {
       "current": "7b504c08-22fe-11ef-ad2f-0242ac120005-2-69ca-1a82",
       "next": "7b504c30-22fe-11ef-ad2f-0242ac120005-1-f59b",
       "previous": "7b504bea-22fe-11ef-ad2f-0242ac120005-1-7510"
      }
     ],
     "next": "7b504c30-22fe-11ef-ad2f-0242ac120005-2-f59b-3799",
     "previous": "7b504bea-22fe-11ef-ad2f-0242ac120005-2-7510-01cc"
    }
   },
   "outputs": [],
   "source": [
    "import sys, os.path, importlib, json, yaml\n",
    "\n",
    "config_file_name = \"ceph_admin_vm.yml\"\n",
    "config_file_path = os.path.expanduser(\"~/notebooks/share/configuration/ceph/{}\".format(config_file_name))\n",
    "with open(config_file_path) as f:\n",
    "    admin_params = yaml.safe_load(f)\n",
    "admin_params"
   ]
  },
  {
   "cell_type": "code",
   "execution_count": null,
   "metadata": {
    "lc_cell_meme": {
     "current": "7b504c30-22fe-11ef-ad2f-0242ac120005-2-f59b-3799",
     "history": [
      {
       "current": "7b504c30-22fe-11ef-ad2f-0242ac120005-1-f59b",
       "next": "7b504c58-22fe-11ef-ad2f-0242ac120005",
       "previous": "7b504c08-22fe-11ef-ad2f-0242ac120005"
      },
      {
       "current": "7b504c30-22fe-11ef-ad2f-0242ac120005-2-f59b-3799",
       "next": "7b504c58-22fe-11ef-ad2f-0242ac120005-1-e349",
       "previous": "7b504c08-22fe-11ef-ad2f-0242ac120005-1-69ca"
      }
     ],
     "next": "7b504c58-22fe-11ef-ad2f-0242ac120005-2-e349-5513",
     "previous": "7b504c08-22fe-11ef-ad2f-0242ac120005-2-69ca-1a82"
    }
   },
   "outputs": [],
   "source": [
    "target_vm_name = 'xxx-ceph-admin1'\n",
    "admin_patam = admin_params[target_vm_name]\n",
    "admin_patam"
   ]
  },
  {
   "cell_type": "code",
   "execution_count": null,
   "metadata": {
    "lc_cell_meme": {
     "current": "7b504c58-22fe-11ef-ad2f-0242ac120005-2-e349-5513",
     "history": [
      {
       "current": "7b504c58-22fe-11ef-ad2f-0242ac120005-1-e349",
       "next": "7b504c76-22fe-11ef-ad2f-0242ac120005",
       "previous": "7b504c30-22fe-11ef-ad2f-0242ac120005"
      },
      {
       "current": "7b504c58-22fe-11ef-ad2f-0242ac120005-2-e349-5513",
       "next": "7b504c76-22fe-11ef-ad2f-0242ac120005-1-45b2",
       "previous": "7b504c30-22fe-11ef-ad2f-0242ac120005-1-f59b"
      }
     ],
     "next": "7b504c76-22fe-11ef-ad2f-0242ac120005-2-45b2-a460",
     "previous": "7b504c30-22fe-11ef-ad2f-0242ac120005-2-f59b-3799"
    }
   },
   "outputs": [],
   "source": [
    "ceph_admin_ip = admin_patam['network']['provisioning']['ip']"
   ]
  },
  {
   "cell_type": "code",
   "execution_count": null,
   "metadata": {
    "lc_cell_meme": {
     "current": "7b504c76-22fe-11ef-ad2f-0242ac120005-2-45b2-a460",
     "history": [
      {
       "current": "7b504c76-22fe-11ef-ad2f-0242ac120005-1-45b2",
       "next": "7b504c9e-22fe-11ef-ad2f-0242ac120005",
       "previous": "7b504c58-22fe-11ef-ad2f-0242ac120005"
      },
      {
       "current": "7b504c76-22fe-11ef-ad2f-0242ac120005-2-45b2-a460",
       "next": "7b504c9e-22fe-11ef-ad2f-0242ac120005-1-b052",
       "previous": "7b504c58-22fe-11ef-ad2f-0242ac120005-1-e349"
      }
     ],
     "next": "7b504c9e-22fe-11ef-ad2f-0242ac120005-2-b052-fcfb",
     "previous": "7b504c58-22fe-11ef-ad2f-0242ac120005-2-e349-5513"
    }
   },
   "outputs": [],
   "source": [
    "import sys, os.path, importlib, json, yaml\n",
    "\n",
    "config_file_name = \"xxx-openstack-parameter.yml\"\n",
    "config_file_path = os.path.expanduser(\"~/notebooks/share/configuration/{}\".format(config_file_name))\n",
    "with open(config_file_path) as f:\n",
    "    params = yaml.safe_load(f)\n",
    "params"
   ]
  },
  {
   "cell_type": "code",
   "execution_count": null,
   "metadata": {
    "lc_cell_meme": {
     "current": "7b504c9e-22fe-11ef-ad2f-0242ac120005-2-b052-fcfb",
     "history": [
      {
       "current": "7b504c9e-22fe-11ef-ad2f-0242ac120005-1-b052",
       "next": "7b504cbc-22fe-11ef-ad2f-0242ac120005",
       "previous": "7b504c76-22fe-11ef-ad2f-0242ac120005"
      },
      {
       "current": "7b504c9e-22fe-11ef-ad2f-0242ac120005-2-b052-fcfb",
       "next": "7b504cbc-22fe-11ef-ad2f-0242ac120005-1-7788",
       "previous": "7b504c76-22fe-11ef-ad2f-0242ac120005-1-45b2"
      }
     ],
     "next": "7b504cbc-22fe-11ef-ad2f-0242ac120005-2-7788-b43c",
     "previous": "7b504c76-22fe-11ef-ad2f-0242ac120005-2-45b2-a460"
    }
   },
   "outputs": [],
   "source": [
    "repo_server = params['repository']['addresses']['service_operation']\n",
    "repo_server"
   ]
  },
  {
   "cell_type": "code",
   "execution_count": null,
   "metadata": {
    "lc_cell_meme": {
     "current": "7b504cbc-22fe-11ef-ad2f-0242ac120005-2-7788-b43c",
     "history": [
      {
       "current": "7b504cbc-22fe-11ef-ad2f-0242ac120005-1-7788",
       "next": "7b504ce4-22fe-11ef-ad2f-0242ac120005",
       "previous": "7b504c9e-22fe-11ef-ad2f-0242ac120005"
      },
      {
       "current": "7b504cbc-22fe-11ef-ad2f-0242ac120005-2-7788-b43c",
       "next": "7b504ce4-22fe-11ef-ad2f-0242ac120005-1-a9cc",
       "previous": "7b504c9e-22fe-11ef-ad2f-0242ac120005-1-b052"
      }
     ],
     "next": "7b504ce4-22fe-11ef-ad2f-0242ac120005-2-a9cc-eba4",
     "previous": "7b504c9e-22fe-11ef-ad2f-0242ac120005-2-b052-fcfb"
    }
   },
   "outputs": [],
   "source": [
    "provisioning_vip = params['openstack']['provisioning_vip']\n",
    "provisioning_vip"
   ]
  },
  {
   "cell_type": "code",
   "execution_count": null,
   "metadata": {
    "lc_cell_meme": {
     "current": "7b504ce4-22fe-11ef-ad2f-0242ac120005-2-a9cc-eba4",
     "history": [
      {
       "current": "7b504ce4-22fe-11ef-ad2f-0242ac120005-1-a9cc",
       "next": "37fd7fe4-56f9-11ec-a1da-0242ac120004-4-e08c-554e-6842-7f95",
       "previous": "7b504cbc-22fe-11ef-ad2f-0242ac120005"
      },
      {
       "current": "7b504ce4-22fe-11ef-ad2f-0242ac120005-2-a9cc-eba4",
       "next": "37fd7fe4-56f9-11ec-a1da-0242ac120004-5-e08c-554e-6842-7f95-8959",
       "previous": "7b504cbc-22fe-11ef-ad2f-0242ac120005-1-7788"
      }
     ],
     "next": "37fd7fe4-56f9-11ec-a1da-0242ac120004-6-e08c-554e-6842-7f95-8959-cea3",
     "previous": "7b504cbc-22fe-11ef-ad2f-0242ac120005-2-7788-b43c"
    }
   },
   "outputs": [],
   "source": []
  },
  {
   "cell_type": "markdown",
   "metadata": {
    "lc_cell_meme": {
     "current": "37fd7fe4-56f9-11ec-a1da-0242ac120004-6-e08c-554e-6842-7f95-8959-cea3",
     "history": [
      {
       "current": "37fd7fe4-56f9-11ec-a1da-0242ac120004-1-e08c",
       "next": "37fd8138-56f9-11ec-a1da-0242ac120004",
       "previous": "37fd7e90-56f9-11ec-a1da-0242ac120004"
      },
      {
       "current": "37fd7fe4-56f9-11ec-a1da-0242ac120004-2-e08c-554e",
       "next": "7f8980ba-56f9-11ec-a1da-0242ac120004",
       "previous": "37fd7e90-56f9-11ec-a1da-0242ac120004"
      },
      {
       "current": "37fd7fe4-56f9-11ec-a1da-0242ac120004-3-e08c-554e-6842",
       "next": "7f8980ba-56f9-11ec-a1da-0242ac120004-1-eb32",
       "previous": "37fd7e90-56f9-11ec-a1da-0242ac120004-1-007d"
      },
      {
       "current": "37fd7fe4-56f9-11ec-a1da-0242ac120004-4-e08c-554e-6842-7f95",
       "next": "7f8980ba-56f9-11ec-a1da-0242ac120004-2-eb32-db4a",
       "previous": "37fd7e90-56f9-11ec-a1da-0242ac120004-2-007d-0b5a"
      },
      {
       "current": "37fd7fe4-56f9-11ec-a1da-0242ac120004-5-e08c-554e-6842-7f95-8959",
       "next": "7f8980ba-56f9-11ec-a1da-0242ac120004-3-eb32-db4a-a264",
       "previous": "7b504ce4-22fe-11ef-ad2f-0242ac120005"
      },
      {
       "current": "37fd7fe4-56f9-11ec-a1da-0242ac120004-6-e08c-554e-6842-7f95-8959-cea3",
       "next": "7f8980ba-56f9-11ec-a1da-0242ac120004-4-eb32-db4a-a264-1e72",
       "previous": "7b504ce4-22fe-11ef-ad2f-0242ac120005-1-a9cc"
      }
     ],
     "next": "7f8980ba-56f9-11ec-a1da-0242ac120004-5-eb32-db4a-a264-1e72-b826",
     "previous": "7b504ce4-22fe-11ef-ad2f-0242ac120005-2-a9cc-eba4"
    }
   },
   "source": [
    "## CephノードとストレージセグメントIPアドレス対応表の読み込み"
   ]
  },
  {
   "cell_type": "code",
   "execution_count": null,
   "metadata": {
    "lc_cell_meme": {
     "current": "7f8980ba-56f9-11ec-a1da-0242ac120004-5-eb32-db4a-a264-1e72-b826",
     "history": [
      {
       "current": "7f8980ba-56f9-11ec-a1da-0242ac120004-1-eb32",
       "next": "7f898358-56f9-11ec-a1da-0242ac120004",
       "previous": "37fd7fe4-56f9-11ec-a1da-0242ac120004-1-e08c"
      },
      {
       "current": "7f8980ba-56f9-11ec-a1da-0242ac120004-1-eb32",
       "next": "7f898358-56f9-11ec-a1da-0242ac120004-1-9fd7",
       "previous": "37fd7fe4-56f9-11ec-a1da-0242ac120004-2-e08c-554e"
      },
      {
       "current": "7f8980ba-56f9-11ec-a1da-0242ac120004-2-eb32-db4a",
       "next": "1da70ed8-6f22-11ee-89fa-0242ac120005",
       "previous": "37fd7fe4-56f9-11ec-a1da-0242ac120004-2-e08c-554e"
      },
      {
       "current": "7f8980ba-56f9-11ec-a1da-0242ac120004-3-eb32-db4a-a264",
       "next": "1da70ed8-6f22-11ee-89fa-0242ac120005-1-ff3f",
       "previous": "37fd7fe4-56f9-11ec-a1da-0242ac120004-3-e08c-554e-6842"
      },
      {
       "current": "7f8980ba-56f9-11ec-a1da-0242ac120004-4-eb32-db4a-a264-1e72",
       "next": "652daa0a-6f22-11ee-89fa-0242ac120005-2-0e56-bb2d",
       "previous": "37fd7fe4-56f9-11ec-a1da-0242ac120004-4-e08c-554e-6842-7f95"
      },
      {
       "current": "7f8980ba-56f9-11ec-a1da-0242ac120004-5-eb32-db4a-a264-1e72-b826",
       "next": "652daa0a-6f22-11ee-89fa-0242ac120005-3-0e56-bb2d-e236",
       "previous": "37fd7fe4-56f9-11ec-a1da-0242ac120004-5-e08c-554e-6842-7f95-8959"
      }
     ],
     "next": "652daa0a-6f22-11ee-89fa-0242ac120005-4-0e56-bb2d-e236-08ca",
     "previous": "37fd7fe4-56f9-11ec-a1da-0242ac120004-6-e08c-554e-6842-7f95-8959-cea3"
    },
    "scrolled": true
   },
   "outputs": [],
   "source": [
    "import os\n",
    "import csv\n",
    "import pandas as pd\n",
    "\n",
    "instance_ip_csv_path =  os.environ['HOME'] + \"/notebooks/share/configuration/ceph/ceph_instance_ip.csv\"\n",
    "instance_ip_list = []\n",
    "instance_ip_map = {}\n",
    "\n",
    "with open(instance_ip_csv_path, 'r') as path_csv:\n",
    "    reader = csv.DictReader(path_csv)\n",
    "    \n",
    "    for record in reader:\n",
    "        instance_ip_list.append(record)\n",
    "        instance_ip_map[record['instance_name']] = record\n",
    "\n",
    "pd.DataFrame(instance_ip_list)"
   ]
  },
  {
   "cell_type": "markdown",
   "metadata": {
    "lc_cell_meme": {
     "current": "652daa0a-6f22-11ee-89fa-0242ac120005-4-0e56-bb2d-e236-08ca",
     "history": [
      {
       "current": "652daa0a-6f22-11ee-89fa-0242ac120005-1-0e56",
       "next": "652dab5e-6f22-11ee-89fa-0242ac120005",
       "previous": "7f898358-56f9-11ec-a1da-0242ac120004-1-9fd7"
      },
      {
       "current": "652daa0a-6f22-11ee-89fa-0242ac120005-2-0e56-bb2d",
       "next": "652dab5e-6f22-11ee-89fa-0242ac120005-1-33ec",
       "previous": "7f898358-56f9-11ec-a1da-0242ac120004-2-9fd7-41a0"
      },
      {
       "current": "652daa0a-6f22-11ee-89fa-0242ac120005-3-0e56-bb2d-e236",
       "next": "652dab5e-6f22-11ee-89fa-0242ac120005-2-33ec-495f",
       "previous": "7f8980ba-56f9-11ec-a1da-0242ac120004-3-eb32-db4a-a264"
      },
      {
       "current": "652daa0a-6f22-11ee-89fa-0242ac120005-4-0e56-bb2d-e236-08ca",
       "next": "652dab5e-6f22-11ee-89fa-0242ac120005-3-33ec-495f-8fcf",
       "previous": "7f8980ba-56f9-11ec-a1da-0242ac120004-4-eb32-db4a-a264-1e72"
      }
     ],
     "next": "652dab5e-6f22-11ee-89fa-0242ac120005-4-33ec-495f-8fcf-be19",
     "previous": "7f8980ba-56f9-11ec-a1da-0242ac120004-5-eb32-db4a-a264-1e72-b826"
    }
   },
   "source": [
    "## 作業用ディレクトリを作成する"
   ]
  },
  {
   "cell_type": "code",
   "execution_count": null,
   "metadata": {
    "lc_cell_meme": {
     "current": "652dab5e-6f22-11ee-89fa-0242ac120005-4-33ec-495f-8fcf-be19",
     "history": [
      {
       "current": "652dab5e-6f22-11ee-89fa-0242ac120005-1-33ec",
       "next": "652dabea-6f22-11ee-89fa-0242ac120005",
       "previous": "652daa0a-6f22-11ee-89fa-0242ac120005"
      },
      {
       "current": "652dab5e-6f22-11ee-89fa-0242ac120005-2-33ec-495f",
       "next": "652dabea-6f22-11ee-89fa-0242ac120005-1-f349",
       "previous": "652daa0a-6f22-11ee-89fa-0242ac120005-1-0e56"
      },
      {
       "current": "652dab5e-6f22-11ee-89fa-0242ac120005-3-33ec-495f-8fcf",
       "next": "652dabea-6f22-11ee-89fa-0242ac120005-2-f349-6e5a",
       "previous": "652daa0a-6f22-11ee-89fa-0242ac120005-2-0e56-bb2d"
      },
      {
       "current": "652dab5e-6f22-11ee-89fa-0242ac120005-4-33ec-495f-8fcf-be19",
       "next": "652dabea-6f22-11ee-89fa-0242ac120005-3-f349-6e5a-c33b",
       "previous": "652daa0a-6f22-11ee-89fa-0242ac120005-3-0e56-bb2d-e236"
      }
     ],
     "next": "652dabea-6f22-11ee-89fa-0242ac120005-4-f349-6e5a-c33b-b4ec",
     "previous": "652daa0a-6f22-11ee-89fa-0242ac120005-4-0e56-bb2d-e236-08ca"
    }
   },
   "outputs": [],
   "source": [
    "import os,tempfile\n",
    "temp_dir = tempfile.mkdtemp()\n",
    "print (temp_dir)"
   ]
  },
  {
   "cell_type": "markdown",
   "metadata": {
    "lc_cell_meme": {
     "current": "652dabea-6f22-11ee-89fa-0242ac120005-4-f349-6e5a-c33b-b4ec",
     "history": [
      {
       "current": "652dabea-6f22-11ee-89fa-0242ac120005-1-f349",
       "next": "652dac44-6f22-11ee-89fa-0242ac120005",
       "previous": "652dab5e-6f22-11ee-89fa-0242ac120005"
      },
      {
       "current": "652dabea-6f22-11ee-89fa-0242ac120005-2-f349-6e5a",
       "next": "652dac44-6f22-11ee-89fa-0242ac120005-1-eecb",
       "previous": "652dab5e-6f22-11ee-89fa-0242ac120005-1-33ec"
      },
      {
       "current": "652dabea-6f22-11ee-89fa-0242ac120005-3-f349-6e5a-c33b",
       "next": "652dac44-6f22-11ee-89fa-0242ac120005-2-eecb-e200",
       "previous": "652dab5e-6f22-11ee-89fa-0242ac120005-2-33ec-495f"
      },
      {
       "current": "652dabea-6f22-11ee-89fa-0242ac120005-4-f349-6e5a-c33b-b4ec",
       "next": "652dac44-6f22-11ee-89fa-0242ac120005-3-eecb-e200-4187",
       "previous": "652dab5e-6f22-11ee-89fa-0242ac120005-3-33ec-495f-8fcf"
      }
     ],
     "next": "652dac44-6f22-11ee-89fa-0242ac120005-4-eecb-e200-4187-0895",
     "previous": "652dab5e-6f22-11ee-89fa-0242ac120005-4-33ec-495f-8fcf-be19"
    }
   },
   "source": [
    "## AnsibleのInventoryファイルを作業用ディレクトリへ作成する"
   ]
  },
  {
   "cell_type": "code",
   "execution_count": null,
   "metadata": {
    "lc_cell_meme": {
     "current": "652dac44-6f22-11ee-89fa-0242ac120005-4-eecb-e200-4187-0895",
     "history": [
      {
       "current": "652dac44-6f22-11ee-89fa-0242ac120005-1-eecb",
       "next": "652daca8-6f22-11ee-89fa-0242ac120005",
       "previous": "652dabea-6f22-11ee-89fa-0242ac120005"
      },
      {
       "current": "652dac44-6f22-11ee-89fa-0242ac120005-2-eecb-e200",
       "next": "652daca8-6f22-11ee-89fa-0242ac120005-1-70be",
       "previous": "652dabea-6f22-11ee-89fa-0242ac120005-1-f349"
      },
      {
       "current": "652dac44-6f22-11ee-89fa-0242ac120005-3-eecb-e200-4187",
       "next": "652daca8-6f22-11ee-89fa-0242ac120005-2-70be-16f3",
       "previous": "652dabea-6f22-11ee-89fa-0242ac120005-2-f349-6e5a"
      },
      {
       "current": "652dac44-6f22-11ee-89fa-0242ac120005-4-eecb-e200-4187-0895",
       "next": "652daca8-6f22-11ee-89fa-0242ac120005-3-70be-16f3-ed1a",
       "previous": "652dabea-6f22-11ee-89fa-0242ac120005-3-f349-6e5a-c33b"
      }
     ],
     "next": "652daca8-6f22-11ee-89fa-0242ac120005-4-70be-16f3-ed1a-2748",
     "previous": "652dabea-6f22-11ee-89fa-0242ac120005-4-f349-6e5a-c33b-b4ec"
    }
   },
   "outputs": [],
   "source": [
    "import os\n",
    "\n",
    "with open( os.path.join(temp_dir, \"hosts\"), 'w') as f:\n",
    "    f.write('''[openstack_ctl]\n",
    "{openstack_cmn}\n",
    "'''.format(openstack_cmn = provisioning_vip))\n",
    "\n",
    "hosts = temp_dir + \"/hosts\"\n",
    "!cat $hosts"
   ]
  },
  {
   "cell_type": "code",
   "execution_count": null,
   "metadata": {
    "lc_cell_meme": {
     "current": "652daca8-6f22-11ee-89fa-0242ac120005-4-70be-16f3-ed1a-2748",
     "history": [
      {
       "current": "652daca8-6f22-11ee-89fa-0242ac120005-1-70be",
       "next": "652dacf8-6f22-11ee-89fa-0242ac120005",
       "previous": "652dac44-6f22-11ee-89fa-0242ac120005"
      },
      {
       "current": "652daca8-6f22-11ee-89fa-0242ac120005-2-70be-16f3",
       "next": "652dacf8-6f22-11ee-89fa-0242ac120005-1-a6ef",
       "previous": "652dac44-6f22-11ee-89fa-0242ac120005-1-eecb"
      },
      {
       "current": "652daca8-6f22-11ee-89fa-0242ac120005-3-70be-16f3-ed1a",
       "next": "652dacf8-6f22-11ee-89fa-0242ac120005-2-a6ef-2f6e",
       "previous": "652dac44-6f22-11ee-89fa-0242ac120005-2-eecb-e200"
      },
      {
       "current": "652daca8-6f22-11ee-89fa-0242ac120005-4-70be-16f3-ed1a-2748",
       "next": "652dacf8-6f22-11ee-89fa-0242ac120005-3-a6ef-2f6e-c1a7",
       "previous": "652dac44-6f22-11ee-89fa-0242ac120005-3-eecb-e200-4187"
      }
     ],
     "next": "652dacf8-6f22-11ee-89fa-0242ac120005-4-a6ef-2f6e-c1a7-6db4",
     "previous": "652dac44-6f22-11ee-89fa-0242ac120005-4-eecb-e200-4187-0895"
    }
   },
   "outputs": [],
   "source": [
    "%env ANSIBLE_INVENTORY={hosts}"
   ]
  },
  {
   "cell_type": "markdown",
   "metadata": {
    "lc_cell_meme": {
     "current": "652dacf8-6f22-11ee-89fa-0242ac120005-4-a6ef-2f6e-c1a7-6db4",
     "history": [
      {
       "current": "652dacf8-6f22-11ee-89fa-0242ac120005-1-a6ef",
       "next": "652dade8-6f22-11ee-89fa-0242ac120005",
       "previous": "652daca8-6f22-11ee-89fa-0242ac120005"
      },
      {
       "current": "652dacf8-6f22-11ee-89fa-0242ac120005-2-a6ef-2f6e",
       "next": "652dade8-6f22-11ee-89fa-0242ac120005-1-8aca",
       "previous": "652daca8-6f22-11ee-89fa-0242ac120005-1-70be"
      },
      {
       "current": "652dacf8-6f22-11ee-89fa-0242ac120005-3-a6ef-2f6e-c1a7",
       "next": "652dade8-6f22-11ee-89fa-0242ac120005-2-8aca-989b",
       "previous": "652daca8-6f22-11ee-89fa-0242ac120005-2-70be-16f3"
      },
      {
       "current": "652dacf8-6f22-11ee-89fa-0242ac120005-4-a6ef-2f6e-c1a7-6db4",
       "next": "652dade8-6f22-11ee-89fa-0242ac120005-3-8aca-989b-b574",
       "previous": "652daca8-6f22-11ee-89fa-0242ac120005-3-70be-16f3-ed1a"
      }
     ],
     "next": "652dade8-6f22-11ee-89fa-0242ac120005-4-8aca-989b-b574-7509",
     "previous": "652daca8-6f22-11ee-89fa-0242ac120005-4-70be-16f3-ed1a-2748"
    }
   },
   "source": [
    "疎通確認"
   ]
  },
  {
   "cell_type": "code",
   "execution_count": null,
   "metadata": {
    "lc_cell_meme": {
     "current": "652dade8-6f22-11ee-89fa-0242ac120005-4-8aca-989b-b574-7509",
     "history": [
      {
       "current": "652dade8-6f22-11ee-89fa-0242ac120005-1-8aca",
       "next": "652dae42-6f22-11ee-89fa-0242ac120005",
       "previous": "652dacf8-6f22-11ee-89fa-0242ac120005"
      },
      {
       "current": "652dade8-6f22-11ee-89fa-0242ac120005-2-8aca-989b",
       "next": "652dae42-6f22-11ee-89fa-0242ac120005-1-471c",
       "previous": "652dacf8-6f22-11ee-89fa-0242ac120005-1-a6ef"
      },
      {
       "current": "652dade8-6f22-11ee-89fa-0242ac120005-3-8aca-989b-b574",
       "next": "652dae42-6f22-11ee-89fa-0242ac120005-2-471c-88f1",
       "previous": "652dacf8-6f22-11ee-89fa-0242ac120005-2-a6ef-2f6e"
      },
      {
       "current": "652dade8-6f22-11ee-89fa-0242ac120005-4-8aca-989b-b574-7509",
       "next": "652dae42-6f22-11ee-89fa-0242ac120005-3-471c-88f1-79ab",
       "previous": "652dacf8-6f22-11ee-89fa-0242ac120005-3-a6ef-2f6e-c1a7"
      }
     ],
     "next": "652dae42-6f22-11ee-89fa-0242ac120005-4-471c-88f1-79ab-011b",
     "previous": "652dacf8-6f22-11ee-89fa-0242ac120005-4-a6ef-2f6e-c1a7-6db4"
    }
   },
   "outputs": [],
   "source": [
    "!ansible -m ping openstack_ctl"
   ]
  },
  {
   "cell_type": "code",
   "execution_count": null,
   "metadata": {
    "lc_cell_meme": {
     "current": "652dae42-6f22-11ee-89fa-0242ac120005-4-471c-88f1-79ab-011b",
     "history": [
      {
       "current": "652dae42-6f22-11ee-89fa-0242ac120005-1-471c",
       "next": "652dae92-6f22-11ee-89fa-0242ac120005",
       "previous": "652dade8-6f22-11ee-89fa-0242ac120005"
      },
      {
       "current": "652dae42-6f22-11ee-89fa-0242ac120005-2-471c-88f1",
       "next": "652dae92-6f22-11ee-89fa-0242ac120005-1-0a2a",
       "previous": "652dade8-6f22-11ee-89fa-0242ac120005-1-8aca"
      },
      {
       "current": "652dae42-6f22-11ee-89fa-0242ac120005-3-471c-88f1-79ab",
       "next": "652dae92-6f22-11ee-89fa-0242ac120005-2-0a2a-a605",
       "previous": "652dade8-6f22-11ee-89fa-0242ac120005-2-8aca-989b"
      },
      {
       "current": "652dae42-6f22-11ee-89fa-0242ac120005-4-471c-88f1-79ab-011b",
       "next": "652dae92-6f22-11ee-89fa-0242ac120005-3-0a2a-a605-61c1",
       "previous": "652dade8-6f22-11ee-89fa-0242ac120005-3-8aca-989b-b574"
      }
     ],
     "next": "652dae92-6f22-11ee-89fa-0242ac120005-4-0a2a-a605-61c1-f509",
     "previous": "652dade8-6f22-11ee-89fa-0242ac120005-4-8aca-989b-b574-7509"
    }
   },
   "outputs": [],
   "source": [
    "!ansible -a 'hostname' openstack_ctl"
   ]
  },
  {
   "cell_type": "markdown",
   "metadata": {
    "lc_cell_meme": {
     "current": "652dae92-6f22-11ee-89fa-0242ac120005-4-0a2a-a605-61c1-f509",
     "history": [
      {
       "current": "652dae92-6f22-11ee-89fa-0242ac120005-1-0a2a",
       "next": "652daeec-6f22-11ee-89fa-0242ac120005",
       "previous": "652dae42-6f22-11ee-89fa-0242ac120005"
      },
      {
       "current": "652dae92-6f22-11ee-89fa-0242ac120005-2-0a2a-a605",
       "next": "652daeec-6f22-11ee-89fa-0242ac120005-1-1bd0",
       "previous": "652dae42-6f22-11ee-89fa-0242ac120005-1-471c"
      },
      {
       "current": "652dae92-6f22-11ee-89fa-0242ac120005-3-0a2a-a605-61c1",
       "next": "652daeec-6f22-11ee-89fa-0242ac120005-2-1bd0-798a",
       "previous": "652dae42-6f22-11ee-89fa-0242ac120005-2-471c-88f1"
      },
      {
       "current": "652dae92-6f22-11ee-89fa-0242ac120005-4-0a2a-a605-61c1-f509",
       "next": "652daeec-6f22-11ee-89fa-0242ac120005-3-1bd0-798a-4aa7",
       "previous": "652dae42-6f22-11ee-89fa-0242ac120005-3-471c-88f1-79ab"
      }
     ],
     "next": "652daeec-6f22-11ee-89fa-0242ac120005-4-1bd0-798a-4aa7-9fb4",
     "previous": "652dae42-6f22-11ee-89fa-0242ac120005-4-471c-88f1-79ab-011b"
    }
   },
   "source": [
    "## OpenStack用OpenRCファイル設定\n",
    "\n",
    "`xxxxxxx`プロジェクト用のOpenRCファイルを事前にダウンロードしておくこと。  "
   ]
  },
  {
   "cell_type": "code",
   "execution_count": null,
   "metadata": {
    "lc_cell_meme": {
     "current": "652daeec-6f22-11ee-89fa-0242ac120005-4-1bd0-798a-4aa7-9fb4",
     "history": [
      {
       "current": "652daeec-6f22-11ee-89fa-0242ac120005-1-1bd0",
       "next": "652daf46-6f22-11ee-89fa-0242ac120005",
       "previous": "652dae92-6f22-11ee-89fa-0242ac120005"
      },
      {
       "current": "652daeec-6f22-11ee-89fa-0242ac120005-2-1bd0-798a",
       "next": "652daf46-6f22-11ee-89fa-0242ac120005-1-313f",
       "previous": "652dae92-6f22-11ee-89fa-0242ac120005-1-0a2a"
      },
      {
       "current": "652daeec-6f22-11ee-89fa-0242ac120005-3-1bd0-798a-4aa7",
       "next": "652daf46-6f22-11ee-89fa-0242ac120005-2-313f-b13d",
       "previous": "652dae92-6f22-11ee-89fa-0242ac120005-2-0a2a-a605"
      },
      {
       "current": "652daeec-6f22-11ee-89fa-0242ac120005-4-1bd0-798a-4aa7-9fb4",
       "next": "652daf46-6f22-11ee-89fa-0242ac120005-3-313f-b13d-bdd9",
       "previous": "652dae92-6f22-11ee-89fa-0242ac120005-3-0a2a-a605-61c1"
      }
     ],
     "next": "652daf46-6f22-11ee-89fa-0242ac120005-4-313f-b13d-bdd9-c994",
     "previous": "652dae92-6f22-11ee-89fa-0242ac120005-4-0a2a-a605-61c1-f509"
    }
   },
   "outputs": [],
   "source": [
    "import os\n",
    "\n",
    "user_creds = os.path.expanduser('~/.keys/xxxxxxx-openrc.sh')\n",
    "\n",
    "assert os.path.exists(user_creds), '{} is not exist'.format(user_creds)"
   ]
  },
  {
   "cell_type": "code",
   "execution_count": null,
   "metadata": {
    "lc_cell_meme": {
     "current": "652daf46-6f22-11ee-89fa-0242ac120005-4-313f-b13d-bdd9-c994",
     "history": [
      {
       "current": "652daf46-6f22-11ee-89fa-0242ac120005-1-313f",
       "next": "652daf96-6f22-11ee-89fa-0242ac120005",
       "previous": "652daeec-6f22-11ee-89fa-0242ac120005"
      },
      {
       "current": "652daf46-6f22-11ee-89fa-0242ac120005-2-313f-b13d",
       "next": "652daf96-6f22-11ee-89fa-0242ac120005-1-8c96",
       "previous": "652daeec-6f22-11ee-89fa-0242ac120005-1-1bd0"
      },
      {
       "current": "652daf46-6f22-11ee-89fa-0242ac120005-3-313f-b13d-bdd9",
       "next": "652daf96-6f22-11ee-89fa-0242ac120005-2-8c96-b8a0",
       "previous": "652daeec-6f22-11ee-89fa-0242ac120005-2-1bd0-798a"
      },
      {
       "current": "652daf46-6f22-11ee-89fa-0242ac120005-4-313f-b13d-bdd9-c994",
       "next": "652daf96-6f22-11ee-89fa-0242ac120005-3-8c96-b8a0-f275",
       "previous": "652daeec-6f22-11ee-89fa-0242ac120005-3-1bd0-798a-4aa7"
      }
     ],
     "next": "652daf96-6f22-11ee-89fa-0242ac120005-4-8c96-b8a0-f275-1bfc",
     "previous": "652daeec-6f22-11ee-89fa-0242ac120005-4-1bd0-798a-4aa7-9fb4"
    }
   },
   "outputs": [],
   "source": [
    "%env USER_CREDS={user_creds}"
   ]
  },
  {
   "cell_type": "code",
   "execution_count": null,
   "metadata": {
    "lc_cell_meme": {
     "current": "652daf96-6f22-11ee-89fa-0242ac120005-4-8c96-b8a0-f275-1bfc",
     "history": [
      {
       "current": "652daf96-6f22-11ee-89fa-0242ac120005",
       "next": "652dafe6-6f22-11ee-89fa-0242ac120005",
       "previous": "652daf46-6f22-11ee-89fa-0242ac120005"
      },
      {
       "current": "652daf96-6f22-11ee-89fa-0242ac120005-1-8c96",
       "next": "652dafe6-6f22-11ee-89fa-0242ac120005-1-01d4",
       "previous": "652daf46-6f22-11ee-89fa-0242ac120005"
      },
      {
       "current": "652daf96-6f22-11ee-89fa-0242ac120005-2-8c96-b8a0",
       "next": "652dafe6-6f22-11ee-89fa-0242ac120005-2-01d4-9be2",
       "previous": "652daf46-6f22-11ee-89fa-0242ac120005-1-313f"
      },
      {
       "current": "652daf96-6f22-11ee-89fa-0242ac120005-3-8c96-b8a0-f275",
       "next": "652dafe6-6f22-11ee-89fa-0242ac120005-3-01d4-9be2-7d5d",
       "previous": "652daf46-6f22-11ee-89fa-0242ac120005-2-313f-b13d"
      },
      {
       "current": "652daf96-6f22-11ee-89fa-0242ac120005-4-8c96-b8a0-f275-1bfc",
       "next": "652dafe6-6f22-11ee-89fa-0242ac120005-4-01d4-9be2-7d5d-a0d1",
       "previous": "652daf46-6f22-11ee-89fa-0242ac120005-3-313f-b13d-bdd9"
      }
     ],
     "next": "652dafe6-6f22-11ee-89fa-0242ac120005-5-01d4-9be2-7d5d-a0d1-f1ab",
     "previous": "652daf46-6f22-11ee-89fa-0242ac120005-4-313f-b13d-bdd9-c994"
    }
   },
   "outputs": [],
   "source": [
    "!ls -l {user_creds}"
   ]
  },
  {
   "cell_type": "markdown",
   "metadata": {
    "heading_collapsed": true,
    "lc_cell_meme": {
     "current": "652dafe6-6f22-11ee-89fa-0242ac120005-5-01d4-9be2-7d5d-a0d1-f1ab",
     "history": [
      {
       "current": "652dafe6-6f22-11ee-89fa-0242ac120005-2-01d4-9be2",
       "next": "652db040-6f22-11ee-89fa-0242ac120005",
       "previous": "652daf96-6f22-11ee-89fa-0242ac120005"
      },
      {
       "current": "652dafe6-6f22-11ee-89fa-0242ac120005-3-01d4-9be2-7d5d",
       "next": "652db040-6f22-11ee-89fa-0242ac120005-1-ec1a",
       "previous": "652daf96-6f22-11ee-89fa-0242ac120005-1-8c96"
      },
      {
       "current": "652dafe6-6f22-11ee-89fa-0242ac120005-4-01d4-9be2-7d5d-a0d1",
       "next": "652db040-6f22-11ee-89fa-0242ac120005-2-ec1a-1a72",
       "previous": "652daf96-6f22-11ee-89fa-0242ac120005-2-8c96-b8a0"
      },
      {
       "current": "652dafe6-6f22-11ee-89fa-0242ac120005-5-01d4-9be2-7d5d-a0d1-f1ab",
       "next": "652db040-6f22-11ee-89fa-0242ac120005-3-ec1a-1a72-7cf4",
       "previous": "652daf96-6f22-11ee-89fa-0242ac120005-3-8c96-b8a0-f275"
      }
     ],
     "next": "652db040-6f22-11ee-89fa-0242ac120005-4-ec1a-1a72-7cf4-a044",
     "previous": "652daf96-6f22-11ee-89fa-0242ac120005-4-8c96-b8a0-f275-1bfc"
    }
   },
   "source": [
    "## openstackコマンド用ユーティリティ関数"
   ]
  },
  {
   "cell_type": "code",
   "execution_count": null,
   "metadata": {
    "hidden": true,
    "lc_cell_meme": {
     "current": "652db040-6f22-11ee-89fa-0242ac120005-4-ec1a-1a72-7cf4-a044",
     "history": [
      {
       "current": "652db040-6f22-11ee-89fa-0242ac120005",
       "next": "652db090-6f22-11ee-89fa-0242ac120005",
       "previous": "652dafe6-6f22-11ee-89fa-0242ac120005"
      },
      {
       "current": "652db040-6f22-11ee-89fa-0242ac120005-1-ec1a",
       "next": "acb9ce94-6f22-11ee-89fa-0242ac120005",
       "previous": "652dafe6-6f22-11ee-89fa-0242ac120005-1-01d4"
      },
      {
       "current": "652db040-6f22-11ee-89fa-0242ac120005-2-ec1a-1a72",
       "next": "acb9ce94-6f22-11ee-89fa-0242ac120005-1-5e31",
       "previous": "652dafe6-6f22-11ee-89fa-0242ac120005-2-01d4-9be2"
      },
      {
       "current": "652db040-6f22-11ee-89fa-0242ac120005-3-ec1a-1a72-7cf4",
       "next": "acb9ce94-6f22-11ee-89fa-0242ac120005-2-5e31-738d",
       "previous": "652dafe6-6f22-11ee-89fa-0242ac120005-3-01d4-9be2-7d5d"
      },
      {
       "current": "652db040-6f22-11ee-89fa-0242ac120005-4-ec1a-1a72-7cf4-a044",
       "next": "acb9ce94-6f22-11ee-89fa-0242ac120005-3-5e31-738d-0e0f",
       "previous": "652dafe6-6f22-11ee-89fa-0242ac120005-4-01d4-9be2-7d5d-a0d1"
      }
     ],
     "next": "acb9ce94-6f22-11ee-89fa-0242ac120005-4-5e31-738d-0e0f-d98f",
     "previous": "652dafe6-6f22-11ee-89fa-0242ac120005-5-01d4-9be2-7d5d-a0d1-f1ab"
    }
   },
   "outputs": [],
   "source": [
    "def build_cmdline(param):\n",
    "    cmdline = ''\n",
    "    \n",
    "    for param_name, param_value in param.items():\n",
    "        if isinstance(param_value, dict):\n",
    "            for key, value in param_value.items():\n",
    "                cmdline += ' --{} {}={}'.format(param_name, key, value)\n",
    "        elif isinstance(param_value, list):\n",
    "            for item in param_value:\n",
    "                cmdline += ' --{} {}'.format(param_name, item)\n",
    "        elif isinstance(param_value, bool):\n",
    "            if param_value:\n",
    "                cmdline += ' --{}'.format(param_name)\n",
    "        else:\n",
    "            cmdline += ' --{} {}'.format(param_name, param_value)\n",
    "\n",
    "    return cmdline"
   ]
  },
  {
   "cell_type": "code",
   "execution_count": null,
   "metadata": {
    "hidden": true,
    "lc_cell_meme": {
     "current": "acb9ce94-6f22-11ee-89fa-0242ac120005-4-5e31-738d-0e0f-d98f",
     "history": [
      {
       "current": "acb9ce94-6f22-11ee-89fa-0242ac120005-1-5e31",
       "next": "acb9cf52-6f22-11ee-89fa-0242ac120005",
       "previous": "652db040-6f22-11ee-89fa-0242ac120005"
      },
      {
       "current": "acb9ce94-6f22-11ee-89fa-0242ac120005-2-5e31-738d",
       "next": "acb9cf52-6f22-11ee-89fa-0242ac120005-1-4833",
       "previous": "652db040-6f22-11ee-89fa-0242ac120005-1-ec1a"
      },
      {
       "current": "acb9ce94-6f22-11ee-89fa-0242ac120005-3-5e31-738d-0e0f",
       "next": "acb9cf52-6f22-11ee-89fa-0242ac120005-2-4833-8d22",
       "previous": "652db040-6f22-11ee-89fa-0242ac120005-2-ec1a-1a72"
      },
      {
       "current": "acb9ce94-6f22-11ee-89fa-0242ac120005-4-5e31-738d-0e0f-d98f",
       "next": "acb9cf52-6f22-11ee-89fa-0242ac120005-3-4833-8d22-b3b0",
       "previous": "652db040-6f22-11ee-89fa-0242ac120005-3-ec1a-1a72-7cf4"
      }
     ],
     "next": "acb9cf52-6f22-11ee-89fa-0242ac120005-4-4833-8d22-b3b0-00b0",
     "previous": "652db040-6f22-11ee-89fa-0242ac120005-4-ec1a-1a72-7cf4-a044"
    }
   },
   "outputs": [],
   "source": [
    "import json\n",
    "\n",
    "def run_openstack(cmd):\n",
    "    print('EXEC: {}'.format(cmd))\n",
    "    out = !source {user_creds} && {cmd}\n",
    "    print('OUTPUT: {}'.format('\\n'.join(out)))\n",
    "    return json.loads('\\n'.join(out))"
   ]
  },
  {
   "cell_type": "markdown",
   "metadata": {
    "hidden": true,
    "lc_cell_meme": {
     "current": "acb9cf52-6f22-11ee-89fa-0242ac120005-4-4833-8d22-b3b0-00b0",
     "history": [
      {
       "current": "acb9cf52-6f22-11ee-89fa-0242ac120005-1-4833",
       "next": "acb9d010-6f22-11ee-89fa-0242ac120005",
       "previous": "acb9ce94-6f22-11ee-89fa-0242ac120005"
      },
      {
       "current": "acb9cf52-6f22-11ee-89fa-0242ac120005-2-4833-8d22",
       "next": "acb9d010-6f22-11ee-89fa-0242ac120005-1-6a09",
       "previous": "acb9ce94-6f22-11ee-89fa-0242ac120005-1-5e31"
      },
      {
       "current": "acb9cf52-6f22-11ee-89fa-0242ac120005-3-4833-8d22-b3b0",
       "next": "acb9d010-6f22-11ee-89fa-0242ac120005-2-6a09-a9bf",
       "previous": "acb9ce94-6f22-11ee-89fa-0242ac120005-2-5e31-738d"
      },
      {
       "current": "acb9cf52-6f22-11ee-89fa-0242ac120005-4-4833-8d22-b3b0-00b0",
       "next": "acb9d010-6f22-11ee-89fa-0242ac120005-3-6a09-a9bf-6d81",
       "previous": "acb9ce94-6f22-11ee-89fa-0242ac120005-3-5e31-738d-0e0f"
      }
     ],
     "next": "acb9d010-6f22-11ee-89fa-0242ac120005-4-6a09-a9bf-6d81-7be8",
     "previous": "acb9ce94-6f22-11ee-89fa-0242ac120005-4-5e31-738d-0e0f-d98f"
    }
   },
   "source": [
    "テスト"
   ]
  },
  {
   "cell_type": "code",
   "execution_count": null,
   "metadata": {
    "hidden": true,
    "lc_cell_meme": {
     "current": "acb9d010-6f22-11ee-89fa-0242ac120005-4-6a09-a9bf-6d81-7be8",
     "history": [
      {
       "current": "acb9d010-6f22-11ee-89fa-0242ac120005-1-6a09",
       "next": "7f8984de-56f9-11ec-a1da-0242ac120004-1-fe2a",
       "previous": "acb9cf52-6f22-11ee-89fa-0242ac120005"
      },
      {
       "current": "acb9d010-6f22-11ee-89fa-0242ac120005-2-6a09-a9bf",
       "next": "7f8984de-56f9-11ec-a1da-0242ac120004-2-fe2a-ba6c",
       "previous": "acb9cf52-6f22-11ee-89fa-0242ac120005-1-4833"
      },
      {
       "current": "acb9d010-6f22-11ee-89fa-0242ac120005-3-6a09-a9bf-6d81",
       "next": "7f8984de-56f9-11ec-a1da-0242ac120004-3-fe2a-ba6c-0c53",
       "previous": "acb9cf52-6f22-11ee-89fa-0242ac120005-2-4833-8d22"
      },
      {
       "current": "acb9d010-6f22-11ee-89fa-0242ac120005-4-6a09-a9bf-6d81-7be8",
       "next": "7f8984de-56f9-11ec-a1da-0242ac120004-4-fe2a-ba6c-0c53-9c10",
       "previous": "acb9cf52-6f22-11ee-89fa-0242ac120005-3-4833-8d22-b3b0"
      }
     ],
     "next": "7f8984de-56f9-11ec-a1da-0242ac120004-5-fe2a-ba6c-0c53-9c10-cafb",
     "previous": "acb9cf52-6f22-11ee-89fa-0242ac120005-4-4833-8d22-b3b0-00b0"
    }
   },
   "outputs": [],
   "source": [
    "run_openstack('openstack flavor list -f json' + build_cmdline({'all': True}))"
   ]
  },
  {
   "cell_type": "markdown",
   "metadata": {
    "lc_cell_meme": {
     "current": "7f8984de-56f9-11ec-a1da-0242ac120004-5-fe2a-ba6c-0c53-9c10-cafb",
     "history": [
      {
       "current": "7f8984de-56f9-11ec-a1da-0242ac120004-1-fe2a",
       "next": "7f89861e-56f9-11ec-a1da-0242ac120004",
       "previous": "7f898358-56f9-11ec-a1da-0242ac120004"
      },
      {
       "current": "7f8984de-56f9-11ec-a1da-0242ac120004-1-fe2a",
       "next": "7f89861e-56f9-11ec-a1da-0242ac120004-1-f0eb",
       "previous": "7f898358-56f9-11ec-a1da-0242ac120004-1-9fd7"
      },
      {
       "current": "7f8984de-56f9-11ec-a1da-0242ac120004-1-fe2a",
       "next": "7f89861e-56f9-11ec-a1da-0242ac120004-1-f0eb",
       "previous": "652db090-6f22-11ee-89fa-0242ac120005"
      },
      {
       "current": "7f8984de-56f9-11ec-a1da-0242ac120004-2-fe2a-ba6c",
       "next": "7f89861e-56f9-11ec-a1da-0242ac120004-1-f0eb",
       "previous": "acb9d010-6f22-11ee-89fa-0242ac120005"
      },
      {
       "current": "7f8984de-56f9-11ec-a1da-0242ac120004-3-fe2a-ba6c-0c53",
       "next": "7f89861e-56f9-11ec-a1da-0242ac120004-2-f0eb-af23",
       "previous": "acb9d010-6f22-11ee-89fa-0242ac120005-1-6a09"
      },
      {
       "current": "7f8984de-56f9-11ec-a1da-0242ac120004-4-fe2a-ba6c-0c53-9c10",
       "next": "7f89861e-56f9-11ec-a1da-0242ac120004-3-f0eb-af23-6cbe",
       "previous": "acb9d010-6f22-11ee-89fa-0242ac120005-2-6a09-a9bf"
      },
      {
       "current": "7f8984de-56f9-11ec-a1da-0242ac120004-5-fe2a-ba6c-0c53-9c10-cafb",
       "next": "7f89861e-56f9-11ec-a1da-0242ac120004-4-f0eb-af23-6cbe-93d3",
       "previous": "acb9d010-6f22-11ee-89fa-0242ac120005-3-6a09-a9bf-6d81"
      }
     ],
     "next": "7f89861e-56f9-11ec-a1da-0242ac120004-5-f0eb-af23-6cbe-93d3-5213",
     "previous": "acb9d010-6f22-11ee-89fa-0242ac120005-4-6a09-a9bf-6d81-7be8"
    }
   },
   "source": [
    "## デプロイされたCephノード情報の取得"
   ]
  },
  {
   "cell_type": "markdown",
   "metadata": {
    "lc_cell_meme": {
     "current": "7f89861e-56f9-11ec-a1da-0242ac120004-5-f0eb-af23-6cbe-93d3-5213",
     "history": [
      {
       "current": "7f89861e-56f9-11ec-a1da-0242ac120004-1-f0eb",
       "next": "7f898754-56f9-11ec-a1da-0242ac120004",
       "previous": "7f8984de-56f9-11ec-a1da-0242ac120004"
      },
      {
       "current": "7f89861e-56f9-11ec-a1da-0242ac120004-1-f0eb",
       "next": "7f898754-56f9-11ec-a1da-0242ac120004-1-c22e",
       "previous": "7f8984de-56f9-11ec-a1da-0242ac120004-1-fe2a"
      },
      {
       "current": "7f89861e-56f9-11ec-a1da-0242ac120004-2-f0eb-af23",
       "next": "acb9d042-6f22-11ee-89fa-0242ac120005",
       "previous": "7f8984de-56f9-11ec-a1da-0242ac120004-1-fe2a"
      },
      {
       "current": "7f89861e-56f9-11ec-a1da-0242ac120004-3-f0eb-af23-6cbe",
       "next": "acb9d042-6f22-11ee-89fa-0242ac120005-1-8ff0",
       "previous": "7f8984de-56f9-11ec-a1da-0242ac120004-2-fe2a-ba6c"
      },
      {
       "current": "7f89861e-56f9-11ec-a1da-0242ac120004-4-f0eb-af23-6cbe-93d3",
       "next": "acb9d042-6f22-11ee-89fa-0242ac120005-2-8ff0-68af",
       "previous": "7f8984de-56f9-11ec-a1da-0242ac120004-3-fe2a-ba6c-0c53"
      },
      {
       "current": "7f89861e-56f9-11ec-a1da-0242ac120004-5-f0eb-af23-6cbe-93d3-5213",
       "next": "acb9d042-6f22-11ee-89fa-0242ac120005-3-8ff0-68af-2763",
       "previous": "7f8984de-56f9-11ec-a1da-0242ac120004-4-fe2a-ba6c-0c53-9c10"
      }
     ],
     "next": "acb9d042-6f22-11ee-89fa-0242ac120005-4-8ff0-68af-2763-d171",
     "previous": "7f8984de-56f9-11ec-a1da-0242ac120004-5-fe2a-ba6c-0c53-9c10-cafb"
    }
   },
   "source": [
    "ストレージノードを特定するにあたり、ノード名称が　ceph-nodexxx （xxxの部分は、右寄せ0埋めの数字3桁）というルールに従っていることを前提としている。<br>\n",
    " 例：ceph-node001<br>\n",
    " このノード名称ルールは、構築するCephクラスタ毎に変えるため、以下で定義する。"
   ]
  },
  {
   "cell_type": "code",
   "execution_count": null,
   "metadata": {
    "lc_cell_meme": {
     "current": "acb9d042-6f22-11ee-89fa-0242ac120005-4-8ff0-68af-2763-d171",
     "history": [
      {
       "current": "acb9d042-6f22-11ee-89fa-0242ac120005-1-8ff0",
       "next": "7f898754-56f9-11ec-a1da-0242ac120004-1-c22e",
       "previous": "7f89861e-56f9-11ec-a1da-0242ac120004-1-f0eb"
      },
      {
       "current": "acb9d042-6f22-11ee-89fa-0242ac120005-2-8ff0-68af",
       "next": "7f898754-56f9-11ec-a1da-0242ac120004-2-c22e-3174",
       "previous": "7f89861e-56f9-11ec-a1da-0242ac120004-2-f0eb-af23"
      },
      {
       "current": "acb9d042-6f22-11ee-89fa-0242ac120005-3-8ff0-68af-2763",
       "next": "7f898754-56f9-11ec-a1da-0242ac120004-3-c22e-3174-0729",
       "previous": "7f89861e-56f9-11ec-a1da-0242ac120004-3-f0eb-af23-6cbe"
      },
      {
       "current": "acb9d042-6f22-11ee-89fa-0242ac120005-4-8ff0-68af-2763-d171",
       "next": "7f898754-56f9-11ec-a1da-0242ac120004-4-c22e-3174-0729-6ae2",
       "previous": "7f89861e-56f9-11ec-a1da-0242ac120004-4-f0eb-af23-6cbe-93d3"
      }
     ],
     "next": "7f898754-56f9-11ec-a1da-0242ac120004-5-c22e-3174-0729-6ae2-5158",
     "previous": "7f89861e-56f9-11ec-a1da-0242ac120004-5-f0eb-af23-6cbe-93d3-5213"
    }
   },
   "outputs": [],
   "source": [
    "# 初期化対象のインスタンス名称を設定する\n",
    "raise Exception('この先手作業が必要です')"
   ]
  },
  {
   "cell_type": "code",
   "execution_count": null,
   "metadata": {
    "lc_cell_meme": {
     "current": "7f898754-56f9-11ec-a1da-0242ac120004-5-c22e-3174-0729-6ae2-5158",
     "history": [
      {
       "current": "7f898754-56f9-11ec-a1da-0242ac120004",
       "next": "37fd8138-56f9-11ec-a1da-0242ac120004",
       "previous": "7f89861e-56f9-11ec-a1da-0242ac120004"
      },
      {
       "current": "7f898754-56f9-11ec-a1da-0242ac120004-1-c22e",
       "next": "37fd8138-56f9-11ec-a1da-0242ac120004-1-cd3c",
       "previous": "7f89861e-56f9-11ec-a1da-0242ac120004"
      },
      {
       "current": "7f898754-56f9-11ec-a1da-0242ac120004-1-c22e",
       "next": "37fd8138-56f9-11ec-a1da-0242ac120004-2-cd3c-96de",
       "previous": "7f89861e-56f9-11ec-a1da-0242ac120004-1-f0eb"
      },
      {
       "current": "7f898754-56f9-11ec-a1da-0242ac120004-2-c22e-3174",
       "next": "acb9d06a-6f22-11ee-89fa-0242ac120005",
       "previous": "acb9d042-6f22-11ee-89fa-0242ac120005"
      },
      {
       "current": "7f898754-56f9-11ec-a1da-0242ac120004-3-c22e-3174-0729",
       "next": "acb9d06a-6f22-11ee-89fa-0242ac120005-1-6cd7",
       "previous": "acb9d042-6f22-11ee-89fa-0242ac120005-1-8ff0"
      },
      {
       "current": "7f898754-56f9-11ec-a1da-0242ac120004-4-c22e-3174-0729-6ae2",
       "next": "acb9d06a-6f22-11ee-89fa-0242ac120005-2-6cd7-d7bd",
       "previous": "acb9d042-6f22-11ee-89fa-0242ac120005-2-8ff0-68af"
      },
      {
       "current": "7f898754-56f9-11ec-a1da-0242ac120004-5-c22e-3174-0729-6ae2-5158",
       "next": "acb9d06a-6f22-11ee-89fa-0242ac120005-3-6cd7-d7bd-2123",
       "previous": "acb9d042-6f22-11ee-89fa-0242ac120005-3-8ff0-68af-2763"
      }
     ],
     "next": "acb9d06a-6f22-11ee-89fa-0242ac120005-4-6cd7-d7bd-2123-f3da",
     "previous": "acb9d042-6f22-11ee-89fa-0242ac120005-4-8ff0-68af-2763-d171"
    }
   },
   "outputs": [],
   "source": [
    "import pandas as pd\n",
    "import re\n",
    "\n",
    "# 対象インスタンス名称マッチングルール\n",
    "name_match_rule = r'ceph-xxx-node-[0-9]+'"
   ]
  },
  {
   "cell_type": "markdown",
   "metadata": {
    "heading_collapsed": true,
    "lc_cell_meme": {
     "current": "acb9d06a-6f22-11ee-89fa-0242ac120005-4-6cd7-d7bd-2123-f3da",
     "history": [
      {
       "current": "acb9d06a-6f22-11ee-89fa-0242ac120005-1-6cd7",
       "next": "acb9d092-6f22-11ee-89fa-0242ac120005",
       "previous": "7f898754-56f9-11ec-a1da-0242ac120004-1-c22e"
      },
      {
       "current": "acb9d06a-6f22-11ee-89fa-0242ac120005-2-6cd7-d7bd",
       "next": "acb9d092-6f22-11ee-89fa-0242ac120005-1-2987",
       "previous": "7f898754-56f9-11ec-a1da-0242ac120004-2-c22e-3174"
      },
      {
       "current": "acb9d06a-6f22-11ee-89fa-0242ac120005-3-6cd7-d7bd-2123",
       "next": "acb9d092-6f22-11ee-89fa-0242ac120005-2-2987-a469",
       "previous": "7f898754-56f9-11ec-a1da-0242ac120004-3-c22e-3174-0729"
      },
      {
       "current": "acb9d06a-6f22-11ee-89fa-0242ac120005-4-6cd7-d7bd-2123-f3da",
       "next": "acb9d092-6f22-11ee-89fa-0242ac120005-3-2987-a469-828a",
       "previous": "7f898754-56f9-11ec-a1da-0242ac120004-4-c22e-3174-0729-6ae2"
      }
     ],
     "next": "acb9d092-6f22-11ee-89fa-0242ac120005-4-2987-a469-828a-a281",
     "previous": "7f898754-56f9-11ec-a1da-0242ac120004-5-c22e-3174-0729-6ae2-5158"
    }
   },
   "source": [
    "## OpenStack Ironicからノード情報の取得"
   ]
  },
  {
   "cell_type": "code",
   "execution_count": null,
   "metadata": {
    "hidden": true,
    "lc_cell_meme": {
     "current": "acb9d092-6f22-11ee-89fa-0242ac120005-4-2987-a469-828a-a281",
     "history": [
      {
       "current": "acb9d092-6f22-11ee-89fa-0242ac120005-1-2987",
       "next": "acb9d0ba-6f22-11ee-89fa-0242ac120005",
       "previous": "acb9d06a-6f22-11ee-89fa-0242ac120005"
      },
      {
       "current": "acb9d092-6f22-11ee-89fa-0242ac120005-2-2987-a469",
       "next": "acb9d0ba-6f22-11ee-89fa-0242ac120005-1-8b79",
       "previous": "acb9d06a-6f22-11ee-89fa-0242ac120005-1-6cd7"
      },
      {
       "current": "acb9d092-6f22-11ee-89fa-0242ac120005-3-2987-a469-828a",
       "next": "acb9d0ba-6f22-11ee-89fa-0242ac120005-2-8b79-059c",
       "previous": "acb9d06a-6f22-11ee-89fa-0242ac120005-2-6cd7-d7bd"
      },
      {
       "current": "acb9d092-6f22-11ee-89fa-0242ac120005-4-2987-a469-828a-a281",
       "next": "acb9d0ba-6f22-11ee-89fa-0242ac120005-3-8b79-059c-578d",
       "previous": "acb9d06a-6f22-11ee-89fa-0242ac120005-3-6cd7-d7bd-2123"
      }
     ],
     "next": "acb9d0ba-6f22-11ee-89fa-0242ac120005-4-8b79-059c-578d-45e7",
     "previous": "acb9d06a-6f22-11ee-89fa-0242ac120005-4-6cd7-d7bd-2123-f3da"
    },
    "scrolled": true
   },
   "outputs": [],
   "source": [
    "cmd = \"openstack baremetal node list -f json --long\"\n",
    "nodes = run_openstack(cmd)"
   ]
  },
  {
   "cell_type": "code",
   "execution_count": null,
   "metadata": {
    "hidden": true,
    "lc_cell_meme": {
     "current": "acb9d0ba-6f22-11ee-89fa-0242ac120005-4-8b79-059c-578d-45e7",
     "history": [
      {
       "current": "acb9d0ba-6f22-11ee-89fa-0242ac120005-1-8b79",
       "next": "acb9d0e2-6f22-11ee-89fa-0242ac120005",
       "previous": "acb9d092-6f22-11ee-89fa-0242ac120005"
      },
      {
       "current": "acb9d0ba-6f22-11ee-89fa-0242ac120005-2-8b79-059c",
       "next": "acb9d0e2-6f22-11ee-89fa-0242ac120005-1-2ead",
       "previous": "acb9d092-6f22-11ee-89fa-0242ac120005-1-2987"
      },
      {
       "current": "acb9d0ba-6f22-11ee-89fa-0242ac120005-3-8b79-059c-578d",
       "next": "acb9d0e2-6f22-11ee-89fa-0242ac120005-2-2ead-1309",
       "previous": "acb9d092-6f22-11ee-89fa-0242ac120005-2-2987-a469"
      },
      {
       "current": "acb9d0ba-6f22-11ee-89fa-0242ac120005-4-8b79-059c-578d-45e7",
       "next": "acb9d0e2-6f22-11ee-89fa-0242ac120005-3-2ead-1309-3975",
       "previous": "acb9d092-6f22-11ee-89fa-0242ac120005-3-2987-a469-828a"
      }
     ],
     "next": "acb9d0e2-6f22-11ee-89fa-0242ac120005-4-2ead-1309-3975-3aa4",
     "previous": "acb9d092-6f22-11ee-89fa-0242ac120005-4-2987-a469-828a-a281"
    }
   },
   "outputs": [],
   "source": [
    "import pandas as pd\n",
    "import re\n",
    "\n",
    "for node in nodes:\n",
    "    instance_uuid = node.get(\"Instance UUID\", None)\n",
    "    if instance_uuid is None:\n",
    "        continue\n",
    "        \n",
    "    node[\"instance_name\"] = node[\"Instance Info\"][\"display_name\"]\n",
    "\n",
    "pd.set_option('display.max_rows', None)\n",
    "pd.DataFrame(nodes, columns=['Instance UUID', 'instance_name', 'UUID', 'Maintenance', 'Provisioning State', 'Power State', 'Name'])\n"
   ]
  },
  {
   "cell_type": "code",
   "execution_count": null,
   "metadata": {
    "hidden": true,
    "lc_cell_meme": {
     "current": "acb9d0e2-6f22-11ee-89fa-0242ac120005-4-2ead-1309-3975-3aa4",
     "history": [
      {
       "current": "acb9d0e2-6f22-11ee-89fa-0242ac120005-1-2ead",
       "next": "acb9d10a-6f22-11ee-89fa-0242ac120005",
       "previous": "acb9d0ba-6f22-11ee-89fa-0242ac120005"
      },
      {
       "current": "acb9d0e2-6f22-11ee-89fa-0242ac120005-2-2ead-1309",
       "next": "acb9d10a-6f22-11ee-89fa-0242ac120005-1-4382",
       "previous": "acb9d0ba-6f22-11ee-89fa-0242ac120005-1-8b79"
      },
      {
       "current": "acb9d0e2-6f22-11ee-89fa-0242ac120005-3-2ead-1309-3975",
       "next": "acb9d10a-6f22-11ee-89fa-0242ac120005-2-4382-4561",
       "previous": "acb9d0ba-6f22-11ee-89fa-0242ac120005-2-8b79-059c"
      },
      {
       "current": "acb9d0e2-6f22-11ee-89fa-0242ac120005-4-2ead-1309-3975-3aa4",
       "next": "acb9d10a-6f22-11ee-89fa-0242ac120005-3-4382-4561-d8a6",
       "previous": "acb9d0ba-6f22-11ee-89fa-0242ac120005-3-8b79-059c-578d"
      }
     ],
     "next": "acb9d10a-6f22-11ee-89fa-0242ac120005-4-4382-4561-d8a6-acd0",
     "previous": "acb9d0ba-6f22-11ee-89fa-0242ac120005-4-8b79-059c-578d-45e7"
    }
   },
   "outputs": [],
   "source": [
    "cmd = \"openstack server list -f json --long\"\n",
    "nova_server_map = run_openstack(cmd)"
   ]
  },
  {
   "cell_type": "code",
   "execution_count": null,
   "metadata": {
    "hidden": true,
    "lc_cell_meme": {
     "current": "acb9d10a-6f22-11ee-89fa-0242ac120005-4-4382-4561-d8a6-acd0",
     "history": [
      {
       "current": "acb9d10a-6f22-11ee-89fa-0242ac120005",
       "next": "acb9d132-6f22-11ee-89fa-0242ac120005",
       "previous": "acb9d0e2-6f22-11ee-89fa-0242ac120005"
      },
      {
       "current": "acb9d10a-6f22-11ee-89fa-0242ac120005-1-4382",
       "next": "7163ca0c-56fb-11ec-a1da-0242ac120004-1-2a50",
       "previous": "acb9d0e2-6f22-11ee-89fa-0242ac120005"
      },
      {
       "current": "acb9d10a-6f22-11ee-89fa-0242ac120005-2-4382-4561",
       "next": "7163ca0c-56fb-11ec-a1da-0242ac120004-2-2a50-1250",
       "previous": "acb9d0e2-6f22-11ee-89fa-0242ac120005-1-2ead"
      },
      {
       "current": "acb9d10a-6f22-11ee-89fa-0242ac120005-3-4382-4561-d8a6",
       "next": "7163ca0c-56fb-11ec-a1da-0242ac120004-3-2a50-1250-e5bb",
       "previous": "acb9d0e2-6f22-11ee-89fa-0242ac120005-2-2ead-1309"
      },
      {
       "current": "acb9d10a-6f22-11ee-89fa-0242ac120005-4-4382-4561-d8a6-acd0",
       "next": "7163ca0c-56fb-11ec-a1da-0242ac120004-4-2a50-1250-e5bb-6de9",
       "previous": "acb9d0e2-6f22-11ee-89fa-0242ac120005-3-2ead-1309-3975"
      }
     ],
     "next": "7163ca0c-56fb-11ec-a1da-0242ac120004-5-2a50-1250-e5bb-6de9-ca02",
     "previous": "acb9d0e2-6f22-11ee-89fa-0242ac120005-4-2ead-1309-3975-3aa4"
    }
   },
   "outputs": [],
   "source": [
    "node_list = []\n",
    "for server in nova_server_map:\n",
    "    node_id = server['ID']\n",
    "    if re.match(name_match_rule, server['Name']) is None:\n",
    "        continue\n",
    "    for node in nodes:\n",
    "        if node['Instance UUID'] == node_id:\n",
    "            node_info = {}\n",
    "            node_list.append(node_info)\n",
    "            node_info['name'] = server['Name']\n",
    "            node_info['node_name'] = node['Name']\n",
    "            instance_ip_info = instance_ip_map.get(server['Name'], None)\n",
    "            if instance_ip_info is not None:\n",
    "                node_info['instance_ip'] = instance_ip_info.get('ipv4', None)\n",
    "            else:\n",
    "                node_info['instance_ip'] = None\n",
    "            address = server['Networks']\n",
    "            prov_net = address['provisioning-net']\n",
    "            for addr in prov_net:\n",
    "                node_info['prov_ip'] = addr\n",
    "\n",
    "pd.DataFrame(node_list)"
   ]
  },
  {
   "cell_type": "markdown",
   "metadata": {
    "lc_cell_meme": {
     "current": "7163ca0c-56fb-11ec-a1da-0242ac120004-5-2a50-1250-e5bb-6de9-ca02",
     "history": [
      {
       "current": "7163ca0c-56fb-11ec-a1da-0242ac120004",
       "next": "7163cc14-56fb-11ec-a1da-0242ac120004",
       "previous": "7163c6b0-56fb-11ec-a1da-0242ac120004"
      },
      {
       "current": "7163ca0c-56fb-11ec-a1da-0242ac120004-1-2a50",
       "next": "7163cc14-56fb-11ec-a1da-0242ac120004",
       "previous": "d9e2e18e-56fc-11ec-a1da-0242ac120004"
      },
      {
       "current": "7163ca0c-56fb-11ec-a1da-0242ac120004-1-2a50",
       "next": "7163cc14-56fb-11ec-a1da-0242ac120004-1-2f97",
       "previous": "d9e2e18e-56fc-11ec-a1da-0242ac120004-1-488f"
      },
      {
       "current": "7163ca0c-56fb-11ec-a1da-0242ac120004-2-2a50-1250",
       "next": "7163cc14-56fb-11ec-a1da-0242ac120004-1-2f97",
       "previous": "acb9d10a-6f22-11ee-89fa-0242ac120005"
      },
      {
       "current": "7163ca0c-56fb-11ec-a1da-0242ac120004-3-2a50-1250-e5bb",
       "next": "7163cc14-56fb-11ec-a1da-0242ac120004-2-2f97-4801",
       "previous": "acb9d10a-6f22-11ee-89fa-0242ac120005-1-4382"
      },
      {
       "current": "7163ca0c-56fb-11ec-a1da-0242ac120004-4-2a50-1250-e5bb-6de9",
       "next": "7163cc14-56fb-11ec-a1da-0242ac120004-3-2f97-4801-119e",
       "previous": "acb9d10a-6f22-11ee-89fa-0242ac120005-2-4382-4561"
      },
      {
       "current": "7163ca0c-56fb-11ec-a1da-0242ac120004-5-2a50-1250-e5bb-6de9-ca02",
       "next": "7163cc14-56fb-11ec-a1da-0242ac120004-4-2f97-4801-119e-7c22",
       "previous": "acb9d10a-6f22-11ee-89fa-0242ac120005-3-4382-4561-d8a6"
      }
     ],
     "next": "7163cc14-56fb-11ec-a1da-0242ac120004-5-2f97-4801-119e-7c22-5112",
     "previous": "acb9d10a-6f22-11ee-89fa-0242ac120005-4-4382-4561-d8a6-acd0"
    }
   },
   "source": [
    "## 初期化対象Cephノード情報の取得"
   ]
  },
  {
   "cell_type": "markdown",
   "metadata": {
    "lc_cell_meme": {
     "current": "7163cc14-56fb-11ec-a1da-0242ac120004-5-2f97-4801-119e-7c22-5112",
     "history": [
      {
       "current": "7163cc14-56fb-11ec-a1da-0242ac120004-1-2f97",
       "next": "7163cdd6-56fb-11ec-a1da-0242ac120004",
       "previous": "7163ca0c-56fb-11ec-a1da-0242ac120004"
      },
      {
       "current": "7163cc14-56fb-11ec-a1da-0242ac120004-1-2f97",
       "next": "7163cdd6-56fb-11ec-a1da-0242ac120004-1-03bf",
       "previous": "7163ca0c-56fb-11ec-a1da-0242ac120004-1-2a50"
      },
      {
       "current": "7163cc14-56fb-11ec-a1da-0242ac120004-2-2f97-4801",
       "next": "7163cf84-56fb-11ec-a1da-0242ac120004-1-09bf",
       "previous": "7163ca0c-56fb-11ec-a1da-0242ac120004-1-2a50"
      },
      {
       "current": "7163cc14-56fb-11ec-a1da-0242ac120004-3-2f97-4801-119e",
       "next": "7163cf84-56fb-11ec-a1da-0242ac120004-2-09bf-ab8c",
       "previous": "7163ca0c-56fb-11ec-a1da-0242ac120004-2-2a50-1250"
      },
      {
       "current": "7163cc14-56fb-11ec-a1da-0242ac120004-4-2f97-4801-119e-7c22",
       "next": "7163cf84-56fb-11ec-a1da-0242ac120004-3-09bf-ab8c-83f6",
       "previous": "7163ca0c-56fb-11ec-a1da-0242ac120004-3-2a50-1250-e5bb"
      },
      {
       "current": "7163cc14-56fb-11ec-a1da-0242ac120004-5-2f97-4801-119e-7c22-5112",
       "next": "7163cf84-56fb-11ec-a1da-0242ac120004-4-09bf-ab8c-83f6-1757",
       "previous": "7163ca0c-56fb-11ec-a1da-0242ac120004-4-2a50-1250-e5bb-6de9"
      }
     ],
     "next": "7163cf84-56fb-11ec-a1da-0242ac120004-5-09bf-ab8c-83f6-1757-8865",
     "previous": "7163ca0c-56fb-11ec-a1da-0242ac120004-5-2a50-1250-e5bb-6de9-ca02"
    }
   },
   "source": [
    "初期化対象のインスタンス名称を設定する"
   ]
  },
  {
   "cell_type": "code",
   "execution_count": null,
   "metadata": {
    "lc_cell_meme": {
     "current": "7163cf84-56fb-11ec-a1da-0242ac120004-5-09bf-ab8c-83f6-1757-8865",
     "history": [
      {
       "current": "7163cf84-56fb-11ec-a1da-0242ac120004-1-09bf",
       "next": "7163d132-56fb-11ec-a1da-0242ac120004",
       "previous": "7163cdd6-56fb-11ec-a1da-0242ac120004"
      },
      {
       "current": "7163cf84-56fb-11ec-a1da-0242ac120004-1-09bf",
       "next": "7163d132-56fb-11ec-a1da-0242ac120004-1-18a6",
       "previous": "7163cdd6-56fb-11ec-a1da-0242ac120004-1-03bf"
      },
      {
       "current": "7163cf84-56fb-11ec-a1da-0242ac120004-2-09bf-ab8c",
       "next": "7163d132-56fb-11ec-a1da-0242ac120004-1-18a6",
       "previous": "7163cc14-56fb-11ec-a1da-0242ac120004-1-2f97"
      },
      {
       "current": "7163cf84-56fb-11ec-a1da-0242ac120004-3-09bf-ab8c-83f6",
       "next": "7163d132-56fb-11ec-a1da-0242ac120004-2-18a6-52a1",
       "previous": "7163cc14-56fb-11ec-a1da-0242ac120004-2-2f97-4801"
      },
      {
       "current": "7163cf84-56fb-11ec-a1da-0242ac120004-4-09bf-ab8c-83f6-1757",
       "next": "7163d132-56fb-11ec-a1da-0242ac120004-3-18a6-52a1-f568",
       "previous": "7163cc14-56fb-11ec-a1da-0242ac120004-3-2f97-4801-119e"
      },
      {
       "current": "7163cf84-56fb-11ec-a1da-0242ac120004-5-09bf-ab8c-83f6-1757-8865",
       "next": "7163d132-56fb-11ec-a1da-0242ac120004-4-18a6-52a1-f568-1041",
       "previous": "7163cc14-56fb-11ec-a1da-0242ac120004-4-2f97-4801-119e-7c22"
      }
     ],
     "next": "7163d132-56fb-11ec-a1da-0242ac120004-5-18a6-52a1-f568-1041-a41a",
     "previous": "7163cc14-56fb-11ec-a1da-0242ac120004-5-2f97-4801-119e-7c22-5112"
    }
   },
   "outputs": [],
   "source": [
    "# 初期化対象のインスタンス名称を設定する\n",
    "raise Exception('この先手作業が必要です')"
   ]
  },
  {
   "cell_type": "code",
   "execution_count": null,
   "metadata": {
    "lc_cell_meme": {
     "current": "7163d132-56fb-11ec-a1da-0242ac120004-5-18a6-52a1-f568-1041-a41a",
     "history": [
      {
       "current": "7163d132-56fb-11ec-a1da-0242ac120004-1-18a6",
       "next": "7163d2d6-56fb-11ec-a1da-0242ac120004",
       "previous": "7163cf84-56fb-11ec-a1da-0242ac120004"
      },
      {
       "current": "7163d132-56fb-11ec-a1da-0242ac120004-1-18a6",
       "next": "7163d2d6-56fb-11ec-a1da-0242ac120004-1-e7d2",
       "previous": "7163cf84-56fb-11ec-a1da-0242ac120004-1-09bf"
      },
      {
       "current": "7163d132-56fb-11ec-a1da-0242ac120004-2-18a6-52a1",
       "next": "162bf270-6cae-11ee-89fa-0242ac120005",
       "previous": "7163cf84-56fb-11ec-a1da-0242ac120004-1-09bf"
      },
      {
       "current": "7163d132-56fb-11ec-a1da-0242ac120004-3-18a6-52a1-f568",
       "next": "162bf270-6cae-11ee-89fa-0242ac120005-1-5c51",
       "previous": "7163cf84-56fb-11ec-a1da-0242ac120004-2-09bf-ab8c"
      },
      {
       "current": "7163d132-56fb-11ec-a1da-0242ac120004-4-18a6-52a1-f568-1041",
       "next": "162bf270-6cae-11ee-89fa-0242ac120005-2-5c51-8e92",
       "previous": "7163cf84-56fb-11ec-a1da-0242ac120004-3-09bf-ab8c-83f6"
      },
      {
       "current": "7163d132-56fb-11ec-a1da-0242ac120004-5-18a6-52a1-f568-1041-a41a",
       "next": "162bf270-6cae-11ee-89fa-0242ac120005-3-5c51-8e92-9bfd",
       "previous": "7163cf84-56fb-11ec-a1da-0242ac120004-4-09bf-ab8c-83f6-1757"
      }
     ],
     "next": "162bf270-6cae-11ee-89fa-0242ac120005-4-5c51-8e92-9bfd-e736",
     "previous": "7163cf84-56fb-11ec-a1da-0242ac120004-5-09bf-ab8c-83f6-1757-8865"
    }
   },
   "outputs": [],
   "source": [
    "# メンテナンス対応先ノード\n",
    "instance_name = 'ceph-xxx-node-002'"
   ]
  },
  {
   "cell_type": "code",
   "execution_count": null,
   "metadata": {
    "lc_cell_meme": {
     "current": "162bf270-6cae-11ee-89fa-0242ac120005-4-5c51-8e92-9bfd-e736",
     "history": [
      {
       "current": "162bf270-6cae-11ee-89fa-0242ac120005-1-5c51",
       "next": "7163d2d6-56fb-11ec-a1da-0242ac120004-1-e7d2",
       "previous": "7163d132-56fb-11ec-a1da-0242ac120004-1-18a6"
      },
      {
       "current": "162bf270-6cae-11ee-89fa-0242ac120005-2-5c51-8e92",
       "next": "7163d2d6-56fb-11ec-a1da-0242ac120004-2-e7d2-7760",
       "previous": "7163d132-56fb-11ec-a1da-0242ac120004-2-18a6-52a1"
      },
      {
       "current": "162bf270-6cae-11ee-89fa-0242ac120005-3-5c51-8e92-9bfd",
       "next": "7163d2d6-56fb-11ec-a1da-0242ac120004-3-e7d2-7760-47d8",
       "previous": "7163d132-56fb-11ec-a1da-0242ac120004-3-18a6-52a1-f568"
      },
      {
       "current": "162bf270-6cae-11ee-89fa-0242ac120005-4-5c51-8e92-9bfd-e736",
       "next": "7163d2d6-56fb-11ec-a1da-0242ac120004-4-e7d2-7760-47d8-07e7",
       "previous": "7163d132-56fb-11ec-a1da-0242ac120004-4-18a6-52a1-f568-1041"
      }
     ],
     "next": "7163d2d6-56fb-11ec-a1da-0242ac120004-5-e7d2-7760-47d8-07e7-d822",
     "previous": "7163d132-56fb-11ec-a1da-0242ac120004-5-18a6-52a1-f568-1041-a41a"
    }
   },
   "outputs": [],
   "source": [
    "bootstrap_node_name = 'ceph-xxx-node-001'"
   ]
  },
  {
   "cell_type": "code",
   "execution_count": null,
   "metadata": {
    "lc_cell_meme": {
     "current": "7163d2d6-56fb-11ec-a1da-0242ac120004-5-e7d2-7760-47d8-07e7-d822",
     "history": [
      {
       "current": "7163d2d6-56fb-11ec-a1da-0242ac120004-1-e7d2",
       "next": "7163d470-56fb-11ec-a1da-0242ac120004",
       "previous": "7163d132-56fb-11ec-a1da-0242ac120004"
      },
      {
       "current": "7163d2d6-56fb-11ec-a1da-0242ac120004-1-e7d2",
       "next": "7163d470-56fb-11ec-a1da-0242ac120004-1-1660",
       "previous": "7163d132-56fb-11ec-a1da-0242ac120004-1-18a6"
      },
      {
       "current": "7163d2d6-56fb-11ec-a1da-0242ac120004-2-e7d2-7760",
       "next": "162bf3ec-6cae-11ee-89fa-0242ac120005",
       "previous": "162bf270-6cae-11ee-89fa-0242ac120005"
      },
      {
       "current": "7163d2d6-56fb-11ec-a1da-0242ac120004-3-e7d2-7760-47d8",
       "next": "162bf3ec-6cae-11ee-89fa-0242ac120005-1-5439",
       "previous": "162bf270-6cae-11ee-89fa-0242ac120005-1-5c51"
      },
      {
       "current": "7163d2d6-56fb-11ec-a1da-0242ac120004-4-e7d2-7760-47d8-07e7",
       "next": "162bf3ec-6cae-11ee-89fa-0242ac120005-2-5439-61ae",
       "previous": "162bf270-6cae-11ee-89fa-0242ac120005-2-5c51-8e92"
      },
      {
       "current": "7163d2d6-56fb-11ec-a1da-0242ac120004-5-e7d2-7760-47d8-07e7-d822",
       "next": "162bf3ec-6cae-11ee-89fa-0242ac120005-3-5439-61ae-41f9",
       "previous": "162bf270-6cae-11ee-89fa-0242ac120005-3-5c51-8e92-9bfd"
      }
     ],
     "next": "162bf3ec-6cae-11ee-89fa-0242ac120005-4-5439-61ae-41f9-280a",
     "previous": "162bf270-6cae-11ee-89fa-0242ac120005-4-5c51-8e92-9bfd-e736"
    }
   },
   "outputs": [],
   "source": [
    "target = None\n",
    "for elem in node_list:\n",
    "    if elem['name'] == instance_name:\n",
    "        target = elem\n",
    "        break\n",
    "\n",
    "assert (target is not None), \"指定されたターゲットノードが存在しません。\"\n",
    "print (target)"
   ]
  },
  {
   "cell_type": "code",
   "execution_count": null,
   "metadata": {
    "lc_cell_meme": {
     "current": "162bf3ec-6cae-11ee-89fa-0242ac120005-4-5439-61ae-41f9-280a",
     "history": [
      {
       "current": "162bf3ec-6cae-11ee-89fa-0242ac120005-1-5439",
       "next": "7163d470-56fb-11ec-a1da-0242ac120004-1-1660",
       "previous": "7163d2d6-56fb-11ec-a1da-0242ac120004-1-e7d2"
      },
      {
       "current": "162bf3ec-6cae-11ee-89fa-0242ac120005-2-5439-61ae",
       "next": "7163d470-56fb-11ec-a1da-0242ac120004-2-1660-3908",
       "previous": "7163d2d6-56fb-11ec-a1da-0242ac120004-2-e7d2-7760"
      },
      {
       "current": "162bf3ec-6cae-11ee-89fa-0242ac120005-3-5439-61ae-41f9",
       "next": "7163d470-56fb-11ec-a1da-0242ac120004-3-1660-3908-46ca",
       "previous": "7163d2d6-56fb-11ec-a1da-0242ac120004-3-e7d2-7760-47d8"
      },
      {
       "current": "162bf3ec-6cae-11ee-89fa-0242ac120005-4-5439-61ae-41f9-280a",
       "next": "7163d470-56fb-11ec-a1da-0242ac120004-4-1660-3908-46ca-61e1",
       "previous": "7163d2d6-56fb-11ec-a1da-0242ac120004-4-e7d2-7760-47d8-07e7"
      }
     ],
     "next": "7163d470-56fb-11ec-a1da-0242ac120004-5-1660-3908-46ca-61e1-3b86",
     "previous": "7163d2d6-56fb-11ec-a1da-0242ac120004-5-e7d2-7760-47d8-07e7-d822"
    }
   },
   "outputs": [],
   "source": [
    "bootstrap_node = None\n",
    "for elem in node_list:\n",
    "    if elem['name'] == bootstrap_node_name:\n",
    "        bootstrap_node = elem\n",
    "        break\n",
    "\n",
    "assert (bootstrap_node is not None), \"指定されたターゲットノードが存在しません。\"\n",
    "print (bootstrap_node)"
   ]
  },
  {
   "cell_type": "markdown",
   "metadata": {
    "lc_cell_meme": {
     "current": "7163d470-56fb-11ec-a1da-0242ac120004-5-1660-3908-46ca-61e1-3b86",
     "history": [
      {
       "current": "7163d470-56fb-11ec-a1da-0242ac120004-1-1660",
       "next": "7163d60a-56fb-11ec-a1da-0242ac120004",
       "previous": "7163d2d6-56fb-11ec-a1da-0242ac120004"
      },
      {
       "current": "7163d470-56fb-11ec-a1da-0242ac120004-1-1660",
       "next": "7163d60a-56fb-11ec-a1da-0242ac120004-1-989b",
       "previous": "7163d2d6-56fb-11ec-a1da-0242ac120004-1-e7d2"
      },
      {
       "current": "7163d470-56fb-11ec-a1da-0242ac120004-1-1660",
       "next": "7163d60a-56fb-11ec-a1da-0242ac120004-1-989b",
       "previous": "162bf3ec-6cae-11ee-89fa-0242ac120005"
      },
      {
       "current": "7163d470-56fb-11ec-a1da-0242ac120004-2-1660-3908",
       "next": "743175ea-56fb-11ec-a1da-0242ac120004-2-33ed-7a5f",
       "previous": "162bf3ec-6cae-11ee-89fa-0242ac120005"
      },
      {
       "current": "7163d470-56fb-11ec-a1da-0242ac120004-3-1660-3908-46ca",
       "next": "743175ea-56fb-11ec-a1da-0242ac120004-3-33ed-7a5f-4010",
       "previous": "162bf3ec-6cae-11ee-89fa-0242ac120005-1-5439"
      },
      {
       "current": "7163d470-56fb-11ec-a1da-0242ac120004-4-1660-3908-46ca-61e1",
       "next": "743175ea-56fb-11ec-a1da-0242ac120004-4-33ed-7a5f-4010-fcb6",
       "previous": "162bf3ec-6cae-11ee-89fa-0242ac120005-2-5439-61ae"
      },
      {
       "current": "7163d470-56fb-11ec-a1da-0242ac120004-5-1660-3908-46ca-61e1-3b86",
       "next": "743175ea-56fb-11ec-a1da-0242ac120004-5-33ed-7a5f-4010-fcb6-2ad9",
       "previous": "162bf3ec-6cae-11ee-89fa-0242ac120005-3-5439-61ae-41f9"
      }
     ],
     "next": "743175ea-56fb-11ec-a1da-0242ac120004-6-33ed-7a5f-4010-fcb6-2ad9-85aa",
     "previous": "162bf3ec-6cae-11ee-89fa-0242ac120005-4-5439-61ae-41f9-280a"
    }
   },
   "source": [
    "## 一時Inventoryファイルの生成\n",
    "以下を実行し、作業用ディレクトリ配下に一時Inventoryファイルを生成する。"
   ]
  },
  {
   "cell_type": "markdown",
   "metadata": {
    "lc_cell_meme": {
     "current": "743175ea-56fb-11ec-a1da-0242ac120004-6-33ed-7a5f-4010-fcb6-2ad9-85aa",
     "history": [
      {
       "current": "743175ea-56fb-11ec-a1da-0242ac120004-2-33ed-7a5f",
       "next": "7431796e-56fb-11ec-a1da-0242ac120004",
       "previous": "7163d7ae-56fb-11ec-a1da-0242ac120004"
      },
      {
       "current": "743175ea-56fb-11ec-a1da-0242ac120004-2-33ed-7a5f",
       "next": "7431796e-56fb-11ec-a1da-0242ac120004-1-d0f1",
       "previous": "7163d7ae-56fb-11ec-a1da-0242ac120004-1-0ea4"
      },
      {
       "current": "743175ea-56fb-11ec-a1da-0242ac120004-3-33ed-7a5f-4010",
       "next": "7431796e-56fb-11ec-a1da-0242ac120004-1-d0f1",
       "previous": "7163d470-56fb-11ec-a1da-0242ac120004-1-1660"
      },
      {
       "current": "743175ea-56fb-11ec-a1da-0242ac120004-4-33ed-7a5f-4010-fcb6",
       "next": "7431796e-56fb-11ec-a1da-0242ac120004-2-d0f1-d846",
       "previous": "7163d470-56fb-11ec-a1da-0242ac120004-2-1660-3908"
      },
      {
       "current": "743175ea-56fb-11ec-a1da-0242ac120004-5-33ed-7a5f-4010-fcb6-2ad9",
       "next": "7431796e-56fb-11ec-a1da-0242ac120004-3-d0f1-d846-10b7",
       "previous": "7163d470-56fb-11ec-a1da-0242ac120004-3-1660-3908-46ca"
      },
      {
       "current": "743175ea-56fb-11ec-a1da-0242ac120004-6-33ed-7a5f-4010-fcb6-2ad9-85aa",
       "next": "7431796e-56fb-11ec-a1da-0242ac120004-4-d0f1-d846-10b7-5a16",
       "previous": "7163d470-56fb-11ec-a1da-0242ac120004-4-1660-3908-46ca-61e1"
      }
     ],
     "next": "7431796e-56fb-11ec-a1da-0242ac120004-5-d0f1-d846-10b7-5a16-055c",
     "previous": "7163d470-56fb-11ec-a1da-0242ac120004-5-1660-3908-46ca-61e1-3b86"
    }
   },
   "source": [
    "Inventoryファイルを生成する。"
   ]
  },
  {
   "cell_type": "code",
   "execution_count": null,
   "metadata": {
    "lc_cell_meme": {
     "current": "7431796e-56fb-11ec-a1da-0242ac120004-5-d0f1-d846-10b7-5a16-055c",
     "history": [
      {
       "current": "7431796e-56fb-11ec-a1da-0242ac120004",
       "next": "74317b3a-56fb-11ec-a1da-0242ac120004",
       "previous": "743175ea-56fb-11ec-a1da-0242ac120004"
      },
      {
       "current": "7431796e-56fb-11ec-a1da-0242ac120004-1-d0f1",
       "next": "74317b3a-56fb-11ec-a1da-0242ac120004-1-6a3c",
       "previous": "743175ea-56fb-11ec-a1da-0242ac120004-1-33ed"
      },
      {
       "current": "7431796e-56fb-11ec-a1da-0242ac120004-2-d0f1-d846",
       "next": "74317b3a-56fb-11ec-a1da-0242ac120004-2-6a3c-5cd9",
       "previous": "743175ea-56fb-11ec-a1da-0242ac120004-2-33ed-7a5f"
      },
      {
       "current": "7431796e-56fb-11ec-a1da-0242ac120004-3-d0f1-d846-10b7",
       "next": "74317b3a-56fb-11ec-a1da-0242ac120004-3-6a3c-5cd9-1ac8",
       "previous": "743175ea-56fb-11ec-a1da-0242ac120004-3-33ed-7a5f-4010"
      },
      {
       "current": "7431796e-56fb-11ec-a1da-0242ac120004-4-d0f1-d846-10b7-5a16",
       "next": "74317b3a-56fb-11ec-a1da-0242ac120004-4-6a3c-5cd9-1ac8-f27c",
       "previous": "743175ea-56fb-11ec-a1da-0242ac120004-4-33ed-7a5f-4010-fcb6"
      },
      {
       "current": "7431796e-56fb-11ec-a1da-0242ac120004-5-d0f1-d846-10b7-5a16-055c",
       "next": "74317b3a-56fb-11ec-a1da-0242ac120004-5-6a3c-5cd9-1ac8-f27c-d027",
       "previous": "743175ea-56fb-11ec-a1da-0242ac120004-5-33ed-7a5f-4010-fcb6-2ad9"
      }
     ],
     "next": "74317b3a-56fb-11ec-a1da-0242ac120004-6-6a3c-5cd9-1ac8-f27c-d027-62a3",
     "previous": "743175ea-56fb-11ec-a1da-0242ac120004-6-33ed-7a5f-4010-fcb6-2ad9-85aa"
    }
   },
   "outputs": [],
   "source": [
    "node_user='xxxxx'\n",
    "proxy_user='xxxxx'\n",
    "proxy_key='~/.ssh/id_ras'"
   ]
  },
  {
   "cell_type": "markdown",
   "metadata": {
    "lc_cell_meme": {
     "current": "74317b3a-56fb-11ec-a1da-0242ac120004-6-6a3c-5cd9-1ac8-f27c-d027-62a3",
     "history": [
      {
       "current": "74317b3a-56fb-11ec-a1da-0242ac120004-2-6a3c-5cd9",
       "next": "74317cb6-56fb-11ec-a1da-0242ac120004",
       "previous": "7431796e-56fb-11ec-a1da-0242ac120004"
      },
      {
       "current": "74317b3a-56fb-11ec-a1da-0242ac120004-2-6a3c-5cd9",
       "next": "74317cb6-56fb-11ec-a1da-0242ac120004-1-9d19",
       "previous": "7431796e-56fb-11ec-a1da-0242ac120004-1-d0f1"
      },
      {
       "current": "74317b3a-56fb-11ec-a1da-0242ac120004-3-6a3c-5cd9-1ac8",
       "next": "74317e28-56fb-11ec-a1da-0242ac120004-1-474d",
       "previous": "7431796e-56fb-11ec-a1da-0242ac120004-1-d0f1"
      },
      {
       "current": "74317b3a-56fb-11ec-a1da-0242ac120004-4-6a3c-5cd9-1ac8-f27c",
       "next": "74317e28-56fb-11ec-a1da-0242ac120004-2-474d-7406",
       "previous": "7431796e-56fb-11ec-a1da-0242ac120004-2-d0f1-d846"
      },
      {
       "current": "74317b3a-56fb-11ec-a1da-0242ac120004-5-6a3c-5cd9-1ac8-f27c-d027",
       "next": "74317e28-56fb-11ec-a1da-0242ac120004-3-474d-7406-1dc6",
       "previous": "7431796e-56fb-11ec-a1da-0242ac120004-3-d0f1-d846-10b7"
      },
      {
       "current": "74317b3a-56fb-11ec-a1da-0242ac120004-6-6a3c-5cd9-1ac8-f27c-d027-62a3",
       "next": "74317e28-56fb-11ec-a1da-0242ac120004-4-474d-7406-1dc6-60eb",
       "previous": "7431796e-56fb-11ec-a1da-0242ac120004-4-d0f1-d846-10b7-5a16"
      }
     ],
     "next": "74317e28-56fb-11ec-a1da-0242ac120004-5-474d-7406-1dc6-60eb-7e97",
     "previous": "7431796e-56fb-11ec-a1da-0242ac120004-5-d0f1-d846-10b7-5a16-055c"
    }
   },
   "source": [
    "sudoでパスワードが必要な場合は、パスワード入力を設定してansible.cfgに設定すること。"
   ]
  },
  {
   "cell_type": "code",
   "execution_count": null,
   "metadata": {
    "lc_cell_meme": {
     "current": "74317e28-56fb-11ec-a1da-0242ac120004-5-474d-7406-1dc6-60eb-7e97",
     "history": [
      {
       "current": "74317e28-56fb-11ec-a1da-0242ac120004",
       "next": "c709e59c-56f9-11ec-a1da-0242ac120004",
       "previous": "74317cb6-56fb-11ec-a1da-0242ac120004"
      },
      {
       "current": "74317e28-56fb-11ec-a1da-0242ac120004-1-474d",
       "next": "35c362a4-55a3-11e7-b0b2-00163e9c0e35-1-e49a",
       "previous": "74317cb6-56fb-11ec-a1da-0242ac120004"
      },
      {
       "current": "74317e28-56fb-11ec-a1da-0242ac120004-1-474d",
       "next": "35c362a4-55a3-11e7-b0b2-00163e9c0e35-2-e49a-f407",
       "previous": "74317cb6-56fb-11ec-a1da-0242ac120004-1-9d19"
      },
      {
       "current": "74317e28-56fb-11ec-a1da-0242ac120004-2-474d-7406",
       "next": "35c362a4-55a3-11e7-b0b2-00163e9c0e35-2-e49a-f407",
       "previous": "74317b3a-56fb-11ec-a1da-0242ac120004-2-6a3c-5cd9"
      },
      {
       "current": "74317e28-56fb-11ec-a1da-0242ac120004-3-474d-7406-1dc6",
       "next": "35c362a4-55a3-11e7-b0b2-00163e9c0e35-3-e49a-f407-50db",
       "previous": "74317b3a-56fb-11ec-a1da-0242ac120004-3-6a3c-5cd9-1ac8"
      },
      {
       "current": "74317e28-56fb-11ec-a1da-0242ac120004-3-474d-7406-1dc6",
       "next": "35c362a4-55a3-11e7-b0b2-00163e9c0e35-4-e49a-f407-50db-94a3",
       "previous": "74317b3a-56fb-11ec-a1da-0242ac120004-4-6a3c-5cd9-1ac8-f27c"
      },
      {
       "current": "74317e28-56fb-11ec-a1da-0242ac120004-4-474d-7406-1dc6-60eb",
       "next": "0a628596-22ff-11ef-ad2f-0242ac120005",
       "previous": "74317b3a-56fb-11ec-a1da-0242ac120004-4-6a3c-5cd9-1ac8-f27c"
      },
      {
       "current": "74317e28-56fb-11ec-a1da-0242ac120004-5-474d-7406-1dc6-60eb-7e97",
       "next": "0a628596-22ff-11ef-ad2f-0242ac120005-1-e00e",
       "previous": "74317b3a-56fb-11ec-a1da-0242ac120004-5-6a3c-5cd9-1ac8-f27c-d027"
      }
     ],
     "next": "0a628596-22ff-11ef-ad2f-0242ac120005-2-e00e-2a6b",
     "previous": "74317b3a-56fb-11ec-a1da-0242ac120004-6-6a3c-5cd9-1ac8-f27c-d027-62a3"
    }
   },
   "outputs": [],
   "source": [
    "import os\n",
    "\n",
    "with open( os.path.join(temp_dir, \"hosts\"), 'w') as f:\n",
    "     f.write('''[ceph_admin]\n",
    "{ceph_admin_ip}   ansible_user={proxy_user} ansible_ssh_private_key_file={proxy_key} ansible_python_interpreter=/usr/bin/python3\n",
    "[ceph_node]\n",
    "{node_ip}  ansible_user={node_user} ansible_ssh_common_args='-o ControlMaster=auto -o StrictHostKeyChecking=no -o ControlPersist=30m -o ProxyCommand=\"ssh -W %h:%p -i {proxy_key} -q {proxy_user}@{ceph_admin_ip}\"' ansible_python_interpreter=/usr/bin/python3\n",
    "'''.format(ceph_admin_ip=ceph_admin_ip, node_ip=target[\"prov_ip\"],\n",
    "           node_user=node_user, proxy_user=proxy_user, proxy_key=proxy_key))\n",
    "     f.write('''[bootstrap]\n",
    "{node_ip}  ansible_user={node_user} ansible_ssh_common_args='-o ControlMaster=auto -o StrictHostKeyChecking=no -o ControlPersist=30m -o ProxyCommand=\"ssh -W %h:%p -i {proxy_key} -q {proxy_user}@{ceph_admin_ip}\"' ansible_python_interpreter=/usr/bin/python3\n",
    "'''.format(ceph_admin_ip=ceph_admin_ip, node_ip=bootstrap_node[\"prov_ip\"],\n",
    "           node_user=node_user, proxy_user=proxy_user, proxy_key=proxy_key))\n",
    "\n",
    "hosts = temp_dir + \"/hosts\"\n",
    "\n",
    "!cat $hosts"
   ]
  },
  {
   "cell_type": "code",
   "execution_count": null,
   "metadata": {
    "lc_cell_meme": {
     "current": "0a628596-22ff-11ef-ad2f-0242ac120005-2-e00e-2a6b",
     "history": [
      {
       "current": "0a628596-22ff-11ef-ad2f-0242ac120005-1-e00e",
       "next": "35c362a4-55a3-11e7-b0b2-00163e9c0e35-4-e49a-f407-50db-94a3",
       "previous": "74317e28-56fb-11ec-a1da-0242ac120004-3-474d-7406-1dc6"
      },
      {
       "current": "0a628596-22ff-11ef-ad2f-0242ac120005-2-e00e-2a6b",
       "next": "35c362a4-55a3-11e7-b0b2-00163e9c0e35-5-e49a-f407-50db-94a3-84a7",
       "previous": "74317e28-56fb-11ec-a1da-0242ac120004-4-474d-7406-1dc6-60eb"
      }
     ],
     "next": "35c362a4-55a3-11e7-b0b2-00163e9c0e35-6-e49a-f407-50db-94a3-84a7-9a47",
     "previous": "74317e28-56fb-11ec-a1da-0242ac120004-5-474d-7406-1dc6-60eb-7e97"
    }
   },
   "outputs": [],
   "source": [
    "%env ANSIBLE_INVENTORY={hosts}"
   ]
  },
  {
   "cell_type": "markdown",
   "metadata": {
    "lc_cell_meme": {
     "current": "35c362a4-55a3-11e7-b0b2-00163e9c0e35-6-e49a-f407-50db-94a3-84a7-9a47",
     "history": [
      {
       "current": "35c362a4-55a3-11e7-b0b2-00163e9c0e35",
       "next": "35c36448-55a3-11e7-b0b2-00163e9c0e35",
       "previous": "35c360f6-55a3-11e7-b0b2-00163e9c0e35"
      },
      {
       "current": "35c362a4-55a3-11e7-b0b2-00163e9c0e35",
       "next": "35c36448-55a3-11e7-b0b2-00163e9c0e35",
       "previous": "4cd5b0cc-7ef5-11ea-a926-0242ac120004"
      },
      {
       "current": "35c362a4-55a3-11e7-b0b2-00163e9c0e35",
       "next": "35c36448-55a3-11e7-b0b2-00163e9c0e35",
       "previous": "db546a28-7ef5-11ea-a926-0242ac120004"
      },
      {
       "current": "35c362a4-55a3-11e7-b0b2-00163e9c0e35",
       "next": "35c36448-55a3-11e7-b0b2-00163e9c0e35",
       "previous": "4cd5af28-7ef5-11ea-a926-0242ac120004"
      },
      {
       "current": "35c362a4-55a3-11e7-b0b2-00163e9c0e35",
       "next": "35c36448-55a3-11e7-b0b2-00163e9c0e35",
       "previous": "7d464504-9107-11ea-8d02-0242ac120007"
      },
      {
       "current": "35c362a4-55a3-11e7-b0b2-00163e9c0e35",
       "next": "35c36448-55a3-11e7-b0b2-00163e9c0e35",
       "previous": "bd797188-910b-11ea-8d02-0242ac120007"
      },
      {
       "current": "35c362a4-55a3-11e7-b0b2-00163e9c0e35",
       "next": "35c36448-55a3-11e7-b0b2-00163e9c0e35",
       "previous": "70b95056-9111-11ea-8d02-0242ac120007"
      },
      {
       "current": "35c362a4-55a3-11e7-b0b2-00163e9c0e35",
       "next": "35c36448-55a3-11e7-b0b2-00163e9c0e35",
       "previous": "bd797188-910b-11ea-8d02-0242ac120007"
      },
      {
       "current": "35c362a4-55a3-11e7-b0b2-00163e9c0e35",
       "next": "bd797188-910b-11ea-8d02-0242ac120007",
       "previous": "4cd5af28-7ef5-11ea-a926-0242ac120004"
      },
      {
       "current": "35c362a4-55a3-11e7-b0b2-00163e9c0e35",
       "next": "484c7376-935c-11ea-8d02-0242ac120007",
       "previous": "4cd5af28-7ef5-11ea-a926-0242ac120004"
      },
      {
       "current": "35c362a4-55a3-11e7-b0b2-00163e9c0e35-1-e49a",
       "next": "bd797188-910b-11ea-8d02-0242ac120007",
       "previous": "4cd5af28-7ef5-11ea-a926-0242ac120004"
      },
      {
       "current": "35c362a4-55a3-11e7-b0b2-00163e9c0e35-1-e49a",
       "next": "bd797188-910b-11ea-8d02-0242ac120007-1-a27b",
       "previous": "4cd5af28-7ef5-11ea-a926-0242ac120004-1-4700"
      },
      {
       "current": "35c362a4-55a3-11e7-b0b2-00163e9c0e35-1-e49a",
       "next": "bd797188-910b-11ea-8d02-0242ac120007-1-a27b",
       "previous": "35c337f2-55a3-11e7-b0b2-00163e9c0e35-1-dc7a"
      },
      {
       "current": "35c362a4-55a3-11e7-b0b2-00163e9c0e35-1-e49a",
       "next": "bd797188-910b-11ea-8d02-0242ac120007-1-a27b",
       "previous": "37fd8534-56f9-11ec-a1da-0242ac120004"
      },
      {
       "current": "35c362a4-55a3-11e7-b0b2-00163e9c0e35-1-e49a",
       "next": "bd797188-910b-11ea-8d02-0242ac120007-1-a27b",
       "previous": "c709e722-56f9-11ec-a1da-0242ac120004"
      },
      {
       "current": "35c362a4-55a3-11e7-b0b2-00163e9c0e35-2-e49a-f407",
       "next": "bd797188-910b-11ea-8d02-0242ac120007-1-a27b",
       "previous": "74317e28-56fb-11ec-a1da-0242ac120004"
      },
      {
       "current": "35c362a4-55a3-11e7-b0b2-00163e9c0e35-3-e49a-f407-50db",
       "next": "bd797188-910b-11ea-8d02-0242ac120007-2-a27b-d878",
       "previous": "74317e28-56fb-11ec-a1da-0242ac120004-1-474d"
      },
      {
       "current": "35c362a4-55a3-11e7-b0b2-00163e9c0e35-4-e49a-f407-50db-94a3",
       "next": "bd797188-910b-11ea-8d02-0242ac120007-3-a27b-d878-1f2d",
       "previous": "74317e28-56fb-11ec-a1da-0242ac120004-2-474d-7406"
      },
      {
       "current": "35c362a4-55a3-11e7-b0b2-00163e9c0e35-4-e49a-f407-50db-94a3",
       "next": "bd797188-910b-11ea-8d02-0242ac120007-4-a27b-d878-1f2d-617b",
       "previous": "74317e28-56fb-11ec-a1da-0242ac120004-3-474d-7406-1dc6"
      },
      {
       "current": "35c362a4-55a3-11e7-b0b2-00163e9c0e35-5-e49a-f407-50db-94a3-84a7",
       "next": "bd797188-910b-11ea-8d02-0242ac120007-4-a27b-d878-1f2d-617b",
       "previous": "0a628596-22ff-11ef-ad2f-0242ac120005"
      },
      {
       "current": "35c362a4-55a3-11e7-b0b2-00163e9c0e35-6-e49a-f407-50db-94a3-84a7-9a47",
       "next": "bd797188-910b-11ea-8d02-0242ac120007-5-a27b-d878-1f2d-617b-60d8",
       "previous": "0a628596-22ff-11ef-ad2f-0242ac120005-1-e00e"
      }
     ],
     "next": "bd797188-910b-11ea-8d02-0242ac120007-6-a27b-d878-1f2d-617b-60d8-ede7",
     "previous": "0a628596-22ff-11ef-ad2f-0242ac120005-2-e00e-2a6b"
    }
   },
   "source": [
    "# 疎通確認\n",
    "以下コマンドを実行し、OpeHubからCephAdmin経由で、Cephノードに疎通することを確認する。"
   ]
  },
  {
   "cell_type": "code",
   "execution_count": null,
   "metadata": {
    "lc_cell_meme": {
     "current": "bd797188-910b-11ea-8d02-0242ac120007-6-a27b-d878-1f2d-617b-60d8-ede7",
     "history": [
      {
       "current": "bd797188-910b-11ea-8d02-0242ac120007",
       "next": "35c362a4-55a3-11e7-b0b2-00163e9c0e35",
       "previous": "7d464504-9107-11ea-8d02-0242ac120007"
      },
      {
       "current": "bd797188-910b-11ea-8d02-0242ac120007",
       "next": "70b95056-9111-11ea-8d02-0242ac120007",
       "previous": "7d464504-9107-11ea-8d02-0242ac120007"
      },
      {
       "current": "bd797188-910b-11ea-8d02-0242ac120007",
       "next": "35c362a4-55a3-11e7-b0b2-00163e9c0e35",
       "previous": "7d464504-9107-11ea-8d02-0242ac120007"
      },
      {
       "current": "bd797188-910b-11ea-8d02-0242ac120007",
       "next": "35c362a4-55a3-11e7-b0b2-00163e9c0e35",
       "previous": "4cd5af28-7ef5-11ea-a926-0242ac120004"
      },
      {
       "current": "bd797188-910b-11ea-8d02-0242ac120007",
       "next": "35c36448-55a3-11e7-b0b2-00163e9c0e35",
       "previous": "35c362a4-55a3-11e7-b0b2-00163e9c0e35"
      },
      {
       "current": "bd797188-910b-11ea-8d02-0242ac120007",
       "next": "35c3783e-55a3-11e7-b0b2-00163e9c0e35",
       "previous": "35c362a4-55a3-11e7-b0b2-00163e9c0e35"
      },
      {
       "current": "bd797188-910b-11ea-8d02-0242ac120007",
       "next": "35c3783e-55a3-11e7-b0b2-00163e9c0e35",
       "previous": "484c7376-935c-11ea-8d02-0242ac120007"
      },
      {
       "current": "bd797188-910b-11ea-8d02-0242ac120007",
       "next": "35c3783e-55a3-11e7-b0b2-00163e9c0e35",
       "previous": "35c362a4-55a3-11e7-b0b2-00163e9c0e35"
      },
      {
       "current": "bd797188-910b-11ea-8d02-0242ac120007",
       "next": "ac56a252-95bd-11ea-8d02-0242ac120007",
       "previous": "35c362a4-55a3-11e7-b0b2-00163e9c0e35"
      },
      {
       "current": "bd797188-910b-11ea-8d02-0242ac120007",
       "next": "3121c468-9a31-11ea-8d02-0242ac120007",
       "previous": "35c362a4-55a3-11e7-b0b2-00163e9c0e35"
      },
      {
       "current": "bd797188-910b-11ea-8d02-0242ac120007",
       "next": "65205d38-9a36-11ea-8d02-0242ac120007",
       "previous": "35c362a4-55a3-11e7-b0b2-00163e9c0e35"
      },
      {
       "current": "bd797188-910b-11ea-8d02-0242ac120007-1-a27b",
       "next": "9418ce40-9a36-11ea-8d02-0242ac120007",
       "previous": "35c362a4-55a3-11e7-b0b2-00163e9c0e35"
      },
      {
       "current": "bd797188-910b-11ea-8d02-0242ac120007-2-a27b-d878",
       "next": "9418ce40-9a36-11ea-8d02-0242ac120007-1-e415",
       "previous": "35c362a4-55a3-11e7-b0b2-00163e9c0e35-1-e49a"
      },
      {
       "current": "bd797188-910b-11ea-8d02-0242ac120007-3-a27b-d878-1f2d",
       "next": "9418ce40-9a36-11ea-8d02-0242ac120007-2-e415-abb0",
       "previous": "35c362a4-55a3-11e7-b0b2-00163e9c0e35-2-e49a-f407"
      },
      {
       "current": "bd797188-910b-11ea-8d02-0242ac120007-4-a27b-d878-1f2d-617b",
       "next": "9418ce40-9a36-11ea-8d02-0242ac120007-3-e415-abb0-091a",
       "previous": "35c362a4-55a3-11e7-b0b2-00163e9c0e35-3-e49a-f407-50db"
      },
      {
       "current": "bd797188-910b-11ea-8d02-0242ac120007-5-a27b-d878-1f2d-617b-60d8",
       "next": "9418ce40-9a36-11ea-8d02-0242ac120007-4-e415-abb0-091a-3888",
       "previous": "35c362a4-55a3-11e7-b0b2-00163e9c0e35-4-e49a-f407-50db-94a3"
      },
      {
       "current": "bd797188-910b-11ea-8d02-0242ac120007-6-a27b-d878-1f2d-617b-60d8-ede7",
       "next": "9418ce40-9a36-11ea-8d02-0242ac120007-5-e415-abb0-091a-3888-1ca3",
       "previous": "35c362a4-55a3-11e7-b0b2-00163e9c0e35-5-e49a-f407-50db-94a3-84a7"
      }
     ],
     "next": "9418ce40-9a36-11ea-8d02-0242ac120007-6-e415-abb0-091a-3888-1ca3-b6f2",
     "previous": "35c362a4-55a3-11e7-b0b2-00163e9c0e35-6-e49a-f407-50db-94a3-84a7-9a47"
    }
   },
   "outputs": [],
   "source": [
    "!ansible -b -m shell -a 'hostname' ceph_admin"
   ]
  },
  {
   "cell_type": "markdown",
   "metadata": {
    "lc_cell_meme": {
     "current": "9418ce40-9a36-11ea-8d02-0242ac120007-6-e415-abb0-091a-3888-1ca3-b6f2",
     "history": [
      {
       "current": "9418ce40-9a36-11ea-8d02-0242ac120007-1-e415",
       "next": "65205d38-9a36-11ea-8d02-0242ac120007",
       "previous": "bd797188-910b-11ea-8d02-0242ac120007"
      },
      {
       "current": "9418ce40-9a36-11ea-8d02-0242ac120007-2-e415-abb0",
       "next": "65205d38-9a36-11ea-8d02-0242ac120007-1-4503",
       "previous": "bd797188-910b-11ea-8d02-0242ac120007-1-a27b"
      },
      {
       "current": "9418ce40-9a36-11ea-8d02-0242ac120007-2-e415-abb0",
       "next": "65205d38-9a36-11ea-8d02-0242ac120007-2-4503-c921",
       "previous": "bd797188-910b-11ea-8d02-0242ac120007-2-a27b-d878"
      },
      {
       "current": "9418ce40-9a36-11ea-8d02-0242ac120007-3-e415-abb0-091a",
       "next": "034b7262-56fc-11ec-a1da-0242ac120004-1-6184",
       "previous": "bd797188-910b-11ea-8d02-0242ac120007-2-a27b-d878"
      },
      {
       "current": "9418ce40-9a36-11ea-8d02-0242ac120007-4-e415-abb0-091a-3888",
       "next": "034b7262-56fc-11ec-a1da-0242ac120004-2-6184-2dbf",
       "previous": "bd797188-910b-11ea-8d02-0242ac120007-3-a27b-d878-1f2d"
      },
      {
       "current": "9418ce40-9a36-11ea-8d02-0242ac120007-5-e415-abb0-091a-3888-1ca3",
       "next": "034b7262-56fc-11ec-a1da-0242ac120004-3-6184-2dbf-a440",
       "previous": "bd797188-910b-11ea-8d02-0242ac120007-4-a27b-d878-1f2d-617b"
      },
      {
       "current": "9418ce40-9a36-11ea-8d02-0242ac120007-6-e415-abb0-091a-3888-1ca3-b6f2",
       "next": "034b7262-56fc-11ec-a1da-0242ac120004-4-6184-2dbf-a440-a5be",
       "previous": "bd797188-910b-11ea-8d02-0242ac120007-5-a27b-d878-1f2d-617b-60d8"
      }
     ],
     "next": "034b7262-56fc-11ec-a1da-0242ac120004-5-6184-2dbf-a440-a5be-3f63",
     "previous": "bd797188-910b-11ea-8d02-0242ac120007-6-a27b-d878-1f2d-617b-60d8-ede7"
    }
   },
   "source": [
    "以下コマンドを実行し、OpeHubからCephAdminに疎通することを確認する。"
   ]
  },
  {
   "cell_type": "code",
   "execution_count": null,
   "metadata": {
    "lc_cell_meme": {
     "current": "034b7262-56fc-11ec-a1da-0242ac120004-5-6184-2dbf-a440-a5be-3f63",
     "history": [
      {
       "current": "034b7262-56fc-11ec-a1da-0242ac120004",
       "next": "cfbfd3de-9a50-11ea-8d02-0242ac120007-1-a19f",
       "previous": "65205d38-9a36-11ea-8d02-0242ac120007-1-4503"
      },
      {
       "current": "034b7262-56fc-11ec-a1da-0242ac120004-1-6184",
       "next": "08f1174a-9b04-11ea-8d02-0242ac120007-1-f99a",
       "previous": "65205d38-9a36-11ea-8d02-0242ac120007-1-4503"
      },
      {
       "current": "034b7262-56fc-11ec-a1da-0242ac120004-1-6184",
       "next": "08f1174a-9b04-11ea-8d02-0242ac120007-2-f99a-9309",
       "previous": "65205d38-9a36-11ea-8d02-0242ac120007-2-4503-c921"
      },
      {
       "current": "034b7262-56fc-11ec-a1da-0242ac120004-1-6184",
       "next": "ecc4b59c-6cae-11ee-89fa-0242ac120005",
       "previous": "65205d38-9a36-11ea-8d02-0242ac120007-2-4503-c921"
      },
      {
       "current": "034b7262-56fc-11ec-a1da-0242ac120004-2-6184-2dbf",
       "next": "ecc4b59c-6cae-11ee-89fa-0242ac120005",
       "previous": "9418ce40-9a36-11ea-8d02-0242ac120007-2-e415-abb0"
      },
      {
       "current": "034b7262-56fc-11ec-a1da-0242ac120004-3-6184-2dbf-a440",
       "next": "ecc4b59c-6cae-11ee-89fa-0242ac120005-1-a194",
       "previous": "9418ce40-9a36-11ea-8d02-0242ac120007-3-e415-abb0-091a"
      },
      {
       "current": "034b7262-56fc-11ec-a1da-0242ac120004-4-6184-2dbf-a440-a5be",
       "next": "ecc4b59c-6cae-11ee-89fa-0242ac120005-2-a194-f6e9",
       "previous": "9418ce40-9a36-11ea-8d02-0242ac120007-4-e415-abb0-091a-3888"
      },
      {
       "current": "034b7262-56fc-11ec-a1da-0242ac120004-5-6184-2dbf-a440-a5be-3f63",
       "next": "ecc4b59c-6cae-11ee-89fa-0242ac120005-3-a194-f6e9-4e2a",
       "previous": "9418ce40-9a36-11ea-8d02-0242ac120007-5-e415-abb0-091a-3888-1ca3"
      }
     ],
     "next": "ecc4b59c-6cae-11ee-89fa-0242ac120005-4-a194-f6e9-4e2a-d410",
     "previous": "9418ce40-9a36-11ea-8d02-0242ac120007-6-e415-abb0-091a-3888-1ca3-b6f2"
    }
   },
   "outputs": [],
   "source": [
    "!ansible -b -m shell -a 'hostname' bootstrap"
   ]
  },
  {
   "cell_type": "code",
   "execution_count": null,
   "metadata": {
    "lc_cell_meme": {
     "current": "ecc4b59c-6cae-11ee-89fa-0242ac120005-4-a194-f6e9-4e2a-d410",
     "history": [
      {
       "current": "ecc4b59c-6cae-11ee-89fa-0242ac120005",
       "next": "08f1174a-9b04-11ea-8d02-0242ac120007-2-f99a-9309",
       "previous": "034b7262-56fc-11ec-a1da-0242ac120004-1-6184"
      },
      {
       "current": "ecc4b59c-6cae-11ee-89fa-0242ac120005",
       "next": "f22be07e-81e3-11ee-91d3-0242ac120006",
       "previous": "034b7262-56fc-11ec-a1da-0242ac120004-1-6184"
      },
      {
       "current": "ecc4b59c-6cae-11ee-89fa-0242ac120005",
       "next": "28c9c182-8383-11ee-91d3-0242ac120006",
       "previous": "034b7262-56fc-11ec-a1da-0242ac120004-1-6184"
      },
      {
       "current": "ecc4b59c-6cae-11ee-89fa-0242ac120005",
       "next": "b7e8f19c-838a-11ee-91d3-0242ac120006",
       "previous": "034b7262-56fc-11ec-a1da-0242ac120004-1-6184"
      },
      {
       "current": "ecc4b59c-6cae-11ee-89fa-0242ac120005-1-a194",
       "next": "28c9c182-8383-11ee-91d3-0242ac120006",
       "previous": "034b7262-56fc-11ec-a1da-0242ac120004-1-6184"
      },
      {
       "current": "ecc4b59c-6cae-11ee-89fa-0242ac120005-2-a194-f6e9",
       "next": "28c9c182-8383-11ee-91d3-0242ac120006-1-60ac",
       "previous": "034b7262-56fc-11ec-a1da-0242ac120004-2-6184-2dbf"
      },
      {
       "current": "ecc4b59c-6cae-11ee-89fa-0242ac120005-3-a194-f6e9-4e2a",
       "next": "28c9c182-8383-11ee-91d3-0242ac120006-2-60ac-cc15",
       "previous": "034b7262-56fc-11ec-a1da-0242ac120004-3-6184-2dbf-a440"
      },
      {
       "current": "ecc4b59c-6cae-11ee-89fa-0242ac120005-4-a194-f6e9-4e2a-d410",
       "next": "28c9c182-8383-11ee-91d3-0242ac120006-3-60ac-cc15-4136",
       "previous": "034b7262-56fc-11ec-a1da-0242ac120004-4-6184-2dbf-a440-a5be"
      }
     ],
     "next": "28c9c182-8383-11ee-91d3-0242ac120006-4-60ac-cc15-4136-1c68",
     "previous": "034b7262-56fc-11ec-a1da-0242ac120004-5-6184-2dbf-a440-a5be-3f63"
    }
   },
   "outputs": [],
   "source": [
    "!ansible -b -m shell -a 'hostname' ceph_node"
   ]
  },
  {
   "cell_type": "markdown",
   "metadata": {
    "lc_cell_meme": {
     "current": "28c9c182-8383-11ee-91d3-0242ac120006-4-60ac-cc15-4136-1c68",
     "history": [
      {
       "current": "28c9c182-8383-11ee-91d3-0242ac120006",
       "next": "28c9c34e-8383-11ee-91d3-0242ac120006",
       "previous": "ecc4b59c-6cae-11ee-89fa-0242ac120005"
      },
      {
       "current": "28c9c182-8383-11ee-91d3-0242ac120006",
       "next": "70733752-8383-11ee-91d3-0242ac120006",
       "previous": "ecc4b59c-6cae-11ee-89fa-0242ac120005"
      },
      {
       "current": "28c9c182-8383-11ee-91d3-0242ac120006",
       "next": "70733752-8383-11ee-91d3-0242ac120006",
       "previous": "b7e8f426-838a-11ee-91d3-0242ac120006"
      },
      {
       "current": "28c9c182-8383-11ee-91d3-0242ac120006",
       "next": "70733752-8383-11ee-91d3-0242ac120006",
       "previous": "0743ff70-8390-11ee-91d3-0242ac120006"
      },
      {
       "current": "28c9c182-8383-11ee-91d3-0242ac120006",
       "next": "70733752-8383-11ee-91d3-0242ac120006",
       "previous": "0743fcc8-8390-11ee-91d3-0242ac120006"
      },
      {
       "current": "28c9c182-8383-11ee-91d3-0242ac120006",
       "next": "70733752-8383-11ee-91d3-0242ac120006",
       "previous": "6d0196a0-8391-11ee-91d3-0242ac120006"
      },
      {
       "current": "28c9c182-8383-11ee-91d3-0242ac120006",
       "next": "70733752-8383-11ee-91d3-0242ac120006",
       "previous": "b488a02c-8391-11ee-91d3-0242ac120006"
      },
      {
       "current": "28c9c182-8383-11ee-91d3-0242ac120006",
       "next": "70733752-8383-11ee-91d3-0242ac120006",
       "previous": "43c2a6fc-8392-11ee-91d3-0242ac120006"
      },
      {
       "current": "28c9c182-8383-11ee-91d3-0242ac120006",
       "next": "01dc65c6-8517-11ee-91d3-0242ac120006",
       "previous": "43c2a6fc-8392-11ee-91d3-0242ac120006"
      },
      {
       "current": "28c9c182-8383-11ee-91d3-0242ac120006-1-60ac",
       "next": "28c9c4de-8383-11ee-91d3-0242ac120006-1-7c21",
       "previous": "ecc4b59c-6cae-11ee-89fa-0242ac120005"
      },
      {
       "current": "28c9c182-8383-11ee-91d3-0242ac120006-2-60ac-cc15",
       "next": "28c9c4de-8383-11ee-91d3-0242ac120006-2-7c21-2bef",
       "previous": "ecc4b59c-6cae-11ee-89fa-0242ac120005-1-a194"
      },
      {
       "current": "28c9c182-8383-11ee-91d3-0242ac120006-3-60ac-cc15-4136",
       "next": "28c9c4de-8383-11ee-91d3-0242ac120006-3-7c21-2bef-2bbd",
       "previous": "ecc4b59c-6cae-11ee-89fa-0242ac120005-2-a194-f6e9"
      },
      {
       "current": "28c9c182-8383-11ee-91d3-0242ac120006-4-60ac-cc15-4136-1c68",
       "next": "28c9c4de-8383-11ee-91d3-0242ac120006-4-7c21-2bef-2bbd-9307",
       "previous": "ecc4b59c-6cae-11ee-89fa-0242ac120005-3-a194-f6e9-4e2a"
      }
     ],
     "next": "28c9c4de-8383-11ee-91d3-0242ac120006-5-7c21-2bef-2bbd-9307-eb99",
     "previous": "ecc4b59c-6cae-11ee-89fa-0242ac120005-4-a194-f6e9-4e2a-d410"
    }
   },
   "source": [
    "# OSDイメージ更新"
   ]
  },
  {
   "cell_type": "markdown",
   "metadata": {
    "lc_cell_meme": {
     "current": "28c9c4de-8383-11ee-91d3-0242ac120006-5-7c21-2bef-2bbd-9307-eb99",
     "history": [
      {
       "current": "28c9c4de-8383-11ee-91d3-0242ac120006-1-7c21",
       "next": "28c9c57e-8383-11ee-91d3-0242ac120006",
       "previous": "28c9c34e-8383-11ee-91d3-0242ac120006"
      },
      {
       "current": "28c9c4de-8383-11ee-91d3-0242ac120006-1-7c21",
       "next": "28c9c57e-8383-11ee-91d3-0242ac120006",
       "previous": "676cf45e-8518-11ee-91d3-0242ac120006"
      },
      {
       "current": "28c9c4de-8383-11ee-91d3-0242ac120006-1-7c21",
       "next": "28c9c57e-8383-11ee-91d3-0242ac120006",
       "previous": "28c9c34e-8383-11ee-91d3-0242ac120006"
      },
      {
       "current": "28c9c4de-8383-11ee-91d3-0242ac120006-1-7c21",
       "next": "28c9c57e-8383-11ee-91d3-0242ac120006",
       "previous": "7ede1e8a-8741-11ee-91d3-0242ac120006"
      },
      {
       "current": "28c9c4de-8383-11ee-91d3-0242ac120006-2-7c21-2bef",
       "next": "28c9c57e-8383-11ee-91d3-0242ac120006",
       "previous": "28c9c182-8383-11ee-91d3-0242ac120006"
      },
      {
       "current": "28c9c4de-8383-11ee-91d3-0242ac120006-3-7c21-2bef-2bbd",
       "next": "28c9c57e-8383-11ee-91d3-0242ac120006-1-9520",
       "previous": "28c9c182-8383-11ee-91d3-0242ac120006-1-60ac"
      },
      {
       "current": "28c9c4de-8383-11ee-91d3-0242ac120006-4-7c21-2bef-2bbd-9307",
       "next": "28c9c57e-8383-11ee-91d3-0242ac120006-2-9520-5f32",
       "previous": "28c9c182-8383-11ee-91d3-0242ac120006-2-60ac-cc15"
      },
      {
       "current": "28c9c4de-8383-11ee-91d3-0242ac120006-5-7c21-2bef-2bbd-9307-eb99",
       "next": "28c9c57e-8383-11ee-91d3-0242ac120006-3-9520-5f32-96ab",
       "previous": "28c9c182-8383-11ee-91d3-0242ac120006-3-60ac-cc15-4136"
      }
     ],
     "next": "28c9c57e-8383-11ee-91d3-0242ac120006-4-9520-5f32-96ab-f075",
     "previous": "28c9c182-8383-11ee-91d3-0242ac120006-4-60ac-cc15-4136-1c68"
    }
   },
   "source": [
    "## OSDデーモン noout設定\n",
    "更新対象ホスト上のOSDにnooutフラグを設定する。"
   ]
  },
  {
   "cell_type": "code",
   "execution_count": null,
   "metadata": {
    "lc_cell_meme": {
     "current": "28c9c57e-8383-11ee-91d3-0242ac120006-4-9520-5f32-96ab-f075",
     "history": [
      {
       "current": "28c9c57e-8383-11ee-91d3-0242ac120006",
       "next": "f22be07e-81e3-11ee-91d3-0242ac120006",
       "previous": "28c9c4de-8383-11ee-91d3-0242ac120006"
      },
      {
       "current": "28c9c57e-8383-11ee-91d3-0242ac120006-1-9520",
       "next": "b7ec63a6-8383-11ee-91d3-0242ac120006",
       "previous": "28c9c4de-8383-11ee-91d3-0242ac120006-1-7c21"
      },
      {
       "current": "28c9c57e-8383-11ee-91d3-0242ac120006-2-9520-5f32",
       "next": "b7ec63a6-8383-11ee-91d3-0242ac120006-1-52e1",
       "previous": "28c9c4de-8383-11ee-91d3-0242ac120006-2-7c21-2bef"
      },
      {
       "current": "28c9c57e-8383-11ee-91d3-0242ac120006-3-9520-5f32-96ab",
       "next": "b7ec63a6-8383-11ee-91d3-0242ac120006-2-52e1-20b6",
       "previous": "28c9c4de-8383-11ee-91d3-0242ac120006-3-7c21-2bef-2bbd"
      },
      {
       "current": "28c9c57e-8383-11ee-91d3-0242ac120006-4-9520-5f32-96ab-f075",
       "next": "b7ec63a6-8383-11ee-91d3-0242ac120006-3-52e1-20b6-6d29",
       "previous": "28c9c4de-8383-11ee-91d3-0242ac120006-4-7c21-2bef-2bbd-9307"
      }
     ],
     "next": "b7ec63a6-8383-11ee-91d3-0242ac120006-4-52e1-20b6-6d29-7fd6",
     "previous": "28c9c4de-8383-11ee-91d3-0242ac120006-5-7c21-2bef-2bbd-9307-eb99"
    }
   },
   "outputs": [],
   "source": [
    "ret = !ansible -b -m shell -a \"cephadm shell -- ceph osd ls-tree $instance_name 2> /dev/null\" bootstrap\n",
    "ret"
   ]
  },
  {
   "cell_type": "code",
   "execution_count": null,
   "metadata": {
    "lc_cell_meme": {
     "current": "b7ec63a6-8383-11ee-91d3-0242ac120006-4-52e1-20b6-6d29-7fd6",
     "history": [
      {
       "current": "b7ec63a6-8383-11ee-91d3-0242ac120006-1-52e1",
       "next": "b7ec6554-8383-11ee-91d3-0242ac120006",
       "previous": "28c9c57e-8383-11ee-91d3-0242ac120006"
      },
      {
       "current": "b7ec63a6-8383-11ee-91d3-0242ac120006-2-52e1-20b6",
       "next": "b7ec6554-8383-11ee-91d3-0242ac120006-1-a5fc",
       "previous": "28c9c57e-8383-11ee-91d3-0242ac120006-1-9520"
      },
      {
       "current": "b7ec63a6-8383-11ee-91d3-0242ac120006-3-52e1-20b6-6d29",
       "next": "b7ec6554-8383-11ee-91d3-0242ac120006-2-a5fc-c81e",
       "previous": "28c9c57e-8383-11ee-91d3-0242ac120006-2-9520-5f32"
      },
      {
       "current": "b7ec63a6-8383-11ee-91d3-0242ac120006-4-52e1-20b6-6d29-7fd6",
       "next": "b7ec6554-8383-11ee-91d3-0242ac120006-3-a5fc-c81e-da03",
       "previous": "28c9c57e-8383-11ee-91d3-0242ac120006-3-9520-5f32-96ab"
      }
     ],
     "next": "b7ec6554-8383-11ee-91d3-0242ac120006-4-a5fc-c81e-da03-3968",
     "previous": "28c9c57e-8383-11ee-91d3-0242ac120006-4-9520-5f32-96ab-f075"
    }
   },
   "outputs": [],
   "source": [
    "ret.pop(0)\n",
    "ret"
   ]
  },
  {
   "cell_type": "code",
   "execution_count": null,
   "metadata": {
    "lc_cell_meme": {
     "current": "b7ec6554-8383-11ee-91d3-0242ac120006-4-a5fc-c81e-da03-3968",
     "history": [
      {
       "current": "b7ec6554-8383-11ee-91d3-0242ac120006",
       "next": "b7ec65f4-8383-11ee-91d3-0242ac120006",
       "previous": "b7ec63a6-8383-11ee-91d3-0242ac120006"
      },
      {
       "current": "b7ec6554-8383-11ee-91d3-0242ac120006-1-a5fc",
       "next": "89ec8f72-8841-11ee-91d3-0242ac120006",
       "previous": "b7ec63a6-8383-11ee-91d3-0242ac120006"
      },
      {
       "current": "b7ec6554-8383-11ee-91d3-0242ac120006-2-a5fc-c81e",
       "next": "89ec8f72-8841-11ee-91d3-0242ac120006-1-c82f",
       "previous": "b7ec63a6-8383-11ee-91d3-0242ac120006-1-52e1"
      },
      {
       "current": "b7ec6554-8383-11ee-91d3-0242ac120006-3-a5fc-c81e-da03",
       "next": "89ec8f72-8841-11ee-91d3-0242ac120006-2-c82f-0148",
       "previous": "b7ec63a6-8383-11ee-91d3-0242ac120006-2-52e1-20b6"
      },
      {
       "current": "b7ec6554-8383-11ee-91d3-0242ac120006-4-a5fc-c81e-da03-3968",
       "next": "89ec8f72-8841-11ee-91d3-0242ac120006-3-c82f-0148-60d5",
       "previous": "b7ec63a6-8383-11ee-91d3-0242ac120006-3-52e1-20b6-6d29"
      }
     ],
     "next": "89ec8f72-8841-11ee-91d3-0242ac120006-4-c82f-0148-60d5-9559",
     "previous": "b7ec63a6-8383-11ee-91d3-0242ac120006-4-52e1-20b6-6d29-7fd6"
    }
   },
   "outputs": [],
   "source": [
    "osd_num=0\n",
    "for osd_id in ret:\n",
    "    if osd_id.isdecimal() == True:\n",
    "        !ansible -b -m shell -a \"cephadm shell -- ceph osd add-noout osd.$osd_id 2> /dev/null\" bootstrap\n",
    "        osd_num += 1"
   ]
  },
  {
   "cell_type": "code",
   "execution_count": null,
   "metadata": {
    "lc_cell_meme": {
     "current": "89ec8f72-8841-11ee-91d3-0242ac120006-4-c82f-0148-60d5-9559",
     "history": [
      {
       "current": "89ec8f72-8841-11ee-91d3-0242ac120006-1-c82f",
       "next": "b7ec65f4-8383-11ee-91d3-0242ac120006",
       "previous": "b7ec6554-8383-11ee-91d3-0242ac120006"
      },
      {
       "current": "89ec8f72-8841-11ee-91d3-0242ac120006-2-c82f-0148",
       "next": "b7ec65f4-8383-11ee-91d3-0242ac120006-1-5070",
       "previous": "b7ec6554-8383-11ee-91d3-0242ac120006-1-a5fc"
      },
      {
       "current": "89ec8f72-8841-11ee-91d3-0242ac120006-3-c82f-0148-60d5",
       "next": "b7ec65f4-8383-11ee-91d3-0242ac120006-2-5070-43a3",
       "previous": "b7ec6554-8383-11ee-91d3-0242ac120006-2-a5fc-c81e"
      },
      {
       "current": "89ec8f72-8841-11ee-91d3-0242ac120006-4-c82f-0148-60d5-9559",
       "next": "b7ec65f4-8383-11ee-91d3-0242ac120006-3-5070-43a3-2fbe",
       "previous": "b7ec6554-8383-11ee-91d3-0242ac120006-3-a5fc-c81e-da03"
      }
     ],
     "next": "b7ec65f4-8383-11ee-91d3-0242ac120006-4-5070-43a3-2fbe-7862",
     "previous": "b7ec6554-8383-11ee-91d3-0242ac120006-4-a5fc-c81e-da03-3968"
    }
   },
   "outputs": [],
   "source": [
    "print(osd_num)\n",
    "assert (osd_num > 0), \"対象ホストにOSDは存在していません。以降の更新作業を中断してください。\""
   ]
  },
  {
   "cell_type": "code",
   "execution_count": null,
   "metadata": {
    "lc_cell_meme": {
     "current": "b7ec65f4-8383-11ee-91d3-0242ac120006-4-5070-43a3-2fbe-7862",
     "history": [
      {
       "current": "b7ec65f4-8383-11ee-91d3-0242ac120006",
       "next": "b7ec6662-8383-11ee-91d3-0242ac120006",
       "previous": "b7ec6554-8383-11ee-91d3-0242ac120006"
      },
      {
       "current": "b7ec65f4-8383-11ee-91d3-0242ac120006",
       "next": "b7ec6662-8383-11ee-91d3-0242ac120006-1-c443",
       "previous": "b7ec6554-8383-11ee-91d3-0242ac120006"
      },
      {
       "current": "b7ec65f4-8383-11ee-91d3-0242ac120006",
       "next": "d6091ebe-8384-11ee-91d3-0242ac120006",
       "previous": "b7ec6554-8383-11ee-91d3-0242ac120006"
      },
      {
       "current": "b7ec65f4-8383-11ee-91d3-0242ac120006",
       "next": "ff2edb22-8829-11ee-91d3-0242ac120006",
       "previous": "b7ec6554-8383-11ee-91d3-0242ac120006"
      },
      {
       "current": "b7ec65f4-8383-11ee-91d3-0242ac120006",
       "next": "ff2edb22-8829-11ee-91d3-0242ac120006-1-9ac1",
       "previous": "b7ec6554-8383-11ee-91d3-0242ac120006"
      },
      {
       "current": "b7ec65f4-8383-11ee-91d3-0242ac120006",
       "next": "89ec91a2-8841-11ee-91d3-0242ac120006",
       "previous": "89ec8f72-8841-11ee-91d3-0242ac120006"
      },
      {
       "current": "b7ec65f4-8383-11ee-91d3-0242ac120006-1-5070",
       "next": "89ec91a2-8841-11ee-91d3-0242ac120006-1-df4d",
       "previous": "89ec8f72-8841-11ee-91d3-0242ac120006"
      },
      {
       "current": "b7ec65f4-8383-11ee-91d3-0242ac120006-2-5070-43a3",
       "next": "89ec91a2-8841-11ee-91d3-0242ac120006-2-df4d-31e2",
       "previous": "89ec8f72-8841-11ee-91d3-0242ac120006-1-c82f"
      },
      {
       "current": "b7ec65f4-8383-11ee-91d3-0242ac120006-3-5070-43a3-2fbe",
       "next": "89ec91a2-8841-11ee-91d3-0242ac120006-3-df4d-31e2-38ac",
       "previous": "89ec8f72-8841-11ee-91d3-0242ac120006-2-c82f-0148"
      },
      {
       "current": "b7ec65f4-8383-11ee-91d3-0242ac120006-4-5070-43a3-2fbe-7862",
       "next": "89ec91a2-8841-11ee-91d3-0242ac120006-4-df4d-31e2-38ac-16b3",
       "previous": "89ec8f72-8841-11ee-91d3-0242ac120006-3-c82f-0148-60d5"
      }
     ],
     "next": "89ec91a2-8841-11ee-91d3-0242ac120006-5-df4d-31e2-38ac-16b3-f697",
     "previous": "89ec8f72-8841-11ee-91d3-0242ac120006-4-c82f-0148-60d5-9559"
    }
   },
   "outputs": [],
   "source": [
    "!ansible -b -m shell -a \"cephadm shell -- ceph -s 2> /dev/null\" bootstrap"
   ]
  },
  {
   "cell_type": "markdown",
   "metadata": {
    "lc_cell_meme": {
     "current": "89ec91a2-8841-11ee-91d3-0242ac120006-5-df4d-31e2-38ac-16b3-f697",
     "history": [
      {
       "current": "89ec91a2-8841-11ee-91d3-0242ac120006-2-df4d-31e2",
       "next": "89ec9242-8841-11ee-91d3-0242ac120006",
       "previous": "b7ec65f4-8383-11ee-91d3-0242ac120006"
      },
      {
       "current": "89ec91a2-8841-11ee-91d3-0242ac120006-3-df4d-31e2-38ac",
       "next": "89ec9242-8841-11ee-91d3-0242ac120006-1-736f",
       "previous": "b7ec65f4-8383-11ee-91d3-0242ac120006-1-5070"
      },
      {
       "current": "89ec91a2-8841-11ee-91d3-0242ac120006-4-df4d-31e2-38ac-16b3",
       "next": "89ec9242-8841-11ee-91d3-0242ac120006-2-736f-bd9e",
       "previous": "b7ec65f4-8383-11ee-91d3-0242ac120006-2-5070-43a3"
      },
      {
       "current": "89ec91a2-8841-11ee-91d3-0242ac120006-5-df4d-31e2-38ac-16b3-f697",
       "next": "89ec9242-8841-11ee-91d3-0242ac120006-3-736f-bd9e-4d65",
       "previous": "b7ec65f4-8383-11ee-91d3-0242ac120006-3-5070-43a3-2fbe"
      }
     ],
     "next": "89ec9242-8841-11ee-91d3-0242ac120006-4-736f-bd9e-4d65-f1e5",
     "previous": "b7ec65f4-8383-11ee-91d3-0242ac120006-4-5070-43a3-2fbe-7862"
    }
   },
   "source": [
    "## OSD Update"
   ]
  },
  {
   "cell_type": "code",
   "execution_count": null,
   "metadata": {
    "lc_cell_meme": {
     "current": "89ec9242-8841-11ee-91d3-0242ac120006-4-736f-bd9e-4d65-f1e5",
     "history": [
      {
       "current": "89ec9242-8841-11ee-91d3-0242ac120006",
       "next": "89ec92a6-8841-11ee-91d3-0242ac120006",
       "previous": "89ec91a2-8841-11ee-91d3-0242ac120006"
      },
      {
       "current": "89ec9242-8841-11ee-91d3-0242ac120006-1-736f",
       "next": "89ec92a6-8841-11ee-91d3-0242ac120006",
       "previous": "89ec91a2-8841-11ee-91d3-0242ac120006-1-df4d"
      },
      {
       "current": "89ec9242-8841-11ee-91d3-0242ac120006-2-736f-bd9e",
       "next": "89ec92a6-8841-11ee-91d3-0242ac120006-1-290c",
       "previous": "89ec91a2-8841-11ee-91d3-0242ac120006-2-df4d-31e2"
      },
      {
       "current": "89ec9242-8841-11ee-91d3-0242ac120006-3-736f-bd9e-4d65",
       "next": "89ec92a6-8841-11ee-91d3-0242ac120006-2-290c-19b7",
       "previous": "89ec91a2-8841-11ee-91d3-0242ac120006-3-df4d-31e2-38ac"
      },
      {
       "current": "89ec9242-8841-11ee-91d3-0242ac120006-4-736f-bd9e-4d65-f1e5",
       "next": "89ec92a6-8841-11ee-91d3-0242ac120006-3-290c-19b7-89b6",
       "previous": "89ec91a2-8841-11ee-91d3-0242ac120006-4-df4d-31e2-38ac-16b3"
      }
     ],
     "next": "89ec92a6-8841-11ee-91d3-0242ac120006-4-290c-19b7-89b6-eaaf",
     "previous": "89ec91a2-8841-11ee-91d3-0242ac120006-5-df4d-31e2-38ac-16b3-f697"
    }
   },
   "outputs": [],
   "source": [
    "# 更新対象Cephリポジトリ指定\n",
    "ceph_image = 'repository:5000/ceph/ceph:v17'"
   ]
  },
  {
   "cell_type": "code",
   "execution_count": null,
   "metadata": {
    "lc_cell_meme": {
     "current": "89ec92a6-8841-11ee-91d3-0242ac120006-4-290c-19b7-89b6-eaaf",
     "history": [
      {
       "current": "89ec92a6-8841-11ee-91d3-0242ac120006",
       "next": "89ec930a-8841-11ee-91d3-0242ac120006",
       "previous": "89ec9242-8841-11ee-91d3-0242ac120006"
      },
      {
       "current": "89ec92a6-8841-11ee-91d3-0242ac120006-1-290c",
       "next": "89ec930a-8841-11ee-91d3-0242ac120006-1-925e",
       "previous": "89ec9242-8841-11ee-91d3-0242ac120006"
      },
      {
       "current": "89ec92a6-8841-11ee-91d3-0242ac120006-2-290c-19b7",
       "next": "89ec930a-8841-11ee-91d3-0242ac120006-2-925e-0a22",
       "previous": "89ec9242-8841-11ee-91d3-0242ac120006-1-736f"
      },
      {
       "current": "89ec92a6-8841-11ee-91d3-0242ac120006-3-290c-19b7-89b6",
       "next": "89ec930a-8841-11ee-91d3-0242ac120006-3-925e-0a22-8cb9",
       "previous": "89ec9242-8841-11ee-91d3-0242ac120006-2-736f-bd9e"
      },
      {
       "current": "89ec92a6-8841-11ee-91d3-0242ac120006-4-290c-19b7-89b6-eaaf",
       "next": "89ec930a-8841-11ee-91d3-0242ac120006-4-925e-0a22-8cb9-e44c",
       "previous": "89ec9242-8841-11ee-91d3-0242ac120006-3-736f-bd9e-4d65"
      }
     ],
     "next": "89ec930a-8841-11ee-91d3-0242ac120006-5-925e-0a22-8cb9-e44c-f8dd",
     "previous": "89ec9242-8841-11ee-91d3-0242ac120006-4-736f-bd9e-4d65-f1e5"
    }
   },
   "outputs": [],
   "source": [
    "!ansible -b -m shell -a \"cephadm shell -- ceph orch upgrade start --image $ceph_image --daemon-types osd --hosts $instance_name\" bootstrap"
   ]
  },
  {
   "cell_type": "markdown",
   "metadata": {
    "lc_cell_meme": {
     "current": "89ec930a-8841-11ee-91d3-0242ac120006-5-925e-0a22-8cb9-e44c-f8dd",
     "history": [
      {
       "current": "89ec930a-8841-11ee-91d3-0242ac120006-2-925e-0a22",
       "next": "89ec936e-8841-11ee-91d3-0242ac120006",
       "previous": "89ec92a6-8841-11ee-91d3-0242ac120006"
      },
      {
       "current": "89ec930a-8841-11ee-91d3-0242ac120006-3-925e-0a22-8cb9",
       "next": "89ec936e-8841-11ee-91d3-0242ac120006-1-856a",
       "previous": "89ec92a6-8841-11ee-91d3-0242ac120006-1-290c"
      },
      {
       "current": "89ec930a-8841-11ee-91d3-0242ac120006-4-925e-0a22-8cb9-e44c",
       "next": "89ec936e-8841-11ee-91d3-0242ac120006-2-856a-c1e3",
       "previous": "89ec92a6-8841-11ee-91d3-0242ac120006-2-290c-19b7"
      },
      {
       "current": "89ec930a-8841-11ee-91d3-0242ac120006-5-925e-0a22-8cb9-e44c-f8dd",
       "next": "89ec936e-8841-11ee-91d3-0242ac120006-3-856a-c1e3-41c8",
       "previous": "89ec92a6-8841-11ee-91d3-0242ac120006-3-290c-19b7-89b6"
      }
     ],
     "next": "89ec936e-8841-11ee-91d3-0242ac120006-4-856a-c1e3-41c8-360b",
     "previous": "89ec92a6-8841-11ee-91d3-0242ac120006-4-290c-19b7-89b6-eaaf"
    }
   },
   "source": [
    "## Update完了確認"
   ]
  },
  {
   "cell_type": "code",
   "execution_count": null,
   "metadata": {
    "lc_cell_meme": {
     "current": "89ec936e-8841-11ee-91d3-0242ac120006-4-856a-c1e3-41c8-360b",
     "history": [
      {
       "current": "89ec936e-8841-11ee-91d3-0242ac120006",
       "next": "89ec93d2-8841-11ee-91d3-0242ac120006",
       "previous": "89ec930a-8841-11ee-91d3-0242ac120006"
      },
      {
       "current": "89ec936e-8841-11ee-91d3-0242ac120006",
       "next": "89ec93d2-8841-11ee-91d3-0242ac120006",
       "previous": "89ec930a-8841-11ee-91d3-0242ac120006-1-925e"
      },
      {
       "current": "89ec936e-8841-11ee-91d3-0242ac120006-1-856a",
       "next": "89ec93d2-8841-11ee-91d3-0242ac120006-1-661b",
       "previous": "89ec930a-8841-11ee-91d3-0242ac120006-1-925e"
      },
      {
       "current": "89ec936e-8841-11ee-91d3-0242ac120006-2-856a-c1e3",
       "next": "89ec93d2-8841-11ee-91d3-0242ac120006-2-661b-061c",
       "previous": "89ec930a-8841-11ee-91d3-0242ac120006-2-925e-0a22"
      },
      {
       "current": "89ec936e-8841-11ee-91d3-0242ac120006-3-856a-c1e3-41c8",
       "next": "89ec93d2-8841-11ee-91d3-0242ac120006-3-661b-061c-1588",
       "previous": "89ec930a-8841-11ee-91d3-0242ac120006-3-925e-0a22-8cb9"
      },
      {
       "current": "89ec936e-8841-11ee-91d3-0242ac120006-4-856a-c1e3-41c8-360b",
       "next": "89ec93d2-8841-11ee-91d3-0242ac120006-4-661b-061c-1588-8b60",
       "previous": "89ec930a-8841-11ee-91d3-0242ac120006-4-925e-0a22-8cb9-e44c"
      }
     ],
     "next": "89ec93d2-8841-11ee-91d3-0242ac120006-5-661b-061c-1588-8b60-06ab",
     "previous": "89ec930a-8841-11ee-91d3-0242ac120006-5-925e-0a22-8cb9-e44c-f8dd"
    }
   },
   "outputs": [],
   "source": [
    "import time\n",
    "\n",
    "is_done = False\n",
    "while is_done == False:\n",
    "    ret = !ansible -b -m shell -a \"cephadm shell -- ceph orch upgrade status --format=json 2> /dev/null\" bootstrap\n",
    "    del ret[0:2]\n",
    "    stat_text = ''.join(ret)\n",
    "    stat = json.loads(stat_text)\n",
    "    if stat['in_progress'] == False:\n",
    "        print(\"Progress Done\")\n",
    "        is_done = True\n",
    "    else:\n",
    "        print(\"in_progress=true\")\n",
    "        time.sleep(5)"
   ]
  },
  {
   "cell_type": "markdown",
   "metadata": {
    "lc_cell_meme": {
     "current": "89ec93d2-8841-11ee-91d3-0242ac120006-5-661b-061c-1588-8b60-06ab",
     "history": [
      {
       "current": "89ec93d2-8841-11ee-91d3-0242ac120006-1-661b",
       "next": "89ec942c-8841-11ee-91d3-0242ac120006",
       "previous": "89ec936e-8841-11ee-91d3-0242ac120006"
      },
      {
       "current": "89ec93d2-8841-11ee-91d3-0242ac120006-2-661b-061c",
       "next": "28c9c57e-8383-11ee-91d3-0242ac120006-1-0a50",
       "previous": "89ec936e-8841-11ee-91d3-0242ac120006"
      },
      {
       "current": "89ec93d2-8841-11ee-91d3-0242ac120006-3-661b-061c-1588",
       "next": "28c9c57e-8383-11ee-91d3-0242ac120006-2-0a50-1291",
       "previous": "89ec936e-8841-11ee-91d3-0242ac120006-1-856a"
      },
      {
       "current": "89ec93d2-8841-11ee-91d3-0242ac120006-4-661b-061c-1588-8b60",
       "next": "28c9c57e-8383-11ee-91d3-0242ac120006-3-0a50-1291-ec5c",
       "previous": "89ec936e-8841-11ee-91d3-0242ac120006-2-856a-c1e3"
      },
      {
       "current": "89ec93d2-8841-11ee-91d3-0242ac120006-5-661b-061c-1588-8b60-06ab",
       "next": "28c9c57e-8383-11ee-91d3-0242ac120006-4-0a50-1291-ec5c-ac9b",
       "previous": "89ec936e-8841-11ee-91d3-0242ac120006-3-856a-c1e3-41c8"
      }
     ],
     "next": "28c9c57e-8383-11ee-91d3-0242ac120006-5-0a50-1291-ec5c-ac9b-5ce3",
     "previous": "89ec936e-8841-11ee-91d3-0242ac120006-4-856a-c1e3-41c8-360b"
    }
   },
   "source": [
    "## OSDデーモン noout設定解除\n",
    "停止対象ホスト上のOSDにnooutフラグを解除する。"
   ]
  },
  {
   "cell_type": "code",
   "execution_count": null,
   "metadata": {
    "lc_cell_meme": {
     "current": "28c9c57e-8383-11ee-91d3-0242ac120006-5-0a50-1291-ec5c-ac9b-5ce3",
     "history": [
      {
       "current": "28c9c57e-8383-11ee-91d3-0242ac120006",
       "next": "f22be07e-81e3-11ee-91d3-0242ac120006",
       "previous": "28c9c4de-8383-11ee-91d3-0242ac120006"
      },
      {
       "current": "28c9c57e-8383-11ee-91d3-0242ac120006-1-0a50",
       "next": "b7ec63a6-8383-11ee-91d3-0242ac120006",
       "previous": "28c9c4de-8383-11ee-91d3-0242ac120006-1-7c21"
      },
      {
       "current": "28c9c57e-8383-11ee-91d3-0242ac120006-2-0a50-1291",
       "next": "b7ec63a6-8383-11ee-91d3-0242ac120006-1-83d1",
       "previous": "89ec93d2-8841-11ee-91d3-0242ac120006-1-661b"
      },
      {
       "current": "28c9c57e-8383-11ee-91d3-0242ac120006-3-0a50-1291-ec5c",
       "next": "b7ec63a6-8383-11ee-91d3-0242ac120006-2-83d1-4fc5",
       "previous": "89ec93d2-8841-11ee-91d3-0242ac120006-2-661b-061c"
      },
      {
       "current": "28c9c57e-8383-11ee-91d3-0242ac120006-4-0a50-1291-ec5c-ac9b",
       "next": "b7ec63a6-8383-11ee-91d3-0242ac120006-3-83d1-4fc5-a65c",
       "previous": "89ec93d2-8841-11ee-91d3-0242ac120006-3-661b-061c-1588"
      },
      {
       "current": "28c9c57e-8383-11ee-91d3-0242ac120006-5-0a50-1291-ec5c-ac9b-5ce3",
       "next": "b7ec63a6-8383-11ee-91d3-0242ac120006-4-83d1-4fc5-a65c-1d9f",
       "previous": "89ec93d2-8841-11ee-91d3-0242ac120006-4-661b-061c-1588-8b60"
      }
     ],
     "next": "b7ec63a6-8383-11ee-91d3-0242ac120006-5-83d1-4fc5-a65c-1d9f-bcb7",
     "previous": "89ec93d2-8841-11ee-91d3-0242ac120006-5-661b-061c-1588-8b60-06ab"
    }
   },
   "outputs": [],
   "source": [
    "ret = !ansible -b -m shell -a \"cephadm shell -- ceph osd ls-tree $instance_name 2> /dev/null\" bootstrap\n",
    "ret"
   ]
  },
  {
   "cell_type": "code",
   "execution_count": null,
   "metadata": {
    "lc_cell_meme": {
     "current": "b7ec63a6-8383-11ee-91d3-0242ac120006-5-83d1-4fc5-a65c-1d9f-bcb7",
     "history": [
      {
       "current": "b7ec63a6-8383-11ee-91d3-0242ac120006-1-83d1",
       "next": "b7ec6554-8383-11ee-91d3-0242ac120006",
       "previous": "28c9c57e-8383-11ee-91d3-0242ac120006"
      },
      {
       "current": "b7ec63a6-8383-11ee-91d3-0242ac120006-2-83d1-4fc5",
       "next": "89ec942c-8841-11ee-91d3-0242ac120006",
       "previous": "28c9c57e-8383-11ee-91d3-0242ac120006-1-0a50"
      },
      {
       "current": "b7ec63a6-8383-11ee-91d3-0242ac120006-3-83d1-4fc5-a65c",
       "next": "89ec942c-8841-11ee-91d3-0242ac120006-1-7f1f",
       "previous": "28c9c57e-8383-11ee-91d3-0242ac120006-2-0a50-1291"
      },
      {
       "current": "b7ec63a6-8383-11ee-91d3-0242ac120006-4-83d1-4fc5-a65c-1d9f",
       "next": "89ec942c-8841-11ee-91d3-0242ac120006-2-7f1f-9f86",
       "previous": "28c9c57e-8383-11ee-91d3-0242ac120006-3-0a50-1291-ec5c"
      },
      {
       "current": "b7ec63a6-8383-11ee-91d3-0242ac120006-5-83d1-4fc5-a65c-1d9f-bcb7",
       "next": "89ec942c-8841-11ee-91d3-0242ac120006-3-7f1f-9f86-49e0",
       "previous": "28c9c57e-8383-11ee-91d3-0242ac120006-4-0a50-1291-ec5c-ac9b"
      }
     ],
     "next": "89ec942c-8841-11ee-91d3-0242ac120006-4-7f1f-9f86-49e0-181b",
     "previous": "28c9c57e-8383-11ee-91d3-0242ac120006-5-0a50-1291-ec5c-ac9b-5ce3"
    }
   },
   "outputs": [],
   "source": [
    "ret.pop(0)\n",
    "ret"
   ]
  },
  {
   "cell_type": "code",
   "execution_count": null,
   "metadata": {
    "lc_cell_meme": {
     "current": "89ec942c-8841-11ee-91d3-0242ac120006-4-7f1f-9f86-49e0-181b",
     "history": [
      {
       "current": "89ec942c-8841-11ee-91d3-0242ac120006",
       "next": "ff2edb22-8829-11ee-91d3-0242ac120006-1-9ac1",
       "previous": "89ec93d2-8841-11ee-91d3-0242ac120006"
      },
      {
       "current": "89ec942c-8841-11ee-91d3-0242ac120006",
       "next": "b7ec65f4-8383-11ee-91d3-0242ac120006-1-7280",
       "previous": "89ec93d2-8841-11ee-91d3-0242ac120006-1-661b"
      },
      {
       "current": "89ec942c-8841-11ee-91d3-0242ac120006-1-7f1f",
       "next": "b7ec65f4-8383-11ee-91d3-0242ac120006-1-7280",
       "previous": "b7ec63a6-8383-11ee-91d3-0242ac120006-1-83d1"
      },
      {
       "current": "89ec942c-8841-11ee-91d3-0242ac120006-2-7f1f-9f86",
       "next": "b7ec65f4-8383-11ee-91d3-0242ac120006-2-7280-35b2",
       "previous": "b7ec63a6-8383-11ee-91d3-0242ac120006-2-83d1-4fc5"
      },
      {
       "current": "89ec942c-8841-11ee-91d3-0242ac120006-3-7f1f-9f86-49e0",
       "next": "b7ec65f4-8383-11ee-91d3-0242ac120006-3-7280-35b2-a18b",
       "previous": "b7ec63a6-8383-11ee-91d3-0242ac120006-3-83d1-4fc5-a65c"
      },
      {
       "current": "89ec942c-8841-11ee-91d3-0242ac120006-4-7f1f-9f86-49e0-181b",
       "next": "b7ec65f4-8383-11ee-91d3-0242ac120006-4-7280-35b2-a18b-8ca8",
       "previous": "b7ec63a6-8383-11ee-91d3-0242ac120006-4-83d1-4fc5-a65c-1d9f"
      }
     ],
     "next": "b7ec65f4-8383-11ee-91d3-0242ac120006-5-7280-35b2-a18b-8ca8-05e8",
     "previous": "b7ec63a6-8383-11ee-91d3-0242ac120006-5-83d1-4fc5-a65c-1d9f-bcb7"
    }
   },
   "outputs": [],
   "source": [
    "for osd_id in ret:\n",
    "    if osd_id.isdecimal() == True:\n",
    "        !ansible -b -m shell -a \"cephadm shell -- ceph osd rm-noout osd.$osd_id 2> /dev/null\" bootstrap"
   ]
  },
  {
   "cell_type": "code",
   "execution_count": null,
   "metadata": {
    "lc_cell_meme": {
     "current": "b7ec65f4-8383-11ee-91d3-0242ac120006-5-7280-35b2-a18b-8ca8-05e8",
     "history": [
      {
       "current": "b7ec65f4-8383-11ee-91d3-0242ac120006",
       "next": "b7ec6662-8383-11ee-91d3-0242ac120006",
       "previous": "b7ec6554-8383-11ee-91d3-0242ac120006"
      },
      {
       "current": "b7ec65f4-8383-11ee-91d3-0242ac120006",
       "next": "b7ec6662-8383-11ee-91d3-0242ac120006-1-c443",
       "previous": "b7ec6554-8383-11ee-91d3-0242ac120006"
      },
      {
       "current": "b7ec65f4-8383-11ee-91d3-0242ac120006",
       "next": "d6091ebe-8384-11ee-91d3-0242ac120006",
       "previous": "b7ec6554-8383-11ee-91d3-0242ac120006"
      },
      {
       "current": "b7ec65f4-8383-11ee-91d3-0242ac120006",
       "next": "ff2edb22-8829-11ee-91d3-0242ac120006",
       "previous": "b7ec6554-8383-11ee-91d3-0242ac120006"
      },
      {
       "current": "b7ec65f4-8383-11ee-91d3-0242ac120006-1-7280",
       "next": "ff2edb22-8829-11ee-91d3-0242ac120006-1-9ac1",
       "previous": "b7ec6554-8383-11ee-91d3-0242ac120006"
      },
      {
       "current": "b7ec65f4-8383-11ee-91d3-0242ac120006-1-7280",
       "next": "35c581ba-55a3-11e7-b0b2-00163e9c0e35-2-89bc-f9d0",
       "previous": "b7ec6554-8383-11ee-91d3-0242ac120006-1-176e"
      },
      {
       "current": "b7ec65f4-8383-11ee-91d3-0242ac120006-2-7280-35b2",
       "next": "35c581ba-55a3-11e7-b0b2-00163e9c0e35-2-89bc-f9d0",
       "previous": "89ec942c-8841-11ee-91d3-0242ac120006"
      },
      {
       "current": "b7ec65f4-8383-11ee-91d3-0242ac120006-3-7280-35b2-a18b",
       "next": "35c581ba-55a3-11e7-b0b2-00163e9c0e35-3-89bc-f9d0-5cd4",
       "previous": "89ec942c-8841-11ee-91d3-0242ac120006-1-7f1f"
      },
      {
       "current": "b7ec65f4-8383-11ee-91d3-0242ac120006-4-7280-35b2-a18b-8ca8",
       "next": "35c581ba-55a3-11e7-b0b2-00163e9c0e35-4-89bc-f9d0-5cd4-327c",
       "previous": "89ec942c-8841-11ee-91d3-0242ac120006-2-7f1f-9f86"
      },
      {
       "current": "b7ec65f4-8383-11ee-91d3-0242ac120006-5-7280-35b2-a18b-8ca8-05e8",
       "next": "35c581ba-55a3-11e7-b0b2-00163e9c0e35-5-89bc-f9d0-5cd4-327c-3cf3",
       "previous": "89ec942c-8841-11ee-91d3-0242ac120006-3-7f1f-9f86-49e0"
      }
     ],
     "next": "35c581ba-55a3-11e7-b0b2-00163e9c0e35-6-89bc-f9d0-5cd4-327c-3cf3-cd4f",
     "previous": "89ec942c-8841-11ee-91d3-0242ac120006-4-7f1f-9f86-49e0-181b"
    }
   },
   "outputs": [],
   "source": [
    "!ansible -b -m shell -a \"cephadm shell -- ceph -s 2> /dev/null\" bootstrap"
   ]
  },
  {
   "cell_type": "markdown",
   "metadata": {
    "collapsed": true,
    "lc_cell_meme": {
     "current": "35c581ba-55a3-11e7-b0b2-00163e9c0e35-6-89bc-f9d0-5cd4-327c-3cf3-cd4f",
     "history": [
      {
       "current": "35c581ba-55a3-11e7-b0b2-00163e9c0e35",
       "next": "35c58340-55a3-11e7-b0b2-00163e9c0e35",
       "previous": "35c58034-55a3-11e7-b0b2-00163e9c0e35"
      },
      {
       "current": "35c581ba-55a3-11e7-b0b2-00163e9c0e35",
       "next": "35c58340-55a3-11e7-b0b2-00163e9c0e35",
       "previous": "35c51928-55a3-11e7-b0b2-00163e9c0e35"
      },
      {
       "current": "35c581ba-55a3-11e7-b0b2-00163e9c0e35",
       "next": "35c58340-55a3-11e7-b0b2-00163e9c0e35",
       "previous": "277a614c-47b9-11ea-a028-0242ac120005"
      },
      {
       "current": "35c581ba-55a3-11e7-b0b2-00163e9c0e35",
       "next": "35c58340-55a3-11e7-b0b2-00163e9c0e35",
       "previous": "35c51928-55a3-11e7-b0b2-00163e9c0e35"
      },
      {
       "current": "35c581ba-55a3-11e7-b0b2-00163e9c0e35",
       "next": "35c58340-55a3-11e7-b0b2-00163e9c0e35",
       "previous": "b8a85906-47b6-11ea-a028-0242ac120005"
      },
      {
       "current": "35c581ba-55a3-11e7-b0b2-00163e9c0e35",
       "next": "35c58340-55a3-11e7-b0b2-00163e9c0e35",
       "previous": "35c38fae-55a3-11e7-b0b2-00163e9c0e35"
      },
      {
       "current": "35c581ba-55a3-11e7-b0b2-00163e9c0e35",
       "next": "35c58340-55a3-11e7-b0b2-00163e9c0e35",
       "previous": "35c385a4-55a3-11e7-b0b2-00163e9c0e35"
      },
      {
       "current": "35c581ba-55a3-11e7-b0b2-00163e9c0e35",
       "next": "35c58340-55a3-11e7-b0b2-00163e9c0e35",
       "previous": "27c39180-935b-11ea-8d02-0242ac120007"
      },
      {
       "current": "35c581ba-55a3-11e7-b0b2-00163e9c0e35",
       "next": "35c58340-55a3-11e7-b0b2-00163e9c0e35",
       "previous": "35c385a4-55a3-11e7-b0b2-00163e9c0e35"
      },
      {
       "current": "35c581ba-55a3-11e7-b0b2-00163e9c0e35",
       "next": "35c58340-55a3-11e7-b0b2-00163e9c0e35",
       "previous": "b20d6ace-9684-11ea-8d02-0242ac120007"
      },
      {
       "current": "35c581ba-55a3-11e7-b0b2-00163e9c0e35",
       "next": "35c58340-55a3-11e7-b0b2-00163e9c0e35",
       "previous": "18b837c6-9686-11ea-8d02-0242ac120007"
      },
      {
       "current": "35c581ba-55a3-11e7-b0b2-00163e9c0e35",
       "next": "35c58340-55a3-11e7-b0b2-00163e9c0e35",
       "previous": "59de09f6-9686-11ea-8d02-0242ac120007"
      },
      {
       "current": "35c581ba-55a3-11e7-b0b2-00163e9c0e35",
       "next": "35c58340-55a3-11e7-b0b2-00163e9c0e35",
       "previous": "7dae8b30-9686-11ea-8d02-0242ac120007"
      },
      {
       "current": "35c581ba-55a3-11e7-b0b2-00163e9c0e35",
       "next": "35c58340-55a3-11e7-b0b2-00163e9c0e35",
       "previous": "789942dc-9692-11ea-8d02-0242ac120007"
      },
      {
       "current": "35c581ba-55a3-11e7-b0b2-00163e9c0e35",
       "next": "35c58340-55a3-11e7-b0b2-00163e9c0e35",
       "previous": "e95d003a-9697-11ea-8d02-0242ac120007"
      },
      {
       "current": "35c581ba-55a3-11e7-b0b2-00163e9c0e35",
       "next": "35c58340-55a3-11e7-b0b2-00163e9c0e35",
       "previous": "357fc83a-969d-11ea-8d02-0242ac120007"
      },
      {
       "current": "35c581ba-55a3-11e7-b0b2-00163e9c0e35",
       "next": "35c58340-55a3-11e7-b0b2-00163e9c0e35",
       "previous": "7dae86da-9686-11ea-8d02-0242ac120007"
      },
      {
       "current": "35c581ba-55a3-11e7-b0b2-00163e9c0e35",
       "next": "35c58340-55a3-11e7-b0b2-00163e9c0e35",
       "previous": "49102d8c-98a9-11ea-8d02-0242ac120007"
      },
      {
       "current": "35c581ba-55a3-11e7-b0b2-00163e9c0e35",
       "next": "35c58340-55a3-11e7-b0b2-00163e9c0e35",
       "previous": "dbe917aa-9984-11ea-8d02-0242ac120007"
      },
      {
       "current": "35c581ba-55a3-11e7-b0b2-00163e9c0e35",
       "next": "35c58340-55a3-11e7-b0b2-00163e9c0e35",
       "previous": "f9f7c1a0-9985-11ea-8d02-0242ac120007"
      },
      {
       "current": "35c581ba-55a3-11e7-b0b2-00163e9c0e35",
       "next": "35c58340-55a3-11e7-b0b2-00163e9c0e35",
       "previous": "4180e646-9986-11ea-8d02-0242ac120007"
      },
      {
       "current": "35c581ba-55a3-11e7-b0b2-00163e9c0e35",
       "next": "35c58340-55a3-11e7-b0b2-00163e9c0e35",
       "previous": "eea7aafc-9987-11ea-8d02-0242ac120007"
      },
      {
       "current": "35c581ba-55a3-11e7-b0b2-00163e9c0e35",
       "next": "35c58340-55a3-11e7-b0b2-00163e9c0e35",
       "previous": "7db36be6-9988-11ea-8d02-0242ac120007"
      },
      {
       "current": "35c581ba-55a3-11e7-b0b2-00163e9c0e35",
       "next": "35c58340-55a3-11e7-b0b2-00163e9c0e35",
       "previous": "7db36a7e-9988-11ea-8d02-0242ac120007"
      },
      {
       "current": "35c581ba-55a3-11e7-b0b2-00163e9c0e35",
       "next": "35c58340-55a3-11e7-b0b2-00163e9c0e35",
       "previous": "f3e7d364-998e-11ea-8d02-0242ac120007"
      },
      {
       "current": "35c581ba-55a3-11e7-b0b2-00163e9c0e35",
       "next": "35c58340-55a3-11e7-b0b2-00163e9c0e35",
       "previous": "b0a33f46-98ce-11ea-8d02-0242ac120007"
      },
      {
       "current": "35c581ba-55a3-11e7-b0b2-00163e9c0e35",
       "next": "35c58340-55a3-11e7-b0b2-00163e9c0e35",
       "previous": "752d5d50-9a60-11ea-8d02-0242ac120007"
      },
      {
       "current": "35c581ba-55a3-11e7-b0b2-00163e9c0e35",
       "next": "35c58340-55a3-11e7-b0b2-00163e9c0e35",
       "previous": "e61b1904-9a5f-11ea-8d02-0242ac120007"
      },
      {
       "current": "35c581ba-55a3-11e7-b0b2-00163e9c0e35",
       "next": "35c58340-55a3-11e7-b0b2-00163e9c0e35",
       "previous": "e61b1774-9a5f-11ea-8d02-0242ac120007"
      },
      {
       "current": "35c581ba-55a3-11e7-b0b2-00163e9c0e35-1-89bc",
       "next": "35c58340-55a3-11e7-b0b2-00163e9c0e35",
       "previous": "adc93ec4-9b1c-11ea-8d02-0242ac120007"
      },
      {
       "current": "35c581ba-55a3-11e7-b0b2-00163e9c0e35-2-89bc-f9d0",
       "next": "35c58340-55a3-11e7-b0b2-00163e9c0e35-1-38bc",
       "previous": "adc93ec4-9b1c-11ea-8d02-0242ac120007-1-9d17"
      },
      {
       "current": "35c581ba-55a3-11e7-b0b2-00163e9c0e35-2-89bc-f9d0",
       "next": "35c58340-55a3-11e7-b0b2-00163e9c0e35-2-38bc-8fc7",
       "previous": "adc93ec4-9b1c-11ea-8d02-0242ac120007-2-9d17-b208"
      },
      {
       "current": "35c581ba-55a3-11e7-b0b2-00163e9c0e35-2-89bc-f9d0",
       "next": "35c58340-55a3-11e7-b0b2-00163e9c0e35-2-38bc-8fc7",
       "previous": "cea0381c-6cad-11ee-89fa-0242ac120005"
      },
      {
       "current": "35c581ba-55a3-11e7-b0b2-00163e9c0e35-2-89bc-f9d0",
       "next": "35c58340-55a3-11e7-b0b2-00163e9c0e35-2-38bc-8fc7",
       "previous": "cea037a4-6cad-11ee-89fa-0242ac120005"
      },
      {
       "current": "35c581ba-55a3-11e7-b0b2-00163e9c0e35-2-89bc-f9d0",
       "next": "35c58340-55a3-11e7-b0b2-00163e9c0e35-2-38bc-8fc7",
       "previous": "1cc14c3a-7211-11ee-89fa-0242ac120005-1-22c6"
      },
      {
       "current": "35c581ba-55a3-11e7-b0b2-00163e9c0e35-2-89bc-f9d0",
       "next": "35c58340-55a3-11e7-b0b2-00163e9c0e35-2-38bc-8fc7",
       "previous": "abccd26e-7211-11ee-89fa-0242ac120005-1-49d0"
      },
      {
       "current": "35c581ba-55a3-11e7-b0b2-00163e9c0e35-2-89bc-f9d0",
       "next": "35c58340-55a3-11e7-b0b2-00163e9c0e35-2-38bc-8fc7",
       "previous": "39bc9190-81e4-11ee-91d3-0242ac120006-1-3d03"
      },
      {
       "current": "35c581ba-55a3-11e7-b0b2-00163e9c0e35-2-89bc-f9d0",
       "next": "35c58340-55a3-11e7-b0b2-00163e9c0e35-2-38bc-8fc7",
       "previous": "79af7266-81fa-11ee-91d3-0242ac120006"
      },
      {
       "current": "35c581ba-55a3-11e7-b0b2-00163e9c0e35-2-89bc-f9d0",
       "next": "35c58340-55a3-11e7-b0b2-00163e9c0e35-2-38bc-8fc7",
       "previous": "4dbe5b1e-8203-11ee-91d3-0242ac120006"
      },
      {
       "current": "35c581ba-55a3-11e7-b0b2-00163e9c0e35-2-89bc-f9d0",
       "next": "35c58340-55a3-11e7-b0b2-00163e9c0e35-2-38bc-8fc7",
       "previous": "fae6d004-8204-11ee-91d3-0242ac120006"
      },
      {
       "current": "35c581ba-55a3-11e7-b0b2-00163e9c0e35-2-89bc-f9d0",
       "next": "35c58340-55a3-11e7-b0b2-00163e9c0e35-2-38bc-8fc7",
       "previous": "8a7d015c-8205-11ee-91d3-0242ac120006"
      },
      {
       "current": "35c581ba-55a3-11e7-b0b2-00163e9c0e35-2-89bc-f9d0",
       "next": "35c58340-55a3-11e7-b0b2-00163e9c0e35-2-38bc-8fc7",
       "previous": "c26b7544-81fb-11ee-91d3-0242ac120006-1-767b"
      },
      {
       "current": "35c581ba-55a3-11e7-b0b2-00163e9c0e35-2-89bc-f9d0",
       "next": "35c58340-55a3-11e7-b0b2-00163e9c0e35-2-38bc-8fc7",
       "previous": "b7ec6662-8383-11ee-91d3-0242ac120006"
      },
      {
       "current": "35c581ba-55a3-11e7-b0b2-00163e9c0e35-2-89bc-f9d0",
       "next": "35c58340-55a3-11e7-b0b2-00163e9c0e35-2-38bc-8fc7",
       "previous": "d6091fae-8384-11ee-91d3-0242ac120006"
      },
      {
       "current": "35c581ba-55a3-11e7-b0b2-00163e9c0e35-2-89bc-f9d0",
       "next": "35c58340-55a3-11e7-b0b2-00163e9c0e35-2-38bc-8fc7",
       "previous": "1da685ae-8385-11ee-91d3-0242ac120006"
      },
      {
       "current": "35c581ba-55a3-11e7-b0b2-00163e9c0e35-2-89bc-f9d0",
       "next": "35c58340-55a3-11e7-b0b2-00163e9c0e35-2-38bc-8fc7",
       "previous": "652e65b8-8385-11ee-91d3-0242ac120006"
      },
      {
       "current": "35c581ba-55a3-11e7-b0b2-00163e9c0e35-2-89bc-f9d0",
       "next": "35c58340-55a3-11e7-b0b2-00163e9c0e35-2-38bc-8fc7",
       "previous": "ff2edde8-8829-11ee-91d3-0242ac120006"
      },
      {
       "current": "35c581ba-55a3-11e7-b0b2-00163e9c0e35-3-89bc-f9d0-5cd4",
       "next": "35c58340-55a3-11e7-b0b2-00163e9c0e35-2-38bc-8fc7",
       "previous": "b7ec65f4-8383-11ee-91d3-0242ac120006-1-7280"
      },
      {
       "current": "35c581ba-55a3-11e7-b0b2-00163e9c0e35-4-89bc-f9d0-5cd4-327c",
       "next": "35c58340-55a3-11e7-b0b2-00163e9c0e35-3-38bc-8fc7-b363",
       "previous": "b7ec65f4-8383-11ee-91d3-0242ac120006-2-7280-35b2"
      },
      {
       "current": "35c581ba-55a3-11e7-b0b2-00163e9c0e35-5-89bc-f9d0-5cd4-327c-3cf3",
       "next": "35c58340-55a3-11e7-b0b2-00163e9c0e35-4-38bc-8fc7-b363-19d3",
       "previous": "b7ec65f4-8383-11ee-91d3-0242ac120006-3-7280-35b2-a18b"
      },
      {
       "current": "35c581ba-55a3-11e7-b0b2-00163e9c0e35-6-89bc-f9d0-5cd4-327c-3cf3-cd4f",
       "next": "35c58340-55a3-11e7-b0b2-00163e9c0e35-5-38bc-8fc7-b363-19d3-b43f",
       "previous": "b7ec65f4-8383-11ee-91d3-0242ac120006-4-7280-35b2-a18b-8ca8"
      }
     ],
     "next": "35c58340-55a3-11e7-b0b2-00163e9c0e35-6-38bc-8fc7-b363-19d3-b43f-e15f",
     "previous": "b7ec65f4-8383-11ee-91d3-0242ac120006-5-7280-35b2-a18b-8ca8-05e8"
    }
   },
   "source": [
    "# 後始末\n",
    "\n",
    "一時ディレクトリを削除する。"
   ]
  },
  {
   "cell_type": "code",
   "execution_count": null,
   "metadata": {
    "ExecuteTime": {
     "end_time": "2017-06-29T08:01:20.617274Z",
     "start_time": "2017-06-29T08:01:20.466671Z"
    },
    "lc_cell_meme": {
     "current": "35c58340-55a3-11e7-b0b2-00163e9c0e35-6-38bc-8fc7-b363-19d3-b43f-e15f",
     "history": [
      {
       "current": "35c58340-55a3-11e7-b0b2-00163e9c0e35",
       "next": null,
       "previous": "35c581ba-55a3-11e7-b0b2-00163e9c0e35"
      },
      {
       "current": "35c58340-55a3-11e7-b0b2-00163e9c0e35-1-38bc",
       "next": "c4bd8ce4-5749-11e7-b0b2-00163e9c0e35",
       "previous": "35c581ba-55a3-11e7-b0b2-00163e9c0e35"
      },
      {
       "current": "35c58340-55a3-11e7-b0b2-00163e9c0e35-2-38bc-8fc7",
       "next": "c4bd8ce4-5749-11e7-b0b2-00163e9c0e35-1-e01c",
       "previous": "35c581ba-55a3-11e7-b0b2-00163e9c0e35-1-89bc"
      },
      {
       "current": "35c58340-55a3-11e7-b0b2-00163e9c0e35-3-38bc-8fc7-b363",
       "next": "c4bd8ce4-5749-11e7-b0b2-00163e9c0e35-2-e01c-d763",
       "previous": "35c581ba-55a3-11e7-b0b2-00163e9c0e35-2-89bc-f9d0"
      },
      {
       "current": "35c58340-55a3-11e7-b0b2-00163e9c0e35-4-38bc-8fc7-b363-19d3",
       "next": "c4bd8ce4-5749-11e7-b0b2-00163e9c0e35-3-e01c-d763-27ee",
       "previous": "35c581ba-55a3-11e7-b0b2-00163e9c0e35-3-89bc-f9d0-5cd4"
      },
      {
       "current": "35c58340-55a3-11e7-b0b2-00163e9c0e35-5-38bc-8fc7-b363-19d3-b43f",
       "next": "c4bd8ce4-5749-11e7-b0b2-00163e9c0e35-4-e01c-d763-27ee-6330",
       "previous": "35c581ba-55a3-11e7-b0b2-00163e9c0e35-4-89bc-f9d0-5cd4-327c"
      },
      {
       "current": "35c58340-55a3-11e7-b0b2-00163e9c0e35-6-38bc-8fc7-b363-19d3-b43f-e15f",
       "next": "c4bd8ce4-5749-11e7-b0b2-00163e9c0e35-5-e01c-d763-27ee-6330-c252",
       "previous": "35c581ba-55a3-11e7-b0b2-00163e9c0e35-5-89bc-f9d0-5cd4-327c-3cf3"
      }
     ],
     "next": "c4bd8ce4-5749-11e7-b0b2-00163e9c0e35-6-e01c-d763-27ee-6330-c252-5fe4",
     "previous": "35c581ba-55a3-11e7-b0b2-00163e9c0e35-6-89bc-f9d0-5cd4-327c-3cf3-cd4f"
    }
   },
   "outputs": [],
   "source": [
    "!rm -fr $temp_dir"
   ]
  },
  {
   "cell_type": "code",
   "execution_count": null,
   "metadata": {
    "lc_cell_meme": {
     "current": "c4bd8ce4-5749-11e7-b0b2-00163e9c0e35-6-e01c-d763-27ee-6330-c252-5fe4",
     "history": [
      {
       "current": "c4bd8ce4-5749-11e7-b0b2-00163e9c0e35-1-e01c",
       "next": null,
       "previous": "35c58340-55a3-11e7-b0b2-00163e9c0e35"
      },
      {
       "current": "c4bd8ce4-5749-11e7-b0b2-00163e9c0e35-2-e01c-d763",
       "next": null,
       "previous": "35c58340-55a3-11e7-b0b2-00163e9c0e35-1-38bc"
      },
      {
       "current": "c4bd8ce4-5749-11e7-b0b2-00163e9c0e35-3-e01c-d763-27ee",
       "next": null,
       "previous": "35c58340-55a3-11e7-b0b2-00163e9c0e35-2-38bc-8fc7"
      },
      {
       "current": "c4bd8ce4-5749-11e7-b0b2-00163e9c0e35-4-e01c-d763-27ee-6330",
       "next": null,
       "previous": "35c58340-55a3-11e7-b0b2-00163e9c0e35-3-38bc-8fc7-b363"
      },
      {
       "current": "c4bd8ce4-5749-11e7-b0b2-00163e9c0e35-5-e01c-d763-27ee-6330-c252",
       "next": null,
       "previous": "35c58340-55a3-11e7-b0b2-00163e9c0e35-4-38bc-8fc7-b363-19d3"
      },
      {
       "current": "c4bd8ce4-5749-11e7-b0b2-00163e9c0e35-6-e01c-d763-27ee-6330-c252-5fe4",
       "next": null,
       "previous": "35c58340-55a3-11e7-b0b2-00163e9c0e35-5-38bc-8fc7-b363-19d3-b43f"
      }
     ],
     "next": null,
     "previous": "35c58340-55a3-11e7-b0b2-00163e9c0e35-6-38bc-8fc7-b363-19d3-b43f-e15f"
    }
   },
   "outputs": [],
   "source": []
  }
 ],
 "metadata": {
  "kernelspec": {
   "display_name": "Python 3",
   "language": "python",
   "name": "python3"
  },
  "language_info": {
   "file_extension": ".py",
   "mimetype": "text/x-python",
   "name": "python",
   "nbconvert_exporter": "python",
   "pygments_lexer": "ipython3",
   "version": "3.10.4"
  },
  "lc_notebook_meme": {
   "current": "35c33086-55a3-11e7-b0b2-00163e9c0e35"
  },
  "toc": {
   "base_numbering": 1,
   "nav_menu": {
    "height": "484px",
    "width": "687px"
   },
   "number_sections": true,
   "sideBar": true,
   "skip_h1_title": false,
   "title_cell": "Table of Contents",
   "title_sidebar": "Contents",
   "toc_cell": false,
   "toc_position": {
    "height": "1156px",
    "left": "51px",
    "right": "1330px",
    "top": "111.133px",
    "width": "255px"
   },
   "toc_section_display": true,
   "toc_window_display": true
  }
 },
 "nbformat": 4,
 "nbformat_minor": 1
}
