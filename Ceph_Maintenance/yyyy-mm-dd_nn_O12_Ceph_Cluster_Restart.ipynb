{
 "cells": [
  {
   "cell_type": "markdown",
   "metadata": {
    "collapsed": true,
    "lc_cell_meme": {
     "current": "35c33414-55a3-11e7-b0b2-00163e9c0e35-8-ffee-ac17-9684-9011-cc32-4118-0f6b-8a32",
     "history": [
      {
       "current": "35c33414-55a3-11e7-b0b2-00163e9c0e35",
       "next": "35c33626-55a3-11e7-b0b2-00163e9c0e35",
       "previous": null
      },
      {
       "current": "35c33414-55a3-11e7-b0b2-00163e9c0e35",
       "next": "35c33626-55a3-11e7-b0b2-00163e9c0e35",
       "previous": null
      },
      {
       "current": "35c33414-55a3-11e7-b0b2-00163e9c0e35",
       "next": "35c33626-55a3-11e7-b0b2-00163e9c0e35",
       "previous": "0db87670-9586-11ea-8d02-0242ac120007"
      },
      {
       "current": "35c33414-55a3-11e7-b0b2-00163e9c0e35-1-ffee",
       "next": "35c337f2-55a3-11e7-b0b2-00163e9c0e35",
       "previous": null
      },
      {
       "current": "35c33414-55a3-11e7-b0b2-00163e9c0e35-2-ffee-ac17",
       "next": "35c337f2-55a3-11e7-b0b2-00163e9c0e35-1-b874",
       "previous": null
      },
      {
       "current": "35c33414-55a3-11e7-b0b2-00163e9c0e35-3-ffee-ac17-9684",
       "next": "35c337f2-55a3-11e7-b0b2-00163e9c0e35-2-b874-13f7",
       "previous": null
      },
      {
       "current": "35c33414-55a3-11e7-b0b2-00163e9c0e35-3-ffee-ac17-9684",
       "next": "35c337f2-55a3-11e7-b0b2-00163e9c0e35-3-b874-13f7-3f47",
       "previous": null
      },
      {
       "current": "35c33414-55a3-11e7-b0b2-00163e9c0e35-4-ffee-ac17-9684-9011",
       "next": "35c339aa-55a3-11e7-b0b2-00163e9c0e35-3-eee2-af6c-3cfe",
       "previous": null
      },
      {
       "current": "35c33414-55a3-11e7-b0b2-00163e9c0e35-5-ffee-ac17-9684-9011-cc32",
       "next": "35c339aa-55a3-11e7-b0b2-00163e9c0e35-4-eee2-af6c-3cfe-8216",
       "previous": null
      },
      {
       "current": "35c33414-55a3-11e7-b0b2-00163e9c0e35-6-ffee-ac17-9684-9011-cc32-4118",
       "next": "35c339aa-55a3-11e7-b0b2-00163e9c0e35-5-eee2-af6c-3cfe-8216-8c9b",
       "previous": null
      },
      {
       "current": "35c33414-55a3-11e7-b0b2-00163e9c0e35-7-ffee-ac17-9684-9011-cc32-4118-0f6b",
       "next": "35c339aa-55a3-11e7-b0b2-00163e9c0e35-6-eee2-af6c-3cfe-8216-8c9b-6a37",
       "previous": null
      },
      {
       "current": "35c33414-55a3-11e7-b0b2-00163e9c0e35-8-ffee-ac17-9684-9011-cc32-4118-0f6b-8a32",
       "next": "35c339aa-55a3-11e7-b0b2-00163e9c0e35-7-eee2-af6c-3cfe-8216-8c9b-6a37-8d85",
       "previous": null
      }
     ],
     "next": "35c339aa-55a3-11e7-b0b2-00163e9c0e35-8-eee2-af6c-3cfe-8216-8c9b-6a37-8d85-5082",
     "previous": null
    }
   },
   "source": [
    "# Cephノード運用：Cephクラスターの再起動\n",
    "法定停電を想定した、Cephクラスタノード起動後の、Cephクラスタ再起動手順\n"
   ]
  },
  {
   "cell_type": "markdown",
   "metadata": {
    "lc_cell_meme": {
     "current": "35c339aa-55a3-11e7-b0b2-00163e9c0e35-8-eee2-af6c-3cfe-8216-8c9b-6a37-8d85-5082",
     "history": [
      {
       "current": "35c339aa-55a3-11e7-b0b2-00163e9c0e35",
       "next": "35c33b6c-55a3-11e7-b0b2-00163e9c0e35",
       "previous": "35c337f2-55a3-11e7-b0b2-00163e9c0e35"
      },
      {
       "current": "35c339aa-55a3-11e7-b0b2-00163e9c0e35",
       "next": "670888aa-5722-11e7-b0b2-00163e9c0e35",
       "previous": "35c337f2-55a3-11e7-b0b2-00163e9c0e35"
      },
      {
       "current": "35c339aa-55a3-11e7-b0b2-00163e9c0e35",
       "next": "670888aa-5722-11e7-b0b2-00163e9c0e35",
       "previous": "357fc83a-969d-11ea-8d02-0242ac120007"
      },
      {
       "current": "35c339aa-55a3-11e7-b0b2-00163e9c0e35-1-eee2",
       "next": "670888aa-5722-11e7-b0b2-00163e9c0e35",
       "previous": "8a48dae0-98a1-11ea-8d02-0242ac120007"
      },
      {
       "current": "35c339aa-55a3-11e7-b0b2-00163e9c0e35-2-eee2-af6c",
       "next": "670888aa-5722-11e7-b0b2-00163e9c0e35-1-17ba",
       "previous": "8a48dae0-98a1-11ea-8d02-0242ac120007-1-4da2"
      },
      {
       "current": "35c339aa-55a3-11e7-b0b2-00163e9c0e35-2-eee2-af6c",
       "next": "670888aa-5722-11e7-b0b2-00163e9c0e35-2-17ba-53fc",
       "previous": "8a48dae0-98a1-11ea-8d02-0242ac120007-2-4da2-9c77"
      },
      {
       "current": "35c339aa-55a3-11e7-b0b2-00163e9c0e35-3-eee2-af6c-3cfe",
       "next": "670888aa-5722-11e7-b0b2-00163e9c0e35-2-17ba-53fc",
       "previous": "35c337f2-55a3-11e7-b0b2-00163e9c0e35-2-b874-13f7"
      },
      {
       "current": "35c339aa-55a3-11e7-b0b2-00163e9c0e35-3-eee2-af6c-3cfe",
       "next": "670888aa-5722-11e7-b0b2-00163e9c0e35-3-17ba-53fc-2957",
       "previous": "35c337f2-55a3-11e7-b0b2-00163e9c0e35-3-b874-13f7-3f47"
      },
      {
       "current": "35c339aa-55a3-11e7-b0b2-00163e9c0e35-4-eee2-af6c-3cfe-8216",
       "next": "670888aa-5722-11e7-b0b2-00163e9c0e35-3-17ba-53fc-2957",
       "previous": "35c33414-55a3-11e7-b0b2-00163e9c0e35-3-ffee-ac17-9684"
      },
      {
       "current": "35c339aa-55a3-11e7-b0b2-00163e9c0e35-5-eee2-af6c-3cfe-8216-8c9b",
       "next": "670888aa-5722-11e7-b0b2-00163e9c0e35-4-17ba-53fc-2957-7041",
       "previous": "35c33414-55a3-11e7-b0b2-00163e9c0e35-4-ffee-ac17-9684-9011"
      },
      {
       "current": "35c339aa-55a3-11e7-b0b2-00163e9c0e35-6-eee2-af6c-3cfe-8216-8c9b-6a37",
       "next": "670888aa-5722-11e7-b0b2-00163e9c0e35-5-17ba-53fc-2957-7041-50e3",
       "previous": "35c33414-55a3-11e7-b0b2-00163e9c0e35-5-ffee-ac17-9684-9011-cc32"
      },
      {
       "current": "35c339aa-55a3-11e7-b0b2-00163e9c0e35-7-eee2-af6c-3cfe-8216-8c9b-6a37-8d85",
       "next": "670888aa-5722-11e7-b0b2-00163e9c0e35-6-17ba-53fc-2957-7041-50e3-64f7",
       "previous": "35c33414-55a3-11e7-b0b2-00163e9c0e35-6-ffee-ac17-9684-9011-cc32-4118"
      },
      {
       "current": "35c339aa-55a3-11e7-b0b2-00163e9c0e35-8-eee2-af6c-3cfe-8216-8c9b-6a37-8d85-5082",
       "next": "670888aa-5722-11e7-b0b2-00163e9c0e35-7-17ba-53fc-2957-7041-50e3-64f7-762e",
       "previous": "35c33414-55a3-11e7-b0b2-00163e9c0e35-7-ffee-ac17-9684-9011-cc32-4118-0f6b"
      }
     ],
     "next": "670888aa-5722-11e7-b0b2-00163e9c0e35-8-17ba-53fc-2957-7041-50e3-64f7-762e-8a27",
     "previous": "35c33414-55a3-11e7-b0b2-00163e9c0e35-8-ffee-ac17-9684-9011-cc32-4118-0f6b-8a32"
    }
   },
   "source": [
    "# パラメータ定義"
   ]
  },
  {
   "cell_type": "markdown",
   "metadata": {
    "lc_cell_meme": {
     "current": "670888aa-5722-11e7-b0b2-00163e9c0e35-8-17ba-53fc-2957-7041-50e3-64f7-762e-8a27",
     "history": [
      {
       "current": "670888aa-5722-11e7-b0b2-00163e9c0e35-1-17ba",
       "next": "35c33b6c-55a3-11e7-b0b2-00163e9c0e35",
       "previous": "35c339aa-55a3-11e7-b0b2-00163e9c0e35"
      },
      {
       "current": "670888aa-5722-11e7-b0b2-00163e9c0e35-2-17ba-53fc",
       "next": "35c33b6c-55a3-11e7-b0b2-00163e9c0e35-1-c84d",
       "previous": "35c339aa-55a3-11e7-b0b2-00163e9c0e35-1-eee2"
      },
      {
       "current": "670888aa-5722-11e7-b0b2-00163e9c0e35-3-17ba-53fc-2957",
       "next": "35c33b6c-55a3-11e7-b0b2-00163e9c0e35-2-c84d-3439",
       "previous": "35c339aa-55a3-11e7-b0b2-00163e9c0e35-2-eee2-af6c"
      },
      {
       "current": "670888aa-5722-11e7-b0b2-00163e9c0e35-4-17ba-53fc-2957-7041",
       "next": "35c33b6c-55a3-11e7-b0b2-00163e9c0e35-3-c84d-3439-eddb",
       "previous": "35c339aa-55a3-11e7-b0b2-00163e9c0e35-3-eee2-af6c-3cfe"
      },
      {
       "current": "670888aa-5722-11e7-b0b2-00163e9c0e35-5-17ba-53fc-2957-7041-50e3",
       "next": "35c33b6c-55a3-11e7-b0b2-00163e9c0e35-4-c84d-3439-eddb-abb3",
       "previous": "35c339aa-55a3-11e7-b0b2-00163e9c0e35-4-eee2-af6c-3cfe-8216"
      },
      {
       "current": "670888aa-5722-11e7-b0b2-00163e9c0e35-6-17ba-53fc-2957-7041-50e3-64f7",
       "next": "35c33b6c-55a3-11e7-b0b2-00163e9c0e35-5-c84d-3439-eddb-abb3-252e",
       "previous": "35c339aa-55a3-11e7-b0b2-00163e9c0e35-5-eee2-af6c-3cfe-8216-8c9b"
      },
      {
       "current": "670888aa-5722-11e7-b0b2-00163e9c0e35-7-17ba-53fc-2957-7041-50e3-64f7-762e",
       "next": "35c33b6c-55a3-11e7-b0b2-00163e9c0e35-6-c84d-3439-eddb-abb3-252e-7682",
       "previous": "35c339aa-55a3-11e7-b0b2-00163e9c0e35-6-eee2-af6c-3cfe-8216-8c9b-6a37"
      },
      {
       "current": "670888aa-5722-11e7-b0b2-00163e9c0e35-8-17ba-53fc-2957-7041-50e3-64f7-762e-8a27",
       "next": "35c33b6c-55a3-11e7-b0b2-00163e9c0e35-7-c84d-3439-eddb-abb3-252e-7682-3c0f",
       "previous": "35c339aa-55a3-11e7-b0b2-00163e9c0e35-7-eee2-af6c-3cfe-8216-8c9b-6a37-8d85"
      }
     ],
     "next": "35c33b6c-55a3-11e7-b0b2-00163e9c0e35-8-c84d-3439-eddb-abb3-252e-7682-3c0f-4896",
     "previous": "35c339aa-55a3-11e7-b0b2-00163e9c0e35-8-eee2-af6c-3cfe-8216-8c9b-6a37-8d85-5082"
    }
   },
   "source": [
    "## パラメータファイル設定"
   ]
  },
  {
   "cell_type": "markdown",
   "metadata": {
    "lc_cell_meme": {
     "current": "35c33b6c-55a3-11e7-b0b2-00163e9c0e35-8-c84d-3439-eddb-abb3-252e-7682-3c0f-4896",
     "history": [
      {
       "current": "35c33b6c-55a3-11e7-b0b2-00163e9c0e35",
       "next": "35c33d24-55a3-11e7-b0b2-00163e9c0e35",
       "previous": "35c339aa-55a3-11e7-b0b2-00163e9c0e35"
      },
      {
       "current": "35c33b6c-55a3-11e7-b0b2-00163e9c0e35-1-c84d",
       "next": "35c33d24-55a3-11e7-b0b2-00163e9c0e35",
       "previous": "670888aa-5722-11e7-b0b2-00163e9c0e35"
      },
      {
       "current": "35c33b6c-55a3-11e7-b0b2-00163e9c0e35-2-c84d-3439",
       "next": "35c33d24-55a3-11e7-b0b2-00163e9c0e35-1-c8d8",
       "previous": "670888aa-5722-11e7-b0b2-00163e9c0e35-1-17ba"
      },
      {
       "current": "35c33b6c-55a3-11e7-b0b2-00163e9c0e35-3-c84d-3439-eddb",
       "next": "35c33d24-55a3-11e7-b0b2-00163e9c0e35-2-c8d8-c063",
       "previous": "670888aa-5722-11e7-b0b2-00163e9c0e35-2-17ba-53fc"
      },
      {
       "current": "35c33b6c-55a3-11e7-b0b2-00163e9c0e35-4-c84d-3439-eddb-abb3",
       "next": "35c33d24-55a3-11e7-b0b2-00163e9c0e35-3-c8d8-c063-e3d4",
       "previous": "670888aa-5722-11e7-b0b2-00163e9c0e35-3-17ba-53fc-2957"
      },
      {
       "current": "35c33b6c-55a3-11e7-b0b2-00163e9c0e35-5-c84d-3439-eddb-abb3-252e",
       "next": "35c33d24-55a3-11e7-b0b2-00163e9c0e35-4-c8d8-c063-e3d4-1a8a",
       "previous": "670888aa-5722-11e7-b0b2-00163e9c0e35-4-17ba-53fc-2957-7041"
      },
      {
       "current": "35c33b6c-55a3-11e7-b0b2-00163e9c0e35-6-c84d-3439-eddb-abb3-252e-7682",
       "next": "35c33d24-55a3-11e7-b0b2-00163e9c0e35-5-c8d8-c063-e3d4-1a8a-fd96",
       "previous": "670888aa-5722-11e7-b0b2-00163e9c0e35-5-17ba-53fc-2957-7041-50e3"
      },
      {
       "current": "35c33b6c-55a3-11e7-b0b2-00163e9c0e35-7-c84d-3439-eddb-abb3-252e-7682-3c0f",
       "next": "4f059152-230e-11ef-ad2f-0242ac120005",
       "previous": "670888aa-5722-11e7-b0b2-00163e9c0e35-6-17ba-53fc-2957-7041-50e3-64f7"
      },
      {
       "current": "35c33b6c-55a3-11e7-b0b2-00163e9c0e35-8-c84d-3439-eddb-abb3-252e-7682-3c0f-4896",
       "next": "4f059152-230e-11ef-ad2f-0242ac120005-1-86b6",
       "previous": "670888aa-5722-11e7-b0b2-00163e9c0e35-7-17ba-53fc-2957-7041-50e3-64f7-762e"
      }
     ],
     "next": "4f059152-230e-11ef-ad2f-0242ac120005-2-86b6-52ad",
     "previous": "670888aa-5722-11e7-b0b2-00163e9c0e35-8-17ba-53fc-2957-7041-50e3-64f7-762e-8a27"
    }
   },
   "source": [
    "Cephクラスタの定義ファイルを指定するため、<br>\n",
    "パラメータ定義格納ディレクトリを表示する。"
   ]
  },
  {
   "cell_type": "code",
   "execution_count": null,
   "metadata": {
    "lc_cell_meme": {
     "current": "4f059152-230e-11ef-ad2f-0242ac120005-2-86b6-52ad",
     "history": [
      {
       "current": "4f059152-230e-11ef-ad2f-0242ac120005-1-86b6",
       "next": "4f05922e-230e-11ef-ad2f-0242ac120005",
       "previous": "35c33b6c-55a3-11e7-b0b2-00163e9c0e35-6-c84d-3439-eddb-abb3-252e-7682"
      },
      {
       "current": "4f059152-230e-11ef-ad2f-0242ac120005-2-86b6-52ad",
       "next": "4f05922e-230e-11ef-ad2f-0242ac120005-1-4a12",
       "previous": "35c33b6c-55a3-11e7-b0b2-00163e9c0e35-7-c84d-3439-eddb-abb3-252e-7682-3c0f"
      }
     ],
     "next": "4f05922e-230e-11ef-ad2f-0242ac120005-2-4a12-bf13",
     "previous": "35c33b6c-55a3-11e7-b0b2-00163e9c0e35-8-c84d-3439-eddb-abb3-252e-7682-3c0f-4896"
    }
   },
   "outputs": [],
   "source": [
    "!ls -p ~/notebooks/share/ | grep \"/$\""
   ]
  },
  {
   "cell_type": "code",
   "execution_count": null,
   "metadata": {
    "lc_cell_meme": {
     "current": "4f05922e-230e-11ef-ad2f-0242ac120005-2-4a12-bf13",
     "history": [
      {
       "current": "4f05922e-230e-11ef-ad2f-0242ac120005-1-4a12",
       "next": "4f059260-230e-11ef-ad2f-0242ac120005",
       "previous": "4f059152-230e-11ef-ad2f-0242ac120005"
      },
      {
       "current": "4f05922e-230e-11ef-ad2f-0242ac120005-2-4a12-bf13",
       "next": "4f059260-230e-11ef-ad2f-0242ac120005-1-6be2",
       "previous": "4f059152-230e-11ef-ad2f-0242ac120005-1-86b6"
      }
     ],
     "next": "4f059260-230e-11ef-ad2f-0242ac120005-2-6be2-f8a9",
     "previous": "4f059152-230e-11ef-ad2f-0242ac120005-2-86b6-52ad"
    }
   },
   "outputs": [],
   "source": [
    "!ls -p ~/notebooks/share/configuration"
   ]
  },
  {
   "cell_type": "code",
   "execution_count": null,
   "metadata": {
    "lc_cell_meme": {
     "current": "4f059260-230e-11ef-ad2f-0242ac120005-2-6be2-f8a9",
     "history": [
      {
       "current": "4f059260-230e-11ef-ad2f-0242ac120005-1-6be2",
       "next": "4f059288-230e-11ef-ad2f-0242ac120005",
       "previous": "4f05922e-230e-11ef-ad2f-0242ac120005"
      },
      {
       "current": "4f059260-230e-11ef-ad2f-0242ac120005-2-6be2-f8a9",
       "next": "4f059288-230e-11ef-ad2f-0242ac120005-1-0406",
       "previous": "4f05922e-230e-11ef-ad2f-0242ac120005-1-4a12"
      }
     ],
     "next": "4f059288-230e-11ef-ad2f-0242ac120005-2-0406-0fad",
     "previous": "4f05922e-230e-11ef-ad2f-0242ac120005-2-4a12-bf13"
    }
   },
   "outputs": [],
   "source": [
    "!ls -p ~/notebooks/share/configuration/ceph"
   ]
  },
  {
   "cell_type": "code",
   "execution_count": null,
   "metadata": {
    "lc_cell_meme": {
     "current": "4f059288-230e-11ef-ad2f-0242ac120005-2-0406-0fad",
     "history": [
      {
       "current": "4f059288-230e-11ef-ad2f-0242ac120005-1-0406",
       "next": "4f0592a6-230e-11ef-ad2f-0242ac120005",
       "previous": "4f059260-230e-11ef-ad2f-0242ac120005"
      },
      {
       "current": "4f059288-230e-11ef-ad2f-0242ac120005-2-0406-0fad",
       "next": "4f0592a6-230e-11ef-ad2f-0242ac120005-1-7648",
       "previous": "4f059260-230e-11ef-ad2f-0242ac120005-1-6be2"
      }
     ],
     "next": "4f0592a6-230e-11ef-ad2f-0242ac120005-2-7648-5003",
     "previous": "4f059260-230e-11ef-ad2f-0242ac120005-2-6be2-f8a9"
    }
   },
   "outputs": [],
   "source": [
    "import sys, os.path, importlib, json, yaml\n",
    "\n",
    "config_file_name = \"ceph_admin_vm.yml\"\n",
    "config_file_path = os.path.expanduser(\"~/notebooks/share/configuration/ceph/{}\".format(config_file_name))\n",
    "with open(config_file_path) as f:\n",
    "    admin_params = yaml.safe_load(f)\n",
    "admin_params"
   ]
  },
  {
   "cell_type": "code",
   "execution_count": null,
   "metadata": {
    "lc_cell_meme": {
     "current": "4f0592a6-230e-11ef-ad2f-0242ac120005-2-7648-5003",
     "history": [
      {
       "current": "4f0592a6-230e-11ef-ad2f-0242ac120005-1-7648",
       "next": "4f0592ce-230e-11ef-ad2f-0242ac120005",
       "previous": "4f059288-230e-11ef-ad2f-0242ac120005"
      },
      {
       "current": "4f0592a6-230e-11ef-ad2f-0242ac120005-2-7648-5003",
       "next": "4f0592ce-230e-11ef-ad2f-0242ac120005-1-4956",
       "previous": "4f059288-230e-11ef-ad2f-0242ac120005-1-0406"
      }
     ],
     "next": "4f0592ce-230e-11ef-ad2f-0242ac120005-2-4956-a6d0",
     "previous": "4f059288-230e-11ef-ad2f-0242ac120005-2-0406-0fad"
    }
   },
   "outputs": [],
   "source": [
    "target_vm_name = 'xxx-ceph-admin1'\n",
    "admin_patam = admin_params[target_vm_name]\n",
    "admin_patam"
   ]
  },
  {
   "cell_type": "code",
   "execution_count": null,
   "metadata": {
    "lc_cell_meme": {
     "current": "4f0592ce-230e-11ef-ad2f-0242ac120005-2-4956-a6d0",
     "history": [
      {
       "current": "4f0592ce-230e-11ef-ad2f-0242ac120005-1-4956",
       "next": "4f0592ec-230e-11ef-ad2f-0242ac120005",
       "previous": "4f0592a6-230e-11ef-ad2f-0242ac120005"
      },
      {
       "current": "4f0592ce-230e-11ef-ad2f-0242ac120005-2-4956-a6d0",
       "next": "4f0592ec-230e-11ef-ad2f-0242ac120005-1-84b2",
       "previous": "4f0592a6-230e-11ef-ad2f-0242ac120005-1-7648"
      }
     ],
     "next": "4f0592ec-230e-11ef-ad2f-0242ac120005-2-84b2-c2b3",
     "previous": "4f0592a6-230e-11ef-ad2f-0242ac120005-2-7648-5003"
    }
   },
   "outputs": [],
   "source": [
    "ceph_admin_ip = admin_patam['network']['provisioning']['ip']"
   ]
  },
  {
   "cell_type": "code",
   "execution_count": null,
   "metadata": {
    "lc_cell_meme": {
     "current": "4f0592ec-230e-11ef-ad2f-0242ac120005-2-84b2-c2b3",
     "history": [
      {
       "current": "4f0592ec-230e-11ef-ad2f-0242ac120005-1-84b2",
       "next": "4f059314-230e-11ef-ad2f-0242ac120005",
       "previous": "4f0592ce-230e-11ef-ad2f-0242ac120005"
      },
      {
       "current": "4f0592ec-230e-11ef-ad2f-0242ac120005-2-84b2-c2b3",
       "next": "4f059314-230e-11ef-ad2f-0242ac120005-1-c28e",
       "previous": "4f0592ce-230e-11ef-ad2f-0242ac120005-1-4956"
      }
     ],
     "next": "4f059314-230e-11ef-ad2f-0242ac120005-2-c28e-2a17",
     "previous": "4f0592ce-230e-11ef-ad2f-0242ac120005-2-4956-a6d0"
    },
    "scrolled": true
   },
   "outputs": [],
   "source": [
    "import sys, os.path, importlib, json, yaml\n",
    "\n",
    "config_file_name = \"xxx-openstack-parameter.yml\"\n",
    "config_file_path = os.path.expanduser(\"~/notebooks/share/configuration/{}\".format(config_file_name))\n",
    "with open(config_file_path) as f:\n",
    "    params = yaml.safe_load(f)\n",
    "params"
   ]
  },
  {
   "cell_type": "code",
   "execution_count": null,
   "metadata": {
    "lc_cell_meme": {
     "current": "4f059314-230e-11ef-ad2f-0242ac120005-2-c28e-2a17",
     "history": [
      {
       "current": "4f059314-230e-11ef-ad2f-0242ac120005-1-c28e",
       "next": "4f059332-230e-11ef-ad2f-0242ac120005",
       "previous": "4f0592ec-230e-11ef-ad2f-0242ac120005"
      },
      {
       "current": "4f059314-230e-11ef-ad2f-0242ac120005-2-c28e-2a17",
       "next": "4f059332-230e-11ef-ad2f-0242ac120005-1-f227",
       "previous": "4f0592ec-230e-11ef-ad2f-0242ac120005-1-84b2"
      }
     ],
     "next": "4f059332-230e-11ef-ad2f-0242ac120005-2-f227-d154",
     "previous": "4f0592ec-230e-11ef-ad2f-0242ac120005-2-84b2-c2b3"
    }
   },
   "outputs": [],
   "source": [
    "repo_server = params['repository']['addresses']['service_operation']\n",
    "repo_server"
   ]
  },
  {
   "cell_type": "code",
   "execution_count": null,
   "metadata": {
    "lc_cell_meme": {
     "current": "4f059332-230e-11ef-ad2f-0242ac120005-2-f227-d154",
     "history": [
      {
       "current": "4f059332-230e-11ef-ad2f-0242ac120005-1-f227",
       "next": "4f059350-230e-11ef-ad2f-0242ac120005",
       "previous": "4f059314-230e-11ef-ad2f-0242ac120005"
      },
      {
       "current": "4f059332-230e-11ef-ad2f-0242ac120005-2-f227-d154",
       "next": "4f059350-230e-11ef-ad2f-0242ac120005-1-704b",
       "previous": "4f059314-230e-11ef-ad2f-0242ac120005-1-c28e"
      }
     ],
     "next": "4f059350-230e-11ef-ad2f-0242ac120005-2-704b-c753",
     "previous": "4f059314-230e-11ef-ad2f-0242ac120005-2-c28e-2a17"
    }
   },
   "outputs": [],
   "source": [
    "provisioning_vip = params['openstack']['provisioning_vip']\n",
    "provisioning_vip"
   ]
  },
  {
   "cell_type": "code",
   "execution_count": null,
   "metadata": {
    "lc_cell_meme": {
     "current": "4f059350-230e-11ef-ad2f-0242ac120005-2-704b-c753",
     "history": [
      {
       "current": "4f059350-230e-11ef-ad2f-0242ac120005",
       "next": "4f059378-230e-11ef-ad2f-0242ac120005",
       "previous": "4f059332-230e-11ef-ad2f-0242ac120005"
      },
      {
       "current": "4f059350-230e-11ef-ad2f-0242ac120005-1-704b",
       "next": "bf249b06-98af-11ea-8d02-0242ac120007-6-1e49-e772-9042-d662-39ee-4292",
       "previous": "4f059332-230e-11ef-ad2f-0242ac120005"
      },
      {
       "current": "4f059350-230e-11ef-ad2f-0242ac120005-2-704b-c753",
       "next": "bf249b06-98af-11ea-8d02-0242ac120007-7-1e49-e772-9042-d662-39ee-4292-521f",
       "previous": "4f059332-230e-11ef-ad2f-0242ac120005-1-f227"
      }
     ],
     "next": "bf249b06-98af-11ea-8d02-0242ac120007-8-1e49-e772-9042-d662-39ee-4292-521f-f1b4",
     "previous": "4f059332-230e-11ef-ad2f-0242ac120005-2-f227-d154"
    }
   },
   "outputs": [],
   "source": []
  },
  {
   "cell_type": "markdown",
   "metadata": {
    "lc_cell_meme": {
     "current": "bf249b06-98af-11ea-8d02-0242ac120007-8-1e49-e772-9042-d662-39ee-4292-521f-f1b4",
     "history": [
      {
       "current": "bf249b06-98af-11ea-8d02-0242ac120007",
       "next": "d1bcb8ac-9599-11ea-8d02-0242ac120007",
       "previous": "7dae8996-9686-11ea-8d02-0242ac120007"
      },
      {
       "current": "bf249b06-98af-11ea-8d02-0242ac120007-1-1e49",
       "next": "dd8e3cbc-98f2-11ea-8d02-0242ac120007",
       "previous": "7dae8996-9686-11ea-8d02-0242ac120007"
      },
      {
       "current": "bf249b06-98af-11ea-8d02-0242ac120007-2-1e49-e772",
       "next": "dd8e3cbc-98f2-11ea-8d02-0242ac120007-1-706a",
       "previous": "7dae8996-9686-11ea-8d02-0242ac120007-1-20c5"
      },
      {
       "current": "bf249b06-98af-11ea-8d02-0242ac120007-2-1e49-e772",
       "next": "dd8e3cbc-98f2-11ea-8d02-0242ac120007-2-706a-309d",
       "previous": "7dae8996-9686-11ea-8d02-0242ac120007-2-20c5-a0b0"
      },
      {
       "current": "bf249b06-98af-11ea-8d02-0242ac120007-2-1e49-e772",
       "next": "dd8e3cbc-98f2-11ea-8d02-0242ac120007-2-706a-309d",
       "previous": "1afe76e2-def8-11eb-b29f-0242ac120008"
      },
      {
       "current": "bf249b06-98af-11ea-8d02-0242ac120007-2-1e49-e772",
       "next": "d1bcb8ac-9599-11ea-8d02-0242ac120007-2-ec95-2870",
       "previous": "1afe76e2-def8-11eb-b29f-0242ac120008"
      },
      {
       "current": "bf249b06-98af-11ea-8d02-0242ac120007-2-1e49-e772",
       "next": "d1bcb8ac-9599-11ea-8d02-0242ac120007-2-ec95-2870",
       "previous": "445f36bc-def7-11eb-b29f-0242ac120008"
      },
      {
       "current": "bf249b06-98af-11ea-8d02-0242ac120007-3-1e49-e772-9042",
       "next": "d1bcb8ac-9599-11ea-8d02-0242ac120007-2-ec95-2870",
       "previous": "17dd310e-deff-11eb-b29f-0242ac120008"
      },
      {
       "current": "bf249b06-98af-11ea-8d02-0242ac120007-4-1e49-e772-9042-d662",
       "next": "d1bcb8ac-9599-11ea-8d02-0242ac120007-3-ec95-2870-3f6b",
       "previous": "17dd310e-deff-11eb-b29f-0242ac120008-1-9f34"
      },
      {
       "current": "bf249b06-98af-11ea-8d02-0242ac120007-5-1e49-e772-9042-d662-39ee",
       "next": "d1bcb8ac-9599-11ea-8d02-0242ac120007-4-ec95-2870-3f6b-c2d6",
       "previous": "17dd310e-deff-11eb-b29f-0242ac120008-2-9f34-bf25"
      },
      {
       "current": "bf249b06-98af-11ea-8d02-0242ac120007-6-1e49-e772-9042-d662-39ee-4292",
       "next": "d1bcb8ac-9599-11ea-8d02-0242ac120007-5-ec95-2870-3f6b-c2d6-1a60",
       "previous": "17dd310e-deff-11eb-b29f-0242ac120008-3-9f34-bf25-e43d"
      },
      {
       "current": "bf249b06-98af-11ea-8d02-0242ac120007-6-1e49-e772-9042-d662-39ee-4292",
       "next": "d1bcb8ac-9599-11ea-8d02-0242ac120007-6-ec95-2870-3f6b-c2d6-1a60-f266",
       "previous": "17dd310e-deff-11eb-b29f-0242ac120008-4-9f34-bf25-e43d-5fc8"
      },
      {
       "current": "bf249b06-98af-11ea-8d02-0242ac120007-7-1e49-e772-9042-d662-39ee-4292-521f",
       "next": "d1bcb8ac-9599-11ea-8d02-0242ac120007-6-ec95-2870-3f6b-c2d6-1a60-f266",
       "previous": "4f059350-230e-11ef-ad2f-0242ac120005"
      },
      {
       "current": "bf249b06-98af-11ea-8d02-0242ac120007-8-1e49-e772-9042-d662-39ee-4292-521f-f1b4",
       "next": "d1bcb8ac-9599-11ea-8d02-0242ac120007-7-ec95-2870-3f6b-c2d6-1a60-f266-1f14",
       "previous": "4f059350-230e-11ef-ad2f-0242ac120005-1-704b"
      }
     ],
     "next": "d1bcb8ac-9599-11ea-8d02-0242ac120007-8-ec95-2870-3f6b-c2d6-1a60-f266-1f14-e297",
     "previous": "4f059350-230e-11ef-ad2f-0242ac120005-2-704b-c753"
    }
   },
   "source": [
    "## CephノードとストレージセグメントIPアドレス対応表の読み込み"
   ]
  },
  {
   "cell_type": "code",
   "execution_count": null,
   "metadata": {
    "lc_cell_meme": {
     "current": "d1bcb8ac-9599-11ea-8d02-0242ac120007-8-ec95-2870-3f6b-c2d6-1a60-f266-1f14-e297",
     "history": [
      {
       "current": "d1bcb8ac-9599-11ea-8d02-0242ac120007",
       "next": "d1bcba78-9599-11ea-8d02-0242ac120007",
       "previous": "d1bcb5c8-9599-11ea-8d02-0242ac120007"
      },
      {
       "current": "d1bcb8ac-9599-11ea-8d02-0242ac120007",
       "next": "d1bcba78-9599-11ea-8d02-0242ac120007",
       "previous": "a85c1dda-959a-11ea-8d02-0242ac120007"
      },
      {
       "current": "d1bcb8ac-9599-11ea-8d02-0242ac120007",
       "next": "81dd4f74-9597-11ea-8d02-0242ac120007",
       "previous": "a85c1dda-959a-11ea-8d02-0242ac120007"
      },
      {
       "current": "d1bcb8ac-9599-11ea-8d02-0242ac120007",
       "next": "e879cdac-95bf-11ea-8d02-0242ac120007",
       "previous": "a85c1dda-959a-11ea-8d02-0242ac120007"
      },
      {
       "current": "d1bcb8ac-9599-11ea-8d02-0242ac120007",
       "next": "7899411a-9692-11ea-8d02-0242ac120007",
       "previous": "bf249b06-98af-11ea-8d02-0242ac120007"
      },
      {
       "current": "d1bcb8ac-9599-11ea-8d02-0242ac120007",
       "next": "06afe9a8-98b0-11ea-8d02-0242ac120007",
       "previous": "bf249b06-98af-11ea-8d02-0242ac120007"
      },
      {
       "current": "d1bcb8ac-9599-11ea-8d02-0242ac120007",
       "next": "06afe9a8-98b0-11ea-8d02-0242ac120007",
       "previous": "dd8e3cbc-98f2-11ea-8d02-0242ac120007"
      },
      {
       "current": "d1bcb8ac-9599-11ea-8d02-0242ac120007-1-ec95",
       "next": "250e7a70-98f3-11ea-8d02-0242ac120007",
       "previous": "dd8e3cbc-98f2-11ea-8d02-0242ac120007"
      },
      {
       "current": "d1bcb8ac-9599-11ea-8d02-0242ac120007-2-ec95-2870",
       "next": "250e7a70-98f3-11ea-8d02-0242ac120007-1-f0b4",
       "previous": "dd8e3cbc-98f2-11ea-8d02-0242ac120007-1-706a"
      },
      {
       "current": "d1bcb8ac-9599-11ea-8d02-0242ac120007-2-ec95-2870",
       "next": "250e7a70-98f3-11ea-8d02-0242ac120007-2-f0b4-6edf",
       "previous": "dd8e3cbc-98f2-11ea-8d02-0242ac120007-2-706a-309d"
      },
      {
       "current": "d1bcb8ac-9599-11ea-8d02-0242ac120007-3-ec95-2870-3f6b",
       "next": "250e7a70-98f3-11ea-8d02-0242ac120007-2-f0b4-6edf",
       "previous": "bf249b06-98af-11ea-8d02-0242ac120007-2-1e49-e772"
      },
      {
       "current": "d1bcb8ac-9599-11ea-8d02-0242ac120007-3-ec95-2870-3f6b",
       "next": "250e7a70-98f3-11ea-8d02-0242ac120007-3-f0b4-6edf-9d40",
       "previous": "bf249b06-98af-11ea-8d02-0242ac120007-3-1e49-e772-9042"
      },
      {
       "current": "d1bcb8ac-9599-11ea-8d02-0242ac120007-4-ec95-2870-3f6b-c2d6",
       "next": "8a6e62b8-6f14-11ee-89fa-0242ac120005",
       "previous": "bf249b06-98af-11ea-8d02-0242ac120007-3-1e49-e772-9042"
      },
      {
       "current": "d1bcb8ac-9599-11ea-8d02-0242ac120007-5-ec95-2870-3f6b-c2d6-1a60",
       "next": "8a6e62b8-6f14-11ee-89fa-0242ac120005-1-f5bd",
       "previous": "bf249b06-98af-11ea-8d02-0242ac120007-4-1e49-e772-9042-d662"
      },
      {
       "current": "d1bcb8ac-9599-11ea-8d02-0242ac120007-6-ec95-2870-3f6b-c2d6-1a60-f266",
       "next": "8a6e62b8-6f14-11ee-89fa-0242ac120005-2-f5bd-8d05",
       "previous": "bf249b06-98af-11ea-8d02-0242ac120007-5-1e49-e772-9042-d662-39ee"
      },
      {
       "current": "d1bcb8ac-9599-11ea-8d02-0242ac120007-6-ec95-2870-3f6b-c2d6-1a60-f266",
       "next": "8a6e62b8-6f14-11ee-89fa-0242ac120005-3-f5bd-8d05-19ba",
       "previous": "bf249b06-98af-11ea-8d02-0242ac120007-6-1e49-e772-9042-d662-39ee-4292"
      },
      {
       "current": "d1bcb8ac-9599-11ea-8d02-0242ac120007-7-ec95-2870-3f6b-c2d6-1a60-f266-1f14",
       "next": "8a6e6452-6f14-11ee-89fa-0242ac120005-3-f6f4-98f4-730b",
       "previous": "bf249b06-98af-11ea-8d02-0242ac120007-6-1e49-e772-9042-d662-39ee-4292"
      },
      {
       "current": "d1bcb8ac-9599-11ea-8d02-0242ac120007-8-ec95-2870-3f6b-c2d6-1a60-f266-1f14-e297",
       "next": "8a6e6452-6f14-11ee-89fa-0242ac120005-4-f6f4-98f4-730b-d064",
       "previous": "bf249b06-98af-11ea-8d02-0242ac120007-7-1e49-e772-9042-d662-39ee-4292-521f"
      }
     ],
     "next": "8a6e6452-6f14-11ee-89fa-0242ac120005-5-f6f4-98f4-730b-d064-1e75",
     "previous": "bf249b06-98af-11ea-8d02-0242ac120007-8-1e49-e772-9042-d662-39ee-4292-521f-f1b4"
    },
    "scrolled": true
   },
   "outputs": [],
   "source": [
    "import os\n",
    "import csv\n",
    "import pandas as pd\n",
    "\n",
    "instance_ip_csv_path =  os.environ['HOME'] + \"/notebooks/share/configuration/ceph/ceph_instance_ip.csv\"\n",
    "instance_ip_list = []\n",
    "instance_ip_map = {}\n",
    "\n",
    "with open(instance_ip_csv_path, 'r') as path_csv:\n",
    "    reader = csv.DictReader(path_csv)\n",
    "    \n",
    "    for record in reader:\n",
    "        instance_ip_list.append(record)\n",
    "        instance_ip_map[record['instance_name']] = record\n",
    "\n",
    "pd.DataFrame(instance_ip_list)"
   ]
  },
  {
   "cell_type": "markdown",
   "metadata": {
    "lc_cell_meme": {
     "current": "8a6e6452-6f14-11ee-89fa-0242ac120005-5-f6f4-98f4-730b-d064-1e75",
     "history": [
      {
       "current": "8a6e6452-6f14-11ee-89fa-0242ac120005-1-f6f4",
       "next": "8a6e65e2-6f14-11ee-89fa-0242ac120005",
       "previous": "250e7a70-98f3-11ea-8d02-0242ac120007-3-f0b4-6edf-9d40"
      },
      {
       "current": "8a6e6452-6f14-11ee-89fa-0242ac120005-2-f6f4-98f4",
       "next": "8a6e65e2-6f14-11ee-89fa-0242ac120005-1-d59f",
       "previous": "250e7a70-98f3-11ea-8d02-0242ac120007-4-f0b4-6edf-9d40-852e"
      },
      {
       "current": "8a6e6452-6f14-11ee-89fa-0242ac120005-3-f6f4-98f4-730b",
       "next": "8a6e65e2-6f14-11ee-89fa-0242ac120005-2-d59f-26f1",
       "previous": "250e7a70-98f3-11ea-8d02-0242ac120007-5-f0b4-6edf-9d40-852e-0af3"
      },
      {
       "current": "8a6e6452-6f14-11ee-89fa-0242ac120005-3-f6f4-98f4-730b",
       "next": "8a6e65e2-6f14-11ee-89fa-0242ac120005-3-d59f-26f1-fbea",
       "previous": "250e7a70-98f3-11ea-8d02-0242ac120007-6-f0b4-6edf-9d40-852e-0af3-75b1"
      },
      {
       "current": "8a6e6452-6f14-11ee-89fa-0242ac120005-4-f6f4-98f4-730b-d064",
       "next": "8a6e65e2-6f14-11ee-89fa-0242ac120005-3-d59f-26f1-fbea",
       "previous": "d1bcb8ac-9599-11ea-8d02-0242ac120007-6-ec95-2870-3f6b-c2d6-1a60-f266"
      },
      {
       "current": "8a6e6452-6f14-11ee-89fa-0242ac120005-5-f6f4-98f4-730b-d064-1e75",
       "next": "8a6e65e2-6f14-11ee-89fa-0242ac120005-4-d59f-26f1-fbea-1c15",
       "previous": "d1bcb8ac-9599-11ea-8d02-0242ac120007-7-ec95-2870-3f6b-c2d6-1a60-f266-1f14"
      }
     ],
     "next": "8a6e65e2-6f14-11ee-89fa-0242ac120005-5-d59f-26f1-fbea-1c15-e80c",
     "previous": "d1bcb8ac-9599-11ea-8d02-0242ac120007-8-ec95-2870-3f6b-c2d6-1a60-f266-1f14-e297"
    }
   },
   "source": [
    "## 作業用ディレクトリを作成する"
   ]
  },
  {
   "cell_type": "code",
   "execution_count": null,
   "metadata": {
    "lc_cell_meme": {
     "current": "8a6e65e2-6f14-11ee-89fa-0242ac120005-5-d59f-26f1-fbea-1c15-e80c",
     "history": [
      {
       "current": "8a6e65e2-6f14-11ee-89fa-0242ac120005-1-d59f",
       "next": "8a6e6664-6f14-11ee-89fa-0242ac120005",
       "previous": "8a6e6452-6f14-11ee-89fa-0242ac120005"
      },
      {
       "current": "8a6e65e2-6f14-11ee-89fa-0242ac120005-2-d59f-26f1",
       "next": "8a6e6664-6f14-11ee-89fa-0242ac120005-1-22a0",
       "previous": "8a6e6452-6f14-11ee-89fa-0242ac120005-1-f6f4"
      },
      {
       "current": "8a6e65e2-6f14-11ee-89fa-0242ac120005-3-d59f-26f1-fbea",
       "next": "8a6e6664-6f14-11ee-89fa-0242ac120005-2-22a0-f757",
       "previous": "8a6e6452-6f14-11ee-89fa-0242ac120005-2-f6f4-98f4"
      },
      {
       "current": "8a6e65e2-6f14-11ee-89fa-0242ac120005-4-d59f-26f1-fbea-1c15",
       "next": "8a6e6664-6f14-11ee-89fa-0242ac120005-3-22a0-f757-6704",
       "previous": "8a6e6452-6f14-11ee-89fa-0242ac120005-3-f6f4-98f4-730b"
      },
      {
       "current": "8a6e65e2-6f14-11ee-89fa-0242ac120005-5-d59f-26f1-fbea-1c15-e80c",
       "next": "8a6e6664-6f14-11ee-89fa-0242ac120005-4-22a0-f757-6704-5f4d",
       "previous": "8a6e6452-6f14-11ee-89fa-0242ac120005-4-f6f4-98f4-730b-d064"
      }
     ],
     "next": "8a6e6664-6f14-11ee-89fa-0242ac120005-5-22a0-f757-6704-5f4d-d0fd",
     "previous": "8a6e6452-6f14-11ee-89fa-0242ac120005-5-f6f4-98f4-730b-d064-1e75"
    }
   },
   "outputs": [],
   "source": [
    "import os,tempfile\n",
    "temp_dir = tempfile.mkdtemp()\n",
    "print (temp_dir)"
   ]
  },
  {
   "cell_type": "markdown",
   "metadata": {
    "lc_cell_meme": {
     "current": "8a6e6664-6f14-11ee-89fa-0242ac120005-5-22a0-f757-6704-5f4d-d0fd",
     "history": [
      {
       "current": "8a6e6664-6f14-11ee-89fa-0242ac120005-1-22a0",
       "next": "8a6e66c8-6f14-11ee-89fa-0242ac120005",
       "previous": "8a6e65e2-6f14-11ee-89fa-0242ac120005"
      },
      {
       "current": "8a6e6664-6f14-11ee-89fa-0242ac120005-2-22a0-f757",
       "next": "8a6e66c8-6f14-11ee-89fa-0242ac120005-1-c1cc",
       "previous": "8a6e65e2-6f14-11ee-89fa-0242ac120005-1-d59f"
      },
      {
       "current": "8a6e6664-6f14-11ee-89fa-0242ac120005-3-22a0-f757-6704",
       "next": "8a6e66c8-6f14-11ee-89fa-0242ac120005-2-c1cc-ec8b",
       "previous": "8a6e65e2-6f14-11ee-89fa-0242ac120005-2-d59f-26f1"
      },
      {
       "current": "8a6e6664-6f14-11ee-89fa-0242ac120005-4-22a0-f757-6704-5f4d",
       "next": "8a6e66c8-6f14-11ee-89fa-0242ac120005-3-c1cc-ec8b-dbed",
       "previous": "8a6e65e2-6f14-11ee-89fa-0242ac120005-3-d59f-26f1-fbea"
      },
      {
       "current": "8a6e6664-6f14-11ee-89fa-0242ac120005-5-22a0-f757-6704-5f4d-d0fd",
       "next": "8a6e66c8-6f14-11ee-89fa-0242ac120005-4-c1cc-ec8b-dbed-0ee5",
       "previous": "8a6e65e2-6f14-11ee-89fa-0242ac120005-4-d59f-26f1-fbea-1c15"
      }
     ],
     "next": "8a6e66c8-6f14-11ee-89fa-0242ac120005-5-c1cc-ec8b-dbed-0ee5-feab",
     "previous": "8a6e65e2-6f14-11ee-89fa-0242ac120005-5-d59f-26f1-fbea-1c15-e80c"
    }
   },
   "source": [
    "## AnsibleのInventoryファイルを作業用ディレクトリへ作成する"
   ]
  },
  {
   "cell_type": "code",
   "execution_count": null,
   "metadata": {
    "lc_cell_meme": {
     "current": "8a6e66c8-6f14-11ee-89fa-0242ac120005-5-c1cc-ec8b-dbed-0ee5-feab",
     "history": [
      {
       "current": "8a6e66c8-6f14-11ee-89fa-0242ac120005-1-c1cc",
       "next": "8a6e6736-6f14-11ee-89fa-0242ac120005",
       "previous": "8a6e6664-6f14-11ee-89fa-0242ac120005"
      },
      {
       "current": "8a6e66c8-6f14-11ee-89fa-0242ac120005-2-c1cc-ec8b",
       "next": "8a6e6736-6f14-11ee-89fa-0242ac120005-1-6cf4",
       "previous": "8a6e6664-6f14-11ee-89fa-0242ac120005-1-22a0"
      },
      {
       "current": "8a6e66c8-6f14-11ee-89fa-0242ac120005-3-c1cc-ec8b-dbed",
       "next": "8a6e6736-6f14-11ee-89fa-0242ac120005-2-6cf4-4e2f",
       "previous": "8a6e6664-6f14-11ee-89fa-0242ac120005-2-22a0-f757"
      },
      {
       "current": "8a6e66c8-6f14-11ee-89fa-0242ac120005-4-c1cc-ec8b-dbed-0ee5",
       "next": "8a6e6736-6f14-11ee-89fa-0242ac120005-3-6cf4-4e2f-21d6",
       "previous": "8a6e6664-6f14-11ee-89fa-0242ac120005-3-22a0-f757-6704"
      },
      {
       "current": "8a6e66c8-6f14-11ee-89fa-0242ac120005-5-c1cc-ec8b-dbed-0ee5-feab",
       "next": "8a6e6736-6f14-11ee-89fa-0242ac120005-4-6cf4-4e2f-21d6-6d2d",
       "previous": "8a6e6664-6f14-11ee-89fa-0242ac120005-4-22a0-f757-6704-5f4d"
      }
     ],
     "next": "8a6e6736-6f14-11ee-89fa-0242ac120005-5-6cf4-4e2f-21d6-6d2d-11f5",
     "previous": "8a6e6664-6f14-11ee-89fa-0242ac120005-5-22a0-f757-6704-5f4d-d0fd"
    }
   },
   "outputs": [],
   "source": [
    "import os\n",
    "\n",
    "with open( os.path.join(temp_dir, \"hosts\"), 'w') as f:\n",
    "    f.write('''[openstack_ctl]\n",
    "{openstack_cmn}\n",
    "'''.format(openstack_cmn = provisioning_vip))\n",
    "\n",
    "hosts = temp_dir + \"/hosts\"\n",
    "!cat $hosts"
   ]
  },
  {
   "cell_type": "code",
   "execution_count": null,
   "metadata": {
    "lc_cell_meme": {
     "current": "8a6e6736-6f14-11ee-89fa-0242ac120005-5-6cf4-4e2f-21d6-6d2d-11f5",
     "history": [
      {
       "current": "8a6e6736-6f14-11ee-89fa-0242ac120005",
       "next": "8a6e67a4-6f14-11ee-89fa-0242ac120005",
       "previous": "8a6e66c8-6f14-11ee-89fa-0242ac120005"
      },
      {
       "current": "8a6e6736-6f14-11ee-89fa-0242ac120005-1-6cf4",
       "next": "8a6e67a4-6f14-11ee-89fa-0242ac120005-1-b446",
       "previous": "8a6e66c8-6f14-11ee-89fa-0242ac120005"
      },
      {
       "current": "8a6e6736-6f14-11ee-89fa-0242ac120005-2-6cf4-4e2f",
       "next": "8a6e67a4-6f14-11ee-89fa-0242ac120005-2-b446-072e",
       "previous": "8a6e66c8-6f14-11ee-89fa-0242ac120005-1-c1cc"
      },
      {
       "current": "8a6e6736-6f14-11ee-89fa-0242ac120005-3-6cf4-4e2f-21d6",
       "next": "8a6e67a4-6f14-11ee-89fa-0242ac120005-3-b446-072e-aa2e",
       "previous": "8a6e66c8-6f14-11ee-89fa-0242ac120005-2-c1cc-ec8b"
      },
      {
       "current": "8a6e6736-6f14-11ee-89fa-0242ac120005-4-6cf4-4e2f-21d6-6d2d",
       "next": "8a6e67a4-6f14-11ee-89fa-0242ac120005-4-b446-072e-aa2e-ddf6",
       "previous": "8a6e66c8-6f14-11ee-89fa-0242ac120005-3-c1cc-ec8b-dbed"
      },
      {
       "current": "8a6e6736-6f14-11ee-89fa-0242ac120005-5-6cf4-4e2f-21d6-6d2d-11f5",
       "next": "8a6e67a4-6f14-11ee-89fa-0242ac120005-5-b446-072e-aa2e-ddf6-a71f",
       "previous": "8a6e66c8-6f14-11ee-89fa-0242ac120005-4-c1cc-ec8b-dbed-0ee5"
      }
     ],
     "next": "8a6e67a4-6f14-11ee-89fa-0242ac120005-6-b446-072e-aa2e-ddf6-a71f-4c7c",
     "previous": "8a6e66c8-6f14-11ee-89fa-0242ac120005-5-c1cc-ec8b-dbed-0ee5-feab"
    }
   },
   "outputs": [],
   "source": [
    "%env ANSIBLE_INVENTORY={hosts}"
   ]
  },
  {
   "cell_type": "markdown",
   "metadata": {
    "lc_cell_meme": {
     "current": "8a6e67a4-6f14-11ee-89fa-0242ac120005-6-b446-072e-aa2e-ddf6-a71f-4c7c",
     "history": [
      {
       "current": "8a6e67a4-6f14-11ee-89fa-0242ac120005-2-b446-072e",
       "next": "8a6e6808-6f14-11ee-89fa-0242ac120005",
       "previous": "8a6e6736-6f14-11ee-89fa-0242ac120005"
      },
      {
       "current": "8a6e67a4-6f14-11ee-89fa-0242ac120005-3-b446-072e-aa2e",
       "next": "8a6e6808-6f14-11ee-89fa-0242ac120005-1-86da",
       "previous": "8a6e6736-6f14-11ee-89fa-0242ac120005-1-6cf4"
      },
      {
       "current": "8a6e67a4-6f14-11ee-89fa-0242ac120005-4-b446-072e-aa2e-ddf6",
       "next": "8a6e6808-6f14-11ee-89fa-0242ac120005-2-86da-1661",
       "previous": "8a6e6736-6f14-11ee-89fa-0242ac120005-2-6cf4-4e2f"
      },
      {
       "current": "8a6e67a4-6f14-11ee-89fa-0242ac120005-5-b446-072e-aa2e-ddf6-a71f",
       "next": "8a6e6808-6f14-11ee-89fa-0242ac120005-3-86da-1661-fd11",
       "previous": "8a6e6736-6f14-11ee-89fa-0242ac120005-3-6cf4-4e2f-21d6"
      },
      {
       "current": "8a6e67a4-6f14-11ee-89fa-0242ac120005-6-b446-072e-aa2e-ddf6-a71f-4c7c",
       "next": "8a6e6808-6f14-11ee-89fa-0242ac120005-4-86da-1661-fd11-d3a2",
       "previous": "8a6e6736-6f14-11ee-89fa-0242ac120005-4-6cf4-4e2f-21d6-6d2d"
      }
     ],
     "next": "8a6e6808-6f14-11ee-89fa-0242ac120005-5-86da-1661-fd11-d3a2-5203",
     "previous": "8a6e6736-6f14-11ee-89fa-0242ac120005-5-6cf4-4e2f-21d6-6d2d-11f5"
    }
   },
   "source": [
    "疎通確認"
   ]
  },
  {
   "cell_type": "code",
   "execution_count": null,
   "metadata": {
    "lc_cell_meme": {
     "current": "8a6e6808-6f14-11ee-89fa-0242ac120005-5-86da-1661-fd11-d3a2-5203",
     "history": [
      {
       "current": "8a6e6808-6f14-11ee-89fa-0242ac120005",
       "next": "8a6e6862-6f14-11ee-89fa-0242ac120005",
       "previous": "8a6e67a4-6f14-11ee-89fa-0242ac120005"
      },
      {
       "current": "8a6e6808-6f14-11ee-89fa-0242ac120005-1-86da",
       "next": "8a6e6862-6f14-11ee-89fa-0242ac120005",
       "previous": "8a6e67a4-6f14-11ee-89fa-0242ac120005-1-b446"
      },
      {
       "current": "8a6e6808-6f14-11ee-89fa-0242ac120005-2-86da-1661",
       "next": "8a6e6862-6f14-11ee-89fa-0242ac120005-1-ef0c",
       "previous": "8a6e67a4-6f14-11ee-89fa-0242ac120005-2-b446-072e"
      },
      {
       "current": "8a6e6808-6f14-11ee-89fa-0242ac120005-3-86da-1661-fd11",
       "next": "8a6e6862-6f14-11ee-89fa-0242ac120005-2-ef0c-177b",
       "previous": "8a6e67a4-6f14-11ee-89fa-0242ac120005-3-b446-072e-aa2e"
      },
      {
       "current": "8a6e6808-6f14-11ee-89fa-0242ac120005-4-86da-1661-fd11-d3a2",
       "next": "8a6e6862-6f14-11ee-89fa-0242ac120005-3-ef0c-177b-48b2",
       "previous": "8a6e67a4-6f14-11ee-89fa-0242ac120005-4-b446-072e-aa2e-ddf6"
      },
      {
       "current": "8a6e6808-6f14-11ee-89fa-0242ac120005-5-86da-1661-fd11-d3a2-5203",
       "next": "8a6e6862-6f14-11ee-89fa-0242ac120005-4-ef0c-177b-48b2-0e25",
       "previous": "8a6e67a4-6f14-11ee-89fa-0242ac120005-5-b446-072e-aa2e-ddf6-a71f"
      }
     ],
     "next": "8a6e6862-6f14-11ee-89fa-0242ac120005-5-ef0c-177b-48b2-0e25-15cd",
     "previous": "8a6e67a4-6f14-11ee-89fa-0242ac120005-6-b446-072e-aa2e-ddf6-a71f-4c7c"
    }
   },
   "outputs": [],
   "source": [
    "!ansible -m ping openstack_ctl"
   ]
  },
  {
   "cell_type": "code",
   "execution_count": null,
   "metadata": {
    "lc_cell_meme": {
     "current": "8a6e6862-6f14-11ee-89fa-0242ac120005-5-ef0c-177b-48b2-0e25-15cd",
     "history": [
      {
       "current": "8a6e6862-6f14-11ee-89fa-0242ac120005",
       "next": "8a6e68d0-6f14-11ee-89fa-0242ac120005",
       "previous": "8a6e6808-6f14-11ee-89fa-0242ac120005"
      },
      {
       "current": "8a6e6862-6f14-11ee-89fa-0242ac120005-1-ef0c",
       "next": "8a6e68d0-6f14-11ee-89fa-0242ac120005-1-da77",
       "previous": "8a6e6808-6f14-11ee-89fa-0242ac120005"
      },
      {
       "current": "8a6e6862-6f14-11ee-89fa-0242ac120005-2-ef0c-177b",
       "next": "8a6e68d0-6f14-11ee-89fa-0242ac120005-2-da77-3a27",
       "previous": "8a6e6808-6f14-11ee-89fa-0242ac120005-1-86da"
      },
      {
       "current": "8a6e6862-6f14-11ee-89fa-0242ac120005-3-ef0c-177b-48b2",
       "next": "8a6e68d0-6f14-11ee-89fa-0242ac120005-3-da77-3a27-e397",
       "previous": "8a6e6808-6f14-11ee-89fa-0242ac120005-2-86da-1661"
      },
      {
       "current": "8a6e6862-6f14-11ee-89fa-0242ac120005-4-ef0c-177b-48b2-0e25",
       "next": "8a6e68d0-6f14-11ee-89fa-0242ac120005-4-da77-3a27-e397-ffeb",
       "previous": "8a6e6808-6f14-11ee-89fa-0242ac120005-3-86da-1661-fd11"
      },
      {
       "current": "8a6e6862-6f14-11ee-89fa-0242ac120005-5-ef0c-177b-48b2-0e25-15cd",
       "next": "8a6e68d0-6f14-11ee-89fa-0242ac120005-5-da77-3a27-e397-ffeb-454a",
       "previous": "8a6e6808-6f14-11ee-89fa-0242ac120005-4-86da-1661-fd11-d3a2"
      }
     ],
     "next": "8a6e68d0-6f14-11ee-89fa-0242ac120005-6-da77-3a27-e397-ffeb-454a-addd",
     "previous": "8a6e6808-6f14-11ee-89fa-0242ac120005-5-86da-1661-fd11-d3a2-5203"
    }
   },
   "outputs": [],
   "source": [
    "!ansible -a 'hostname' openstack_ctl"
   ]
  },
  {
   "cell_type": "markdown",
   "metadata": {
    "lc_cell_meme": {
     "current": "8a6e68d0-6f14-11ee-89fa-0242ac120005-6-da77-3a27-e397-ffeb-454a-addd",
     "history": [
      {
       "current": "8a6e68d0-6f14-11ee-89fa-0242ac120005-2-da77-3a27",
       "next": "8a6e6934-6f14-11ee-89fa-0242ac120005",
       "previous": "8a6e6862-6f14-11ee-89fa-0242ac120005"
      },
      {
       "current": "8a6e68d0-6f14-11ee-89fa-0242ac120005-3-da77-3a27-e397",
       "next": "8a6e6934-6f14-11ee-89fa-0242ac120005-1-6c7b",
       "previous": "8a6e6862-6f14-11ee-89fa-0242ac120005-1-ef0c"
      },
      {
       "current": "8a6e68d0-6f14-11ee-89fa-0242ac120005-4-da77-3a27-e397-ffeb",
       "next": "8a6e6934-6f14-11ee-89fa-0242ac120005-2-6c7b-fddd",
       "previous": "8a6e6862-6f14-11ee-89fa-0242ac120005-2-ef0c-177b"
      },
      {
       "current": "8a6e68d0-6f14-11ee-89fa-0242ac120005-5-da77-3a27-e397-ffeb-454a",
       "next": "8a6e6934-6f14-11ee-89fa-0242ac120005-3-6c7b-fddd-f41b",
       "previous": "8a6e6862-6f14-11ee-89fa-0242ac120005-3-ef0c-177b-48b2"
      },
      {
       "current": "8a6e68d0-6f14-11ee-89fa-0242ac120005-6-da77-3a27-e397-ffeb-454a-addd",
       "next": "8a6e6934-6f14-11ee-89fa-0242ac120005-4-6c7b-fddd-f41b-dced",
       "previous": "8a6e6862-6f14-11ee-89fa-0242ac120005-4-ef0c-177b-48b2-0e25"
      }
     ],
     "next": "8a6e6934-6f14-11ee-89fa-0242ac120005-5-6c7b-fddd-f41b-dced-aa4d",
     "previous": "8a6e6862-6f14-11ee-89fa-0242ac120005-5-ef0c-177b-48b2-0e25-15cd"
    }
   },
   "source": [
    "## OpenStack用OpenRCファイル設定\n",
    "\n",
    "`xxxxxxx`プロジェクト用のOpenRCファイルを事前にダウンロードしておくこと。  "
   ]
  },
  {
   "cell_type": "code",
   "execution_count": null,
   "metadata": {
    "lc_cell_meme": {
     "current": "8a6e6934-6f14-11ee-89fa-0242ac120005-5-6c7b-fddd-f41b-dced-aa4d",
     "history": [
      {
       "current": "8a6e6934-6f14-11ee-89fa-0242ac120005",
       "next": "8a6e698e-6f14-11ee-89fa-0242ac120005",
       "previous": "8a6e68d0-6f14-11ee-89fa-0242ac120005"
      },
      {
       "current": "8a6e6934-6f14-11ee-89fa-0242ac120005-1-6c7b",
       "next": "d1f5984a-6f14-11ee-89fa-0242ac120005",
       "previous": "8a6e68d0-6f14-11ee-89fa-0242ac120005-1-da77"
      },
      {
       "current": "8a6e6934-6f14-11ee-89fa-0242ac120005-2-6c7b-fddd",
       "next": "d1f5984a-6f14-11ee-89fa-0242ac120005-1-e822",
       "previous": "8a6e68d0-6f14-11ee-89fa-0242ac120005-2-da77-3a27"
      },
      {
       "current": "8a6e6934-6f14-11ee-89fa-0242ac120005-3-6c7b-fddd-f41b",
       "next": "d1f5984a-6f14-11ee-89fa-0242ac120005-2-e822-36d1",
       "previous": "8a6e68d0-6f14-11ee-89fa-0242ac120005-3-da77-3a27-e397"
      },
      {
       "current": "8a6e6934-6f14-11ee-89fa-0242ac120005-4-6c7b-fddd-f41b-dced",
       "next": "d1f5984a-6f14-11ee-89fa-0242ac120005-3-e822-36d1-c0b6",
       "previous": "8a6e68d0-6f14-11ee-89fa-0242ac120005-4-da77-3a27-e397-ffeb"
      },
      {
       "current": "8a6e6934-6f14-11ee-89fa-0242ac120005-5-6c7b-fddd-f41b-dced-aa4d",
       "next": "d1f5984a-6f14-11ee-89fa-0242ac120005-4-e822-36d1-c0b6-1e1f",
       "previous": "8a6e68d0-6f14-11ee-89fa-0242ac120005-5-da77-3a27-e397-ffeb-454a"
      }
     ],
     "next": "d1f5984a-6f14-11ee-89fa-0242ac120005-5-e822-36d1-c0b6-1e1f-717a",
     "previous": "8a6e68d0-6f14-11ee-89fa-0242ac120005-6-da77-3a27-e397-ffeb-454a-addd"
    }
   },
   "outputs": [],
   "source": [
    "import os\n",
    "\n",
    "user_creds = os.path.expanduser('~/.keys/xxxxxxx-openrc.sh')\n",
    "\n",
    "assert os.path.exists(user_creds), '{} is not exist'.format(user_creds)"
   ]
  },
  {
   "cell_type": "code",
   "execution_count": null,
   "metadata": {
    "lc_cell_meme": {
     "current": "d1f5984a-6f14-11ee-89fa-0242ac120005-5-e822-36d1-c0b6-1e1f-717a",
     "history": [
      {
       "current": "d1f5984a-6f14-11ee-89fa-0242ac120005-1-e822",
       "next": "d1f599e4-6f14-11ee-89fa-0242ac120005",
       "previous": "8a6e6934-6f14-11ee-89fa-0242ac120005"
      },
      {
       "current": "d1f5984a-6f14-11ee-89fa-0242ac120005-2-e822-36d1",
       "next": "d1f599e4-6f14-11ee-89fa-0242ac120005-1-ca3e",
       "previous": "8a6e6934-6f14-11ee-89fa-0242ac120005-1-6c7b"
      },
      {
       "current": "d1f5984a-6f14-11ee-89fa-0242ac120005-3-e822-36d1-c0b6",
       "next": "d1f599e4-6f14-11ee-89fa-0242ac120005-2-ca3e-536f",
       "previous": "8a6e6934-6f14-11ee-89fa-0242ac120005-2-6c7b-fddd"
      },
      {
       "current": "d1f5984a-6f14-11ee-89fa-0242ac120005-4-e822-36d1-c0b6-1e1f",
       "next": "d1f599e4-6f14-11ee-89fa-0242ac120005-3-ca3e-536f-c77a",
       "previous": "8a6e6934-6f14-11ee-89fa-0242ac120005-3-6c7b-fddd-f41b"
      },
      {
       "current": "d1f5984a-6f14-11ee-89fa-0242ac120005-5-e822-36d1-c0b6-1e1f-717a",
       "next": "d1f599e4-6f14-11ee-89fa-0242ac120005-4-ca3e-536f-c77a-f606",
       "previous": "8a6e6934-6f14-11ee-89fa-0242ac120005-4-6c7b-fddd-f41b-dced"
      }
     ],
     "next": "d1f599e4-6f14-11ee-89fa-0242ac120005-5-ca3e-536f-c77a-f606-3293",
     "previous": "8a6e6934-6f14-11ee-89fa-0242ac120005-5-6c7b-fddd-f41b-dced-aa4d"
    }
   },
   "outputs": [],
   "source": [
    "%env USER_CREDS={user_creds}"
   ]
  },
  {
   "cell_type": "code",
   "execution_count": null,
   "metadata": {
    "lc_cell_meme": {
     "current": "d1f599e4-6f14-11ee-89fa-0242ac120005-5-ca3e-536f-c77a-f606-3293",
     "history": [
      {
       "current": "d1f599e4-6f14-11ee-89fa-0242ac120005-1-ca3e",
       "next": "d1f59a8e-6f14-11ee-89fa-0242ac120005",
       "previous": "d1f5984a-6f14-11ee-89fa-0242ac120005"
      },
      {
       "current": "d1f599e4-6f14-11ee-89fa-0242ac120005-2-ca3e-536f",
       "next": "d1f59a8e-6f14-11ee-89fa-0242ac120005-1-a528",
       "previous": "d1f5984a-6f14-11ee-89fa-0242ac120005-1-e822"
      },
      {
       "current": "d1f599e4-6f14-11ee-89fa-0242ac120005-3-ca3e-536f-c77a",
       "next": "d1f59a8e-6f14-11ee-89fa-0242ac120005-2-a528-c320",
       "previous": "d1f5984a-6f14-11ee-89fa-0242ac120005-2-e822-36d1"
      },
      {
       "current": "d1f599e4-6f14-11ee-89fa-0242ac120005-4-ca3e-536f-c77a-f606",
       "next": "d1f59a8e-6f14-11ee-89fa-0242ac120005-3-a528-c320-9d9a",
       "previous": "d1f5984a-6f14-11ee-89fa-0242ac120005-3-e822-36d1-c0b6"
      },
      {
       "current": "d1f599e4-6f14-11ee-89fa-0242ac120005-5-ca3e-536f-c77a-f606-3293",
       "next": "d1f59a8e-6f14-11ee-89fa-0242ac120005-4-a528-c320-9d9a-d1ea",
       "previous": "d1f5984a-6f14-11ee-89fa-0242ac120005-4-e822-36d1-c0b6-1e1f"
      }
     ],
     "next": "d1f59a8e-6f14-11ee-89fa-0242ac120005-5-a528-c320-9d9a-d1ea-2bc3",
     "previous": "d1f5984a-6f14-11ee-89fa-0242ac120005-5-e822-36d1-c0b6-1e1f-717a"
    }
   },
   "outputs": [],
   "source": [
    "!ls -l {user_creds}"
   ]
  },
  {
   "cell_type": "markdown",
   "metadata": {
    "heading_collapsed": true,
    "lc_cell_meme": {
     "current": "d1f59a8e-6f14-11ee-89fa-0242ac120005-5-a528-c320-9d9a-d1ea-2bc3",
     "history": [
      {
       "current": "d1f59a8e-6f14-11ee-89fa-0242ac120005-1-a528",
       "next": "d1f59b06-6f14-11ee-89fa-0242ac120005",
       "previous": "d1f599e4-6f14-11ee-89fa-0242ac120005"
      },
      {
       "current": "d1f59a8e-6f14-11ee-89fa-0242ac120005-2-a528-c320",
       "next": "d1f59b06-6f14-11ee-89fa-0242ac120005-1-6cee",
       "previous": "d1f599e4-6f14-11ee-89fa-0242ac120005-1-ca3e"
      },
      {
       "current": "d1f59a8e-6f14-11ee-89fa-0242ac120005-3-a528-c320-9d9a",
       "next": "d1f59b06-6f14-11ee-89fa-0242ac120005-2-6cee-569f",
       "previous": "d1f599e4-6f14-11ee-89fa-0242ac120005-2-ca3e-536f"
      },
      {
       "current": "d1f59a8e-6f14-11ee-89fa-0242ac120005-4-a528-c320-9d9a-d1ea",
       "next": "d1f59b06-6f14-11ee-89fa-0242ac120005-3-6cee-569f-d3c8",
       "previous": "d1f599e4-6f14-11ee-89fa-0242ac120005-3-ca3e-536f-c77a"
      },
      {
       "current": "d1f59a8e-6f14-11ee-89fa-0242ac120005-5-a528-c320-9d9a-d1ea-2bc3",
       "next": "d1f59b06-6f14-11ee-89fa-0242ac120005-4-6cee-569f-d3c8-1da9",
       "previous": "d1f599e4-6f14-11ee-89fa-0242ac120005-4-ca3e-536f-c77a-f606"
      }
     ],
     "next": "d1f59b06-6f14-11ee-89fa-0242ac120005-5-6cee-569f-d3c8-1da9-d4df",
     "previous": "d1f599e4-6f14-11ee-89fa-0242ac120005-5-ca3e-536f-c77a-f606-3293"
    }
   },
   "source": [
    "## openstackコマンド用ユーティリティ関数"
   ]
  },
  {
   "cell_type": "code",
   "execution_count": null,
   "metadata": {
    "hidden": true,
    "lc_cell_meme": {
     "current": "d1f59b06-6f14-11ee-89fa-0242ac120005-5-6cee-569f-d3c8-1da9-d4df",
     "history": [
      {
       "current": "d1f59b06-6f14-11ee-89fa-0242ac120005-1-6cee",
       "next": "d1f59b74-6f14-11ee-89fa-0242ac120005",
       "previous": "d1f59a8e-6f14-11ee-89fa-0242ac120005"
      },
      {
       "current": "d1f59b06-6f14-11ee-89fa-0242ac120005-2-6cee-569f",
       "next": "d1f59b74-6f14-11ee-89fa-0242ac120005-1-c289",
       "previous": "d1f59a8e-6f14-11ee-89fa-0242ac120005-1-a528"
      },
      {
       "current": "d1f59b06-6f14-11ee-89fa-0242ac120005-3-6cee-569f-d3c8",
       "next": "d1f59b74-6f14-11ee-89fa-0242ac120005-2-c289-625e",
       "previous": "d1f59a8e-6f14-11ee-89fa-0242ac120005-2-a528-c320"
      },
      {
       "current": "d1f59b06-6f14-11ee-89fa-0242ac120005-4-6cee-569f-d3c8-1da9",
       "next": "d1f59b74-6f14-11ee-89fa-0242ac120005-3-c289-625e-e155",
       "previous": "d1f59a8e-6f14-11ee-89fa-0242ac120005-3-a528-c320-9d9a"
      },
      {
       "current": "d1f59b06-6f14-11ee-89fa-0242ac120005-5-6cee-569f-d3c8-1da9-d4df",
       "next": "d1f59b74-6f14-11ee-89fa-0242ac120005-4-c289-625e-e155-5299",
       "previous": "d1f59a8e-6f14-11ee-89fa-0242ac120005-4-a528-c320-9d9a-d1ea"
      }
     ],
     "next": "d1f59b74-6f14-11ee-89fa-0242ac120005-5-c289-625e-e155-5299-bb64",
     "previous": "d1f59a8e-6f14-11ee-89fa-0242ac120005-5-a528-c320-9d9a-d1ea-2bc3"
    }
   },
   "outputs": [],
   "source": [
    "def build_cmdline(param):\n",
    "    cmdline = ''\n",
    "    \n",
    "    for param_name, param_value in param.items():\n",
    "        if isinstance(param_value, dict):\n",
    "            for key, value in param_value.items():\n",
    "                cmdline += ' --{} {}={}'.format(param_name, key, value)\n",
    "        elif isinstance(param_value, list):\n",
    "            for item in param_value:\n",
    "                cmdline += ' --{} {}'.format(param_name, item)\n",
    "        elif isinstance(param_value, bool):\n",
    "            if param_value:\n",
    "                cmdline += ' --{}'.format(param_name)\n",
    "        else:\n",
    "            cmdline += ' --{} {}'.format(param_name, param_value)\n",
    "\n",
    "    return cmdline"
   ]
  },
  {
   "cell_type": "code",
   "execution_count": null,
   "metadata": {
    "hidden": true,
    "lc_cell_meme": {
     "current": "d1f59b74-6f14-11ee-89fa-0242ac120005-5-c289-625e-e155-5299-bb64",
     "history": [
      {
       "current": "d1f59b74-6f14-11ee-89fa-0242ac120005",
       "next": "d1f59bec-6f14-11ee-89fa-0242ac120005",
       "previous": "d1f59b06-6f14-11ee-89fa-0242ac120005"
      },
      {
       "current": "d1f59b74-6f14-11ee-89fa-0242ac120005-1-c289",
       "next": "d1f59bec-6f14-11ee-89fa-0242ac120005-1-da5a",
       "previous": "d1f59b06-6f14-11ee-89fa-0242ac120005"
      },
      {
       "current": "d1f59b74-6f14-11ee-89fa-0242ac120005-2-c289-625e",
       "next": "d1f59bec-6f14-11ee-89fa-0242ac120005-2-da5a-878c",
       "previous": "d1f59b06-6f14-11ee-89fa-0242ac120005-1-6cee"
      },
      {
       "current": "d1f59b74-6f14-11ee-89fa-0242ac120005-3-c289-625e-e155",
       "next": "d1f59bec-6f14-11ee-89fa-0242ac120005-3-da5a-878c-7c97",
       "previous": "d1f59b06-6f14-11ee-89fa-0242ac120005-2-6cee-569f"
      },
      {
       "current": "d1f59b74-6f14-11ee-89fa-0242ac120005-4-c289-625e-e155-5299",
       "next": "d1f59bec-6f14-11ee-89fa-0242ac120005-4-da5a-878c-7c97-947d",
       "previous": "d1f59b06-6f14-11ee-89fa-0242ac120005-3-6cee-569f-d3c8"
      },
      {
       "current": "d1f59b74-6f14-11ee-89fa-0242ac120005-5-c289-625e-e155-5299-bb64",
       "next": "d1f59bec-6f14-11ee-89fa-0242ac120005-5-da5a-878c-7c97-947d-02e2",
       "previous": "d1f59b06-6f14-11ee-89fa-0242ac120005-4-6cee-569f-d3c8-1da9"
      }
     ],
     "next": "d1f59bec-6f14-11ee-89fa-0242ac120005-6-da5a-878c-7c97-947d-02e2-77da",
     "previous": "d1f59b06-6f14-11ee-89fa-0242ac120005-5-6cee-569f-d3c8-1da9-d4df"
    }
   },
   "outputs": [],
   "source": [
    "import json\n",
    "\n",
    "def run_openstack(cmd):\n",
    "    print('EXEC: {}'.format(cmd))\n",
    "    out = !source {user_creds} && {cmd}\n",
    "    print('OUTPUT: {}'.format('\\n'.join(out)))\n",
    "    return json.loads('\\n'.join(out))"
   ]
  },
  {
   "cell_type": "markdown",
   "metadata": {
    "hidden": true,
    "lc_cell_meme": {
     "current": "d1f59bec-6f14-11ee-89fa-0242ac120005-6-da5a-878c-7c97-947d-02e2-77da",
     "history": [
      {
       "current": "d1f59bec-6f14-11ee-89fa-0242ac120005-2-da5a-878c",
       "next": "8a6e698e-6f14-11ee-89fa-0242ac120005",
       "previous": "d1f59b74-6f14-11ee-89fa-0242ac120005"
      },
      {
       "current": "d1f59bec-6f14-11ee-89fa-0242ac120005-3-da5a-878c-7c97",
       "next": "8a6e698e-6f14-11ee-89fa-0242ac120005-1-d7e4",
       "previous": "d1f59b74-6f14-11ee-89fa-0242ac120005-1-c289"
      },
      {
       "current": "d1f59bec-6f14-11ee-89fa-0242ac120005-4-da5a-878c-7c97-947d",
       "next": "8a6e698e-6f14-11ee-89fa-0242ac120005-2-d7e4-11fb",
       "previous": "d1f59b74-6f14-11ee-89fa-0242ac120005-2-c289-625e"
      },
      {
       "current": "d1f59bec-6f14-11ee-89fa-0242ac120005-5-da5a-878c-7c97-947d-02e2",
       "next": "8a6e698e-6f14-11ee-89fa-0242ac120005-3-d7e4-11fb-52e3",
       "previous": "d1f59b74-6f14-11ee-89fa-0242ac120005-3-c289-625e-e155"
      },
      {
       "current": "d1f59bec-6f14-11ee-89fa-0242ac120005-6-da5a-878c-7c97-947d-02e2-77da",
       "next": "8a6e698e-6f14-11ee-89fa-0242ac120005-4-d7e4-11fb-52e3-495e",
       "previous": "d1f59b74-6f14-11ee-89fa-0242ac120005-4-c289-625e-e155-5299"
      }
     ],
     "next": "8a6e698e-6f14-11ee-89fa-0242ac120005-5-d7e4-11fb-52e3-495e-5024",
     "previous": "d1f59b74-6f14-11ee-89fa-0242ac120005-5-c289-625e-e155-5299-bb64"
    }
   },
   "source": [
    "テスト"
   ]
  },
  {
   "cell_type": "code",
   "execution_count": null,
   "metadata": {
    "hidden": true,
    "lc_cell_meme": {
     "current": "8a6e698e-6f14-11ee-89fa-0242ac120005-5-d7e4-11fb-52e3-495e-5024",
     "history": [
      {
       "current": "8a6e698e-6f14-11ee-89fa-0242ac120005",
       "next": "8a6e69fc-6f14-11ee-89fa-0242ac120005",
       "previous": "8a6e6934-6f14-11ee-89fa-0242ac120005"
      },
      {
       "current": "8a6e698e-6f14-11ee-89fa-0242ac120005",
       "next": "8a6e69fc-6f14-11ee-89fa-0242ac120005",
       "previous": "d1f59bec-6f14-11ee-89fa-0242ac120005"
      },
      {
       "current": "8a6e698e-6f14-11ee-89fa-0242ac120005-1-d7e4",
       "next": "06afe9a8-98b0-11ea-8d02-0242ac120007-3-a1c1-faf0-55bd",
       "previous": "d1f59bec-6f14-11ee-89fa-0242ac120005-1-da5a"
      },
      {
       "current": "8a6e698e-6f14-11ee-89fa-0242ac120005-2-d7e4-11fb",
       "next": "06afe9a8-98b0-11ea-8d02-0242ac120007-4-a1c1-faf0-55bd-e87e",
       "previous": "d1f59bec-6f14-11ee-89fa-0242ac120005-2-da5a-878c"
      },
      {
       "current": "8a6e698e-6f14-11ee-89fa-0242ac120005-3-d7e4-11fb-52e3",
       "next": "06afe9a8-98b0-11ea-8d02-0242ac120007-5-a1c1-faf0-55bd-e87e-532c",
       "previous": "d1f59bec-6f14-11ee-89fa-0242ac120005-3-da5a-878c-7c97"
      },
      {
       "current": "8a6e698e-6f14-11ee-89fa-0242ac120005-4-d7e4-11fb-52e3-495e",
       "next": "06afe9a8-98b0-11ea-8d02-0242ac120007-6-a1c1-faf0-55bd-e87e-532c-b619",
       "previous": "d1f59bec-6f14-11ee-89fa-0242ac120005-4-da5a-878c-7c97-947d"
      },
      {
       "current": "8a6e698e-6f14-11ee-89fa-0242ac120005-5-d7e4-11fb-52e3-495e-5024",
       "next": "06afe9a8-98b0-11ea-8d02-0242ac120007-7-a1c1-faf0-55bd-e87e-532c-b619-6ade",
       "previous": "d1f59bec-6f14-11ee-89fa-0242ac120005-5-da5a-878c-7c97-947d-02e2"
      }
     ],
     "next": "06afe9a8-98b0-11ea-8d02-0242ac120007-8-a1c1-faf0-55bd-e87e-532c-b619-6ade-d5b2",
     "previous": "d1f59bec-6f14-11ee-89fa-0242ac120005-6-da5a-878c-7c97-947d-02e2-77da"
    }
   },
   "outputs": [],
   "source": [
    "run_openstack('openstack flavor list -f json' + build_cmdline({'all': True}))"
   ]
  },
  {
   "cell_type": "markdown",
   "metadata": {
    "lc_cell_meme": {
     "current": "06afe9a8-98b0-11ea-8d02-0242ac120007-8-a1c1-faf0-55bd-e87e-532c-b619-6ade-d5b2",
     "history": [
      {
       "current": "06afe9a8-98b0-11ea-8d02-0242ac120007",
       "next": "7899411a-9692-11ea-8d02-0242ac120007",
       "previous": "d1bcb8ac-9599-11ea-8d02-0242ac120007"
      },
      {
       "current": "06afe9a8-98b0-11ea-8d02-0242ac120007-1-a1c1",
       "next": "7899411a-9692-11ea-8d02-0242ac120007",
       "previous": "250e7a70-98f3-11ea-8d02-0242ac120007"
      },
      {
       "current": "06afe9a8-98b0-11ea-8d02-0242ac120007-2-a1c1-faf0",
       "next": "7899411a-9692-11ea-8d02-0242ac120007-1-2cd2",
       "previous": "250e7a70-98f3-11ea-8d02-0242ac120007-1-f0b4"
      },
      {
       "current": "06afe9a8-98b0-11ea-8d02-0242ac120007-2-a1c1-faf0",
       "next": "7899411a-9692-11ea-8d02-0242ac120007-2-2cd2-395d",
       "previous": "250e7a70-98f3-11ea-8d02-0242ac120007-2-f0b4-6edf"
      },
      {
       "current": "06afe9a8-98b0-11ea-8d02-0242ac120007-2-a1c1-faf0",
       "next": "04bfc54e-defc-11eb-b29f-0242ac120008",
       "previous": "250e7a70-98f3-11ea-8d02-0242ac120007-2-f0b4-6edf"
      },
      {
       "current": "06afe9a8-98b0-11ea-8d02-0242ac120007-3-a1c1-faf0-55bd",
       "next": "329a4046-dfad-11eb-b29f-0242ac120008",
       "previous": "250e7a70-98f3-11ea-8d02-0242ac120007-2-f0b4-6edf"
      },
      {
       "current": "06afe9a8-98b0-11ea-8d02-0242ac120007-3-a1c1-faf0-55bd",
       "next": "329a4046-dfad-11eb-b29f-0242ac120008-1-1375",
       "previous": "250e7a70-98f3-11ea-8d02-0242ac120007-3-f0b4-6edf-9d40"
      },
      {
       "current": "06afe9a8-98b0-11ea-8d02-0242ac120007-3-a1c1-faf0-55bd",
       "next": "329a4046-dfad-11eb-b29f-0242ac120008-1-1375",
       "previous": "8a6e69fc-6f14-11ee-89fa-0242ac120005"
      },
      {
       "current": "06afe9a8-98b0-11ea-8d02-0242ac120007-4-a1c1-faf0-55bd-e87e",
       "next": "329a4046-dfad-11eb-b29f-0242ac120008-1-1375",
       "previous": "8a6e698e-6f14-11ee-89fa-0242ac120005"
      },
      {
       "current": "06afe9a8-98b0-11ea-8d02-0242ac120007-5-a1c1-faf0-55bd-e87e-532c",
       "next": "329a4046-dfad-11eb-b29f-0242ac120008-2-1375-99ab",
       "previous": "8a6e698e-6f14-11ee-89fa-0242ac120005-1-d7e4"
      },
      {
       "current": "06afe9a8-98b0-11ea-8d02-0242ac120007-6-a1c1-faf0-55bd-e87e-532c-b619",
       "next": "329a4046-dfad-11eb-b29f-0242ac120008-3-1375-99ab-4db3",
       "previous": "8a6e698e-6f14-11ee-89fa-0242ac120005-2-d7e4-11fb"
      },
      {
       "current": "06afe9a8-98b0-11ea-8d02-0242ac120007-7-a1c1-faf0-55bd-e87e-532c-b619-6ade",
       "next": "329a4046-dfad-11eb-b29f-0242ac120008-4-1375-99ab-4db3-331c",
       "previous": "8a6e698e-6f14-11ee-89fa-0242ac120005-3-d7e4-11fb-52e3"
      },
      {
       "current": "06afe9a8-98b0-11ea-8d02-0242ac120007-8-a1c1-faf0-55bd-e87e-532c-b619-6ade-d5b2",
       "next": "329a4046-dfad-11eb-b29f-0242ac120008-5-1375-99ab-4db3-331c-46d0",
       "previous": "8a6e698e-6f14-11ee-89fa-0242ac120005-4-d7e4-11fb-52e3-495e"
      }
     ],
     "next": "329a4046-dfad-11eb-b29f-0242ac120008-6-1375-99ab-4db3-331c-46d0-ab43",
     "previous": "8a6e698e-6f14-11ee-89fa-0242ac120005-5-d7e4-11fb-52e3-495e-5024"
    }
   },
   "source": [
    "## デプロイされたCephノード情報の取得"
   ]
  },
  {
   "cell_type": "markdown",
   "metadata": {
    "lc_cell_meme": {
     "current": "329a4046-dfad-11eb-b29f-0242ac120008-6-1375-99ab-4db3-331c-46d0-ab43",
     "history": [
      {
       "current": "329a4046-dfad-11eb-b29f-0242ac120008-1-1375",
       "next": "329a4348-dfad-11eb-b29f-0242ac120008",
       "previous": "06afe9a8-98b0-11ea-8d02-0242ac120007-2-a1c1-faf0"
      },
      {
       "current": "329a4046-dfad-11eb-b29f-0242ac120008-1-1375",
       "next": "329a4348-dfad-11eb-b29f-0242ac120008-1-ed21",
       "previous": "06afe9a8-98b0-11ea-8d02-0242ac120007-3-a1c1-faf0-55bd"
      },
      {
       "current": "329a4046-dfad-11eb-b29f-0242ac120008-2-1375-99ab",
       "next": "197c8f3e-6f15-11ee-89fa-0242ac120005",
       "previous": "06afe9a8-98b0-11ea-8d02-0242ac120007-3-a1c1-faf0-55bd"
      },
      {
       "current": "329a4046-dfad-11eb-b29f-0242ac120008-3-1375-99ab-4db3",
       "next": "197c8f3e-6f15-11ee-89fa-0242ac120005-1-9a30",
       "previous": "06afe9a8-98b0-11ea-8d02-0242ac120007-4-a1c1-faf0-55bd-e87e"
      },
      {
       "current": "329a4046-dfad-11eb-b29f-0242ac120008-4-1375-99ab-4db3-331c",
       "next": "197c8f3e-6f15-11ee-89fa-0242ac120005-2-9a30-ceec",
       "previous": "06afe9a8-98b0-11ea-8d02-0242ac120007-5-a1c1-faf0-55bd-e87e-532c"
      },
      {
       "current": "329a4046-dfad-11eb-b29f-0242ac120008-5-1375-99ab-4db3-331c-46d0",
       "next": "197c8f3e-6f15-11ee-89fa-0242ac120005-3-9a30-ceec-268f",
       "previous": "06afe9a8-98b0-11ea-8d02-0242ac120007-6-a1c1-faf0-55bd-e87e-532c-b619"
      },
      {
       "current": "329a4046-dfad-11eb-b29f-0242ac120008-6-1375-99ab-4db3-331c-46d0-ab43",
       "next": "197c8f3e-6f15-11ee-89fa-0242ac120005-4-9a30-ceec-268f-3441",
       "previous": "06afe9a8-98b0-11ea-8d02-0242ac120007-7-a1c1-faf0-55bd-e87e-532c-b619-6ade"
      }
     ],
     "next": "197c8f3e-6f15-11ee-89fa-0242ac120005-5-9a30-ceec-268f-3441-8896",
     "previous": "06afe9a8-98b0-11ea-8d02-0242ac120007-8-a1c1-faf0-55bd-e87e-532c-b619-6ade-d5b2"
    }
   },
   "source": [
    "ストレージノードを特定するにあたり、ノード名称が　ceph-nodexxx （xxxの部分は、右寄せ0埋めの数字3桁）というルールに従っていることを前提としている。<br>\n",
    " 例：ceph-node001<br>\n",
    " このノード名称ルールは、構築するCephクラスタ毎に変えるため、以下で定義する。"
   ]
  },
  {
   "cell_type": "code",
   "execution_count": null,
   "metadata": {
    "lc_cell_meme": {
     "current": "197c8f3e-6f15-11ee-89fa-0242ac120005-5-9a30-ceec-268f-3441-8896",
     "history": [
      {
       "current": "197c8f3e-6f15-11ee-89fa-0242ac120005-1-9a30",
       "next": "329a4348-dfad-11eb-b29f-0242ac120008-1-ed21",
       "previous": "329a4046-dfad-11eb-b29f-0242ac120008-1-1375"
      },
      {
       "current": "197c8f3e-6f15-11ee-89fa-0242ac120005-2-9a30-ceec",
       "next": "329a4348-dfad-11eb-b29f-0242ac120008-2-ed21-5f44",
       "previous": "329a4046-dfad-11eb-b29f-0242ac120008-2-1375-99ab"
      },
      {
       "current": "197c8f3e-6f15-11ee-89fa-0242ac120005-3-9a30-ceec-268f",
       "next": "329a4348-dfad-11eb-b29f-0242ac120008-3-ed21-5f44-a6fa",
       "previous": "329a4046-dfad-11eb-b29f-0242ac120008-3-1375-99ab-4db3"
      },
      {
       "current": "197c8f3e-6f15-11ee-89fa-0242ac120005-4-9a30-ceec-268f-3441",
       "next": "329a4348-dfad-11eb-b29f-0242ac120008-4-ed21-5f44-a6fa-bbf6",
       "previous": "329a4046-dfad-11eb-b29f-0242ac120008-4-1375-99ab-4db3-331c"
      },
      {
       "current": "197c8f3e-6f15-11ee-89fa-0242ac120005-5-9a30-ceec-268f-3441-8896",
       "next": "329a4348-dfad-11eb-b29f-0242ac120008-5-ed21-5f44-a6fa-bbf6-efa4",
       "previous": "329a4046-dfad-11eb-b29f-0242ac120008-5-1375-99ab-4db3-331c-46d0"
      }
     ],
     "next": "329a4348-dfad-11eb-b29f-0242ac120008-6-ed21-5f44-a6fa-bbf6-efa4-59d0",
     "previous": "329a4046-dfad-11eb-b29f-0242ac120008-6-1375-99ab-4db3-331c-46d0-ab43"
    }
   },
   "outputs": [],
   "source": [
    "# 初期化対象のインスタンス名称を設定する\n",
    "raise Exception('この先手作業が必要です')"
   ]
  },
  {
   "cell_type": "code",
   "execution_count": null,
   "metadata": {
    "lc_cell_meme": {
     "current": "329a4348-dfad-11eb-b29f-0242ac120008-6-ed21-5f44-a6fa-bbf6-efa4-59d0",
     "history": [
      {
       "current": "329a4348-dfad-11eb-b29f-0242ac120008-1-ed21",
       "next": "04bfc54e-defc-11eb-b29f-0242ac120008",
       "previous": "329a4046-dfad-11eb-b29f-0242ac120008"
      },
      {
       "current": "329a4348-dfad-11eb-b29f-0242ac120008-1-ed21",
       "next": "04bfc54e-defc-11eb-b29f-0242ac120008-1-5336",
       "previous": "329a4046-dfad-11eb-b29f-0242ac120008-1-1375"
      },
      {
       "current": "329a4348-dfad-11eb-b29f-0242ac120008-2-ed21-5f44",
       "next": "197c8ff2-6f15-11ee-89fa-0242ac120005",
       "previous": "197c8f3e-6f15-11ee-89fa-0242ac120005"
      },
      {
       "current": "329a4348-dfad-11eb-b29f-0242ac120008-3-ed21-5f44-a6fa",
       "next": "197c8ff2-6f15-11ee-89fa-0242ac120005-1-f40a",
       "previous": "197c8f3e-6f15-11ee-89fa-0242ac120005-1-9a30"
      },
      {
       "current": "329a4348-dfad-11eb-b29f-0242ac120008-4-ed21-5f44-a6fa-bbf6",
       "next": "197c8ff2-6f15-11ee-89fa-0242ac120005-2-f40a-4a04",
       "previous": "197c8f3e-6f15-11ee-89fa-0242ac120005-2-9a30-ceec"
      },
      {
       "current": "329a4348-dfad-11eb-b29f-0242ac120008-5-ed21-5f44-a6fa-bbf6-efa4",
       "next": "197c8ff2-6f15-11ee-89fa-0242ac120005-3-f40a-4a04-5eee",
       "previous": "197c8f3e-6f15-11ee-89fa-0242ac120005-3-9a30-ceec-268f"
      },
      {
       "current": "329a4348-dfad-11eb-b29f-0242ac120008-6-ed21-5f44-a6fa-bbf6-efa4-59d0",
       "next": "197c8ff2-6f15-11ee-89fa-0242ac120005-4-f40a-4a04-5eee-1594",
       "previous": "197c8f3e-6f15-11ee-89fa-0242ac120005-4-9a30-ceec-268f-3441"
      }
     ],
     "next": "197c8ff2-6f15-11ee-89fa-0242ac120005-5-f40a-4a04-5eee-1594-d7c7",
     "previous": "197c8f3e-6f15-11ee-89fa-0242ac120005-5-9a30-ceec-268f-3441-8896"
    }
   },
   "outputs": [],
   "source": [
    "import pandas as pd\n",
    "import re\n",
    "\n",
    "# 対象インスタンス名称マッチングルール\n",
    "name_match_rule = r'ceph-xxx-node-[0-9]+'"
   ]
  },
  {
   "cell_type": "markdown",
   "metadata": {
    "heading_collapsed": true,
    "lc_cell_meme": {
     "current": "197c8ff2-6f15-11ee-89fa-0242ac120005-5-f40a-4a04-5eee-1594-d7c7",
     "history": [
      {
       "current": "197c8ff2-6f15-11ee-89fa-0242ac120005-1-f40a",
       "next": "197c9024-6f15-11ee-89fa-0242ac120005",
       "previous": "329a4348-dfad-11eb-b29f-0242ac120008-1-ed21"
      },
      {
       "current": "197c8ff2-6f15-11ee-89fa-0242ac120005-2-f40a-4a04",
       "next": "197c9024-6f15-11ee-89fa-0242ac120005-1-4ea6",
       "previous": "329a4348-dfad-11eb-b29f-0242ac120008-2-ed21-5f44"
      },
      {
       "current": "197c8ff2-6f15-11ee-89fa-0242ac120005-3-f40a-4a04-5eee",
       "next": "197c9024-6f15-11ee-89fa-0242ac120005-2-4ea6-0fda",
       "previous": "329a4348-dfad-11eb-b29f-0242ac120008-3-ed21-5f44-a6fa"
      },
      {
       "current": "197c8ff2-6f15-11ee-89fa-0242ac120005-4-f40a-4a04-5eee-1594",
       "next": "197c9024-6f15-11ee-89fa-0242ac120005-3-4ea6-0fda-2f04",
       "previous": "329a4348-dfad-11eb-b29f-0242ac120008-4-ed21-5f44-a6fa-bbf6"
      },
      {
       "current": "197c8ff2-6f15-11ee-89fa-0242ac120005-5-f40a-4a04-5eee-1594-d7c7",
       "next": "197c9024-6f15-11ee-89fa-0242ac120005-4-4ea6-0fda-2f04-a9d8",
       "previous": "329a4348-dfad-11eb-b29f-0242ac120008-5-ed21-5f44-a6fa-bbf6-efa4"
      }
     ],
     "next": "197c9024-6f15-11ee-89fa-0242ac120005-5-4ea6-0fda-2f04-a9d8-3475",
     "previous": "329a4348-dfad-11eb-b29f-0242ac120008-6-ed21-5f44-a6fa-bbf6-efa4-59d0"
    }
   },
   "source": [
    "## OpenStack Ironicからノード情報の取得"
   ]
  },
  {
   "cell_type": "code",
   "execution_count": null,
   "metadata": {
    "hidden": true,
    "lc_cell_meme": {
     "current": "197c9024-6f15-11ee-89fa-0242ac120005-5-4ea6-0fda-2f04-a9d8-3475",
     "history": [
      {
       "current": "197c9024-6f15-11ee-89fa-0242ac120005-1-4ea6",
       "next": "197c904c-6f15-11ee-89fa-0242ac120005",
       "previous": "197c8ff2-6f15-11ee-89fa-0242ac120005"
      },
      {
       "current": "197c9024-6f15-11ee-89fa-0242ac120005-2-4ea6-0fda",
       "next": "197c904c-6f15-11ee-89fa-0242ac120005-1-030c",
       "previous": "197c8ff2-6f15-11ee-89fa-0242ac120005-1-f40a"
      },
      {
       "current": "197c9024-6f15-11ee-89fa-0242ac120005-3-4ea6-0fda-2f04",
       "next": "197c904c-6f15-11ee-89fa-0242ac120005-2-030c-8201",
       "previous": "197c8ff2-6f15-11ee-89fa-0242ac120005-2-f40a-4a04"
      },
      {
       "current": "197c9024-6f15-11ee-89fa-0242ac120005-4-4ea6-0fda-2f04-a9d8",
       "next": "197c904c-6f15-11ee-89fa-0242ac120005-3-030c-8201-461d",
       "previous": "197c8ff2-6f15-11ee-89fa-0242ac120005-3-f40a-4a04-5eee"
      },
      {
       "current": "197c9024-6f15-11ee-89fa-0242ac120005-5-4ea6-0fda-2f04-a9d8-3475",
       "next": "197c904c-6f15-11ee-89fa-0242ac120005-4-030c-8201-461d-36a2",
       "previous": "197c8ff2-6f15-11ee-89fa-0242ac120005-4-f40a-4a04-5eee-1594"
      }
     ],
     "next": "197c904c-6f15-11ee-89fa-0242ac120005-5-030c-8201-461d-36a2-2307",
     "previous": "197c8ff2-6f15-11ee-89fa-0242ac120005-5-f40a-4a04-5eee-1594-d7c7"
    },
    "scrolled": true
   },
   "outputs": [],
   "source": [
    "cmd = \"openstack baremetal node list -f json --long\"\n",
    "nodes = run_openstack(cmd)"
   ]
  },
  {
   "cell_type": "code",
   "execution_count": null,
   "metadata": {
    "hidden": true,
    "lc_cell_meme": {
     "current": "197c904c-6f15-11ee-89fa-0242ac120005-5-030c-8201-461d-36a2-2307",
     "history": [
      {
       "current": "197c904c-6f15-11ee-89fa-0242ac120005-1-030c",
       "next": "197c906a-6f15-11ee-89fa-0242ac120005",
       "previous": "197c9024-6f15-11ee-89fa-0242ac120005"
      },
      {
       "current": "197c904c-6f15-11ee-89fa-0242ac120005-2-030c-8201",
       "next": "197c906a-6f15-11ee-89fa-0242ac120005-1-5395",
       "previous": "197c9024-6f15-11ee-89fa-0242ac120005-1-4ea6"
      },
      {
       "current": "197c904c-6f15-11ee-89fa-0242ac120005-3-030c-8201-461d",
       "next": "197c906a-6f15-11ee-89fa-0242ac120005-2-5395-44c4",
       "previous": "197c9024-6f15-11ee-89fa-0242ac120005-2-4ea6-0fda"
      },
      {
       "current": "197c904c-6f15-11ee-89fa-0242ac120005-4-030c-8201-461d-36a2",
       "next": "197c906a-6f15-11ee-89fa-0242ac120005-3-5395-44c4-099f",
       "previous": "197c9024-6f15-11ee-89fa-0242ac120005-3-4ea6-0fda-2f04"
      },
      {
       "current": "197c904c-6f15-11ee-89fa-0242ac120005-5-030c-8201-461d-36a2-2307",
       "next": "197c906a-6f15-11ee-89fa-0242ac120005-4-5395-44c4-099f-1185",
       "previous": "197c9024-6f15-11ee-89fa-0242ac120005-4-4ea6-0fda-2f04-a9d8"
      }
     ],
     "next": "197c906a-6f15-11ee-89fa-0242ac120005-5-5395-44c4-099f-1185-7dd6",
     "previous": "197c9024-6f15-11ee-89fa-0242ac120005-5-4ea6-0fda-2f04-a9d8-3475"
    },
    "scrolled": true
   },
   "outputs": [],
   "source": [
    "import pandas as pd\n",
    "import re\n",
    "\n",
    "for node in nodes:\n",
    "    instance_uuid = node.get(\"Instance UUID\", None)\n",
    "    if instance_uuid is None:\n",
    "        continue\n",
    "        \n",
    "    node[\"instance_name\"] = node[\"Instance Info\"][\"display_name\"]\n",
    "\n",
    "pd.set_option('display.max_rows', None)\n",
    "pd.DataFrame(nodes, columns=['Instance UUID', 'instance_name', 'UUID', 'Maintenance', 'Provisioning State', 'Power State', 'Name'])"
   ]
  },
  {
   "cell_type": "code",
   "execution_count": null,
   "metadata": {
    "hidden": true,
    "lc_cell_meme": {
     "current": "197c906a-6f15-11ee-89fa-0242ac120005-5-5395-44c4-099f-1185-7dd6",
     "history": [
      {
       "current": "197c906a-6f15-11ee-89fa-0242ac120005-1-5395",
       "next": "197c9092-6f15-11ee-89fa-0242ac120005",
       "previous": "197c904c-6f15-11ee-89fa-0242ac120005"
      },
      {
       "current": "197c906a-6f15-11ee-89fa-0242ac120005-2-5395-44c4",
       "next": "197c9092-6f15-11ee-89fa-0242ac120005-1-5ebb",
       "previous": "197c904c-6f15-11ee-89fa-0242ac120005-1-030c"
      },
      {
       "current": "197c906a-6f15-11ee-89fa-0242ac120005-3-5395-44c4-099f",
       "next": "197c9092-6f15-11ee-89fa-0242ac120005-2-5ebb-efaf",
       "previous": "197c904c-6f15-11ee-89fa-0242ac120005-2-030c-8201"
      },
      {
       "current": "197c906a-6f15-11ee-89fa-0242ac120005-4-5395-44c4-099f-1185",
       "next": "197c9092-6f15-11ee-89fa-0242ac120005-3-5ebb-efaf-d82a",
       "previous": "197c904c-6f15-11ee-89fa-0242ac120005-3-030c-8201-461d"
      },
      {
       "current": "197c906a-6f15-11ee-89fa-0242ac120005-5-5395-44c4-099f-1185-7dd6",
       "next": "197c9092-6f15-11ee-89fa-0242ac120005-4-5ebb-efaf-d82a-3191",
       "previous": "197c904c-6f15-11ee-89fa-0242ac120005-4-030c-8201-461d-36a2"
      }
     ],
     "next": "197c9092-6f15-11ee-89fa-0242ac120005-5-5ebb-efaf-d82a-3191-89b3",
     "previous": "197c904c-6f15-11ee-89fa-0242ac120005-5-030c-8201-461d-36a2-2307"
    },
    "scrolled": true
   },
   "outputs": [],
   "source": [
    "cmd = \"openstack server list -f json --long\"\n",
    "nova_server_map = run_openstack(cmd)"
   ]
  },
  {
   "cell_type": "code",
   "execution_count": null,
   "metadata": {
    "hidden": true,
    "lc_cell_meme": {
     "current": "197c9092-6f15-11ee-89fa-0242ac120005-5-5ebb-efaf-d82a-3191-89b3",
     "history": [
      {
       "current": "197c9092-6f15-11ee-89fa-0242ac120005",
       "next": "06afec50-98b0-11ea-8d02-0242ac120007-3-5828-a305-b690",
       "previous": "197c906a-6f15-11ee-89fa-0242ac120005"
      },
      {
       "current": "197c9092-6f15-11ee-89fa-0242ac120005-1-5ebb",
       "next": "7007693c-7956-11ee-89fa-0242ac120005",
       "previous": "197c906a-6f15-11ee-89fa-0242ac120005"
      },
      {
       "current": "197c9092-6f15-11ee-89fa-0242ac120005-2-5ebb-efaf",
       "next": "7007693c-7956-11ee-89fa-0242ac120005-1-25bf",
       "previous": "197c906a-6f15-11ee-89fa-0242ac120005-1-5395"
      },
      {
       "current": "197c9092-6f15-11ee-89fa-0242ac120005-3-5ebb-efaf-d82a",
       "next": "7007693c-7956-11ee-89fa-0242ac120005-2-25bf-d6c7",
       "previous": "197c906a-6f15-11ee-89fa-0242ac120005-2-5395-44c4"
      },
      {
       "current": "197c9092-6f15-11ee-89fa-0242ac120005-4-5ebb-efaf-d82a-3191",
       "next": "7007693c-7956-11ee-89fa-0242ac120005-3-25bf-d6c7-fd83",
       "previous": "197c906a-6f15-11ee-89fa-0242ac120005-3-5395-44c4-099f"
      },
      {
       "current": "197c9092-6f15-11ee-89fa-0242ac120005-5-5ebb-efaf-d82a-3191-89b3",
       "next": "7007693c-7956-11ee-89fa-0242ac120005-4-25bf-d6c7-fd83-b149",
       "previous": "197c906a-6f15-11ee-89fa-0242ac120005-4-5395-44c4-099f-1185"
      }
     ],
     "next": "7007693c-7956-11ee-89fa-0242ac120005-5-25bf-d6c7-fd83-b149-3e7e",
     "previous": "197c906a-6f15-11ee-89fa-0242ac120005-5-5395-44c4-099f-1185-7dd6"
    }
   },
   "outputs": [],
   "source": [
    "node_list = []\n",
    "for server in nova_server_map:\n",
    "    node_id = server['ID']\n",
    "    if re.match(name_match_rule, server['Name']) is None:\n",
    "        continue\n",
    "    for node in nodes:\n",
    "        if node['Instance UUID'] == node_id:\n",
    "            node_info = {}\n",
    "            node_list.append(node_info)\n",
    "            node_info['name'] = server['Name']\n",
    "            node_info['node_name'] = node['Name']\n",
    "            instance_ip_info = instance_ip_map.get(server['Name'], None)\n",
    "            if instance_ip_info is not None:\n",
    "                node_info['instance_ip'] = instance_ip_info.get('ipv4', None)\n",
    "            else:\n",
    "                node_info['instance_ip'] = None\n",
    "            address = server['Networks']\n",
    "            prov_net = address['provisioning-net']\n",
    "            for addr in prov_net:\n",
    "                node_info['prov_ip'] = addr\n",
    "\n",
    "pd.DataFrame(node_list)"
   ]
  },
  {
   "cell_type": "code",
   "execution_count": null,
   "metadata": {
    "hidden": true,
    "lc_cell_meme": {
     "current": "7007693c-7956-11ee-89fa-0242ac120005-5-25bf-d6c7-fd83-b149-3e7e",
     "history": [
      {
       "current": "7007693c-7956-11ee-89fa-0242ac120005-1-25bf",
       "next": "06afec50-98b0-11ea-8d02-0242ac120007-3-5828-a305-b690",
       "previous": "197c9092-6f15-11ee-89fa-0242ac120005"
      },
      {
       "current": "7007693c-7956-11ee-89fa-0242ac120005-2-25bf-d6c7",
       "next": "06afec50-98b0-11ea-8d02-0242ac120007-4-5828-a305-b690-750a",
       "previous": "197c9092-6f15-11ee-89fa-0242ac120005-1-5ebb"
      },
      {
       "current": "7007693c-7956-11ee-89fa-0242ac120005-3-25bf-d6c7-fd83",
       "next": "06afec50-98b0-11ea-8d02-0242ac120007-5-5828-a305-b690-750a-9197",
       "previous": "197c9092-6f15-11ee-89fa-0242ac120005-2-5ebb-efaf"
      },
      {
       "current": "7007693c-7956-11ee-89fa-0242ac120005-4-25bf-d6c7-fd83-b149",
       "next": "06afec50-98b0-11ea-8d02-0242ac120007-6-5828-a305-b690-750a-9197-cabe",
       "previous": "197c9092-6f15-11ee-89fa-0242ac120005-3-5ebb-efaf-d82a"
      },
      {
       "current": "7007693c-7956-11ee-89fa-0242ac120005-5-25bf-d6c7-fd83-b149-3e7e",
       "next": "06afec50-98b0-11ea-8d02-0242ac120007-7-5828-a305-b690-750a-9197-cabe-beff",
       "previous": "197c9092-6f15-11ee-89fa-0242ac120005-4-5ebb-efaf-d82a-3191"
      }
     ],
     "next": "06afec50-98b0-11ea-8d02-0242ac120007-8-5828-a305-b690-750a-9197-cabe-beff-f7e3",
     "previous": "197c9092-6f15-11ee-89fa-0242ac120005-5-5ebb-efaf-d82a-3191-89b3"
    }
   },
   "outputs": [],
   "source": [
    "# nameをキーにしたノード情報生成\n",
    "node_map = {}\n",
    "for node in node_list:\n",
    "    node_map[node['name']] = node"
   ]
  },
  {
   "cell_type": "markdown",
   "metadata": {
    "lc_cell_meme": {
     "current": "06afec50-98b0-11ea-8d02-0242ac120007-8-5828-a305-b690-750a-9197-cabe-beff-f7e3",
     "history": [
      {
       "current": "06afec50-98b0-11ea-8d02-0242ac120007-1-5828",
       "next": "8a48d590-98a1-11ea-8d02-0242ac120007",
       "previous": "357fc83a-969d-11ea-8d02-0242ac120007"
      },
      {
       "current": "06afec50-98b0-11ea-8d02-0242ac120007-2-5828-a305",
       "next": "8a48d590-98a1-11ea-8d02-0242ac120007-1-1c0f",
       "previous": "357fc83a-969d-11ea-8d02-0242ac120007-1-9a36"
      },
      {
       "current": "06afec50-98b0-11ea-8d02-0242ac120007-3-5828-a305-b690",
       "next": "8a48d590-98a1-11ea-8d02-0242ac120007-2-1c0f-5b25",
       "previous": "357fc83a-969d-11ea-8d02-0242ac120007-2-9a36-95b8"
      },
      {
       "current": "06afec50-98b0-11ea-8d02-0242ac120007-3-5828-a305-b690",
       "next": "8a48d590-98a1-11ea-8d02-0242ac120007-3-1c0f-5b25-d7c0",
       "previous": "357fc83a-969d-11ea-8d02-0242ac120007-3-9a36-95b8-3fa9"
      },
      {
       "current": "06afec50-98b0-11ea-8d02-0242ac120007-3-5828-a305-b690",
       "next": "8a48d590-98a1-11ea-8d02-0242ac120007-3-1c0f-5b25-d7c0",
       "previous": "197c9092-6f15-11ee-89fa-0242ac120005"
      },
      {
       "current": "06afec50-98b0-11ea-8d02-0242ac120007-4-5828-a305-b690-750a",
       "next": "8a48d590-98a1-11ea-8d02-0242ac120007-3-1c0f-5b25-d7c0",
       "previous": "7007693c-7956-11ee-89fa-0242ac120005"
      },
      {
       "current": "06afec50-98b0-11ea-8d02-0242ac120007-5-5828-a305-b690-750a-9197",
       "next": "8a48d590-98a1-11ea-8d02-0242ac120007-4-1c0f-5b25-d7c0-3994",
       "previous": "7007693c-7956-11ee-89fa-0242ac120005-1-25bf"
      },
      {
       "current": "06afec50-98b0-11ea-8d02-0242ac120007-6-5828-a305-b690-750a-9197-cabe",
       "next": "8a48d590-98a1-11ea-8d02-0242ac120007-5-1c0f-5b25-d7c0-3994-b523",
       "previous": "7007693c-7956-11ee-89fa-0242ac120005-2-25bf-d6c7"
      },
      {
       "current": "06afec50-98b0-11ea-8d02-0242ac120007-7-5828-a305-b690-750a-9197-cabe-beff",
       "next": "8a48d590-98a1-11ea-8d02-0242ac120007-6-1c0f-5b25-d7c0-3994-b523-473c",
       "previous": "7007693c-7956-11ee-89fa-0242ac120005-3-25bf-d6c7-fd83"
      },
      {
       "current": "06afec50-98b0-11ea-8d02-0242ac120007-8-5828-a305-b690-750a-9197-cabe-beff-f7e3",
       "next": "8a48d590-98a1-11ea-8d02-0242ac120007-7-1c0f-5b25-d7c0-3994-b523-473c-3106",
       "previous": "7007693c-7956-11ee-89fa-0242ac120005-4-25bf-d6c7-fd83-b149"
      }
     ],
     "next": "8a48d590-98a1-11ea-8d02-0242ac120007-8-1c0f-5b25-d7c0-3994-b523-473c-3106-c9c4",
     "previous": "7007693c-7956-11ee-89fa-0242ac120005-5-25bf-d6c7-fd83-b149-3e7e"
    }
   },
   "source": [
    "## 対象Cephノード情報の取得"
   ]
  },
  {
   "cell_type": "markdown",
   "metadata": {
    "lc_cell_meme": {
     "current": "8a48d590-98a1-11ea-8d02-0242ac120007-8-1c0f-5b25-d7c0-3994-b523-473c-3106-c9c4",
     "history": [
      {
       "current": "8a48d590-98a1-11ea-8d02-0242ac120007",
       "next": "8a48d90a-98a1-11ea-8d02-0242ac120007",
       "previous": "357fc83a-969d-11ea-8d02-0242ac120007"
      },
      {
       "current": "8a48d590-98a1-11ea-8d02-0242ac120007",
       "next": "8a48d90a-98a1-11ea-8d02-0242ac120007",
       "previous": "06afec50-98b0-11ea-8d02-0242ac120007"
      },
      {
       "current": "8a48d590-98a1-11ea-8d02-0242ac120007",
       "next": "a85c1dda-959a-11ea-8d02-0242ac120007",
       "previous": "06afec50-98b0-11ea-8d02-0242ac120007"
      },
      {
       "current": "8a48d590-98a1-11ea-8d02-0242ac120007-1-1c0f",
       "next": "e879cdac-95bf-11ea-8d02-0242ac120007",
       "previous": "06afec50-98b0-11ea-8d02-0242ac120007"
      },
      {
       "current": "8a48d590-98a1-11ea-8d02-0242ac120007-2-1c0f-5b25",
       "next": "e879cdac-95bf-11ea-8d02-0242ac120007-1-4a2c",
       "previous": "06afec50-98b0-11ea-8d02-0242ac120007-1-5828"
      },
      {
       "current": "8a48d590-98a1-11ea-8d02-0242ac120007-3-1c0f-5b25-d7c0",
       "next": "e879cdac-95bf-11ea-8d02-0242ac120007-2-4a2c-6b2f",
       "previous": "06afec50-98b0-11ea-8d02-0242ac120007-2-5828-a305"
      },
      {
       "current": "8a48d590-98a1-11ea-8d02-0242ac120007-4-1c0f-5b25-d7c0-3994",
       "next": "e879cdac-95bf-11ea-8d02-0242ac120007-3-4a2c-6b2f-958d",
       "previous": "06afec50-98b0-11ea-8d02-0242ac120007-3-5828-a305-b690"
      },
      {
       "current": "8a48d590-98a1-11ea-8d02-0242ac120007-5-1c0f-5b25-d7c0-3994-b523",
       "next": "e879cdac-95bf-11ea-8d02-0242ac120007-4-4a2c-6b2f-958d-af90",
       "previous": "06afec50-98b0-11ea-8d02-0242ac120007-4-5828-a305-b690-750a"
      },
      {
       "current": "8a48d590-98a1-11ea-8d02-0242ac120007-6-1c0f-5b25-d7c0-3994-b523-473c",
       "next": "e879cdac-95bf-11ea-8d02-0242ac120007-5-4a2c-6b2f-958d-af90-c54b",
       "previous": "06afec50-98b0-11ea-8d02-0242ac120007-5-5828-a305-b690-750a-9197"
      },
      {
       "current": "8a48d590-98a1-11ea-8d02-0242ac120007-7-1c0f-5b25-d7c0-3994-b523-473c-3106",
       "next": "e879cdac-95bf-11ea-8d02-0242ac120007-6-4a2c-6b2f-958d-af90-c54b-7342",
       "previous": "06afec50-98b0-11ea-8d02-0242ac120007-6-5828-a305-b690-750a-9197-cabe"
      },
      {
       "current": "8a48d590-98a1-11ea-8d02-0242ac120007-8-1c0f-5b25-d7c0-3994-b523-473c-3106-c9c4",
       "next": "e879cdac-95bf-11ea-8d02-0242ac120007-7-4a2c-6b2f-958d-af90-c54b-7342-6edd",
       "previous": "06afec50-98b0-11ea-8d02-0242ac120007-7-5828-a305-b690-750a-9197-cabe-beff"
      }
     ],
     "next": "e879cdac-95bf-11ea-8d02-0242ac120007-8-4a2c-6b2f-958d-af90-c54b-7342-6edd-4b72",
     "previous": "06afec50-98b0-11ea-8d02-0242ac120007-8-5828-a305-b690-750a-9197-cabe-beff-f7e3"
    }
   },
   "source": [
    "初期化対象のインスタンス名称を設定する"
   ]
  },
  {
   "cell_type": "code",
   "execution_count": null,
   "metadata": {
    "lc_cell_meme": {
     "current": "e879cdac-95bf-11ea-8d02-0242ac120007-8-4a2c-6b2f-958d-af90-c54b-7342-6edd-4b72",
     "history": [
      {
       "current": "e879cdac-95bf-11ea-8d02-0242ac120007",
       "next": "81dd4f74-9597-11ea-8d02-0242ac120007",
       "previous": "d1bcb8ac-9599-11ea-8d02-0242ac120007"
      },
      {
       "current": "e879cdac-95bf-11ea-8d02-0242ac120007",
       "next": "81dd4f74-9597-11ea-8d02-0242ac120007",
       "previous": "a85c1dda-959a-11ea-8d02-0242ac120007"
      },
      {
       "current": "e879cdac-95bf-11ea-8d02-0242ac120007",
       "next": "8a48d90a-98a1-11ea-8d02-0242ac120007",
       "previous": "a85c1dda-959a-11ea-8d02-0242ac120007"
      },
      {
       "current": "e879cdac-95bf-11ea-8d02-0242ac120007-1-4a2c",
       "next": "8a48d90a-98a1-11ea-8d02-0242ac120007",
       "previous": "8a48d590-98a1-11ea-8d02-0242ac120007"
      },
      {
       "current": "e879cdac-95bf-11ea-8d02-0242ac120007-2-4a2c-6b2f",
       "next": "8a48d90a-98a1-11ea-8d02-0242ac120007-1-0ebc",
       "previous": "8a48d590-98a1-11ea-8d02-0242ac120007-1-1c0f"
      },
      {
       "current": "e879cdac-95bf-11ea-8d02-0242ac120007-2-4a2c-6b2f",
       "next": "8a48d90a-98a1-11ea-8d02-0242ac120007-2-0ebc-93ac",
       "previous": "8a48d590-98a1-11ea-8d02-0242ac120007-2-1c0f-5b25"
      },
      {
       "current": "e879cdac-95bf-11ea-8d02-0242ac120007-3-4a2c-6b2f-958d",
       "next": "809aa1e6-def9-11eb-b29f-0242ac120008",
       "previous": "8a48d590-98a1-11ea-8d02-0242ac120007-2-1c0f-5b25"
      },
      {
       "current": "e879cdac-95bf-11ea-8d02-0242ac120007-4-4a2c-6b2f-958d-af90",
       "next": "809aa1e6-def9-11eb-b29f-0242ac120008-1-b49e",
       "previous": "8a48d590-98a1-11ea-8d02-0242ac120007-3-1c0f-5b25-d7c0"
      },
      {
       "current": "e879cdac-95bf-11ea-8d02-0242ac120007-5-4a2c-6b2f-958d-af90-c54b",
       "next": "809aa1e6-def9-11eb-b29f-0242ac120008-2-b49e-985d",
       "previous": "8a48d590-98a1-11ea-8d02-0242ac120007-4-1c0f-5b25-d7c0-3994"
      },
      {
       "current": "e879cdac-95bf-11ea-8d02-0242ac120007-6-4a2c-6b2f-958d-af90-c54b-7342",
       "next": "809aa1e6-def9-11eb-b29f-0242ac120008-3-b49e-985d-11c0",
       "previous": "8a48d590-98a1-11ea-8d02-0242ac120007-5-1c0f-5b25-d7c0-3994-b523"
      },
      {
       "current": "e879cdac-95bf-11ea-8d02-0242ac120007-7-4a2c-6b2f-958d-af90-c54b-7342-6edd",
       "next": "809aa1e6-def9-11eb-b29f-0242ac120008-4-b49e-985d-11c0-5881",
       "previous": "8a48d590-98a1-11ea-8d02-0242ac120007-6-1c0f-5b25-d7c0-3994-b523-473c"
      },
      {
       "current": "e879cdac-95bf-11ea-8d02-0242ac120007-8-4a2c-6b2f-958d-af90-c54b-7342-6edd-4b72",
       "next": "809aa1e6-def9-11eb-b29f-0242ac120008-5-b49e-985d-11c0-5881-eaed",
       "previous": "8a48d590-98a1-11ea-8d02-0242ac120007-7-1c0f-5b25-d7c0-3994-b523-473c-3106"
      }
     ],
     "next": "809aa1e6-def9-11eb-b29f-0242ac120008-6-b49e-985d-11c0-5881-eaed-e393",
     "previous": "8a48d590-98a1-11ea-8d02-0242ac120007-8-1c0f-5b25-d7c0-3994-b523-473c-3106-c9c4"
    },
    "scrolled": true
   },
   "outputs": [],
   "source": [
    "# 初期化対象のインスタンス名称を設定する\n",
    "raise Exception('この先手作業が必要です')"
   ]
  },
  {
   "cell_type": "markdown",
   "metadata": {
    "lc_cell_meme": {
     "current": "809aa1e6-def9-11eb-b29f-0242ac120008-6-b49e-985d-11c0-5881-eaed-e393",
     "history": [
      {
       "current": "809aa1e6-def9-11eb-b29f-0242ac120008-1-b49e",
       "next": "8a48d90a-98a1-11ea-8d02-0242ac120007-2-0ebc-93ac",
       "previous": "e879cdac-95bf-11ea-8d02-0242ac120007-2-4a2c-6b2f"
      },
      {
       "current": "809aa1e6-def9-11eb-b29f-0242ac120008-1-b49e",
       "next": "8a48d90a-98a1-11ea-8d02-0242ac120007-3-0ebc-93ac-04b4",
       "previous": "e879cdac-95bf-11ea-8d02-0242ac120007-3-4a2c-6b2f-958d"
      },
      {
       "current": "809aa1e6-def9-11eb-b29f-0242ac120008-2-b49e-985d",
       "next": "bb3e251e-61bc-11ee-89fa-0242ac120005",
       "previous": "e879cdac-95bf-11ea-8d02-0242ac120007-3-4a2c-6b2f-958d"
      },
      {
       "current": "809aa1e6-def9-11eb-b29f-0242ac120008-3-b49e-985d-11c0",
       "next": "bb3e251e-61bc-11ee-89fa-0242ac120005-1-97a4",
       "previous": "e879cdac-95bf-11ea-8d02-0242ac120007-4-4a2c-6b2f-958d-af90"
      },
      {
       "current": "809aa1e6-def9-11eb-b29f-0242ac120008-4-b49e-985d-11c0-5881",
       "next": "bb3e251e-61bc-11ee-89fa-0242ac120005-2-97a4-30da",
       "previous": "e879cdac-95bf-11ea-8d02-0242ac120007-5-4a2c-6b2f-958d-af90-c54b"
      },
      {
       "current": "809aa1e6-def9-11eb-b29f-0242ac120008-5-b49e-985d-11c0-5881-eaed",
       "next": "bb3e251e-61bc-11ee-89fa-0242ac120005-3-97a4-30da-fab8",
       "previous": "e879cdac-95bf-11ea-8d02-0242ac120007-6-4a2c-6b2f-958d-af90-c54b-7342"
      },
      {
       "current": "809aa1e6-def9-11eb-b29f-0242ac120008-6-b49e-985d-11c0-5881-eaed-e393",
       "next": "bb3e251e-61bc-11ee-89fa-0242ac120005-4-97a4-30da-fab8-e1f9",
       "previous": "e879cdac-95bf-11ea-8d02-0242ac120007-7-4a2c-6b2f-958d-af90-c54b-7342-6edd"
      }
     ],
     "next": "bb3e251e-61bc-11ee-89fa-0242ac120005-5-97a4-30da-fab8-e1f9-17a2",
     "previous": "e879cdac-95bf-11ea-8d02-0242ac120007-8-4a2c-6b2f-958d-af90-c54b-7342-6edd-4b72"
    }
   },
   "source": [
    "### adminノードの指定"
   ]
  },
  {
   "cell_type": "code",
   "execution_count": null,
   "metadata": {
    "lc_cell_meme": {
     "current": "bb3e251e-61bc-11ee-89fa-0242ac120005-5-97a4-30da-fab8-e1f9-17a2",
     "history": [
      {
       "current": "bb3e251e-61bc-11ee-89fa-0242ac120005",
       "next": "8a48dae0-98a1-11ea-8d02-0242ac120007-3-4da2-9c77-127e",
       "previous": "8a48d90a-98a1-11ea-8d02-0242ac120007-3-0ebc-93ac-04b4"
      },
      {
       "current": "bb3e251e-61bc-11ee-89fa-0242ac120005",
       "next": "8a48dae0-98a1-11ea-8d02-0242ac120007-3-4da2-9c77-127e",
       "previous": "809aa1e6-def9-11eb-b29f-0242ac120008-1-b49e"
      },
      {
       "current": "bb3e251e-61bc-11ee-89fa-0242ac120005",
       "next": "a2611ada-7876-11ee-89fa-0242ac120005",
       "previous": "809aa1e6-def9-11eb-b29f-0242ac120008-1-b49e"
      },
      {
       "current": "bb3e251e-61bc-11ee-89fa-0242ac120005-1-97a4",
       "next": "8a48dae0-98a1-11ea-8d02-0242ac120007-3-4da2-9c77-127e",
       "previous": "809aa1e6-def9-11eb-b29f-0242ac120008-1-b49e"
      },
      {
       "current": "bb3e251e-61bc-11ee-89fa-0242ac120005-2-97a4-30da",
       "next": "8a48dae0-98a1-11ea-8d02-0242ac120007-4-4da2-9c77-127e-f19a",
       "previous": "809aa1e6-def9-11eb-b29f-0242ac120008-2-b49e-985d"
      },
      {
       "current": "bb3e251e-61bc-11ee-89fa-0242ac120005-3-97a4-30da-fab8",
       "next": "8a48dae0-98a1-11ea-8d02-0242ac120007-5-4da2-9c77-127e-f19a-677f",
       "previous": "809aa1e6-def9-11eb-b29f-0242ac120008-3-b49e-985d-11c0"
      },
      {
       "current": "bb3e251e-61bc-11ee-89fa-0242ac120005-4-97a4-30da-fab8-e1f9",
       "next": "8a48dae0-98a1-11ea-8d02-0242ac120007-6-4da2-9c77-127e-f19a-677f-a805",
       "previous": "809aa1e6-def9-11eb-b29f-0242ac120008-4-b49e-985d-11c0-5881"
      },
      {
       "current": "bb3e251e-61bc-11ee-89fa-0242ac120005-5-97a4-30da-fab8-e1f9-17a2",
       "next": "8a48dae0-98a1-11ea-8d02-0242ac120007-7-4da2-9c77-127e-f19a-677f-a805-9abb",
       "previous": "809aa1e6-def9-11eb-b29f-0242ac120008-5-b49e-985d-11c0-5881-eaed"
      }
     ],
     "next": "8a48dae0-98a1-11ea-8d02-0242ac120007-8-4da2-9c77-127e-f19a-677f-a805-9abb-691b",
     "previous": "809aa1e6-def9-11eb-b29f-0242ac120008-6-b49e-985d-11c0-5881-eaed-e393"
    }
   },
   "outputs": [],
   "source": [
    "bootstrap_node_name = 'ceph-xxx-node-001'"
   ]
  },
  {
   "cell_type": "code",
   "execution_count": null,
   "metadata": {
    "lc_cell_meme": {
     "current": "8a48dae0-98a1-11ea-8d02-0242ac120007-8-4da2-9c77-127e-f19a-677f-a805-9abb-691b",
     "history": [
      {
       "current": "8a48dae0-98a1-11ea-8d02-0242ac120007-1-4da2",
       "next": "35c339aa-55a3-11e7-b0b2-00163e9c0e35",
       "previous": "8a48d90a-98a1-11ea-8d02-0242ac120007"
      },
      {
       "current": "8a48dae0-98a1-11ea-8d02-0242ac120007-2-4da2-9c77",
       "next": "35c339aa-55a3-11e7-b0b2-00163e9c0e35-1-eee2",
       "previous": "8a48d90a-98a1-11ea-8d02-0242ac120007-1-0ebc"
      },
      {
       "current": "8a48dae0-98a1-11ea-8d02-0242ac120007-2-4da2-9c77",
       "next": "35c339aa-55a3-11e7-b0b2-00163e9c0e35-2-eee2-af6c",
       "previous": "8a48d90a-98a1-11ea-8d02-0242ac120007-2-0ebc-93ac"
      },
      {
       "current": "8a48dae0-98a1-11ea-8d02-0242ac120007-2-4da2-9c77",
       "next": "35c362a4-55a3-11e7-b0b2-00163e9c0e35-2-3f0a-3633",
       "previous": "8a48d90a-98a1-11ea-8d02-0242ac120007-2-0ebc-93ac"
      },
      {
       "current": "8a48dae0-98a1-11ea-8d02-0242ac120007-2-4da2-9c77",
       "next": "1afe7a3e-def8-11eb-b29f-0242ac120008",
       "previous": "8a48d90a-98a1-11ea-8d02-0242ac120007-2-0ebc-93ac"
      },
      {
       "current": "8a48dae0-98a1-11ea-8d02-0242ac120007-3-4da2-9c77-127e",
       "next": "35c35a52-55a3-11e7-b0b2-00163e9c0e35-2-ed71-9007",
       "previous": "8a48d90a-98a1-11ea-8d02-0242ac120007-2-0ebc-93ac"
      },
      {
       "current": "8a48dae0-98a1-11ea-8d02-0242ac120007-3-4da2-9c77-127e",
       "next": "35c35a52-55a3-11e7-b0b2-00163e9c0e35-3-ed71-9007-f930",
       "previous": "8a48d90a-98a1-11ea-8d02-0242ac120007-3-0ebc-93ac-04b4"
      },
      {
       "current": "8a48dae0-98a1-11ea-8d02-0242ac120007-3-4da2-9c77-127e",
       "next": "2c2cd6ae-61bc-11ee-89fa-0242ac120005",
       "previous": "8a48d90a-98a1-11ea-8d02-0242ac120007-3-0ebc-93ac-04b4"
      },
      {
       "current": "8a48dae0-98a1-11ea-8d02-0242ac120007-3-4da2-9c77-127e",
       "next": "2c2cd6ae-61bc-11ee-89fa-0242ac120005",
       "previous": "bb3e251e-61bc-11ee-89fa-0242ac120005"
      },
      {
       "current": "8a48dae0-98a1-11ea-8d02-0242ac120007-3-4da2-9c77-127e",
       "next": "35c35f52-55a3-11e7-b0b2-00163e9c0e35-3-e2de-8a27-98e3",
       "previous": "bb3e251e-61bc-11ee-89fa-0242ac120005"
      },
      {
       "current": "8a48dae0-98a1-11ea-8d02-0242ac120007-3-4da2-9c77-127e",
       "next": "a2611ca6-7876-11ee-89fa-0242ac120005",
       "previous": "a2611ada-7876-11ee-89fa-0242ac120005"
      },
      {
       "current": "8a48dae0-98a1-11ea-8d02-0242ac120007-3-4da2-9c77-127e",
       "next": "2dd5493e-788f-11ee-89fa-0242ac120005",
       "previous": "bb3e251e-61bc-11ee-89fa-0242ac120005"
      },
      {
       "current": "8a48dae0-98a1-11ea-8d02-0242ac120007-4-4da2-9c77-127e-f19a",
       "next": "35c35f52-55a3-11e7-b0b2-00163e9c0e35-3-e2de-8a27-98e3",
       "previous": "bb3e251e-61bc-11ee-89fa-0242ac120005"
      },
      {
       "current": "8a48dae0-98a1-11ea-8d02-0242ac120007-5-4da2-9c77-127e-f19a-677f",
       "next": "35c35f52-55a3-11e7-b0b2-00163e9c0e35-4-e2de-8a27-98e3-9689",
       "previous": "bb3e251e-61bc-11ee-89fa-0242ac120005-1-97a4"
      },
      {
       "current": "8a48dae0-98a1-11ea-8d02-0242ac120007-6-4da2-9c77-127e-f19a-677f-a805",
       "next": "35c35f52-55a3-11e7-b0b2-00163e9c0e35-5-e2de-8a27-98e3-9689-14ab",
       "previous": "bb3e251e-61bc-11ee-89fa-0242ac120005-2-97a4-30da"
      },
      {
       "current": "8a48dae0-98a1-11ea-8d02-0242ac120007-7-4da2-9c77-127e-f19a-677f-a805-9abb",
       "next": "35c35f52-55a3-11e7-b0b2-00163e9c0e35-6-e2de-8a27-98e3-9689-14ab-209f",
       "previous": "bb3e251e-61bc-11ee-89fa-0242ac120005-3-97a4-30da-fab8"
      },
      {
       "current": "8a48dae0-98a1-11ea-8d02-0242ac120007-8-4da2-9c77-127e-f19a-677f-a805-9abb-691b",
       "next": "35c35f52-55a3-11e7-b0b2-00163e9c0e35-7-e2de-8a27-98e3-9689-14ab-209f-1f8a",
       "previous": "bb3e251e-61bc-11ee-89fa-0242ac120005-4-97a4-30da-fab8-e1f9"
      }
     ],
     "next": "35c35f52-55a3-11e7-b0b2-00163e9c0e35-8-e2de-8a27-98e3-9689-14ab-209f-1f8a-8a0a",
     "previous": "bb3e251e-61bc-11ee-89fa-0242ac120005-5-97a4-30da-fab8-e1f9-17a2"
    }
   },
   "outputs": [],
   "source": [
    "bootstrap_node = node_map.get(bootstrap_node_name, None)\n",
    "\n",
    "assert (bootstrap_node is not None), \"指定されたBootstrap nodeが存在しません。\"\n",
    "print(bootstrap_node)"
   ]
  },
  {
   "cell_type": "markdown",
   "metadata": {
    "lc_cell_meme": {
     "current": "35c35f52-55a3-11e7-b0b2-00163e9c0e35-8-e2de-8a27-98e3-9689-14ab-209f-1f8a-8a0a",
     "history": [
      {
       "current": "35c35f52-55a3-11e7-b0b2-00163e9c0e35",
       "next": "35c360f6-55a3-11e7-b0b2-00163e9c0e35",
       "previous": "35c35dae-55a3-11e7-b0b2-00163e9c0e35"
      },
      {
       "current": "35c35f52-55a3-11e7-b0b2-00163e9c0e35-1-e2de",
       "next": "a33430b0-9327-11ea-8d02-0242ac120007",
       "previous": "35c35dae-55a3-11e7-b0b2-00163e9c0e35"
      },
      {
       "current": "35c35f52-55a3-11e7-b0b2-00163e9c0e35-2-e2de-8a27",
       "next": "a33430b0-9327-11ea-8d02-0242ac120007-1-3202",
       "previous": "35c35dae-55a3-11e7-b0b2-00163e9c0e35-1-7091"
      },
      {
       "current": "35c35f52-55a3-11e7-b0b2-00163e9c0e35-3-e2de-8a27-98e3",
       "next": "a33430b0-9327-11ea-8d02-0242ac120007-2-3202-0bdc",
       "previous": "35c35dae-55a3-11e7-b0b2-00163e9c0e35-2-7091-7055"
      },
      {
       "current": "35c35f52-55a3-11e7-b0b2-00163e9c0e35-3-e2de-8a27-98e3",
       "next": "a33430b0-9327-11ea-8d02-0242ac120007-3-3202-0bdc-fd62",
       "previous": "35c35dae-55a3-11e7-b0b2-00163e9c0e35-3-7091-7055-1fd7"
      },
      {
       "current": "35c35f52-55a3-11e7-b0b2-00163e9c0e35-3-e2de-8a27-98e3",
       "next": "a33430b0-9327-11ea-8d02-0242ac120007-3-3202-0bdc-fd62",
       "previous": "35c35a52-55a3-11e7-b0b2-00163e9c0e35-3-ed71-9007-f930"
      },
      {
       "current": "35c35f52-55a3-11e7-b0b2-00163e9c0e35-3-e2de-8a27-98e3",
       "next": "a33430b0-9327-11ea-8d02-0242ac120007-3-3202-0bdc-fd62",
       "previous": "2c2cd6ae-61bc-11ee-89fa-0242ac120005"
      },
      {
       "current": "35c35f52-55a3-11e7-b0b2-00163e9c0e35-3-e2de-8a27-98e3",
       "next": "a33430b0-9327-11ea-8d02-0242ac120007-3-3202-0bdc-fd62",
       "previous": "8a48dae0-98a1-11ea-8d02-0242ac120007-3-4da2-9c77-127e"
      },
      {
       "current": "35c35f52-55a3-11e7-b0b2-00163e9c0e35-3-e2de-8a27-98e3",
       "next": "a33430b0-9327-11ea-8d02-0242ac120007-3-3202-0bdc-fd62",
       "previous": "a2611ca6-7876-11ee-89fa-0242ac120005"
      },
      {
       "current": "35c35f52-55a3-11e7-b0b2-00163e9c0e35-4-e2de-8a27-98e3-9689",
       "next": "a33430b0-9327-11ea-8d02-0242ac120007-3-3202-0bdc-fd62",
       "previous": "8a48dae0-98a1-11ea-8d02-0242ac120007-3-4da2-9c77-127e"
      },
      {
       "current": "35c35f52-55a3-11e7-b0b2-00163e9c0e35-5-e2de-8a27-98e3-9689-14ab",
       "next": "a33430b0-9327-11ea-8d02-0242ac120007-4-3202-0bdc-fd62-70af",
       "previous": "8a48dae0-98a1-11ea-8d02-0242ac120007-4-4da2-9c77-127e-f19a"
      },
      {
       "current": "35c35f52-55a3-11e7-b0b2-00163e9c0e35-6-e2de-8a27-98e3-9689-14ab-209f",
       "next": "a33430b0-9327-11ea-8d02-0242ac120007-5-3202-0bdc-fd62-70af-6394",
       "previous": "8a48dae0-98a1-11ea-8d02-0242ac120007-5-4da2-9c77-127e-f19a-677f"
      },
      {
       "current": "35c35f52-55a3-11e7-b0b2-00163e9c0e35-7-e2de-8a27-98e3-9689-14ab-209f-1f8a",
       "next": "a33430b0-9327-11ea-8d02-0242ac120007-6-3202-0bdc-fd62-70af-6394-1bd8",
       "previous": "8a48dae0-98a1-11ea-8d02-0242ac120007-6-4da2-9c77-127e-f19a-677f-a805"
      },
      {
       "current": "35c35f52-55a3-11e7-b0b2-00163e9c0e35-8-e2de-8a27-98e3-9689-14ab-209f-1f8a-8a0a",
       "next": "a33430b0-9327-11ea-8d02-0242ac120007-7-3202-0bdc-fd62-70af-6394-1bd8-7b23",
       "previous": "8a48dae0-98a1-11ea-8d02-0242ac120007-7-4da2-9c77-127e-f19a-677f-a805-9abb"
      }
     ],
     "next": "a33430b0-9327-11ea-8d02-0242ac120007-8-3202-0bdc-fd62-70af-6394-1bd8-7b23-22c5",
     "previous": "8a48dae0-98a1-11ea-8d02-0242ac120007-8-4da2-9c77-127e-f19a-677f-a805-9abb-691b"
    }
   },
   "source": [
    "# Inventoryファイルを生成する。"
   ]
  },
  {
   "cell_type": "code",
   "execution_count": null,
   "metadata": {
    "lc_cell_meme": {
     "current": "a33430b0-9327-11ea-8d02-0242ac120007-8-3202-0bdc-fd62-70af-6394-1bd8-7b23-22c5",
     "history": [
      {
       "current": "a33430b0-9327-11ea-8d02-0242ac120007",
       "next": "35c360f6-55a3-11e7-b0b2-00163e9c0e35",
       "previous": "35c35f52-55a3-11e7-b0b2-00163e9c0e35"
      },
      {
       "current": "a33430b0-9327-11ea-8d02-0242ac120007-1-3202",
       "next": "9c0b8624-959f-11ea-8d02-0242ac120007",
       "previous": "35c35f52-55a3-11e7-b0b2-00163e9c0e35"
      },
      {
       "current": "a33430b0-9327-11ea-8d02-0242ac120007-2-3202-0bdc",
       "next": "9c0b8624-959f-11ea-8d02-0242ac120007-1-8098",
       "previous": "35c35f52-55a3-11e7-b0b2-00163e9c0e35-1-e2de"
      },
      {
       "current": "a33430b0-9327-11ea-8d02-0242ac120007-2-3202-0bdc",
       "next": "9c0b8624-959f-11ea-8d02-0242ac120007-2-8098-a371",
       "previous": "35c35f52-55a3-11e7-b0b2-00163e9c0e35-2-e2de-8a27"
      },
      {
       "current": "a33430b0-9327-11ea-8d02-0242ac120007-3-3202-0bdc-fd62",
       "next": "27f1be96-f4f0-11eb-b29f-0242ac120008",
       "previous": "35c35f52-55a3-11e7-b0b2-00163e9c0e35-2-e2de-8a27"
      },
      {
       "current": "a33430b0-9327-11ea-8d02-0242ac120007-3-3202-0bdc-fd62",
       "next": "27f1be96-f4f0-11eb-b29f-0242ac120008-1-0b6c",
       "previous": "35c35f52-55a3-11e7-b0b2-00163e9c0e35-3-e2de-8a27-98e3"
      },
      {
       "current": "a33430b0-9327-11ea-8d02-0242ac120007-4-3202-0bdc-fd62-70af",
       "next": "73b1e49c-61bc-11ee-89fa-0242ac120005",
       "previous": "35c35f52-55a3-11e7-b0b2-00163e9c0e35-3-e2de-8a27-98e3"
      },
      {
       "current": "a33430b0-9327-11ea-8d02-0242ac120007-5-3202-0bdc-fd62-70af-6394",
       "next": "73b1e49c-61bc-11ee-89fa-0242ac120005-1-d9d0",
       "previous": "35c35f52-55a3-11e7-b0b2-00163e9c0e35-4-e2de-8a27-98e3-9689"
      },
      {
       "current": "a33430b0-9327-11ea-8d02-0242ac120007-6-3202-0bdc-fd62-70af-6394-1bd8",
       "next": "73b1e49c-61bc-11ee-89fa-0242ac120005-2-d9d0-c71e",
       "previous": "35c35f52-55a3-11e7-b0b2-00163e9c0e35-5-e2de-8a27-98e3-9689-14ab"
      },
      {
       "current": "a33430b0-9327-11ea-8d02-0242ac120007-7-3202-0bdc-fd62-70af-6394-1bd8-7b23",
       "next": "73b1e49c-61bc-11ee-89fa-0242ac120005-3-d9d0-c71e-4c19",
       "previous": "35c35f52-55a3-11e7-b0b2-00163e9c0e35-6-e2de-8a27-98e3-9689-14ab-209f"
      },
      {
       "current": "a33430b0-9327-11ea-8d02-0242ac120007-8-3202-0bdc-fd62-70af-6394-1bd8-7b23-22c5",
       "next": "73b1e49c-61bc-11ee-89fa-0242ac120005-4-d9d0-c71e-4c19-7d38",
       "previous": "35c35f52-55a3-11e7-b0b2-00163e9c0e35-7-e2de-8a27-98e3-9689-14ab-209f-1f8a"
      }
     ],
     "next": "73b1e49c-61bc-11ee-89fa-0242ac120005-5-d9d0-c71e-4c19-7d38-adaf",
     "previous": "35c35f52-55a3-11e7-b0b2-00163e9c0e35-8-e2de-8a27-98e3-9689-14ab-209f-1f8a-8a0a"
    }
   },
   "outputs": [],
   "source": [
    "node_user='xxxxx'\n",
    "cephadmin_user='cephadmin'\n",
    "node_key='~/.ssh/id_ras'\n",
    "proxy_user='xxxxx'\n",
    "proxy_key='~/.ssh/id_ras'"
   ]
  },
  {
   "cell_type": "code",
   "execution_count": null,
   "metadata": {
    "lc_cell_meme": {
     "current": "73b1e49c-61bc-11ee-89fa-0242ac120005-5-d9d0-c71e-4c19-7d38-adaf",
     "history": [
      {
       "current": "73b1e49c-61bc-11ee-89fa-0242ac120005",
       "next": "35c360f6-55a3-11e7-b0b2-00163e9c0e35-3-4a79-f9ba-754f",
       "previous": "9c0b8624-959f-11ea-8d02-0242ac120007-3-8098-a371-0b4a"
      },
      {
       "current": "73b1e49c-61bc-11ee-89fa-0242ac120005-1-d9d0",
       "next": "35c360f6-55a3-11e7-b0b2-00163e9c0e35-3-4a79-f9ba-754f",
       "previous": "a33430b0-9327-11ea-8d02-0242ac120007-3-3202-0bdc-fd62"
      },
      {
       "current": "73b1e49c-61bc-11ee-89fa-0242ac120005-2-d9d0-c71e",
       "next": "35c360f6-55a3-11e7-b0b2-00163e9c0e35-4-4a79-f9ba-754f-1e21",
       "previous": "a33430b0-9327-11ea-8d02-0242ac120007-4-3202-0bdc-fd62-70af"
      },
      {
       "current": "73b1e49c-61bc-11ee-89fa-0242ac120005-3-d9d0-c71e-4c19",
       "next": "35c360f6-55a3-11e7-b0b2-00163e9c0e35-5-4a79-f9ba-754f-1e21-2632",
       "previous": "a33430b0-9327-11ea-8d02-0242ac120007-5-3202-0bdc-fd62-70af-6394"
      },
      {
       "current": "73b1e49c-61bc-11ee-89fa-0242ac120005-4-d9d0-c71e-4c19-7d38",
       "next": "35c360f6-55a3-11e7-b0b2-00163e9c0e35-6-4a79-f9ba-754f-1e21-2632-8943",
       "previous": "a33430b0-9327-11ea-8d02-0242ac120007-6-3202-0bdc-fd62-70af-6394-1bd8"
      },
      {
       "current": "73b1e49c-61bc-11ee-89fa-0242ac120005-5-d9d0-c71e-4c19-7d38-adaf",
       "next": "35c360f6-55a3-11e7-b0b2-00163e9c0e35-7-4a79-f9ba-754f-1e21-2632-8943-7cfd",
       "previous": "a33430b0-9327-11ea-8d02-0242ac120007-7-3202-0bdc-fd62-70af-6394-1bd8-7b23"
      }
     ],
     "next": "35c360f6-55a3-11e7-b0b2-00163e9c0e35-8-4a79-f9ba-754f-1e21-2632-8943-7cfd-fba0",
     "previous": "a33430b0-9327-11ea-8d02-0242ac120007-8-3202-0bdc-fd62-70af-6394-1bd8-7b23-22c5"
    }
   },
   "outputs": [],
   "source": [
    "bootstrap_ip = bootstrap_node['prov_ip']"
   ]
  },
  {
   "cell_type": "code",
   "execution_count": null,
   "metadata": {
    "ExecuteTime": {
     "end_time": "2017-06-29T08:50:39.909299Z",
     "start_time": "2017-06-29T08:50:39.762658Z"
    },
    "lc_cell_meme": {
     "current": "35c360f6-55a3-11e7-b0b2-00163e9c0e35-8-4a79-f9ba-754f-1e21-2632-8943-7cfd-fba0",
     "history": [
      {
       "current": "35c360f6-55a3-11e7-b0b2-00163e9c0e35",
       "next": "35c362a4-55a3-11e7-b0b2-00163e9c0e35",
       "previous": "35c35f52-55a3-11e7-b0b2-00163e9c0e35"
      },
      {
       "current": "35c360f6-55a3-11e7-b0b2-00163e9c0e35",
       "next": "35c362a4-55a3-11e7-b0b2-00163e9c0e35",
       "previous": "a33430b0-9327-11ea-8d02-0242ac120007"
      },
      {
       "current": "35c360f6-55a3-11e7-b0b2-00163e9c0e35-1-4a79",
       "next": "35c362a4-55a3-11e7-b0b2-00163e9c0e35",
       "previous": "9c0b88cc-959f-11ea-8d02-0242ac120007"
      },
      {
       "current": "35c360f6-55a3-11e7-b0b2-00163e9c0e35-2-4a79-f9ba",
       "next": "35c362a4-55a3-11e7-b0b2-00163e9c0e35-1-3f0a",
       "previous": "9c0b88cc-959f-11ea-8d02-0242ac120007-1-b077"
      },
      {
       "current": "35c360f6-55a3-11e7-b0b2-00163e9c0e35-2-4a79-f9ba",
       "next": "35c362a4-55a3-11e7-b0b2-00163e9c0e35-2-3f0a-3633",
       "previous": "9c0b88cc-959f-11ea-8d02-0242ac120007-2-b077-046d"
      },
      {
       "current": "35c360f6-55a3-11e7-b0b2-00163e9c0e35-2-4a79-f9ba",
       "next": "7dae8996-9686-11ea-8d02-0242ac120007-2-20c5-a0b0",
       "previous": "9c0b88cc-959f-11ea-8d02-0242ac120007-2-b077-046d"
      },
      {
       "current": "35c360f6-55a3-11e7-b0b2-00163e9c0e35-2-4a79-f9ba",
       "next": "35c362a4-55a3-11e7-b0b2-00163e9c0e35-2-89a7-98f2",
       "previous": "9c0b88cc-959f-11ea-8d02-0242ac120007-2-b077-046d"
      },
      {
       "current": "35c360f6-55a3-11e7-b0b2-00163e9c0e35-3-4a79-f9ba-754f",
       "next": "35c362a4-55a3-11e7-b0b2-00163e9c0e35-2-89a7-98f2",
       "previous": "9c0b8624-959f-11ea-8d02-0242ac120007-2-8098-a371"
      },
      {
       "current": "35c360f6-55a3-11e7-b0b2-00163e9c0e35-3-4a79-f9ba-754f",
       "next": "35c362a4-55a3-11e7-b0b2-00163e9c0e35-3-89a7-98f2-5cf2",
       "previous": "9c0b8624-959f-11ea-8d02-0242ac120007-3-8098-a371-0b4a"
      },
      {
       "current": "35c360f6-55a3-11e7-b0b2-00163e9c0e35-4-4a79-f9ba-754f-1e21",
       "next": "35c362a4-55a3-11e7-b0b2-00163e9c0e35-3-89a7-98f2-5cf2",
       "previous": "73b1e49c-61bc-11ee-89fa-0242ac120005"
      },
      {
       "current": "35c360f6-55a3-11e7-b0b2-00163e9c0e35-5-4a79-f9ba-754f-1e21-2632",
       "next": "35c362a4-55a3-11e7-b0b2-00163e9c0e35-4-89a7-98f2-5cf2-26db",
       "previous": "73b1e49c-61bc-11ee-89fa-0242ac120005-1-d9d0"
      },
      {
       "current": "35c360f6-55a3-11e7-b0b2-00163e9c0e35-6-4a79-f9ba-754f-1e21-2632-8943",
       "next": "35c362a4-55a3-11e7-b0b2-00163e9c0e35-5-89a7-98f2-5cf2-26db-2107",
       "previous": "73b1e49c-61bc-11ee-89fa-0242ac120005-2-d9d0-c71e"
      },
      {
       "current": "35c360f6-55a3-11e7-b0b2-00163e9c0e35-6-4a79-f9ba-754f-1e21-2632-8943",
       "next": "35c362a4-55a3-11e7-b0b2-00163e9c0e35-6-89a7-98f2-5cf2-26db-2107-e6e6",
       "previous": "73b1e49c-61bc-11ee-89fa-0242ac120005-3-d9d0-c71e-4c19"
      },
      {
       "current": "35c360f6-55a3-11e7-b0b2-00163e9c0e35-7-4a79-f9ba-754f-1e21-2632-8943-7cfd",
       "next": "de0fc750-230e-11ef-ad2f-0242ac120005",
       "previous": "73b1e49c-61bc-11ee-89fa-0242ac120005-3-d9d0-c71e-4c19"
      },
      {
       "current": "35c360f6-55a3-11e7-b0b2-00163e9c0e35-8-4a79-f9ba-754f-1e21-2632-8943-7cfd-fba0",
       "next": "de0fc750-230e-11ef-ad2f-0242ac120005-1-f47b",
       "previous": "73b1e49c-61bc-11ee-89fa-0242ac120005-4-d9d0-c71e-4c19-7d38"
      }
     ],
     "next": "de0fc750-230e-11ef-ad2f-0242ac120005-2-f47b-bc4f",
     "previous": "73b1e49c-61bc-11ee-89fa-0242ac120005-5-d9d0-c71e-4c19-7d38-adaf"
    },
    "run_control": {
     "frozen": true
    },
    "scrolled": true
   },
   "outputs": [],
   "source": [
    "import os\n",
    "\n",
    "with open( os.path.join(temp_dir, \"hosts\"), 'w') as f:\n",
    "\n",
    "    f.write('''[ceph_admin]\n",
    "{ceph_admin_ip} ansible_user={proxy_user} ansible_ssh_private_key_file={proxy_key} ansible_python_interpreter=/usr/bin/python3\n",
    "'''.format(ceph_admin_ip=ceph_admin_ip, proxy_user=proxy_user, proxy_key=proxy_key, bootstrap_ip=bootstrap_ip))\n",
    "\n",
    "    f.write('''[bootstrap]\n",
    "{node_ip} ansible_user={node_user} ansible_ssh_private_key_file={node_key} ansible_ssh_common_args='-o ControlMaster=auto -o StrictHostKeyChecking=no -o ControlPersist=30m -o ProxyCommand=\"ssh -W %h:%p -i {proxy_key} -q {proxy_user}@{ceph_admin_ip}\"' ansible_python_interpreter=/usr/bin/python3\n",
    "[ceph_nodes]\n",
    "'''.format(ceph_admin_ip=ceph_admin_ip, node_ip=bootstrap_ip, node_key=node_key,\n",
    "           node_user=node_user, proxy_user=proxy_user, proxy_key=proxy_key))\n",
    "    \n",
    "    for node in node_list:\n",
    "        node_ip = node['prov_ip']\n",
    "        f.write('''{node_ip} ansible_user={node_user} ansible_ssh_private_key_file={node_key} ansible_ssh_common_args='-o ControlMaster=auto -o StrictHostKeyChecking=no -o ControlPersist=30m -o ProxyCommand=\"ssh -W %h:%p -i {proxy_key} -q {proxy_user}@{ceph_admin_ip}\"' ansible_python_interpreter=/usr/bin/python3\n",
    "'''.format(ceph_admin_ip=ceph_admin_ip, node_ip=node_ip, node_key=node_key,\n",
    "           node_user=node_user, proxy_user=proxy_user, proxy_key=proxy_key))\n",
    "\n",
    "hosts = temp_dir + \"/hosts\"\n",
    "\n",
    "!cat $hosts"
   ]
  },
  {
   "cell_type": "code",
   "execution_count": null,
   "metadata": {
    "lc_cell_meme": {
     "current": "de0fc750-230e-11ef-ad2f-0242ac120005-2-f47b-bc4f",
     "history": [
      {
       "current": "de0fc750-230e-11ef-ad2f-0242ac120005-1-f47b",
       "next": "35c362a4-55a3-11e7-b0b2-00163e9c0e35-6-89a7-98f2-5cf2-26db-2107-e6e6",
       "previous": "35c360f6-55a3-11e7-b0b2-00163e9c0e35-6-4a79-f9ba-754f-1e21-2632-8943"
      },
      {
       "current": "de0fc750-230e-11ef-ad2f-0242ac120005-2-f47b-bc4f",
       "next": "35c362a4-55a3-11e7-b0b2-00163e9c0e35-7-89a7-98f2-5cf2-26db-2107-e6e6-2671",
       "previous": "35c360f6-55a3-11e7-b0b2-00163e9c0e35-7-4a79-f9ba-754f-1e21-2632-8943-7cfd"
      }
     ],
     "next": "35c362a4-55a3-11e7-b0b2-00163e9c0e35-8-89a7-98f2-5cf2-26db-2107-e6e6-2671-67f0",
     "previous": "35c360f6-55a3-11e7-b0b2-00163e9c0e35-8-4a79-f9ba-754f-1e21-2632-8943-7cfd-fba0"
    }
   },
   "outputs": [],
   "source": [
    "%env ANSIBLE_INVENTORY={hosts}"
   ]
  },
  {
   "cell_type": "markdown",
   "metadata": {
    "lc_cell_meme": {
     "current": "35c362a4-55a3-11e7-b0b2-00163e9c0e35-8-89a7-98f2-5cf2-26db-2107-e6e6-2671-67f0",
     "history": [
      {
       "current": "35c362a4-55a3-11e7-b0b2-00163e9c0e35",
       "next": "35c36448-55a3-11e7-b0b2-00163e9c0e35",
       "previous": "35c360f6-55a3-11e7-b0b2-00163e9c0e35"
      },
      {
       "current": "35c362a4-55a3-11e7-b0b2-00163e9c0e35",
       "next": "35c36448-55a3-11e7-b0b2-00163e9c0e35",
       "previous": "4cd5b0cc-7ef5-11ea-a926-0242ac120004"
      },
      {
       "current": "35c362a4-55a3-11e7-b0b2-00163e9c0e35",
       "next": "35c36448-55a3-11e7-b0b2-00163e9c0e35",
       "previous": "db546a28-7ef5-11ea-a926-0242ac120004"
      },
      {
       "current": "35c362a4-55a3-11e7-b0b2-00163e9c0e35",
       "next": "35c36448-55a3-11e7-b0b2-00163e9c0e35",
       "previous": "4cd5af28-7ef5-11ea-a926-0242ac120004"
      },
      {
       "current": "35c362a4-55a3-11e7-b0b2-00163e9c0e35",
       "next": "35c36448-55a3-11e7-b0b2-00163e9c0e35",
       "previous": "7d464504-9107-11ea-8d02-0242ac120007"
      },
      {
       "current": "35c362a4-55a3-11e7-b0b2-00163e9c0e35",
       "next": "35c36448-55a3-11e7-b0b2-00163e9c0e35",
       "previous": "bd797188-910b-11ea-8d02-0242ac120007"
      },
      {
       "current": "35c362a4-55a3-11e7-b0b2-00163e9c0e35",
       "next": "35c36448-55a3-11e7-b0b2-00163e9c0e35",
       "previous": "70b95056-9111-11ea-8d02-0242ac120007"
      },
      {
       "current": "35c362a4-55a3-11e7-b0b2-00163e9c0e35",
       "next": "35c36448-55a3-11e7-b0b2-00163e9c0e35",
       "previous": "bd797188-910b-11ea-8d02-0242ac120007"
      },
      {
       "current": "35c362a4-55a3-11e7-b0b2-00163e9c0e35",
       "next": "bd797188-910b-11ea-8d02-0242ac120007",
       "previous": "4cd5af28-7ef5-11ea-a926-0242ac120004"
      },
      {
       "current": "35c362a4-55a3-11e7-b0b2-00163e9c0e35",
       "next": "484c7376-935c-11ea-8d02-0242ac120007",
       "previous": "4cd5af28-7ef5-11ea-a926-0242ac120004"
      },
      {
       "current": "35c362a4-55a3-11e7-b0b2-00163e9c0e35-1-89a7",
       "next": "bd797188-910b-11ea-8d02-0242ac120007",
       "previous": "4cd5af28-7ef5-11ea-a926-0242ac120004"
      },
      {
       "current": "35c362a4-55a3-11e7-b0b2-00163e9c0e35-2-89a7-98f2",
       "next": "bd797188-910b-11ea-8d02-0242ac120007-1-728a",
       "previous": "4cd5af28-7ef5-11ea-a926-0242ac120004-1-726b"
      },
      {
       "current": "35c362a4-55a3-11e7-b0b2-00163e9c0e35-2-89a7-98f2",
       "next": "bd797188-910b-11ea-8d02-0242ac120007-2-728a-254c",
       "previous": "4cd5af28-7ef5-11ea-a926-0242ac120004-2-726b-a0d6"
      },
      {
       "current": "35c362a4-55a3-11e7-b0b2-00163e9c0e35-2-89a7-98f2",
       "next": "bd797188-910b-11ea-8d02-0242ac120007-2-728a-254c",
       "previous": "35c360f6-55a3-11e7-b0b2-00163e9c0e35-2-4a79-f9ba"
      },
      {
       "current": "35c362a4-55a3-11e7-b0b2-00163e9c0e35-3-89a7-98f2-5cf2",
       "next": "ef4d2888-aa17-11ea-9ad4-0242ac120006-1-42b7",
       "previous": "35c360f6-55a3-11e7-b0b2-00163e9c0e35-2-4a79-f9ba"
      },
      {
       "current": "35c362a4-55a3-11e7-b0b2-00163e9c0e35-4-89a7-98f2-5cf2-26db",
       "next": "ef4d2888-aa17-11ea-9ad4-0242ac120006-2-42b7-b07a",
       "previous": "35c360f6-55a3-11e7-b0b2-00163e9c0e35-3-4a79-f9ba-754f"
      },
      {
       "current": "35c362a4-55a3-11e7-b0b2-00163e9c0e35-5-89a7-98f2-5cf2-26db-2107",
       "next": "ef4d2888-aa17-11ea-9ad4-0242ac120006-3-42b7-b07a-75d6",
       "previous": "35c360f6-55a3-11e7-b0b2-00163e9c0e35-4-4a79-f9ba-754f-1e21"
      },
      {
       "current": "35c362a4-55a3-11e7-b0b2-00163e9c0e35-6-89a7-98f2-5cf2-26db-2107-e6e6",
       "next": "ef4d2888-aa17-11ea-9ad4-0242ac120006-4-42b7-b07a-75d6-d7b5",
       "previous": "35c360f6-55a3-11e7-b0b2-00163e9c0e35-5-4a79-f9ba-754f-1e21-2632"
      },
      {
       "current": "35c362a4-55a3-11e7-b0b2-00163e9c0e35-6-89a7-98f2-5cf2-26db-2107-e6e6",
       "next": "ef4d2888-aa17-11ea-9ad4-0242ac120006-5-42b7-b07a-75d6-d7b5-47b2",
       "previous": "35c360f6-55a3-11e7-b0b2-00163e9c0e35-6-4a79-f9ba-754f-1e21-2632-8943"
      },
      {
       "current": "35c362a4-55a3-11e7-b0b2-00163e9c0e35-7-89a7-98f2-5cf2-26db-2107-e6e6-2671",
       "next": "ef4d2888-aa17-11ea-9ad4-0242ac120006-5-42b7-b07a-75d6-d7b5-47b2",
       "previous": "de0fc750-230e-11ef-ad2f-0242ac120005"
      },
      {
       "current": "35c362a4-55a3-11e7-b0b2-00163e9c0e35-8-89a7-98f2-5cf2-26db-2107-e6e6-2671-67f0",
       "next": "ef4d2888-aa17-11ea-9ad4-0242ac120006-6-42b7-b07a-75d6-d7b5-47b2-1b2d",
       "previous": "de0fc750-230e-11ef-ad2f-0242ac120005-1-f47b"
      }
     ],
     "next": "ef4d2888-aa17-11ea-9ad4-0242ac120006-7-42b7-b07a-75d6-d7b5-47b2-1b2d-fb33",
     "previous": "de0fc750-230e-11ef-ad2f-0242ac120005-2-f47b-bc4f"
    }
   },
   "source": [
    "## 疎通確認\n",
    "以下コマンドを実行し、OpeHubからCephAdmin経由で、Cephノードに疎通することを確認する。"
   ]
  },
  {
   "cell_type": "code",
   "execution_count": null,
   "metadata": {
    "lc_cell_meme": {
     "current": "ef4d2888-aa17-11ea-9ad4-0242ac120006-7-42b7-b07a-75d6-d7b5-47b2-1b2d-fb33",
     "history": [
      {
       "current": "ef4d2888-aa17-11ea-9ad4-0242ac120006-1-42b7",
       "next": "ac56a252-95bd-11ea-8d02-0242ac120007-1-86ee",
       "previous": "bd797188-910b-11ea-8d02-0242ac120007-1-728a"
      },
      {
       "current": "ef4d2888-aa17-11ea-9ad4-0242ac120006-1-42b7",
       "next": "ac56a252-95bd-11ea-8d02-0242ac120007-2-86ee-3a22",
       "previous": "bd797188-910b-11ea-8d02-0242ac120007-2-728a-254c"
      },
      {
       "current": "ef4d2888-aa17-11ea-9ad4-0242ac120006-1-42b7",
       "next": "bd797188-910b-11ea-8d02-0242ac120007-2-728a-254c",
       "previous": "35c362a4-55a3-11e7-b0b2-00163e9c0e35-2-89a7-98f2"
      },
      {
       "current": "ef4d2888-aa17-11ea-9ad4-0242ac120006-2-42b7-b07a",
       "next": "e3856a36-df01-11eb-b29f-0242ac120008",
       "previous": "35c362a4-55a3-11e7-b0b2-00163e9c0e35-2-89a7-98f2"
      },
      {
       "current": "ef4d2888-aa17-11ea-9ad4-0242ac120006-2-42b7-b07a",
       "next": "e3856a36-df01-11eb-b29f-0242ac120008-1-d6f1",
       "previous": "35c362a4-55a3-11e7-b0b2-00163e9c0e35-3-89a7-98f2-5cf2"
      },
      {
       "current": "ef4d2888-aa17-11ea-9ad4-0242ac120006-3-42b7-b07a-75d6",
       "next": "bd797188-910b-11ea-8d02-0242ac120007-3-728a-254c-2f4c",
       "previous": "35c362a4-55a3-11e7-b0b2-00163e9c0e35-3-89a7-98f2-5cf2"
      },
      {
       "current": "ef4d2888-aa17-11ea-9ad4-0242ac120006-4-42b7-b07a-75d6-d7b5",
       "next": "bd797188-910b-11ea-8d02-0242ac120007-4-728a-254c-2f4c-9049",
       "previous": "35c362a4-55a3-11e7-b0b2-00163e9c0e35-4-89a7-98f2-5cf2-26db"
      },
      {
       "current": "ef4d2888-aa17-11ea-9ad4-0242ac120006-5-42b7-b07a-75d6-d7b5-47b2",
       "next": "bd797188-910b-11ea-8d02-0242ac120007-5-728a-254c-2f4c-9049-9997",
       "previous": "35c362a4-55a3-11e7-b0b2-00163e9c0e35-5-89a7-98f2-5cf2-26db-2107"
      },
      {
       "current": "ef4d2888-aa17-11ea-9ad4-0242ac120006-6-42b7-b07a-75d6-d7b5-47b2-1b2d",
       "next": "bd797188-910b-11ea-8d02-0242ac120007-6-728a-254c-2f4c-9049-9997-b667",
       "previous": "35c362a4-55a3-11e7-b0b2-00163e9c0e35-6-89a7-98f2-5cf2-26db-2107-e6e6"
      },
      {
       "current": "ef4d2888-aa17-11ea-9ad4-0242ac120006-7-42b7-b07a-75d6-d7b5-47b2-1b2d-fb33",
       "next": "bd797188-910b-11ea-8d02-0242ac120007-7-728a-254c-2f4c-9049-9997-b667-8539",
       "previous": "35c362a4-55a3-11e7-b0b2-00163e9c0e35-7-89a7-98f2-5cf2-26db-2107-e6e6-2671"
      }
     ],
     "next": "bd797188-910b-11ea-8d02-0242ac120007-8-728a-254c-2f4c-9049-9997-b667-8539-9988",
     "previous": "35c362a4-55a3-11e7-b0b2-00163e9c0e35-8-89a7-98f2-5cf2-26db-2107-e6e6-2671-67f0"
    }
   },
   "outputs": [],
   "source": [
    "!ansible -b -m shell -a 'hostname' ceph_admin"
   ]
  },
  {
   "cell_type": "code",
   "execution_count": null,
   "metadata": {
    "lc_cell_meme": {
     "current": "bd797188-910b-11ea-8d02-0242ac120007-8-728a-254c-2f4c-9049-9997-b667-8539-9988",
     "history": [
      {
       "current": "bd797188-910b-11ea-8d02-0242ac120007",
       "next": "35c362a4-55a3-11e7-b0b2-00163e9c0e35",
       "previous": "7d464504-9107-11ea-8d02-0242ac120007"
      },
      {
       "current": "bd797188-910b-11ea-8d02-0242ac120007",
       "next": "70b95056-9111-11ea-8d02-0242ac120007",
       "previous": "7d464504-9107-11ea-8d02-0242ac120007"
      },
      {
       "current": "bd797188-910b-11ea-8d02-0242ac120007",
       "next": "35c362a4-55a3-11e7-b0b2-00163e9c0e35",
       "previous": "7d464504-9107-11ea-8d02-0242ac120007"
      },
      {
       "current": "bd797188-910b-11ea-8d02-0242ac120007",
       "next": "35c362a4-55a3-11e7-b0b2-00163e9c0e35",
       "previous": "4cd5af28-7ef5-11ea-a926-0242ac120004"
      },
      {
       "current": "bd797188-910b-11ea-8d02-0242ac120007",
       "next": "35c36448-55a3-11e7-b0b2-00163e9c0e35",
       "previous": "35c362a4-55a3-11e7-b0b2-00163e9c0e35"
      },
      {
       "current": "bd797188-910b-11ea-8d02-0242ac120007",
       "next": "35c3783e-55a3-11e7-b0b2-00163e9c0e35",
       "previous": "35c362a4-55a3-11e7-b0b2-00163e9c0e35"
      },
      {
       "current": "bd797188-910b-11ea-8d02-0242ac120007",
       "next": "35c3783e-55a3-11e7-b0b2-00163e9c0e35",
       "previous": "484c7376-935c-11ea-8d02-0242ac120007"
      },
      {
       "current": "bd797188-910b-11ea-8d02-0242ac120007",
       "next": "35c3783e-55a3-11e7-b0b2-00163e9c0e35",
       "previous": "35c362a4-55a3-11e7-b0b2-00163e9c0e35"
      },
      {
       "current": "bd797188-910b-11ea-8d02-0242ac120007-1-728a",
       "next": "ac56a252-95bd-11ea-8d02-0242ac120007",
       "previous": "35c362a4-55a3-11e7-b0b2-00163e9c0e35"
      },
      {
       "current": "bd797188-910b-11ea-8d02-0242ac120007-1-728a",
       "next": "ac56a252-95bd-11ea-8d02-0242ac120007-1-86ee",
       "previous": "35c362a4-55a3-11e7-b0b2-00163e9c0e35-1-89a7"
      },
      {
       "current": "bd797188-910b-11ea-8d02-0242ac120007-2-728a-254c",
       "next": "ef4d2888-aa17-11ea-9ad4-0242ac120006",
       "previous": "35c362a4-55a3-11e7-b0b2-00163e9c0e35-1-89a7"
      },
      {
       "current": "bd797188-910b-11ea-8d02-0242ac120007-2-728a-254c",
       "next": "ef4d2888-aa17-11ea-9ad4-0242ac120006-1-42b7",
       "previous": "35c362a4-55a3-11e7-b0b2-00163e9c0e35-2-89a7-98f2"
      },
      {
       "current": "bd797188-910b-11ea-8d02-0242ac120007-2-728a-254c",
       "next": "ac56a252-95bd-11ea-8d02-0242ac120007-2-86ee-3a22",
       "previous": "ef4d2888-aa17-11ea-9ad4-0242ac120006-1-42b7"
      },
      {
       "current": "bd797188-910b-11ea-8d02-0242ac120007-2-728a-254c",
       "next": "ac56a252-95bd-11ea-8d02-0242ac120007-2-86ee-3a22",
       "previous": "e3856a36-df01-11eb-b29f-0242ac120008"
      },
      {
       "current": "bd797188-910b-11ea-8d02-0242ac120007-3-728a-254c-2f4c",
       "next": "21d849e2-dfd0-11eb-b29f-0242ac120008",
       "previous": "e3856a36-df01-11eb-b29f-0242ac120008"
      },
      {
       "current": "bd797188-910b-11ea-8d02-0242ac120007-3-728a-254c-2f4c",
       "next": "21d849e2-dfd0-11eb-b29f-0242ac120008-1-ee1b",
       "previous": "e3856a36-df01-11eb-b29f-0242ac120008-1-d6f1"
      },
      {
       "current": "bd797188-910b-11ea-8d02-0242ac120007-3-728a-254c-2f4c",
       "next": "21d849e2-dfd0-11eb-b29f-0242ac120008-1-ee1b",
       "previous": "ef4d2888-aa17-11ea-9ad4-0242ac120006-2-42b7-b07a"
      },
      {
       "current": "bd797188-910b-11ea-8d02-0242ac120007-3-728a-254c-2f4c",
       "next": "91d0d70c-61bd-11ee-89fa-0242ac120005",
       "previous": "ef4d2888-aa17-11ea-9ad4-0242ac120006-2-42b7-b07a"
      },
      {
       "current": "bd797188-910b-11ea-8d02-0242ac120007-4-728a-254c-2f4c-9049",
       "next": "43f4ca3e-7950-11ee-89fa-0242ac120005",
       "previous": "ef4d2888-aa17-11ea-9ad4-0242ac120006-2-42b7-b07a"
      },
      {
       "current": "bd797188-910b-11ea-8d02-0242ac120007-5-728a-254c-2f4c-9049-9997",
       "next": "43f4ca3e-7950-11ee-89fa-0242ac120005-1-f820",
       "previous": "ef4d2888-aa17-11ea-9ad4-0242ac120006-3-42b7-b07a-75d6"
      },
      {
       "current": "bd797188-910b-11ea-8d02-0242ac120007-6-728a-254c-2f4c-9049-9997-b667",
       "next": "43f4ca3e-7950-11ee-89fa-0242ac120005-2-f820-00ce",
       "previous": "ef4d2888-aa17-11ea-9ad4-0242ac120006-4-42b7-b07a-75d6-d7b5"
      },
      {
       "current": "bd797188-910b-11ea-8d02-0242ac120007-7-728a-254c-2f4c-9049-9997-b667-8539",
       "next": "43f4ca3e-7950-11ee-89fa-0242ac120005-3-f820-00ce-b2dd",
       "previous": "ef4d2888-aa17-11ea-9ad4-0242ac120006-5-42b7-b07a-75d6-d7b5-47b2"
      },
      {
       "current": "bd797188-910b-11ea-8d02-0242ac120007-8-728a-254c-2f4c-9049-9997-b667-8539-9988",
       "next": "43f4ca3e-7950-11ee-89fa-0242ac120005-4-f820-00ce-b2dd-d546",
       "previous": "ef4d2888-aa17-11ea-9ad4-0242ac120006-6-42b7-b07a-75d6-d7b5-47b2-1b2d"
      }
     ],
     "next": "43f4ca3e-7950-11ee-89fa-0242ac120005-5-f820-00ce-b2dd-d546-7e72",
     "previous": "ef4d2888-aa17-11ea-9ad4-0242ac120006-7-42b7-b07a-75d6-d7b5-47b2-1b2d-fb33"
    }
   },
   "outputs": [],
   "source": [
    "for node in node_list:\n",
    "    prov_ip = node['prov_ip']\n",
    "    !ansible -b -m shell -a 'hostname' $prov_ip"
   ]
  },
  {
   "cell_type": "code",
   "execution_count": null,
   "metadata": {
    "lc_cell_meme": {
     "current": "43f4ca3e-7950-11ee-89fa-0242ac120005-5-f820-00ce-b2dd-d546-7e72",
     "history": [
      {
       "current": "43f4ca3e-7950-11ee-89fa-0242ac120005-1-f820",
       "next": "91d0d70c-61bd-11ee-89fa-0242ac120005",
       "previous": "bd797188-910b-11ea-8d02-0242ac120007-3-728a-254c-2f4c"
      },
      {
       "current": "43f4ca3e-7950-11ee-89fa-0242ac120005-2-f820-00ce",
       "next": "91d0d70c-61bd-11ee-89fa-0242ac120005-1-0a9e",
       "previous": "bd797188-910b-11ea-8d02-0242ac120007-4-728a-254c-2f4c-9049"
      },
      {
       "current": "43f4ca3e-7950-11ee-89fa-0242ac120005-3-f820-00ce-b2dd",
       "next": "91d0d70c-61bd-11ee-89fa-0242ac120005-2-0a9e-8c0c",
       "previous": "bd797188-910b-11ea-8d02-0242ac120007-5-728a-254c-2f4c-9049-9997"
      },
      {
       "current": "43f4ca3e-7950-11ee-89fa-0242ac120005-4-f820-00ce-b2dd-d546",
       "next": "91d0d70c-61bd-11ee-89fa-0242ac120005-3-0a9e-8c0c-f1f2",
       "previous": "bd797188-910b-11ea-8d02-0242ac120007-6-728a-254c-2f4c-9049-9997-b667"
      },
      {
       "current": "43f4ca3e-7950-11ee-89fa-0242ac120005-5-f820-00ce-b2dd-d546-7e72",
       "next": "91d0d70c-61bd-11ee-89fa-0242ac120005-4-0a9e-8c0c-f1f2-9d28",
       "previous": "bd797188-910b-11ea-8d02-0242ac120007-7-728a-254c-2f4c-9049-9997-b667-8539"
      }
     ],
     "next": "91d0d70c-61bd-11ee-89fa-0242ac120005-5-0a9e-8c0c-f1f2-9d28-7b94",
     "previous": "bd797188-910b-11ea-8d02-0242ac120007-8-728a-254c-2f4c-9049-9997-b667-8539-9988"
    }
   },
   "outputs": [],
   "source": [
    "!ansible -b -m shell -a 'hostname' ceph_nodes"
   ]
  },
  {
   "cell_type": "code",
   "execution_count": null,
   "metadata": {
    "lc_cell_meme": {
     "current": "91d0d70c-61bd-11ee-89fa-0242ac120005-5-0a9e-8c0c-f1f2-9d28-7b94",
     "history": [
      {
       "current": "91d0d70c-61bd-11ee-89fa-0242ac120005",
       "next": "ac56a252-95bd-11ea-8d02-0242ac120007-3-86ee-3a22-9a71",
       "previous": "21d849e2-dfd0-11eb-b29f-0242ac120008-1-ee1b"
      },
      {
       "current": "91d0d70c-61bd-11ee-89fa-0242ac120005",
       "next": "ac56a252-95bd-11ea-8d02-0242ac120007-3-86ee-3a22-9a71",
       "previous": "bd797188-910b-11ea-8d02-0242ac120007-3-728a-254c-2f4c"
      },
      {
       "current": "91d0d70c-61bd-11ee-89fa-0242ac120005",
       "next": "ac56a252-95bd-11ea-8d02-0242ac120007-3-86ee-3a22-9a71",
       "previous": "43f4ca3e-7950-11ee-89fa-0242ac120005"
      },
      {
       "current": "91d0d70c-61bd-11ee-89fa-0242ac120005",
       "next": "7890499e-8765-11ee-91d3-0242ac120006",
       "previous": "43f4ca3e-7950-11ee-89fa-0242ac120005"
      },
      {
       "current": "91d0d70c-61bd-11ee-89fa-0242ac120005-1-0a9e",
       "next": "ac56a252-95bd-11ea-8d02-0242ac120007-3-86ee-3a22-9a71",
       "previous": "43f4ca3e-7950-11ee-89fa-0242ac120005"
      },
      {
       "current": "91d0d70c-61bd-11ee-89fa-0242ac120005-1-0a9e",
       "next": "ac56a252-95bd-11ea-8d02-0242ac120007-4-86ee-3a22-9a71-5d47",
       "previous": "43f4ca3e-7950-11ee-89fa-0242ac120005-1-f820"
      },
      {
       "current": "91d0d70c-61bd-11ee-89fa-0242ac120005-2-0a9e-8c0c",
       "next": "64ea0844-97e6-11ee-91d3-0242ac120006",
       "previous": "43f4ca3e-7950-11ee-89fa-0242ac120005-1-f820"
      },
      {
       "current": "91d0d70c-61bd-11ee-89fa-0242ac120005-3-0a9e-8c0c-f1f2",
       "next": "64ea0844-97e6-11ee-91d3-0242ac120006-1-2330",
       "previous": "43f4ca3e-7950-11ee-89fa-0242ac120005-2-f820-00ce"
      },
      {
       "current": "91d0d70c-61bd-11ee-89fa-0242ac120005-4-0a9e-8c0c-f1f2-9d28",
       "next": "64ea0844-97e6-11ee-91d3-0242ac120006-2-2330-bc83",
       "previous": "43f4ca3e-7950-11ee-89fa-0242ac120005-3-f820-00ce-b2dd"
      },
      {
       "current": "91d0d70c-61bd-11ee-89fa-0242ac120005-5-0a9e-8c0c-f1f2-9d28-7b94",
       "next": "64ea0844-97e6-11ee-91d3-0242ac120006-3-2330-bc83-61bd",
       "previous": "43f4ca3e-7950-11ee-89fa-0242ac120005-4-f820-00ce-b2dd-d546"
      }
     ],
     "next": "64ea0844-97e6-11ee-91d3-0242ac120006-4-2330-bc83-61bd-b6c8",
     "previous": "43f4ca3e-7950-11ee-89fa-0242ac120005-5-f820-00ce-b2dd-d546-7e72"
    },
    "scrolled": true
   },
   "outputs": [],
   "source": [
    "!ansible -b -m shell -a 'hostname' bootstrap"
   ]
  },
  {
   "cell_type": "markdown",
   "metadata": {
    "lc_cell_meme": {
     "current": "64ea0844-97e6-11ee-91d3-0242ac120006-4-2330-bc83-61bd-b6c8",
     "history": [
      {
       "current": "64ea0844-97e6-11ee-91d3-0242ac120006",
       "next": "64ea09fc-97e6-11ee-91d3-0242ac120006",
       "previous": "a7ce3966-876d-11ee-91d3-0242ac120006-1-2611"
      },
      {
       "current": "64ea0844-97e6-11ee-91d3-0242ac120006",
       "next": "ac6d2048-97e6-11ee-91d3-0242ac120006",
       "previous": "a7ce3966-876d-11ee-91d3-0242ac120006-1-2611"
      },
      {
       "current": "64ea0844-97e6-11ee-91d3-0242ac120006",
       "next": "ac6d2048-97e6-11ee-91d3-0242ac120006",
       "previous": "4549ae2a-876c-11ee-91d3-0242ac120006-1-a3f5"
      },
      {
       "current": "64ea0844-97e6-11ee-91d3-0242ac120006-1-2330",
       "next": "ac6d2048-97e6-11ee-91d3-0242ac120006",
       "previous": "91d0d70c-61bd-11ee-89fa-0242ac120005-1-0a9e"
      },
      {
       "current": "64ea0844-97e6-11ee-91d3-0242ac120006-2-2330-bc83",
       "next": "ac6d2048-97e6-11ee-91d3-0242ac120006-1-3052",
       "previous": "91d0d70c-61bd-11ee-89fa-0242ac120005-2-0a9e-8c0c"
      },
      {
       "current": "64ea0844-97e6-11ee-91d3-0242ac120006-3-2330-bc83-61bd",
       "next": "ac6d2048-97e6-11ee-91d3-0242ac120006-2-3052-05b0",
       "previous": "91d0d70c-61bd-11ee-89fa-0242ac120005-3-0a9e-8c0c-f1f2"
      },
      {
       "current": "64ea0844-97e6-11ee-91d3-0242ac120006-4-2330-bc83-61bd-b6c8",
       "next": "ac6d2048-97e6-11ee-91d3-0242ac120006-3-3052-05b0-adbb",
       "previous": "91d0d70c-61bd-11ee-89fa-0242ac120005-4-0a9e-8c0c-f1f2-9d28"
      }
     ],
     "next": "ac6d2048-97e6-11ee-91d3-0242ac120006-4-3052-05b0-adbb-478b",
     "previous": "91d0d70c-61bd-11ee-89fa-0242ac120005-5-0a9e-8c0c-f1f2-9d28-7b94"
    }
   },
   "source": [
    "# ovs_ctrlサービス再起動\n",
    "ovs_ctrlとMONコンテナの起動タイミングのコントロールが不可能であるため、Ceph起動後に手動で再起動を行う。"
   ]
  },
  {
   "cell_type": "code",
   "execution_count": null,
   "metadata": {
    "lc_cell_meme": {
     "current": "ac6d2048-97e6-11ee-91d3-0242ac120006-4-3052-05b0-adbb-478b",
     "history": [
      {
       "current": "ac6d2048-97e6-11ee-91d3-0242ac120006",
       "next": "ac6d21ce-97e6-11ee-91d3-0242ac120006",
       "previous": "64ea09fc-97e6-11ee-91d3-0242ac120006"
      },
      {
       "current": "ac6d2048-97e6-11ee-91d3-0242ac120006",
       "next": "ac6d21ce-97e6-11ee-91d3-0242ac120006-1-5ea4",
       "previous": "64ea09fc-97e6-11ee-91d3-0242ac120006"
      },
      {
       "current": "ac6d2048-97e6-11ee-91d3-0242ac120006",
       "next": "ac6d21ce-97e6-11ee-91d3-0242ac120006-1-5ea4",
       "previous": "64ea0844-97e6-11ee-91d3-0242ac120006"
      },
      {
       "current": "ac6d2048-97e6-11ee-91d3-0242ac120006-1-3052",
       "next": "5a18a824-97e8-11ee-91d3-0242ac120006",
       "previous": "64ea0844-97e6-11ee-91d3-0242ac120006"
      },
      {
       "current": "ac6d2048-97e6-11ee-91d3-0242ac120006-2-3052-05b0",
       "next": "5a18a824-97e8-11ee-91d3-0242ac120006-1-dd06",
       "previous": "64ea0844-97e6-11ee-91d3-0242ac120006-1-2330"
      },
      {
       "current": "ac6d2048-97e6-11ee-91d3-0242ac120006-3-3052-05b0-adbb",
       "next": "5a18a824-97e8-11ee-91d3-0242ac120006-2-dd06-9ccc",
       "previous": "64ea0844-97e6-11ee-91d3-0242ac120006-2-2330-bc83"
      },
      {
       "current": "ac6d2048-97e6-11ee-91d3-0242ac120006-4-3052-05b0-adbb-478b",
       "next": "5a18a824-97e8-11ee-91d3-0242ac120006-3-dd06-9ccc-ad5a",
       "previous": "64ea0844-97e6-11ee-91d3-0242ac120006-3-2330-bc83-61bd"
      }
     ],
     "next": "5a18a824-97e8-11ee-91d3-0242ac120006-4-dd06-9ccc-ad5a-d5f0",
     "previous": "64ea0844-97e6-11ee-91d3-0242ac120006-4-2330-bc83-61bd-b6c8"
    }
   },
   "outputs": [],
   "source": [
    "!ansible -b -m service -a \"name=ovs_ctrl enabled=yes state=restarted\" ceph_nodes"
   ]
  },
  {
   "cell_type": "code",
   "execution_count": null,
   "metadata": {
    "lc_cell_meme": {
     "current": "5a18a824-97e8-11ee-91d3-0242ac120006-4-dd06-9ccc-ad5a-d5f0",
     "history": [
      {
       "current": "5a18a824-97e8-11ee-91d3-0242ac120006-1-dd06",
       "next": "ac6d21ce-97e6-11ee-91d3-0242ac120006-1-5ea4",
       "previous": "ac6d2048-97e6-11ee-91d3-0242ac120006"
      },
      {
       "current": "5a18a824-97e8-11ee-91d3-0242ac120006-2-dd06-9ccc",
       "next": "ac6d21ce-97e6-11ee-91d3-0242ac120006-2-5ea4-00f9",
       "previous": "ac6d2048-97e6-11ee-91d3-0242ac120006-1-3052"
      },
      {
       "current": "5a18a824-97e8-11ee-91d3-0242ac120006-3-dd06-9ccc-ad5a",
       "next": "ac6d21ce-97e6-11ee-91d3-0242ac120006-3-5ea4-00f9-d4c4",
       "previous": "ac6d2048-97e6-11ee-91d3-0242ac120006-2-3052-05b0"
      },
      {
       "current": "5a18a824-97e8-11ee-91d3-0242ac120006-4-dd06-9ccc-ad5a-d5f0",
       "next": "ac6d21ce-97e6-11ee-91d3-0242ac120006-4-5ea4-00f9-d4c4-1b1a",
       "previous": "ac6d2048-97e6-11ee-91d3-0242ac120006-3-3052-05b0-adbb"
      }
     ],
     "next": "ac6d21ce-97e6-11ee-91d3-0242ac120006-5-5ea4-00f9-d4c4-1b1a-173b",
     "previous": "ac6d2048-97e6-11ee-91d3-0242ac120006-4-3052-05b0-adbb-478b"
    },
    "scrolled": true
   },
   "outputs": [],
   "source": [
    "!ansible -b -m shell -a \"systemctl status ovs_ctrl\" ceph_nodes"
   ]
  },
  {
   "cell_type": "markdown",
   "metadata": {
    "lc_cell_meme": {
     "current": "ac6d21ce-97e6-11ee-91d3-0242ac120006-5-5ea4-00f9-d4c4-1b1a-173b",
     "history": [
      {
       "current": "ac6d21ce-97e6-11ee-91d3-0242ac120006-1-5ea4",
       "next": "35c581ba-55a3-11e7-b0b2-00163e9c0e35-4-f60b-133a-40ef-606c",
       "previous": "ac6d2048-97e6-11ee-91d3-0242ac120006"
      },
      {
       "current": "ac6d21ce-97e6-11ee-91d3-0242ac120006-1-5ea4",
       "next": "ee962ab4-97e6-11ee-91d3-0242ac120006",
       "previous": "ac6d2048-97e6-11ee-91d3-0242ac120006"
      },
      {
       "current": "ac6d21ce-97e6-11ee-91d3-0242ac120006-1-5ea4",
       "next": "ee962c94-97e6-11ee-91d3-0242ac120006",
       "previous": "ac6d2048-97e6-11ee-91d3-0242ac120006"
      },
      {
       "current": "ac6d21ce-97e6-11ee-91d3-0242ac120006-2-5ea4-00f9",
       "next": "ee962c94-97e6-11ee-91d3-0242ac120006",
       "previous": "5a18a824-97e8-11ee-91d3-0242ac120006"
      },
      {
       "current": "ac6d21ce-97e6-11ee-91d3-0242ac120006-3-5ea4-00f9-d4c4",
       "next": "ee962c94-97e6-11ee-91d3-0242ac120006-1-eb03",
       "previous": "5a18a824-97e8-11ee-91d3-0242ac120006-1-dd06"
      },
      {
       "current": "ac6d21ce-97e6-11ee-91d3-0242ac120006-4-5ea4-00f9-d4c4-1b1a",
       "next": "ee962c94-97e6-11ee-91d3-0242ac120006-2-eb03-cd84",
       "previous": "5a18a824-97e8-11ee-91d3-0242ac120006-2-dd06-9ccc"
      },
      {
       "current": "ac6d21ce-97e6-11ee-91d3-0242ac120006-5-5ea4-00f9-d4c4-1b1a-173b",
       "next": "ee962c94-97e6-11ee-91d3-0242ac120006-3-eb03-cd84-d7ae",
       "previous": "5a18a824-97e8-11ee-91d3-0242ac120006-3-dd06-9ccc-ad5a"
      }
     ],
     "next": "ee962c94-97e6-11ee-91d3-0242ac120006-4-eb03-cd84-d7ae-4463",
     "previous": "5a18a824-97e8-11ee-91d3-0242ac120006-4-dd06-9ccc-ad5a-d5f0"
    }
   },
   "source": [
    "# CephGatewayサービス再起動\n",
    "CephGatewayとMONコンテナの起動タイミングのコントロールが不可能であるため、Ceph起動後に手動で再起動を行う。"
   ]
  },
  {
   "cell_type": "code",
   "execution_count": null,
   "metadata": {
    "lc_cell_meme": {
     "current": "ee962c94-97e6-11ee-91d3-0242ac120006-4-eb03-cd84-d7ae-4463",
     "history": [
      {
       "current": "ee962c94-97e6-11ee-91d3-0242ac120006",
       "next": "35c581ba-55a3-11e7-b0b2-00163e9c0e35-4-f60b-133a-40ef-606c",
       "previous": "ee962ab4-97e6-11ee-91d3-0242ac120006"
      },
      {
       "current": "ee962c94-97e6-11ee-91d3-0242ac120006",
       "next": "35c581ba-55a3-11e7-b0b2-00163e9c0e35-4-f60b-133a-40ef-606c",
       "previous": "ac6d21ce-97e6-11ee-91d3-0242ac120006-1-5ea4"
      },
      {
       "current": "ee962c94-97e6-11ee-91d3-0242ac120006-1-eb03",
       "next": "a23147ce-97e8-11ee-91d3-0242ac120006",
       "previous": "ac6d21ce-97e6-11ee-91d3-0242ac120006-1-5ea4"
      },
      {
       "current": "ee962c94-97e6-11ee-91d3-0242ac120006-2-eb03-cd84",
       "next": "a23147ce-97e8-11ee-91d3-0242ac120006-1-70b1",
       "previous": "ac6d21ce-97e6-11ee-91d3-0242ac120006-2-5ea4-00f9"
      },
      {
       "current": "ee962c94-97e6-11ee-91d3-0242ac120006-3-eb03-cd84-d7ae",
       "next": "a23147ce-97e8-11ee-91d3-0242ac120006-2-70b1-c664",
       "previous": "ac6d21ce-97e6-11ee-91d3-0242ac120006-3-5ea4-00f9-d4c4"
      },
      {
       "current": "ee962c94-97e6-11ee-91d3-0242ac120006-4-eb03-cd84-d7ae-4463",
       "next": "a23147ce-97e8-11ee-91d3-0242ac120006-3-70b1-c664-1465",
       "previous": "ac6d21ce-97e6-11ee-91d3-0242ac120006-4-5ea4-00f9-d4c4-1b1a"
      }
     ],
     "next": "a23147ce-97e8-11ee-91d3-0242ac120006-4-70b1-c664-1465-881e",
     "previous": "ac6d21ce-97e6-11ee-91d3-0242ac120006-5-5ea4-00f9-d4c4-1b1a-173b"
    },
    "scrolled": true
   },
   "outputs": [],
   "source": [
    "!ansible -b -m service -a \"name=ceph_gateway enabled=yes state=restarted\" ceph_nodes"
   ]
  },
  {
   "cell_type": "code",
   "execution_count": null,
   "metadata": {
    "lc_cell_meme": {
     "current": "a23147ce-97e8-11ee-91d3-0242ac120006-4-70b1-c664-1465-881e",
     "history": [
      {
       "current": "a23147ce-97e8-11ee-91d3-0242ac120006",
       "next": "35c581ba-55a3-11e7-b0b2-00163e9c0e35-4-f60b-133a-40ef-606c",
       "previous": "ee962c94-97e6-11ee-91d3-0242ac120006"
      },
      {
       "current": "a23147ce-97e8-11ee-91d3-0242ac120006-1-70b1",
       "next": "2f41fa5e-0851-11ef-9d3e-0242ac120006",
       "previous": "ee962c94-97e6-11ee-91d3-0242ac120006"
      },
      {
       "current": "a23147ce-97e8-11ee-91d3-0242ac120006-2-70b1-c664",
       "next": "2f41fa5e-0851-11ef-9d3e-0242ac120006-1-06f5",
       "previous": "ee962c94-97e6-11ee-91d3-0242ac120006-1-eb03"
      },
      {
       "current": "a23147ce-97e8-11ee-91d3-0242ac120006-3-70b1-c664-1465",
       "next": "2f41fa5e-0851-11ef-9d3e-0242ac120006-2-06f5-8416",
       "previous": "ee962c94-97e6-11ee-91d3-0242ac120006-2-eb03-cd84"
      },
      {
       "current": "a23147ce-97e8-11ee-91d3-0242ac120006-4-70b1-c664-1465-881e",
       "next": "2f41fa5e-0851-11ef-9d3e-0242ac120006-3-06f5-8416-0147",
       "previous": "ee962c94-97e6-11ee-91d3-0242ac120006-3-eb03-cd84-d7ae"
      }
     ],
     "next": "2f41fa5e-0851-11ef-9d3e-0242ac120006-4-06f5-8416-0147-29e1",
     "previous": "ee962c94-97e6-11ee-91d3-0242ac120006-4-eb03-cd84-d7ae-4463"
    }
   },
   "outputs": [],
   "source": [
    "!ansible -b -m shell -a \"systemctl status ceph_gateway\" ceph_nodes"
   ]
  },
  {
   "cell_type": "code",
   "execution_count": null,
   "metadata": {
    "lc_cell_meme": {
     "current": "2f41fa5e-0851-11ef-9d3e-0242ac120006-4-06f5-8416-0147-29e1",
     "history": [
      {
       "current": "2f41fa5e-0851-11ef-9d3e-0242ac120006",
       "next": "35c581ba-55a3-11e7-b0b2-00163e9c0e35-4-f60b-133a-40ef-606c",
       "previous": "a23147ce-97e8-11ee-91d3-0242ac120006"
      },
      {
       "current": "2f41fa5e-0851-11ef-9d3e-0242ac120006",
       "next": "1c10c3d4-7882-11ee-89fa-0242ac120005-2-1393-2116",
       "previous": "a23147ce-97e8-11ee-91d3-0242ac120006"
      },
      {
       "current": "2f41fa5e-0851-11ef-9d3e-0242ac120006-1-06f5",
       "next": "ac56a252-95bd-11ea-8d02-0242ac120007-4-86ee-3a22-9a71-5d47",
       "previous": "a23147ce-97e8-11ee-91d3-0242ac120006"
      },
      {
       "current": "2f41fa5e-0851-11ef-9d3e-0242ac120006-2-06f5-8416",
       "next": "ac56a252-95bd-11ea-8d02-0242ac120007-5-86ee-3a22-9a71-5d47-2c95",
       "previous": "a23147ce-97e8-11ee-91d3-0242ac120006-1-70b1"
      },
      {
       "current": "2f41fa5e-0851-11ef-9d3e-0242ac120006-3-06f5-8416-0147",
       "next": "ac56a252-95bd-11ea-8d02-0242ac120007-6-86ee-3a22-9a71-5d47-2c95-6cd0",
       "previous": "a23147ce-97e8-11ee-91d3-0242ac120006-2-70b1-c664"
      },
      {
       "current": "2f41fa5e-0851-11ef-9d3e-0242ac120006-4-06f5-8416-0147-29e1",
       "next": "ac56a252-95bd-11ea-8d02-0242ac120007-7-86ee-3a22-9a71-5d47-2c95-6cd0-72d7",
       "previous": "a23147ce-97e8-11ee-91d3-0242ac120006-3-70b1-c664-1465"
      }
     ],
     "next": "ac56a252-95bd-11ea-8d02-0242ac120007-8-86ee-3a22-9a71-5d47-2c95-6cd0-72d7-ab72",
     "previous": "a23147ce-97e8-11ee-91d3-0242ac120006-4-70b1-c664-1465-881e"
    }
   },
   "outputs": [],
   "source": [
    "!ansible -b -m shell -a 'cephadm shell -- ceph -s 2> /dev/null' bootstrap"
   ]
  },
  {
   "cell_type": "markdown",
   "metadata": {
    "lc_cell_meme": {
     "current": "ac56a252-95bd-11ea-8d02-0242ac120007-8-86ee-3a22-9a71-5d47-2c95-6cd0-72d7-ab72",
     "history": [
      {
       "current": "ac56a252-95bd-11ea-8d02-0242ac120007-1-86ee",
       "next": "ac56a6c6-95bd-11ea-8d02-0242ac120007",
       "previous": "bd797188-910b-11ea-8d02-0242ac120007"
      },
      {
       "current": "ac56a252-95bd-11ea-8d02-0242ac120007-1-86ee",
       "next": "ac56a6c6-95bd-11ea-8d02-0242ac120007-1-431a",
       "previous": "bd797188-910b-11ea-8d02-0242ac120007-1-728a"
      },
      {
       "current": "ac56a252-95bd-11ea-8d02-0242ac120007-1-86ee",
       "next": "46b93d3e-95bc-11ea-8d02-0242ac120007-1-9f9c",
       "previous": "bd797188-910b-11ea-8d02-0242ac120007-1-728a"
      },
      {
       "current": "ac56a252-95bd-11ea-8d02-0242ac120007-2-86ee-3a22",
       "next": "46b93d3e-95bc-11ea-8d02-0242ac120007-1-9f9c",
       "previous": "ef4d2888-aa17-11ea-9ad4-0242ac120006"
      },
      {
       "current": "ac56a252-95bd-11ea-8d02-0242ac120007-2-86ee-3a22",
       "next": "46b93d3e-95bc-11ea-8d02-0242ac120007-2-9f9c-2f8b",
       "previous": "ef4d2888-aa17-11ea-9ad4-0242ac120006-1-42b7"
      },
      {
       "current": "ac56a252-95bd-11ea-8d02-0242ac120007-2-86ee-3a22",
       "next": "46b93d3e-95bc-11ea-8d02-0242ac120007-2-9f9c-2f8b",
       "previous": "bd797188-910b-11ea-8d02-0242ac120007-2-728a-254c"
      },
      {
       "current": "ac56a252-95bd-11ea-8d02-0242ac120007-3-86ee-3a22-9a71",
       "next": "46b93d3e-95bc-11ea-8d02-0242ac120007-2-9f9c-2f8b",
       "previous": "21d849e2-dfd0-11eb-b29f-0242ac120008"
      },
      {
       "current": "ac56a252-95bd-11ea-8d02-0242ac120007-3-86ee-3a22-9a71",
       "next": "46b93d3e-95bc-11ea-8d02-0242ac120007-3-9f9c-2f8b-fd5c",
       "previous": "21d849e2-dfd0-11eb-b29f-0242ac120008-1-ee1b"
      },
      {
       "current": "ac56a252-95bd-11ea-8d02-0242ac120007-3-86ee-3a22-9a71",
       "next": "1e5a5a54-4bb1-11ee-89fa-0242ac120005",
       "previous": "21d849e2-dfd0-11eb-b29f-0242ac120008-1-ee1b"
      },
      {
       "current": "ac56a252-95bd-11ea-8d02-0242ac120007-3-86ee-3a22-9a71",
       "next": "65e00220-4bb1-11ee-89fa-0242ac120005",
       "previous": "21d849e2-dfd0-11eb-b29f-0242ac120008-1-ee1b"
      },
      {
       "current": "ac56a252-95bd-11ea-8d02-0242ac120007-3-86ee-3a22-9a71",
       "next": "5d429cae-6191-11ee-89fa-0242ac120005",
       "previous": "21d849e2-dfd0-11eb-b29f-0242ac120008-1-ee1b"
      },
      {
       "current": "ac56a252-95bd-11ea-8d02-0242ac120007-3-86ee-3a22-9a71",
       "next": "5d429cae-6191-11ee-89fa-0242ac120005",
       "previous": "91d0d70c-61bd-11ee-89fa-0242ac120005"
      },
      {
       "current": "ac56a252-95bd-11ea-8d02-0242ac120007-3-86ee-3a22-9a71",
       "next": "d9541562-61bd-11ee-89fa-0242ac120005",
       "previous": "91d0d70c-61bd-11ee-89fa-0242ac120005"
      },
      {
       "current": "ac56a252-95bd-11ea-8d02-0242ac120007-3-86ee-3a22-9a71",
       "next": "a55217b0-7166-11ee-89fa-0242ac120005",
       "previous": "91d0d70c-61bd-11ee-89fa-0242ac120005"
      },
      {
       "current": "ac56a252-95bd-11ea-8d02-0242ac120007-3-86ee-3a22-9a71",
       "next": "8f9c95d6-716a-11ee-89fa-0242ac120005",
       "previous": "91d0d70c-61bd-11ee-89fa-0242ac120005"
      },
      {
       "current": "ac56a252-95bd-11ea-8d02-0242ac120007-3-86ee-3a22-9a71",
       "next": "31f70f06-7877-11ee-89fa-0242ac120005",
       "previous": "91d0d70c-61bd-11ee-89fa-0242ac120005"
      },
      {
       "current": "ac56a252-95bd-11ea-8d02-0242ac120007-3-86ee-3a22-9a71",
       "next": "fdebe68c-7880-11ee-89fa-0242ac120005",
       "previous": "91d0d70c-61bd-11ee-89fa-0242ac120005"
      },
      {
       "current": "ac56a252-95bd-11ea-8d02-0242ac120007-3-86ee-3a22-9a71",
       "next": "1c10c3d4-7882-11ee-89fa-0242ac120005",
       "previous": "91d0d70c-61bd-11ee-89fa-0242ac120005"
      },
      {
       "current": "ac56a252-95bd-11ea-8d02-0242ac120007-3-86ee-3a22-9a71",
       "next": "5a4c53f2-8764-11ee-91d3-0242ac120006",
       "previous": "91d0d70c-61bd-11ee-89fa-0242ac120005"
      },
      {
       "current": "ac56a252-95bd-11ea-8d02-0242ac120007-3-86ee-3a22-9a71",
       "next": "5a4c53f2-8764-11ee-91d3-0242ac120006-1-1cf1",
       "previous": "91d0d70c-61bd-11ee-89fa-0242ac120005"
      },
      {
       "current": "ac56a252-95bd-11ea-8d02-0242ac120007-3-86ee-3a22-9a71",
       "next": "5a4c53f2-8764-11ee-91d3-0242ac120006-1-1cf1",
       "previous": "78904c64-8765-11ee-91d3-0242ac120006"
      },
      {
       "current": "ac56a252-95bd-11ea-8d02-0242ac120007-3-86ee-3a22-9a71",
       "next": "5a4c53f2-8764-11ee-91d3-0242ac120006-1-1cf1",
       "previous": "c026f9ce-8765-11ee-91d3-0242ac120006"
      },
      {
       "current": "ac56a252-95bd-11ea-8d02-0242ac120007-3-86ee-3a22-9a71",
       "next": "5a4c53f2-8764-11ee-91d3-0242ac120006-1-1cf1",
       "previous": "91d0d70c-61bd-11ee-89fa-0242ac120005"
      },
      {
       "current": "ac56a252-95bd-11ea-8d02-0242ac120007-4-86ee-3a22-9a71-5d47",
       "next": "4549ac54-876c-11ee-91d3-0242ac120006",
       "previous": "91d0d70c-61bd-11ee-89fa-0242ac120005"
      },
      {
       "current": "ac56a252-95bd-11ea-8d02-0242ac120007-4-86ee-3a22-9a71-5d47",
       "next": "4549ac54-876c-11ee-91d3-0242ac120006-1-1515",
       "previous": "91d0d70c-61bd-11ee-89fa-0242ac120005-1-0a9e"
      },
      {
       "current": "ac56a252-95bd-11ea-8d02-0242ac120007-4-86ee-3a22-9a71-5d47",
       "next": "4549ac54-876c-11ee-91d3-0242ac120006-1-1515",
       "previous": "2f41fa5e-0851-11ef-9d3e-0242ac120006"
      },
      {
       "current": "ac56a252-95bd-11ea-8d02-0242ac120007-5-86ee-3a22-9a71-5d47-2c95",
       "next": "07e44230-0c36-11ef-9d3e-0242ac120006",
       "previous": "2f41fa5e-0851-11ef-9d3e-0242ac120006"
      },
      {
       "current": "ac56a252-95bd-11ea-8d02-0242ac120007-6-86ee-3a22-9a71-5d47-2c95-6cd0",
       "next": "07e44230-0c36-11ef-9d3e-0242ac120006-1-45c3",
       "previous": "2f41fa5e-0851-11ef-9d3e-0242ac120006-1-06f5"
      },
      {
       "current": "ac56a252-95bd-11ea-8d02-0242ac120007-7-86ee-3a22-9a71-5d47-2c95-6cd0-72d7",
       "next": "07e44230-0c36-11ef-9d3e-0242ac120006-2-45c3-ff83",
       "previous": "2f41fa5e-0851-11ef-9d3e-0242ac120006-2-06f5-8416"
      },
      {
       "current": "ac56a252-95bd-11ea-8d02-0242ac120007-8-86ee-3a22-9a71-5d47-2c95-6cd0-72d7-ab72",
       "next": "07e44230-0c36-11ef-9d3e-0242ac120006-3-45c3-ff83-5e5d",
       "previous": "2f41fa5e-0851-11ef-9d3e-0242ac120006-3-06f5-8416-0147"
      }
     ],
     "next": "07e44230-0c36-11ef-9d3e-0242ac120006-4-45c3-ff83-5e5d-2dd2",
     "previous": "2f41fa5e-0851-11ef-9d3e-0242ac120006-4-06f5-8416-0147-29e1"
    }
   },
   "source": [
    "# OSDの復帰"
   ]
  },
  {
   "cell_type": "markdown",
   "metadata": {
    "lc_cell_meme": {
     "current": "07e44230-0c36-11ef-9d3e-0242ac120006-4-45c3-ff83-5e5d-2dd2",
     "history": [
      {
       "current": "07e44230-0c36-11ef-9d3e-0242ac120006-1-45c3",
       "next": "07e443ca-0c36-11ef-9d3e-0242ac120006",
       "previous": "ac56a252-95bd-11ea-8d02-0242ac120007-4-86ee-3a22-9a71-5d47"
      },
      {
       "current": "07e44230-0c36-11ef-9d3e-0242ac120006-2-45c3-ff83",
       "next": "07e443ca-0c36-11ef-9d3e-0242ac120006-1-1e54",
       "previous": "ac56a252-95bd-11ea-8d02-0242ac120007-5-86ee-3a22-9a71-5d47-2c95"
      },
      {
       "current": "07e44230-0c36-11ef-9d3e-0242ac120006-3-45c3-ff83-5e5d",
       "next": "07e443ca-0c36-11ef-9d3e-0242ac120006-2-1e54-1c46",
       "previous": "ac56a252-95bd-11ea-8d02-0242ac120007-6-86ee-3a22-9a71-5d47-2c95-6cd0"
      },
      {
       "current": "07e44230-0c36-11ef-9d3e-0242ac120006-4-45c3-ff83-5e5d-2dd2",
       "next": "07e443ca-0c36-11ef-9d3e-0242ac120006-3-1e54-1c46-e4c6",
       "previous": "ac56a252-95bd-11ea-8d02-0242ac120007-7-86ee-3a22-9a71-5d47-2c95-6cd0-72d7"
      }
     ],
     "next": "07e443ca-0c36-11ef-9d3e-0242ac120006-4-1e54-1c46-e4c6-f3d3",
     "previous": "ac56a252-95bd-11ea-8d02-0242ac120007-8-86ee-3a22-9a71-5d47-2c95-6cd0-72d7-ab72"
    }
   },
   "source": [
    "## MONサービス確認"
   ]
  },
  {
   "cell_type": "code",
   "execution_count": null,
   "metadata": {
    "lc_cell_meme": {
     "current": "07e443ca-0c36-11ef-9d3e-0242ac120006-4-1e54-1c46-e4c6-f3d3",
     "history": [
      {
       "current": "07e443ca-0c36-11ef-9d3e-0242ac120006-1-1e54",
       "next": "4549ac54-876c-11ee-91d3-0242ac120006-1-1515",
       "previous": "07e44230-0c36-11ef-9d3e-0242ac120006"
      },
      {
       "current": "07e443ca-0c36-11ef-9d3e-0242ac120006-2-1e54-1c46",
       "next": "4549ac54-876c-11ee-91d3-0242ac120006-2-1515-3977",
       "previous": "07e44230-0c36-11ef-9d3e-0242ac120006-1-45c3"
      },
      {
       "current": "07e443ca-0c36-11ef-9d3e-0242ac120006-3-1e54-1c46-e4c6",
       "next": "4549ac54-876c-11ee-91d3-0242ac120006-3-1515-3977-e8ac",
       "previous": "07e44230-0c36-11ef-9d3e-0242ac120006-2-45c3-ff83"
      },
      {
       "current": "07e443ca-0c36-11ef-9d3e-0242ac120006-4-1e54-1c46-e4c6-f3d3",
       "next": "4549ac54-876c-11ee-91d3-0242ac120006-4-1515-3977-e8ac-4bf9",
       "previous": "07e44230-0c36-11ef-9d3e-0242ac120006-3-45c3-ff83-5e5d"
      }
     ],
     "next": "4549ac54-876c-11ee-91d3-0242ac120006-5-1515-3977-e8ac-4bf9-7bd1",
     "previous": "07e44230-0c36-11ef-9d3e-0242ac120006-4-45c3-ff83-5e5d-2dd2"
    }
   },
   "outputs": [],
   "source": [
    "for node in node_list:\n",
    "    name =  node['name']\n",
    "    prov_ip = node['prov_ip']\n",
    "    ret = !ansible -b -m shell -a \"systemctl list-units | grep 'loaded active running' | grep 'Ceph mon'\" $prov_ip\n",
    "    ret_data = ret[1]\n",
    "    elems = ret_data.split()\n",
    "    if len(elems) < 8:\n",
    "        continue\n",
    "    service_name = elems[0]\n",
    "    print(service_name)"
   ]
  },
  {
   "cell_type": "markdown",
   "metadata": {
    "lc_cell_meme": {
     "current": "4549ac54-876c-11ee-91d3-0242ac120006-5-1515-3977-e8ac-4bf9-7bd1",
     "history": [
      {
       "current": "4549ac54-876c-11ee-91d3-0242ac120006-1-1515",
       "next": "4549ae2a-876c-11ee-91d3-0242ac120006",
       "previous": "ac56a252-95bd-11ea-8d02-0242ac120007-3-86ee-3a22-9a71"
      },
      {
       "current": "4549ac54-876c-11ee-91d3-0242ac120006-1-1515",
       "next": "4549ae2a-876c-11ee-91d3-0242ac120006-1-a3f5",
       "previous": "ac56a252-95bd-11ea-8d02-0242ac120007-4-86ee-3a22-9a71-5d47"
      },
      {
       "current": "4549ac54-876c-11ee-91d3-0242ac120006-2-1515-3977",
       "next": "4549ae2a-876c-11ee-91d3-0242ac120006-1-a3f5",
       "previous": "07e443ca-0c36-11ef-9d3e-0242ac120006"
      },
      {
       "current": "4549ac54-876c-11ee-91d3-0242ac120006-3-1515-3977-e8ac",
       "next": "4549ae2a-876c-11ee-91d3-0242ac120006-2-a3f5-fb8a",
       "previous": "07e443ca-0c36-11ef-9d3e-0242ac120006-1-1e54"
      },
      {
       "current": "4549ac54-876c-11ee-91d3-0242ac120006-4-1515-3977-e8ac-4bf9",
       "next": "4549ae2a-876c-11ee-91d3-0242ac120006-3-a3f5-fb8a-a89a",
       "previous": "07e443ca-0c36-11ef-9d3e-0242ac120006-2-1e54-1c46"
      },
      {
       "current": "4549ac54-876c-11ee-91d3-0242ac120006-5-1515-3977-e8ac-4bf9-7bd1",
       "next": "4549ae2a-876c-11ee-91d3-0242ac120006-4-a3f5-fb8a-a89a-f7b2",
       "previous": "07e443ca-0c36-11ef-9d3e-0242ac120006-3-1e54-1c46-e4c6"
      }
     ],
     "next": "4549ae2a-876c-11ee-91d3-0242ac120006-5-a3f5-fb8a-a89a-f7b2-cf65",
     "previous": "07e443ca-0c36-11ef-9d3e-0242ac120006-4-1e54-1c46-e4c6-f3d3"
    }
   },
   "source": [
    "## Cephクラスタ状態確認\n",
    "OSD以外が正常に稼働していることを確認する"
   ]
  },
  {
   "cell_type": "code",
   "execution_count": null,
   "metadata": {
    "lc_cell_meme": {
     "current": "4549ae2a-876c-11ee-91d3-0242ac120006-5-a3f5-fb8a-a89a-f7b2-cf65",
     "history": [
      {
       "current": "4549ae2a-876c-11ee-91d3-0242ac120006",
       "next": "5a4c53f2-8764-11ee-91d3-0242ac120006-1-1cf1",
       "previous": "4549ac54-876c-11ee-91d3-0242ac120006"
      },
      {
       "current": "4549ae2a-876c-11ee-91d3-0242ac120006",
       "next": "8d40ca10-876c-11ee-91d3-0242ac120006",
       "previous": "4549ac54-876c-11ee-91d3-0242ac120006"
      },
      {
       "current": "4549ae2a-876c-11ee-91d3-0242ac120006-1-a3f5",
       "next": "5a4c53f2-8764-11ee-91d3-0242ac120006-1-1cf1",
       "previous": "4549ac54-876c-11ee-91d3-0242ac120006"
      },
      {
       "current": "4549ae2a-876c-11ee-91d3-0242ac120006-1-a3f5",
       "next": "5a4c53f2-8764-11ee-91d3-0242ac120006-2-1cf1-4c4e",
       "previous": "4549ac54-876c-11ee-91d3-0242ac120006-1-1515"
      },
      {
       "current": "4549ae2a-876c-11ee-91d3-0242ac120006-1-a3f5",
       "next": "1c10c3d4-7882-11ee-89fa-0242ac120005-2-1393-2116",
       "previous": "4549ac54-876c-11ee-91d3-0242ac120006-1-1515"
      },
      {
       "current": "4549ae2a-876c-11ee-91d3-0242ac120006-1-a3f5",
       "next": "64ea0844-97e6-11ee-91d3-0242ac120006",
       "previous": "4549ac54-876c-11ee-91d3-0242ac120006-1-1515"
      },
      {
       "current": "4549ae2a-876c-11ee-91d3-0242ac120006-2-a3f5-fb8a",
       "next": "1c10c3d4-7882-11ee-89fa-0242ac120005-2-1393-2116",
       "previous": "4549ac54-876c-11ee-91d3-0242ac120006-1-1515"
      },
      {
       "current": "4549ae2a-876c-11ee-91d3-0242ac120006-3-a3f5-fb8a-a89a",
       "next": "1c10c3d4-7882-11ee-89fa-0242ac120005-3-1393-2116-c47b",
       "previous": "4549ac54-876c-11ee-91d3-0242ac120006-2-1515-3977"
      },
      {
       "current": "4549ae2a-876c-11ee-91d3-0242ac120006-4-a3f5-fb8a-a89a-f7b2",
       "next": "1c10c3d4-7882-11ee-89fa-0242ac120005-4-1393-2116-c47b-bad8",
       "previous": "4549ac54-876c-11ee-91d3-0242ac120006-3-1515-3977-e8ac"
      },
      {
       "current": "4549ae2a-876c-11ee-91d3-0242ac120006-5-a3f5-fb8a-a89a-f7b2-cf65",
       "next": "1c10c3d4-7882-11ee-89fa-0242ac120005-5-1393-2116-c47b-bad8-dac4",
       "previous": "4549ac54-876c-11ee-91d3-0242ac120006-4-1515-3977-e8ac-4bf9"
      }
     ],
     "next": "1c10c3d4-7882-11ee-89fa-0242ac120005-6-1393-2116-c47b-bad8-dac4-31c7",
     "previous": "4549ac54-876c-11ee-91d3-0242ac120006-5-1515-3977-e8ac-4bf9-7bd1"
    }
   },
   "outputs": [],
   "source": [
    "!ansible -b -m shell -a 'cephadm shell -- ceph -s 2> /dev/null' bootstrap"
   ]
  },
  {
   "cell_type": "markdown",
   "metadata": {
    "lc_cell_meme": {
     "current": "1c10c3d4-7882-11ee-89fa-0242ac120005-6-1393-2116-c47b-bad8-dac4-31c7",
     "history": [
      {
       "current": "1c10c3d4-7882-11ee-89fa-0242ac120005",
       "next": "31f70f06-7877-11ee-89fa-0242ac120005",
       "previous": "ac56a252-95bd-11ea-8d02-0242ac120007-3-86ee-3a22-9a71"
      },
      {
       "current": "1c10c3d4-7882-11ee-89fa-0242ac120005",
       "next": "31f70f06-7877-11ee-89fa-0242ac120005",
       "previous": "5a4c5726-8764-11ee-91d3-0242ac120006"
      },
      {
       "current": "1c10c3d4-7882-11ee-89fa-0242ac120005",
       "next": "31f70f06-7877-11ee-89fa-0242ac120005",
       "previous": "e982ac1a-8764-11ee-91d3-0242ac120006"
      },
      {
       "current": "1c10c3d4-7882-11ee-89fa-0242ac120005-1-1393",
       "next": "31f70f06-7877-11ee-89fa-0242ac120005",
       "previous": "392aa268-876a-11ee-91d3-0242ac120006"
      },
      {
       "current": "1c10c3d4-7882-11ee-89fa-0242ac120005-2-1393-2116",
       "next": "31f70f06-7877-11ee-89fa-0242ac120005-1-232e",
       "previous": "392aa268-876a-11ee-91d3-0242ac120006-1-fca6"
      },
      {
       "current": "1c10c3d4-7882-11ee-89fa-0242ac120005-2-1393-2116",
       "next": "31f70f06-7877-11ee-89fa-0242ac120005-2-232e-e1a2",
       "previous": "4549ae2a-876c-11ee-91d3-0242ac120006-1-a3f5"
      },
      {
       "current": "1c10c3d4-7882-11ee-89fa-0242ac120005-2-1393-2116",
       "next": "31f70f06-7877-11ee-89fa-0242ac120005-2-232e-e1a2",
       "previous": "2f41fa5e-0851-11ef-9d3e-0242ac120006"
      },
      {
       "current": "1c10c3d4-7882-11ee-89fa-0242ac120005-3-1393-2116-c47b",
       "next": "31f70f06-7877-11ee-89fa-0242ac120005-2-232e-e1a2",
       "previous": "4549ae2a-876c-11ee-91d3-0242ac120006-1-a3f5"
      },
      {
       "current": "1c10c3d4-7882-11ee-89fa-0242ac120005-4-1393-2116-c47b-bad8",
       "next": "31f70f06-7877-11ee-89fa-0242ac120005-3-232e-e1a2-bdea",
       "previous": "4549ae2a-876c-11ee-91d3-0242ac120006-2-a3f5-fb8a"
      },
      {
       "current": "1c10c3d4-7882-11ee-89fa-0242ac120005-5-1393-2116-c47b-bad8-dac4",
       "next": "31f70f06-7877-11ee-89fa-0242ac120005-4-232e-e1a2-bdea-6ffc",
       "previous": "4549ae2a-876c-11ee-91d3-0242ac120006-3-a3f5-fb8a-a89a"
      },
      {
       "current": "1c10c3d4-7882-11ee-89fa-0242ac120005-6-1393-2116-c47b-bad8-dac4-31c7",
       "next": "31f70f06-7877-11ee-89fa-0242ac120005-5-232e-e1a2-bdea-6ffc-292c",
       "previous": "4549ae2a-876c-11ee-91d3-0242ac120006-4-a3f5-fb8a-a89a-f7b2"
      }
     ],
     "next": "31f70f06-7877-11ee-89fa-0242ac120005-6-232e-e1a2-bdea-6ffc-292c-1f82",
     "previous": "4549ae2a-876c-11ee-91d3-0242ac120006-5-a3f5-fb8a-a89a-f7b2-cf65"
    }
   },
   "source": [
    "## 全てのOSD情報取得"
   ]
  },
  {
   "cell_type": "code",
   "execution_count": null,
   "metadata": {
    "lc_cell_meme": {
     "current": "31f70f06-7877-11ee-89fa-0242ac120005-6-232e-e1a2-bdea-6ffc-292c-1f82",
     "history": [
      {
       "current": "31f70f06-7877-11ee-89fa-0242ac120005",
       "next": "31f71280-7877-11ee-89fa-0242ac120005",
       "previous": "ac56a252-95bd-11ea-8d02-0242ac120007-3-86ee-3a22-9a71"
      },
      {
       "current": "31f70f06-7877-11ee-89fa-0242ac120005",
       "next": "31f71280-7877-11ee-89fa-0242ac120005",
       "previous": "fdebec4a-7880-11ee-89fa-0242ac120005"
      },
      {
       "current": "31f70f06-7877-11ee-89fa-0242ac120005-1-232e",
       "next": "31f71280-7877-11ee-89fa-0242ac120005",
       "previous": "1c10c3d4-7882-11ee-89fa-0242ac120005"
      },
      {
       "current": "31f70f06-7877-11ee-89fa-0242ac120005-2-232e-e1a2",
       "next": "31f71280-7877-11ee-89fa-0242ac120005-1-4c22",
       "previous": "1c10c3d4-7882-11ee-89fa-0242ac120005-1-1393"
      },
      {
       "current": "31f70f06-7877-11ee-89fa-0242ac120005-3-232e-e1a2-bdea",
       "next": "31f71280-7877-11ee-89fa-0242ac120005-2-4c22-d4c3",
       "previous": "1c10c3d4-7882-11ee-89fa-0242ac120005-2-1393-2116"
      },
      {
       "current": "31f70f06-7877-11ee-89fa-0242ac120005-4-232e-e1a2-bdea-6ffc",
       "next": "31f71280-7877-11ee-89fa-0242ac120005-3-4c22-d4c3-a81b",
       "previous": "1c10c3d4-7882-11ee-89fa-0242ac120005-3-1393-2116-c47b"
      },
      {
       "current": "31f70f06-7877-11ee-89fa-0242ac120005-5-232e-e1a2-bdea-6ffc-292c",
       "next": "31f71280-7877-11ee-89fa-0242ac120005-4-4c22-d4c3-a81b-0806",
       "previous": "1c10c3d4-7882-11ee-89fa-0242ac120005-4-1393-2116-c47b-bad8"
      },
      {
       "current": "31f70f06-7877-11ee-89fa-0242ac120005-6-232e-e1a2-bdea-6ffc-292c-1f82",
       "next": "31f71280-7877-11ee-89fa-0242ac120005-5-4c22-d4c3-a81b-0806-abd4",
       "previous": "1c10c3d4-7882-11ee-89fa-0242ac120005-5-1393-2116-c47b-bad8-dac4"
      }
     ],
     "next": "31f71280-7877-11ee-89fa-0242ac120005-6-4c22-d4c3-a81b-0806-abd4-c8fa",
     "previous": "1c10c3d4-7882-11ee-89fa-0242ac120005-6-1393-2116-c47b-bad8-dac4-31c7"
    }
   },
   "outputs": [],
   "source": [
    "ret = !ansible -b -m shell -a 'cephadm shell -- ceph osd tree --format=json 2> /dev/null' bootstrap"
   ]
  },
  {
   "cell_type": "code",
   "execution_count": null,
   "metadata": {
    "lc_cell_meme": {
     "current": "31f71280-7877-11ee-89fa-0242ac120005-6-4c22-d4c3-a81b-0806-abd4-c8fa",
     "history": [
      {
       "current": "31f71280-7877-11ee-89fa-0242ac120005-1-4c22",
       "next": "31f7132a-7877-11ee-89fa-0242ac120005",
       "previous": "31f70f06-7877-11ee-89fa-0242ac120005"
      },
      {
       "current": "31f71280-7877-11ee-89fa-0242ac120005-2-4c22-d4c3",
       "next": "31f7132a-7877-11ee-89fa-0242ac120005-1-c377",
       "previous": "31f70f06-7877-11ee-89fa-0242ac120005-1-232e"
      },
      {
       "current": "31f71280-7877-11ee-89fa-0242ac120005-3-4c22-d4c3-a81b",
       "next": "31f7132a-7877-11ee-89fa-0242ac120005-2-c377-1c19",
       "previous": "31f70f06-7877-11ee-89fa-0242ac120005-2-232e-e1a2"
      },
      {
       "current": "31f71280-7877-11ee-89fa-0242ac120005-4-4c22-d4c3-a81b-0806",
       "next": "31f7132a-7877-11ee-89fa-0242ac120005-3-c377-1c19-62fc",
       "previous": "31f70f06-7877-11ee-89fa-0242ac120005-3-232e-e1a2-bdea"
      },
      {
       "current": "31f71280-7877-11ee-89fa-0242ac120005-5-4c22-d4c3-a81b-0806-abd4",
       "next": "31f7132a-7877-11ee-89fa-0242ac120005-4-c377-1c19-62fc-2e30",
       "previous": "31f70f06-7877-11ee-89fa-0242ac120005-4-232e-e1a2-bdea-6ffc"
      },
      {
       "current": "31f71280-7877-11ee-89fa-0242ac120005-6-4c22-d4c3-a81b-0806-abd4-c8fa",
       "next": "31f7132a-7877-11ee-89fa-0242ac120005-5-c377-1c19-62fc-2e30-ad27",
       "previous": "31f70f06-7877-11ee-89fa-0242ac120005-5-232e-e1a2-bdea-6ffc-292c"
      }
     ],
     "next": "31f7132a-7877-11ee-89fa-0242ac120005-6-c377-1c19-62fc-2e30-ad27-a674",
     "previous": "31f70f06-7877-11ee-89fa-0242ac120005-6-232e-e1a2-bdea-6ffc-292c-1f82"
    },
    "scrolled": true
   },
   "outputs": [],
   "source": [
    "print(ret)"
   ]
  },
  {
   "cell_type": "code",
   "execution_count": null,
   "metadata": {
    "lc_cell_meme": {
     "current": "31f7132a-7877-11ee-89fa-0242ac120005-6-c377-1c19-62fc-2e30-ad27-a674",
     "history": [
      {
       "current": "31f7132a-7877-11ee-89fa-0242ac120005-1-c377",
       "next": "31f71398-7877-11ee-89fa-0242ac120005",
       "previous": "31f71280-7877-11ee-89fa-0242ac120005"
      },
      {
       "current": "31f7132a-7877-11ee-89fa-0242ac120005-2-c377-1c19",
       "next": "31f71398-7877-11ee-89fa-0242ac120005-1-b57c",
       "previous": "31f71280-7877-11ee-89fa-0242ac120005-1-4c22"
      },
      {
       "current": "31f7132a-7877-11ee-89fa-0242ac120005-3-c377-1c19-62fc",
       "next": "31f71398-7877-11ee-89fa-0242ac120005-2-b57c-8c0f",
       "previous": "31f71280-7877-11ee-89fa-0242ac120005-2-4c22-d4c3"
      },
      {
       "current": "31f7132a-7877-11ee-89fa-0242ac120005-4-c377-1c19-62fc-2e30",
       "next": "31f71398-7877-11ee-89fa-0242ac120005-3-b57c-8c0f-b073",
       "previous": "31f71280-7877-11ee-89fa-0242ac120005-3-4c22-d4c3-a81b"
      },
      {
       "current": "31f7132a-7877-11ee-89fa-0242ac120005-5-c377-1c19-62fc-2e30-ad27",
       "next": "31f71398-7877-11ee-89fa-0242ac120005-4-b57c-8c0f-b073-c808",
       "previous": "31f71280-7877-11ee-89fa-0242ac120005-4-4c22-d4c3-a81b-0806"
      },
      {
       "current": "31f7132a-7877-11ee-89fa-0242ac120005-6-c377-1c19-62fc-2e30-ad27-a674",
       "next": "31f71398-7877-11ee-89fa-0242ac120005-5-b57c-8c0f-b073-c808-eb7a",
       "previous": "31f71280-7877-11ee-89fa-0242ac120005-5-4c22-d4c3-a81b-0806-abd4"
      }
     ],
     "next": "31f71398-7877-11ee-89fa-0242ac120005-6-b57c-8c0f-b073-c808-eb7a-30ae",
     "previous": "31f71280-7877-11ee-89fa-0242ac120005-6-4c22-d4c3-a81b-0806-abd4-c8fa"
    },
    "scrolled": true
   },
   "outputs": [],
   "source": [
    "osd_tree = json.loads(ret[2])\n",
    "print(json.dumps(osd_tree, indent=2))"
   ]
  },
  {
   "cell_type": "code",
   "execution_count": null,
   "metadata": {
    "lc_cell_meme": {
     "current": "31f71398-7877-11ee-89fa-0242ac120005-6-b57c-8c0f-b073-c808-eb7a-30ae",
     "history": [
      {
       "current": "31f71398-7877-11ee-89fa-0242ac120005",
       "next": "8f9c95d6-716a-11ee-89fa-0242ac120005",
       "previous": "31f7132a-7877-11ee-89fa-0242ac120005"
      },
      {
       "current": "31f71398-7877-11ee-89fa-0242ac120005",
       "next": "35c581ba-55a3-11e7-b0b2-00163e9c0e35-3-f60b-133a-40ef",
       "previous": "31f7132a-7877-11ee-89fa-0242ac120005"
      },
      {
       "current": "31f71398-7877-11ee-89fa-0242ac120005",
       "next": "8c52f2dc-787a-11ee-89fa-0242ac120005",
       "previous": "31f7132a-7877-11ee-89fa-0242ac120005"
      },
      {
       "current": "31f71398-7877-11ee-89fa-0242ac120005-1-b57c",
       "next": "8c52f5b6-787a-11ee-89fa-0242ac120005",
       "previous": "31f7132a-7877-11ee-89fa-0242ac120005"
      },
      {
       "current": "31f71398-7877-11ee-89fa-0242ac120005-2-b57c-8c0f",
       "next": "8c52f5b6-787a-11ee-89fa-0242ac120005-1-e5f4",
       "previous": "31f7132a-7877-11ee-89fa-0242ac120005-1-c377"
      },
      {
       "current": "31f71398-7877-11ee-89fa-0242ac120005-3-b57c-8c0f-b073",
       "next": "8c52f5b6-787a-11ee-89fa-0242ac120005-2-e5f4-942a",
       "previous": "31f7132a-7877-11ee-89fa-0242ac120005-2-c377-1c19"
      },
      {
       "current": "31f71398-7877-11ee-89fa-0242ac120005-4-b57c-8c0f-b073-c808",
       "next": "8c52f5b6-787a-11ee-89fa-0242ac120005-3-e5f4-942a-631b",
       "previous": "31f7132a-7877-11ee-89fa-0242ac120005-3-c377-1c19-62fc"
      },
      {
       "current": "31f71398-7877-11ee-89fa-0242ac120005-5-b57c-8c0f-b073-c808-eb7a",
       "next": "8c52f5b6-787a-11ee-89fa-0242ac120005-4-e5f4-942a-631b-6805",
       "previous": "31f7132a-7877-11ee-89fa-0242ac120005-4-c377-1c19-62fc-2e30"
      },
      {
       "current": "31f71398-7877-11ee-89fa-0242ac120005-6-b57c-8c0f-b073-c808-eb7a-30ae",
       "next": "8c52f5b6-787a-11ee-89fa-0242ac120005-5-e5f4-942a-631b-6805-c338",
       "previous": "31f7132a-7877-11ee-89fa-0242ac120005-5-c377-1c19-62fc-2e30-ad27"
      }
     ],
     "next": "8c52f5b6-787a-11ee-89fa-0242ac120005-6-e5f4-942a-631b-6805-c338-1610",
     "previous": "31f7132a-7877-11ee-89fa-0242ac120005-6-c377-1c19-62fc-2e30-ad27-a674"
    }
   },
   "outputs": [],
   "source": [
    "host_map = {}\n",
    "osd_map = {}\n",
    "osd_info_list = []\n",
    "\n",
    "nodes = osd_tree['nodes']\n",
    "for osd_tree_info in nodes:\n",
    "    info_type = osd_tree_info.get('type',None)\n",
    "    if info_type == \"host\":\n",
    "        host_map[osd_tree_info['name']] = osd_tree_info\n",
    "    elif  info_type == \"osd\":\n",
    "        osd_map[osd_tree_info['id']] = osd_tree_info\n",
    "\n",
    "for key,val in host_map.items():\n",
    "    children = val.get('children',[])\n",
    "    for osd_id in children:\n",
    "        osd = osd_map.get(osd_id,None)\n",
    "        if osd is not None:\n",
    "            osd['host_name'] = key\n",
    "            osd.pop('pool_weights')\n",
    "            osd_info_list.append(osd)\n"
   ]
  },
  {
   "cell_type": "code",
   "execution_count": null,
   "metadata": {
    "lc_cell_meme": {
     "current": "8c52f5b6-787a-11ee-89fa-0242ac120005-6-e5f4-942a-631b-6805-c338-1610",
     "history": [
      {
       "current": "8c52f5b6-787a-11ee-89fa-0242ac120005",
       "next": "8c52f66a-787a-11ee-89fa-0242ac120005",
       "previous": "8c52f2dc-787a-11ee-89fa-0242ac120005"
      },
      {
       "current": "8c52f5b6-787a-11ee-89fa-0242ac120005",
       "next": "1c10c596-7882-11ee-89fa-0242ac120005",
       "previous": "8c52f2dc-787a-11ee-89fa-0242ac120005"
      },
      {
       "current": "8c52f5b6-787a-11ee-89fa-0242ac120005",
       "next": "1c10c596-7882-11ee-89fa-0242ac120005-1-83a6",
       "previous": "8c52f2dc-787a-11ee-89fa-0242ac120005"
      },
      {
       "current": "8c52f5b6-787a-11ee-89fa-0242ac120005",
       "next": "1c10c596-7882-11ee-89fa-0242ac120005-1-83a6",
       "previous": "31f71398-7877-11ee-89fa-0242ac120005"
      },
      {
       "current": "8c52f5b6-787a-11ee-89fa-0242ac120005",
       "next": "3109ce1a-8765-11ee-91d3-0242ac120006",
       "previous": "31f71398-7877-11ee-89fa-0242ac120005"
      },
      {
       "current": "8c52f5b6-787a-11ee-89fa-0242ac120005",
       "next": "3109ce1a-8765-11ee-91d3-0242ac120006-1-9be3",
       "previous": "31f71398-7877-11ee-89fa-0242ac120005"
      },
      {
       "current": "8c52f5b6-787a-11ee-89fa-0242ac120005",
       "next": "35c581ba-55a3-11e7-b0b2-00163e9c0e35-3-f60b-133a-40ef",
       "previous": "31f71398-7877-11ee-89fa-0242ac120005"
      },
      {
       "current": "8c52f5b6-787a-11ee-89fa-0242ac120005-1-e5f4",
       "next": "a7ce3812-876d-11ee-91d3-0242ac120006",
       "previous": "31f71398-7877-11ee-89fa-0242ac120005"
      },
      {
       "current": "8c52f5b6-787a-11ee-89fa-0242ac120005-2-e5f4-942a",
       "next": "a7ce3812-876d-11ee-91d3-0242ac120006-1-79d6",
       "previous": "31f71398-7877-11ee-89fa-0242ac120005-1-b57c"
      },
      {
       "current": "8c52f5b6-787a-11ee-89fa-0242ac120005-2-e5f4-942a",
       "next": "a7ce3812-876d-11ee-91d3-0242ac120006-2-79d6-dccd",
       "previous": "31f71398-7877-11ee-89fa-0242ac120005-2-b57c-8c0f"
      },
      {
       "current": "8c52f5b6-787a-11ee-89fa-0242ac120005-3-e5f4-942a-631b",
       "next": "30f19f42-0c31-11ef-9d3e-0242ac120006",
       "previous": "31f71398-7877-11ee-89fa-0242ac120005-2-b57c-8c0f"
      },
      {
       "current": "8c52f5b6-787a-11ee-89fa-0242ac120005-4-e5f4-942a-631b-6805",
       "next": "30f19f42-0c31-11ef-9d3e-0242ac120006-1-9bd9",
       "previous": "31f71398-7877-11ee-89fa-0242ac120005-3-b57c-8c0f-b073"
      },
      {
       "current": "8c52f5b6-787a-11ee-89fa-0242ac120005-5-e5f4-942a-631b-6805-c338",
       "next": "30f19f42-0c31-11ef-9d3e-0242ac120006-2-9bd9-634a",
       "previous": "31f71398-7877-11ee-89fa-0242ac120005-4-b57c-8c0f-b073-c808"
      },
      {
       "current": "8c52f5b6-787a-11ee-89fa-0242ac120005-6-e5f4-942a-631b-6805-c338-1610",
       "next": "30f19f42-0c31-11ef-9d3e-0242ac120006-3-9bd9-634a-9f72",
       "previous": "31f71398-7877-11ee-89fa-0242ac120005-5-b57c-8c0f-b073-c808-eb7a"
      }
     ],
     "next": "30f19f42-0c31-11ef-9d3e-0242ac120006-4-9bd9-634a-9f72-1b0e",
     "previous": "31f71398-7877-11ee-89fa-0242ac120005-6-b57c-8c0f-b073-c808-eb7a-30ae"
    },
    "scrolled": true
   },
   "outputs": [],
   "source": [
    "pd.DataFrame(osd_info_list)"
   ]
  },
  {
   "cell_type": "markdown",
   "metadata": {
    "lc_cell_meme": {
     "current": "30f19f42-0c31-11ef-9d3e-0242ac120006-4-9bd9-634a-9f72-1b0e",
     "history": [
      {
       "current": "30f19f42-0c31-11ef-9d3e-0242ac120006-1-9bd9",
       "next": "30f1a0dc-0c31-11ef-9d3e-0242ac120006",
       "previous": "8c52f5b6-787a-11ee-89fa-0242ac120005-2-e5f4-942a"
      },
      {
       "current": "30f19f42-0c31-11ef-9d3e-0242ac120006-2-9bd9-634a",
       "next": "30f1a0dc-0c31-11ef-9d3e-0242ac120006-1-e3cf",
       "previous": "8c52f5b6-787a-11ee-89fa-0242ac120005-3-e5f4-942a-631b"
      },
      {
       "current": "30f19f42-0c31-11ef-9d3e-0242ac120006-3-9bd9-634a-9f72",
       "next": "30f1a0dc-0c31-11ef-9d3e-0242ac120006-2-e3cf-c144",
       "previous": "8c52f5b6-787a-11ee-89fa-0242ac120005-4-e5f4-942a-631b-6805"
      },
      {
       "current": "30f19f42-0c31-11ef-9d3e-0242ac120006-4-9bd9-634a-9f72-1b0e",
       "next": "30f1a0dc-0c31-11ef-9d3e-0242ac120006-3-e3cf-c144-8407",
       "previous": "8c52f5b6-787a-11ee-89fa-0242ac120005-5-e5f4-942a-631b-6805-c338"
      }
     ],
     "next": "30f1a0dc-0c31-11ef-9d3e-0242ac120006-4-e3cf-c144-8407-425d",
     "previous": "8c52f5b6-787a-11ee-89fa-0242ac120005-6-e5f4-942a-631b-6805-c338-1610"
    }
   },
   "source": [
    "## OSD サービス状態確認"
   ]
  },
  {
   "cell_type": "code",
   "execution_count": null,
   "metadata": {
    "lc_cell_meme": {
     "current": "30f1a0dc-0c31-11ef-9d3e-0242ac120006-4-e3cf-c144-8407-425d",
     "history": [
      {
       "current": "30f1a0dc-0c31-11ef-9d3e-0242ac120006",
       "next": "a7ce3812-876d-11ee-91d3-0242ac120006-2-79d6-dccd",
       "previous": "30f19f42-0c31-11ef-9d3e-0242ac120006"
      },
      {
       "current": "30f1a0dc-0c31-11ef-9d3e-0242ac120006",
       "next": "82622d56-0c36-11ef-9d3e-0242ac120006",
       "previous": "30f19f42-0c31-11ef-9d3e-0242ac120006"
      },
      {
       "current": "30f1a0dc-0c31-11ef-9d3e-0242ac120006",
       "next": "383ebd3c-0c3d-11ef-9d3e-0242ac120006",
       "previous": "30f19f42-0c31-11ef-9d3e-0242ac120006"
      },
      {
       "current": "30f1a0dc-0c31-11ef-9d3e-0242ac120006-1-e3cf",
       "next": "82622d56-0c36-11ef-9d3e-0242ac120006",
       "previous": "30f19f42-0c31-11ef-9d3e-0242ac120006"
      },
      {
       "current": "30f1a0dc-0c31-11ef-9d3e-0242ac120006-2-e3cf-c144",
       "next": "82622d56-0c36-11ef-9d3e-0242ac120006-1-c78d",
       "previous": "30f19f42-0c31-11ef-9d3e-0242ac120006-1-9bd9"
      },
      {
       "current": "30f1a0dc-0c31-11ef-9d3e-0242ac120006-3-e3cf-c144-8407",
       "next": "82622d56-0c36-11ef-9d3e-0242ac120006-2-c78d-bd53",
       "previous": "30f19f42-0c31-11ef-9d3e-0242ac120006-2-9bd9-634a"
      },
      {
       "current": "30f1a0dc-0c31-11ef-9d3e-0242ac120006-4-e3cf-c144-8407-425d",
       "next": "82622d56-0c36-11ef-9d3e-0242ac120006-3-c78d-bd53-db7d",
       "previous": "30f19f42-0c31-11ef-9d3e-0242ac120006-3-9bd9-634a-9f72"
      }
     ],
     "next": "82622d56-0c36-11ef-9d3e-0242ac120006-4-c78d-bd53-db7d-9fa2",
     "previous": "30f19f42-0c31-11ef-9d3e-0242ac120006-4-9bd9-634a-9f72-1b0e"
    }
   },
   "outputs": [],
   "source": [
    "osd_service_list = []\n",
    "for node in node_list:\n",
    "    name =  node['name']\n",
    "    prov_ip = node['prov_ip']\n",
    "    ret = !ansible -b -m shell -a \"systemctl list-units | grep 'loaded active running' | grep 'Ceph osd'\" $prov_ip\n",
    "    ret.pop(0)\n",
    "    for line in ret:\n",
    "        elems = line.split()\n",
    "        print(\"node={} osd service={}\".format(name,elems[0]))\n",
    "        osd_service = {}\n",
    "        osd_service['host'] = name\n",
    "        osd_service['osd_service'] = elems[0]\n",
    "        osd_service_list.append(osd_service)"
   ]
  },
  {
   "cell_type": "code",
   "execution_count": null,
   "metadata": {
    "lc_cell_meme": {
     "current": "82622d56-0c36-11ef-9d3e-0242ac120006-4-c78d-bd53-db7d-9fa2",
     "history": [
      {
       "current": "82622d56-0c36-11ef-9d3e-0242ac120006",
       "next": "a7ce3812-876d-11ee-91d3-0242ac120006-2-79d6-dccd",
       "previous": "30f1a0dc-0c31-11ef-9d3e-0242ac120006"
      },
      {
       "current": "82622d56-0c36-11ef-9d3e-0242ac120006",
       "next": "a7ce3812-876d-11ee-91d3-0242ac120006-2-79d6-dccd",
       "previous": "383ebd3c-0c3d-11ef-9d3e-0242ac120006"
      },
      {
       "current": "82622d56-0c36-11ef-9d3e-0242ac120006-1-c78d",
       "next": "a7ce3812-876d-11ee-91d3-0242ac120006-2-79d6-dccd",
       "previous": "30f1a0dc-0c31-11ef-9d3e-0242ac120006"
      },
      {
       "current": "82622d56-0c36-11ef-9d3e-0242ac120006-2-c78d-bd53",
       "next": "a7ce3812-876d-11ee-91d3-0242ac120006-3-79d6-dccd-3b48",
       "previous": "30f1a0dc-0c31-11ef-9d3e-0242ac120006-1-e3cf"
      },
      {
       "current": "82622d56-0c36-11ef-9d3e-0242ac120006-3-c78d-bd53-db7d",
       "next": "a7ce3812-876d-11ee-91d3-0242ac120006-4-79d6-dccd-3b48-b995",
       "previous": "30f1a0dc-0c31-11ef-9d3e-0242ac120006-2-e3cf-c144"
      },
      {
       "current": "82622d56-0c36-11ef-9d3e-0242ac120006-4-c78d-bd53-db7d-9fa2",
       "next": "a7ce3812-876d-11ee-91d3-0242ac120006-5-79d6-dccd-3b48-b995-1cbf",
       "previous": "30f1a0dc-0c31-11ef-9d3e-0242ac120006-3-e3cf-c144-8407"
      }
     ],
     "next": "a7ce3812-876d-11ee-91d3-0242ac120006-6-79d6-dccd-3b48-b995-1cbf-9f93",
     "previous": "30f1a0dc-0c31-11ef-9d3e-0242ac120006-4-e3cf-c144-8407-425d"
    }
   },
   "outputs": [],
   "source": [
    "assert len(osd_info_list) == len(osd_service_list) , \"起動していないOSDサービスが存在する\""
   ]
  },
  {
   "cell_type": "markdown",
   "metadata": {
    "lc_cell_meme": {
     "current": "a7ce3812-876d-11ee-91d3-0242ac120006-6-79d6-dccd-3b48-b995-1cbf-9f93",
     "history": [
      {
       "current": "a7ce3812-876d-11ee-91d3-0242ac120006-1-79d6",
       "next": "a7ce3966-876d-11ee-91d3-0242ac120006",
       "previous": "8c52f5b6-787a-11ee-89fa-0242ac120005"
      },
      {
       "current": "a7ce3812-876d-11ee-91d3-0242ac120006-2-79d6-dccd",
       "next": "a7ce3966-876d-11ee-91d3-0242ac120006-1-2611",
       "previous": "8c52f5b6-787a-11ee-89fa-0242ac120005-1-e5f4"
      },
      {
       "current": "a7ce3812-876d-11ee-91d3-0242ac120006-2-79d6-dccd",
       "next": "a7ce3966-876d-11ee-91d3-0242ac120006-2-2611-a5c5",
       "previous": "8c52f5b6-787a-11ee-89fa-0242ac120005-2-e5f4-942a"
      },
      {
       "current": "a7ce3812-876d-11ee-91d3-0242ac120006-2-79d6-dccd",
       "next": "a7ce3966-876d-11ee-91d3-0242ac120006-2-2611-a5c5",
       "previous": "30f1a0dc-0c31-11ef-9d3e-0242ac120006"
      },
      {
       "current": "a7ce3812-876d-11ee-91d3-0242ac120006-3-79d6-dccd-3b48",
       "next": "a7ce3966-876d-11ee-91d3-0242ac120006-2-2611-a5c5",
       "previous": "82622d56-0c36-11ef-9d3e-0242ac120006"
      },
      {
       "current": "a7ce3812-876d-11ee-91d3-0242ac120006-4-79d6-dccd-3b48-b995",
       "next": "a7ce3966-876d-11ee-91d3-0242ac120006-3-2611-a5c5-a206",
       "previous": "82622d56-0c36-11ef-9d3e-0242ac120006-1-c78d"
      },
      {
       "current": "a7ce3812-876d-11ee-91d3-0242ac120006-5-79d6-dccd-3b48-b995-1cbf",
       "next": "a7ce3966-876d-11ee-91d3-0242ac120006-4-2611-a5c5-a206-18a1",
       "previous": "82622d56-0c36-11ef-9d3e-0242ac120006-2-c78d-bd53"
      },
      {
       "current": "a7ce3812-876d-11ee-91d3-0242ac120006-6-79d6-dccd-3b48-b995-1cbf-9f93",
       "next": "a7ce3966-876d-11ee-91d3-0242ac120006-5-2611-a5c5-a206-18a1-02e2",
       "previous": "82622d56-0c36-11ef-9d3e-0242ac120006-3-c78d-bd53-db7d"
      }
     ],
     "next": "a7ce3966-876d-11ee-91d3-0242ac120006-6-2611-a5c5-a206-18a1-02e2-44c6",
     "previous": "82622d56-0c36-11ef-9d3e-0242ac120006-4-c78d-bd53-db7d-9fa2"
    }
   },
   "source": [
    "## 各サービス稼働状態確認"
   ]
  },
  {
   "cell_type": "code",
   "execution_count": null,
   "metadata": {
    "lc_cell_meme": {
     "current": "a7ce3966-876d-11ee-91d3-0242ac120006-6-2611-a5c5-a206-18a1-02e2-44c6",
     "history": [
      {
       "current": "a7ce3966-876d-11ee-91d3-0242ac120006-1-2611",
       "next": "35c581ba-55a3-11e7-b0b2-00163e9c0e35-3-f60b-133a-40ef",
       "previous": "a7ce3812-876d-11ee-91d3-0242ac120006"
      },
      {
       "current": "a7ce3966-876d-11ee-91d3-0242ac120006-2-2611-a5c5",
       "next": "64ea0844-97e6-11ee-91d3-0242ac120006",
       "previous": "a7ce3812-876d-11ee-91d3-0242ac120006-1-79d6"
      },
      {
       "current": "a7ce3966-876d-11ee-91d3-0242ac120006-2-2611-a5c5",
       "next": "5a4c53f2-8764-11ee-91d3-0242ac120006-2-1cf1-4c4e",
       "previous": "a7ce3812-876d-11ee-91d3-0242ac120006-2-79d6-dccd"
      },
      {
       "current": "a7ce3966-876d-11ee-91d3-0242ac120006-3-2611-a5c5-a206",
       "next": "a1d76e9a-0c30-11ef-9d3e-0242ac120006",
       "previous": "a7ce3812-876d-11ee-91d3-0242ac120006-2-79d6-dccd"
      },
      {
       "current": "a7ce3966-876d-11ee-91d3-0242ac120006-4-2611-a5c5-a206-18a1",
       "next": "a1d76e9a-0c30-11ef-9d3e-0242ac120006-1-952f",
       "previous": "a7ce3812-876d-11ee-91d3-0242ac120006-3-79d6-dccd-3b48"
      },
      {
       "current": "a7ce3966-876d-11ee-91d3-0242ac120006-5-2611-a5c5-a206-18a1-02e2",
       "next": "a1d76e9a-0c30-11ef-9d3e-0242ac120006-2-952f-b3b7",
       "previous": "a7ce3812-876d-11ee-91d3-0242ac120006-4-79d6-dccd-3b48-b995"
      },
      {
       "current": "a7ce3966-876d-11ee-91d3-0242ac120006-6-2611-a5c5-a206-18a1-02e2-44c6",
       "next": "a1d76e9a-0c30-11ef-9d3e-0242ac120006-3-952f-b3b7-cd5e",
       "previous": "a7ce3812-876d-11ee-91d3-0242ac120006-5-79d6-dccd-3b48-b995-1cbf"
      }
     ],
     "next": "a1d76e9a-0c30-11ef-9d3e-0242ac120006-4-952f-b3b7-cd5e-e591",
     "previous": "a7ce3812-876d-11ee-91d3-0242ac120006-6-79d6-dccd-3b48-b995-1cbf-9f93"
    }
   },
   "outputs": [],
   "source": [
    "!ansible -b -m shell -a \"cephadm shell -- ceph orch ls 2> /dev/null\" bootstrap"
   ]
  },
  {
   "cell_type": "markdown",
   "metadata": {
    "lc_cell_meme": {
     "current": "a1d76e9a-0c30-11ef-9d3e-0242ac120006-4-952f-b3b7-cd5e-e591",
     "history": [
      {
       "current": "a1d76e9a-0c30-11ef-9d3e-0242ac120006-1-952f",
       "next": "5a4c53f2-8764-11ee-91d3-0242ac120006-2-1cf1-4c4e",
       "previous": "a7ce3966-876d-11ee-91d3-0242ac120006-2-2611-a5c5"
      },
      {
       "current": "a1d76e9a-0c30-11ef-9d3e-0242ac120006-2-952f-b3b7",
       "next": "5a4c53f2-8764-11ee-91d3-0242ac120006-3-1cf1-4c4e-be0c",
       "previous": "a7ce3966-876d-11ee-91d3-0242ac120006-3-2611-a5c5-a206"
      },
      {
       "current": "a1d76e9a-0c30-11ef-9d3e-0242ac120006-3-952f-b3b7-cd5e",
       "next": "5a4c53f2-8764-11ee-91d3-0242ac120006-4-1cf1-4c4e-be0c-fd70",
       "previous": "a7ce3966-876d-11ee-91d3-0242ac120006-4-2611-a5c5-a206-18a1"
      },
      {
       "current": "a1d76e9a-0c30-11ef-9d3e-0242ac120006-4-952f-b3b7-cd5e-e591",
       "next": "5a4c53f2-8764-11ee-91d3-0242ac120006-5-1cf1-4c4e-be0c-fd70-3292",
       "previous": "a7ce3966-876d-11ee-91d3-0242ac120006-5-2611-a5c5-a206-18a1-02e2"
      }
     ],
     "next": "5a4c53f2-8764-11ee-91d3-0242ac120006-6-1cf1-4c4e-be0c-fd70-3292-972b",
     "previous": "a7ce3966-876d-11ee-91d3-0242ac120006-6-2611-a5c5-a206-18a1-02e2-44c6"
    }
   },
   "source": [
    "OSDが全て起動していることを確認。"
   ]
  },
  {
   "cell_type": "markdown",
   "metadata": {
    "lc_cell_meme": {
     "current": "5a4c53f2-8764-11ee-91d3-0242ac120006-6-1cf1-4c4e-be0c-fd70-3292-972b",
     "history": [
      {
       "current": "5a4c53f2-8764-11ee-91d3-0242ac120006-1-1cf1",
       "next": "5a4c55dc-8764-11ee-91d3-0242ac120006",
       "previous": "ac56a252-95bd-11ea-8d02-0242ac120007-3-86ee-3a22-9a71"
      },
      {
       "current": "5a4c53f2-8764-11ee-91d3-0242ac120006-1-1cf1",
       "next": "5a4c55dc-8764-11ee-91d3-0242ac120006",
       "previous": "4549ae2a-876c-11ee-91d3-0242ac120006"
      },
      {
       "current": "5a4c53f2-8764-11ee-91d3-0242ac120006-1-1cf1",
       "next": "5a4c55dc-8764-11ee-91d3-0242ac120006",
       "previous": "8d40ca10-876c-11ee-91d3-0242ac120006"
      },
      {
       "current": "5a4c53f2-8764-11ee-91d3-0242ac120006-2-1cf1-4c4e",
       "next": "5a4c55dc-8764-11ee-91d3-0242ac120006",
       "previous": "4549ae2a-876c-11ee-91d3-0242ac120006"
      },
      {
       "current": "5a4c53f2-8764-11ee-91d3-0242ac120006-2-1cf1-4c4e",
       "next": "5a4c55dc-8764-11ee-91d3-0242ac120006-1-f1b3",
       "previous": "4549ae2a-876c-11ee-91d3-0242ac120006-1-a3f5"
      },
      {
       "current": "5a4c53f2-8764-11ee-91d3-0242ac120006-2-1cf1-4c4e",
       "next": "5a4c55dc-8764-11ee-91d3-0242ac120006-1-f1b3",
       "previous": "a7ce3966-876d-11ee-91d3-0242ac120006-2-2611-a5c5"
      },
      {
       "current": "5a4c53f2-8764-11ee-91d3-0242ac120006-3-1cf1-4c4e-be0c",
       "next": "5a4c55dc-8764-11ee-91d3-0242ac120006-1-f1b3",
       "previous": "a1d76e9a-0c30-11ef-9d3e-0242ac120006"
      },
      {
       "current": "5a4c53f2-8764-11ee-91d3-0242ac120006-4-1cf1-4c4e-be0c-fd70",
       "next": "5a4c55dc-8764-11ee-91d3-0242ac120006-2-f1b3-fef3",
       "previous": "a1d76e9a-0c30-11ef-9d3e-0242ac120006-1-952f"
      },
      {
       "current": "5a4c53f2-8764-11ee-91d3-0242ac120006-5-1cf1-4c4e-be0c-fd70-3292",
       "next": "5a4c55dc-8764-11ee-91d3-0242ac120006-3-f1b3-fef3-d580",
       "previous": "a1d76e9a-0c30-11ef-9d3e-0242ac120006-2-952f-b3b7"
      },
      {
       "current": "5a4c53f2-8764-11ee-91d3-0242ac120006-6-1cf1-4c4e-be0c-fd70-3292-972b",
       "next": "5a4c55dc-8764-11ee-91d3-0242ac120006-4-f1b3-fef3-d580-6a17",
       "previous": "a1d76e9a-0c30-11ef-9d3e-0242ac120006-3-952f-b3b7-cd5e"
      }
     ],
     "next": "5a4c55dc-8764-11ee-91d3-0242ac120006-5-f1b3-fef3-d580-6a17-7805",
     "previous": "a1d76e9a-0c30-11ef-9d3e-0242ac120006-4-952f-b3b7-cd5e-e591"
    }
   },
   "source": [
    "## OSD同期処理の有効化"
   ]
  },
  {
   "cell_type": "code",
   "execution_count": null,
   "metadata": {
    "lc_cell_meme": {
     "current": "5a4c55dc-8764-11ee-91d3-0242ac120006-5-f1b3-fef3-d580-6a17-7805",
     "history": [
      {
       "current": "5a4c55dc-8764-11ee-91d3-0242ac120006",
       "next": "5a4c569a-8764-11ee-91d3-0242ac120006",
       "previous": "5a4c53f2-8764-11ee-91d3-0242ac120006"
      },
      {
       "current": "5a4c55dc-8764-11ee-91d3-0242ac120006-1-f1b3",
       "next": "e982a8e6-8764-11ee-91d3-0242ac120006",
       "previous": "5a4c53f2-8764-11ee-91d3-0242ac120006-1-1cf1"
      },
      {
       "current": "5a4c55dc-8764-11ee-91d3-0242ac120006-2-f1b3-fef3",
       "next": "e982a8e6-8764-11ee-91d3-0242ac120006-1-ac6a",
       "previous": "5a4c53f2-8764-11ee-91d3-0242ac120006-2-1cf1-4c4e"
      },
      {
       "current": "5a4c55dc-8764-11ee-91d3-0242ac120006-3-f1b3-fef3-d580",
       "next": "e982a8e6-8764-11ee-91d3-0242ac120006-2-ac6a-d622",
       "previous": "5a4c53f2-8764-11ee-91d3-0242ac120006-3-1cf1-4c4e-be0c"
      },
      {
       "current": "5a4c55dc-8764-11ee-91d3-0242ac120006-4-f1b3-fef3-d580-6a17",
       "next": "e982a8e6-8764-11ee-91d3-0242ac120006-3-ac6a-d622-b74d",
       "previous": "5a4c53f2-8764-11ee-91d3-0242ac120006-4-1cf1-4c4e-be0c-fd70"
      },
      {
       "current": "5a4c55dc-8764-11ee-91d3-0242ac120006-5-f1b3-fef3-d580-6a17-7805",
       "next": "e982a8e6-8764-11ee-91d3-0242ac120006-4-ac6a-d622-b74d-2a99",
       "previous": "5a4c53f2-8764-11ee-91d3-0242ac120006-5-1cf1-4c4e-be0c-fd70-3292"
      }
     ],
     "next": "e982a8e6-8764-11ee-91d3-0242ac120006-5-ac6a-d622-b74d-2a99-186e",
     "previous": "5a4c53f2-8764-11ee-91d3-0242ac120006-6-1cf1-4c4e-be0c-fd70-3292-972b"
    }
   },
   "outputs": [],
   "source": [
    "!ansible -b -m shell -a \"cephadm shell -- ceph osd unset noout\" bootstrap"
   ]
  },
  {
   "cell_type": "code",
   "execution_count": null,
   "metadata": {
    "lc_cell_meme": {
     "current": "e982a8e6-8764-11ee-91d3-0242ac120006-5-ac6a-d622-b74d-2a99-186e",
     "history": [
      {
       "current": "e982a8e6-8764-11ee-91d3-0242ac120006-1-ac6a",
       "next": "e982aa94-8764-11ee-91d3-0242ac120006",
       "previous": "5a4c55dc-8764-11ee-91d3-0242ac120006"
      },
      {
       "current": "e982a8e6-8764-11ee-91d3-0242ac120006-2-ac6a-d622",
       "next": "e982aa94-8764-11ee-91d3-0242ac120006-1-b912",
       "previous": "5a4c55dc-8764-11ee-91d3-0242ac120006-1-f1b3"
      },
      {
       "current": "e982a8e6-8764-11ee-91d3-0242ac120006-3-ac6a-d622-b74d",
       "next": "e982aa94-8764-11ee-91d3-0242ac120006-2-b912-8a34",
       "previous": "5a4c55dc-8764-11ee-91d3-0242ac120006-2-f1b3-fef3"
      },
      {
       "current": "e982a8e6-8764-11ee-91d3-0242ac120006-4-ac6a-d622-b74d-2a99",
       "next": "e982aa94-8764-11ee-91d3-0242ac120006-3-b912-8a34-d9d8",
       "previous": "5a4c55dc-8764-11ee-91d3-0242ac120006-3-f1b3-fef3-d580"
      },
      {
       "current": "e982a8e6-8764-11ee-91d3-0242ac120006-5-ac6a-d622-b74d-2a99-186e",
       "next": "e982aa94-8764-11ee-91d3-0242ac120006-4-b912-8a34-d9d8-2e97",
       "previous": "5a4c55dc-8764-11ee-91d3-0242ac120006-4-f1b3-fef3-d580-6a17"
      }
     ],
     "next": "e982aa94-8764-11ee-91d3-0242ac120006-5-b912-8a34-d9d8-2e97-0ccb",
     "previous": "5a4c55dc-8764-11ee-91d3-0242ac120006-5-f1b3-fef3-d580-6a17-7805"
    }
   },
   "outputs": [],
   "source": [
    "!ansible -b -m shell -a \"cephadm shell -- ceph osd unset norecover\" bootstrap"
   ]
  },
  {
   "cell_type": "code",
   "execution_count": null,
   "metadata": {
    "lc_cell_meme": {
     "current": "e982aa94-8764-11ee-91d3-0242ac120006-5-b912-8a34-d9d8-2e97-0ccb",
     "history": [
      {
       "current": "e982aa94-8764-11ee-91d3-0242ac120006-1-b912",
       "next": "e982ab34-8764-11ee-91d3-0242ac120006",
       "previous": "e982a8e6-8764-11ee-91d3-0242ac120006"
      },
      {
       "current": "e982aa94-8764-11ee-91d3-0242ac120006-2-b912-8a34",
       "next": "e982ab34-8764-11ee-91d3-0242ac120006-1-e491",
       "previous": "e982a8e6-8764-11ee-91d3-0242ac120006-1-ac6a"
      },
      {
       "current": "e982aa94-8764-11ee-91d3-0242ac120006-3-b912-8a34-d9d8",
       "next": "e982ab34-8764-11ee-91d3-0242ac120006-2-e491-38c4",
       "previous": "e982a8e6-8764-11ee-91d3-0242ac120006-2-ac6a-d622"
      },
      {
       "current": "e982aa94-8764-11ee-91d3-0242ac120006-4-b912-8a34-d9d8-2e97",
       "next": "e982ab34-8764-11ee-91d3-0242ac120006-3-e491-38c4-45eb",
       "previous": "e982a8e6-8764-11ee-91d3-0242ac120006-3-ac6a-d622-b74d"
      },
      {
       "current": "e982aa94-8764-11ee-91d3-0242ac120006-5-b912-8a34-d9d8-2e97-0ccb",
       "next": "e982ab34-8764-11ee-91d3-0242ac120006-4-e491-38c4-45eb-87c3",
       "previous": "e982a8e6-8764-11ee-91d3-0242ac120006-4-ac6a-d622-b74d-2a99"
      }
     ],
     "next": "e982ab34-8764-11ee-91d3-0242ac120006-5-e491-38c4-45eb-87c3-ca26",
     "previous": "e982a8e6-8764-11ee-91d3-0242ac120006-5-ac6a-d622-b74d-2a99-186e"
    }
   },
   "outputs": [],
   "source": [
    "!ansible -b -m shell -a \"cephadm shell -- ceph osd unset norebalance\" bootstrap"
   ]
  },
  {
   "cell_type": "code",
   "execution_count": null,
   "metadata": {
    "lc_cell_meme": {
     "current": "e982ab34-8764-11ee-91d3-0242ac120006-5-e491-38c4-45eb-87c3-ca26",
     "history": [
      {
       "current": "e982ab34-8764-11ee-91d3-0242ac120006-1-e491",
       "next": "e982abac-8764-11ee-91d3-0242ac120006",
       "previous": "e982aa94-8764-11ee-91d3-0242ac120006"
      },
      {
       "current": "e982ab34-8764-11ee-91d3-0242ac120006-2-e491-38c4",
       "next": "e982abac-8764-11ee-91d3-0242ac120006-1-3d49",
       "previous": "e982aa94-8764-11ee-91d3-0242ac120006-1-b912"
      },
      {
       "current": "e982ab34-8764-11ee-91d3-0242ac120006-3-e491-38c4-45eb",
       "next": "e982abac-8764-11ee-91d3-0242ac120006-2-3d49-d938",
       "previous": "e982aa94-8764-11ee-91d3-0242ac120006-2-b912-8a34"
      },
      {
       "current": "e982ab34-8764-11ee-91d3-0242ac120006-4-e491-38c4-45eb-87c3",
       "next": "e982abac-8764-11ee-91d3-0242ac120006-3-3d49-d938-e089",
       "previous": "e982aa94-8764-11ee-91d3-0242ac120006-3-b912-8a34-d9d8"
      },
      {
       "current": "e982ab34-8764-11ee-91d3-0242ac120006-5-e491-38c4-45eb-87c3-ca26",
       "next": "e982abac-8764-11ee-91d3-0242ac120006-4-3d49-d938-e089-2052",
       "previous": "e982aa94-8764-11ee-91d3-0242ac120006-4-b912-8a34-d9d8-2e97"
      }
     ],
     "next": "e982abac-8764-11ee-91d3-0242ac120006-5-3d49-d938-e089-2052-c919",
     "previous": "e982aa94-8764-11ee-91d3-0242ac120006-5-b912-8a34-d9d8-2e97-0ccb"
    }
   },
   "outputs": [],
   "source": [
    "!ansible -b -m shell -a \"cephadm shell -- ceph osd unset nobackfill\" bootstrap"
   ]
  },
  {
   "cell_type": "code",
   "execution_count": null,
   "metadata": {
    "lc_cell_meme": {
     "current": "e982abac-8764-11ee-91d3-0242ac120006-5-3d49-d938-e089-2052-c919",
     "history": [
      {
       "current": "e982abac-8764-11ee-91d3-0242ac120006-1-3d49",
       "next": "e982ac1a-8764-11ee-91d3-0242ac120006",
       "previous": "e982ab34-8764-11ee-91d3-0242ac120006"
      },
      {
       "current": "e982abac-8764-11ee-91d3-0242ac120006-2-3d49-d938",
       "next": "e982ac1a-8764-11ee-91d3-0242ac120006-1-491d",
       "previous": "e982ab34-8764-11ee-91d3-0242ac120006-1-e491"
      },
      {
       "current": "e982abac-8764-11ee-91d3-0242ac120006-3-3d49-d938-e089",
       "next": "e982ac1a-8764-11ee-91d3-0242ac120006-2-491d-ab0c",
       "previous": "e982ab34-8764-11ee-91d3-0242ac120006-2-e491-38c4"
      },
      {
       "current": "e982abac-8764-11ee-91d3-0242ac120006-4-3d49-d938-e089-2052",
       "next": "e982ac1a-8764-11ee-91d3-0242ac120006-3-491d-ab0c-08d6",
       "previous": "e982ab34-8764-11ee-91d3-0242ac120006-3-e491-38c4-45eb"
      },
      {
       "current": "e982abac-8764-11ee-91d3-0242ac120006-5-3d49-d938-e089-2052-c919",
       "next": "e982ac1a-8764-11ee-91d3-0242ac120006-4-491d-ab0c-08d6-9f32",
       "previous": "e982ab34-8764-11ee-91d3-0242ac120006-4-e491-38c4-45eb-87c3"
      }
     ],
     "next": "e982ac1a-8764-11ee-91d3-0242ac120006-5-491d-ab0c-08d6-9f32-b00a",
     "previous": "e982ab34-8764-11ee-91d3-0242ac120006-5-e491-38c4-45eb-87c3-ca26"
    }
   },
   "outputs": [],
   "source": [
    "!ansible -b -m shell -a \"cephadm shell -- ceph osd unset nodown\" bootstrap"
   ]
  },
  {
   "cell_type": "code",
   "execution_count": null,
   "metadata": {
    "lc_cell_meme": {
     "current": "e982ac1a-8764-11ee-91d3-0242ac120006-5-491d-ab0c-08d6-9f32-b00a",
     "history": [
      {
       "current": "e982ac1a-8764-11ee-91d3-0242ac120006",
       "next": "e982ac92-8764-11ee-91d3-0242ac120006",
       "previous": "e982abac-8764-11ee-91d3-0242ac120006"
      },
      {
       "current": "e982ac1a-8764-11ee-91d3-0242ac120006",
       "next": "1c10c3d4-7882-11ee-89fa-0242ac120005",
       "previous": "e982abac-8764-11ee-91d3-0242ac120006"
      },
      {
       "current": "e982ac1a-8764-11ee-91d3-0242ac120006-1-491d",
       "next": "392aa268-876a-11ee-91d3-0242ac120006",
       "previous": "e982abac-8764-11ee-91d3-0242ac120006"
      },
      {
       "current": "e982ac1a-8764-11ee-91d3-0242ac120006-2-491d-ab0c",
       "next": "392aa268-876a-11ee-91d3-0242ac120006-1-fca6",
       "previous": "e982abac-8764-11ee-91d3-0242ac120006-1-3d49"
      },
      {
       "current": "e982ac1a-8764-11ee-91d3-0242ac120006-3-491d-ab0c-08d6",
       "next": "392aa268-876a-11ee-91d3-0242ac120006-2-fca6-ad7c",
       "previous": "e982abac-8764-11ee-91d3-0242ac120006-2-3d49-d938"
      },
      {
       "current": "e982ac1a-8764-11ee-91d3-0242ac120006-4-491d-ab0c-08d6-9f32",
       "next": "392aa268-876a-11ee-91d3-0242ac120006-3-fca6-ad7c-35c9",
       "previous": "e982abac-8764-11ee-91d3-0242ac120006-3-3d49-d938-e089"
      },
      {
       "current": "e982ac1a-8764-11ee-91d3-0242ac120006-5-491d-ab0c-08d6-9f32-b00a",
       "next": "392aa268-876a-11ee-91d3-0242ac120006-4-fca6-ad7c-35c9-c539",
       "previous": "e982abac-8764-11ee-91d3-0242ac120006-4-3d49-d938-e089-2052"
      }
     ],
     "next": "392aa268-876a-11ee-91d3-0242ac120006-5-fca6-ad7c-35c9-c539-f742",
     "previous": "e982abac-8764-11ee-91d3-0242ac120006-5-3d49-d938-e089-2052-c919"
    }
   },
   "outputs": [],
   "source": [
    "!ansible -b -m shell -a \"cephadm shell -- ceph osd unset pause\" bootstrap"
   ]
  },
  {
   "cell_type": "code",
   "execution_count": null,
   "metadata": {
    "lc_cell_meme": {
     "current": "392aa268-876a-11ee-91d3-0242ac120006-5-fca6-ad7c-35c9-c539-f742",
     "history": [
      {
       "current": "392aa268-876a-11ee-91d3-0242ac120006-1-fca6",
       "next": "1c10c3d4-7882-11ee-89fa-0242ac120005",
       "previous": "e982ac1a-8764-11ee-91d3-0242ac120006"
      },
      {
       "current": "392aa268-876a-11ee-91d3-0242ac120006-2-fca6-ad7c",
       "next": "1c10c3d4-7882-11ee-89fa-0242ac120005-1-1393",
       "previous": "e982ac1a-8764-11ee-91d3-0242ac120006-1-491d"
      },
      {
       "current": "392aa268-876a-11ee-91d3-0242ac120006-3-fca6-ad7c-35c9",
       "next": "1c10c3d4-7882-11ee-89fa-0242ac120005-2-1393-1661",
       "previous": "e982ac1a-8764-11ee-91d3-0242ac120006-2-491d-ab0c"
      },
      {
       "current": "392aa268-876a-11ee-91d3-0242ac120006-4-fca6-ad7c-35c9-c539",
       "next": "1c10c3d4-7882-11ee-89fa-0242ac120005-3-1393-1661-b561",
       "previous": "e982ac1a-8764-11ee-91d3-0242ac120006-3-491d-ab0c-08d6"
      },
      {
       "current": "392aa268-876a-11ee-91d3-0242ac120006-5-fca6-ad7c-35c9-c539-f742",
       "next": "1c10c3d4-7882-11ee-89fa-0242ac120005-4-1393-1661-b561-d825",
       "previous": "e982ac1a-8764-11ee-91d3-0242ac120006-4-491d-ab0c-08d6-9f32"
      }
     ],
     "next": "1c10c3d4-7882-11ee-89fa-0242ac120005-5-1393-1661-b561-d825-d367",
     "previous": "e982ac1a-8764-11ee-91d3-0242ac120006-5-491d-ab0c-08d6-9f32-b00a"
    }
   },
   "outputs": [],
   "source": [
    "!ansible -b -m shell -a \"cephadm shell -- ceph -s 2> /dev/null\" bootstrap"
   ]
  },
  {
   "cell_type": "markdown",
   "metadata": {
    "lc_cell_meme": {
     "current": "1c10c3d4-7882-11ee-89fa-0242ac120005-5-1393-1661-b561-d825-d367",
     "history": [
      {
       "current": "1c10c3d4-7882-11ee-89fa-0242ac120005",
       "next": "31f70f06-7877-11ee-89fa-0242ac120005",
       "previous": "ac56a252-95bd-11ea-8d02-0242ac120007-3-86ee-3a22-9a71"
      },
      {
       "current": "1c10c3d4-7882-11ee-89fa-0242ac120005",
       "next": "31f70f06-7877-11ee-89fa-0242ac120005",
       "previous": "5a4c5726-8764-11ee-91d3-0242ac120006"
      },
      {
       "current": "1c10c3d4-7882-11ee-89fa-0242ac120005",
       "next": "31f70f06-7877-11ee-89fa-0242ac120005",
       "previous": "e982ac1a-8764-11ee-91d3-0242ac120006"
      },
      {
       "current": "1c10c3d4-7882-11ee-89fa-0242ac120005-1-1393",
       "next": "31f70f06-7877-11ee-89fa-0242ac120005",
       "previous": "392aa268-876a-11ee-91d3-0242ac120006"
      },
      {
       "current": "1c10c3d4-7882-11ee-89fa-0242ac120005-2-1393-1661",
       "next": "31f70f06-7877-11ee-89fa-0242ac120005-1-232e",
       "previous": "392aa268-876a-11ee-91d3-0242ac120006-1-fca6"
      },
      {
       "current": "1c10c3d4-7882-11ee-89fa-0242ac120005-3-1393-1661-b561",
       "next": "31f70f06-7877-11ee-89fa-0242ac120005-2-232e-5404",
       "previous": "392aa268-876a-11ee-91d3-0242ac120006-2-fca6-ad7c"
      },
      {
       "current": "1c10c3d4-7882-11ee-89fa-0242ac120005-4-1393-1661-b561-d825",
       "next": "31f70f06-7877-11ee-89fa-0242ac120005-3-232e-5404-914c",
       "previous": "392aa268-876a-11ee-91d3-0242ac120006-3-fca6-ad7c-35c9"
      },
      {
       "current": "1c10c3d4-7882-11ee-89fa-0242ac120005-5-1393-1661-b561-d825-d367",
       "next": "31f70f06-7877-11ee-89fa-0242ac120005-4-232e-5404-914c-0e8c",
       "previous": "392aa268-876a-11ee-91d3-0242ac120006-4-fca6-ad7c-35c9-c539"
      }
     ],
     "next": "31f70f06-7877-11ee-89fa-0242ac120005-5-232e-5404-914c-0e8c-1ccd",
     "previous": "392aa268-876a-11ee-91d3-0242ac120006-5-fca6-ad7c-35c9-c539-f742"
    }
   },
   "source": [
    "## 全てのOSD情報取得"
   ]
  },
  {
   "cell_type": "code",
   "execution_count": null,
   "metadata": {
    "lc_cell_meme": {
     "current": "31f70f06-7877-11ee-89fa-0242ac120005-5-232e-5404-914c-0e8c-1ccd",
     "history": [
      {
       "current": "31f70f06-7877-11ee-89fa-0242ac120005",
       "next": "31f71280-7877-11ee-89fa-0242ac120005",
       "previous": "ac56a252-95bd-11ea-8d02-0242ac120007-3-86ee-3a22-9a71"
      },
      {
       "current": "31f70f06-7877-11ee-89fa-0242ac120005",
       "next": "31f71280-7877-11ee-89fa-0242ac120005",
       "previous": "fdebec4a-7880-11ee-89fa-0242ac120005"
      },
      {
       "current": "31f70f06-7877-11ee-89fa-0242ac120005-1-232e",
       "next": "31f71280-7877-11ee-89fa-0242ac120005",
       "previous": "1c10c3d4-7882-11ee-89fa-0242ac120005"
      },
      {
       "current": "31f70f06-7877-11ee-89fa-0242ac120005-2-232e-5404",
       "next": "31f71280-7877-11ee-89fa-0242ac120005-1-4c22",
       "previous": "1c10c3d4-7882-11ee-89fa-0242ac120005-1-1393"
      },
      {
       "current": "31f70f06-7877-11ee-89fa-0242ac120005-3-232e-5404-914c",
       "next": "31f71280-7877-11ee-89fa-0242ac120005-2-4c22-da2e",
       "previous": "1c10c3d4-7882-11ee-89fa-0242ac120005-2-1393-1661"
      },
      {
       "current": "31f70f06-7877-11ee-89fa-0242ac120005-4-232e-5404-914c-0e8c",
       "next": "31f71280-7877-11ee-89fa-0242ac120005-3-4c22-da2e-fd73",
       "previous": "1c10c3d4-7882-11ee-89fa-0242ac120005-3-1393-1661-b561"
      },
      {
       "current": "31f70f06-7877-11ee-89fa-0242ac120005-5-232e-5404-914c-0e8c-1ccd",
       "next": "31f71280-7877-11ee-89fa-0242ac120005-4-4c22-da2e-fd73-85b5",
       "previous": "1c10c3d4-7882-11ee-89fa-0242ac120005-4-1393-1661-b561-d825"
      }
     ],
     "next": "31f71280-7877-11ee-89fa-0242ac120005-5-4c22-da2e-fd73-85b5-c68f",
     "previous": "1c10c3d4-7882-11ee-89fa-0242ac120005-5-1393-1661-b561-d825-d367"
    }
   },
   "outputs": [],
   "source": [
    "ret = !ansible -b -m shell -a 'cephadm shell -- ceph osd tree --format=json 2> /dev/null' bootstrap"
   ]
  },
  {
   "cell_type": "code",
   "execution_count": null,
   "metadata": {
    "lc_cell_meme": {
     "current": "31f71280-7877-11ee-89fa-0242ac120005-5-4c22-da2e-fd73-85b5-c68f",
     "history": [
      {
       "current": "31f71280-7877-11ee-89fa-0242ac120005-1-4c22",
       "next": "31f7132a-7877-11ee-89fa-0242ac120005",
       "previous": "31f70f06-7877-11ee-89fa-0242ac120005"
      },
      {
       "current": "31f71280-7877-11ee-89fa-0242ac120005-2-4c22-da2e",
       "next": "31f7132a-7877-11ee-89fa-0242ac120005-1-c377",
       "previous": "31f70f06-7877-11ee-89fa-0242ac120005-1-232e"
      },
      {
       "current": "31f71280-7877-11ee-89fa-0242ac120005-3-4c22-da2e-fd73",
       "next": "31f7132a-7877-11ee-89fa-0242ac120005-2-c377-a9fb",
       "previous": "31f70f06-7877-11ee-89fa-0242ac120005-2-232e-5404"
      },
      {
       "current": "31f71280-7877-11ee-89fa-0242ac120005-4-4c22-da2e-fd73-85b5",
       "next": "31f7132a-7877-11ee-89fa-0242ac120005-3-c377-a9fb-28f5",
       "previous": "31f70f06-7877-11ee-89fa-0242ac120005-3-232e-5404-914c"
      },
      {
       "current": "31f71280-7877-11ee-89fa-0242ac120005-5-4c22-da2e-fd73-85b5-c68f",
       "next": "31f7132a-7877-11ee-89fa-0242ac120005-4-c377-a9fb-28f5-e39a",
       "previous": "31f70f06-7877-11ee-89fa-0242ac120005-4-232e-5404-914c-0e8c"
      }
     ],
     "next": "31f7132a-7877-11ee-89fa-0242ac120005-5-c377-a9fb-28f5-e39a-bb9a",
     "previous": "31f70f06-7877-11ee-89fa-0242ac120005-5-232e-5404-914c-0e8c-1ccd"
    },
    "scrolled": true
   },
   "outputs": [],
   "source": [
    "print(ret)"
   ]
  },
  {
   "cell_type": "code",
   "execution_count": null,
   "metadata": {
    "lc_cell_meme": {
     "current": "31f7132a-7877-11ee-89fa-0242ac120005-5-c377-a9fb-28f5-e39a-bb9a",
     "history": [
      {
       "current": "31f7132a-7877-11ee-89fa-0242ac120005-1-c377",
       "next": "31f71398-7877-11ee-89fa-0242ac120005",
       "previous": "31f71280-7877-11ee-89fa-0242ac120005"
      },
      {
       "current": "31f7132a-7877-11ee-89fa-0242ac120005-2-c377-a9fb",
       "next": "31f71398-7877-11ee-89fa-0242ac120005-1-b57c",
       "previous": "31f71280-7877-11ee-89fa-0242ac120005-1-4c22"
      },
      {
       "current": "31f7132a-7877-11ee-89fa-0242ac120005-3-c377-a9fb-28f5",
       "next": "31f71398-7877-11ee-89fa-0242ac120005-2-b57c-44f4",
       "previous": "31f71280-7877-11ee-89fa-0242ac120005-2-4c22-da2e"
      },
      {
       "current": "31f7132a-7877-11ee-89fa-0242ac120005-4-c377-a9fb-28f5-e39a",
       "next": "31f71398-7877-11ee-89fa-0242ac120005-3-b57c-44f4-f9fc",
       "previous": "31f71280-7877-11ee-89fa-0242ac120005-3-4c22-da2e-fd73"
      },
      {
       "current": "31f7132a-7877-11ee-89fa-0242ac120005-5-c377-a9fb-28f5-e39a-bb9a",
       "next": "31f71398-7877-11ee-89fa-0242ac120005-4-b57c-44f4-f9fc-d0a1",
       "previous": "31f71280-7877-11ee-89fa-0242ac120005-4-4c22-da2e-fd73-85b5"
      }
     ],
     "next": "31f71398-7877-11ee-89fa-0242ac120005-5-b57c-44f4-f9fc-d0a1-a23c",
     "previous": "31f71280-7877-11ee-89fa-0242ac120005-5-4c22-da2e-fd73-85b5-c68f"
    },
    "scrolled": true
   },
   "outputs": [],
   "source": [
    "osd_tree = json.loads(ret[2])\n",
    "print(json.dumps(osd_tree, indent=2))"
   ]
  },
  {
   "cell_type": "code",
   "execution_count": null,
   "metadata": {
    "lc_cell_meme": {
     "current": "31f71398-7877-11ee-89fa-0242ac120005-5-b57c-44f4-f9fc-d0a1-a23c",
     "history": [
      {
       "current": "31f71398-7877-11ee-89fa-0242ac120005",
       "next": "8f9c95d6-716a-11ee-89fa-0242ac120005",
       "previous": "31f7132a-7877-11ee-89fa-0242ac120005"
      },
      {
       "current": "31f71398-7877-11ee-89fa-0242ac120005",
       "next": "35c581ba-55a3-11e7-b0b2-00163e9c0e35-3-f60b-133a-40ef",
       "previous": "31f7132a-7877-11ee-89fa-0242ac120005"
      },
      {
       "current": "31f71398-7877-11ee-89fa-0242ac120005",
       "next": "8c52f2dc-787a-11ee-89fa-0242ac120005",
       "previous": "31f7132a-7877-11ee-89fa-0242ac120005"
      },
      {
       "current": "31f71398-7877-11ee-89fa-0242ac120005-1-b57c",
       "next": "8c52f5b6-787a-11ee-89fa-0242ac120005",
       "previous": "31f7132a-7877-11ee-89fa-0242ac120005"
      },
      {
       "current": "31f71398-7877-11ee-89fa-0242ac120005-2-b57c-44f4",
       "next": "8c52f5b6-787a-11ee-89fa-0242ac120005-1-e5f4",
       "previous": "31f7132a-7877-11ee-89fa-0242ac120005-1-c377"
      },
      {
       "current": "31f71398-7877-11ee-89fa-0242ac120005-3-b57c-44f4-f9fc",
       "next": "8c52f5b6-787a-11ee-89fa-0242ac120005-2-e5f4-ba54",
       "previous": "31f7132a-7877-11ee-89fa-0242ac120005-2-c377-a9fb"
      },
      {
       "current": "31f71398-7877-11ee-89fa-0242ac120005-4-b57c-44f4-f9fc-d0a1",
       "next": "8c52f5b6-787a-11ee-89fa-0242ac120005-3-e5f4-ba54-be5f",
       "previous": "31f7132a-7877-11ee-89fa-0242ac120005-3-c377-a9fb-28f5"
      },
      {
       "current": "31f71398-7877-11ee-89fa-0242ac120005-5-b57c-44f4-f9fc-d0a1-a23c",
       "next": "8c52f5b6-787a-11ee-89fa-0242ac120005-4-e5f4-ba54-be5f-8d8f",
       "previous": "31f7132a-7877-11ee-89fa-0242ac120005-4-c377-a9fb-28f5-e39a"
      }
     ],
     "next": "8c52f5b6-787a-11ee-89fa-0242ac120005-5-e5f4-ba54-be5f-8d8f-5a01",
     "previous": "31f7132a-7877-11ee-89fa-0242ac120005-5-c377-a9fb-28f5-e39a-bb9a"
    }
   },
   "outputs": [],
   "source": [
    "host_map = {}\n",
    "osd_map = {}\n",
    "osd_info_list = []\n",
    "\n",
    "nodes = osd_tree['nodes']\n",
    "for osd_tree_info in nodes:\n",
    "    info_type = osd_tree_info.get('type',None)\n",
    "    if info_type == \"host\":\n",
    "        host_map[osd_tree_info['name']] = osd_tree_info\n",
    "    elif  info_type == \"osd\":\n",
    "        osd_map[osd_tree_info['id']] = osd_tree_info\n",
    "\n",
    "for key,val in host_map.items():\n",
    "    children = val.get('children',[])\n",
    "    for osd_id in children:\n",
    "        osd = osd_map.get(osd_id,None)\n",
    "        if osd is not None:\n",
    "            osd['host_name'] = key\n",
    "            osd.pop('pool_weights')\n",
    "            osd_info_list.append(osd)\n"
   ]
  },
  {
   "cell_type": "code",
   "execution_count": null,
   "metadata": {
    "lc_cell_meme": {
     "current": "8c52f5b6-787a-11ee-89fa-0242ac120005-5-e5f4-ba54-be5f-8d8f-5a01",
     "history": [
      {
       "current": "8c52f5b6-787a-11ee-89fa-0242ac120005",
       "next": "8c52f66a-787a-11ee-89fa-0242ac120005",
       "previous": "8c52f2dc-787a-11ee-89fa-0242ac120005"
      },
      {
       "current": "8c52f5b6-787a-11ee-89fa-0242ac120005",
       "next": "1c10c596-7882-11ee-89fa-0242ac120005",
       "previous": "8c52f2dc-787a-11ee-89fa-0242ac120005"
      },
      {
       "current": "8c52f5b6-787a-11ee-89fa-0242ac120005",
       "next": "1c10c596-7882-11ee-89fa-0242ac120005-1-83a6",
       "previous": "8c52f2dc-787a-11ee-89fa-0242ac120005"
      },
      {
       "current": "8c52f5b6-787a-11ee-89fa-0242ac120005",
       "next": "1c10c596-7882-11ee-89fa-0242ac120005-1-83a6",
       "previous": "31f71398-7877-11ee-89fa-0242ac120005"
      },
      {
       "current": "8c52f5b6-787a-11ee-89fa-0242ac120005",
       "next": "3109ce1a-8765-11ee-91d3-0242ac120006",
       "previous": "31f71398-7877-11ee-89fa-0242ac120005"
      },
      {
       "current": "8c52f5b6-787a-11ee-89fa-0242ac120005",
       "next": "3109ce1a-8765-11ee-91d3-0242ac120006-1-9be3",
       "previous": "31f71398-7877-11ee-89fa-0242ac120005"
      },
      {
       "current": "8c52f5b6-787a-11ee-89fa-0242ac120005",
       "next": "35c581ba-55a3-11e7-b0b2-00163e9c0e35-3-f60b-133a-40ef",
       "previous": "31f71398-7877-11ee-89fa-0242ac120005"
      },
      {
       "current": "8c52f5b6-787a-11ee-89fa-0242ac120005-1-e5f4",
       "next": "a7ce3812-876d-11ee-91d3-0242ac120006",
       "previous": "31f71398-7877-11ee-89fa-0242ac120005"
      },
      {
       "current": "8c52f5b6-787a-11ee-89fa-0242ac120005-2-e5f4-ba54",
       "next": "a7ce3812-876d-11ee-91d3-0242ac120006-1-79d6",
       "previous": "31f71398-7877-11ee-89fa-0242ac120005-1-b57c"
      },
      {
       "current": "8c52f5b6-787a-11ee-89fa-0242ac120005-3-e5f4-ba54-be5f",
       "next": "a7ce3812-876d-11ee-91d3-0242ac120006-2-79d6-3b6e",
       "previous": "31f71398-7877-11ee-89fa-0242ac120005-2-b57c-44f4"
      },
      {
       "current": "8c52f5b6-787a-11ee-89fa-0242ac120005-4-e5f4-ba54-be5f-8d8f",
       "next": "a7ce3812-876d-11ee-91d3-0242ac120006-3-79d6-3b6e-c0d0",
       "previous": "31f71398-7877-11ee-89fa-0242ac120005-3-b57c-44f4-f9fc"
      },
      {
       "current": "8c52f5b6-787a-11ee-89fa-0242ac120005-5-e5f4-ba54-be5f-8d8f-5a01",
       "next": "a7ce3812-876d-11ee-91d3-0242ac120006-4-79d6-3b6e-c0d0-5942",
       "previous": "31f71398-7877-11ee-89fa-0242ac120005-4-b57c-44f4-f9fc-d0a1"
      }
     ],
     "next": "a7ce3812-876d-11ee-91d3-0242ac120006-5-79d6-3b6e-c0d0-5942-d00d",
     "previous": "31f71398-7877-11ee-89fa-0242ac120005-5-b57c-44f4-f9fc-d0a1-a23c"
    },
    "scrolled": true
   },
   "outputs": [],
   "source": [
    "pd.DataFrame(osd_info_list)"
   ]
  },
  {
   "cell_type": "markdown",
   "metadata": {
    "lc_cell_meme": {
     "current": "a7ce3812-876d-11ee-91d3-0242ac120006-5-79d6-3b6e-c0d0-5942-d00d",
     "history": [
      {
       "current": "a7ce3812-876d-11ee-91d3-0242ac120006-1-79d6",
       "next": "a7ce3966-876d-11ee-91d3-0242ac120006",
       "previous": "8c52f5b6-787a-11ee-89fa-0242ac120005"
      },
      {
       "current": "a7ce3812-876d-11ee-91d3-0242ac120006-2-79d6-3b6e",
       "next": "a7ce3966-876d-11ee-91d3-0242ac120006-1-2611",
       "previous": "8c52f5b6-787a-11ee-89fa-0242ac120005-1-e5f4"
      },
      {
       "current": "a7ce3812-876d-11ee-91d3-0242ac120006-3-79d6-3b6e-c0d0",
       "next": "a7ce3966-876d-11ee-91d3-0242ac120006-2-2611-5e7b",
       "previous": "8c52f5b6-787a-11ee-89fa-0242ac120005-2-e5f4-ba54"
      },
      {
       "current": "a7ce3812-876d-11ee-91d3-0242ac120006-4-79d6-3b6e-c0d0-5942",
       "next": "a7ce3966-876d-11ee-91d3-0242ac120006-3-2611-5e7b-537b",
       "previous": "8c52f5b6-787a-11ee-89fa-0242ac120005-3-e5f4-ba54-be5f"
      },
      {
       "current": "a7ce3812-876d-11ee-91d3-0242ac120006-5-79d6-3b6e-c0d0-5942-d00d",
       "next": "a7ce3966-876d-11ee-91d3-0242ac120006-4-2611-5e7b-537b-3301",
       "previous": "8c52f5b6-787a-11ee-89fa-0242ac120005-4-e5f4-ba54-be5f-8d8f"
      }
     ],
     "next": "a7ce3966-876d-11ee-91d3-0242ac120006-5-2611-5e7b-537b-3301-f6f6",
     "previous": "8c52f5b6-787a-11ee-89fa-0242ac120005-5-e5f4-ba54-be5f-8d8f-5a01"
    }
   },
   "source": [
    "# 各サービス稼働状態確認"
   ]
  },
  {
   "cell_type": "code",
   "execution_count": null,
   "metadata": {
    "lc_cell_meme": {
     "current": "a7ce3966-876d-11ee-91d3-0242ac120006-5-2611-5e7b-537b-3301-f6f6",
     "history": [
      {
       "current": "a7ce3966-876d-11ee-91d3-0242ac120006-1-2611",
       "next": "35c581ba-55a3-11e7-b0b2-00163e9c0e35-3-f60b-133a-40ef",
       "previous": "a7ce3812-876d-11ee-91d3-0242ac120006"
      },
      {
       "current": "a7ce3966-876d-11ee-91d3-0242ac120006-1-2611",
       "next": "64ea0844-97e6-11ee-91d3-0242ac120006",
       "previous": "a7ce3812-876d-11ee-91d3-0242ac120006-1-79d6"
      },
      {
       "current": "a7ce3966-876d-11ee-91d3-0242ac120006-2-2611-5e7b",
       "next": "35c581ba-55a3-11e7-b0b2-00163e9c0e35-4-f60b-133a-40ef-606c",
       "previous": "a7ce3812-876d-11ee-91d3-0242ac120006-1-79d6"
      },
      {
       "current": "a7ce3966-876d-11ee-91d3-0242ac120006-3-2611-5e7b-537b",
       "next": "35c581ba-55a3-11e7-b0b2-00163e9c0e35-5-f60b-133a-40ef-606c-ff6b",
       "previous": "a7ce3812-876d-11ee-91d3-0242ac120006-2-79d6-3b6e"
      },
      {
       "current": "a7ce3966-876d-11ee-91d3-0242ac120006-3-2611-5e7b-537b",
       "next": "35c581ba-55a3-11e7-b0b2-00163e9c0e35-6-f60b-133a-40ef-606c-ff6b-7a35",
       "previous": "a7ce3812-876d-11ee-91d3-0242ac120006-3-79d6-3b6e-c0d0"
      },
      {
       "current": "a7ce3966-876d-11ee-91d3-0242ac120006-4-2611-5e7b-537b-3301",
       "next": "6c658a52-27b6-11ef-ad2f-0242ac120005",
       "previous": "a7ce3812-876d-11ee-91d3-0242ac120006-3-79d6-3b6e-c0d0"
      },
      {
       "current": "a7ce3966-876d-11ee-91d3-0242ac120006-5-2611-5e7b-537b-3301-f6f6",
       "next": "6c658a52-27b6-11ef-ad2f-0242ac120005-1-3266",
       "previous": "a7ce3812-876d-11ee-91d3-0242ac120006-4-79d6-3b6e-c0d0-5942"
      }
     ],
     "next": "6c658a52-27b6-11ef-ad2f-0242ac120005-2-3266-2a01",
     "previous": "a7ce3812-876d-11ee-91d3-0242ac120006-5-79d6-3b6e-c0d0-5942-d00d"
    }
   },
   "outputs": [],
   "source": [
    "!ansible -b -m shell -a \"cephadm shell -- ceph orch ls 2> /dev/null\" bootstrap"
   ]
  },
  {
   "cell_type": "code",
   "execution_count": null,
   "metadata": {
    "lc_cell_meme": {
     "current": "6c658a52-27b6-11ef-ad2f-0242ac120005-2-3266-2a01",
     "history": [
      {
       "current": "6c658a52-27b6-11ef-ad2f-0242ac120005-1-3266",
       "next": "35c581ba-55a3-11e7-b0b2-00163e9c0e35-6-f60b-133a-40ef-606c-ff6b-7a35",
       "previous": "a7ce3966-876d-11ee-91d3-0242ac120006-3-2611-5e7b-537b"
      },
      {
       "current": "6c658a52-27b6-11ef-ad2f-0242ac120005-2-3266-2a01",
       "next": "35c581ba-55a3-11e7-b0b2-00163e9c0e35-7-f60b-133a-40ef-606c-ff6b-7a35-d914",
       "previous": "a7ce3966-876d-11ee-91d3-0242ac120006-4-2611-5e7b-537b-3301"
      }
     ],
     "next": "35c581ba-55a3-11e7-b0b2-00163e9c0e35-8-f60b-133a-40ef-606c-ff6b-7a35-d914-b20b",
     "previous": "a7ce3966-876d-11ee-91d3-0242ac120006-5-2611-5e7b-537b-3301-f6f6"
    }
   },
   "outputs": [],
   "source": [
    "!ansible -b -m shell -a \"cephadm shell -- ceph -s 2> /dev/null\" bootstrap"
   ]
  },
  {
   "cell_type": "markdown",
   "metadata": {
    "collapsed": true,
    "lc_cell_meme": {
     "current": "35c581ba-55a3-11e7-b0b2-00163e9c0e35-8-f60b-133a-40ef-606c-ff6b-7a35-d914-b20b",
     "history": [
      {
       "current": "35c581ba-55a3-11e7-b0b2-00163e9c0e35",
       "next": "35c58340-55a3-11e7-b0b2-00163e9c0e35",
       "previous": "35c58034-55a3-11e7-b0b2-00163e9c0e35"
      },
      {
       "current": "35c581ba-55a3-11e7-b0b2-00163e9c0e35",
       "next": "35c58340-55a3-11e7-b0b2-00163e9c0e35",
       "previous": "35c51928-55a3-11e7-b0b2-00163e9c0e35"
      },
      {
       "current": "35c581ba-55a3-11e7-b0b2-00163e9c0e35",
       "next": "35c58340-55a3-11e7-b0b2-00163e9c0e35",
       "previous": "277a614c-47b9-11ea-a028-0242ac120005"
      },
      {
       "current": "35c581ba-55a3-11e7-b0b2-00163e9c0e35",
       "next": "35c58340-55a3-11e7-b0b2-00163e9c0e35",
       "previous": "35c51928-55a3-11e7-b0b2-00163e9c0e35"
      },
      {
       "current": "35c581ba-55a3-11e7-b0b2-00163e9c0e35",
       "next": "35c58340-55a3-11e7-b0b2-00163e9c0e35",
       "previous": "b8a85906-47b6-11ea-a028-0242ac120005"
      },
      {
       "current": "35c581ba-55a3-11e7-b0b2-00163e9c0e35",
       "next": "35c58340-55a3-11e7-b0b2-00163e9c0e35",
       "previous": "35c38fae-55a3-11e7-b0b2-00163e9c0e35"
      },
      {
       "current": "35c581ba-55a3-11e7-b0b2-00163e9c0e35",
       "next": "35c58340-55a3-11e7-b0b2-00163e9c0e35",
       "previous": "35c385a4-55a3-11e7-b0b2-00163e9c0e35"
      },
      {
       "current": "35c581ba-55a3-11e7-b0b2-00163e9c0e35",
       "next": "35c58340-55a3-11e7-b0b2-00163e9c0e35",
       "previous": "27c39180-935b-11ea-8d02-0242ac120007"
      },
      {
       "current": "35c581ba-55a3-11e7-b0b2-00163e9c0e35",
       "next": "35c58340-55a3-11e7-b0b2-00163e9c0e35",
       "previous": "35c385a4-55a3-11e7-b0b2-00163e9c0e35"
      },
      {
       "current": "35c581ba-55a3-11e7-b0b2-00163e9c0e35",
       "next": "35c58340-55a3-11e7-b0b2-00163e9c0e35",
       "previous": "b20d6ace-9684-11ea-8d02-0242ac120007"
      },
      {
       "current": "35c581ba-55a3-11e7-b0b2-00163e9c0e35",
       "next": "35c58340-55a3-11e7-b0b2-00163e9c0e35",
       "previous": "18b837c6-9686-11ea-8d02-0242ac120007"
      },
      {
       "current": "35c581ba-55a3-11e7-b0b2-00163e9c0e35",
       "next": "35c58340-55a3-11e7-b0b2-00163e9c0e35",
       "previous": "59de09f6-9686-11ea-8d02-0242ac120007"
      },
      {
       "current": "35c581ba-55a3-11e7-b0b2-00163e9c0e35",
       "next": "35c58340-55a3-11e7-b0b2-00163e9c0e35",
       "previous": "7dae8b30-9686-11ea-8d02-0242ac120007"
      },
      {
       "current": "35c581ba-55a3-11e7-b0b2-00163e9c0e35",
       "next": "35c58340-55a3-11e7-b0b2-00163e9c0e35",
       "previous": "789942dc-9692-11ea-8d02-0242ac120007"
      },
      {
       "current": "35c581ba-55a3-11e7-b0b2-00163e9c0e35",
       "next": "35c58340-55a3-11e7-b0b2-00163e9c0e35",
       "previous": "e95d003a-9697-11ea-8d02-0242ac120007"
      },
      {
       "current": "35c581ba-55a3-11e7-b0b2-00163e9c0e35",
       "next": "35c58340-55a3-11e7-b0b2-00163e9c0e35",
       "previous": "357fc83a-969d-11ea-8d02-0242ac120007"
      },
      {
       "current": "35c581ba-55a3-11e7-b0b2-00163e9c0e35",
       "next": "35c58340-55a3-11e7-b0b2-00163e9c0e35",
       "previous": "7dae86da-9686-11ea-8d02-0242ac120007"
      },
      {
       "current": "35c581ba-55a3-11e7-b0b2-00163e9c0e35",
       "next": "35c58340-55a3-11e7-b0b2-00163e9c0e35",
       "previous": "49102d8c-98a9-11ea-8d02-0242ac120007"
      },
      {
       "current": "35c581ba-55a3-11e7-b0b2-00163e9c0e35",
       "next": "35c58340-55a3-11e7-b0b2-00163e9c0e35",
       "previous": "dbe917aa-9984-11ea-8d02-0242ac120007"
      },
      {
       "current": "35c581ba-55a3-11e7-b0b2-00163e9c0e35",
       "next": "35c58340-55a3-11e7-b0b2-00163e9c0e35",
       "previous": "f9f7c1a0-9985-11ea-8d02-0242ac120007"
      },
      {
       "current": "35c581ba-55a3-11e7-b0b2-00163e9c0e35",
       "next": "35c58340-55a3-11e7-b0b2-00163e9c0e35",
       "previous": "4180e646-9986-11ea-8d02-0242ac120007"
      },
      {
       "current": "35c581ba-55a3-11e7-b0b2-00163e9c0e35",
       "next": "35c58340-55a3-11e7-b0b2-00163e9c0e35",
       "previous": "eea7aafc-9987-11ea-8d02-0242ac120007"
      },
      {
       "current": "35c581ba-55a3-11e7-b0b2-00163e9c0e35",
       "next": "35c58340-55a3-11e7-b0b2-00163e9c0e35",
       "previous": "7db36be6-9988-11ea-8d02-0242ac120007"
      },
      {
       "current": "35c581ba-55a3-11e7-b0b2-00163e9c0e35",
       "next": "35c58340-55a3-11e7-b0b2-00163e9c0e35",
       "previous": "7db36a7e-9988-11ea-8d02-0242ac120007"
      },
      {
       "current": "35c581ba-55a3-11e7-b0b2-00163e9c0e35",
       "next": "35c58340-55a3-11e7-b0b2-00163e9c0e35",
       "previous": "f3e7d364-998e-11ea-8d02-0242ac120007"
      },
      {
       "current": "35c581ba-55a3-11e7-b0b2-00163e9c0e35-1-f60b",
       "next": "35c58340-55a3-11e7-b0b2-00163e9c0e35",
       "previous": "b0a33f46-98ce-11ea-8d02-0242ac120007"
      },
      {
       "current": "35c581ba-55a3-11e7-b0b2-00163e9c0e35-2-f60b-133a",
       "next": "35c58340-55a3-11e7-b0b2-00163e9c0e35-1-c0ce",
       "previous": "b0a33f46-98ce-11ea-8d02-0242ac120007-1-1e51"
      },
      {
       "current": "35c581ba-55a3-11e7-b0b2-00163e9c0e35-2-f60b-133a",
       "next": "35c58340-55a3-11e7-b0b2-00163e9c0e35-2-c0ce-9618",
       "previous": "b0a33f46-98ce-11ea-8d02-0242ac120007-2-1e51-b1e8"
      },
      {
       "current": "35c581ba-55a3-11e7-b0b2-00163e9c0e35-2-f60b-133a",
       "next": "35c58340-55a3-11e7-b0b2-00163e9c0e35-2-c0ce-9618",
       "previous": "d0769ffa-98bc-11ea-8d02-0242ac120007-2-9994-0723"
      },
      {
       "current": "35c581ba-55a3-11e7-b0b2-00163e9c0e35-2-f60b-133a",
       "next": "35c58340-55a3-11e7-b0b2-00163e9c0e35-2-c0ce-9618",
       "previous": "bc16cb02-dfce-11eb-b29f-0242ac120008"
      },
      {
       "current": "35c581ba-55a3-11e7-b0b2-00163e9c0e35-2-f60b-133a",
       "next": "35c58340-55a3-11e7-b0b2-00163e9c0e35-2-c0ce-9618",
       "previous": "7cf7d994-f4ea-11eb-b29f-0242ac120008"
      },
      {
       "current": "35c581ba-55a3-11e7-b0b2-00163e9c0e35-2-f60b-133a",
       "next": "35c58340-55a3-11e7-b0b2-00163e9c0e35-2-c0ce-9618",
       "previous": "204647a2-f4eb-11eb-b29f-0242ac120008"
      },
      {
       "current": "35c581ba-55a3-11e7-b0b2-00163e9c0e35-2-f60b-133a",
       "next": "35c58340-55a3-11e7-b0b2-00163e9c0e35-2-c0ce-9618",
       "previous": "798c29c4-9a06-11ec-a1da-0242ac120004"
      },
      {
       "current": "35c581ba-55a3-11e7-b0b2-00163e9c0e35-3-f60b-133a-40ef",
       "next": "35c58340-55a3-11e7-b0b2-00163e9c0e35-2-c0ce-9618",
       "previous": "204647a2-f4eb-11eb-b29f-0242ac120008"
      },
      {
       "current": "35c581ba-55a3-11e7-b0b2-00163e9c0e35-3-f60b-133a-40ef",
       "next": "35c58340-55a3-11e7-b0b2-00163e9c0e35-3-c0ce-9618-7032",
       "previous": "204647a2-f4eb-11eb-b29f-0242ac120008-1-10f9"
      },
      {
       "current": "35c581ba-55a3-11e7-b0b2-00163e9c0e35-3-f60b-133a-40ef",
       "next": "35c58340-55a3-11e7-b0b2-00163e9c0e35-3-c0ce-9618-7032",
       "previous": "3c6cb112-4bb2-11ee-89fa-0242ac120005"
      },
      {
       "current": "35c581ba-55a3-11e7-b0b2-00163e9c0e35-3-f60b-133a-40ef",
       "next": "35c58340-55a3-11e7-b0b2-00163e9c0e35-3-c0ce-9618-7032",
       "previous": "d619a970-6195-11ee-89fa-0242ac120005"
      },
      {
       "current": "35c581ba-55a3-11e7-b0b2-00163e9c0e35-3-f60b-133a-40ef",
       "next": "35c58340-55a3-11e7-b0b2-00163e9c0e35-3-c0ce-9618-7032",
       "previous": "d954180a-61bd-11ee-89fa-0242ac120005"
      },
      {
       "current": "35c581ba-55a3-11e7-b0b2-00163e9c0e35-3-f60b-133a-40ef",
       "next": "35c58340-55a3-11e7-b0b2-00163e9c0e35-3-c0ce-9618-7032",
       "previous": "8f9c98ce-716a-11ee-89fa-0242ac120005"
      },
      {
       "current": "35c581ba-55a3-11e7-b0b2-00163e9c0e35-3-f60b-133a-40ef",
       "next": "35c58340-55a3-11e7-b0b2-00163e9c0e35-3-c0ce-9618-7032",
       "previous": "3ce444ae-716c-11ee-89fa-0242ac120005"
      },
      {
       "current": "35c581ba-55a3-11e7-b0b2-00163e9c0e35-3-f60b-133a-40ef",
       "next": "35c58340-55a3-11e7-b0b2-00163e9c0e35-3-c0ce-9618-7032",
       "previous": "31f71398-7877-11ee-89fa-0242ac120005"
      },
      {
       "current": "35c581ba-55a3-11e7-b0b2-00163e9c0e35-3-f60b-133a-40ef",
       "next": "35c58340-55a3-11e7-b0b2-00163e9c0e35-3-c0ce-9618-7032",
       "previous": "8c52f84a-787a-11ee-89fa-0242ac120005"
      },
      {
       "current": "35c581ba-55a3-11e7-b0b2-00163e9c0e35-3-f60b-133a-40ef",
       "next": "35c58340-55a3-11e7-b0b2-00163e9c0e35-3-c0ce-9618-7032",
       "previous": "d15989fa-7888-11ee-89fa-0242ac120005"
      },
      {
       "current": "35c581ba-55a3-11e7-b0b2-00163e9c0e35-3-f60b-133a-40ef",
       "next": "35c58340-55a3-11e7-b0b2-00163e9c0e35-3-c0ce-9618-7032",
       "previous": "180f42ec-7d14-11ee-89fa-0242ac120005"
      },
      {
       "current": "35c581ba-55a3-11e7-b0b2-00163e9c0e35-3-f60b-133a-40ef",
       "next": "35c58340-55a3-11e7-b0b2-00163e9c0e35-3-c0ce-9618-7032",
       "previous": "d15989fa-7888-11ee-89fa-0242ac120005"
      },
      {
       "current": "35c581ba-55a3-11e7-b0b2-00163e9c0e35-3-f60b-133a-40ef",
       "next": "35c58340-55a3-11e7-b0b2-00163e9c0e35-3-c0ce-9618-7032",
       "previous": "0f18571c-7d16-11ee-89fa-0242ac120005"
      },
      {
       "current": "35c581ba-55a3-11e7-b0b2-00163e9c0e35-3-f60b-133a-40ef",
       "next": "35c58340-55a3-11e7-b0b2-00163e9c0e35-3-c0ce-9618-7032",
       "previous": "0f18571c-7d16-11ee-89fa-0242ac120005-1-6c98"
      },
      {
       "current": "35c581ba-55a3-11e7-b0b2-00163e9c0e35-3-f60b-133a-40ef",
       "next": "35c58340-55a3-11e7-b0b2-00163e9c0e35-3-c0ce-9618-7032",
       "previous": "4f25b46c-8766-11ee-91d3-0242ac120006"
      },
      {
       "current": "35c581ba-55a3-11e7-b0b2-00163e9c0e35-3-f60b-133a-40ef",
       "next": "35c58340-55a3-11e7-b0b2-00163e9c0e35-3-c0ce-9618-7032",
       "previous": "4f25b35e-8766-11ee-91d3-0242ac120006"
      },
      {
       "current": "35c581ba-55a3-11e7-b0b2-00163e9c0e35-3-f60b-133a-40ef",
       "next": "35c58340-55a3-11e7-b0b2-00163e9c0e35-3-c0ce-9618-7032",
       "previous": "42b35aae-876b-11ee-91d3-0242ac120006"
      },
      {
       "current": "35c581ba-55a3-11e7-b0b2-00163e9c0e35-3-f60b-133a-40ef",
       "next": "35c58340-55a3-11e7-b0b2-00163e9c0e35-3-c0ce-9618-7032",
       "previous": "8c52f5b6-787a-11ee-89fa-0242ac120005"
      },
      {
       "current": "35c581ba-55a3-11e7-b0b2-00163e9c0e35-4-f60b-133a-40ef-606c",
       "next": "35c58340-55a3-11e7-b0b2-00163e9c0e35-3-c0ce-9618-7032",
       "previous": "a7ce3966-876d-11ee-91d3-0242ac120006"
      },
      {
       "current": "35c581ba-55a3-11e7-b0b2-00163e9c0e35-4-f60b-133a-40ef-606c",
       "next": "35c58340-55a3-11e7-b0b2-00163e9c0e35-4-c0ce-9618-7032-d53e",
       "previous": "64ea09fc-97e6-11ee-91d3-0242ac120006"
      },
      {
       "current": "35c581ba-55a3-11e7-b0b2-00163e9c0e35-4-f60b-133a-40ef-606c",
       "next": "35c58340-55a3-11e7-b0b2-00163e9c0e35-4-c0ce-9618-7032-d53e",
       "previous": "ac6d21ce-97e6-11ee-91d3-0242ac120006"
      },
      {
       "current": "35c581ba-55a3-11e7-b0b2-00163e9c0e35-4-f60b-133a-40ef-606c",
       "next": "35c58340-55a3-11e7-b0b2-00163e9c0e35-4-c0ce-9618-7032-d53e",
       "previous": "ee962c94-97e6-11ee-91d3-0242ac120006"
      },
      {
       "current": "35c581ba-55a3-11e7-b0b2-00163e9c0e35-4-f60b-133a-40ef-606c",
       "next": "35c58340-55a3-11e7-b0b2-00163e9c0e35-4-c0ce-9618-7032-d53e",
       "previous": "a23147ce-97e8-11ee-91d3-0242ac120006"
      },
      {
       "current": "35c581ba-55a3-11e7-b0b2-00163e9c0e35-4-f60b-133a-40ef-606c",
       "next": "35c58340-55a3-11e7-b0b2-00163e9c0e35-4-c0ce-9618-7032-d53e",
       "previous": "2f41fa5e-0851-11ef-9d3e-0242ac120006"
      },
      {
       "current": "35c581ba-55a3-11e7-b0b2-00163e9c0e35-5-f60b-133a-40ef-606c-ff6b",
       "next": "35c58340-55a3-11e7-b0b2-00163e9c0e35-4-c0ce-9618-7032-d53e",
       "previous": "a7ce3966-876d-11ee-91d3-0242ac120006-1-2611"
      },
      {
       "current": "35c581ba-55a3-11e7-b0b2-00163e9c0e35-6-f60b-133a-40ef-606c-ff6b-7a35",
       "next": "35c58340-55a3-11e7-b0b2-00163e9c0e35-5-c0ce-9618-7032-d53e-24f0",
       "previous": "a7ce3966-876d-11ee-91d3-0242ac120006-2-2611-5e7b"
      },
      {
       "current": "35c581ba-55a3-11e7-b0b2-00163e9c0e35-6-f60b-133a-40ef-606c-ff6b-7a35",
       "next": "35c58340-55a3-11e7-b0b2-00163e9c0e35-6-c0ce-9618-7032-d53e-24f0-a8c8",
       "previous": "a7ce3966-876d-11ee-91d3-0242ac120006-3-2611-5e7b-537b"
      },
      {
       "current": "35c581ba-55a3-11e7-b0b2-00163e9c0e35-7-f60b-133a-40ef-606c-ff6b-7a35-d914",
       "next": "35c58340-55a3-11e7-b0b2-00163e9c0e35-6-c0ce-9618-7032-d53e-24f0-a8c8",
       "previous": "6c658a52-27b6-11ef-ad2f-0242ac120005"
      },
      {
       "current": "35c581ba-55a3-11e7-b0b2-00163e9c0e35-8-f60b-133a-40ef-606c-ff6b-7a35-d914-b20b",
       "next": "35c58340-55a3-11e7-b0b2-00163e9c0e35-7-c0ce-9618-7032-d53e-24f0-a8c8-4885",
       "previous": "6c658a52-27b6-11ef-ad2f-0242ac120005-1-3266"
      }
     ],
     "next": "35c58340-55a3-11e7-b0b2-00163e9c0e35-8-c0ce-9618-7032-d53e-24f0-a8c8-4885-8b0d",
     "previous": "6c658a52-27b6-11ef-ad2f-0242ac120005-2-3266-2a01"
    }
   },
   "source": [
    "# 後始末\n",
    "\n",
    "一時ディレクトリを削除する。"
   ]
  },
  {
   "cell_type": "code",
   "execution_count": null,
   "metadata": {
    "ExecuteTime": {
     "end_time": "2017-06-29T08:01:20.617274Z",
     "start_time": "2017-06-29T08:01:20.466671Z"
    },
    "lc_cell_meme": {
     "current": "35c58340-55a3-11e7-b0b2-00163e9c0e35-8-c0ce-9618-7032-d53e-24f0-a8c8-4885-8b0d",
     "history": [
      {
       "current": "35c58340-55a3-11e7-b0b2-00163e9c0e35",
       "next": null,
       "previous": "35c581ba-55a3-11e7-b0b2-00163e9c0e35"
      },
      {
       "current": "35c58340-55a3-11e7-b0b2-00163e9c0e35-1-c0ce",
       "next": "c4bd8ce4-5749-11e7-b0b2-00163e9c0e35",
       "previous": "35c581ba-55a3-11e7-b0b2-00163e9c0e35"
      },
      {
       "current": "35c58340-55a3-11e7-b0b2-00163e9c0e35-2-c0ce-9618",
       "next": "c4bd8ce4-5749-11e7-b0b2-00163e9c0e35-1-6c35",
       "previous": "35c581ba-55a3-11e7-b0b2-00163e9c0e35-1-f60b"
      },
      {
       "current": "35c58340-55a3-11e7-b0b2-00163e9c0e35-3-c0ce-9618-7032",
       "next": "c4bd8ce4-5749-11e7-b0b2-00163e9c0e35-2-6c35-ebfb",
       "previous": "35c581ba-55a3-11e7-b0b2-00163e9c0e35-2-f60b-133a"
      },
      {
       "current": "35c58340-55a3-11e7-b0b2-00163e9c0e35-4-c0ce-9618-7032-d53e",
       "next": "c4bd8ce4-5749-11e7-b0b2-00163e9c0e35-3-6c35-ebfb-793f",
       "previous": "35c581ba-55a3-11e7-b0b2-00163e9c0e35-3-f60b-133a-40ef"
      },
      {
       "current": "35c58340-55a3-11e7-b0b2-00163e9c0e35-5-c0ce-9618-7032-d53e-24f0",
       "next": "c4bd8ce4-5749-11e7-b0b2-00163e9c0e35-4-6c35-ebfb-793f-1c69",
       "previous": "35c581ba-55a3-11e7-b0b2-00163e9c0e35-4-f60b-133a-40ef-606c"
      },
      {
       "current": "35c58340-55a3-11e7-b0b2-00163e9c0e35-6-c0ce-9618-7032-d53e-24f0-a8c8",
       "next": "c4bd8ce4-5749-11e7-b0b2-00163e9c0e35-5-6c35-ebfb-793f-1c69-7179",
       "previous": "35c581ba-55a3-11e7-b0b2-00163e9c0e35-5-f60b-133a-40ef-606c-ff6b"
      },
      {
       "current": "35c58340-55a3-11e7-b0b2-00163e9c0e35-7-c0ce-9618-7032-d53e-24f0-a8c8-4885",
       "next": "c4bd8ce4-5749-11e7-b0b2-00163e9c0e35-6-6c35-ebfb-793f-1c69-7179-f403",
       "previous": "35c581ba-55a3-11e7-b0b2-00163e9c0e35-6-f60b-133a-40ef-606c-ff6b-7a35"
      },
      {
       "current": "35c58340-55a3-11e7-b0b2-00163e9c0e35-8-c0ce-9618-7032-d53e-24f0-a8c8-4885-8b0d",
       "next": "c4bd8ce4-5749-11e7-b0b2-00163e9c0e35-7-6c35-ebfb-793f-1c69-7179-f403-42e3",
       "previous": "35c581ba-55a3-11e7-b0b2-00163e9c0e35-7-f60b-133a-40ef-606c-ff6b-7a35-d914"
      }
     ],
     "next": "c4bd8ce4-5749-11e7-b0b2-00163e9c0e35-8-6c35-ebfb-793f-1c69-7179-f403-42e3-7ec5",
     "previous": "35c581ba-55a3-11e7-b0b2-00163e9c0e35-8-f60b-133a-40ef-606c-ff6b-7a35-d914-b20b"
    }
   },
   "outputs": [],
   "source": [
    "!rm -fr $temp_dir"
   ]
  },
  {
   "cell_type": "code",
   "execution_count": null,
   "metadata": {
    "lc_cell_meme": {
     "current": "c4bd8ce4-5749-11e7-b0b2-00163e9c0e35-8-6c35-ebfb-793f-1c69-7179-f403-42e3-7ec5",
     "history": [
      {
       "current": "c4bd8ce4-5749-11e7-b0b2-00163e9c0e35-1-6c35",
       "next": null,
       "previous": "35c58340-55a3-11e7-b0b2-00163e9c0e35"
      },
      {
       "current": "c4bd8ce4-5749-11e7-b0b2-00163e9c0e35-2-6c35-ebfb",
       "next": null,
       "previous": "35c58340-55a3-11e7-b0b2-00163e9c0e35-1-c0ce"
      },
      {
       "current": "c4bd8ce4-5749-11e7-b0b2-00163e9c0e35-3-6c35-ebfb-793f",
       "next": null,
       "previous": "35c58340-55a3-11e7-b0b2-00163e9c0e35-2-c0ce-9618"
      },
      {
       "current": "c4bd8ce4-5749-11e7-b0b2-00163e9c0e35-4-6c35-ebfb-793f-1c69",
       "next": null,
       "previous": "35c58340-55a3-11e7-b0b2-00163e9c0e35-3-c0ce-9618-7032"
      },
      {
       "current": "c4bd8ce4-5749-11e7-b0b2-00163e9c0e35-5-6c35-ebfb-793f-1c69-7179",
       "next": null,
       "previous": "35c58340-55a3-11e7-b0b2-00163e9c0e35-4-c0ce-9618-7032-d53e"
      },
      {
       "current": "c4bd8ce4-5749-11e7-b0b2-00163e9c0e35-6-6c35-ebfb-793f-1c69-7179-f403",
       "next": null,
       "previous": "35c58340-55a3-11e7-b0b2-00163e9c0e35-5-c0ce-9618-7032-d53e-24f0"
      },
      {
       "current": "c4bd8ce4-5749-11e7-b0b2-00163e9c0e35-7-6c35-ebfb-793f-1c69-7179-f403-42e3",
       "next": null,
       "previous": "35c58340-55a3-11e7-b0b2-00163e9c0e35-6-c0ce-9618-7032-d53e-24f0-a8c8"
      },
      {
       "current": "c4bd8ce4-5749-11e7-b0b2-00163e9c0e35-8-6c35-ebfb-793f-1c69-7179-f403-42e3-7ec5",
       "next": null,
       "previous": "35c58340-55a3-11e7-b0b2-00163e9c0e35-7-c0ce-9618-7032-d53e-24f0-a8c8-4885"
      }
     ],
     "next": null,
     "previous": "35c58340-55a3-11e7-b0b2-00163e9c0e35-8-c0ce-9618-7032-d53e-24f0-a8c8-4885-8b0d"
    }
   },
   "outputs": [],
   "source": []
  }
 ],
 "metadata": {
  "kernelspec": {
   "display_name": "Python 3",
   "language": "python",
   "name": "python3"
  },
  "language_info": {
   "file_extension": ".py",
   "mimetype": "text/x-python",
   "name": "python",
   "nbconvert_exporter": "python",
   "pygments_lexer": "ipython3",
   "version": "3.10.4"
  },
  "lc_notebook_meme": {
   "current": "35c33086-55a3-11e7-b0b2-00163e9c0e35"
  },
  "toc": {
   "base_numbering": 1,
   "nav_menu": {
    "height": "484px",
    "width": "687px"
   },
   "number_sections": true,
   "sideBar": true,
   "skip_h1_title": false,
   "title_cell": "Table of Contents",
   "title_sidebar": "Contents",
   "toc_cell": false,
   "toc_position": {
    "height": "1156px",
    "left": "0px",
    "right": "1330px",
    "top": "106px",
    "width": "340.983px"
   },
   "toc_section_display": "block",
   "toc_window_display": true
  }
 },
 "nbformat": 4,
 "nbformat_minor": 1
}
